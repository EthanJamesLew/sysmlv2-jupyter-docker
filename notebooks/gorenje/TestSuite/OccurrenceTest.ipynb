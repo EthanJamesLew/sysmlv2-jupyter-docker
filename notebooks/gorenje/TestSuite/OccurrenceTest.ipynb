{
 "cells": [
  {
   "cell_type": "markdown",
   "id": "5c87afda",
   "metadata": {},
   "source": [
    "# SysML v2 Test Suite\n",
    "\n",
    "This can notebook can be cleared using menu `Edit --> Clear All Outputs` and then all cells can be\n",
    "run using menu `Run --> Run All Cells`.\n",
    "\n",
    "**WARNING**: This file is generated, all modifications here will be ignored.\n"
   ]
  },
  {
   "cell_type": "markdown",
   "id": "b498f61c",
   "metadata": {},
   "source": [
    "## File: ../../sysml/src/examples/Simple Tests/OccurrenceTest.sysml"
   ]
  },
  {
   "cell_type": "code",
   "execution_count": 1,
   "id": "97bffac1",
   "metadata": {
    "execution": {
     "iopub.execute_input": "2021-10-03T08:28:41.275481Z",
     "iopub.status.busy": "2021-10-03T08:28:41.274383Z",
     "iopub.status.idle": "2021-10-03T08:28:41.470433Z",
     "shell.execute_reply": "2021-10-03T08:28:41.470129Z"
    }
   },
   "outputs": [
    {
     "data": {
      "text/plain": [
       "Package OccurrenceTest (a78ae478-94b2-4626-90ed-627c93feb579)\n"
      ]
     },
     "execution_count": 1,
     "metadata": {},
     "output_type": "execute_result"
    }
   ],
   "source": [
    "package OccurrenceTest {\n",
    "\toccurrence def Occ {\n",
    "\t\tattribute a;\n",
    "\t\tref occurrence occ1 : Occ;\n",
    "\t\toccurrence occ2 : Occ;\n",
    "\t\t\n",
    "\t\tindividual snapshot s : Ind;\n",
    "\t\ttimeslice t;\n",
    "\t}\n",
    "\n",
    "\tindividual occurrence def Ind {\n",
    "\t\tsnapshot s2;\n",
    "\t\ttimeslice t2;\n",
    "\t}\n",
    "\tindividual occurrence ind : Ind, Occ {\n",
    "\t\tsnapshot s3;\n",
    "\t\tindividual timeslice t3;\n",
    "\t}\n",
    "\t\n",
    "\tindividual snapshot s4 : Ind;\n",
    "}"
   ]
  },
  {
   "cell_type": "code",
   "execution_count": 2,
   "id": "bc56486c",
   "metadata": {
    "execution": {
     "iopub.execute_input": "2021-10-03T08:28:41.521624Z",
     "iopub.status.busy": "2021-10-03T08:28:41.521298Z",
     "iopub.status.idle": "2021-10-03T08:28:42.070382Z",
     "shell.execute_reply": "2021-10-03T08:28:42.068240Z"
    }
   },
   "outputs": [
    {
     "data": {
      "image/svg+xml": [
       "<?xml version=\"1.0\" encoding=\"UTF-8\" standalone=\"no\"?><svg xmlns=\"http://www.w3.org/2000/svg\" xmlns:xlink=\"http://www.w3.org/1999/xlink\" contentScriptType=\"application/ecmascript\" contentStyleType=\"text/css\" height=\"569px\" preserveAspectRatio=\"none\" style=\"width:1009px;height:569px;\" version=\"1.1\" viewBox=\"0 0 1009 569\" width=\"1009px\" zoomAndPan=\"magnify\"><defs/><g><!--MD5=[fbc87193dbaf4d95561dea2c320d4a47]\n",
       "cluster E1--><a href=\"psysml:e6ab502d-dafd-416a-a255-3fa3ad3c263c\" target=\"_top\" title=\"psysml:e6ab502d-dafd-416a-a255-3fa3ad3c263c\" xlink:actuate=\"onRequest\" xlink:href=\"psysml:e6ab502d-dafd-416a-a255-3fa3ad3c263c\" xlink:show=\"new\" xlink:title=\"psysml:e6ab502d-dafd-416a-a255-3fa3ad3c263c\" xlink:type=\"simple\"><polygon fill=\"#FFFFFF\" points=\"16,6,134,6,141,28.2969,970,28.2969,970,557,16,557,16,6\" style=\"stroke: #000000; stroke-width: 1.5;\"/><line style=\"stroke: #000000; stroke-width: 1.5;\" x1=\"16\" x2=\"141\" y1=\"28.2969\" y2=\"28.2969\"/><text fill=\"#000000\" font-family=\"sans-serif\" font-size=\"14\" font-weight=\"bold\" lengthAdjust=\"spacingAndGlyphs\" textLength=\"112\" x=\"20\" y=\"20.9951\">OccurrenceTest</text></a><!--MD5=[b4997ac47864f28c2f74865a473b2911]\n",
       "class E2--><a href=\"psysml:1203d309-d98c-452c-84ab-9db93e8b8d83\" target=\"_top\" title=\"psysml:1203d309-d98c-452c-84ab-9db93e8b8d83\" xlink:actuate=\"onRequest\" xlink:href=\"psysml:1203d309-d98c-452c-84ab-9db93e8b8d83\" xlink:show=\"new\" xlink:title=\"psysml:1203d309-d98c-452c-84ab-9db93e8b8d83\" xlink:type=\"simple\"><rect fill=\"#FFFFFF\" height=\"75.5469\" id=\"E2\" style=\"stroke: #383838; stroke-width: 1.5;\" width=\"111\" x=\"377.5\" y=\"147\"/><text fill=\"#000000\" font-family=\"sans-serif\" font-size=\"12\" font-style=\"italic\" lengthAdjust=\"spacingAndGlyphs\" textLength=\"109\" x=\"378.5\" y=\"163.1387\">«occurrence def»</text><text fill=\"#000000\" font-family=\"sans-serif\" font-size=\"12\" lengthAdjust=\"spacingAndGlyphs\" textLength=\"23\" x=\"421.5\" y=\"177.1074\">Occ</text><line style=\"stroke: #383838; stroke-width: 1.5;\" x1=\"378.5\" x2=\"487.5\" y1=\"184.9375\" y2=\"184.9375\"/><text fill=\"#000000\" font-family=\"sans-serif\" font-size=\"11\" lengthAdjust=\"spacingAndGlyphs\" textLength=\"7\" x=\"383.5\" y=\"215.9526\">a</text><line style=\"stroke: #383838; stroke-width: 1.0;\" x1=\"378.5\" x2=\"405.5\" y1=\"199.3398\" y2=\"199.3398\"/><text fill=\"#000000\" font-family=\"sans-serif\" font-size=\"11\" lengthAdjust=\"spacingAndGlyphs\" textLength=\"55\" x=\"405.5\" y=\"202.6479\">attributes</text><line style=\"stroke: #383838; stroke-width: 1.0;\" x1=\"460.5\" x2=\"487.5\" y1=\"199.3398\" y2=\"199.3398\"/></a><!--MD5=[09b614a08d8cba4a07c9adeb5e0fee81]\n",
       "class E3--><a href=\"psysml:158a345e-3640-4aa1-8638-58b6699698f0\" target=\"_top\" title=\"psysml:158a345e-3640-4aa1-8638-58b6699698f0\" xlink:actuate=\"onRequest\" xlink:href=\"psysml:158a345e-3640-4aa1-8638-58b6699698f0\" xlink:show=\"new\" xlink:title=\"psysml:158a345e-3640-4aa1-8638-58b6699698f0\" xlink:type=\"simple\"><rect fill=\"#FFFFFF\" height=\"45.9375\" id=\"E3\" rx=\"10\" ry=\"10\" style=\"stroke: #383838; stroke-width: 1.5;\" width=\"87\" x=\"279.5\" y=\"283\"/><text fill=\"#000000\" font-family=\"sans-serif\" font-size=\"12\" font-style=\"italic\" lengthAdjust=\"spacingAndGlyphs\" textLength=\"85\" x=\"280.5\" y=\"299.1387\">«occurrence»</text><text fill=\"#000000\" font-family=\"sans-serif\" font-size=\"12\" lengthAdjust=\"spacingAndGlyphs\" textLength=\"61\" x=\"292.5\" y=\"313.1074\">occ1: Occ</text><line style=\"stroke: #383838; stroke-width: 1.5;\" x1=\"280.5\" x2=\"365.5\" y1=\"320.9375\" y2=\"320.9375\"/></a><!--MD5=[ebbe1d658d1005bcc118a6aa81145e00]\n",
       "class E4--><a href=\"psysml:5ccc27c3-07b1-4713-880e-82008912fb62\" target=\"_top\" title=\"psysml:5ccc27c3-07b1-4713-880e-82008912fb62\" xlink:actuate=\"onRequest\" xlink:href=\"psysml:5ccc27c3-07b1-4713-880e-82008912fb62\" xlink:show=\"new\" xlink:title=\"psysml:5ccc27c3-07b1-4713-880e-82008912fb62\" xlink:type=\"simple\"><rect fill=\"#FFFFFF\" height=\"45.9375\" id=\"E4\" rx=\"10\" ry=\"10\" style=\"stroke: #383838; stroke-width: 1.5;\" width=\"87\" x=\"401.5\" y=\"283\"/><text fill=\"#000000\" font-family=\"sans-serif\" font-size=\"12\" font-style=\"italic\" lengthAdjust=\"spacingAndGlyphs\" textLength=\"85\" x=\"402.5\" y=\"299.1387\">«occurrence»</text><text fill=\"#000000\" font-family=\"sans-serif\" font-size=\"12\" lengthAdjust=\"spacingAndGlyphs\" textLength=\"61\" x=\"414.5\" y=\"313.1074\">occ2: Occ</text><line style=\"stroke: #383838; stroke-width: 1.5;\" x1=\"402.5\" x2=\"487.5\" y1=\"320.9375\" y2=\"320.9375\"/></a><!--MD5=[270fce915f116d4de14055a7c1d9a0f3]\n",
       "class E5--><a href=\"psysml:b931cfcd-d1f5-4c70-b44c-3b4fd21c9018\" target=\"_top\" title=\"psysml:b931cfcd-d1f5-4c70-b44c-3b4fd21c9018\" xlink:actuate=\"onRequest\" xlink:href=\"psysml:b931cfcd-d1f5-4c70-b44c-3b4fd21c9018\" xlink:show=\"new\" xlink:title=\"psysml:b931cfcd-d1f5-4c70-b44c-3b4fd21c9018\" xlink:type=\"simple\"><rect fill=\"#FFFFFF\" height=\"45.9375\" id=\"E5\" rx=\"10\" ry=\"10\" style=\"stroke: #383838; stroke-width: 1.5;\" width=\"212\" x=\"524\" y=\"283\"/><text fill=\"#000000\" font-family=\"sans-serif\" font-size=\"12\" font-style=\"italic\" lengthAdjust=\"spacingAndGlyphs\" textLength=\"210\" x=\"525\" y=\"299.1387\">«individual snapshot occurrence»</text><text fill=\"#000000\" font-family=\"sans-serif\" font-size=\"12\" lengthAdjust=\"spacingAndGlyphs\" textLength=\"34\" x=\"613\" y=\"313.1074\">s: Ind</text><line style=\"stroke: #383838; stroke-width: 1.5;\" x1=\"525\" x2=\"735\" y1=\"320.9375\" y2=\"320.9375\"/></a><!--MD5=[60a26617385b1d2d0262a64233df1f8d]\n",
       "class E6--><a href=\"psysml:a76dffb5-cb4a-4142-b15c-9dbeb6bd2474\" target=\"_top\" title=\"psysml:a76dffb5-cb4a-4142-b15c-9dbeb6bd2474\" xlink:actuate=\"onRequest\" xlink:href=\"psysml:a76dffb5-cb4a-4142-b15c-9dbeb6bd2474\" xlink:show=\"new\" xlink:title=\"psysml:a76dffb5-cb4a-4142-b15c-9dbeb6bd2474\" xlink:type=\"simple\"><rect fill=\"#FFFFFF\" height=\"45.9375\" id=\"E6\" rx=\"10\" ry=\"10\" style=\"stroke: #383838; stroke-width: 1.5;\" width=\"146\" x=\"771\" y=\"283\"/><text fill=\"#000000\" font-family=\"sans-serif\" font-size=\"12\" font-style=\"italic\" lengthAdjust=\"spacingAndGlyphs\" textLength=\"144\" x=\"772\" y=\"299.1387\">«timeslice occurrence»</text><text fill=\"#000000\" font-family=\"sans-serif\" font-size=\"12\" lengthAdjust=\"spacingAndGlyphs\" textLength=\"5\" x=\"841.5\" y=\"313.1074\">t</text><line style=\"stroke: #383838; stroke-width: 1.5;\" x1=\"772\" x2=\"916\" y1=\"320.9375\" y2=\"320.9375\"/></a><!--MD5=[2156ba9850f5573cc1fc38a6a4b2f02b]\n",
       "class E7--><a href=\"psysml:cddcce1d-840d-4259-9672-1cad32ef9616\" target=\"_top\" title=\"psysml:cddcce1d-840d-4259-9672-1cad32ef9616\" xlink:actuate=\"onRequest\" xlink:href=\"psysml:cddcce1d-840d-4259-9672-1cad32ef9616\" xlink:show=\"new\" xlink:title=\"psysml:cddcce1d-840d-4259-9672-1cad32ef9616\" xlink:type=\"simple\"><rect fill=\"#FFFFFF\" height=\"45.9375\" id=\"E7\" style=\"stroke: #383838; stroke-width: 1.5;\" width=\"173\" x=\"543.5\" y=\"389\"/><text fill=\"#000000\" font-family=\"sans-serif\" font-size=\"12\" font-style=\"italic\" lengthAdjust=\"spacingAndGlyphs\" textLength=\"171\" x=\"544.5\" y=\"405.1387\">«individual occurrence def»</text><text fill=\"#000000\" font-family=\"sans-serif\" font-size=\"12\" lengthAdjust=\"spacingAndGlyphs\" textLength=\"19\" x=\"620.5\" y=\"419.1074\">Ind</text><line style=\"stroke: #383838; stroke-width: 1.5;\" x1=\"544.5\" x2=\"715.5\" y1=\"426.9375\" y2=\"426.9375\"/></a><!--MD5=[b9389687b975829384b498ac4b7476b2]\n",
       "class E8--><a href=\"psysml:760118bf-f26e-45fa-9528-0dbdf12ed33d\" target=\"_top\" title=\"psysml:760118bf-f26e-45fa-9528-0dbdf12ed33d\" xlink:actuate=\"onRequest\" xlink:href=\"psysml:760118bf-f26e-45fa-9528-0dbdf12ed33d\" xlink:show=\"new\" xlink:title=\"psysml:760118bf-f26e-45fa-9528-0dbdf12ed33d\" xlink:type=\"simple\"><rect fill=\"#FFFFFF\" height=\"45.9375\" id=\"E8\" rx=\"10\" ry=\"10\" style=\"stroke: #383838; stroke-width: 1.5;\" width=\"150\" x=\"463\" y=\"495\"/><text fill=\"#000000\" font-family=\"sans-serif\" font-size=\"12\" font-style=\"italic\" lengthAdjust=\"spacingAndGlyphs\" textLength=\"148\" x=\"464\" y=\"511.1387\">«snapshot occurrence»</text><text fill=\"#000000\" font-family=\"sans-serif\" font-size=\"12\" lengthAdjust=\"spacingAndGlyphs\" textLength=\"15\" x=\"530.5\" y=\"525.1074\">s2</text><line style=\"stroke: #383838; stroke-width: 1.5;\" x1=\"464\" x2=\"612\" y1=\"532.9375\" y2=\"532.9375\"/></a><!--MD5=[fd4143e9d270a159db93a4ea2a975926]\n",
       "class E9--><a href=\"psysml:6916c4a6-d3e9-4718-9bd3-b4da3843528f\" target=\"_top\" title=\"psysml:6916c4a6-d3e9-4718-9bd3-b4da3843528f\" xlink:actuate=\"onRequest\" xlink:href=\"psysml:6916c4a6-d3e9-4718-9bd3-b4da3843528f\" xlink:show=\"new\" xlink:title=\"psysml:6916c4a6-d3e9-4718-9bd3-b4da3843528f\" xlink:type=\"simple\"><rect fill=\"#FFFFFF\" height=\"45.9375\" id=\"E9\" rx=\"10\" ry=\"10\" style=\"stroke: #383838; stroke-width: 1.5;\" width=\"146\" x=\"648\" y=\"495\"/><text fill=\"#000000\" font-family=\"sans-serif\" font-size=\"12\" font-style=\"italic\" lengthAdjust=\"spacingAndGlyphs\" textLength=\"144\" x=\"649\" y=\"511.1387\">«timeslice occurrence»</text><text fill=\"#000000\" font-family=\"sans-serif\" font-size=\"12\" lengthAdjust=\"spacingAndGlyphs\" textLength=\"13\" x=\"714.5\" y=\"525.1074\">t2</text><line style=\"stroke: #383838; stroke-width: 1.5;\" x1=\"649\" x2=\"793\" y1=\"532.9375\" y2=\"532.9375\"/></a><!--MD5=[96f4274e9e20536e775497830990834d]\n",
       "class E10--><a href=\"psysml:ca3e4eae-d888-4010-bdf5-da81d89d1eab\" target=\"_top\" title=\"psysml:ca3e4eae-d888-4010-bdf5-da81d89d1eab\" xlink:actuate=\"onRequest\" xlink:href=\"psysml:ca3e4eae-d888-4010-bdf5-da81d89d1eab\" xlink:show=\"new\" xlink:title=\"psysml:ca3e4eae-d888-4010-bdf5-da81d89d1eab\" xlink:type=\"simple\"><rect fill=\"#FFFFFF\" height=\"45.9375\" id=\"E10\" rx=\"10\" ry=\"10\" style=\"stroke: #383838; stroke-width: 1.5;\" width=\"149\" x=\"505.5\" y=\"41\"/><text fill=\"#000000\" font-family=\"sans-serif\" font-size=\"12\" font-style=\"italic\" lengthAdjust=\"spacingAndGlyphs\" textLength=\"147\" x=\"506.5\" y=\"57.1387\">«individual occurrence»</text><text fill=\"#000000\" font-family=\"sans-serif\" font-size=\"12\" lengthAdjust=\"spacingAndGlyphs\" textLength=\"77\" x=\"541.5\" y=\"71.1074\">ind: Ind, Occ</text><line style=\"stroke: #383838; stroke-width: 1.5;\" x1=\"506.5\" x2=\"653.5\" y1=\"78.9375\" y2=\"78.9375\"/></a><!--MD5=[1dd1bfd58a279cf63c5f349dbc8fc6a1]\n",
       "class E11--><a href=\"psysml:a7aa12fc-e204-4f0a-90f2-9ab0101a123a\" target=\"_top\" title=\"psysml:a7aa12fc-e204-4f0a-90f2-9ab0101a123a\" xlink:actuate=\"onRequest\" xlink:href=\"psysml:a7aa12fc-e204-4f0a-90f2-9ab0101a123a\" xlink:show=\"new\" xlink:title=\"psysml:a7aa12fc-e204-4f0a-90f2-9ab0101a123a\" xlink:type=\"simple\"><rect fill=\"#FFFFFF\" height=\"45.9375\" id=\"E11\" rx=\"10\" ry=\"10\" style=\"stroke: #383838; stroke-width: 1.5;\" width=\"150\" x=\"561\" y=\"162\"/><text fill=\"#000000\" font-family=\"sans-serif\" font-size=\"12\" font-style=\"italic\" lengthAdjust=\"spacingAndGlyphs\" textLength=\"148\" x=\"562\" y=\"178.1387\">«snapshot occurrence»</text><text fill=\"#000000\" font-family=\"sans-serif\" font-size=\"12\" lengthAdjust=\"spacingAndGlyphs\" textLength=\"15\" x=\"628.5\" y=\"192.1074\">s3</text><line style=\"stroke: #383838; stroke-width: 1.5;\" x1=\"562\" x2=\"710\" y1=\"199.9375\" y2=\"199.9375\"/></a><!--MD5=[49a0ec8f00dab7302a31f22d0f0fe584]\n",
       "class E12--><a href=\"psysml:5052c3e9-886b-4521-8bf3-18ad9cb470c5\" target=\"_top\" title=\"psysml:5052c3e9-886b-4521-8bf3-18ad9cb470c5\" xlink:actuate=\"onRequest\" xlink:href=\"psysml:5052c3e9-886b-4521-8bf3-18ad9cb470c5\" xlink:show=\"new\" xlink:title=\"psysml:5052c3e9-886b-4521-8bf3-18ad9cb470c5\" xlink:type=\"simple\"><rect fill=\"#FFFFFF\" height=\"45.9375\" id=\"E12\" rx=\"10\" ry=\"10\" style=\"stroke: #383838; stroke-width: 1.5;\" width=\"208\" x=\"746\" y=\"162\"/><text fill=\"#000000\" font-family=\"sans-serif\" font-size=\"12\" font-style=\"italic\" lengthAdjust=\"spacingAndGlyphs\" textLength=\"206\" x=\"747\" y=\"178.1387\">«individual timeslice occurrence»</text><text fill=\"#000000\" font-family=\"sans-serif\" font-size=\"12\" lengthAdjust=\"spacingAndGlyphs\" textLength=\"13\" x=\"843.5\" y=\"192.1074\">t3</text><line style=\"stroke: #383838; stroke-width: 1.5;\" x1=\"747\" x2=\"953\" y1=\"199.9375\" y2=\"199.9375\"/></a><!--MD5=[ee3c913d1a06f366521f9ef512b67efe]\n",
       "class E13--><a href=\"psysml:e6d8c0e1-46dd-40c0-98f9-8ea23118f8bb\" target=\"_top\" title=\"psysml:e6d8c0e1-46dd-40c0-98f9-8ea23118f8bb\" xlink:actuate=\"onRequest\" xlink:href=\"psysml:e6d8c0e1-46dd-40c0-98f9-8ea23118f8bb\" xlink:show=\"new\" xlink:title=\"psysml:e6d8c0e1-46dd-40c0-98f9-8ea23118f8bb\" xlink:type=\"simple\"><rect fill=\"#FFFFFF\" height=\"45.9375\" id=\"E13\" rx=\"10\" ry=\"10\" style=\"stroke: #383838; stroke-width: 1.5;\" width=\"212\" x=\"32\" y=\"283\"/><text fill=\"#000000\" font-family=\"sans-serif\" font-size=\"12\" font-style=\"italic\" lengthAdjust=\"spacingAndGlyphs\" textLength=\"210\" x=\"33\" y=\"299.1387\">«individual snapshot occurrence»</text><text fill=\"#000000\" font-family=\"sans-serif\" font-size=\"12\" lengthAdjust=\"spacingAndGlyphs\" textLength=\"42\" x=\"117\" y=\"313.1074\">s4: Ind</text><line style=\"stroke: #383838; stroke-width: 1.5;\" x1=\"33\" x2=\"243\" y1=\"320.9375\" y2=\"320.9375\"/></a><!--MD5=[209b3feb70ccb6233bfe1053d122c12c]\n",
       "reverse link E2 to E3--><a href=\"psysml:816d5179-2674-4631-83bc-f7d71b4237a7\" target=\"_top\" title=\"psysml:816d5179-2674-4631-83bc-f7d71b4237a7\" xlink:actuate=\"onRequest\" xlink:href=\"psysml:816d5179-2674-4631-83bc-f7d71b4237a7\" xlink:show=\"new\" xlink:title=\"psysml:816d5179-2674-4631-83bc-f7d71b4237a7\" xlink:type=\"simple\"><path d=\"M377.59,232.45 C360.78,249.83 344.04,268.76 333.23,282.93 \" fill=\"none\" id=\"E2&lt;-E3\" style=\"stroke: #383838; stroke-width: 1.0;\"/><polygon fill=\"#FFFFFF\" points=\"386.9,223,379.8401,224.4691,378.4809,231.5509,385.5407,230.0818,386.9,223\" style=\"stroke: #383838; stroke-width: 1.0;\"/></a><!--MD5=[05d275557350bfb9b23a4ef7222b4c39]\n",
       "link E3 to E2--><a href=\"psysml:eb3070f5-b0ea-4331-ac23-68f76765f53a\" target=\"_top\" title=\"psysml:eb3070f5-b0ea-4331-ac23-68f76765f53a\" xlink:actuate=\"onRequest\" xlink:href=\"psysml:eb3070f5-b0ea-4331-ac23-68f76765f53a\" xlink:show=\"new\" xlink:title=\"psysml:eb3070f5-b0ea-4331-ac23-68f76765f53a\" xlink:type=\"simple\"><path d=\"M354.17,282.93 C367.96,270.34 383.96,253.98 398.07,238.29 \" fill=\"none\" id=\"E3-&gt;E2\" style=\"stroke: #383838; stroke-width: 1.0;\"/><polygon fill=\"#FFFFFF\" points=\"411.4,223,404.1971,241.924,393.6412,232.7276,411.4,223\" style=\"stroke: #383838; stroke-width: 1.0;\"/><ellipse cx=\"398.9449\" cy=\"244.908\" fill=\"#383838\" rx=\"2\" ry=\"2\" style=\"stroke: #383838; stroke-width: 1.0;\"/><ellipse cx=\"391.405\" cy=\"238.3391\" fill=\"#383838\" rx=\"2\" ry=\"2\" style=\"stroke: #383838; stroke-width: 1.0;\"/></a><!--MD5=[9618e71518536f8baf3342ff6fdab317]\n",
       "reverse link E2 to E4--><a href=\"psysml:0447f336-2e88-4877-9a74-bac22478a75a\" target=\"_top\" title=\"psysml:0447f336-2e88-4877-9a74-bac22478a75a\" xlink:actuate=\"onRequest\" xlink:href=\"psysml:0447f336-2e88-4877-9a74-bac22478a75a\" xlink:show=\"new\" xlink:title=\"psysml:0447f336-2e88-4877-9a74-bac22478a75a\" xlink:type=\"simple\"><path d=\"M425.46,236.34 C426.62,252.61 429.17,269.81 432.6,282.93 \" fill=\"none\" id=\"E2&lt;-E4\" style=\"stroke: #383838; stroke-width: 1.0;\"/><polygon fill=\"#383838\" points=\"424.83,223,421.118,229.1823,425.397,234.9866,429.109,228.8043,424.83,223\" style=\"stroke: #383838; stroke-width: 1.0;\"/></a><!--MD5=[185131fc0dcab0a4505a2ebe144e961b]\n",
       "link E4 to E2--><a href=\"psysml:bbe7f0c0-75f0-4d42-b38b-c0f55f25890a\" target=\"_top\" title=\"psysml:bbe7f0c0-75f0-4d42-b38b-c0f55f25890a\" xlink:actuate=\"onRequest\" xlink:href=\"psysml:bbe7f0c0-75f0-4d42-b38b-c0f55f25890a\" xlink:show=\"new\" xlink:title=\"psysml:bbe7f0c0-75f0-4d42-b38b-c0f55f25890a\" xlink:type=\"simple\"><path d=\"M453.54,282.93 C454.33,271.65 453.8,257.34 452.26,243.21 \" fill=\"none\" id=\"E4-&gt;E2\" style=\"stroke: #383838; stroke-width: 1.0;\"/><polygon fill=\"#FFFFFF\" points=\"449.33,223,458.9844,240.7987,445.1294,242.8079,449.33,223\" style=\"stroke: #383838; stroke-width: 1.0;\"/><ellipse cx=\"457.8232\" cy=\"246.7267\" fill=\"#383838\" rx=\"2\" ry=\"2\" style=\"stroke: #383838; stroke-width: 1.0;\"/><ellipse cx=\"447.9267\" cy=\"248.1619\" fill=\"#383838\" rx=\"2\" ry=\"2\" style=\"stroke: #383838; stroke-width: 1.0;\"/></a><!--MD5=[4e1a83fab71cdb913c109063314ae896]\n",
       "reverse link E2 to E5--><a href=\"psysml:5c44c5f5-a434-4c27-9e5d-4b118f9f4fa1\" target=\"_top\" title=\"psysml:5c44c5f5-a434-4c27-9e5d-4b118f9f4fa1\" xlink:actuate=\"onRequest\" xlink:href=\"psysml:5c44c5f5-a434-4c27-9e5d-4b118f9f4fa1\" xlink:show=\"new\" xlink:title=\"psysml:5c44c5f5-a434-4c27-9e5d-4b118f9f4fa1\" xlink:type=\"simple\"><path d=\"M499.94,226.44 C531.22,245.33 567.25,267.1 593.44,282.92 \" fill=\"none\" id=\"E2&lt;-E5\" style=\"stroke: #383838; stroke-width: 1.0;\"/><polygon fill=\"#383838\" points=\"488.66,219.62,491.731,226.1445,498.9348,225.8191,495.8638,219.2947,488.66,219.62\" style=\"stroke: #383838; stroke-width: 1.0;\"/></a><!--MD5=[ce036f65110ae2351ccce5a81dc2e928]\n",
       "reverse link E2 to E6--><a href=\"psysml:f84da050-0b5f-49f5-998e-9b704fc66ebc\" target=\"_top\" title=\"psysml:f84da050-0b5f-49f5-998e-9b704fc66ebc\" xlink:actuate=\"onRequest\" xlink:href=\"psysml:f84da050-0b5f-49f5-998e-9b704fc66ebc\" xlink:show=\"new\" xlink:title=\"psysml:f84da050-0b5f-49f5-998e-9b704fc66ebc\" xlink:type=\"simple\"><path d=\"M501.1,217.48 C506.1,219.45 511.11,221.31 516,223 C528.17,227.2 677.81,264.18 770.71,287.02 \" fill=\"none\" id=\"E2&lt;-E6\" style=\"stroke: #383838; stroke-width: 1.0;\"/><polygon fill=\"#383838\" points=\"488.72,212.43,492.764,218.4004,499.8305,216.9638,495.7866,210.9934,488.72,212.43\" style=\"stroke: #383838; stroke-width: 1.0;\"/><text fill=\"#000000\" font-family=\"sans-serif\" font-size=\"13\" lengthAdjust=\"spacingAndGlyphs\" textLength=\"7\" x=\"755.791\" y=\"281.3662\">*</text></a><!--MD5=[3a9b96bfbf6b6ad89c494e81751bda47]\n",
       "link E5 to E7--><a href=\"psysml:5222325c-bb46-4e39-81f0-12dbae43365a\" target=\"_top\" title=\"psysml:5222325c-bb46-4e39-81f0-12dbae43365a\" xlink:actuate=\"onRequest\" xlink:href=\"psysml:5222325c-bb46-4e39-81f0-12dbae43365a\" xlink:show=\"new\" xlink:title=\"psysml:5222325c-bb46-4e39-81f0-12dbae43365a\" xlink:type=\"simple\"><path d=\"M630,329.06 C630,340.64 630,355.23 630,368.87 \" fill=\"none\" id=\"E5-&gt;E7\" style=\"stroke: #383838; stroke-width: 1.0;\"/><polygon fill=\"#FFFFFF\" points=\"630,388.98,623,369.98,637,369.98,630,388.98\" style=\"stroke: #383838; stroke-width: 1.0;\"/><ellipse cx=\"625\" cy=\"364.28\" fill=\"#383838\" rx=\"2\" ry=\"2\" style=\"stroke: #383838; stroke-width: 1.0;\"/><ellipse cx=\"635\" cy=\"364.28\" fill=\"#383838\" rx=\"2\" ry=\"2\" style=\"stroke: #383838; stroke-width: 1.0;\"/></a><!--MD5=[dc164f5e8a733ab456ef1add180e9e34]\n",
       "reverse link E7 to E8--><a href=\"psysml:62bbb331-bb03-464e-9e32-68694608bffc\" target=\"_top\" title=\"psysml:62bbb331-bb03-464e-9e32-68694608bffc\" xlink:actuate=\"onRequest\" xlink:href=\"psysml:62bbb331-bb03-464e-9e32-68694608bffc\" xlink:show=\"new\" xlink:title=\"psysml:62bbb331-bb03-464e-9e32-68694608bffc\" xlink:type=\"simple\"><path d=\"M601.55,445.16 C587.25,461.33 570.28,480.51 557.48,494.98 \" fill=\"none\" id=\"E7&lt;-E8\" style=\"stroke: #383838; stroke-width: 1.0;\"/><polygon fill=\"#383838\" points=\"610.49,435.06,603.5177,436.9004,602.5348,444.0442,609.5071,442.2038,610.49,435.06\" style=\"stroke: #383838; stroke-width: 1.0;\"/><text fill=\"#000000\" font-family=\"sans-serif\" font-size=\"13\" lengthAdjust=\"spacingAndGlyphs\" textLength=\"7\" x=\"554.7746\" y=\"483.8709\">*</text></a><!--MD5=[e4a10ef82d0e328e31cac39a31e58dda]\n",
       "reverse link E7 to E9--><a href=\"psysml:6940b1aa-8c0f-4381-86aa-7b3e10e8c0d6\" target=\"_top\" title=\"psysml:6940b1aa-8c0f-4381-86aa-7b3e10e8c0d6\" xlink:actuate=\"onRequest\" xlink:href=\"psysml:6940b1aa-8c0f-4381-86aa-7b3e10e8c0d6\" xlink:show=\"new\" xlink:title=\"psysml:6940b1aa-8c0f-4381-86aa-7b3e10e8c0d6\" xlink:type=\"simple\"><path d=\"M658.14,445.16 C672.29,461.33 689.07,480.51 701.73,494.98 \" fill=\"none\" id=\"E7&lt;-E9\" style=\"stroke: #383838; stroke-width: 1.0;\"/><polygon fill=\"#383838\" points=\"649.3,435.06,650.2496,442.2083,657.2133,444.0811,656.2637,436.9328,649.3,435.06\" style=\"stroke: #383838; stroke-width: 1.0;\"/><text fill=\"#000000\" font-family=\"sans-serif\" font-size=\"13\" lengthAdjust=\"spacingAndGlyphs\" textLength=\"7\" x=\"688.6106\" y=\"483.8709\">*</text></a><!--MD5=[a919e0967d6f3de553dc51b9865a1d6d]\n",
       "link E10 to E7--><a href=\"psysml:2d47db94-d209-4d22-9eae-73bfc16721f5\" target=\"_top\" title=\"psysml:2d47db94-d209-4d22-9eae-73bfc16721f5\" xlink:actuate=\"onRequest\" xlink:href=\"psysml:2d47db94-d209-4d22-9eae-73bfc16721f5\" xlink:show=\"new\" xlink:title=\"psysml:2d47db94-d209-4d22-9eae-73bfc16721f5\" xlink:type=\"simple\"><path d=\"M564.36,87.23 C542.92,120.68 510.65,184.15 544,223 C658.5,356.41 820.5,149.59 935,283 C997.65,355.99 847.73,388.27 736.59,401.86 \" fill=\"none\" id=\"E10-&gt;E7\" style=\"stroke: #383838; stroke-width: 1.0;\"/><polygon fill=\"#FFFFFF\" points=\"716.7,404.14,734.7756,395.0147,736.3754,408.923,716.7,404.14\" style=\"stroke: #383838; stroke-width: 1.0;\"/><ellipse cx=\"740.6668\" cy=\"396.3502\" fill=\"#383838\" rx=\"2\" ry=\"2\" style=\"stroke: #383838; stroke-width: 1.0;\"/><ellipse cx=\"741.8096\" cy=\"406.2847\" fill=\"#383838\" rx=\"2\" ry=\"2\" style=\"stroke: #383838; stroke-width: 1.0;\"/></a><!--MD5=[0f36bececdf0dff6e600d6f64214b0f1]\n",
       "link E10 to E2--><a href=\"psysml:6622b004-fc37-43f3-bc42-fdfacc696359\" target=\"_top\" title=\"psysml:6622b004-fc37-43f3-bc42-fdfacc696359\" xlink:actuate=\"onRequest\" xlink:href=\"psysml:6622b004-fc37-43f3-bc42-fdfacc696359\" xlink:show=\"new\" xlink:title=\"psysml:6622b004-fc37-43f3-bc42-fdfacc696359\" xlink:type=\"simple\"><path d=\"M552.69,87.1 C536.38,100.31 514.96,117.65 494.76,134.01 \" fill=\"none\" id=\"E10-&gt;E2\" style=\"stroke: #383838; stroke-width: 1.0;\"/><polygon fill=\"#FFFFFF\" points=\"478.94,146.81,489.301,129.4131,498.1112,140.2934,478.94,146.81\" style=\"stroke: #383838; stroke-width: 1.0;\"/><ellipse cx=\"494.9894\" cy=\"127.3805\" fill=\"#383838\" rx=\"2\" ry=\"2\" style=\"stroke: #383838; stroke-width: 1.0;\"/><ellipse cx=\"501.2824\" cy=\"135.1521\" fill=\"#383838\" rx=\"2\" ry=\"2\" style=\"stroke: #383838; stroke-width: 1.0;\"/></a><!--MD5=[de308be4a2431766a05a907a031c07fc]\n",
       "reverse link E10 to E11--><a href=\"psysml:973d09ca-2c85-400b-8a26-6e03e711a9dc\" target=\"_top\" title=\"psysml:973d09ca-2c85-400b-8a26-6e03e711a9dc\" xlink:actuate=\"onRequest\" xlink:href=\"psysml:973d09ca-2c85-400b-8a26-6e03e711a9dc\" xlink:show=\"new\" xlink:title=\"psysml:973d09ca-2c85-400b-8a26-6e03e711a9dc\" xlink:type=\"simple\"><path d=\"M595.95,98.9 C605.42,119.01 617.15,143.94 625.46,161.61 \" fill=\"none\" id=\"E10&lt;-E11\" style=\"stroke: #383838; stroke-width: 1.0;\"/><polygon fill=\"#383838\" points=\"590.4,87.1,589.3334,94.2318,595.5064,97.9593,596.573,90.8275,590.4,87.1\" style=\"stroke: #383838; stroke-width: 1.0;\"/></a><!--MD5=[1d54f998c6d5961a1a9184be73a7eb6c]\n",
       "reverse link E10 to E12--><a href=\"psysml:4b2dc275-57bf-47aa-bec9-3fe53972a958\" target=\"_top\" title=\"psysml:4b2dc275-57bf-47aa-bec9-3fe53972a958\" xlink:actuate=\"onRequest\" xlink:href=\"psysml:4b2dc275-57bf-47aa-bec9-3fe53972a958\" xlink:show=\"new\" xlink:title=\"psysml:4b2dc275-57bf-47aa-bec9-3fe53972a958\" xlink:type=\"simple\"><path d=\"M642.21,92.42 C689.99,113.48 755.13,142.19 799.66,161.81 \" fill=\"none\" id=\"E10&lt;-E12\" style=\"stroke: #383838; stroke-width: 1.0;\"/><polygon fill=\"#383838\" points=\"630.15,87.1,634.028,93.1796,641.1314,91.9382,637.2534,85.8586,630.15,87.1\" style=\"stroke: #383838; stroke-width: 1.0;\"/></a><!--MD5=[4a48077df6499cfcd20b62e8f5f37904]\n",
       "link E13 to E7--><a href=\"psysml:99db2ce7-7db4-4747-aea3-ba596a45b862\" target=\"_top\" title=\"psysml:99db2ce7-7db4-4747-aea3-ba596a45b862\" xlink:actuate=\"onRequest\" xlink:href=\"psysml:99db2ce7-7db4-4747-aea3-ba596a45b862\" xlink:show=\"new\" xlink:title=\"psysml:99db2ce7-7db4-4747-aea3-ba596a45b862\" xlink:type=\"simple\"><path d=\"M242.34,329.06 C325.16,346.56 440.49,370.94 523.8,388.55 \" fill=\"none\" id=\"E13-&gt;E7\" style=\"stroke: #383838; stroke-width: 1.0;\"/><polygon fill=\"#FFFFFF\" points=\"543.45,392.7,523.4123,395.6135,526.3115,381.917,543.45,392.7\" style=\"stroke: #383838; stroke-width: 1.0;\"/><ellipse cx=\"518.25\" cy=\"392.4765\" fill=\"#383838\" rx=\"2\" ry=\"2\" style=\"stroke: #383838; stroke-width: 1.0;\"/><ellipse cx=\"520.3209\" cy=\"382.6933\" fill=\"#383838\" rx=\"2\" ry=\"2\" style=\"stroke: #383838; stroke-width: 1.0;\"/></a><!--MD5=[813fcdde9825e8999808ba0a61a5336c]\n",
       "@startuml\r\n",
       " skinparam monochrome true\r\n",
       "skinparam classbackgroundcolor white\r\n",
       "skinparam shadowing false\r\n",
       "skinparam wrapWidth 300\r\n",
       "hide circle\r\n",
       "\r\n",
       "package \"OccurrenceTest\" as E1  [[psysml:e6ab502d-dafd-416a-a255-3fa3ad3c263c ]]  {\r\n",
       "comp def \"Occ\" as E2  <<(T,blue) occurrence def>> [[psysml:1203d309-d98c-452c-84ab-9db93e8b8d83 ]] {\r\n",
       "- - attributes - -\r\n",
       "a\r\n",
       "}\r\n",
       "comp usage \"occ1: Occ\" as E3  <<(T,blue) occurrence>> [[psysml:158a345e-3640-4aa1-8638-58b6699698f0 ]] {\r\n",
       "}\r\n",
       "comp usage \"occ2: Occ\" as E4  <<(T,blue) occurrence>> [[psysml:5ccc27c3-07b1-4713-880e-82008912fb62 ]] {\r\n",
       "}\r\n",
       "comp usage \"s: Ind\" as E5  <<(T,blue) individual snapshot occurrence>> [[psysml:b931cfcd-d1f5-4c70-b44c-3b4fd21c9018 ]] {\r\n",
       "}\r\n",
       "comp usage \"t\" as E6  <<(T,blue) timeslice occurrence>> [[psysml:a76dffb5-cb4a-4142-b15c-9dbeb6bd2474 ]] {\r\n",
       "}\r\n",
       "comp def \"Ind\" as E7  <<(T,blue) individual occurrence def>> [[psysml:cddcce1d-840d-4259-9672-1cad32ef9616 ]] {\r\n",
       "}\r\n",
       "comp usage \"s2\" as E8  <<(T,blue) snapshot occurrence>> [[psysml:760118bf-f26e-45fa-9528-0dbdf12ed33d ]] {\r\n",
       "}\r\n",
       "comp usage \"t2\" as E9  <<(T,blue) timeslice occurrence>> [[psysml:6916c4a6-d3e9-4718-9bd3-b4da3843528f ]] {\r\n",
       "}\r\n",
       "comp usage \"ind: Ind, Occ\" as E10  <<(T,blue) individual occurrence>> [[psysml:ca3e4eae-d888-4010-bdf5-da81d89d1eab ]] {\r\n",
       "}\r\n",
       "comp usage \"s3\" as E11  <<(T,blue) snapshot occurrence>> [[psysml:a7aa12fc-e204-4f0a-90f2-9ab0101a123a ]] {\r\n",
       "}\r\n",
       "comp usage \"t3\" as E12  <<(T,blue) individual timeslice occurrence>> [[psysml:5052c3e9-886b-4521-8bf3-18ad9cb470c5 ]] {\r\n",
       "}\r\n",
       "comp usage \"s4: Ind\" as E13  <<(T,blue) individual snapshot occurrence>> [[psysml:e6d8c0e1-46dd-40c0-98f9-8ea23118f8bb ]] {\r\n",
       "}\r\n",
       "}\r\n",
       "E2 o- - E3 [[psysml:816d5179-2674-4631-83bc-f7d71b4237a7 ]] \r\n",
       "E3 - -:|> E2 [[psysml:eb3070f5-b0ea-4331-ac23-68f76765f53a ]] \r\n",
       "E2 *- - E4 [[psysml:0447f336-2e88-4877-9a74-bac22478a75a ]] \r\n",
       "E4 - -:|> E2 [[psysml:bbe7f0c0-75f0-4d42-b38b-c0f55f25890a ]] \r\n",
       "E2 *- - E5 [[psysml:5c44c5f5-a434-4c27-9e5d-4b118f9f4fa1 ]] \r\n",
       "E2 *- - \"*\"E6 [[psysml:f84da050-0b5f-49f5-998e-9b704fc66ebc ]] \r\n",
       "E5 - -:|> E7 [[psysml:5222325c-bb46-4e39-81f0-12dbae43365a ]] \r\n",
       "E7 *- - \"*\"E8 [[psysml:62bbb331-bb03-464e-9e32-68694608bffc ]] \r\n",
       "E7 *- - \"*\"E9 [[psysml:6940b1aa-8c0f-4381-86aa-7b3e10e8c0d6 ]] \r\n",
       "E10 - -:|> E7 [[psysml:2d47db94-d209-4d22-9eae-73bfc16721f5 ]] \r\n",
       "E10 - -:|> E2 [[psysml:6622b004-fc37-43f3-bc42-fdfacc696359 ]] \r\n",
       "E10 *- - E11 [[psysml:973d09ca-2c85-400b-8a26-6e03e711a9dc ]] \r\n",
       "E10 *- - E12 [[psysml:4b2dc275-57bf-47aa-bec9-3fe53972a958 ]] \r\n",
       "E13 - -:|> E7 [[psysml:99db2ce7-7db4-4747-aea3-ba596a45b862 ]] \r\n",
       "@enduml\r\n",
       "\n",
       "PlantUML version 1.2020.13(Sat Jun 13 12:26:38 UTC 2020)\n",
       "(EPL source distribution)\n",
       "Java Runtime: OpenJDK Runtime Environment\n",
       "JVM: OpenJDK 64-Bit Server VM\n",
       "Default Encoding: UTF-8\n",
       "Language: en\n",
       "Country: null\n",
       "--></g></svg>"
      ]
     },
     "execution_count": 2,
     "metadata": {},
     "output_type": "execute_result"
    }
   ],
   "source": [
    "%viz --style=\"COMPTREE\" --view=\"Default\" \"OccurrenceTest\""
   ]
  },
  {
   "cell_type": "code",
   "execution_count": 3,
   "id": "b59705b6",
   "metadata": {
    "execution": {
     "iopub.execute_input": "2021-10-03T08:28:42.119212Z",
     "iopub.status.busy": "2021-10-03T08:28:42.118790Z",
     "iopub.status.idle": "2021-10-03T08:28:42.200935Z",
     "shell.execute_reply": "2021-10-03T08:28:42.198852Z"
    }
   },
   "outputs": [
    {
     "data": {
      "image/svg+xml": [
       "<?xml version=\"1.0\" encoding=\"UTF-8\" standalone=\"no\"?><svg xmlns=\"http://www.w3.org/2000/svg\" xmlns:xlink=\"http://www.w3.org/1999/xlink\" contentScriptType=\"application/ecmascript\" contentStyleType=\"text/css\" height=\"569px\" preserveAspectRatio=\"none\" style=\"width:1009px;height:569px;\" version=\"1.1\" viewBox=\"0 0 1009 569\" width=\"1009px\" zoomAndPan=\"magnify\"><defs/><g><!--MD5=[fbc87193dbaf4d95561dea2c320d4a47]\n",
       "cluster E1--><a href=\"psysml:e6ab502d-dafd-416a-a255-3fa3ad3c263c\" target=\"_top\" title=\"psysml:e6ab502d-dafd-416a-a255-3fa3ad3c263c\" xlink:actuate=\"onRequest\" xlink:href=\"psysml:e6ab502d-dafd-416a-a255-3fa3ad3c263c\" xlink:show=\"new\" xlink:title=\"psysml:e6ab502d-dafd-416a-a255-3fa3ad3c263c\" xlink:type=\"simple\"><polygon fill=\"#FFFFFF\" points=\"16,6,134,6,141,28.2969,970,28.2969,970,557,16,557,16,6\" style=\"stroke: #000000; stroke-width: 1.5;\"/><line style=\"stroke: #000000; stroke-width: 1.5;\" x1=\"16\" x2=\"141\" y1=\"28.2969\" y2=\"28.2969\"/><text fill=\"#000000\" font-family=\"sans-serif\" font-size=\"14\" font-weight=\"bold\" lengthAdjust=\"spacingAndGlyphs\" textLength=\"112\" x=\"20\" y=\"20.9951\">OccurrenceTest</text></a><!--MD5=[b4997ac47864f28c2f74865a473b2911]\n",
       "class E2--><a href=\"psysml:1203d309-d98c-452c-84ab-9db93e8b8d83\" target=\"_top\" title=\"psysml:1203d309-d98c-452c-84ab-9db93e8b8d83\" xlink:actuate=\"onRequest\" xlink:href=\"psysml:1203d309-d98c-452c-84ab-9db93e8b8d83\" xlink:show=\"new\" xlink:title=\"psysml:1203d309-d98c-452c-84ab-9db93e8b8d83\" xlink:type=\"simple\"><rect fill=\"#FFFFFF\" height=\"75.5469\" id=\"E2\" style=\"stroke: #383838; stroke-width: 1.5;\" width=\"111\" x=\"377.5\" y=\"147\"/><text fill=\"#000000\" font-family=\"sans-serif\" font-size=\"12\" font-style=\"italic\" lengthAdjust=\"spacingAndGlyphs\" textLength=\"109\" x=\"378.5\" y=\"163.1387\">«occurrence def»</text><text fill=\"#000000\" font-family=\"sans-serif\" font-size=\"12\" lengthAdjust=\"spacingAndGlyphs\" textLength=\"23\" x=\"421.5\" y=\"177.1074\">Occ</text><line style=\"stroke: #383838; stroke-width: 1.5;\" x1=\"378.5\" x2=\"487.5\" y1=\"184.9375\" y2=\"184.9375\"/><text fill=\"#000000\" font-family=\"sans-serif\" font-size=\"11\" lengthAdjust=\"spacingAndGlyphs\" textLength=\"7\" x=\"383.5\" y=\"215.9526\">a</text><line style=\"stroke: #383838; stroke-width: 1.0;\" x1=\"378.5\" x2=\"405.5\" y1=\"199.3398\" y2=\"199.3398\"/><text fill=\"#000000\" font-family=\"sans-serif\" font-size=\"11\" lengthAdjust=\"spacingAndGlyphs\" textLength=\"55\" x=\"405.5\" y=\"202.6479\">attributes</text><line style=\"stroke: #383838; stroke-width: 1.0;\" x1=\"460.5\" x2=\"487.5\" y1=\"199.3398\" y2=\"199.3398\"/></a><!--MD5=[09b614a08d8cba4a07c9adeb5e0fee81]\n",
       "class E3--><a href=\"psysml:158a345e-3640-4aa1-8638-58b6699698f0\" target=\"_top\" title=\"psysml:158a345e-3640-4aa1-8638-58b6699698f0\" xlink:actuate=\"onRequest\" xlink:href=\"psysml:158a345e-3640-4aa1-8638-58b6699698f0\" xlink:show=\"new\" xlink:title=\"psysml:158a345e-3640-4aa1-8638-58b6699698f0\" xlink:type=\"simple\"><rect fill=\"#FFFFFF\" height=\"45.9375\" id=\"E3\" rx=\"10\" ry=\"10\" style=\"stroke: #383838; stroke-width: 1.5;\" width=\"87\" x=\"279.5\" y=\"283\"/><text fill=\"#000000\" font-family=\"sans-serif\" font-size=\"12\" font-style=\"italic\" lengthAdjust=\"spacingAndGlyphs\" textLength=\"85\" x=\"280.5\" y=\"299.1387\">«occurrence»</text><text fill=\"#000000\" font-family=\"sans-serif\" font-size=\"12\" lengthAdjust=\"spacingAndGlyphs\" textLength=\"61\" x=\"292.5\" y=\"313.1074\">occ1: Occ</text><line style=\"stroke: #383838; stroke-width: 1.5;\" x1=\"280.5\" x2=\"365.5\" y1=\"320.9375\" y2=\"320.9375\"/></a><!--MD5=[ebbe1d658d1005bcc118a6aa81145e00]\n",
       "class E4--><a href=\"psysml:5ccc27c3-07b1-4713-880e-82008912fb62\" target=\"_top\" title=\"psysml:5ccc27c3-07b1-4713-880e-82008912fb62\" xlink:actuate=\"onRequest\" xlink:href=\"psysml:5ccc27c3-07b1-4713-880e-82008912fb62\" xlink:show=\"new\" xlink:title=\"psysml:5ccc27c3-07b1-4713-880e-82008912fb62\" xlink:type=\"simple\"><rect fill=\"#FFFFFF\" height=\"45.9375\" id=\"E4\" rx=\"10\" ry=\"10\" style=\"stroke: #383838; stroke-width: 1.5;\" width=\"87\" x=\"401.5\" y=\"283\"/><text fill=\"#000000\" font-family=\"sans-serif\" font-size=\"12\" font-style=\"italic\" lengthAdjust=\"spacingAndGlyphs\" textLength=\"85\" x=\"402.5\" y=\"299.1387\">«occurrence»</text><text fill=\"#000000\" font-family=\"sans-serif\" font-size=\"12\" lengthAdjust=\"spacingAndGlyphs\" textLength=\"61\" x=\"414.5\" y=\"313.1074\">occ2: Occ</text><line style=\"stroke: #383838; stroke-width: 1.5;\" x1=\"402.5\" x2=\"487.5\" y1=\"320.9375\" y2=\"320.9375\"/></a><!--MD5=[270fce915f116d4de14055a7c1d9a0f3]\n",
       "class E5--><a href=\"psysml:b931cfcd-d1f5-4c70-b44c-3b4fd21c9018\" target=\"_top\" title=\"psysml:b931cfcd-d1f5-4c70-b44c-3b4fd21c9018\" xlink:actuate=\"onRequest\" xlink:href=\"psysml:b931cfcd-d1f5-4c70-b44c-3b4fd21c9018\" xlink:show=\"new\" xlink:title=\"psysml:b931cfcd-d1f5-4c70-b44c-3b4fd21c9018\" xlink:type=\"simple\"><rect fill=\"#FFFFFF\" height=\"45.9375\" id=\"E5\" rx=\"10\" ry=\"10\" style=\"stroke: #383838; stroke-width: 1.5;\" width=\"212\" x=\"524\" y=\"283\"/><text fill=\"#000000\" font-family=\"sans-serif\" font-size=\"12\" font-style=\"italic\" lengthAdjust=\"spacingAndGlyphs\" textLength=\"210\" x=\"525\" y=\"299.1387\">«individual snapshot occurrence»</text><text fill=\"#000000\" font-family=\"sans-serif\" font-size=\"12\" lengthAdjust=\"spacingAndGlyphs\" textLength=\"34\" x=\"613\" y=\"313.1074\">s: Ind</text><line style=\"stroke: #383838; stroke-width: 1.5;\" x1=\"525\" x2=\"735\" y1=\"320.9375\" y2=\"320.9375\"/></a><!--MD5=[60a26617385b1d2d0262a64233df1f8d]\n",
       "class E6--><a href=\"psysml:a76dffb5-cb4a-4142-b15c-9dbeb6bd2474\" target=\"_top\" title=\"psysml:a76dffb5-cb4a-4142-b15c-9dbeb6bd2474\" xlink:actuate=\"onRequest\" xlink:href=\"psysml:a76dffb5-cb4a-4142-b15c-9dbeb6bd2474\" xlink:show=\"new\" xlink:title=\"psysml:a76dffb5-cb4a-4142-b15c-9dbeb6bd2474\" xlink:type=\"simple\"><rect fill=\"#FFFFFF\" height=\"45.9375\" id=\"E6\" rx=\"10\" ry=\"10\" style=\"stroke: #383838; stroke-width: 1.5;\" width=\"146\" x=\"771\" y=\"283\"/><text fill=\"#000000\" font-family=\"sans-serif\" font-size=\"12\" font-style=\"italic\" lengthAdjust=\"spacingAndGlyphs\" textLength=\"144\" x=\"772\" y=\"299.1387\">«timeslice occurrence»</text><text fill=\"#000000\" font-family=\"sans-serif\" font-size=\"12\" lengthAdjust=\"spacingAndGlyphs\" textLength=\"5\" x=\"841.5\" y=\"313.1074\">t</text><line style=\"stroke: #383838; stroke-width: 1.5;\" x1=\"772\" x2=\"916\" y1=\"320.9375\" y2=\"320.9375\"/></a><!--MD5=[2156ba9850f5573cc1fc38a6a4b2f02b]\n",
       "class E7--><a href=\"psysml:cddcce1d-840d-4259-9672-1cad32ef9616\" target=\"_top\" title=\"psysml:cddcce1d-840d-4259-9672-1cad32ef9616\" xlink:actuate=\"onRequest\" xlink:href=\"psysml:cddcce1d-840d-4259-9672-1cad32ef9616\" xlink:show=\"new\" xlink:title=\"psysml:cddcce1d-840d-4259-9672-1cad32ef9616\" xlink:type=\"simple\"><rect fill=\"#FFFFFF\" height=\"45.9375\" id=\"E7\" style=\"stroke: #383838; stroke-width: 1.5;\" width=\"173\" x=\"543.5\" y=\"389\"/><text fill=\"#000000\" font-family=\"sans-serif\" font-size=\"12\" font-style=\"italic\" lengthAdjust=\"spacingAndGlyphs\" textLength=\"171\" x=\"544.5\" y=\"405.1387\">«individual occurrence def»</text><text fill=\"#000000\" font-family=\"sans-serif\" font-size=\"12\" lengthAdjust=\"spacingAndGlyphs\" textLength=\"19\" x=\"620.5\" y=\"419.1074\">Ind</text><line style=\"stroke: #383838; stroke-width: 1.5;\" x1=\"544.5\" x2=\"715.5\" y1=\"426.9375\" y2=\"426.9375\"/></a><!--MD5=[b9389687b975829384b498ac4b7476b2]\n",
       "class E8--><a href=\"psysml:760118bf-f26e-45fa-9528-0dbdf12ed33d\" target=\"_top\" title=\"psysml:760118bf-f26e-45fa-9528-0dbdf12ed33d\" xlink:actuate=\"onRequest\" xlink:href=\"psysml:760118bf-f26e-45fa-9528-0dbdf12ed33d\" xlink:show=\"new\" xlink:title=\"psysml:760118bf-f26e-45fa-9528-0dbdf12ed33d\" xlink:type=\"simple\"><rect fill=\"#FFFFFF\" height=\"45.9375\" id=\"E8\" rx=\"10\" ry=\"10\" style=\"stroke: #383838; stroke-width: 1.5;\" width=\"150\" x=\"463\" y=\"495\"/><text fill=\"#000000\" font-family=\"sans-serif\" font-size=\"12\" font-style=\"italic\" lengthAdjust=\"spacingAndGlyphs\" textLength=\"148\" x=\"464\" y=\"511.1387\">«snapshot occurrence»</text><text fill=\"#000000\" font-family=\"sans-serif\" font-size=\"12\" lengthAdjust=\"spacingAndGlyphs\" textLength=\"15\" x=\"530.5\" y=\"525.1074\">s2</text><line style=\"stroke: #383838; stroke-width: 1.5;\" x1=\"464\" x2=\"612\" y1=\"532.9375\" y2=\"532.9375\"/></a><!--MD5=[fd4143e9d270a159db93a4ea2a975926]\n",
       "class E9--><a href=\"psysml:6916c4a6-d3e9-4718-9bd3-b4da3843528f\" target=\"_top\" title=\"psysml:6916c4a6-d3e9-4718-9bd3-b4da3843528f\" xlink:actuate=\"onRequest\" xlink:href=\"psysml:6916c4a6-d3e9-4718-9bd3-b4da3843528f\" xlink:show=\"new\" xlink:title=\"psysml:6916c4a6-d3e9-4718-9bd3-b4da3843528f\" xlink:type=\"simple\"><rect fill=\"#FFFFFF\" height=\"45.9375\" id=\"E9\" rx=\"10\" ry=\"10\" style=\"stroke: #383838; stroke-width: 1.5;\" width=\"146\" x=\"648\" y=\"495\"/><text fill=\"#000000\" font-family=\"sans-serif\" font-size=\"12\" font-style=\"italic\" lengthAdjust=\"spacingAndGlyphs\" textLength=\"144\" x=\"649\" y=\"511.1387\">«timeslice occurrence»</text><text fill=\"#000000\" font-family=\"sans-serif\" font-size=\"12\" lengthAdjust=\"spacingAndGlyphs\" textLength=\"13\" x=\"714.5\" y=\"525.1074\">t2</text><line style=\"stroke: #383838; stroke-width: 1.5;\" x1=\"649\" x2=\"793\" y1=\"532.9375\" y2=\"532.9375\"/></a><!--MD5=[96f4274e9e20536e775497830990834d]\n",
       "class E10--><a href=\"psysml:ca3e4eae-d888-4010-bdf5-da81d89d1eab\" target=\"_top\" title=\"psysml:ca3e4eae-d888-4010-bdf5-da81d89d1eab\" xlink:actuate=\"onRequest\" xlink:href=\"psysml:ca3e4eae-d888-4010-bdf5-da81d89d1eab\" xlink:show=\"new\" xlink:title=\"psysml:ca3e4eae-d888-4010-bdf5-da81d89d1eab\" xlink:type=\"simple\"><rect fill=\"#FFFFFF\" height=\"45.9375\" id=\"E10\" rx=\"10\" ry=\"10\" style=\"stroke: #383838; stroke-width: 1.5;\" width=\"149\" x=\"505.5\" y=\"41\"/><text fill=\"#000000\" font-family=\"sans-serif\" font-size=\"12\" font-style=\"italic\" lengthAdjust=\"spacingAndGlyphs\" textLength=\"147\" x=\"506.5\" y=\"57.1387\">«individual occurrence»</text><text fill=\"#000000\" font-family=\"sans-serif\" font-size=\"12\" lengthAdjust=\"spacingAndGlyphs\" textLength=\"77\" x=\"541.5\" y=\"71.1074\">ind: Ind, Occ</text><line style=\"stroke: #383838; stroke-width: 1.5;\" x1=\"506.5\" x2=\"653.5\" y1=\"78.9375\" y2=\"78.9375\"/></a><!--MD5=[1dd1bfd58a279cf63c5f349dbc8fc6a1]\n",
       "class E11--><a href=\"psysml:a7aa12fc-e204-4f0a-90f2-9ab0101a123a\" target=\"_top\" title=\"psysml:a7aa12fc-e204-4f0a-90f2-9ab0101a123a\" xlink:actuate=\"onRequest\" xlink:href=\"psysml:a7aa12fc-e204-4f0a-90f2-9ab0101a123a\" xlink:show=\"new\" xlink:title=\"psysml:a7aa12fc-e204-4f0a-90f2-9ab0101a123a\" xlink:type=\"simple\"><rect fill=\"#FFFFFF\" height=\"45.9375\" id=\"E11\" rx=\"10\" ry=\"10\" style=\"stroke: #383838; stroke-width: 1.5;\" width=\"150\" x=\"561\" y=\"162\"/><text fill=\"#000000\" font-family=\"sans-serif\" font-size=\"12\" font-style=\"italic\" lengthAdjust=\"spacingAndGlyphs\" textLength=\"148\" x=\"562\" y=\"178.1387\">«snapshot occurrence»</text><text fill=\"#000000\" font-family=\"sans-serif\" font-size=\"12\" lengthAdjust=\"spacingAndGlyphs\" textLength=\"15\" x=\"628.5\" y=\"192.1074\">s3</text><line style=\"stroke: #383838; stroke-width: 1.5;\" x1=\"562\" x2=\"710\" y1=\"199.9375\" y2=\"199.9375\"/></a><!--MD5=[49a0ec8f00dab7302a31f22d0f0fe584]\n",
       "class E12--><a href=\"psysml:5052c3e9-886b-4521-8bf3-18ad9cb470c5\" target=\"_top\" title=\"psysml:5052c3e9-886b-4521-8bf3-18ad9cb470c5\" xlink:actuate=\"onRequest\" xlink:href=\"psysml:5052c3e9-886b-4521-8bf3-18ad9cb470c5\" xlink:show=\"new\" xlink:title=\"psysml:5052c3e9-886b-4521-8bf3-18ad9cb470c5\" xlink:type=\"simple\"><rect fill=\"#FFFFFF\" height=\"45.9375\" id=\"E12\" rx=\"10\" ry=\"10\" style=\"stroke: #383838; stroke-width: 1.5;\" width=\"208\" x=\"746\" y=\"162\"/><text fill=\"#000000\" font-family=\"sans-serif\" font-size=\"12\" font-style=\"italic\" lengthAdjust=\"spacingAndGlyphs\" textLength=\"206\" x=\"747\" y=\"178.1387\">«individual timeslice occurrence»</text><text fill=\"#000000\" font-family=\"sans-serif\" font-size=\"12\" lengthAdjust=\"spacingAndGlyphs\" textLength=\"13\" x=\"843.5\" y=\"192.1074\">t3</text><line style=\"stroke: #383838; stroke-width: 1.5;\" x1=\"747\" x2=\"953\" y1=\"199.9375\" y2=\"199.9375\"/></a><!--MD5=[ee3c913d1a06f366521f9ef512b67efe]\n",
       "class E13--><a href=\"psysml:e6d8c0e1-46dd-40c0-98f9-8ea23118f8bb\" target=\"_top\" title=\"psysml:e6d8c0e1-46dd-40c0-98f9-8ea23118f8bb\" xlink:actuate=\"onRequest\" xlink:href=\"psysml:e6d8c0e1-46dd-40c0-98f9-8ea23118f8bb\" xlink:show=\"new\" xlink:title=\"psysml:e6d8c0e1-46dd-40c0-98f9-8ea23118f8bb\" xlink:type=\"simple\"><rect fill=\"#FFFFFF\" height=\"45.9375\" id=\"E13\" rx=\"10\" ry=\"10\" style=\"stroke: #383838; stroke-width: 1.5;\" width=\"212\" x=\"32\" y=\"283\"/><text fill=\"#000000\" font-family=\"sans-serif\" font-size=\"12\" font-style=\"italic\" lengthAdjust=\"spacingAndGlyphs\" textLength=\"210\" x=\"33\" y=\"299.1387\">«individual snapshot occurrence»</text><text fill=\"#000000\" font-family=\"sans-serif\" font-size=\"12\" lengthAdjust=\"spacingAndGlyphs\" textLength=\"42\" x=\"117\" y=\"313.1074\">s4: Ind</text><line style=\"stroke: #383838; stroke-width: 1.5;\" x1=\"33\" x2=\"243\" y1=\"320.9375\" y2=\"320.9375\"/></a><!--MD5=[209b3feb70ccb6233bfe1053d122c12c]\n",
       "reverse link E2 to E3--><a href=\"psysml:816d5179-2674-4631-83bc-f7d71b4237a7\" target=\"_top\" title=\"psysml:816d5179-2674-4631-83bc-f7d71b4237a7\" xlink:actuate=\"onRequest\" xlink:href=\"psysml:816d5179-2674-4631-83bc-f7d71b4237a7\" xlink:show=\"new\" xlink:title=\"psysml:816d5179-2674-4631-83bc-f7d71b4237a7\" xlink:type=\"simple\"><path d=\"M377.59,232.45 C360.78,249.83 344.04,268.76 333.23,282.93 \" fill=\"none\" id=\"E2&lt;-E3\" style=\"stroke: #383838; stroke-width: 1.0;\"/><polygon fill=\"#FFFFFF\" points=\"386.9,223,379.8401,224.4691,378.4809,231.5509,385.5407,230.0818,386.9,223\" style=\"stroke: #383838; stroke-width: 1.0;\"/></a><!--MD5=[05d275557350bfb9b23a4ef7222b4c39]\n",
       "link E3 to E2--><a href=\"psysml:eb3070f5-b0ea-4331-ac23-68f76765f53a\" target=\"_top\" title=\"psysml:eb3070f5-b0ea-4331-ac23-68f76765f53a\" xlink:actuate=\"onRequest\" xlink:href=\"psysml:eb3070f5-b0ea-4331-ac23-68f76765f53a\" xlink:show=\"new\" xlink:title=\"psysml:eb3070f5-b0ea-4331-ac23-68f76765f53a\" xlink:type=\"simple\"><path d=\"M354.17,282.93 C367.96,270.34 383.96,253.98 398.07,238.29 \" fill=\"none\" id=\"E3-&gt;E2\" style=\"stroke: #383838; stroke-width: 1.0;\"/><polygon fill=\"#FFFFFF\" points=\"411.4,223,404.1971,241.924,393.6412,232.7276,411.4,223\" style=\"stroke: #383838; stroke-width: 1.0;\"/><ellipse cx=\"398.9449\" cy=\"244.908\" fill=\"#383838\" rx=\"2\" ry=\"2\" style=\"stroke: #383838; stroke-width: 1.0;\"/><ellipse cx=\"391.405\" cy=\"238.3391\" fill=\"#383838\" rx=\"2\" ry=\"2\" style=\"stroke: #383838; stroke-width: 1.0;\"/></a><!--MD5=[9618e71518536f8baf3342ff6fdab317]\n",
       "reverse link E2 to E4--><a href=\"psysml:0447f336-2e88-4877-9a74-bac22478a75a\" target=\"_top\" title=\"psysml:0447f336-2e88-4877-9a74-bac22478a75a\" xlink:actuate=\"onRequest\" xlink:href=\"psysml:0447f336-2e88-4877-9a74-bac22478a75a\" xlink:show=\"new\" xlink:title=\"psysml:0447f336-2e88-4877-9a74-bac22478a75a\" xlink:type=\"simple\"><path d=\"M425.46,236.34 C426.62,252.61 429.17,269.81 432.6,282.93 \" fill=\"none\" id=\"E2&lt;-E4\" style=\"stroke: #383838; stroke-width: 1.0;\"/><polygon fill=\"#383838\" points=\"424.83,223,421.118,229.1823,425.397,234.9866,429.109,228.8043,424.83,223\" style=\"stroke: #383838; stroke-width: 1.0;\"/></a><!--MD5=[185131fc0dcab0a4505a2ebe144e961b]\n",
       "link E4 to E2--><a href=\"psysml:bbe7f0c0-75f0-4d42-b38b-c0f55f25890a\" target=\"_top\" title=\"psysml:bbe7f0c0-75f0-4d42-b38b-c0f55f25890a\" xlink:actuate=\"onRequest\" xlink:href=\"psysml:bbe7f0c0-75f0-4d42-b38b-c0f55f25890a\" xlink:show=\"new\" xlink:title=\"psysml:bbe7f0c0-75f0-4d42-b38b-c0f55f25890a\" xlink:type=\"simple\"><path d=\"M453.54,282.93 C454.33,271.65 453.8,257.34 452.26,243.21 \" fill=\"none\" id=\"E4-&gt;E2\" style=\"stroke: #383838; stroke-width: 1.0;\"/><polygon fill=\"#FFFFFF\" points=\"449.33,223,458.9844,240.7987,445.1294,242.8079,449.33,223\" style=\"stroke: #383838; stroke-width: 1.0;\"/><ellipse cx=\"457.8232\" cy=\"246.7267\" fill=\"#383838\" rx=\"2\" ry=\"2\" style=\"stroke: #383838; stroke-width: 1.0;\"/><ellipse cx=\"447.9267\" cy=\"248.1619\" fill=\"#383838\" rx=\"2\" ry=\"2\" style=\"stroke: #383838; stroke-width: 1.0;\"/></a><!--MD5=[4e1a83fab71cdb913c109063314ae896]\n",
       "reverse link E2 to E5--><a href=\"psysml:5c44c5f5-a434-4c27-9e5d-4b118f9f4fa1\" target=\"_top\" title=\"psysml:5c44c5f5-a434-4c27-9e5d-4b118f9f4fa1\" xlink:actuate=\"onRequest\" xlink:href=\"psysml:5c44c5f5-a434-4c27-9e5d-4b118f9f4fa1\" xlink:show=\"new\" xlink:title=\"psysml:5c44c5f5-a434-4c27-9e5d-4b118f9f4fa1\" xlink:type=\"simple\"><path d=\"M499.94,226.44 C531.22,245.33 567.25,267.1 593.44,282.92 \" fill=\"none\" id=\"E2&lt;-E5\" style=\"stroke: #383838; stroke-width: 1.0;\"/><polygon fill=\"#383838\" points=\"488.66,219.62,491.731,226.1445,498.9348,225.8191,495.8638,219.2947,488.66,219.62\" style=\"stroke: #383838; stroke-width: 1.0;\"/></a><!--MD5=[ce036f65110ae2351ccce5a81dc2e928]\n",
       "reverse link E2 to E6--><a href=\"psysml:f84da050-0b5f-49f5-998e-9b704fc66ebc\" target=\"_top\" title=\"psysml:f84da050-0b5f-49f5-998e-9b704fc66ebc\" xlink:actuate=\"onRequest\" xlink:href=\"psysml:f84da050-0b5f-49f5-998e-9b704fc66ebc\" xlink:show=\"new\" xlink:title=\"psysml:f84da050-0b5f-49f5-998e-9b704fc66ebc\" xlink:type=\"simple\"><path d=\"M501.1,217.48 C506.1,219.45 511.11,221.31 516,223 C528.17,227.2 677.81,264.18 770.71,287.02 \" fill=\"none\" id=\"E2&lt;-E6\" style=\"stroke: #383838; stroke-width: 1.0;\"/><polygon fill=\"#383838\" points=\"488.72,212.43,492.764,218.4004,499.8305,216.9638,495.7866,210.9934,488.72,212.43\" style=\"stroke: #383838; stroke-width: 1.0;\"/><text fill=\"#000000\" font-family=\"sans-serif\" font-size=\"13\" lengthAdjust=\"spacingAndGlyphs\" textLength=\"7\" x=\"755.791\" y=\"281.3662\">*</text></a><!--MD5=[3a9b96bfbf6b6ad89c494e81751bda47]\n",
       "link E5 to E7--><a href=\"psysml:5222325c-bb46-4e39-81f0-12dbae43365a\" target=\"_top\" title=\"psysml:5222325c-bb46-4e39-81f0-12dbae43365a\" xlink:actuate=\"onRequest\" xlink:href=\"psysml:5222325c-bb46-4e39-81f0-12dbae43365a\" xlink:show=\"new\" xlink:title=\"psysml:5222325c-bb46-4e39-81f0-12dbae43365a\" xlink:type=\"simple\"><path d=\"M630,329.06 C630,340.64 630,355.23 630,368.87 \" fill=\"none\" id=\"E5-&gt;E7\" style=\"stroke: #383838; stroke-width: 1.0;\"/><polygon fill=\"#FFFFFF\" points=\"630,388.98,623,369.98,637,369.98,630,388.98\" style=\"stroke: #383838; stroke-width: 1.0;\"/><ellipse cx=\"625\" cy=\"364.28\" fill=\"#383838\" rx=\"2\" ry=\"2\" style=\"stroke: #383838; stroke-width: 1.0;\"/><ellipse cx=\"635\" cy=\"364.28\" fill=\"#383838\" rx=\"2\" ry=\"2\" style=\"stroke: #383838; stroke-width: 1.0;\"/></a><!--MD5=[dc164f5e8a733ab456ef1add180e9e34]\n",
       "reverse link E7 to E8--><a href=\"psysml:62bbb331-bb03-464e-9e32-68694608bffc\" target=\"_top\" title=\"psysml:62bbb331-bb03-464e-9e32-68694608bffc\" xlink:actuate=\"onRequest\" xlink:href=\"psysml:62bbb331-bb03-464e-9e32-68694608bffc\" xlink:show=\"new\" xlink:title=\"psysml:62bbb331-bb03-464e-9e32-68694608bffc\" xlink:type=\"simple\"><path d=\"M601.55,445.16 C587.25,461.33 570.28,480.51 557.48,494.98 \" fill=\"none\" id=\"E7&lt;-E8\" style=\"stroke: #383838; stroke-width: 1.0;\"/><polygon fill=\"#383838\" points=\"610.49,435.06,603.5177,436.9004,602.5348,444.0442,609.5071,442.2038,610.49,435.06\" style=\"stroke: #383838; stroke-width: 1.0;\"/><text fill=\"#000000\" font-family=\"sans-serif\" font-size=\"13\" lengthAdjust=\"spacingAndGlyphs\" textLength=\"7\" x=\"554.7746\" y=\"483.8709\">*</text></a><!--MD5=[e4a10ef82d0e328e31cac39a31e58dda]\n",
       "reverse link E7 to E9--><a href=\"psysml:6940b1aa-8c0f-4381-86aa-7b3e10e8c0d6\" target=\"_top\" title=\"psysml:6940b1aa-8c0f-4381-86aa-7b3e10e8c0d6\" xlink:actuate=\"onRequest\" xlink:href=\"psysml:6940b1aa-8c0f-4381-86aa-7b3e10e8c0d6\" xlink:show=\"new\" xlink:title=\"psysml:6940b1aa-8c0f-4381-86aa-7b3e10e8c0d6\" xlink:type=\"simple\"><path d=\"M658.14,445.16 C672.29,461.33 689.07,480.51 701.73,494.98 \" fill=\"none\" id=\"E7&lt;-E9\" style=\"stroke: #383838; stroke-width: 1.0;\"/><polygon fill=\"#383838\" points=\"649.3,435.06,650.2496,442.2083,657.2133,444.0811,656.2637,436.9328,649.3,435.06\" style=\"stroke: #383838; stroke-width: 1.0;\"/><text fill=\"#000000\" font-family=\"sans-serif\" font-size=\"13\" lengthAdjust=\"spacingAndGlyphs\" textLength=\"7\" x=\"688.6106\" y=\"483.8709\">*</text></a><!--MD5=[a919e0967d6f3de553dc51b9865a1d6d]\n",
       "link E10 to E7--><a href=\"psysml:2d47db94-d209-4d22-9eae-73bfc16721f5\" target=\"_top\" title=\"psysml:2d47db94-d209-4d22-9eae-73bfc16721f5\" xlink:actuate=\"onRequest\" xlink:href=\"psysml:2d47db94-d209-4d22-9eae-73bfc16721f5\" xlink:show=\"new\" xlink:title=\"psysml:2d47db94-d209-4d22-9eae-73bfc16721f5\" xlink:type=\"simple\"><path d=\"M564.36,87.23 C542.92,120.68 510.65,184.15 544,223 C658.5,356.41 820.5,149.59 935,283 C997.65,355.99 847.73,388.27 736.59,401.86 \" fill=\"none\" id=\"E10-&gt;E7\" style=\"stroke: #383838; stroke-width: 1.0;\"/><polygon fill=\"#FFFFFF\" points=\"716.7,404.14,734.7756,395.0147,736.3754,408.923,716.7,404.14\" style=\"stroke: #383838; stroke-width: 1.0;\"/><ellipse cx=\"740.6668\" cy=\"396.3502\" fill=\"#383838\" rx=\"2\" ry=\"2\" style=\"stroke: #383838; stroke-width: 1.0;\"/><ellipse cx=\"741.8096\" cy=\"406.2847\" fill=\"#383838\" rx=\"2\" ry=\"2\" style=\"stroke: #383838; stroke-width: 1.0;\"/></a><!--MD5=[0f36bececdf0dff6e600d6f64214b0f1]\n",
       "link E10 to E2--><a href=\"psysml:6622b004-fc37-43f3-bc42-fdfacc696359\" target=\"_top\" title=\"psysml:6622b004-fc37-43f3-bc42-fdfacc696359\" xlink:actuate=\"onRequest\" xlink:href=\"psysml:6622b004-fc37-43f3-bc42-fdfacc696359\" xlink:show=\"new\" xlink:title=\"psysml:6622b004-fc37-43f3-bc42-fdfacc696359\" xlink:type=\"simple\"><path d=\"M552.69,87.1 C536.38,100.31 514.96,117.65 494.76,134.01 \" fill=\"none\" id=\"E10-&gt;E2\" style=\"stroke: #383838; stroke-width: 1.0;\"/><polygon fill=\"#FFFFFF\" points=\"478.94,146.81,489.301,129.4131,498.1112,140.2934,478.94,146.81\" style=\"stroke: #383838; stroke-width: 1.0;\"/><ellipse cx=\"494.9894\" cy=\"127.3805\" fill=\"#383838\" rx=\"2\" ry=\"2\" style=\"stroke: #383838; stroke-width: 1.0;\"/><ellipse cx=\"501.2824\" cy=\"135.1521\" fill=\"#383838\" rx=\"2\" ry=\"2\" style=\"stroke: #383838; stroke-width: 1.0;\"/></a><!--MD5=[de308be4a2431766a05a907a031c07fc]\n",
       "reverse link E10 to E11--><a href=\"psysml:973d09ca-2c85-400b-8a26-6e03e711a9dc\" target=\"_top\" title=\"psysml:973d09ca-2c85-400b-8a26-6e03e711a9dc\" xlink:actuate=\"onRequest\" xlink:href=\"psysml:973d09ca-2c85-400b-8a26-6e03e711a9dc\" xlink:show=\"new\" xlink:title=\"psysml:973d09ca-2c85-400b-8a26-6e03e711a9dc\" xlink:type=\"simple\"><path d=\"M595.95,98.9 C605.42,119.01 617.15,143.94 625.46,161.61 \" fill=\"none\" id=\"E10&lt;-E11\" style=\"stroke: #383838; stroke-width: 1.0;\"/><polygon fill=\"#383838\" points=\"590.4,87.1,589.3334,94.2318,595.5064,97.9593,596.573,90.8275,590.4,87.1\" style=\"stroke: #383838; stroke-width: 1.0;\"/></a><!--MD5=[1d54f998c6d5961a1a9184be73a7eb6c]\n",
       "reverse link E10 to E12--><a href=\"psysml:4b2dc275-57bf-47aa-bec9-3fe53972a958\" target=\"_top\" title=\"psysml:4b2dc275-57bf-47aa-bec9-3fe53972a958\" xlink:actuate=\"onRequest\" xlink:href=\"psysml:4b2dc275-57bf-47aa-bec9-3fe53972a958\" xlink:show=\"new\" xlink:title=\"psysml:4b2dc275-57bf-47aa-bec9-3fe53972a958\" xlink:type=\"simple\"><path d=\"M642.21,92.42 C689.99,113.48 755.13,142.19 799.66,161.81 \" fill=\"none\" id=\"E10&lt;-E12\" style=\"stroke: #383838; stroke-width: 1.0;\"/><polygon fill=\"#383838\" points=\"630.15,87.1,634.028,93.1796,641.1314,91.9382,637.2534,85.8586,630.15,87.1\" style=\"stroke: #383838; stroke-width: 1.0;\"/></a><!--MD5=[4a48077df6499cfcd20b62e8f5f37904]\n",
       "link E13 to E7--><a href=\"psysml:99db2ce7-7db4-4747-aea3-ba596a45b862\" target=\"_top\" title=\"psysml:99db2ce7-7db4-4747-aea3-ba596a45b862\" xlink:actuate=\"onRequest\" xlink:href=\"psysml:99db2ce7-7db4-4747-aea3-ba596a45b862\" xlink:show=\"new\" xlink:title=\"psysml:99db2ce7-7db4-4747-aea3-ba596a45b862\" xlink:type=\"simple\"><path d=\"M242.34,329.06 C325.16,346.56 440.49,370.94 523.8,388.55 \" fill=\"none\" id=\"E13-&gt;E7\" style=\"stroke: #383838; stroke-width: 1.0;\"/><polygon fill=\"#FFFFFF\" points=\"543.45,392.7,523.4123,395.6135,526.3115,381.917,543.45,392.7\" style=\"stroke: #383838; stroke-width: 1.0;\"/><ellipse cx=\"518.25\" cy=\"392.4765\" fill=\"#383838\" rx=\"2\" ry=\"2\" style=\"stroke: #383838; stroke-width: 1.0;\"/><ellipse cx=\"520.3209\" cy=\"382.6933\" fill=\"#383838\" rx=\"2\" ry=\"2\" style=\"stroke: #383838; stroke-width: 1.0;\"/></a><!--MD5=[813fcdde9825e8999808ba0a61a5336c]\n",
       "@startuml\r\n",
       " skinparam monochrome true\r\n",
       "skinparam classbackgroundcolor white\r\n",
       "skinparam shadowing false\r\n",
       "skinparam wrapWidth 300\r\n",
       "hide circle\r\n",
       "\r\n",
       "package \"OccurrenceTest\" as E1  [[psysml:e6ab502d-dafd-416a-a255-3fa3ad3c263c ]]  {\r\n",
       "comp def \"Occ\" as E2  <<(T,blue) occurrence def>> [[psysml:1203d309-d98c-452c-84ab-9db93e8b8d83 ]] {\r\n",
       "- - attributes - -\r\n",
       "a\r\n",
       "}\r\n",
       "comp usage \"occ1: Occ\" as E3  <<(T,blue) occurrence>> [[psysml:158a345e-3640-4aa1-8638-58b6699698f0 ]] {\r\n",
       "}\r\n",
       "comp usage \"occ2: Occ\" as E4  <<(T,blue) occurrence>> [[psysml:5ccc27c3-07b1-4713-880e-82008912fb62 ]] {\r\n",
       "}\r\n",
       "comp usage \"s: Ind\" as E5  <<(T,blue) individual snapshot occurrence>> [[psysml:b931cfcd-d1f5-4c70-b44c-3b4fd21c9018 ]] {\r\n",
       "}\r\n",
       "comp usage \"t\" as E6  <<(T,blue) timeslice occurrence>> [[psysml:a76dffb5-cb4a-4142-b15c-9dbeb6bd2474 ]] {\r\n",
       "}\r\n",
       "comp def \"Ind\" as E7  <<(T,blue) individual occurrence def>> [[psysml:cddcce1d-840d-4259-9672-1cad32ef9616 ]] {\r\n",
       "}\r\n",
       "comp usage \"s2\" as E8  <<(T,blue) snapshot occurrence>> [[psysml:760118bf-f26e-45fa-9528-0dbdf12ed33d ]] {\r\n",
       "}\r\n",
       "comp usage \"t2\" as E9  <<(T,blue) timeslice occurrence>> [[psysml:6916c4a6-d3e9-4718-9bd3-b4da3843528f ]] {\r\n",
       "}\r\n",
       "comp usage \"ind: Ind, Occ\" as E10  <<(T,blue) individual occurrence>> [[psysml:ca3e4eae-d888-4010-bdf5-da81d89d1eab ]] {\r\n",
       "}\r\n",
       "comp usage \"s3\" as E11  <<(T,blue) snapshot occurrence>> [[psysml:a7aa12fc-e204-4f0a-90f2-9ab0101a123a ]] {\r\n",
       "}\r\n",
       "comp usage \"t3\" as E12  <<(T,blue) individual timeslice occurrence>> [[psysml:5052c3e9-886b-4521-8bf3-18ad9cb470c5 ]] {\r\n",
       "}\r\n",
       "comp usage \"s4: Ind\" as E13  <<(T,blue) individual snapshot occurrence>> [[psysml:e6d8c0e1-46dd-40c0-98f9-8ea23118f8bb ]] {\r\n",
       "}\r\n",
       "}\r\n",
       "E2 o- - E3 [[psysml:816d5179-2674-4631-83bc-f7d71b4237a7 ]] \r\n",
       "E3 - -:|> E2 [[psysml:eb3070f5-b0ea-4331-ac23-68f76765f53a ]] \r\n",
       "E2 *- - E4 [[psysml:0447f336-2e88-4877-9a74-bac22478a75a ]] \r\n",
       "E4 - -:|> E2 [[psysml:bbe7f0c0-75f0-4d42-b38b-c0f55f25890a ]] \r\n",
       "E2 *- - E5 [[psysml:5c44c5f5-a434-4c27-9e5d-4b118f9f4fa1 ]] \r\n",
       "E2 *- - \"*\"E6 [[psysml:f84da050-0b5f-49f5-998e-9b704fc66ebc ]] \r\n",
       "E5 - -:|> E7 [[psysml:5222325c-bb46-4e39-81f0-12dbae43365a ]] \r\n",
       "E7 *- - \"*\"E8 [[psysml:62bbb331-bb03-464e-9e32-68694608bffc ]] \r\n",
       "E7 *- - \"*\"E9 [[psysml:6940b1aa-8c0f-4381-86aa-7b3e10e8c0d6 ]] \r\n",
       "E10 - -:|> E7 [[psysml:2d47db94-d209-4d22-9eae-73bfc16721f5 ]] \r\n",
       "E10 - -:|> E2 [[psysml:6622b004-fc37-43f3-bc42-fdfacc696359 ]] \r\n",
       "E10 *- - E11 [[psysml:973d09ca-2c85-400b-8a26-6e03e711a9dc ]] \r\n",
       "E10 *- - E12 [[psysml:4b2dc275-57bf-47aa-bec9-3fe53972a958 ]] \r\n",
       "E13 - -:|> E7 [[psysml:99db2ce7-7db4-4747-aea3-ba596a45b862 ]] \r\n",
       "@enduml\r\n",
       "\n",
       "PlantUML version 1.2020.13(Sat Jun 13 12:26:38 UTC 2020)\n",
       "(EPL source distribution)\n",
       "Java Runtime: OpenJDK Runtime Environment\n",
       "JVM: OpenJDK 64-Bit Server VM\n",
       "Default Encoding: UTF-8\n",
       "Language: en\n",
       "Country: null\n",
       "--></g></svg>"
      ]
     },
     "execution_count": 3,
     "metadata": {},
     "output_type": "execute_result"
    }
   ],
   "source": [
    "%viz --style=\"COMPTREE\" --view=\"Tree\" \"OccurrenceTest\""
   ]
  },
  {
   "cell_type": "code",
   "execution_count": 4,
   "id": "7f79eb74",
   "metadata": {
    "execution": {
     "iopub.execute_input": "2021-10-03T08:28:42.249776Z",
     "iopub.status.busy": "2021-10-03T08:28:42.249372Z",
     "iopub.status.idle": "2021-10-03T08:28:42.256147Z",
     "shell.execute_reply": "2021-10-03T08:28:42.256618Z"
    }
   },
   "outputs": [
    {
     "data": {
      "image/svg+xml": [
       "<?xml version=\"1.0\" encoding=\"UTF-8\" standalone=\"no\"?><svg xmlns=\"http://www.w3.org/2000/svg\" xmlns:xlink=\"http://www.w3.org/1999/xlink\" contentScriptType=\"application/ecmascript\" contentStyleType=\"text/css\" height=\"12px\" preserveAspectRatio=\"none\" style=\"width:12px;height:12px;\" version=\"1.1\" viewBox=\"0 0 12 12\" width=\"12px\" zoomAndPan=\"magnify\"><defs/><g><!--MD5=[f19188ef49e11757b5c46753f95d9edc]\n",
       "@startuml\r\n",
       " skinparam monochrome true\r\n",
       "skinparam classbackgroundcolor white\r\n",
       "skinparam shadowing false\r\n",
       "skinparam wrapWidth 300\r\n",
       "hide circle\r\n",
       "\r\n",
       "@enduml\r\n",
       "\n",
       "PlantUML version 1.2020.13(Sat Jun 13 12:26:38 UTC 2020)\n",
       "(EPL source distribution)\n",
       "Java Runtime: OpenJDK Runtime Environment\n",
       "JVM: OpenJDK 64-Bit Server VM\n",
       "Default Encoding: UTF-8\n",
       "Language: en\n",
       "Country: null\n",
       "--></g></svg>"
      ]
     },
     "execution_count": 4,
     "metadata": {},
     "output_type": "execute_result"
    }
   ],
   "source": [
    "%viz --style=\"COMPTREE\" --view=\"State\" \"OccurrenceTest\""
   ]
  },
  {
   "cell_type": "code",
   "execution_count": 5,
   "id": "07cde41a",
   "metadata": {
    "execution": {
     "iopub.execute_input": "2021-10-03T08:28:42.306286Z",
     "iopub.status.busy": "2021-10-03T08:28:42.305872Z",
     "iopub.status.idle": "2021-10-03T08:28:42.361615Z",
     "shell.execute_reply": "2021-10-03T08:28:42.361246Z"
    }
   },
   "outputs": [
    {
     "data": {
      "image/svg+xml": [
       "<?xml version=\"1.0\" encoding=\"UTF-8\" standalone=\"no\"?><svg xmlns=\"http://www.w3.org/2000/svg\" xmlns:xlink=\"http://www.w3.org/1999/xlink\" contentScriptType=\"application/ecmascript\" contentStyleType=\"text/css\" height=\"195px\" preserveAspectRatio=\"none\" style=\"width:1115px;height:195px;\" version=\"1.1\" viewBox=\"0 0 1115 195\" width=\"1115px\" zoomAndPan=\"magnify\"><defs/><g><!--MD5=[fbc87193dbaf4d95561dea2c320d4a47]\n",
       "cluster E1--><a href=\"psysml:e6ab502d-dafd-416a-a255-3fa3ad3c263c\" target=\"_top\" title=\"psysml:e6ab502d-dafd-416a-a255-3fa3ad3c263c\" xlink:actuate=\"onRequest\" xlink:href=\"psysml:e6ab502d-dafd-416a-a255-3fa3ad3c263c\" xlink:show=\"new\" xlink:title=\"psysml:e6ab502d-dafd-416a-a255-3fa3ad3c263c\" xlink:type=\"simple\"><polygon fill=\"#FFFFFF\" points=\"16,6,134,6,141,28.2969,1093,28.2969,1093,183,16,183,16,6\" style=\"stroke: #000000; stroke-width: 1.5;\"/><line style=\"stroke: #000000; stroke-width: 1.5;\" x1=\"16\" x2=\"141\" y1=\"28.2969\" y2=\"28.2969\"/><text fill=\"#000000\" font-family=\"sans-serif\" font-size=\"14\" font-weight=\"bold\" lengthAdjust=\"spacingAndGlyphs\" textLength=\"112\" x=\"20\" y=\"20.9951\">OccurrenceTest</text></a><!--MD5=[f6df4d0ebaf0b5dfb2ced0ae5af7c670]\n",
       "cluster E4--><a href=\"psysml:ca3e4eae-d888-4010-bdf5-da81d89d1eab\" target=\"_top\" title=\"psysml:ca3e4eae-d888-4010-bdf5-da81d89d1eab\" xlink:actuate=\"onRequest\" xlink:href=\"psysml:ca3e4eae-d888-4010-bdf5-da81d89d1eab\" xlink:show=\"new\" xlink:title=\"psysml:ca3e4eae-d888-4010-bdf5-da81d89d1eab\" xlink:type=\"simple\"><rect fill=\"#FFFFFF\" height=\"110\" id=\"E4\" rx=\"10\" ry=\"10\" style=\"stroke: #383838; stroke-width: 1.5;\" width=\"435\" x=\"634\" y=\"49\"/><rect fill=\"#F8F8F8\" height=\"37.9375\" rx=\"10\" ry=\"10\" style=\"stroke: #F8F8F8; stroke-width: 1.5;\" width=\"435\" x=\"634\" y=\"49\"/><rect fill=\"#F8F8F8\" height=\"10\" style=\"stroke: #F8F8F8; stroke-width: 1.5;\" width=\"435\" x=\"634\" y=\"76.9375\"/><rect fill=\"none\" height=\"110\" id=\"E4\" rx=\"10\" ry=\"10\" style=\"stroke: #383838; stroke-width: 1.5;\" width=\"435\" x=\"634\" y=\"49\"/><text fill=\"#000000\" font-family=\"sans-serif\" font-size=\"12\" font-style=\"italic\" lengthAdjust=\"spacingAndGlyphs\" textLength=\"147\" x=\"778\" y=\"65.1387\">«individual occurrence»</text><text fill=\"#000000\" font-family=\"sans-serif\" font-size=\"12\" lengthAdjust=\"spacingAndGlyphs\" textLength=\"77\" x=\"813\" y=\"79.1074\">ind: Ind, Occ</text><line style=\"stroke: #383838; stroke-width: 1.0;\" x1=\"634\" x2=\"1069\" y1=\"86.9375\" y2=\"86.9375\"/></a><g id=\"E1.E2\"><a href=\"psysml:1203d309-d98c-452c-84ab-9db93e8b8d83\" target=\"_top\" title=\"psysml:1203d309-d98c-452c-84ab-9db93e8b8d83\" xlink:actuate=\"onRequest\" xlink:href=\"psysml:1203d309-d98c-452c-84ab-9db93e8b8d83\" xlink:show=\"new\" xlink:title=\"psysml:1203d309-d98c-452c-84ab-9db93e8b8d83\" xlink:type=\"simple\"><rect fill=\"#FFFFFF\" height=\"42.9375\" id=\"E2\" style=\"stroke: #383838; stroke-width: 1.5;\" width=\"116\" x=\"498\" y=\"100\"/><rect fill=\"#F8F8F8\" height=\"37.9375\" style=\"stroke: #383838; stroke-width: 1.5;\" width=\"116\" x=\"498\" y=\"100\"/><text fill=\"#000000\" font-family=\"sans-serif\" font-size=\"12\" font-style=\"italic\" lengthAdjust=\"spacingAndGlyphs\" textLength=\"109\" x=\"501.5\" y=\"116.1387\">«occurrence def»</text><text fill=\"#000000\" font-family=\"sans-serif\" font-size=\"12\" lengthAdjust=\"spacingAndGlyphs\" textLength=\"23\" x=\"544.5\" y=\"130.1074\">Occ</text></a></g><g id=\"E1.E3\"><a href=\"psysml:cddcce1d-840d-4259-9672-1cad32ef9616\" target=\"_top\" title=\"psysml:cddcce1d-840d-4259-9672-1cad32ef9616\" xlink:actuate=\"onRequest\" xlink:href=\"psysml:cddcce1d-840d-4259-9672-1cad32ef9616\" xlink:show=\"new\" xlink:title=\"psysml:cddcce1d-840d-4259-9672-1cad32ef9616\" xlink:type=\"simple\"><rect fill=\"#FFFFFF\" height=\"42.9375\" id=\"E3\" style=\"stroke: #383838; stroke-width: 1.5;\" width=\"178\" x=\"285\" y=\"100\"/><rect fill=\"#F8F8F8\" height=\"37.9375\" style=\"stroke: #383838; stroke-width: 1.5;\" width=\"178\" x=\"285\" y=\"100\"/><text fill=\"#000000\" font-family=\"sans-serif\" font-size=\"12\" font-style=\"italic\" lengthAdjust=\"spacingAndGlyphs\" textLength=\"171\" x=\"288.5\" y=\"116.1387\">«individual occurrence def»</text><text fill=\"#000000\" font-family=\"sans-serif\" font-size=\"12\" lengthAdjust=\"spacingAndGlyphs\" textLength=\"19\" x=\"364.5\" y=\"130.1074\">Ind</text></a></g><g id=\"E1.E4.E5\"><a href=\"psysml:a7aa12fc-e204-4f0a-90f2-9ab0101a123a\" target=\"_top\" title=\"psysml:a7aa12fc-e204-4f0a-90f2-9ab0101a123a\" xlink:actuate=\"onRequest\" xlink:href=\"psysml:a7aa12fc-e204-4f0a-90f2-9ab0101a123a\" xlink:show=\"new\" xlink:title=\"psysml:a7aa12fc-e204-4f0a-90f2-9ab0101a123a\" xlink:type=\"simple\"><rect fill=\"#FFFFFF\" height=\"42.9375\" id=\"E5\" rx=\"10\" ry=\"10\" style=\"stroke: #383838; stroke-width: 1.5;\" width=\"155\" x=\"897.5\" y=\"100\"/><rect fill=\"#F8F8F8\" height=\"37.9375\" rx=\"10\" ry=\"10\" style=\"stroke: #F8F8F8; stroke-width: 1.5;\" width=\"155\" x=\"897.5\" y=\"100\"/><rect fill=\"#F8F8F8\" height=\"10\" style=\"stroke: #F8F8F8; stroke-width: 1.5;\" width=\"155\" x=\"897.5\" y=\"127.9375\"/><rect fill=\"none\" height=\"42.9375\" id=\"E5\" rx=\"10\" ry=\"10\" style=\"stroke: #383838; stroke-width: 1.5;\" width=\"155\" x=\"897.5\" y=\"100\"/><text fill=\"#000000\" font-family=\"sans-serif\" font-size=\"12\" font-style=\"italic\" lengthAdjust=\"spacingAndGlyphs\" textLength=\"148\" x=\"901\" y=\"116.1387\">«snapshot occurrence»</text><text fill=\"#000000\" font-family=\"sans-serif\" font-size=\"12\" lengthAdjust=\"spacingAndGlyphs\" textLength=\"15\" x=\"967.5\" y=\"130.1074\">s3</text></a></g><g id=\"E1.E4.E6\"><a href=\"psysml:5052c3e9-886b-4521-8bf3-18ad9cb470c5\" target=\"_top\" title=\"psysml:5052c3e9-886b-4521-8bf3-18ad9cb470c5\" xlink:actuate=\"onRequest\" xlink:href=\"psysml:5052c3e9-886b-4521-8bf3-18ad9cb470c5\" xlink:show=\"new\" xlink:title=\"psysml:5052c3e9-886b-4521-8bf3-18ad9cb470c5\" xlink:type=\"simple\"><rect fill=\"#FFFFFF\" height=\"42.9375\" id=\"E6\" rx=\"10\" ry=\"10\" style=\"stroke: #383838; stroke-width: 1.5;\" width=\"213\" x=\"649.5\" y=\"100\"/><rect fill=\"#F8F8F8\" height=\"37.9375\" rx=\"10\" ry=\"10\" style=\"stroke: #F8F8F8; stroke-width: 1.5;\" width=\"213\" x=\"649.5\" y=\"100\"/><rect fill=\"#F8F8F8\" height=\"10\" style=\"stroke: #F8F8F8; stroke-width: 1.5;\" width=\"213\" x=\"649.5\" y=\"127.9375\"/><rect fill=\"none\" height=\"42.9375\" id=\"E6\" rx=\"10\" ry=\"10\" style=\"stroke: #383838; stroke-width: 1.5;\" width=\"213\" x=\"649.5\" y=\"100\"/><text fill=\"#000000\" font-family=\"sans-serif\" font-size=\"12\" font-style=\"italic\" lengthAdjust=\"spacingAndGlyphs\" textLength=\"206\" x=\"653\" y=\"116.1387\">«individual timeslice occurrence»</text><text fill=\"#000000\" font-family=\"sans-serif\" font-size=\"12\" lengthAdjust=\"spacingAndGlyphs\" textLength=\"13\" x=\"749.5\" y=\"130.1074\">t3</text></a></g><g id=\"E1.E7\"><a href=\"psysml:e6d8c0e1-46dd-40c0-98f9-8ea23118f8bb\" target=\"_top\" title=\"psysml:e6d8c0e1-46dd-40c0-98f9-8ea23118f8bb\" xlink:actuate=\"onRequest\" xlink:href=\"psysml:e6d8c0e1-46dd-40c0-98f9-8ea23118f8bb\" xlink:show=\"new\" xlink:title=\"psysml:e6d8c0e1-46dd-40c0-98f9-8ea23118f8bb\" xlink:type=\"simple\"><rect fill=\"#FFFFFF\" height=\"42.9375\" id=\"E7\" rx=\"10\" ry=\"10\" style=\"stroke: #383838; stroke-width: 1.5;\" width=\"217\" x=\"32.5\" y=\"100\"/><rect fill=\"#F8F8F8\" height=\"37.9375\" rx=\"10\" ry=\"10\" style=\"stroke: #F8F8F8; stroke-width: 1.5;\" width=\"217\" x=\"32.5\" y=\"100\"/><rect fill=\"#F8F8F8\" height=\"10\" style=\"stroke: #F8F8F8; stroke-width: 1.5;\" width=\"217\" x=\"32.5\" y=\"127.9375\"/><rect fill=\"none\" height=\"42.9375\" id=\"E7\" rx=\"10\" ry=\"10\" style=\"stroke: #383838; stroke-width: 1.5;\" width=\"217\" x=\"32.5\" y=\"100\"/><text fill=\"#000000\" font-family=\"sans-serif\" font-size=\"12\" font-style=\"italic\" lengthAdjust=\"spacingAndGlyphs\" textLength=\"210\" x=\"36\" y=\"116.1387\">«individual snapshot occurrence»</text><text fill=\"#000000\" font-family=\"sans-serif\" font-size=\"12\" lengthAdjust=\"spacingAndGlyphs\" textLength=\"42\" x=\"120\" y=\"130.1074\">s4: Ind</text></a></g><!--MD5=[4f6eb3ac7998b4c37e6c432386c8867d]\n",
       "@startuml\r\n",
       "skinparam ranksep 10\r\n",
       "skinparam rectangle {\r\n",
       " backgroundColor<<block>> LightGreen\r\n",
       "}\r\n",
       " skinparam monochrome true\r\n",
       "skinparam classbackgroundcolor white\r\n",
       "skinparam shadowing false\r\n",
       "skinparam wrapWidth 300\r\n",
       "hide circle\r\n",
       "\r\n",
       "package \"OccurrenceTest\" as E1  [[psysml:e6ab502d-dafd-416a-a255-3fa3ad3c263c ]]  {\r\n",
       "def \"Occ\" as E2  <<(T,blue) occurrence def>> [[psysml:1203d309-d98c-452c-84ab-9db93e8b8d83 ]] \r\n",
       "def \"Ind\" as E3  <<(T,blue) individual occurrence def>> [[psysml:cddcce1d-840d-4259-9672-1cad32ef9616 ]] \r\n",
       "rec usage \"ind: Ind, Occ\" as E4  <<(T,blue) individual occurrence>> [[psysml:ca3e4eae-d888-4010-bdf5-da81d89d1eab ]] {\r\n",
       "rec usage \"s3\" as E5  <<(T,blue) snapshot occurrence>> [[psysml:a7aa12fc-e204-4f0a-90f2-9ab0101a123a ]] {\r\n",
       "}\r\n",
       "rec usage \"t3\" as E6  <<(T,blue) individual timeslice occurrence>> [[psysml:5052c3e9-886b-4521-8bf3-18ad9cb470c5 ]] {\r\n",
       "}\r\n",
       "}\r\n",
       "rec usage \"s4: Ind\" as E7  <<(T,blue) individual snapshot occurrence>> [[psysml:e6d8c0e1-46dd-40c0-98f9-8ea23118f8bb ]] {\r\n",
       "}\r\n",
       "}\r\n",
       "@enduml\r\n",
       "\n",
       "PlantUML version 1.2020.13(Sat Jun 13 12:26:38 UTC 2020)\n",
       "(EPL source distribution)\n",
       "Java Runtime: OpenJDK Runtime Environment\n",
       "JVM: OpenJDK 64-Bit Server VM\n",
       "Default Encoding: UTF-8\n",
       "Language: en\n",
       "Country: null\n",
       "--></g></svg>"
      ]
     },
     "execution_count": 5,
     "metadata": {},
     "output_type": "execute_result"
    }
   ],
   "source": [
    "%viz --style=\"COMPTREE\" --view=\"Interconnection\" \"OccurrenceTest\""
   ]
  },
  {
   "cell_type": "code",
   "execution_count": 6,
   "id": "6c4f3956",
   "metadata": {
    "execution": {
     "iopub.execute_input": "2021-10-03T08:28:42.411020Z",
     "iopub.status.busy": "2021-10-03T08:28:42.410610Z",
     "iopub.status.idle": "2021-10-03T08:28:42.418499Z",
     "shell.execute_reply": "2021-10-03T08:28:42.418819Z"
    }
   },
   "outputs": [
    {
     "data": {
      "image/svg+xml": [
       "<?xml version=\"1.0\" encoding=\"UTF-8\" standalone=\"no\"?><svg xmlns=\"http://www.w3.org/2000/svg\" xmlns:xlink=\"http://www.w3.org/1999/xlink\" contentScriptType=\"application/ecmascript\" contentStyleType=\"text/css\" height=\"12px\" preserveAspectRatio=\"none\" style=\"width:12px;height:12px;\" version=\"1.1\" viewBox=\"0 0 12 12\" width=\"12px\" zoomAndPan=\"magnify\"><defs/><g><!--MD5=[655b888544ca4751ea36af1068543f84]\n",
       "@startuml\r\n",
       "skinparam ranksep 8\r\n",
       " skinparam monochrome true\r\n",
       "skinparam classbackgroundcolor white\r\n",
       "skinparam shadowing false\r\n",
       "skinparam wrapWidth 300\r\n",
       "hide circle\r\n",
       "\r\n",
       "@enduml\r\n",
       "\n",
       "PlantUML version 1.2020.13(Sat Jun 13 12:26:38 UTC 2020)\n",
       "(EPL source distribution)\n",
       "Java Runtime: OpenJDK Runtime Environment\n",
       "JVM: OpenJDK 64-Bit Server VM\n",
       "Default Encoding: UTF-8\n",
       "Language: en\n",
       "Country: null\n",
       "--></g></svg>"
      ]
     },
     "execution_count": 6,
     "metadata": {},
     "output_type": "execute_result"
    }
   ],
   "source": [
    "%viz --style=\"COMPTREE\" --view=\"Action\" \"OccurrenceTest\""
   ]
  },
  {
   "cell_type": "code",
   "execution_count": 7,
   "id": "7a9b6930",
   "metadata": {
    "execution": {
     "iopub.execute_input": "2021-10-03T08:28:42.469000Z",
     "iopub.status.busy": "2021-10-03T08:28:42.468600Z",
     "iopub.status.idle": "2021-10-03T08:28:42.481148Z",
     "shell.execute_reply": "2021-10-03T08:28:42.481468Z"
    }
   },
   "outputs": [
    {
     "data": {
      "image/svg+xml": [
       "<?xml version=\"1.0\" encoding=\"UTF-8\" standalone=\"no\"?><svg xmlns=\"http://www.w3.org/2000/svg\" xmlns:xlink=\"http://www.w3.org/1999/xlink\" contentScriptType=\"application/ecmascript\" contentStyleType=\"text/css\" height=\"12px\" preserveAspectRatio=\"none\" style=\"width:12px;height:12px;\" version=\"1.1\" viewBox=\"0 0 12 12\" width=\"12px\" zoomAndPan=\"magnify\"><defs/><g><!--MD5=[803fc46c337be7a5c8a9831e35356779]\n",
       "@startuml\r\n",
       "skinparam roundcorner 20\r\n",
       "skinparam BoxPadding 20\r\n",
       "skinparam SequenceBoxBackgroundColor #white\r\n",
       "skinparam style strictuml\r\n",
       "skinparam maxMessageSize 100\r\n",
       " skinparam monochrome true\r\n",
       "skinparam classbackgroundcolor white\r\n",
       "skinparam shadowing false\r\n",
       "skinparam wrapWidth 300\r\n",
       "hide circle\r\n",
       "\r\n",
       "@enduml\r\n",
       "\n",
       "PlantUML version 1.2020.13(Sat Jun 13 12:26:38 UTC 2020)\n",
       "(EPL source distribution)\n",
       "Java Runtime: OpenJDK Runtime Environment\n",
       "JVM: OpenJDK 64-Bit Server VM\n",
       "Default Encoding: UTF-8\n",
       "Language: en\n",
       "Country: null\n",
       "--></g></svg>"
      ]
     },
     "execution_count": 7,
     "metadata": {},
     "output_type": "execute_result"
    }
   ],
   "source": [
    "%viz --style=\"COMPTREE\" --view=\"Sequence\" \"OccurrenceTest\""
   ]
  },
  {
   "cell_type": "code",
   "execution_count": 8,
   "id": "465378d5",
   "metadata": {
    "execution": {
     "iopub.execute_input": "2021-10-03T08:28:42.531830Z",
     "iopub.status.busy": "2021-10-03T08:28:42.531150Z",
     "iopub.status.idle": "2021-10-03T08:28:42.619176Z",
     "shell.execute_reply": "2021-10-03T08:28:42.618789Z"
    }
   },
   "outputs": [
    {
     "data": {
      "image/svg+xml": [
       "<?xml version=\"1.0\" encoding=\"UTF-8\" standalone=\"no\"?><svg xmlns=\"http://www.w3.org/2000/svg\" xmlns:xlink=\"http://www.w3.org/1999/xlink\" contentScriptType=\"application/ecmascript\" contentStyleType=\"text/css\" height=\"569px\" preserveAspectRatio=\"none\" style=\"width:1009px;height:569px;\" version=\"1.1\" viewBox=\"0 0 1009 569\" width=\"1009px\" zoomAndPan=\"magnify\"><defs/><g><!--MD5=[fbc87193dbaf4d95561dea2c320d4a47]\n",
       "cluster E1--><a href=\"psysml:e6ab502d-dafd-416a-a255-3fa3ad3c263c\" target=\"_top\" title=\"psysml:e6ab502d-dafd-416a-a255-3fa3ad3c263c\" xlink:actuate=\"onRequest\" xlink:href=\"psysml:e6ab502d-dafd-416a-a255-3fa3ad3c263c\" xlink:show=\"new\" xlink:title=\"psysml:e6ab502d-dafd-416a-a255-3fa3ad3c263c\" xlink:type=\"simple\"><polygon fill=\"#FFFFFF\" points=\"16,6,134,6,141,28.2969,970,28.2969,970,557,16,557,16,6\" style=\"stroke: #000000; stroke-width: 1.5;\"/><line style=\"stroke: #000000; stroke-width: 1.5;\" x1=\"16\" x2=\"141\" y1=\"28.2969\" y2=\"28.2969\"/><text fill=\"#000000\" font-family=\"sans-serif\" font-size=\"14\" font-weight=\"bold\" lengthAdjust=\"spacingAndGlyphs\" textLength=\"112\" x=\"20\" y=\"20.9951\">OccurrenceTest</text></a><!--MD5=[b4997ac47864f28c2f74865a473b2911]\n",
       "class E2--><a href=\"psysml:1203d309-d98c-452c-84ab-9db93e8b8d83\" target=\"_top\" title=\"psysml:1203d309-d98c-452c-84ab-9db93e8b8d83\" xlink:actuate=\"onRequest\" xlink:href=\"psysml:1203d309-d98c-452c-84ab-9db93e8b8d83\" xlink:show=\"new\" xlink:title=\"psysml:1203d309-d98c-452c-84ab-9db93e8b8d83\" xlink:type=\"simple\"><rect fill=\"#FFFFFF\" height=\"75.5469\" id=\"E2\" style=\"stroke: #383838; stroke-width: 1.5;\" width=\"111\" x=\"377.5\" y=\"147\"/><text fill=\"#000000\" font-family=\"sans-serif\" font-size=\"12\" font-style=\"italic\" lengthAdjust=\"spacingAndGlyphs\" textLength=\"109\" x=\"378.5\" y=\"163.1387\">«occurrence def»</text><text fill=\"#000000\" font-family=\"sans-serif\" font-size=\"12\" lengthAdjust=\"spacingAndGlyphs\" textLength=\"23\" x=\"421.5\" y=\"177.1074\">Occ</text><line style=\"stroke: #383838; stroke-width: 1.5;\" x1=\"378.5\" x2=\"487.5\" y1=\"184.9375\" y2=\"184.9375\"/><text fill=\"#000000\" font-family=\"sans-serif\" font-size=\"11\" lengthAdjust=\"spacingAndGlyphs\" textLength=\"7\" x=\"383.5\" y=\"215.9526\">a</text><line style=\"stroke: #383838; stroke-width: 1.0;\" x1=\"378.5\" x2=\"405.5\" y1=\"199.3398\" y2=\"199.3398\"/><text fill=\"#000000\" font-family=\"sans-serif\" font-size=\"11\" lengthAdjust=\"spacingAndGlyphs\" textLength=\"55\" x=\"405.5\" y=\"202.6479\">attributes</text><line style=\"stroke: #383838; stroke-width: 1.0;\" x1=\"460.5\" x2=\"487.5\" y1=\"199.3398\" y2=\"199.3398\"/></a><!--MD5=[09b614a08d8cba4a07c9adeb5e0fee81]\n",
       "class E3--><a href=\"psysml:158a345e-3640-4aa1-8638-58b6699698f0\" target=\"_top\" title=\"psysml:158a345e-3640-4aa1-8638-58b6699698f0\" xlink:actuate=\"onRequest\" xlink:href=\"psysml:158a345e-3640-4aa1-8638-58b6699698f0\" xlink:show=\"new\" xlink:title=\"psysml:158a345e-3640-4aa1-8638-58b6699698f0\" xlink:type=\"simple\"><rect fill=\"#FFFFFF\" height=\"45.9375\" id=\"E3\" rx=\"10\" ry=\"10\" style=\"stroke: #383838; stroke-width: 1.5;\" width=\"87\" x=\"279.5\" y=\"283\"/><text fill=\"#000000\" font-family=\"sans-serif\" font-size=\"12\" font-style=\"italic\" lengthAdjust=\"spacingAndGlyphs\" textLength=\"85\" x=\"280.5\" y=\"299.1387\">«occurrence»</text><text fill=\"#000000\" font-family=\"sans-serif\" font-size=\"12\" lengthAdjust=\"spacingAndGlyphs\" textLength=\"61\" x=\"292.5\" y=\"313.1074\">occ1: Occ</text><line style=\"stroke: #383838; stroke-width: 1.5;\" x1=\"280.5\" x2=\"365.5\" y1=\"320.9375\" y2=\"320.9375\"/></a><!--MD5=[ebbe1d658d1005bcc118a6aa81145e00]\n",
       "class E4--><a href=\"psysml:5ccc27c3-07b1-4713-880e-82008912fb62\" target=\"_top\" title=\"psysml:5ccc27c3-07b1-4713-880e-82008912fb62\" xlink:actuate=\"onRequest\" xlink:href=\"psysml:5ccc27c3-07b1-4713-880e-82008912fb62\" xlink:show=\"new\" xlink:title=\"psysml:5ccc27c3-07b1-4713-880e-82008912fb62\" xlink:type=\"simple\"><rect fill=\"#FFFFFF\" height=\"45.9375\" id=\"E4\" rx=\"10\" ry=\"10\" style=\"stroke: #383838; stroke-width: 1.5;\" width=\"87\" x=\"401.5\" y=\"283\"/><text fill=\"#000000\" font-family=\"sans-serif\" font-size=\"12\" font-style=\"italic\" lengthAdjust=\"spacingAndGlyphs\" textLength=\"85\" x=\"402.5\" y=\"299.1387\">«occurrence»</text><text fill=\"#000000\" font-family=\"sans-serif\" font-size=\"12\" lengthAdjust=\"spacingAndGlyphs\" textLength=\"61\" x=\"414.5\" y=\"313.1074\">occ2: Occ</text><line style=\"stroke: #383838; stroke-width: 1.5;\" x1=\"402.5\" x2=\"487.5\" y1=\"320.9375\" y2=\"320.9375\"/></a><!--MD5=[270fce915f116d4de14055a7c1d9a0f3]\n",
       "class E5--><a href=\"psysml:b931cfcd-d1f5-4c70-b44c-3b4fd21c9018\" target=\"_top\" title=\"psysml:b931cfcd-d1f5-4c70-b44c-3b4fd21c9018\" xlink:actuate=\"onRequest\" xlink:href=\"psysml:b931cfcd-d1f5-4c70-b44c-3b4fd21c9018\" xlink:show=\"new\" xlink:title=\"psysml:b931cfcd-d1f5-4c70-b44c-3b4fd21c9018\" xlink:type=\"simple\"><rect fill=\"#FFFFFF\" height=\"45.9375\" id=\"E5\" rx=\"10\" ry=\"10\" style=\"stroke: #383838; stroke-width: 1.5;\" width=\"212\" x=\"524\" y=\"283\"/><text fill=\"#000000\" font-family=\"sans-serif\" font-size=\"12\" font-style=\"italic\" lengthAdjust=\"spacingAndGlyphs\" textLength=\"210\" x=\"525\" y=\"299.1387\">«individual snapshot occurrence»</text><text fill=\"#000000\" font-family=\"sans-serif\" font-size=\"12\" lengthAdjust=\"spacingAndGlyphs\" textLength=\"34\" x=\"613\" y=\"313.1074\">s: Ind</text><line style=\"stroke: #383838; stroke-width: 1.5;\" x1=\"525\" x2=\"735\" y1=\"320.9375\" y2=\"320.9375\"/></a><!--MD5=[60a26617385b1d2d0262a64233df1f8d]\n",
       "class E6--><a href=\"psysml:a76dffb5-cb4a-4142-b15c-9dbeb6bd2474\" target=\"_top\" title=\"psysml:a76dffb5-cb4a-4142-b15c-9dbeb6bd2474\" xlink:actuate=\"onRequest\" xlink:href=\"psysml:a76dffb5-cb4a-4142-b15c-9dbeb6bd2474\" xlink:show=\"new\" xlink:title=\"psysml:a76dffb5-cb4a-4142-b15c-9dbeb6bd2474\" xlink:type=\"simple\"><rect fill=\"#FFFFFF\" height=\"45.9375\" id=\"E6\" rx=\"10\" ry=\"10\" style=\"stroke: #383838; stroke-width: 1.5;\" width=\"146\" x=\"771\" y=\"283\"/><text fill=\"#000000\" font-family=\"sans-serif\" font-size=\"12\" font-style=\"italic\" lengthAdjust=\"spacingAndGlyphs\" textLength=\"144\" x=\"772\" y=\"299.1387\">«timeslice occurrence»</text><text fill=\"#000000\" font-family=\"sans-serif\" font-size=\"12\" lengthAdjust=\"spacingAndGlyphs\" textLength=\"5\" x=\"841.5\" y=\"313.1074\">t</text><line style=\"stroke: #383838; stroke-width: 1.5;\" x1=\"772\" x2=\"916\" y1=\"320.9375\" y2=\"320.9375\"/></a><!--MD5=[2156ba9850f5573cc1fc38a6a4b2f02b]\n",
       "class E7--><a href=\"psysml:cddcce1d-840d-4259-9672-1cad32ef9616\" target=\"_top\" title=\"psysml:cddcce1d-840d-4259-9672-1cad32ef9616\" xlink:actuate=\"onRequest\" xlink:href=\"psysml:cddcce1d-840d-4259-9672-1cad32ef9616\" xlink:show=\"new\" xlink:title=\"psysml:cddcce1d-840d-4259-9672-1cad32ef9616\" xlink:type=\"simple\"><rect fill=\"#FFFFFF\" height=\"45.9375\" id=\"E7\" style=\"stroke: #383838; stroke-width: 1.5;\" width=\"173\" x=\"543.5\" y=\"389\"/><text fill=\"#000000\" font-family=\"sans-serif\" font-size=\"12\" font-style=\"italic\" lengthAdjust=\"spacingAndGlyphs\" textLength=\"171\" x=\"544.5\" y=\"405.1387\">«individual occurrence def»</text><text fill=\"#000000\" font-family=\"sans-serif\" font-size=\"12\" lengthAdjust=\"spacingAndGlyphs\" textLength=\"19\" x=\"620.5\" y=\"419.1074\">Ind</text><line style=\"stroke: #383838; stroke-width: 1.5;\" x1=\"544.5\" x2=\"715.5\" y1=\"426.9375\" y2=\"426.9375\"/></a><!--MD5=[b9389687b975829384b498ac4b7476b2]\n",
       "class E8--><a href=\"psysml:760118bf-f26e-45fa-9528-0dbdf12ed33d\" target=\"_top\" title=\"psysml:760118bf-f26e-45fa-9528-0dbdf12ed33d\" xlink:actuate=\"onRequest\" xlink:href=\"psysml:760118bf-f26e-45fa-9528-0dbdf12ed33d\" xlink:show=\"new\" xlink:title=\"psysml:760118bf-f26e-45fa-9528-0dbdf12ed33d\" xlink:type=\"simple\"><rect fill=\"#FFFFFF\" height=\"45.9375\" id=\"E8\" rx=\"10\" ry=\"10\" style=\"stroke: #383838; stroke-width: 1.5;\" width=\"150\" x=\"463\" y=\"495\"/><text fill=\"#000000\" font-family=\"sans-serif\" font-size=\"12\" font-style=\"italic\" lengthAdjust=\"spacingAndGlyphs\" textLength=\"148\" x=\"464\" y=\"511.1387\">«snapshot occurrence»</text><text fill=\"#000000\" font-family=\"sans-serif\" font-size=\"12\" lengthAdjust=\"spacingAndGlyphs\" textLength=\"15\" x=\"530.5\" y=\"525.1074\">s2</text><line style=\"stroke: #383838; stroke-width: 1.5;\" x1=\"464\" x2=\"612\" y1=\"532.9375\" y2=\"532.9375\"/></a><!--MD5=[fd4143e9d270a159db93a4ea2a975926]\n",
       "class E9--><a href=\"psysml:6916c4a6-d3e9-4718-9bd3-b4da3843528f\" target=\"_top\" title=\"psysml:6916c4a6-d3e9-4718-9bd3-b4da3843528f\" xlink:actuate=\"onRequest\" xlink:href=\"psysml:6916c4a6-d3e9-4718-9bd3-b4da3843528f\" xlink:show=\"new\" xlink:title=\"psysml:6916c4a6-d3e9-4718-9bd3-b4da3843528f\" xlink:type=\"simple\"><rect fill=\"#FFFFFF\" height=\"45.9375\" id=\"E9\" rx=\"10\" ry=\"10\" style=\"stroke: #383838; stroke-width: 1.5;\" width=\"146\" x=\"648\" y=\"495\"/><text fill=\"#000000\" font-family=\"sans-serif\" font-size=\"12\" font-style=\"italic\" lengthAdjust=\"spacingAndGlyphs\" textLength=\"144\" x=\"649\" y=\"511.1387\">«timeslice occurrence»</text><text fill=\"#000000\" font-family=\"sans-serif\" font-size=\"12\" lengthAdjust=\"spacingAndGlyphs\" textLength=\"13\" x=\"714.5\" y=\"525.1074\">t2</text><line style=\"stroke: #383838; stroke-width: 1.5;\" x1=\"649\" x2=\"793\" y1=\"532.9375\" y2=\"532.9375\"/></a><!--MD5=[96f4274e9e20536e775497830990834d]\n",
       "class E10--><a href=\"psysml:ca3e4eae-d888-4010-bdf5-da81d89d1eab\" target=\"_top\" title=\"psysml:ca3e4eae-d888-4010-bdf5-da81d89d1eab\" xlink:actuate=\"onRequest\" xlink:href=\"psysml:ca3e4eae-d888-4010-bdf5-da81d89d1eab\" xlink:show=\"new\" xlink:title=\"psysml:ca3e4eae-d888-4010-bdf5-da81d89d1eab\" xlink:type=\"simple\"><rect fill=\"#FFFFFF\" height=\"45.9375\" id=\"E10\" rx=\"10\" ry=\"10\" style=\"stroke: #383838; stroke-width: 1.5;\" width=\"149\" x=\"505.5\" y=\"41\"/><text fill=\"#000000\" font-family=\"sans-serif\" font-size=\"12\" font-style=\"italic\" lengthAdjust=\"spacingAndGlyphs\" textLength=\"147\" x=\"506.5\" y=\"57.1387\">«individual occurrence»</text><text fill=\"#000000\" font-family=\"sans-serif\" font-size=\"12\" lengthAdjust=\"spacingAndGlyphs\" textLength=\"77\" x=\"541.5\" y=\"71.1074\">ind: Ind, Occ</text><line style=\"stroke: #383838; stroke-width: 1.5;\" x1=\"506.5\" x2=\"653.5\" y1=\"78.9375\" y2=\"78.9375\"/></a><!--MD5=[1dd1bfd58a279cf63c5f349dbc8fc6a1]\n",
       "class E11--><a href=\"psysml:a7aa12fc-e204-4f0a-90f2-9ab0101a123a\" target=\"_top\" title=\"psysml:a7aa12fc-e204-4f0a-90f2-9ab0101a123a\" xlink:actuate=\"onRequest\" xlink:href=\"psysml:a7aa12fc-e204-4f0a-90f2-9ab0101a123a\" xlink:show=\"new\" xlink:title=\"psysml:a7aa12fc-e204-4f0a-90f2-9ab0101a123a\" xlink:type=\"simple\"><rect fill=\"#FFFFFF\" height=\"45.9375\" id=\"E11\" rx=\"10\" ry=\"10\" style=\"stroke: #383838; stroke-width: 1.5;\" width=\"150\" x=\"561\" y=\"162\"/><text fill=\"#000000\" font-family=\"sans-serif\" font-size=\"12\" font-style=\"italic\" lengthAdjust=\"spacingAndGlyphs\" textLength=\"148\" x=\"562\" y=\"178.1387\">«snapshot occurrence»</text><text fill=\"#000000\" font-family=\"sans-serif\" font-size=\"12\" lengthAdjust=\"spacingAndGlyphs\" textLength=\"15\" x=\"628.5\" y=\"192.1074\">s3</text><line style=\"stroke: #383838; stroke-width: 1.5;\" x1=\"562\" x2=\"710\" y1=\"199.9375\" y2=\"199.9375\"/></a><!--MD5=[49a0ec8f00dab7302a31f22d0f0fe584]\n",
       "class E12--><a href=\"psysml:5052c3e9-886b-4521-8bf3-18ad9cb470c5\" target=\"_top\" title=\"psysml:5052c3e9-886b-4521-8bf3-18ad9cb470c5\" xlink:actuate=\"onRequest\" xlink:href=\"psysml:5052c3e9-886b-4521-8bf3-18ad9cb470c5\" xlink:show=\"new\" xlink:title=\"psysml:5052c3e9-886b-4521-8bf3-18ad9cb470c5\" xlink:type=\"simple\"><rect fill=\"#FFFFFF\" height=\"45.9375\" id=\"E12\" rx=\"10\" ry=\"10\" style=\"stroke: #383838; stroke-width: 1.5;\" width=\"208\" x=\"746\" y=\"162\"/><text fill=\"#000000\" font-family=\"sans-serif\" font-size=\"12\" font-style=\"italic\" lengthAdjust=\"spacingAndGlyphs\" textLength=\"206\" x=\"747\" y=\"178.1387\">«individual timeslice occurrence»</text><text fill=\"#000000\" font-family=\"sans-serif\" font-size=\"12\" lengthAdjust=\"spacingAndGlyphs\" textLength=\"13\" x=\"843.5\" y=\"192.1074\">t3</text><line style=\"stroke: #383838; stroke-width: 1.5;\" x1=\"747\" x2=\"953\" y1=\"199.9375\" y2=\"199.9375\"/></a><!--MD5=[ee3c913d1a06f366521f9ef512b67efe]\n",
       "class E13--><a href=\"psysml:e6d8c0e1-46dd-40c0-98f9-8ea23118f8bb\" target=\"_top\" title=\"psysml:e6d8c0e1-46dd-40c0-98f9-8ea23118f8bb\" xlink:actuate=\"onRequest\" xlink:href=\"psysml:e6d8c0e1-46dd-40c0-98f9-8ea23118f8bb\" xlink:show=\"new\" xlink:title=\"psysml:e6d8c0e1-46dd-40c0-98f9-8ea23118f8bb\" xlink:type=\"simple\"><rect fill=\"#FFFFFF\" height=\"45.9375\" id=\"E13\" rx=\"10\" ry=\"10\" style=\"stroke: #383838; stroke-width: 1.5;\" width=\"212\" x=\"32\" y=\"283\"/><text fill=\"#000000\" font-family=\"sans-serif\" font-size=\"12\" font-style=\"italic\" lengthAdjust=\"spacingAndGlyphs\" textLength=\"210\" x=\"33\" y=\"299.1387\">«individual snapshot occurrence»</text><text fill=\"#000000\" font-family=\"sans-serif\" font-size=\"12\" lengthAdjust=\"spacingAndGlyphs\" textLength=\"42\" x=\"117\" y=\"313.1074\">s4: Ind</text><line style=\"stroke: #383838; stroke-width: 1.5;\" x1=\"33\" x2=\"243\" y1=\"320.9375\" y2=\"320.9375\"/></a><!--MD5=[209b3feb70ccb6233bfe1053d122c12c]\n",
       "reverse link E2 to E3--><a href=\"psysml:816d5179-2674-4631-83bc-f7d71b4237a7\" target=\"_top\" title=\"psysml:816d5179-2674-4631-83bc-f7d71b4237a7\" xlink:actuate=\"onRequest\" xlink:href=\"psysml:816d5179-2674-4631-83bc-f7d71b4237a7\" xlink:show=\"new\" xlink:title=\"psysml:816d5179-2674-4631-83bc-f7d71b4237a7\" xlink:type=\"simple\"><path d=\"M377.59,232.45 C360.78,249.83 344.04,268.76 333.23,282.93 \" fill=\"none\" id=\"E2&lt;-E3\" style=\"stroke: #383838; stroke-width: 1.0;\"/><polygon fill=\"#FFFFFF\" points=\"386.9,223,379.8401,224.4691,378.4809,231.5509,385.5407,230.0818,386.9,223\" style=\"stroke: #383838; stroke-width: 1.0;\"/></a><!--MD5=[05d275557350bfb9b23a4ef7222b4c39]\n",
       "link E3 to E2--><a href=\"psysml:eb3070f5-b0ea-4331-ac23-68f76765f53a\" target=\"_top\" title=\"psysml:eb3070f5-b0ea-4331-ac23-68f76765f53a\" xlink:actuate=\"onRequest\" xlink:href=\"psysml:eb3070f5-b0ea-4331-ac23-68f76765f53a\" xlink:show=\"new\" xlink:title=\"psysml:eb3070f5-b0ea-4331-ac23-68f76765f53a\" xlink:type=\"simple\"><path d=\"M354.17,282.93 C367.96,270.34 383.96,253.98 398.07,238.29 \" fill=\"none\" id=\"E3-&gt;E2\" style=\"stroke: #383838; stroke-width: 1.0;\"/><polygon fill=\"#FFFFFF\" points=\"411.4,223,404.1971,241.924,393.6412,232.7276,411.4,223\" style=\"stroke: #383838; stroke-width: 1.0;\"/><ellipse cx=\"398.9449\" cy=\"244.908\" fill=\"#383838\" rx=\"2\" ry=\"2\" style=\"stroke: #383838; stroke-width: 1.0;\"/><ellipse cx=\"391.405\" cy=\"238.3391\" fill=\"#383838\" rx=\"2\" ry=\"2\" style=\"stroke: #383838; stroke-width: 1.0;\"/></a><!--MD5=[9618e71518536f8baf3342ff6fdab317]\n",
       "reverse link E2 to E4--><a href=\"psysml:0447f336-2e88-4877-9a74-bac22478a75a\" target=\"_top\" title=\"psysml:0447f336-2e88-4877-9a74-bac22478a75a\" xlink:actuate=\"onRequest\" xlink:href=\"psysml:0447f336-2e88-4877-9a74-bac22478a75a\" xlink:show=\"new\" xlink:title=\"psysml:0447f336-2e88-4877-9a74-bac22478a75a\" xlink:type=\"simple\"><path d=\"M425.46,236.34 C426.62,252.61 429.17,269.81 432.6,282.93 \" fill=\"none\" id=\"E2&lt;-E4\" style=\"stroke: #383838; stroke-width: 1.0;\"/><polygon fill=\"#383838\" points=\"424.83,223,421.118,229.1823,425.397,234.9866,429.109,228.8043,424.83,223\" style=\"stroke: #383838; stroke-width: 1.0;\"/></a><!--MD5=[185131fc0dcab0a4505a2ebe144e961b]\n",
       "link E4 to E2--><a href=\"psysml:bbe7f0c0-75f0-4d42-b38b-c0f55f25890a\" target=\"_top\" title=\"psysml:bbe7f0c0-75f0-4d42-b38b-c0f55f25890a\" xlink:actuate=\"onRequest\" xlink:href=\"psysml:bbe7f0c0-75f0-4d42-b38b-c0f55f25890a\" xlink:show=\"new\" xlink:title=\"psysml:bbe7f0c0-75f0-4d42-b38b-c0f55f25890a\" xlink:type=\"simple\"><path d=\"M453.54,282.93 C454.33,271.65 453.8,257.34 452.26,243.21 \" fill=\"none\" id=\"E4-&gt;E2\" style=\"stroke: #383838; stroke-width: 1.0;\"/><polygon fill=\"#FFFFFF\" points=\"449.33,223,458.9844,240.7987,445.1294,242.8079,449.33,223\" style=\"stroke: #383838; stroke-width: 1.0;\"/><ellipse cx=\"457.8232\" cy=\"246.7267\" fill=\"#383838\" rx=\"2\" ry=\"2\" style=\"stroke: #383838; stroke-width: 1.0;\"/><ellipse cx=\"447.9267\" cy=\"248.1619\" fill=\"#383838\" rx=\"2\" ry=\"2\" style=\"stroke: #383838; stroke-width: 1.0;\"/></a><!--MD5=[4e1a83fab71cdb913c109063314ae896]\n",
       "reverse link E2 to E5--><a href=\"psysml:5c44c5f5-a434-4c27-9e5d-4b118f9f4fa1\" target=\"_top\" title=\"psysml:5c44c5f5-a434-4c27-9e5d-4b118f9f4fa1\" xlink:actuate=\"onRequest\" xlink:href=\"psysml:5c44c5f5-a434-4c27-9e5d-4b118f9f4fa1\" xlink:show=\"new\" xlink:title=\"psysml:5c44c5f5-a434-4c27-9e5d-4b118f9f4fa1\" xlink:type=\"simple\"><path d=\"M499.94,226.44 C531.22,245.33 567.25,267.1 593.44,282.92 \" fill=\"none\" id=\"E2&lt;-E5\" style=\"stroke: #383838; stroke-width: 1.0;\"/><polygon fill=\"#383838\" points=\"488.66,219.62,491.731,226.1445,498.9348,225.8191,495.8638,219.2947,488.66,219.62\" style=\"stroke: #383838; stroke-width: 1.0;\"/></a><!--MD5=[ce036f65110ae2351ccce5a81dc2e928]\n",
       "reverse link E2 to E6--><a href=\"psysml:f84da050-0b5f-49f5-998e-9b704fc66ebc\" target=\"_top\" title=\"psysml:f84da050-0b5f-49f5-998e-9b704fc66ebc\" xlink:actuate=\"onRequest\" xlink:href=\"psysml:f84da050-0b5f-49f5-998e-9b704fc66ebc\" xlink:show=\"new\" xlink:title=\"psysml:f84da050-0b5f-49f5-998e-9b704fc66ebc\" xlink:type=\"simple\"><path d=\"M501.1,217.48 C506.1,219.45 511.11,221.31 516,223 C528.17,227.2 677.81,264.18 770.71,287.02 \" fill=\"none\" id=\"E2&lt;-E6\" style=\"stroke: #383838; stroke-width: 1.0;\"/><polygon fill=\"#383838\" points=\"488.72,212.43,492.764,218.4004,499.8305,216.9638,495.7866,210.9934,488.72,212.43\" style=\"stroke: #383838; stroke-width: 1.0;\"/><text fill=\"#000000\" font-family=\"sans-serif\" font-size=\"13\" lengthAdjust=\"spacingAndGlyphs\" textLength=\"7\" x=\"755.791\" y=\"281.3662\">*</text></a><!--MD5=[3a9b96bfbf6b6ad89c494e81751bda47]\n",
       "link E5 to E7--><a href=\"psysml:5222325c-bb46-4e39-81f0-12dbae43365a\" target=\"_top\" title=\"psysml:5222325c-bb46-4e39-81f0-12dbae43365a\" xlink:actuate=\"onRequest\" xlink:href=\"psysml:5222325c-bb46-4e39-81f0-12dbae43365a\" xlink:show=\"new\" xlink:title=\"psysml:5222325c-bb46-4e39-81f0-12dbae43365a\" xlink:type=\"simple\"><path d=\"M630,329.06 C630,340.64 630,355.23 630,368.87 \" fill=\"none\" id=\"E5-&gt;E7\" style=\"stroke: #383838; stroke-width: 1.0;\"/><polygon fill=\"#FFFFFF\" points=\"630,388.98,623,369.98,637,369.98,630,388.98\" style=\"stroke: #383838; stroke-width: 1.0;\"/><ellipse cx=\"625\" cy=\"364.28\" fill=\"#383838\" rx=\"2\" ry=\"2\" style=\"stroke: #383838; stroke-width: 1.0;\"/><ellipse cx=\"635\" cy=\"364.28\" fill=\"#383838\" rx=\"2\" ry=\"2\" style=\"stroke: #383838; stroke-width: 1.0;\"/></a><!--MD5=[dc164f5e8a733ab456ef1add180e9e34]\n",
       "reverse link E7 to E8--><a href=\"psysml:62bbb331-bb03-464e-9e32-68694608bffc\" target=\"_top\" title=\"psysml:62bbb331-bb03-464e-9e32-68694608bffc\" xlink:actuate=\"onRequest\" xlink:href=\"psysml:62bbb331-bb03-464e-9e32-68694608bffc\" xlink:show=\"new\" xlink:title=\"psysml:62bbb331-bb03-464e-9e32-68694608bffc\" xlink:type=\"simple\"><path d=\"M601.55,445.16 C587.25,461.33 570.28,480.51 557.48,494.98 \" fill=\"none\" id=\"E7&lt;-E8\" style=\"stroke: #383838; stroke-width: 1.0;\"/><polygon fill=\"#383838\" points=\"610.49,435.06,603.5177,436.9004,602.5348,444.0442,609.5071,442.2038,610.49,435.06\" style=\"stroke: #383838; stroke-width: 1.0;\"/><text fill=\"#000000\" font-family=\"sans-serif\" font-size=\"13\" lengthAdjust=\"spacingAndGlyphs\" textLength=\"7\" x=\"554.7746\" y=\"483.8709\">*</text></a><!--MD5=[e4a10ef82d0e328e31cac39a31e58dda]\n",
       "reverse link E7 to E9--><a href=\"psysml:6940b1aa-8c0f-4381-86aa-7b3e10e8c0d6\" target=\"_top\" title=\"psysml:6940b1aa-8c0f-4381-86aa-7b3e10e8c0d6\" xlink:actuate=\"onRequest\" xlink:href=\"psysml:6940b1aa-8c0f-4381-86aa-7b3e10e8c0d6\" xlink:show=\"new\" xlink:title=\"psysml:6940b1aa-8c0f-4381-86aa-7b3e10e8c0d6\" xlink:type=\"simple\"><path d=\"M658.14,445.16 C672.29,461.33 689.07,480.51 701.73,494.98 \" fill=\"none\" id=\"E7&lt;-E9\" style=\"stroke: #383838; stroke-width: 1.0;\"/><polygon fill=\"#383838\" points=\"649.3,435.06,650.2496,442.2083,657.2133,444.0811,656.2637,436.9328,649.3,435.06\" style=\"stroke: #383838; stroke-width: 1.0;\"/><text fill=\"#000000\" font-family=\"sans-serif\" font-size=\"13\" lengthAdjust=\"spacingAndGlyphs\" textLength=\"7\" x=\"688.6106\" y=\"483.8709\">*</text></a><!--MD5=[a919e0967d6f3de553dc51b9865a1d6d]\n",
       "link E10 to E7--><a href=\"psysml:2d47db94-d209-4d22-9eae-73bfc16721f5\" target=\"_top\" title=\"psysml:2d47db94-d209-4d22-9eae-73bfc16721f5\" xlink:actuate=\"onRequest\" xlink:href=\"psysml:2d47db94-d209-4d22-9eae-73bfc16721f5\" xlink:show=\"new\" xlink:title=\"psysml:2d47db94-d209-4d22-9eae-73bfc16721f5\" xlink:type=\"simple\"><path d=\"M564.36,87.23 C542.92,120.68 510.65,184.15 544,223 C658.5,356.41 820.5,149.59 935,283 C997.65,355.99 847.73,388.27 736.59,401.86 \" fill=\"none\" id=\"E10-&gt;E7\" style=\"stroke: #383838; stroke-width: 1.0;\"/><polygon fill=\"#FFFFFF\" points=\"716.7,404.14,734.7756,395.0147,736.3754,408.923,716.7,404.14\" style=\"stroke: #383838; stroke-width: 1.0;\"/><ellipse cx=\"740.6668\" cy=\"396.3502\" fill=\"#383838\" rx=\"2\" ry=\"2\" style=\"stroke: #383838; stroke-width: 1.0;\"/><ellipse cx=\"741.8096\" cy=\"406.2847\" fill=\"#383838\" rx=\"2\" ry=\"2\" style=\"stroke: #383838; stroke-width: 1.0;\"/></a><!--MD5=[0f36bececdf0dff6e600d6f64214b0f1]\n",
       "link E10 to E2--><a href=\"psysml:6622b004-fc37-43f3-bc42-fdfacc696359\" target=\"_top\" title=\"psysml:6622b004-fc37-43f3-bc42-fdfacc696359\" xlink:actuate=\"onRequest\" xlink:href=\"psysml:6622b004-fc37-43f3-bc42-fdfacc696359\" xlink:show=\"new\" xlink:title=\"psysml:6622b004-fc37-43f3-bc42-fdfacc696359\" xlink:type=\"simple\"><path d=\"M552.69,87.1 C536.38,100.31 514.96,117.65 494.76,134.01 \" fill=\"none\" id=\"E10-&gt;E2\" style=\"stroke: #383838; stroke-width: 1.0;\"/><polygon fill=\"#FFFFFF\" points=\"478.94,146.81,489.301,129.4131,498.1112,140.2934,478.94,146.81\" style=\"stroke: #383838; stroke-width: 1.0;\"/><ellipse cx=\"494.9894\" cy=\"127.3805\" fill=\"#383838\" rx=\"2\" ry=\"2\" style=\"stroke: #383838; stroke-width: 1.0;\"/><ellipse cx=\"501.2824\" cy=\"135.1521\" fill=\"#383838\" rx=\"2\" ry=\"2\" style=\"stroke: #383838; stroke-width: 1.0;\"/></a><!--MD5=[de308be4a2431766a05a907a031c07fc]\n",
       "reverse link E10 to E11--><a href=\"psysml:973d09ca-2c85-400b-8a26-6e03e711a9dc\" target=\"_top\" title=\"psysml:973d09ca-2c85-400b-8a26-6e03e711a9dc\" xlink:actuate=\"onRequest\" xlink:href=\"psysml:973d09ca-2c85-400b-8a26-6e03e711a9dc\" xlink:show=\"new\" xlink:title=\"psysml:973d09ca-2c85-400b-8a26-6e03e711a9dc\" xlink:type=\"simple\"><path d=\"M595.95,98.9 C605.42,119.01 617.15,143.94 625.46,161.61 \" fill=\"none\" id=\"E10&lt;-E11\" style=\"stroke: #383838; stroke-width: 1.0;\"/><polygon fill=\"#383838\" points=\"590.4,87.1,589.3334,94.2318,595.5064,97.9593,596.573,90.8275,590.4,87.1\" style=\"stroke: #383838; stroke-width: 1.0;\"/></a><!--MD5=[1d54f998c6d5961a1a9184be73a7eb6c]\n",
       "reverse link E10 to E12--><a href=\"psysml:4b2dc275-57bf-47aa-bec9-3fe53972a958\" target=\"_top\" title=\"psysml:4b2dc275-57bf-47aa-bec9-3fe53972a958\" xlink:actuate=\"onRequest\" xlink:href=\"psysml:4b2dc275-57bf-47aa-bec9-3fe53972a958\" xlink:show=\"new\" xlink:title=\"psysml:4b2dc275-57bf-47aa-bec9-3fe53972a958\" xlink:type=\"simple\"><path d=\"M642.21,92.42 C689.99,113.48 755.13,142.19 799.66,161.81 \" fill=\"none\" id=\"E10&lt;-E12\" style=\"stroke: #383838; stroke-width: 1.0;\"/><polygon fill=\"#383838\" points=\"630.15,87.1,634.028,93.1796,641.1314,91.9382,637.2534,85.8586,630.15,87.1\" style=\"stroke: #383838; stroke-width: 1.0;\"/></a><!--MD5=[4a48077df6499cfcd20b62e8f5f37904]\n",
       "link E13 to E7--><a href=\"psysml:99db2ce7-7db4-4747-aea3-ba596a45b862\" target=\"_top\" title=\"psysml:99db2ce7-7db4-4747-aea3-ba596a45b862\" xlink:actuate=\"onRequest\" xlink:href=\"psysml:99db2ce7-7db4-4747-aea3-ba596a45b862\" xlink:show=\"new\" xlink:title=\"psysml:99db2ce7-7db4-4747-aea3-ba596a45b862\" xlink:type=\"simple\"><path d=\"M242.34,329.06 C325.16,346.56 440.49,370.94 523.8,388.55 \" fill=\"none\" id=\"E13-&gt;E7\" style=\"stroke: #383838; stroke-width: 1.0;\"/><polygon fill=\"#FFFFFF\" points=\"543.45,392.7,523.4123,395.6135,526.3115,381.917,543.45,392.7\" style=\"stroke: #383838; stroke-width: 1.0;\"/><ellipse cx=\"518.25\" cy=\"392.4765\" fill=\"#383838\" rx=\"2\" ry=\"2\" style=\"stroke: #383838; stroke-width: 1.0;\"/><ellipse cx=\"520.3209\" cy=\"382.6933\" fill=\"#383838\" rx=\"2\" ry=\"2\" style=\"stroke: #383838; stroke-width: 1.0;\"/></a><!--MD5=[813fcdde9825e8999808ba0a61a5336c]\n",
       "@startuml\r\n",
       " skinparam monochrome true\r\n",
       "skinparam classbackgroundcolor white\r\n",
       "skinparam shadowing false\r\n",
       "skinparam wrapWidth 300\r\n",
       "hide circle\r\n",
       "\r\n",
       "package \"OccurrenceTest\" as E1  [[psysml:e6ab502d-dafd-416a-a255-3fa3ad3c263c ]]  {\r\n",
       "comp def \"Occ\" as E2  <<(T,blue) occurrence def>> [[psysml:1203d309-d98c-452c-84ab-9db93e8b8d83 ]] {\r\n",
       "- - attributes - -\r\n",
       "a\r\n",
       "}\r\n",
       "comp usage \"occ1: Occ\" as E3  <<(T,blue) occurrence>> [[psysml:158a345e-3640-4aa1-8638-58b6699698f0 ]] {\r\n",
       "}\r\n",
       "comp usage \"occ2: Occ\" as E4  <<(T,blue) occurrence>> [[psysml:5ccc27c3-07b1-4713-880e-82008912fb62 ]] {\r\n",
       "}\r\n",
       "comp usage \"s: Ind\" as E5  <<(T,blue) individual snapshot occurrence>> [[psysml:b931cfcd-d1f5-4c70-b44c-3b4fd21c9018 ]] {\r\n",
       "}\r\n",
       "comp usage \"t\" as E6  <<(T,blue) timeslice occurrence>> [[psysml:a76dffb5-cb4a-4142-b15c-9dbeb6bd2474 ]] {\r\n",
       "}\r\n",
       "comp def \"Ind\" as E7  <<(T,blue) individual occurrence def>> [[psysml:cddcce1d-840d-4259-9672-1cad32ef9616 ]] {\r\n",
       "}\r\n",
       "comp usage \"s2\" as E8  <<(T,blue) snapshot occurrence>> [[psysml:760118bf-f26e-45fa-9528-0dbdf12ed33d ]] {\r\n",
       "}\r\n",
       "comp usage \"t2\" as E9  <<(T,blue) timeslice occurrence>> [[psysml:6916c4a6-d3e9-4718-9bd3-b4da3843528f ]] {\r\n",
       "}\r\n",
       "comp usage \"ind: Ind, Occ\" as E10  <<(T,blue) individual occurrence>> [[psysml:ca3e4eae-d888-4010-bdf5-da81d89d1eab ]] {\r\n",
       "}\r\n",
       "comp usage \"s3\" as E11  <<(T,blue) snapshot occurrence>> [[psysml:a7aa12fc-e204-4f0a-90f2-9ab0101a123a ]] {\r\n",
       "}\r\n",
       "comp usage \"t3\" as E12  <<(T,blue) individual timeslice occurrence>> [[psysml:5052c3e9-886b-4521-8bf3-18ad9cb470c5 ]] {\r\n",
       "}\r\n",
       "comp usage \"s4: Ind\" as E13  <<(T,blue) individual snapshot occurrence>> [[psysml:e6d8c0e1-46dd-40c0-98f9-8ea23118f8bb ]] {\r\n",
       "}\r\n",
       "}\r\n",
       "E2 o- - E3 [[psysml:816d5179-2674-4631-83bc-f7d71b4237a7 ]] \r\n",
       "E3 - -:|> E2 [[psysml:eb3070f5-b0ea-4331-ac23-68f76765f53a ]] \r\n",
       "E2 *- - E4 [[psysml:0447f336-2e88-4877-9a74-bac22478a75a ]] \r\n",
       "E4 - -:|> E2 [[psysml:bbe7f0c0-75f0-4d42-b38b-c0f55f25890a ]] \r\n",
       "E2 *- - E5 [[psysml:5c44c5f5-a434-4c27-9e5d-4b118f9f4fa1 ]] \r\n",
       "E2 *- - \"*\"E6 [[psysml:f84da050-0b5f-49f5-998e-9b704fc66ebc ]] \r\n",
       "E5 - -:|> E7 [[psysml:5222325c-bb46-4e39-81f0-12dbae43365a ]] \r\n",
       "E7 *- - \"*\"E8 [[psysml:62bbb331-bb03-464e-9e32-68694608bffc ]] \r\n",
       "E7 *- - \"*\"E9 [[psysml:6940b1aa-8c0f-4381-86aa-7b3e10e8c0d6 ]] \r\n",
       "E10 - -:|> E7 [[psysml:2d47db94-d209-4d22-9eae-73bfc16721f5 ]] \r\n",
       "E10 - -:|> E2 [[psysml:6622b004-fc37-43f3-bc42-fdfacc696359 ]] \r\n",
       "E10 *- - E11 [[psysml:973d09ca-2c85-400b-8a26-6e03e711a9dc ]] \r\n",
       "E10 *- - E12 [[psysml:4b2dc275-57bf-47aa-bec9-3fe53972a958 ]] \r\n",
       "E13 - -:|> E7 [[psysml:99db2ce7-7db4-4747-aea3-ba596a45b862 ]] \r\n",
       "@enduml\r\n",
       "\n",
       "PlantUML version 1.2020.13(Sat Jun 13 12:26:38 UTC 2020)\n",
       "(EPL source distribution)\n",
       "Java Runtime: OpenJDK Runtime Environment\n",
       "JVM: OpenJDK 64-Bit Server VM\n",
       "Default Encoding: UTF-8\n",
       "Language: en\n",
       "Country: null\n",
       "--></g></svg>"
      ]
     },
     "execution_count": 8,
     "metadata": {},
     "output_type": "execute_result"
    }
   ],
   "source": [
    "%viz --style=\"COMPTREE\" --view=\"MIXED\" \"OccurrenceTest\""
   ]
  },
  {
   "cell_type": "code",
   "execution_count": 9,
   "id": "3b2f57b5",
   "metadata": {
    "execution": {
     "iopub.execute_input": "2021-10-03T08:28:42.668530Z",
     "iopub.status.busy": "2021-10-03T08:28:42.667922Z",
     "iopub.status.idle": "2021-10-03T08:28:42.752449Z",
     "shell.execute_reply": "2021-10-03T08:28:42.752080Z"
    }
   },
   "outputs": [
    {
     "data": {
      "image/svg+xml": [
       "<?xml version=\"1.0\" encoding=\"UTF-8\" standalone=\"no\"?><svg xmlns=\"http://www.w3.org/2000/svg\" xmlns:xlink=\"http://www.w3.org/1999/xlink\" contentScriptType=\"application/ecmascript\" contentStyleType=\"text/css\" height=\"569px\" preserveAspectRatio=\"none\" style=\"width:992px;height:569px;\" version=\"1.1\" viewBox=\"0 0 992 569\" width=\"992px\" zoomAndPan=\"magnify\"><defs/><g><!--MD5=[fbc87193dbaf4d95561dea2c320d4a47]\n",
       "cluster E1--><a href=\"psysml:e6ab502d-dafd-416a-a255-3fa3ad3c263c\" target=\"_top\" title=\"psysml:e6ab502d-dafd-416a-a255-3fa3ad3c263c\" xlink:actuate=\"onRequest\" xlink:href=\"psysml:e6ab502d-dafd-416a-a255-3fa3ad3c263c\" xlink:show=\"new\" xlink:title=\"psysml:e6ab502d-dafd-416a-a255-3fa3ad3c263c\" xlink:type=\"simple\"><polygon fill=\"#FFFFFF\" points=\"16,6,134,6,141,28.2969,970,28.2969,970,557,16,557,16,6\" style=\"stroke: #000000; stroke-width: 1.5;\"/><line style=\"stroke: #000000; stroke-width: 1.5;\" x1=\"16\" x2=\"141\" y1=\"28.2969\" y2=\"28.2969\"/><text fill=\"#000000\" font-family=\"sans-serif\" font-size=\"14\" font-weight=\"bold\" lengthAdjust=\"spacingAndGlyphs\" textLength=\"112\" x=\"20\" y=\"20.9951\">OccurrenceTest</text></a><!--MD5=[b4997ac47864f28c2f74865a473b2911]\n",
       "class E2--><a href=\"psysml:1203d309-d98c-452c-84ab-9db93e8b8d83\" target=\"_top\" title=\"psysml:1203d309-d98c-452c-84ab-9db93e8b8d83\" xlink:actuate=\"onRequest\" xlink:href=\"psysml:1203d309-d98c-452c-84ab-9db93e8b8d83\" xlink:show=\"new\" xlink:title=\"psysml:1203d309-d98c-452c-84ab-9db93e8b8d83\" xlink:type=\"simple\"><rect fill=\"#FFFFFF\" height=\"75.5469\" id=\"E2\" style=\"stroke: #383838; stroke-width: 1.5;\" width=\"111\" x=\"377.5\" y=\"147\"/><text fill=\"#000000\" font-family=\"sans-serif\" font-size=\"12\" font-style=\"italic\" lengthAdjust=\"spacingAndGlyphs\" textLength=\"109\" x=\"378.5\" y=\"163.1387\">«occurrence def»</text><text fill=\"#000000\" font-family=\"sans-serif\" font-size=\"12\" lengthAdjust=\"spacingAndGlyphs\" textLength=\"23\" x=\"421.5\" y=\"177.1074\">Occ</text><line style=\"stroke: #383838; stroke-width: 1.5;\" x1=\"378.5\" x2=\"487.5\" y1=\"184.9375\" y2=\"184.9375\"/><text fill=\"#000000\" font-family=\"sans-serif\" font-size=\"11\" lengthAdjust=\"spacingAndGlyphs\" textLength=\"7\" x=\"383.5\" y=\"215.9526\">a</text><line style=\"stroke: #383838; stroke-width: 1.0;\" x1=\"378.5\" x2=\"405.5\" y1=\"199.3398\" y2=\"199.3398\"/><text fill=\"#000000\" font-family=\"sans-serif\" font-size=\"11\" lengthAdjust=\"spacingAndGlyphs\" textLength=\"55\" x=\"405.5\" y=\"202.6479\">attributes</text><line style=\"stroke: #383838; stroke-width: 1.0;\" x1=\"460.5\" x2=\"487.5\" y1=\"199.3398\" y2=\"199.3398\"/></a><!--MD5=[09b614a08d8cba4a07c9adeb5e0fee81]\n",
       "class E3--><a href=\"psysml:158a345e-3640-4aa1-8638-58b6699698f0\" target=\"_top\" title=\"psysml:158a345e-3640-4aa1-8638-58b6699698f0\" xlink:actuate=\"onRequest\" xlink:href=\"psysml:158a345e-3640-4aa1-8638-58b6699698f0\" xlink:show=\"new\" xlink:title=\"psysml:158a345e-3640-4aa1-8638-58b6699698f0\" xlink:type=\"simple\"><rect fill=\"#FFFFFF\" height=\"45.9375\" id=\"E3\" rx=\"10\" ry=\"10\" style=\"stroke: #383838; stroke-width: 1.5;\" width=\"87\" x=\"279.5\" y=\"283\"/><text fill=\"#000000\" font-family=\"sans-serif\" font-size=\"12\" font-style=\"italic\" lengthAdjust=\"spacingAndGlyphs\" textLength=\"85\" x=\"280.5\" y=\"299.1387\">«occurrence»</text><text fill=\"#000000\" font-family=\"sans-serif\" font-size=\"12\" lengthAdjust=\"spacingAndGlyphs\" textLength=\"61\" x=\"292.5\" y=\"313.1074\">occ1: Occ</text><line style=\"stroke: #383838; stroke-width: 1.5;\" x1=\"280.5\" x2=\"365.5\" y1=\"320.9375\" y2=\"320.9375\"/></a><!--MD5=[ebbe1d658d1005bcc118a6aa81145e00]\n",
       "class E4--><a href=\"psysml:5ccc27c3-07b1-4713-880e-82008912fb62\" target=\"_top\" title=\"psysml:5ccc27c3-07b1-4713-880e-82008912fb62\" xlink:actuate=\"onRequest\" xlink:href=\"psysml:5ccc27c3-07b1-4713-880e-82008912fb62\" xlink:show=\"new\" xlink:title=\"psysml:5ccc27c3-07b1-4713-880e-82008912fb62\" xlink:type=\"simple\"><rect fill=\"#FFFFFF\" height=\"45.9375\" id=\"E4\" rx=\"10\" ry=\"10\" style=\"stroke: #383838; stroke-width: 1.5;\" width=\"87\" x=\"401.5\" y=\"283\"/><text fill=\"#000000\" font-family=\"sans-serif\" font-size=\"12\" font-style=\"italic\" lengthAdjust=\"spacingAndGlyphs\" textLength=\"85\" x=\"402.5\" y=\"299.1387\">«occurrence»</text><text fill=\"#000000\" font-family=\"sans-serif\" font-size=\"12\" lengthAdjust=\"spacingAndGlyphs\" textLength=\"61\" x=\"414.5\" y=\"313.1074\">occ2: Occ</text><line style=\"stroke: #383838; stroke-width: 1.5;\" x1=\"402.5\" x2=\"487.5\" y1=\"320.9375\" y2=\"320.9375\"/></a><!--MD5=[270fce915f116d4de14055a7c1d9a0f3]\n",
       "class E5--><a href=\"psysml:b931cfcd-d1f5-4c70-b44c-3b4fd21c9018\" target=\"_top\" title=\"psysml:b931cfcd-d1f5-4c70-b44c-3b4fd21c9018\" xlink:actuate=\"onRequest\" xlink:href=\"psysml:b931cfcd-d1f5-4c70-b44c-3b4fd21c9018\" xlink:show=\"new\" xlink:title=\"psysml:b931cfcd-d1f5-4c70-b44c-3b4fd21c9018\" xlink:type=\"simple\"><rect fill=\"#FFFFFF\" height=\"45.9375\" id=\"E5\" rx=\"10\" ry=\"10\" style=\"stroke: #383838; stroke-width: 1.5;\" width=\"212\" x=\"524\" y=\"283\"/><text fill=\"#000000\" font-family=\"sans-serif\" font-size=\"12\" font-style=\"italic\" lengthAdjust=\"spacingAndGlyphs\" textLength=\"210\" x=\"525\" y=\"299.1387\">«individual snapshot occurrence»</text><text fill=\"#000000\" font-family=\"sans-serif\" font-size=\"12\" lengthAdjust=\"spacingAndGlyphs\" textLength=\"34\" x=\"613\" y=\"313.1074\">s: Ind</text><line style=\"stroke: #383838; stroke-width: 1.5;\" x1=\"525\" x2=\"735\" y1=\"320.9375\" y2=\"320.9375\"/></a><!--MD5=[60a26617385b1d2d0262a64233df1f8d]\n",
       "class E6--><a href=\"psysml:a76dffb5-cb4a-4142-b15c-9dbeb6bd2474\" target=\"_top\" title=\"psysml:a76dffb5-cb4a-4142-b15c-9dbeb6bd2474\" xlink:actuate=\"onRequest\" xlink:href=\"psysml:a76dffb5-cb4a-4142-b15c-9dbeb6bd2474\" xlink:show=\"new\" xlink:title=\"psysml:a76dffb5-cb4a-4142-b15c-9dbeb6bd2474\" xlink:type=\"simple\"><rect fill=\"#FFFFFF\" height=\"45.9375\" id=\"E6\" rx=\"10\" ry=\"10\" style=\"stroke: #383838; stroke-width: 1.5;\" width=\"146\" x=\"771\" y=\"283\"/><text fill=\"#000000\" font-family=\"sans-serif\" font-size=\"12\" font-style=\"italic\" lengthAdjust=\"spacingAndGlyphs\" textLength=\"144\" x=\"772\" y=\"299.1387\">«timeslice occurrence»</text><text fill=\"#000000\" font-family=\"sans-serif\" font-size=\"12\" lengthAdjust=\"spacingAndGlyphs\" textLength=\"5\" x=\"841.5\" y=\"313.1074\">t</text><line style=\"stroke: #383838; stroke-width: 1.5;\" x1=\"772\" x2=\"916\" y1=\"320.9375\" y2=\"320.9375\"/></a><!--MD5=[2156ba9850f5573cc1fc38a6a4b2f02b]\n",
       "class E7--><a href=\"psysml:cddcce1d-840d-4259-9672-1cad32ef9616\" target=\"_top\" title=\"psysml:cddcce1d-840d-4259-9672-1cad32ef9616\" xlink:actuate=\"onRequest\" xlink:href=\"psysml:cddcce1d-840d-4259-9672-1cad32ef9616\" xlink:show=\"new\" xlink:title=\"psysml:cddcce1d-840d-4259-9672-1cad32ef9616\" xlink:type=\"simple\"><rect fill=\"#FFFFFF\" height=\"45.9375\" id=\"E7\" style=\"stroke: #383838; stroke-width: 1.5;\" width=\"173\" x=\"543.5\" y=\"389\"/><text fill=\"#000000\" font-family=\"sans-serif\" font-size=\"12\" font-style=\"italic\" lengthAdjust=\"spacingAndGlyphs\" textLength=\"171\" x=\"544.5\" y=\"405.1387\">«individual occurrence def»</text><text fill=\"#000000\" font-family=\"sans-serif\" font-size=\"12\" lengthAdjust=\"spacingAndGlyphs\" textLength=\"19\" x=\"620.5\" y=\"419.1074\">Ind</text><line style=\"stroke: #383838; stroke-width: 1.5;\" x1=\"544.5\" x2=\"715.5\" y1=\"426.9375\" y2=\"426.9375\"/></a><!--MD5=[b9389687b975829384b498ac4b7476b2]\n",
       "class E8--><a href=\"psysml:760118bf-f26e-45fa-9528-0dbdf12ed33d\" target=\"_top\" title=\"psysml:760118bf-f26e-45fa-9528-0dbdf12ed33d\" xlink:actuate=\"onRequest\" xlink:href=\"psysml:760118bf-f26e-45fa-9528-0dbdf12ed33d\" xlink:show=\"new\" xlink:title=\"psysml:760118bf-f26e-45fa-9528-0dbdf12ed33d\" xlink:type=\"simple\"><rect fill=\"#FFFFFF\" height=\"45.9375\" id=\"E8\" rx=\"10\" ry=\"10\" style=\"stroke: #383838; stroke-width: 1.5;\" width=\"150\" x=\"463\" y=\"495\"/><text fill=\"#000000\" font-family=\"sans-serif\" font-size=\"12\" font-style=\"italic\" lengthAdjust=\"spacingAndGlyphs\" textLength=\"148\" x=\"464\" y=\"511.1387\">«snapshot occurrence»</text><text fill=\"#000000\" font-family=\"sans-serif\" font-size=\"12\" lengthAdjust=\"spacingAndGlyphs\" textLength=\"15\" x=\"530.5\" y=\"525.1074\">s2</text><line style=\"stroke: #383838; stroke-width: 1.5;\" x1=\"464\" x2=\"612\" y1=\"532.9375\" y2=\"532.9375\"/></a><!--MD5=[fd4143e9d270a159db93a4ea2a975926]\n",
       "class E9--><a href=\"psysml:6916c4a6-d3e9-4718-9bd3-b4da3843528f\" target=\"_top\" title=\"psysml:6916c4a6-d3e9-4718-9bd3-b4da3843528f\" xlink:actuate=\"onRequest\" xlink:href=\"psysml:6916c4a6-d3e9-4718-9bd3-b4da3843528f\" xlink:show=\"new\" xlink:title=\"psysml:6916c4a6-d3e9-4718-9bd3-b4da3843528f\" xlink:type=\"simple\"><rect fill=\"#FFFFFF\" height=\"45.9375\" id=\"E9\" rx=\"10\" ry=\"10\" style=\"stroke: #383838; stroke-width: 1.5;\" width=\"146\" x=\"648\" y=\"495\"/><text fill=\"#000000\" font-family=\"sans-serif\" font-size=\"12\" font-style=\"italic\" lengthAdjust=\"spacingAndGlyphs\" textLength=\"144\" x=\"649\" y=\"511.1387\">«timeslice occurrence»</text><text fill=\"#000000\" font-family=\"sans-serif\" font-size=\"12\" lengthAdjust=\"spacingAndGlyphs\" textLength=\"13\" x=\"714.5\" y=\"525.1074\">t2</text><line style=\"stroke: #383838; stroke-width: 1.5;\" x1=\"649\" x2=\"793\" y1=\"532.9375\" y2=\"532.9375\"/></a><!--MD5=[96f4274e9e20536e775497830990834d]\n",
       "class E10--><a href=\"psysml:ca3e4eae-d888-4010-bdf5-da81d89d1eab\" target=\"_top\" title=\"psysml:ca3e4eae-d888-4010-bdf5-da81d89d1eab\" xlink:actuate=\"onRequest\" xlink:href=\"psysml:ca3e4eae-d888-4010-bdf5-da81d89d1eab\" xlink:show=\"new\" xlink:title=\"psysml:ca3e4eae-d888-4010-bdf5-da81d89d1eab\" xlink:type=\"simple\"><rect fill=\"#FFFFFF\" height=\"45.9375\" id=\"E10\" rx=\"10\" ry=\"10\" style=\"stroke: #383838; stroke-width: 1.5;\" width=\"149\" x=\"505.5\" y=\"41\"/><text fill=\"#000000\" font-family=\"sans-serif\" font-size=\"12\" font-style=\"italic\" lengthAdjust=\"spacingAndGlyphs\" textLength=\"147\" x=\"506.5\" y=\"57.1387\">«individual occurrence»</text><text fill=\"#000000\" font-family=\"sans-serif\" font-size=\"12\" lengthAdjust=\"spacingAndGlyphs\" textLength=\"77\" x=\"541.5\" y=\"71.1074\">ind: Ind, Occ</text><line style=\"stroke: #383838; stroke-width: 1.5;\" x1=\"506.5\" x2=\"653.5\" y1=\"78.9375\" y2=\"78.9375\"/></a><!--MD5=[1dd1bfd58a279cf63c5f349dbc8fc6a1]\n",
       "class E11--><a href=\"psysml:a7aa12fc-e204-4f0a-90f2-9ab0101a123a\" target=\"_top\" title=\"psysml:a7aa12fc-e204-4f0a-90f2-9ab0101a123a\" xlink:actuate=\"onRequest\" xlink:href=\"psysml:a7aa12fc-e204-4f0a-90f2-9ab0101a123a\" xlink:show=\"new\" xlink:title=\"psysml:a7aa12fc-e204-4f0a-90f2-9ab0101a123a\" xlink:type=\"simple\"><rect fill=\"#FFFFFF\" height=\"45.9375\" id=\"E11\" rx=\"10\" ry=\"10\" style=\"stroke: #383838; stroke-width: 1.5;\" width=\"150\" x=\"561\" y=\"162\"/><text fill=\"#000000\" font-family=\"sans-serif\" font-size=\"12\" font-style=\"italic\" lengthAdjust=\"spacingAndGlyphs\" textLength=\"148\" x=\"562\" y=\"178.1387\">«snapshot occurrence»</text><text fill=\"#000000\" font-family=\"sans-serif\" font-size=\"12\" lengthAdjust=\"spacingAndGlyphs\" textLength=\"15\" x=\"628.5\" y=\"192.1074\">s3</text><line style=\"stroke: #383838; stroke-width: 1.5;\" x1=\"562\" x2=\"710\" y1=\"199.9375\" y2=\"199.9375\"/></a><!--MD5=[49a0ec8f00dab7302a31f22d0f0fe584]\n",
       "class E12--><a href=\"psysml:5052c3e9-886b-4521-8bf3-18ad9cb470c5\" target=\"_top\" title=\"psysml:5052c3e9-886b-4521-8bf3-18ad9cb470c5\" xlink:actuate=\"onRequest\" xlink:href=\"psysml:5052c3e9-886b-4521-8bf3-18ad9cb470c5\" xlink:show=\"new\" xlink:title=\"psysml:5052c3e9-886b-4521-8bf3-18ad9cb470c5\" xlink:type=\"simple\"><rect fill=\"#FFFFFF\" height=\"45.9375\" id=\"E12\" rx=\"10\" ry=\"10\" style=\"stroke: #383838; stroke-width: 1.5;\" width=\"208\" x=\"746\" y=\"162\"/><text fill=\"#000000\" font-family=\"sans-serif\" font-size=\"12\" font-style=\"italic\" lengthAdjust=\"spacingAndGlyphs\" textLength=\"206\" x=\"747\" y=\"178.1387\">«individual timeslice occurrence»</text><text fill=\"#000000\" font-family=\"sans-serif\" font-size=\"12\" lengthAdjust=\"spacingAndGlyphs\" textLength=\"13\" x=\"843.5\" y=\"192.1074\">t3</text><line style=\"stroke: #383838; stroke-width: 1.5;\" x1=\"747\" x2=\"953\" y1=\"199.9375\" y2=\"199.9375\"/></a><!--MD5=[ee3c913d1a06f366521f9ef512b67efe]\n",
       "class E13--><a href=\"psysml:e6d8c0e1-46dd-40c0-98f9-8ea23118f8bb\" target=\"_top\" title=\"psysml:e6d8c0e1-46dd-40c0-98f9-8ea23118f8bb\" xlink:actuate=\"onRequest\" xlink:href=\"psysml:e6d8c0e1-46dd-40c0-98f9-8ea23118f8bb\" xlink:show=\"new\" xlink:title=\"psysml:e6d8c0e1-46dd-40c0-98f9-8ea23118f8bb\" xlink:type=\"simple\"><rect fill=\"#FFFFFF\" height=\"45.9375\" id=\"E13\" rx=\"10\" ry=\"10\" style=\"stroke: #383838; stroke-width: 1.5;\" width=\"212\" x=\"32\" y=\"283\"/><text fill=\"#000000\" font-family=\"sans-serif\" font-size=\"12\" font-style=\"italic\" lengthAdjust=\"spacingAndGlyphs\" textLength=\"210\" x=\"33\" y=\"299.1387\">«individual snapshot occurrence»</text><text fill=\"#000000\" font-family=\"sans-serif\" font-size=\"12\" lengthAdjust=\"spacingAndGlyphs\" textLength=\"42\" x=\"117\" y=\"313.1074\">s4: Ind</text><line style=\"stroke: #383838; stroke-width: 1.5;\" x1=\"33\" x2=\"243\" y1=\"320.9375\" y2=\"320.9375\"/></a><!--MD5=[209b3feb70ccb6233bfe1053d122c12c]\n",
       "reverse link E2 to E3--><a href=\"psysml:816d5179-2674-4631-83bc-f7d71b4237a7\" target=\"_top\" title=\"psysml:816d5179-2674-4631-83bc-f7d71b4237a7\" xlink:actuate=\"onRequest\" xlink:href=\"psysml:816d5179-2674-4631-83bc-f7d71b4237a7\" xlink:show=\"new\" xlink:title=\"psysml:816d5179-2674-4631-83bc-f7d71b4237a7\" xlink:type=\"simple\"><path d=\"M377.59,232.45 C360.78,249.83 344.04,268.76 333.23,282.93 \" fill=\"none\" id=\"E2&lt;-E3\" style=\"stroke: #383838; stroke-width: 1.0;\"/><polygon fill=\"#FFFFFF\" points=\"386.9,223,379.8401,224.4691,378.4809,231.5509,385.5407,230.0818,386.9,223\" style=\"stroke: #383838; stroke-width: 1.0;\"/></a><!--MD5=[05d275557350bfb9b23a4ef7222b4c39]\n",
       "link E3 to E2--><a href=\"psysml:eb3070f5-b0ea-4331-ac23-68f76765f53a\" target=\"_top\" title=\"psysml:eb3070f5-b0ea-4331-ac23-68f76765f53a\" xlink:actuate=\"onRequest\" xlink:href=\"psysml:eb3070f5-b0ea-4331-ac23-68f76765f53a\" xlink:show=\"new\" xlink:title=\"psysml:eb3070f5-b0ea-4331-ac23-68f76765f53a\" xlink:type=\"simple\"><path d=\"M354.17,282.93 C367.96,270.34 383.96,253.98 398.07,238.29 \" fill=\"none\" id=\"E3-&gt;E2\" style=\"stroke: #383838; stroke-width: 1.0;\"/><polygon fill=\"#FFFFFF\" points=\"411.4,223,404.1971,241.924,393.6412,232.7276,411.4,223\" style=\"stroke: #383838; stroke-width: 1.0;\"/><ellipse cx=\"398.9449\" cy=\"244.908\" fill=\"#383838\" rx=\"2\" ry=\"2\" style=\"stroke: #383838; stroke-width: 1.0;\"/><ellipse cx=\"391.405\" cy=\"238.3391\" fill=\"#383838\" rx=\"2\" ry=\"2\" style=\"stroke: #383838; stroke-width: 1.0;\"/></a><!--MD5=[9618e71518536f8baf3342ff6fdab317]\n",
       "reverse link E2 to E4--><a href=\"psysml:0447f336-2e88-4877-9a74-bac22478a75a\" target=\"_top\" title=\"psysml:0447f336-2e88-4877-9a74-bac22478a75a\" xlink:actuate=\"onRequest\" xlink:href=\"psysml:0447f336-2e88-4877-9a74-bac22478a75a\" xlink:show=\"new\" xlink:title=\"psysml:0447f336-2e88-4877-9a74-bac22478a75a\" xlink:type=\"simple\"><path d=\"M425.46,236.34 C426.62,252.61 429.17,269.81 432.6,282.93 \" fill=\"none\" id=\"E2&lt;-E4\" style=\"stroke: #383838; stroke-width: 1.0;\"/><polygon fill=\"#383838\" points=\"424.83,223,421.118,229.1823,425.397,234.9866,429.109,228.8043,424.83,223\" style=\"stroke: #383838; stroke-width: 1.0;\"/></a><!--MD5=[185131fc0dcab0a4505a2ebe144e961b]\n",
       "link E4 to E2--><a href=\"psysml:bbe7f0c0-75f0-4d42-b38b-c0f55f25890a\" target=\"_top\" title=\"psysml:bbe7f0c0-75f0-4d42-b38b-c0f55f25890a\" xlink:actuate=\"onRequest\" xlink:href=\"psysml:bbe7f0c0-75f0-4d42-b38b-c0f55f25890a\" xlink:show=\"new\" xlink:title=\"psysml:bbe7f0c0-75f0-4d42-b38b-c0f55f25890a\" xlink:type=\"simple\"><path d=\"M453.54,282.93 C454.33,271.65 453.8,257.34 452.26,243.21 \" fill=\"none\" id=\"E4-&gt;E2\" style=\"stroke: #383838; stroke-width: 1.0;\"/><polygon fill=\"#FFFFFF\" points=\"449.33,223,458.9844,240.7987,445.1294,242.8079,449.33,223\" style=\"stroke: #383838; stroke-width: 1.0;\"/><ellipse cx=\"457.8232\" cy=\"246.7267\" fill=\"#383838\" rx=\"2\" ry=\"2\" style=\"stroke: #383838; stroke-width: 1.0;\"/><ellipse cx=\"447.9267\" cy=\"248.1619\" fill=\"#383838\" rx=\"2\" ry=\"2\" style=\"stroke: #383838; stroke-width: 1.0;\"/></a><!--MD5=[4e1a83fab71cdb913c109063314ae896]\n",
       "reverse link E2 to E5--><a href=\"psysml:5c44c5f5-a434-4c27-9e5d-4b118f9f4fa1\" target=\"_top\" title=\"psysml:5c44c5f5-a434-4c27-9e5d-4b118f9f4fa1\" xlink:actuate=\"onRequest\" xlink:href=\"psysml:5c44c5f5-a434-4c27-9e5d-4b118f9f4fa1\" xlink:show=\"new\" xlink:title=\"psysml:5c44c5f5-a434-4c27-9e5d-4b118f9f4fa1\" xlink:type=\"simple\"><path d=\"M499.94,226.44 C531.22,245.33 567.25,267.1 593.44,282.92 \" fill=\"none\" id=\"E2&lt;-E5\" style=\"stroke: #383838; stroke-width: 1.0;\"/><polygon fill=\"#383838\" points=\"488.66,219.62,491.731,226.1445,498.9348,225.8191,495.8638,219.2947,488.66,219.62\" style=\"stroke: #383838; stroke-width: 1.0;\"/></a><!--MD5=[ce036f65110ae2351ccce5a81dc2e928]\n",
       "reverse link E2 to E6--><a href=\"psysml:f84da050-0b5f-49f5-998e-9b704fc66ebc\" target=\"_top\" title=\"psysml:f84da050-0b5f-49f5-998e-9b704fc66ebc\" xlink:actuate=\"onRequest\" xlink:href=\"psysml:f84da050-0b5f-49f5-998e-9b704fc66ebc\" xlink:show=\"new\" xlink:title=\"psysml:f84da050-0b5f-49f5-998e-9b704fc66ebc\" xlink:type=\"simple\"><path d=\"M500.9,216.27 C509.85,220.26 516,223 516,223 C516,223 674.13,262.53 770.8,286.7 \" fill=\"none\" id=\"E2&lt;-E6\" style=\"stroke: #383838; stroke-width: 1.0;\"/><polygon fill=\"#383838\" points=\"488.82,210.88,492.6681,216.9785,499.7776,215.772,495.9295,209.6735,488.82,210.88\" style=\"stroke: #383838; stroke-width: 1.0;\"/><text fill=\"#000000\" font-family=\"sans-serif\" font-size=\"13\" lengthAdjust=\"spacingAndGlyphs\" textLength=\"7\" x=\"755.8903\" y=\"281.0132\">*</text></a><!--MD5=[3a9b96bfbf6b6ad89c494e81751bda47]\n",
       "link E5 to E7--><a href=\"psysml:5222325c-bb46-4e39-81f0-12dbae43365a\" target=\"_top\" title=\"psysml:5222325c-bb46-4e39-81f0-12dbae43365a\" xlink:actuate=\"onRequest\" xlink:href=\"psysml:5222325c-bb46-4e39-81f0-12dbae43365a\" xlink:show=\"new\" xlink:title=\"psysml:5222325c-bb46-4e39-81f0-12dbae43365a\" xlink:type=\"simple\"><path d=\"M630,329.06 C630,340.64 630,355.23 630,368.87 \" fill=\"none\" id=\"E5-&gt;E7\" style=\"stroke: #383838; stroke-width: 1.0;\"/><polygon fill=\"#FFFFFF\" points=\"630,388.98,623,369.98,637,369.98,630,388.98\" style=\"stroke: #383838; stroke-width: 1.0;\"/><ellipse cx=\"625\" cy=\"364.28\" fill=\"#383838\" rx=\"2\" ry=\"2\" style=\"stroke: #383838; stroke-width: 1.0;\"/><ellipse cx=\"635\" cy=\"364.28\" fill=\"#383838\" rx=\"2\" ry=\"2\" style=\"stroke: #383838; stroke-width: 1.0;\"/></a><!--MD5=[dc164f5e8a733ab456ef1add180e9e34]\n",
       "reverse link E7 to E8--><a href=\"psysml:62bbb331-bb03-464e-9e32-68694608bffc\" target=\"_top\" title=\"psysml:62bbb331-bb03-464e-9e32-68694608bffc\" xlink:actuate=\"onRequest\" xlink:href=\"psysml:62bbb331-bb03-464e-9e32-68694608bffc\" xlink:show=\"new\" xlink:title=\"psysml:62bbb331-bb03-464e-9e32-68694608bffc\" xlink:type=\"simple\"><path d=\"M601.55,445.16 C587.25,461.33 570.28,480.51 557.48,494.98 \" fill=\"none\" id=\"E7&lt;-E8\" style=\"stroke: #383838; stroke-width: 1.0;\"/><polygon fill=\"#383838\" points=\"610.49,435.06,603.5177,436.9004,602.5348,444.0442,609.5071,442.2038,610.49,435.06\" style=\"stroke: #383838; stroke-width: 1.0;\"/><text fill=\"#000000\" font-family=\"sans-serif\" font-size=\"13\" lengthAdjust=\"spacingAndGlyphs\" textLength=\"7\" x=\"554.7746\" y=\"483.8709\">*</text></a><!--MD5=[e4a10ef82d0e328e31cac39a31e58dda]\n",
       "reverse link E7 to E9--><a href=\"psysml:6940b1aa-8c0f-4381-86aa-7b3e10e8c0d6\" target=\"_top\" title=\"psysml:6940b1aa-8c0f-4381-86aa-7b3e10e8c0d6\" xlink:actuate=\"onRequest\" xlink:href=\"psysml:6940b1aa-8c0f-4381-86aa-7b3e10e8c0d6\" xlink:show=\"new\" xlink:title=\"psysml:6940b1aa-8c0f-4381-86aa-7b3e10e8c0d6\" xlink:type=\"simple\"><path d=\"M658.14,445.16 C672.29,461.33 689.07,480.51 701.73,494.98 \" fill=\"none\" id=\"E7&lt;-E9\" style=\"stroke: #383838; stroke-width: 1.0;\"/><polygon fill=\"#383838\" points=\"649.3,435.06,650.2496,442.2083,657.2133,444.0811,656.2637,436.9328,649.3,435.06\" style=\"stroke: #383838; stroke-width: 1.0;\"/><text fill=\"#000000\" font-family=\"sans-serif\" font-size=\"13\" lengthAdjust=\"spacingAndGlyphs\" textLength=\"7\" x=\"688.6106\" y=\"483.8709\">*</text></a><!--MD5=[a919e0967d6f3de553dc51b9865a1d6d]\n",
       "link E10 to E7--><a href=\"psysml:2d47db94-d209-4d22-9eae-73bfc16721f5\" target=\"_top\" title=\"psysml:2d47db94-d209-4d22-9eae-73bfc16721f5\" xlink:actuate=\"onRequest\" xlink:href=\"psysml:2d47db94-d209-4d22-9eae-73bfc16721f5\" xlink:show=\"new\" xlink:title=\"psysml:2d47db94-d209-4d22-9eae-73bfc16721f5\" xlink:type=\"simple\"><path d=\"M570.16,87.41 C559.5,111.69 544,147 544,147 C544,147 544,223 544,223 C544,223 935,283 935,283 C935,283 935,329 935,329 C935,329 820.21,359.86 731.48,383.72 \" fill=\"none\" id=\"E10-&gt;E7\" style=\"stroke: #383838; stroke-width: 1.0;\"/><polygon fill=\"#FFFFFF\" points=\"712.14,388.92,728.6669,377.2212,732.3065,390.7398,712.14,388.92\" style=\"stroke: #383838; stroke-width: 1.0;\"/><ellipse cx=\"734.6908\" cy=\"377.6706\" fill=\"#383838\" rx=\"2\" ry=\"2\" style=\"stroke: #383838; stroke-width: 1.0;\"/><ellipse cx=\"737.2906\" cy=\"387.3267\" fill=\"#383838\" rx=\"2\" ry=\"2\" style=\"stroke: #383838; stroke-width: 1.0;\"/></a><!--MD5=[0f36bececdf0dff6e600d6f64214b0f1]\n",
       "link E10 to E2--><a href=\"psysml:6622b004-fc37-43f3-bc42-fdfacc696359\" target=\"_top\" title=\"psysml:6622b004-fc37-43f3-bc42-fdfacc696359\" xlink:actuate=\"onRequest\" xlink:href=\"psysml:6622b004-fc37-43f3-bc42-fdfacc696359\" xlink:show=\"new\" xlink:title=\"psysml:6622b004-fc37-43f3-bc42-fdfacc696359\" xlink:type=\"simple\"><path d=\"M552.69,87.1 C536.38,100.31 514.96,117.65 494.76,134.01 \" fill=\"none\" id=\"E10-&gt;E2\" style=\"stroke: #383838; stroke-width: 1.0;\"/><polygon fill=\"#FFFFFF\" points=\"478.94,146.81,489.301,129.4131,498.1112,140.2934,478.94,146.81\" style=\"stroke: #383838; stroke-width: 1.0;\"/><ellipse cx=\"494.9894\" cy=\"127.3805\" fill=\"#383838\" rx=\"2\" ry=\"2\" style=\"stroke: #383838; stroke-width: 1.0;\"/><ellipse cx=\"501.2824\" cy=\"135.1521\" fill=\"#383838\" rx=\"2\" ry=\"2\" style=\"stroke: #383838; stroke-width: 1.0;\"/></a><!--MD5=[de308be4a2431766a05a907a031c07fc]\n",
       "reverse link E10 to E11--><a href=\"psysml:973d09ca-2c85-400b-8a26-6e03e711a9dc\" target=\"_top\" title=\"psysml:973d09ca-2c85-400b-8a26-6e03e711a9dc\" xlink:actuate=\"onRequest\" xlink:href=\"psysml:973d09ca-2c85-400b-8a26-6e03e711a9dc\" xlink:show=\"new\" xlink:title=\"psysml:973d09ca-2c85-400b-8a26-6e03e711a9dc\" xlink:type=\"simple\"><path d=\"M595.95,98.9 C605.42,119.01 617.15,143.94 625.46,161.61 \" fill=\"none\" id=\"E10&lt;-E11\" style=\"stroke: #383838; stroke-width: 1.0;\"/><polygon fill=\"#383838\" points=\"590.4,87.1,589.3334,94.2318,595.5064,97.9593,596.573,90.8275,590.4,87.1\" style=\"stroke: #383838; stroke-width: 1.0;\"/></a><!--MD5=[1d54f998c6d5961a1a9184be73a7eb6c]\n",
       "reverse link E10 to E12--><a href=\"psysml:4b2dc275-57bf-47aa-bec9-3fe53972a958\" target=\"_top\" title=\"psysml:4b2dc275-57bf-47aa-bec9-3fe53972a958\" xlink:actuate=\"onRequest\" xlink:href=\"psysml:4b2dc275-57bf-47aa-bec9-3fe53972a958\" xlink:show=\"new\" xlink:title=\"psysml:4b2dc275-57bf-47aa-bec9-3fe53972a958\" xlink:type=\"simple\"><path d=\"M642.21,92.42 C689.99,113.48 755.13,142.19 799.66,161.81 \" fill=\"none\" id=\"E10&lt;-E12\" style=\"stroke: #383838; stroke-width: 1.0;\"/><polygon fill=\"#383838\" points=\"630.15,87.1,634.028,93.1796,641.1314,91.9382,637.2534,85.8586,630.15,87.1\" style=\"stroke: #383838; stroke-width: 1.0;\"/></a><!--MD5=[4a48077df6499cfcd20b62e8f5f37904]\n",
       "link E13 to E7--><a href=\"psysml:99db2ce7-7db4-4747-aea3-ba596a45b862\" target=\"_top\" title=\"psysml:99db2ce7-7db4-4747-aea3-ba596a45b862\" xlink:actuate=\"onRequest\" xlink:href=\"psysml:99db2ce7-7db4-4747-aea3-ba596a45b862\" xlink:show=\"new\" xlink:title=\"psysml:99db2ce7-7db4-4747-aea3-ba596a45b862\" xlink:type=\"simple\"><path d=\"M242.34,329.06 C325.16,346.56 440.49,370.94 523.8,388.55 \" fill=\"none\" id=\"E13-&gt;E7\" style=\"stroke: #383838; stroke-width: 1.0;\"/><polygon fill=\"#FFFFFF\" points=\"543.45,392.7,523.4123,395.6135,526.3115,381.917,543.45,392.7\" style=\"stroke: #383838; stroke-width: 1.0;\"/><ellipse cx=\"518.25\" cy=\"392.4765\" fill=\"#383838\" rx=\"2\" ry=\"2\" style=\"stroke: #383838; stroke-width: 1.0;\"/><ellipse cx=\"520.3209\" cy=\"382.6933\" fill=\"#383838\" rx=\"2\" ry=\"2\" style=\"stroke: #383838; stroke-width: 1.0;\"/></a><!--MD5=[2d8b67ba8e9593b7cac03e4e454aaee8]\n",
       "@startuml\r\n",
       "skinparam linetype polyline\r\n",
       "skinparam monochrome true\r\n",
       "skinparam classbackgroundcolor white\r\n",
       "skinparam shadowing false\r\n",
       "skinparam wrapWidth 300\r\n",
       "hide circle\r\n",
       "\r\n",
       "package \"OccurrenceTest\" as E1  [[psysml:e6ab502d-dafd-416a-a255-3fa3ad3c263c ]]  {\r\n",
       "comp def \"Occ\" as E2  <<(T,blue) occurrence def>> [[psysml:1203d309-d98c-452c-84ab-9db93e8b8d83 ]] {\r\n",
       "- - attributes - -\r\n",
       "a\r\n",
       "}\r\n",
       "comp usage \"occ1: Occ\" as E3  <<(T,blue) occurrence>> [[psysml:158a345e-3640-4aa1-8638-58b6699698f0 ]] {\r\n",
       "}\r\n",
       "comp usage \"occ2: Occ\" as E4  <<(T,blue) occurrence>> [[psysml:5ccc27c3-07b1-4713-880e-82008912fb62 ]] {\r\n",
       "}\r\n",
       "comp usage \"s: Ind\" as E5  <<(T,blue) individual snapshot occurrence>> [[psysml:b931cfcd-d1f5-4c70-b44c-3b4fd21c9018 ]] {\r\n",
       "}\r\n",
       "comp usage \"t\" as E6  <<(T,blue) timeslice occurrence>> [[psysml:a76dffb5-cb4a-4142-b15c-9dbeb6bd2474 ]] {\r\n",
       "}\r\n",
       "comp def \"Ind\" as E7  <<(T,blue) individual occurrence def>> [[psysml:cddcce1d-840d-4259-9672-1cad32ef9616 ]] {\r\n",
       "}\r\n",
       "comp usage \"s2\" as E8  <<(T,blue) snapshot occurrence>> [[psysml:760118bf-f26e-45fa-9528-0dbdf12ed33d ]] {\r\n",
       "}\r\n",
       "comp usage \"t2\" as E9  <<(T,blue) timeslice occurrence>> [[psysml:6916c4a6-d3e9-4718-9bd3-b4da3843528f ]] {\r\n",
       "}\r\n",
       "comp usage \"ind: Ind, Occ\" as E10  <<(T,blue) individual occurrence>> [[psysml:ca3e4eae-d888-4010-bdf5-da81d89d1eab ]] {\r\n",
       "}\r\n",
       "comp usage \"s3\" as E11  <<(T,blue) snapshot occurrence>> [[psysml:a7aa12fc-e204-4f0a-90f2-9ab0101a123a ]] {\r\n",
       "}\r\n",
       "comp usage \"t3\" as E12  <<(T,blue) individual timeslice occurrence>> [[psysml:5052c3e9-886b-4521-8bf3-18ad9cb470c5 ]] {\r\n",
       "}\r\n",
       "comp usage \"s4: Ind\" as E13  <<(T,blue) individual snapshot occurrence>> [[psysml:e6d8c0e1-46dd-40c0-98f9-8ea23118f8bb ]] {\r\n",
       "}\r\n",
       "}\r\n",
       "E2 o- - E3 [[psysml:816d5179-2674-4631-83bc-f7d71b4237a7 ]] \r\n",
       "E3 - -:|> E2 [[psysml:eb3070f5-b0ea-4331-ac23-68f76765f53a ]] \r\n",
       "E2 *- - E4 [[psysml:0447f336-2e88-4877-9a74-bac22478a75a ]] \r\n",
       "E4 - -:|> E2 [[psysml:bbe7f0c0-75f0-4d42-b38b-c0f55f25890a ]] \r\n",
       "E2 *- - E5 [[psysml:5c44c5f5-a434-4c27-9e5d-4b118f9f4fa1 ]] \r\n",
       "E2 *- - \"*\"E6 [[psysml:f84da050-0b5f-49f5-998e-9b704fc66ebc ]] \r\n",
       "E5 - -:|> E7 [[psysml:5222325c-bb46-4e39-81f0-12dbae43365a ]] \r\n",
       "E7 *- - \"*\"E8 [[psysml:62bbb331-bb03-464e-9e32-68694608bffc ]] \r\n",
       "E7 *- - \"*\"E9 [[psysml:6940b1aa-8c0f-4381-86aa-7b3e10e8c0d6 ]] \r\n",
       "E10 - -:|> E7 [[psysml:2d47db94-d209-4d22-9eae-73bfc16721f5 ]] \r\n",
       "E10 - -:|> E2 [[psysml:6622b004-fc37-43f3-bc42-fdfacc696359 ]] \r\n",
       "E10 *- - E11 [[psysml:973d09ca-2c85-400b-8a26-6e03e711a9dc ]] \r\n",
       "E10 *- - E12 [[psysml:4b2dc275-57bf-47aa-bec9-3fe53972a958 ]] \r\n",
       "E13 - -:|> E7 [[psysml:99db2ce7-7db4-4747-aea3-ba596a45b862 ]] \r\n",
       "@enduml\r\n",
       "\n",
       "PlantUML version 1.2020.13(Sat Jun 13 12:26:38 UTC 2020)\n",
       "(EPL source distribution)\n",
       "Java Runtime: OpenJDK Runtime Environment\n",
       "JVM: OpenJDK 64-Bit Server VM\n",
       "Default Encoding: UTF-8\n",
       "Language: en\n",
       "Country: null\n",
       "--></g></svg>"
      ]
     },
     "execution_count": 9,
     "metadata": {},
     "output_type": "execute_result"
    }
   ],
   "source": [
    "%viz --style=\"POLYLINE\" --view=\"Default\" \"OccurrenceTest\""
   ]
  },
  {
   "cell_type": "code",
   "execution_count": 10,
   "id": "197dadc3",
   "metadata": {
    "execution": {
     "iopub.execute_input": "2021-10-03T08:28:42.801412Z",
     "iopub.status.busy": "2021-10-03T08:28:42.801008Z",
     "iopub.status.idle": "2021-10-03T08:28:42.897828Z",
     "shell.execute_reply": "2021-10-03T08:28:42.897458Z"
    }
   },
   "outputs": [
    {
     "data": {
      "image/svg+xml": [
       "<?xml version=\"1.0\" encoding=\"UTF-8\" standalone=\"no\"?><svg xmlns=\"http://www.w3.org/2000/svg\" xmlns:xlink=\"http://www.w3.org/1999/xlink\" contentScriptType=\"application/ecmascript\" contentStyleType=\"text/css\" height=\"569px\" preserveAspectRatio=\"none\" style=\"width:992px;height:569px;\" version=\"1.1\" viewBox=\"0 0 992 569\" width=\"992px\" zoomAndPan=\"magnify\"><defs/><g><!--MD5=[fbc87193dbaf4d95561dea2c320d4a47]\n",
       "cluster E1--><a href=\"psysml:e6ab502d-dafd-416a-a255-3fa3ad3c263c\" target=\"_top\" title=\"psysml:e6ab502d-dafd-416a-a255-3fa3ad3c263c\" xlink:actuate=\"onRequest\" xlink:href=\"psysml:e6ab502d-dafd-416a-a255-3fa3ad3c263c\" xlink:show=\"new\" xlink:title=\"psysml:e6ab502d-dafd-416a-a255-3fa3ad3c263c\" xlink:type=\"simple\"><polygon fill=\"#FFFFFF\" points=\"16,6,134,6,141,28.2969,970,28.2969,970,557,16,557,16,6\" style=\"stroke: #000000; stroke-width: 1.5;\"/><line style=\"stroke: #000000; stroke-width: 1.5;\" x1=\"16\" x2=\"141\" y1=\"28.2969\" y2=\"28.2969\"/><text fill=\"#000000\" font-family=\"sans-serif\" font-size=\"14\" font-weight=\"bold\" lengthAdjust=\"spacingAndGlyphs\" textLength=\"112\" x=\"20\" y=\"20.9951\">OccurrenceTest</text></a><!--MD5=[b4997ac47864f28c2f74865a473b2911]\n",
       "class E2--><a href=\"psysml:1203d309-d98c-452c-84ab-9db93e8b8d83\" target=\"_top\" title=\"psysml:1203d309-d98c-452c-84ab-9db93e8b8d83\" xlink:actuate=\"onRequest\" xlink:href=\"psysml:1203d309-d98c-452c-84ab-9db93e8b8d83\" xlink:show=\"new\" xlink:title=\"psysml:1203d309-d98c-452c-84ab-9db93e8b8d83\" xlink:type=\"simple\"><rect fill=\"#FFFFFF\" height=\"75.5469\" id=\"E2\" style=\"stroke: #383838; stroke-width: 1.5;\" width=\"111\" x=\"377.5\" y=\"147\"/><text fill=\"#000000\" font-family=\"sans-serif\" font-size=\"12\" font-style=\"italic\" lengthAdjust=\"spacingAndGlyphs\" textLength=\"109\" x=\"378.5\" y=\"163.1387\">«occurrence def»</text><text fill=\"#000000\" font-family=\"sans-serif\" font-size=\"12\" lengthAdjust=\"spacingAndGlyphs\" textLength=\"23\" x=\"421.5\" y=\"177.1074\">Occ</text><line style=\"stroke: #383838; stroke-width: 1.5;\" x1=\"378.5\" x2=\"487.5\" y1=\"184.9375\" y2=\"184.9375\"/><text fill=\"#000000\" font-family=\"sans-serif\" font-size=\"11\" lengthAdjust=\"spacingAndGlyphs\" textLength=\"7\" x=\"383.5\" y=\"215.9526\">a</text><line style=\"stroke: #383838; stroke-width: 1.0;\" x1=\"378.5\" x2=\"405.5\" y1=\"199.3398\" y2=\"199.3398\"/><text fill=\"#000000\" font-family=\"sans-serif\" font-size=\"11\" lengthAdjust=\"spacingAndGlyphs\" textLength=\"55\" x=\"405.5\" y=\"202.6479\">attributes</text><line style=\"stroke: #383838; stroke-width: 1.0;\" x1=\"460.5\" x2=\"487.5\" y1=\"199.3398\" y2=\"199.3398\"/></a><!--MD5=[09b614a08d8cba4a07c9adeb5e0fee81]\n",
       "class E3--><a href=\"psysml:158a345e-3640-4aa1-8638-58b6699698f0\" target=\"_top\" title=\"psysml:158a345e-3640-4aa1-8638-58b6699698f0\" xlink:actuate=\"onRequest\" xlink:href=\"psysml:158a345e-3640-4aa1-8638-58b6699698f0\" xlink:show=\"new\" xlink:title=\"psysml:158a345e-3640-4aa1-8638-58b6699698f0\" xlink:type=\"simple\"><rect fill=\"#FFFFFF\" height=\"45.9375\" id=\"E3\" rx=\"10\" ry=\"10\" style=\"stroke: #383838; stroke-width: 1.5;\" width=\"87\" x=\"279.5\" y=\"283\"/><text fill=\"#000000\" font-family=\"sans-serif\" font-size=\"12\" font-style=\"italic\" lengthAdjust=\"spacingAndGlyphs\" textLength=\"85\" x=\"280.5\" y=\"299.1387\">«occurrence»</text><text fill=\"#000000\" font-family=\"sans-serif\" font-size=\"12\" lengthAdjust=\"spacingAndGlyphs\" textLength=\"61\" x=\"292.5\" y=\"313.1074\">occ1: Occ</text><line style=\"stroke: #383838; stroke-width: 1.5;\" x1=\"280.5\" x2=\"365.5\" y1=\"320.9375\" y2=\"320.9375\"/></a><!--MD5=[ebbe1d658d1005bcc118a6aa81145e00]\n",
       "class E4--><a href=\"psysml:5ccc27c3-07b1-4713-880e-82008912fb62\" target=\"_top\" title=\"psysml:5ccc27c3-07b1-4713-880e-82008912fb62\" xlink:actuate=\"onRequest\" xlink:href=\"psysml:5ccc27c3-07b1-4713-880e-82008912fb62\" xlink:show=\"new\" xlink:title=\"psysml:5ccc27c3-07b1-4713-880e-82008912fb62\" xlink:type=\"simple\"><rect fill=\"#FFFFFF\" height=\"45.9375\" id=\"E4\" rx=\"10\" ry=\"10\" style=\"stroke: #383838; stroke-width: 1.5;\" width=\"87\" x=\"401.5\" y=\"283\"/><text fill=\"#000000\" font-family=\"sans-serif\" font-size=\"12\" font-style=\"italic\" lengthAdjust=\"spacingAndGlyphs\" textLength=\"85\" x=\"402.5\" y=\"299.1387\">«occurrence»</text><text fill=\"#000000\" font-family=\"sans-serif\" font-size=\"12\" lengthAdjust=\"spacingAndGlyphs\" textLength=\"61\" x=\"414.5\" y=\"313.1074\">occ2: Occ</text><line style=\"stroke: #383838; stroke-width: 1.5;\" x1=\"402.5\" x2=\"487.5\" y1=\"320.9375\" y2=\"320.9375\"/></a><!--MD5=[270fce915f116d4de14055a7c1d9a0f3]\n",
       "class E5--><a href=\"psysml:b931cfcd-d1f5-4c70-b44c-3b4fd21c9018\" target=\"_top\" title=\"psysml:b931cfcd-d1f5-4c70-b44c-3b4fd21c9018\" xlink:actuate=\"onRequest\" xlink:href=\"psysml:b931cfcd-d1f5-4c70-b44c-3b4fd21c9018\" xlink:show=\"new\" xlink:title=\"psysml:b931cfcd-d1f5-4c70-b44c-3b4fd21c9018\" xlink:type=\"simple\"><rect fill=\"#FFFFFF\" height=\"45.9375\" id=\"E5\" rx=\"10\" ry=\"10\" style=\"stroke: #383838; stroke-width: 1.5;\" width=\"212\" x=\"524\" y=\"283\"/><text fill=\"#000000\" font-family=\"sans-serif\" font-size=\"12\" font-style=\"italic\" lengthAdjust=\"spacingAndGlyphs\" textLength=\"210\" x=\"525\" y=\"299.1387\">«individual snapshot occurrence»</text><text fill=\"#000000\" font-family=\"sans-serif\" font-size=\"12\" lengthAdjust=\"spacingAndGlyphs\" textLength=\"34\" x=\"613\" y=\"313.1074\">s: Ind</text><line style=\"stroke: #383838; stroke-width: 1.5;\" x1=\"525\" x2=\"735\" y1=\"320.9375\" y2=\"320.9375\"/></a><!--MD5=[60a26617385b1d2d0262a64233df1f8d]\n",
       "class E6--><a href=\"psysml:a76dffb5-cb4a-4142-b15c-9dbeb6bd2474\" target=\"_top\" title=\"psysml:a76dffb5-cb4a-4142-b15c-9dbeb6bd2474\" xlink:actuate=\"onRequest\" xlink:href=\"psysml:a76dffb5-cb4a-4142-b15c-9dbeb6bd2474\" xlink:show=\"new\" xlink:title=\"psysml:a76dffb5-cb4a-4142-b15c-9dbeb6bd2474\" xlink:type=\"simple\"><rect fill=\"#FFFFFF\" height=\"45.9375\" id=\"E6\" rx=\"10\" ry=\"10\" style=\"stroke: #383838; stroke-width: 1.5;\" width=\"146\" x=\"771\" y=\"283\"/><text fill=\"#000000\" font-family=\"sans-serif\" font-size=\"12\" font-style=\"italic\" lengthAdjust=\"spacingAndGlyphs\" textLength=\"144\" x=\"772\" y=\"299.1387\">«timeslice occurrence»</text><text fill=\"#000000\" font-family=\"sans-serif\" font-size=\"12\" lengthAdjust=\"spacingAndGlyphs\" textLength=\"5\" x=\"841.5\" y=\"313.1074\">t</text><line style=\"stroke: #383838; stroke-width: 1.5;\" x1=\"772\" x2=\"916\" y1=\"320.9375\" y2=\"320.9375\"/></a><!--MD5=[2156ba9850f5573cc1fc38a6a4b2f02b]\n",
       "class E7--><a href=\"psysml:cddcce1d-840d-4259-9672-1cad32ef9616\" target=\"_top\" title=\"psysml:cddcce1d-840d-4259-9672-1cad32ef9616\" xlink:actuate=\"onRequest\" xlink:href=\"psysml:cddcce1d-840d-4259-9672-1cad32ef9616\" xlink:show=\"new\" xlink:title=\"psysml:cddcce1d-840d-4259-9672-1cad32ef9616\" xlink:type=\"simple\"><rect fill=\"#FFFFFF\" height=\"45.9375\" id=\"E7\" style=\"stroke: #383838; stroke-width: 1.5;\" width=\"173\" x=\"543.5\" y=\"389\"/><text fill=\"#000000\" font-family=\"sans-serif\" font-size=\"12\" font-style=\"italic\" lengthAdjust=\"spacingAndGlyphs\" textLength=\"171\" x=\"544.5\" y=\"405.1387\">«individual occurrence def»</text><text fill=\"#000000\" font-family=\"sans-serif\" font-size=\"12\" lengthAdjust=\"spacingAndGlyphs\" textLength=\"19\" x=\"620.5\" y=\"419.1074\">Ind</text><line style=\"stroke: #383838; stroke-width: 1.5;\" x1=\"544.5\" x2=\"715.5\" y1=\"426.9375\" y2=\"426.9375\"/></a><!--MD5=[b9389687b975829384b498ac4b7476b2]\n",
       "class E8--><a href=\"psysml:760118bf-f26e-45fa-9528-0dbdf12ed33d\" target=\"_top\" title=\"psysml:760118bf-f26e-45fa-9528-0dbdf12ed33d\" xlink:actuate=\"onRequest\" xlink:href=\"psysml:760118bf-f26e-45fa-9528-0dbdf12ed33d\" xlink:show=\"new\" xlink:title=\"psysml:760118bf-f26e-45fa-9528-0dbdf12ed33d\" xlink:type=\"simple\"><rect fill=\"#FFFFFF\" height=\"45.9375\" id=\"E8\" rx=\"10\" ry=\"10\" style=\"stroke: #383838; stroke-width: 1.5;\" width=\"150\" x=\"463\" y=\"495\"/><text fill=\"#000000\" font-family=\"sans-serif\" font-size=\"12\" font-style=\"italic\" lengthAdjust=\"spacingAndGlyphs\" textLength=\"148\" x=\"464\" y=\"511.1387\">«snapshot occurrence»</text><text fill=\"#000000\" font-family=\"sans-serif\" font-size=\"12\" lengthAdjust=\"spacingAndGlyphs\" textLength=\"15\" x=\"530.5\" y=\"525.1074\">s2</text><line style=\"stroke: #383838; stroke-width: 1.5;\" x1=\"464\" x2=\"612\" y1=\"532.9375\" y2=\"532.9375\"/></a><!--MD5=[fd4143e9d270a159db93a4ea2a975926]\n",
       "class E9--><a href=\"psysml:6916c4a6-d3e9-4718-9bd3-b4da3843528f\" target=\"_top\" title=\"psysml:6916c4a6-d3e9-4718-9bd3-b4da3843528f\" xlink:actuate=\"onRequest\" xlink:href=\"psysml:6916c4a6-d3e9-4718-9bd3-b4da3843528f\" xlink:show=\"new\" xlink:title=\"psysml:6916c4a6-d3e9-4718-9bd3-b4da3843528f\" xlink:type=\"simple\"><rect fill=\"#FFFFFF\" height=\"45.9375\" id=\"E9\" rx=\"10\" ry=\"10\" style=\"stroke: #383838; stroke-width: 1.5;\" width=\"146\" x=\"648\" y=\"495\"/><text fill=\"#000000\" font-family=\"sans-serif\" font-size=\"12\" font-style=\"italic\" lengthAdjust=\"spacingAndGlyphs\" textLength=\"144\" x=\"649\" y=\"511.1387\">«timeslice occurrence»</text><text fill=\"#000000\" font-family=\"sans-serif\" font-size=\"12\" lengthAdjust=\"spacingAndGlyphs\" textLength=\"13\" x=\"714.5\" y=\"525.1074\">t2</text><line style=\"stroke: #383838; stroke-width: 1.5;\" x1=\"649\" x2=\"793\" y1=\"532.9375\" y2=\"532.9375\"/></a><!--MD5=[96f4274e9e20536e775497830990834d]\n",
       "class E10--><a href=\"psysml:ca3e4eae-d888-4010-bdf5-da81d89d1eab\" target=\"_top\" title=\"psysml:ca3e4eae-d888-4010-bdf5-da81d89d1eab\" xlink:actuate=\"onRequest\" xlink:href=\"psysml:ca3e4eae-d888-4010-bdf5-da81d89d1eab\" xlink:show=\"new\" xlink:title=\"psysml:ca3e4eae-d888-4010-bdf5-da81d89d1eab\" xlink:type=\"simple\"><rect fill=\"#FFFFFF\" height=\"45.9375\" id=\"E10\" rx=\"10\" ry=\"10\" style=\"stroke: #383838; stroke-width: 1.5;\" width=\"149\" x=\"505.5\" y=\"41\"/><text fill=\"#000000\" font-family=\"sans-serif\" font-size=\"12\" font-style=\"italic\" lengthAdjust=\"spacingAndGlyphs\" textLength=\"147\" x=\"506.5\" y=\"57.1387\">«individual occurrence»</text><text fill=\"#000000\" font-family=\"sans-serif\" font-size=\"12\" lengthAdjust=\"spacingAndGlyphs\" textLength=\"77\" x=\"541.5\" y=\"71.1074\">ind: Ind, Occ</text><line style=\"stroke: #383838; stroke-width: 1.5;\" x1=\"506.5\" x2=\"653.5\" y1=\"78.9375\" y2=\"78.9375\"/></a><!--MD5=[1dd1bfd58a279cf63c5f349dbc8fc6a1]\n",
       "class E11--><a href=\"psysml:a7aa12fc-e204-4f0a-90f2-9ab0101a123a\" target=\"_top\" title=\"psysml:a7aa12fc-e204-4f0a-90f2-9ab0101a123a\" xlink:actuate=\"onRequest\" xlink:href=\"psysml:a7aa12fc-e204-4f0a-90f2-9ab0101a123a\" xlink:show=\"new\" xlink:title=\"psysml:a7aa12fc-e204-4f0a-90f2-9ab0101a123a\" xlink:type=\"simple\"><rect fill=\"#FFFFFF\" height=\"45.9375\" id=\"E11\" rx=\"10\" ry=\"10\" style=\"stroke: #383838; stroke-width: 1.5;\" width=\"150\" x=\"561\" y=\"162\"/><text fill=\"#000000\" font-family=\"sans-serif\" font-size=\"12\" font-style=\"italic\" lengthAdjust=\"spacingAndGlyphs\" textLength=\"148\" x=\"562\" y=\"178.1387\">«snapshot occurrence»</text><text fill=\"#000000\" font-family=\"sans-serif\" font-size=\"12\" lengthAdjust=\"spacingAndGlyphs\" textLength=\"15\" x=\"628.5\" y=\"192.1074\">s3</text><line style=\"stroke: #383838; stroke-width: 1.5;\" x1=\"562\" x2=\"710\" y1=\"199.9375\" y2=\"199.9375\"/></a><!--MD5=[49a0ec8f00dab7302a31f22d0f0fe584]\n",
       "class E12--><a href=\"psysml:5052c3e9-886b-4521-8bf3-18ad9cb470c5\" target=\"_top\" title=\"psysml:5052c3e9-886b-4521-8bf3-18ad9cb470c5\" xlink:actuate=\"onRequest\" xlink:href=\"psysml:5052c3e9-886b-4521-8bf3-18ad9cb470c5\" xlink:show=\"new\" xlink:title=\"psysml:5052c3e9-886b-4521-8bf3-18ad9cb470c5\" xlink:type=\"simple\"><rect fill=\"#FFFFFF\" height=\"45.9375\" id=\"E12\" rx=\"10\" ry=\"10\" style=\"stroke: #383838; stroke-width: 1.5;\" width=\"208\" x=\"746\" y=\"162\"/><text fill=\"#000000\" font-family=\"sans-serif\" font-size=\"12\" font-style=\"italic\" lengthAdjust=\"spacingAndGlyphs\" textLength=\"206\" x=\"747\" y=\"178.1387\">«individual timeslice occurrence»</text><text fill=\"#000000\" font-family=\"sans-serif\" font-size=\"12\" lengthAdjust=\"spacingAndGlyphs\" textLength=\"13\" x=\"843.5\" y=\"192.1074\">t3</text><line style=\"stroke: #383838; stroke-width: 1.5;\" x1=\"747\" x2=\"953\" y1=\"199.9375\" y2=\"199.9375\"/></a><!--MD5=[ee3c913d1a06f366521f9ef512b67efe]\n",
       "class E13--><a href=\"psysml:e6d8c0e1-46dd-40c0-98f9-8ea23118f8bb\" target=\"_top\" title=\"psysml:e6d8c0e1-46dd-40c0-98f9-8ea23118f8bb\" xlink:actuate=\"onRequest\" xlink:href=\"psysml:e6d8c0e1-46dd-40c0-98f9-8ea23118f8bb\" xlink:show=\"new\" xlink:title=\"psysml:e6d8c0e1-46dd-40c0-98f9-8ea23118f8bb\" xlink:type=\"simple\"><rect fill=\"#FFFFFF\" height=\"45.9375\" id=\"E13\" rx=\"10\" ry=\"10\" style=\"stroke: #383838; stroke-width: 1.5;\" width=\"212\" x=\"32\" y=\"283\"/><text fill=\"#000000\" font-family=\"sans-serif\" font-size=\"12\" font-style=\"italic\" lengthAdjust=\"spacingAndGlyphs\" textLength=\"210\" x=\"33\" y=\"299.1387\">«individual snapshot occurrence»</text><text fill=\"#000000\" font-family=\"sans-serif\" font-size=\"12\" lengthAdjust=\"spacingAndGlyphs\" textLength=\"42\" x=\"117\" y=\"313.1074\">s4: Ind</text><line style=\"stroke: #383838; stroke-width: 1.5;\" x1=\"33\" x2=\"243\" y1=\"320.9375\" y2=\"320.9375\"/></a><!--MD5=[209b3feb70ccb6233bfe1053d122c12c]\n",
       "reverse link E2 to E3--><a href=\"psysml:816d5179-2674-4631-83bc-f7d71b4237a7\" target=\"_top\" title=\"psysml:816d5179-2674-4631-83bc-f7d71b4237a7\" xlink:actuate=\"onRequest\" xlink:href=\"psysml:816d5179-2674-4631-83bc-f7d71b4237a7\" xlink:show=\"new\" xlink:title=\"psysml:816d5179-2674-4631-83bc-f7d71b4237a7\" xlink:type=\"simple\"><path d=\"M377.59,232.45 C360.78,249.83 344.04,268.76 333.23,282.93 \" fill=\"none\" id=\"E2&lt;-E3\" style=\"stroke: #383838; stroke-width: 1.0;\"/><polygon fill=\"#FFFFFF\" points=\"386.9,223,379.8401,224.4691,378.4809,231.5509,385.5407,230.0818,386.9,223\" style=\"stroke: #383838; stroke-width: 1.0;\"/></a><!--MD5=[05d275557350bfb9b23a4ef7222b4c39]\n",
       "link E3 to E2--><a href=\"psysml:eb3070f5-b0ea-4331-ac23-68f76765f53a\" target=\"_top\" title=\"psysml:eb3070f5-b0ea-4331-ac23-68f76765f53a\" xlink:actuate=\"onRequest\" xlink:href=\"psysml:eb3070f5-b0ea-4331-ac23-68f76765f53a\" xlink:show=\"new\" xlink:title=\"psysml:eb3070f5-b0ea-4331-ac23-68f76765f53a\" xlink:type=\"simple\"><path d=\"M354.17,282.93 C367.96,270.34 383.96,253.98 398.07,238.29 \" fill=\"none\" id=\"E3-&gt;E2\" style=\"stroke: #383838; stroke-width: 1.0;\"/><polygon fill=\"#FFFFFF\" points=\"411.4,223,404.1971,241.924,393.6412,232.7276,411.4,223\" style=\"stroke: #383838; stroke-width: 1.0;\"/><ellipse cx=\"398.9449\" cy=\"244.908\" fill=\"#383838\" rx=\"2\" ry=\"2\" style=\"stroke: #383838; stroke-width: 1.0;\"/><ellipse cx=\"391.405\" cy=\"238.3391\" fill=\"#383838\" rx=\"2\" ry=\"2\" style=\"stroke: #383838; stroke-width: 1.0;\"/></a><!--MD5=[9618e71518536f8baf3342ff6fdab317]\n",
       "reverse link E2 to E4--><a href=\"psysml:0447f336-2e88-4877-9a74-bac22478a75a\" target=\"_top\" title=\"psysml:0447f336-2e88-4877-9a74-bac22478a75a\" xlink:actuate=\"onRequest\" xlink:href=\"psysml:0447f336-2e88-4877-9a74-bac22478a75a\" xlink:show=\"new\" xlink:title=\"psysml:0447f336-2e88-4877-9a74-bac22478a75a\" xlink:type=\"simple\"><path d=\"M425.46,236.34 C426.62,252.61 429.17,269.81 432.6,282.93 \" fill=\"none\" id=\"E2&lt;-E4\" style=\"stroke: #383838; stroke-width: 1.0;\"/><polygon fill=\"#383838\" points=\"424.83,223,421.118,229.1823,425.397,234.9866,429.109,228.8043,424.83,223\" style=\"stroke: #383838; stroke-width: 1.0;\"/></a><!--MD5=[185131fc0dcab0a4505a2ebe144e961b]\n",
       "link E4 to E2--><a href=\"psysml:bbe7f0c0-75f0-4d42-b38b-c0f55f25890a\" target=\"_top\" title=\"psysml:bbe7f0c0-75f0-4d42-b38b-c0f55f25890a\" xlink:actuate=\"onRequest\" xlink:href=\"psysml:bbe7f0c0-75f0-4d42-b38b-c0f55f25890a\" xlink:show=\"new\" xlink:title=\"psysml:bbe7f0c0-75f0-4d42-b38b-c0f55f25890a\" xlink:type=\"simple\"><path d=\"M453.54,282.93 C454.33,271.65 453.8,257.34 452.26,243.21 \" fill=\"none\" id=\"E4-&gt;E2\" style=\"stroke: #383838; stroke-width: 1.0;\"/><polygon fill=\"#FFFFFF\" points=\"449.33,223,458.9844,240.7987,445.1294,242.8079,449.33,223\" style=\"stroke: #383838; stroke-width: 1.0;\"/><ellipse cx=\"457.8232\" cy=\"246.7267\" fill=\"#383838\" rx=\"2\" ry=\"2\" style=\"stroke: #383838; stroke-width: 1.0;\"/><ellipse cx=\"447.9267\" cy=\"248.1619\" fill=\"#383838\" rx=\"2\" ry=\"2\" style=\"stroke: #383838; stroke-width: 1.0;\"/></a><!--MD5=[4e1a83fab71cdb913c109063314ae896]\n",
       "reverse link E2 to E5--><a href=\"psysml:5c44c5f5-a434-4c27-9e5d-4b118f9f4fa1\" target=\"_top\" title=\"psysml:5c44c5f5-a434-4c27-9e5d-4b118f9f4fa1\" xlink:actuate=\"onRequest\" xlink:href=\"psysml:5c44c5f5-a434-4c27-9e5d-4b118f9f4fa1\" xlink:show=\"new\" xlink:title=\"psysml:5c44c5f5-a434-4c27-9e5d-4b118f9f4fa1\" xlink:type=\"simple\"><path d=\"M499.94,226.44 C531.22,245.33 567.25,267.1 593.44,282.92 \" fill=\"none\" id=\"E2&lt;-E5\" style=\"stroke: #383838; stroke-width: 1.0;\"/><polygon fill=\"#383838\" points=\"488.66,219.62,491.731,226.1445,498.9348,225.8191,495.8638,219.2947,488.66,219.62\" style=\"stroke: #383838; stroke-width: 1.0;\"/></a><!--MD5=[ce036f65110ae2351ccce5a81dc2e928]\n",
       "reverse link E2 to E6--><a href=\"psysml:f84da050-0b5f-49f5-998e-9b704fc66ebc\" target=\"_top\" title=\"psysml:f84da050-0b5f-49f5-998e-9b704fc66ebc\" xlink:actuate=\"onRequest\" xlink:href=\"psysml:f84da050-0b5f-49f5-998e-9b704fc66ebc\" xlink:show=\"new\" xlink:title=\"psysml:f84da050-0b5f-49f5-998e-9b704fc66ebc\" xlink:type=\"simple\"><path d=\"M500.9,216.27 C509.85,220.26 516,223 516,223 C516,223 674.13,262.53 770.8,286.7 \" fill=\"none\" id=\"E2&lt;-E6\" style=\"stroke: #383838; stroke-width: 1.0;\"/><polygon fill=\"#383838\" points=\"488.82,210.88,492.6681,216.9785,499.7776,215.772,495.9295,209.6735,488.82,210.88\" style=\"stroke: #383838; stroke-width: 1.0;\"/><text fill=\"#000000\" font-family=\"sans-serif\" font-size=\"13\" lengthAdjust=\"spacingAndGlyphs\" textLength=\"7\" x=\"755.8903\" y=\"281.0132\">*</text></a><!--MD5=[3a9b96bfbf6b6ad89c494e81751bda47]\n",
       "link E5 to E7--><a href=\"psysml:5222325c-bb46-4e39-81f0-12dbae43365a\" target=\"_top\" title=\"psysml:5222325c-bb46-4e39-81f0-12dbae43365a\" xlink:actuate=\"onRequest\" xlink:href=\"psysml:5222325c-bb46-4e39-81f0-12dbae43365a\" xlink:show=\"new\" xlink:title=\"psysml:5222325c-bb46-4e39-81f0-12dbae43365a\" xlink:type=\"simple\"><path d=\"M630,329.06 C630,340.64 630,355.23 630,368.87 \" fill=\"none\" id=\"E5-&gt;E7\" style=\"stroke: #383838; stroke-width: 1.0;\"/><polygon fill=\"#FFFFFF\" points=\"630,388.98,623,369.98,637,369.98,630,388.98\" style=\"stroke: #383838; stroke-width: 1.0;\"/><ellipse cx=\"625\" cy=\"364.28\" fill=\"#383838\" rx=\"2\" ry=\"2\" style=\"stroke: #383838; stroke-width: 1.0;\"/><ellipse cx=\"635\" cy=\"364.28\" fill=\"#383838\" rx=\"2\" ry=\"2\" style=\"stroke: #383838; stroke-width: 1.0;\"/></a><!--MD5=[dc164f5e8a733ab456ef1add180e9e34]\n",
       "reverse link E7 to E8--><a href=\"psysml:62bbb331-bb03-464e-9e32-68694608bffc\" target=\"_top\" title=\"psysml:62bbb331-bb03-464e-9e32-68694608bffc\" xlink:actuate=\"onRequest\" xlink:href=\"psysml:62bbb331-bb03-464e-9e32-68694608bffc\" xlink:show=\"new\" xlink:title=\"psysml:62bbb331-bb03-464e-9e32-68694608bffc\" xlink:type=\"simple\"><path d=\"M601.55,445.16 C587.25,461.33 570.28,480.51 557.48,494.98 \" fill=\"none\" id=\"E7&lt;-E8\" style=\"stroke: #383838; stroke-width: 1.0;\"/><polygon fill=\"#383838\" points=\"610.49,435.06,603.5177,436.9004,602.5348,444.0442,609.5071,442.2038,610.49,435.06\" style=\"stroke: #383838; stroke-width: 1.0;\"/><text fill=\"#000000\" font-family=\"sans-serif\" font-size=\"13\" lengthAdjust=\"spacingAndGlyphs\" textLength=\"7\" x=\"554.7746\" y=\"483.8709\">*</text></a><!--MD5=[e4a10ef82d0e328e31cac39a31e58dda]\n",
       "reverse link E7 to E9--><a href=\"psysml:6940b1aa-8c0f-4381-86aa-7b3e10e8c0d6\" target=\"_top\" title=\"psysml:6940b1aa-8c0f-4381-86aa-7b3e10e8c0d6\" xlink:actuate=\"onRequest\" xlink:href=\"psysml:6940b1aa-8c0f-4381-86aa-7b3e10e8c0d6\" xlink:show=\"new\" xlink:title=\"psysml:6940b1aa-8c0f-4381-86aa-7b3e10e8c0d6\" xlink:type=\"simple\"><path d=\"M658.14,445.16 C672.29,461.33 689.07,480.51 701.73,494.98 \" fill=\"none\" id=\"E7&lt;-E9\" style=\"stroke: #383838; stroke-width: 1.0;\"/><polygon fill=\"#383838\" points=\"649.3,435.06,650.2496,442.2083,657.2133,444.0811,656.2637,436.9328,649.3,435.06\" style=\"stroke: #383838; stroke-width: 1.0;\"/><text fill=\"#000000\" font-family=\"sans-serif\" font-size=\"13\" lengthAdjust=\"spacingAndGlyphs\" textLength=\"7\" x=\"688.6106\" y=\"483.8709\">*</text></a><!--MD5=[a919e0967d6f3de553dc51b9865a1d6d]\n",
       "link E10 to E7--><a href=\"psysml:2d47db94-d209-4d22-9eae-73bfc16721f5\" target=\"_top\" title=\"psysml:2d47db94-d209-4d22-9eae-73bfc16721f5\" xlink:actuate=\"onRequest\" xlink:href=\"psysml:2d47db94-d209-4d22-9eae-73bfc16721f5\" xlink:show=\"new\" xlink:title=\"psysml:2d47db94-d209-4d22-9eae-73bfc16721f5\" xlink:type=\"simple\"><path d=\"M570.16,87.41 C559.5,111.69 544,147 544,147 C544,147 544,223 544,223 C544,223 935,283 935,283 C935,283 935,329 935,329 C935,329 820.21,359.86 731.48,383.72 \" fill=\"none\" id=\"E10-&gt;E7\" style=\"stroke: #383838; stroke-width: 1.0;\"/><polygon fill=\"#FFFFFF\" points=\"712.14,388.92,728.6669,377.2212,732.3065,390.7398,712.14,388.92\" style=\"stroke: #383838; stroke-width: 1.0;\"/><ellipse cx=\"734.6908\" cy=\"377.6706\" fill=\"#383838\" rx=\"2\" ry=\"2\" style=\"stroke: #383838; stroke-width: 1.0;\"/><ellipse cx=\"737.2906\" cy=\"387.3267\" fill=\"#383838\" rx=\"2\" ry=\"2\" style=\"stroke: #383838; stroke-width: 1.0;\"/></a><!--MD5=[0f36bececdf0dff6e600d6f64214b0f1]\n",
       "link E10 to E2--><a href=\"psysml:6622b004-fc37-43f3-bc42-fdfacc696359\" target=\"_top\" title=\"psysml:6622b004-fc37-43f3-bc42-fdfacc696359\" xlink:actuate=\"onRequest\" xlink:href=\"psysml:6622b004-fc37-43f3-bc42-fdfacc696359\" xlink:show=\"new\" xlink:title=\"psysml:6622b004-fc37-43f3-bc42-fdfacc696359\" xlink:type=\"simple\"><path d=\"M552.69,87.1 C536.38,100.31 514.96,117.65 494.76,134.01 \" fill=\"none\" id=\"E10-&gt;E2\" style=\"stroke: #383838; stroke-width: 1.0;\"/><polygon fill=\"#FFFFFF\" points=\"478.94,146.81,489.301,129.4131,498.1112,140.2934,478.94,146.81\" style=\"stroke: #383838; stroke-width: 1.0;\"/><ellipse cx=\"494.9894\" cy=\"127.3805\" fill=\"#383838\" rx=\"2\" ry=\"2\" style=\"stroke: #383838; stroke-width: 1.0;\"/><ellipse cx=\"501.2824\" cy=\"135.1521\" fill=\"#383838\" rx=\"2\" ry=\"2\" style=\"stroke: #383838; stroke-width: 1.0;\"/></a><!--MD5=[de308be4a2431766a05a907a031c07fc]\n",
       "reverse link E10 to E11--><a href=\"psysml:973d09ca-2c85-400b-8a26-6e03e711a9dc\" target=\"_top\" title=\"psysml:973d09ca-2c85-400b-8a26-6e03e711a9dc\" xlink:actuate=\"onRequest\" xlink:href=\"psysml:973d09ca-2c85-400b-8a26-6e03e711a9dc\" xlink:show=\"new\" xlink:title=\"psysml:973d09ca-2c85-400b-8a26-6e03e711a9dc\" xlink:type=\"simple\"><path d=\"M595.95,98.9 C605.42,119.01 617.15,143.94 625.46,161.61 \" fill=\"none\" id=\"E10&lt;-E11\" style=\"stroke: #383838; stroke-width: 1.0;\"/><polygon fill=\"#383838\" points=\"590.4,87.1,589.3334,94.2318,595.5064,97.9593,596.573,90.8275,590.4,87.1\" style=\"stroke: #383838; stroke-width: 1.0;\"/></a><!--MD5=[1d54f998c6d5961a1a9184be73a7eb6c]\n",
       "reverse link E10 to E12--><a href=\"psysml:4b2dc275-57bf-47aa-bec9-3fe53972a958\" target=\"_top\" title=\"psysml:4b2dc275-57bf-47aa-bec9-3fe53972a958\" xlink:actuate=\"onRequest\" xlink:href=\"psysml:4b2dc275-57bf-47aa-bec9-3fe53972a958\" xlink:show=\"new\" xlink:title=\"psysml:4b2dc275-57bf-47aa-bec9-3fe53972a958\" xlink:type=\"simple\"><path d=\"M642.21,92.42 C689.99,113.48 755.13,142.19 799.66,161.81 \" fill=\"none\" id=\"E10&lt;-E12\" style=\"stroke: #383838; stroke-width: 1.0;\"/><polygon fill=\"#383838\" points=\"630.15,87.1,634.028,93.1796,641.1314,91.9382,637.2534,85.8586,630.15,87.1\" style=\"stroke: #383838; stroke-width: 1.0;\"/></a><!--MD5=[4a48077df6499cfcd20b62e8f5f37904]\n",
       "link E13 to E7--><a href=\"psysml:99db2ce7-7db4-4747-aea3-ba596a45b862\" target=\"_top\" title=\"psysml:99db2ce7-7db4-4747-aea3-ba596a45b862\" xlink:actuate=\"onRequest\" xlink:href=\"psysml:99db2ce7-7db4-4747-aea3-ba596a45b862\" xlink:show=\"new\" xlink:title=\"psysml:99db2ce7-7db4-4747-aea3-ba596a45b862\" xlink:type=\"simple\"><path d=\"M242.34,329.06 C325.16,346.56 440.49,370.94 523.8,388.55 \" fill=\"none\" id=\"E13-&gt;E7\" style=\"stroke: #383838; stroke-width: 1.0;\"/><polygon fill=\"#FFFFFF\" points=\"543.45,392.7,523.4123,395.6135,526.3115,381.917,543.45,392.7\" style=\"stroke: #383838; stroke-width: 1.0;\"/><ellipse cx=\"518.25\" cy=\"392.4765\" fill=\"#383838\" rx=\"2\" ry=\"2\" style=\"stroke: #383838; stroke-width: 1.0;\"/><ellipse cx=\"520.3209\" cy=\"382.6933\" fill=\"#383838\" rx=\"2\" ry=\"2\" style=\"stroke: #383838; stroke-width: 1.0;\"/></a><!--MD5=[2d8b67ba8e9593b7cac03e4e454aaee8]\n",
       "@startuml\r\n",
       "skinparam linetype polyline\r\n",
       "skinparam monochrome true\r\n",
       "skinparam classbackgroundcolor white\r\n",
       "skinparam shadowing false\r\n",
       "skinparam wrapWidth 300\r\n",
       "hide circle\r\n",
       "\r\n",
       "package \"OccurrenceTest\" as E1  [[psysml:e6ab502d-dafd-416a-a255-3fa3ad3c263c ]]  {\r\n",
       "comp def \"Occ\" as E2  <<(T,blue) occurrence def>> [[psysml:1203d309-d98c-452c-84ab-9db93e8b8d83 ]] {\r\n",
       "- - attributes - -\r\n",
       "a\r\n",
       "}\r\n",
       "comp usage \"occ1: Occ\" as E3  <<(T,blue) occurrence>> [[psysml:158a345e-3640-4aa1-8638-58b6699698f0 ]] {\r\n",
       "}\r\n",
       "comp usage \"occ2: Occ\" as E4  <<(T,blue) occurrence>> [[psysml:5ccc27c3-07b1-4713-880e-82008912fb62 ]] {\r\n",
       "}\r\n",
       "comp usage \"s: Ind\" as E5  <<(T,blue) individual snapshot occurrence>> [[psysml:b931cfcd-d1f5-4c70-b44c-3b4fd21c9018 ]] {\r\n",
       "}\r\n",
       "comp usage \"t\" as E6  <<(T,blue) timeslice occurrence>> [[psysml:a76dffb5-cb4a-4142-b15c-9dbeb6bd2474 ]] {\r\n",
       "}\r\n",
       "comp def \"Ind\" as E7  <<(T,blue) individual occurrence def>> [[psysml:cddcce1d-840d-4259-9672-1cad32ef9616 ]] {\r\n",
       "}\r\n",
       "comp usage \"s2\" as E8  <<(T,blue) snapshot occurrence>> [[psysml:760118bf-f26e-45fa-9528-0dbdf12ed33d ]] {\r\n",
       "}\r\n",
       "comp usage \"t2\" as E9  <<(T,blue) timeslice occurrence>> [[psysml:6916c4a6-d3e9-4718-9bd3-b4da3843528f ]] {\r\n",
       "}\r\n",
       "comp usage \"ind: Ind, Occ\" as E10  <<(T,blue) individual occurrence>> [[psysml:ca3e4eae-d888-4010-bdf5-da81d89d1eab ]] {\r\n",
       "}\r\n",
       "comp usage \"s3\" as E11  <<(T,blue) snapshot occurrence>> [[psysml:a7aa12fc-e204-4f0a-90f2-9ab0101a123a ]] {\r\n",
       "}\r\n",
       "comp usage \"t3\" as E12  <<(T,blue) individual timeslice occurrence>> [[psysml:5052c3e9-886b-4521-8bf3-18ad9cb470c5 ]] {\r\n",
       "}\r\n",
       "comp usage \"s4: Ind\" as E13  <<(T,blue) individual snapshot occurrence>> [[psysml:e6d8c0e1-46dd-40c0-98f9-8ea23118f8bb ]] {\r\n",
       "}\r\n",
       "}\r\n",
       "E2 o- - E3 [[psysml:816d5179-2674-4631-83bc-f7d71b4237a7 ]] \r\n",
       "E3 - -:|> E2 [[psysml:eb3070f5-b0ea-4331-ac23-68f76765f53a ]] \r\n",
       "E2 *- - E4 [[psysml:0447f336-2e88-4877-9a74-bac22478a75a ]] \r\n",
       "E4 - -:|> E2 [[psysml:bbe7f0c0-75f0-4d42-b38b-c0f55f25890a ]] \r\n",
       "E2 *- - E5 [[psysml:5c44c5f5-a434-4c27-9e5d-4b118f9f4fa1 ]] \r\n",
       "E2 *- - \"*\"E6 [[psysml:f84da050-0b5f-49f5-998e-9b704fc66ebc ]] \r\n",
       "E5 - -:|> E7 [[psysml:5222325c-bb46-4e39-81f0-12dbae43365a ]] \r\n",
       "E7 *- - \"*\"E8 [[psysml:62bbb331-bb03-464e-9e32-68694608bffc ]] \r\n",
       "E7 *- - \"*\"E9 [[psysml:6940b1aa-8c0f-4381-86aa-7b3e10e8c0d6 ]] \r\n",
       "E10 - -:|> E7 [[psysml:2d47db94-d209-4d22-9eae-73bfc16721f5 ]] \r\n",
       "E10 - -:|> E2 [[psysml:6622b004-fc37-43f3-bc42-fdfacc696359 ]] \r\n",
       "E10 *- - E11 [[psysml:973d09ca-2c85-400b-8a26-6e03e711a9dc ]] \r\n",
       "E10 *- - E12 [[psysml:4b2dc275-57bf-47aa-bec9-3fe53972a958 ]] \r\n",
       "E13 - -:|> E7 [[psysml:99db2ce7-7db4-4747-aea3-ba596a45b862 ]] \r\n",
       "@enduml\r\n",
       "\n",
       "PlantUML version 1.2020.13(Sat Jun 13 12:26:38 UTC 2020)\n",
       "(EPL source distribution)\n",
       "Java Runtime: OpenJDK Runtime Environment\n",
       "JVM: OpenJDK 64-Bit Server VM\n",
       "Default Encoding: UTF-8\n",
       "Language: en\n",
       "Country: null\n",
       "--></g></svg>"
      ]
     },
     "execution_count": 10,
     "metadata": {},
     "output_type": "execute_result"
    }
   ],
   "source": [
    "%viz --style=\"POLYLINE\" --view=\"Tree\" \"OccurrenceTest\""
   ]
  },
  {
   "cell_type": "code",
   "execution_count": 11,
   "id": "a36b230c",
   "metadata": {
    "execution": {
     "iopub.execute_input": "2021-10-03T08:28:42.947641Z",
     "iopub.status.busy": "2021-10-03T08:28:42.946967Z",
     "iopub.status.idle": "2021-10-03T08:28:42.954233Z",
     "shell.execute_reply": "2021-10-03T08:28:42.954563Z"
    }
   },
   "outputs": [
    {
     "data": {
      "image/svg+xml": [
       "<?xml version=\"1.0\" encoding=\"UTF-8\" standalone=\"no\"?><svg xmlns=\"http://www.w3.org/2000/svg\" xmlns:xlink=\"http://www.w3.org/1999/xlink\" contentScriptType=\"application/ecmascript\" contentStyleType=\"text/css\" height=\"12px\" preserveAspectRatio=\"none\" style=\"width:12px;height:12px;\" version=\"1.1\" viewBox=\"0 0 12 12\" width=\"12px\" zoomAndPan=\"magnify\"><defs/><g><!--MD5=[896ac0e7a515d8dd7765a661cb4ee08b]\n",
       "@startuml\r\n",
       "skinparam linetype polyline\r\n",
       "skinparam monochrome true\r\n",
       "skinparam classbackgroundcolor white\r\n",
       "skinparam shadowing false\r\n",
       "skinparam wrapWidth 300\r\n",
       "hide circle\r\n",
       "\r\n",
       "@enduml\r\n",
       "\n",
       "PlantUML version 1.2020.13(Sat Jun 13 12:26:38 UTC 2020)\n",
       "(EPL source distribution)\n",
       "Java Runtime: OpenJDK Runtime Environment\n",
       "JVM: OpenJDK 64-Bit Server VM\n",
       "Default Encoding: UTF-8\n",
       "Language: en\n",
       "Country: null\n",
       "--></g></svg>"
      ]
     },
     "execution_count": 11,
     "metadata": {},
     "output_type": "execute_result"
    }
   ],
   "source": [
    "%viz --style=\"POLYLINE\" --view=\"State\" \"OccurrenceTest\""
   ]
  },
  {
   "cell_type": "code",
   "execution_count": 12,
   "id": "e1200436",
   "metadata": {
    "execution": {
     "iopub.execute_input": "2021-10-03T08:28:43.004648Z",
     "iopub.status.busy": "2021-10-03T08:28:43.004009Z",
     "iopub.status.idle": "2021-10-03T08:28:43.042682Z",
     "shell.execute_reply": "2021-10-03T08:28:43.042302Z"
    }
   },
   "outputs": [
    {
     "data": {
      "image/svg+xml": [
       "<?xml version=\"1.0\" encoding=\"UTF-8\" standalone=\"no\"?><svg xmlns=\"http://www.w3.org/2000/svg\" xmlns:xlink=\"http://www.w3.org/1999/xlink\" contentScriptType=\"application/ecmascript\" contentStyleType=\"text/css\" height=\"195px\" preserveAspectRatio=\"none\" style=\"width:1115px;height:195px;\" version=\"1.1\" viewBox=\"0 0 1115 195\" width=\"1115px\" zoomAndPan=\"magnify\"><defs/><g><!--MD5=[fbc87193dbaf4d95561dea2c320d4a47]\n",
       "cluster E1--><a href=\"psysml:e6ab502d-dafd-416a-a255-3fa3ad3c263c\" target=\"_top\" title=\"psysml:e6ab502d-dafd-416a-a255-3fa3ad3c263c\" xlink:actuate=\"onRequest\" xlink:href=\"psysml:e6ab502d-dafd-416a-a255-3fa3ad3c263c\" xlink:show=\"new\" xlink:title=\"psysml:e6ab502d-dafd-416a-a255-3fa3ad3c263c\" xlink:type=\"simple\"><polygon fill=\"#FFFFFF\" points=\"16,6,134,6,141,28.2969,1093,28.2969,1093,183,16,183,16,6\" style=\"stroke: #000000; stroke-width: 1.5;\"/><line style=\"stroke: #000000; stroke-width: 1.5;\" x1=\"16\" x2=\"141\" y1=\"28.2969\" y2=\"28.2969\"/><text fill=\"#000000\" font-family=\"sans-serif\" font-size=\"14\" font-weight=\"bold\" lengthAdjust=\"spacingAndGlyphs\" textLength=\"112\" x=\"20\" y=\"20.9951\">OccurrenceTest</text></a><!--MD5=[f6df4d0ebaf0b5dfb2ced0ae5af7c670]\n",
       "cluster E4--><a href=\"psysml:ca3e4eae-d888-4010-bdf5-da81d89d1eab\" target=\"_top\" title=\"psysml:ca3e4eae-d888-4010-bdf5-da81d89d1eab\" xlink:actuate=\"onRequest\" xlink:href=\"psysml:ca3e4eae-d888-4010-bdf5-da81d89d1eab\" xlink:show=\"new\" xlink:title=\"psysml:ca3e4eae-d888-4010-bdf5-da81d89d1eab\" xlink:type=\"simple\"><rect fill=\"#FFFFFF\" height=\"110\" id=\"E4\" rx=\"10\" ry=\"10\" style=\"stroke: #383838; stroke-width: 1.5;\" width=\"435\" x=\"634\" y=\"49\"/><rect fill=\"#F8F8F8\" height=\"37.9375\" rx=\"10\" ry=\"10\" style=\"stroke: #F8F8F8; stroke-width: 1.5;\" width=\"435\" x=\"634\" y=\"49\"/><rect fill=\"#F8F8F8\" height=\"10\" style=\"stroke: #F8F8F8; stroke-width: 1.5;\" width=\"435\" x=\"634\" y=\"76.9375\"/><rect fill=\"none\" height=\"110\" id=\"E4\" rx=\"10\" ry=\"10\" style=\"stroke: #383838; stroke-width: 1.5;\" width=\"435\" x=\"634\" y=\"49\"/><text fill=\"#000000\" font-family=\"sans-serif\" font-size=\"12\" font-style=\"italic\" lengthAdjust=\"spacingAndGlyphs\" textLength=\"147\" x=\"778\" y=\"65.1387\">«individual occurrence»</text><text fill=\"#000000\" font-family=\"sans-serif\" font-size=\"12\" lengthAdjust=\"spacingAndGlyphs\" textLength=\"77\" x=\"813\" y=\"79.1074\">ind: Ind, Occ</text><line style=\"stroke: #383838; stroke-width: 1.0;\" x1=\"634\" x2=\"1069\" y1=\"86.9375\" y2=\"86.9375\"/></a><g id=\"E1.E2\"><a href=\"psysml:1203d309-d98c-452c-84ab-9db93e8b8d83\" target=\"_top\" title=\"psysml:1203d309-d98c-452c-84ab-9db93e8b8d83\" xlink:actuate=\"onRequest\" xlink:href=\"psysml:1203d309-d98c-452c-84ab-9db93e8b8d83\" xlink:show=\"new\" xlink:title=\"psysml:1203d309-d98c-452c-84ab-9db93e8b8d83\" xlink:type=\"simple\"><rect fill=\"#FFFFFF\" height=\"42.9375\" id=\"E2\" style=\"stroke: #383838; stroke-width: 1.5;\" width=\"116\" x=\"498\" y=\"100\"/><rect fill=\"#F8F8F8\" height=\"37.9375\" style=\"stroke: #383838; stroke-width: 1.5;\" width=\"116\" x=\"498\" y=\"100\"/><text fill=\"#000000\" font-family=\"sans-serif\" font-size=\"12\" font-style=\"italic\" lengthAdjust=\"spacingAndGlyphs\" textLength=\"109\" x=\"501.5\" y=\"116.1387\">«occurrence def»</text><text fill=\"#000000\" font-family=\"sans-serif\" font-size=\"12\" lengthAdjust=\"spacingAndGlyphs\" textLength=\"23\" x=\"544.5\" y=\"130.1074\">Occ</text></a></g><g id=\"E1.E3\"><a href=\"psysml:cddcce1d-840d-4259-9672-1cad32ef9616\" target=\"_top\" title=\"psysml:cddcce1d-840d-4259-9672-1cad32ef9616\" xlink:actuate=\"onRequest\" xlink:href=\"psysml:cddcce1d-840d-4259-9672-1cad32ef9616\" xlink:show=\"new\" xlink:title=\"psysml:cddcce1d-840d-4259-9672-1cad32ef9616\" xlink:type=\"simple\"><rect fill=\"#FFFFFF\" height=\"42.9375\" id=\"E3\" style=\"stroke: #383838; stroke-width: 1.5;\" width=\"178\" x=\"285\" y=\"100\"/><rect fill=\"#F8F8F8\" height=\"37.9375\" style=\"stroke: #383838; stroke-width: 1.5;\" width=\"178\" x=\"285\" y=\"100\"/><text fill=\"#000000\" font-family=\"sans-serif\" font-size=\"12\" font-style=\"italic\" lengthAdjust=\"spacingAndGlyphs\" textLength=\"171\" x=\"288.5\" y=\"116.1387\">«individual occurrence def»</text><text fill=\"#000000\" font-family=\"sans-serif\" font-size=\"12\" lengthAdjust=\"spacingAndGlyphs\" textLength=\"19\" x=\"364.5\" y=\"130.1074\">Ind</text></a></g><g id=\"E1.E4.E5\"><a href=\"psysml:a7aa12fc-e204-4f0a-90f2-9ab0101a123a\" target=\"_top\" title=\"psysml:a7aa12fc-e204-4f0a-90f2-9ab0101a123a\" xlink:actuate=\"onRequest\" xlink:href=\"psysml:a7aa12fc-e204-4f0a-90f2-9ab0101a123a\" xlink:show=\"new\" xlink:title=\"psysml:a7aa12fc-e204-4f0a-90f2-9ab0101a123a\" xlink:type=\"simple\"><rect fill=\"#FFFFFF\" height=\"42.9375\" id=\"E5\" rx=\"10\" ry=\"10\" style=\"stroke: #383838; stroke-width: 1.5;\" width=\"155\" x=\"897.5\" y=\"100\"/><rect fill=\"#F8F8F8\" height=\"37.9375\" rx=\"10\" ry=\"10\" style=\"stroke: #F8F8F8; stroke-width: 1.5;\" width=\"155\" x=\"897.5\" y=\"100\"/><rect fill=\"#F8F8F8\" height=\"10\" style=\"stroke: #F8F8F8; stroke-width: 1.5;\" width=\"155\" x=\"897.5\" y=\"127.9375\"/><rect fill=\"none\" height=\"42.9375\" id=\"E5\" rx=\"10\" ry=\"10\" style=\"stroke: #383838; stroke-width: 1.5;\" width=\"155\" x=\"897.5\" y=\"100\"/><text fill=\"#000000\" font-family=\"sans-serif\" font-size=\"12\" font-style=\"italic\" lengthAdjust=\"spacingAndGlyphs\" textLength=\"148\" x=\"901\" y=\"116.1387\">«snapshot occurrence»</text><text fill=\"#000000\" font-family=\"sans-serif\" font-size=\"12\" lengthAdjust=\"spacingAndGlyphs\" textLength=\"15\" x=\"967.5\" y=\"130.1074\">s3</text></a></g><g id=\"E1.E4.E6\"><a href=\"psysml:5052c3e9-886b-4521-8bf3-18ad9cb470c5\" target=\"_top\" title=\"psysml:5052c3e9-886b-4521-8bf3-18ad9cb470c5\" xlink:actuate=\"onRequest\" xlink:href=\"psysml:5052c3e9-886b-4521-8bf3-18ad9cb470c5\" xlink:show=\"new\" xlink:title=\"psysml:5052c3e9-886b-4521-8bf3-18ad9cb470c5\" xlink:type=\"simple\"><rect fill=\"#FFFFFF\" height=\"42.9375\" id=\"E6\" rx=\"10\" ry=\"10\" style=\"stroke: #383838; stroke-width: 1.5;\" width=\"213\" x=\"649.5\" y=\"100\"/><rect fill=\"#F8F8F8\" height=\"37.9375\" rx=\"10\" ry=\"10\" style=\"stroke: #F8F8F8; stroke-width: 1.5;\" width=\"213\" x=\"649.5\" y=\"100\"/><rect fill=\"#F8F8F8\" height=\"10\" style=\"stroke: #F8F8F8; stroke-width: 1.5;\" width=\"213\" x=\"649.5\" y=\"127.9375\"/><rect fill=\"none\" height=\"42.9375\" id=\"E6\" rx=\"10\" ry=\"10\" style=\"stroke: #383838; stroke-width: 1.5;\" width=\"213\" x=\"649.5\" y=\"100\"/><text fill=\"#000000\" font-family=\"sans-serif\" font-size=\"12\" font-style=\"italic\" lengthAdjust=\"spacingAndGlyphs\" textLength=\"206\" x=\"653\" y=\"116.1387\">«individual timeslice occurrence»</text><text fill=\"#000000\" font-family=\"sans-serif\" font-size=\"12\" lengthAdjust=\"spacingAndGlyphs\" textLength=\"13\" x=\"749.5\" y=\"130.1074\">t3</text></a></g><g id=\"E1.E7\"><a href=\"psysml:e6d8c0e1-46dd-40c0-98f9-8ea23118f8bb\" target=\"_top\" title=\"psysml:e6d8c0e1-46dd-40c0-98f9-8ea23118f8bb\" xlink:actuate=\"onRequest\" xlink:href=\"psysml:e6d8c0e1-46dd-40c0-98f9-8ea23118f8bb\" xlink:show=\"new\" xlink:title=\"psysml:e6d8c0e1-46dd-40c0-98f9-8ea23118f8bb\" xlink:type=\"simple\"><rect fill=\"#FFFFFF\" height=\"42.9375\" id=\"E7\" rx=\"10\" ry=\"10\" style=\"stroke: #383838; stroke-width: 1.5;\" width=\"217\" x=\"32.5\" y=\"100\"/><rect fill=\"#F8F8F8\" height=\"37.9375\" rx=\"10\" ry=\"10\" style=\"stroke: #F8F8F8; stroke-width: 1.5;\" width=\"217\" x=\"32.5\" y=\"100\"/><rect fill=\"#F8F8F8\" height=\"10\" style=\"stroke: #F8F8F8; stroke-width: 1.5;\" width=\"217\" x=\"32.5\" y=\"127.9375\"/><rect fill=\"none\" height=\"42.9375\" id=\"E7\" rx=\"10\" ry=\"10\" style=\"stroke: #383838; stroke-width: 1.5;\" width=\"217\" x=\"32.5\" y=\"100\"/><text fill=\"#000000\" font-family=\"sans-serif\" font-size=\"12\" font-style=\"italic\" lengthAdjust=\"spacingAndGlyphs\" textLength=\"210\" x=\"36\" y=\"116.1387\">«individual snapshot occurrence»</text><text fill=\"#000000\" font-family=\"sans-serif\" font-size=\"12\" lengthAdjust=\"spacingAndGlyphs\" textLength=\"42\" x=\"120\" y=\"130.1074\">s4: Ind</text></a></g><!--MD5=[cab07fe89a64475084d52c72fe7dc2a0]\n",
       "@startuml\r\n",
       "skinparam ranksep 10\r\n",
       "skinparam rectangle {\r\n",
       " backgroundColor<<block>> LightGreen\r\n",
       "}\r\n",
       "skinparam linetype polyline\r\n",
       "skinparam monochrome true\r\n",
       "skinparam classbackgroundcolor white\r\n",
       "skinparam shadowing false\r\n",
       "skinparam wrapWidth 300\r\n",
       "hide circle\r\n",
       "\r\n",
       "package \"OccurrenceTest\" as E1  [[psysml:e6ab502d-dafd-416a-a255-3fa3ad3c263c ]]  {\r\n",
       "def \"Occ\" as E2  <<(T,blue) occurrence def>> [[psysml:1203d309-d98c-452c-84ab-9db93e8b8d83 ]] \r\n",
       "def \"Ind\" as E3  <<(T,blue) individual occurrence def>> [[psysml:cddcce1d-840d-4259-9672-1cad32ef9616 ]] \r\n",
       "rec usage \"ind: Ind, Occ\" as E4  <<(T,blue) individual occurrence>> [[psysml:ca3e4eae-d888-4010-bdf5-da81d89d1eab ]] {\r\n",
       "rec usage \"s3\" as E5  <<(T,blue) snapshot occurrence>> [[psysml:a7aa12fc-e204-4f0a-90f2-9ab0101a123a ]] {\r\n",
       "}\r\n",
       "rec usage \"t3\" as E6  <<(T,blue) individual timeslice occurrence>> [[psysml:5052c3e9-886b-4521-8bf3-18ad9cb470c5 ]] {\r\n",
       "}\r\n",
       "}\r\n",
       "rec usage \"s4: Ind\" as E7  <<(T,blue) individual snapshot occurrence>> [[psysml:e6d8c0e1-46dd-40c0-98f9-8ea23118f8bb ]] {\r\n",
       "}\r\n",
       "}\r\n",
       "@enduml\r\n",
       "\n",
       "PlantUML version 1.2020.13(Sat Jun 13 12:26:38 UTC 2020)\n",
       "(EPL source distribution)\n",
       "Java Runtime: OpenJDK Runtime Environment\n",
       "JVM: OpenJDK 64-Bit Server VM\n",
       "Default Encoding: UTF-8\n",
       "Language: en\n",
       "Country: null\n",
       "--></g></svg>"
      ]
     },
     "execution_count": 12,
     "metadata": {},
     "output_type": "execute_result"
    }
   ],
   "source": [
    "%viz --style=\"POLYLINE\" --view=\"Interconnection\" \"OccurrenceTest\""
   ]
  },
  {
   "cell_type": "code",
   "execution_count": 13,
   "id": "fa37c2f4",
   "metadata": {
    "execution": {
     "iopub.execute_input": "2021-10-03T08:28:43.091766Z",
     "iopub.status.busy": "2021-10-03T08:28:43.091356Z",
     "iopub.status.idle": "2021-10-03T08:28:43.097060Z",
     "shell.execute_reply": "2021-10-03T08:28:43.097388Z"
    }
   },
   "outputs": [
    {
     "data": {
      "image/svg+xml": [
       "<?xml version=\"1.0\" encoding=\"UTF-8\" standalone=\"no\"?><svg xmlns=\"http://www.w3.org/2000/svg\" xmlns:xlink=\"http://www.w3.org/1999/xlink\" contentScriptType=\"application/ecmascript\" contentStyleType=\"text/css\" height=\"12px\" preserveAspectRatio=\"none\" style=\"width:12px;height:12px;\" version=\"1.1\" viewBox=\"0 0 12 12\" width=\"12px\" zoomAndPan=\"magnify\"><defs/><g><!--MD5=[97bbf32f66ccd50cbc40d92ea8f5a65e]\n",
       "@startuml\r\n",
       "skinparam ranksep 8\r\n",
       "skinparam linetype polyline\r\n",
       "skinparam monochrome true\r\n",
       "skinparam classbackgroundcolor white\r\n",
       "skinparam shadowing false\r\n",
       "skinparam wrapWidth 300\r\n",
       "hide circle\r\n",
       "\r\n",
       "@enduml\r\n",
       "\n",
       "PlantUML version 1.2020.13(Sat Jun 13 12:26:38 UTC 2020)\n",
       "(EPL source distribution)\n",
       "Java Runtime: OpenJDK Runtime Environment\n",
       "JVM: OpenJDK 64-Bit Server VM\n",
       "Default Encoding: UTF-8\n",
       "Language: en\n",
       "Country: null\n",
       "--></g></svg>"
      ]
     },
     "execution_count": 13,
     "metadata": {},
     "output_type": "execute_result"
    }
   ],
   "source": [
    "%viz --style=\"POLYLINE\" --view=\"Action\" \"OccurrenceTest\""
   ]
  },
  {
   "cell_type": "code",
   "execution_count": 14,
   "id": "8a25ecf9",
   "metadata": {
    "execution": {
     "iopub.execute_input": "2021-10-03T08:28:43.147448Z",
     "iopub.status.busy": "2021-10-03T08:28:43.146982Z",
     "iopub.status.idle": "2021-10-03T08:28:43.155065Z",
     "shell.execute_reply": "2021-10-03T08:28:43.155384Z"
    }
   },
   "outputs": [
    {
     "data": {
      "image/svg+xml": [
       "<?xml version=\"1.0\" encoding=\"UTF-8\" standalone=\"no\"?><svg xmlns=\"http://www.w3.org/2000/svg\" xmlns:xlink=\"http://www.w3.org/1999/xlink\" contentScriptType=\"application/ecmascript\" contentStyleType=\"text/css\" height=\"12px\" preserveAspectRatio=\"none\" style=\"width:12px;height:12px;\" version=\"1.1\" viewBox=\"0 0 12 12\" width=\"12px\" zoomAndPan=\"magnify\"><defs/><g><!--MD5=[dc938048236c351797870c36b62f92ad]\n",
       "@startuml\r\n",
       "skinparam roundcorner 20\r\n",
       "skinparam BoxPadding 20\r\n",
       "skinparam SequenceBoxBackgroundColor #white\r\n",
       "skinparam style strictuml\r\n",
       "skinparam maxMessageSize 100\r\n",
       "skinparam linetype polyline\r\n",
       "skinparam monochrome true\r\n",
       "skinparam classbackgroundcolor white\r\n",
       "skinparam shadowing false\r\n",
       "skinparam wrapWidth 300\r\n",
       "hide circle\r\n",
       "\r\n",
       "@enduml\r\n",
       "\n",
       "PlantUML version 1.2020.13(Sat Jun 13 12:26:38 UTC 2020)\n",
       "(EPL source distribution)\n",
       "Java Runtime: OpenJDK Runtime Environment\n",
       "JVM: OpenJDK 64-Bit Server VM\n",
       "Default Encoding: UTF-8\n",
       "Language: en\n",
       "Country: null\n",
       "--></g></svg>"
      ]
     },
     "execution_count": 14,
     "metadata": {},
     "output_type": "execute_result"
    }
   ],
   "source": [
    "%viz --style=\"POLYLINE\" --view=\"Sequence\" \"OccurrenceTest\""
   ]
  },
  {
   "cell_type": "code",
   "execution_count": 15,
   "id": "c16474fa",
   "metadata": {
    "execution": {
     "iopub.execute_input": "2021-10-03T08:28:43.205237Z",
     "iopub.status.busy": "2021-10-03T08:28:43.204825Z",
     "iopub.status.idle": "2021-10-03T08:28:43.283329Z",
     "shell.execute_reply": "2021-10-03T08:28:43.283670Z"
    }
   },
   "outputs": [
    {
     "data": {
      "image/svg+xml": [
       "<?xml version=\"1.0\" encoding=\"UTF-8\" standalone=\"no\"?><svg xmlns=\"http://www.w3.org/2000/svg\" xmlns:xlink=\"http://www.w3.org/1999/xlink\" contentScriptType=\"application/ecmascript\" contentStyleType=\"text/css\" height=\"569px\" preserveAspectRatio=\"none\" style=\"width:992px;height:569px;\" version=\"1.1\" viewBox=\"0 0 992 569\" width=\"992px\" zoomAndPan=\"magnify\"><defs/><g><!--MD5=[fbc87193dbaf4d95561dea2c320d4a47]\n",
       "cluster E1--><a href=\"psysml:e6ab502d-dafd-416a-a255-3fa3ad3c263c\" target=\"_top\" title=\"psysml:e6ab502d-dafd-416a-a255-3fa3ad3c263c\" xlink:actuate=\"onRequest\" xlink:href=\"psysml:e6ab502d-dafd-416a-a255-3fa3ad3c263c\" xlink:show=\"new\" xlink:title=\"psysml:e6ab502d-dafd-416a-a255-3fa3ad3c263c\" xlink:type=\"simple\"><polygon fill=\"#FFFFFF\" points=\"16,6,134,6,141,28.2969,970,28.2969,970,557,16,557,16,6\" style=\"stroke: #000000; stroke-width: 1.5;\"/><line style=\"stroke: #000000; stroke-width: 1.5;\" x1=\"16\" x2=\"141\" y1=\"28.2969\" y2=\"28.2969\"/><text fill=\"#000000\" font-family=\"sans-serif\" font-size=\"14\" font-weight=\"bold\" lengthAdjust=\"spacingAndGlyphs\" textLength=\"112\" x=\"20\" y=\"20.9951\">OccurrenceTest</text></a><!--MD5=[b4997ac47864f28c2f74865a473b2911]\n",
       "class E2--><a href=\"psysml:1203d309-d98c-452c-84ab-9db93e8b8d83\" target=\"_top\" title=\"psysml:1203d309-d98c-452c-84ab-9db93e8b8d83\" xlink:actuate=\"onRequest\" xlink:href=\"psysml:1203d309-d98c-452c-84ab-9db93e8b8d83\" xlink:show=\"new\" xlink:title=\"psysml:1203d309-d98c-452c-84ab-9db93e8b8d83\" xlink:type=\"simple\"><rect fill=\"#FFFFFF\" height=\"75.5469\" id=\"E2\" style=\"stroke: #383838; stroke-width: 1.5;\" width=\"111\" x=\"377.5\" y=\"147\"/><text fill=\"#000000\" font-family=\"sans-serif\" font-size=\"12\" font-style=\"italic\" lengthAdjust=\"spacingAndGlyphs\" textLength=\"109\" x=\"378.5\" y=\"163.1387\">«occurrence def»</text><text fill=\"#000000\" font-family=\"sans-serif\" font-size=\"12\" lengthAdjust=\"spacingAndGlyphs\" textLength=\"23\" x=\"421.5\" y=\"177.1074\">Occ</text><line style=\"stroke: #383838; stroke-width: 1.5;\" x1=\"378.5\" x2=\"487.5\" y1=\"184.9375\" y2=\"184.9375\"/><text fill=\"#000000\" font-family=\"sans-serif\" font-size=\"11\" lengthAdjust=\"spacingAndGlyphs\" textLength=\"7\" x=\"383.5\" y=\"215.9526\">a</text><line style=\"stroke: #383838; stroke-width: 1.0;\" x1=\"378.5\" x2=\"405.5\" y1=\"199.3398\" y2=\"199.3398\"/><text fill=\"#000000\" font-family=\"sans-serif\" font-size=\"11\" lengthAdjust=\"spacingAndGlyphs\" textLength=\"55\" x=\"405.5\" y=\"202.6479\">attributes</text><line style=\"stroke: #383838; stroke-width: 1.0;\" x1=\"460.5\" x2=\"487.5\" y1=\"199.3398\" y2=\"199.3398\"/></a><!--MD5=[09b614a08d8cba4a07c9adeb5e0fee81]\n",
       "class E3--><a href=\"psysml:158a345e-3640-4aa1-8638-58b6699698f0\" target=\"_top\" title=\"psysml:158a345e-3640-4aa1-8638-58b6699698f0\" xlink:actuate=\"onRequest\" xlink:href=\"psysml:158a345e-3640-4aa1-8638-58b6699698f0\" xlink:show=\"new\" xlink:title=\"psysml:158a345e-3640-4aa1-8638-58b6699698f0\" xlink:type=\"simple\"><rect fill=\"#FFFFFF\" height=\"45.9375\" id=\"E3\" rx=\"10\" ry=\"10\" style=\"stroke: #383838; stroke-width: 1.5;\" width=\"87\" x=\"279.5\" y=\"283\"/><text fill=\"#000000\" font-family=\"sans-serif\" font-size=\"12\" font-style=\"italic\" lengthAdjust=\"spacingAndGlyphs\" textLength=\"85\" x=\"280.5\" y=\"299.1387\">«occurrence»</text><text fill=\"#000000\" font-family=\"sans-serif\" font-size=\"12\" lengthAdjust=\"spacingAndGlyphs\" textLength=\"61\" x=\"292.5\" y=\"313.1074\">occ1: Occ</text><line style=\"stroke: #383838; stroke-width: 1.5;\" x1=\"280.5\" x2=\"365.5\" y1=\"320.9375\" y2=\"320.9375\"/></a><!--MD5=[ebbe1d658d1005bcc118a6aa81145e00]\n",
       "class E4--><a href=\"psysml:5ccc27c3-07b1-4713-880e-82008912fb62\" target=\"_top\" title=\"psysml:5ccc27c3-07b1-4713-880e-82008912fb62\" xlink:actuate=\"onRequest\" xlink:href=\"psysml:5ccc27c3-07b1-4713-880e-82008912fb62\" xlink:show=\"new\" xlink:title=\"psysml:5ccc27c3-07b1-4713-880e-82008912fb62\" xlink:type=\"simple\"><rect fill=\"#FFFFFF\" height=\"45.9375\" id=\"E4\" rx=\"10\" ry=\"10\" style=\"stroke: #383838; stroke-width: 1.5;\" width=\"87\" x=\"401.5\" y=\"283\"/><text fill=\"#000000\" font-family=\"sans-serif\" font-size=\"12\" font-style=\"italic\" lengthAdjust=\"spacingAndGlyphs\" textLength=\"85\" x=\"402.5\" y=\"299.1387\">«occurrence»</text><text fill=\"#000000\" font-family=\"sans-serif\" font-size=\"12\" lengthAdjust=\"spacingAndGlyphs\" textLength=\"61\" x=\"414.5\" y=\"313.1074\">occ2: Occ</text><line style=\"stroke: #383838; stroke-width: 1.5;\" x1=\"402.5\" x2=\"487.5\" y1=\"320.9375\" y2=\"320.9375\"/></a><!--MD5=[270fce915f116d4de14055a7c1d9a0f3]\n",
       "class E5--><a href=\"psysml:b931cfcd-d1f5-4c70-b44c-3b4fd21c9018\" target=\"_top\" title=\"psysml:b931cfcd-d1f5-4c70-b44c-3b4fd21c9018\" xlink:actuate=\"onRequest\" xlink:href=\"psysml:b931cfcd-d1f5-4c70-b44c-3b4fd21c9018\" xlink:show=\"new\" xlink:title=\"psysml:b931cfcd-d1f5-4c70-b44c-3b4fd21c9018\" xlink:type=\"simple\"><rect fill=\"#FFFFFF\" height=\"45.9375\" id=\"E5\" rx=\"10\" ry=\"10\" style=\"stroke: #383838; stroke-width: 1.5;\" width=\"212\" x=\"524\" y=\"283\"/><text fill=\"#000000\" font-family=\"sans-serif\" font-size=\"12\" font-style=\"italic\" lengthAdjust=\"spacingAndGlyphs\" textLength=\"210\" x=\"525\" y=\"299.1387\">«individual snapshot occurrence»</text><text fill=\"#000000\" font-family=\"sans-serif\" font-size=\"12\" lengthAdjust=\"spacingAndGlyphs\" textLength=\"34\" x=\"613\" y=\"313.1074\">s: Ind</text><line style=\"stroke: #383838; stroke-width: 1.5;\" x1=\"525\" x2=\"735\" y1=\"320.9375\" y2=\"320.9375\"/></a><!--MD5=[60a26617385b1d2d0262a64233df1f8d]\n",
       "class E6--><a href=\"psysml:a76dffb5-cb4a-4142-b15c-9dbeb6bd2474\" target=\"_top\" title=\"psysml:a76dffb5-cb4a-4142-b15c-9dbeb6bd2474\" xlink:actuate=\"onRequest\" xlink:href=\"psysml:a76dffb5-cb4a-4142-b15c-9dbeb6bd2474\" xlink:show=\"new\" xlink:title=\"psysml:a76dffb5-cb4a-4142-b15c-9dbeb6bd2474\" xlink:type=\"simple\"><rect fill=\"#FFFFFF\" height=\"45.9375\" id=\"E6\" rx=\"10\" ry=\"10\" style=\"stroke: #383838; stroke-width: 1.5;\" width=\"146\" x=\"771\" y=\"283\"/><text fill=\"#000000\" font-family=\"sans-serif\" font-size=\"12\" font-style=\"italic\" lengthAdjust=\"spacingAndGlyphs\" textLength=\"144\" x=\"772\" y=\"299.1387\">«timeslice occurrence»</text><text fill=\"#000000\" font-family=\"sans-serif\" font-size=\"12\" lengthAdjust=\"spacingAndGlyphs\" textLength=\"5\" x=\"841.5\" y=\"313.1074\">t</text><line style=\"stroke: #383838; stroke-width: 1.5;\" x1=\"772\" x2=\"916\" y1=\"320.9375\" y2=\"320.9375\"/></a><!--MD5=[2156ba9850f5573cc1fc38a6a4b2f02b]\n",
       "class E7--><a href=\"psysml:cddcce1d-840d-4259-9672-1cad32ef9616\" target=\"_top\" title=\"psysml:cddcce1d-840d-4259-9672-1cad32ef9616\" xlink:actuate=\"onRequest\" xlink:href=\"psysml:cddcce1d-840d-4259-9672-1cad32ef9616\" xlink:show=\"new\" xlink:title=\"psysml:cddcce1d-840d-4259-9672-1cad32ef9616\" xlink:type=\"simple\"><rect fill=\"#FFFFFF\" height=\"45.9375\" id=\"E7\" style=\"stroke: #383838; stroke-width: 1.5;\" width=\"173\" x=\"543.5\" y=\"389\"/><text fill=\"#000000\" font-family=\"sans-serif\" font-size=\"12\" font-style=\"italic\" lengthAdjust=\"spacingAndGlyphs\" textLength=\"171\" x=\"544.5\" y=\"405.1387\">«individual occurrence def»</text><text fill=\"#000000\" font-family=\"sans-serif\" font-size=\"12\" lengthAdjust=\"spacingAndGlyphs\" textLength=\"19\" x=\"620.5\" y=\"419.1074\">Ind</text><line style=\"stroke: #383838; stroke-width: 1.5;\" x1=\"544.5\" x2=\"715.5\" y1=\"426.9375\" y2=\"426.9375\"/></a><!--MD5=[b9389687b975829384b498ac4b7476b2]\n",
       "class E8--><a href=\"psysml:760118bf-f26e-45fa-9528-0dbdf12ed33d\" target=\"_top\" title=\"psysml:760118bf-f26e-45fa-9528-0dbdf12ed33d\" xlink:actuate=\"onRequest\" xlink:href=\"psysml:760118bf-f26e-45fa-9528-0dbdf12ed33d\" xlink:show=\"new\" xlink:title=\"psysml:760118bf-f26e-45fa-9528-0dbdf12ed33d\" xlink:type=\"simple\"><rect fill=\"#FFFFFF\" height=\"45.9375\" id=\"E8\" rx=\"10\" ry=\"10\" style=\"stroke: #383838; stroke-width: 1.5;\" width=\"150\" x=\"463\" y=\"495\"/><text fill=\"#000000\" font-family=\"sans-serif\" font-size=\"12\" font-style=\"italic\" lengthAdjust=\"spacingAndGlyphs\" textLength=\"148\" x=\"464\" y=\"511.1387\">«snapshot occurrence»</text><text fill=\"#000000\" font-family=\"sans-serif\" font-size=\"12\" lengthAdjust=\"spacingAndGlyphs\" textLength=\"15\" x=\"530.5\" y=\"525.1074\">s2</text><line style=\"stroke: #383838; stroke-width: 1.5;\" x1=\"464\" x2=\"612\" y1=\"532.9375\" y2=\"532.9375\"/></a><!--MD5=[fd4143e9d270a159db93a4ea2a975926]\n",
       "class E9--><a href=\"psysml:6916c4a6-d3e9-4718-9bd3-b4da3843528f\" target=\"_top\" title=\"psysml:6916c4a6-d3e9-4718-9bd3-b4da3843528f\" xlink:actuate=\"onRequest\" xlink:href=\"psysml:6916c4a6-d3e9-4718-9bd3-b4da3843528f\" xlink:show=\"new\" xlink:title=\"psysml:6916c4a6-d3e9-4718-9bd3-b4da3843528f\" xlink:type=\"simple\"><rect fill=\"#FFFFFF\" height=\"45.9375\" id=\"E9\" rx=\"10\" ry=\"10\" style=\"stroke: #383838; stroke-width: 1.5;\" width=\"146\" x=\"648\" y=\"495\"/><text fill=\"#000000\" font-family=\"sans-serif\" font-size=\"12\" font-style=\"italic\" lengthAdjust=\"spacingAndGlyphs\" textLength=\"144\" x=\"649\" y=\"511.1387\">«timeslice occurrence»</text><text fill=\"#000000\" font-family=\"sans-serif\" font-size=\"12\" lengthAdjust=\"spacingAndGlyphs\" textLength=\"13\" x=\"714.5\" y=\"525.1074\">t2</text><line style=\"stroke: #383838; stroke-width: 1.5;\" x1=\"649\" x2=\"793\" y1=\"532.9375\" y2=\"532.9375\"/></a><!--MD5=[96f4274e9e20536e775497830990834d]\n",
       "class E10--><a href=\"psysml:ca3e4eae-d888-4010-bdf5-da81d89d1eab\" target=\"_top\" title=\"psysml:ca3e4eae-d888-4010-bdf5-da81d89d1eab\" xlink:actuate=\"onRequest\" xlink:href=\"psysml:ca3e4eae-d888-4010-bdf5-da81d89d1eab\" xlink:show=\"new\" xlink:title=\"psysml:ca3e4eae-d888-4010-bdf5-da81d89d1eab\" xlink:type=\"simple\"><rect fill=\"#FFFFFF\" height=\"45.9375\" id=\"E10\" rx=\"10\" ry=\"10\" style=\"stroke: #383838; stroke-width: 1.5;\" width=\"149\" x=\"505.5\" y=\"41\"/><text fill=\"#000000\" font-family=\"sans-serif\" font-size=\"12\" font-style=\"italic\" lengthAdjust=\"spacingAndGlyphs\" textLength=\"147\" x=\"506.5\" y=\"57.1387\">«individual occurrence»</text><text fill=\"#000000\" font-family=\"sans-serif\" font-size=\"12\" lengthAdjust=\"spacingAndGlyphs\" textLength=\"77\" x=\"541.5\" y=\"71.1074\">ind: Ind, Occ</text><line style=\"stroke: #383838; stroke-width: 1.5;\" x1=\"506.5\" x2=\"653.5\" y1=\"78.9375\" y2=\"78.9375\"/></a><!--MD5=[1dd1bfd58a279cf63c5f349dbc8fc6a1]\n",
       "class E11--><a href=\"psysml:a7aa12fc-e204-4f0a-90f2-9ab0101a123a\" target=\"_top\" title=\"psysml:a7aa12fc-e204-4f0a-90f2-9ab0101a123a\" xlink:actuate=\"onRequest\" xlink:href=\"psysml:a7aa12fc-e204-4f0a-90f2-9ab0101a123a\" xlink:show=\"new\" xlink:title=\"psysml:a7aa12fc-e204-4f0a-90f2-9ab0101a123a\" xlink:type=\"simple\"><rect fill=\"#FFFFFF\" height=\"45.9375\" id=\"E11\" rx=\"10\" ry=\"10\" style=\"stroke: #383838; stroke-width: 1.5;\" width=\"150\" x=\"561\" y=\"162\"/><text fill=\"#000000\" font-family=\"sans-serif\" font-size=\"12\" font-style=\"italic\" lengthAdjust=\"spacingAndGlyphs\" textLength=\"148\" x=\"562\" y=\"178.1387\">«snapshot occurrence»</text><text fill=\"#000000\" font-family=\"sans-serif\" font-size=\"12\" lengthAdjust=\"spacingAndGlyphs\" textLength=\"15\" x=\"628.5\" y=\"192.1074\">s3</text><line style=\"stroke: #383838; stroke-width: 1.5;\" x1=\"562\" x2=\"710\" y1=\"199.9375\" y2=\"199.9375\"/></a><!--MD5=[49a0ec8f00dab7302a31f22d0f0fe584]\n",
       "class E12--><a href=\"psysml:5052c3e9-886b-4521-8bf3-18ad9cb470c5\" target=\"_top\" title=\"psysml:5052c3e9-886b-4521-8bf3-18ad9cb470c5\" xlink:actuate=\"onRequest\" xlink:href=\"psysml:5052c3e9-886b-4521-8bf3-18ad9cb470c5\" xlink:show=\"new\" xlink:title=\"psysml:5052c3e9-886b-4521-8bf3-18ad9cb470c5\" xlink:type=\"simple\"><rect fill=\"#FFFFFF\" height=\"45.9375\" id=\"E12\" rx=\"10\" ry=\"10\" style=\"stroke: #383838; stroke-width: 1.5;\" width=\"208\" x=\"746\" y=\"162\"/><text fill=\"#000000\" font-family=\"sans-serif\" font-size=\"12\" font-style=\"italic\" lengthAdjust=\"spacingAndGlyphs\" textLength=\"206\" x=\"747\" y=\"178.1387\">«individual timeslice occurrence»</text><text fill=\"#000000\" font-family=\"sans-serif\" font-size=\"12\" lengthAdjust=\"spacingAndGlyphs\" textLength=\"13\" x=\"843.5\" y=\"192.1074\">t3</text><line style=\"stroke: #383838; stroke-width: 1.5;\" x1=\"747\" x2=\"953\" y1=\"199.9375\" y2=\"199.9375\"/></a><!--MD5=[ee3c913d1a06f366521f9ef512b67efe]\n",
       "class E13--><a href=\"psysml:e6d8c0e1-46dd-40c0-98f9-8ea23118f8bb\" target=\"_top\" title=\"psysml:e6d8c0e1-46dd-40c0-98f9-8ea23118f8bb\" xlink:actuate=\"onRequest\" xlink:href=\"psysml:e6d8c0e1-46dd-40c0-98f9-8ea23118f8bb\" xlink:show=\"new\" xlink:title=\"psysml:e6d8c0e1-46dd-40c0-98f9-8ea23118f8bb\" xlink:type=\"simple\"><rect fill=\"#FFFFFF\" height=\"45.9375\" id=\"E13\" rx=\"10\" ry=\"10\" style=\"stroke: #383838; stroke-width: 1.5;\" width=\"212\" x=\"32\" y=\"283\"/><text fill=\"#000000\" font-family=\"sans-serif\" font-size=\"12\" font-style=\"italic\" lengthAdjust=\"spacingAndGlyphs\" textLength=\"210\" x=\"33\" y=\"299.1387\">«individual snapshot occurrence»</text><text fill=\"#000000\" font-family=\"sans-serif\" font-size=\"12\" lengthAdjust=\"spacingAndGlyphs\" textLength=\"42\" x=\"117\" y=\"313.1074\">s4: Ind</text><line style=\"stroke: #383838; stroke-width: 1.5;\" x1=\"33\" x2=\"243\" y1=\"320.9375\" y2=\"320.9375\"/></a><!--MD5=[209b3feb70ccb6233bfe1053d122c12c]\n",
       "reverse link E2 to E3--><a href=\"psysml:816d5179-2674-4631-83bc-f7d71b4237a7\" target=\"_top\" title=\"psysml:816d5179-2674-4631-83bc-f7d71b4237a7\" xlink:actuate=\"onRequest\" xlink:href=\"psysml:816d5179-2674-4631-83bc-f7d71b4237a7\" xlink:show=\"new\" xlink:title=\"psysml:816d5179-2674-4631-83bc-f7d71b4237a7\" xlink:type=\"simple\"><path d=\"M377.59,232.45 C360.78,249.83 344.04,268.76 333.23,282.93 \" fill=\"none\" id=\"E2&lt;-E3\" style=\"stroke: #383838; stroke-width: 1.0;\"/><polygon fill=\"#FFFFFF\" points=\"386.9,223,379.8401,224.4691,378.4809,231.5509,385.5407,230.0818,386.9,223\" style=\"stroke: #383838; stroke-width: 1.0;\"/></a><!--MD5=[05d275557350bfb9b23a4ef7222b4c39]\n",
       "link E3 to E2--><a href=\"psysml:eb3070f5-b0ea-4331-ac23-68f76765f53a\" target=\"_top\" title=\"psysml:eb3070f5-b0ea-4331-ac23-68f76765f53a\" xlink:actuate=\"onRequest\" xlink:href=\"psysml:eb3070f5-b0ea-4331-ac23-68f76765f53a\" xlink:show=\"new\" xlink:title=\"psysml:eb3070f5-b0ea-4331-ac23-68f76765f53a\" xlink:type=\"simple\"><path d=\"M354.17,282.93 C367.96,270.34 383.96,253.98 398.07,238.29 \" fill=\"none\" id=\"E3-&gt;E2\" style=\"stroke: #383838; stroke-width: 1.0;\"/><polygon fill=\"#FFFFFF\" points=\"411.4,223,404.1971,241.924,393.6412,232.7276,411.4,223\" style=\"stroke: #383838; stroke-width: 1.0;\"/><ellipse cx=\"398.9449\" cy=\"244.908\" fill=\"#383838\" rx=\"2\" ry=\"2\" style=\"stroke: #383838; stroke-width: 1.0;\"/><ellipse cx=\"391.405\" cy=\"238.3391\" fill=\"#383838\" rx=\"2\" ry=\"2\" style=\"stroke: #383838; stroke-width: 1.0;\"/></a><!--MD5=[9618e71518536f8baf3342ff6fdab317]\n",
       "reverse link E2 to E4--><a href=\"psysml:0447f336-2e88-4877-9a74-bac22478a75a\" target=\"_top\" title=\"psysml:0447f336-2e88-4877-9a74-bac22478a75a\" xlink:actuate=\"onRequest\" xlink:href=\"psysml:0447f336-2e88-4877-9a74-bac22478a75a\" xlink:show=\"new\" xlink:title=\"psysml:0447f336-2e88-4877-9a74-bac22478a75a\" xlink:type=\"simple\"><path d=\"M425.46,236.34 C426.62,252.61 429.17,269.81 432.6,282.93 \" fill=\"none\" id=\"E2&lt;-E4\" style=\"stroke: #383838; stroke-width: 1.0;\"/><polygon fill=\"#383838\" points=\"424.83,223,421.118,229.1823,425.397,234.9866,429.109,228.8043,424.83,223\" style=\"stroke: #383838; stroke-width: 1.0;\"/></a><!--MD5=[185131fc0dcab0a4505a2ebe144e961b]\n",
       "link E4 to E2--><a href=\"psysml:bbe7f0c0-75f0-4d42-b38b-c0f55f25890a\" target=\"_top\" title=\"psysml:bbe7f0c0-75f0-4d42-b38b-c0f55f25890a\" xlink:actuate=\"onRequest\" xlink:href=\"psysml:bbe7f0c0-75f0-4d42-b38b-c0f55f25890a\" xlink:show=\"new\" xlink:title=\"psysml:bbe7f0c0-75f0-4d42-b38b-c0f55f25890a\" xlink:type=\"simple\"><path d=\"M453.54,282.93 C454.33,271.65 453.8,257.34 452.26,243.21 \" fill=\"none\" id=\"E4-&gt;E2\" style=\"stroke: #383838; stroke-width: 1.0;\"/><polygon fill=\"#FFFFFF\" points=\"449.33,223,458.9844,240.7987,445.1294,242.8079,449.33,223\" style=\"stroke: #383838; stroke-width: 1.0;\"/><ellipse cx=\"457.8232\" cy=\"246.7267\" fill=\"#383838\" rx=\"2\" ry=\"2\" style=\"stroke: #383838; stroke-width: 1.0;\"/><ellipse cx=\"447.9267\" cy=\"248.1619\" fill=\"#383838\" rx=\"2\" ry=\"2\" style=\"stroke: #383838; stroke-width: 1.0;\"/></a><!--MD5=[4e1a83fab71cdb913c109063314ae896]\n",
       "reverse link E2 to E5--><a href=\"psysml:5c44c5f5-a434-4c27-9e5d-4b118f9f4fa1\" target=\"_top\" title=\"psysml:5c44c5f5-a434-4c27-9e5d-4b118f9f4fa1\" xlink:actuate=\"onRequest\" xlink:href=\"psysml:5c44c5f5-a434-4c27-9e5d-4b118f9f4fa1\" xlink:show=\"new\" xlink:title=\"psysml:5c44c5f5-a434-4c27-9e5d-4b118f9f4fa1\" xlink:type=\"simple\"><path d=\"M499.94,226.44 C531.22,245.33 567.25,267.1 593.44,282.92 \" fill=\"none\" id=\"E2&lt;-E5\" style=\"stroke: #383838; stroke-width: 1.0;\"/><polygon fill=\"#383838\" points=\"488.66,219.62,491.731,226.1445,498.9348,225.8191,495.8638,219.2947,488.66,219.62\" style=\"stroke: #383838; stroke-width: 1.0;\"/></a><!--MD5=[ce036f65110ae2351ccce5a81dc2e928]\n",
       "reverse link E2 to E6--><a href=\"psysml:f84da050-0b5f-49f5-998e-9b704fc66ebc\" target=\"_top\" title=\"psysml:f84da050-0b5f-49f5-998e-9b704fc66ebc\" xlink:actuate=\"onRequest\" xlink:href=\"psysml:f84da050-0b5f-49f5-998e-9b704fc66ebc\" xlink:show=\"new\" xlink:title=\"psysml:f84da050-0b5f-49f5-998e-9b704fc66ebc\" xlink:type=\"simple\"><path d=\"M500.9,216.27 C509.85,220.26 516,223 516,223 C516,223 674.13,262.53 770.8,286.7 \" fill=\"none\" id=\"E2&lt;-E6\" style=\"stroke: #383838; stroke-width: 1.0;\"/><polygon fill=\"#383838\" points=\"488.82,210.88,492.6681,216.9785,499.7776,215.772,495.9295,209.6735,488.82,210.88\" style=\"stroke: #383838; stroke-width: 1.0;\"/><text fill=\"#000000\" font-family=\"sans-serif\" font-size=\"13\" lengthAdjust=\"spacingAndGlyphs\" textLength=\"7\" x=\"755.8903\" y=\"281.0132\">*</text></a><!--MD5=[3a9b96bfbf6b6ad89c494e81751bda47]\n",
       "link E5 to E7--><a href=\"psysml:5222325c-bb46-4e39-81f0-12dbae43365a\" target=\"_top\" title=\"psysml:5222325c-bb46-4e39-81f0-12dbae43365a\" xlink:actuate=\"onRequest\" xlink:href=\"psysml:5222325c-bb46-4e39-81f0-12dbae43365a\" xlink:show=\"new\" xlink:title=\"psysml:5222325c-bb46-4e39-81f0-12dbae43365a\" xlink:type=\"simple\"><path d=\"M630,329.06 C630,340.64 630,355.23 630,368.87 \" fill=\"none\" id=\"E5-&gt;E7\" style=\"stroke: #383838; stroke-width: 1.0;\"/><polygon fill=\"#FFFFFF\" points=\"630,388.98,623,369.98,637,369.98,630,388.98\" style=\"stroke: #383838; stroke-width: 1.0;\"/><ellipse cx=\"625\" cy=\"364.28\" fill=\"#383838\" rx=\"2\" ry=\"2\" style=\"stroke: #383838; stroke-width: 1.0;\"/><ellipse cx=\"635\" cy=\"364.28\" fill=\"#383838\" rx=\"2\" ry=\"2\" style=\"stroke: #383838; stroke-width: 1.0;\"/></a><!--MD5=[dc164f5e8a733ab456ef1add180e9e34]\n",
       "reverse link E7 to E8--><a href=\"psysml:62bbb331-bb03-464e-9e32-68694608bffc\" target=\"_top\" title=\"psysml:62bbb331-bb03-464e-9e32-68694608bffc\" xlink:actuate=\"onRequest\" xlink:href=\"psysml:62bbb331-bb03-464e-9e32-68694608bffc\" xlink:show=\"new\" xlink:title=\"psysml:62bbb331-bb03-464e-9e32-68694608bffc\" xlink:type=\"simple\"><path d=\"M601.55,445.16 C587.25,461.33 570.28,480.51 557.48,494.98 \" fill=\"none\" id=\"E7&lt;-E8\" style=\"stroke: #383838; stroke-width: 1.0;\"/><polygon fill=\"#383838\" points=\"610.49,435.06,603.5177,436.9004,602.5348,444.0442,609.5071,442.2038,610.49,435.06\" style=\"stroke: #383838; stroke-width: 1.0;\"/><text fill=\"#000000\" font-family=\"sans-serif\" font-size=\"13\" lengthAdjust=\"spacingAndGlyphs\" textLength=\"7\" x=\"554.7746\" y=\"483.8709\">*</text></a><!--MD5=[e4a10ef82d0e328e31cac39a31e58dda]\n",
       "reverse link E7 to E9--><a href=\"psysml:6940b1aa-8c0f-4381-86aa-7b3e10e8c0d6\" target=\"_top\" title=\"psysml:6940b1aa-8c0f-4381-86aa-7b3e10e8c0d6\" xlink:actuate=\"onRequest\" xlink:href=\"psysml:6940b1aa-8c0f-4381-86aa-7b3e10e8c0d6\" xlink:show=\"new\" xlink:title=\"psysml:6940b1aa-8c0f-4381-86aa-7b3e10e8c0d6\" xlink:type=\"simple\"><path d=\"M658.14,445.16 C672.29,461.33 689.07,480.51 701.73,494.98 \" fill=\"none\" id=\"E7&lt;-E9\" style=\"stroke: #383838; stroke-width: 1.0;\"/><polygon fill=\"#383838\" points=\"649.3,435.06,650.2496,442.2083,657.2133,444.0811,656.2637,436.9328,649.3,435.06\" style=\"stroke: #383838; stroke-width: 1.0;\"/><text fill=\"#000000\" font-family=\"sans-serif\" font-size=\"13\" lengthAdjust=\"spacingAndGlyphs\" textLength=\"7\" x=\"688.6106\" y=\"483.8709\">*</text></a><!--MD5=[a919e0967d6f3de553dc51b9865a1d6d]\n",
       "link E10 to E7--><a href=\"psysml:2d47db94-d209-4d22-9eae-73bfc16721f5\" target=\"_top\" title=\"psysml:2d47db94-d209-4d22-9eae-73bfc16721f5\" xlink:actuate=\"onRequest\" xlink:href=\"psysml:2d47db94-d209-4d22-9eae-73bfc16721f5\" xlink:show=\"new\" xlink:title=\"psysml:2d47db94-d209-4d22-9eae-73bfc16721f5\" xlink:type=\"simple\"><path d=\"M570.16,87.41 C559.5,111.69 544,147 544,147 C544,147 544,223 544,223 C544,223 935,283 935,283 C935,283 935,329 935,329 C935,329 820.21,359.86 731.48,383.72 \" fill=\"none\" id=\"E10-&gt;E7\" style=\"stroke: #383838; stroke-width: 1.0;\"/><polygon fill=\"#FFFFFF\" points=\"712.14,388.92,728.6669,377.2212,732.3065,390.7398,712.14,388.92\" style=\"stroke: #383838; stroke-width: 1.0;\"/><ellipse cx=\"734.6908\" cy=\"377.6706\" fill=\"#383838\" rx=\"2\" ry=\"2\" style=\"stroke: #383838; stroke-width: 1.0;\"/><ellipse cx=\"737.2906\" cy=\"387.3267\" fill=\"#383838\" rx=\"2\" ry=\"2\" style=\"stroke: #383838; stroke-width: 1.0;\"/></a><!--MD5=[0f36bececdf0dff6e600d6f64214b0f1]\n",
       "link E10 to E2--><a href=\"psysml:6622b004-fc37-43f3-bc42-fdfacc696359\" target=\"_top\" title=\"psysml:6622b004-fc37-43f3-bc42-fdfacc696359\" xlink:actuate=\"onRequest\" xlink:href=\"psysml:6622b004-fc37-43f3-bc42-fdfacc696359\" xlink:show=\"new\" xlink:title=\"psysml:6622b004-fc37-43f3-bc42-fdfacc696359\" xlink:type=\"simple\"><path d=\"M552.69,87.1 C536.38,100.31 514.96,117.65 494.76,134.01 \" fill=\"none\" id=\"E10-&gt;E2\" style=\"stroke: #383838; stroke-width: 1.0;\"/><polygon fill=\"#FFFFFF\" points=\"478.94,146.81,489.301,129.4131,498.1112,140.2934,478.94,146.81\" style=\"stroke: #383838; stroke-width: 1.0;\"/><ellipse cx=\"494.9894\" cy=\"127.3805\" fill=\"#383838\" rx=\"2\" ry=\"2\" style=\"stroke: #383838; stroke-width: 1.0;\"/><ellipse cx=\"501.2824\" cy=\"135.1521\" fill=\"#383838\" rx=\"2\" ry=\"2\" style=\"stroke: #383838; stroke-width: 1.0;\"/></a><!--MD5=[de308be4a2431766a05a907a031c07fc]\n",
       "reverse link E10 to E11--><a href=\"psysml:973d09ca-2c85-400b-8a26-6e03e711a9dc\" target=\"_top\" title=\"psysml:973d09ca-2c85-400b-8a26-6e03e711a9dc\" xlink:actuate=\"onRequest\" xlink:href=\"psysml:973d09ca-2c85-400b-8a26-6e03e711a9dc\" xlink:show=\"new\" xlink:title=\"psysml:973d09ca-2c85-400b-8a26-6e03e711a9dc\" xlink:type=\"simple\"><path d=\"M595.95,98.9 C605.42,119.01 617.15,143.94 625.46,161.61 \" fill=\"none\" id=\"E10&lt;-E11\" style=\"stroke: #383838; stroke-width: 1.0;\"/><polygon fill=\"#383838\" points=\"590.4,87.1,589.3334,94.2318,595.5064,97.9593,596.573,90.8275,590.4,87.1\" style=\"stroke: #383838; stroke-width: 1.0;\"/></a><!--MD5=[1d54f998c6d5961a1a9184be73a7eb6c]\n",
       "reverse link E10 to E12--><a href=\"psysml:4b2dc275-57bf-47aa-bec9-3fe53972a958\" target=\"_top\" title=\"psysml:4b2dc275-57bf-47aa-bec9-3fe53972a958\" xlink:actuate=\"onRequest\" xlink:href=\"psysml:4b2dc275-57bf-47aa-bec9-3fe53972a958\" xlink:show=\"new\" xlink:title=\"psysml:4b2dc275-57bf-47aa-bec9-3fe53972a958\" xlink:type=\"simple\"><path d=\"M642.21,92.42 C689.99,113.48 755.13,142.19 799.66,161.81 \" fill=\"none\" id=\"E10&lt;-E12\" style=\"stroke: #383838; stroke-width: 1.0;\"/><polygon fill=\"#383838\" points=\"630.15,87.1,634.028,93.1796,641.1314,91.9382,637.2534,85.8586,630.15,87.1\" style=\"stroke: #383838; stroke-width: 1.0;\"/></a><!--MD5=[4a48077df6499cfcd20b62e8f5f37904]\n",
       "link E13 to E7--><a href=\"psysml:99db2ce7-7db4-4747-aea3-ba596a45b862\" target=\"_top\" title=\"psysml:99db2ce7-7db4-4747-aea3-ba596a45b862\" xlink:actuate=\"onRequest\" xlink:href=\"psysml:99db2ce7-7db4-4747-aea3-ba596a45b862\" xlink:show=\"new\" xlink:title=\"psysml:99db2ce7-7db4-4747-aea3-ba596a45b862\" xlink:type=\"simple\"><path d=\"M242.34,329.06 C325.16,346.56 440.49,370.94 523.8,388.55 \" fill=\"none\" id=\"E13-&gt;E7\" style=\"stroke: #383838; stroke-width: 1.0;\"/><polygon fill=\"#FFFFFF\" points=\"543.45,392.7,523.4123,395.6135,526.3115,381.917,543.45,392.7\" style=\"stroke: #383838; stroke-width: 1.0;\"/><ellipse cx=\"518.25\" cy=\"392.4765\" fill=\"#383838\" rx=\"2\" ry=\"2\" style=\"stroke: #383838; stroke-width: 1.0;\"/><ellipse cx=\"520.3209\" cy=\"382.6933\" fill=\"#383838\" rx=\"2\" ry=\"2\" style=\"stroke: #383838; stroke-width: 1.0;\"/></a><!--MD5=[2d8b67ba8e9593b7cac03e4e454aaee8]\n",
       "@startuml\r\n",
       "skinparam linetype polyline\r\n",
       "skinparam monochrome true\r\n",
       "skinparam classbackgroundcolor white\r\n",
       "skinparam shadowing false\r\n",
       "skinparam wrapWidth 300\r\n",
       "hide circle\r\n",
       "\r\n",
       "package \"OccurrenceTest\" as E1  [[psysml:e6ab502d-dafd-416a-a255-3fa3ad3c263c ]]  {\r\n",
       "comp def \"Occ\" as E2  <<(T,blue) occurrence def>> [[psysml:1203d309-d98c-452c-84ab-9db93e8b8d83 ]] {\r\n",
       "- - attributes - -\r\n",
       "a\r\n",
       "}\r\n",
       "comp usage \"occ1: Occ\" as E3  <<(T,blue) occurrence>> [[psysml:158a345e-3640-4aa1-8638-58b6699698f0 ]] {\r\n",
       "}\r\n",
       "comp usage \"occ2: Occ\" as E4  <<(T,blue) occurrence>> [[psysml:5ccc27c3-07b1-4713-880e-82008912fb62 ]] {\r\n",
       "}\r\n",
       "comp usage \"s: Ind\" as E5  <<(T,blue) individual snapshot occurrence>> [[psysml:b931cfcd-d1f5-4c70-b44c-3b4fd21c9018 ]] {\r\n",
       "}\r\n",
       "comp usage \"t\" as E6  <<(T,blue) timeslice occurrence>> [[psysml:a76dffb5-cb4a-4142-b15c-9dbeb6bd2474 ]] {\r\n",
       "}\r\n",
       "comp def \"Ind\" as E7  <<(T,blue) individual occurrence def>> [[psysml:cddcce1d-840d-4259-9672-1cad32ef9616 ]] {\r\n",
       "}\r\n",
       "comp usage \"s2\" as E8  <<(T,blue) snapshot occurrence>> [[psysml:760118bf-f26e-45fa-9528-0dbdf12ed33d ]] {\r\n",
       "}\r\n",
       "comp usage \"t2\" as E9  <<(T,blue) timeslice occurrence>> [[psysml:6916c4a6-d3e9-4718-9bd3-b4da3843528f ]] {\r\n",
       "}\r\n",
       "comp usage \"ind: Ind, Occ\" as E10  <<(T,blue) individual occurrence>> [[psysml:ca3e4eae-d888-4010-bdf5-da81d89d1eab ]] {\r\n",
       "}\r\n",
       "comp usage \"s3\" as E11  <<(T,blue) snapshot occurrence>> [[psysml:a7aa12fc-e204-4f0a-90f2-9ab0101a123a ]] {\r\n",
       "}\r\n",
       "comp usage \"t3\" as E12  <<(T,blue) individual timeslice occurrence>> [[psysml:5052c3e9-886b-4521-8bf3-18ad9cb470c5 ]] {\r\n",
       "}\r\n",
       "comp usage \"s4: Ind\" as E13  <<(T,blue) individual snapshot occurrence>> [[psysml:e6d8c0e1-46dd-40c0-98f9-8ea23118f8bb ]] {\r\n",
       "}\r\n",
       "}\r\n",
       "E2 o- - E3 [[psysml:816d5179-2674-4631-83bc-f7d71b4237a7 ]] \r\n",
       "E3 - -:|> E2 [[psysml:eb3070f5-b0ea-4331-ac23-68f76765f53a ]] \r\n",
       "E2 *- - E4 [[psysml:0447f336-2e88-4877-9a74-bac22478a75a ]] \r\n",
       "E4 - -:|> E2 [[psysml:bbe7f0c0-75f0-4d42-b38b-c0f55f25890a ]] \r\n",
       "E2 *- - E5 [[psysml:5c44c5f5-a434-4c27-9e5d-4b118f9f4fa1 ]] \r\n",
       "E2 *- - \"*\"E6 [[psysml:f84da050-0b5f-49f5-998e-9b704fc66ebc ]] \r\n",
       "E5 - -:|> E7 [[psysml:5222325c-bb46-4e39-81f0-12dbae43365a ]] \r\n",
       "E7 *- - \"*\"E8 [[psysml:62bbb331-bb03-464e-9e32-68694608bffc ]] \r\n",
       "E7 *- - \"*\"E9 [[psysml:6940b1aa-8c0f-4381-86aa-7b3e10e8c0d6 ]] \r\n",
       "E10 - -:|> E7 [[psysml:2d47db94-d209-4d22-9eae-73bfc16721f5 ]] \r\n",
       "E10 - -:|> E2 [[psysml:6622b004-fc37-43f3-bc42-fdfacc696359 ]] \r\n",
       "E10 *- - E11 [[psysml:973d09ca-2c85-400b-8a26-6e03e711a9dc ]] \r\n",
       "E10 *- - E12 [[psysml:4b2dc275-57bf-47aa-bec9-3fe53972a958 ]] \r\n",
       "E13 - -:|> E7 [[psysml:99db2ce7-7db4-4747-aea3-ba596a45b862 ]] \r\n",
       "@enduml\r\n",
       "\n",
       "PlantUML version 1.2020.13(Sat Jun 13 12:26:38 UTC 2020)\n",
       "(EPL source distribution)\n",
       "Java Runtime: OpenJDK Runtime Environment\n",
       "JVM: OpenJDK 64-Bit Server VM\n",
       "Default Encoding: UTF-8\n",
       "Language: en\n",
       "Country: null\n",
       "--></g></svg>"
      ]
     },
     "execution_count": 15,
     "metadata": {},
     "output_type": "execute_result"
    }
   ],
   "source": [
    "%viz --style=\"POLYLINE\" --view=\"MIXED\" \"OccurrenceTest\""
   ]
  },
  {
   "cell_type": "code",
   "execution_count": 16,
   "id": "ea2387de",
   "metadata": {
    "execution": {
     "iopub.execute_input": "2021-10-03T08:28:43.333150Z",
     "iopub.status.busy": "2021-10-03T08:28:43.332740Z",
     "iopub.status.idle": "2021-10-03T08:28:43.405661Z",
     "shell.execute_reply": "2021-10-03T08:28:43.405980Z"
    }
   },
   "outputs": [
    {
     "data": {
      "image/svg+xml": [
       "<?xml version=\"1.0\" encoding=\"UTF-8\" standalone=\"no\"?><svg xmlns=\"http://www.w3.org/2000/svg\" xmlns:xlink=\"http://www.w3.org/1999/xlink\" contentScriptType=\"application/ecmascript\" contentStyleType=\"text/css\" height=\"476px\" preserveAspectRatio=\"none\" style=\"width:1202px;height:476px;\" version=\"1.1\" viewBox=\"0 0 1202 476\" width=\"1202px\" zoomAndPan=\"magnify\"><defs/><g><!--MD5=[fbc87193dbaf4d95561dea2c320d4a47]\n",
       "cluster E1--><a href=\"psysml:e6ab502d-dafd-416a-a255-3fa3ad3c263c\" target=\"_top\" title=\"psysml:e6ab502d-dafd-416a-a255-3fa3ad3c263c\" xlink:actuate=\"onRequest\" xlink:href=\"psysml:e6ab502d-dafd-416a-a255-3fa3ad3c263c\" xlink:show=\"new\" xlink:title=\"psysml:e6ab502d-dafd-416a-a255-3fa3ad3c263c\" xlink:type=\"simple\"><polygon fill=\"#FFFFFF\" points=\"16,6,134,6,141,28.2969,1180,28.2969,1180,464,16,464,16,6\" style=\"stroke: #000000; stroke-width: 1.5;\"/><line style=\"stroke: #000000; stroke-width: 1.5;\" x1=\"16\" x2=\"141\" y1=\"28.2969\" y2=\"28.2969\"/><text fill=\"#000000\" font-family=\"sans-serif\" font-size=\"14\" font-weight=\"bold\" lengthAdjust=\"spacingAndGlyphs\" textLength=\"112\" x=\"20\" y=\"20.9951\">OccurrenceTest</text></a><!--MD5=[b4997ac47864f28c2f74865a473b2911]\n",
       "class E2--><a href=\"psysml:1203d309-d98c-452c-84ab-9db93e8b8d83\" target=\"_top\" title=\"psysml:1203d309-d98c-452c-84ab-9db93e8b8d83\" xlink:actuate=\"onRequest\" xlink:href=\"psysml:1203d309-d98c-452c-84ab-9db93e8b8d83\" xlink:show=\"new\" xlink:title=\"psysml:1203d309-d98c-452c-84ab-9db93e8b8d83\" xlink:type=\"simple\"><rect fill=\"#FFFFFF\" height=\"75.5469\" id=\"E2\" style=\"stroke: #383838; stroke-width: 1.5;\" width=\"111\" x=\"289.5\" y=\"240\"/><text fill=\"#000000\" font-family=\"sans-serif\" font-size=\"12\" font-style=\"italic\" lengthAdjust=\"spacingAndGlyphs\" textLength=\"109\" x=\"290.5\" y=\"256.1387\">«occurrence def»</text><text fill=\"#000000\" font-family=\"sans-serif\" font-size=\"12\" lengthAdjust=\"spacingAndGlyphs\" textLength=\"23\" x=\"333.5\" y=\"270.1074\">Occ</text><line style=\"stroke: #383838; stroke-width: 1.5;\" x1=\"290.5\" x2=\"399.5\" y1=\"277.9375\" y2=\"277.9375\"/><text fill=\"#000000\" font-family=\"sans-serif\" font-size=\"11\" lengthAdjust=\"spacingAndGlyphs\" textLength=\"7\" x=\"295.5\" y=\"308.9526\">a</text><line style=\"stroke: #383838; stroke-width: 1.0;\" x1=\"290.5\" x2=\"317.5\" y1=\"292.3398\" y2=\"292.3398\"/><text fill=\"#000000\" font-family=\"sans-serif\" font-size=\"11\" lengthAdjust=\"spacingAndGlyphs\" textLength=\"55\" x=\"317.5\" y=\"295.6479\">attributes</text><line style=\"stroke: #383838; stroke-width: 1.0;\" x1=\"372.5\" x2=\"399.5\" y1=\"292.3398\" y2=\"292.3398\"/></a><!--MD5=[09b614a08d8cba4a07c9adeb5e0fee81]\n",
       "class E3--><a href=\"psysml:158a345e-3640-4aa1-8638-58b6699698f0\" target=\"_top\" title=\"psysml:158a345e-3640-4aa1-8638-58b6699698f0\" xlink:actuate=\"onRequest\" xlink:href=\"psysml:158a345e-3640-4aa1-8638-58b6699698f0\" xlink:show=\"new\" xlink:title=\"psysml:158a345e-3640-4aa1-8638-58b6699698f0\" xlink:type=\"simple\"><rect fill=\"#FFFFFF\" height=\"45.9375\" id=\"E3\" rx=\"10\" ry=\"10\" style=\"stroke: #383838; stroke-width: 1.5;\" width=\"87\" x=\"571.5\" y=\"321\"/><text fill=\"#000000\" font-family=\"sans-serif\" font-size=\"12\" font-style=\"italic\" lengthAdjust=\"spacingAndGlyphs\" textLength=\"85\" x=\"572.5\" y=\"337.1387\">«occurrence»</text><text fill=\"#000000\" font-family=\"sans-serif\" font-size=\"12\" lengthAdjust=\"spacingAndGlyphs\" textLength=\"61\" x=\"584.5\" y=\"351.1074\">occ1: Occ</text><line style=\"stroke: #383838; stroke-width: 1.5;\" x1=\"572.5\" x2=\"657.5\" y1=\"358.9375\" y2=\"358.9375\"/></a><!--MD5=[ebbe1d658d1005bcc118a6aa81145e00]\n",
       "class E4--><a href=\"psysml:5ccc27c3-07b1-4713-880e-82008912fb62\" target=\"_top\" title=\"psysml:5ccc27c3-07b1-4713-880e-82008912fb62\" xlink:actuate=\"onRequest\" xlink:href=\"psysml:5ccc27c3-07b1-4713-880e-82008912fb62\" xlink:show=\"new\" xlink:title=\"psysml:5ccc27c3-07b1-4713-880e-82008912fb62\" xlink:type=\"simple\"><rect fill=\"#FFFFFF\" height=\"45.9375\" id=\"E4\" rx=\"10\" ry=\"10\" style=\"stroke: #383838; stroke-width: 1.5;\" width=\"87\" x=\"571.5\" y=\"240\"/><text fill=\"#000000\" font-family=\"sans-serif\" font-size=\"12\" font-style=\"italic\" lengthAdjust=\"spacingAndGlyphs\" textLength=\"85\" x=\"572.5\" y=\"256.1387\">«occurrence»</text><text fill=\"#000000\" font-family=\"sans-serif\" font-size=\"12\" lengthAdjust=\"spacingAndGlyphs\" textLength=\"61\" x=\"584.5\" y=\"270.1074\">occ2: Occ</text><line style=\"stroke: #383838; stroke-width: 1.5;\" x1=\"572.5\" x2=\"657.5\" y1=\"277.9375\" y2=\"277.9375\"/></a><!--MD5=[270fce915f116d4de14055a7c1d9a0f3]\n",
       "class E5--><a href=\"psysml:b931cfcd-d1f5-4c70-b44c-3b4fd21c9018\" target=\"_top\" title=\"psysml:b931cfcd-d1f5-4c70-b44c-3b4fd21c9018\" xlink:actuate=\"onRequest\" xlink:href=\"psysml:b931cfcd-d1f5-4c70-b44c-3b4fd21c9018\" xlink:show=\"new\" xlink:title=\"psysml:b931cfcd-d1f5-4c70-b44c-3b4fd21c9018\" xlink:type=\"simple\"><rect fill=\"#FFFFFF\" height=\"45.9375\" id=\"E5\" rx=\"10\" ry=\"10\" style=\"stroke: #383838; stroke-width: 1.5;\" width=\"212\" x=\"509\" y=\"159\"/><text fill=\"#000000\" font-family=\"sans-serif\" font-size=\"12\" font-style=\"italic\" lengthAdjust=\"spacingAndGlyphs\" textLength=\"210\" x=\"510\" y=\"175.1387\">«individual snapshot occurrence»</text><text fill=\"#000000\" font-family=\"sans-serif\" font-size=\"12\" lengthAdjust=\"spacingAndGlyphs\" textLength=\"34\" x=\"598\" y=\"189.1074\">s: Ind</text><line style=\"stroke: #383838; stroke-width: 1.5;\" x1=\"510\" x2=\"720\" y1=\"196.9375\" y2=\"196.9375\"/></a><!--MD5=[60a26617385b1d2d0262a64233df1f8d]\n",
       "class E6--><a href=\"psysml:a76dffb5-cb4a-4142-b15c-9dbeb6bd2474\" target=\"_top\" title=\"psysml:a76dffb5-cb4a-4142-b15c-9dbeb6bd2474\" xlink:actuate=\"onRequest\" xlink:href=\"psysml:a76dffb5-cb4a-4142-b15c-9dbeb6bd2474\" xlink:show=\"new\" xlink:title=\"psysml:a76dffb5-cb4a-4142-b15c-9dbeb6bd2474\" xlink:type=\"simple\"><rect fill=\"#FFFFFF\" height=\"45.9375\" id=\"E6\" rx=\"10\" ry=\"10\" style=\"stroke: #383838; stroke-width: 1.5;\" width=\"146\" x=\"542\" y=\"78\"/><text fill=\"#000000\" font-family=\"sans-serif\" font-size=\"12\" font-style=\"italic\" lengthAdjust=\"spacingAndGlyphs\" textLength=\"144\" x=\"543\" y=\"94.1387\">«timeslice occurrence»</text><text fill=\"#000000\" font-family=\"sans-serif\" font-size=\"12\" lengthAdjust=\"spacingAndGlyphs\" textLength=\"5\" x=\"612.5\" y=\"108.1074\">t</text><line style=\"stroke: #383838; stroke-width: 1.5;\" x1=\"543\" x2=\"687\" y1=\"115.9375\" y2=\"115.9375\"/></a><!--MD5=[2156ba9850f5573cc1fc38a6a4b2f02b]\n",
       "class E7--><a href=\"psysml:cddcce1d-840d-4259-9672-1cad32ef9616\" target=\"_top\" title=\"psysml:cddcce1d-840d-4259-9672-1cad32ef9616\" xlink:actuate=\"onRequest\" xlink:href=\"psysml:cddcce1d-840d-4259-9672-1cad32ef9616\" xlink:show=\"new\" xlink:title=\"psysml:cddcce1d-840d-4259-9672-1cad32ef9616\" xlink:type=\"simple\"><rect fill=\"#FFFFFF\" height=\"45.9375\" id=\"E7\" style=\"stroke: #383838; stroke-width: 1.5;\" width=\"173\" x=\"781\" y=\"159\"/><text fill=\"#000000\" font-family=\"sans-serif\" font-size=\"12\" font-style=\"italic\" lengthAdjust=\"spacingAndGlyphs\" textLength=\"171\" x=\"782\" y=\"175.1387\">«individual occurrence def»</text><text fill=\"#000000\" font-family=\"sans-serif\" font-size=\"12\" lengthAdjust=\"spacingAndGlyphs\" textLength=\"19\" x=\"858\" y=\"189.1074\">Ind</text><line style=\"stroke: #383838; stroke-width: 1.5;\" x1=\"782\" x2=\"953\" y1=\"196.9375\" y2=\"196.9375\"/></a><!--MD5=[b9389687b975829384b498ac4b7476b2]\n",
       "class E8--><a href=\"psysml:760118bf-f26e-45fa-9528-0dbdf12ed33d\" target=\"_top\" title=\"psysml:760118bf-f26e-45fa-9528-0dbdf12ed33d\" xlink:actuate=\"onRequest\" xlink:href=\"psysml:760118bf-f26e-45fa-9528-0dbdf12ed33d\" xlink:show=\"new\" xlink:title=\"psysml:760118bf-f26e-45fa-9528-0dbdf12ed33d\" xlink:type=\"simple\"><rect fill=\"#FFFFFF\" height=\"45.9375\" id=\"E8\" rx=\"10\" ry=\"10\" style=\"stroke: #383838; stroke-width: 1.5;\" width=\"150\" x=\"1014\" y=\"199\"/><text fill=\"#000000\" font-family=\"sans-serif\" font-size=\"12\" font-style=\"italic\" lengthAdjust=\"spacingAndGlyphs\" textLength=\"148\" x=\"1015\" y=\"215.1387\">«snapshot occurrence»</text><text fill=\"#000000\" font-family=\"sans-serif\" font-size=\"12\" lengthAdjust=\"spacingAndGlyphs\" textLength=\"15\" x=\"1081.5\" y=\"229.1074\">s2</text><line style=\"stroke: #383838; stroke-width: 1.5;\" x1=\"1015\" x2=\"1163\" y1=\"236.9375\" y2=\"236.9375\"/></a><!--MD5=[fd4143e9d270a159db93a4ea2a975926]\n",
       "class E9--><a href=\"psysml:6916c4a6-d3e9-4718-9bd3-b4da3843528f\" target=\"_top\" title=\"psysml:6916c4a6-d3e9-4718-9bd3-b4da3843528f\" xlink:actuate=\"onRequest\" xlink:href=\"psysml:6916c4a6-d3e9-4718-9bd3-b4da3843528f\" xlink:show=\"new\" xlink:title=\"psysml:6916c4a6-d3e9-4718-9bd3-b4da3843528f\" xlink:type=\"simple\"><rect fill=\"#FFFFFF\" height=\"45.9375\" id=\"E9\" rx=\"10\" ry=\"10\" style=\"stroke: #383838; stroke-width: 1.5;\" width=\"146\" x=\"1016\" y=\"118\"/><text fill=\"#000000\" font-family=\"sans-serif\" font-size=\"12\" font-style=\"italic\" lengthAdjust=\"spacingAndGlyphs\" textLength=\"144\" x=\"1017\" y=\"134.1387\">«timeslice occurrence»</text><text fill=\"#000000\" font-family=\"sans-serif\" font-size=\"12\" lengthAdjust=\"spacingAndGlyphs\" textLength=\"13\" x=\"1082.5\" y=\"148.1074\">t2</text><line style=\"stroke: #383838; stroke-width: 1.5;\" x1=\"1017\" x2=\"1161\" y1=\"155.9375\" y2=\"155.9375\"/></a><!--MD5=[96f4274e9e20536e775497830990834d]\n",
       "class E10--><a href=\"psysml:ca3e4eae-d888-4010-bdf5-da81d89d1eab\" target=\"_top\" title=\"psysml:ca3e4eae-d888-4010-bdf5-da81d89d1eab\" xlink:actuate=\"onRequest\" xlink:href=\"psysml:ca3e4eae-d888-4010-bdf5-da81d89d1eab\" xlink:show=\"new\" xlink:title=\"psysml:ca3e4eae-d888-4010-bdf5-da81d89d1eab\" xlink:type=\"simple\"><rect fill=\"#FFFFFF\" height=\"45.9375\" id=\"E10\" rx=\"10\" ry=\"10\" style=\"stroke: #383838; stroke-width: 1.5;\" width=\"149\" x=\"32\" y=\"152\"/><text fill=\"#000000\" font-family=\"sans-serif\" font-size=\"12\" font-style=\"italic\" lengthAdjust=\"spacingAndGlyphs\" textLength=\"147\" x=\"33\" y=\"168.1387\">«individual occurrence»</text><text fill=\"#000000\" font-family=\"sans-serif\" font-size=\"12\" lengthAdjust=\"spacingAndGlyphs\" textLength=\"77\" x=\"68\" y=\"182.1074\">ind: Ind, Occ</text><line style=\"stroke: #383838; stroke-width: 1.5;\" x1=\"33\" x2=\"180\" y1=\"189.9375\" y2=\"189.9375\"/></a><!--MD5=[1dd1bfd58a279cf63c5f349dbc8fc6a1]\n",
       "class E11--><a href=\"psysml:a7aa12fc-e204-4f0a-90f2-9ab0101a123a\" target=\"_top\" title=\"psysml:a7aa12fc-e204-4f0a-90f2-9ab0101a123a\" xlink:actuate=\"onRequest\" xlink:href=\"psysml:a7aa12fc-e204-4f0a-90f2-9ab0101a123a\" xlink:show=\"new\" xlink:title=\"psysml:a7aa12fc-e204-4f0a-90f2-9ab0101a123a\" xlink:type=\"simple\"><rect fill=\"#FFFFFF\" height=\"45.9375\" id=\"E11\" rx=\"10\" ry=\"10\" style=\"stroke: #383838; stroke-width: 1.5;\" width=\"150\" x=\"270\" y=\"122\"/><text fill=\"#000000\" font-family=\"sans-serif\" font-size=\"12\" font-style=\"italic\" lengthAdjust=\"spacingAndGlyphs\" textLength=\"148\" x=\"271\" y=\"138.1387\">«snapshot occurrence»</text><text fill=\"#000000\" font-family=\"sans-serif\" font-size=\"12\" lengthAdjust=\"spacingAndGlyphs\" textLength=\"15\" x=\"337.5\" y=\"152.1074\">s3</text><line style=\"stroke: #383838; stroke-width: 1.5;\" x1=\"271\" x2=\"419\" y1=\"159.9375\" y2=\"159.9375\"/></a><!--MD5=[49a0ec8f00dab7302a31f22d0f0fe584]\n",
       "class E12--><a href=\"psysml:5052c3e9-886b-4521-8bf3-18ad9cb470c5\" target=\"_top\" title=\"psysml:5052c3e9-886b-4521-8bf3-18ad9cb470c5\" xlink:actuate=\"onRequest\" xlink:href=\"psysml:5052c3e9-886b-4521-8bf3-18ad9cb470c5\" xlink:show=\"new\" xlink:title=\"psysml:5052c3e9-886b-4521-8bf3-18ad9cb470c5\" xlink:type=\"simple\"><rect fill=\"#FFFFFF\" height=\"45.9375\" id=\"E12\" rx=\"10\" ry=\"10\" style=\"stroke: #383838; stroke-width: 1.5;\" width=\"208\" x=\"241\" y=\"41\"/><text fill=\"#000000\" font-family=\"sans-serif\" font-size=\"12\" font-style=\"italic\" lengthAdjust=\"spacingAndGlyphs\" textLength=\"206\" x=\"242\" y=\"57.1387\">«individual timeslice occurrence»</text><text fill=\"#000000\" font-family=\"sans-serif\" font-size=\"12\" lengthAdjust=\"spacingAndGlyphs\" textLength=\"13\" x=\"338.5\" y=\"71.1074\">t3</text><line style=\"stroke: #383838; stroke-width: 1.5;\" x1=\"242\" x2=\"448\" y1=\"78.9375\" y2=\"78.9375\"/></a><!--MD5=[ee3c913d1a06f366521f9ef512b67efe]\n",
       "class E13--><a href=\"psysml:e6d8c0e1-46dd-40c0-98f9-8ea23118f8bb\" target=\"_top\" title=\"psysml:e6d8c0e1-46dd-40c0-98f9-8ea23118f8bb\" xlink:actuate=\"onRequest\" xlink:href=\"psysml:e6d8c0e1-46dd-40c0-98f9-8ea23118f8bb\" xlink:show=\"new\" xlink:title=\"psysml:e6d8c0e1-46dd-40c0-98f9-8ea23118f8bb\" xlink:type=\"simple\"><rect fill=\"#FFFFFF\" height=\"45.9375\" id=\"E13\" rx=\"10\" ry=\"10\" style=\"stroke: #383838; stroke-width: 1.5;\" width=\"212\" x=\"509\" y=\"402\"/><text fill=\"#000000\" font-family=\"sans-serif\" font-size=\"12\" font-style=\"italic\" lengthAdjust=\"spacingAndGlyphs\" textLength=\"210\" x=\"510\" y=\"418.1387\">«individual snapshot occurrence»</text><text fill=\"#000000\" font-family=\"sans-serif\" font-size=\"12\" lengthAdjust=\"spacingAndGlyphs\" textLength=\"42\" x=\"594\" y=\"432.1074\">s4: Ind</text><line style=\"stroke: #383838; stroke-width: 1.5;\" x1=\"510\" x2=\"720\" y1=\"439.9375\" y2=\"439.9375\"/></a><!--MD5=[209b3feb70ccb6233bfe1053d122c12c]\n",
       "reverse link E2 to E3--><a href=\"psysml:816d5179-2674-4631-83bc-f7d71b4237a7\" target=\"_top\" title=\"psysml:816d5179-2674-4631-83bc-f7d71b4237a7\" xlink:actuate=\"onRequest\" xlink:href=\"psysml:816d5179-2674-4631-83bc-f7d71b4237a7\" xlink:show=\"new\" xlink:title=\"psysml:816d5179-2674-4631-83bc-f7d71b4237a7\" xlink:type=\"simple\"><path d=\"M413.12,305.75 C462.75,320.45 528.84,336.19 571.41,343.13 \" fill=\"none\" id=\"E2&lt;-E3\" style=\"stroke: #383838; stroke-width: 1.0;\"/><polygon fill=\"#FFFFFF\" points=\"400.56,301.94,405.14,307.5099,412.043,305.4245,407.463,299.8546,400.56,301.94\" style=\"stroke: #383838; stroke-width: 1.0;\"/></a><!--MD5=[05d275557350bfb9b23a4ef7222b4c39]\n",
       "link E3 to E2--><a href=\"psysml:eb3070f5-b0ea-4331-ac23-68f76765f53a\" target=\"_top\" title=\"psysml:eb3070f5-b0ea-4331-ac23-68f76765f53a\" xlink:actuate=\"onRequest\" xlink:href=\"psysml:eb3070f5-b0ea-4331-ac23-68f76765f53a\" xlink:show=\"new\" xlink:title=\"psysml:eb3070f5-b0ea-4331-ac23-68f76765f53a\" xlink:type=\"simple\"><path d=\"M571.41,323.32 C530.92,309.78 469.14,293.88 420.5,284.11 \" fill=\"none\" id=\"E3-&gt;E2\" style=\"stroke: #383838; stroke-width: 1.0;\"/><polygon fill=\"#FFFFFF\" points=\"400.56,280.32,420.5317,276.9834,417.9227,290.7382,400.56,280.32\" style=\"stroke: #383838; stroke-width: 1.0;\"/><ellipse cx=\"425.7591\" cy=\"280.0106\" fill=\"#383838\" rx=\"2\" ry=\"2\" style=\"stroke: #383838; stroke-width: 1.0;\"/><ellipse cx=\"423.8955\" cy=\"289.8354\" fill=\"#383838\" rx=\"2\" ry=\"2\" style=\"stroke: #383838; stroke-width: 1.0;\"/></a><!--MD5=[9618e71518536f8baf3342ff6fdab317]\n",
       "reverse link E2 to E4--><a href=\"psysml:0447f336-2e88-4877-9a74-bac22478a75a\" target=\"_top\" title=\"psysml:0447f336-2e88-4877-9a74-bac22478a75a\" xlink:actuate=\"onRequest\" xlink:href=\"psysml:0447f336-2e88-4877-9a74-bac22478a75a\" xlink:show=\"new\" xlink:title=\"psysml:0447f336-2e88-4877-9a74-bac22478a75a\" xlink:type=\"simple\"><path d=\"M413.75,285.46 C463.31,285.13 529.02,280.91 571.41,275.01 \" fill=\"none\" id=\"E2&lt;-E4\" style=\"stroke: #383838; stroke-width: 1.0;\"/><polygon fill=\"#383838\" points=\"400.56,285.45,406.5556,289.4566,412.56,285.4632,406.5644,281.4566,400.56,285.45\" style=\"stroke: #383838; stroke-width: 1.0;\"/></a><!--MD5=[185131fc0dcab0a4505a2ebe144e961b]\n",
       "link E4 to E2--><a href=\"psysml:bbe7f0c0-75f0-4d42-b38b-c0f55f25890a\" target=\"_top\" title=\"psysml:bbe7f0c0-75f0-4d42-b38b-c0f55f25890a\" xlink:actuate=\"onRequest\" xlink:href=\"psysml:bbe7f0c0-75f0-4d42-b38b-c0f55f25890a\" xlink:show=\"new\" xlink:title=\"psysml:bbe7f0c0-75f0-4d42-b38b-c0f55f25890a\" xlink:type=\"simple\"><path d=\"M571.41,255.2 C530.92,253.89 469.14,256.67 420.5,261.59 \" fill=\"none\" id=\"E4-&gt;E2\" style=\"stroke: #383838; stroke-width: 1.0;\"/><polygon fill=\"#FFFFFF\" points=\"400.56,263.83,418.6615,254.756,420.2218,268.6688,400.56,263.83\" style=\"stroke: #383838; stroke-width: 1.0;\"/><ellipse cx=\"424.5489\" cy=\"256.1083\" fill=\"#383838\" rx=\"2\" ry=\"2\" style=\"stroke: #383838; stroke-width: 1.0;\"/><ellipse cx=\"425.6634\" cy=\"266.046\" fill=\"#383838\" rx=\"2\" ry=\"2\" style=\"stroke: #383838; stroke-width: 1.0;\"/></a><!--MD5=[4e1a83fab71cdb913c109063314ae896]\n",
       "reverse link E2 to E5--><a href=\"psysml:5c44c5f5-a434-4c27-9e5d-4b118f9f4fa1\" target=\"_top\" title=\"psysml:5c44c5f5-a434-4c27-9e5d-4b118f9f4fa1\" xlink:actuate=\"onRequest\" xlink:href=\"psysml:5c44c5f5-a434-4c27-9e5d-4b118f9f4fa1\" xlink:show=\"new\" xlink:title=\"psysml:5c44c5f5-a434-4c27-9e5d-4b118f9f4fa1\" xlink:type=\"simple\"><path d=\"M412.85,254.05 C454.67,239.07 508.26,219.88 549.61,205.07 \" fill=\"none\" id=\"E2&lt;-E5\" style=\"stroke: #383838; stroke-width: 1.0;\"/><polygon fill=\"#383838\" points=\"400.56,258.46,407.5575,260.2022,411.857,254.4131,404.8595,252.6709,400.56,258.46\" style=\"stroke: #383838; stroke-width: 1.0;\"/></a><!--MD5=[ce036f65110ae2351ccce5a81dc2e928]\n",
       "reverse link E2 to E6--><a href=\"psysml:f84da050-0b5f-49f5-998e-9b704fc66ebc\" target=\"_top\" title=\"psysml:f84da050-0b5f-49f5-998e-9b704fc66ebc\" xlink:actuate=\"onRequest\" xlink:href=\"psysml:f84da050-0b5f-49f5-998e-9b704fc66ebc\" xlink:show=\"new\" xlink:title=\"psysml:f84da050-0b5f-49f5-998e-9b704fc66ebc\" xlink:type=\"simple\"><path d=\"M411.85,240.78 C424.7,232.34 437.68,222.92 449,213 C480.33,185.55 475.1,165.2 509,141 C518.92,133.92 530.26,127.91 541.73,122.87 \" fill=\"none\" id=\"E2&lt;-E6\" style=\"stroke: #383838; stroke-width: 1.0;\"/><polygon fill=\"#383838\" points=\"400.64,247.93,407.8497,248.0706,410.7525,241.4696,403.5428,241.329,400.64,247.93\" style=\"stroke: #383838; stroke-width: 1.0;\"/><text fill=\"#000000\" font-family=\"sans-serif\" font-size=\"13\" lengthAdjust=\"spacingAndGlyphs\" textLength=\"7\" x=\"526.8131\" y=\"137.9757\">*</text></a><!--MD5=[3a9b96bfbf6b6ad89c494e81751bda47]\n",
       "link E5 to E7--><a href=\"psysml:5222325c-bb46-4e39-81f0-12dbae43365a\" target=\"_top\" title=\"psysml:5222325c-bb46-4e39-81f0-12dbae43365a\" xlink:actuate=\"onRequest\" xlink:href=\"psysml:5222325c-bb46-4e39-81f0-12dbae43365a\" xlink:show=\"new\" xlink:title=\"psysml:5222325c-bb46-4e39-81f0-12dbae43365a\" xlink:type=\"simple\"><path d=\"M721.15,182 C734.24,182 747.63,182 760.73,182 \" fill=\"none\" id=\"E5-&gt;E7\" style=\"stroke: #383838; stroke-width: 1.0;\"/><polygon fill=\"#FFFFFF\" points=\"780.99,182,761.99,189,761.99,175,780.99,182\" style=\"stroke: #383838; stroke-width: 1.0;\"/><ellipse cx=\"756.29\" cy=\"187\" fill=\"#383838\" rx=\"2\" ry=\"2\" style=\"stroke: #383838; stroke-width: 1.0;\"/><ellipse cx=\"756.29\" cy=\"177\" fill=\"#383838\" rx=\"2\" ry=\"2\" style=\"stroke: #383838; stroke-width: 1.0;\"/></a><!--MD5=[dc164f5e8a733ab456ef1add180e9e34]\n",
       "reverse link E7 to E8--><a href=\"psysml:62bbb331-bb03-464e-9e32-68694608bffc\" target=\"_top\" title=\"psysml:62bbb331-bb03-464e-9e32-68694608bffc\" xlink:actuate=\"onRequest\" xlink:href=\"psysml:62bbb331-bb03-464e-9e32-68694608bffc\" xlink:show=\"new\" xlink:title=\"psysml:62bbb331-bb03-464e-9e32-68694608bffc\" xlink:type=\"simple\"><path d=\"M967.3,200 C982.87,202.84 998.75,205.74 1013.65,208.45 \" fill=\"none\" id=\"E7&lt;-E8\" style=\"stroke: #383838; stroke-width: 1.0;\"/><polygon fill=\"#383838\" points=\"954.31,197.64,959.4962,202.6503,966.1158,199.7901,960.9296,194.7798,954.31,197.64\" style=\"stroke: #383838; stroke-width: 1.0;\"/><text fill=\"#000000\" font-family=\"sans-serif\" font-size=\"13\" lengthAdjust=\"spacingAndGlyphs\" textLength=\"7\" x=\"998.8882\" y=\"219.931\">*</text></a><!--MD5=[e4a10ef82d0e328e31cac39a31e58dda]\n",
       "reverse link E7 to E9--><a href=\"psysml:6940b1aa-8c0f-4381-86aa-7b3e10e8c0d6\" target=\"_top\" title=\"psysml:6940b1aa-8c0f-4381-86aa-7b3e10e8c0d6\" xlink:actuate=\"onRequest\" xlink:href=\"psysml:6940b1aa-8c0f-4381-86aa-7b3e10e8c0d6\" xlink:show=\"new\" xlink:title=\"psysml:6940b1aa-8c0f-4381-86aa-7b3e10e8c0d6\" xlink:type=\"simple\"><path d=\"M967.29,163.55 C983.61,160.5 1000.24,157.39 1015.75,154.5 \" fill=\"none\" id=\"E7&lt;-E9\" style=\"stroke: #383838; stroke-width: 1.0;\"/><polygon fill=\"#383838\" points=\"954.31,165.97,960.9419,168.8016,966.1064,163.7689,959.4745,160.9373,954.31,165.97\" style=\"stroke: #383838; stroke-width: 1.0;\"/><text fill=\"#000000\" font-family=\"sans-serif\" font-size=\"13\" lengthAdjust=\"spacingAndGlyphs\" textLength=\"7\" x=\"1000.8352\" y=\"168.7426\">*</text></a><!--MD5=[a919e0967d6f3de553dc51b9865a1d6d]\n",
       "link E10 to E7--><a href=\"psysml:2d47db94-d209-4d22-9eae-73bfc16721f5\" target=\"_top\" title=\"psysml:2d47db94-d209-4d22-9eae-73bfc16721f5\" xlink:actuate=\"onRequest\" xlink:href=\"psysml:2d47db94-d209-4d22-9eae-73bfc16721f5\" xlink:show=\"new\" xlink:title=\"psysml:2d47db94-d209-4d22-9eae-73bfc16721f5\" xlink:type=\"simple\"><path d=\"M176.21,198.02 C249.67,218.13 366.67,236.81 449,185 C501.16,152.18 456.84,92.82 509,60 C588.75,9.82 632.45,27.79 721,60 C766.61,76.59 807.89,114.45 834.73,143.63 \" fill=\"none\" id=\"E10-&gt;E7\" style=\"stroke: #383838; stroke-width: 1.0;\"/><polygon fill=\"#FFFFFF\" points=\"848.09,158.76,830.2631,149.1579,840.7538,139.8873,848.09,158.76\" style=\"stroke: #383838; stroke-width: 1.0;\"/><ellipse cx=\"827.9873\" cy=\"143.5623\" fill=\"#383838\" rx=\"2\" ry=\"2\" style=\"stroke: #383838; stroke-width: 1.0;\"/><ellipse cx=\"835.4806\" cy=\"136.9404\" fill=\"#383838\" rx=\"2\" ry=\"2\" style=\"stroke: #383838; stroke-width: 1.0;\"/></a><!--MD5=[0f36bececdf0dff6e600d6f64214b0f1]\n",
       "link E10 to E2--><a href=\"psysml:6622b004-fc37-43f3-bc42-fdfacc696359\" target=\"_top\" title=\"psysml:6622b004-fc37-43f3-bc42-fdfacc696359\" xlink:actuate=\"onRequest\" xlink:href=\"psysml:6622b004-fc37-43f3-bc42-fdfacc696359\" xlink:show=\"new\" xlink:title=\"psysml:6622b004-fc37-43f3-bc42-fdfacc696359\" xlink:type=\"simple\"><path d=\"M160.58,198.12 C193.13,212.29 235.27,230.65 270.94,246.18 \" fill=\"none\" id=\"E10-&gt;E2\" style=\"stroke: #383838; stroke-width: 1.0;\"/><polygon fill=\"#FFFFFF\" points=\"289.46,254.25,269.2451,253.0839,274.8335,240.2476,289.46,254.25\" style=\"stroke: #383838; stroke-width: 1.0;\"/><ellipse cx=\"264.8173\" cy=\"248.9749\" fill=\"#383838\" rx=\"2\" ry=\"2\" style=\"stroke: #383838; stroke-width: 1.0;\"/><ellipse cx=\"268.809\" cy=\"239.8061\" fill=\"#383838\" rx=\"2\" ry=\"2\" style=\"stroke: #383838; stroke-width: 1.0;\"/></a><!--MD5=[de308be4a2431766a05a907a031c07fc]\n",
       "reverse link E10 to E11--><a href=\"psysml:973d09ca-2c85-400b-8a26-6e03e711a9dc\" target=\"_top\" title=\"psysml:973d09ca-2c85-400b-8a26-6e03e711a9dc\" xlink:actuate=\"onRequest\" xlink:href=\"psysml:973d09ca-2c85-400b-8a26-6e03e711a9dc\" xlink:show=\"new\" xlink:title=\"psysml:973d09ca-2c85-400b-8a26-6e03e711a9dc\" xlink:type=\"simple\"><path d=\"M194.17,164.01 C218.95,160.86 245.73,157.47 269.7,154.43 \" fill=\"none\" id=\"E10&lt;-E11\" style=\"stroke: #383838; stroke-width: 1.0;\"/><polygon fill=\"#383838\" points=\"181.03,165.67,187.4838,168.887,192.9355,164.167,186.4817,160.95,181.03,165.67\" style=\"stroke: #383838; stroke-width: 1.0;\"/></a><!--MD5=[1d54f998c6d5961a1a9184be73a7eb6c]\n",
       "reverse link E10 to E12--><a href=\"psysml:4b2dc275-57bf-47aa-bec9-3fe53972a958\" target=\"_top\" title=\"psysml:4b2dc275-57bf-47aa-bec9-3fe53972a958\" xlink:actuate=\"onRequest\" xlink:href=\"psysml:4b2dc275-57bf-47aa-bec9-3fe53972a958\" xlink:show=\"new\" xlink:title=\"psysml:4b2dc275-57bf-47aa-bec9-3fe53972a958\" xlink:type=\"simple\"><path d=\"M159.31,145.61 C183.75,132.22 213.52,116.59 241,104 C253.82,98.13 267.77,92.33 281.14,87.05 \" fill=\"none\" id=\"E10&lt;-E12\" style=\"stroke: #383838; stroke-width: 1.0;\"/><polygon fill=\"#383838\" points=\"147.77,151.98,154.9559,152.5819,158.2754,146.1803,151.0895,145.5783,147.77,151.98\" style=\"stroke: #383838; stroke-width: 1.0;\"/></a><!--MD5=[4a48077df6499cfcd20b62e8f5f37904]\n",
       "link E13 to E7--><a href=\"psysml:99db2ce7-7db4-4747-aea3-ba596a45b862\" target=\"_top\" title=\"psysml:99db2ce7-7db4-4747-aea3-ba596a45b862\" xlink:actuate=\"onRequest\" xlink:href=\"psysml:99db2ce7-7db4-4747-aea3-ba596a45b862\" xlink:show=\"new\" xlink:title=\"psysml:99db2ce7-7db4-4747-aea3-ba596a45b862\" xlink:type=\"simple\"><path d=\"M690.9,401.97 C701.56,396.96 711.95,391.01 721,384 C777.66,340.08 821.98,268.26 846.17,223.15 \" fill=\"none\" id=\"E13-&gt;E7\" style=\"stroke: #383838; stroke-width: 1.0;\"/><polygon fill=\"#FFFFFF\" points=\"855.42,205.32,852.8821,225.4088,840.4555,218.9605,855.42,205.32\" style=\"stroke: #383838; stroke-width: 1.0;\"/><ellipse cx=\"848.4815\" cy=\"229.547\" fill=\"#383838\" rx=\"2\" ry=\"2\" style=\"stroke: #383838; stroke-width: 1.0;\"/><ellipse cx=\"839.6054\" cy=\"224.9411\" fill=\"#383838\" rx=\"2\" ry=\"2\" style=\"stroke: #383838; stroke-width: 1.0;\"/></a><!--MD5=[3752947672b188943e8769a5d479f9d0]\n",
       "@startuml\r\n",
       "left to right direction\r\n",
       "skinparam monochrome true\r\n",
       "skinparam classbackgroundcolor white\r\n",
       "skinparam shadowing false\r\n",
       "skinparam wrapWidth 300\r\n",
       "hide circle\r\n",
       "\r\n",
       "package \"OccurrenceTest\" as E1  [[psysml:e6ab502d-dafd-416a-a255-3fa3ad3c263c ]]  {\r\n",
       "comp def \"Occ\" as E2  <<(T,blue) occurrence def>> [[psysml:1203d309-d98c-452c-84ab-9db93e8b8d83 ]] {\r\n",
       "- - attributes - -\r\n",
       "a\r\n",
       "}\r\n",
       "comp usage \"occ1: Occ\" as E3  <<(T,blue) occurrence>> [[psysml:158a345e-3640-4aa1-8638-58b6699698f0 ]] {\r\n",
       "}\r\n",
       "comp usage \"occ2: Occ\" as E4  <<(T,blue) occurrence>> [[psysml:5ccc27c3-07b1-4713-880e-82008912fb62 ]] {\r\n",
       "}\r\n",
       "comp usage \"s: Ind\" as E5  <<(T,blue) individual snapshot occurrence>> [[psysml:b931cfcd-d1f5-4c70-b44c-3b4fd21c9018 ]] {\r\n",
       "}\r\n",
       "comp usage \"t\" as E6  <<(T,blue) timeslice occurrence>> [[psysml:a76dffb5-cb4a-4142-b15c-9dbeb6bd2474 ]] {\r\n",
       "}\r\n",
       "comp def \"Ind\" as E7  <<(T,blue) individual occurrence def>> [[psysml:cddcce1d-840d-4259-9672-1cad32ef9616 ]] {\r\n",
       "}\r\n",
       "comp usage \"s2\" as E8  <<(T,blue) snapshot occurrence>> [[psysml:760118bf-f26e-45fa-9528-0dbdf12ed33d ]] {\r\n",
       "}\r\n",
       "comp usage \"t2\" as E9  <<(T,blue) timeslice occurrence>> [[psysml:6916c4a6-d3e9-4718-9bd3-b4da3843528f ]] {\r\n",
       "}\r\n",
       "comp usage \"ind: Ind, Occ\" as E10  <<(T,blue) individual occurrence>> [[psysml:ca3e4eae-d888-4010-bdf5-da81d89d1eab ]] {\r\n",
       "}\r\n",
       "comp usage \"s3\" as E11  <<(T,blue) snapshot occurrence>> [[psysml:a7aa12fc-e204-4f0a-90f2-9ab0101a123a ]] {\r\n",
       "}\r\n",
       "comp usage \"t3\" as E12  <<(T,blue) individual timeslice occurrence>> [[psysml:5052c3e9-886b-4521-8bf3-18ad9cb470c5 ]] {\r\n",
       "}\r\n",
       "comp usage \"s4: Ind\" as E13  <<(T,blue) individual snapshot occurrence>> [[psysml:e6d8c0e1-46dd-40c0-98f9-8ea23118f8bb ]] {\r\n",
       "}\r\n",
       "}\r\n",
       "E2 o- - E3 [[psysml:816d5179-2674-4631-83bc-f7d71b4237a7 ]] \r\n",
       "E3 - -:|> E2 [[psysml:eb3070f5-b0ea-4331-ac23-68f76765f53a ]] \r\n",
       "E2 *- - E4 [[psysml:0447f336-2e88-4877-9a74-bac22478a75a ]] \r\n",
       "E4 - -:|> E2 [[psysml:bbe7f0c0-75f0-4d42-b38b-c0f55f25890a ]] \r\n",
       "E2 *- - E5 [[psysml:5c44c5f5-a434-4c27-9e5d-4b118f9f4fa1 ]] \r\n",
       "E2 *- - \"*\"E6 [[psysml:f84da050-0b5f-49f5-998e-9b704fc66ebc ]] \r\n",
       "E5 - -:|> E7 [[psysml:5222325c-bb46-4e39-81f0-12dbae43365a ]] \r\n",
       "E7 *- - \"*\"E8 [[psysml:62bbb331-bb03-464e-9e32-68694608bffc ]] \r\n",
       "E7 *- - \"*\"E9 [[psysml:6940b1aa-8c0f-4381-86aa-7b3e10e8c0d6 ]] \r\n",
       "E10 - -:|> E7 [[psysml:2d47db94-d209-4d22-9eae-73bfc16721f5 ]] \r\n",
       "E10 - -:|> E2 [[psysml:6622b004-fc37-43f3-bc42-fdfacc696359 ]] \r\n",
       "E10 *- - E11 [[psysml:973d09ca-2c85-400b-8a26-6e03e711a9dc ]] \r\n",
       "E10 *- - E12 [[psysml:4b2dc275-57bf-47aa-bec9-3fe53972a958 ]] \r\n",
       "E13 - -:|> E7 [[psysml:99db2ce7-7db4-4747-aea3-ba596a45b862 ]] \r\n",
       "@enduml\r\n",
       "\n",
       "PlantUML version 1.2020.13(Sat Jun 13 12:26:38 UTC 2020)\n",
       "(EPL source distribution)\n",
       "Java Runtime: OpenJDK Runtime Environment\n",
       "JVM: OpenJDK 64-Bit Server VM\n",
       "Default Encoding: UTF-8\n",
       "Language: en\n",
       "Country: null\n",
       "--></g></svg>"
      ]
     },
     "execution_count": 16,
     "metadata": {},
     "output_type": "execute_result"
    }
   ],
   "source": [
    "%viz --style=\"LR\" --view=\"Default\" \"OccurrenceTest\""
   ]
  },
  {
   "cell_type": "code",
   "execution_count": 17,
   "id": "3ca98ee0",
   "metadata": {
    "execution": {
     "iopub.execute_input": "2021-10-03T08:28:43.455311Z",
     "iopub.status.busy": "2021-10-03T08:28:43.454897Z",
     "iopub.status.idle": "2021-10-03T08:28:43.523138Z",
     "shell.execute_reply": "2021-10-03T08:28:43.523465Z"
    }
   },
   "outputs": [
    {
     "data": {
      "image/svg+xml": [
       "<?xml version=\"1.0\" encoding=\"UTF-8\" standalone=\"no\"?><svg xmlns=\"http://www.w3.org/2000/svg\" xmlns:xlink=\"http://www.w3.org/1999/xlink\" contentScriptType=\"application/ecmascript\" contentStyleType=\"text/css\" height=\"476px\" preserveAspectRatio=\"none\" style=\"width:1202px;height:476px;\" version=\"1.1\" viewBox=\"0 0 1202 476\" width=\"1202px\" zoomAndPan=\"magnify\"><defs/><g><!--MD5=[fbc87193dbaf4d95561dea2c320d4a47]\n",
       "cluster E1--><a href=\"psysml:e6ab502d-dafd-416a-a255-3fa3ad3c263c\" target=\"_top\" title=\"psysml:e6ab502d-dafd-416a-a255-3fa3ad3c263c\" xlink:actuate=\"onRequest\" xlink:href=\"psysml:e6ab502d-dafd-416a-a255-3fa3ad3c263c\" xlink:show=\"new\" xlink:title=\"psysml:e6ab502d-dafd-416a-a255-3fa3ad3c263c\" xlink:type=\"simple\"><polygon fill=\"#FFFFFF\" points=\"16,6,134,6,141,28.2969,1180,28.2969,1180,464,16,464,16,6\" style=\"stroke: #000000; stroke-width: 1.5;\"/><line style=\"stroke: #000000; stroke-width: 1.5;\" x1=\"16\" x2=\"141\" y1=\"28.2969\" y2=\"28.2969\"/><text fill=\"#000000\" font-family=\"sans-serif\" font-size=\"14\" font-weight=\"bold\" lengthAdjust=\"spacingAndGlyphs\" textLength=\"112\" x=\"20\" y=\"20.9951\">OccurrenceTest</text></a><!--MD5=[b4997ac47864f28c2f74865a473b2911]\n",
       "class E2--><a href=\"psysml:1203d309-d98c-452c-84ab-9db93e8b8d83\" target=\"_top\" title=\"psysml:1203d309-d98c-452c-84ab-9db93e8b8d83\" xlink:actuate=\"onRequest\" xlink:href=\"psysml:1203d309-d98c-452c-84ab-9db93e8b8d83\" xlink:show=\"new\" xlink:title=\"psysml:1203d309-d98c-452c-84ab-9db93e8b8d83\" xlink:type=\"simple\"><rect fill=\"#FFFFFF\" height=\"75.5469\" id=\"E2\" style=\"stroke: #383838; stroke-width: 1.5;\" width=\"111\" x=\"289.5\" y=\"240\"/><text fill=\"#000000\" font-family=\"sans-serif\" font-size=\"12\" font-style=\"italic\" lengthAdjust=\"spacingAndGlyphs\" textLength=\"109\" x=\"290.5\" y=\"256.1387\">«occurrence def»</text><text fill=\"#000000\" font-family=\"sans-serif\" font-size=\"12\" lengthAdjust=\"spacingAndGlyphs\" textLength=\"23\" x=\"333.5\" y=\"270.1074\">Occ</text><line style=\"stroke: #383838; stroke-width: 1.5;\" x1=\"290.5\" x2=\"399.5\" y1=\"277.9375\" y2=\"277.9375\"/><text fill=\"#000000\" font-family=\"sans-serif\" font-size=\"11\" lengthAdjust=\"spacingAndGlyphs\" textLength=\"7\" x=\"295.5\" y=\"308.9526\">a</text><line style=\"stroke: #383838; stroke-width: 1.0;\" x1=\"290.5\" x2=\"317.5\" y1=\"292.3398\" y2=\"292.3398\"/><text fill=\"#000000\" font-family=\"sans-serif\" font-size=\"11\" lengthAdjust=\"spacingAndGlyphs\" textLength=\"55\" x=\"317.5\" y=\"295.6479\">attributes</text><line style=\"stroke: #383838; stroke-width: 1.0;\" x1=\"372.5\" x2=\"399.5\" y1=\"292.3398\" y2=\"292.3398\"/></a><!--MD5=[09b614a08d8cba4a07c9adeb5e0fee81]\n",
       "class E3--><a href=\"psysml:158a345e-3640-4aa1-8638-58b6699698f0\" target=\"_top\" title=\"psysml:158a345e-3640-4aa1-8638-58b6699698f0\" xlink:actuate=\"onRequest\" xlink:href=\"psysml:158a345e-3640-4aa1-8638-58b6699698f0\" xlink:show=\"new\" xlink:title=\"psysml:158a345e-3640-4aa1-8638-58b6699698f0\" xlink:type=\"simple\"><rect fill=\"#FFFFFF\" height=\"45.9375\" id=\"E3\" rx=\"10\" ry=\"10\" style=\"stroke: #383838; stroke-width: 1.5;\" width=\"87\" x=\"571.5\" y=\"321\"/><text fill=\"#000000\" font-family=\"sans-serif\" font-size=\"12\" font-style=\"italic\" lengthAdjust=\"spacingAndGlyphs\" textLength=\"85\" x=\"572.5\" y=\"337.1387\">«occurrence»</text><text fill=\"#000000\" font-family=\"sans-serif\" font-size=\"12\" lengthAdjust=\"spacingAndGlyphs\" textLength=\"61\" x=\"584.5\" y=\"351.1074\">occ1: Occ</text><line style=\"stroke: #383838; stroke-width: 1.5;\" x1=\"572.5\" x2=\"657.5\" y1=\"358.9375\" y2=\"358.9375\"/></a><!--MD5=[ebbe1d658d1005bcc118a6aa81145e00]\n",
       "class E4--><a href=\"psysml:5ccc27c3-07b1-4713-880e-82008912fb62\" target=\"_top\" title=\"psysml:5ccc27c3-07b1-4713-880e-82008912fb62\" xlink:actuate=\"onRequest\" xlink:href=\"psysml:5ccc27c3-07b1-4713-880e-82008912fb62\" xlink:show=\"new\" xlink:title=\"psysml:5ccc27c3-07b1-4713-880e-82008912fb62\" xlink:type=\"simple\"><rect fill=\"#FFFFFF\" height=\"45.9375\" id=\"E4\" rx=\"10\" ry=\"10\" style=\"stroke: #383838; stroke-width: 1.5;\" width=\"87\" x=\"571.5\" y=\"240\"/><text fill=\"#000000\" font-family=\"sans-serif\" font-size=\"12\" font-style=\"italic\" lengthAdjust=\"spacingAndGlyphs\" textLength=\"85\" x=\"572.5\" y=\"256.1387\">«occurrence»</text><text fill=\"#000000\" font-family=\"sans-serif\" font-size=\"12\" lengthAdjust=\"spacingAndGlyphs\" textLength=\"61\" x=\"584.5\" y=\"270.1074\">occ2: Occ</text><line style=\"stroke: #383838; stroke-width: 1.5;\" x1=\"572.5\" x2=\"657.5\" y1=\"277.9375\" y2=\"277.9375\"/></a><!--MD5=[270fce915f116d4de14055a7c1d9a0f3]\n",
       "class E5--><a href=\"psysml:b931cfcd-d1f5-4c70-b44c-3b4fd21c9018\" target=\"_top\" title=\"psysml:b931cfcd-d1f5-4c70-b44c-3b4fd21c9018\" xlink:actuate=\"onRequest\" xlink:href=\"psysml:b931cfcd-d1f5-4c70-b44c-3b4fd21c9018\" xlink:show=\"new\" xlink:title=\"psysml:b931cfcd-d1f5-4c70-b44c-3b4fd21c9018\" xlink:type=\"simple\"><rect fill=\"#FFFFFF\" height=\"45.9375\" id=\"E5\" rx=\"10\" ry=\"10\" style=\"stroke: #383838; stroke-width: 1.5;\" width=\"212\" x=\"509\" y=\"159\"/><text fill=\"#000000\" font-family=\"sans-serif\" font-size=\"12\" font-style=\"italic\" lengthAdjust=\"spacingAndGlyphs\" textLength=\"210\" x=\"510\" y=\"175.1387\">«individual snapshot occurrence»</text><text fill=\"#000000\" font-family=\"sans-serif\" font-size=\"12\" lengthAdjust=\"spacingAndGlyphs\" textLength=\"34\" x=\"598\" y=\"189.1074\">s: Ind</text><line style=\"stroke: #383838; stroke-width: 1.5;\" x1=\"510\" x2=\"720\" y1=\"196.9375\" y2=\"196.9375\"/></a><!--MD5=[60a26617385b1d2d0262a64233df1f8d]\n",
       "class E6--><a href=\"psysml:a76dffb5-cb4a-4142-b15c-9dbeb6bd2474\" target=\"_top\" title=\"psysml:a76dffb5-cb4a-4142-b15c-9dbeb6bd2474\" xlink:actuate=\"onRequest\" xlink:href=\"psysml:a76dffb5-cb4a-4142-b15c-9dbeb6bd2474\" xlink:show=\"new\" xlink:title=\"psysml:a76dffb5-cb4a-4142-b15c-9dbeb6bd2474\" xlink:type=\"simple\"><rect fill=\"#FFFFFF\" height=\"45.9375\" id=\"E6\" rx=\"10\" ry=\"10\" style=\"stroke: #383838; stroke-width: 1.5;\" width=\"146\" x=\"542\" y=\"78\"/><text fill=\"#000000\" font-family=\"sans-serif\" font-size=\"12\" font-style=\"italic\" lengthAdjust=\"spacingAndGlyphs\" textLength=\"144\" x=\"543\" y=\"94.1387\">«timeslice occurrence»</text><text fill=\"#000000\" font-family=\"sans-serif\" font-size=\"12\" lengthAdjust=\"spacingAndGlyphs\" textLength=\"5\" x=\"612.5\" y=\"108.1074\">t</text><line style=\"stroke: #383838; stroke-width: 1.5;\" x1=\"543\" x2=\"687\" y1=\"115.9375\" y2=\"115.9375\"/></a><!--MD5=[2156ba9850f5573cc1fc38a6a4b2f02b]\n",
       "class E7--><a href=\"psysml:cddcce1d-840d-4259-9672-1cad32ef9616\" target=\"_top\" title=\"psysml:cddcce1d-840d-4259-9672-1cad32ef9616\" xlink:actuate=\"onRequest\" xlink:href=\"psysml:cddcce1d-840d-4259-9672-1cad32ef9616\" xlink:show=\"new\" xlink:title=\"psysml:cddcce1d-840d-4259-9672-1cad32ef9616\" xlink:type=\"simple\"><rect fill=\"#FFFFFF\" height=\"45.9375\" id=\"E7\" style=\"stroke: #383838; stroke-width: 1.5;\" width=\"173\" x=\"781\" y=\"159\"/><text fill=\"#000000\" font-family=\"sans-serif\" font-size=\"12\" font-style=\"italic\" lengthAdjust=\"spacingAndGlyphs\" textLength=\"171\" x=\"782\" y=\"175.1387\">«individual occurrence def»</text><text fill=\"#000000\" font-family=\"sans-serif\" font-size=\"12\" lengthAdjust=\"spacingAndGlyphs\" textLength=\"19\" x=\"858\" y=\"189.1074\">Ind</text><line style=\"stroke: #383838; stroke-width: 1.5;\" x1=\"782\" x2=\"953\" y1=\"196.9375\" y2=\"196.9375\"/></a><!--MD5=[b9389687b975829384b498ac4b7476b2]\n",
       "class E8--><a href=\"psysml:760118bf-f26e-45fa-9528-0dbdf12ed33d\" target=\"_top\" title=\"psysml:760118bf-f26e-45fa-9528-0dbdf12ed33d\" xlink:actuate=\"onRequest\" xlink:href=\"psysml:760118bf-f26e-45fa-9528-0dbdf12ed33d\" xlink:show=\"new\" xlink:title=\"psysml:760118bf-f26e-45fa-9528-0dbdf12ed33d\" xlink:type=\"simple\"><rect fill=\"#FFFFFF\" height=\"45.9375\" id=\"E8\" rx=\"10\" ry=\"10\" style=\"stroke: #383838; stroke-width: 1.5;\" width=\"150\" x=\"1014\" y=\"199\"/><text fill=\"#000000\" font-family=\"sans-serif\" font-size=\"12\" font-style=\"italic\" lengthAdjust=\"spacingAndGlyphs\" textLength=\"148\" x=\"1015\" y=\"215.1387\">«snapshot occurrence»</text><text fill=\"#000000\" font-family=\"sans-serif\" font-size=\"12\" lengthAdjust=\"spacingAndGlyphs\" textLength=\"15\" x=\"1081.5\" y=\"229.1074\">s2</text><line style=\"stroke: #383838; stroke-width: 1.5;\" x1=\"1015\" x2=\"1163\" y1=\"236.9375\" y2=\"236.9375\"/></a><!--MD5=[fd4143e9d270a159db93a4ea2a975926]\n",
       "class E9--><a href=\"psysml:6916c4a6-d3e9-4718-9bd3-b4da3843528f\" target=\"_top\" title=\"psysml:6916c4a6-d3e9-4718-9bd3-b4da3843528f\" xlink:actuate=\"onRequest\" xlink:href=\"psysml:6916c4a6-d3e9-4718-9bd3-b4da3843528f\" xlink:show=\"new\" xlink:title=\"psysml:6916c4a6-d3e9-4718-9bd3-b4da3843528f\" xlink:type=\"simple\"><rect fill=\"#FFFFFF\" height=\"45.9375\" id=\"E9\" rx=\"10\" ry=\"10\" style=\"stroke: #383838; stroke-width: 1.5;\" width=\"146\" x=\"1016\" y=\"118\"/><text fill=\"#000000\" font-family=\"sans-serif\" font-size=\"12\" font-style=\"italic\" lengthAdjust=\"spacingAndGlyphs\" textLength=\"144\" x=\"1017\" y=\"134.1387\">«timeslice occurrence»</text><text fill=\"#000000\" font-family=\"sans-serif\" font-size=\"12\" lengthAdjust=\"spacingAndGlyphs\" textLength=\"13\" x=\"1082.5\" y=\"148.1074\">t2</text><line style=\"stroke: #383838; stroke-width: 1.5;\" x1=\"1017\" x2=\"1161\" y1=\"155.9375\" y2=\"155.9375\"/></a><!--MD5=[96f4274e9e20536e775497830990834d]\n",
       "class E10--><a href=\"psysml:ca3e4eae-d888-4010-bdf5-da81d89d1eab\" target=\"_top\" title=\"psysml:ca3e4eae-d888-4010-bdf5-da81d89d1eab\" xlink:actuate=\"onRequest\" xlink:href=\"psysml:ca3e4eae-d888-4010-bdf5-da81d89d1eab\" xlink:show=\"new\" xlink:title=\"psysml:ca3e4eae-d888-4010-bdf5-da81d89d1eab\" xlink:type=\"simple\"><rect fill=\"#FFFFFF\" height=\"45.9375\" id=\"E10\" rx=\"10\" ry=\"10\" style=\"stroke: #383838; stroke-width: 1.5;\" width=\"149\" x=\"32\" y=\"152\"/><text fill=\"#000000\" font-family=\"sans-serif\" font-size=\"12\" font-style=\"italic\" lengthAdjust=\"spacingAndGlyphs\" textLength=\"147\" x=\"33\" y=\"168.1387\">«individual occurrence»</text><text fill=\"#000000\" font-family=\"sans-serif\" font-size=\"12\" lengthAdjust=\"spacingAndGlyphs\" textLength=\"77\" x=\"68\" y=\"182.1074\">ind: Ind, Occ</text><line style=\"stroke: #383838; stroke-width: 1.5;\" x1=\"33\" x2=\"180\" y1=\"189.9375\" y2=\"189.9375\"/></a><!--MD5=[1dd1bfd58a279cf63c5f349dbc8fc6a1]\n",
       "class E11--><a href=\"psysml:a7aa12fc-e204-4f0a-90f2-9ab0101a123a\" target=\"_top\" title=\"psysml:a7aa12fc-e204-4f0a-90f2-9ab0101a123a\" xlink:actuate=\"onRequest\" xlink:href=\"psysml:a7aa12fc-e204-4f0a-90f2-9ab0101a123a\" xlink:show=\"new\" xlink:title=\"psysml:a7aa12fc-e204-4f0a-90f2-9ab0101a123a\" xlink:type=\"simple\"><rect fill=\"#FFFFFF\" height=\"45.9375\" id=\"E11\" rx=\"10\" ry=\"10\" style=\"stroke: #383838; stroke-width: 1.5;\" width=\"150\" x=\"270\" y=\"122\"/><text fill=\"#000000\" font-family=\"sans-serif\" font-size=\"12\" font-style=\"italic\" lengthAdjust=\"spacingAndGlyphs\" textLength=\"148\" x=\"271\" y=\"138.1387\">«snapshot occurrence»</text><text fill=\"#000000\" font-family=\"sans-serif\" font-size=\"12\" lengthAdjust=\"spacingAndGlyphs\" textLength=\"15\" x=\"337.5\" y=\"152.1074\">s3</text><line style=\"stroke: #383838; stroke-width: 1.5;\" x1=\"271\" x2=\"419\" y1=\"159.9375\" y2=\"159.9375\"/></a><!--MD5=[49a0ec8f00dab7302a31f22d0f0fe584]\n",
       "class E12--><a href=\"psysml:5052c3e9-886b-4521-8bf3-18ad9cb470c5\" target=\"_top\" title=\"psysml:5052c3e9-886b-4521-8bf3-18ad9cb470c5\" xlink:actuate=\"onRequest\" xlink:href=\"psysml:5052c3e9-886b-4521-8bf3-18ad9cb470c5\" xlink:show=\"new\" xlink:title=\"psysml:5052c3e9-886b-4521-8bf3-18ad9cb470c5\" xlink:type=\"simple\"><rect fill=\"#FFFFFF\" height=\"45.9375\" id=\"E12\" rx=\"10\" ry=\"10\" style=\"stroke: #383838; stroke-width: 1.5;\" width=\"208\" x=\"241\" y=\"41\"/><text fill=\"#000000\" font-family=\"sans-serif\" font-size=\"12\" font-style=\"italic\" lengthAdjust=\"spacingAndGlyphs\" textLength=\"206\" x=\"242\" y=\"57.1387\">«individual timeslice occurrence»</text><text fill=\"#000000\" font-family=\"sans-serif\" font-size=\"12\" lengthAdjust=\"spacingAndGlyphs\" textLength=\"13\" x=\"338.5\" y=\"71.1074\">t3</text><line style=\"stroke: #383838; stroke-width: 1.5;\" x1=\"242\" x2=\"448\" y1=\"78.9375\" y2=\"78.9375\"/></a><!--MD5=[ee3c913d1a06f366521f9ef512b67efe]\n",
       "class E13--><a href=\"psysml:e6d8c0e1-46dd-40c0-98f9-8ea23118f8bb\" target=\"_top\" title=\"psysml:e6d8c0e1-46dd-40c0-98f9-8ea23118f8bb\" xlink:actuate=\"onRequest\" xlink:href=\"psysml:e6d8c0e1-46dd-40c0-98f9-8ea23118f8bb\" xlink:show=\"new\" xlink:title=\"psysml:e6d8c0e1-46dd-40c0-98f9-8ea23118f8bb\" xlink:type=\"simple\"><rect fill=\"#FFFFFF\" height=\"45.9375\" id=\"E13\" rx=\"10\" ry=\"10\" style=\"stroke: #383838; stroke-width: 1.5;\" width=\"212\" x=\"509\" y=\"402\"/><text fill=\"#000000\" font-family=\"sans-serif\" font-size=\"12\" font-style=\"italic\" lengthAdjust=\"spacingAndGlyphs\" textLength=\"210\" x=\"510\" y=\"418.1387\">«individual snapshot occurrence»</text><text fill=\"#000000\" font-family=\"sans-serif\" font-size=\"12\" lengthAdjust=\"spacingAndGlyphs\" textLength=\"42\" x=\"594\" y=\"432.1074\">s4: Ind</text><line style=\"stroke: #383838; stroke-width: 1.5;\" x1=\"510\" x2=\"720\" y1=\"439.9375\" y2=\"439.9375\"/></a><!--MD5=[209b3feb70ccb6233bfe1053d122c12c]\n",
       "reverse link E2 to E3--><a href=\"psysml:816d5179-2674-4631-83bc-f7d71b4237a7\" target=\"_top\" title=\"psysml:816d5179-2674-4631-83bc-f7d71b4237a7\" xlink:actuate=\"onRequest\" xlink:href=\"psysml:816d5179-2674-4631-83bc-f7d71b4237a7\" xlink:show=\"new\" xlink:title=\"psysml:816d5179-2674-4631-83bc-f7d71b4237a7\" xlink:type=\"simple\"><path d=\"M413.12,305.75 C462.75,320.45 528.84,336.19 571.41,343.13 \" fill=\"none\" id=\"E2&lt;-E3\" style=\"stroke: #383838; stroke-width: 1.0;\"/><polygon fill=\"#FFFFFF\" points=\"400.56,301.94,405.14,307.5099,412.043,305.4245,407.463,299.8546,400.56,301.94\" style=\"stroke: #383838; stroke-width: 1.0;\"/></a><!--MD5=[05d275557350bfb9b23a4ef7222b4c39]\n",
       "link E3 to E2--><a href=\"psysml:eb3070f5-b0ea-4331-ac23-68f76765f53a\" target=\"_top\" title=\"psysml:eb3070f5-b0ea-4331-ac23-68f76765f53a\" xlink:actuate=\"onRequest\" xlink:href=\"psysml:eb3070f5-b0ea-4331-ac23-68f76765f53a\" xlink:show=\"new\" xlink:title=\"psysml:eb3070f5-b0ea-4331-ac23-68f76765f53a\" xlink:type=\"simple\"><path d=\"M571.41,323.32 C530.92,309.78 469.14,293.88 420.5,284.11 \" fill=\"none\" id=\"E3-&gt;E2\" style=\"stroke: #383838; stroke-width: 1.0;\"/><polygon fill=\"#FFFFFF\" points=\"400.56,280.32,420.5317,276.9834,417.9227,290.7382,400.56,280.32\" style=\"stroke: #383838; stroke-width: 1.0;\"/><ellipse cx=\"425.7591\" cy=\"280.0106\" fill=\"#383838\" rx=\"2\" ry=\"2\" style=\"stroke: #383838; stroke-width: 1.0;\"/><ellipse cx=\"423.8955\" cy=\"289.8354\" fill=\"#383838\" rx=\"2\" ry=\"2\" style=\"stroke: #383838; stroke-width: 1.0;\"/></a><!--MD5=[9618e71518536f8baf3342ff6fdab317]\n",
       "reverse link E2 to E4--><a href=\"psysml:0447f336-2e88-4877-9a74-bac22478a75a\" target=\"_top\" title=\"psysml:0447f336-2e88-4877-9a74-bac22478a75a\" xlink:actuate=\"onRequest\" xlink:href=\"psysml:0447f336-2e88-4877-9a74-bac22478a75a\" xlink:show=\"new\" xlink:title=\"psysml:0447f336-2e88-4877-9a74-bac22478a75a\" xlink:type=\"simple\"><path d=\"M413.75,285.46 C463.31,285.13 529.02,280.91 571.41,275.01 \" fill=\"none\" id=\"E2&lt;-E4\" style=\"stroke: #383838; stroke-width: 1.0;\"/><polygon fill=\"#383838\" points=\"400.56,285.45,406.5556,289.4566,412.56,285.4632,406.5644,281.4566,400.56,285.45\" style=\"stroke: #383838; stroke-width: 1.0;\"/></a><!--MD5=[185131fc0dcab0a4505a2ebe144e961b]\n",
       "link E4 to E2--><a href=\"psysml:bbe7f0c0-75f0-4d42-b38b-c0f55f25890a\" target=\"_top\" title=\"psysml:bbe7f0c0-75f0-4d42-b38b-c0f55f25890a\" xlink:actuate=\"onRequest\" xlink:href=\"psysml:bbe7f0c0-75f0-4d42-b38b-c0f55f25890a\" xlink:show=\"new\" xlink:title=\"psysml:bbe7f0c0-75f0-4d42-b38b-c0f55f25890a\" xlink:type=\"simple\"><path d=\"M571.41,255.2 C530.92,253.89 469.14,256.67 420.5,261.59 \" fill=\"none\" id=\"E4-&gt;E2\" style=\"stroke: #383838; stroke-width: 1.0;\"/><polygon fill=\"#FFFFFF\" points=\"400.56,263.83,418.6615,254.756,420.2218,268.6688,400.56,263.83\" style=\"stroke: #383838; stroke-width: 1.0;\"/><ellipse cx=\"424.5489\" cy=\"256.1083\" fill=\"#383838\" rx=\"2\" ry=\"2\" style=\"stroke: #383838; stroke-width: 1.0;\"/><ellipse cx=\"425.6634\" cy=\"266.046\" fill=\"#383838\" rx=\"2\" ry=\"2\" style=\"stroke: #383838; stroke-width: 1.0;\"/></a><!--MD5=[4e1a83fab71cdb913c109063314ae896]\n",
       "reverse link E2 to E5--><a href=\"psysml:5c44c5f5-a434-4c27-9e5d-4b118f9f4fa1\" target=\"_top\" title=\"psysml:5c44c5f5-a434-4c27-9e5d-4b118f9f4fa1\" xlink:actuate=\"onRequest\" xlink:href=\"psysml:5c44c5f5-a434-4c27-9e5d-4b118f9f4fa1\" xlink:show=\"new\" xlink:title=\"psysml:5c44c5f5-a434-4c27-9e5d-4b118f9f4fa1\" xlink:type=\"simple\"><path d=\"M412.85,254.05 C454.67,239.07 508.26,219.88 549.61,205.07 \" fill=\"none\" id=\"E2&lt;-E5\" style=\"stroke: #383838; stroke-width: 1.0;\"/><polygon fill=\"#383838\" points=\"400.56,258.46,407.5575,260.2022,411.857,254.4131,404.8595,252.6709,400.56,258.46\" style=\"stroke: #383838; stroke-width: 1.0;\"/></a><!--MD5=[ce036f65110ae2351ccce5a81dc2e928]\n",
       "reverse link E2 to E6--><a href=\"psysml:f84da050-0b5f-49f5-998e-9b704fc66ebc\" target=\"_top\" title=\"psysml:f84da050-0b5f-49f5-998e-9b704fc66ebc\" xlink:actuate=\"onRequest\" xlink:href=\"psysml:f84da050-0b5f-49f5-998e-9b704fc66ebc\" xlink:show=\"new\" xlink:title=\"psysml:f84da050-0b5f-49f5-998e-9b704fc66ebc\" xlink:type=\"simple\"><path d=\"M411.85,240.78 C424.7,232.34 437.68,222.92 449,213 C480.33,185.55 475.1,165.2 509,141 C518.92,133.92 530.26,127.91 541.73,122.87 \" fill=\"none\" id=\"E2&lt;-E6\" style=\"stroke: #383838; stroke-width: 1.0;\"/><polygon fill=\"#383838\" points=\"400.64,247.93,407.8497,248.0706,410.7525,241.4696,403.5428,241.329,400.64,247.93\" style=\"stroke: #383838; stroke-width: 1.0;\"/><text fill=\"#000000\" font-family=\"sans-serif\" font-size=\"13\" lengthAdjust=\"spacingAndGlyphs\" textLength=\"7\" x=\"526.8131\" y=\"137.9757\">*</text></a><!--MD5=[3a9b96bfbf6b6ad89c494e81751bda47]\n",
       "link E5 to E7--><a href=\"psysml:5222325c-bb46-4e39-81f0-12dbae43365a\" target=\"_top\" title=\"psysml:5222325c-bb46-4e39-81f0-12dbae43365a\" xlink:actuate=\"onRequest\" xlink:href=\"psysml:5222325c-bb46-4e39-81f0-12dbae43365a\" xlink:show=\"new\" xlink:title=\"psysml:5222325c-bb46-4e39-81f0-12dbae43365a\" xlink:type=\"simple\"><path d=\"M721.15,182 C734.24,182 747.63,182 760.73,182 \" fill=\"none\" id=\"E5-&gt;E7\" style=\"stroke: #383838; stroke-width: 1.0;\"/><polygon fill=\"#FFFFFF\" points=\"780.99,182,761.99,189,761.99,175,780.99,182\" style=\"stroke: #383838; stroke-width: 1.0;\"/><ellipse cx=\"756.29\" cy=\"187\" fill=\"#383838\" rx=\"2\" ry=\"2\" style=\"stroke: #383838; stroke-width: 1.0;\"/><ellipse cx=\"756.29\" cy=\"177\" fill=\"#383838\" rx=\"2\" ry=\"2\" style=\"stroke: #383838; stroke-width: 1.0;\"/></a><!--MD5=[dc164f5e8a733ab456ef1add180e9e34]\n",
       "reverse link E7 to E8--><a href=\"psysml:62bbb331-bb03-464e-9e32-68694608bffc\" target=\"_top\" title=\"psysml:62bbb331-bb03-464e-9e32-68694608bffc\" xlink:actuate=\"onRequest\" xlink:href=\"psysml:62bbb331-bb03-464e-9e32-68694608bffc\" xlink:show=\"new\" xlink:title=\"psysml:62bbb331-bb03-464e-9e32-68694608bffc\" xlink:type=\"simple\"><path d=\"M967.3,200 C982.87,202.84 998.75,205.74 1013.65,208.45 \" fill=\"none\" id=\"E7&lt;-E8\" style=\"stroke: #383838; stroke-width: 1.0;\"/><polygon fill=\"#383838\" points=\"954.31,197.64,959.4962,202.6503,966.1158,199.7901,960.9296,194.7798,954.31,197.64\" style=\"stroke: #383838; stroke-width: 1.0;\"/><text fill=\"#000000\" font-family=\"sans-serif\" font-size=\"13\" lengthAdjust=\"spacingAndGlyphs\" textLength=\"7\" x=\"998.8882\" y=\"219.931\">*</text></a><!--MD5=[e4a10ef82d0e328e31cac39a31e58dda]\n",
       "reverse link E7 to E9--><a href=\"psysml:6940b1aa-8c0f-4381-86aa-7b3e10e8c0d6\" target=\"_top\" title=\"psysml:6940b1aa-8c0f-4381-86aa-7b3e10e8c0d6\" xlink:actuate=\"onRequest\" xlink:href=\"psysml:6940b1aa-8c0f-4381-86aa-7b3e10e8c0d6\" xlink:show=\"new\" xlink:title=\"psysml:6940b1aa-8c0f-4381-86aa-7b3e10e8c0d6\" xlink:type=\"simple\"><path d=\"M967.29,163.55 C983.61,160.5 1000.24,157.39 1015.75,154.5 \" fill=\"none\" id=\"E7&lt;-E9\" style=\"stroke: #383838; stroke-width: 1.0;\"/><polygon fill=\"#383838\" points=\"954.31,165.97,960.9419,168.8016,966.1064,163.7689,959.4745,160.9373,954.31,165.97\" style=\"stroke: #383838; stroke-width: 1.0;\"/><text fill=\"#000000\" font-family=\"sans-serif\" font-size=\"13\" lengthAdjust=\"spacingAndGlyphs\" textLength=\"7\" x=\"1000.8352\" y=\"168.7426\">*</text></a><!--MD5=[a919e0967d6f3de553dc51b9865a1d6d]\n",
       "link E10 to E7--><a href=\"psysml:2d47db94-d209-4d22-9eae-73bfc16721f5\" target=\"_top\" title=\"psysml:2d47db94-d209-4d22-9eae-73bfc16721f5\" xlink:actuate=\"onRequest\" xlink:href=\"psysml:2d47db94-d209-4d22-9eae-73bfc16721f5\" xlink:show=\"new\" xlink:title=\"psysml:2d47db94-d209-4d22-9eae-73bfc16721f5\" xlink:type=\"simple\"><path d=\"M176.21,198.02 C249.67,218.13 366.67,236.81 449,185 C501.16,152.18 456.84,92.82 509,60 C588.75,9.82 632.45,27.79 721,60 C766.61,76.59 807.89,114.45 834.73,143.63 \" fill=\"none\" id=\"E10-&gt;E7\" style=\"stroke: #383838; stroke-width: 1.0;\"/><polygon fill=\"#FFFFFF\" points=\"848.09,158.76,830.2631,149.1579,840.7538,139.8873,848.09,158.76\" style=\"stroke: #383838; stroke-width: 1.0;\"/><ellipse cx=\"827.9873\" cy=\"143.5623\" fill=\"#383838\" rx=\"2\" ry=\"2\" style=\"stroke: #383838; stroke-width: 1.0;\"/><ellipse cx=\"835.4806\" cy=\"136.9404\" fill=\"#383838\" rx=\"2\" ry=\"2\" style=\"stroke: #383838; stroke-width: 1.0;\"/></a><!--MD5=[0f36bececdf0dff6e600d6f64214b0f1]\n",
       "link E10 to E2--><a href=\"psysml:6622b004-fc37-43f3-bc42-fdfacc696359\" target=\"_top\" title=\"psysml:6622b004-fc37-43f3-bc42-fdfacc696359\" xlink:actuate=\"onRequest\" xlink:href=\"psysml:6622b004-fc37-43f3-bc42-fdfacc696359\" xlink:show=\"new\" xlink:title=\"psysml:6622b004-fc37-43f3-bc42-fdfacc696359\" xlink:type=\"simple\"><path d=\"M160.58,198.12 C193.13,212.29 235.27,230.65 270.94,246.18 \" fill=\"none\" id=\"E10-&gt;E2\" style=\"stroke: #383838; stroke-width: 1.0;\"/><polygon fill=\"#FFFFFF\" points=\"289.46,254.25,269.2451,253.0839,274.8335,240.2476,289.46,254.25\" style=\"stroke: #383838; stroke-width: 1.0;\"/><ellipse cx=\"264.8173\" cy=\"248.9749\" fill=\"#383838\" rx=\"2\" ry=\"2\" style=\"stroke: #383838; stroke-width: 1.0;\"/><ellipse cx=\"268.809\" cy=\"239.8061\" fill=\"#383838\" rx=\"2\" ry=\"2\" style=\"stroke: #383838; stroke-width: 1.0;\"/></a><!--MD5=[de308be4a2431766a05a907a031c07fc]\n",
       "reverse link E10 to E11--><a href=\"psysml:973d09ca-2c85-400b-8a26-6e03e711a9dc\" target=\"_top\" title=\"psysml:973d09ca-2c85-400b-8a26-6e03e711a9dc\" xlink:actuate=\"onRequest\" xlink:href=\"psysml:973d09ca-2c85-400b-8a26-6e03e711a9dc\" xlink:show=\"new\" xlink:title=\"psysml:973d09ca-2c85-400b-8a26-6e03e711a9dc\" xlink:type=\"simple\"><path d=\"M194.17,164.01 C218.95,160.86 245.73,157.47 269.7,154.43 \" fill=\"none\" id=\"E10&lt;-E11\" style=\"stroke: #383838; stroke-width: 1.0;\"/><polygon fill=\"#383838\" points=\"181.03,165.67,187.4838,168.887,192.9355,164.167,186.4817,160.95,181.03,165.67\" style=\"stroke: #383838; stroke-width: 1.0;\"/></a><!--MD5=[1d54f998c6d5961a1a9184be73a7eb6c]\n",
       "reverse link E10 to E12--><a href=\"psysml:4b2dc275-57bf-47aa-bec9-3fe53972a958\" target=\"_top\" title=\"psysml:4b2dc275-57bf-47aa-bec9-3fe53972a958\" xlink:actuate=\"onRequest\" xlink:href=\"psysml:4b2dc275-57bf-47aa-bec9-3fe53972a958\" xlink:show=\"new\" xlink:title=\"psysml:4b2dc275-57bf-47aa-bec9-3fe53972a958\" xlink:type=\"simple\"><path d=\"M159.31,145.61 C183.75,132.22 213.52,116.59 241,104 C253.82,98.13 267.77,92.33 281.14,87.05 \" fill=\"none\" id=\"E10&lt;-E12\" style=\"stroke: #383838; stroke-width: 1.0;\"/><polygon fill=\"#383838\" points=\"147.77,151.98,154.9559,152.5819,158.2754,146.1803,151.0895,145.5783,147.77,151.98\" style=\"stroke: #383838; stroke-width: 1.0;\"/></a><!--MD5=[4a48077df6499cfcd20b62e8f5f37904]\n",
       "link E13 to E7--><a href=\"psysml:99db2ce7-7db4-4747-aea3-ba596a45b862\" target=\"_top\" title=\"psysml:99db2ce7-7db4-4747-aea3-ba596a45b862\" xlink:actuate=\"onRequest\" xlink:href=\"psysml:99db2ce7-7db4-4747-aea3-ba596a45b862\" xlink:show=\"new\" xlink:title=\"psysml:99db2ce7-7db4-4747-aea3-ba596a45b862\" xlink:type=\"simple\"><path d=\"M690.9,401.97 C701.56,396.96 711.95,391.01 721,384 C777.66,340.08 821.98,268.26 846.17,223.15 \" fill=\"none\" id=\"E13-&gt;E7\" style=\"stroke: #383838; stroke-width: 1.0;\"/><polygon fill=\"#FFFFFF\" points=\"855.42,205.32,852.8821,225.4088,840.4555,218.9605,855.42,205.32\" style=\"stroke: #383838; stroke-width: 1.0;\"/><ellipse cx=\"848.4815\" cy=\"229.547\" fill=\"#383838\" rx=\"2\" ry=\"2\" style=\"stroke: #383838; stroke-width: 1.0;\"/><ellipse cx=\"839.6054\" cy=\"224.9411\" fill=\"#383838\" rx=\"2\" ry=\"2\" style=\"stroke: #383838; stroke-width: 1.0;\"/></a><!--MD5=[3752947672b188943e8769a5d479f9d0]\n",
       "@startuml\r\n",
       "left to right direction\r\n",
       "skinparam monochrome true\r\n",
       "skinparam classbackgroundcolor white\r\n",
       "skinparam shadowing false\r\n",
       "skinparam wrapWidth 300\r\n",
       "hide circle\r\n",
       "\r\n",
       "package \"OccurrenceTest\" as E1  [[psysml:e6ab502d-dafd-416a-a255-3fa3ad3c263c ]]  {\r\n",
       "comp def \"Occ\" as E2  <<(T,blue) occurrence def>> [[psysml:1203d309-d98c-452c-84ab-9db93e8b8d83 ]] {\r\n",
       "- - attributes - -\r\n",
       "a\r\n",
       "}\r\n",
       "comp usage \"occ1: Occ\" as E3  <<(T,blue) occurrence>> [[psysml:158a345e-3640-4aa1-8638-58b6699698f0 ]] {\r\n",
       "}\r\n",
       "comp usage \"occ2: Occ\" as E4  <<(T,blue) occurrence>> [[psysml:5ccc27c3-07b1-4713-880e-82008912fb62 ]] {\r\n",
       "}\r\n",
       "comp usage \"s: Ind\" as E5  <<(T,blue) individual snapshot occurrence>> [[psysml:b931cfcd-d1f5-4c70-b44c-3b4fd21c9018 ]] {\r\n",
       "}\r\n",
       "comp usage \"t\" as E6  <<(T,blue) timeslice occurrence>> [[psysml:a76dffb5-cb4a-4142-b15c-9dbeb6bd2474 ]] {\r\n",
       "}\r\n",
       "comp def \"Ind\" as E7  <<(T,blue) individual occurrence def>> [[psysml:cddcce1d-840d-4259-9672-1cad32ef9616 ]] {\r\n",
       "}\r\n",
       "comp usage \"s2\" as E8  <<(T,blue) snapshot occurrence>> [[psysml:760118bf-f26e-45fa-9528-0dbdf12ed33d ]] {\r\n",
       "}\r\n",
       "comp usage \"t2\" as E9  <<(T,blue) timeslice occurrence>> [[psysml:6916c4a6-d3e9-4718-9bd3-b4da3843528f ]] {\r\n",
       "}\r\n",
       "comp usage \"ind: Ind, Occ\" as E10  <<(T,blue) individual occurrence>> [[psysml:ca3e4eae-d888-4010-bdf5-da81d89d1eab ]] {\r\n",
       "}\r\n",
       "comp usage \"s3\" as E11  <<(T,blue) snapshot occurrence>> [[psysml:a7aa12fc-e204-4f0a-90f2-9ab0101a123a ]] {\r\n",
       "}\r\n",
       "comp usage \"t3\" as E12  <<(T,blue) individual timeslice occurrence>> [[psysml:5052c3e9-886b-4521-8bf3-18ad9cb470c5 ]] {\r\n",
       "}\r\n",
       "comp usage \"s4: Ind\" as E13  <<(T,blue) individual snapshot occurrence>> [[psysml:e6d8c0e1-46dd-40c0-98f9-8ea23118f8bb ]] {\r\n",
       "}\r\n",
       "}\r\n",
       "E2 o- - E3 [[psysml:816d5179-2674-4631-83bc-f7d71b4237a7 ]] \r\n",
       "E3 - -:|> E2 [[psysml:eb3070f5-b0ea-4331-ac23-68f76765f53a ]] \r\n",
       "E2 *- - E4 [[psysml:0447f336-2e88-4877-9a74-bac22478a75a ]] \r\n",
       "E4 - -:|> E2 [[psysml:bbe7f0c0-75f0-4d42-b38b-c0f55f25890a ]] \r\n",
       "E2 *- - E5 [[psysml:5c44c5f5-a434-4c27-9e5d-4b118f9f4fa1 ]] \r\n",
       "E2 *- - \"*\"E6 [[psysml:f84da050-0b5f-49f5-998e-9b704fc66ebc ]] \r\n",
       "E5 - -:|> E7 [[psysml:5222325c-bb46-4e39-81f0-12dbae43365a ]] \r\n",
       "E7 *- - \"*\"E8 [[psysml:62bbb331-bb03-464e-9e32-68694608bffc ]] \r\n",
       "E7 *- - \"*\"E9 [[psysml:6940b1aa-8c0f-4381-86aa-7b3e10e8c0d6 ]] \r\n",
       "E10 - -:|> E7 [[psysml:2d47db94-d209-4d22-9eae-73bfc16721f5 ]] \r\n",
       "E10 - -:|> E2 [[psysml:6622b004-fc37-43f3-bc42-fdfacc696359 ]] \r\n",
       "E10 *- - E11 [[psysml:973d09ca-2c85-400b-8a26-6e03e711a9dc ]] \r\n",
       "E10 *- - E12 [[psysml:4b2dc275-57bf-47aa-bec9-3fe53972a958 ]] \r\n",
       "E13 - -:|> E7 [[psysml:99db2ce7-7db4-4747-aea3-ba596a45b862 ]] \r\n",
       "@enduml\r\n",
       "\n",
       "PlantUML version 1.2020.13(Sat Jun 13 12:26:38 UTC 2020)\n",
       "(EPL source distribution)\n",
       "Java Runtime: OpenJDK Runtime Environment\n",
       "JVM: OpenJDK 64-Bit Server VM\n",
       "Default Encoding: UTF-8\n",
       "Language: en\n",
       "Country: null\n",
       "--></g></svg>"
      ]
     },
     "execution_count": 17,
     "metadata": {},
     "output_type": "execute_result"
    }
   ],
   "source": [
    "%viz --style=\"LR\" --view=\"Tree\" \"OccurrenceTest\""
   ]
  },
  {
   "cell_type": "code",
   "execution_count": 18,
   "id": "f3b841e5",
   "metadata": {
    "execution": {
     "iopub.execute_input": "2021-10-03T08:28:43.572855Z",
     "iopub.status.busy": "2021-10-03T08:28:43.572444Z",
     "iopub.status.idle": "2021-10-03T08:28:43.579353Z",
     "shell.execute_reply": "2021-10-03T08:28:43.579668Z"
    }
   },
   "outputs": [
    {
     "data": {
      "image/svg+xml": [
       "<?xml version=\"1.0\" encoding=\"UTF-8\" standalone=\"no\"?><svg xmlns=\"http://www.w3.org/2000/svg\" xmlns:xlink=\"http://www.w3.org/1999/xlink\" contentScriptType=\"application/ecmascript\" contentStyleType=\"text/css\" height=\"12px\" preserveAspectRatio=\"none\" style=\"width:12px;height:12px;\" version=\"1.1\" viewBox=\"0 0 12 12\" width=\"12px\" zoomAndPan=\"magnify\"><defs/><g><!--MD5=[19d285c9d72a204eba4e2cd117d745e8]\n",
       "@startuml\r\n",
       "left to right direction\r\n",
       "skinparam monochrome true\r\n",
       "skinparam classbackgroundcolor white\r\n",
       "skinparam shadowing false\r\n",
       "skinparam wrapWidth 300\r\n",
       "hide circle\r\n",
       "\r\n",
       "@enduml\r\n",
       "\n",
       "PlantUML version 1.2020.13(Sat Jun 13 12:26:38 UTC 2020)\n",
       "(EPL source distribution)\n",
       "Java Runtime: OpenJDK Runtime Environment\n",
       "JVM: OpenJDK 64-Bit Server VM\n",
       "Default Encoding: UTF-8\n",
       "Language: en\n",
       "Country: null\n",
       "--></g></svg>"
      ]
     },
     "execution_count": 18,
     "metadata": {},
     "output_type": "execute_result"
    }
   ],
   "source": [
    "%viz --style=\"LR\" --view=\"State\" \"OccurrenceTest\""
   ]
  },
  {
   "cell_type": "code",
   "execution_count": 19,
   "id": "42f158a1",
   "metadata": {
    "execution": {
     "iopub.execute_input": "2021-10-03T08:28:43.629354Z",
     "iopub.status.busy": "2021-10-03T08:28:43.628950Z",
     "iopub.status.idle": "2021-10-03T08:28:43.664716Z",
     "shell.execute_reply": "2021-10-03T08:28:43.664362Z"
    }
   },
   "outputs": [
    {
     "data": {
      "image/svg+xml": [
       "<?xml version=\"1.0\" encoding=\"UTF-8\" standalone=\"no\"?><svg xmlns=\"http://www.w3.org/2000/svg\" xmlns:xlink=\"http://www.w3.org/1999/xlink\" contentScriptType=\"application/ecmascript\" contentStyleType=\"text/css\" height=\"484px\" preserveAspectRatio=\"none\" style=\"width:331px;height:484px;\" version=\"1.1\" viewBox=\"0 0 331 484\" width=\"331px\" zoomAndPan=\"magnify\"><defs/><g><!--MD5=[fbc87193dbaf4d95561dea2c320d4a47]\n",
       "cluster E1--><a href=\"psysml:e6ab502d-dafd-416a-a255-3fa3ad3c263c\" target=\"_top\" title=\"psysml:e6ab502d-dafd-416a-a255-3fa3ad3c263c\" xlink:actuate=\"onRequest\" xlink:href=\"psysml:e6ab502d-dafd-416a-a255-3fa3ad3c263c\" xlink:show=\"new\" xlink:title=\"psysml:e6ab502d-dafd-416a-a255-3fa3ad3c263c\" xlink:type=\"simple\"><polygon fill=\"#FFFFFF\" points=\"16,6,134,6,141,28.2969,309,28.2969,309,472,16,472,16,6\" style=\"stroke: #000000; stroke-width: 1.5;\"/><line style=\"stroke: #000000; stroke-width: 1.5;\" x1=\"16\" x2=\"141\" y1=\"28.2969\" y2=\"28.2969\"/><text fill=\"#000000\" font-family=\"sans-serif\" font-size=\"14\" font-weight=\"bold\" lengthAdjust=\"spacingAndGlyphs\" textLength=\"112\" x=\"20\" y=\"20.9951\">OccurrenceTest</text></a><!--MD5=[f6df4d0ebaf0b5dfb2ced0ae5af7c670]\n",
       "cluster E4--><a href=\"psysml:ca3e4eae-d888-4010-bdf5-da81d89d1eab\" target=\"_top\" title=\"psysml:ca3e4eae-d888-4010-bdf5-da81d89d1eab\" xlink:actuate=\"onRequest\" xlink:href=\"psysml:ca3e4eae-d888-4010-bdf5-da81d89d1eab\" xlink:show=\"new\" xlink:title=\"psysml:ca3e4eae-d888-4010-bdf5-da81d89d1eab\" xlink:type=\"simple\"><rect fill=\"#FFFFFF\" height=\"189\" id=\"E4\" rx=\"10\" ry=\"10\" style=\"stroke: #383838; stroke-width: 1.5;\" width=\"245\" x=\"40\" y=\"49\"/><rect fill=\"#F8F8F8\" height=\"37.9375\" rx=\"10\" ry=\"10\" style=\"stroke: #F8F8F8; stroke-width: 1.5;\" width=\"245\" x=\"40\" y=\"49\"/><rect fill=\"#F8F8F8\" height=\"10\" style=\"stroke: #F8F8F8; stroke-width: 1.5;\" width=\"245\" x=\"40\" y=\"76.9375\"/><rect fill=\"none\" height=\"189\" id=\"E4\" rx=\"10\" ry=\"10\" style=\"stroke: #383838; stroke-width: 1.5;\" width=\"245\" x=\"40\" y=\"49\"/><text fill=\"#000000\" font-family=\"sans-serif\" font-size=\"12\" font-style=\"italic\" lengthAdjust=\"spacingAndGlyphs\" textLength=\"147\" x=\"89\" y=\"65.1387\">«individual occurrence»</text><text fill=\"#000000\" font-family=\"sans-serif\" font-size=\"12\" lengthAdjust=\"spacingAndGlyphs\" textLength=\"77\" x=\"124\" y=\"79.1074\">ind: Ind, Occ</text><line style=\"stroke: #383838; stroke-width: 1.0;\" x1=\"40\" x2=\"285\" y1=\"86.9375\" y2=\"86.9375\"/></a><g id=\"E1.E2\"><a href=\"psysml:1203d309-d98c-452c-84ab-9db93e8b8d83\" target=\"_top\" title=\"psysml:1203d309-d98c-452c-84ab-9db93e8b8d83\" xlink:actuate=\"onRequest\" xlink:href=\"psysml:1203d309-d98c-452c-84ab-9db93e8b8d83\" xlink:show=\"new\" xlink:title=\"psysml:1203d309-d98c-452c-84ab-9db93e8b8d83\" xlink:type=\"simple\"><rect fill=\"#FFFFFF\" height=\"42.9375\" id=\"E2\" style=\"stroke: #383838; stroke-width: 1.5;\" width=\"116\" x=\"104.5\" y=\"256.5\"/><rect fill=\"#F8F8F8\" height=\"37.9375\" style=\"stroke: #383838; stroke-width: 1.5;\" width=\"116\" x=\"104.5\" y=\"256.5\"/><text fill=\"#000000\" font-family=\"sans-serif\" font-size=\"12\" font-style=\"italic\" lengthAdjust=\"spacingAndGlyphs\" textLength=\"109\" x=\"108\" y=\"272.6387\">«occurrence def»</text><text fill=\"#000000\" font-family=\"sans-serif\" font-size=\"12\" lengthAdjust=\"spacingAndGlyphs\" textLength=\"23\" x=\"151\" y=\"286.6074\">Occ</text></a></g><g id=\"E1.E3\"><a href=\"psysml:cddcce1d-840d-4259-9672-1cad32ef9616\" target=\"_top\" title=\"psysml:cddcce1d-840d-4259-9672-1cad32ef9616\" xlink:actuate=\"onRequest\" xlink:href=\"psysml:cddcce1d-840d-4259-9672-1cad32ef9616\" xlink:show=\"new\" xlink:title=\"psysml:cddcce1d-840d-4259-9672-1cad32ef9616\" xlink:type=\"simple\"><rect fill=\"#FFFFFF\" height=\"42.9375\" id=\"E3\" style=\"stroke: #383838; stroke-width: 1.5;\" width=\"178\" x=\"73.5\" y=\"334.5\"/><rect fill=\"#F8F8F8\" height=\"37.9375\" style=\"stroke: #383838; stroke-width: 1.5;\" width=\"178\" x=\"73.5\" y=\"334.5\"/><text fill=\"#000000\" font-family=\"sans-serif\" font-size=\"12\" font-style=\"italic\" lengthAdjust=\"spacingAndGlyphs\" textLength=\"171\" x=\"77\" y=\"350.6387\">«individual occurrence def»</text><text fill=\"#000000\" font-family=\"sans-serif\" font-size=\"12\" lengthAdjust=\"spacingAndGlyphs\" textLength=\"19\" x=\"153\" y=\"364.6074\">Ind</text></a></g><g id=\"E1.E4.E5\"><a href=\"psysml:a7aa12fc-e204-4f0a-90f2-9ab0101a123a\" target=\"_top\" title=\"psysml:a7aa12fc-e204-4f0a-90f2-9ab0101a123a\" xlink:actuate=\"onRequest\" xlink:href=\"psysml:a7aa12fc-e204-4f0a-90f2-9ab0101a123a\" xlink:show=\"new\" xlink:title=\"psysml:a7aa12fc-e204-4f0a-90f2-9ab0101a123a\" xlink:type=\"simple\"><rect fill=\"#FFFFFF\" height=\"42.9375\" id=\"E5\" rx=\"10\" ry=\"10\" style=\"stroke: #383838; stroke-width: 1.5;\" width=\"155\" x=\"85\" y=\"100.5\"/><rect fill=\"#F8F8F8\" height=\"37.9375\" rx=\"10\" ry=\"10\" style=\"stroke: #F8F8F8; stroke-width: 1.5;\" width=\"155\" x=\"85\" y=\"100.5\"/><rect fill=\"#F8F8F8\" height=\"10\" style=\"stroke: #F8F8F8; stroke-width: 1.5;\" width=\"155\" x=\"85\" y=\"128.4375\"/><rect fill=\"none\" height=\"42.9375\" id=\"E5\" rx=\"10\" ry=\"10\" style=\"stroke: #383838; stroke-width: 1.5;\" width=\"155\" x=\"85\" y=\"100.5\"/><text fill=\"#000000\" font-family=\"sans-serif\" font-size=\"12\" font-style=\"italic\" lengthAdjust=\"spacingAndGlyphs\" textLength=\"148\" x=\"88.5\" y=\"116.6387\">«snapshot occurrence»</text><text fill=\"#000000\" font-family=\"sans-serif\" font-size=\"12\" lengthAdjust=\"spacingAndGlyphs\" textLength=\"15\" x=\"155\" y=\"130.6074\">s3</text></a></g><g id=\"E1.E4.E6\"><a href=\"psysml:5052c3e9-886b-4521-8bf3-18ad9cb470c5\" target=\"_top\" title=\"psysml:5052c3e9-886b-4521-8bf3-18ad9cb470c5\" xlink:actuate=\"onRequest\" xlink:href=\"psysml:5052c3e9-886b-4521-8bf3-18ad9cb470c5\" xlink:show=\"new\" xlink:title=\"psysml:5052c3e9-886b-4521-8bf3-18ad9cb470c5\" xlink:type=\"simple\"><rect fill=\"#FFFFFF\" height=\"42.9375\" id=\"E6\" rx=\"10\" ry=\"10\" style=\"stroke: #383838; stroke-width: 1.5;\" width=\"213\" x=\"56\" y=\"178.5\"/><rect fill=\"#F8F8F8\" height=\"37.9375\" rx=\"10\" ry=\"10\" style=\"stroke: #F8F8F8; stroke-width: 1.5;\" width=\"213\" x=\"56\" y=\"178.5\"/><rect fill=\"#F8F8F8\" height=\"10\" style=\"stroke: #F8F8F8; stroke-width: 1.5;\" width=\"213\" x=\"56\" y=\"206.4375\"/><rect fill=\"none\" height=\"42.9375\" id=\"E6\" rx=\"10\" ry=\"10\" style=\"stroke: #383838; stroke-width: 1.5;\" width=\"213\" x=\"56\" y=\"178.5\"/><text fill=\"#000000\" font-family=\"sans-serif\" font-size=\"12\" font-style=\"italic\" lengthAdjust=\"spacingAndGlyphs\" textLength=\"206\" x=\"59.5\" y=\"194.6387\">«individual timeslice occurrence»</text><text fill=\"#000000\" font-family=\"sans-serif\" font-size=\"12\" lengthAdjust=\"spacingAndGlyphs\" textLength=\"13\" x=\"156\" y=\"208.6074\">t3</text></a></g><g id=\"E1.E7\"><a href=\"psysml:e6d8c0e1-46dd-40c0-98f9-8ea23118f8bb\" target=\"_top\" title=\"psysml:e6d8c0e1-46dd-40c0-98f9-8ea23118f8bb\" xlink:actuate=\"onRequest\" xlink:href=\"psysml:e6d8c0e1-46dd-40c0-98f9-8ea23118f8bb\" xlink:show=\"new\" xlink:title=\"psysml:e6d8c0e1-46dd-40c0-98f9-8ea23118f8bb\" xlink:type=\"simple\"><rect fill=\"#FFFFFF\" height=\"42.9375\" id=\"E7\" rx=\"10\" ry=\"10\" style=\"stroke: #383838; stroke-width: 1.5;\" width=\"217\" x=\"54\" y=\"412.5\"/><rect fill=\"#F8F8F8\" height=\"37.9375\" rx=\"10\" ry=\"10\" style=\"stroke: #F8F8F8; stroke-width: 1.5;\" width=\"217\" x=\"54\" y=\"412.5\"/><rect fill=\"#F8F8F8\" height=\"10\" style=\"stroke: #F8F8F8; stroke-width: 1.5;\" width=\"217\" x=\"54\" y=\"440.4375\"/><rect fill=\"none\" height=\"42.9375\" id=\"E7\" rx=\"10\" ry=\"10\" style=\"stroke: #383838; stroke-width: 1.5;\" width=\"217\" x=\"54\" y=\"412.5\"/><text fill=\"#000000\" font-family=\"sans-serif\" font-size=\"12\" font-style=\"italic\" lengthAdjust=\"spacingAndGlyphs\" textLength=\"210\" x=\"57.5\" y=\"428.6387\">«individual snapshot occurrence»</text><text fill=\"#000000\" font-family=\"sans-serif\" font-size=\"12\" lengthAdjust=\"spacingAndGlyphs\" textLength=\"42\" x=\"141.5\" y=\"442.6074\">s4: Ind</text></a></g><!--MD5=[6fea1d343fc3d7cfde6c851b8c2499ca]\n",
       "@startuml\r\n",
       "skinparam ranksep 10\r\n",
       "skinparam rectangle {\r\n",
       " backgroundColor<<block>> LightGreen\r\n",
       "}\r\n",
       "left to right direction\r\n",
       "skinparam monochrome true\r\n",
       "skinparam classbackgroundcolor white\r\n",
       "skinparam shadowing false\r\n",
       "skinparam wrapWidth 300\r\n",
       "hide circle\r\n",
       "\r\n",
       "package \"OccurrenceTest\" as E1  [[psysml:e6ab502d-dafd-416a-a255-3fa3ad3c263c ]]  {\r\n",
       "def \"Occ\" as E2  <<(T,blue) occurrence def>> [[psysml:1203d309-d98c-452c-84ab-9db93e8b8d83 ]] \r\n",
       "def \"Ind\" as E3  <<(T,blue) individual occurrence def>> [[psysml:cddcce1d-840d-4259-9672-1cad32ef9616 ]] \r\n",
       "rec usage \"ind: Ind, Occ\" as E4  <<(T,blue) individual occurrence>> [[psysml:ca3e4eae-d888-4010-bdf5-da81d89d1eab ]] {\r\n",
       "rec usage \"s3\" as E5  <<(T,blue) snapshot occurrence>> [[psysml:a7aa12fc-e204-4f0a-90f2-9ab0101a123a ]] {\r\n",
       "}\r\n",
       "rec usage \"t3\" as E6  <<(T,blue) individual timeslice occurrence>> [[psysml:5052c3e9-886b-4521-8bf3-18ad9cb470c5 ]] {\r\n",
       "}\r\n",
       "}\r\n",
       "rec usage \"s4: Ind\" as E7  <<(T,blue) individual snapshot occurrence>> [[psysml:e6d8c0e1-46dd-40c0-98f9-8ea23118f8bb ]] {\r\n",
       "}\r\n",
       "}\r\n",
       "@enduml\r\n",
       "\n",
       "PlantUML version 1.2020.13(Sat Jun 13 12:26:38 UTC 2020)\n",
       "(EPL source distribution)\n",
       "Java Runtime: OpenJDK Runtime Environment\n",
       "JVM: OpenJDK 64-Bit Server VM\n",
       "Default Encoding: UTF-8\n",
       "Language: en\n",
       "Country: null\n",
       "--></g></svg>"
      ]
     },
     "execution_count": 19,
     "metadata": {},
     "output_type": "execute_result"
    }
   ],
   "source": [
    "%viz --style=\"LR\" --view=\"Interconnection\" \"OccurrenceTest\""
   ]
  },
  {
   "cell_type": "code",
   "execution_count": 20,
   "id": "0b087aea",
   "metadata": {
    "execution": {
     "iopub.execute_input": "2021-10-03T08:28:43.714095Z",
     "iopub.status.busy": "2021-10-03T08:28:43.713685Z",
     "iopub.status.idle": "2021-10-03T08:28:43.718420Z",
     "shell.execute_reply": "2021-10-03T08:28:43.718084Z"
    }
   },
   "outputs": [
    {
     "data": {
      "image/svg+xml": [
       "<?xml version=\"1.0\" encoding=\"UTF-8\" standalone=\"no\"?><svg xmlns=\"http://www.w3.org/2000/svg\" xmlns:xlink=\"http://www.w3.org/1999/xlink\" contentScriptType=\"application/ecmascript\" contentStyleType=\"text/css\" height=\"12px\" preserveAspectRatio=\"none\" style=\"width:12px;height:12px;\" version=\"1.1\" viewBox=\"0 0 12 12\" width=\"12px\" zoomAndPan=\"magnify\"><defs/><g><!--MD5=[7aeb398939421629f6affaa4a1a7b125]\n",
       "@startuml\r\n",
       "skinparam ranksep 8\r\n",
       "left to right direction\r\n",
       "skinparam monochrome true\r\n",
       "skinparam classbackgroundcolor white\r\n",
       "skinparam shadowing false\r\n",
       "skinparam wrapWidth 300\r\n",
       "hide circle\r\n",
       "\r\n",
       "@enduml\r\n",
       "\n",
       "PlantUML version 1.2020.13(Sat Jun 13 12:26:38 UTC 2020)\n",
       "(EPL source distribution)\n",
       "Java Runtime: OpenJDK Runtime Environment\n",
       "JVM: OpenJDK 64-Bit Server VM\n",
       "Default Encoding: UTF-8\n",
       "Language: en\n",
       "Country: null\n",
       "--></g></svg>"
      ]
     },
     "execution_count": 20,
     "metadata": {},
     "output_type": "execute_result"
    }
   ],
   "source": [
    "%viz --style=\"LR\" --view=\"Action\" \"OccurrenceTest\""
   ]
  },
  {
   "cell_type": "code",
   "execution_count": 21,
   "id": "00397a86",
   "metadata": {
    "execution": {
     "iopub.execute_input": "2021-10-03T08:28:43.767772Z",
     "iopub.status.busy": "2021-10-03T08:28:43.767373Z",
     "iopub.status.idle": "2021-10-03T08:28:43.772189Z",
     "shell.execute_reply": "2021-10-03T08:28:43.771857Z"
    }
   },
   "outputs": [
    {
     "data": {
      "image/svg+xml": [
       "<?xml version=\"1.0\" encoding=\"UTF-8\" standalone=\"no\"?><svg xmlns=\"http://www.w3.org/2000/svg\" xmlns:xlink=\"http://www.w3.org/1999/xlink\" contentScriptType=\"application/ecmascript\" contentStyleType=\"text/css\" height=\"12px\" preserveAspectRatio=\"none\" style=\"width:12px;height:12px;\" version=\"1.1\" viewBox=\"0 0 12 12\" width=\"12px\" zoomAndPan=\"magnify\"><defs/><g><!--MD5=[238c11ea2002f03115ad6b49a457d50e]\n",
       "@startuml\r\n",
       "skinparam roundcorner 20\r\n",
       "skinparam BoxPadding 20\r\n",
       "skinparam SequenceBoxBackgroundColor #white\r\n",
       "skinparam style strictuml\r\n",
       "skinparam maxMessageSize 100\r\n",
       "left to right direction\r\n",
       "skinparam monochrome true\r\n",
       "skinparam classbackgroundcolor white\r\n",
       "skinparam shadowing false\r\n",
       "skinparam wrapWidth 300\r\n",
       "hide circle\r\n",
       "\r\n",
       "@enduml\r\n",
       "\n",
       "PlantUML version 1.2020.13(Sat Jun 13 12:26:38 UTC 2020)\n",
       "(EPL source distribution)\n",
       "Java Runtime: OpenJDK Runtime Environment\n",
       "JVM: OpenJDK 64-Bit Server VM\n",
       "Default Encoding: UTF-8\n",
       "Language: en\n",
       "Country: null\n",
       "--></g></svg>"
      ]
     },
     "execution_count": 21,
     "metadata": {},
     "output_type": "execute_result"
    }
   ],
   "source": [
    "%viz --style=\"LR\" --view=\"Sequence\" \"OccurrenceTest\""
   ]
  },
  {
   "cell_type": "code",
   "execution_count": 22,
   "id": "5abe7436",
   "metadata": {
    "execution": {
     "iopub.execute_input": "2021-10-03T08:28:43.821708Z",
     "iopub.status.busy": "2021-10-03T08:28:43.821305Z",
     "iopub.status.idle": "2021-10-03T08:28:43.881009Z",
     "shell.execute_reply": "2021-10-03T08:28:43.880654Z"
    }
   },
   "outputs": [
    {
     "data": {
      "image/svg+xml": [
       "<?xml version=\"1.0\" encoding=\"UTF-8\" standalone=\"no\"?><svg xmlns=\"http://www.w3.org/2000/svg\" xmlns:xlink=\"http://www.w3.org/1999/xlink\" contentScriptType=\"application/ecmascript\" contentStyleType=\"text/css\" height=\"476px\" preserveAspectRatio=\"none\" style=\"width:1202px;height:476px;\" version=\"1.1\" viewBox=\"0 0 1202 476\" width=\"1202px\" zoomAndPan=\"magnify\"><defs/><g><!--MD5=[fbc87193dbaf4d95561dea2c320d4a47]\n",
       "cluster E1--><a href=\"psysml:e6ab502d-dafd-416a-a255-3fa3ad3c263c\" target=\"_top\" title=\"psysml:e6ab502d-dafd-416a-a255-3fa3ad3c263c\" xlink:actuate=\"onRequest\" xlink:href=\"psysml:e6ab502d-dafd-416a-a255-3fa3ad3c263c\" xlink:show=\"new\" xlink:title=\"psysml:e6ab502d-dafd-416a-a255-3fa3ad3c263c\" xlink:type=\"simple\"><polygon fill=\"#FFFFFF\" points=\"16,6,134,6,141,28.2969,1180,28.2969,1180,464,16,464,16,6\" style=\"stroke: #000000; stroke-width: 1.5;\"/><line style=\"stroke: #000000; stroke-width: 1.5;\" x1=\"16\" x2=\"141\" y1=\"28.2969\" y2=\"28.2969\"/><text fill=\"#000000\" font-family=\"sans-serif\" font-size=\"14\" font-weight=\"bold\" lengthAdjust=\"spacingAndGlyphs\" textLength=\"112\" x=\"20\" y=\"20.9951\">OccurrenceTest</text></a><!--MD5=[b4997ac47864f28c2f74865a473b2911]\n",
       "class E2--><a href=\"psysml:1203d309-d98c-452c-84ab-9db93e8b8d83\" target=\"_top\" title=\"psysml:1203d309-d98c-452c-84ab-9db93e8b8d83\" xlink:actuate=\"onRequest\" xlink:href=\"psysml:1203d309-d98c-452c-84ab-9db93e8b8d83\" xlink:show=\"new\" xlink:title=\"psysml:1203d309-d98c-452c-84ab-9db93e8b8d83\" xlink:type=\"simple\"><rect fill=\"#FFFFFF\" height=\"75.5469\" id=\"E2\" style=\"stroke: #383838; stroke-width: 1.5;\" width=\"111\" x=\"289.5\" y=\"240\"/><text fill=\"#000000\" font-family=\"sans-serif\" font-size=\"12\" font-style=\"italic\" lengthAdjust=\"spacingAndGlyphs\" textLength=\"109\" x=\"290.5\" y=\"256.1387\">«occurrence def»</text><text fill=\"#000000\" font-family=\"sans-serif\" font-size=\"12\" lengthAdjust=\"spacingAndGlyphs\" textLength=\"23\" x=\"333.5\" y=\"270.1074\">Occ</text><line style=\"stroke: #383838; stroke-width: 1.5;\" x1=\"290.5\" x2=\"399.5\" y1=\"277.9375\" y2=\"277.9375\"/><text fill=\"#000000\" font-family=\"sans-serif\" font-size=\"11\" lengthAdjust=\"spacingAndGlyphs\" textLength=\"7\" x=\"295.5\" y=\"308.9526\">a</text><line style=\"stroke: #383838; stroke-width: 1.0;\" x1=\"290.5\" x2=\"317.5\" y1=\"292.3398\" y2=\"292.3398\"/><text fill=\"#000000\" font-family=\"sans-serif\" font-size=\"11\" lengthAdjust=\"spacingAndGlyphs\" textLength=\"55\" x=\"317.5\" y=\"295.6479\">attributes</text><line style=\"stroke: #383838; stroke-width: 1.0;\" x1=\"372.5\" x2=\"399.5\" y1=\"292.3398\" y2=\"292.3398\"/></a><!--MD5=[09b614a08d8cba4a07c9adeb5e0fee81]\n",
       "class E3--><a href=\"psysml:158a345e-3640-4aa1-8638-58b6699698f0\" target=\"_top\" title=\"psysml:158a345e-3640-4aa1-8638-58b6699698f0\" xlink:actuate=\"onRequest\" xlink:href=\"psysml:158a345e-3640-4aa1-8638-58b6699698f0\" xlink:show=\"new\" xlink:title=\"psysml:158a345e-3640-4aa1-8638-58b6699698f0\" xlink:type=\"simple\"><rect fill=\"#FFFFFF\" height=\"45.9375\" id=\"E3\" rx=\"10\" ry=\"10\" style=\"stroke: #383838; stroke-width: 1.5;\" width=\"87\" x=\"571.5\" y=\"321\"/><text fill=\"#000000\" font-family=\"sans-serif\" font-size=\"12\" font-style=\"italic\" lengthAdjust=\"spacingAndGlyphs\" textLength=\"85\" x=\"572.5\" y=\"337.1387\">«occurrence»</text><text fill=\"#000000\" font-family=\"sans-serif\" font-size=\"12\" lengthAdjust=\"spacingAndGlyphs\" textLength=\"61\" x=\"584.5\" y=\"351.1074\">occ1: Occ</text><line style=\"stroke: #383838; stroke-width: 1.5;\" x1=\"572.5\" x2=\"657.5\" y1=\"358.9375\" y2=\"358.9375\"/></a><!--MD5=[ebbe1d658d1005bcc118a6aa81145e00]\n",
       "class E4--><a href=\"psysml:5ccc27c3-07b1-4713-880e-82008912fb62\" target=\"_top\" title=\"psysml:5ccc27c3-07b1-4713-880e-82008912fb62\" xlink:actuate=\"onRequest\" xlink:href=\"psysml:5ccc27c3-07b1-4713-880e-82008912fb62\" xlink:show=\"new\" xlink:title=\"psysml:5ccc27c3-07b1-4713-880e-82008912fb62\" xlink:type=\"simple\"><rect fill=\"#FFFFFF\" height=\"45.9375\" id=\"E4\" rx=\"10\" ry=\"10\" style=\"stroke: #383838; stroke-width: 1.5;\" width=\"87\" x=\"571.5\" y=\"240\"/><text fill=\"#000000\" font-family=\"sans-serif\" font-size=\"12\" font-style=\"italic\" lengthAdjust=\"spacingAndGlyphs\" textLength=\"85\" x=\"572.5\" y=\"256.1387\">«occurrence»</text><text fill=\"#000000\" font-family=\"sans-serif\" font-size=\"12\" lengthAdjust=\"spacingAndGlyphs\" textLength=\"61\" x=\"584.5\" y=\"270.1074\">occ2: Occ</text><line style=\"stroke: #383838; stroke-width: 1.5;\" x1=\"572.5\" x2=\"657.5\" y1=\"277.9375\" y2=\"277.9375\"/></a><!--MD5=[270fce915f116d4de14055a7c1d9a0f3]\n",
       "class E5--><a href=\"psysml:b931cfcd-d1f5-4c70-b44c-3b4fd21c9018\" target=\"_top\" title=\"psysml:b931cfcd-d1f5-4c70-b44c-3b4fd21c9018\" xlink:actuate=\"onRequest\" xlink:href=\"psysml:b931cfcd-d1f5-4c70-b44c-3b4fd21c9018\" xlink:show=\"new\" xlink:title=\"psysml:b931cfcd-d1f5-4c70-b44c-3b4fd21c9018\" xlink:type=\"simple\"><rect fill=\"#FFFFFF\" height=\"45.9375\" id=\"E5\" rx=\"10\" ry=\"10\" style=\"stroke: #383838; stroke-width: 1.5;\" width=\"212\" x=\"509\" y=\"159\"/><text fill=\"#000000\" font-family=\"sans-serif\" font-size=\"12\" font-style=\"italic\" lengthAdjust=\"spacingAndGlyphs\" textLength=\"210\" x=\"510\" y=\"175.1387\">«individual snapshot occurrence»</text><text fill=\"#000000\" font-family=\"sans-serif\" font-size=\"12\" lengthAdjust=\"spacingAndGlyphs\" textLength=\"34\" x=\"598\" y=\"189.1074\">s: Ind</text><line style=\"stroke: #383838; stroke-width: 1.5;\" x1=\"510\" x2=\"720\" y1=\"196.9375\" y2=\"196.9375\"/></a><!--MD5=[60a26617385b1d2d0262a64233df1f8d]\n",
       "class E6--><a href=\"psysml:a76dffb5-cb4a-4142-b15c-9dbeb6bd2474\" target=\"_top\" title=\"psysml:a76dffb5-cb4a-4142-b15c-9dbeb6bd2474\" xlink:actuate=\"onRequest\" xlink:href=\"psysml:a76dffb5-cb4a-4142-b15c-9dbeb6bd2474\" xlink:show=\"new\" xlink:title=\"psysml:a76dffb5-cb4a-4142-b15c-9dbeb6bd2474\" xlink:type=\"simple\"><rect fill=\"#FFFFFF\" height=\"45.9375\" id=\"E6\" rx=\"10\" ry=\"10\" style=\"stroke: #383838; stroke-width: 1.5;\" width=\"146\" x=\"542\" y=\"78\"/><text fill=\"#000000\" font-family=\"sans-serif\" font-size=\"12\" font-style=\"italic\" lengthAdjust=\"spacingAndGlyphs\" textLength=\"144\" x=\"543\" y=\"94.1387\">«timeslice occurrence»</text><text fill=\"#000000\" font-family=\"sans-serif\" font-size=\"12\" lengthAdjust=\"spacingAndGlyphs\" textLength=\"5\" x=\"612.5\" y=\"108.1074\">t</text><line style=\"stroke: #383838; stroke-width: 1.5;\" x1=\"543\" x2=\"687\" y1=\"115.9375\" y2=\"115.9375\"/></a><!--MD5=[2156ba9850f5573cc1fc38a6a4b2f02b]\n",
       "class E7--><a href=\"psysml:cddcce1d-840d-4259-9672-1cad32ef9616\" target=\"_top\" title=\"psysml:cddcce1d-840d-4259-9672-1cad32ef9616\" xlink:actuate=\"onRequest\" xlink:href=\"psysml:cddcce1d-840d-4259-9672-1cad32ef9616\" xlink:show=\"new\" xlink:title=\"psysml:cddcce1d-840d-4259-9672-1cad32ef9616\" xlink:type=\"simple\"><rect fill=\"#FFFFFF\" height=\"45.9375\" id=\"E7\" style=\"stroke: #383838; stroke-width: 1.5;\" width=\"173\" x=\"781\" y=\"159\"/><text fill=\"#000000\" font-family=\"sans-serif\" font-size=\"12\" font-style=\"italic\" lengthAdjust=\"spacingAndGlyphs\" textLength=\"171\" x=\"782\" y=\"175.1387\">«individual occurrence def»</text><text fill=\"#000000\" font-family=\"sans-serif\" font-size=\"12\" lengthAdjust=\"spacingAndGlyphs\" textLength=\"19\" x=\"858\" y=\"189.1074\">Ind</text><line style=\"stroke: #383838; stroke-width: 1.5;\" x1=\"782\" x2=\"953\" y1=\"196.9375\" y2=\"196.9375\"/></a><!--MD5=[b9389687b975829384b498ac4b7476b2]\n",
       "class E8--><a href=\"psysml:760118bf-f26e-45fa-9528-0dbdf12ed33d\" target=\"_top\" title=\"psysml:760118bf-f26e-45fa-9528-0dbdf12ed33d\" xlink:actuate=\"onRequest\" xlink:href=\"psysml:760118bf-f26e-45fa-9528-0dbdf12ed33d\" xlink:show=\"new\" xlink:title=\"psysml:760118bf-f26e-45fa-9528-0dbdf12ed33d\" xlink:type=\"simple\"><rect fill=\"#FFFFFF\" height=\"45.9375\" id=\"E8\" rx=\"10\" ry=\"10\" style=\"stroke: #383838; stroke-width: 1.5;\" width=\"150\" x=\"1014\" y=\"199\"/><text fill=\"#000000\" font-family=\"sans-serif\" font-size=\"12\" font-style=\"italic\" lengthAdjust=\"spacingAndGlyphs\" textLength=\"148\" x=\"1015\" y=\"215.1387\">«snapshot occurrence»</text><text fill=\"#000000\" font-family=\"sans-serif\" font-size=\"12\" lengthAdjust=\"spacingAndGlyphs\" textLength=\"15\" x=\"1081.5\" y=\"229.1074\">s2</text><line style=\"stroke: #383838; stroke-width: 1.5;\" x1=\"1015\" x2=\"1163\" y1=\"236.9375\" y2=\"236.9375\"/></a><!--MD5=[fd4143e9d270a159db93a4ea2a975926]\n",
       "class E9--><a href=\"psysml:6916c4a6-d3e9-4718-9bd3-b4da3843528f\" target=\"_top\" title=\"psysml:6916c4a6-d3e9-4718-9bd3-b4da3843528f\" xlink:actuate=\"onRequest\" xlink:href=\"psysml:6916c4a6-d3e9-4718-9bd3-b4da3843528f\" xlink:show=\"new\" xlink:title=\"psysml:6916c4a6-d3e9-4718-9bd3-b4da3843528f\" xlink:type=\"simple\"><rect fill=\"#FFFFFF\" height=\"45.9375\" id=\"E9\" rx=\"10\" ry=\"10\" style=\"stroke: #383838; stroke-width: 1.5;\" width=\"146\" x=\"1016\" y=\"118\"/><text fill=\"#000000\" font-family=\"sans-serif\" font-size=\"12\" font-style=\"italic\" lengthAdjust=\"spacingAndGlyphs\" textLength=\"144\" x=\"1017\" y=\"134.1387\">«timeslice occurrence»</text><text fill=\"#000000\" font-family=\"sans-serif\" font-size=\"12\" lengthAdjust=\"spacingAndGlyphs\" textLength=\"13\" x=\"1082.5\" y=\"148.1074\">t2</text><line style=\"stroke: #383838; stroke-width: 1.5;\" x1=\"1017\" x2=\"1161\" y1=\"155.9375\" y2=\"155.9375\"/></a><!--MD5=[96f4274e9e20536e775497830990834d]\n",
       "class E10--><a href=\"psysml:ca3e4eae-d888-4010-bdf5-da81d89d1eab\" target=\"_top\" title=\"psysml:ca3e4eae-d888-4010-bdf5-da81d89d1eab\" xlink:actuate=\"onRequest\" xlink:href=\"psysml:ca3e4eae-d888-4010-bdf5-da81d89d1eab\" xlink:show=\"new\" xlink:title=\"psysml:ca3e4eae-d888-4010-bdf5-da81d89d1eab\" xlink:type=\"simple\"><rect fill=\"#FFFFFF\" height=\"45.9375\" id=\"E10\" rx=\"10\" ry=\"10\" style=\"stroke: #383838; stroke-width: 1.5;\" width=\"149\" x=\"32\" y=\"152\"/><text fill=\"#000000\" font-family=\"sans-serif\" font-size=\"12\" font-style=\"italic\" lengthAdjust=\"spacingAndGlyphs\" textLength=\"147\" x=\"33\" y=\"168.1387\">«individual occurrence»</text><text fill=\"#000000\" font-family=\"sans-serif\" font-size=\"12\" lengthAdjust=\"spacingAndGlyphs\" textLength=\"77\" x=\"68\" y=\"182.1074\">ind: Ind, Occ</text><line style=\"stroke: #383838; stroke-width: 1.5;\" x1=\"33\" x2=\"180\" y1=\"189.9375\" y2=\"189.9375\"/></a><!--MD5=[1dd1bfd58a279cf63c5f349dbc8fc6a1]\n",
       "class E11--><a href=\"psysml:a7aa12fc-e204-4f0a-90f2-9ab0101a123a\" target=\"_top\" title=\"psysml:a7aa12fc-e204-4f0a-90f2-9ab0101a123a\" xlink:actuate=\"onRequest\" xlink:href=\"psysml:a7aa12fc-e204-4f0a-90f2-9ab0101a123a\" xlink:show=\"new\" xlink:title=\"psysml:a7aa12fc-e204-4f0a-90f2-9ab0101a123a\" xlink:type=\"simple\"><rect fill=\"#FFFFFF\" height=\"45.9375\" id=\"E11\" rx=\"10\" ry=\"10\" style=\"stroke: #383838; stroke-width: 1.5;\" width=\"150\" x=\"270\" y=\"122\"/><text fill=\"#000000\" font-family=\"sans-serif\" font-size=\"12\" font-style=\"italic\" lengthAdjust=\"spacingAndGlyphs\" textLength=\"148\" x=\"271\" y=\"138.1387\">«snapshot occurrence»</text><text fill=\"#000000\" font-family=\"sans-serif\" font-size=\"12\" lengthAdjust=\"spacingAndGlyphs\" textLength=\"15\" x=\"337.5\" y=\"152.1074\">s3</text><line style=\"stroke: #383838; stroke-width: 1.5;\" x1=\"271\" x2=\"419\" y1=\"159.9375\" y2=\"159.9375\"/></a><!--MD5=[49a0ec8f00dab7302a31f22d0f0fe584]\n",
       "class E12--><a href=\"psysml:5052c3e9-886b-4521-8bf3-18ad9cb470c5\" target=\"_top\" title=\"psysml:5052c3e9-886b-4521-8bf3-18ad9cb470c5\" xlink:actuate=\"onRequest\" xlink:href=\"psysml:5052c3e9-886b-4521-8bf3-18ad9cb470c5\" xlink:show=\"new\" xlink:title=\"psysml:5052c3e9-886b-4521-8bf3-18ad9cb470c5\" xlink:type=\"simple\"><rect fill=\"#FFFFFF\" height=\"45.9375\" id=\"E12\" rx=\"10\" ry=\"10\" style=\"stroke: #383838; stroke-width: 1.5;\" width=\"208\" x=\"241\" y=\"41\"/><text fill=\"#000000\" font-family=\"sans-serif\" font-size=\"12\" font-style=\"italic\" lengthAdjust=\"spacingAndGlyphs\" textLength=\"206\" x=\"242\" y=\"57.1387\">«individual timeslice occurrence»</text><text fill=\"#000000\" font-family=\"sans-serif\" font-size=\"12\" lengthAdjust=\"spacingAndGlyphs\" textLength=\"13\" x=\"338.5\" y=\"71.1074\">t3</text><line style=\"stroke: #383838; stroke-width: 1.5;\" x1=\"242\" x2=\"448\" y1=\"78.9375\" y2=\"78.9375\"/></a><!--MD5=[ee3c913d1a06f366521f9ef512b67efe]\n",
       "class E13--><a href=\"psysml:e6d8c0e1-46dd-40c0-98f9-8ea23118f8bb\" target=\"_top\" title=\"psysml:e6d8c0e1-46dd-40c0-98f9-8ea23118f8bb\" xlink:actuate=\"onRequest\" xlink:href=\"psysml:e6d8c0e1-46dd-40c0-98f9-8ea23118f8bb\" xlink:show=\"new\" xlink:title=\"psysml:e6d8c0e1-46dd-40c0-98f9-8ea23118f8bb\" xlink:type=\"simple\"><rect fill=\"#FFFFFF\" height=\"45.9375\" id=\"E13\" rx=\"10\" ry=\"10\" style=\"stroke: #383838; stroke-width: 1.5;\" width=\"212\" x=\"509\" y=\"402\"/><text fill=\"#000000\" font-family=\"sans-serif\" font-size=\"12\" font-style=\"italic\" lengthAdjust=\"spacingAndGlyphs\" textLength=\"210\" x=\"510\" y=\"418.1387\">«individual snapshot occurrence»</text><text fill=\"#000000\" font-family=\"sans-serif\" font-size=\"12\" lengthAdjust=\"spacingAndGlyphs\" textLength=\"42\" x=\"594\" y=\"432.1074\">s4: Ind</text><line style=\"stroke: #383838; stroke-width: 1.5;\" x1=\"510\" x2=\"720\" y1=\"439.9375\" y2=\"439.9375\"/></a><!--MD5=[209b3feb70ccb6233bfe1053d122c12c]\n",
       "reverse link E2 to E3--><a href=\"psysml:816d5179-2674-4631-83bc-f7d71b4237a7\" target=\"_top\" title=\"psysml:816d5179-2674-4631-83bc-f7d71b4237a7\" xlink:actuate=\"onRequest\" xlink:href=\"psysml:816d5179-2674-4631-83bc-f7d71b4237a7\" xlink:show=\"new\" xlink:title=\"psysml:816d5179-2674-4631-83bc-f7d71b4237a7\" xlink:type=\"simple\"><path d=\"M413.12,305.75 C462.75,320.45 528.84,336.19 571.41,343.13 \" fill=\"none\" id=\"E2&lt;-E3\" style=\"stroke: #383838; stroke-width: 1.0;\"/><polygon fill=\"#FFFFFF\" points=\"400.56,301.94,405.14,307.5099,412.043,305.4245,407.463,299.8546,400.56,301.94\" style=\"stroke: #383838; stroke-width: 1.0;\"/></a><!--MD5=[05d275557350bfb9b23a4ef7222b4c39]\n",
       "link E3 to E2--><a href=\"psysml:eb3070f5-b0ea-4331-ac23-68f76765f53a\" target=\"_top\" title=\"psysml:eb3070f5-b0ea-4331-ac23-68f76765f53a\" xlink:actuate=\"onRequest\" xlink:href=\"psysml:eb3070f5-b0ea-4331-ac23-68f76765f53a\" xlink:show=\"new\" xlink:title=\"psysml:eb3070f5-b0ea-4331-ac23-68f76765f53a\" xlink:type=\"simple\"><path d=\"M571.41,323.32 C530.92,309.78 469.14,293.88 420.5,284.11 \" fill=\"none\" id=\"E3-&gt;E2\" style=\"stroke: #383838; stroke-width: 1.0;\"/><polygon fill=\"#FFFFFF\" points=\"400.56,280.32,420.5317,276.9834,417.9227,290.7382,400.56,280.32\" style=\"stroke: #383838; stroke-width: 1.0;\"/><ellipse cx=\"425.7591\" cy=\"280.0106\" fill=\"#383838\" rx=\"2\" ry=\"2\" style=\"stroke: #383838; stroke-width: 1.0;\"/><ellipse cx=\"423.8955\" cy=\"289.8354\" fill=\"#383838\" rx=\"2\" ry=\"2\" style=\"stroke: #383838; stroke-width: 1.0;\"/></a><!--MD5=[9618e71518536f8baf3342ff6fdab317]\n",
       "reverse link E2 to E4--><a href=\"psysml:0447f336-2e88-4877-9a74-bac22478a75a\" target=\"_top\" title=\"psysml:0447f336-2e88-4877-9a74-bac22478a75a\" xlink:actuate=\"onRequest\" xlink:href=\"psysml:0447f336-2e88-4877-9a74-bac22478a75a\" xlink:show=\"new\" xlink:title=\"psysml:0447f336-2e88-4877-9a74-bac22478a75a\" xlink:type=\"simple\"><path d=\"M413.75,285.46 C463.31,285.13 529.02,280.91 571.41,275.01 \" fill=\"none\" id=\"E2&lt;-E4\" style=\"stroke: #383838; stroke-width: 1.0;\"/><polygon fill=\"#383838\" points=\"400.56,285.45,406.5556,289.4566,412.56,285.4632,406.5644,281.4566,400.56,285.45\" style=\"stroke: #383838; stroke-width: 1.0;\"/></a><!--MD5=[185131fc0dcab0a4505a2ebe144e961b]\n",
       "link E4 to E2--><a href=\"psysml:bbe7f0c0-75f0-4d42-b38b-c0f55f25890a\" target=\"_top\" title=\"psysml:bbe7f0c0-75f0-4d42-b38b-c0f55f25890a\" xlink:actuate=\"onRequest\" xlink:href=\"psysml:bbe7f0c0-75f0-4d42-b38b-c0f55f25890a\" xlink:show=\"new\" xlink:title=\"psysml:bbe7f0c0-75f0-4d42-b38b-c0f55f25890a\" xlink:type=\"simple\"><path d=\"M571.41,255.2 C530.92,253.89 469.14,256.67 420.5,261.59 \" fill=\"none\" id=\"E4-&gt;E2\" style=\"stroke: #383838; stroke-width: 1.0;\"/><polygon fill=\"#FFFFFF\" points=\"400.56,263.83,418.6615,254.756,420.2218,268.6688,400.56,263.83\" style=\"stroke: #383838; stroke-width: 1.0;\"/><ellipse cx=\"424.5489\" cy=\"256.1083\" fill=\"#383838\" rx=\"2\" ry=\"2\" style=\"stroke: #383838; stroke-width: 1.0;\"/><ellipse cx=\"425.6634\" cy=\"266.046\" fill=\"#383838\" rx=\"2\" ry=\"2\" style=\"stroke: #383838; stroke-width: 1.0;\"/></a><!--MD5=[4e1a83fab71cdb913c109063314ae896]\n",
       "reverse link E2 to E5--><a href=\"psysml:5c44c5f5-a434-4c27-9e5d-4b118f9f4fa1\" target=\"_top\" title=\"psysml:5c44c5f5-a434-4c27-9e5d-4b118f9f4fa1\" xlink:actuate=\"onRequest\" xlink:href=\"psysml:5c44c5f5-a434-4c27-9e5d-4b118f9f4fa1\" xlink:show=\"new\" xlink:title=\"psysml:5c44c5f5-a434-4c27-9e5d-4b118f9f4fa1\" xlink:type=\"simple\"><path d=\"M412.85,254.05 C454.67,239.07 508.26,219.88 549.61,205.07 \" fill=\"none\" id=\"E2&lt;-E5\" style=\"stroke: #383838; stroke-width: 1.0;\"/><polygon fill=\"#383838\" points=\"400.56,258.46,407.5575,260.2022,411.857,254.4131,404.8595,252.6709,400.56,258.46\" style=\"stroke: #383838; stroke-width: 1.0;\"/></a><!--MD5=[ce036f65110ae2351ccce5a81dc2e928]\n",
       "reverse link E2 to E6--><a href=\"psysml:f84da050-0b5f-49f5-998e-9b704fc66ebc\" target=\"_top\" title=\"psysml:f84da050-0b5f-49f5-998e-9b704fc66ebc\" xlink:actuate=\"onRequest\" xlink:href=\"psysml:f84da050-0b5f-49f5-998e-9b704fc66ebc\" xlink:show=\"new\" xlink:title=\"psysml:f84da050-0b5f-49f5-998e-9b704fc66ebc\" xlink:type=\"simple\"><path d=\"M411.85,240.78 C424.7,232.34 437.68,222.92 449,213 C480.33,185.55 475.1,165.2 509,141 C518.92,133.92 530.26,127.91 541.73,122.87 \" fill=\"none\" id=\"E2&lt;-E6\" style=\"stroke: #383838; stroke-width: 1.0;\"/><polygon fill=\"#383838\" points=\"400.64,247.93,407.8497,248.0706,410.7525,241.4696,403.5428,241.329,400.64,247.93\" style=\"stroke: #383838; stroke-width: 1.0;\"/><text fill=\"#000000\" font-family=\"sans-serif\" font-size=\"13\" lengthAdjust=\"spacingAndGlyphs\" textLength=\"7\" x=\"526.8131\" y=\"137.9757\">*</text></a><!--MD5=[3a9b96bfbf6b6ad89c494e81751bda47]\n",
       "link E5 to E7--><a href=\"psysml:5222325c-bb46-4e39-81f0-12dbae43365a\" target=\"_top\" title=\"psysml:5222325c-bb46-4e39-81f0-12dbae43365a\" xlink:actuate=\"onRequest\" xlink:href=\"psysml:5222325c-bb46-4e39-81f0-12dbae43365a\" xlink:show=\"new\" xlink:title=\"psysml:5222325c-bb46-4e39-81f0-12dbae43365a\" xlink:type=\"simple\"><path d=\"M721.15,182 C734.24,182 747.63,182 760.73,182 \" fill=\"none\" id=\"E5-&gt;E7\" style=\"stroke: #383838; stroke-width: 1.0;\"/><polygon fill=\"#FFFFFF\" points=\"780.99,182,761.99,189,761.99,175,780.99,182\" style=\"stroke: #383838; stroke-width: 1.0;\"/><ellipse cx=\"756.29\" cy=\"187\" fill=\"#383838\" rx=\"2\" ry=\"2\" style=\"stroke: #383838; stroke-width: 1.0;\"/><ellipse cx=\"756.29\" cy=\"177\" fill=\"#383838\" rx=\"2\" ry=\"2\" style=\"stroke: #383838; stroke-width: 1.0;\"/></a><!--MD5=[dc164f5e8a733ab456ef1add180e9e34]\n",
       "reverse link E7 to E8--><a href=\"psysml:62bbb331-bb03-464e-9e32-68694608bffc\" target=\"_top\" title=\"psysml:62bbb331-bb03-464e-9e32-68694608bffc\" xlink:actuate=\"onRequest\" xlink:href=\"psysml:62bbb331-bb03-464e-9e32-68694608bffc\" xlink:show=\"new\" xlink:title=\"psysml:62bbb331-bb03-464e-9e32-68694608bffc\" xlink:type=\"simple\"><path d=\"M967.3,200 C982.87,202.84 998.75,205.74 1013.65,208.45 \" fill=\"none\" id=\"E7&lt;-E8\" style=\"stroke: #383838; stroke-width: 1.0;\"/><polygon fill=\"#383838\" points=\"954.31,197.64,959.4962,202.6503,966.1158,199.7901,960.9296,194.7798,954.31,197.64\" style=\"stroke: #383838; stroke-width: 1.0;\"/><text fill=\"#000000\" font-family=\"sans-serif\" font-size=\"13\" lengthAdjust=\"spacingAndGlyphs\" textLength=\"7\" x=\"998.8882\" y=\"219.931\">*</text></a><!--MD5=[e4a10ef82d0e328e31cac39a31e58dda]\n",
       "reverse link E7 to E9--><a href=\"psysml:6940b1aa-8c0f-4381-86aa-7b3e10e8c0d6\" target=\"_top\" title=\"psysml:6940b1aa-8c0f-4381-86aa-7b3e10e8c0d6\" xlink:actuate=\"onRequest\" xlink:href=\"psysml:6940b1aa-8c0f-4381-86aa-7b3e10e8c0d6\" xlink:show=\"new\" xlink:title=\"psysml:6940b1aa-8c0f-4381-86aa-7b3e10e8c0d6\" xlink:type=\"simple\"><path d=\"M967.29,163.55 C983.61,160.5 1000.24,157.39 1015.75,154.5 \" fill=\"none\" id=\"E7&lt;-E9\" style=\"stroke: #383838; stroke-width: 1.0;\"/><polygon fill=\"#383838\" points=\"954.31,165.97,960.9419,168.8016,966.1064,163.7689,959.4745,160.9373,954.31,165.97\" style=\"stroke: #383838; stroke-width: 1.0;\"/><text fill=\"#000000\" font-family=\"sans-serif\" font-size=\"13\" lengthAdjust=\"spacingAndGlyphs\" textLength=\"7\" x=\"1000.8352\" y=\"168.7426\">*</text></a><!--MD5=[a919e0967d6f3de553dc51b9865a1d6d]\n",
       "link E10 to E7--><a href=\"psysml:2d47db94-d209-4d22-9eae-73bfc16721f5\" target=\"_top\" title=\"psysml:2d47db94-d209-4d22-9eae-73bfc16721f5\" xlink:actuate=\"onRequest\" xlink:href=\"psysml:2d47db94-d209-4d22-9eae-73bfc16721f5\" xlink:show=\"new\" xlink:title=\"psysml:2d47db94-d209-4d22-9eae-73bfc16721f5\" xlink:type=\"simple\"><path d=\"M176.21,198.02 C249.67,218.13 366.67,236.81 449,185 C501.16,152.18 456.84,92.82 509,60 C588.75,9.82 632.45,27.79 721,60 C766.61,76.59 807.89,114.45 834.73,143.63 \" fill=\"none\" id=\"E10-&gt;E7\" style=\"stroke: #383838; stroke-width: 1.0;\"/><polygon fill=\"#FFFFFF\" points=\"848.09,158.76,830.2631,149.1579,840.7538,139.8873,848.09,158.76\" style=\"stroke: #383838; stroke-width: 1.0;\"/><ellipse cx=\"827.9873\" cy=\"143.5623\" fill=\"#383838\" rx=\"2\" ry=\"2\" style=\"stroke: #383838; stroke-width: 1.0;\"/><ellipse cx=\"835.4806\" cy=\"136.9404\" fill=\"#383838\" rx=\"2\" ry=\"2\" style=\"stroke: #383838; stroke-width: 1.0;\"/></a><!--MD5=[0f36bececdf0dff6e600d6f64214b0f1]\n",
       "link E10 to E2--><a href=\"psysml:6622b004-fc37-43f3-bc42-fdfacc696359\" target=\"_top\" title=\"psysml:6622b004-fc37-43f3-bc42-fdfacc696359\" xlink:actuate=\"onRequest\" xlink:href=\"psysml:6622b004-fc37-43f3-bc42-fdfacc696359\" xlink:show=\"new\" xlink:title=\"psysml:6622b004-fc37-43f3-bc42-fdfacc696359\" xlink:type=\"simple\"><path d=\"M160.58,198.12 C193.13,212.29 235.27,230.65 270.94,246.18 \" fill=\"none\" id=\"E10-&gt;E2\" style=\"stroke: #383838; stroke-width: 1.0;\"/><polygon fill=\"#FFFFFF\" points=\"289.46,254.25,269.2451,253.0839,274.8335,240.2476,289.46,254.25\" style=\"stroke: #383838; stroke-width: 1.0;\"/><ellipse cx=\"264.8173\" cy=\"248.9749\" fill=\"#383838\" rx=\"2\" ry=\"2\" style=\"stroke: #383838; stroke-width: 1.0;\"/><ellipse cx=\"268.809\" cy=\"239.8061\" fill=\"#383838\" rx=\"2\" ry=\"2\" style=\"stroke: #383838; stroke-width: 1.0;\"/></a><!--MD5=[de308be4a2431766a05a907a031c07fc]\n",
       "reverse link E10 to E11--><a href=\"psysml:973d09ca-2c85-400b-8a26-6e03e711a9dc\" target=\"_top\" title=\"psysml:973d09ca-2c85-400b-8a26-6e03e711a9dc\" xlink:actuate=\"onRequest\" xlink:href=\"psysml:973d09ca-2c85-400b-8a26-6e03e711a9dc\" xlink:show=\"new\" xlink:title=\"psysml:973d09ca-2c85-400b-8a26-6e03e711a9dc\" xlink:type=\"simple\"><path d=\"M194.17,164.01 C218.95,160.86 245.73,157.47 269.7,154.43 \" fill=\"none\" id=\"E10&lt;-E11\" style=\"stroke: #383838; stroke-width: 1.0;\"/><polygon fill=\"#383838\" points=\"181.03,165.67,187.4838,168.887,192.9355,164.167,186.4817,160.95,181.03,165.67\" style=\"stroke: #383838; stroke-width: 1.0;\"/></a><!--MD5=[1d54f998c6d5961a1a9184be73a7eb6c]\n",
       "reverse link E10 to E12--><a href=\"psysml:4b2dc275-57bf-47aa-bec9-3fe53972a958\" target=\"_top\" title=\"psysml:4b2dc275-57bf-47aa-bec9-3fe53972a958\" xlink:actuate=\"onRequest\" xlink:href=\"psysml:4b2dc275-57bf-47aa-bec9-3fe53972a958\" xlink:show=\"new\" xlink:title=\"psysml:4b2dc275-57bf-47aa-bec9-3fe53972a958\" xlink:type=\"simple\"><path d=\"M159.31,145.61 C183.75,132.22 213.52,116.59 241,104 C253.82,98.13 267.77,92.33 281.14,87.05 \" fill=\"none\" id=\"E10&lt;-E12\" style=\"stroke: #383838; stroke-width: 1.0;\"/><polygon fill=\"#383838\" points=\"147.77,151.98,154.9559,152.5819,158.2754,146.1803,151.0895,145.5783,147.77,151.98\" style=\"stroke: #383838; stroke-width: 1.0;\"/></a><!--MD5=[4a48077df6499cfcd20b62e8f5f37904]\n",
       "link E13 to E7--><a href=\"psysml:99db2ce7-7db4-4747-aea3-ba596a45b862\" target=\"_top\" title=\"psysml:99db2ce7-7db4-4747-aea3-ba596a45b862\" xlink:actuate=\"onRequest\" xlink:href=\"psysml:99db2ce7-7db4-4747-aea3-ba596a45b862\" xlink:show=\"new\" xlink:title=\"psysml:99db2ce7-7db4-4747-aea3-ba596a45b862\" xlink:type=\"simple\"><path d=\"M690.9,401.97 C701.56,396.96 711.95,391.01 721,384 C777.66,340.08 821.98,268.26 846.17,223.15 \" fill=\"none\" id=\"E13-&gt;E7\" style=\"stroke: #383838; stroke-width: 1.0;\"/><polygon fill=\"#FFFFFF\" points=\"855.42,205.32,852.8821,225.4088,840.4555,218.9605,855.42,205.32\" style=\"stroke: #383838; stroke-width: 1.0;\"/><ellipse cx=\"848.4815\" cy=\"229.547\" fill=\"#383838\" rx=\"2\" ry=\"2\" style=\"stroke: #383838; stroke-width: 1.0;\"/><ellipse cx=\"839.6054\" cy=\"224.9411\" fill=\"#383838\" rx=\"2\" ry=\"2\" style=\"stroke: #383838; stroke-width: 1.0;\"/></a><!--MD5=[3752947672b188943e8769a5d479f9d0]\n",
       "@startuml\r\n",
       "left to right direction\r\n",
       "skinparam monochrome true\r\n",
       "skinparam classbackgroundcolor white\r\n",
       "skinparam shadowing false\r\n",
       "skinparam wrapWidth 300\r\n",
       "hide circle\r\n",
       "\r\n",
       "package \"OccurrenceTest\" as E1  [[psysml:e6ab502d-dafd-416a-a255-3fa3ad3c263c ]]  {\r\n",
       "comp def \"Occ\" as E2  <<(T,blue) occurrence def>> [[psysml:1203d309-d98c-452c-84ab-9db93e8b8d83 ]] {\r\n",
       "- - attributes - -\r\n",
       "a\r\n",
       "}\r\n",
       "comp usage \"occ1: Occ\" as E3  <<(T,blue) occurrence>> [[psysml:158a345e-3640-4aa1-8638-58b6699698f0 ]] {\r\n",
       "}\r\n",
       "comp usage \"occ2: Occ\" as E4  <<(T,blue) occurrence>> [[psysml:5ccc27c3-07b1-4713-880e-82008912fb62 ]] {\r\n",
       "}\r\n",
       "comp usage \"s: Ind\" as E5  <<(T,blue) individual snapshot occurrence>> [[psysml:b931cfcd-d1f5-4c70-b44c-3b4fd21c9018 ]] {\r\n",
       "}\r\n",
       "comp usage \"t\" as E6  <<(T,blue) timeslice occurrence>> [[psysml:a76dffb5-cb4a-4142-b15c-9dbeb6bd2474 ]] {\r\n",
       "}\r\n",
       "comp def \"Ind\" as E7  <<(T,blue) individual occurrence def>> [[psysml:cddcce1d-840d-4259-9672-1cad32ef9616 ]] {\r\n",
       "}\r\n",
       "comp usage \"s2\" as E8  <<(T,blue) snapshot occurrence>> [[psysml:760118bf-f26e-45fa-9528-0dbdf12ed33d ]] {\r\n",
       "}\r\n",
       "comp usage \"t2\" as E9  <<(T,blue) timeslice occurrence>> [[psysml:6916c4a6-d3e9-4718-9bd3-b4da3843528f ]] {\r\n",
       "}\r\n",
       "comp usage \"ind: Ind, Occ\" as E10  <<(T,blue) individual occurrence>> [[psysml:ca3e4eae-d888-4010-bdf5-da81d89d1eab ]] {\r\n",
       "}\r\n",
       "comp usage \"s3\" as E11  <<(T,blue) snapshot occurrence>> [[psysml:a7aa12fc-e204-4f0a-90f2-9ab0101a123a ]] {\r\n",
       "}\r\n",
       "comp usage \"t3\" as E12  <<(T,blue) individual timeslice occurrence>> [[psysml:5052c3e9-886b-4521-8bf3-18ad9cb470c5 ]] {\r\n",
       "}\r\n",
       "comp usage \"s4: Ind\" as E13  <<(T,blue) individual snapshot occurrence>> [[psysml:e6d8c0e1-46dd-40c0-98f9-8ea23118f8bb ]] {\r\n",
       "}\r\n",
       "}\r\n",
       "E2 o- - E3 [[psysml:816d5179-2674-4631-83bc-f7d71b4237a7 ]] \r\n",
       "E3 - -:|> E2 [[psysml:eb3070f5-b0ea-4331-ac23-68f76765f53a ]] \r\n",
       "E2 *- - E4 [[psysml:0447f336-2e88-4877-9a74-bac22478a75a ]] \r\n",
       "E4 - -:|> E2 [[psysml:bbe7f0c0-75f0-4d42-b38b-c0f55f25890a ]] \r\n",
       "E2 *- - E5 [[psysml:5c44c5f5-a434-4c27-9e5d-4b118f9f4fa1 ]] \r\n",
       "E2 *- - \"*\"E6 [[psysml:f84da050-0b5f-49f5-998e-9b704fc66ebc ]] \r\n",
       "E5 - -:|> E7 [[psysml:5222325c-bb46-4e39-81f0-12dbae43365a ]] \r\n",
       "E7 *- - \"*\"E8 [[psysml:62bbb331-bb03-464e-9e32-68694608bffc ]] \r\n",
       "E7 *- - \"*\"E9 [[psysml:6940b1aa-8c0f-4381-86aa-7b3e10e8c0d6 ]] \r\n",
       "E10 - -:|> E7 [[psysml:2d47db94-d209-4d22-9eae-73bfc16721f5 ]] \r\n",
       "E10 - -:|> E2 [[psysml:6622b004-fc37-43f3-bc42-fdfacc696359 ]] \r\n",
       "E10 *- - E11 [[psysml:973d09ca-2c85-400b-8a26-6e03e711a9dc ]] \r\n",
       "E10 *- - E12 [[psysml:4b2dc275-57bf-47aa-bec9-3fe53972a958 ]] \r\n",
       "E13 - -:|> E7 [[psysml:99db2ce7-7db4-4747-aea3-ba596a45b862 ]] \r\n",
       "@enduml\r\n",
       "\n",
       "PlantUML version 1.2020.13(Sat Jun 13 12:26:38 UTC 2020)\n",
       "(EPL source distribution)\n",
       "Java Runtime: OpenJDK Runtime Environment\n",
       "JVM: OpenJDK 64-Bit Server VM\n",
       "Default Encoding: UTF-8\n",
       "Language: en\n",
       "Country: null\n",
       "--></g></svg>"
      ]
     },
     "execution_count": 22,
     "metadata": {},
     "output_type": "execute_result"
    }
   ],
   "source": [
    "%viz --style=\"LR\" --view=\"MIXED\" \"OccurrenceTest\""
   ]
  },
  {
   "cell_type": "code",
   "execution_count": 23,
   "id": "b4ae0db5",
   "metadata": {
    "execution": {
     "iopub.execute_input": "2021-10-03T08:28:43.930313Z",
     "iopub.status.busy": "2021-10-03T08:28:43.929899Z",
     "iopub.status.idle": "2021-10-03T08:28:43.986418Z",
     "shell.execute_reply": "2021-10-03T08:28:43.986051Z"
    }
   },
   "outputs": [
    {
     "data": {
      "image/svg+xml": [
       "<?xml version=\"1.0\" encoding=\"UTF-8\" standalone=\"no\"?><svg xmlns=\"http://www.w3.org/2000/svg\" xmlns:xlink=\"http://www.w3.org/1999/xlink\" contentScriptType=\"application/ecmascript\" contentStyleType=\"text/css\" height=\"552px\" preserveAspectRatio=\"none\" style=\"width:1009px;height:552px;\" version=\"1.1\" viewBox=\"0 0 1009 552\" width=\"1009px\" zoomAndPan=\"magnify\"><defs><filter height=\"300%\" id=\"f1o93j68yybll\" width=\"300%\" x=\"-1\" y=\"-1\"><feGaussianBlur result=\"blurOut\" stdDeviation=\"2.0\"/><feColorMatrix in=\"blurOut\" result=\"blurOut2\" type=\"matrix\" values=\"0 0 0 0 0 0 0 0 0 0 0 0 0 0 0 0 0 0 .4 0\"/><feOffset dx=\"4.0\" dy=\"4.0\" in=\"blurOut2\" result=\"blurOut3\"/><feBlend in=\"SourceGraphic\" in2=\"blurOut3\" mode=\"normal\"/></filter></defs><g><!--MD5=[fbc87193dbaf4d95561dea2c320d4a47]\n",
       "cluster E1--><a href=\"psysml:e6ab502d-dafd-416a-a255-3fa3ad3c263c\" target=\"_top\" title=\"psysml:e6ab502d-dafd-416a-a255-3fa3ad3c263c\" xlink:actuate=\"onRequest\" xlink:href=\"psysml:e6ab502d-dafd-416a-a255-3fa3ad3c263c\" xlink:show=\"new\" xlink:title=\"psysml:e6ab502d-dafd-416a-a255-3fa3ad3c263c\" xlink:type=\"simple\"><polygon fill=\"#FFFFFF\" filter=\"url(#f1o93j68yybll)\" points=\"16,6,134,6,141,28.2969,970,28.2969,970,540,16,540,16,6\" style=\"stroke: #000000; stroke-width: 1.5;\"/><line style=\"stroke: #000000; stroke-width: 1.5;\" x1=\"16\" x2=\"141\" y1=\"28.2969\" y2=\"28.2969\"/><text fill=\"#000000\" font-family=\"sans-serif\" font-size=\"14\" font-weight=\"bold\" lengthAdjust=\"spacingAndGlyphs\" textLength=\"112\" x=\"20\" y=\"20.9951\">OccurrenceTest</text></a><!--MD5=[b4997ac47864f28c2f74865a473b2911]\n",
       "class E2--><a href=\"psysml:1203d309-d98c-452c-84ab-9db93e8b8d83\" target=\"_top\" title=\"psysml:1203d309-d98c-452c-84ab-9db93e8b8d83\" xlink:actuate=\"onRequest\" xlink:href=\"psysml:1203d309-d98c-452c-84ab-9db93e8b8d83\" xlink:show=\"new\" xlink:title=\"psysml:1203d309-d98c-452c-84ab-9db93e8b8d83\" xlink:type=\"simple\"><rect fill=\"#FEFECE\" filter=\"url(#f1o93j68yybll)\" height=\"58.7422\" id=\"E2\" style=\"stroke: #A80036; stroke-width: 1.5;\" width=\"111\" x=\"377.5\" y=\"147\"/><text fill=\"#000000\" font-family=\"sans-serif\" font-size=\"12\" font-style=\"italic\" lengthAdjust=\"spacingAndGlyphs\" textLength=\"109\" x=\"378.5\" y=\"163.1387\">«occurrence def»</text><text fill=\"#000000\" font-family=\"sans-serif\" font-size=\"12\" lengthAdjust=\"spacingAndGlyphs\" textLength=\"23\" x=\"421.5\" y=\"177.1074\">Occ</text><line style=\"stroke: #A80036; stroke-width: 1.5;\" x1=\"378.5\" x2=\"487.5\" y1=\"184.9375\" y2=\"184.9375\"/><text fill=\"#000000\" font-family=\"sans-serif\" font-size=\"11\" lengthAdjust=\"spacingAndGlyphs\" textLength=\"7\" x=\"383.5\" y=\"199.1479\">a</text></a><!--MD5=[09b614a08d8cba4a07c9adeb5e0fee81]\n",
       "class E3--><a href=\"psysml:158a345e-3640-4aa1-8638-58b6699698f0\" target=\"_top\" title=\"psysml:158a345e-3640-4aa1-8638-58b6699698f0\" xlink:actuate=\"onRequest\" xlink:href=\"psysml:158a345e-3640-4aa1-8638-58b6699698f0\" xlink:show=\"new\" xlink:title=\"psysml:158a345e-3640-4aa1-8638-58b6699698f0\" xlink:type=\"simple\"><rect fill=\"#FEFECE\" filter=\"url(#f1o93j68yybll)\" height=\"45.9375\" id=\"E3\" rx=\"10\" ry=\"10\" style=\"stroke: #A80036; stroke-width: 1.5;\" width=\"87\" x=\"279.5\" y=\"266\"/><text fill=\"#000000\" font-family=\"sans-serif\" font-size=\"12\" font-style=\"italic\" lengthAdjust=\"spacingAndGlyphs\" textLength=\"85\" x=\"280.5\" y=\"282.1387\">«occurrence»</text><text fill=\"#000000\" font-family=\"sans-serif\" font-size=\"12\" lengthAdjust=\"spacingAndGlyphs\" textLength=\"61\" x=\"292.5\" y=\"296.1074\">occ1: Occ</text><line style=\"stroke: #A80036; stroke-width: 1.5;\" x1=\"280.5\" x2=\"365.5\" y1=\"303.9375\" y2=\"303.9375\"/></a><!--MD5=[ebbe1d658d1005bcc118a6aa81145e00]\n",
       "class E4--><a href=\"psysml:5ccc27c3-07b1-4713-880e-82008912fb62\" target=\"_top\" title=\"psysml:5ccc27c3-07b1-4713-880e-82008912fb62\" xlink:actuate=\"onRequest\" xlink:href=\"psysml:5ccc27c3-07b1-4713-880e-82008912fb62\" xlink:show=\"new\" xlink:title=\"psysml:5ccc27c3-07b1-4713-880e-82008912fb62\" xlink:type=\"simple\"><rect fill=\"#FEFECE\" filter=\"url(#f1o93j68yybll)\" height=\"45.9375\" id=\"E4\" rx=\"10\" ry=\"10\" style=\"stroke: #A80036; stroke-width: 1.5;\" width=\"87\" x=\"401.5\" y=\"266\"/><text fill=\"#000000\" font-family=\"sans-serif\" font-size=\"12\" font-style=\"italic\" lengthAdjust=\"spacingAndGlyphs\" textLength=\"85\" x=\"402.5\" y=\"282.1387\">«occurrence»</text><text fill=\"#000000\" font-family=\"sans-serif\" font-size=\"12\" lengthAdjust=\"spacingAndGlyphs\" textLength=\"61\" x=\"414.5\" y=\"296.1074\">occ2: Occ</text><line style=\"stroke: #A80036; stroke-width: 1.5;\" x1=\"402.5\" x2=\"487.5\" y1=\"303.9375\" y2=\"303.9375\"/></a><!--MD5=[270fce915f116d4de14055a7c1d9a0f3]\n",
       "class E5--><a href=\"psysml:b931cfcd-d1f5-4c70-b44c-3b4fd21c9018\" target=\"_top\" title=\"psysml:b931cfcd-d1f5-4c70-b44c-3b4fd21c9018\" xlink:actuate=\"onRequest\" xlink:href=\"psysml:b931cfcd-d1f5-4c70-b44c-3b4fd21c9018\" xlink:show=\"new\" xlink:title=\"psysml:b931cfcd-d1f5-4c70-b44c-3b4fd21c9018\" xlink:type=\"simple\"><rect fill=\"#FEFECE\" filter=\"url(#f1o93j68yybll)\" height=\"45.9375\" id=\"E5\" rx=\"10\" ry=\"10\" style=\"stroke: #A80036; stroke-width: 1.5;\" width=\"212\" x=\"524\" y=\"266\"/><text fill=\"#000000\" font-family=\"sans-serif\" font-size=\"12\" font-style=\"italic\" lengthAdjust=\"spacingAndGlyphs\" textLength=\"210\" x=\"525\" y=\"282.1387\">«individual snapshot occurrence»</text><text fill=\"#000000\" font-family=\"sans-serif\" font-size=\"12\" lengthAdjust=\"spacingAndGlyphs\" textLength=\"34\" x=\"613\" y=\"296.1074\">s: Ind</text><line style=\"stroke: #A80036; stroke-width: 1.5;\" x1=\"525\" x2=\"735\" y1=\"303.9375\" y2=\"303.9375\"/></a><!--MD5=[60a26617385b1d2d0262a64233df1f8d]\n",
       "class E6--><a href=\"psysml:a76dffb5-cb4a-4142-b15c-9dbeb6bd2474\" target=\"_top\" title=\"psysml:a76dffb5-cb4a-4142-b15c-9dbeb6bd2474\" xlink:actuate=\"onRequest\" xlink:href=\"psysml:a76dffb5-cb4a-4142-b15c-9dbeb6bd2474\" xlink:show=\"new\" xlink:title=\"psysml:a76dffb5-cb4a-4142-b15c-9dbeb6bd2474\" xlink:type=\"simple\"><rect fill=\"#FEFECE\" filter=\"url(#f1o93j68yybll)\" height=\"45.9375\" id=\"E6\" rx=\"10\" ry=\"10\" style=\"stroke: #A80036; stroke-width: 1.5;\" width=\"146\" x=\"771\" y=\"266\"/><text fill=\"#000000\" font-family=\"sans-serif\" font-size=\"12\" font-style=\"italic\" lengthAdjust=\"spacingAndGlyphs\" textLength=\"144\" x=\"772\" y=\"282.1387\">«timeslice occurrence»</text><text fill=\"#000000\" font-family=\"sans-serif\" font-size=\"12\" lengthAdjust=\"spacingAndGlyphs\" textLength=\"5\" x=\"841.5\" y=\"296.1074\">t</text><line style=\"stroke: #A80036; stroke-width: 1.5;\" x1=\"772\" x2=\"916\" y1=\"303.9375\" y2=\"303.9375\"/></a><!--MD5=[2156ba9850f5573cc1fc38a6a4b2f02b]\n",
       "class E7--><a href=\"psysml:cddcce1d-840d-4259-9672-1cad32ef9616\" target=\"_top\" title=\"psysml:cddcce1d-840d-4259-9672-1cad32ef9616\" xlink:actuate=\"onRequest\" xlink:href=\"psysml:cddcce1d-840d-4259-9672-1cad32ef9616\" xlink:show=\"new\" xlink:title=\"psysml:cddcce1d-840d-4259-9672-1cad32ef9616\" xlink:type=\"simple\"><rect fill=\"#FEFECE\" filter=\"url(#f1o93j68yybll)\" height=\"45.9375\" id=\"E7\" style=\"stroke: #A80036; stroke-width: 1.5;\" width=\"173\" x=\"543.5\" y=\"372\"/><text fill=\"#000000\" font-family=\"sans-serif\" font-size=\"12\" font-style=\"italic\" lengthAdjust=\"spacingAndGlyphs\" textLength=\"171\" x=\"544.5\" y=\"388.1387\">«individual occurrence def»</text><text fill=\"#000000\" font-family=\"sans-serif\" font-size=\"12\" lengthAdjust=\"spacingAndGlyphs\" textLength=\"19\" x=\"620.5\" y=\"402.1074\">Ind</text><line style=\"stroke: #A80036; stroke-width: 1.5;\" x1=\"544.5\" x2=\"715.5\" y1=\"409.9375\" y2=\"409.9375\"/></a><!--MD5=[b9389687b975829384b498ac4b7476b2]\n",
       "class E8--><a href=\"psysml:760118bf-f26e-45fa-9528-0dbdf12ed33d\" target=\"_top\" title=\"psysml:760118bf-f26e-45fa-9528-0dbdf12ed33d\" xlink:actuate=\"onRequest\" xlink:href=\"psysml:760118bf-f26e-45fa-9528-0dbdf12ed33d\" xlink:show=\"new\" xlink:title=\"psysml:760118bf-f26e-45fa-9528-0dbdf12ed33d\" xlink:type=\"simple\"><rect fill=\"#FEFECE\" filter=\"url(#f1o93j68yybll)\" height=\"45.9375\" id=\"E8\" rx=\"10\" ry=\"10\" style=\"stroke: #A80036; stroke-width: 1.5;\" width=\"150\" x=\"463\" y=\"478\"/><text fill=\"#000000\" font-family=\"sans-serif\" font-size=\"12\" font-style=\"italic\" lengthAdjust=\"spacingAndGlyphs\" textLength=\"148\" x=\"464\" y=\"494.1387\">«snapshot occurrence»</text><text fill=\"#000000\" font-family=\"sans-serif\" font-size=\"12\" lengthAdjust=\"spacingAndGlyphs\" textLength=\"15\" x=\"530.5\" y=\"508.1074\">s2</text><line style=\"stroke: #A80036; stroke-width: 1.5;\" x1=\"464\" x2=\"612\" y1=\"515.9375\" y2=\"515.9375\"/></a><!--MD5=[fd4143e9d270a159db93a4ea2a975926]\n",
       "class E9--><a href=\"psysml:6916c4a6-d3e9-4718-9bd3-b4da3843528f\" target=\"_top\" title=\"psysml:6916c4a6-d3e9-4718-9bd3-b4da3843528f\" xlink:actuate=\"onRequest\" xlink:href=\"psysml:6916c4a6-d3e9-4718-9bd3-b4da3843528f\" xlink:show=\"new\" xlink:title=\"psysml:6916c4a6-d3e9-4718-9bd3-b4da3843528f\" xlink:type=\"simple\"><rect fill=\"#FEFECE\" filter=\"url(#f1o93j68yybll)\" height=\"45.9375\" id=\"E9\" rx=\"10\" ry=\"10\" style=\"stroke: #A80036; stroke-width: 1.5;\" width=\"146\" x=\"648\" y=\"478\"/><text fill=\"#000000\" font-family=\"sans-serif\" font-size=\"12\" font-style=\"italic\" lengthAdjust=\"spacingAndGlyphs\" textLength=\"144\" x=\"649\" y=\"494.1387\">«timeslice occurrence»</text><text fill=\"#000000\" font-family=\"sans-serif\" font-size=\"12\" lengthAdjust=\"spacingAndGlyphs\" textLength=\"13\" x=\"714.5\" y=\"508.1074\">t2</text><line style=\"stroke: #A80036; stroke-width: 1.5;\" x1=\"649\" x2=\"793\" y1=\"515.9375\" y2=\"515.9375\"/></a><!--MD5=[96f4274e9e20536e775497830990834d]\n",
       "class E10--><a href=\"psysml:ca3e4eae-d888-4010-bdf5-da81d89d1eab\" target=\"_top\" title=\"psysml:ca3e4eae-d888-4010-bdf5-da81d89d1eab\" xlink:actuate=\"onRequest\" xlink:href=\"psysml:ca3e4eae-d888-4010-bdf5-da81d89d1eab\" xlink:show=\"new\" xlink:title=\"psysml:ca3e4eae-d888-4010-bdf5-da81d89d1eab\" xlink:type=\"simple\"><rect fill=\"#FEFECE\" filter=\"url(#f1o93j68yybll)\" height=\"45.9375\" id=\"E10\" rx=\"10\" ry=\"10\" style=\"stroke: #A80036; stroke-width: 1.5;\" width=\"149\" x=\"505.5\" y=\"41\"/><text fill=\"#000000\" font-family=\"sans-serif\" font-size=\"12\" font-style=\"italic\" lengthAdjust=\"spacingAndGlyphs\" textLength=\"147\" x=\"506.5\" y=\"57.1387\">«individual occurrence»</text><text fill=\"#000000\" font-family=\"sans-serif\" font-size=\"12\" lengthAdjust=\"spacingAndGlyphs\" textLength=\"77\" x=\"541.5\" y=\"71.1074\">ind: Ind, Occ</text><line style=\"stroke: #A80036; stroke-width: 1.5;\" x1=\"506.5\" x2=\"653.5\" y1=\"78.9375\" y2=\"78.9375\"/></a><!--MD5=[1dd1bfd58a279cf63c5f349dbc8fc6a1]\n",
       "class E11--><a href=\"psysml:a7aa12fc-e204-4f0a-90f2-9ab0101a123a\" target=\"_top\" title=\"psysml:a7aa12fc-e204-4f0a-90f2-9ab0101a123a\" xlink:actuate=\"onRequest\" xlink:href=\"psysml:a7aa12fc-e204-4f0a-90f2-9ab0101a123a\" xlink:show=\"new\" xlink:title=\"psysml:a7aa12fc-e204-4f0a-90f2-9ab0101a123a\" xlink:type=\"simple\"><rect fill=\"#FEFECE\" filter=\"url(#f1o93j68yybll)\" height=\"45.9375\" id=\"E11\" rx=\"10\" ry=\"10\" style=\"stroke: #A80036; stroke-width: 1.5;\" width=\"150\" x=\"561\" y=\"153.5\"/><text fill=\"#000000\" font-family=\"sans-serif\" font-size=\"12\" font-style=\"italic\" lengthAdjust=\"spacingAndGlyphs\" textLength=\"148\" x=\"562\" y=\"169.6387\">«snapshot occurrence»</text><text fill=\"#000000\" font-family=\"sans-serif\" font-size=\"12\" lengthAdjust=\"spacingAndGlyphs\" textLength=\"15\" x=\"628.5\" y=\"183.6074\">s3</text><line style=\"stroke: #A80036; stroke-width: 1.5;\" x1=\"562\" x2=\"710\" y1=\"191.4375\" y2=\"191.4375\"/></a><!--MD5=[49a0ec8f00dab7302a31f22d0f0fe584]\n",
       "class E12--><a href=\"psysml:5052c3e9-886b-4521-8bf3-18ad9cb470c5\" target=\"_top\" title=\"psysml:5052c3e9-886b-4521-8bf3-18ad9cb470c5\" xlink:actuate=\"onRequest\" xlink:href=\"psysml:5052c3e9-886b-4521-8bf3-18ad9cb470c5\" xlink:show=\"new\" xlink:title=\"psysml:5052c3e9-886b-4521-8bf3-18ad9cb470c5\" xlink:type=\"simple\"><rect fill=\"#FEFECE\" filter=\"url(#f1o93j68yybll)\" height=\"45.9375\" id=\"E12\" rx=\"10\" ry=\"10\" style=\"stroke: #A80036; stroke-width: 1.5;\" width=\"208\" x=\"746\" y=\"153.5\"/><text fill=\"#000000\" font-family=\"sans-serif\" font-size=\"12\" font-style=\"italic\" lengthAdjust=\"spacingAndGlyphs\" textLength=\"206\" x=\"747\" y=\"169.6387\">«individual timeslice occurrence»</text><text fill=\"#000000\" font-family=\"sans-serif\" font-size=\"12\" lengthAdjust=\"spacingAndGlyphs\" textLength=\"13\" x=\"843.5\" y=\"183.6074\">t3</text><line style=\"stroke: #A80036; stroke-width: 1.5;\" x1=\"747\" x2=\"953\" y1=\"191.4375\" y2=\"191.4375\"/></a><!--MD5=[ee3c913d1a06f366521f9ef512b67efe]\n",
       "class E13--><a href=\"psysml:e6d8c0e1-46dd-40c0-98f9-8ea23118f8bb\" target=\"_top\" title=\"psysml:e6d8c0e1-46dd-40c0-98f9-8ea23118f8bb\" xlink:actuate=\"onRequest\" xlink:href=\"psysml:e6d8c0e1-46dd-40c0-98f9-8ea23118f8bb\" xlink:show=\"new\" xlink:title=\"psysml:e6d8c0e1-46dd-40c0-98f9-8ea23118f8bb\" xlink:type=\"simple\"><rect fill=\"#FEFECE\" filter=\"url(#f1o93j68yybll)\" height=\"45.9375\" id=\"E13\" rx=\"10\" ry=\"10\" style=\"stroke: #A80036; stroke-width: 1.5;\" width=\"212\" x=\"32\" y=\"266\"/><text fill=\"#000000\" font-family=\"sans-serif\" font-size=\"12\" font-style=\"italic\" lengthAdjust=\"spacingAndGlyphs\" textLength=\"210\" x=\"33\" y=\"282.1387\">«individual snapshot occurrence»</text><text fill=\"#000000\" font-family=\"sans-serif\" font-size=\"12\" lengthAdjust=\"spacingAndGlyphs\" textLength=\"42\" x=\"117\" y=\"296.1074\">s4: Ind</text><line style=\"stroke: #A80036; stroke-width: 1.5;\" x1=\"33\" x2=\"243\" y1=\"303.9375\" y2=\"303.9375\"/></a><!--MD5=[209b3feb70ccb6233bfe1053d122c12c]\n",
       "reverse link E2 to E3--><a href=\"psysml:816d5179-2674-4631-83bc-f7d71b4237a7\" target=\"_top\" title=\"psysml:816d5179-2674-4631-83bc-f7d71b4237a7\" xlink:actuate=\"onRequest\" xlink:href=\"psysml:816d5179-2674-4631-83bc-f7d71b4237a7\" xlink:show=\"new\" xlink:title=\"psysml:816d5179-2674-4631-83bc-f7d71b4237a7\" xlink:type=\"simple\"><path d=\"M383.23,215.27 C365.37,232.05 346.84,251.23 334.75,265.68 \" fill=\"none\" id=\"E2&lt;-E3\" style=\"stroke: #A80036; stroke-width: 1.0;\"/><polygon fill=\"#FFFFFF\" points=\"393.04,206.24,385.9158,207.3563,384.2062,214.3618,391.3304,213.2455,393.04,206.24\" style=\"stroke: #A80036; stroke-width: 1.0;\"/></a><!--MD5=[05d275557350bfb9b23a4ef7222b4c39]\n",
       "link E3 to E2--><a href=\"psysml:eb3070f5-b0ea-4331-ac23-68f76765f53a\" target=\"_top\" title=\"psysml:eb3070f5-b0ea-4331-ac23-68f76765f53a\" xlink:actuate=\"onRequest\" xlink:href=\"psysml:eb3070f5-b0ea-4331-ac23-68f76765f53a\" xlink:show=\"new\" xlink:title=\"psysml:eb3070f5-b0ea-4331-ac23-68f76765f53a\" xlink:type=\"simple\"><path d=\"M356.31,265.68 C371.09,252.97 388.1,236.6 402.52,221.42 \" fill=\"none\" id=\"E3-&gt;E2\" style=\"stroke: #A80036; stroke-width: 1.0;\"/><polygon fill=\"#FFFFFF\" points=\"416.4,206.24,408.7402,224.9837,398.4105,215.534,416.4,206.24\" style=\"stroke: #A80036; stroke-width: 1.0;\"/><ellipse cx=\"403.4172\" cy=\"227.8394\" fill=\"#A80036\" rx=\"2\" ry=\"2\" style=\"stroke: #A80036; stroke-width: 1.0;\"/><ellipse cx=\"396.0388\" cy=\"221.0896\" fill=\"#A80036\" rx=\"2\" ry=\"2\" style=\"stroke: #A80036; stroke-width: 1.0;\"/></a><!--MD5=[9618e71518536f8baf3342ff6fdab317]\n",
       "reverse link E2 to E4--><a href=\"psysml:0447f336-2e88-4877-9a74-bac22478a75a\" target=\"_top\" title=\"psysml:0447f336-2e88-4877-9a74-bac22478a75a\" xlink:actuate=\"onRequest\" xlink:href=\"psysml:0447f336-2e88-4877-9a74-bac22478a75a\" xlink:show=\"new\" xlink:title=\"psysml:0447f336-2e88-4877-9a74-bac22478a75a\" xlink:type=\"simple\"><path d=\"M425.14,219.51 C426.05,235.22 428.57,252.43 432.1,265.68 \" fill=\"none\" id=\"E2&lt;-E4\" style=\"stroke: #A80036; stroke-width: 1.0;\"/><polygon fill=\"#A80036\" points=\"424.78,206.24,420.9465,212.3477,425.1099,218.2355,428.9434,212.1278,424.78,206.24\" style=\"stroke: #A80036; stroke-width: 1.0;\"/></a><!--MD5=[185131fc0dcab0a4505a2ebe144e961b]\n",
       "link E4 to E2--><a href=\"psysml:bbe7f0c0-75f0-4d42-b38b-c0f55f25890a\" target=\"_top\" title=\"psysml:bbe7f0c0-75f0-4d42-b38b-c0f55f25890a\" xlink:actuate=\"onRequest\" xlink:href=\"psysml:bbe7f0c0-75f0-4d42-b38b-c0f55f25890a\" xlink:show=\"new\" xlink:title=\"psysml:bbe7f0c0-75f0-4d42-b38b-c0f55f25890a\" xlink:type=\"simple\"><path d=\"M453.67,265.68 C454.34,254.31 453.56,240.01 451.71,226.25 \" fill=\"none\" id=\"E4-&gt;E2\" style=\"stroke: #A80036; stroke-width: 1.0;\"/><polygon fill=\"#FFFFFF\" points=\"448.13,206.24,458.3601,223.7141,444.578,226.1745,448.13,206.24\" style=\"stroke: #A80036; stroke-width: 1.0;\"/><ellipse cx=\"457.393\" cy=\"229.6769\" fill=\"#A80036\" rx=\"2\" ry=\"2\" style=\"stroke: #A80036; stroke-width: 1.0;\"/><ellipse cx=\"447.5486\" cy=\"231.4343\" fill=\"#A80036\" rx=\"2\" ry=\"2\" style=\"stroke: #A80036; stroke-width: 1.0;\"/></a><!--MD5=[4e1a83fab71cdb913c109063314ae896]\n",
       "reverse link E2 to E5--><a href=\"psysml:5c44c5f5-a434-4c27-9e5d-4b118f9f4fa1\" target=\"_top\" title=\"psysml:5c44c5f5-a434-4c27-9e5d-4b118f9f4fa1\" xlink:actuate=\"onRequest\" xlink:href=\"psysml:5c44c5f5-a434-4c27-9e5d-4b118f9f4fa1\" xlink:show=\"new\" xlink:title=\"psysml:5c44c5f5-a434-4c27-9e5d-4b118f9f4fa1\" xlink:type=\"simple\"><path d=\"M495.64,212.63 C526.82,230.13 563.56,250.73 590.73,265.97 \" fill=\"none\" id=\"E2&lt;-E5\" style=\"stroke: #A80036; stroke-width: 1.0;\"/><polygon fill=\"#A80036\" points=\"483.99,206.1,487.2684,212.5228,494.458,211.9669,491.1796,205.5441,483.99,206.1\" style=\"stroke: #A80036; stroke-width: 1.0;\"/></a><!--MD5=[ce036f65110ae2351ccce5a81dc2e928]\n",
       "reverse link E2 to E6--><a href=\"psysml:f84da050-0b5f-49f5-998e-9b704fc66ebc\" target=\"_top\" title=\"psysml:f84da050-0b5f-49f5-998e-9b704fc66ebc\" xlink:actuate=\"onRequest\" xlink:href=\"psysml:f84da050-0b5f-49f5-998e-9b704fc66ebc\" xlink:show=\"new\" xlink:title=\"psysml:f84da050-0b5f-49f5-998e-9b704fc66ebc\" xlink:type=\"simple\"><path d=\"M501.08,201.4 C506.11,203.01 511.13,204.56 516,206 C540.38,213.22 681.98,248.22 770.98,270.1 \" fill=\"none\" id=\"E2&lt;-E6\" style=\"stroke: #A80036; stroke-width: 1.0;\"/><polygon fill=\"#A80036\" points=\"488.6,197.32,493.0588,202.9874,500.0051,201.0514,495.5464,195.384,488.6,197.32\" style=\"stroke: #A80036; stroke-width: 1.0;\"/><text fill=\"#000000\" font-family=\"sans-serif\" font-size=\"13\" lengthAdjust=\"spacingAndGlyphs\" textLength=\"7\" x=\"756.0889\" y=\"264.4545\">*</text></a><!--MD5=[3a9b96bfbf6b6ad89c494e81751bda47]\n",
       "link E5 to E7--><a href=\"psysml:5222325c-bb46-4e39-81f0-12dbae43365a\" target=\"_top\" title=\"psysml:5222325c-bb46-4e39-81f0-12dbae43365a\" xlink:actuate=\"onRequest\" xlink:href=\"psysml:5222325c-bb46-4e39-81f0-12dbae43365a\" xlink:show=\"new\" xlink:title=\"psysml:5222325c-bb46-4e39-81f0-12dbae43365a\" xlink:type=\"simple\"><path d=\"M630,312.06 C630,323.64 630,338.23 630,351.87 \" fill=\"none\" id=\"E5-&gt;E7\" style=\"stroke: #A80036; stroke-width: 1.0;\"/><polygon fill=\"#FFFFFF\" points=\"630,371.98,623,352.98,637,352.98,630,371.98\" style=\"stroke: #A80036; stroke-width: 1.0;\"/><ellipse cx=\"625\" cy=\"347.28\" fill=\"#A80036\" rx=\"2\" ry=\"2\" style=\"stroke: #A80036; stroke-width: 1.0;\"/><ellipse cx=\"635\" cy=\"347.28\" fill=\"#A80036\" rx=\"2\" ry=\"2\" style=\"stroke: #A80036; stroke-width: 1.0;\"/></a><!--MD5=[dc164f5e8a733ab456ef1add180e9e34]\n",
       "reverse link E7 to E8--><a href=\"psysml:62bbb331-bb03-464e-9e32-68694608bffc\" target=\"_top\" title=\"psysml:62bbb331-bb03-464e-9e32-68694608bffc\" xlink:actuate=\"onRequest\" xlink:href=\"psysml:62bbb331-bb03-464e-9e32-68694608bffc\" xlink:show=\"new\" xlink:title=\"psysml:62bbb331-bb03-464e-9e32-68694608bffc\" xlink:type=\"simple\"><path d=\"M601.55,428.16 C587.25,444.33 570.28,463.51 557.48,477.98 \" fill=\"none\" id=\"E7&lt;-E8\" style=\"stroke: #A80036; stroke-width: 1.0;\"/><polygon fill=\"#A80036\" points=\"610.49,418.06,603.5177,419.9004,602.5348,427.0442,609.5071,425.2038,610.49,418.06\" style=\"stroke: #A80036; stroke-width: 1.0;\"/><text fill=\"#000000\" font-family=\"sans-serif\" font-size=\"13\" lengthAdjust=\"spacingAndGlyphs\" textLength=\"7\" x=\"554.7746\" y=\"466.8709\">*</text></a><!--MD5=[e4a10ef82d0e328e31cac39a31e58dda]\n",
       "reverse link E7 to E9--><a href=\"psysml:6940b1aa-8c0f-4381-86aa-7b3e10e8c0d6\" target=\"_top\" title=\"psysml:6940b1aa-8c0f-4381-86aa-7b3e10e8c0d6\" xlink:actuate=\"onRequest\" xlink:href=\"psysml:6940b1aa-8c0f-4381-86aa-7b3e10e8c0d6\" xlink:show=\"new\" xlink:title=\"psysml:6940b1aa-8c0f-4381-86aa-7b3e10e8c0d6\" xlink:type=\"simple\"><path d=\"M658.14,428.16 C672.29,444.33 689.07,463.51 701.73,477.98 \" fill=\"none\" id=\"E7&lt;-E9\" style=\"stroke: #A80036; stroke-width: 1.0;\"/><polygon fill=\"#A80036\" points=\"649.3,418.06,650.2496,425.2083,657.2133,427.0811,656.2637,419.9328,649.3,418.06\" style=\"stroke: #A80036; stroke-width: 1.0;\"/><text fill=\"#000000\" font-family=\"sans-serif\" font-size=\"13\" lengthAdjust=\"spacingAndGlyphs\" textLength=\"7\" x=\"688.6106\" y=\"466.8709\">*</text></a><!--MD5=[a919e0967d6f3de553dc51b9865a1d6d]\n",
       "link E10 to E7--><a href=\"psysml:2d47db94-d209-4d22-9eae-73bfc16721f5\" target=\"_top\" title=\"psysml:2d47db94-d209-4d22-9eae-73bfc16721f5\" xlink:actuate=\"onRequest\" xlink:href=\"psysml:2d47db94-d209-4d22-9eae-73bfc16721f5\" xlink:show=\"new\" xlink:title=\"psysml:2d47db94-d209-4d22-9eae-73bfc16721f5\" xlink:type=\"simple\"><path d=\"M563.68,87.04 C543.4,117.34 514.79,171.97 544,206 C658.5,339.41 820.5,132.59 935,266 C997.65,338.99 847.73,371.27 736.59,384.86 \" fill=\"none\" id=\"E10-&gt;E7\" style=\"stroke: #A80036; stroke-width: 1.0;\"/><polygon fill=\"#FFFFFF\" points=\"716.7,387.14,734.7756,378.0147,736.3754,391.923,716.7,387.14\" style=\"stroke: #A80036; stroke-width: 1.0;\"/><ellipse cx=\"740.6668\" cy=\"379.3502\" fill=\"#A80036\" rx=\"2\" ry=\"2\" style=\"stroke: #A80036; stroke-width: 1.0;\"/><ellipse cx=\"741.8096\" cy=\"389.2847\" fill=\"#A80036\" rx=\"2\" ry=\"2\" style=\"stroke: #A80036; stroke-width: 1.0;\"/></a><!--MD5=[0f36bececdf0dff6e600d6f64214b0f1]\n",
       "link E10 to E2--><a href=\"psysml:6622b004-fc37-43f3-bc42-fdfacc696359\" target=\"_top\" title=\"psysml:6622b004-fc37-43f3-bc42-fdfacc696359\" xlink:actuate=\"onRequest\" xlink:href=\"psysml:6622b004-fc37-43f3-bc42-fdfacc696359\" xlink:show=\"new\" xlink:title=\"psysml:6622b004-fc37-43f3-bc42-fdfacc696359\" xlink:type=\"simple\"><path d=\"M550.61,87.1 C532.47,100.73 508.64,118.64 487.18,134.77 \" fill=\"none\" id=\"E10-&gt;E2\" style=\"stroke: #A80036; stroke-width: 1.0;\"/><polygon fill=\"#FFFFFF\" points=\"471,146.93,481.983,129.919,490.3942,141.1106,471,146.93\" style=\"stroke: #A80036; stroke-width: 1.0;\"/><ellipse cx=\"487.7412\" cy=\"128.0932\" fill=\"#A80036\" rx=\"2\" ry=\"2\" style=\"stroke: #A80036; stroke-width: 1.0;\"/><ellipse cx=\"493.7492\" cy=\"136.0872\" fill=\"#A80036\" rx=\"2\" ry=\"2\" style=\"stroke: #A80036; stroke-width: 1.0;\"/></a><!--MD5=[de308be4a2431766a05a907a031c07fc]\n",
       "reverse link E10 to E11--><a href=\"psysml:973d09ca-2c85-400b-8a26-6e03e711a9dc\" target=\"_top\" title=\"psysml:973d09ca-2c85-400b-8a26-6e03e711a9dc\" xlink:actuate=\"onRequest\" xlink:href=\"psysml:973d09ca-2c85-400b-8a26-6e03e711a9dc\" xlink:show=\"new\" xlink:title=\"psysml:973d09ca-2c85-400b-8a26-6e03e711a9dc\" xlink:type=\"simple\"><path d=\"M597.09,98.72 C606.1,116.5 616.89,137.79 624.82,153.44 \" fill=\"none\" id=\"E10&lt;-E11\" style=\"stroke: #A80036; stroke-width: 1.0;\"/><polygon fill=\"#A80036\" points=\"591.2,87.1,590.3513,94.261,596.6351,97.7986,597.4837,90.6376,591.2,87.1\" style=\"stroke: #A80036; stroke-width: 1.0;\"/></a><!--MD5=[1d54f998c6d5961a1a9184be73a7eb6c]\n",
       "reverse link E10 to E12--><a href=\"psysml:4b2dc275-57bf-47aa-bec9-3fe53972a958\" target=\"_top\" title=\"psysml:4b2dc275-57bf-47aa-bec9-3fe53972a958\" xlink:actuate=\"onRequest\" xlink:href=\"psysml:4b2dc275-57bf-47aa-bec9-3fe53972a958\" xlink:show=\"new\" xlink:title=\"psysml:4b2dc275-57bf-47aa-bec9-3fe53972a958\" xlink:type=\"simple\"><path d=\"M646.27,92.12 C692.35,110.98 752.99,135.8 796.1,153.44 \" fill=\"none\" id=\"E10&lt;-E12\" style=\"stroke: #A80036; stroke-width: 1.0;\"/><polygon fill=\"#A80036\" points=\"633.99,87.1,638.0315,93.0721,645.0987,91.6385,641.0572,85.6663,633.99,87.1\" style=\"stroke: #A80036; stroke-width: 1.0;\"/></a><!--MD5=[4a48077df6499cfcd20b62e8f5f37904]\n",
       "link E13 to E7--><a href=\"psysml:99db2ce7-7db4-4747-aea3-ba596a45b862\" target=\"_top\" title=\"psysml:99db2ce7-7db4-4747-aea3-ba596a45b862\" xlink:actuate=\"onRequest\" xlink:href=\"psysml:99db2ce7-7db4-4747-aea3-ba596a45b862\" xlink:show=\"new\" xlink:title=\"psysml:99db2ce7-7db4-4747-aea3-ba596a45b862\" xlink:type=\"simple\"><path d=\"M242.34,312.06 C325.16,329.56 440.49,353.94 523.8,371.55 \" fill=\"none\" id=\"E13-&gt;E7\" style=\"stroke: #A80036; stroke-width: 1.0;\"/><polygon fill=\"#FFFFFF\" points=\"543.45,375.7,523.4123,378.6135,526.3115,364.917,543.45,375.7\" style=\"stroke: #A80036; stroke-width: 1.0;\"/><ellipse cx=\"518.25\" cy=\"375.4765\" fill=\"#A80036\" rx=\"2\" ry=\"2\" style=\"stroke: #A80036; stroke-width: 1.0;\"/><ellipse cx=\"520.3209\" cy=\"365.6933\" fill=\"#A80036\" rx=\"2\" ry=\"2\" style=\"stroke: #A80036; stroke-width: 1.0;\"/></a><!--MD5=[31086e2a164404f5b933eb02d4cbfa60]\n",
       "@startuml\r\n",
       "skinparam wrapWidth 300\r\n",
       "hide circle\r\n",
       "\r\n",
       "package \"OccurrenceTest\" as E1  [[psysml:e6ab502d-dafd-416a-a255-3fa3ad3c263c ]]  {\r\n",
       "comp def \"Occ\" as E2  <<(T,blue) occurrence def>> [[psysml:1203d309-d98c-452c-84ab-9db93e8b8d83 ]] {\r\n",
       "a\r\n",
       "}\r\n",
       "comp usage \"occ1: Occ\" as E3  <<(T,blue) occurrence>> [[psysml:158a345e-3640-4aa1-8638-58b6699698f0 ]] {\r\n",
       "}\r\n",
       "comp usage \"occ2: Occ\" as E4  <<(T,blue) occurrence>> [[psysml:5ccc27c3-07b1-4713-880e-82008912fb62 ]] {\r\n",
       "}\r\n",
       "comp usage \"s: Ind\" as E5  <<(T,blue) individual snapshot occurrence>> [[psysml:b931cfcd-d1f5-4c70-b44c-3b4fd21c9018 ]] {\r\n",
       "}\r\n",
       "comp usage \"t\" as E6  <<(T,blue) timeslice occurrence>> [[psysml:a76dffb5-cb4a-4142-b15c-9dbeb6bd2474 ]] {\r\n",
       "}\r\n",
       "comp def \"Ind\" as E7  <<(T,blue) individual occurrence def>> [[psysml:cddcce1d-840d-4259-9672-1cad32ef9616 ]] {\r\n",
       "}\r\n",
       "comp usage \"s2\" as E8  <<(T,blue) snapshot occurrence>> [[psysml:760118bf-f26e-45fa-9528-0dbdf12ed33d ]] {\r\n",
       "}\r\n",
       "comp usage \"t2\" as E9  <<(T,blue) timeslice occurrence>> [[psysml:6916c4a6-d3e9-4718-9bd3-b4da3843528f ]] {\r\n",
       "}\r\n",
       "comp usage \"ind: Ind, Occ\" as E10  <<(T,blue) individual occurrence>> [[psysml:ca3e4eae-d888-4010-bdf5-da81d89d1eab ]] {\r\n",
       "}\r\n",
       "comp usage \"s3\" as E11  <<(T,blue) snapshot occurrence>> [[psysml:a7aa12fc-e204-4f0a-90f2-9ab0101a123a ]] {\r\n",
       "}\r\n",
       "comp usage \"t3\" as E12  <<(T,blue) individual timeslice occurrence>> [[psysml:5052c3e9-886b-4521-8bf3-18ad9cb470c5 ]] {\r\n",
       "}\r\n",
       "comp usage \"s4: Ind\" as E13  <<(T,blue) individual snapshot occurrence>> [[psysml:e6d8c0e1-46dd-40c0-98f9-8ea23118f8bb ]] {\r\n",
       "}\r\n",
       "}\r\n",
       "E2 o- - E3 [[psysml:816d5179-2674-4631-83bc-f7d71b4237a7 ]] \r\n",
       "E3 - -:|> E2 [[psysml:eb3070f5-b0ea-4331-ac23-68f76765f53a ]] \r\n",
       "E2 *- - E4 [[psysml:0447f336-2e88-4877-9a74-bac22478a75a ]] \r\n",
       "E4 - -:|> E2 [[psysml:bbe7f0c0-75f0-4d42-b38b-c0f55f25890a ]] \r\n",
       "E2 *- - E5 [[psysml:5c44c5f5-a434-4c27-9e5d-4b118f9f4fa1 ]] \r\n",
       "E2 *- - \"*\"E6 [[psysml:f84da050-0b5f-49f5-998e-9b704fc66ebc ]] \r\n",
       "E5 - -:|> E7 [[psysml:5222325c-bb46-4e39-81f0-12dbae43365a ]] \r\n",
       "E7 *- - \"*\"E8 [[psysml:62bbb331-bb03-464e-9e32-68694608bffc ]] \r\n",
       "E7 *- - \"*\"E9 [[psysml:6940b1aa-8c0f-4381-86aa-7b3e10e8c0d6 ]] \r\n",
       "E10 - -:|> E7 [[psysml:2d47db94-d209-4d22-9eae-73bfc16721f5 ]] \r\n",
       "E10 - -:|> E2 [[psysml:6622b004-fc37-43f3-bc42-fdfacc696359 ]] \r\n",
       "E10 *- - E11 [[psysml:973d09ca-2c85-400b-8a26-6e03e711a9dc ]] \r\n",
       "E10 *- - E12 [[psysml:4b2dc275-57bf-47aa-bec9-3fe53972a958 ]] \r\n",
       "E13 - -:|> E7 [[psysml:99db2ce7-7db4-4747-aea3-ba596a45b862 ]] \r\n",
       "@enduml\r\n",
       "\n",
       "PlantUML version 1.2020.13(Sat Jun 13 12:26:38 UTC 2020)\n",
       "(EPL source distribution)\n",
       "Java Runtime: OpenJDK Runtime Environment\n",
       "JVM: OpenJDK 64-Bit Server VM\n",
       "Default Encoding: UTF-8\n",
       "Language: en\n",
       "Country: null\n",
       "--></g></svg>"
      ]
     },
     "execution_count": 23,
     "metadata": {},
     "output_type": "execute_result"
    }
   ],
   "source": [
    "%viz --style=\"STDCOLOR\" --view=\"Default\" \"OccurrenceTest\""
   ]
  },
  {
   "cell_type": "code",
   "execution_count": 24,
   "id": "31c8e02d",
   "metadata": {
    "execution": {
     "iopub.execute_input": "2021-10-03T08:28:44.035465Z",
     "iopub.status.busy": "2021-10-03T08:28:44.035049Z",
     "iopub.status.idle": "2021-10-03T08:28:44.088254Z",
     "shell.execute_reply": "2021-10-03T08:28:44.087885Z"
    }
   },
   "outputs": [
    {
     "data": {
      "image/svg+xml": [
       "<?xml version=\"1.0\" encoding=\"UTF-8\" standalone=\"no\"?><svg xmlns=\"http://www.w3.org/2000/svg\" xmlns:xlink=\"http://www.w3.org/1999/xlink\" contentScriptType=\"application/ecmascript\" contentStyleType=\"text/css\" height=\"552px\" preserveAspectRatio=\"none\" style=\"width:1009px;height:552px;\" version=\"1.1\" viewBox=\"0 0 1009 552\" width=\"1009px\" zoomAndPan=\"magnify\"><defs><filter height=\"300%\" id=\"f1o93j68yybll\" width=\"300%\" x=\"-1\" y=\"-1\"><feGaussianBlur result=\"blurOut\" stdDeviation=\"2.0\"/><feColorMatrix in=\"blurOut\" result=\"blurOut2\" type=\"matrix\" values=\"0 0 0 0 0 0 0 0 0 0 0 0 0 0 0 0 0 0 .4 0\"/><feOffset dx=\"4.0\" dy=\"4.0\" in=\"blurOut2\" result=\"blurOut3\"/><feBlend in=\"SourceGraphic\" in2=\"blurOut3\" mode=\"normal\"/></filter></defs><g><!--MD5=[fbc87193dbaf4d95561dea2c320d4a47]\n",
       "cluster E1--><a href=\"psysml:e6ab502d-dafd-416a-a255-3fa3ad3c263c\" target=\"_top\" title=\"psysml:e6ab502d-dafd-416a-a255-3fa3ad3c263c\" xlink:actuate=\"onRequest\" xlink:href=\"psysml:e6ab502d-dafd-416a-a255-3fa3ad3c263c\" xlink:show=\"new\" xlink:title=\"psysml:e6ab502d-dafd-416a-a255-3fa3ad3c263c\" xlink:type=\"simple\"><polygon fill=\"#FFFFFF\" filter=\"url(#f1o93j68yybll)\" points=\"16,6,134,6,141,28.2969,970,28.2969,970,540,16,540,16,6\" style=\"stroke: #000000; stroke-width: 1.5;\"/><line style=\"stroke: #000000; stroke-width: 1.5;\" x1=\"16\" x2=\"141\" y1=\"28.2969\" y2=\"28.2969\"/><text fill=\"#000000\" font-family=\"sans-serif\" font-size=\"14\" font-weight=\"bold\" lengthAdjust=\"spacingAndGlyphs\" textLength=\"112\" x=\"20\" y=\"20.9951\">OccurrenceTest</text></a><!--MD5=[b4997ac47864f28c2f74865a473b2911]\n",
       "class E2--><a href=\"psysml:1203d309-d98c-452c-84ab-9db93e8b8d83\" target=\"_top\" title=\"psysml:1203d309-d98c-452c-84ab-9db93e8b8d83\" xlink:actuate=\"onRequest\" xlink:href=\"psysml:1203d309-d98c-452c-84ab-9db93e8b8d83\" xlink:show=\"new\" xlink:title=\"psysml:1203d309-d98c-452c-84ab-9db93e8b8d83\" xlink:type=\"simple\"><rect fill=\"#FEFECE\" filter=\"url(#f1o93j68yybll)\" height=\"58.7422\" id=\"E2\" style=\"stroke: #A80036; stroke-width: 1.5;\" width=\"111\" x=\"377.5\" y=\"147\"/><text fill=\"#000000\" font-family=\"sans-serif\" font-size=\"12\" font-style=\"italic\" lengthAdjust=\"spacingAndGlyphs\" textLength=\"109\" x=\"378.5\" y=\"163.1387\">«occurrence def»</text><text fill=\"#000000\" font-family=\"sans-serif\" font-size=\"12\" lengthAdjust=\"spacingAndGlyphs\" textLength=\"23\" x=\"421.5\" y=\"177.1074\">Occ</text><line style=\"stroke: #A80036; stroke-width: 1.5;\" x1=\"378.5\" x2=\"487.5\" y1=\"184.9375\" y2=\"184.9375\"/><text fill=\"#000000\" font-family=\"sans-serif\" font-size=\"11\" lengthAdjust=\"spacingAndGlyphs\" textLength=\"7\" x=\"383.5\" y=\"199.1479\">a</text></a><!--MD5=[09b614a08d8cba4a07c9adeb5e0fee81]\n",
       "class E3--><a href=\"psysml:158a345e-3640-4aa1-8638-58b6699698f0\" target=\"_top\" title=\"psysml:158a345e-3640-4aa1-8638-58b6699698f0\" xlink:actuate=\"onRequest\" xlink:href=\"psysml:158a345e-3640-4aa1-8638-58b6699698f0\" xlink:show=\"new\" xlink:title=\"psysml:158a345e-3640-4aa1-8638-58b6699698f0\" xlink:type=\"simple\"><rect fill=\"#FEFECE\" filter=\"url(#f1o93j68yybll)\" height=\"45.9375\" id=\"E3\" rx=\"10\" ry=\"10\" style=\"stroke: #A80036; stroke-width: 1.5;\" width=\"87\" x=\"279.5\" y=\"266\"/><text fill=\"#000000\" font-family=\"sans-serif\" font-size=\"12\" font-style=\"italic\" lengthAdjust=\"spacingAndGlyphs\" textLength=\"85\" x=\"280.5\" y=\"282.1387\">«occurrence»</text><text fill=\"#000000\" font-family=\"sans-serif\" font-size=\"12\" lengthAdjust=\"spacingAndGlyphs\" textLength=\"61\" x=\"292.5\" y=\"296.1074\">occ1: Occ</text><line style=\"stroke: #A80036; stroke-width: 1.5;\" x1=\"280.5\" x2=\"365.5\" y1=\"303.9375\" y2=\"303.9375\"/></a><!--MD5=[ebbe1d658d1005bcc118a6aa81145e00]\n",
       "class E4--><a href=\"psysml:5ccc27c3-07b1-4713-880e-82008912fb62\" target=\"_top\" title=\"psysml:5ccc27c3-07b1-4713-880e-82008912fb62\" xlink:actuate=\"onRequest\" xlink:href=\"psysml:5ccc27c3-07b1-4713-880e-82008912fb62\" xlink:show=\"new\" xlink:title=\"psysml:5ccc27c3-07b1-4713-880e-82008912fb62\" xlink:type=\"simple\"><rect fill=\"#FEFECE\" filter=\"url(#f1o93j68yybll)\" height=\"45.9375\" id=\"E4\" rx=\"10\" ry=\"10\" style=\"stroke: #A80036; stroke-width: 1.5;\" width=\"87\" x=\"401.5\" y=\"266\"/><text fill=\"#000000\" font-family=\"sans-serif\" font-size=\"12\" font-style=\"italic\" lengthAdjust=\"spacingAndGlyphs\" textLength=\"85\" x=\"402.5\" y=\"282.1387\">«occurrence»</text><text fill=\"#000000\" font-family=\"sans-serif\" font-size=\"12\" lengthAdjust=\"spacingAndGlyphs\" textLength=\"61\" x=\"414.5\" y=\"296.1074\">occ2: Occ</text><line style=\"stroke: #A80036; stroke-width: 1.5;\" x1=\"402.5\" x2=\"487.5\" y1=\"303.9375\" y2=\"303.9375\"/></a><!--MD5=[270fce915f116d4de14055a7c1d9a0f3]\n",
       "class E5--><a href=\"psysml:b931cfcd-d1f5-4c70-b44c-3b4fd21c9018\" target=\"_top\" title=\"psysml:b931cfcd-d1f5-4c70-b44c-3b4fd21c9018\" xlink:actuate=\"onRequest\" xlink:href=\"psysml:b931cfcd-d1f5-4c70-b44c-3b4fd21c9018\" xlink:show=\"new\" xlink:title=\"psysml:b931cfcd-d1f5-4c70-b44c-3b4fd21c9018\" xlink:type=\"simple\"><rect fill=\"#FEFECE\" filter=\"url(#f1o93j68yybll)\" height=\"45.9375\" id=\"E5\" rx=\"10\" ry=\"10\" style=\"stroke: #A80036; stroke-width: 1.5;\" width=\"212\" x=\"524\" y=\"266\"/><text fill=\"#000000\" font-family=\"sans-serif\" font-size=\"12\" font-style=\"italic\" lengthAdjust=\"spacingAndGlyphs\" textLength=\"210\" x=\"525\" y=\"282.1387\">«individual snapshot occurrence»</text><text fill=\"#000000\" font-family=\"sans-serif\" font-size=\"12\" lengthAdjust=\"spacingAndGlyphs\" textLength=\"34\" x=\"613\" y=\"296.1074\">s: Ind</text><line style=\"stroke: #A80036; stroke-width: 1.5;\" x1=\"525\" x2=\"735\" y1=\"303.9375\" y2=\"303.9375\"/></a><!--MD5=[60a26617385b1d2d0262a64233df1f8d]\n",
       "class E6--><a href=\"psysml:a76dffb5-cb4a-4142-b15c-9dbeb6bd2474\" target=\"_top\" title=\"psysml:a76dffb5-cb4a-4142-b15c-9dbeb6bd2474\" xlink:actuate=\"onRequest\" xlink:href=\"psysml:a76dffb5-cb4a-4142-b15c-9dbeb6bd2474\" xlink:show=\"new\" xlink:title=\"psysml:a76dffb5-cb4a-4142-b15c-9dbeb6bd2474\" xlink:type=\"simple\"><rect fill=\"#FEFECE\" filter=\"url(#f1o93j68yybll)\" height=\"45.9375\" id=\"E6\" rx=\"10\" ry=\"10\" style=\"stroke: #A80036; stroke-width: 1.5;\" width=\"146\" x=\"771\" y=\"266\"/><text fill=\"#000000\" font-family=\"sans-serif\" font-size=\"12\" font-style=\"italic\" lengthAdjust=\"spacingAndGlyphs\" textLength=\"144\" x=\"772\" y=\"282.1387\">«timeslice occurrence»</text><text fill=\"#000000\" font-family=\"sans-serif\" font-size=\"12\" lengthAdjust=\"spacingAndGlyphs\" textLength=\"5\" x=\"841.5\" y=\"296.1074\">t</text><line style=\"stroke: #A80036; stroke-width: 1.5;\" x1=\"772\" x2=\"916\" y1=\"303.9375\" y2=\"303.9375\"/></a><!--MD5=[2156ba9850f5573cc1fc38a6a4b2f02b]\n",
       "class E7--><a href=\"psysml:cddcce1d-840d-4259-9672-1cad32ef9616\" target=\"_top\" title=\"psysml:cddcce1d-840d-4259-9672-1cad32ef9616\" xlink:actuate=\"onRequest\" xlink:href=\"psysml:cddcce1d-840d-4259-9672-1cad32ef9616\" xlink:show=\"new\" xlink:title=\"psysml:cddcce1d-840d-4259-9672-1cad32ef9616\" xlink:type=\"simple\"><rect fill=\"#FEFECE\" filter=\"url(#f1o93j68yybll)\" height=\"45.9375\" id=\"E7\" style=\"stroke: #A80036; stroke-width: 1.5;\" width=\"173\" x=\"543.5\" y=\"372\"/><text fill=\"#000000\" font-family=\"sans-serif\" font-size=\"12\" font-style=\"italic\" lengthAdjust=\"spacingAndGlyphs\" textLength=\"171\" x=\"544.5\" y=\"388.1387\">«individual occurrence def»</text><text fill=\"#000000\" font-family=\"sans-serif\" font-size=\"12\" lengthAdjust=\"spacingAndGlyphs\" textLength=\"19\" x=\"620.5\" y=\"402.1074\">Ind</text><line style=\"stroke: #A80036; stroke-width: 1.5;\" x1=\"544.5\" x2=\"715.5\" y1=\"409.9375\" y2=\"409.9375\"/></a><!--MD5=[b9389687b975829384b498ac4b7476b2]\n",
       "class E8--><a href=\"psysml:760118bf-f26e-45fa-9528-0dbdf12ed33d\" target=\"_top\" title=\"psysml:760118bf-f26e-45fa-9528-0dbdf12ed33d\" xlink:actuate=\"onRequest\" xlink:href=\"psysml:760118bf-f26e-45fa-9528-0dbdf12ed33d\" xlink:show=\"new\" xlink:title=\"psysml:760118bf-f26e-45fa-9528-0dbdf12ed33d\" xlink:type=\"simple\"><rect fill=\"#FEFECE\" filter=\"url(#f1o93j68yybll)\" height=\"45.9375\" id=\"E8\" rx=\"10\" ry=\"10\" style=\"stroke: #A80036; stroke-width: 1.5;\" width=\"150\" x=\"463\" y=\"478\"/><text fill=\"#000000\" font-family=\"sans-serif\" font-size=\"12\" font-style=\"italic\" lengthAdjust=\"spacingAndGlyphs\" textLength=\"148\" x=\"464\" y=\"494.1387\">«snapshot occurrence»</text><text fill=\"#000000\" font-family=\"sans-serif\" font-size=\"12\" lengthAdjust=\"spacingAndGlyphs\" textLength=\"15\" x=\"530.5\" y=\"508.1074\">s2</text><line style=\"stroke: #A80036; stroke-width: 1.5;\" x1=\"464\" x2=\"612\" y1=\"515.9375\" y2=\"515.9375\"/></a><!--MD5=[fd4143e9d270a159db93a4ea2a975926]\n",
       "class E9--><a href=\"psysml:6916c4a6-d3e9-4718-9bd3-b4da3843528f\" target=\"_top\" title=\"psysml:6916c4a6-d3e9-4718-9bd3-b4da3843528f\" xlink:actuate=\"onRequest\" xlink:href=\"psysml:6916c4a6-d3e9-4718-9bd3-b4da3843528f\" xlink:show=\"new\" xlink:title=\"psysml:6916c4a6-d3e9-4718-9bd3-b4da3843528f\" xlink:type=\"simple\"><rect fill=\"#FEFECE\" filter=\"url(#f1o93j68yybll)\" height=\"45.9375\" id=\"E9\" rx=\"10\" ry=\"10\" style=\"stroke: #A80036; stroke-width: 1.5;\" width=\"146\" x=\"648\" y=\"478\"/><text fill=\"#000000\" font-family=\"sans-serif\" font-size=\"12\" font-style=\"italic\" lengthAdjust=\"spacingAndGlyphs\" textLength=\"144\" x=\"649\" y=\"494.1387\">«timeslice occurrence»</text><text fill=\"#000000\" font-family=\"sans-serif\" font-size=\"12\" lengthAdjust=\"spacingAndGlyphs\" textLength=\"13\" x=\"714.5\" y=\"508.1074\">t2</text><line style=\"stroke: #A80036; stroke-width: 1.5;\" x1=\"649\" x2=\"793\" y1=\"515.9375\" y2=\"515.9375\"/></a><!--MD5=[96f4274e9e20536e775497830990834d]\n",
       "class E10--><a href=\"psysml:ca3e4eae-d888-4010-bdf5-da81d89d1eab\" target=\"_top\" title=\"psysml:ca3e4eae-d888-4010-bdf5-da81d89d1eab\" xlink:actuate=\"onRequest\" xlink:href=\"psysml:ca3e4eae-d888-4010-bdf5-da81d89d1eab\" xlink:show=\"new\" xlink:title=\"psysml:ca3e4eae-d888-4010-bdf5-da81d89d1eab\" xlink:type=\"simple\"><rect fill=\"#FEFECE\" filter=\"url(#f1o93j68yybll)\" height=\"45.9375\" id=\"E10\" rx=\"10\" ry=\"10\" style=\"stroke: #A80036; stroke-width: 1.5;\" width=\"149\" x=\"505.5\" y=\"41\"/><text fill=\"#000000\" font-family=\"sans-serif\" font-size=\"12\" font-style=\"italic\" lengthAdjust=\"spacingAndGlyphs\" textLength=\"147\" x=\"506.5\" y=\"57.1387\">«individual occurrence»</text><text fill=\"#000000\" font-family=\"sans-serif\" font-size=\"12\" lengthAdjust=\"spacingAndGlyphs\" textLength=\"77\" x=\"541.5\" y=\"71.1074\">ind: Ind, Occ</text><line style=\"stroke: #A80036; stroke-width: 1.5;\" x1=\"506.5\" x2=\"653.5\" y1=\"78.9375\" y2=\"78.9375\"/></a><!--MD5=[1dd1bfd58a279cf63c5f349dbc8fc6a1]\n",
       "class E11--><a href=\"psysml:a7aa12fc-e204-4f0a-90f2-9ab0101a123a\" target=\"_top\" title=\"psysml:a7aa12fc-e204-4f0a-90f2-9ab0101a123a\" xlink:actuate=\"onRequest\" xlink:href=\"psysml:a7aa12fc-e204-4f0a-90f2-9ab0101a123a\" xlink:show=\"new\" xlink:title=\"psysml:a7aa12fc-e204-4f0a-90f2-9ab0101a123a\" xlink:type=\"simple\"><rect fill=\"#FEFECE\" filter=\"url(#f1o93j68yybll)\" height=\"45.9375\" id=\"E11\" rx=\"10\" ry=\"10\" style=\"stroke: #A80036; stroke-width: 1.5;\" width=\"150\" x=\"561\" y=\"153.5\"/><text fill=\"#000000\" font-family=\"sans-serif\" font-size=\"12\" font-style=\"italic\" lengthAdjust=\"spacingAndGlyphs\" textLength=\"148\" x=\"562\" y=\"169.6387\">«snapshot occurrence»</text><text fill=\"#000000\" font-family=\"sans-serif\" font-size=\"12\" lengthAdjust=\"spacingAndGlyphs\" textLength=\"15\" x=\"628.5\" y=\"183.6074\">s3</text><line style=\"stroke: #A80036; stroke-width: 1.5;\" x1=\"562\" x2=\"710\" y1=\"191.4375\" y2=\"191.4375\"/></a><!--MD5=[49a0ec8f00dab7302a31f22d0f0fe584]\n",
       "class E12--><a href=\"psysml:5052c3e9-886b-4521-8bf3-18ad9cb470c5\" target=\"_top\" title=\"psysml:5052c3e9-886b-4521-8bf3-18ad9cb470c5\" xlink:actuate=\"onRequest\" xlink:href=\"psysml:5052c3e9-886b-4521-8bf3-18ad9cb470c5\" xlink:show=\"new\" xlink:title=\"psysml:5052c3e9-886b-4521-8bf3-18ad9cb470c5\" xlink:type=\"simple\"><rect fill=\"#FEFECE\" filter=\"url(#f1o93j68yybll)\" height=\"45.9375\" id=\"E12\" rx=\"10\" ry=\"10\" style=\"stroke: #A80036; stroke-width: 1.5;\" width=\"208\" x=\"746\" y=\"153.5\"/><text fill=\"#000000\" font-family=\"sans-serif\" font-size=\"12\" font-style=\"italic\" lengthAdjust=\"spacingAndGlyphs\" textLength=\"206\" x=\"747\" y=\"169.6387\">«individual timeslice occurrence»</text><text fill=\"#000000\" font-family=\"sans-serif\" font-size=\"12\" lengthAdjust=\"spacingAndGlyphs\" textLength=\"13\" x=\"843.5\" y=\"183.6074\">t3</text><line style=\"stroke: #A80036; stroke-width: 1.5;\" x1=\"747\" x2=\"953\" y1=\"191.4375\" y2=\"191.4375\"/></a><!--MD5=[ee3c913d1a06f366521f9ef512b67efe]\n",
       "class E13--><a href=\"psysml:e6d8c0e1-46dd-40c0-98f9-8ea23118f8bb\" target=\"_top\" title=\"psysml:e6d8c0e1-46dd-40c0-98f9-8ea23118f8bb\" xlink:actuate=\"onRequest\" xlink:href=\"psysml:e6d8c0e1-46dd-40c0-98f9-8ea23118f8bb\" xlink:show=\"new\" xlink:title=\"psysml:e6d8c0e1-46dd-40c0-98f9-8ea23118f8bb\" xlink:type=\"simple\"><rect fill=\"#FEFECE\" filter=\"url(#f1o93j68yybll)\" height=\"45.9375\" id=\"E13\" rx=\"10\" ry=\"10\" style=\"stroke: #A80036; stroke-width: 1.5;\" width=\"212\" x=\"32\" y=\"266\"/><text fill=\"#000000\" font-family=\"sans-serif\" font-size=\"12\" font-style=\"italic\" lengthAdjust=\"spacingAndGlyphs\" textLength=\"210\" x=\"33\" y=\"282.1387\">«individual snapshot occurrence»</text><text fill=\"#000000\" font-family=\"sans-serif\" font-size=\"12\" lengthAdjust=\"spacingAndGlyphs\" textLength=\"42\" x=\"117\" y=\"296.1074\">s4: Ind</text><line style=\"stroke: #A80036; stroke-width: 1.5;\" x1=\"33\" x2=\"243\" y1=\"303.9375\" y2=\"303.9375\"/></a><!--MD5=[209b3feb70ccb6233bfe1053d122c12c]\n",
       "reverse link E2 to E3--><a href=\"psysml:816d5179-2674-4631-83bc-f7d71b4237a7\" target=\"_top\" title=\"psysml:816d5179-2674-4631-83bc-f7d71b4237a7\" xlink:actuate=\"onRequest\" xlink:href=\"psysml:816d5179-2674-4631-83bc-f7d71b4237a7\" xlink:show=\"new\" xlink:title=\"psysml:816d5179-2674-4631-83bc-f7d71b4237a7\" xlink:type=\"simple\"><path d=\"M383.23,215.27 C365.37,232.05 346.84,251.23 334.75,265.68 \" fill=\"none\" id=\"E2&lt;-E3\" style=\"stroke: #A80036; stroke-width: 1.0;\"/><polygon fill=\"#FFFFFF\" points=\"393.04,206.24,385.9158,207.3563,384.2062,214.3618,391.3304,213.2455,393.04,206.24\" style=\"stroke: #A80036; stroke-width: 1.0;\"/></a><!--MD5=[05d275557350bfb9b23a4ef7222b4c39]\n",
       "link E3 to E2--><a href=\"psysml:eb3070f5-b0ea-4331-ac23-68f76765f53a\" target=\"_top\" title=\"psysml:eb3070f5-b0ea-4331-ac23-68f76765f53a\" xlink:actuate=\"onRequest\" xlink:href=\"psysml:eb3070f5-b0ea-4331-ac23-68f76765f53a\" xlink:show=\"new\" xlink:title=\"psysml:eb3070f5-b0ea-4331-ac23-68f76765f53a\" xlink:type=\"simple\"><path d=\"M356.31,265.68 C371.09,252.97 388.1,236.6 402.52,221.42 \" fill=\"none\" id=\"E3-&gt;E2\" style=\"stroke: #A80036; stroke-width: 1.0;\"/><polygon fill=\"#FFFFFF\" points=\"416.4,206.24,408.7402,224.9837,398.4105,215.534,416.4,206.24\" style=\"stroke: #A80036; stroke-width: 1.0;\"/><ellipse cx=\"403.4172\" cy=\"227.8394\" fill=\"#A80036\" rx=\"2\" ry=\"2\" style=\"stroke: #A80036; stroke-width: 1.0;\"/><ellipse cx=\"396.0388\" cy=\"221.0896\" fill=\"#A80036\" rx=\"2\" ry=\"2\" style=\"stroke: #A80036; stroke-width: 1.0;\"/></a><!--MD5=[9618e71518536f8baf3342ff6fdab317]\n",
       "reverse link E2 to E4--><a href=\"psysml:0447f336-2e88-4877-9a74-bac22478a75a\" target=\"_top\" title=\"psysml:0447f336-2e88-4877-9a74-bac22478a75a\" xlink:actuate=\"onRequest\" xlink:href=\"psysml:0447f336-2e88-4877-9a74-bac22478a75a\" xlink:show=\"new\" xlink:title=\"psysml:0447f336-2e88-4877-9a74-bac22478a75a\" xlink:type=\"simple\"><path d=\"M425.14,219.51 C426.05,235.22 428.57,252.43 432.1,265.68 \" fill=\"none\" id=\"E2&lt;-E4\" style=\"stroke: #A80036; stroke-width: 1.0;\"/><polygon fill=\"#A80036\" points=\"424.78,206.24,420.9465,212.3477,425.1099,218.2355,428.9434,212.1278,424.78,206.24\" style=\"stroke: #A80036; stroke-width: 1.0;\"/></a><!--MD5=[185131fc0dcab0a4505a2ebe144e961b]\n",
       "link E4 to E2--><a href=\"psysml:bbe7f0c0-75f0-4d42-b38b-c0f55f25890a\" target=\"_top\" title=\"psysml:bbe7f0c0-75f0-4d42-b38b-c0f55f25890a\" xlink:actuate=\"onRequest\" xlink:href=\"psysml:bbe7f0c0-75f0-4d42-b38b-c0f55f25890a\" xlink:show=\"new\" xlink:title=\"psysml:bbe7f0c0-75f0-4d42-b38b-c0f55f25890a\" xlink:type=\"simple\"><path d=\"M453.67,265.68 C454.34,254.31 453.56,240.01 451.71,226.25 \" fill=\"none\" id=\"E4-&gt;E2\" style=\"stroke: #A80036; stroke-width: 1.0;\"/><polygon fill=\"#FFFFFF\" points=\"448.13,206.24,458.3601,223.7141,444.578,226.1745,448.13,206.24\" style=\"stroke: #A80036; stroke-width: 1.0;\"/><ellipse cx=\"457.393\" cy=\"229.6769\" fill=\"#A80036\" rx=\"2\" ry=\"2\" style=\"stroke: #A80036; stroke-width: 1.0;\"/><ellipse cx=\"447.5486\" cy=\"231.4343\" fill=\"#A80036\" rx=\"2\" ry=\"2\" style=\"stroke: #A80036; stroke-width: 1.0;\"/></a><!--MD5=[4e1a83fab71cdb913c109063314ae896]\n",
       "reverse link E2 to E5--><a href=\"psysml:5c44c5f5-a434-4c27-9e5d-4b118f9f4fa1\" target=\"_top\" title=\"psysml:5c44c5f5-a434-4c27-9e5d-4b118f9f4fa1\" xlink:actuate=\"onRequest\" xlink:href=\"psysml:5c44c5f5-a434-4c27-9e5d-4b118f9f4fa1\" xlink:show=\"new\" xlink:title=\"psysml:5c44c5f5-a434-4c27-9e5d-4b118f9f4fa1\" xlink:type=\"simple\"><path d=\"M495.64,212.63 C526.82,230.13 563.56,250.73 590.73,265.97 \" fill=\"none\" id=\"E2&lt;-E5\" style=\"stroke: #A80036; stroke-width: 1.0;\"/><polygon fill=\"#A80036\" points=\"483.99,206.1,487.2684,212.5228,494.458,211.9669,491.1796,205.5441,483.99,206.1\" style=\"stroke: #A80036; stroke-width: 1.0;\"/></a><!--MD5=[ce036f65110ae2351ccce5a81dc2e928]\n",
       "reverse link E2 to E6--><a href=\"psysml:f84da050-0b5f-49f5-998e-9b704fc66ebc\" target=\"_top\" title=\"psysml:f84da050-0b5f-49f5-998e-9b704fc66ebc\" xlink:actuate=\"onRequest\" xlink:href=\"psysml:f84da050-0b5f-49f5-998e-9b704fc66ebc\" xlink:show=\"new\" xlink:title=\"psysml:f84da050-0b5f-49f5-998e-9b704fc66ebc\" xlink:type=\"simple\"><path d=\"M501.08,201.4 C506.11,203.01 511.13,204.56 516,206 C540.38,213.22 681.98,248.22 770.98,270.1 \" fill=\"none\" id=\"E2&lt;-E6\" style=\"stroke: #A80036; stroke-width: 1.0;\"/><polygon fill=\"#A80036\" points=\"488.6,197.32,493.0588,202.9874,500.0051,201.0514,495.5464,195.384,488.6,197.32\" style=\"stroke: #A80036; stroke-width: 1.0;\"/><text fill=\"#000000\" font-family=\"sans-serif\" font-size=\"13\" lengthAdjust=\"spacingAndGlyphs\" textLength=\"7\" x=\"756.0889\" y=\"264.4545\">*</text></a><!--MD5=[3a9b96bfbf6b6ad89c494e81751bda47]\n",
       "link E5 to E7--><a href=\"psysml:5222325c-bb46-4e39-81f0-12dbae43365a\" target=\"_top\" title=\"psysml:5222325c-bb46-4e39-81f0-12dbae43365a\" xlink:actuate=\"onRequest\" xlink:href=\"psysml:5222325c-bb46-4e39-81f0-12dbae43365a\" xlink:show=\"new\" xlink:title=\"psysml:5222325c-bb46-4e39-81f0-12dbae43365a\" xlink:type=\"simple\"><path d=\"M630,312.06 C630,323.64 630,338.23 630,351.87 \" fill=\"none\" id=\"E5-&gt;E7\" style=\"stroke: #A80036; stroke-width: 1.0;\"/><polygon fill=\"#FFFFFF\" points=\"630,371.98,623,352.98,637,352.98,630,371.98\" style=\"stroke: #A80036; stroke-width: 1.0;\"/><ellipse cx=\"625\" cy=\"347.28\" fill=\"#A80036\" rx=\"2\" ry=\"2\" style=\"stroke: #A80036; stroke-width: 1.0;\"/><ellipse cx=\"635\" cy=\"347.28\" fill=\"#A80036\" rx=\"2\" ry=\"2\" style=\"stroke: #A80036; stroke-width: 1.0;\"/></a><!--MD5=[dc164f5e8a733ab456ef1add180e9e34]\n",
       "reverse link E7 to E8--><a href=\"psysml:62bbb331-bb03-464e-9e32-68694608bffc\" target=\"_top\" title=\"psysml:62bbb331-bb03-464e-9e32-68694608bffc\" xlink:actuate=\"onRequest\" xlink:href=\"psysml:62bbb331-bb03-464e-9e32-68694608bffc\" xlink:show=\"new\" xlink:title=\"psysml:62bbb331-bb03-464e-9e32-68694608bffc\" xlink:type=\"simple\"><path d=\"M601.55,428.16 C587.25,444.33 570.28,463.51 557.48,477.98 \" fill=\"none\" id=\"E7&lt;-E8\" style=\"stroke: #A80036; stroke-width: 1.0;\"/><polygon fill=\"#A80036\" points=\"610.49,418.06,603.5177,419.9004,602.5348,427.0442,609.5071,425.2038,610.49,418.06\" style=\"stroke: #A80036; stroke-width: 1.0;\"/><text fill=\"#000000\" font-family=\"sans-serif\" font-size=\"13\" lengthAdjust=\"spacingAndGlyphs\" textLength=\"7\" x=\"554.7746\" y=\"466.8709\">*</text></a><!--MD5=[e4a10ef82d0e328e31cac39a31e58dda]\n",
       "reverse link E7 to E9--><a href=\"psysml:6940b1aa-8c0f-4381-86aa-7b3e10e8c0d6\" target=\"_top\" title=\"psysml:6940b1aa-8c0f-4381-86aa-7b3e10e8c0d6\" xlink:actuate=\"onRequest\" xlink:href=\"psysml:6940b1aa-8c0f-4381-86aa-7b3e10e8c0d6\" xlink:show=\"new\" xlink:title=\"psysml:6940b1aa-8c0f-4381-86aa-7b3e10e8c0d6\" xlink:type=\"simple\"><path d=\"M658.14,428.16 C672.29,444.33 689.07,463.51 701.73,477.98 \" fill=\"none\" id=\"E7&lt;-E9\" style=\"stroke: #A80036; stroke-width: 1.0;\"/><polygon fill=\"#A80036\" points=\"649.3,418.06,650.2496,425.2083,657.2133,427.0811,656.2637,419.9328,649.3,418.06\" style=\"stroke: #A80036; stroke-width: 1.0;\"/><text fill=\"#000000\" font-family=\"sans-serif\" font-size=\"13\" lengthAdjust=\"spacingAndGlyphs\" textLength=\"7\" x=\"688.6106\" y=\"466.8709\">*</text></a><!--MD5=[a919e0967d6f3de553dc51b9865a1d6d]\n",
       "link E10 to E7--><a href=\"psysml:2d47db94-d209-4d22-9eae-73bfc16721f5\" target=\"_top\" title=\"psysml:2d47db94-d209-4d22-9eae-73bfc16721f5\" xlink:actuate=\"onRequest\" xlink:href=\"psysml:2d47db94-d209-4d22-9eae-73bfc16721f5\" xlink:show=\"new\" xlink:title=\"psysml:2d47db94-d209-4d22-9eae-73bfc16721f5\" xlink:type=\"simple\"><path d=\"M563.68,87.04 C543.4,117.34 514.79,171.97 544,206 C658.5,339.41 820.5,132.59 935,266 C997.65,338.99 847.73,371.27 736.59,384.86 \" fill=\"none\" id=\"E10-&gt;E7\" style=\"stroke: #A80036; stroke-width: 1.0;\"/><polygon fill=\"#FFFFFF\" points=\"716.7,387.14,734.7756,378.0147,736.3754,391.923,716.7,387.14\" style=\"stroke: #A80036; stroke-width: 1.0;\"/><ellipse cx=\"740.6668\" cy=\"379.3502\" fill=\"#A80036\" rx=\"2\" ry=\"2\" style=\"stroke: #A80036; stroke-width: 1.0;\"/><ellipse cx=\"741.8096\" cy=\"389.2847\" fill=\"#A80036\" rx=\"2\" ry=\"2\" style=\"stroke: #A80036; stroke-width: 1.0;\"/></a><!--MD5=[0f36bececdf0dff6e600d6f64214b0f1]\n",
       "link E10 to E2--><a href=\"psysml:6622b004-fc37-43f3-bc42-fdfacc696359\" target=\"_top\" title=\"psysml:6622b004-fc37-43f3-bc42-fdfacc696359\" xlink:actuate=\"onRequest\" xlink:href=\"psysml:6622b004-fc37-43f3-bc42-fdfacc696359\" xlink:show=\"new\" xlink:title=\"psysml:6622b004-fc37-43f3-bc42-fdfacc696359\" xlink:type=\"simple\"><path d=\"M550.61,87.1 C532.47,100.73 508.64,118.64 487.18,134.77 \" fill=\"none\" id=\"E10-&gt;E2\" style=\"stroke: #A80036; stroke-width: 1.0;\"/><polygon fill=\"#FFFFFF\" points=\"471,146.93,481.983,129.919,490.3942,141.1106,471,146.93\" style=\"stroke: #A80036; stroke-width: 1.0;\"/><ellipse cx=\"487.7412\" cy=\"128.0932\" fill=\"#A80036\" rx=\"2\" ry=\"2\" style=\"stroke: #A80036; stroke-width: 1.0;\"/><ellipse cx=\"493.7492\" cy=\"136.0872\" fill=\"#A80036\" rx=\"2\" ry=\"2\" style=\"stroke: #A80036; stroke-width: 1.0;\"/></a><!--MD5=[de308be4a2431766a05a907a031c07fc]\n",
       "reverse link E10 to E11--><a href=\"psysml:973d09ca-2c85-400b-8a26-6e03e711a9dc\" target=\"_top\" title=\"psysml:973d09ca-2c85-400b-8a26-6e03e711a9dc\" xlink:actuate=\"onRequest\" xlink:href=\"psysml:973d09ca-2c85-400b-8a26-6e03e711a9dc\" xlink:show=\"new\" xlink:title=\"psysml:973d09ca-2c85-400b-8a26-6e03e711a9dc\" xlink:type=\"simple\"><path d=\"M597.09,98.72 C606.1,116.5 616.89,137.79 624.82,153.44 \" fill=\"none\" id=\"E10&lt;-E11\" style=\"stroke: #A80036; stroke-width: 1.0;\"/><polygon fill=\"#A80036\" points=\"591.2,87.1,590.3513,94.261,596.6351,97.7986,597.4837,90.6376,591.2,87.1\" style=\"stroke: #A80036; stroke-width: 1.0;\"/></a><!--MD5=[1d54f998c6d5961a1a9184be73a7eb6c]\n",
       "reverse link E10 to E12--><a href=\"psysml:4b2dc275-57bf-47aa-bec9-3fe53972a958\" target=\"_top\" title=\"psysml:4b2dc275-57bf-47aa-bec9-3fe53972a958\" xlink:actuate=\"onRequest\" xlink:href=\"psysml:4b2dc275-57bf-47aa-bec9-3fe53972a958\" xlink:show=\"new\" xlink:title=\"psysml:4b2dc275-57bf-47aa-bec9-3fe53972a958\" xlink:type=\"simple\"><path d=\"M646.27,92.12 C692.35,110.98 752.99,135.8 796.1,153.44 \" fill=\"none\" id=\"E10&lt;-E12\" style=\"stroke: #A80036; stroke-width: 1.0;\"/><polygon fill=\"#A80036\" points=\"633.99,87.1,638.0315,93.0721,645.0987,91.6385,641.0572,85.6663,633.99,87.1\" style=\"stroke: #A80036; stroke-width: 1.0;\"/></a><!--MD5=[4a48077df6499cfcd20b62e8f5f37904]\n",
       "link E13 to E7--><a href=\"psysml:99db2ce7-7db4-4747-aea3-ba596a45b862\" target=\"_top\" title=\"psysml:99db2ce7-7db4-4747-aea3-ba596a45b862\" xlink:actuate=\"onRequest\" xlink:href=\"psysml:99db2ce7-7db4-4747-aea3-ba596a45b862\" xlink:show=\"new\" xlink:title=\"psysml:99db2ce7-7db4-4747-aea3-ba596a45b862\" xlink:type=\"simple\"><path d=\"M242.34,312.06 C325.16,329.56 440.49,353.94 523.8,371.55 \" fill=\"none\" id=\"E13-&gt;E7\" style=\"stroke: #A80036; stroke-width: 1.0;\"/><polygon fill=\"#FFFFFF\" points=\"543.45,375.7,523.4123,378.6135,526.3115,364.917,543.45,375.7\" style=\"stroke: #A80036; stroke-width: 1.0;\"/><ellipse cx=\"518.25\" cy=\"375.4765\" fill=\"#A80036\" rx=\"2\" ry=\"2\" style=\"stroke: #A80036; stroke-width: 1.0;\"/><ellipse cx=\"520.3209\" cy=\"365.6933\" fill=\"#A80036\" rx=\"2\" ry=\"2\" style=\"stroke: #A80036; stroke-width: 1.0;\"/></a><!--MD5=[31086e2a164404f5b933eb02d4cbfa60]\n",
       "@startuml\r\n",
       "skinparam wrapWidth 300\r\n",
       "hide circle\r\n",
       "\r\n",
       "package \"OccurrenceTest\" as E1  [[psysml:e6ab502d-dafd-416a-a255-3fa3ad3c263c ]]  {\r\n",
       "comp def \"Occ\" as E2  <<(T,blue) occurrence def>> [[psysml:1203d309-d98c-452c-84ab-9db93e8b8d83 ]] {\r\n",
       "a\r\n",
       "}\r\n",
       "comp usage \"occ1: Occ\" as E3  <<(T,blue) occurrence>> [[psysml:158a345e-3640-4aa1-8638-58b6699698f0 ]] {\r\n",
       "}\r\n",
       "comp usage \"occ2: Occ\" as E4  <<(T,blue) occurrence>> [[psysml:5ccc27c3-07b1-4713-880e-82008912fb62 ]] {\r\n",
       "}\r\n",
       "comp usage \"s: Ind\" as E5  <<(T,blue) individual snapshot occurrence>> [[psysml:b931cfcd-d1f5-4c70-b44c-3b4fd21c9018 ]] {\r\n",
       "}\r\n",
       "comp usage \"t\" as E6  <<(T,blue) timeslice occurrence>> [[psysml:a76dffb5-cb4a-4142-b15c-9dbeb6bd2474 ]] {\r\n",
       "}\r\n",
       "comp def \"Ind\" as E7  <<(T,blue) individual occurrence def>> [[psysml:cddcce1d-840d-4259-9672-1cad32ef9616 ]] {\r\n",
       "}\r\n",
       "comp usage \"s2\" as E8  <<(T,blue) snapshot occurrence>> [[psysml:760118bf-f26e-45fa-9528-0dbdf12ed33d ]] {\r\n",
       "}\r\n",
       "comp usage \"t2\" as E9  <<(T,blue) timeslice occurrence>> [[psysml:6916c4a6-d3e9-4718-9bd3-b4da3843528f ]] {\r\n",
       "}\r\n",
       "comp usage \"ind: Ind, Occ\" as E10  <<(T,blue) individual occurrence>> [[psysml:ca3e4eae-d888-4010-bdf5-da81d89d1eab ]] {\r\n",
       "}\r\n",
       "comp usage \"s3\" as E11  <<(T,blue) snapshot occurrence>> [[psysml:a7aa12fc-e204-4f0a-90f2-9ab0101a123a ]] {\r\n",
       "}\r\n",
       "comp usage \"t3\" as E12  <<(T,blue) individual timeslice occurrence>> [[psysml:5052c3e9-886b-4521-8bf3-18ad9cb470c5 ]] {\r\n",
       "}\r\n",
       "comp usage \"s4: Ind\" as E13  <<(T,blue) individual snapshot occurrence>> [[psysml:e6d8c0e1-46dd-40c0-98f9-8ea23118f8bb ]] {\r\n",
       "}\r\n",
       "}\r\n",
       "E2 o- - E3 [[psysml:816d5179-2674-4631-83bc-f7d71b4237a7 ]] \r\n",
       "E3 - -:|> E2 [[psysml:eb3070f5-b0ea-4331-ac23-68f76765f53a ]] \r\n",
       "E2 *- - E4 [[psysml:0447f336-2e88-4877-9a74-bac22478a75a ]] \r\n",
       "E4 - -:|> E2 [[psysml:bbe7f0c0-75f0-4d42-b38b-c0f55f25890a ]] \r\n",
       "E2 *- - E5 [[psysml:5c44c5f5-a434-4c27-9e5d-4b118f9f4fa1 ]] \r\n",
       "E2 *- - \"*\"E6 [[psysml:f84da050-0b5f-49f5-998e-9b704fc66ebc ]] \r\n",
       "E5 - -:|> E7 [[psysml:5222325c-bb46-4e39-81f0-12dbae43365a ]] \r\n",
       "E7 *- - \"*\"E8 [[psysml:62bbb331-bb03-464e-9e32-68694608bffc ]] \r\n",
       "E7 *- - \"*\"E9 [[psysml:6940b1aa-8c0f-4381-86aa-7b3e10e8c0d6 ]] \r\n",
       "E10 - -:|> E7 [[psysml:2d47db94-d209-4d22-9eae-73bfc16721f5 ]] \r\n",
       "E10 - -:|> E2 [[psysml:6622b004-fc37-43f3-bc42-fdfacc696359 ]] \r\n",
       "E10 *- - E11 [[psysml:973d09ca-2c85-400b-8a26-6e03e711a9dc ]] \r\n",
       "E10 *- - E12 [[psysml:4b2dc275-57bf-47aa-bec9-3fe53972a958 ]] \r\n",
       "E13 - -:|> E7 [[psysml:99db2ce7-7db4-4747-aea3-ba596a45b862 ]] \r\n",
       "@enduml\r\n",
       "\n",
       "PlantUML version 1.2020.13(Sat Jun 13 12:26:38 UTC 2020)\n",
       "(EPL source distribution)\n",
       "Java Runtime: OpenJDK Runtime Environment\n",
       "JVM: OpenJDK 64-Bit Server VM\n",
       "Default Encoding: UTF-8\n",
       "Language: en\n",
       "Country: null\n",
       "--></g></svg>"
      ]
     },
     "execution_count": 24,
     "metadata": {},
     "output_type": "execute_result"
    }
   ],
   "source": [
    "%viz --style=\"STDCOLOR\" --view=\"Tree\" \"OccurrenceTest\""
   ]
  },
  {
   "cell_type": "code",
   "execution_count": 25,
   "id": "99f3b07d",
   "metadata": {
    "execution": {
     "iopub.execute_input": "2021-10-03T08:28:44.137279Z",
     "iopub.status.busy": "2021-10-03T08:28:44.136853Z",
     "iopub.status.idle": "2021-10-03T08:28:44.141694Z",
     "shell.execute_reply": "2021-10-03T08:28:44.141341Z"
    }
   },
   "outputs": [
    {
     "data": {
      "image/svg+xml": [
       "<?xml version=\"1.0\" encoding=\"UTF-8\" standalone=\"no\"?><svg xmlns=\"http://www.w3.org/2000/svg\" xmlns:xlink=\"http://www.w3.org/1999/xlink\" contentScriptType=\"application/ecmascript\" contentStyleType=\"text/css\" height=\"12px\" preserveAspectRatio=\"none\" style=\"width:12px;height:12px;\" version=\"1.1\" viewBox=\"0 0 12 12\" width=\"12px\" zoomAndPan=\"magnify\"><defs/><g><!--MD5=[aeeef50f102b80d730deb6443d14f702]\n",
       "@startuml\r\n",
       "skinparam wrapWidth 300\r\n",
       "hide circle\r\n",
       "\r\n",
       "@enduml\r\n",
       "\n",
       "PlantUML version 1.2020.13(Sat Jun 13 12:26:38 UTC 2020)\n",
       "(EPL source distribution)\n",
       "Java Runtime: OpenJDK Runtime Environment\n",
       "JVM: OpenJDK 64-Bit Server VM\n",
       "Default Encoding: UTF-8\n",
       "Language: en\n",
       "Country: null\n",
       "--></g></svg>"
      ]
     },
     "execution_count": 25,
     "metadata": {},
     "output_type": "execute_result"
    }
   ],
   "source": [
    "%viz --style=\"STDCOLOR\" --view=\"State\" \"OccurrenceTest\""
   ]
  },
  {
   "cell_type": "code",
   "execution_count": 26,
   "id": "7edebefc",
   "metadata": {
    "execution": {
     "iopub.execute_input": "2021-10-03T08:28:44.191111Z",
     "iopub.status.busy": "2021-10-03T08:28:44.190697Z",
     "iopub.status.idle": "2021-10-03T08:28:44.222880Z",
     "shell.execute_reply": "2021-10-03T08:28:44.222550Z"
    }
   },
   "outputs": [
    {
     "data": {
      "image/svg+xml": [
       "<?xml version=\"1.0\" encoding=\"UTF-8\" standalone=\"no\"?><svg xmlns=\"http://www.w3.org/2000/svg\" xmlns:xlink=\"http://www.w3.org/1999/xlink\" contentScriptType=\"application/ecmascript\" contentStyleType=\"text/css\" height=\"195px\" preserveAspectRatio=\"none\" style=\"width:1115px;height:195px;\" version=\"1.1\" viewBox=\"0 0 1115 195\" width=\"1115px\" zoomAndPan=\"magnify\"><defs><filter height=\"300%\" id=\"f1t0mr66f72ylh\" width=\"300%\" x=\"-1\" y=\"-1\"><feGaussianBlur result=\"blurOut\" stdDeviation=\"2.0\"/><feColorMatrix in=\"blurOut\" result=\"blurOut2\" type=\"matrix\" values=\"0 0 0 0 0 0 0 0 0 0 0 0 0 0 0 0 0 0 .4 0\"/><feOffset dx=\"4.0\" dy=\"4.0\" in=\"blurOut2\" result=\"blurOut3\"/><feBlend in=\"SourceGraphic\" in2=\"blurOut3\" mode=\"normal\"/></filter></defs><g><!--MD5=[fbc87193dbaf4d95561dea2c320d4a47]\n",
       "cluster E1--><a href=\"psysml:e6ab502d-dafd-416a-a255-3fa3ad3c263c\" target=\"_top\" title=\"psysml:e6ab502d-dafd-416a-a255-3fa3ad3c263c\" xlink:actuate=\"onRequest\" xlink:href=\"psysml:e6ab502d-dafd-416a-a255-3fa3ad3c263c\" xlink:show=\"new\" xlink:title=\"psysml:e6ab502d-dafd-416a-a255-3fa3ad3c263c\" xlink:type=\"simple\"><polygon fill=\"#FFFFFF\" filter=\"url(#f1t0mr66f72ylh)\" points=\"16,6,134,6,141,28.2969,1093,28.2969,1093,183,16,183,16,6\" style=\"stroke: #000000; stroke-width: 1.5;\"/><line style=\"stroke: #000000; stroke-width: 1.5;\" x1=\"16\" x2=\"141\" y1=\"28.2969\" y2=\"28.2969\"/><text fill=\"#000000\" font-family=\"sans-serif\" font-size=\"14\" font-weight=\"bold\" lengthAdjust=\"spacingAndGlyphs\" textLength=\"112\" x=\"20\" y=\"20.9951\">OccurrenceTest</text></a><!--MD5=[f6df4d0ebaf0b5dfb2ced0ae5af7c670]\n",
       "cluster E4--><a href=\"psysml:ca3e4eae-d888-4010-bdf5-da81d89d1eab\" target=\"_top\" title=\"psysml:ca3e4eae-d888-4010-bdf5-da81d89d1eab\" xlink:actuate=\"onRequest\" xlink:href=\"psysml:ca3e4eae-d888-4010-bdf5-da81d89d1eab\" xlink:show=\"new\" xlink:title=\"psysml:ca3e4eae-d888-4010-bdf5-da81d89d1eab\" xlink:type=\"simple\"><rect fill=\"#FFFFFF\" filter=\"url(#f1t0mr66f72ylh)\" height=\"110\" id=\"E4\" rx=\"10\" ry=\"10\" style=\"stroke: #A80036; stroke-width: 1.5;\" width=\"435\" x=\"634\" y=\"49\"/><rect fill=\"#FEFECE\" height=\"37.9375\" rx=\"10\" ry=\"10\" style=\"stroke: #FEFECE; stroke-width: 1.5;\" width=\"435\" x=\"634\" y=\"49\"/><rect fill=\"#FEFECE\" height=\"10\" style=\"stroke: #FEFECE; stroke-width: 1.5;\" width=\"435\" x=\"634\" y=\"76.9375\"/><rect fill=\"none\" height=\"110\" id=\"E4\" rx=\"10\" ry=\"10\" style=\"stroke: #A80036; stroke-width: 1.5;\" width=\"435\" x=\"634\" y=\"49\"/><text fill=\"#000000\" font-family=\"sans-serif\" font-size=\"12\" font-style=\"italic\" lengthAdjust=\"spacingAndGlyphs\" textLength=\"147\" x=\"778\" y=\"65.1387\">«individual occurrence»</text><text fill=\"#000000\" font-family=\"sans-serif\" font-size=\"12\" lengthAdjust=\"spacingAndGlyphs\" textLength=\"77\" x=\"813\" y=\"79.1074\">ind: Ind, Occ</text><line style=\"stroke: #A80036; stroke-width: 1.0;\" x1=\"634\" x2=\"1069\" y1=\"86.9375\" y2=\"86.9375\"/></a><g id=\"E1.E2\"><a href=\"psysml:1203d309-d98c-452c-84ab-9db93e8b8d83\" target=\"_top\" title=\"psysml:1203d309-d98c-452c-84ab-9db93e8b8d83\" xlink:actuate=\"onRequest\" xlink:href=\"psysml:1203d309-d98c-452c-84ab-9db93e8b8d83\" xlink:show=\"new\" xlink:title=\"psysml:1203d309-d98c-452c-84ab-9db93e8b8d83\" xlink:type=\"simple\"><rect fill=\"#FEFECE\" filter=\"url(#f1t0mr66f72ylh)\" height=\"42.9375\" id=\"E2\" style=\"stroke: #A80036; stroke-width: 1.5;\" width=\"116\" x=\"498\" y=\"100\"/><text fill=\"#000000\" font-family=\"sans-serif\" font-size=\"12\" font-style=\"italic\" lengthAdjust=\"spacingAndGlyphs\" textLength=\"109\" x=\"501.5\" y=\"116.1387\">«occurrence def»</text><text fill=\"#000000\" font-family=\"sans-serif\" font-size=\"12\" lengthAdjust=\"spacingAndGlyphs\" textLength=\"23\" x=\"544.5\" y=\"130.1074\">Occ</text></a></g><g id=\"E1.E3\"><a href=\"psysml:cddcce1d-840d-4259-9672-1cad32ef9616\" target=\"_top\" title=\"psysml:cddcce1d-840d-4259-9672-1cad32ef9616\" xlink:actuate=\"onRequest\" xlink:href=\"psysml:cddcce1d-840d-4259-9672-1cad32ef9616\" xlink:show=\"new\" xlink:title=\"psysml:cddcce1d-840d-4259-9672-1cad32ef9616\" xlink:type=\"simple\"><rect fill=\"#FEFECE\" filter=\"url(#f1t0mr66f72ylh)\" height=\"42.9375\" id=\"E3\" style=\"stroke: #A80036; stroke-width: 1.5;\" width=\"178\" x=\"285\" y=\"100\"/><text fill=\"#000000\" font-family=\"sans-serif\" font-size=\"12\" font-style=\"italic\" lengthAdjust=\"spacingAndGlyphs\" textLength=\"171\" x=\"288.5\" y=\"116.1387\">«individual occurrence def»</text><text fill=\"#000000\" font-family=\"sans-serif\" font-size=\"12\" lengthAdjust=\"spacingAndGlyphs\" textLength=\"19\" x=\"364.5\" y=\"130.1074\">Ind</text></a></g><g id=\"E1.E4.E5\"><a href=\"psysml:a7aa12fc-e204-4f0a-90f2-9ab0101a123a\" target=\"_top\" title=\"psysml:a7aa12fc-e204-4f0a-90f2-9ab0101a123a\" xlink:actuate=\"onRequest\" xlink:href=\"psysml:a7aa12fc-e204-4f0a-90f2-9ab0101a123a\" xlink:show=\"new\" xlink:title=\"psysml:a7aa12fc-e204-4f0a-90f2-9ab0101a123a\" xlink:type=\"simple\"><rect fill=\"#FEFECE\" filter=\"url(#f1t0mr66f72ylh)\" height=\"42.9375\" id=\"E5\" rx=\"10\" ry=\"10\" style=\"stroke: #A80036; stroke-width: 1.5;\" width=\"155\" x=\"897.5\" y=\"100\"/><text fill=\"#000000\" font-family=\"sans-serif\" font-size=\"12\" font-style=\"italic\" lengthAdjust=\"spacingAndGlyphs\" textLength=\"148\" x=\"901\" y=\"116.1387\">«snapshot occurrence»</text><text fill=\"#000000\" font-family=\"sans-serif\" font-size=\"12\" lengthAdjust=\"spacingAndGlyphs\" textLength=\"15\" x=\"967.5\" y=\"130.1074\">s3</text></a></g><g id=\"E1.E4.E6\"><a href=\"psysml:5052c3e9-886b-4521-8bf3-18ad9cb470c5\" target=\"_top\" title=\"psysml:5052c3e9-886b-4521-8bf3-18ad9cb470c5\" xlink:actuate=\"onRequest\" xlink:href=\"psysml:5052c3e9-886b-4521-8bf3-18ad9cb470c5\" xlink:show=\"new\" xlink:title=\"psysml:5052c3e9-886b-4521-8bf3-18ad9cb470c5\" xlink:type=\"simple\"><rect fill=\"#FEFECE\" filter=\"url(#f1t0mr66f72ylh)\" height=\"42.9375\" id=\"E6\" rx=\"10\" ry=\"10\" style=\"stroke: #A80036; stroke-width: 1.5;\" width=\"213\" x=\"649.5\" y=\"100\"/><text fill=\"#000000\" font-family=\"sans-serif\" font-size=\"12\" font-style=\"italic\" lengthAdjust=\"spacingAndGlyphs\" textLength=\"206\" x=\"653\" y=\"116.1387\">«individual timeslice occurrence»</text><text fill=\"#000000\" font-family=\"sans-serif\" font-size=\"12\" lengthAdjust=\"spacingAndGlyphs\" textLength=\"13\" x=\"749.5\" y=\"130.1074\">t3</text></a></g><g id=\"E1.E7\"><a href=\"psysml:e6d8c0e1-46dd-40c0-98f9-8ea23118f8bb\" target=\"_top\" title=\"psysml:e6d8c0e1-46dd-40c0-98f9-8ea23118f8bb\" xlink:actuate=\"onRequest\" xlink:href=\"psysml:e6d8c0e1-46dd-40c0-98f9-8ea23118f8bb\" xlink:show=\"new\" xlink:title=\"psysml:e6d8c0e1-46dd-40c0-98f9-8ea23118f8bb\" xlink:type=\"simple\"><rect fill=\"#FEFECE\" filter=\"url(#f1t0mr66f72ylh)\" height=\"42.9375\" id=\"E7\" rx=\"10\" ry=\"10\" style=\"stroke: #A80036; stroke-width: 1.5;\" width=\"217\" x=\"32.5\" y=\"100\"/><text fill=\"#000000\" font-family=\"sans-serif\" font-size=\"12\" font-style=\"italic\" lengthAdjust=\"spacingAndGlyphs\" textLength=\"210\" x=\"36\" y=\"116.1387\">«individual snapshot occurrence»</text><text fill=\"#000000\" font-family=\"sans-serif\" font-size=\"12\" lengthAdjust=\"spacingAndGlyphs\" textLength=\"42\" x=\"120\" y=\"130.1074\">s4: Ind</text></a></g><!--MD5=[2d3450e8a534ffea4a97946eb3cc6c02]\n",
       "@startuml\r\n",
       "skinparam ranksep 10\r\n",
       "skinparam rectangle {\r\n",
       " backgroundColor<<block>> LightGreen\r\n",
       "}\r\n",
       "skinparam wrapWidth 300\r\n",
       "hide circle\r\n",
       "\r\n",
       "package \"OccurrenceTest\" as E1  [[psysml:e6ab502d-dafd-416a-a255-3fa3ad3c263c ]]  {\r\n",
       "def \"Occ\" as E2  <<(T,blue) occurrence def>> [[psysml:1203d309-d98c-452c-84ab-9db93e8b8d83 ]] \r\n",
       "def \"Ind\" as E3  <<(T,blue) individual occurrence def>> [[psysml:cddcce1d-840d-4259-9672-1cad32ef9616 ]] \r\n",
       "rec usage \"ind: Ind, Occ\" as E4  <<(T,blue) individual occurrence>> [[psysml:ca3e4eae-d888-4010-bdf5-da81d89d1eab ]] {\r\n",
       "rec usage \"s3\" as E5  <<(T,blue) snapshot occurrence>> [[psysml:a7aa12fc-e204-4f0a-90f2-9ab0101a123a ]] {\r\n",
       "}\r\n",
       "rec usage \"t3\" as E6  <<(T,blue) individual timeslice occurrence>> [[psysml:5052c3e9-886b-4521-8bf3-18ad9cb470c5 ]] {\r\n",
       "}\r\n",
       "}\r\n",
       "rec usage \"s4: Ind\" as E7  <<(T,blue) individual snapshot occurrence>> [[psysml:e6d8c0e1-46dd-40c0-98f9-8ea23118f8bb ]] {\r\n",
       "}\r\n",
       "}\r\n",
       "@enduml\r\n",
       "\n",
       "PlantUML version 1.2020.13(Sat Jun 13 12:26:38 UTC 2020)\n",
       "(EPL source distribution)\n",
       "Java Runtime: OpenJDK Runtime Environment\n",
       "JVM: OpenJDK 64-Bit Server VM\n",
       "Default Encoding: UTF-8\n",
       "Language: en\n",
       "Country: null\n",
       "--></g></svg>"
      ]
     },
     "execution_count": 26,
     "metadata": {},
     "output_type": "execute_result"
    }
   ],
   "source": [
    "%viz --style=\"STDCOLOR\" --view=\"Interconnection\" \"OccurrenceTest\""
   ]
  },
  {
   "cell_type": "code",
   "execution_count": 27,
   "id": "86fa8cbb",
   "metadata": {
    "execution": {
     "iopub.execute_input": "2021-10-03T08:28:44.272409Z",
     "iopub.status.busy": "2021-10-03T08:28:44.272006Z",
     "iopub.status.idle": "2021-10-03T08:28:44.276589Z",
     "shell.execute_reply": "2021-10-03T08:28:44.276878Z"
    }
   },
   "outputs": [
    {
     "data": {
      "image/svg+xml": [
       "<?xml version=\"1.0\" encoding=\"UTF-8\" standalone=\"no\"?><svg xmlns=\"http://www.w3.org/2000/svg\" xmlns:xlink=\"http://www.w3.org/1999/xlink\" contentScriptType=\"application/ecmascript\" contentStyleType=\"text/css\" height=\"12px\" preserveAspectRatio=\"none\" style=\"width:12px;height:12px;\" version=\"1.1\" viewBox=\"0 0 12 12\" width=\"12px\" zoomAndPan=\"magnify\"><defs/><g><!--MD5=[9863325348a96a77dacc89509d8ee65e]\n",
       "@startuml\r\n",
       "skinparam ranksep 8\r\n",
       "skinparam wrapWidth 300\r\n",
       "hide circle\r\n",
       "\r\n",
       "@enduml\r\n",
       "\n",
       "PlantUML version 1.2020.13(Sat Jun 13 12:26:38 UTC 2020)\n",
       "(EPL source distribution)\n",
       "Java Runtime: OpenJDK Runtime Environment\n",
       "JVM: OpenJDK 64-Bit Server VM\n",
       "Default Encoding: UTF-8\n",
       "Language: en\n",
       "Country: null\n",
       "--></g></svg>"
      ]
     },
     "execution_count": 27,
     "metadata": {},
     "output_type": "execute_result"
    }
   ],
   "source": [
    "%viz --style=\"STDCOLOR\" --view=\"Action\" \"OccurrenceTest\""
   ]
  },
  {
   "cell_type": "code",
   "execution_count": 28,
   "id": "7279fad7",
   "metadata": {
    "execution": {
     "iopub.execute_input": "2021-10-03T08:28:44.326453Z",
     "iopub.status.busy": "2021-10-03T08:28:44.326051Z",
     "iopub.status.idle": "2021-10-03T08:28:44.330607Z",
     "shell.execute_reply": "2021-10-03T08:28:44.330918Z"
    }
   },
   "outputs": [
    {
     "data": {
      "image/svg+xml": [
       "<?xml version=\"1.0\" encoding=\"UTF-8\" standalone=\"no\"?><svg xmlns=\"http://www.w3.org/2000/svg\" xmlns:xlink=\"http://www.w3.org/1999/xlink\" contentScriptType=\"application/ecmascript\" contentStyleType=\"text/css\" height=\"12px\" preserveAspectRatio=\"none\" style=\"width:12px;height:12px;\" version=\"1.1\" viewBox=\"0 0 12 12\" width=\"12px\" zoomAndPan=\"magnify\"><defs/><g><!--MD5=[6c4bca67b4d71758159a5a7f1f1e1fc2]\n",
       "@startuml\r\n",
       "skinparam roundcorner 20\r\n",
       "skinparam BoxPadding 20\r\n",
       "skinparam SequenceBoxBackgroundColor #white\r\n",
       "skinparam style strictuml\r\n",
       "skinparam maxMessageSize 100\r\n",
       "skinparam wrapWidth 300\r\n",
       "hide circle\r\n",
       "\r\n",
       "@enduml\r\n",
       "\n",
       "PlantUML version 1.2020.13(Sat Jun 13 12:26:38 UTC 2020)\n",
       "(EPL source distribution)\n",
       "Java Runtime: OpenJDK Runtime Environment\n",
       "JVM: OpenJDK 64-Bit Server VM\n",
       "Default Encoding: UTF-8\n",
       "Language: en\n",
       "Country: null\n",
       "--></g></svg>"
      ]
     },
     "execution_count": 28,
     "metadata": {},
     "output_type": "execute_result"
    }
   ],
   "source": [
    "%viz --style=\"STDCOLOR\" --view=\"Sequence\" \"OccurrenceTest\""
   ]
  },
  {
   "cell_type": "code",
   "execution_count": 29,
   "id": "9c2b411f",
   "metadata": {
    "execution": {
     "iopub.execute_input": "2021-10-03T08:28:44.380485Z",
     "iopub.status.busy": "2021-10-03T08:28:44.380083Z",
     "iopub.status.idle": "2021-10-03T08:28:44.440290Z",
     "shell.execute_reply": "2021-10-03T08:28:44.438278Z"
    }
   },
   "outputs": [
    {
     "data": {
      "image/svg+xml": [
       "<?xml version=\"1.0\" encoding=\"UTF-8\" standalone=\"no\"?><svg xmlns=\"http://www.w3.org/2000/svg\" xmlns:xlink=\"http://www.w3.org/1999/xlink\" contentScriptType=\"application/ecmascript\" contentStyleType=\"text/css\" height=\"552px\" preserveAspectRatio=\"none\" style=\"width:1009px;height:552px;\" version=\"1.1\" viewBox=\"0 0 1009 552\" width=\"1009px\" zoomAndPan=\"magnify\"><defs><filter height=\"300%\" id=\"f1o93j68yybll\" width=\"300%\" x=\"-1\" y=\"-1\"><feGaussianBlur result=\"blurOut\" stdDeviation=\"2.0\"/><feColorMatrix in=\"blurOut\" result=\"blurOut2\" type=\"matrix\" values=\"0 0 0 0 0 0 0 0 0 0 0 0 0 0 0 0 0 0 .4 0\"/><feOffset dx=\"4.0\" dy=\"4.0\" in=\"blurOut2\" result=\"blurOut3\"/><feBlend in=\"SourceGraphic\" in2=\"blurOut3\" mode=\"normal\"/></filter></defs><g><!--MD5=[fbc87193dbaf4d95561dea2c320d4a47]\n",
       "cluster E1--><a href=\"psysml:e6ab502d-dafd-416a-a255-3fa3ad3c263c\" target=\"_top\" title=\"psysml:e6ab502d-dafd-416a-a255-3fa3ad3c263c\" xlink:actuate=\"onRequest\" xlink:href=\"psysml:e6ab502d-dafd-416a-a255-3fa3ad3c263c\" xlink:show=\"new\" xlink:title=\"psysml:e6ab502d-dafd-416a-a255-3fa3ad3c263c\" xlink:type=\"simple\"><polygon fill=\"#FFFFFF\" filter=\"url(#f1o93j68yybll)\" points=\"16,6,134,6,141,28.2969,970,28.2969,970,540,16,540,16,6\" style=\"stroke: #000000; stroke-width: 1.5;\"/><line style=\"stroke: #000000; stroke-width: 1.5;\" x1=\"16\" x2=\"141\" y1=\"28.2969\" y2=\"28.2969\"/><text fill=\"#000000\" font-family=\"sans-serif\" font-size=\"14\" font-weight=\"bold\" lengthAdjust=\"spacingAndGlyphs\" textLength=\"112\" x=\"20\" y=\"20.9951\">OccurrenceTest</text></a><!--MD5=[b4997ac47864f28c2f74865a473b2911]\n",
       "class E2--><a href=\"psysml:1203d309-d98c-452c-84ab-9db93e8b8d83\" target=\"_top\" title=\"psysml:1203d309-d98c-452c-84ab-9db93e8b8d83\" xlink:actuate=\"onRequest\" xlink:href=\"psysml:1203d309-d98c-452c-84ab-9db93e8b8d83\" xlink:show=\"new\" xlink:title=\"psysml:1203d309-d98c-452c-84ab-9db93e8b8d83\" xlink:type=\"simple\"><rect fill=\"#FEFECE\" filter=\"url(#f1o93j68yybll)\" height=\"58.7422\" id=\"E2\" style=\"stroke: #A80036; stroke-width: 1.5;\" width=\"111\" x=\"377.5\" y=\"147\"/><text fill=\"#000000\" font-family=\"sans-serif\" font-size=\"12\" font-style=\"italic\" lengthAdjust=\"spacingAndGlyphs\" textLength=\"109\" x=\"378.5\" y=\"163.1387\">«occurrence def»</text><text fill=\"#000000\" font-family=\"sans-serif\" font-size=\"12\" lengthAdjust=\"spacingAndGlyphs\" textLength=\"23\" x=\"421.5\" y=\"177.1074\">Occ</text><line style=\"stroke: #A80036; stroke-width: 1.5;\" x1=\"378.5\" x2=\"487.5\" y1=\"184.9375\" y2=\"184.9375\"/><text fill=\"#000000\" font-family=\"sans-serif\" font-size=\"11\" lengthAdjust=\"spacingAndGlyphs\" textLength=\"7\" x=\"383.5\" y=\"199.1479\">a</text></a><!--MD5=[09b614a08d8cba4a07c9adeb5e0fee81]\n",
       "class E3--><a href=\"psysml:158a345e-3640-4aa1-8638-58b6699698f0\" target=\"_top\" title=\"psysml:158a345e-3640-4aa1-8638-58b6699698f0\" xlink:actuate=\"onRequest\" xlink:href=\"psysml:158a345e-3640-4aa1-8638-58b6699698f0\" xlink:show=\"new\" xlink:title=\"psysml:158a345e-3640-4aa1-8638-58b6699698f0\" xlink:type=\"simple\"><rect fill=\"#FEFECE\" filter=\"url(#f1o93j68yybll)\" height=\"45.9375\" id=\"E3\" rx=\"10\" ry=\"10\" style=\"stroke: #A80036; stroke-width: 1.5;\" width=\"87\" x=\"279.5\" y=\"266\"/><text fill=\"#000000\" font-family=\"sans-serif\" font-size=\"12\" font-style=\"italic\" lengthAdjust=\"spacingAndGlyphs\" textLength=\"85\" x=\"280.5\" y=\"282.1387\">«occurrence»</text><text fill=\"#000000\" font-family=\"sans-serif\" font-size=\"12\" lengthAdjust=\"spacingAndGlyphs\" textLength=\"61\" x=\"292.5\" y=\"296.1074\">occ1: Occ</text><line style=\"stroke: #A80036; stroke-width: 1.5;\" x1=\"280.5\" x2=\"365.5\" y1=\"303.9375\" y2=\"303.9375\"/></a><!--MD5=[ebbe1d658d1005bcc118a6aa81145e00]\n",
       "class E4--><a href=\"psysml:5ccc27c3-07b1-4713-880e-82008912fb62\" target=\"_top\" title=\"psysml:5ccc27c3-07b1-4713-880e-82008912fb62\" xlink:actuate=\"onRequest\" xlink:href=\"psysml:5ccc27c3-07b1-4713-880e-82008912fb62\" xlink:show=\"new\" xlink:title=\"psysml:5ccc27c3-07b1-4713-880e-82008912fb62\" xlink:type=\"simple\"><rect fill=\"#FEFECE\" filter=\"url(#f1o93j68yybll)\" height=\"45.9375\" id=\"E4\" rx=\"10\" ry=\"10\" style=\"stroke: #A80036; stroke-width: 1.5;\" width=\"87\" x=\"401.5\" y=\"266\"/><text fill=\"#000000\" font-family=\"sans-serif\" font-size=\"12\" font-style=\"italic\" lengthAdjust=\"spacingAndGlyphs\" textLength=\"85\" x=\"402.5\" y=\"282.1387\">«occurrence»</text><text fill=\"#000000\" font-family=\"sans-serif\" font-size=\"12\" lengthAdjust=\"spacingAndGlyphs\" textLength=\"61\" x=\"414.5\" y=\"296.1074\">occ2: Occ</text><line style=\"stroke: #A80036; stroke-width: 1.5;\" x1=\"402.5\" x2=\"487.5\" y1=\"303.9375\" y2=\"303.9375\"/></a><!--MD5=[270fce915f116d4de14055a7c1d9a0f3]\n",
       "class E5--><a href=\"psysml:b931cfcd-d1f5-4c70-b44c-3b4fd21c9018\" target=\"_top\" title=\"psysml:b931cfcd-d1f5-4c70-b44c-3b4fd21c9018\" xlink:actuate=\"onRequest\" xlink:href=\"psysml:b931cfcd-d1f5-4c70-b44c-3b4fd21c9018\" xlink:show=\"new\" xlink:title=\"psysml:b931cfcd-d1f5-4c70-b44c-3b4fd21c9018\" xlink:type=\"simple\"><rect fill=\"#FEFECE\" filter=\"url(#f1o93j68yybll)\" height=\"45.9375\" id=\"E5\" rx=\"10\" ry=\"10\" style=\"stroke: #A80036; stroke-width: 1.5;\" width=\"212\" x=\"524\" y=\"266\"/><text fill=\"#000000\" font-family=\"sans-serif\" font-size=\"12\" font-style=\"italic\" lengthAdjust=\"spacingAndGlyphs\" textLength=\"210\" x=\"525\" y=\"282.1387\">«individual snapshot occurrence»</text><text fill=\"#000000\" font-family=\"sans-serif\" font-size=\"12\" lengthAdjust=\"spacingAndGlyphs\" textLength=\"34\" x=\"613\" y=\"296.1074\">s: Ind</text><line style=\"stroke: #A80036; stroke-width: 1.5;\" x1=\"525\" x2=\"735\" y1=\"303.9375\" y2=\"303.9375\"/></a><!--MD5=[60a26617385b1d2d0262a64233df1f8d]\n",
       "class E6--><a href=\"psysml:a76dffb5-cb4a-4142-b15c-9dbeb6bd2474\" target=\"_top\" title=\"psysml:a76dffb5-cb4a-4142-b15c-9dbeb6bd2474\" xlink:actuate=\"onRequest\" xlink:href=\"psysml:a76dffb5-cb4a-4142-b15c-9dbeb6bd2474\" xlink:show=\"new\" xlink:title=\"psysml:a76dffb5-cb4a-4142-b15c-9dbeb6bd2474\" xlink:type=\"simple\"><rect fill=\"#FEFECE\" filter=\"url(#f1o93j68yybll)\" height=\"45.9375\" id=\"E6\" rx=\"10\" ry=\"10\" style=\"stroke: #A80036; stroke-width: 1.5;\" width=\"146\" x=\"771\" y=\"266\"/><text fill=\"#000000\" font-family=\"sans-serif\" font-size=\"12\" font-style=\"italic\" lengthAdjust=\"spacingAndGlyphs\" textLength=\"144\" x=\"772\" y=\"282.1387\">«timeslice occurrence»</text><text fill=\"#000000\" font-family=\"sans-serif\" font-size=\"12\" lengthAdjust=\"spacingAndGlyphs\" textLength=\"5\" x=\"841.5\" y=\"296.1074\">t</text><line style=\"stroke: #A80036; stroke-width: 1.5;\" x1=\"772\" x2=\"916\" y1=\"303.9375\" y2=\"303.9375\"/></a><!--MD5=[2156ba9850f5573cc1fc38a6a4b2f02b]\n",
       "class E7--><a href=\"psysml:cddcce1d-840d-4259-9672-1cad32ef9616\" target=\"_top\" title=\"psysml:cddcce1d-840d-4259-9672-1cad32ef9616\" xlink:actuate=\"onRequest\" xlink:href=\"psysml:cddcce1d-840d-4259-9672-1cad32ef9616\" xlink:show=\"new\" xlink:title=\"psysml:cddcce1d-840d-4259-9672-1cad32ef9616\" xlink:type=\"simple\"><rect fill=\"#FEFECE\" filter=\"url(#f1o93j68yybll)\" height=\"45.9375\" id=\"E7\" style=\"stroke: #A80036; stroke-width: 1.5;\" width=\"173\" x=\"543.5\" y=\"372\"/><text fill=\"#000000\" font-family=\"sans-serif\" font-size=\"12\" font-style=\"italic\" lengthAdjust=\"spacingAndGlyphs\" textLength=\"171\" x=\"544.5\" y=\"388.1387\">«individual occurrence def»</text><text fill=\"#000000\" font-family=\"sans-serif\" font-size=\"12\" lengthAdjust=\"spacingAndGlyphs\" textLength=\"19\" x=\"620.5\" y=\"402.1074\">Ind</text><line style=\"stroke: #A80036; stroke-width: 1.5;\" x1=\"544.5\" x2=\"715.5\" y1=\"409.9375\" y2=\"409.9375\"/></a><!--MD5=[b9389687b975829384b498ac4b7476b2]\n",
       "class E8--><a href=\"psysml:760118bf-f26e-45fa-9528-0dbdf12ed33d\" target=\"_top\" title=\"psysml:760118bf-f26e-45fa-9528-0dbdf12ed33d\" xlink:actuate=\"onRequest\" xlink:href=\"psysml:760118bf-f26e-45fa-9528-0dbdf12ed33d\" xlink:show=\"new\" xlink:title=\"psysml:760118bf-f26e-45fa-9528-0dbdf12ed33d\" xlink:type=\"simple\"><rect fill=\"#FEFECE\" filter=\"url(#f1o93j68yybll)\" height=\"45.9375\" id=\"E8\" rx=\"10\" ry=\"10\" style=\"stroke: #A80036; stroke-width: 1.5;\" width=\"150\" x=\"463\" y=\"478\"/><text fill=\"#000000\" font-family=\"sans-serif\" font-size=\"12\" font-style=\"italic\" lengthAdjust=\"spacingAndGlyphs\" textLength=\"148\" x=\"464\" y=\"494.1387\">«snapshot occurrence»</text><text fill=\"#000000\" font-family=\"sans-serif\" font-size=\"12\" lengthAdjust=\"spacingAndGlyphs\" textLength=\"15\" x=\"530.5\" y=\"508.1074\">s2</text><line style=\"stroke: #A80036; stroke-width: 1.5;\" x1=\"464\" x2=\"612\" y1=\"515.9375\" y2=\"515.9375\"/></a><!--MD5=[fd4143e9d270a159db93a4ea2a975926]\n",
       "class E9--><a href=\"psysml:6916c4a6-d3e9-4718-9bd3-b4da3843528f\" target=\"_top\" title=\"psysml:6916c4a6-d3e9-4718-9bd3-b4da3843528f\" xlink:actuate=\"onRequest\" xlink:href=\"psysml:6916c4a6-d3e9-4718-9bd3-b4da3843528f\" xlink:show=\"new\" xlink:title=\"psysml:6916c4a6-d3e9-4718-9bd3-b4da3843528f\" xlink:type=\"simple\"><rect fill=\"#FEFECE\" filter=\"url(#f1o93j68yybll)\" height=\"45.9375\" id=\"E9\" rx=\"10\" ry=\"10\" style=\"stroke: #A80036; stroke-width: 1.5;\" width=\"146\" x=\"648\" y=\"478\"/><text fill=\"#000000\" font-family=\"sans-serif\" font-size=\"12\" font-style=\"italic\" lengthAdjust=\"spacingAndGlyphs\" textLength=\"144\" x=\"649\" y=\"494.1387\">«timeslice occurrence»</text><text fill=\"#000000\" font-family=\"sans-serif\" font-size=\"12\" lengthAdjust=\"spacingAndGlyphs\" textLength=\"13\" x=\"714.5\" y=\"508.1074\">t2</text><line style=\"stroke: #A80036; stroke-width: 1.5;\" x1=\"649\" x2=\"793\" y1=\"515.9375\" y2=\"515.9375\"/></a><!--MD5=[96f4274e9e20536e775497830990834d]\n",
       "class E10--><a href=\"psysml:ca3e4eae-d888-4010-bdf5-da81d89d1eab\" target=\"_top\" title=\"psysml:ca3e4eae-d888-4010-bdf5-da81d89d1eab\" xlink:actuate=\"onRequest\" xlink:href=\"psysml:ca3e4eae-d888-4010-bdf5-da81d89d1eab\" xlink:show=\"new\" xlink:title=\"psysml:ca3e4eae-d888-4010-bdf5-da81d89d1eab\" xlink:type=\"simple\"><rect fill=\"#FEFECE\" filter=\"url(#f1o93j68yybll)\" height=\"45.9375\" id=\"E10\" rx=\"10\" ry=\"10\" style=\"stroke: #A80036; stroke-width: 1.5;\" width=\"149\" x=\"505.5\" y=\"41\"/><text fill=\"#000000\" font-family=\"sans-serif\" font-size=\"12\" font-style=\"italic\" lengthAdjust=\"spacingAndGlyphs\" textLength=\"147\" x=\"506.5\" y=\"57.1387\">«individual occurrence»</text><text fill=\"#000000\" font-family=\"sans-serif\" font-size=\"12\" lengthAdjust=\"spacingAndGlyphs\" textLength=\"77\" x=\"541.5\" y=\"71.1074\">ind: Ind, Occ</text><line style=\"stroke: #A80036; stroke-width: 1.5;\" x1=\"506.5\" x2=\"653.5\" y1=\"78.9375\" y2=\"78.9375\"/></a><!--MD5=[1dd1bfd58a279cf63c5f349dbc8fc6a1]\n",
       "class E11--><a href=\"psysml:a7aa12fc-e204-4f0a-90f2-9ab0101a123a\" target=\"_top\" title=\"psysml:a7aa12fc-e204-4f0a-90f2-9ab0101a123a\" xlink:actuate=\"onRequest\" xlink:href=\"psysml:a7aa12fc-e204-4f0a-90f2-9ab0101a123a\" xlink:show=\"new\" xlink:title=\"psysml:a7aa12fc-e204-4f0a-90f2-9ab0101a123a\" xlink:type=\"simple\"><rect fill=\"#FEFECE\" filter=\"url(#f1o93j68yybll)\" height=\"45.9375\" id=\"E11\" rx=\"10\" ry=\"10\" style=\"stroke: #A80036; stroke-width: 1.5;\" width=\"150\" x=\"561\" y=\"153.5\"/><text fill=\"#000000\" font-family=\"sans-serif\" font-size=\"12\" font-style=\"italic\" lengthAdjust=\"spacingAndGlyphs\" textLength=\"148\" x=\"562\" y=\"169.6387\">«snapshot occurrence»</text><text fill=\"#000000\" font-family=\"sans-serif\" font-size=\"12\" lengthAdjust=\"spacingAndGlyphs\" textLength=\"15\" x=\"628.5\" y=\"183.6074\">s3</text><line style=\"stroke: #A80036; stroke-width: 1.5;\" x1=\"562\" x2=\"710\" y1=\"191.4375\" y2=\"191.4375\"/></a><!--MD5=[49a0ec8f00dab7302a31f22d0f0fe584]\n",
       "class E12--><a href=\"psysml:5052c3e9-886b-4521-8bf3-18ad9cb470c5\" target=\"_top\" title=\"psysml:5052c3e9-886b-4521-8bf3-18ad9cb470c5\" xlink:actuate=\"onRequest\" xlink:href=\"psysml:5052c3e9-886b-4521-8bf3-18ad9cb470c5\" xlink:show=\"new\" xlink:title=\"psysml:5052c3e9-886b-4521-8bf3-18ad9cb470c5\" xlink:type=\"simple\"><rect fill=\"#FEFECE\" filter=\"url(#f1o93j68yybll)\" height=\"45.9375\" id=\"E12\" rx=\"10\" ry=\"10\" style=\"stroke: #A80036; stroke-width: 1.5;\" width=\"208\" x=\"746\" y=\"153.5\"/><text fill=\"#000000\" font-family=\"sans-serif\" font-size=\"12\" font-style=\"italic\" lengthAdjust=\"spacingAndGlyphs\" textLength=\"206\" x=\"747\" y=\"169.6387\">«individual timeslice occurrence»</text><text fill=\"#000000\" font-family=\"sans-serif\" font-size=\"12\" lengthAdjust=\"spacingAndGlyphs\" textLength=\"13\" x=\"843.5\" y=\"183.6074\">t3</text><line style=\"stroke: #A80036; stroke-width: 1.5;\" x1=\"747\" x2=\"953\" y1=\"191.4375\" y2=\"191.4375\"/></a><!--MD5=[ee3c913d1a06f366521f9ef512b67efe]\n",
       "class E13--><a href=\"psysml:e6d8c0e1-46dd-40c0-98f9-8ea23118f8bb\" target=\"_top\" title=\"psysml:e6d8c0e1-46dd-40c0-98f9-8ea23118f8bb\" xlink:actuate=\"onRequest\" xlink:href=\"psysml:e6d8c0e1-46dd-40c0-98f9-8ea23118f8bb\" xlink:show=\"new\" xlink:title=\"psysml:e6d8c0e1-46dd-40c0-98f9-8ea23118f8bb\" xlink:type=\"simple\"><rect fill=\"#FEFECE\" filter=\"url(#f1o93j68yybll)\" height=\"45.9375\" id=\"E13\" rx=\"10\" ry=\"10\" style=\"stroke: #A80036; stroke-width: 1.5;\" width=\"212\" x=\"32\" y=\"266\"/><text fill=\"#000000\" font-family=\"sans-serif\" font-size=\"12\" font-style=\"italic\" lengthAdjust=\"spacingAndGlyphs\" textLength=\"210\" x=\"33\" y=\"282.1387\">«individual snapshot occurrence»</text><text fill=\"#000000\" font-family=\"sans-serif\" font-size=\"12\" lengthAdjust=\"spacingAndGlyphs\" textLength=\"42\" x=\"117\" y=\"296.1074\">s4: Ind</text><line style=\"stroke: #A80036; stroke-width: 1.5;\" x1=\"33\" x2=\"243\" y1=\"303.9375\" y2=\"303.9375\"/></a><!--MD5=[209b3feb70ccb6233bfe1053d122c12c]\n",
       "reverse link E2 to E3--><a href=\"psysml:816d5179-2674-4631-83bc-f7d71b4237a7\" target=\"_top\" title=\"psysml:816d5179-2674-4631-83bc-f7d71b4237a7\" xlink:actuate=\"onRequest\" xlink:href=\"psysml:816d5179-2674-4631-83bc-f7d71b4237a7\" xlink:show=\"new\" xlink:title=\"psysml:816d5179-2674-4631-83bc-f7d71b4237a7\" xlink:type=\"simple\"><path d=\"M383.23,215.27 C365.37,232.05 346.84,251.23 334.75,265.68 \" fill=\"none\" id=\"E2&lt;-E3\" style=\"stroke: #A80036; stroke-width: 1.0;\"/><polygon fill=\"#FFFFFF\" points=\"393.04,206.24,385.9158,207.3563,384.2062,214.3618,391.3304,213.2455,393.04,206.24\" style=\"stroke: #A80036; stroke-width: 1.0;\"/></a><!--MD5=[05d275557350bfb9b23a4ef7222b4c39]\n",
       "link E3 to E2--><a href=\"psysml:eb3070f5-b0ea-4331-ac23-68f76765f53a\" target=\"_top\" title=\"psysml:eb3070f5-b0ea-4331-ac23-68f76765f53a\" xlink:actuate=\"onRequest\" xlink:href=\"psysml:eb3070f5-b0ea-4331-ac23-68f76765f53a\" xlink:show=\"new\" xlink:title=\"psysml:eb3070f5-b0ea-4331-ac23-68f76765f53a\" xlink:type=\"simple\"><path d=\"M356.31,265.68 C371.09,252.97 388.1,236.6 402.52,221.42 \" fill=\"none\" id=\"E3-&gt;E2\" style=\"stroke: #A80036; stroke-width: 1.0;\"/><polygon fill=\"#FFFFFF\" points=\"416.4,206.24,408.7402,224.9837,398.4105,215.534,416.4,206.24\" style=\"stroke: #A80036; stroke-width: 1.0;\"/><ellipse cx=\"403.4172\" cy=\"227.8394\" fill=\"#A80036\" rx=\"2\" ry=\"2\" style=\"stroke: #A80036; stroke-width: 1.0;\"/><ellipse cx=\"396.0388\" cy=\"221.0896\" fill=\"#A80036\" rx=\"2\" ry=\"2\" style=\"stroke: #A80036; stroke-width: 1.0;\"/></a><!--MD5=[9618e71518536f8baf3342ff6fdab317]\n",
       "reverse link E2 to E4--><a href=\"psysml:0447f336-2e88-4877-9a74-bac22478a75a\" target=\"_top\" title=\"psysml:0447f336-2e88-4877-9a74-bac22478a75a\" xlink:actuate=\"onRequest\" xlink:href=\"psysml:0447f336-2e88-4877-9a74-bac22478a75a\" xlink:show=\"new\" xlink:title=\"psysml:0447f336-2e88-4877-9a74-bac22478a75a\" xlink:type=\"simple\"><path d=\"M425.14,219.51 C426.05,235.22 428.57,252.43 432.1,265.68 \" fill=\"none\" id=\"E2&lt;-E4\" style=\"stroke: #A80036; stroke-width: 1.0;\"/><polygon fill=\"#A80036\" points=\"424.78,206.24,420.9465,212.3477,425.1099,218.2355,428.9434,212.1278,424.78,206.24\" style=\"stroke: #A80036; stroke-width: 1.0;\"/></a><!--MD5=[185131fc0dcab0a4505a2ebe144e961b]\n",
       "link E4 to E2--><a href=\"psysml:bbe7f0c0-75f0-4d42-b38b-c0f55f25890a\" target=\"_top\" title=\"psysml:bbe7f0c0-75f0-4d42-b38b-c0f55f25890a\" xlink:actuate=\"onRequest\" xlink:href=\"psysml:bbe7f0c0-75f0-4d42-b38b-c0f55f25890a\" xlink:show=\"new\" xlink:title=\"psysml:bbe7f0c0-75f0-4d42-b38b-c0f55f25890a\" xlink:type=\"simple\"><path d=\"M453.67,265.68 C454.34,254.31 453.56,240.01 451.71,226.25 \" fill=\"none\" id=\"E4-&gt;E2\" style=\"stroke: #A80036; stroke-width: 1.0;\"/><polygon fill=\"#FFFFFF\" points=\"448.13,206.24,458.3601,223.7141,444.578,226.1745,448.13,206.24\" style=\"stroke: #A80036; stroke-width: 1.0;\"/><ellipse cx=\"457.393\" cy=\"229.6769\" fill=\"#A80036\" rx=\"2\" ry=\"2\" style=\"stroke: #A80036; stroke-width: 1.0;\"/><ellipse cx=\"447.5486\" cy=\"231.4343\" fill=\"#A80036\" rx=\"2\" ry=\"2\" style=\"stroke: #A80036; stroke-width: 1.0;\"/></a><!--MD5=[4e1a83fab71cdb913c109063314ae896]\n",
       "reverse link E2 to E5--><a href=\"psysml:5c44c5f5-a434-4c27-9e5d-4b118f9f4fa1\" target=\"_top\" title=\"psysml:5c44c5f5-a434-4c27-9e5d-4b118f9f4fa1\" xlink:actuate=\"onRequest\" xlink:href=\"psysml:5c44c5f5-a434-4c27-9e5d-4b118f9f4fa1\" xlink:show=\"new\" xlink:title=\"psysml:5c44c5f5-a434-4c27-9e5d-4b118f9f4fa1\" xlink:type=\"simple\"><path d=\"M495.64,212.63 C526.82,230.13 563.56,250.73 590.73,265.97 \" fill=\"none\" id=\"E2&lt;-E5\" style=\"stroke: #A80036; stroke-width: 1.0;\"/><polygon fill=\"#A80036\" points=\"483.99,206.1,487.2684,212.5228,494.458,211.9669,491.1796,205.5441,483.99,206.1\" style=\"stroke: #A80036; stroke-width: 1.0;\"/></a><!--MD5=[ce036f65110ae2351ccce5a81dc2e928]\n",
       "reverse link E2 to E6--><a href=\"psysml:f84da050-0b5f-49f5-998e-9b704fc66ebc\" target=\"_top\" title=\"psysml:f84da050-0b5f-49f5-998e-9b704fc66ebc\" xlink:actuate=\"onRequest\" xlink:href=\"psysml:f84da050-0b5f-49f5-998e-9b704fc66ebc\" xlink:show=\"new\" xlink:title=\"psysml:f84da050-0b5f-49f5-998e-9b704fc66ebc\" xlink:type=\"simple\"><path d=\"M501.08,201.4 C506.11,203.01 511.13,204.56 516,206 C540.38,213.22 681.98,248.22 770.98,270.1 \" fill=\"none\" id=\"E2&lt;-E6\" style=\"stroke: #A80036; stroke-width: 1.0;\"/><polygon fill=\"#A80036\" points=\"488.6,197.32,493.0588,202.9874,500.0051,201.0514,495.5464,195.384,488.6,197.32\" style=\"stroke: #A80036; stroke-width: 1.0;\"/><text fill=\"#000000\" font-family=\"sans-serif\" font-size=\"13\" lengthAdjust=\"spacingAndGlyphs\" textLength=\"7\" x=\"756.0889\" y=\"264.4545\">*</text></a><!--MD5=[3a9b96bfbf6b6ad89c494e81751bda47]\n",
       "link E5 to E7--><a href=\"psysml:5222325c-bb46-4e39-81f0-12dbae43365a\" target=\"_top\" title=\"psysml:5222325c-bb46-4e39-81f0-12dbae43365a\" xlink:actuate=\"onRequest\" xlink:href=\"psysml:5222325c-bb46-4e39-81f0-12dbae43365a\" xlink:show=\"new\" xlink:title=\"psysml:5222325c-bb46-4e39-81f0-12dbae43365a\" xlink:type=\"simple\"><path d=\"M630,312.06 C630,323.64 630,338.23 630,351.87 \" fill=\"none\" id=\"E5-&gt;E7\" style=\"stroke: #A80036; stroke-width: 1.0;\"/><polygon fill=\"#FFFFFF\" points=\"630,371.98,623,352.98,637,352.98,630,371.98\" style=\"stroke: #A80036; stroke-width: 1.0;\"/><ellipse cx=\"625\" cy=\"347.28\" fill=\"#A80036\" rx=\"2\" ry=\"2\" style=\"stroke: #A80036; stroke-width: 1.0;\"/><ellipse cx=\"635\" cy=\"347.28\" fill=\"#A80036\" rx=\"2\" ry=\"2\" style=\"stroke: #A80036; stroke-width: 1.0;\"/></a><!--MD5=[dc164f5e8a733ab456ef1add180e9e34]\n",
       "reverse link E7 to E8--><a href=\"psysml:62bbb331-bb03-464e-9e32-68694608bffc\" target=\"_top\" title=\"psysml:62bbb331-bb03-464e-9e32-68694608bffc\" xlink:actuate=\"onRequest\" xlink:href=\"psysml:62bbb331-bb03-464e-9e32-68694608bffc\" xlink:show=\"new\" xlink:title=\"psysml:62bbb331-bb03-464e-9e32-68694608bffc\" xlink:type=\"simple\"><path d=\"M601.55,428.16 C587.25,444.33 570.28,463.51 557.48,477.98 \" fill=\"none\" id=\"E7&lt;-E8\" style=\"stroke: #A80036; stroke-width: 1.0;\"/><polygon fill=\"#A80036\" points=\"610.49,418.06,603.5177,419.9004,602.5348,427.0442,609.5071,425.2038,610.49,418.06\" style=\"stroke: #A80036; stroke-width: 1.0;\"/><text fill=\"#000000\" font-family=\"sans-serif\" font-size=\"13\" lengthAdjust=\"spacingAndGlyphs\" textLength=\"7\" x=\"554.7746\" y=\"466.8709\">*</text></a><!--MD5=[e4a10ef82d0e328e31cac39a31e58dda]\n",
       "reverse link E7 to E9--><a href=\"psysml:6940b1aa-8c0f-4381-86aa-7b3e10e8c0d6\" target=\"_top\" title=\"psysml:6940b1aa-8c0f-4381-86aa-7b3e10e8c0d6\" xlink:actuate=\"onRequest\" xlink:href=\"psysml:6940b1aa-8c0f-4381-86aa-7b3e10e8c0d6\" xlink:show=\"new\" xlink:title=\"psysml:6940b1aa-8c0f-4381-86aa-7b3e10e8c0d6\" xlink:type=\"simple\"><path d=\"M658.14,428.16 C672.29,444.33 689.07,463.51 701.73,477.98 \" fill=\"none\" id=\"E7&lt;-E9\" style=\"stroke: #A80036; stroke-width: 1.0;\"/><polygon fill=\"#A80036\" points=\"649.3,418.06,650.2496,425.2083,657.2133,427.0811,656.2637,419.9328,649.3,418.06\" style=\"stroke: #A80036; stroke-width: 1.0;\"/><text fill=\"#000000\" font-family=\"sans-serif\" font-size=\"13\" lengthAdjust=\"spacingAndGlyphs\" textLength=\"7\" x=\"688.6106\" y=\"466.8709\">*</text></a><!--MD5=[a919e0967d6f3de553dc51b9865a1d6d]\n",
       "link E10 to E7--><a href=\"psysml:2d47db94-d209-4d22-9eae-73bfc16721f5\" target=\"_top\" title=\"psysml:2d47db94-d209-4d22-9eae-73bfc16721f5\" xlink:actuate=\"onRequest\" xlink:href=\"psysml:2d47db94-d209-4d22-9eae-73bfc16721f5\" xlink:show=\"new\" xlink:title=\"psysml:2d47db94-d209-4d22-9eae-73bfc16721f5\" xlink:type=\"simple\"><path d=\"M563.68,87.04 C543.4,117.34 514.79,171.97 544,206 C658.5,339.41 820.5,132.59 935,266 C997.65,338.99 847.73,371.27 736.59,384.86 \" fill=\"none\" id=\"E10-&gt;E7\" style=\"stroke: #A80036; stroke-width: 1.0;\"/><polygon fill=\"#FFFFFF\" points=\"716.7,387.14,734.7756,378.0147,736.3754,391.923,716.7,387.14\" style=\"stroke: #A80036; stroke-width: 1.0;\"/><ellipse cx=\"740.6668\" cy=\"379.3502\" fill=\"#A80036\" rx=\"2\" ry=\"2\" style=\"stroke: #A80036; stroke-width: 1.0;\"/><ellipse cx=\"741.8096\" cy=\"389.2847\" fill=\"#A80036\" rx=\"2\" ry=\"2\" style=\"stroke: #A80036; stroke-width: 1.0;\"/></a><!--MD5=[0f36bececdf0dff6e600d6f64214b0f1]\n",
       "link E10 to E2--><a href=\"psysml:6622b004-fc37-43f3-bc42-fdfacc696359\" target=\"_top\" title=\"psysml:6622b004-fc37-43f3-bc42-fdfacc696359\" xlink:actuate=\"onRequest\" xlink:href=\"psysml:6622b004-fc37-43f3-bc42-fdfacc696359\" xlink:show=\"new\" xlink:title=\"psysml:6622b004-fc37-43f3-bc42-fdfacc696359\" xlink:type=\"simple\"><path d=\"M550.61,87.1 C532.47,100.73 508.64,118.64 487.18,134.77 \" fill=\"none\" id=\"E10-&gt;E2\" style=\"stroke: #A80036; stroke-width: 1.0;\"/><polygon fill=\"#FFFFFF\" points=\"471,146.93,481.983,129.919,490.3942,141.1106,471,146.93\" style=\"stroke: #A80036; stroke-width: 1.0;\"/><ellipse cx=\"487.7412\" cy=\"128.0932\" fill=\"#A80036\" rx=\"2\" ry=\"2\" style=\"stroke: #A80036; stroke-width: 1.0;\"/><ellipse cx=\"493.7492\" cy=\"136.0872\" fill=\"#A80036\" rx=\"2\" ry=\"2\" style=\"stroke: #A80036; stroke-width: 1.0;\"/></a><!--MD5=[de308be4a2431766a05a907a031c07fc]\n",
       "reverse link E10 to E11--><a href=\"psysml:973d09ca-2c85-400b-8a26-6e03e711a9dc\" target=\"_top\" title=\"psysml:973d09ca-2c85-400b-8a26-6e03e711a9dc\" xlink:actuate=\"onRequest\" xlink:href=\"psysml:973d09ca-2c85-400b-8a26-6e03e711a9dc\" xlink:show=\"new\" xlink:title=\"psysml:973d09ca-2c85-400b-8a26-6e03e711a9dc\" xlink:type=\"simple\"><path d=\"M597.09,98.72 C606.1,116.5 616.89,137.79 624.82,153.44 \" fill=\"none\" id=\"E10&lt;-E11\" style=\"stroke: #A80036; stroke-width: 1.0;\"/><polygon fill=\"#A80036\" points=\"591.2,87.1,590.3513,94.261,596.6351,97.7986,597.4837,90.6376,591.2,87.1\" style=\"stroke: #A80036; stroke-width: 1.0;\"/></a><!--MD5=[1d54f998c6d5961a1a9184be73a7eb6c]\n",
       "reverse link E10 to E12--><a href=\"psysml:4b2dc275-57bf-47aa-bec9-3fe53972a958\" target=\"_top\" title=\"psysml:4b2dc275-57bf-47aa-bec9-3fe53972a958\" xlink:actuate=\"onRequest\" xlink:href=\"psysml:4b2dc275-57bf-47aa-bec9-3fe53972a958\" xlink:show=\"new\" xlink:title=\"psysml:4b2dc275-57bf-47aa-bec9-3fe53972a958\" xlink:type=\"simple\"><path d=\"M646.27,92.12 C692.35,110.98 752.99,135.8 796.1,153.44 \" fill=\"none\" id=\"E10&lt;-E12\" style=\"stroke: #A80036; stroke-width: 1.0;\"/><polygon fill=\"#A80036\" points=\"633.99,87.1,638.0315,93.0721,645.0987,91.6385,641.0572,85.6663,633.99,87.1\" style=\"stroke: #A80036; stroke-width: 1.0;\"/></a><!--MD5=[4a48077df6499cfcd20b62e8f5f37904]\n",
       "link E13 to E7--><a href=\"psysml:99db2ce7-7db4-4747-aea3-ba596a45b862\" target=\"_top\" title=\"psysml:99db2ce7-7db4-4747-aea3-ba596a45b862\" xlink:actuate=\"onRequest\" xlink:href=\"psysml:99db2ce7-7db4-4747-aea3-ba596a45b862\" xlink:show=\"new\" xlink:title=\"psysml:99db2ce7-7db4-4747-aea3-ba596a45b862\" xlink:type=\"simple\"><path d=\"M242.34,312.06 C325.16,329.56 440.49,353.94 523.8,371.55 \" fill=\"none\" id=\"E13-&gt;E7\" style=\"stroke: #A80036; stroke-width: 1.0;\"/><polygon fill=\"#FFFFFF\" points=\"543.45,375.7,523.4123,378.6135,526.3115,364.917,543.45,375.7\" style=\"stroke: #A80036; stroke-width: 1.0;\"/><ellipse cx=\"518.25\" cy=\"375.4765\" fill=\"#A80036\" rx=\"2\" ry=\"2\" style=\"stroke: #A80036; stroke-width: 1.0;\"/><ellipse cx=\"520.3209\" cy=\"365.6933\" fill=\"#A80036\" rx=\"2\" ry=\"2\" style=\"stroke: #A80036; stroke-width: 1.0;\"/></a><!--MD5=[31086e2a164404f5b933eb02d4cbfa60]\n",
       "@startuml\r\n",
       "skinparam wrapWidth 300\r\n",
       "hide circle\r\n",
       "\r\n",
       "package \"OccurrenceTest\" as E1  [[psysml:e6ab502d-dafd-416a-a255-3fa3ad3c263c ]]  {\r\n",
       "comp def \"Occ\" as E2  <<(T,blue) occurrence def>> [[psysml:1203d309-d98c-452c-84ab-9db93e8b8d83 ]] {\r\n",
       "a\r\n",
       "}\r\n",
       "comp usage \"occ1: Occ\" as E3  <<(T,blue) occurrence>> [[psysml:158a345e-3640-4aa1-8638-58b6699698f0 ]] {\r\n",
       "}\r\n",
       "comp usage \"occ2: Occ\" as E4  <<(T,blue) occurrence>> [[psysml:5ccc27c3-07b1-4713-880e-82008912fb62 ]] {\r\n",
       "}\r\n",
       "comp usage \"s: Ind\" as E5  <<(T,blue) individual snapshot occurrence>> [[psysml:b931cfcd-d1f5-4c70-b44c-3b4fd21c9018 ]] {\r\n",
       "}\r\n",
       "comp usage \"t\" as E6  <<(T,blue) timeslice occurrence>> [[psysml:a76dffb5-cb4a-4142-b15c-9dbeb6bd2474 ]] {\r\n",
       "}\r\n",
       "comp def \"Ind\" as E7  <<(T,blue) individual occurrence def>> [[psysml:cddcce1d-840d-4259-9672-1cad32ef9616 ]] {\r\n",
       "}\r\n",
       "comp usage \"s2\" as E8  <<(T,blue) snapshot occurrence>> [[psysml:760118bf-f26e-45fa-9528-0dbdf12ed33d ]] {\r\n",
       "}\r\n",
       "comp usage \"t2\" as E9  <<(T,blue) timeslice occurrence>> [[psysml:6916c4a6-d3e9-4718-9bd3-b4da3843528f ]] {\r\n",
       "}\r\n",
       "comp usage \"ind: Ind, Occ\" as E10  <<(T,blue) individual occurrence>> [[psysml:ca3e4eae-d888-4010-bdf5-da81d89d1eab ]] {\r\n",
       "}\r\n",
       "comp usage \"s3\" as E11  <<(T,blue) snapshot occurrence>> [[psysml:a7aa12fc-e204-4f0a-90f2-9ab0101a123a ]] {\r\n",
       "}\r\n",
       "comp usage \"t3\" as E12  <<(T,blue) individual timeslice occurrence>> [[psysml:5052c3e9-886b-4521-8bf3-18ad9cb470c5 ]] {\r\n",
       "}\r\n",
       "comp usage \"s4: Ind\" as E13  <<(T,blue) individual snapshot occurrence>> [[psysml:e6d8c0e1-46dd-40c0-98f9-8ea23118f8bb ]] {\r\n",
       "}\r\n",
       "}\r\n",
       "E2 o- - E3 [[psysml:816d5179-2674-4631-83bc-f7d71b4237a7 ]] \r\n",
       "E3 - -:|> E2 [[psysml:eb3070f5-b0ea-4331-ac23-68f76765f53a ]] \r\n",
       "E2 *- - E4 [[psysml:0447f336-2e88-4877-9a74-bac22478a75a ]] \r\n",
       "E4 - -:|> E2 [[psysml:bbe7f0c0-75f0-4d42-b38b-c0f55f25890a ]] \r\n",
       "E2 *- - E5 [[psysml:5c44c5f5-a434-4c27-9e5d-4b118f9f4fa1 ]] \r\n",
       "E2 *- - \"*\"E6 [[psysml:f84da050-0b5f-49f5-998e-9b704fc66ebc ]] \r\n",
       "E5 - -:|> E7 [[psysml:5222325c-bb46-4e39-81f0-12dbae43365a ]] \r\n",
       "E7 *- - \"*\"E8 [[psysml:62bbb331-bb03-464e-9e32-68694608bffc ]] \r\n",
       "E7 *- - \"*\"E9 [[psysml:6940b1aa-8c0f-4381-86aa-7b3e10e8c0d6 ]] \r\n",
       "E10 - -:|> E7 [[psysml:2d47db94-d209-4d22-9eae-73bfc16721f5 ]] \r\n",
       "E10 - -:|> E2 [[psysml:6622b004-fc37-43f3-bc42-fdfacc696359 ]] \r\n",
       "E10 *- - E11 [[psysml:973d09ca-2c85-400b-8a26-6e03e711a9dc ]] \r\n",
       "E10 *- - E12 [[psysml:4b2dc275-57bf-47aa-bec9-3fe53972a958 ]] \r\n",
       "E13 - -:|> E7 [[psysml:99db2ce7-7db4-4747-aea3-ba596a45b862 ]] \r\n",
       "@enduml\r\n",
       "\n",
       "PlantUML version 1.2020.13(Sat Jun 13 12:26:38 UTC 2020)\n",
       "(EPL source distribution)\n",
       "Java Runtime: OpenJDK Runtime Environment\n",
       "JVM: OpenJDK 64-Bit Server VM\n",
       "Default Encoding: UTF-8\n",
       "Language: en\n",
       "Country: null\n",
       "--></g></svg>"
      ]
     },
     "execution_count": 29,
     "metadata": {},
     "output_type": "execute_result"
    }
   ],
   "source": [
    "%viz --style=\"STDCOLOR\" --view=\"MIXED\" \"OccurrenceTest\""
   ]
  },
  {
   "cell_type": "code",
   "execution_count": 30,
   "id": "8430489a",
   "metadata": {
    "execution": {
     "iopub.execute_input": "2021-10-03T08:28:44.489004Z",
     "iopub.status.busy": "2021-10-03T08:28:44.488605Z",
     "iopub.status.idle": "2021-10-03T08:28:44.557704Z",
     "shell.execute_reply": "2021-10-03T08:28:44.557350Z"
    }
   },
   "outputs": [
    {
     "data": {
      "image/svg+xml": [
       "<?xml version=\"1.0\" encoding=\"UTF-8\" standalone=\"no\"?><svg xmlns=\"http://www.w3.org/2000/svg\" xmlns:xlink=\"http://www.w3.org/1999/xlink\" contentScriptType=\"application/ecmascript\" contentStyleType=\"text/css\" height=\"552px\" preserveAspectRatio=\"none\" style=\"width:813px;height:552px;\" version=\"1.1\" viewBox=\"0 0 813 552\" width=\"813px\" zoomAndPan=\"magnify\"><defs><filter height=\"300%\" id=\"faydpvk6eseuc\" width=\"300%\" x=\"-1\" y=\"-1\"><feGaussianBlur result=\"blurOut\" stdDeviation=\"2.0\"/><feColorMatrix in=\"blurOut\" result=\"blurOut2\" type=\"matrix\" values=\"0 0 0 0 0 0 0 0 0 0 0 0 0 0 0 0 0 0 .4 0\"/><feOffset dx=\"4.0\" dy=\"4.0\" in=\"blurOut2\" result=\"blurOut3\"/><feBlend in=\"SourceGraphic\" in2=\"blurOut3\" mode=\"normal\"/></filter></defs><g><!--MD5=[fbc87193dbaf4d95561dea2c320d4a47]\n",
       "cluster E1--><a href=\"psysml:e6ab502d-dafd-416a-a255-3fa3ad3c263c\" target=\"_top\" title=\"psysml:e6ab502d-dafd-416a-a255-3fa3ad3c263c\" xlink:actuate=\"onRequest\" xlink:href=\"psysml:e6ab502d-dafd-416a-a255-3fa3ad3c263c\" xlink:show=\"new\" xlink:title=\"psysml:e6ab502d-dafd-416a-a255-3fa3ad3c263c\" xlink:type=\"simple\"><polygon fill=\"#FFFFFF\" filter=\"url(#faydpvk6eseuc)\" points=\"16,6,134,6,141,28.2969,791,28.2969,791,540,16,540,16,6\" style=\"stroke: #000000; stroke-width: 1.5;\"/><line style=\"stroke: #000000; stroke-width: 1.5;\" x1=\"16\" x2=\"141\" y1=\"28.2969\" y2=\"28.2969\"/><text fill=\"#000000\" font-family=\"sans-serif\" font-size=\"14\" font-weight=\"bold\" lengthAdjust=\"spacingAndGlyphs\" textLength=\"112\" x=\"20\" y=\"20.9951\">OccurrenceTest</text></a><!--MD5=[b4997ac47864f28c2f74865a473b2911]\n",
       "class E2--><a href=\"psysml:1203d309-d98c-452c-84ab-9db93e8b8d83\" target=\"_top\" title=\"psysml:1203d309-d98c-452c-84ab-9db93e8b8d83\" xlink:actuate=\"onRequest\" xlink:href=\"psysml:1203d309-d98c-452c-84ab-9db93e8b8d83\" xlink:show=\"new\" xlink:title=\"psysml:1203d309-d98c-452c-84ab-9db93e8b8d83\" xlink:type=\"simple\"><rect fill=\"#FEFECE\" filter=\"url(#faydpvk6eseuc)\" height=\"58.7422\" id=\"E2\" style=\"stroke: #A80036; stroke-width: 1.5;\" width=\"137\" x=\"303.5\" y=\"147\"/><ellipse cx=\"318.5\" cy=\"165.9688\" fill=\"#A52A2A\" rx=\"11\" ry=\"11\" style=\"stroke: #A80036; stroke-width: 1.0;\"/><path d=\"M315.7188,170.9688 L315.7188,160.375 L318.4531,160.375 Q319.8438,160.375 320.6094,160.7656 Q321.3906,161.1406 321.9219,161.8438 Q322.4531,162.5469 322.75,163.5469 Q323.0469,164.5313 323.0469,165.75 Q323,167.3438 322.5,168.5313 Q322.0156,169.7031 320.9688,170.3438 Q319.9375,170.9688 318.25,170.9688 L315.7188,170.9688 Z M317.5781,169.4688 L318.2031,169.4688 Q319.2813,169.4688 319.9375,169.0156 Q320.5938,168.5625 320.875,167.7344 Q321.1719,166.8906 321.1563,165.7656 Q321.1563,164.5938 320.9063,163.7344 Q320.6563,162.8594 320.0469,162.3906 Q319.4375,161.9063 318.3906,161.9063 L317.5781,161.9063 L317.5781,169.4688 Z \"/><text fill=\"#000000\" font-family=\"sans-serif\" font-size=\"12\" font-style=\"italic\" lengthAdjust=\"spacingAndGlyphs\" textLength=\"109\" x=\"330.5\" y=\"163.1387\">«occurrence def»</text><text fill=\"#000000\" font-family=\"sans-serif\" font-size=\"12\" lengthAdjust=\"spacingAndGlyphs\" textLength=\"23\" x=\"373.5\" y=\"177.1074\">Occ</text><line style=\"stroke: #A80036; stroke-width: 1.5;\" x1=\"304.5\" x2=\"439.5\" y1=\"184.9375\" y2=\"184.9375\"/><text fill=\"#000000\" font-family=\"sans-serif\" font-size=\"11\" lengthAdjust=\"spacingAndGlyphs\" textLength=\"7\" x=\"309.5\" y=\"199.1479\">a</text></a><!--MD5=[09b614a08d8cba4a07c9adeb5e0fee81]\n",
       "class E3--><a href=\"psysml:158a345e-3640-4aa1-8638-58b6699698f0\" target=\"_top\" title=\"psysml:158a345e-3640-4aa1-8638-58b6699698f0\" xlink:actuate=\"onRequest\" xlink:href=\"psysml:158a345e-3640-4aa1-8638-58b6699698f0\" xlink:show=\"new\" xlink:title=\"psysml:158a345e-3640-4aa1-8638-58b6699698f0\" xlink:type=\"simple\"><rect fill=\"#FEFECE\" filter=\"url(#faydpvk6eseuc)\" height=\"45.9375\" id=\"E3\" rx=\"10\" ry=\"10\" style=\"stroke: #A80036; stroke-width: 1.5;\" width=\"113\" x=\"180.5\" y=\"266\"/><ellipse cx=\"195.5\" cy=\"284.9688\" fill=\"#FFA500\" rx=\"11\" ry=\"11\" style=\"stroke: #A80036; stroke-width: 1.0;\"/><path d=\"M195.25,290.4375 Q193.5,290.4375 192.5469,289.4063 Q191.6094,288.3594 191.6094,286.5156 L191.6094,279.625 L193.6719,279.625 L193.6719,279.7813 Q193.5781,279.875 193.5469,280.0156 Q193.5313,280.1406 193.5313,280.4063 L193.5313,286.5313 Q193.5313,287.625 193.9063,288.25 Q194.2813,288.875 195.2656,288.875 Q196.25,288.875 196.6406,288.25 Q197.0313,287.625 197.0313,286.4844 L197.0313,279.625 L198.9063,279.625 L198.9063,286.4688 Q198.9063,288.5 197.875,289.4688 Q196.8594,290.4375 195.25,290.4375 Z \"/><text fill=\"#000000\" font-family=\"sans-serif\" font-size=\"12\" font-style=\"italic\" lengthAdjust=\"spacingAndGlyphs\" textLength=\"85\" x=\"207.5\" y=\"282.1387\">«occurrence»</text><text fill=\"#000000\" font-family=\"sans-serif\" font-size=\"12\" lengthAdjust=\"spacingAndGlyphs\" textLength=\"61\" x=\"219.5\" y=\"296.1074\">occ1: Occ</text><line style=\"stroke: #A80036; stroke-width: 1.5;\" x1=\"181.5\" x2=\"292.5\" y1=\"303.9375\" y2=\"303.9375\"/></a><!--MD5=[ebbe1d658d1005bcc118a6aa81145e00]\n",
       "class E4--><a href=\"psysml:5ccc27c3-07b1-4713-880e-82008912fb62\" target=\"_top\" title=\"psysml:5ccc27c3-07b1-4713-880e-82008912fb62\" xlink:actuate=\"onRequest\" xlink:href=\"psysml:5ccc27c3-07b1-4713-880e-82008912fb62\" xlink:show=\"new\" xlink:title=\"psysml:5ccc27c3-07b1-4713-880e-82008912fb62\" xlink:type=\"simple\"><rect fill=\"#FEFECE\" filter=\"url(#faydpvk6eseuc)\" height=\"45.9375\" id=\"E4\" rx=\"10\" ry=\"10\" style=\"stroke: #A80036; stroke-width: 1.5;\" width=\"113\" x=\"328.5\" y=\"266\"/><ellipse cx=\"343.5\" cy=\"284.9688\" fill=\"#FFA500\" rx=\"11\" ry=\"11\" style=\"stroke: #A80036; stroke-width: 1.0;\"/><path d=\"M343.25,290.4375 Q341.5,290.4375 340.5469,289.4063 Q339.6094,288.3594 339.6094,286.5156 L339.6094,279.625 L341.6719,279.625 L341.6719,279.7813 Q341.5781,279.875 341.5469,280.0156 Q341.5313,280.1406 341.5313,280.4063 L341.5313,286.5313 Q341.5313,287.625 341.9063,288.25 Q342.2813,288.875 343.2656,288.875 Q344.25,288.875 344.6406,288.25 Q345.0313,287.625 345.0313,286.4844 L345.0313,279.625 L346.9063,279.625 L346.9063,286.4688 Q346.9063,288.5 345.875,289.4688 Q344.8594,290.4375 343.25,290.4375 Z \"/><text fill=\"#000000\" font-family=\"sans-serif\" font-size=\"12\" font-style=\"italic\" lengthAdjust=\"spacingAndGlyphs\" textLength=\"85\" x=\"355.5\" y=\"282.1387\">«occurrence»</text><text fill=\"#000000\" font-family=\"sans-serif\" font-size=\"12\" lengthAdjust=\"spacingAndGlyphs\" textLength=\"61\" x=\"367.5\" y=\"296.1074\">occ2: Occ</text><line style=\"stroke: #A80036; stroke-width: 1.5;\" x1=\"329.5\" x2=\"440.5\" y1=\"303.9375\" y2=\"303.9375\"/></a><!--MD5=[270fce915f116d4de14055a7c1d9a0f3]\n",
       "class E5--><a href=\"psysml:b931cfcd-d1f5-4c70-b44c-3b4fd21c9018\" target=\"_top\" title=\"psysml:b931cfcd-d1f5-4c70-b44c-3b4fd21c9018\" xlink:actuate=\"onRequest\" xlink:href=\"psysml:b931cfcd-d1f5-4c70-b44c-3b4fd21c9018\" xlink:show=\"new\" xlink:title=\"psysml:b931cfcd-d1f5-4c70-b44c-3b4fd21c9018\" xlink:type=\"simple\"><rect fill=\"#FEFECE\" filter=\"url(#faydpvk6eseuc)\" height=\"45.9375\" id=\"E5\" rx=\"10\" ry=\"10\" style=\"stroke: #A80036; stroke-width: 1.5;\" width=\"113\" x=\"476.5\" y=\"266\"/><ellipse cx=\"491.5\" cy=\"284.9688\" fill=\"#FFA500\" rx=\"11\" ry=\"11\" style=\"stroke: #A80036; stroke-width: 1.0;\"/><path d=\"M491.25,290.4375 Q489.5,290.4375 488.5469,289.4063 Q487.6094,288.3594 487.6094,286.5156 L487.6094,279.625 L489.6719,279.625 L489.6719,279.7813 Q489.5781,279.875 489.5469,280.0156 Q489.5313,280.1406 489.5313,280.4063 L489.5313,286.5313 Q489.5313,287.625 489.9063,288.25 Q490.2813,288.875 491.2656,288.875 Q492.25,288.875 492.6406,288.25 Q493.0313,287.625 493.0313,286.4844 L493.0313,279.625 L494.9063,279.625 L494.9063,286.4688 Q494.9063,288.5 493.875,289.4688 Q492.8594,290.4375 491.25,290.4375 Z \"/><text fill=\"#000000\" font-family=\"sans-serif\" font-size=\"12\" font-style=\"italic\" lengthAdjust=\"spacingAndGlyphs\" textLength=\"85\" x=\"503.5\" y=\"282.1387\">«occurrence»</text><text fill=\"#000000\" font-family=\"sans-serif\" font-size=\"12\" lengthAdjust=\"spacingAndGlyphs\" textLength=\"34\" x=\"529\" y=\"296.1074\">s: Ind</text><line style=\"stroke: #A80036; stroke-width: 1.5;\" x1=\"477.5\" x2=\"588.5\" y1=\"303.9375\" y2=\"303.9375\"/></a><!--MD5=[60a26617385b1d2d0262a64233df1f8d]\n",
       "class E6--><a href=\"psysml:a76dffb5-cb4a-4142-b15c-9dbeb6bd2474\" target=\"_top\" title=\"psysml:a76dffb5-cb4a-4142-b15c-9dbeb6bd2474\" xlink:actuate=\"onRequest\" xlink:href=\"psysml:a76dffb5-cb4a-4142-b15c-9dbeb6bd2474\" xlink:show=\"new\" xlink:title=\"psysml:a76dffb5-cb4a-4142-b15c-9dbeb6bd2474\" xlink:type=\"simple\"><rect fill=\"#FEFECE\" filter=\"url(#faydpvk6eseuc)\" height=\"45.9375\" id=\"E6\" rx=\"10\" ry=\"10\" style=\"stroke: #A80036; stroke-width: 1.5;\" width=\"113\" x=\"624.5\" y=\"266\"/><ellipse cx=\"639.5\" cy=\"284.9688\" fill=\"#FFA500\" rx=\"11\" ry=\"11\" style=\"stroke: #A80036; stroke-width: 1.0;\"/><path d=\"M639.25,290.4375 Q637.5,290.4375 636.5469,289.4063 Q635.6094,288.3594 635.6094,286.5156 L635.6094,279.625 L637.6719,279.625 L637.6719,279.7813 Q637.5781,279.875 637.5469,280.0156 Q637.5313,280.1406 637.5313,280.4063 L637.5313,286.5313 Q637.5313,287.625 637.9063,288.25 Q638.2813,288.875 639.2656,288.875 Q640.25,288.875 640.6406,288.25 Q641.0313,287.625 641.0313,286.4844 L641.0313,279.625 L642.9063,279.625 L642.9063,286.4688 Q642.9063,288.5 641.875,289.4688 Q640.8594,290.4375 639.25,290.4375 Z \"/><text fill=\"#000000\" font-family=\"sans-serif\" font-size=\"12\" font-style=\"italic\" lengthAdjust=\"spacingAndGlyphs\" textLength=\"85\" x=\"651.5\" y=\"282.1387\">«occurrence»</text><text fill=\"#000000\" font-family=\"sans-serif\" font-size=\"12\" lengthAdjust=\"spacingAndGlyphs\" textLength=\"5\" x=\"691.5\" y=\"296.1074\">t</text><line style=\"stroke: #A80036; stroke-width: 1.5;\" x1=\"625.5\" x2=\"736.5\" y1=\"303.9375\" y2=\"303.9375\"/></a><!--MD5=[2156ba9850f5573cc1fc38a6a4b2f02b]\n",
       "class E7--><a href=\"psysml:cddcce1d-840d-4259-9672-1cad32ef9616\" target=\"_top\" title=\"psysml:cddcce1d-840d-4259-9672-1cad32ef9616\" xlink:actuate=\"onRequest\" xlink:href=\"psysml:cddcce1d-840d-4259-9672-1cad32ef9616\" xlink:show=\"new\" xlink:title=\"psysml:cddcce1d-840d-4259-9672-1cad32ef9616\" xlink:type=\"simple\"><rect fill=\"#FEFECE\" filter=\"url(#faydpvk6eseuc)\" height=\"45.9375\" id=\"E7\" style=\"stroke: #A80036; stroke-width: 1.5;\" width=\"137\" x=\"464.5\" y=\"372\"/><ellipse cx=\"479.5\" cy=\"390.9688\" fill=\"#A52A2A\" rx=\"11\" ry=\"11\" style=\"stroke: #A80036; stroke-width: 1.0;\"/><path d=\"M476.7188,395.9688 L476.7188,385.375 L479.4531,385.375 Q480.8438,385.375 481.6094,385.7656 Q482.3906,386.1406 482.9219,386.8438 Q483.4531,387.5469 483.75,388.5469 Q484.0469,389.5313 484.0469,390.75 Q484,392.3438 483.5,393.5313 Q483.0156,394.7031 481.9688,395.3438 Q480.9375,395.9688 479.25,395.9688 L476.7188,395.9688 Z M478.5781,394.4688 L479.2031,394.4688 Q480.2813,394.4688 480.9375,394.0156 Q481.5938,393.5625 481.875,392.7344 Q482.1719,391.8906 482.1563,390.7656 Q482.1563,389.5938 481.9063,388.7344 Q481.6563,387.8594 481.0469,387.3906 Q480.4375,386.9063 479.3906,386.9063 L478.5781,386.9063 L478.5781,394.4688 Z \"/><text fill=\"#000000\" font-family=\"sans-serif\" font-size=\"12\" font-style=\"italic\" lengthAdjust=\"spacingAndGlyphs\" textLength=\"109\" x=\"491.5\" y=\"388.1387\">«occurrence def»</text><text fill=\"#000000\" font-family=\"sans-serif\" font-size=\"12\" lengthAdjust=\"spacingAndGlyphs\" textLength=\"19\" x=\"536.5\" y=\"402.1074\">Ind</text><line style=\"stroke: #A80036; stroke-width: 1.5;\" x1=\"465.5\" x2=\"600.5\" y1=\"409.9375\" y2=\"409.9375\"/></a><!--MD5=[b9389687b975829384b498ac4b7476b2]\n",
       "class E8--><a href=\"psysml:760118bf-f26e-45fa-9528-0dbdf12ed33d\" target=\"_top\" title=\"psysml:760118bf-f26e-45fa-9528-0dbdf12ed33d\" xlink:actuate=\"onRequest\" xlink:href=\"psysml:760118bf-f26e-45fa-9528-0dbdf12ed33d\" xlink:show=\"new\" xlink:title=\"psysml:760118bf-f26e-45fa-9528-0dbdf12ed33d\" xlink:type=\"simple\"><rect fill=\"#FEFECE\" filter=\"url(#faydpvk6eseuc)\" height=\"45.9375\" id=\"E8\" rx=\"10\" ry=\"10\" style=\"stroke: #A80036; stroke-width: 1.5;\" width=\"113\" x=\"402.5\" y=\"478\"/><ellipse cx=\"417.5\" cy=\"496.9688\" fill=\"#FFA500\" rx=\"11\" ry=\"11\" style=\"stroke: #A80036; stroke-width: 1.0;\"/><path d=\"M417.25,502.4375 Q415.5,502.4375 414.5469,501.4063 Q413.6094,500.3594 413.6094,498.5156 L413.6094,491.625 L415.6719,491.625 L415.6719,491.7813 Q415.5781,491.875 415.5469,492.0156 Q415.5313,492.1406 415.5313,492.4063 L415.5313,498.5313 Q415.5313,499.625 415.9063,500.25 Q416.2813,500.875 417.2656,500.875 Q418.25,500.875 418.6406,500.25 Q419.0313,499.625 419.0313,498.4844 L419.0313,491.625 L420.9063,491.625 L420.9063,498.4688 Q420.9063,500.5 419.875,501.4688 Q418.8594,502.4375 417.25,502.4375 Z \"/><text fill=\"#000000\" font-family=\"sans-serif\" font-size=\"12\" font-style=\"italic\" lengthAdjust=\"spacingAndGlyphs\" textLength=\"85\" x=\"429.5\" y=\"494.1387\">«occurrence»</text><text fill=\"#000000\" font-family=\"sans-serif\" font-size=\"12\" lengthAdjust=\"spacingAndGlyphs\" textLength=\"15\" x=\"464.5\" y=\"508.1074\">s2</text><line style=\"stroke: #A80036; stroke-width: 1.5;\" x1=\"403.5\" x2=\"514.5\" y1=\"515.9375\" y2=\"515.9375\"/></a><!--MD5=[fd4143e9d270a159db93a4ea2a975926]\n",
       "class E9--><a href=\"psysml:6916c4a6-d3e9-4718-9bd3-b4da3843528f\" target=\"_top\" title=\"psysml:6916c4a6-d3e9-4718-9bd3-b4da3843528f\" xlink:actuate=\"onRequest\" xlink:href=\"psysml:6916c4a6-d3e9-4718-9bd3-b4da3843528f\" xlink:show=\"new\" xlink:title=\"psysml:6916c4a6-d3e9-4718-9bd3-b4da3843528f\" xlink:type=\"simple\"><rect fill=\"#FEFECE\" filter=\"url(#faydpvk6eseuc)\" height=\"45.9375\" id=\"E9\" rx=\"10\" ry=\"10\" style=\"stroke: #A80036; stroke-width: 1.5;\" width=\"113\" x=\"550.5\" y=\"478\"/><ellipse cx=\"565.5\" cy=\"496.9688\" fill=\"#FFA500\" rx=\"11\" ry=\"11\" style=\"stroke: #A80036; stroke-width: 1.0;\"/><path d=\"M565.25,502.4375 Q563.5,502.4375 562.5469,501.4063 Q561.6094,500.3594 561.6094,498.5156 L561.6094,491.625 L563.6719,491.625 L563.6719,491.7813 Q563.5781,491.875 563.5469,492.0156 Q563.5313,492.1406 563.5313,492.4063 L563.5313,498.5313 Q563.5313,499.625 563.9063,500.25 Q564.2813,500.875 565.2656,500.875 Q566.25,500.875 566.6406,500.25 Q567.0313,499.625 567.0313,498.4844 L567.0313,491.625 L568.9063,491.625 L568.9063,498.4688 Q568.9063,500.5 567.875,501.4688 Q566.8594,502.4375 565.25,502.4375 Z \"/><text fill=\"#000000\" font-family=\"sans-serif\" font-size=\"12\" font-style=\"italic\" lengthAdjust=\"spacingAndGlyphs\" textLength=\"85\" x=\"577.5\" y=\"494.1387\">«occurrence»</text><text fill=\"#000000\" font-family=\"sans-serif\" font-size=\"12\" lengthAdjust=\"spacingAndGlyphs\" textLength=\"13\" x=\"613.5\" y=\"508.1074\">t2</text><line style=\"stroke: #A80036; stroke-width: 1.5;\" x1=\"551.5\" x2=\"662.5\" y1=\"515.9375\" y2=\"515.9375\"/></a><!--MD5=[96f4274e9e20536e775497830990834d]\n",
       "class E10--><a href=\"psysml:ca3e4eae-d888-4010-bdf5-da81d89d1eab\" target=\"_top\" title=\"psysml:ca3e4eae-d888-4010-bdf5-da81d89d1eab\" xlink:actuate=\"onRequest\" xlink:href=\"psysml:ca3e4eae-d888-4010-bdf5-da81d89d1eab\" xlink:show=\"new\" xlink:title=\"psysml:ca3e4eae-d888-4010-bdf5-da81d89d1eab\" xlink:type=\"simple\"><rect fill=\"#FEFECE\" filter=\"url(#faydpvk6eseuc)\" height=\"45.9375\" id=\"E10\" rx=\"10\" ry=\"10\" style=\"stroke: #A80036; stroke-width: 1.5;\" width=\"113\" x=\"466.5\" y=\"41\"/><ellipse cx=\"481.5\" cy=\"59.9688\" fill=\"#FFA500\" rx=\"11\" ry=\"11\" style=\"stroke: #A80036; stroke-width: 1.0;\"/><path d=\"M481.25,65.4375 Q479.5,65.4375 478.5469,64.4063 Q477.6094,63.3594 477.6094,61.5156 L477.6094,54.625 L479.6719,54.625 L479.6719,54.7813 Q479.5781,54.875 479.5469,55.0156 Q479.5313,55.1406 479.5313,55.4063 L479.5313,61.5313 Q479.5313,62.625 479.9063,63.25 Q480.2813,63.875 481.2656,63.875 Q482.25,63.875 482.6406,63.25 Q483.0313,62.625 483.0313,61.4844 L483.0313,54.625 L484.9063,54.625 L484.9063,61.4688 Q484.9063,63.5 483.875,64.4688 Q482.8594,65.4375 481.25,65.4375 Z \"/><text fill=\"#000000\" font-family=\"sans-serif\" font-size=\"12\" font-style=\"italic\" lengthAdjust=\"spacingAndGlyphs\" textLength=\"85\" x=\"493.5\" y=\"57.1387\">«occurrence»</text><text fill=\"#000000\" font-family=\"sans-serif\" font-size=\"12\" lengthAdjust=\"spacingAndGlyphs\" textLength=\"77\" x=\"497.5\" y=\"71.1074\">ind: Ind, Occ</text><line style=\"stroke: #A80036; stroke-width: 1.5;\" x1=\"467.5\" x2=\"578.5\" y1=\"78.9375\" y2=\"78.9375\"/></a><!--MD5=[1dd1bfd58a279cf63c5f349dbc8fc6a1]\n",
       "class E11--><a href=\"psysml:a7aa12fc-e204-4f0a-90f2-9ab0101a123a\" target=\"_top\" title=\"psysml:a7aa12fc-e204-4f0a-90f2-9ab0101a123a\" xlink:actuate=\"onRequest\" xlink:href=\"psysml:a7aa12fc-e204-4f0a-90f2-9ab0101a123a\" xlink:show=\"new\" xlink:title=\"psysml:a7aa12fc-e204-4f0a-90f2-9ab0101a123a\" xlink:type=\"simple\"><rect fill=\"#FEFECE\" filter=\"url(#faydpvk6eseuc)\" height=\"45.9375\" id=\"E11\" rx=\"10\" ry=\"10\" style=\"stroke: #A80036; stroke-width: 1.5;\" width=\"113\" x=\"513.5\" y=\"153.5\"/><ellipse cx=\"528.5\" cy=\"172.4688\" fill=\"#FFA500\" rx=\"11\" ry=\"11\" style=\"stroke: #A80036; stroke-width: 1.0;\"/><path d=\"M528.25,177.9375 Q526.5,177.9375 525.5469,176.9063 Q524.6094,175.8594 524.6094,174.0156 L524.6094,167.125 L526.6719,167.125 L526.6719,167.2813 Q526.5781,167.375 526.5469,167.5156 Q526.5313,167.6406 526.5313,167.9063 L526.5313,174.0313 Q526.5313,175.125 526.9063,175.75 Q527.2813,176.375 528.2656,176.375 Q529.25,176.375 529.6406,175.75 Q530.0313,175.125 530.0313,173.9844 L530.0313,167.125 L531.9063,167.125 L531.9063,173.9688 Q531.9063,176 530.875,176.9688 Q529.8594,177.9375 528.25,177.9375 Z \"/><text fill=\"#000000\" font-family=\"sans-serif\" font-size=\"12\" font-style=\"italic\" lengthAdjust=\"spacingAndGlyphs\" textLength=\"85\" x=\"540.5\" y=\"169.6387\">«occurrence»</text><text fill=\"#000000\" font-family=\"sans-serif\" font-size=\"12\" lengthAdjust=\"spacingAndGlyphs\" textLength=\"15\" x=\"575.5\" y=\"183.6074\">s3</text><line style=\"stroke: #A80036; stroke-width: 1.5;\" x1=\"514.5\" x2=\"625.5\" y1=\"191.4375\" y2=\"191.4375\"/></a><!--MD5=[49a0ec8f00dab7302a31f22d0f0fe584]\n",
       "class E12--><a href=\"psysml:5052c3e9-886b-4521-8bf3-18ad9cb470c5\" target=\"_top\" title=\"psysml:5052c3e9-886b-4521-8bf3-18ad9cb470c5\" xlink:actuate=\"onRequest\" xlink:href=\"psysml:5052c3e9-886b-4521-8bf3-18ad9cb470c5\" xlink:show=\"new\" xlink:title=\"psysml:5052c3e9-886b-4521-8bf3-18ad9cb470c5\" xlink:type=\"simple\"><rect fill=\"#FEFECE\" filter=\"url(#faydpvk6eseuc)\" height=\"45.9375\" id=\"E12\" rx=\"10\" ry=\"10\" style=\"stroke: #A80036; stroke-width: 1.5;\" width=\"113\" x=\"661.5\" y=\"153.5\"/><ellipse cx=\"676.5\" cy=\"172.4688\" fill=\"#FFA500\" rx=\"11\" ry=\"11\" style=\"stroke: #A80036; stroke-width: 1.0;\"/><path d=\"M676.25,177.9375 Q674.5,177.9375 673.5469,176.9063 Q672.6094,175.8594 672.6094,174.0156 L672.6094,167.125 L674.6719,167.125 L674.6719,167.2813 Q674.5781,167.375 674.5469,167.5156 Q674.5313,167.6406 674.5313,167.9063 L674.5313,174.0313 Q674.5313,175.125 674.9063,175.75 Q675.2813,176.375 676.2656,176.375 Q677.25,176.375 677.6406,175.75 Q678.0313,175.125 678.0313,173.9844 L678.0313,167.125 L679.9063,167.125 L679.9063,173.9688 Q679.9063,176 678.875,176.9688 Q677.8594,177.9375 676.25,177.9375 Z \"/><text fill=\"#000000\" font-family=\"sans-serif\" font-size=\"12\" font-style=\"italic\" lengthAdjust=\"spacingAndGlyphs\" textLength=\"85\" x=\"688.5\" y=\"169.6387\">«occurrence»</text><text fill=\"#000000\" font-family=\"sans-serif\" font-size=\"12\" lengthAdjust=\"spacingAndGlyphs\" textLength=\"13\" x=\"724.5\" y=\"183.6074\">t3</text><line style=\"stroke: #A80036; stroke-width: 1.5;\" x1=\"662.5\" x2=\"773.5\" y1=\"191.4375\" y2=\"191.4375\"/></a><!--MD5=[ee3c913d1a06f366521f9ef512b67efe]\n",
       "class E13--><a href=\"psysml:e6d8c0e1-46dd-40c0-98f9-8ea23118f8bb\" target=\"_top\" title=\"psysml:e6d8c0e1-46dd-40c0-98f9-8ea23118f8bb\" xlink:actuate=\"onRequest\" xlink:href=\"psysml:e6d8c0e1-46dd-40c0-98f9-8ea23118f8bb\" xlink:show=\"new\" xlink:title=\"psysml:e6d8c0e1-46dd-40c0-98f9-8ea23118f8bb\" xlink:type=\"simple\"><rect fill=\"#FEFECE\" filter=\"url(#faydpvk6eseuc)\" height=\"45.9375\" id=\"E13\" rx=\"10\" ry=\"10\" style=\"stroke: #A80036; stroke-width: 1.5;\" width=\"113\" x=\"32.5\" y=\"266\"/><ellipse cx=\"47.5\" cy=\"284.9688\" fill=\"#FFA500\" rx=\"11\" ry=\"11\" style=\"stroke: #A80036; stroke-width: 1.0;\"/><path d=\"M47.25,290.4375 Q45.5,290.4375 44.5469,289.4063 Q43.6094,288.3594 43.6094,286.5156 L43.6094,279.625 L45.6719,279.625 L45.6719,279.7813 Q45.5781,279.875 45.5469,280.0156 Q45.5313,280.1406 45.5313,280.4063 L45.5313,286.5313 Q45.5313,287.625 45.9063,288.25 Q46.2813,288.875 47.2656,288.875 Q48.25,288.875 48.6406,288.25 Q49.0313,287.625 49.0313,286.4844 L49.0313,279.625 L50.9063,279.625 L50.9063,286.4688 Q50.9063,288.5 49.875,289.4688 Q48.8594,290.4375 47.25,290.4375 Z \"/><text fill=\"#000000\" font-family=\"sans-serif\" font-size=\"12\" font-style=\"italic\" lengthAdjust=\"spacingAndGlyphs\" textLength=\"85\" x=\"59.5\" y=\"282.1387\">«occurrence»</text><text fill=\"#000000\" font-family=\"sans-serif\" font-size=\"12\" lengthAdjust=\"spacingAndGlyphs\" textLength=\"42\" x=\"81\" y=\"296.1074\">s4: Ind</text><line style=\"stroke: #A80036; stroke-width: 1.5;\" x1=\"33.5\" x2=\"144.5\" y1=\"303.9375\" y2=\"303.9375\"/></a><!--MD5=[209b3feb70ccb6233bfe1053d122c12c]\n",
       "reverse link E2 to E3--><a href=\"psysml:816d5179-2674-4631-83bc-f7d71b4237a7\" target=\"_top\" title=\"psysml:816d5179-2674-4631-83bc-f7d71b4237a7\" xlink:actuate=\"onRequest\" xlink:href=\"psysml:816d5179-2674-4631-83bc-f7d71b4237a7\" xlink:show=\"new\" xlink:title=\"psysml:816d5179-2674-4631-83bc-f7d71b4237a7\" xlink:type=\"simple\"><path d=\"M315.19,214.11 C293.09,231.16 269.52,250.9 253.8,265.68 \" fill=\"none\" id=\"E2&lt;-E3\" style=\"stroke: #A80036; stroke-width: 1.0;\"/><polygon fill=\"#FFFFFF\" points=\"325.54,206.24,318.3426,206.6843,315.9845,213.499,323.1819,213.0547,325.54,206.24\" style=\"stroke: #A80036; stroke-width: 1.0;\"/></a><!--MD5=[05d275557350bfb9b23a4ef7222b4c39]\n",
       "link E3 to E2--><a href=\"psysml:eb3070f5-b0ea-4331-ac23-68f76765f53a\" target=\"_top\" title=\"psysml:eb3070f5-b0ea-4331-ac23-68f76765f53a\" xlink:actuate=\"onRequest\" xlink:href=\"psysml:eb3070f5-b0ea-4331-ac23-68f76765f53a\" xlink:show=\"new\" xlink:title=\"psysml:eb3070f5-b0ea-4331-ac23-68f76765f53a\" xlink:type=\"simple\"><path d=\"M275.36,265.68 C293.76,252.43 315.48,235.22 333.82,219.51 \" fill=\"none\" id=\"E3-&gt;E2\" style=\"stroke: #A80036; stroke-width: 1.0;\"/><polygon fill=\"#FFFFFF\" points=\"348.89,206.24,339.2604,224.0521,330.006,213.5471,348.89,206.24\" style=\"stroke: #A80036; stroke-width: 1.0;\"/><ellipse cx=\"333.6613\" cy=\"226.3192\" fill=\"#A80036\" rx=\"2\" ry=\"2\" style=\"stroke: #A80036; stroke-width: 1.0;\"/><ellipse cx=\"327.051\" cy=\"218.8157\" fill=\"#A80036\" rx=\"2\" ry=\"2\" style=\"stroke: #A80036; stroke-width: 1.0;\"/></a><!--MD5=[9618e71518536f8baf3342ff6fdab317]\n",
       "reverse link E2 to E4--><a href=\"psysml:0447f336-2e88-4877-9a74-bac22478a75a\" target=\"_top\" title=\"psysml:0447f336-2e88-4877-9a74-bac22478a75a\" xlink:actuate=\"onRequest\" xlink:href=\"psysml:0447f336-2e88-4877-9a74-bac22478a75a\" xlink:show=\"new\" xlink:title=\"psysml:0447f336-2e88-4877-9a74-bac22478a75a\" xlink:type=\"simple\"><path d=\"M364.52,219.51 C365.57,235.22 368.25,252.43 371.9,265.68 \" fill=\"none\" id=\"E2&lt;-E4\" style=\"stroke: #A80036; stroke-width: 1.0;\"/><polygon fill=\"#A80036\" points=\"364.04,206.24,360.2603,212.3812,364.4754,218.2321,368.255,212.0909,364.04,206.24\" style=\"stroke: #A80036; stroke-width: 1.0;\"/></a><!--MD5=[185131fc0dcab0a4505a2ebe144e961b]\n",
       "link E4 to E2--><a href=\"psysml:bbe7f0c0-75f0-4d42-b38b-c0f55f25890a\" target=\"_top\" title=\"psysml:bbe7f0c0-75f0-4d42-b38b-c0f55f25890a\" xlink:actuate=\"onRequest\" xlink:href=\"psysml:bbe7f0c0-75f0-4d42-b38b-c0f55f25890a\" xlink:show=\"new\" xlink:title=\"psysml:bbe7f0c0-75f0-4d42-b38b-c0f55f25890a\" xlink:type=\"simple\"><path d=\"M393.46,265.68 C394.03,254.31 393.12,240.01 391.15,226.25 \" fill=\"none\" id=\"E4-&gt;E2\" style=\"stroke: #A80036; stroke-width: 1.0;\"/><polygon fill=\"#FFFFFF\" points=\"387.39,206.24,397.7716,223.6246,384.0114,226.2046,387.39,206.24\" style=\"stroke: #A80036; stroke-width: 1.0;\"/><ellipse cx=\"396.8563\" cy=\"229.5955\" fill=\"#A80036\" rx=\"2\" ry=\"2\" style=\"stroke: #A80036; stroke-width: 1.0;\"/><ellipse cx=\"387.0276\" cy=\"231.4384\" fill=\"#A80036\" rx=\"2\" ry=\"2\" style=\"stroke: #A80036; stroke-width: 1.0;\"/></a><!--MD5=[4e1a83fab71cdb913c109063314ae896]\n",
       "reverse link E2 to E5--><a href=\"psysml:5c44c5f5-a434-4c27-9e5d-4b118f9f4fa1\" target=\"_top\" title=\"psysml:5c44c5f5-a434-4c27-9e5d-4b118f9f4fa1\" xlink:actuate=\"onRequest\" xlink:href=\"psysml:5c44c5f5-a434-4c27-9e5d-4b118f9f4fa1\" xlink:show=\"new\" xlink:title=\"psysml:5c44c5f5-a434-4c27-9e5d-4b118f9f4fa1\" xlink:type=\"simple\"><path d=\"M424.71,213.68 C449.8,230.89 478.98,250.93 500.73,265.85 \" fill=\"none\" id=\"E2&lt;-E5\" style=\"stroke: #A80036; stroke-width: 1.0;\"/><polygon fill=\"#A80036\" points=\"413.88,206.24,416.5619,212.9338,423.7723,213.0327,421.0904,206.3389,413.88,206.24\" style=\"stroke: #A80036; stroke-width: 1.0;\"/></a><!--MD5=[ce036f65110ae2351ccce5a81dc2e928]\n",
       "reverse link E2 to E6--><a href=\"psysml:f84da050-0b5f-49f5-998e-9b704fc66ebc\" target=\"_top\" title=\"psysml:f84da050-0b5f-49f5-998e-9b704fc66ebc\" xlink:actuate=\"onRequest\" xlink:href=\"psysml:f84da050-0b5f-49f5-998e-9b704fc66ebc\" xlink:show=\"new\" xlink:title=\"psysml:f84da050-0b5f-49f5-998e-9b704fc66ebc\" xlink:type=\"simple\"><path d=\"M452.88,206.42 C506.85,225.72 576.44,250.61 624.5,267.79 \" fill=\"none\" id=\"E2&lt;-E6\" style=\"stroke: #A80036; stroke-width: 1.0;\"/><polygon fill=\"#A80036\" points=\"440.58,202.02,444.8855,207.8047,451.8812,206.0552,447.5757,200.2705,440.58,202.02\" style=\"stroke: #A80036; stroke-width: 1.0;\"/><text fill=\"#000000\" font-family=\"sans-serif\" font-size=\"13\" lengthAdjust=\"spacingAndGlyphs\" textLength=\"7\" x=\"609.4375\" y=\"261.0121\">*</text></a><!--MD5=[3a9b96bfbf6b6ad89c494e81751bda47]\n",
       "link E5 to E7--><a href=\"psysml:5222325c-bb46-4e39-81f0-12dbae43365a\" target=\"_top\" title=\"psysml:5222325c-bb46-4e39-81f0-12dbae43365a\" xlink:actuate=\"onRequest\" xlink:href=\"psysml:5222325c-bb46-4e39-81f0-12dbae43365a\" xlink:show=\"new\" xlink:title=\"psysml:5222325c-bb46-4e39-81f0-12dbae43365a\" xlink:type=\"simple\"><path d=\"M533,312.06 C533,323.64 533,338.23 533,351.87 \" fill=\"none\" id=\"E5-&gt;E7\" style=\"stroke: #A80036; stroke-width: 1.0;\"/><polygon fill=\"#FFFFFF\" points=\"533,371.98,526,352.98,540,352.98,533,371.98\" style=\"stroke: #A80036; stroke-width: 1.0;\"/><ellipse cx=\"528\" cy=\"347.28\" fill=\"#A80036\" rx=\"2\" ry=\"2\" style=\"stroke: #A80036; stroke-width: 1.0;\"/><ellipse cx=\"538\" cy=\"347.28\" fill=\"#A80036\" rx=\"2\" ry=\"2\" style=\"stroke: #A80036; stroke-width: 1.0;\"/></a><!--MD5=[dc164f5e8a733ab456ef1add180e9e34]\n",
       "reverse link E7 to E8--><a href=\"psysml:62bbb331-bb03-464e-9e32-68694608bffc\" target=\"_top\" title=\"psysml:62bbb331-bb03-464e-9e32-68694608bffc\" xlink:actuate=\"onRequest\" xlink:href=\"psysml:62bbb331-bb03-464e-9e32-68694608bffc\" xlink:show=\"new\" xlink:title=\"psysml:62bbb331-bb03-464e-9e32-68694608bffc\" xlink:type=\"simple\"><path d=\"M509.45,429.09 C498.09,445.06 484.77,463.78 474.67,477.98 \" fill=\"none\" id=\"E7&lt;-E8\" style=\"stroke: #A80036; stroke-width: 1.0;\"/><polygon fill=\"#A80036\" points=\"517.31,418.06,510.5722,420.6295,510.3526,427.8373,517.0904,425.2678,517.31,418.06\" style=\"stroke: #A80036; stroke-width: 1.0;\"/><text fill=\"#000000\" font-family=\"sans-serif\" font-size=\"13\" lengthAdjust=\"spacingAndGlyphs\" textLength=\"7\" x=\"470.9407\" y=\"466.8709\">*</text></a><!--MD5=[e4a10ef82d0e328e31cac39a31e58dda]\n",
       "reverse link E7 to E9--><a href=\"psysml:6940b1aa-8c0f-4381-86aa-7b3e10e8c0d6\" target=\"_top\" title=\"psysml:6940b1aa-8c0f-4381-86aa-7b3e10e8c0d6\" xlink:actuate=\"onRequest\" xlink:href=\"psysml:6940b1aa-8c0f-4381-86aa-7b3e10e8c0d6\" xlink:show=\"new\" xlink:title=\"psysml:6940b1aa-8c0f-4381-86aa-7b3e10e8c0d6\" xlink:type=\"simple\"><path d=\"M556.55,429.09 C567.91,445.06 581.23,463.78 591.33,477.98 \" fill=\"none\" id=\"E7&lt;-E9\" style=\"stroke: #A80036; stroke-width: 1.0;\"/><polygon fill=\"#A80036\" points=\"548.69,418.06,548.9096,425.2678,555.6474,427.8373,555.4278,420.6295,548.69,418.06\" style=\"stroke: #A80036; stroke-width: 1.0;\"/><text fill=\"#000000\" font-family=\"sans-serif\" font-size=\"13\" lengthAdjust=\"spacingAndGlyphs\" textLength=\"7\" x=\"579.1781\" y=\"466.8709\">*</text></a><!--MD5=[a919e0967d6f3de553dc51b9865a1d6d]\n",
       "link E10 to E7--><a href=\"psysml:2d47db94-d209-4d22-9eae-73bfc16721f5\" target=\"_top\" title=\"psysml:2d47db94-d209-4d22-9eae-73bfc16721f5\" xlink:actuate=\"onRequest\" xlink:href=\"psysml:2d47db94-d209-4d22-9eae-73bfc16721f5\" xlink:show=\"new\" xlink:title=\"psysml:2d47db94-d209-4d22-9eae-73bfc16721f5\" xlink:type=\"simple\"><path d=\"M509.03,87.13 C491.97,117.28 468.55,171.46 496,206 C569.52,298.5 681.48,173.5 755,266 C799.45,321.93 700.79,358.05 621.07,377.22 \" fill=\"none\" id=\"E10-&gt;E7\" style=\"stroke: #A80036; stroke-width: 1.0;\"/><polygon fill=\"#FFFFFF\" points=\"601.57,381.67,618.5402,370.6241,621.6503,384.2743,601.57,381.67\" style=\"stroke: #A80036; stroke-width: 1.0;\"/><ellipse cx=\"624.5421\" cy=\"371.3079\" fill=\"#A80036\" rx=\"2\" ry=\"2\" style=\"stroke: #A80036; stroke-width: 1.0;\"/><ellipse cx=\"626.7636\" cy=\"381.0581\" fill=\"#A80036\" rx=\"2\" ry=\"2\" style=\"stroke: #A80036; stroke-width: 1.0;\"/></a><!--MD5=[0f36bececdf0dff6e600d6f64214b0f1]\n",
       "link E10 to E2--><a href=\"psysml:6622b004-fc37-43f3-bc42-fdfacc696359\" target=\"_top\" title=\"psysml:6622b004-fc37-43f3-bc42-fdfacc696359\" xlink:actuate=\"onRequest\" xlink:href=\"psysml:6622b004-fc37-43f3-bc42-fdfacc696359\" xlink:show=\"new\" xlink:title=\"psysml:6622b004-fc37-43f3-bc42-fdfacc696359\" xlink:type=\"simple\"><path d=\"M492.81,87.1 C474.08,100.8 449.46,118.82 427.33,135.01 \" fill=\"none\" id=\"E10-&gt;E2\" style=\"stroke: #A80036; stroke-width: 1.0;\"/><polygon fill=\"#FFFFFF\" points=\"411.04,146.93,422.2383,130.06,430.5066,141.3576,411.04,146.93\" style=\"stroke: #A80036; stroke-width: 1.0;\"/><ellipse cx=\"428.0193\" cy=\"128.3076\" fill=\"#A80036\" rx=\"2\" ry=\"2\" style=\"stroke: #A80036; stroke-width: 1.0;\"/><ellipse cx=\"433.9252\" cy=\"136.3773\" fill=\"#A80036\" rx=\"2\" ry=\"2\" style=\"stroke: #A80036; stroke-width: 1.0;\"/></a><!--MD5=[de308be4a2431766a05a907a031c07fc]\n",
       "reverse link E10 to E11--><a href=\"psysml:973d09ca-2c85-400b-8a26-6e03e711a9dc\" target=\"_top\" title=\"psysml:973d09ca-2c85-400b-8a26-6e03e711a9dc\" xlink:actuate=\"onRequest\" xlink:href=\"psysml:973d09ca-2c85-400b-8a26-6e03e711a9dc\" xlink:show=\"new\" xlink:title=\"psysml:973d09ca-2c85-400b-8a26-6e03e711a9dc\" xlink:type=\"simple\"><path d=\"M537.56,99.24 C545.08,116.91 554.03,137.94 560.62,153.44 \" fill=\"none\" id=\"E10&lt;-E11\" style=\"stroke: #A80036; stroke-width: 1.0;\"/><polygon fill=\"#A80036\" points=\"532.4,87.1,531.0675,94.1869,537.0968,98.1427,538.4293,91.0557,532.4,87.1\" style=\"stroke: #A80036; stroke-width: 1.0;\"/></a><!--MD5=[1d54f998c6d5961a1a9184be73a7eb6c]\n",
       "reverse link E10 to E12--><a href=\"psysml:4b2dc275-57bf-47aa-bec9-3fe53972a958\" target=\"_top\" title=\"psysml:4b2dc275-57bf-47aa-bec9-3fe53972a958\" xlink:actuate=\"onRequest\" xlink:href=\"psysml:4b2dc275-57bf-47aa-bec9-3fe53972a958\" xlink:show=\"new\" xlink:title=\"psysml:4b2dc275-57bf-47aa-bec9-3fe53972a958\" xlink:type=\"simple\"><path d=\"M573.65,93.7 C606.56,112.35 648.8,136.29 679.08,153.44 \" fill=\"none\" id=\"E10&lt;-E12\" style=\"stroke: #A80036; stroke-width: 1.0;\"/><polygon fill=\"#A80036\" points=\"561.99,87.1,565.2334,93.5405,572.4259,93.0238,569.1826,86.5833,561.99,87.1\" style=\"stroke: #A80036; stroke-width: 1.0;\"/></a><!--MD5=[4a48077df6499cfcd20b62e8f5f37904]\n",
       "link E13 to E7--><a href=\"psysml:99db2ce7-7db4-4747-aea3-ba596a45b862\" target=\"_top\" title=\"psysml:99db2ce7-7db4-4747-aea3-ba596a45b862\" xlink:actuate=\"onRequest\" xlink:href=\"psysml:99db2ce7-7db4-4747-aea3-ba596a45b862\" xlink:show=\"new\" xlink:title=\"psysml:99db2ce7-7db4-4747-aea3-ba596a45b862\" xlink:type=\"simple\"><path d=\"M145.85,307.34 C151.63,308.97 157.42,310.55 163,312 C258.68,336.79 369.48,360.72 444.71,376.27 \" fill=\"none\" id=\"E13-&gt;E7\" style=\"stroke: #A80036; stroke-width: 1.0;\"/><polygon fill=\"#FFFFFF\" points=\"464.46,380.33,444.4393,383.3585,447.2599,369.6456,464.46,380.33\" style=\"stroke: #A80036; stroke-width: 1.0;\"/><ellipse cx=\"439.2591\" cy=\"380.2511\" fill=\"#A80036\" rx=\"2\" ry=\"2\" style=\"stroke: #A80036; stroke-width: 1.0;\"/><ellipse cx=\"441.2738\" cy=\"370.4562\" fill=\"#A80036\" rx=\"2\" ry=\"2\" style=\"stroke: #A80036; stroke-width: 1.0;\"/></a><!--MD5=[deffdb8e9d1de984c071573ba6cd2879]\n",
       "@startuml\r\n",
       " \r\n",
       "package \"OccurrenceTest\" as E1  [[psysml:e6ab502d-dafd-416a-a255-3fa3ad3c263c ]]  {\r\n",
       "comp def \"Occ\" as E2 << <<(D,brown) occurrence def>> [[psysml:1203d309-d98c-452c-84ab-9db93e8b8d83 ]] {\r\n",
       "a\r\n",
       "}\r\n",
       "comp usage \"occ1: Occ\" as E3 << <<(U,orange) occurrence>> [[psysml:158a345e-3640-4aa1-8638-58b6699698f0 ]] {\r\n",
       "}\r\n",
       "comp usage \"occ2: Occ\" as E4 << <<(U,orange) occurrence>> [[psysml:5ccc27c3-07b1-4713-880e-82008912fb62 ]] {\r\n",
       "}\r\n",
       "comp usage \"s: Ind\" as E5 << individual snapshot <<(U,orange) occurrence>> [[psysml:b931cfcd-d1f5-4c70-b44c-3b4fd21c9018 ]] {\r\n",
       "}\r\n",
       "comp usage \"t\" as E6 << timeslice <<(U,orange) occurrence>> [[psysml:a76dffb5-cb4a-4142-b15c-9dbeb6bd2474 ]] {\r\n",
       "}\r\n",
       "comp def \"Ind\" as E7 << individual <<(D,brown) occurrence def>> [[psysml:cddcce1d-840d-4259-9672-1cad32ef9616 ]] {\r\n",
       "}\r\n",
       "comp usage \"s2\" as E8 << snapshot <<(U,orange) occurrence>> [[psysml:760118bf-f26e-45fa-9528-0dbdf12ed33d ]] {\r\n",
       "}\r\n",
       "comp usage \"t2\" as E9 << timeslice <<(U,orange) occurrence>> [[psysml:6916c4a6-d3e9-4718-9bd3-b4da3843528f ]] {\r\n",
       "}\r\n",
       "comp usage \"ind: Ind, Occ\" as E10 << individual <<(U,orange) occurrence>> [[psysml:ca3e4eae-d888-4010-bdf5-da81d89d1eab ]] {\r\n",
       "}\r\n",
       "comp usage \"s3\" as E11 << snapshot <<(U,orange) occurrence>> [[psysml:a7aa12fc-e204-4f0a-90f2-9ab0101a123a ]] {\r\n",
       "}\r\n",
       "comp usage \"t3\" as E12 << individual timeslice <<(U,orange) occurrence>> [[psysml:5052c3e9-886b-4521-8bf3-18ad9cb470c5 ]] {\r\n",
       "}\r\n",
       "comp usage \"s4: Ind\" as E13 << individual snapshot <<(U,orange) occurrence>> [[psysml:e6d8c0e1-46dd-40c0-98f9-8ea23118f8bb ]] {\r\n",
       "}\r\n",
       "}\r\n",
       "E2 o- - E3 [[psysml:816d5179-2674-4631-83bc-f7d71b4237a7 ]] \r\n",
       "E3 - -:|> E2 [[psysml:eb3070f5-b0ea-4331-ac23-68f76765f53a ]] \r\n",
       "E2 *- - E4 [[psysml:0447f336-2e88-4877-9a74-bac22478a75a ]] \r\n",
       "E4 - -:|> E2 [[psysml:bbe7f0c0-75f0-4d42-b38b-c0f55f25890a ]] \r\n",
       "E2 *- - E5 [[psysml:5c44c5f5-a434-4c27-9e5d-4b118f9f4fa1 ]] \r\n",
       "E2 *- - \"*\"E6 [[psysml:f84da050-0b5f-49f5-998e-9b704fc66ebc ]] \r\n",
       "E5 - -:|> E7 [[psysml:5222325c-bb46-4e39-81f0-12dbae43365a ]] \r\n",
       "E7 *- - \"*\"E8 [[psysml:62bbb331-bb03-464e-9e32-68694608bffc ]] \r\n",
       "E7 *- - \"*\"E9 [[psysml:6940b1aa-8c0f-4381-86aa-7b3e10e8c0d6 ]] \r\n",
       "E10 - -:|> E7 [[psysml:2d47db94-d209-4d22-9eae-73bfc16721f5 ]] \r\n",
       "E10 - -:|> E2 [[psysml:6622b004-fc37-43f3-bc42-fdfacc696359 ]] \r\n",
       "E10 *- - E11 [[psysml:973d09ca-2c85-400b-8a26-6e03e711a9dc ]] \r\n",
       "E10 *- - E12 [[psysml:4b2dc275-57bf-47aa-bec9-3fe53972a958 ]] \r\n",
       "E13 - -:|> E7 [[psysml:99db2ce7-7db4-4747-aea3-ba596a45b862 ]] \r\n",
       "@enduml\r\n",
       "\n",
       "PlantUML version 1.2020.13(Sat Jun 13 12:26:38 UTC 2020)\n",
       "(EPL source distribution)\n",
       "Java Runtime: OpenJDK Runtime Environment\n",
       "JVM: OpenJDK 64-Bit Server VM\n",
       "Default Encoding: UTF-8\n",
       "Language: en\n",
       "Country: null\n",
       "--></g></svg>"
      ]
     },
     "execution_count": 30,
     "metadata": {},
     "output_type": "execute_result"
    }
   ],
   "source": [
    "%viz --style=\"PLANTUML\" --view=\"Default\" \"OccurrenceTest\""
   ]
  },
  {
   "cell_type": "code",
   "execution_count": 31,
   "id": "e4d61454",
   "metadata": {
    "execution": {
     "iopub.execute_input": "2021-10-03T08:28:44.606635Z",
     "iopub.status.busy": "2021-10-03T08:28:44.606239Z",
     "iopub.status.idle": "2021-10-03T08:28:44.657892Z",
     "shell.execute_reply": "2021-10-03T08:28:44.657540Z"
    }
   },
   "outputs": [
    {
     "data": {
      "image/svg+xml": [
       "<?xml version=\"1.0\" encoding=\"UTF-8\" standalone=\"no\"?><svg xmlns=\"http://www.w3.org/2000/svg\" xmlns:xlink=\"http://www.w3.org/1999/xlink\" contentScriptType=\"application/ecmascript\" contentStyleType=\"text/css\" height=\"552px\" preserveAspectRatio=\"none\" style=\"width:813px;height:552px;\" version=\"1.1\" viewBox=\"0 0 813 552\" width=\"813px\" zoomAndPan=\"magnify\"><defs><filter height=\"300%\" id=\"faydpvk6eseuc\" width=\"300%\" x=\"-1\" y=\"-1\"><feGaussianBlur result=\"blurOut\" stdDeviation=\"2.0\"/><feColorMatrix in=\"blurOut\" result=\"blurOut2\" type=\"matrix\" values=\"0 0 0 0 0 0 0 0 0 0 0 0 0 0 0 0 0 0 .4 0\"/><feOffset dx=\"4.0\" dy=\"4.0\" in=\"blurOut2\" result=\"blurOut3\"/><feBlend in=\"SourceGraphic\" in2=\"blurOut3\" mode=\"normal\"/></filter></defs><g><!--MD5=[fbc87193dbaf4d95561dea2c320d4a47]\n",
       "cluster E1--><a href=\"psysml:e6ab502d-dafd-416a-a255-3fa3ad3c263c\" target=\"_top\" title=\"psysml:e6ab502d-dafd-416a-a255-3fa3ad3c263c\" xlink:actuate=\"onRequest\" xlink:href=\"psysml:e6ab502d-dafd-416a-a255-3fa3ad3c263c\" xlink:show=\"new\" xlink:title=\"psysml:e6ab502d-dafd-416a-a255-3fa3ad3c263c\" xlink:type=\"simple\"><polygon fill=\"#FFFFFF\" filter=\"url(#faydpvk6eseuc)\" points=\"16,6,134,6,141,28.2969,791,28.2969,791,540,16,540,16,6\" style=\"stroke: #000000; stroke-width: 1.5;\"/><line style=\"stroke: #000000; stroke-width: 1.5;\" x1=\"16\" x2=\"141\" y1=\"28.2969\" y2=\"28.2969\"/><text fill=\"#000000\" font-family=\"sans-serif\" font-size=\"14\" font-weight=\"bold\" lengthAdjust=\"spacingAndGlyphs\" textLength=\"112\" x=\"20\" y=\"20.9951\">OccurrenceTest</text></a><!--MD5=[b4997ac47864f28c2f74865a473b2911]\n",
       "class E2--><a href=\"psysml:1203d309-d98c-452c-84ab-9db93e8b8d83\" target=\"_top\" title=\"psysml:1203d309-d98c-452c-84ab-9db93e8b8d83\" xlink:actuate=\"onRequest\" xlink:href=\"psysml:1203d309-d98c-452c-84ab-9db93e8b8d83\" xlink:show=\"new\" xlink:title=\"psysml:1203d309-d98c-452c-84ab-9db93e8b8d83\" xlink:type=\"simple\"><rect fill=\"#FEFECE\" filter=\"url(#faydpvk6eseuc)\" height=\"58.7422\" id=\"E2\" style=\"stroke: #A80036; stroke-width: 1.5;\" width=\"137\" x=\"303.5\" y=\"147\"/><ellipse cx=\"318.5\" cy=\"165.9688\" fill=\"#A52A2A\" rx=\"11\" ry=\"11\" style=\"stroke: #A80036; stroke-width: 1.0;\"/><path d=\"M315.7188,170.9688 L315.7188,160.375 L318.4531,160.375 Q319.8438,160.375 320.6094,160.7656 Q321.3906,161.1406 321.9219,161.8438 Q322.4531,162.5469 322.75,163.5469 Q323.0469,164.5313 323.0469,165.75 Q323,167.3438 322.5,168.5313 Q322.0156,169.7031 320.9688,170.3438 Q319.9375,170.9688 318.25,170.9688 L315.7188,170.9688 Z M317.5781,169.4688 L318.2031,169.4688 Q319.2813,169.4688 319.9375,169.0156 Q320.5938,168.5625 320.875,167.7344 Q321.1719,166.8906 321.1563,165.7656 Q321.1563,164.5938 320.9063,163.7344 Q320.6563,162.8594 320.0469,162.3906 Q319.4375,161.9063 318.3906,161.9063 L317.5781,161.9063 L317.5781,169.4688 Z \"/><text fill=\"#000000\" font-family=\"sans-serif\" font-size=\"12\" font-style=\"italic\" lengthAdjust=\"spacingAndGlyphs\" textLength=\"109\" x=\"330.5\" y=\"163.1387\">«occurrence def»</text><text fill=\"#000000\" font-family=\"sans-serif\" font-size=\"12\" lengthAdjust=\"spacingAndGlyphs\" textLength=\"23\" x=\"373.5\" y=\"177.1074\">Occ</text><line style=\"stroke: #A80036; stroke-width: 1.5;\" x1=\"304.5\" x2=\"439.5\" y1=\"184.9375\" y2=\"184.9375\"/><text fill=\"#000000\" font-family=\"sans-serif\" font-size=\"11\" lengthAdjust=\"spacingAndGlyphs\" textLength=\"7\" x=\"309.5\" y=\"199.1479\">a</text></a><!--MD5=[09b614a08d8cba4a07c9adeb5e0fee81]\n",
       "class E3--><a href=\"psysml:158a345e-3640-4aa1-8638-58b6699698f0\" target=\"_top\" title=\"psysml:158a345e-3640-4aa1-8638-58b6699698f0\" xlink:actuate=\"onRequest\" xlink:href=\"psysml:158a345e-3640-4aa1-8638-58b6699698f0\" xlink:show=\"new\" xlink:title=\"psysml:158a345e-3640-4aa1-8638-58b6699698f0\" xlink:type=\"simple\"><rect fill=\"#FEFECE\" filter=\"url(#faydpvk6eseuc)\" height=\"45.9375\" id=\"E3\" rx=\"10\" ry=\"10\" style=\"stroke: #A80036; stroke-width: 1.5;\" width=\"113\" x=\"180.5\" y=\"266\"/><ellipse cx=\"195.5\" cy=\"284.9688\" fill=\"#FFA500\" rx=\"11\" ry=\"11\" style=\"stroke: #A80036; stroke-width: 1.0;\"/><path d=\"M195.25,290.4375 Q193.5,290.4375 192.5469,289.4063 Q191.6094,288.3594 191.6094,286.5156 L191.6094,279.625 L193.6719,279.625 L193.6719,279.7813 Q193.5781,279.875 193.5469,280.0156 Q193.5313,280.1406 193.5313,280.4063 L193.5313,286.5313 Q193.5313,287.625 193.9063,288.25 Q194.2813,288.875 195.2656,288.875 Q196.25,288.875 196.6406,288.25 Q197.0313,287.625 197.0313,286.4844 L197.0313,279.625 L198.9063,279.625 L198.9063,286.4688 Q198.9063,288.5 197.875,289.4688 Q196.8594,290.4375 195.25,290.4375 Z \"/><text fill=\"#000000\" font-family=\"sans-serif\" font-size=\"12\" font-style=\"italic\" lengthAdjust=\"spacingAndGlyphs\" textLength=\"85\" x=\"207.5\" y=\"282.1387\">«occurrence»</text><text fill=\"#000000\" font-family=\"sans-serif\" font-size=\"12\" lengthAdjust=\"spacingAndGlyphs\" textLength=\"61\" x=\"219.5\" y=\"296.1074\">occ1: Occ</text><line style=\"stroke: #A80036; stroke-width: 1.5;\" x1=\"181.5\" x2=\"292.5\" y1=\"303.9375\" y2=\"303.9375\"/></a><!--MD5=[ebbe1d658d1005bcc118a6aa81145e00]\n",
       "class E4--><a href=\"psysml:5ccc27c3-07b1-4713-880e-82008912fb62\" target=\"_top\" title=\"psysml:5ccc27c3-07b1-4713-880e-82008912fb62\" xlink:actuate=\"onRequest\" xlink:href=\"psysml:5ccc27c3-07b1-4713-880e-82008912fb62\" xlink:show=\"new\" xlink:title=\"psysml:5ccc27c3-07b1-4713-880e-82008912fb62\" xlink:type=\"simple\"><rect fill=\"#FEFECE\" filter=\"url(#faydpvk6eseuc)\" height=\"45.9375\" id=\"E4\" rx=\"10\" ry=\"10\" style=\"stroke: #A80036; stroke-width: 1.5;\" width=\"113\" x=\"328.5\" y=\"266\"/><ellipse cx=\"343.5\" cy=\"284.9688\" fill=\"#FFA500\" rx=\"11\" ry=\"11\" style=\"stroke: #A80036; stroke-width: 1.0;\"/><path d=\"M343.25,290.4375 Q341.5,290.4375 340.5469,289.4063 Q339.6094,288.3594 339.6094,286.5156 L339.6094,279.625 L341.6719,279.625 L341.6719,279.7813 Q341.5781,279.875 341.5469,280.0156 Q341.5313,280.1406 341.5313,280.4063 L341.5313,286.5313 Q341.5313,287.625 341.9063,288.25 Q342.2813,288.875 343.2656,288.875 Q344.25,288.875 344.6406,288.25 Q345.0313,287.625 345.0313,286.4844 L345.0313,279.625 L346.9063,279.625 L346.9063,286.4688 Q346.9063,288.5 345.875,289.4688 Q344.8594,290.4375 343.25,290.4375 Z \"/><text fill=\"#000000\" font-family=\"sans-serif\" font-size=\"12\" font-style=\"italic\" lengthAdjust=\"spacingAndGlyphs\" textLength=\"85\" x=\"355.5\" y=\"282.1387\">«occurrence»</text><text fill=\"#000000\" font-family=\"sans-serif\" font-size=\"12\" lengthAdjust=\"spacingAndGlyphs\" textLength=\"61\" x=\"367.5\" y=\"296.1074\">occ2: Occ</text><line style=\"stroke: #A80036; stroke-width: 1.5;\" x1=\"329.5\" x2=\"440.5\" y1=\"303.9375\" y2=\"303.9375\"/></a><!--MD5=[270fce915f116d4de14055a7c1d9a0f3]\n",
       "class E5--><a href=\"psysml:b931cfcd-d1f5-4c70-b44c-3b4fd21c9018\" target=\"_top\" title=\"psysml:b931cfcd-d1f5-4c70-b44c-3b4fd21c9018\" xlink:actuate=\"onRequest\" xlink:href=\"psysml:b931cfcd-d1f5-4c70-b44c-3b4fd21c9018\" xlink:show=\"new\" xlink:title=\"psysml:b931cfcd-d1f5-4c70-b44c-3b4fd21c9018\" xlink:type=\"simple\"><rect fill=\"#FEFECE\" filter=\"url(#faydpvk6eseuc)\" height=\"45.9375\" id=\"E5\" rx=\"10\" ry=\"10\" style=\"stroke: #A80036; stroke-width: 1.5;\" width=\"113\" x=\"476.5\" y=\"266\"/><ellipse cx=\"491.5\" cy=\"284.9688\" fill=\"#FFA500\" rx=\"11\" ry=\"11\" style=\"stroke: #A80036; stroke-width: 1.0;\"/><path d=\"M491.25,290.4375 Q489.5,290.4375 488.5469,289.4063 Q487.6094,288.3594 487.6094,286.5156 L487.6094,279.625 L489.6719,279.625 L489.6719,279.7813 Q489.5781,279.875 489.5469,280.0156 Q489.5313,280.1406 489.5313,280.4063 L489.5313,286.5313 Q489.5313,287.625 489.9063,288.25 Q490.2813,288.875 491.2656,288.875 Q492.25,288.875 492.6406,288.25 Q493.0313,287.625 493.0313,286.4844 L493.0313,279.625 L494.9063,279.625 L494.9063,286.4688 Q494.9063,288.5 493.875,289.4688 Q492.8594,290.4375 491.25,290.4375 Z \"/><text fill=\"#000000\" font-family=\"sans-serif\" font-size=\"12\" font-style=\"italic\" lengthAdjust=\"spacingAndGlyphs\" textLength=\"85\" x=\"503.5\" y=\"282.1387\">«occurrence»</text><text fill=\"#000000\" font-family=\"sans-serif\" font-size=\"12\" lengthAdjust=\"spacingAndGlyphs\" textLength=\"34\" x=\"529\" y=\"296.1074\">s: Ind</text><line style=\"stroke: #A80036; stroke-width: 1.5;\" x1=\"477.5\" x2=\"588.5\" y1=\"303.9375\" y2=\"303.9375\"/></a><!--MD5=[60a26617385b1d2d0262a64233df1f8d]\n",
       "class E6--><a href=\"psysml:a76dffb5-cb4a-4142-b15c-9dbeb6bd2474\" target=\"_top\" title=\"psysml:a76dffb5-cb4a-4142-b15c-9dbeb6bd2474\" xlink:actuate=\"onRequest\" xlink:href=\"psysml:a76dffb5-cb4a-4142-b15c-9dbeb6bd2474\" xlink:show=\"new\" xlink:title=\"psysml:a76dffb5-cb4a-4142-b15c-9dbeb6bd2474\" xlink:type=\"simple\"><rect fill=\"#FEFECE\" filter=\"url(#faydpvk6eseuc)\" height=\"45.9375\" id=\"E6\" rx=\"10\" ry=\"10\" style=\"stroke: #A80036; stroke-width: 1.5;\" width=\"113\" x=\"624.5\" y=\"266\"/><ellipse cx=\"639.5\" cy=\"284.9688\" fill=\"#FFA500\" rx=\"11\" ry=\"11\" style=\"stroke: #A80036; stroke-width: 1.0;\"/><path d=\"M639.25,290.4375 Q637.5,290.4375 636.5469,289.4063 Q635.6094,288.3594 635.6094,286.5156 L635.6094,279.625 L637.6719,279.625 L637.6719,279.7813 Q637.5781,279.875 637.5469,280.0156 Q637.5313,280.1406 637.5313,280.4063 L637.5313,286.5313 Q637.5313,287.625 637.9063,288.25 Q638.2813,288.875 639.2656,288.875 Q640.25,288.875 640.6406,288.25 Q641.0313,287.625 641.0313,286.4844 L641.0313,279.625 L642.9063,279.625 L642.9063,286.4688 Q642.9063,288.5 641.875,289.4688 Q640.8594,290.4375 639.25,290.4375 Z \"/><text fill=\"#000000\" font-family=\"sans-serif\" font-size=\"12\" font-style=\"italic\" lengthAdjust=\"spacingAndGlyphs\" textLength=\"85\" x=\"651.5\" y=\"282.1387\">«occurrence»</text><text fill=\"#000000\" font-family=\"sans-serif\" font-size=\"12\" lengthAdjust=\"spacingAndGlyphs\" textLength=\"5\" x=\"691.5\" y=\"296.1074\">t</text><line style=\"stroke: #A80036; stroke-width: 1.5;\" x1=\"625.5\" x2=\"736.5\" y1=\"303.9375\" y2=\"303.9375\"/></a><!--MD5=[2156ba9850f5573cc1fc38a6a4b2f02b]\n",
       "class E7--><a href=\"psysml:cddcce1d-840d-4259-9672-1cad32ef9616\" target=\"_top\" title=\"psysml:cddcce1d-840d-4259-9672-1cad32ef9616\" xlink:actuate=\"onRequest\" xlink:href=\"psysml:cddcce1d-840d-4259-9672-1cad32ef9616\" xlink:show=\"new\" xlink:title=\"psysml:cddcce1d-840d-4259-9672-1cad32ef9616\" xlink:type=\"simple\"><rect fill=\"#FEFECE\" filter=\"url(#faydpvk6eseuc)\" height=\"45.9375\" id=\"E7\" style=\"stroke: #A80036; stroke-width: 1.5;\" width=\"137\" x=\"464.5\" y=\"372\"/><ellipse cx=\"479.5\" cy=\"390.9688\" fill=\"#A52A2A\" rx=\"11\" ry=\"11\" style=\"stroke: #A80036; stroke-width: 1.0;\"/><path d=\"M476.7188,395.9688 L476.7188,385.375 L479.4531,385.375 Q480.8438,385.375 481.6094,385.7656 Q482.3906,386.1406 482.9219,386.8438 Q483.4531,387.5469 483.75,388.5469 Q484.0469,389.5313 484.0469,390.75 Q484,392.3438 483.5,393.5313 Q483.0156,394.7031 481.9688,395.3438 Q480.9375,395.9688 479.25,395.9688 L476.7188,395.9688 Z M478.5781,394.4688 L479.2031,394.4688 Q480.2813,394.4688 480.9375,394.0156 Q481.5938,393.5625 481.875,392.7344 Q482.1719,391.8906 482.1563,390.7656 Q482.1563,389.5938 481.9063,388.7344 Q481.6563,387.8594 481.0469,387.3906 Q480.4375,386.9063 479.3906,386.9063 L478.5781,386.9063 L478.5781,394.4688 Z \"/><text fill=\"#000000\" font-family=\"sans-serif\" font-size=\"12\" font-style=\"italic\" lengthAdjust=\"spacingAndGlyphs\" textLength=\"109\" x=\"491.5\" y=\"388.1387\">«occurrence def»</text><text fill=\"#000000\" font-family=\"sans-serif\" font-size=\"12\" lengthAdjust=\"spacingAndGlyphs\" textLength=\"19\" x=\"536.5\" y=\"402.1074\">Ind</text><line style=\"stroke: #A80036; stroke-width: 1.5;\" x1=\"465.5\" x2=\"600.5\" y1=\"409.9375\" y2=\"409.9375\"/></a><!--MD5=[b9389687b975829384b498ac4b7476b2]\n",
       "class E8--><a href=\"psysml:760118bf-f26e-45fa-9528-0dbdf12ed33d\" target=\"_top\" title=\"psysml:760118bf-f26e-45fa-9528-0dbdf12ed33d\" xlink:actuate=\"onRequest\" xlink:href=\"psysml:760118bf-f26e-45fa-9528-0dbdf12ed33d\" xlink:show=\"new\" xlink:title=\"psysml:760118bf-f26e-45fa-9528-0dbdf12ed33d\" xlink:type=\"simple\"><rect fill=\"#FEFECE\" filter=\"url(#faydpvk6eseuc)\" height=\"45.9375\" id=\"E8\" rx=\"10\" ry=\"10\" style=\"stroke: #A80036; stroke-width: 1.5;\" width=\"113\" x=\"402.5\" y=\"478\"/><ellipse cx=\"417.5\" cy=\"496.9688\" fill=\"#FFA500\" rx=\"11\" ry=\"11\" style=\"stroke: #A80036; stroke-width: 1.0;\"/><path d=\"M417.25,502.4375 Q415.5,502.4375 414.5469,501.4063 Q413.6094,500.3594 413.6094,498.5156 L413.6094,491.625 L415.6719,491.625 L415.6719,491.7813 Q415.5781,491.875 415.5469,492.0156 Q415.5313,492.1406 415.5313,492.4063 L415.5313,498.5313 Q415.5313,499.625 415.9063,500.25 Q416.2813,500.875 417.2656,500.875 Q418.25,500.875 418.6406,500.25 Q419.0313,499.625 419.0313,498.4844 L419.0313,491.625 L420.9063,491.625 L420.9063,498.4688 Q420.9063,500.5 419.875,501.4688 Q418.8594,502.4375 417.25,502.4375 Z \"/><text fill=\"#000000\" font-family=\"sans-serif\" font-size=\"12\" font-style=\"italic\" lengthAdjust=\"spacingAndGlyphs\" textLength=\"85\" x=\"429.5\" y=\"494.1387\">«occurrence»</text><text fill=\"#000000\" font-family=\"sans-serif\" font-size=\"12\" lengthAdjust=\"spacingAndGlyphs\" textLength=\"15\" x=\"464.5\" y=\"508.1074\">s2</text><line style=\"stroke: #A80036; stroke-width: 1.5;\" x1=\"403.5\" x2=\"514.5\" y1=\"515.9375\" y2=\"515.9375\"/></a><!--MD5=[fd4143e9d270a159db93a4ea2a975926]\n",
       "class E9--><a href=\"psysml:6916c4a6-d3e9-4718-9bd3-b4da3843528f\" target=\"_top\" title=\"psysml:6916c4a6-d3e9-4718-9bd3-b4da3843528f\" xlink:actuate=\"onRequest\" xlink:href=\"psysml:6916c4a6-d3e9-4718-9bd3-b4da3843528f\" xlink:show=\"new\" xlink:title=\"psysml:6916c4a6-d3e9-4718-9bd3-b4da3843528f\" xlink:type=\"simple\"><rect fill=\"#FEFECE\" filter=\"url(#faydpvk6eseuc)\" height=\"45.9375\" id=\"E9\" rx=\"10\" ry=\"10\" style=\"stroke: #A80036; stroke-width: 1.5;\" width=\"113\" x=\"550.5\" y=\"478\"/><ellipse cx=\"565.5\" cy=\"496.9688\" fill=\"#FFA500\" rx=\"11\" ry=\"11\" style=\"stroke: #A80036; stroke-width: 1.0;\"/><path d=\"M565.25,502.4375 Q563.5,502.4375 562.5469,501.4063 Q561.6094,500.3594 561.6094,498.5156 L561.6094,491.625 L563.6719,491.625 L563.6719,491.7813 Q563.5781,491.875 563.5469,492.0156 Q563.5313,492.1406 563.5313,492.4063 L563.5313,498.5313 Q563.5313,499.625 563.9063,500.25 Q564.2813,500.875 565.2656,500.875 Q566.25,500.875 566.6406,500.25 Q567.0313,499.625 567.0313,498.4844 L567.0313,491.625 L568.9063,491.625 L568.9063,498.4688 Q568.9063,500.5 567.875,501.4688 Q566.8594,502.4375 565.25,502.4375 Z \"/><text fill=\"#000000\" font-family=\"sans-serif\" font-size=\"12\" font-style=\"italic\" lengthAdjust=\"spacingAndGlyphs\" textLength=\"85\" x=\"577.5\" y=\"494.1387\">«occurrence»</text><text fill=\"#000000\" font-family=\"sans-serif\" font-size=\"12\" lengthAdjust=\"spacingAndGlyphs\" textLength=\"13\" x=\"613.5\" y=\"508.1074\">t2</text><line style=\"stroke: #A80036; stroke-width: 1.5;\" x1=\"551.5\" x2=\"662.5\" y1=\"515.9375\" y2=\"515.9375\"/></a><!--MD5=[96f4274e9e20536e775497830990834d]\n",
       "class E10--><a href=\"psysml:ca3e4eae-d888-4010-bdf5-da81d89d1eab\" target=\"_top\" title=\"psysml:ca3e4eae-d888-4010-bdf5-da81d89d1eab\" xlink:actuate=\"onRequest\" xlink:href=\"psysml:ca3e4eae-d888-4010-bdf5-da81d89d1eab\" xlink:show=\"new\" xlink:title=\"psysml:ca3e4eae-d888-4010-bdf5-da81d89d1eab\" xlink:type=\"simple\"><rect fill=\"#FEFECE\" filter=\"url(#faydpvk6eseuc)\" height=\"45.9375\" id=\"E10\" rx=\"10\" ry=\"10\" style=\"stroke: #A80036; stroke-width: 1.5;\" width=\"113\" x=\"466.5\" y=\"41\"/><ellipse cx=\"481.5\" cy=\"59.9688\" fill=\"#FFA500\" rx=\"11\" ry=\"11\" style=\"stroke: #A80036; stroke-width: 1.0;\"/><path d=\"M481.25,65.4375 Q479.5,65.4375 478.5469,64.4063 Q477.6094,63.3594 477.6094,61.5156 L477.6094,54.625 L479.6719,54.625 L479.6719,54.7813 Q479.5781,54.875 479.5469,55.0156 Q479.5313,55.1406 479.5313,55.4063 L479.5313,61.5313 Q479.5313,62.625 479.9063,63.25 Q480.2813,63.875 481.2656,63.875 Q482.25,63.875 482.6406,63.25 Q483.0313,62.625 483.0313,61.4844 L483.0313,54.625 L484.9063,54.625 L484.9063,61.4688 Q484.9063,63.5 483.875,64.4688 Q482.8594,65.4375 481.25,65.4375 Z \"/><text fill=\"#000000\" font-family=\"sans-serif\" font-size=\"12\" font-style=\"italic\" lengthAdjust=\"spacingAndGlyphs\" textLength=\"85\" x=\"493.5\" y=\"57.1387\">«occurrence»</text><text fill=\"#000000\" font-family=\"sans-serif\" font-size=\"12\" lengthAdjust=\"spacingAndGlyphs\" textLength=\"77\" x=\"497.5\" y=\"71.1074\">ind: Ind, Occ</text><line style=\"stroke: #A80036; stroke-width: 1.5;\" x1=\"467.5\" x2=\"578.5\" y1=\"78.9375\" y2=\"78.9375\"/></a><!--MD5=[1dd1bfd58a279cf63c5f349dbc8fc6a1]\n",
       "class E11--><a href=\"psysml:a7aa12fc-e204-4f0a-90f2-9ab0101a123a\" target=\"_top\" title=\"psysml:a7aa12fc-e204-4f0a-90f2-9ab0101a123a\" xlink:actuate=\"onRequest\" xlink:href=\"psysml:a7aa12fc-e204-4f0a-90f2-9ab0101a123a\" xlink:show=\"new\" xlink:title=\"psysml:a7aa12fc-e204-4f0a-90f2-9ab0101a123a\" xlink:type=\"simple\"><rect fill=\"#FEFECE\" filter=\"url(#faydpvk6eseuc)\" height=\"45.9375\" id=\"E11\" rx=\"10\" ry=\"10\" style=\"stroke: #A80036; stroke-width: 1.5;\" width=\"113\" x=\"513.5\" y=\"153.5\"/><ellipse cx=\"528.5\" cy=\"172.4688\" fill=\"#FFA500\" rx=\"11\" ry=\"11\" style=\"stroke: #A80036; stroke-width: 1.0;\"/><path d=\"M528.25,177.9375 Q526.5,177.9375 525.5469,176.9063 Q524.6094,175.8594 524.6094,174.0156 L524.6094,167.125 L526.6719,167.125 L526.6719,167.2813 Q526.5781,167.375 526.5469,167.5156 Q526.5313,167.6406 526.5313,167.9063 L526.5313,174.0313 Q526.5313,175.125 526.9063,175.75 Q527.2813,176.375 528.2656,176.375 Q529.25,176.375 529.6406,175.75 Q530.0313,175.125 530.0313,173.9844 L530.0313,167.125 L531.9063,167.125 L531.9063,173.9688 Q531.9063,176 530.875,176.9688 Q529.8594,177.9375 528.25,177.9375 Z \"/><text fill=\"#000000\" font-family=\"sans-serif\" font-size=\"12\" font-style=\"italic\" lengthAdjust=\"spacingAndGlyphs\" textLength=\"85\" x=\"540.5\" y=\"169.6387\">«occurrence»</text><text fill=\"#000000\" font-family=\"sans-serif\" font-size=\"12\" lengthAdjust=\"spacingAndGlyphs\" textLength=\"15\" x=\"575.5\" y=\"183.6074\">s3</text><line style=\"stroke: #A80036; stroke-width: 1.5;\" x1=\"514.5\" x2=\"625.5\" y1=\"191.4375\" y2=\"191.4375\"/></a><!--MD5=[49a0ec8f00dab7302a31f22d0f0fe584]\n",
       "class E12--><a href=\"psysml:5052c3e9-886b-4521-8bf3-18ad9cb470c5\" target=\"_top\" title=\"psysml:5052c3e9-886b-4521-8bf3-18ad9cb470c5\" xlink:actuate=\"onRequest\" xlink:href=\"psysml:5052c3e9-886b-4521-8bf3-18ad9cb470c5\" xlink:show=\"new\" xlink:title=\"psysml:5052c3e9-886b-4521-8bf3-18ad9cb470c5\" xlink:type=\"simple\"><rect fill=\"#FEFECE\" filter=\"url(#faydpvk6eseuc)\" height=\"45.9375\" id=\"E12\" rx=\"10\" ry=\"10\" style=\"stroke: #A80036; stroke-width: 1.5;\" width=\"113\" x=\"661.5\" y=\"153.5\"/><ellipse cx=\"676.5\" cy=\"172.4688\" fill=\"#FFA500\" rx=\"11\" ry=\"11\" style=\"stroke: #A80036; stroke-width: 1.0;\"/><path d=\"M676.25,177.9375 Q674.5,177.9375 673.5469,176.9063 Q672.6094,175.8594 672.6094,174.0156 L672.6094,167.125 L674.6719,167.125 L674.6719,167.2813 Q674.5781,167.375 674.5469,167.5156 Q674.5313,167.6406 674.5313,167.9063 L674.5313,174.0313 Q674.5313,175.125 674.9063,175.75 Q675.2813,176.375 676.2656,176.375 Q677.25,176.375 677.6406,175.75 Q678.0313,175.125 678.0313,173.9844 L678.0313,167.125 L679.9063,167.125 L679.9063,173.9688 Q679.9063,176 678.875,176.9688 Q677.8594,177.9375 676.25,177.9375 Z \"/><text fill=\"#000000\" font-family=\"sans-serif\" font-size=\"12\" font-style=\"italic\" lengthAdjust=\"spacingAndGlyphs\" textLength=\"85\" x=\"688.5\" y=\"169.6387\">«occurrence»</text><text fill=\"#000000\" font-family=\"sans-serif\" font-size=\"12\" lengthAdjust=\"spacingAndGlyphs\" textLength=\"13\" x=\"724.5\" y=\"183.6074\">t3</text><line style=\"stroke: #A80036; stroke-width: 1.5;\" x1=\"662.5\" x2=\"773.5\" y1=\"191.4375\" y2=\"191.4375\"/></a><!--MD5=[ee3c913d1a06f366521f9ef512b67efe]\n",
       "class E13--><a href=\"psysml:e6d8c0e1-46dd-40c0-98f9-8ea23118f8bb\" target=\"_top\" title=\"psysml:e6d8c0e1-46dd-40c0-98f9-8ea23118f8bb\" xlink:actuate=\"onRequest\" xlink:href=\"psysml:e6d8c0e1-46dd-40c0-98f9-8ea23118f8bb\" xlink:show=\"new\" xlink:title=\"psysml:e6d8c0e1-46dd-40c0-98f9-8ea23118f8bb\" xlink:type=\"simple\"><rect fill=\"#FEFECE\" filter=\"url(#faydpvk6eseuc)\" height=\"45.9375\" id=\"E13\" rx=\"10\" ry=\"10\" style=\"stroke: #A80036; stroke-width: 1.5;\" width=\"113\" x=\"32.5\" y=\"266\"/><ellipse cx=\"47.5\" cy=\"284.9688\" fill=\"#FFA500\" rx=\"11\" ry=\"11\" style=\"stroke: #A80036; stroke-width: 1.0;\"/><path d=\"M47.25,290.4375 Q45.5,290.4375 44.5469,289.4063 Q43.6094,288.3594 43.6094,286.5156 L43.6094,279.625 L45.6719,279.625 L45.6719,279.7813 Q45.5781,279.875 45.5469,280.0156 Q45.5313,280.1406 45.5313,280.4063 L45.5313,286.5313 Q45.5313,287.625 45.9063,288.25 Q46.2813,288.875 47.2656,288.875 Q48.25,288.875 48.6406,288.25 Q49.0313,287.625 49.0313,286.4844 L49.0313,279.625 L50.9063,279.625 L50.9063,286.4688 Q50.9063,288.5 49.875,289.4688 Q48.8594,290.4375 47.25,290.4375 Z \"/><text fill=\"#000000\" font-family=\"sans-serif\" font-size=\"12\" font-style=\"italic\" lengthAdjust=\"spacingAndGlyphs\" textLength=\"85\" x=\"59.5\" y=\"282.1387\">«occurrence»</text><text fill=\"#000000\" font-family=\"sans-serif\" font-size=\"12\" lengthAdjust=\"spacingAndGlyphs\" textLength=\"42\" x=\"81\" y=\"296.1074\">s4: Ind</text><line style=\"stroke: #A80036; stroke-width: 1.5;\" x1=\"33.5\" x2=\"144.5\" y1=\"303.9375\" y2=\"303.9375\"/></a><!--MD5=[209b3feb70ccb6233bfe1053d122c12c]\n",
       "reverse link E2 to E3--><a href=\"psysml:816d5179-2674-4631-83bc-f7d71b4237a7\" target=\"_top\" title=\"psysml:816d5179-2674-4631-83bc-f7d71b4237a7\" xlink:actuate=\"onRequest\" xlink:href=\"psysml:816d5179-2674-4631-83bc-f7d71b4237a7\" xlink:show=\"new\" xlink:title=\"psysml:816d5179-2674-4631-83bc-f7d71b4237a7\" xlink:type=\"simple\"><path d=\"M315.19,214.11 C293.09,231.16 269.52,250.9 253.8,265.68 \" fill=\"none\" id=\"E2&lt;-E3\" style=\"stroke: #A80036; stroke-width: 1.0;\"/><polygon fill=\"#FFFFFF\" points=\"325.54,206.24,318.3426,206.6843,315.9845,213.499,323.1819,213.0547,325.54,206.24\" style=\"stroke: #A80036; stroke-width: 1.0;\"/></a><!--MD5=[05d275557350bfb9b23a4ef7222b4c39]\n",
       "link E3 to E2--><a href=\"psysml:eb3070f5-b0ea-4331-ac23-68f76765f53a\" target=\"_top\" title=\"psysml:eb3070f5-b0ea-4331-ac23-68f76765f53a\" xlink:actuate=\"onRequest\" xlink:href=\"psysml:eb3070f5-b0ea-4331-ac23-68f76765f53a\" xlink:show=\"new\" xlink:title=\"psysml:eb3070f5-b0ea-4331-ac23-68f76765f53a\" xlink:type=\"simple\"><path d=\"M275.36,265.68 C293.76,252.43 315.48,235.22 333.82,219.51 \" fill=\"none\" id=\"E3-&gt;E2\" style=\"stroke: #A80036; stroke-width: 1.0;\"/><polygon fill=\"#FFFFFF\" points=\"348.89,206.24,339.2604,224.0521,330.006,213.5471,348.89,206.24\" style=\"stroke: #A80036; stroke-width: 1.0;\"/><ellipse cx=\"333.6613\" cy=\"226.3192\" fill=\"#A80036\" rx=\"2\" ry=\"2\" style=\"stroke: #A80036; stroke-width: 1.0;\"/><ellipse cx=\"327.051\" cy=\"218.8157\" fill=\"#A80036\" rx=\"2\" ry=\"2\" style=\"stroke: #A80036; stroke-width: 1.0;\"/></a><!--MD5=[9618e71518536f8baf3342ff6fdab317]\n",
       "reverse link E2 to E4--><a href=\"psysml:0447f336-2e88-4877-9a74-bac22478a75a\" target=\"_top\" title=\"psysml:0447f336-2e88-4877-9a74-bac22478a75a\" xlink:actuate=\"onRequest\" xlink:href=\"psysml:0447f336-2e88-4877-9a74-bac22478a75a\" xlink:show=\"new\" xlink:title=\"psysml:0447f336-2e88-4877-9a74-bac22478a75a\" xlink:type=\"simple\"><path d=\"M364.52,219.51 C365.57,235.22 368.25,252.43 371.9,265.68 \" fill=\"none\" id=\"E2&lt;-E4\" style=\"stroke: #A80036; stroke-width: 1.0;\"/><polygon fill=\"#A80036\" points=\"364.04,206.24,360.2603,212.3812,364.4754,218.2321,368.255,212.0909,364.04,206.24\" style=\"stroke: #A80036; stroke-width: 1.0;\"/></a><!--MD5=[185131fc0dcab0a4505a2ebe144e961b]\n",
       "link E4 to E2--><a href=\"psysml:bbe7f0c0-75f0-4d42-b38b-c0f55f25890a\" target=\"_top\" title=\"psysml:bbe7f0c0-75f0-4d42-b38b-c0f55f25890a\" xlink:actuate=\"onRequest\" xlink:href=\"psysml:bbe7f0c0-75f0-4d42-b38b-c0f55f25890a\" xlink:show=\"new\" xlink:title=\"psysml:bbe7f0c0-75f0-4d42-b38b-c0f55f25890a\" xlink:type=\"simple\"><path d=\"M393.46,265.68 C394.03,254.31 393.12,240.01 391.15,226.25 \" fill=\"none\" id=\"E4-&gt;E2\" style=\"stroke: #A80036; stroke-width: 1.0;\"/><polygon fill=\"#FFFFFF\" points=\"387.39,206.24,397.7716,223.6246,384.0114,226.2046,387.39,206.24\" style=\"stroke: #A80036; stroke-width: 1.0;\"/><ellipse cx=\"396.8563\" cy=\"229.5955\" fill=\"#A80036\" rx=\"2\" ry=\"2\" style=\"stroke: #A80036; stroke-width: 1.0;\"/><ellipse cx=\"387.0276\" cy=\"231.4384\" fill=\"#A80036\" rx=\"2\" ry=\"2\" style=\"stroke: #A80036; stroke-width: 1.0;\"/></a><!--MD5=[4e1a83fab71cdb913c109063314ae896]\n",
       "reverse link E2 to E5--><a href=\"psysml:5c44c5f5-a434-4c27-9e5d-4b118f9f4fa1\" target=\"_top\" title=\"psysml:5c44c5f5-a434-4c27-9e5d-4b118f9f4fa1\" xlink:actuate=\"onRequest\" xlink:href=\"psysml:5c44c5f5-a434-4c27-9e5d-4b118f9f4fa1\" xlink:show=\"new\" xlink:title=\"psysml:5c44c5f5-a434-4c27-9e5d-4b118f9f4fa1\" xlink:type=\"simple\"><path d=\"M424.71,213.68 C449.8,230.89 478.98,250.93 500.73,265.85 \" fill=\"none\" id=\"E2&lt;-E5\" style=\"stroke: #A80036; stroke-width: 1.0;\"/><polygon fill=\"#A80036\" points=\"413.88,206.24,416.5619,212.9338,423.7723,213.0327,421.0904,206.3389,413.88,206.24\" style=\"stroke: #A80036; stroke-width: 1.0;\"/></a><!--MD5=[ce036f65110ae2351ccce5a81dc2e928]\n",
       "reverse link E2 to E6--><a href=\"psysml:f84da050-0b5f-49f5-998e-9b704fc66ebc\" target=\"_top\" title=\"psysml:f84da050-0b5f-49f5-998e-9b704fc66ebc\" xlink:actuate=\"onRequest\" xlink:href=\"psysml:f84da050-0b5f-49f5-998e-9b704fc66ebc\" xlink:show=\"new\" xlink:title=\"psysml:f84da050-0b5f-49f5-998e-9b704fc66ebc\" xlink:type=\"simple\"><path d=\"M452.88,206.42 C506.85,225.72 576.44,250.61 624.5,267.79 \" fill=\"none\" id=\"E2&lt;-E6\" style=\"stroke: #A80036; stroke-width: 1.0;\"/><polygon fill=\"#A80036\" points=\"440.58,202.02,444.8855,207.8047,451.8812,206.0552,447.5757,200.2705,440.58,202.02\" style=\"stroke: #A80036; stroke-width: 1.0;\"/><text fill=\"#000000\" font-family=\"sans-serif\" font-size=\"13\" lengthAdjust=\"spacingAndGlyphs\" textLength=\"7\" x=\"609.4375\" y=\"261.0121\">*</text></a><!--MD5=[3a9b96bfbf6b6ad89c494e81751bda47]\n",
       "link E5 to E7--><a href=\"psysml:5222325c-bb46-4e39-81f0-12dbae43365a\" target=\"_top\" title=\"psysml:5222325c-bb46-4e39-81f0-12dbae43365a\" xlink:actuate=\"onRequest\" xlink:href=\"psysml:5222325c-bb46-4e39-81f0-12dbae43365a\" xlink:show=\"new\" xlink:title=\"psysml:5222325c-bb46-4e39-81f0-12dbae43365a\" xlink:type=\"simple\"><path d=\"M533,312.06 C533,323.64 533,338.23 533,351.87 \" fill=\"none\" id=\"E5-&gt;E7\" style=\"stroke: #A80036; stroke-width: 1.0;\"/><polygon fill=\"#FFFFFF\" points=\"533,371.98,526,352.98,540,352.98,533,371.98\" style=\"stroke: #A80036; stroke-width: 1.0;\"/><ellipse cx=\"528\" cy=\"347.28\" fill=\"#A80036\" rx=\"2\" ry=\"2\" style=\"stroke: #A80036; stroke-width: 1.0;\"/><ellipse cx=\"538\" cy=\"347.28\" fill=\"#A80036\" rx=\"2\" ry=\"2\" style=\"stroke: #A80036; stroke-width: 1.0;\"/></a><!--MD5=[dc164f5e8a733ab456ef1add180e9e34]\n",
       "reverse link E7 to E8--><a href=\"psysml:62bbb331-bb03-464e-9e32-68694608bffc\" target=\"_top\" title=\"psysml:62bbb331-bb03-464e-9e32-68694608bffc\" xlink:actuate=\"onRequest\" xlink:href=\"psysml:62bbb331-bb03-464e-9e32-68694608bffc\" xlink:show=\"new\" xlink:title=\"psysml:62bbb331-bb03-464e-9e32-68694608bffc\" xlink:type=\"simple\"><path d=\"M509.45,429.09 C498.09,445.06 484.77,463.78 474.67,477.98 \" fill=\"none\" id=\"E7&lt;-E8\" style=\"stroke: #A80036; stroke-width: 1.0;\"/><polygon fill=\"#A80036\" points=\"517.31,418.06,510.5722,420.6295,510.3526,427.8373,517.0904,425.2678,517.31,418.06\" style=\"stroke: #A80036; stroke-width: 1.0;\"/><text fill=\"#000000\" font-family=\"sans-serif\" font-size=\"13\" lengthAdjust=\"spacingAndGlyphs\" textLength=\"7\" x=\"470.9407\" y=\"466.8709\">*</text></a><!--MD5=[e4a10ef82d0e328e31cac39a31e58dda]\n",
       "reverse link E7 to E9--><a href=\"psysml:6940b1aa-8c0f-4381-86aa-7b3e10e8c0d6\" target=\"_top\" title=\"psysml:6940b1aa-8c0f-4381-86aa-7b3e10e8c0d6\" xlink:actuate=\"onRequest\" xlink:href=\"psysml:6940b1aa-8c0f-4381-86aa-7b3e10e8c0d6\" xlink:show=\"new\" xlink:title=\"psysml:6940b1aa-8c0f-4381-86aa-7b3e10e8c0d6\" xlink:type=\"simple\"><path d=\"M556.55,429.09 C567.91,445.06 581.23,463.78 591.33,477.98 \" fill=\"none\" id=\"E7&lt;-E9\" style=\"stroke: #A80036; stroke-width: 1.0;\"/><polygon fill=\"#A80036\" points=\"548.69,418.06,548.9096,425.2678,555.6474,427.8373,555.4278,420.6295,548.69,418.06\" style=\"stroke: #A80036; stroke-width: 1.0;\"/><text fill=\"#000000\" font-family=\"sans-serif\" font-size=\"13\" lengthAdjust=\"spacingAndGlyphs\" textLength=\"7\" x=\"579.1781\" y=\"466.8709\">*</text></a><!--MD5=[a919e0967d6f3de553dc51b9865a1d6d]\n",
       "link E10 to E7--><a href=\"psysml:2d47db94-d209-4d22-9eae-73bfc16721f5\" target=\"_top\" title=\"psysml:2d47db94-d209-4d22-9eae-73bfc16721f5\" xlink:actuate=\"onRequest\" xlink:href=\"psysml:2d47db94-d209-4d22-9eae-73bfc16721f5\" xlink:show=\"new\" xlink:title=\"psysml:2d47db94-d209-4d22-9eae-73bfc16721f5\" xlink:type=\"simple\"><path d=\"M509.03,87.13 C491.97,117.28 468.55,171.46 496,206 C569.52,298.5 681.48,173.5 755,266 C799.45,321.93 700.79,358.05 621.07,377.22 \" fill=\"none\" id=\"E10-&gt;E7\" style=\"stroke: #A80036; stroke-width: 1.0;\"/><polygon fill=\"#FFFFFF\" points=\"601.57,381.67,618.5402,370.6241,621.6503,384.2743,601.57,381.67\" style=\"stroke: #A80036; stroke-width: 1.0;\"/><ellipse cx=\"624.5421\" cy=\"371.3079\" fill=\"#A80036\" rx=\"2\" ry=\"2\" style=\"stroke: #A80036; stroke-width: 1.0;\"/><ellipse cx=\"626.7636\" cy=\"381.0581\" fill=\"#A80036\" rx=\"2\" ry=\"2\" style=\"stroke: #A80036; stroke-width: 1.0;\"/></a><!--MD5=[0f36bececdf0dff6e600d6f64214b0f1]\n",
       "link E10 to E2--><a href=\"psysml:6622b004-fc37-43f3-bc42-fdfacc696359\" target=\"_top\" title=\"psysml:6622b004-fc37-43f3-bc42-fdfacc696359\" xlink:actuate=\"onRequest\" xlink:href=\"psysml:6622b004-fc37-43f3-bc42-fdfacc696359\" xlink:show=\"new\" xlink:title=\"psysml:6622b004-fc37-43f3-bc42-fdfacc696359\" xlink:type=\"simple\"><path d=\"M492.81,87.1 C474.08,100.8 449.46,118.82 427.33,135.01 \" fill=\"none\" id=\"E10-&gt;E2\" style=\"stroke: #A80036; stroke-width: 1.0;\"/><polygon fill=\"#FFFFFF\" points=\"411.04,146.93,422.2383,130.06,430.5066,141.3576,411.04,146.93\" style=\"stroke: #A80036; stroke-width: 1.0;\"/><ellipse cx=\"428.0193\" cy=\"128.3076\" fill=\"#A80036\" rx=\"2\" ry=\"2\" style=\"stroke: #A80036; stroke-width: 1.0;\"/><ellipse cx=\"433.9252\" cy=\"136.3773\" fill=\"#A80036\" rx=\"2\" ry=\"2\" style=\"stroke: #A80036; stroke-width: 1.0;\"/></a><!--MD5=[de308be4a2431766a05a907a031c07fc]\n",
       "reverse link E10 to E11--><a href=\"psysml:973d09ca-2c85-400b-8a26-6e03e711a9dc\" target=\"_top\" title=\"psysml:973d09ca-2c85-400b-8a26-6e03e711a9dc\" xlink:actuate=\"onRequest\" xlink:href=\"psysml:973d09ca-2c85-400b-8a26-6e03e711a9dc\" xlink:show=\"new\" xlink:title=\"psysml:973d09ca-2c85-400b-8a26-6e03e711a9dc\" xlink:type=\"simple\"><path d=\"M537.56,99.24 C545.08,116.91 554.03,137.94 560.62,153.44 \" fill=\"none\" id=\"E10&lt;-E11\" style=\"stroke: #A80036; stroke-width: 1.0;\"/><polygon fill=\"#A80036\" points=\"532.4,87.1,531.0675,94.1869,537.0968,98.1427,538.4293,91.0557,532.4,87.1\" style=\"stroke: #A80036; stroke-width: 1.0;\"/></a><!--MD5=[1d54f998c6d5961a1a9184be73a7eb6c]\n",
       "reverse link E10 to E12--><a href=\"psysml:4b2dc275-57bf-47aa-bec9-3fe53972a958\" target=\"_top\" title=\"psysml:4b2dc275-57bf-47aa-bec9-3fe53972a958\" xlink:actuate=\"onRequest\" xlink:href=\"psysml:4b2dc275-57bf-47aa-bec9-3fe53972a958\" xlink:show=\"new\" xlink:title=\"psysml:4b2dc275-57bf-47aa-bec9-3fe53972a958\" xlink:type=\"simple\"><path d=\"M573.65,93.7 C606.56,112.35 648.8,136.29 679.08,153.44 \" fill=\"none\" id=\"E10&lt;-E12\" style=\"stroke: #A80036; stroke-width: 1.0;\"/><polygon fill=\"#A80036\" points=\"561.99,87.1,565.2334,93.5405,572.4259,93.0238,569.1826,86.5833,561.99,87.1\" style=\"stroke: #A80036; stroke-width: 1.0;\"/></a><!--MD5=[4a48077df6499cfcd20b62e8f5f37904]\n",
       "link E13 to E7--><a href=\"psysml:99db2ce7-7db4-4747-aea3-ba596a45b862\" target=\"_top\" title=\"psysml:99db2ce7-7db4-4747-aea3-ba596a45b862\" xlink:actuate=\"onRequest\" xlink:href=\"psysml:99db2ce7-7db4-4747-aea3-ba596a45b862\" xlink:show=\"new\" xlink:title=\"psysml:99db2ce7-7db4-4747-aea3-ba596a45b862\" xlink:type=\"simple\"><path d=\"M145.85,307.34 C151.63,308.97 157.42,310.55 163,312 C258.68,336.79 369.48,360.72 444.71,376.27 \" fill=\"none\" id=\"E13-&gt;E7\" style=\"stroke: #A80036; stroke-width: 1.0;\"/><polygon fill=\"#FFFFFF\" points=\"464.46,380.33,444.4393,383.3585,447.2599,369.6456,464.46,380.33\" style=\"stroke: #A80036; stroke-width: 1.0;\"/><ellipse cx=\"439.2591\" cy=\"380.2511\" fill=\"#A80036\" rx=\"2\" ry=\"2\" style=\"stroke: #A80036; stroke-width: 1.0;\"/><ellipse cx=\"441.2738\" cy=\"370.4562\" fill=\"#A80036\" rx=\"2\" ry=\"2\" style=\"stroke: #A80036; stroke-width: 1.0;\"/></a><!--MD5=[deffdb8e9d1de984c071573ba6cd2879]\n",
       "@startuml\r\n",
       " \r\n",
       "package \"OccurrenceTest\" as E1  [[psysml:e6ab502d-dafd-416a-a255-3fa3ad3c263c ]]  {\r\n",
       "comp def \"Occ\" as E2 << <<(D,brown) occurrence def>> [[psysml:1203d309-d98c-452c-84ab-9db93e8b8d83 ]] {\r\n",
       "a\r\n",
       "}\r\n",
       "comp usage \"occ1: Occ\" as E3 << <<(U,orange) occurrence>> [[psysml:158a345e-3640-4aa1-8638-58b6699698f0 ]] {\r\n",
       "}\r\n",
       "comp usage \"occ2: Occ\" as E4 << <<(U,orange) occurrence>> [[psysml:5ccc27c3-07b1-4713-880e-82008912fb62 ]] {\r\n",
       "}\r\n",
       "comp usage \"s: Ind\" as E5 << individual snapshot <<(U,orange) occurrence>> [[psysml:b931cfcd-d1f5-4c70-b44c-3b4fd21c9018 ]] {\r\n",
       "}\r\n",
       "comp usage \"t\" as E6 << timeslice <<(U,orange) occurrence>> [[psysml:a76dffb5-cb4a-4142-b15c-9dbeb6bd2474 ]] {\r\n",
       "}\r\n",
       "comp def \"Ind\" as E7 << individual <<(D,brown) occurrence def>> [[psysml:cddcce1d-840d-4259-9672-1cad32ef9616 ]] {\r\n",
       "}\r\n",
       "comp usage \"s2\" as E8 << snapshot <<(U,orange) occurrence>> [[psysml:760118bf-f26e-45fa-9528-0dbdf12ed33d ]] {\r\n",
       "}\r\n",
       "comp usage \"t2\" as E9 << timeslice <<(U,orange) occurrence>> [[psysml:6916c4a6-d3e9-4718-9bd3-b4da3843528f ]] {\r\n",
       "}\r\n",
       "comp usage \"ind: Ind, Occ\" as E10 << individual <<(U,orange) occurrence>> [[psysml:ca3e4eae-d888-4010-bdf5-da81d89d1eab ]] {\r\n",
       "}\r\n",
       "comp usage \"s3\" as E11 << snapshot <<(U,orange) occurrence>> [[psysml:a7aa12fc-e204-4f0a-90f2-9ab0101a123a ]] {\r\n",
       "}\r\n",
       "comp usage \"t3\" as E12 << individual timeslice <<(U,orange) occurrence>> [[psysml:5052c3e9-886b-4521-8bf3-18ad9cb470c5 ]] {\r\n",
       "}\r\n",
       "comp usage \"s4: Ind\" as E13 << individual snapshot <<(U,orange) occurrence>> [[psysml:e6d8c0e1-46dd-40c0-98f9-8ea23118f8bb ]] {\r\n",
       "}\r\n",
       "}\r\n",
       "E2 o- - E3 [[psysml:816d5179-2674-4631-83bc-f7d71b4237a7 ]] \r\n",
       "E3 - -:|> E2 [[psysml:eb3070f5-b0ea-4331-ac23-68f76765f53a ]] \r\n",
       "E2 *- - E4 [[psysml:0447f336-2e88-4877-9a74-bac22478a75a ]] \r\n",
       "E4 - -:|> E2 [[psysml:bbe7f0c0-75f0-4d42-b38b-c0f55f25890a ]] \r\n",
       "E2 *- - E5 [[psysml:5c44c5f5-a434-4c27-9e5d-4b118f9f4fa1 ]] \r\n",
       "E2 *- - \"*\"E6 [[psysml:f84da050-0b5f-49f5-998e-9b704fc66ebc ]] \r\n",
       "E5 - -:|> E7 [[psysml:5222325c-bb46-4e39-81f0-12dbae43365a ]] \r\n",
       "E7 *- - \"*\"E8 [[psysml:62bbb331-bb03-464e-9e32-68694608bffc ]] \r\n",
       "E7 *- - \"*\"E9 [[psysml:6940b1aa-8c0f-4381-86aa-7b3e10e8c0d6 ]] \r\n",
       "E10 - -:|> E7 [[psysml:2d47db94-d209-4d22-9eae-73bfc16721f5 ]] \r\n",
       "E10 - -:|> E2 [[psysml:6622b004-fc37-43f3-bc42-fdfacc696359 ]] \r\n",
       "E10 *- - E11 [[psysml:973d09ca-2c85-400b-8a26-6e03e711a9dc ]] \r\n",
       "E10 *- - E12 [[psysml:4b2dc275-57bf-47aa-bec9-3fe53972a958 ]] \r\n",
       "E13 - -:|> E7 [[psysml:99db2ce7-7db4-4747-aea3-ba596a45b862 ]] \r\n",
       "@enduml\r\n",
       "\n",
       "PlantUML version 1.2020.13(Sat Jun 13 12:26:38 UTC 2020)\n",
       "(EPL source distribution)\n",
       "Java Runtime: OpenJDK Runtime Environment\n",
       "JVM: OpenJDK 64-Bit Server VM\n",
       "Default Encoding: UTF-8\n",
       "Language: en\n",
       "Country: null\n",
       "--></g></svg>"
      ]
     },
     "execution_count": 31,
     "metadata": {},
     "output_type": "execute_result"
    }
   ],
   "source": [
    "%viz --style=\"PLANTUML\" --view=\"Tree\" \"OccurrenceTest\""
   ]
  },
  {
   "cell_type": "code",
   "execution_count": 32,
   "id": "3d4fd810",
   "metadata": {
    "execution": {
     "iopub.execute_input": "2021-10-03T08:28:44.706862Z",
     "iopub.status.busy": "2021-10-03T08:28:44.706467Z",
     "iopub.status.idle": "2021-10-03T08:28:44.791597Z",
     "shell.execute_reply": "2021-10-03T08:28:44.791254Z"
    }
   },
   "outputs": [
    {
     "data": {
      "image/svg+xml": [
       "<?xml version=\"1.0\" encoding=\"UTF-8\" standalone=\"no\"?><svg xmlns=\"http://www.w3.org/2000/svg\" xmlns:xlink=\"http://www.w3.org/1999/xlink\" contentScriptType=\"application/ecmascript\" contentStyleType=\"text/css\" height=\"300px\" preserveAspectRatio=\"none\" style=\"width:603px;height:300px;background:#000000;\" version=\"1.1\" viewBox=\"0 0 603 300\" width=\"603px\" zoomAndPan=\"magnify\"><defs/><g><rect fill=\"#1A0623\" height=\"1\" style=\"stroke: #1A0623; stroke-width: 1.0;\" width=\"1\" x=\"0\" y=\"0\"/><rect fill=\"#FFFFFF\" height=\"202.8012\" style=\"stroke: #FFFFFF; stroke-width: 1.0;\" width=\"602\" x=\"0\" y=\"0\"/><text fill=\"#000000\" font-family=\"sans-serif\" font-size=\"12\" font-weight=\"bold\" lengthAdjust=\"spacingAndGlyphs\" textLength=\"139\" x=\"5\" y=\"16.1387\">Welcome to PlantUML!</text><text fill=\"#000000\" font-family=\"sans-serif\" font-size=\"12\" lengthAdjust=\"spacingAndGlyphs\" textLength=\"0\" x=\"9\" y=\"30.1074\"/><text fill=\"#000000\" font-family=\"sans-serif\" font-size=\"12\" lengthAdjust=\"spacingAndGlyphs\" textLength=\"293\" x=\"5\" y=\"44.0762\">If you use this software, you accept its license.</text><text fill=\"#000000\" font-family=\"sans-serif\" font-size=\"12\" lengthAdjust=\"spacingAndGlyphs\" textLength=\"107\" x=\"5\" y=\"58.0449\">(details by typing</text><text fill=\"#000000\" font-family=\"monospace\" font-size=\"12\" lengthAdjust=\"spacingAndGlyphs\" textLength=\"42\" x=\"116\" y=\"58.595\">license</text><text fill=\"#000000\" font-family=\"sans-serif\" font-size=\"12\" lengthAdjust=\"spacingAndGlyphs\" textLength=\"56\" x=\"162\" y=\"58.0449\">keyword)</text><text fill=\"#000000\" font-family=\"sans-serif\" font-size=\"12\" lengthAdjust=\"spacingAndGlyphs\" textLength=\"0\" x=\"9\" y=\"72.0137\"/><text fill=\"#000000\" font-family=\"sans-serif\" font-size=\"12\" lengthAdjust=\"spacingAndGlyphs\" textLength=\"283\" x=\"5\" y=\"85.9824\">You can start with a simple UML Diagram like:</text><text fill=\"#000000\" font-family=\"sans-serif\" font-size=\"12\" lengthAdjust=\"spacingAndGlyphs\" textLength=\"0\" x=\"9\" y=\"99.9512\"/><text fill=\"#000000\" font-family=\"monospace\" font-size=\"12\" lengthAdjust=\"spacingAndGlyphs\" textLength=\"102\" x=\"5\" y=\"113.0893\">Bob-&gt;Alice: Hello</text><text fill=\"#000000\" font-family=\"sans-serif\" font-size=\"12\" lengthAdjust=\"spacingAndGlyphs\" textLength=\"0\" x=\"9\" y=\"126.508\"/><text fill=\"#000000\" font-family=\"sans-serif\" font-size=\"12\" lengthAdjust=\"spacingAndGlyphs\" textLength=\"14\" x=\"5\" y=\"140.4768\">Or</text><text fill=\"#000000\" font-family=\"sans-serif\" font-size=\"12\" lengthAdjust=\"spacingAndGlyphs\" textLength=\"0\" x=\"9\" y=\"154.4455\"/><text fill=\"#000000\" font-family=\"monospace\" font-size=\"12\" lengthAdjust=\"spacingAndGlyphs\" textLength=\"78\" x=\"5\" y=\"167.5837\">class Example</text><text fill=\"#000000\" font-family=\"sans-serif\" font-size=\"12\" lengthAdjust=\"spacingAndGlyphs\" textLength=\"0\" x=\"9\" y=\"181.0023\"/><text fill=\"#000000\" font-family=\"sans-serif\" font-size=\"12\" lengthAdjust=\"spacingAndGlyphs\" textLength=\"349\" x=\"5\" y=\"194.9711\">You will find more information about PlantUML syntax on</text><text fill=\"#000000\" font-family=\"sans-serif\" font-size=\"12\" lengthAdjust=\"spacingAndGlyphs\" text-decoration=\"underline\" textLength=\"129\" x=\"358\" y=\"194.9711\">https://plantuml.com</text><image height=\"71\" width=\"80\" x=\"516\" xlink:href=\"data:image/png;base64,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\" y=\"6\"/><rect fill=\"#000000\" height=\"96.4844\" style=\"stroke: #000000; stroke-width: 1.0;\" width=\"602\" x=\"0\" y=\"202.8012\"/><rect fill=\"#33FF02\" height=\"21.2969\" style=\"stroke: #33FF02; stroke-width: 1.0;\" width=\"145\" x=\"5\" y=\"207.8012\"/><text fill=\"#000000\" font-family=\"sans-serif\" font-size=\"14\" font-weight=\"bold\" lengthAdjust=\"spacingAndGlyphs\" textLength=\"143\" x=\"6\" y=\"222.8012\">[From string (line 2) ]</text><text fill=\"#33FF02\" font-family=\"sans-serif\" font-size=\"14\" font-weight=\"bold\" lengthAdjust=\"spacingAndGlyphs\" textLength=\"0\" x=\"9\" y=\"243.0981\"/><text fill=\"#33FF02\" font-family=\"sans-serif\" font-size=\"14\" font-weight=\"bold\" lengthAdjust=\"spacingAndGlyphs\" textLength=\"70\" x=\"5\" y=\"259.3949\">@startuml</text><text fill=\"#33FF02\" font-family=\"sans-serif\" font-size=\"14\" font-weight=\"bold\" lengthAdjust=\"spacingAndGlyphs\" textLength=\"0\" x=\"9\" y=\"275.6918\"/><text fill=\"#FF0000\" font-family=\"sans-serif\" font-size=\"14\" font-weight=\"bold\" lengthAdjust=\"spacingAndGlyphs\" textLength=\"124\" x=\"9\" y=\"291.9887\">Empty description</text><!--MD5=[f59edd8218d337f74d0c332fc6737304]\n",
       "@startuml\r\n",
       " \r\n",
       "@enduml\r\n",
       "\n",
       "PlantUML version 1.2020.13(Sat Jun 13 12:26:38 UTC 2020)\n",
       "(EPL source distribution)\n",
       "Java Runtime: OpenJDK Runtime Environment\n",
       "JVM: OpenJDK 64-Bit Server VM\n",
       "Default Encoding: UTF-8\n",
       "Language: en\n",
       "Country: null\n",
       "--></g></svg>"
      ]
     },
     "execution_count": 32,
     "metadata": {},
     "output_type": "execute_result"
    }
   ],
   "source": [
    "%viz --style=\"PLANTUML\" --view=\"State\" \"OccurrenceTest\""
   ]
  },
  {
   "cell_type": "code",
   "execution_count": 33,
   "id": "66483f59",
   "metadata": {
    "execution": {
     "iopub.execute_input": "2021-10-03T08:28:44.840792Z",
     "iopub.status.busy": "2021-10-03T08:28:44.840393Z",
     "iopub.status.idle": "2021-10-03T08:28:44.867308Z",
     "shell.execute_reply": "2021-10-03T08:28:44.866965Z"
    }
   },
   "outputs": [
    {
     "data": {
      "image/svg+xml": [
       "<?xml version=\"1.0\" encoding=\"UTF-8\" standalone=\"no\"?><svg xmlns=\"http://www.w3.org/2000/svg\" xmlns:xlink=\"http://www.w3.org/1999/xlink\" contentScriptType=\"application/ecmascript\" contentStyleType=\"text/css\" height=\"195px\" preserveAspectRatio=\"none\" style=\"width:872px;height:195px;\" version=\"1.1\" viewBox=\"0 0 872 195\" width=\"872px\" zoomAndPan=\"magnify\"><defs><filter height=\"300%\" id=\"f1sy7fh73srlp4\" width=\"300%\" x=\"-1\" y=\"-1\"><feGaussianBlur result=\"blurOut\" stdDeviation=\"2.0\"/><feColorMatrix in=\"blurOut\" result=\"blurOut2\" type=\"matrix\" values=\"0 0 0 0 0 0 0 0 0 0 0 0 0 0 0 0 0 0 .4 0\"/><feOffset dx=\"4.0\" dy=\"4.0\" in=\"blurOut2\" result=\"blurOut3\"/><feBlend in=\"SourceGraphic\" in2=\"blurOut3\" mode=\"normal\"/></filter></defs><g><!--MD5=[fbc87193dbaf4d95561dea2c320d4a47]\n",
       "cluster E1--><a href=\"psysml:e6ab502d-dafd-416a-a255-3fa3ad3c263c\" target=\"_top\" title=\"psysml:e6ab502d-dafd-416a-a255-3fa3ad3c263c\" xlink:actuate=\"onRequest\" xlink:href=\"psysml:e6ab502d-dafd-416a-a255-3fa3ad3c263c\" xlink:show=\"new\" xlink:title=\"psysml:e6ab502d-dafd-416a-a255-3fa3ad3c263c\" xlink:type=\"simple\"><polygon fill=\"#FFFFFF\" filter=\"url(#f1sy7fh73srlp4)\" points=\"16,6,134,6,141,28.2969,850,28.2969,850,183,16,183,16,6\" style=\"stroke: #000000; stroke-width: 1.5;\"/><line style=\"stroke: #000000; stroke-width: 1.5;\" x1=\"16\" x2=\"141\" y1=\"28.2969\" y2=\"28.2969\"/><text fill=\"#000000\" font-family=\"sans-serif\" font-size=\"14\" font-weight=\"bold\" lengthAdjust=\"spacingAndGlyphs\" textLength=\"112\" x=\"20\" y=\"20.9951\">OccurrenceTest</text></a><!--MD5=[f6df4d0ebaf0b5dfb2ced0ae5af7c670]\n",
       "cluster E4--><a href=\"psysml:ca3e4eae-d888-4010-bdf5-da81d89d1eab\" target=\"_top\" title=\"psysml:ca3e4eae-d888-4010-bdf5-da81d89d1eab\" xlink:actuate=\"onRequest\" xlink:href=\"psysml:ca3e4eae-d888-4010-bdf5-da81d89d1eab\" xlink:show=\"new\" xlink:title=\"psysml:ca3e4eae-d888-4010-bdf5-da81d89d1eab\" xlink:type=\"simple\"><rect fill=\"#FFFFFF\" filter=\"url(#f1sy7fh73srlp4)\" height=\"110\" id=\"E4\" rx=\"10\" ry=\"10\" style=\"stroke: #A80036; stroke-width: 1.5;\" width=\"303\" x=\"523\" y=\"49\"/><rect fill=\"#FEFECE\" height=\"37.9375\" rx=\"10\" ry=\"10\" style=\"stroke: #FEFECE; stroke-width: 1.5;\" width=\"303\" x=\"523\" y=\"49\"/><rect fill=\"#FEFECE\" height=\"10\" style=\"stroke: #FEFECE; stroke-width: 1.5;\" width=\"303\" x=\"523\" y=\"76.9375\"/><rect fill=\"none\" height=\"110\" id=\"E4\" rx=\"10\" ry=\"10\" style=\"stroke: #A80036; stroke-width: 1.5;\" width=\"303\" x=\"523\" y=\"49\"/><text fill=\"#000000\" font-family=\"sans-serif\" font-size=\"12\" font-style=\"italic\" lengthAdjust=\"spacingAndGlyphs\" textLength=\"85\" x=\"632\" y=\"65.1387\">«occurrence»</text><text fill=\"#000000\" font-family=\"sans-serif\" font-size=\"12\" lengthAdjust=\"spacingAndGlyphs\" textLength=\"77\" x=\"636\" y=\"79.1074\">ind: Ind, Occ</text><line style=\"stroke: #A80036; stroke-width: 1.0;\" x1=\"523\" x2=\"826\" y1=\"86.9375\" y2=\"86.9375\"/></a><g id=\"E1.E2\"><a href=\"psysml:1203d309-d98c-452c-84ab-9db93e8b8d83\" target=\"_top\" title=\"psysml:1203d309-d98c-452c-84ab-9db93e8b8d83\" xlink:actuate=\"onRequest\" xlink:href=\"psysml:1203d309-d98c-452c-84ab-9db93e8b8d83\" xlink:show=\"new\" xlink:title=\"psysml:1203d309-d98c-452c-84ab-9db93e8b8d83\" xlink:type=\"simple\"><rect fill=\"#FEFECE\" filter=\"url(#f1sy7fh73srlp4)\" height=\"42.9375\" id=\"E2\" style=\"stroke: #A80036; stroke-width: 1.5;\" width=\"142\" x=\"362\" y=\"100\"/><ellipse cx=\"379.25\" cy=\"118.9688\" fill=\"#A52A2A\" rx=\"11\" ry=\"11\" style=\"stroke: #A80036; stroke-width: 1.0;\"/><path d=\"M376.4688,123.9688 L376.4688,113.375 L379.2031,113.375 Q380.5938,113.375 381.3594,113.7656 Q382.1406,114.1406 382.6719,114.8438 Q383.2031,115.5469 383.5,116.5469 Q383.7969,117.5313 383.7969,118.75 Q383.75,120.3438 383.25,121.5313 Q382.7656,122.7031 381.7188,123.3438 Q380.6875,123.9688 379,123.9688 L376.4688,123.9688 Z M378.3281,122.4688 L378.9531,122.4688 Q380.0313,122.4688 380.6875,122.0156 Q381.3438,121.5625 381.625,120.7344 Q381.9219,119.8906 381.9063,118.7656 Q381.9063,117.5938 381.6563,116.7344 Q381.4063,115.8594 380.7969,115.3906 Q380.1875,114.9063 379.1406,114.9063 L378.3281,114.9063 L378.3281,122.4688 Z \"/><text fill=\"#000000\" font-family=\"sans-serif\" font-size=\"12\" font-style=\"italic\" lengthAdjust=\"spacingAndGlyphs\" textLength=\"109\" x=\"391.75\" y=\"116.1387\">«occurrence def»</text><text fill=\"#000000\" font-family=\"sans-serif\" font-size=\"12\" lengthAdjust=\"spacingAndGlyphs\" textLength=\"23\" x=\"434.75\" y=\"130.1074\">Occ</text></a></g><g id=\"E1.E3\"><a href=\"psysml:cddcce1d-840d-4259-9672-1cad32ef9616\" target=\"_top\" title=\"psysml:cddcce1d-840d-4259-9672-1cad32ef9616\" xlink:actuate=\"onRequest\" xlink:href=\"psysml:cddcce1d-840d-4259-9672-1cad32ef9616\" xlink:show=\"new\" xlink:title=\"psysml:cddcce1d-840d-4259-9672-1cad32ef9616\" xlink:type=\"simple\"><rect fill=\"#FEFECE\" filter=\"url(#f1sy7fh73srlp4)\" height=\"42.9375\" id=\"E3\" style=\"stroke: #A80036; stroke-width: 1.5;\" width=\"142\" x=\"185\" y=\"100\"/><ellipse cx=\"202.25\" cy=\"118.9688\" fill=\"#A52A2A\" rx=\"11\" ry=\"11\" style=\"stroke: #A80036; stroke-width: 1.0;\"/><path d=\"M199.4688,123.9688 L199.4688,113.375 L202.2031,113.375 Q203.5938,113.375 204.3594,113.7656 Q205.1406,114.1406 205.6719,114.8438 Q206.2031,115.5469 206.5,116.5469 Q206.7969,117.5313 206.7969,118.75 Q206.75,120.3438 206.25,121.5313 Q205.7656,122.7031 204.7188,123.3438 Q203.6875,123.9688 202,123.9688 L199.4688,123.9688 Z M201.3281,122.4688 L201.9531,122.4688 Q203.0313,122.4688 203.6875,122.0156 Q204.3438,121.5625 204.625,120.7344 Q204.9219,119.8906 204.9063,118.7656 Q204.9063,117.5938 204.6563,116.7344 Q204.4063,115.8594 203.7969,115.3906 Q203.1875,114.9063 202.1406,114.9063 L201.3281,114.9063 L201.3281,122.4688 Z \"/><text fill=\"#000000\" font-family=\"sans-serif\" font-size=\"12\" font-style=\"italic\" lengthAdjust=\"spacingAndGlyphs\" textLength=\"109\" x=\"214.75\" y=\"116.1387\">«occurrence def»</text><text fill=\"#000000\" font-family=\"sans-serif\" font-size=\"12\" lengthAdjust=\"spacingAndGlyphs\" textLength=\"19\" x=\"259.75\" y=\"130.1074\">Ind</text></a></g><g id=\"E1.E4.E5\"><a href=\"psysml:a7aa12fc-e204-4f0a-90f2-9ab0101a123a\" target=\"_top\" title=\"psysml:a7aa12fc-e204-4f0a-90f2-9ab0101a123a\" xlink:actuate=\"onRequest\" xlink:href=\"psysml:a7aa12fc-e204-4f0a-90f2-9ab0101a123a\" xlink:show=\"new\" xlink:title=\"psysml:a7aa12fc-e204-4f0a-90f2-9ab0101a123a\" xlink:type=\"simple\"><rect fill=\"#FEFECE\" filter=\"url(#f1sy7fh73srlp4)\" height=\"42.9375\" id=\"E5\" rx=\"10\" ry=\"10\" style=\"stroke: #A80036; stroke-width: 1.5;\" width=\"118\" x=\"692\" y=\"100\"/><ellipse cx=\"709.25\" cy=\"118.9688\" fill=\"#FFA500\" rx=\"11\" ry=\"11\" style=\"stroke: #A80036; stroke-width: 1.0;\"/><path d=\"M709,124.4375 Q707.25,124.4375 706.2969,123.4063 Q705.3594,122.3594 705.3594,120.5156 L705.3594,113.625 L707.4219,113.625 L707.4219,113.7813 Q707.3281,113.875 707.2969,114.0156 Q707.2813,114.1406 707.2813,114.4063 L707.2813,120.5313 Q707.2813,121.625 707.6563,122.25 Q708.0313,122.875 709.0156,122.875 Q710,122.875 710.3906,122.25 Q710.7813,121.625 710.7813,120.4844 L710.7813,113.625 L712.6563,113.625 L712.6563,120.4688 Q712.6563,122.5 711.625,123.4688 Q710.6094,124.4375 709,124.4375 Z \"/><text fill=\"#000000\" font-family=\"sans-serif\" font-size=\"12\" font-style=\"italic\" lengthAdjust=\"spacingAndGlyphs\" textLength=\"85\" x=\"721.75\" y=\"116.1387\">«occurrence»</text><text fill=\"#000000\" font-family=\"sans-serif\" font-size=\"12\" lengthAdjust=\"spacingAndGlyphs\" textLength=\"15\" x=\"756.75\" y=\"130.1074\">s3</text></a></g><g id=\"E1.E4.E6\"><a href=\"psysml:5052c3e9-886b-4521-8bf3-18ad9cb470c5\" target=\"_top\" title=\"psysml:5052c3e9-886b-4521-8bf3-18ad9cb470c5\" xlink:actuate=\"onRequest\" xlink:href=\"psysml:5052c3e9-886b-4521-8bf3-18ad9cb470c5\" xlink:show=\"new\" xlink:title=\"psysml:5052c3e9-886b-4521-8bf3-18ad9cb470c5\" xlink:type=\"simple\"><rect fill=\"#FEFECE\" filter=\"url(#f1sy7fh73srlp4)\" height=\"42.9375\" id=\"E6\" rx=\"10\" ry=\"10\" style=\"stroke: #A80036; stroke-width: 1.5;\" width=\"118\" x=\"539\" y=\"100\"/><ellipse cx=\"556.25\" cy=\"118.9688\" fill=\"#FFA500\" rx=\"11\" ry=\"11\" style=\"stroke: #A80036; stroke-width: 1.0;\"/><path d=\"M556,124.4375 Q554.25,124.4375 553.2969,123.4063 Q552.3594,122.3594 552.3594,120.5156 L552.3594,113.625 L554.4219,113.625 L554.4219,113.7813 Q554.3281,113.875 554.2969,114.0156 Q554.2813,114.1406 554.2813,114.4063 L554.2813,120.5313 Q554.2813,121.625 554.6563,122.25 Q555.0313,122.875 556.0156,122.875 Q557,122.875 557.3906,122.25 Q557.7813,121.625 557.7813,120.4844 L557.7813,113.625 L559.6563,113.625 L559.6563,120.4688 Q559.6563,122.5 558.625,123.4688 Q557.6094,124.4375 556,124.4375 Z \"/><text fill=\"#000000\" font-family=\"sans-serif\" font-size=\"12\" font-style=\"italic\" lengthAdjust=\"spacingAndGlyphs\" textLength=\"85\" x=\"568.75\" y=\"116.1387\">«occurrence»</text><text fill=\"#000000\" font-family=\"sans-serif\" font-size=\"12\" lengthAdjust=\"spacingAndGlyphs\" textLength=\"13\" x=\"604.75\" y=\"130.1074\">t3</text></a></g><g id=\"E1.E7\"><a href=\"psysml:e6d8c0e1-46dd-40c0-98f9-8ea23118f8bb\" target=\"_top\" title=\"psysml:e6d8c0e1-46dd-40c0-98f9-8ea23118f8bb\" xlink:actuate=\"onRequest\" xlink:href=\"psysml:e6d8c0e1-46dd-40c0-98f9-8ea23118f8bb\" xlink:show=\"new\" xlink:title=\"psysml:e6d8c0e1-46dd-40c0-98f9-8ea23118f8bb\" xlink:type=\"simple\"><rect fill=\"#FEFECE\" filter=\"url(#f1sy7fh73srlp4)\" height=\"42.9375\" id=\"E7\" rx=\"10\" ry=\"10\" style=\"stroke: #A80036; stroke-width: 1.5;\" width=\"118\" x=\"32\" y=\"100\"/><ellipse cx=\"49.25\" cy=\"118.9688\" fill=\"#FFA500\" rx=\"11\" ry=\"11\" style=\"stroke: #A80036; stroke-width: 1.0;\"/><path d=\"M49,124.4375 Q47.25,124.4375 46.2969,123.4063 Q45.3594,122.3594 45.3594,120.5156 L45.3594,113.625 L47.4219,113.625 L47.4219,113.7813 Q47.3281,113.875 47.2969,114.0156 Q47.2813,114.1406 47.2813,114.4063 L47.2813,120.5313 Q47.2813,121.625 47.6563,122.25 Q48.0313,122.875 49.0156,122.875 Q50,122.875 50.3906,122.25 Q50.7813,121.625 50.7813,120.4844 L50.7813,113.625 L52.6563,113.625 L52.6563,120.4688 Q52.6563,122.5 51.625,123.4688 Q50.6094,124.4375 49,124.4375 Z \"/><text fill=\"#000000\" font-family=\"sans-serif\" font-size=\"12\" font-style=\"italic\" lengthAdjust=\"spacingAndGlyphs\" textLength=\"85\" x=\"61.75\" y=\"116.1387\">«occurrence»</text><text fill=\"#000000\" font-family=\"sans-serif\" font-size=\"12\" lengthAdjust=\"spacingAndGlyphs\" textLength=\"42\" x=\"83.25\" y=\"130.1074\">s4: Ind</text></a></g><!--MD5=[ce3b7bc36f34c34ba999417300910772]\n",
       "@startuml\r\n",
       "skinparam ranksep 10\r\n",
       "skinparam rectangle {\r\n",
       " backgroundColor<<block>> LightGreen\r\n",
       "}\r\n",
       " \r\n",
       "package \"OccurrenceTest\" as E1  [[psysml:e6ab502d-dafd-416a-a255-3fa3ad3c263c ]]  {\r\n",
       "def \"Occ\" as E2 << <<(D,brown) occurrence def>> [[psysml:1203d309-d98c-452c-84ab-9db93e8b8d83 ]] \r\n",
       "def \"Ind\" as E3 << individual <<(D,brown) occurrence def>> [[psysml:cddcce1d-840d-4259-9672-1cad32ef9616 ]] \r\n",
       "rec usage \"ind: Ind, Occ\" as E4 << individual <<(U,orange) occurrence>> [[psysml:ca3e4eae-d888-4010-bdf5-da81d89d1eab ]] {\r\n",
       "rec usage \"s3\" as E5 << snapshot <<(U,orange) occurrence>> [[psysml:a7aa12fc-e204-4f0a-90f2-9ab0101a123a ]] {\r\n",
       "}\r\n",
       "rec usage \"t3\" as E6 << individual timeslice <<(U,orange) occurrence>> [[psysml:5052c3e9-886b-4521-8bf3-18ad9cb470c5 ]] {\r\n",
       "}\r\n",
       "}\r\n",
       "rec usage \"s4: Ind\" as E7 << individual snapshot <<(U,orange) occurrence>> [[psysml:e6d8c0e1-46dd-40c0-98f9-8ea23118f8bb ]] {\r\n",
       "}\r\n",
       "}\r\n",
       "@enduml\r\n",
       "\n",
       "PlantUML version 1.2020.13(Sat Jun 13 12:26:38 UTC 2020)\n",
       "(EPL source distribution)\n",
       "Java Runtime: OpenJDK Runtime Environment\n",
       "JVM: OpenJDK 64-Bit Server VM\n",
       "Default Encoding: UTF-8\n",
       "Language: en\n",
       "Country: null\n",
       "--></g></svg>"
      ]
     },
     "execution_count": 33,
     "metadata": {},
     "output_type": "execute_result"
    }
   ],
   "source": [
    "%viz --style=\"PLANTUML\" --view=\"Interconnection\" \"OccurrenceTest\""
   ]
  },
  {
   "cell_type": "code",
   "execution_count": 34,
   "id": "8d94a626",
   "metadata": {
    "execution": {
     "iopub.execute_input": "2021-10-03T08:28:44.916691Z",
     "iopub.status.busy": "2021-10-03T08:28:44.916293Z",
     "iopub.status.idle": "2021-10-03T08:28:44.921125Z",
     "shell.execute_reply": "2021-10-03T08:28:44.920802Z"
    }
   },
   "outputs": [
    {
     "data": {
      "image/svg+xml": [
       "<?xml version=\"1.0\" encoding=\"UTF-8\" standalone=\"no\"?><svg xmlns=\"http://www.w3.org/2000/svg\" xmlns:xlink=\"http://www.w3.org/1999/xlink\" contentScriptType=\"application/ecmascript\" contentStyleType=\"text/css\" height=\"12px\" preserveAspectRatio=\"none\" style=\"width:12px;height:12px;\" version=\"1.1\" viewBox=\"0 0 12 12\" width=\"12px\" zoomAndPan=\"magnify\"><defs/><g><!--MD5=[6a4cb978cab31700e1ce5529f947a75d]\n",
       "@startuml\r\n",
       "skinparam ranksep 8\r\n",
       " \r\n",
       "@enduml\r\n",
       "\n",
       "PlantUML version 1.2020.13(Sat Jun 13 12:26:38 UTC 2020)\n",
       "(EPL source distribution)\n",
       "Java Runtime: OpenJDK Runtime Environment\n",
       "JVM: OpenJDK 64-Bit Server VM\n",
       "Default Encoding: UTF-8\n",
       "Language: en\n",
       "Country: null\n",
       "--></g></svg>"
      ]
     },
     "execution_count": 34,
     "metadata": {},
     "output_type": "execute_result"
    }
   ],
   "source": [
    "%viz --style=\"PLANTUML\" --view=\"Action\" \"OccurrenceTest\""
   ]
  },
  {
   "cell_type": "code",
   "execution_count": 35,
   "id": "b9a688eb",
   "metadata": {
    "execution": {
     "iopub.execute_input": "2021-10-03T08:28:44.970628Z",
     "iopub.status.busy": "2021-10-03T08:28:44.970231Z",
     "iopub.status.idle": "2021-10-03T08:28:44.975108Z",
     "shell.execute_reply": "2021-10-03T08:28:44.974783Z"
    }
   },
   "outputs": [
    {
     "data": {
      "image/svg+xml": [
       "<?xml version=\"1.0\" encoding=\"UTF-8\" standalone=\"no\"?><svg xmlns=\"http://www.w3.org/2000/svg\" xmlns:xlink=\"http://www.w3.org/1999/xlink\" contentScriptType=\"application/ecmascript\" contentStyleType=\"text/css\" height=\"12px\" preserveAspectRatio=\"none\" style=\"width:12px;height:12px;\" version=\"1.1\" viewBox=\"0 0 12 12\" width=\"12px\" zoomAndPan=\"magnify\"><defs/><g><!--MD5=[ca4faa0b02def275ea33c14ea7a1a98d]\n",
       "@startuml\r\n",
       "skinparam roundcorner 20\r\n",
       "skinparam BoxPadding 20\r\n",
       "skinparam SequenceBoxBackgroundColor #white\r\n",
       "skinparam style strictuml\r\n",
       "skinparam maxMessageSize 100\r\n",
       " \r\n",
       "@enduml\r\n",
       "\n",
       "PlantUML version 1.2020.13(Sat Jun 13 12:26:38 UTC 2020)\n",
       "(EPL source distribution)\n",
       "Java Runtime: OpenJDK Runtime Environment\n",
       "JVM: OpenJDK 64-Bit Server VM\n",
       "Default Encoding: UTF-8\n",
       "Language: en\n",
       "Country: null\n",
       "--></g></svg>"
      ]
     },
     "execution_count": 35,
     "metadata": {},
     "output_type": "execute_result"
    }
   ],
   "source": [
    "%viz --style=\"PLANTUML\" --view=\"Sequence\" \"OccurrenceTest\""
   ]
  },
  {
   "cell_type": "code",
   "execution_count": 36,
   "id": "50dac2a1",
   "metadata": {
    "execution": {
     "iopub.execute_input": "2021-10-03T08:28:45.024251Z",
     "iopub.status.busy": "2021-10-03T08:28:45.023853Z",
     "iopub.status.idle": "2021-10-03T08:28:45.072939Z",
     "shell.execute_reply": "2021-10-03T08:28:45.072593Z"
    }
   },
   "outputs": [
    {
     "data": {
      "image/svg+xml": [
       "<?xml version=\"1.0\" encoding=\"UTF-8\" standalone=\"no\"?><svg xmlns=\"http://www.w3.org/2000/svg\" xmlns:xlink=\"http://www.w3.org/1999/xlink\" contentScriptType=\"application/ecmascript\" contentStyleType=\"text/css\" height=\"552px\" preserveAspectRatio=\"none\" style=\"width:813px;height:552px;\" version=\"1.1\" viewBox=\"0 0 813 552\" width=\"813px\" zoomAndPan=\"magnify\"><defs><filter height=\"300%\" id=\"faydpvk6eseuc\" width=\"300%\" x=\"-1\" y=\"-1\"><feGaussianBlur result=\"blurOut\" stdDeviation=\"2.0\"/><feColorMatrix in=\"blurOut\" result=\"blurOut2\" type=\"matrix\" values=\"0 0 0 0 0 0 0 0 0 0 0 0 0 0 0 0 0 0 .4 0\"/><feOffset dx=\"4.0\" dy=\"4.0\" in=\"blurOut2\" result=\"blurOut3\"/><feBlend in=\"SourceGraphic\" in2=\"blurOut3\" mode=\"normal\"/></filter></defs><g><!--MD5=[fbc87193dbaf4d95561dea2c320d4a47]\n",
       "cluster E1--><a href=\"psysml:e6ab502d-dafd-416a-a255-3fa3ad3c263c\" target=\"_top\" title=\"psysml:e6ab502d-dafd-416a-a255-3fa3ad3c263c\" xlink:actuate=\"onRequest\" xlink:href=\"psysml:e6ab502d-dafd-416a-a255-3fa3ad3c263c\" xlink:show=\"new\" xlink:title=\"psysml:e6ab502d-dafd-416a-a255-3fa3ad3c263c\" xlink:type=\"simple\"><polygon fill=\"#FFFFFF\" filter=\"url(#faydpvk6eseuc)\" points=\"16,6,134,6,141,28.2969,791,28.2969,791,540,16,540,16,6\" style=\"stroke: #000000; stroke-width: 1.5;\"/><line style=\"stroke: #000000; stroke-width: 1.5;\" x1=\"16\" x2=\"141\" y1=\"28.2969\" y2=\"28.2969\"/><text fill=\"#000000\" font-family=\"sans-serif\" font-size=\"14\" font-weight=\"bold\" lengthAdjust=\"spacingAndGlyphs\" textLength=\"112\" x=\"20\" y=\"20.9951\">OccurrenceTest</text></a><!--MD5=[b4997ac47864f28c2f74865a473b2911]\n",
       "class E2--><a href=\"psysml:1203d309-d98c-452c-84ab-9db93e8b8d83\" target=\"_top\" title=\"psysml:1203d309-d98c-452c-84ab-9db93e8b8d83\" xlink:actuate=\"onRequest\" xlink:href=\"psysml:1203d309-d98c-452c-84ab-9db93e8b8d83\" xlink:show=\"new\" xlink:title=\"psysml:1203d309-d98c-452c-84ab-9db93e8b8d83\" xlink:type=\"simple\"><rect fill=\"#FEFECE\" filter=\"url(#faydpvk6eseuc)\" height=\"58.7422\" id=\"E2\" style=\"stroke: #A80036; stroke-width: 1.5;\" width=\"137\" x=\"303.5\" y=\"147\"/><ellipse cx=\"318.5\" cy=\"165.9688\" fill=\"#A52A2A\" rx=\"11\" ry=\"11\" style=\"stroke: #A80036; stroke-width: 1.0;\"/><path d=\"M315.7188,170.9688 L315.7188,160.375 L318.4531,160.375 Q319.8438,160.375 320.6094,160.7656 Q321.3906,161.1406 321.9219,161.8438 Q322.4531,162.5469 322.75,163.5469 Q323.0469,164.5313 323.0469,165.75 Q323,167.3438 322.5,168.5313 Q322.0156,169.7031 320.9688,170.3438 Q319.9375,170.9688 318.25,170.9688 L315.7188,170.9688 Z M317.5781,169.4688 L318.2031,169.4688 Q319.2813,169.4688 319.9375,169.0156 Q320.5938,168.5625 320.875,167.7344 Q321.1719,166.8906 321.1563,165.7656 Q321.1563,164.5938 320.9063,163.7344 Q320.6563,162.8594 320.0469,162.3906 Q319.4375,161.9063 318.3906,161.9063 L317.5781,161.9063 L317.5781,169.4688 Z \"/><text fill=\"#000000\" font-family=\"sans-serif\" font-size=\"12\" font-style=\"italic\" lengthAdjust=\"spacingAndGlyphs\" textLength=\"109\" x=\"330.5\" y=\"163.1387\">«occurrence def»</text><text fill=\"#000000\" font-family=\"sans-serif\" font-size=\"12\" lengthAdjust=\"spacingAndGlyphs\" textLength=\"23\" x=\"373.5\" y=\"177.1074\">Occ</text><line style=\"stroke: #A80036; stroke-width: 1.5;\" x1=\"304.5\" x2=\"439.5\" y1=\"184.9375\" y2=\"184.9375\"/><text fill=\"#000000\" font-family=\"sans-serif\" font-size=\"11\" lengthAdjust=\"spacingAndGlyphs\" textLength=\"7\" x=\"309.5\" y=\"199.1479\">a</text></a><!--MD5=[09b614a08d8cba4a07c9adeb5e0fee81]\n",
       "class E3--><a href=\"psysml:158a345e-3640-4aa1-8638-58b6699698f0\" target=\"_top\" title=\"psysml:158a345e-3640-4aa1-8638-58b6699698f0\" xlink:actuate=\"onRequest\" xlink:href=\"psysml:158a345e-3640-4aa1-8638-58b6699698f0\" xlink:show=\"new\" xlink:title=\"psysml:158a345e-3640-4aa1-8638-58b6699698f0\" xlink:type=\"simple\"><rect fill=\"#FEFECE\" filter=\"url(#faydpvk6eseuc)\" height=\"45.9375\" id=\"E3\" rx=\"10\" ry=\"10\" style=\"stroke: #A80036; stroke-width: 1.5;\" width=\"113\" x=\"180.5\" y=\"266\"/><ellipse cx=\"195.5\" cy=\"284.9688\" fill=\"#FFA500\" rx=\"11\" ry=\"11\" style=\"stroke: #A80036; stroke-width: 1.0;\"/><path d=\"M195.25,290.4375 Q193.5,290.4375 192.5469,289.4063 Q191.6094,288.3594 191.6094,286.5156 L191.6094,279.625 L193.6719,279.625 L193.6719,279.7813 Q193.5781,279.875 193.5469,280.0156 Q193.5313,280.1406 193.5313,280.4063 L193.5313,286.5313 Q193.5313,287.625 193.9063,288.25 Q194.2813,288.875 195.2656,288.875 Q196.25,288.875 196.6406,288.25 Q197.0313,287.625 197.0313,286.4844 L197.0313,279.625 L198.9063,279.625 L198.9063,286.4688 Q198.9063,288.5 197.875,289.4688 Q196.8594,290.4375 195.25,290.4375 Z \"/><text fill=\"#000000\" font-family=\"sans-serif\" font-size=\"12\" font-style=\"italic\" lengthAdjust=\"spacingAndGlyphs\" textLength=\"85\" x=\"207.5\" y=\"282.1387\">«occurrence»</text><text fill=\"#000000\" font-family=\"sans-serif\" font-size=\"12\" lengthAdjust=\"spacingAndGlyphs\" textLength=\"61\" x=\"219.5\" y=\"296.1074\">occ1: Occ</text><line style=\"stroke: #A80036; stroke-width: 1.5;\" x1=\"181.5\" x2=\"292.5\" y1=\"303.9375\" y2=\"303.9375\"/></a><!--MD5=[ebbe1d658d1005bcc118a6aa81145e00]\n",
       "class E4--><a href=\"psysml:5ccc27c3-07b1-4713-880e-82008912fb62\" target=\"_top\" title=\"psysml:5ccc27c3-07b1-4713-880e-82008912fb62\" xlink:actuate=\"onRequest\" xlink:href=\"psysml:5ccc27c3-07b1-4713-880e-82008912fb62\" xlink:show=\"new\" xlink:title=\"psysml:5ccc27c3-07b1-4713-880e-82008912fb62\" xlink:type=\"simple\"><rect fill=\"#FEFECE\" filter=\"url(#faydpvk6eseuc)\" height=\"45.9375\" id=\"E4\" rx=\"10\" ry=\"10\" style=\"stroke: #A80036; stroke-width: 1.5;\" width=\"113\" x=\"328.5\" y=\"266\"/><ellipse cx=\"343.5\" cy=\"284.9688\" fill=\"#FFA500\" rx=\"11\" ry=\"11\" style=\"stroke: #A80036; stroke-width: 1.0;\"/><path d=\"M343.25,290.4375 Q341.5,290.4375 340.5469,289.4063 Q339.6094,288.3594 339.6094,286.5156 L339.6094,279.625 L341.6719,279.625 L341.6719,279.7813 Q341.5781,279.875 341.5469,280.0156 Q341.5313,280.1406 341.5313,280.4063 L341.5313,286.5313 Q341.5313,287.625 341.9063,288.25 Q342.2813,288.875 343.2656,288.875 Q344.25,288.875 344.6406,288.25 Q345.0313,287.625 345.0313,286.4844 L345.0313,279.625 L346.9063,279.625 L346.9063,286.4688 Q346.9063,288.5 345.875,289.4688 Q344.8594,290.4375 343.25,290.4375 Z \"/><text fill=\"#000000\" font-family=\"sans-serif\" font-size=\"12\" font-style=\"italic\" lengthAdjust=\"spacingAndGlyphs\" textLength=\"85\" x=\"355.5\" y=\"282.1387\">«occurrence»</text><text fill=\"#000000\" font-family=\"sans-serif\" font-size=\"12\" lengthAdjust=\"spacingAndGlyphs\" textLength=\"61\" x=\"367.5\" y=\"296.1074\">occ2: Occ</text><line style=\"stroke: #A80036; stroke-width: 1.5;\" x1=\"329.5\" x2=\"440.5\" y1=\"303.9375\" y2=\"303.9375\"/></a><!--MD5=[270fce915f116d4de14055a7c1d9a0f3]\n",
       "class E5--><a href=\"psysml:b931cfcd-d1f5-4c70-b44c-3b4fd21c9018\" target=\"_top\" title=\"psysml:b931cfcd-d1f5-4c70-b44c-3b4fd21c9018\" xlink:actuate=\"onRequest\" xlink:href=\"psysml:b931cfcd-d1f5-4c70-b44c-3b4fd21c9018\" xlink:show=\"new\" xlink:title=\"psysml:b931cfcd-d1f5-4c70-b44c-3b4fd21c9018\" xlink:type=\"simple\"><rect fill=\"#FEFECE\" filter=\"url(#faydpvk6eseuc)\" height=\"45.9375\" id=\"E5\" rx=\"10\" ry=\"10\" style=\"stroke: #A80036; stroke-width: 1.5;\" width=\"113\" x=\"476.5\" y=\"266\"/><ellipse cx=\"491.5\" cy=\"284.9688\" fill=\"#FFA500\" rx=\"11\" ry=\"11\" style=\"stroke: #A80036; stroke-width: 1.0;\"/><path d=\"M491.25,290.4375 Q489.5,290.4375 488.5469,289.4063 Q487.6094,288.3594 487.6094,286.5156 L487.6094,279.625 L489.6719,279.625 L489.6719,279.7813 Q489.5781,279.875 489.5469,280.0156 Q489.5313,280.1406 489.5313,280.4063 L489.5313,286.5313 Q489.5313,287.625 489.9063,288.25 Q490.2813,288.875 491.2656,288.875 Q492.25,288.875 492.6406,288.25 Q493.0313,287.625 493.0313,286.4844 L493.0313,279.625 L494.9063,279.625 L494.9063,286.4688 Q494.9063,288.5 493.875,289.4688 Q492.8594,290.4375 491.25,290.4375 Z \"/><text fill=\"#000000\" font-family=\"sans-serif\" font-size=\"12\" font-style=\"italic\" lengthAdjust=\"spacingAndGlyphs\" textLength=\"85\" x=\"503.5\" y=\"282.1387\">«occurrence»</text><text fill=\"#000000\" font-family=\"sans-serif\" font-size=\"12\" lengthAdjust=\"spacingAndGlyphs\" textLength=\"34\" x=\"529\" y=\"296.1074\">s: Ind</text><line style=\"stroke: #A80036; stroke-width: 1.5;\" x1=\"477.5\" x2=\"588.5\" y1=\"303.9375\" y2=\"303.9375\"/></a><!--MD5=[60a26617385b1d2d0262a64233df1f8d]\n",
       "class E6--><a href=\"psysml:a76dffb5-cb4a-4142-b15c-9dbeb6bd2474\" target=\"_top\" title=\"psysml:a76dffb5-cb4a-4142-b15c-9dbeb6bd2474\" xlink:actuate=\"onRequest\" xlink:href=\"psysml:a76dffb5-cb4a-4142-b15c-9dbeb6bd2474\" xlink:show=\"new\" xlink:title=\"psysml:a76dffb5-cb4a-4142-b15c-9dbeb6bd2474\" xlink:type=\"simple\"><rect fill=\"#FEFECE\" filter=\"url(#faydpvk6eseuc)\" height=\"45.9375\" id=\"E6\" rx=\"10\" ry=\"10\" style=\"stroke: #A80036; stroke-width: 1.5;\" width=\"113\" x=\"624.5\" y=\"266\"/><ellipse cx=\"639.5\" cy=\"284.9688\" fill=\"#FFA500\" rx=\"11\" ry=\"11\" style=\"stroke: #A80036; stroke-width: 1.0;\"/><path d=\"M639.25,290.4375 Q637.5,290.4375 636.5469,289.4063 Q635.6094,288.3594 635.6094,286.5156 L635.6094,279.625 L637.6719,279.625 L637.6719,279.7813 Q637.5781,279.875 637.5469,280.0156 Q637.5313,280.1406 637.5313,280.4063 L637.5313,286.5313 Q637.5313,287.625 637.9063,288.25 Q638.2813,288.875 639.2656,288.875 Q640.25,288.875 640.6406,288.25 Q641.0313,287.625 641.0313,286.4844 L641.0313,279.625 L642.9063,279.625 L642.9063,286.4688 Q642.9063,288.5 641.875,289.4688 Q640.8594,290.4375 639.25,290.4375 Z \"/><text fill=\"#000000\" font-family=\"sans-serif\" font-size=\"12\" font-style=\"italic\" lengthAdjust=\"spacingAndGlyphs\" textLength=\"85\" x=\"651.5\" y=\"282.1387\">«occurrence»</text><text fill=\"#000000\" font-family=\"sans-serif\" font-size=\"12\" lengthAdjust=\"spacingAndGlyphs\" textLength=\"5\" x=\"691.5\" y=\"296.1074\">t</text><line style=\"stroke: #A80036; stroke-width: 1.5;\" x1=\"625.5\" x2=\"736.5\" y1=\"303.9375\" y2=\"303.9375\"/></a><!--MD5=[2156ba9850f5573cc1fc38a6a4b2f02b]\n",
       "class E7--><a href=\"psysml:cddcce1d-840d-4259-9672-1cad32ef9616\" target=\"_top\" title=\"psysml:cddcce1d-840d-4259-9672-1cad32ef9616\" xlink:actuate=\"onRequest\" xlink:href=\"psysml:cddcce1d-840d-4259-9672-1cad32ef9616\" xlink:show=\"new\" xlink:title=\"psysml:cddcce1d-840d-4259-9672-1cad32ef9616\" xlink:type=\"simple\"><rect fill=\"#FEFECE\" filter=\"url(#faydpvk6eseuc)\" height=\"45.9375\" id=\"E7\" style=\"stroke: #A80036; stroke-width: 1.5;\" width=\"137\" x=\"464.5\" y=\"372\"/><ellipse cx=\"479.5\" cy=\"390.9688\" fill=\"#A52A2A\" rx=\"11\" ry=\"11\" style=\"stroke: #A80036; stroke-width: 1.0;\"/><path d=\"M476.7188,395.9688 L476.7188,385.375 L479.4531,385.375 Q480.8438,385.375 481.6094,385.7656 Q482.3906,386.1406 482.9219,386.8438 Q483.4531,387.5469 483.75,388.5469 Q484.0469,389.5313 484.0469,390.75 Q484,392.3438 483.5,393.5313 Q483.0156,394.7031 481.9688,395.3438 Q480.9375,395.9688 479.25,395.9688 L476.7188,395.9688 Z M478.5781,394.4688 L479.2031,394.4688 Q480.2813,394.4688 480.9375,394.0156 Q481.5938,393.5625 481.875,392.7344 Q482.1719,391.8906 482.1563,390.7656 Q482.1563,389.5938 481.9063,388.7344 Q481.6563,387.8594 481.0469,387.3906 Q480.4375,386.9063 479.3906,386.9063 L478.5781,386.9063 L478.5781,394.4688 Z \"/><text fill=\"#000000\" font-family=\"sans-serif\" font-size=\"12\" font-style=\"italic\" lengthAdjust=\"spacingAndGlyphs\" textLength=\"109\" x=\"491.5\" y=\"388.1387\">«occurrence def»</text><text fill=\"#000000\" font-family=\"sans-serif\" font-size=\"12\" lengthAdjust=\"spacingAndGlyphs\" textLength=\"19\" x=\"536.5\" y=\"402.1074\">Ind</text><line style=\"stroke: #A80036; stroke-width: 1.5;\" x1=\"465.5\" x2=\"600.5\" y1=\"409.9375\" y2=\"409.9375\"/></a><!--MD5=[b9389687b975829384b498ac4b7476b2]\n",
       "class E8--><a href=\"psysml:760118bf-f26e-45fa-9528-0dbdf12ed33d\" target=\"_top\" title=\"psysml:760118bf-f26e-45fa-9528-0dbdf12ed33d\" xlink:actuate=\"onRequest\" xlink:href=\"psysml:760118bf-f26e-45fa-9528-0dbdf12ed33d\" xlink:show=\"new\" xlink:title=\"psysml:760118bf-f26e-45fa-9528-0dbdf12ed33d\" xlink:type=\"simple\"><rect fill=\"#FEFECE\" filter=\"url(#faydpvk6eseuc)\" height=\"45.9375\" id=\"E8\" rx=\"10\" ry=\"10\" style=\"stroke: #A80036; stroke-width: 1.5;\" width=\"113\" x=\"402.5\" y=\"478\"/><ellipse cx=\"417.5\" cy=\"496.9688\" fill=\"#FFA500\" rx=\"11\" ry=\"11\" style=\"stroke: #A80036; stroke-width: 1.0;\"/><path d=\"M417.25,502.4375 Q415.5,502.4375 414.5469,501.4063 Q413.6094,500.3594 413.6094,498.5156 L413.6094,491.625 L415.6719,491.625 L415.6719,491.7813 Q415.5781,491.875 415.5469,492.0156 Q415.5313,492.1406 415.5313,492.4063 L415.5313,498.5313 Q415.5313,499.625 415.9063,500.25 Q416.2813,500.875 417.2656,500.875 Q418.25,500.875 418.6406,500.25 Q419.0313,499.625 419.0313,498.4844 L419.0313,491.625 L420.9063,491.625 L420.9063,498.4688 Q420.9063,500.5 419.875,501.4688 Q418.8594,502.4375 417.25,502.4375 Z \"/><text fill=\"#000000\" font-family=\"sans-serif\" font-size=\"12\" font-style=\"italic\" lengthAdjust=\"spacingAndGlyphs\" textLength=\"85\" x=\"429.5\" y=\"494.1387\">«occurrence»</text><text fill=\"#000000\" font-family=\"sans-serif\" font-size=\"12\" lengthAdjust=\"spacingAndGlyphs\" textLength=\"15\" x=\"464.5\" y=\"508.1074\">s2</text><line style=\"stroke: #A80036; stroke-width: 1.5;\" x1=\"403.5\" x2=\"514.5\" y1=\"515.9375\" y2=\"515.9375\"/></a><!--MD5=[fd4143e9d270a159db93a4ea2a975926]\n",
       "class E9--><a href=\"psysml:6916c4a6-d3e9-4718-9bd3-b4da3843528f\" target=\"_top\" title=\"psysml:6916c4a6-d3e9-4718-9bd3-b4da3843528f\" xlink:actuate=\"onRequest\" xlink:href=\"psysml:6916c4a6-d3e9-4718-9bd3-b4da3843528f\" xlink:show=\"new\" xlink:title=\"psysml:6916c4a6-d3e9-4718-9bd3-b4da3843528f\" xlink:type=\"simple\"><rect fill=\"#FEFECE\" filter=\"url(#faydpvk6eseuc)\" height=\"45.9375\" id=\"E9\" rx=\"10\" ry=\"10\" style=\"stroke: #A80036; stroke-width: 1.5;\" width=\"113\" x=\"550.5\" y=\"478\"/><ellipse cx=\"565.5\" cy=\"496.9688\" fill=\"#FFA500\" rx=\"11\" ry=\"11\" style=\"stroke: #A80036; stroke-width: 1.0;\"/><path d=\"M565.25,502.4375 Q563.5,502.4375 562.5469,501.4063 Q561.6094,500.3594 561.6094,498.5156 L561.6094,491.625 L563.6719,491.625 L563.6719,491.7813 Q563.5781,491.875 563.5469,492.0156 Q563.5313,492.1406 563.5313,492.4063 L563.5313,498.5313 Q563.5313,499.625 563.9063,500.25 Q564.2813,500.875 565.2656,500.875 Q566.25,500.875 566.6406,500.25 Q567.0313,499.625 567.0313,498.4844 L567.0313,491.625 L568.9063,491.625 L568.9063,498.4688 Q568.9063,500.5 567.875,501.4688 Q566.8594,502.4375 565.25,502.4375 Z \"/><text fill=\"#000000\" font-family=\"sans-serif\" font-size=\"12\" font-style=\"italic\" lengthAdjust=\"spacingAndGlyphs\" textLength=\"85\" x=\"577.5\" y=\"494.1387\">«occurrence»</text><text fill=\"#000000\" font-family=\"sans-serif\" font-size=\"12\" lengthAdjust=\"spacingAndGlyphs\" textLength=\"13\" x=\"613.5\" y=\"508.1074\">t2</text><line style=\"stroke: #A80036; stroke-width: 1.5;\" x1=\"551.5\" x2=\"662.5\" y1=\"515.9375\" y2=\"515.9375\"/></a><!--MD5=[96f4274e9e20536e775497830990834d]\n",
       "class E10--><a href=\"psysml:ca3e4eae-d888-4010-bdf5-da81d89d1eab\" target=\"_top\" title=\"psysml:ca3e4eae-d888-4010-bdf5-da81d89d1eab\" xlink:actuate=\"onRequest\" xlink:href=\"psysml:ca3e4eae-d888-4010-bdf5-da81d89d1eab\" xlink:show=\"new\" xlink:title=\"psysml:ca3e4eae-d888-4010-bdf5-da81d89d1eab\" xlink:type=\"simple\"><rect fill=\"#FEFECE\" filter=\"url(#faydpvk6eseuc)\" height=\"45.9375\" id=\"E10\" rx=\"10\" ry=\"10\" style=\"stroke: #A80036; stroke-width: 1.5;\" width=\"113\" x=\"466.5\" y=\"41\"/><ellipse cx=\"481.5\" cy=\"59.9688\" fill=\"#FFA500\" rx=\"11\" ry=\"11\" style=\"stroke: #A80036; stroke-width: 1.0;\"/><path d=\"M481.25,65.4375 Q479.5,65.4375 478.5469,64.4063 Q477.6094,63.3594 477.6094,61.5156 L477.6094,54.625 L479.6719,54.625 L479.6719,54.7813 Q479.5781,54.875 479.5469,55.0156 Q479.5313,55.1406 479.5313,55.4063 L479.5313,61.5313 Q479.5313,62.625 479.9063,63.25 Q480.2813,63.875 481.2656,63.875 Q482.25,63.875 482.6406,63.25 Q483.0313,62.625 483.0313,61.4844 L483.0313,54.625 L484.9063,54.625 L484.9063,61.4688 Q484.9063,63.5 483.875,64.4688 Q482.8594,65.4375 481.25,65.4375 Z \"/><text fill=\"#000000\" font-family=\"sans-serif\" font-size=\"12\" font-style=\"italic\" lengthAdjust=\"spacingAndGlyphs\" textLength=\"85\" x=\"493.5\" y=\"57.1387\">«occurrence»</text><text fill=\"#000000\" font-family=\"sans-serif\" font-size=\"12\" lengthAdjust=\"spacingAndGlyphs\" textLength=\"77\" x=\"497.5\" y=\"71.1074\">ind: Ind, Occ</text><line style=\"stroke: #A80036; stroke-width: 1.5;\" x1=\"467.5\" x2=\"578.5\" y1=\"78.9375\" y2=\"78.9375\"/></a><!--MD5=[1dd1bfd58a279cf63c5f349dbc8fc6a1]\n",
       "class E11--><a href=\"psysml:a7aa12fc-e204-4f0a-90f2-9ab0101a123a\" target=\"_top\" title=\"psysml:a7aa12fc-e204-4f0a-90f2-9ab0101a123a\" xlink:actuate=\"onRequest\" xlink:href=\"psysml:a7aa12fc-e204-4f0a-90f2-9ab0101a123a\" xlink:show=\"new\" xlink:title=\"psysml:a7aa12fc-e204-4f0a-90f2-9ab0101a123a\" xlink:type=\"simple\"><rect fill=\"#FEFECE\" filter=\"url(#faydpvk6eseuc)\" height=\"45.9375\" id=\"E11\" rx=\"10\" ry=\"10\" style=\"stroke: #A80036; stroke-width: 1.5;\" width=\"113\" x=\"513.5\" y=\"153.5\"/><ellipse cx=\"528.5\" cy=\"172.4688\" fill=\"#FFA500\" rx=\"11\" ry=\"11\" style=\"stroke: #A80036; stroke-width: 1.0;\"/><path d=\"M528.25,177.9375 Q526.5,177.9375 525.5469,176.9063 Q524.6094,175.8594 524.6094,174.0156 L524.6094,167.125 L526.6719,167.125 L526.6719,167.2813 Q526.5781,167.375 526.5469,167.5156 Q526.5313,167.6406 526.5313,167.9063 L526.5313,174.0313 Q526.5313,175.125 526.9063,175.75 Q527.2813,176.375 528.2656,176.375 Q529.25,176.375 529.6406,175.75 Q530.0313,175.125 530.0313,173.9844 L530.0313,167.125 L531.9063,167.125 L531.9063,173.9688 Q531.9063,176 530.875,176.9688 Q529.8594,177.9375 528.25,177.9375 Z \"/><text fill=\"#000000\" font-family=\"sans-serif\" font-size=\"12\" font-style=\"italic\" lengthAdjust=\"spacingAndGlyphs\" textLength=\"85\" x=\"540.5\" y=\"169.6387\">«occurrence»</text><text fill=\"#000000\" font-family=\"sans-serif\" font-size=\"12\" lengthAdjust=\"spacingAndGlyphs\" textLength=\"15\" x=\"575.5\" y=\"183.6074\">s3</text><line style=\"stroke: #A80036; stroke-width: 1.5;\" x1=\"514.5\" x2=\"625.5\" y1=\"191.4375\" y2=\"191.4375\"/></a><!--MD5=[49a0ec8f00dab7302a31f22d0f0fe584]\n",
       "class E12--><a href=\"psysml:5052c3e9-886b-4521-8bf3-18ad9cb470c5\" target=\"_top\" title=\"psysml:5052c3e9-886b-4521-8bf3-18ad9cb470c5\" xlink:actuate=\"onRequest\" xlink:href=\"psysml:5052c3e9-886b-4521-8bf3-18ad9cb470c5\" xlink:show=\"new\" xlink:title=\"psysml:5052c3e9-886b-4521-8bf3-18ad9cb470c5\" xlink:type=\"simple\"><rect fill=\"#FEFECE\" filter=\"url(#faydpvk6eseuc)\" height=\"45.9375\" id=\"E12\" rx=\"10\" ry=\"10\" style=\"stroke: #A80036; stroke-width: 1.5;\" width=\"113\" x=\"661.5\" y=\"153.5\"/><ellipse cx=\"676.5\" cy=\"172.4688\" fill=\"#FFA500\" rx=\"11\" ry=\"11\" style=\"stroke: #A80036; stroke-width: 1.0;\"/><path d=\"M676.25,177.9375 Q674.5,177.9375 673.5469,176.9063 Q672.6094,175.8594 672.6094,174.0156 L672.6094,167.125 L674.6719,167.125 L674.6719,167.2813 Q674.5781,167.375 674.5469,167.5156 Q674.5313,167.6406 674.5313,167.9063 L674.5313,174.0313 Q674.5313,175.125 674.9063,175.75 Q675.2813,176.375 676.2656,176.375 Q677.25,176.375 677.6406,175.75 Q678.0313,175.125 678.0313,173.9844 L678.0313,167.125 L679.9063,167.125 L679.9063,173.9688 Q679.9063,176 678.875,176.9688 Q677.8594,177.9375 676.25,177.9375 Z \"/><text fill=\"#000000\" font-family=\"sans-serif\" font-size=\"12\" font-style=\"italic\" lengthAdjust=\"spacingAndGlyphs\" textLength=\"85\" x=\"688.5\" y=\"169.6387\">«occurrence»</text><text fill=\"#000000\" font-family=\"sans-serif\" font-size=\"12\" lengthAdjust=\"spacingAndGlyphs\" textLength=\"13\" x=\"724.5\" y=\"183.6074\">t3</text><line style=\"stroke: #A80036; stroke-width: 1.5;\" x1=\"662.5\" x2=\"773.5\" y1=\"191.4375\" y2=\"191.4375\"/></a><!--MD5=[ee3c913d1a06f366521f9ef512b67efe]\n",
       "class E13--><a href=\"psysml:e6d8c0e1-46dd-40c0-98f9-8ea23118f8bb\" target=\"_top\" title=\"psysml:e6d8c0e1-46dd-40c0-98f9-8ea23118f8bb\" xlink:actuate=\"onRequest\" xlink:href=\"psysml:e6d8c0e1-46dd-40c0-98f9-8ea23118f8bb\" xlink:show=\"new\" xlink:title=\"psysml:e6d8c0e1-46dd-40c0-98f9-8ea23118f8bb\" xlink:type=\"simple\"><rect fill=\"#FEFECE\" filter=\"url(#faydpvk6eseuc)\" height=\"45.9375\" id=\"E13\" rx=\"10\" ry=\"10\" style=\"stroke: #A80036; stroke-width: 1.5;\" width=\"113\" x=\"32.5\" y=\"266\"/><ellipse cx=\"47.5\" cy=\"284.9688\" fill=\"#FFA500\" rx=\"11\" ry=\"11\" style=\"stroke: #A80036; stroke-width: 1.0;\"/><path d=\"M47.25,290.4375 Q45.5,290.4375 44.5469,289.4063 Q43.6094,288.3594 43.6094,286.5156 L43.6094,279.625 L45.6719,279.625 L45.6719,279.7813 Q45.5781,279.875 45.5469,280.0156 Q45.5313,280.1406 45.5313,280.4063 L45.5313,286.5313 Q45.5313,287.625 45.9063,288.25 Q46.2813,288.875 47.2656,288.875 Q48.25,288.875 48.6406,288.25 Q49.0313,287.625 49.0313,286.4844 L49.0313,279.625 L50.9063,279.625 L50.9063,286.4688 Q50.9063,288.5 49.875,289.4688 Q48.8594,290.4375 47.25,290.4375 Z \"/><text fill=\"#000000\" font-family=\"sans-serif\" font-size=\"12\" font-style=\"italic\" lengthAdjust=\"spacingAndGlyphs\" textLength=\"85\" x=\"59.5\" y=\"282.1387\">«occurrence»</text><text fill=\"#000000\" font-family=\"sans-serif\" font-size=\"12\" lengthAdjust=\"spacingAndGlyphs\" textLength=\"42\" x=\"81\" y=\"296.1074\">s4: Ind</text><line style=\"stroke: #A80036; stroke-width: 1.5;\" x1=\"33.5\" x2=\"144.5\" y1=\"303.9375\" y2=\"303.9375\"/></a><!--MD5=[209b3feb70ccb6233bfe1053d122c12c]\n",
       "reverse link E2 to E3--><a href=\"psysml:816d5179-2674-4631-83bc-f7d71b4237a7\" target=\"_top\" title=\"psysml:816d5179-2674-4631-83bc-f7d71b4237a7\" xlink:actuate=\"onRequest\" xlink:href=\"psysml:816d5179-2674-4631-83bc-f7d71b4237a7\" xlink:show=\"new\" xlink:title=\"psysml:816d5179-2674-4631-83bc-f7d71b4237a7\" xlink:type=\"simple\"><path d=\"M315.19,214.11 C293.09,231.16 269.52,250.9 253.8,265.68 \" fill=\"none\" id=\"E2&lt;-E3\" style=\"stroke: #A80036; stroke-width: 1.0;\"/><polygon fill=\"#FFFFFF\" points=\"325.54,206.24,318.3426,206.6843,315.9845,213.499,323.1819,213.0547,325.54,206.24\" style=\"stroke: #A80036; stroke-width: 1.0;\"/></a><!--MD5=[05d275557350bfb9b23a4ef7222b4c39]\n",
       "link E3 to E2--><a href=\"psysml:eb3070f5-b0ea-4331-ac23-68f76765f53a\" target=\"_top\" title=\"psysml:eb3070f5-b0ea-4331-ac23-68f76765f53a\" xlink:actuate=\"onRequest\" xlink:href=\"psysml:eb3070f5-b0ea-4331-ac23-68f76765f53a\" xlink:show=\"new\" xlink:title=\"psysml:eb3070f5-b0ea-4331-ac23-68f76765f53a\" xlink:type=\"simple\"><path d=\"M275.36,265.68 C293.76,252.43 315.48,235.22 333.82,219.51 \" fill=\"none\" id=\"E3-&gt;E2\" style=\"stroke: #A80036; stroke-width: 1.0;\"/><polygon fill=\"#FFFFFF\" points=\"348.89,206.24,339.2604,224.0521,330.006,213.5471,348.89,206.24\" style=\"stroke: #A80036; stroke-width: 1.0;\"/><ellipse cx=\"333.6613\" cy=\"226.3192\" fill=\"#A80036\" rx=\"2\" ry=\"2\" style=\"stroke: #A80036; stroke-width: 1.0;\"/><ellipse cx=\"327.051\" cy=\"218.8157\" fill=\"#A80036\" rx=\"2\" ry=\"2\" style=\"stroke: #A80036; stroke-width: 1.0;\"/></a><!--MD5=[9618e71518536f8baf3342ff6fdab317]\n",
       "reverse link E2 to E4--><a href=\"psysml:0447f336-2e88-4877-9a74-bac22478a75a\" target=\"_top\" title=\"psysml:0447f336-2e88-4877-9a74-bac22478a75a\" xlink:actuate=\"onRequest\" xlink:href=\"psysml:0447f336-2e88-4877-9a74-bac22478a75a\" xlink:show=\"new\" xlink:title=\"psysml:0447f336-2e88-4877-9a74-bac22478a75a\" xlink:type=\"simple\"><path d=\"M364.52,219.51 C365.57,235.22 368.25,252.43 371.9,265.68 \" fill=\"none\" id=\"E2&lt;-E4\" style=\"stroke: #A80036; stroke-width: 1.0;\"/><polygon fill=\"#A80036\" points=\"364.04,206.24,360.2603,212.3812,364.4754,218.2321,368.255,212.0909,364.04,206.24\" style=\"stroke: #A80036; stroke-width: 1.0;\"/></a><!--MD5=[185131fc0dcab0a4505a2ebe144e961b]\n",
       "link E4 to E2--><a href=\"psysml:bbe7f0c0-75f0-4d42-b38b-c0f55f25890a\" target=\"_top\" title=\"psysml:bbe7f0c0-75f0-4d42-b38b-c0f55f25890a\" xlink:actuate=\"onRequest\" xlink:href=\"psysml:bbe7f0c0-75f0-4d42-b38b-c0f55f25890a\" xlink:show=\"new\" xlink:title=\"psysml:bbe7f0c0-75f0-4d42-b38b-c0f55f25890a\" xlink:type=\"simple\"><path d=\"M393.46,265.68 C394.03,254.31 393.12,240.01 391.15,226.25 \" fill=\"none\" id=\"E4-&gt;E2\" style=\"stroke: #A80036; stroke-width: 1.0;\"/><polygon fill=\"#FFFFFF\" points=\"387.39,206.24,397.7716,223.6246,384.0114,226.2046,387.39,206.24\" style=\"stroke: #A80036; stroke-width: 1.0;\"/><ellipse cx=\"396.8563\" cy=\"229.5955\" fill=\"#A80036\" rx=\"2\" ry=\"2\" style=\"stroke: #A80036; stroke-width: 1.0;\"/><ellipse cx=\"387.0276\" cy=\"231.4384\" fill=\"#A80036\" rx=\"2\" ry=\"2\" style=\"stroke: #A80036; stroke-width: 1.0;\"/></a><!--MD5=[4e1a83fab71cdb913c109063314ae896]\n",
       "reverse link E2 to E5--><a href=\"psysml:5c44c5f5-a434-4c27-9e5d-4b118f9f4fa1\" target=\"_top\" title=\"psysml:5c44c5f5-a434-4c27-9e5d-4b118f9f4fa1\" xlink:actuate=\"onRequest\" xlink:href=\"psysml:5c44c5f5-a434-4c27-9e5d-4b118f9f4fa1\" xlink:show=\"new\" xlink:title=\"psysml:5c44c5f5-a434-4c27-9e5d-4b118f9f4fa1\" xlink:type=\"simple\"><path d=\"M424.71,213.68 C449.8,230.89 478.98,250.93 500.73,265.85 \" fill=\"none\" id=\"E2&lt;-E5\" style=\"stroke: #A80036; stroke-width: 1.0;\"/><polygon fill=\"#A80036\" points=\"413.88,206.24,416.5619,212.9338,423.7723,213.0327,421.0904,206.3389,413.88,206.24\" style=\"stroke: #A80036; stroke-width: 1.0;\"/></a><!--MD5=[ce036f65110ae2351ccce5a81dc2e928]\n",
       "reverse link E2 to E6--><a href=\"psysml:f84da050-0b5f-49f5-998e-9b704fc66ebc\" target=\"_top\" title=\"psysml:f84da050-0b5f-49f5-998e-9b704fc66ebc\" xlink:actuate=\"onRequest\" xlink:href=\"psysml:f84da050-0b5f-49f5-998e-9b704fc66ebc\" xlink:show=\"new\" xlink:title=\"psysml:f84da050-0b5f-49f5-998e-9b704fc66ebc\" xlink:type=\"simple\"><path d=\"M452.88,206.42 C506.85,225.72 576.44,250.61 624.5,267.79 \" fill=\"none\" id=\"E2&lt;-E6\" style=\"stroke: #A80036; stroke-width: 1.0;\"/><polygon fill=\"#A80036\" points=\"440.58,202.02,444.8855,207.8047,451.8812,206.0552,447.5757,200.2705,440.58,202.02\" style=\"stroke: #A80036; stroke-width: 1.0;\"/><text fill=\"#000000\" font-family=\"sans-serif\" font-size=\"13\" lengthAdjust=\"spacingAndGlyphs\" textLength=\"7\" x=\"609.4375\" y=\"261.0121\">*</text></a><!--MD5=[3a9b96bfbf6b6ad89c494e81751bda47]\n",
       "link E5 to E7--><a href=\"psysml:5222325c-bb46-4e39-81f0-12dbae43365a\" target=\"_top\" title=\"psysml:5222325c-bb46-4e39-81f0-12dbae43365a\" xlink:actuate=\"onRequest\" xlink:href=\"psysml:5222325c-bb46-4e39-81f0-12dbae43365a\" xlink:show=\"new\" xlink:title=\"psysml:5222325c-bb46-4e39-81f0-12dbae43365a\" xlink:type=\"simple\"><path d=\"M533,312.06 C533,323.64 533,338.23 533,351.87 \" fill=\"none\" id=\"E5-&gt;E7\" style=\"stroke: #A80036; stroke-width: 1.0;\"/><polygon fill=\"#FFFFFF\" points=\"533,371.98,526,352.98,540,352.98,533,371.98\" style=\"stroke: #A80036; stroke-width: 1.0;\"/><ellipse cx=\"528\" cy=\"347.28\" fill=\"#A80036\" rx=\"2\" ry=\"2\" style=\"stroke: #A80036; stroke-width: 1.0;\"/><ellipse cx=\"538\" cy=\"347.28\" fill=\"#A80036\" rx=\"2\" ry=\"2\" style=\"stroke: #A80036; stroke-width: 1.0;\"/></a><!--MD5=[dc164f5e8a733ab456ef1add180e9e34]\n",
       "reverse link E7 to E8--><a href=\"psysml:62bbb331-bb03-464e-9e32-68694608bffc\" target=\"_top\" title=\"psysml:62bbb331-bb03-464e-9e32-68694608bffc\" xlink:actuate=\"onRequest\" xlink:href=\"psysml:62bbb331-bb03-464e-9e32-68694608bffc\" xlink:show=\"new\" xlink:title=\"psysml:62bbb331-bb03-464e-9e32-68694608bffc\" xlink:type=\"simple\"><path d=\"M509.45,429.09 C498.09,445.06 484.77,463.78 474.67,477.98 \" fill=\"none\" id=\"E7&lt;-E8\" style=\"stroke: #A80036; stroke-width: 1.0;\"/><polygon fill=\"#A80036\" points=\"517.31,418.06,510.5722,420.6295,510.3526,427.8373,517.0904,425.2678,517.31,418.06\" style=\"stroke: #A80036; stroke-width: 1.0;\"/><text fill=\"#000000\" font-family=\"sans-serif\" font-size=\"13\" lengthAdjust=\"spacingAndGlyphs\" textLength=\"7\" x=\"470.9407\" y=\"466.8709\">*</text></a><!--MD5=[e4a10ef82d0e328e31cac39a31e58dda]\n",
       "reverse link E7 to E9--><a href=\"psysml:6940b1aa-8c0f-4381-86aa-7b3e10e8c0d6\" target=\"_top\" title=\"psysml:6940b1aa-8c0f-4381-86aa-7b3e10e8c0d6\" xlink:actuate=\"onRequest\" xlink:href=\"psysml:6940b1aa-8c0f-4381-86aa-7b3e10e8c0d6\" xlink:show=\"new\" xlink:title=\"psysml:6940b1aa-8c0f-4381-86aa-7b3e10e8c0d6\" xlink:type=\"simple\"><path d=\"M556.55,429.09 C567.91,445.06 581.23,463.78 591.33,477.98 \" fill=\"none\" id=\"E7&lt;-E9\" style=\"stroke: #A80036; stroke-width: 1.0;\"/><polygon fill=\"#A80036\" points=\"548.69,418.06,548.9096,425.2678,555.6474,427.8373,555.4278,420.6295,548.69,418.06\" style=\"stroke: #A80036; stroke-width: 1.0;\"/><text fill=\"#000000\" font-family=\"sans-serif\" font-size=\"13\" lengthAdjust=\"spacingAndGlyphs\" textLength=\"7\" x=\"579.1781\" y=\"466.8709\">*</text></a><!--MD5=[a919e0967d6f3de553dc51b9865a1d6d]\n",
       "link E10 to E7--><a href=\"psysml:2d47db94-d209-4d22-9eae-73bfc16721f5\" target=\"_top\" title=\"psysml:2d47db94-d209-4d22-9eae-73bfc16721f5\" xlink:actuate=\"onRequest\" xlink:href=\"psysml:2d47db94-d209-4d22-9eae-73bfc16721f5\" xlink:show=\"new\" xlink:title=\"psysml:2d47db94-d209-4d22-9eae-73bfc16721f5\" xlink:type=\"simple\"><path d=\"M509.03,87.13 C491.97,117.28 468.55,171.46 496,206 C569.52,298.5 681.48,173.5 755,266 C799.45,321.93 700.79,358.05 621.07,377.22 \" fill=\"none\" id=\"E10-&gt;E7\" style=\"stroke: #A80036; stroke-width: 1.0;\"/><polygon fill=\"#FFFFFF\" points=\"601.57,381.67,618.5402,370.6241,621.6503,384.2743,601.57,381.67\" style=\"stroke: #A80036; stroke-width: 1.0;\"/><ellipse cx=\"624.5421\" cy=\"371.3079\" fill=\"#A80036\" rx=\"2\" ry=\"2\" style=\"stroke: #A80036; stroke-width: 1.0;\"/><ellipse cx=\"626.7636\" cy=\"381.0581\" fill=\"#A80036\" rx=\"2\" ry=\"2\" style=\"stroke: #A80036; stroke-width: 1.0;\"/></a><!--MD5=[0f36bececdf0dff6e600d6f64214b0f1]\n",
       "link E10 to E2--><a href=\"psysml:6622b004-fc37-43f3-bc42-fdfacc696359\" target=\"_top\" title=\"psysml:6622b004-fc37-43f3-bc42-fdfacc696359\" xlink:actuate=\"onRequest\" xlink:href=\"psysml:6622b004-fc37-43f3-bc42-fdfacc696359\" xlink:show=\"new\" xlink:title=\"psysml:6622b004-fc37-43f3-bc42-fdfacc696359\" xlink:type=\"simple\"><path d=\"M492.81,87.1 C474.08,100.8 449.46,118.82 427.33,135.01 \" fill=\"none\" id=\"E10-&gt;E2\" style=\"stroke: #A80036; stroke-width: 1.0;\"/><polygon fill=\"#FFFFFF\" points=\"411.04,146.93,422.2383,130.06,430.5066,141.3576,411.04,146.93\" style=\"stroke: #A80036; stroke-width: 1.0;\"/><ellipse cx=\"428.0193\" cy=\"128.3076\" fill=\"#A80036\" rx=\"2\" ry=\"2\" style=\"stroke: #A80036; stroke-width: 1.0;\"/><ellipse cx=\"433.9252\" cy=\"136.3773\" fill=\"#A80036\" rx=\"2\" ry=\"2\" style=\"stroke: #A80036; stroke-width: 1.0;\"/></a><!--MD5=[de308be4a2431766a05a907a031c07fc]\n",
       "reverse link E10 to E11--><a href=\"psysml:973d09ca-2c85-400b-8a26-6e03e711a9dc\" target=\"_top\" title=\"psysml:973d09ca-2c85-400b-8a26-6e03e711a9dc\" xlink:actuate=\"onRequest\" xlink:href=\"psysml:973d09ca-2c85-400b-8a26-6e03e711a9dc\" xlink:show=\"new\" xlink:title=\"psysml:973d09ca-2c85-400b-8a26-6e03e711a9dc\" xlink:type=\"simple\"><path d=\"M537.56,99.24 C545.08,116.91 554.03,137.94 560.62,153.44 \" fill=\"none\" id=\"E10&lt;-E11\" style=\"stroke: #A80036; stroke-width: 1.0;\"/><polygon fill=\"#A80036\" points=\"532.4,87.1,531.0675,94.1869,537.0968,98.1427,538.4293,91.0557,532.4,87.1\" style=\"stroke: #A80036; stroke-width: 1.0;\"/></a><!--MD5=[1d54f998c6d5961a1a9184be73a7eb6c]\n",
       "reverse link E10 to E12--><a href=\"psysml:4b2dc275-57bf-47aa-bec9-3fe53972a958\" target=\"_top\" title=\"psysml:4b2dc275-57bf-47aa-bec9-3fe53972a958\" xlink:actuate=\"onRequest\" xlink:href=\"psysml:4b2dc275-57bf-47aa-bec9-3fe53972a958\" xlink:show=\"new\" xlink:title=\"psysml:4b2dc275-57bf-47aa-bec9-3fe53972a958\" xlink:type=\"simple\"><path d=\"M573.65,93.7 C606.56,112.35 648.8,136.29 679.08,153.44 \" fill=\"none\" id=\"E10&lt;-E12\" style=\"stroke: #A80036; stroke-width: 1.0;\"/><polygon fill=\"#A80036\" points=\"561.99,87.1,565.2334,93.5405,572.4259,93.0238,569.1826,86.5833,561.99,87.1\" style=\"stroke: #A80036; stroke-width: 1.0;\"/></a><!--MD5=[4a48077df6499cfcd20b62e8f5f37904]\n",
       "link E13 to E7--><a href=\"psysml:99db2ce7-7db4-4747-aea3-ba596a45b862\" target=\"_top\" title=\"psysml:99db2ce7-7db4-4747-aea3-ba596a45b862\" xlink:actuate=\"onRequest\" xlink:href=\"psysml:99db2ce7-7db4-4747-aea3-ba596a45b862\" xlink:show=\"new\" xlink:title=\"psysml:99db2ce7-7db4-4747-aea3-ba596a45b862\" xlink:type=\"simple\"><path d=\"M145.85,307.34 C151.63,308.97 157.42,310.55 163,312 C258.68,336.79 369.48,360.72 444.71,376.27 \" fill=\"none\" id=\"E13-&gt;E7\" style=\"stroke: #A80036; stroke-width: 1.0;\"/><polygon fill=\"#FFFFFF\" points=\"464.46,380.33,444.4393,383.3585,447.2599,369.6456,464.46,380.33\" style=\"stroke: #A80036; stroke-width: 1.0;\"/><ellipse cx=\"439.2591\" cy=\"380.2511\" fill=\"#A80036\" rx=\"2\" ry=\"2\" style=\"stroke: #A80036; stroke-width: 1.0;\"/><ellipse cx=\"441.2738\" cy=\"370.4562\" fill=\"#A80036\" rx=\"2\" ry=\"2\" style=\"stroke: #A80036; stroke-width: 1.0;\"/></a><!--MD5=[deffdb8e9d1de984c071573ba6cd2879]\n",
       "@startuml\r\n",
       " \r\n",
       "package \"OccurrenceTest\" as E1  [[psysml:e6ab502d-dafd-416a-a255-3fa3ad3c263c ]]  {\r\n",
       "comp def \"Occ\" as E2 << <<(D,brown) occurrence def>> [[psysml:1203d309-d98c-452c-84ab-9db93e8b8d83 ]] {\r\n",
       "a\r\n",
       "}\r\n",
       "comp usage \"occ1: Occ\" as E3 << <<(U,orange) occurrence>> [[psysml:158a345e-3640-4aa1-8638-58b6699698f0 ]] {\r\n",
       "}\r\n",
       "comp usage \"occ2: Occ\" as E4 << <<(U,orange) occurrence>> [[psysml:5ccc27c3-07b1-4713-880e-82008912fb62 ]] {\r\n",
       "}\r\n",
       "comp usage \"s: Ind\" as E5 << individual snapshot <<(U,orange) occurrence>> [[psysml:b931cfcd-d1f5-4c70-b44c-3b4fd21c9018 ]] {\r\n",
       "}\r\n",
       "comp usage \"t\" as E6 << timeslice <<(U,orange) occurrence>> [[psysml:a76dffb5-cb4a-4142-b15c-9dbeb6bd2474 ]] {\r\n",
       "}\r\n",
       "comp def \"Ind\" as E7 << individual <<(D,brown) occurrence def>> [[psysml:cddcce1d-840d-4259-9672-1cad32ef9616 ]] {\r\n",
       "}\r\n",
       "comp usage \"s2\" as E8 << snapshot <<(U,orange) occurrence>> [[psysml:760118bf-f26e-45fa-9528-0dbdf12ed33d ]] {\r\n",
       "}\r\n",
       "comp usage \"t2\" as E9 << timeslice <<(U,orange) occurrence>> [[psysml:6916c4a6-d3e9-4718-9bd3-b4da3843528f ]] {\r\n",
       "}\r\n",
       "comp usage \"ind: Ind, Occ\" as E10 << individual <<(U,orange) occurrence>> [[psysml:ca3e4eae-d888-4010-bdf5-da81d89d1eab ]] {\r\n",
       "}\r\n",
       "comp usage \"s3\" as E11 << snapshot <<(U,orange) occurrence>> [[psysml:a7aa12fc-e204-4f0a-90f2-9ab0101a123a ]] {\r\n",
       "}\r\n",
       "comp usage \"t3\" as E12 << individual timeslice <<(U,orange) occurrence>> [[psysml:5052c3e9-886b-4521-8bf3-18ad9cb470c5 ]] {\r\n",
       "}\r\n",
       "comp usage \"s4: Ind\" as E13 << individual snapshot <<(U,orange) occurrence>> [[psysml:e6d8c0e1-46dd-40c0-98f9-8ea23118f8bb ]] {\r\n",
       "}\r\n",
       "}\r\n",
       "E2 o- - E3 [[psysml:816d5179-2674-4631-83bc-f7d71b4237a7 ]] \r\n",
       "E3 - -:|> E2 [[psysml:eb3070f5-b0ea-4331-ac23-68f76765f53a ]] \r\n",
       "E2 *- - E4 [[psysml:0447f336-2e88-4877-9a74-bac22478a75a ]] \r\n",
       "E4 - -:|> E2 [[psysml:bbe7f0c0-75f0-4d42-b38b-c0f55f25890a ]] \r\n",
       "E2 *- - E5 [[psysml:5c44c5f5-a434-4c27-9e5d-4b118f9f4fa1 ]] \r\n",
       "E2 *- - \"*\"E6 [[psysml:f84da050-0b5f-49f5-998e-9b704fc66ebc ]] \r\n",
       "E5 - -:|> E7 [[psysml:5222325c-bb46-4e39-81f0-12dbae43365a ]] \r\n",
       "E7 *- - \"*\"E8 [[psysml:62bbb331-bb03-464e-9e32-68694608bffc ]] \r\n",
       "E7 *- - \"*\"E9 [[psysml:6940b1aa-8c0f-4381-86aa-7b3e10e8c0d6 ]] \r\n",
       "E10 - -:|> E7 [[psysml:2d47db94-d209-4d22-9eae-73bfc16721f5 ]] \r\n",
       "E10 - -:|> E2 [[psysml:6622b004-fc37-43f3-bc42-fdfacc696359 ]] \r\n",
       "E10 *- - E11 [[psysml:973d09ca-2c85-400b-8a26-6e03e711a9dc ]] \r\n",
       "E10 *- - E12 [[psysml:4b2dc275-57bf-47aa-bec9-3fe53972a958 ]] \r\n",
       "E13 - -:|> E7 [[psysml:99db2ce7-7db4-4747-aea3-ba596a45b862 ]] \r\n",
       "@enduml\r\n",
       "\n",
       "PlantUML version 1.2020.13(Sat Jun 13 12:26:38 UTC 2020)\n",
       "(EPL source distribution)\n",
       "Java Runtime: OpenJDK Runtime Environment\n",
       "JVM: OpenJDK 64-Bit Server VM\n",
       "Default Encoding: UTF-8\n",
       "Language: en\n",
       "Country: null\n",
       "--></g></svg>"
      ]
     },
     "execution_count": 36,
     "metadata": {},
     "output_type": "execute_result"
    }
   ],
   "source": [
    "%viz --style=\"PLANTUML\" --view=\"MIXED\" \"OccurrenceTest\""
   ]
  },
  {
   "cell_type": "code",
   "execution_count": 37,
   "id": "534d60a2",
   "metadata": {
    "execution": {
     "iopub.execute_input": "2021-10-03T08:28:45.121943Z",
     "iopub.status.busy": "2021-10-03T08:28:45.121547Z",
     "iopub.status.idle": "2021-10-03T08:28:45.175326Z",
     "shell.execute_reply": "2021-10-03T08:28:45.174972Z"
    }
   },
   "outputs": [
    {
     "data": {
      "image/svg+xml": [
       "<?xml version=\"1.0\" encoding=\"UTF-8\" standalone=\"no\"?><svg xmlns=\"http://www.w3.org/2000/svg\" xmlns:xlink=\"http://www.w3.org/1999/xlink\" contentScriptType=\"application/ecmascript\" contentStyleType=\"text/css\" height=\"569px\" preserveAspectRatio=\"none\" style=\"width:1009px;height:569px;\" version=\"1.1\" viewBox=\"0 0 1009 569\" width=\"1009px\" zoomAndPan=\"magnify\"><defs/><g><!--MD5=[fbc87193dbaf4d95561dea2c320d4a47]\n",
       "cluster E1--><a href=\"psysml:e6ab502d-dafd-416a-a255-3fa3ad3c263c\" target=\"_top\" title=\"psysml:e6ab502d-dafd-416a-a255-3fa3ad3c263c\" xlink:actuate=\"onRequest\" xlink:href=\"psysml:e6ab502d-dafd-416a-a255-3fa3ad3c263c\" xlink:show=\"new\" xlink:title=\"psysml:e6ab502d-dafd-416a-a255-3fa3ad3c263c\" xlink:type=\"simple\"><polygon fill=\"#FFFFFF\" points=\"16,6,134,6,141,28.2969,970,28.2969,970,557,16,557,16,6\" style=\"stroke: #000000; stroke-width: 1.5;\"/><line style=\"stroke: #000000; stroke-width: 1.5;\" x1=\"16\" x2=\"141\" y1=\"28.2969\" y2=\"28.2969\"/><text fill=\"#000000\" font-family=\"sans-serif\" font-size=\"14\" font-weight=\"bold\" lengthAdjust=\"spacingAndGlyphs\" textLength=\"112\" x=\"20\" y=\"20.9951\">OccurrenceTest</text></a><!--MD5=[b4997ac47864f28c2f74865a473b2911]\n",
       "class E2--><a href=\"psysml:1203d309-d98c-452c-84ab-9db93e8b8d83\" target=\"_top\" title=\"psysml:1203d309-d98c-452c-84ab-9db93e8b8d83\" xlink:actuate=\"onRequest\" xlink:href=\"psysml:1203d309-d98c-452c-84ab-9db93e8b8d83\" xlink:show=\"new\" xlink:title=\"psysml:1203d309-d98c-452c-84ab-9db93e8b8d83\" xlink:type=\"simple\"><rect fill=\"#FFFFFF\" height=\"75.5469\" id=\"E2\" style=\"stroke: #383838; stroke-width: 1.5;\" width=\"111\" x=\"377.5\" y=\"147\"/><text fill=\"#000000\" font-family=\"sans-serif\" font-size=\"12\" font-style=\"italic\" lengthAdjust=\"spacingAndGlyphs\" textLength=\"109\" x=\"378.5\" y=\"163.1387\">«occurrence def»</text><text fill=\"#000000\" font-family=\"sans-serif\" font-size=\"12\" lengthAdjust=\"spacingAndGlyphs\" textLength=\"23\" x=\"421.5\" y=\"177.1074\">Occ</text><line style=\"stroke: #383838; stroke-width: 1.5;\" x1=\"378.5\" x2=\"487.5\" y1=\"184.9375\" y2=\"184.9375\"/><text fill=\"#000000\" font-family=\"sans-serif\" font-size=\"11\" lengthAdjust=\"spacingAndGlyphs\" textLength=\"7\" x=\"383.5\" y=\"215.9526\">a</text><line style=\"stroke: #383838; stroke-width: 1.0;\" x1=\"378.5\" x2=\"405.5\" y1=\"199.3398\" y2=\"199.3398\"/><text fill=\"#000000\" font-family=\"sans-serif\" font-size=\"11\" lengthAdjust=\"spacingAndGlyphs\" textLength=\"55\" x=\"405.5\" y=\"202.6479\">attributes</text><line style=\"stroke: #383838; stroke-width: 1.0;\" x1=\"460.5\" x2=\"487.5\" y1=\"199.3398\" y2=\"199.3398\"/></a><!--MD5=[09b614a08d8cba4a07c9adeb5e0fee81]\n",
       "class E3--><a href=\"psysml:158a345e-3640-4aa1-8638-58b6699698f0\" target=\"_top\" title=\"psysml:158a345e-3640-4aa1-8638-58b6699698f0\" xlink:actuate=\"onRequest\" xlink:href=\"psysml:158a345e-3640-4aa1-8638-58b6699698f0\" xlink:show=\"new\" xlink:title=\"psysml:158a345e-3640-4aa1-8638-58b6699698f0\" xlink:type=\"simple\"><rect fill=\"#FFFFFF\" height=\"45.9375\" id=\"E3\" rx=\"10\" ry=\"10\" style=\"stroke: #383838; stroke-width: 1.5;\" width=\"87\" x=\"279.5\" y=\"283\"/><text fill=\"#000000\" font-family=\"sans-serif\" font-size=\"12\" font-style=\"italic\" lengthAdjust=\"spacingAndGlyphs\" textLength=\"85\" x=\"280.5\" y=\"299.1387\">«occurrence»</text><text fill=\"#000000\" font-family=\"sans-serif\" font-size=\"12\" lengthAdjust=\"spacingAndGlyphs\" textLength=\"61\" x=\"292.5\" y=\"313.1074\">occ1: Occ</text><line style=\"stroke: #383838; stroke-width: 1.5;\" x1=\"280.5\" x2=\"365.5\" y1=\"320.9375\" y2=\"320.9375\"/></a><!--MD5=[ebbe1d658d1005bcc118a6aa81145e00]\n",
       "class E4--><a href=\"psysml:5ccc27c3-07b1-4713-880e-82008912fb62\" target=\"_top\" title=\"psysml:5ccc27c3-07b1-4713-880e-82008912fb62\" xlink:actuate=\"onRequest\" xlink:href=\"psysml:5ccc27c3-07b1-4713-880e-82008912fb62\" xlink:show=\"new\" xlink:title=\"psysml:5ccc27c3-07b1-4713-880e-82008912fb62\" xlink:type=\"simple\"><rect fill=\"#FFFFFF\" height=\"45.9375\" id=\"E4\" rx=\"10\" ry=\"10\" style=\"stroke: #383838; stroke-width: 1.5;\" width=\"87\" x=\"401.5\" y=\"283\"/><text fill=\"#000000\" font-family=\"sans-serif\" font-size=\"12\" font-style=\"italic\" lengthAdjust=\"spacingAndGlyphs\" textLength=\"85\" x=\"402.5\" y=\"299.1387\">«occurrence»</text><text fill=\"#000000\" font-family=\"sans-serif\" font-size=\"12\" lengthAdjust=\"spacingAndGlyphs\" textLength=\"61\" x=\"414.5\" y=\"313.1074\">occ2: Occ</text><line style=\"stroke: #383838; stroke-width: 1.5;\" x1=\"402.5\" x2=\"487.5\" y1=\"320.9375\" y2=\"320.9375\"/></a><!--MD5=[270fce915f116d4de14055a7c1d9a0f3]\n",
       "class E5--><a href=\"psysml:b931cfcd-d1f5-4c70-b44c-3b4fd21c9018\" target=\"_top\" title=\"psysml:b931cfcd-d1f5-4c70-b44c-3b4fd21c9018\" xlink:actuate=\"onRequest\" xlink:href=\"psysml:b931cfcd-d1f5-4c70-b44c-3b4fd21c9018\" xlink:show=\"new\" xlink:title=\"psysml:b931cfcd-d1f5-4c70-b44c-3b4fd21c9018\" xlink:type=\"simple\"><rect fill=\"#FFFFFF\" height=\"45.9375\" id=\"E5\" rx=\"10\" ry=\"10\" style=\"stroke: #383838; stroke-width: 1.5;\" width=\"212\" x=\"524\" y=\"283\"/><text fill=\"#000000\" font-family=\"sans-serif\" font-size=\"12\" font-style=\"italic\" lengthAdjust=\"spacingAndGlyphs\" textLength=\"210\" x=\"525\" y=\"299.1387\">«individual snapshot occurrence»</text><text fill=\"#000000\" font-family=\"sans-serif\" font-size=\"12\" lengthAdjust=\"spacingAndGlyphs\" textLength=\"34\" x=\"613\" y=\"313.1074\">s: Ind</text><line style=\"stroke: #383838; stroke-width: 1.5;\" x1=\"525\" x2=\"735\" y1=\"320.9375\" y2=\"320.9375\"/></a><!--MD5=[60a26617385b1d2d0262a64233df1f8d]\n",
       "class E6--><a href=\"psysml:a76dffb5-cb4a-4142-b15c-9dbeb6bd2474\" target=\"_top\" title=\"psysml:a76dffb5-cb4a-4142-b15c-9dbeb6bd2474\" xlink:actuate=\"onRequest\" xlink:href=\"psysml:a76dffb5-cb4a-4142-b15c-9dbeb6bd2474\" xlink:show=\"new\" xlink:title=\"psysml:a76dffb5-cb4a-4142-b15c-9dbeb6bd2474\" xlink:type=\"simple\"><rect fill=\"#FFFFFF\" height=\"45.9375\" id=\"E6\" rx=\"10\" ry=\"10\" style=\"stroke: #383838; stroke-width: 1.5;\" width=\"146\" x=\"771\" y=\"283\"/><text fill=\"#000000\" font-family=\"sans-serif\" font-size=\"12\" font-style=\"italic\" lengthAdjust=\"spacingAndGlyphs\" textLength=\"144\" x=\"772\" y=\"299.1387\">«timeslice occurrence»</text><text fill=\"#000000\" font-family=\"sans-serif\" font-size=\"12\" lengthAdjust=\"spacingAndGlyphs\" textLength=\"5\" x=\"841.5\" y=\"313.1074\">t</text><line style=\"stroke: #383838; stroke-width: 1.5;\" x1=\"772\" x2=\"916\" y1=\"320.9375\" y2=\"320.9375\"/></a><!--MD5=[2156ba9850f5573cc1fc38a6a4b2f02b]\n",
       "class E7--><a href=\"psysml:cddcce1d-840d-4259-9672-1cad32ef9616\" target=\"_top\" title=\"psysml:cddcce1d-840d-4259-9672-1cad32ef9616\" xlink:actuate=\"onRequest\" xlink:href=\"psysml:cddcce1d-840d-4259-9672-1cad32ef9616\" xlink:show=\"new\" xlink:title=\"psysml:cddcce1d-840d-4259-9672-1cad32ef9616\" xlink:type=\"simple\"><rect fill=\"#FFFFFF\" height=\"45.9375\" id=\"E7\" style=\"stroke: #383838; stroke-width: 1.5;\" width=\"173\" x=\"543.5\" y=\"389\"/><text fill=\"#000000\" font-family=\"sans-serif\" font-size=\"12\" font-style=\"italic\" lengthAdjust=\"spacingAndGlyphs\" textLength=\"171\" x=\"544.5\" y=\"405.1387\">«individual occurrence def»</text><text fill=\"#000000\" font-family=\"sans-serif\" font-size=\"12\" lengthAdjust=\"spacingAndGlyphs\" textLength=\"19\" x=\"620.5\" y=\"419.1074\">Ind</text><line style=\"stroke: #383838; stroke-width: 1.5;\" x1=\"544.5\" x2=\"715.5\" y1=\"426.9375\" y2=\"426.9375\"/></a><!--MD5=[b9389687b975829384b498ac4b7476b2]\n",
       "class E8--><a href=\"psysml:760118bf-f26e-45fa-9528-0dbdf12ed33d\" target=\"_top\" title=\"psysml:760118bf-f26e-45fa-9528-0dbdf12ed33d\" xlink:actuate=\"onRequest\" xlink:href=\"psysml:760118bf-f26e-45fa-9528-0dbdf12ed33d\" xlink:show=\"new\" xlink:title=\"psysml:760118bf-f26e-45fa-9528-0dbdf12ed33d\" xlink:type=\"simple\"><rect fill=\"#FFFFFF\" height=\"45.9375\" id=\"E8\" rx=\"10\" ry=\"10\" style=\"stroke: #383838; stroke-width: 1.5;\" width=\"150\" x=\"463\" y=\"495\"/><text fill=\"#000000\" font-family=\"sans-serif\" font-size=\"12\" font-style=\"italic\" lengthAdjust=\"spacingAndGlyphs\" textLength=\"148\" x=\"464\" y=\"511.1387\">«snapshot occurrence»</text><text fill=\"#000000\" font-family=\"sans-serif\" font-size=\"12\" lengthAdjust=\"spacingAndGlyphs\" textLength=\"15\" x=\"530.5\" y=\"525.1074\">s2</text><line style=\"stroke: #383838; stroke-width: 1.5;\" x1=\"464\" x2=\"612\" y1=\"532.9375\" y2=\"532.9375\"/></a><!--MD5=[fd4143e9d270a159db93a4ea2a975926]\n",
       "class E9--><a href=\"psysml:6916c4a6-d3e9-4718-9bd3-b4da3843528f\" target=\"_top\" title=\"psysml:6916c4a6-d3e9-4718-9bd3-b4da3843528f\" xlink:actuate=\"onRequest\" xlink:href=\"psysml:6916c4a6-d3e9-4718-9bd3-b4da3843528f\" xlink:show=\"new\" xlink:title=\"psysml:6916c4a6-d3e9-4718-9bd3-b4da3843528f\" xlink:type=\"simple\"><rect fill=\"#FFFFFF\" height=\"45.9375\" id=\"E9\" rx=\"10\" ry=\"10\" style=\"stroke: #383838; stroke-width: 1.5;\" width=\"146\" x=\"648\" y=\"495\"/><text fill=\"#000000\" font-family=\"sans-serif\" font-size=\"12\" font-style=\"italic\" lengthAdjust=\"spacingAndGlyphs\" textLength=\"144\" x=\"649\" y=\"511.1387\">«timeslice occurrence»</text><text fill=\"#000000\" font-family=\"sans-serif\" font-size=\"12\" lengthAdjust=\"spacingAndGlyphs\" textLength=\"13\" x=\"714.5\" y=\"525.1074\">t2</text><line style=\"stroke: #383838; stroke-width: 1.5;\" x1=\"649\" x2=\"793\" y1=\"532.9375\" y2=\"532.9375\"/></a><!--MD5=[96f4274e9e20536e775497830990834d]\n",
       "class E10--><a href=\"psysml:ca3e4eae-d888-4010-bdf5-da81d89d1eab\" target=\"_top\" title=\"psysml:ca3e4eae-d888-4010-bdf5-da81d89d1eab\" xlink:actuate=\"onRequest\" xlink:href=\"psysml:ca3e4eae-d888-4010-bdf5-da81d89d1eab\" xlink:show=\"new\" xlink:title=\"psysml:ca3e4eae-d888-4010-bdf5-da81d89d1eab\" xlink:type=\"simple\"><rect fill=\"#FFFFFF\" height=\"45.9375\" id=\"E10\" rx=\"10\" ry=\"10\" style=\"stroke: #383838; stroke-width: 1.5;\" width=\"149\" x=\"505.5\" y=\"41\"/><text fill=\"#000000\" font-family=\"sans-serif\" font-size=\"12\" font-style=\"italic\" lengthAdjust=\"spacingAndGlyphs\" textLength=\"147\" x=\"506.5\" y=\"57.1387\">«individual occurrence»</text><text fill=\"#000000\" font-family=\"sans-serif\" font-size=\"12\" lengthAdjust=\"spacingAndGlyphs\" textLength=\"77\" x=\"541.5\" y=\"71.1074\">ind: Ind, Occ</text><line style=\"stroke: #383838; stroke-width: 1.5;\" x1=\"506.5\" x2=\"653.5\" y1=\"78.9375\" y2=\"78.9375\"/></a><!--MD5=[1dd1bfd58a279cf63c5f349dbc8fc6a1]\n",
       "class E11--><a href=\"psysml:a7aa12fc-e204-4f0a-90f2-9ab0101a123a\" target=\"_top\" title=\"psysml:a7aa12fc-e204-4f0a-90f2-9ab0101a123a\" xlink:actuate=\"onRequest\" xlink:href=\"psysml:a7aa12fc-e204-4f0a-90f2-9ab0101a123a\" xlink:show=\"new\" xlink:title=\"psysml:a7aa12fc-e204-4f0a-90f2-9ab0101a123a\" xlink:type=\"simple\"><rect fill=\"#FFFFFF\" height=\"45.9375\" id=\"E11\" rx=\"10\" ry=\"10\" style=\"stroke: #383838; stroke-width: 1.5;\" width=\"150\" x=\"561\" y=\"162\"/><text fill=\"#000000\" font-family=\"sans-serif\" font-size=\"12\" font-style=\"italic\" lengthAdjust=\"spacingAndGlyphs\" textLength=\"148\" x=\"562\" y=\"178.1387\">«snapshot occurrence»</text><text fill=\"#000000\" font-family=\"sans-serif\" font-size=\"12\" lengthAdjust=\"spacingAndGlyphs\" textLength=\"15\" x=\"628.5\" y=\"192.1074\">s3</text><line style=\"stroke: #383838; stroke-width: 1.5;\" x1=\"562\" x2=\"710\" y1=\"199.9375\" y2=\"199.9375\"/></a><!--MD5=[49a0ec8f00dab7302a31f22d0f0fe584]\n",
       "class E12--><a href=\"psysml:5052c3e9-886b-4521-8bf3-18ad9cb470c5\" target=\"_top\" title=\"psysml:5052c3e9-886b-4521-8bf3-18ad9cb470c5\" xlink:actuate=\"onRequest\" xlink:href=\"psysml:5052c3e9-886b-4521-8bf3-18ad9cb470c5\" xlink:show=\"new\" xlink:title=\"psysml:5052c3e9-886b-4521-8bf3-18ad9cb470c5\" xlink:type=\"simple\"><rect fill=\"#FFFFFF\" height=\"45.9375\" id=\"E12\" rx=\"10\" ry=\"10\" style=\"stroke: #383838; stroke-width: 1.5;\" width=\"208\" x=\"746\" y=\"162\"/><text fill=\"#000000\" font-family=\"sans-serif\" font-size=\"12\" font-style=\"italic\" lengthAdjust=\"spacingAndGlyphs\" textLength=\"206\" x=\"747\" y=\"178.1387\">«individual timeslice occurrence»</text><text fill=\"#000000\" font-family=\"sans-serif\" font-size=\"12\" lengthAdjust=\"spacingAndGlyphs\" textLength=\"13\" x=\"843.5\" y=\"192.1074\">t3</text><line style=\"stroke: #383838; stroke-width: 1.5;\" x1=\"747\" x2=\"953\" y1=\"199.9375\" y2=\"199.9375\"/></a><!--MD5=[ee3c913d1a06f366521f9ef512b67efe]\n",
       "class E13--><a href=\"psysml:e6d8c0e1-46dd-40c0-98f9-8ea23118f8bb\" target=\"_top\" title=\"psysml:e6d8c0e1-46dd-40c0-98f9-8ea23118f8bb\" xlink:actuate=\"onRequest\" xlink:href=\"psysml:e6d8c0e1-46dd-40c0-98f9-8ea23118f8bb\" xlink:show=\"new\" xlink:title=\"psysml:e6d8c0e1-46dd-40c0-98f9-8ea23118f8bb\" xlink:type=\"simple\"><rect fill=\"#FFFFFF\" height=\"45.9375\" id=\"E13\" rx=\"10\" ry=\"10\" style=\"stroke: #383838; stroke-width: 1.5;\" width=\"212\" x=\"32\" y=\"283\"/><text fill=\"#000000\" font-family=\"sans-serif\" font-size=\"12\" font-style=\"italic\" lengthAdjust=\"spacingAndGlyphs\" textLength=\"210\" x=\"33\" y=\"299.1387\">«individual snapshot occurrence»</text><text fill=\"#000000\" font-family=\"sans-serif\" font-size=\"12\" lengthAdjust=\"spacingAndGlyphs\" textLength=\"42\" x=\"117\" y=\"313.1074\">s4: Ind</text><line style=\"stroke: #383838; stroke-width: 1.5;\" x1=\"33\" x2=\"243\" y1=\"320.9375\" y2=\"320.9375\"/></a><!--MD5=[209b3feb70ccb6233bfe1053d122c12c]\n",
       "reverse link E2 to E3--><a href=\"psysml:816d5179-2674-4631-83bc-f7d71b4237a7\" target=\"_top\" title=\"psysml:816d5179-2674-4631-83bc-f7d71b4237a7\" xlink:actuate=\"onRequest\" xlink:href=\"psysml:816d5179-2674-4631-83bc-f7d71b4237a7\" xlink:show=\"new\" xlink:title=\"psysml:816d5179-2674-4631-83bc-f7d71b4237a7\" xlink:type=\"simple\"><path d=\"M377.59,232.45 C360.78,249.83 344.04,268.76 333.23,282.93 \" fill=\"none\" id=\"E2&lt;-E3\" style=\"stroke: #383838; stroke-width: 1.0;\"/><polygon fill=\"#FFFFFF\" points=\"386.9,223,379.8401,224.4691,378.4809,231.5509,385.5407,230.0818,386.9,223\" style=\"stroke: #383838; stroke-width: 1.0;\"/></a><!--MD5=[05d275557350bfb9b23a4ef7222b4c39]\n",
       "link E3 to E2--><a href=\"psysml:eb3070f5-b0ea-4331-ac23-68f76765f53a\" target=\"_top\" title=\"psysml:eb3070f5-b0ea-4331-ac23-68f76765f53a\" xlink:actuate=\"onRequest\" xlink:href=\"psysml:eb3070f5-b0ea-4331-ac23-68f76765f53a\" xlink:show=\"new\" xlink:title=\"psysml:eb3070f5-b0ea-4331-ac23-68f76765f53a\" xlink:type=\"simple\"><path d=\"M354.17,282.93 C367.96,270.34 383.96,253.98 398.07,238.29 \" fill=\"none\" id=\"E3-&gt;E2\" style=\"stroke: #383838; stroke-width: 1.0;\"/><polygon fill=\"#FFFFFF\" points=\"411.4,223,404.1971,241.924,393.6412,232.7276,411.4,223\" style=\"stroke: #383838; stroke-width: 1.0;\"/><ellipse cx=\"398.9449\" cy=\"244.908\" fill=\"#383838\" rx=\"2\" ry=\"2\" style=\"stroke: #383838; stroke-width: 1.0;\"/><ellipse cx=\"391.405\" cy=\"238.3391\" fill=\"#383838\" rx=\"2\" ry=\"2\" style=\"stroke: #383838; stroke-width: 1.0;\"/></a><!--MD5=[9618e71518536f8baf3342ff6fdab317]\n",
       "reverse link E2 to E4--><a href=\"psysml:0447f336-2e88-4877-9a74-bac22478a75a\" target=\"_top\" title=\"psysml:0447f336-2e88-4877-9a74-bac22478a75a\" xlink:actuate=\"onRequest\" xlink:href=\"psysml:0447f336-2e88-4877-9a74-bac22478a75a\" xlink:show=\"new\" xlink:title=\"psysml:0447f336-2e88-4877-9a74-bac22478a75a\" xlink:type=\"simple\"><path d=\"M425.46,236.34 C426.62,252.61 429.17,269.81 432.6,282.93 \" fill=\"none\" id=\"E2&lt;-E4\" style=\"stroke: #383838; stroke-width: 1.0;\"/><polygon fill=\"#383838\" points=\"424.83,223,421.118,229.1823,425.397,234.9866,429.109,228.8043,424.83,223\" style=\"stroke: #383838; stroke-width: 1.0;\"/></a><!--MD5=[185131fc0dcab0a4505a2ebe144e961b]\n",
       "link E4 to E2--><a href=\"psysml:bbe7f0c0-75f0-4d42-b38b-c0f55f25890a\" target=\"_top\" title=\"psysml:bbe7f0c0-75f0-4d42-b38b-c0f55f25890a\" xlink:actuate=\"onRequest\" xlink:href=\"psysml:bbe7f0c0-75f0-4d42-b38b-c0f55f25890a\" xlink:show=\"new\" xlink:title=\"psysml:bbe7f0c0-75f0-4d42-b38b-c0f55f25890a\" xlink:type=\"simple\"><path d=\"M453.54,282.93 C454.33,271.65 453.8,257.34 452.26,243.21 \" fill=\"none\" id=\"E4-&gt;E2\" style=\"stroke: #383838; stroke-width: 1.0;\"/><polygon fill=\"#FFFFFF\" points=\"449.33,223,458.9844,240.7987,445.1294,242.8079,449.33,223\" style=\"stroke: #383838; stroke-width: 1.0;\"/><ellipse cx=\"457.8232\" cy=\"246.7267\" fill=\"#383838\" rx=\"2\" ry=\"2\" style=\"stroke: #383838; stroke-width: 1.0;\"/><ellipse cx=\"447.9267\" cy=\"248.1619\" fill=\"#383838\" rx=\"2\" ry=\"2\" style=\"stroke: #383838; stroke-width: 1.0;\"/></a><!--MD5=[4e1a83fab71cdb913c109063314ae896]\n",
       "reverse link E2 to E5--><a href=\"psysml:5c44c5f5-a434-4c27-9e5d-4b118f9f4fa1\" target=\"_top\" title=\"psysml:5c44c5f5-a434-4c27-9e5d-4b118f9f4fa1\" xlink:actuate=\"onRequest\" xlink:href=\"psysml:5c44c5f5-a434-4c27-9e5d-4b118f9f4fa1\" xlink:show=\"new\" xlink:title=\"psysml:5c44c5f5-a434-4c27-9e5d-4b118f9f4fa1\" xlink:type=\"simple\"><path d=\"M499.94,226.44 C531.22,245.33 567.25,267.1 593.44,282.92 \" fill=\"none\" id=\"E2&lt;-E5\" style=\"stroke: #383838; stroke-width: 1.0;\"/><polygon fill=\"#383838\" points=\"488.66,219.62,491.731,226.1445,498.9348,225.8191,495.8638,219.2947,488.66,219.62\" style=\"stroke: #383838; stroke-width: 1.0;\"/></a><!--MD5=[ce036f65110ae2351ccce5a81dc2e928]\n",
       "reverse link E2 to E6--><a href=\"psysml:f84da050-0b5f-49f5-998e-9b704fc66ebc\" target=\"_top\" title=\"psysml:f84da050-0b5f-49f5-998e-9b704fc66ebc\" xlink:actuate=\"onRequest\" xlink:href=\"psysml:f84da050-0b5f-49f5-998e-9b704fc66ebc\" xlink:show=\"new\" xlink:title=\"psysml:f84da050-0b5f-49f5-998e-9b704fc66ebc\" xlink:type=\"simple\"><path d=\"M501.1,217.48 C506.1,219.45 511.11,221.31 516,223 C528.17,227.2 677.81,264.18 770.71,287.02 \" fill=\"none\" id=\"E2&lt;-E6\" style=\"stroke: #383838; stroke-width: 1.0;\"/><polygon fill=\"#383838\" points=\"488.72,212.43,492.764,218.4004,499.8305,216.9638,495.7866,210.9934,488.72,212.43\" style=\"stroke: #383838; stroke-width: 1.0;\"/><text fill=\"#000000\" font-family=\"sans-serif\" font-size=\"13\" lengthAdjust=\"spacingAndGlyphs\" textLength=\"7\" x=\"755.791\" y=\"281.3662\">*</text></a><!--MD5=[3a9b96bfbf6b6ad89c494e81751bda47]\n",
       "link E5 to E7--><a href=\"psysml:5222325c-bb46-4e39-81f0-12dbae43365a\" target=\"_top\" title=\"psysml:5222325c-bb46-4e39-81f0-12dbae43365a\" xlink:actuate=\"onRequest\" xlink:href=\"psysml:5222325c-bb46-4e39-81f0-12dbae43365a\" xlink:show=\"new\" xlink:title=\"psysml:5222325c-bb46-4e39-81f0-12dbae43365a\" xlink:type=\"simple\"><path d=\"M630,329.06 C630,340.64 630,355.23 630,368.87 \" fill=\"none\" id=\"E5-&gt;E7\" style=\"stroke: #383838; stroke-width: 1.0;\"/><polygon fill=\"#FFFFFF\" points=\"630,388.98,623,369.98,637,369.98,630,388.98\" style=\"stroke: #383838; stroke-width: 1.0;\"/><ellipse cx=\"625\" cy=\"364.28\" fill=\"#383838\" rx=\"2\" ry=\"2\" style=\"stroke: #383838; stroke-width: 1.0;\"/><ellipse cx=\"635\" cy=\"364.28\" fill=\"#383838\" rx=\"2\" ry=\"2\" style=\"stroke: #383838; stroke-width: 1.0;\"/></a><!--MD5=[dc164f5e8a733ab456ef1add180e9e34]\n",
       "reverse link E7 to E8--><a href=\"psysml:62bbb331-bb03-464e-9e32-68694608bffc\" target=\"_top\" title=\"psysml:62bbb331-bb03-464e-9e32-68694608bffc\" xlink:actuate=\"onRequest\" xlink:href=\"psysml:62bbb331-bb03-464e-9e32-68694608bffc\" xlink:show=\"new\" xlink:title=\"psysml:62bbb331-bb03-464e-9e32-68694608bffc\" xlink:type=\"simple\"><path d=\"M601.55,445.16 C587.25,461.33 570.28,480.51 557.48,494.98 \" fill=\"none\" id=\"E7&lt;-E8\" style=\"stroke: #383838; stroke-width: 1.0;\"/><polygon fill=\"#383838\" points=\"610.49,435.06,603.5177,436.9004,602.5348,444.0442,609.5071,442.2038,610.49,435.06\" style=\"stroke: #383838; stroke-width: 1.0;\"/><text fill=\"#000000\" font-family=\"sans-serif\" font-size=\"13\" lengthAdjust=\"spacingAndGlyphs\" textLength=\"7\" x=\"554.7746\" y=\"483.8709\">*</text></a><!--MD5=[e4a10ef82d0e328e31cac39a31e58dda]\n",
       "reverse link E7 to E9--><a href=\"psysml:6940b1aa-8c0f-4381-86aa-7b3e10e8c0d6\" target=\"_top\" title=\"psysml:6940b1aa-8c0f-4381-86aa-7b3e10e8c0d6\" xlink:actuate=\"onRequest\" xlink:href=\"psysml:6940b1aa-8c0f-4381-86aa-7b3e10e8c0d6\" xlink:show=\"new\" xlink:title=\"psysml:6940b1aa-8c0f-4381-86aa-7b3e10e8c0d6\" xlink:type=\"simple\"><path d=\"M658.14,445.16 C672.29,461.33 689.07,480.51 701.73,494.98 \" fill=\"none\" id=\"E7&lt;-E9\" style=\"stroke: #383838; stroke-width: 1.0;\"/><polygon fill=\"#383838\" points=\"649.3,435.06,650.2496,442.2083,657.2133,444.0811,656.2637,436.9328,649.3,435.06\" style=\"stroke: #383838; stroke-width: 1.0;\"/><text fill=\"#000000\" font-family=\"sans-serif\" font-size=\"13\" lengthAdjust=\"spacingAndGlyphs\" textLength=\"7\" x=\"688.6106\" y=\"483.8709\">*</text></a><!--MD5=[a919e0967d6f3de553dc51b9865a1d6d]\n",
       "link E10 to E7--><a href=\"psysml:2d47db94-d209-4d22-9eae-73bfc16721f5\" target=\"_top\" title=\"psysml:2d47db94-d209-4d22-9eae-73bfc16721f5\" xlink:actuate=\"onRequest\" xlink:href=\"psysml:2d47db94-d209-4d22-9eae-73bfc16721f5\" xlink:show=\"new\" xlink:title=\"psysml:2d47db94-d209-4d22-9eae-73bfc16721f5\" xlink:type=\"simple\"><path d=\"M564.36,87.23 C542.92,120.68 510.65,184.15 544,223 C658.5,356.41 820.5,149.59 935,283 C997.65,355.99 847.73,388.27 736.59,401.86 \" fill=\"none\" id=\"E10-&gt;E7\" style=\"stroke: #383838; stroke-width: 1.0;\"/><polygon fill=\"#FFFFFF\" points=\"716.7,404.14,734.7756,395.0147,736.3754,408.923,716.7,404.14\" style=\"stroke: #383838; stroke-width: 1.0;\"/><ellipse cx=\"740.6668\" cy=\"396.3502\" fill=\"#383838\" rx=\"2\" ry=\"2\" style=\"stroke: #383838; stroke-width: 1.0;\"/><ellipse cx=\"741.8096\" cy=\"406.2847\" fill=\"#383838\" rx=\"2\" ry=\"2\" style=\"stroke: #383838; stroke-width: 1.0;\"/></a><!--MD5=[0f36bececdf0dff6e600d6f64214b0f1]\n",
       "link E10 to E2--><a href=\"psysml:6622b004-fc37-43f3-bc42-fdfacc696359\" target=\"_top\" title=\"psysml:6622b004-fc37-43f3-bc42-fdfacc696359\" xlink:actuate=\"onRequest\" xlink:href=\"psysml:6622b004-fc37-43f3-bc42-fdfacc696359\" xlink:show=\"new\" xlink:title=\"psysml:6622b004-fc37-43f3-bc42-fdfacc696359\" xlink:type=\"simple\"><path d=\"M552.69,87.1 C536.38,100.31 514.96,117.65 494.76,134.01 \" fill=\"none\" id=\"E10-&gt;E2\" style=\"stroke: #383838; stroke-width: 1.0;\"/><polygon fill=\"#FFFFFF\" points=\"478.94,146.81,489.301,129.4131,498.1112,140.2934,478.94,146.81\" style=\"stroke: #383838; stroke-width: 1.0;\"/><ellipse cx=\"494.9894\" cy=\"127.3805\" fill=\"#383838\" rx=\"2\" ry=\"2\" style=\"stroke: #383838; stroke-width: 1.0;\"/><ellipse cx=\"501.2824\" cy=\"135.1521\" fill=\"#383838\" rx=\"2\" ry=\"2\" style=\"stroke: #383838; stroke-width: 1.0;\"/></a><!--MD5=[de308be4a2431766a05a907a031c07fc]\n",
       "reverse link E10 to E11--><a href=\"psysml:973d09ca-2c85-400b-8a26-6e03e711a9dc\" target=\"_top\" title=\"psysml:973d09ca-2c85-400b-8a26-6e03e711a9dc\" xlink:actuate=\"onRequest\" xlink:href=\"psysml:973d09ca-2c85-400b-8a26-6e03e711a9dc\" xlink:show=\"new\" xlink:title=\"psysml:973d09ca-2c85-400b-8a26-6e03e711a9dc\" xlink:type=\"simple\"><path d=\"M595.95,98.9 C605.42,119.01 617.15,143.94 625.46,161.61 \" fill=\"none\" id=\"E10&lt;-E11\" style=\"stroke: #383838; stroke-width: 1.0;\"/><polygon fill=\"#383838\" points=\"590.4,87.1,589.3334,94.2318,595.5064,97.9593,596.573,90.8275,590.4,87.1\" style=\"stroke: #383838; stroke-width: 1.0;\"/></a><!--MD5=[1d54f998c6d5961a1a9184be73a7eb6c]\n",
       "reverse link E10 to E12--><a href=\"psysml:4b2dc275-57bf-47aa-bec9-3fe53972a958\" target=\"_top\" title=\"psysml:4b2dc275-57bf-47aa-bec9-3fe53972a958\" xlink:actuate=\"onRequest\" xlink:href=\"psysml:4b2dc275-57bf-47aa-bec9-3fe53972a958\" xlink:show=\"new\" xlink:title=\"psysml:4b2dc275-57bf-47aa-bec9-3fe53972a958\" xlink:type=\"simple\"><path d=\"M642.21,92.42 C689.99,113.48 755.13,142.19 799.66,161.81 \" fill=\"none\" id=\"E10&lt;-E12\" style=\"stroke: #383838; stroke-width: 1.0;\"/><polygon fill=\"#383838\" points=\"630.15,87.1,634.028,93.1796,641.1314,91.9382,637.2534,85.8586,630.15,87.1\" style=\"stroke: #383838; stroke-width: 1.0;\"/></a><!--MD5=[4a48077df6499cfcd20b62e8f5f37904]\n",
       "link E13 to E7--><a href=\"psysml:99db2ce7-7db4-4747-aea3-ba596a45b862\" target=\"_top\" title=\"psysml:99db2ce7-7db4-4747-aea3-ba596a45b862\" xlink:actuate=\"onRequest\" xlink:href=\"psysml:99db2ce7-7db4-4747-aea3-ba596a45b862\" xlink:show=\"new\" xlink:title=\"psysml:99db2ce7-7db4-4747-aea3-ba596a45b862\" xlink:type=\"simple\"><path d=\"M242.34,329.06 C325.16,346.56 440.49,370.94 523.8,388.55 \" fill=\"none\" id=\"E13-&gt;E7\" style=\"stroke: #383838; stroke-width: 1.0;\"/><polygon fill=\"#FFFFFF\" points=\"543.45,392.7,523.4123,395.6135,526.3115,381.917,543.45,392.7\" style=\"stroke: #383838; stroke-width: 1.0;\"/><ellipse cx=\"518.25\" cy=\"392.4765\" fill=\"#383838\" rx=\"2\" ry=\"2\" style=\"stroke: #383838; stroke-width: 1.0;\"/><ellipse cx=\"520.3209\" cy=\"382.6933\" fill=\"#383838\" rx=\"2\" ry=\"2\" style=\"stroke: #383838; stroke-width: 1.0;\"/></a><!--MD5=[acfbe98fe1036df1b80690eb853a1706]\n",
       "@startuml\r\n",
       "skinparam monochrome true\r\n",
       "skinparam classbackgroundcolor white\r\n",
       "skinparam shadowing false\r\n",
       "skinparam wrapWidth 300\r\n",
       "hide circle\r\n",
       "\r\n",
       "package \"OccurrenceTest\" as E1  [[psysml:e6ab502d-dafd-416a-a255-3fa3ad3c263c ]]  {\r\n",
       "comp def \"Occ\" as E2  <<(T,blue) occurrence def>> [[psysml:1203d309-d98c-452c-84ab-9db93e8b8d83 ]] {\r\n",
       "- - attributes - -\r\n",
       "a\r\n",
       "}\r\n",
       "comp usage \"occ1: Occ\" as E3  <<(T,blue) occurrence>> [[psysml:158a345e-3640-4aa1-8638-58b6699698f0 ]] {\r\n",
       "}\r\n",
       "comp usage \"occ2: Occ\" as E4  <<(T,blue) occurrence>> [[psysml:5ccc27c3-07b1-4713-880e-82008912fb62 ]] {\r\n",
       "}\r\n",
       "comp usage \"s: Ind\" as E5  <<(T,blue) individual snapshot occurrence>> [[psysml:b931cfcd-d1f5-4c70-b44c-3b4fd21c9018 ]] {\r\n",
       "}\r\n",
       "comp usage \"t\" as E6  <<(T,blue) timeslice occurrence>> [[psysml:a76dffb5-cb4a-4142-b15c-9dbeb6bd2474 ]] {\r\n",
       "}\r\n",
       "comp def \"Ind\" as E7  <<(T,blue) individual occurrence def>> [[psysml:cddcce1d-840d-4259-9672-1cad32ef9616 ]] {\r\n",
       "}\r\n",
       "comp usage \"s2\" as E8  <<(T,blue) snapshot occurrence>> [[psysml:760118bf-f26e-45fa-9528-0dbdf12ed33d ]] {\r\n",
       "}\r\n",
       "comp usage \"t2\" as E9  <<(T,blue) timeslice occurrence>> [[psysml:6916c4a6-d3e9-4718-9bd3-b4da3843528f ]] {\r\n",
       "}\r\n",
       "comp usage \"ind: Ind, Occ\" as E10  <<(T,blue) individual occurrence>> [[psysml:ca3e4eae-d888-4010-bdf5-da81d89d1eab ]] {\r\n",
       "}\r\n",
       "comp usage \"s3\" as E11  <<(T,blue) snapshot occurrence>> [[psysml:a7aa12fc-e204-4f0a-90f2-9ab0101a123a ]] {\r\n",
       "}\r\n",
       "comp usage \"t3\" as E12  <<(T,blue) individual timeslice occurrence>> [[psysml:5052c3e9-886b-4521-8bf3-18ad9cb470c5 ]] {\r\n",
       "}\r\n",
       "comp usage \"s4: Ind\" as E13  <<(T,blue) individual snapshot occurrence>> [[psysml:e6d8c0e1-46dd-40c0-98f9-8ea23118f8bb ]] {\r\n",
       "}\r\n",
       "}\r\n",
       "E2 o- - E3 [[psysml:816d5179-2674-4631-83bc-f7d71b4237a7 ]] \r\n",
       "E3 - -:|> E2 [[psysml:eb3070f5-b0ea-4331-ac23-68f76765f53a ]] \r\n",
       "E2 *- - E4 [[psysml:0447f336-2e88-4877-9a74-bac22478a75a ]] \r\n",
       "E4 - -:|> E2 [[psysml:bbe7f0c0-75f0-4d42-b38b-c0f55f25890a ]] \r\n",
       "E2 *- - E5 [[psysml:5c44c5f5-a434-4c27-9e5d-4b118f9f4fa1 ]] \r\n",
       "E2 *- - \"*\"E6 [[psysml:f84da050-0b5f-49f5-998e-9b704fc66ebc ]] \r\n",
       "E5 - -:|> E7 [[psysml:5222325c-bb46-4e39-81f0-12dbae43365a ]] \r\n",
       "E7 *- - \"*\"E8 [[psysml:62bbb331-bb03-464e-9e32-68694608bffc ]] \r\n",
       "E7 *- - \"*\"E9 [[psysml:6940b1aa-8c0f-4381-86aa-7b3e10e8c0d6 ]] \r\n",
       "E10 - -:|> E7 [[psysml:2d47db94-d209-4d22-9eae-73bfc16721f5 ]] \r\n",
       "E10 - -:|> E2 [[psysml:6622b004-fc37-43f3-bc42-fdfacc696359 ]] \r\n",
       "E10 *- - E11 [[psysml:973d09ca-2c85-400b-8a26-6e03e711a9dc ]] \r\n",
       "E10 *- - E12 [[psysml:4b2dc275-57bf-47aa-bec9-3fe53972a958 ]] \r\n",
       "E13 - -:|> E7 [[psysml:99db2ce7-7db4-4747-aea3-ba596a45b862 ]] \r\n",
       "@enduml\r\n",
       "\n",
       "PlantUML version 1.2020.13(Sat Jun 13 12:26:38 UTC 2020)\n",
       "(EPL source distribution)\n",
       "Java Runtime: OpenJDK Runtime Environment\n",
       "JVM: OpenJDK 64-Bit Server VM\n",
       "Default Encoding: UTF-8\n",
       "Language: en\n",
       "Country: null\n",
       "--></g></svg>"
      ]
     },
     "execution_count": 37,
     "metadata": {},
     "output_type": "execute_result"
    }
   ],
   "source": [
    "%viz --style=\"DEFAULT\" --view=\"Default\" \"OccurrenceTest\""
   ]
  },
  {
   "cell_type": "code",
   "execution_count": 38,
   "id": "03ac0130",
   "metadata": {
    "execution": {
     "iopub.execute_input": "2021-10-03T08:28:45.224330Z",
     "iopub.status.busy": "2021-10-03T08:28:45.223924Z",
     "iopub.status.idle": "2021-10-03T08:28:45.276947Z",
     "shell.execute_reply": "2021-10-03T08:28:45.276595Z"
    }
   },
   "outputs": [
    {
     "data": {
      "image/svg+xml": [
       "<?xml version=\"1.0\" encoding=\"UTF-8\" standalone=\"no\"?><svg xmlns=\"http://www.w3.org/2000/svg\" xmlns:xlink=\"http://www.w3.org/1999/xlink\" contentScriptType=\"application/ecmascript\" contentStyleType=\"text/css\" height=\"569px\" preserveAspectRatio=\"none\" style=\"width:1009px;height:569px;\" version=\"1.1\" viewBox=\"0 0 1009 569\" width=\"1009px\" zoomAndPan=\"magnify\"><defs/><g><!--MD5=[fbc87193dbaf4d95561dea2c320d4a47]\n",
       "cluster E1--><a href=\"psysml:e6ab502d-dafd-416a-a255-3fa3ad3c263c\" target=\"_top\" title=\"psysml:e6ab502d-dafd-416a-a255-3fa3ad3c263c\" xlink:actuate=\"onRequest\" xlink:href=\"psysml:e6ab502d-dafd-416a-a255-3fa3ad3c263c\" xlink:show=\"new\" xlink:title=\"psysml:e6ab502d-dafd-416a-a255-3fa3ad3c263c\" xlink:type=\"simple\"><polygon fill=\"#FFFFFF\" points=\"16,6,134,6,141,28.2969,970,28.2969,970,557,16,557,16,6\" style=\"stroke: #000000; stroke-width: 1.5;\"/><line style=\"stroke: #000000; stroke-width: 1.5;\" x1=\"16\" x2=\"141\" y1=\"28.2969\" y2=\"28.2969\"/><text fill=\"#000000\" font-family=\"sans-serif\" font-size=\"14\" font-weight=\"bold\" lengthAdjust=\"spacingAndGlyphs\" textLength=\"112\" x=\"20\" y=\"20.9951\">OccurrenceTest</text></a><!--MD5=[b4997ac47864f28c2f74865a473b2911]\n",
       "class E2--><a href=\"psysml:1203d309-d98c-452c-84ab-9db93e8b8d83\" target=\"_top\" title=\"psysml:1203d309-d98c-452c-84ab-9db93e8b8d83\" xlink:actuate=\"onRequest\" xlink:href=\"psysml:1203d309-d98c-452c-84ab-9db93e8b8d83\" xlink:show=\"new\" xlink:title=\"psysml:1203d309-d98c-452c-84ab-9db93e8b8d83\" xlink:type=\"simple\"><rect fill=\"#FFFFFF\" height=\"75.5469\" id=\"E2\" style=\"stroke: #383838; stroke-width: 1.5;\" width=\"111\" x=\"377.5\" y=\"147\"/><text fill=\"#000000\" font-family=\"sans-serif\" font-size=\"12\" font-style=\"italic\" lengthAdjust=\"spacingAndGlyphs\" textLength=\"109\" x=\"378.5\" y=\"163.1387\">«occurrence def»</text><text fill=\"#000000\" font-family=\"sans-serif\" font-size=\"12\" lengthAdjust=\"spacingAndGlyphs\" textLength=\"23\" x=\"421.5\" y=\"177.1074\">Occ</text><line style=\"stroke: #383838; stroke-width: 1.5;\" x1=\"378.5\" x2=\"487.5\" y1=\"184.9375\" y2=\"184.9375\"/><text fill=\"#000000\" font-family=\"sans-serif\" font-size=\"11\" lengthAdjust=\"spacingAndGlyphs\" textLength=\"7\" x=\"383.5\" y=\"215.9526\">a</text><line style=\"stroke: #383838; stroke-width: 1.0;\" x1=\"378.5\" x2=\"405.5\" y1=\"199.3398\" y2=\"199.3398\"/><text fill=\"#000000\" font-family=\"sans-serif\" font-size=\"11\" lengthAdjust=\"spacingAndGlyphs\" textLength=\"55\" x=\"405.5\" y=\"202.6479\">attributes</text><line style=\"stroke: #383838; stroke-width: 1.0;\" x1=\"460.5\" x2=\"487.5\" y1=\"199.3398\" y2=\"199.3398\"/></a><!--MD5=[09b614a08d8cba4a07c9adeb5e0fee81]\n",
       "class E3--><a href=\"psysml:158a345e-3640-4aa1-8638-58b6699698f0\" target=\"_top\" title=\"psysml:158a345e-3640-4aa1-8638-58b6699698f0\" xlink:actuate=\"onRequest\" xlink:href=\"psysml:158a345e-3640-4aa1-8638-58b6699698f0\" xlink:show=\"new\" xlink:title=\"psysml:158a345e-3640-4aa1-8638-58b6699698f0\" xlink:type=\"simple\"><rect fill=\"#FFFFFF\" height=\"45.9375\" id=\"E3\" rx=\"10\" ry=\"10\" style=\"stroke: #383838; stroke-width: 1.5;\" width=\"87\" x=\"279.5\" y=\"283\"/><text fill=\"#000000\" font-family=\"sans-serif\" font-size=\"12\" font-style=\"italic\" lengthAdjust=\"spacingAndGlyphs\" textLength=\"85\" x=\"280.5\" y=\"299.1387\">«occurrence»</text><text fill=\"#000000\" font-family=\"sans-serif\" font-size=\"12\" lengthAdjust=\"spacingAndGlyphs\" textLength=\"61\" x=\"292.5\" y=\"313.1074\">occ1: Occ</text><line style=\"stroke: #383838; stroke-width: 1.5;\" x1=\"280.5\" x2=\"365.5\" y1=\"320.9375\" y2=\"320.9375\"/></a><!--MD5=[ebbe1d658d1005bcc118a6aa81145e00]\n",
       "class E4--><a href=\"psysml:5ccc27c3-07b1-4713-880e-82008912fb62\" target=\"_top\" title=\"psysml:5ccc27c3-07b1-4713-880e-82008912fb62\" xlink:actuate=\"onRequest\" xlink:href=\"psysml:5ccc27c3-07b1-4713-880e-82008912fb62\" xlink:show=\"new\" xlink:title=\"psysml:5ccc27c3-07b1-4713-880e-82008912fb62\" xlink:type=\"simple\"><rect fill=\"#FFFFFF\" height=\"45.9375\" id=\"E4\" rx=\"10\" ry=\"10\" style=\"stroke: #383838; stroke-width: 1.5;\" width=\"87\" x=\"401.5\" y=\"283\"/><text fill=\"#000000\" font-family=\"sans-serif\" font-size=\"12\" font-style=\"italic\" lengthAdjust=\"spacingAndGlyphs\" textLength=\"85\" x=\"402.5\" y=\"299.1387\">«occurrence»</text><text fill=\"#000000\" font-family=\"sans-serif\" font-size=\"12\" lengthAdjust=\"spacingAndGlyphs\" textLength=\"61\" x=\"414.5\" y=\"313.1074\">occ2: Occ</text><line style=\"stroke: #383838; stroke-width: 1.5;\" x1=\"402.5\" x2=\"487.5\" y1=\"320.9375\" y2=\"320.9375\"/></a><!--MD5=[270fce915f116d4de14055a7c1d9a0f3]\n",
       "class E5--><a href=\"psysml:b931cfcd-d1f5-4c70-b44c-3b4fd21c9018\" target=\"_top\" title=\"psysml:b931cfcd-d1f5-4c70-b44c-3b4fd21c9018\" xlink:actuate=\"onRequest\" xlink:href=\"psysml:b931cfcd-d1f5-4c70-b44c-3b4fd21c9018\" xlink:show=\"new\" xlink:title=\"psysml:b931cfcd-d1f5-4c70-b44c-3b4fd21c9018\" xlink:type=\"simple\"><rect fill=\"#FFFFFF\" height=\"45.9375\" id=\"E5\" rx=\"10\" ry=\"10\" style=\"stroke: #383838; stroke-width: 1.5;\" width=\"212\" x=\"524\" y=\"283\"/><text fill=\"#000000\" font-family=\"sans-serif\" font-size=\"12\" font-style=\"italic\" lengthAdjust=\"spacingAndGlyphs\" textLength=\"210\" x=\"525\" y=\"299.1387\">«individual snapshot occurrence»</text><text fill=\"#000000\" font-family=\"sans-serif\" font-size=\"12\" lengthAdjust=\"spacingAndGlyphs\" textLength=\"34\" x=\"613\" y=\"313.1074\">s: Ind</text><line style=\"stroke: #383838; stroke-width: 1.5;\" x1=\"525\" x2=\"735\" y1=\"320.9375\" y2=\"320.9375\"/></a><!--MD5=[60a26617385b1d2d0262a64233df1f8d]\n",
       "class E6--><a href=\"psysml:a76dffb5-cb4a-4142-b15c-9dbeb6bd2474\" target=\"_top\" title=\"psysml:a76dffb5-cb4a-4142-b15c-9dbeb6bd2474\" xlink:actuate=\"onRequest\" xlink:href=\"psysml:a76dffb5-cb4a-4142-b15c-9dbeb6bd2474\" xlink:show=\"new\" xlink:title=\"psysml:a76dffb5-cb4a-4142-b15c-9dbeb6bd2474\" xlink:type=\"simple\"><rect fill=\"#FFFFFF\" height=\"45.9375\" id=\"E6\" rx=\"10\" ry=\"10\" style=\"stroke: #383838; stroke-width: 1.5;\" width=\"146\" x=\"771\" y=\"283\"/><text fill=\"#000000\" font-family=\"sans-serif\" font-size=\"12\" font-style=\"italic\" lengthAdjust=\"spacingAndGlyphs\" textLength=\"144\" x=\"772\" y=\"299.1387\">«timeslice occurrence»</text><text fill=\"#000000\" font-family=\"sans-serif\" font-size=\"12\" lengthAdjust=\"spacingAndGlyphs\" textLength=\"5\" x=\"841.5\" y=\"313.1074\">t</text><line style=\"stroke: #383838; stroke-width: 1.5;\" x1=\"772\" x2=\"916\" y1=\"320.9375\" y2=\"320.9375\"/></a><!--MD5=[2156ba9850f5573cc1fc38a6a4b2f02b]\n",
       "class E7--><a href=\"psysml:cddcce1d-840d-4259-9672-1cad32ef9616\" target=\"_top\" title=\"psysml:cddcce1d-840d-4259-9672-1cad32ef9616\" xlink:actuate=\"onRequest\" xlink:href=\"psysml:cddcce1d-840d-4259-9672-1cad32ef9616\" xlink:show=\"new\" xlink:title=\"psysml:cddcce1d-840d-4259-9672-1cad32ef9616\" xlink:type=\"simple\"><rect fill=\"#FFFFFF\" height=\"45.9375\" id=\"E7\" style=\"stroke: #383838; stroke-width: 1.5;\" width=\"173\" x=\"543.5\" y=\"389\"/><text fill=\"#000000\" font-family=\"sans-serif\" font-size=\"12\" font-style=\"italic\" lengthAdjust=\"spacingAndGlyphs\" textLength=\"171\" x=\"544.5\" y=\"405.1387\">«individual occurrence def»</text><text fill=\"#000000\" font-family=\"sans-serif\" font-size=\"12\" lengthAdjust=\"spacingAndGlyphs\" textLength=\"19\" x=\"620.5\" y=\"419.1074\">Ind</text><line style=\"stroke: #383838; stroke-width: 1.5;\" x1=\"544.5\" x2=\"715.5\" y1=\"426.9375\" y2=\"426.9375\"/></a><!--MD5=[b9389687b975829384b498ac4b7476b2]\n",
       "class E8--><a href=\"psysml:760118bf-f26e-45fa-9528-0dbdf12ed33d\" target=\"_top\" title=\"psysml:760118bf-f26e-45fa-9528-0dbdf12ed33d\" xlink:actuate=\"onRequest\" xlink:href=\"psysml:760118bf-f26e-45fa-9528-0dbdf12ed33d\" xlink:show=\"new\" xlink:title=\"psysml:760118bf-f26e-45fa-9528-0dbdf12ed33d\" xlink:type=\"simple\"><rect fill=\"#FFFFFF\" height=\"45.9375\" id=\"E8\" rx=\"10\" ry=\"10\" style=\"stroke: #383838; stroke-width: 1.5;\" width=\"150\" x=\"463\" y=\"495\"/><text fill=\"#000000\" font-family=\"sans-serif\" font-size=\"12\" font-style=\"italic\" lengthAdjust=\"spacingAndGlyphs\" textLength=\"148\" x=\"464\" y=\"511.1387\">«snapshot occurrence»</text><text fill=\"#000000\" font-family=\"sans-serif\" font-size=\"12\" lengthAdjust=\"spacingAndGlyphs\" textLength=\"15\" x=\"530.5\" y=\"525.1074\">s2</text><line style=\"stroke: #383838; stroke-width: 1.5;\" x1=\"464\" x2=\"612\" y1=\"532.9375\" y2=\"532.9375\"/></a><!--MD5=[fd4143e9d270a159db93a4ea2a975926]\n",
       "class E9--><a href=\"psysml:6916c4a6-d3e9-4718-9bd3-b4da3843528f\" target=\"_top\" title=\"psysml:6916c4a6-d3e9-4718-9bd3-b4da3843528f\" xlink:actuate=\"onRequest\" xlink:href=\"psysml:6916c4a6-d3e9-4718-9bd3-b4da3843528f\" xlink:show=\"new\" xlink:title=\"psysml:6916c4a6-d3e9-4718-9bd3-b4da3843528f\" xlink:type=\"simple\"><rect fill=\"#FFFFFF\" height=\"45.9375\" id=\"E9\" rx=\"10\" ry=\"10\" style=\"stroke: #383838; stroke-width: 1.5;\" width=\"146\" x=\"648\" y=\"495\"/><text fill=\"#000000\" font-family=\"sans-serif\" font-size=\"12\" font-style=\"italic\" lengthAdjust=\"spacingAndGlyphs\" textLength=\"144\" x=\"649\" y=\"511.1387\">«timeslice occurrence»</text><text fill=\"#000000\" font-family=\"sans-serif\" font-size=\"12\" lengthAdjust=\"spacingAndGlyphs\" textLength=\"13\" x=\"714.5\" y=\"525.1074\">t2</text><line style=\"stroke: #383838; stroke-width: 1.5;\" x1=\"649\" x2=\"793\" y1=\"532.9375\" y2=\"532.9375\"/></a><!--MD5=[96f4274e9e20536e775497830990834d]\n",
       "class E10--><a href=\"psysml:ca3e4eae-d888-4010-bdf5-da81d89d1eab\" target=\"_top\" title=\"psysml:ca3e4eae-d888-4010-bdf5-da81d89d1eab\" xlink:actuate=\"onRequest\" xlink:href=\"psysml:ca3e4eae-d888-4010-bdf5-da81d89d1eab\" xlink:show=\"new\" xlink:title=\"psysml:ca3e4eae-d888-4010-bdf5-da81d89d1eab\" xlink:type=\"simple\"><rect fill=\"#FFFFFF\" height=\"45.9375\" id=\"E10\" rx=\"10\" ry=\"10\" style=\"stroke: #383838; stroke-width: 1.5;\" width=\"149\" x=\"505.5\" y=\"41\"/><text fill=\"#000000\" font-family=\"sans-serif\" font-size=\"12\" font-style=\"italic\" lengthAdjust=\"spacingAndGlyphs\" textLength=\"147\" x=\"506.5\" y=\"57.1387\">«individual occurrence»</text><text fill=\"#000000\" font-family=\"sans-serif\" font-size=\"12\" lengthAdjust=\"spacingAndGlyphs\" textLength=\"77\" x=\"541.5\" y=\"71.1074\">ind: Ind, Occ</text><line style=\"stroke: #383838; stroke-width: 1.5;\" x1=\"506.5\" x2=\"653.5\" y1=\"78.9375\" y2=\"78.9375\"/></a><!--MD5=[1dd1bfd58a279cf63c5f349dbc8fc6a1]\n",
       "class E11--><a href=\"psysml:a7aa12fc-e204-4f0a-90f2-9ab0101a123a\" target=\"_top\" title=\"psysml:a7aa12fc-e204-4f0a-90f2-9ab0101a123a\" xlink:actuate=\"onRequest\" xlink:href=\"psysml:a7aa12fc-e204-4f0a-90f2-9ab0101a123a\" xlink:show=\"new\" xlink:title=\"psysml:a7aa12fc-e204-4f0a-90f2-9ab0101a123a\" xlink:type=\"simple\"><rect fill=\"#FFFFFF\" height=\"45.9375\" id=\"E11\" rx=\"10\" ry=\"10\" style=\"stroke: #383838; stroke-width: 1.5;\" width=\"150\" x=\"561\" y=\"162\"/><text fill=\"#000000\" font-family=\"sans-serif\" font-size=\"12\" font-style=\"italic\" lengthAdjust=\"spacingAndGlyphs\" textLength=\"148\" x=\"562\" y=\"178.1387\">«snapshot occurrence»</text><text fill=\"#000000\" font-family=\"sans-serif\" font-size=\"12\" lengthAdjust=\"spacingAndGlyphs\" textLength=\"15\" x=\"628.5\" y=\"192.1074\">s3</text><line style=\"stroke: #383838; stroke-width: 1.5;\" x1=\"562\" x2=\"710\" y1=\"199.9375\" y2=\"199.9375\"/></a><!--MD5=[49a0ec8f00dab7302a31f22d0f0fe584]\n",
       "class E12--><a href=\"psysml:5052c3e9-886b-4521-8bf3-18ad9cb470c5\" target=\"_top\" title=\"psysml:5052c3e9-886b-4521-8bf3-18ad9cb470c5\" xlink:actuate=\"onRequest\" xlink:href=\"psysml:5052c3e9-886b-4521-8bf3-18ad9cb470c5\" xlink:show=\"new\" xlink:title=\"psysml:5052c3e9-886b-4521-8bf3-18ad9cb470c5\" xlink:type=\"simple\"><rect fill=\"#FFFFFF\" height=\"45.9375\" id=\"E12\" rx=\"10\" ry=\"10\" style=\"stroke: #383838; stroke-width: 1.5;\" width=\"208\" x=\"746\" y=\"162\"/><text fill=\"#000000\" font-family=\"sans-serif\" font-size=\"12\" font-style=\"italic\" lengthAdjust=\"spacingAndGlyphs\" textLength=\"206\" x=\"747\" y=\"178.1387\">«individual timeslice occurrence»</text><text fill=\"#000000\" font-family=\"sans-serif\" font-size=\"12\" lengthAdjust=\"spacingAndGlyphs\" textLength=\"13\" x=\"843.5\" y=\"192.1074\">t3</text><line style=\"stroke: #383838; stroke-width: 1.5;\" x1=\"747\" x2=\"953\" y1=\"199.9375\" y2=\"199.9375\"/></a><!--MD5=[ee3c913d1a06f366521f9ef512b67efe]\n",
       "class E13--><a href=\"psysml:e6d8c0e1-46dd-40c0-98f9-8ea23118f8bb\" target=\"_top\" title=\"psysml:e6d8c0e1-46dd-40c0-98f9-8ea23118f8bb\" xlink:actuate=\"onRequest\" xlink:href=\"psysml:e6d8c0e1-46dd-40c0-98f9-8ea23118f8bb\" xlink:show=\"new\" xlink:title=\"psysml:e6d8c0e1-46dd-40c0-98f9-8ea23118f8bb\" xlink:type=\"simple\"><rect fill=\"#FFFFFF\" height=\"45.9375\" id=\"E13\" rx=\"10\" ry=\"10\" style=\"stroke: #383838; stroke-width: 1.5;\" width=\"212\" x=\"32\" y=\"283\"/><text fill=\"#000000\" font-family=\"sans-serif\" font-size=\"12\" font-style=\"italic\" lengthAdjust=\"spacingAndGlyphs\" textLength=\"210\" x=\"33\" y=\"299.1387\">«individual snapshot occurrence»</text><text fill=\"#000000\" font-family=\"sans-serif\" font-size=\"12\" lengthAdjust=\"spacingAndGlyphs\" textLength=\"42\" x=\"117\" y=\"313.1074\">s4: Ind</text><line style=\"stroke: #383838; stroke-width: 1.5;\" x1=\"33\" x2=\"243\" y1=\"320.9375\" y2=\"320.9375\"/></a><!--MD5=[209b3feb70ccb6233bfe1053d122c12c]\n",
       "reverse link E2 to E3--><a href=\"psysml:816d5179-2674-4631-83bc-f7d71b4237a7\" target=\"_top\" title=\"psysml:816d5179-2674-4631-83bc-f7d71b4237a7\" xlink:actuate=\"onRequest\" xlink:href=\"psysml:816d5179-2674-4631-83bc-f7d71b4237a7\" xlink:show=\"new\" xlink:title=\"psysml:816d5179-2674-4631-83bc-f7d71b4237a7\" xlink:type=\"simple\"><path d=\"M377.59,232.45 C360.78,249.83 344.04,268.76 333.23,282.93 \" fill=\"none\" id=\"E2&lt;-E3\" style=\"stroke: #383838; stroke-width: 1.0;\"/><polygon fill=\"#FFFFFF\" points=\"386.9,223,379.8401,224.4691,378.4809,231.5509,385.5407,230.0818,386.9,223\" style=\"stroke: #383838; stroke-width: 1.0;\"/></a><!--MD5=[05d275557350bfb9b23a4ef7222b4c39]\n",
       "link E3 to E2--><a href=\"psysml:eb3070f5-b0ea-4331-ac23-68f76765f53a\" target=\"_top\" title=\"psysml:eb3070f5-b0ea-4331-ac23-68f76765f53a\" xlink:actuate=\"onRequest\" xlink:href=\"psysml:eb3070f5-b0ea-4331-ac23-68f76765f53a\" xlink:show=\"new\" xlink:title=\"psysml:eb3070f5-b0ea-4331-ac23-68f76765f53a\" xlink:type=\"simple\"><path d=\"M354.17,282.93 C367.96,270.34 383.96,253.98 398.07,238.29 \" fill=\"none\" id=\"E3-&gt;E2\" style=\"stroke: #383838; stroke-width: 1.0;\"/><polygon fill=\"#FFFFFF\" points=\"411.4,223,404.1971,241.924,393.6412,232.7276,411.4,223\" style=\"stroke: #383838; stroke-width: 1.0;\"/><ellipse cx=\"398.9449\" cy=\"244.908\" fill=\"#383838\" rx=\"2\" ry=\"2\" style=\"stroke: #383838; stroke-width: 1.0;\"/><ellipse cx=\"391.405\" cy=\"238.3391\" fill=\"#383838\" rx=\"2\" ry=\"2\" style=\"stroke: #383838; stroke-width: 1.0;\"/></a><!--MD5=[9618e71518536f8baf3342ff6fdab317]\n",
       "reverse link E2 to E4--><a href=\"psysml:0447f336-2e88-4877-9a74-bac22478a75a\" target=\"_top\" title=\"psysml:0447f336-2e88-4877-9a74-bac22478a75a\" xlink:actuate=\"onRequest\" xlink:href=\"psysml:0447f336-2e88-4877-9a74-bac22478a75a\" xlink:show=\"new\" xlink:title=\"psysml:0447f336-2e88-4877-9a74-bac22478a75a\" xlink:type=\"simple\"><path d=\"M425.46,236.34 C426.62,252.61 429.17,269.81 432.6,282.93 \" fill=\"none\" id=\"E2&lt;-E4\" style=\"stroke: #383838; stroke-width: 1.0;\"/><polygon fill=\"#383838\" points=\"424.83,223,421.118,229.1823,425.397,234.9866,429.109,228.8043,424.83,223\" style=\"stroke: #383838; stroke-width: 1.0;\"/></a><!--MD5=[185131fc0dcab0a4505a2ebe144e961b]\n",
       "link E4 to E2--><a href=\"psysml:bbe7f0c0-75f0-4d42-b38b-c0f55f25890a\" target=\"_top\" title=\"psysml:bbe7f0c0-75f0-4d42-b38b-c0f55f25890a\" xlink:actuate=\"onRequest\" xlink:href=\"psysml:bbe7f0c0-75f0-4d42-b38b-c0f55f25890a\" xlink:show=\"new\" xlink:title=\"psysml:bbe7f0c0-75f0-4d42-b38b-c0f55f25890a\" xlink:type=\"simple\"><path d=\"M453.54,282.93 C454.33,271.65 453.8,257.34 452.26,243.21 \" fill=\"none\" id=\"E4-&gt;E2\" style=\"stroke: #383838; stroke-width: 1.0;\"/><polygon fill=\"#FFFFFF\" points=\"449.33,223,458.9844,240.7987,445.1294,242.8079,449.33,223\" style=\"stroke: #383838; stroke-width: 1.0;\"/><ellipse cx=\"457.8232\" cy=\"246.7267\" fill=\"#383838\" rx=\"2\" ry=\"2\" style=\"stroke: #383838; stroke-width: 1.0;\"/><ellipse cx=\"447.9267\" cy=\"248.1619\" fill=\"#383838\" rx=\"2\" ry=\"2\" style=\"stroke: #383838; stroke-width: 1.0;\"/></a><!--MD5=[4e1a83fab71cdb913c109063314ae896]\n",
       "reverse link E2 to E5--><a href=\"psysml:5c44c5f5-a434-4c27-9e5d-4b118f9f4fa1\" target=\"_top\" title=\"psysml:5c44c5f5-a434-4c27-9e5d-4b118f9f4fa1\" xlink:actuate=\"onRequest\" xlink:href=\"psysml:5c44c5f5-a434-4c27-9e5d-4b118f9f4fa1\" xlink:show=\"new\" xlink:title=\"psysml:5c44c5f5-a434-4c27-9e5d-4b118f9f4fa1\" xlink:type=\"simple\"><path d=\"M499.94,226.44 C531.22,245.33 567.25,267.1 593.44,282.92 \" fill=\"none\" id=\"E2&lt;-E5\" style=\"stroke: #383838; stroke-width: 1.0;\"/><polygon fill=\"#383838\" points=\"488.66,219.62,491.731,226.1445,498.9348,225.8191,495.8638,219.2947,488.66,219.62\" style=\"stroke: #383838; stroke-width: 1.0;\"/></a><!--MD5=[ce036f65110ae2351ccce5a81dc2e928]\n",
       "reverse link E2 to E6--><a href=\"psysml:f84da050-0b5f-49f5-998e-9b704fc66ebc\" target=\"_top\" title=\"psysml:f84da050-0b5f-49f5-998e-9b704fc66ebc\" xlink:actuate=\"onRequest\" xlink:href=\"psysml:f84da050-0b5f-49f5-998e-9b704fc66ebc\" xlink:show=\"new\" xlink:title=\"psysml:f84da050-0b5f-49f5-998e-9b704fc66ebc\" xlink:type=\"simple\"><path d=\"M501.1,217.48 C506.1,219.45 511.11,221.31 516,223 C528.17,227.2 677.81,264.18 770.71,287.02 \" fill=\"none\" id=\"E2&lt;-E6\" style=\"stroke: #383838; stroke-width: 1.0;\"/><polygon fill=\"#383838\" points=\"488.72,212.43,492.764,218.4004,499.8305,216.9638,495.7866,210.9934,488.72,212.43\" style=\"stroke: #383838; stroke-width: 1.0;\"/><text fill=\"#000000\" font-family=\"sans-serif\" font-size=\"13\" lengthAdjust=\"spacingAndGlyphs\" textLength=\"7\" x=\"755.791\" y=\"281.3662\">*</text></a><!--MD5=[3a9b96bfbf6b6ad89c494e81751bda47]\n",
       "link E5 to E7--><a href=\"psysml:5222325c-bb46-4e39-81f0-12dbae43365a\" target=\"_top\" title=\"psysml:5222325c-bb46-4e39-81f0-12dbae43365a\" xlink:actuate=\"onRequest\" xlink:href=\"psysml:5222325c-bb46-4e39-81f0-12dbae43365a\" xlink:show=\"new\" xlink:title=\"psysml:5222325c-bb46-4e39-81f0-12dbae43365a\" xlink:type=\"simple\"><path d=\"M630,329.06 C630,340.64 630,355.23 630,368.87 \" fill=\"none\" id=\"E5-&gt;E7\" style=\"stroke: #383838; stroke-width: 1.0;\"/><polygon fill=\"#FFFFFF\" points=\"630,388.98,623,369.98,637,369.98,630,388.98\" style=\"stroke: #383838; stroke-width: 1.0;\"/><ellipse cx=\"625\" cy=\"364.28\" fill=\"#383838\" rx=\"2\" ry=\"2\" style=\"stroke: #383838; stroke-width: 1.0;\"/><ellipse cx=\"635\" cy=\"364.28\" fill=\"#383838\" rx=\"2\" ry=\"2\" style=\"stroke: #383838; stroke-width: 1.0;\"/></a><!--MD5=[dc164f5e8a733ab456ef1add180e9e34]\n",
       "reverse link E7 to E8--><a href=\"psysml:62bbb331-bb03-464e-9e32-68694608bffc\" target=\"_top\" title=\"psysml:62bbb331-bb03-464e-9e32-68694608bffc\" xlink:actuate=\"onRequest\" xlink:href=\"psysml:62bbb331-bb03-464e-9e32-68694608bffc\" xlink:show=\"new\" xlink:title=\"psysml:62bbb331-bb03-464e-9e32-68694608bffc\" xlink:type=\"simple\"><path d=\"M601.55,445.16 C587.25,461.33 570.28,480.51 557.48,494.98 \" fill=\"none\" id=\"E7&lt;-E8\" style=\"stroke: #383838; stroke-width: 1.0;\"/><polygon fill=\"#383838\" points=\"610.49,435.06,603.5177,436.9004,602.5348,444.0442,609.5071,442.2038,610.49,435.06\" style=\"stroke: #383838; stroke-width: 1.0;\"/><text fill=\"#000000\" font-family=\"sans-serif\" font-size=\"13\" lengthAdjust=\"spacingAndGlyphs\" textLength=\"7\" x=\"554.7746\" y=\"483.8709\">*</text></a><!--MD5=[e4a10ef82d0e328e31cac39a31e58dda]\n",
       "reverse link E7 to E9--><a href=\"psysml:6940b1aa-8c0f-4381-86aa-7b3e10e8c0d6\" target=\"_top\" title=\"psysml:6940b1aa-8c0f-4381-86aa-7b3e10e8c0d6\" xlink:actuate=\"onRequest\" xlink:href=\"psysml:6940b1aa-8c0f-4381-86aa-7b3e10e8c0d6\" xlink:show=\"new\" xlink:title=\"psysml:6940b1aa-8c0f-4381-86aa-7b3e10e8c0d6\" xlink:type=\"simple\"><path d=\"M658.14,445.16 C672.29,461.33 689.07,480.51 701.73,494.98 \" fill=\"none\" id=\"E7&lt;-E9\" style=\"stroke: #383838; stroke-width: 1.0;\"/><polygon fill=\"#383838\" points=\"649.3,435.06,650.2496,442.2083,657.2133,444.0811,656.2637,436.9328,649.3,435.06\" style=\"stroke: #383838; stroke-width: 1.0;\"/><text fill=\"#000000\" font-family=\"sans-serif\" font-size=\"13\" lengthAdjust=\"spacingAndGlyphs\" textLength=\"7\" x=\"688.6106\" y=\"483.8709\">*</text></a><!--MD5=[a919e0967d6f3de553dc51b9865a1d6d]\n",
       "link E10 to E7--><a href=\"psysml:2d47db94-d209-4d22-9eae-73bfc16721f5\" target=\"_top\" title=\"psysml:2d47db94-d209-4d22-9eae-73bfc16721f5\" xlink:actuate=\"onRequest\" xlink:href=\"psysml:2d47db94-d209-4d22-9eae-73bfc16721f5\" xlink:show=\"new\" xlink:title=\"psysml:2d47db94-d209-4d22-9eae-73bfc16721f5\" xlink:type=\"simple\"><path d=\"M564.36,87.23 C542.92,120.68 510.65,184.15 544,223 C658.5,356.41 820.5,149.59 935,283 C997.65,355.99 847.73,388.27 736.59,401.86 \" fill=\"none\" id=\"E10-&gt;E7\" style=\"stroke: #383838; stroke-width: 1.0;\"/><polygon fill=\"#FFFFFF\" points=\"716.7,404.14,734.7756,395.0147,736.3754,408.923,716.7,404.14\" style=\"stroke: #383838; stroke-width: 1.0;\"/><ellipse cx=\"740.6668\" cy=\"396.3502\" fill=\"#383838\" rx=\"2\" ry=\"2\" style=\"stroke: #383838; stroke-width: 1.0;\"/><ellipse cx=\"741.8096\" cy=\"406.2847\" fill=\"#383838\" rx=\"2\" ry=\"2\" style=\"stroke: #383838; stroke-width: 1.0;\"/></a><!--MD5=[0f36bececdf0dff6e600d6f64214b0f1]\n",
       "link E10 to E2--><a href=\"psysml:6622b004-fc37-43f3-bc42-fdfacc696359\" target=\"_top\" title=\"psysml:6622b004-fc37-43f3-bc42-fdfacc696359\" xlink:actuate=\"onRequest\" xlink:href=\"psysml:6622b004-fc37-43f3-bc42-fdfacc696359\" xlink:show=\"new\" xlink:title=\"psysml:6622b004-fc37-43f3-bc42-fdfacc696359\" xlink:type=\"simple\"><path d=\"M552.69,87.1 C536.38,100.31 514.96,117.65 494.76,134.01 \" fill=\"none\" id=\"E10-&gt;E2\" style=\"stroke: #383838; stroke-width: 1.0;\"/><polygon fill=\"#FFFFFF\" points=\"478.94,146.81,489.301,129.4131,498.1112,140.2934,478.94,146.81\" style=\"stroke: #383838; stroke-width: 1.0;\"/><ellipse cx=\"494.9894\" cy=\"127.3805\" fill=\"#383838\" rx=\"2\" ry=\"2\" style=\"stroke: #383838; stroke-width: 1.0;\"/><ellipse cx=\"501.2824\" cy=\"135.1521\" fill=\"#383838\" rx=\"2\" ry=\"2\" style=\"stroke: #383838; stroke-width: 1.0;\"/></a><!--MD5=[de308be4a2431766a05a907a031c07fc]\n",
       "reverse link E10 to E11--><a href=\"psysml:973d09ca-2c85-400b-8a26-6e03e711a9dc\" target=\"_top\" title=\"psysml:973d09ca-2c85-400b-8a26-6e03e711a9dc\" xlink:actuate=\"onRequest\" xlink:href=\"psysml:973d09ca-2c85-400b-8a26-6e03e711a9dc\" xlink:show=\"new\" xlink:title=\"psysml:973d09ca-2c85-400b-8a26-6e03e711a9dc\" xlink:type=\"simple\"><path d=\"M595.95,98.9 C605.42,119.01 617.15,143.94 625.46,161.61 \" fill=\"none\" id=\"E10&lt;-E11\" style=\"stroke: #383838; stroke-width: 1.0;\"/><polygon fill=\"#383838\" points=\"590.4,87.1,589.3334,94.2318,595.5064,97.9593,596.573,90.8275,590.4,87.1\" style=\"stroke: #383838; stroke-width: 1.0;\"/></a><!--MD5=[1d54f998c6d5961a1a9184be73a7eb6c]\n",
       "reverse link E10 to E12--><a href=\"psysml:4b2dc275-57bf-47aa-bec9-3fe53972a958\" target=\"_top\" title=\"psysml:4b2dc275-57bf-47aa-bec9-3fe53972a958\" xlink:actuate=\"onRequest\" xlink:href=\"psysml:4b2dc275-57bf-47aa-bec9-3fe53972a958\" xlink:show=\"new\" xlink:title=\"psysml:4b2dc275-57bf-47aa-bec9-3fe53972a958\" xlink:type=\"simple\"><path d=\"M642.21,92.42 C689.99,113.48 755.13,142.19 799.66,161.81 \" fill=\"none\" id=\"E10&lt;-E12\" style=\"stroke: #383838; stroke-width: 1.0;\"/><polygon fill=\"#383838\" points=\"630.15,87.1,634.028,93.1796,641.1314,91.9382,637.2534,85.8586,630.15,87.1\" style=\"stroke: #383838; stroke-width: 1.0;\"/></a><!--MD5=[4a48077df6499cfcd20b62e8f5f37904]\n",
       "link E13 to E7--><a href=\"psysml:99db2ce7-7db4-4747-aea3-ba596a45b862\" target=\"_top\" title=\"psysml:99db2ce7-7db4-4747-aea3-ba596a45b862\" xlink:actuate=\"onRequest\" xlink:href=\"psysml:99db2ce7-7db4-4747-aea3-ba596a45b862\" xlink:show=\"new\" xlink:title=\"psysml:99db2ce7-7db4-4747-aea3-ba596a45b862\" xlink:type=\"simple\"><path d=\"M242.34,329.06 C325.16,346.56 440.49,370.94 523.8,388.55 \" fill=\"none\" id=\"E13-&gt;E7\" style=\"stroke: #383838; stroke-width: 1.0;\"/><polygon fill=\"#FFFFFF\" points=\"543.45,392.7,523.4123,395.6135,526.3115,381.917,543.45,392.7\" style=\"stroke: #383838; stroke-width: 1.0;\"/><ellipse cx=\"518.25\" cy=\"392.4765\" fill=\"#383838\" rx=\"2\" ry=\"2\" style=\"stroke: #383838; stroke-width: 1.0;\"/><ellipse cx=\"520.3209\" cy=\"382.6933\" fill=\"#383838\" rx=\"2\" ry=\"2\" style=\"stroke: #383838; stroke-width: 1.0;\"/></a><!--MD5=[acfbe98fe1036df1b80690eb853a1706]\n",
       "@startuml\r\n",
       "skinparam monochrome true\r\n",
       "skinparam classbackgroundcolor white\r\n",
       "skinparam shadowing false\r\n",
       "skinparam wrapWidth 300\r\n",
       "hide circle\r\n",
       "\r\n",
       "package \"OccurrenceTest\" as E1  [[psysml:e6ab502d-dafd-416a-a255-3fa3ad3c263c ]]  {\r\n",
       "comp def \"Occ\" as E2  <<(T,blue) occurrence def>> [[psysml:1203d309-d98c-452c-84ab-9db93e8b8d83 ]] {\r\n",
       "- - attributes - -\r\n",
       "a\r\n",
       "}\r\n",
       "comp usage \"occ1: Occ\" as E3  <<(T,blue) occurrence>> [[psysml:158a345e-3640-4aa1-8638-58b6699698f0 ]] {\r\n",
       "}\r\n",
       "comp usage \"occ2: Occ\" as E4  <<(T,blue) occurrence>> [[psysml:5ccc27c3-07b1-4713-880e-82008912fb62 ]] {\r\n",
       "}\r\n",
       "comp usage \"s: Ind\" as E5  <<(T,blue) individual snapshot occurrence>> [[psysml:b931cfcd-d1f5-4c70-b44c-3b4fd21c9018 ]] {\r\n",
       "}\r\n",
       "comp usage \"t\" as E6  <<(T,blue) timeslice occurrence>> [[psysml:a76dffb5-cb4a-4142-b15c-9dbeb6bd2474 ]] {\r\n",
       "}\r\n",
       "comp def \"Ind\" as E7  <<(T,blue) individual occurrence def>> [[psysml:cddcce1d-840d-4259-9672-1cad32ef9616 ]] {\r\n",
       "}\r\n",
       "comp usage \"s2\" as E8  <<(T,blue) snapshot occurrence>> [[psysml:760118bf-f26e-45fa-9528-0dbdf12ed33d ]] {\r\n",
       "}\r\n",
       "comp usage \"t2\" as E9  <<(T,blue) timeslice occurrence>> [[psysml:6916c4a6-d3e9-4718-9bd3-b4da3843528f ]] {\r\n",
       "}\r\n",
       "comp usage \"ind: Ind, Occ\" as E10  <<(T,blue) individual occurrence>> [[psysml:ca3e4eae-d888-4010-bdf5-da81d89d1eab ]] {\r\n",
       "}\r\n",
       "comp usage \"s3\" as E11  <<(T,blue) snapshot occurrence>> [[psysml:a7aa12fc-e204-4f0a-90f2-9ab0101a123a ]] {\r\n",
       "}\r\n",
       "comp usage \"t3\" as E12  <<(T,blue) individual timeslice occurrence>> [[psysml:5052c3e9-886b-4521-8bf3-18ad9cb470c5 ]] {\r\n",
       "}\r\n",
       "comp usage \"s4: Ind\" as E13  <<(T,blue) individual snapshot occurrence>> [[psysml:e6d8c0e1-46dd-40c0-98f9-8ea23118f8bb ]] {\r\n",
       "}\r\n",
       "}\r\n",
       "E2 o- - E3 [[psysml:816d5179-2674-4631-83bc-f7d71b4237a7 ]] \r\n",
       "E3 - -:|> E2 [[psysml:eb3070f5-b0ea-4331-ac23-68f76765f53a ]] \r\n",
       "E2 *- - E4 [[psysml:0447f336-2e88-4877-9a74-bac22478a75a ]] \r\n",
       "E4 - -:|> E2 [[psysml:bbe7f0c0-75f0-4d42-b38b-c0f55f25890a ]] \r\n",
       "E2 *- - E5 [[psysml:5c44c5f5-a434-4c27-9e5d-4b118f9f4fa1 ]] \r\n",
       "E2 *- - \"*\"E6 [[psysml:f84da050-0b5f-49f5-998e-9b704fc66ebc ]] \r\n",
       "E5 - -:|> E7 [[psysml:5222325c-bb46-4e39-81f0-12dbae43365a ]] \r\n",
       "E7 *- - \"*\"E8 [[psysml:62bbb331-bb03-464e-9e32-68694608bffc ]] \r\n",
       "E7 *- - \"*\"E9 [[psysml:6940b1aa-8c0f-4381-86aa-7b3e10e8c0d6 ]] \r\n",
       "E10 - -:|> E7 [[psysml:2d47db94-d209-4d22-9eae-73bfc16721f5 ]] \r\n",
       "E10 - -:|> E2 [[psysml:6622b004-fc37-43f3-bc42-fdfacc696359 ]] \r\n",
       "E10 *- - E11 [[psysml:973d09ca-2c85-400b-8a26-6e03e711a9dc ]] \r\n",
       "E10 *- - E12 [[psysml:4b2dc275-57bf-47aa-bec9-3fe53972a958 ]] \r\n",
       "E13 - -:|> E7 [[psysml:99db2ce7-7db4-4747-aea3-ba596a45b862 ]] \r\n",
       "@enduml\r\n",
       "\n",
       "PlantUML version 1.2020.13(Sat Jun 13 12:26:38 UTC 2020)\n",
       "(EPL source distribution)\n",
       "Java Runtime: OpenJDK Runtime Environment\n",
       "JVM: OpenJDK 64-Bit Server VM\n",
       "Default Encoding: UTF-8\n",
       "Language: en\n",
       "Country: null\n",
       "--></g></svg>"
      ]
     },
     "execution_count": 38,
     "metadata": {},
     "output_type": "execute_result"
    }
   ],
   "source": [
    "%viz --style=\"DEFAULT\" --view=\"Tree\" \"OccurrenceTest\""
   ]
  },
  {
   "cell_type": "code",
   "execution_count": 39,
   "id": "6ec340b8",
   "metadata": {
    "execution": {
     "iopub.execute_input": "2021-10-03T08:28:45.325965Z",
     "iopub.status.busy": "2021-10-03T08:28:45.325570Z",
     "iopub.status.idle": "2021-10-03T08:28:45.330392Z",
     "shell.execute_reply": "2021-10-03T08:28:45.330066Z"
    }
   },
   "outputs": [
    {
     "data": {
      "image/svg+xml": [
       "<?xml version=\"1.0\" encoding=\"UTF-8\" standalone=\"no\"?><svg xmlns=\"http://www.w3.org/2000/svg\" xmlns:xlink=\"http://www.w3.org/1999/xlink\" contentScriptType=\"application/ecmascript\" contentStyleType=\"text/css\" height=\"12px\" preserveAspectRatio=\"none\" style=\"width:12px;height:12px;\" version=\"1.1\" viewBox=\"0 0 12 12\" width=\"12px\" zoomAndPan=\"magnify\"><defs/><g><!--MD5=[c5f280e076d0d61ccf4b0f27871bda1d]\n",
       "@startuml\r\n",
       "skinparam monochrome true\r\n",
       "skinparam classbackgroundcolor white\r\n",
       "skinparam shadowing false\r\n",
       "skinparam wrapWidth 300\r\n",
       "hide circle\r\n",
       "\r\n",
       "@enduml\r\n",
       "\n",
       "PlantUML version 1.2020.13(Sat Jun 13 12:26:38 UTC 2020)\n",
       "(EPL source distribution)\n",
       "Java Runtime: OpenJDK Runtime Environment\n",
       "JVM: OpenJDK 64-Bit Server VM\n",
       "Default Encoding: UTF-8\n",
       "Language: en\n",
       "Country: null\n",
       "--></g></svg>"
      ]
     },
     "execution_count": 39,
     "metadata": {},
     "output_type": "execute_result"
    }
   ],
   "source": [
    "%viz --style=\"DEFAULT\" --view=\"State\" \"OccurrenceTest\""
   ]
  },
  {
   "cell_type": "code",
   "execution_count": 40,
   "id": "44d58ec3",
   "metadata": {
    "execution": {
     "iopub.execute_input": "2021-10-03T08:28:45.379859Z",
     "iopub.status.busy": "2021-10-03T08:28:45.379450Z",
     "iopub.status.idle": "2021-10-03T08:28:45.410233Z",
     "shell.execute_reply": "2021-10-03T08:28:45.409902Z"
    }
   },
   "outputs": [
    {
     "data": {
      "image/svg+xml": [
       "<?xml version=\"1.0\" encoding=\"UTF-8\" standalone=\"no\"?><svg xmlns=\"http://www.w3.org/2000/svg\" xmlns:xlink=\"http://www.w3.org/1999/xlink\" contentScriptType=\"application/ecmascript\" contentStyleType=\"text/css\" height=\"195px\" preserveAspectRatio=\"none\" style=\"width:1115px;height:195px;\" version=\"1.1\" viewBox=\"0 0 1115 195\" width=\"1115px\" zoomAndPan=\"magnify\"><defs/><g><!--MD5=[fbc87193dbaf4d95561dea2c320d4a47]\n",
       "cluster E1--><a href=\"psysml:e6ab502d-dafd-416a-a255-3fa3ad3c263c\" target=\"_top\" title=\"psysml:e6ab502d-dafd-416a-a255-3fa3ad3c263c\" xlink:actuate=\"onRequest\" xlink:href=\"psysml:e6ab502d-dafd-416a-a255-3fa3ad3c263c\" xlink:show=\"new\" xlink:title=\"psysml:e6ab502d-dafd-416a-a255-3fa3ad3c263c\" xlink:type=\"simple\"><polygon fill=\"#FFFFFF\" points=\"16,6,134,6,141,28.2969,1093,28.2969,1093,183,16,183,16,6\" style=\"stroke: #000000; stroke-width: 1.5;\"/><line style=\"stroke: #000000; stroke-width: 1.5;\" x1=\"16\" x2=\"141\" y1=\"28.2969\" y2=\"28.2969\"/><text fill=\"#000000\" font-family=\"sans-serif\" font-size=\"14\" font-weight=\"bold\" lengthAdjust=\"spacingAndGlyphs\" textLength=\"112\" x=\"20\" y=\"20.9951\">OccurrenceTest</text></a><!--MD5=[f6df4d0ebaf0b5dfb2ced0ae5af7c670]\n",
       "cluster E4--><a href=\"psysml:ca3e4eae-d888-4010-bdf5-da81d89d1eab\" target=\"_top\" title=\"psysml:ca3e4eae-d888-4010-bdf5-da81d89d1eab\" xlink:actuate=\"onRequest\" xlink:href=\"psysml:ca3e4eae-d888-4010-bdf5-da81d89d1eab\" xlink:show=\"new\" xlink:title=\"psysml:ca3e4eae-d888-4010-bdf5-da81d89d1eab\" xlink:type=\"simple\"><rect fill=\"#FFFFFF\" height=\"110\" id=\"E4\" rx=\"10\" ry=\"10\" style=\"stroke: #383838; stroke-width: 1.5;\" width=\"435\" x=\"634\" y=\"49\"/><rect fill=\"#F8F8F8\" height=\"37.9375\" rx=\"10\" ry=\"10\" style=\"stroke: #F8F8F8; stroke-width: 1.5;\" width=\"435\" x=\"634\" y=\"49\"/><rect fill=\"#F8F8F8\" height=\"10\" style=\"stroke: #F8F8F8; stroke-width: 1.5;\" width=\"435\" x=\"634\" y=\"76.9375\"/><rect fill=\"none\" height=\"110\" id=\"E4\" rx=\"10\" ry=\"10\" style=\"stroke: #383838; stroke-width: 1.5;\" width=\"435\" x=\"634\" y=\"49\"/><text fill=\"#000000\" font-family=\"sans-serif\" font-size=\"12\" font-style=\"italic\" lengthAdjust=\"spacingAndGlyphs\" textLength=\"147\" x=\"778\" y=\"65.1387\">«individual occurrence»</text><text fill=\"#000000\" font-family=\"sans-serif\" font-size=\"12\" lengthAdjust=\"spacingAndGlyphs\" textLength=\"77\" x=\"813\" y=\"79.1074\">ind: Ind, Occ</text><line style=\"stroke: #383838; stroke-width: 1.0;\" x1=\"634\" x2=\"1069\" y1=\"86.9375\" y2=\"86.9375\"/></a><g id=\"E1.E2\"><a href=\"psysml:1203d309-d98c-452c-84ab-9db93e8b8d83\" target=\"_top\" title=\"psysml:1203d309-d98c-452c-84ab-9db93e8b8d83\" xlink:actuate=\"onRequest\" xlink:href=\"psysml:1203d309-d98c-452c-84ab-9db93e8b8d83\" xlink:show=\"new\" xlink:title=\"psysml:1203d309-d98c-452c-84ab-9db93e8b8d83\" xlink:type=\"simple\"><rect fill=\"#FFFFFF\" height=\"42.9375\" id=\"E2\" style=\"stroke: #383838; stroke-width: 1.5;\" width=\"116\" x=\"498\" y=\"100\"/><rect fill=\"#F8F8F8\" height=\"37.9375\" style=\"stroke: #383838; stroke-width: 1.5;\" width=\"116\" x=\"498\" y=\"100\"/><text fill=\"#000000\" font-family=\"sans-serif\" font-size=\"12\" font-style=\"italic\" lengthAdjust=\"spacingAndGlyphs\" textLength=\"109\" x=\"501.5\" y=\"116.1387\">«occurrence def»</text><text fill=\"#000000\" font-family=\"sans-serif\" font-size=\"12\" lengthAdjust=\"spacingAndGlyphs\" textLength=\"23\" x=\"544.5\" y=\"130.1074\">Occ</text></a></g><g id=\"E1.E3\"><a href=\"psysml:cddcce1d-840d-4259-9672-1cad32ef9616\" target=\"_top\" title=\"psysml:cddcce1d-840d-4259-9672-1cad32ef9616\" xlink:actuate=\"onRequest\" xlink:href=\"psysml:cddcce1d-840d-4259-9672-1cad32ef9616\" xlink:show=\"new\" xlink:title=\"psysml:cddcce1d-840d-4259-9672-1cad32ef9616\" xlink:type=\"simple\"><rect fill=\"#FFFFFF\" height=\"42.9375\" id=\"E3\" style=\"stroke: #383838; stroke-width: 1.5;\" width=\"178\" x=\"285\" y=\"100\"/><rect fill=\"#F8F8F8\" height=\"37.9375\" style=\"stroke: #383838; stroke-width: 1.5;\" width=\"178\" x=\"285\" y=\"100\"/><text fill=\"#000000\" font-family=\"sans-serif\" font-size=\"12\" font-style=\"italic\" lengthAdjust=\"spacingAndGlyphs\" textLength=\"171\" x=\"288.5\" y=\"116.1387\">«individual occurrence def»</text><text fill=\"#000000\" font-family=\"sans-serif\" font-size=\"12\" lengthAdjust=\"spacingAndGlyphs\" textLength=\"19\" x=\"364.5\" y=\"130.1074\">Ind</text></a></g><g id=\"E1.E4.E5\"><a href=\"psysml:a7aa12fc-e204-4f0a-90f2-9ab0101a123a\" target=\"_top\" title=\"psysml:a7aa12fc-e204-4f0a-90f2-9ab0101a123a\" xlink:actuate=\"onRequest\" xlink:href=\"psysml:a7aa12fc-e204-4f0a-90f2-9ab0101a123a\" xlink:show=\"new\" xlink:title=\"psysml:a7aa12fc-e204-4f0a-90f2-9ab0101a123a\" xlink:type=\"simple\"><rect fill=\"#FFFFFF\" height=\"42.9375\" id=\"E5\" rx=\"10\" ry=\"10\" style=\"stroke: #383838; stroke-width: 1.5;\" width=\"155\" x=\"897.5\" y=\"100\"/><rect fill=\"#F8F8F8\" height=\"37.9375\" rx=\"10\" ry=\"10\" style=\"stroke: #F8F8F8; stroke-width: 1.5;\" width=\"155\" x=\"897.5\" y=\"100\"/><rect fill=\"#F8F8F8\" height=\"10\" style=\"stroke: #F8F8F8; stroke-width: 1.5;\" width=\"155\" x=\"897.5\" y=\"127.9375\"/><rect fill=\"none\" height=\"42.9375\" id=\"E5\" rx=\"10\" ry=\"10\" style=\"stroke: #383838; stroke-width: 1.5;\" width=\"155\" x=\"897.5\" y=\"100\"/><text fill=\"#000000\" font-family=\"sans-serif\" font-size=\"12\" font-style=\"italic\" lengthAdjust=\"spacingAndGlyphs\" textLength=\"148\" x=\"901\" y=\"116.1387\">«snapshot occurrence»</text><text fill=\"#000000\" font-family=\"sans-serif\" font-size=\"12\" lengthAdjust=\"spacingAndGlyphs\" textLength=\"15\" x=\"967.5\" y=\"130.1074\">s3</text></a></g><g id=\"E1.E4.E6\"><a href=\"psysml:5052c3e9-886b-4521-8bf3-18ad9cb470c5\" target=\"_top\" title=\"psysml:5052c3e9-886b-4521-8bf3-18ad9cb470c5\" xlink:actuate=\"onRequest\" xlink:href=\"psysml:5052c3e9-886b-4521-8bf3-18ad9cb470c5\" xlink:show=\"new\" xlink:title=\"psysml:5052c3e9-886b-4521-8bf3-18ad9cb470c5\" xlink:type=\"simple\"><rect fill=\"#FFFFFF\" height=\"42.9375\" id=\"E6\" rx=\"10\" ry=\"10\" style=\"stroke: #383838; stroke-width: 1.5;\" width=\"213\" x=\"649.5\" y=\"100\"/><rect fill=\"#F8F8F8\" height=\"37.9375\" rx=\"10\" ry=\"10\" style=\"stroke: #F8F8F8; stroke-width: 1.5;\" width=\"213\" x=\"649.5\" y=\"100\"/><rect fill=\"#F8F8F8\" height=\"10\" style=\"stroke: #F8F8F8; stroke-width: 1.5;\" width=\"213\" x=\"649.5\" y=\"127.9375\"/><rect fill=\"none\" height=\"42.9375\" id=\"E6\" rx=\"10\" ry=\"10\" style=\"stroke: #383838; stroke-width: 1.5;\" width=\"213\" x=\"649.5\" y=\"100\"/><text fill=\"#000000\" font-family=\"sans-serif\" font-size=\"12\" font-style=\"italic\" lengthAdjust=\"spacingAndGlyphs\" textLength=\"206\" x=\"653\" y=\"116.1387\">«individual timeslice occurrence»</text><text fill=\"#000000\" font-family=\"sans-serif\" font-size=\"12\" lengthAdjust=\"spacingAndGlyphs\" textLength=\"13\" x=\"749.5\" y=\"130.1074\">t3</text></a></g><g id=\"E1.E7\"><a href=\"psysml:e6d8c0e1-46dd-40c0-98f9-8ea23118f8bb\" target=\"_top\" title=\"psysml:e6d8c0e1-46dd-40c0-98f9-8ea23118f8bb\" xlink:actuate=\"onRequest\" xlink:href=\"psysml:e6d8c0e1-46dd-40c0-98f9-8ea23118f8bb\" xlink:show=\"new\" xlink:title=\"psysml:e6d8c0e1-46dd-40c0-98f9-8ea23118f8bb\" xlink:type=\"simple\"><rect fill=\"#FFFFFF\" height=\"42.9375\" id=\"E7\" rx=\"10\" ry=\"10\" style=\"stroke: #383838; stroke-width: 1.5;\" width=\"217\" x=\"32.5\" y=\"100\"/><rect fill=\"#F8F8F8\" height=\"37.9375\" rx=\"10\" ry=\"10\" style=\"stroke: #F8F8F8; stroke-width: 1.5;\" width=\"217\" x=\"32.5\" y=\"100\"/><rect fill=\"#F8F8F8\" height=\"10\" style=\"stroke: #F8F8F8; stroke-width: 1.5;\" width=\"217\" x=\"32.5\" y=\"127.9375\"/><rect fill=\"none\" height=\"42.9375\" id=\"E7\" rx=\"10\" ry=\"10\" style=\"stroke: #383838; stroke-width: 1.5;\" width=\"217\" x=\"32.5\" y=\"100\"/><text fill=\"#000000\" font-family=\"sans-serif\" font-size=\"12\" font-style=\"italic\" lengthAdjust=\"spacingAndGlyphs\" textLength=\"210\" x=\"36\" y=\"116.1387\">«individual snapshot occurrence»</text><text fill=\"#000000\" font-family=\"sans-serif\" font-size=\"12\" lengthAdjust=\"spacingAndGlyphs\" textLength=\"42\" x=\"120\" y=\"130.1074\">s4: Ind</text></a></g><!--MD5=[33c069b361a565d24e025dce9146b327]\n",
       "@startuml\r\n",
       "skinparam ranksep 10\r\n",
       "skinparam rectangle {\r\n",
       " backgroundColor<<block>> LightGreen\r\n",
       "}\r\n",
       "skinparam monochrome true\r\n",
       "skinparam classbackgroundcolor white\r\n",
       "skinparam shadowing false\r\n",
       "skinparam wrapWidth 300\r\n",
       "hide circle\r\n",
       "\r\n",
       "package \"OccurrenceTest\" as E1  [[psysml:e6ab502d-dafd-416a-a255-3fa3ad3c263c ]]  {\r\n",
       "def \"Occ\" as E2  <<(T,blue) occurrence def>> [[psysml:1203d309-d98c-452c-84ab-9db93e8b8d83 ]] \r\n",
       "def \"Ind\" as E3  <<(T,blue) individual occurrence def>> [[psysml:cddcce1d-840d-4259-9672-1cad32ef9616 ]] \r\n",
       "rec usage \"ind: Ind, Occ\" as E4  <<(T,blue) individual occurrence>> [[psysml:ca3e4eae-d888-4010-bdf5-da81d89d1eab ]] {\r\n",
       "rec usage \"s3\" as E5  <<(T,blue) snapshot occurrence>> [[psysml:a7aa12fc-e204-4f0a-90f2-9ab0101a123a ]] {\r\n",
       "}\r\n",
       "rec usage \"t3\" as E6  <<(T,blue) individual timeslice occurrence>> [[psysml:5052c3e9-886b-4521-8bf3-18ad9cb470c5 ]] {\r\n",
       "}\r\n",
       "}\r\n",
       "rec usage \"s4: Ind\" as E7  <<(T,blue) individual snapshot occurrence>> [[psysml:e6d8c0e1-46dd-40c0-98f9-8ea23118f8bb ]] {\r\n",
       "}\r\n",
       "}\r\n",
       "@enduml\r\n",
       "\n",
       "PlantUML version 1.2020.13(Sat Jun 13 12:26:38 UTC 2020)\n",
       "(EPL source distribution)\n",
       "Java Runtime: OpenJDK Runtime Environment\n",
       "JVM: OpenJDK 64-Bit Server VM\n",
       "Default Encoding: UTF-8\n",
       "Language: en\n",
       "Country: null\n",
       "--></g></svg>"
      ]
     },
     "execution_count": 40,
     "metadata": {},
     "output_type": "execute_result"
    }
   ],
   "source": [
    "%viz --style=\"DEFAULT\" --view=\"Interconnection\" \"OccurrenceTest\""
   ]
  },
  {
   "cell_type": "code",
   "execution_count": 41,
   "id": "575ba49c",
   "metadata": {
    "execution": {
     "iopub.execute_input": "2021-10-03T08:28:45.459506Z",
     "iopub.status.busy": "2021-10-03T08:28:45.459110Z",
     "iopub.status.idle": "2021-10-03T08:28:45.463750Z",
     "shell.execute_reply": "2021-10-03T08:28:45.463419Z"
    }
   },
   "outputs": [
    {
     "data": {
      "image/svg+xml": [
       "<?xml version=\"1.0\" encoding=\"UTF-8\" standalone=\"no\"?><svg xmlns=\"http://www.w3.org/2000/svg\" xmlns:xlink=\"http://www.w3.org/1999/xlink\" contentScriptType=\"application/ecmascript\" contentStyleType=\"text/css\" height=\"12px\" preserveAspectRatio=\"none\" style=\"width:12px;height:12px;\" version=\"1.1\" viewBox=\"0 0 12 12\" width=\"12px\" zoomAndPan=\"magnify\"><defs/><g><!--MD5=[388f21188e31bfdd97050473b19af356]\n",
       "@startuml\r\n",
       "skinparam ranksep 8\r\n",
       "skinparam monochrome true\r\n",
       "skinparam classbackgroundcolor white\r\n",
       "skinparam shadowing false\r\n",
       "skinparam wrapWidth 300\r\n",
       "hide circle\r\n",
       "\r\n",
       "@enduml\r\n",
       "\n",
       "PlantUML version 1.2020.13(Sat Jun 13 12:26:38 UTC 2020)\n",
       "(EPL source distribution)\n",
       "Java Runtime: OpenJDK Runtime Environment\n",
       "JVM: OpenJDK 64-Bit Server VM\n",
       "Default Encoding: UTF-8\n",
       "Language: en\n",
       "Country: null\n",
       "--></g></svg>"
      ]
     },
     "execution_count": 41,
     "metadata": {},
     "output_type": "execute_result"
    }
   ],
   "source": [
    "%viz --style=\"DEFAULT\" --view=\"Action\" \"OccurrenceTest\""
   ]
  },
  {
   "cell_type": "code",
   "execution_count": 42,
   "id": "a31861e0",
   "metadata": {
    "execution": {
     "iopub.execute_input": "2021-10-03T08:28:45.513161Z",
     "iopub.status.busy": "2021-10-03T08:28:45.512765Z",
     "iopub.status.idle": "2021-10-03T08:28:45.517554Z",
     "shell.execute_reply": "2021-10-03T08:28:45.517229Z"
    }
   },
   "outputs": [
    {
     "data": {
      "image/svg+xml": [
       "<?xml version=\"1.0\" encoding=\"UTF-8\" standalone=\"no\"?><svg xmlns=\"http://www.w3.org/2000/svg\" xmlns:xlink=\"http://www.w3.org/1999/xlink\" contentScriptType=\"application/ecmascript\" contentStyleType=\"text/css\" height=\"12px\" preserveAspectRatio=\"none\" style=\"width:12px;height:12px;\" version=\"1.1\" viewBox=\"0 0 12 12\" width=\"12px\" zoomAndPan=\"magnify\"><defs/><g><!--MD5=[0b72472770326784bf6c2b53246e1e64]\n",
       "@startuml\r\n",
       "skinparam roundcorner 20\r\n",
       "skinparam BoxPadding 20\r\n",
       "skinparam SequenceBoxBackgroundColor #white\r\n",
       "skinparam style strictuml\r\n",
       "skinparam maxMessageSize 100\r\n",
       "skinparam monochrome true\r\n",
       "skinparam classbackgroundcolor white\r\n",
       "skinparam shadowing false\r\n",
       "skinparam wrapWidth 300\r\n",
       "hide circle\r\n",
       "\r\n",
       "@enduml\r\n",
       "\n",
       "PlantUML version 1.2020.13(Sat Jun 13 12:26:38 UTC 2020)\n",
       "(EPL source distribution)\n",
       "Java Runtime: OpenJDK Runtime Environment\n",
       "JVM: OpenJDK 64-Bit Server VM\n",
       "Default Encoding: UTF-8\n",
       "Language: en\n",
       "Country: null\n",
       "--></g></svg>"
      ]
     },
     "execution_count": 42,
     "metadata": {},
     "output_type": "execute_result"
    }
   ],
   "source": [
    "%viz --style=\"DEFAULT\" --view=\"Sequence\" \"OccurrenceTest\""
   ]
  },
  {
   "cell_type": "code",
   "execution_count": 43,
   "id": "0b471a92",
   "metadata": {
    "execution": {
     "iopub.execute_input": "2021-10-03T08:28:45.566998Z",
     "iopub.status.busy": "2021-10-03T08:28:45.566603Z",
     "iopub.status.idle": "2021-10-03T08:28:45.618850Z",
     "shell.execute_reply": "2021-10-03T08:28:45.618502Z"
    }
   },
   "outputs": [
    {
     "data": {
      "image/svg+xml": [
       "<?xml version=\"1.0\" encoding=\"UTF-8\" standalone=\"no\"?><svg xmlns=\"http://www.w3.org/2000/svg\" xmlns:xlink=\"http://www.w3.org/1999/xlink\" contentScriptType=\"application/ecmascript\" contentStyleType=\"text/css\" height=\"569px\" preserveAspectRatio=\"none\" style=\"width:1009px;height:569px;\" version=\"1.1\" viewBox=\"0 0 1009 569\" width=\"1009px\" zoomAndPan=\"magnify\"><defs/><g><!--MD5=[fbc87193dbaf4d95561dea2c320d4a47]\n",
       "cluster E1--><a href=\"psysml:e6ab502d-dafd-416a-a255-3fa3ad3c263c\" target=\"_top\" title=\"psysml:e6ab502d-dafd-416a-a255-3fa3ad3c263c\" xlink:actuate=\"onRequest\" xlink:href=\"psysml:e6ab502d-dafd-416a-a255-3fa3ad3c263c\" xlink:show=\"new\" xlink:title=\"psysml:e6ab502d-dafd-416a-a255-3fa3ad3c263c\" xlink:type=\"simple\"><polygon fill=\"#FFFFFF\" points=\"16,6,134,6,141,28.2969,970,28.2969,970,557,16,557,16,6\" style=\"stroke: #000000; stroke-width: 1.5;\"/><line style=\"stroke: #000000; stroke-width: 1.5;\" x1=\"16\" x2=\"141\" y1=\"28.2969\" y2=\"28.2969\"/><text fill=\"#000000\" font-family=\"sans-serif\" font-size=\"14\" font-weight=\"bold\" lengthAdjust=\"spacingAndGlyphs\" textLength=\"112\" x=\"20\" y=\"20.9951\">OccurrenceTest</text></a><!--MD5=[b4997ac47864f28c2f74865a473b2911]\n",
       "class E2--><a href=\"psysml:1203d309-d98c-452c-84ab-9db93e8b8d83\" target=\"_top\" title=\"psysml:1203d309-d98c-452c-84ab-9db93e8b8d83\" xlink:actuate=\"onRequest\" xlink:href=\"psysml:1203d309-d98c-452c-84ab-9db93e8b8d83\" xlink:show=\"new\" xlink:title=\"psysml:1203d309-d98c-452c-84ab-9db93e8b8d83\" xlink:type=\"simple\"><rect fill=\"#FFFFFF\" height=\"75.5469\" id=\"E2\" style=\"stroke: #383838; stroke-width: 1.5;\" width=\"111\" x=\"377.5\" y=\"147\"/><text fill=\"#000000\" font-family=\"sans-serif\" font-size=\"12\" font-style=\"italic\" lengthAdjust=\"spacingAndGlyphs\" textLength=\"109\" x=\"378.5\" y=\"163.1387\">«occurrence def»</text><text fill=\"#000000\" font-family=\"sans-serif\" font-size=\"12\" lengthAdjust=\"spacingAndGlyphs\" textLength=\"23\" x=\"421.5\" y=\"177.1074\">Occ</text><line style=\"stroke: #383838; stroke-width: 1.5;\" x1=\"378.5\" x2=\"487.5\" y1=\"184.9375\" y2=\"184.9375\"/><text fill=\"#000000\" font-family=\"sans-serif\" font-size=\"11\" lengthAdjust=\"spacingAndGlyphs\" textLength=\"7\" x=\"383.5\" y=\"215.9526\">a</text><line style=\"stroke: #383838; stroke-width: 1.0;\" x1=\"378.5\" x2=\"405.5\" y1=\"199.3398\" y2=\"199.3398\"/><text fill=\"#000000\" font-family=\"sans-serif\" font-size=\"11\" lengthAdjust=\"spacingAndGlyphs\" textLength=\"55\" x=\"405.5\" y=\"202.6479\">attributes</text><line style=\"stroke: #383838; stroke-width: 1.0;\" x1=\"460.5\" x2=\"487.5\" y1=\"199.3398\" y2=\"199.3398\"/></a><!--MD5=[09b614a08d8cba4a07c9adeb5e0fee81]\n",
       "class E3--><a href=\"psysml:158a345e-3640-4aa1-8638-58b6699698f0\" target=\"_top\" title=\"psysml:158a345e-3640-4aa1-8638-58b6699698f0\" xlink:actuate=\"onRequest\" xlink:href=\"psysml:158a345e-3640-4aa1-8638-58b6699698f0\" xlink:show=\"new\" xlink:title=\"psysml:158a345e-3640-4aa1-8638-58b6699698f0\" xlink:type=\"simple\"><rect fill=\"#FFFFFF\" height=\"45.9375\" id=\"E3\" rx=\"10\" ry=\"10\" style=\"stroke: #383838; stroke-width: 1.5;\" width=\"87\" x=\"279.5\" y=\"283\"/><text fill=\"#000000\" font-family=\"sans-serif\" font-size=\"12\" font-style=\"italic\" lengthAdjust=\"spacingAndGlyphs\" textLength=\"85\" x=\"280.5\" y=\"299.1387\">«occurrence»</text><text fill=\"#000000\" font-family=\"sans-serif\" font-size=\"12\" lengthAdjust=\"spacingAndGlyphs\" textLength=\"61\" x=\"292.5\" y=\"313.1074\">occ1: Occ</text><line style=\"stroke: #383838; stroke-width: 1.5;\" x1=\"280.5\" x2=\"365.5\" y1=\"320.9375\" y2=\"320.9375\"/></a><!--MD5=[ebbe1d658d1005bcc118a6aa81145e00]\n",
       "class E4--><a href=\"psysml:5ccc27c3-07b1-4713-880e-82008912fb62\" target=\"_top\" title=\"psysml:5ccc27c3-07b1-4713-880e-82008912fb62\" xlink:actuate=\"onRequest\" xlink:href=\"psysml:5ccc27c3-07b1-4713-880e-82008912fb62\" xlink:show=\"new\" xlink:title=\"psysml:5ccc27c3-07b1-4713-880e-82008912fb62\" xlink:type=\"simple\"><rect fill=\"#FFFFFF\" height=\"45.9375\" id=\"E4\" rx=\"10\" ry=\"10\" style=\"stroke: #383838; stroke-width: 1.5;\" width=\"87\" x=\"401.5\" y=\"283\"/><text fill=\"#000000\" font-family=\"sans-serif\" font-size=\"12\" font-style=\"italic\" lengthAdjust=\"spacingAndGlyphs\" textLength=\"85\" x=\"402.5\" y=\"299.1387\">«occurrence»</text><text fill=\"#000000\" font-family=\"sans-serif\" font-size=\"12\" lengthAdjust=\"spacingAndGlyphs\" textLength=\"61\" x=\"414.5\" y=\"313.1074\">occ2: Occ</text><line style=\"stroke: #383838; stroke-width: 1.5;\" x1=\"402.5\" x2=\"487.5\" y1=\"320.9375\" y2=\"320.9375\"/></a><!--MD5=[270fce915f116d4de14055a7c1d9a0f3]\n",
       "class E5--><a href=\"psysml:b931cfcd-d1f5-4c70-b44c-3b4fd21c9018\" target=\"_top\" title=\"psysml:b931cfcd-d1f5-4c70-b44c-3b4fd21c9018\" xlink:actuate=\"onRequest\" xlink:href=\"psysml:b931cfcd-d1f5-4c70-b44c-3b4fd21c9018\" xlink:show=\"new\" xlink:title=\"psysml:b931cfcd-d1f5-4c70-b44c-3b4fd21c9018\" xlink:type=\"simple\"><rect fill=\"#FFFFFF\" height=\"45.9375\" id=\"E5\" rx=\"10\" ry=\"10\" style=\"stroke: #383838; stroke-width: 1.5;\" width=\"212\" x=\"524\" y=\"283\"/><text fill=\"#000000\" font-family=\"sans-serif\" font-size=\"12\" font-style=\"italic\" lengthAdjust=\"spacingAndGlyphs\" textLength=\"210\" x=\"525\" y=\"299.1387\">«individual snapshot occurrence»</text><text fill=\"#000000\" font-family=\"sans-serif\" font-size=\"12\" lengthAdjust=\"spacingAndGlyphs\" textLength=\"34\" x=\"613\" y=\"313.1074\">s: Ind</text><line style=\"stroke: #383838; stroke-width: 1.5;\" x1=\"525\" x2=\"735\" y1=\"320.9375\" y2=\"320.9375\"/></a><!--MD5=[60a26617385b1d2d0262a64233df1f8d]\n",
       "class E6--><a href=\"psysml:a76dffb5-cb4a-4142-b15c-9dbeb6bd2474\" target=\"_top\" title=\"psysml:a76dffb5-cb4a-4142-b15c-9dbeb6bd2474\" xlink:actuate=\"onRequest\" xlink:href=\"psysml:a76dffb5-cb4a-4142-b15c-9dbeb6bd2474\" xlink:show=\"new\" xlink:title=\"psysml:a76dffb5-cb4a-4142-b15c-9dbeb6bd2474\" xlink:type=\"simple\"><rect fill=\"#FFFFFF\" height=\"45.9375\" id=\"E6\" rx=\"10\" ry=\"10\" style=\"stroke: #383838; stroke-width: 1.5;\" width=\"146\" x=\"771\" y=\"283\"/><text fill=\"#000000\" font-family=\"sans-serif\" font-size=\"12\" font-style=\"italic\" lengthAdjust=\"spacingAndGlyphs\" textLength=\"144\" x=\"772\" y=\"299.1387\">«timeslice occurrence»</text><text fill=\"#000000\" font-family=\"sans-serif\" font-size=\"12\" lengthAdjust=\"spacingAndGlyphs\" textLength=\"5\" x=\"841.5\" y=\"313.1074\">t</text><line style=\"stroke: #383838; stroke-width: 1.5;\" x1=\"772\" x2=\"916\" y1=\"320.9375\" y2=\"320.9375\"/></a><!--MD5=[2156ba9850f5573cc1fc38a6a4b2f02b]\n",
       "class E7--><a href=\"psysml:cddcce1d-840d-4259-9672-1cad32ef9616\" target=\"_top\" title=\"psysml:cddcce1d-840d-4259-9672-1cad32ef9616\" xlink:actuate=\"onRequest\" xlink:href=\"psysml:cddcce1d-840d-4259-9672-1cad32ef9616\" xlink:show=\"new\" xlink:title=\"psysml:cddcce1d-840d-4259-9672-1cad32ef9616\" xlink:type=\"simple\"><rect fill=\"#FFFFFF\" height=\"45.9375\" id=\"E7\" style=\"stroke: #383838; stroke-width: 1.5;\" width=\"173\" x=\"543.5\" y=\"389\"/><text fill=\"#000000\" font-family=\"sans-serif\" font-size=\"12\" font-style=\"italic\" lengthAdjust=\"spacingAndGlyphs\" textLength=\"171\" x=\"544.5\" y=\"405.1387\">«individual occurrence def»</text><text fill=\"#000000\" font-family=\"sans-serif\" font-size=\"12\" lengthAdjust=\"spacingAndGlyphs\" textLength=\"19\" x=\"620.5\" y=\"419.1074\">Ind</text><line style=\"stroke: #383838; stroke-width: 1.5;\" x1=\"544.5\" x2=\"715.5\" y1=\"426.9375\" y2=\"426.9375\"/></a><!--MD5=[b9389687b975829384b498ac4b7476b2]\n",
       "class E8--><a href=\"psysml:760118bf-f26e-45fa-9528-0dbdf12ed33d\" target=\"_top\" title=\"psysml:760118bf-f26e-45fa-9528-0dbdf12ed33d\" xlink:actuate=\"onRequest\" xlink:href=\"psysml:760118bf-f26e-45fa-9528-0dbdf12ed33d\" xlink:show=\"new\" xlink:title=\"psysml:760118bf-f26e-45fa-9528-0dbdf12ed33d\" xlink:type=\"simple\"><rect fill=\"#FFFFFF\" height=\"45.9375\" id=\"E8\" rx=\"10\" ry=\"10\" style=\"stroke: #383838; stroke-width: 1.5;\" width=\"150\" x=\"463\" y=\"495\"/><text fill=\"#000000\" font-family=\"sans-serif\" font-size=\"12\" font-style=\"italic\" lengthAdjust=\"spacingAndGlyphs\" textLength=\"148\" x=\"464\" y=\"511.1387\">«snapshot occurrence»</text><text fill=\"#000000\" font-family=\"sans-serif\" font-size=\"12\" lengthAdjust=\"spacingAndGlyphs\" textLength=\"15\" x=\"530.5\" y=\"525.1074\">s2</text><line style=\"stroke: #383838; stroke-width: 1.5;\" x1=\"464\" x2=\"612\" y1=\"532.9375\" y2=\"532.9375\"/></a><!--MD5=[fd4143e9d270a159db93a4ea2a975926]\n",
       "class E9--><a href=\"psysml:6916c4a6-d3e9-4718-9bd3-b4da3843528f\" target=\"_top\" title=\"psysml:6916c4a6-d3e9-4718-9bd3-b4da3843528f\" xlink:actuate=\"onRequest\" xlink:href=\"psysml:6916c4a6-d3e9-4718-9bd3-b4da3843528f\" xlink:show=\"new\" xlink:title=\"psysml:6916c4a6-d3e9-4718-9bd3-b4da3843528f\" xlink:type=\"simple\"><rect fill=\"#FFFFFF\" height=\"45.9375\" id=\"E9\" rx=\"10\" ry=\"10\" style=\"stroke: #383838; stroke-width: 1.5;\" width=\"146\" x=\"648\" y=\"495\"/><text fill=\"#000000\" font-family=\"sans-serif\" font-size=\"12\" font-style=\"italic\" lengthAdjust=\"spacingAndGlyphs\" textLength=\"144\" x=\"649\" y=\"511.1387\">«timeslice occurrence»</text><text fill=\"#000000\" font-family=\"sans-serif\" font-size=\"12\" lengthAdjust=\"spacingAndGlyphs\" textLength=\"13\" x=\"714.5\" y=\"525.1074\">t2</text><line style=\"stroke: #383838; stroke-width: 1.5;\" x1=\"649\" x2=\"793\" y1=\"532.9375\" y2=\"532.9375\"/></a><!--MD5=[96f4274e9e20536e775497830990834d]\n",
       "class E10--><a href=\"psysml:ca3e4eae-d888-4010-bdf5-da81d89d1eab\" target=\"_top\" title=\"psysml:ca3e4eae-d888-4010-bdf5-da81d89d1eab\" xlink:actuate=\"onRequest\" xlink:href=\"psysml:ca3e4eae-d888-4010-bdf5-da81d89d1eab\" xlink:show=\"new\" xlink:title=\"psysml:ca3e4eae-d888-4010-bdf5-da81d89d1eab\" xlink:type=\"simple\"><rect fill=\"#FFFFFF\" height=\"45.9375\" id=\"E10\" rx=\"10\" ry=\"10\" style=\"stroke: #383838; stroke-width: 1.5;\" width=\"149\" x=\"505.5\" y=\"41\"/><text fill=\"#000000\" font-family=\"sans-serif\" font-size=\"12\" font-style=\"italic\" lengthAdjust=\"spacingAndGlyphs\" textLength=\"147\" x=\"506.5\" y=\"57.1387\">«individual occurrence»</text><text fill=\"#000000\" font-family=\"sans-serif\" font-size=\"12\" lengthAdjust=\"spacingAndGlyphs\" textLength=\"77\" x=\"541.5\" y=\"71.1074\">ind: Ind, Occ</text><line style=\"stroke: #383838; stroke-width: 1.5;\" x1=\"506.5\" x2=\"653.5\" y1=\"78.9375\" y2=\"78.9375\"/></a><!--MD5=[1dd1bfd58a279cf63c5f349dbc8fc6a1]\n",
       "class E11--><a href=\"psysml:a7aa12fc-e204-4f0a-90f2-9ab0101a123a\" target=\"_top\" title=\"psysml:a7aa12fc-e204-4f0a-90f2-9ab0101a123a\" xlink:actuate=\"onRequest\" xlink:href=\"psysml:a7aa12fc-e204-4f0a-90f2-9ab0101a123a\" xlink:show=\"new\" xlink:title=\"psysml:a7aa12fc-e204-4f0a-90f2-9ab0101a123a\" xlink:type=\"simple\"><rect fill=\"#FFFFFF\" height=\"45.9375\" id=\"E11\" rx=\"10\" ry=\"10\" style=\"stroke: #383838; stroke-width: 1.5;\" width=\"150\" x=\"561\" y=\"162\"/><text fill=\"#000000\" font-family=\"sans-serif\" font-size=\"12\" font-style=\"italic\" lengthAdjust=\"spacingAndGlyphs\" textLength=\"148\" x=\"562\" y=\"178.1387\">«snapshot occurrence»</text><text fill=\"#000000\" font-family=\"sans-serif\" font-size=\"12\" lengthAdjust=\"spacingAndGlyphs\" textLength=\"15\" x=\"628.5\" y=\"192.1074\">s3</text><line style=\"stroke: #383838; stroke-width: 1.5;\" x1=\"562\" x2=\"710\" y1=\"199.9375\" y2=\"199.9375\"/></a><!--MD5=[49a0ec8f00dab7302a31f22d0f0fe584]\n",
       "class E12--><a href=\"psysml:5052c3e9-886b-4521-8bf3-18ad9cb470c5\" target=\"_top\" title=\"psysml:5052c3e9-886b-4521-8bf3-18ad9cb470c5\" xlink:actuate=\"onRequest\" xlink:href=\"psysml:5052c3e9-886b-4521-8bf3-18ad9cb470c5\" xlink:show=\"new\" xlink:title=\"psysml:5052c3e9-886b-4521-8bf3-18ad9cb470c5\" xlink:type=\"simple\"><rect fill=\"#FFFFFF\" height=\"45.9375\" id=\"E12\" rx=\"10\" ry=\"10\" style=\"stroke: #383838; stroke-width: 1.5;\" width=\"208\" x=\"746\" y=\"162\"/><text fill=\"#000000\" font-family=\"sans-serif\" font-size=\"12\" font-style=\"italic\" lengthAdjust=\"spacingAndGlyphs\" textLength=\"206\" x=\"747\" y=\"178.1387\">«individual timeslice occurrence»</text><text fill=\"#000000\" font-family=\"sans-serif\" font-size=\"12\" lengthAdjust=\"spacingAndGlyphs\" textLength=\"13\" x=\"843.5\" y=\"192.1074\">t3</text><line style=\"stroke: #383838; stroke-width: 1.5;\" x1=\"747\" x2=\"953\" y1=\"199.9375\" y2=\"199.9375\"/></a><!--MD5=[ee3c913d1a06f366521f9ef512b67efe]\n",
       "class E13--><a href=\"psysml:e6d8c0e1-46dd-40c0-98f9-8ea23118f8bb\" target=\"_top\" title=\"psysml:e6d8c0e1-46dd-40c0-98f9-8ea23118f8bb\" xlink:actuate=\"onRequest\" xlink:href=\"psysml:e6d8c0e1-46dd-40c0-98f9-8ea23118f8bb\" xlink:show=\"new\" xlink:title=\"psysml:e6d8c0e1-46dd-40c0-98f9-8ea23118f8bb\" xlink:type=\"simple\"><rect fill=\"#FFFFFF\" height=\"45.9375\" id=\"E13\" rx=\"10\" ry=\"10\" style=\"stroke: #383838; stroke-width: 1.5;\" width=\"212\" x=\"32\" y=\"283\"/><text fill=\"#000000\" font-family=\"sans-serif\" font-size=\"12\" font-style=\"italic\" lengthAdjust=\"spacingAndGlyphs\" textLength=\"210\" x=\"33\" y=\"299.1387\">«individual snapshot occurrence»</text><text fill=\"#000000\" font-family=\"sans-serif\" font-size=\"12\" lengthAdjust=\"spacingAndGlyphs\" textLength=\"42\" x=\"117\" y=\"313.1074\">s4: Ind</text><line style=\"stroke: #383838; stroke-width: 1.5;\" x1=\"33\" x2=\"243\" y1=\"320.9375\" y2=\"320.9375\"/></a><!--MD5=[209b3feb70ccb6233bfe1053d122c12c]\n",
       "reverse link E2 to E3--><a href=\"psysml:816d5179-2674-4631-83bc-f7d71b4237a7\" target=\"_top\" title=\"psysml:816d5179-2674-4631-83bc-f7d71b4237a7\" xlink:actuate=\"onRequest\" xlink:href=\"psysml:816d5179-2674-4631-83bc-f7d71b4237a7\" xlink:show=\"new\" xlink:title=\"psysml:816d5179-2674-4631-83bc-f7d71b4237a7\" xlink:type=\"simple\"><path d=\"M377.59,232.45 C360.78,249.83 344.04,268.76 333.23,282.93 \" fill=\"none\" id=\"E2&lt;-E3\" style=\"stroke: #383838; stroke-width: 1.0;\"/><polygon fill=\"#FFFFFF\" points=\"386.9,223,379.8401,224.4691,378.4809,231.5509,385.5407,230.0818,386.9,223\" style=\"stroke: #383838; stroke-width: 1.0;\"/></a><!--MD5=[05d275557350bfb9b23a4ef7222b4c39]\n",
       "link E3 to E2--><a href=\"psysml:eb3070f5-b0ea-4331-ac23-68f76765f53a\" target=\"_top\" title=\"psysml:eb3070f5-b0ea-4331-ac23-68f76765f53a\" xlink:actuate=\"onRequest\" xlink:href=\"psysml:eb3070f5-b0ea-4331-ac23-68f76765f53a\" xlink:show=\"new\" xlink:title=\"psysml:eb3070f5-b0ea-4331-ac23-68f76765f53a\" xlink:type=\"simple\"><path d=\"M354.17,282.93 C367.96,270.34 383.96,253.98 398.07,238.29 \" fill=\"none\" id=\"E3-&gt;E2\" style=\"stroke: #383838; stroke-width: 1.0;\"/><polygon fill=\"#FFFFFF\" points=\"411.4,223,404.1971,241.924,393.6412,232.7276,411.4,223\" style=\"stroke: #383838; stroke-width: 1.0;\"/><ellipse cx=\"398.9449\" cy=\"244.908\" fill=\"#383838\" rx=\"2\" ry=\"2\" style=\"stroke: #383838; stroke-width: 1.0;\"/><ellipse cx=\"391.405\" cy=\"238.3391\" fill=\"#383838\" rx=\"2\" ry=\"2\" style=\"stroke: #383838; stroke-width: 1.0;\"/></a><!--MD5=[9618e71518536f8baf3342ff6fdab317]\n",
       "reverse link E2 to E4--><a href=\"psysml:0447f336-2e88-4877-9a74-bac22478a75a\" target=\"_top\" title=\"psysml:0447f336-2e88-4877-9a74-bac22478a75a\" xlink:actuate=\"onRequest\" xlink:href=\"psysml:0447f336-2e88-4877-9a74-bac22478a75a\" xlink:show=\"new\" xlink:title=\"psysml:0447f336-2e88-4877-9a74-bac22478a75a\" xlink:type=\"simple\"><path d=\"M425.46,236.34 C426.62,252.61 429.17,269.81 432.6,282.93 \" fill=\"none\" id=\"E2&lt;-E4\" style=\"stroke: #383838; stroke-width: 1.0;\"/><polygon fill=\"#383838\" points=\"424.83,223,421.118,229.1823,425.397,234.9866,429.109,228.8043,424.83,223\" style=\"stroke: #383838; stroke-width: 1.0;\"/></a><!--MD5=[185131fc0dcab0a4505a2ebe144e961b]\n",
       "link E4 to E2--><a href=\"psysml:bbe7f0c0-75f0-4d42-b38b-c0f55f25890a\" target=\"_top\" title=\"psysml:bbe7f0c0-75f0-4d42-b38b-c0f55f25890a\" xlink:actuate=\"onRequest\" xlink:href=\"psysml:bbe7f0c0-75f0-4d42-b38b-c0f55f25890a\" xlink:show=\"new\" xlink:title=\"psysml:bbe7f0c0-75f0-4d42-b38b-c0f55f25890a\" xlink:type=\"simple\"><path d=\"M453.54,282.93 C454.33,271.65 453.8,257.34 452.26,243.21 \" fill=\"none\" id=\"E4-&gt;E2\" style=\"stroke: #383838; stroke-width: 1.0;\"/><polygon fill=\"#FFFFFF\" points=\"449.33,223,458.9844,240.7987,445.1294,242.8079,449.33,223\" style=\"stroke: #383838; stroke-width: 1.0;\"/><ellipse cx=\"457.8232\" cy=\"246.7267\" fill=\"#383838\" rx=\"2\" ry=\"2\" style=\"stroke: #383838; stroke-width: 1.0;\"/><ellipse cx=\"447.9267\" cy=\"248.1619\" fill=\"#383838\" rx=\"2\" ry=\"2\" style=\"stroke: #383838; stroke-width: 1.0;\"/></a><!--MD5=[4e1a83fab71cdb913c109063314ae896]\n",
       "reverse link E2 to E5--><a href=\"psysml:5c44c5f5-a434-4c27-9e5d-4b118f9f4fa1\" target=\"_top\" title=\"psysml:5c44c5f5-a434-4c27-9e5d-4b118f9f4fa1\" xlink:actuate=\"onRequest\" xlink:href=\"psysml:5c44c5f5-a434-4c27-9e5d-4b118f9f4fa1\" xlink:show=\"new\" xlink:title=\"psysml:5c44c5f5-a434-4c27-9e5d-4b118f9f4fa1\" xlink:type=\"simple\"><path d=\"M499.94,226.44 C531.22,245.33 567.25,267.1 593.44,282.92 \" fill=\"none\" id=\"E2&lt;-E5\" style=\"stroke: #383838; stroke-width: 1.0;\"/><polygon fill=\"#383838\" points=\"488.66,219.62,491.731,226.1445,498.9348,225.8191,495.8638,219.2947,488.66,219.62\" style=\"stroke: #383838; stroke-width: 1.0;\"/></a><!--MD5=[ce036f65110ae2351ccce5a81dc2e928]\n",
       "reverse link E2 to E6--><a href=\"psysml:f84da050-0b5f-49f5-998e-9b704fc66ebc\" target=\"_top\" title=\"psysml:f84da050-0b5f-49f5-998e-9b704fc66ebc\" xlink:actuate=\"onRequest\" xlink:href=\"psysml:f84da050-0b5f-49f5-998e-9b704fc66ebc\" xlink:show=\"new\" xlink:title=\"psysml:f84da050-0b5f-49f5-998e-9b704fc66ebc\" xlink:type=\"simple\"><path d=\"M501.1,217.48 C506.1,219.45 511.11,221.31 516,223 C528.17,227.2 677.81,264.18 770.71,287.02 \" fill=\"none\" id=\"E2&lt;-E6\" style=\"stroke: #383838; stroke-width: 1.0;\"/><polygon fill=\"#383838\" points=\"488.72,212.43,492.764,218.4004,499.8305,216.9638,495.7866,210.9934,488.72,212.43\" style=\"stroke: #383838; stroke-width: 1.0;\"/><text fill=\"#000000\" font-family=\"sans-serif\" font-size=\"13\" lengthAdjust=\"spacingAndGlyphs\" textLength=\"7\" x=\"755.791\" y=\"281.3662\">*</text></a><!--MD5=[3a9b96bfbf6b6ad89c494e81751bda47]\n",
       "link E5 to E7--><a href=\"psysml:5222325c-bb46-4e39-81f0-12dbae43365a\" target=\"_top\" title=\"psysml:5222325c-bb46-4e39-81f0-12dbae43365a\" xlink:actuate=\"onRequest\" xlink:href=\"psysml:5222325c-bb46-4e39-81f0-12dbae43365a\" xlink:show=\"new\" xlink:title=\"psysml:5222325c-bb46-4e39-81f0-12dbae43365a\" xlink:type=\"simple\"><path d=\"M630,329.06 C630,340.64 630,355.23 630,368.87 \" fill=\"none\" id=\"E5-&gt;E7\" style=\"stroke: #383838; stroke-width: 1.0;\"/><polygon fill=\"#FFFFFF\" points=\"630,388.98,623,369.98,637,369.98,630,388.98\" style=\"stroke: #383838; stroke-width: 1.0;\"/><ellipse cx=\"625\" cy=\"364.28\" fill=\"#383838\" rx=\"2\" ry=\"2\" style=\"stroke: #383838; stroke-width: 1.0;\"/><ellipse cx=\"635\" cy=\"364.28\" fill=\"#383838\" rx=\"2\" ry=\"2\" style=\"stroke: #383838; stroke-width: 1.0;\"/></a><!--MD5=[dc164f5e8a733ab456ef1add180e9e34]\n",
       "reverse link E7 to E8--><a href=\"psysml:62bbb331-bb03-464e-9e32-68694608bffc\" target=\"_top\" title=\"psysml:62bbb331-bb03-464e-9e32-68694608bffc\" xlink:actuate=\"onRequest\" xlink:href=\"psysml:62bbb331-bb03-464e-9e32-68694608bffc\" xlink:show=\"new\" xlink:title=\"psysml:62bbb331-bb03-464e-9e32-68694608bffc\" xlink:type=\"simple\"><path d=\"M601.55,445.16 C587.25,461.33 570.28,480.51 557.48,494.98 \" fill=\"none\" id=\"E7&lt;-E8\" style=\"stroke: #383838; stroke-width: 1.0;\"/><polygon fill=\"#383838\" points=\"610.49,435.06,603.5177,436.9004,602.5348,444.0442,609.5071,442.2038,610.49,435.06\" style=\"stroke: #383838; stroke-width: 1.0;\"/><text fill=\"#000000\" font-family=\"sans-serif\" font-size=\"13\" lengthAdjust=\"spacingAndGlyphs\" textLength=\"7\" x=\"554.7746\" y=\"483.8709\">*</text></a><!--MD5=[e4a10ef82d0e328e31cac39a31e58dda]\n",
       "reverse link E7 to E9--><a href=\"psysml:6940b1aa-8c0f-4381-86aa-7b3e10e8c0d6\" target=\"_top\" title=\"psysml:6940b1aa-8c0f-4381-86aa-7b3e10e8c0d6\" xlink:actuate=\"onRequest\" xlink:href=\"psysml:6940b1aa-8c0f-4381-86aa-7b3e10e8c0d6\" xlink:show=\"new\" xlink:title=\"psysml:6940b1aa-8c0f-4381-86aa-7b3e10e8c0d6\" xlink:type=\"simple\"><path d=\"M658.14,445.16 C672.29,461.33 689.07,480.51 701.73,494.98 \" fill=\"none\" id=\"E7&lt;-E9\" style=\"stroke: #383838; stroke-width: 1.0;\"/><polygon fill=\"#383838\" points=\"649.3,435.06,650.2496,442.2083,657.2133,444.0811,656.2637,436.9328,649.3,435.06\" style=\"stroke: #383838; stroke-width: 1.0;\"/><text fill=\"#000000\" font-family=\"sans-serif\" font-size=\"13\" lengthAdjust=\"spacingAndGlyphs\" textLength=\"7\" x=\"688.6106\" y=\"483.8709\">*</text></a><!--MD5=[a919e0967d6f3de553dc51b9865a1d6d]\n",
       "link E10 to E7--><a href=\"psysml:2d47db94-d209-4d22-9eae-73bfc16721f5\" target=\"_top\" title=\"psysml:2d47db94-d209-4d22-9eae-73bfc16721f5\" xlink:actuate=\"onRequest\" xlink:href=\"psysml:2d47db94-d209-4d22-9eae-73bfc16721f5\" xlink:show=\"new\" xlink:title=\"psysml:2d47db94-d209-4d22-9eae-73bfc16721f5\" xlink:type=\"simple\"><path d=\"M564.36,87.23 C542.92,120.68 510.65,184.15 544,223 C658.5,356.41 820.5,149.59 935,283 C997.65,355.99 847.73,388.27 736.59,401.86 \" fill=\"none\" id=\"E10-&gt;E7\" style=\"stroke: #383838; stroke-width: 1.0;\"/><polygon fill=\"#FFFFFF\" points=\"716.7,404.14,734.7756,395.0147,736.3754,408.923,716.7,404.14\" style=\"stroke: #383838; stroke-width: 1.0;\"/><ellipse cx=\"740.6668\" cy=\"396.3502\" fill=\"#383838\" rx=\"2\" ry=\"2\" style=\"stroke: #383838; stroke-width: 1.0;\"/><ellipse cx=\"741.8096\" cy=\"406.2847\" fill=\"#383838\" rx=\"2\" ry=\"2\" style=\"stroke: #383838; stroke-width: 1.0;\"/></a><!--MD5=[0f36bececdf0dff6e600d6f64214b0f1]\n",
       "link E10 to E2--><a href=\"psysml:6622b004-fc37-43f3-bc42-fdfacc696359\" target=\"_top\" title=\"psysml:6622b004-fc37-43f3-bc42-fdfacc696359\" xlink:actuate=\"onRequest\" xlink:href=\"psysml:6622b004-fc37-43f3-bc42-fdfacc696359\" xlink:show=\"new\" xlink:title=\"psysml:6622b004-fc37-43f3-bc42-fdfacc696359\" xlink:type=\"simple\"><path d=\"M552.69,87.1 C536.38,100.31 514.96,117.65 494.76,134.01 \" fill=\"none\" id=\"E10-&gt;E2\" style=\"stroke: #383838; stroke-width: 1.0;\"/><polygon fill=\"#FFFFFF\" points=\"478.94,146.81,489.301,129.4131,498.1112,140.2934,478.94,146.81\" style=\"stroke: #383838; stroke-width: 1.0;\"/><ellipse cx=\"494.9894\" cy=\"127.3805\" fill=\"#383838\" rx=\"2\" ry=\"2\" style=\"stroke: #383838; stroke-width: 1.0;\"/><ellipse cx=\"501.2824\" cy=\"135.1521\" fill=\"#383838\" rx=\"2\" ry=\"2\" style=\"stroke: #383838; stroke-width: 1.0;\"/></a><!--MD5=[de308be4a2431766a05a907a031c07fc]\n",
       "reverse link E10 to E11--><a href=\"psysml:973d09ca-2c85-400b-8a26-6e03e711a9dc\" target=\"_top\" title=\"psysml:973d09ca-2c85-400b-8a26-6e03e711a9dc\" xlink:actuate=\"onRequest\" xlink:href=\"psysml:973d09ca-2c85-400b-8a26-6e03e711a9dc\" xlink:show=\"new\" xlink:title=\"psysml:973d09ca-2c85-400b-8a26-6e03e711a9dc\" xlink:type=\"simple\"><path d=\"M595.95,98.9 C605.42,119.01 617.15,143.94 625.46,161.61 \" fill=\"none\" id=\"E10&lt;-E11\" style=\"stroke: #383838; stroke-width: 1.0;\"/><polygon fill=\"#383838\" points=\"590.4,87.1,589.3334,94.2318,595.5064,97.9593,596.573,90.8275,590.4,87.1\" style=\"stroke: #383838; stroke-width: 1.0;\"/></a><!--MD5=[1d54f998c6d5961a1a9184be73a7eb6c]\n",
       "reverse link E10 to E12--><a href=\"psysml:4b2dc275-57bf-47aa-bec9-3fe53972a958\" target=\"_top\" title=\"psysml:4b2dc275-57bf-47aa-bec9-3fe53972a958\" xlink:actuate=\"onRequest\" xlink:href=\"psysml:4b2dc275-57bf-47aa-bec9-3fe53972a958\" xlink:show=\"new\" xlink:title=\"psysml:4b2dc275-57bf-47aa-bec9-3fe53972a958\" xlink:type=\"simple\"><path d=\"M642.21,92.42 C689.99,113.48 755.13,142.19 799.66,161.81 \" fill=\"none\" id=\"E10&lt;-E12\" style=\"stroke: #383838; stroke-width: 1.0;\"/><polygon fill=\"#383838\" points=\"630.15,87.1,634.028,93.1796,641.1314,91.9382,637.2534,85.8586,630.15,87.1\" style=\"stroke: #383838; stroke-width: 1.0;\"/></a><!--MD5=[4a48077df6499cfcd20b62e8f5f37904]\n",
       "link E13 to E7--><a href=\"psysml:99db2ce7-7db4-4747-aea3-ba596a45b862\" target=\"_top\" title=\"psysml:99db2ce7-7db4-4747-aea3-ba596a45b862\" xlink:actuate=\"onRequest\" xlink:href=\"psysml:99db2ce7-7db4-4747-aea3-ba596a45b862\" xlink:show=\"new\" xlink:title=\"psysml:99db2ce7-7db4-4747-aea3-ba596a45b862\" xlink:type=\"simple\"><path d=\"M242.34,329.06 C325.16,346.56 440.49,370.94 523.8,388.55 \" fill=\"none\" id=\"E13-&gt;E7\" style=\"stroke: #383838; stroke-width: 1.0;\"/><polygon fill=\"#FFFFFF\" points=\"543.45,392.7,523.4123,395.6135,526.3115,381.917,543.45,392.7\" style=\"stroke: #383838; stroke-width: 1.0;\"/><ellipse cx=\"518.25\" cy=\"392.4765\" fill=\"#383838\" rx=\"2\" ry=\"2\" style=\"stroke: #383838; stroke-width: 1.0;\"/><ellipse cx=\"520.3209\" cy=\"382.6933\" fill=\"#383838\" rx=\"2\" ry=\"2\" style=\"stroke: #383838; stroke-width: 1.0;\"/></a><!--MD5=[acfbe98fe1036df1b80690eb853a1706]\n",
       "@startuml\r\n",
       "skinparam monochrome true\r\n",
       "skinparam classbackgroundcolor white\r\n",
       "skinparam shadowing false\r\n",
       "skinparam wrapWidth 300\r\n",
       "hide circle\r\n",
       "\r\n",
       "package \"OccurrenceTest\" as E1  [[psysml:e6ab502d-dafd-416a-a255-3fa3ad3c263c ]]  {\r\n",
       "comp def \"Occ\" as E2  <<(T,blue) occurrence def>> [[psysml:1203d309-d98c-452c-84ab-9db93e8b8d83 ]] {\r\n",
       "- - attributes - -\r\n",
       "a\r\n",
       "}\r\n",
       "comp usage \"occ1: Occ\" as E3  <<(T,blue) occurrence>> [[psysml:158a345e-3640-4aa1-8638-58b6699698f0 ]] {\r\n",
       "}\r\n",
       "comp usage \"occ2: Occ\" as E4  <<(T,blue) occurrence>> [[psysml:5ccc27c3-07b1-4713-880e-82008912fb62 ]] {\r\n",
       "}\r\n",
       "comp usage \"s: Ind\" as E5  <<(T,blue) individual snapshot occurrence>> [[psysml:b931cfcd-d1f5-4c70-b44c-3b4fd21c9018 ]] {\r\n",
       "}\r\n",
       "comp usage \"t\" as E6  <<(T,blue) timeslice occurrence>> [[psysml:a76dffb5-cb4a-4142-b15c-9dbeb6bd2474 ]] {\r\n",
       "}\r\n",
       "comp def \"Ind\" as E7  <<(T,blue) individual occurrence def>> [[psysml:cddcce1d-840d-4259-9672-1cad32ef9616 ]] {\r\n",
       "}\r\n",
       "comp usage \"s2\" as E8  <<(T,blue) snapshot occurrence>> [[psysml:760118bf-f26e-45fa-9528-0dbdf12ed33d ]] {\r\n",
       "}\r\n",
       "comp usage \"t2\" as E9  <<(T,blue) timeslice occurrence>> [[psysml:6916c4a6-d3e9-4718-9bd3-b4da3843528f ]] {\r\n",
       "}\r\n",
       "comp usage \"ind: Ind, Occ\" as E10  <<(T,blue) individual occurrence>> [[psysml:ca3e4eae-d888-4010-bdf5-da81d89d1eab ]] {\r\n",
       "}\r\n",
       "comp usage \"s3\" as E11  <<(T,blue) snapshot occurrence>> [[psysml:a7aa12fc-e204-4f0a-90f2-9ab0101a123a ]] {\r\n",
       "}\r\n",
       "comp usage \"t3\" as E12  <<(T,blue) individual timeslice occurrence>> [[psysml:5052c3e9-886b-4521-8bf3-18ad9cb470c5 ]] {\r\n",
       "}\r\n",
       "comp usage \"s4: Ind\" as E13  <<(T,blue) individual snapshot occurrence>> [[psysml:e6d8c0e1-46dd-40c0-98f9-8ea23118f8bb ]] {\r\n",
       "}\r\n",
       "}\r\n",
       "E2 o- - E3 [[psysml:816d5179-2674-4631-83bc-f7d71b4237a7 ]] \r\n",
       "E3 - -:|> E2 [[psysml:eb3070f5-b0ea-4331-ac23-68f76765f53a ]] \r\n",
       "E2 *- - E4 [[psysml:0447f336-2e88-4877-9a74-bac22478a75a ]] \r\n",
       "E4 - -:|> E2 [[psysml:bbe7f0c0-75f0-4d42-b38b-c0f55f25890a ]] \r\n",
       "E2 *- - E5 [[psysml:5c44c5f5-a434-4c27-9e5d-4b118f9f4fa1 ]] \r\n",
       "E2 *- - \"*\"E6 [[psysml:f84da050-0b5f-49f5-998e-9b704fc66ebc ]] \r\n",
       "E5 - -:|> E7 [[psysml:5222325c-bb46-4e39-81f0-12dbae43365a ]] \r\n",
       "E7 *- - \"*\"E8 [[psysml:62bbb331-bb03-464e-9e32-68694608bffc ]] \r\n",
       "E7 *- - \"*\"E9 [[psysml:6940b1aa-8c0f-4381-86aa-7b3e10e8c0d6 ]] \r\n",
       "E10 - -:|> E7 [[psysml:2d47db94-d209-4d22-9eae-73bfc16721f5 ]] \r\n",
       "E10 - -:|> E2 [[psysml:6622b004-fc37-43f3-bc42-fdfacc696359 ]] \r\n",
       "E10 *- - E11 [[psysml:973d09ca-2c85-400b-8a26-6e03e711a9dc ]] \r\n",
       "E10 *- - E12 [[psysml:4b2dc275-57bf-47aa-bec9-3fe53972a958 ]] \r\n",
       "E13 - -:|> E7 [[psysml:99db2ce7-7db4-4747-aea3-ba596a45b862 ]] \r\n",
       "@enduml\r\n",
       "\n",
       "PlantUML version 1.2020.13(Sat Jun 13 12:26:38 UTC 2020)\n",
       "(EPL source distribution)\n",
       "Java Runtime: OpenJDK Runtime Environment\n",
       "JVM: OpenJDK 64-Bit Server VM\n",
       "Default Encoding: UTF-8\n",
       "Language: en\n",
       "Country: null\n",
       "--></g></svg>"
      ]
     },
     "execution_count": 43,
     "metadata": {},
     "output_type": "execute_result"
    }
   ],
   "source": [
    "%viz --style=\"DEFAULT\" --view=\"MIXED\" \"OccurrenceTest\""
   ]
  },
  {
   "cell_type": "code",
   "execution_count": 44,
   "id": "c986ec61",
   "metadata": {
    "execution": {
     "iopub.execute_input": "2021-10-03T08:28:45.667837Z",
     "iopub.status.busy": "2021-10-03T08:28:45.667432Z",
     "iopub.status.idle": "2021-10-03T08:28:45.720310Z",
     "shell.execute_reply": "2021-10-03T08:28:45.719958Z"
    }
   },
   "outputs": [
    {
     "data": {
      "image/svg+xml": [
       "<?xml version=\"1.0\" encoding=\"UTF-8\" standalone=\"no\"?><svg xmlns=\"http://www.w3.org/2000/svg\" xmlns:xlink=\"http://www.w3.org/1999/xlink\" contentScriptType=\"application/ecmascript\" contentStyleType=\"text/css\" height=\"569px\" preserveAspectRatio=\"none\" style=\"width:1009px;height:569px;\" version=\"1.1\" viewBox=\"0 0 1009 569\" width=\"1009px\" zoomAndPan=\"magnify\"><defs/><g><!--MD5=[fbc87193dbaf4d95561dea2c320d4a47]\n",
       "cluster E1--><a href=\"psysml:e6ab502d-dafd-416a-a255-3fa3ad3c263c\" target=\"_top\" title=\"psysml:e6ab502d-dafd-416a-a255-3fa3ad3c263c\" xlink:actuate=\"onRequest\" xlink:href=\"psysml:e6ab502d-dafd-416a-a255-3fa3ad3c263c\" xlink:show=\"new\" xlink:title=\"psysml:e6ab502d-dafd-416a-a255-3fa3ad3c263c\" xlink:type=\"simple\"><polygon fill=\"#FFFFFF\" points=\"16,6,134,6,141,28.2969,970,28.2969,970,557,16,557,16,6\" style=\"stroke: #000000; stroke-width: 1.5;\"/><line style=\"stroke: #000000; stroke-width: 1.5;\" x1=\"16\" x2=\"141\" y1=\"28.2969\" y2=\"28.2969\"/><text fill=\"#000000\" font-family=\"sans-serif\" font-size=\"14\" font-weight=\"bold\" lengthAdjust=\"spacingAndGlyphs\" textLength=\"112\" x=\"20\" y=\"20.9951\">OccurrenceTest</text></a><!--MD5=[b4997ac47864f28c2f74865a473b2911]\n",
       "class E2--><a href=\"psysml:1203d309-d98c-452c-84ab-9db93e8b8d83\" target=\"_top\" title=\"psysml:1203d309-d98c-452c-84ab-9db93e8b8d83\" xlink:actuate=\"onRequest\" xlink:href=\"psysml:1203d309-d98c-452c-84ab-9db93e8b8d83\" xlink:show=\"new\" xlink:title=\"psysml:1203d309-d98c-452c-84ab-9db93e8b8d83\" xlink:type=\"simple\"><rect fill=\"#FFFFFF\" height=\"75.5469\" id=\"E2\" style=\"stroke: #383838; stroke-width: 1.5;\" width=\"111\" x=\"377.5\" y=\"147\"/><text fill=\"#000000\" font-family=\"sans-serif\" font-size=\"12\" font-style=\"italic\" lengthAdjust=\"spacingAndGlyphs\" textLength=\"109\" x=\"378.5\" y=\"163.1387\">«occurrence def»</text><text fill=\"#000000\" font-family=\"sans-serif\" font-size=\"12\" lengthAdjust=\"spacingAndGlyphs\" textLength=\"23\" x=\"421.5\" y=\"177.1074\">Occ</text><line style=\"stroke: #383838; stroke-width: 1.5;\" x1=\"378.5\" x2=\"487.5\" y1=\"184.9375\" y2=\"184.9375\"/><text fill=\"#000000\" font-family=\"sans-serif\" font-size=\"11\" lengthAdjust=\"spacingAndGlyphs\" textLength=\"7\" x=\"383.5\" y=\"215.9526\">a</text><line style=\"stroke: #383838; stroke-width: 1.0;\" x1=\"378.5\" x2=\"405.5\" y1=\"199.3398\" y2=\"199.3398\"/><text fill=\"#000000\" font-family=\"sans-serif\" font-size=\"11\" lengthAdjust=\"spacingAndGlyphs\" textLength=\"55\" x=\"405.5\" y=\"202.6479\">attributes</text><line style=\"stroke: #383838; stroke-width: 1.0;\" x1=\"460.5\" x2=\"487.5\" y1=\"199.3398\" y2=\"199.3398\"/></a><!--MD5=[09b614a08d8cba4a07c9adeb5e0fee81]\n",
       "class E3--><a href=\"psysml:158a345e-3640-4aa1-8638-58b6699698f0\" target=\"_top\" title=\"psysml:158a345e-3640-4aa1-8638-58b6699698f0\" xlink:actuate=\"onRequest\" xlink:href=\"psysml:158a345e-3640-4aa1-8638-58b6699698f0\" xlink:show=\"new\" xlink:title=\"psysml:158a345e-3640-4aa1-8638-58b6699698f0\" xlink:type=\"simple\"><rect fill=\"#FFFFFF\" height=\"45.9375\" id=\"E3\" rx=\"10\" ry=\"10\" style=\"stroke: #383838; stroke-width: 1.5;\" width=\"87\" x=\"279.5\" y=\"283\"/><text fill=\"#000000\" font-family=\"sans-serif\" font-size=\"12\" font-style=\"italic\" lengthAdjust=\"spacingAndGlyphs\" textLength=\"85\" x=\"280.5\" y=\"299.1387\">«occurrence»</text><text fill=\"#000000\" font-family=\"sans-serif\" font-size=\"12\" lengthAdjust=\"spacingAndGlyphs\" textLength=\"61\" x=\"292.5\" y=\"313.1074\">occ1: Occ</text><line style=\"stroke: #383838; stroke-width: 1.5;\" x1=\"280.5\" x2=\"365.5\" y1=\"320.9375\" y2=\"320.9375\"/></a><!--MD5=[ebbe1d658d1005bcc118a6aa81145e00]\n",
       "class E4--><a href=\"psysml:5ccc27c3-07b1-4713-880e-82008912fb62\" target=\"_top\" title=\"psysml:5ccc27c3-07b1-4713-880e-82008912fb62\" xlink:actuate=\"onRequest\" xlink:href=\"psysml:5ccc27c3-07b1-4713-880e-82008912fb62\" xlink:show=\"new\" xlink:title=\"psysml:5ccc27c3-07b1-4713-880e-82008912fb62\" xlink:type=\"simple\"><rect fill=\"#FFFFFF\" height=\"45.9375\" id=\"E4\" rx=\"10\" ry=\"10\" style=\"stroke: #383838; stroke-width: 1.5;\" width=\"87\" x=\"401.5\" y=\"283\"/><text fill=\"#000000\" font-family=\"sans-serif\" font-size=\"12\" font-style=\"italic\" lengthAdjust=\"spacingAndGlyphs\" textLength=\"85\" x=\"402.5\" y=\"299.1387\">«occurrence»</text><text fill=\"#000000\" font-family=\"sans-serif\" font-size=\"12\" lengthAdjust=\"spacingAndGlyphs\" textLength=\"61\" x=\"414.5\" y=\"313.1074\">occ2: Occ</text><line style=\"stroke: #383838; stroke-width: 1.5;\" x1=\"402.5\" x2=\"487.5\" y1=\"320.9375\" y2=\"320.9375\"/></a><!--MD5=[270fce915f116d4de14055a7c1d9a0f3]\n",
       "class E5--><a href=\"psysml:b931cfcd-d1f5-4c70-b44c-3b4fd21c9018\" target=\"_top\" title=\"psysml:b931cfcd-d1f5-4c70-b44c-3b4fd21c9018\" xlink:actuate=\"onRequest\" xlink:href=\"psysml:b931cfcd-d1f5-4c70-b44c-3b4fd21c9018\" xlink:show=\"new\" xlink:title=\"psysml:b931cfcd-d1f5-4c70-b44c-3b4fd21c9018\" xlink:type=\"simple\"><rect fill=\"#FFFFFF\" height=\"45.9375\" id=\"E5\" rx=\"10\" ry=\"10\" style=\"stroke: #383838; stroke-width: 1.5;\" width=\"212\" x=\"524\" y=\"283\"/><text fill=\"#000000\" font-family=\"sans-serif\" font-size=\"12\" font-style=\"italic\" lengthAdjust=\"spacingAndGlyphs\" textLength=\"210\" x=\"525\" y=\"299.1387\">«individual snapshot occurrence»</text><text fill=\"#000000\" font-family=\"sans-serif\" font-size=\"12\" lengthAdjust=\"spacingAndGlyphs\" textLength=\"34\" x=\"613\" y=\"313.1074\">s: Ind</text><line style=\"stroke: #383838; stroke-width: 1.5;\" x1=\"525\" x2=\"735\" y1=\"320.9375\" y2=\"320.9375\"/></a><!--MD5=[60a26617385b1d2d0262a64233df1f8d]\n",
       "class E6--><a href=\"psysml:a76dffb5-cb4a-4142-b15c-9dbeb6bd2474\" target=\"_top\" title=\"psysml:a76dffb5-cb4a-4142-b15c-9dbeb6bd2474\" xlink:actuate=\"onRequest\" xlink:href=\"psysml:a76dffb5-cb4a-4142-b15c-9dbeb6bd2474\" xlink:show=\"new\" xlink:title=\"psysml:a76dffb5-cb4a-4142-b15c-9dbeb6bd2474\" xlink:type=\"simple\"><rect fill=\"#FFFFFF\" height=\"45.9375\" id=\"E6\" rx=\"10\" ry=\"10\" style=\"stroke: #383838; stroke-width: 1.5;\" width=\"146\" x=\"771\" y=\"283\"/><text fill=\"#000000\" font-family=\"sans-serif\" font-size=\"12\" font-style=\"italic\" lengthAdjust=\"spacingAndGlyphs\" textLength=\"144\" x=\"772\" y=\"299.1387\">«timeslice occurrence»</text><text fill=\"#000000\" font-family=\"sans-serif\" font-size=\"12\" lengthAdjust=\"spacingAndGlyphs\" textLength=\"5\" x=\"841.5\" y=\"313.1074\">t</text><line style=\"stroke: #383838; stroke-width: 1.5;\" x1=\"772\" x2=\"916\" y1=\"320.9375\" y2=\"320.9375\"/></a><!--MD5=[2156ba9850f5573cc1fc38a6a4b2f02b]\n",
       "class E7--><a href=\"psysml:cddcce1d-840d-4259-9672-1cad32ef9616\" target=\"_top\" title=\"psysml:cddcce1d-840d-4259-9672-1cad32ef9616\" xlink:actuate=\"onRequest\" xlink:href=\"psysml:cddcce1d-840d-4259-9672-1cad32ef9616\" xlink:show=\"new\" xlink:title=\"psysml:cddcce1d-840d-4259-9672-1cad32ef9616\" xlink:type=\"simple\"><rect fill=\"#FFFFFF\" height=\"45.9375\" id=\"E7\" style=\"stroke: #383838; stroke-width: 1.5;\" width=\"173\" x=\"543.5\" y=\"389\"/><text fill=\"#000000\" font-family=\"sans-serif\" font-size=\"12\" font-style=\"italic\" lengthAdjust=\"spacingAndGlyphs\" textLength=\"171\" x=\"544.5\" y=\"405.1387\">«individual occurrence def»</text><text fill=\"#000000\" font-family=\"sans-serif\" font-size=\"12\" lengthAdjust=\"spacingAndGlyphs\" textLength=\"19\" x=\"620.5\" y=\"419.1074\">Ind</text><line style=\"stroke: #383838; stroke-width: 1.5;\" x1=\"544.5\" x2=\"715.5\" y1=\"426.9375\" y2=\"426.9375\"/></a><!--MD5=[b9389687b975829384b498ac4b7476b2]\n",
       "class E8--><a href=\"psysml:760118bf-f26e-45fa-9528-0dbdf12ed33d\" target=\"_top\" title=\"psysml:760118bf-f26e-45fa-9528-0dbdf12ed33d\" xlink:actuate=\"onRequest\" xlink:href=\"psysml:760118bf-f26e-45fa-9528-0dbdf12ed33d\" xlink:show=\"new\" xlink:title=\"psysml:760118bf-f26e-45fa-9528-0dbdf12ed33d\" xlink:type=\"simple\"><rect fill=\"#FFFFFF\" height=\"45.9375\" id=\"E8\" rx=\"10\" ry=\"10\" style=\"stroke: #383838; stroke-width: 1.5;\" width=\"150\" x=\"463\" y=\"495\"/><text fill=\"#000000\" font-family=\"sans-serif\" font-size=\"12\" font-style=\"italic\" lengthAdjust=\"spacingAndGlyphs\" textLength=\"148\" x=\"464\" y=\"511.1387\">«snapshot occurrence»</text><text fill=\"#000000\" font-family=\"sans-serif\" font-size=\"12\" lengthAdjust=\"spacingAndGlyphs\" textLength=\"15\" x=\"530.5\" y=\"525.1074\">s2</text><line style=\"stroke: #383838; stroke-width: 1.5;\" x1=\"464\" x2=\"612\" y1=\"532.9375\" y2=\"532.9375\"/></a><!--MD5=[fd4143e9d270a159db93a4ea2a975926]\n",
       "class E9--><a href=\"psysml:6916c4a6-d3e9-4718-9bd3-b4da3843528f\" target=\"_top\" title=\"psysml:6916c4a6-d3e9-4718-9bd3-b4da3843528f\" xlink:actuate=\"onRequest\" xlink:href=\"psysml:6916c4a6-d3e9-4718-9bd3-b4da3843528f\" xlink:show=\"new\" xlink:title=\"psysml:6916c4a6-d3e9-4718-9bd3-b4da3843528f\" xlink:type=\"simple\"><rect fill=\"#FFFFFF\" height=\"45.9375\" id=\"E9\" rx=\"10\" ry=\"10\" style=\"stroke: #383838; stroke-width: 1.5;\" width=\"146\" x=\"648\" y=\"495\"/><text fill=\"#000000\" font-family=\"sans-serif\" font-size=\"12\" font-style=\"italic\" lengthAdjust=\"spacingAndGlyphs\" textLength=\"144\" x=\"649\" y=\"511.1387\">«timeslice occurrence»</text><text fill=\"#000000\" font-family=\"sans-serif\" font-size=\"12\" lengthAdjust=\"spacingAndGlyphs\" textLength=\"13\" x=\"714.5\" y=\"525.1074\">t2</text><line style=\"stroke: #383838; stroke-width: 1.5;\" x1=\"649\" x2=\"793\" y1=\"532.9375\" y2=\"532.9375\"/></a><!--MD5=[96f4274e9e20536e775497830990834d]\n",
       "class E10--><a href=\"psysml:ca3e4eae-d888-4010-bdf5-da81d89d1eab\" target=\"_top\" title=\"psysml:ca3e4eae-d888-4010-bdf5-da81d89d1eab\" xlink:actuate=\"onRequest\" xlink:href=\"psysml:ca3e4eae-d888-4010-bdf5-da81d89d1eab\" xlink:show=\"new\" xlink:title=\"psysml:ca3e4eae-d888-4010-bdf5-da81d89d1eab\" xlink:type=\"simple\"><rect fill=\"#FFFFFF\" height=\"45.9375\" id=\"E10\" rx=\"10\" ry=\"10\" style=\"stroke: #383838; stroke-width: 1.5;\" width=\"149\" x=\"505.5\" y=\"41\"/><text fill=\"#000000\" font-family=\"sans-serif\" font-size=\"12\" font-style=\"italic\" lengthAdjust=\"spacingAndGlyphs\" textLength=\"147\" x=\"506.5\" y=\"57.1387\">«individual occurrence»</text><text fill=\"#000000\" font-family=\"sans-serif\" font-size=\"12\" lengthAdjust=\"spacingAndGlyphs\" textLength=\"77\" x=\"541.5\" y=\"71.1074\">ind: Ind, Occ</text><line style=\"stroke: #383838; stroke-width: 1.5;\" x1=\"506.5\" x2=\"653.5\" y1=\"78.9375\" y2=\"78.9375\"/></a><!--MD5=[1dd1bfd58a279cf63c5f349dbc8fc6a1]\n",
       "class E11--><a href=\"psysml:a7aa12fc-e204-4f0a-90f2-9ab0101a123a\" target=\"_top\" title=\"psysml:a7aa12fc-e204-4f0a-90f2-9ab0101a123a\" xlink:actuate=\"onRequest\" xlink:href=\"psysml:a7aa12fc-e204-4f0a-90f2-9ab0101a123a\" xlink:show=\"new\" xlink:title=\"psysml:a7aa12fc-e204-4f0a-90f2-9ab0101a123a\" xlink:type=\"simple\"><rect fill=\"#FFFFFF\" height=\"45.9375\" id=\"E11\" rx=\"10\" ry=\"10\" style=\"stroke: #383838; stroke-width: 1.5;\" width=\"150\" x=\"561\" y=\"162\"/><text fill=\"#000000\" font-family=\"sans-serif\" font-size=\"12\" font-style=\"italic\" lengthAdjust=\"spacingAndGlyphs\" textLength=\"148\" x=\"562\" y=\"178.1387\">«snapshot occurrence»</text><text fill=\"#000000\" font-family=\"sans-serif\" font-size=\"12\" lengthAdjust=\"spacingAndGlyphs\" textLength=\"15\" x=\"628.5\" y=\"192.1074\">s3</text><line style=\"stroke: #383838; stroke-width: 1.5;\" x1=\"562\" x2=\"710\" y1=\"199.9375\" y2=\"199.9375\"/></a><!--MD5=[49a0ec8f00dab7302a31f22d0f0fe584]\n",
       "class E12--><a href=\"psysml:5052c3e9-886b-4521-8bf3-18ad9cb470c5\" target=\"_top\" title=\"psysml:5052c3e9-886b-4521-8bf3-18ad9cb470c5\" xlink:actuate=\"onRequest\" xlink:href=\"psysml:5052c3e9-886b-4521-8bf3-18ad9cb470c5\" xlink:show=\"new\" xlink:title=\"psysml:5052c3e9-886b-4521-8bf3-18ad9cb470c5\" xlink:type=\"simple\"><rect fill=\"#FFFFFF\" height=\"45.9375\" id=\"E12\" rx=\"10\" ry=\"10\" style=\"stroke: #383838; stroke-width: 1.5;\" width=\"208\" x=\"746\" y=\"162\"/><text fill=\"#000000\" font-family=\"sans-serif\" font-size=\"12\" font-style=\"italic\" lengthAdjust=\"spacingAndGlyphs\" textLength=\"206\" x=\"747\" y=\"178.1387\">«individual timeslice occurrence»</text><text fill=\"#000000\" font-family=\"sans-serif\" font-size=\"12\" lengthAdjust=\"spacingAndGlyphs\" textLength=\"13\" x=\"843.5\" y=\"192.1074\">t3</text><line style=\"stroke: #383838; stroke-width: 1.5;\" x1=\"747\" x2=\"953\" y1=\"199.9375\" y2=\"199.9375\"/></a><!--MD5=[ee3c913d1a06f366521f9ef512b67efe]\n",
       "class E13--><a href=\"psysml:e6d8c0e1-46dd-40c0-98f9-8ea23118f8bb\" target=\"_top\" title=\"psysml:e6d8c0e1-46dd-40c0-98f9-8ea23118f8bb\" xlink:actuate=\"onRequest\" xlink:href=\"psysml:e6d8c0e1-46dd-40c0-98f9-8ea23118f8bb\" xlink:show=\"new\" xlink:title=\"psysml:e6d8c0e1-46dd-40c0-98f9-8ea23118f8bb\" xlink:type=\"simple\"><rect fill=\"#FFFFFF\" height=\"45.9375\" id=\"E13\" rx=\"10\" ry=\"10\" style=\"stroke: #383838; stroke-width: 1.5;\" width=\"212\" x=\"32\" y=\"283\"/><text fill=\"#000000\" font-family=\"sans-serif\" font-size=\"12\" font-style=\"italic\" lengthAdjust=\"spacingAndGlyphs\" textLength=\"210\" x=\"33\" y=\"299.1387\">«individual snapshot occurrence»</text><text fill=\"#000000\" font-family=\"sans-serif\" font-size=\"12\" lengthAdjust=\"spacingAndGlyphs\" textLength=\"42\" x=\"117\" y=\"313.1074\">s4: Ind</text><line style=\"stroke: #383838; stroke-width: 1.5;\" x1=\"33\" x2=\"243\" y1=\"320.9375\" y2=\"320.9375\"/></a><!--MD5=[209b3feb70ccb6233bfe1053d122c12c]\n",
       "reverse link E2 to E3--><a href=\"psysml:816d5179-2674-4631-83bc-f7d71b4237a7\" target=\"_top\" title=\"psysml:816d5179-2674-4631-83bc-f7d71b4237a7\" xlink:actuate=\"onRequest\" xlink:href=\"psysml:816d5179-2674-4631-83bc-f7d71b4237a7\" xlink:show=\"new\" xlink:title=\"psysml:816d5179-2674-4631-83bc-f7d71b4237a7\" xlink:type=\"simple\"><path d=\"M377.59,232.45 C360.78,249.83 344.04,268.76 333.23,282.93 \" fill=\"none\" id=\"E2&lt;-E3\" style=\"stroke: #383838; stroke-width: 1.0;\"/><polygon fill=\"#FFFFFF\" points=\"386.9,223,379.8401,224.4691,378.4809,231.5509,385.5407,230.0818,386.9,223\" style=\"stroke: #383838; stroke-width: 1.0;\"/></a><!--MD5=[05d275557350bfb9b23a4ef7222b4c39]\n",
       "link E3 to E2--><a href=\"psysml:eb3070f5-b0ea-4331-ac23-68f76765f53a\" target=\"_top\" title=\"psysml:eb3070f5-b0ea-4331-ac23-68f76765f53a\" xlink:actuate=\"onRequest\" xlink:href=\"psysml:eb3070f5-b0ea-4331-ac23-68f76765f53a\" xlink:show=\"new\" xlink:title=\"psysml:eb3070f5-b0ea-4331-ac23-68f76765f53a\" xlink:type=\"simple\"><path d=\"M354.17,282.93 C367.96,270.34 383.96,253.98 398.07,238.29 \" fill=\"none\" id=\"E3-&gt;E2\" style=\"stroke: #383838; stroke-width: 1.0;\"/><polygon fill=\"#FFFFFF\" points=\"411.4,223,404.1971,241.924,393.6412,232.7276,411.4,223\" style=\"stroke: #383838; stroke-width: 1.0;\"/><ellipse cx=\"398.9449\" cy=\"244.908\" fill=\"#383838\" rx=\"2\" ry=\"2\" style=\"stroke: #383838; stroke-width: 1.0;\"/><ellipse cx=\"391.405\" cy=\"238.3391\" fill=\"#383838\" rx=\"2\" ry=\"2\" style=\"stroke: #383838; stroke-width: 1.0;\"/></a><!--MD5=[9618e71518536f8baf3342ff6fdab317]\n",
       "reverse link E2 to E4--><a href=\"psysml:0447f336-2e88-4877-9a74-bac22478a75a\" target=\"_top\" title=\"psysml:0447f336-2e88-4877-9a74-bac22478a75a\" xlink:actuate=\"onRequest\" xlink:href=\"psysml:0447f336-2e88-4877-9a74-bac22478a75a\" xlink:show=\"new\" xlink:title=\"psysml:0447f336-2e88-4877-9a74-bac22478a75a\" xlink:type=\"simple\"><path d=\"M425.46,236.34 C426.62,252.61 429.17,269.81 432.6,282.93 \" fill=\"none\" id=\"E2&lt;-E4\" style=\"stroke: #383838; stroke-width: 1.0;\"/><polygon fill=\"#383838\" points=\"424.83,223,421.118,229.1823,425.397,234.9866,429.109,228.8043,424.83,223\" style=\"stroke: #383838; stroke-width: 1.0;\"/></a><!--MD5=[185131fc0dcab0a4505a2ebe144e961b]\n",
       "link E4 to E2--><a href=\"psysml:bbe7f0c0-75f0-4d42-b38b-c0f55f25890a\" target=\"_top\" title=\"psysml:bbe7f0c0-75f0-4d42-b38b-c0f55f25890a\" xlink:actuate=\"onRequest\" xlink:href=\"psysml:bbe7f0c0-75f0-4d42-b38b-c0f55f25890a\" xlink:show=\"new\" xlink:title=\"psysml:bbe7f0c0-75f0-4d42-b38b-c0f55f25890a\" xlink:type=\"simple\"><path d=\"M453.54,282.93 C454.33,271.65 453.8,257.34 452.26,243.21 \" fill=\"none\" id=\"E4-&gt;E2\" style=\"stroke: #383838; stroke-width: 1.0;\"/><polygon fill=\"#FFFFFF\" points=\"449.33,223,458.9844,240.7987,445.1294,242.8079,449.33,223\" style=\"stroke: #383838; stroke-width: 1.0;\"/><ellipse cx=\"457.8232\" cy=\"246.7267\" fill=\"#383838\" rx=\"2\" ry=\"2\" style=\"stroke: #383838; stroke-width: 1.0;\"/><ellipse cx=\"447.9267\" cy=\"248.1619\" fill=\"#383838\" rx=\"2\" ry=\"2\" style=\"stroke: #383838; stroke-width: 1.0;\"/></a><!--MD5=[4e1a83fab71cdb913c109063314ae896]\n",
       "reverse link E2 to E5--><a href=\"psysml:5c44c5f5-a434-4c27-9e5d-4b118f9f4fa1\" target=\"_top\" title=\"psysml:5c44c5f5-a434-4c27-9e5d-4b118f9f4fa1\" xlink:actuate=\"onRequest\" xlink:href=\"psysml:5c44c5f5-a434-4c27-9e5d-4b118f9f4fa1\" xlink:show=\"new\" xlink:title=\"psysml:5c44c5f5-a434-4c27-9e5d-4b118f9f4fa1\" xlink:type=\"simple\"><path d=\"M499.94,226.44 C531.22,245.33 567.25,267.1 593.44,282.92 \" fill=\"none\" id=\"E2&lt;-E5\" style=\"stroke: #383838; stroke-width: 1.0;\"/><polygon fill=\"#383838\" points=\"488.66,219.62,491.731,226.1445,498.9348,225.8191,495.8638,219.2947,488.66,219.62\" style=\"stroke: #383838; stroke-width: 1.0;\"/></a><!--MD5=[ce036f65110ae2351ccce5a81dc2e928]\n",
       "reverse link E2 to E6--><a href=\"psysml:f84da050-0b5f-49f5-998e-9b704fc66ebc\" target=\"_top\" title=\"psysml:f84da050-0b5f-49f5-998e-9b704fc66ebc\" xlink:actuate=\"onRequest\" xlink:href=\"psysml:f84da050-0b5f-49f5-998e-9b704fc66ebc\" xlink:show=\"new\" xlink:title=\"psysml:f84da050-0b5f-49f5-998e-9b704fc66ebc\" xlink:type=\"simple\"><path d=\"M501.1,217.48 C506.1,219.45 511.11,221.31 516,223 C528.17,227.2 677.81,264.18 770.71,287.02 \" fill=\"none\" id=\"E2&lt;-E6\" style=\"stroke: #383838; stroke-width: 1.0;\"/><polygon fill=\"#383838\" points=\"488.72,212.43,492.764,218.4004,499.8305,216.9638,495.7866,210.9934,488.72,212.43\" style=\"stroke: #383838; stroke-width: 1.0;\"/><text fill=\"#000000\" font-family=\"sans-serif\" font-size=\"13\" lengthAdjust=\"spacingAndGlyphs\" textLength=\"7\" x=\"755.791\" y=\"281.3662\">*</text></a><!--MD5=[3a9b96bfbf6b6ad89c494e81751bda47]\n",
       "link E5 to E7--><a href=\"psysml:5222325c-bb46-4e39-81f0-12dbae43365a\" target=\"_top\" title=\"psysml:5222325c-bb46-4e39-81f0-12dbae43365a\" xlink:actuate=\"onRequest\" xlink:href=\"psysml:5222325c-bb46-4e39-81f0-12dbae43365a\" xlink:show=\"new\" xlink:title=\"psysml:5222325c-bb46-4e39-81f0-12dbae43365a\" xlink:type=\"simple\"><path d=\"M630,329.06 C630,340.64 630,355.23 630,368.87 \" fill=\"none\" id=\"E5-&gt;E7\" style=\"stroke: #383838; stroke-width: 1.0;\"/><polygon fill=\"#FFFFFF\" points=\"630,388.98,623,369.98,637,369.98,630,388.98\" style=\"stroke: #383838; stroke-width: 1.0;\"/><ellipse cx=\"625\" cy=\"364.28\" fill=\"#383838\" rx=\"2\" ry=\"2\" style=\"stroke: #383838; stroke-width: 1.0;\"/><ellipse cx=\"635\" cy=\"364.28\" fill=\"#383838\" rx=\"2\" ry=\"2\" style=\"stroke: #383838; stroke-width: 1.0;\"/></a><!--MD5=[dc164f5e8a733ab456ef1add180e9e34]\n",
       "reverse link E7 to E8--><a href=\"psysml:62bbb331-bb03-464e-9e32-68694608bffc\" target=\"_top\" title=\"psysml:62bbb331-bb03-464e-9e32-68694608bffc\" xlink:actuate=\"onRequest\" xlink:href=\"psysml:62bbb331-bb03-464e-9e32-68694608bffc\" xlink:show=\"new\" xlink:title=\"psysml:62bbb331-bb03-464e-9e32-68694608bffc\" xlink:type=\"simple\"><path d=\"M601.55,445.16 C587.25,461.33 570.28,480.51 557.48,494.98 \" fill=\"none\" id=\"E7&lt;-E8\" style=\"stroke: #383838; stroke-width: 1.0;\"/><polygon fill=\"#383838\" points=\"610.49,435.06,603.5177,436.9004,602.5348,444.0442,609.5071,442.2038,610.49,435.06\" style=\"stroke: #383838; stroke-width: 1.0;\"/><text fill=\"#000000\" font-family=\"sans-serif\" font-size=\"13\" lengthAdjust=\"spacingAndGlyphs\" textLength=\"7\" x=\"554.7746\" y=\"483.8709\">*</text></a><!--MD5=[e4a10ef82d0e328e31cac39a31e58dda]\n",
       "reverse link E7 to E9--><a href=\"psysml:6940b1aa-8c0f-4381-86aa-7b3e10e8c0d6\" target=\"_top\" title=\"psysml:6940b1aa-8c0f-4381-86aa-7b3e10e8c0d6\" xlink:actuate=\"onRequest\" xlink:href=\"psysml:6940b1aa-8c0f-4381-86aa-7b3e10e8c0d6\" xlink:show=\"new\" xlink:title=\"psysml:6940b1aa-8c0f-4381-86aa-7b3e10e8c0d6\" xlink:type=\"simple\"><path d=\"M658.14,445.16 C672.29,461.33 689.07,480.51 701.73,494.98 \" fill=\"none\" id=\"E7&lt;-E9\" style=\"stroke: #383838; stroke-width: 1.0;\"/><polygon fill=\"#383838\" points=\"649.3,435.06,650.2496,442.2083,657.2133,444.0811,656.2637,436.9328,649.3,435.06\" style=\"stroke: #383838; stroke-width: 1.0;\"/><text fill=\"#000000\" font-family=\"sans-serif\" font-size=\"13\" lengthAdjust=\"spacingAndGlyphs\" textLength=\"7\" x=\"688.6106\" y=\"483.8709\">*</text></a><!--MD5=[a919e0967d6f3de553dc51b9865a1d6d]\n",
       "link E10 to E7--><a href=\"psysml:2d47db94-d209-4d22-9eae-73bfc16721f5\" target=\"_top\" title=\"psysml:2d47db94-d209-4d22-9eae-73bfc16721f5\" xlink:actuate=\"onRequest\" xlink:href=\"psysml:2d47db94-d209-4d22-9eae-73bfc16721f5\" xlink:show=\"new\" xlink:title=\"psysml:2d47db94-d209-4d22-9eae-73bfc16721f5\" xlink:type=\"simple\"><path d=\"M564.36,87.23 C542.92,120.68 510.65,184.15 544,223 C658.5,356.41 820.5,149.59 935,283 C997.65,355.99 847.73,388.27 736.59,401.86 \" fill=\"none\" id=\"E10-&gt;E7\" style=\"stroke: #383838; stroke-width: 1.0;\"/><polygon fill=\"#FFFFFF\" points=\"716.7,404.14,734.7756,395.0147,736.3754,408.923,716.7,404.14\" style=\"stroke: #383838; stroke-width: 1.0;\"/><ellipse cx=\"740.6668\" cy=\"396.3502\" fill=\"#383838\" rx=\"2\" ry=\"2\" style=\"stroke: #383838; stroke-width: 1.0;\"/><ellipse cx=\"741.8096\" cy=\"406.2847\" fill=\"#383838\" rx=\"2\" ry=\"2\" style=\"stroke: #383838; stroke-width: 1.0;\"/></a><!--MD5=[0f36bececdf0dff6e600d6f64214b0f1]\n",
       "link E10 to E2--><a href=\"psysml:6622b004-fc37-43f3-bc42-fdfacc696359\" target=\"_top\" title=\"psysml:6622b004-fc37-43f3-bc42-fdfacc696359\" xlink:actuate=\"onRequest\" xlink:href=\"psysml:6622b004-fc37-43f3-bc42-fdfacc696359\" xlink:show=\"new\" xlink:title=\"psysml:6622b004-fc37-43f3-bc42-fdfacc696359\" xlink:type=\"simple\"><path d=\"M552.69,87.1 C536.38,100.31 514.96,117.65 494.76,134.01 \" fill=\"none\" id=\"E10-&gt;E2\" style=\"stroke: #383838; stroke-width: 1.0;\"/><polygon fill=\"#FFFFFF\" points=\"478.94,146.81,489.301,129.4131,498.1112,140.2934,478.94,146.81\" style=\"stroke: #383838; stroke-width: 1.0;\"/><ellipse cx=\"494.9894\" cy=\"127.3805\" fill=\"#383838\" rx=\"2\" ry=\"2\" style=\"stroke: #383838; stroke-width: 1.0;\"/><ellipse cx=\"501.2824\" cy=\"135.1521\" fill=\"#383838\" rx=\"2\" ry=\"2\" style=\"stroke: #383838; stroke-width: 1.0;\"/></a><!--MD5=[de308be4a2431766a05a907a031c07fc]\n",
       "reverse link E10 to E11--><a href=\"psysml:973d09ca-2c85-400b-8a26-6e03e711a9dc\" target=\"_top\" title=\"psysml:973d09ca-2c85-400b-8a26-6e03e711a9dc\" xlink:actuate=\"onRequest\" xlink:href=\"psysml:973d09ca-2c85-400b-8a26-6e03e711a9dc\" xlink:show=\"new\" xlink:title=\"psysml:973d09ca-2c85-400b-8a26-6e03e711a9dc\" xlink:type=\"simple\"><path d=\"M595.95,98.9 C605.42,119.01 617.15,143.94 625.46,161.61 \" fill=\"none\" id=\"E10&lt;-E11\" style=\"stroke: #383838; stroke-width: 1.0;\"/><polygon fill=\"#383838\" points=\"590.4,87.1,589.3334,94.2318,595.5064,97.9593,596.573,90.8275,590.4,87.1\" style=\"stroke: #383838; stroke-width: 1.0;\"/></a><!--MD5=[1d54f998c6d5961a1a9184be73a7eb6c]\n",
       "reverse link E10 to E12--><a href=\"psysml:4b2dc275-57bf-47aa-bec9-3fe53972a958\" target=\"_top\" title=\"psysml:4b2dc275-57bf-47aa-bec9-3fe53972a958\" xlink:actuate=\"onRequest\" xlink:href=\"psysml:4b2dc275-57bf-47aa-bec9-3fe53972a958\" xlink:show=\"new\" xlink:title=\"psysml:4b2dc275-57bf-47aa-bec9-3fe53972a958\" xlink:type=\"simple\"><path d=\"M642.21,92.42 C689.99,113.48 755.13,142.19 799.66,161.81 \" fill=\"none\" id=\"E10&lt;-E12\" style=\"stroke: #383838; stroke-width: 1.0;\"/><polygon fill=\"#383838\" points=\"630.15,87.1,634.028,93.1796,641.1314,91.9382,637.2534,85.8586,630.15,87.1\" style=\"stroke: #383838; stroke-width: 1.0;\"/></a><!--MD5=[4a48077df6499cfcd20b62e8f5f37904]\n",
       "link E13 to E7--><a href=\"psysml:99db2ce7-7db4-4747-aea3-ba596a45b862\" target=\"_top\" title=\"psysml:99db2ce7-7db4-4747-aea3-ba596a45b862\" xlink:actuate=\"onRequest\" xlink:href=\"psysml:99db2ce7-7db4-4747-aea3-ba596a45b862\" xlink:show=\"new\" xlink:title=\"psysml:99db2ce7-7db4-4747-aea3-ba596a45b862\" xlink:type=\"simple\"><path d=\"M242.34,329.06 C325.16,346.56 440.49,370.94 523.8,388.55 \" fill=\"none\" id=\"E13-&gt;E7\" style=\"stroke: #383838; stroke-width: 1.0;\"/><polygon fill=\"#FFFFFF\" points=\"543.45,392.7,523.4123,395.6135,526.3115,381.917,543.45,392.7\" style=\"stroke: #383838; stroke-width: 1.0;\"/><ellipse cx=\"518.25\" cy=\"392.4765\" fill=\"#383838\" rx=\"2\" ry=\"2\" style=\"stroke: #383838; stroke-width: 1.0;\"/><ellipse cx=\"520.3209\" cy=\"382.6933\" fill=\"#383838\" rx=\"2\" ry=\"2\" style=\"stroke: #383838; stroke-width: 1.0;\"/></a><!--MD5=[3fa2a5d444ac55f598457e07cafe0e3a]\n",
       "@startuml\r\n",
       "top to bottom direction\r\n",
       "skinparam monochrome true\r\n",
       "skinparam classbackgroundcolor white\r\n",
       "skinparam shadowing false\r\n",
       "skinparam wrapWidth 300\r\n",
       "hide circle\r\n",
       "\r\n",
       "package \"OccurrenceTest\" as E1  [[psysml:e6ab502d-dafd-416a-a255-3fa3ad3c263c ]]  {\r\n",
       "comp def \"Occ\" as E2  <<(T,blue) occurrence def>> [[psysml:1203d309-d98c-452c-84ab-9db93e8b8d83 ]] {\r\n",
       "- - attributes - -\r\n",
       "a\r\n",
       "}\r\n",
       "comp usage \"occ1: Occ\" as E3  <<(T,blue) occurrence>> [[psysml:158a345e-3640-4aa1-8638-58b6699698f0 ]] {\r\n",
       "}\r\n",
       "comp usage \"occ2: Occ\" as E4  <<(T,blue) occurrence>> [[psysml:5ccc27c3-07b1-4713-880e-82008912fb62 ]] {\r\n",
       "}\r\n",
       "comp usage \"s: Ind\" as E5  <<(T,blue) individual snapshot occurrence>> [[psysml:b931cfcd-d1f5-4c70-b44c-3b4fd21c9018 ]] {\r\n",
       "}\r\n",
       "comp usage \"t\" as E6  <<(T,blue) timeslice occurrence>> [[psysml:a76dffb5-cb4a-4142-b15c-9dbeb6bd2474 ]] {\r\n",
       "}\r\n",
       "comp def \"Ind\" as E7  <<(T,blue) individual occurrence def>> [[psysml:cddcce1d-840d-4259-9672-1cad32ef9616 ]] {\r\n",
       "}\r\n",
       "comp usage \"s2\" as E8  <<(T,blue) snapshot occurrence>> [[psysml:760118bf-f26e-45fa-9528-0dbdf12ed33d ]] {\r\n",
       "}\r\n",
       "comp usage \"t2\" as E9  <<(T,blue) timeslice occurrence>> [[psysml:6916c4a6-d3e9-4718-9bd3-b4da3843528f ]] {\r\n",
       "}\r\n",
       "comp usage \"ind: Ind, Occ\" as E10  <<(T,blue) individual occurrence>> [[psysml:ca3e4eae-d888-4010-bdf5-da81d89d1eab ]] {\r\n",
       "}\r\n",
       "comp usage \"s3\" as E11  <<(T,blue) snapshot occurrence>> [[psysml:a7aa12fc-e204-4f0a-90f2-9ab0101a123a ]] {\r\n",
       "}\r\n",
       "comp usage \"t3\" as E12  <<(T,blue) individual timeslice occurrence>> [[psysml:5052c3e9-886b-4521-8bf3-18ad9cb470c5 ]] {\r\n",
       "}\r\n",
       "comp usage \"s4: Ind\" as E13  <<(T,blue) individual snapshot occurrence>> [[psysml:e6d8c0e1-46dd-40c0-98f9-8ea23118f8bb ]] {\r\n",
       "}\r\n",
       "}\r\n",
       "E2 o- - E3 [[psysml:816d5179-2674-4631-83bc-f7d71b4237a7 ]] \r\n",
       "E3 - -:|> E2 [[psysml:eb3070f5-b0ea-4331-ac23-68f76765f53a ]] \r\n",
       "E2 *- - E4 [[psysml:0447f336-2e88-4877-9a74-bac22478a75a ]] \r\n",
       "E4 - -:|> E2 [[psysml:bbe7f0c0-75f0-4d42-b38b-c0f55f25890a ]] \r\n",
       "E2 *- - E5 [[psysml:5c44c5f5-a434-4c27-9e5d-4b118f9f4fa1 ]] \r\n",
       "E2 *- - \"*\"E6 [[psysml:f84da050-0b5f-49f5-998e-9b704fc66ebc ]] \r\n",
       "E5 - -:|> E7 [[psysml:5222325c-bb46-4e39-81f0-12dbae43365a ]] \r\n",
       "E7 *- - \"*\"E8 [[psysml:62bbb331-bb03-464e-9e32-68694608bffc ]] \r\n",
       "E7 *- - \"*\"E9 [[psysml:6940b1aa-8c0f-4381-86aa-7b3e10e8c0d6 ]] \r\n",
       "E10 - -:|> E7 [[psysml:2d47db94-d209-4d22-9eae-73bfc16721f5 ]] \r\n",
       "E10 - -:|> E2 [[psysml:6622b004-fc37-43f3-bc42-fdfacc696359 ]] \r\n",
       "E10 *- - E11 [[psysml:973d09ca-2c85-400b-8a26-6e03e711a9dc ]] \r\n",
       "E10 *- - E12 [[psysml:4b2dc275-57bf-47aa-bec9-3fe53972a958 ]] \r\n",
       "E13 - -:|> E7 [[psysml:99db2ce7-7db4-4747-aea3-ba596a45b862 ]] \r\n",
       "@enduml\r\n",
       "\n",
       "PlantUML version 1.2020.13(Sat Jun 13 12:26:38 UTC 2020)\n",
       "(EPL source distribution)\n",
       "Java Runtime: OpenJDK Runtime Environment\n",
       "JVM: OpenJDK 64-Bit Server VM\n",
       "Default Encoding: UTF-8\n",
       "Language: en\n",
       "Country: null\n",
       "--></g></svg>"
      ]
     },
     "execution_count": 44,
     "metadata": {},
     "output_type": "execute_result"
    }
   ],
   "source": [
    "%viz --style=\"TB\" --view=\"Default\" \"OccurrenceTest\""
   ]
  },
  {
   "cell_type": "code",
   "execution_count": 45,
   "id": "e0c1e04d",
   "metadata": {
    "execution": {
     "iopub.execute_input": "2021-10-03T08:28:45.769206Z",
     "iopub.status.busy": "2021-10-03T08:28:45.768814Z",
     "iopub.status.idle": "2021-10-03T08:28:45.822559Z",
     "shell.execute_reply": "2021-10-03T08:28:45.822201Z"
    }
   },
   "outputs": [
    {
     "data": {
      "image/svg+xml": [
       "<?xml version=\"1.0\" encoding=\"UTF-8\" standalone=\"no\"?><svg xmlns=\"http://www.w3.org/2000/svg\" xmlns:xlink=\"http://www.w3.org/1999/xlink\" contentScriptType=\"application/ecmascript\" contentStyleType=\"text/css\" height=\"569px\" preserveAspectRatio=\"none\" style=\"width:1009px;height:569px;\" version=\"1.1\" viewBox=\"0 0 1009 569\" width=\"1009px\" zoomAndPan=\"magnify\"><defs/><g><!--MD5=[fbc87193dbaf4d95561dea2c320d4a47]\n",
       "cluster E1--><a href=\"psysml:e6ab502d-dafd-416a-a255-3fa3ad3c263c\" target=\"_top\" title=\"psysml:e6ab502d-dafd-416a-a255-3fa3ad3c263c\" xlink:actuate=\"onRequest\" xlink:href=\"psysml:e6ab502d-dafd-416a-a255-3fa3ad3c263c\" xlink:show=\"new\" xlink:title=\"psysml:e6ab502d-dafd-416a-a255-3fa3ad3c263c\" xlink:type=\"simple\"><polygon fill=\"#FFFFFF\" points=\"16,6,134,6,141,28.2969,970,28.2969,970,557,16,557,16,6\" style=\"stroke: #000000; stroke-width: 1.5;\"/><line style=\"stroke: #000000; stroke-width: 1.5;\" x1=\"16\" x2=\"141\" y1=\"28.2969\" y2=\"28.2969\"/><text fill=\"#000000\" font-family=\"sans-serif\" font-size=\"14\" font-weight=\"bold\" lengthAdjust=\"spacingAndGlyphs\" textLength=\"112\" x=\"20\" y=\"20.9951\">OccurrenceTest</text></a><!--MD5=[b4997ac47864f28c2f74865a473b2911]\n",
       "class E2--><a href=\"psysml:1203d309-d98c-452c-84ab-9db93e8b8d83\" target=\"_top\" title=\"psysml:1203d309-d98c-452c-84ab-9db93e8b8d83\" xlink:actuate=\"onRequest\" xlink:href=\"psysml:1203d309-d98c-452c-84ab-9db93e8b8d83\" xlink:show=\"new\" xlink:title=\"psysml:1203d309-d98c-452c-84ab-9db93e8b8d83\" xlink:type=\"simple\"><rect fill=\"#FFFFFF\" height=\"75.5469\" id=\"E2\" style=\"stroke: #383838; stroke-width: 1.5;\" width=\"111\" x=\"377.5\" y=\"147\"/><text fill=\"#000000\" font-family=\"sans-serif\" font-size=\"12\" font-style=\"italic\" lengthAdjust=\"spacingAndGlyphs\" textLength=\"109\" x=\"378.5\" y=\"163.1387\">«occurrence def»</text><text fill=\"#000000\" font-family=\"sans-serif\" font-size=\"12\" lengthAdjust=\"spacingAndGlyphs\" textLength=\"23\" x=\"421.5\" y=\"177.1074\">Occ</text><line style=\"stroke: #383838; stroke-width: 1.5;\" x1=\"378.5\" x2=\"487.5\" y1=\"184.9375\" y2=\"184.9375\"/><text fill=\"#000000\" font-family=\"sans-serif\" font-size=\"11\" lengthAdjust=\"spacingAndGlyphs\" textLength=\"7\" x=\"383.5\" y=\"215.9526\">a</text><line style=\"stroke: #383838; stroke-width: 1.0;\" x1=\"378.5\" x2=\"405.5\" y1=\"199.3398\" y2=\"199.3398\"/><text fill=\"#000000\" font-family=\"sans-serif\" font-size=\"11\" lengthAdjust=\"spacingAndGlyphs\" textLength=\"55\" x=\"405.5\" y=\"202.6479\">attributes</text><line style=\"stroke: #383838; stroke-width: 1.0;\" x1=\"460.5\" x2=\"487.5\" y1=\"199.3398\" y2=\"199.3398\"/></a><!--MD5=[09b614a08d8cba4a07c9adeb5e0fee81]\n",
       "class E3--><a href=\"psysml:158a345e-3640-4aa1-8638-58b6699698f0\" target=\"_top\" title=\"psysml:158a345e-3640-4aa1-8638-58b6699698f0\" xlink:actuate=\"onRequest\" xlink:href=\"psysml:158a345e-3640-4aa1-8638-58b6699698f0\" xlink:show=\"new\" xlink:title=\"psysml:158a345e-3640-4aa1-8638-58b6699698f0\" xlink:type=\"simple\"><rect fill=\"#FFFFFF\" height=\"45.9375\" id=\"E3\" rx=\"10\" ry=\"10\" style=\"stroke: #383838; stroke-width: 1.5;\" width=\"87\" x=\"279.5\" y=\"283\"/><text fill=\"#000000\" font-family=\"sans-serif\" font-size=\"12\" font-style=\"italic\" lengthAdjust=\"spacingAndGlyphs\" textLength=\"85\" x=\"280.5\" y=\"299.1387\">«occurrence»</text><text fill=\"#000000\" font-family=\"sans-serif\" font-size=\"12\" lengthAdjust=\"spacingAndGlyphs\" textLength=\"61\" x=\"292.5\" y=\"313.1074\">occ1: Occ</text><line style=\"stroke: #383838; stroke-width: 1.5;\" x1=\"280.5\" x2=\"365.5\" y1=\"320.9375\" y2=\"320.9375\"/></a><!--MD5=[ebbe1d658d1005bcc118a6aa81145e00]\n",
       "class E4--><a href=\"psysml:5ccc27c3-07b1-4713-880e-82008912fb62\" target=\"_top\" title=\"psysml:5ccc27c3-07b1-4713-880e-82008912fb62\" xlink:actuate=\"onRequest\" xlink:href=\"psysml:5ccc27c3-07b1-4713-880e-82008912fb62\" xlink:show=\"new\" xlink:title=\"psysml:5ccc27c3-07b1-4713-880e-82008912fb62\" xlink:type=\"simple\"><rect fill=\"#FFFFFF\" height=\"45.9375\" id=\"E4\" rx=\"10\" ry=\"10\" style=\"stroke: #383838; stroke-width: 1.5;\" width=\"87\" x=\"401.5\" y=\"283\"/><text fill=\"#000000\" font-family=\"sans-serif\" font-size=\"12\" font-style=\"italic\" lengthAdjust=\"spacingAndGlyphs\" textLength=\"85\" x=\"402.5\" y=\"299.1387\">«occurrence»</text><text fill=\"#000000\" font-family=\"sans-serif\" font-size=\"12\" lengthAdjust=\"spacingAndGlyphs\" textLength=\"61\" x=\"414.5\" y=\"313.1074\">occ2: Occ</text><line style=\"stroke: #383838; stroke-width: 1.5;\" x1=\"402.5\" x2=\"487.5\" y1=\"320.9375\" y2=\"320.9375\"/></a><!--MD5=[270fce915f116d4de14055a7c1d9a0f3]\n",
       "class E5--><a href=\"psysml:b931cfcd-d1f5-4c70-b44c-3b4fd21c9018\" target=\"_top\" title=\"psysml:b931cfcd-d1f5-4c70-b44c-3b4fd21c9018\" xlink:actuate=\"onRequest\" xlink:href=\"psysml:b931cfcd-d1f5-4c70-b44c-3b4fd21c9018\" xlink:show=\"new\" xlink:title=\"psysml:b931cfcd-d1f5-4c70-b44c-3b4fd21c9018\" xlink:type=\"simple\"><rect fill=\"#FFFFFF\" height=\"45.9375\" id=\"E5\" rx=\"10\" ry=\"10\" style=\"stroke: #383838; stroke-width: 1.5;\" width=\"212\" x=\"524\" y=\"283\"/><text fill=\"#000000\" font-family=\"sans-serif\" font-size=\"12\" font-style=\"italic\" lengthAdjust=\"spacingAndGlyphs\" textLength=\"210\" x=\"525\" y=\"299.1387\">«individual snapshot occurrence»</text><text fill=\"#000000\" font-family=\"sans-serif\" font-size=\"12\" lengthAdjust=\"spacingAndGlyphs\" textLength=\"34\" x=\"613\" y=\"313.1074\">s: Ind</text><line style=\"stroke: #383838; stroke-width: 1.5;\" x1=\"525\" x2=\"735\" y1=\"320.9375\" y2=\"320.9375\"/></a><!--MD5=[60a26617385b1d2d0262a64233df1f8d]\n",
       "class E6--><a href=\"psysml:a76dffb5-cb4a-4142-b15c-9dbeb6bd2474\" target=\"_top\" title=\"psysml:a76dffb5-cb4a-4142-b15c-9dbeb6bd2474\" xlink:actuate=\"onRequest\" xlink:href=\"psysml:a76dffb5-cb4a-4142-b15c-9dbeb6bd2474\" xlink:show=\"new\" xlink:title=\"psysml:a76dffb5-cb4a-4142-b15c-9dbeb6bd2474\" xlink:type=\"simple\"><rect fill=\"#FFFFFF\" height=\"45.9375\" id=\"E6\" rx=\"10\" ry=\"10\" style=\"stroke: #383838; stroke-width: 1.5;\" width=\"146\" x=\"771\" y=\"283\"/><text fill=\"#000000\" font-family=\"sans-serif\" font-size=\"12\" font-style=\"italic\" lengthAdjust=\"spacingAndGlyphs\" textLength=\"144\" x=\"772\" y=\"299.1387\">«timeslice occurrence»</text><text fill=\"#000000\" font-family=\"sans-serif\" font-size=\"12\" lengthAdjust=\"spacingAndGlyphs\" textLength=\"5\" x=\"841.5\" y=\"313.1074\">t</text><line style=\"stroke: #383838; stroke-width: 1.5;\" x1=\"772\" x2=\"916\" y1=\"320.9375\" y2=\"320.9375\"/></a><!--MD5=[2156ba9850f5573cc1fc38a6a4b2f02b]\n",
       "class E7--><a href=\"psysml:cddcce1d-840d-4259-9672-1cad32ef9616\" target=\"_top\" title=\"psysml:cddcce1d-840d-4259-9672-1cad32ef9616\" xlink:actuate=\"onRequest\" xlink:href=\"psysml:cddcce1d-840d-4259-9672-1cad32ef9616\" xlink:show=\"new\" xlink:title=\"psysml:cddcce1d-840d-4259-9672-1cad32ef9616\" xlink:type=\"simple\"><rect fill=\"#FFFFFF\" height=\"45.9375\" id=\"E7\" style=\"stroke: #383838; stroke-width: 1.5;\" width=\"173\" x=\"543.5\" y=\"389\"/><text fill=\"#000000\" font-family=\"sans-serif\" font-size=\"12\" font-style=\"italic\" lengthAdjust=\"spacingAndGlyphs\" textLength=\"171\" x=\"544.5\" y=\"405.1387\">«individual occurrence def»</text><text fill=\"#000000\" font-family=\"sans-serif\" font-size=\"12\" lengthAdjust=\"spacingAndGlyphs\" textLength=\"19\" x=\"620.5\" y=\"419.1074\">Ind</text><line style=\"stroke: #383838; stroke-width: 1.5;\" x1=\"544.5\" x2=\"715.5\" y1=\"426.9375\" y2=\"426.9375\"/></a><!--MD5=[b9389687b975829384b498ac4b7476b2]\n",
       "class E8--><a href=\"psysml:760118bf-f26e-45fa-9528-0dbdf12ed33d\" target=\"_top\" title=\"psysml:760118bf-f26e-45fa-9528-0dbdf12ed33d\" xlink:actuate=\"onRequest\" xlink:href=\"psysml:760118bf-f26e-45fa-9528-0dbdf12ed33d\" xlink:show=\"new\" xlink:title=\"psysml:760118bf-f26e-45fa-9528-0dbdf12ed33d\" xlink:type=\"simple\"><rect fill=\"#FFFFFF\" height=\"45.9375\" id=\"E8\" rx=\"10\" ry=\"10\" style=\"stroke: #383838; stroke-width: 1.5;\" width=\"150\" x=\"463\" y=\"495\"/><text fill=\"#000000\" font-family=\"sans-serif\" font-size=\"12\" font-style=\"italic\" lengthAdjust=\"spacingAndGlyphs\" textLength=\"148\" x=\"464\" y=\"511.1387\">«snapshot occurrence»</text><text fill=\"#000000\" font-family=\"sans-serif\" font-size=\"12\" lengthAdjust=\"spacingAndGlyphs\" textLength=\"15\" x=\"530.5\" y=\"525.1074\">s2</text><line style=\"stroke: #383838; stroke-width: 1.5;\" x1=\"464\" x2=\"612\" y1=\"532.9375\" y2=\"532.9375\"/></a><!--MD5=[fd4143e9d270a159db93a4ea2a975926]\n",
       "class E9--><a href=\"psysml:6916c4a6-d3e9-4718-9bd3-b4da3843528f\" target=\"_top\" title=\"psysml:6916c4a6-d3e9-4718-9bd3-b4da3843528f\" xlink:actuate=\"onRequest\" xlink:href=\"psysml:6916c4a6-d3e9-4718-9bd3-b4da3843528f\" xlink:show=\"new\" xlink:title=\"psysml:6916c4a6-d3e9-4718-9bd3-b4da3843528f\" xlink:type=\"simple\"><rect fill=\"#FFFFFF\" height=\"45.9375\" id=\"E9\" rx=\"10\" ry=\"10\" style=\"stroke: #383838; stroke-width: 1.5;\" width=\"146\" x=\"648\" y=\"495\"/><text fill=\"#000000\" font-family=\"sans-serif\" font-size=\"12\" font-style=\"italic\" lengthAdjust=\"spacingAndGlyphs\" textLength=\"144\" x=\"649\" y=\"511.1387\">«timeslice occurrence»</text><text fill=\"#000000\" font-family=\"sans-serif\" font-size=\"12\" lengthAdjust=\"spacingAndGlyphs\" textLength=\"13\" x=\"714.5\" y=\"525.1074\">t2</text><line style=\"stroke: #383838; stroke-width: 1.5;\" x1=\"649\" x2=\"793\" y1=\"532.9375\" y2=\"532.9375\"/></a><!--MD5=[96f4274e9e20536e775497830990834d]\n",
       "class E10--><a href=\"psysml:ca3e4eae-d888-4010-bdf5-da81d89d1eab\" target=\"_top\" title=\"psysml:ca3e4eae-d888-4010-bdf5-da81d89d1eab\" xlink:actuate=\"onRequest\" xlink:href=\"psysml:ca3e4eae-d888-4010-bdf5-da81d89d1eab\" xlink:show=\"new\" xlink:title=\"psysml:ca3e4eae-d888-4010-bdf5-da81d89d1eab\" xlink:type=\"simple\"><rect fill=\"#FFFFFF\" height=\"45.9375\" id=\"E10\" rx=\"10\" ry=\"10\" style=\"stroke: #383838; stroke-width: 1.5;\" width=\"149\" x=\"505.5\" y=\"41\"/><text fill=\"#000000\" font-family=\"sans-serif\" font-size=\"12\" font-style=\"italic\" lengthAdjust=\"spacingAndGlyphs\" textLength=\"147\" x=\"506.5\" y=\"57.1387\">«individual occurrence»</text><text fill=\"#000000\" font-family=\"sans-serif\" font-size=\"12\" lengthAdjust=\"spacingAndGlyphs\" textLength=\"77\" x=\"541.5\" y=\"71.1074\">ind: Ind, Occ</text><line style=\"stroke: #383838; stroke-width: 1.5;\" x1=\"506.5\" x2=\"653.5\" y1=\"78.9375\" y2=\"78.9375\"/></a><!--MD5=[1dd1bfd58a279cf63c5f349dbc8fc6a1]\n",
       "class E11--><a href=\"psysml:a7aa12fc-e204-4f0a-90f2-9ab0101a123a\" target=\"_top\" title=\"psysml:a7aa12fc-e204-4f0a-90f2-9ab0101a123a\" xlink:actuate=\"onRequest\" xlink:href=\"psysml:a7aa12fc-e204-4f0a-90f2-9ab0101a123a\" xlink:show=\"new\" xlink:title=\"psysml:a7aa12fc-e204-4f0a-90f2-9ab0101a123a\" xlink:type=\"simple\"><rect fill=\"#FFFFFF\" height=\"45.9375\" id=\"E11\" rx=\"10\" ry=\"10\" style=\"stroke: #383838; stroke-width: 1.5;\" width=\"150\" x=\"561\" y=\"162\"/><text fill=\"#000000\" font-family=\"sans-serif\" font-size=\"12\" font-style=\"italic\" lengthAdjust=\"spacingAndGlyphs\" textLength=\"148\" x=\"562\" y=\"178.1387\">«snapshot occurrence»</text><text fill=\"#000000\" font-family=\"sans-serif\" font-size=\"12\" lengthAdjust=\"spacingAndGlyphs\" textLength=\"15\" x=\"628.5\" y=\"192.1074\">s3</text><line style=\"stroke: #383838; stroke-width: 1.5;\" x1=\"562\" x2=\"710\" y1=\"199.9375\" y2=\"199.9375\"/></a><!--MD5=[49a0ec8f00dab7302a31f22d0f0fe584]\n",
       "class E12--><a href=\"psysml:5052c3e9-886b-4521-8bf3-18ad9cb470c5\" target=\"_top\" title=\"psysml:5052c3e9-886b-4521-8bf3-18ad9cb470c5\" xlink:actuate=\"onRequest\" xlink:href=\"psysml:5052c3e9-886b-4521-8bf3-18ad9cb470c5\" xlink:show=\"new\" xlink:title=\"psysml:5052c3e9-886b-4521-8bf3-18ad9cb470c5\" xlink:type=\"simple\"><rect fill=\"#FFFFFF\" height=\"45.9375\" id=\"E12\" rx=\"10\" ry=\"10\" style=\"stroke: #383838; stroke-width: 1.5;\" width=\"208\" x=\"746\" y=\"162\"/><text fill=\"#000000\" font-family=\"sans-serif\" font-size=\"12\" font-style=\"italic\" lengthAdjust=\"spacingAndGlyphs\" textLength=\"206\" x=\"747\" y=\"178.1387\">«individual timeslice occurrence»</text><text fill=\"#000000\" font-family=\"sans-serif\" font-size=\"12\" lengthAdjust=\"spacingAndGlyphs\" textLength=\"13\" x=\"843.5\" y=\"192.1074\">t3</text><line style=\"stroke: #383838; stroke-width: 1.5;\" x1=\"747\" x2=\"953\" y1=\"199.9375\" y2=\"199.9375\"/></a><!--MD5=[ee3c913d1a06f366521f9ef512b67efe]\n",
       "class E13--><a href=\"psysml:e6d8c0e1-46dd-40c0-98f9-8ea23118f8bb\" target=\"_top\" title=\"psysml:e6d8c0e1-46dd-40c0-98f9-8ea23118f8bb\" xlink:actuate=\"onRequest\" xlink:href=\"psysml:e6d8c0e1-46dd-40c0-98f9-8ea23118f8bb\" xlink:show=\"new\" xlink:title=\"psysml:e6d8c0e1-46dd-40c0-98f9-8ea23118f8bb\" xlink:type=\"simple\"><rect fill=\"#FFFFFF\" height=\"45.9375\" id=\"E13\" rx=\"10\" ry=\"10\" style=\"stroke: #383838; stroke-width: 1.5;\" width=\"212\" x=\"32\" y=\"283\"/><text fill=\"#000000\" font-family=\"sans-serif\" font-size=\"12\" font-style=\"italic\" lengthAdjust=\"spacingAndGlyphs\" textLength=\"210\" x=\"33\" y=\"299.1387\">«individual snapshot occurrence»</text><text fill=\"#000000\" font-family=\"sans-serif\" font-size=\"12\" lengthAdjust=\"spacingAndGlyphs\" textLength=\"42\" x=\"117\" y=\"313.1074\">s4: Ind</text><line style=\"stroke: #383838; stroke-width: 1.5;\" x1=\"33\" x2=\"243\" y1=\"320.9375\" y2=\"320.9375\"/></a><!--MD5=[209b3feb70ccb6233bfe1053d122c12c]\n",
       "reverse link E2 to E3--><a href=\"psysml:816d5179-2674-4631-83bc-f7d71b4237a7\" target=\"_top\" title=\"psysml:816d5179-2674-4631-83bc-f7d71b4237a7\" xlink:actuate=\"onRequest\" xlink:href=\"psysml:816d5179-2674-4631-83bc-f7d71b4237a7\" xlink:show=\"new\" xlink:title=\"psysml:816d5179-2674-4631-83bc-f7d71b4237a7\" xlink:type=\"simple\"><path d=\"M377.59,232.45 C360.78,249.83 344.04,268.76 333.23,282.93 \" fill=\"none\" id=\"E2&lt;-E3\" style=\"stroke: #383838; stroke-width: 1.0;\"/><polygon fill=\"#FFFFFF\" points=\"386.9,223,379.8401,224.4691,378.4809,231.5509,385.5407,230.0818,386.9,223\" style=\"stroke: #383838; stroke-width: 1.0;\"/></a><!--MD5=[05d275557350bfb9b23a4ef7222b4c39]\n",
       "link E3 to E2--><a href=\"psysml:eb3070f5-b0ea-4331-ac23-68f76765f53a\" target=\"_top\" title=\"psysml:eb3070f5-b0ea-4331-ac23-68f76765f53a\" xlink:actuate=\"onRequest\" xlink:href=\"psysml:eb3070f5-b0ea-4331-ac23-68f76765f53a\" xlink:show=\"new\" xlink:title=\"psysml:eb3070f5-b0ea-4331-ac23-68f76765f53a\" xlink:type=\"simple\"><path d=\"M354.17,282.93 C367.96,270.34 383.96,253.98 398.07,238.29 \" fill=\"none\" id=\"E3-&gt;E2\" style=\"stroke: #383838; stroke-width: 1.0;\"/><polygon fill=\"#FFFFFF\" points=\"411.4,223,404.1971,241.924,393.6412,232.7276,411.4,223\" style=\"stroke: #383838; stroke-width: 1.0;\"/><ellipse cx=\"398.9449\" cy=\"244.908\" fill=\"#383838\" rx=\"2\" ry=\"2\" style=\"stroke: #383838; stroke-width: 1.0;\"/><ellipse cx=\"391.405\" cy=\"238.3391\" fill=\"#383838\" rx=\"2\" ry=\"2\" style=\"stroke: #383838; stroke-width: 1.0;\"/></a><!--MD5=[9618e71518536f8baf3342ff6fdab317]\n",
       "reverse link E2 to E4--><a href=\"psysml:0447f336-2e88-4877-9a74-bac22478a75a\" target=\"_top\" title=\"psysml:0447f336-2e88-4877-9a74-bac22478a75a\" xlink:actuate=\"onRequest\" xlink:href=\"psysml:0447f336-2e88-4877-9a74-bac22478a75a\" xlink:show=\"new\" xlink:title=\"psysml:0447f336-2e88-4877-9a74-bac22478a75a\" xlink:type=\"simple\"><path d=\"M425.46,236.34 C426.62,252.61 429.17,269.81 432.6,282.93 \" fill=\"none\" id=\"E2&lt;-E4\" style=\"stroke: #383838; stroke-width: 1.0;\"/><polygon fill=\"#383838\" points=\"424.83,223,421.118,229.1823,425.397,234.9866,429.109,228.8043,424.83,223\" style=\"stroke: #383838; stroke-width: 1.0;\"/></a><!--MD5=[185131fc0dcab0a4505a2ebe144e961b]\n",
       "link E4 to E2--><a href=\"psysml:bbe7f0c0-75f0-4d42-b38b-c0f55f25890a\" target=\"_top\" title=\"psysml:bbe7f0c0-75f0-4d42-b38b-c0f55f25890a\" xlink:actuate=\"onRequest\" xlink:href=\"psysml:bbe7f0c0-75f0-4d42-b38b-c0f55f25890a\" xlink:show=\"new\" xlink:title=\"psysml:bbe7f0c0-75f0-4d42-b38b-c0f55f25890a\" xlink:type=\"simple\"><path d=\"M453.54,282.93 C454.33,271.65 453.8,257.34 452.26,243.21 \" fill=\"none\" id=\"E4-&gt;E2\" style=\"stroke: #383838; stroke-width: 1.0;\"/><polygon fill=\"#FFFFFF\" points=\"449.33,223,458.9844,240.7987,445.1294,242.8079,449.33,223\" style=\"stroke: #383838; stroke-width: 1.0;\"/><ellipse cx=\"457.8232\" cy=\"246.7267\" fill=\"#383838\" rx=\"2\" ry=\"2\" style=\"stroke: #383838; stroke-width: 1.0;\"/><ellipse cx=\"447.9267\" cy=\"248.1619\" fill=\"#383838\" rx=\"2\" ry=\"2\" style=\"stroke: #383838; stroke-width: 1.0;\"/></a><!--MD5=[4e1a83fab71cdb913c109063314ae896]\n",
       "reverse link E2 to E5--><a href=\"psysml:5c44c5f5-a434-4c27-9e5d-4b118f9f4fa1\" target=\"_top\" title=\"psysml:5c44c5f5-a434-4c27-9e5d-4b118f9f4fa1\" xlink:actuate=\"onRequest\" xlink:href=\"psysml:5c44c5f5-a434-4c27-9e5d-4b118f9f4fa1\" xlink:show=\"new\" xlink:title=\"psysml:5c44c5f5-a434-4c27-9e5d-4b118f9f4fa1\" xlink:type=\"simple\"><path d=\"M499.94,226.44 C531.22,245.33 567.25,267.1 593.44,282.92 \" fill=\"none\" id=\"E2&lt;-E5\" style=\"stroke: #383838; stroke-width: 1.0;\"/><polygon fill=\"#383838\" points=\"488.66,219.62,491.731,226.1445,498.9348,225.8191,495.8638,219.2947,488.66,219.62\" style=\"stroke: #383838; stroke-width: 1.0;\"/></a><!--MD5=[ce036f65110ae2351ccce5a81dc2e928]\n",
       "reverse link E2 to E6--><a href=\"psysml:f84da050-0b5f-49f5-998e-9b704fc66ebc\" target=\"_top\" title=\"psysml:f84da050-0b5f-49f5-998e-9b704fc66ebc\" xlink:actuate=\"onRequest\" xlink:href=\"psysml:f84da050-0b5f-49f5-998e-9b704fc66ebc\" xlink:show=\"new\" xlink:title=\"psysml:f84da050-0b5f-49f5-998e-9b704fc66ebc\" xlink:type=\"simple\"><path d=\"M501.1,217.48 C506.1,219.45 511.11,221.31 516,223 C528.17,227.2 677.81,264.18 770.71,287.02 \" fill=\"none\" id=\"E2&lt;-E6\" style=\"stroke: #383838; stroke-width: 1.0;\"/><polygon fill=\"#383838\" points=\"488.72,212.43,492.764,218.4004,499.8305,216.9638,495.7866,210.9934,488.72,212.43\" style=\"stroke: #383838; stroke-width: 1.0;\"/><text fill=\"#000000\" font-family=\"sans-serif\" font-size=\"13\" lengthAdjust=\"spacingAndGlyphs\" textLength=\"7\" x=\"755.791\" y=\"281.3662\">*</text></a><!--MD5=[3a9b96bfbf6b6ad89c494e81751bda47]\n",
       "link E5 to E7--><a href=\"psysml:5222325c-bb46-4e39-81f0-12dbae43365a\" target=\"_top\" title=\"psysml:5222325c-bb46-4e39-81f0-12dbae43365a\" xlink:actuate=\"onRequest\" xlink:href=\"psysml:5222325c-bb46-4e39-81f0-12dbae43365a\" xlink:show=\"new\" xlink:title=\"psysml:5222325c-bb46-4e39-81f0-12dbae43365a\" xlink:type=\"simple\"><path d=\"M630,329.06 C630,340.64 630,355.23 630,368.87 \" fill=\"none\" id=\"E5-&gt;E7\" style=\"stroke: #383838; stroke-width: 1.0;\"/><polygon fill=\"#FFFFFF\" points=\"630,388.98,623,369.98,637,369.98,630,388.98\" style=\"stroke: #383838; stroke-width: 1.0;\"/><ellipse cx=\"625\" cy=\"364.28\" fill=\"#383838\" rx=\"2\" ry=\"2\" style=\"stroke: #383838; stroke-width: 1.0;\"/><ellipse cx=\"635\" cy=\"364.28\" fill=\"#383838\" rx=\"2\" ry=\"2\" style=\"stroke: #383838; stroke-width: 1.0;\"/></a><!--MD5=[dc164f5e8a733ab456ef1add180e9e34]\n",
       "reverse link E7 to E8--><a href=\"psysml:62bbb331-bb03-464e-9e32-68694608bffc\" target=\"_top\" title=\"psysml:62bbb331-bb03-464e-9e32-68694608bffc\" xlink:actuate=\"onRequest\" xlink:href=\"psysml:62bbb331-bb03-464e-9e32-68694608bffc\" xlink:show=\"new\" xlink:title=\"psysml:62bbb331-bb03-464e-9e32-68694608bffc\" xlink:type=\"simple\"><path d=\"M601.55,445.16 C587.25,461.33 570.28,480.51 557.48,494.98 \" fill=\"none\" id=\"E7&lt;-E8\" style=\"stroke: #383838; stroke-width: 1.0;\"/><polygon fill=\"#383838\" points=\"610.49,435.06,603.5177,436.9004,602.5348,444.0442,609.5071,442.2038,610.49,435.06\" style=\"stroke: #383838; stroke-width: 1.0;\"/><text fill=\"#000000\" font-family=\"sans-serif\" font-size=\"13\" lengthAdjust=\"spacingAndGlyphs\" textLength=\"7\" x=\"554.7746\" y=\"483.8709\">*</text></a><!--MD5=[e4a10ef82d0e328e31cac39a31e58dda]\n",
       "reverse link E7 to E9--><a href=\"psysml:6940b1aa-8c0f-4381-86aa-7b3e10e8c0d6\" target=\"_top\" title=\"psysml:6940b1aa-8c0f-4381-86aa-7b3e10e8c0d6\" xlink:actuate=\"onRequest\" xlink:href=\"psysml:6940b1aa-8c0f-4381-86aa-7b3e10e8c0d6\" xlink:show=\"new\" xlink:title=\"psysml:6940b1aa-8c0f-4381-86aa-7b3e10e8c0d6\" xlink:type=\"simple\"><path d=\"M658.14,445.16 C672.29,461.33 689.07,480.51 701.73,494.98 \" fill=\"none\" id=\"E7&lt;-E9\" style=\"stroke: #383838; stroke-width: 1.0;\"/><polygon fill=\"#383838\" points=\"649.3,435.06,650.2496,442.2083,657.2133,444.0811,656.2637,436.9328,649.3,435.06\" style=\"stroke: #383838; stroke-width: 1.0;\"/><text fill=\"#000000\" font-family=\"sans-serif\" font-size=\"13\" lengthAdjust=\"spacingAndGlyphs\" textLength=\"7\" x=\"688.6106\" y=\"483.8709\">*</text></a><!--MD5=[a919e0967d6f3de553dc51b9865a1d6d]\n",
       "link E10 to E7--><a href=\"psysml:2d47db94-d209-4d22-9eae-73bfc16721f5\" target=\"_top\" title=\"psysml:2d47db94-d209-4d22-9eae-73bfc16721f5\" xlink:actuate=\"onRequest\" xlink:href=\"psysml:2d47db94-d209-4d22-9eae-73bfc16721f5\" xlink:show=\"new\" xlink:title=\"psysml:2d47db94-d209-4d22-9eae-73bfc16721f5\" xlink:type=\"simple\"><path d=\"M564.36,87.23 C542.92,120.68 510.65,184.15 544,223 C658.5,356.41 820.5,149.59 935,283 C997.65,355.99 847.73,388.27 736.59,401.86 \" fill=\"none\" id=\"E10-&gt;E7\" style=\"stroke: #383838; stroke-width: 1.0;\"/><polygon fill=\"#FFFFFF\" points=\"716.7,404.14,734.7756,395.0147,736.3754,408.923,716.7,404.14\" style=\"stroke: #383838; stroke-width: 1.0;\"/><ellipse cx=\"740.6668\" cy=\"396.3502\" fill=\"#383838\" rx=\"2\" ry=\"2\" style=\"stroke: #383838; stroke-width: 1.0;\"/><ellipse cx=\"741.8096\" cy=\"406.2847\" fill=\"#383838\" rx=\"2\" ry=\"2\" style=\"stroke: #383838; stroke-width: 1.0;\"/></a><!--MD5=[0f36bececdf0dff6e600d6f64214b0f1]\n",
       "link E10 to E2--><a href=\"psysml:6622b004-fc37-43f3-bc42-fdfacc696359\" target=\"_top\" title=\"psysml:6622b004-fc37-43f3-bc42-fdfacc696359\" xlink:actuate=\"onRequest\" xlink:href=\"psysml:6622b004-fc37-43f3-bc42-fdfacc696359\" xlink:show=\"new\" xlink:title=\"psysml:6622b004-fc37-43f3-bc42-fdfacc696359\" xlink:type=\"simple\"><path d=\"M552.69,87.1 C536.38,100.31 514.96,117.65 494.76,134.01 \" fill=\"none\" id=\"E10-&gt;E2\" style=\"stroke: #383838; stroke-width: 1.0;\"/><polygon fill=\"#FFFFFF\" points=\"478.94,146.81,489.301,129.4131,498.1112,140.2934,478.94,146.81\" style=\"stroke: #383838; stroke-width: 1.0;\"/><ellipse cx=\"494.9894\" cy=\"127.3805\" fill=\"#383838\" rx=\"2\" ry=\"2\" style=\"stroke: #383838; stroke-width: 1.0;\"/><ellipse cx=\"501.2824\" cy=\"135.1521\" fill=\"#383838\" rx=\"2\" ry=\"2\" style=\"stroke: #383838; stroke-width: 1.0;\"/></a><!--MD5=[de308be4a2431766a05a907a031c07fc]\n",
       "reverse link E10 to E11--><a href=\"psysml:973d09ca-2c85-400b-8a26-6e03e711a9dc\" target=\"_top\" title=\"psysml:973d09ca-2c85-400b-8a26-6e03e711a9dc\" xlink:actuate=\"onRequest\" xlink:href=\"psysml:973d09ca-2c85-400b-8a26-6e03e711a9dc\" xlink:show=\"new\" xlink:title=\"psysml:973d09ca-2c85-400b-8a26-6e03e711a9dc\" xlink:type=\"simple\"><path d=\"M595.95,98.9 C605.42,119.01 617.15,143.94 625.46,161.61 \" fill=\"none\" id=\"E10&lt;-E11\" style=\"stroke: #383838; stroke-width: 1.0;\"/><polygon fill=\"#383838\" points=\"590.4,87.1,589.3334,94.2318,595.5064,97.9593,596.573,90.8275,590.4,87.1\" style=\"stroke: #383838; stroke-width: 1.0;\"/></a><!--MD5=[1d54f998c6d5961a1a9184be73a7eb6c]\n",
       "reverse link E10 to E12--><a href=\"psysml:4b2dc275-57bf-47aa-bec9-3fe53972a958\" target=\"_top\" title=\"psysml:4b2dc275-57bf-47aa-bec9-3fe53972a958\" xlink:actuate=\"onRequest\" xlink:href=\"psysml:4b2dc275-57bf-47aa-bec9-3fe53972a958\" xlink:show=\"new\" xlink:title=\"psysml:4b2dc275-57bf-47aa-bec9-3fe53972a958\" xlink:type=\"simple\"><path d=\"M642.21,92.42 C689.99,113.48 755.13,142.19 799.66,161.81 \" fill=\"none\" id=\"E10&lt;-E12\" style=\"stroke: #383838; stroke-width: 1.0;\"/><polygon fill=\"#383838\" points=\"630.15,87.1,634.028,93.1796,641.1314,91.9382,637.2534,85.8586,630.15,87.1\" style=\"stroke: #383838; stroke-width: 1.0;\"/></a><!--MD5=[4a48077df6499cfcd20b62e8f5f37904]\n",
       "link E13 to E7--><a href=\"psysml:99db2ce7-7db4-4747-aea3-ba596a45b862\" target=\"_top\" title=\"psysml:99db2ce7-7db4-4747-aea3-ba596a45b862\" xlink:actuate=\"onRequest\" xlink:href=\"psysml:99db2ce7-7db4-4747-aea3-ba596a45b862\" xlink:show=\"new\" xlink:title=\"psysml:99db2ce7-7db4-4747-aea3-ba596a45b862\" xlink:type=\"simple\"><path d=\"M242.34,329.06 C325.16,346.56 440.49,370.94 523.8,388.55 \" fill=\"none\" id=\"E13-&gt;E7\" style=\"stroke: #383838; stroke-width: 1.0;\"/><polygon fill=\"#FFFFFF\" points=\"543.45,392.7,523.4123,395.6135,526.3115,381.917,543.45,392.7\" style=\"stroke: #383838; stroke-width: 1.0;\"/><ellipse cx=\"518.25\" cy=\"392.4765\" fill=\"#383838\" rx=\"2\" ry=\"2\" style=\"stroke: #383838; stroke-width: 1.0;\"/><ellipse cx=\"520.3209\" cy=\"382.6933\" fill=\"#383838\" rx=\"2\" ry=\"2\" style=\"stroke: #383838; stroke-width: 1.0;\"/></a><!--MD5=[3fa2a5d444ac55f598457e07cafe0e3a]\n",
       "@startuml\r\n",
       "top to bottom direction\r\n",
       "skinparam monochrome true\r\n",
       "skinparam classbackgroundcolor white\r\n",
       "skinparam shadowing false\r\n",
       "skinparam wrapWidth 300\r\n",
       "hide circle\r\n",
       "\r\n",
       "package \"OccurrenceTest\" as E1  [[psysml:e6ab502d-dafd-416a-a255-3fa3ad3c263c ]]  {\r\n",
       "comp def \"Occ\" as E2  <<(T,blue) occurrence def>> [[psysml:1203d309-d98c-452c-84ab-9db93e8b8d83 ]] {\r\n",
       "- - attributes - -\r\n",
       "a\r\n",
       "}\r\n",
       "comp usage \"occ1: Occ\" as E3  <<(T,blue) occurrence>> [[psysml:158a345e-3640-4aa1-8638-58b6699698f0 ]] {\r\n",
       "}\r\n",
       "comp usage \"occ2: Occ\" as E4  <<(T,blue) occurrence>> [[psysml:5ccc27c3-07b1-4713-880e-82008912fb62 ]] {\r\n",
       "}\r\n",
       "comp usage \"s: Ind\" as E5  <<(T,blue) individual snapshot occurrence>> [[psysml:b931cfcd-d1f5-4c70-b44c-3b4fd21c9018 ]] {\r\n",
       "}\r\n",
       "comp usage \"t\" as E6  <<(T,blue) timeslice occurrence>> [[psysml:a76dffb5-cb4a-4142-b15c-9dbeb6bd2474 ]] {\r\n",
       "}\r\n",
       "comp def \"Ind\" as E7  <<(T,blue) individual occurrence def>> [[psysml:cddcce1d-840d-4259-9672-1cad32ef9616 ]] {\r\n",
       "}\r\n",
       "comp usage \"s2\" as E8  <<(T,blue) snapshot occurrence>> [[psysml:760118bf-f26e-45fa-9528-0dbdf12ed33d ]] {\r\n",
       "}\r\n",
       "comp usage \"t2\" as E9  <<(T,blue) timeslice occurrence>> [[psysml:6916c4a6-d3e9-4718-9bd3-b4da3843528f ]] {\r\n",
       "}\r\n",
       "comp usage \"ind: Ind, Occ\" as E10  <<(T,blue) individual occurrence>> [[psysml:ca3e4eae-d888-4010-bdf5-da81d89d1eab ]] {\r\n",
       "}\r\n",
       "comp usage \"s3\" as E11  <<(T,blue) snapshot occurrence>> [[psysml:a7aa12fc-e204-4f0a-90f2-9ab0101a123a ]] {\r\n",
       "}\r\n",
       "comp usage \"t3\" as E12  <<(T,blue) individual timeslice occurrence>> [[psysml:5052c3e9-886b-4521-8bf3-18ad9cb470c5 ]] {\r\n",
       "}\r\n",
       "comp usage \"s4: Ind\" as E13  <<(T,blue) individual snapshot occurrence>> [[psysml:e6d8c0e1-46dd-40c0-98f9-8ea23118f8bb ]] {\r\n",
       "}\r\n",
       "}\r\n",
       "E2 o- - E3 [[psysml:816d5179-2674-4631-83bc-f7d71b4237a7 ]] \r\n",
       "E3 - -:|> E2 [[psysml:eb3070f5-b0ea-4331-ac23-68f76765f53a ]] \r\n",
       "E2 *- - E4 [[psysml:0447f336-2e88-4877-9a74-bac22478a75a ]] \r\n",
       "E4 - -:|> E2 [[psysml:bbe7f0c0-75f0-4d42-b38b-c0f55f25890a ]] \r\n",
       "E2 *- - E5 [[psysml:5c44c5f5-a434-4c27-9e5d-4b118f9f4fa1 ]] \r\n",
       "E2 *- - \"*\"E6 [[psysml:f84da050-0b5f-49f5-998e-9b704fc66ebc ]] \r\n",
       "E5 - -:|> E7 [[psysml:5222325c-bb46-4e39-81f0-12dbae43365a ]] \r\n",
       "E7 *- - \"*\"E8 [[psysml:62bbb331-bb03-464e-9e32-68694608bffc ]] \r\n",
       "E7 *- - \"*\"E9 [[psysml:6940b1aa-8c0f-4381-86aa-7b3e10e8c0d6 ]] \r\n",
       "E10 - -:|> E7 [[psysml:2d47db94-d209-4d22-9eae-73bfc16721f5 ]] \r\n",
       "E10 - -:|> E2 [[psysml:6622b004-fc37-43f3-bc42-fdfacc696359 ]] \r\n",
       "E10 *- - E11 [[psysml:973d09ca-2c85-400b-8a26-6e03e711a9dc ]] \r\n",
       "E10 *- - E12 [[psysml:4b2dc275-57bf-47aa-bec9-3fe53972a958 ]] \r\n",
       "E13 - -:|> E7 [[psysml:99db2ce7-7db4-4747-aea3-ba596a45b862 ]] \r\n",
       "@enduml\r\n",
       "\n",
       "PlantUML version 1.2020.13(Sat Jun 13 12:26:38 UTC 2020)\n",
       "(EPL source distribution)\n",
       "Java Runtime: OpenJDK Runtime Environment\n",
       "JVM: OpenJDK 64-Bit Server VM\n",
       "Default Encoding: UTF-8\n",
       "Language: en\n",
       "Country: null\n",
       "--></g></svg>"
      ]
     },
     "execution_count": 45,
     "metadata": {},
     "output_type": "execute_result"
    }
   ],
   "source": [
    "%viz --style=\"TB\" --view=\"Tree\" \"OccurrenceTest\""
   ]
  },
  {
   "cell_type": "code",
   "execution_count": 46,
   "id": "fe5e8e9f",
   "metadata": {
    "execution": {
     "iopub.execute_input": "2021-10-03T08:28:45.871272Z",
     "iopub.status.busy": "2021-10-03T08:28:45.870875Z",
     "iopub.status.idle": "2021-10-03T08:28:45.875624Z",
     "shell.execute_reply": "2021-10-03T08:28:45.875278Z"
    }
   },
   "outputs": [
    {
     "data": {
      "image/svg+xml": [
       "<?xml version=\"1.0\" encoding=\"UTF-8\" standalone=\"no\"?><svg xmlns=\"http://www.w3.org/2000/svg\" xmlns:xlink=\"http://www.w3.org/1999/xlink\" contentScriptType=\"application/ecmascript\" contentStyleType=\"text/css\" height=\"12px\" preserveAspectRatio=\"none\" style=\"width:12px;height:12px;\" version=\"1.1\" viewBox=\"0 0 12 12\" width=\"12px\" zoomAndPan=\"magnify\"><defs/><g><!--MD5=[f4ee21bc66e489b5061b7c3e9601fdef]\n",
       "@startuml\r\n",
       "top to bottom direction\r\n",
       "skinparam monochrome true\r\n",
       "skinparam classbackgroundcolor white\r\n",
       "skinparam shadowing false\r\n",
       "skinparam wrapWidth 300\r\n",
       "hide circle\r\n",
       "\r\n",
       "@enduml\r\n",
       "\n",
       "PlantUML version 1.2020.13(Sat Jun 13 12:26:38 UTC 2020)\n",
       "(EPL source distribution)\n",
       "Java Runtime: OpenJDK Runtime Environment\n",
       "JVM: OpenJDK 64-Bit Server VM\n",
       "Default Encoding: UTF-8\n",
       "Language: en\n",
       "Country: null\n",
       "--></g></svg>"
      ]
     },
     "execution_count": 46,
     "metadata": {},
     "output_type": "execute_result"
    }
   ],
   "source": [
    "%viz --style=\"TB\" --view=\"State\" \"OccurrenceTest\""
   ]
  },
  {
   "cell_type": "code",
   "execution_count": 47,
   "id": "d91050fa",
   "metadata": {
    "execution": {
     "iopub.execute_input": "2021-10-03T08:28:45.925023Z",
     "iopub.status.busy": "2021-10-03T08:28:45.924633Z",
     "iopub.status.idle": "2021-10-03T08:28:45.956100Z",
     "shell.execute_reply": "2021-10-03T08:28:45.955747Z"
    }
   },
   "outputs": [
    {
     "data": {
      "image/svg+xml": [
       "<?xml version=\"1.0\" encoding=\"UTF-8\" standalone=\"no\"?><svg xmlns=\"http://www.w3.org/2000/svg\" xmlns:xlink=\"http://www.w3.org/1999/xlink\" contentScriptType=\"application/ecmascript\" contentStyleType=\"text/css\" height=\"195px\" preserveAspectRatio=\"none\" style=\"width:1115px;height:195px;\" version=\"1.1\" viewBox=\"0 0 1115 195\" width=\"1115px\" zoomAndPan=\"magnify\"><defs/><g><!--MD5=[fbc87193dbaf4d95561dea2c320d4a47]\n",
       "cluster E1--><a href=\"psysml:e6ab502d-dafd-416a-a255-3fa3ad3c263c\" target=\"_top\" title=\"psysml:e6ab502d-dafd-416a-a255-3fa3ad3c263c\" xlink:actuate=\"onRequest\" xlink:href=\"psysml:e6ab502d-dafd-416a-a255-3fa3ad3c263c\" xlink:show=\"new\" xlink:title=\"psysml:e6ab502d-dafd-416a-a255-3fa3ad3c263c\" xlink:type=\"simple\"><polygon fill=\"#FFFFFF\" points=\"16,6,134,6,141,28.2969,1093,28.2969,1093,183,16,183,16,6\" style=\"stroke: #000000; stroke-width: 1.5;\"/><line style=\"stroke: #000000; stroke-width: 1.5;\" x1=\"16\" x2=\"141\" y1=\"28.2969\" y2=\"28.2969\"/><text fill=\"#000000\" font-family=\"sans-serif\" font-size=\"14\" font-weight=\"bold\" lengthAdjust=\"spacingAndGlyphs\" textLength=\"112\" x=\"20\" y=\"20.9951\">OccurrenceTest</text></a><!--MD5=[f6df4d0ebaf0b5dfb2ced0ae5af7c670]\n",
       "cluster E4--><a href=\"psysml:ca3e4eae-d888-4010-bdf5-da81d89d1eab\" target=\"_top\" title=\"psysml:ca3e4eae-d888-4010-bdf5-da81d89d1eab\" xlink:actuate=\"onRequest\" xlink:href=\"psysml:ca3e4eae-d888-4010-bdf5-da81d89d1eab\" xlink:show=\"new\" xlink:title=\"psysml:ca3e4eae-d888-4010-bdf5-da81d89d1eab\" xlink:type=\"simple\"><rect fill=\"#FFFFFF\" height=\"110\" id=\"E4\" rx=\"10\" ry=\"10\" style=\"stroke: #383838; stroke-width: 1.5;\" width=\"435\" x=\"634\" y=\"49\"/><rect fill=\"#F8F8F8\" height=\"37.9375\" rx=\"10\" ry=\"10\" style=\"stroke: #F8F8F8; stroke-width: 1.5;\" width=\"435\" x=\"634\" y=\"49\"/><rect fill=\"#F8F8F8\" height=\"10\" style=\"stroke: #F8F8F8; stroke-width: 1.5;\" width=\"435\" x=\"634\" y=\"76.9375\"/><rect fill=\"none\" height=\"110\" id=\"E4\" rx=\"10\" ry=\"10\" style=\"stroke: #383838; stroke-width: 1.5;\" width=\"435\" x=\"634\" y=\"49\"/><text fill=\"#000000\" font-family=\"sans-serif\" font-size=\"12\" font-style=\"italic\" lengthAdjust=\"spacingAndGlyphs\" textLength=\"147\" x=\"778\" y=\"65.1387\">«individual occurrence»</text><text fill=\"#000000\" font-family=\"sans-serif\" font-size=\"12\" lengthAdjust=\"spacingAndGlyphs\" textLength=\"77\" x=\"813\" y=\"79.1074\">ind: Ind, Occ</text><line style=\"stroke: #383838; stroke-width: 1.0;\" x1=\"634\" x2=\"1069\" y1=\"86.9375\" y2=\"86.9375\"/></a><g id=\"E1.E2\"><a href=\"psysml:1203d309-d98c-452c-84ab-9db93e8b8d83\" target=\"_top\" title=\"psysml:1203d309-d98c-452c-84ab-9db93e8b8d83\" xlink:actuate=\"onRequest\" xlink:href=\"psysml:1203d309-d98c-452c-84ab-9db93e8b8d83\" xlink:show=\"new\" xlink:title=\"psysml:1203d309-d98c-452c-84ab-9db93e8b8d83\" xlink:type=\"simple\"><rect fill=\"#FFFFFF\" height=\"42.9375\" id=\"E2\" style=\"stroke: #383838; stroke-width: 1.5;\" width=\"116\" x=\"498\" y=\"100\"/><rect fill=\"#F8F8F8\" height=\"37.9375\" style=\"stroke: #383838; stroke-width: 1.5;\" width=\"116\" x=\"498\" y=\"100\"/><text fill=\"#000000\" font-family=\"sans-serif\" font-size=\"12\" font-style=\"italic\" lengthAdjust=\"spacingAndGlyphs\" textLength=\"109\" x=\"501.5\" y=\"116.1387\">«occurrence def»</text><text fill=\"#000000\" font-family=\"sans-serif\" font-size=\"12\" lengthAdjust=\"spacingAndGlyphs\" textLength=\"23\" x=\"544.5\" y=\"130.1074\">Occ</text></a></g><g id=\"E1.E3\"><a href=\"psysml:cddcce1d-840d-4259-9672-1cad32ef9616\" target=\"_top\" title=\"psysml:cddcce1d-840d-4259-9672-1cad32ef9616\" xlink:actuate=\"onRequest\" xlink:href=\"psysml:cddcce1d-840d-4259-9672-1cad32ef9616\" xlink:show=\"new\" xlink:title=\"psysml:cddcce1d-840d-4259-9672-1cad32ef9616\" xlink:type=\"simple\"><rect fill=\"#FFFFFF\" height=\"42.9375\" id=\"E3\" style=\"stroke: #383838; stroke-width: 1.5;\" width=\"178\" x=\"285\" y=\"100\"/><rect fill=\"#F8F8F8\" height=\"37.9375\" style=\"stroke: #383838; stroke-width: 1.5;\" width=\"178\" x=\"285\" y=\"100\"/><text fill=\"#000000\" font-family=\"sans-serif\" font-size=\"12\" font-style=\"italic\" lengthAdjust=\"spacingAndGlyphs\" textLength=\"171\" x=\"288.5\" y=\"116.1387\">«individual occurrence def»</text><text fill=\"#000000\" font-family=\"sans-serif\" font-size=\"12\" lengthAdjust=\"spacingAndGlyphs\" textLength=\"19\" x=\"364.5\" y=\"130.1074\">Ind</text></a></g><g id=\"E1.E4.E5\"><a href=\"psysml:a7aa12fc-e204-4f0a-90f2-9ab0101a123a\" target=\"_top\" title=\"psysml:a7aa12fc-e204-4f0a-90f2-9ab0101a123a\" xlink:actuate=\"onRequest\" xlink:href=\"psysml:a7aa12fc-e204-4f0a-90f2-9ab0101a123a\" xlink:show=\"new\" xlink:title=\"psysml:a7aa12fc-e204-4f0a-90f2-9ab0101a123a\" xlink:type=\"simple\"><rect fill=\"#FFFFFF\" height=\"42.9375\" id=\"E5\" rx=\"10\" ry=\"10\" style=\"stroke: #383838; stroke-width: 1.5;\" width=\"155\" x=\"897.5\" y=\"100\"/><rect fill=\"#F8F8F8\" height=\"37.9375\" rx=\"10\" ry=\"10\" style=\"stroke: #F8F8F8; stroke-width: 1.5;\" width=\"155\" x=\"897.5\" y=\"100\"/><rect fill=\"#F8F8F8\" height=\"10\" style=\"stroke: #F8F8F8; stroke-width: 1.5;\" width=\"155\" x=\"897.5\" y=\"127.9375\"/><rect fill=\"none\" height=\"42.9375\" id=\"E5\" rx=\"10\" ry=\"10\" style=\"stroke: #383838; stroke-width: 1.5;\" width=\"155\" x=\"897.5\" y=\"100\"/><text fill=\"#000000\" font-family=\"sans-serif\" font-size=\"12\" font-style=\"italic\" lengthAdjust=\"spacingAndGlyphs\" textLength=\"148\" x=\"901\" y=\"116.1387\">«snapshot occurrence»</text><text fill=\"#000000\" font-family=\"sans-serif\" font-size=\"12\" lengthAdjust=\"spacingAndGlyphs\" textLength=\"15\" x=\"967.5\" y=\"130.1074\">s3</text></a></g><g id=\"E1.E4.E6\"><a href=\"psysml:5052c3e9-886b-4521-8bf3-18ad9cb470c5\" target=\"_top\" title=\"psysml:5052c3e9-886b-4521-8bf3-18ad9cb470c5\" xlink:actuate=\"onRequest\" xlink:href=\"psysml:5052c3e9-886b-4521-8bf3-18ad9cb470c5\" xlink:show=\"new\" xlink:title=\"psysml:5052c3e9-886b-4521-8bf3-18ad9cb470c5\" xlink:type=\"simple\"><rect fill=\"#FFFFFF\" height=\"42.9375\" id=\"E6\" rx=\"10\" ry=\"10\" style=\"stroke: #383838; stroke-width: 1.5;\" width=\"213\" x=\"649.5\" y=\"100\"/><rect fill=\"#F8F8F8\" height=\"37.9375\" rx=\"10\" ry=\"10\" style=\"stroke: #F8F8F8; stroke-width: 1.5;\" width=\"213\" x=\"649.5\" y=\"100\"/><rect fill=\"#F8F8F8\" height=\"10\" style=\"stroke: #F8F8F8; stroke-width: 1.5;\" width=\"213\" x=\"649.5\" y=\"127.9375\"/><rect fill=\"none\" height=\"42.9375\" id=\"E6\" rx=\"10\" ry=\"10\" style=\"stroke: #383838; stroke-width: 1.5;\" width=\"213\" x=\"649.5\" y=\"100\"/><text fill=\"#000000\" font-family=\"sans-serif\" font-size=\"12\" font-style=\"italic\" lengthAdjust=\"spacingAndGlyphs\" textLength=\"206\" x=\"653\" y=\"116.1387\">«individual timeslice occurrence»</text><text fill=\"#000000\" font-family=\"sans-serif\" font-size=\"12\" lengthAdjust=\"spacingAndGlyphs\" textLength=\"13\" x=\"749.5\" y=\"130.1074\">t3</text></a></g><g id=\"E1.E7\"><a href=\"psysml:e6d8c0e1-46dd-40c0-98f9-8ea23118f8bb\" target=\"_top\" title=\"psysml:e6d8c0e1-46dd-40c0-98f9-8ea23118f8bb\" xlink:actuate=\"onRequest\" xlink:href=\"psysml:e6d8c0e1-46dd-40c0-98f9-8ea23118f8bb\" xlink:show=\"new\" xlink:title=\"psysml:e6d8c0e1-46dd-40c0-98f9-8ea23118f8bb\" xlink:type=\"simple\"><rect fill=\"#FFFFFF\" height=\"42.9375\" id=\"E7\" rx=\"10\" ry=\"10\" style=\"stroke: #383838; stroke-width: 1.5;\" width=\"217\" x=\"32.5\" y=\"100\"/><rect fill=\"#F8F8F8\" height=\"37.9375\" rx=\"10\" ry=\"10\" style=\"stroke: #F8F8F8; stroke-width: 1.5;\" width=\"217\" x=\"32.5\" y=\"100\"/><rect fill=\"#F8F8F8\" height=\"10\" style=\"stroke: #F8F8F8; stroke-width: 1.5;\" width=\"217\" x=\"32.5\" y=\"127.9375\"/><rect fill=\"none\" height=\"42.9375\" id=\"E7\" rx=\"10\" ry=\"10\" style=\"stroke: #383838; stroke-width: 1.5;\" width=\"217\" x=\"32.5\" y=\"100\"/><text fill=\"#000000\" font-family=\"sans-serif\" font-size=\"12\" font-style=\"italic\" lengthAdjust=\"spacingAndGlyphs\" textLength=\"210\" x=\"36\" y=\"116.1387\">«individual snapshot occurrence»</text><text fill=\"#000000\" font-family=\"sans-serif\" font-size=\"12\" lengthAdjust=\"spacingAndGlyphs\" textLength=\"42\" x=\"120\" y=\"130.1074\">s4: Ind</text></a></g><!--MD5=[6a8b56d17f83c6788ad3a83ba6c40def]\n",
       "@startuml\r\n",
       "skinparam ranksep 10\r\n",
       "skinparam rectangle {\r\n",
       " backgroundColor<<block>> LightGreen\r\n",
       "}\r\n",
       "top to bottom direction\r\n",
       "skinparam monochrome true\r\n",
       "skinparam classbackgroundcolor white\r\n",
       "skinparam shadowing false\r\n",
       "skinparam wrapWidth 300\r\n",
       "hide circle\r\n",
       "\r\n",
       "package \"OccurrenceTest\" as E1  [[psysml:e6ab502d-dafd-416a-a255-3fa3ad3c263c ]]  {\r\n",
       "def \"Occ\" as E2  <<(T,blue) occurrence def>> [[psysml:1203d309-d98c-452c-84ab-9db93e8b8d83 ]] \r\n",
       "def \"Ind\" as E3  <<(T,blue) individual occurrence def>> [[psysml:cddcce1d-840d-4259-9672-1cad32ef9616 ]] \r\n",
       "rec usage \"ind: Ind, Occ\" as E4  <<(T,blue) individual occurrence>> [[psysml:ca3e4eae-d888-4010-bdf5-da81d89d1eab ]] {\r\n",
       "rec usage \"s3\" as E5  <<(T,blue) snapshot occurrence>> [[psysml:a7aa12fc-e204-4f0a-90f2-9ab0101a123a ]] {\r\n",
       "}\r\n",
       "rec usage \"t3\" as E6  <<(T,blue) individual timeslice occurrence>> [[psysml:5052c3e9-886b-4521-8bf3-18ad9cb470c5 ]] {\r\n",
       "}\r\n",
       "}\r\n",
       "rec usage \"s4: Ind\" as E7  <<(T,blue) individual snapshot occurrence>> [[psysml:e6d8c0e1-46dd-40c0-98f9-8ea23118f8bb ]] {\r\n",
       "}\r\n",
       "}\r\n",
       "@enduml\r\n",
       "\n",
       "PlantUML version 1.2020.13(Sat Jun 13 12:26:38 UTC 2020)\n",
       "(EPL source distribution)\n",
       "Java Runtime: OpenJDK Runtime Environment\n",
       "JVM: OpenJDK 64-Bit Server VM\n",
       "Default Encoding: UTF-8\n",
       "Language: en\n",
       "Country: null\n",
       "--></g></svg>"
      ]
     },
     "execution_count": 47,
     "metadata": {},
     "output_type": "execute_result"
    }
   ],
   "source": [
    "%viz --style=\"TB\" --view=\"Interconnection\" \"OccurrenceTest\""
   ]
  },
  {
   "cell_type": "code",
   "execution_count": 48,
   "id": "d47b1dd3",
   "metadata": {
    "execution": {
     "iopub.execute_input": "2021-10-03T08:28:46.005566Z",
     "iopub.status.busy": "2021-10-03T08:28:46.005170Z",
     "iopub.status.idle": "2021-10-03T08:28:46.010075Z",
     "shell.execute_reply": "2021-10-03T08:28:46.009745Z"
    }
   },
   "outputs": [
    {
     "data": {
      "image/svg+xml": [
       "<?xml version=\"1.0\" encoding=\"UTF-8\" standalone=\"no\"?><svg xmlns=\"http://www.w3.org/2000/svg\" xmlns:xlink=\"http://www.w3.org/1999/xlink\" contentScriptType=\"application/ecmascript\" contentStyleType=\"text/css\" height=\"12px\" preserveAspectRatio=\"none\" style=\"width:12px;height:12px;\" version=\"1.1\" viewBox=\"0 0 12 12\" width=\"12px\" zoomAndPan=\"magnify\"><defs/><g><!--MD5=[06afc254b03ac5e9d9fb7773b07d0800]\n",
       "@startuml\r\n",
       "skinparam ranksep 8\r\n",
       "top to bottom direction\r\n",
       "skinparam monochrome true\r\n",
       "skinparam classbackgroundcolor white\r\n",
       "skinparam shadowing false\r\n",
       "skinparam wrapWidth 300\r\n",
       "hide circle\r\n",
       "\r\n",
       "@enduml\r\n",
       "\n",
       "PlantUML version 1.2020.13(Sat Jun 13 12:26:38 UTC 2020)\n",
       "(EPL source distribution)\n",
       "Java Runtime: OpenJDK Runtime Environment\n",
       "JVM: OpenJDK 64-Bit Server VM\n",
       "Default Encoding: UTF-8\n",
       "Language: en\n",
       "Country: null\n",
       "--></g></svg>"
      ]
     },
     "execution_count": 48,
     "metadata": {},
     "output_type": "execute_result"
    }
   ],
   "source": [
    "%viz --style=\"TB\" --view=\"Action\" \"OccurrenceTest\""
   ]
  },
  {
   "cell_type": "code",
   "execution_count": 49,
   "id": "5fe40d3d",
   "metadata": {
    "execution": {
     "iopub.execute_input": "2021-10-03T08:28:46.059602Z",
     "iopub.status.busy": "2021-10-03T08:28:46.059208Z",
     "iopub.status.idle": "2021-10-03T08:28:46.063758Z",
     "shell.execute_reply": "2021-10-03T08:28:46.064086Z"
    }
   },
   "outputs": [
    {
     "data": {
      "image/svg+xml": [
       "<?xml version=\"1.0\" encoding=\"UTF-8\" standalone=\"no\"?><svg xmlns=\"http://www.w3.org/2000/svg\" xmlns:xlink=\"http://www.w3.org/1999/xlink\" contentScriptType=\"application/ecmascript\" contentStyleType=\"text/css\" height=\"12px\" preserveAspectRatio=\"none\" style=\"width:12px;height:12px;\" version=\"1.1\" viewBox=\"0 0 12 12\" width=\"12px\" zoomAndPan=\"magnify\"><defs/><g><!--MD5=[e1ab0c84c44d2fef8bf5f140f2689906]\n",
       "@startuml\r\n",
       "skinparam roundcorner 20\r\n",
       "skinparam BoxPadding 20\r\n",
       "skinparam SequenceBoxBackgroundColor #white\r\n",
       "skinparam style strictuml\r\n",
       "skinparam maxMessageSize 100\r\n",
       "top to bottom direction\r\n",
       "skinparam monochrome true\r\n",
       "skinparam classbackgroundcolor white\r\n",
       "skinparam shadowing false\r\n",
       "skinparam wrapWidth 300\r\n",
       "hide circle\r\n",
       "\r\n",
       "@enduml\r\n",
       "\n",
       "PlantUML version 1.2020.13(Sat Jun 13 12:26:38 UTC 2020)\n",
       "(EPL source distribution)\n",
       "Java Runtime: OpenJDK Runtime Environment\n",
       "JVM: OpenJDK 64-Bit Server VM\n",
       "Default Encoding: UTF-8\n",
       "Language: en\n",
       "Country: null\n",
       "--></g></svg>"
      ]
     },
     "execution_count": 49,
     "metadata": {},
     "output_type": "execute_result"
    }
   ],
   "source": [
    "%viz --style=\"TB\" --view=\"Sequence\" \"OccurrenceTest\""
   ]
  },
  {
   "cell_type": "code",
   "execution_count": 50,
   "id": "fc1521ca",
   "metadata": {
    "execution": {
     "iopub.execute_input": "2021-10-03T08:28:46.113673Z",
     "iopub.status.busy": "2021-10-03T08:28:46.113278Z",
     "iopub.status.idle": "2021-10-03T08:28:46.163938Z",
     "shell.execute_reply": "2021-10-03T08:28:46.163544Z"
    }
   },
   "outputs": [
    {
     "data": {
      "image/svg+xml": [
       "<?xml version=\"1.0\" encoding=\"UTF-8\" standalone=\"no\"?><svg xmlns=\"http://www.w3.org/2000/svg\" xmlns:xlink=\"http://www.w3.org/1999/xlink\" contentScriptType=\"application/ecmascript\" contentStyleType=\"text/css\" height=\"569px\" preserveAspectRatio=\"none\" style=\"width:1009px;height:569px;\" version=\"1.1\" viewBox=\"0 0 1009 569\" width=\"1009px\" zoomAndPan=\"magnify\"><defs/><g><!--MD5=[fbc87193dbaf4d95561dea2c320d4a47]\n",
       "cluster E1--><a href=\"psysml:e6ab502d-dafd-416a-a255-3fa3ad3c263c\" target=\"_top\" title=\"psysml:e6ab502d-dafd-416a-a255-3fa3ad3c263c\" xlink:actuate=\"onRequest\" xlink:href=\"psysml:e6ab502d-dafd-416a-a255-3fa3ad3c263c\" xlink:show=\"new\" xlink:title=\"psysml:e6ab502d-dafd-416a-a255-3fa3ad3c263c\" xlink:type=\"simple\"><polygon fill=\"#FFFFFF\" points=\"16,6,134,6,141,28.2969,970,28.2969,970,557,16,557,16,6\" style=\"stroke: #000000; stroke-width: 1.5;\"/><line style=\"stroke: #000000; stroke-width: 1.5;\" x1=\"16\" x2=\"141\" y1=\"28.2969\" y2=\"28.2969\"/><text fill=\"#000000\" font-family=\"sans-serif\" font-size=\"14\" font-weight=\"bold\" lengthAdjust=\"spacingAndGlyphs\" textLength=\"112\" x=\"20\" y=\"20.9951\">OccurrenceTest</text></a><!--MD5=[b4997ac47864f28c2f74865a473b2911]\n",
       "class E2--><a href=\"psysml:1203d309-d98c-452c-84ab-9db93e8b8d83\" target=\"_top\" title=\"psysml:1203d309-d98c-452c-84ab-9db93e8b8d83\" xlink:actuate=\"onRequest\" xlink:href=\"psysml:1203d309-d98c-452c-84ab-9db93e8b8d83\" xlink:show=\"new\" xlink:title=\"psysml:1203d309-d98c-452c-84ab-9db93e8b8d83\" xlink:type=\"simple\"><rect fill=\"#FFFFFF\" height=\"75.5469\" id=\"E2\" style=\"stroke: #383838; stroke-width: 1.5;\" width=\"111\" x=\"377.5\" y=\"147\"/><text fill=\"#000000\" font-family=\"sans-serif\" font-size=\"12\" font-style=\"italic\" lengthAdjust=\"spacingAndGlyphs\" textLength=\"109\" x=\"378.5\" y=\"163.1387\">«occurrence def»</text><text fill=\"#000000\" font-family=\"sans-serif\" font-size=\"12\" lengthAdjust=\"spacingAndGlyphs\" textLength=\"23\" x=\"421.5\" y=\"177.1074\">Occ</text><line style=\"stroke: #383838; stroke-width: 1.5;\" x1=\"378.5\" x2=\"487.5\" y1=\"184.9375\" y2=\"184.9375\"/><text fill=\"#000000\" font-family=\"sans-serif\" font-size=\"11\" lengthAdjust=\"spacingAndGlyphs\" textLength=\"7\" x=\"383.5\" y=\"215.9526\">a</text><line style=\"stroke: #383838; stroke-width: 1.0;\" x1=\"378.5\" x2=\"405.5\" y1=\"199.3398\" y2=\"199.3398\"/><text fill=\"#000000\" font-family=\"sans-serif\" font-size=\"11\" lengthAdjust=\"spacingAndGlyphs\" textLength=\"55\" x=\"405.5\" y=\"202.6479\">attributes</text><line style=\"stroke: #383838; stroke-width: 1.0;\" x1=\"460.5\" x2=\"487.5\" y1=\"199.3398\" y2=\"199.3398\"/></a><!--MD5=[09b614a08d8cba4a07c9adeb5e0fee81]\n",
       "class E3--><a href=\"psysml:158a345e-3640-4aa1-8638-58b6699698f0\" target=\"_top\" title=\"psysml:158a345e-3640-4aa1-8638-58b6699698f0\" xlink:actuate=\"onRequest\" xlink:href=\"psysml:158a345e-3640-4aa1-8638-58b6699698f0\" xlink:show=\"new\" xlink:title=\"psysml:158a345e-3640-4aa1-8638-58b6699698f0\" xlink:type=\"simple\"><rect fill=\"#FFFFFF\" height=\"45.9375\" id=\"E3\" rx=\"10\" ry=\"10\" style=\"stroke: #383838; stroke-width: 1.5;\" width=\"87\" x=\"279.5\" y=\"283\"/><text fill=\"#000000\" font-family=\"sans-serif\" font-size=\"12\" font-style=\"italic\" lengthAdjust=\"spacingAndGlyphs\" textLength=\"85\" x=\"280.5\" y=\"299.1387\">«occurrence»</text><text fill=\"#000000\" font-family=\"sans-serif\" font-size=\"12\" lengthAdjust=\"spacingAndGlyphs\" textLength=\"61\" x=\"292.5\" y=\"313.1074\">occ1: Occ</text><line style=\"stroke: #383838; stroke-width: 1.5;\" x1=\"280.5\" x2=\"365.5\" y1=\"320.9375\" y2=\"320.9375\"/></a><!--MD5=[ebbe1d658d1005bcc118a6aa81145e00]\n",
       "class E4--><a href=\"psysml:5ccc27c3-07b1-4713-880e-82008912fb62\" target=\"_top\" title=\"psysml:5ccc27c3-07b1-4713-880e-82008912fb62\" xlink:actuate=\"onRequest\" xlink:href=\"psysml:5ccc27c3-07b1-4713-880e-82008912fb62\" xlink:show=\"new\" xlink:title=\"psysml:5ccc27c3-07b1-4713-880e-82008912fb62\" xlink:type=\"simple\"><rect fill=\"#FFFFFF\" height=\"45.9375\" id=\"E4\" rx=\"10\" ry=\"10\" style=\"stroke: #383838; stroke-width: 1.5;\" width=\"87\" x=\"401.5\" y=\"283\"/><text fill=\"#000000\" font-family=\"sans-serif\" font-size=\"12\" font-style=\"italic\" lengthAdjust=\"spacingAndGlyphs\" textLength=\"85\" x=\"402.5\" y=\"299.1387\">«occurrence»</text><text fill=\"#000000\" font-family=\"sans-serif\" font-size=\"12\" lengthAdjust=\"spacingAndGlyphs\" textLength=\"61\" x=\"414.5\" y=\"313.1074\">occ2: Occ</text><line style=\"stroke: #383838; stroke-width: 1.5;\" x1=\"402.5\" x2=\"487.5\" y1=\"320.9375\" y2=\"320.9375\"/></a><!--MD5=[270fce915f116d4de14055a7c1d9a0f3]\n",
       "class E5--><a href=\"psysml:b931cfcd-d1f5-4c70-b44c-3b4fd21c9018\" target=\"_top\" title=\"psysml:b931cfcd-d1f5-4c70-b44c-3b4fd21c9018\" xlink:actuate=\"onRequest\" xlink:href=\"psysml:b931cfcd-d1f5-4c70-b44c-3b4fd21c9018\" xlink:show=\"new\" xlink:title=\"psysml:b931cfcd-d1f5-4c70-b44c-3b4fd21c9018\" xlink:type=\"simple\"><rect fill=\"#FFFFFF\" height=\"45.9375\" id=\"E5\" rx=\"10\" ry=\"10\" style=\"stroke: #383838; stroke-width: 1.5;\" width=\"212\" x=\"524\" y=\"283\"/><text fill=\"#000000\" font-family=\"sans-serif\" font-size=\"12\" font-style=\"italic\" lengthAdjust=\"spacingAndGlyphs\" textLength=\"210\" x=\"525\" y=\"299.1387\">«individual snapshot occurrence»</text><text fill=\"#000000\" font-family=\"sans-serif\" font-size=\"12\" lengthAdjust=\"spacingAndGlyphs\" textLength=\"34\" x=\"613\" y=\"313.1074\">s: Ind</text><line style=\"stroke: #383838; stroke-width: 1.5;\" x1=\"525\" x2=\"735\" y1=\"320.9375\" y2=\"320.9375\"/></a><!--MD5=[60a26617385b1d2d0262a64233df1f8d]\n",
       "class E6--><a href=\"psysml:a76dffb5-cb4a-4142-b15c-9dbeb6bd2474\" target=\"_top\" title=\"psysml:a76dffb5-cb4a-4142-b15c-9dbeb6bd2474\" xlink:actuate=\"onRequest\" xlink:href=\"psysml:a76dffb5-cb4a-4142-b15c-9dbeb6bd2474\" xlink:show=\"new\" xlink:title=\"psysml:a76dffb5-cb4a-4142-b15c-9dbeb6bd2474\" xlink:type=\"simple\"><rect fill=\"#FFFFFF\" height=\"45.9375\" id=\"E6\" rx=\"10\" ry=\"10\" style=\"stroke: #383838; stroke-width: 1.5;\" width=\"146\" x=\"771\" y=\"283\"/><text fill=\"#000000\" font-family=\"sans-serif\" font-size=\"12\" font-style=\"italic\" lengthAdjust=\"spacingAndGlyphs\" textLength=\"144\" x=\"772\" y=\"299.1387\">«timeslice occurrence»</text><text fill=\"#000000\" font-family=\"sans-serif\" font-size=\"12\" lengthAdjust=\"spacingAndGlyphs\" textLength=\"5\" x=\"841.5\" y=\"313.1074\">t</text><line style=\"stroke: #383838; stroke-width: 1.5;\" x1=\"772\" x2=\"916\" y1=\"320.9375\" y2=\"320.9375\"/></a><!--MD5=[2156ba9850f5573cc1fc38a6a4b2f02b]\n",
       "class E7--><a href=\"psysml:cddcce1d-840d-4259-9672-1cad32ef9616\" target=\"_top\" title=\"psysml:cddcce1d-840d-4259-9672-1cad32ef9616\" xlink:actuate=\"onRequest\" xlink:href=\"psysml:cddcce1d-840d-4259-9672-1cad32ef9616\" xlink:show=\"new\" xlink:title=\"psysml:cddcce1d-840d-4259-9672-1cad32ef9616\" xlink:type=\"simple\"><rect fill=\"#FFFFFF\" height=\"45.9375\" id=\"E7\" style=\"stroke: #383838; stroke-width: 1.5;\" width=\"173\" x=\"543.5\" y=\"389\"/><text fill=\"#000000\" font-family=\"sans-serif\" font-size=\"12\" font-style=\"italic\" lengthAdjust=\"spacingAndGlyphs\" textLength=\"171\" x=\"544.5\" y=\"405.1387\">«individual occurrence def»</text><text fill=\"#000000\" font-family=\"sans-serif\" font-size=\"12\" lengthAdjust=\"spacingAndGlyphs\" textLength=\"19\" x=\"620.5\" y=\"419.1074\">Ind</text><line style=\"stroke: #383838; stroke-width: 1.5;\" x1=\"544.5\" x2=\"715.5\" y1=\"426.9375\" y2=\"426.9375\"/></a><!--MD5=[b9389687b975829384b498ac4b7476b2]\n",
       "class E8--><a href=\"psysml:760118bf-f26e-45fa-9528-0dbdf12ed33d\" target=\"_top\" title=\"psysml:760118bf-f26e-45fa-9528-0dbdf12ed33d\" xlink:actuate=\"onRequest\" xlink:href=\"psysml:760118bf-f26e-45fa-9528-0dbdf12ed33d\" xlink:show=\"new\" xlink:title=\"psysml:760118bf-f26e-45fa-9528-0dbdf12ed33d\" xlink:type=\"simple\"><rect fill=\"#FFFFFF\" height=\"45.9375\" id=\"E8\" rx=\"10\" ry=\"10\" style=\"stroke: #383838; stroke-width: 1.5;\" width=\"150\" x=\"463\" y=\"495\"/><text fill=\"#000000\" font-family=\"sans-serif\" font-size=\"12\" font-style=\"italic\" lengthAdjust=\"spacingAndGlyphs\" textLength=\"148\" x=\"464\" y=\"511.1387\">«snapshot occurrence»</text><text fill=\"#000000\" font-family=\"sans-serif\" font-size=\"12\" lengthAdjust=\"spacingAndGlyphs\" textLength=\"15\" x=\"530.5\" y=\"525.1074\">s2</text><line style=\"stroke: #383838; stroke-width: 1.5;\" x1=\"464\" x2=\"612\" y1=\"532.9375\" y2=\"532.9375\"/></a><!--MD5=[fd4143e9d270a159db93a4ea2a975926]\n",
       "class E9--><a href=\"psysml:6916c4a6-d3e9-4718-9bd3-b4da3843528f\" target=\"_top\" title=\"psysml:6916c4a6-d3e9-4718-9bd3-b4da3843528f\" xlink:actuate=\"onRequest\" xlink:href=\"psysml:6916c4a6-d3e9-4718-9bd3-b4da3843528f\" xlink:show=\"new\" xlink:title=\"psysml:6916c4a6-d3e9-4718-9bd3-b4da3843528f\" xlink:type=\"simple\"><rect fill=\"#FFFFFF\" height=\"45.9375\" id=\"E9\" rx=\"10\" ry=\"10\" style=\"stroke: #383838; stroke-width: 1.5;\" width=\"146\" x=\"648\" y=\"495\"/><text fill=\"#000000\" font-family=\"sans-serif\" font-size=\"12\" font-style=\"italic\" lengthAdjust=\"spacingAndGlyphs\" textLength=\"144\" x=\"649\" y=\"511.1387\">«timeslice occurrence»</text><text fill=\"#000000\" font-family=\"sans-serif\" font-size=\"12\" lengthAdjust=\"spacingAndGlyphs\" textLength=\"13\" x=\"714.5\" y=\"525.1074\">t2</text><line style=\"stroke: #383838; stroke-width: 1.5;\" x1=\"649\" x2=\"793\" y1=\"532.9375\" y2=\"532.9375\"/></a><!--MD5=[96f4274e9e20536e775497830990834d]\n",
       "class E10--><a href=\"psysml:ca3e4eae-d888-4010-bdf5-da81d89d1eab\" target=\"_top\" title=\"psysml:ca3e4eae-d888-4010-bdf5-da81d89d1eab\" xlink:actuate=\"onRequest\" xlink:href=\"psysml:ca3e4eae-d888-4010-bdf5-da81d89d1eab\" xlink:show=\"new\" xlink:title=\"psysml:ca3e4eae-d888-4010-bdf5-da81d89d1eab\" xlink:type=\"simple\"><rect fill=\"#FFFFFF\" height=\"45.9375\" id=\"E10\" rx=\"10\" ry=\"10\" style=\"stroke: #383838; stroke-width: 1.5;\" width=\"149\" x=\"505.5\" y=\"41\"/><text fill=\"#000000\" font-family=\"sans-serif\" font-size=\"12\" font-style=\"italic\" lengthAdjust=\"spacingAndGlyphs\" textLength=\"147\" x=\"506.5\" y=\"57.1387\">«individual occurrence»</text><text fill=\"#000000\" font-family=\"sans-serif\" font-size=\"12\" lengthAdjust=\"spacingAndGlyphs\" textLength=\"77\" x=\"541.5\" y=\"71.1074\">ind: Ind, Occ</text><line style=\"stroke: #383838; stroke-width: 1.5;\" x1=\"506.5\" x2=\"653.5\" y1=\"78.9375\" y2=\"78.9375\"/></a><!--MD5=[1dd1bfd58a279cf63c5f349dbc8fc6a1]\n",
       "class E11--><a href=\"psysml:a7aa12fc-e204-4f0a-90f2-9ab0101a123a\" target=\"_top\" title=\"psysml:a7aa12fc-e204-4f0a-90f2-9ab0101a123a\" xlink:actuate=\"onRequest\" xlink:href=\"psysml:a7aa12fc-e204-4f0a-90f2-9ab0101a123a\" xlink:show=\"new\" xlink:title=\"psysml:a7aa12fc-e204-4f0a-90f2-9ab0101a123a\" xlink:type=\"simple\"><rect fill=\"#FFFFFF\" height=\"45.9375\" id=\"E11\" rx=\"10\" ry=\"10\" style=\"stroke: #383838; stroke-width: 1.5;\" width=\"150\" x=\"561\" y=\"162\"/><text fill=\"#000000\" font-family=\"sans-serif\" font-size=\"12\" font-style=\"italic\" lengthAdjust=\"spacingAndGlyphs\" textLength=\"148\" x=\"562\" y=\"178.1387\">«snapshot occurrence»</text><text fill=\"#000000\" font-family=\"sans-serif\" font-size=\"12\" lengthAdjust=\"spacingAndGlyphs\" textLength=\"15\" x=\"628.5\" y=\"192.1074\">s3</text><line style=\"stroke: #383838; stroke-width: 1.5;\" x1=\"562\" x2=\"710\" y1=\"199.9375\" y2=\"199.9375\"/></a><!--MD5=[49a0ec8f00dab7302a31f22d0f0fe584]\n",
       "class E12--><a href=\"psysml:5052c3e9-886b-4521-8bf3-18ad9cb470c5\" target=\"_top\" title=\"psysml:5052c3e9-886b-4521-8bf3-18ad9cb470c5\" xlink:actuate=\"onRequest\" xlink:href=\"psysml:5052c3e9-886b-4521-8bf3-18ad9cb470c5\" xlink:show=\"new\" xlink:title=\"psysml:5052c3e9-886b-4521-8bf3-18ad9cb470c5\" xlink:type=\"simple\"><rect fill=\"#FFFFFF\" height=\"45.9375\" id=\"E12\" rx=\"10\" ry=\"10\" style=\"stroke: #383838; stroke-width: 1.5;\" width=\"208\" x=\"746\" y=\"162\"/><text fill=\"#000000\" font-family=\"sans-serif\" font-size=\"12\" font-style=\"italic\" lengthAdjust=\"spacingAndGlyphs\" textLength=\"206\" x=\"747\" y=\"178.1387\">«individual timeslice occurrence»</text><text fill=\"#000000\" font-family=\"sans-serif\" font-size=\"12\" lengthAdjust=\"spacingAndGlyphs\" textLength=\"13\" x=\"843.5\" y=\"192.1074\">t3</text><line style=\"stroke: #383838; stroke-width: 1.5;\" x1=\"747\" x2=\"953\" y1=\"199.9375\" y2=\"199.9375\"/></a><!--MD5=[ee3c913d1a06f366521f9ef512b67efe]\n",
       "class E13--><a href=\"psysml:e6d8c0e1-46dd-40c0-98f9-8ea23118f8bb\" target=\"_top\" title=\"psysml:e6d8c0e1-46dd-40c0-98f9-8ea23118f8bb\" xlink:actuate=\"onRequest\" xlink:href=\"psysml:e6d8c0e1-46dd-40c0-98f9-8ea23118f8bb\" xlink:show=\"new\" xlink:title=\"psysml:e6d8c0e1-46dd-40c0-98f9-8ea23118f8bb\" xlink:type=\"simple\"><rect fill=\"#FFFFFF\" height=\"45.9375\" id=\"E13\" rx=\"10\" ry=\"10\" style=\"stroke: #383838; stroke-width: 1.5;\" width=\"212\" x=\"32\" y=\"283\"/><text fill=\"#000000\" font-family=\"sans-serif\" font-size=\"12\" font-style=\"italic\" lengthAdjust=\"spacingAndGlyphs\" textLength=\"210\" x=\"33\" y=\"299.1387\">«individual snapshot occurrence»</text><text fill=\"#000000\" font-family=\"sans-serif\" font-size=\"12\" lengthAdjust=\"spacingAndGlyphs\" textLength=\"42\" x=\"117\" y=\"313.1074\">s4: Ind</text><line style=\"stroke: #383838; stroke-width: 1.5;\" x1=\"33\" x2=\"243\" y1=\"320.9375\" y2=\"320.9375\"/></a><!--MD5=[209b3feb70ccb6233bfe1053d122c12c]\n",
       "reverse link E2 to E3--><a href=\"psysml:816d5179-2674-4631-83bc-f7d71b4237a7\" target=\"_top\" title=\"psysml:816d5179-2674-4631-83bc-f7d71b4237a7\" xlink:actuate=\"onRequest\" xlink:href=\"psysml:816d5179-2674-4631-83bc-f7d71b4237a7\" xlink:show=\"new\" xlink:title=\"psysml:816d5179-2674-4631-83bc-f7d71b4237a7\" xlink:type=\"simple\"><path d=\"M377.59,232.45 C360.78,249.83 344.04,268.76 333.23,282.93 \" fill=\"none\" id=\"E2&lt;-E3\" style=\"stroke: #383838; stroke-width: 1.0;\"/><polygon fill=\"#FFFFFF\" points=\"386.9,223,379.8401,224.4691,378.4809,231.5509,385.5407,230.0818,386.9,223\" style=\"stroke: #383838; stroke-width: 1.0;\"/></a><!--MD5=[05d275557350bfb9b23a4ef7222b4c39]\n",
       "link E3 to E2--><a href=\"psysml:eb3070f5-b0ea-4331-ac23-68f76765f53a\" target=\"_top\" title=\"psysml:eb3070f5-b0ea-4331-ac23-68f76765f53a\" xlink:actuate=\"onRequest\" xlink:href=\"psysml:eb3070f5-b0ea-4331-ac23-68f76765f53a\" xlink:show=\"new\" xlink:title=\"psysml:eb3070f5-b0ea-4331-ac23-68f76765f53a\" xlink:type=\"simple\"><path d=\"M354.17,282.93 C367.96,270.34 383.96,253.98 398.07,238.29 \" fill=\"none\" id=\"E3-&gt;E2\" style=\"stroke: #383838; stroke-width: 1.0;\"/><polygon fill=\"#FFFFFF\" points=\"411.4,223,404.1971,241.924,393.6412,232.7276,411.4,223\" style=\"stroke: #383838; stroke-width: 1.0;\"/><ellipse cx=\"398.9449\" cy=\"244.908\" fill=\"#383838\" rx=\"2\" ry=\"2\" style=\"stroke: #383838; stroke-width: 1.0;\"/><ellipse cx=\"391.405\" cy=\"238.3391\" fill=\"#383838\" rx=\"2\" ry=\"2\" style=\"stroke: #383838; stroke-width: 1.0;\"/></a><!--MD5=[9618e71518536f8baf3342ff6fdab317]\n",
       "reverse link E2 to E4--><a href=\"psysml:0447f336-2e88-4877-9a74-bac22478a75a\" target=\"_top\" title=\"psysml:0447f336-2e88-4877-9a74-bac22478a75a\" xlink:actuate=\"onRequest\" xlink:href=\"psysml:0447f336-2e88-4877-9a74-bac22478a75a\" xlink:show=\"new\" xlink:title=\"psysml:0447f336-2e88-4877-9a74-bac22478a75a\" xlink:type=\"simple\"><path d=\"M425.46,236.34 C426.62,252.61 429.17,269.81 432.6,282.93 \" fill=\"none\" id=\"E2&lt;-E4\" style=\"stroke: #383838; stroke-width: 1.0;\"/><polygon fill=\"#383838\" points=\"424.83,223,421.118,229.1823,425.397,234.9866,429.109,228.8043,424.83,223\" style=\"stroke: #383838; stroke-width: 1.0;\"/></a><!--MD5=[185131fc0dcab0a4505a2ebe144e961b]\n",
       "link E4 to E2--><a href=\"psysml:bbe7f0c0-75f0-4d42-b38b-c0f55f25890a\" target=\"_top\" title=\"psysml:bbe7f0c0-75f0-4d42-b38b-c0f55f25890a\" xlink:actuate=\"onRequest\" xlink:href=\"psysml:bbe7f0c0-75f0-4d42-b38b-c0f55f25890a\" xlink:show=\"new\" xlink:title=\"psysml:bbe7f0c0-75f0-4d42-b38b-c0f55f25890a\" xlink:type=\"simple\"><path d=\"M453.54,282.93 C454.33,271.65 453.8,257.34 452.26,243.21 \" fill=\"none\" id=\"E4-&gt;E2\" style=\"stroke: #383838; stroke-width: 1.0;\"/><polygon fill=\"#FFFFFF\" points=\"449.33,223,458.9844,240.7987,445.1294,242.8079,449.33,223\" style=\"stroke: #383838; stroke-width: 1.0;\"/><ellipse cx=\"457.8232\" cy=\"246.7267\" fill=\"#383838\" rx=\"2\" ry=\"2\" style=\"stroke: #383838; stroke-width: 1.0;\"/><ellipse cx=\"447.9267\" cy=\"248.1619\" fill=\"#383838\" rx=\"2\" ry=\"2\" style=\"stroke: #383838; stroke-width: 1.0;\"/></a><!--MD5=[4e1a83fab71cdb913c109063314ae896]\n",
       "reverse link E2 to E5--><a href=\"psysml:5c44c5f5-a434-4c27-9e5d-4b118f9f4fa1\" target=\"_top\" title=\"psysml:5c44c5f5-a434-4c27-9e5d-4b118f9f4fa1\" xlink:actuate=\"onRequest\" xlink:href=\"psysml:5c44c5f5-a434-4c27-9e5d-4b118f9f4fa1\" xlink:show=\"new\" xlink:title=\"psysml:5c44c5f5-a434-4c27-9e5d-4b118f9f4fa1\" xlink:type=\"simple\"><path d=\"M499.94,226.44 C531.22,245.33 567.25,267.1 593.44,282.92 \" fill=\"none\" id=\"E2&lt;-E5\" style=\"stroke: #383838; stroke-width: 1.0;\"/><polygon fill=\"#383838\" points=\"488.66,219.62,491.731,226.1445,498.9348,225.8191,495.8638,219.2947,488.66,219.62\" style=\"stroke: #383838; stroke-width: 1.0;\"/></a><!--MD5=[ce036f65110ae2351ccce5a81dc2e928]\n",
       "reverse link E2 to E6--><a href=\"psysml:f84da050-0b5f-49f5-998e-9b704fc66ebc\" target=\"_top\" title=\"psysml:f84da050-0b5f-49f5-998e-9b704fc66ebc\" xlink:actuate=\"onRequest\" xlink:href=\"psysml:f84da050-0b5f-49f5-998e-9b704fc66ebc\" xlink:show=\"new\" xlink:title=\"psysml:f84da050-0b5f-49f5-998e-9b704fc66ebc\" xlink:type=\"simple\"><path d=\"M501.1,217.48 C506.1,219.45 511.11,221.31 516,223 C528.17,227.2 677.81,264.18 770.71,287.02 \" fill=\"none\" id=\"E2&lt;-E6\" style=\"stroke: #383838; stroke-width: 1.0;\"/><polygon fill=\"#383838\" points=\"488.72,212.43,492.764,218.4004,499.8305,216.9638,495.7866,210.9934,488.72,212.43\" style=\"stroke: #383838; stroke-width: 1.0;\"/><text fill=\"#000000\" font-family=\"sans-serif\" font-size=\"13\" lengthAdjust=\"spacingAndGlyphs\" textLength=\"7\" x=\"755.791\" y=\"281.3662\">*</text></a><!--MD5=[3a9b96bfbf6b6ad89c494e81751bda47]\n",
       "link E5 to E7--><a href=\"psysml:5222325c-bb46-4e39-81f0-12dbae43365a\" target=\"_top\" title=\"psysml:5222325c-bb46-4e39-81f0-12dbae43365a\" xlink:actuate=\"onRequest\" xlink:href=\"psysml:5222325c-bb46-4e39-81f0-12dbae43365a\" xlink:show=\"new\" xlink:title=\"psysml:5222325c-bb46-4e39-81f0-12dbae43365a\" xlink:type=\"simple\"><path d=\"M630,329.06 C630,340.64 630,355.23 630,368.87 \" fill=\"none\" id=\"E5-&gt;E7\" style=\"stroke: #383838; stroke-width: 1.0;\"/><polygon fill=\"#FFFFFF\" points=\"630,388.98,623,369.98,637,369.98,630,388.98\" style=\"stroke: #383838; stroke-width: 1.0;\"/><ellipse cx=\"625\" cy=\"364.28\" fill=\"#383838\" rx=\"2\" ry=\"2\" style=\"stroke: #383838; stroke-width: 1.0;\"/><ellipse cx=\"635\" cy=\"364.28\" fill=\"#383838\" rx=\"2\" ry=\"2\" style=\"stroke: #383838; stroke-width: 1.0;\"/></a><!--MD5=[dc164f5e8a733ab456ef1add180e9e34]\n",
       "reverse link E7 to E8--><a href=\"psysml:62bbb331-bb03-464e-9e32-68694608bffc\" target=\"_top\" title=\"psysml:62bbb331-bb03-464e-9e32-68694608bffc\" xlink:actuate=\"onRequest\" xlink:href=\"psysml:62bbb331-bb03-464e-9e32-68694608bffc\" xlink:show=\"new\" xlink:title=\"psysml:62bbb331-bb03-464e-9e32-68694608bffc\" xlink:type=\"simple\"><path d=\"M601.55,445.16 C587.25,461.33 570.28,480.51 557.48,494.98 \" fill=\"none\" id=\"E7&lt;-E8\" style=\"stroke: #383838; stroke-width: 1.0;\"/><polygon fill=\"#383838\" points=\"610.49,435.06,603.5177,436.9004,602.5348,444.0442,609.5071,442.2038,610.49,435.06\" style=\"stroke: #383838; stroke-width: 1.0;\"/><text fill=\"#000000\" font-family=\"sans-serif\" font-size=\"13\" lengthAdjust=\"spacingAndGlyphs\" textLength=\"7\" x=\"554.7746\" y=\"483.8709\">*</text></a><!--MD5=[e4a10ef82d0e328e31cac39a31e58dda]\n",
       "reverse link E7 to E9--><a href=\"psysml:6940b1aa-8c0f-4381-86aa-7b3e10e8c0d6\" target=\"_top\" title=\"psysml:6940b1aa-8c0f-4381-86aa-7b3e10e8c0d6\" xlink:actuate=\"onRequest\" xlink:href=\"psysml:6940b1aa-8c0f-4381-86aa-7b3e10e8c0d6\" xlink:show=\"new\" xlink:title=\"psysml:6940b1aa-8c0f-4381-86aa-7b3e10e8c0d6\" xlink:type=\"simple\"><path d=\"M658.14,445.16 C672.29,461.33 689.07,480.51 701.73,494.98 \" fill=\"none\" id=\"E7&lt;-E9\" style=\"stroke: #383838; stroke-width: 1.0;\"/><polygon fill=\"#383838\" points=\"649.3,435.06,650.2496,442.2083,657.2133,444.0811,656.2637,436.9328,649.3,435.06\" style=\"stroke: #383838; stroke-width: 1.0;\"/><text fill=\"#000000\" font-family=\"sans-serif\" font-size=\"13\" lengthAdjust=\"spacingAndGlyphs\" textLength=\"7\" x=\"688.6106\" y=\"483.8709\">*</text></a><!--MD5=[a919e0967d6f3de553dc51b9865a1d6d]\n",
       "link E10 to E7--><a href=\"psysml:2d47db94-d209-4d22-9eae-73bfc16721f5\" target=\"_top\" title=\"psysml:2d47db94-d209-4d22-9eae-73bfc16721f5\" xlink:actuate=\"onRequest\" xlink:href=\"psysml:2d47db94-d209-4d22-9eae-73bfc16721f5\" xlink:show=\"new\" xlink:title=\"psysml:2d47db94-d209-4d22-9eae-73bfc16721f5\" xlink:type=\"simple\"><path d=\"M564.36,87.23 C542.92,120.68 510.65,184.15 544,223 C658.5,356.41 820.5,149.59 935,283 C997.65,355.99 847.73,388.27 736.59,401.86 \" fill=\"none\" id=\"E10-&gt;E7\" style=\"stroke: #383838; stroke-width: 1.0;\"/><polygon fill=\"#FFFFFF\" points=\"716.7,404.14,734.7756,395.0147,736.3754,408.923,716.7,404.14\" style=\"stroke: #383838; stroke-width: 1.0;\"/><ellipse cx=\"740.6668\" cy=\"396.3502\" fill=\"#383838\" rx=\"2\" ry=\"2\" style=\"stroke: #383838; stroke-width: 1.0;\"/><ellipse cx=\"741.8096\" cy=\"406.2847\" fill=\"#383838\" rx=\"2\" ry=\"2\" style=\"stroke: #383838; stroke-width: 1.0;\"/></a><!--MD5=[0f36bececdf0dff6e600d6f64214b0f1]\n",
       "link E10 to E2--><a href=\"psysml:6622b004-fc37-43f3-bc42-fdfacc696359\" target=\"_top\" title=\"psysml:6622b004-fc37-43f3-bc42-fdfacc696359\" xlink:actuate=\"onRequest\" xlink:href=\"psysml:6622b004-fc37-43f3-bc42-fdfacc696359\" xlink:show=\"new\" xlink:title=\"psysml:6622b004-fc37-43f3-bc42-fdfacc696359\" xlink:type=\"simple\"><path d=\"M552.69,87.1 C536.38,100.31 514.96,117.65 494.76,134.01 \" fill=\"none\" id=\"E10-&gt;E2\" style=\"stroke: #383838; stroke-width: 1.0;\"/><polygon fill=\"#FFFFFF\" points=\"478.94,146.81,489.301,129.4131,498.1112,140.2934,478.94,146.81\" style=\"stroke: #383838; stroke-width: 1.0;\"/><ellipse cx=\"494.9894\" cy=\"127.3805\" fill=\"#383838\" rx=\"2\" ry=\"2\" style=\"stroke: #383838; stroke-width: 1.0;\"/><ellipse cx=\"501.2824\" cy=\"135.1521\" fill=\"#383838\" rx=\"2\" ry=\"2\" style=\"stroke: #383838; stroke-width: 1.0;\"/></a><!--MD5=[de308be4a2431766a05a907a031c07fc]\n",
       "reverse link E10 to E11--><a href=\"psysml:973d09ca-2c85-400b-8a26-6e03e711a9dc\" target=\"_top\" title=\"psysml:973d09ca-2c85-400b-8a26-6e03e711a9dc\" xlink:actuate=\"onRequest\" xlink:href=\"psysml:973d09ca-2c85-400b-8a26-6e03e711a9dc\" xlink:show=\"new\" xlink:title=\"psysml:973d09ca-2c85-400b-8a26-6e03e711a9dc\" xlink:type=\"simple\"><path d=\"M595.95,98.9 C605.42,119.01 617.15,143.94 625.46,161.61 \" fill=\"none\" id=\"E10&lt;-E11\" style=\"stroke: #383838; stroke-width: 1.0;\"/><polygon fill=\"#383838\" points=\"590.4,87.1,589.3334,94.2318,595.5064,97.9593,596.573,90.8275,590.4,87.1\" style=\"stroke: #383838; stroke-width: 1.0;\"/></a><!--MD5=[1d54f998c6d5961a1a9184be73a7eb6c]\n",
       "reverse link E10 to E12--><a href=\"psysml:4b2dc275-57bf-47aa-bec9-3fe53972a958\" target=\"_top\" title=\"psysml:4b2dc275-57bf-47aa-bec9-3fe53972a958\" xlink:actuate=\"onRequest\" xlink:href=\"psysml:4b2dc275-57bf-47aa-bec9-3fe53972a958\" xlink:show=\"new\" xlink:title=\"psysml:4b2dc275-57bf-47aa-bec9-3fe53972a958\" xlink:type=\"simple\"><path d=\"M642.21,92.42 C689.99,113.48 755.13,142.19 799.66,161.81 \" fill=\"none\" id=\"E10&lt;-E12\" style=\"stroke: #383838; stroke-width: 1.0;\"/><polygon fill=\"#383838\" points=\"630.15,87.1,634.028,93.1796,641.1314,91.9382,637.2534,85.8586,630.15,87.1\" style=\"stroke: #383838; stroke-width: 1.0;\"/></a><!--MD5=[4a48077df6499cfcd20b62e8f5f37904]\n",
       "link E13 to E7--><a href=\"psysml:99db2ce7-7db4-4747-aea3-ba596a45b862\" target=\"_top\" title=\"psysml:99db2ce7-7db4-4747-aea3-ba596a45b862\" xlink:actuate=\"onRequest\" xlink:href=\"psysml:99db2ce7-7db4-4747-aea3-ba596a45b862\" xlink:show=\"new\" xlink:title=\"psysml:99db2ce7-7db4-4747-aea3-ba596a45b862\" xlink:type=\"simple\"><path d=\"M242.34,329.06 C325.16,346.56 440.49,370.94 523.8,388.55 \" fill=\"none\" id=\"E13-&gt;E7\" style=\"stroke: #383838; stroke-width: 1.0;\"/><polygon fill=\"#FFFFFF\" points=\"543.45,392.7,523.4123,395.6135,526.3115,381.917,543.45,392.7\" style=\"stroke: #383838; stroke-width: 1.0;\"/><ellipse cx=\"518.25\" cy=\"392.4765\" fill=\"#383838\" rx=\"2\" ry=\"2\" style=\"stroke: #383838; stroke-width: 1.0;\"/><ellipse cx=\"520.3209\" cy=\"382.6933\" fill=\"#383838\" rx=\"2\" ry=\"2\" style=\"stroke: #383838; stroke-width: 1.0;\"/></a><!--MD5=[3fa2a5d444ac55f598457e07cafe0e3a]\n",
       "@startuml\r\n",
       "top to bottom direction\r\n",
       "skinparam monochrome true\r\n",
       "skinparam classbackgroundcolor white\r\n",
       "skinparam shadowing false\r\n",
       "skinparam wrapWidth 300\r\n",
       "hide circle\r\n",
       "\r\n",
       "package \"OccurrenceTest\" as E1  [[psysml:e6ab502d-dafd-416a-a255-3fa3ad3c263c ]]  {\r\n",
       "comp def \"Occ\" as E2  <<(T,blue) occurrence def>> [[psysml:1203d309-d98c-452c-84ab-9db93e8b8d83 ]] {\r\n",
       "- - attributes - -\r\n",
       "a\r\n",
       "}\r\n",
       "comp usage \"occ1: Occ\" as E3  <<(T,blue) occurrence>> [[psysml:158a345e-3640-4aa1-8638-58b6699698f0 ]] {\r\n",
       "}\r\n",
       "comp usage \"occ2: Occ\" as E4  <<(T,blue) occurrence>> [[psysml:5ccc27c3-07b1-4713-880e-82008912fb62 ]] {\r\n",
       "}\r\n",
       "comp usage \"s: Ind\" as E5  <<(T,blue) individual snapshot occurrence>> [[psysml:b931cfcd-d1f5-4c70-b44c-3b4fd21c9018 ]] {\r\n",
       "}\r\n",
       "comp usage \"t\" as E6  <<(T,blue) timeslice occurrence>> [[psysml:a76dffb5-cb4a-4142-b15c-9dbeb6bd2474 ]] {\r\n",
       "}\r\n",
       "comp def \"Ind\" as E7  <<(T,blue) individual occurrence def>> [[psysml:cddcce1d-840d-4259-9672-1cad32ef9616 ]] {\r\n",
       "}\r\n",
       "comp usage \"s2\" as E8  <<(T,blue) snapshot occurrence>> [[psysml:760118bf-f26e-45fa-9528-0dbdf12ed33d ]] {\r\n",
       "}\r\n",
       "comp usage \"t2\" as E9  <<(T,blue) timeslice occurrence>> [[psysml:6916c4a6-d3e9-4718-9bd3-b4da3843528f ]] {\r\n",
       "}\r\n",
       "comp usage \"ind: Ind, Occ\" as E10  <<(T,blue) individual occurrence>> [[psysml:ca3e4eae-d888-4010-bdf5-da81d89d1eab ]] {\r\n",
       "}\r\n",
       "comp usage \"s3\" as E11  <<(T,blue) snapshot occurrence>> [[psysml:a7aa12fc-e204-4f0a-90f2-9ab0101a123a ]] {\r\n",
       "}\r\n",
       "comp usage \"t3\" as E12  <<(T,blue) individual timeslice occurrence>> [[psysml:5052c3e9-886b-4521-8bf3-18ad9cb470c5 ]] {\r\n",
       "}\r\n",
       "comp usage \"s4: Ind\" as E13  <<(T,blue) individual snapshot occurrence>> [[psysml:e6d8c0e1-46dd-40c0-98f9-8ea23118f8bb ]] {\r\n",
       "}\r\n",
       "}\r\n",
       "E2 o- - E3 [[psysml:816d5179-2674-4631-83bc-f7d71b4237a7 ]] \r\n",
       "E3 - -:|> E2 [[psysml:eb3070f5-b0ea-4331-ac23-68f76765f53a ]] \r\n",
       "E2 *- - E4 [[psysml:0447f336-2e88-4877-9a74-bac22478a75a ]] \r\n",
       "E4 - -:|> E2 [[psysml:bbe7f0c0-75f0-4d42-b38b-c0f55f25890a ]] \r\n",
       "E2 *- - E5 [[psysml:5c44c5f5-a434-4c27-9e5d-4b118f9f4fa1 ]] \r\n",
       "E2 *- - \"*\"E6 [[psysml:f84da050-0b5f-49f5-998e-9b704fc66ebc ]] \r\n",
       "E5 - -:|> E7 [[psysml:5222325c-bb46-4e39-81f0-12dbae43365a ]] \r\n",
       "E7 *- - \"*\"E8 [[psysml:62bbb331-bb03-464e-9e32-68694608bffc ]] \r\n",
       "E7 *- - \"*\"E9 [[psysml:6940b1aa-8c0f-4381-86aa-7b3e10e8c0d6 ]] \r\n",
       "E10 - -:|> E7 [[psysml:2d47db94-d209-4d22-9eae-73bfc16721f5 ]] \r\n",
       "E10 - -:|> E2 [[psysml:6622b004-fc37-43f3-bc42-fdfacc696359 ]] \r\n",
       "E10 *- - E11 [[psysml:973d09ca-2c85-400b-8a26-6e03e711a9dc ]] \r\n",
       "E10 *- - E12 [[psysml:4b2dc275-57bf-47aa-bec9-3fe53972a958 ]] \r\n",
       "E13 - -:|> E7 [[psysml:99db2ce7-7db4-4747-aea3-ba596a45b862 ]] \r\n",
       "@enduml\r\n",
       "\n",
       "PlantUML version 1.2020.13(Sat Jun 13 12:26:38 UTC 2020)\n",
       "(EPL source distribution)\n",
       "Java Runtime: OpenJDK Runtime Environment\n",
       "JVM: OpenJDK 64-Bit Server VM\n",
       "Default Encoding: UTF-8\n",
       "Language: en\n",
       "Country: null\n",
       "--></g></svg>"
      ]
     },
     "execution_count": 50,
     "metadata": {},
     "output_type": "execute_result"
    }
   ],
   "source": [
    "%viz --style=\"TB\" --view=\"MIXED\" \"OccurrenceTest\""
   ]
  },
  {
   "cell_type": "code",
   "execution_count": 51,
   "id": "d67b0639",
   "metadata": {
    "execution": {
     "iopub.execute_input": "2021-10-03T08:28:46.212783Z",
     "iopub.status.busy": "2021-10-03T08:28:46.212388Z",
     "iopub.status.idle": "2021-10-03T08:28:46.263545Z",
     "shell.execute_reply": "2021-10-03T08:28:46.263239Z"
    }
   },
   "outputs": [
    {
     "data": {
      "image/svg+xml": [
       "<?xml version=\"1.0\" encoding=\"UTF-8\" standalone=\"no\"?><svg xmlns=\"http://www.w3.org/2000/svg\" xmlns:xlink=\"http://www.w3.org/1999/xlink\" contentScriptType=\"application/ecmascript\" contentStyleType=\"text/css\" height=\"569px\" preserveAspectRatio=\"none\" style=\"width:992px;height:569px;\" version=\"1.1\" viewBox=\"0 0 992 569\" width=\"992px\" zoomAndPan=\"magnify\"><defs/><g><!--MD5=[fbc87193dbaf4d95561dea2c320d4a47]\n",
       "cluster E1--><a href=\"psysml:e6ab502d-dafd-416a-a255-3fa3ad3c263c\" target=\"_top\" title=\"psysml:e6ab502d-dafd-416a-a255-3fa3ad3c263c\" xlink:actuate=\"onRequest\" xlink:href=\"psysml:e6ab502d-dafd-416a-a255-3fa3ad3c263c\" xlink:show=\"new\" xlink:title=\"psysml:e6ab502d-dafd-416a-a255-3fa3ad3c263c\" xlink:type=\"simple\"><polygon fill=\"#FFFFFF\" points=\"16,6,134,6,141,28.2969,970,28.2969,970,557,16,557,16,6\" style=\"stroke: #000000; stroke-width: 1.5;\"/><line style=\"stroke: #000000; stroke-width: 1.5;\" x1=\"16\" x2=\"141\" y1=\"28.2969\" y2=\"28.2969\"/><text fill=\"#000000\" font-family=\"sans-serif\" font-size=\"14\" font-weight=\"bold\" lengthAdjust=\"spacingAndGlyphs\" textLength=\"112\" x=\"20\" y=\"20.9951\">OccurrenceTest</text></a><!--MD5=[b4997ac47864f28c2f74865a473b2911]\n",
       "class E2--><a href=\"psysml:1203d309-d98c-452c-84ab-9db93e8b8d83\" target=\"_top\" title=\"psysml:1203d309-d98c-452c-84ab-9db93e8b8d83\" xlink:actuate=\"onRequest\" xlink:href=\"psysml:1203d309-d98c-452c-84ab-9db93e8b8d83\" xlink:show=\"new\" xlink:title=\"psysml:1203d309-d98c-452c-84ab-9db93e8b8d83\" xlink:type=\"simple\"><rect fill=\"#FFFFFF\" height=\"75.5469\" id=\"E2\" style=\"stroke: #383838; stroke-width: 1.5;\" width=\"111\" x=\"377.5\" y=\"147\"/><text fill=\"#000000\" font-family=\"sans-serif\" font-size=\"12\" font-style=\"italic\" lengthAdjust=\"spacingAndGlyphs\" textLength=\"109\" x=\"378.5\" y=\"163.1387\">«occurrence def»</text><text fill=\"#000000\" font-family=\"sans-serif\" font-size=\"12\" lengthAdjust=\"spacingAndGlyphs\" textLength=\"23\" x=\"421.5\" y=\"177.1074\">Occ</text><line style=\"stroke: #383838; stroke-width: 1.5;\" x1=\"378.5\" x2=\"487.5\" y1=\"184.9375\" y2=\"184.9375\"/><text fill=\"#000000\" font-family=\"sans-serif\" font-size=\"11\" lengthAdjust=\"spacingAndGlyphs\" textLength=\"7\" x=\"383.5\" y=\"215.9526\">a</text><line style=\"stroke: #383838; stroke-width: 1.0;\" x1=\"378.5\" x2=\"405.5\" y1=\"199.3398\" y2=\"199.3398\"/><text fill=\"#000000\" font-family=\"sans-serif\" font-size=\"11\" lengthAdjust=\"spacingAndGlyphs\" textLength=\"55\" x=\"405.5\" y=\"202.6479\">attributes</text><line style=\"stroke: #383838; stroke-width: 1.0;\" x1=\"460.5\" x2=\"487.5\" y1=\"199.3398\" y2=\"199.3398\"/></a><!--MD5=[09b614a08d8cba4a07c9adeb5e0fee81]\n",
       "class E3--><a href=\"psysml:158a345e-3640-4aa1-8638-58b6699698f0\" target=\"_top\" title=\"psysml:158a345e-3640-4aa1-8638-58b6699698f0\" xlink:actuate=\"onRequest\" xlink:href=\"psysml:158a345e-3640-4aa1-8638-58b6699698f0\" xlink:show=\"new\" xlink:title=\"psysml:158a345e-3640-4aa1-8638-58b6699698f0\" xlink:type=\"simple\"><rect fill=\"#FFFFFF\" height=\"45.9375\" id=\"E3\" rx=\"10\" ry=\"10\" style=\"stroke: #383838; stroke-width: 1.5;\" width=\"87\" x=\"279.5\" y=\"283\"/><text fill=\"#000000\" font-family=\"sans-serif\" font-size=\"12\" font-style=\"italic\" lengthAdjust=\"spacingAndGlyphs\" textLength=\"85\" x=\"280.5\" y=\"299.1387\">«occurrence»</text><text fill=\"#000000\" font-family=\"sans-serif\" font-size=\"12\" lengthAdjust=\"spacingAndGlyphs\" textLength=\"61\" x=\"292.5\" y=\"313.1074\">occ1: Occ</text><line style=\"stroke: #383838; stroke-width: 1.5;\" x1=\"280.5\" x2=\"365.5\" y1=\"320.9375\" y2=\"320.9375\"/></a><!--MD5=[ebbe1d658d1005bcc118a6aa81145e00]\n",
       "class E4--><a href=\"psysml:5ccc27c3-07b1-4713-880e-82008912fb62\" target=\"_top\" title=\"psysml:5ccc27c3-07b1-4713-880e-82008912fb62\" xlink:actuate=\"onRequest\" xlink:href=\"psysml:5ccc27c3-07b1-4713-880e-82008912fb62\" xlink:show=\"new\" xlink:title=\"psysml:5ccc27c3-07b1-4713-880e-82008912fb62\" xlink:type=\"simple\"><rect fill=\"#FFFFFF\" height=\"45.9375\" id=\"E4\" rx=\"10\" ry=\"10\" style=\"stroke: #383838; stroke-width: 1.5;\" width=\"87\" x=\"401.5\" y=\"283\"/><text fill=\"#000000\" font-family=\"sans-serif\" font-size=\"12\" font-style=\"italic\" lengthAdjust=\"spacingAndGlyphs\" textLength=\"85\" x=\"402.5\" y=\"299.1387\">«occurrence»</text><text fill=\"#000000\" font-family=\"sans-serif\" font-size=\"12\" lengthAdjust=\"spacingAndGlyphs\" textLength=\"61\" x=\"414.5\" y=\"313.1074\">occ2: Occ</text><line style=\"stroke: #383838; stroke-width: 1.5;\" x1=\"402.5\" x2=\"487.5\" y1=\"320.9375\" y2=\"320.9375\"/></a><!--MD5=[270fce915f116d4de14055a7c1d9a0f3]\n",
       "class E5--><a href=\"psysml:b931cfcd-d1f5-4c70-b44c-3b4fd21c9018\" target=\"_top\" title=\"psysml:b931cfcd-d1f5-4c70-b44c-3b4fd21c9018\" xlink:actuate=\"onRequest\" xlink:href=\"psysml:b931cfcd-d1f5-4c70-b44c-3b4fd21c9018\" xlink:show=\"new\" xlink:title=\"psysml:b931cfcd-d1f5-4c70-b44c-3b4fd21c9018\" xlink:type=\"simple\"><rect fill=\"#FFFFFF\" height=\"45.9375\" id=\"E5\" rx=\"10\" ry=\"10\" style=\"stroke: #383838; stroke-width: 1.5;\" width=\"212\" x=\"524\" y=\"283\"/><text fill=\"#000000\" font-family=\"sans-serif\" font-size=\"12\" font-style=\"italic\" lengthAdjust=\"spacingAndGlyphs\" textLength=\"210\" x=\"525\" y=\"299.1387\">«individual snapshot occurrence»</text><text fill=\"#000000\" font-family=\"sans-serif\" font-size=\"12\" lengthAdjust=\"spacingAndGlyphs\" textLength=\"34\" x=\"613\" y=\"313.1074\">s: Ind</text><line style=\"stroke: #383838; stroke-width: 1.5;\" x1=\"525\" x2=\"735\" y1=\"320.9375\" y2=\"320.9375\"/></a><!--MD5=[60a26617385b1d2d0262a64233df1f8d]\n",
       "class E6--><a href=\"psysml:a76dffb5-cb4a-4142-b15c-9dbeb6bd2474\" target=\"_top\" title=\"psysml:a76dffb5-cb4a-4142-b15c-9dbeb6bd2474\" xlink:actuate=\"onRequest\" xlink:href=\"psysml:a76dffb5-cb4a-4142-b15c-9dbeb6bd2474\" xlink:show=\"new\" xlink:title=\"psysml:a76dffb5-cb4a-4142-b15c-9dbeb6bd2474\" xlink:type=\"simple\"><rect fill=\"#FFFFFF\" height=\"45.9375\" id=\"E6\" rx=\"10\" ry=\"10\" style=\"stroke: #383838; stroke-width: 1.5;\" width=\"146\" x=\"771\" y=\"283\"/><text fill=\"#000000\" font-family=\"sans-serif\" font-size=\"12\" font-style=\"italic\" lengthAdjust=\"spacingAndGlyphs\" textLength=\"144\" x=\"772\" y=\"299.1387\">«timeslice occurrence»</text><text fill=\"#000000\" font-family=\"sans-serif\" font-size=\"12\" lengthAdjust=\"spacingAndGlyphs\" textLength=\"5\" x=\"841.5\" y=\"313.1074\">t</text><line style=\"stroke: #383838; stroke-width: 1.5;\" x1=\"772\" x2=\"916\" y1=\"320.9375\" y2=\"320.9375\"/></a><!--MD5=[2156ba9850f5573cc1fc38a6a4b2f02b]\n",
       "class E7--><a href=\"psysml:cddcce1d-840d-4259-9672-1cad32ef9616\" target=\"_top\" title=\"psysml:cddcce1d-840d-4259-9672-1cad32ef9616\" xlink:actuate=\"onRequest\" xlink:href=\"psysml:cddcce1d-840d-4259-9672-1cad32ef9616\" xlink:show=\"new\" xlink:title=\"psysml:cddcce1d-840d-4259-9672-1cad32ef9616\" xlink:type=\"simple\"><rect fill=\"#FFFFFF\" height=\"45.9375\" id=\"E7\" style=\"stroke: #383838; stroke-width: 1.5;\" width=\"173\" x=\"543.5\" y=\"389\"/><text fill=\"#000000\" font-family=\"sans-serif\" font-size=\"12\" font-style=\"italic\" lengthAdjust=\"spacingAndGlyphs\" textLength=\"171\" x=\"544.5\" y=\"405.1387\">«individual occurrence def»</text><text fill=\"#000000\" font-family=\"sans-serif\" font-size=\"12\" lengthAdjust=\"spacingAndGlyphs\" textLength=\"19\" x=\"620.5\" y=\"419.1074\">Ind</text><line style=\"stroke: #383838; stroke-width: 1.5;\" x1=\"544.5\" x2=\"715.5\" y1=\"426.9375\" y2=\"426.9375\"/></a><!--MD5=[b9389687b975829384b498ac4b7476b2]\n",
       "class E8--><a href=\"psysml:760118bf-f26e-45fa-9528-0dbdf12ed33d\" target=\"_top\" title=\"psysml:760118bf-f26e-45fa-9528-0dbdf12ed33d\" xlink:actuate=\"onRequest\" xlink:href=\"psysml:760118bf-f26e-45fa-9528-0dbdf12ed33d\" xlink:show=\"new\" xlink:title=\"psysml:760118bf-f26e-45fa-9528-0dbdf12ed33d\" xlink:type=\"simple\"><rect fill=\"#FFFFFF\" height=\"45.9375\" id=\"E8\" rx=\"10\" ry=\"10\" style=\"stroke: #383838; stroke-width: 1.5;\" width=\"150\" x=\"463\" y=\"495\"/><text fill=\"#000000\" font-family=\"sans-serif\" font-size=\"12\" font-style=\"italic\" lengthAdjust=\"spacingAndGlyphs\" textLength=\"148\" x=\"464\" y=\"511.1387\">«snapshot occurrence»</text><text fill=\"#000000\" font-family=\"sans-serif\" font-size=\"12\" lengthAdjust=\"spacingAndGlyphs\" textLength=\"15\" x=\"530.5\" y=\"525.1074\">s2</text><line style=\"stroke: #383838; stroke-width: 1.5;\" x1=\"464\" x2=\"612\" y1=\"532.9375\" y2=\"532.9375\"/></a><!--MD5=[fd4143e9d270a159db93a4ea2a975926]\n",
       "class E9--><a href=\"psysml:6916c4a6-d3e9-4718-9bd3-b4da3843528f\" target=\"_top\" title=\"psysml:6916c4a6-d3e9-4718-9bd3-b4da3843528f\" xlink:actuate=\"onRequest\" xlink:href=\"psysml:6916c4a6-d3e9-4718-9bd3-b4da3843528f\" xlink:show=\"new\" xlink:title=\"psysml:6916c4a6-d3e9-4718-9bd3-b4da3843528f\" xlink:type=\"simple\"><rect fill=\"#FFFFFF\" height=\"45.9375\" id=\"E9\" rx=\"10\" ry=\"10\" style=\"stroke: #383838; stroke-width: 1.5;\" width=\"146\" x=\"648\" y=\"495\"/><text fill=\"#000000\" font-family=\"sans-serif\" font-size=\"12\" font-style=\"italic\" lengthAdjust=\"spacingAndGlyphs\" textLength=\"144\" x=\"649\" y=\"511.1387\">«timeslice occurrence»</text><text fill=\"#000000\" font-family=\"sans-serif\" font-size=\"12\" lengthAdjust=\"spacingAndGlyphs\" textLength=\"13\" x=\"714.5\" y=\"525.1074\">t2</text><line style=\"stroke: #383838; stroke-width: 1.5;\" x1=\"649\" x2=\"793\" y1=\"532.9375\" y2=\"532.9375\"/></a><!--MD5=[96f4274e9e20536e775497830990834d]\n",
       "class E10--><a href=\"psysml:ca3e4eae-d888-4010-bdf5-da81d89d1eab\" target=\"_top\" title=\"psysml:ca3e4eae-d888-4010-bdf5-da81d89d1eab\" xlink:actuate=\"onRequest\" xlink:href=\"psysml:ca3e4eae-d888-4010-bdf5-da81d89d1eab\" xlink:show=\"new\" xlink:title=\"psysml:ca3e4eae-d888-4010-bdf5-da81d89d1eab\" xlink:type=\"simple\"><rect fill=\"#FFFFFF\" height=\"45.9375\" id=\"E10\" rx=\"10\" ry=\"10\" style=\"stroke: #383838; stroke-width: 1.5;\" width=\"149\" x=\"505.5\" y=\"41\"/><text fill=\"#000000\" font-family=\"sans-serif\" font-size=\"12\" font-style=\"italic\" lengthAdjust=\"spacingAndGlyphs\" textLength=\"147\" x=\"506.5\" y=\"57.1387\">«individual occurrence»</text><text fill=\"#000000\" font-family=\"sans-serif\" font-size=\"12\" lengthAdjust=\"spacingAndGlyphs\" textLength=\"77\" x=\"541.5\" y=\"71.1074\">ind: Ind, Occ</text><line style=\"stroke: #383838; stroke-width: 1.5;\" x1=\"506.5\" x2=\"653.5\" y1=\"78.9375\" y2=\"78.9375\"/></a><!--MD5=[1dd1bfd58a279cf63c5f349dbc8fc6a1]\n",
       "class E11--><a href=\"psysml:a7aa12fc-e204-4f0a-90f2-9ab0101a123a\" target=\"_top\" title=\"psysml:a7aa12fc-e204-4f0a-90f2-9ab0101a123a\" xlink:actuate=\"onRequest\" xlink:href=\"psysml:a7aa12fc-e204-4f0a-90f2-9ab0101a123a\" xlink:show=\"new\" xlink:title=\"psysml:a7aa12fc-e204-4f0a-90f2-9ab0101a123a\" xlink:type=\"simple\"><rect fill=\"#FFFFFF\" height=\"45.9375\" id=\"E11\" rx=\"10\" ry=\"10\" style=\"stroke: #383838; stroke-width: 1.5;\" width=\"150\" x=\"561\" y=\"162\"/><text fill=\"#000000\" font-family=\"sans-serif\" font-size=\"12\" font-style=\"italic\" lengthAdjust=\"spacingAndGlyphs\" textLength=\"148\" x=\"562\" y=\"178.1387\">«snapshot occurrence»</text><text fill=\"#000000\" font-family=\"sans-serif\" font-size=\"12\" lengthAdjust=\"spacingAndGlyphs\" textLength=\"15\" x=\"628.5\" y=\"192.1074\">s3</text><line style=\"stroke: #383838; stroke-width: 1.5;\" x1=\"562\" x2=\"710\" y1=\"199.9375\" y2=\"199.9375\"/></a><!--MD5=[49a0ec8f00dab7302a31f22d0f0fe584]\n",
       "class E12--><a href=\"psysml:5052c3e9-886b-4521-8bf3-18ad9cb470c5\" target=\"_top\" title=\"psysml:5052c3e9-886b-4521-8bf3-18ad9cb470c5\" xlink:actuate=\"onRequest\" xlink:href=\"psysml:5052c3e9-886b-4521-8bf3-18ad9cb470c5\" xlink:show=\"new\" xlink:title=\"psysml:5052c3e9-886b-4521-8bf3-18ad9cb470c5\" xlink:type=\"simple\"><rect fill=\"#FFFFFF\" height=\"45.9375\" id=\"E12\" rx=\"10\" ry=\"10\" style=\"stroke: #383838; stroke-width: 1.5;\" width=\"208\" x=\"746\" y=\"162\"/><text fill=\"#000000\" font-family=\"sans-serif\" font-size=\"12\" font-style=\"italic\" lengthAdjust=\"spacingAndGlyphs\" textLength=\"206\" x=\"747\" y=\"178.1387\">«individual timeslice occurrence»</text><text fill=\"#000000\" font-family=\"sans-serif\" font-size=\"12\" lengthAdjust=\"spacingAndGlyphs\" textLength=\"13\" x=\"843.5\" y=\"192.1074\">t3</text><line style=\"stroke: #383838; stroke-width: 1.5;\" x1=\"747\" x2=\"953\" y1=\"199.9375\" y2=\"199.9375\"/></a><!--MD5=[ee3c913d1a06f366521f9ef512b67efe]\n",
       "class E13--><a href=\"psysml:e6d8c0e1-46dd-40c0-98f9-8ea23118f8bb\" target=\"_top\" title=\"psysml:e6d8c0e1-46dd-40c0-98f9-8ea23118f8bb\" xlink:actuate=\"onRequest\" xlink:href=\"psysml:e6d8c0e1-46dd-40c0-98f9-8ea23118f8bb\" xlink:show=\"new\" xlink:title=\"psysml:e6d8c0e1-46dd-40c0-98f9-8ea23118f8bb\" xlink:type=\"simple\"><rect fill=\"#FFFFFF\" height=\"45.9375\" id=\"E13\" rx=\"10\" ry=\"10\" style=\"stroke: #383838; stroke-width: 1.5;\" width=\"212\" x=\"32\" y=\"283\"/><text fill=\"#000000\" font-family=\"sans-serif\" font-size=\"12\" font-style=\"italic\" lengthAdjust=\"spacingAndGlyphs\" textLength=\"210\" x=\"33\" y=\"299.1387\">«individual snapshot occurrence»</text><text fill=\"#000000\" font-family=\"sans-serif\" font-size=\"12\" lengthAdjust=\"spacingAndGlyphs\" textLength=\"42\" x=\"117\" y=\"313.1074\">s4: Ind</text><line style=\"stroke: #383838; stroke-width: 1.5;\" x1=\"33\" x2=\"243\" y1=\"320.9375\" y2=\"320.9375\"/></a><!--MD5=[209b3feb70ccb6233bfe1053d122c12c]\n",
       "reverse link E2 to E3--><a href=\"psysml:816d5179-2674-4631-83bc-f7d71b4237a7\" target=\"_top\" title=\"psysml:816d5179-2674-4631-83bc-f7d71b4237a7\" xlink:actuate=\"onRequest\" xlink:href=\"psysml:816d5179-2674-4631-83bc-f7d71b4237a7\" xlink:show=\"new\" xlink:title=\"psysml:816d5179-2674-4631-83bc-f7d71b4237a7\" xlink:type=\"simple\"><path d=\"M385.5,236.28 C385.5,236.28 385.5,299 385.5,299 C385.5,299 377.25,299 366.75,299 \" fill=\"none\" id=\"E2&lt;-E3\" style=\"stroke: #383838; stroke-width: 1.0;\"/><polygon fill=\"#FFFFFF\" points=\"385.5,223.28,381.5,229.28,385.5,235.28,389.5,229.28,385.5,223.28\" style=\"stroke: #383838; stroke-width: 1.0;\"/></a><!--MD5=[05d275557350bfb9b23a4ef7222b4c39]\n",
       "link E3 to E2--><a href=\"psysml:eb3070f5-b0ea-4331-ac23-68f76765f53a\" target=\"_top\" title=\"psysml:eb3070f5-b0ea-4331-ac23-68f76765f53a\" xlink:actuate=\"onRequest\" xlink:href=\"psysml:eb3070f5-b0ea-4331-ac23-68f76765f53a\" xlink:show=\"new\" xlink:title=\"psysml:eb3070f5-b0ea-4331-ac23-68f76765f53a\" xlink:type=\"simple\"><path d=\"M366.85,314 C381.18,314 393.5,314 393.5,314 C393.5,314 393.5,243.01 393.5,243.01 \" fill=\"none\" id=\"E3-&gt;E2\" style=\"stroke: #383838; stroke-width: 1.0;\"/><polygon fill=\"#FFFFFF\" points=\"393.5,223.01,400.5,242.01,386.5,242.01,393.5,223.01\" style=\"stroke: #383838; stroke-width: 1.0;\"/><ellipse cx=\"398.5\" cy=\"247.71\" fill=\"#383838\" rx=\"2\" ry=\"2\" style=\"stroke: #383838; stroke-width: 1.0;\"/><ellipse cx=\"388.5\" cy=\"247.71\" fill=\"#383838\" rx=\"2\" ry=\"2\" style=\"stroke: #383838; stroke-width: 1.0;\"/></a><!--MD5=[9618e71518536f8baf3342ff6fdab317]\n",
       "reverse link E2 to E4--><a href=\"psysml:0447f336-2e88-4877-9a74-bac22478a75a\" target=\"_top\" title=\"psysml:0447f336-2e88-4877-9a74-bac22478a75a\" xlink:actuate=\"onRequest\" xlink:href=\"psysml:0447f336-2e88-4877-9a74-bac22478a75a\" xlink:show=\"new\" xlink:title=\"psysml:0447f336-2e88-4877-9a74-bac22478a75a\" xlink:type=\"simple\"><path d=\"M430.5,236.29 C430.5,236.29 430.5,282.74 430.5,282.74 \" fill=\"none\" id=\"E2&lt;-E4\" style=\"stroke: #383838; stroke-width: 1.0;\"/><polygon fill=\"#383838\" points=\"430.5,223.29,426.5,229.29,430.5,235.29,434.5,229.29,430.5,223.29\" style=\"stroke: #383838; stroke-width: 1.0;\"/></a><!--MD5=[185131fc0dcab0a4505a2ebe144e961b]\n",
       "link E4 to E2--><a href=\"psysml:bbe7f0c0-75f0-4d42-b38b-c0f55f25890a\" target=\"_top\" title=\"psysml:bbe7f0c0-75f0-4d42-b38b-c0f55f25890a\" xlink:actuate=\"onRequest\" xlink:href=\"psysml:bbe7f0c0-75f0-4d42-b38b-c0f55f25890a\" xlink:show=\"new\" xlink:title=\"psysml:bbe7f0c0-75f0-4d42-b38b-c0f55f25890a\" xlink:type=\"simple\"><path d=\"M459.5,282.96 C459.5,282.96 459.5,243.19 459.5,243.19 \" fill=\"none\" id=\"E4-&gt;E2\" style=\"stroke: #383838; stroke-width: 1.0;\"/><polygon fill=\"#FFFFFF\" points=\"459.5,223.19,466.5,242.19,452.5,242.19,459.5,223.19\" style=\"stroke: #383838; stroke-width: 1.0;\"/><ellipse cx=\"464.5\" cy=\"247.89\" fill=\"#383838\" rx=\"2\" ry=\"2\" style=\"stroke: #383838; stroke-width: 1.0;\"/><ellipse cx=\"454.5\" cy=\"247.89\" fill=\"#383838\" rx=\"2\" ry=\"2\" style=\"stroke: #383838; stroke-width: 1.0;\"/></a><!--MD5=[4e1a83fab71cdb913c109063314ae896]\n",
       "reverse link E2 to E5--><a href=\"psysml:5c44c5f5-a434-4c27-9e5d-4b118f9f4fa1\" target=\"_top\" title=\"psysml:5c44c5f5-a434-4c27-9e5d-4b118f9f4fa1\" xlink:actuate=\"onRequest\" xlink:href=\"psysml:5c44c5f5-a434-4c27-9e5d-4b118f9f4fa1\" xlink:show=\"new\" xlink:title=\"psysml:5c44c5f5-a434-4c27-9e5d-4b118f9f4fa1\" xlink:type=\"simple\"><path d=\"M501.71,218 C501.71,218 542.5,218 542.5,218 C542.5,218 542.5,256.81 542.5,282.88 \" fill=\"none\" id=\"E2&lt;-E5\" style=\"stroke: #383838; stroke-width: 1.0;\"/><polygon fill=\"#383838\" points=\"488.71,218,494.71,222,500.71,218,494.71,214,488.71,218\" style=\"stroke: #383838; stroke-width: 1.0;\"/></a><!--MD5=[ce036f65110ae2351ccce5a81dc2e928]\n",
       "reverse link E2 to E6--><a href=\"psysml:f84da050-0b5f-49f5-998e-9b704fc66ebc\" target=\"_top\" title=\"psysml:f84da050-0b5f-49f5-998e-9b704fc66ebc\" xlink:actuate=\"onRequest\" xlink:href=\"psysml:f84da050-0b5f-49f5-998e-9b704fc66ebc\" xlink:show=\"new\" xlink:title=\"psysml:f84da050-0b5f-49f5-998e-9b704fc66ebc\" xlink:type=\"simple\"><path d=\"M501.86,213 C501.86,213 844,213 844,213 C844,213 844,254.98 844,282.53 \" fill=\"none\" id=\"E2&lt;-E6\" style=\"stroke: #383838; stroke-width: 1.0;\"/><polygon fill=\"#383838\" points=\"488.86,213,494.86,217,500.86,213,494.86,209,488.86,213\" style=\"stroke: #383838; stroke-width: 1.0;\"/><text fill=\"#000000\" font-family=\"sans-serif\" font-size=\"13\" lengthAdjust=\"spacingAndGlyphs\" textLength=\"7\" x=\"836.1469\" y=\"272.0718\">*</text></a><!--MD5=[3a9b96bfbf6b6ad89c494e81751bda47]\n",
       "link E5 to E7--><a href=\"psysml:5222325c-bb46-4e39-81f0-12dbae43365a\" target=\"_top\" title=\"psysml:5222325c-bb46-4e39-81f0-12dbae43365a\" xlink:actuate=\"onRequest\" xlink:href=\"psysml:5222325c-bb46-4e39-81f0-12dbae43365a\" xlink:show=\"new\" xlink:title=\"psysml:5222325c-bb46-4e39-81f0-12dbae43365a\" xlink:type=\"simple\"><path d=\"M630,329 C630,329 630,368.68 630,368.68 \" fill=\"none\" id=\"E5-&gt;E7\" style=\"stroke: #383838; stroke-width: 1.0;\"/><polygon fill=\"#FFFFFF\" points=\"630,388.68,623,369.68,637,369.68,630,388.68\" style=\"stroke: #383838; stroke-width: 1.0;\"/><ellipse cx=\"625\" cy=\"363.98\" fill=\"#383838\" rx=\"2\" ry=\"2\" style=\"stroke: #383838; stroke-width: 1.0;\"/><ellipse cx=\"635\" cy=\"363.98\" fill=\"#383838\" rx=\"2\" ry=\"2\" style=\"stroke: #383838; stroke-width: 1.0;\"/></a><!--MD5=[dc164f5e8a733ab456ef1add180e9e34]\n",
       "reverse link E7 to E8--><a href=\"psysml:62bbb331-bb03-464e-9e32-68694608bffc\" target=\"_top\" title=\"psysml:62bbb331-bb03-464e-9e32-68694608bffc\" xlink:actuate=\"onRequest\" xlink:href=\"psysml:62bbb331-bb03-464e-9e32-68694608bffc\" xlink:show=\"new\" xlink:title=\"psysml:62bbb331-bb03-464e-9e32-68694608bffc\" xlink:type=\"simple\"><path d=\"M578.25,448 C578.25,448 578.25,494.68 578.25,494.68 \" fill=\"none\" id=\"E7&lt;-E8\" style=\"stroke: #383838; stroke-width: 1.0;\"/><polygon fill=\"#383838\" points=\"578.25,435,574.25,441,578.25,447,582.25,441,578.25,435\" style=\"stroke: #383838; stroke-width: 1.0;\"/><text fill=\"#000000\" font-family=\"sans-serif\" font-size=\"13\" lengthAdjust=\"spacingAndGlyphs\" textLength=\"7\" x=\"580.6672\" y=\"483.8743\">*</text></a><!--MD5=[e4a10ef82d0e328e31cac39a31e58dda]\n",
       "reverse link E7 to E9--><a href=\"psysml:6940b1aa-8c0f-4381-86aa-7b3e10e8c0d6\" target=\"_top\" title=\"psysml:6940b1aa-8c0f-4381-86aa-7b3e10e8c0d6\" xlink:actuate=\"onRequest\" xlink:href=\"psysml:6940b1aa-8c0f-4381-86aa-7b3e10e8c0d6\" xlink:show=\"new\" xlink:title=\"psysml:6940b1aa-8c0f-4381-86aa-7b3e10e8c0d6\" xlink:type=\"simple\"><path d=\"M682.25,448 C682.25,448 682.25,494.68 682.25,494.68 \" fill=\"none\" id=\"E7&lt;-E9\" style=\"stroke: #383838; stroke-width: 1.0;\"/><polygon fill=\"#383838\" points=\"682.25,435,678.25,441,682.25,447,686.25,441,682.25,435\" style=\"stroke: #383838; stroke-width: 1.0;\"/><text fill=\"#000000\" font-family=\"sans-serif\" font-size=\"13\" lengthAdjust=\"spacingAndGlyphs\" textLength=\"7\" x=\"664.4234\" y=\"483.8743\">*</text></a><!--MD5=[a919e0967d6f3de553dc51b9865a1d6d]\n",
       "link E10 to E7--><a href=\"psysml:2d47db94-d209-4d22-9eae-73bfc16721f5\" target=\"_top\" title=\"psysml:2d47db94-d209-4d22-9eae-73bfc16721f5\" xlink:actuate=\"onRequest\" xlink:href=\"psysml:2d47db94-d209-4d22-9eae-73bfc16721f5\" xlink:show=\"new\" xlink:title=\"psysml:2d47db94-d209-4d22-9eae-73bfc16721f5\" xlink:type=\"simple\"><path d=\"M517.83,87.17 C517.83,163.92 517.83,405 517.83,405 C517.83,405 523.29,405 523.29,405 \" fill=\"none\" id=\"E10-&gt;E7\" style=\"stroke: #383838; stroke-width: 1.0;\"/><polygon fill=\"#FFFFFF\" points=\"543.29,405,524.29,412,524.29,398,543.29,405\" style=\"stroke: #383838; stroke-width: 1.0;\"/><ellipse cx=\"518.59\" cy=\"410\" fill=\"#383838\" rx=\"2\" ry=\"2\" style=\"stroke: #383838; stroke-width: 1.0;\"/><ellipse cx=\"518.59\" cy=\"400\" fill=\"#383838\" rx=\"2\" ry=\"2\" style=\"stroke: #383838; stroke-width: 1.0;\"/></a><!--MD5=[0f36bececdf0dff6e600d6f64214b0f1]\n",
       "link E10 to E2--><a href=\"psysml:6622b004-fc37-43f3-bc42-fdfacc696359\" target=\"_top\" title=\"psysml:6622b004-fc37-43f3-bc42-fdfacc696359\" xlink:actuate=\"onRequest\" xlink:href=\"psysml:6622b004-fc37-43f3-bc42-fdfacc696359\" xlink:show=\"new\" xlink:title=\"psysml:6622b004-fc37-43f3-bc42-fdfacc696359\" xlink:type=\"simple\"><path d=\"M511.67,87.43 C511.67,114.4 511.67,155 511.67,155 C511.67,155 508.91,155 508.91,155 \" fill=\"none\" id=\"E10-&gt;E2\" style=\"stroke: #383838; stroke-width: 1.0;\"/><polygon fill=\"#FFFFFF\" points=\"488.91,155,507.91,148,507.91,162,488.91,155\" style=\"stroke: #383838; stroke-width: 1.0;\"/><ellipse cx=\"513.61\" cy=\"150\" fill=\"#383838\" rx=\"2\" ry=\"2\" style=\"stroke: #383838; stroke-width: 1.0;\"/><ellipse cx=\"513.61\" cy=\"160\" fill=\"#383838\" rx=\"2\" ry=\"2\" style=\"stroke: #383838; stroke-width: 1.0;\"/></a><!--MD5=[de308be4a2431766a05a907a031c07fc]\n",
       "reverse link E10 to E11--><a href=\"psysml:973d09ca-2c85-400b-8a26-6e03e711a9dc\" target=\"_top\" title=\"psysml:973d09ca-2c85-400b-8a26-6e03e711a9dc\" xlink:actuate=\"onRequest\" xlink:href=\"psysml:973d09ca-2c85-400b-8a26-6e03e711a9dc\" xlink:show=\"new\" xlink:title=\"psysml:973d09ca-2c85-400b-8a26-6e03e711a9dc\" xlink:type=\"simple\"><path d=\"M607.75,100.04 C607.75,100.04 607.75,161.63 607.75,161.63 \" fill=\"none\" id=\"E10&lt;-E11\" style=\"stroke: #383838; stroke-width: 1.0;\"/><polygon fill=\"#383838\" points=\"607.75,87.04,603.75,93.04,607.75,99.04,611.75,93.04,607.75,87.04\" style=\"stroke: #383838; stroke-width: 1.0;\"/></a><!--MD5=[1d54f998c6d5961a1a9184be73a7eb6c]\n",
       "reverse link E10 to E12--><a href=\"psysml:4b2dc275-57bf-47aa-bec9-3fe53972a958\" target=\"_top\" title=\"psysml:4b2dc275-57bf-47aa-bec9-3fe53972a958\" xlink:actuate=\"onRequest\" xlink:href=\"psysml:4b2dc275-57bf-47aa-bec9-3fe53972a958\" xlink:show=\"new\" xlink:title=\"psysml:4b2dc275-57bf-47aa-bec9-3fe53972a958\" xlink:type=\"simple\"><path d=\"M667.85,64 C667.85,64 850,64 850,64 C850,64 850,126.85 850,161.96 \" fill=\"none\" id=\"E10&lt;-E12\" style=\"stroke: #383838; stroke-width: 1.0;\"/><polygon fill=\"#383838\" points=\"654.85,64,660.85,68,666.85,64,660.85,60,654.85,64\" style=\"stroke: #383838; stroke-width: 1.0;\"/></a><!--MD5=[4a48077df6499cfcd20b62e8f5f37904]\n",
       "link E13 to E7--><a href=\"psysml:99db2ce7-7db4-4747-aea3-ba596a45b862\" target=\"_top\" title=\"psysml:99db2ce7-7db4-4747-aea3-ba596a45b862\" xlink:actuate=\"onRequest\" xlink:href=\"psysml:99db2ce7-7db4-4747-aea3-ba596a45b862\" xlink:show=\"new\" xlink:title=\"psysml:99db2ce7-7db4-4747-aea3-ba596a45b862\" xlink:type=\"simple\"><path d=\"M138,329.07 C138,362.38 138,420 138,420 C138,420 523.46,420 523.46,420 \" fill=\"none\" id=\"E13-&gt;E7\" style=\"stroke: #383838; stroke-width: 1.0;\"/><polygon fill=\"#FFFFFF\" points=\"543.46,420,524.46,427,524.46,413,543.46,420\" style=\"stroke: #383838; stroke-width: 1.0;\"/><ellipse cx=\"518.76\" cy=\"425\" fill=\"#383838\" rx=\"2\" ry=\"2\" style=\"stroke: #383838; stroke-width: 1.0;\"/><ellipse cx=\"518.76\" cy=\"415\" fill=\"#383838\" rx=\"2\" ry=\"2\" style=\"stroke: #383838; stroke-width: 1.0;\"/></a><!--MD5=[02817a65e7851ae3d62eb07a39623a65]\n",
       "@startuml\r\n",
       "skinparam linetype ortho\r\n",
       "skinparam monochrome true\r\n",
       "skinparam classbackgroundcolor white\r\n",
       "skinparam shadowing false\r\n",
       "skinparam wrapWidth 300\r\n",
       "hide circle\r\n",
       "\r\n",
       "package \"OccurrenceTest\" as E1  [[psysml:e6ab502d-dafd-416a-a255-3fa3ad3c263c ]]  {\r\n",
       "comp def \"Occ\" as E2  <<(T,blue) occurrence def>> [[psysml:1203d309-d98c-452c-84ab-9db93e8b8d83 ]] {\r\n",
       "- - attributes - -\r\n",
       "a\r\n",
       "}\r\n",
       "comp usage \"occ1: Occ\" as E3  <<(T,blue) occurrence>> [[psysml:158a345e-3640-4aa1-8638-58b6699698f0 ]] {\r\n",
       "}\r\n",
       "comp usage \"occ2: Occ\" as E4  <<(T,blue) occurrence>> [[psysml:5ccc27c3-07b1-4713-880e-82008912fb62 ]] {\r\n",
       "}\r\n",
       "comp usage \"s: Ind\" as E5  <<(T,blue) individual snapshot occurrence>> [[psysml:b931cfcd-d1f5-4c70-b44c-3b4fd21c9018 ]] {\r\n",
       "}\r\n",
       "comp usage \"t\" as E6  <<(T,blue) timeslice occurrence>> [[psysml:a76dffb5-cb4a-4142-b15c-9dbeb6bd2474 ]] {\r\n",
       "}\r\n",
       "comp def \"Ind\" as E7  <<(T,blue) individual occurrence def>> [[psysml:cddcce1d-840d-4259-9672-1cad32ef9616 ]] {\r\n",
       "}\r\n",
       "comp usage \"s2\" as E8  <<(T,blue) snapshot occurrence>> [[psysml:760118bf-f26e-45fa-9528-0dbdf12ed33d ]] {\r\n",
       "}\r\n",
       "comp usage \"t2\" as E9  <<(T,blue) timeslice occurrence>> [[psysml:6916c4a6-d3e9-4718-9bd3-b4da3843528f ]] {\r\n",
       "}\r\n",
       "comp usage \"ind: Ind, Occ\" as E10  <<(T,blue) individual occurrence>> [[psysml:ca3e4eae-d888-4010-bdf5-da81d89d1eab ]] {\r\n",
       "}\r\n",
       "comp usage \"s3\" as E11  <<(T,blue) snapshot occurrence>> [[psysml:a7aa12fc-e204-4f0a-90f2-9ab0101a123a ]] {\r\n",
       "}\r\n",
       "comp usage \"t3\" as E12  <<(T,blue) individual timeslice occurrence>> [[psysml:5052c3e9-886b-4521-8bf3-18ad9cb470c5 ]] {\r\n",
       "}\r\n",
       "comp usage \"s4: Ind\" as E13  <<(T,blue) individual snapshot occurrence>> [[psysml:e6d8c0e1-46dd-40c0-98f9-8ea23118f8bb ]] {\r\n",
       "}\r\n",
       "}\r\n",
       "E2 o- - E3 [[psysml:816d5179-2674-4631-83bc-f7d71b4237a7 ]] \r\n",
       "E3 - -:|> E2 [[psysml:eb3070f5-b0ea-4331-ac23-68f76765f53a ]] \r\n",
       "E2 *- - E4 [[psysml:0447f336-2e88-4877-9a74-bac22478a75a ]] \r\n",
       "E4 - -:|> E2 [[psysml:bbe7f0c0-75f0-4d42-b38b-c0f55f25890a ]] \r\n",
       "E2 *- - E5 [[psysml:5c44c5f5-a434-4c27-9e5d-4b118f9f4fa1 ]] \r\n",
       "E2 *- - \"*\"E6 [[psysml:f84da050-0b5f-49f5-998e-9b704fc66ebc ]] \r\n",
       "E5 - -:|> E7 [[psysml:5222325c-bb46-4e39-81f0-12dbae43365a ]] \r\n",
       "E7 *- - \"*\"E8 [[psysml:62bbb331-bb03-464e-9e32-68694608bffc ]] \r\n",
       "E7 *- - \"*\"E9 [[psysml:6940b1aa-8c0f-4381-86aa-7b3e10e8c0d6 ]] \r\n",
       "E10 - -:|> E7 [[psysml:2d47db94-d209-4d22-9eae-73bfc16721f5 ]] \r\n",
       "E10 - -:|> E2 [[psysml:6622b004-fc37-43f3-bc42-fdfacc696359 ]] \r\n",
       "E10 *- - E11 [[psysml:973d09ca-2c85-400b-8a26-6e03e711a9dc ]] \r\n",
       "E10 *- - E12 [[psysml:4b2dc275-57bf-47aa-bec9-3fe53972a958 ]] \r\n",
       "E13 - -:|> E7 [[psysml:99db2ce7-7db4-4747-aea3-ba596a45b862 ]] \r\n",
       "@enduml\r\n",
       "\n",
       "PlantUML version 1.2020.13(Sat Jun 13 12:26:38 UTC 2020)\n",
       "(EPL source distribution)\n",
       "Java Runtime: OpenJDK Runtime Environment\n",
       "JVM: OpenJDK 64-Bit Server VM\n",
       "Default Encoding: UTF-8\n",
       "Language: en\n",
       "Country: null\n",
       "--></g></svg>"
      ]
     },
     "execution_count": 51,
     "metadata": {},
     "output_type": "execute_result"
    }
   ],
   "source": [
    "%viz --style=\"ORTHOLINE\" --view=\"Default\" \"OccurrenceTest\""
   ]
  },
  {
   "cell_type": "code",
   "execution_count": 52,
   "id": "c136acea",
   "metadata": {
    "execution": {
     "iopub.execute_input": "2021-10-03T08:28:46.312845Z",
     "iopub.status.busy": "2021-10-03T08:28:46.312416Z",
     "iopub.status.idle": "2021-10-03T08:28:46.363723Z",
     "shell.execute_reply": "2021-10-03T08:28:46.363367Z"
    }
   },
   "outputs": [
    {
     "data": {
      "image/svg+xml": [
       "<?xml version=\"1.0\" encoding=\"UTF-8\" standalone=\"no\"?><svg xmlns=\"http://www.w3.org/2000/svg\" xmlns:xlink=\"http://www.w3.org/1999/xlink\" contentScriptType=\"application/ecmascript\" contentStyleType=\"text/css\" height=\"569px\" preserveAspectRatio=\"none\" style=\"width:992px;height:569px;\" version=\"1.1\" viewBox=\"0 0 992 569\" width=\"992px\" zoomAndPan=\"magnify\"><defs/><g><!--MD5=[fbc87193dbaf4d95561dea2c320d4a47]\n",
       "cluster E1--><a href=\"psysml:e6ab502d-dafd-416a-a255-3fa3ad3c263c\" target=\"_top\" title=\"psysml:e6ab502d-dafd-416a-a255-3fa3ad3c263c\" xlink:actuate=\"onRequest\" xlink:href=\"psysml:e6ab502d-dafd-416a-a255-3fa3ad3c263c\" xlink:show=\"new\" xlink:title=\"psysml:e6ab502d-dafd-416a-a255-3fa3ad3c263c\" xlink:type=\"simple\"><polygon fill=\"#FFFFFF\" points=\"16,6,134,6,141,28.2969,970,28.2969,970,557,16,557,16,6\" style=\"stroke: #000000; stroke-width: 1.5;\"/><line style=\"stroke: #000000; stroke-width: 1.5;\" x1=\"16\" x2=\"141\" y1=\"28.2969\" y2=\"28.2969\"/><text fill=\"#000000\" font-family=\"sans-serif\" font-size=\"14\" font-weight=\"bold\" lengthAdjust=\"spacingAndGlyphs\" textLength=\"112\" x=\"20\" y=\"20.9951\">OccurrenceTest</text></a><!--MD5=[b4997ac47864f28c2f74865a473b2911]\n",
       "class E2--><a href=\"psysml:1203d309-d98c-452c-84ab-9db93e8b8d83\" target=\"_top\" title=\"psysml:1203d309-d98c-452c-84ab-9db93e8b8d83\" xlink:actuate=\"onRequest\" xlink:href=\"psysml:1203d309-d98c-452c-84ab-9db93e8b8d83\" xlink:show=\"new\" xlink:title=\"psysml:1203d309-d98c-452c-84ab-9db93e8b8d83\" xlink:type=\"simple\"><rect fill=\"#FFFFFF\" height=\"75.5469\" id=\"E2\" style=\"stroke: #383838; stroke-width: 1.5;\" width=\"111\" x=\"377.5\" y=\"147\"/><text fill=\"#000000\" font-family=\"sans-serif\" font-size=\"12\" font-style=\"italic\" lengthAdjust=\"spacingAndGlyphs\" textLength=\"109\" x=\"378.5\" y=\"163.1387\">«occurrence def»</text><text fill=\"#000000\" font-family=\"sans-serif\" font-size=\"12\" lengthAdjust=\"spacingAndGlyphs\" textLength=\"23\" x=\"421.5\" y=\"177.1074\">Occ</text><line style=\"stroke: #383838; stroke-width: 1.5;\" x1=\"378.5\" x2=\"487.5\" y1=\"184.9375\" y2=\"184.9375\"/><text fill=\"#000000\" font-family=\"sans-serif\" font-size=\"11\" lengthAdjust=\"spacingAndGlyphs\" textLength=\"7\" x=\"383.5\" y=\"215.9526\">a</text><line style=\"stroke: #383838; stroke-width: 1.0;\" x1=\"378.5\" x2=\"405.5\" y1=\"199.3398\" y2=\"199.3398\"/><text fill=\"#000000\" font-family=\"sans-serif\" font-size=\"11\" lengthAdjust=\"spacingAndGlyphs\" textLength=\"55\" x=\"405.5\" y=\"202.6479\">attributes</text><line style=\"stroke: #383838; stroke-width: 1.0;\" x1=\"460.5\" x2=\"487.5\" y1=\"199.3398\" y2=\"199.3398\"/></a><!--MD5=[09b614a08d8cba4a07c9adeb5e0fee81]\n",
       "class E3--><a href=\"psysml:158a345e-3640-4aa1-8638-58b6699698f0\" target=\"_top\" title=\"psysml:158a345e-3640-4aa1-8638-58b6699698f0\" xlink:actuate=\"onRequest\" xlink:href=\"psysml:158a345e-3640-4aa1-8638-58b6699698f0\" xlink:show=\"new\" xlink:title=\"psysml:158a345e-3640-4aa1-8638-58b6699698f0\" xlink:type=\"simple\"><rect fill=\"#FFFFFF\" height=\"45.9375\" id=\"E3\" rx=\"10\" ry=\"10\" style=\"stroke: #383838; stroke-width: 1.5;\" width=\"87\" x=\"279.5\" y=\"283\"/><text fill=\"#000000\" font-family=\"sans-serif\" font-size=\"12\" font-style=\"italic\" lengthAdjust=\"spacingAndGlyphs\" textLength=\"85\" x=\"280.5\" y=\"299.1387\">«occurrence»</text><text fill=\"#000000\" font-family=\"sans-serif\" font-size=\"12\" lengthAdjust=\"spacingAndGlyphs\" textLength=\"61\" x=\"292.5\" y=\"313.1074\">occ1: Occ</text><line style=\"stroke: #383838; stroke-width: 1.5;\" x1=\"280.5\" x2=\"365.5\" y1=\"320.9375\" y2=\"320.9375\"/></a><!--MD5=[ebbe1d658d1005bcc118a6aa81145e00]\n",
       "class E4--><a href=\"psysml:5ccc27c3-07b1-4713-880e-82008912fb62\" target=\"_top\" title=\"psysml:5ccc27c3-07b1-4713-880e-82008912fb62\" xlink:actuate=\"onRequest\" xlink:href=\"psysml:5ccc27c3-07b1-4713-880e-82008912fb62\" xlink:show=\"new\" xlink:title=\"psysml:5ccc27c3-07b1-4713-880e-82008912fb62\" xlink:type=\"simple\"><rect fill=\"#FFFFFF\" height=\"45.9375\" id=\"E4\" rx=\"10\" ry=\"10\" style=\"stroke: #383838; stroke-width: 1.5;\" width=\"87\" x=\"401.5\" y=\"283\"/><text fill=\"#000000\" font-family=\"sans-serif\" font-size=\"12\" font-style=\"italic\" lengthAdjust=\"spacingAndGlyphs\" textLength=\"85\" x=\"402.5\" y=\"299.1387\">«occurrence»</text><text fill=\"#000000\" font-family=\"sans-serif\" font-size=\"12\" lengthAdjust=\"spacingAndGlyphs\" textLength=\"61\" x=\"414.5\" y=\"313.1074\">occ2: Occ</text><line style=\"stroke: #383838; stroke-width: 1.5;\" x1=\"402.5\" x2=\"487.5\" y1=\"320.9375\" y2=\"320.9375\"/></a><!--MD5=[270fce915f116d4de14055a7c1d9a0f3]\n",
       "class E5--><a href=\"psysml:b931cfcd-d1f5-4c70-b44c-3b4fd21c9018\" target=\"_top\" title=\"psysml:b931cfcd-d1f5-4c70-b44c-3b4fd21c9018\" xlink:actuate=\"onRequest\" xlink:href=\"psysml:b931cfcd-d1f5-4c70-b44c-3b4fd21c9018\" xlink:show=\"new\" xlink:title=\"psysml:b931cfcd-d1f5-4c70-b44c-3b4fd21c9018\" xlink:type=\"simple\"><rect fill=\"#FFFFFF\" height=\"45.9375\" id=\"E5\" rx=\"10\" ry=\"10\" style=\"stroke: #383838; stroke-width: 1.5;\" width=\"212\" x=\"524\" y=\"283\"/><text fill=\"#000000\" font-family=\"sans-serif\" font-size=\"12\" font-style=\"italic\" lengthAdjust=\"spacingAndGlyphs\" textLength=\"210\" x=\"525\" y=\"299.1387\">«individual snapshot occurrence»</text><text fill=\"#000000\" font-family=\"sans-serif\" font-size=\"12\" lengthAdjust=\"spacingAndGlyphs\" textLength=\"34\" x=\"613\" y=\"313.1074\">s: Ind</text><line style=\"stroke: #383838; stroke-width: 1.5;\" x1=\"525\" x2=\"735\" y1=\"320.9375\" y2=\"320.9375\"/></a><!--MD5=[60a26617385b1d2d0262a64233df1f8d]\n",
       "class E6--><a href=\"psysml:a76dffb5-cb4a-4142-b15c-9dbeb6bd2474\" target=\"_top\" title=\"psysml:a76dffb5-cb4a-4142-b15c-9dbeb6bd2474\" xlink:actuate=\"onRequest\" xlink:href=\"psysml:a76dffb5-cb4a-4142-b15c-9dbeb6bd2474\" xlink:show=\"new\" xlink:title=\"psysml:a76dffb5-cb4a-4142-b15c-9dbeb6bd2474\" xlink:type=\"simple\"><rect fill=\"#FFFFFF\" height=\"45.9375\" id=\"E6\" rx=\"10\" ry=\"10\" style=\"stroke: #383838; stroke-width: 1.5;\" width=\"146\" x=\"771\" y=\"283\"/><text fill=\"#000000\" font-family=\"sans-serif\" font-size=\"12\" font-style=\"italic\" lengthAdjust=\"spacingAndGlyphs\" textLength=\"144\" x=\"772\" y=\"299.1387\">«timeslice occurrence»</text><text fill=\"#000000\" font-family=\"sans-serif\" font-size=\"12\" lengthAdjust=\"spacingAndGlyphs\" textLength=\"5\" x=\"841.5\" y=\"313.1074\">t</text><line style=\"stroke: #383838; stroke-width: 1.5;\" x1=\"772\" x2=\"916\" y1=\"320.9375\" y2=\"320.9375\"/></a><!--MD5=[2156ba9850f5573cc1fc38a6a4b2f02b]\n",
       "class E7--><a href=\"psysml:cddcce1d-840d-4259-9672-1cad32ef9616\" target=\"_top\" title=\"psysml:cddcce1d-840d-4259-9672-1cad32ef9616\" xlink:actuate=\"onRequest\" xlink:href=\"psysml:cddcce1d-840d-4259-9672-1cad32ef9616\" xlink:show=\"new\" xlink:title=\"psysml:cddcce1d-840d-4259-9672-1cad32ef9616\" xlink:type=\"simple\"><rect fill=\"#FFFFFF\" height=\"45.9375\" id=\"E7\" style=\"stroke: #383838; stroke-width: 1.5;\" width=\"173\" x=\"543.5\" y=\"389\"/><text fill=\"#000000\" font-family=\"sans-serif\" font-size=\"12\" font-style=\"italic\" lengthAdjust=\"spacingAndGlyphs\" textLength=\"171\" x=\"544.5\" y=\"405.1387\">«individual occurrence def»</text><text fill=\"#000000\" font-family=\"sans-serif\" font-size=\"12\" lengthAdjust=\"spacingAndGlyphs\" textLength=\"19\" x=\"620.5\" y=\"419.1074\">Ind</text><line style=\"stroke: #383838; stroke-width: 1.5;\" x1=\"544.5\" x2=\"715.5\" y1=\"426.9375\" y2=\"426.9375\"/></a><!--MD5=[b9389687b975829384b498ac4b7476b2]\n",
       "class E8--><a href=\"psysml:760118bf-f26e-45fa-9528-0dbdf12ed33d\" target=\"_top\" title=\"psysml:760118bf-f26e-45fa-9528-0dbdf12ed33d\" xlink:actuate=\"onRequest\" xlink:href=\"psysml:760118bf-f26e-45fa-9528-0dbdf12ed33d\" xlink:show=\"new\" xlink:title=\"psysml:760118bf-f26e-45fa-9528-0dbdf12ed33d\" xlink:type=\"simple\"><rect fill=\"#FFFFFF\" height=\"45.9375\" id=\"E8\" rx=\"10\" ry=\"10\" style=\"stroke: #383838; stroke-width: 1.5;\" width=\"150\" x=\"463\" y=\"495\"/><text fill=\"#000000\" font-family=\"sans-serif\" font-size=\"12\" font-style=\"italic\" lengthAdjust=\"spacingAndGlyphs\" textLength=\"148\" x=\"464\" y=\"511.1387\">«snapshot occurrence»</text><text fill=\"#000000\" font-family=\"sans-serif\" font-size=\"12\" lengthAdjust=\"spacingAndGlyphs\" textLength=\"15\" x=\"530.5\" y=\"525.1074\">s2</text><line style=\"stroke: #383838; stroke-width: 1.5;\" x1=\"464\" x2=\"612\" y1=\"532.9375\" y2=\"532.9375\"/></a><!--MD5=[fd4143e9d270a159db93a4ea2a975926]\n",
       "class E9--><a href=\"psysml:6916c4a6-d3e9-4718-9bd3-b4da3843528f\" target=\"_top\" title=\"psysml:6916c4a6-d3e9-4718-9bd3-b4da3843528f\" xlink:actuate=\"onRequest\" xlink:href=\"psysml:6916c4a6-d3e9-4718-9bd3-b4da3843528f\" xlink:show=\"new\" xlink:title=\"psysml:6916c4a6-d3e9-4718-9bd3-b4da3843528f\" xlink:type=\"simple\"><rect fill=\"#FFFFFF\" height=\"45.9375\" id=\"E9\" rx=\"10\" ry=\"10\" style=\"stroke: #383838; stroke-width: 1.5;\" width=\"146\" x=\"648\" y=\"495\"/><text fill=\"#000000\" font-family=\"sans-serif\" font-size=\"12\" font-style=\"italic\" lengthAdjust=\"spacingAndGlyphs\" textLength=\"144\" x=\"649\" y=\"511.1387\">«timeslice occurrence»</text><text fill=\"#000000\" font-family=\"sans-serif\" font-size=\"12\" lengthAdjust=\"spacingAndGlyphs\" textLength=\"13\" x=\"714.5\" y=\"525.1074\">t2</text><line style=\"stroke: #383838; stroke-width: 1.5;\" x1=\"649\" x2=\"793\" y1=\"532.9375\" y2=\"532.9375\"/></a><!--MD5=[96f4274e9e20536e775497830990834d]\n",
       "class E10--><a href=\"psysml:ca3e4eae-d888-4010-bdf5-da81d89d1eab\" target=\"_top\" title=\"psysml:ca3e4eae-d888-4010-bdf5-da81d89d1eab\" xlink:actuate=\"onRequest\" xlink:href=\"psysml:ca3e4eae-d888-4010-bdf5-da81d89d1eab\" xlink:show=\"new\" xlink:title=\"psysml:ca3e4eae-d888-4010-bdf5-da81d89d1eab\" xlink:type=\"simple\"><rect fill=\"#FFFFFF\" height=\"45.9375\" id=\"E10\" rx=\"10\" ry=\"10\" style=\"stroke: #383838; stroke-width: 1.5;\" width=\"149\" x=\"505.5\" y=\"41\"/><text fill=\"#000000\" font-family=\"sans-serif\" font-size=\"12\" font-style=\"italic\" lengthAdjust=\"spacingAndGlyphs\" textLength=\"147\" x=\"506.5\" y=\"57.1387\">«individual occurrence»</text><text fill=\"#000000\" font-family=\"sans-serif\" font-size=\"12\" lengthAdjust=\"spacingAndGlyphs\" textLength=\"77\" x=\"541.5\" y=\"71.1074\">ind: Ind, Occ</text><line style=\"stroke: #383838; stroke-width: 1.5;\" x1=\"506.5\" x2=\"653.5\" y1=\"78.9375\" y2=\"78.9375\"/></a><!--MD5=[1dd1bfd58a279cf63c5f349dbc8fc6a1]\n",
       "class E11--><a href=\"psysml:a7aa12fc-e204-4f0a-90f2-9ab0101a123a\" target=\"_top\" title=\"psysml:a7aa12fc-e204-4f0a-90f2-9ab0101a123a\" xlink:actuate=\"onRequest\" xlink:href=\"psysml:a7aa12fc-e204-4f0a-90f2-9ab0101a123a\" xlink:show=\"new\" xlink:title=\"psysml:a7aa12fc-e204-4f0a-90f2-9ab0101a123a\" xlink:type=\"simple\"><rect fill=\"#FFFFFF\" height=\"45.9375\" id=\"E11\" rx=\"10\" ry=\"10\" style=\"stroke: #383838; stroke-width: 1.5;\" width=\"150\" x=\"561\" y=\"162\"/><text fill=\"#000000\" font-family=\"sans-serif\" font-size=\"12\" font-style=\"italic\" lengthAdjust=\"spacingAndGlyphs\" textLength=\"148\" x=\"562\" y=\"178.1387\">«snapshot occurrence»</text><text fill=\"#000000\" font-family=\"sans-serif\" font-size=\"12\" lengthAdjust=\"spacingAndGlyphs\" textLength=\"15\" x=\"628.5\" y=\"192.1074\">s3</text><line style=\"stroke: #383838; stroke-width: 1.5;\" x1=\"562\" x2=\"710\" y1=\"199.9375\" y2=\"199.9375\"/></a><!--MD5=[49a0ec8f00dab7302a31f22d0f0fe584]\n",
       "class E12--><a href=\"psysml:5052c3e9-886b-4521-8bf3-18ad9cb470c5\" target=\"_top\" title=\"psysml:5052c3e9-886b-4521-8bf3-18ad9cb470c5\" xlink:actuate=\"onRequest\" xlink:href=\"psysml:5052c3e9-886b-4521-8bf3-18ad9cb470c5\" xlink:show=\"new\" xlink:title=\"psysml:5052c3e9-886b-4521-8bf3-18ad9cb470c5\" xlink:type=\"simple\"><rect fill=\"#FFFFFF\" height=\"45.9375\" id=\"E12\" rx=\"10\" ry=\"10\" style=\"stroke: #383838; stroke-width: 1.5;\" width=\"208\" x=\"746\" y=\"162\"/><text fill=\"#000000\" font-family=\"sans-serif\" font-size=\"12\" font-style=\"italic\" lengthAdjust=\"spacingAndGlyphs\" textLength=\"206\" x=\"747\" y=\"178.1387\">«individual timeslice occurrence»</text><text fill=\"#000000\" font-family=\"sans-serif\" font-size=\"12\" lengthAdjust=\"spacingAndGlyphs\" textLength=\"13\" x=\"843.5\" y=\"192.1074\">t3</text><line style=\"stroke: #383838; stroke-width: 1.5;\" x1=\"747\" x2=\"953\" y1=\"199.9375\" y2=\"199.9375\"/></a><!--MD5=[ee3c913d1a06f366521f9ef512b67efe]\n",
       "class E13--><a href=\"psysml:e6d8c0e1-46dd-40c0-98f9-8ea23118f8bb\" target=\"_top\" title=\"psysml:e6d8c0e1-46dd-40c0-98f9-8ea23118f8bb\" xlink:actuate=\"onRequest\" xlink:href=\"psysml:e6d8c0e1-46dd-40c0-98f9-8ea23118f8bb\" xlink:show=\"new\" xlink:title=\"psysml:e6d8c0e1-46dd-40c0-98f9-8ea23118f8bb\" xlink:type=\"simple\"><rect fill=\"#FFFFFF\" height=\"45.9375\" id=\"E13\" rx=\"10\" ry=\"10\" style=\"stroke: #383838; stroke-width: 1.5;\" width=\"212\" x=\"32\" y=\"283\"/><text fill=\"#000000\" font-family=\"sans-serif\" font-size=\"12\" font-style=\"italic\" lengthAdjust=\"spacingAndGlyphs\" textLength=\"210\" x=\"33\" y=\"299.1387\">«individual snapshot occurrence»</text><text fill=\"#000000\" font-family=\"sans-serif\" font-size=\"12\" lengthAdjust=\"spacingAndGlyphs\" textLength=\"42\" x=\"117\" y=\"313.1074\">s4: Ind</text><line style=\"stroke: #383838; stroke-width: 1.5;\" x1=\"33\" x2=\"243\" y1=\"320.9375\" y2=\"320.9375\"/></a><!--MD5=[209b3feb70ccb6233bfe1053d122c12c]\n",
       "reverse link E2 to E3--><a href=\"psysml:816d5179-2674-4631-83bc-f7d71b4237a7\" target=\"_top\" title=\"psysml:816d5179-2674-4631-83bc-f7d71b4237a7\" xlink:actuate=\"onRequest\" xlink:href=\"psysml:816d5179-2674-4631-83bc-f7d71b4237a7\" xlink:show=\"new\" xlink:title=\"psysml:816d5179-2674-4631-83bc-f7d71b4237a7\" xlink:type=\"simple\"><path d=\"M385.5,236.28 C385.5,236.28 385.5,299 385.5,299 C385.5,299 377.25,299 366.75,299 \" fill=\"none\" id=\"E2&lt;-E3\" style=\"stroke: #383838; stroke-width: 1.0;\"/><polygon fill=\"#FFFFFF\" points=\"385.5,223.28,381.5,229.28,385.5,235.28,389.5,229.28,385.5,223.28\" style=\"stroke: #383838; stroke-width: 1.0;\"/></a><!--MD5=[05d275557350bfb9b23a4ef7222b4c39]\n",
       "link E3 to E2--><a href=\"psysml:eb3070f5-b0ea-4331-ac23-68f76765f53a\" target=\"_top\" title=\"psysml:eb3070f5-b0ea-4331-ac23-68f76765f53a\" xlink:actuate=\"onRequest\" xlink:href=\"psysml:eb3070f5-b0ea-4331-ac23-68f76765f53a\" xlink:show=\"new\" xlink:title=\"psysml:eb3070f5-b0ea-4331-ac23-68f76765f53a\" xlink:type=\"simple\"><path d=\"M366.85,314 C381.18,314 393.5,314 393.5,314 C393.5,314 393.5,243.01 393.5,243.01 \" fill=\"none\" id=\"E3-&gt;E2\" style=\"stroke: #383838; stroke-width: 1.0;\"/><polygon fill=\"#FFFFFF\" points=\"393.5,223.01,400.5,242.01,386.5,242.01,393.5,223.01\" style=\"stroke: #383838; stroke-width: 1.0;\"/><ellipse cx=\"398.5\" cy=\"247.71\" fill=\"#383838\" rx=\"2\" ry=\"2\" style=\"stroke: #383838; stroke-width: 1.0;\"/><ellipse cx=\"388.5\" cy=\"247.71\" fill=\"#383838\" rx=\"2\" ry=\"2\" style=\"stroke: #383838; stroke-width: 1.0;\"/></a><!--MD5=[9618e71518536f8baf3342ff6fdab317]\n",
       "reverse link E2 to E4--><a href=\"psysml:0447f336-2e88-4877-9a74-bac22478a75a\" target=\"_top\" title=\"psysml:0447f336-2e88-4877-9a74-bac22478a75a\" xlink:actuate=\"onRequest\" xlink:href=\"psysml:0447f336-2e88-4877-9a74-bac22478a75a\" xlink:show=\"new\" xlink:title=\"psysml:0447f336-2e88-4877-9a74-bac22478a75a\" xlink:type=\"simple\"><path d=\"M430.5,236.29 C430.5,236.29 430.5,282.74 430.5,282.74 \" fill=\"none\" id=\"E2&lt;-E4\" style=\"stroke: #383838; stroke-width: 1.0;\"/><polygon fill=\"#383838\" points=\"430.5,223.29,426.5,229.29,430.5,235.29,434.5,229.29,430.5,223.29\" style=\"stroke: #383838; stroke-width: 1.0;\"/></a><!--MD5=[185131fc0dcab0a4505a2ebe144e961b]\n",
       "link E4 to E2--><a href=\"psysml:bbe7f0c0-75f0-4d42-b38b-c0f55f25890a\" target=\"_top\" title=\"psysml:bbe7f0c0-75f0-4d42-b38b-c0f55f25890a\" xlink:actuate=\"onRequest\" xlink:href=\"psysml:bbe7f0c0-75f0-4d42-b38b-c0f55f25890a\" xlink:show=\"new\" xlink:title=\"psysml:bbe7f0c0-75f0-4d42-b38b-c0f55f25890a\" xlink:type=\"simple\"><path d=\"M459.5,282.96 C459.5,282.96 459.5,243.19 459.5,243.19 \" fill=\"none\" id=\"E4-&gt;E2\" style=\"stroke: #383838; stroke-width: 1.0;\"/><polygon fill=\"#FFFFFF\" points=\"459.5,223.19,466.5,242.19,452.5,242.19,459.5,223.19\" style=\"stroke: #383838; stroke-width: 1.0;\"/><ellipse cx=\"464.5\" cy=\"247.89\" fill=\"#383838\" rx=\"2\" ry=\"2\" style=\"stroke: #383838; stroke-width: 1.0;\"/><ellipse cx=\"454.5\" cy=\"247.89\" fill=\"#383838\" rx=\"2\" ry=\"2\" style=\"stroke: #383838; stroke-width: 1.0;\"/></a><!--MD5=[4e1a83fab71cdb913c109063314ae896]\n",
       "reverse link E2 to E5--><a href=\"psysml:5c44c5f5-a434-4c27-9e5d-4b118f9f4fa1\" target=\"_top\" title=\"psysml:5c44c5f5-a434-4c27-9e5d-4b118f9f4fa1\" xlink:actuate=\"onRequest\" xlink:href=\"psysml:5c44c5f5-a434-4c27-9e5d-4b118f9f4fa1\" xlink:show=\"new\" xlink:title=\"psysml:5c44c5f5-a434-4c27-9e5d-4b118f9f4fa1\" xlink:type=\"simple\"><path d=\"M501.71,218 C501.71,218 542.5,218 542.5,218 C542.5,218 542.5,256.81 542.5,282.88 \" fill=\"none\" id=\"E2&lt;-E5\" style=\"stroke: #383838; stroke-width: 1.0;\"/><polygon fill=\"#383838\" points=\"488.71,218,494.71,222,500.71,218,494.71,214,488.71,218\" style=\"stroke: #383838; stroke-width: 1.0;\"/></a><!--MD5=[ce036f65110ae2351ccce5a81dc2e928]\n",
       "reverse link E2 to E6--><a href=\"psysml:f84da050-0b5f-49f5-998e-9b704fc66ebc\" target=\"_top\" title=\"psysml:f84da050-0b5f-49f5-998e-9b704fc66ebc\" xlink:actuate=\"onRequest\" xlink:href=\"psysml:f84da050-0b5f-49f5-998e-9b704fc66ebc\" xlink:show=\"new\" xlink:title=\"psysml:f84da050-0b5f-49f5-998e-9b704fc66ebc\" xlink:type=\"simple\"><path d=\"M501.86,213 C501.86,213 844,213 844,213 C844,213 844,254.98 844,282.53 \" fill=\"none\" id=\"E2&lt;-E6\" style=\"stroke: #383838; stroke-width: 1.0;\"/><polygon fill=\"#383838\" points=\"488.86,213,494.86,217,500.86,213,494.86,209,488.86,213\" style=\"stroke: #383838; stroke-width: 1.0;\"/><text fill=\"#000000\" font-family=\"sans-serif\" font-size=\"13\" lengthAdjust=\"spacingAndGlyphs\" textLength=\"7\" x=\"836.1469\" y=\"272.0718\">*</text></a><!--MD5=[3a9b96bfbf6b6ad89c494e81751bda47]\n",
       "link E5 to E7--><a href=\"psysml:5222325c-bb46-4e39-81f0-12dbae43365a\" target=\"_top\" title=\"psysml:5222325c-bb46-4e39-81f0-12dbae43365a\" xlink:actuate=\"onRequest\" xlink:href=\"psysml:5222325c-bb46-4e39-81f0-12dbae43365a\" xlink:show=\"new\" xlink:title=\"psysml:5222325c-bb46-4e39-81f0-12dbae43365a\" xlink:type=\"simple\"><path d=\"M630,329 C630,329 630,368.68 630,368.68 \" fill=\"none\" id=\"E5-&gt;E7\" style=\"stroke: #383838; stroke-width: 1.0;\"/><polygon fill=\"#FFFFFF\" points=\"630,388.68,623,369.68,637,369.68,630,388.68\" style=\"stroke: #383838; stroke-width: 1.0;\"/><ellipse cx=\"625\" cy=\"363.98\" fill=\"#383838\" rx=\"2\" ry=\"2\" style=\"stroke: #383838; stroke-width: 1.0;\"/><ellipse cx=\"635\" cy=\"363.98\" fill=\"#383838\" rx=\"2\" ry=\"2\" style=\"stroke: #383838; stroke-width: 1.0;\"/></a><!--MD5=[dc164f5e8a733ab456ef1add180e9e34]\n",
       "reverse link E7 to E8--><a href=\"psysml:62bbb331-bb03-464e-9e32-68694608bffc\" target=\"_top\" title=\"psysml:62bbb331-bb03-464e-9e32-68694608bffc\" xlink:actuate=\"onRequest\" xlink:href=\"psysml:62bbb331-bb03-464e-9e32-68694608bffc\" xlink:show=\"new\" xlink:title=\"psysml:62bbb331-bb03-464e-9e32-68694608bffc\" xlink:type=\"simple\"><path d=\"M578.25,448 C578.25,448 578.25,494.68 578.25,494.68 \" fill=\"none\" id=\"E7&lt;-E8\" style=\"stroke: #383838; stroke-width: 1.0;\"/><polygon fill=\"#383838\" points=\"578.25,435,574.25,441,578.25,447,582.25,441,578.25,435\" style=\"stroke: #383838; stroke-width: 1.0;\"/><text fill=\"#000000\" font-family=\"sans-serif\" font-size=\"13\" lengthAdjust=\"spacingAndGlyphs\" textLength=\"7\" x=\"580.6672\" y=\"483.8743\">*</text></a><!--MD5=[e4a10ef82d0e328e31cac39a31e58dda]\n",
       "reverse link E7 to E9--><a href=\"psysml:6940b1aa-8c0f-4381-86aa-7b3e10e8c0d6\" target=\"_top\" title=\"psysml:6940b1aa-8c0f-4381-86aa-7b3e10e8c0d6\" xlink:actuate=\"onRequest\" xlink:href=\"psysml:6940b1aa-8c0f-4381-86aa-7b3e10e8c0d6\" xlink:show=\"new\" xlink:title=\"psysml:6940b1aa-8c0f-4381-86aa-7b3e10e8c0d6\" xlink:type=\"simple\"><path d=\"M682.25,448 C682.25,448 682.25,494.68 682.25,494.68 \" fill=\"none\" id=\"E7&lt;-E9\" style=\"stroke: #383838; stroke-width: 1.0;\"/><polygon fill=\"#383838\" points=\"682.25,435,678.25,441,682.25,447,686.25,441,682.25,435\" style=\"stroke: #383838; stroke-width: 1.0;\"/><text fill=\"#000000\" font-family=\"sans-serif\" font-size=\"13\" lengthAdjust=\"spacingAndGlyphs\" textLength=\"7\" x=\"664.4234\" y=\"483.8743\">*</text></a><!--MD5=[a919e0967d6f3de553dc51b9865a1d6d]\n",
       "link E10 to E7--><a href=\"psysml:2d47db94-d209-4d22-9eae-73bfc16721f5\" target=\"_top\" title=\"psysml:2d47db94-d209-4d22-9eae-73bfc16721f5\" xlink:actuate=\"onRequest\" xlink:href=\"psysml:2d47db94-d209-4d22-9eae-73bfc16721f5\" xlink:show=\"new\" xlink:title=\"psysml:2d47db94-d209-4d22-9eae-73bfc16721f5\" xlink:type=\"simple\"><path d=\"M517.83,87.17 C517.83,163.92 517.83,405 517.83,405 C517.83,405 523.29,405 523.29,405 \" fill=\"none\" id=\"E10-&gt;E7\" style=\"stroke: #383838; stroke-width: 1.0;\"/><polygon fill=\"#FFFFFF\" points=\"543.29,405,524.29,412,524.29,398,543.29,405\" style=\"stroke: #383838; stroke-width: 1.0;\"/><ellipse cx=\"518.59\" cy=\"410\" fill=\"#383838\" rx=\"2\" ry=\"2\" style=\"stroke: #383838; stroke-width: 1.0;\"/><ellipse cx=\"518.59\" cy=\"400\" fill=\"#383838\" rx=\"2\" ry=\"2\" style=\"stroke: #383838; stroke-width: 1.0;\"/></a><!--MD5=[0f36bececdf0dff6e600d6f64214b0f1]\n",
       "link E10 to E2--><a href=\"psysml:6622b004-fc37-43f3-bc42-fdfacc696359\" target=\"_top\" title=\"psysml:6622b004-fc37-43f3-bc42-fdfacc696359\" xlink:actuate=\"onRequest\" xlink:href=\"psysml:6622b004-fc37-43f3-bc42-fdfacc696359\" xlink:show=\"new\" xlink:title=\"psysml:6622b004-fc37-43f3-bc42-fdfacc696359\" xlink:type=\"simple\"><path d=\"M511.67,87.43 C511.67,114.4 511.67,155 511.67,155 C511.67,155 508.91,155 508.91,155 \" fill=\"none\" id=\"E10-&gt;E2\" style=\"stroke: #383838; stroke-width: 1.0;\"/><polygon fill=\"#FFFFFF\" points=\"488.91,155,507.91,148,507.91,162,488.91,155\" style=\"stroke: #383838; stroke-width: 1.0;\"/><ellipse cx=\"513.61\" cy=\"150\" fill=\"#383838\" rx=\"2\" ry=\"2\" style=\"stroke: #383838; stroke-width: 1.0;\"/><ellipse cx=\"513.61\" cy=\"160\" fill=\"#383838\" rx=\"2\" ry=\"2\" style=\"stroke: #383838; stroke-width: 1.0;\"/></a><!--MD5=[de308be4a2431766a05a907a031c07fc]\n",
       "reverse link E10 to E11--><a href=\"psysml:973d09ca-2c85-400b-8a26-6e03e711a9dc\" target=\"_top\" title=\"psysml:973d09ca-2c85-400b-8a26-6e03e711a9dc\" xlink:actuate=\"onRequest\" xlink:href=\"psysml:973d09ca-2c85-400b-8a26-6e03e711a9dc\" xlink:show=\"new\" xlink:title=\"psysml:973d09ca-2c85-400b-8a26-6e03e711a9dc\" xlink:type=\"simple\"><path d=\"M607.75,100.04 C607.75,100.04 607.75,161.63 607.75,161.63 \" fill=\"none\" id=\"E10&lt;-E11\" style=\"stroke: #383838; stroke-width: 1.0;\"/><polygon fill=\"#383838\" points=\"607.75,87.04,603.75,93.04,607.75,99.04,611.75,93.04,607.75,87.04\" style=\"stroke: #383838; stroke-width: 1.0;\"/></a><!--MD5=[1d54f998c6d5961a1a9184be73a7eb6c]\n",
       "reverse link E10 to E12--><a href=\"psysml:4b2dc275-57bf-47aa-bec9-3fe53972a958\" target=\"_top\" title=\"psysml:4b2dc275-57bf-47aa-bec9-3fe53972a958\" xlink:actuate=\"onRequest\" xlink:href=\"psysml:4b2dc275-57bf-47aa-bec9-3fe53972a958\" xlink:show=\"new\" xlink:title=\"psysml:4b2dc275-57bf-47aa-bec9-3fe53972a958\" xlink:type=\"simple\"><path d=\"M667.85,64 C667.85,64 850,64 850,64 C850,64 850,126.85 850,161.96 \" fill=\"none\" id=\"E10&lt;-E12\" style=\"stroke: #383838; stroke-width: 1.0;\"/><polygon fill=\"#383838\" points=\"654.85,64,660.85,68,666.85,64,660.85,60,654.85,64\" style=\"stroke: #383838; stroke-width: 1.0;\"/></a><!--MD5=[4a48077df6499cfcd20b62e8f5f37904]\n",
       "link E13 to E7--><a href=\"psysml:99db2ce7-7db4-4747-aea3-ba596a45b862\" target=\"_top\" title=\"psysml:99db2ce7-7db4-4747-aea3-ba596a45b862\" xlink:actuate=\"onRequest\" xlink:href=\"psysml:99db2ce7-7db4-4747-aea3-ba596a45b862\" xlink:show=\"new\" xlink:title=\"psysml:99db2ce7-7db4-4747-aea3-ba596a45b862\" xlink:type=\"simple\"><path d=\"M138,329.07 C138,362.38 138,420 138,420 C138,420 523.46,420 523.46,420 \" fill=\"none\" id=\"E13-&gt;E7\" style=\"stroke: #383838; stroke-width: 1.0;\"/><polygon fill=\"#FFFFFF\" points=\"543.46,420,524.46,427,524.46,413,543.46,420\" style=\"stroke: #383838; stroke-width: 1.0;\"/><ellipse cx=\"518.76\" cy=\"425\" fill=\"#383838\" rx=\"2\" ry=\"2\" style=\"stroke: #383838; stroke-width: 1.0;\"/><ellipse cx=\"518.76\" cy=\"415\" fill=\"#383838\" rx=\"2\" ry=\"2\" style=\"stroke: #383838; stroke-width: 1.0;\"/></a><!--MD5=[02817a65e7851ae3d62eb07a39623a65]\n",
       "@startuml\r\n",
       "skinparam linetype ortho\r\n",
       "skinparam monochrome true\r\n",
       "skinparam classbackgroundcolor white\r\n",
       "skinparam shadowing false\r\n",
       "skinparam wrapWidth 300\r\n",
       "hide circle\r\n",
       "\r\n",
       "package \"OccurrenceTest\" as E1  [[psysml:e6ab502d-dafd-416a-a255-3fa3ad3c263c ]]  {\r\n",
       "comp def \"Occ\" as E2  <<(T,blue) occurrence def>> [[psysml:1203d309-d98c-452c-84ab-9db93e8b8d83 ]] {\r\n",
       "- - attributes - -\r\n",
       "a\r\n",
       "}\r\n",
       "comp usage \"occ1: Occ\" as E3  <<(T,blue) occurrence>> [[psysml:158a345e-3640-4aa1-8638-58b6699698f0 ]] {\r\n",
       "}\r\n",
       "comp usage \"occ2: Occ\" as E4  <<(T,blue) occurrence>> [[psysml:5ccc27c3-07b1-4713-880e-82008912fb62 ]] {\r\n",
       "}\r\n",
       "comp usage \"s: Ind\" as E5  <<(T,blue) individual snapshot occurrence>> [[psysml:b931cfcd-d1f5-4c70-b44c-3b4fd21c9018 ]] {\r\n",
       "}\r\n",
       "comp usage \"t\" as E6  <<(T,blue) timeslice occurrence>> [[psysml:a76dffb5-cb4a-4142-b15c-9dbeb6bd2474 ]] {\r\n",
       "}\r\n",
       "comp def \"Ind\" as E7  <<(T,blue) individual occurrence def>> [[psysml:cddcce1d-840d-4259-9672-1cad32ef9616 ]] {\r\n",
       "}\r\n",
       "comp usage \"s2\" as E8  <<(T,blue) snapshot occurrence>> [[psysml:760118bf-f26e-45fa-9528-0dbdf12ed33d ]] {\r\n",
       "}\r\n",
       "comp usage \"t2\" as E9  <<(T,blue) timeslice occurrence>> [[psysml:6916c4a6-d3e9-4718-9bd3-b4da3843528f ]] {\r\n",
       "}\r\n",
       "comp usage \"ind: Ind, Occ\" as E10  <<(T,blue) individual occurrence>> [[psysml:ca3e4eae-d888-4010-bdf5-da81d89d1eab ]] {\r\n",
       "}\r\n",
       "comp usage \"s3\" as E11  <<(T,blue) snapshot occurrence>> [[psysml:a7aa12fc-e204-4f0a-90f2-9ab0101a123a ]] {\r\n",
       "}\r\n",
       "comp usage \"t3\" as E12  <<(T,blue) individual timeslice occurrence>> [[psysml:5052c3e9-886b-4521-8bf3-18ad9cb470c5 ]] {\r\n",
       "}\r\n",
       "comp usage \"s4: Ind\" as E13  <<(T,blue) individual snapshot occurrence>> [[psysml:e6d8c0e1-46dd-40c0-98f9-8ea23118f8bb ]] {\r\n",
       "}\r\n",
       "}\r\n",
       "E2 o- - E3 [[psysml:816d5179-2674-4631-83bc-f7d71b4237a7 ]] \r\n",
       "E3 - -:|> E2 [[psysml:eb3070f5-b0ea-4331-ac23-68f76765f53a ]] \r\n",
       "E2 *- - E4 [[psysml:0447f336-2e88-4877-9a74-bac22478a75a ]] \r\n",
       "E4 - -:|> E2 [[psysml:bbe7f0c0-75f0-4d42-b38b-c0f55f25890a ]] \r\n",
       "E2 *- - E5 [[psysml:5c44c5f5-a434-4c27-9e5d-4b118f9f4fa1 ]] \r\n",
       "E2 *- - \"*\"E6 [[psysml:f84da050-0b5f-49f5-998e-9b704fc66ebc ]] \r\n",
       "E5 - -:|> E7 [[psysml:5222325c-bb46-4e39-81f0-12dbae43365a ]] \r\n",
       "E7 *- - \"*\"E8 [[psysml:62bbb331-bb03-464e-9e32-68694608bffc ]] \r\n",
       "E7 *- - \"*\"E9 [[psysml:6940b1aa-8c0f-4381-86aa-7b3e10e8c0d6 ]] \r\n",
       "E10 - -:|> E7 [[psysml:2d47db94-d209-4d22-9eae-73bfc16721f5 ]] \r\n",
       "E10 - -:|> E2 [[psysml:6622b004-fc37-43f3-bc42-fdfacc696359 ]] \r\n",
       "E10 *- - E11 [[psysml:973d09ca-2c85-400b-8a26-6e03e711a9dc ]] \r\n",
       "E10 *- - E12 [[psysml:4b2dc275-57bf-47aa-bec9-3fe53972a958 ]] \r\n",
       "E13 - -:|> E7 [[psysml:99db2ce7-7db4-4747-aea3-ba596a45b862 ]] \r\n",
       "@enduml\r\n",
       "\n",
       "PlantUML version 1.2020.13(Sat Jun 13 12:26:38 UTC 2020)\n",
       "(EPL source distribution)\n",
       "Java Runtime: OpenJDK Runtime Environment\n",
       "JVM: OpenJDK 64-Bit Server VM\n",
       "Default Encoding: UTF-8\n",
       "Language: en\n",
       "Country: null\n",
       "--></g></svg>"
      ]
     },
     "execution_count": 52,
     "metadata": {},
     "output_type": "execute_result"
    }
   ],
   "source": [
    "%viz --style=\"ORTHOLINE\" --view=\"Tree\" \"OccurrenceTest\""
   ]
  },
  {
   "cell_type": "code",
   "execution_count": 53,
   "id": "e28e22f5",
   "metadata": {
    "execution": {
     "iopub.execute_input": "2021-10-03T08:28:46.412576Z",
     "iopub.status.busy": "2021-10-03T08:28:46.412174Z",
     "iopub.status.idle": "2021-10-03T08:28:46.417544Z",
     "shell.execute_reply": "2021-10-03T08:28:46.417214Z"
    }
   },
   "outputs": [
    {
     "data": {
      "image/svg+xml": [
       "<?xml version=\"1.0\" encoding=\"UTF-8\" standalone=\"no\"?><svg xmlns=\"http://www.w3.org/2000/svg\" xmlns:xlink=\"http://www.w3.org/1999/xlink\" contentScriptType=\"application/ecmascript\" contentStyleType=\"text/css\" height=\"12px\" preserveAspectRatio=\"none\" style=\"width:12px;height:12px;\" version=\"1.1\" viewBox=\"0 0 12 12\" width=\"12px\" zoomAndPan=\"magnify\"><defs/><g><!--MD5=[97d6f38768b311333d388e66b2b27985]\n",
       "@startuml\r\n",
       "skinparam linetype ortho\r\n",
       "skinparam monochrome true\r\n",
       "skinparam classbackgroundcolor white\r\n",
       "skinparam shadowing false\r\n",
       "skinparam wrapWidth 300\r\n",
       "hide circle\r\n",
       "\r\n",
       "@enduml\r\n",
       "\n",
       "PlantUML version 1.2020.13(Sat Jun 13 12:26:38 UTC 2020)\n",
       "(EPL source distribution)\n",
       "Java Runtime: OpenJDK Runtime Environment\n",
       "JVM: OpenJDK 64-Bit Server VM\n",
       "Default Encoding: UTF-8\n",
       "Language: en\n",
       "Country: null\n",
       "--></g></svg>"
      ]
     },
     "execution_count": 53,
     "metadata": {},
     "output_type": "execute_result"
    }
   ],
   "source": [
    "%viz --style=\"ORTHOLINE\" --view=\"State\" \"OccurrenceTest\""
   ]
  },
  {
   "cell_type": "code",
   "execution_count": 54,
   "id": "df99ea8e",
   "metadata": {
    "execution": {
     "iopub.execute_input": "2021-10-03T08:28:46.466522Z",
     "iopub.status.busy": "2021-10-03T08:28:46.466125Z",
     "iopub.status.idle": "2021-10-03T08:28:46.497015Z",
     "shell.execute_reply": "2021-10-03T08:28:46.496670Z"
    }
   },
   "outputs": [
    {
     "data": {
      "image/svg+xml": [
       "<?xml version=\"1.0\" encoding=\"UTF-8\" standalone=\"no\"?><svg xmlns=\"http://www.w3.org/2000/svg\" xmlns:xlink=\"http://www.w3.org/1999/xlink\" contentScriptType=\"application/ecmascript\" contentStyleType=\"text/css\" height=\"195px\" preserveAspectRatio=\"none\" style=\"width:1115px;height:195px;\" version=\"1.1\" viewBox=\"0 0 1115 195\" width=\"1115px\" zoomAndPan=\"magnify\"><defs/><g><!--MD5=[fbc87193dbaf4d95561dea2c320d4a47]\n",
       "cluster E1--><a href=\"psysml:e6ab502d-dafd-416a-a255-3fa3ad3c263c\" target=\"_top\" title=\"psysml:e6ab502d-dafd-416a-a255-3fa3ad3c263c\" xlink:actuate=\"onRequest\" xlink:href=\"psysml:e6ab502d-dafd-416a-a255-3fa3ad3c263c\" xlink:show=\"new\" xlink:title=\"psysml:e6ab502d-dafd-416a-a255-3fa3ad3c263c\" xlink:type=\"simple\"><polygon fill=\"#FFFFFF\" points=\"16,6,134,6,141,28.2969,1093,28.2969,1093,183,16,183,16,6\" style=\"stroke: #000000; stroke-width: 1.5;\"/><line style=\"stroke: #000000; stroke-width: 1.5;\" x1=\"16\" x2=\"141\" y1=\"28.2969\" y2=\"28.2969\"/><text fill=\"#000000\" font-family=\"sans-serif\" font-size=\"14\" font-weight=\"bold\" lengthAdjust=\"spacingAndGlyphs\" textLength=\"112\" x=\"20\" y=\"20.9951\">OccurrenceTest</text></a><!--MD5=[f6df4d0ebaf0b5dfb2ced0ae5af7c670]\n",
       "cluster E4--><a href=\"psysml:ca3e4eae-d888-4010-bdf5-da81d89d1eab\" target=\"_top\" title=\"psysml:ca3e4eae-d888-4010-bdf5-da81d89d1eab\" xlink:actuate=\"onRequest\" xlink:href=\"psysml:ca3e4eae-d888-4010-bdf5-da81d89d1eab\" xlink:show=\"new\" xlink:title=\"psysml:ca3e4eae-d888-4010-bdf5-da81d89d1eab\" xlink:type=\"simple\"><rect fill=\"#FFFFFF\" height=\"110\" id=\"E4\" rx=\"10\" ry=\"10\" style=\"stroke: #383838; stroke-width: 1.5;\" width=\"435\" x=\"634\" y=\"49\"/><rect fill=\"#F8F8F8\" height=\"37.9375\" rx=\"10\" ry=\"10\" style=\"stroke: #F8F8F8; stroke-width: 1.5;\" width=\"435\" x=\"634\" y=\"49\"/><rect fill=\"#F8F8F8\" height=\"10\" style=\"stroke: #F8F8F8; stroke-width: 1.5;\" width=\"435\" x=\"634\" y=\"76.9375\"/><rect fill=\"none\" height=\"110\" id=\"E4\" rx=\"10\" ry=\"10\" style=\"stroke: #383838; stroke-width: 1.5;\" width=\"435\" x=\"634\" y=\"49\"/><text fill=\"#000000\" font-family=\"sans-serif\" font-size=\"12\" font-style=\"italic\" lengthAdjust=\"spacingAndGlyphs\" textLength=\"147\" x=\"778\" y=\"65.1387\">«individual occurrence»</text><text fill=\"#000000\" font-family=\"sans-serif\" font-size=\"12\" lengthAdjust=\"spacingAndGlyphs\" textLength=\"77\" x=\"813\" y=\"79.1074\">ind: Ind, Occ</text><line style=\"stroke: #383838; stroke-width: 1.0;\" x1=\"634\" x2=\"1069\" y1=\"86.9375\" y2=\"86.9375\"/></a><g id=\"E1.E2\"><a href=\"psysml:1203d309-d98c-452c-84ab-9db93e8b8d83\" target=\"_top\" title=\"psysml:1203d309-d98c-452c-84ab-9db93e8b8d83\" xlink:actuate=\"onRequest\" xlink:href=\"psysml:1203d309-d98c-452c-84ab-9db93e8b8d83\" xlink:show=\"new\" xlink:title=\"psysml:1203d309-d98c-452c-84ab-9db93e8b8d83\" xlink:type=\"simple\"><rect fill=\"#FFFFFF\" height=\"42.9375\" id=\"E2\" style=\"stroke: #383838; stroke-width: 1.5;\" width=\"116\" x=\"498\" y=\"100\"/><rect fill=\"#F8F8F8\" height=\"37.9375\" style=\"stroke: #383838; stroke-width: 1.5;\" width=\"116\" x=\"498\" y=\"100\"/><text fill=\"#000000\" font-family=\"sans-serif\" font-size=\"12\" font-style=\"italic\" lengthAdjust=\"spacingAndGlyphs\" textLength=\"109\" x=\"501.5\" y=\"116.1387\">«occurrence def»</text><text fill=\"#000000\" font-family=\"sans-serif\" font-size=\"12\" lengthAdjust=\"spacingAndGlyphs\" textLength=\"23\" x=\"544.5\" y=\"130.1074\">Occ</text></a></g><g id=\"E1.E3\"><a href=\"psysml:cddcce1d-840d-4259-9672-1cad32ef9616\" target=\"_top\" title=\"psysml:cddcce1d-840d-4259-9672-1cad32ef9616\" xlink:actuate=\"onRequest\" xlink:href=\"psysml:cddcce1d-840d-4259-9672-1cad32ef9616\" xlink:show=\"new\" xlink:title=\"psysml:cddcce1d-840d-4259-9672-1cad32ef9616\" xlink:type=\"simple\"><rect fill=\"#FFFFFF\" height=\"42.9375\" id=\"E3\" style=\"stroke: #383838; stroke-width: 1.5;\" width=\"178\" x=\"285\" y=\"100\"/><rect fill=\"#F8F8F8\" height=\"37.9375\" style=\"stroke: #383838; stroke-width: 1.5;\" width=\"178\" x=\"285\" y=\"100\"/><text fill=\"#000000\" font-family=\"sans-serif\" font-size=\"12\" font-style=\"italic\" lengthAdjust=\"spacingAndGlyphs\" textLength=\"171\" x=\"288.5\" y=\"116.1387\">«individual occurrence def»</text><text fill=\"#000000\" font-family=\"sans-serif\" font-size=\"12\" lengthAdjust=\"spacingAndGlyphs\" textLength=\"19\" x=\"364.5\" y=\"130.1074\">Ind</text></a></g><g id=\"E1.E4.E5\"><a href=\"psysml:a7aa12fc-e204-4f0a-90f2-9ab0101a123a\" target=\"_top\" title=\"psysml:a7aa12fc-e204-4f0a-90f2-9ab0101a123a\" xlink:actuate=\"onRequest\" xlink:href=\"psysml:a7aa12fc-e204-4f0a-90f2-9ab0101a123a\" xlink:show=\"new\" xlink:title=\"psysml:a7aa12fc-e204-4f0a-90f2-9ab0101a123a\" xlink:type=\"simple\"><rect fill=\"#FFFFFF\" height=\"42.9375\" id=\"E5\" rx=\"10\" ry=\"10\" style=\"stroke: #383838; stroke-width: 1.5;\" width=\"155\" x=\"897.5\" y=\"100\"/><rect fill=\"#F8F8F8\" height=\"37.9375\" rx=\"10\" ry=\"10\" style=\"stroke: #F8F8F8; stroke-width: 1.5;\" width=\"155\" x=\"897.5\" y=\"100\"/><rect fill=\"#F8F8F8\" height=\"10\" style=\"stroke: #F8F8F8; stroke-width: 1.5;\" width=\"155\" x=\"897.5\" y=\"127.9375\"/><rect fill=\"none\" height=\"42.9375\" id=\"E5\" rx=\"10\" ry=\"10\" style=\"stroke: #383838; stroke-width: 1.5;\" width=\"155\" x=\"897.5\" y=\"100\"/><text fill=\"#000000\" font-family=\"sans-serif\" font-size=\"12\" font-style=\"italic\" lengthAdjust=\"spacingAndGlyphs\" textLength=\"148\" x=\"901\" y=\"116.1387\">«snapshot occurrence»</text><text fill=\"#000000\" font-family=\"sans-serif\" font-size=\"12\" lengthAdjust=\"spacingAndGlyphs\" textLength=\"15\" x=\"967.5\" y=\"130.1074\">s3</text></a></g><g id=\"E1.E4.E6\"><a href=\"psysml:5052c3e9-886b-4521-8bf3-18ad9cb470c5\" target=\"_top\" title=\"psysml:5052c3e9-886b-4521-8bf3-18ad9cb470c5\" xlink:actuate=\"onRequest\" xlink:href=\"psysml:5052c3e9-886b-4521-8bf3-18ad9cb470c5\" xlink:show=\"new\" xlink:title=\"psysml:5052c3e9-886b-4521-8bf3-18ad9cb470c5\" xlink:type=\"simple\"><rect fill=\"#FFFFFF\" height=\"42.9375\" id=\"E6\" rx=\"10\" ry=\"10\" style=\"stroke: #383838; stroke-width: 1.5;\" width=\"213\" x=\"649.5\" y=\"100\"/><rect fill=\"#F8F8F8\" height=\"37.9375\" rx=\"10\" ry=\"10\" style=\"stroke: #F8F8F8; stroke-width: 1.5;\" width=\"213\" x=\"649.5\" y=\"100\"/><rect fill=\"#F8F8F8\" height=\"10\" style=\"stroke: #F8F8F8; stroke-width: 1.5;\" width=\"213\" x=\"649.5\" y=\"127.9375\"/><rect fill=\"none\" height=\"42.9375\" id=\"E6\" rx=\"10\" ry=\"10\" style=\"stroke: #383838; stroke-width: 1.5;\" width=\"213\" x=\"649.5\" y=\"100\"/><text fill=\"#000000\" font-family=\"sans-serif\" font-size=\"12\" font-style=\"italic\" lengthAdjust=\"spacingAndGlyphs\" textLength=\"206\" x=\"653\" y=\"116.1387\">«individual timeslice occurrence»</text><text fill=\"#000000\" font-family=\"sans-serif\" font-size=\"12\" lengthAdjust=\"spacingAndGlyphs\" textLength=\"13\" x=\"749.5\" y=\"130.1074\">t3</text></a></g><g id=\"E1.E7\"><a href=\"psysml:e6d8c0e1-46dd-40c0-98f9-8ea23118f8bb\" target=\"_top\" title=\"psysml:e6d8c0e1-46dd-40c0-98f9-8ea23118f8bb\" xlink:actuate=\"onRequest\" xlink:href=\"psysml:e6d8c0e1-46dd-40c0-98f9-8ea23118f8bb\" xlink:show=\"new\" xlink:title=\"psysml:e6d8c0e1-46dd-40c0-98f9-8ea23118f8bb\" xlink:type=\"simple\"><rect fill=\"#FFFFFF\" height=\"42.9375\" id=\"E7\" rx=\"10\" ry=\"10\" style=\"stroke: #383838; stroke-width: 1.5;\" width=\"217\" x=\"32.5\" y=\"100\"/><rect fill=\"#F8F8F8\" height=\"37.9375\" rx=\"10\" ry=\"10\" style=\"stroke: #F8F8F8; stroke-width: 1.5;\" width=\"217\" x=\"32.5\" y=\"100\"/><rect fill=\"#F8F8F8\" height=\"10\" style=\"stroke: #F8F8F8; stroke-width: 1.5;\" width=\"217\" x=\"32.5\" y=\"127.9375\"/><rect fill=\"none\" height=\"42.9375\" id=\"E7\" rx=\"10\" ry=\"10\" style=\"stroke: #383838; stroke-width: 1.5;\" width=\"217\" x=\"32.5\" y=\"100\"/><text fill=\"#000000\" font-family=\"sans-serif\" font-size=\"12\" font-style=\"italic\" lengthAdjust=\"spacingAndGlyphs\" textLength=\"210\" x=\"36\" y=\"116.1387\">«individual snapshot occurrence»</text><text fill=\"#000000\" font-family=\"sans-serif\" font-size=\"12\" lengthAdjust=\"spacingAndGlyphs\" textLength=\"42\" x=\"120\" y=\"130.1074\">s4: Ind</text></a></g><!--MD5=[d39b3238ed1923fc3debac962a5a3002]\n",
       "@startuml\r\n",
       "skinparam ranksep 10\r\n",
       "skinparam rectangle {\r\n",
       " backgroundColor<<block>> LightGreen\r\n",
       "}\r\n",
       "skinparam linetype ortho\r\n",
       "skinparam monochrome true\r\n",
       "skinparam classbackgroundcolor white\r\n",
       "skinparam shadowing false\r\n",
       "skinparam wrapWidth 300\r\n",
       "hide circle\r\n",
       "\r\n",
       "package \"OccurrenceTest\" as E1  [[psysml:e6ab502d-dafd-416a-a255-3fa3ad3c263c ]]  {\r\n",
       "def \"Occ\" as E2  <<(T,blue) occurrence def>> [[psysml:1203d309-d98c-452c-84ab-9db93e8b8d83 ]] \r\n",
       "def \"Ind\" as E3  <<(T,blue) individual occurrence def>> [[psysml:cddcce1d-840d-4259-9672-1cad32ef9616 ]] \r\n",
       "rec usage \"ind: Ind, Occ\" as E4  <<(T,blue) individual occurrence>> [[psysml:ca3e4eae-d888-4010-bdf5-da81d89d1eab ]] {\r\n",
       "rec usage \"s3\" as E5  <<(T,blue) snapshot occurrence>> [[psysml:a7aa12fc-e204-4f0a-90f2-9ab0101a123a ]] {\r\n",
       "}\r\n",
       "rec usage \"t3\" as E6  <<(T,blue) individual timeslice occurrence>> [[psysml:5052c3e9-886b-4521-8bf3-18ad9cb470c5 ]] {\r\n",
       "}\r\n",
       "}\r\n",
       "rec usage \"s4: Ind\" as E7  <<(T,blue) individual snapshot occurrence>> [[psysml:e6d8c0e1-46dd-40c0-98f9-8ea23118f8bb ]] {\r\n",
       "}\r\n",
       "}\r\n",
       "@enduml\r\n",
       "\n",
       "PlantUML version 1.2020.13(Sat Jun 13 12:26:38 UTC 2020)\n",
       "(EPL source distribution)\n",
       "Java Runtime: OpenJDK Runtime Environment\n",
       "JVM: OpenJDK 64-Bit Server VM\n",
       "Default Encoding: UTF-8\n",
       "Language: en\n",
       "Country: null\n",
       "--></g></svg>"
      ]
     },
     "execution_count": 54,
     "metadata": {},
     "output_type": "execute_result"
    }
   ],
   "source": [
    "%viz --style=\"ORTHOLINE\" --view=\"Interconnection\" \"OccurrenceTest\""
   ]
  },
  {
   "cell_type": "code",
   "execution_count": 55,
   "id": "36bd7d66",
   "metadata": {
    "execution": {
     "iopub.execute_input": "2021-10-03T08:28:46.546117Z",
     "iopub.status.busy": "2021-10-03T08:28:46.545723Z",
     "iopub.status.idle": "2021-10-03T08:28:46.550283Z",
     "shell.execute_reply": "2021-10-03T08:28:46.549936Z"
    }
   },
   "outputs": [
    {
     "data": {
      "image/svg+xml": [
       "<?xml version=\"1.0\" encoding=\"UTF-8\" standalone=\"no\"?><svg xmlns=\"http://www.w3.org/2000/svg\" xmlns:xlink=\"http://www.w3.org/1999/xlink\" contentScriptType=\"application/ecmascript\" contentStyleType=\"text/css\" height=\"12px\" preserveAspectRatio=\"none\" style=\"width:12px;height:12px;\" version=\"1.1\" viewBox=\"0 0 12 12\" width=\"12px\" zoomAndPan=\"magnify\"><defs/><g><!--MD5=[72934c63077099a26744516a776b4749]\n",
       "@startuml\r\n",
       "skinparam ranksep 8\r\n",
       "skinparam linetype ortho\r\n",
       "skinparam monochrome true\r\n",
       "skinparam classbackgroundcolor white\r\n",
       "skinparam shadowing false\r\n",
       "skinparam wrapWidth 300\r\n",
       "hide circle\r\n",
       "\r\n",
       "@enduml\r\n",
       "\n",
       "PlantUML version 1.2020.13(Sat Jun 13 12:26:38 UTC 2020)\n",
       "(EPL source distribution)\n",
       "Java Runtime: OpenJDK Runtime Environment\n",
       "JVM: OpenJDK 64-Bit Server VM\n",
       "Default Encoding: UTF-8\n",
       "Language: en\n",
       "Country: null\n",
       "--></g></svg>"
      ]
     },
     "execution_count": 55,
     "metadata": {},
     "output_type": "execute_result"
    }
   ],
   "source": [
    "%viz --style=\"ORTHOLINE\" --view=\"Action\" \"OccurrenceTest\""
   ]
  },
  {
   "cell_type": "code",
   "execution_count": 56,
   "id": "f9e445eb",
   "metadata": {
    "execution": {
     "iopub.execute_input": "2021-10-03T08:28:46.599646Z",
     "iopub.status.busy": "2021-10-03T08:28:46.599246Z",
     "iopub.status.idle": "2021-10-03T08:28:46.603977Z",
     "shell.execute_reply": "2021-10-03T08:28:46.603621Z"
    }
   },
   "outputs": [
    {
     "data": {
      "image/svg+xml": [
       "<?xml version=\"1.0\" encoding=\"UTF-8\" standalone=\"no\"?><svg xmlns=\"http://www.w3.org/2000/svg\" xmlns:xlink=\"http://www.w3.org/1999/xlink\" contentScriptType=\"application/ecmascript\" contentStyleType=\"text/css\" height=\"12px\" preserveAspectRatio=\"none\" style=\"width:12px;height:12px;\" version=\"1.1\" viewBox=\"0 0 12 12\" width=\"12px\" zoomAndPan=\"magnify\"><defs/><g><!--MD5=[30fc1de5121c5abddedd55b44417fde8]\n",
       "@startuml\r\n",
       "skinparam roundcorner 20\r\n",
       "skinparam BoxPadding 20\r\n",
       "skinparam SequenceBoxBackgroundColor #white\r\n",
       "skinparam style strictuml\r\n",
       "skinparam maxMessageSize 100\r\n",
       "skinparam linetype ortho\r\n",
       "skinparam monochrome true\r\n",
       "skinparam classbackgroundcolor white\r\n",
       "skinparam shadowing false\r\n",
       "skinparam wrapWidth 300\r\n",
       "hide circle\r\n",
       "\r\n",
       "@enduml\r\n",
       "\n",
       "PlantUML version 1.2020.13(Sat Jun 13 12:26:38 UTC 2020)\n",
       "(EPL source distribution)\n",
       "Java Runtime: OpenJDK Runtime Environment\n",
       "JVM: OpenJDK 64-Bit Server VM\n",
       "Default Encoding: UTF-8\n",
       "Language: en\n",
       "Country: null\n",
       "--></g></svg>"
      ]
     },
     "execution_count": 56,
     "metadata": {},
     "output_type": "execute_result"
    }
   ],
   "source": [
    "%viz --style=\"ORTHOLINE\" --view=\"Sequence\" \"OccurrenceTest\""
   ]
  },
  {
   "cell_type": "code",
   "execution_count": 57,
   "id": "3dea654f",
   "metadata": {
    "execution": {
     "iopub.execute_input": "2021-10-03T08:28:46.653256Z",
     "iopub.status.busy": "2021-10-03T08:28:46.652861Z",
     "iopub.status.idle": "2021-10-03T08:28:46.703963Z",
     "shell.execute_reply": "2021-10-03T08:28:46.703606Z"
    }
   },
   "outputs": [
    {
     "data": {
      "image/svg+xml": [
       "<?xml version=\"1.0\" encoding=\"UTF-8\" standalone=\"no\"?><svg xmlns=\"http://www.w3.org/2000/svg\" xmlns:xlink=\"http://www.w3.org/1999/xlink\" contentScriptType=\"application/ecmascript\" contentStyleType=\"text/css\" height=\"569px\" preserveAspectRatio=\"none\" style=\"width:992px;height:569px;\" version=\"1.1\" viewBox=\"0 0 992 569\" width=\"992px\" zoomAndPan=\"magnify\"><defs/><g><!--MD5=[fbc87193dbaf4d95561dea2c320d4a47]\n",
       "cluster E1--><a href=\"psysml:e6ab502d-dafd-416a-a255-3fa3ad3c263c\" target=\"_top\" title=\"psysml:e6ab502d-dafd-416a-a255-3fa3ad3c263c\" xlink:actuate=\"onRequest\" xlink:href=\"psysml:e6ab502d-dafd-416a-a255-3fa3ad3c263c\" xlink:show=\"new\" xlink:title=\"psysml:e6ab502d-dafd-416a-a255-3fa3ad3c263c\" xlink:type=\"simple\"><polygon fill=\"#FFFFFF\" points=\"16,6,134,6,141,28.2969,970,28.2969,970,557,16,557,16,6\" style=\"stroke: #000000; stroke-width: 1.5;\"/><line style=\"stroke: #000000; stroke-width: 1.5;\" x1=\"16\" x2=\"141\" y1=\"28.2969\" y2=\"28.2969\"/><text fill=\"#000000\" font-family=\"sans-serif\" font-size=\"14\" font-weight=\"bold\" lengthAdjust=\"spacingAndGlyphs\" textLength=\"112\" x=\"20\" y=\"20.9951\">OccurrenceTest</text></a><!--MD5=[b4997ac47864f28c2f74865a473b2911]\n",
       "class E2--><a href=\"psysml:1203d309-d98c-452c-84ab-9db93e8b8d83\" target=\"_top\" title=\"psysml:1203d309-d98c-452c-84ab-9db93e8b8d83\" xlink:actuate=\"onRequest\" xlink:href=\"psysml:1203d309-d98c-452c-84ab-9db93e8b8d83\" xlink:show=\"new\" xlink:title=\"psysml:1203d309-d98c-452c-84ab-9db93e8b8d83\" xlink:type=\"simple\"><rect fill=\"#FFFFFF\" height=\"75.5469\" id=\"E2\" style=\"stroke: #383838; stroke-width: 1.5;\" width=\"111\" x=\"377.5\" y=\"147\"/><text fill=\"#000000\" font-family=\"sans-serif\" font-size=\"12\" font-style=\"italic\" lengthAdjust=\"spacingAndGlyphs\" textLength=\"109\" x=\"378.5\" y=\"163.1387\">«occurrence def»</text><text fill=\"#000000\" font-family=\"sans-serif\" font-size=\"12\" lengthAdjust=\"spacingAndGlyphs\" textLength=\"23\" x=\"421.5\" y=\"177.1074\">Occ</text><line style=\"stroke: #383838; stroke-width: 1.5;\" x1=\"378.5\" x2=\"487.5\" y1=\"184.9375\" y2=\"184.9375\"/><text fill=\"#000000\" font-family=\"sans-serif\" font-size=\"11\" lengthAdjust=\"spacingAndGlyphs\" textLength=\"7\" x=\"383.5\" y=\"215.9526\">a</text><line style=\"stroke: #383838; stroke-width: 1.0;\" x1=\"378.5\" x2=\"405.5\" y1=\"199.3398\" y2=\"199.3398\"/><text fill=\"#000000\" font-family=\"sans-serif\" font-size=\"11\" lengthAdjust=\"spacingAndGlyphs\" textLength=\"55\" x=\"405.5\" y=\"202.6479\">attributes</text><line style=\"stroke: #383838; stroke-width: 1.0;\" x1=\"460.5\" x2=\"487.5\" y1=\"199.3398\" y2=\"199.3398\"/></a><!--MD5=[09b614a08d8cba4a07c9adeb5e0fee81]\n",
       "class E3--><a href=\"psysml:158a345e-3640-4aa1-8638-58b6699698f0\" target=\"_top\" title=\"psysml:158a345e-3640-4aa1-8638-58b6699698f0\" xlink:actuate=\"onRequest\" xlink:href=\"psysml:158a345e-3640-4aa1-8638-58b6699698f0\" xlink:show=\"new\" xlink:title=\"psysml:158a345e-3640-4aa1-8638-58b6699698f0\" xlink:type=\"simple\"><rect fill=\"#FFFFFF\" height=\"45.9375\" id=\"E3\" rx=\"10\" ry=\"10\" style=\"stroke: #383838; stroke-width: 1.5;\" width=\"87\" x=\"279.5\" y=\"283\"/><text fill=\"#000000\" font-family=\"sans-serif\" font-size=\"12\" font-style=\"italic\" lengthAdjust=\"spacingAndGlyphs\" textLength=\"85\" x=\"280.5\" y=\"299.1387\">«occurrence»</text><text fill=\"#000000\" font-family=\"sans-serif\" font-size=\"12\" lengthAdjust=\"spacingAndGlyphs\" textLength=\"61\" x=\"292.5\" y=\"313.1074\">occ1: Occ</text><line style=\"stroke: #383838; stroke-width: 1.5;\" x1=\"280.5\" x2=\"365.5\" y1=\"320.9375\" y2=\"320.9375\"/></a><!--MD5=[ebbe1d658d1005bcc118a6aa81145e00]\n",
       "class E4--><a href=\"psysml:5ccc27c3-07b1-4713-880e-82008912fb62\" target=\"_top\" title=\"psysml:5ccc27c3-07b1-4713-880e-82008912fb62\" xlink:actuate=\"onRequest\" xlink:href=\"psysml:5ccc27c3-07b1-4713-880e-82008912fb62\" xlink:show=\"new\" xlink:title=\"psysml:5ccc27c3-07b1-4713-880e-82008912fb62\" xlink:type=\"simple\"><rect fill=\"#FFFFFF\" height=\"45.9375\" id=\"E4\" rx=\"10\" ry=\"10\" style=\"stroke: #383838; stroke-width: 1.5;\" width=\"87\" x=\"401.5\" y=\"283\"/><text fill=\"#000000\" font-family=\"sans-serif\" font-size=\"12\" font-style=\"italic\" lengthAdjust=\"spacingAndGlyphs\" textLength=\"85\" x=\"402.5\" y=\"299.1387\">«occurrence»</text><text fill=\"#000000\" font-family=\"sans-serif\" font-size=\"12\" lengthAdjust=\"spacingAndGlyphs\" textLength=\"61\" x=\"414.5\" y=\"313.1074\">occ2: Occ</text><line style=\"stroke: #383838; stroke-width: 1.5;\" x1=\"402.5\" x2=\"487.5\" y1=\"320.9375\" y2=\"320.9375\"/></a><!--MD5=[270fce915f116d4de14055a7c1d9a0f3]\n",
       "class E5--><a href=\"psysml:b931cfcd-d1f5-4c70-b44c-3b4fd21c9018\" target=\"_top\" title=\"psysml:b931cfcd-d1f5-4c70-b44c-3b4fd21c9018\" xlink:actuate=\"onRequest\" xlink:href=\"psysml:b931cfcd-d1f5-4c70-b44c-3b4fd21c9018\" xlink:show=\"new\" xlink:title=\"psysml:b931cfcd-d1f5-4c70-b44c-3b4fd21c9018\" xlink:type=\"simple\"><rect fill=\"#FFFFFF\" height=\"45.9375\" id=\"E5\" rx=\"10\" ry=\"10\" style=\"stroke: #383838; stroke-width: 1.5;\" width=\"212\" x=\"524\" y=\"283\"/><text fill=\"#000000\" font-family=\"sans-serif\" font-size=\"12\" font-style=\"italic\" lengthAdjust=\"spacingAndGlyphs\" textLength=\"210\" x=\"525\" y=\"299.1387\">«individual snapshot occurrence»</text><text fill=\"#000000\" font-family=\"sans-serif\" font-size=\"12\" lengthAdjust=\"spacingAndGlyphs\" textLength=\"34\" x=\"613\" y=\"313.1074\">s: Ind</text><line style=\"stroke: #383838; stroke-width: 1.5;\" x1=\"525\" x2=\"735\" y1=\"320.9375\" y2=\"320.9375\"/></a><!--MD5=[60a26617385b1d2d0262a64233df1f8d]\n",
       "class E6--><a href=\"psysml:a76dffb5-cb4a-4142-b15c-9dbeb6bd2474\" target=\"_top\" title=\"psysml:a76dffb5-cb4a-4142-b15c-9dbeb6bd2474\" xlink:actuate=\"onRequest\" xlink:href=\"psysml:a76dffb5-cb4a-4142-b15c-9dbeb6bd2474\" xlink:show=\"new\" xlink:title=\"psysml:a76dffb5-cb4a-4142-b15c-9dbeb6bd2474\" xlink:type=\"simple\"><rect fill=\"#FFFFFF\" height=\"45.9375\" id=\"E6\" rx=\"10\" ry=\"10\" style=\"stroke: #383838; stroke-width: 1.5;\" width=\"146\" x=\"771\" y=\"283\"/><text fill=\"#000000\" font-family=\"sans-serif\" font-size=\"12\" font-style=\"italic\" lengthAdjust=\"spacingAndGlyphs\" textLength=\"144\" x=\"772\" y=\"299.1387\">«timeslice occurrence»</text><text fill=\"#000000\" font-family=\"sans-serif\" font-size=\"12\" lengthAdjust=\"spacingAndGlyphs\" textLength=\"5\" x=\"841.5\" y=\"313.1074\">t</text><line style=\"stroke: #383838; stroke-width: 1.5;\" x1=\"772\" x2=\"916\" y1=\"320.9375\" y2=\"320.9375\"/></a><!--MD5=[2156ba9850f5573cc1fc38a6a4b2f02b]\n",
       "class E7--><a href=\"psysml:cddcce1d-840d-4259-9672-1cad32ef9616\" target=\"_top\" title=\"psysml:cddcce1d-840d-4259-9672-1cad32ef9616\" xlink:actuate=\"onRequest\" xlink:href=\"psysml:cddcce1d-840d-4259-9672-1cad32ef9616\" xlink:show=\"new\" xlink:title=\"psysml:cddcce1d-840d-4259-9672-1cad32ef9616\" xlink:type=\"simple\"><rect fill=\"#FFFFFF\" height=\"45.9375\" id=\"E7\" style=\"stroke: #383838; stroke-width: 1.5;\" width=\"173\" x=\"543.5\" y=\"389\"/><text fill=\"#000000\" font-family=\"sans-serif\" font-size=\"12\" font-style=\"italic\" lengthAdjust=\"spacingAndGlyphs\" textLength=\"171\" x=\"544.5\" y=\"405.1387\">«individual occurrence def»</text><text fill=\"#000000\" font-family=\"sans-serif\" font-size=\"12\" lengthAdjust=\"spacingAndGlyphs\" textLength=\"19\" x=\"620.5\" y=\"419.1074\">Ind</text><line style=\"stroke: #383838; stroke-width: 1.5;\" x1=\"544.5\" x2=\"715.5\" y1=\"426.9375\" y2=\"426.9375\"/></a><!--MD5=[b9389687b975829384b498ac4b7476b2]\n",
       "class E8--><a href=\"psysml:760118bf-f26e-45fa-9528-0dbdf12ed33d\" target=\"_top\" title=\"psysml:760118bf-f26e-45fa-9528-0dbdf12ed33d\" xlink:actuate=\"onRequest\" xlink:href=\"psysml:760118bf-f26e-45fa-9528-0dbdf12ed33d\" xlink:show=\"new\" xlink:title=\"psysml:760118bf-f26e-45fa-9528-0dbdf12ed33d\" xlink:type=\"simple\"><rect fill=\"#FFFFFF\" height=\"45.9375\" id=\"E8\" rx=\"10\" ry=\"10\" style=\"stroke: #383838; stroke-width: 1.5;\" width=\"150\" x=\"463\" y=\"495\"/><text fill=\"#000000\" font-family=\"sans-serif\" font-size=\"12\" font-style=\"italic\" lengthAdjust=\"spacingAndGlyphs\" textLength=\"148\" x=\"464\" y=\"511.1387\">«snapshot occurrence»</text><text fill=\"#000000\" font-family=\"sans-serif\" font-size=\"12\" lengthAdjust=\"spacingAndGlyphs\" textLength=\"15\" x=\"530.5\" y=\"525.1074\">s2</text><line style=\"stroke: #383838; stroke-width: 1.5;\" x1=\"464\" x2=\"612\" y1=\"532.9375\" y2=\"532.9375\"/></a><!--MD5=[fd4143e9d270a159db93a4ea2a975926]\n",
       "class E9--><a href=\"psysml:6916c4a6-d3e9-4718-9bd3-b4da3843528f\" target=\"_top\" title=\"psysml:6916c4a6-d3e9-4718-9bd3-b4da3843528f\" xlink:actuate=\"onRequest\" xlink:href=\"psysml:6916c4a6-d3e9-4718-9bd3-b4da3843528f\" xlink:show=\"new\" xlink:title=\"psysml:6916c4a6-d3e9-4718-9bd3-b4da3843528f\" xlink:type=\"simple\"><rect fill=\"#FFFFFF\" height=\"45.9375\" id=\"E9\" rx=\"10\" ry=\"10\" style=\"stroke: #383838; stroke-width: 1.5;\" width=\"146\" x=\"648\" y=\"495\"/><text fill=\"#000000\" font-family=\"sans-serif\" font-size=\"12\" font-style=\"italic\" lengthAdjust=\"spacingAndGlyphs\" textLength=\"144\" x=\"649\" y=\"511.1387\">«timeslice occurrence»</text><text fill=\"#000000\" font-family=\"sans-serif\" font-size=\"12\" lengthAdjust=\"spacingAndGlyphs\" textLength=\"13\" x=\"714.5\" y=\"525.1074\">t2</text><line style=\"stroke: #383838; stroke-width: 1.5;\" x1=\"649\" x2=\"793\" y1=\"532.9375\" y2=\"532.9375\"/></a><!--MD5=[96f4274e9e20536e775497830990834d]\n",
       "class E10--><a href=\"psysml:ca3e4eae-d888-4010-bdf5-da81d89d1eab\" target=\"_top\" title=\"psysml:ca3e4eae-d888-4010-bdf5-da81d89d1eab\" xlink:actuate=\"onRequest\" xlink:href=\"psysml:ca3e4eae-d888-4010-bdf5-da81d89d1eab\" xlink:show=\"new\" xlink:title=\"psysml:ca3e4eae-d888-4010-bdf5-da81d89d1eab\" xlink:type=\"simple\"><rect fill=\"#FFFFFF\" height=\"45.9375\" id=\"E10\" rx=\"10\" ry=\"10\" style=\"stroke: #383838; stroke-width: 1.5;\" width=\"149\" x=\"505.5\" y=\"41\"/><text fill=\"#000000\" font-family=\"sans-serif\" font-size=\"12\" font-style=\"italic\" lengthAdjust=\"spacingAndGlyphs\" textLength=\"147\" x=\"506.5\" y=\"57.1387\">«individual occurrence»</text><text fill=\"#000000\" font-family=\"sans-serif\" font-size=\"12\" lengthAdjust=\"spacingAndGlyphs\" textLength=\"77\" x=\"541.5\" y=\"71.1074\">ind: Ind, Occ</text><line style=\"stroke: #383838; stroke-width: 1.5;\" x1=\"506.5\" x2=\"653.5\" y1=\"78.9375\" y2=\"78.9375\"/></a><!--MD5=[1dd1bfd58a279cf63c5f349dbc8fc6a1]\n",
       "class E11--><a href=\"psysml:a7aa12fc-e204-4f0a-90f2-9ab0101a123a\" target=\"_top\" title=\"psysml:a7aa12fc-e204-4f0a-90f2-9ab0101a123a\" xlink:actuate=\"onRequest\" xlink:href=\"psysml:a7aa12fc-e204-4f0a-90f2-9ab0101a123a\" xlink:show=\"new\" xlink:title=\"psysml:a7aa12fc-e204-4f0a-90f2-9ab0101a123a\" xlink:type=\"simple\"><rect fill=\"#FFFFFF\" height=\"45.9375\" id=\"E11\" rx=\"10\" ry=\"10\" style=\"stroke: #383838; stroke-width: 1.5;\" width=\"150\" x=\"561\" y=\"162\"/><text fill=\"#000000\" font-family=\"sans-serif\" font-size=\"12\" font-style=\"italic\" lengthAdjust=\"spacingAndGlyphs\" textLength=\"148\" x=\"562\" y=\"178.1387\">«snapshot occurrence»</text><text fill=\"#000000\" font-family=\"sans-serif\" font-size=\"12\" lengthAdjust=\"spacingAndGlyphs\" textLength=\"15\" x=\"628.5\" y=\"192.1074\">s3</text><line style=\"stroke: #383838; stroke-width: 1.5;\" x1=\"562\" x2=\"710\" y1=\"199.9375\" y2=\"199.9375\"/></a><!--MD5=[49a0ec8f00dab7302a31f22d0f0fe584]\n",
       "class E12--><a href=\"psysml:5052c3e9-886b-4521-8bf3-18ad9cb470c5\" target=\"_top\" title=\"psysml:5052c3e9-886b-4521-8bf3-18ad9cb470c5\" xlink:actuate=\"onRequest\" xlink:href=\"psysml:5052c3e9-886b-4521-8bf3-18ad9cb470c5\" xlink:show=\"new\" xlink:title=\"psysml:5052c3e9-886b-4521-8bf3-18ad9cb470c5\" xlink:type=\"simple\"><rect fill=\"#FFFFFF\" height=\"45.9375\" id=\"E12\" rx=\"10\" ry=\"10\" style=\"stroke: #383838; stroke-width: 1.5;\" width=\"208\" x=\"746\" y=\"162\"/><text fill=\"#000000\" font-family=\"sans-serif\" font-size=\"12\" font-style=\"italic\" lengthAdjust=\"spacingAndGlyphs\" textLength=\"206\" x=\"747\" y=\"178.1387\">«individual timeslice occurrence»</text><text fill=\"#000000\" font-family=\"sans-serif\" font-size=\"12\" lengthAdjust=\"spacingAndGlyphs\" textLength=\"13\" x=\"843.5\" y=\"192.1074\">t3</text><line style=\"stroke: #383838; stroke-width: 1.5;\" x1=\"747\" x2=\"953\" y1=\"199.9375\" y2=\"199.9375\"/></a><!--MD5=[ee3c913d1a06f366521f9ef512b67efe]\n",
       "class E13--><a href=\"psysml:e6d8c0e1-46dd-40c0-98f9-8ea23118f8bb\" target=\"_top\" title=\"psysml:e6d8c0e1-46dd-40c0-98f9-8ea23118f8bb\" xlink:actuate=\"onRequest\" xlink:href=\"psysml:e6d8c0e1-46dd-40c0-98f9-8ea23118f8bb\" xlink:show=\"new\" xlink:title=\"psysml:e6d8c0e1-46dd-40c0-98f9-8ea23118f8bb\" xlink:type=\"simple\"><rect fill=\"#FFFFFF\" height=\"45.9375\" id=\"E13\" rx=\"10\" ry=\"10\" style=\"stroke: #383838; stroke-width: 1.5;\" width=\"212\" x=\"32\" y=\"283\"/><text fill=\"#000000\" font-family=\"sans-serif\" font-size=\"12\" font-style=\"italic\" lengthAdjust=\"spacingAndGlyphs\" textLength=\"210\" x=\"33\" y=\"299.1387\">«individual snapshot occurrence»</text><text fill=\"#000000\" font-family=\"sans-serif\" font-size=\"12\" lengthAdjust=\"spacingAndGlyphs\" textLength=\"42\" x=\"117\" y=\"313.1074\">s4: Ind</text><line style=\"stroke: #383838; stroke-width: 1.5;\" x1=\"33\" x2=\"243\" y1=\"320.9375\" y2=\"320.9375\"/></a><!--MD5=[209b3feb70ccb6233bfe1053d122c12c]\n",
       "reverse link E2 to E3--><a href=\"psysml:816d5179-2674-4631-83bc-f7d71b4237a7\" target=\"_top\" title=\"psysml:816d5179-2674-4631-83bc-f7d71b4237a7\" xlink:actuate=\"onRequest\" xlink:href=\"psysml:816d5179-2674-4631-83bc-f7d71b4237a7\" xlink:show=\"new\" xlink:title=\"psysml:816d5179-2674-4631-83bc-f7d71b4237a7\" xlink:type=\"simple\"><path d=\"M385.5,236.28 C385.5,236.28 385.5,299 385.5,299 C385.5,299 377.25,299 366.75,299 \" fill=\"none\" id=\"E2&lt;-E3\" style=\"stroke: #383838; stroke-width: 1.0;\"/><polygon fill=\"#FFFFFF\" points=\"385.5,223.28,381.5,229.28,385.5,235.28,389.5,229.28,385.5,223.28\" style=\"stroke: #383838; stroke-width: 1.0;\"/></a><!--MD5=[05d275557350bfb9b23a4ef7222b4c39]\n",
       "link E3 to E2--><a href=\"psysml:eb3070f5-b0ea-4331-ac23-68f76765f53a\" target=\"_top\" title=\"psysml:eb3070f5-b0ea-4331-ac23-68f76765f53a\" xlink:actuate=\"onRequest\" xlink:href=\"psysml:eb3070f5-b0ea-4331-ac23-68f76765f53a\" xlink:show=\"new\" xlink:title=\"psysml:eb3070f5-b0ea-4331-ac23-68f76765f53a\" xlink:type=\"simple\"><path d=\"M366.85,314 C381.18,314 393.5,314 393.5,314 C393.5,314 393.5,243.01 393.5,243.01 \" fill=\"none\" id=\"E3-&gt;E2\" style=\"stroke: #383838; stroke-width: 1.0;\"/><polygon fill=\"#FFFFFF\" points=\"393.5,223.01,400.5,242.01,386.5,242.01,393.5,223.01\" style=\"stroke: #383838; stroke-width: 1.0;\"/><ellipse cx=\"398.5\" cy=\"247.71\" fill=\"#383838\" rx=\"2\" ry=\"2\" style=\"stroke: #383838; stroke-width: 1.0;\"/><ellipse cx=\"388.5\" cy=\"247.71\" fill=\"#383838\" rx=\"2\" ry=\"2\" style=\"stroke: #383838; stroke-width: 1.0;\"/></a><!--MD5=[9618e71518536f8baf3342ff6fdab317]\n",
       "reverse link E2 to E4--><a href=\"psysml:0447f336-2e88-4877-9a74-bac22478a75a\" target=\"_top\" title=\"psysml:0447f336-2e88-4877-9a74-bac22478a75a\" xlink:actuate=\"onRequest\" xlink:href=\"psysml:0447f336-2e88-4877-9a74-bac22478a75a\" xlink:show=\"new\" xlink:title=\"psysml:0447f336-2e88-4877-9a74-bac22478a75a\" xlink:type=\"simple\"><path d=\"M430.5,236.29 C430.5,236.29 430.5,282.74 430.5,282.74 \" fill=\"none\" id=\"E2&lt;-E4\" style=\"stroke: #383838; stroke-width: 1.0;\"/><polygon fill=\"#383838\" points=\"430.5,223.29,426.5,229.29,430.5,235.29,434.5,229.29,430.5,223.29\" style=\"stroke: #383838; stroke-width: 1.0;\"/></a><!--MD5=[185131fc0dcab0a4505a2ebe144e961b]\n",
       "link E4 to E2--><a href=\"psysml:bbe7f0c0-75f0-4d42-b38b-c0f55f25890a\" target=\"_top\" title=\"psysml:bbe7f0c0-75f0-4d42-b38b-c0f55f25890a\" xlink:actuate=\"onRequest\" xlink:href=\"psysml:bbe7f0c0-75f0-4d42-b38b-c0f55f25890a\" xlink:show=\"new\" xlink:title=\"psysml:bbe7f0c0-75f0-4d42-b38b-c0f55f25890a\" xlink:type=\"simple\"><path d=\"M459.5,282.96 C459.5,282.96 459.5,243.19 459.5,243.19 \" fill=\"none\" id=\"E4-&gt;E2\" style=\"stroke: #383838; stroke-width: 1.0;\"/><polygon fill=\"#FFFFFF\" points=\"459.5,223.19,466.5,242.19,452.5,242.19,459.5,223.19\" style=\"stroke: #383838; stroke-width: 1.0;\"/><ellipse cx=\"464.5\" cy=\"247.89\" fill=\"#383838\" rx=\"2\" ry=\"2\" style=\"stroke: #383838; stroke-width: 1.0;\"/><ellipse cx=\"454.5\" cy=\"247.89\" fill=\"#383838\" rx=\"2\" ry=\"2\" style=\"stroke: #383838; stroke-width: 1.0;\"/></a><!--MD5=[4e1a83fab71cdb913c109063314ae896]\n",
       "reverse link E2 to E5--><a href=\"psysml:5c44c5f5-a434-4c27-9e5d-4b118f9f4fa1\" target=\"_top\" title=\"psysml:5c44c5f5-a434-4c27-9e5d-4b118f9f4fa1\" xlink:actuate=\"onRequest\" xlink:href=\"psysml:5c44c5f5-a434-4c27-9e5d-4b118f9f4fa1\" xlink:show=\"new\" xlink:title=\"psysml:5c44c5f5-a434-4c27-9e5d-4b118f9f4fa1\" xlink:type=\"simple\"><path d=\"M501.71,218 C501.71,218 542.5,218 542.5,218 C542.5,218 542.5,256.81 542.5,282.88 \" fill=\"none\" id=\"E2&lt;-E5\" style=\"stroke: #383838; stroke-width: 1.0;\"/><polygon fill=\"#383838\" points=\"488.71,218,494.71,222,500.71,218,494.71,214,488.71,218\" style=\"stroke: #383838; stroke-width: 1.0;\"/></a><!--MD5=[ce036f65110ae2351ccce5a81dc2e928]\n",
       "reverse link E2 to E6--><a href=\"psysml:f84da050-0b5f-49f5-998e-9b704fc66ebc\" target=\"_top\" title=\"psysml:f84da050-0b5f-49f5-998e-9b704fc66ebc\" xlink:actuate=\"onRequest\" xlink:href=\"psysml:f84da050-0b5f-49f5-998e-9b704fc66ebc\" xlink:show=\"new\" xlink:title=\"psysml:f84da050-0b5f-49f5-998e-9b704fc66ebc\" xlink:type=\"simple\"><path d=\"M501.86,213 C501.86,213 844,213 844,213 C844,213 844,254.98 844,282.53 \" fill=\"none\" id=\"E2&lt;-E6\" style=\"stroke: #383838; stroke-width: 1.0;\"/><polygon fill=\"#383838\" points=\"488.86,213,494.86,217,500.86,213,494.86,209,488.86,213\" style=\"stroke: #383838; stroke-width: 1.0;\"/><text fill=\"#000000\" font-family=\"sans-serif\" font-size=\"13\" lengthAdjust=\"spacingAndGlyphs\" textLength=\"7\" x=\"836.1469\" y=\"272.0718\">*</text></a><!--MD5=[3a9b96bfbf6b6ad89c494e81751bda47]\n",
       "link E5 to E7--><a href=\"psysml:5222325c-bb46-4e39-81f0-12dbae43365a\" target=\"_top\" title=\"psysml:5222325c-bb46-4e39-81f0-12dbae43365a\" xlink:actuate=\"onRequest\" xlink:href=\"psysml:5222325c-bb46-4e39-81f0-12dbae43365a\" xlink:show=\"new\" xlink:title=\"psysml:5222325c-bb46-4e39-81f0-12dbae43365a\" xlink:type=\"simple\"><path d=\"M630,329 C630,329 630,368.68 630,368.68 \" fill=\"none\" id=\"E5-&gt;E7\" style=\"stroke: #383838; stroke-width: 1.0;\"/><polygon fill=\"#FFFFFF\" points=\"630,388.68,623,369.68,637,369.68,630,388.68\" style=\"stroke: #383838; stroke-width: 1.0;\"/><ellipse cx=\"625\" cy=\"363.98\" fill=\"#383838\" rx=\"2\" ry=\"2\" style=\"stroke: #383838; stroke-width: 1.0;\"/><ellipse cx=\"635\" cy=\"363.98\" fill=\"#383838\" rx=\"2\" ry=\"2\" style=\"stroke: #383838; stroke-width: 1.0;\"/></a><!--MD5=[dc164f5e8a733ab456ef1add180e9e34]\n",
       "reverse link E7 to E8--><a href=\"psysml:62bbb331-bb03-464e-9e32-68694608bffc\" target=\"_top\" title=\"psysml:62bbb331-bb03-464e-9e32-68694608bffc\" xlink:actuate=\"onRequest\" xlink:href=\"psysml:62bbb331-bb03-464e-9e32-68694608bffc\" xlink:show=\"new\" xlink:title=\"psysml:62bbb331-bb03-464e-9e32-68694608bffc\" xlink:type=\"simple\"><path d=\"M578.25,448 C578.25,448 578.25,494.68 578.25,494.68 \" fill=\"none\" id=\"E7&lt;-E8\" style=\"stroke: #383838; stroke-width: 1.0;\"/><polygon fill=\"#383838\" points=\"578.25,435,574.25,441,578.25,447,582.25,441,578.25,435\" style=\"stroke: #383838; stroke-width: 1.0;\"/><text fill=\"#000000\" font-family=\"sans-serif\" font-size=\"13\" lengthAdjust=\"spacingAndGlyphs\" textLength=\"7\" x=\"580.6672\" y=\"483.8743\">*</text></a><!--MD5=[e4a10ef82d0e328e31cac39a31e58dda]\n",
       "reverse link E7 to E9--><a href=\"psysml:6940b1aa-8c0f-4381-86aa-7b3e10e8c0d6\" target=\"_top\" title=\"psysml:6940b1aa-8c0f-4381-86aa-7b3e10e8c0d6\" xlink:actuate=\"onRequest\" xlink:href=\"psysml:6940b1aa-8c0f-4381-86aa-7b3e10e8c0d6\" xlink:show=\"new\" xlink:title=\"psysml:6940b1aa-8c0f-4381-86aa-7b3e10e8c0d6\" xlink:type=\"simple\"><path d=\"M682.25,448 C682.25,448 682.25,494.68 682.25,494.68 \" fill=\"none\" id=\"E7&lt;-E9\" style=\"stroke: #383838; stroke-width: 1.0;\"/><polygon fill=\"#383838\" points=\"682.25,435,678.25,441,682.25,447,686.25,441,682.25,435\" style=\"stroke: #383838; stroke-width: 1.0;\"/><text fill=\"#000000\" font-family=\"sans-serif\" font-size=\"13\" lengthAdjust=\"spacingAndGlyphs\" textLength=\"7\" x=\"664.4234\" y=\"483.8743\">*</text></a><!--MD5=[a919e0967d6f3de553dc51b9865a1d6d]\n",
       "link E10 to E7--><a href=\"psysml:2d47db94-d209-4d22-9eae-73bfc16721f5\" target=\"_top\" title=\"psysml:2d47db94-d209-4d22-9eae-73bfc16721f5\" xlink:actuate=\"onRequest\" xlink:href=\"psysml:2d47db94-d209-4d22-9eae-73bfc16721f5\" xlink:show=\"new\" xlink:title=\"psysml:2d47db94-d209-4d22-9eae-73bfc16721f5\" xlink:type=\"simple\"><path d=\"M517.83,87.17 C517.83,163.92 517.83,405 517.83,405 C517.83,405 523.29,405 523.29,405 \" fill=\"none\" id=\"E10-&gt;E7\" style=\"stroke: #383838; stroke-width: 1.0;\"/><polygon fill=\"#FFFFFF\" points=\"543.29,405,524.29,412,524.29,398,543.29,405\" style=\"stroke: #383838; stroke-width: 1.0;\"/><ellipse cx=\"518.59\" cy=\"410\" fill=\"#383838\" rx=\"2\" ry=\"2\" style=\"stroke: #383838; stroke-width: 1.0;\"/><ellipse cx=\"518.59\" cy=\"400\" fill=\"#383838\" rx=\"2\" ry=\"2\" style=\"stroke: #383838; stroke-width: 1.0;\"/></a><!--MD5=[0f36bececdf0dff6e600d6f64214b0f1]\n",
       "link E10 to E2--><a href=\"psysml:6622b004-fc37-43f3-bc42-fdfacc696359\" target=\"_top\" title=\"psysml:6622b004-fc37-43f3-bc42-fdfacc696359\" xlink:actuate=\"onRequest\" xlink:href=\"psysml:6622b004-fc37-43f3-bc42-fdfacc696359\" xlink:show=\"new\" xlink:title=\"psysml:6622b004-fc37-43f3-bc42-fdfacc696359\" xlink:type=\"simple\"><path d=\"M511.67,87.43 C511.67,114.4 511.67,155 511.67,155 C511.67,155 508.91,155 508.91,155 \" fill=\"none\" id=\"E10-&gt;E2\" style=\"stroke: #383838; stroke-width: 1.0;\"/><polygon fill=\"#FFFFFF\" points=\"488.91,155,507.91,148,507.91,162,488.91,155\" style=\"stroke: #383838; stroke-width: 1.0;\"/><ellipse cx=\"513.61\" cy=\"150\" fill=\"#383838\" rx=\"2\" ry=\"2\" style=\"stroke: #383838; stroke-width: 1.0;\"/><ellipse cx=\"513.61\" cy=\"160\" fill=\"#383838\" rx=\"2\" ry=\"2\" style=\"stroke: #383838; stroke-width: 1.0;\"/></a><!--MD5=[de308be4a2431766a05a907a031c07fc]\n",
       "reverse link E10 to E11--><a href=\"psysml:973d09ca-2c85-400b-8a26-6e03e711a9dc\" target=\"_top\" title=\"psysml:973d09ca-2c85-400b-8a26-6e03e711a9dc\" xlink:actuate=\"onRequest\" xlink:href=\"psysml:973d09ca-2c85-400b-8a26-6e03e711a9dc\" xlink:show=\"new\" xlink:title=\"psysml:973d09ca-2c85-400b-8a26-6e03e711a9dc\" xlink:type=\"simple\"><path d=\"M607.75,100.04 C607.75,100.04 607.75,161.63 607.75,161.63 \" fill=\"none\" id=\"E10&lt;-E11\" style=\"stroke: #383838; stroke-width: 1.0;\"/><polygon fill=\"#383838\" points=\"607.75,87.04,603.75,93.04,607.75,99.04,611.75,93.04,607.75,87.04\" style=\"stroke: #383838; stroke-width: 1.0;\"/></a><!--MD5=[1d54f998c6d5961a1a9184be73a7eb6c]\n",
       "reverse link E10 to E12--><a href=\"psysml:4b2dc275-57bf-47aa-bec9-3fe53972a958\" target=\"_top\" title=\"psysml:4b2dc275-57bf-47aa-bec9-3fe53972a958\" xlink:actuate=\"onRequest\" xlink:href=\"psysml:4b2dc275-57bf-47aa-bec9-3fe53972a958\" xlink:show=\"new\" xlink:title=\"psysml:4b2dc275-57bf-47aa-bec9-3fe53972a958\" xlink:type=\"simple\"><path d=\"M667.85,64 C667.85,64 850,64 850,64 C850,64 850,126.85 850,161.96 \" fill=\"none\" id=\"E10&lt;-E12\" style=\"stroke: #383838; stroke-width: 1.0;\"/><polygon fill=\"#383838\" points=\"654.85,64,660.85,68,666.85,64,660.85,60,654.85,64\" style=\"stroke: #383838; stroke-width: 1.0;\"/></a><!--MD5=[4a48077df6499cfcd20b62e8f5f37904]\n",
       "link E13 to E7--><a href=\"psysml:99db2ce7-7db4-4747-aea3-ba596a45b862\" target=\"_top\" title=\"psysml:99db2ce7-7db4-4747-aea3-ba596a45b862\" xlink:actuate=\"onRequest\" xlink:href=\"psysml:99db2ce7-7db4-4747-aea3-ba596a45b862\" xlink:show=\"new\" xlink:title=\"psysml:99db2ce7-7db4-4747-aea3-ba596a45b862\" xlink:type=\"simple\"><path d=\"M138,329.07 C138,362.38 138,420 138,420 C138,420 523.46,420 523.46,420 \" fill=\"none\" id=\"E13-&gt;E7\" style=\"stroke: #383838; stroke-width: 1.0;\"/><polygon fill=\"#FFFFFF\" points=\"543.46,420,524.46,427,524.46,413,543.46,420\" style=\"stroke: #383838; stroke-width: 1.0;\"/><ellipse cx=\"518.76\" cy=\"425\" fill=\"#383838\" rx=\"2\" ry=\"2\" style=\"stroke: #383838; stroke-width: 1.0;\"/><ellipse cx=\"518.76\" cy=\"415\" fill=\"#383838\" rx=\"2\" ry=\"2\" style=\"stroke: #383838; stroke-width: 1.0;\"/></a><!--MD5=[02817a65e7851ae3d62eb07a39623a65]\n",
       "@startuml\r\n",
       "skinparam linetype ortho\r\n",
       "skinparam monochrome true\r\n",
       "skinparam classbackgroundcolor white\r\n",
       "skinparam shadowing false\r\n",
       "skinparam wrapWidth 300\r\n",
       "hide circle\r\n",
       "\r\n",
       "package \"OccurrenceTest\" as E1  [[psysml:e6ab502d-dafd-416a-a255-3fa3ad3c263c ]]  {\r\n",
       "comp def \"Occ\" as E2  <<(T,blue) occurrence def>> [[psysml:1203d309-d98c-452c-84ab-9db93e8b8d83 ]] {\r\n",
       "- - attributes - -\r\n",
       "a\r\n",
       "}\r\n",
       "comp usage \"occ1: Occ\" as E3  <<(T,blue) occurrence>> [[psysml:158a345e-3640-4aa1-8638-58b6699698f0 ]] {\r\n",
       "}\r\n",
       "comp usage \"occ2: Occ\" as E4  <<(T,blue) occurrence>> [[psysml:5ccc27c3-07b1-4713-880e-82008912fb62 ]] {\r\n",
       "}\r\n",
       "comp usage \"s: Ind\" as E5  <<(T,blue) individual snapshot occurrence>> [[psysml:b931cfcd-d1f5-4c70-b44c-3b4fd21c9018 ]] {\r\n",
       "}\r\n",
       "comp usage \"t\" as E6  <<(T,blue) timeslice occurrence>> [[psysml:a76dffb5-cb4a-4142-b15c-9dbeb6bd2474 ]] {\r\n",
       "}\r\n",
       "comp def \"Ind\" as E7  <<(T,blue) individual occurrence def>> [[psysml:cddcce1d-840d-4259-9672-1cad32ef9616 ]] {\r\n",
       "}\r\n",
       "comp usage \"s2\" as E8  <<(T,blue) snapshot occurrence>> [[psysml:760118bf-f26e-45fa-9528-0dbdf12ed33d ]] {\r\n",
       "}\r\n",
       "comp usage \"t2\" as E9  <<(T,blue) timeslice occurrence>> [[psysml:6916c4a6-d3e9-4718-9bd3-b4da3843528f ]] {\r\n",
       "}\r\n",
       "comp usage \"ind: Ind, Occ\" as E10  <<(T,blue) individual occurrence>> [[psysml:ca3e4eae-d888-4010-bdf5-da81d89d1eab ]] {\r\n",
       "}\r\n",
       "comp usage \"s3\" as E11  <<(T,blue) snapshot occurrence>> [[psysml:a7aa12fc-e204-4f0a-90f2-9ab0101a123a ]] {\r\n",
       "}\r\n",
       "comp usage \"t3\" as E12  <<(T,blue) individual timeslice occurrence>> [[psysml:5052c3e9-886b-4521-8bf3-18ad9cb470c5 ]] {\r\n",
       "}\r\n",
       "comp usage \"s4: Ind\" as E13  <<(T,blue) individual snapshot occurrence>> [[psysml:e6d8c0e1-46dd-40c0-98f9-8ea23118f8bb ]] {\r\n",
       "}\r\n",
       "}\r\n",
       "E2 o- - E3 [[psysml:816d5179-2674-4631-83bc-f7d71b4237a7 ]] \r\n",
       "E3 - -:|> E2 [[psysml:eb3070f5-b0ea-4331-ac23-68f76765f53a ]] \r\n",
       "E2 *- - E4 [[psysml:0447f336-2e88-4877-9a74-bac22478a75a ]] \r\n",
       "E4 - -:|> E2 [[psysml:bbe7f0c0-75f0-4d42-b38b-c0f55f25890a ]] \r\n",
       "E2 *- - E5 [[psysml:5c44c5f5-a434-4c27-9e5d-4b118f9f4fa1 ]] \r\n",
       "E2 *- - \"*\"E6 [[psysml:f84da050-0b5f-49f5-998e-9b704fc66ebc ]] \r\n",
       "E5 - -:|> E7 [[psysml:5222325c-bb46-4e39-81f0-12dbae43365a ]] \r\n",
       "E7 *- - \"*\"E8 [[psysml:62bbb331-bb03-464e-9e32-68694608bffc ]] \r\n",
       "E7 *- - \"*\"E9 [[psysml:6940b1aa-8c0f-4381-86aa-7b3e10e8c0d6 ]] \r\n",
       "E10 - -:|> E7 [[psysml:2d47db94-d209-4d22-9eae-73bfc16721f5 ]] \r\n",
       "E10 - -:|> E2 [[psysml:6622b004-fc37-43f3-bc42-fdfacc696359 ]] \r\n",
       "E10 *- - E11 [[psysml:973d09ca-2c85-400b-8a26-6e03e711a9dc ]] \r\n",
       "E10 *- - E12 [[psysml:4b2dc275-57bf-47aa-bec9-3fe53972a958 ]] \r\n",
       "E13 - -:|> E7 [[psysml:99db2ce7-7db4-4747-aea3-ba596a45b862 ]] \r\n",
       "@enduml\r\n",
       "\n",
       "PlantUML version 1.2020.13(Sat Jun 13 12:26:38 UTC 2020)\n",
       "(EPL source distribution)\n",
       "Java Runtime: OpenJDK Runtime Environment\n",
       "JVM: OpenJDK 64-Bit Server VM\n",
       "Default Encoding: UTF-8\n",
       "Language: en\n",
       "Country: null\n",
       "--></g></svg>"
      ]
     },
     "execution_count": 57,
     "metadata": {},
     "output_type": "execute_result"
    }
   ],
   "source": [
    "%viz --style=\"ORTHOLINE\" --view=\"MIXED\" \"OccurrenceTest\""
   ]
  }
 ],
 "metadata": {
  "kernelspec": {
   "display_name": "SysML",
   "language": "sysml",
   "name": "sysml"
  },
  "language_info": {
   "codemirror_mode": "sysml",
   "file_extension": ".sysml",
   "mimetype": "text/x-sysml",
   "name": "SysML",
   "pygments_lexer": "java",
   "version": "1.0.0"
  }
 },
 "nbformat": 4,
 "nbformat_minor": 5
}
