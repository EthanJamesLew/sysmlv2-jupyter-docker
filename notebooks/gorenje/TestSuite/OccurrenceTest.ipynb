{
 "cells": [
  {
   "cell_type": "markdown",
   "id": "511d26df",
   "metadata": {},
   "source": [
    "# SysML v2 Test Suite\n",
    "\n",
    "This can notebook can be cleared using menu `Edit --> Clear All Outputs` and then all cells can be\n",
    "run using menu `Run --> Run All Cells`.\n",
    "\n",
    "**WARNING**: This file is generated, all modifications here will be ignored.\n"
   ]
  },
  {
   "cell_type": "markdown",
   "id": "6b84a1f9",
   "metadata": {},
   "source": [
    "## File: ../../sysml/src/examples/Simple Tests/OccurrenceTest.sysml"
   ]
  },
  {
   "cell_type": "code",
   "execution_count": 1,
   "id": "08d3c05b",
   "metadata": {
    "execution": {
     "iopub.execute_input": "2022-07-23T10:52:29.565885Z",
     "iopub.status.busy": "2022-07-23T10:52:29.564661Z",
     "iopub.status.idle": "2022-07-23T10:52:29.762012Z",
     "shell.execute_reply": "2022-07-23T10:52:29.761586Z"
    }
   },
   "outputs": [
    {
     "data": {
      "text/plain": [
       "Package OccurrenceTest (53f1d42d-2686-4f4b-950f-b84b40bc19b2)\n"
      ]
     },
     "execution_count": 1,
     "metadata": {},
     "output_type": "execute_result"
    }
   ],
   "source": [
    "package OccurrenceTest {\n",
    "\toccurrence def Occ {\n",
    "\t\tattribute a;\n",
    "\t\tref occurrence occ1 : Occ;\n",
    "\t\toccurrence occ2 : Occ;\n",
    "\t\t\n",
    "\t\tindividual snapshot s : Ind;\n",
    "\t\ttimeslice t;\n",
    "\t}\n",
    "\n",
    "\tindividual occurrence def Ind {\n",
    "\t\tsnapshot s2;\n",
    "\t\ttimeslice t2;\n",
    "\t}\n",
    "\tindividual occurrence ind : Ind, Occ {\n",
    "\t\tsnapshot s3;\n",
    "\t\tindividual timeslice t3;\n",
    "\t}\n",
    "\t\n",
    "\tindividual snapshot s4 : Ind;\n",
    "}"
   ]
  },
  {
   "cell_type": "code",
   "execution_count": 2,
   "id": "a7607a73",
   "metadata": {
    "execution": {
     "iopub.execute_input": "2022-07-23T10:52:29.813641Z",
     "iopub.status.busy": "2022-07-23T10:52:29.813353Z",
     "iopub.status.idle": "2022-07-23T10:52:30.326311Z",
     "shell.execute_reply": "2022-07-23T10:52:30.324398Z"
    }
   },
   "outputs": [
    {
     "data": {
      "image/svg+xml": [
       "<?xml version=\"1.0\" encoding=\"UTF-8\" standalone=\"no\"?><svg xmlns=\"http://www.w3.org/2000/svg\" xmlns:xlink=\"http://www.w3.org/1999/xlink\" contentScriptType=\"application/ecmascript\" contentStyleType=\"text/css\" height=\"569px\" preserveAspectRatio=\"none\" style=\"width:1009px;height:569px;\" version=\"1.1\" viewBox=\"0 0 1009 569\" width=\"1009px\" zoomAndPan=\"magnify\"><defs/><g><!--MD5=[fbc87193dbaf4d95561dea2c320d4a47]\n",
       "cluster E1--><a href=\"psysml:53f1d42d-2686-4f4b-950f-b84b40bc19b2\" target=\"_top\" title=\"psysml:53f1d42d-2686-4f4b-950f-b84b40bc19b2\" xlink:actuate=\"onRequest\" xlink:href=\"psysml:53f1d42d-2686-4f4b-950f-b84b40bc19b2\" xlink:show=\"new\" xlink:title=\"psysml:53f1d42d-2686-4f4b-950f-b84b40bc19b2\" xlink:type=\"simple\"><polygon fill=\"#FFFFFF\" points=\"16,6,134,6,141,28.2969,970,28.2969,970,557,16,557,16,6\" style=\"stroke: #000000; stroke-width: 1.5;\"/><line style=\"stroke: #000000; stroke-width: 1.5;\" x1=\"16\" x2=\"141\" y1=\"28.2969\" y2=\"28.2969\"/><text fill=\"#000000\" font-family=\"sans-serif\" font-size=\"14\" font-weight=\"bold\" lengthAdjust=\"spacingAndGlyphs\" textLength=\"112\" x=\"20\" y=\"20.9951\">OccurrenceTest</text></a><!--MD5=[b4997ac47864f28c2f74865a473b2911]\n",
       "class E2--><a href=\"psysml:77ba500d-77fd-484e-b411-8833010da35e\" target=\"_top\" title=\"psysml:77ba500d-77fd-484e-b411-8833010da35e\" xlink:actuate=\"onRequest\" xlink:href=\"psysml:77ba500d-77fd-484e-b411-8833010da35e\" xlink:show=\"new\" xlink:title=\"psysml:77ba500d-77fd-484e-b411-8833010da35e\" xlink:type=\"simple\"><rect fill=\"#FFFFFF\" height=\"75.5469\" id=\"E2\" style=\"stroke: #383838; stroke-width: 1.5;\" width=\"115\" x=\"373.5\" y=\"147\"/><text fill=\"#000000\" font-family=\"sans-serif\" font-size=\"12\" font-style=\"italic\" lengthAdjust=\"spacingAndGlyphs\" textLength=\"113\" x=\"374.5\" y=\"163.1387\">«occurrence  def»</text><text fill=\"#000000\" font-family=\"sans-serif\" font-size=\"12\" lengthAdjust=\"spacingAndGlyphs\" textLength=\"23\" x=\"419.5\" y=\"177.1074\">Occ</text><line style=\"stroke: #383838; stroke-width: 1.5;\" x1=\"374.5\" x2=\"487.5\" y1=\"184.9375\" y2=\"184.9375\"/><text fill=\"#000000\" font-family=\"sans-serif\" font-size=\"11\" lengthAdjust=\"spacingAndGlyphs\" textLength=\"7\" x=\"379.5\" y=\"215.9526\">a</text><line style=\"stroke: #383838; stroke-width: 1.0;\" x1=\"374.5\" x2=\"403.5\" y1=\"199.3398\" y2=\"199.3398\"/><text fill=\"#000000\" font-family=\"sans-serif\" font-size=\"11\" lengthAdjust=\"spacingAndGlyphs\" textLength=\"55\" x=\"403.5\" y=\"202.6479\">attributes</text><line style=\"stroke: #383838; stroke-width: 1.0;\" x1=\"458.5\" x2=\"487.5\" y1=\"199.3398\" y2=\"199.3398\"/></a><!--MD5=[09b614a08d8cba4a07c9adeb5e0fee81]\n",
       "class E3--><a href=\"psysml:37011562-c12e-4ce2-bbf9-af5619a300f0\" target=\"_top\" title=\"psysml:37011562-c12e-4ce2-bbf9-af5619a300f0\" xlink:actuate=\"onRequest\" xlink:href=\"psysml:37011562-c12e-4ce2-bbf9-af5619a300f0\" xlink:show=\"new\" xlink:title=\"psysml:37011562-c12e-4ce2-bbf9-af5619a300f0\" xlink:type=\"simple\"><rect fill=\"#FFFFFF\" height=\"45.9375\" id=\"E3\" rx=\"10\" ry=\"10\" style=\"stroke: #383838; stroke-width: 1.5;\" width=\"87\" x=\"279.5\" y=\"283\"/><text fill=\"#000000\" font-family=\"sans-serif\" font-size=\"12\" font-style=\"italic\" lengthAdjust=\"spacingAndGlyphs\" textLength=\"85\" x=\"280.5\" y=\"299.1387\">«occurrence»</text><text fill=\"#000000\" font-family=\"sans-serif\" font-size=\"12\" lengthAdjust=\"spacingAndGlyphs\" textLength=\"61\" x=\"290.5\" y=\"313.1074\">occ1: Occ</text><line style=\"stroke: #383838; stroke-width: 1.5;\" x1=\"280.5\" x2=\"365.5\" y1=\"320.9375\" y2=\"320.9375\"/></a><!--MD5=[ebbe1d658d1005bcc118a6aa81145e00]\n",
       "class E4--><a href=\"psysml:3522e0a2-d0dd-4c95-916a-e9f89fbadd86\" target=\"_top\" title=\"psysml:3522e0a2-d0dd-4c95-916a-e9f89fbadd86\" xlink:actuate=\"onRequest\" xlink:href=\"psysml:3522e0a2-d0dd-4c95-916a-e9f89fbadd86\" xlink:show=\"new\" xlink:title=\"psysml:3522e0a2-d0dd-4c95-916a-e9f89fbadd86\" xlink:type=\"simple\"><rect fill=\"#FFFFFF\" height=\"45.9375\" id=\"E4\" rx=\"10\" ry=\"10\" style=\"stroke: #383838; stroke-width: 1.5;\" width=\"87\" x=\"401.5\" y=\"283\"/><text fill=\"#000000\" font-family=\"sans-serif\" font-size=\"12\" font-style=\"italic\" lengthAdjust=\"spacingAndGlyphs\" textLength=\"85\" x=\"402.5\" y=\"299.1387\">«occurrence»</text><text fill=\"#000000\" font-family=\"sans-serif\" font-size=\"12\" lengthAdjust=\"spacingAndGlyphs\" textLength=\"61\" x=\"412.5\" y=\"313.1074\">occ2: Occ</text><line style=\"stroke: #383838; stroke-width: 1.5;\" x1=\"402.5\" x2=\"487.5\" y1=\"320.9375\" y2=\"320.9375\"/></a><!--MD5=[270fce915f116d4de14055a7c1d9a0f3]\n",
       "class E5--><a href=\"psysml:2ba1b44f-ac88-49ba-a1da-8edc5df2da3a\" target=\"_top\" title=\"psysml:2ba1b44f-ac88-49ba-a1da-8edc5df2da3a\" xlink:actuate=\"onRequest\" xlink:href=\"psysml:2ba1b44f-ac88-49ba-a1da-8edc5df2da3a\" xlink:show=\"new\" xlink:title=\"psysml:2ba1b44f-ac88-49ba-a1da-8edc5df2da3a\" xlink:type=\"simple\"><rect fill=\"#FFFFFF\" height=\"45.9375\" id=\"E5\" rx=\"10\" ry=\"10\" style=\"stroke: #383838; stroke-width: 1.5;\" width=\"212\" x=\"524\" y=\"283\"/><text fill=\"#000000\" font-family=\"sans-serif\" font-size=\"12\" font-style=\"italic\" lengthAdjust=\"spacingAndGlyphs\" textLength=\"210\" x=\"525\" y=\"299.1387\">«individual snapshot occurrence»</text><text fill=\"#000000\" font-family=\"sans-serif\" font-size=\"12\" lengthAdjust=\"spacingAndGlyphs\" textLength=\"34\" x=\"611\" y=\"313.1074\">s: Ind</text><line style=\"stroke: #383838; stroke-width: 1.5;\" x1=\"525\" x2=\"735\" y1=\"320.9375\" y2=\"320.9375\"/></a><!--MD5=[60a26617385b1d2d0262a64233df1f8d]\n",
       "class E6--><a href=\"psysml:aefaf76d-f241-48e8-80ea-b99598299972\" target=\"_top\" title=\"psysml:aefaf76d-f241-48e8-80ea-b99598299972\" xlink:actuate=\"onRequest\" xlink:href=\"psysml:aefaf76d-f241-48e8-80ea-b99598299972\" xlink:show=\"new\" xlink:title=\"psysml:aefaf76d-f241-48e8-80ea-b99598299972\" xlink:type=\"simple\"><rect fill=\"#FFFFFF\" height=\"45.9375\" id=\"E6\" rx=\"10\" ry=\"10\" style=\"stroke: #383838; stroke-width: 1.5;\" width=\"146\" x=\"771\" y=\"283\"/><text fill=\"#000000\" font-family=\"sans-serif\" font-size=\"12\" font-style=\"italic\" lengthAdjust=\"spacingAndGlyphs\" textLength=\"144\" x=\"772\" y=\"299.1387\">«timeslice occurrence»</text><text fill=\"#000000\" font-family=\"sans-serif\" font-size=\"12\" lengthAdjust=\"spacingAndGlyphs\" textLength=\"5\" x=\"839.5\" y=\"313.1074\">t</text><line style=\"stroke: #383838; stroke-width: 1.5;\" x1=\"772\" x2=\"916\" y1=\"320.9375\" y2=\"320.9375\"/></a><!--MD5=[2156ba9850f5573cc1fc38a6a4b2f02b]\n",
       "class E7--><a href=\"psysml:991e81ed-291b-4563-955c-44288cc9fc81\" target=\"_top\" title=\"psysml:991e81ed-291b-4563-955c-44288cc9fc81\" xlink:actuate=\"onRequest\" xlink:href=\"psysml:991e81ed-291b-4563-955c-44288cc9fc81\" xlink:show=\"new\" xlink:title=\"psysml:991e81ed-291b-4563-955c-44288cc9fc81\" xlink:type=\"simple\"><rect fill=\"#FFFFFF\" height=\"45.9375\" id=\"E7\" style=\"stroke: #383838; stroke-width: 1.5;\" width=\"177\" x=\"541.5\" y=\"389\"/><text fill=\"#000000\" font-family=\"sans-serif\" font-size=\"12\" font-style=\"italic\" lengthAdjust=\"spacingAndGlyphs\" textLength=\"175\" x=\"542.5\" y=\"405.1387\">«individual occurrence  def»</text><text fill=\"#000000\" font-family=\"sans-serif\" font-size=\"12\" lengthAdjust=\"spacingAndGlyphs\" textLength=\"19\" x=\"620.5\" y=\"419.1074\">Ind</text><line style=\"stroke: #383838; stroke-width: 1.5;\" x1=\"542.5\" x2=\"717.5\" y1=\"426.9375\" y2=\"426.9375\"/></a><!--MD5=[b9389687b975829384b498ac4b7476b2]\n",
       "class E8--><a href=\"psysml:fb7dbc0d-a670-4e6d-a2b6-24a9a70c023a\" target=\"_top\" title=\"psysml:fb7dbc0d-a670-4e6d-a2b6-24a9a70c023a\" xlink:actuate=\"onRequest\" xlink:href=\"psysml:fb7dbc0d-a670-4e6d-a2b6-24a9a70c023a\" xlink:show=\"new\" xlink:title=\"psysml:fb7dbc0d-a670-4e6d-a2b6-24a9a70c023a\" xlink:type=\"simple\"><rect fill=\"#FFFFFF\" height=\"45.9375\" id=\"E8\" rx=\"10\" ry=\"10\" style=\"stroke: #383838; stroke-width: 1.5;\" width=\"150\" x=\"463\" y=\"495\"/><text fill=\"#000000\" font-family=\"sans-serif\" font-size=\"12\" font-style=\"italic\" lengthAdjust=\"spacingAndGlyphs\" textLength=\"148\" x=\"464\" y=\"511.1387\">«snapshot occurrence»</text><text fill=\"#000000\" font-family=\"sans-serif\" font-size=\"12\" lengthAdjust=\"spacingAndGlyphs\" textLength=\"15\" x=\"528.5\" y=\"525.1074\">s2</text><line style=\"stroke: #383838; stroke-width: 1.5;\" x1=\"464\" x2=\"612\" y1=\"532.9375\" y2=\"532.9375\"/></a><!--MD5=[fd4143e9d270a159db93a4ea2a975926]\n",
       "class E9--><a href=\"psysml:ae0fd4ea-8dc7-4cb0-a32c-5615a8f756eb\" target=\"_top\" title=\"psysml:ae0fd4ea-8dc7-4cb0-a32c-5615a8f756eb\" xlink:actuate=\"onRequest\" xlink:href=\"psysml:ae0fd4ea-8dc7-4cb0-a32c-5615a8f756eb\" xlink:show=\"new\" xlink:title=\"psysml:ae0fd4ea-8dc7-4cb0-a32c-5615a8f756eb\" xlink:type=\"simple\"><rect fill=\"#FFFFFF\" height=\"45.9375\" id=\"E9\" rx=\"10\" ry=\"10\" style=\"stroke: #383838; stroke-width: 1.5;\" width=\"146\" x=\"648\" y=\"495\"/><text fill=\"#000000\" font-family=\"sans-serif\" font-size=\"12\" font-style=\"italic\" lengthAdjust=\"spacingAndGlyphs\" textLength=\"144\" x=\"649\" y=\"511.1387\">«timeslice occurrence»</text><text fill=\"#000000\" font-family=\"sans-serif\" font-size=\"12\" lengthAdjust=\"spacingAndGlyphs\" textLength=\"13\" x=\"712.5\" y=\"525.1074\">t2</text><line style=\"stroke: #383838; stroke-width: 1.5;\" x1=\"649\" x2=\"793\" y1=\"532.9375\" y2=\"532.9375\"/></a><!--MD5=[96f4274e9e20536e775497830990834d]\n",
       "class E10--><a href=\"psysml:90168d9a-6358-4939-88d7-8ec9974b52c6\" target=\"_top\" title=\"psysml:90168d9a-6358-4939-88d7-8ec9974b52c6\" xlink:actuate=\"onRequest\" xlink:href=\"psysml:90168d9a-6358-4939-88d7-8ec9974b52c6\" xlink:show=\"new\" xlink:title=\"psysml:90168d9a-6358-4939-88d7-8ec9974b52c6\" xlink:type=\"simple\"><rect fill=\"#FFFFFF\" height=\"45.9375\" id=\"E10\" rx=\"10\" ry=\"10\" style=\"stroke: #383838; stroke-width: 1.5;\" width=\"149\" x=\"505.5\" y=\"41\"/><text fill=\"#000000\" font-family=\"sans-serif\" font-size=\"12\" font-style=\"italic\" lengthAdjust=\"spacingAndGlyphs\" textLength=\"147\" x=\"506.5\" y=\"57.1387\">«individual occurrence»</text><text fill=\"#000000\" font-family=\"sans-serif\" font-size=\"12\" lengthAdjust=\"spacingAndGlyphs\" textLength=\"77\" x=\"539.5\" y=\"71.1074\">ind: Ind, Occ</text><line style=\"stroke: #383838; stroke-width: 1.5;\" x1=\"506.5\" x2=\"653.5\" y1=\"78.9375\" y2=\"78.9375\"/></a><!--MD5=[1dd1bfd58a279cf63c5f349dbc8fc6a1]\n",
       "class E11--><a href=\"psysml:d0eba55f-a402-4b22-88ba-9857d6bd50ac\" target=\"_top\" title=\"psysml:d0eba55f-a402-4b22-88ba-9857d6bd50ac\" xlink:actuate=\"onRequest\" xlink:href=\"psysml:d0eba55f-a402-4b22-88ba-9857d6bd50ac\" xlink:show=\"new\" xlink:title=\"psysml:d0eba55f-a402-4b22-88ba-9857d6bd50ac\" xlink:type=\"simple\"><rect fill=\"#FFFFFF\" height=\"45.9375\" id=\"E11\" rx=\"10\" ry=\"10\" style=\"stroke: #383838; stroke-width: 1.5;\" width=\"150\" x=\"561\" y=\"162\"/><text fill=\"#000000\" font-family=\"sans-serif\" font-size=\"12\" font-style=\"italic\" lengthAdjust=\"spacingAndGlyphs\" textLength=\"148\" x=\"562\" y=\"178.1387\">«snapshot occurrence»</text><text fill=\"#000000\" font-family=\"sans-serif\" font-size=\"12\" lengthAdjust=\"spacingAndGlyphs\" textLength=\"15\" x=\"626.5\" y=\"192.1074\">s3</text><line style=\"stroke: #383838; stroke-width: 1.5;\" x1=\"562\" x2=\"710\" y1=\"199.9375\" y2=\"199.9375\"/></a><!--MD5=[49a0ec8f00dab7302a31f22d0f0fe584]\n",
       "class E12--><a href=\"psysml:0232df4f-93e4-4add-8902-f942e03a0634\" target=\"_top\" title=\"psysml:0232df4f-93e4-4add-8902-f942e03a0634\" xlink:actuate=\"onRequest\" xlink:href=\"psysml:0232df4f-93e4-4add-8902-f942e03a0634\" xlink:show=\"new\" xlink:title=\"psysml:0232df4f-93e4-4add-8902-f942e03a0634\" xlink:type=\"simple\"><rect fill=\"#FFFFFF\" height=\"45.9375\" id=\"E12\" rx=\"10\" ry=\"10\" style=\"stroke: #383838; stroke-width: 1.5;\" width=\"208\" x=\"746\" y=\"162\"/><text fill=\"#000000\" font-family=\"sans-serif\" font-size=\"12\" font-style=\"italic\" lengthAdjust=\"spacingAndGlyphs\" textLength=\"206\" x=\"747\" y=\"178.1387\">«individual timeslice occurrence»</text><text fill=\"#000000\" font-family=\"sans-serif\" font-size=\"12\" lengthAdjust=\"spacingAndGlyphs\" textLength=\"13\" x=\"841.5\" y=\"192.1074\">t3</text><line style=\"stroke: #383838; stroke-width: 1.5;\" x1=\"747\" x2=\"953\" y1=\"199.9375\" y2=\"199.9375\"/></a><!--MD5=[ee3c913d1a06f366521f9ef512b67efe]\n",
       "class E13--><a href=\"psysml:5cbde71f-e2d0-40cd-91ed-92f5bc776eb7\" target=\"_top\" title=\"psysml:5cbde71f-e2d0-40cd-91ed-92f5bc776eb7\" xlink:actuate=\"onRequest\" xlink:href=\"psysml:5cbde71f-e2d0-40cd-91ed-92f5bc776eb7\" xlink:show=\"new\" xlink:title=\"psysml:5cbde71f-e2d0-40cd-91ed-92f5bc776eb7\" xlink:type=\"simple\"><rect fill=\"#FFFFFF\" height=\"45.9375\" id=\"E13\" rx=\"10\" ry=\"10\" style=\"stroke: #383838; stroke-width: 1.5;\" width=\"212\" x=\"32\" y=\"283\"/><text fill=\"#000000\" font-family=\"sans-serif\" font-size=\"12\" font-style=\"italic\" lengthAdjust=\"spacingAndGlyphs\" textLength=\"210\" x=\"33\" y=\"299.1387\">«individual snapshot occurrence»</text><text fill=\"#000000\" font-family=\"sans-serif\" font-size=\"12\" lengthAdjust=\"spacingAndGlyphs\" textLength=\"42\" x=\"115\" y=\"313.1074\">s4: Ind</text><line style=\"stroke: #383838; stroke-width: 1.5;\" x1=\"33\" x2=\"243\" y1=\"320.9375\" y2=\"320.9375\"/></a><!--MD5=[209b3feb70ccb6233bfe1053d122c12c]\n",
       "reverse link E2 to E3--><a href=\"psysml:111e77a4-44f2-45ac-862d-a1e02a1cad26\" target=\"_top\" title=\"psysml:111e77a4-44f2-45ac-862d-a1e02a1cad26\" xlink:actuate=\"onRequest\" xlink:href=\"psysml:111e77a4-44f2-45ac-862d-a1e02a1cad26\" xlink:show=\"new\" xlink:title=\"psysml:111e77a4-44f2-45ac-862d-a1e02a1cad26\" xlink:type=\"simple\"><path d=\"M376.37,232.45 C359.85,249.83 343.43,268.76 332.86,282.93 \" fill=\"none\" id=\"E2&lt;-E3\" style=\"stroke: #383838; stroke-width: 1.0;\"/><polygon fill=\"#FFFFFF\" points=\"385.52,223,378.4729,224.5294,377.1743,231.6226,384.2213,230.0932,385.52,223\" style=\"stroke: #383838; stroke-width: 1.0;\"/></a><!--MD5=[05d275557350bfb9b23a4ef7222b4c39]\n",
       "link E3 to E2--><a href=\"psysml:0f45e557-8f0e-4df9-b1d8-28bd2526f5a3\" target=\"_top\" title=\"psysml:0f45e557-8f0e-4df9-b1d8-28bd2526f5a3\" xlink:actuate=\"onRequest\" xlink:href=\"psysml:0f45e557-8f0e-4df9-b1d8-28bd2526f5a3\" xlink:show=\"new\" xlink:title=\"psysml:0f45e557-8f0e-4df9-b1d8-28bd2526f5a3\" xlink:type=\"simple\"><path d=\"M353.8,282.93 C367.38,270.34 383.11,253.98 396.95,238.29 \" fill=\"none\" id=\"E3-&gt;E2\" style=\"stroke: #383838; stroke-width: 1.0;\"/><polygon fill=\"#FFFFFF\" points=\"410.02,223,403.0007,241.9929,392.3563,232.8991,410.02,223\" style=\"stroke: #383838; stroke-width: 1.0;\"/><ellipse cx=\"397.7776\" cy=\"245.0276\" fill=\"#383838\" rx=\"2\" ry=\"2\" style=\"stroke: #383838; stroke-width: 1.0;\"/><ellipse cx=\"390.1744\" cy=\"238.532\" fill=\"#383838\" rx=\"2\" ry=\"2\" style=\"stroke: #383838; stroke-width: 1.0;\"/></a><!--MD5=[9618e71518536f8baf3342ff6fdab317]\n",
       "reverse link E2 to E4--><a href=\"psysml:7f5381ff-79d6-4175-8599-1b084d5a38fb\" target=\"_top\" title=\"psysml:7f5381ff-79d6-4175-8599-1b084d5a38fb\" xlink:actuate=\"onRequest\" xlink:href=\"psysml:7f5381ff-79d6-4175-8599-1b084d5a38fb\" xlink:show=\"new\" xlink:title=\"psysml:7f5381ff-79d6-4175-8599-1b084d5a38fb\" xlink:type=\"simple\"><path d=\"M424.31,236.34 C425.74,252.61 428.58,269.81 432.23,282.93 \" fill=\"none\" id=\"E2&lt;-E4\" style=\"stroke: #383838; stroke-width: 1.0;\"/><polygon fill=\"#383838\" points=\"423.45,223,419.8475,229.2467,424.2281,234.9747,427.8306,228.728,423.45,223\" style=\"stroke: #383838; stroke-width: 1.0;\"/></a><!--MD5=[185131fc0dcab0a4505a2ebe144e961b]\n",
       "link E4 to E2--><a href=\"psysml:9af83ecd-fc65-4272-8374-c2ac75a0337a\" target=\"_top\" title=\"psysml:9af83ecd-fc65-4272-8374-c2ac75a0337a\" xlink:actuate=\"onRequest\" xlink:href=\"psysml:9af83ecd-fc65-4272-8374-c2ac75a0337a\" xlink:show=\"new\" xlink:title=\"psysml:9af83ecd-fc65-4272-8374-c2ac75a0337a\" xlink:type=\"simple\"><path d=\"M453.17,282.93 C453.77,271.65 452.99,257.34 451.22,243.21 \" fill=\"none\" id=\"E4-&gt;E2\" style=\"stroke: #383838; stroke-width: 1.0;\"/><polygon fill=\"#FFFFFF\" points=\"447.96,223,457.8973,240.6423,444.0761,242.8725,447.96,223\" style=\"stroke: #383838; stroke-width: 1.0;\"/><ellipse cx=\"456.8309\" cy=\"246.5881\" fill=\"#383838\" rx=\"2\" ry=\"2\" style=\"stroke: #383838; stroke-width: 1.0;\"/><ellipse cx=\"446.9586\" cy=\"248.1811\" fill=\"#383838\" rx=\"2\" ry=\"2\" style=\"stroke: #383838; stroke-width: 1.0;\"/></a><!--MD5=[4e1a83fab71cdb913c109063314ae896]\n",
       "reverse link E2 to E5--><a href=\"psysml:648e9e41-ac7c-450e-af70-439d81f3f540\" target=\"_top\" title=\"psysml:648e9e41-ac7c-450e-af70-439d81f3f540\" xlink:actuate=\"onRequest\" xlink:href=\"psysml:648e9e41-ac7c-450e-af70-439d81f3f540\" xlink:show=\"new\" xlink:title=\"psysml:648e9e41-ac7c-450e-af70-439d81f3f540\" xlink:type=\"simple\"><path d=\"M499.85,227.17 C531.12,245.87 566.86,267.24 592.97,282.85 \" fill=\"none\" id=\"E2&lt;-E5\" style=\"stroke: #383838; stroke-width: 1.0;\"/><polygon fill=\"#383838\" points=\"488.56,220.42,491.6568,226.9323,498.8592,226.5784,495.7624,220.0661,488.56,220.42\" style=\"stroke: #383838; stroke-width: 1.0;\"/></a><!--MD5=[ce036f65110ae2351ccce5a81dc2e928]\n",
       "reverse link E2 to E6--><a href=\"psysml:00b8b9a4-593e-406d-b505-212ff2a7c9c1\" target=\"_top\" title=\"psysml:00b8b9a4-593e-406d-b505-212ff2a7c9c1\" xlink:actuate=\"onRequest\" xlink:href=\"psysml:00b8b9a4-593e-406d-b505-212ff2a7c9c1\" xlink:show=\"new\" xlink:title=\"psysml:00b8b9a4-593e-406d-b505-212ff2a7c9c1\" xlink:type=\"simple\"><path d=\"M501.02,217.55 C506.06,219.49 511.08,221.33 516,223 C528.19,227.15 677.82,264.14 770.71,287 \" fill=\"none\" id=\"E2&lt;-E6\" style=\"stroke: #383838; stroke-width: 1.0;\"/><polygon fill=\"#383838\" points=\"488.57,212.58,492.6577,218.5206,499.7135,217.0321,495.6258,211.0916,488.57,212.58\" style=\"stroke: #383838; stroke-width: 1.0;\"/></a><!--MD5=[3a9b96bfbf6b6ad89c494e81751bda47]\n",
       "link E5 to E7--><a href=\"psysml:088b8ee7-f1bc-4574-b816-43bcf4f14b77\" target=\"_top\" title=\"psysml:088b8ee7-f1bc-4574-b816-43bcf4f14b77\" xlink:actuate=\"onRequest\" xlink:href=\"psysml:088b8ee7-f1bc-4574-b816-43bcf4f14b77\" xlink:show=\"new\" xlink:title=\"psysml:088b8ee7-f1bc-4574-b816-43bcf4f14b77\" xlink:type=\"simple\"><path d=\"M630,329.06 C630,340.64 630,355.23 630,368.87 \" fill=\"none\" id=\"E5-&gt;E7\" style=\"stroke: #383838; stroke-width: 1.0;\"/><polygon fill=\"#FFFFFF\" points=\"630,388.98,623,369.98,637,369.98,630,388.98\" style=\"stroke: #383838; stroke-width: 1.0;\"/><ellipse cx=\"625\" cy=\"364.28\" fill=\"#383838\" rx=\"2\" ry=\"2\" style=\"stroke: #383838; stroke-width: 1.0;\"/><ellipse cx=\"635\" cy=\"364.28\" fill=\"#383838\" rx=\"2\" ry=\"2\" style=\"stroke: #383838; stroke-width: 1.0;\"/></a><!--MD5=[dc164f5e8a733ab456ef1add180e9e34]\n",
       "reverse link E7 to E8--><a href=\"psysml:c8813ef9-ffa9-4c9d-80a4-dd20f6c80ea5\" target=\"_top\" title=\"psysml:c8813ef9-ffa9-4c9d-80a4-dd20f6c80ea5\" xlink:actuate=\"onRequest\" xlink:href=\"psysml:c8813ef9-ffa9-4c9d-80a4-dd20f6c80ea5\" xlink:show=\"new\" xlink:title=\"psysml:c8813ef9-ffa9-4c9d-80a4-dd20f6c80ea5\" xlink:type=\"simple\"><path d=\"M601.55,445.16 C587.25,461.33 570.28,480.51 557.48,494.98 \" fill=\"none\" id=\"E7&lt;-E8\" style=\"stroke: #383838; stroke-width: 1.0;\"/><polygon fill=\"#383838\" points=\"610.49,435.06,603.5177,436.9004,602.5348,444.0442,609.5071,442.2038,610.49,435.06\" style=\"stroke: #383838; stroke-width: 1.0;\"/></a><!--MD5=[e4a10ef82d0e328e31cac39a31e58dda]\n",
       "reverse link E7 to E9--><a href=\"psysml:cdca8d7c-6aa5-4fff-9e0e-900e3ba85343\" target=\"_top\" title=\"psysml:cdca8d7c-6aa5-4fff-9e0e-900e3ba85343\" xlink:actuate=\"onRequest\" xlink:href=\"psysml:cdca8d7c-6aa5-4fff-9e0e-900e3ba85343\" xlink:show=\"new\" xlink:title=\"psysml:cdca8d7c-6aa5-4fff-9e0e-900e3ba85343\" xlink:type=\"simple\"><path d=\"M658.14,445.16 C672.29,461.33 689.07,480.51 701.73,494.98 \" fill=\"none\" id=\"E7&lt;-E9\" style=\"stroke: #383838; stroke-width: 1.0;\"/><polygon fill=\"#383838\" points=\"649.3,435.06,650.2496,442.2083,657.2133,444.0811,656.2637,436.9328,649.3,435.06\" style=\"stroke: #383838; stroke-width: 1.0;\"/></a><!--MD5=[a919e0967d6f3de553dc51b9865a1d6d]\n",
       "link E10 to E7--><a href=\"psysml:43f26010-ca40-42d6-8df0-e4847d82fc63\" target=\"_top\" title=\"psysml:43f26010-ca40-42d6-8df0-e4847d82fc63\" xlink:actuate=\"onRequest\" xlink:href=\"psysml:43f26010-ca40-42d6-8df0-e4847d82fc63\" xlink:show=\"new\" xlink:title=\"psysml:43f26010-ca40-42d6-8df0-e4847d82fc63\" xlink:type=\"simple\"><path d=\"M564.36,87.23 C542.92,120.68 510.65,184.15 544,223 C658.5,356.41 820.5,149.59 935,283 C997.3,355.58 849.41,387.9 738.47,401.63 \" fill=\"none\" id=\"E10-&gt;E7\" style=\"stroke: #383838; stroke-width: 1.0;\"/><polygon fill=\"#FFFFFF\" points=\"718.6,403.94,736.6627,394.7891,738.2822,408.6951,718.6,403.94\" style=\"stroke: #383838; stroke-width: 1.0;\"/><ellipse cx=\"742.5558\" cy=\"396.1162\" fill=\"#383838\" rx=\"2\" ry=\"2\" style=\"stroke: #383838; stroke-width: 1.0;\"/><ellipse cx=\"743.7126\" cy=\"406.0491\" fill=\"#383838\" rx=\"2\" ry=\"2\" style=\"stroke: #383838; stroke-width: 1.0;\"/></a><!--MD5=[0f36bececdf0dff6e600d6f64214b0f1]\n",
       "link E10 to E2--><a href=\"psysml:ac89f7fb-b091-4bc7-aaea-6377fc157ffe\" target=\"_top\" title=\"psysml:ac89f7fb-b091-4bc7-aaea-6377fc157ffe\" xlink:actuate=\"onRequest\" xlink:href=\"psysml:ac89f7fb-b091-4bc7-aaea-6377fc157ffe\" xlink:show=\"new\" xlink:title=\"psysml:ac89f7fb-b091-4bc7-aaea-6377fc157ffe\" xlink:type=\"simple\"><path d=\"M552.32,87.1 C535.71,100.38 513.86,117.82 493.29,134.25 \" fill=\"none\" id=\"E10-&gt;E2\" style=\"stroke: #383838; stroke-width: 1.0;\"/><polygon fill=\"#FFFFFF\" points=\"477.56,146.81,488.0352,129.4817,496.7737,140.4197,477.56,146.81\" style=\"stroke: #383838; stroke-width: 1.0;\"/><ellipse cx=\"493.7369\" cy=\"127.4865\" fill=\"#383838\" rx=\"2\" ry=\"2\" style=\"stroke: #383838; stroke-width: 1.0;\"/><ellipse cx=\"499.9786\" cy=\"135.2994\" fill=\"#383838\" rx=\"2\" ry=\"2\" style=\"stroke: #383838; stroke-width: 1.0;\"/></a><!--MD5=[de308be4a2431766a05a907a031c07fc]\n",
       "reverse link E10 to E11--><a href=\"psysml:75c081c5-05e2-401c-b103-d900689a3a49\" target=\"_top\" title=\"psysml:75c081c5-05e2-401c-b103-d900689a3a49\" xlink:actuate=\"onRequest\" xlink:href=\"psysml:75c081c5-05e2-401c-b103-d900689a3a49\" xlink:show=\"new\" xlink:title=\"psysml:75c081c5-05e2-401c-b103-d900689a3a49\" xlink:type=\"simple\"><path d=\"M595.95,98.9 C605.42,119.01 617.15,143.94 625.46,161.61 \" fill=\"none\" id=\"E10&lt;-E11\" style=\"stroke: #383838; stroke-width: 1.0;\"/><polygon fill=\"#383838\" points=\"590.4,87.1,589.3334,94.2318,595.5064,97.9593,596.573,90.8275,590.4,87.1\" style=\"stroke: #383838; stroke-width: 1.0;\"/></a><!--MD5=[1d54f998c6d5961a1a9184be73a7eb6c]\n",
       "reverse link E10 to E12--><a href=\"psysml:54130436-8b1f-4706-a610-d99b2d4cb5d4\" target=\"_top\" title=\"psysml:54130436-8b1f-4706-a610-d99b2d4cb5d4\" xlink:actuate=\"onRequest\" xlink:href=\"psysml:54130436-8b1f-4706-a610-d99b2d4cb5d4\" xlink:show=\"new\" xlink:title=\"psysml:54130436-8b1f-4706-a610-d99b2d4cb5d4\" xlink:type=\"simple\"><path d=\"M642.21,92.42 C689.99,113.48 755.13,142.19 799.66,161.81 \" fill=\"none\" id=\"E10&lt;-E12\" style=\"stroke: #383838; stroke-width: 1.0;\"/><polygon fill=\"#383838\" points=\"630.15,87.1,634.028,93.1796,641.1314,91.9382,637.2534,85.8586,630.15,87.1\" style=\"stroke: #383838; stroke-width: 1.0;\"/></a><!--MD5=[4a48077df6499cfcd20b62e8f5f37904]\n",
       "link E13 to E7--><a href=\"psysml:85f16706-e1b7-404d-9ee5-57d420bfb7f2\" target=\"_top\" title=\"psysml:85f16706-e1b7-404d-9ee5-57d420bfb7f2\" xlink:actuate=\"onRequest\" xlink:href=\"psysml:85f16706-e1b7-404d-9ee5-57d420bfb7f2\" xlink:show=\"new\" xlink:title=\"psysml:85f16706-e1b7-404d-9ee5-57d420bfb7f2\" xlink:type=\"simple\"><path d=\"M242.34,329.06 C324.51,346.43 438.67,370.56 521.82,388.13 \" fill=\"none\" id=\"E13-&gt;E7\" style=\"stroke: #383838; stroke-width: 1.0;\"/><polygon fill=\"#FFFFFF\" points=\"541.45,392.28,521.4143,395.2075,524.304,381.509,541.45,392.28\" style=\"stroke: #383838; stroke-width: 1.0;\"/><ellipse cx=\"516.2498\" cy=\"392.0741\" fill=\"#383838\" rx=\"2\" ry=\"2\" style=\"stroke: #383838; stroke-width: 1.0;\"/><ellipse cx=\"518.3139\" cy=\"382.2894\" fill=\"#383838\" rx=\"2\" ry=\"2\" style=\"stroke: #383838; stroke-width: 1.0;\"/></a><!--MD5=[9dbf3cd78cc159357ebf7dc210f4aac1]\n",
       "@startuml\r\n",
       " skinparam monochrome true\r\n",
       "skinparam classbackgroundcolor white\r\n",
       "skinparam shadowing false\r\n",
       "skinparam wrapWidth 300\r\n",
       "hide circle\r\n",
       "\r\n",
       "package \"OccurrenceTest\" as E1  [[psysml:53f1d42d-2686-4f4b-950f-b84b40bc19b2 ]]  {\r\n",
       "comp def \"Occ\" as E2  <<(T,blue) occurrence  def>> [[psysml:77ba500d-77fd-484e-b411-8833010da35e ]] {\r\n",
       "- - attributes - -\r\n",
       "a\r\n",
       "}\r\n",
       "comp usage \"occ1: Occ \" as E3  <<(T,blue) occurrence>> [[psysml:37011562-c12e-4ce2-bbf9-af5619a300f0 ]] {\r\n",
       "}\r\n",
       "comp usage \"occ2: Occ \" as E4  <<(T,blue) occurrence>> [[psysml:3522e0a2-d0dd-4c95-916a-e9f89fbadd86 ]] {\r\n",
       "}\r\n",
       "comp usage \"s: Ind \" as E5  <<(T,blue) individual snapshot occurrence>> [[psysml:2ba1b44f-ac88-49ba-a1da-8edc5df2da3a ]] {\r\n",
       "}\r\n",
       "comp usage \"t \" as E6  <<(T,blue) timeslice occurrence>> [[psysml:aefaf76d-f241-48e8-80ea-b99598299972 ]] {\r\n",
       "}\r\n",
       "comp def \"Ind\" as E7  <<(T,blue) individual occurrence  def>> [[psysml:991e81ed-291b-4563-955c-44288cc9fc81 ]] {\r\n",
       "}\r\n",
       "comp usage \"s2 \" as E8  <<(T,blue) snapshot occurrence>> [[psysml:fb7dbc0d-a670-4e6d-a2b6-24a9a70c023a ]] {\r\n",
       "}\r\n",
       "comp usage \"t2 \" as E9  <<(T,blue) timeslice occurrence>> [[psysml:ae0fd4ea-8dc7-4cb0-a32c-5615a8f756eb ]] {\r\n",
       "}\r\n",
       "comp usage \"ind: Ind, Occ \" as E10  <<(T,blue) individual occurrence>> [[psysml:90168d9a-6358-4939-88d7-8ec9974b52c6 ]] {\r\n",
       "}\r\n",
       "comp usage \"s3 \" as E11  <<(T,blue) snapshot occurrence>> [[psysml:d0eba55f-a402-4b22-88ba-9857d6bd50ac ]] {\r\n",
       "}\r\n",
       "comp usage \"t3 \" as E12  <<(T,blue) individual timeslice occurrence>> [[psysml:0232df4f-93e4-4add-8902-f942e03a0634 ]] {\r\n",
       "}\r\n",
       "comp usage \"s4: Ind \" as E13  <<(T,blue) individual snapshot occurrence>> [[psysml:5cbde71f-e2d0-40cd-91ed-92f5bc776eb7 ]] {\r\n",
       "}\r\n",
       "}\r\n",
       "E2 o- - E3 [[psysml:111e77a4-44f2-45ac-862d-a1e02a1cad26 ]] \r\n",
       "E3 - -:|> E2 [[psysml:0f45e557-8f0e-4df9-b1d8-28bd2526f5a3 ]] \r\n",
       "E2 *- - E4 [[psysml:7f5381ff-79d6-4175-8599-1b084d5a38fb ]] \r\n",
       "E4 - -:|> E2 [[psysml:9af83ecd-fc65-4272-8374-c2ac75a0337a ]] \r\n",
       "E2 *- - E5 [[psysml:648e9e41-ac7c-450e-af70-439d81f3f540 ]] \r\n",
       "E2 *- - E6 [[psysml:00b8b9a4-593e-406d-b505-212ff2a7c9c1 ]] \r\n",
       "E5 - -:|> E7 [[psysml:088b8ee7-f1bc-4574-b816-43bcf4f14b77 ]] \r\n",
       "E7 *- - E8 [[psysml:c8813ef9-ffa9-4c9d-80a4-dd20f6c80ea5 ]] \r\n",
       "E7 *- - E9 [[psysml:cdca8d7c-6aa5-4fff-9e0e-900e3ba85343 ]] \r\n",
       "E10 - -:|> E7 [[psysml:43f26010-ca40-42d6-8df0-e4847d82fc63 ]] \r\n",
       "E10 - -:|> E2 [[psysml:ac89f7fb-b091-4bc7-aaea-6377fc157ffe ]] \r\n",
       "E10 *- - E11 [[psysml:75c081c5-05e2-401c-b103-d900689a3a49 ]] \r\n",
       "E10 *- - E12 [[psysml:54130436-8b1f-4706-a610-d99b2d4cb5d4 ]] \r\n",
       "E13 - -:|> E7 [[psysml:85f16706-e1b7-404d-9ee5-57d420bfb7f2 ]] \r\n",
       "@enduml\r\n",
       "\n",
       "PlantUML version 1.2020.13(Sat Jun 13 12:26:38 UTC 2020)\n",
       "(EPL source distribution)\n",
       "Java Runtime: OpenJDK Runtime Environment\n",
       "JVM: OpenJDK 64-Bit Server VM\n",
       "Default Encoding: UTF-8\n",
       "Language: en\n",
       "Country: null\n",
       "--></g></svg>"
      ]
     },
     "execution_count": 2,
     "metadata": {},
     "output_type": "execute_result"
    }
   ],
   "source": [
    "%viz --style=\"COMPTREE\" --view=\"Default\" \"OccurrenceTest\""
   ]
  },
  {
   "cell_type": "code",
   "execution_count": 3,
   "id": "1dbc1d21",
   "metadata": {
    "execution": {
     "iopub.execute_input": "2022-07-23T10:52:30.375567Z",
     "iopub.status.busy": "2022-07-23T10:52:30.375056Z",
     "iopub.status.idle": "2022-07-23T10:52:30.451400Z",
     "shell.execute_reply": "2022-07-23T10:52:30.451052Z"
    }
   },
   "outputs": [
    {
     "data": {
      "image/svg+xml": [
       "<?xml version=\"1.0\" encoding=\"UTF-8\" standalone=\"no\"?><svg xmlns=\"http://www.w3.org/2000/svg\" xmlns:xlink=\"http://www.w3.org/1999/xlink\" contentScriptType=\"application/ecmascript\" contentStyleType=\"text/css\" height=\"569px\" preserveAspectRatio=\"none\" style=\"width:1009px;height:569px;\" version=\"1.1\" viewBox=\"0 0 1009 569\" width=\"1009px\" zoomAndPan=\"magnify\"><defs/><g><!--MD5=[fbc87193dbaf4d95561dea2c320d4a47]\n",
       "cluster E1--><a href=\"psysml:53f1d42d-2686-4f4b-950f-b84b40bc19b2\" target=\"_top\" title=\"psysml:53f1d42d-2686-4f4b-950f-b84b40bc19b2\" xlink:actuate=\"onRequest\" xlink:href=\"psysml:53f1d42d-2686-4f4b-950f-b84b40bc19b2\" xlink:show=\"new\" xlink:title=\"psysml:53f1d42d-2686-4f4b-950f-b84b40bc19b2\" xlink:type=\"simple\"><polygon fill=\"#FFFFFF\" points=\"16,6,134,6,141,28.2969,970,28.2969,970,557,16,557,16,6\" style=\"stroke: #000000; stroke-width: 1.5;\"/><line style=\"stroke: #000000; stroke-width: 1.5;\" x1=\"16\" x2=\"141\" y1=\"28.2969\" y2=\"28.2969\"/><text fill=\"#000000\" font-family=\"sans-serif\" font-size=\"14\" font-weight=\"bold\" lengthAdjust=\"spacingAndGlyphs\" textLength=\"112\" x=\"20\" y=\"20.9951\">OccurrenceTest</text></a><!--MD5=[b4997ac47864f28c2f74865a473b2911]\n",
       "class E2--><a href=\"psysml:77ba500d-77fd-484e-b411-8833010da35e\" target=\"_top\" title=\"psysml:77ba500d-77fd-484e-b411-8833010da35e\" xlink:actuate=\"onRequest\" xlink:href=\"psysml:77ba500d-77fd-484e-b411-8833010da35e\" xlink:show=\"new\" xlink:title=\"psysml:77ba500d-77fd-484e-b411-8833010da35e\" xlink:type=\"simple\"><rect fill=\"#FFFFFF\" height=\"75.5469\" id=\"E2\" style=\"stroke: #383838; stroke-width: 1.5;\" width=\"115\" x=\"373.5\" y=\"147\"/><text fill=\"#000000\" font-family=\"sans-serif\" font-size=\"12\" font-style=\"italic\" lengthAdjust=\"spacingAndGlyphs\" textLength=\"113\" x=\"374.5\" y=\"163.1387\">«occurrence  def»</text><text fill=\"#000000\" font-family=\"sans-serif\" font-size=\"12\" lengthAdjust=\"spacingAndGlyphs\" textLength=\"23\" x=\"419.5\" y=\"177.1074\">Occ</text><line style=\"stroke: #383838; stroke-width: 1.5;\" x1=\"374.5\" x2=\"487.5\" y1=\"184.9375\" y2=\"184.9375\"/><text fill=\"#000000\" font-family=\"sans-serif\" font-size=\"11\" lengthAdjust=\"spacingAndGlyphs\" textLength=\"7\" x=\"379.5\" y=\"215.9526\">a</text><line style=\"stroke: #383838; stroke-width: 1.0;\" x1=\"374.5\" x2=\"403.5\" y1=\"199.3398\" y2=\"199.3398\"/><text fill=\"#000000\" font-family=\"sans-serif\" font-size=\"11\" lengthAdjust=\"spacingAndGlyphs\" textLength=\"55\" x=\"403.5\" y=\"202.6479\">attributes</text><line style=\"stroke: #383838; stroke-width: 1.0;\" x1=\"458.5\" x2=\"487.5\" y1=\"199.3398\" y2=\"199.3398\"/></a><!--MD5=[09b614a08d8cba4a07c9adeb5e0fee81]\n",
       "class E3--><a href=\"psysml:37011562-c12e-4ce2-bbf9-af5619a300f0\" target=\"_top\" title=\"psysml:37011562-c12e-4ce2-bbf9-af5619a300f0\" xlink:actuate=\"onRequest\" xlink:href=\"psysml:37011562-c12e-4ce2-bbf9-af5619a300f0\" xlink:show=\"new\" xlink:title=\"psysml:37011562-c12e-4ce2-bbf9-af5619a300f0\" xlink:type=\"simple\"><rect fill=\"#FFFFFF\" height=\"45.9375\" id=\"E3\" rx=\"10\" ry=\"10\" style=\"stroke: #383838; stroke-width: 1.5;\" width=\"87\" x=\"279.5\" y=\"283\"/><text fill=\"#000000\" font-family=\"sans-serif\" font-size=\"12\" font-style=\"italic\" lengthAdjust=\"spacingAndGlyphs\" textLength=\"85\" x=\"280.5\" y=\"299.1387\">«occurrence»</text><text fill=\"#000000\" font-family=\"sans-serif\" font-size=\"12\" lengthAdjust=\"spacingAndGlyphs\" textLength=\"61\" x=\"290.5\" y=\"313.1074\">occ1: Occ</text><line style=\"stroke: #383838; stroke-width: 1.5;\" x1=\"280.5\" x2=\"365.5\" y1=\"320.9375\" y2=\"320.9375\"/></a><!--MD5=[ebbe1d658d1005bcc118a6aa81145e00]\n",
       "class E4--><a href=\"psysml:3522e0a2-d0dd-4c95-916a-e9f89fbadd86\" target=\"_top\" title=\"psysml:3522e0a2-d0dd-4c95-916a-e9f89fbadd86\" xlink:actuate=\"onRequest\" xlink:href=\"psysml:3522e0a2-d0dd-4c95-916a-e9f89fbadd86\" xlink:show=\"new\" xlink:title=\"psysml:3522e0a2-d0dd-4c95-916a-e9f89fbadd86\" xlink:type=\"simple\"><rect fill=\"#FFFFFF\" height=\"45.9375\" id=\"E4\" rx=\"10\" ry=\"10\" style=\"stroke: #383838; stroke-width: 1.5;\" width=\"87\" x=\"401.5\" y=\"283\"/><text fill=\"#000000\" font-family=\"sans-serif\" font-size=\"12\" font-style=\"italic\" lengthAdjust=\"spacingAndGlyphs\" textLength=\"85\" x=\"402.5\" y=\"299.1387\">«occurrence»</text><text fill=\"#000000\" font-family=\"sans-serif\" font-size=\"12\" lengthAdjust=\"spacingAndGlyphs\" textLength=\"61\" x=\"412.5\" y=\"313.1074\">occ2: Occ</text><line style=\"stroke: #383838; stroke-width: 1.5;\" x1=\"402.5\" x2=\"487.5\" y1=\"320.9375\" y2=\"320.9375\"/></a><!--MD5=[270fce915f116d4de14055a7c1d9a0f3]\n",
       "class E5--><a href=\"psysml:2ba1b44f-ac88-49ba-a1da-8edc5df2da3a\" target=\"_top\" title=\"psysml:2ba1b44f-ac88-49ba-a1da-8edc5df2da3a\" xlink:actuate=\"onRequest\" xlink:href=\"psysml:2ba1b44f-ac88-49ba-a1da-8edc5df2da3a\" xlink:show=\"new\" xlink:title=\"psysml:2ba1b44f-ac88-49ba-a1da-8edc5df2da3a\" xlink:type=\"simple\"><rect fill=\"#FFFFFF\" height=\"45.9375\" id=\"E5\" rx=\"10\" ry=\"10\" style=\"stroke: #383838; stroke-width: 1.5;\" width=\"212\" x=\"524\" y=\"283\"/><text fill=\"#000000\" font-family=\"sans-serif\" font-size=\"12\" font-style=\"italic\" lengthAdjust=\"spacingAndGlyphs\" textLength=\"210\" x=\"525\" y=\"299.1387\">«individual snapshot occurrence»</text><text fill=\"#000000\" font-family=\"sans-serif\" font-size=\"12\" lengthAdjust=\"spacingAndGlyphs\" textLength=\"34\" x=\"611\" y=\"313.1074\">s: Ind</text><line style=\"stroke: #383838; stroke-width: 1.5;\" x1=\"525\" x2=\"735\" y1=\"320.9375\" y2=\"320.9375\"/></a><!--MD5=[60a26617385b1d2d0262a64233df1f8d]\n",
       "class E6--><a href=\"psysml:aefaf76d-f241-48e8-80ea-b99598299972\" target=\"_top\" title=\"psysml:aefaf76d-f241-48e8-80ea-b99598299972\" xlink:actuate=\"onRequest\" xlink:href=\"psysml:aefaf76d-f241-48e8-80ea-b99598299972\" xlink:show=\"new\" xlink:title=\"psysml:aefaf76d-f241-48e8-80ea-b99598299972\" xlink:type=\"simple\"><rect fill=\"#FFFFFF\" height=\"45.9375\" id=\"E6\" rx=\"10\" ry=\"10\" style=\"stroke: #383838; stroke-width: 1.5;\" width=\"146\" x=\"771\" y=\"283\"/><text fill=\"#000000\" font-family=\"sans-serif\" font-size=\"12\" font-style=\"italic\" lengthAdjust=\"spacingAndGlyphs\" textLength=\"144\" x=\"772\" y=\"299.1387\">«timeslice occurrence»</text><text fill=\"#000000\" font-family=\"sans-serif\" font-size=\"12\" lengthAdjust=\"spacingAndGlyphs\" textLength=\"5\" x=\"839.5\" y=\"313.1074\">t</text><line style=\"stroke: #383838; stroke-width: 1.5;\" x1=\"772\" x2=\"916\" y1=\"320.9375\" y2=\"320.9375\"/></a><!--MD5=[2156ba9850f5573cc1fc38a6a4b2f02b]\n",
       "class E7--><a href=\"psysml:991e81ed-291b-4563-955c-44288cc9fc81\" target=\"_top\" title=\"psysml:991e81ed-291b-4563-955c-44288cc9fc81\" xlink:actuate=\"onRequest\" xlink:href=\"psysml:991e81ed-291b-4563-955c-44288cc9fc81\" xlink:show=\"new\" xlink:title=\"psysml:991e81ed-291b-4563-955c-44288cc9fc81\" xlink:type=\"simple\"><rect fill=\"#FFFFFF\" height=\"45.9375\" id=\"E7\" style=\"stroke: #383838; stroke-width: 1.5;\" width=\"177\" x=\"541.5\" y=\"389\"/><text fill=\"#000000\" font-family=\"sans-serif\" font-size=\"12\" font-style=\"italic\" lengthAdjust=\"spacingAndGlyphs\" textLength=\"175\" x=\"542.5\" y=\"405.1387\">«individual occurrence  def»</text><text fill=\"#000000\" font-family=\"sans-serif\" font-size=\"12\" lengthAdjust=\"spacingAndGlyphs\" textLength=\"19\" x=\"620.5\" y=\"419.1074\">Ind</text><line style=\"stroke: #383838; stroke-width: 1.5;\" x1=\"542.5\" x2=\"717.5\" y1=\"426.9375\" y2=\"426.9375\"/></a><!--MD5=[b9389687b975829384b498ac4b7476b2]\n",
       "class E8--><a href=\"psysml:fb7dbc0d-a670-4e6d-a2b6-24a9a70c023a\" target=\"_top\" title=\"psysml:fb7dbc0d-a670-4e6d-a2b6-24a9a70c023a\" xlink:actuate=\"onRequest\" xlink:href=\"psysml:fb7dbc0d-a670-4e6d-a2b6-24a9a70c023a\" xlink:show=\"new\" xlink:title=\"psysml:fb7dbc0d-a670-4e6d-a2b6-24a9a70c023a\" xlink:type=\"simple\"><rect fill=\"#FFFFFF\" height=\"45.9375\" id=\"E8\" rx=\"10\" ry=\"10\" style=\"stroke: #383838; stroke-width: 1.5;\" width=\"150\" x=\"463\" y=\"495\"/><text fill=\"#000000\" font-family=\"sans-serif\" font-size=\"12\" font-style=\"italic\" lengthAdjust=\"spacingAndGlyphs\" textLength=\"148\" x=\"464\" y=\"511.1387\">«snapshot occurrence»</text><text fill=\"#000000\" font-family=\"sans-serif\" font-size=\"12\" lengthAdjust=\"spacingAndGlyphs\" textLength=\"15\" x=\"528.5\" y=\"525.1074\">s2</text><line style=\"stroke: #383838; stroke-width: 1.5;\" x1=\"464\" x2=\"612\" y1=\"532.9375\" y2=\"532.9375\"/></a><!--MD5=[fd4143e9d270a159db93a4ea2a975926]\n",
       "class E9--><a href=\"psysml:ae0fd4ea-8dc7-4cb0-a32c-5615a8f756eb\" target=\"_top\" title=\"psysml:ae0fd4ea-8dc7-4cb0-a32c-5615a8f756eb\" xlink:actuate=\"onRequest\" xlink:href=\"psysml:ae0fd4ea-8dc7-4cb0-a32c-5615a8f756eb\" xlink:show=\"new\" xlink:title=\"psysml:ae0fd4ea-8dc7-4cb0-a32c-5615a8f756eb\" xlink:type=\"simple\"><rect fill=\"#FFFFFF\" height=\"45.9375\" id=\"E9\" rx=\"10\" ry=\"10\" style=\"stroke: #383838; stroke-width: 1.5;\" width=\"146\" x=\"648\" y=\"495\"/><text fill=\"#000000\" font-family=\"sans-serif\" font-size=\"12\" font-style=\"italic\" lengthAdjust=\"spacingAndGlyphs\" textLength=\"144\" x=\"649\" y=\"511.1387\">«timeslice occurrence»</text><text fill=\"#000000\" font-family=\"sans-serif\" font-size=\"12\" lengthAdjust=\"spacingAndGlyphs\" textLength=\"13\" x=\"712.5\" y=\"525.1074\">t2</text><line style=\"stroke: #383838; stroke-width: 1.5;\" x1=\"649\" x2=\"793\" y1=\"532.9375\" y2=\"532.9375\"/></a><!--MD5=[96f4274e9e20536e775497830990834d]\n",
       "class E10--><a href=\"psysml:90168d9a-6358-4939-88d7-8ec9974b52c6\" target=\"_top\" title=\"psysml:90168d9a-6358-4939-88d7-8ec9974b52c6\" xlink:actuate=\"onRequest\" xlink:href=\"psysml:90168d9a-6358-4939-88d7-8ec9974b52c6\" xlink:show=\"new\" xlink:title=\"psysml:90168d9a-6358-4939-88d7-8ec9974b52c6\" xlink:type=\"simple\"><rect fill=\"#FFFFFF\" height=\"45.9375\" id=\"E10\" rx=\"10\" ry=\"10\" style=\"stroke: #383838; stroke-width: 1.5;\" width=\"149\" x=\"505.5\" y=\"41\"/><text fill=\"#000000\" font-family=\"sans-serif\" font-size=\"12\" font-style=\"italic\" lengthAdjust=\"spacingAndGlyphs\" textLength=\"147\" x=\"506.5\" y=\"57.1387\">«individual occurrence»</text><text fill=\"#000000\" font-family=\"sans-serif\" font-size=\"12\" lengthAdjust=\"spacingAndGlyphs\" textLength=\"77\" x=\"539.5\" y=\"71.1074\">ind: Ind, Occ</text><line style=\"stroke: #383838; stroke-width: 1.5;\" x1=\"506.5\" x2=\"653.5\" y1=\"78.9375\" y2=\"78.9375\"/></a><!--MD5=[1dd1bfd58a279cf63c5f349dbc8fc6a1]\n",
       "class E11--><a href=\"psysml:d0eba55f-a402-4b22-88ba-9857d6bd50ac\" target=\"_top\" title=\"psysml:d0eba55f-a402-4b22-88ba-9857d6bd50ac\" xlink:actuate=\"onRequest\" xlink:href=\"psysml:d0eba55f-a402-4b22-88ba-9857d6bd50ac\" xlink:show=\"new\" xlink:title=\"psysml:d0eba55f-a402-4b22-88ba-9857d6bd50ac\" xlink:type=\"simple\"><rect fill=\"#FFFFFF\" height=\"45.9375\" id=\"E11\" rx=\"10\" ry=\"10\" style=\"stroke: #383838; stroke-width: 1.5;\" width=\"150\" x=\"561\" y=\"162\"/><text fill=\"#000000\" font-family=\"sans-serif\" font-size=\"12\" font-style=\"italic\" lengthAdjust=\"spacingAndGlyphs\" textLength=\"148\" x=\"562\" y=\"178.1387\">«snapshot occurrence»</text><text fill=\"#000000\" font-family=\"sans-serif\" font-size=\"12\" lengthAdjust=\"spacingAndGlyphs\" textLength=\"15\" x=\"626.5\" y=\"192.1074\">s3</text><line style=\"stroke: #383838; stroke-width: 1.5;\" x1=\"562\" x2=\"710\" y1=\"199.9375\" y2=\"199.9375\"/></a><!--MD5=[49a0ec8f00dab7302a31f22d0f0fe584]\n",
       "class E12--><a href=\"psysml:0232df4f-93e4-4add-8902-f942e03a0634\" target=\"_top\" title=\"psysml:0232df4f-93e4-4add-8902-f942e03a0634\" xlink:actuate=\"onRequest\" xlink:href=\"psysml:0232df4f-93e4-4add-8902-f942e03a0634\" xlink:show=\"new\" xlink:title=\"psysml:0232df4f-93e4-4add-8902-f942e03a0634\" xlink:type=\"simple\"><rect fill=\"#FFFFFF\" height=\"45.9375\" id=\"E12\" rx=\"10\" ry=\"10\" style=\"stroke: #383838; stroke-width: 1.5;\" width=\"208\" x=\"746\" y=\"162\"/><text fill=\"#000000\" font-family=\"sans-serif\" font-size=\"12\" font-style=\"italic\" lengthAdjust=\"spacingAndGlyphs\" textLength=\"206\" x=\"747\" y=\"178.1387\">«individual timeslice occurrence»</text><text fill=\"#000000\" font-family=\"sans-serif\" font-size=\"12\" lengthAdjust=\"spacingAndGlyphs\" textLength=\"13\" x=\"841.5\" y=\"192.1074\">t3</text><line style=\"stroke: #383838; stroke-width: 1.5;\" x1=\"747\" x2=\"953\" y1=\"199.9375\" y2=\"199.9375\"/></a><!--MD5=[ee3c913d1a06f366521f9ef512b67efe]\n",
       "class E13--><a href=\"psysml:5cbde71f-e2d0-40cd-91ed-92f5bc776eb7\" target=\"_top\" title=\"psysml:5cbde71f-e2d0-40cd-91ed-92f5bc776eb7\" xlink:actuate=\"onRequest\" xlink:href=\"psysml:5cbde71f-e2d0-40cd-91ed-92f5bc776eb7\" xlink:show=\"new\" xlink:title=\"psysml:5cbde71f-e2d0-40cd-91ed-92f5bc776eb7\" xlink:type=\"simple\"><rect fill=\"#FFFFFF\" height=\"45.9375\" id=\"E13\" rx=\"10\" ry=\"10\" style=\"stroke: #383838; stroke-width: 1.5;\" width=\"212\" x=\"32\" y=\"283\"/><text fill=\"#000000\" font-family=\"sans-serif\" font-size=\"12\" font-style=\"italic\" lengthAdjust=\"spacingAndGlyphs\" textLength=\"210\" x=\"33\" y=\"299.1387\">«individual snapshot occurrence»</text><text fill=\"#000000\" font-family=\"sans-serif\" font-size=\"12\" lengthAdjust=\"spacingAndGlyphs\" textLength=\"42\" x=\"115\" y=\"313.1074\">s4: Ind</text><line style=\"stroke: #383838; stroke-width: 1.5;\" x1=\"33\" x2=\"243\" y1=\"320.9375\" y2=\"320.9375\"/></a><!--MD5=[209b3feb70ccb6233bfe1053d122c12c]\n",
       "reverse link E2 to E3--><a href=\"psysml:111e77a4-44f2-45ac-862d-a1e02a1cad26\" target=\"_top\" title=\"psysml:111e77a4-44f2-45ac-862d-a1e02a1cad26\" xlink:actuate=\"onRequest\" xlink:href=\"psysml:111e77a4-44f2-45ac-862d-a1e02a1cad26\" xlink:show=\"new\" xlink:title=\"psysml:111e77a4-44f2-45ac-862d-a1e02a1cad26\" xlink:type=\"simple\"><path d=\"M376.37,232.45 C359.85,249.83 343.43,268.76 332.86,282.93 \" fill=\"none\" id=\"E2&lt;-E3\" style=\"stroke: #383838; stroke-width: 1.0;\"/><polygon fill=\"#FFFFFF\" points=\"385.52,223,378.4729,224.5294,377.1743,231.6226,384.2213,230.0932,385.52,223\" style=\"stroke: #383838; stroke-width: 1.0;\"/></a><!--MD5=[05d275557350bfb9b23a4ef7222b4c39]\n",
       "link E3 to E2--><a href=\"psysml:0f45e557-8f0e-4df9-b1d8-28bd2526f5a3\" target=\"_top\" title=\"psysml:0f45e557-8f0e-4df9-b1d8-28bd2526f5a3\" xlink:actuate=\"onRequest\" xlink:href=\"psysml:0f45e557-8f0e-4df9-b1d8-28bd2526f5a3\" xlink:show=\"new\" xlink:title=\"psysml:0f45e557-8f0e-4df9-b1d8-28bd2526f5a3\" xlink:type=\"simple\"><path d=\"M353.8,282.93 C367.38,270.34 383.11,253.98 396.95,238.29 \" fill=\"none\" id=\"E3-&gt;E2\" style=\"stroke: #383838; stroke-width: 1.0;\"/><polygon fill=\"#FFFFFF\" points=\"410.02,223,403.0007,241.9929,392.3563,232.8991,410.02,223\" style=\"stroke: #383838; stroke-width: 1.0;\"/><ellipse cx=\"397.7776\" cy=\"245.0276\" fill=\"#383838\" rx=\"2\" ry=\"2\" style=\"stroke: #383838; stroke-width: 1.0;\"/><ellipse cx=\"390.1744\" cy=\"238.532\" fill=\"#383838\" rx=\"2\" ry=\"2\" style=\"stroke: #383838; stroke-width: 1.0;\"/></a><!--MD5=[9618e71518536f8baf3342ff6fdab317]\n",
       "reverse link E2 to E4--><a href=\"psysml:7f5381ff-79d6-4175-8599-1b084d5a38fb\" target=\"_top\" title=\"psysml:7f5381ff-79d6-4175-8599-1b084d5a38fb\" xlink:actuate=\"onRequest\" xlink:href=\"psysml:7f5381ff-79d6-4175-8599-1b084d5a38fb\" xlink:show=\"new\" xlink:title=\"psysml:7f5381ff-79d6-4175-8599-1b084d5a38fb\" xlink:type=\"simple\"><path d=\"M424.31,236.34 C425.74,252.61 428.58,269.81 432.23,282.93 \" fill=\"none\" id=\"E2&lt;-E4\" style=\"stroke: #383838; stroke-width: 1.0;\"/><polygon fill=\"#383838\" points=\"423.45,223,419.8475,229.2467,424.2281,234.9747,427.8306,228.728,423.45,223\" style=\"stroke: #383838; stroke-width: 1.0;\"/></a><!--MD5=[185131fc0dcab0a4505a2ebe144e961b]\n",
       "link E4 to E2--><a href=\"psysml:9af83ecd-fc65-4272-8374-c2ac75a0337a\" target=\"_top\" title=\"psysml:9af83ecd-fc65-4272-8374-c2ac75a0337a\" xlink:actuate=\"onRequest\" xlink:href=\"psysml:9af83ecd-fc65-4272-8374-c2ac75a0337a\" xlink:show=\"new\" xlink:title=\"psysml:9af83ecd-fc65-4272-8374-c2ac75a0337a\" xlink:type=\"simple\"><path d=\"M453.17,282.93 C453.77,271.65 452.99,257.34 451.22,243.21 \" fill=\"none\" id=\"E4-&gt;E2\" style=\"stroke: #383838; stroke-width: 1.0;\"/><polygon fill=\"#FFFFFF\" points=\"447.96,223,457.8973,240.6423,444.0761,242.8725,447.96,223\" style=\"stroke: #383838; stroke-width: 1.0;\"/><ellipse cx=\"456.8309\" cy=\"246.5881\" fill=\"#383838\" rx=\"2\" ry=\"2\" style=\"stroke: #383838; stroke-width: 1.0;\"/><ellipse cx=\"446.9586\" cy=\"248.1811\" fill=\"#383838\" rx=\"2\" ry=\"2\" style=\"stroke: #383838; stroke-width: 1.0;\"/></a><!--MD5=[4e1a83fab71cdb913c109063314ae896]\n",
       "reverse link E2 to E5--><a href=\"psysml:648e9e41-ac7c-450e-af70-439d81f3f540\" target=\"_top\" title=\"psysml:648e9e41-ac7c-450e-af70-439d81f3f540\" xlink:actuate=\"onRequest\" xlink:href=\"psysml:648e9e41-ac7c-450e-af70-439d81f3f540\" xlink:show=\"new\" xlink:title=\"psysml:648e9e41-ac7c-450e-af70-439d81f3f540\" xlink:type=\"simple\"><path d=\"M499.85,227.17 C531.12,245.87 566.86,267.24 592.97,282.85 \" fill=\"none\" id=\"E2&lt;-E5\" style=\"stroke: #383838; stroke-width: 1.0;\"/><polygon fill=\"#383838\" points=\"488.56,220.42,491.6568,226.9323,498.8592,226.5784,495.7624,220.0661,488.56,220.42\" style=\"stroke: #383838; stroke-width: 1.0;\"/></a><!--MD5=[ce036f65110ae2351ccce5a81dc2e928]\n",
       "reverse link E2 to E6--><a href=\"psysml:00b8b9a4-593e-406d-b505-212ff2a7c9c1\" target=\"_top\" title=\"psysml:00b8b9a4-593e-406d-b505-212ff2a7c9c1\" xlink:actuate=\"onRequest\" xlink:href=\"psysml:00b8b9a4-593e-406d-b505-212ff2a7c9c1\" xlink:show=\"new\" xlink:title=\"psysml:00b8b9a4-593e-406d-b505-212ff2a7c9c1\" xlink:type=\"simple\"><path d=\"M501.02,217.55 C506.06,219.49 511.08,221.33 516,223 C528.19,227.15 677.82,264.14 770.71,287 \" fill=\"none\" id=\"E2&lt;-E6\" style=\"stroke: #383838; stroke-width: 1.0;\"/><polygon fill=\"#383838\" points=\"488.57,212.58,492.6577,218.5206,499.7135,217.0321,495.6258,211.0916,488.57,212.58\" style=\"stroke: #383838; stroke-width: 1.0;\"/></a><!--MD5=[3a9b96bfbf6b6ad89c494e81751bda47]\n",
       "link E5 to E7--><a href=\"psysml:088b8ee7-f1bc-4574-b816-43bcf4f14b77\" target=\"_top\" title=\"psysml:088b8ee7-f1bc-4574-b816-43bcf4f14b77\" xlink:actuate=\"onRequest\" xlink:href=\"psysml:088b8ee7-f1bc-4574-b816-43bcf4f14b77\" xlink:show=\"new\" xlink:title=\"psysml:088b8ee7-f1bc-4574-b816-43bcf4f14b77\" xlink:type=\"simple\"><path d=\"M630,329.06 C630,340.64 630,355.23 630,368.87 \" fill=\"none\" id=\"E5-&gt;E7\" style=\"stroke: #383838; stroke-width: 1.0;\"/><polygon fill=\"#FFFFFF\" points=\"630,388.98,623,369.98,637,369.98,630,388.98\" style=\"stroke: #383838; stroke-width: 1.0;\"/><ellipse cx=\"625\" cy=\"364.28\" fill=\"#383838\" rx=\"2\" ry=\"2\" style=\"stroke: #383838; stroke-width: 1.0;\"/><ellipse cx=\"635\" cy=\"364.28\" fill=\"#383838\" rx=\"2\" ry=\"2\" style=\"stroke: #383838; stroke-width: 1.0;\"/></a><!--MD5=[dc164f5e8a733ab456ef1add180e9e34]\n",
       "reverse link E7 to E8--><a href=\"psysml:c8813ef9-ffa9-4c9d-80a4-dd20f6c80ea5\" target=\"_top\" title=\"psysml:c8813ef9-ffa9-4c9d-80a4-dd20f6c80ea5\" xlink:actuate=\"onRequest\" xlink:href=\"psysml:c8813ef9-ffa9-4c9d-80a4-dd20f6c80ea5\" xlink:show=\"new\" xlink:title=\"psysml:c8813ef9-ffa9-4c9d-80a4-dd20f6c80ea5\" xlink:type=\"simple\"><path d=\"M601.55,445.16 C587.25,461.33 570.28,480.51 557.48,494.98 \" fill=\"none\" id=\"E7&lt;-E8\" style=\"stroke: #383838; stroke-width: 1.0;\"/><polygon fill=\"#383838\" points=\"610.49,435.06,603.5177,436.9004,602.5348,444.0442,609.5071,442.2038,610.49,435.06\" style=\"stroke: #383838; stroke-width: 1.0;\"/></a><!--MD5=[e4a10ef82d0e328e31cac39a31e58dda]\n",
       "reverse link E7 to E9--><a href=\"psysml:cdca8d7c-6aa5-4fff-9e0e-900e3ba85343\" target=\"_top\" title=\"psysml:cdca8d7c-6aa5-4fff-9e0e-900e3ba85343\" xlink:actuate=\"onRequest\" xlink:href=\"psysml:cdca8d7c-6aa5-4fff-9e0e-900e3ba85343\" xlink:show=\"new\" xlink:title=\"psysml:cdca8d7c-6aa5-4fff-9e0e-900e3ba85343\" xlink:type=\"simple\"><path d=\"M658.14,445.16 C672.29,461.33 689.07,480.51 701.73,494.98 \" fill=\"none\" id=\"E7&lt;-E9\" style=\"stroke: #383838; stroke-width: 1.0;\"/><polygon fill=\"#383838\" points=\"649.3,435.06,650.2496,442.2083,657.2133,444.0811,656.2637,436.9328,649.3,435.06\" style=\"stroke: #383838; stroke-width: 1.0;\"/></a><!--MD5=[a919e0967d6f3de553dc51b9865a1d6d]\n",
       "link E10 to E7--><a href=\"psysml:43f26010-ca40-42d6-8df0-e4847d82fc63\" target=\"_top\" title=\"psysml:43f26010-ca40-42d6-8df0-e4847d82fc63\" xlink:actuate=\"onRequest\" xlink:href=\"psysml:43f26010-ca40-42d6-8df0-e4847d82fc63\" xlink:show=\"new\" xlink:title=\"psysml:43f26010-ca40-42d6-8df0-e4847d82fc63\" xlink:type=\"simple\"><path d=\"M564.36,87.23 C542.92,120.68 510.65,184.15 544,223 C658.5,356.41 820.5,149.59 935,283 C997.3,355.58 849.41,387.9 738.47,401.63 \" fill=\"none\" id=\"E10-&gt;E7\" style=\"stroke: #383838; stroke-width: 1.0;\"/><polygon fill=\"#FFFFFF\" points=\"718.6,403.94,736.6627,394.7891,738.2822,408.6951,718.6,403.94\" style=\"stroke: #383838; stroke-width: 1.0;\"/><ellipse cx=\"742.5558\" cy=\"396.1162\" fill=\"#383838\" rx=\"2\" ry=\"2\" style=\"stroke: #383838; stroke-width: 1.0;\"/><ellipse cx=\"743.7126\" cy=\"406.0491\" fill=\"#383838\" rx=\"2\" ry=\"2\" style=\"stroke: #383838; stroke-width: 1.0;\"/></a><!--MD5=[0f36bececdf0dff6e600d6f64214b0f1]\n",
       "link E10 to E2--><a href=\"psysml:ac89f7fb-b091-4bc7-aaea-6377fc157ffe\" target=\"_top\" title=\"psysml:ac89f7fb-b091-4bc7-aaea-6377fc157ffe\" xlink:actuate=\"onRequest\" xlink:href=\"psysml:ac89f7fb-b091-4bc7-aaea-6377fc157ffe\" xlink:show=\"new\" xlink:title=\"psysml:ac89f7fb-b091-4bc7-aaea-6377fc157ffe\" xlink:type=\"simple\"><path d=\"M552.32,87.1 C535.71,100.38 513.86,117.82 493.29,134.25 \" fill=\"none\" id=\"E10-&gt;E2\" style=\"stroke: #383838; stroke-width: 1.0;\"/><polygon fill=\"#FFFFFF\" points=\"477.56,146.81,488.0352,129.4817,496.7737,140.4197,477.56,146.81\" style=\"stroke: #383838; stroke-width: 1.0;\"/><ellipse cx=\"493.7369\" cy=\"127.4865\" fill=\"#383838\" rx=\"2\" ry=\"2\" style=\"stroke: #383838; stroke-width: 1.0;\"/><ellipse cx=\"499.9786\" cy=\"135.2994\" fill=\"#383838\" rx=\"2\" ry=\"2\" style=\"stroke: #383838; stroke-width: 1.0;\"/></a><!--MD5=[de308be4a2431766a05a907a031c07fc]\n",
       "reverse link E10 to E11--><a href=\"psysml:75c081c5-05e2-401c-b103-d900689a3a49\" target=\"_top\" title=\"psysml:75c081c5-05e2-401c-b103-d900689a3a49\" xlink:actuate=\"onRequest\" xlink:href=\"psysml:75c081c5-05e2-401c-b103-d900689a3a49\" xlink:show=\"new\" xlink:title=\"psysml:75c081c5-05e2-401c-b103-d900689a3a49\" xlink:type=\"simple\"><path d=\"M595.95,98.9 C605.42,119.01 617.15,143.94 625.46,161.61 \" fill=\"none\" id=\"E10&lt;-E11\" style=\"stroke: #383838; stroke-width: 1.0;\"/><polygon fill=\"#383838\" points=\"590.4,87.1,589.3334,94.2318,595.5064,97.9593,596.573,90.8275,590.4,87.1\" style=\"stroke: #383838; stroke-width: 1.0;\"/></a><!--MD5=[1d54f998c6d5961a1a9184be73a7eb6c]\n",
       "reverse link E10 to E12--><a href=\"psysml:54130436-8b1f-4706-a610-d99b2d4cb5d4\" target=\"_top\" title=\"psysml:54130436-8b1f-4706-a610-d99b2d4cb5d4\" xlink:actuate=\"onRequest\" xlink:href=\"psysml:54130436-8b1f-4706-a610-d99b2d4cb5d4\" xlink:show=\"new\" xlink:title=\"psysml:54130436-8b1f-4706-a610-d99b2d4cb5d4\" xlink:type=\"simple\"><path d=\"M642.21,92.42 C689.99,113.48 755.13,142.19 799.66,161.81 \" fill=\"none\" id=\"E10&lt;-E12\" style=\"stroke: #383838; stroke-width: 1.0;\"/><polygon fill=\"#383838\" points=\"630.15,87.1,634.028,93.1796,641.1314,91.9382,637.2534,85.8586,630.15,87.1\" style=\"stroke: #383838; stroke-width: 1.0;\"/></a><!--MD5=[4a48077df6499cfcd20b62e8f5f37904]\n",
       "link E13 to E7--><a href=\"psysml:85f16706-e1b7-404d-9ee5-57d420bfb7f2\" target=\"_top\" title=\"psysml:85f16706-e1b7-404d-9ee5-57d420bfb7f2\" xlink:actuate=\"onRequest\" xlink:href=\"psysml:85f16706-e1b7-404d-9ee5-57d420bfb7f2\" xlink:show=\"new\" xlink:title=\"psysml:85f16706-e1b7-404d-9ee5-57d420bfb7f2\" xlink:type=\"simple\"><path d=\"M242.34,329.06 C324.51,346.43 438.67,370.56 521.82,388.13 \" fill=\"none\" id=\"E13-&gt;E7\" style=\"stroke: #383838; stroke-width: 1.0;\"/><polygon fill=\"#FFFFFF\" points=\"541.45,392.28,521.4143,395.2075,524.304,381.509,541.45,392.28\" style=\"stroke: #383838; stroke-width: 1.0;\"/><ellipse cx=\"516.2498\" cy=\"392.0741\" fill=\"#383838\" rx=\"2\" ry=\"2\" style=\"stroke: #383838; stroke-width: 1.0;\"/><ellipse cx=\"518.3139\" cy=\"382.2894\" fill=\"#383838\" rx=\"2\" ry=\"2\" style=\"stroke: #383838; stroke-width: 1.0;\"/></a><!--MD5=[9dbf3cd78cc159357ebf7dc210f4aac1]\n",
       "@startuml\r\n",
       " skinparam monochrome true\r\n",
       "skinparam classbackgroundcolor white\r\n",
       "skinparam shadowing false\r\n",
       "skinparam wrapWidth 300\r\n",
       "hide circle\r\n",
       "\r\n",
       "package \"OccurrenceTest\" as E1  [[psysml:53f1d42d-2686-4f4b-950f-b84b40bc19b2 ]]  {\r\n",
       "comp def \"Occ\" as E2  <<(T,blue) occurrence  def>> [[psysml:77ba500d-77fd-484e-b411-8833010da35e ]] {\r\n",
       "- - attributes - -\r\n",
       "a\r\n",
       "}\r\n",
       "comp usage \"occ1: Occ \" as E3  <<(T,blue) occurrence>> [[psysml:37011562-c12e-4ce2-bbf9-af5619a300f0 ]] {\r\n",
       "}\r\n",
       "comp usage \"occ2: Occ \" as E4  <<(T,blue) occurrence>> [[psysml:3522e0a2-d0dd-4c95-916a-e9f89fbadd86 ]] {\r\n",
       "}\r\n",
       "comp usage \"s: Ind \" as E5  <<(T,blue) individual snapshot occurrence>> [[psysml:2ba1b44f-ac88-49ba-a1da-8edc5df2da3a ]] {\r\n",
       "}\r\n",
       "comp usage \"t \" as E6  <<(T,blue) timeslice occurrence>> [[psysml:aefaf76d-f241-48e8-80ea-b99598299972 ]] {\r\n",
       "}\r\n",
       "comp def \"Ind\" as E7  <<(T,blue) individual occurrence  def>> [[psysml:991e81ed-291b-4563-955c-44288cc9fc81 ]] {\r\n",
       "}\r\n",
       "comp usage \"s2 \" as E8  <<(T,blue) snapshot occurrence>> [[psysml:fb7dbc0d-a670-4e6d-a2b6-24a9a70c023a ]] {\r\n",
       "}\r\n",
       "comp usage \"t2 \" as E9  <<(T,blue) timeslice occurrence>> [[psysml:ae0fd4ea-8dc7-4cb0-a32c-5615a8f756eb ]] {\r\n",
       "}\r\n",
       "comp usage \"ind: Ind, Occ \" as E10  <<(T,blue) individual occurrence>> [[psysml:90168d9a-6358-4939-88d7-8ec9974b52c6 ]] {\r\n",
       "}\r\n",
       "comp usage \"s3 \" as E11  <<(T,blue) snapshot occurrence>> [[psysml:d0eba55f-a402-4b22-88ba-9857d6bd50ac ]] {\r\n",
       "}\r\n",
       "comp usage \"t3 \" as E12  <<(T,blue) individual timeslice occurrence>> [[psysml:0232df4f-93e4-4add-8902-f942e03a0634 ]] {\r\n",
       "}\r\n",
       "comp usage \"s4: Ind \" as E13  <<(T,blue) individual snapshot occurrence>> [[psysml:5cbde71f-e2d0-40cd-91ed-92f5bc776eb7 ]] {\r\n",
       "}\r\n",
       "}\r\n",
       "E2 o- - E3 [[psysml:111e77a4-44f2-45ac-862d-a1e02a1cad26 ]] \r\n",
       "E3 - -:|> E2 [[psysml:0f45e557-8f0e-4df9-b1d8-28bd2526f5a3 ]] \r\n",
       "E2 *- - E4 [[psysml:7f5381ff-79d6-4175-8599-1b084d5a38fb ]] \r\n",
       "E4 - -:|> E2 [[psysml:9af83ecd-fc65-4272-8374-c2ac75a0337a ]] \r\n",
       "E2 *- - E5 [[psysml:648e9e41-ac7c-450e-af70-439d81f3f540 ]] \r\n",
       "E2 *- - E6 [[psysml:00b8b9a4-593e-406d-b505-212ff2a7c9c1 ]] \r\n",
       "E5 - -:|> E7 [[psysml:088b8ee7-f1bc-4574-b816-43bcf4f14b77 ]] \r\n",
       "E7 *- - E8 [[psysml:c8813ef9-ffa9-4c9d-80a4-dd20f6c80ea5 ]] \r\n",
       "E7 *- - E9 [[psysml:cdca8d7c-6aa5-4fff-9e0e-900e3ba85343 ]] \r\n",
       "E10 - -:|> E7 [[psysml:43f26010-ca40-42d6-8df0-e4847d82fc63 ]] \r\n",
       "E10 - -:|> E2 [[psysml:ac89f7fb-b091-4bc7-aaea-6377fc157ffe ]] \r\n",
       "E10 *- - E11 [[psysml:75c081c5-05e2-401c-b103-d900689a3a49 ]] \r\n",
       "E10 *- - E12 [[psysml:54130436-8b1f-4706-a610-d99b2d4cb5d4 ]] \r\n",
       "E13 - -:|> E7 [[psysml:85f16706-e1b7-404d-9ee5-57d420bfb7f2 ]] \r\n",
       "@enduml\r\n",
       "\n",
       "PlantUML version 1.2020.13(Sat Jun 13 12:26:38 UTC 2020)\n",
       "(EPL source distribution)\n",
       "Java Runtime: OpenJDK Runtime Environment\n",
       "JVM: OpenJDK 64-Bit Server VM\n",
       "Default Encoding: UTF-8\n",
       "Language: en\n",
       "Country: null\n",
       "--></g></svg>"
      ]
     },
     "execution_count": 3,
     "metadata": {},
     "output_type": "execute_result"
    }
   ],
   "source": [
    "%viz --style=\"COMPTREE\" --view=\"Tree\" \"OccurrenceTest\""
   ]
  },
  {
   "cell_type": "code",
   "execution_count": 4,
   "id": "31797663",
   "metadata": {
    "execution": {
     "iopub.execute_input": "2022-07-23T10:52:30.501508Z",
     "iopub.status.busy": "2022-07-23T10:52:30.500973Z",
     "iopub.status.idle": "2022-07-23T10:52:30.509814Z",
     "shell.execute_reply": "2022-07-23T10:52:30.510143Z"
    }
   },
   "outputs": [
    {
     "data": {
      "image/svg+xml": [
       "<?xml version=\"1.0\" encoding=\"UTF-8\" standalone=\"no\"?><svg xmlns=\"http://www.w3.org/2000/svg\" xmlns:xlink=\"http://www.w3.org/1999/xlink\" contentScriptType=\"application/ecmascript\" contentStyleType=\"text/css\" height=\"12px\" preserveAspectRatio=\"none\" style=\"width:12px;height:12px;\" version=\"1.1\" viewBox=\"0 0 12 12\" width=\"12px\" zoomAndPan=\"magnify\"><defs/><g><!--MD5=[f19188ef49e11757b5c46753f95d9edc]\n",
       "@startuml\r\n",
       " skinparam monochrome true\r\n",
       "skinparam classbackgroundcolor white\r\n",
       "skinparam shadowing false\r\n",
       "skinparam wrapWidth 300\r\n",
       "hide circle\r\n",
       "\r\n",
       "@enduml\r\n",
       "\n",
       "PlantUML version 1.2020.13(Sat Jun 13 12:26:38 UTC 2020)\n",
       "(EPL source distribution)\n",
       "Java Runtime: OpenJDK Runtime Environment\n",
       "JVM: OpenJDK 64-Bit Server VM\n",
       "Default Encoding: UTF-8\n",
       "Language: en\n",
       "Country: null\n",
       "--></g></svg>"
      ]
     },
     "execution_count": 4,
     "metadata": {},
     "output_type": "execute_result"
    }
   ],
   "source": [
    "%viz --style=\"COMPTREE\" --view=\"State\" \"OccurrenceTest\""
   ]
  },
  {
   "cell_type": "code",
   "execution_count": 5,
   "id": "5e505097",
   "metadata": {
    "execution": {
     "iopub.execute_input": "2022-07-23T10:52:30.560878Z",
     "iopub.status.busy": "2022-07-23T10:52:30.560222Z",
     "iopub.status.idle": "2022-07-23T10:52:30.620281Z",
     "shell.execute_reply": "2022-07-23T10:52:30.619847Z"
    }
   },
   "outputs": [
    {
     "data": {
      "image/svg+xml": [
       "<?xml version=\"1.0\" encoding=\"UTF-8\" standalone=\"no\"?><svg xmlns=\"http://www.w3.org/2000/svg\" xmlns:xlink=\"http://www.w3.org/1999/xlink\" contentScriptType=\"application/ecmascript\" contentStyleType=\"text/css\" height=\"278px\" preserveAspectRatio=\"none\" style=\"width:802px;height:278px;\" version=\"1.1\" viewBox=\"0 0 802 278\" width=\"802px\" zoomAndPan=\"magnify\"><defs/><g><!--MD5=[fbc87193dbaf4d95561dea2c320d4a47]\n",
       "cluster E1--><a href=\"psysml:53f1d42d-2686-4f4b-950f-b84b40bc19b2\" target=\"_top\" title=\"psysml:53f1d42d-2686-4f4b-950f-b84b40bc19b2\" xlink:actuate=\"onRequest\" xlink:href=\"psysml:53f1d42d-2686-4f4b-950f-b84b40bc19b2\" xlink:show=\"new\" xlink:title=\"psysml:53f1d42d-2686-4f4b-950f-b84b40bc19b2\" xlink:type=\"simple\"><polygon fill=\"#FFFFFF\" points=\"16,6,134,6,141,28.2969,780,28.2969,780,266,16,266,16,6\" style=\"stroke: #000000; stroke-width: 1.5;\"/><line style=\"stroke: #000000; stroke-width: 1.5;\" x1=\"16\" x2=\"141\" y1=\"28.2969\" y2=\"28.2969\"/><text fill=\"#000000\" font-family=\"sans-serif\" font-size=\"14\" font-weight=\"bold\" lengthAdjust=\"spacingAndGlyphs\" textLength=\"112\" x=\"20\" y=\"20.9951\">OccurrenceTest</text></a><!--MD5=[f6df4d0ebaf0b5dfb2ced0ae5af7c670]\n",
       "cluster E4--><a href=\"psysml:90168d9a-6358-4939-88d7-8ec9974b52c6\" target=\"_top\" title=\"psysml:90168d9a-6358-4939-88d7-8ec9974b52c6\" xlink:actuate=\"onRequest\" xlink:href=\"psysml:90168d9a-6358-4939-88d7-8ec9974b52c6\" xlink:show=\"new\" xlink:title=\"psysml:90168d9a-6358-4939-88d7-8ec9974b52c6\" xlink:type=\"simple\"><rect fill=\"#FFFFFF\" height=\"126\" id=\"E4\" rx=\"10\" ry=\"10\" style=\"stroke: #383838; stroke-width: 1.5;\" width=\"471\" x=\"277\" y=\"57\"/><rect fill=\"#F8F8F8\" height=\"37.9375\" rx=\"10\" ry=\"10\" style=\"stroke: #F8F8F8; stroke-width: 1.5;\" width=\"471\" x=\"277\" y=\"57\"/><rect fill=\"#F8F8F8\" height=\"10\" style=\"stroke: #F8F8F8; stroke-width: 1.5;\" width=\"471\" x=\"277\" y=\"84.9375\"/><rect fill=\"none\" height=\"126\" id=\"E4\" rx=\"10\" ry=\"10\" style=\"stroke: #383838; stroke-width: 1.5;\" width=\"471\" x=\"277\" y=\"57\"/><text fill=\"#000000\" font-family=\"sans-serif\" font-size=\"12\" font-style=\"italic\" lengthAdjust=\"spacingAndGlyphs\" textLength=\"147\" x=\"439\" y=\"73.1387\">«individual occurrence»</text><text fill=\"#000000\" font-family=\"sans-serif\" font-size=\"12\" lengthAdjust=\"spacingAndGlyphs\" textLength=\"77\" x=\"474\" y=\"87.1074\">ind: Ind, Occ</text><line style=\"stroke: #383838; stroke-width: 1.0;\" x1=\"277\" x2=\"748\" y1=\"94.9375\" y2=\"94.9375\"/></a><g id=\"E1.E2\"><a href=\"psysml:77ba500d-77fd-484e-b411-8833010da35e\" target=\"_top\" title=\"psysml:77ba500d-77fd-484e-b411-8833010da35e\" xlink:actuate=\"onRequest\" xlink:href=\"psysml:77ba500d-77fd-484e-b411-8833010da35e\" xlink:show=\"new\" xlink:title=\"psysml:77ba500d-77fd-484e-b411-8833010da35e\" xlink:type=\"simple\"><rect fill=\"#FFFFFF\" height=\"42.9375\" id=\"E2\" style=\"stroke: #383838; stroke-width: 1.5;\" width=\"120\" x=\"267\" y=\"207\"/><rect fill=\"#F8F8F8\" height=\"37.9375\" style=\"stroke: #383838; stroke-width: 1.5;\" width=\"120\" x=\"267\" y=\"207\"/><text fill=\"#000000\" font-family=\"sans-serif\" font-size=\"12\" font-style=\"italic\" lengthAdjust=\"spacingAndGlyphs\" textLength=\"113\" x=\"270.5\" y=\"223.1387\">«occurrence  def»</text><text fill=\"#000000\" font-family=\"sans-serif\" font-size=\"12\" lengthAdjust=\"spacingAndGlyphs\" textLength=\"23\" x=\"315.5\" y=\"237.1074\">Occ</text></a></g><g id=\"E1.E3\"><a href=\"psysml:991e81ed-291b-4563-955c-44288cc9fc81\" target=\"_top\" title=\"psysml:991e81ed-291b-4563-955c-44288cc9fc81\" xlink:actuate=\"onRequest\" xlink:href=\"psysml:991e81ed-291b-4563-955c-44288cc9fc81\" xlink:show=\"new\" xlink:title=\"psysml:991e81ed-291b-4563-955c-44288cc9fc81\" xlink:type=\"simple\"><rect fill=\"#FFFFFF\" height=\"42.9375\" id=\"E3\" style=\"stroke: #383838; stroke-width: 1.5;\" width=\"182\" x=\"50\" y=\"207\"/><rect fill=\"#F8F8F8\" height=\"37.9375\" style=\"stroke: #383838; stroke-width: 1.5;\" width=\"182\" x=\"50\" y=\"207\"/><text fill=\"#000000\" font-family=\"sans-serif\" font-size=\"12\" font-style=\"italic\" lengthAdjust=\"spacingAndGlyphs\" textLength=\"175\" x=\"53.5\" y=\"223.1387\">«individual occurrence  def»</text><text fill=\"#000000\" font-family=\"sans-serif\" font-size=\"12\" lengthAdjust=\"spacingAndGlyphs\" textLength=\"19\" x=\"131.5\" y=\"237.1074\">Ind</text></a></g><g id=\"E1.E4.E5\"><a href=\"psysml:d0eba55f-a402-4b22-88ba-9857d6bd50ac\" target=\"_top\" title=\"psysml:d0eba55f-a402-4b22-88ba-9857d6bd50ac\" xlink:actuate=\"onRequest\" xlink:href=\"psysml:d0eba55f-a402-4b22-88ba-9857d6bd50ac\" xlink:show=\"new\" xlink:title=\"psysml:d0eba55f-a402-4b22-88ba-9857d6bd50ac\" xlink:type=\"simple\"><rect fill=\"#FFFFFF\" height=\"42.9375\" id=\"E5\" rx=\"10\" ry=\"10\" style=\"stroke: #383838; stroke-width: 1.5;\" width=\"155\" x=\"568.5\" y=\"116\"/><rect fill=\"#F8F8F8\" height=\"37.9375\" rx=\"10\" ry=\"10\" style=\"stroke: #F8F8F8; stroke-width: 1.5;\" width=\"155\" x=\"568.5\" y=\"116\"/><rect fill=\"#F8F8F8\" height=\"10\" style=\"stroke: #F8F8F8; stroke-width: 1.5;\" width=\"155\" x=\"568.5\" y=\"143.9375\"/><rect fill=\"none\" height=\"42.9375\" id=\"E5\" rx=\"10\" ry=\"10\" style=\"stroke: #383838; stroke-width: 1.5;\" width=\"155\" x=\"568.5\" y=\"116\"/><text fill=\"#000000\" font-family=\"sans-serif\" font-size=\"12\" font-style=\"italic\" lengthAdjust=\"spacingAndGlyphs\" textLength=\"148\" x=\"572\" y=\"132.1387\">«snapshot occurrence»</text><text fill=\"#000000\" font-family=\"sans-serif\" font-size=\"12\" lengthAdjust=\"spacingAndGlyphs\" textLength=\"15\" x=\"638.5\" y=\"146.1074\">s3</text></a></g><g id=\"E1.E4.E6\"><a href=\"psysml:0232df4f-93e4-4add-8902-f942e03a0634\" target=\"_top\" title=\"psysml:0232df4f-93e4-4add-8902-f942e03a0634\" xlink:actuate=\"onRequest\" xlink:href=\"psysml:0232df4f-93e4-4add-8902-f942e03a0634\" xlink:show=\"new\" xlink:title=\"psysml:0232df4f-93e4-4add-8902-f942e03a0634\" xlink:type=\"simple\"><rect fill=\"#FFFFFF\" height=\"42.9375\" id=\"E6\" rx=\"10\" ry=\"10\" style=\"stroke: #383838; stroke-width: 1.5;\" width=\"213\" x=\"320.5\" y=\"116\"/><rect fill=\"#F8F8F8\" height=\"37.9375\" rx=\"10\" ry=\"10\" style=\"stroke: #F8F8F8; stroke-width: 1.5;\" width=\"213\" x=\"320.5\" y=\"116\"/><rect fill=\"#F8F8F8\" height=\"10\" style=\"stroke: #F8F8F8; stroke-width: 1.5;\" width=\"213\" x=\"320.5\" y=\"143.9375\"/><rect fill=\"none\" height=\"42.9375\" id=\"E6\" rx=\"10\" ry=\"10\" style=\"stroke: #383838; stroke-width: 1.5;\" width=\"213\" x=\"320.5\" y=\"116\"/><text fill=\"#000000\" font-family=\"sans-serif\" font-size=\"12\" font-style=\"italic\" lengthAdjust=\"spacingAndGlyphs\" textLength=\"206\" x=\"324\" y=\"132.1387\">«individual timeslice occurrence»</text><text fill=\"#000000\" font-family=\"sans-serif\" font-size=\"12\" lengthAdjust=\"spacingAndGlyphs\" textLength=\"13\" x=\"420.5\" y=\"146.1074\">t3</text></a></g><g id=\"E1.E7\"><a href=\"psysml:5cbde71f-e2d0-40cd-91ed-92f5bc776eb7\" target=\"_top\" title=\"psysml:5cbde71f-e2d0-40cd-91ed-92f5bc776eb7\" xlink:actuate=\"onRequest\" xlink:href=\"psysml:5cbde71f-e2d0-40cd-91ed-92f5bc776eb7\" xlink:show=\"new\" xlink:title=\"psysml:5cbde71f-e2d0-40cd-91ed-92f5bc776eb7\" xlink:type=\"simple\"><rect fill=\"#FFFFFF\" height=\"42.9375\" id=\"E7\" rx=\"10\" ry=\"10\" style=\"stroke: #383838; stroke-width: 1.5;\" width=\"217\" x=\"32.5\" y=\"116\"/><rect fill=\"#F8F8F8\" height=\"37.9375\" rx=\"10\" ry=\"10\" style=\"stroke: #F8F8F8; stroke-width: 1.5;\" width=\"217\" x=\"32.5\" y=\"116\"/><rect fill=\"#F8F8F8\" height=\"10\" style=\"stroke: #F8F8F8; stroke-width: 1.5;\" width=\"217\" x=\"32.5\" y=\"143.9375\"/><rect fill=\"none\" height=\"42.9375\" id=\"E7\" rx=\"10\" ry=\"10\" style=\"stroke: #383838; stroke-width: 1.5;\" width=\"217\" x=\"32.5\" y=\"116\"/><text fill=\"#000000\" font-family=\"sans-serif\" font-size=\"12\" font-style=\"italic\" lengthAdjust=\"spacingAndGlyphs\" textLength=\"210\" x=\"36\" y=\"132.1387\">«individual snapshot occurrence»</text><text fill=\"#000000\" font-family=\"sans-serif\" font-size=\"12\" lengthAdjust=\"spacingAndGlyphs\" textLength=\"42\" x=\"120\" y=\"146.1074\">s4: Ind</text></a></g><!--MD5=[f0cdf4548168e5211fb3a02bf679d63a]\n",
       "link E4 to E3--><a href=\"psysml:43f26010-ca40-42d6-8df0-e4847d82fc63\" target=\"_top\" title=\"psysml:43f26010-ca40-42d6-8df0-e4847d82fc63\" xlink:actuate=\"onRequest\" xlink:href=\"psysml:43f26010-ca40-42d6-8df0-e4847d82fc63\" xlink:show=\"new\" xlink:title=\"psysml:43f26010-ca40-42d6-8df0-e4847d82fc63\" xlink:type=\"simple\"><path d=\"M288.6717,183.098 C288.6493,183.1971 288.6265,183.2961 288.6034,183.395 C288.5573,183.5929 288.5099,183.7903 288.4613,183.9873 C288.2668,184.7755 288.0523,185.5571 287.8164,186.3304 C287.3447,187.8771 286.7878,189.3908 286.1357,190.8582 C284.8314,193.793 283.1463,196.5425 281,199 C280.25,199.86 268.42,202.57 251.92,205.99 \" fill=\"none\" id=\"E4-&gt;E3\" style=\"stroke: #383838; stroke-width: 1.0;\"/><polygon fill=\"#FFFFFF\" points=\"232.08,210.03,249.304,199.3842,252.0939,213.1034,232.08,210.03\" style=\"stroke: #383838; stroke-width: 1.0;\"/><ellipse cx=\"255.2882\" cy=\"200.2082\" fill=\"#383838\" rx=\"2\" ry=\"2\" style=\"stroke: #383838; stroke-width: 1.0;\"/><ellipse cx=\"257.281\" cy=\"210.0076\" fill=\"#383838\" rx=\"2\" ry=\"2\" style=\"stroke: #383838; stroke-width: 1.0;\"/></a><!--MD5=[185131fc0dcab0a4505a2ebe144e961b]\n",
       "link E4 to E2--><a href=\"psysml:ac89f7fb-b091-4bc7-aaea-6377fc157ffe\" target=\"_top\" title=\"psysml:ac89f7fb-b091-4bc7-aaea-6377fc157ffe\" xlink:actuate=\"onRequest\" xlink:href=\"psysml:ac89f7fb-b091-4bc7-aaea-6377fc157ffe\" xlink:show=\"new\" xlink:title=\"psysml:ac89f7fb-b091-4bc7-aaea-6377fc157ffe\" xlink:type=\"simple\"><path d=\"M298.6244,183.1688 C298.6641,183.2672 298.704,183.3657 298.744,183.4642 C298.8239,183.6612 298.9043,183.8585 298.9851,184.056 C299.6311,185.6364 300.3025,187.2325 301,188.84 \" fill=\"none\" id=\"E4-&gt;E2\" style=\"stroke: #383838; stroke-width: 1.0;\"/><polygon fill=\"#FFFFFF\" points=\"309.82,206.88,295.1865,192.885,307.764,186.7362,309.82,206.88\" style=\"stroke: #383838; stroke-width: 1.0;\"/><ellipse cx=\"294.4799\" cy=\"186.8857\" fill=\"#383838\" rx=\"2\" ry=\"2\" style=\"stroke: #383838; stroke-width: 1.0;\"/><ellipse cx=\"303.4638\" cy=\"182.4938\" fill=\"#383838\" rx=\"2\" ry=\"2\" style=\"stroke: #383838; stroke-width: 1.0;\"/></a><!--MD5=[14ccda38c055a5c0da953d572bc50960]\n",
       "link E7 to E3--><a href=\"psysml:85f16706-e1b7-404d-9ee5-57d420bfb7f2\" target=\"_top\" title=\"psysml:85f16706-e1b7-404d-9ee5-57d420bfb7f2\" xlink:actuate=\"onRequest\" xlink:href=\"psysml:85f16706-e1b7-404d-9ee5-57d420bfb7f2\" xlink:show=\"new\" xlink:title=\"psysml:85f16706-e1b7-404d-9ee5-57d420bfb7f2\" xlink:type=\"simple\"><path d=\"M141,159.14 C141,167.34 141,177.08 141,186.59 \" fill=\"none\" id=\"E7-&gt;E3\" style=\"stroke: #383838; stroke-width: 1.0;\"/><polygon fill=\"#FFFFFF\" points=\"141,206.97,134,187.97,148,187.97,141,206.97\" style=\"stroke: #383838; stroke-width: 1.0;\"/><ellipse cx=\"136\" cy=\"182.27\" fill=\"#383838\" rx=\"2\" ry=\"2\" style=\"stroke: #383838; stroke-width: 1.0;\"/><ellipse cx=\"146\" cy=\"182.27\" fill=\"#383838\" rx=\"2\" ry=\"2\" style=\"stroke: #383838; stroke-width: 1.0;\"/></a><!--MD5=[497e6d9c63eb62cc0fbed332342d3b99]\n",
       "@startuml\r\n",
       "skinparam ranksep 10\r\n",
       "skinparam rectangle {\r\n",
       " backgroundColor<<block>> LightGreen\r\n",
       "}\r\n",
       " skinparam monochrome true\r\n",
       "skinparam classbackgroundcolor white\r\n",
       "skinparam shadowing false\r\n",
       "skinparam wrapWidth 300\r\n",
       "hide circle\r\n",
       "\r\n",
       "package \"OccurrenceTest\" as E1  [[psysml:53f1d42d-2686-4f4b-950f-b84b40bc19b2 ]]  {\r\n",
       "def \"Occ\" as E2  <<(T,blue) occurrence  def>> [[psysml:77ba500d-77fd-484e-b411-8833010da35e ]] \r\n",
       "def \"Ind\" as E3  <<(T,blue) individual occurrence  def>> [[psysml:991e81ed-291b-4563-955c-44288cc9fc81 ]] \r\n",
       "rec usage \"ind: Ind, Occ\" as E4  <<(T,blue) individual occurrence>> [[psysml:90168d9a-6358-4939-88d7-8ec9974b52c6 ]] {\r\n",
       "rec usage \"s3\" as E5  <<(T,blue) snapshot occurrence>> [[psysml:d0eba55f-a402-4b22-88ba-9857d6bd50ac ]] {\r\n",
       "}\r\n",
       "rec usage \"t3\" as E6  <<(T,blue) individual timeslice occurrence>> [[psysml:0232df4f-93e4-4add-8902-f942e03a0634 ]] {\r\n",
       "}\r\n",
       "}\r\n",
       "rec usage \"s4: Ind\" as E7  <<(T,blue) individual snapshot occurrence>> [[psysml:5cbde71f-e2d0-40cd-91ed-92f5bc776eb7 ]] {\r\n",
       "}\r\n",
       "}\r\n",
       "E4 - -:|> E3 [[psysml:43f26010-ca40-42d6-8df0-e4847d82fc63 ]] \r\n",
       "E4 - -:|> E2 [[psysml:ac89f7fb-b091-4bc7-aaea-6377fc157ffe ]] \r\n",
       "E7 - -:|> E3 [[psysml:85f16706-e1b7-404d-9ee5-57d420bfb7f2 ]] \r\n",
       "@enduml\r\n",
       "\n",
       "PlantUML version 1.2020.13(Sat Jun 13 12:26:38 UTC 2020)\n",
       "(EPL source distribution)\n",
       "Java Runtime: OpenJDK Runtime Environment\n",
       "JVM: OpenJDK 64-Bit Server VM\n",
       "Default Encoding: UTF-8\n",
       "Language: en\n",
       "Country: null\n",
       "--></g></svg>"
      ]
     },
     "execution_count": 5,
     "metadata": {},
     "output_type": "execute_result"
    }
   ],
   "source": [
    "%viz --style=\"COMPTREE\" --view=\"Interconnection\" \"OccurrenceTest\""
   ]
  },
  {
   "cell_type": "code",
   "execution_count": 6,
   "id": "9d26e6f7",
   "metadata": {
    "execution": {
     "iopub.execute_input": "2022-07-23T10:52:30.670510Z",
     "iopub.status.busy": "2022-07-23T10:52:30.669844Z",
     "iopub.status.idle": "2022-07-23T10:52:30.678381Z",
     "shell.execute_reply": "2022-07-23T10:52:30.678717Z"
    }
   },
   "outputs": [
    {
     "data": {
      "image/svg+xml": [
       "<?xml version=\"1.0\" encoding=\"UTF-8\" standalone=\"no\"?><svg xmlns=\"http://www.w3.org/2000/svg\" xmlns:xlink=\"http://www.w3.org/1999/xlink\" contentScriptType=\"application/ecmascript\" contentStyleType=\"text/css\" height=\"12px\" preserveAspectRatio=\"none\" style=\"width:12px;height:12px;\" version=\"1.1\" viewBox=\"0 0 12 12\" width=\"12px\" zoomAndPan=\"magnify\"><defs/><g><!--MD5=[655b888544ca4751ea36af1068543f84]\n",
       "@startuml\r\n",
       "skinparam ranksep 8\r\n",
       " skinparam monochrome true\r\n",
       "skinparam classbackgroundcolor white\r\n",
       "skinparam shadowing false\r\n",
       "skinparam wrapWidth 300\r\n",
       "hide circle\r\n",
       "\r\n",
       "@enduml\r\n",
       "\n",
       "PlantUML version 1.2020.13(Sat Jun 13 12:26:38 UTC 2020)\n",
       "(EPL source distribution)\n",
       "Java Runtime: OpenJDK Runtime Environment\n",
       "JVM: OpenJDK 64-Bit Server VM\n",
       "Default Encoding: UTF-8\n",
       "Language: en\n",
       "Country: null\n",
       "--></g></svg>"
      ]
     },
     "execution_count": 6,
     "metadata": {},
     "output_type": "execute_result"
    }
   ],
   "source": [
    "%viz --style=\"COMPTREE\" --view=\"Action\" \"OccurrenceTest\""
   ]
  },
  {
   "cell_type": "code",
   "execution_count": 7,
   "id": "1a091a0e",
   "metadata": {
    "execution": {
     "iopub.execute_input": "2022-07-23T10:52:30.729437Z",
     "iopub.status.busy": "2022-07-23T10:52:30.728808Z",
     "iopub.status.idle": "2022-07-23T10:52:30.741915Z",
     "shell.execute_reply": "2022-07-23T10:52:30.742244Z"
    }
   },
   "outputs": [
    {
     "data": {
      "image/svg+xml": [
       "<?xml version=\"1.0\" encoding=\"UTF-8\" standalone=\"no\"?><svg xmlns=\"http://www.w3.org/2000/svg\" xmlns:xlink=\"http://www.w3.org/1999/xlink\" contentScriptType=\"application/ecmascript\" contentStyleType=\"text/css\" height=\"12px\" preserveAspectRatio=\"none\" style=\"width:12px;height:12px;\" version=\"1.1\" viewBox=\"0 0 12 12\" width=\"12px\" zoomAndPan=\"magnify\"><defs/><g><!--MD5=[803fc46c337be7a5c8a9831e35356779]\n",
       "@startuml\r\n",
       "skinparam roundcorner 20\r\n",
       "skinparam BoxPadding 20\r\n",
       "skinparam SequenceBoxBackgroundColor #white\r\n",
       "skinparam style strictuml\r\n",
       "skinparam maxMessageSize 100\r\n",
       " skinparam monochrome true\r\n",
       "skinparam classbackgroundcolor white\r\n",
       "skinparam shadowing false\r\n",
       "skinparam wrapWidth 300\r\n",
       "hide circle\r\n",
       "\r\n",
       "@enduml\r\n",
       "\n",
       "PlantUML version 1.2020.13(Sat Jun 13 12:26:38 UTC 2020)\n",
       "(EPL source distribution)\n",
       "Java Runtime: OpenJDK Runtime Environment\n",
       "JVM: OpenJDK 64-Bit Server VM\n",
       "Default Encoding: UTF-8\n",
       "Language: en\n",
       "Country: null\n",
       "--></g></svg>"
      ]
     },
     "execution_count": 7,
     "metadata": {},
     "output_type": "execute_result"
    }
   ],
   "source": [
    "%viz --style=\"COMPTREE\" --view=\"Sequence\" \"OccurrenceTest\""
   ]
  },
  {
   "cell_type": "code",
   "execution_count": 8,
   "id": "dfaa5075",
   "metadata": {
    "execution": {
     "iopub.execute_input": "2022-07-23T10:52:30.792909Z",
     "iopub.status.busy": "2022-07-23T10:52:30.792212Z",
     "iopub.status.idle": "2022-07-23T10:52:30.886547Z",
     "shell.execute_reply": "2022-07-23T10:52:30.886072Z"
    }
   },
   "outputs": [
    {
     "data": {
      "image/svg+xml": [
       "<?xml version=\"1.0\" encoding=\"UTF-8\" standalone=\"no\"?><svg xmlns=\"http://www.w3.org/2000/svg\" xmlns:xlink=\"http://www.w3.org/1999/xlink\" contentScriptType=\"application/ecmascript\" contentStyleType=\"text/css\" height=\"569px\" preserveAspectRatio=\"none\" style=\"width:1009px;height:569px;\" version=\"1.1\" viewBox=\"0 0 1009 569\" width=\"1009px\" zoomAndPan=\"magnify\"><defs/><g><!--MD5=[fbc87193dbaf4d95561dea2c320d4a47]\n",
       "cluster E1--><a href=\"psysml:53f1d42d-2686-4f4b-950f-b84b40bc19b2\" target=\"_top\" title=\"psysml:53f1d42d-2686-4f4b-950f-b84b40bc19b2\" xlink:actuate=\"onRequest\" xlink:href=\"psysml:53f1d42d-2686-4f4b-950f-b84b40bc19b2\" xlink:show=\"new\" xlink:title=\"psysml:53f1d42d-2686-4f4b-950f-b84b40bc19b2\" xlink:type=\"simple\"><polygon fill=\"#FFFFFF\" points=\"16,6,134,6,141,28.2969,970,28.2969,970,557,16,557,16,6\" style=\"stroke: #000000; stroke-width: 1.5;\"/><line style=\"stroke: #000000; stroke-width: 1.5;\" x1=\"16\" x2=\"141\" y1=\"28.2969\" y2=\"28.2969\"/><text fill=\"#000000\" font-family=\"sans-serif\" font-size=\"14\" font-weight=\"bold\" lengthAdjust=\"spacingAndGlyphs\" textLength=\"112\" x=\"20\" y=\"20.9951\">OccurrenceTest</text></a><!--MD5=[b4997ac47864f28c2f74865a473b2911]\n",
       "class E2--><a href=\"psysml:77ba500d-77fd-484e-b411-8833010da35e\" target=\"_top\" title=\"psysml:77ba500d-77fd-484e-b411-8833010da35e\" xlink:actuate=\"onRequest\" xlink:href=\"psysml:77ba500d-77fd-484e-b411-8833010da35e\" xlink:show=\"new\" xlink:title=\"psysml:77ba500d-77fd-484e-b411-8833010da35e\" xlink:type=\"simple\"><rect fill=\"#FFFFFF\" height=\"75.5469\" id=\"E2\" style=\"stroke: #383838; stroke-width: 1.5;\" width=\"115\" x=\"373.5\" y=\"147\"/><text fill=\"#000000\" font-family=\"sans-serif\" font-size=\"12\" font-style=\"italic\" lengthAdjust=\"spacingAndGlyphs\" textLength=\"113\" x=\"374.5\" y=\"163.1387\">«occurrence  def»</text><text fill=\"#000000\" font-family=\"sans-serif\" font-size=\"12\" lengthAdjust=\"spacingAndGlyphs\" textLength=\"23\" x=\"419.5\" y=\"177.1074\">Occ</text><line style=\"stroke: #383838; stroke-width: 1.5;\" x1=\"374.5\" x2=\"487.5\" y1=\"184.9375\" y2=\"184.9375\"/><text fill=\"#000000\" font-family=\"sans-serif\" font-size=\"11\" lengthAdjust=\"spacingAndGlyphs\" textLength=\"7\" x=\"379.5\" y=\"215.9526\">a</text><line style=\"stroke: #383838; stroke-width: 1.0;\" x1=\"374.5\" x2=\"403.5\" y1=\"199.3398\" y2=\"199.3398\"/><text fill=\"#000000\" font-family=\"sans-serif\" font-size=\"11\" lengthAdjust=\"spacingAndGlyphs\" textLength=\"55\" x=\"403.5\" y=\"202.6479\">attributes</text><line style=\"stroke: #383838; stroke-width: 1.0;\" x1=\"458.5\" x2=\"487.5\" y1=\"199.3398\" y2=\"199.3398\"/></a><!--MD5=[09b614a08d8cba4a07c9adeb5e0fee81]\n",
       "class E3--><a href=\"psysml:37011562-c12e-4ce2-bbf9-af5619a300f0\" target=\"_top\" title=\"psysml:37011562-c12e-4ce2-bbf9-af5619a300f0\" xlink:actuate=\"onRequest\" xlink:href=\"psysml:37011562-c12e-4ce2-bbf9-af5619a300f0\" xlink:show=\"new\" xlink:title=\"psysml:37011562-c12e-4ce2-bbf9-af5619a300f0\" xlink:type=\"simple\"><rect fill=\"#FFFFFF\" height=\"45.9375\" id=\"E3\" rx=\"10\" ry=\"10\" style=\"stroke: #383838; stroke-width: 1.5;\" width=\"87\" x=\"279.5\" y=\"283\"/><text fill=\"#000000\" font-family=\"sans-serif\" font-size=\"12\" font-style=\"italic\" lengthAdjust=\"spacingAndGlyphs\" textLength=\"85\" x=\"280.5\" y=\"299.1387\">«occurrence»</text><text fill=\"#000000\" font-family=\"sans-serif\" font-size=\"12\" lengthAdjust=\"spacingAndGlyphs\" textLength=\"61\" x=\"290.5\" y=\"313.1074\">occ1: Occ</text><line style=\"stroke: #383838; stroke-width: 1.5;\" x1=\"280.5\" x2=\"365.5\" y1=\"320.9375\" y2=\"320.9375\"/></a><!--MD5=[ebbe1d658d1005bcc118a6aa81145e00]\n",
       "class E4--><a href=\"psysml:3522e0a2-d0dd-4c95-916a-e9f89fbadd86\" target=\"_top\" title=\"psysml:3522e0a2-d0dd-4c95-916a-e9f89fbadd86\" xlink:actuate=\"onRequest\" xlink:href=\"psysml:3522e0a2-d0dd-4c95-916a-e9f89fbadd86\" xlink:show=\"new\" xlink:title=\"psysml:3522e0a2-d0dd-4c95-916a-e9f89fbadd86\" xlink:type=\"simple\"><rect fill=\"#FFFFFF\" height=\"45.9375\" id=\"E4\" rx=\"10\" ry=\"10\" style=\"stroke: #383838; stroke-width: 1.5;\" width=\"87\" x=\"401.5\" y=\"283\"/><text fill=\"#000000\" font-family=\"sans-serif\" font-size=\"12\" font-style=\"italic\" lengthAdjust=\"spacingAndGlyphs\" textLength=\"85\" x=\"402.5\" y=\"299.1387\">«occurrence»</text><text fill=\"#000000\" font-family=\"sans-serif\" font-size=\"12\" lengthAdjust=\"spacingAndGlyphs\" textLength=\"61\" x=\"412.5\" y=\"313.1074\">occ2: Occ</text><line style=\"stroke: #383838; stroke-width: 1.5;\" x1=\"402.5\" x2=\"487.5\" y1=\"320.9375\" y2=\"320.9375\"/></a><!--MD5=[270fce915f116d4de14055a7c1d9a0f3]\n",
       "class E5--><a href=\"psysml:2ba1b44f-ac88-49ba-a1da-8edc5df2da3a\" target=\"_top\" title=\"psysml:2ba1b44f-ac88-49ba-a1da-8edc5df2da3a\" xlink:actuate=\"onRequest\" xlink:href=\"psysml:2ba1b44f-ac88-49ba-a1da-8edc5df2da3a\" xlink:show=\"new\" xlink:title=\"psysml:2ba1b44f-ac88-49ba-a1da-8edc5df2da3a\" xlink:type=\"simple\"><rect fill=\"#FFFFFF\" height=\"45.9375\" id=\"E5\" rx=\"10\" ry=\"10\" style=\"stroke: #383838; stroke-width: 1.5;\" width=\"212\" x=\"524\" y=\"283\"/><text fill=\"#000000\" font-family=\"sans-serif\" font-size=\"12\" font-style=\"italic\" lengthAdjust=\"spacingAndGlyphs\" textLength=\"210\" x=\"525\" y=\"299.1387\">«individual snapshot occurrence»</text><text fill=\"#000000\" font-family=\"sans-serif\" font-size=\"12\" lengthAdjust=\"spacingAndGlyphs\" textLength=\"34\" x=\"611\" y=\"313.1074\">s: Ind</text><line style=\"stroke: #383838; stroke-width: 1.5;\" x1=\"525\" x2=\"735\" y1=\"320.9375\" y2=\"320.9375\"/></a><!--MD5=[60a26617385b1d2d0262a64233df1f8d]\n",
       "class E6--><a href=\"psysml:aefaf76d-f241-48e8-80ea-b99598299972\" target=\"_top\" title=\"psysml:aefaf76d-f241-48e8-80ea-b99598299972\" xlink:actuate=\"onRequest\" xlink:href=\"psysml:aefaf76d-f241-48e8-80ea-b99598299972\" xlink:show=\"new\" xlink:title=\"psysml:aefaf76d-f241-48e8-80ea-b99598299972\" xlink:type=\"simple\"><rect fill=\"#FFFFFF\" height=\"45.9375\" id=\"E6\" rx=\"10\" ry=\"10\" style=\"stroke: #383838; stroke-width: 1.5;\" width=\"146\" x=\"771\" y=\"283\"/><text fill=\"#000000\" font-family=\"sans-serif\" font-size=\"12\" font-style=\"italic\" lengthAdjust=\"spacingAndGlyphs\" textLength=\"144\" x=\"772\" y=\"299.1387\">«timeslice occurrence»</text><text fill=\"#000000\" font-family=\"sans-serif\" font-size=\"12\" lengthAdjust=\"spacingAndGlyphs\" textLength=\"5\" x=\"839.5\" y=\"313.1074\">t</text><line style=\"stroke: #383838; stroke-width: 1.5;\" x1=\"772\" x2=\"916\" y1=\"320.9375\" y2=\"320.9375\"/></a><!--MD5=[2156ba9850f5573cc1fc38a6a4b2f02b]\n",
       "class E7--><a href=\"psysml:991e81ed-291b-4563-955c-44288cc9fc81\" target=\"_top\" title=\"psysml:991e81ed-291b-4563-955c-44288cc9fc81\" xlink:actuate=\"onRequest\" xlink:href=\"psysml:991e81ed-291b-4563-955c-44288cc9fc81\" xlink:show=\"new\" xlink:title=\"psysml:991e81ed-291b-4563-955c-44288cc9fc81\" xlink:type=\"simple\"><rect fill=\"#FFFFFF\" height=\"45.9375\" id=\"E7\" style=\"stroke: #383838; stroke-width: 1.5;\" width=\"177\" x=\"541.5\" y=\"389\"/><text fill=\"#000000\" font-family=\"sans-serif\" font-size=\"12\" font-style=\"italic\" lengthAdjust=\"spacingAndGlyphs\" textLength=\"175\" x=\"542.5\" y=\"405.1387\">«individual occurrence  def»</text><text fill=\"#000000\" font-family=\"sans-serif\" font-size=\"12\" lengthAdjust=\"spacingAndGlyphs\" textLength=\"19\" x=\"620.5\" y=\"419.1074\">Ind</text><line style=\"stroke: #383838; stroke-width: 1.5;\" x1=\"542.5\" x2=\"717.5\" y1=\"426.9375\" y2=\"426.9375\"/></a><!--MD5=[b9389687b975829384b498ac4b7476b2]\n",
       "class E8--><a href=\"psysml:fb7dbc0d-a670-4e6d-a2b6-24a9a70c023a\" target=\"_top\" title=\"psysml:fb7dbc0d-a670-4e6d-a2b6-24a9a70c023a\" xlink:actuate=\"onRequest\" xlink:href=\"psysml:fb7dbc0d-a670-4e6d-a2b6-24a9a70c023a\" xlink:show=\"new\" xlink:title=\"psysml:fb7dbc0d-a670-4e6d-a2b6-24a9a70c023a\" xlink:type=\"simple\"><rect fill=\"#FFFFFF\" height=\"45.9375\" id=\"E8\" rx=\"10\" ry=\"10\" style=\"stroke: #383838; stroke-width: 1.5;\" width=\"150\" x=\"463\" y=\"495\"/><text fill=\"#000000\" font-family=\"sans-serif\" font-size=\"12\" font-style=\"italic\" lengthAdjust=\"spacingAndGlyphs\" textLength=\"148\" x=\"464\" y=\"511.1387\">«snapshot occurrence»</text><text fill=\"#000000\" font-family=\"sans-serif\" font-size=\"12\" lengthAdjust=\"spacingAndGlyphs\" textLength=\"15\" x=\"528.5\" y=\"525.1074\">s2</text><line style=\"stroke: #383838; stroke-width: 1.5;\" x1=\"464\" x2=\"612\" y1=\"532.9375\" y2=\"532.9375\"/></a><!--MD5=[fd4143e9d270a159db93a4ea2a975926]\n",
       "class E9--><a href=\"psysml:ae0fd4ea-8dc7-4cb0-a32c-5615a8f756eb\" target=\"_top\" title=\"psysml:ae0fd4ea-8dc7-4cb0-a32c-5615a8f756eb\" xlink:actuate=\"onRequest\" xlink:href=\"psysml:ae0fd4ea-8dc7-4cb0-a32c-5615a8f756eb\" xlink:show=\"new\" xlink:title=\"psysml:ae0fd4ea-8dc7-4cb0-a32c-5615a8f756eb\" xlink:type=\"simple\"><rect fill=\"#FFFFFF\" height=\"45.9375\" id=\"E9\" rx=\"10\" ry=\"10\" style=\"stroke: #383838; stroke-width: 1.5;\" width=\"146\" x=\"648\" y=\"495\"/><text fill=\"#000000\" font-family=\"sans-serif\" font-size=\"12\" font-style=\"italic\" lengthAdjust=\"spacingAndGlyphs\" textLength=\"144\" x=\"649\" y=\"511.1387\">«timeslice occurrence»</text><text fill=\"#000000\" font-family=\"sans-serif\" font-size=\"12\" lengthAdjust=\"spacingAndGlyphs\" textLength=\"13\" x=\"712.5\" y=\"525.1074\">t2</text><line style=\"stroke: #383838; stroke-width: 1.5;\" x1=\"649\" x2=\"793\" y1=\"532.9375\" y2=\"532.9375\"/></a><!--MD5=[96f4274e9e20536e775497830990834d]\n",
       "class E10--><a href=\"psysml:90168d9a-6358-4939-88d7-8ec9974b52c6\" target=\"_top\" title=\"psysml:90168d9a-6358-4939-88d7-8ec9974b52c6\" xlink:actuate=\"onRequest\" xlink:href=\"psysml:90168d9a-6358-4939-88d7-8ec9974b52c6\" xlink:show=\"new\" xlink:title=\"psysml:90168d9a-6358-4939-88d7-8ec9974b52c6\" xlink:type=\"simple\"><rect fill=\"#FFFFFF\" height=\"45.9375\" id=\"E10\" rx=\"10\" ry=\"10\" style=\"stroke: #383838; stroke-width: 1.5;\" width=\"149\" x=\"505.5\" y=\"41\"/><text fill=\"#000000\" font-family=\"sans-serif\" font-size=\"12\" font-style=\"italic\" lengthAdjust=\"spacingAndGlyphs\" textLength=\"147\" x=\"506.5\" y=\"57.1387\">«individual occurrence»</text><text fill=\"#000000\" font-family=\"sans-serif\" font-size=\"12\" lengthAdjust=\"spacingAndGlyphs\" textLength=\"77\" x=\"539.5\" y=\"71.1074\">ind: Ind, Occ</text><line style=\"stroke: #383838; stroke-width: 1.5;\" x1=\"506.5\" x2=\"653.5\" y1=\"78.9375\" y2=\"78.9375\"/></a><!--MD5=[1dd1bfd58a279cf63c5f349dbc8fc6a1]\n",
       "class E11--><a href=\"psysml:d0eba55f-a402-4b22-88ba-9857d6bd50ac\" target=\"_top\" title=\"psysml:d0eba55f-a402-4b22-88ba-9857d6bd50ac\" xlink:actuate=\"onRequest\" xlink:href=\"psysml:d0eba55f-a402-4b22-88ba-9857d6bd50ac\" xlink:show=\"new\" xlink:title=\"psysml:d0eba55f-a402-4b22-88ba-9857d6bd50ac\" xlink:type=\"simple\"><rect fill=\"#FFFFFF\" height=\"45.9375\" id=\"E11\" rx=\"10\" ry=\"10\" style=\"stroke: #383838; stroke-width: 1.5;\" width=\"150\" x=\"561\" y=\"162\"/><text fill=\"#000000\" font-family=\"sans-serif\" font-size=\"12\" font-style=\"italic\" lengthAdjust=\"spacingAndGlyphs\" textLength=\"148\" x=\"562\" y=\"178.1387\">«snapshot occurrence»</text><text fill=\"#000000\" font-family=\"sans-serif\" font-size=\"12\" lengthAdjust=\"spacingAndGlyphs\" textLength=\"15\" x=\"626.5\" y=\"192.1074\">s3</text><line style=\"stroke: #383838; stroke-width: 1.5;\" x1=\"562\" x2=\"710\" y1=\"199.9375\" y2=\"199.9375\"/></a><!--MD5=[49a0ec8f00dab7302a31f22d0f0fe584]\n",
       "class E12--><a href=\"psysml:0232df4f-93e4-4add-8902-f942e03a0634\" target=\"_top\" title=\"psysml:0232df4f-93e4-4add-8902-f942e03a0634\" xlink:actuate=\"onRequest\" xlink:href=\"psysml:0232df4f-93e4-4add-8902-f942e03a0634\" xlink:show=\"new\" xlink:title=\"psysml:0232df4f-93e4-4add-8902-f942e03a0634\" xlink:type=\"simple\"><rect fill=\"#FFFFFF\" height=\"45.9375\" id=\"E12\" rx=\"10\" ry=\"10\" style=\"stroke: #383838; stroke-width: 1.5;\" width=\"208\" x=\"746\" y=\"162\"/><text fill=\"#000000\" font-family=\"sans-serif\" font-size=\"12\" font-style=\"italic\" lengthAdjust=\"spacingAndGlyphs\" textLength=\"206\" x=\"747\" y=\"178.1387\">«individual timeslice occurrence»</text><text fill=\"#000000\" font-family=\"sans-serif\" font-size=\"12\" lengthAdjust=\"spacingAndGlyphs\" textLength=\"13\" x=\"841.5\" y=\"192.1074\">t3</text><line style=\"stroke: #383838; stroke-width: 1.5;\" x1=\"747\" x2=\"953\" y1=\"199.9375\" y2=\"199.9375\"/></a><!--MD5=[ee3c913d1a06f366521f9ef512b67efe]\n",
       "class E13--><a href=\"psysml:5cbde71f-e2d0-40cd-91ed-92f5bc776eb7\" target=\"_top\" title=\"psysml:5cbde71f-e2d0-40cd-91ed-92f5bc776eb7\" xlink:actuate=\"onRequest\" xlink:href=\"psysml:5cbde71f-e2d0-40cd-91ed-92f5bc776eb7\" xlink:show=\"new\" xlink:title=\"psysml:5cbde71f-e2d0-40cd-91ed-92f5bc776eb7\" xlink:type=\"simple\"><rect fill=\"#FFFFFF\" height=\"45.9375\" id=\"E13\" rx=\"10\" ry=\"10\" style=\"stroke: #383838; stroke-width: 1.5;\" width=\"212\" x=\"32\" y=\"283\"/><text fill=\"#000000\" font-family=\"sans-serif\" font-size=\"12\" font-style=\"italic\" lengthAdjust=\"spacingAndGlyphs\" textLength=\"210\" x=\"33\" y=\"299.1387\">«individual snapshot occurrence»</text><text fill=\"#000000\" font-family=\"sans-serif\" font-size=\"12\" lengthAdjust=\"spacingAndGlyphs\" textLength=\"42\" x=\"115\" y=\"313.1074\">s4: Ind</text><line style=\"stroke: #383838; stroke-width: 1.5;\" x1=\"33\" x2=\"243\" y1=\"320.9375\" y2=\"320.9375\"/></a><!--MD5=[209b3feb70ccb6233bfe1053d122c12c]\n",
       "reverse link E2 to E3--><a href=\"psysml:111e77a4-44f2-45ac-862d-a1e02a1cad26\" target=\"_top\" title=\"psysml:111e77a4-44f2-45ac-862d-a1e02a1cad26\" xlink:actuate=\"onRequest\" xlink:href=\"psysml:111e77a4-44f2-45ac-862d-a1e02a1cad26\" xlink:show=\"new\" xlink:title=\"psysml:111e77a4-44f2-45ac-862d-a1e02a1cad26\" xlink:type=\"simple\"><path d=\"M376.37,232.45 C359.85,249.83 343.43,268.76 332.86,282.93 \" fill=\"none\" id=\"E2&lt;-E3\" style=\"stroke: #383838; stroke-width: 1.0;\"/><polygon fill=\"#FFFFFF\" points=\"385.52,223,378.4729,224.5294,377.1743,231.6226,384.2213,230.0932,385.52,223\" style=\"stroke: #383838; stroke-width: 1.0;\"/></a><!--MD5=[05d275557350bfb9b23a4ef7222b4c39]\n",
       "link E3 to E2--><a href=\"psysml:0f45e557-8f0e-4df9-b1d8-28bd2526f5a3\" target=\"_top\" title=\"psysml:0f45e557-8f0e-4df9-b1d8-28bd2526f5a3\" xlink:actuate=\"onRequest\" xlink:href=\"psysml:0f45e557-8f0e-4df9-b1d8-28bd2526f5a3\" xlink:show=\"new\" xlink:title=\"psysml:0f45e557-8f0e-4df9-b1d8-28bd2526f5a3\" xlink:type=\"simple\"><path d=\"M353.8,282.93 C367.38,270.34 383.11,253.98 396.95,238.29 \" fill=\"none\" id=\"E3-&gt;E2\" style=\"stroke: #383838; stroke-width: 1.0;\"/><polygon fill=\"#FFFFFF\" points=\"410.02,223,403.0007,241.9929,392.3563,232.8991,410.02,223\" style=\"stroke: #383838; stroke-width: 1.0;\"/><ellipse cx=\"397.7776\" cy=\"245.0276\" fill=\"#383838\" rx=\"2\" ry=\"2\" style=\"stroke: #383838; stroke-width: 1.0;\"/><ellipse cx=\"390.1744\" cy=\"238.532\" fill=\"#383838\" rx=\"2\" ry=\"2\" style=\"stroke: #383838; stroke-width: 1.0;\"/></a><!--MD5=[9618e71518536f8baf3342ff6fdab317]\n",
       "reverse link E2 to E4--><a href=\"psysml:7f5381ff-79d6-4175-8599-1b084d5a38fb\" target=\"_top\" title=\"psysml:7f5381ff-79d6-4175-8599-1b084d5a38fb\" xlink:actuate=\"onRequest\" xlink:href=\"psysml:7f5381ff-79d6-4175-8599-1b084d5a38fb\" xlink:show=\"new\" xlink:title=\"psysml:7f5381ff-79d6-4175-8599-1b084d5a38fb\" xlink:type=\"simple\"><path d=\"M424.31,236.34 C425.74,252.61 428.58,269.81 432.23,282.93 \" fill=\"none\" id=\"E2&lt;-E4\" style=\"stroke: #383838; stroke-width: 1.0;\"/><polygon fill=\"#383838\" points=\"423.45,223,419.8475,229.2467,424.2281,234.9747,427.8306,228.728,423.45,223\" style=\"stroke: #383838; stroke-width: 1.0;\"/></a><!--MD5=[185131fc0dcab0a4505a2ebe144e961b]\n",
       "link E4 to E2--><a href=\"psysml:9af83ecd-fc65-4272-8374-c2ac75a0337a\" target=\"_top\" title=\"psysml:9af83ecd-fc65-4272-8374-c2ac75a0337a\" xlink:actuate=\"onRequest\" xlink:href=\"psysml:9af83ecd-fc65-4272-8374-c2ac75a0337a\" xlink:show=\"new\" xlink:title=\"psysml:9af83ecd-fc65-4272-8374-c2ac75a0337a\" xlink:type=\"simple\"><path d=\"M453.17,282.93 C453.77,271.65 452.99,257.34 451.22,243.21 \" fill=\"none\" id=\"E4-&gt;E2\" style=\"stroke: #383838; stroke-width: 1.0;\"/><polygon fill=\"#FFFFFF\" points=\"447.96,223,457.8973,240.6423,444.0761,242.8725,447.96,223\" style=\"stroke: #383838; stroke-width: 1.0;\"/><ellipse cx=\"456.8309\" cy=\"246.5881\" fill=\"#383838\" rx=\"2\" ry=\"2\" style=\"stroke: #383838; stroke-width: 1.0;\"/><ellipse cx=\"446.9586\" cy=\"248.1811\" fill=\"#383838\" rx=\"2\" ry=\"2\" style=\"stroke: #383838; stroke-width: 1.0;\"/></a><!--MD5=[4e1a83fab71cdb913c109063314ae896]\n",
       "reverse link E2 to E5--><a href=\"psysml:648e9e41-ac7c-450e-af70-439d81f3f540\" target=\"_top\" title=\"psysml:648e9e41-ac7c-450e-af70-439d81f3f540\" xlink:actuate=\"onRequest\" xlink:href=\"psysml:648e9e41-ac7c-450e-af70-439d81f3f540\" xlink:show=\"new\" xlink:title=\"psysml:648e9e41-ac7c-450e-af70-439d81f3f540\" xlink:type=\"simple\"><path d=\"M499.85,227.17 C531.12,245.87 566.86,267.24 592.97,282.85 \" fill=\"none\" id=\"E2&lt;-E5\" style=\"stroke: #383838; stroke-width: 1.0;\"/><polygon fill=\"#383838\" points=\"488.56,220.42,491.6568,226.9323,498.8592,226.5784,495.7624,220.0661,488.56,220.42\" style=\"stroke: #383838; stroke-width: 1.0;\"/></a><!--MD5=[ce036f65110ae2351ccce5a81dc2e928]\n",
       "reverse link E2 to E6--><a href=\"psysml:00b8b9a4-593e-406d-b505-212ff2a7c9c1\" target=\"_top\" title=\"psysml:00b8b9a4-593e-406d-b505-212ff2a7c9c1\" xlink:actuate=\"onRequest\" xlink:href=\"psysml:00b8b9a4-593e-406d-b505-212ff2a7c9c1\" xlink:show=\"new\" xlink:title=\"psysml:00b8b9a4-593e-406d-b505-212ff2a7c9c1\" xlink:type=\"simple\"><path d=\"M501.02,217.55 C506.06,219.49 511.08,221.33 516,223 C528.19,227.15 677.82,264.14 770.71,287 \" fill=\"none\" id=\"E2&lt;-E6\" style=\"stroke: #383838; stroke-width: 1.0;\"/><polygon fill=\"#383838\" points=\"488.57,212.58,492.6577,218.5206,499.7135,217.0321,495.6258,211.0916,488.57,212.58\" style=\"stroke: #383838; stroke-width: 1.0;\"/></a><!--MD5=[3a9b96bfbf6b6ad89c494e81751bda47]\n",
       "link E5 to E7--><a href=\"psysml:088b8ee7-f1bc-4574-b816-43bcf4f14b77\" target=\"_top\" title=\"psysml:088b8ee7-f1bc-4574-b816-43bcf4f14b77\" xlink:actuate=\"onRequest\" xlink:href=\"psysml:088b8ee7-f1bc-4574-b816-43bcf4f14b77\" xlink:show=\"new\" xlink:title=\"psysml:088b8ee7-f1bc-4574-b816-43bcf4f14b77\" xlink:type=\"simple\"><path d=\"M630,329.06 C630,340.64 630,355.23 630,368.87 \" fill=\"none\" id=\"E5-&gt;E7\" style=\"stroke: #383838; stroke-width: 1.0;\"/><polygon fill=\"#FFFFFF\" points=\"630,388.98,623,369.98,637,369.98,630,388.98\" style=\"stroke: #383838; stroke-width: 1.0;\"/><ellipse cx=\"625\" cy=\"364.28\" fill=\"#383838\" rx=\"2\" ry=\"2\" style=\"stroke: #383838; stroke-width: 1.0;\"/><ellipse cx=\"635\" cy=\"364.28\" fill=\"#383838\" rx=\"2\" ry=\"2\" style=\"stroke: #383838; stroke-width: 1.0;\"/></a><!--MD5=[dc164f5e8a733ab456ef1add180e9e34]\n",
       "reverse link E7 to E8--><a href=\"psysml:c8813ef9-ffa9-4c9d-80a4-dd20f6c80ea5\" target=\"_top\" title=\"psysml:c8813ef9-ffa9-4c9d-80a4-dd20f6c80ea5\" xlink:actuate=\"onRequest\" xlink:href=\"psysml:c8813ef9-ffa9-4c9d-80a4-dd20f6c80ea5\" xlink:show=\"new\" xlink:title=\"psysml:c8813ef9-ffa9-4c9d-80a4-dd20f6c80ea5\" xlink:type=\"simple\"><path d=\"M601.55,445.16 C587.25,461.33 570.28,480.51 557.48,494.98 \" fill=\"none\" id=\"E7&lt;-E8\" style=\"stroke: #383838; stroke-width: 1.0;\"/><polygon fill=\"#383838\" points=\"610.49,435.06,603.5177,436.9004,602.5348,444.0442,609.5071,442.2038,610.49,435.06\" style=\"stroke: #383838; stroke-width: 1.0;\"/></a><!--MD5=[e4a10ef82d0e328e31cac39a31e58dda]\n",
       "reverse link E7 to E9--><a href=\"psysml:cdca8d7c-6aa5-4fff-9e0e-900e3ba85343\" target=\"_top\" title=\"psysml:cdca8d7c-6aa5-4fff-9e0e-900e3ba85343\" xlink:actuate=\"onRequest\" xlink:href=\"psysml:cdca8d7c-6aa5-4fff-9e0e-900e3ba85343\" xlink:show=\"new\" xlink:title=\"psysml:cdca8d7c-6aa5-4fff-9e0e-900e3ba85343\" xlink:type=\"simple\"><path d=\"M658.14,445.16 C672.29,461.33 689.07,480.51 701.73,494.98 \" fill=\"none\" id=\"E7&lt;-E9\" style=\"stroke: #383838; stroke-width: 1.0;\"/><polygon fill=\"#383838\" points=\"649.3,435.06,650.2496,442.2083,657.2133,444.0811,656.2637,436.9328,649.3,435.06\" style=\"stroke: #383838; stroke-width: 1.0;\"/></a><!--MD5=[a919e0967d6f3de553dc51b9865a1d6d]\n",
       "link E10 to E7--><a href=\"psysml:43f26010-ca40-42d6-8df0-e4847d82fc63\" target=\"_top\" title=\"psysml:43f26010-ca40-42d6-8df0-e4847d82fc63\" xlink:actuate=\"onRequest\" xlink:href=\"psysml:43f26010-ca40-42d6-8df0-e4847d82fc63\" xlink:show=\"new\" xlink:title=\"psysml:43f26010-ca40-42d6-8df0-e4847d82fc63\" xlink:type=\"simple\"><path d=\"M564.36,87.23 C542.92,120.68 510.65,184.15 544,223 C658.5,356.41 820.5,149.59 935,283 C997.3,355.58 849.41,387.9 738.47,401.63 \" fill=\"none\" id=\"E10-&gt;E7\" style=\"stroke: #383838; stroke-width: 1.0;\"/><polygon fill=\"#FFFFFF\" points=\"718.6,403.94,736.6627,394.7891,738.2822,408.6951,718.6,403.94\" style=\"stroke: #383838; stroke-width: 1.0;\"/><ellipse cx=\"742.5558\" cy=\"396.1162\" fill=\"#383838\" rx=\"2\" ry=\"2\" style=\"stroke: #383838; stroke-width: 1.0;\"/><ellipse cx=\"743.7126\" cy=\"406.0491\" fill=\"#383838\" rx=\"2\" ry=\"2\" style=\"stroke: #383838; stroke-width: 1.0;\"/></a><!--MD5=[0f36bececdf0dff6e600d6f64214b0f1]\n",
       "link E10 to E2--><a href=\"psysml:ac89f7fb-b091-4bc7-aaea-6377fc157ffe\" target=\"_top\" title=\"psysml:ac89f7fb-b091-4bc7-aaea-6377fc157ffe\" xlink:actuate=\"onRequest\" xlink:href=\"psysml:ac89f7fb-b091-4bc7-aaea-6377fc157ffe\" xlink:show=\"new\" xlink:title=\"psysml:ac89f7fb-b091-4bc7-aaea-6377fc157ffe\" xlink:type=\"simple\"><path d=\"M552.32,87.1 C535.71,100.38 513.86,117.82 493.29,134.25 \" fill=\"none\" id=\"E10-&gt;E2\" style=\"stroke: #383838; stroke-width: 1.0;\"/><polygon fill=\"#FFFFFF\" points=\"477.56,146.81,488.0352,129.4817,496.7737,140.4197,477.56,146.81\" style=\"stroke: #383838; stroke-width: 1.0;\"/><ellipse cx=\"493.7369\" cy=\"127.4865\" fill=\"#383838\" rx=\"2\" ry=\"2\" style=\"stroke: #383838; stroke-width: 1.0;\"/><ellipse cx=\"499.9786\" cy=\"135.2994\" fill=\"#383838\" rx=\"2\" ry=\"2\" style=\"stroke: #383838; stroke-width: 1.0;\"/></a><!--MD5=[de308be4a2431766a05a907a031c07fc]\n",
       "reverse link E10 to E11--><a href=\"psysml:75c081c5-05e2-401c-b103-d900689a3a49\" target=\"_top\" title=\"psysml:75c081c5-05e2-401c-b103-d900689a3a49\" xlink:actuate=\"onRequest\" xlink:href=\"psysml:75c081c5-05e2-401c-b103-d900689a3a49\" xlink:show=\"new\" xlink:title=\"psysml:75c081c5-05e2-401c-b103-d900689a3a49\" xlink:type=\"simple\"><path d=\"M595.95,98.9 C605.42,119.01 617.15,143.94 625.46,161.61 \" fill=\"none\" id=\"E10&lt;-E11\" style=\"stroke: #383838; stroke-width: 1.0;\"/><polygon fill=\"#383838\" points=\"590.4,87.1,589.3334,94.2318,595.5064,97.9593,596.573,90.8275,590.4,87.1\" style=\"stroke: #383838; stroke-width: 1.0;\"/></a><!--MD5=[1d54f998c6d5961a1a9184be73a7eb6c]\n",
       "reverse link E10 to E12--><a href=\"psysml:54130436-8b1f-4706-a610-d99b2d4cb5d4\" target=\"_top\" title=\"psysml:54130436-8b1f-4706-a610-d99b2d4cb5d4\" xlink:actuate=\"onRequest\" xlink:href=\"psysml:54130436-8b1f-4706-a610-d99b2d4cb5d4\" xlink:show=\"new\" xlink:title=\"psysml:54130436-8b1f-4706-a610-d99b2d4cb5d4\" xlink:type=\"simple\"><path d=\"M642.21,92.42 C689.99,113.48 755.13,142.19 799.66,161.81 \" fill=\"none\" id=\"E10&lt;-E12\" style=\"stroke: #383838; stroke-width: 1.0;\"/><polygon fill=\"#383838\" points=\"630.15,87.1,634.028,93.1796,641.1314,91.9382,637.2534,85.8586,630.15,87.1\" style=\"stroke: #383838; stroke-width: 1.0;\"/></a><!--MD5=[4a48077df6499cfcd20b62e8f5f37904]\n",
       "link E13 to E7--><a href=\"psysml:85f16706-e1b7-404d-9ee5-57d420bfb7f2\" target=\"_top\" title=\"psysml:85f16706-e1b7-404d-9ee5-57d420bfb7f2\" xlink:actuate=\"onRequest\" xlink:href=\"psysml:85f16706-e1b7-404d-9ee5-57d420bfb7f2\" xlink:show=\"new\" xlink:title=\"psysml:85f16706-e1b7-404d-9ee5-57d420bfb7f2\" xlink:type=\"simple\"><path d=\"M242.34,329.06 C324.51,346.43 438.67,370.56 521.82,388.13 \" fill=\"none\" id=\"E13-&gt;E7\" style=\"stroke: #383838; stroke-width: 1.0;\"/><polygon fill=\"#FFFFFF\" points=\"541.45,392.28,521.4143,395.2075,524.304,381.509,541.45,392.28\" style=\"stroke: #383838; stroke-width: 1.0;\"/><ellipse cx=\"516.2498\" cy=\"392.0741\" fill=\"#383838\" rx=\"2\" ry=\"2\" style=\"stroke: #383838; stroke-width: 1.0;\"/><ellipse cx=\"518.3139\" cy=\"382.2894\" fill=\"#383838\" rx=\"2\" ry=\"2\" style=\"stroke: #383838; stroke-width: 1.0;\"/></a><!--MD5=[9dbf3cd78cc159357ebf7dc210f4aac1]\n",
       "@startuml\r\n",
       " skinparam monochrome true\r\n",
       "skinparam classbackgroundcolor white\r\n",
       "skinparam shadowing false\r\n",
       "skinparam wrapWidth 300\r\n",
       "hide circle\r\n",
       "\r\n",
       "package \"OccurrenceTest\" as E1  [[psysml:53f1d42d-2686-4f4b-950f-b84b40bc19b2 ]]  {\r\n",
       "comp def \"Occ\" as E2  <<(T,blue) occurrence  def>> [[psysml:77ba500d-77fd-484e-b411-8833010da35e ]] {\r\n",
       "- - attributes - -\r\n",
       "a\r\n",
       "}\r\n",
       "comp usage \"occ1: Occ \" as E3  <<(T,blue) occurrence>> [[psysml:37011562-c12e-4ce2-bbf9-af5619a300f0 ]] {\r\n",
       "}\r\n",
       "comp usage \"occ2: Occ \" as E4  <<(T,blue) occurrence>> [[psysml:3522e0a2-d0dd-4c95-916a-e9f89fbadd86 ]] {\r\n",
       "}\r\n",
       "comp usage \"s: Ind \" as E5  <<(T,blue) individual snapshot occurrence>> [[psysml:2ba1b44f-ac88-49ba-a1da-8edc5df2da3a ]] {\r\n",
       "}\r\n",
       "comp usage \"t \" as E6  <<(T,blue) timeslice occurrence>> [[psysml:aefaf76d-f241-48e8-80ea-b99598299972 ]] {\r\n",
       "}\r\n",
       "comp def \"Ind\" as E7  <<(T,blue) individual occurrence  def>> [[psysml:991e81ed-291b-4563-955c-44288cc9fc81 ]] {\r\n",
       "}\r\n",
       "comp usage \"s2 \" as E8  <<(T,blue) snapshot occurrence>> [[psysml:fb7dbc0d-a670-4e6d-a2b6-24a9a70c023a ]] {\r\n",
       "}\r\n",
       "comp usage \"t2 \" as E9  <<(T,blue) timeslice occurrence>> [[psysml:ae0fd4ea-8dc7-4cb0-a32c-5615a8f756eb ]] {\r\n",
       "}\r\n",
       "comp usage \"ind: Ind, Occ \" as E10  <<(T,blue) individual occurrence>> [[psysml:90168d9a-6358-4939-88d7-8ec9974b52c6 ]] {\r\n",
       "}\r\n",
       "comp usage \"s3 \" as E11  <<(T,blue) snapshot occurrence>> [[psysml:d0eba55f-a402-4b22-88ba-9857d6bd50ac ]] {\r\n",
       "}\r\n",
       "comp usage \"t3 \" as E12  <<(T,blue) individual timeslice occurrence>> [[psysml:0232df4f-93e4-4add-8902-f942e03a0634 ]] {\r\n",
       "}\r\n",
       "comp usage \"s4: Ind \" as E13  <<(T,blue) individual snapshot occurrence>> [[psysml:5cbde71f-e2d0-40cd-91ed-92f5bc776eb7 ]] {\r\n",
       "}\r\n",
       "}\r\n",
       "E2 o- - E3 [[psysml:111e77a4-44f2-45ac-862d-a1e02a1cad26 ]] \r\n",
       "E3 - -:|> E2 [[psysml:0f45e557-8f0e-4df9-b1d8-28bd2526f5a3 ]] \r\n",
       "E2 *- - E4 [[psysml:7f5381ff-79d6-4175-8599-1b084d5a38fb ]] \r\n",
       "E4 - -:|> E2 [[psysml:9af83ecd-fc65-4272-8374-c2ac75a0337a ]] \r\n",
       "E2 *- - E5 [[psysml:648e9e41-ac7c-450e-af70-439d81f3f540 ]] \r\n",
       "E2 *- - E6 [[psysml:00b8b9a4-593e-406d-b505-212ff2a7c9c1 ]] \r\n",
       "E5 - -:|> E7 [[psysml:088b8ee7-f1bc-4574-b816-43bcf4f14b77 ]] \r\n",
       "E7 *- - E8 [[psysml:c8813ef9-ffa9-4c9d-80a4-dd20f6c80ea5 ]] \r\n",
       "E7 *- - E9 [[psysml:cdca8d7c-6aa5-4fff-9e0e-900e3ba85343 ]] \r\n",
       "E10 - -:|> E7 [[psysml:43f26010-ca40-42d6-8df0-e4847d82fc63 ]] \r\n",
       "E10 - -:|> E2 [[psysml:ac89f7fb-b091-4bc7-aaea-6377fc157ffe ]] \r\n",
       "E10 *- - E11 [[psysml:75c081c5-05e2-401c-b103-d900689a3a49 ]] \r\n",
       "E10 *- - E12 [[psysml:54130436-8b1f-4706-a610-d99b2d4cb5d4 ]] \r\n",
       "E13 - -:|> E7 [[psysml:85f16706-e1b7-404d-9ee5-57d420bfb7f2 ]] \r\n",
       "@enduml\r\n",
       "\n",
       "PlantUML version 1.2020.13(Sat Jun 13 12:26:38 UTC 2020)\n",
       "(EPL source distribution)\n",
       "Java Runtime: OpenJDK Runtime Environment\n",
       "JVM: OpenJDK 64-Bit Server VM\n",
       "Default Encoding: UTF-8\n",
       "Language: en\n",
       "Country: null\n",
       "--></g></svg>"
      ]
     },
     "execution_count": 8,
     "metadata": {},
     "output_type": "execute_result"
    }
   ],
   "source": [
    "%viz --style=\"COMPTREE\" --view=\"MIXED\" \"OccurrenceTest\""
   ]
  },
  {
   "cell_type": "code",
   "execution_count": 9,
   "id": "2a3269fd",
   "metadata": {
    "execution": {
     "iopub.execute_input": "2022-07-23T10:52:30.935333Z",
     "iopub.status.busy": "2022-07-23T10:52:30.934850Z",
     "iopub.status.idle": "2022-07-23T10:52:31.018044Z",
     "shell.execute_reply": "2022-07-23T10:52:31.017633Z"
    }
   },
   "outputs": [
    {
     "data": {
      "image/svg+xml": [
       "<?xml version=\"1.0\" encoding=\"UTF-8\" standalone=\"no\"?><svg xmlns=\"http://www.w3.org/2000/svg\" xmlns:xlink=\"http://www.w3.org/1999/xlink\" contentScriptType=\"application/ecmascript\" contentStyleType=\"text/css\" height=\"569px\" preserveAspectRatio=\"none\" style=\"width:992px;height:569px;\" version=\"1.1\" viewBox=\"0 0 992 569\" width=\"992px\" zoomAndPan=\"magnify\"><defs/><g><!--MD5=[fbc87193dbaf4d95561dea2c320d4a47]\n",
       "cluster E1--><a href=\"psysml:53f1d42d-2686-4f4b-950f-b84b40bc19b2\" target=\"_top\" title=\"psysml:53f1d42d-2686-4f4b-950f-b84b40bc19b2\" xlink:actuate=\"onRequest\" xlink:href=\"psysml:53f1d42d-2686-4f4b-950f-b84b40bc19b2\" xlink:show=\"new\" xlink:title=\"psysml:53f1d42d-2686-4f4b-950f-b84b40bc19b2\" xlink:type=\"simple\"><polygon fill=\"#FFFFFF\" points=\"16,6,134,6,141,28.2969,970,28.2969,970,557,16,557,16,6\" style=\"stroke: #000000; stroke-width: 1.5;\"/><line style=\"stroke: #000000; stroke-width: 1.5;\" x1=\"16\" x2=\"141\" y1=\"28.2969\" y2=\"28.2969\"/><text fill=\"#000000\" font-family=\"sans-serif\" font-size=\"14\" font-weight=\"bold\" lengthAdjust=\"spacingAndGlyphs\" textLength=\"112\" x=\"20\" y=\"20.9951\">OccurrenceTest</text></a><!--MD5=[b4997ac47864f28c2f74865a473b2911]\n",
       "class E2--><a href=\"psysml:77ba500d-77fd-484e-b411-8833010da35e\" target=\"_top\" title=\"psysml:77ba500d-77fd-484e-b411-8833010da35e\" xlink:actuate=\"onRequest\" xlink:href=\"psysml:77ba500d-77fd-484e-b411-8833010da35e\" xlink:show=\"new\" xlink:title=\"psysml:77ba500d-77fd-484e-b411-8833010da35e\" xlink:type=\"simple\"><rect fill=\"#FFFFFF\" height=\"75.5469\" id=\"E2\" style=\"stroke: #383838; stroke-width: 1.5;\" width=\"115\" x=\"373.5\" y=\"147\"/><text fill=\"#000000\" font-family=\"sans-serif\" font-size=\"12\" font-style=\"italic\" lengthAdjust=\"spacingAndGlyphs\" textLength=\"113\" x=\"374.5\" y=\"163.1387\">«occurrence  def»</text><text fill=\"#000000\" font-family=\"sans-serif\" font-size=\"12\" lengthAdjust=\"spacingAndGlyphs\" textLength=\"23\" x=\"419.5\" y=\"177.1074\">Occ</text><line style=\"stroke: #383838; stroke-width: 1.5;\" x1=\"374.5\" x2=\"487.5\" y1=\"184.9375\" y2=\"184.9375\"/><text fill=\"#000000\" font-family=\"sans-serif\" font-size=\"11\" lengthAdjust=\"spacingAndGlyphs\" textLength=\"7\" x=\"379.5\" y=\"215.9526\">a</text><line style=\"stroke: #383838; stroke-width: 1.0;\" x1=\"374.5\" x2=\"403.5\" y1=\"199.3398\" y2=\"199.3398\"/><text fill=\"#000000\" font-family=\"sans-serif\" font-size=\"11\" lengthAdjust=\"spacingAndGlyphs\" textLength=\"55\" x=\"403.5\" y=\"202.6479\">attributes</text><line style=\"stroke: #383838; stroke-width: 1.0;\" x1=\"458.5\" x2=\"487.5\" y1=\"199.3398\" y2=\"199.3398\"/></a><!--MD5=[09b614a08d8cba4a07c9adeb5e0fee81]\n",
       "class E3--><a href=\"psysml:37011562-c12e-4ce2-bbf9-af5619a300f0\" target=\"_top\" title=\"psysml:37011562-c12e-4ce2-bbf9-af5619a300f0\" xlink:actuate=\"onRequest\" xlink:href=\"psysml:37011562-c12e-4ce2-bbf9-af5619a300f0\" xlink:show=\"new\" xlink:title=\"psysml:37011562-c12e-4ce2-bbf9-af5619a300f0\" xlink:type=\"simple\"><rect fill=\"#FFFFFF\" height=\"45.9375\" id=\"E3\" rx=\"10\" ry=\"10\" style=\"stroke: #383838; stroke-width: 1.5;\" width=\"87\" x=\"279.5\" y=\"283\"/><text fill=\"#000000\" font-family=\"sans-serif\" font-size=\"12\" font-style=\"italic\" lengthAdjust=\"spacingAndGlyphs\" textLength=\"85\" x=\"280.5\" y=\"299.1387\">«occurrence»</text><text fill=\"#000000\" font-family=\"sans-serif\" font-size=\"12\" lengthAdjust=\"spacingAndGlyphs\" textLength=\"61\" x=\"290.5\" y=\"313.1074\">occ1: Occ</text><line style=\"stroke: #383838; stroke-width: 1.5;\" x1=\"280.5\" x2=\"365.5\" y1=\"320.9375\" y2=\"320.9375\"/></a><!--MD5=[ebbe1d658d1005bcc118a6aa81145e00]\n",
       "class E4--><a href=\"psysml:3522e0a2-d0dd-4c95-916a-e9f89fbadd86\" target=\"_top\" title=\"psysml:3522e0a2-d0dd-4c95-916a-e9f89fbadd86\" xlink:actuate=\"onRequest\" xlink:href=\"psysml:3522e0a2-d0dd-4c95-916a-e9f89fbadd86\" xlink:show=\"new\" xlink:title=\"psysml:3522e0a2-d0dd-4c95-916a-e9f89fbadd86\" xlink:type=\"simple\"><rect fill=\"#FFFFFF\" height=\"45.9375\" id=\"E4\" rx=\"10\" ry=\"10\" style=\"stroke: #383838; stroke-width: 1.5;\" width=\"87\" x=\"401.5\" y=\"283\"/><text fill=\"#000000\" font-family=\"sans-serif\" font-size=\"12\" font-style=\"italic\" lengthAdjust=\"spacingAndGlyphs\" textLength=\"85\" x=\"402.5\" y=\"299.1387\">«occurrence»</text><text fill=\"#000000\" font-family=\"sans-serif\" font-size=\"12\" lengthAdjust=\"spacingAndGlyphs\" textLength=\"61\" x=\"412.5\" y=\"313.1074\">occ2: Occ</text><line style=\"stroke: #383838; stroke-width: 1.5;\" x1=\"402.5\" x2=\"487.5\" y1=\"320.9375\" y2=\"320.9375\"/></a><!--MD5=[270fce915f116d4de14055a7c1d9a0f3]\n",
       "class E5--><a href=\"psysml:2ba1b44f-ac88-49ba-a1da-8edc5df2da3a\" target=\"_top\" title=\"psysml:2ba1b44f-ac88-49ba-a1da-8edc5df2da3a\" xlink:actuate=\"onRequest\" xlink:href=\"psysml:2ba1b44f-ac88-49ba-a1da-8edc5df2da3a\" xlink:show=\"new\" xlink:title=\"psysml:2ba1b44f-ac88-49ba-a1da-8edc5df2da3a\" xlink:type=\"simple\"><rect fill=\"#FFFFFF\" height=\"45.9375\" id=\"E5\" rx=\"10\" ry=\"10\" style=\"stroke: #383838; stroke-width: 1.5;\" width=\"212\" x=\"524\" y=\"283\"/><text fill=\"#000000\" font-family=\"sans-serif\" font-size=\"12\" font-style=\"italic\" lengthAdjust=\"spacingAndGlyphs\" textLength=\"210\" x=\"525\" y=\"299.1387\">«individual snapshot occurrence»</text><text fill=\"#000000\" font-family=\"sans-serif\" font-size=\"12\" lengthAdjust=\"spacingAndGlyphs\" textLength=\"34\" x=\"611\" y=\"313.1074\">s: Ind</text><line style=\"stroke: #383838; stroke-width: 1.5;\" x1=\"525\" x2=\"735\" y1=\"320.9375\" y2=\"320.9375\"/></a><!--MD5=[60a26617385b1d2d0262a64233df1f8d]\n",
       "class E6--><a href=\"psysml:aefaf76d-f241-48e8-80ea-b99598299972\" target=\"_top\" title=\"psysml:aefaf76d-f241-48e8-80ea-b99598299972\" xlink:actuate=\"onRequest\" xlink:href=\"psysml:aefaf76d-f241-48e8-80ea-b99598299972\" xlink:show=\"new\" xlink:title=\"psysml:aefaf76d-f241-48e8-80ea-b99598299972\" xlink:type=\"simple\"><rect fill=\"#FFFFFF\" height=\"45.9375\" id=\"E6\" rx=\"10\" ry=\"10\" style=\"stroke: #383838; stroke-width: 1.5;\" width=\"146\" x=\"771\" y=\"283\"/><text fill=\"#000000\" font-family=\"sans-serif\" font-size=\"12\" font-style=\"italic\" lengthAdjust=\"spacingAndGlyphs\" textLength=\"144\" x=\"772\" y=\"299.1387\">«timeslice occurrence»</text><text fill=\"#000000\" font-family=\"sans-serif\" font-size=\"12\" lengthAdjust=\"spacingAndGlyphs\" textLength=\"5\" x=\"839.5\" y=\"313.1074\">t</text><line style=\"stroke: #383838; stroke-width: 1.5;\" x1=\"772\" x2=\"916\" y1=\"320.9375\" y2=\"320.9375\"/></a><!--MD5=[2156ba9850f5573cc1fc38a6a4b2f02b]\n",
       "class E7--><a href=\"psysml:991e81ed-291b-4563-955c-44288cc9fc81\" target=\"_top\" title=\"psysml:991e81ed-291b-4563-955c-44288cc9fc81\" xlink:actuate=\"onRequest\" xlink:href=\"psysml:991e81ed-291b-4563-955c-44288cc9fc81\" xlink:show=\"new\" xlink:title=\"psysml:991e81ed-291b-4563-955c-44288cc9fc81\" xlink:type=\"simple\"><rect fill=\"#FFFFFF\" height=\"45.9375\" id=\"E7\" style=\"stroke: #383838; stroke-width: 1.5;\" width=\"177\" x=\"541.5\" y=\"389\"/><text fill=\"#000000\" font-family=\"sans-serif\" font-size=\"12\" font-style=\"italic\" lengthAdjust=\"spacingAndGlyphs\" textLength=\"175\" x=\"542.5\" y=\"405.1387\">«individual occurrence  def»</text><text fill=\"#000000\" font-family=\"sans-serif\" font-size=\"12\" lengthAdjust=\"spacingAndGlyphs\" textLength=\"19\" x=\"620.5\" y=\"419.1074\">Ind</text><line style=\"stroke: #383838; stroke-width: 1.5;\" x1=\"542.5\" x2=\"717.5\" y1=\"426.9375\" y2=\"426.9375\"/></a><!--MD5=[b9389687b975829384b498ac4b7476b2]\n",
       "class E8--><a href=\"psysml:fb7dbc0d-a670-4e6d-a2b6-24a9a70c023a\" target=\"_top\" title=\"psysml:fb7dbc0d-a670-4e6d-a2b6-24a9a70c023a\" xlink:actuate=\"onRequest\" xlink:href=\"psysml:fb7dbc0d-a670-4e6d-a2b6-24a9a70c023a\" xlink:show=\"new\" xlink:title=\"psysml:fb7dbc0d-a670-4e6d-a2b6-24a9a70c023a\" xlink:type=\"simple\"><rect fill=\"#FFFFFF\" height=\"45.9375\" id=\"E8\" rx=\"10\" ry=\"10\" style=\"stroke: #383838; stroke-width: 1.5;\" width=\"150\" x=\"463\" y=\"495\"/><text fill=\"#000000\" font-family=\"sans-serif\" font-size=\"12\" font-style=\"italic\" lengthAdjust=\"spacingAndGlyphs\" textLength=\"148\" x=\"464\" y=\"511.1387\">«snapshot occurrence»</text><text fill=\"#000000\" font-family=\"sans-serif\" font-size=\"12\" lengthAdjust=\"spacingAndGlyphs\" textLength=\"15\" x=\"528.5\" y=\"525.1074\">s2</text><line style=\"stroke: #383838; stroke-width: 1.5;\" x1=\"464\" x2=\"612\" y1=\"532.9375\" y2=\"532.9375\"/></a><!--MD5=[fd4143e9d270a159db93a4ea2a975926]\n",
       "class E9--><a href=\"psysml:ae0fd4ea-8dc7-4cb0-a32c-5615a8f756eb\" target=\"_top\" title=\"psysml:ae0fd4ea-8dc7-4cb0-a32c-5615a8f756eb\" xlink:actuate=\"onRequest\" xlink:href=\"psysml:ae0fd4ea-8dc7-4cb0-a32c-5615a8f756eb\" xlink:show=\"new\" xlink:title=\"psysml:ae0fd4ea-8dc7-4cb0-a32c-5615a8f756eb\" xlink:type=\"simple\"><rect fill=\"#FFFFFF\" height=\"45.9375\" id=\"E9\" rx=\"10\" ry=\"10\" style=\"stroke: #383838; stroke-width: 1.5;\" width=\"146\" x=\"648\" y=\"495\"/><text fill=\"#000000\" font-family=\"sans-serif\" font-size=\"12\" font-style=\"italic\" lengthAdjust=\"spacingAndGlyphs\" textLength=\"144\" x=\"649\" y=\"511.1387\">«timeslice occurrence»</text><text fill=\"#000000\" font-family=\"sans-serif\" font-size=\"12\" lengthAdjust=\"spacingAndGlyphs\" textLength=\"13\" x=\"712.5\" y=\"525.1074\">t2</text><line style=\"stroke: #383838; stroke-width: 1.5;\" x1=\"649\" x2=\"793\" y1=\"532.9375\" y2=\"532.9375\"/></a><!--MD5=[96f4274e9e20536e775497830990834d]\n",
       "class E10--><a href=\"psysml:90168d9a-6358-4939-88d7-8ec9974b52c6\" target=\"_top\" title=\"psysml:90168d9a-6358-4939-88d7-8ec9974b52c6\" xlink:actuate=\"onRequest\" xlink:href=\"psysml:90168d9a-6358-4939-88d7-8ec9974b52c6\" xlink:show=\"new\" xlink:title=\"psysml:90168d9a-6358-4939-88d7-8ec9974b52c6\" xlink:type=\"simple\"><rect fill=\"#FFFFFF\" height=\"45.9375\" id=\"E10\" rx=\"10\" ry=\"10\" style=\"stroke: #383838; stroke-width: 1.5;\" width=\"149\" x=\"505.5\" y=\"41\"/><text fill=\"#000000\" font-family=\"sans-serif\" font-size=\"12\" font-style=\"italic\" lengthAdjust=\"spacingAndGlyphs\" textLength=\"147\" x=\"506.5\" y=\"57.1387\">«individual occurrence»</text><text fill=\"#000000\" font-family=\"sans-serif\" font-size=\"12\" lengthAdjust=\"spacingAndGlyphs\" textLength=\"77\" x=\"539.5\" y=\"71.1074\">ind: Ind, Occ</text><line style=\"stroke: #383838; stroke-width: 1.5;\" x1=\"506.5\" x2=\"653.5\" y1=\"78.9375\" y2=\"78.9375\"/></a><!--MD5=[1dd1bfd58a279cf63c5f349dbc8fc6a1]\n",
       "class E11--><a href=\"psysml:d0eba55f-a402-4b22-88ba-9857d6bd50ac\" target=\"_top\" title=\"psysml:d0eba55f-a402-4b22-88ba-9857d6bd50ac\" xlink:actuate=\"onRequest\" xlink:href=\"psysml:d0eba55f-a402-4b22-88ba-9857d6bd50ac\" xlink:show=\"new\" xlink:title=\"psysml:d0eba55f-a402-4b22-88ba-9857d6bd50ac\" xlink:type=\"simple\"><rect fill=\"#FFFFFF\" height=\"45.9375\" id=\"E11\" rx=\"10\" ry=\"10\" style=\"stroke: #383838; stroke-width: 1.5;\" width=\"150\" x=\"561\" y=\"162\"/><text fill=\"#000000\" font-family=\"sans-serif\" font-size=\"12\" font-style=\"italic\" lengthAdjust=\"spacingAndGlyphs\" textLength=\"148\" x=\"562\" y=\"178.1387\">«snapshot occurrence»</text><text fill=\"#000000\" font-family=\"sans-serif\" font-size=\"12\" lengthAdjust=\"spacingAndGlyphs\" textLength=\"15\" x=\"626.5\" y=\"192.1074\">s3</text><line style=\"stroke: #383838; stroke-width: 1.5;\" x1=\"562\" x2=\"710\" y1=\"199.9375\" y2=\"199.9375\"/></a><!--MD5=[49a0ec8f00dab7302a31f22d0f0fe584]\n",
       "class E12--><a href=\"psysml:0232df4f-93e4-4add-8902-f942e03a0634\" target=\"_top\" title=\"psysml:0232df4f-93e4-4add-8902-f942e03a0634\" xlink:actuate=\"onRequest\" xlink:href=\"psysml:0232df4f-93e4-4add-8902-f942e03a0634\" xlink:show=\"new\" xlink:title=\"psysml:0232df4f-93e4-4add-8902-f942e03a0634\" xlink:type=\"simple\"><rect fill=\"#FFFFFF\" height=\"45.9375\" id=\"E12\" rx=\"10\" ry=\"10\" style=\"stroke: #383838; stroke-width: 1.5;\" width=\"208\" x=\"746\" y=\"162\"/><text fill=\"#000000\" font-family=\"sans-serif\" font-size=\"12\" font-style=\"italic\" lengthAdjust=\"spacingAndGlyphs\" textLength=\"206\" x=\"747\" y=\"178.1387\">«individual timeslice occurrence»</text><text fill=\"#000000\" font-family=\"sans-serif\" font-size=\"12\" lengthAdjust=\"spacingAndGlyphs\" textLength=\"13\" x=\"841.5\" y=\"192.1074\">t3</text><line style=\"stroke: #383838; stroke-width: 1.5;\" x1=\"747\" x2=\"953\" y1=\"199.9375\" y2=\"199.9375\"/></a><!--MD5=[ee3c913d1a06f366521f9ef512b67efe]\n",
       "class E13--><a href=\"psysml:5cbde71f-e2d0-40cd-91ed-92f5bc776eb7\" target=\"_top\" title=\"psysml:5cbde71f-e2d0-40cd-91ed-92f5bc776eb7\" xlink:actuate=\"onRequest\" xlink:href=\"psysml:5cbde71f-e2d0-40cd-91ed-92f5bc776eb7\" xlink:show=\"new\" xlink:title=\"psysml:5cbde71f-e2d0-40cd-91ed-92f5bc776eb7\" xlink:type=\"simple\"><rect fill=\"#FFFFFF\" height=\"45.9375\" id=\"E13\" rx=\"10\" ry=\"10\" style=\"stroke: #383838; stroke-width: 1.5;\" width=\"212\" x=\"32\" y=\"283\"/><text fill=\"#000000\" font-family=\"sans-serif\" font-size=\"12\" font-style=\"italic\" lengthAdjust=\"spacingAndGlyphs\" textLength=\"210\" x=\"33\" y=\"299.1387\">«individual snapshot occurrence»</text><text fill=\"#000000\" font-family=\"sans-serif\" font-size=\"12\" lengthAdjust=\"spacingAndGlyphs\" textLength=\"42\" x=\"115\" y=\"313.1074\">s4: Ind</text><line style=\"stroke: #383838; stroke-width: 1.5;\" x1=\"33\" x2=\"243\" y1=\"320.9375\" y2=\"320.9375\"/></a><!--MD5=[209b3feb70ccb6233bfe1053d122c12c]\n",
       "reverse link E2 to E3--><a href=\"psysml:111e77a4-44f2-45ac-862d-a1e02a1cad26\" target=\"_top\" title=\"psysml:111e77a4-44f2-45ac-862d-a1e02a1cad26\" xlink:actuate=\"onRequest\" xlink:href=\"psysml:111e77a4-44f2-45ac-862d-a1e02a1cad26\" xlink:show=\"new\" xlink:title=\"psysml:111e77a4-44f2-45ac-862d-a1e02a1cad26\" xlink:type=\"simple\"><path d=\"M376.37,232.45 C359.85,249.83 343.43,268.76 332.86,282.93 \" fill=\"none\" id=\"E2&lt;-E3\" style=\"stroke: #383838; stroke-width: 1.0;\"/><polygon fill=\"#FFFFFF\" points=\"385.52,223,378.4729,224.5294,377.1743,231.6226,384.2213,230.0932,385.52,223\" style=\"stroke: #383838; stroke-width: 1.0;\"/></a><!--MD5=[05d275557350bfb9b23a4ef7222b4c39]\n",
       "link E3 to E2--><a href=\"psysml:0f45e557-8f0e-4df9-b1d8-28bd2526f5a3\" target=\"_top\" title=\"psysml:0f45e557-8f0e-4df9-b1d8-28bd2526f5a3\" xlink:actuate=\"onRequest\" xlink:href=\"psysml:0f45e557-8f0e-4df9-b1d8-28bd2526f5a3\" xlink:show=\"new\" xlink:title=\"psysml:0f45e557-8f0e-4df9-b1d8-28bd2526f5a3\" xlink:type=\"simple\"><path d=\"M353.8,282.93 C367.38,270.34 383.11,253.98 396.95,238.29 \" fill=\"none\" id=\"E3-&gt;E2\" style=\"stroke: #383838; stroke-width: 1.0;\"/><polygon fill=\"#FFFFFF\" points=\"410.02,223,403.0007,241.9929,392.3563,232.8991,410.02,223\" style=\"stroke: #383838; stroke-width: 1.0;\"/><ellipse cx=\"397.7776\" cy=\"245.0276\" fill=\"#383838\" rx=\"2\" ry=\"2\" style=\"stroke: #383838; stroke-width: 1.0;\"/><ellipse cx=\"390.1744\" cy=\"238.532\" fill=\"#383838\" rx=\"2\" ry=\"2\" style=\"stroke: #383838; stroke-width: 1.0;\"/></a><!--MD5=[9618e71518536f8baf3342ff6fdab317]\n",
       "reverse link E2 to E4--><a href=\"psysml:7f5381ff-79d6-4175-8599-1b084d5a38fb\" target=\"_top\" title=\"psysml:7f5381ff-79d6-4175-8599-1b084d5a38fb\" xlink:actuate=\"onRequest\" xlink:href=\"psysml:7f5381ff-79d6-4175-8599-1b084d5a38fb\" xlink:show=\"new\" xlink:title=\"psysml:7f5381ff-79d6-4175-8599-1b084d5a38fb\" xlink:type=\"simple\"><path d=\"M424.31,236.34 C425.74,252.61 428.58,269.81 432.23,282.93 \" fill=\"none\" id=\"E2&lt;-E4\" style=\"stroke: #383838; stroke-width: 1.0;\"/><polygon fill=\"#383838\" points=\"423.45,223,419.8475,229.2467,424.2281,234.9747,427.8306,228.728,423.45,223\" style=\"stroke: #383838; stroke-width: 1.0;\"/></a><!--MD5=[185131fc0dcab0a4505a2ebe144e961b]\n",
       "link E4 to E2--><a href=\"psysml:9af83ecd-fc65-4272-8374-c2ac75a0337a\" target=\"_top\" title=\"psysml:9af83ecd-fc65-4272-8374-c2ac75a0337a\" xlink:actuate=\"onRequest\" xlink:href=\"psysml:9af83ecd-fc65-4272-8374-c2ac75a0337a\" xlink:show=\"new\" xlink:title=\"psysml:9af83ecd-fc65-4272-8374-c2ac75a0337a\" xlink:type=\"simple\"><path d=\"M453.17,282.93 C453.77,271.65 452.99,257.34 451.22,243.21 \" fill=\"none\" id=\"E4-&gt;E2\" style=\"stroke: #383838; stroke-width: 1.0;\"/><polygon fill=\"#FFFFFF\" points=\"447.96,223,457.8973,240.6423,444.0761,242.8725,447.96,223\" style=\"stroke: #383838; stroke-width: 1.0;\"/><ellipse cx=\"456.8309\" cy=\"246.5881\" fill=\"#383838\" rx=\"2\" ry=\"2\" style=\"stroke: #383838; stroke-width: 1.0;\"/><ellipse cx=\"446.9586\" cy=\"248.1811\" fill=\"#383838\" rx=\"2\" ry=\"2\" style=\"stroke: #383838; stroke-width: 1.0;\"/></a><!--MD5=[4e1a83fab71cdb913c109063314ae896]\n",
       "reverse link E2 to E5--><a href=\"psysml:648e9e41-ac7c-450e-af70-439d81f3f540\" target=\"_top\" title=\"psysml:648e9e41-ac7c-450e-af70-439d81f3f540\" xlink:actuate=\"onRequest\" xlink:href=\"psysml:648e9e41-ac7c-450e-af70-439d81f3f540\" xlink:show=\"new\" xlink:title=\"psysml:648e9e41-ac7c-450e-af70-439d81f3f540\" xlink:type=\"simple\"><path d=\"M499.85,227.17 C531.12,245.87 566.86,267.24 592.97,282.85 \" fill=\"none\" id=\"E2&lt;-E5\" style=\"stroke: #383838; stroke-width: 1.0;\"/><polygon fill=\"#383838\" points=\"488.56,220.42,491.6568,226.9323,498.8592,226.5784,495.7624,220.0661,488.56,220.42\" style=\"stroke: #383838; stroke-width: 1.0;\"/></a><!--MD5=[ce036f65110ae2351ccce5a81dc2e928]\n",
       "reverse link E2 to E6--><a href=\"psysml:00b8b9a4-593e-406d-b505-212ff2a7c9c1\" target=\"_top\" title=\"psysml:00b8b9a4-593e-406d-b505-212ff2a7c9c1\" xlink:actuate=\"onRequest\" xlink:href=\"psysml:00b8b9a4-593e-406d-b505-212ff2a7c9c1\" xlink:show=\"new\" xlink:title=\"psysml:00b8b9a4-593e-406d-b505-212ff2a7c9c1\" xlink:type=\"simple\"><path d=\"M500.82,216.39 C509.83,220.32 516,223 516,223 C516,223 674.13,262.53 770.8,286.7 \" fill=\"none\" id=\"E2&lt;-E6\" style=\"stroke: #383838; stroke-width: 1.0;\"/><polygon fill=\"#383838\" points=\"488.64,211.09,492.5451,217.1522,499.643,215.8791,495.7378,209.8169,488.64,211.09\" style=\"stroke: #383838; stroke-width: 1.0;\"/></a><!--MD5=[3a9b96bfbf6b6ad89c494e81751bda47]\n",
       "link E5 to E7--><a href=\"psysml:088b8ee7-f1bc-4574-b816-43bcf4f14b77\" target=\"_top\" title=\"psysml:088b8ee7-f1bc-4574-b816-43bcf4f14b77\" xlink:actuate=\"onRequest\" xlink:href=\"psysml:088b8ee7-f1bc-4574-b816-43bcf4f14b77\" xlink:show=\"new\" xlink:title=\"psysml:088b8ee7-f1bc-4574-b816-43bcf4f14b77\" xlink:type=\"simple\"><path d=\"M630,329.06 C630,340.64 630,355.23 630,368.87 \" fill=\"none\" id=\"E5-&gt;E7\" style=\"stroke: #383838; stroke-width: 1.0;\"/><polygon fill=\"#FFFFFF\" points=\"630,388.98,623,369.98,637,369.98,630,388.98\" style=\"stroke: #383838; stroke-width: 1.0;\"/><ellipse cx=\"625\" cy=\"364.28\" fill=\"#383838\" rx=\"2\" ry=\"2\" style=\"stroke: #383838; stroke-width: 1.0;\"/><ellipse cx=\"635\" cy=\"364.28\" fill=\"#383838\" rx=\"2\" ry=\"2\" style=\"stroke: #383838; stroke-width: 1.0;\"/></a><!--MD5=[dc164f5e8a733ab456ef1add180e9e34]\n",
       "reverse link E7 to E8--><a href=\"psysml:c8813ef9-ffa9-4c9d-80a4-dd20f6c80ea5\" target=\"_top\" title=\"psysml:c8813ef9-ffa9-4c9d-80a4-dd20f6c80ea5\" xlink:actuate=\"onRequest\" xlink:href=\"psysml:c8813ef9-ffa9-4c9d-80a4-dd20f6c80ea5\" xlink:show=\"new\" xlink:title=\"psysml:c8813ef9-ffa9-4c9d-80a4-dd20f6c80ea5\" xlink:type=\"simple\"><path d=\"M601.55,445.16 C587.25,461.33 570.28,480.51 557.48,494.98 \" fill=\"none\" id=\"E7&lt;-E8\" style=\"stroke: #383838; stroke-width: 1.0;\"/><polygon fill=\"#383838\" points=\"610.49,435.06,603.5177,436.9004,602.5348,444.0442,609.5071,442.2038,610.49,435.06\" style=\"stroke: #383838; stroke-width: 1.0;\"/></a><!--MD5=[e4a10ef82d0e328e31cac39a31e58dda]\n",
       "reverse link E7 to E9--><a href=\"psysml:cdca8d7c-6aa5-4fff-9e0e-900e3ba85343\" target=\"_top\" title=\"psysml:cdca8d7c-6aa5-4fff-9e0e-900e3ba85343\" xlink:actuate=\"onRequest\" xlink:href=\"psysml:cdca8d7c-6aa5-4fff-9e0e-900e3ba85343\" xlink:show=\"new\" xlink:title=\"psysml:cdca8d7c-6aa5-4fff-9e0e-900e3ba85343\" xlink:type=\"simple\"><path d=\"M658.14,445.16 C672.29,461.33 689.07,480.51 701.73,494.98 \" fill=\"none\" id=\"E7&lt;-E9\" style=\"stroke: #383838; stroke-width: 1.0;\"/><polygon fill=\"#383838\" points=\"649.3,435.06,650.2496,442.2083,657.2133,444.0811,656.2637,436.9328,649.3,435.06\" style=\"stroke: #383838; stroke-width: 1.0;\"/></a><!--MD5=[a919e0967d6f3de553dc51b9865a1d6d]\n",
       "link E10 to E7--><a href=\"psysml:43f26010-ca40-42d6-8df0-e4847d82fc63\" target=\"_top\" title=\"psysml:43f26010-ca40-42d6-8df0-e4847d82fc63\" xlink:actuate=\"onRequest\" xlink:href=\"psysml:43f26010-ca40-42d6-8df0-e4847d82fc63\" xlink:show=\"new\" xlink:title=\"psysml:43f26010-ca40-42d6-8df0-e4847d82fc63\" xlink:type=\"simple\"><path d=\"M570.16,87.41 C559.5,111.69 544,147 544,147 C544,147 544,223 544,223 C544,223 935,283 935,283 C935,283 935,329 935,329 C935,329 820.21,359.86 731.48,383.72 \" fill=\"none\" id=\"E10-&gt;E7\" style=\"stroke: #383838; stroke-width: 1.0;\"/><polygon fill=\"#FFFFFF\" points=\"712.14,388.92,728.6669,377.2212,732.3065,390.7398,712.14,388.92\" style=\"stroke: #383838; stroke-width: 1.0;\"/><ellipse cx=\"734.6908\" cy=\"377.6706\" fill=\"#383838\" rx=\"2\" ry=\"2\" style=\"stroke: #383838; stroke-width: 1.0;\"/><ellipse cx=\"737.2906\" cy=\"387.3267\" fill=\"#383838\" rx=\"2\" ry=\"2\" style=\"stroke: #383838; stroke-width: 1.0;\"/></a><!--MD5=[0f36bececdf0dff6e600d6f64214b0f1]\n",
       "link E10 to E2--><a href=\"psysml:ac89f7fb-b091-4bc7-aaea-6377fc157ffe\" target=\"_top\" title=\"psysml:ac89f7fb-b091-4bc7-aaea-6377fc157ffe\" xlink:actuate=\"onRequest\" xlink:href=\"psysml:ac89f7fb-b091-4bc7-aaea-6377fc157ffe\" xlink:show=\"new\" xlink:title=\"psysml:ac89f7fb-b091-4bc7-aaea-6377fc157ffe\" xlink:type=\"simple\"><path d=\"M552.32,87.1 C535.71,100.38 513.86,117.82 493.29,134.25 \" fill=\"none\" id=\"E10-&gt;E2\" style=\"stroke: #383838; stroke-width: 1.0;\"/><polygon fill=\"#FFFFFF\" points=\"477.56,146.81,488.0352,129.4817,496.7737,140.4197,477.56,146.81\" style=\"stroke: #383838; stroke-width: 1.0;\"/><ellipse cx=\"493.7369\" cy=\"127.4865\" fill=\"#383838\" rx=\"2\" ry=\"2\" style=\"stroke: #383838; stroke-width: 1.0;\"/><ellipse cx=\"499.9786\" cy=\"135.2994\" fill=\"#383838\" rx=\"2\" ry=\"2\" style=\"stroke: #383838; stroke-width: 1.0;\"/></a><!--MD5=[de308be4a2431766a05a907a031c07fc]\n",
       "reverse link E10 to E11--><a href=\"psysml:75c081c5-05e2-401c-b103-d900689a3a49\" target=\"_top\" title=\"psysml:75c081c5-05e2-401c-b103-d900689a3a49\" xlink:actuate=\"onRequest\" xlink:href=\"psysml:75c081c5-05e2-401c-b103-d900689a3a49\" xlink:show=\"new\" xlink:title=\"psysml:75c081c5-05e2-401c-b103-d900689a3a49\" xlink:type=\"simple\"><path d=\"M595.95,98.9 C605.42,119.01 617.15,143.94 625.46,161.61 \" fill=\"none\" id=\"E10&lt;-E11\" style=\"stroke: #383838; stroke-width: 1.0;\"/><polygon fill=\"#383838\" points=\"590.4,87.1,589.3334,94.2318,595.5064,97.9593,596.573,90.8275,590.4,87.1\" style=\"stroke: #383838; stroke-width: 1.0;\"/></a><!--MD5=[1d54f998c6d5961a1a9184be73a7eb6c]\n",
       "reverse link E10 to E12--><a href=\"psysml:54130436-8b1f-4706-a610-d99b2d4cb5d4\" target=\"_top\" title=\"psysml:54130436-8b1f-4706-a610-d99b2d4cb5d4\" xlink:actuate=\"onRequest\" xlink:href=\"psysml:54130436-8b1f-4706-a610-d99b2d4cb5d4\" xlink:show=\"new\" xlink:title=\"psysml:54130436-8b1f-4706-a610-d99b2d4cb5d4\" xlink:type=\"simple\"><path d=\"M642.21,92.42 C689.99,113.48 755.13,142.19 799.66,161.81 \" fill=\"none\" id=\"E10&lt;-E12\" style=\"stroke: #383838; stroke-width: 1.0;\"/><polygon fill=\"#383838\" points=\"630.15,87.1,634.028,93.1796,641.1314,91.9382,637.2534,85.8586,630.15,87.1\" style=\"stroke: #383838; stroke-width: 1.0;\"/></a><!--MD5=[4a48077df6499cfcd20b62e8f5f37904]\n",
       "link E13 to E7--><a href=\"psysml:85f16706-e1b7-404d-9ee5-57d420bfb7f2\" target=\"_top\" title=\"psysml:85f16706-e1b7-404d-9ee5-57d420bfb7f2\" xlink:actuate=\"onRequest\" xlink:href=\"psysml:85f16706-e1b7-404d-9ee5-57d420bfb7f2\" xlink:show=\"new\" xlink:title=\"psysml:85f16706-e1b7-404d-9ee5-57d420bfb7f2\" xlink:type=\"simple\"><path d=\"M242.34,329.06 C324.51,346.43 438.67,370.56 521.82,388.13 \" fill=\"none\" id=\"E13-&gt;E7\" style=\"stroke: #383838; stroke-width: 1.0;\"/><polygon fill=\"#FFFFFF\" points=\"541.45,392.28,521.4143,395.2075,524.304,381.509,541.45,392.28\" style=\"stroke: #383838; stroke-width: 1.0;\"/><ellipse cx=\"516.2498\" cy=\"392.0741\" fill=\"#383838\" rx=\"2\" ry=\"2\" style=\"stroke: #383838; stroke-width: 1.0;\"/><ellipse cx=\"518.3139\" cy=\"382.2894\" fill=\"#383838\" rx=\"2\" ry=\"2\" style=\"stroke: #383838; stroke-width: 1.0;\"/></a><!--MD5=[22aa96b9f37e8f9a387cdf6db6e09d4e]\n",
       "@startuml\r\n",
       "skinparam linetype polyline\r\n",
       "skinparam monochrome true\r\n",
       "skinparam classbackgroundcolor white\r\n",
       "skinparam shadowing false\r\n",
       "skinparam wrapWidth 300\r\n",
       "hide circle\r\n",
       "\r\n",
       "package \"OccurrenceTest\" as E1  [[psysml:53f1d42d-2686-4f4b-950f-b84b40bc19b2 ]]  {\r\n",
       "comp def \"Occ\" as E2  <<(T,blue) occurrence  def>> [[psysml:77ba500d-77fd-484e-b411-8833010da35e ]] {\r\n",
       "- - attributes - -\r\n",
       "a\r\n",
       "}\r\n",
       "comp usage \"occ1: Occ \" as E3  <<(T,blue) occurrence>> [[psysml:37011562-c12e-4ce2-bbf9-af5619a300f0 ]] {\r\n",
       "}\r\n",
       "comp usage \"occ2: Occ \" as E4  <<(T,blue) occurrence>> [[psysml:3522e0a2-d0dd-4c95-916a-e9f89fbadd86 ]] {\r\n",
       "}\r\n",
       "comp usage \"s: Ind \" as E5  <<(T,blue) individual snapshot occurrence>> [[psysml:2ba1b44f-ac88-49ba-a1da-8edc5df2da3a ]] {\r\n",
       "}\r\n",
       "comp usage \"t \" as E6  <<(T,blue) timeslice occurrence>> [[psysml:aefaf76d-f241-48e8-80ea-b99598299972 ]] {\r\n",
       "}\r\n",
       "comp def \"Ind\" as E7  <<(T,blue) individual occurrence  def>> [[psysml:991e81ed-291b-4563-955c-44288cc9fc81 ]] {\r\n",
       "}\r\n",
       "comp usage \"s2 \" as E8  <<(T,blue) snapshot occurrence>> [[psysml:fb7dbc0d-a670-4e6d-a2b6-24a9a70c023a ]] {\r\n",
       "}\r\n",
       "comp usage \"t2 \" as E9  <<(T,blue) timeslice occurrence>> [[psysml:ae0fd4ea-8dc7-4cb0-a32c-5615a8f756eb ]] {\r\n",
       "}\r\n",
       "comp usage \"ind: Ind, Occ \" as E10  <<(T,blue) individual occurrence>> [[psysml:90168d9a-6358-4939-88d7-8ec9974b52c6 ]] {\r\n",
       "}\r\n",
       "comp usage \"s3 \" as E11  <<(T,blue) snapshot occurrence>> [[psysml:d0eba55f-a402-4b22-88ba-9857d6bd50ac ]] {\r\n",
       "}\r\n",
       "comp usage \"t3 \" as E12  <<(T,blue) individual timeslice occurrence>> [[psysml:0232df4f-93e4-4add-8902-f942e03a0634 ]] {\r\n",
       "}\r\n",
       "comp usage \"s4: Ind \" as E13  <<(T,blue) individual snapshot occurrence>> [[psysml:5cbde71f-e2d0-40cd-91ed-92f5bc776eb7 ]] {\r\n",
       "}\r\n",
       "}\r\n",
       "E2 o- - E3 [[psysml:111e77a4-44f2-45ac-862d-a1e02a1cad26 ]] \r\n",
       "E3 - -:|> E2 [[psysml:0f45e557-8f0e-4df9-b1d8-28bd2526f5a3 ]] \r\n",
       "E2 *- - E4 [[psysml:7f5381ff-79d6-4175-8599-1b084d5a38fb ]] \r\n",
       "E4 - -:|> E2 [[psysml:9af83ecd-fc65-4272-8374-c2ac75a0337a ]] \r\n",
       "E2 *- - E5 [[psysml:648e9e41-ac7c-450e-af70-439d81f3f540 ]] \r\n",
       "E2 *- - E6 [[psysml:00b8b9a4-593e-406d-b505-212ff2a7c9c1 ]] \r\n",
       "E5 - -:|> E7 [[psysml:088b8ee7-f1bc-4574-b816-43bcf4f14b77 ]] \r\n",
       "E7 *- - E8 [[psysml:c8813ef9-ffa9-4c9d-80a4-dd20f6c80ea5 ]] \r\n",
       "E7 *- - E9 [[psysml:cdca8d7c-6aa5-4fff-9e0e-900e3ba85343 ]] \r\n",
       "E10 - -:|> E7 [[psysml:43f26010-ca40-42d6-8df0-e4847d82fc63 ]] \r\n",
       "E10 - -:|> E2 [[psysml:ac89f7fb-b091-4bc7-aaea-6377fc157ffe ]] \r\n",
       "E10 *- - E11 [[psysml:75c081c5-05e2-401c-b103-d900689a3a49 ]] \r\n",
       "E10 *- - E12 [[psysml:54130436-8b1f-4706-a610-d99b2d4cb5d4 ]] \r\n",
       "E13 - -:|> E7 [[psysml:85f16706-e1b7-404d-9ee5-57d420bfb7f2 ]] \r\n",
       "@enduml\r\n",
       "\n",
       "PlantUML version 1.2020.13(Sat Jun 13 12:26:38 UTC 2020)\n",
       "(EPL source distribution)\n",
       "Java Runtime: OpenJDK Runtime Environment\n",
       "JVM: OpenJDK 64-Bit Server VM\n",
       "Default Encoding: UTF-8\n",
       "Language: en\n",
       "Country: null\n",
       "--></g></svg>"
      ]
     },
     "execution_count": 9,
     "metadata": {},
     "output_type": "execute_result"
    }
   ],
   "source": [
    "%viz --style=\"POLYLINE\" --view=\"Default\" \"OccurrenceTest\""
   ]
  },
  {
   "cell_type": "code",
   "execution_count": 10,
   "id": "c7092c32",
   "metadata": {
    "execution": {
     "iopub.execute_input": "2022-07-23T10:52:31.067332Z",
     "iopub.status.busy": "2022-07-23T10:52:31.066829Z",
     "iopub.status.idle": "2022-07-23T10:52:31.121051Z",
     "shell.execute_reply": "2022-07-23T10:52:31.119326Z"
    }
   },
   "outputs": [
    {
     "data": {
      "image/svg+xml": [
       "<?xml version=\"1.0\" encoding=\"UTF-8\" standalone=\"no\"?><svg xmlns=\"http://www.w3.org/2000/svg\" xmlns:xlink=\"http://www.w3.org/1999/xlink\" contentScriptType=\"application/ecmascript\" contentStyleType=\"text/css\" height=\"569px\" preserveAspectRatio=\"none\" style=\"width:992px;height:569px;\" version=\"1.1\" viewBox=\"0 0 992 569\" width=\"992px\" zoomAndPan=\"magnify\"><defs/><g><!--MD5=[fbc87193dbaf4d95561dea2c320d4a47]\n",
       "cluster E1--><a href=\"psysml:53f1d42d-2686-4f4b-950f-b84b40bc19b2\" target=\"_top\" title=\"psysml:53f1d42d-2686-4f4b-950f-b84b40bc19b2\" xlink:actuate=\"onRequest\" xlink:href=\"psysml:53f1d42d-2686-4f4b-950f-b84b40bc19b2\" xlink:show=\"new\" xlink:title=\"psysml:53f1d42d-2686-4f4b-950f-b84b40bc19b2\" xlink:type=\"simple\"><polygon fill=\"#FFFFFF\" points=\"16,6,134,6,141,28.2969,970,28.2969,970,557,16,557,16,6\" style=\"stroke: #000000; stroke-width: 1.5;\"/><line style=\"stroke: #000000; stroke-width: 1.5;\" x1=\"16\" x2=\"141\" y1=\"28.2969\" y2=\"28.2969\"/><text fill=\"#000000\" font-family=\"sans-serif\" font-size=\"14\" font-weight=\"bold\" lengthAdjust=\"spacingAndGlyphs\" textLength=\"112\" x=\"20\" y=\"20.9951\">OccurrenceTest</text></a><!--MD5=[b4997ac47864f28c2f74865a473b2911]\n",
       "class E2--><a href=\"psysml:77ba500d-77fd-484e-b411-8833010da35e\" target=\"_top\" title=\"psysml:77ba500d-77fd-484e-b411-8833010da35e\" xlink:actuate=\"onRequest\" xlink:href=\"psysml:77ba500d-77fd-484e-b411-8833010da35e\" xlink:show=\"new\" xlink:title=\"psysml:77ba500d-77fd-484e-b411-8833010da35e\" xlink:type=\"simple\"><rect fill=\"#FFFFFF\" height=\"75.5469\" id=\"E2\" style=\"stroke: #383838; stroke-width: 1.5;\" width=\"115\" x=\"373.5\" y=\"147\"/><text fill=\"#000000\" font-family=\"sans-serif\" font-size=\"12\" font-style=\"italic\" lengthAdjust=\"spacingAndGlyphs\" textLength=\"113\" x=\"374.5\" y=\"163.1387\">«occurrence  def»</text><text fill=\"#000000\" font-family=\"sans-serif\" font-size=\"12\" lengthAdjust=\"spacingAndGlyphs\" textLength=\"23\" x=\"419.5\" y=\"177.1074\">Occ</text><line style=\"stroke: #383838; stroke-width: 1.5;\" x1=\"374.5\" x2=\"487.5\" y1=\"184.9375\" y2=\"184.9375\"/><text fill=\"#000000\" font-family=\"sans-serif\" font-size=\"11\" lengthAdjust=\"spacingAndGlyphs\" textLength=\"7\" x=\"379.5\" y=\"215.9526\">a</text><line style=\"stroke: #383838; stroke-width: 1.0;\" x1=\"374.5\" x2=\"403.5\" y1=\"199.3398\" y2=\"199.3398\"/><text fill=\"#000000\" font-family=\"sans-serif\" font-size=\"11\" lengthAdjust=\"spacingAndGlyphs\" textLength=\"55\" x=\"403.5\" y=\"202.6479\">attributes</text><line style=\"stroke: #383838; stroke-width: 1.0;\" x1=\"458.5\" x2=\"487.5\" y1=\"199.3398\" y2=\"199.3398\"/></a><!--MD5=[09b614a08d8cba4a07c9adeb5e0fee81]\n",
       "class E3--><a href=\"psysml:37011562-c12e-4ce2-bbf9-af5619a300f0\" target=\"_top\" title=\"psysml:37011562-c12e-4ce2-bbf9-af5619a300f0\" xlink:actuate=\"onRequest\" xlink:href=\"psysml:37011562-c12e-4ce2-bbf9-af5619a300f0\" xlink:show=\"new\" xlink:title=\"psysml:37011562-c12e-4ce2-bbf9-af5619a300f0\" xlink:type=\"simple\"><rect fill=\"#FFFFFF\" height=\"45.9375\" id=\"E3\" rx=\"10\" ry=\"10\" style=\"stroke: #383838; stroke-width: 1.5;\" width=\"87\" x=\"279.5\" y=\"283\"/><text fill=\"#000000\" font-family=\"sans-serif\" font-size=\"12\" font-style=\"italic\" lengthAdjust=\"spacingAndGlyphs\" textLength=\"85\" x=\"280.5\" y=\"299.1387\">«occurrence»</text><text fill=\"#000000\" font-family=\"sans-serif\" font-size=\"12\" lengthAdjust=\"spacingAndGlyphs\" textLength=\"61\" x=\"290.5\" y=\"313.1074\">occ1: Occ</text><line style=\"stroke: #383838; stroke-width: 1.5;\" x1=\"280.5\" x2=\"365.5\" y1=\"320.9375\" y2=\"320.9375\"/></a><!--MD5=[ebbe1d658d1005bcc118a6aa81145e00]\n",
       "class E4--><a href=\"psysml:3522e0a2-d0dd-4c95-916a-e9f89fbadd86\" target=\"_top\" title=\"psysml:3522e0a2-d0dd-4c95-916a-e9f89fbadd86\" xlink:actuate=\"onRequest\" xlink:href=\"psysml:3522e0a2-d0dd-4c95-916a-e9f89fbadd86\" xlink:show=\"new\" xlink:title=\"psysml:3522e0a2-d0dd-4c95-916a-e9f89fbadd86\" xlink:type=\"simple\"><rect fill=\"#FFFFFF\" height=\"45.9375\" id=\"E4\" rx=\"10\" ry=\"10\" style=\"stroke: #383838; stroke-width: 1.5;\" width=\"87\" x=\"401.5\" y=\"283\"/><text fill=\"#000000\" font-family=\"sans-serif\" font-size=\"12\" font-style=\"italic\" lengthAdjust=\"spacingAndGlyphs\" textLength=\"85\" x=\"402.5\" y=\"299.1387\">«occurrence»</text><text fill=\"#000000\" font-family=\"sans-serif\" font-size=\"12\" lengthAdjust=\"spacingAndGlyphs\" textLength=\"61\" x=\"412.5\" y=\"313.1074\">occ2: Occ</text><line style=\"stroke: #383838; stroke-width: 1.5;\" x1=\"402.5\" x2=\"487.5\" y1=\"320.9375\" y2=\"320.9375\"/></a><!--MD5=[270fce915f116d4de14055a7c1d9a0f3]\n",
       "class E5--><a href=\"psysml:2ba1b44f-ac88-49ba-a1da-8edc5df2da3a\" target=\"_top\" title=\"psysml:2ba1b44f-ac88-49ba-a1da-8edc5df2da3a\" xlink:actuate=\"onRequest\" xlink:href=\"psysml:2ba1b44f-ac88-49ba-a1da-8edc5df2da3a\" xlink:show=\"new\" xlink:title=\"psysml:2ba1b44f-ac88-49ba-a1da-8edc5df2da3a\" xlink:type=\"simple\"><rect fill=\"#FFFFFF\" height=\"45.9375\" id=\"E5\" rx=\"10\" ry=\"10\" style=\"stroke: #383838; stroke-width: 1.5;\" width=\"212\" x=\"524\" y=\"283\"/><text fill=\"#000000\" font-family=\"sans-serif\" font-size=\"12\" font-style=\"italic\" lengthAdjust=\"spacingAndGlyphs\" textLength=\"210\" x=\"525\" y=\"299.1387\">«individual snapshot occurrence»</text><text fill=\"#000000\" font-family=\"sans-serif\" font-size=\"12\" lengthAdjust=\"spacingAndGlyphs\" textLength=\"34\" x=\"611\" y=\"313.1074\">s: Ind</text><line style=\"stroke: #383838; stroke-width: 1.5;\" x1=\"525\" x2=\"735\" y1=\"320.9375\" y2=\"320.9375\"/></a><!--MD5=[60a26617385b1d2d0262a64233df1f8d]\n",
       "class E6--><a href=\"psysml:aefaf76d-f241-48e8-80ea-b99598299972\" target=\"_top\" title=\"psysml:aefaf76d-f241-48e8-80ea-b99598299972\" xlink:actuate=\"onRequest\" xlink:href=\"psysml:aefaf76d-f241-48e8-80ea-b99598299972\" xlink:show=\"new\" xlink:title=\"psysml:aefaf76d-f241-48e8-80ea-b99598299972\" xlink:type=\"simple\"><rect fill=\"#FFFFFF\" height=\"45.9375\" id=\"E6\" rx=\"10\" ry=\"10\" style=\"stroke: #383838; stroke-width: 1.5;\" width=\"146\" x=\"771\" y=\"283\"/><text fill=\"#000000\" font-family=\"sans-serif\" font-size=\"12\" font-style=\"italic\" lengthAdjust=\"spacingAndGlyphs\" textLength=\"144\" x=\"772\" y=\"299.1387\">«timeslice occurrence»</text><text fill=\"#000000\" font-family=\"sans-serif\" font-size=\"12\" lengthAdjust=\"spacingAndGlyphs\" textLength=\"5\" x=\"839.5\" y=\"313.1074\">t</text><line style=\"stroke: #383838; stroke-width: 1.5;\" x1=\"772\" x2=\"916\" y1=\"320.9375\" y2=\"320.9375\"/></a><!--MD5=[2156ba9850f5573cc1fc38a6a4b2f02b]\n",
       "class E7--><a href=\"psysml:991e81ed-291b-4563-955c-44288cc9fc81\" target=\"_top\" title=\"psysml:991e81ed-291b-4563-955c-44288cc9fc81\" xlink:actuate=\"onRequest\" xlink:href=\"psysml:991e81ed-291b-4563-955c-44288cc9fc81\" xlink:show=\"new\" xlink:title=\"psysml:991e81ed-291b-4563-955c-44288cc9fc81\" xlink:type=\"simple\"><rect fill=\"#FFFFFF\" height=\"45.9375\" id=\"E7\" style=\"stroke: #383838; stroke-width: 1.5;\" width=\"177\" x=\"541.5\" y=\"389\"/><text fill=\"#000000\" font-family=\"sans-serif\" font-size=\"12\" font-style=\"italic\" lengthAdjust=\"spacingAndGlyphs\" textLength=\"175\" x=\"542.5\" y=\"405.1387\">«individual occurrence  def»</text><text fill=\"#000000\" font-family=\"sans-serif\" font-size=\"12\" lengthAdjust=\"spacingAndGlyphs\" textLength=\"19\" x=\"620.5\" y=\"419.1074\">Ind</text><line style=\"stroke: #383838; stroke-width: 1.5;\" x1=\"542.5\" x2=\"717.5\" y1=\"426.9375\" y2=\"426.9375\"/></a><!--MD5=[b9389687b975829384b498ac4b7476b2]\n",
       "class E8--><a href=\"psysml:fb7dbc0d-a670-4e6d-a2b6-24a9a70c023a\" target=\"_top\" title=\"psysml:fb7dbc0d-a670-4e6d-a2b6-24a9a70c023a\" xlink:actuate=\"onRequest\" xlink:href=\"psysml:fb7dbc0d-a670-4e6d-a2b6-24a9a70c023a\" xlink:show=\"new\" xlink:title=\"psysml:fb7dbc0d-a670-4e6d-a2b6-24a9a70c023a\" xlink:type=\"simple\"><rect fill=\"#FFFFFF\" height=\"45.9375\" id=\"E8\" rx=\"10\" ry=\"10\" style=\"stroke: #383838; stroke-width: 1.5;\" width=\"150\" x=\"463\" y=\"495\"/><text fill=\"#000000\" font-family=\"sans-serif\" font-size=\"12\" font-style=\"italic\" lengthAdjust=\"spacingAndGlyphs\" textLength=\"148\" x=\"464\" y=\"511.1387\">«snapshot occurrence»</text><text fill=\"#000000\" font-family=\"sans-serif\" font-size=\"12\" lengthAdjust=\"spacingAndGlyphs\" textLength=\"15\" x=\"528.5\" y=\"525.1074\">s2</text><line style=\"stroke: #383838; stroke-width: 1.5;\" x1=\"464\" x2=\"612\" y1=\"532.9375\" y2=\"532.9375\"/></a><!--MD5=[fd4143e9d270a159db93a4ea2a975926]\n",
       "class E9--><a href=\"psysml:ae0fd4ea-8dc7-4cb0-a32c-5615a8f756eb\" target=\"_top\" title=\"psysml:ae0fd4ea-8dc7-4cb0-a32c-5615a8f756eb\" xlink:actuate=\"onRequest\" xlink:href=\"psysml:ae0fd4ea-8dc7-4cb0-a32c-5615a8f756eb\" xlink:show=\"new\" xlink:title=\"psysml:ae0fd4ea-8dc7-4cb0-a32c-5615a8f756eb\" xlink:type=\"simple\"><rect fill=\"#FFFFFF\" height=\"45.9375\" id=\"E9\" rx=\"10\" ry=\"10\" style=\"stroke: #383838; stroke-width: 1.5;\" width=\"146\" x=\"648\" y=\"495\"/><text fill=\"#000000\" font-family=\"sans-serif\" font-size=\"12\" font-style=\"italic\" lengthAdjust=\"spacingAndGlyphs\" textLength=\"144\" x=\"649\" y=\"511.1387\">«timeslice occurrence»</text><text fill=\"#000000\" font-family=\"sans-serif\" font-size=\"12\" lengthAdjust=\"spacingAndGlyphs\" textLength=\"13\" x=\"712.5\" y=\"525.1074\">t2</text><line style=\"stroke: #383838; stroke-width: 1.5;\" x1=\"649\" x2=\"793\" y1=\"532.9375\" y2=\"532.9375\"/></a><!--MD5=[96f4274e9e20536e775497830990834d]\n",
       "class E10--><a href=\"psysml:90168d9a-6358-4939-88d7-8ec9974b52c6\" target=\"_top\" title=\"psysml:90168d9a-6358-4939-88d7-8ec9974b52c6\" xlink:actuate=\"onRequest\" xlink:href=\"psysml:90168d9a-6358-4939-88d7-8ec9974b52c6\" xlink:show=\"new\" xlink:title=\"psysml:90168d9a-6358-4939-88d7-8ec9974b52c6\" xlink:type=\"simple\"><rect fill=\"#FFFFFF\" height=\"45.9375\" id=\"E10\" rx=\"10\" ry=\"10\" style=\"stroke: #383838; stroke-width: 1.5;\" width=\"149\" x=\"505.5\" y=\"41\"/><text fill=\"#000000\" font-family=\"sans-serif\" font-size=\"12\" font-style=\"italic\" lengthAdjust=\"spacingAndGlyphs\" textLength=\"147\" x=\"506.5\" y=\"57.1387\">«individual occurrence»</text><text fill=\"#000000\" font-family=\"sans-serif\" font-size=\"12\" lengthAdjust=\"spacingAndGlyphs\" textLength=\"77\" x=\"539.5\" y=\"71.1074\">ind: Ind, Occ</text><line style=\"stroke: #383838; stroke-width: 1.5;\" x1=\"506.5\" x2=\"653.5\" y1=\"78.9375\" y2=\"78.9375\"/></a><!--MD5=[1dd1bfd58a279cf63c5f349dbc8fc6a1]\n",
       "class E11--><a href=\"psysml:d0eba55f-a402-4b22-88ba-9857d6bd50ac\" target=\"_top\" title=\"psysml:d0eba55f-a402-4b22-88ba-9857d6bd50ac\" xlink:actuate=\"onRequest\" xlink:href=\"psysml:d0eba55f-a402-4b22-88ba-9857d6bd50ac\" xlink:show=\"new\" xlink:title=\"psysml:d0eba55f-a402-4b22-88ba-9857d6bd50ac\" xlink:type=\"simple\"><rect fill=\"#FFFFFF\" height=\"45.9375\" id=\"E11\" rx=\"10\" ry=\"10\" style=\"stroke: #383838; stroke-width: 1.5;\" width=\"150\" x=\"561\" y=\"162\"/><text fill=\"#000000\" font-family=\"sans-serif\" font-size=\"12\" font-style=\"italic\" lengthAdjust=\"spacingAndGlyphs\" textLength=\"148\" x=\"562\" y=\"178.1387\">«snapshot occurrence»</text><text fill=\"#000000\" font-family=\"sans-serif\" font-size=\"12\" lengthAdjust=\"spacingAndGlyphs\" textLength=\"15\" x=\"626.5\" y=\"192.1074\">s3</text><line style=\"stroke: #383838; stroke-width: 1.5;\" x1=\"562\" x2=\"710\" y1=\"199.9375\" y2=\"199.9375\"/></a><!--MD5=[49a0ec8f00dab7302a31f22d0f0fe584]\n",
       "class E12--><a href=\"psysml:0232df4f-93e4-4add-8902-f942e03a0634\" target=\"_top\" title=\"psysml:0232df4f-93e4-4add-8902-f942e03a0634\" xlink:actuate=\"onRequest\" xlink:href=\"psysml:0232df4f-93e4-4add-8902-f942e03a0634\" xlink:show=\"new\" xlink:title=\"psysml:0232df4f-93e4-4add-8902-f942e03a0634\" xlink:type=\"simple\"><rect fill=\"#FFFFFF\" height=\"45.9375\" id=\"E12\" rx=\"10\" ry=\"10\" style=\"stroke: #383838; stroke-width: 1.5;\" width=\"208\" x=\"746\" y=\"162\"/><text fill=\"#000000\" font-family=\"sans-serif\" font-size=\"12\" font-style=\"italic\" lengthAdjust=\"spacingAndGlyphs\" textLength=\"206\" x=\"747\" y=\"178.1387\">«individual timeslice occurrence»</text><text fill=\"#000000\" font-family=\"sans-serif\" font-size=\"12\" lengthAdjust=\"spacingAndGlyphs\" textLength=\"13\" x=\"841.5\" y=\"192.1074\">t3</text><line style=\"stroke: #383838; stroke-width: 1.5;\" x1=\"747\" x2=\"953\" y1=\"199.9375\" y2=\"199.9375\"/></a><!--MD5=[ee3c913d1a06f366521f9ef512b67efe]\n",
       "class E13--><a href=\"psysml:5cbde71f-e2d0-40cd-91ed-92f5bc776eb7\" target=\"_top\" title=\"psysml:5cbde71f-e2d0-40cd-91ed-92f5bc776eb7\" xlink:actuate=\"onRequest\" xlink:href=\"psysml:5cbde71f-e2d0-40cd-91ed-92f5bc776eb7\" xlink:show=\"new\" xlink:title=\"psysml:5cbde71f-e2d0-40cd-91ed-92f5bc776eb7\" xlink:type=\"simple\"><rect fill=\"#FFFFFF\" height=\"45.9375\" id=\"E13\" rx=\"10\" ry=\"10\" style=\"stroke: #383838; stroke-width: 1.5;\" width=\"212\" x=\"32\" y=\"283\"/><text fill=\"#000000\" font-family=\"sans-serif\" font-size=\"12\" font-style=\"italic\" lengthAdjust=\"spacingAndGlyphs\" textLength=\"210\" x=\"33\" y=\"299.1387\">«individual snapshot occurrence»</text><text fill=\"#000000\" font-family=\"sans-serif\" font-size=\"12\" lengthAdjust=\"spacingAndGlyphs\" textLength=\"42\" x=\"115\" y=\"313.1074\">s4: Ind</text><line style=\"stroke: #383838; stroke-width: 1.5;\" x1=\"33\" x2=\"243\" y1=\"320.9375\" y2=\"320.9375\"/></a><!--MD5=[209b3feb70ccb6233bfe1053d122c12c]\n",
       "reverse link E2 to E3--><a href=\"psysml:111e77a4-44f2-45ac-862d-a1e02a1cad26\" target=\"_top\" title=\"psysml:111e77a4-44f2-45ac-862d-a1e02a1cad26\" xlink:actuate=\"onRequest\" xlink:href=\"psysml:111e77a4-44f2-45ac-862d-a1e02a1cad26\" xlink:show=\"new\" xlink:title=\"psysml:111e77a4-44f2-45ac-862d-a1e02a1cad26\" xlink:type=\"simple\"><path d=\"M376.37,232.45 C359.85,249.83 343.43,268.76 332.86,282.93 \" fill=\"none\" id=\"E2&lt;-E3\" style=\"stroke: #383838; stroke-width: 1.0;\"/><polygon fill=\"#FFFFFF\" points=\"385.52,223,378.4729,224.5294,377.1743,231.6226,384.2213,230.0932,385.52,223\" style=\"stroke: #383838; stroke-width: 1.0;\"/></a><!--MD5=[05d275557350bfb9b23a4ef7222b4c39]\n",
       "link E3 to E2--><a href=\"psysml:0f45e557-8f0e-4df9-b1d8-28bd2526f5a3\" target=\"_top\" title=\"psysml:0f45e557-8f0e-4df9-b1d8-28bd2526f5a3\" xlink:actuate=\"onRequest\" xlink:href=\"psysml:0f45e557-8f0e-4df9-b1d8-28bd2526f5a3\" xlink:show=\"new\" xlink:title=\"psysml:0f45e557-8f0e-4df9-b1d8-28bd2526f5a3\" xlink:type=\"simple\"><path d=\"M353.8,282.93 C367.38,270.34 383.11,253.98 396.95,238.29 \" fill=\"none\" id=\"E3-&gt;E2\" style=\"stroke: #383838; stroke-width: 1.0;\"/><polygon fill=\"#FFFFFF\" points=\"410.02,223,403.0007,241.9929,392.3563,232.8991,410.02,223\" style=\"stroke: #383838; stroke-width: 1.0;\"/><ellipse cx=\"397.7776\" cy=\"245.0276\" fill=\"#383838\" rx=\"2\" ry=\"2\" style=\"stroke: #383838; stroke-width: 1.0;\"/><ellipse cx=\"390.1744\" cy=\"238.532\" fill=\"#383838\" rx=\"2\" ry=\"2\" style=\"stroke: #383838; stroke-width: 1.0;\"/></a><!--MD5=[9618e71518536f8baf3342ff6fdab317]\n",
       "reverse link E2 to E4--><a href=\"psysml:7f5381ff-79d6-4175-8599-1b084d5a38fb\" target=\"_top\" title=\"psysml:7f5381ff-79d6-4175-8599-1b084d5a38fb\" xlink:actuate=\"onRequest\" xlink:href=\"psysml:7f5381ff-79d6-4175-8599-1b084d5a38fb\" xlink:show=\"new\" xlink:title=\"psysml:7f5381ff-79d6-4175-8599-1b084d5a38fb\" xlink:type=\"simple\"><path d=\"M424.31,236.34 C425.74,252.61 428.58,269.81 432.23,282.93 \" fill=\"none\" id=\"E2&lt;-E4\" style=\"stroke: #383838; stroke-width: 1.0;\"/><polygon fill=\"#383838\" points=\"423.45,223,419.8475,229.2467,424.2281,234.9747,427.8306,228.728,423.45,223\" style=\"stroke: #383838; stroke-width: 1.0;\"/></a><!--MD5=[185131fc0dcab0a4505a2ebe144e961b]\n",
       "link E4 to E2--><a href=\"psysml:9af83ecd-fc65-4272-8374-c2ac75a0337a\" target=\"_top\" title=\"psysml:9af83ecd-fc65-4272-8374-c2ac75a0337a\" xlink:actuate=\"onRequest\" xlink:href=\"psysml:9af83ecd-fc65-4272-8374-c2ac75a0337a\" xlink:show=\"new\" xlink:title=\"psysml:9af83ecd-fc65-4272-8374-c2ac75a0337a\" xlink:type=\"simple\"><path d=\"M453.17,282.93 C453.77,271.65 452.99,257.34 451.22,243.21 \" fill=\"none\" id=\"E4-&gt;E2\" style=\"stroke: #383838; stroke-width: 1.0;\"/><polygon fill=\"#FFFFFF\" points=\"447.96,223,457.8973,240.6423,444.0761,242.8725,447.96,223\" style=\"stroke: #383838; stroke-width: 1.0;\"/><ellipse cx=\"456.8309\" cy=\"246.5881\" fill=\"#383838\" rx=\"2\" ry=\"2\" style=\"stroke: #383838; stroke-width: 1.0;\"/><ellipse cx=\"446.9586\" cy=\"248.1811\" fill=\"#383838\" rx=\"2\" ry=\"2\" style=\"stroke: #383838; stroke-width: 1.0;\"/></a><!--MD5=[4e1a83fab71cdb913c109063314ae896]\n",
       "reverse link E2 to E5--><a href=\"psysml:648e9e41-ac7c-450e-af70-439d81f3f540\" target=\"_top\" title=\"psysml:648e9e41-ac7c-450e-af70-439d81f3f540\" xlink:actuate=\"onRequest\" xlink:href=\"psysml:648e9e41-ac7c-450e-af70-439d81f3f540\" xlink:show=\"new\" xlink:title=\"psysml:648e9e41-ac7c-450e-af70-439d81f3f540\" xlink:type=\"simple\"><path d=\"M499.85,227.17 C531.12,245.87 566.86,267.24 592.97,282.85 \" fill=\"none\" id=\"E2&lt;-E5\" style=\"stroke: #383838; stroke-width: 1.0;\"/><polygon fill=\"#383838\" points=\"488.56,220.42,491.6568,226.9323,498.8592,226.5784,495.7624,220.0661,488.56,220.42\" style=\"stroke: #383838; stroke-width: 1.0;\"/></a><!--MD5=[ce036f65110ae2351ccce5a81dc2e928]\n",
       "reverse link E2 to E6--><a href=\"psysml:00b8b9a4-593e-406d-b505-212ff2a7c9c1\" target=\"_top\" title=\"psysml:00b8b9a4-593e-406d-b505-212ff2a7c9c1\" xlink:actuate=\"onRequest\" xlink:href=\"psysml:00b8b9a4-593e-406d-b505-212ff2a7c9c1\" xlink:show=\"new\" xlink:title=\"psysml:00b8b9a4-593e-406d-b505-212ff2a7c9c1\" xlink:type=\"simple\"><path d=\"M500.82,216.39 C509.83,220.32 516,223 516,223 C516,223 674.13,262.53 770.8,286.7 \" fill=\"none\" id=\"E2&lt;-E6\" style=\"stroke: #383838; stroke-width: 1.0;\"/><polygon fill=\"#383838\" points=\"488.64,211.09,492.5451,217.1522,499.643,215.8791,495.7378,209.8169,488.64,211.09\" style=\"stroke: #383838; stroke-width: 1.0;\"/></a><!--MD5=[3a9b96bfbf6b6ad89c494e81751bda47]\n",
       "link E5 to E7--><a href=\"psysml:088b8ee7-f1bc-4574-b816-43bcf4f14b77\" target=\"_top\" title=\"psysml:088b8ee7-f1bc-4574-b816-43bcf4f14b77\" xlink:actuate=\"onRequest\" xlink:href=\"psysml:088b8ee7-f1bc-4574-b816-43bcf4f14b77\" xlink:show=\"new\" xlink:title=\"psysml:088b8ee7-f1bc-4574-b816-43bcf4f14b77\" xlink:type=\"simple\"><path d=\"M630,329.06 C630,340.64 630,355.23 630,368.87 \" fill=\"none\" id=\"E5-&gt;E7\" style=\"stroke: #383838; stroke-width: 1.0;\"/><polygon fill=\"#FFFFFF\" points=\"630,388.98,623,369.98,637,369.98,630,388.98\" style=\"stroke: #383838; stroke-width: 1.0;\"/><ellipse cx=\"625\" cy=\"364.28\" fill=\"#383838\" rx=\"2\" ry=\"2\" style=\"stroke: #383838; stroke-width: 1.0;\"/><ellipse cx=\"635\" cy=\"364.28\" fill=\"#383838\" rx=\"2\" ry=\"2\" style=\"stroke: #383838; stroke-width: 1.0;\"/></a><!--MD5=[dc164f5e8a733ab456ef1add180e9e34]\n",
       "reverse link E7 to E8--><a href=\"psysml:c8813ef9-ffa9-4c9d-80a4-dd20f6c80ea5\" target=\"_top\" title=\"psysml:c8813ef9-ffa9-4c9d-80a4-dd20f6c80ea5\" xlink:actuate=\"onRequest\" xlink:href=\"psysml:c8813ef9-ffa9-4c9d-80a4-dd20f6c80ea5\" xlink:show=\"new\" xlink:title=\"psysml:c8813ef9-ffa9-4c9d-80a4-dd20f6c80ea5\" xlink:type=\"simple\"><path d=\"M601.55,445.16 C587.25,461.33 570.28,480.51 557.48,494.98 \" fill=\"none\" id=\"E7&lt;-E8\" style=\"stroke: #383838; stroke-width: 1.0;\"/><polygon fill=\"#383838\" points=\"610.49,435.06,603.5177,436.9004,602.5348,444.0442,609.5071,442.2038,610.49,435.06\" style=\"stroke: #383838; stroke-width: 1.0;\"/></a><!--MD5=[e4a10ef82d0e328e31cac39a31e58dda]\n",
       "reverse link E7 to E9--><a href=\"psysml:cdca8d7c-6aa5-4fff-9e0e-900e3ba85343\" target=\"_top\" title=\"psysml:cdca8d7c-6aa5-4fff-9e0e-900e3ba85343\" xlink:actuate=\"onRequest\" xlink:href=\"psysml:cdca8d7c-6aa5-4fff-9e0e-900e3ba85343\" xlink:show=\"new\" xlink:title=\"psysml:cdca8d7c-6aa5-4fff-9e0e-900e3ba85343\" xlink:type=\"simple\"><path d=\"M658.14,445.16 C672.29,461.33 689.07,480.51 701.73,494.98 \" fill=\"none\" id=\"E7&lt;-E9\" style=\"stroke: #383838; stroke-width: 1.0;\"/><polygon fill=\"#383838\" points=\"649.3,435.06,650.2496,442.2083,657.2133,444.0811,656.2637,436.9328,649.3,435.06\" style=\"stroke: #383838; stroke-width: 1.0;\"/></a><!--MD5=[a919e0967d6f3de553dc51b9865a1d6d]\n",
       "link E10 to E7--><a href=\"psysml:43f26010-ca40-42d6-8df0-e4847d82fc63\" target=\"_top\" title=\"psysml:43f26010-ca40-42d6-8df0-e4847d82fc63\" xlink:actuate=\"onRequest\" xlink:href=\"psysml:43f26010-ca40-42d6-8df0-e4847d82fc63\" xlink:show=\"new\" xlink:title=\"psysml:43f26010-ca40-42d6-8df0-e4847d82fc63\" xlink:type=\"simple\"><path d=\"M570.16,87.41 C559.5,111.69 544,147 544,147 C544,147 544,223 544,223 C544,223 935,283 935,283 C935,283 935,329 935,329 C935,329 820.21,359.86 731.48,383.72 \" fill=\"none\" id=\"E10-&gt;E7\" style=\"stroke: #383838; stroke-width: 1.0;\"/><polygon fill=\"#FFFFFF\" points=\"712.14,388.92,728.6669,377.2212,732.3065,390.7398,712.14,388.92\" style=\"stroke: #383838; stroke-width: 1.0;\"/><ellipse cx=\"734.6908\" cy=\"377.6706\" fill=\"#383838\" rx=\"2\" ry=\"2\" style=\"stroke: #383838; stroke-width: 1.0;\"/><ellipse cx=\"737.2906\" cy=\"387.3267\" fill=\"#383838\" rx=\"2\" ry=\"2\" style=\"stroke: #383838; stroke-width: 1.0;\"/></a><!--MD5=[0f36bececdf0dff6e600d6f64214b0f1]\n",
       "link E10 to E2--><a href=\"psysml:ac89f7fb-b091-4bc7-aaea-6377fc157ffe\" target=\"_top\" title=\"psysml:ac89f7fb-b091-4bc7-aaea-6377fc157ffe\" xlink:actuate=\"onRequest\" xlink:href=\"psysml:ac89f7fb-b091-4bc7-aaea-6377fc157ffe\" xlink:show=\"new\" xlink:title=\"psysml:ac89f7fb-b091-4bc7-aaea-6377fc157ffe\" xlink:type=\"simple\"><path d=\"M552.32,87.1 C535.71,100.38 513.86,117.82 493.29,134.25 \" fill=\"none\" id=\"E10-&gt;E2\" style=\"stroke: #383838; stroke-width: 1.0;\"/><polygon fill=\"#FFFFFF\" points=\"477.56,146.81,488.0352,129.4817,496.7737,140.4197,477.56,146.81\" style=\"stroke: #383838; stroke-width: 1.0;\"/><ellipse cx=\"493.7369\" cy=\"127.4865\" fill=\"#383838\" rx=\"2\" ry=\"2\" style=\"stroke: #383838; stroke-width: 1.0;\"/><ellipse cx=\"499.9786\" cy=\"135.2994\" fill=\"#383838\" rx=\"2\" ry=\"2\" style=\"stroke: #383838; stroke-width: 1.0;\"/></a><!--MD5=[de308be4a2431766a05a907a031c07fc]\n",
       "reverse link E10 to E11--><a href=\"psysml:75c081c5-05e2-401c-b103-d900689a3a49\" target=\"_top\" title=\"psysml:75c081c5-05e2-401c-b103-d900689a3a49\" xlink:actuate=\"onRequest\" xlink:href=\"psysml:75c081c5-05e2-401c-b103-d900689a3a49\" xlink:show=\"new\" xlink:title=\"psysml:75c081c5-05e2-401c-b103-d900689a3a49\" xlink:type=\"simple\"><path d=\"M595.95,98.9 C605.42,119.01 617.15,143.94 625.46,161.61 \" fill=\"none\" id=\"E10&lt;-E11\" style=\"stroke: #383838; stroke-width: 1.0;\"/><polygon fill=\"#383838\" points=\"590.4,87.1,589.3334,94.2318,595.5064,97.9593,596.573,90.8275,590.4,87.1\" style=\"stroke: #383838; stroke-width: 1.0;\"/></a><!--MD5=[1d54f998c6d5961a1a9184be73a7eb6c]\n",
       "reverse link E10 to E12--><a href=\"psysml:54130436-8b1f-4706-a610-d99b2d4cb5d4\" target=\"_top\" title=\"psysml:54130436-8b1f-4706-a610-d99b2d4cb5d4\" xlink:actuate=\"onRequest\" xlink:href=\"psysml:54130436-8b1f-4706-a610-d99b2d4cb5d4\" xlink:show=\"new\" xlink:title=\"psysml:54130436-8b1f-4706-a610-d99b2d4cb5d4\" xlink:type=\"simple\"><path d=\"M642.21,92.42 C689.99,113.48 755.13,142.19 799.66,161.81 \" fill=\"none\" id=\"E10&lt;-E12\" style=\"stroke: #383838; stroke-width: 1.0;\"/><polygon fill=\"#383838\" points=\"630.15,87.1,634.028,93.1796,641.1314,91.9382,637.2534,85.8586,630.15,87.1\" style=\"stroke: #383838; stroke-width: 1.0;\"/></a><!--MD5=[4a48077df6499cfcd20b62e8f5f37904]\n",
       "link E13 to E7--><a href=\"psysml:85f16706-e1b7-404d-9ee5-57d420bfb7f2\" target=\"_top\" title=\"psysml:85f16706-e1b7-404d-9ee5-57d420bfb7f2\" xlink:actuate=\"onRequest\" xlink:href=\"psysml:85f16706-e1b7-404d-9ee5-57d420bfb7f2\" xlink:show=\"new\" xlink:title=\"psysml:85f16706-e1b7-404d-9ee5-57d420bfb7f2\" xlink:type=\"simple\"><path d=\"M242.34,329.06 C324.51,346.43 438.67,370.56 521.82,388.13 \" fill=\"none\" id=\"E13-&gt;E7\" style=\"stroke: #383838; stroke-width: 1.0;\"/><polygon fill=\"#FFFFFF\" points=\"541.45,392.28,521.4143,395.2075,524.304,381.509,541.45,392.28\" style=\"stroke: #383838; stroke-width: 1.0;\"/><ellipse cx=\"516.2498\" cy=\"392.0741\" fill=\"#383838\" rx=\"2\" ry=\"2\" style=\"stroke: #383838; stroke-width: 1.0;\"/><ellipse cx=\"518.3139\" cy=\"382.2894\" fill=\"#383838\" rx=\"2\" ry=\"2\" style=\"stroke: #383838; stroke-width: 1.0;\"/></a><!--MD5=[22aa96b9f37e8f9a387cdf6db6e09d4e]\n",
       "@startuml\r\n",
       "skinparam linetype polyline\r\n",
       "skinparam monochrome true\r\n",
       "skinparam classbackgroundcolor white\r\n",
       "skinparam shadowing false\r\n",
       "skinparam wrapWidth 300\r\n",
       "hide circle\r\n",
       "\r\n",
       "package \"OccurrenceTest\" as E1  [[psysml:53f1d42d-2686-4f4b-950f-b84b40bc19b2 ]]  {\r\n",
       "comp def \"Occ\" as E2  <<(T,blue) occurrence  def>> [[psysml:77ba500d-77fd-484e-b411-8833010da35e ]] {\r\n",
       "- - attributes - -\r\n",
       "a\r\n",
       "}\r\n",
       "comp usage \"occ1: Occ \" as E3  <<(T,blue) occurrence>> [[psysml:37011562-c12e-4ce2-bbf9-af5619a300f0 ]] {\r\n",
       "}\r\n",
       "comp usage \"occ2: Occ \" as E4  <<(T,blue) occurrence>> [[psysml:3522e0a2-d0dd-4c95-916a-e9f89fbadd86 ]] {\r\n",
       "}\r\n",
       "comp usage \"s: Ind \" as E5  <<(T,blue) individual snapshot occurrence>> [[psysml:2ba1b44f-ac88-49ba-a1da-8edc5df2da3a ]] {\r\n",
       "}\r\n",
       "comp usage \"t \" as E6  <<(T,blue) timeslice occurrence>> [[psysml:aefaf76d-f241-48e8-80ea-b99598299972 ]] {\r\n",
       "}\r\n",
       "comp def \"Ind\" as E7  <<(T,blue) individual occurrence  def>> [[psysml:991e81ed-291b-4563-955c-44288cc9fc81 ]] {\r\n",
       "}\r\n",
       "comp usage \"s2 \" as E8  <<(T,blue) snapshot occurrence>> [[psysml:fb7dbc0d-a670-4e6d-a2b6-24a9a70c023a ]] {\r\n",
       "}\r\n",
       "comp usage \"t2 \" as E9  <<(T,blue) timeslice occurrence>> [[psysml:ae0fd4ea-8dc7-4cb0-a32c-5615a8f756eb ]] {\r\n",
       "}\r\n",
       "comp usage \"ind: Ind, Occ \" as E10  <<(T,blue) individual occurrence>> [[psysml:90168d9a-6358-4939-88d7-8ec9974b52c6 ]] {\r\n",
       "}\r\n",
       "comp usage \"s3 \" as E11  <<(T,blue) snapshot occurrence>> [[psysml:d0eba55f-a402-4b22-88ba-9857d6bd50ac ]] {\r\n",
       "}\r\n",
       "comp usage \"t3 \" as E12  <<(T,blue) individual timeslice occurrence>> [[psysml:0232df4f-93e4-4add-8902-f942e03a0634 ]] {\r\n",
       "}\r\n",
       "comp usage \"s4: Ind \" as E13  <<(T,blue) individual snapshot occurrence>> [[psysml:5cbde71f-e2d0-40cd-91ed-92f5bc776eb7 ]] {\r\n",
       "}\r\n",
       "}\r\n",
       "E2 o- - E3 [[psysml:111e77a4-44f2-45ac-862d-a1e02a1cad26 ]] \r\n",
       "E3 - -:|> E2 [[psysml:0f45e557-8f0e-4df9-b1d8-28bd2526f5a3 ]] \r\n",
       "E2 *- - E4 [[psysml:7f5381ff-79d6-4175-8599-1b084d5a38fb ]] \r\n",
       "E4 - -:|> E2 [[psysml:9af83ecd-fc65-4272-8374-c2ac75a0337a ]] \r\n",
       "E2 *- - E5 [[psysml:648e9e41-ac7c-450e-af70-439d81f3f540 ]] \r\n",
       "E2 *- - E6 [[psysml:00b8b9a4-593e-406d-b505-212ff2a7c9c1 ]] \r\n",
       "E5 - -:|> E7 [[psysml:088b8ee7-f1bc-4574-b816-43bcf4f14b77 ]] \r\n",
       "E7 *- - E8 [[psysml:c8813ef9-ffa9-4c9d-80a4-dd20f6c80ea5 ]] \r\n",
       "E7 *- - E9 [[psysml:cdca8d7c-6aa5-4fff-9e0e-900e3ba85343 ]] \r\n",
       "E10 - -:|> E7 [[psysml:43f26010-ca40-42d6-8df0-e4847d82fc63 ]] \r\n",
       "E10 - -:|> E2 [[psysml:ac89f7fb-b091-4bc7-aaea-6377fc157ffe ]] \r\n",
       "E10 *- - E11 [[psysml:75c081c5-05e2-401c-b103-d900689a3a49 ]] \r\n",
       "E10 *- - E12 [[psysml:54130436-8b1f-4706-a610-d99b2d4cb5d4 ]] \r\n",
       "E13 - -:|> E7 [[psysml:85f16706-e1b7-404d-9ee5-57d420bfb7f2 ]] \r\n",
       "@enduml\r\n",
       "\n",
       "PlantUML version 1.2020.13(Sat Jun 13 12:26:38 UTC 2020)\n",
       "(EPL source distribution)\n",
       "Java Runtime: OpenJDK Runtime Environment\n",
       "JVM: OpenJDK 64-Bit Server VM\n",
       "Default Encoding: UTF-8\n",
       "Language: en\n",
       "Country: null\n",
       "--></g></svg>"
      ]
     },
     "execution_count": 10,
     "metadata": {},
     "output_type": "execute_result"
    }
   ],
   "source": [
    "%viz --style=\"POLYLINE\" --view=\"Tree\" \"OccurrenceTest\""
   ]
  },
  {
   "cell_type": "code",
   "execution_count": 11,
   "id": "d669fbe7",
   "metadata": {
    "execution": {
     "iopub.execute_input": "2022-07-23T10:52:31.170716Z",
     "iopub.status.busy": "2022-07-23T10:52:31.170149Z",
     "iopub.status.idle": "2022-07-23T10:52:31.178594Z",
     "shell.execute_reply": "2022-07-23T10:52:31.178921Z"
    }
   },
   "outputs": [
    {
     "data": {
      "image/svg+xml": [
       "<?xml version=\"1.0\" encoding=\"UTF-8\" standalone=\"no\"?><svg xmlns=\"http://www.w3.org/2000/svg\" xmlns:xlink=\"http://www.w3.org/1999/xlink\" contentScriptType=\"application/ecmascript\" contentStyleType=\"text/css\" height=\"12px\" preserveAspectRatio=\"none\" style=\"width:12px;height:12px;\" version=\"1.1\" viewBox=\"0 0 12 12\" width=\"12px\" zoomAndPan=\"magnify\"><defs/><g><!--MD5=[896ac0e7a515d8dd7765a661cb4ee08b]\n",
       "@startuml\r\n",
       "skinparam linetype polyline\r\n",
       "skinparam monochrome true\r\n",
       "skinparam classbackgroundcolor white\r\n",
       "skinparam shadowing false\r\n",
       "skinparam wrapWidth 300\r\n",
       "hide circle\r\n",
       "\r\n",
       "@enduml\r\n",
       "\n",
       "PlantUML version 1.2020.13(Sat Jun 13 12:26:38 UTC 2020)\n",
       "(EPL source distribution)\n",
       "Java Runtime: OpenJDK Runtime Environment\n",
       "JVM: OpenJDK 64-Bit Server VM\n",
       "Default Encoding: UTF-8\n",
       "Language: en\n",
       "Country: null\n",
       "--></g></svg>"
      ]
     },
     "execution_count": 11,
     "metadata": {},
     "output_type": "execute_result"
    }
   ],
   "source": [
    "%viz --style=\"POLYLINE\" --view=\"State\" \"OccurrenceTest\""
   ]
  },
  {
   "cell_type": "code",
   "execution_count": 12,
   "id": "dddb9a4b",
   "metadata": {
    "execution": {
     "iopub.execute_input": "2022-07-23T10:52:31.229475Z",
     "iopub.status.busy": "2022-07-23T10:52:31.228944Z",
     "iopub.status.idle": "2022-07-23T10:52:31.277061Z",
     "shell.execute_reply": "2022-07-23T10:52:31.276643Z"
    }
   },
   "outputs": [
    {
     "data": {
      "image/svg+xml": [
       "<?xml version=\"1.0\" encoding=\"UTF-8\" standalone=\"no\"?><svg xmlns=\"http://www.w3.org/2000/svg\" xmlns:xlink=\"http://www.w3.org/1999/xlink\" contentScriptType=\"application/ecmascript\" contentStyleType=\"text/css\" height=\"278px\" preserveAspectRatio=\"none\" style=\"width:802px;height:278px;\" version=\"1.1\" viewBox=\"0 0 802 278\" width=\"802px\" zoomAndPan=\"magnify\"><defs/><g><!--MD5=[fbc87193dbaf4d95561dea2c320d4a47]\n",
       "cluster E1--><a href=\"psysml:53f1d42d-2686-4f4b-950f-b84b40bc19b2\" target=\"_top\" title=\"psysml:53f1d42d-2686-4f4b-950f-b84b40bc19b2\" xlink:actuate=\"onRequest\" xlink:href=\"psysml:53f1d42d-2686-4f4b-950f-b84b40bc19b2\" xlink:show=\"new\" xlink:title=\"psysml:53f1d42d-2686-4f4b-950f-b84b40bc19b2\" xlink:type=\"simple\"><polygon fill=\"#FFFFFF\" points=\"16,6,134,6,141,28.2969,780,28.2969,780,266,16,266,16,6\" style=\"stroke: #000000; stroke-width: 1.5;\"/><line style=\"stroke: #000000; stroke-width: 1.5;\" x1=\"16\" x2=\"141\" y1=\"28.2969\" y2=\"28.2969\"/><text fill=\"#000000\" font-family=\"sans-serif\" font-size=\"14\" font-weight=\"bold\" lengthAdjust=\"spacingAndGlyphs\" textLength=\"112\" x=\"20\" y=\"20.9951\">OccurrenceTest</text></a><!--MD5=[f6df4d0ebaf0b5dfb2ced0ae5af7c670]\n",
       "cluster E4--><a href=\"psysml:90168d9a-6358-4939-88d7-8ec9974b52c6\" target=\"_top\" title=\"psysml:90168d9a-6358-4939-88d7-8ec9974b52c6\" xlink:actuate=\"onRequest\" xlink:href=\"psysml:90168d9a-6358-4939-88d7-8ec9974b52c6\" xlink:show=\"new\" xlink:title=\"psysml:90168d9a-6358-4939-88d7-8ec9974b52c6\" xlink:type=\"simple\"><rect fill=\"#FFFFFF\" height=\"126\" id=\"E4\" rx=\"10\" ry=\"10\" style=\"stroke: #383838; stroke-width: 1.5;\" width=\"471\" x=\"277\" y=\"57\"/><rect fill=\"#F8F8F8\" height=\"37.9375\" rx=\"10\" ry=\"10\" style=\"stroke: #F8F8F8; stroke-width: 1.5;\" width=\"471\" x=\"277\" y=\"57\"/><rect fill=\"#F8F8F8\" height=\"10\" style=\"stroke: #F8F8F8; stroke-width: 1.5;\" width=\"471\" x=\"277\" y=\"84.9375\"/><rect fill=\"none\" height=\"126\" id=\"E4\" rx=\"10\" ry=\"10\" style=\"stroke: #383838; stroke-width: 1.5;\" width=\"471\" x=\"277\" y=\"57\"/><text fill=\"#000000\" font-family=\"sans-serif\" font-size=\"12\" font-style=\"italic\" lengthAdjust=\"spacingAndGlyphs\" textLength=\"147\" x=\"439\" y=\"73.1387\">«individual occurrence»</text><text fill=\"#000000\" font-family=\"sans-serif\" font-size=\"12\" lengthAdjust=\"spacingAndGlyphs\" textLength=\"77\" x=\"474\" y=\"87.1074\">ind: Ind, Occ</text><line style=\"stroke: #383838; stroke-width: 1.0;\" x1=\"277\" x2=\"748\" y1=\"94.9375\" y2=\"94.9375\"/></a><g id=\"E1.E2\"><a href=\"psysml:77ba500d-77fd-484e-b411-8833010da35e\" target=\"_top\" title=\"psysml:77ba500d-77fd-484e-b411-8833010da35e\" xlink:actuate=\"onRequest\" xlink:href=\"psysml:77ba500d-77fd-484e-b411-8833010da35e\" xlink:show=\"new\" xlink:title=\"psysml:77ba500d-77fd-484e-b411-8833010da35e\" xlink:type=\"simple\"><rect fill=\"#FFFFFF\" height=\"42.9375\" id=\"E2\" style=\"stroke: #383838; stroke-width: 1.5;\" width=\"120\" x=\"267\" y=\"207\"/><rect fill=\"#F8F8F8\" height=\"37.9375\" style=\"stroke: #383838; stroke-width: 1.5;\" width=\"120\" x=\"267\" y=\"207\"/><text fill=\"#000000\" font-family=\"sans-serif\" font-size=\"12\" font-style=\"italic\" lengthAdjust=\"spacingAndGlyphs\" textLength=\"113\" x=\"270.5\" y=\"223.1387\">«occurrence  def»</text><text fill=\"#000000\" font-family=\"sans-serif\" font-size=\"12\" lengthAdjust=\"spacingAndGlyphs\" textLength=\"23\" x=\"315.5\" y=\"237.1074\">Occ</text></a></g><g id=\"E1.E3\"><a href=\"psysml:991e81ed-291b-4563-955c-44288cc9fc81\" target=\"_top\" title=\"psysml:991e81ed-291b-4563-955c-44288cc9fc81\" xlink:actuate=\"onRequest\" xlink:href=\"psysml:991e81ed-291b-4563-955c-44288cc9fc81\" xlink:show=\"new\" xlink:title=\"psysml:991e81ed-291b-4563-955c-44288cc9fc81\" xlink:type=\"simple\"><rect fill=\"#FFFFFF\" height=\"42.9375\" id=\"E3\" style=\"stroke: #383838; stroke-width: 1.5;\" width=\"182\" x=\"50\" y=\"207\"/><rect fill=\"#F8F8F8\" height=\"37.9375\" style=\"stroke: #383838; stroke-width: 1.5;\" width=\"182\" x=\"50\" y=\"207\"/><text fill=\"#000000\" font-family=\"sans-serif\" font-size=\"12\" font-style=\"italic\" lengthAdjust=\"spacingAndGlyphs\" textLength=\"175\" x=\"53.5\" y=\"223.1387\">«individual occurrence  def»</text><text fill=\"#000000\" font-family=\"sans-serif\" font-size=\"12\" lengthAdjust=\"spacingAndGlyphs\" textLength=\"19\" x=\"131.5\" y=\"237.1074\">Ind</text></a></g><g id=\"E1.E4.E5\"><a href=\"psysml:d0eba55f-a402-4b22-88ba-9857d6bd50ac\" target=\"_top\" title=\"psysml:d0eba55f-a402-4b22-88ba-9857d6bd50ac\" xlink:actuate=\"onRequest\" xlink:href=\"psysml:d0eba55f-a402-4b22-88ba-9857d6bd50ac\" xlink:show=\"new\" xlink:title=\"psysml:d0eba55f-a402-4b22-88ba-9857d6bd50ac\" xlink:type=\"simple\"><rect fill=\"#FFFFFF\" height=\"42.9375\" id=\"E5\" rx=\"10\" ry=\"10\" style=\"stroke: #383838; stroke-width: 1.5;\" width=\"155\" x=\"568.5\" y=\"116\"/><rect fill=\"#F8F8F8\" height=\"37.9375\" rx=\"10\" ry=\"10\" style=\"stroke: #F8F8F8; stroke-width: 1.5;\" width=\"155\" x=\"568.5\" y=\"116\"/><rect fill=\"#F8F8F8\" height=\"10\" style=\"stroke: #F8F8F8; stroke-width: 1.5;\" width=\"155\" x=\"568.5\" y=\"143.9375\"/><rect fill=\"none\" height=\"42.9375\" id=\"E5\" rx=\"10\" ry=\"10\" style=\"stroke: #383838; stroke-width: 1.5;\" width=\"155\" x=\"568.5\" y=\"116\"/><text fill=\"#000000\" font-family=\"sans-serif\" font-size=\"12\" font-style=\"italic\" lengthAdjust=\"spacingAndGlyphs\" textLength=\"148\" x=\"572\" y=\"132.1387\">«snapshot occurrence»</text><text fill=\"#000000\" font-family=\"sans-serif\" font-size=\"12\" lengthAdjust=\"spacingAndGlyphs\" textLength=\"15\" x=\"638.5\" y=\"146.1074\">s3</text></a></g><g id=\"E1.E4.E6\"><a href=\"psysml:0232df4f-93e4-4add-8902-f942e03a0634\" target=\"_top\" title=\"psysml:0232df4f-93e4-4add-8902-f942e03a0634\" xlink:actuate=\"onRequest\" xlink:href=\"psysml:0232df4f-93e4-4add-8902-f942e03a0634\" xlink:show=\"new\" xlink:title=\"psysml:0232df4f-93e4-4add-8902-f942e03a0634\" xlink:type=\"simple\"><rect fill=\"#FFFFFF\" height=\"42.9375\" id=\"E6\" rx=\"10\" ry=\"10\" style=\"stroke: #383838; stroke-width: 1.5;\" width=\"213\" x=\"320.5\" y=\"116\"/><rect fill=\"#F8F8F8\" height=\"37.9375\" rx=\"10\" ry=\"10\" style=\"stroke: #F8F8F8; stroke-width: 1.5;\" width=\"213\" x=\"320.5\" y=\"116\"/><rect fill=\"#F8F8F8\" height=\"10\" style=\"stroke: #F8F8F8; stroke-width: 1.5;\" width=\"213\" x=\"320.5\" y=\"143.9375\"/><rect fill=\"none\" height=\"42.9375\" id=\"E6\" rx=\"10\" ry=\"10\" style=\"stroke: #383838; stroke-width: 1.5;\" width=\"213\" x=\"320.5\" y=\"116\"/><text fill=\"#000000\" font-family=\"sans-serif\" font-size=\"12\" font-style=\"italic\" lengthAdjust=\"spacingAndGlyphs\" textLength=\"206\" x=\"324\" y=\"132.1387\">«individual timeslice occurrence»</text><text fill=\"#000000\" font-family=\"sans-serif\" font-size=\"12\" lengthAdjust=\"spacingAndGlyphs\" textLength=\"13\" x=\"420.5\" y=\"146.1074\">t3</text></a></g><g id=\"E1.E7\"><a href=\"psysml:5cbde71f-e2d0-40cd-91ed-92f5bc776eb7\" target=\"_top\" title=\"psysml:5cbde71f-e2d0-40cd-91ed-92f5bc776eb7\" xlink:actuate=\"onRequest\" xlink:href=\"psysml:5cbde71f-e2d0-40cd-91ed-92f5bc776eb7\" xlink:show=\"new\" xlink:title=\"psysml:5cbde71f-e2d0-40cd-91ed-92f5bc776eb7\" xlink:type=\"simple\"><rect fill=\"#FFFFFF\" height=\"42.9375\" id=\"E7\" rx=\"10\" ry=\"10\" style=\"stroke: #383838; stroke-width: 1.5;\" width=\"217\" x=\"32.5\" y=\"116\"/><rect fill=\"#F8F8F8\" height=\"37.9375\" rx=\"10\" ry=\"10\" style=\"stroke: #F8F8F8; stroke-width: 1.5;\" width=\"217\" x=\"32.5\" y=\"116\"/><rect fill=\"#F8F8F8\" height=\"10\" style=\"stroke: #F8F8F8; stroke-width: 1.5;\" width=\"217\" x=\"32.5\" y=\"143.9375\"/><rect fill=\"none\" height=\"42.9375\" id=\"E7\" rx=\"10\" ry=\"10\" style=\"stroke: #383838; stroke-width: 1.5;\" width=\"217\" x=\"32.5\" y=\"116\"/><text fill=\"#000000\" font-family=\"sans-serif\" font-size=\"12\" font-style=\"italic\" lengthAdjust=\"spacingAndGlyphs\" textLength=\"210\" x=\"36\" y=\"132.1387\">«individual snapshot occurrence»</text><text fill=\"#000000\" font-family=\"sans-serif\" font-size=\"12\" lengthAdjust=\"spacingAndGlyphs\" textLength=\"42\" x=\"120\" y=\"146.1074\">s4: Ind</text></a></g><!--MD5=[f0cdf4548168e5211fb3a02bf679d63a]\n",
       "link E4 to E3--><a href=\"psysml:43f26010-ca40-42d6-8df0-e4847d82fc63\" target=\"_top\" title=\"psysml:43f26010-ca40-42d6-8df0-e4847d82fc63\" xlink:actuate=\"onRequest\" xlink:href=\"psysml:43f26010-ca40-42d6-8df0-e4847d82fc63\" xlink:show=\"new\" xlink:title=\"psysml:43f26010-ca40-42d6-8df0-e4847d82fc63\" xlink:type=\"simple\"><path d=\"M282.0445,183.2187 C282.0376,183.3223 282.0308,183.4256 282.024,183.5285 C282.0103,183.7345 281.9968,183.9392 281.9833,184.1427 C281.9564,184.5496 281.9298,184.9515 281.9036,185.3479 C281.7986,186.9334 281.6995,188.4308 281.6081,189.8119 C281.2425,195.3363 281,199 281,199 C281,199 268.89,201.47 251.78,204.95 \" fill=\"none\" id=\"E4-&gt;E3\" style=\"stroke: #383838; stroke-width: 1.0;\"/><polygon fill=\"#FFFFFF\" points=\"232.03,208.97,249.254,198.3242,252.0439,212.0434,232.03,208.97\" style=\"stroke: #383838; stroke-width: 1.0;\"/><ellipse cx=\"255.2382\" cy=\"199.1482\" fill=\"#383838\" rx=\"2\" ry=\"2\" style=\"stroke: #383838; stroke-width: 1.0;\"/><ellipse cx=\"257.231\" cy=\"208.9476\" fill=\"#383838\" rx=\"2\" ry=\"2\" style=\"stroke: #383838; stroke-width: 1.0;\"/></a><!--MD5=[185131fc0dcab0a4505a2ebe144e961b]\n",
       "link E4 to E2--><a href=\"psysml:ac89f7fb-b091-4bc7-aaea-6377fc157ffe\" target=\"_top\" title=\"psysml:ac89f7fb-b091-4bc7-aaea-6377fc157ffe\" xlink:actuate=\"onRequest\" xlink:href=\"psysml:ac89f7fb-b091-4bc7-aaea-6377fc157ffe\" xlink:show=\"new\" xlink:title=\"psysml:ac89f7fb-b091-4bc7-aaea-6377fc157ffe\" xlink:type=\"simple\"><path d=\"M300.6655,183.2309 C300.7279,183.3969 300.7903,183.5625 300.8526,183.7277 C300.9771,184.0582 301.1015,184.3873 301.2256,184.7148 C301.722,186.0247 302.2144,187.3094 302.7,188.56 \" fill=\"none\" id=\"E4-&gt;E2\" style=\"stroke: #383838; stroke-width: 1.0;\"/><polygon fill=\"#FFFFFF\" points=\"311.01,206.79,296.7667,192.3981,309.5084,186.5973,311.01,206.79\" style=\"stroke: #383838; stroke-width: 1.0;\"/><ellipse cx=\"296.2252\" cy=\"186.3817\" fill=\"#383838\" rx=\"2\" ry=\"2\" style=\"stroke: #383838; stroke-width: 1.0;\"/><ellipse cx=\"305.3264\" cy=\"182.2383\" fill=\"#383838\" rx=\"2\" ry=\"2\" style=\"stroke: #383838; stroke-width: 1.0;\"/></a><!--MD5=[14ccda38c055a5c0da953d572bc50960]\n",
       "link E7 to E3--><a href=\"psysml:85f16706-e1b7-404d-9ee5-57d420bfb7f2\" target=\"_top\" title=\"psysml:85f16706-e1b7-404d-9ee5-57d420bfb7f2\" xlink:actuate=\"onRequest\" xlink:href=\"psysml:85f16706-e1b7-404d-9ee5-57d420bfb7f2\" xlink:show=\"new\" xlink:title=\"psysml:85f16706-e1b7-404d-9ee5-57d420bfb7f2\" xlink:type=\"simple\"><path d=\"M141,159.14 C141,167.34 141,177.08 141,186.59 \" fill=\"none\" id=\"E7-&gt;E3\" style=\"stroke: #383838; stroke-width: 1.0;\"/><polygon fill=\"#FFFFFF\" points=\"141,206.97,134,187.97,148,187.97,141,206.97\" style=\"stroke: #383838; stroke-width: 1.0;\"/><ellipse cx=\"136\" cy=\"182.27\" fill=\"#383838\" rx=\"2\" ry=\"2\" style=\"stroke: #383838; stroke-width: 1.0;\"/><ellipse cx=\"146\" cy=\"182.27\" fill=\"#383838\" rx=\"2\" ry=\"2\" style=\"stroke: #383838; stroke-width: 1.0;\"/></a><!--MD5=[bfd08e4c75dc4565632293af32cf7ce6]\n",
       "@startuml\r\n",
       "skinparam ranksep 10\r\n",
       "skinparam rectangle {\r\n",
       " backgroundColor<<block>> LightGreen\r\n",
       "}\r\n",
       "skinparam linetype polyline\r\n",
       "skinparam monochrome true\r\n",
       "skinparam classbackgroundcolor white\r\n",
       "skinparam shadowing false\r\n",
       "skinparam wrapWidth 300\r\n",
       "hide circle\r\n",
       "\r\n",
       "package \"OccurrenceTest\" as E1  [[psysml:53f1d42d-2686-4f4b-950f-b84b40bc19b2 ]]  {\r\n",
       "def \"Occ\" as E2  <<(T,blue) occurrence  def>> [[psysml:77ba500d-77fd-484e-b411-8833010da35e ]] \r\n",
       "def \"Ind\" as E3  <<(T,blue) individual occurrence  def>> [[psysml:991e81ed-291b-4563-955c-44288cc9fc81 ]] \r\n",
       "rec usage \"ind: Ind, Occ\" as E4  <<(T,blue) individual occurrence>> [[psysml:90168d9a-6358-4939-88d7-8ec9974b52c6 ]] {\r\n",
       "rec usage \"s3\" as E5  <<(T,blue) snapshot occurrence>> [[psysml:d0eba55f-a402-4b22-88ba-9857d6bd50ac ]] {\r\n",
       "}\r\n",
       "rec usage \"t3\" as E6  <<(T,blue) individual timeslice occurrence>> [[psysml:0232df4f-93e4-4add-8902-f942e03a0634 ]] {\r\n",
       "}\r\n",
       "}\r\n",
       "rec usage \"s4: Ind\" as E7  <<(T,blue) individual snapshot occurrence>> [[psysml:5cbde71f-e2d0-40cd-91ed-92f5bc776eb7 ]] {\r\n",
       "}\r\n",
       "}\r\n",
       "E4 - -:|> E3 [[psysml:43f26010-ca40-42d6-8df0-e4847d82fc63 ]] \r\n",
       "E4 - -:|> E2 [[psysml:ac89f7fb-b091-4bc7-aaea-6377fc157ffe ]] \r\n",
       "E7 - -:|> E3 [[psysml:85f16706-e1b7-404d-9ee5-57d420bfb7f2 ]] \r\n",
       "@enduml\r\n",
       "\n",
       "PlantUML version 1.2020.13(Sat Jun 13 12:26:38 UTC 2020)\n",
       "(EPL source distribution)\n",
       "Java Runtime: OpenJDK Runtime Environment\n",
       "JVM: OpenJDK 64-Bit Server VM\n",
       "Default Encoding: UTF-8\n",
       "Language: en\n",
       "Country: null\n",
       "--></g></svg>"
      ]
     },
     "execution_count": 12,
     "metadata": {},
     "output_type": "execute_result"
    }
   ],
   "source": [
    "%viz --style=\"POLYLINE\" --view=\"Interconnection\" \"OccurrenceTest\""
   ]
  },
  {
   "cell_type": "code",
   "execution_count": 13,
   "id": "ac9ac834",
   "metadata": {
    "execution": {
     "iopub.execute_input": "2022-07-23T10:52:31.327076Z",
     "iopub.status.busy": "2022-07-23T10:52:31.326531Z",
     "iopub.status.idle": "2022-07-23T10:52:31.333193Z",
     "shell.execute_reply": "2022-07-23T10:52:31.333523Z"
    }
   },
   "outputs": [
    {
     "data": {
      "image/svg+xml": [
       "<?xml version=\"1.0\" encoding=\"UTF-8\" standalone=\"no\"?><svg xmlns=\"http://www.w3.org/2000/svg\" xmlns:xlink=\"http://www.w3.org/1999/xlink\" contentScriptType=\"application/ecmascript\" contentStyleType=\"text/css\" height=\"12px\" preserveAspectRatio=\"none\" style=\"width:12px;height:12px;\" version=\"1.1\" viewBox=\"0 0 12 12\" width=\"12px\" zoomAndPan=\"magnify\"><defs/><g><!--MD5=[97bbf32f66ccd50cbc40d92ea8f5a65e]\n",
       "@startuml\r\n",
       "skinparam ranksep 8\r\n",
       "skinparam linetype polyline\r\n",
       "skinparam monochrome true\r\n",
       "skinparam classbackgroundcolor white\r\n",
       "skinparam shadowing false\r\n",
       "skinparam wrapWidth 300\r\n",
       "hide circle\r\n",
       "\r\n",
       "@enduml\r\n",
       "\n",
       "PlantUML version 1.2020.13(Sat Jun 13 12:26:38 UTC 2020)\n",
       "(EPL source distribution)\n",
       "Java Runtime: OpenJDK Runtime Environment\n",
       "JVM: OpenJDK 64-Bit Server VM\n",
       "Default Encoding: UTF-8\n",
       "Language: en\n",
       "Country: null\n",
       "--></g></svg>"
      ]
     },
     "execution_count": 13,
     "metadata": {},
     "output_type": "execute_result"
    }
   ],
   "source": [
    "%viz --style=\"POLYLINE\" --view=\"Action\" \"OccurrenceTest\""
   ]
  },
  {
   "cell_type": "code",
   "execution_count": 14,
   "id": "18c7d405",
   "metadata": {
    "execution": {
     "iopub.execute_input": "2022-07-23T10:52:31.383841Z",
     "iopub.status.busy": "2022-07-23T10:52:31.383376Z",
     "iopub.status.idle": "2022-07-23T10:52:31.389106Z",
     "shell.execute_reply": "2022-07-23T10:52:31.389425Z"
    }
   },
   "outputs": [
    {
     "data": {
      "image/svg+xml": [
       "<?xml version=\"1.0\" encoding=\"UTF-8\" standalone=\"no\"?><svg xmlns=\"http://www.w3.org/2000/svg\" xmlns:xlink=\"http://www.w3.org/1999/xlink\" contentScriptType=\"application/ecmascript\" contentStyleType=\"text/css\" height=\"12px\" preserveAspectRatio=\"none\" style=\"width:12px;height:12px;\" version=\"1.1\" viewBox=\"0 0 12 12\" width=\"12px\" zoomAndPan=\"magnify\"><defs/><g><!--MD5=[dc938048236c351797870c36b62f92ad]\n",
       "@startuml\r\n",
       "skinparam roundcorner 20\r\n",
       "skinparam BoxPadding 20\r\n",
       "skinparam SequenceBoxBackgroundColor #white\r\n",
       "skinparam style strictuml\r\n",
       "skinparam maxMessageSize 100\r\n",
       "skinparam linetype polyline\r\n",
       "skinparam monochrome true\r\n",
       "skinparam classbackgroundcolor white\r\n",
       "skinparam shadowing false\r\n",
       "skinparam wrapWidth 300\r\n",
       "hide circle\r\n",
       "\r\n",
       "@enduml\r\n",
       "\n",
       "PlantUML version 1.2020.13(Sat Jun 13 12:26:38 UTC 2020)\n",
       "(EPL source distribution)\n",
       "Java Runtime: OpenJDK Runtime Environment\n",
       "JVM: OpenJDK 64-Bit Server VM\n",
       "Default Encoding: UTF-8\n",
       "Language: en\n",
       "Country: null\n",
       "--></g></svg>"
      ]
     },
     "execution_count": 14,
     "metadata": {},
     "output_type": "execute_result"
    }
   ],
   "source": [
    "%viz --style=\"POLYLINE\" --view=\"Sequence\" \"OccurrenceTest\""
   ]
  },
  {
   "cell_type": "code",
   "execution_count": 15,
   "id": "e9a0188d",
   "metadata": {
    "execution": {
     "iopub.execute_input": "2022-07-23T10:52:31.439606Z",
     "iopub.status.busy": "2022-07-23T10:52:31.439067Z",
     "iopub.status.idle": "2022-07-23T10:52:31.517491Z",
     "shell.execute_reply": "2022-07-23T10:52:31.516892Z"
    }
   },
   "outputs": [
    {
     "data": {
      "image/svg+xml": [
       "<?xml version=\"1.0\" encoding=\"UTF-8\" standalone=\"no\"?><svg xmlns=\"http://www.w3.org/2000/svg\" xmlns:xlink=\"http://www.w3.org/1999/xlink\" contentScriptType=\"application/ecmascript\" contentStyleType=\"text/css\" height=\"569px\" preserveAspectRatio=\"none\" style=\"width:992px;height:569px;\" version=\"1.1\" viewBox=\"0 0 992 569\" width=\"992px\" zoomAndPan=\"magnify\"><defs/><g><!--MD5=[fbc87193dbaf4d95561dea2c320d4a47]\n",
       "cluster E1--><a href=\"psysml:53f1d42d-2686-4f4b-950f-b84b40bc19b2\" target=\"_top\" title=\"psysml:53f1d42d-2686-4f4b-950f-b84b40bc19b2\" xlink:actuate=\"onRequest\" xlink:href=\"psysml:53f1d42d-2686-4f4b-950f-b84b40bc19b2\" xlink:show=\"new\" xlink:title=\"psysml:53f1d42d-2686-4f4b-950f-b84b40bc19b2\" xlink:type=\"simple\"><polygon fill=\"#FFFFFF\" points=\"16,6,134,6,141,28.2969,970,28.2969,970,557,16,557,16,6\" style=\"stroke: #000000; stroke-width: 1.5;\"/><line style=\"stroke: #000000; stroke-width: 1.5;\" x1=\"16\" x2=\"141\" y1=\"28.2969\" y2=\"28.2969\"/><text fill=\"#000000\" font-family=\"sans-serif\" font-size=\"14\" font-weight=\"bold\" lengthAdjust=\"spacingAndGlyphs\" textLength=\"112\" x=\"20\" y=\"20.9951\">OccurrenceTest</text></a><!--MD5=[b4997ac47864f28c2f74865a473b2911]\n",
       "class E2--><a href=\"psysml:77ba500d-77fd-484e-b411-8833010da35e\" target=\"_top\" title=\"psysml:77ba500d-77fd-484e-b411-8833010da35e\" xlink:actuate=\"onRequest\" xlink:href=\"psysml:77ba500d-77fd-484e-b411-8833010da35e\" xlink:show=\"new\" xlink:title=\"psysml:77ba500d-77fd-484e-b411-8833010da35e\" xlink:type=\"simple\"><rect fill=\"#FFFFFF\" height=\"75.5469\" id=\"E2\" style=\"stroke: #383838; stroke-width: 1.5;\" width=\"115\" x=\"373.5\" y=\"147\"/><text fill=\"#000000\" font-family=\"sans-serif\" font-size=\"12\" font-style=\"italic\" lengthAdjust=\"spacingAndGlyphs\" textLength=\"113\" x=\"374.5\" y=\"163.1387\">«occurrence  def»</text><text fill=\"#000000\" font-family=\"sans-serif\" font-size=\"12\" lengthAdjust=\"spacingAndGlyphs\" textLength=\"23\" x=\"419.5\" y=\"177.1074\">Occ</text><line style=\"stroke: #383838; stroke-width: 1.5;\" x1=\"374.5\" x2=\"487.5\" y1=\"184.9375\" y2=\"184.9375\"/><text fill=\"#000000\" font-family=\"sans-serif\" font-size=\"11\" lengthAdjust=\"spacingAndGlyphs\" textLength=\"7\" x=\"379.5\" y=\"215.9526\">a</text><line style=\"stroke: #383838; stroke-width: 1.0;\" x1=\"374.5\" x2=\"403.5\" y1=\"199.3398\" y2=\"199.3398\"/><text fill=\"#000000\" font-family=\"sans-serif\" font-size=\"11\" lengthAdjust=\"spacingAndGlyphs\" textLength=\"55\" x=\"403.5\" y=\"202.6479\">attributes</text><line style=\"stroke: #383838; stroke-width: 1.0;\" x1=\"458.5\" x2=\"487.5\" y1=\"199.3398\" y2=\"199.3398\"/></a><!--MD5=[09b614a08d8cba4a07c9adeb5e0fee81]\n",
       "class E3--><a href=\"psysml:37011562-c12e-4ce2-bbf9-af5619a300f0\" target=\"_top\" title=\"psysml:37011562-c12e-4ce2-bbf9-af5619a300f0\" xlink:actuate=\"onRequest\" xlink:href=\"psysml:37011562-c12e-4ce2-bbf9-af5619a300f0\" xlink:show=\"new\" xlink:title=\"psysml:37011562-c12e-4ce2-bbf9-af5619a300f0\" xlink:type=\"simple\"><rect fill=\"#FFFFFF\" height=\"45.9375\" id=\"E3\" rx=\"10\" ry=\"10\" style=\"stroke: #383838; stroke-width: 1.5;\" width=\"87\" x=\"279.5\" y=\"283\"/><text fill=\"#000000\" font-family=\"sans-serif\" font-size=\"12\" font-style=\"italic\" lengthAdjust=\"spacingAndGlyphs\" textLength=\"85\" x=\"280.5\" y=\"299.1387\">«occurrence»</text><text fill=\"#000000\" font-family=\"sans-serif\" font-size=\"12\" lengthAdjust=\"spacingAndGlyphs\" textLength=\"61\" x=\"290.5\" y=\"313.1074\">occ1: Occ</text><line style=\"stroke: #383838; stroke-width: 1.5;\" x1=\"280.5\" x2=\"365.5\" y1=\"320.9375\" y2=\"320.9375\"/></a><!--MD5=[ebbe1d658d1005bcc118a6aa81145e00]\n",
       "class E4--><a href=\"psysml:3522e0a2-d0dd-4c95-916a-e9f89fbadd86\" target=\"_top\" title=\"psysml:3522e0a2-d0dd-4c95-916a-e9f89fbadd86\" xlink:actuate=\"onRequest\" xlink:href=\"psysml:3522e0a2-d0dd-4c95-916a-e9f89fbadd86\" xlink:show=\"new\" xlink:title=\"psysml:3522e0a2-d0dd-4c95-916a-e9f89fbadd86\" xlink:type=\"simple\"><rect fill=\"#FFFFFF\" height=\"45.9375\" id=\"E4\" rx=\"10\" ry=\"10\" style=\"stroke: #383838; stroke-width: 1.5;\" width=\"87\" x=\"401.5\" y=\"283\"/><text fill=\"#000000\" font-family=\"sans-serif\" font-size=\"12\" font-style=\"italic\" lengthAdjust=\"spacingAndGlyphs\" textLength=\"85\" x=\"402.5\" y=\"299.1387\">«occurrence»</text><text fill=\"#000000\" font-family=\"sans-serif\" font-size=\"12\" lengthAdjust=\"spacingAndGlyphs\" textLength=\"61\" x=\"412.5\" y=\"313.1074\">occ2: Occ</text><line style=\"stroke: #383838; stroke-width: 1.5;\" x1=\"402.5\" x2=\"487.5\" y1=\"320.9375\" y2=\"320.9375\"/></a><!--MD5=[270fce915f116d4de14055a7c1d9a0f3]\n",
       "class E5--><a href=\"psysml:2ba1b44f-ac88-49ba-a1da-8edc5df2da3a\" target=\"_top\" title=\"psysml:2ba1b44f-ac88-49ba-a1da-8edc5df2da3a\" xlink:actuate=\"onRequest\" xlink:href=\"psysml:2ba1b44f-ac88-49ba-a1da-8edc5df2da3a\" xlink:show=\"new\" xlink:title=\"psysml:2ba1b44f-ac88-49ba-a1da-8edc5df2da3a\" xlink:type=\"simple\"><rect fill=\"#FFFFFF\" height=\"45.9375\" id=\"E5\" rx=\"10\" ry=\"10\" style=\"stroke: #383838; stroke-width: 1.5;\" width=\"212\" x=\"524\" y=\"283\"/><text fill=\"#000000\" font-family=\"sans-serif\" font-size=\"12\" font-style=\"italic\" lengthAdjust=\"spacingAndGlyphs\" textLength=\"210\" x=\"525\" y=\"299.1387\">«individual snapshot occurrence»</text><text fill=\"#000000\" font-family=\"sans-serif\" font-size=\"12\" lengthAdjust=\"spacingAndGlyphs\" textLength=\"34\" x=\"611\" y=\"313.1074\">s: Ind</text><line style=\"stroke: #383838; stroke-width: 1.5;\" x1=\"525\" x2=\"735\" y1=\"320.9375\" y2=\"320.9375\"/></a><!--MD5=[60a26617385b1d2d0262a64233df1f8d]\n",
       "class E6--><a href=\"psysml:aefaf76d-f241-48e8-80ea-b99598299972\" target=\"_top\" title=\"psysml:aefaf76d-f241-48e8-80ea-b99598299972\" xlink:actuate=\"onRequest\" xlink:href=\"psysml:aefaf76d-f241-48e8-80ea-b99598299972\" xlink:show=\"new\" xlink:title=\"psysml:aefaf76d-f241-48e8-80ea-b99598299972\" xlink:type=\"simple\"><rect fill=\"#FFFFFF\" height=\"45.9375\" id=\"E6\" rx=\"10\" ry=\"10\" style=\"stroke: #383838; stroke-width: 1.5;\" width=\"146\" x=\"771\" y=\"283\"/><text fill=\"#000000\" font-family=\"sans-serif\" font-size=\"12\" font-style=\"italic\" lengthAdjust=\"spacingAndGlyphs\" textLength=\"144\" x=\"772\" y=\"299.1387\">«timeslice occurrence»</text><text fill=\"#000000\" font-family=\"sans-serif\" font-size=\"12\" lengthAdjust=\"spacingAndGlyphs\" textLength=\"5\" x=\"839.5\" y=\"313.1074\">t</text><line style=\"stroke: #383838; stroke-width: 1.5;\" x1=\"772\" x2=\"916\" y1=\"320.9375\" y2=\"320.9375\"/></a><!--MD5=[2156ba9850f5573cc1fc38a6a4b2f02b]\n",
       "class E7--><a href=\"psysml:991e81ed-291b-4563-955c-44288cc9fc81\" target=\"_top\" title=\"psysml:991e81ed-291b-4563-955c-44288cc9fc81\" xlink:actuate=\"onRequest\" xlink:href=\"psysml:991e81ed-291b-4563-955c-44288cc9fc81\" xlink:show=\"new\" xlink:title=\"psysml:991e81ed-291b-4563-955c-44288cc9fc81\" xlink:type=\"simple\"><rect fill=\"#FFFFFF\" height=\"45.9375\" id=\"E7\" style=\"stroke: #383838; stroke-width: 1.5;\" width=\"177\" x=\"541.5\" y=\"389\"/><text fill=\"#000000\" font-family=\"sans-serif\" font-size=\"12\" font-style=\"italic\" lengthAdjust=\"spacingAndGlyphs\" textLength=\"175\" x=\"542.5\" y=\"405.1387\">«individual occurrence  def»</text><text fill=\"#000000\" font-family=\"sans-serif\" font-size=\"12\" lengthAdjust=\"spacingAndGlyphs\" textLength=\"19\" x=\"620.5\" y=\"419.1074\">Ind</text><line style=\"stroke: #383838; stroke-width: 1.5;\" x1=\"542.5\" x2=\"717.5\" y1=\"426.9375\" y2=\"426.9375\"/></a><!--MD5=[b9389687b975829384b498ac4b7476b2]\n",
       "class E8--><a href=\"psysml:fb7dbc0d-a670-4e6d-a2b6-24a9a70c023a\" target=\"_top\" title=\"psysml:fb7dbc0d-a670-4e6d-a2b6-24a9a70c023a\" xlink:actuate=\"onRequest\" xlink:href=\"psysml:fb7dbc0d-a670-4e6d-a2b6-24a9a70c023a\" xlink:show=\"new\" xlink:title=\"psysml:fb7dbc0d-a670-4e6d-a2b6-24a9a70c023a\" xlink:type=\"simple\"><rect fill=\"#FFFFFF\" height=\"45.9375\" id=\"E8\" rx=\"10\" ry=\"10\" style=\"stroke: #383838; stroke-width: 1.5;\" width=\"150\" x=\"463\" y=\"495\"/><text fill=\"#000000\" font-family=\"sans-serif\" font-size=\"12\" font-style=\"italic\" lengthAdjust=\"spacingAndGlyphs\" textLength=\"148\" x=\"464\" y=\"511.1387\">«snapshot occurrence»</text><text fill=\"#000000\" font-family=\"sans-serif\" font-size=\"12\" lengthAdjust=\"spacingAndGlyphs\" textLength=\"15\" x=\"528.5\" y=\"525.1074\">s2</text><line style=\"stroke: #383838; stroke-width: 1.5;\" x1=\"464\" x2=\"612\" y1=\"532.9375\" y2=\"532.9375\"/></a><!--MD5=[fd4143e9d270a159db93a4ea2a975926]\n",
       "class E9--><a href=\"psysml:ae0fd4ea-8dc7-4cb0-a32c-5615a8f756eb\" target=\"_top\" title=\"psysml:ae0fd4ea-8dc7-4cb0-a32c-5615a8f756eb\" xlink:actuate=\"onRequest\" xlink:href=\"psysml:ae0fd4ea-8dc7-4cb0-a32c-5615a8f756eb\" xlink:show=\"new\" xlink:title=\"psysml:ae0fd4ea-8dc7-4cb0-a32c-5615a8f756eb\" xlink:type=\"simple\"><rect fill=\"#FFFFFF\" height=\"45.9375\" id=\"E9\" rx=\"10\" ry=\"10\" style=\"stroke: #383838; stroke-width: 1.5;\" width=\"146\" x=\"648\" y=\"495\"/><text fill=\"#000000\" font-family=\"sans-serif\" font-size=\"12\" font-style=\"italic\" lengthAdjust=\"spacingAndGlyphs\" textLength=\"144\" x=\"649\" y=\"511.1387\">«timeslice occurrence»</text><text fill=\"#000000\" font-family=\"sans-serif\" font-size=\"12\" lengthAdjust=\"spacingAndGlyphs\" textLength=\"13\" x=\"712.5\" y=\"525.1074\">t2</text><line style=\"stroke: #383838; stroke-width: 1.5;\" x1=\"649\" x2=\"793\" y1=\"532.9375\" y2=\"532.9375\"/></a><!--MD5=[96f4274e9e20536e775497830990834d]\n",
       "class E10--><a href=\"psysml:90168d9a-6358-4939-88d7-8ec9974b52c6\" target=\"_top\" title=\"psysml:90168d9a-6358-4939-88d7-8ec9974b52c6\" xlink:actuate=\"onRequest\" xlink:href=\"psysml:90168d9a-6358-4939-88d7-8ec9974b52c6\" xlink:show=\"new\" xlink:title=\"psysml:90168d9a-6358-4939-88d7-8ec9974b52c6\" xlink:type=\"simple\"><rect fill=\"#FFFFFF\" height=\"45.9375\" id=\"E10\" rx=\"10\" ry=\"10\" style=\"stroke: #383838; stroke-width: 1.5;\" width=\"149\" x=\"505.5\" y=\"41\"/><text fill=\"#000000\" font-family=\"sans-serif\" font-size=\"12\" font-style=\"italic\" lengthAdjust=\"spacingAndGlyphs\" textLength=\"147\" x=\"506.5\" y=\"57.1387\">«individual occurrence»</text><text fill=\"#000000\" font-family=\"sans-serif\" font-size=\"12\" lengthAdjust=\"spacingAndGlyphs\" textLength=\"77\" x=\"539.5\" y=\"71.1074\">ind: Ind, Occ</text><line style=\"stroke: #383838; stroke-width: 1.5;\" x1=\"506.5\" x2=\"653.5\" y1=\"78.9375\" y2=\"78.9375\"/></a><!--MD5=[1dd1bfd58a279cf63c5f349dbc8fc6a1]\n",
       "class E11--><a href=\"psysml:d0eba55f-a402-4b22-88ba-9857d6bd50ac\" target=\"_top\" title=\"psysml:d0eba55f-a402-4b22-88ba-9857d6bd50ac\" xlink:actuate=\"onRequest\" xlink:href=\"psysml:d0eba55f-a402-4b22-88ba-9857d6bd50ac\" xlink:show=\"new\" xlink:title=\"psysml:d0eba55f-a402-4b22-88ba-9857d6bd50ac\" xlink:type=\"simple\"><rect fill=\"#FFFFFF\" height=\"45.9375\" id=\"E11\" rx=\"10\" ry=\"10\" style=\"stroke: #383838; stroke-width: 1.5;\" width=\"150\" x=\"561\" y=\"162\"/><text fill=\"#000000\" font-family=\"sans-serif\" font-size=\"12\" font-style=\"italic\" lengthAdjust=\"spacingAndGlyphs\" textLength=\"148\" x=\"562\" y=\"178.1387\">«snapshot occurrence»</text><text fill=\"#000000\" font-family=\"sans-serif\" font-size=\"12\" lengthAdjust=\"spacingAndGlyphs\" textLength=\"15\" x=\"626.5\" y=\"192.1074\">s3</text><line style=\"stroke: #383838; stroke-width: 1.5;\" x1=\"562\" x2=\"710\" y1=\"199.9375\" y2=\"199.9375\"/></a><!--MD5=[49a0ec8f00dab7302a31f22d0f0fe584]\n",
       "class E12--><a href=\"psysml:0232df4f-93e4-4add-8902-f942e03a0634\" target=\"_top\" title=\"psysml:0232df4f-93e4-4add-8902-f942e03a0634\" xlink:actuate=\"onRequest\" xlink:href=\"psysml:0232df4f-93e4-4add-8902-f942e03a0634\" xlink:show=\"new\" xlink:title=\"psysml:0232df4f-93e4-4add-8902-f942e03a0634\" xlink:type=\"simple\"><rect fill=\"#FFFFFF\" height=\"45.9375\" id=\"E12\" rx=\"10\" ry=\"10\" style=\"stroke: #383838; stroke-width: 1.5;\" width=\"208\" x=\"746\" y=\"162\"/><text fill=\"#000000\" font-family=\"sans-serif\" font-size=\"12\" font-style=\"italic\" lengthAdjust=\"spacingAndGlyphs\" textLength=\"206\" x=\"747\" y=\"178.1387\">«individual timeslice occurrence»</text><text fill=\"#000000\" font-family=\"sans-serif\" font-size=\"12\" lengthAdjust=\"spacingAndGlyphs\" textLength=\"13\" x=\"841.5\" y=\"192.1074\">t3</text><line style=\"stroke: #383838; stroke-width: 1.5;\" x1=\"747\" x2=\"953\" y1=\"199.9375\" y2=\"199.9375\"/></a><!--MD5=[ee3c913d1a06f366521f9ef512b67efe]\n",
       "class E13--><a href=\"psysml:5cbde71f-e2d0-40cd-91ed-92f5bc776eb7\" target=\"_top\" title=\"psysml:5cbde71f-e2d0-40cd-91ed-92f5bc776eb7\" xlink:actuate=\"onRequest\" xlink:href=\"psysml:5cbde71f-e2d0-40cd-91ed-92f5bc776eb7\" xlink:show=\"new\" xlink:title=\"psysml:5cbde71f-e2d0-40cd-91ed-92f5bc776eb7\" xlink:type=\"simple\"><rect fill=\"#FFFFFF\" height=\"45.9375\" id=\"E13\" rx=\"10\" ry=\"10\" style=\"stroke: #383838; stroke-width: 1.5;\" width=\"212\" x=\"32\" y=\"283\"/><text fill=\"#000000\" font-family=\"sans-serif\" font-size=\"12\" font-style=\"italic\" lengthAdjust=\"spacingAndGlyphs\" textLength=\"210\" x=\"33\" y=\"299.1387\">«individual snapshot occurrence»</text><text fill=\"#000000\" font-family=\"sans-serif\" font-size=\"12\" lengthAdjust=\"spacingAndGlyphs\" textLength=\"42\" x=\"115\" y=\"313.1074\">s4: Ind</text><line style=\"stroke: #383838; stroke-width: 1.5;\" x1=\"33\" x2=\"243\" y1=\"320.9375\" y2=\"320.9375\"/></a><!--MD5=[209b3feb70ccb6233bfe1053d122c12c]\n",
       "reverse link E2 to E3--><a href=\"psysml:111e77a4-44f2-45ac-862d-a1e02a1cad26\" target=\"_top\" title=\"psysml:111e77a4-44f2-45ac-862d-a1e02a1cad26\" xlink:actuate=\"onRequest\" xlink:href=\"psysml:111e77a4-44f2-45ac-862d-a1e02a1cad26\" xlink:show=\"new\" xlink:title=\"psysml:111e77a4-44f2-45ac-862d-a1e02a1cad26\" xlink:type=\"simple\"><path d=\"M376.37,232.45 C359.85,249.83 343.43,268.76 332.86,282.93 \" fill=\"none\" id=\"E2&lt;-E3\" style=\"stroke: #383838; stroke-width: 1.0;\"/><polygon fill=\"#FFFFFF\" points=\"385.52,223,378.4729,224.5294,377.1743,231.6226,384.2213,230.0932,385.52,223\" style=\"stroke: #383838; stroke-width: 1.0;\"/></a><!--MD5=[05d275557350bfb9b23a4ef7222b4c39]\n",
       "link E3 to E2--><a href=\"psysml:0f45e557-8f0e-4df9-b1d8-28bd2526f5a3\" target=\"_top\" title=\"psysml:0f45e557-8f0e-4df9-b1d8-28bd2526f5a3\" xlink:actuate=\"onRequest\" xlink:href=\"psysml:0f45e557-8f0e-4df9-b1d8-28bd2526f5a3\" xlink:show=\"new\" xlink:title=\"psysml:0f45e557-8f0e-4df9-b1d8-28bd2526f5a3\" xlink:type=\"simple\"><path d=\"M353.8,282.93 C367.38,270.34 383.11,253.98 396.95,238.29 \" fill=\"none\" id=\"E3-&gt;E2\" style=\"stroke: #383838; stroke-width: 1.0;\"/><polygon fill=\"#FFFFFF\" points=\"410.02,223,403.0007,241.9929,392.3563,232.8991,410.02,223\" style=\"stroke: #383838; stroke-width: 1.0;\"/><ellipse cx=\"397.7776\" cy=\"245.0276\" fill=\"#383838\" rx=\"2\" ry=\"2\" style=\"stroke: #383838; stroke-width: 1.0;\"/><ellipse cx=\"390.1744\" cy=\"238.532\" fill=\"#383838\" rx=\"2\" ry=\"2\" style=\"stroke: #383838; stroke-width: 1.0;\"/></a><!--MD5=[9618e71518536f8baf3342ff6fdab317]\n",
       "reverse link E2 to E4--><a href=\"psysml:7f5381ff-79d6-4175-8599-1b084d5a38fb\" target=\"_top\" title=\"psysml:7f5381ff-79d6-4175-8599-1b084d5a38fb\" xlink:actuate=\"onRequest\" xlink:href=\"psysml:7f5381ff-79d6-4175-8599-1b084d5a38fb\" xlink:show=\"new\" xlink:title=\"psysml:7f5381ff-79d6-4175-8599-1b084d5a38fb\" xlink:type=\"simple\"><path d=\"M424.31,236.34 C425.74,252.61 428.58,269.81 432.23,282.93 \" fill=\"none\" id=\"E2&lt;-E4\" style=\"stroke: #383838; stroke-width: 1.0;\"/><polygon fill=\"#383838\" points=\"423.45,223,419.8475,229.2467,424.2281,234.9747,427.8306,228.728,423.45,223\" style=\"stroke: #383838; stroke-width: 1.0;\"/></a><!--MD5=[185131fc0dcab0a4505a2ebe144e961b]\n",
       "link E4 to E2--><a href=\"psysml:9af83ecd-fc65-4272-8374-c2ac75a0337a\" target=\"_top\" title=\"psysml:9af83ecd-fc65-4272-8374-c2ac75a0337a\" xlink:actuate=\"onRequest\" xlink:href=\"psysml:9af83ecd-fc65-4272-8374-c2ac75a0337a\" xlink:show=\"new\" xlink:title=\"psysml:9af83ecd-fc65-4272-8374-c2ac75a0337a\" xlink:type=\"simple\"><path d=\"M453.17,282.93 C453.77,271.65 452.99,257.34 451.22,243.21 \" fill=\"none\" id=\"E4-&gt;E2\" style=\"stroke: #383838; stroke-width: 1.0;\"/><polygon fill=\"#FFFFFF\" points=\"447.96,223,457.8973,240.6423,444.0761,242.8725,447.96,223\" style=\"stroke: #383838; stroke-width: 1.0;\"/><ellipse cx=\"456.8309\" cy=\"246.5881\" fill=\"#383838\" rx=\"2\" ry=\"2\" style=\"stroke: #383838; stroke-width: 1.0;\"/><ellipse cx=\"446.9586\" cy=\"248.1811\" fill=\"#383838\" rx=\"2\" ry=\"2\" style=\"stroke: #383838; stroke-width: 1.0;\"/></a><!--MD5=[4e1a83fab71cdb913c109063314ae896]\n",
       "reverse link E2 to E5--><a href=\"psysml:648e9e41-ac7c-450e-af70-439d81f3f540\" target=\"_top\" title=\"psysml:648e9e41-ac7c-450e-af70-439d81f3f540\" xlink:actuate=\"onRequest\" xlink:href=\"psysml:648e9e41-ac7c-450e-af70-439d81f3f540\" xlink:show=\"new\" xlink:title=\"psysml:648e9e41-ac7c-450e-af70-439d81f3f540\" xlink:type=\"simple\"><path d=\"M499.85,227.17 C531.12,245.87 566.86,267.24 592.97,282.85 \" fill=\"none\" id=\"E2&lt;-E5\" style=\"stroke: #383838; stroke-width: 1.0;\"/><polygon fill=\"#383838\" points=\"488.56,220.42,491.6568,226.9323,498.8592,226.5784,495.7624,220.0661,488.56,220.42\" style=\"stroke: #383838; stroke-width: 1.0;\"/></a><!--MD5=[ce036f65110ae2351ccce5a81dc2e928]\n",
       "reverse link E2 to E6--><a href=\"psysml:00b8b9a4-593e-406d-b505-212ff2a7c9c1\" target=\"_top\" title=\"psysml:00b8b9a4-593e-406d-b505-212ff2a7c9c1\" xlink:actuate=\"onRequest\" xlink:href=\"psysml:00b8b9a4-593e-406d-b505-212ff2a7c9c1\" xlink:show=\"new\" xlink:title=\"psysml:00b8b9a4-593e-406d-b505-212ff2a7c9c1\" xlink:type=\"simple\"><path d=\"M500.82,216.39 C509.83,220.32 516,223 516,223 C516,223 674.13,262.53 770.8,286.7 \" fill=\"none\" id=\"E2&lt;-E6\" style=\"stroke: #383838; stroke-width: 1.0;\"/><polygon fill=\"#383838\" points=\"488.64,211.09,492.5451,217.1522,499.643,215.8791,495.7378,209.8169,488.64,211.09\" style=\"stroke: #383838; stroke-width: 1.0;\"/></a><!--MD5=[3a9b96bfbf6b6ad89c494e81751bda47]\n",
       "link E5 to E7--><a href=\"psysml:088b8ee7-f1bc-4574-b816-43bcf4f14b77\" target=\"_top\" title=\"psysml:088b8ee7-f1bc-4574-b816-43bcf4f14b77\" xlink:actuate=\"onRequest\" xlink:href=\"psysml:088b8ee7-f1bc-4574-b816-43bcf4f14b77\" xlink:show=\"new\" xlink:title=\"psysml:088b8ee7-f1bc-4574-b816-43bcf4f14b77\" xlink:type=\"simple\"><path d=\"M630,329.06 C630,340.64 630,355.23 630,368.87 \" fill=\"none\" id=\"E5-&gt;E7\" style=\"stroke: #383838; stroke-width: 1.0;\"/><polygon fill=\"#FFFFFF\" points=\"630,388.98,623,369.98,637,369.98,630,388.98\" style=\"stroke: #383838; stroke-width: 1.0;\"/><ellipse cx=\"625\" cy=\"364.28\" fill=\"#383838\" rx=\"2\" ry=\"2\" style=\"stroke: #383838; stroke-width: 1.0;\"/><ellipse cx=\"635\" cy=\"364.28\" fill=\"#383838\" rx=\"2\" ry=\"2\" style=\"stroke: #383838; stroke-width: 1.0;\"/></a><!--MD5=[dc164f5e8a733ab456ef1add180e9e34]\n",
       "reverse link E7 to E8--><a href=\"psysml:c8813ef9-ffa9-4c9d-80a4-dd20f6c80ea5\" target=\"_top\" title=\"psysml:c8813ef9-ffa9-4c9d-80a4-dd20f6c80ea5\" xlink:actuate=\"onRequest\" xlink:href=\"psysml:c8813ef9-ffa9-4c9d-80a4-dd20f6c80ea5\" xlink:show=\"new\" xlink:title=\"psysml:c8813ef9-ffa9-4c9d-80a4-dd20f6c80ea5\" xlink:type=\"simple\"><path d=\"M601.55,445.16 C587.25,461.33 570.28,480.51 557.48,494.98 \" fill=\"none\" id=\"E7&lt;-E8\" style=\"stroke: #383838; stroke-width: 1.0;\"/><polygon fill=\"#383838\" points=\"610.49,435.06,603.5177,436.9004,602.5348,444.0442,609.5071,442.2038,610.49,435.06\" style=\"stroke: #383838; stroke-width: 1.0;\"/></a><!--MD5=[e4a10ef82d0e328e31cac39a31e58dda]\n",
       "reverse link E7 to E9--><a href=\"psysml:cdca8d7c-6aa5-4fff-9e0e-900e3ba85343\" target=\"_top\" title=\"psysml:cdca8d7c-6aa5-4fff-9e0e-900e3ba85343\" xlink:actuate=\"onRequest\" xlink:href=\"psysml:cdca8d7c-6aa5-4fff-9e0e-900e3ba85343\" xlink:show=\"new\" xlink:title=\"psysml:cdca8d7c-6aa5-4fff-9e0e-900e3ba85343\" xlink:type=\"simple\"><path d=\"M658.14,445.16 C672.29,461.33 689.07,480.51 701.73,494.98 \" fill=\"none\" id=\"E7&lt;-E9\" style=\"stroke: #383838; stroke-width: 1.0;\"/><polygon fill=\"#383838\" points=\"649.3,435.06,650.2496,442.2083,657.2133,444.0811,656.2637,436.9328,649.3,435.06\" style=\"stroke: #383838; stroke-width: 1.0;\"/></a><!--MD5=[a919e0967d6f3de553dc51b9865a1d6d]\n",
       "link E10 to E7--><a href=\"psysml:43f26010-ca40-42d6-8df0-e4847d82fc63\" target=\"_top\" title=\"psysml:43f26010-ca40-42d6-8df0-e4847d82fc63\" xlink:actuate=\"onRequest\" xlink:href=\"psysml:43f26010-ca40-42d6-8df0-e4847d82fc63\" xlink:show=\"new\" xlink:title=\"psysml:43f26010-ca40-42d6-8df0-e4847d82fc63\" xlink:type=\"simple\"><path d=\"M570.16,87.41 C559.5,111.69 544,147 544,147 C544,147 544,223 544,223 C544,223 935,283 935,283 C935,283 935,329 935,329 C935,329 820.21,359.86 731.48,383.72 \" fill=\"none\" id=\"E10-&gt;E7\" style=\"stroke: #383838; stroke-width: 1.0;\"/><polygon fill=\"#FFFFFF\" points=\"712.14,388.92,728.6669,377.2212,732.3065,390.7398,712.14,388.92\" style=\"stroke: #383838; stroke-width: 1.0;\"/><ellipse cx=\"734.6908\" cy=\"377.6706\" fill=\"#383838\" rx=\"2\" ry=\"2\" style=\"stroke: #383838; stroke-width: 1.0;\"/><ellipse cx=\"737.2906\" cy=\"387.3267\" fill=\"#383838\" rx=\"2\" ry=\"2\" style=\"stroke: #383838; stroke-width: 1.0;\"/></a><!--MD5=[0f36bececdf0dff6e600d6f64214b0f1]\n",
       "link E10 to E2--><a href=\"psysml:ac89f7fb-b091-4bc7-aaea-6377fc157ffe\" target=\"_top\" title=\"psysml:ac89f7fb-b091-4bc7-aaea-6377fc157ffe\" xlink:actuate=\"onRequest\" xlink:href=\"psysml:ac89f7fb-b091-4bc7-aaea-6377fc157ffe\" xlink:show=\"new\" xlink:title=\"psysml:ac89f7fb-b091-4bc7-aaea-6377fc157ffe\" xlink:type=\"simple\"><path d=\"M552.32,87.1 C535.71,100.38 513.86,117.82 493.29,134.25 \" fill=\"none\" id=\"E10-&gt;E2\" style=\"stroke: #383838; stroke-width: 1.0;\"/><polygon fill=\"#FFFFFF\" points=\"477.56,146.81,488.0352,129.4817,496.7737,140.4197,477.56,146.81\" style=\"stroke: #383838; stroke-width: 1.0;\"/><ellipse cx=\"493.7369\" cy=\"127.4865\" fill=\"#383838\" rx=\"2\" ry=\"2\" style=\"stroke: #383838; stroke-width: 1.0;\"/><ellipse cx=\"499.9786\" cy=\"135.2994\" fill=\"#383838\" rx=\"2\" ry=\"2\" style=\"stroke: #383838; stroke-width: 1.0;\"/></a><!--MD5=[de308be4a2431766a05a907a031c07fc]\n",
       "reverse link E10 to E11--><a href=\"psysml:75c081c5-05e2-401c-b103-d900689a3a49\" target=\"_top\" title=\"psysml:75c081c5-05e2-401c-b103-d900689a3a49\" xlink:actuate=\"onRequest\" xlink:href=\"psysml:75c081c5-05e2-401c-b103-d900689a3a49\" xlink:show=\"new\" xlink:title=\"psysml:75c081c5-05e2-401c-b103-d900689a3a49\" xlink:type=\"simple\"><path d=\"M595.95,98.9 C605.42,119.01 617.15,143.94 625.46,161.61 \" fill=\"none\" id=\"E10&lt;-E11\" style=\"stroke: #383838; stroke-width: 1.0;\"/><polygon fill=\"#383838\" points=\"590.4,87.1,589.3334,94.2318,595.5064,97.9593,596.573,90.8275,590.4,87.1\" style=\"stroke: #383838; stroke-width: 1.0;\"/></a><!--MD5=[1d54f998c6d5961a1a9184be73a7eb6c]\n",
       "reverse link E10 to E12--><a href=\"psysml:54130436-8b1f-4706-a610-d99b2d4cb5d4\" target=\"_top\" title=\"psysml:54130436-8b1f-4706-a610-d99b2d4cb5d4\" xlink:actuate=\"onRequest\" xlink:href=\"psysml:54130436-8b1f-4706-a610-d99b2d4cb5d4\" xlink:show=\"new\" xlink:title=\"psysml:54130436-8b1f-4706-a610-d99b2d4cb5d4\" xlink:type=\"simple\"><path d=\"M642.21,92.42 C689.99,113.48 755.13,142.19 799.66,161.81 \" fill=\"none\" id=\"E10&lt;-E12\" style=\"stroke: #383838; stroke-width: 1.0;\"/><polygon fill=\"#383838\" points=\"630.15,87.1,634.028,93.1796,641.1314,91.9382,637.2534,85.8586,630.15,87.1\" style=\"stroke: #383838; stroke-width: 1.0;\"/></a><!--MD5=[4a48077df6499cfcd20b62e8f5f37904]\n",
       "link E13 to E7--><a href=\"psysml:85f16706-e1b7-404d-9ee5-57d420bfb7f2\" target=\"_top\" title=\"psysml:85f16706-e1b7-404d-9ee5-57d420bfb7f2\" xlink:actuate=\"onRequest\" xlink:href=\"psysml:85f16706-e1b7-404d-9ee5-57d420bfb7f2\" xlink:show=\"new\" xlink:title=\"psysml:85f16706-e1b7-404d-9ee5-57d420bfb7f2\" xlink:type=\"simple\"><path d=\"M242.34,329.06 C324.51,346.43 438.67,370.56 521.82,388.13 \" fill=\"none\" id=\"E13-&gt;E7\" style=\"stroke: #383838; stroke-width: 1.0;\"/><polygon fill=\"#FFFFFF\" points=\"541.45,392.28,521.4143,395.2075,524.304,381.509,541.45,392.28\" style=\"stroke: #383838; stroke-width: 1.0;\"/><ellipse cx=\"516.2498\" cy=\"392.0741\" fill=\"#383838\" rx=\"2\" ry=\"2\" style=\"stroke: #383838; stroke-width: 1.0;\"/><ellipse cx=\"518.3139\" cy=\"382.2894\" fill=\"#383838\" rx=\"2\" ry=\"2\" style=\"stroke: #383838; stroke-width: 1.0;\"/></a><!--MD5=[22aa96b9f37e8f9a387cdf6db6e09d4e]\n",
       "@startuml\r\n",
       "skinparam linetype polyline\r\n",
       "skinparam monochrome true\r\n",
       "skinparam classbackgroundcolor white\r\n",
       "skinparam shadowing false\r\n",
       "skinparam wrapWidth 300\r\n",
       "hide circle\r\n",
       "\r\n",
       "package \"OccurrenceTest\" as E1  [[psysml:53f1d42d-2686-4f4b-950f-b84b40bc19b2 ]]  {\r\n",
       "comp def \"Occ\" as E2  <<(T,blue) occurrence  def>> [[psysml:77ba500d-77fd-484e-b411-8833010da35e ]] {\r\n",
       "- - attributes - -\r\n",
       "a\r\n",
       "}\r\n",
       "comp usage \"occ1: Occ \" as E3  <<(T,blue) occurrence>> [[psysml:37011562-c12e-4ce2-bbf9-af5619a300f0 ]] {\r\n",
       "}\r\n",
       "comp usage \"occ2: Occ \" as E4  <<(T,blue) occurrence>> [[psysml:3522e0a2-d0dd-4c95-916a-e9f89fbadd86 ]] {\r\n",
       "}\r\n",
       "comp usage \"s: Ind \" as E5  <<(T,blue) individual snapshot occurrence>> [[psysml:2ba1b44f-ac88-49ba-a1da-8edc5df2da3a ]] {\r\n",
       "}\r\n",
       "comp usage \"t \" as E6  <<(T,blue) timeslice occurrence>> [[psysml:aefaf76d-f241-48e8-80ea-b99598299972 ]] {\r\n",
       "}\r\n",
       "comp def \"Ind\" as E7  <<(T,blue) individual occurrence  def>> [[psysml:991e81ed-291b-4563-955c-44288cc9fc81 ]] {\r\n",
       "}\r\n",
       "comp usage \"s2 \" as E8  <<(T,blue) snapshot occurrence>> [[psysml:fb7dbc0d-a670-4e6d-a2b6-24a9a70c023a ]] {\r\n",
       "}\r\n",
       "comp usage \"t2 \" as E9  <<(T,blue) timeslice occurrence>> [[psysml:ae0fd4ea-8dc7-4cb0-a32c-5615a8f756eb ]] {\r\n",
       "}\r\n",
       "comp usage \"ind: Ind, Occ \" as E10  <<(T,blue) individual occurrence>> [[psysml:90168d9a-6358-4939-88d7-8ec9974b52c6 ]] {\r\n",
       "}\r\n",
       "comp usage \"s3 \" as E11  <<(T,blue) snapshot occurrence>> [[psysml:d0eba55f-a402-4b22-88ba-9857d6bd50ac ]] {\r\n",
       "}\r\n",
       "comp usage \"t3 \" as E12  <<(T,blue) individual timeslice occurrence>> [[psysml:0232df4f-93e4-4add-8902-f942e03a0634 ]] {\r\n",
       "}\r\n",
       "comp usage \"s4: Ind \" as E13  <<(T,blue) individual snapshot occurrence>> [[psysml:5cbde71f-e2d0-40cd-91ed-92f5bc776eb7 ]] {\r\n",
       "}\r\n",
       "}\r\n",
       "E2 o- - E3 [[psysml:111e77a4-44f2-45ac-862d-a1e02a1cad26 ]] \r\n",
       "E3 - -:|> E2 [[psysml:0f45e557-8f0e-4df9-b1d8-28bd2526f5a3 ]] \r\n",
       "E2 *- - E4 [[psysml:7f5381ff-79d6-4175-8599-1b084d5a38fb ]] \r\n",
       "E4 - -:|> E2 [[psysml:9af83ecd-fc65-4272-8374-c2ac75a0337a ]] \r\n",
       "E2 *- - E5 [[psysml:648e9e41-ac7c-450e-af70-439d81f3f540 ]] \r\n",
       "E2 *- - E6 [[psysml:00b8b9a4-593e-406d-b505-212ff2a7c9c1 ]] \r\n",
       "E5 - -:|> E7 [[psysml:088b8ee7-f1bc-4574-b816-43bcf4f14b77 ]] \r\n",
       "E7 *- - E8 [[psysml:c8813ef9-ffa9-4c9d-80a4-dd20f6c80ea5 ]] \r\n",
       "E7 *- - E9 [[psysml:cdca8d7c-6aa5-4fff-9e0e-900e3ba85343 ]] \r\n",
       "E10 - -:|> E7 [[psysml:43f26010-ca40-42d6-8df0-e4847d82fc63 ]] \r\n",
       "E10 - -:|> E2 [[psysml:ac89f7fb-b091-4bc7-aaea-6377fc157ffe ]] \r\n",
       "E10 *- - E11 [[psysml:75c081c5-05e2-401c-b103-d900689a3a49 ]] \r\n",
       "E10 *- - E12 [[psysml:54130436-8b1f-4706-a610-d99b2d4cb5d4 ]] \r\n",
       "E13 - -:|> E7 [[psysml:85f16706-e1b7-404d-9ee5-57d420bfb7f2 ]] \r\n",
       "@enduml\r\n",
       "\n",
       "PlantUML version 1.2020.13(Sat Jun 13 12:26:38 UTC 2020)\n",
       "(EPL source distribution)\n",
       "Java Runtime: OpenJDK Runtime Environment\n",
       "JVM: OpenJDK 64-Bit Server VM\n",
       "Default Encoding: UTF-8\n",
       "Language: en\n",
       "Country: null\n",
       "--></g></svg>"
      ]
     },
     "execution_count": 15,
     "metadata": {},
     "output_type": "execute_result"
    }
   ],
   "source": [
    "%viz --style=\"POLYLINE\" --view=\"MIXED\" \"OccurrenceTest\""
   ]
  },
  {
   "cell_type": "code",
   "execution_count": 16,
   "id": "4a8abda0",
   "metadata": {
    "execution": {
     "iopub.execute_input": "2022-07-23T10:52:31.566418Z",
     "iopub.status.busy": "2022-07-23T10:52:31.565963Z",
     "iopub.status.idle": "2022-07-23T10:52:31.630260Z",
     "shell.execute_reply": "2022-07-23T10:52:31.629878Z"
    }
   },
   "outputs": [
    {
     "data": {
      "image/svg+xml": [
       "<?xml version=\"1.0\" encoding=\"UTF-8\" standalone=\"no\"?><svg xmlns=\"http://www.w3.org/2000/svg\" xmlns:xlink=\"http://www.w3.org/1999/xlink\" contentScriptType=\"application/ecmascript\" contentStyleType=\"text/css\" height=\"476px\" preserveAspectRatio=\"none\" style=\"width:1206px;height:476px;\" version=\"1.1\" viewBox=\"0 0 1206 476\" width=\"1206px\" zoomAndPan=\"magnify\"><defs/><g><!--MD5=[fbc87193dbaf4d95561dea2c320d4a47]\n",
       "cluster E1--><a href=\"psysml:53f1d42d-2686-4f4b-950f-b84b40bc19b2\" target=\"_top\" title=\"psysml:53f1d42d-2686-4f4b-950f-b84b40bc19b2\" xlink:actuate=\"onRequest\" xlink:href=\"psysml:53f1d42d-2686-4f4b-950f-b84b40bc19b2\" xlink:show=\"new\" xlink:title=\"psysml:53f1d42d-2686-4f4b-950f-b84b40bc19b2\" xlink:type=\"simple\"><polygon fill=\"#FFFFFF\" points=\"16,6,134,6,141,28.2969,1184,28.2969,1184,464,16,464,16,6\" style=\"stroke: #000000; stroke-width: 1.5;\"/><line style=\"stroke: #000000; stroke-width: 1.5;\" x1=\"16\" x2=\"141\" y1=\"28.2969\" y2=\"28.2969\"/><text fill=\"#000000\" font-family=\"sans-serif\" font-size=\"14\" font-weight=\"bold\" lengthAdjust=\"spacingAndGlyphs\" textLength=\"112\" x=\"20\" y=\"20.9951\">OccurrenceTest</text></a><!--MD5=[b4997ac47864f28c2f74865a473b2911]\n",
       "class E2--><a href=\"psysml:77ba500d-77fd-484e-b411-8833010da35e\" target=\"_top\" title=\"psysml:77ba500d-77fd-484e-b411-8833010da35e\" xlink:actuate=\"onRequest\" xlink:href=\"psysml:77ba500d-77fd-484e-b411-8833010da35e\" xlink:show=\"new\" xlink:title=\"psysml:77ba500d-77fd-484e-b411-8833010da35e\" xlink:type=\"simple\"><rect fill=\"#FFFFFF\" height=\"75.5469\" id=\"E2\" style=\"stroke: #383838; stroke-width: 1.5;\" width=\"115\" x=\"287.5\" y=\"240\"/><text fill=\"#000000\" font-family=\"sans-serif\" font-size=\"12\" font-style=\"italic\" lengthAdjust=\"spacingAndGlyphs\" textLength=\"113\" x=\"288.5\" y=\"256.1387\">«occurrence  def»</text><text fill=\"#000000\" font-family=\"sans-serif\" font-size=\"12\" lengthAdjust=\"spacingAndGlyphs\" textLength=\"23\" x=\"333.5\" y=\"270.1074\">Occ</text><line style=\"stroke: #383838; stroke-width: 1.5;\" x1=\"288.5\" x2=\"401.5\" y1=\"277.9375\" y2=\"277.9375\"/><text fill=\"#000000\" font-family=\"sans-serif\" font-size=\"11\" lengthAdjust=\"spacingAndGlyphs\" textLength=\"7\" x=\"293.5\" y=\"308.9526\">a</text><line style=\"stroke: #383838; stroke-width: 1.0;\" x1=\"288.5\" x2=\"317.5\" y1=\"292.3398\" y2=\"292.3398\"/><text fill=\"#000000\" font-family=\"sans-serif\" font-size=\"11\" lengthAdjust=\"spacingAndGlyphs\" textLength=\"55\" x=\"317.5\" y=\"295.6479\">attributes</text><line style=\"stroke: #383838; stroke-width: 1.0;\" x1=\"372.5\" x2=\"401.5\" y1=\"292.3398\" y2=\"292.3398\"/></a><!--MD5=[09b614a08d8cba4a07c9adeb5e0fee81]\n",
       "class E3--><a href=\"psysml:37011562-c12e-4ce2-bbf9-af5619a300f0\" target=\"_top\" title=\"psysml:37011562-c12e-4ce2-bbf9-af5619a300f0\" xlink:actuate=\"onRequest\" xlink:href=\"psysml:37011562-c12e-4ce2-bbf9-af5619a300f0\" xlink:show=\"new\" xlink:title=\"psysml:37011562-c12e-4ce2-bbf9-af5619a300f0\" xlink:type=\"simple\"><rect fill=\"#FFFFFF\" height=\"45.9375\" id=\"E3\" rx=\"10\" ry=\"10\" style=\"stroke: #383838; stroke-width: 1.5;\" width=\"87\" x=\"571.5\" y=\"321\"/><text fill=\"#000000\" font-family=\"sans-serif\" font-size=\"12\" font-style=\"italic\" lengthAdjust=\"spacingAndGlyphs\" textLength=\"85\" x=\"572.5\" y=\"337.1387\">«occurrence»</text><text fill=\"#000000\" font-family=\"sans-serif\" font-size=\"12\" lengthAdjust=\"spacingAndGlyphs\" textLength=\"61\" x=\"582.5\" y=\"351.1074\">occ1: Occ</text><line style=\"stroke: #383838; stroke-width: 1.5;\" x1=\"572.5\" x2=\"657.5\" y1=\"358.9375\" y2=\"358.9375\"/></a><!--MD5=[ebbe1d658d1005bcc118a6aa81145e00]\n",
       "class E4--><a href=\"psysml:3522e0a2-d0dd-4c95-916a-e9f89fbadd86\" target=\"_top\" title=\"psysml:3522e0a2-d0dd-4c95-916a-e9f89fbadd86\" xlink:actuate=\"onRequest\" xlink:href=\"psysml:3522e0a2-d0dd-4c95-916a-e9f89fbadd86\" xlink:show=\"new\" xlink:title=\"psysml:3522e0a2-d0dd-4c95-916a-e9f89fbadd86\" xlink:type=\"simple\"><rect fill=\"#FFFFFF\" height=\"45.9375\" id=\"E4\" rx=\"10\" ry=\"10\" style=\"stroke: #383838; stroke-width: 1.5;\" width=\"87\" x=\"571.5\" y=\"240\"/><text fill=\"#000000\" font-family=\"sans-serif\" font-size=\"12\" font-style=\"italic\" lengthAdjust=\"spacingAndGlyphs\" textLength=\"85\" x=\"572.5\" y=\"256.1387\">«occurrence»</text><text fill=\"#000000\" font-family=\"sans-serif\" font-size=\"12\" lengthAdjust=\"spacingAndGlyphs\" textLength=\"61\" x=\"582.5\" y=\"270.1074\">occ2: Occ</text><line style=\"stroke: #383838; stroke-width: 1.5;\" x1=\"572.5\" x2=\"657.5\" y1=\"277.9375\" y2=\"277.9375\"/></a><!--MD5=[270fce915f116d4de14055a7c1d9a0f3]\n",
       "class E5--><a href=\"psysml:2ba1b44f-ac88-49ba-a1da-8edc5df2da3a\" target=\"_top\" title=\"psysml:2ba1b44f-ac88-49ba-a1da-8edc5df2da3a\" xlink:actuate=\"onRequest\" xlink:href=\"psysml:2ba1b44f-ac88-49ba-a1da-8edc5df2da3a\" xlink:show=\"new\" xlink:title=\"psysml:2ba1b44f-ac88-49ba-a1da-8edc5df2da3a\" xlink:type=\"simple\"><rect fill=\"#FFFFFF\" height=\"45.9375\" id=\"E5\" rx=\"10\" ry=\"10\" style=\"stroke: #383838; stroke-width: 1.5;\" width=\"212\" x=\"509\" y=\"159\"/><text fill=\"#000000\" font-family=\"sans-serif\" font-size=\"12\" font-style=\"italic\" lengthAdjust=\"spacingAndGlyphs\" textLength=\"210\" x=\"510\" y=\"175.1387\">«individual snapshot occurrence»</text><text fill=\"#000000\" font-family=\"sans-serif\" font-size=\"12\" lengthAdjust=\"spacingAndGlyphs\" textLength=\"34\" x=\"596\" y=\"189.1074\">s: Ind</text><line style=\"stroke: #383838; stroke-width: 1.5;\" x1=\"510\" x2=\"720\" y1=\"196.9375\" y2=\"196.9375\"/></a><!--MD5=[60a26617385b1d2d0262a64233df1f8d]\n",
       "class E6--><a href=\"psysml:aefaf76d-f241-48e8-80ea-b99598299972\" target=\"_top\" title=\"psysml:aefaf76d-f241-48e8-80ea-b99598299972\" xlink:actuate=\"onRequest\" xlink:href=\"psysml:aefaf76d-f241-48e8-80ea-b99598299972\" xlink:show=\"new\" xlink:title=\"psysml:aefaf76d-f241-48e8-80ea-b99598299972\" xlink:type=\"simple\"><rect fill=\"#FFFFFF\" height=\"45.9375\" id=\"E6\" rx=\"10\" ry=\"10\" style=\"stroke: #383838; stroke-width: 1.5;\" width=\"146\" x=\"542\" y=\"78\"/><text fill=\"#000000\" font-family=\"sans-serif\" font-size=\"12\" font-style=\"italic\" lengthAdjust=\"spacingAndGlyphs\" textLength=\"144\" x=\"543\" y=\"94.1387\">«timeslice occurrence»</text><text fill=\"#000000\" font-family=\"sans-serif\" font-size=\"12\" lengthAdjust=\"spacingAndGlyphs\" textLength=\"5\" x=\"610.5\" y=\"108.1074\">t</text><line style=\"stroke: #383838; stroke-width: 1.5;\" x1=\"543\" x2=\"687\" y1=\"115.9375\" y2=\"115.9375\"/></a><!--MD5=[2156ba9850f5573cc1fc38a6a4b2f02b]\n",
       "class E7--><a href=\"psysml:991e81ed-291b-4563-955c-44288cc9fc81\" target=\"_top\" title=\"psysml:991e81ed-291b-4563-955c-44288cc9fc81\" xlink:actuate=\"onRequest\" xlink:href=\"psysml:991e81ed-291b-4563-955c-44288cc9fc81\" xlink:show=\"new\" xlink:title=\"psysml:991e81ed-291b-4563-955c-44288cc9fc81\" xlink:type=\"simple\"><rect fill=\"#FFFFFF\" height=\"45.9375\" id=\"E7\" style=\"stroke: #383838; stroke-width: 1.5;\" width=\"177\" x=\"781\" y=\"159\"/><text fill=\"#000000\" font-family=\"sans-serif\" font-size=\"12\" font-style=\"italic\" lengthAdjust=\"spacingAndGlyphs\" textLength=\"175\" x=\"782\" y=\"175.1387\">«individual occurrence  def»</text><text fill=\"#000000\" font-family=\"sans-serif\" font-size=\"12\" lengthAdjust=\"spacingAndGlyphs\" textLength=\"19\" x=\"860\" y=\"189.1074\">Ind</text><line style=\"stroke: #383838; stroke-width: 1.5;\" x1=\"782\" x2=\"957\" y1=\"196.9375\" y2=\"196.9375\"/></a><!--MD5=[b9389687b975829384b498ac4b7476b2]\n",
       "class E8--><a href=\"psysml:fb7dbc0d-a670-4e6d-a2b6-24a9a70c023a\" target=\"_top\" title=\"psysml:fb7dbc0d-a670-4e6d-a2b6-24a9a70c023a\" xlink:actuate=\"onRequest\" xlink:href=\"psysml:fb7dbc0d-a670-4e6d-a2b6-24a9a70c023a\" xlink:show=\"new\" xlink:title=\"psysml:fb7dbc0d-a670-4e6d-a2b6-24a9a70c023a\" xlink:type=\"simple\"><rect fill=\"#FFFFFF\" height=\"45.9375\" id=\"E8\" rx=\"10\" ry=\"10\" style=\"stroke: #383838; stroke-width: 1.5;\" width=\"150\" x=\"1018\" y=\"199\"/><text fill=\"#000000\" font-family=\"sans-serif\" font-size=\"12\" font-style=\"italic\" lengthAdjust=\"spacingAndGlyphs\" textLength=\"148\" x=\"1019\" y=\"215.1387\">«snapshot occurrence»</text><text fill=\"#000000\" font-family=\"sans-serif\" font-size=\"12\" lengthAdjust=\"spacingAndGlyphs\" textLength=\"15\" x=\"1083.5\" y=\"229.1074\">s2</text><line style=\"stroke: #383838; stroke-width: 1.5;\" x1=\"1019\" x2=\"1167\" y1=\"236.9375\" y2=\"236.9375\"/></a><!--MD5=[fd4143e9d270a159db93a4ea2a975926]\n",
       "class E9--><a href=\"psysml:ae0fd4ea-8dc7-4cb0-a32c-5615a8f756eb\" target=\"_top\" title=\"psysml:ae0fd4ea-8dc7-4cb0-a32c-5615a8f756eb\" xlink:actuate=\"onRequest\" xlink:href=\"psysml:ae0fd4ea-8dc7-4cb0-a32c-5615a8f756eb\" xlink:show=\"new\" xlink:title=\"psysml:ae0fd4ea-8dc7-4cb0-a32c-5615a8f756eb\" xlink:type=\"simple\"><rect fill=\"#FFFFFF\" height=\"45.9375\" id=\"E9\" rx=\"10\" ry=\"10\" style=\"stroke: #383838; stroke-width: 1.5;\" width=\"146\" x=\"1020\" y=\"118\"/><text fill=\"#000000\" font-family=\"sans-serif\" font-size=\"12\" font-style=\"italic\" lengthAdjust=\"spacingAndGlyphs\" textLength=\"144\" x=\"1021\" y=\"134.1387\">«timeslice occurrence»</text><text fill=\"#000000\" font-family=\"sans-serif\" font-size=\"12\" lengthAdjust=\"spacingAndGlyphs\" textLength=\"13\" x=\"1084.5\" y=\"148.1074\">t2</text><line style=\"stroke: #383838; stroke-width: 1.5;\" x1=\"1021\" x2=\"1165\" y1=\"155.9375\" y2=\"155.9375\"/></a><!--MD5=[96f4274e9e20536e775497830990834d]\n",
       "class E10--><a href=\"psysml:90168d9a-6358-4939-88d7-8ec9974b52c6\" target=\"_top\" title=\"psysml:90168d9a-6358-4939-88d7-8ec9974b52c6\" xlink:actuate=\"onRequest\" xlink:href=\"psysml:90168d9a-6358-4939-88d7-8ec9974b52c6\" xlink:show=\"new\" xlink:title=\"psysml:90168d9a-6358-4939-88d7-8ec9974b52c6\" xlink:type=\"simple\"><rect fill=\"#FFFFFF\" height=\"45.9375\" id=\"E10\" rx=\"10\" ry=\"10\" style=\"stroke: #383838; stroke-width: 1.5;\" width=\"149\" x=\"32\" y=\"152\"/><text fill=\"#000000\" font-family=\"sans-serif\" font-size=\"12\" font-style=\"italic\" lengthAdjust=\"spacingAndGlyphs\" textLength=\"147\" x=\"33\" y=\"168.1387\">«individual occurrence»</text><text fill=\"#000000\" font-family=\"sans-serif\" font-size=\"12\" lengthAdjust=\"spacingAndGlyphs\" textLength=\"77\" x=\"66\" y=\"182.1074\">ind: Ind, Occ</text><line style=\"stroke: #383838; stroke-width: 1.5;\" x1=\"33\" x2=\"180\" y1=\"189.9375\" y2=\"189.9375\"/></a><!--MD5=[1dd1bfd58a279cf63c5f349dbc8fc6a1]\n",
       "class E11--><a href=\"psysml:d0eba55f-a402-4b22-88ba-9857d6bd50ac\" target=\"_top\" title=\"psysml:d0eba55f-a402-4b22-88ba-9857d6bd50ac\" xlink:actuate=\"onRequest\" xlink:href=\"psysml:d0eba55f-a402-4b22-88ba-9857d6bd50ac\" xlink:show=\"new\" xlink:title=\"psysml:d0eba55f-a402-4b22-88ba-9857d6bd50ac\" xlink:type=\"simple\"><rect fill=\"#FFFFFF\" height=\"45.9375\" id=\"E11\" rx=\"10\" ry=\"10\" style=\"stroke: #383838; stroke-width: 1.5;\" width=\"150\" x=\"270\" y=\"122\"/><text fill=\"#000000\" font-family=\"sans-serif\" font-size=\"12\" font-style=\"italic\" lengthAdjust=\"spacingAndGlyphs\" textLength=\"148\" x=\"271\" y=\"138.1387\">«snapshot occurrence»</text><text fill=\"#000000\" font-family=\"sans-serif\" font-size=\"12\" lengthAdjust=\"spacingAndGlyphs\" textLength=\"15\" x=\"335.5\" y=\"152.1074\">s3</text><line style=\"stroke: #383838; stroke-width: 1.5;\" x1=\"271\" x2=\"419\" y1=\"159.9375\" y2=\"159.9375\"/></a><!--MD5=[49a0ec8f00dab7302a31f22d0f0fe584]\n",
       "class E12--><a href=\"psysml:0232df4f-93e4-4add-8902-f942e03a0634\" target=\"_top\" title=\"psysml:0232df4f-93e4-4add-8902-f942e03a0634\" xlink:actuate=\"onRequest\" xlink:href=\"psysml:0232df4f-93e4-4add-8902-f942e03a0634\" xlink:show=\"new\" xlink:title=\"psysml:0232df4f-93e4-4add-8902-f942e03a0634\" xlink:type=\"simple\"><rect fill=\"#FFFFFF\" height=\"45.9375\" id=\"E12\" rx=\"10\" ry=\"10\" style=\"stroke: #383838; stroke-width: 1.5;\" width=\"208\" x=\"241\" y=\"41\"/><text fill=\"#000000\" font-family=\"sans-serif\" font-size=\"12\" font-style=\"italic\" lengthAdjust=\"spacingAndGlyphs\" textLength=\"206\" x=\"242\" y=\"57.1387\">«individual timeslice occurrence»</text><text fill=\"#000000\" font-family=\"sans-serif\" font-size=\"12\" lengthAdjust=\"spacingAndGlyphs\" textLength=\"13\" x=\"336.5\" y=\"71.1074\">t3</text><line style=\"stroke: #383838; stroke-width: 1.5;\" x1=\"242\" x2=\"448\" y1=\"78.9375\" y2=\"78.9375\"/></a><!--MD5=[ee3c913d1a06f366521f9ef512b67efe]\n",
       "class E13--><a href=\"psysml:5cbde71f-e2d0-40cd-91ed-92f5bc776eb7\" target=\"_top\" title=\"psysml:5cbde71f-e2d0-40cd-91ed-92f5bc776eb7\" xlink:actuate=\"onRequest\" xlink:href=\"psysml:5cbde71f-e2d0-40cd-91ed-92f5bc776eb7\" xlink:show=\"new\" xlink:title=\"psysml:5cbde71f-e2d0-40cd-91ed-92f5bc776eb7\" xlink:type=\"simple\"><rect fill=\"#FFFFFF\" height=\"45.9375\" id=\"E13\" rx=\"10\" ry=\"10\" style=\"stroke: #383838; stroke-width: 1.5;\" width=\"212\" x=\"509\" y=\"402\"/><text fill=\"#000000\" font-family=\"sans-serif\" font-size=\"12\" font-style=\"italic\" lengthAdjust=\"spacingAndGlyphs\" textLength=\"210\" x=\"510\" y=\"418.1387\">«individual snapshot occurrence»</text><text fill=\"#000000\" font-family=\"sans-serif\" font-size=\"12\" lengthAdjust=\"spacingAndGlyphs\" textLength=\"42\" x=\"592\" y=\"432.1074\">s4: Ind</text><line style=\"stroke: #383838; stroke-width: 1.5;\" x1=\"510\" x2=\"720\" y1=\"439.9375\" y2=\"439.9375\"/></a><!--MD5=[209b3feb70ccb6233bfe1053d122c12c]\n",
       "reverse link E2 to E3--><a href=\"psysml:111e77a4-44f2-45ac-862d-a1e02a1cad26\" target=\"_top\" title=\"psysml:111e77a4-44f2-45ac-862d-a1e02a1cad26\" xlink:actuate=\"onRequest\" xlink:href=\"psysml:111e77a4-44f2-45ac-862d-a1e02a1cad26\" xlink:show=\"new\" xlink:title=\"psysml:111e77a4-44f2-45ac-862d-a1e02a1cad26\" xlink:type=\"simple\"><path d=\"M415.01,306.31 C464.34,320.82 529.17,336.23 571.21,343.1 \" fill=\"none\" id=\"E2&lt;-E3\" style=\"stroke: #383838; stroke-width: 1.0;\"/><polygon fill=\"#FFFFFF\" points=\"402.51,302.54,407.0994,308.1022,413.9988,306.0051,409.4094,300.4429,402.51,302.54\" style=\"stroke: #383838; stroke-width: 1.0;\"/></a><!--MD5=[05d275557350bfb9b23a4ef7222b4c39]\n",
       "link E3 to E2--><a href=\"psysml:0f45e557-8f0e-4df9-b1d8-28bd2526f5a3\" target=\"_top\" title=\"psysml:0f45e557-8f0e-4df9-b1d8-28bd2526f5a3\" xlink:actuate=\"onRequest\" xlink:href=\"psysml:0f45e557-8f0e-4df9-b1d8-28bd2526f5a3\" xlink:show=\"new\" xlink:title=\"psysml:0f45e557-8f0e-4df9-b1d8-28bd2526f5a3\" xlink:type=\"simple\"><path d=\"M571.21,323.25 C531.22,309.9 470.62,294.27 422.34,284.48 \" fill=\"none\" id=\"E3-&gt;E2\" style=\"stroke: #383838; stroke-width: 1.0;\"/><polygon fill=\"#FFFFFF\" points=\"402.51,280.67,422.4891,277.3781,419.8493,291.127,402.51,280.67\" style=\"stroke: #383838; stroke-width: 1.0;\"/><ellipse cx=\"427.7097\" cy=\"280.417\" fill=\"#383838\" rx=\"2\" ry=\"2\" style=\"stroke: #383838; stroke-width: 1.0;\"/><ellipse cx=\"425.8242\" cy=\"290.2376\" fill=\"#383838\" rx=\"2\" ry=\"2\" style=\"stroke: #383838; stroke-width: 1.0;\"/></a><!--MD5=[9618e71518536f8baf3342ff6fdab317]\n",
       "reverse link E2 to E4--><a href=\"psysml:7f5381ff-79d6-4175-8599-1b084d5a38fb\" target=\"_top\" title=\"psysml:7f5381ff-79d6-4175-8599-1b084d5a38fb\" xlink:actuate=\"onRequest\" xlink:href=\"psysml:7f5381ff-79d6-4175-8599-1b084d5a38fb\" xlink:show=\"new\" xlink:title=\"psysml:7f5381ff-79d6-4175-8599-1b084d5a38fb\" xlink:type=\"simple\"><path d=\"M415.64,285.44 C464.89,285.02 529.35,280.85 571.21,275.03 \" fill=\"none\" id=\"E2&lt;-E4\" style=\"stroke: #383838; stroke-width: 1.0;\"/><polygon fill=\"#383838\" points=\"402.51,285.46,408.5188,289.4468,414.51,285.4336,408.5012,281.4468,402.51,285.46\" style=\"stroke: #383838; stroke-width: 1.0;\"/></a><!--MD5=[185131fc0dcab0a4505a2ebe144e961b]\n",
       "link E4 to E2--><a href=\"psysml:9af83ecd-fc65-4272-8374-c2ac75a0337a\" target=\"_top\" title=\"psysml:9af83ecd-fc65-4272-8374-c2ac75a0337a\" xlink:actuate=\"onRequest\" xlink:href=\"psysml:9af83ecd-fc65-4272-8374-c2ac75a0337a\" xlink:show=\"new\" xlink:title=\"psysml:9af83ecd-fc65-4272-8374-c2ac75a0337a\" xlink:type=\"simple\"><path d=\"M571.21,255.19 C531.31,253.92 470.89,256.59 422.67,261.37 \" fill=\"none\" id=\"E4-&gt;E2\" style=\"stroke: #383838; stroke-width: 1.0;\"/><polygon fill=\"#FFFFFF\" points=\"402.51,263.59,420.6308,254.5546,422.1614,268.4707,402.51,263.59\" style=\"stroke: #383838; stroke-width: 1.0;\"/><ellipse cx=\"426.5153\" cy=\"255.9194\" fill=\"#383838\" rx=\"2\" ry=\"2\" style=\"stroke: #383838; stroke-width: 1.0;\"/><ellipse cx=\"427.6086\" cy=\"265.8595\" fill=\"#383838\" rx=\"2\" ry=\"2\" style=\"stroke: #383838; stroke-width: 1.0;\"/></a><!--MD5=[4e1a83fab71cdb913c109063314ae896]\n",
       "reverse link E2 to E5--><a href=\"psysml:648e9e41-ac7c-450e-af70-439d81f3f540\" target=\"_top\" title=\"psysml:648e9e41-ac7c-450e-af70-439d81f3f540\" xlink:actuate=\"onRequest\" xlink:href=\"psysml:648e9e41-ac7c-450e-af70-439d81f3f540\" xlink:show=\"new\" xlink:title=\"psysml:648e9e41-ac7c-450e-af70-439d81f3f540\" xlink:type=\"simple\"><path d=\"M415,253.28 C456.49,238.42 508.93,219.64 549.57,205.08 \" fill=\"none\" id=\"E2&lt;-E5\" style=\"stroke: #383838; stroke-width: 1.0;\"/><polygon fill=\"#383838\" points=\"402.51,257.76,409.5075,259.5022,413.807,253.7131,406.8095,251.9709,402.51,257.76\" style=\"stroke: #383838; stroke-width: 1.0;\"/></a><!--MD5=[ce036f65110ae2351ccce5a81dc2e928]\n",
       "reverse link E2 to E6--><a href=\"psysml:00b8b9a4-593e-406d-b505-212ff2a7c9c1\" target=\"_top\" title=\"psysml:00b8b9a4-593e-406d-b505-212ff2a7c9c1\" xlink:actuate=\"onRequest\" xlink:href=\"psysml:00b8b9a4-593e-406d-b505-212ff2a7c9c1\" xlink:show=\"new\" xlink:title=\"psysml:00b8b9a4-593e-406d-b505-212ff2a7c9c1\" xlink:type=\"simple\"><path d=\"M413.69,239.57 C425.94,231.44 438.22,222.44 449,213 C480.33,185.55 475.1,165.2 509,141 C518.92,133.92 530.26,127.91 541.73,122.87 \" fill=\"none\" id=\"E2&lt;-E6\" style=\"stroke: #383838; stroke-width: 1.0;\"/><polygon fill=\"#383838\" points=\"402.51,246.77,409.7202,246.8821,412.5969,240.2696,405.3866,240.1575,402.51,246.77\" style=\"stroke: #383838; stroke-width: 1.0;\"/></a><!--MD5=[3a9b96bfbf6b6ad89c494e81751bda47]\n",
       "link E5 to E7--><a href=\"psysml:088b8ee7-f1bc-4574-b816-43bcf4f14b77\" target=\"_top\" title=\"psysml:088b8ee7-f1bc-4574-b816-43bcf4f14b77\" xlink:actuate=\"onRequest\" xlink:href=\"psysml:088b8ee7-f1bc-4574-b816-43bcf4f14b77\" xlink:show=\"new\" xlink:title=\"psysml:088b8ee7-f1bc-4574-b816-43bcf4f14b77\" xlink:type=\"simple\"><path d=\"M721.25,182 C734.22,182 747.49,182 760.49,182 \" fill=\"none\" id=\"E5-&gt;E7\" style=\"stroke: #383838; stroke-width: 1.0;\"/><polygon fill=\"#FFFFFF\" points=\"780.63,182,761.63,189,761.63,175,780.63,182\" style=\"stroke: #383838; stroke-width: 1.0;\"/><ellipse cx=\"755.93\" cy=\"187\" fill=\"#383838\" rx=\"2\" ry=\"2\" style=\"stroke: #383838; stroke-width: 1.0;\"/><ellipse cx=\"755.93\" cy=\"177\" fill=\"#383838\" rx=\"2\" ry=\"2\" style=\"stroke: #383838; stroke-width: 1.0;\"/></a><!--MD5=[dc164f5e8a733ab456ef1add180e9e34]\n",
       "reverse link E7 to E8--><a href=\"psysml:c8813ef9-ffa9-4c9d-80a4-dd20f6c80ea5\" target=\"_top\" title=\"psysml:c8813ef9-ffa9-4c9d-80a4-dd20f6c80ea5\" xlink:actuate=\"onRequest\" xlink:href=\"psysml:c8813ef9-ffa9-4c9d-80a4-dd20f6c80ea5\" xlink:show=\"new\" xlink:title=\"psysml:c8813ef9-ffa9-4c9d-80a4-dd20f6c80ea5\" xlink:type=\"simple\"><path d=\"M971.18,200.18 C986.93,203.02 1002.95,205.92 1017.96,208.63 \" fill=\"none\" id=\"E7&lt;-E8\" style=\"stroke: #383838; stroke-width: 1.0;\"/><polygon fill=\"#383838\" points=\"958.04,197.81,963.238,202.8081,969.8508,199.9323,964.6528,194.9342,958.04,197.81\" style=\"stroke: #383838; stroke-width: 1.0;\"/></a><!--MD5=[e4a10ef82d0e328e31cac39a31e58dda]\n",
       "reverse link E7 to E9--><a href=\"psysml:cdca8d7c-6aa5-4fff-9e0e-900e3ba85343\" target=\"_top\" title=\"psysml:cdca8d7c-6aa5-4fff-9e0e-900e3ba85343\" xlink:actuate=\"onRequest\" xlink:href=\"psysml:cdca8d7c-6aa5-4fff-9e0e-900e3ba85343\" xlink:show=\"new\" xlink:title=\"psysml:cdca8d7c-6aa5-4fff-9e0e-900e3ba85343\" xlink:type=\"simple\"><path d=\"M971.09,163.38 C987.48,160.35 1004.17,157.26 1019.71,154.38 \" fill=\"none\" id=\"E7&lt;-E9\" style=\"stroke: #383838; stroke-width: 1.0;\"/><polygon fill=\"#383838\" points=\"958.04,165.8,964.6663,168.6446,969.8407,163.622,963.2144,160.7774,958.04,165.8\" style=\"stroke: #383838; stroke-width: 1.0;\"/></a><!--MD5=[a919e0967d6f3de553dc51b9865a1d6d]\n",
       "link E10 to E7--><a href=\"psysml:43f26010-ca40-42d6-8df0-e4847d82fc63\" target=\"_top\" title=\"psysml:43f26010-ca40-42d6-8df0-e4847d82fc63\" xlink:actuate=\"onRequest\" xlink:href=\"psysml:43f26010-ca40-42d6-8df0-e4847d82fc63\" xlink:show=\"new\" xlink:title=\"psysml:43f26010-ca40-42d6-8df0-e4847d82fc63\" xlink:type=\"simple\"><path d=\"M176.21,198.02 C249.67,218.13 366.67,236.81 449,185 C501.16,152.18 456.84,92.82 509,60 C588.75,9.82 632.35,28.09 721,60 C767.04,76.57 808.91,114.44 836.18,143.62 \" fill=\"none\" id=\"E10-&gt;E7\" style=\"stroke: #383838; stroke-width: 1.0;\"/><polygon fill=\"#FFFFFF\" points=\"849.76,158.75,831.8607,149.2835,842.2807,139.9335,849.76,158.75\" style=\"stroke: #383838; stroke-width: 1.0;\"/><ellipse cx=\"829.5424\" cy=\"143.7054\" fill=\"#383838\" rx=\"2\" ry=\"2\" style=\"stroke: #383838; stroke-width: 1.0;\"/><ellipse cx=\"836.9853\" cy=\"137.0268\" fill=\"#383838\" rx=\"2\" ry=\"2\" style=\"stroke: #383838; stroke-width: 1.0;\"/></a><!--MD5=[0f36bececdf0dff6e600d6f64214b0f1]\n",
       "link E10 to E2--><a href=\"psysml:ac89f7fb-b091-4bc7-aaea-6377fc157ffe\" target=\"_top\" title=\"psysml:ac89f7fb-b091-4bc7-aaea-6377fc157ffe\" xlink:actuate=\"onRequest\" xlink:href=\"psysml:ac89f7fb-b091-4bc7-aaea-6377fc157ffe\" xlink:show=\"new\" xlink:title=\"psysml:ac89f7fb-b091-4bc7-aaea-6377fc157ffe\" xlink:type=\"simple\"><path d=\"M160.58,198.12 C192.55,212.04 233.78,230 269.04,245.35 \" fill=\"none\" id=\"E10-&gt;E2\" style=\"stroke: #383838; stroke-width: 1.0;\"/><polygon fill=\"#FFFFFF\" points=\"287.39,253.34,267.1751,252.1739,272.7635,239.3376,287.39,253.34\" style=\"stroke: #383838; stroke-width: 1.0;\"/><ellipse cx=\"262.7473\" cy=\"248.0649\" fill=\"#383838\" rx=\"2\" ry=\"2\" style=\"stroke: #383838; stroke-width: 1.0;\"/><ellipse cx=\"266.739\" cy=\"238.8961\" fill=\"#383838\" rx=\"2\" ry=\"2\" style=\"stroke: #383838; stroke-width: 1.0;\"/></a><!--MD5=[de308be4a2431766a05a907a031c07fc]\n",
       "reverse link E10 to E11--><a href=\"psysml:75c081c5-05e2-401c-b103-d900689a3a49\" target=\"_top\" title=\"psysml:75c081c5-05e2-401c-b103-d900689a3a49\" xlink:actuate=\"onRequest\" xlink:href=\"psysml:75c081c5-05e2-401c-b103-d900689a3a49\" xlink:show=\"new\" xlink:title=\"psysml:75c081c5-05e2-401c-b103-d900689a3a49\" xlink:type=\"simple\"><path d=\"M194.17,164.01 C218.95,160.86 245.73,157.47 269.7,154.43 \" fill=\"none\" id=\"E10&lt;-E11\" style=\"stroke: #383838; stroke-width: 1.0;\"/><polygon fill=\"#383838\" points=\"181.03,165.67,187.4838,168.887,192.9355,164.167,186.4817,160.95,181.03,165.67\" style=\"stroke: #383838; stroke-width: 1.0;\"/></a><!--MD5=[1d54f998c6d5961a1a9184be73a7eb6c]\n",
       "reverse link E10 to E12--><a href=\"psysml:54130436-8b1f-4706-a610-d99b2d4cb5d4\" target=\"_top\" title=\"psysml:54130436-8b1f-4706-a610-d99b2d4cb5d4\" xlink:actuate=\"onRequest\" xlink:href=\"psysml:54130436-8b1f-4706-a610-d99b2d4cb5d4\" xlink:show=\"new\" xlink:title=\"psysml:54130436-8b1f-4706-a610-d99b2d4cb5d4\" xlink:type=\"simple\"><path d=\"M159.31,145.61 C183.75,132.22 213.52,116.59 241,104 C253.82,98.13 267.77,92.33 281.14,87.05 \" fill=\"none\" id=\"E10&lt;-E12\" style=\"stroke: #383838; stroke-width: 1.0;\"/><polygon fill=\"#383838\" points=\"147.77,151.98,154.9559,152.5819,158.2754,146.1803,151.0895,145.5783,147.77,151.98\" style=\"stroke: #383838; stroke-width: 1.0;\"/></a><!--MD5=[4a48077df6499cfcd20b62e8f5f37904]\n",
       "link E13 to E7--><a href=\"psysml:85f16706-e1b7-404d-9ee5-57d420bfb7f2\" target=\"_top\" title=\"psysml:85f16706-e1b7-404d-9ee5-57d420bfb7f2\" xlink:actuate=\"onRequest\" xlink:href=\"psysml:85f16706-e1b7-404d-9ee5-57d420bfb7f2\" xlink:show=\"new\" xlink:title=\"psysml:85f16706-e1b7-404d-9ee5-57d420bfb7f2\" xlink:type=\"simple\"><path d=\"M690.86,401.92 C701.52,396.92 711.93,390.98 721,384 C778.07,340.05 823.11,268.25 847.75,223.14 \" fill=\"none\" id=\"E13-&gt;E7\" style=\"stroke: #383838; stroke-width: 1.0;\"/><polygon fill=\"#FFFFFF\" points=\"857.18,205.32,854.4752,225.387,842.1026,218.8356,857.18,205.32\" style=\"stroke: #383838; stroke-width: 1.0;\"/><ellipse cx=\"850.0403\" cy=\"229.4885\" fill=\"#383838\" rx=\"2\" ry=\"2\" style=\"stroke: #383838; stroke-width: 1.0;\"/><ellipse cx=\"841.2028\" cy=\"224.8089\" fill=\"#383838\" rx=\"2\" ry=\"2\" style=\"stroke: #383838; stroke-width: 1.0;\"/></a><!--MD5=[4990d97433c492509d85ab7c90ad4dc9]\n",
       "@startuml\r\n",
       "left to right direction\r\n",
       "skinparam monochrome true\r\n",
       "skinparam classbackgroundcolor white\r\n",
       "skinparam shadowing false\r\n",
       "skinparam wrapWidth 300\r\n",
       "hide circle\r\n",
       "\r\n",
       "package \"OccurrenceTest\" as E1  [[psysml:53f1d42d-2686-4f4b-950f-b84b40bc19b2 ]]  {\r\n",
       "comp def \"Occ\" as E2  <<(T,blue) occurrence  def>> [[psysml:77ba500d-77fd-484e-b411-8833010da35e ]] {\r\n",
       "- - attributes - -\r\n",
       "a\r\n",
       "}\r\n",
       "comp usage \"occ1: Occ \" as E3  <<(T,blue) occurrence>> [[psysml:37011562-c12e-4ce2-bbf9-af5619a300f0 ]] {\r\n",
       "}\r\n",
       "comp usage \"occ2: Occ \" as E4  <<(T,blue) occurrence>> [[psysml:3522e0a2-d0dd-4c95-916a-e9f89fbadd86 ]] {\r\n",
       "}\r\n",
       "comp usage \"s: Ind \" as E5  <<(T,blue) individual snapshot occurrence>> [[psysml:2ba1b44f-ac88-49ba-a1da-8edc5df2da3a ]] {\r\n",
       "}\r\n",
       "comp usage \"t \" as E6  <<(T,blue) timeslice occurrence>> [[psysml:aefaf76d-f241-48e8-80ea-b99598299972 ]] {\r\n",
       "}\r\n",
       "comp def \"Ind\" as E7  <<(T,blue) individual occurrence  def>> [[psysml:991e81ed-291b-4563-955c-44288cc9fc81 ]] {\r\n",
       "}\r\n",
       "comp usage \"s2 \" as E8  <<(T,blue) snapshot occurrence>> [[psysml:fb7dbc0d-a670-4e6d-a2b6-24a9a70c023a ]] {\r\n",
       "}\r\n",
       "comp usage \"t2 \" as E9  <<(T,blue) timeslice occurrence>> [[psysml:ae0fd4ea-8dc7-4cb0-a32c-5615a8f756eb ]] {\r\n",
       "}\r\n",
       "comp usage \"ind: Ind, Occ \" as E10  <<(T,blue) individual occurrence>> [[psysml:90168d9a-6358-4939-88d7-8ec9974b52c6 ]] {\r\n",
       "}\r\n",
       "comp usage \"s3 \" as E11  <<(T,blue) snapshot occurrence>> [[psysml:d0eba55f-a402-4b22-88ba-9857d6bd50ac ]] {\r\n",
       "}\r\n",
       "comp usage \"t3 \" as E12  <<(T,blue) individual timeslice occurrence>> [[psysml:0232df4f-93e4-4add-8902-f942e03a0634 ]] {\r\n",
       "}\r\n",
       "comp usage \"s4: Ind \" as E13  <<(T,blue) individual snapshot occurrence>> [[psysml:5cbde71f-e2d0-40cd-91ed-92f5bc776eb7 ]] {\r\n",
       "}\r\n",
       "}\r\n",
       "E2 o- - E3 [[psysml:111e77a4-44f2-45ac-862d-a1e02a1cad26 ]] \r\n",
       "E3 - -:|> E2 [[psysml:0f45e557-8f0e-4df9-b1d8-28bd2526f5a3 ]] \r\n",
       "E2 *- - E4 [[psysml:7f5381ff-79d6-4175-8599-1b084d5a38fb ]] \r\n",
       "E4 - -:|> E2 [[psysml:9af83ecd-fc65-4272-8374-c2ac75a0337a ]] \r\n",
       "E2 *- - E5 [[psysml:648e9e41-ac7c-450e-af70-439d81f3f540 ]] \r\n",
       "E2 *- - E6 [[psysml:00b8b9a4-593e-406d-b505-212ff2a7c9c1 ]] \r\n",
       "E5 - -:|> E7 [[psysml:088b8ee7-f1bc-4574-b816-43bcf4f14b77 ]] \r\n",
       "E7 *- - E8 [[psysml:c8813ef9-ffa9-4c9d-80a4-dd20f6c80ea5 ]] \r\n",
       "E7 *- - E9 [[psysml:cdca8d7c-6aa5-4fff-9e0e-900e3ba85343 ]] \r\n",
       "E10 - -:|> E7 [[psysml:43f26010-ca40-42d6-8df0-e4847d82fc63 ]] \r\n",
       "E10 - -:|> E2 [[psysml:ac89f7fb-b091-4bc7-aaea-6377fc157ffe ]] \r\n",
       "E10 *- - E11 [[psysml:75c081c5-05e2-401c-b103-d900689a3a49 ]] \r\n",
       "E10 *- - E12 [[psysml:54130436-8b1f-4706-a610-d99b2d4cb5d4 ]] \r\n",
       "E13 - -:|> E7 [[psysml:85f16706-e1b7-404d-9ee5-57d420bfb7f2 ]] \r\n",
       "@enduml\r\n",
       "\n",
       "PlantUML version 1.2020.13(Sat Jun 13 12:26:38 UTC 2020)\n",
       "(EPL source distribution)\n",
       "Java Runtime: OpenJDK Runtime Environment\n",
       "JVM: OpenJDK 64-Bit Server VM\n",
       "Default Encoding: UTF-8\n",
       "Language: en\n",
       "Country: null\n",
       "--></g></svg>"
      ]
     },
     "execution_count": 16,
     "metadata": {},
     "output_type": "execute_result"
    }
   ],
   "source": [
    "%viz --style=\"LR\" --view=\"Default\" \"OccurrenceTest\""
   ]
  },
  {
   "cell_type": "code",
   "execution_count": 17,
   "id": "21e96f94",
   "metadata": {
    "execution": {
     "iopub.execute_input": "2022-07-23T10:52:31.680296Z",
     "iopub.status.busy": "2022-07-23T10:52:31.679806Z",
     "iopub.status.idle": "2022-07-23T10:52:31.753481Z",
     "shell.execute_reply": "2022-07-23T10:52:31.753075Z"
    }
   },
   "outputs": [
    {
     "data": {
      "image/svg+xml": [
       "<?xml version=\"1.0\" encoding=\"UTF-8\" standalone=\"no\"?><svg xmlns=\"http://www.w3.org/2000/svg\" xmlns:xlink=\"http://www.w3.org/1999/xlink\" contentScriptType=\"application/ecmascript\" contentStyleType=\"text/css\" height=\"476px\" preserveAspectRatio=\"none\" style=\"width:1206px;height:476px;\" version=\"1.1\" viewBox=\"0 0 1206 476\" width=\"1206px\" zoomAndPan=\"magnify\"><defs/><g><!--MD5=[fbc87193dbaf4d95561dea2c320d4a47]\n",
       "cluster E1--><a href=\"psysml:53f1d42d-2686-4f4b-950f-b84b40bc19b2\" target=\"_top\" title=\"psysml:53f1d42d-2686-4f4b-950f-b84b40bc19b2\" xlink:actuate=\"onRequest\" xlink:href=\"psysml:53f1d42d-2686-4f4b-950f-b84b40bc19b2\" xlink:show=\"new\" xlink:title=\"psysml:53f1d42d-2686-4f4b-950f-b84b40bc19b2\" xlink:type=\"simple\"><polygon fill=\"#FFFFFF\" points=\"16,6,134,6,141,28.2969,1184,28.2969,1184,464,16,464,16,6\" style=\"stroke: #000000; stroke-width: 1.5;\"/><line style=\"stroke: #000000; stroke-width: 1.5;\" x1=\"16\" x2=\"141\" y1=\"28.2969\" y2=\"28.2969\"/><text fill=\"#000000\" font-family=\"sans-serif\" font-size=\"14\" font-weight=\"bold\" lengthAdjust=\"spacingAndGlyphs\" textLength=\"112\" x=\"20\" y=\"20.9951\">OccurrenceTest</text></a><!--MD5=[b4997ac47864f28c2f74865a473b2911]\n",
       "class E2--><a href=\"psysml:77ba500d-77fd-484e-b411-8833010da35e\" target=\"_top\" title=\"psysml:77ba500d-77fd-484e-b411-8833010da35e\" xlink:actuate=\"onRequest\" xlink:href=\"psysml:77ba500d-77fd-484e-b411-8833010da35e\" xlink:show=\"new\" xlink:title=\"psysml:77ba500d-77fd-484e-b411-8833010da35e\" xlink:type=\"simple\"><rect fill=\"#FFFFFF\" height=\"75.5469\" id=\"E2\" style=\"stroke: #383838; stroke-width: 1.5;\" width=\"115\" x=\"287.5\" y=\"240\"/><text fill=\"#000000\" font-family=\"sans-serif\" font-size=\"12\" font-style=\"italic\" lengthAdjust=\"spacingAndGlyphs\" textLength=\"113\" x=\"288.5\" y=\"256.1387\">«occurrence  def»</text><text fill=\"#000000\" font-family=\"sans-serif\" font-size=\"12\" lengthAdjust=\"spacingAndGlyphs\" textLength=\"23\" x=\"333.5\" y=\"270.1074\">Occ</text><line style=\"stroke: #383838; stroke-width: 1.5;\" x1=\"288.5\" x2=\"401.5\" y1=\"277.9375\" y2=\"277.9375\"/><text fill=\"#000000\" font-family=\"sans-serif\" font-size=\"11\" lengthAdjust=\"spacingAndGlyphs\" textLength=\"7\" x=\"293.5\" y=\"308.9526\">a</text><line style=\"stroke: #383838; stroke-width: 1.0;\" x1=\"288.5\" x2=\"317.5\" y1=\"292.3398\" y2=\"292.3398\"/><text fill=\"#000000\" font-family=\"sans-serif\" font-size=\"11\" lengthAdjust=\"spacingAndGlyphs\" textLength=\"55\" x=\"317.5\" y=\"295.6479\">attributes</text><line style=\"stroke: #383838; stroke-width: 1.0;\" x1=\"372.5\" x2=\"401.5\" y1=\"292.3398\" y2=\"292.3398\"/></a><!--MD5=[09b614a08d8cba4a07c9adeb5e0fee81]\n",
       "class E3--><a href=\"psysml:37011562-c12e-4ce2-bbf9-af5619a300f0\" target=\"_top\" title=\"psysml:37011562-c12e-4ce2-bbf9-af5619a300f0\" xlink:actuate=\"onRequest\" xlink:href=\"psysml:37011562-c12e-4ce2-bbf9-af5619a300f0\" xlink:show=\"new\" xlink:title=\"psysml:37011562-c12e-4ce2-bbf9-af5619a300f0\" xlink:type=\"simple\"><rect fill=\"#FFFFFF\" height=\"45.9375\" id=\"E3\" rx=\"10\" ry=\"10\" style=\"stroke: #383838; stroke-width: 1.5;\" width=\"87\" x=\"571.5\" y=\"321\"/><text fill=\"#000000\" font-family=\"sans-serif\" font-size=\"12\" font-style=\"italic\" lengthAdjust=\"spacingAndGlyphs\" textLength=\"85\" x=\"572.5\" y=\"337.1387\">«occurrence»</text><text fill=\"#000000\" font-family=\"sans-serif\" font-size=\"12\" lengthAdjust=\"spacingAndGlyphs\" textLength=\"61\" x=\"582.5\" y=\"351.1074\">occ1: Occ</text><line style=\"stroke: #383838; stroke-width: 1.5;\" x1=\"572.5\" x2=\"657.5\" y1=\"358.9375\" y2=\"358.9375\"/></a><!--MD5=[ebbe1d658d1005bcc118a6aa81145e00]\n",
       "class E4--><a href=\"psysml:3522e0a2-d0dd-4c95-916a-e9f89fbadd86\" target=\"_top\" title=\"psysml:3522e0a2-d0dd-4c95-916a-e9f89fbadd86\" xlink:actuate=\"onRequest\" xlink:href=\"psysml:3522e0a2-d0dd-4c95-916a-e9f89fbadd86\" xlink:show=\"new\" xlink:title=\"psysml:3522e0a2-d0dd-4c95-916a-e9f89fbadd86\" xlink:type=\"simple\"><rect fill=\"#FFFFFF\" height=\"45.9375\" id=\"E4\" rx=\"10\" ry=\"10\" style=\"stroke: #383838; stroke-width: 1.5;\" width=\"87\" x=\"571.5\" y=\"240\"/><text fill=\"#000000\" font-family=\"sans-serif\" font-size=\"12\" font-style=\"italic\" lengthAdjust=\"spacingAndGlyphs\" textLength=\"85\" x=\"572.5\" y=\"256.1387\">«occurrence»</text><text fill=\"#000000\" font-family=\"sans-serif\" font-size=\"12\" lengthAdjust=\"spacingAndGlyphs\" textLength=\"61\" x=\"582.5\" y=\"270.1074\">occ2: Occ</text><line style=\"stroke: #383838; stroke-width: 1.5;\" x1=\"572.5\" x2=\"657.5\" y1=\"277.9375\" y2=\"277.9375\"/></a><!--MD5=[270fce915f116d4de14055a7c1d9a0f3]\n",
       "class E5--><a href=\"psysml:2ba1b44f-ac88-49ba-a1da-8edc5df2da3a\" target=\"_top\" title=\"psysml:2ba1b44f-ac88-49ba-a1da-8edc5df2da3a\" xlink:actuate=\"onRequest\" xlink:href=\"psysml:2ba1b44f-ac88-49ba-a1da-8edc5df2da3a\" xlink:show=\"new\" xlink:title=\"psysml:2ba1b44f-ac88-49ba-a1da-8edc5df2da3a\" xlink:type=\"simple\"><rect fill=\"#FFFFFF\" height=\"45.9375\" id=\"E5\" rx=\"10\" ry=\"10\" style=\"stroke: #383838; stroke-width: 1.5;\" width=\"212\" x=\"509\" y=\"159\"/><text fill=\"#000000\" font-family=\"sans-serif\" font-size=\"12\" font-style=\"italic\" lengthAdjust=\"spacingAndGlyphs\" textLength=\"210\" x=\"510\" y=\"175.1387\">«individual snapshot occurrence»</text><text fill=\"#000000\" font-family=\"sans-serif\" font-size=\"12\" lengthAdjust=\"spacingAndGlyphs\" textLength=\"34\" x=\"596\" y=\"189.1074\">s: Ind</text><line style=\"stroke: #383838; stroke-width: 1.5;\" x1=\"510\" x2=\"720\" y1=\"196.9375\" y2=\"196.9375\"/></a><!--MD5=[60a26617385b1d2d0262a64233df1f8d]\n",
       "class E6--><a href=\"psysml:aefaf76d-f241-48e8-80ea-b99598299972\" target=\"_top\" title=\"psysml:aefaf76d-f241-48e8-80ea-b99598299972\" xlink:actuate=\"onRequest\" xlink:href=\"psysml:aefaf76d-f241-48e8-80ea-b99598299972\" xlink:show=\"new\" xlink:title=\"psysml:aefaf76d-f241-48e8-80ea-b99598299972\" xlink:type=\"simple\"><rect fill=\"#FFFFFF\" height=\"45.9375\" id=\"E6\" rx=\"10\" ry=\"10\" style=\"stroke: #383838; stroke-width: 1.5;\" width=\"146\" x=\"542\" y=\"78\"/><text fill=\"#000000\" font-family=\"sans-serif\" font-size=\"12\" font-style=\"italic\" lengthAdjust=\"spacingAndGlyphs\" textLength=\"144\" x=\"543\" y=\"94.1387\">«timeslice occurrence»</text><text fill=\"#000000\" font-family=\"sans-serif\" font-size=\"12\" lengthAdjust=\"spacingAndGlyphs\" textLength=\"5\" x=\"610.5\" y=\"108.1074\">t</text><line style=\"stroke: #383838; stroke-width: 1.5;\" x1=\"543\" x2=\"687\" y1=\"115.9375\" y2=\"115.9375\"/></a><!--MD5=[2156ba9850f5573cc1fc38a6a4b2f02b]\n",
       "class E7--><a href=\"psysml:991e81ed-291b-4563-955c-44288cc9fc81\" target=\"_top\" title=\"psysml:991e81ed-291b-4563-955c-44288cc9fc81\" xlink:actuate=\"onRequest\" xlink:href=\"psysml:991e81ed-291b-4563-955c-44288cc9fc81\" xlink:show=\"new\" xlink:title=\"psysml:991e81ed-291b-4563-955c-44288cc9fc81\" xlink:type=\"simple\"><rect fill=\"#FFFFFF\" height=\"45.9375\" id=\"E7\" style=\"stroke: #383838; stroke-width: 1.5;\" width=\"177\" x=\"781\" y=\"159\"/><text fill=\"#000000\" font-family=\"sans-serif\" font-size=\"12\" font-style=\"italic\" lengthAdjust=\"spacingAndGlyphs\" textLength=\"175\" x=\"782\" y=\"175.1387\">«individual occurrence  def»</text><text fill=\"#000000\" font-family=\"sans-serif\" font-size=\"12\" lengthAdjust=\"spacingAndGlyphs\" textLength=\"19\" x=\"860\" y=\"189.1074\">Ind</text><line style=\"stroke: #383838; stroke-width: 1.5;\" x1=\"782\" x2=\"957\" y1=\"196.9375\" y2=\"196.9375\"/></a><!--MD5=[b9389687b975829384b498ac4b7476b2]\n",
       "class E8--><a href=\"psysml:fb7dbc0d-a670-4e6d-a2b6-24a9a70c023a\" target=\"_top\" title=\"psysml:fb7dbc0d-a670-4e6d-a2b6-24a9a70c023a\" xlink:actuate=\"onRequest\" xlink:href=\"psysml:fb7dbc0d-a670-4e6d-a2b6-24a9a70c023a\" xlink:show=\"new\" xlink:title=\"psysml:fb7dbc0d-a670-4e6d-a2b6-24a9a70c023a\" xlink:type=\"simple\"><rect fill=\"#FFFFFF\" height=\"45.9375\" id=\"E8\" rx=\"10\" ry=\"10\" style=\"stroke: #383838; stroke-width: 1.5;\" width=\"150\" x=\"1018\" y=\"199\"/><text fill=\"#000000\" font-family=\"sans-serif\" font-size=\"12\" font-style=\"italic\" lengthAdjust=\"spacingAndGlyphs\" textLength=\"148\" x=\"1019\" y=\"215.1387\">«snapshot occurrence»</text><text fill=\"#000000\" font-family=\"sans-serif\" font-size=\"12\" lengthAdjust=\"spacingAndGlyphs\" textLength=\"15\" x=\"1083.5\" y=\"229.1074\">s2</text><line style=\"stroke: #383838; stroke-width: 1.5;\" x1=\"1019\" x2=\"1167\" y1=\"236.9375\" y2=\"236.9375\"/></a><!--MD5=[fd4143e9d270a159db93a4ea2a975926]\n",
       "class E9--><a href=\"psysml:ae0fd4ea-8dc7-4cb0-a32c-5615a8f756eb\" target=\"_top\" title=\"psysml:ae0fd4ea-8dc7-4cb0-a32c-5615a8f756eb\" xlink:actuate=\"onRequest\" xlink:href=\"psysml:ae0fd4ea-8dc7-4cb0-a32c-5615a8f756eb\" xlink:show=\"new\" xlink:title=\"psysml:ae0fd4ea-8dc7-4cb0-a32c-5615a8f756eb\" xlink:type=\"simple\"><rect fill=\"#FFFFFF\" height=\"45.9375\" id=\"E9\" rx=\"10\" ry=\"10\" style=\"stroke: #383838; stroke-width: 1.5;\" width=\"146\" x=\"1020\" y=\"118\"/><text fill=\"#000000\" font-family=\"sans-serif\" font-size=\"12\" font-style=\"italic\" lengthAdjust=\"spacingAndGlyphs\" textLength=\"144\" x=\"1021\" y=\"134.1387\">«timeslice occurrence»</text><text fill=\"#000000\" font-family=\"sans-serif\" font-size=\"12\" lengthAdjust=\"spacingAndGlyphs\" textLength=\"13\" x=\"1084.5\" y=\"148.1074\">t2</text><line style=\"stroke: #383838; stroke-width: 1.5;\" x1=\"1021\" x2=\"1165\" y1=\"155.9375\" y2=\"155.9375\"/></a><!--MD5=[96f4274e9e20536e775497830990834d]\n",
       "class E10--><a href=\"psysml:90168d9a-6358-4939-88d7-8ec9974b52c6\" target=\"_top\" title=\"psysml:90168d9a-6358-4939-88d7-8ec9974b52c6\" xlink:actuate=\"onRequest\" xlink:href=\"psysml:90168d9a-6358-4939-88d7-8ec9974b52c6\" xlink:show=\"new\" xlink:title=\"psysml:90168d9a-6358-4939-88d7-8ec9974b52c6\" xlink:type=\"simple\"><rect fill=\"#FFFFFF\" height=\"45.9375\" id=\"E10\" rx=\"10\" ry=\"10\" style=\"stroke: #383838; stroke-width: 1.5;\" width=\"149\" x=\"32\" y=\"152\"/><text fill=\"#000000\" font-family=\"sans-serif\" font-size=\"12\" font-style=\"italic\" lengthAdjust=\"spacingAndGlyphs\" textLength=\"147\" x=\"33\" y=\"168.1387\">«individual occurrence»</text><text fill=\"#000000\" font-family=\"sans-serif\" font-size=\"12\" lengthAdjust=\"spacingAndGlyphs\" textLength=\"77\" x=\"66\" y=\"182.1074\">ind: Ind, Occ</text><line style=\"stroke: #383838; stroke-width: 1.5;\" x1=\"33\" x2=\"180\" y1=\"189.9375\" y2=\"189.9375\"/></a><!--MD5=[1dd1bfd58a279cf63c5f349dbc8fc6a1]\n",
       "class E11--><a href=\"psysml:d0eba55f-a402-4b22-88ba-9857d6bd50ac\" target=\"_top\" title=\"psysml:d0eba55f-a402-4b22-88ba-9857d6bd50ac\" xlink:actuate=\"onRequest\" xlink:href=\"psysml:d0eba55f-a402-4b22-88ba-9857d6bd50ac\" xlink:show=\"new\" xlink:title=\"psysml:d0eba55f-a402-4b22-88ba-9857d6bd50ac\" xlink:type=\"simple\"><rect fill=\"#FFFFFF\" height=\"45.9375\" id=\"E11\" rx=\"10\" ry=\"10\" style=\"stroke: #383838; stroke-width: 1.5;\" width=\"150\" x=\"270\" y=\"122\"/><text fill=\"#000000\" font-family=\"sans-serif\" font-size=\"12\" font-style=\"italic\" lengthAdjust=\"spacingAndGlyphs\" textLength=\"148\" x=\"271\" y=\"138.1387\">«snapshot occurrence»</text><text fill=\"#000000\" font-family=\"sans-serif\" font-size=\"12\" lengthAdjust=\"spacingAndGlyphs\" textLength=\"15\" x=\"335.5\" y=\"152.1074\">s3</text><line style=\"stroke: #383838; stroke-width: 1.5;\" x1=\"271\" x2=\"419\" y1=\"159.9375\" y2=\"159.9375\"/></a><!--MD5=[49a0ec8f00dab7302a31f22d0f0fe584]\n",
       "class E12--><a href=\"psysml:0232df4f-93e4-4add-8902-f942e03a0634\" target=\"_top\" title=\"psysml:0232df4f-93e4-4add-8902-f942e03a0634\" xlink:actuate=\"onRequest\" xlink:href=\"psysml:0232df4f-93e4-4add-8902-f942e03a0634\" xlink:show=\"new\" xlink:title=\"psysml:0232df4f-93e4-4add-8902-f942e03a0634\" xlink:type=\"simple\"><rect fill=\"#FFFFFF\" height=\"45.9375\" id=\"E12\" rx=\"10\" ry=\"10\" style=\"stroke: #383838; stroke-width: 1.5;\" width=\"208\" x=\"241\" y=\"41\"/><text fill=\"#000000\" font-family=\"sans-serif\" font-size=\"12\" font-style=\"italic\" lengthAdjust=\"spacingAndGlyphs\" textLength=\"206\" x=\"242\" y=\"57.1387\">«individual timeslice occurrence»</text><text fill=\"#000000\" font-family=\"sans-serif\" font-size=\"12\" lengthAdjust=\"spacingAndGlyphs\" textLength=\"13\" x=\"336.5\" y=\"71.1074\">t3</text><line style=\"stroke: #383838; stroke-width: 1.5;\" x1=\"242\" x2=\"448\" y1=\"78.9375\" y2=\"78.9375\"/></a><!--MD5=[ee3c913d1a06f366521f9ef512b67efe]\n",
       "class E13--><a href=\"psysml:5cbde71f-e2d0-40cd-91ed-92f5bc776eb7\" target=\"_top\" title=\"psysml:5cbde71f-e2d0-40cd-91ed-92f5bc776eb7\" xlink:actuate=\"onRequest\" xlink:href=\"psysml:5cbde71f-e2d0-40cd-91ed-92f5bc776eb7\" xlink:show=\"new\" xlink:title=\"psysml:5cbde71f-e2d0-40cd-91ed-92f5bc776eb7\" xlink:type=\"simple\"><rect fill=\"#FFFFFF\" height=\"45.9375\" id=\"E13\" rx=\"10\" ry=\"10\" style=\"stroke: #383838; stroke-width: 1.5;\" width=\"212\" x=\"509\" y=\"402\"/><text fill=\"#000000\" font-family=\"sans-serif\" font-size=\"12\" font-style=\"italic\" lengthAdjust=\"spacingAndGlyphs\" textLength=\"210\" x=\"510\" y=\"418.1387\">«individual snapshot occurrence»</text><text fill=\"#000000\" font-family=\"sans-serif\" font-size=\"12\" lengthAdjust=\"spacingAndGlyphs\" textLength=\"42\" x=\"592\" y=\"432.1074\">s4: Ind</text><line style=\"stroke: #383838; stroke-width: 1.5;\" x1=\"510\" x2=\"720\" y1=\"439.9375\" y2=\"439.9375\"/></a><!--MD5=[209b3feb70ccb6233bfe1053d122c12c]\n",
       "reverse link E2 to E3--><a href=\"psysml:111e77a4-44f2-45ac-862d-a1e02a1cad26\" target=\"_top\" title=\"psysml:111e77a4-44f2-45ac-862d-a1e02a1cad26\" xlink:actuate=\"onRequest\" xlink:href=\"psysml:111e77a4-44f2-45ac-862d-a1e02a1cad26\" xlink:show=\"new\" xlink:title=\"psysml:111e77a4-44f2-45ac-862d-a1e02a1cad26\" xlink:type=\"simple\"><path d=\"M415.01,306.31 C464.34,320.82 529.17,336.23 571.21,343.1 \" fill=\"none\" id=\"E2&lt;-E3\" style=\"stroke: #383838; stroke-width: 1.0;\"/><polygon fill=\"#FFFFFF\" points=\"402.51,302.54,407.0994,308.1022,413.9988,306.0051,409.4094,300.4429,402.51,302.54\" style=\"stroke: #383838; stroke-width: 1.0;\"/></a><!--MD5=[05d275557350bfb9b23a4ef7222b4c39]\n",
       "link E3 to E2--><a href=\"psysml:0f45e557-8f0e-4df9-b1d8-28bd2526f5a3\" target=\"_top\" title=\"psysml:0f45e557-8f0e-4df9-b1d8-28bd2526f5a3\" xlink:actuate=\"onRequest\" xlink:href=\"psysml:0f45e557-8f0e-4df9-b1d8-28bd2526f5a3\" xlink:show=\"new\" xlink:title=\"psysml:0f45e557-8f0e-4df9-b1d8-28bd2526f5a3\" xlink:type=\"simple\"><path d=\"M571.21,323.25 C531.22,309.9 470.62,294.27 422.34,284.48 \" fill=\"none\" id=\"E3-&gt;E2\" style=\"stroke: #383838; stroke-width: 1.0;\"/><polygon fill=\"#FFFFFF\" points=\"402.51,280.67,422.4891,277.3781,419.8493,291.127,402.51,280.67\" style=\"stroke: #383838; stroke-width: 1.0;\"/><ellipse cx=\"427.7097\" cy=\"280.417\" fill=\"#383838\" rx=\"2\" ry=\"2\" style=\"stroke: #383838; stroke-width: 1.0;\"/><ellipse cx=\"425.8242\" cy=\"290.2376\" fill=\"#383838\" rx=\"2\" ry=\"2\" style=\"stroke: #383838; stroke-width: 1.0;\"/></a><!--MD5=[9618e71518536f8baf3342ff6fdab317]\n",
       "reverse link E2 to E4--><a href=\"psysml:7f5381ff-79d6-4175-8599-1b084d5a38fb\" target=\"_top\" title=\"psysml:7f5381ff-79d6-4175-8599-1b084d5a38fb\" xlink:actuate=\"onRequest\" xlink:href=\"psysml:7f5381ff-79d6-4175-8599-1b084d5a38fb\" xlink:show=\"new\" xlink:title=\"psysml:7f5381ff-79d6-4175-8599-1b084d5a38fb\" xlink:type=\"simple\"><path d=\"M415.64,285.44 C464.89,285.02 529.35,280.85 571.21,275.03 \" fill=\"none\" id=\"E2&lt;-E4\" style=\"stroke: #383838; stroke-width: 1.0;\"/><polygon fill=\"#383838\" points=\"402.51,285.46,408.5188,289.4468,414.51,285.4336,408.5012,281.4468,402.51,285.46\" style=\"stroke: #383838; stroke-width: 1.0;\"/></a><!--MD5=[185131fc0dcab0a4505a2ebe144e961b]\n",
       "link E4 to E2--><a href=\"psysml:9af83ecd-fc65-4272-8374-c2ac75a0337a\" target=\"_top\" title=\"psysml:9af83ecd-fc65-4272-8374-c2ac75a0337a\" xlink:actuate=\"onRequest\" xlink:href=\"psysml:9af83ecd-fc65-4272-8374-c2ac75a0337a\" xlink:show=\"new\" xlink:title=\"psysml:9af83ecd-fc65-4272-8374-c2ac75a0337a\" xlink:type=\"simple\"><path d=\"M571.21,255.19 C531.31,253.92 470.89,256.59 422.67,261.37 \" fill=\"none\" id=\"E4-&gt;E2\" style=\"stroke: #383838; stroke-width: 1.0;\"/><polygon fill=\"#FFFFFF\" points=\"402.51,263.59,420.6308,254.5546,422.1614,268.4707,402.51,263.59\" style=\"stroke: #383838; stroke-width: 1.0;\"/><ellipse cx=\"426.5153\" cy=\"255.9194\" fill=\"#383838\" rx=\"2\" ry=\"2\" style=\"stroke: #383838; stroke-width: 1.0;\"/><ellipse cx=\"427.6086\" cy=\"265.8595\" fill=\"#383838\" rx=\"2\" ry=\"2\" style=\"stroke: #383838; stroke-width: 1.0;\"/></a><!--MD5=[4e1a83fab71cdb913c109063314ae896]\n",
       "reverse link E2 to E5--><a href=\"psysml:648e9e41-ac7c-450e-af70-439d81f3f540\" target=\"_top\" title=\"psysml:648e9e41-ac7c-450e-af70-439d81f3f540\" xlink:actuate=\"onRequest\" xlink:href=\"psysml:648e9e41-ac7c-450e-af70-439d81f3f540\" xlink:show=\"new\" xlink:title=\"psysml:648e9e41-ac7c-450e-af70-439d81f3f540\" xlink:type=\"simple\"><path d=\"M415,253.28 C456.49,238.42 508.93,219.64 549.57,205.08 \" fill=\"none\" id=\"E2&lt;-E5\" style=\"stroke: #383838; stroke-width: 1.0;\"/><polygon fill=\"#383838\" points=\"402.51,257.76,409.5075,259.5022,413.807,253.7131,406.8095,251.9709,402.51,257.76\" style=\"stroke: #383838; stroke-width: 1.0;\"/></a><!--MD5=[ce036f65110ae2351ccce5a81dc2e928]\n",
       "reverse link E2 to E6--><a href=\"psysml:00b8b9a4-593e-406d-b505-212ff2a7c9c1\" target=\"_top\" title=\"psysml:00b8b9a4-593e-406d-b505-212ff2a7c9c1\" xlink:actuate=\"onRequest\" xlink:href=\"psysml:00b8b9a4-593e-406d-b505-212ff2a7c9c1\" xlink:show=\"new\" xlink:title=\"psysml:00b8b9a4-593e-406d-b505-212ff2a7c9c1\" xlink:type=\"simple\"><path d=\"M413.69,239.57 C425.94,231.44 438.22,222.44 449,213 C480.33,185.55 475.1,165.2 509,141 C518.92,133.92 530.26,127.91 541.73,122.87 \" fill=\"none\" id=\"E2&lt;-E6\" style=\"stroke: #383838; stroke-width: 1.0;\"/><polygon fill=\"#383838\" points=\"402.51,246.77,409.7202,246.8821,412.5969,240.2696,405.3866,240.1575,402.51,246.77\" style=\"stroke: #383838; stroke-width: 1.0;\"/></a><!--MD5=[3a9b96bfbf6b6ad89c494e81751bda47]\n",
       "link E5 to E7--><a href=\"psysml:088b8ee7-f1bc-4574-b816-43bcf4f14b77\" target=\"_top\" title=\"psysml:088b8ee7-f1bc-4574-b816-43bcf4f14b77\" xlink:actuate=\"onRequest\" xlink:href=\"psysml:088b8ee7-f1bc-4574-b816-43bcf4f14b77\" xlink:show=\"new\" xlink:title=\"psysml:088b8ee7-f1bc-4574-b816-43bcf4f14b77\" xlink:type=\"simple\"><path d=\"M721.25,182 C734.22,182 747.49,182 760.49,182 \" fill=\"none\" id=\"E5-&gt;E7\" style=\"stroke: #383838; stroke-width: 1.0;\"/><polygon fill=\"#FFFFFF\" points=\"780.63,182,761.63,189,761.63,175,780.63,182\" style=\"stroke: #383838; stroke-width: 1.0;\"/><ellipse cx=\"755.93\" cy=\"187\" fill=\"#383838\" rx=\"2\" ry=\"2\" style=\"stroke: #383838; stroke-width: 1.0;\"/><ellipse cx=\"755.93\" cy=\"177\" fill=\"#383838\" rx=\"2\" ry=\"2\" style=\"stroke: #383838; stroke-width: 1.0;\"/></a><!--MD5=[dc164f5e8a733ab456ef1add180e9e34]\n",
       "reverse link E7 to E8--><a href=\"psysml:c8813ef9-ffa9-4c9d-80a4-dd20f6c80ea5\" target=\"_top\" title=\"psysml:c8813ef9-ffa9-4c9d-80a4-dd20f6c80ea5\" xlink:actuate=\"onRequest\" xlink:href=\"psysml:c8813ef9-ffa9-4c9d-80a4-dd20f6c80ea5\" xlink:show=\"new\" xlink:title=\"psysml:c8813ef9-ffa9-4c9d-80a4-dd20f6c80ea5\" xlink:type=\"simple\"><path d=\"M971.18,200.18 C986.93,203.02 1002.95,205.92 1017.96,208.63 \" fill=\"none\" id=\"E7&lt;-E8\" style=\"stroke: #383838; stroke-width: 1.0;\"/><polygon fill=\"#383838\" points=\"958.04,197.81,963.238,202.8081,969.8508,199.9323,964.6528,194.9342,958.04,197.81\" style=\"stroke: #383838; stroke-width: 1.0;\"/></a><!--MD5=[e4a10ef82d0e328e31cac39a31e58dda]\n",
       "reverse link E7 to E9--><a href=\"psysml:cdca8d7c-6aa5-4fff-9e0e-900e3ba85343\" target=\"_top\" title=\"psysml:cdca8d7c-6aa5-4fff-9e0e-900e3ba85343\" xlink:actuate=\"onRequest\" xlink:href=\"psysml:cdca8d7c-6aa5-4fff-9e0e-900e3ba85343\" xlink:show=\"new\" xlink:title=\"psysml:cdca8d7c-6aa5-4fff-9e0e-900e3ba85343\" xlink:type=\"simple\"><path d=\"M971.09,163.38 C987.48,160.35 1004.17,157.26 1019.71,154.38 \" fill=\"none\" id=\"E7&lt;-E9\" style=\"stroke: #383838; stroke-width: 1.0;\"/><polygon fill=\"#383838\" points=\"958.04,165.8,964.6663,168.6446,969.8407,163.622,963.2144,160.7774,958.04,165.8\" style=\"stroke: #383838; stroke-width: 1.0;\"/></a><!--MD5=[a919e0967d6f3de553dc51b9865a1d6d]\n",
       "link E10 to E7--><a href=\"psysml:43f26010-ca40-42d6-8df0-e4847d82fc63\" target=\"_top\" title=\"psysml:43f26010-ca40-42d6-8df0-e4847d82fc63\" xlink:actuate=\"onRequest\" xlink:href=\"psysml:43f26010-ca40-42d6-8df0-e4847d82fc63\" xlink:show=\"new\" xlink:title=\"psysml:43f26010-ca40-42d6-8df0-e4847d82fc63\" xlink:type=\"simple\"><path d=\"M176.21,198.02 C249.67,218.13 366.67,236.81 449,185 C501.16,152.18 456.84,92.82 509,60 C588.75,9.82 632.35,28.09 721,60 C767.04,76.57 808.91,114.44 836.18,143.62 \" fill=\"none\" id=\"E10-&gt;E7\" style=\"stroke: #383838; stroke-width: 1.0;\"/><polygon fill=\"#FFFFFF\" points=\"849.76,158.75,831.8607,149.2835,842.2807,139.9335,849.76,158.75\" style=\"stroke: #383838; stroke-width: 1.0;\"/><ellipse cx=\"829.5424\" cy=\"143.7054\" fill=\"#383838\" rx=\"2\" ry=\"2\" style=\"stroke: #383838; stroke-width: 1.0;\"/><ellipse cx=\"836.9853\" cy=\"137.0268\" fill=\"#383838\" rx=\"2\" ry=\"2\" style=\"stroke: #383838; stroke-width: 1.0;\"/></a><!--MD5=[0f36bececdf0dff6e600d6f64214b0f1]\n",
       "link E10 to E2--><a href=\"psysml:ac89f7fb-b091-4bc7-aaea-6377fc157ffe\" target=\"_top\" title=\"psysml:ac89f7fb-b091-4bc7-aaea-6377fc157ffe\" xlink:actuate=\"onRequest\" xlink:href=\"psysml:ac89f7fb-b091-4bc7-aaea-6377fc157ffe\" xlink:show=\"new\" xlink:title=\"psysml:ac89f7fb-b091-4bc7-aaea-6377fc157ffe\" xlink:type=\"simple\"><path d=\"M160.58,198.12 C192.55,212.04 233.78,230 269.04,245.35 \" fill=\"none\" id=\"E10-&gt;E2\" style=\"stroke: #383838; stroke-width: 1.0;\"/><polygon fill=\"#FFFFFF\" points=\"287.39,253.34,267.1751,252.1739,272.7635,239.3376,287.39,253.34\" style=\"stroke: #383838; stroke-width: 1.0;\"/><ellipse cx=\"262.7473\" cy=\"248.0649\" fill=\"#383838\" rx=\"2\" ry=\"2\" style=\"stroke: #383838; stroke-width: 1.0;\"/><ellipse cx=\"266.739\" cy=\"238.8961\" fill=\"#383838\" rx=\"2\" ry=\"2\" style=\"stroke: #383838; stroke-width: 1.0;\"/></a><!--MD5=[de308be4a2431766a05a907a031c07fc]\n",
       "reverse link E10 to E11--><a href=\"psysml:75c081c5-05e2-401c-b103-d900689a3a49\" target=\"_top\" title=\"psysml:75c081c5-05e2-401c-b103-d900689a3a49\" xlink:actuate=\"onRequest\" xlink:href=\"psysml:75c081c5-05e2-401c-b103-d900689a3a49\" xlink:show=\"new\" xlink:title=\"psysml:75c081c5-05e2-401c-b103-d900689a3a49\" xlink:type=\"simple\"><path d=\"M194.17,164.01 C218.95,160.86 245.73,157.47 269.7,154.43 \" fill=\"none\" id=\"E10&lt;-E11\" style=\"stroke: #383838; stroke-width: 1.0;\"/><polygon fill=\"#383838\" points=\"181.03,165.67,187.4838,168.887,192.9355,164.167,186.4817,160.95,181.03,165.67\" style=\"stroke: #383838; stroke-width: 1.0;\"/></a><!--MD5=[1d54f998c6d5961a1a9184be73a7eb6c]\n",
       "reverse link E10 to E12--><a href=\"psysml:54130436-8b1f-4706-a610-d99b2d4cb5d4\" target=\"_top\" title=\"psysml:54130436-8b1f-4706-a610-d99b2d4cb5d4\" xlink:actuate=\"onRequest\" xlink:href=\"psysml:54130436-8b1f-4706-a610-d99b2d4cb5d4\" xlink:show=\"new\" xlink:title=\"psysml:54130436-8b1f-4706-a610-d99b2d4cb5d4\" xlink:type=\"simple\"><path d=\"M159.31,145.61 C183.75,132.22 213.52,116.59 241,104 C253.82,98.13 267.77,92.33 281.14,87.05 \" fill=\"none\" id=\"E10&lt;-E12\" style=\"stroke: #383838; stroke-width: 1.0;\"/><polygon fill=\"#383838\" points=\"147.77,151.98,154.9559,152.5819,158.2754,146.1803,151.0895,145.5783,147.77,151.98\" style=\"stroke: #383838; stroke-width: 1.0;\"/></a><!--MD5=[4a48077df6499cfcd20b62e8f5f37904]\n",
       "link E13 to E7--><a href=\"psysml:85f16706-e1b7-404d-9ee5-57d420bfb7f2\" target=\"_top\" title=\"psysml:85f16706-e1b7-404d-9ee5-57d420bfb7f2\" xlink:actuate=\"onRequest\" xlink:href=\"psysml:85f16706-e1b7-404d-9ee5-57d420bfb7f2\" xlink:show=\"new\" xlink:title=\"psysml:85f16706-e1b7-404d-9ee5-57d420bfb7f2\" xlink:type=\"simple\"><path d=\"M690.86,401.92 C701.52,396.92 711.93,390.98 721,384 C778.07,340.05 823.11,268.25 847.75,223.14 \" fill=\"none\" id=\"E13-&gt;E7\" style=\"stroke: #383838; stroke-width: 1.0;\"/><polygon fill=\"#FFFFFF\" points=\"857.18,205.32,854.4752,225.387,842.1026,218.8356,857.18,205.32\" style=\"stroke: #383838; stroke-width: 1.0;\"/><ellipse cx=\"850.0403\" cy=\"229.4885\" fill=\"#383838\" rx=\"2\" ry=\"2\" style=\"stroke: #383838; stroke-width: 1.0;\"/><ellipse cx=\"841.2028\" cy=\"224.8089\" fill=\"#383838\" rx=\"2\" ry=\"2\" style=\"stroke: #383838; stroke-width: 1.0;\"/></a><!--MD5=[4990d97433c492509d85ab7c90ad4dc9]\n",
       "@startuml\r\n",
       "left to right direction\r\n",
       "skinparam monochrome true\r\n",
       "skinparam classbackgroundcolor white\r\n",
       "skinparam shadowing false\r\n",
       "skinparam wrapWidth 300\r\n",
       "hide circle\r\n",
       "\r\n",
       "package \"OccurrenceTest\" as E1  [[psysml:53f1d42d-2686-4f4b-950f-b84b40bc19b2 ]]  {\r\n",
       "comp def \"Occ\" as E2  <<(T,blue) occurrence  def>> [[psysml:77ba500d-77fd-484e-b411-8833010da35e ]] {\r\n",
       "- - attributes - -\r\n",
       "a\r\n",
       "}\r\n",
       "comp usage \"occ1: Occ \" as E3  <<(T,blue) occurrence>> [[psysml:37011562-c12e-4ce2-bbf9-af5619a300f0 ]] {\r\n",
       "}\r\n",
       "comp usage \"occ2: Occ \" as E4  <<(T,blue) occurrence>> [[psysml:3522e0a2-d0dd-4c95-916a-e9f89fbadd86 ]] {\r\n",
       "}\r\n",
       "comp usage \"s: Ind \" as E5  <<(T,blue) individual snapshot occurrence>> [[psysml:2ba1b44f-ac88-49ba-a1da-8edc5df2da3a ]] {\r\n",
       "}\r\n",
       "comp usage \"t \" as E6  <<(T,blue) timeslice occurrence>> [[psysml:aefaf76d-f241-48e8-80ea-b99598299972 ]] {\r\n",
       "}\r\n",
       "comp def \"Ind\" as E7  <<(T,blue) individual occurrence  def>> [[psysml:991e81ed-291b-4563-955c-44288cc9fc81 ]] {\r\n",
       "}\r\n",
       "comp usage \"s2 \" as E8  <<(T,blue) snapshot occurrence>> [[psysml:fb7dbc0d-a670-4e6d-a2b6-24a9a70c023a ]] {\r\n",
       "}\r\n",
       "comp usage \"t2 \" as E9  <<(T,blue) timeslice occurrence>> [[psysml:ae0fd4ea-8dc7-4cb0-a32c-5615a8f756eb ]] {\r\n",
       "}\r\n",
       "comp usage \"ind: Ind, Occ \" as E10  <<(T,blue) individual occurrence>> [[psysml:90168d9a-6358-4939-88d7-8ec9974b52c6 ]] {\r\n",
       "}\r\n",
       "comp usage \"s3 \" as E11  <<(T,blue) snapshot occurrence>> [[psysml:d0eba55f-a402-4b22-88ba-9857d6bd50ac ]] {\r\n",
       "}\r\n",
       "comp usage \"t3 \" as E12  <<(T,blue) individual timeslice occurrence>> [[psysml:0232df4f-93e4-4add-8902-f942e03a0634 ]] {\r\n",
       "}\r\n",
       "comp usage \"s4: Ind \" as E13  <<(T,blue) individual snapshot occurrence>> [[psysml:5cbde71f-e2d0-40cd-91ed-92f5bc776eb7 ]] {\r\n",
       "}\r\n",
       "}\r\n",
       "E2 o- - E3 [[psysml:111e77a4-44f2-45ac-862d-a1e02a1cad26 ]] \r\n",
       "E3 - -:|> E2 [[psysml:0f45e557-8f0e-4df9-b1d8-28bd2526f5a3 ]] \r\n",
       "E2 *- - E4 [[psysml:7f5381ff-79d6-4175-8599-1b084d5a38fb ]] \r\n",
       "E4 - -:|> E2 [[psysml:9af83ecd-fc65-4272-8374-c2ac75a0337a ]] \r\n",
       "E2 *- - E5 [[psysml:648e9e41-ac7c-450e-af70-439d81f3f540 ]] \r\n",
       "E2 *- - E6 [[psysml:00b8b9a4-593e-406d-b505-212ff2a7c9c1 ]] \r\n",
       "E5 - -:|> E7 [[psysml:088b8ee7-f1bc-4574-b816-43bcf4f14b77 ]] \r\n",
       "E7 *- - E8 [[psysml:c8813ef9-ffa9-4c9d-80a4-dd20f6c80ea5 ]] \r\n",
       "E7 *- - E9 [[psysml:cdca8d7c-6aa5-4fff-9e0e-900e3ba85343 ]] \r\n",
       "E10 - -:|> E7 [[psysml:43f26010-ca40-42d6-8df0-e4847d82fc63 ]] \r\n",
       "E10 - -:|> E2 [[psysml:ac89f7fb-b091-4bc7-aaea-6377fc157ffe ]] \r\n",
       "E10 *- - E11 [[psysml:75c081c5-05e2-401c-b103-d900689a3a49 ]] \r\n",
       "E10 *- - E12 [[psysml:54130436-8b1f-4706-a610-d99b2d4cb5d4 ]] \r\n",
       "E13 - -:|> E7 [[psysml:85f16706-e1b7-404d-9ee5-57d420bfb7f2 ]] \r\n",
       "@enduml\r\n",
       "\n",
       "PlantUML version 1.2020.13(Sat Jun 13 12:26:38 UTC 2020)\n",
       "(EPL source distribution)\n",
       "Java Runtime: OpenJDK Runtime Environment\n",
       "JVM: OpenJDK 64-Bit Server VM\n",
       "Default Encoding: UTF-8\n",
       "Language: en\n",
       "Country: null\n",
       "--></g></svg>"
      ]
     },
     "execution_count": 17,
     "metadata": {},
     "output_type": "execute_result"
    }
   ],
   "source": [
    "%viz --style=\"LR\" --view=\"Tree\" \"OccurrenceTest\""
   ]
  },
  {
   "cell_type": "code",
   "execution_count": 18,
   "id": "b3c3b1b4",
   "metadata": {
    "execution": {
     "iopub.execute_input": "2022-07-23T10:52:31.802754Z",
     "iopub.status.busy": "2022-07-23T10:52:31.802281Z",
     "iopub.status.idle": "2022-07-23T10:52:31.807517Z",
     "shell.execute_reply": "2022-07-23T10:52:31.807858Z"
    }
   },
   "outputs": [
    {
     "data": {
      "image/svg+xml": [
       "<?xml version=\"1.0\" encoding=\"UTF-8\" standalone=\"no\"?><svg xmlns=\"http://www.w3.org/2000/svg\" xmlns:xlink=\"http://www.w3.org/1999/xlink\" contentScriptType=\"application/ecmascript\" contentStyleType=\"text/css\" height=\"12px\" preserveAspectRatio=\"none\" style=\"width:12px;height:12px;\" version=\"1.1\" viewBox=\"0 0 12 12\" width=\"12px\" zoomAndPan=\"magnify\"><defs/><g><!--MD5=[19d285c9d72a204eba4e2cd117d745e8]\n",
       "@startuml\r\n",
       "left to right direction\r\n",
       "skinparam monochrome true\r\n",
       "skinparam classbackgroundcolor white\r\n",
       "skinparam shadowing false\r\n",
       "skinparam wrapWidth 300\r\n",
       "hide circle\r\n",
       "\r\n",
       "@enduml\r\n",
       "\n",
       "PlantUML version 1.2020.13(Sat Jun 13 12:26:38 UTC 2020)\n",
       "(EPL source distribution)\n",
       "Java Runtime: OpenJDK Runtime Environment\n",
       "JVM: OpenJDK 64-Bit Server VM\n",
       "Default Encoding: UTF-8\n",
       "Language: en\n",
       "Country: null\n",
       "--></g></svg>"
      ]
     },
     "execution_count": 18,
     "metadata": {},
     "output_type": "execute_result"
    }
   ],
   "source": [
    "%viz --style=\"LR\" --view=\"State\" \"OccurrenceTest\""
   ]
  },
  {
   "cell_type": "code",
   "execution_count": 19,
   "id": "24ed645d",
   "metadata": {
    "execution": {
     "iopub.execute_input": "2022-07-23T10:52:31.858027Z",
     "iopub.status.busy": "2022-07-23T10:52:31.857560Z",
     "iopub.status.idle": "2022-07-23T10:52:31.895997Z",
     "shell.execute_reply": "2022-07-23T10:52:31.895597Z"
    }
   },
   "outputs": [
    {
     "data": {
      "image/svg+xml": [
       "<?xml version=\"1.0\" encoding=\"UTF-8\" standalone=\"no\"?><svg xmlns=\"http://www.w3.org/2000/svg\" xmlns:xlink=\"http://www.w3.org/1999/xlink\" contentScriptType=\"application/ecmascript\" contentStyleType=\"text/css\" height=\"380px\" preserveAspectRatio=\"none\" style=\"width:553px;height:380px;\" version=\"1.1\" viewBox=\"0 0 553 380\" width=\"553px\" zoomAndPan=\"magnify\"><defs/><g><!--MD5=[fbc87193dbaf4d95561dea2c320d4a47]\n",
       "cluster E1--><a href=\"psysml:53f1d42d-2686-4f4b-950f-b84b40bc19b2\" target=\"_top\" title=\"psysml:53f1d42d-2686-4f4b-950f-b84b40bc19b2\" xlink:actuate=\"onRequest\" xlink:href=\"psysml:53f1d42d-2686-4f4b-950f-b84b40bc19b2\" xlink:show=\"new\" xlink:title=\"psysml:53f1d42d-2686-4f4b-950f-b84b40bc19b2\" xlink:type=\"simple\"><polygon fill=\"#FFFFFF\" points=\"16,6,134,6,141,28.2969,531,28.2969,531,368,16,368,16,6\" style=\"stroke: #000000; stroke-width: 1.5;\"/><line style=\"stroke: #000000; stroke-width: 1.5;\" x1=\"16\" x2=\"141\" y1=\"28.2969\" y2=\"28.2969\"/><text fill=\"#000000\" font-family=\"sans-serif\" font-size=\"14\" font-weight=\"bold\" lengthAdjust=\"spacingAndGlyphs\" textLength=\"112\" x=\"20\" y=\"20.9951\">OccurrenceTest</text></a><!--MD5=[f6df4d0ebaf0b5dfb2ced0ae5af7c670]\n",
       "cluster E4--><a href=\"psysml:90168d9a-6358-4939-88d7-8ec9974b52c6\" target=\"_top\" title=\"psysml:90168d9a-6358-4939-88d7-8ec9974b52c6\" xlink:actuate=\"onRequest\" xlink:href=\"psysml:90168d9a-6358-4939-88d7-8ec9974b52c6\" xlink:show=\"new\" xlink:title=\"psysml:90168d9a-6358-4939-88d7-8ec9974b52c6\" xlink:type=\"simple\"><rect fill=\"#FFFFFF\" height=\"224\" id=\"E4\" rx=\"10\" ry=\"10\" style=\"stroke: #383838; stroke-width: 1.5;\" width=\"261\" x=\"48\" y=\"57\"/><rect fill=\"#F8F8F8\" height=\"37.9375\" rx=\"10\" ry=\"10\" style=\"stroke: #F8F8F8; stroke-width: 1.5;\" width=\"261\" x=\"48\" y=\"57\"/><rect fill=\"#F8F8F8\" height=\"10\" style=\"stroke: #F8F8F8; stroke-width: 1.5;\" width=\"261\" x=\"48\" y=\"84.9375\"/><rect fill=\"none\" height=\"224\" id=\"E4\" rx=\"10\" ry=\"10\" style=\"stroke: #383838; stroke-width: 1.5;\" width=\"261\" x=\"48\" y=\"57\"/><text fill=\"#000000\" font-family=\"sans-serif\" font-size=\"12\" font-style=\"italic\" lengthAdjust=\"spacingAndGlyphs\" textLength=\"147\" x=\"105\" y=\"73.1387\">«individual occurrence»</text><text fill=\"#000000\" font-family=\"sans-serif\" font-size=\"12\" lengthAdjust=\"spacingAndGlyphs\" textLength=\"77\" x=\"140\" y=\"87.1074\">ind: Ind, Occ</text><line style=\"stroke: #383838; stroke-width: 1.0;\" x1=\"48\" x2=\"309\" y1=\"94.9375\" y2=\"94.9375\"/></a><g id=\"E1.E2\"><a href=\"psysml:77ba500d-77fd-484e-b411-8833010da35e\" target=\"_top\" title=\"psysml:77ba500d-77fd-484e-b411-8833010da35e\" xlink:actuate=\"onRequest\" xlink:href=\"psysml:77ba500d-77fd-484e-b411-8833010da35e\" xlink:show=\"new\" xlink:title=\"psysml:77ba500d-77fd-484e-b411-8833010da35e\" xlink:type=\"simple\"><rect fill=\"#FFFFFF\" height=\"42.9375\" id=\"E2\" style=\"stroke: #383838; stroke-width: 1.5;\" width=\"120\" x=\"364\" y=\"230.5\"/><rect fill=\"#F8F8F8\" height=\"37.9375\" style=\"stroke: #383838; stroke-width: 1.5;\" width=\"120\" x=\"364\" y=\"230.5\"/><text fill=\"#000000\" font-family=\"sans-serif\" font-size=\"12\" font-style=\"italic\" lengthAdjust=\"spacingAndGlyphs\" textLength=\"113\" x=\"367.5\" y=\"246.6387\">«occurrence  def»</text><text fill=\"#000000\" font-family=\"sans-serif\" font-size=\"12\" lengthAdjust=\"spacingAndGlyphs\" textLength=\"23\" x=\"412.5\" y=\"260.6074\">Occ</text></a></g><g id=\"E1.E3\"><a href=\"psysml:991e81ed-291b-4563-955c-44288cc9fc81\" target=\"_top\" title=\"psysml:991e81ed-291b-4563-955c-44288cc9fc81\" xlink:actuate=\"onRequest\" xlink:href=\"psysml:991e81ed-291b-4563-955c-44288cc9fc81\" xlink:show=\"new\" xlink:title=\"psysml:991e81ed-291b-4563-955c-44288cc9fc81\" xlink:type=\"simple\"><rect fill=\"#FFFFFF\" height=\"42.9375\" id=\"E3\" style=\"stroke: #383838; stroke-width: 1.5;\" width=\"182\" x=\"333\" y=\"308.5\"/><rect fill=\"#F8F8F8\" height=\"37.9375\" style=\"stroke: #383838; stroke-width: 1.5;\" width=\"182\" x=\"333\" y=\"308.5\"/><text fill=\"#000000\" font-family=\"sans-serif\" font-size=\"12\" font-style=\"italic\" lengthAdjust=\"spacingAndGlyphs\" textLength=\"175\" x=\"336.5\" y=\"324.6387\">«individual occurrence  def»</text><text fill=\"#000000\" font-family=\"sans-serif\" font-size=\"12\" lengthAdjust=\"spacingAndGlyphs\" textLength=\"19\" x=\"414.5\" y=\"338.6074\">Ind</text></a></g><g id=\"E1.E4.E5\"><a href=\"psysml:d0eba55f-a402-4b22-88ba-9857d6bd50ac\" target=\"_top\" title=\"psysml:d0eba55f-a402-4b22-88ba-9857d6bd50ac\" xlink:actuate=\"onRequest\" xlink:href=\"psysml:d0eba55f-a402-4b22-88ba-9857d6bd50ac\" xlink:show=\"new\" xlink:title=\"psysml:d0eba55f-a402-4b22-88ba-9857d6bd50ac\" xlink:type=\"simple\"><rect fill=\"#FFFFFF\" height=\"42.9375\" id=\"E5\" rx=\"10\" ry=\"10\" style=\"stroke: #383838; stroke-width: 1.5;\" width=\"155\" x=\"101\" y=\"116.5\"/><rect fill=\"#F8F8F8\" height=\"37.9375\" rx=\"10\" ry=\"10\" style=\"stroke: #F8F8F8; stroke-width: 1.5;\" width=\"155\" x=\"101\" y=\"116.5\"/><rect fill=\"#F8F8F8\" height=\"10\" style=\"stroke: #F8F8F8; stroke-width: 1.5;\" width=\"155\" x=\"101\" y=\"144.4375\"/><rect fill=\"none\" height=\"42.9375\" id=\"E5\" rx=\"10\" ry=\"10\" style=\"stroke: #383838; stroke-width: 1.5;\" width=\"155\" x=\"101\" y=\"116.5\"/><text fill=\"#000000\" font-family=\"sans-serif\" font-size=\"12\" font-style=\"italic\" lengthAdjust=\"spacingAndGlyphs\" textLength=\"148\" x=\"104.5\" y=\"132.6387\">«snapshot occurrence»</text><text fill=\"#000000\" font-family=\"sans-serif\" font-size=\"12\" lengthAdjust=\"spacingAndGlyphs\" textLength=\"15\" x=\"171\" y=\"146.6074\">s3</text></a></g><g id=\"E1.E4.E6\"><a href=\"psysml:0232df4f-93e4-4add-8902-f942e03a0634\" target=\"_top\" title=\"psysml:0232df4f-93e4-4add-8902-f942e03a0634\" xlink:actuate=\"onRequest\" xlink:href=\"psysml:0232df4f-93e4-4add-8902-f942e03a0634\" xlink:show=\"new\" xlink:title=\"psysml:0232df4f-93e4-4add-8902-f942e03a0634\" xlink:type=\"simple\"><rect fill=\"#FFFFFF\" height=\"42.9375\" id=\"E6\" rx=\"10\" ry=\"10\" style=\"stroke: #383838; stroke-width: 1.5;\" width=\"213\" x=\"72\" y=\"194.5\"/><rect fill=\"#F8F8F8\" height=\"37.9375\" rx=\"10\" ry=\"10\" style=\"stroke: #F8F8F8; stroke-width: 1.5;\" width=\"213\" x=\"72\" y=\"194.5\"/><rect fill=\"#F8F8F8\" height=\"10\" style=\"stroke: #F8F8F8; stroke-width: 1.5;\" width=\"213\" x=\"72\" y=\"222.4375\"/><rect fill=\"none\" height=\"42.9375\" id=\"E6\" rx=\"10\" ry=\"10\" style=\"stroke: #383838; stroke-width: 1.5;\" width=\"213\" x=\"72\" y=\"194.5\"/><text fill=\"#000000\" font-family=\"sans-serif\" font-size=\"12\" font-style=\"italic\" lengthAdjust=\"spacingAndGlyphs\" textLength=\"206\" x=\"75.5\" y=\"210.6387\">«individual timeslice occurrence»</text><text fill=\"#000000\" font-family=\"sans-serif\" font-size=\"12\" lengthAdjust=\"spacingAndGlyphs\" textLength=\"13\" x=\"172\" y=\"224.6074\">t3</text></a></g><g id=\"E1.E7\"><a href=\"psysml:5cbde71f-e2d0-40cd-91ed-92f5bc776eb7\" target=\"_top\" title=\"psysml:5cbde71f-e2d0-40cd-91ed-92f5bc776eb7\" xlink:actuate=\"onRequest\" xlink:href=\"psysml:5cbde71f-e2d0-40cd-91ed-92f5bc776eb7\" xlink:show=\"new\" xlink:title=\"psysml:5cbde71f-e2d0-40cd-91ed-92f5bc776eb7\" xlink:type=\"simple\"><rect fill=\"#FFFFFF\" height=\"42.9375\" id=\"E7\" rx=\"10\" ry=\"10\" style=\"stroke: #383838; stroke-width: 1.5;\" width=\"217\" x=\"70\" y=\"308.5\"/><rect fill=\"#F8F8F8\" height=\"37.9375\" rx=\"10\" ry=\"10\" style=\"stroke: #F8F8F8; stroke-width: 1.5;\" width=\"217\" x=\"70\" y=\"308.5\"/><rect fill=\"#F8F8F8\" height=\"10\" style=\"stroke: #F8F8F8; stroke-width: 1.5;\" width=\"217\" x=\"70\" y=\"336.4375\"/><rect fill=\"none\" height=\"42.9375\" id=\"E7\" rx=\"10\" ry=\"10\" style=\"stroke: #383838; stroke-width: 1.5;\" width=\"217\" x=\"70\" y=\"308.5\"/><text fill=\"#000000\" font-family=\"sans-serif\" font-size=\"12\" font-style=\"italic\" lengthAdjust=\"spacingAndGlyphs\" textLength=\"210\" x=\"73.5\" y=\"324.6387\">«individual snapshot occurrence»</text><text fill=\"#000000\" font-family=\"sans-serif\" font-size=\"12\" lengthAdjust=\"spacingAndGlyphs\" textLength=\"42\" x=\"157.5\" y=\"338.6074\">s4: Ind</text></a></g><!--MD5=[f0cdf4548168e5211fb3a02bf679d63a]\n",
       "link E4 to E3--><a href=\"psysml:43f26010-ca40-42d6-8df0-e4847d82fc63\" target=\"_top\" title=\"psysml:43f26010-ca40-42d6-8df0-e4847d82fc63\" xlink:actuate=\"onRequest\" xlink:href=\"psysml:43f26010-ca40-42d6-8df0-e4847d82fc63\" xlink:show=\"new\" xlink:title=\"psysml:43f26010-ca40-42d6-8df0-e4847d82fc63\" xlink:type=\"simple\"><path d=\"M309.5519,269.5835 C309.785,269.6716 310.0178,269.7605 310.2502,269.8502 C310.715,270.0295 311.1785,270.2122 311.6404,270.3981 C312.5643,270.7698 313.4823,271.1547 314.394,271.5531 C318.0406,273.1465 321.5856,274.955 325,277 C331.15,280.68 327.66,286.22 333,291 C335.74,293.45 338.65,295.76 341.69,297.95 \" fill=\"none\" id=\"E4-&gt;E3\" style=\"stroke: #383838; stroke-width: 1.0;\"/><polygon fill=\"#FFFFFF\" points=\"358.9,308.41,339.0306,304.5104,346.3099,292.5516,358.9,308.41\" style=\"stroke: #383838; stroke-width: 1.0;\"/><ellipse cx=\"335.2016\" cy=\"299.8383\" fill=\"#383838\" rx=\"2\" ry=\"2\" style=\"stroke: #383838; stroke-width: 1.0;\"/><ellipse cx=\"340.401\" cy=\"291.2963\" fill=\"#383838\" rx=\"2\" ry=\"2\" style=\"stroke: #383838; stroke-width: 1.0;\"/></a><!--MD5=[185131fc0dcab0a4505a2ebe144e961b]\n",
       "link E4 to E2--><a href=\"psysml:ac89f7fb-b091-4bc7-aaea-6377fc157ffe\" target=\"_top\" title=\"psysml:ac89f7fb-b091-4bc7-aaea-6377fc157ffe\" xlink:actuate=\"onRequest\" xlink:href=\"psysml:ac89f7fb-b091-4bc7-aaea-6377fc157ffe\" xlink:show=\"new\" xlink:title=\"psysml:ac89f7fb-b091-4bc7-aaea-6377fc157ffe\" xlink:type=\"simple\"><path d=\"M309.8135,261.7603 C312.1337,261.5601 314.4497,261.3602 316.7582,261.161 C325.992,260.3641 335.105,259.5775 343.88,258.82 \" fill=\"none\" id=\"E4-&gt;E2\" style=\"stroke: #383838; stroke-width: 1.0;\"/><polygon fill=\"#FFFFFF\" points=\"363.93,257.09,345.5998,265.6926,344.4,251.7442,363.93,257.09\" style=\"stroke: #383838; stroke-width: 1.0;\"/><ellipse cx=\"339.7494\" cy=\"264.1885\" fill=\"#383838\" rx=\"2\" ry=\"2\" style=\"stroke: #383838; stroke-width: 1.0;\"/><ellipse cx=\"338.8924\" cy=\"254.2253\" fill=\"#383838\" rx=\"2\" ry=\"2\" style=\"stroke: #383838; stroke-width: 1.0;\"/></a><!--MD5=[14ccda38c055a5c0da953d572bc50960]\n",
       "link E7 to E3--><a href=\"psysml:85f16706-e1b7-404d-9ee5-57d420bfb7f2\" target=\"_top\" title=\"psysml:85f16706-e1b7-404d-9ee5-57d420bfb7f2\" xlink:actuate=\"onRequest\" xlink:href=\"psysml:85f16706-e1b7-404d-9ee5-57d420bfb7f2\" xlink:show=\"new\" xlink:title=\"psysml:85f16706-e1b7-404d-9ee5-57d420bfb7f2\" xlink:type=\"simple\"><path d=\"M287.01,330 C295.49,330 304.07,330 312.56,330 \" fill=\"none\" id=\"E7-&gt;E3\" style=\"stroke: #383838; stroke-width: 1.0;\"/><polygon fill=\"#FFFFFF\" points=\"332.81,330,313.81,337,313.81,323,332.81,330\" style=\"stroke: #383838; stroke-width: 1.0;\"/><ellipse cx=\"308.11\" cy=\"335\" fill=\"#383838\" rx=\"2\" ry=\"2\" style=\"stroke: #383838; stroke-width: 1.0;\"/><ellipse cx=\"308.11\" cy=\"325\" fill=\"#383838\" rx=\"2\" ry=\"2\" style=\"stroke: #383838; stroke-width: 1.0;\"/></a><!--MD5=[7d55289b9a4fe4372ce9c54a2d56fa82]\n",
       "@startuml\r\n",
       "skinparam ranksep 10\r\n",
       "skinparam rectangle {\r\n",
       " backgroundColor<<block>> LightGreen\r\n",
       "}\r\n",
       "left to right direction\r\n",
       "skinparam monochrome true\r\n",
       "skinparam classbackgroundcolor white\r\n",
       "skinparam shadowing false\r\n",
       "skinparam wrapWidth 300\r\n",
       "hide circle\r\n",
       "\r\n",
       "package \"OccurrenceTest\" as E1  [[psysml:53f1d42d-2686-4f4b-950f-b84b40bc19b2 ]]  {\r\n",
       "def \"Occ\" as E2  <<(T,blue) occurrence  def>> [[psysml:77ba500d-77fd-484e-b411-8833010da35e ]] \r\n",
       "def \"Ind\" as E3  <<(T,blue) individual occurrence  def>> [[psysml:991e81ed-291b-4563-955c-44288cc9fc81 ]] \r\n",
       "rec usage \"ind: Ind, Occ\" as E4  <<(T,blue) individual occurrence>> [[psysml:90168d9a-6358-4939-88d7-8ec9974b52c6 ]] {\r\n",
       "rec usage \"s3\" as E5  <<(T,blue) snapshot occurrence>> [[psysml:d0eba55f-a402-4b22-88ba-9857d6bd50ac ]] {\r\n",
       "}\r\n",
       "rec usage \"t3\" as E6  <<(T,blue) individual timeslice occurrence>> [[psysml:0232df4f-93e4-4add-8902-f942e03a0634 ]] {\r\n",
       "}\r\n",
       "}\r\n",
       "rec usage \"s4: Ind\" as E7  <<(T,blue) individual snapshot occurrence>> [[psysml:5cbde71f-e2d0-40cd-91ed-92f5bc776eb7 ]] {\r\n",
       "}\r\n",
       "}\r\n",
       "E4 - -:|> E3 [[psysml:43f26010-ca40-42d6-8df0-e4847d82fc63 ]] \r\n",
       "E4 - -:|> E2 [[psysml:ac89f7fb-b091-4bc7-aaea-6377fc157ffe ]] \r\n",
       "E7 - -:|> E3 [[psysml:85f16706-e1b7-404d-9ee5-57d420bfb7f2 ]] \r\n",
       "@enduml\r\n",
       "\n",
       "PlantUML version 1.2020.13(Sat Jun 13 12:26:38 UTC 2020)\n",
       "(EPL source distribution)\n",
       "Java Runtime: OpenJDK Runtime Environment\n",
       "JVM: OpenJDK 64-Bit Server VM\n",
       "Default Encoding: UTF-8\n",
       "Language: en\n",
       "Country: null\n",
       "--></g></svg>"
      ]
     },
     "execution_count": 19,
     "metadata": {},
     "output_type": "execute_result"
    }
   ],
   "source": [
    "%viz --style=\"LR\" --view=\"Interconnection\" \"OccurrenceTest\""
   ]
  },
  {
   "cell_type": "code",
   "execution_count": 20,
   "id": "ba0335cc",
   "metadata": {
    "execution": {
     "iopub.execute_input": "2022-07-23T10:52:31.945724Z",
     "iopub.status.busy": "2022-07-23T10:52:31.945275Z",
     "iopub.status.idle": "2022-07-23T10:52:31.950280Z",
     "shell.execute_reply": "2022-07-23T10:52:31.950594Z"
    }
   },
   "outputs": [
    {
     "data": {
      "image/svg+xml": [
       "<?xml version=\"1.0\" encoding=\"UTF-8\" standalone=\"no\"?><svg xmlns=\"http://www.w3.org/2000/svg\" xmlns:xlink=\"http://www.w3.org/1999/xlink\" contentScriptType=\"application/ecmascript\" contentStyleType=\"text/css\" height=\"12px\" preserveAspectRatio=\"none\" style=\"width:12px;height:12px;\" version=\"1.1\" viewBox=\"0 0 12 12\" width=\"12px\" zoomAndPan=\"magnify\"><defs/><g><!--MD5=[7aeb398939421629f6affaa4a1a7b125]\n",
       "@startuml\r\n",
       "skinparam ranksep 8\r\n",
       "left to right direction\r\n",
       "skinparam monochrome true\r\n",
       "skinparam classbackgroundcolor white\r\n",
       "skinparam shadowing false\r\n",
       "skinparam wrapWidth 300\r\n",
       "hide circle\r\n",
       "\r\n",
       "@enduml\r\n",
       "\n",
       "PlantUML version 1.2020.13(Sat Jun 13 12:26:38 UTC 2020)\n",
       "(EPL source distribution)\n",
       "Java Runtime: OpenJDK Runtime Environment\n",
       "JVM: OpenJDK 64-Bit Server VM\n",
       "Default Encoding: UTF-8\n",
       "Language: en\n",
       "Country: null\n",
       "--></g></svg>"
      ]
     },
     "execution_count": 20,
     "metadata": {},
     "output_type": "execute_result"
    }
   ],
   "source": [
    "%viz --style=\"LR\" --view=\"Action\" \"OccurrenceTest\""
   ]
  },
  {
   "cell_type": "code",
   "execution_count": 21,
   "id": "60301df5",
   "metadata": {
    "execution": {
     "iopub.execute_input": "2022-07-23T10:52:32.000795Z",
     "iopub.status.busy": "2022-07-23T10:52:32.000284Z",
     "iopub.status.idle": "2022-07-23T10:52:32.005645Z",
     "shell.execute_reply": "2022-07-23T10:52:32.005978Z"
    }
   },
   "outputs": [
    {
     "data": {
      "image/svg+xml": [
       "<?xml version=\"1.0\" encoding=\"UTF-8\" standalone=\"no\"?><svg xmlns=\"http://www.w3.org/2000/svg\" xmlns:xlink=\"http://www.w3.org/1999/xlink\" contentScriptType=\"application/ecmascript\" contentStyleType=\"text/css\" height=\"12px\" preserveAspectRatio=\"none\" style=\"width:12px;height:12px;\" version=\"1.1\" viewBox=\"0 0 12 12\" width=\"12px\" zoomAndPan=\"magnify\"><defs/><g><!--MD5=[238c11ea2002f03115ad6b49a457d50e]\n",
       "@startuml\r\n",
       "skinparam roundcorner 20\r\n",
       "skinparam BoxPadding 20\r\n",
       "skinparam SequenceBoxBackgroundColor #white\r\n",
       "skinparam style strictuml\r\n",
       "skinparam maxMessageSize 100\r\n",
       "left to right direction\r\n",
       "skinparam monochrome true\r\n",
       "skinparam classbackgroundcolor white\r\n",
       "skinparam shadowing false\r\n",
       "skinparam wrapWidth 300\r\n",
       "hide circle\r\n",
       "\r\n",
       "@enduml\r\n",
       "\n",
       "PlantUML version 1.2020.13(Sat Jun 13 12:26:38 UTC 2020)\n",
       "(EPL source distribution)\n",
       "Java Runtime: OpenJDK Runtime Environment\n",
       "JVM: OpenJDK 64-Bit Server VM\n",
       "Default Encoding: UTF-8\n",
       "Language: en\n",
       "Country: null\n",
       "--></g></svg>"
      ]
     },
     "execution_count": 21,
     "metadata": {},
     "output_type": "execute_result"
    }
   ],
   "source": [
    "%viz --style=\"LR\" --view=\"Sequence\" \"OccurrenceTest\""
   ]
  },
  {
   "cell_type": "code",
   "execution_count": 22,
   "id": "96148ba6",
   "metadata": {
    "execution": {
     "iopub.execute_input": "2022-07-23T10:52:32.056021Z",
     "iopub.status.busy": "2022-07-23T10:52:32.055536Z",
     "iopub.status.idle": "2022-07-23T10:52:32.116963Z",
     "shell.execute_reply": "2022-07-23T10:52:32.116545Z"
    }
   },
   "outputs": [
    {
     "data": {
      "image/svg+xml": [
       "<?xml version=\"1.0\" encoding=\"UTF-8\" standalone=\"no\"?><svg xmlns=\"http://www.w3.org/2000/svg\" xmlns:xlink=\"http://www.w3.org/1999/xlink\" contentScriptType=\"application/ecmascript\" contentStyleType=\"text/css\" height=\"476px\" preserveAspectRatio=\"none\" style=\"width:1206px;height:476px;\" version=\"1.1\" viewBox=\"0 0 1206 476\" width=\"1206px\" zoomAndPan=\"magnify\"><defs/><g><!--MD5=[fbc87193dbaf4d95561dea2c320d4a47]\n",
       "cluster E1--><a href=\"psysml:53f1d42d-2686-4f4b-950f-b84b40bc19b2\" target=\"_top\" title=\"psysml:53f1d42d-2686-4f4b-950f-b84b40bc19b2\" xlink:actuate=\"onRequest\" xlink:href=\"psysml:53f1d42d-2686-4f4b-950f-b84b40bc19b2\" xlink:show=\"new\" xlink:title=\"psysml:53f1d42d-2686-4f4b-950f-b84b40bc19b2\" xlink:type=\"simple\"><polygon fill=\"#FFFFFF\" points=\"16,6,134,6,141,28.2969,1184,28.2969,1184,464,16,464,16,6\" style=\"stroke: #000000; stroke-width: 1.5;\"/><line style=\"stroke: #000000; stroke-width: 1.5;\" x1=\"16\" x2=\"141\" y1=\"28.2969\" y2=\"28.2969\"/><text fill=\"#000000\" font-family=\"sans-serif\" font-size=\"14\" font-weight=\"bold\" lengthAdjust=\"spacingAndGlyphs\" textLength=\"112\" x=\"20\" y=\"20.9951\">OccurrenceTest</text></a><!--MD5=[b4997ac47864f28c2f74865a473b2911]\n",
       "class E2--><a href=\"psysml:77ba500d-77fd-484e-b411-8833010da35e\" target=\"_top\" title=\"psysml:77ba500d-77fd-484e-b411-8833010da35e\" xlink:actuate=\"onRequest\" xlink:href=\"psysml:77ba500d-77fd-484e-b411-8833010da35e\" xlink:show=\"new\" xlink:title=\"psysml:77ba500d-77fd-484e-b411-8833010da35e\" xlink:type=\"simple\"><rect fill=\"#FFFFFF\" height=\"75.5469\" id=\"E2\" style=\"stroke: #383838; stroke-width: 1.5;\" width=\"115\" x=\"287.5\" y=\"240\"/><text fill=\"#000000\" font-family=\"sans-serif\" font-size=\"12\" font-style=\"italic\" lengthAdjust=\"spacingAndGlyphs\" textLength=\"113\" x=\"288.5\" y=\"256.1387\">«occurrence  def»</text><text fill=\"#000000\" font-family=\"sans-serif\" font-size=\"12\" lengthAdjust=\"spacingAndGlyphs\" textLength=\"23\" x=\"333.5\" y=\"270.1074\">Occ</text><line style=\"stroke: #383838; stroke-width: 1.5;\" x1=\"288.5\" x2=\"401.5\" y1=\"277.9375\" y2=\"277.9375\"/><text fill=\"#000000\" font-family=\"sans-serif\" font-size=\"11\" lengthAdjust=\"spacingAndGlyphs\" textLength=\"7\" x=\"293.5\" y=\"308.9526\">a</text><line style=\"stroke: #383838; stroke-width: 1.0;\" x1=\"288.5\" x2=\"317.5\" y1=\"292.3398\" y2=\"292.3398\"/><text fill=\"#000000\" font-family=\"sans-serif\" font-size=\"11\" lengthAdjust=\"spacingAndGlyphs\" textLength=\"55\" x=\"317.5\" y=\"295.6479\">attributes</text><line style=\"stroke: #383838; stroke-width: 1.0;\" x1=\"372.5\" x2=\"401.5\" y1=\"292.3398\" y2=\"292.3398\"/></a><!--MD5=[09b614a08d8cba4a07c9adeb5e0fee81]\n",
       "class E3--><a href=\"psysml:37011562-c12e-4ce2-bbf9-af5619a300f0\" target=\"_top\" title=\"psysml:37011562-c12e-4ce2-bbf9-af5619a300f0\" xlink:actuate=\"onRequest\" xlink:href=\"psysml:37011562-c12e-4ce2-bbf9-af5619a300f0\" xlink:show=\"new\" xlink:title=\"psysml:37011562-c12e-4ce2-bbf9-af5619a300f0\" xlink:type=\"simple\"><rect fill=\"#FFFFFF\" height=\"45.9375\" id=\"E3\" rx=\"10\" ry=\"10\" style=\"stroke: #383838; stroke-width: 1.5;\" width=\"87\" x=\"571.5\" y=\"321\"/><text fill=\"#000000\" font-family=\"sans-serif\" font-size=\"12\" font-style=\"italic\" lengthAdjust=\"spacingAndGlyphs\" textLength=\"85\" x=\"572.5\" y=\"337.1387\">«occurrence»</text><text fill=\"#000000\" font-family=\"sans-serif\" font-size=\"12\" lengthAdjust=\"spacingAndGlyphs\" textLength=\"61\" x=\"582.5\" y=\"351.1074\">occ1: Occ</text><line style=\"stroke: #383838; stroke-width: 1.5;\" x1=\"572.5\" x2=\"657.5\" y1=\"358.9375\" y2=\"358.9375\"/></a><!--MD5=[ebbe1d658d1005bcc118a6aa81145e00]\n",
       "class E4--><a href=\"psysml:3522e0a2-d0dd-4c95-916a-e9f89fbadd86\" target=\"_top\" title=\"psysml:3522e0a2-d0dd-4c95-916a-e9f89fbadd86\" xlink:actuate=\"onRequest\" xlink:href=\"psysml:3522e0a2-d0dd-4c95-916a-e9f89fbadd86\" xlink:show=\"new\" xlink:title=\"psysml:3522e0a2-d0dd-4c95-916a-e9f89fbadd86\" xlink:type=\"simple\"><rect fill=\"#FFFFFF\" height=\"45.9375\" id=\"E4\" rx=\"10\" ry=\"10\" style=\"stroke: #383838; stroke-width: 1.5;\" width=\"87\" x=\"571.5\" y=\"240\"/><text fill=\"#000000\" font-family=\"sans-serif\" font-size=\"12\" font-style=\"italic\" lengthAdjust=\"spacingAndGlyphs\" textLength=\"85\" x=\"572.5\" y=\"256.1387\">«occurrence»</text><text fill=\"#000000\" font-family=\"sans-serif\" font-size=\"12\" lengthAdjust=\"spacingAndGlyphs\" textLength=\"61\" x=\"582.5\" y=\"270.1074\">occ2: Occ</text><line style=\"stroke: #383838; stroke-width: 1.5;\" x1=\"572.5\" x2=\"657.5\" y1=\"277.9375\" y2=\"277.9375\"/></a><!--MD5=[270fce915f116d4de14055a7c1d9a0f3]\n",
       "class E5--><a href=\"psysml:2ba1b44f-ac88-49ba-a1da-8edc5df2da3a\" target=\"_top\" title=\"psysml:2ba1b44f-ac88-49ba-a1da-8edc5df2da3a\" xlink:actuate=\"onRequest\" xlink:href=\"psysml:2ba1b44f-ac88-49ba-a1da-8edc5df2da3a\" xlink:show=\"new\" xlink:title=\"psysml:2ba1b44f-ac88-49ba-a1da-8edc5df2da3a\" xlink:type=\"simple\"><rect fill=\"#FFFFFF\" height=\"45.9375\" id=\"E5\" rx=\"10\" ry=\"10\" style=\"stroke: #383838; stroke-width: 1.5;\" width=\"212\" x=\"509\" y=\"159\"/><text fill=\"#000000\" font-family=\"sans-serif\" font-size=\"12\" font-style=\"italic\" lengthAdjust=\"spacingAndGlyphs\" textLength=\"210\" x=\"510\" y=\"175.1387\">«individual snapshot occurrence»</text><text fill=\"#000000\" font-family=\"sans-serif\" font-size=\"12\" lengthAdjust=\"spacingAndGlyphs\" textLength=\"34\" x=\"596\" y=\"189.1074\">s: Ind</text><line style=\"stroke: #383838; stroke-width: 1.5;\" x1=\"510\" x2=\"720\" y1=\"196.9375\" y2=\"196.9375\"/></a><!--MD5=[60a26617385b1d2d0262a64233df1f8d]\n",
       "class E6--><a href=\"psysml:aefaf76d-f241-48e8-80ea-b99598299972\" target=\"_top\" title=\"psysml:aefaf76d-f241-48e8-80ea-b99598299972\" xlink:actuate=\"onRequest\" xlink:href=\"psysml:aefaf76d-f241-48e8-80ea-b99598299972\" xlink:show=\"new\" xlink:title=\"psysml:aefaf76d-f241-48e8-80ea-b99598299972\" xlink:type=\"simple\"><rect fill=\"#FFFFFF\" height=\"45.9375\" id=\"E6\" rx=\"10\" ry=\"10\" style=\"stroke: #383838; stroke-width: 1.5;\" width=\"146\" x=\"542\" y=\"78\"/><text fill=\"#000000\" font-family=\"sans-serif\" font-size=\"12\" font-style=\"italic\" lengthAdjust=\"spacingAndGlyphs\" textLength=\"144\" x=\"543\" y=\"94.1387\">«timeslice occurrence»</text><text fill=\"#000000\" font-family=\"sans-serif\" font-size=\"12\" lengthAdjust=\"spacingAndGlyphs\" textLength=\"5\" x=\"610.5\" y=\"108.1074\">t</text><line style=\"stroke: #383838; stroke-width: 1.5;\" x1=\"543\" x2=\"687\" y1=\"115.9375\" y2=\"115.9375\"/></a><!--MD5=[2156ba9850f5573cc1fc38a6a4b2f02b]\n",
       "class E7--><a href=\"psysml:991e81ed-291b-4563-955c-44288cc9fc81\" target=\"_top\" title=\"psysml:991e81ed-291b-4563-955c-44288cc9fc81\" xlink:actuate=\"onRequest\" xlink:href=\"psysml:991e81ed-291b-4563-955c-44288cc9fc81\" xlink:show=\"new\" xlink:title=\"psysml:991e81ed-291b-4563-955c-44288cc9fc81\" xlink:type=\"simple\"><rect fill=\"#FFFFFF\" height=\"45.9375\" id=\"E7\" style=\"stroke: #383838; stroke-width: 1.5;\" width=\"177\" x=\"781\" y=\"159\"/><text fill=\"#000000\" font-family=\"sans-serif\" font-size=\"12\" font-style=\"italic\" lengthAdjust=\"spacingAndGlyphs\" textLength=\"175\" x=\"782\" y=\"175.1387\">«individual occurrence  def»</text><text fill=\"#000000\" font-family=\"sans-serif\" font-size=\"12\" lengthAdjust=\"spacingAndGlyphs\" textLength=\"19\" x=\"860\" y=\"189.1074\">Ind</text><line style=\"stroke: #383838; stroke-width: 1.5;\" x1=\"782\" x2=\"957\" y1=\"196.9375\" y2=\"196.9375\"/></a><!--MD5=[b9389687b975829384b498ac4b7476b2]\n",
       "class E8--><a href=\"psysml:fb7dbc0d-a670-4e6d-a2b6-24a9a70c023a\" target=\"_top\" title=\"psysml:fb7dbc0d-a670-4e6d-a2b6-24a9a70c023a\" xlink:actuate=\"onRequest\" xlink:href=\"psysml:fb7dbc0d-a670-4e6d-a2b6-24a9a70c023a\" xlink:show=\"new\" xlink:title=\"psysml:fb7dbc0d-a670-4e6d-a2b6-24a9a70c023a\" xlink:type=\"simple\"><rect fill=\"#FFFFFF\" height=\"45.9375\" id=\"E8\" rx=\"10\" ry=\"10\" style=\"stroke: #383838; stroke-width: 1.5;\" width=\"150\" x=\"1018\" y=\"199\"/><text fill=\"#000000\" font-family=\"sans-serif\" font-size=\"12\" font-style=\"italic\" lengthAdjust=\"spacingAndGlyphs\" textLength=\"148\" x=\"1019\" y=\"215.1387\">«snapshot occurrence»</text><text fill=\"#000000\" font-family=\"sans-serif\" font-size=\"12\" lengthAdjust=\"spacingAndGlyphs\" textLength=\"15\" x=\"1083.5\" y=\"229.1074\">s2</text><line style=\"stroke: #383838; stroke-width: 1.5;\" x1=\"1019\" x2=\"1167\" y1=\"236.9375\" y2=\"236.9375\"/></a><!--MD5=[fd4143e9d270a159db93a4ea2a975926]\n",
       "class E9--><a href=\"psysml:ae0fd4ea-8dc7-4cb0-a32c-5615a8f756eb\" target=\"_top\" title=\"psysml:ae0fd4ea-8dc7-4cb0-a32c-5615a8f756eb\" xlink:actuate=\"onRequest\" xlink:href=\"psysml:ae0fd4ea-8dc7-4cb0-a32c-5615a8f756eb\" xlink:show=\"new\" xlink:title=\"psysml:ae0fd4ea-8dc7-4cb0-a32c-5615a8f756eb\" xlink:type=\"simple\"><rect fill=\"#FFFFFF\" height=\"45.9375\" id=\"E9\" rx=\"10\" ry=\"10\" style=\"stroke: #383838; stroke-width: 1.5;\" width=\"146\" x=\"1020\" y=\"118\"/><text fill=\"#000000\" font-family=\"sans-serif\" font-size=\"12\" font-style=\"italic\" lengthAdjust=\"spacingAndGlyphs\" textLength=\"144\" x=\"1021\" y=\"134.1387\">«timeslice occurrence»</text><text fill=\"#000000\" font-family=\"sans-serif\" font-size=\"12\" lengthAdjust=\"spacingAndGlyphs\" textLength=\"13\" x=\"1084.5\" y=\"148.1074\">t2</text><line style=\"stroke: #383838; stroke-width: 1.5;\" x1=\"1021\" x2=\"1165\" y1=\"155.9375\" y2=\"155.9375\"/></a><!--MD5=[96f4274e9e20536e775497830990834d]\n",
       "class E10--><a href=\"psysml:90168d9a-6358-4939-88d7-8ec9974b52c6\" target=\"_top\" title=\"psysml:90168d9a-6358-4939-88d7-8ec9974b52c6\" xlink:actuate=\"onRequest\" xlink:href=\"psysml:90168d9a-6358-4939-88d7-8ec9974b52c6\" xlink:show=\"new\" xlink:title=\"psysml:90168d9a-6358-4939-88d7-8ec9974b52c6\" xlink:type=\"simple\"><rect fill=\"#FFFFFF\" height=\"45.9375\" id=\"E10\" rx=\"10\" ry=\"10\" style=\"stroke: #383838; stroke-width: 1.5;\" width=\"149\" x=\"32\" y=\"152\"/><text fill=\"#000000\" font-family=\"sans-serif\" font-size=\"12\" font-style=\"italic\" lengthAdjust=\"spacingAndGlyphs\" textLength=\"147\" x=\"33\" y=\"168.1387\">«individual occurrence»</text><text fill=\"#000000\" font-family=\"sans-serif\" font-size=\"12\" lengthAdjust=\"spacingAndGlyphs\" textLength=\"77\" x=\"66\" y=\"182.1074\">ind: Ind, Occ</text><line style=\"stroke: #383838; stroke-width: 1.5;\" x1=\"33\" x2=\"180\" y1=\"189.9375\" y2=\"189.9375\"/></a><!--MD5=[1dd1bfd58a279cf63c5f349dbc8fc6a1]\n",
       "class E11--><a href=\"psysml:d0eba55f-a402-4b22-88ba-9857d6bd50ac\" target=\"_top\" title=\"psysml:d0eba55f-a402-4b22-88ba-9857d6bd50ac\" xlink:actuate=\"onRequest\" xlink:href=\"psysml:d0eba55f-a402-4b22-88ba-9857d6bd50ac\" xlink:show=\"new\" xlink:title=\"psysml:d0eba55f-a402-4b22-88ba-9857d6bd50ac\" xlink:type=\"simple\"><rect fill=\"#FFFFFF\" height=\"45.9375\" id=\"E11\" rx=\"10\" ry=\"10\" style=\"stroke: #383838; stroke-width: 1.5;\" width=\"150\" x=\"270\" y=\"122\"/><text fill=\"#000000\" font-family=\"sans-serif\" font-size=\"12\" font-style=\"italic\" lengthAdjust=\"spacingAndGlyphs\" textLength=\"148\" x=\"271\" y=\"138.1387\">«snapshot occurrence»</text><text fill=\"#000000\" font-family=\"sans-serif\" font-size=\"12\" lengthAdjust=\"spacingAndGlyphs\" textLength=\"15\" x=\"335.5\" y=\"152.1074\">s3</text><line style=\"stroke: #383838; stroke-width: 1.5;\" x1=\"271\" x2=\"419\" y1=\"159.9375\" y2=\"159.9375\"/></a><!--MD5=[49a0ec8f00dab7302a31f22d0f0fe584]\n",
       "class E12--><a href=\"psysml:0232df4f-93e4-4add-8902-f942e03a0634\" target=\"_top\" title=\"psysml:0232df4f-93e4-4add-8902-f942e03a0634\" xlink:actuate=\"onRequest\" xlink:href=\"psysml:0232df4f-93e4-4add-8902-f942e03a0634\" xlink:show=\"new\" xlink:title=\"psysml:0232df4f-93e4-4add-8902-f942e03a0634\" xlink:type=\"simple\"><rect fill=\"#FFFFFF\" height=\"45.9375\" id=\"E12\" rx=\"10\" ry=\"10\" style=\"stroke: #383838; stroke-width: 1.5;\" width=\"208\" x=\"241\" y=\"41\"/><text fill=\"#000000\" font-family=\"sans-serif\" font-size=\"12\" font-style=\"italic\" lengthAdjust=\"spacingAndGlyphs\" textLength=\"206\" x=\"242\" y=\"57.1387\">«individual timeslice occurrence»</text><text fill=\"#000000\" font-family=\"sans-serif\" font-size=\"12\" lengthAdjust=\"spacingAndGlyphs\" textLength=\"13\" x=\"336.5\" y=\"71.1074\">t3</text><line style=\"stroke: #383838; stroke-width: 1.5;\" x1=\"242\" x2=\"448\" y1=\"78.9375\" y2=\"78.9375\"/></a><!--MD5=[ee3c913d1a06f366521f9ef512b67efe]\n",
       "class E13--><a href=\"psysml:5cbde71f-e2d0-40cd-91ed-92f5bc776eb7\" target=\"_top\" title=\"psysml:5cbde71f-e2d0-40cd-91ed-92f5bc776eb7\" xlink:actuate=\"onRequest\" xlink:href=\"psysml:5cbde71f-e2d0-40cd-91ed-92f5bc776eb7\" xlink:show=\"new\" xlink:title=\"psysml:5cbde71f-e2d0-40cd-91ed-92f5bc776eb7\" xlink:type=\"simple\"><rect fill=\"#FFFFFF\" height=\"45.9375\" id=\"E13\" rx=\"10\" ry=\"10\" style=\"stroke: #383838; stroke-width: 1.5;\" width=\"212\" x=\"509\" y=\"402\"/><text fill=\"#000000\" font-family=\"sans-serif\" font-size=\"12\" font-style=\"italic\" lengthAdjust=\"spacingAndGlyphs\" textLength=\"210\" x=\"510\" y=\"418.1387\">«individual snapshot occurrence»</text><text fill=\"#000000\" font-family=\"sans-serif\" font-size=\"12\" lengthAdjust=\"spacingAndGlyphs\" textLength=\"42\" x=\"592\" y=\"432.1074\">s4: Ind</text><line style=\"stroke: #383838; stroke-width: 1.5;\" x1=\"510\" x2=\"720\" y1=\"439.9375\" y2=\"439.9375\"/></a><!--MD5=[209b3feb70ccb6233bfe1053d122c12c]\n",
       "reverse link E2 to E3--><a href=\"psysml:111e77a4-44f2-45ac-862d-a1e02a1cad26\" target=\"_top\" title=\"psysml:111e77a4-44f2-45ac-862d-a1e02a1cad26\" xlink:actuate=\"onRequest\" xlink:href=\"psysml:111e77a4-44f2-45ac-862d-a1e02a1cad26\" xlink:show=\"new\" xlink:title=\"psysml:111e77a4-44f2-45ac-862d-a1e02a1cad26\" xlink:type=\"simple\"><path d=\"M415.01,306.31 C464.34,320.82 529.17,336.23 571.21,343.1 \" fill=\"none\" id=\"E2&lt;-E3\" style=\"stroke: #383838; stroke-width: 1.0;\"/><polygon fill=\"#FFFFFF\" points=\"402.51,302.54,407.0994,308.1022,413.9988,306.0051,409.4094,300.4429,402.51,302.54\" style=\"stroke: #383838; stroke-width: 1.0;\"/></a><!--MD5=[05d275557350bfb9b23a4ef7222b4c39]\n",
       "link E3 to E2--><a href=\"psysml:0f45e557-8f0e-4df9-b1d8-28bd2526f5a3\" target=\"_top\" title=\"psysml:0f45e557-8f0e-4df9-b1d8-28bd2526f5a3\" xlink:actuate=\"onRequest\" xlink:href=\"psysml:0f45e557-8f0e-4df9-b1d8-28bd2526f5a3\" xlink:show=\"new\" xlink:title=\"psysml:0f45e557-8f0e-4df9-b1d8-28bd2526f5a3\" xlink:type=\"simple\"><path d=\"M571.21,323.25 C531.22,309.9 470.62,294.27 422.34,284.48 \" fill=\"none\" id=\"E3-&gt;E2\" style=\"stroke: #383838; stroke-width: 1.0;\"/><polygon fill=\"#FFFFFF\" points=\"402.51,280.67,422.4891,277.3781,419.8493,291.127,402.51,280.67\" style=\"stroke: #383838; stroke-width: 1.0;\"/><ellipse cx=\"427.7097\" cy=\"280.417\" fill=\"#383838\" rx=\"2\" ry=\"2\" style=\"stroke: #383838; stroke-width: 1.0;\"/><ellipse cx=\"425.8242\" cy=\"290.2376\" fill=\"#383838\" rx=\"2\" ry=\"2\" style=\"stroke: #383838; stroke-width: 1.0;\"/></a><!--MD5=[9618e71518536f8baf3342ff6fdab317]\n",
       "reverse link E2 to E4--><a href=\"psysml:7f5381ff-79d6-4175-8599-1b084d5a38fb\" target=\"_top\" title=\"psysml:7f5381ff-79d6-4175-8599-1b084d5a38fb\" xlink:actuate=\"onRequest\" xlink:href=\"psysml:7f5381ff-79d6-4175-8599-1b084d5a38fb\" xlink:show=\"new\" xlink:title=\"psysml:7f5381ff-79d6-4175-8599-1b084d5a38fb\" xlink:type=\"simple\"><path d=\"M415.64,285.44 C464.89,285.02 529.35,280.85 571.21,275.03 \" fill=\"none\" id=\"E2&lt;-E4\" style=\"stroke: #383838; stroke-width: 1.0;\"/><polygon fill=\"#383838\" points=\"402.51,285.46,408.5188,289.4468,414.51,285.4336,408.5012,281.4468,402.51,285.46\" style=\"stroke: #383838; stroke-width: 1.0;\"/></a><!--MD5=[185131fc0dcab0a4505a2ebe144e961b]\n",
       "link E4 to E2--><a href=\"psysml:9af83ecd-fc65-4272-8374-c2ac75a0337a\" target=\"_top\" title=\"psysml:9af83ecd-fc65-4272-8374-c2ac75a0337a\" xlink:actuate=\"onRequest\" xlink:href=\"psysml:9af83ecd-fc65-4272-8374-c2ac75a0337a\" xlink:show=\"new\" xlink:title=\"psysml:9af83ecd-fc65-4272-8374-c2ac75a0337a\" xlink:type=\"simple\"><path d=\"M571.21,255.19 C531.31,253.92 470.89,256.59 422.67,261.37 \" fill=\"none\" id=\"E4-&gt;E2\" style=\"stroke: #383838; stroke-width: 1.0;\"/><polygon fill=\"#FFFFFF\" points=\"402.51,263.59,420.6308,254.5546,422.1614,268.4707,402.51,263.59\" style=\"stroke: #383838; stroke-width: 1.0;\"/><ellipse cx=\"426.5153\" cy=\"255.9194\" fill=\"#383838\" rx=\"2\" ry=\"2\" style=\"stroke: #383838; stroke-width: 1.0;\"/><ellipse cx=\"427.6086\" cy=\"265.8595\" fill=\"#383838\" rx=\"2\" ry=\"2\" style=\"stroke: #383838; stroke-width: 1.0;\"/></a><!--MD5=[4e1a83fab71cdb913c109063314ae896]\n",
       "reverse link E2 to E5--><a href=\"psysml:648e9e41-ac7c-450e-af70-439d81f3f540\" target=\"_top\" title=\"psysml:648e9e41-ac7c-450e-af70-439d81f3f540\" xlink:actuate=\"onRequest\" xlink:href=\"psysml:648e9e41-ac7c-450e-af70-439d81f3f540\" xlink:show=\"new\" xlink:title=\"psysml:648e9e41-ac7c-450e-af70-439d81f3f540\" xlink:type=\"simple\"><path d=\"M415,253.28 C456.49,238.42 508.93,219.64 549.57,205.08 \" fill=\"none\" id=\"E2&lt;-E5\" style=\"stroke: #383838; stroke-width: 1.0;\"/><polygon fill=\"#383838\" points=\"402.51,257.76,409.5075,259.5022,413.807,253.7131,406.8095,251.9709,402.51,257.76\" style=\"stroke: #383838; stroke-width: 1.0;\"/></a><!--MD5=[ce036f65110ae2351ccce5a81dc2e928]\n",
       "reverse link E2 to E6--><a href=\"psysml:00b8b9a4-593e-406d-b505-212ff2a7c9c1\" target=\"_top\" title=\"psysml:00b8b9a4-593e-406d-b505-212ff2a7c9c1\" xlink:actuate=\"onRequest\" xlink:href=\"psysml:00b8b9a4-593e-406d-b505-212ff2a7c9c1\" xlink:show=\"new\" xlink:title=\"psysml:00b8b9a4-593e-406d-b505-212ff2a7c9c1\" xlink:type=\"simple\"><path d=\"M413.69,239.57 C425.94,231.44 438.22,222.44 449,213 C480.33,185.55 475.1,165.2 509,141 C518.92,133.92 530.26,127.91 541.73,122.87 \" fill=\"none\" id=\"E2&lt;-E6\" style=\"stroke: #383838; stroke-width: 1.0;\"/><polygon fill=\"#383838\" points=\"402.51,246.77,409.7202,246.8821,412.5969,240.2696,405.3866,240.1575,402.51,246.77\" style=\"stroke: #383838; stroke-width: 1.0;\"/></a><!--MD5=[3a9b96bfbf6b6ad89c494e81751bda47]\n",
       "link E5 to E7--><a href=\"psysml:088b8ee7-f1bc-4574-b816-43bcf4f14b77\" target=\"_top\" title=\"psysml:088b8ee7-f1bc-4574-b816-43bcf4f14b77\" xlink:actuate=\"onRequest\" xlink:href=\"psysml:088b8ee7-f1bc-4574-b816-43bcf4f14b77\" xlink:show=\"new\" xlink:title=\"psysml:088b8ee7-f1bc-4574-b816-43bcf4f14b77\" xlink:type=\"simple\"><path d=\"M721.25,182 C734.22,182 747.49,182 760.49,182 \" fill=\"none\" id=\"E5-&gt;E7\" style=\"stroke: #383838; stroke-width: 1.0;\"/><polygon fill=\"#FFFFFF\" points=\"780.63,182,761.63,189,761.63,175,780.63,182\" style=\"stroke: #383838; stroke-width: 1.0;\"/><ellipse cx=\"755.93\" cy=\"187\" fill=\"#383838\" rx=\"2\" ry=\"2\" style=\"stroke: #383838; stroke-width: 1.0;\"/><ellipse cx=\"755.93\" cy=\"177\" fill=\"#383838\" rx=\"2\" ry=\"2\" style=\"stroke: #383838; stroke-width: 1.0;\"/></a><!--MD5=[dc164f5e8a733ab456ef1add180e9e34]\n",
       "reverse link E7 to E8--><a href=\"psysml:c8813ef9-ffa9-4c9d-80a4-dd20f6c80ea5\" target=\"_top\" title=\"psysml:c8813ef9-ffa9-4c9d-80a4-dd20f6c80ea5\" xlink:actuate=\"onRequest\" xlink:href=\"psysml:c8813ef9-ffa9-4c9d-80a4-dd20f6c80ea5\" xlink:show=\"new\" xlink:title=\"psysml:c8813ef9-ffa9-4c9d-80a4-dd20f6c80ea5\" xlink:type=\"simple\"><path d=\"M971.18,200.18 C986.93,203.02 1002.95,205.92 1017.96,208.63 \" fill=\"none\" id=\"E7&lt;-E8\" style=\"stroke: #383838; stroke-width: 1.0;\"/><polygon fill=\"#383838\" points=\"958.04,197.81,963.238,202.8081,969.8508,199.9323,964.6528,194.9342,958.04,197.81\" style=\"stroke: #383838; stroke-width: 1.0;\"/></a><!--MD5=[e4a10ef82d0e328e31cac39a31e58dda]\n",
       "reverse link E7 to E9--><a href=\"psysml:cdca8d7c-6aa5-4fff-9e0e-900e3ba85343\" target=\"_top\" title=\"psysml:cdca8d7c-6aa5-4fff-9e0e-900e3ba85343\" xlink:actuate=\"onRequest\" xlink:href=\"psysml:cdca8d7c-6aa5-4fff-9e0e-900e3ba85343\" xlink:show=\"new\" xlink:title=\"psysml:cdca8d7c-6aa5-4fff-9e0e-900e3ba85343\" xlink:type=\"simple\"><path d=\"M971.09,163.38 C987.48,160.35 1004.17,157.26 1019.71,154.38 \" fill=\"none\" id=\"E7&lt;-E9\" style=\"stroke: #383838; stroke-width: 1.0;\"/><polygon fill=\"#383838\" points=\"958.04,165.8,964.6663,168.6446,969.8407,163.622,963.2144,160.7774,958.04,165.8\" style=\"stroke: #383838; stroke-width: 1.0;\"/></a><!--MD5=[a919e0967d6f3de553dc51b9865a1d6d]\n",
       "link E10 to E7--><a href=\"psysml:43f26010-ca40-42d6-8df0-e4847d82fc63\" target=\"_top\" title=\"psysml:43f26010-ca40-42d6-8df0-e4847d82fc63\" xlink:actuate=\"onRequest\" xlink:href=\"psysml:43f26010-ca40-42d6-8df0-e4847d82fc63\" xlink:show=\"new\" xlink:title=\"psysml:43f26010-ca40-42d6-8df0-e4847d82fc63\" xlink:type=\"simple\"><path d=\"M176.21,198.02 C249.67,218.13 366.67,236.81 449,185 C501.16,152.18 456.84,92.82 509,60 C588.75,9.82 632.35,28.09 721,60 C767.04,76.57 808.91,114.44 836.18,143.62 \" fill=\"none\" id=\"E10-&gt;E7\" style=\"stroke: #383838; stroke-width: 1.0;\"/><polygon fill=\"#FFFFFF\" points=\"849.76,158.75,831.8607,149.2835,842.2807,139.9335,849.76,158.75\" style=\"stroke: #383838; stroke-width: 1.0;\"/><ellipse cx=\"829.5424\" cy=\"143.7054\" fill=\"#383838\" rx=\"2\" ry=\"2\" style=\"stroke: #383838; stroke-width: 1.0;\"/><ellipse cx=\"836.9853\" cy=\"137.0268\" fill=\"#383838\" rx=\"2\" ry=\"2\" style=\"stroke: #383838; stroke-width: 1.0;\"/></a><!--MD5=[0f36bececdf0dff6e600d6f64214b0f1]\n",
       "link E10 to E2--><a href=\"psysml:ac89f7fb-b091-4bc7-aaea-6377fc157ffe\" target=\"_top\" title=\"psysml:ac89f7fb-b091-4bc7-aaea-6377fc157ffe\" xlink:actuate=\"onRequest\" xlink:href=\"psysml:ac89f7fb-b091-4bc7-aaea-6377fc157ffe\" xlink:show=\"new\" xlink:title=\"psysml:ac89f7fb-b091-4bc7-aaea-6377fc157ffe\" xlink:type=\"simple\"><path d=\"M160.58,198.12 C192.55,212.04 233.78,230 269.04,245.35 \" fill=\"none\" id=\"E10-&gt;E2\" style=\"stroke: #383838; stroke-width: 1.0;\"/><polygon fill=\"#FFFFFF\" points=\"287.39,253.34,267.1751,252.1739,272.7635,239.3376,287.39,253.34\" style=\"stroke: #383838; stroke-width: 1.0;\"/><ellipse cx=\"262.7473\" cy=\"248.0649\" fill=\"#383838\" rx=\"2\" ry=\"2\" style=\"stroke: #383838; stroke-width: 1.0;\"/><ellipse cx=\"266.739\" cy=\"238.8961\" fill=\"#383838\" rx=\"2\" ry=\"2\" style=\"stroke: #383838; stroke-width: 1.0;\"/></a><!--MD5=[de308be4a2431766a05a907a031c07fc]\n",
       "reverse link E10 to E11--><a href=\"psysml:75c081c5-05e2-401c-b103-d900689a3a49\" target=\"_top\" title=\"psysml:75c081c5-05e2-401c-b103-d900689a3a49\" xlink:actuate=\"onRequest\" xlink:href=\"psysml:75c081c5-05e2-401c-b103-d900689a3a49\" xlink:show=\"new\" xlink:title=\"psysml:75c081c5-05e2-401c-b103-d900689a3a49\" xlink:type=\"simple\"><path d=\"M194.17,164.01 C218.95,160.86 245.73,157.47 269.7,154.43 \" fill=\"none\" id=\"E10&lt;-E11\" style=\"stroke: #383838; stroke-width: 1.0;\"/><polygon fill=\"#383838\" points=\"181.03,165.67,187.4838,168.887,192.9355,164.167,186.4817,160.95,181.03,165.67\" style=\"stroke: #383838; stroke-width: 1.0;\"/></a><!--MD5=[1d54f998c6d5961a1a9184be73a7eb6c]\n",
       "reverse link E10 to E12--><a href=\"psysml:54130436-8b1f-4706-a610-d99b2d4cb5d4\" target=\"_top\" title=\"psysml:54130436-8b1f-4706-a610-d99b2d4cb5d4\" xlink:actuate=\"onRequest\" xlink:href=\"psysml:54130436-8b1f-4706-a610-d99b2d4cb5d4\" xlink:show=\"new\" xlink:title=\"psysml:54130436-8b1f-4706-a610-d99b2d4cb5d4\" xlink:type=\"simple\"><path d=\"M159.31,145.61 C183.75,132.22 213.52,116.59 241,104 C253.82,98.13 267.77,92.33 281.14,87.05 \" fill=\"none\" id=\"E10&lt;-E12\" style=\"stroke: #383838; stroke-width: 1.0;\"/><polygon fill=\"#383838\" points=\"147.77,151.98,154.9559,152.5819,158.2754,146.1803,151.0895,145.5783,147.77,151.98\" style=\"stroke: #383838; stroke-width: 1.0;\"/></a><!--MD5=[4a48077df6499cfcd20b62e8f5f37904]\n",
       "link E13 to E7--><a href=\"psysml:85f16706-e1b7-404d-9ee5-57d420bfb7f2\" target=\"_top\" title=\"psysml:85f16706-e1b7-404d-9ee5-57d420bfb7f2\" xlink:actuate=\"onRequest\" xlink:href=\"psysml:85f16706-e1b7-404d-9ee5-57d420bfb7f2\" xlink:show=\"new\" xlink:title=\"psysml:85f16706-e1b7-404d-9ee5-57d420bfb7f2\" xlink:type=\"simple\"><path d=\"M690.86,401.92 C701.52,396.92 711.93,390.98 721,384 C778.07,340.05 823.11,268.25 847.75,223.14 \" fill=\"none\" id=\"E13-&gt;E7\" style=\"stroke: #383838; stroke-width: 1.0;\"/><polygon fill=\"#FFFFFF\" points=\"857.18,205.32,854.4752,225.387,842.1026,218.8356,857.18,205.32\" style=\"stroke: #383838; stroke-width: 1.0;\"/><ellipse cx=\"850.0403\" cy=\"229.4885\" fill=\"#383838\" rx=\"2\" ry=\"2\" style=\"stroke: #383838; stroke-width: 1.0;\"/><ellipse cx=\"841.2028\" cy=\"224.8089\" fill=\"#383838\" rx=\"2\" ry=\"2\" style=\"stroke: #383838; stroke-width: 1.0;\"/></a><!--MD5=[4990d97433c492509d85ab7c90ad4dc9]\n",
       "@startuml\r\n",
       "left to right direction\r\n",
       "skinparam monochrome true\r\n",
       "skinparam classbackgroundcolor white\r\n",
       "skinparam shadowing false\r\n",
       "skinparam wrapWidth 300\r\n",
       "hide circle\r\n",
       "\r\n",
       "package \"OccurrenceTest\" as E1  [[psysml:53f1d42d-2686-4f4b-950f-b84b40bc19b2 ]]  {\r\n",
       "comp def \"Occ\" as E2  <<(T,blue) occurrence  def>> [[psysml:77ba500d-77fd-484e-b411-8833010da35e ]] {\r\n",
       "- - attributes - -\r\n",
       "a\r\n",
       "}\r\n",
       "comp usage \"occ1: Occ \" as E3  <<(T,blue) occurrence>> [[psysml:37011562-c12e-4ce2-bbf9-af5619a300f0 ]] {\r\n",
       "}\r\n",
       "comp usage \"occ2: Occ \" as E4  <<(T,blue) occurrence>> [[psysml:3522e0a2-d0dd-4c95-916a-e9f89fbadd86 ]] {\r\n",
       "}\r\n",
       "comp usage \"s: Ind \" as E5  <<(T,blue) individual snapshot occurrence>> [[psysml:2ba1b44f-ac88-49ba-a1da-8edc5df2da3a ]] {\r\n",
       "}\r\n",
       "comp usage \"t \" as E6  <<(T,blue) timeslice occurrence>> [[psysml:aefaf76d-f241-48e8-80ea-b99598299972 ]] {\r\n",
       "}\r\n",
       "comp def \"Ind\" as E7  <<(T,blue) individual occurrence  def>> [[psysml:991e81ed-291b-4563-955c-44288cc9fc81 ]] {\r\n",
       "}\r\n",
       "comp usage \"s2 \" as E8  <<(T,blue) snapshot occurrence>> [[psysml:fb7dbc0d-a670-4e6d-a2b6-24a9a70c023a ]] {\r\n",
       "}\r\n",
       "comp usage \"t2 \" as E9  <<(T,blue) timeslice occurrence>> [[psysml:ae0fd4ea-8dc7-4cb0-a32c-5615a8f756eb ]] {\r\n",
       "}\r\n",
       "comp usage \"ind: Ind, Occ \" as E10  <<(T,blue) individual occurrence>> [[psysml:90168d9a-6358-4939-88d7-8ec9974b52c6 ]] {\r\n",
       "}\r\n",
       "comp usage \"s3 \" as E11  <<(T,blue) snapshot occurrence>> [[psysml:d0eba55f-a402-4b22-88ba-9857d6bd50ac ]] {\r\n",
       "}\r\n",
       "comp usage \"t3 \" as E12  <<(T,blue) individual timeslice occurrence>> [[psysml:0232df4f-93e4-4add-8902-f942e03a0634 ]] {\r\n",
       "}\r\n",
       "comp usage \"s4: Ind \" as E13  <<(T,blue) individual snapshot occurrence>> [[psysml:5cbde71f-e2d0-40cd-91ed-92f5bc776eb7 ]] {\r\n",
       "}\r\n",
       "}\r\n",
       "E2 o- - E3 [[psysml:111e77a4-44f2-45ac-862d-a1e02a1cad26 ]] \r\n",
       "E3 - -:|> E2 [[psysml:0f45e557-8f0e-4df9-b1d8-28bd2526f5a3 ]] \r\n",
       "E2 *- - E4 [[psysml:7f5381ff-79d6-4175-8599-1b084d5a38fb ]] \r\n",
       "E4 - -:|> E2 [[psysml:9af83ecd-fc65-4272-8374-c2ac75a0337a ]] \r\n",
       "E2 *- - E5 [[psysml:648e9e41-ac7c-450e-af70-439d81f3f540 ]] \r\n",
       "E2 *- - E6 [[psysml:00b8b9a4-593e-406d-b505-212ff2a7c9c1 ]] \r\n",
       "E5 - -:|> E7 [[psysml:088b8ee7-f1bc-4574-b816-43bcf4f14b77 ]] \r\n",
       "E7 *- - E8 [[psysml:c8813ef9-ffa9-4c9d-80a4-dd20f6c80ea5 ]] \r\n",
       "E7 *- - E9 [[psysml:cdca8d7c-6aa5-4fff-9e0e-900e3ba85343 ]] \r\n",
       "E10 - -:|> E7 [[psysml:43f26010-ca40-42d6-8df0-e4847d82fc63 ]] \r\n",
       "E10 - -:|> E2 [[psysml:ac89f7fb-b091-4bc7-aaea-6377fc157ffe ]] \r\n",
       "E10 *- - E11 [[psysml:75c081c5-05e2-401c-b103-d900689a3a49 ]] \r\n",
       "E10 *- - E12 [[psysml:54130436-8b1f-4706-a610-d99b2d4cb5d4 ]] \r\n",
       "E13 - -:|> E7 [[psysml:85f16706-e1b7-404d-9ee5-57d420bfb7f2 ]] \r\n",
       "@enduml\r\n",
       "\n",
       "PlantUML version 1.2020.13(Sat Jun 13 12:26:38 UTC 2020)\n",
       "(EPL source distribution)\n",
       "Java Runtime: OpenJDK Runtime Environment\n",
       "JVM: OpenJDK 64-Bit Server VM\n",
       "Default Encoding: UTF-8\n",
       "Language: en\n",
       "Country: null\n",
       "--></g></svg>"
      ]
     },
     "execution_count": 22,
     "metadata": {},
     "output_type": "execute_result"
    }
   ],
   "source": [
    "%viz --style=\"LR\" --view=\"MIXED\" \"OccurrenceTest\""
   ]
  },
  {
   "cell_type": "code",
   "execution_count": 23,
   "id": "369dd8bc",
   "metadata": {
    "execution": {
     "iopub.execute_input": "2022-07-23T10:52:32.165909Z",
     "iopub.status.busy": "2022-07-23T10:52:32.165390Z",
     "iopub.status.idle": "2022-07-23T10:52:32.212338Z",
     "shell.execute_reply": "2022-07-23T10:52:32.210410Z"
    }
   },
   "outputs": [
    {
     "data": {
      "image/svg+xml": [
       "<?xml version=\"1.0\" encoding=\"UTF-8\" standalone=\"no\"?><svg xmlns=\"http://www.w3.org/2000/svg\" xmlns:xlink=\"http://www.w3.org/1999/xlink\" contentScriptType=\"application/ecmascript\" contentStyleType=\"text/css\" height=\"569px\" preserveAspectRatio=\"none\" style=\"width:1009px;height:569px;\" version=\"1.1\" viewBox=\"0 0 1009 569\" width=\"1009px\" zoomAndPan=\"magnify\"><defs><filter height=\"300%\" id=\"fsxrkcce9nte4\" width=\"300%\" x=\"-1\" y=\"-1\"><feGaussianBlur result=\"blurOut\" stdDeviation=\"2.0\"/><feColorMatrix in=\"blurOut\" result=\"blurOut2\" type=\"matrix\" values=\"0 0 0 0 0 0 0 0 0 0 0 0 0 0 0 0 0 0 .4 0\"/><feOffset dx=\"4.0\" dy=\"4.0\" in=\"blurOut2\" result=\"blurOut3\"/><feBlend in=\"SourceGraphic\" in2=\"blurOut3\" mode=\"normal\"/></filter></defs><g><!--MD5=[fbc87193dbaf4d95561dea2c320d4a47]\n",
       "cluster E1--><a href=\"psysml:53f1d42d-2686-4f4b-950f-b84b40bc19b2\" target=\"_top\" title=\"psysml:53f1d42d-2686-4f4b-950f-b84b40bc19b2\" xlink:actuate=\"onRequest\" xlink:href=\"psysml:53f1d42d-2686-4f4b-950f-b84b40bc19b2\" xlink:show=\"new\" xlink:title=\"psysml:53f1d42d-2686-4f4b-950f-b84b40bc19b2\" xlink:type=\"simple\"><polygon fill=\"#FFFFFF\" filter=\"url(#fsxrkcce9nte4)\" points=\"16,6,134,6,141,28.2969,970,28.2969,970,557,16,557,16,6\" style=\"stroke: #000000; stroke-width: 1.5;\"/><line style=\"stroke: #000000; stroke-width: 1.5;\" x1=\"16\" x2=\"141\" y1=\"28.2969\" y2=\"28.2969\"/><text fill=\"#000000\" font-family=\"sans-serif\" font-size=\"14\" font-weight=\"bold\" lengthAdjust=\"spacingAndGlyphs\" textLength=\"112\" x=\"20\" y=\"20.9951\">OccurrenceTest</text></a><!--MD5=[b4997ac47864f28c2f74865a473b2911]\n",
       "class E2--><a href=\"psysml:77ba500d-77fd-484e-b411-8833010da35e\" target=\"_top\" title=\"psysml:77ba500d-77fd-484e-b411-8833010da35e\" xlink:actuate=\"onRequest\" xlink:href=\"psysml:77ba500d-77fd-484e-b411-8833010da35e\" xlink:show=\"new\" xlink:title=\"psysml:77ba500d-77fd-484e-b411-8833010da35e\" xlink:type=\"simple\"><rect fill=\"#FEFECE\" filter=\"url(#fsxrkcce9nte4)\" height=\"75.5469\" id=\"E2\" style=\"stroke: #A80036; stroke-width: 1.5;\" width=\"115\" x=\"373.5\" y=\"147\"/><text fill=\"#000000\" font-family=\"sans-serif\" font-size=\"12\" font-style=\"italic\" lengthAdjust=\"spacingAndGlyphs\" textLength=\"113\" x=\"374.5\" y=\"163.1387\">«occurrence  def»</text><text fill=\"#000000\" font-family=\"sans-serif\" font-size=\"12\" lengthAdjust=\"spacingAndGlyphs\" textLength=\"23\" x=\"419.5\" y=\"177.1074\">Occ</text><line style=\"stroke: #A80036; stroke-width: 1.5;\" x1=\"374.5\" x2=\"487.5\" y1=\"184.9375\" y2=\"184.9375\"/><text fill=\"#000000\" font-family=\"sans-serif\" font-size=\"11\" lengthAdjust=\"spacingAndGlyphs\" textLength=\"7\" x=\"379.5\" y=\"215.9526\">a</text><line style=\"stroke: #A80036; stroke-width: 1.0;\" x1=\"374.5\" x2=\"403.5\" y1=\"199.3398\" y2=\"199.3398\"/><text fill=\"#000000\" font-family=\"sans-serif\" font-size=\"11\" lengthAdjust=\"spacingAndGlyphs\" textLength=\"55\" x=\"403.5\" y=\"202.6479\">attributes</text><line style=\"stroke: #A80036; stroke-width: 1.0;\" x1=\"458.5\" x2=\"487.5\" y1=\"199.3398\" y2=\"199.3398\"/></a><!--MD5=[09b614a08d8cba4a07c9adeb5e0fee81]\n",
       "class E3--><a href=\"psysml:37011562-c12e-4ce2-bbf9-af5619a300f0\" target=\"_top\" title=\"psysml:37011562-c12e-4ce2-bbf9-af5619a300f0\" xlink:actuate=\"onRequest\" xlink:href=\"psysml:37011562-c12e-4ce2-bbf9-af5619a300f0\" xlink:show=\"new\" xlink:title=\"psysml:37011562-c12e-4ce2-bbf9-af5619a300f0\" xlink:type=\"simple\"><rect fill=\"#FEFECE\" filter=\"url(#fsxrkcce9nte4)\" height=\"45.9375\" id=\"E3\" rx=\"10\" ry=\"10\" style=\"stroke: #A80036; stroke-width: 1.5;\" width=\"87\" x=\"279.5\" y=\"283\"/><text fill=\"#000000\" font-family=\"sans-serif\" font-size=\"12\" font-style=\"italic\" lengthAdjust=\"spacingAndGlyphs\" textLength=\"85\" x=\"280.5\" y=\"299.1387\">«occurrence»</text><text fill=\"#000000\" font-family=\"sans-serif\" font-size=\"12\" lengthAdjust=\"spacingAndGlyphs\" textLength=\"61\" x=\"290.5\" y=\"313.1074\">occ1: Occ</text><line style=\"stroke: #A80036; stroke-width: 1.5;\" x1=\"280.5\" x2=\"365.5\" y1=\"320.9375\" y2=\"320.9375\"/></a><!--MD5=[ebbe1d658d1005bcc118a6aa81145e00]\n",
       "class E4--><a href=\"psysml:3522e0a2-d0dd-4c95-916a-e9f89fbadd86\" target=\"_top\" title=\"psysml:3522e0a2-d0dd-4c95-916a-e9f89fbadd86\" xlink:actuate=\"onRequest\" xlink:href=\"psysml:3522e0a2-d0dd-4c95-916a-e9f89fbadd86\" xlink:show=\"new\" xlink:title=\"psysml:3522e0a2-d0dd-4c95-916a-e9f89fbadd86\" xlink:type=\"simple\"><rect fill=\"#FEFECE\" filter=\"url(#fsxrkcce9nte4)\" height=\"45.9375\" id=\"E4\" rx=\"10\" ry=\"10\" style=\"stroke: #A80036; stroke-width: 1.5;\" width=\"87\" x=\"401.5\" y=\"283\"/><text fill=\"#000000\" font-family=\"sans-serif\" font-size=\"12\" font-style=\"italic\" lengthAdjust=\"spacingAndGlyphs\" textLength=\"85\" x=\"402.5\" y=\"299.1387\">«occurrence»</text><text fill=\"#000000\" font-family=\"sans-serif\" font-size=\"12\" lengthAdjust=\"spacingAndGlyphs\" textLength=\"61\" x=\"412.5\" y=\"313.1074\">occ2: Occ</text><line style=\"stroke: #A80036; stroke-width: 1.5;\" x1=\"402.5\" x2=\"487.5\" y1=\"320.9375\" y2=\"320.9375\"/></a><!--MD5=[270fce915f116d4de14055a7c1d9a0f3]\n",
       "class E5--><a href=\"psysml:2ba1b44f-ac88-49ba-a1da-8edc5df2da3a\" target=\"_top\" title=\"psysml:2ba1b44f-ac88-49ba-a1da-8edc5df2da3a\" xlink:actuate=\"onRequest\" xlink:href=\"psysml:2ba1b44f-ac88-49ba-a1da-8edc5df2da3a\" xlink:show=\"new\" xlink:title=\"psysml:2ba1b44f-ac88-49ba-a1da-8edc5df2da3a\" xlink:type=\"simple\"><rect fill=\"#FEFECE\" filter=\"url(#fsxrkcce9nte4)\" height=\"45.9375\" id=\"E5\" rx=\"10\" ry=\"10\" style=\"stroke: #A80036; stroke-width: 1.5;\" width=\"212\" x=\"524\" y=\"283\"/><text fill=\"#000000\" font-family=\"sans-serif\" font-size=\"12\" font-style=\"italic\" lengthAdjust=\"spacingAndGlyphs\" textLength=\"210\" x=\"525\" y=\"299.1387\">«individual snapshot occurrence»</text><text fill=\"#000000\" font-family=\"sans-serif\" font-size=\"12\" lengthAdjust=\"spacingAndGlyphs\" textLength=\"34\" x=\"611\" y=\"313.1074\">s: Ind</text><line style=\"stroke: #A80036; stroke-width: 1.5;\" x1=\"525\" x2=\"735\" y1=\"320.9375\" y2=\"320.9375\"/></a><!--MD5=[60a26617385b1d2d0262a64233df1f8d]\n",
       "class E6--><a href=\"psysml:aefaf76d-f241-48e8-80ea-b99598299972\" target=\"_top\" title=\"psysml:aefaf76d-f241-48e8-80ea-b99598299972\" xlink:actuate=\"onRequest\" xlink:href=\"psysml:aefaf76d-f241-48e8-80ea-b99598299972\" xlink:show=\"new\" xlink:title=\"psysml:aefaf76d-f241-48e8-80ea-b99598299972\" xlink:type=\"simple\"><rect fill=\"#FEFECE\" filter=\"url(#fsxrkcce9nte4)\" height=\"45.9375\" id=\"E6\" rx=\"10\" ry=\"10\" style=\"stroke: #A80036; stroke-width: 1.5;\" width=\"146\" x=\"771\" y=\"283\"/><text fill=\"#000000\" font-family=\"sans-serif\" font-size=\"12\" font-style=\"italic\" lengthAdjust=\"spacingAndGlyphs\" textLength=\"144\" x=\"772\" y=\"299.1387\">«timeslice occurrence»</text><text fill=\"#000000\" font-family=\"sans-serif\" font-size=\"12\" lengthAdjust=\"spacingAndGlyphs\" textLength=\"5\" x=\"839.5\" y=\"313.1074\">t</text><line style=\"stroke: #A80036; stroke-width: 1.5;\" x1=\"772\" x2=\"916\" y1=\"320.9375\" y2=\"320.9375\"/></a><!--MD5=[2156ba9850f5573cc1fc38a6a4b2f02b]\n",
       "class E7--><a href=\"psysml:991e81ed-291b-4563-955c-44288cc9fc81\" target=\"_top\" title=\"psysml:991e81ed-291b-4563-955c-44288cc9fc81\" xlink:actuate=\"onRequest\" xlink:href=\"psysml:991e81ed-291b-4563-955c-44288cc9fc81\" xlink:show=\"new\" xlink:title=\"psysml:991e81ed-291b-4563-955c-44288cc9fc81\" xlink:type=\"simple\"><rect fill=\"#FEFECE\" filter=\"url(#fsxrkcce9nte4)\" height=\"45.9375\" id=\"E7\" style=\"stroke: #A80036; stroke-width: 1.5;\" width=\"177\" x=\"541.5\" y=\"389\"/><text fill=\"#000000\" font-family=\"sans-serif\" font-size=\"12\" font-style=\"italic\" lengthAdjust=\"spacingAndGlyphs\" textLength=\"175\" x=\"542.5\" y=\"405.1387\">«individual occurrence  def»</text><text fill=\"#000000\" font-family=\"sans-serif\" font-size=\"12\" lengthAdjust=\"spacingAndGlyphs\" textLength=\"19\" x=\"620.5\" y=\"419.1074\">Ind</text><line style=\"stroke: #A80036; stroke-width: 1.5;\" x1=\"542.5\" x2=\"717.5\" y1=\"426.9375\" y2=\"426.9375\"/></a><!--MD5=[b9389687b975829384b498ac4b7476b2]\n",
       "class E8--><a href=\"psysml:fb7dbc0d-a670-4e6d-a2b6-24a9a70c023a\" target=\"_top\" title=\"psysml:fb7dbc0d-a670-4e6d-a2b6-24a9a70c023a\" xlink:actuate=\"onRequest\" xlink:href=\"psysml:fb7dbc0d-a670-4e6d-a2b6-24a9a70c023a\" xlink:show=\"new\" xlink:title=\"psysml:fb7dbc0d-a670-4e6d-a2b6-24a9a70c023a\" xlink:type=\"simple\"><rect fill=\"#FEFECE\" filter=\"url(#fsxrkcce9nte4)\" height=\"45.9375\" id=\"E8\" rx=\"10\" ry=\"10\" style=\"stroke: #A80036; stroke-width: 1.5;\" width=\"150\" x=\"463\" y=\"495\"/><text fill=\"#000000\" font-family=\"sans-serif\" font-size=\"12\" font-style=\"italic\" lengthAdjust=\"spacingAndGlyphs\" textLength=\"148\" x=\"464\" y=\"511.1387\">«snapshot occurrence»</text><text fill=\"#000000\" font-family=\"sans-serif\" font-size=\"12\" lengthAdjust=\"spacingAndGlyphs\" textLength=\"15\" x=\"528.5\" y=\"525.1074\">s2</text><line style=\"stroke: #A80036; stroke-width: 1.5;\" x1=\"464\" x2=\"612\" y1=\"532.9375\" y2=\"532.9375\"/></a><!--MD5=[fd4143e9d270a159db93a4ea2a975926]\n",
       "class E9--><a href=\"psysml:ae0fd4ea-8dc7-4cb0-a32c-5615a8f756eb\" target=\"_top\" title=\"psysml:ae0fd4ea-8dc7-4cb0-a32c-5615a8f756eb\" xlink:actuate=\"onRequest\" xlink:href=\"psysml:ae0fd4ea-8dc7-4cb0-a32c-5615a8f756eb\" xlink:show=\"new\" xlink:title=\"psysml:ae0fd4ea-8dc7-4cb0-a32c-5615a8f756eb\" xlink:type=\"simple\"><rect fill=\"#FEFECE\" filter=\"url(#fsxrkcce9nte4)\" height=\"45.9375\" id=\"E9\" rx=\"10\" ry=\"10\" style=\"stroke: #A80036; stroke-width: 1.5;\" width=\"146\" x=\"648\" y=\"495\"/><text fill=\"#000000\" font-family=\"sans-serif\" font-size=\"12\" font-style=\"italic\" lengthAdjust=\"spacingAndGlyphs\" textLength=\"144\" x=\"649\" y=\"511.1387\">«timeslice occurrence»</text><text fill=\"#000000\" font-family=\"sans-serif\" font-size=\"12\" lengthAdjust=\"spacingAndGlyphs\" textLength=\"13\" x=\"712.5\" y=\"525.1074\">t2</text><line style=\"stroke: #A80036; stroke-width: 1.5;\" x1=\"649\" x2=\"793\" y1=\"532.9375\" y2=\"532.9375\"/></a><!--MD5=[96f4274e9e20536e775497830990834d]\n",
       "class E10--><a href=\"psysml:90168d9a-6358-4939-88d7-8ec9974b52c6\" target=\"_top\" title=\"psysml:90168d9a-6358-4939-88d7-8ec9974b52c6\" xlink:actuate=\"onRequest\" xlink:href=\"psysml:90168d9a-6358-4939-88d7-8ec9974b52c6\" xlink:show=\"new\" xlink:title=\"psysml:90168d9a-6358-4939-88d7-8ec9974b52c6\" xlink:type=\"simple\"><rect fill=\"#FEFECE\" filter=\"url(#fsxrkcce9nte4)\" height=\"45.9375\" id=\"E10\" rx=\"10\" ry=\"10\" style=\"stroke: #A80036; stroke-width: 1.5;\" width=\"149\" x=\"505.5\" y=\"41\"/><text fill=\"#000000\" font-family=\"sans-serif\" font-size=\"12\" font-style=\"italic\" lengthAdjust=\"spacingAndGlyphs\" textLength=\"147\" x=\"506.5\" y=\"57.1387\">«individual occurrence»</text><text fill=\"#000000\" font-family=\"sans-serif\" font-size=\"12\" lengthAdjust=\"spacingAndGlyphs\" textLength=\"77\" x=\"539.5\" y=\"71.1074\">ind: Ind, Occ</text><line style=\"stroke: #A80036; stroke-width: 1.5;\" x1=\"506.5\" x2=\"653.5\" y1=\"78.9375\" y2=\"78.9375\"/></a><!--MD5=[1dd1bfd58a279cf63c5f349dbc8fc6a1]\n",
       "class E11--><a href=\"psysml:d0eba55f-a402-4b22-88ba-9857d6bd50ac\" target=\"_top\" title=\"psysml:d0eba55f-a402-4b22-88ba-9857d6bd50ac\" xlink:actuate=\"onRequest\" xlink:href=\"psysml:d0eba55f-a402-4b22-88ba-9857d6bd50ac\" xlink:show=\"new\" xlink:title=\"psysml:d0eba55f-a402-4b22-88ba-9857d6bd50ac\" xlink:type=\"simple\"><rect fill=\"#FEFECE\" filter=\"url(#fsxrkcce9nte4)\" height=\"45.9375\" id=\"E11\" rx=\"10\" ry=\"10\" style=\"stroke: #A80036; stroke-width: 1.5;\" width=\"150\" x=\"561\" y=\"162\"/><text fill=\"#000000\" font-family=\"sans-serif\" font-size=\"12\" font-style=\"italic\" lengthAdjust=\"spacingAndGlyphs\" textLength=\"148\" x=\"562\" y=\"178.1387\">«snapshot occurrence»</text><text fill=\"#000000\" font-family=\"sans-serif\" font-size=\"12\" lengthAdjust=\"spacingAndGlyphs\" textLength=\"15\" x=\"626.5\" y=\"192.1074\">s3</text><line style=\"stroke: #A80036; stroke-width: 1.5;\" x1=\"562\" x2=\"710\" y1=\"199.9375\" y2=\"199.9375\"/></a><!--MD5=[49a0ec8f00dab7302a31f22d0f0fe584]\n",
       "class E12--><a href=\"psysml:0232df4f-93e4-4add-8902-f942e03a0634\" target=\"_top\" title=\"psysml:0232df4f-93e4-4add-8902-f942e03a0634\" xlink:actuate=\"onRequest\" xlink:href=\"psysml:0232df4f-93e4-4add-8902-f942e03a0634\" xlink:show=\"new\" xlink:title=\"psysml:0232df4f-93e4-4add-8902-f942e03a0634\" xlink:type=\"simple\"><rect fill=\"#FEFECE\" filter=\"url(#fsxrkcce9nte4)\" height=\"45.9375\" id=\"E12\" rx=\"10\" ry=\"10\" style=\"stroke: #A80036; stroke-width: 1.5;\" width=\"208\" x=\"746\" y=\"162\"/><text fill=\"#000000\" font-family=\"sans-serif\" font-size=\"12\" font-style=\"italic\" lengthAdjust=\"spacingAndGlyphs\" textLength=\"206\" x=\"747\" y=\"178.1387\">«individual timeslice occurrence»</text><text fill=\"#000000\" font-family=\"sans-serif\" font-size=\"12\" lengthAdjust=\"spacingAndGlyphs\" textLength=\"13\" x=\"841.5\" y=\"192.1074\">t3</text><line style=\"stroke: #A80036; stroke-width: 1.5;\" x1=\"747\" x2=\"953\" y1=\"199.9375\" y2=\"199.9375\"/></a><!--MD5=[ee3c913d1a06f366521f9ef512b67efe]\n",
       "class E13--><a href=\"psysml:5cbde71f-e2d0-40cd-91ed-92f5bc776eb7\" target=\"_top\" title=\"psysml:5cbde71f-e2d0-40cd-91ed-92f5bc776eb7\" xlink:actuate=\"onRequest\" xlink:href=\"psysml:5cbde71f-e2d0-40cd-91ed-92f5bc776eb7\" xlink:show=\"new\" xlink:title=\"psysml:5cbde71f-e2d0-40cd-91ed-92f5bc776eb7\" xlink:type=\"simple\"><rect fill=\"#FEFECE\" filter=\"url(#fsxrkcce9nte4)\" height=\"45.9375\" id=\"E13\" rx=\"10\" ry=\"10\" style=\"stroke: #A80036; stroke-width: 1.5;\" width=\"212\" x=\"32\" y=\"283\"/><text fill=\"#000000\" font-family=\"sans-serif\" font-size=\"12\" font-style=\"italic\" lengthAdjust=\"spacingAndGlyphs\" textLength=\"210\" x=\"33\" y=\"299.1387\">«individual snapshot occurrence»</text><text fill=\"#000000\" font-family=\"sans-serif\" font-size=\"12\" lengthAdjust=\"spacingAndGlyphs\" textLength=\"42\" x=\"115\" y=\"313.1074\">s4: Ind</text><line style=\"stroke: #A80036; stroke-width: 1.5;\" x1=\"33\" x2=\"243\" y1=\"320.9375\" y2=\"320.9375\"/></a><!--MD5=[209b3feb70ccb6233bfe1053d122c12c]\n",
       "reverse link E2 to E3--><a href=\"psysml:111e77a4-44f2-45ac-862d-a1e02a1cad26\" target=\"_top\" title=\"psysml:111e77a4-44f2-45ac-862d-a1e02a1cad26\" xlink:actuate=\"onRequest\" xlink:href=\"psysml:111e77a4-44f2-45ac-862d-a1e02a1cad26\" xlink:show=\"new\" xlink:title=\"psysml:111e77a4-44f2-45ac-862d-a1e02a1cad26\" xlink:type=\"simple\"><path d=\"M376.37,232.45 C359.85,249.83 343.43,268.76 332.86,282.93 \" fill=\"none\" id=\"E2&lt;-E3\" style=\"stroke: #A80036; stroke-width: 1.0;\"/><polygon fill=\"#FFFFFF\" points=\"385.52,223,378.4729,224.5294,377.1743,231.6226,384.2213,230.0932,385.52,223\" style=\"stroke: #A80036; stroke-width: 1.0;\"/></a><!--MD5=[05d275557350bfb9b23a4ef7222b4c39]\n",
       "link E3 to E2--><a href=\"psysml:0f45e557-8f0e-4df9-b1d8-28bd2526f5a3\" target=\"_top\" title=\"psysml:0f45e557-8f0e-4df9-b1d8-28bd2526f5a3\" xlink:actuate=\"onRequest\" xlink:href=\"psysml:0f45e557-8f0e-4df9-b1d8-28bd2526f5a3\" xlink:show=\"new\" xlink:title=\"psysml:0f45e557-8f0e-4df9-b1d8-28bd2526f5a3\" xlink:type=\"simple\"><path d=\"M353.8,282.93 C367.38,270.34 383.11,253.98 396.95,238.29 \" fill=\"none\" id=\"E3-&gt;E2\" style=\"stroke: #A80036; stroke-width: 1.0;\"/><polygon fill=\"#FFFFFF\" points=\"410.02,223,403.0007,241.9929,392.3563,232.8991,410.02,223\" style=\"stroke: #A80036; stroke-width: 1.0;\"/><ellipse cx=\"397.7776\" cy=\"245.0276\" fill=\"#A80036\" rx=\"2\" ry=\"2\" style=\"stroke: #A80036; stroke-width: 1.0;\"/><ellipse cx=\"390.1744\" cy=\"238.532\" fill=\"#A80036\" rx=\"2\" ry=\"2\" style=\"stroke: #A80036; stroke-width: 1.0;\"/></a><!--MD5=[9618e71518536f8baf3342ff6fdab317]\n",
       "reverse link E2 to E4--><a href=\"psysml:7f5381ff-79d6-4175-8599-1b084d5a38fb\" target=\"_top\" title=\"psysml:7f5381ff-79d6-4175-8599-1b084d5a38fb\" xlink:actuate=\"onRequest\" xlink:href=\"psysml:7f5381ff-79d6-4175-8599-1b084d5a38fb\" xlink:show=\"new\" xlink:title=\"psysml:7f5381ff-79d6-4175-8599-1b084d5a38fb\" xlink:type=\"simple\"><path d=\"M424.31,236.34 C425.74,252.61 428.58,269.81 432.23,282.93 \" fill=\"none\" id=\"E2&lt;-E4\" style=\"stroke: #A80036; stroke-width: 1.0;\"/><polygon fill=\"#A80036\" points=\"423.45,223,419.8475,229.2467,424.2281,234.9747,427.8306,228.728,423.45,223\" style=\"stroke: #A80036; stroke-width: 1.0;\"/></a><!--MD5=[185131fc0dcab0a4505a2ebe144e961b]\n",
       "link E4 to E2--><a href=\"psysml:9af83ecd-fc65-4272-8374-c2ac75a0337a\" target=\"_top\" title=\"psysml:9af83ecd-fc65-4272-8374-c2ac75a0337a\" xlink:actuate=\"onRequest\" xlink:href=\"psysml:9af83ecd-fc65-4272-8374-c2ac75a0337a\" xlink:show=\"new\" xlink:title=\"psysml:9af83ecd-fc65-4272-8374-c2ac75a0337a\" xlink:type=\"simple\"><path d=\"M453.17,282.93 C453.77,271.65 452.99,257.34 451.22,243.21 \" fill=\"none\" id=\"E4-&gt;E2\" style=\"stroke: #A80036; stroke-width: 1.0;\"/><polygon fill=\"#FFFFFF\" points=\"447.96,223,457.8973,240.6423,444.0761,242.8725,447.96,223\" style=\"stroke: #A80036; stroke-width: 1.0;\"/><ellipse cx=\"456.8309\" cy=\"246.5881\" fill=\"#A80036\" rx=\"2\" ry=\"2\" style=\"stroke: #A80036; stroke-width: 1.0;\"/><ellipse cx=\"446.9586\" cy=\"248.1811\" fill=\"#A80036\" rx=\"2\" ry=\"2\" style=\"stroke: #A80036; stroke-width: 1.0;\"/></a><!--MD5=[4e1a83fab71cdb913c109063314ae896]\n",
       "reverse link E2 to E5--><a href=\"psysml:648e9e41-ac7c-450e-af70-439d81f3f540\" target=\"_top\" title=\"psysml:648e9e41-ac7c-450e-af70-439d81f3f540\" xlink:actuate=\"onRequest\" xlink:href=\"psysml:648e9e41-ac7c-450e-af70-439d81f3f540\" xlink:show=\"new\" xlink:title=\"psysml:648e9e41-ac7c-450e-af70-439d81f3f540\" xlink:type=\"simple\"><path d=\"M499.85,227.17 C531.12,245.87 566.86,267.24 592.97,282.85 \" fill=\"none\" id=\"E2&lt;-E5\" style=\"stroke: #A80036; stroke-width: 1.0;\"/><polygon fill=\"#A80036\" points=\"488.56,220.42,491.6568,226.9323,498.8592,226.5784,495.7624,220.0661,488.56,220.42\" style=\"stroke: #A80036; stroke-width: 1.0;\"/></a><!--MD5=[ce036f65110ae2351ccce5a81dc2e928]\n",
       "reverse link E2 to E6--><a href=\"psysml:00b8b9a4-593e-406d-b505-212ff2a7c9c1\" target=\"_top\" title=\"psysml:00b8b9a4-593e-406d-b505-212ff2a7c9c1\" xlink:actuate=\"onRequest\" xlink:href=\"psysml:00b8b9a4-593e-406d-b505-212ff2a7c9c1\" xlink:show=\"new\" xlink:title=\"psysml:00b8b9a4-593e-406d-b505-212ff2a7c9c1\" xlink:type=\"simple\"><path d=\"M501.02,217.55 C506.06,219.49 511.08,221.33 516,223 C528.19,227.15 677.82,264.14 770.71,287 \" fill=\"none\" id=\"E2&lt;-E6\" style=\"stroke: #A80036; stroke-width: 1.0;\"/><polygon fill=\"#A80036\" points=\"488.57,212.58,492.6577,218.5206,499.7135,217.0321,495.6258,211.0916,488.57,212.58\" style=\"stroke: #A80036; stroke-width: 1.0;\"/></a><!--MD5=[3a9b96bfbf6b6ad89c494e81751bda47]\n",
       "link E5 to E7--><a href=\"psysml:088b8ee7-f1bc-4574-b816-43bcf4f14b77\" target=\"_top\" title=\"psysml:088b8ee7-f1bc-4574-b816-43bcf4f14b77\" xlink:actuate=\"onRequest\" xlink:href=\"psysml:088b8ee7-f1bc-4574-b816-43bcf4f14b77\" xlink:show=\"new\" xlink:title=\"psysml:088b8ee7-f1bc-4574-b816-43bcf4f14b77\" xlink:type=\"simple\"><path d=\"M630,329.06 C630,340.64 630,355.23 630,368.87 \" fill=\"none\" id=\"E5-&gt;E7\" style=\"stroke: #A80036; stroke-width: 1.0;\"/><polygon fill=\"#FFFFFF\" points=\"630,388.98,623,369.98,637,369.98,630,388.98\" style=\"stroke: #A80036; stroke-width: 1.0;\"/><ellipse cx=\"625\" cy=\"364.28\" fill=\"#A80036\" rx=\"2\" ry=\"2\" style=\"stroke: #A80036; stroke-width: 1.0;\"/><ellipse cx=\"635\" cy=\"364.28\" fill=\"#A80036\" rx=\"2\" ry=\"2\" style=\"stroke: #A80036; stroke-width: 1.0;\"/></a><!--MD5=[dc164f5e8a733ab456ef1add180e9e34]\n",
       "reverse link E7 to E8--><a href=\"psysml:c8813ef9-ffa9-4c9d-80a4-dd20f6c80ea5\" target=\"_top\" title=\"psysml:c8813ef9-ffa9-4c9d-80a4-dd20f6c80ea5\" xlink:actuate=\"onRequest\" xlink:href=\"psysml:c8813ef9-ffa9-4c9d-80a4-dd20f6c80ea5\" xlink:show=\"new\" xlink:title=\"psysml:c8813ef9-ffa9-4c9d-80a4-dd20f6c80ea5\" xlink:type=\"simple\"><path d=\"M601.55,445.16 C587.25,461.33 570.28,480.51 557.48,494.98 \" fill=\"none\" id=\"E7&lt;-E8\" style=\"stroke: #A80036; stroke-width: 1.0;\"/><polygon fill=\"#A80036\" points=\"610.49,435.06,603.5177,436.9004,602.5348,444.0442,609.5071,442.2038,610.49,435.06\" style=\"stroke: #A80036; stroke-width: 1.0;\"/></a><!--MD5=[e4a10ef82d0e328e31cac39a31e58dda]\n",
       "reverse link E7 to E9--><a href=\"psysml:cdca8d7c-6aa5-4fff-9e0e-900e3ba85343\" target=\"_top\" title=\"psysml:cdca8d7c-6aa5-4fff-9e0e-900e3ba85343\" xlink:actuate=\"onRequest\" xlink:href=\"psysml:cdca8d7c-6aa5-4fff-9e0e-900e3ba85343\" xlink:show=\"new\" xlink:title=\"psysml:cdca8d7c-6aa5-4fff-9e0e-900e3ba85343\" xlink:type=\"simple\"><path d=\"M658.14,445.16 C672.29,461.33 689.07,480.51 701.73,494.98 \" fill=\"none\" id=\"E7&lt;-E9\" style=\"stroke: #A80036; stroke-width: 1.0;\"/><polygon fill=\"#A80036\" points=\"649.3,435.06,650.2496,442.2083,657.2133,444.0811,656.2637,436.9328,649.3,435.06\" style=\"stroke: #A80036; stroke-width: 1.0;\"/></a><!--MD5=[a919e0967d6f3de553dc51b9865a1d6d]\n",
       "link E10 to E7--><a href=\"psysml:43f26010-ca40-42d6-8df0-e4847d82fc63\" target=\"_top\" title=\"psysml:43f26010-ca40-42d6-8df0-e4847d82fc63\" xlink:actuate=\"onRequest\" xlink:href=\"psysml:43f26010-ca40-42d6-8df0-e4847d82fc63\" xlink:show=\"new\" xlink:title=\"psysml:43f26010-ca40-42d6-8df0-e4847d82fc63\" xlink:type=\"simple\"><path d=\"M564.36,87.23 C542.92,120.68 510.65,184.15 544,223 C658.5,356.41 820.5,149.59 935,283 C997.3,355.58 849.41,387.9 738.47,401.63 \" fill=\"none\" id=\"E10-&gt;E7\" style=\"stroke: #A80036; stroke-width: 1.0;\"/><polygon fill=\"#FFFFFF\" points=\"718.6,403.94,736.6627,394.7891,738.2822,408.6951,718.6,403.94\" style=\"stroke: #A80036; stroke-width: 1.0;\"/><ellipse cx=\"742.5558\" cy=\"396.1162\" fill=\"#A80036\" rx=\"2\" ry=\"2\" style=\"stroke: #A80036; stroke-width: 1.0;\"/><ellipse cx=\"743.7126\" cy=\"406.0491\" fill=\"#A80036\" rx=\"2\" ry=\"2\" style=\"stroke: #A80036; stroke-width: 1.0;\"/></a><!--MD5=[0f36bececdf0dff6e600d6f64214b0f1]\n",
       "link E10 to E2--><a href=\"psysml:ac89f7fb-b091-4bc7-aaea-6377fc157ffe\" target=\"_top\" title=\"psysml:ac89f7fb-b091-4bc7-aaea-6377fc157ffe\" xlink:actuate=\"onRequest\" xlink:href=\"psysml:ac89f7fb-b091-4bc7-aaea-6377fc157ffe\" xlink:show=\"new\" xlink:title=\"psysml:ac89f7fb-b091-4bc7-aaea-6377fc157ffe\" xlink:type=\"simple\"><path d=\"M552.32,87.1 C535.71,100.38 513.86,117.82 493.29,134.25 \" fill=\"none\" id=\"E10-&gt;E2\" style=\"stroke: #A80036; stroke-width: 1.0;\"/><polygon fill=\"#FFFFFF\" points=\"477.56,146.81,488.0352,129.4817,496.7737,140.4197,477.56,146.81\" style=\"stroke: #A80036; stroke-width: 1.0;\"/><ellipse cx=\"493.7369\" cy=\"127.4865\" fill=\"#A80036\" rx=\"2\" ry=\"2\" style=\"stroke: #A80036; stroke-width: 1.0;\"/><ellipse cx=\"499.9786\" cy=\"135.2994\" fill=\"#A80036\" rx=\"2\" ry=\"2\" style=\"stroke: #A80036; stroke-width: 1.0;\"/></a><!--MD5=[de308be4a2431766a05a907a031c07fc]\n",
       "reverse link E10 to E11--><a href=\"psysml:75c081c5-05e2-401c-b103-d900689a3a49\" target=\"_top\" title=\"psysml:75c081c5-05e2-401c-b103-d900689a3a49\" xlink:actuate=\"onRequest\" xlink:href=\"psysml:75c081c5-05e2-401c-b103-d900689a3a49\" xlink:show=\"new\" xlink:title=\"psysml:75c081c5-05e2-401c-b103-d900689a3a49\" xlink:type=\"simple\"><path d=\"M595.95,98.9 C605.42,119.01 617.15,143.94 625.46,161.61 \" fill=\"none\" id=\"E10&lt;-E11\" style=\"stroke: #A80036; stroke-width: 1.0;\"/><polygon fill=\"#A80036\" points=\"590.4,87.1,589.3334,94.2318,595.5064,97.9593,596.573,90.8275,590.4,87.1\" style=\"stroke: #A80036; stroke-width: 1.0;\"/></a><!--MD5=[1d54f998c6d5961a1a9184be73a7eb6c]\n",
       "reverse link E10 to E12--><a href=\"psysml:54130436-8b1f-4706-a610-d99b2d4cb5d4\" target=\"_top\" title=\"psysml:54130436-8b1f-4706-a610-d99b2d4cb5d4\" xlink:actuate=\"onRequest\" xlink:href=\"psysml:54130436-8b1f-4706-a610-d99b2d4cb5d4\" xlink:show=\"new\" xlink:title=\"psysml:54130436-8b1f-4706-a610-d99b2d4cb5d4\" xlink:type=\"simple\"><path d=\"M642.21,92.42 C689.99,113.48 755.13,142.19 799.66,161.81 \" fill=\"none\" id=\"E10&lt;-E12\" style=\"stroke: #A80036; stroke-width: 1.0;\"/><polygon fill=\"#A80036\" points=\"630.15,87.1,634.028,93.1796,641.1314,91.9382,637.2534,85.8586,630.15,87.1\" style=\"stroke: #A80036; stroke-width: 1.0;\"/></a><!--MD5=[4a48077df6499cfcd20b62e8f5f37904]\n",
       "link E13 to E7--><a href=\"psysml:85f16706-e1b7-404d-9ee5-57d420bfb7f2\" target=\"_top\" title=\"psysml:85f16706-e1b7-404d-9ee5-57d420bfb7f2\" xlink:actuate=\"onRequest\" xlink:href=\"psysml:85f16706-e1b7-404d-9ee5-57d420bfb7f2\" xlink:show=\"new\" xlink:title=\"psysml:85f16706-e1b7-404d-9ee5-57d420bfb7f2\" xlink:type=\"simple\"><path d=\"M242.34,329.06 C324.51,346.43 438.67,370.56 521.82,388.13 \" fill=\"none\" id=\"E13-&gt;E7\" style=\"stroke: #A80036; stroke-width: 1.0;\"/><polygon fill=\"#FFFFFF\" points=\"541.45,392.28,521.4143,395.2075,524.304,381.509,541.45,392.28\" style=\"stroke: #A80036; stroke-width: 1.0;\"/><ellipse cx=\"516.2498\" cy=\"392.0741\" fill=\"#A80036\" rx=\"2\" ry=\"2\" style=\"stroke: #A80036; stroke-width: 1.0;\"/><ellipse cx=\"518.3139\" cy=\"382.2894\" fill=\"#A80036\" rx=\"2\" ry=\"2\" style=\"stroke: #A80036; stroke-width: 1.0;\"/></a><!--MD5=[4987a838ff6aaaae99ea403db8feae86]\n",
       "@startuml\r\n",
       "skinparam wrapWidth 300\r\n",
       "hide circle\r\n",
       "\r\n",
       "package \"OccurrenceTest\" as E1  [[psysml:53f1d42d-2686-4f4b-950f-b84b40bc19b2 ]]  {\r\n",
       "comp def \"Occ\" as E2  <<(T,blue) occurrence  def>> [[psysml:77ba500d-77fd-484e-b411-8833010da35e ]] {\r\n",
       "- - attributes - -\r\n",
       "a\r\n",
       "}\r\n",
       "comp usage \"occ1: Occ \" as E3  <<(T,blue) occurrence>> [[psysml:37011562-c12e-4ce2-bbf9-af5619a300f0 ]] {\r\n",
       "}\r\n",
       "comp usage \"occ2: Occ \" as E4  <<(T,blue) occurrence>> [[psysml:3522e0a2-d0dd-4c95-916a-e9f89fbadd86 ]] {\r\n",
       "}\r\n",
       "comp usage \"s: Ind \" as E5  <<(T,blue) individual snapshot occurrence>> [[psysml:2ba1b44f-ac88-49ba-a1da-8edc5df2da3a ]] {\r\n",
       "}\r\n",
       "comp usage \"t \" as E6  <<(T,blue) timeslice occurrence>> [[psysml:aefaf76d-f241-48e8-80ea-b99598299972 ]] {\r\n",
       "}\r\n",
       "comp def \"Ind\" as E7  <<(T,blue) individual occurrence  def>> [[psysml:991e81ed-291b-4563-955c-44288cc9fc81 ]] {\r\n",
       "}\r\n",
       "comp usage \"s2 \" as E8  <<(T,blue) snapshot occurrence>> [[psysml:fb7dbc0d-a670-4e6d-a2b6-24a9a70c023a ]] {\r\n",
       "}\r\n",
       "comp usage \"t2 \" as E9  <<(T,blue) timeslice occurrence>> [[psysml:ae0fd4ea-8dc7-4cb0-a32c-5615a8f756eb ]] {\r\n",
       "}\r\n",
       "comp usage \"ind: Ind, Occ \" as E10  <<(T,blue) individual occurrence>> [[psysml:90168d9a-6358-4939-88d7-8ec9974b52c6 ]] {\r\n",
       "}\r\n",
       "comp usage \"s3 \" as E11  <<(T,blue) snapshot occurrence>> [[psysml:d0eba55f-a402-4b22-88ba-9857d6bd50ac ]] {\r\n",
       "}\r\n",
       "comp usage \"t3 \" as E12  <<(T,blue) individual timeslice occurrence>> [[psysml:0232df4f-93e4-4add-8902-f942e03a0634 ]] {\r\n",
       "}\r\n",
       "comp usage \"s4: Ind \" as E13  <<(T,blue) individual snapshot occurrence>> [[psysml:5cbde71f-e2d0-40cd-91ed-92f5bc776eb7 ]] {\r\n",
       "}\r\n",
       "}\r\n",
       "E2 o- - E3 [[psysml:111e77a4-44f2-45ac-862d-a1e02a1cad26 ]] \r\n",
       "E3 - -:|> E2 [[psysml:0f45e557-8f0e-4df9-b1d8-28bd2526f5a3 ]] \r\n",
       "E2 *- - E4 [[psysml:7f5381ff-79d6-4175-8599-1b084d5a38fb ]] \r\n",
       "E4 - -:|> E2 [[psysml:9af83ecd-fc65-4272-8374-c2ac75a0337a ]] \r\n",
       "E2 *- - E5 [[psysml:648e9e41-ac7c-450e-af70-439d81f3f540 ]] \r\n",
       "E2 *- - E6 [[psysml:00b8b9a4-593e-406d-b505-212ff2a7c9c1 ]] \r\n",
       "E5 - -:|> E7 [[psysml:088b8ee7-f1bc-4574-b816-43bcf4f14b77 ]] \r\n",
       "E7 *- - E8 [[psysml:c8813ef9-ffa9-4c9d-80a4-dd20f6c80ea5 ]] \r\n",
       "E7 *- - E9 [[psysml:cdca8d7c-6aa5-4fff-9e0e-900e3ba85343 ]] \r\n",
       "E10 - -:|> E7 [[psysml:43f26010-ca40-42d6-8df0-e4847d82fc63 ]] \r\n",
       "E10 - -:|> E2 [[psysml:ac89f7fb-b091-4bc7-aaea-6377fc157ffe ]] \r\n",
       "E10 *- - E11 [[psysml:75c081c5-05e2-401c-b103-d900689a3a49 ]] \r\n",
       "E10 *- - E12 [[psysml:54130436-8b1f-4706-a610-d99b2d4cb5d4 ]] \r\n",
       "E13 - -:|> E7 [[psysml:85f16706-e1b7-404d-9ee5-57d420bfb7f2 ]] \r\n",
       "@enduml\r\n",
       "\n",
       "PlantUML version 1.2020.13(Sat Jun 13 12:26:38 UTC 2020)\n",
       "(EPL source distribution)\n",
       "Java Runtime: OpenJDK Runtime Environment\n",
       "JVM: OpenJDK 64-Bit Server VM\n",
       "Default Encoding: UTF-8\n",
       "Language: en\n",
       "Country: null\n",
       "--></g></svg>"
      ]
     },
     "execution_count": 23,
     "metadata": {},
     "output_type": "execute_result"
    }
   ],
   "source": [
    "%viz --style=\"STDCOLOR\" --view=\"Default\" \"OccurrenceTest\""
   ]
  },
  {
   "cell_type": "code",
   "execution_count": 24,
   "id": "d7d687fc",
   "metadata": {
    "execution": {
     "iopub.execute_input": "2022-07-23T10:52:32.261368Z",
     "iopub.status.busy": "2022-07-23T10:52:32.260913Z",
     "iopub.status.idle": "2022-07-23T10:52:32.313343Z",
     "shell.execute_reply": "2022-07-23T10:52:32.311591Z"
    }
   },
   "outputs": [
    {
     "data": {
      "image/svg+xml": [
       "<?xml version=\"1.0\" encoding=\"UTF-8\" standalone=\"no\"?><svg xmlns=\"http://www.w3.org/2000/svg\" xmlns:xlink=\"http://www.w3.org/1999/xlink\" contentScriptType=\"application/ecmascript\" contentStyleType=\"text/css\" height=\"569px\" preserveAspectRatio=\"none\" style=\"width:1009px;height:569px;\" version=\"1.1\" viewBox=\"0 0 1009 569\" width=\"1009px\" zoomAndPan=\"magnify\"><defs><filter height=\"300%\" id=\"fsxrkcce9nte4\" width=\"300%\" x=\"-1\" y=\"-1\"><feGaussianBlur result=\"blurOut\" stdDeviation=\"2.0\"/><feColorMatrix in=\"blurOut\" result=\"blurOut2\" type=\"matrix\" values=\"0 0 0 0 0 0 0 0 0 0 0 0 0 0 0 0 0 0 .4 0\"/><feOffset dx=\"4.0\" dy=\"4.0\" in=\"blurOut2\" result=\"blurOut3\"/><feBlend in=\"SourceGraphic\" in2=\"blurOut3\" mode=\"normal\"/></filter></defs><g><!--MD5=[fbc87193dbaf4d95561dea2c320d4a47]\n",
       "cluster E1--><a href=\"psysml:53f1d42d-2686-4f4b-950f-b84b40bc19b2\" target=\"_top\" title=\"psysml:53f1d42d-2686-4f4b-950f-b84b40bc19b2\" xlink:actuate=\"onRequest\" xlink:href=\"psysml:53f1d42d-2686-4f4b-950f-b84b40bc19b2\" xlink:show=\"new\" xlink:title=\"psysml:53f1d42d-2686-4f4b-950f-b84b40bc19b2\" xlink:type=\"simple\"><polygon fill=\"#FFFFFF\" filter=\"url(#fsxrkcce9nte4)\" points=\"16,6,134,6,141,28.2969,970,28.2969,970,557,16,557,16,6\" style=\"stroke: #000000; stroke-width: 1.5;\"/><line style=\"stroke: #000000; stroke-width: 1.5;\" x1=\"16\" x2=\"141\" y1=\"28.2969\" y2=\"28.2969\"/><text fill=\"#000000\" font-family=\"sans-serif\" font-size=\"14\" font-weight=\"bold\" lengthAdjust=\"spacingAndGlyphs\" textLength=\"112\" x=\"20\" y=\"20.9951\">OccurrenceTest</text></a><!--MD5=[b4997ac47864f28c2f74865a473b2911]\n",
       "class E2--><a href=\"psysml:77ba500d-77fd-484e-b411-8833010da35e\" target=\"_top\" title=\"psysml:77ba500d-77fd-484e-b411-8833010da35e\" xlink:actuate=\"onRequest\" xlink:href=\"psysml:77ba500d-77fd-484e-b411-8833010da35e\" xlink:show=\"new\" xlink:title=\"psysml:77ba500d-77fd-484e-b411-8833010da35e\" xlink:type=\"simple\"><rect fill=\"#FEFECE\" filter=\"url(#fsxrkcce9nte4)\" height=\"75.5469\" id=\"E2\" style=\"stroke: #A80036; stroke-width: 1.5;\" width=\"115\" x=\"373.5\" y=\"147\"/><text fill=\"#000000\" font-family=\"sans-serif\" font-size=\"12\" font-style=\"italic\" lengthAdjust=\"spacingAndGlyphs\" textLength=\"113\" x=\"374.5\" y=\"163.1387\">«occurrence  def»</text><text fill=\"#000000\" font-family=\"sans-serif\" font-size=\"12\" lengthAdjust=\"spacingAndGlyphs\" textLength=\"23\" x=\"419.5\" y=\"177.1074\">Occ</text><line style=\"stroke: #A80036; stroke-width: 1.5;\" x1=\"374.5\" x2=\"487.5\" y1=\"184.9375\" y2=\"184.9375\"/><text fill=\"#000000\" font-family=\"sans-serif\" font-size=\"11\" lengthAdjust=\"spacingAndGlyphs\" textLength=\"7\" x=\"379.5\" y=\"215.9526\">a</text><line style=\"stroke: #A80036; stroke-width: 1.0;\" x1=\"374.5\" x2=\"403.5\" y1=\"199.3398\" y2=\"199.3398\"/><text fill=\"#000000\" font-family=\"sans-serif\" font-size=\"11\" lengthAdjust=\"spacingAndGlyphs\" textLength=\"55\" x=\"403.5\" y=\"202.6479\">attributes</text><line style=\"stroke: #A80036; stroke-width: 1.0;\" x1=\"458.5\" x2=\"487.5\" y1=\"199.3398\" y2=\"199.3398\"/></a><!--MD5=[09b614a08d8cba4a07c9adeb5e0fee81]\n",
       "class E3--><a href=\"psysml:37011562-c12e-4ce2-bbf9-af5619a300f0\" target=\"_top\" title=\"psysml:37011562-c12e-4ce2-bbf9-af5619a300f0\" xlink:actuate=\"onRequest\" xlink:href=\"psysml:37011562-c12e-4ce2-bbf9-af5619a300f0\" xlink:show=\"new\" xlink:title=\"psysml:37011562-c12e-4ce2-bbf9-af5619a300f0\" xlink:type=\"simple\"><rect fill=\"#FEFECE\" filter=\"url(#fsxrkcce9nte4)\" height=\"45.9375\" id=\"E3\" rx=\"10\" ry=\"10\" style=\"stroke: #A80036; stroke-width: 1.5;\" width=\"87\" x=\"279.5\" y=\"283\"/><text fill=\"#000000\" font-family=\"sans-serif\" font-size=\"12\" font-style=\"italic\" lengthAdjust=\"spacingAndGlyphs\" textLength=\"85\" x=\"280.5\" y=\"299.1387\">«occurrence»</text><text fill=\"#000000\" font-family=\"sans-serif\" font-size=\"12\" lengthAdjust=\"spacingAndGlyphs\" textLength=\"61\" x=\"290.5\" y=\"313.1074\">occ1: Occ</text><line style=\"stroke: #A80036; stroke-width: 1.5;\" x1=\"280.5\" x2=\"365.5\" y1=\"320.9375\" y2=\"320.9375\"/></a><!--MD5=[ebbe1d658d1005bcc118a6aa81145e00]\n",
       "class E4--><a href=\"psysml:3522e0a2-d0dd-4c95-916a-e9f89fbadd86\" target=\"_top\" title=\"psysml:3522e0a2-d0dd-4c95-916a-e9f89fbadd86\" xlink:actuate=\"onRequest\" xlink:href=\"psysml:3522e0a2-d0dd-4c95-916a-e9f89fbadd86\" xlink:show=\"new\" xlink:title=\"psysml:3522e0a2-d0dd-4c95-916a-e9f89fbadd86\" xlink:type=\"simple\"><rect fill=\"#FEFECE\" filter=\"url(#fsxrkcce9nte4)\" height=\"45.9375\" id=\"E4\" rx=\"10\" ry=\"10\" style=\"stroke: #A80036; stroke-width: 1.5;\" width=\"87\" x=\"401.5\" y=\"283\"/><text fill=\"#000000\" font-family=\"sans-serif\" font-size=\"12\" font-style=\"italic\" lengthAdjust=\"spacingAndGlyphs\" textLength=\"85\" x=\"402.5\" y=\"299.1387\">«occurrence»</text><text fill=\"#000000\" font-family=\"sans-serif\" font-size=\"12\" lengthAdjust=\"spacingAndGlyphs\" textLength=\"61\" x=\"412.5\" y=\"313.1074\">occ2: Occ</text><line style=\"stroke: #A80036; stroke-width: 1.5;\" x1=\"402.5\" x2=\"487.5\" y1=\"320.9375\" y2=\"320.9375\"/></a><!--MD5=[270fce915f116d4de14055a7c1d9a0f3]\n",
       "class E5--><a href=\"psysml:2ba1b44f-ac88-49ba-a1da-8edc5df2da3a\" target=\"_top\" title=\"psysml:2ba1b44f-ac88-49ba-a1da-8edc5df2da3a\" xlink:actuate=\"onRequest\" xlink:href=\"psysml:2ba1b44f-ac88-49ba-a1da-8edc5df2da3a\" xlink:show=\"new\" xlink:title=\"psysml:2ba1b44f-ac88-49ba-a1da-8edc5df2da3a\" xlink:type=\"simple\"><rect fill=\"#FEFECE\" filter=\"url(#fsxrkcce9nte4)\" height=\"45.9375\" id=\"E5\" rx=\"10\" ry=\"10\" style=\"stroke: #A80036; stroke-width: 1.5;\" width=\"212\" x=\"524\" y=\"283\"/><text fill=\"#000000\" font-family=\"sans-serif\" font-size=\"12\" font-style=\"italic\" lengthAdjust=\"spacingAndGlyphs\" textLength=\"210\" x=\"525\" y=\"299.1387\">«individual snapshot occurrence»</text><text fill=\"#000000\" font-family=\"sans-serif\" font-size=\"12\" lengthAdjust=\"spacingAndGlyphs\" textLength=\"34\" x=\"611\" y=\"313.1074\">s: Ind</text><line style=\"stroke: #A80036; stroke-width: 1.5;\" x1=\"525\" x2=\"735\" y1=\"320.9375\" y2=\"320.9375\"/></a><!--MD5=[60a26617385b1d2d0262a64233df1f8d]\n",
       "class E6--><a href=\"psysml:aefaf76d-f241-48e8-80ea-b99598299972\" target=\"_top\" title=\"psysml:aefaf76d-f241-48e8-80ea-b99598299972\" xlink:actuate=\"onRequest\" xlink:href=\"psysml:aefaf76d-f241-48e8-80ea-b99598299972\" xlink:show=\"new\" xlink:title=\"psysml:aefaf76d-f241-48e8-80ea-b99598299972\" xlink:type=\"simple\"><rect fill=\"#FEFECE\" filter=\"url(#fsxrkcce9nte4)\" height=\"45.9375\" id=\"E6\" rx=\"10\" ry=\"10\" style=\"stroke: #A80036; stroke-width: 1.5;\" width=\"146\" x=\"771\" y=\"283\"/><text fill=\"#000000\" font-family=\"sans-serif\" font-size=\"12\" font-style=\"italic\" lengthAdjust=\"spacingAndGlyphs\" textLength=\"144\" x=\"772\" y=\"299.1387\">«timeslice occurrence»</text><text fill=\"#000000\" font-family=\"sans-serif\" font-size=\"12\" lengthAdjust=\"spacingAndGlyphs\" textLength=\"5\" x=\"839.5\" y=\"313.1074\">t</text><line style=\"stroke: #A80036; stroke-width: 1.5;\" x1=\"772\" x2=\"916\" y1=\"320.9375\" y2=\"320.9375\"/></a><!--MD5=[2156ba9850f5573cc1fc38a6a4b2f02b]\n",
       "class E7--><a href=\"psysml:991e81ed-291b-4563-955c-44288cc9fc81\" target=\"_top\" title=\"psysml:991e81ed-291b-4563-955c-44288cc9fc81\" xlink:actuate=\"onRequest\" xlink:href=\"psysml:991e81ed-291b-4563-955c-44288cc9fc81\" xlink:show=\"new\" xlink:title=\"psysml:991e81ed-291b-4563-955c-44288cc9fc81\" xlink:type=\"simple\"><rect fill=\"#FEFECE\" filter=\"url(#fsxrkcce9nte4)\" height=\"45.9375\" id=\"E7\" style=\"stroke: #A80036; stroke-width: 1.5;\" width=\"177\" x=\"541.5\" y=\"389\"/><text fill=\"#000000\" font-family=\"sans-serif\" font-size=\"12\" font-style=\"italic\" lengthAdjust=\"spacingAndGlyphs\" textLength=\"175\" x=\"542.5\" y=\"405.1387\">«individual occurrence  def»</text><text fill=\"#000000\" font-family=\"sans-serif\" font-size=\"12\" lengthAdjust=\"spacingAndGlyphs\" textLength=\"19\" x=\"620.5\" y=\"419.1074\">Ind</text><line style=\"stroke: #A80036; stroke-width: 1.5;\" x1=\"542.5\" x2=\"717.5\" y1=\"426.9375\" y2=\"426.9375\"/></a><!--MD5=[b9389687b975829384b498ac4b7476b2]\n",
       "class E8--><a href=\"psysml:fb7dbc0d-a670-4e6d-a2b6-24a9a70c023a\" target=\"_top\" title=\"psysml:fb7dbc0d-a670-4e6d-a2b6-24a9a70c023a\" xlink:actuate=\"onRequest\" xlink:href=\"psysml:fb7dbc0d-a670-4e6d-a2b6-24a9a70c023a\" xlink:show=\"new\" xlink:title=\"psysml:fb7dbc0d-a670-4e6d-a2b6-24a9a70c023a\" xlink:type=\"simple\"><rect fill=\"#FEFECE\" filter=\"url(#fsxrkcce9nte4)\" height=\"45.9375\" id=\"E8\" rx=\"10\" ry=\"10\" style=\"stroke: #A80036; stroke-width: 1.5;\" width=\"150\" x=\"463\" y=\"495\"/><text fill=\"#000000\" font-family=\"sans-serif\" font-size=\"12\" font-style=\"italic\" lengthAdjust=\"spacingAndGlyphs\" textLength=\"148\" x=\"464\" y=\"511.1387\">«snapshot occurrence»</text><text fill=\"#000000\" font-family=\"sans-serif\" font-size=\"12\" lengthAdjust=\"spacingAndGlyphs\" textLength=\"15\" x=\"528.5\" y=\"525.1074\">s2</text><line style=\"stroke: #A80036; stroke-width: 1.5;\" x1=\"464\" x2=\"612\" y1=\"532.9375\" y2=\"532.9375\"/></a><!--MD5=[fd4143e9d270a159db93a4ea2a975926]\n",
       "class E9--><a href=\"psysml:ae0fd4ea-8dc7-4cb0-a32c-5615a8f756eb\" target=\"_top\" title=\"psysml:ae0fd4ea-8dc7-4cb0-a32c-5615a8f756eb\" xlink:actuate=\"onRequest\" xlink:href=\"psysml:ae0fd4ea-8dc7-4cb0-a32c-5615a8f756eb\" xlink:show=\"new\" xlink:title=\"psysml:ae0fd4ea-8dc7-4cb0-a32c-5615a8f756eb\" xlink:type=\"simple\"><rect fill=\"#FEFECE\" filter=\"url(#fsxrkcce9nte4)\" height=\"45.9375\" id=\"E9\" rx=\"10\" ry=\"10\" style=\"stroke: #A80036; stroke-width: 1.5;\" width=\"146\" x=\"648\" y=\"495\"/><text fill=\"#000000\" font-family=\"sans-serif\" font-size=\"12\" font-style=\"italic\" lengthAdjust=\"spacingAndGlyphs\" textLength=\"144\" x=\"649\" y=\"511.1387\">«timeslice occurrence»</text><text fill=\"#000000\" font-family=\"sans-serif\" font-size=\"12\" lengthAdjust=\"spacingAndGlyphs\" textLength=\"13\" x=\"712.5\" y=\"525.1074\">t2</text><line style=\"stroke: #A80036; stroke-width: 1.5;\" x1=\"649\" x2=\"793\" y1=\"532.9375\" y2=\"532.9375\"/></a><!--MD5=[96f4274e9e20536e775497830990834d]\n",
       "class E10--><a href=\"psysml:90168d9a-6358-4939-88d7-8ec9974b52c6\" target=\"_top\" title=\"psysml:90168d9a-6358-4939-88d7-8ec9974b52c6\" xlink:actuate=\"onRequest\" xlink:href=\"psysml:90168d9a-6358-4939-88d7-8ec9974b52c6\" xlink:show=\"new\" xlink:title=\"psysml:90168d9a-6358-4939-88d7-8ec9974b52c6\" xlink:type=\"simple\"><rect fill=\"#FEFECE\" filter=\"url(#fsxrkcce9nte4)\" height=\"45.9375\" id=\"E10\" rx=\"10\" ry=\"10\" style=\"stroke: #A80036; stroke-width: 1.5;\" width=\"149\" x=\"505.5\" y=\"41\"/><text fill=\"#000000\" font-family=\"sans-serif\" font-size=\"12\" font-style=\"italic\" lengthAdjust=\"spacingAndGlyphs\" textLength=\"147\" x=\"506.5\" y=\"57.1387\">«individual occurrence»</text><text fill=\"#000000\" font-family=\"sans-serif\" font-size=\"12\" lengthAdjust=\"spacingAndGlyphs\" textLength=\"77\" x=\"539.5\" y=\"71.1074\">ind: Ind, Occ</text><line style=\"stroke: #A80036; stroke-width: 1.5;\" x1=\"506.5\" x2=\"653.5\" y1=\"78.9375\" y2=\"78.9375\"/></a><!--MD5=[1dd1bfd58a279cf63c5f349dbc8fc6a1]\n",
       "class E11--><a href=\"psysml:d0eba55f-a402-4b22-88ba-9857d6bd50ac\" target=\"_top\" title=\"psysml:d0eba55f-a402-4b22-88ba-9857d6bd50ac\" xlink:actuate=\"onRequest\" xlink:href=\"psysml:d0eba55f-a402-4b22-88ba-9857d6bd50ac\" xlink:show=\"new\" xlink:title=\"psysml:d0eba55f-a402-4b22-88ba-9857d6bd50ac\" xlink:type=\"simple\"><rect fill=\"#FEFECE\" filter=\"url(#fsxrkcce9nte4)\" height=\"45.9375\" id=\"E11\" rx=\"10\" ry=\"10\" style=\"stroke: #A80036; stroke-width: 1.5;\" width=\"150\" x=\"561\" y=\"162\"/><text fill=\"#000000\" font-family=\"sans-serif\" font-size=\"12\" font-style=\"italic\" lengthAdjust=\"spacingAndGlyphs\" textLength=\"148\" x=\"562\" y=\"178.1387\">«snapshot occurrence»</text><text fill=\"#000000\" font-family=\"sans-serif\" font-size=\"12\" lengthAdjust=\"spacingAndGlyphs\" textLength=\"15\" x=\"626.5\" y=\"192.1074\">s3</text><line style=\"stroke: #A80036; stroke-width: 1.5;\" x1=\"562\" x2=\"710\" y1=\"199.9375\" y2=\"199.9375\"/></a><!--MD5=[49a0ec8f00dab7302a31f22d0f0fe584]\n",
       "class E12--><a href=\"psysml:0232df4f-93e4-4add-8902-f942e03a0634\" target=\"_top\" title=\"psysml:0232df4f-93e4-4add-8902-f942e03a0634\" xlink:actuate=\"onRequest\" xlink:href=\"psysml:0232df4f-93e4-4add-8902-f942e03a0634\" xlink:show=\"new\" xlink:title=\"psysml:0232df4f-93e4-4add-8902-f942e03a0634\" xlink:type=\"simple\"><rect fill=\"#FEFECE\" filter=\"url(#fsxrkcce9nte4)\" height=\"45.9375\" id=\"E12\" rx=\"10\" ry=\"10\" style=\"stroke: #A80036; stroke-width: 1.5;\" width=\"208\" x=\"746\" y=\"162\"/><text fill=\"#000000\" font-family=\"sans-serif\" font-size=\"12\" font-style=\"italic\" lengthAdjust=\"spacingAndGlyphs\" textLength=\"206\" x=\"747\" y=\"178.1387\">«individual timeslice occurrence»</text><text fill=\"#000000\" font-family=\"sans-serif\" font-size=\"12\" lengthAdjust=\"spacingAndGlyphs\" textLength=\"13\" x=\"841.5\" y=\"192.1074\">t3</text><line style=\"stroke: #A80036; stroke-width: 1.5;\" x1=\"747\" x2=\"953\" y1=\"199.9375\" y2=\"199.9375\"/></a><!--MD5=[ee3c913d1a06f366521f9ef512b67efe]\n",
       "class E13--><a href=\"psysml:5cbde71f-e2d0-40cd-91ed-92f5bc776eb7\" target=\"_top\" title=\"psysml:5cbde71f-e2d0-40cd-91ed-92f5bc776eb7\" xlink:actuate=\"onRequest\" xlink:href=\"psysml:5cbde71f-e2d0-40cd-91ed-92f5bc776eb7\" xlink:show=\"new\" xlink:title=\"psysml:5cbde71f-e2d0-40cd-91ed-92f5bc776eb7\" xlink:type=\"simple\"><rect fill=\"#FEFECE\" filter=\"url(#fsxrkcce9nte4)\" height=\"45.9375\" id=\"E13\" rx=\"10\" ry=\"10\" style=\"stroke: #A80036; stroke-width: 1.5;\" width=\"212\" x=\"32\" y=\"283\"/><text fill=\"#000000\" font-family=\"sans-serif\" font-size=\"12\" font-style=\"italic\" lengthAdjust=\"spacingAndGlyphs\" textLength=\"210\" x=\"33\" y=\"299.1387\">«individual snapshot occurrence»</text><text fill=\"#000000\" font-family=\"sans-serif\" font-size=\"12\" lengthAdjust=\"spacingAndGlyphs\" textLength=\"42\" x=\"115\" y=\"313.1074\">s4: Ind</text><line style=\"stroke: #A80036; stroke-width: 1.5;\" x1=\"33\" x2=\"243\" y1=\"320.9375\" y2=\"320.9375\"/></a><!--MD5=[209b3feb70ccb6233bfe1053d122c12c]\n",
       "reverse link E2 to E3--><a href=\"psysml:111e77a4-44f2-45ac-862d-a1e02a1cad26\" target=\"_top\" title=\"psysml:111e77a4-44f2-45ac-862d-a1e02a1cad26\" xlink:actuate=\"onRequest\" xlink:href=\"psysml:111e77a4-44f2-45ac-862d-a1e02a1cad26\" xlink:show=\"new\" xlink:title=\"psysml:111e77a4-44f2-45ac-862d-a1e02a1cad26\" xlink:type=\"simple\"><path d=\"M376.37,232.45 C359.85,249.83 343.43,268.76 332.86,282.93 \" fill=\"none\" id=\"E2&lt;-E3\" style=\"stroke: #A80036; stroke-width: 1.0;\"/><polygon fill=\"#FFFFFF\" points=\"385.52,223,378.4729,224.5294,377.1743,231.6226,384.2213,230.0932,385.52,223\" style=\"stroke: #A80036; stroke-width: 1.0;\"/></a><!--MD5=[05d275557350bfb9b23a4ef7222b4c39]\n",
       "link E3 to E2--><a href=\"psysml:0f45e557-8f0e-4df9-b1d8-28bd2526f5a3\" target=\"_top\" title=\"psysml:0f45e557-8f0e-4df9-b1d8-28bd2526f5a3\" xlink:actuate=\"onRequest\" xlink:href=\"psysml:0f45e557-8f0e-4df9-b1d8-28bd2526f5a3\" xlink:show=\"new\" xlink:title=\"psysml:0f45e557-8f0e-4df9-b1d8-28bd2526f5a3\" xlink:type=\"simple\"><path d=\"M353.8,282.93 C367.38,270.34 383.11,253.98 396.95,238.29 \" fill=\"none\" id=\"E3-&gt;E2\" style=\"stroke: #A80036; stroke-width: 1.0;\"/><polygon fill=\"#FFFFFF\" points=\"410.02,223,403.0007,241.9929,392.3563,232.8991,410.02,223\" style=\"stroke: #A80036; stroke-width: 1.0;\"/><ellipse cx=\"397.7776\" cy=\"245.0276\" fill=\"#A80036\" rx=\"2\" ry=\"2\" style=\"stroke: #A80036; stroke-width: 1.0;\"/><ellipse cx=\"390.1744\" cy=\"238.532\" fill=\"#A80036\" rx=\"2\" ry=\"2\" style=\"stroke: #A80036; stroke-width: 1.0;\"/></a><!--MD5=[9618e71518536f8baf3342ff6fdab317]\n",
       "reverse link E2 to E4--><a href=\"psysml:7f5381ff-79d6-4175-8599-1b084d5a38fb\" target=\"_top\" title=\"psysml:7f5381ff-79d6-4175-8599-1b084d5a38fb\" xlink:actuate=\"onRequest\" xlink:href=\"psysml:7f5381ff-79d6-4175-8599-1b084d5a38fb\" xlink:show=\"new\" xlink:title=\"psysml:7f5381ff-79d6-4175-8599-1b084d5a38fb\" xlink:type=\"simple\"><path d=\"M424.31,236.34 C425.74,252.61 428.58,269.81 432.23,282.93 \" fill=\"none\" id=\"E2&lt;-E4\" style=\"stroke: #A80036; stroke-width: 1.0;\"/><polygon fill=\"#A80036\" points=\"423.45,223,419.8475,229.2467,424.2281,234.9747,427.8306,228.728,423.45,223\" style=\"stroke: #A80036; stroke-width: 1.0;\"/></a><!--MD5=[185131fc0dcab0a4505a2ebe144e961b]\n",
       "link E4 to E2--><a href=\"psysml:9af83ecd-fc65-4272-8374-c2ac75a0337a\" target=\"_top\" title=\"psysml:9af83ecd-fc65-4272-8374-c2ac75a0337a\" xlink:actuate=\"onRequest\" xlink:href=\"psysml:9af83ecd-fc65-4272-8374-c2ac75a0337a\" xlink:show=\"new\" xlink:title=\"psysml:9af83ecd-fc65-4272-8374-c2ac75a0337a\" xlink:type=\"simple\"><path d=\"M453.17,282.93 C453.77,271.65 452.99,257.34 451.22,243.21 \" fill=\"none\" id=\"E4-&gt;E2\" style=\"stroke: #A80036; stroke-width: 1.0;\"/><polygon fill=\"#FFFFFF\" points=\"447.96,223,457.8973,240.6423,444.0761,242.8725,447.96,223\" style=\"stroke: #A80036; stroke-width: 1.0;\"/><ellipse cx=\"456.8309\" cy=\"246.5881\" fill=\"#A80036\" rx=\"2\" ry=\"2\" style=\"stroke: #A80036; stroke-width: 1.0;\"/><ellipse cx=\"446.9586\" cy=\"248.1811\" fill=\"#A80036\" rx=\"2\" ry=\"2\" style=\"stroke: #A80036; stroke-width: 1.0;\"/></a><!--MD5=[4e1a83fab71cdb913c109063314ae896]\n",
       "reverse link E2 to E5--><a href=\"psysml:648e9e41-ac7c-450e-af70-439d81f3f540\" target=\"_top\" title=\"psysml:648e9e41-ac7c-450e-af70-439d81f3f540\" xlink:actuate=\"onRequest\" xlink:href=\"psysml:648e9e41-ac7c-450e-af70-439d81f3f540\" xlink:show=\"new\" xlink:title=\"psysml:648e9e41-ac7c-450e-af70-439d81f3f540\" xlink:type=\"simple\"><path d=\"M499.85,227.17 C531.12,245.87 566.86,267.24 592.97,282.85 \" fill=\"none\" id=\"E2&lt;-E5\" style=\"stroke: #A80036; stroke-width: 1.0;\"/><polygon fill=\"#A80036\" points=\"488.56,220.42,491.6568,226.9323,498.8592,226.5784,495.7624,220.0661,488.56,220.42\" style=\"stroke: #A80036; stroke-width: 1.0;\"/></a><!--MD5=[ce036f65110ae2351ccce5a81dc2e928]\n",
       "reverse link E2 to E6--><a href=\"psysml:00b8b9a4-593e-406d-b505-212ff2a7c9c1\" target=\"_top\" title=\"psysml:00b8b9a4-593e-406d-b505-212ff2a7c9c1\" xlink:actuate=\"onRequest\" xlink:href=\"psysml:00b8b9a4-593e-406d-b505-212ff2a7c9c1\" xlink:show=\"new\" xlink:title=\"psysml:00b8b9a4-593e-406d-b505-212ff2a7c9c1\" xlink:type=\"simple\"><path d=\"M501.02,217.55 C506.06,219.49 511.08,221.33 516,223 C528.19,227.15 677.82,264.14 770.71,287 \" fill=\"none\" id=\"E2&lt;-E6\" style=\"stroke: #A80036; stroke-width: 1.0;\"/><polygon fill=\"#A80036\" points=\"488.57,212.58,492.6577,218.5206,499.7135,217.0321,495.6258,211.0916,488.57,212.58\" style=\"stroke: #A80036; stroke-width: 1.0;\"/></a><!--MD5=[3a9b96bfbf6b6ad89c494e81751bda47]\n",
       "link E5 to E7--><a href=\"psysml:088b8ee7-f1bc-4574-b816-43bcf4f14b77\" target=\"_top\" title=\"psysml:088b8ee7-f1bc-4574-b816-43bcf4f14b77\" xlink:actuate=\"onRequest\" xlink:href=\"psysml:088b8ee7-f1bc-4574-b816-43bcf4f14b77\" xlink:show=\"new\" xlink:title=\"psysml:088b8ee7-f1bc-4574-b816-43bcf4f14b77\" xlink:type=\"simple\"><path d=\"M630,329.06 C630,340.64 630,355.23 630,368.87 \" fill=\"none\" id=\"E5-&gt;E7\" style=\"stroke: #A80036; stroke-width: 1.0;\"/><polygon fill=\"#FFFFFF\" points=\"630,388.98,623,369.98,637,369.98,630,388.98\" style=\"stroke: #A80036; stroke-width: 1.0;\"/><ellipse cx=\"625\" cy=\"364.28\" fill=\"#A80036\" rx=\"2\" ry=\"2\" style=\"stroke: #A80036; stroke-width: 1.0;\"/><ellipse cx=\"635\" cy=\"364.28\" fill=\"#A80036\" rx=\"2\" ry=\"2\" style=\"stroke: #A80036; stroke-width: 1.0;\"/></a><!--MD5=[dc164f5e8a733ab456ef1add180e9e34]\n",
       "reverse link E7 to E8--><a href=\"psysml:c8813ef9-ffa9-4c9d-80a4-dd20f6c80ea5\" target=\"_top\" title=\"psysml:c8813ef9-ffa9-4c9d-80a4-dd20f6c80ea5\" xlink:actuate=\"onRequest\" xlink:href=\"psysml:c8813ef9-ffa9-4c9d-80a4-dd20f6c80ea5\" xlink:show=\"new\" xlink:title=\"psysml:c8813ef9-ffa9-4c9d-80a4-dd20f6c80ea5\" xlink:type=\"simple\"><path d=\"M601.55,445.16 C587.25,461.33 570.28,480.51 557.48,494.98 \" fill=\"none\" id=\"E7&lt;-E8\" style=\"stroke: #A80036; stroke-width: 1.0;\"/><polygon fill=\"#A80036\" points=\"610.49,435.06,603.5177,436.9004,602.5348,444.0442,609.5071,442.2038,610.49,435.06\" style=\"stroke: #A80036; stroke-width: 1.0;\"/></a><!--MD5=[e4a10ef82d0e328e31cac39a31e58dda]\n",
       "reverse link E7 to E9--><a href=\"psysml:cdca8d7c-6aa5-4fff-9e0e-900e3ba85343\" target=\"_top\" title=\"psysml:cdca8d7c-6aa5-4fff-9e0e-900e3ba85343\" xlink:actuate=\"onRequest\" xlink:href=\"psysml:cdca8d7c-6aa5-4fff-9e0e-900e3ba85343\" xlink:show=\"new\" xlink:title=\"psysml:cdca8d7c-6aa5-4fff-9e0e-900e3ba85343\" xlink:type=\"simple\"><path d=\"M658.14,445.16 C672.29,461.33 689.07,480.51 701.73,494.98 \" fill=\"none\" id=\"E7&lt;-E9\" style=\"stroke: #A80036; stroke-width: 1.0;\"/><polygon fill=\"#A80036\" points=\"649.3,435.06,650.2496,442.2083,657.2133,444.0811,656.2637,436.9328,649.3,435.06\" style=\"stroke: #A80036; stroke-width: 1.0;\"/></a><!--MD5=[a919e0967d6f3de553dc51b9865a1d6d]\n",
       "link E10 to E7--><a href=\"psysml:43f26010-ca40-42d6-8df0-e4847d82fc63\" target=\"_top\" title=\"psysml:43f26010-ca40-42d6-8df0-e4847d82fc63\" xlink:actuate=\"onRequest\" xlink:href=\"psysml:43f26010-ca40-42d6-8df0-e4847d82fc63\" xlink:show=\"new\" xlink:title=\"psysml:43f26010-ca40-42d6-8df0-e4847d82fc63\" xlink:type=\"simple\"><path d=\"M564.36,87.23 C542.92,120.68 510.65,184.15 544,223 C658.5,356.41 820.5,149.59 935,283 C997.3,355.58 849.41,387.9 738.47,401.63 \" fill=\"none\" id=\"E10-&gt;E7\" style=\"stroke: #A80036; stroke-width: 1.0;\"/><polygon fill=\"#FFFFFF\" points=\"718.6,403.94,736.6627,394.7891,738.2822,408.6951,718.6,403.94\" style=\"stroke: #A80036; stroke-width: 1.0;\"/><ellipse cx=\"742.5558\" cy=\"396.1162\" fill=\"#A80036\" rx=\"2\" ry=\"2\" style=\"stroke: #A80036; stroke-width: 1.0;\"/><ellipse cx=\"743.7126\" cy=\"406.0491\" fill=\"#A80036\" rx=\"2\" ry=\"2\" style=\"stroke: #A80036; stroke-width: 1.0;\"/></a><!--MD5=[0f36bececdf0dff6e600d6f64214b0f1]\n",
       "link E10 to E2--><a href=\"psysml:ac89f7fb-b091-4bc7-aaea-6377fc157ffe\" target=\"_top\" title=\"psysml:ac89f7fb-b091-4bc7-aaea-6377fc157ffe\" xlink:actuate=\"onRequest\" xlink:href=\"psysml:ac89f7fb-b091-4bc7-aaea-6377fc157ffe\" xlink:show=\"new\" xlink:title=\"psysml:ac89f7fb-b091-4bc7-aaea-6377fc157ffe\" xlink:type=\"simple\"><path d=\"M552.32,87.1 C535.71,100.38 513.86,117.82 493.29,134.25 \" fill=\"none\" id=\"E10-&gt;E2\" style=\"stroke: #A80036; stroke-width: 1.0;\"/><polygon fill=\"#FFFFFF\" points=\"477.56,146.81,488.0352,129.4817,496.7737,140.4197,477.56,146.81\" style=\"stroke: #A80036; stroke-width: 1.0;\"/><ellipse cx=\"493.7369\" cy=\"127.4865\" fill=\"#A80036\" rx=\"2\" ry=\"2\" style=\"stroke: #A80036; stroke-width: 1.0;\"/><ellipse cx=\"499.9786\" cy=\"135.2994\" fill=\"#A80036\" rx=\"2\" ry=\"2\" style=\"stroke: #A80036; stroke-width: 1.0;\"/></a><!--MD5=[de308be4a2431766a05a907a031c07fc]\n",
       "reverse link E10 to E11--><a href=\"psysml:75c081c5-05e2-401c-b103-d900689a3a49\" target=\"_top\" title=\"psysml:75c081c5-05e2-401c-b103-d900689a3a49\" xlink:actuate=\"onRequest\" xlink:href=\"psysml:75c081c5-05e2-401c-b103-d900689a3a49\" xlink:show=\"new\" xlink:title=\"psysml:75c081c5-05e2-401c-b103-d900689a3a49\" xlink:type=\"simple\"><path d=\"M595.95,98.9 C605.42,119.01 617.15,143.94 625.46,161.61 \" fill=\"none\" id=\"E10&lt;-E11\" style=\"stroke: #A80036; stroke-width: 1.0;\"/><polygon fill=\"#A80036\" points=\"590.4,87.1,589.3334,94.2318,595.5064,97.9593,596.573,90.8275,590.4,87.1\" style=\"stroke: #A80036; stroke-width: 1.0;\"/></a><!--MD5=[1d54f998c6d5961a1a9184be73a7eb6c]\n",
       "reverse link E10 to E12--><a href=\"psysml:54130436-8b1f-4706-a610-d99b2d4cb5d4\" target=\"_top\" title=\"psysml:54130436-8b1f-4706-a610-d99b2d4cb5d4\" xlink:actuate=\"onRequest\" xlink:href=\"psysml:54130436-8b1f-4706-a610-d99b2d4cb5d4\" xlink:show=\"new\" xlink:title=\"psysml:54130436-8b1f-4706-a610-d99b2d4cb5d4\" xlink:type=\"simple\"><path d=\"M642.21,92.42 C689.99,113.48 755.13,142.19 799.66,161.81 \" fill=\"none\" id=\"E10&lt;-E12\" style=\"stroke: #A80036; stroke-width: 1.0;\"/><polygon fill=\"#A80036\" points=\"630.15,87.1,634.028,93.1796,641.1314,91.9382,637.2534,85.8586,630.15,87.1\" style=\"stroke: #A80036; stroke-width: 1.0;\"/></a><!--MD5=[4a48077df6499cfcd20b62e8f5f37904]\n",
       "link E13 to E7--><a href=\"psysml:85f16706-e1b7-404d-9ee5-57d420bfb7f2\" target=\"_top\" title=\"psysml:85f16706-e1b7-404d-9ee5-57d420bfb7f2\" xlink:actuate=\"onRequest\" xlink:href=\"psysml:85f16706-e1b7-404d-9ee5-57d420bfb7f2\" xlink:show=\"new\" xlink:title=\"psysml:85f16706-e1b7-404d-9ee5-57d420bfb7f2\" xlink:type=\"simple\"><path d=\"M242.34,329.06 C324.51,346.43 438.67,370.56 521.82,388.13 \" fill=\"none\" id=\"E13-&gt;E7\" style=\"stroke: #A80036; stroke-width: 1.0;\"/><polygon fill=\"#FFFFFF\" points=\"541.45,392.28,521.4143,395.2075,524.304,381.509,541.45,392.28\" style=\"stroke: #A80036; stroke-width: 1.0;\"/><ellipse cx=\"516.2498\" cy=\"392.0741\" fill=\"#A80036\" rx=\"2\" ry=\"2\" style=\"stroke: #A80036; stroke-width: 1.0;\"/><ellipse cx=\"518.3139\" cy=\"382.2894\" fill=\"#A80036\" rx=\"2\" ry=\"2\" style=\"stroke: #A80036; stroke-width: 1.0;\"/></a><!--MD5=[4987a838ff6aaaae99ea403db8feae86]\n",
       "@startuml\r\n",
       "skinparam wrapWidth 300\r\n",
       "hide circle\r\n",
       "\r\n",
       "package \"OccurrenceTest\" as E1  [[psysml:53f1d42d-2686-4f4b-950f-b84b40bc19b2 ]]  {\r\n",
       "comp def \"Occ\" as E2  <<(T,blue) occurrence  def>> [[psysml:77ba500d-77fd-484e-b411-8833010da35e ]] {\r\n",
       "- - attributes - -\r\n",
       "a\r\n",
       "}\r\n",
       "comp usage \"occ1: Occ \" as E3  <<(T,blue) occurrence>> [[psysml:37011562-c12e-4ce2-bbf9-af5619a300f0 ]] {\r\n",
       "}\r\n",
       "comp usage \"occ2: Occ \" as E4  <<(T,blue) occurrence>> [[psysml:3522e0a2-d0dd-4c95-916a-e9f89fbadd86 ]] {\r\n",
       "}\r\n",
       "comp usage \"s: Ind \" as E5  <<(T,blue) individual snapshot occurrence>> [[psysml:2ba1b44f-ac88-49ba-a1da-8edc5df2da3a ]] {\r\n",
       "}\r\n",
       "comp usage \"t \" as E6  <<(T,blue) timeslice occurrence>> [[psysml:aefaf76d-f241-48e8-80ea-b99598299972 ]] {\r\n",
       "}\r\n",
       "comp def \"Ind\" as E7  <<(T,blue) individual occurrence  def>> [[psysml:991e81ed-291b-4563-955c-44288cc9fc81 ]] {\r\n",
       "}\r\n",
       "comp usage \"s2 \" as E8  <<(T,blue) snapshot occurrence>> [[psysml:fb7dbc0d-a670-4e6d-a2b6-24a9a70c023a ]] {\r\n",
       "}\r\n",
       "comp usage \"t2 \" as E9  <<(T,blue) timeslice occurrence>> [[psysml:ae0fd4ea-8dc7-4cb0-a32c-5615a8f756eb ]] {\r\n",
       "}\r\n",
       "comp usage \"ind: Ind, Occ \" as E10  <<(T,blue) individual occurrence>> [[psysml:90168d9a-6358-4939-88d7-8ec9974b52c6 ]] {\r\n",
       "}\r\n",
       "comp usage \"s3 \" as E11  <<(T,blue) snapshot occurrence>> [[psysml:d0eba55f-a402-4b22-88ba-9857d6bd50ac ]] {\r\n",
       "}\r\n",
       "comp usage \"t3 \" as E12  <<(T,blue) individual timeslice occurrence>> [[psysml:0232df4f-93e4-4add-8902-f942e03a0634 ]] {\r\n",
       "}\r\n",
       "comp usage \"s4: Ind \" as E13  <<(T,blue) individual snapshot occurrence>> [[psysml:5cbde71f-e2d0-40cd-91ed-92f5bc776eb7 ]] {\r\n",
       "}\r\n",
       "}\r\n",
       "E2 o- - E3 [[psysml:111e77a4-44f2-45ac-862d-a1e02a1cad26 ]] \r\n",
       "E3 - -:|> E2 [[psysml:0f45e557-8f0e-4df9-b1d8-28bd2526f5a3 ]] \r\n",
       "E2 *- - E4 [[psysml:7f5381ff-79d6-4175-8599-1b084d5a38fb ]] \r\n",
       "E4 - -:|> E2 [[psysml:9af83ecd-fc65-4272-8374-c2ac75a0337a ]] \r\n",
       "E2 *- - E5 [[psysml:648e9e41-ac7c-450e-af70-439d81f3f540 ]] \r\n",
       "E2 *- - E6 [[psysml:00b8b9a4-593e-406d-b505-212ff2a7c9c1 ]] \r\n",
       "E5 - -:|> E7 [[psysml:088b8ee7-f1bc-4574-b816-43bcf4f14b77 ]] \r\n",
       "E7 *- - E8 [[psysml:c8813ef9-ffa9-4c9d-80a4-dd20f6c80ea5 ]] \r\n",
       "E7 *- - E9 [[psysml:cdca8d7c-6aa5-4fff-9e0e-900e3ba85343 ]] \r\n",
       "E10 - -:|> E7 [[psysml:43f26010-ca40-42d6-8df0-e4847d82fc63 ]] \r\n",
       "E10 - -:|> E2 [[psysml:ac89f7fb-b091-4bc7-aaea-6377fc157ffe ]] \r\n",
       "E10 *- - E11 [[psysml:75c081c5-05e2-401c-b103-d900689a3a49 ]] \r\n",
       "E10 *- - E12 [[psysml:54130436-8b1f-4706-a610-d99b2d4cb5d4 ]] \r\n",
       "E13 - -:|> E7 [[psysml:85f16706-e1b7-404d-9ee5-57d420bfb7f2 ]] \r\n",
       "@enduml\r\n",
       "\n",
       "PlantUML version 1.2020.13(Sat Jun 13 12:26:38 UTC 2020)\n",
       "(EPL source distribution)\n",
       "Java Runtime: OpenJDK Runtime Environment\n",
       "JVM: OpenJDK 64-Bit Server VM\n",
       "Default Encoding: UTF-8\n",
       "Language: en\n",
       "Country: null\n",
       "--></g></svg>"
      ]
     },
     "execution_count": 24,
     "metadata": {},
     "output_type": "execute_result"
    }
   ],
   "source": [
    "%viz --style=\"STDCOLOR\" --view=\"Tree\" \"OccurrenceTest\""
   ]
  },
  {
   "cell_type": "code",
   "execution_count": 25,
   "id": "8818962d",
   "metadata": {
    "execution": {
     "iopub.execute_input": "2022-07-23T10:52:32.362631Z",
     "iopub.status.busy": "2022-07-23T10:52:32.362118Z",
     "iopub.status.idle": "2022-07-23T10:52:32.365851Z",
     "shell.execute_reply": "2022-07-23T10:52:32.366190Z"
    }
   },
   "outputs": [
    {
     "data": {
      "image/svg+xml": [
       "<?xml version=\"1.0\" encoding=\"UTF-8\" standalone=\"no\"?><svg xmlns=\"http://www.w3.org/2000/svg\" xmlns:xlink=\"http://www.w3.org/1999/xlink\" contentScriptType=\"application/ecmascript\" contentStyleType=\"text/css\" height=\"12px\" preserveAspectRatio=\"none\" style=\"width:12px;height:12px;\" version=\"1.1\" viewBox=\"0 0 12 12\" width=\"12px\" zoomAndPan=\"magnify\"><defs/><g><!--MD5=[aeeef50f102b80d730deb6443d14f702]\n",
       "@startuml\r\n",
       "skinparam wrapWidth 300\r\n",
       "hide circle\r\n",
       "\r\n",
       "@enduml\r\n",
       "\n",
       "PlantUML version 1.2020.13(Sat Jun 13 12:26:38 UTC 2020)\n",
       "(EPL source distribution)\n",
       "Java Runtime: OpenJDK Runtime Environment\n",
       "JVM: OpenJDK 64-Bit Server VM\n",
       "Default Encoding: UTF-8\n",
       "Language: en\n",
       "Country: null\n",
       "--></g></svg>"
      ]
     },
     "execution_count": 25,
     "metadata": {},
     "output_type": "execute_result"
    }
   ],
   "source": [
    "%viz --style=\"STDCOLOR\" --view=\"State\" \"OccurrenceTest\""
   ]
  },
  {
   "cell_type": "code",
   "execution_count": 26,
   "id": "7a47afc9",
   "metadata": {
    "execution": {
     "iopub.execute_input": "2022-07-23T10:52:32.415899Z",
     "iopub.status.busy": "2022-07-23T10:52:32.415428Z",
     "iopub.status.idle": "2022-07-23T10:52:32.448139Z",
     "shell.execute_reply": "2022-07-23T10:52:32.447684Z"
    }
   },
   "outputs": [
    {
     "data": {
      "image/svg+xml": [
       "<?xml version=\"1.0\" encoding=\"UTF-8\" standalone=\"no\"?><svg xmlns=\"http://www.w3.org/2000/svg\" xmlns:xlink=\"http://www.w3.org/1999/xlink\" contentScriptType=\"application/ecmascript\" contentStyleType=\"text/css\" height=\"278px\" preserveAspectRatio=\"none\" style=\"width:802px;height:278px;\" version=\"1.1\" viewBox=\"0 0 802 278\" width=\"802px\" zoomAndPan=\"magnify\"><defs><filter height=\"300%\" id=\"f1h1o5wvq4c3fl\" width=\"300%\" x=\"-1\" y=\"-1\"><feGaussianBlur result=\"blurOut\" stdDeviation=\"2.0\"/><feColorMatrix in=\"blurOut\" result=\"blurOut2\" type=\"matrix\" values=\"0 0 0 0 0 0 0 0 0 0 0 0 0 0 0 0 0 0 .4 0\"/><feOffset dx=\"4.0\" dy=\"4.0\" in=\"blurOut2\" result=\"blurOut3\"/><feBlend in=\"SourceGraphic\" in2=\"blurOut3\" mode=\"normal\"/></filter></defs><g><!--MD5=[fbc87193dbaf4d95561dea2c320d4a47]\n",
       "cluster E1--><a href=\"psysml:53f1d42d-2686-4f4b-950f-b84b40bc19b2\" target=\"_top\" title=\"psysml:53f1d42d-2686-4f4b-950f-b84b40bc19b2\" xlink:actuate=\"onRequest\" xlink:href=\"psysml:53f1d42d-2686-4f4b-950f-b84b40bc19b2\" xlink:show=\"new\" xlink:title=\"psysml:53f1d42d-2686-4f4b-950f-b84b40bc19b2\" xlink:type=\"simple\"><polygon fill=\"#FFFFFF\" filter=\"url(#f1h1o5wvq4c3fl)\" points=\"16,6,134,6,141,28.2969,780,28.2969,780,266,16,266,16,6\" style=\"stroke: #000000; stroke-width: 1.5;\"/><line style=\"stroke: #000000; stroke-width: 1.5;\" x1=\"16\" x2=\"141\" y1=\"28.2969\" y2=\"28.2969\"/><text fill=\"#000000\" font-family=\"sans-serif\" font-size=\"14\" font-weight=\"bold\" lengthAdjust=\"spacingAndGlyphs\" textLength=\"112\" x=\"20\" y=\"20.9951\">OccurrenceTest</text></a><!--MD5=[f6df4d0ebaf0b5dfb2ced0ae5af7c670]\n",
       "cluster E4--><a href=\"psysml:90168d9a-6358-4939-88d7-8ec9974b52c6\" target=\"_top\" title=\"psysml:90168d9a-6358-4939-88d7-8ec9974b52c6\" xlink:actuate=\"onRequest\" xlink:href=\"psysml:90168d9a-6358-4939-88d7-8ec9974b52c6\" xlink:show=\"new\" xlink:title=\"psysml:90168d9a-6358-4939-88d7-8ec9974b52c6\" xlink:type=\"simple\"><rect fill=\"#FFFFFF\" filter=\"url(#f1h1o5wvq4c3fl)\" height=\"126\" id=\"E4\" rx=\"10\" ry=\"10\" style=\"stroke: #A80036; stroke-width: 1.5;\" width=\"471\" x=\"277\" y=\"57\"/><rect fill=\"#FEFECE\" height=\"37.9375\" rx=\"10\" ry=\"10\" style=\"stroke: #FEFECE; stroke-width: 1.5;\" width=\"471\" x=\"277\" y=\"57\"/><rect fill=\"#FEFECE\" height=\"10\" style=\"stroke: #FEFECE; stroke-width: 1.5;\" width=\"471\" x=\"277\" y=\"84.9375\"/><rect fill=\"none\" height=\"126\" id=\"E4\" rx=\"10\" ry=\"10\" style=\"stroke: #A80036; stroke-width: 1.5;\" width=\"471\" x=\"277\" y=\"57\"/><text fill=\"#000000\" font-family=\"sans-serif\" font-size=\"12\" font-style=\"italic\" lengthAdjust=\"spacingAndGlyphs\" textLength=\"147\" x=\"439\" y=\"73.1387\">«individual occurrence»</text><text fill=\"#000000\" font-family=\"sans-serif\" font-size=\"12\" lengthAdjust=\"spacingAndGlyphs\" textLength=\"77\" x=\"474\" y=\"87.1074\">ind: Ind, Occ</text><line style=\"stroke: #A80036; stroke-width: 1.0;\" x1=\"277\" x2=\"748\" y1=\"94.9375\" y2=\"94.9375\"/></a><g id=\"E1.E2\"><a href=\"psysml:77ba500d-77fd-484e-b411-8833010da35e\" target=\"_top\" title=\"psysml:77ba500d-77fd-484e-b411-8833010da35e\" xlink:actuate=\"onRequest\" xlink:href=\"psysml:77ba500d-77fd-484e-b411-8833010da35e\" xlink:show=\"new\" xlink:title=\"psysml:77ba500d-77fd-484e-b411-8833010da35e\" xlink:type=\"simple\"><rect fill=\"#FEFECE\" filter=\"url(#f1h1o5wvq4c3fl)\" height=\"42.9375\" id=\"E2\" style=\"stroke: #A80036; stroke-width: 1.5;\" width=\"120\" x=\"267\" y=\"207\"/><text fill=\"#000000\" font-family=\"sans-serif\" font-size=\"12\" font-style=\"italic\" lengthAdjust=\"spacingAndGlyphs\" textLength=\"113\" x=\"270.5\" y=\"223.1387\">«occurrence  def»</text><text fill=\"#000000\" font-family=\"sans-serif\" font-size=\"12\" lengthAdjust=\"spacingAndGlyphs\" textLength=\"23\" x=\"315.5\" y=\"237.1074\">Occ</text></a></g><g id=\"E1.E3\"><a href=\"psysml:991e81ed-291b-4563-955c-44288cc9fc81\" target=\"_top\" title=\"psysml:991e81ed-291b-4563-955c-44288cc9fc81\" xlink:actuate=\"onRequest\" xlink:href=\"psysml:991e81ed-291b-4563-955c-44288cc9fc81\" xlink:show=\"new\" xlink:title=\"psysml:991e81ed-291b-4563-955c-44288cc9fc81\" xlink:type=\"simple\"><rect fill=\"#FEFECE\" filter=\"url(#f1h1o5wvq4c3fl)\" height=\"42.9375\" id=\"E3\" style=\"stroke: #A80036; stroke-width: 1.5;\" width=\"182\" x=\"50\" y=\"207\"/><text fill=\"#000000\" font-family=\"sans-serif\" font-size=\"12\" font-style=\"italic\" lengthAdjust=\"spacingAndGlyphs\" textLength=\"175\" x=\"53.5\" y=\"223.1387\">«individual occurrence  def»</text><text fill=\"#000000\" font-family=\"sans-serif\" font-size=\"12\" lengthAdjust=\"spacingAndGlyphs\" textLength=\"19\" x=\"131.5\" y=\"237.1074\">Ind</text></a></g><g id=\"E1.E4.E5\"><a href=\"psysml:d0eba55f-a402-4b22-88ba-9857d6bd50ac\" target=\"_top\" title=\"psysml:d0eba55f-a402-4b22-88ba-9857d6bd50ac\" xlink:actuate=\"onRequest\" xlink:href=\"psysml:d0eba55f-a402-4b22-88ba-9857d6bd50ac\" xlink:show=\"new\" xlink:title=\"psysml:d0eba55f-a402-4b22-88ba-9857d6bd50ac\" xlink:type=\"simple\"><rect fill=\"#FEFECE\" filter=\"url(#f1h1o5wvq4c3fl)\" height=\"42.9375\" id=\"E5\" rx=\"10\" ry=\"10\" style=\"stroke: #A80036; stroke-width: 1.5;\" width=\"155\" x=\"568.5\" y=\"116\"/><text fill=\"#000000\" font-family=\"sans-serif\" font-size=\"12\" font-style=\"italic\" lengthAdjust=\"spacingAndGlyphs\" textLength=\"148\" x=\"572\" y=\"132.1387\">«snapshot occurrence»</text><text fill=\"#000000\" font-family=\"sans-serif\" font-size=\"12\" lengthAdjust=\"spacingAndGlyphs\" textLength=\"15\" x=\"638.5\" y=\"146.1074\">s3</text></a></g><g id=\"E1.E4.E6\"><a href=\"psysml:0232df4f-93e4-4add-8902-f942e03a0634\" target=\"_top\" title=\"psysml:0232df4f-93e4-4add-8902-f942e03a0634\" xlink:actuate=\"onRequest\" xlink:href=\"psysml:0232df4f-93e4-4add-8902-f942e03a0634\" xlink:show=\"new\" xlink:title=\"psysml:0232df4f-93e4-4add-8902-f942e03a0634\" xlink:type=\"simple\"><rect fill=\"#FEFECE\" filter=\"url(#f1h1o5wvq4c3fl)\" height=\"42.9375\" id=\"E6\" rx=\"10\" ry=\"10\" style=\"stroke: #A80036; stroke-width: 1.5;\" width=\"213\" x=\"320.5\" y=\"116\"/><text fill=\"#000000\" font-family=\"sans-serif\" font-size=\"12\" font-style=\"italic\" lengthAdjust=\"spacingAndGlyphs\" textLength=\"206\" x=\"324\" y=\"132.1387\">«individual timeslice occurrence»</text><text fill=\"#000000\" font-family=\"sans-serif\" font-size=\"12\" lengthAdjust=\"spacingAndGlyphs\" textLength=\"13\" x=\"420.5\" y=\"146.1074\">t3</text></a></g><g id=\"E1.E7\"><a href=\"psysml:5cbde71f-e2d0-40cd-91ed-92f5bc776eb7\" target=\"_top\" title=\"psysml:5cbde71f-e2d0-40cd-91ed-92f5bc776eb7\" xlink:actuate=\"onRequest\" xlink:href=\"psysml:5cbde71f-e2d0-40cd-91ed-92f5bc776eb7\" xlink:show=\"new\" xlink:title=\"psysml:5cbde71f-e2d0-40cd-91ed-92f5bc776eb7\" xlink:type=\"simple\"><rect fill=\"#FEFECE\" filter=\"url(#f1h1o5wvq4c3fl)\" height=\"42.9375\" id=\"E7\" rx=\"10\" ry=\"10\" style=\"stroke: #A80036; stroke-width: 1.5;\" width=\"217\" x=\"32.5\" y=\"116\"/><text fill=\"#000000\" font-family=\"sans-serif\" font-size=\"12\" font-style=\"italic\" lengthAdjust=\"spacingAndGlyphs\" textLength=\"210\" x=\"36\" y=\"132.1387\">«individual snapshot occurrence»</text><text fill=\"#000000\" font-family=\"sans-serif\" font-size=\"12\" lengthAdjust=\"spacingAndGlyphs\" textLength=\"42\" x=\"120\" y=\"146.1074\">s4: Ind</text></a></g><!--MD5=[f0cdf4548168e5211fb3a02bf679d63a]\n",
       "link E4 to E3--><a href=\"psysml:43f26010-ca40-42d6-8df0-e4847d82fc63\" target=\"_top\" title=\"psysml:43f26010-ca40-42d6-8df0-e4847d82fc63\" xlink:actuate=\"onRequest\" xlink:href=\"psysml:43f26010-ca40-42d6-8df0-e4847d82fc63\" xlink:show=\"new\" xlink:title=\"psysml:43f26010-ca40-42d6-8df0-e4847d82fc63\" xlink:type=\"simple\"><path d=\"M288.6717,183.098 C288.6493,183.1971 288.6265,183.2961 288.6034,183.395 C288.5573,183.5929 288.5099,183.7903 288.4613,183.9873 C288.2668,184.7755 288.0523,185.5571 287.8164,186.3304 C287.3447,187.8771 286.7878,189.3908 286.1357,190.8582 C284.8314,193.793 283.1463,196.5425 281,199 C280.25,199.86 268.42,202.57 251.92,205.99 \" fill=\"none\" id=\"E4-&gt;E3\" style=\"stroke: #A80036; stroke-width: 1.0;\"/><polygon fill=\"#FFFFFF\" points=\"232.08,210.03,249.304,199.3842,252.0939,213.1034,232.08,210.03\" style=\"stroke: #A80036; stroke-width: 1.0;\"/><ellipse cx=\"255.2882\" cy=\"200.2082\" fill=\"#A80036\" rx=\"2\" ry=\"2\" style=\"stroke: #A80036; stroke-width: 1.0;\"/><ellipse cx=\"257.281\" cy=\"210.0076\" fill=\"#A80036\" rx=\"2\" ry=\"2\" style=\"stroke: #A80036; stroke-width: 1.0;\"/></a><!--MD5=[185131fc0dcab0a4505a2ebe144e961b]\n",
       "link E4 to E2--><a href=\"psysml:ac89f7fb-b091-4bc7-aaea-6377fc157ffe\" target=\"_top\" title=\"psysml:ac89f7fb-b091-4bc7-aaea-6377fc157ffe\" xlink:actuate=\"onRequest\" xlink:href=\"psysml:ac89f7fb-b091-4bc7-aaea-6377fc157ffe\" xlink:show=\"new\" xlink:title=\"psysml:ac89f7fb-b091-4bc7-aaea-6377fc157ffe\" xlink:type=\"simple\"><path d=\"M298.6244,183.1688 C298.6641,183.2672 298.704,183.3657 298.744,183.4642 C298.8239,183.6612 298.9043,183.8585 298.9851,184.056 C299.6311,185.6364 300.3025,187.2325 301,188.84 \" fill=\"none\" id=\"E4-&gt;E2\" style=\"stroke: #A80036; stroke-width: 1.0;\"/><polygon fill=\"#FFFFFF\" points=\"309.82,206.88,295.1865,192.885,307.764,186.7362,309.82,206.88\" style=\"stroke: #A80036; stroke-width: 1.0;\"/><ellipse cx=\"294.4799\" cy=\"186.8857\" fill=\"#A80036\" rx=\"2\" ry=\"2\" style=\"stroke: #A80036; stroke-width: 1.0;\"/><ellipse cx=\"303.4638\" cy=\"182.4938\" fill=\"#A80036\" rx=\"2\" ry=\"2\" style=\"stroke: #A80036; stroke-width: 1.0;\"/></a><!--MD5=[14ccda38c055a5c0da953d572bc50960]\n",
       "link E7 to E3--><a href=\"psysml:85f16706-e1b7-404d-9ee5-57d420bfb7f2\" target=\"_top\" title=\"psysml:85f16706-e1b7-404d-9ee5-57d420bfb7f2\" xlink:actuate=\"onRequest\" xlink:href=\"psysml:85f16706-e1b7-404d-9ee5-57d420bfb7f2\" xlink:show=\"new\" xlink:title=\"psysml:85f16706-e1b7-404d-9ee5-57d420bfb7f2\" xlink:type=\"simple\"><path d=\"M141,159.14 C141,167.34 141,177.08 141,186.59 \" fill=\"none\" id=\"E7-&gt;E3\" style=\"stroke: #A80036; stroke-width: 1.0;\"/><polygon fill=\"#FFFFFF\" points=\"141,206.97,134,187.97,148,187.97,141,206.97\" style=\"stroke: #A80036; stroke-width: 1.0;\"/><ellipse cx=\"136\" cy=\"182.27\" fill=\"#A80036\" rx=\"2\" ry=\"2\" style=\"stroke: #A80036; stroke-width: 1.0;\"/><ellipse cx=\"146\" cy=\"182.27\" fill=\"#A80036\" rx=\"2\" ry=\"2\" style=\"stroke: #A80036; stroke-width: 1.0;\"/></a><!--MD5=[758201f7cbf002b4df707c24874d9cd2]\n",
       "@startuml\r\n",
       "skinparam ranksep 10\r\n",
       "skinparam rectangle {\r\n",
       " backgroundColor<<block>> LightGreen\r\n",
       "}\r\n",
       "skinparam wrapWidth 300\r\n",
       "hide circle\r\n",
       "\r\n",
       "package \"OccurrenceTest\" as E1  [[psysml:53f1d42d-2686-4f4b-950f-b84b40bc19b2 ]]  {\r\n",
       "def \"Occ\" as E2  <<(T,blue) occurrence  def>> [[psysml:77ba500d-77fd-484e-b411-8833010da35e ]] \r\n",
       "def \"Ind\" as E3  <<(T,blue) individual occurrence  def>> [[psysml:991e81ed-291b-4563-955c-44288cc9fc81 ]] \r\n",
       "rec usage \"ind: Ind, Occ\" as E4  <<(T,blue) individual occurrence>> [[psysml:90168d9a-6358-4939-88d7-8ec9974b52c6 ]] {\r\n",
       "rec usage \"s3\" as E5  <<(T,blue) snapshot occurrence>> [[psysml:d0eba55f-a402-4b22-88ba-9857d6bd50ac ]] {\r\n",
       "}\r\n",
       "rec usage \"t3\" as E6  <<(T,blue) individual timeslice occurrence>> [[psysml:0232df4f-93e4-4add-8902-f942e03a0634 ]] {\r\n",
       "}\r\n",
       "}\r\n",
       "rec usage \"s4: Ind\" as E7  <<(T,blue) individual snapshot occurrence>> [[psysml:5cbde71f-e2d0-40cd-91ed-92f5bc776eb7 ]] {\r\n",
       "}\r\n",
       "}\r\n",
       "E4 - -:|> E3 [[psysml:43f26010-ca40-42d6-8df0-e4847d82fc63 ]] \r\n",
       "E4 - -:|> E2 [[psysml:ac89f7fb-b091-4bc7-aaea-6377fc157ffe ]] \r\n",
       "E7 - -:|> E3 [[psysml:85f16706-e1b7-404d-9ee5-57d420bfb7f2 ]] \r\n",
       "@enduml\r\n",
       "\n",
       "PlantUML version 1.2020.13(Sat Jun 13 12:26:38 UTC 2020)\n",
       "(EPL source distribution)\n",
       "Java Runtime: OpenJDK Runtime Environment\n",
       "JVM: OpenJDK 64-Bit Server VM\n",
       "Default Encoding: UTF-8\n",
       "Language: en\n",
       "Country: null\n",
       "--></g></svg>"
      ]
     },
     "execution_count": 26,
     "metadata": {},
     "output_type": "execute_result"
    }
   ],
   "source": [
    "%viz --style=\"STDCOLOR\" --view=\"Interconnection\" \"OccurrenceTest\""
   ]
  },
  {
   "cell_type": "code",
   "execution_count": 27,
   "id": "3b480dcd",
   "metadata": {
    "execution": {
     "iopub.execute_input": "2022-07-23T10:52:32.497763Z",
     "iopub.status.busy": "2022-07-23T10:52:32.497246Z",
     "iopub.status.idle": "2022-07-23T10:52:32.501370Z",
     "shell.execute_reply": "2022-07-23T10:52:32.501683Z"
    }
   },
   "outputs": [
    {
     "data": {
      "image/svg+xml": [
       "<?xml version=\"1.0\" encoding=\"UTF-8\" standalone=\"no\"?><svg xmlns=\"http://www.w3.org/2000/svg\" xmlns:xlink=\"http://www.w3.org/1999/xlink\" contentScriptType=\"application/ecmascript\" contentStyleType=\"text/css\" height=\"12px\" preserveAspectRatio=\"none\" style=\"width:12px;height:12px;\" version=\"1.1\" viewBox=\"0 0 12 12\" width=\"12px\" zoomAndPan=\"magnify\"><defs/><g><!--MD5=[9863325348a96a77dacc89509d8ee65e]\n",
       "@startuml\r\n",
       "skinparam ranksep 8\r\n",
       "skinparam wrapWidth 300\r\n",
       "hide circle\r\n",
       "\r\n",
       "@enduml\r\n",
       "\n",
       "PlantUML version 1.2020.13(Sat Jun 13 12:26:38 UTC 2020)\n",
       "(EPL source distribution)\n",
       "Java Runtime: OpenJDK Runtime Environment\n",
       "JVM: OpenJDK 64-Bit Server VM\n",
       "Default Encoding: UTF-8\n",
       "Language: en\n",
       "Country: null\n",
       "--></g></svg>"
      ]
     },
     "execution_count": 27,
     "metadata": {},
     "output_type": "execute_result"
    }
   ],
   "source": [
    "%viz --style=\"STDCOLOR\" --view=\"Action\" \"OccurrenceTest\""
   ]
  },
  {
   "cell_type": "code",
   "execution_count": 28,
   "id": "eb694ba4",
   "metadata": {
    "execution": {
     "iopub.execute_input": "2022-07-23T10:52:32.552048Z",
     "iopub.status.busy": "2022-07-23T10:52:32.551534Z",
     "iopub.status.idle": "2022-07-23T10:52:32.556415Z",
     "shell.execute_reply": "2022-07-23T10:52:32.556722Z"
    }
   },
   "outputs": [
    {
     "data": {
      "image/svg+xml": [
       "<?xml version=\"1.0\" encoding=\"UTF-8\" standalone=\"no\"?><svg xmlns=\"http://www.w3.org/2000/svg\" xmlns:xlink=\"http://www.w3.org/1999/xlink\" contentScriptType=\"application/ecmascript\" contentStyleType=\"text/css\" height=\"12px\" preserveAspectRatio=\"none\" style=\"width:12px;height:12px;\" version=\"1.1\" viewBox=\"0 0 12 12\" width=\"12px\" zoomAndPan=\"magnify\"><defs/><g><!--MD5=[6c4bca67b4d71758159a5a7f1f1e1fc2]\n",
       "@startuml\r\n",
       "skinparam roundcorner 20\r\n",
       "skinparam BoxPadding 20\r\n",
       "skinparam SequenceBoxBackgroundColor #white\r\n",
       "skinparam style strictuml\r\n",
       "skinparam maxMessageSize 100\r\n",
       "skinparam wrapWidth 300\r\n",
       "hide circle\r\n",
       "\r\n",
       "@enduml\r\n",
       "\n",
       "PlantUML version 1.2020.13(Sat Jun 13 12:26:38 UTC 2020)\n",
       "(EPL source distribution)\n",
       "Java Runtime: OpenJDK Runtime Environment\n",
       "JVM: OpenJDK 64-Bit Server VM\n",
       "Default Encoding: UTF-8\n",
       "Language: en\n",
       "Country: null\n",
       "--></g></svg>"
      ]
     },
     "execution_count": 28,
     "metadata": {},
     "output_type": "execute_result"
    }
   ],
   "source": [
    "%viz --style=\"STDCOLOR\" --view=\"Sequence\" \"OccurrenceTest\""
   ]
  },
  {
   "cell_type": "code",
   "execution_count": 29,
   "id": "481d4d93",
   "metadata": {
    "execution": {
     "iopub.execute_input": "2022-07-23T10:52:32.607117Z",
     "iopub.status.busy": "2022-07-23T10:52:32.606599Z",
     "iopub.status.idle": "2022-07-23T10:52:32.661631Z",
     "shell.execute_reply": "2022-07-23T10:52:32.661214Z"
    }
   },
   "outputs": [
    {
     "data": {
      "image/svg+xml": [
       "<?xml version=\"1.0\" encoding=\"UTF-8\" standalone=\"no\"?><svg xmlns=\"http://www.w3.org/2000/svg\" xmlns:xlink=\"http://www.w3.org/1999/xlink\" contentScriptType=\"application/ecmascript\" contentStyleType=\"text/css\" height=\"569px\" preserveAspectRatio=\"none\" style=\"width:1009px;height:569px;\" version=\"1.1\" viewBox=\"0 0 1009 569\" width=\"1009px\" zoomAndPan=\"magnify\"><defs><filter height=\"300%\" id=\"fsxrkcce9nte4\" width=\"300%\" x=\"-1\" y=\"-1\"><feGaussianBlur result=\"blurOut\" stdDeviation=\"2.0\"/><feColorMatrix in=\"blurOut\" result=\"blurOut2\" type=\"matrix\" values=\"0 0 0 0 0 0 0 0 0 0 0 0 0 0 0 0 0 0 .4 0\"/><feOffset dx=\"4.0\" dy=\"4.0\" in=\"blurOut2\" result=\"blurOut3\"/><feBlend in=\"SourceGraphic\" in2=\"blurOut3\" mode=\"normal\"/></filter></defs><g><!--MD5=[fbc87193dbaf4d95561dea2c320d4a47]\n",
       "cluster E1--><a href=\"psysml:53f1d42d-2686-4f4b-950f-b84b40bc19b2\" target=\"_top\" title=\"psysml:53f1d42d-2686-4f4b-950f-b84b40bc19b2\" xlink:actuate=\"onRequest\" xlink:href=\"psysml:53f1d42d-2686-4f4b-950f-b84b40bc19b2\" xlink:show=\"new\" xlink:title=\"psysml:53f1d42d-2686-4f4b-950f-b84b40bc19b2\" xlink:type=\"simple\"><polygon fill=\"#FFFFFF\" filter=\"url(#fsxrkcce9nte4)\" points=\"16,6,134,6,141,28.2969,970,28.2969,970,557,16,557,16,6\" style=\"stroke: #000000; stroke-width: 1.5;\"/><line style=\"stroke: #000000; stroke-width: 1.5;\" x1=\"16\" x2=\"141\" y1=\"28.2969\" y2=\"28.2969\"/><text fill=\"#000000\" font-family=\"sans-serif\" font-size=\"14\" font-weight=\"bold\" lengthAdjust=\"spacingAndGlyphs\" textLength=\"112\" x=\"20\" y=\"20.9951\">OccurrenceTest</text></a><!--MD5=[b4997ac47864f28c2f74865a473b2911]\n",
       "class E2--><a href=\"psysml:77ba500d-77fd-484e-b411-8833010da35e\" target=\"_top\" title=\"psysml:77ba500d-77fd-484e-b411-8833010da35e\" xlink:actuate=\"onRequest\" xlink:href=\"psysml:77ba500d-77fd-484e-b411-8833010da35e\" xlink:show=\"new\" xlink:title=\"psysml:77ba500d-77fd-484e-b411-8833010da35e\" xlink:type=\"simple\"><rect fill=\"#FEFECE\" filter=\"url(#fsxrkcce9nte4)\" height=\"75.5469\" id=\"E2\" style=\"stroke: #A80036; stroke-width: 1.5;\" width=\"115\" x=\"373.5\" y=\"147\"/><text fill=\"#000000\" font-family=\"sans-serif\" font-size=\"12\" font-style=\"italic\" lengthAdjust=\"spacingAndGlyphs\" textLength=\"113\" x=\"374.5\" y=\"163.1387\">«occurrence  def»</text><text fill=\"#000000\" font-family=\"sans-serif\" font-size=\"12\" lengthAdjust=\"spacingAndGlyphs\" textLength=\"23\" x=\"419.5\" y=\"177.1074\">Occ</text><line style=\"stroke: #A80036; stroke-width: 1.5;\" x1=\"374.5\" x2=\"487.5\" y1=\"184.9375\" y2=\"184.9375\"/><text fill=\"#000000\" font-family=\"sans-serif\" font-size=\"11\" lengthAdjust=\"spacingAndGlyphs\" textLength=\"7\" x=\"379.5\" y=\"215.9526\">a</text><line style=\"stroke: #A80036; stroke-width: 1.0;\" x1=\"374.5\" x2=\"403.5\" y1=\"199.3398\" y2=\"199.3398\"/><text fill=\"#000000\" font-family=\"sans-serif\" font-size=\"11\" lengthAdjust=\"spacingAndGlyphs\" textLength=\"55\" x=\"403.5\" y=\"202.6479\">attributes</text><line style=\"stroke: #A80036; stroke-width: 1.0;\" x1=\"458.5\" x2=\"487.5\" y1=\"199.3398\" y2=\"199.3398\"/></a><!--MD5=[09b614a08d8cba4a07c9adeb5e0fee81]\n",
       "class E3--><a href=\"psysml:37011562-c12e-4ce2-bbf9-af5619a300f0\" target=\"_top\" title=\"psysml:37011562-c12e-4ce2-bbf9-af5619a300f0\" xlink:actuate=\"onRequest\" xlink:href=\"psysml:37011562-c12e-4ce2-bbf9-af5619a300f0\" xlink:show=\"new\" xlink:title=\"psysml:37011562-c12e-4ce2-bbf9-af5619a300f0\" xlink:type=\"simple\"><rect fill=\"#FEFECE\" filter=\"url(#fsxrkcce9nte4)\" height=\"45.9375\" id=\"E3\" rx=\"10\" ry=\"10\" style=\"stroke: #A80036; stroke-width: 1.5;\" width=\"87\" x=\"279.5\" y=\"283\"/><text fill=\"#000000\" font-family=\"sans-serif\" font-size=\"12\" font-style=\"italic\" lengthAdjust=\"spacingAndGlyphs\" textLength=\"85\" x=\"280.5\" y=\"299.1387\">«occurrence»</text><text fill=\"#000000\" font-family=\"sans-serif\" font-size=\"12\" lengthAdjust=\"spacingAndGlyphs\" textLength=\"61\" x=\"290.5\" y=\"313.1074\">occ1: Occ</text><line style=\"stroke: #A80036; stroke-width: 1.5;\" x1=\"280.5\" x2=\"365.5\" y1=\"320.9375\" y2=\"320.9375\"/></a><!--MD5=[ebbe1d658d1005bcc118a6aa81145e00]\n",
       "class E4--><a href=\"psysml:3522e0a2-d0dd-4c95-916a-e9f89fbadd86\" target=\"_top\" title=\"psysml:3522e0a2-d0dd-4c95-916a-e9f89fbadd86\" xlink:actuate=\"onRequest\" xlink:href=\"psysml:3522e0a2-d0dd-4c95-916a-e9f89fbadd86\" xlink:show=\"new\" xlink:title=\"psysml:3522e0a2-d0dd-4c95-916a-e9f89fbadd86\" xlink:type=\"simple\"><rect fill=\"#FEFECE\" filter=\"url(#fsxrkcce9nte4)\" height=\"45.9375\" id=\"E4\" rx=\"10\" ry=\"10\" style=\"stroke: #A80036; stroke-width: 1.5;\" width=\"87\" x=\"401.5\" y=\"283\"/><text fill=\"#000000\" font-family=\"sans-serif\" font-size=\"12\" font-style=\"italic\" lengthAdjust=\"spacingAndGlyphs\" textLength=\"85\" x=\"402.5\" y=\"299.1387\">«occurrence»</text><text fill=\"#000000\" font-family=\"sans-serif\" font-size=\"12\" lengthAdjust=\"spacingAndGlyphs\" textLength=\"61\" x=\"412.5\" y=\"313.1074\">occ2: Occ</text><line style=\"stroke: #A80036; stroke-width: 1.5;\" x1=\"402.5\" x2=\"487.5\" y1=\"320.9375\" y2=\"320.9375\"/></a><!--MD5=[270fce915f116d4de14055a7c1d9a0f3]\n",
       "class E5--><a href=\"psysml:2ba1b44f-ac88-49ba-a1da-8edc5df2da3a\" target=\"_top\" title=\"psysml:2ba1b44f-ac88-49ba-a1da-8edc5df2da3a\" xlink:actuate=\"onRequest\" xlink:href=\"psysml:2ba1b44f-ac88-49ba-a1da-8edc5df2da3a\" xlink:show=\"new\" xlink:title=\"psysml:2ba1b44f-ac88-49ba-a1da-8edc5df2da3a\" xlink:type=\"simple\"><rect fill=\"#FEFECE\" filter=\"url(#fsxrkcce9nte4)\" height=\"45.9375\" id=\"E5\" rx=\"10\" ry=\"10\" style=\"stroke: #A80036; stroke-width: 1.5;\" width=\"212\" x=\"524\" y=\"283\"/><text fill=\"#000000\" font-family=\"sans-serif\" font-size=\"12\" font-style=\"italic\" lengthAdjust=\"spacingAndGlyphs\" textLength=\"210\" x=\"525\" y=\"299.1387\">«individual snapshot occurrence»</text><text fill=\"#000000\" font-family=\"sans-serif\" font-size=\"12\" lengthAdjust=\"spacingAndGlyphs\" textLength=\"34\" x=\"611\" y=\"313.1074\">s: Ind</text><line style=\"stroke: #A80036; stroke-width: 1.5;\" x1=\"525\" x2=\"735\" y1=\"320.9375\" y2=\"320.9375\"/></a><!--MD5=[60a26617385b1d2d0262a64233df1f8d]\n",
       "class E6--><a href=\"psysml:aefaf76d-f241-48e8-80ea-b99598299972\" target=\"_top\" title=\"psysml:aefaf76d-f241-48e8-80ea-b99598299972\" xlink:actuate=\"onRequest\" xlink:href=\"psysml:aefaf76d-f241-48e8-80ea-b99598299972\" xlink:show=\"new\" xlink:title=\"psysml:aefaf76d-f241-48e8-80ea-b99598299972\" xlink:type=\"simple\"><rect fill=\"#FEFECE\" filter=\"url(#fsxrkcce9nte4)\" height=\"45.9375\" id=\"E6\" rx=\"10\" ry=\"10\" style=\"stroke: #A80036; stroke-width: 1.5;\" width=\"146\" x=\"771\" y=\"283\"/><text fill=\"#000000\" font-family=\"sans-serif\" font-size=\"12\" font-style=\"italic\" lengthAdjust=\"spacingAndGlyphs\" textLength=\"144\" x=\"772\" y=\"299.1387\">«timeslice occurrence»</text><text fill=\"#000000\" font-family=\"sans-serif\" font-size=\"12\" lengthAdjust=\"spacingAndGlyphs\" textLength=\"5\" x=\"839.5\" y=\"313.1074\">t</text><line style=\"stroke: #A80036; stroke-width: 1.5;\" x1=\"772\" x2=\"916\" y1=\"320.9375\" y2=\"320.9375\"/></a><!--MD5=[2156ba9850f5573cc1fc38a6a4b2f02b]\n",
       "class E7--><a href=\"psysml:991e81ed-291b-4563-955c-44288cc9fc81\" target=\"_top\" title=\"psysml:991e81ed-291b-4563-955c-44288cc9fc81\" xlink:actuate=\"onRequest\" xlink:href=\"psysml:991e81ed-291b-4563-955c-44288cc9fc81\" xlink:show=\"new\" xlink:title=\"psysml:991e81ed-291b-4563-955c-44288cc9fc81\" xlink:type=\"simple\"><rect fill=\"#FEFECE\" filter=\"url(#fsxrkcce9nte4)\" height=\"45.9375\" id=\"E7\" style=\"stroke: #A80036; stroke-width: 1.5;\" width=\"177\" x=\"541.5\" y=\"389\"/><text fill=\"#000000\" font-family=\"sans-serif\" font-size=\"12\" font-style=\"italic\" lengthAdjust=\"spacingAndGlyphs\" textLength=\"175\" x=\"542.5\" y=\"405.1387\">«individual occurrence  def»</text><text fill=\"#000000\" font-family=\"sans-serif\" font-size=\"12\" lengthAdjust=\"spacingAndGlyphs\" textLength=\"19\" x=\"620.5\" y=\"419.1074\">Ind</text><line style=\"stroke: #A80036; stroke-width: 1.5;\" x1=\"542.5\" x2=\"717.5\" y1=\"426.9375\" y2=\"426.9375\"/></a><!--MD5=[b9389687b975829384b498ac4b7476b2]\n",
       "class E8--><a href=\"psysml:fb7dbc0d-a670-4e6d-a2b6-24a9a70c023a\" target=\"_top\" title=\"psysml:fb7dbc0d-a670-4e6d-a2b6-24a9a70c023a\" xlink:actuate=\"onRequest\" xlink:href=\"psysml:fb7dbc0d-a670-4e6d-a2b6-24a9a70c023a\" xlink:show=\"new\" xlink:title=\"psysml:fb7dbc0d-a670-4e6d-a2b6-24a9a70c023a\" xlink:type=\"simple\"><rect fill=\"#FEFECE\" filter=\"url(#fsxrkcce9nte4)\" height=\"45.9375\" id=\"E8\" rx=\"10\" ry=\"10\" style=\"stroke: #A80036; stroke-width: 1.5;\" width=\"150\" x=\"463\" y=\"495\"/><text fill=\"#000000\" font-family=\"sans-serif\" font-size=\"12\" font-style=\"italic\" lengthAdjust=\"spacingAndGlyphs\" textLength=\"148\" x=\"464\" y=\"511.1387\">«snapshot occurrence»</text><text fill=\"#000000\" font-family=\"sans-serif\" font-size=\"12\" lengthAdjust=\"spacingAndGlyphs\" textLength=\"15\" x=\"528.5\" y=\"525.1074\">s2</text><line style=\"stroke: #A80036; stroke-width: 1.5;\" x1=\"464\" x2=\"612\" y1=\"532.9375\" y2=\"532.9375\"/></a><!--MD5=[fd4143e9d270a159db93a4ea2a975926]\n",
       "class E9--><a href=\"psysml:ae0fd4ea-8dc7-4cb0-a32c-5615a8f756eb\" target=\"_top\" title=\"psysml:ae0fd4ea-8dc7-4cb0-a32c-5615a8f756eb\" xlink:actuate=\"onRequest\" xlink:href=\"psysml:ae0fd4ea-8dc7-4cb0-a32c-5615a8f756eb\" xlink:show=\"new\" xlink:title=\"psysml:ae0fd4ea-8dc7-4cb0-a32c-5615a8f756eb\" xlink:type=\"simple\"><rect fill=\"#FEFECE\" filter=\"url(#fsxrkcce9nte4)\" height=\"45.9375\" id=\"E9\" rx=\"10\" ry=\"10\" style=\"stroke: #A80036; stroke-width: 1.5;\" width=\"146\" x=\"648\" y=\"495\"/><text fill=\"#000000\" font-family=\"sans-serif\" font-size=\"12\" font-style=\"italic\" lengthAdjust=\"spacingAndGlyphs\" textLength=\"144\" x=\"649\" y=\"511.1387\">«timeslice occurrence»</text><text fill=\"#000000\" font-family=\"sans-serif\" font-size=\"12\" lengthAdjust=\"spacingAndGlyphs\" textLength=\"13\" x=\"712.5\" y=\"525.1074\">t2</text><line style=\"stroke: #A80036; stroke-width: 1.5;\" x1=\"649\" x2=\"793\" y1=\"532.9375\" y2=\"532.9375\"/></a><!--MD5=[96f4274e9e20536e775497830990834d]\n",
       "class E10--><a href=\"psysml:90168d9a-6358-4939-88d7-8ec9974b52c6\" target=\"_top\" title=\"psysml:90168d9a-6358-4939-88d7-8ec9974b52c6\" xlink:actuate=\"onRequest\" xlink:href=\"psysml:90168d9a-6358-4939-88d7-8ec9974b52c6\" xlink:show=\"new\" xlink:title=\"psysml:90168d9a-6358-4939-88d7-8ec9974b52c6\" xlink:type=\"simple\"><rect fill=\"#FEFECE\" filter=\"url(#fsxrkcce9nte4)\" height=\"45.9375\" id=\"E10\" rx=\"10\" ry=\"10\" style=\"stroke: #A80036; stroke-width: 1.5;\" width=\"149\" x=\"505.5\" y=\"41\"/><text fill=\"#000000\" font-family=\"sans-serif\" font-size=\"12\" font-style=\"italic\" lengthAdjust=\"spacingAndGlyphs\" textLength=\"147\" x=\"506.5\" y=\"57.1387\">«individual occurrence»</text><text fill=\"#000000\" font-family=\"sans-serif\" font-size=\"12\" lengthAdjust=\"spacingAndGlyphs\" textLength=\"77\" x=\"539.5\" y=\"71.1074\">ind: Ind, Occ</text><line style=\"stroke: #A80036; stroke-width: 1.5;\" x1=\"506.5\" x2=\"653.5\" y1=\"78.9375\" y2=\"78.9375\"/></a><!--MD5=[1dd1bfd58a279cf63c5f349dbc8fc6a1]\n",
       "class E11--><a href=\"psysml:d0eba55f-a402-4b22-88ba-9857d6bd50ac\" target=\"_top\" title=\"psysml:d0eba55f-a402-4b22-88ba-9857d6bd50ac\" xlink:actuate=\"onRequest\" xlink:href=\"psysml:d0eba55f-a402-4b22-88ba-9857d6bd50ac\" xlink:show=\"new\" xlink:title=\"psysml:d0eba55f-a402-4b22-88ba-9857d6bd50ac\" xlink:type=\"simple\"><rect fill=\"#FEFECE\" filter=\"url(#fsxrkcce9nte4)\" height=\"45.9375\" id=\"E11\" rx=\"10\" ry=\"10\" style=\"stroke: #A80036; stroke-width: 1.5;\" width=\"150\" x=\"561\" y=\"162\"/><text fill=\"#000000\" font-family=\"sans-serif\" font-size=\"12\" font-style=\"italic\" lengthAdjust=\"spacingAndGlyphs\" textLength=\"148\" x=\"562\" y=\"178.1387\">«snapshot occurrence»</text><text fill=\"#000000\" font-family=\"sans-serif\" font-size=\"12\" lengthAdjust=\"spacingAndGlyphs\" textLength=\"15\" x=\"626.5\" y=\"192.1074\">s3</text><line style=\"stroke: #A80036; stroke-width: 1.5;\" x1=\"562\" x2=\"710\" y1=\"199.9375\" y2=\"199.9375\"/></a><!--MD5=[49a0ec8f00dab7302a31f22d0f0fe584]\n",
       "class E12--><a href=\"psysml:0232df4f-93e4-4add-8902-f942e03a0634\" target=\"_top\" title=\"psysml:0232df4f-93e4-4add-8902-f942e03a0634\" xlink:actuate=\"onRequest\" xlink:href=\"psysml:0232df4f-93e4-4add-8902-f942e03a0634\" xlink:show=\"new\" xlink:title=\"psysml:0232df4f-93e4-4add-8902-f942e03a0634\" xlink:type=\"simple\"><rect fill=\"#FEFECE\" filter=\"url(#fsxrkcce9nte4)\" height=\"45.9375\" id=\"E12\" rx=\"10\" ry=\"10\" style=\"stroke: #A80036; stroke-width: 1.5;\" width=\"208\" x=\"746\" y=\"162\"/><text fill=\"#000000\" font-family=\"sans-serif\" font-size=\"12\" font-style=\"italic\" lengthAdjust=\"spacingAndGlyphs\" textLength=\"206\" x=\"747\" y=\"178.1387\">«individual timeslice occurrence»</text><text fill=\"#000000\" font-family=\"sans-serif\" font-size=\"12\" lengthAdjust=\"spacingAndGlyphs\" textLength=\"13\" x=\"841.5\" y=\"192.1074\">t3</text><line style=\"stroke: #A80036; stroke-width: 1.5;\" x1=\"747\" x2=\"953\" y1=\"199.9375\" y2=\"199.9375\"/></a><!--MD5=[ee3c913d1a06f366521f9ef512b67efe]\n",
       "class E13--><a href=\"psysml:5cbde71f-e2d0-40cd-91ed-92f5bc776eb7\" target=\"_top\" title=\"psysml:5cbde71f-e2d0-40cd-91ed-92f5bc776eb7\" xlink:actuate=\"onRequest\" xlink:href=\"psysml:5cbde71f-e2d0-40cd-91ed-92f5bc776eb7\" xlink:show=\"new\" xlink:title=\"psysml:5cbde71f-e2d0-40cd-91ed-92f5bc776eb7\" xlink:type=\"simple\"><rect fill=\"#FEFECE\" filter=\"url(#fsxrkcce9nte4)\" height=\"45.9375\" id=\"E13\" rx=\"10\" ry=\"10\" style=\"stroke: #A80036; stroke-width: 1.5;\" width=\"212\" x=\"32\" y=\"283\"/><text fill=\"#000000\" font-family=\"sans-serif\" font-size=\"12\" font-style=\"italic\" lengthAdjust=\"spacingAndGlyphs\" textLength=\"210\" x=\"33\" y=\"299.1387\">«individual snapshot occurrence»</text><text fill=\"#000000\" font-family=\"sans-serif\" font-size=\"12\" lengthAdjust=\"spacingAndGlyphs\" textLength=\"42\" x=\"115\" y=\"313.1074\">s4: Ind</text><line style=\"stroke: #A80036; stroke-width: 1.5;\" x1=\"33\" x2=\"243\" y1=\"320.9375\" y2=\"320.9375\"/></a><!--MD5=[209b3feb70ccb6233bfe1053d122c12c]\n",
       "reverse link E2 to E3--><a href=\"psysml:111e77a4-44f2-45ac-862d-a1e02a1cad26\" target=\"_top\" title=\"psysml:111e77a4-44f2-45ac-862d-a1e02a1cad26\" xlink:actuate=\"onRequest\" xlink:href=\"psysml:111e77a4-44f2-45ac-862d-a1e02a1cad26\" xlink:show=\"new\" xlink:title=\"psysml:111e77a4-44f2-45ac-862d-a1e02a1cad26\" xlink:type=\"simple\"><path d=\"M376.37,232.45 C359.85,249.83 343.43,268.76 332.86,282.93 \" fill=\"none\" id=\"E2&lt;-E3\" style=\"stroke: #A80036; stroke-width: 1.0;\"/><polygon fill=\"#FFFFFF\" points=\"385.52,223,378.4729,224.5294,377.1743,231.6226,384.2213,230.0932,385.52,223\" style=\"stroke: #A80036; stroke-width: 1.0;\"/></a><!--MD5=[05d275557350bfb9b23a4ef7222b4c39]\n",
       "link E3 to E2--><a href=\"psysml:0f45e557-8f0e-4df9-b1d8-28bd2526f5a3\" target=\"_top\" title=\"psysml:0f45e557-8f0e-4df9-b1d8-28bd2526f5a3\" xlink:actuate=\"onRequest\" xlink:href=\"psysml:0f45e557-8f0e-4df9-b1d8-28bd2526f5a3\" xlink:show=\"new\" xlink:title=\"psysml:0f45e557-8f0e-4df9-b1d8-28bd2526f5a3\" xlink:type=\"simple\"><path d=\"M353.8,282.93 C367.38,270.34 383.11,253.98 396.95,238.29 \" fill=\"none\" id=\"E3-&gt;E2\" style=\"stroke: #A80036; stroke-width: 1.0;\"/><polygon fill=\"#FFFFFF\" points=\"410.02,223,403.0007,241.9929,392.3563,232.8991,410.02,223\" style=\"stroke: #A80036; stroke-width: 1.0;\"/><ellipse cx=\"397.7776\" cy=\"245.0276\" fill=\"#A80036\" rx=\"2\" ry=\"2\" style=\"stroke: #A80036; stroke-width: 1.0;\"/><ellipse cx=\"390.1744\" cy=\"238.532\" fill=\"#A80036\" rx=\"2\" ry=\"2\" style=\"stroke: #A80036; stroke-width: 1.0;\"/></a><!--MD5=[9618e71518536f8baf3342ff6fdab317]\n",
       "reverse link E2 to E4--><a href=\"psysml:7f5381ff-79d6-4175-8599-1b084d5a38fb\" target=\"_top\" title=\"psysml:7f5381ff-79d6-4175-8599-1b084d5a38fb\" xlink:actuate=\"onRequest\" xlink:href=\"psysml:7f5381ff-79d6-4175-8599-1b084d5a38fb\" xlink:show=\"new\" xlink:title=\"psysml:7f5381ff-79d6-4175-8599-1b084d5a38fb\" xlink:type=\"simple\"><path d=\"M424.31,236.34 C425.74,252.61 428.58,269.81 432.23,282.93 \" fill=\"none\" id=\"E2&lt;-E4\" style=\"stroke: #A80036; stroke-width: 1.0;\"/><polygon fill=\"#A80036\" points=\"423.45,223,419.8475,229.2467,424.2281,234.9747,427.8306,228.728,423.45,223\" style=\"stroke: #A80036; stroke-width: 1.0;\"/></a><!--MD5=[185131fc0dcab0a4505a2ebe144e961b]\n",
       "link E4 to E2--><a href=\"psysml:9af83ecd-fc65-4272-8374-c2ac75a0337a\" target=\"_top\" title=\"psysml:9af83ecd-fc65-4272-8374-c2ac75a0337a\" xlink:actuate=\"onRequest\" xlink:href=\"psysml:9af83ecd-fc65-4272-8374-c2ac75a0337a\" xlink:show=\"new\" xlink:title=\"psysml:9af83ecd-fc65-4272-8374-c2ac75a0337a\" xlink:type=\"simple\"><path d=\"M453.17,282.93 C453.77,271.65 452.99,257.34 451.22,243.21 \" fill=\"none\" id=\"E4-&gt;E2\" style=\"stroke: #A80036; stroke-width: 1.0;\"/><polygon fill=\"#FFFFFF\" points=\"447.96,223,457.8973,240.6423,444.0761,242.8725,447.96,223\" style=\"stroke: #A80036; stroke-width: 1.0;\"/><ellipse cx=\"456.8309\" cy=\"246.5881\" fill=\"#A80036\" rx=\"2\" ry=\"2\" style=\"stroke: #A80036; stroke-width: 1.0;\"/><ellipse cx=\"446.9586\" cy=\"248.1811\" fill=\"#A80036\" rx=\"2\" ry=\"2\" style=\"stroke: #A80036; stroke-width: 1.0;\"/></a><!--MD5=[4e1a83fab71cdb913c109063314ae896]\n",
       "reverse link E2 to E5--><a href=\"psysml:648e9e41-ac7c-450e-af70-439d81f3f540\" target=\"_top\" title=\"psysml:648e9e41-ac7c-450e-af70-439d81f3f540\" xlink:actuate=\"onRequest\" xlink:href=\"psysml:648e9e41-ac7c-450e-af70-439d81f3f540\" xlink:show=\"new\" xlink:title=\"psysml:648e9e41-ac7c-450e-af70-439d81f3f540\" xlink:type=\"simple\"><path d=\"M499.85,227.17 C531.12,245.87 566.86,267.24 592.97,282.85 \" fill=\"none\" id=\"E2&lt;-E5\" style=\"stroke: #A80036; stroke-width: 1.0;\"/><polygon fill=\"#A80036\" points=\"488.56,220.42,491.6568,226.9323,498.8592,226.5784,495.7624,220.0661,488.56,220.42\" style=\"stroke: #A80036; stroke-width: 1.0;\"/></a><!--MD5=[ce036f65110ae2351ccce5a81dc2e928]\n",
       "reverse link E2 to E6--><a href=\"psysml:00b8b9a4-593e-406d-b505-212ff2a7c9c1\" target=\"_top\" title=\"psysml:00b8b9a4-593e-406d-b505-212ff2a7c9c1\" xlink:actuate=\"onRequest\" xlink:href=\"psysml:00b8b9a4-593e-406d-b505-212ff2a7c9c1\" xlink:show=\"new\" xlink:title=\"psysml:00b8b9a4-593e-406d-b505-212ff2a7c9c1\" xlink:type=\"simple\"><path d=\"M501.02,217.55 C506.06,219.49 511.08,221.33 516,223 C528.19,227.15 677.82,264.14 770.71,287 \" fill=\"none\" id=\"E2&lt;-E6\" style=\"stroke: #A80036; stroke-width: 1.0;\"/><polygon fill=\"#A80036\" points=\"488.57,212.58,492.6577,218.5206,499.7135,217.0321,495.6258,211.0916,488.57,212.58\" style=\"stroke: #A80036; stroke-width: 1.0;\"/></a><!--MD5=[3a9b96bfbf6b6ad89c494e81751bda47]\n",
       "link E5 to E7--><a href=\"psysml:088b8ee7-f1bc-4574-b816-43bcf4f14b77\" target=\"_top\" title=\"psysml:088b8ee7-f1bc-4574-b816-43bcf4f14b77\" xlink:actuate=\"onRequest\" xlink:href=\"psysml:088b8ee7-f1bc-4574-b816-43bcf4f14b77\" xlink:show=\"new\" xlink:title=\"psysml:088b8ee7-f1bc-4574-b816-43bcf4f14b77\" xlink:type=\"simple\"><path d=\"M630,329.06 C630,340.64 630,355.23 630,368.87 \" fill=\"none\" id=\"E5-&gt;E7\" style=\"stroke: #A80036; stroke-width: 1.0;\"/><polygon fill=\"#FFFFFF\" points=\"630,388.98,623,369.98,637,369.98,630,388.98\" style=\"stroke: #A80036; stroke-width: 1.0;\"/><ellipse cx=\"625\" cy=\"364.28\" fill=\"#A80036\" rx=\"2\" ry=\"2\" style=\"stroke: #A80036; stroke-width: 1.0;\"/><ellipse cx=\"635\" cy=\"364.28\" fill=\"#A80036\" rx=\"2\" ry=\"2\" style=\"stroke: #A80036; stroke-width: 1.0;\"/></a><!--MD5=[dc164f5e8a733ab456ef1add180e9e34]\n",
       "reverse link E7 to E8--><a href=\"psysml:c8813ef9-ffa9-4c9d-80a4-dd20f6c80ea5\" target=\"_top\" title=\"psysml:c8813ef9-ffa9-4c9d-80a4-dd20f6c80ea5\" xlink:actuate=\"onRequest\" xlink:href=\"psysml:c8813ef9-ffa9-4c9d-80a4-dd20f6c80ea5\" xlink:show=\"new\" xlink:title=\"psysml:c8813ef9-ffa9-4c9d-80a4-dd20f6c80ea5\" xlink:type=\"simple\"><path d=\"M601.55,445.16 C587.25,461.33 570.28,480.51 557.48,494.98 \" fill=\"none\" id=\"E7&lt;-E8\" style=\"stroke: #A80036; stroke-width: 1.0;\"/><polygon fill=\"#A80036\" points=\"610.49,435.06,603.5177,436.9004,602.5348,444.0442,609.5071,442.2038,610.49,435.06\" style=\"stroke: #A80036; stroke-width: 1.0;\"/></a><!--MD5=[e4a10ef82d0e328e31cac39a31e58dda]\n",
       "reverse link E7 to E9--><a href=\"psysml:cdca8d7c-6aa5-4fff-9e0e-900e3ba85343\" target=\"_top\" title=\"psysml:cdca8d7c-6aa5-4fff-9e0e-900e3ba85343\" xlink:actuate=\"onRequest\" xlink:href=\"psysml:cdca8d7c-6aa5-4fff-9e0e-900e3ba85343\" xlink:show=\"new\" xlink:title=\"psysml:cdca8d7c-6aa5-4fff-9e0e-900e3ba85343\" xlink:type=\"simple\"><path d=\"M658.14,445.16 C672.29,461.33 689.07,480.51 701.73,494.98 \" fill=\"none\" id=\"E7&lt;-E9\" style=\"stroke: #A80036; stroke-width: 1.0;\"/><polygon fill=\"#A80036\" points=\"649.3,435.06,650.2496,442.2083,657.2133,444.0811,656.2637,436.9328,649.3,435.06\" style=\"stroke: #A80036; stroke-width: 1.0;\"/></a><!--MD5=[a919e0967d6f3de553dc51b9865a1d6d]\n",
       "link E10 to E7--><a href=\"psysml:43f26010-ca40-42d6-8df0-e4847d82fc63\" target=\"_top\" title=\"psysml:43f26010-ca40-42d6-8df0-e4847d82fc63\" xlink:actuate=\"onRequest\" xlink:href=\"psysml:43f26010-ca40-42d6-8df0-e4847d82fc63\" xlink:show=\"new\" xlink:title=\"psysml:43f26010-ca40-42d6-8df0-e4847d82fc63\" xlink:type=\"simple\"><path d=\"M564.36,87.23 C542.92,120.68 510.65,184.15 544,223 C658.5,356.41 820.5,149.59 935,283 C997.3,355.58 849.41,387.9 738.47,401.63 \" fill=\"none\" id=\"E10-&gt;E7\" style=\"stroke: #A80036; stroke-width: 1.0;\"/><polygon fill=\"#FFFFFF\" points=\"718.6,403.94,736.6627,394.7891,738.2822,408.6951,718.6,403.94\" style=\"stroke: #A80036; stroke-width: 1.0;\"/><ellipse cx=\"742.5558\" cy=\"396.1162\" fill=\"#A80036\" rx=\"2\" ry=\"2\" style=\"stroke: #A80036; stroke-width: 1.0;\"/><ellipse cx=\"743.7126\" cy=\"406.0491\" fill=\"#A80036\" rx=\"2\" ry=\"2\" style=\"stroke: #A80036; stroke-width: 1.0;\"/></a><!--MD5=[0f36bececdf0dff6e600d6f64214b0f1]\n",
       "link E10 to E2--><a href=\"psysml:ac89f7fb-b091-4bc7-aaea-6377fc157ffe\" target=\"_top\" title=\"psysml:ac89f7fb-b091-4bc7-aaea-6377fc157ffe\" xlink:actuate=\"onRequest\" xlink:href=\"psysml:ac89f7fb-b091-4bc7-aaea-6377fc157ffe\" xlink:show=\"new\" xlink:title=\"psysml:ac89f7fb-b091-4bc7-aaea-6377fc157ffe\" xlink:type=\"simple\"><path d=\"M552.32,87.1 C535.71,100.38 513.86,117.82 493.29,134.25 \" fill=\"none\" id=\"E10-&gt;E2\" style=\"stroke: #A80036; stroke-width: 1.0;\"/><polygon fill=\"#FFFFFF\" points=\"477.56,146.81,488.0352,129.4817,496.7737,140.4197,477.56,146.81\" style=\"stroke: #A80036; stroke-width: 1.0;\"/><ellipse cx=\"493.7369\" cy=\"127.4865\" fill=\"#A80036\" rx=\"2\" ry=\"2\" style=\"stroke: #A80036; stroke-width: 1.0;\"/><ellipse cx=\"499.9786\" cy=\"135.2994\" fill=\"#A80036\" rx=\"2\" ry=\"2\" style=\"stroke: #A80036; stroke-width: 1.0;\"/></a><!--MD5=[de308be4a2431766a05a907a031c07fc]\n",
       "reverse link E10 to E11--><a href=\"psysml:75c081c5-05e2-401c-b103-d900689a3a49\" target=\"_top\" title=\"psysml:75c081c5-05e2-401c-b103-d900689a3a49\" xlink:actuate=\"onRequest\" xlink:href=\"psysml:75c081c5-05e2-401c-b103-d900689a3a49\" xlink:show=\"new\" xlink:title=\"psysml:75c081c5-05e2-401c-b103-d900689a3a49\" xlink:type=\"simple\"><path d=\"M595.95,98.9 C605.42,119.01 617.15,143.94 625.46,161.61 \" fill=\"none\" id=\"E10&lt;-E11\" style=\"stroke: #A80036; stroke-width: 1.0;\"/><polygon fill=\"#A80036\" points=\"590.4,87.1,589.3334,94.2318,595.5064,97.9593,596.573,90.8275,590.4,87.1\" style=\"stroke: #A80036; stroke-width: 1.0;\"/></a><!--MD5=[1d54f998c6d5961a1a9184be73a7eb6c]\n",
       "reverse link E10 to E12--><a href=\"psysml:54130436-8b1f-4706-a610-d99b2d4cb5d4\" target=\"_top\" title=\"psysml:54130436-8b1f-4706-a610-d99b2d4cb5d4\" xlink:actuate=\"onRequest\" xlink:href=\"psysml:54130436-8b1f-4706-a610-d99b2d4cb5d4\" xlink:show=\"new\" xlink:title=\"psysml:54130436-8b1f-4706-a610-d99b2d4cb5d4\" xlink:type=\"simple\"><path d=\"M642.21,92.42 C689.99,113.48 755.13,142.19 799.66,161.81 \" fill=\"none\" id=\"E10&lt;-E12\" style=\"stroke: #A80036; stroke-width: 1.0;\"/><polygon fill=\"#A80036\" points=\"630.15,87.1,634.028,93.1796,641.1314,91.9382,637.2534,85.8586,630.15,87.1\" style=\"stroke: #A80036; stroke-width: 1.0;\"/></a><!--MD5=[4a48077df6499cfcd20b62e8f5f37904]\n",
       "link E13 to E7--><a href=\"psysml:85f16706-e1b7-404d-9ee5-57d420bfb7f2\" target=\"_top\" title=\"psysml:85f16706-e1b7-404d-9ee5-57d420bfb7f2\" xlink:actuate=\"onRequest\" xlink:href=\"psysml:85f16706-e1b7-404d-9ee5-57d420bfb7f2\" xlink:show=\"new\" xlink:title=\"psysml:85f16706-e1b7-404d-9ee5-57d420bfb7f2\" xlink:type=\"simple\"><path d=\"M242.34,329.06 C324.51,346.43 438.67,370.56 521.82,388.13 \" fill=\"none\" id=\"E13-&gt;E7\" style=\"stroke: #A80036; stroke-width: 1.0;\"/><polygon fill=\"#FFFFFF\" points=\"541.45,392.28,521.4143,395.2075,524.304,381.509,541.45,392.28\" style=\"stroke: #A80036; stroke-width: 1.0;\"/><ellipse cx=\"516.2498\" cy=\"392.0741\" fill=\"#A80036\" rx=\"2\" ry=\"2\" style=\"stroke: #A80036; stroke-width: 1.0;\"/><ellipse cx=\"518.3139\" cy=\"382.2894\" fill=\"#A80036\" rx=\"2\" ry=\"2\" style=\"stroke: #A80036; stroke-width: 1.0;\"/></a><!--MD5=[4987a838ff6aaaae99ea403db8feae86]\n",
       "@startuml\r\n",
       "skinparam wrapWidth 300\r\n",
       "hide circle\r\n",
       "\r\n",
       "package \"OccurrenceTest\" as E1  [[psysml:53f1d42d-2686-4f4b-950f-b84b40bc19b2 ]]  {\r\n",
       "comp def \"Occ\" as E2  <<(T,blue) occurrence  def>> [[psysml:77ba500d-77fd-484e-b411-8833010da35e ]] {\r\n",
       "- - attributes - -\r\n",
       "a\r\n",
       "}\r\n",
       "comp usage \"occ1: Occ \" as E3  <<(T,blue) occurrence>> [[psysml:37011562-c12e-4ce2-bbf9-af5619a300f0 ]] {\r\n",
       "}\r\n",
       "comp usage \"occ2: Occ \" as E4  <<(T,blue) occurrence>> [[psysml:3522e0a2-d0dd-4c95-916a-e9f89fbadd86 ]] {\r\n",
       "}\r\n",
       "comp usage \"s: Ind \" as E5  <<(T,blue) individual snapshot occurrence>> [[psysml:2ba1b44f-ac88-49ba-a1da-8edc5df2da3a ]] {\r\n",
       "}\r\n",
       "comp usage \"t \" as E6  <<(T,blue) timeslice occurrence>> [[psysml:aefaf76d-f241-48e8-80ea-b99598299972 ]] {\r\n",
       "}\r\n",
       "comp def \"Ind\" as E7  <<(T,blue) individual occurrence  def>> [[psysml:991e81ed-291b-4563-955c-44288cc9fc81 ]] {\r\n",
       "}\r\n",
       "comp usage \"s2 \" as E8  <<(T,blue) snapshot occurrence>> [[psysml:fb7dbc0d-a670-4e6d-a2b6-24a9a70c023a ]] {\r\n",
       "}\r\n",
       "comp usage \"t2 \" as E9  <<(T,blue) timeslice occurrence>> [[psysml:ae0fd4ea-8dc7-4cb0-a32c-5615a8f756eb ]] {\r\n",
       "}\r\n",
       "comp usage \"ind: Ind, Occ \" as E10  <<(T,blue) individual occurrence>> [[psysml:90168d9a-6358-4939-88d7-8ec9974b52c6 ]] {\r\n",
       "}\r\n",
       "comp usage \"s3 \" as E11  <<(T,blue) snapshot occurrence>> [[psysml:d0eba55f-a402-4b22-88ba-9857d6bd50ac ]] {\r\n",
       "}\r\n",
       "comp usage \"t3 \" as E12  <<(T,blue) individual timeslice occurrence>> [[psysml:0232df4f-93e4-4add-8902-f942e03a0634 ]] {\r\n",
       "}\r\n",
       "comp usage \"s4: Ind \" as E13  <<(T,blue) individual snapshot occurrence>> [[psysml:5cbde71f-e2d0-40cd-91ed-92f5bc776eb7 ]] {\r\n",
       "}\r\n",
       "}\r\n",
       "E2 o- - E3 [[psysml:111e77a4-44f2-45ac-862d-a1e02a1cad26 ]] \r\n",
       "E3 - -:|> E2 [[psysml:0f45e557-8f0e-4df9-b1d8-28bd2526f5a3 ]] \r\n",
       "E2 *- - E4 [[psysml:7f5381ff-79d6-4175-8599-1b084d5a38fb ]] \r\n",
       "E4 - -:|> E2 [[psysml:9af83ecd-fc65-4272-8374-c2ac75a0337a ]] \r\n",
       "E2 *- - E5 [[psysml:648e9e41-ac7c-450e-af70-439d81f3f540 ]] \r\n",
       "E2 *- - E6 [[psysml:00b8b9a4-593e-406d-b505-212ff2a7c9c1 ]] \r\n",
       "E5 - -:|> E7 [[psysml:088b8ee7-f1bc-4574-b816-43bcf4f14b77 ]] \r\n",
       "E7 *- - E8 [[psysml:c8813ef9-ffa9-4c9d-80a4-dd20f6c80ea5 ]] \r\n",
       "E7 *- - E9 [[psysml:cdca8d7c-6aa5-4fff-9e0e-900e3ba85343 ]] \r\n",
       "E10 - -:|> E7 [[psysml:43f26010-ca40-42d6-8df0-e4847d82fc63 ]] \r\n",
       "E10 - -:|> E2 [[psysml:ac89f7fb-b091-4bc7-aaea-6377fc157ffe ]] \r\n",
       "E10 *- - E11 [[psysml:75c081c5-05e2-401c-b103-d900689a3a49 ]] \r\n",
       "E10 *- - E12 [[psysml:54130436-8b1f-4706-a610-d99b2d4cb5d4 ]] \r\n",
       "E13 - -:|> E7 [[psysml:85f16706-e1b7-404d-9ee5-57d420bfb7f2 ]] \r\n",
       "@enduml\r\n",
       "\n",
       "PlantUML version 1.2020.13(Sat Jun 13 12:26:38 UTC 2020)\n",
       "(EPL source distribution)\n",
       "Java Runtime: OpenJDK Runtime Environment\n",
       "JVM: OpenJDK 64-Bit Server VM\n",
       "Default Encoding: UTF-8\n",
       "Language: en\n",
       "Country: null\n",
       "--></g></svg>"
      ]
     },
     "execution_count": 29,
     "metadata": {},
     "output_type": "execute_result"
    }
   ],
   "source": [
    "%viz --style=\"STDCOLOR\" --view=\"MIXED\" \"OccurrenceTest\""
   ]
  },
  {
   "cell_type": "code",
   "execution_count": 30,
   "id": "fdcad416",
   "metadata": {
    "execution": {
     "iopub.execute_input": "2022-07-23T10:52:32.711001Z",
     "iopub.status.busy": "2022-07-23T10:52:32.710489Z",
     "iopub.status.idle": "2022-07-23T10:52:32.782170Z",
     "shell.execute_reply": "2022-07-23T10:52:32.779722Z"
    }
   },
   "outputs": [
    {
     "data": {
      "image/svg+xml": [
       "<?xml version=\"1.0\" encoding=\"UTF-8\" standalone=\"no\"?><svg xmlns=\"http://www.w3.org/2000/svg\" xmlns:xlink=\"http://www.w3.org/1999/xlink\" contentScriptType=\"application/ecmascript\" contentStyleType=\"text/css\" height=\"569px\" preserveAspectRatio=\"none\" style=\"width:813px;height:569px;\" version=\"1.1\" viewBox=\"0 0 813 569\" width=\"813px\" zoomAndPan=\"magnify\"><defs><filter height=\"300%\" id=\"fpqxujo4z04ib\" width=\"300%\" x=\"-1\" y=\"-1\"><feGaussianBlur result=\"blurOut\" stdDeviation=\"2.0\"/><feColorMatrix in=\"blurOut\" result=\"blurOut2\" type=\"matrix\" values=\"0 0 0 0 0 0 0 0 0 0 0 0 0 0 0 0 0 0 .4 0\"/><feOffset dx=\"4.0\" dy=\"4.0\" in=\"blurOut2\" result=\"blurOut3\"/><feBlend in=\"SourceGraphic\" in2=\"blurOut3\" mode=\"normal\"/></filter></defs><g><!--MD5=[fbc87193dbaf4d95561dea2c320d4a47]\n",
       "cluster E1--><a href=\"psysml:53f1d42d-2686-4f4b-950f-b84b40bc19b2\" target=\"_top\" title=\"psysml:53f1d42d-2686-4f4b-950f-b84b40bc19b2\" xlink:actuate=\"onRequest\" xlink:href=\"psysml:53f1d42d-2686-4f4b-950f-b84b40bc19b2\" xlink:show=\"new\" xlink:title=\"psysml:53f1d42d-2686-4f4b-950f-b84b40bc19b2\" xlink:type=\"simple\"><polygon fill=\"#FFFFFF\" filter=\"url(#fpqxujo4z04ib)\" points=\"16,6,134,6,141,28.2969,791,28.2969,791,557,16,557,16,6\" style=\"stroke: #000000; stroke-width: 1.5;\"/><line style=\"stroke: #000000; stroke-width: 1.5;\" x1=\"16\" x2=\"141\" y1=\"28.2969\" y2=\"28.2969\"/><text fill=\"#000000\" font-family=\"sans-serif\" font-size=\"14\" font-weight=\"bold\" lengthAdjust=\"spacingAndGlyphs\" textLength=\"112\" x=\"20\" y=\"20.9951\">OccurrenceTest</text></a><!--MD5=[b4997ac47864f28c2f74865a473b2911]\n",
       "class E2--><a href=\"psysml:77ba500d-77fd-484e-b411-8833010da35e\" target=\"_top\" title=\"psysml:77ba500d-77fd-484e-b411-8833010da35e\" xlink:actuate=\"onRequest\" xlink:href=\"psysml:77ba500d-77fd-484e-b411-8833010da35e\" xlink:show=\"new\" xlink:title=\"psysml:77ba500d-77fd-484e-b411-8833010da35e\" xlink:type=\"simple\"><rect fill=\"#FEFECE\" filter=\"url(#fpqxujo4z04ib)\" height=\"75.5469\" id=\"E2\" style=\"stroke: #A80036; stroke-width: 1.5;\" width=\"141\" x=\"299.5\" y=\"147\"/><ellipse cx=\"314.5\" cy=\"165.9688\" fill=\"#A52A2A\" rx=\"11\" ry=\"11\" style=\"stroke: #A80036; stroke-width: 1.0;\"/><path d=\"M311.7188,170.9688 L311.7188,160.375 L314.4531,160.375 Q315.8438,160.375 316.6094,160.7656 Q317.3906,161.1406 317.9219,161.8438 Q318.4531,162.5469 318.75,163.5469 Q319.0469,164.5313 319.0469,165.75 Q319,167.3438 318.5,168.5313 Q318.0156,169.7031 316.9688,170.3438 Q315.9375,170.9688 314.25,170.9688 L311.7188,170.9688 Z M313.5781,169.4688 L314.2031,169.4688 Q315.2813,169.4688 315.9375,169.0156 Q316.5938,168.5625 316.875,167.7344 Q317.1719,166.8906 317.1563,165.7656 Q317.1563,164.5938 316.9063,163.7344 Q316.6563,162.8594 316.0469,162.3906 Q315.4375,161.9063 314.3906,161.9063 L313.5781,161.9063 L313.5781,169.4688 Z \"/><text fill=\"#000000\" font-family=\"sans-serif\" font-size=\"12\" font-style=\"italic\" lengthAdjust=\"spacingAndGlyphs\" textLength=\"113\" x=\"326.5\" y=\"163.1387\">«occurrence  def»</text><text fill=\"#000000\" font-family=\"sans-serif\" font-size=\"12\" lengthAdjust=\"spacingAndGlyphs\" textLength=\"23\" x=\"371.5\" y=\"177.1074\">Occ</text><line style=\"stroke: #A80036; stroke-width: 1.5;\" x1=\"300.5\" x2=\"439.5\" y1=\"184.9375\" y2=\"184.9375\"/><text fill=\"#000000\" font-family=\"sans-serif\" font-size=\"11\" lengthAdjust=\"spacingAndGlyphs\" textLength=\"7\" x=\"305.5\" y=\"215.9526\">a</text><line style=\"stroke: #A80036; stroke-width: 1.0;\" x1=\"300.5\" x2=\"342.5\" y1=\"199.3398\" y2=\"199.3398\"/><text fill=\"#000000\" font-family=\"sans-serif\" font-size=\"11\" lengthAdjust=\"spacingAndGlyphs\" textLength=\"55\" x=\"342.5\" y=\"202.6479\">attributes</text><line style=\"stroke: #A80036; stroke-width: 1.0;\" x1=\"397.5\" x2=\"439.5\" y1=\"199.3398\" y2=\"199.3398\"/></a><!--MD5=[09b614a08d8cba4a07c9adeb5e0fee81]\n",
       "class E3--><a href=\"psysml:37011562-c12e-4ce2-bbf9-af5619a300f0\" target=\"_top\" title=\"psysml:37011562-c12e-4ce2-bbf9-af5619a300f0\" xlink:actuate=\"onRequest\" xlink:href=\"psysml:37011562-c12e-4ce2-bbf9-af5619a300f0\" xlink:show=\"new\" xlink:title=\"psysml:37011562-c12e-4ce2-bbf9-af5619a300f0\" xlink:type=\"simple\"><rect fill=\"#FEFECE\" filter=\"url(#fpqxujo4z04ib)\" height=\"45.9375\" id=\"E3\" rx=\"10\" ry=\"10\" style=\"stroke: #A80036; stroke-width: 1.5;\" width=\"113\" x=\"180.5\" y=\"283\"/><ellipse cx=\"195.5\" cy=\"301.9688\" fill=\"#FFA500\" rx=\"11\" ry=\"11\" style=\"stroke: #A80036; stroke-width: 1.0;\"/><path d=\"M195.25,307.4375 Q193.5,307.4375 192.5469,306.4063 Q191.6094,305.3594 191.6094,303.5156 L191.6094,296.625 L193.6719,296.625 L193.6719,296.7813 Q193.5781,296.875 193.5469,297.0156 Q193.5313,297.1406 193.5313,297.4063 L193.5313,303.5313 Q193.5313,304.625 193.9063,305.25 Q194.2813,305.875 195.2656,305.875 Q196.25,305.875 196.6406,305.25 Q197.0313,304.625 197.0313,303.4844 L197.0313,296.625 L198.9063,296.625 L198.9063,303.4688 Q198.9063,305.5 197.875,306.4688 Q196.8594,307.4375 195.25,307.4375 Z \"/><text fill=\"#000000\" font-family=\"sans-serif\" font-size=\"12\" font-style=\"italic\" lengthAdjust=\"spacingAndGlyphs\" textLength=\"85\" x=\"207.5\" y=\"299.1387\">«occurrence»</text><text fill=\"#000000\" font-family=\"sans-serif\" font-size=\"12\" lengthAdjust=\"spacingAndGlyphs\" textLength=\"61\" x=\"217.5\" y=\"313.1074\">occ1: Occ</text><line style=\"stroke: #A80036; stroke-width: 1.5;\" x1=\"181.5\" x2=\"292.5\" y1=\"320.9375\" y2=\"320.9375\"/></a><!--MD5=[ebbe1d658d1005bcc118a6aa81145e00]\n",
       "class E4--><a href=\"psysml:3522e0a2-d0dd-4c95-916a-e9f89fbadd86\" target=\"_top\" title=\"psysml:3522e0a2-d0dd-4c95-916a-e9f89fbadd86\" xlink:actuate=\"onRequest\" xlink:href=\"psysml:3522e0a2-d0dd-4c95-916a-e9f89fbadd86\" xlink:show=\"new\" xlink:title=\"psysml:3522e0a2-d0dd-4c95-916a-e9f89fbadd86\" xlink:type=\"simple\"><rect fill=\"#FEFECE\" filter=\"url(#fpqxujo4z04ib)\" height=\"45.9375\" id=\"E4\" rx=\"10\" ry=\"10\" style=\"stroke: #A80036; stroke-width: 1.5;\" width=\"113\" x=\"328.5\" y=\"283\"/><ellipse cx=\"343.5\" cy=\"301.9688\" fill=\"#FFA500\" rx=\"11\" ry=\"11\" style=\"stroke: #A80036; stroke-width: 1.0;\"/><path d=\"M343.25,307.4375 Q341.5,307.4375 340.5469,306.4063 Q339.6094,305.3594 339.6094,303.5156 L339.6094,296.625 L341.6719,296.625 L341.6719,296.7813 Q341.5781,296.875 341.5469,297.0156 Q341.5313,297.1406 341.5313,297.4063 L341.5313,303.5313 Q341.5313,304.625 341.9063,305.25 Q342.2813,305.875 343.2656,305.875 Q344.25,305.875 344.6406,305.25 Q345.0313,304.625 345.0313,303.4844 L345.0313,296.625 L346.9063,296.625 L346.9063,303.4688 Q346.9063,305.5 345.875,306.4688 Q344.8594,307.4375 343.25,307.4375 Z \"/><text fill=\"#000000\" font-family=\"sans-serif\" font-size=\"12\" font-style=\"italic\" lengthAdjust=\"spacingAndGlyphs\" textLength=\"85\" x=\"355.5\" y=\"299.1387\">«occurrence»</text><text fill=\"#000000\" font-family=\"sans-serif\" font-size=\"12\" lengthAdjust=\"spacingAndGlyphs\" textLength=\"61\" x=\"365.5\" y=\"313.1074\">occ2: Occ</text><line style=\"stroke: #A80036; stroke-width: 1.5;\" x1=\"329.5\" x2=\"440.5\" y1=\"320.9375\" y2=\"320.9375\"/></a><!--MD5=[270fce915f116d4de14055a7c1d9a0f3]\n",
       "class E5--><a href=\"psysml:2ba1b44f-ac88-49ba-a1da-8edc5df2da3a\" target=\"_top\" title=\"psysml:2ba1b44f-ac88-49ba-a1da-8edc5df2da3a\" xlink:actuate=\"onRequest\" xlink:href=\"psysml:2ba1b44f-ac88-49ba-a1da-8edc5df2da3a\" xlink:show=\"new\" xlink:title=\"psysml:2ba1b44f-ac88-49ba-a1da-8edc5df2da3a\" xlink:type=\"simple\"><rect fill=\"#FEFECE\" filter=\"url(#fpqxujo4z04ib)\" height=\"45.9375\" id=\"E5\" rx=\"10\" ry=\"10\" style=\"stroke: #A80036; stroke-width: 1.5;\" width=\"113\" x=\"476.5\" y=\"283\"/><ellipse cx=\"491.5\" cy=\"301.9688\" fill=\"#FFA500\" rx=\"11\" ry=\"11\" style=\"stroke: #A80036; stroke-width: 1.0;\"/><path d=\"M491.25,307.4375 Q489.5,307.4375 488.5469,306.4063 Q487.6094,305.3594 487.6094,303.5156 L487.6094,296.625 L489.6719,296.625 L489.6719,296.7813 Q489.5781,296.875 489.5469,297.0156 Q489.5313,297.1406 489.5313,297.4063 L489.5313,303.5313 Q489.5313,304.625 489.9063,305.25 Q490.2813,305.875 491.2656,305.875 Q492.25,305.875 492.6406,305.25 Q493.0313,304.625 493.0313,303.4844 L493.0313,296.625 L494.9063,296.625 L494.9063,303.4688 Q494.9063,305.5 493.875,306.4688 Q492.8594,307.4375 491.25,307.4375 Z \"/><text fill=\"#000000\" font-family=\"sans-serif\" font-size=\"12\" font-style=\"italic\" lengthAdjust=\"spacingAndGlyphs\" textLength=\"85\" x=\"503.5\" y=\"299.1387\">«occurrence»</text><text fill=\"#000000\" font-family=\"sans-serif\" font-size=\"12\" lengthAdjust=\"spacingAndGlyphs\" textLength=\"34\" x=\"527\" y=\"313.1074\">s: Ind</text><line style=\"stroke: #A80036; stroke-width: 1.5;\" x1=\"477.5\" x2=\"588.5\" y1=\"320.9375\" y2=\"320.9375\"/></a><!--MD5=[60a26617385b1d2d0262a64233df1f8d]\n",
       "class E6--><a href=\"psysml:aefaf76d-f241-48e8-80ea-b99598299972\" target=\"_top\" title=\"psysml:aefaf76d-f241-48e8-80ea-b99598299972\" xlink:actuate=\"onRequest\" xlink:href=\"psysml:aefaf76d-f241-48e8-80ea-b99598299972\" xlink:show=\"new\" xlink:title=\"psysml:aefaf76d-f241-48e8-80ea-b99598299972\" xlink:type=\"simple\"><rect fill=\"#FEFECE\" filter=\"url(#fpqxujo4z04ib)\" height=\"45.9375\" id=\"E6\" rx=\"10\" ry=\"10\" style=\"stroke: #A80036; stroke-width: 1.5;\" width=\"113\" x=\"624.5\" y=\"283\"/><ellipse cx=\"639.5\" cy=\"301.9688\" fill=\"#FFA500\" rx=\"11\" ry=\"11\" style=\"stroke: #A80036; stroke-width: 1.0;\"/><path d=\"M639.25,307.4375 Q637.5,307.4375 636.5469,306.4063 Q635.6094,305.3594 635.6094,303.5156 L635.6094,296.625 L637.6719,296.625 L637.6719,296.7813 Q637.5781,296.875 637.5469,297.0156 Q637.5313,297.1406 637.5313,297.4063 L637.5313,303.5313 Q637.5313,304.625 637.9063,305.25 Q638.2813,305.875 639.2656,305.875 Q640.25,305.875 640.6406,305.25 Q641.0313,304.625 641.0313,303.4844 L641.0313,296.625 L642.9063,296.625 L642.9063,303.4688 Q642.9063,305.5 641.875,306.4688 Q640.8594,307.4375 639.25,307.4375 Z \"/><text fill=\"#000000\" font-family=\"sans-serif\" font-size=\"12\" font-style=\"italic\" lengthAdjust=\"spacingAndGlyphs\" textLength=\"85\" x=\"651.5\" y=\"299.1387\">«occurrence»</text><text fill=\"#000000\" font-family=\"sans-serif\" font-size=\"12\" lengthAdjust=\"spacingAndGlyphs\" textLength=\"5\" x=\"689.5\" y=\"313.1074\">t</text><line style=\"stroke: #A80036; stroke-width: 1.5;\" x1=\"625.5\" x2=\"736.5\" y1=\"320.9375\" y2=\"320.9375\"/></a><!--MD5=[2156ba9850f5573cc1fc38a6a4b2f02b]\n",
       "class E7--><a href=\"psysml:991e81ed-291b-4563-955c-44288cc9fc81\" target=\"_top\" title=\"psysml:991e81ed-291b-4563-955c-44288cc9fc81\" xlink:actuate=\"onRequest\" xlink:href=\"psysml:991e81ed-291b-4563-955c-44288cc9fc81\" xlink:show=\"new\" xlink:title=\"psysml:991e81ed-291b-4563-955c-44288cc9fc81\" xlink:type=\"simple\"><rect fill=\"#FEFECE\" filter=\"url(#fpqxujo4z04ib)\" height=\"45.9375\" id=\"E7\" style=\"stroke: #A80036; stroke-width: 1.5;\" width=\"141\" x=\"462.5\" y=\"389\"/><ellipse cx=\"477.5\" cy=\"407.9688\" fill=\"#A52A2A\" rx=\"11\" ry=\"11\" style=\"stroke: #A80036; stroke-width: 1.0;\"/><path d=\"M474.7188,412.9688 L474.7188,402.375 L477.4531,402.375 Q478.8438,402.375 479.6094,402.7656 Q480.3906,403.1406 480.9219,403.8438 Q481.4531,404.5469 481.75,405.5469 Q482.0469,406.5313 482.0469,407.75 Q482,409.3438 481.5,410.5313 Q481.0156,411.7031 479.9688,412.3438 Q478.9375,412.9688 477.25,412.9688 L474.7188,412.9688 Z M476.5781,411.4688 L477.2031,411.4688 Q478.2813,411.4688 478.9375,411.0156 Q479.5938,410.5625 479.875,409.7344 Q480.1719,408.8906 480.1563,407.7656 Q480.1563,406.5938 479.9063,405.7344 Q479.6563,404.8594 479.0469,404.3906 Q478.4375,403.9063 477.3906,403.9063 L476.5781,403.9063 L476.5781,411.4688 Z \"/><text fill=\"#000000\" font-family=\"sans-serif\" font-size=\"12\" font-style=\"italic\" lengthAdjust=\"spacingAndGlyphs\" textLength=\"113\" x=\"489.5\" y=\"405.1387\">«occurrence  def»</text><text fill=\"#000000\" font-family=\"sans-serif\" font-size=\"12\" lengthAdjust=\"spacingAndGlyphs\" textLength=\"19\" x=\"536.5\" y=\"419.1074\">Ind</text><line style=\"stroke: #A80036; stroke-width: 1.5;\" x1=\"463.5\" x2=\"602.5\" y1=\"426.9375\" y2=\"426.9375\"/></a><!--MD5=[b9389687b975829384b498ac4b7476b2]\n",
       "class E8--><a href=\"psysml:fb7dbc0d-a670-4e6d-a2b6-24a9a70c023a\" target=\"_top\" title=\"psysml:fb7dbc0d-a670-4e6d-a2b6-24a9a70c023a\" xlink:actuate=\"onRequest\" xlink:href=\"psysml:fb7dbc0d-a670-4e6d-a2b6-24a9a70c023a\" xlink:show=\"new\" xlink:title=\"psysml:fb7dbc0d-a670-4e6d-a2b6-24a9a70c023a\" xlink:type=\"simple\"><rect fill=\"#FEFECE\" filter=\"url(#fpqxujo4z04ib)\" height=\"45.9375\" id=\"E8\" rx=\"10\" ry=\"10\" style=\"stroke: #A80036; stroke-width: 1.5;\" width=\"113\" x=\"402.5\" y=\"495\"/><ellipse cx=\"417.5\" cy=\"513.9688\" fill=\"#FFA500\" rx=\"11\" ry=\"11\" style=\"stroke: #A80036; stroke-width: 1.0;\"/><path d=\"M417.25,519.4375 Q415.5,519.4375 414.5469,518.4063 Q413.6094,517.3594 413.6094,515.5156 L413.6094,508.625 L415.6719,508.625 L415.6719,508.7813 Q415.5781,508.875 415.5469,509.0156 Q415.5313,509.1406 415.5313,509.4063 L415.5313,515.5313 Q415.5313,516.625 415.9063,517.25 Q416.2813,517.875 417.2656,517.875 Q418.25,517.875 418.6406,517.25 Q419.0313,516.625 419.0313,515.4844 L419.0313,508.625 L420.9063,508.625 L420.9063,515.4688 Q420.9063,517.5 419.875,518.4688 Q418.8594,519.4375 417.25,519.4375 Z \"/><text fill=\"#000000\" font-family=\"sans-serif\" font-size=\"12\" font-style=\"italic\" lengthAdjust=\"spacingAndGlyphs\" textLength=\"85\" x=\"429.5\" y=\"511.1387\">«occurrence»</text><text fill=\"#000000\" font-family=\"sans-serif\" font-size=\"12\" lengthAdjust=\"spacingAndGlyphs\" textLength=\"15\" x=\"462.5\" y=\"525.1074\">s2</text><line style=\"stroke: #A80036; stroke-width: 1.5;\" x1=\"403.5\" x2=\"514.5\" y1=\"532.9375\" y2=\"532.9375\"/></a><!--MD5=[fd4143e9d270a159db93a4ea2a975926]\n",
       "class E9--><a href=\"psysml:ae0fd4ea-8dc7-4cb0-a32c-5615a8f756eb\" target=\"_top\" title=\"psysml:ae0fd4ea-8dc7-4cb0-a32c-5615a8f756eb\" xlink:actuate=\"onRequest\" xlink:href=\"psysml:ae0fd4ea-8dc7-4cb0-a32c-5615a8f756eb\" xlink:show=\"new\" xlink:title=\"psysml:ae0fd4ea-8dc7-4cb0-a32c-5615a8f756eb\" xlink:type=\"simple\"><rect fill=\"#FEFECE\" filter=\"url(#fpqxujo4z04ib)\" height=\"45.9375\" id=\"E9\" rx=\"10\" ry=\"10\" style=\"stroke: #A80036; stroke-width: 1.5;\" width=\"113\" x=\"550.5\" y=\"495\"/><ellipse cx=\"565.5\" cy=\"513.9688\" fill=\"#FFA500\" rx=\"11\" ry=\"11\" style=\"stroke: #A80036; stroke-width: 1.0;\"/><path d=\"M565.25,519.4375 Q563.5,519.4375 562.5469,518.4063 Q561.6094,517.3594 561.6094,515.5156 L561.6094,508.625 L563.6719,508.625 L563.6719,508.7813 Q563.5781,508.875 563.5469,509.0156 Q563.5313,509.1406 563.5313,509.4063 L563.5313,515.5313 Q563.5313,516.625 563.9063,517.25 Q564.2813,517.875 565.2656,517.875 Q566.25,517.875 566.6406,517.25 Q567.0313,516.625 567.0313,515.4844 L567.0313,508.625 L568.9063,508.625 L568.9063,515.4688 Q568.9063,517.5 567.875,518.4688 Q566.8594,519.4375 565.25,519.4375 Z \"/><text fill=\"#000000\" font-family=\"sans-serif\" font-size=\"12\" font-style=\"italic\" lengthAdjust=\"spacingAndGlyphs\" textLength=\"85\" x=\"577.5\" y=\"511.1387\">«occurrence»</text><text fill=\"#000000\" font-family=\"sans-serif\" font-size=\"12\" lengthAdjust=\"spacingAndGlyphs\" textLength=\"13\" x=\"611.5\" y=\"525.1074\">t2</text><line style=\"stroke: #A80036; stroke-width: 1.5;\" x1=\"551.5\" x2=\"662.5\" y1=\"532.9375\" y2=\"532.9375\"/></a><!--MD5=[96f4274e9e20536e775497830990834d]\n",
       "class E10--><a href=\"psysml:90168d9a-6358-4939-88d7-8ec9974b52c6\" target=\"_top\" title=\"psysml:90168d9a-6358-4939-88d7-8ec9974b52c6\" xlink:actuate=\"onRequest\" xlink:href=\"psysml:90168d9a-6358-4939-88d7-8ec9974b52c6\" xlink:show=\"new\" xlink:title=\"psysml:90168d9a-6358-4939-88d7-8ec9974b52c6\" xlink:type=\"simple\"><rect fill=\"#FEFECE\" filter=\"url(#fpqxujo4z04ib)\" height=\"45.9375\" id=\"E10\" rx=\"10\" ry=\"10\" style=\"stroke: #A80036; stroke-width: 1.5;\" width=\"113\" x=\"466.5\" y=\"41\"/><ellipse cx=\"481.5\" cy=\"59.9688\" fill=\"#FFA500\" rx=\"11\" ry=\"11\" style=\"stroke: #A80036; stroke-width: 1.0;\"/><path d=\"M481.25,65.4375 Q479.5,65.4375 478.5469,64.4063 Q477.6094,63.3594 477.6094,61.5156 L477.6094,54.625 L479.6719,54.625 L479.6719,54.7813 Q479.5781,54.875 479.5469,55.0156 Q479.5313,55.1406 479.5313,55.4063 L479.5313,61.5313 Q479.5313,62.625 479.9063,63.25 Q480.2813,63.875 481.2656,63.875 Q482.25,63.875 482.6406,63.25 Q483.0313,62.625 483.0313,61.4844 L483.0313,54.625 L484.9063,54.625 L484.9063,61.4688 Q484.9063,63.5 483.875,64.4688 Q482.8594,65.4375 481.25,65.4375 Z \"/><text fill=\"#000000\" font-family=\"sans-serif\" font-size=\"12\" font-style=\"italic\" lengthAdjust=\"spacingAndGlyphs\" textLength=\"85\" x=\"493.5\" y=\"57.1387\">«occurrence»</text><text fill=\"#000000\" font-family=\"sans-serif\" font-size=\"12\" lengthAdjust=\"spacingAndGlyphs\" textLength=\"77\" x=\"495.5\" y=\"71.1074\">ind: Ind, Occ</text><line style=\"stroke: #A80036; stroke-width: 1.5;\" x1=\"467.5\" x2=\"578.5\" y1=\"78.9375\" y2=\"78.9375\"/></a><!--MD5=[1dd1bfd58a279cf63c5f349dbc8fc6a1]\n",
       "class E11--><a href=\"psysml:d0eba55f-a402-4b22-88ba-9857d6bd50ac\" target=\"_top\" title=\"psysml:d0eba55f-a402-4b22-88ba-9857d6bd50ac\" xlink:actuate=\"onRequest\" xlink:href=\"psysml:d0eba55f-a402-4b22-88ba-9857d6bd50ac\" xlink:show=\"new\" xlink:title=\"psysml:d0eba55f-a402-4b22-88ba-9857d6bd50ac\" xlink:type=\"simple\"><rect fill=\"#FEFECE\" filter=\"url(#fpqxujo4z04ib)\" height=\"45.9375\" id=\"E11\" rx=\"10\" ry=\"10\" style=\"stroke: #A80036; stroke-width: 1.5;\" width=\"113\" x=\"513.5\" y=\"162\"/><ellipse cx=\"528.5\" cy=\"180.9688\" fill=\"#FFA500\" rx=\"11\" ry=\"11\" style=\"stroke: #A80036; stroke-width: 1.0;\"/><path d=\"M528.25,186.4375 Q526.5,186.4375 525.5469,185.4063 Q524.6094,184.3594 524.6094,182.5156 L524.6094,175.625 L526.6719,175.625 L526.6719,175.7813 Q526.5781,175.875 526.5469,176.0156 Q526.5313,176.1406 526.5313,176.4063 L526.5313,182.5313 Q526.5313,183.625 526.9063,184.25 Q527.2813,184.875 528.2656,184.875 Q529.25,184.875 529.6406,184.25 Q530.0313,183.625 530.0313,182.4844 L530.0313,175.625 L531.9063,175.625 L531.9063,182.4688 Q531.9063,184.5 530.875,185.4688 Q529.8594,186.4375 528.25,186.4375 Z \"/><text fill=\"#000000\" font-family=\"sans-serif\" font-size=\"12\" font-style=\"italic\" lengthAdjust=\"spacingAndGlyphs\" textLength=\"85\" x=\"540.5\" y=\"178.1387\">«occurrence»</text><text fill=\"#000000\" font-family=\"sans-serif\" font-size=\"12\" lengthAdjust=\"spacingAndGlyphs\" textLength=\"15\" x=\"573.5\" y=\"192.1074\">s3</text><line style=\"stroke: #A80036; stroke-width: 1.5;\" x1=\"514.5\" x2=\"625.5\" y1=\"199.9375\" y2=\"199.9375\"/></a><!--MD5=[49a0ec8f00dab7302a31f22d0f0fe584]\n",
       "class E12--><a href=\"psysml:0232df4f-93e4-4add-8902-f942e03a0634\" target=\"_top\" title=\"psysml:0232df4f-93e4-4add-8902-f942e03a0634\" xlink:actuate=\"onRequest\" xlink:href=\"psysml:0232df4f-93e4-4add-8902-f942e03a0634\" xlink:show=\"new\" xlink:title=\"psysml:0232df4f-93e4-4add-8902-f942e03a0634\" xlink:type=\"simple\"><rect fill=\"#FEFECE\" filter=\"url(#fpqxujo4z04ib)\" height=\"45.9375\" id=\"E12\" rx=\"10\" ry=\"10\" style=\"stroke: #A80036; stroke-width: 1.5;\" width=\"113\" x=\"661.5\" y=\"162\"/><ellipse cx=\"676.5\" cy=\"180.9688\" fill=\"#FFA500\" rx=\"11\" ry=\"11\" style=\"stroke: #A80036; stroke-width: 1.0;\"/><path d=\"M676.25,186.4375 Q674.5,186.4375 673.5469,185.4063 Q672.6094,184.3594 672.6094,182.5156 L672.6094,175.625 L674.6719,175.625 L674.6719,175.7813 Q674.5781,175.875 674.5469,176.0156 Q674.5313,176.1406 674.5313,176.4063 L674.5313,182.5313 Q674.5313,183.625 674.9063,184.25 Q675.2813,184.875 676.2656,184.875 Q677.25,184.875 677.6406,184.25 Q678.0313,183.625 678.0313,182.4844 L678.0313,175.625 L679.9063,175.625 L679.9063,182.4688 Q679.9063,184.5 678.875,185.4688 Q677.8594,186.4375 676.25,186.4375 Z \"/><text fill=\"#000000\" font-family=\"sans-serif\" font-size=\"12\" font-style=\"italic\" lengthAdjust=\"spacingAndGlyphs\" textLength=\"85\" x=\"688.5\" y=\"178.1387\">«occurrence»</text><text fill=\"#000000\" font-family=\"sans-serif\" font-size=\"12\" lengthAdjust=\"spacingAndGlyphs\" textLength=\"13\" x=\"722.5\" y=\"192.1074\">t3</text><line style=\"stroke: #A80036; stroke-width: 1.5;\" x1=\"662.5\" x2=\"773.5\" y1=\"199.9375\" y2=\"199.9375\"/></a><!--MD5=[ee3c913d1a06f366521f9ef512b67efe]\n",
       "class E13--><a href=\"psysml:5cbde71f-e2d0-40cd-91ed-92f5bc776eb7\" target=\"_top\" title=\"psysml:5cbde71f-e2d0-40cd-91ed-92f5bc776eb7\" xlink:actuate=\"onRequest\" xlink:href=\"psysml:5cbde71f-e2d0-40cd-91ed-92f5bc776eb7\" xlink:show=\"new\" xlink:title=\"psysml:5cbde71f-e2d0-40cd-91ed-92f5bc776eb7\" xlink:type=\"simple\"><rect fill=\"#FEFECE\" filter=\"url(#fpqxujo4z04ib)\" height=\"45.9375\" id=\"E13\" rx=\"10\" ry=\"10\" style=\"stroke: #A80036; stroke-width: 1.5;\" width=\"113\" x=\"32.5\" y=\"283\"/><ellipse cx=\"47.5\" cy=\"301.9688\" fill=\"#FFA500\" rx=\"11\" ry=\"11\" style=\"stroke: #A80036; stroke-width: 1.0;\"/><path d=\"M47.25,307.4375 Q45.5,307.4375 44.5469,306.4063 Q43.6094,305.3594 43.6094,303.5156 L43.6094,296.625 L45.6719,296.625 L45.6719,296.7813 Q45.5781,296.875 45.5469,297.0156 Q45.5313,297.1406 45.5313,297.4063 L45.5313,303.5313 Q45.5313,304.625 45.9063,305.25 Q46.2813,305.875 47.2656,305.875 Q48.25,305.875 48.6406,305.25 Q49.0313,304.625 49.0313,303.4844 L49.0313,296.625 L50.9063,296.625 L50.9063,303.4688 Q50.9063,305.5 49.875,306.4688 Q48.8594,307.4375 47.25,307.4375 Z \"/><text fill=\"#000000\" font-family=\"sans-serif\" font-size=\"12\" font-style=\"italic\" lengthAdjust=\"spacingAndGlyphs\" textLength=\"85\" x=\"59.5\" y=\"299.1387\">«occurrence»</text><text fill=\"#000000\" font-family=\"sans-serif\" font-size=\"12\" lengthAdjust=\"spacingAndGlyphs\" textLength=\"42\" x=\"79\" y=\"313.1074\">s4: Ind</text><line style=\"stroke: #A80036; stroke-width: 1.5;\" x1=\"33.5\" x2=\"144.5\" y1=\"320.9375\" y2=\"320.9375\"/></a><!--MD5=[209b3feb70ccb6233bfe1053d122c12c]\n",
       "reverse link E2 to E3--><a href=\"psysml:111e77a4-44f2-45ac-862d-a1e02a1cad26\" target=\"_top\" title=\"psysml:111e77a4-44f2-45ac-862d-a1e02a1cad26\" xlink:actuate=\"onRequest\" xlink:href=\"psysml:111e77a4-44f2-45ac-862d-a1e02a1cad26\" xlink:show=\"new\" xlink:title=\"psysml:111e77a4-44f2-45ac-862d-a1e02a1cad26\" xlink:type=\"simple\"><path d=\"M306.73,231.49 C286.2,249.12 265.3,268.5 251.49,282.93 \" fill=\"none\" id=\"E2&lt;-E3\" style=\"stroke: #A80036; stroke-width: 1.0;\"/><polygon fill=\"#FFFFFF\" points=\"316.74,223,309.5759,223.8216,307.5789,230.7507,314.743,229.9291,316.74,223\" style=\"stroke: #A80036; stroke-width: 1.0;\"/></a><!--MD5=[05d275557350bfb9b23a4ef7222b4c39]\n",
       "link E3 to E2--><a href=\"psysml:0f45e557-8f0e-4df9-b1d8-28bd2526f5a3\" target=\"_top\" title=\"psysml:0f45e557-8f0e-4df9-b1d8-28bd2526f5a3\" xlink:actuate=\"onRequest\" xlink:href=\"psysml:0f45e557-8f0e-4df9-b1d8-28bd2526f5a3\" xlink:show=\"new\" xlink:title=\"psysml:0f45e557-8f0e-4df9-b1d8-28bd2526f5a3\" xlink:type=\"simple\"><path d=\"M272.44,282.93 C289.17,269.94 309.03,252.95 326.57,236.82 \" fill=\"none\" id=\"E3-&gt;E2\" style=\"stroke: #A80036; stroke-width: 1.0;\"/><polygon fill=\"#FFFFFF\" points=\"341.25,223,332.2118,241.1193,322.6166,230.9245,341.25,223\" style=\"stroke: #A80036; stroke-width: 1.0;\"/><ellipse cx=\"326.6903\" cy=\"243.5695\" fill=\"#A80036\" rx=\"2\" ry=\"2\" style=\"stroke: #A80036; stroke-width: 1.0;\"/><ellipse cx=\"319.8366\" cy=\"236.2875\" fill=\"#A80036\" rx=\"2\" ry=\"2\" style=\"stroke: #A80036; stroke-width: 1.0;\"/></a><!--MD5=[9618e71518536f8baf3342ff6fdab317]\n",
       "reverse link E2 to E4--><a href=\"psysml:7f5381ff-79d6-4175-8599-1b084d5a38fb\" target=\"_top\" title=\"psysml:7f5381ff-79d6-4175-8599-1b084d5a38fb\" xlink:actuate=\"onRequest\" xlink:href=\"psysml:7f5381ff-79d6-4175-8599-1b084d5a38fb\" xlink:show=\"new\" xlink:title=\"psysml:7f5381ff-79d6-4175-8599-1b084d5a38fb\" xlink:type=\"simple\"><path d=\"M363.73,236.34 C365.3,252.61 368.28,269.81 372.05,282.93 \" fill=\"none\" id=\"E2&lt;-E4\" style=\"stroke: #A80036; stroke-width: 1.0;\"/><polygon fill=\"#A80036\" points=\"362.76,223,359.206,229.2745,363.6309,234.9684,367.1849,228.6939,362.76,223\" style=\"stroke: #A80036; stroke-width: 1.0;\"/></a><!--MD5=[185131fc0dcab0a4505a2ebe144e961b]\n",
       "link E4 to E2--><a href=\"psysml:9af83ecd-fc65-4272-8374-c2ac75a0337a\" target=\"_top\" title=\"psysml:9af83ecd-fc65-4272-8374-c2ac75a0337a\" xlink:actuate=\"onRequest\" xlink:href=\"psysml:9af83ecd-fc65-4272-8374-c2ac75a0337a\" xlink:show=\"new\" xlink:title=\"psysml:9af83ecd-fc65-4272-8374-c2ac75a0337a\" xlink:type=\"simple\"><path d=\"M392.99,282.93 C393.5,271.52 392.57,257.01 390.64,242.72 \" fill=\"none\" id=\"E4-&gt;E2\" style=\"stroke: #A80036; stroke-width: 1.0;\"/><polygon fill=\"#FFFFFF\" points=\"387.27,223,397.3603,240.5553,383.5589,242.9055,387.27,223\" style=\"stroke: #A80036; stroke-width: 1.0;\"/><ellipse cx=\"396.3455\" cy=\"246.5101\" fill=\"#A80036\" rx=\"2\" ry=\"2\" style=\"stroke: #A80036; stroke-width: 1.0;\"/><ellipse cx=\"386.4874\" cy=\"248.1888\" fill=\"#A80036\" rx=\"2\" ry=\"2\" style=\"stroke: #A80036; stroke-width: 1.0;\"/></a><!--MD5=[4e1a83fab71cdb913c109063314ae896]\n",
       "reverse link E2 to E5--><a href=\"psysml:648e9e41-ac7c-450e-af70-439d81f3f540\" target=\"_top\" title=\"psysml:648e9e41-ac7c-450e-af70-439d81f3f540\" xlink:actuate=\"onRequest\" xlink:href=\"psysml:648e9e41-ac7c-450e-af70-439d81f3f540\" xlink:show=\"new\" xlink:title=\"psysml:648e9e41-ac7c-450e-af70-439d81f3f540\" xlink:type=\"simple\"><path d=\"M431.32,230.77 C455.74,248.59 482.73,268.3 502.77,282.93 \" fill=\"none\" id=\"E2&lt;-E5\" style=\"stroke: #A80036; stroke-width: 1.0;\"/><polygon fill=\"#A80036\" points=\"420.68,223,423.171,229.7672,430.3757,230.0706,427.8847,223.3034,420.68,223\" style=\"stroke: #A80036; stroke-width: 1.0;\"/></a><!--MD5=[ce036f65110ae2351ccce5a81dc2e928]\n",
       "reverse link E2 to E6--><a href=\"psysml:00b8b9a4-593e-406d-b505-212ff2a7c9c1\" target=\"_top\" title=\"psysml:00b8b9a4-593e-406d-b505-212ff2a7c9c1\" xlink:actuate=\"onRequest\" xlink:href=\"psysml:00b8b9a4-593e-406d-b505-212ff2a7c9c1\" xlink:show=\"new\" xlink:title=\"psysml:00b8b9a4-593e-406d-b505-212ff2a7c9c1\" xlink:type=\"simple\"><path d=\"M452.92,217.73 C507.04,238.44 576.28,264.93 624.2,283.27 \" fill=\"none\" id=\"E2&lt;-E6\" style=\"stroke: #A80036; stroke-width: 1.0;\"/><polygon fill=\"#A80036\" points=\"440.57,213,444.7458,218.879,451.7786,217.2856,447.6029,211.4066,440.57,213\" style=\"stroke: #A80036; stroke-width: 1.0;\"/></a><!--MD5=[3a9b96bfbf6b6ad89c494e81751bda47]\n",
       "link E5 to E7--><a href=\"psysml:088b8ee7-f1bc-4574-b816-43bcf4f14b77\" target=\"_top\" title=\"psysml:088b8ee7-f1bc-4574-b816-43bcf4f14b77\" xlink:actuate=\"onRequest\" xlink:href=\"psysml:088b8ee7-f1bc-4574-b816-43bcf4f14b77\" xlink:show=\"new\" xlink:title=\"psysml:088b8ee7-f1bc-4574-b816-43bcf4f14b77\" xlink:type=\"simple\"><path d=\"M533,329.06 C533,340.64 533,355.23 533,368.87 \" fill=\"none\" id=\"E5-&gt;E7\" style=\"stroke: #A80036; stroke-width: 1.0;\"/><polygon fill=\"#FFFFFF\" points=\"533,388.98,526,369.98,540,369.98,533,388.98\" style=\"stroke: #A80036; stroke-width: 1.0;\"/><ellipse cx=\"528\" cy=\"364.28\" fill=\"#A80036\" rx=\"2\" ry=\"2\" style=\"stroke: #A80036; stroke-width: 1.0;\"/><ellipse cx=\"538\" cy=\"364.28\" fill=\"#A80036\" rx=\"2\" ry=\"2\" style=\"stroke: #A80036; stroke-width: 1.0;\"/></a><!--MD5=[dc164f5e8a733ab456ef1add180e9e34]\n",
       "reverse link E7 to E8--><a href=\"psysml:c8813ef9-ffa9-4c9d-80a4-dd20f6c80ea5\" target=\"_top\" title=\"psysml:c8813ef9-ffa9-4c9d-80a4-dd20f6c80ea5\" xlink:actuate=\"onRequest\" xlink:href=\"psysml:c8813ef9-ffa9-4c9d-80a4-dd20f6c80ea5\" xlink:show=\"new\" xlink:title=\"psysml:c8813ef9-ffa9-4c9d-80a4-dd20f6c80ea5\" xlink:type=\"simple\"><path d=\"M509.45,446.09 C498.09,462.06 484.77,480.78 474.67,494.98 \" fill=\"none\" id=\"E7&lt;-E8\" style=\"stroke: #A80036; stroke-width: 1.0;\"/><polygon fill=\"#A80036\" points=\"517.31,435.06,510.5722,437.6295,510.3526,444.8373,517.0904,442.2678,517.31,435.06\" style=\"stroke: #A80036; stroke-width: 1.0;\"/></a><!--MD5=[e4a10ef82d0e328e31cac39a31e58dda]\n",
       "reverse link E7 to E9--><a href=\"psysml:cdca8d7c-6aa5-4fff-9e0e-900e3ba85343\" target=\"_top\" title=\"psysml:cdca8d7c-6aa5-4fff-9e0e-900e3ba85343\" xlink:actuate=\"onRequest\" xlink:href=\"psysml:cdca8d7c-6aa5-4fff-9e0e-900e3ba85343\" xlink:show=\"new\" xlink:title=\"psysml:cdca8d7c-6aa5-4fff-9e0e-900e3ba85343\" xlink:type=\"simple\"><path d=\"M556.55,446.09 C567.91,462.06 581.23,480.78 591.33,494.98 \" fill=\"none\" id=\"E7&lt;-E9\" style=\"stroke: #A80036; stroke-width: 1.0;\"/><polygon fill=\"#A80036\" points=\"548.69,435.06,548.9096,442.2678,555.6474,444.8373,555.4278,437.6295,548.69,435.06\" style=\"stroke: #A80036; stroke-width: 1.0;\"/></a><!--MD5=[a919e0967d6f3de553dc51b9865a1d6d]\n",
       "link E10 to E7--><a href=\"psysml:43f26010-ca40-42d6-8df0-e4847d82fc63\" target=\"_top\" title=\"psysml:43f26010-ca40-42d6-8df0-e4847d82fc63\" xlink:actuate=\"onRequest\" xlink:href=\"psysml:43f26010-ca40-42d6-8df0-e4847d82fc63\" xlink:show=\"new\" xlink:title=\"psysml:43f26010-ca40-42d6-8df0-e4847d82fc63\" xlink:type=\"simple\"><path d=\"M509.64,87.03 C491.43,120.22 464.49,183.35 496,223 C569.52,315.5 681.48,190.5 755,283 C799.02,338.38 702.69,374.35 623.39,393.66 \" fill=\"none\" id=\"E10-&gt;E7\" style=\"stroke: #A80036; stroke-width: 1.0;\"/><polygon fill=\"#FFFFFF\" points=\"603.69,398.21,620.6276,387.1142,623.7779,400.7552,603.69,398.21\" style=\"stroke: #A80036; stroke-width: 1.0;\"/><ellipse cx=\"626.6315\" cy=\"387.7803\" fill=\"#A80036\" rx=\"2\" ry=\"2\" style=\"stroke: #A80036; stroke-width: 1.0;\"/><ellipse cx=\"628.8817\" cy=\"397.5239\" fill=\"#A80036\" rx=\"2\" ry=\"2\" style=\"stroke: #A80036; stroke-width: 1.0;\"/></a><!--MD5=[0f36bececdf0dff6e600d6f64214b0f1]\n",
       "link E10 to E2--><a href=\"psysml:ac89f7fb-b091-4bc7-aaea-6377fc157ffe\" target=\"_top\" title=\"psysml:ac89f7fb-b091-4bc7-aaea-6377fc157ffe\" xlink:actuate=\"onRequest\" xlink:href=\"psysml:ac89f7fb-b091-4bc7-aaea-6377fc157ffe\" xlink:show=\"new\" xlink:title=\"psysml:ac89f7fb-b091-4bc7-aaea-6377fc157ffe\" xlink:type=\"simple\"><path d=\"M494.58,87.1 C477.43,100.44 454.87,117.99 433.65,134.49 \" fill=\"none\" id=\"E10-&gt;E2\" style=\"stroke: #A80036; stroke-width: 1.0;\"/><polygon fill=\"#FFFFFF\" points=\"417.81,146.81,428.5047,129.6163,437.1034,140.6646,417.81,146.81\" style=\"stroke: #A80036; stroke-width: 1.0;\"/><ellipse cx=\"434.2313\" cy=\"127.6938\" fill=\"#A80036\" rx=\"2\" ry=\"2\" style=\"stroke: #A80036; stroke-width: 1.0;\"/><ellipse cx=\"440.3732\" cy=\"135.5854\" fill=\"#A80036\" rx=\"2\" ry=\"2\" style=\"stroke: #A80036; stroke-width: 1.0;\"/></a><!--MD5=[de308be4a2431766a05a907a031c07fc]\n",
       "reverse link E10 to E11--><a href=\"psysml:75c081c5-05e2-401c-b103-d900689a3a49\" target=\"_top\" title=\"psysml:75c081c5-05e2-401c-b103-d900689a3a49\" xlink:actuate=\"onRequest\" xlink:href=\"psysml:75c081c5-05e2-401c-b103-d900689a3a49\" xlink:show=\"new\" xlink:title=\"psysml:75c081c5-05e2-401c-b103-d900689a3a49\" xlink:type=\"simple\"><path d=\"M536.61,99.47 C544.52,119.48 554.24,144.11 561.16,161.61 \" fill=\"none\" id=\"E10&lt;-E11\" style=\"stroke: #A80036; stroke-width: 1.0;\"/><polygon fill=\"#A80036\" points=\"531.73,87.1,530.2171,94.1506,536.1435,98.2589,537.6564,91.2083,531.73,87.1\" style=\"stroke: #A80036; stroke-width: 1.0;\"/></a><!--MD5=[1d54f998c6d5961a1a9184be73a7eb6c]\n",
       "reverse link E10 to E12--><a href=\"psysml:54130436-8b1f-4706-a610-d99b2d4cb5d4\" target=\"_top\" title=\"psysml:54130436-8b1f-4706-a610-d99b2d4cb5d4\" xlink:actuate=\"onRequest\" xlink:href=\"psysml:54130436-8b1f-4706-a610-d99b2d4cb5d4\" xlink:show=\"new\" xlink:title=\"psysml:54130436-8b1f-4706-a610-d99b2d4cb5d4\" xlink:type=\"simple\"><path d=\"M570.37,93.91 C604.63,114.81 650.23,142.64 681.64,161.81 \" fill=\"none\" id=\"E10&lt;-E12\" style=\"stroke: #A80036; stroke-width: 1.0;\"/><polygon fill=\"#A80036\" points=\"559.22,87.1,562.259,93.6395,569.4643,93.3494,566.4253,86.8099,559.22,87.1\" style=\"stroke: #A80036; stroke-width: 1.0;\"/></a><!--MD5=[4a48077df6499cfcd20b62e8f5f37904]\n",
       "link E13 to E7--><a href=\"psysml:85f16706-e1b7-404d-9ee5-57d420bfb7f2\" target=\"_top\" title=\"psysml:85f16706-e1b7-404d-9ee5-57d420bfb7f2\" xlink:actuate=\"onRequest\" xlink:href=\"psysml:85f16706-e1b7-404d-9ee5-57d420bfb7f2\" xlink:show=\"new\" xlink:title=\"psysml:85f16706-e1b7-404d-9ee5-57d420bfb7f2\" xlink:type=\"simple\"><path d=\"M145.85,324.34 C151.63,325.97 157.42,327.55 163,329 C257.81,353.57 367.45,377.29 442.63,392.84 \" fill=\"none\" id=\"E13-&gt;E7\" style=\"stroke: #A80036; stroke-width: 1.0;\"/><polygon fill=\"#FFFFFF\" points=\"462.4,396.91,442.3793,399.9385,445.1999,386.2256,462.4,396.91\" style=\"stroke: #A80036; stroke-width: 1.0;\"/><ellipse cx=\"437.1991\" cy=\"396.8311\" fill=\"#A80036\" rx=\"2\" ry=\"2\" style=\"stroke: #A80036; stroke-width: 1.0;\"/><ellipse cx=\"439.2138\" cy=\"387.0362\" fill=\"#A80036\" rx=\"2\" ry=\"2\" style=\"stroke: #A80036; stroke-width: 1.0;\"/></a><!--MD5=[da2f3eef27b34bf73a5f8fe0425c8ad0]\n",
       "@startuml\r\n",
       " \r\n",
       "package \"OccurrenceTest\" as E1  [[psysml:53f1d42d-2686-4f4b-950f-b84b40bc19b2 ]]  {\r\n",
       "comp def \"Occ\" as E2 << <<(D,brown) occurrence  def>> [[psysml:77ba500d-77fd-484e-b411-8833010da35e ]] {\r\n",
       "- - attributes - -\r\n",
       "a\r\n",
       "}\r\n",
       "comp usage \"occ1: Occ \" as E3 << <<(U,orange) occurrence>> [[psysml:37011562-c12e-4ce2-bbf9-af5619a300f0 ]] {\r\n",
       "}\r\n",
       "comp usage \"occ2: Occ \" as E4 << <<(U,orange) occurrence>> [[psysml:3522e0a2-d0dd-4c95-916a-e9f89fbadd86 ]] {\r\n",
       "}\r\n",
       "comp usage \"s: Ind \" as E5 << individual snapshot <<(U,orange) occurrence>> [[psysml:2ba1b44f-ac88-49ba-a1da-8edc5df2da3a ]] {\r\n",
       "}\r\n",
       "comp usage \"t \" as E6 << timeslice <<(U,orange) occurrence>> [[psysml:aefaf76d-f241-48e8-80ea-b99598299972 ]] {\r\n",
       "}\r\n",
       "comp def \"Ind\" as E7 << individual <<(D,brown) occurrence  def>> [[psysml:991e81ed-291b-4563-955c-44288cc9fc81 ]] {\r\n",
       "}\r\n",
       "comp usage \"s2 \" as E8 << snapshot <<(U,orange) occurrence>> [[psysml:fb7dbc0d-a670-4e6d-a2b6-24a9a70c023a ]] {\r\n",
       "}\r\n",
       "comp usage \"t2 \" as E9 << timeslice <<(U,orange) occurrence>> [[psysml:ae0fd4ea-8dc7-4cb0-a32c-5615a8f756eb ]] {\r\n",
       "}\r\n",
       "comp usage \"ind: Ind, Occ \" as E10 << individual <<(U,orange) occurrence>> [[psysml:90168d9a-6358-4939-88d7-8ec9974b52c6 ]] {\r\n",
       "}\r\n",
       "comp usage \"s3 \" as E11 << snapshot <<(U,orange) occurrence>> [[psysml:d0eba55f-a402-4b22-88ba-9857d6bd50ac ]] {\r\n",
       "}\r\n",
       "comp usage \"t3 \" as E12 << individual timeslice <<(U,orange) occurrence>> [[psysml:0232df4f-93e4-4add-8902-f942e03a0634 ]] {\r\n",
       "}\r\n",
       "comp usage \"s4: Ind \" as E13 << individual snapshot <<(U,orange) occurrence>> [[psysml:5cbde71f-e2d0-40cd-91ed-92f5bc776eb7 ]] {\r\n",
       "}\r\n",
       "}\r\n",
       "E2 o- - E3 [[psysml:111e77a4-44f2-45ac-862d-a1e02a1cad26 ]] \r\n",
       "E3 - -:|> E2 [[psysml:0f45e557-8f0e-4df9-b1d8-28bd2526f5a3 ]] \r\n",
       "E2 *- - E4 [[psysml:7f5381ff-79d6-4175-8599-1b084d5a38fb ]] \r\n",
       "E4 - -:|> E2 [[psysml:9af83ecd-fc65-4272-8374-c2ac75a0337a ]] \r\n",
       "E2 *- - E5 [[psysml:648e9e41-ac7c-450e-af70-439d81f3f540 ]] \r\n",
       "E2 *- - E6 [[psysml:00b8b9a4-593e-406d-b505-212ff2a7c9c1 ]] \r\n",
       "E5 - -:|> E7 [[psysml:088b8ee7-f1bc-4574-b816-43bcf4f14b77 ]] \r\n",
       "E7 *- - E8 [[psysml:c8813ef9-ffa9-4c9d-80a4-dd20f6c80ea5 ]] \r\n",
       "E7 *- - E9 [[psysml:cdca8d7c-6aa5-4fff-9e0e-900e3ba85343 ]] \r\n",
       "E10 - -:|> E7 [[psysml:43f26010-ca40-42d6-8df0-e4847d82fc63 ]] \r\n",
       "E10 - -:|> E2 [[psysml:ac89f7fb-b091-4bc7-aaea-6377fc157ffe ]] \r\n",
       "E10 *- - E11 [[psysml:75c081c5-05e2-401c-b103-d900689a3a49 ]] \r\n",
       "E10 *- - E12 [[psysml:54130436-8b1f-4706-a610-d99b2d4cb5d4 ]] \r\n",
       "E13 - -:|> E7 [[psysml:85f16706-e1b7-404d-9ee5-57d420bfb7f2 ]] \r\n",
       "@enduml\r\n",
       "\n",
       "PlantUML version 1.2020.13(Sat Jun 13 12:26:38 UTC 2020)\n",
       "(EPL source distribution)\n",
       "Java Runtime: OpenJDK Runtime Environment\n",
       "JVM: OpenJDK 64-Bit Server VM\n",
       "Default Encoding: UTF-8\n",
       "Language: en\n",
       "Country: null\n",
       "--></g></svg>"
      ]
     },
     "execution_count": 30,
     "metadata": {},
     "output_type": "execute_result"
    }
   ],
   "source": [
    "%viz --style=\"PLANTUML\" --view=\"Default\" \"OccurrenceTest\""
   ]
  },
  {
   "cell_type": "code",
   "execution_count": 31,
   "id": "0eb2005b",
   "metadata": {
    "execution": {
     "iopub.execute_input": "2022-07-23T10:52:32.830833Z",
     "iopub.status.busy": "2022-07-23T10:52:32.830084Z",
     "iopub.status.idle": "2022-07-23T10:52:32.883917Z",
     "shell.execute_reply": "2022-07-23T10:52:32.883304Z"
    }
   },
   "outputs": [
    {
     "data": {
      "image/svg+xml": [
       "<?xml version=\"1.0\" encoding=\"UTF-8\" standalone=\"no\"?><svg xmlns=\"http://www.w3.org/2000/svg\" xmlns:xlink=\"http://www.w3.org/1999/xlink\" contentScriptType=\"application/ecmascript\" contentStyleType=\"text/css\" height=\"569px\" preserveAspectRatio=\"none\" style=\"width:813px;height:569px;\" version=\"1.1\" viewBox=\"0 0 813 569\" width=\"813px\" zoomAndPan=\"magnify\"><defs><filter height=\"300%\" id=\"fpqxujo4z04ib\" width=\"300%\" x=\"-1\" y=\"-1\"><feGaussianBlur result=\"blurOut\" stdDeviation=\"2.0\"/><feColorMatrix in=\"blurOut\" result=\"blurOut2\" type=\"matrix\" values=\"0 0 0 0 0 0 0 0 0 0 0 0 0 0 0 0 0 0 .4 0\"/><feOffset dx=\"4.0\" dy=\"4.0\" in=\"blurOut2\" result=\"blurOut3\"/><feBlend in=\"SourceGraphic\" in2=\"blurOut3\" mode=\"normal\"/></filter></defs><g><!--MD5=[fbc87193dbaf4d95561dea2c320d4a47]\n",
       "cluster E1--><a href=\"psysml:53f1d42d-2686-4f4b-950f-b84b40bc19b2\" target=\"_top\" title=\"psysml:53f1d42d-2686-4f4b-950f-b84b40bc19b2\" xlink:actuate=\"onRequest\" xlink:href=\"psysml:53f1d42d-2686-4f4b-950f-b84b40bc19b2\" xlink:show=\"new\" xlink:title=\"psysml:53f1d42d-2686-4f4b-950f-b84b40bc19b2\" xlink:type=\"simple\"><polygon fill=\"#FFFFFF\" filter=\"url(#fpqxujo4z04ib)\" points=\"16,6,134,6,141,28.2969,791,28.2969,791,557,16,557,16,6\" style=\"stroke: #000000; stroke-width: 1.5;\"/><line style=\"stroke: #000000; stroke-width: 1.5;\" x1=\"16\" x2=\"141\" y1=\"28.2969\" y2=\"28.2969\"/><text fill=\"#000000\" font-family=\"sans-serif\" font-size=\"14\" font-weight=\"bold\" lengthAdjust=\"spacingAndGlyphs\" textLength=\"112\" x=\"20\" y=\"20.9951\">OccurrenceTest</text></a><!--MD5=[b4997ac47864f28c2f74865a473b2911]\n",
       "class E2--><a href=\"psysml:77ba500d-77fd-484e-b411-8833010da35e\" target=\"_top\" title=\"psysml:77ba500d-77fd-484e-b411-8833010da35e\" xlink:actuate=\"onRequest\" xlink:href=\"psysml:77ba500d-77fd-484e-b411-8833010da35e\" xlink:show=\"new\" xlink:title=\"psysml:77ba500d-77fd-484e-b411-8833010da35e\" xlink:type=\"simple\"><rect fill=\"#FEFECE\" filter=\"url(#fpqxujo4z04ib)\" height=\"75.5469\" id=\"E2\" style=\"stroke: #A80036; stroke-width: 1.5;\" width=\"141\" x=\"299.5\" y=\"147\"/><ellipse cx=\"314.5\" cy=\"165.9688\" fill=\"#A52A2A\" rx=\"11\" ry=\"11\" style=\"stroke: #A80036; stroke-width: 1.0;\"/><path d=\"M311.7188,170.9688 L311.7188,160.375 L314.4531,160.375 Q315.8438,160.375 316.6094,160.7656 Q317.3906,161.1406 317.9219,161.8438 Q318.4531,162.5469 318.75,163.5469 Q319.0469,164.5313 319.0469,165.75 Q319,167.3438 318.5,168.5313 Q318.0156,169.7031 316.9688,170.3438 Q315.9375,170.9688 314.25,170.9688 L311.7188,170.9688 Z M313.5781,169.4688 L314.2031,169.4688 Q315.2813,169.4688 315.9375,169.0156 Q316.5938,168.5625 316.875,167.7344 Q317.1719,166.8906 317.1563,165.7656 Q317.1563,164.5938 316.9063,163.7344 Q316.6563,162.8594 316.0469,162.3906 Q315.4375,161.9063 314.3906,161.9063 L313.5781,161.9063 L313.5781,169.4688 Z \"/><text fill=\"#000000\" font-family=\"sans-serif\" font-size=\"12\" font-style=\"italic\" lengthAdjust=\"spacingAndGlyphs\" textLength=\"113\" x=\"326.5\" y=\"163.1387\">«occurrence  def»</text><text fill=\"#000000\" font-family=\"sans-serif\" font-size=\"12\" lengthAdjust=\"spacingAndGlyphs\" textLength=\"23\" x=\"371.5\" y=\"177.1074\">Occ</text><line style=\"stroke: #A80036; stroke-width: 1.5;\" x1=\"300.5\" x2=\"439.5\" y1=\"184.9375\" y2=\"184.9375\"/><text fill=\"#000000\" font-family=\"sans-serif\" font-size=\"11\" lengthAdjust=\"spacingAndGlyphs\" textLength=\"7\" x=\"305.5\" y=\"215.9526\">a</text><line style=\"stroke: #A80036; stroke-width: 1.0;\" x1=\"300.5\" x2=\"342.5\" y1=\"199.3398\" y2=\"199.3398\"/><text fill=\"#000000\" font-family=\"sans-serif\" font-size=\"11\" lengthAdjust=\"spacingAndGlyphs\" textLength=\"55\" x=\"342.5\" y=\"202.6479\">attributes</text><line style=\"stroke: #A80036; stroke-width: 1.0;\" x1=\"397.5\" x2=\"439.5\" y1=\"199.3398\" y2=\"199.3398\"/></a><!--MD5=[09b614a08d8cba4a07c9adeb5e0fee81]\n",
       "class E3--><a href=\"psysml:37011562-c12e-4ce2-bbf9-af5619a300f0\" target=\"_top\" title=\"psysml:37011562-c12e-4ce2-bbf9-af5619a300f0\" xlink:actuate=\"onRequest\" xlink:href=\"psysml:37011562-c12e-4ce2-bbf9-af5619a300f0\" xlink:show=\"new\" xlink:title=\"psysml:37011562-c12e-4ce2-bbf9-af5619a300f0\" xlink:type=\"simple\"><rect fill=\"#FEFECE\" filter=\"url(#fpqxujo4z04ib)\" height=\"45.9375\" id=\"E3\" rx=\"10\" ry=\"10\" style=\"stroke: #A80036; stroke-width: 1.5;\" width=\"113\" x=\"180.5\" y=\"283\"/><ellipse cx=\"195.5\" cy=\"301.9688\" fill=\"#FFA500\" rx=\"11\" ry=\"11\" style=\"stroke: #A80036; stroke-width: 1.0;\"/><path d=\"M195.25,307.4375 Q193.5,307.4375 192.5469,306.4063 Q191.6094,305.3594 191.6094,303.5156 L191.6094,296.625 L193.6719,296.625 L193.6719,296.7813 Q193.5781,296.875 193.5469,297.0156 Q193.5313,297.1406 193.5313,297.4063 L193.5313,303.5313 Q193.5313,304.625 193.9063,305.25 Q194.2813,305.875 195.2656,305.875 Q196.25,305.875 196.6406,305.25 Q197.0313,304.625 197.0313,303.4844 L197.0313,296.625 L198.9063,296.625 L198.9063,303.4688 Q198.9063,305.5 197.875,306.4688 Q196.8594,307.4375 195.25,307.4375 Z \"/><text fill=\"#000000\" font-family=\"sans-serif\" font-size=\"12\" font-style=\"italic\" lengthAdjust=\"spacingAndGlyphs\" textLength=\"85\" x=\"207.5\" y=\"299.1387\">«occurrence»</text><text fill=\"#000000\" font-family=\"sans-serif\" font-size=\"12\" lengthAdjust=\"spacingAndGlyphs\" textLength=\"61\" x=\"217.5\" y=\"313.1074\">occ1: Occ</text><line style=\"stroke: #A80036; stroke-width: 1.5;\" x1=\"181.5\" x2=\"292.5\" y1=\"320.9375\" y2=\"320.9375\"/></a><!--MD5=[ebbe1d658d1005bcc118a6aa81145e00]\n",
       "class E4--><a href=\"psysml:3522e0a2-d0dd-4c95-916a-e9f89fbadd86\" target=\"_top\" title=\"psysml:3522e0a2-d0dd-4c95-916a-e9f89fbadd86\" xlink:actuate=\"onRequest\" xlink:href=\"psysml:3522e0a2-d0dd-4c95-916a-e9f89fbadd86\" xlink:show=\"new\" xlink:title=\"psysml:3522e0a2-d0dd-4c95-916a-e9f89fbadd86\" xlink:type=\"simple\"><rect fill=\"#FEFECE\" filter=\"url(#fpqxujo4z04ib)\" height=\"45.9375\" id=\"E4\" rx=\"10\" ry=\"10\" style=\"stroke: #A80036; stroke-width: 1.5;\" width=\"113\" x=\"328.5\" y=\"283\"/><ellipse cx=\"343.5\" cy=\"301.9688\" fill=\"#FFA500\" rx=\"11\" ry=\"11\" style=\"stroke: #A80036; stroke-width: 1.0;\"/><path d=\"M343.25,307.4375 Q341.5,307.4375 340.5469,306.4063 Q339.6094,305.3594 339.6094,303.5156 L339.6094,296.625 L341.6719,296.625 L341.6719,296.7813 Q341.5781,296.875 341.5469,297.0156 Q341.5313,297.1406 341.5313,297.4063 L341.5313,303.5313 Q341.5313,304.625 341.9063,305.25 Q342.2813,305.875 343.2656,305.875 Q344.25,305.875 344.6406,305.25 Q345.0313,304.625 345.0313,303.4844 L345.0313,296.625 L346.9063,296.625 L346.9063,303.4688 Q346.9063,305.5 345.875,306.4688 Q344.8594,307.4375 343.25,307.4375 Z \"/><text fill=\"#000000\" font-family=\"sans-serif\" font-size=\"12\" font-style=\"italic\" lengthAdjust=\"spacingAndGlyphs\" textLength=\"85\" x=\"355.5\" y=\"299.1387\">«occurrence»</text><text fill=\"#000000\" font-family=\"sans-serif\" font-size=\"12\" lengthAdjust=\"spacingAndGlyphs\" textLength=\"61\" x=\"365.5\" y=\"313.1074\">occ2: Occ</text><line style=\"stroke: #A80036; stroke-width: 1.5;\" x1=\"329.5\" x2=\"440.5\" y1=\"320.9375\" y2=\"320.9375\"/></a><!--MD5=[270fce915f116d4de14055a7c1d9a0f3]\n",
       "class E5--><a href=\"psysml:2ba1b44f-ac88-49ba-a1da-8edc5df2da3a\" target=\"_top\" title=\"psysml:2ba1b44f-ac88-49ba-a1da-8edc5df2da3a\" xlink:actuate=\"onRequest\" xlink:href=\"psysml:2ba1b44f-ac88-49ba-a1da-8edc5df2da3a\" xlink:show=\"new\" xlink:title=\"psysml:2ba1b44f-ac88-49ba-a1da-8edc5df2da3a\" xlink:type=\"simple\"><rect fill=\"#FEFECE\" filter=\"url(#fpqxujo4z04ib)\" height=\"45.9375\" id=\"E5\" rx=\"10\" ry=\"10\" style=\"stroke: #A80036; stroke-width: 1.5;\" width=\"113\" x=\"476.5\" y=\"283\"/><ellipse cx=\"491.5\" cy=\"301.9688\" fill=\"#FFA500\" rx=\"11\" ry=\"11\" style=\"stroke: #A80036; stroke-width: 1.0;\"/><path d=\"M491.25,307.4375 Q489.5,307.4375 488.5469,306.4063 Q487.6094,305.3594 487.6094,303.5156 L487.6094,296.625 L489.6719,296.625 L489.6719,296.7813 Q489.5781,296.875 489.5469,297.0156 Q489.5313,297.1406 489.5313,297.4063 L489.5313,303.5313 Q489.5313,304.625 489.9063,305.25 Q490.2813,305.875 491.2656,305.875 Q492.25,305.875 492.6406,305.25 Q493.0313,304.625 493.0313,303.4844 L493.0313,296.625 L494.9063,296.625 L494.9063,303.4688 Q494.9063,305.5 493.875,306.4688 Q492.8594,307.4375 491.25,307.4375 Z \"/><text fill=\"#000000\" font-family=\"sans-serif\" font-size=\"12\" font-style=\"italic\" lengthAdjust=\"spacingAndGlyphs\" textLength=\"85\" x=\"503.5\" y=\"299.1387\">«occurrence»</text><text fill=\"#000000\" font-family=\"sans-serif\" font-size=\"12\" lengthAdjust=\"spacingAndGlyphs\" textLength=\"34\" x=\"527\" y=\"313.1074\">s: Ind</text><line style=\"stroke: #A80036; stroke-width: 1.5;\" x1=\"477.5\" x2=\"588.5\" y1=\"320.9375\" y2=\"320.9375\"/></a><!--MD5=[60a26617385b1d2d0262a64233df1f8d]\n",
       "class E6--><a href=\"psysml:aefaf76d-f241-48e8-80ea-b99598299972\" target=\"_top\" title=\"psysml:aefaf76d-f241-48e8-80ea-b99598299972\" xlink:actuate=\"onRequest\" xlink:href=\"psysml:aefaf76d-f241-48e8-80ea-b99598299972\" xlink:show=\"new\" xlink:title=\"psysml:aefaf76d-f241-48e8-80ea-b99598299972\" xlink:type=\"simple\"><rect fill=\"#FEFECE\" filter=\"url(#fpqxujo4z04ib)\" height=\"45.9375\" id=\"E6\" rx=\"10\" ry=\"10\" style=\"stroke: #A80036; stroke-width: 1.5;\" width=\"113\" x=\"624.5\" y=\"283\"/><ellipse cx=\"639.5\" cy=\"301.9688\" fill=\"#FFA500\" rx=\"11\" ry=\"11\" style=\"stroke: #A80036; stroke-width: 1.0;\"/><path d=\"M639.25,307.4375 Q637.5,307.4375 636.5469,306.4063 Q635.6094,305.3594 635.6094,303.5156 L635.6094,296.625 L637.6719,296.625 L637.6719,296.7813 Q637.5781,296.875 637.5469,297.0156 Q637.5313,297.1406 637.5313,297.4063 L637.5313,303.5313 Q637.5313,304.625 637.9063,305.25 Q638.2813,305.875 639.2656,305.875 Q640.25,305.875 640.6406,305.25 Q641.0313,304.625 641.0313,303.4844 L641.0313,296.625 L642.9063,296.625 L642.9063,303.4688 Q642.9063,305.5 641.875,306.4688 Q640.8594,307.4375 639.25,307.4375 Z \"/><text fill=\"#000000\" font-family=\"sans-serif\" font-size=\"12\" font-style=\"italic\" lengthAdjust=\"spacingAndGlyphs\" textLength=\"85\" x=\"651.5\" y=\"299.1387\">«occurrence»</text><text fill=\"#000000\" font-family=\"sans-serif\" font-size=\"12\" lengthAdjust=\"spacingAndGlyphs\" textLength=\"5\" x=\"689.5\" y=\"313.1074\">t</text><line style=\"stroke: #A80036; stroke-width: 1.5;\" x1=\"625.5\" x2=\"736.5\" y1=\"320.9375\" y2=\"320.9375\"/></a><!--MD5=[2156ba9850f5573cc1fc38a6a4b2f02b]\n",
       "class E7--><a href=\"psysml:991e81ed-291b-4563-955c-44288cc9fc81\" target=\"_top\" title=\"psysml:991e81ed-291b-4563-955c-44288cc9fc81\" xlink:actuate=\"onRequest\" xlink:href=\"psysml:991e81ed-291b-4563-955c-44288cc9fc81\" xlink:show=\"new\" xlink:title=\"psysml:991e81ed-291b-4563-955c-44288cc9fc81\" xlink:type=\"simple\"><rect fill=\"#FEFECE\" filter=\"url(#fpqxujo4z04ib)\" height=\"45.9375\" id=\"E7\" style=\"stroke: #A80036; stroke-width: 1.5;\" width=\"141\" x=\"462.5\" y=\"389\"/><ellipse cx=\"477.5\" cy=\"407.9688\" fill=\"#A52A2A\" rx=\"11\" ry=\"11\" style=\"stroke: #A80036; stroke-width: 1.0;\"/><path d=\"M474.7188,412.9688 L474.7188,402.375 L477.4531,402.375 Q478.8438,402.375 479.6094,402.7656 Q480.3906,403.1406 480.9219,403.8438 Q481.4531,404.5469 481.75,405.5469 Q482.0469,406.5313 482.0469,407.75 Q482,409.3438 481.5,410.5313 Q481.0156,411.7031 479.9688,412.3438 Q478.9375,412.9688 477.25,412.9688 L474.7188,412.9688 Z M476.5781,411.4688 L477.2031,411.4688 Q478.2813,411.4688 478.9375,411.0156 Q479.5938,410.5625 479.875,409.7344 Q480.1719,408.8906 480.1563,407.7656 Q480.1563,406.5938 479.9063,405.7344 Q479.6563,404.8594 479.0469,404.3906 Q478.4375,403.9063 477.3906,403.9063 L476.5781,403.9063 L476.5781,411.4688 Z \"/><text fill=\"#000000\" font-family=\"sans-serif\" font-size=\"12\" font-style=\"italic\" lengthAdjust=\"spacingAndGlyphs\" textLength=\"113\" x=\"489.5\" y=\"405.1387\">«occurrence  def»</text><text fill=\"#000000\" font-family=\"sans-serif\" font-size=\"12\" lengthAdjust=\"spacingAndGlyphs\" textLength=\"19\" x=\"536.5\" y=\"419.1074\">Ind</text><line style=\"stroke: #A80036; stroke-width: 1.5;\" x1=\"463.5\" x2=\"602.5\" y1=\"426.9375\" y2=\"426.9375\"/></a><!--MD5=[b9389687b975829384b498ac4b7476b2]\n",
       "class E8--><a href=\"psysml:fb7dbc0d-a670-4e6d-a2b6-24a9a70c023a\" target=\"_top\" title=\"psysml:fb7dbc0d-a670-4e6d-a2b6-24a9a70c023a\" xlink:actuate=\"onRequest\" xlink:href=\"psysml:fb7dbc0d-a670-4e6d-a2b6-24a9a70c023a\" xlink:show=\"new\" xlink:title=\"psysml:fb7dbc0d-a670-4e6d-a2b6-24a9a70c023a\" xlink:type=\"simple\"><rect fill=\"#FEFECE\" filter=\"url(#fpqxujo4z04ib)\" height=\"45.9375\" id=\"E8\" rx=\"10\" ry=\"10\" style=\"stroke: #A80036; stroke-width: 1.5;\" width=\"113\" x=\"402.5\" y=\"495\"/><ellipse cx=\"417.5\" cy=\"513.9688\" fill=\"#FFA500\" rx=\"11\" ry=\"11\" style=\"stroke: #A80036; stroke-width: 1.0;\"/><path d=\"M417.25,519.4375 Q415.5,519.4375 414.5469,518.4063 Q413.6094,517.3594 413.6094,515.5156 L413.6094,508.625 L415.6719,508.625 L415.6719,508.7813 Q415.5781,508.875 415.5469,509.0156 Q415.5313,509.1406 415.5313,509.4063 L415.5313,515.5313 Q415.5313,516.625 415.9063,517.25 Q416.2813,517.875 417.2656,517.875 Q418.25,517.875 418.6406,517.25 Q419.0313,516.625 419.0313,515.4844 L419.0313,508.625 L420.9063,508.625 L420.9063,515.4688 Q420.9063,517.5 419.875,518.4688 Q418.8594,519.4375 417.25,519.4375 Z \"/><text fill=\"#000000\" font-family=\"sans-serif\" font-size=\"12\" font-style=\"italic\" lengthAdjust=\"spacingAndGlyphs\" textLength=\"85\" x=\"429.5\" y=\"511.1387\">«occurrence»</text><text fill=\"#000000\" font-family=\"sans-serif\" font-size=\"12\" lengthAdjust=\"spacingAndGlyphs\" textLength=\"15\" x=\"462.5\" y=\"525.1074\">s2</text><line style=\"stroke: #A80036; stroke-width: 1.5;\" x1=\"403.5\" x2=\"514.5\" y1=\"532.9375\" y2=\"532.9375\"/></a><!--MD5=[fd4143e9d270a159db93a4ea2a975926]\n",
       "class E9--><a href=\"psysml:ae0fd4ea-8dc7-4cb0-a32c-5615a8f756eb\" target=\"_top\" title=\"psysml:ae0fd4ea-8dc7-4cb0-a32c-5615a8f756eb\" xlink:actuate=\"onRequest\" xlink:href=\"psysml:ae0fd4ea-8dc7-4cb0-a32c-5615a8f756eb\" xlink:show=\"new\" xlink:title=\"psysml:ae0fd4ea-8dc7-4cb0-a32c-5615a8f756eb\" xlink:type=\"simple\"><rect fill=\"#FEFECE\" filter=\"url(#fpqxujo4z04ib)\" height=\"45.9375\" id=\"E9\" rx=\"10\" ry=\"10\" style=\"stroke: #A80036; stroke-width: 1.5;\" width=\"113\" x=\"550.5\" y=\"495\"/><ellipse cx=\"565.5\" cy=\"513.9688\" fill=\"#FFA500\" rx=\"11\" ry=\"11\" style=\"stroke: #A80036; stroke-width: 1.0;\"/><path d=\"M565.25,519.4375 Q563.5,519.4375 562.5469,518.4063 Q561.6094,517.3594 561.6094,515.5156 L561.6094,508.625 L563.6719,508.625 L563.6719,508.7813 Q563.5781,508.875 563.5469,509.0156 Q563.5313,509.1406 563.5313,509.4063 L563.5313,515.5313 Q563.5313,516.625 563.9063,517.25 Q564.2813,517.875 565.2656,517.875 Q566.25,517.875 566.6406,517.25 Q567.0313,516.625 567.0313,515.4844 L567.0313,508.625 L568.9063,508.625 L568.9063,515.4688 Q568.9063,517.5 567.875,518.4688 Q566.8594,519.4375 565.25,519.4375 Z \"/><text fill=\"#000000\" font-family=\"sans-serif\" font-size=\"12\" font-style=\"italic\" lengthAdjust=\"spacingAndGlyphs\" textLength=\"85\" x=\"577.5\" y=\"511.1387\">«occurrence»</text><text fill=\"#000000\" font-family=\"sans-serif\" font-size=\"12\" lengthAdjust=\"spacingAndGlyphs\" textLength=\"13\" x=\"611.5\" y=\"525.1074\">t2</text><line style=\"stroke: #A80036; stroke-width: 1.5;\" x1=\"551.5\" x2=\"662.5\" y1=\"532.9375\" y2=\"532.9375\"/></a><!--MD5=[96f4274e9e20536e775497830990834d]\n",
       "class E10--><a href=\"psysml:90168d9a-6358-4939-88d7-8ec9974b52c6\" target=\"_top\" title=\"psysml:90168d9a-6358-4939-88d7-8ec9974b52c6\" xlink:actuate=\"onRequest\" xlink:href=\"psysml:90168d9a-6358-4939-88d7-8ec9974b52c6\" xlink:show=\"new\" xlink:title=\"psysml:90168d9a-6358-4939-88d7-8ec9974b52c6\" xlink:type=\"simple\"><rect fill=\"#FEFECE\" filter=\"url(#fpqxujo4z04ib)\" height=\"45.9375\" id=\"E10\" rx=\"10\" ry=\"10\" style=\"stroke: #A80036; stroke-width: 1.5;\" width=\"113\" x=\"466.5\" y=\"41\"/><ellipse cx=\"481.5\" cy=\"59.9688\" fill=\"#FFA500\" rx=\"11\" ry=\"11\" style=\"stroke: #A80036; stroke-width: 1.0;\"/><path d=\"M481.25,65.4375 Q479.5,65.4375 478.5469,64.4063 Q477.6094,63.3594 477.6094,61.5156 L477.6094,54.625 L479.6719,54.625 L479.6719,54.7813 Q479.5781,54.875 479.5469,55.0156 Q479.5313,55.1406 479.5313,55.4063 L479.5313,61.5313 Q479.5313,62.625 479.9063,63.25 Q480.2813,63.875 481.2656,63.875 Q482.25,63.875 482.6406,63.25 Q483.0313,62.625 483.0313,61.4844 L483.0313,54.625 L484.9063,54.625 L484.9063,61.4688 Q484.9063,63.5 483.875,64.4688 Q482.8594,65.4375 481.25,65.4375 Z \"/><text fill=\"#000000\" font-family=\"sans-serif\" font-size=\"12\" font-style=\"italic\" lengthAdjust=\"spacingAndGlyphs\" textLength=\"85\" x=\"493.5\" y=\"57.1387\">«occurrence»</text><text fill=\"#000000\" font-family=\"sans-serif\" font-size=\"12\" lengthAdjust=\"spacingAndGlyphs\" textLength=\"77\" x=\"495.5\" y=\"71.1074\">ind: Ind, Occ</text><line style=\"stroke: #A80036; stroke-width: 1.5;\" x1=\"467.5\" x2=\"578.5\" y1=\"78.9375\" y2=\"78.9375\"/></a><!--MD5=[1dd1bfd58a279cf63c5f349dbc8fc6a1]\n",
       "class E11--><a href=\"psysml:d0eba55f-a402-4b22-88ba-9857d6bd50ac\" target=\"_top\" title=\"psysml:d0eba55f-a402-4b22-88ba-9857d6bd50ac\" xlink:actuate=\"onRequest\" xlink:href=\"psysml:d0eba55f-a402-4b22-88ba-9857d6bd50ac\" xlink:show=\"new\" xlink:title=\"psysml:d0eba55f-a402-4b22-88ba-9857d6bd50ac\" xlink:type=\"simple\"><rect fill=\"#FEFECE\" filter=\"url(#fpqxujo4z04ib)\" height=\"45.9375\" id=\"E11\" rx=\"10\" ry=\"10\" style=\"stroke: #A80036; stroke-width: 1.5;\" width=\"113\" x=\"513.5\" y=\"162\"/><ellipse cx=\"528.5\" cy=\"180.9688\" fill=\"#FFA500\" rx=\"11\" ry=\"11\" style=\"stroke: #A80036; stroke-width: 1.0;\"/><path d=\"M528.25,186.4375 Q526.5,186.4375 525.5469,185.4063 Q524.6094,184.3594 524.6094,182.5156 L524.6094,175.625 L526.6719,175.625 L526.6719,175.7813 Q526.5781,175.875 526.5469,176.0156 Q526.5313,176.1406 526.5313,176.4063 L526.5313,182.5313 Q526.5313,183.625 526.9063,184.25 Q527.2813,184.875 528.2656,184.875 Q529.25,184.875 529.6406,184.25 Q530.0313,183.625 530.0313,182.4844 L530.0313,175.625 L531.9063,175.625 L531.9063,182.4688 Q531.9063,184.5 530.875,185.4688 Q529.8594,186.4375 528.25,186.4375 Z \"/><text fill=\"#000000\" font-family=\"sans-serif\" font-size=\"12\" font-style=\"italic\" lengthAdjust=\"spacingAndGlyphs\" textLength=\"85\" x=\"540.5\" y=\"178.1387\">«occurrence»</text><text fill=\"#000000\" font-family=\"sans-serif\" font-size=\"12\" lengthAdjust=\"spacingAndGlyphs\" textLength=\"15\" x=\"573.5\" y=\"192.1074\">s3</text><line style=\"stroke: #A80036; stroke-width: 1.5;\" x1=\"514.5\" x2=\"625.5\" y1=\"199.9375\" y2=\"199.9375\"/></a><!--MD5=[49a0ec8f00dab7302a31f22d0f0fe584]\n",
       "class E12--><a href=\"psysml:0232df4f-93e4-4add-8902-f942e03a0634\" target=\"_top\" title=\"psysml:0232df4f-93e4-4add-8902-f942e03a0634\" xlink:actuate=\"onRequest\" xlink:href=\"psysml:0232df4f-93e4-4add-8902-f942e03a0634\" xlink:show=\"new\" xlink:title=\"psysml:0232df4f-93e4-4add-8902-f942e03a0634\" xlink:type=\"simple\"><rect fill=\"#FEFECE\" filter=\"url(#fpqxujo4z04ib)\" height=\"45.9375\" id=\"E12\" rx=\"10\" ry=\"10\" style=\"stroke: #A80036; stroke-width: 1.5;\" width=\"113\" x=\"661.5\" y=\"162\"/><ellipse cx=\"676.5\" cy=\"180.9688\" fill=\"#FFA500\" rx=\"11\" ry=\"11\" style=\"stroke: #A80036; stroke-width: 1.0;\"/><path d=\"M676.25,186.4375 Q674.5,186.4375 673.5469,185.4063 Q672.6094,184.3594 672.6094,182.5156 L672.6094,175.625 L674.6719,175.625 L674.6719,175.7813 Q674.5781,175.875 674.5469,176.0156 Q674.5313,176.1406 674.5313,176.4063 L674.5313,182.5313 Q674.5313,183.625 674.9063,184.25 Q675.2813,184.875 676.2656,184.875 Q677.25,184.875 677.6406,184.25 Q678.0313,183.625 678.0313,182.4844 L678.0313,175.625 L679.9063,175.625 L679.9063,182.4688 Q679.9063,184.5 678.875,185.4688 Q677.8594,186.4375 676.25,186.4375 Z \"/><text fill=\"#000000\" font-family=\"sans-serif\" font-size=\"12\" font-style=\"italic\" lengthAdjust=\"spacingAndGlyphs\" textLength=\"85\" x=\"688.5\" y=\"178.1387\">«occurrence»</text><text fill=\"#000000\" font-family=\"sans-serif\" font-size=\"12\" lengthAdjust=\"spacingAndGlyphs\" textLength=\"13\" x=\"722.5\" y=\"192.1074\">t3</text><line style=\"stroke: #A80036; stroke-width: 1.5;\" x1=\"662.5\" x2=\"773.5\" y1=\"199.9375\" y2=\"199.9375\"/></a><!--MD5=[ee3c913d1a06f366521f9ef512b67efe]\n",
       "class E13--><a href=\"psysml:5cbde71f-e2d0-40cd-91ed-92f5bc776eb7\" target=\"_top\" title=\"psysml:5cbde71f-e2d0-40cd-91ed-92f5bc776eb7\" xlink:actuate=\"onRequest\" xlink:href=\"psysml:5cbde71f-e2d0-40cd-91ed-92f5bc776eb7\" xlink:show=\"new\" xlink:title=\"psysml:5cbde71f-e2d0-40cd-91ed-92f5bc776eb7\" xlink:type=\"simple\"><rect fill=\"#FEFECE\" filter=\"url(#fpqxujo4z04ib)\" height=\"45.9375\" id=\"E13\" rx=\"10\" ry=\"10\" style=\"stroke: #A80036; stroke-width: 1.5;\" width=\"113\" x=\"32.5\" y=\"283\"/><ellipse cx=\"47.5\" cy=\"301.9688\" fill=\"#FFA500\" rx=\"11\" ry=\"11\" style=\"stroke: #A80036; stroke-width: 1.0;\"/><path d=\"M47.25,307.4375 Q45.5,307.4375 44.5469,306.4063 Q43.6094,305.3594 43.6094,303.5156 L43.6094,296.625 L45.6719,296.625 L45.6719,296.7813 Q45.5781,296.875 45.5469,297.0156 Q45.5313,297.1406 45.5313,297.4063 L45.5313,303.5313 Q45.5313,304.625 45.9063,305.25 Q46.2813,305.875 47.2656,305.875 Q48.25,305.875 48.6406,305.25 Q49.0313,304.625 49.0313,303.4844 L49.0313,296.625 L50.9063,296.625 L50.9063,303.4688 Q50.9063,305.5 49.875,306.4688 Q48.8594,307.4375 47.25,307.4375 Z \"/><text fill=\"#000000\" font-family=\"sans-serif\" font-size=\"12\" font-style=\"italic\" lengthAdjust=\"spacingAndGlyphs\" textLength=\"85\" x=\"59.5\" y=\"299.1387\">«occurrence»</text><text fill=\"#000000\" font-family=\"sans-serif\" font-size=\"12\" lengthAdjust=\"spacingAndGlyphs\" textLength=\"42\" x=\"79\" y=\"313.1074\">s4: Ind</text><line style=\"stroke: #A80036; stroke-width: 1.5;\" x1=\"33.5\" x2=\"144.5\" y1=\"320.9375\" y2=\"320.9375\"/></a><!--MD5=[209b3feb70ccb6233bfe1053d122c12c]\n",
       "reverse link E2 to E3--><a href=\"psysml:111e77a4-44f2-45ac-862d-a1e02a1cad26\" target=\"_top\" title=\"psysml:111e77a4-44f2-45ac-862d-a1e02a1cad26\" xlink:actuate=\"onRequest\" xlink:href=\"psysml:111e77a4-44f2-45ac-862d-a1e02a1cad26\" xlink:show=\"new\" xlink:title=\"psysml:111e77a4-44f2-45ac-862d-a1e02a1cad26\" xlink:type=\"simple\"><path d=\"M306.73,231.49 C286.2,249.12 265.3,268.5 251.49,282.93 \" fill=\"none\" id=\"E2&lt;-E3\" style=\"stroke: #A80036; stroke-width: 1.0;\"/><polygon fill=\"#FFFFFF\" points=\"316.74,223,309.5759,223.8216,307.5789,230.7507,314.743,229.9291,316.74,223\" style=\"stroke: #A80036; stroke-width: 1.0;\"/></a><!--MD5=[05d275557350bfb9b23a4ef7222b4c39]\n",
       "link E3 to E2--><a href=\"psysml:0f45e557-8f0e-4df9-b1d8-28bd2526f5a3\" target=\"_top\" title=\"psysml:0f45e557-8f0e-4df9-b1d8-28bd2526f5a3\" xlink:actuate=\"onRequest\" xlink:href=\"psysml:0f45e557-8f0e-4df9-b1d8-28bd2526f5a3\" xlink:show=\"new\" xlink:title=\"psysml:0f45e557-8f0e-4df9-b1d8-28bd2526f5a3\" xlink:type=\"simple\"><path d=\"M272.44,282.93 C289.17,269.94 309.03,252.95 326.57,236.82 \" fill=\"none\" id=\"E3-&gt;E2\" style=\"stroke: #A80036; stroke-width: 1.0;\"/><polygon fill=\"#FFFFFF\" points=\"341.25,223,332.2118,241.1193,322.6166,230.9245,341.25,223\" style=\"stroke: #A80036; stroke-width: 1.0;\"/><ellipse cx=\"326.6903\" cy=\"243.5695\" fill=\"#A80036\" rx=\"2\" ry=\"2\" style=\"stroke: #A80036; stroke-width: 1.0;\"/><ellipse cx=\"319.8366\" cy=\"236.2875\" fill=\"#A80036\" rx=\"2\" ry=\"2\" style=\"stroke: #A80036; stroke-width: 1.0;\"/></a><!--MD5=[9618e71518536f8baf3342ff6fdab317]\n",
       "reverse link E2 to E4--><a href=\"psysml:7f5381ff-79d6-4175-8599-1b084d5a38fb\" target=\"_top\" title=\"psysml:7f5381ff-79d6-4175-8599-1b084d5a38fb\" xlink:actuate=\"onRequest\" xlink:href=\"psysml:7f5381ff-79d6-4175-8599-1b084d5a38fb\" xlink:show=\"new\" xlink:title=\"psysml:7f5381ff-79d6-4175-8599-1b084d5a38fb\" xlink:type=\"simple\"><path d=\"M363.73,236.34 C365.3,252.61 368.28,269.81 372.05,282.93 \" fill=\"none\" id=\"E2&lt;-E4\" style=\"stroke: #A80036; stroke-width: 1.0;\"/><polygon fill=\"#A80036\" points=\"362.76,223,359.206,229.2745,363.6309,234.9684,367.1849,228.6939,362.76,223\" style=\"stroke: #A80036; stroke-width: 1.0;\"/></a><!--MD5=[185131fc0dcab0a4505a2ebe144e961b]\n",
       "link E4 to E2--><a href=\"psysml:9af83ecd-fc65-4272-8374-c2ac75a0337a\" target=\"_top\" title=\"psysml:9af83ecd-fc65-4272-8374-c2ac75a0337a\" xlink:actuate=\"onRequest\" xlink:href=\"psysml:9af83ecd-fc65-4272-8374-c2ac75a0337a\" xlink:show=\"new\" xlink:title=\"psysml:9af83ecd-fc65-4272-8374-c2ac75a0337a\" xlink:type=\"simple\"><path d=\"M392.99,282.93 C393.5,271.52 392.57,257.01 390.64,242.72 \" fill=\"none\" id=\"E4-&gt;E2\" style=\"stroke: #A80036; stroke-width: 1.0;\"/><polygon fill=\"#FFFFFF\" points=\"387.27,223,397.3603,240.5553,383.5589,242.9055,387.27,223\" style=\"stroke: #A80036; stroke-width: 1.0;\"/><ellipse cx=\"396.3455\" cy=\"246.5101\" fill=\"#A80036\" rx=\"2\" ry=\"2\" style=\"stroke: #A80036; stroke-width: 1.0;\"/><ellipse cx=\"386.4874\" cy=\"248.1888\" fill=\"#A80036\" rx=\"2\" ry=\"2\" style=\"stroke: #A80036; stroke-width: 1.0;\"/></a><!--MD5=[4e1a83fab71cdb913c109063314ae896]\n",
       "reverse link E2 to E5--><a href=\"psysml:648e9e41-ac7c-450e-af70-439d81f3f540\" target=\"_top\" title=\"psysml:648e9e41-ac7c-450e-af70-439d81f3f540\" xlink:actuate=\"onRequest\" xlink:href=\"psysml:648e9e41-ac7c-450e-af70-439d81f3f540\" xlink:show=\"new\" xlink:title=\"psysml:648e9e41-ac7c-450e-af70-439d81f3f540\" xlink:type=\"simple\"><path d=\"M431.32,230.77 C455.74,248.59 482.73,268.3 502.77,282.93 \" fill=\"none\" id=\"E2&lt;-E5\" style=\"stroke: #A80036; stroke-width: 1.0;\"/><polygon fill=\"#A80036\" points=\"420.68,223,423.171,229.7672,430.3757,230.0706,427.8847,223.3034,420.68,223\" style=\"stroke: #A80036; stroke-width: 1.0;\"/></a><!--MD5=[ce036f65110ae2351ccce5a81dc2e928]\n",
       "reverse link E2 to E6--><a href=\"psysml:00b8b9a4-593e-406d-b505-212ff2a7c9c1\" target=\"_top\" title=\"psysml:00b8b9a4-593e-406d-b505-212ff2a7c9c1\" xlink:actuate=\"onRequest\" xlink:href=\"psysml:00b8b9a4-593e-406d-b505-212ff2a7c9c1\" xlink:show=\"new\" xlink:title=\"psysml:00b8b9a4-593e-406d-b505-212ff2a7c9c1\" xlink:type=\"simple\"><path d=\"M452.92,217.73 C507.04,238.44 576.28,264.93 624.2,283.27 \" fill=\"none\" id=\"E2&lt;-E6\" style=\"stroke: #A80036; stroke-width: 1.0;\"/><polygon fill=\"#A80036\" points=\"440.57,213,444.7458,218.879,451.7786,217.2856,447.6029,211.4066,440.57,213\" style=\"stroke: #A80036; stroke-width: 1.0;\"/></a><!--MD5=[3a9b96bfbf6b6ad89c494e81751bda47]\n",
       "link E5 to E7--><a href=\"psysml:088b8ee7-f1bc-4574-b816-43bcf4f14b77\" target=\"_top\" title=\"psysml:088b8ee7-f1bc-4574-b816-43bcf4f14b77\" xlink:actuate=\"onRequest\" xlink:href=\"psysml:088b8ee7-f1bc-4574-b816-43bcf4f14b77\" xlink:show=\"new\" xlink:title=\"psysml:088b8ee7-f1bc-4574-b816-43bcf4f14b77\" xlink:type=\"simple\"><path d=\"M533,329.06 C533,340.64 533,355.23 533,368.87 \" fill=\"none\" id=\"E5-&gt;E7\" style=\"stroke: #A80036; stroke-width: 1.0;\"/><polygon fill=\"#FFFFFF\" points=\"533,388.98,526,369.98,540,369.98,533,388.98\" style=\"stroke: #A80036; stroke-width: 1.0;\"/><ellipse cx=\"528\" cy=\"364.28\" fill=\"#A80036\" rx=\"2\" ry=\"2\" style=\"stroke: #A80036; stroke-width: 1.0;\"/><ellipse cx=\"538\" cy=\"364.28\" fill=\"#A80036\" rx=\"2\" ry=\"2\" style=\"stroke: #A80036; stroke-width: 1.0;\"/></a><!--MD5=[dc164f5e8a733ab456ef1add180e9e34]\n",
       "reverse link E7 to E8--><a href=\"psysml:c8813ef9-ffa9-4c9d-80a4-dd20f6c80ea5\" target=\"_top\" title=\"psysml:c8813ef9-ffa9-4c9d-80a4-dd20f6c80ea5\" xlink:actuate=\"onRequest\" xlink:href=\"psysml:c8813ef9-ffa9-4c9d-80a4-dd20f6c80ea5\" xlink:show=\"new\" xlink:title=\"psysml:c8813ef9-ffa9-4c9d-80a4-dd20f6c80ea5\" xlink:type=\"simple\"><path d=\"M509.45,446.09 C498.09,462.06 484.77,480.78 474.67,494.98 \" fill=\"none\" id=\"E7&lt;-E8\" style=\"stroke: #A80036; stroke-width: 1.0;\"/><polygon fill=\"#A80036\" points=\"517.31,435.06,510.5722,437.6295,510.3526,444.8373,517.0904,442.2678,517.31,435.06\" style=\"stroke: #A80036; stroke-width: 1.0;\"/></a><!--MD5=[e4a10ef82d0e328e31cac39a31e58dda]\n",
       "reverse link E7 to E9--><a href=\"psysml:cdca8d7c-6aa5-4fff-9e0e-900e3ba85343\" target=\"_top\" title=\"psysml:cdca8d7c-6aa5-4fff-9e0e-900e3ba85343\" xlink:actuate=\"onRequest\" xlink:href=\"psysml:cdca8d7c-6aa5-4fff-9e0e-900e3ba85343\" xlink:show=\"new\" xlink:title=\"psysml:cdca8d7c-6aa5-4fff-9e0e-900e3ba85343\" xlink:type=\"simple\"><path d=\"M556.55,446.09 C567.91,462.06 581.23,480.78 591.33,494.98 \" fill=\"none\" id=\"E7&lt;-E9\" style=\"stroke: #A80036; stroke-width: 1.0;\"/><polygon fill=\"#A80036\" points=\"548.69,435.06,548.9096,442.2678,555.6474,444.8373,555.4278,437.6295,548.69,435.06\" style=\"stroke: #A80036; stroke-width: 1.0;\"/></a><!--MD5=[a919e0967d6f3de553dc51b9865a1d6d]\n",
       "link E10 to E7--><a href=\"psysml:43f26010-ca40-42d6-8df0-e4847d82fc63\" target=\"_top\" title=\"psysml:43f26010-ca40-42d6-8df0-e4847d82fc63\" xlink:actuate=\"onRequest\" xlink:href=\"psysml:43f26010-ca40-42d6-8df0-e4847d82fc63\" xlink:show=\"new\" xlink:title=\"psysml:43f26010-ca40-42d6-8df0-e4847d82fc63\" xlink:type=\"simple\"><path d=\"M509.64,87.03 C491.43,120.22 464.49,183.35 496,223 C569.52,315.5 681.48,190.5 755,283 C799.02,338.38 702.69,374.35 623.39,393.66 \" fill=\"none\" id=\"E10-&gt;E7\" style=\"stroke: #A80036; stroke-width: 1.0;\"/><polygon fill=\"#FFFFFF\" points=\"603.69,398.21,620.6276,387.1142,623.7779,400.7552,603.69,398.21\" style=\"stroke: #A80036; stroke-width: 1.0;\"/><ellipse cx=\"626.6315\" cy=\"387.7803\" fill=\"#A80036\" rx=\"2\" ry=\"2\" style=\"stroke: #A80036; stroke-width: 1.0;\"/><ellipse cx=\"628.8817\" cy=\"397.5239\" fill=\"#A80036\" rx=\"2\" ry=\"2\" style=\"stroke: #A80036; stroke-width: 1.0;\"/></a><!--MD5=[0f36bececdf0dff6e600d6f64214b0f1]\n",
       "link E10 to E2--><a href=\"psysml:ac89f7fb-b091-4bc7-aaea-6377fc157ffe\" target=\"_top\" title=\"psysml:ac89f7fb-b091-4bc7-aaea-6377fc157ffe\" xlink:actuate=\"onRequest\" xlink:href=\"psysml:ac89f7fb-b091-4bc7-aaea-6377fc157ffe\" xlink:show=\"new\" xlink:title=\"psysml:ac89f7fb-b091-4bc7-aaea-6377fc157ffe\" xlink:type=\"simple\"><path d=\"M494.58,87.1 C477.43,100.44 454.87,117.99 433.65,134.49 \" fill=\"none\" id=\"E10-&gt;E2\" style=\"stroke: #A80036; stroke-width: 1.0;\"/><polygon fill=\"#FFFFFF\" points=\"417.81,146.81,428.5047,129.6163,437.1034,140.6646,417.81,146.81\" style=\"stroke: #A80036; stroke-width: 1.0;\"/><ellipse cx=\"434.2313\" cy=\"127.6938\" fill=\"#A80036\" rx=\"2\" ry=\"2\" style=\"stroke: #A80036; stroke-width: 1.0;\"/><ellipse cx=\"440.3732\" cy=\"135.5854\" fill=\"#A80036\" rx=\"2\" ry=\"2\" style=\"stroke: #A80036; stroke-width: 1.0;\"/></a><!--MD5=[de308be4a2431766a05a907a031c07fc]\n",
       "reverse link E10 to E11--><a href=\"psysml:75c081c5-05e2-401c-b103-d900689a3a49\" target=\"_top\" title=\"psysml:75c081c5-05e2-401c-b103-d900689a3a49\" xlink:actuate=\"onRequest\" xlink:href=\"psysml:75c081c5-05e2-401c-b103-d900689a3a49\" xlink:show=\"new\" xlink:title=\"psysml:75c081c5-05e2-401c-b103-d900689a3a49\" xlink:type=\"simple\"><path d=\"M536.61,99.47 C544.52,119.48 554.24,144.11 561.16,161.61 \" fill=\"none\" id=\"E10&lt;-E11\" style=\"stroke: #A80036; stroke-width: 1.0;\"/><polygon fill=\"#A80036\" points=\"531.73,87.1,530.2171,94.1506,536.1435,98.2589,537.6564,91.2083,531.73,87.1\" style=\"stroke: #A80036; stroke-width: 1.0;\"/></a><!--MD5=[1d54f998c6d5961a1a9184be73a7eb6c]\n",
       "reverse link E10 to E12--><a href=\"psysml:54130436-8b1f-4706-a610-d99b2d4cb5d4\" target=\"_top\" title=\"psysml:54130436-8b1f-4706-a610-d99b2d4cb5d4\" xlink:actuate=\"onRequest\" xlink:href=\"psysml:54130436-8b1f-4706-a610-d99b2d4cb5d4\" xlink:show=\"new\" xlink:title=\"psysml:54130436-8b1f-4706-a610-d99b2d4cb5d4\" xlink:type=\"simple\"><path d=\"M570.37,93.91 C604.63,114.81 650.23,142.64 681.64,161.81 \" fill=\"none\" id=\"E10&lt;-E12\" style=\"stroke: #A80036; stroke-width: 1.0;\"/><polygon fill=\"#A80036\" points=\"559.22,87.1,562.259,93.6395,569.4643,93.3494,566.4253,86.8099,559.22,87.1\" style=\"stroke: #A80036; stroke-width: 1.0;\"/></a><!--MD5=[4a48077df6499cfcd20b62e8f5f37904]\n",
       "link E13 to E7--><a href=\"psysml:85f16706-e1b7-404d-9ee5-57d420bfb7f2\" target=\"_top\" title=\"psysml:85f16706-e1b7-404d-9ee5-57d420bfb7f2\" xlink:actuate=\"onRequest\" xlink:href=\"psysml:85f16706-e1b7-404d-9ee5-57d420bfb7f2\" xlink:show=\"new\" xlink:title=\"psysml:85f16706-e1b7-404d-9ee5-57d420bfb7f2\" xlink:type=\"simple\"><path d=\"M145.85,324.34 C151.63,325.97 157.42,327.55 163,329 C257.81,353.57 367.45,377.29 442.63,392.84 \" fill=\"none\" id=\"E13-&gt;E7\" style=\"stroke: #A80036; stroke-width: 1.0;\"/><polygon fill=\"#FFFFFF\" points=\"462.4,396.91,442.3793,399.9385,445.1999,386.2256,462.4,396.91\" style=\"stroke: #A80036; stroke-width: 1.0;\"/><ellipse cx=\"437.1991\" cy=\"396.8311\" fill=\"#A80036\" rx=\"2\" ry=\"2\" style=\"stroke: #A80036; stroke-width: 1.0;\"/><ellipse cx=\"439.2138\" cy=\"387.0362\" fill=\"#A80036\" rx=\"2\" ry=\"2\" style=\"stroke: #A80036; stroke-width: 1.0;\"/></a><!--MD5=[da2f3eef27b34bf73a5f8fe0425c8ad0]\n",
       "@startuml\r\n",
       " \r\n",
       "package \"OccurrenceTest\" as E1  [[psysml:53f1d42d-2686-4f4b-950f-b84b40bc19b2 ]]  {\r\n",
       "comp def \"Occ\" as E2 << <<(D,brown) occurrence  def>> [[psysml:77ba500d-77fd-484e-b411-8833010da35e ]] {\r\n",
       "- - attributes - -\r\n",
       "a\r\n",
       "}\r\n",
       "comp usage \"occ1: Occ \" as E3 << <<(U,orange) occurrence>> [[psysml:37011562-c12e-4ce2-bbf9-af5619a300f0 ]] {\r\n",
       "}\r\n",
       "comp usage \"occ2: Occ \" as E4 << <<(U,orange) occurrence>> [[psysml:3522e0a2-d0dd-4c95-916a-e9f89fbadd86 ]] {\r\n",
       "}\r\n",
       "comp usage \"s: Ind \" as E5 << individual snapshot <<(U,orange) occurrence>> [[psysml:2ba1b44f-ac88-49ba-a1da-8edc5df2da3a ]] {\r\n",
       "}\r\n",
       "comp usage \"t \" as E6 << timeslice <<(U,orange) occurrence>> [[psysml:aefaf76d-f241-48e8-80ea-b99598299972 ]] {\r\n",
       "}\r\n",
       "comp def \"Ind\" as E7 << individual <<(D,brown) occurrence  def>> [[psysml:991e81ed-291b-4563-955c-44288cc9fc81 ]] {\r\n",
       "}\r\n",
       "comp usage \"s2 \" as E8 << snapshot <<(U,orange) occurrence>> [[psysml:fb7dbc0d-a670-4e6d-a2b6-24a9a70c023a ]] {\r\n",
       "}\r\n",
       "comp usage \"t2 \" as E9 << timeslice <<(U,orange) occurrence>> [[psysml:ae0fd4ea-8dc7-4cb0-a32c-5615a8f756eb ]] {\r\n",
       "}\r\n",
       "comp usage \"ind: Ind, Occ \" as E10 << individual <<(U,orange) occurrence>> [[psysml:90168d9a-6358-4939-88d7-8ec9974b52c6 ]] {\r\n",
       "}\r\n",
       "comp usage \"s3 \" as E11 << snapshot <<(U,orange) occurrence>> [[psysml:d0eba55f-a402-4b22-88ba-9857d6bd50ac ]] {\r\n",
       "}\r\n",
       "comp usage \"t3 \" as E12 << individual timeslice <<(U,orange) occurrence>> [[psysml:0232df4f-93e4-4add-8902-f942e03a0634 ]] {\r\n",
       "}\r\n",
       "comp usage \"s4: Ind \" as E13 << individual snapshot <<(U,orange) occurrence>> [[psysml:5cbde71f-e2d0-40cd-91ed-92f5bc776eb7 ]] {\r\n",
       "}\r\n",
       "}\r\n",
       "E2 o- - E3 [[psysml:111e77a4-44f2-45ac-862d-a1e02a1cad26 ]] \r\n",
       "E3 - -:|> E2 [[psysml:0f45e557-8f0e-4df9-b1d8-28bd2526f5a3 ]] \r\n",
       "E2 *- - E4 [[psysml:7f5381ff-79d6-4175-8599-1b084d5a38fb ]] \r\n",
       "E4 - -:|> E2 [[psysml:9af83ecd-fc65-4272-8374-c2ac75a0337a ]] \r\n",
       "E2 *- - E5 [[psysml:648e9e41-ac7c-450e-af70-439d81f3f540 ]] \r\n",
       "E2 *- - E6 [[psysml:00b8b9a4-593e-406d-b505-212ff2a7c9c1 ]] \r\n",
       "E5 - -:|> E7 [[psysml:088b8ee7-f1bc-4574-b816-43bcf4f14b77 ]] \r\n",
       "E7 *- - E8 [[psysml:c8813ef9-ffa9-4c9d-80a4-dd20f6c80ea5 ]] \r\n",
       "E7 *- - E9 [[psysml:cdca8d7c-6aa5-4fff-9e0e-900e3ba85343 ]] \r\n",
       "E10 - -:|> E7 [[psysml:43f26010-ca40-42d6-8df0-e4847d82fc63 ]] \r\n",
       "E10 - -:|> E2 [[psysml:ac89f7fb-b091-4bc7-aaea-6377fc157ffe ]] \r\n",
       "E10 *- - E11 [[psysml:75c081c5-05e2-401c-b103-d900689a3a49 ]] \r\n",
       "E10 *- - E12 [[psysml:54130436-8b1f-4706-a610-d99b2d4cb5d4 ]] \r\n",
       "E13 - -:|> E7 [[psysml:85f16706-e1b7-404d-9ee5-57d420bfb7f2 ]] \r\n",
       "@enduml\r\n",
       "\n",
       "PlantUML version 1.2020.13(Sat Jun 13 12:26:38 UTC 2020)\n",
       "(EPL source distribution)\n",
       "Java Runtime: OpenJDK Runtime Environment\n",
       "JVM: OpenJDK 64-Bit Server VM\n",
       "Default Encoding: UTF-8\n",
       "Language: en\n",
       "Country: null\n",
       "--></g></svg>"
      ]
     },
     "execution_count": 31,
     "metadata": {},
     "output_type": "execute_result"
    }
   ],
   "source": [
    "%viz --style=\"PLANTUML\" --view=\"Tree\" \"OccurrenceTest\""
   ]
  },
  {
   "cell_type": "code",
   "execution_count": 32,
   "id": "7b243790",
   "metadata": {
    "execution": {
     "iopub.execute_input": "2022-07-23T10:52:32.932082Z",
     "iopub.status.busy": "2022-07-23T10:52:32.931818Z",
     "iopub.status.idle": "2022-07-23T10:52:33.018164Z",
     "shell.execute_reply": "2022-07-23T10:52:33.016168Z"
    }
   },
   "outputs": [
    {
     "data": {
      "image/svg+xml": [
       "<?xml version=\"1.0\" encoding=\"UTF-8\" standalone=\"no\"?><svg xmlns=\"http://www.w3.org/2000/svg\" xmlns:xlink=\"http://www.w3.org/1999/xlink\" contentScriptType=\"application/ecmascript\" contentStyleType=\"text/css\" height=\"300px\" preserveAspectRatio=\"none\" style=\"width:603px;height:300px;background:#000000;\" version=\"1.1\" viewBox=\"0 0 603 300\" width=\"603px\" zoomAndPan=\"magnify\"><defs/><g><rect fill=\"#09200B\" height=\"1\" style=\"stroke: #09200B; stroke-width: 1.0;\" width=\"1\" x=\"0\" y=\"0\"/><rect fill=\"#FFFFFF\" height=\"202.8012\" style=\"stroke: #FFFFFF; stroke-width: 1.0;\" width=\"602\" x=\"0\" y=\"0\"/><text fill=\"#000000\" font-family=\"sans-serif\" font-size=\"12\" font-weight=\"bold\" lengthAdjust=\"spacingAndGlyphs\" textLength=\"139\" x=\"5\" y=\"16.1387\">Welcome to PlantUML!</text><text fill=\"#000000\" font-family=\"sans-serif\" font-size=\"12\" lengthAdjust=\"spacingAndGlyphs\" textLength=\"0\" x=\"9\" y=\"30.1074\"/><text fill=\"#000000\" font-family=\"sans-serif\" font-size=\"12\" lengthAdjust=\"spacingAndGlyphs\" textLength=\"293\" x=\"5\" y=\"44.0762\">If you use this software, you accept its license.</text><text fill=\"#000000\" font-family=\"sans-serif\" font-size=\"12\" lengthAdjust=\"spacingAndGlyphs\" textLength=\"107\" x=\"5\" y=\"58.0449\">(details by typing</text><text fill=\"#000000\" font-family=\"monospace\" font-size=\"12\" lengthAdjust=\"spacingAndGlyphs\" textLength=\"42\" x=\"116\" y=\"58.595\">license</text><text fill=\"#000000\" font-family=\"sans-serif\" font-size=\"12\" lengthAdjust=\"spacingAndGlyphs\" textLength=\"56\" x=\"162\" y=\"58.0449\">keyword)</text><text fill=\"#000000\" font-family=\"sans-serif\" font-size=\"12\" lengthAdjust=\"spacingAndGlyphs\" textLength=\"0\" x=\"9\" y=\"72.0137\"/><text fill=\"#000000\" font-family=\"sans-serif\" font-size=\"12\" lengthAdjust=\"spacingAndGlyphs\" textLength=\"283\" x=\"5\" y=\"85.9824\">You can start with a simple UML Diagram like:</text><text fill=\"#000000\" font-family=\"sans-serif\" font-size=\"12\" lengthAdjust=\"spacingAndGlyphs\" textLength=\"0\" x=\"9\" y=\"99.9512\"/><text fill=\"#000000\" font-family=\"monospace\" font-size=\"12\" lengthAdjust=\"spacingAndGlyphs\" textLength=\"102\" x=\"5\" y=\"113.0893\">Bob-&gt;Alice: Hello</text><text fill=\"#000000\" font-family=\"sans-serif\" font-size=\"12\" lengthAdjust=\"spacingAndGlyphs\" textLength=\"0\" x=\"9\" y=\"126.508\"/><text fill=\"#000000\" font-family=\"sans-serif\" font-size=\"12\" lengthAdjust=\"spacingAndGlyphs\" textLength=\"14\" x=\"5\" y=\"140.4768\">Or</text><text fill=\"#000000\" font-family=\"sans-serif\" font-size=\"12\" lengthAdjust=\"spacingAndGlyphs\" textLength=\"0\" x=\"9\" y=\"154.4455\"/><text fill=\"#000000\" font-family=\"monospace\" font-size=\"12\" lengthAdjust=\"spacingAndGlyphs\" textLength=\"78\" x=\"5\" y=\"167.5837\">class Example</text><text fill=\"#000000\" font-family=\"sans-serif\" font-size=\"12\" lengthAdjust=\"spacingAndGlyphs\" textLength=\"0\" x=\"9\" y=\"181.0023\"/><text fill=\"#000000\" font-family=\"sans-serif\" font-size=\"12\" lengthAdjust=\"spacingAndGlyphs\" textLength=\"349\" x=\"5\" y=\"194.9711\">You will find more information about PlantUML syntax on</text><text fill=\"#000000\" font-family=\"sans-serif\" font-size=\"12\" lengthAdjust=\"spacingAndGlyphs\" text-decoration=\"underline\" textLength=\"129\" x=\"358\" y=\"194.9711\">https://plantuml.com</text><image height=\"71\" width=\"80\" x=\"516\" xlink:href=\"data:image/png;base64,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\" y=\"6\"/><rect fill=\"#000000\" height=\"96.4844\" style=\"stroke: #000000; stroke-width: 1.0;\" width=\"602\" x=\"0\" y=\"202.8012\"/><rect fill=\"#33FF02\" height=\"21.2969\" style=\"stroke: #33FF02; stroke-width: 1.0;\" width=\"145\" x=\"5\" y=\"207.8012\"/><text fill=\"#000000\" font-family=\"sans-serif\" font-size=\"14\" font-weight=\"bold\" lengthAdjust=\"spacingAndGlyphs\" textLength=\"143\" x=\"6\" y=\"222.8012\">[From string (line 2) ]</text><text fill=\"#33FF02\" font-family=\"sans-serif\" font-size=\"14\" font-weight=\"bold\" lengthAdjust=\"spacingAndGlyphs\" textLength=\"0\" x=\"9\" y=\"243.0981\"/><text fill=\"#33FF02\" font-family=\"sans-serif\" font-size=\"14\" font-weight=\"bold\" lengthAdjust=\"spacingAndGlyphs\" textLength=\"70\" x=\"5\" y=\"259.3949\">@startuml</text><text fill=\"#33FF02\" font-family=\"sans-serif\" font-size=\"14\" font-weight=\"bold\" lengthAdjust=\"spacingAndGlyphs\" textLength=\"0\" x=\"9\" y=\"275.6918\"/><text fill=\"#FF0000\" font-family=\"sans-serif\" font-size=\"14\" font-weight=\"bold\" lengthAdjust=\"spacingAndGlyphs\" textLength=\"124\" x=\"9\" y=\"291.9887\">Empty description</text><!--MD5=[f59edd8218d337f74d0c332fc6737304]\n",
       "@startuml\r\n",
       " \r\n",
       "@enduml\r\n",
       "\n",
       "PlantUML version 1.2020.13(Sat Jun 13 12:26:38 UTC 2020)\n",
       "(EPL source distribution)\n",
       "Java Runtime: OpenJDK Runtime Environment\n",
       "JVM: OpenJDK 64-Bit Server VM\n",
       "Default Encoding: UTF-8\n",
       "Language: en\n",
       "Country: null\n",
       "--></g></svg>"
      ]
     },
     "execution_count": 32,
     "metadata": {},
     "output_type": "execute_result"
    }
   ],
   "source": [
    "%viz --style=\"PLANTUML\" --view=\"State\" \"OccurrenceTest\""
   ]
  },
  {
   "cell_type": "code",
   "execution_count": 33,
   "id": "07ddf7ae",
   "metadata": {
    "execution": {
     "iopub.execute_input": "2022-07-23T10:52:33.066568Z",
     "iopub.status.busy": "2022-07-23T10:52:33.066221Z",
     "iopub.status.idle": "2022-07-23T10:52:33.099168Z",
     "shell.execute_reply": "2022-07-23T10:52:33.098856Z"
    }
   },
   "outputs": [
    {
     "data": {
      "image/svg+xml": [
       "<?xml version=\"1.0\" encoding=\"UTF-8\" standalone=\"no\"?><svg xmlns=\"http://www.w3.org/2000/svg\" xmlns:xlink=\"http://www.w3.org/1999/xlink\" contentScriptType=\"application/ecmascript\" contentStyleType=\"text/css\" height=\"278px\" preserveAspectRatio=\"none\" style=\"width:569px;height:278px;\" version=\"1.1\" viewBox=\"0 0 569 278\" width=\"569px\" zoomAndPan=\"magnify\"><defs><filter height=\"300%\" id=\"f1q9hysnyypi2m\" width=\"300%\" x=\"-1\" y=\"-1\"><feGaussianBlur result=\"blurOut\" stdDeviation=\"2.0\"/><feColorMatrix in=\"blurOut\" result=\"blurOut2\" type=\"matrix\" values=\"0 0 0 0 0 0 0 0 0 0 0 0 0 0 0 0 0 0 .4 0\"/><feOffset dx=\"4.0\" dy=\"4.0\" in=\"blurOut2\" result=\"blurOut3\"/><feBlend in=\"SourceGraphic\" in2=\"blurOut3\" mode=\"normal\"/></filter></defs><g><!--MD5=[fbc87193dbaf4d95561dea2c320d4a47]\n",
       "cluster E1--><a href=\"psysml:53f1d42d-2686-4f4b-950f-b84b40bc19b2\" target=\"_top\" title=\"psysml:53f1d42d-2686-4f4b-950f-b84b40bc19b2\" xlink:actuate=\"onRequest\" xlink:href=\"psysml:53f1d42d-2686-4f4b-950f-b84b40bc19b2\" xlink:show=\"new\" xlink:title=\"psysml:53f1d42d-2686-4f4b-950f-b84b40bc19b2\" xlink:type=\"simple\"><polygon fill=\"#FFFFFF\" filter=\"url(#f1q9hysnyypi2m)\" points=\"16,6,134,6,141,28.2969,547,28.2969,547,266,16,266,16,6\" style=\"stroke: #000000; stroke-width: 1.5;\"/><line style=\"stroke: #000000; stroke-width: 1.5;\" x1=\"16\" x2=\"141\" y1=\"28.2969\" y2=\"28.2969\"/><text fill=\"#000000\" font-family=\"sans-serif\" font-size=\"14\" font-weight=\"bold\" lengthAdjust=\"spacingAndGlyphs\" textLength=\"112\" x=\"20\" y=\"20.9951\">OccurrenceTest</text></a><!--MD5=[f6df4d0ebaf0b5dfb2ced0ae5af7c670]\n",
       "cluster E4--><a href=\"psysml:90168d9a-6358-4939-88d7-8ec9974b52c6\" target=\"_top\" title=\"psysml:90168d9a-6358-4939-88d7-8ec9974b52c6\" xlink:actuate=\"onRequest\" xlink:href=\"psysml:90168d9a-6358-4939-88d7-8ec9974b52c6\" xlink:show=\"new\" xlink:title=\"psysml:90168d9a-6358-4939-88d7-8ec9974b52c6\" xlink:type=\"simple\"><rect fill=\"#FFFFFF\" filter=\"url(#f1q9hysnyypi2m)\" height=\"126\" id=\"E4\" rx=\"10\" ry=\"10\" style=\"stroke: #A80036; stroke-width: 1.5;\" width=\"338\" x=\"177\" y=\"57\"/><rect fill=\"#FEFECE\" height=\"37.9375\" rx=\"10\" ry=\"10\" style=\"stroke: #FEFECE; stroke-width: 1.5;\" width=\"338\" x=\"177\" y=\"57\"/><rect fill=\"#FEFECE\" height=\"10\" style=\"stroke: #FEFECE; stroke-width: 1.5;\" width=\"338\" x=\"177\" y=\"84.9375\"/><rect fill=\"none\" height=\"126\" id=\"E4\" rx=\"10\" ry=\"10\" style=\"stroke: #A80036; stroke-width: 1.5;\" width=\"338\" x=\"177\" y=\"57\"/><text fill=\"#000000\" font-family=\"sans-serif\" font-size=\"12\" font-style=\"italic\" lengthAdjust=\"spacingAndGlyphs\" textLength=\"85\" x=\"303.5\" y=\"73.1387\">«occurrence»</text><text fill=\"#000000\" font-family=\"sans-serif\" font-size=\"12\" lengthAdjust=\"spacingAndGlyphs\" textLength=\"77\" x=\"307.5\" y=\"87.1074\">ind: Ind, Occ</text><line style=\"stroke: #A80036; stroke-width: 1.0;\" x1=\"177\" x2=\"515\" y1=\"94.9375\" y2=\"94.9375\"/></a><g id=\"E1.E2\"><a href=\"psysml:77ba500d-77fd-484e-b411-8833010da35e\" target=\"_top\" title=\"psysml:77ba500d-77fd-484e-b411-8833010da35e\" xlink:actuate=\"onRequest\" xlink:href=\"psysml:77ba500d-77fd-484e-b411-8833010da35e\" xlink:show=\"new\" xlink:title=\"psysml:77ba500d-77fd-484e-b411-8833010da35e\" xlink:type=\"simple\"><rect fill=\"#FEFECE\" filter=\"url(#f1q9hysnyypi2m)\" height=\"42.9375\" id=\"E2\" style=\"stroke: #A80036; stroke-width: 1.5;\" width=\"146\" x=\"213\" y=\"207\"/><ellipse cx=\"230.25\" cy=\"225.9688\" fill=\"#A52A2A\" rx=\"11\" ry=\"11\" style=\"stroke: #A80036; stroke-width: 1.0;\"/><path d=\"M227.4688,230.9688 L227.4688,220.375 L230.2031,220.375 Q231.5938,220.375 232.3594,220.7656 Q233.1406,221.1406 233.6719,221.8438 Q234.2031,222.5469 234.5,223.5469 Q234.7969,224.5313 234.7969,225.75 Q234.75,227.3438 234.25,228.5313 Q233.7656,229.7031 232.7188,230.3438 Q231.6875,230.9688 230,230.9688 L227.4688,230.9688 Z M229.3281,229.4688 L229.9531,229.4688 Q231.0313,229.4688 231.6875,229.0156 Q232.3438,228.5625 232.625,227.7344 Q232.9219,226.8906 232.9063,225.7656 Q232.9063,224.5938 232.6563,223.7344 Q232.4063,222.8594 231.7969,222.3906 Q231.1875,221.9063 230.1406,221.9063 L229.3281,221.9063 L229.3281,229.4688 Z \"/><text fill=\"#000000\" font-family=\"sans-serif\" font-size=\"12\" font-style=\"italic\" lengthAdjust=\"spacingAndGlyphs\" textLength=\"113\" x=\"242.75\" y=\"223.1387\">«occurrence  def»</text><text fill=\"#000000\" font-family=\"sans-serif\" font-size=\"12\" lengthAdjust=\"spacingAndGlyphs\" textLength=\"23\" x=\"287.75\" y=\"237.1074\">Occ</text></a></g><g id=\"E1.E3\"><a href=\"psysml:991e81ed-291b-4563-955c-44288cc9fc81\" target=\"_top\" title=\"psysml:991e81ed-291b-4563-955c-44288cc9fc81\" xlink:actuate=\"onRequest\" xlink:href=\"psysml:991e81ed-291b-4563-955c-44288cc9fc81\" xlink:show=\"new\" xlink:title=\"psysml:991e81ed-291b-4563-955c-44288cc9fc81\" xlink:type=\"simple\"><rect fill=\"#FEFECE\" filter=\"url(#f1q9hysnyypi2m)\" height=\"42.9375\" id=\"E3\" style=\"stroke: #A80036; stroke-width: 1.5;\" width=\"146\" x=\"32\" y=\"207\"/><ellipse cx=\"49.25\" cy=\"225.9688\" fill=\"#A52A2A\" rx=\"11\" ry=\"11\" style=\"stroke: #A80036; stroke-width: 1.0;\"/><path d=\"M46.4688,230.9688 L46.4688,220.375 L49.2031,220.375 Q50.5938,220.375 51.3594,220.7656 Q52.1406,221.1406 52.6719,221.8438 Q53.2031,222.5469 53.5,223.5469 Q53.7969,224.5313 53.7969,225.75 Q53.75,227.3438 53.25,228.5313 Q52.7656,229.7031 51.7188,230.3438 Q50.6875,230.9688 49,230.9688 L46.4688,230.9688 Z M48.3281,229.4688 L48.9531,229.4688 Q50.0313,229.4688 50.6875,229.0156 Q51.3438,228.5625 51.625,227.7344 Q51.9219,226.8906 51.9063,225.7656 Q51.9063,224.5938 51.6563,223.7344 Q51.4063,222.8594 50.7969,222.3906 Q50.1875,221.9063 49.1406,221.9063 L48.3281,221.9063 L48.3281,229.4688 Z \"/><text fill=\"#000000\" font-family=\"sans-serif\" font-size=\"12\" font-style=\"italic\" lengthAdjust=\"spacingAndGlyphs\" textLength=\"113\" x=\"61.75\" y=\"223.1387\">«occurrence  def»</text><text fill=\"#000000\" font-family=\"sans-serif\" font-size=\"12\" lengthAdjust=\"spacingAndGlyphs\" textLength=\"19\" x=\"108.75\" y=\"237.1074\">Ind</text></a></g><g id=\"E1.E4.E5\"><a href=\"psysml:d0eba55f-a402-4b22-88ba-9857d6bd50ac\" target=\"_top\" title=\"psysml:d0eba55f-a402-4b22-88ba-9857d6bd50ac\" xlink:actuate=\"onRequest\" xlink:href=\"psysml:d0eba55f-a402-4b22-88ba-9857d6bd50ac\" xlink:show=\"new\" xlink:title=\"psysml:d0eba55f-a402-4b22-88ba-9857d6bd50ac\" xlink:type=\"simple\"><rect fill=\"#FEFECE\" filter=\"url(#f1q9hysnyypi2m)\" height=\"42.9375\" id=\"E5\" rx=\"10\" ry=\"10\" style=\"stroke: #A80036; stroke-width: 1.5;\" width=\"118\" x=\"373\" y=\"116\"/><ellipse cx=\"390.25\" cy=\"134.9688\" fill=\"#FFA500\" rx=\"11\" ry=\"11\" style=\"stroke: #A80036; stroke-width: 1.0;\"/><path d=\"M390,140.4375 Q388.25,140.4375 387.2969,139.4063 Q386.3594,138.3594 386.3594,136.5156 L386.3594,129.625 L388.4219,129.625 L388.4219,129.7813 Q388.3281,129.875 388.2969,130.0156 Q388.2813,130.1406 388.2813,130.4063 L388.2813,136.5313 Q388.2813,137.625 388.6563,138.25 Q389.0313,138.875 390.0156,138.875 Q391,138.875 391.3906,138.25 Q391.7813,137.625 391.7813,136.4844 L391.7813,129.625 L393.6563,129.625 L393.6563,136.4688 Q393.6563,138.5 392.625,139.4688 Q391.6094,140.4375 390,140.4375 Z \"/><text fill=\"#000000\" font-family=\"sans-serif\" font-size=\"12\" font-style=\"italic\" lengthAdjust=\"spacingAndGlyphs\" textLength=\"85\" x=\"402.75\" y=\"132.1387\">«occurrence»</text><text fill=\"#000000\" font-family=\"sans-serif\" font-size=\"12\" lengthAdjust=\"spacingAndGlyphs\" textLength=\"15\" x=\"437.75\" y=\"146.1074\">s3</text></a></g><g id=\"E1.E4.E6\"><a href=\"psysml:0232df4f-93e4-4add-8902-f942e03a0634\" target=\"_top\" title=\"psysml:0232df4f-93e4-4add-8902-f942e03a0634\" xlink:actuate=\"onRequest\" xlink:href=\"psysml:0232df4f-93e4-4add-8902-f942e03a0634\" xlink:show=\"new\" xlink:title=\"psysml:0232df4f-93e4-4add-8902-f942e03a0634\" xlink:type=\"simple\"><rect fill=\"#FEFECE\" filter=\"url(#f1q9hysnyypi2m)\" height=\"42.9375\" id=\"E6\" rx=\"10\" ry=\"10\" style=\"stroke: #A80036; stroke-width: 1.5;\" width=\"118\" x=\"220\" y=\"116\"/><ellipse cx=\"237.25\" cy=\"134.9688\" fill=\"#FFA500\" rx=\"11\" ry=\"11\" style=\"stroke: #A80036; stroke-width: 1.0;\"/><path d=\"M237,140.4375 Q235.25,140.4375 234.2969,139.4063 Q233.3594,138.3594 233.3594,136.5156 L233.3594,129.625 L235.4219,129.625 L235.4219,129.7813 Q235.3281,129.875 235.2969,130.0156 Q235.2813,130.1406 235.2813,130.4063 L235.2813,136.5313 Q235.2813,137.625 235.6563,138.25 Q236.0313,138.875 237.0156,138.875 Q238,138.875 238.3906,138.25 Q238.7813,137.625 238.7813,136.4844 L238.7813,129.625 L240.6563,129.625 L240.6563,136.4688 Q240.6563,138.5 239.625,139.4688 Q238.6094,140.4375 237,140.4375 Z \"/><text fill=\"#000000\" font-family=\"sans-serif\" font-size=\"12\" font-style=\"italic\" lengthAdjust=\"spacingAndGlyphs\" textLength=\"85\" x=\"249.75\" y=\"132.1387\">«occurrence»</text><text fill=\"#000000\" font-family=\"sans-serif\" font-size=\"12\" lengthAdjust=\"spacingAndGlyphs\" textLength=\"13\" x=\"285.75\" y=\"146.1074\">t3</text></a></g><g id=\"E1.E7\"><a href=\"psysml:5cbde71f-e2d0-40cd-91ed-92f5bc776eb7\" target=\"_top\" title=\"psysml:5cbde71f-e2d0-40cd-91ed-92f5bc776eb7\" xlink:actuate=\"onRequest\" xlink:href=\"psysml:5cbde71f-e2d0-40cd-91ed-92f5bc776eb7\" xlink:show=\"new\" xlink:title=\"psysml:5cbde71f-e2d0-40cd-91ed-92f5bc776eb7\" xlink:type=\"simple\"><rect fill=\"#FEFECE\" filter=\"url(#f1q9hysnyypi2m)\" height=\"42.9375\" id=\"E7\" rx=\"10\" ry=\"10\" style=\"stroke: #A80036; stroke-width: 1.5;\" width=\"118\" x=\"32\" y=\"116\"/><ellipse cx=\"49.25\" cy=\"134.9688\" fill=\"#FFA500\" rx=\"11\" ry=\"11\" style=\"stroke: #A80036; stroke-width: 1.0;\"/><path d=\"M49,140.4375 Q47.25,140.4375 46.2969,139.4063 Q45.3594,138.3594 45.3594,136.5156 L45.3594,129.625 L47.4219,129.625 L47.4219,129.7813 Q47.3281,129.875 47.2969,130.0156 Q47.2813,130.1406 47.2813,130.4063 L47.2813,136.5313 Q47.2813,137.625 47.6563,138.25 Q48.0313,138.875 49.0156,138.875 Q50,138.875 50.3906,138.25 Q50.7813,137.625 50.7813,136.4844 L50.7813,129.625 L52.6563,129.625 L52.6563,136.4688 Q52.6563,138.5 51.625,139.4688 Q50.6094,140.4375 49,140.4375 Z \"/><text fill=\"#000000\" font-family=\"sans-serif\" font-size=\"12\" font-style=\"italic\" lengthAdjust=\"spacingAndGlyphs\" textLength=\"85\" x=\"61.75\" y=\"132.1387\">«occurrence»</text><text fill=\"#000000\" font-family=\"sans-serif\" font-size=\"12\" lengthAdjust=\"spacingAndGlyphs\" textLength=\"42\" x=\"83.25\" y=\"146.1074\">s4: Ind</text></a></g><!--MD5=[f0cdf4548168e5211fb3a02bf679d63a]\n",
       "link E4 to E3--><a href=\"psysml:43f26010-ca40-42d6-8df0-e4847d82fc63\" target=\"_top\" title=\"psysml:43f26010-ca40-42d6-8df0-e4847d82fc63\" xlink:actuate=\"onRequest\" xlink:href=\"psysml:43f26010-ca40-42d6-8df0-e4847d82fc63\" xlink:show=\"new\" xlink:title=\"psysml:43f26010-ca40-42d6-8df0-e4847d82fc63\" xlink:type=\"simple\"><path d=\"M185.5064,183.0851 C185.4548,183.2752 185.4024,183.4655 185.349,183.6558 C185.2423,184.0366 185.132,184.4177 185.018,184.7993 C184.5623,186.3254 184.0481,187.8575 183.47,189.39 \" fill=\"none\" id=\"E4-&gt;E3\" style=\"stroke: #A80036; stroke-width: 1.0;\"/><polygon fill=\"#FFFFFF\" points=\"173.52,206.94,176.807,186.9601,188.9839,193.8684,173.52,206.94\" style=\"stroke: #A80036; stroke-width: 1.0;\"/><ellipse cx=\"181.3592\" cy=\"182.9893\" fill=\"#A80036\" rx=\"2\" ry=\"2\" style=\"stroke: #A80036; stroke-width: 1.0;\"/><ellipse cx=\"190.057\" cy=\"187.9237\" fill=\"#A80036\" rx=\"2\" ry=\"2\" style=\"stroke: #A80036; stroke-width: 1.0;\"/></a><!--MD5=[185131fc0dcab0a4505a2ebe144e961b]\n",
       "link E4 to E2--><a href=\"psysml:ac89f7fb-b091-4bc7-aaea-6377fc157ffe\" target=\"_top\" title=\"psysml:ac89f7fb-b091-4bc7-aaea-6377fc157ffe\" xlink:actuate=\"onRequest\" xlink:href=\"psysml:ac89f7fb-b091-4bc7-aaea-6377fc157ffe\" xlink:show=\"new\" xlink:title=\"psysml:ac89f7fb-b091-4bc7-aaea-6377fc157ffe\" xlink:type=\"simple\"><path d=\"M196.0457,183.218 C196.2397,183.602 196.4371,183.9863 196.638,184.3708 C197.0397,185.1398 197.4552,185.9095 197.8851,186.6791 C198.7448,188.2184 199.6619,189.7575 200.64,191.29 \" fill=\"none\" id=\"E4-&gt;E2\" style=\"stroke: #A80036; stroke-width: 1.0;\"/><polygon fill=\"#FFFFFF\" points=\"213.35,206.9,195.9266,196.5837,206.7843,187.7456,213.35,206.9\" style=\"stroke: #A80036; stroke-width: 1.0;\"/><ellipse cx=\"193.8794\" cy=\"190.9005\" fill=\"#A80036\" rx=\"2\" ry=\"2\" style=\"stroke: #A80036; stroke-width: 1.0;\"/><ellipse cx=\"201.6348\" cy=\"184.5876\" fill=\"#A80036\" rx=\"2\" ry=\"2\" style=\"stroke: #A80036; stroke-width: 1.0;\"/></a><!--MD5=[14ccda38c055a5c0da953d572bc50960]\n",
       "link E7 to E3--><a href=\"psysml:85f16706-e1b7-404d-9ee5-57d420bfb7f2\" target=\"_top\" title=\"psysml:85f16706-e1b7-404d-9ee5-57d420bfb7f2\" xlink:actuate=\"onRequest\" xlink:href=\"psysml:85f16706-e1b7-404d-9ee5-57d420bfb7f2\" xlink:show=\"new\" xlink:title=\"psysml:85f16706-e1b7-404d-9ee5-57d420bfb7f2\" xlink:type=\"simple\"><path d=\"M94.25,159.14 C95.55,167.45 97.11,177.34 98.63,186.98 \" fill=\"none\" id=\"E7-&gt;E3\" style=\"stroke: #A80036; stroke-width: 1.0;\"/><polygon fill=\"#FFFFFF\" points=\"101.77,206.97,91.9094,189.2847,105.7402,187.1146,101.77,206.97\" style=\"stroke: #A80036; stroke-width: 1.0;\"/><ellipse cx=\"93.0017\" cy=\"183.3436\" fill=\"#A80036\" rx=\"2\" ry=\"2\" style=\"stroke: #A80036; stroke-width: 1.0;\"/><ellipse cx=\"102.8808\" cy=\"181.7935\" fill=\"#A80036\" rx=\"2\" ry=\"2\" style=\"stroke: #A80036; stroke-width: 1.0;\"/></a><!--MD5=[193db1499671181d12170c46ebd6e710]\n",
       "@startuml\r\n",
       "skinparam ranksep 10\r\n",
       "skinparam rectangle {\r\n",
       " backgroundColor<<block>> LightGreen\r\n",
       "}\r\n",
       " \r\n",
       "package \"OccurrenceTest\" as E1  [[psysml:53f1d42d-2686-4f4b-950f-b84b40bc19b2 ]]  {\r\n",
       "def \"Occ\" as E2 << <<(D,brown) occurrence  def>> [[psysml:77ba500d-77fd-484e-b411-8833010da35e ]] \r\n",
       "def \"Ind\" as E3 << individual <<(D,brown) occurrence  def>> [[psysml:991e81ed-291b-4563-955c-44288cc9fc81 ]] \r\n",
       "rec usage \"ind: Ind, Occ\" as E4 << individual <<(U,orange) occurrence>> [[psysml:90168d9a-6358-4939-88d7-8ec9974b52c6 ]] {\r\n",
       "rec usage \"s3\" as E5 << snapshot <<(U,orange) occurrence>> [[psysml:d0eba55f-a402-4b22-88ba-9857d6bd50ac ]] {\r\n",
       "}\r\n",
       "rec usage \"t3\" as E6 << individual timeslice <<(U,orange) occurrence>> [[psysml:0232df4f-93e4-4add-8902-f942e03a0634 ]] {\r\n",
       "}\r\n",
       "}\r\n",
       "rec usage \"s4: Ind\" as E7 << individual snapshot <<(U,orange) occurrence>> [[psysml:5cbde71f-e2d0-40cd-91ed-92f5bc776eb7 ]] {\r\n",
       "}\r\n",
       "}\r\n",
       "E4 - -:|> E3 [[psysml:43f26010-ca40-42d6-8df0-e4847d82fc63 ]] \r\n",
       "E4 - -:|> E2 [[psysml:ac89f7fb-b091-4bc7-aaea-6377fc157ffe ]] \r\n",
       "E7 - -:|> E3 [[psysml:85f16706-e1b7-404d-9ee5-57d420bfb7f2 ]] \r\n",
       "@enduml\r\n",
       "\n",
       "PlantUML version 1.2020.13(Sat Jun 13 12:26:38 UTC 2020)\n",
       "(EPL source distribution)\n",
       "Java Runtime: OpenJDK Runtime Environment\n",
       "JVM: OpenJDK 64-Bit Server VM\n",
       "Default Encoding: UTF-8\n",
       "Language: en\n",
       "Country: null\n",
       "--></g></svg>"
      ]
     },
     "execution_count": 33,
     "metadata": {},
     "output_type": "execute_result"
    }
   ],
   "source": [
    "%viz --style=\"PLANTUML\" --view=\"Interconnection\" \"OccurrenceTest\""
   ]
  },
  {
   "cell_type": "code",
   "execution_count": 34,
   "id": "87717284",
   "metadata": {
    "execution": {
     "iopub.execute_input": "2022-07-23T10:52:33.149064Z",
     "iopub.status.busy": "2022-07-23T10:52:33.148705Z",
     "iopub.status.idle": "2022-07-23T10:52:33.152388Z",
     "shell.execute_reply": "2022-07-23T10:52:33.152612Z"
    }
   },
   "outputs": [
    {
     "data": {
      "image/svg+xml": [
       "<?xml version=\"1.0\" encoding=\"UTF-8\" standalone=\"no\"?><svg xmlns=\"http://www.w3.org/2000/svg\" xmlns:xlink=\"http://www.w3.org/1999/xlink\" contentScriptType=\"application/ecmascript\" contentStyleType=\"text/css\" height=\"12px\" preserveAspectRatio=\"none\" style=\"width:12px;height:12px;\" version=\"1.1\" viewBox=\"0 0 12 12\" width=\"12px\" zoomAndPan=\"magnify\"><defs/><g><!--MD5=[6a4cb978cab31700e1ce5529f947a75d]\n",
       "@startuml\r\n",
       "skinparam ranksep 8\r\n",
       " \r\n",
       "@enduml\r\n",
       "\n",
       "PlantUML version 1.2020.13(Sat Jun 13 12:26:38 UTC 2020)\n",
       "(EPL source distribution)\n",
       "Java Runtime: OpenJDK Runtime Environment\n",
       "JVM: OpenJDK 64-Bit Server VM\n",
       "Default Encoding: UTF-8\n",
       "Language: en\n",
       "Country: null\n",
       "--></g></svg>"
      ]
     },
     "execution_count": 34,
     "metadata": {},
     "output_type": "execute_result"
    }
   ],
   "source": [
    "%viz --style=\"PLANTUML\" --view=\"Action\" \"OccurrenceTest\""
   ]
  },
  {
   "cell_type": "code",
   "execution_count": 35,
   "id": "e9f14c0e",
   "metadata": {
    "execution": {
     "iopub.execute_input": "2022-07-23T10:52:33.202833Z",
     "iopub.status.busy": "2022-07-23T10:52:33.202534Z",
     "iopub.status.idle": "2022-07-23T10:52:33.206610Z",
     "shell.execute_reply": "2022-07-23T10:52:33.206773Z"
    }
   },
   "outputs": [
    {
     "data": {
      "image/svg+xml": [
       "<?xml version=\"1.0\" encoding=\"UTF-8\" standalone=\"no\"?><svg xmlns=\"http://www.w3.org/2000/svg\" xmlns:xlink=\"http://www.w3.org/1999/xlink\" contentScriptType=\"application/ecmascript\" contentStyleType=\"text/css\" height=\"12px\" preserveAspectRatio=\"none\" style=\"width:12px;height:12px;\" version=\"1.1\" viewBox=\"0 0 12 12\" width=\"12px\" zoomAndPan=\"magnify\"><defs/><g><!--MD5=[ca4faa0b02def275ea33c14ea7a1a98d]\n",
       "@startuml\r\n",
       "skinparam roundcorner 20\r\n",
       "skinparam BoxPadding 20\r\n",
       "skinparam SequenceBoxBackgroundColor #white\r\n",
       "skinparam style strictuml\r\n",
       "skinparam maxMessageSize 100\r\n",
       " \r\n",
       "@enduml\r\n",
       "\n",
       "PlantUML version 1.2020.13(Sat Jun 13 12:26:38 UTC 2020)\n",
       "(EPL source distribution)\n",
       "Java Runtime: OpenJDK Runtime Environment\n",
       "JVM: OpenJDK 64-Bit Server VM\n",
       "Default Encoding: UTF-8\n",
       "Language: en\n",
       "Country: null\n",
       "--></g></svg>"
      ]
     },
     "execution_count": 35,
     "metadata": {},
     "output_type": "execute_result"
    }
   ],
   "source": [
    "%viz --style=\"PLANTUML\" --view=\"Sequence\" \"OccurrenceTest\""
   ]
  },
  {
   "cell_type": "code",
   "execution_count": 36,
   "id": "0bc6fe7a",
   "metadata": {
    "execution": {
     "iopub.execute_input": "2022-07-23T10:52:33.257231Z",
     "iopub.status.busy": "2022-07-23T10:52:33.256767Z",
     "iopub.status.idle": "2022-07-23T10:52:33.315773Z",
     "shell.execute_reply": "2022-07-23T10:52:33.313352Z"
    }
   },
   "outputs": [
    {
     "data": {
      "image/svg+xml": [
       "<?xml version=\"1.0\" encoding=\"UTF-8\" standalone=\"no\"?><svg xmlns=\"http://www.w3.org/2000/svg\" xmlns:xlink=\"http://www.w3.org/1999/xlink\" contentScriptType=\"application/ecmascript\" contentStyleType=\"text/css\" height=\"569px\" preserveAspectRatio=\"none\" style=\"width:813px;height:569px;\" version=\"1.1\" viewBox=\"0 0 813 569\" width=\"813px\" zoomAndPan=\"magnify\"><defs><filter height=\"300%\" id=\"fpqxujo4z04ib\" width=\"300%\" x=\"-1\" y=\"-1\"><feGaussianBlur result=\"blurOut\" stdDeviation=\"2.0\"/><feColorMatrix in=\"blurOut\" result=\"blurOut2\" type=\"matrix\" values=\"0 0 0 0 0 0 0 0 0 0 0 0 0 0 0 0 0 0 .4 0\"/><feOffset dx=\"4.0\" dy=\"4.0\" in=\"blurOut2\" result=\"blurOut3\"/><feBlend in=\"SourceGraphic\" in2=\"blurOut3\" mode=\"normal\"/></filter></defs><g><!--MD5=[fbc87193dbaf4d95561dea2c320d4a47]\n",
       "cluster E1--><a href=\"psysml:53f1d42d-2686-4f4b-950f-b84b40bc19b2\" target=\"_top\" title=\"psysml:53f1d42d-2686-4f4b-950f-b84b40bc19b2\" xlink:actuate=\"onRequest\" xlink:href=\"psysml:53f1d42d-2686-4f4b-950f-b84b40bc19b2\" xlink:show=\"new\" xlink:title=\"psysml:53f1d42d-2686-4f4b-950f-b84b40bc19b2\" xlink:type=\"simple\"><polygon fill=\"#FFFFFF\" filter=\"url(#fpqxujo4z04ib)\" points=\"16,6,134,6,141,28.2969,791,28.2969,791,557,16,557,16,6\" style=\"stroke: #000000; stroke-width: 1.5;\"/><line style=\"stroke: #000000; stroke-width: 1.5;\" x1=\"16\" x2=\"141\" y1=\"28.2969\" y2=\"28.2969\"/><text fill=\"#000000\" font-family=\"sans-serif\" font-size=\"14\" font-weight=\"bold\" lengthAdjust=\"spacingAndGlyphs\" textLength=\"112\" x=\"20\" y=\"20.9951\">OccurrenceTest</text></a><!--MD5=[b4997ac47864f28c2f74865a473b2911]\n",
       "class E2--><a href=\"psysml:77ba500d-77fd-484e-b411-8833010da35e\" target=\"_top\" title=\"psysml:77ba500d-77fd-484e-b411-8833010da35e\" xlink:actuate=\"onRequest\" xlink:href=\"psysml:77ba500d-77fd-484e-b411-8833010da35e\" xlink:show=\"new\" xlink:title=\"psysml:77ba500d-77fd-484e-b411-8833010da35e\" xlink:type=\"simple\"><rect fill=\"#FEFECE\" filter=\"url(#fpqxujo4z04ib)\" height=\"75.5469\" id=\"E2\" style=\"stroke: #A80036; stroke-width: 1.5;\" width=\"141\" x=\"299.5\" y=\"147\"/><ellipse cx=\"314.5\" cy=\"165.9688\" fill=\"#A52A2A\" rx=\"11\" ry=\"11\" style=\"stroke: #A80036; stroke-width: 1.0;\"/><path d=\"M311.7188,170.9688 L311.7188,160.375 L314.4531,160.375 Q315.8438,160.375 316.6094,160.7656 Q317.3906,161.1406 317.9219,161.8438 Q318.4531,162.5469 318.75,163.5469 Q319.0469,164.5313 319.0469,165.75 Q319,167.3438 318.5,168.5313 Q318.0156,169.7031 316.9688,170.3438 Q315.9375,170.9688 314.25,170.9688 L311.7188,170.9688 Z M313.5781,169.4688 L314.2031,169.4688 Q315.2813,169.4688 315.9375,169.0156 Q316.5938,168.5625 316.875,167.7344 Q317.1719,166.8906 317.1563,165.7656 Q317.1563,164.5938 316.9063,163.7344 Q316.6563,162.8594 316.0469,162.3906 Q315.4375,161.9063 314.3906,161.9063 L313.5781,161.9063 L313.5781,169.4688 Z \"/><text fill=\"#000000\" font-family=\"sans-serif\" font-size=\"12\" font-style=\"italic\" lengthAdjust=\"spacingAndGlyphs\" textLength=\"113\" x=\"326.5\" y=\"163.1387\">«occurrence  def»</text><text fill=\"#000000\" font-family=\"sans-serif\" font-size=\"12\" lengthAdjust=\"spacingAndGlyphs\" textLength=\"23\" x=\"371.5\" y=\"177.1074\">Occ</text><line style=\"stroke: #A80036; stroke-width: 1.5;\" x1=\"300.5\" x2=\"439.5\" y1=\"184.9375\" y2=\"184.9375\"/><text fill=\"#000000\" font-family=\"sans-serif\" font-size=\"11\" lengthAdjust=\"spacingAndGlyphs\" textLength=\"7\" x=\"305.5\" y=\"215.9526\">a</text><line style=\"stroke: #A80036; stroke-width: 1.0;\" x1=\"300.5\" x2=\"342.5\" y1=\"199.3398\" y2=\"199.3398\"/><text fill=\"#000000\" font-family=\"sans-serif\" font-size=\"11\" lengthAdjust=\"spacingAndGlyphs\" textLength=\"55\" x=\"342.5\" y=\"202.6479\">attributes</text><line style=\"stroke: #A80036; stroke-width: 1.0;\" x1=\"397.5\" x2=\"439.5\" y1=\"199.3398\" y2=\"199.3398\"/></a><!--MD5=[09b614a08d8cba4a07c9adeb5e0fee81]\n",
       "class E3--><a href=\"psysml:37011562-c12e-4ce2-bbf9-af5619a300f0\" target=\"_top\" title=\"psysml:37011562-c12e-4ce2-bbf9-af5619a300f0\" xlink:actuate=\"onRequest\" xlink:href=\"psysml:37011562-c12e-4ce2-bbf9-af5619a300f0\" xlink:show=\"new\" xlink:title=\"psysml:37011562-c12e-4ce2-bbf9-af5619a300f0\" xlink:type=\"simple\"><rect fill=\"#FEFECE\" filter=\"url(#fpqxujo4z04ib)\" height=\"45.9375\" id=\"E3\" rx=\"10\" ry=\"10\" style=\"stroke: #A80036; stroke-width: 1.5;\" width=\"113\" x=\"180.5\" y=\"283\"/><ellipse cx=\"195.5\" cy=\"301.9688\" fill=\"#FFA500\" rx=\"11\" ry=\"11\" style=\"stroke: #A80036; stroke-width: 1.0;\"/><path d=\"M195.25,307.4375 Q193.5,307.4375 192.5469,306.4063 Q191.6094,305.3594 191.6094,303.5156 L191.6094,296.625 L193.6719,296.625 L193.6719,296.7813 Q193.5781,296.875 193.5469,297.0156 Q193.5313,297.1406 193.5313,297.4063 L193.5313,303.5313 Q193.5313,304.625 193.9063,305.25 Q194.2813,305.875 195.2656,305.875 Q196.25,305.875 196.6406,305.25 Q197.0313,304.625 197.0313,303.4844 L197.0313,296.625 L198.9063,296.625 L198.9063,303.4688 Q198.9063,305.5 197.875,306.4688 Q196.8594,307.4375 195.25,307.4375 Z \"/><text fill=\"#000000\" font-family=\"sans-serif\" font-size=\"12\" font-style=\"italic\" lengthAdjust=\"spacingAndGlyphs\" textLength=\"85\" x=\"207.5\" y=\"299.1387\">«occurrence»</text><text fill=\"#000000\" font-family=\"sans-serif\" font-size=\"12\" lengthAdjust=\"spacingAndGlyphs\" textLength=\"61\" x=\"217.5\" y=\"313.1074\">occ1: Occ</text><line style=\"stroke: #A80036; stroke-width: 1.5;\" x1=\"181.5\" x2=\"292.5\" y1=\"320.9375\" y2=\"320.9375\"/></a><!--MD5=[ebbe1d658d1005bcc118a6aa81145e00]\n",
       "class E4--><a href=\"psysml:3522e0a2-d0dd-4c95-916a-e9f89fbadd86\" target=\"_top\" title=\"psysml:3522e0a2-d0dd-4c95-916a-e9f89fbadd86\" xlink:actuate=\"onRequest\" xlink:href=\"psysml:3522e0a2-d0dd-4c95-916a-e9f89fbadd86\" xlink:show=\"new\" xlink:title=\"psysml:3522e0a2-d0dd-4c95-916a-e9f89fbadd86\" xlink:type=\"simple\"><rect fill=\"#FEFECE\" filter=\"url(#fpqxujo4z04ib)\" height=\"45.9375\" id=\"E4\" rx=\"10\" ry=\"10\" style=\"stroke: #A80036; stroke-width: 1.5;\" width=\"113\" x=\"328.5\" y=\"283\"/><ellipse cx=\"343.5\" cy=\"301.9688\" fill=\"#FFA500\" rx=\"11\" ry=\"11\" style=\"stroke: #A80036; stroke-width: 1.0;\"/><path d=\"M343.25,307.4375 Q341.5,307.4375 340.5469,306.4063 Q339.6094,305.3594 339.6094,303.5156 L339.6094,296.625 L341.6719,296.625 L341.6719,296.7813 Q341.5781,296.875 341.5469,297.0156 Q341.5313,297.1406 341.5313,297.4063 L341.5313,303.5313 Q341.5313,304.625 341.9063,305.25 Q342.2813,305.875 343.2656,305.875 Q344.25,305.875 344.6406,305.25 Q345.0313,304.625 345.0313,303.4844 L345.0313,296.625 L346.9063,296.625 L346.9063,303.4688 Q346.9063,305.5 345.875,306.4688 Q344.8594,307.4375 343.25,307.4375 Z \"/><text fill=\"#000000\" font-family=\"sans-serif\" font-size=\"12\" font-style=\"italic\" lengthAdjust=\"spacingAndGlyphs\" textLength=\"85\" x=\"355.5\" y=\"299.1387\">«occurrence»</text><text fill=\"#000000\" font-family=\"sans-serif\" font-size=\"12\" lengthAdjust=\"spacingAndGlyphs\" textLength=\"61\" x=\"365.5\" y=\"313.1074\">occ2: Occ</text><line style=\"stroke: #A80036; stroke-width: 1.5;\" x1=\"329.5\" x2=\"440.5\" y1=\"320.9375\" y2=\"320.9375\"/></a><!--MD5=[270fce915f116d4de14055a7c1d9a0f3]\n",
       "class E5--><a href=\"psysml:2ba1b44f-ac88-49ba-a1da-8edc5df2da3a\" target=\"_top\" title=\"psysml:2ba1b44f-ac88-49ba-a1da-8edc5df2da3a\" xlink:actuate=\"onRequest\" xlink:href=\"psysml:2ba1b44f-ac88-49ba-a1da-8edc5df2da3a\" xlink:show=\"new\" xlink:title=\"psysml:2ba1b44f-ac88-49ba-a1da-8edc5df2da3a\" xlink:type=\"simple\"><rect fill=\"#FEFECE\" filter=\"url(#fpqxujo4z04ib)\" height=\"45.9375\" id=\"E5\" rx=\"10\" ry=\"10\" style=\"stroke: #A80036; stroke-width: 1.5;\" width=\"113\" x=\"476.5\" y=\"283\"/><ellipse cx=\"491.5\" cy=\"301.9688\" fill=\"#FFA500\" rx=\"11\" ry=\"11\" style=\"stroke: #A80036; stroke-width: 1.0;\"/><path d=\"M491.25,307.4375 Q489.5,307.4375 488.5469,306.4063 Q487.6094,305.3594 487.6094,303.5156 L487.6094,296.625 L489.6719,296.625 L489.6719,296.7813 Q489.5781,296.875 489.5469,297.0156 Q489.5313,297.1406 489.5313,297.4063 L489.5313,303.5313 Q489.5313,304.625 489.9063,305.25 Q490.2813,305.875 491.2656,305.875 Q492.25,305.875 492.6406,305.25 Q493.0313,304.625 493.0313,303.4844 L493.0313,296.625 L494.9063,296.625 L494.9063,303.4688 Q494.9063,305.5 493.875,306.4688 Q492.8594,307.4375 491.25,307.4375 Z \"/><text fill=\"#000000\" font-family=\"sans-serif\" font-size=\"12\" font-style=\"italic\" lengthAdjust=\"spacingAndGlyphs\" textLength=\"85\" x=\"503.5\" y=\"299.1387\">«occurrence»</text><text fill=\"#000000\" font-family=\"sans-serif\" font-size=\"12\" lengthAdjust=\"spacingAndGlyphs\" textLength=\"34\" x=\"527\" y=\"313.1074\">s: Ind</text><line style=\"stroke: #A80036; stroke-width: 1.5;\" x1=\"477.5\" x2=\"588.5\" y1=\"320.9375\" y2=\"320.9375\"/></a><!--MD5=[60a26617385b1d2d0262a64233df1f8d]\n",
       "class E6--><a href=\"psysml:aefaf76d-f241-48e8-80ea-b99598299972\" target=\"_top\" title=\"psysml:aefaf76d-f241-48e8-80ea-b99598299972\" xlink:actuate=\"onRequest\" xlink:href=\"psysml:aefaf76d-f241-48e8-80ea-b99598299972\" xlink:show=\"new\" xlink:title=\"psysml:aefaf76d-f241-48e8-80ea-b99598299972\" xlink:type=\"simple\"><rect fill=\"#FEFECE\" filter=\"url(#fpqxujo4z04ib)\" height=\"45.9375\" id=\"E6\" rx=\"10\" ry=\"10\" style=\"stroke: #A80036; stroke-width: 1.5;\" width=\"113\" x=\"624.5\" y=\"283\"/><ellipse cx=\"639.5\" cy=\"301.9688\" fill=\"#FFA500\" rx=\"11\" ry=\"11\" style=\"stroke: #A80036; stroke-width: 1.0;\"/><path d=\"M639.25,307.4375 Q637.5,307.4375 636.5469,306.4063 Q635.6094,305.3594 635.6094,303.5156 L635.6094,296.625 L637.6719,296.625 L637.6719,296.7813 Q637.5781,296.875 637.5469,297.0156 Q637.5313,297.1406 637.5313,297.4063 L637.5313,303.5313 Q637.5313,304.625 637.9063,305.25 Q638.2813,305.875 639.2656,305.875 Q640.25,305.875 640.6406,305.25 Q641.0313,304.625 641.0313,303.4844 L641.0313,296.625 L642.9063,296.625 L642.9063,303.4688 Q642.9063,305.5 641.875,306.4688 Q640.8594,307.4375 639.25,307.4375 Z \"/><text fill=\"#000000\" font-family=\"sans-serif\" font-size=\"12\" font-style=\"italic\" lengthAdjust=\"spacingAndGlyphs\" textLength=\"85\" x=\"651.5\" y=\"299.1387\">«occurrence»</text><text fill=\"#000000\" font-family=\"sans-serif\" font-size=\"12\" lengthAdjust=\"spacingAndGlyphs\" textLength=\"5\" x=\"689.5\" y=\"313.1074\">t</text><line style=\"stroke: #A80036; stroke-width: 1.5;\" x1=\"625.5\" x2=\"736.5\" y1=\"320.9375\" y2=\"320.9375\"/></a><!--MD5=[2156ba9850f5573cc1fc38a6a4b2f02b]\n",
       "class E7--><a href=\"psysml:991e81ed-291b-4563-955c-44288cc9fc81\" target=\"_top\" title=\"psysml:991e81ed-291b-4563-955c-44288cc9fc81\" xlink:actuate=\"onRequest\" xlink:href=\"psysml:991e81ed-291b-4563-955c-44288cc9fc81\" xlink:show=\"new\" xlink:title=\"psysml:991e81ed-291b-4563-955c-44288cc9fc81\" xlink:type=\"simple\"><rect fill=\"#FEFECE\" filter=\"url(#fpqxujo4z04ib)\" height=\"45.9375\" id=\"E7\" style=\"stroke: #A80036; stroke-width: 1.5;\" width=\"141\" x=\"462.5\" y=\"389\"/><ellipse cx=\"477.5\" cy=\"407.9688\" fill=\"#A52A2A\" rx=\"11\" ry=\"11\" style=\"stroke: #A80036; stroke-width: 1.0;\"/><path d=\"M474.7188,412.9688 L474.7188,402.375 L477.4531,402.375 Q478.8438,402.375 479.6094,402.7656 Q480.3906,403.1406 480.9219,403.8438 Q481.4531,404.5469 481.75,405.5469 Q482.0469,406.5313 482.0469,407.75 Q482,409.3438 481.5,410.5313 Q481.0156,411.7031 479.9688,412.3438 Q478.9375,412.9688 477.25,412.9688 L474.7188,412.9688 Z M476.5781,411.4688 L477.2031,411.4688 Q478.2813,411.4688 478.9375,411.0156 Q479.5938,410.5625 479.875,409.7344 Q480.1719,408.8906 480.1563,407.7656 Q480.1563,406.5938 479.9063,405.7344 Q479.6563,404.8594 479.0469,404.3906 Q478.4375,403.9063 477.3906,403.9063 L476.5781,403.9063 L476.5781,411.4688 Z \"/><text fill=\"#000000\" font-family=\"sans-serif\" font-size=\"12\" font-style=\"italic\" lengthAdjust=\"spacingAndGlyphs\" textLength=\"113\" x=\"489.5\" y=\"405.1387\">«occurrence  def»</text><text fill=\"#000000\" font-family=\"sans-serif\" font-size=\"12\" lengthAdjust=\"spacingAndGlyphs\" textLength=\"19\" x=\"536.5\" y=\"419.1074\">Ind</text><line style=\"stroke: #A80036; stroke-width: 1.5;\" x1=\"463.5\" x2=\"602.5\" y1=\"426.9375\" y2=\"426.9375\"/></a><!--MD5=[b9389687b975829384b498ac4b7476b2]\n",
       "class E8--><a href=\"psysml:fb7dbc0d-a670-4e6d-a2b6-24a9a70c023a\" target=\"_top\" title=\"psysml:fb7dbc0d-a670-4e6d-a2b6-24a9a70c023a\" xlink:actuate=\"onRequest\" xlink:href=\"psysml:fb7dbc0d-a670-4e6d-a2b6-24a9a70c023a\" xlink:show=\"new\" xlink:title=\"psysml:fb7dbc0d-a670-4e6d-a2b6-24a9a70c023a\" xlink:type=\"simple\"><rect fill=\"#FEFECE\" filter=\"url(#fpqxujo4z04ib)\" height=\"45.9375\" id=\"E8\" rx=\"10\" ry=\"10\" style=\"stroke: #A80036; stroke-width: 1.5;\" width=\"113\" x=\"402.5\" y=\"495\"/><ellipse cx=\"417.5\" cy=\"513.9688\" fill=\"#FFA500\" rx=\"11\" ry=\"11\" style=\"stroke: #A80036; stroke-width: 1.0;\"/><path d=\"M417.25,519.4375 Q415.5,519.4375 414.5469,518.4063 Q413.6094,517.3594 413.6094,515.5156 L413.6094,508.625 L415.6719,508.625 L415.6719,508.7813 Q415.5781,508.875 415.5469,509.0156 Q415.5313,509.1406 415.5313,509.4063 L415.5313,515.5313 Q415.5313,516.625 415.9063,517.25 Q416.2813,517.875 417.2656,517.875 Q418.25,517.875 418.6406,517.25 Q419.0313,516.625 419.0313,515.4844 L419.0313,508.625 L420.9063,508.625 L420.9063,515.4688 Q420.9063,517.5 419.875,518.4688 Q418.8594,519.4375 417.25,519.4375 Z \"/><text fill=\"#000000\" font-family=\"sans-serif\" font-size=\"12\" font-style=\"italic\" lengthAdjust=\"spacingAndGlyphs\" textLength=\"85\" x=\"429.5\" y=\"511.1387\">«occurrence»</text><text fill=\"#000000\" font-family=\"sans-serif\" font-size=\"12\" lengthAdjust=\"spacingAndGlyphs\" textLength=\"15\" x=\"462.5\" y=\"525.1074\">s2</text><line style=\"stroke: #A80036; stroke-width: 1.5;\" x1=\"403.5\" x2=\"514.5\" y1=\"532.9375\" y2=\"532.9375\"/></a><!--MD5=[fd4143e9d270a159db93a4ea2a975926]\n",
       "class E9--><a href=\"psysml:ae0fd4ea-8dc7-4cb0-a32c-5615a8f756eb\" target=\"_top\" title=\"psysml:ae0fd4ea-8dc7-4cb0-a32c-5615a8f756eb\" xlink:actuate=\"onRequest\" xlink:href=\"psysml:ae0fd4ea-8dc7-4cb0-a32c-5615a8f756eb\" xlink:show=\"new\" xlink:title=\"psysml:ae0fd4ea-8dc7-4cb0-a32c-5615a8f756eb\" xlink:type=\"simple\"><rect fill=\"#FEFECE\" filter=\"url(#fpqxujo4z04ib)\" height=\"45.9375\" id=\"E9\" rx=\"10\" ry=\"10\" style=\"stroke: #A80036; stroke-width: 1.5;\" width=\"113\" x=\"550.5\" y=\"495\"/><ellipse cx=\"565.5\" cy=\"513.9688\" fill=\"#FFA500\" rx=\"11\" ry=\"11\" style=\"stroke: #A80036; stroke-width: 1.0;\"/><path d=\"M565.25,519.4375 Q563.5,519.4375 562.5469,518.4063 Q561.6094,517.3594 561.6094,515.5156 L561.6094,508.625 L563.6719,508.625 L563.6719,508.7813 Q563.5781,508.875 563.5469,509.0156 Q563.5313,509.1406 563.5313,509.4063 L563.5313,515.5313 Q563.5313,516.625 563.9063,517.25 Q564.2813,517.875 565.2656,517.875 Q566.25,517.875 566.6406,517.25 Q567.0313,516.625 567.0313,515.4844 L567.0313,508.625 L568.9063,508.625 L568.9063,515.4688 Q568.9063,517.5 567.875,518.4688 Q566.8594,519.4375 565.25,519.4375 Z \"/><text fill=\"#000000\" font-family=\"sans-serif\" font-size=\"12\" font-style=\"italic\" lengthAdjust=\"spacingAndGlyphs\" textLength=\"85\" x=\"577.5\" y=\"511.1387\">«occurrence»</text><text fill=\"#000000\" font-family=\"sans-serif\" font-size=\"12\" lengthAdjust=\"spacingAndGlyphs\" textLength=\"13\" x=\"611.5\" y=\"525.1074\">t2</text><line style=\"stroke: #A80036; stroke-width: 1.5;\" x1=\"551.5\" x2=\"662.5\" y1=\"532.9375\" y2=\"532.9375\"/></a><!--MD5=[96f4274e9e20536e775497830990834d]\n",
       "class E10--><a href=\"psysml:90168d9a-6358-4939-88d7-8ec9974b52c6\" target=\"_top\" title=\"psysml:90168d9a-6358-4939-88d7-8ec9974b52c6\" xlink:actuate=\"onRequest\" xlink:href=\"psysml:90168d9a-6358-4939-88d7-8ec9974b52c6\" xlink:show=\"new\" xlink:title=\"psysml:90168d9a-6358-4939-88d7-8ec9974b52c6\" xlink:type=\"simple\"><rect fill=\"#FEFECE\" filter=\"url(#fpqxujo4z04ib)\" height=\"45.9375\" id=\"E10\" rx=\"10\" ry=\"10\" style=\"stroke: #A80036; stroke-width: 1.5;\" width=\"113\" x=\"466.5\" y=\"41\"/><ellipse cx=\"481.5\" cy=\"59.9688\" fill=\"#FFA500\" rx=\"11\" ry=\"11\" style=\"stroke: #A80036; stroke-width: 1.0;\"/><path d=\"M481.25,65.4375 Q479.5,65.4375 478.5469,64.4063 Q477.6094,63.3594 477.6094,61.5156 L477.6094,54.625 L479.6719,54.625 L479.6719,54.7813 Q479.5781,54.875 479.5469,55.0156 Q479.5313,55.1406 479.5313,55.4063 L479.5313,61.5313 Q479.5313,62.625 479.9063,63.25 Q480.2813,63.875 481.2656,63.875 Q482.25,63.875 482.6406,63.25 Q483.0313,62.625 483.0313,61.4844 L483.0313,54.625 L484.9063,54.625 L484.9063,61.4688 Q484.9063,63.5 483.875,64.4688 Q482.8594,65.4375 481.25,65.4375 Z \"/><text fill=\"#000000\" font-family=\"sans-serif\" font-size=\"12\" font-style=\"italic\" lengthAdjust=\"spacingAndGlyphs\" textLength=\"85\" x=\"493.5\" y=\"57.1387\">«occurrence»</text><text fill=\"#000000\" font-family=\"sans-serif\" font-size=\"12\" lengthAdjust=\"spacingAndGlyphs\" textLength=\"77\" x=\"495.5\" y=\"71.1074\">ind: Ind, Occ</text><line style=\"stroke: #A80036; stroke-width: 1.5;\" x1=\"467.5\" x2=\"578.5\" y1=\"78.9375\" y2=\"78.9375\"/></a><!--MD5=[1dd1bfd58a279cf63c5f349dbc8fc6a1]\n",
       "class E11--><a href=\"psysml:d0eba55f-a402-4b22-88ba-9857d6bd50ac\" target=\"_top\" title=\"psysml:d0eba55f-a402-4b22-88ba-9857d6bd50ac\" xlink:actuate=\"onRequest\" xlink:href=\"psysml:d0eba55f-a402-4b22-88ba-9857d6bd50ac\" xlink:show=\"new\" xlink:title=\"psysml:d0eba55f-a402-4b22-88ba-9857d6bd50ac\" xlink:type=\"simple\"><rect fill=\"#FEFECE\" filter=\"url(#fpqxujo4z04ib)\" height=\"45.9375\" id=\"E11\" rx=\"10\" ry=\"10\" style=\"stroke: #A80036; stroke-width: 1.5;\" width=\"113\" x=\"513.5\" y=\"162\"/><ellipse cx=\"528.5\" cy=\"180.9688\" fill=\"#FFA500\" rx=\"11\" ry=\"11\" style=\"stroke: #A80036; stroke-width: 1.0;\"/><path d=\"M528.25,186.4375 Q526.5,186.4375 525.5469,185.4063 Q524.6094,184.3594 524.6094,182.5156 L524.6094,175.625 L526.6719,175.625 L526.6719,175.7813 Q526.5781,175.875 526.5469,176.0156 Q526.5313,176.1406 526.5313,176.4063 L526.5313,182.5313 Q526.5313,183.625 526.9063,184.25 Q527.2813,184.875 528.2656,184.875 Q529.25,184.875 529.6406,184.25 Q530.0313,183.625 530.0313,182.4844 L530.0313,175.625 L531.9063,175.625 L531.9063,182.4688 Q531.9063,184.5 530.875,185.4688 Q529.8594,186.4375 528.25,186.4375 Z \"/><text fill=\"#000000\" font-family=\"sans-serif\" font-size=\"12\" font-style=\"italic\" lengthAdjust=\"spacingAndGlyphs\" textLength=\"85\" x=\"540.5\" y=\"178.1387\">«occurrence»</text><text fill=\"#000000\" font-family=\"sans-serif\" font-size=\"12\" lengthAdjust=\"spacingAndGlyphs\" textLength=\"15\" x=\"573.5\" y=\"192.1074\">s3</text><line style=\"stroke: #A80036; stroke-width: 1.5;\" x1=\"514.5\" x2=\"625.5\" y1=\"199.9375\" y2=\"199.9375\"/></a><!--MD5=[49a0ec8f00dab7302a31f22d0f0fe584]\n",
       "class E12--><a href=\"psysml:0232df4f-93e4-4add-8902-f942e03a0634\" target=\"_top\" title=\"psysml:0232df4f-93e4-4add-8902-f942e03a0634\" xlink:actuate=\"onRequest\" xlink:href=\"psysml:0232df4f-93e4-4add-8902-f942e03a0634\" xlink:show=\"new\" xlink:title=\"psysml:0232df4f-93e4-4add-8902-f942e03a0634\" xlink:type=\"simple\"><rect fill=\"#FEFECE\" filter=\"url(#fpqxujo4z04ib)\" height=\"45.9375\" id=\"E12\" rx=\"10\" ry=\"10\" style=\"stroke: #A80036; stroke-width: 1.5;\" width=\"113\" x=\"661.5\" y=\"162\"/><ellipse cx=\"676.5\" cy=\"180.9688\" fill=\"#FFA500\" rx=\"11\" ry=\"11\" style=\"stroke: #A80036; stroke-width: 1.0;\"/><path d=\"M676.25,186.4375 Q674.5,186.4375 673.5469,185.4063 Q672.6094,184.3594 672.6094,182.5156 L672.6094,175.625 L674.6719,175.625 L674.6719,175.7813 Q674.5781,175.875 674.5469,176.0156 Q674.5313,176.1406 674.5313,176.4063 L674.5313,182.5313 Q674.5313,183.625 674.9063,184.25 Q675.2813,184.875 676.2656,184.875 Q677.25,184.875 677.6406,184.25 Q678.0313,183.625 678.0313,182.4844 L678.0313,175.625 L679.9063,175.625 L679.9063,182.4688 Q679.9063,184.5 678.875,185.4688 Q677.8594,186.4375 676.25,186.4375 Z \"/><text fill=\"#000000\" font-family=\"sans-serif\" font-size=\"12\" font-style=\"italic\" lengthAdjust=\"spacingAndGlyphs\" textLength=\"85\" x=\"688.5\" y=\"178.1387\">«occurrence»</text><text fill=\"#000000\" font-family=\"sans-serif\" font-size=\"12\" lengthAdjust=\"spacingAndGlyphs\" textLength=\"13\" x=\"722.5\" y=\"192.1074\">t3</text><line style=\"stroke: #A80036; stroke-width: 1.5;\" x1=\"662.5\" x2=\"773.5\" y1=\"199.9375\" y2=\"199.9375\"/></a><!--MD5=[ee3c913d1a06f366521f9ef512b67efe]\n",
       "class E13--><a href=\"psysml:5cbde71f-e2d0-40cd-91ed-92f5bc776eb7\" target=\"_top\" title=\"psysml:5cbde71f-e2d0-40cd-91ed-92f5bc776eb7\" xlink:actuate=\"onRequest\" xlink:href=\"psysml:5cbde71f-e2d0-40cd-91ed-92f5bc776eb7\" xlink:show=\"new\" xlink:title=\"psysml:5cbde71f-e2d0-40cd-91ed-92f5bc776eb7\" xlink:type=\"simple\"><rect fill=\"#FEFECE\" filter=\"url(#fpqxujo4z04ib)\" height=\"45.9375\" id=\"E13\" rx=\"10\" ry=\"10\" style=\"stroke: #A80036; stroke-width: 1.5;\" width=\"113\" x=\"32.5\" y=\"283\"/><ellipse cx=\"47.5\" cy=\"301.9688\" fill=\"#FFA500\" rx=\"11\" ry=\"11\" style=\"stroke: #A80036; stroke-width: 1.0;\"/><path d=\"M47.25,307.4375 Q45.5,307.4375 44.5469,306.4063 Q43.6094,305.3594 43.6094,303.5156 L43.6094,296.625 L45.6719,296.625 L45.6719,296.7813 Q45.5781,296.875 45.5469,297.0156 Q45.5313,297.1406 45.5313,297.4063 L45.5313,303.5313 Q45.5313,304.625 45.9063,305.25 Q46.2813,305.875 47.2656,305.875 Q48.25,305.875 48.6406,305.25 Q49.0313,304.625 49.0313,303.4844 L49.0313,296.625 L50.9063,296.625 L50.9063,303.4688 Q50.9063,305.5 49.875,306.4688 Q48.8594,307.4375 47.25,307.4375 Z \"/><text fill=\"#000000\" font-family=\"sans-serif\" font-size=\"12\" font-style=\"italic\" lengthAdjust=\"spacingAndGlyphs\" textLength=\"85\" x=\"59.5\" y=\"299.1387\">«occurrence»</text><text fill=\"#000000\" font-family=\"sans-serif\" font-size=\"12\" lengthAdjust=\"spacingAndGlyphs\" textLength=\"42\" x=\"79\" y=\"313.1074\">s4: Ind</text><line style=\"stroke: #A80036; stroke-width: 1.5;\" x1=\"33.5\" x2=\"144.5\" y1=\"320.9375\" y2=\"320.9375\"/></a><!--MD5=[209b3feb70ccb6233bfe1053d122c12c]\n",
       "reverse link E2 to E3--><a href=\"psysml:111e77a4-44f2-45ac-862d-a1e02a1cad26\" target=\"_top\" title=\"psysml:111e77a4-44f2-45ac-862d-a1e02a1cad26\" xlink:actuate=\"onRequest\" xlink:href=\"psysml:111e77a4-44f2-45ac-862d-a1e02a1cad26\" xlink:show=\"new\" xlink:title=\"psysml:111e77a4-44f2-45ac-862d-a1e02a1cad26\" xlink:type=\"simple\"><path d=\"M306.73,231.49 C286.2,249.12 265.3,268.5 251.49,282.93 \" fill=\"none\" id=\"E2&lt;-E3\" style=\"stroke: #A80036; stroke-width: 1.0;\"/><polygon fill=\"#FFFFFF\" points=\"316.74,223,309.5759,223.8216,307.5789,230.7507,314.743,229.9291,316.74,223\" style=\"stroke: #A80036; stroke-width: 1.0;\"/></a><!--MD5=[05d275557350bfb9b23a4ef7222b4c39]\n",
       "link E3 to E2--><a href=\"psysml:0f45e557-8f0e-4df9-b1d8-28bd2526f5a3\" target=\"_top\" title=\"psysml:0f45e557-8f0e-4df9-b1d8-28bd2526f5a3\" xlink:actuate=\"onRequest\" xlink:href=\"psysml:0f45e557-8f0e-4df9-b1d8-28bd2526f5a3\" xlink:show=\"new\" xlink:title=\"psysml:0f45e557-8f0e-4df9-b1d8-28bd2526f5a3\" xlink:type=\"simple\"><path d=\"M272.44,282.93 C289.17,269.94 309.03,252.95 326.57,236.82 \" fill=\"none\" id=\"E3-&gt;E2\" style=\"stroke: #A80036; stroke-width: 1.0;\"/><polygon fill=\"#FFFFFF\" points=\"341.25,223,332.2118,241.1193,322.6166,230.9245,341.25,223\" style=\"stroke: #A80036; stroke-width: 1.0;\"/><ellipse cx=\"326.6903\" cy=\"243.5695\" fill=\"#A80036\" rx=\"2\" ry=\"2\" style=\"stroke: #A80036; stroke-width: 1.0;\"/><ellipse cx=\"319.8366\" cy=\"236.2875\" fill=\"#A80036\" rx=\"2\" ry=\"2\" style=\"stroke: #A80036; stroke-width: 1.0;\"/></a><!--MD5=[9618e71518536f8baf3342ff6fdab317]\n",
       "reverse link E2 to E4--><a href=\"psysml:7f5381ff-79d6-4175-8599-1b084d5a38fb\" target=\"_top\" title=\"psysml:7f5381ff-79d6-4175-8599-1b084d5a38fb\" xlink:actuate=\"onRequest\" xlink:href=\"psysml:7f5381ff-79d6-4175-8599-1b084d5a38fb\" xlink:show=\"new\" xlink:title=\"psysml:7f5381ff-79d6-4175-8599-1b084d5a38fb\" xlink:type=\"simple\"><path d=\"M363.73,236.34 C365.3,252.61 368.28,269.81 372.05,282.93 \" fill=\"none\" id=\"E2&lt;-E4\" style=\"stroke: #A80036; stroke-width: 1.0;\"/><polygon fill=\"#A80036\" points=\"362.76,223,359.206,229.2745,363.6309,234.9684,367.1849,228.6939,362.76,223\" style=\"stroke: #A80036; stroke-width: 1.0;\"/></a><!--MD5=[185131fc0dcab0a4505a2ebe144e961b]\n",
       "link E4 to E2--><a href=\"psysml:9af83ecd-fc65-4272-8374-c2ac75a0337a\" target=\"_top\" title=\"psysml:9af83ecd-fc65-4272-8374-c2ac75a0337a\" xlink:actuate=\"onRequest\" xlink:href=\"psysml:9af83ecd-fc65-4272-8374-c2ac75a0337a\" xlink:show=\"new\" xlink:title=\"psysml:9af83ecd-fc65-4272-8374-c2ac75a0337a\" xlink:type=\"simple\"><path d=\"M392.99,282.93 C393.5,271.52 392.57,257.01 390.64,242.72 \" fill=\"none\" id=\"E4-&gt;E2\" style=\"stroke: #A80036; stroke-width: 1.0;\"/><polygon fill=\"#FFFFFF\" points=\"387.27,223,397.3603,240.5553,383.5589,242.9055,387.27,223\" style=\"stroke: #A80036; stroke-width: 1.0;\"/><ellipse cx=\"396.3455\" cy=\"246.5101\" fill=\"#A80036\" rx=\"2\" ry=\"2\" style=\"stroke: #A80036; stroke-width: 1.0;\"/><ellipse cx=\"386.4874\" cy=\"248.1888\" fill=\"#A80036\" rx=\"2\" ry=\"2\" style=\"stroke: #A80036; stroke-width: 1.0;\"/></a><!--MD5=[4e1a83fab71cdb913c109063314ae896]\n",
       "reverse link E2 to E5--><a href=\"psysml:648e9e41-ac7c-450e-af70-439d81f3f540\" target=\"_top\" title=\"psysml:648e9e41-ac7c-450e-af70-439d81f3f540\" xlink:actuate=\"onRequest\" xlink:href=\"psysml:648e9e41-ac7c-450e-af70-439d81f3f540\" xlink:show=\"new\" xlink:title=\"psysml:648e9e41-ac7c-450e-af70-439d81f3f540\" xlink:type=\"simple\"><path d=\"M431.32,230.77 C455.74,248.59 482.73,268.3 502.77,282.93 \" fill=\"none\" id=\"E2&lt;-E5\" style=\"stroke: #A80036; stroke-width: 1.0;\"/><polygon fill=\"#A80036\" points=\"420.68,223,423.171,229.7672,430.3757,230.0706,427.8847,223.3034,420.68,223\" style=\"stroke: #A80036; stroke-width: 1.0;\"/></a><!--MD5=[ce036f65110ae2351ccce5a81dc2e928]\n",
       "reverse link E2 to E6--><a href=\"psysml:00b8b9a4-593e-406d-b505-212ff2a7c9c1\" target=\"_top\" title=\"psysml:00b8b9a4-593e-406d-b505-212ff2a7c9c1\" xlink:actuate=\"onRequest\" xlink:href=\"psysml:00b8b9a4-593e-406d-b505-212ff2a7c9c1\" xlink:show=\"new\" xlink:title=\"psysml:00b8b9a4-593e-406d-b505-212ff2a7c9c1\" xlink:type=\"simple\"><path d=\"M452.92,217.73 C507.04,238.44 576.28,264.93 624.2,283.27 \" fill=\"none\" id=\"E2&lt;-E6\" style=\"stroke: #A80036; stroke-width: 1.0;\"/><polygon fill=\"#A80036\" points=\"440.57,213,444.7458,218.879,451.7786,217.2856,447.6029,211.4066,440.57,213\" style=\"stroke: #A80036; stroke-width: 1.0;\"/></a><!--MD5=[3a9b96bfbf6b6ad89c494e81751bda47]\n",
       "link E5 to E7--><a href=\"psysml:088b8ee7-f1bc-4574-b816-43bcf4f14b77\" target=\"_top\" title=\"psysml:088b8ee7-f1bc-4574-b816-43bcf4f14b77\" xlink:actuate=\"onRequest\" xlink:href=\"psysml:088b8ee7-f1bc-4574-b816-43bcf4f14b77\" xlink:show=\"new\" xlink:title=\"psysml:088b8ee7-f1bc-4574-b816-43bcf4f14b77\" xlink:type=\"simple\"><path d=\"M533,329.06 C533,340.64 533,355.23 533,368.87 \" fill=\"none\" id=\"E5-&gt;E7\" style=\"stroke: #A80036; stroke-width: 1.0;\"/><polygon fill=\"#FFFFFF\" points=\"533,388.98,526,369.98,540,369.98,533,388.98\" style=\"stroke: #A80036; stroke-width: 1.0;\"/><ellipse cx=\"528\" cy=\"364.28\" fill=\"#A80036\" rx=\"2\" ry=\"2\" style=\"stroke: #A80036; stroke-width: 1.0;\"/><ellipse cx=\"538\" cy=\"364.28\" fill=\"#A80036\" rx=\"2\" ry=\"2\" style=\"stroke: #A80036; stroke-width: 1.0;\"/></a><!--MD5=[dc164f5e8a733ab456ef1add180e9e34]\n",
       "reverse link E7 to E8--><a href=\"psysml:c8813ef9-ffa9-4c9d-80a4-dd20f6c80ea5\" target=\"_top\" title=\"psysml:c8813ef9-ffa9-4c9d-80a4-dd20f6c80ea5\" xlink:actuate=\"onRequest\" xlink:href=\"psysml:c8813ef9-ffa9-4c9d-80a4-dd20f6c80ea5\" xlink:show=\"new\" xlink:title=\"psysml:c8813ef9-ffa9-4c9d-80a4-dd20f6c80ea5\" xlink:type=\"simple\"><path d=\"M509.45,446.09 C498.09,462.06 484.77,480.78 474.67,494.98 \" fill=\"none\" id=\"E7&lt;-E8\" style=\"stroke: #A80036; stroke-width: 1.0;\"/><polygon fill=\"#A80036\" points=\"517.31,435.06,510.5722,437.6295,510.3526,444.8373,517.0904,442.2678,517.31,435.06\" style=\"stroke: #A80036; stroke-width: 1.0;\"/></a><!--MD5=[e4a10ef82d0e328e31cac39a31e58dda]\n",
       "reverse link E7 to E9--><a href=\"psysml:cdca8d7c-6aa5-4fff-9e0e-900e3ba85343\" target=\"_top\" title=\"psysml:cdca8d7c-6aa5-4fff-9e0e-900e3ba85343\" xlink:actuate=\"onRequest\" xlink:href=\"psysml:cdca8d7c-6aa5-4fff-9e0e-900e3ba85343\" xlink:show=\"new\" xlink:title=\"psysml:cdca8d7c-6aa5-4fff-9e0e-900e3ba85343\" xlink:type=\"simple\"><path d=\"M556.55,446.09 C567.91,462.06 581.23,480.78 591.33,494.98 \" fill=\"none\" id=\"E7&lt;-E9\" style=\"stroke: #A80036; stroke-width: 1.0;\"/><polygon fill=\"#A80036\" points=\"548.69,435.06,548.9096,442.2678,555.6474,444.8373,555.4278,437.6295,548.69,435.06\" style=\"stroke: #A80036; stroke-width: 1.0;\"/></a><!--MD5=[a919e0967d6f3de553dc51b9865a1d6d]\n",
       "link E10 to E7--><a href=\"psysml:43f26010-ca40-42d6-8df0-e4847d82fc63\" target=\"_top\" title=\"psysml:43f26010-ca40-42d6-8df0-e4847d82fc63\" xlink:actuate=\"onRequest\" xlink:href=\"psysml:43f26010-ca40-42d6-8df0-e4847d82fc63\" xlink:show=\"new\" xlink:title=\"psysml:43f26010-ca40-42d6-8df0-e4847d82fc63\" xlink:type=\"simple\"><path d=\"M509.64,87.03 C491.43,120.22 464.49,183.35 496,223 C569.52,315.5 681.48,190.5 755,283 C799.02,338.38 702.69,374.35 623.39,393.66 \" fill=\"none\" id=\"E10-&gt;E7\" style=\"stroke: #A80036; stroke-width: 1.0;\"/><polygon fill=\"#FFFFFF\" points=\"603.69,398.21,620.6276,387.1142,623.7779,400.7552,603.69,398.21\" style=\"stroke: #A80036; stroke-width: 1.0;\"/><ellipse cx=\"626.6315\" cy=\"387.7803\" fill=\"#A80036\" rx=\"2\" ry=\"2\" style=\"stroke: #A80036; stroke-width: 1.0;\"/><ellipse cx=\"628.8817\" cy=\"397.5239\" fill=\"#A80036\" rx=\"2\" ry=\"2\" style=\"stroke: #A80036; stroke-width: 1.0;\"/></a><!--MD5=[0f36bececdf0dff6e600d6f64214b0f1]\n",
       "link E10 to E2--><a href=\"psysml:ac89f7fb-b091-4bc7-aaea-6377fc157ffe\" target=\"_top\" title=\"psysml:ac89f7fb-b091-4bc7-aaea-6377fc157ffe\" xlink:actuate=\"onRequest\" xlink:href=\"psysml:ac89f7fb-b091-4bc7-aaea-6377fc157ffe\" xlink:show=\"new\" xlink:title=\"psysml:ac89f7fb-b091-4bc7-aaea-6377fc157ffe\" xlink:type=\"simple\"><path d=\"M494.58,87.1 C477.43,100.44 454.87,117.99 433.65,134.49 \" fill=\"none\" id=\"E10-&gt;E2\" style=\"stroke: #A80036; stroke-width: 1.0;\"/><polygon fill=\"#FFFFFF\" points=\"417.81,146.81,428.5047,129.6163,437.1034,140.6646,417.81,146.81\" style=\"stroke: #A80036; stroke-width: 1.0;\"/><ellipse cx=\"434.2313\" cy=\"127.6938\" fill=\"#A80036\" rx=\"2\" ry=\"2\" style=\"stroke: #A80036; stroke-width: 1.0;\"/><ellipse cx=\"440.3732\" cy=\"135.5854\" fill=\"#A80036\" rx=\"2\" ry=\"2\" style=\"stroke: #A80036; stroke-width: 1.0;\"/></a><!--MD5=[de308be4a2431766a05a907a031c07fc]\n",
       "reverse link E10 to E11--><a href=\"psysml:75c081c5-05e2-401c-b103-d900689a3a49\" target=\"_top\" title=\"psysml:75c081c5-05e2-401c-b103-d900689a3a49\" xlink:actuate=\"onRequest\" xlink:href=\"psysml:75c081c5-05e2-401c-b103-d900689a3a49\" xlink:show=\"new\" xlink:title=\"psysml:75c081c5-05e2-401c-b103-d900689a3a49\" xlink:type=\"simple\"><path d=\"M536.61,99.47 C544.52,119.48 554.24,144.11 561.16,161.61 \" fill=\"none\" id=\"E10&lt;-E11\" style=\"stroke: #A80036; stroke-width: 1.0;\"/><polygon fill=\"#A80036\" points=\"531.73,87.1,530.2171,94.1506,536.1435,98.2589,537.6564,91.2083,531.73,87.1\" style=\"stroke: #A80036; stroke-width: 1.0;\"/></a><!--MD5=[1d54f998c6d5961a1a9184be73a7eb6c]\n",
       "reverse link E10 to E12--><a href=\"psysml:54130436-8b1f-4706-a610-d99b2d4cb5d4\" target=\"_top\" title=\"psysml:54130436-8b1f-4706-a610-d99b2d4cb5d4\" xlink:actuate=\"onRequest\" xlink:href=\"psysml:54130436-8b1f-4706-a610-d99b2d4cb5d4\" xlink:show=\"new\" xlink:title=\"psysml:54130436-8b1f-4706-a610-d99b2d4cb5d4\" xlink:type=\"simple\"><path d=\"M570.37,93.91 C604.63,114.81 650.23,142.64 681.64,161.81 \" fill=\"none\" id=\"E10&lt;-E12\" style=\"stroke: #A80036; stroke-width: 1.0;\"/><polygon fill=\"#A80036\" points=\"559.22,87.1,562.259,93.6395,569.4643,93.3494,566.4253,86.8099,559.22,87.1\" style=\"stroke: #A80036; stroke-width: 1.0;\"/></a><!--MD5=[4a48077df6499cfcd20b62e8f5f37904]\n",
       "link E13 to E7--><a href=\"psysml:85f16706-e1b7-404d-9ee5-57d420bfb7f2\" target=\"_top\" title=\"psysml:85f16706-e1b7-404d-9ee5-57d420bfb7f2\" xlink:actuate=\"onRequest\" xlink:href=\"psysml:85f16706-e1b7-404d-9ee5-57d420bfb7f2\" xlink:show=\"new\" xlink:title=\"psysml:85f16706-e1b7-404d-9ee5-57d420bfb7f2\" xlink:type=\"simple\"><path d=\"M145.85,324.34 C151.63,325.97 157.42,327.55 163,329 C257.81,353.57 367.45,377.29 442.63,392.84 \" fill=\"none\" id=\"E13-&gt;E7\" style=\"stroke: #A80036; stroke-width: 1.0;\"/><polygon fill=\"#FFFFFF\" points=\"462.4,396.91,442.3793,399.9385,445.1999,386.2256,462.4,396.91\" style=\"stroke: #A80036; stroke-width: 1.0;\"/><ellipse cx=\"437.1991\" cy=\"396.8311\" fill=\"#A80036\" rx=\"2\" ry=\"2\" style=\"stroke: #A80036; stroke-width: 1.0;\"/><ellipse cx=\"439.2138\" cy=\"387.0362\" fill=\"#A80036\" rx=\"2\" ry=\"2\" style=\"stroke: #A80036; stroke-width: 1.0;\"/></a><!--MD5=[da2f3eef27b34bf73a5f8fe0425c8ad0]\n",
       "@startuml\r\n",
       " \r\n",
       "package \"OccurrenceTest\" as E1  [[psysml:53f1d42d-2686-4f4b-950f-b84b40bc19b2 ]]  {\r\n",
       "comp def \"Occ\" as E2 << <<(D,brown) occurrence  def>> [[psysml:77ba500d-77fd-484e-b411-8833010da35e ]] {\r\n",
       "- - attributes - -\r\n",
       "a\r\n",
       "}\r\n",
       "comp usage \"occ1: Occ \" as E3 << <<(U,orange) occurrence>> [[psysml:37011562-c12e-4ce2-bbf9-af5619a300f0 ]] {\r\n",
       "}\r\n",
       "comp usage \"occ2: Occ \" as E4 << <<(U,orange) occurrence>> [[psysml:3522e0a2-d0dd-4c95-916a-e9f89fbadd86 ]] {\r\n",
       "}\r\n",
       "comp usage \"s: Ind \" as E5 << individual snapshot <<(U,orange) occurrence>> [[psysml:2ba1b44f-ac88-49ba-a1da-8edc5df2da3a ]] {\r\n",
       "}\r\n",
       "comp usage \"t \" as E6 << timeslice <<(U,orange) occurrence>> [[psysml:aefaf76d-f241-48e8-80ea-b99598299972 ]] {\r\n",
       "}\r\n",
       "comp def \"Ind\" as E7 << individual <<(D,brown) occurrence  def>> [[psysml:991e81ed-291b-4563-955c-44288cc9fc81 ]] {\r\n",
       "}\r\n",
       "comp usage \"s2 \" as E8 << snapshot <<(U,orange) occurrence>> [[psysml:fb7dbc0d-a670-4e6d-a2b6-24a9a70c023a ]] {\r\n",
       "}\r\n",
       "comp usage \"t2 \" as E9 << timeslice <<(U,orange) occurrence>> [[psysml:ae0fd4ea-8dc7-4cb0-a32c-5615a8f756eb ]] {\r\n",
       "}\r\n",
       "comp usage \"ind: Ind, Occ \" as E10 << individual <<(U,orange) occurrence>> [[psysml:90168d9a-6358-4939-88d7-8ec9974b52c6 ]] {\r\n",
       "}\r\n",
       "comp usage \"s3 \" as E11 << snapshot <<(U,orange) occurrence>> [[psysml:d0eba55f-a402-4b22-88ba-9857d6bd50ac ]] {\r\n",
       "}\r\n",
       "comp usage \"t3 \" as E12 << individual timeslice <<(U,orange) occurrence>> [[psysml:0232df4f-93e4-4add-8902-f942e03a0634 ]] {\r\n",
       "}\r\n",
       "comp usage \"s4: Ind \" as E13 << individual snapshot <<(U,orange) occurrence>> [[psysml:5cbde71f-e2d0-40cd-91ed-92f5bc776eb7 ]] {\r\n",
       "}\r\n",
       "}\r\n",
       "E2 o- - E3 [[psysml:111e77a4-44f2-45ac-862d-a1e02a1cad26 ]] \r\n",
       "E3 - -:|> E2 [[psysml:0f45e557-8f0e-4df9-b1d8-28bd2526f5a3 ]] \r\n",
       "E2 *- - E4 [[psysml:7f5381ff-79d6-4175-8599-1b084d5a38fb ]] \r\n",
       "E4 - -:|> E2 [[psysml:9af83ecd-fc65-4272-8374-c2ac75a0337a ]] \r\n",
       "E2 *- - E5 [[psysml:648e9e41-ac7c-450e-af70-439d81f3f540 ]] \r\n",
       "E2 *- - E6 [[psysml:00b8b9a4-593e-406d-b505-212ff2a7c9c1 ]] \r\n",
       "E5 - -:|> E7 [[psysml:088b8ee7-f1bc-4574-b816-43bcf4f14b77 ]] \r\n",
       "E7 *- - E8 [[psysml:c8813ef9-ffa9-4c9d-80a4-dd20f6c80ea5 ]] \r\n",
       "E7 *- - E9 [[psysml:cdca8d7c-6aa5-4fff-9e0e-900e3ba85343 ]] \r\n",
       "E10 - -:|> E7 [[psysml:43f26010-ca40-42d6-8df0-e4847d82fc63 ]] \r\n",
       "E10 - -:|> E2 [[psysml:ac89f7fb-b091-4bc7-aaea-6377fc157ffe ]] \r\n",
       "E10 *- - E11 [[psysml:75c081c5-05e2-401c-b103-d900689a3a49 ]] \r\n",
       "E10 *- - E12 [[psysml:54130436-8b1f-4706-a610-d99b2d4cb5d4 ]] \r\n",
       "E13 - -:|> E7 [[psysml:85f16706-e1b7-404d-9ee5-57d420bfb7f2 ]] \r\n",
       "@enduml\r\n",
       "\n",
       "PlantUML version 1.2020.13(Sat Jun 13 12:26:38 UTC 2020)\n",
       "(EPL source distribution)\n",
       "Java Runtime: OpenJDK Runtime Environment\n",
       "JVM: OpenJDK 64-Bit Server VM\n",
       "Default Encoding: UTF-8\n",
       "Language: en\n",
       "Country: null\n",
       "--></g></svg>"
      ]
     },
     "execution_count": 36,
     "metadata": {},
     "output_type": "execute_result"
    }
   ],
   "source": [
    "%viz --style=\"PLANTUML\" --view=\"MIXED\" \"OccurrenceTest\""
   ]
  },
  {
   "cell_type": "code",
   "execution_count": 37,
   "id": "f6055d84",
   "metadata": {
    "execution": {
     "iopub.execute_input": "2022-07-23T10:52:33.364254Z",
     "iopub.status.busy": "2022-07-23T10:52:33.363800Z",
     "iopub.status.idle": "2022-07-23T10:52:33.418095Z",
     "shell.execute_reply": "2022-07-23T10:52:33.415732Z"
    }
   },
   "outputs": [
    {
     "data": {
      "image/svg+xml": [
       "<?xml version=\"1.0\" encoding=\"UTF-8\" standalone=\"no\"?><svg xmlns=\"http://www.w3.org/2000/svg\" xmlns:xlink=\"http://www.w3.org/1999/xlink\" contentScriptType=\"application/ecmascript\" contentStyleType=\"text/css\" height=\"569px\" preserveAspectRatio=\"none\" style=\"width:1009px;height:569px;\" version=\"1.1\" viewBox=\"0 0 1009 569\" width=\"1009px\" zoomAndPan=\"magnify\"><defs/><g><!--MD5=[fbc87193dbaf4d95561dea2c320d4a47]\n",
       "cluster E1--><a href=\"psysml:53f1d42d-2686-4f4b-950f-b84b40bc19b2\" target=\"_top\" title=\"psysml:53f1d42d-2686-4f4b-950f-b84b40bc19b2\" xlink:actuate=\"onRequest\" xlink:href=\"psysml:53f1d42d-2686-4f4b-950f-b84b40bc19b2\" xlink:show=\"new\" xlink:title=\"psysml:53f1d42d-2686-4f4b-950f-b84b40bc19b2\" xlink:type=\"simple\"><polygon fill=\"#FFFFFF\" points=\"16,6,134,6,141,28.2969,970,28.2969,970,557,16,557,16,6\" style=\"stroke: #000000; stroke-width: 1.5;\"/><line style=\"stroke: #000000; stroke-width: 1.5;\" x1=\"16\" x2=\"141\" y1=\"28.2969\" y2=\"28.2969\"/><text fill=\"#000000\" font-family=\"sans-serif\" font-size=\"14\" font-weight=\"bold\" lengthAdjust=\"spacingAndGlyphs\" textLength=\"112\" x=\"20\" y=\"20.9951\">OccurrenceTest</text></a><!--MD5=[b4997ac47864f28c2f74865a473b2911]\n",
       "class E2--><a href=\"psysml:77ba500d-77fd-484e-b411-8833010da35e\" target=\"_top\" title=\"psysml:77ba500d-77fd-484e-b411-8833010da35e\" xlink:actuate=\"onRequest\" xlink:href=\"psysml:77ba500d-77fd-484e-b411-8833010da35e\" xlink:show=\"new\" xlink:title=\"psysml:77ba500d-77fd-484e-b411-8833010da35e\" xlink:type=\"simple\"><rect fill=\"#FFFFFF\" height=\"75.5469\" id=\"E2\" style=\"stroke: #383838; stroke-width: 1.5;\" width=\"115\" x=\"373.5\" y=\"147\"/><text fill=\"#000000\" font-family=\"sans-serif\" font-size=\"12\" font-style=\"italic\" lengthAdjust=\"spacingAndGlyphs\" textLength=\"113\" x=\"374.5\" y=\"163.1387\">«occurrence  def»</text><text fill=\"#000000\" font-family=\"sans-serif\" font-size=\"12\" lengthAdjust=\"spacingAndGlyphs\" textLength=\"23\" x=\"419.5\" y=\"177.1074\">Occ</text><line style=\"stroke: #383838; stroke-width: 1.5;\" x1=\"374.5\" x2=\"487.5\" y1=\"184.9375\" y2=\"184.9375\"/><text fill=\"#000000\" font-family=\"sans-serif\" font-size=\"11\" lengthAdjust=\"spacingAndGlyphs\" textLength=\"7\" x=\"379.5\" y=\"215.9526\">a</text><line style=\"stroke: #383838; stroke-width: 1.0;\" x1=\"374.5\" x2=\"403.5\" y1=\"199.3398\" y2=\"199.3398\"/><text fill=\"#000000\" font-family=\"sans-serif\" font-size=\"11\" lengthAdjust=\"spacingAndGlyphs\" textLength=\"55\" x=\"403.5\" y=\"202.6479\">attributes</text><line style=\"stroke: #383838; stroke-width: 1.0;\" x1=\"458.5\" x2=\"487.5\" y1=\"199.3398\" y2=\"199.3398\"/></a><!--MD5=[09b614a08d8cba4a07c9adeb5e0fee81]\n",
       "class E3--><a href=\"psysml:37011562-c12e-4ce2-bbf9-af5619a300f0\" target=\"_top\" title=\"psysml:37011562-c12e-4ce2-bbf9-af5619a300f0\" xlink:actuate=\"onRequest\" xlink:href=\"psysml:37011562-c12e-4ce2-bbf9-af5619a300f0\" xlink:show=\"new\" xlink:title=\"psysml:37011562-c12e-4ce2-bbf9-af5619a300f0\" xlink:type=\"simple\"><rect fill=\"#FFFFFF\" height=\"45.9375\" id=\"E3\" rx=\"10\" ry=\"10\" style=\"stroke: #383838; stroke-width: 1.5;\" width=\"87\" x=\"279.5\" y=\"283\"/><text fill=\"#000000\" font-family=\"sans-serif\" font-size=\"12\" font-style=\"italic\" lengthAdjust=\"spacingAndGlyphs\" textLength=\"85\" x=\"280.5\" y=\"299.1387\">«occurrence»</text><text fill=\"#000000\" font-family=\"sans-serif\" font-size=\"12\" lengthAdjust=\"spacingAndGlyphs\" textLength=\"61\" x=\"290.5\" y=\"313.1074\">occ1: Occ</text><line style=\"stroke: #383838; stroke-width: 1.5;\" x1=\"280.5\" x2=\"365.5\" y1=\"320.9375\" y2=\"320.9375\"/></a><!--MD5=[ebbe1d658d1005bcc118a6aa81145e00]\n",
       "class E4--><a href=\"psysml:3522e0a2-d0dd-4c95-916a-e9f89fbadd86\" target=\"_top\" title=\"psysml:3522e0a2-d0dd-4c95-916a-e9f89fbadd86\" xlink:actuate=\"onRequest\" xlink:href=\"psysml:3522e0a2-d0dd-4c95-916a-e9f89fbadd86\" xlink:show=\"new\" xlink:title=\"psysml:3522e0a2-d0dd-4c95-916a-e9f89fbadd86\" xlink:type=\"simple\"><rect fill=\"#FFFFFF\" height=\"45.9375\" id=\"E4\" rx=\"10\" ry=\"10\" style=\"stroke: #383838; stroke-width: 1.5;\" width=\"87\" x=\"401.5\" y=\"283\"/><text fill=\"#000000\" font-family=\"sans-serif\" font-size=\"12\" font-style=\"italic\" lengthAdjust=\"spacingAndGlyphs\" textLength=\"85\" x=\"402.5\" y=\"299.1387\">«occurrence»</text><text fill=\"#000000\" font-family=\"sans-serif\" font-size=\"12\" lengthAdjust=\"spacingAndGlyphs\" textLength=\"61\" x=\"412.5\" y=\"313.1074\">occ2: Occ</text><line style=\"stroke: #383838; stroke-width: 1.5;\" x1=\"402.5\" x2=\"487.5\" y1=\"320.9375\" y2=\"320.9375\"/></a><!--MD5=[270fce915f116d4de14055a7c1d9a0f3]\n",
       "class E5--><a href=\"psysml:2ba1b44f-ac88-49ba-a1da-8edc5df2da3a\" target=\"_top\" title=\"psysml:2ba1b44f-ac88-49ba-a1da-8edc5df2da3a\" xlink:actuate=\"onRequest\" xlink:href=\"psysml:2ba1b44f-ac88-49ba-a1da-8edc5df2da3a\" xlink:show=\"new\" xlink:title=\"psysml:2ba1b44f-ac88-49ba-a1da-8edc5df2da3a\" xlink:type=\"simple\"><rect fill=\"#FFFFFF\" height=\"45.9375\" id=\"E5\" rx=\"10\" ry=\"10\" style=\"stroke: #383838; stroke-width: 1.5;\" width=\"212\" x=\"524\" y=\"283\"/><text fill=\"#000000\" font-family=\"sans-serif\" font-size=\"12\" font-style=\"italic\" lengthAdjust=\"spacingAndGlyphs\" textLength=\"210\" x=\"525\" y=\"299.1387\">«individual snapshot occurrence»</text><text fill=\"#000000\" font-family=\"sans-serif\" font-size=\"12\" lengthAdjust=\"spacingAndGlyphs\" textLength=\"34\" x=\"611\" y=\"313.1074\">s: Ind</text><line style=\"stroke: #383838; stroke-width: 1.5;\" x1=\"525\" x2=\"735\" y1=\"320.9375\" y2=\"320.9375\"/></a><!--MD5=[60a26617385b1d2d0262a64233df1f8d]\n",
       "class E6--><a href=\"psysml:aefaf76d-f241-48e8-80ea-b99598299972\" target=\"_top\" title=\"psysml:aefaf76d-f241-48e8-80ea-b99598299972\" xlink:actuate=\"onRequest\" xlink:href=\"psysml:aefaf76d-f241-48e8-80ea-b99598299972\" xlink:show=\"new\" xlink:title=\"psysml:aefaf76d-f241-48e8-80ea-b99598299972\" xlink:type=\"simple\"><rect fill=\"#FFFFFF\" height=\"45.9375\" id=\"E6\" rx=\"10\" ry=\"10\" style=\"stroke: #383838; stroke-width: 1.5;\" width=\"146\" x=\"771\" y=\"283\"/><text fill=\"#000000\" font-family=\"sans-serif\" font-size=\"12\" font-style=\"italic\" lengthAdjust=\"spacingAndGlyphs\" textLength=\"144\" x=\"772\" y=\"299.1387\">«timeslice occurrence»</text><text fill=\"#000000\" font-family=\"sans-serif\" font-size=\"12\" lengthAdjust=\"spacingAndGlyphs\" textLength=\"5\" x=\"839.5\" y=\"313.1074\">t</text><line style=\"stroke: #383838; stroke-width: 1.5;\" x1=\"772\" x2=\"916\" y1=\"320.9375\" y2=\"320.9375\"/></a><!--MD5=[2156ba9850f5573cc1fc38a6a4b2f02b]\n",
       "class E7--><a href=\"psysml:991e81ed-291b-4563-955c-44288cc9fc81\" target=\"_top\" title=\"psysml:991e81ed-291b-4563-955c-44288cc9fc81\" xlink:actuate=\"onRequest\" xlink:href=\"psysml:991e81ed-291b-4563-955c-44288cc9fc81\" xlink:show=\"new\" xlink:title=\"psysml:991e81ed-291b-4563-955c-44288cc9fc81\" xlink:type=\"simple\"><rect fill=\"#FFFFFF\" height=\"45.9375\" id=\"E7\" style=\"stroke: #383838; stroke-width: 1.5;\" width=\"177\" x=\"541.5\" y=\"389\"/><text fill=\"#000000\" font-family=\"sans-serif\" font-size=\"12\" font-style=\"italic\" lengthAdjust=\"spacingAndGlyphs\" textLength=\"175\" x=\"542.5\" y=\"405.1387\">«individual occurrence  def»</text><text fill=\"#000000\" font-family=\"sans-serif\" font-size=\"12\" lengthAdjust=\"spacingAndGlyphs\" textLength=\"19\" x=\"620.5\" y=\"419.1074\">Ind</text><line style=\"stroke: #383838; stroke-width: 1.5;\" x1=\"542.5\" x2=\"717.5\" y1=\"426.9375\" y2=\"426.9375\"/></a><!--MD5=[b9389687b975829384b498ac4b7476b2]\n",
       "class E8--><a href=\"psysml:fb7dbc0d-a670-4e6d-a2b6-24a9a70c023a\" target=\"_top\" title=\"psysml:fb7dbc0d-a670-4e6d-a2b6-24a9a70c023a\" xlink:actuate=\"onRequest\" xlink:href=\"psysml:fb7dbc0d-a670-4e6d-a2b6-24a9a70c023a\" xlink:show=\"new\" xlink:title=\"psysml:fb7dbc0d-a670-4e6d-a2b6-24a9a70c023a\" xlink:type=\"simple\"><rect fill=\"#FFFFFF\" height=\"45.9375\" id=\"E8\" rx=\"10\" ry=\"10\" style=\"stroke: #383838; stroke-width: 1.5;\" width=\"150\" x=\"463\" y=\"495\"/><text fill=\"#000000\" font-family=\"sans-serif\" font-size=\"12\" font-style=\"italic\" lengthAdjust=\"spacingAndGlyphs\" textLength=\"148\" x=\"464\" y=\"511.1387\">«snapshot occurrence»</text><text fill=\"#000000\" font-family=\"sans-serif\" font-size=\"12\" lengthAdjust=\"spacingAndGlyphs\" textLength=\"15\" x=\"528.5\" y=\"525.1074\">s2</text><line style=\"stroke: #383838; stroke-width: 1.5;\" x1=\"464\" x2=\"612\" y1=\"532.9375\" y2=\"532.9375\"/></a><!--MD5=[fd4143e9d270a159db93a4ea2a975926]\n",
       "class E9--><a href=\"psysml:ae0fd4ea-8dc7-4cb0-a32c-5615a8f756eb\" target=\"_top\" title=\"psysml:ae0fd4ea-8dc7-4cb0-a32c-5615a8f756eb\" xlink:actuate=\"onRequest\" xlink:href=\"psysml:ae0fd4ea-8dc7-4cb0-a32c-5615a8f756eb\" xlink:show=\"new\" xlink:title=\"psysml:ae0fd4ea-8dc7-4cb0-a32c-5615a8f756eb\" xlink:type=\"simple\"><rect fill=\"#FFFFFF\" height=\"45.9375\" id=\"E9\" rx=\"10\" ry=\"10\" style=\"stroke: #383838; stroke-width: 1.5;\" width=\"146\" x=\"648\" y=\"495\"/><text fill=\"#000000\" font-family=\"sans-serif\" font-size=\"12\" font-style=\"italic\" lengthAdjust=\"spacingAndGlyphs\" textLength=\"144\" x=\"649\" y=\"511.1387\">«timeslice occurrence»</text><text fill=\"#000000\" font-family=\"sans-serif\" font-size=\"12\" lengthAdjust=\"spacingAndGlyphs\" textLength=\"13\" x=\"712.5\" y=\"525.1074\">t2</text><line style=\"stroke: #383838; stroke-width: 1.5;\" x1=\"649\" x2=\"793\" y1=\"532.9375\" y2=\"532.9375\"/></a><!--MD5=[96f4274e9e20536e775497830990834d]\n",
       "class E10--><a href=\"psysml:90168d9a-6358-4939-88d7-8ec9974b52c6\" target=\"_top\" title=\"psysml:90168d9a-6358-4939-88d7-8ec9974b52c6\" xlink:actuate=\"onRequest\" xlink:href=\"psysml:90168d9a-6358-4939-88d7-8ec9974b52c6\" xlink:show=\"new\" xlink:title=\"psysml:90168d9a-6358-4939-88d7-8ec9974b52c6\" xlink:type=\"simple\"><rect fill=\"#FFFFFF\" height=\"45.9375\" id=\"E10\" rx=\"10\" ry=\"10\" style=\"stroke: #383838; stroke-width: 1.5;\" width=\"149\" x=\"505.5\" y=\"41\"/><text fill=\"#000000\" font-family=\"sans-serif\" font-size=\"12\" font-style=\"italic\" lengthAdjust=\"spacingAndGlyphs\" textLength=\"147\" x=\"506.5\" y=\"57.1387\">«individual occurrence»</text><text fill=\"#000000\" font-family=\"sans-serif\" font-size=\"12\" lengthAdjust=\"spacingAndGlyphs\" textLength=\"77\" x=\"539.5\" y=\"71.1074\">ind: Ind, Occ</text><line style=\"stroke: #383838; stroke-width: 1.5;\" x1=\"506.5\" x2=\"653.5\" y1=\"78.9375\" y2=\"78.9375\"/></a><!--MD5=[1dd1bfd58a279cf63c5f349dbc8fc6a1]\n",
       "class E11--><a href=\"psysml:d0eba55f-a402-4b22-88ba-9857d6bd50ac\" target=\"_top\" title=\"psysml:d0eba55f-a402-4b22-88ba-9857d6bd50ac\" xlink:actuate=\"onRequest\" xlink:href=\"psysml:d0eba55f-a402-4b22-88ba-9857d6bd50ac\" xlink:show=\"new\" xlink:title=\"psysml:d0eba55f-a402-4b22-88ba-9857d6bd50ac\" xlink:type=\"simple\"><rect fill=\"#FFFFFF\" height=\"45.9375\" id=\"E11\" rx=\"10\" ry=\"10\" style=\"stroke: #383838; stroke-width: 1.5;\" width=\"150\" x=\"561\" y=\"162\"/><text fill=\"#000000\" font-family=\"sans-serif\" font-size=\"12\" font-style=\"italic\" lengthAdjust=\"spacingAndGlyphs\" textLength=\"148\" x=\"562\" y=\"178.1387\">«snapshot occurrence»</text><text fill=\"#000000\" font-family=\"sans-serif\" font-size=\"12\" lengthAdjust=\"spacingAndGlyphs\" textLength=\"15\" x=\"626.5\" y=\"192.1074\">s3</text><line style=\"stroke: #383838; stroke-width: 1.5;\" x1=\"562\" x2=\"710\" y1=\"199.9375\" y2=\"199.9375\"/></a><!--MD5=[49a0ec8f00dab7302a31f22d0f0fe584]\n",
       "class E12--><a href=\"psysml:0232df4f-93e4-4add-8902-f942e03a0634\" target=\"_top\" title=\"psysml:0232df4f-93e4-4add-8902-f942e03a0634\" xlink:actuate=\"onRequest\" xlink:href=\"psysml:0232df4f-93e4-4add-8902-f942e03a0634\" xlink:show=\"new\" xlink:title=\"psysml:0232df4f-93e4-4add-8902-f942e03a0634\" xlink:type=\"simple\"><rect fill=\"#FFFFFF\" height=\"45.9375\" id=\"E12\" rx=\"10\" ry=\"10\" style=\"stroke: #383838; stroke-width: 1.5;\" width=\"208\" x=\"746\" y=\"162\"/><text fill=\"#000000\" font-family=\"sans-serif\" font-size=\"12\" font-style=\"italic\" lengthAdjust=\"spacingAndGlyphs\" textLength=\"206\" x=\"747\" y=\"178.1387\">«individual timeslice occurrence»</text><text fill=\"#000000\" font-family=\"sans-serif\" font-size=\"12\" lengthAdjust=\"spacingAndGlyphs\" textLength=\"13\" x=\"841.5\" y=\"192.1074\">t3</text><line style=\"stroke: #383838; stroke-width: 1.5;\" x1=\"747\" x2=\"953\" y1=\"199.9375\" y2=\"199.9375\"/></a><!--MD5=[ee3c913d1a06f366521f9ef512b67efe]\n",
       "class E13--><a href=\"psysml:5cbde71f-e2d0-40cd-91ed-92f5bc776eb7\" target=\"_top\" title=\"psysml:5cbde71f-e2d0-40cd-91ed-92f5bc776eb7\" xlink:actuate=\"onRequest\" xlink:href=\"psysml:5cbde71f-e2d0-40cd-91ed-92f5bc776eb7\" xlink:show=\"new\" xlink:title=\"psysml:5cbde71f-e2d0-40cd-91ed-92f5bc776eb7\" xlink:type=\"simple\"><rect fill=\"#FFFFFF\" height=\"45.9375\" id=\"E13\" rx=\"10\" ry=\"10\" style=\"stroke: #383838; stroke-width: 1.5;\" width=\"212\" x=\"32\" y=\"283\"/><text fill=\"#000000\" font-family=\"sans-serif\" font-size=\"12\" font-style=\"italic\" lengthAdjust=\"spacingAndGlyphs\" textLength=\"210\" x=\"33\" y=\"299.1387\">«individual snapshot occurrence»</text><text fill=\"#000000\" font-family=\"sans-serif\" font-size=\"12\" lengthAdjust=\"spacingAndGlyphs\" textLength=\"42\" x=\"115\" y=\"313.1074\">s4: Ind</text><line style=\"stroke: #383838; stroke-width: 1.5;\" x1=\"33\" x2=\"243\" y1=\"320.9375\" y2=\"320.9375\"/></a><!--MD5=[209b3feb70ccb6233bfe1053d122c12c]\n",
       "reverse link E2 to E3--><a href=\"psysml:111e77a4-44f2-45ac-862d-a1e02a1cad26\" target=\"_top\" title=\"psysml:111e77a4-44f2-45ac-862d-a1e02a1cad26\" xlink:actuate=\"onRequest\" xlink:href=\"psysml:111e77a4-44f2-45ac-862d-a1e02a1cad26\" xlink:show=\"new\" xlink:title=\"psysml:111e77a4-44f2-45ac-862d-a1e02a1cad26\" xlink:type=\"simple\"><path d=\"M376.37,232.45 C359.85,249.83 343.43,268.76 332.86,282.93 \" fill=\"none\" id=\"E2&lt;-E3\" style=\"stroke: #383838; stroke-width: 1.0;\"/><polygon fill=\"#FFFFFF\" points=\"385.52,223,378.4729,224.5294,377.1743,231.6226,384.2213,230.0932,385.52,223\" style=\"stroke: #383838; stroke-width: 1.0;\"/></a><!--MD5=[05d275557350bfb9b23a4ef7222b4c39]\n",
       "link E3 to E2--><a href=\"psysml:0f45e557-8f0e-4df9-b1d8-28bd2526f5a3\" target=\"_top\" title=\"psysml:0f45e557-8f0e-4df9-b1d8-28bd2526f5a3\" xlink:actuate=\"onRequest\" xlink:href=\"psysml:0f45e557-8f0e-4df9-b1d8-28bd2526f5a3\" xlink:show=\"new\" xlink:title=\"psysml:0f45e557-8f0e-4df9-b1d8-28bd2526f5a3\" xlink:type=\"simple\"><path d=\"M353.8,282.93 C367.38,270.34 383.11,253.98 396.95,238.29 \" fill=\"none\" id=\"E3-&gt;E2\" style=\"stroke: #383838; stroke-width: 1.0;\"/><polygon fill=\"#FFFFFF\" points=\"410.02,223,403.0007,241.9929,392.3563,232.8991,410.02,223\" style=\"stroke: #383838; stroke-width: 1.0;\"/><ellipse cx=\"397.7776\" cy=\"245.0276\" fill=\"#383838\" rx=\"2\" ry=\"2\" style=\"stroke: #383838; stroke-width: 1.0;\"/><ellipse cx=\"390.1744\" cy=\"238.532\" fill=\"#383838\" rx=\"2\" ry=\"2\" style=\"stroke: #383838; stroke-width: 1.0;\"/></a><!--MD5=[9618e71518536f8baf3342ff6fdab317]\n",
       "reverse link E2 to E4--><a href=\"psysml:7f5381ff-79d6-4175-8599-1b084d5a38fb\" target=\"_top\" title=\"psysml:7f5381ff-79d6-4175-8599-1b084d5a38fb\" xlink:actuate=\"onRequest\" xlink:href=\"psysml:7f5381ff-79d6-4175-8599-1b084d5a38fb\" xlink:show=\"new\" xlink:title=\"psysml:7f5381ff-79d6-4175-8599-1b084d5a38fb\" xlink:type=\"simple\"><path d=\"M424.31,236.34 C425.74,252.61 428.58,269.81 432.23,282.93 \" fill=\"none\" id=\"E2&lt;-E4\" style=\"stroke: #383838; stroke-width: 1.0;\"/><polygon fill=\"#383838\" points=\"423.45,223,419.8475,229.2467,424.2281,234.9747,427.8306,228.728,423.45,223\" style=\"stroke: #383838; stroke-width: 1.0;\"/></a><!--MD5=[185131fc0dcab0a4505a2ebe144e961b]\n",
       "link E4 to E2--><a href=\"psysml:9af83ecd-fc65-4272-8374-c2ac75a0337a\" target=\"_top\" title=\"psysml:9af83ecd-fc65-4272-8374-c2ac75a0337a\" xlink:actuate=\"onRequest\" xlink:href=\"psysml:9af83ecd-fc65-4272-8374-c2ac75a0337a\" xlink:show=\"new\" xlink:title=\"psysml:9af83ecd-fc65-4272-8374-c2ac75a0337a\" xlink:type=\"simple\"><path d=\"M453.17,282.93 C453.77,271.65 452.99,257.34 451.22,243.21 \" fill=\"none\" id=\"E4-&gt;E2\" style=\"stroke: #383838; stroke-width: 1.0;\"/><polygon fill=\"#FFFFFF\" points=\"447.96,223,457.8973,240.6423,444.0761,242.8725,447.96,223\" style=\"stroke: #383838; stroke-width: 1.0;\"/><ellipse cx=\"456.8309\" cy=\"246.5881\" fill=\"#383838\" rx=\"2\" ry=\"2\" style=\"stroke: #383838; stroke-width: 1.0;\"/><ellipse cx=\"446.9586\" cy=\"248.1811\" fill=\"#383838\" rx=\"2\" ry=\"2\" style=\"stroke: #383838; stroke-width: 1.0;\"/></a><!--MD5=[4e1a83fab71cdb913c109063314ae896]\n",
       "reverse link E2 to E5--><a href=\"psysml:648e9e41-ac7c-450e-af70-439d81f3f540\" target=\"_top\" title=\"psysml:648e9e41-ac7c-450e-af70-439d81f3f540\" xlink:actuate=\"onRequest\" xlink:href=\"psysml:648e9e41-ac7c-450e-af70-439d81f3f540\" xlink:show=\"new\" xlink:title=\"psysml:648e9e41-ac7c-450e-af70-439d81f3f540\" xlink:type=\"simple\"><path d=\"M499.85,227.17 C531.12,245.87 566.86,267.24 592.97,282.85 \" fill=\"none\" id=\"E2&lt;-E5\" style=\"stroke: #383838; stroke-width: 1.0;\"/><polygon fill=\"#383838\" points=\"488.56,220.42,491.6568,226.9323,498.8592,226.5784,495.7624,220.0661,488.56,220.42\" style=\"stroke: #383838; stroke-width: 1.0;\"/></a><!--MD5=[ce036f65110ae2351ccce5a81dc2e928]\n",
       "reverse link E2 to E6--><a href=\"psysml:00b8b9a4-593e-406d-b505-212ff2a7c9c1\" target=\"_top\" title=\"psysml:00b8b9a4-593e-406d-b505-212ff2a7c9c1\" xlink:actuate=\"onRequest\" xlink:href=\"psysml:00b8b9a4-593e-406d-b505-212ff2a7c9c1\" xlink:show=\"new\" xlink:title=\"psysml:00b8b9a4-593e-406d-b505-212ff2a7c9c1\" xlink:type=\"simple\"><path d=\"M501.02,217.55 C506.06,219.49 511.08,221.33 516,223 C528.19,227.15 677.82,264.14 770.71,287 \" fill=\"none\" id=\"E2&lt;-E6\" style=\"stroke: #383838; stroke-width: 1.0;\"/><polygon fill=\"#383838\" points=\"488.57,212.58,492.6577,218.5206,499.7135,217.0321,495.6258,211.0916,488.57,212.58\" style=\"stroke: #383838; stroke-width: 1.0;\"/></a><!--MD5=[3a9b96bfbf6b6ad89c494e81751bda47]\n",
       "link E5 to E7--><a href=\"psysml:088b8ee7-f1bc-4574-b816-43bcf4f14b77\" target=\"_top\" title=\"psysml:088b8ee7-f1bc-4574-b816-43bcf4f14b77\" xlink:actuate=\"onRequest\" xlink:href=\"psysml:088b8ee7-f1bc-4574-b816-43bcf4f14b77\" xlink:show=\"new\" xlink:title=\"psysml:088b8ee7-f1bc-4574-b816-43bcf4f14b77\" xlink:type=\"simple\"><path d=\"M630,329.06 C630,340.64 630,355.23 630,368.87 \" fill=\"none\" id=\"E5-&gt;E7\" style=\"stroke: #383838; stroke-width: 1.0;\"/><polygon fill=\"#FFFFFF\" points=\"630,388.98,623,369.98,637,369.98,630,388.98\" style=\"stroke: #383838; stroke-width: 1.0;\"/><ellipse cx=\"625\" cy=\"364.28\" fill=\"#383838\" rx=\"2\" ry=\"2\" style=\"stroke: #383838; stroke-width: 1.0;\"/><ellipse cx=\"635\" cy=\"364.28\" fill=\"#383838\" rx=\"2\" ry=\"2\" style=\"stroke: #383838; stroke-width: 1.0;\"/></a><!--MD5=[dc164f5e8a733ab456ef1add180e9e34]\n",
       "reverse link E7 to E8--><a href=\"psysml:c8813ef9-ffa9-4c9d-80a4-dd20f6c80ea5\" target=\"_top\" title=\"psysml:c8813ef9-ffa9-4c9d-80a4-dd20f6c80ea5\" xlink:actuate=\"onRequest\" xlink:href=\"psysml:c8813ef9-ffa9-4c9d-80a4-dd20f6c80ea5\" xlink:show=\"new\" xlink:title=\"psysml:c8813ef9-ffa9-4c9d-80a4-dd20f6c80ea5\" xlink:type=\"simple\"><path d=\"M601.55,445.16 C587.25,461.33 570.28,480.51 557.48,494.98 \" fill=\"none\" id=\"E7&lt;-E8\" style=\"stroke: #383838; stroke-width: 1.0;\"/><polygon fill=\"#383838\" points=\"610.49,435.06,603.5177,436.9004,602.5348,444.0442,609.5071,442.2038,610.49,435.06\" style=\"stroke: #383838; stroke-width: 1.0;\"/></a><!--MD5=[e4a10ef82d0e328e31cac39a31e58dda]\n",
       "reverse link E7 to E9--><a href=\"psysml:cdca8d7c-6aa5-4fff-9e0e-900e3ba85343\" target=\"_top\" title=\"psysml:cdca8d7c-6aa5-4fff-9e0e-900e3ba85343\" xlink:actuate=\"onRequest\" xlink:href=\"psysml:cdca8d7c-6aa5-4fff-9e0e-900e3ba85343\" xlink:show=\"new\" xlink:title=\"psysml:cdca8d7c-6aa5-4fff-9e0e-900e3ba85343\" xlink:type=\"simple\"><path d=\"M658.14,445.16 C672.29,461.33 689.07,480.51 701.73,494.98 \" fill=\"none\" id=\"E7&lt;-E9\" style=\"stroke: #383838; stroke-width: 1.0;\"/><polygon fill=\"#383838\" points=\"649.3,435.06,650.2496,442.2083,657.2133,444.0811,656.2637,436.9328,649.3,435.06\" style=\"stroke: #383838; stroke-width: 1.0;\"/></a><!--MD5=[a919e0967d6f3de553dc51b9865a1d6d]\n",
       "link E10 to E7--><a href=\"psysml:43f26010-ca40-42d6-8df0-e4847d82fc63\" target=\"_top\" title=\"psysml:43f26010-ca40-42d6-8df0-e4847d82fc63\" xlink:actuate=\"onRequest\" xlink:href=\"psysml:43f26010-ca40-42d6-8df0-e4847d82fc63\" xlink:show=\"new\" xlink:title=\"psysml:43f26010-ca40-42d6-8df0-e4847d82fc63\" xlink:type=\"simple\"><path d=\"M564.36,87.23 C542.92,120.68 510.65,184.15 544,223 C658.5,356.41 820.5,149.59 935,283 C997.3,355.58 849.41,387.9 738.47,401.63 \" fill=\"none\" id=\"E10-&gt;E7\" style=\"stroke: #383838; stroke-width: 1.0;\"/><polygon fill=\"#FFFFFF\" points=\"718.6,403.94,736.6627,394.7891,738.2822,408.6951,718.6,403.94\" style=\"stroke: #383838; stroke-width: 1.0;\"/><ellipse cx=\"742.5558\" cy=\"396.1162\" fill=\"#383838\" rx=\"2\" ry=\"2\" style=\"stroke: #383838; stroke-width: 1.0;\"/><ellipse cx=\"743.7126\" cy=\"406.0491\" fill=\"#383838\" rx=\"2\" ry=\"2\" style=\"stroke: #383838; stroke-width: 1.0;\"/></a><!--MD5=[0f36bececdf0dff6e600d6f64214b0f1]\n",
       "link E10 to E2--><a href=\"psysml:ac89f7fb-b091-4bc7-aaea-6377fc157ffe\" target=\"_top\" title=\"psysml:ac89f7fb-b091-4bc7-aaea-6377fc157ffe\" xlink:actuate=\"onRequest\" xlink:href=\"psysml:ac89f7fb-b091-4bc7-aaea-6377fc157ffe\" xlink:show=\"new\" xlink:title=\"psysml:ac89f7fb-b091-4bc7-aaea-6377fc157ffe\" xlink:type=\"simple\"><path d=\"M552.32,87.1 C535.71,100.38 513.86,117.82 493.29,134.25 \" fill=\"none\" id=\"E10-&gt;E2\" style=\"stroke: #383838; stroke-width: 1.0;\"/><polygon fill=\"#FFFFFF\" points=\"477.56,146.81,488.0352,129.4817,496.7737,140.4197,477.56,146.81\" style=\"stroke: #383838; stroke-width: 1.0;\"/><ellipse cx=\"493.7369\" cy=\"127.4865\" fill=\"#383838\" rx=\"2\" ry=\"2\" style=\"stroke: #383838; stroke-width: 1.0;\"/><ellipse cx=\"499.9786\" cy=\"135.2994\" fill=\"#383838\" rx=\"2\" ry=\"2\" style=\"stroke: #383838; stroke-width: 1.0;\"/></a><!--MD5=[de308be4a2431766a05a907a031c07fc]\n",
       "reverse link E10 to E11--><a href=\"psysml:75c081c5-05e2-401c-b103-d900689a3a49\" target=\"_top\" title=\"psysml:75c081c5-05e2-401c-b103-d900689a3a49\" xlink:actuate=\"onRequest\" xlink:href=\"psysml:75c081c5-05e2-401c-b103-d900689a3a49\" xlink:show=\"new\" xlink:title=\"psysml:75c081c5-05e2-401c-b103-d900689a3a49\" xlink:type=\"simple\"><path d=\"M595.95,98.9 C605.42,119.01 617.15,143.94 625.46,161.61 \" fill=\"none\" id=\"E10&lt;-E11\" style=\"stroke: #383838; stroke-width: 1.0;\"/><polygon fill=\"#383838\" points=\"590.4,87.1,589.3334,94.2318,595.5064,97.9593,596.573,90.8275,590.4,87.1\" style=\"stroke: #383838; stroke-width: 1.0;\"/></a><!--MD5=[1d54f998c6d5961a1a9184be73a7eb6c]\n",
       "reverse link E10 to E12--><a href=\"psysml:54130436-8b1f-4706-a610-d99b2d4cb5d4\" target=\"_top\" title=\"psysml:54130436-8b1f-4706-a610-d99b2d4cb5d4\" xlink:actuate=\"onRequest\" xlink:href=\"psysml:54130436-8b1f-4706-a610-d99b2d4cb5d4\" xlink:show=\"new\" xlink:title=\"psysml:54130436-8b1f-4706-a610-d99b2d4cb5d4\" xlink:type=\"simple\"><path d=\"M642.21,92.42 C689.99,113.48 755.13,142.19 799.66,161.81 \" fill=\"none\" id=\"E10&lt;-E12\" style=\"stroke: #383838; stroke-width: 1.0;\"/><polygon fill=\"#383838\" points=\"630.15,87.1,634.028,93.1796,641.1314,91.9382,637.2534,85.8586,630.15,87.1\" style=\"stroke: #383838; stroke-width: 1.0;\"/></a><!--MD5=[4a48077df6499cfcd20b62e8f5f37904]\n",
       "link E13 to E7--><a href=\"psysml:85f16706-e1b7-404d-9ee5-57d420bfb7f2\" target=\"_top\" title=\"psysml:85f16706-e1b7-404d-9ee5-57d420bfb7f2\" xlink:actuate=\"onRequest\" xlink:href=\"psysml:85f16706-e1b7-404d-9ee5-57d420bfb7f2\" xlink:show=\"new\" xlink:title=\"psysml:85f16706-e1b7-404d-9ee5-57d420bfb7f2\" xlink:type=\"simple\"><path d=\"M242.34,329.06 C324.51,346.43 438.67,370.56 521.82,388.13 \" fill=\"none\" id=\"E13-&gt;E7\" style=\"stroke: #383838; stroke-width: 1.0;\"/><polygon fill=\"#FFFFFF\" points=\"541.45,392.28,521.4143,395.2075,524.304,381.509,541.45,392.28\" style=\"stroke: #383838; stroke-width: 1.0;\"/><ellipse cx=\"516.2498\" cy=\"392.0741\" fill=\"#383838\" rx=\"2\" ry=\"2\" style=\"stroke: #383838; stroke-width: 1.0;\"/><ellipse cx=\"518.3139\" cy=\"382.2894\" fill=\"#383838\" rx=\"2\" ry=\"2\" style=\"stroke: #383838; stroke-width: 1.0;\"/></a><!--MD5=[c6affbee038423c8c17ff514e0ae7636]\n",
       "@startuml\r\n",
       "skinparam monochrome true\r\n",
       "skinparam classbackgroundcolor white\r\n",
       "skinparam shadowing false\r\n",
       "skinparam wrapWidth 300\r\n",
       "hide circle\r\n",
       "\r\n",
       "package \"OccurrenceTest\" as E1  [[psysml:53f1d42d-2686-4f4b-950f-b84b40bc19b2 ]]  {\r\n",
       "comp def \"Occ\" as E2  <<(T,blue) occurrence  def>> [[psysml:77ba500d-77fd-484e-b411-8833010da35e ]] {\r\n",
       "- - attributes - -\r\n",
       "a\r\n",
       "}\r\n",
       "comp usage \"occ1: Occ \" as E3  <<(T,blue) occurrence>> [[psysml:37011562-c12e-4ce2-bbf9-af5619a300f0 ]] {\r\n",
       "}\r\n",
       "comp usage \"occ2: Occ \" as E4  <<(T,blue) occurrence>> [[psysml:3522e0a2-d0dd-4c95-916a-e9f89fbadd86 ]] {\r\n",
       "}\r\n",
       "comp usage \"s: Ind \" as E5  <<(T,blue) individual snapshot occurrence>> [[psysml:2ba1b44f-ac88-49ba-a1da-8edc5df2da3a ]] {\r\n",
       "}\r\n",
       "comp usage \"t \" as E6  <<(T,blue) timeslice occurrence>> [[psysml:aefaf76d-f241-48e8-80ea-b99598299972 ]] {\r\n",
       "}\r\n",
       "comp def \"Ind\" as E7  <<(T,blue) individual occurrence  def>> [[psysml:991e81ed-291b-4563-955c-44288cc9fc81 ]] {\r\n",
       "}\r\n",
       "comp usage \"s2 \" as E8  <<(T,blue) snapshot occurrence>> [[psysml:fb7dbc0d-a670-4e6d-a2b6-24a9a70c023a ]] {\r\n",
       "}\r\n",
       "comp usage \"t2 \" as E9  <<(T,blue) timeslice occurrence>> [[psysml:ae0fd4ea-8dc7-4cb0-a32c-5615a8f756eb ]] {\r\n",
       "}\r\n",
       "comp usage \"ind: Ind, Occ \" as E10  <<(T,blue) individual occurrence>> [[psysml:90168d9a-6358-4939-88d7-8ec9974b52c6 ]] {\r\n",
       "}\r\n",
       "comp usage \"s3 \" as E11  <<(T,blue) snapshot occurrence>> [[psysml:d0eba55f-a402-4b22-88ba-9857d6bd50ac ]] {\r\n",
       "}\r\n",
       "comp usage \"t3 \" as E12  <<(T,blue) individual timeslice occurrence>> [[psysml:0232df4f-93e4-4add-8902-f942e03a0634 ]] {\r\n",
       "}\r\n",
       "comp usage \"s4: Ind \" as E13  <<(T,blue) individual snapshot occurrence>> [[psysml:5cbde71f-e2d0-40cd-91ed-92f5bc776eb7 ]] {\r\n",
       "}\r\n",
       "}\r\n",
       "E2 o- - E3 [[psysml:111e77a4-44f2-45ac-862d-a1e02a1cad26 ]] \r\n",
       "E3 - -:|> E2 [[psysml:0f45e557-8f0e-4df9-b1d8-28bd2526f5a3 ]] \r\n",
       "E2 *- - E4 [[psysml:7f5381ff-79d6-4175-8599-1b084d5a38fb ]] \r\n",
       "E4 - -:|> E2 [[psysml:9af83ecd-fc65-4272-8374-c2ac75a0337a ]] \r\n",
       "E2 *- - E5 [[psysml:648e9e41-ac7c-450e-af70-439d81f3f540 ]] \r\n",
       "E2 *- - E6 [[psysml:00b8b9a4-593e-406d-b505-212ff2a7c9c1 ]] \r\n",
       "E5 - -:|> E7 [[psysml:088b8ee7-f1bc-4574-b816-43bcf4f14b77 ]] \r\n",
       "E7 *- - E8 [[psysml:c8813ef9-ffa9-4c9d-80a4-dd20f6c80ea5 ]] \r\n",
       "E7 *- - E9 [[psysml:cdca8d7c-6aa5-4fff-9e0e-900e3ba85343 ]] \r\n",
       "E10 - -:|> E7 [[psysml:43f26010-ca40-42d6-8df0-e4847d82fc63 ]] \r\n",
       "E10 - -:|> E2 [[psysml:ac89f7fb-b091-4bc7-aaea-6377fc157ffe ]] \r\n",
       "E10 *- - E11 [[psysml:75c081c5-05e2-401c-b103-d900689a3a49 ]] \r\n",
       "E10 *- - E12 [[psysml:54130436-8b1f-4706-a610-d99b2d4cb5d4 ]] \r\n",
       "E13 - -:|> E7 [[psysml:85f16706-e1b7-404d-9ee5-57d420bfb7f2 ]] \r\n",
       "@enduml\r\n",
       "\n",
       "PlantUML version 1.2020.13(Sat Jun 13 12:26:38 UTC 2020)\n",
       "(EPL source distribution)\n",
       "Java Runtime: OpenJDK Runtime Environment\n",
       "JVM: OpenJDK 64-Bit Server VM\n",
       "Default Encoding: UTF-8\n",
       "Language: en\n",
       "Country: null\n",
       "--></g></svg>"
      ]
     },
     "execution_count": 37,
     "metadata": {},
     "output_type": "execute_result"
    }
   ],
   "source": [
    "%viz --style=\"DEFAULT\" --view=\"Default\" \"OccurrenceTest\""
   ]
  },
  {
   "cell_type": "code",
   "execution_count": 38,
   "id": "066fdd5d",
   "metadata": {
    "execution": {
     "iopub.execute_input": "2022-07-23T10:52:33.466033Z",
     "iopub.status.busy": "2022-07-23T10:52:33.465743Z",
     "iopub.status.idle": "2022-07-23T10:52:33.521817Z",
     "shell.execute_reply": "2022-07-23T10:52:33.521334Z"
    }
   },
   "outputs": [
    {
     "data": {
      "image/svg+xml": [
       "<?xml version=\"1.0\" encoding=\"UTF-8\" standalone=\"no\"?><svg xmlns=\"http://www.w3.org/2000/svg\" xmlns:xlink=\"http://www.w3.org/1999/xlink\" contentScriptType=\"application/ecmascript\" contentStyleType=\"text/css\" height=\"569px\" preserveAspectRatio=\"none\" style=\"width:1009px;height:569px;\" version=\"1.1\" viewBox=\"0 0 1009 569\" width=\"1009px\" zoomAndPan=\"magnify\"><defs/><g><!--MD5=[fbc87193dbaf4d95561dea2c320d4a47]\n",
       "cluster E1--><a href=\"psysml:53f1d42d-2686-4f4b-950f-b84b40bc19b2\" target=\"_top\" title=\"psysml:53f1d42d-2686-4f4b-950f-b84b40bc19b2\" xlink:actuate=\"onRequest\" xlink:href=\"psysml:53f1d42d-2686-4f4b-950f-b84b40bc19b2\" xlink:show=\"new\" xlink:title=\"psysml:53f1d42d-2686-4f4b-950f-b84b40bc19b2\" xlink:type=\"simple\"><polygon fill=\"#FFFFFF\" points=\"16,6,134,6,141,28.2969,970,28.2969,970,557,16,557,16,6\" style=\"stroke: #000000; stroke-width: 1.5;\"/><line style=\"stroke: #000000; stroke-width: 1.5;\" x1=\"16\" x2=\"141\" y1=\"28.2969\" y2=\"28.2969\"/><text fill=\"#000000\" font-family=\"sans-serif\" font-size=\"14\" font-weight=\"bold\" lengthAdjust=\"spacingAndGlyphs\" textLength=\"112\" x=\"20\" y=\"20.9951\">OccurrenceTest</text></a><!--MD5=[b4997ac47864f28c2f74865a473b2911]\n",
       "class E2--><a href=\"psysml:77ba500d-77fd-484e-b411-8833010da35e\" target=\"_top\" title=\"psysml:77ba500d-77fd-484e-b411-8833010da35e\" xlink:actuate=\"onRequest\" xlink:href=\"psysml:77ba500d-77fd-484e-b411-8833010da35e\" xlink:show=\"new\" xlink:title=\"psysml:77ba500d-77fd-484e-b411-8833010da35e\" xlink:type=\"simple\"><rect fill=\"#FFFFFF\" height=\"75.5469\" id=\"E2\" style=\"stroke: #383838; stroke-width: 1.5;\" width=\"115\" x=\"373.5\" y=\"147\"/><text fill=\"#000000\" font-family=\"sans-serif\" font-size=\"12\" font-style=\"italic\" lengthAdjust=\"spacingAndGlyphs\" textLength=\"113\" x=\"374.5\" y=\"163.1387\">«occurrence  def»</text><text fill=\"#000000\" font-family=\"sans-serif\" font-size=\"12\" lengthAdjust=\"spacingAndGlyphs\" textLength=\"23\" x=\"419.5\" y=\"177.1074\">Occ</text><line style=\"stroke: #383838; stroke-width: 1.5;\" x1=\"374.5\" x2=\"487.5\" y1=\"184.9375\" y2=\"184.9375\"/><text fill=\"#000000\" font-family=\"sans-serif\" font-size=\"11\" lengthAdjust=\"spacingAndGlyphs\" textLength=\"7\" x=\"379.5\" y=\"215.9526\">a</text><line style=\"stroke: #383838; stroke-width: 1.0;\" x1=\"374.5\" x2=\"403.5\" y1=\"199.3398\" y2=\"199.3398\"/><text fill=\"#000000\" font-family=\"sans-serif\" font-size=\"11\" lengthAdjust=\"spacingAndGlyphs\" textLength=\"55\" x=\"403.5\" y=\"202.6479\">attributes</text><line style=\"stroke: #383838; stroke-width: 1.0;\" x1=\"458.5\" x2=\"487.5\" y1=\"199.3398\" y2=\"199.3398\"/></a><!--MD5=[09b614a08d8cba4a07c9adeb5e0fee81]\n",
       "class E3--><a href=\"psysml:37011562-c12e-4ce2-bbf9-af5619a300f0\" target=\"_top\" title=\"psysml:37011562-c12e-4ce2-bbf9-af5619a300f0\" xlink:actuate=\"onRequest\" xlink:href=\"psysml:37011562-c12e-4ce2-bbf9-af5619a300f0\" xlink:show=\"new\" xlink:title=\"psysml:37011562-c12e-4ce2-bbf9-af5619a300f0\" xlink:type=\"simple\"><rect fill=\"#FFFFFF\" height=\"45.9375\" id=\"E3\" rx=\"10\" ry=\"10\" style=\"stroke: #383838; stroke-width: 1.5;\" width=\"87\" x=\"279.5\" y=\"283\"/><text fill=\"#000000\" font-family=\"sans-serif\" font-size=\"12\" font-style=\"italic\" lengthAdjust=\"spacingAndGlyphs\" textLength=\"85\" x=\"280.5\" y=\"299.1387\">«occurrence»</text><text fill=\"#000000\" font-family=\"sans-serif\" font-size=\"12\" lengthAdjust=\"spacingAndGlyphs\" textLength=\"61\" x=\"290.5\" y=\"313.1074\">occ1: Occ</text><line style=\"stroke: #383838; stroke-width: 1.5;\" x1=\"280.5\" x2=\"365.5\" y1=\"320.9375\" y2=\"320.9375\"/></a><!--MD5=[ebbe1d658d1005bcc118a6aa81145e00]\n",
       "class E4--><a href=\"psysml:3522e0a2-d0dd-4c95-916a-e9f89fbadd86\" target=\"_top\" title=\"psysml:3522e0a2-d0dd-4c95-916a-e9f89fbadd86\" xlink:actuate=\"onRequest\" xlink:href=\"psysml:3522e0a2-d0dd-4c95-916a-e9f89fbadd86\" xlink:show=\"new\" xlink:title=\"psysml:3522e0a2-d0dd-4c95-916a-e9f89fbadd86\" xlink:type=\"simple\"><rect fill=\"#FFFFFF\" height=\"45.9375\" id=\"E4\" rx=\"10\" ry=\"10\" style=\"stroke: #383838; stroke-width: 1.5;\" width=\"87\" x=\"401.5\" y=\"283\"/><text fill=\"#000000\" font-family=\"sans-serif\" font-size=\"12\" font-style=\"italic\" lengthAdjust=\"spacingAndGlyphs\" textLength=\"85\" x=\"402.5\" y=\"299.1387\">«occurrence»</text><text fill=\"#000000\" font-family=\"sans-serif\" font-size=\"12\" lengthAdjust=\"spacingAndGlyphs\" textLength=\"61\" x=\"412.5\" y=\"313.1074\">occ2: Occ</text><line style=\"stroke: #383838; stroke-width: 1.5;\" x1=\"402.5\" x2=\"487.5\" y1=\"320.9375\" y2=\"320.9375\"/></a><!--MD5=[270fce915f116d4de14055a7c1d9a0f3]\n",
       "class E5--><a href=\"psysml:2ba1b44f-ac88-49ba-a1da-8edc5df2da3a\" target=\"_top\" title=\"psysml:2ba1b44f-ac88-49ba-a1da-8edc5df2da3a\" xlink:actuate=\"onRequest\" xlink:href=\"psysml:2ba1b44f-ac88-49ba-a1da-8edc5df2da3a\" xlink:show=\"new\" xlink:title=\"psysml:2ba1b44f-ac88-49ba-a1da-8edc5df2da3a\" xlink:type=\"simple\"><rect fill=\"#FFFFFF\" height=\"45.9375\" id=\"E5\" rx=\"10\" ry=\"10\" style=\"stroke: #383838; stroke-width: 1.5;\" width=\"212\" x=\"524\" y=\"283\"/><text fill=\"#000000\" font-family=\"sans-serif\" font-size=\"12\" font-style=\"italic\" lengthAdjust=\"spacingAndGlyphs\" textLength=\"210\" x=\"525\" y=\"299.1387\">«individual snapshot occurrence»</text><text fill=\"#000000\" font-family=\"sans-serif\" font-size=\"12\" lengthAdjust=\"spacingAndGlyphs\" textLength=\"34\" x=\"611\" y=\"313.1074\">s: Ind</text><line style=\"stroke: #383838; stroke-width: 1.5;\" x1=\"525\" x2=\"735\" y1=\"320.9375\" y2=\"320.9375\"/></a><!--MD5=[60a26617385b1d2d0262a64233df1f8d]\n",
       "class E6--><a href=\"psysml:aefaf76d-f241-48e8-80ea-b99598299972\" target=\"_top\" title=\"psysml:aefaf76d-f241-48e8-80ea-b99598299972\" xlink:actuate=\"onRequest\" xlink:href=\"psysml:aefaf76d-f241-48e8-80ea-b99598299972\" xlink:show=\"new\" xlink:title=\"psysml:aefaf76d-f241-48e8-80ea-b99598299972\" xlink:type=\"simple\"><rect fill=\"#FFFFFF\" height=\"45.9375\" id=\"E6\" rx=\"10\" ry=\"10\" style=\"stroke: #383838; stroke-width: 1.5;\" width=\"146\" x=\"771\" y=\"283\"/><text fill=\"#000000\" font-family=\"sans-serif\" font-size=\"12\" font-style=\"italic\" lengthAdjust=\"spacingAndGlyphs\" textLength=\"144\" x=\"772\" y=\"299.1387\">«timeslice occurrence»</text><text fill=\"#000000\" font-family=\"sans-serif\" font-size=\"12\" lengthAdjust=\"spacingAndGlyphs\" textLength=\"5\" x=\"839.5\" y=\"313.1074\">t</text><line style=\"stroke: #383838; stroke-width: 1.5;\" x1=\"772\" x2=\"916\" y1=\"320.9375\" y2=\"320.9375\"/></a><!--MD5=[2156ba9850f5573cc1fc38a6a4b2f02b]\n",
       "class E7--><a href=\"psysml:991e81ed-291b-4563-955c-44288cc9fc81\" target=\"_top\" title=\"psysml:991e81ed-291b-4563-955c-44288cc9fc81\" xlink:actuate=\"onRequest\" xlink:href=\"psysml:991e81ed-291b-4563-955c-44288cc9fc81\" xlink:show=\"new\" xlink:title=\"psysml:991e81ed-291b-4563-955c-44288cc9fc81\" xlink:type=\"simple\"><rect fill=\"#FFFFFF\" height=\"45.9375\" id=\"E7\" style=\"stroke: #383838; stroke-width: 1.5;\" width=\"177\" x=\"541.5\" y=\"389\"/><text fill=\"#000000\" font-family=\"sans-serif\" font-size=\"12\" font-style=\"italic\" lengthAdjust=\"spacingAndGlyphs\" textLength=\"175\" x=\"542.5\" y=\"405.1387\">«individual occurrence  def»</text><text fill=\"#000000\" font-family=\"sans-serif\" font-size=\"12\" lengthAdjust=\"spacingAndGlyphs\" textLength=\"19\" x=\"620.5\" y=\"419.1074\">Ind</text><line style=\"stroke: #383838; stroke-width: 1.5;\" x1=\"542.5\" x2=\"717.5\" y1=\"426.9375\" y2=\"426.9375\"/></a><!--MD5=[b9389687b975829384b498ac4b7476b2]\n",
       "class E8--><a href=\"psysml:fb7dbc0d-a670-4e6d-a2b6-24a9a70c023a\" target=\"_top\" title=\"psysml:fb7dbc0d-a670-4e6d-a2b6-24a9a70c023a\" xlink:actuate=\"onRequest\" xlink:href=\"psysml:fb7dbc0d-a670-4e6d-a2b6-24a9a70c023a\" xlink:show=\"new\" xlink:title=\"psysml:fb7dbc0d-a670-4e6d-a2b6-24a9a70c023a\" xlink:type=\"simple\"><rect fill=\"#FFFFFF\" height=\"45.9375\" id=\"E8\" rx=\"10\" ry=\"10\" style=\"stroke: #383838; stroke-width: 1.5;\" width=\"150\" x=\"463\" y=\"495\"/><text fill=\"#000000\" font-family=\"sans-serif\" font-size=\"12\" font-style=\"italic\" lengthAdjust=\"spacingAndGlyphs\" textLength=\"148\" x=\"464\" y=\"511.1387\">«snapshot occurrence»</text><text fill=\"#000000\" font-family=\"sans-serif\" font-size=\"12\" lengthAdjust=\"spacingAndGlyphs\" textLength=\"15\" x=\"528.5\" y=\"525.1074\">s2</text><line style=\"stroke: #383838; stroke-width: 1.5;\" x1=\"464\" x2=\"612\" y1=\"532.9375\" y2=\"532.9375\"/></a><!--MD5=[fd4143e9d270a159db93a4ea2a975926]\n",
       "class E9--><a href=\"psysml:ae0fd4ea-8dc7-4cb0-a32c-5615a8f756eb\" target=\"_top\" title=\"psysml:ae0fd4ea-8dc7-4cb0-a32c-5615a8f756eb\" xlink:actuate=\"onRequest\" xlink:href=\"psysml:ae0fd4ea-8dc7-4cb0-a32c-5615a8f756eb\" xlink:show=\"new\" xlink:title=\"psysml:ae0fd4ea-8dc7-4cb0-a32c-5615a8f756eb\" xlink:type=\"simple\"><rect fill=\"#FFFFFF\" height=\"45.9375\" id=\"E9\" rx=\"10\" ry=\"10\" style=\"stroke: #383838; stroke-width: 1.5;\" width=\"146\" x=\"648\" y=\"495\"/><text fill=\"#000000\" font-family=\"sans-serif\" font-size=\"12\" font-style=\"italic\" lengthAdjust=\"spacingAndGlyphs\" textLength=\"144\" x=\"649\" y=\"511.1387\">«timeslice occurrence»</text><text fill=\"#000000\" font-family=\"sans-serif\" font-size=\"12\" lengthAdjust=\"spacingAndGlyphs\" textLength=\"13\" x=\"712.5\" y=\"525.1074\">t2</text><line style=\"stroke: #383838; stroke-width: 1.5;\" x1=\"649\" x2=\"793\" y1=\"532.9375\" y2=\"532.9375\"/></a><!--MD5=[96f4274e9e20536e775497830990834d]\n",
       "class E10--><a href=\"psysml:90168d9a-6358-4939-88d7-8ec9974b52c6\" target=\"_top\" title=\"psysml:90168d9a-6358-4939-88d7-8ec9974b52c6\" xlink:actuate=\"onRequest\" xlink:href=\"psysml:90168d9a-6358-4939-88d7-8ec9974b52c6\" xlink:show=\"new\" xlink:title=\"psysml:90168d9a-6358-4939-88d7-8ec9974b52c6\" xlink:type=\"simple\"><rect fill=\"#FFFFFF\" height=\"45.9375\" id=\"E10\" rx=\"10\" ry=\"10\" style=\"stroke: #383838; stroke-width: 1.5;\" width=\"149\" x=\"505.5\" y=\"41\"/><text fill=\"#000000\" font-family=\"sans-serif\" font-size=\"12\" font-style=\"italic\" lengthAdjust=\"spacingAndGlyphs\" textLength=\"147\" x=\"506.5\" y=\"57.1387\">«individual occurrence»</text><text fill=\"#000000\" font-family=\"sans-serif\" font-size=\"12\" lengthAdjust=\"spacingAndGlyphs\" textLength=\"77\" x=\"539.5\" y=\"71.1074\">ind: Ind, Occ</text><line style=\"stroke: #383838; stroke-width: 1.5;\" x1=\"506.5\" x2=\"653.5\" y1=\"78.9375\" y2=\"78.9375\"/></a><!--MD5=[1dd1bfd58a279cf63c5f349dbc8fc6a1]\n",
       "class E11--><a href=\"psysml:d0eba55f-a402-4b22-88ba-9857d6bd50ac\" target=\"_top\" title=\"psysml:d0eba55f-a402-4b22-88ba-9857d6bd50ac\" xlink:actuate=\"onRequest\" xlink:href=\"psysml:d0eba55f-a402-4b22-88ba-9857d6bd50ac\" xlink:show=\"new\" xlink:title=\"psysml:d0eba55f-a402-4b22-88ba-9857d6bd50ac\" xlink:type=\"simple\"><rect fill=\"#FFFFFF\" height=\"45.9375\" id=\"E11\" rx=\"10\" ry=\"10\" style=\"stroke: #383838; stroke-width: 1.5;\" width=\"150\" x=\"561\" y=\"162\"/><text fill=\"#000000\" font-family=\"sans-serif\" font-size=\"12\" font-style=\"italic\" lengthAdjust=\"spacingAndGlyphs\" textLength=\"148\" x=\"562\" y=\"178.1387\">«snapshot occurrence»</text><text fill=\"#000000\" font-family=\"sans-serif\" font-size=\"12\" lengthAdjust=\"spacingAndGlyphs\" textLength=\"15\" x=\"626.5\" y=\"192.1074\">s3</text><line style=\"stroke: #383838; stroke-width: 1.5;\" x1=\"562\" x2=\"710\" y1=\"199.9375\" y2=\"199.9375\"/></a><!--MD5=[49a0ec8f00dab7302a31f22d0f0fe584]\n",
       "class E12--><a href=\"psysml:0232df4f-93e4-4add-8902-f942e03a0634\" target=\"_top\" title=\"psysml:0232df4f-93e4-4add-8902-f942e03a0634\" xlink:actuate=\"onRequest\" xlink:href=\"psysml:0232df4f-93e4-4add-8902-f942e03a0634\" xlink:show=\"new\" xlink:title=\"psysml:0232df4f-93e4-4add-8902-f942e03a0634\" xlink:type=\"simple\"><rect fill=\"#FFFFFF\" height=\"45.9375\" id=\"E12\" rx=\"10\" ry=\"10\" style=\"stroke: #383838; stroke-width: 1.5;\" width=\"208\" x=\"746\" y=\"162\"/><text fill=\"#000000\" font-family=\"sans-serif\" font-size=\"12\" font-style=\"italic\" lengthAdjust=\"spacingAndGlyphs\" textLength=\"206\" x=\"747\" y=\"178.1387\">«individual timeslice occurrence»</text><text fill=\"#000000\" font-family=\"sans-serif\" font-size=\"12\" lengthAdjust=\"spacingAndGlyphs\" textLength=\"13\" x=\"841.5\" y=\"192.1074\">t3</text><line style=\"stroke: #383838; stroke-width: 1.5;\" x1=\"747\" x2=\"953\" y1=\"199.9375\" y2=\"199.9375\"/></a><!--MD5=[ee3c913d1a06f366521f9ef512b67efe]\n",
       "class E13--><a href=\"psysml:5cbde71f-e2d0-40cd-91ed-92f5bc776eb7\" target=\"_top\" title=\"psysml:5cbde71f-e2d0-40cd-91ed-92f5bc776eb7\" xlink:actuate=\"onRequest\" xlink:href=\"psysml:5cbde71f-e2d0-40cd-91ed-92f5bc776eb7\" xlink:show=\"new\" xlink:title=\"psysml:5cbde71f-e2d0-40cd-91ed-92f5bc776eb7\" xlink:type=\"simple\"><rect fill=\"#FFFFFF\" height=\"45.9375\" id=\"E13\" rx=\"10\" ry=\"10\" style=\"stroke: #383838; stroke-width: 1.5;\" width=\"212\" x=\"32\" y=\"283\"/><text fill=\"#000000\" font-family=\"sans-serif\" font-size=\"12\" font-style=\"italic\" lengthAdjust=\"spacingAndGlyphs\" textLength=\"210\" x=\"33\" y=\"299.1387\">«individual snapshot occurrence»</text><text fill=\"#000000\" font-family=\"sans-serif\" font-size=\"12\" lengthAdjust=\"spacingAndGlyphs\" textLength=\"42\" x=\"115\" y=\"313.1074\">s4: Ind</text><line style=\"stroke: #383838; stroke-width: 1.5;\" x1=\"33\" x2=\"243\" y1=\"320.9375\" y2=\"320.9375\"/></a><!--MD5=[209b3feb70ccb6233bfe1053d122c12c]\n",
       "reverse link E2 to E3--><a href=\"psysml:111e77a4-44f2-45ac-862d-a1e02a1cad26\" target=\"_top\" title=\"psysml:111e77a4-44f2-45ac-862d-a1e02a1cad26\" xlink:actuate=\"onRequest\" xlink:href=\"psysml:111e77a4-44f2-45ac-862d-a1e02a1cad26\" xlink:show=\"new\" xlink:title=\"psysml:111e77a4-44f2-45ac-862d-a1e02a1cad26\" xlink:type=\"simple\"><path d=\"M376.37,232.45 C359.85,249.83 343.43,268.76 332.86,282.93 \" fill=\"none\" id=\"E2&lt;-E3\" style=\"stroke: #383838; stroke-width: 1.0;\"/><polygon fill=\"#FFFFFF\" points=\"385.52,223,378.4729,224.5294,377.1743,231.6226,384.2213,230.0932,385.52,223\" style=\"stroke: #383838; stroke-width: 1.0;\"/></a><!--MD5=[05d275557350bfb9b23a4ef7222b4c39]\n",
       "link E3 to E2--><a href=\"psysml:0f45e557-8f0e-4df9-b1d8-28bd2526f5a3\" target=\"_top\" title=\"psysml:0f45e557-8f0e-4df9-b1d8-28bd2526f5a3\" xlink:actuate=\"onRequest\" xlink:href=\"psysml:0f45e557-8f0e-4df9-b1d8-28bd2526f5a3\" xlink:show=\"new\" xlink:title=\"psysml:0f45e557-8f0e-4df9-b1d8-28bd2526f5a3\" xlink:type=\"simple\"><path d=\"M353.8,282.93 C367.38,270.34 383.11,253.98 396.95,238.29 \" fill=\"none\" id=\"E3-&gt;E2\" style=\"stroke: #383838; stroke-width: 1.0;\"/><polygon fill=\"#FFFFFF\" points=\"410.02,223,403.0007,241.9929,392.3563,232.8991,410.02,223\" style=\"stroke: #383838; stroke-width: 1.0;\"/><ellipse cx=\"397.7776\" cy=\"245.0276\" fill=\"#383838\" rx=\"2\" ry=\"2\" style=\"stroke: #383838; stroke-width: 1.0;\"/><ellipse cx=\"390.1744\" cy=\"238.532\" fill=\"#383838\" rx=\"2\" ry=\"2\" style=\"stroke: #383838; stroke-width: 1.0;\"/></a><!--MD5=[9618e71518536f8baf3342ff6fdab317]\n",
       "reverse link E2 to E4--><a href=\"psysml:7f5381ff-79d6-4175-8599-1b084d5a38fb\" target=\"_top\" title=\"psysml:7f5381ff-79d6-4175-8599-1b084d5a38fb\" xlink:actuate=\"onRequest\" xlink:href=\"psysml:7f5381ff-79d6-4175-8599-1b084d5a38fb\" xlink:show=\"new\" xlink:title=\"psysml:7f5381ff-79d6-4175-8599-1b084d5a38fb\" xlink:type=\"simple\"><path d=\"M424.31,236.34 C425.74,252.61 428.58,269.81 432.23,282.93 \" fill=\"none\" id=\"E2&lt;-E4\" style=\"stroke: #383838; stroke-width: 1.0;\"/><polygon fill=\"#383838\" points=\"423.45,223,419.8475,229.2467,424.2281,234.9747,427.8306,228.728,423.45,223\" style=\"stroke: #383838; stroke-width: 1.0;\"/></a><!--MD5=[185131fc0dcab0a4505a2ebe144e961b]\n",
       "link E4 to E2--><a href=\"psysml:9af83ecd-fc65-4272-8374-c2ac75a0337a\" target=\"_top\" title=\"psysml:9af83ecd-fc65-4272-8374-c2ac75a0337a\" xlink:actuate=\"onRequest\" xlink:href=\"psysml:9af83ecd-fc65-4272-8374-c2ac75a0337a\" xlink:show=\"new\" xlink:title=\"psysml:9af83ecd-fc65-4272-8374-c2ac75a0337a\" xlink:type=\"simple\"><path d=\"M453.17,282.93 C453.77,271.65 452.99,257.34 451.22,243.21 \" fill=\"none\" id=\"E4-&gt;E2\" style=\"stroke: #383838; stroke-width: 1.0;\"/><polygon fill=\"#FFFFFF\" points=\"447.96,223,457.8973,240.6423,444.0761,242.8725,447.96,223\" style=\"stroke: #383838; stroke-width: 1.0;\"/><ellipse cx=\"456.8309\" cy=\"246.5881\" fill=\"#383838\" rx=\"2\" ry=\"2\" style=\"stroke: #383838; stroke-width: 1.0;\"/><ellipse cx=\"446.9586\" cy=\"248.1811\" fill=\"#383838\" rx=\"2\" ry=\"2\" style=\"stroke: #383838; stroke-width: 1.0;\"/></a><!--MD5=[4e1a83fab71cdb913c109063314ae896]\n",
       "reverse link E2 to E5--><a href=\"psysml:648e9e41-ac7c-450e-af70-439d81f3f540\" target=\"_top\" title=\"psysml:648e9e41-ac7c-450e-af70-439d81f3f540\" xlink:actuate=\"onRequest\" xlink:href=\"psysml:648e9e41-ac7c-450e-af70-439d81f3f540\" xlink:show=\"new\" xlink:title=\"psysml:648e9e41-ac7c-450e-af70-439d81f3f540\" xlink:type=\"simple\"><path d=\"M499.85,227.17 C531.12,245.87 566.86,267.24 592.97,282.85 \" fill=\"none\" id=\"E2&lt;-E5\" style=\"stroke: #383838; stroke-width: 1.0;\"/><polygon fill=\"#383838\" points=\"488.56,220.42,491.6568,226.9323,498.8592,226.5784,495.7624,220.0661,488.56,220.42\" style=\"stroke: #383838; stroke-width: 1.0;\"/></a><!--MD5=[ce036f65110ae2351ccce5a81dc2e928]\n",
       "reverse link E2 to E6--><a href=\"psysml:00b8b9a4-593e-406d-b505-212ff2a7c9c1\" target=\"_top\" title=\"psysml:00b8b9a4-593e-406d-b505-212ff2a7c9c1\" xlink:actuate=\"onRequest\" xlink:href=\"psysml:00b8b9a4-593e-406d-b505-212ff2a7c9c1\" xlink:show=\"new\" xlink:title=\"psysml:00b8b9a4-593e-406d-b505-212ff2a7c9c1\" xlink:type=\"simple\"><path d=\"M501.02,217.55 C506.06,219.49 511.08,221.33 516,223 C528.19,227.15 677.82,264.14 770.71,287 \" fill=\"none\" id=\"E2&lt;-E6\" style=\"stroke: #383838; stroke-width: 1.0;\"/><polygon fill=\"#383838\" points=\"488.57,212.58,492.6577,218.5206,499.7135,217.0321,495.6258,211.0916,488.57,212.58\" style=\"stroke: #383838; stroke-width: 1.0;\"/></a><!--MD5=[3a9b96bfbf6b6ad89c494e81751bda47]\n",
       "link E5 to E7--><a href=\"psysml:088b8ee7-f1bc-4574-b816-43bcf4f14b77\" target=\"_top\" title=\"psysml:088b8ee7-f1bc-4574-b816-43bcf4f14b77\" xlink:actuate=\"onRequest\" xlink:href=\"psysml:088b8ee7-f1bc-4574-b816-43bcf4f14b77\" xlink:show=\"new\" xlink:title=\"psysml:088b8ee7-f1bc-4574-b816-43bcf4f14b77\" xlink:type=\"simple\"><path d=\"M630,329.06 C630,340.64 630,355.23 630,368.87 \" fill=\"none\" id=\"E5-&gt;E7\" style=\"stroke: #383838; stroke-width: 1.0;\"/><polygon fill=\"#FFFFFF\" points=\"630,388.98,623,369.98,637,369.98,630,388.98\" style=\"stroke: #383838; stroke-width: 1.0;\"/><ellipse cx=\"625\" cy=\"364.28\" fill=\"#383838\" rx=\"2\" ry=\"2\" style=\"stroke: #383838; stroke-width: 1.0;\"/><ellipse cx=\"635\" cy=\"364.28\" fill=\"#383838\" rx=\"2\" ry=\"2\" style=\"stroke: #383838; stroke-width: 1.0;\"/></a><!--MD5=[dc164f5e8a733ab456ef1add180e9e34]\n",
       "reverse link E7 to E8--><a href=\"psysml:c8813ef9-ffa9-4c9d-80a4-dd20f6c80ea5\" target=\"_top\" title=\"psysml:c8813ef9-ffa9-4c9d-80a4-dd20f6c80ea5\" xlink:actuate=\"onRequest\" xlink:href=\"psysml:c8813ef9-ffa9-4c9d-80a4-dd20f6c80ea5\" xlink:show=\"new\" xlink:title=\"psysml:c8813ef9-ffa9-4c9d-80a4-dd20f6c80ea5\" xlink:type=\"simple\"><path d=\"M601.55,445.16 C587.25,461.33 570.28,480.51 557.48,494.98 \" fill=\"none\" id=\"E7&lt;-E8\" style=\"stroke: #383838; stroke-width: 1.0;\"/><polygon fill=\"#383838\" points=\"610.49,435.06,603.5177,436.9004,602.5348,444.0442,609.5071,442.2038,610.49,435.06\" style=\"stroke: #383838; stroke-width: 1.0;\"/></a><!--MD5=[e4a10ef82d0e328e31cac39a31e58dda]\n",
       "reverse link E7 to E9--><a href=\"psysml:cdca8d7c-6aa5-4fff-9e0e-900e3ba85343\" target=\"_top\" title=\"psysml:cdca8d7c-6aa5-4fff-9e0e-900e3ba85343\" xlink:actuate=\"onRequest\" xlink:href=\"psysml:cdca8d7c-6aa5-4fff-9e0e-900e3ba85343\" xlink:show=\"new\" xlink:title=\"psysml:cdca8d7c-6aa5-4fff-9e0e-900e3ba85343\" xlink:type=\"simple\"><path d=\"M658.14,445.16 C672.29,461.33 689.07,480.51 701.73,494.98 \" fill=\"none\" id=\"E7&lt;-E9\" style=\"stroke: #383838; stroke-width: 1.0;\"/><polygon fill=\"#383838\" points=\"649.3,435.06,650.2496,442.2083,657.2133,444.0811,656.2637,436.9328,649.3,435.06\" style=\"stroke: #383838; stroke-width: 1.0;\"/></a><!--MD5=[a919e0967d6f3de553dc51b9865a1d6d]\n",
       "link E10 to E7--><a href=\"psysml:43f26010-ca40-42d6-8df0-e4847d82fc63\" target=\"_top\" title=\"psysml:43f26010-ca40-42d6-8df0-e4847d82fc63\" xlink:actuate=\"onRequest\" xlink:href=\"psysml:43f26010-ca40-42d6-8df0-e4847d82fc63\" xlink:show=\"new\" xlink:title=\"psysml:43f26010-ca40-42d6-8df0-e4847d82fc63\" xlink:type=\"simple\"><path d=\"M564.36,87.23 C542.92,120.68 510.65,184.15 544,223 C658.5,356.41 820.5,149.59 935,283 C997.3,355.58 849.41,387.9 738.47,401.63 \" fill=\"none\" id=\"E10-&gt;E7\" style=\"stroke: #383838; stroke-width: 1.0;\"/><polygon fill=\"#FFFFFF\" points=\"718.6,403.94,736.6627,394.7891,738.2822,408.6951,718.6,403.94\" style=\"stroke: #383838; stroke-width: 1.0;\"/><ellipse cx=\"742.5558\" cy=\"396.1162\" fill=\"#383838\" rx=\"2\" ry=\"2\" style=\"stroke: #383838; stroke-width: 1.0;\"/><ellipse cx=\"743.7126\" cy=\"406.0491\" fill=\"#383838\" rx=\"2\" ry=\"2\" style=\"stroke: #383838; stroke-width: 1.0;\"/></a><!--MD5=[0f36bececdf0dff6e600d6f64214b0f1]\n",
       "link E10 to E2--><a href=\"psysml:ac89f7fb-b091-4bc7-aaea-6377fc157ffe\" target=\"_top\" title=\"psysml:ac89f7fb-b091-4bc7-aaea-6377fc157ffe\" xlink:actuate=\"onRequest\" xlink:href=\"psysml:ac89f7fb-b091-4bc7-aaea-6377fc157ffe\" xlink:show=\"new\" xlink:title=\"psysml:ac89f7fb-b091-4bc7-aaea-6377fc157ffe\" xlink:type=\"simple\"><path d=\"M552.32,87.1 C535.71,100.38 513.86,117.82 493.29,134.25 \" fill=\"none\" id=\"E10-&gt;E2\" style=\"stroke: #383838; stroke-width: 1.0;\"/><polygon fill=\"#FFFFFF\" points=\"477.56,146.81,488.0352,129.4817,496.7737,140.4197,477.56,146.81\" style=\"stroke: #383838; stroke-width: 1.0;\"/><ellipse cx=\"493.7369\" cy=\"127.4865\" fill=\"#383838\" rx=\"2\" ry=\"2\" style=\"stroke: #383838; stroke-width: 1.0;\"/><ellipse cx=\"499.9786\" cy=\"135.2994\" fill=\"#383838\" rx=\"2\" ry=\"2\" style=\"stroke: #383838; stroke-width: 1.0;\"/></a><!--MD5=[de308be4a2431766a05a907a031c07fc]\n",
       "reverse link E10 to E11--><a href=\"psysml:75c081c5-05e2-401c-b103-d900689a3a49\" target=\"_top\" title=\"psysml:75c081c5-05e2-401c-b103-d900689a3a49\" xlink:actuate=\"onRequest\" xlink:href=\"psysml:75c081c5-05e2-401c-b103-d900689a3a49\" xlink:show=\"new\" xlink:title=\"psysml:75c081c5-05e2-401c-b103-d900689a3a49\" xlink:type=\"simple\"><path d=\"M595.95,98.9 C605.42,119.01 617.15,143.94 625.46,161.61 \" fill=\"none\" id=\"E10&lt;-E11\" style=\"stroke: #383838; stroke-width: 1.0;\"/><polygon fill=\"#383838\" points=\"590.4,87.1,589.3334,94.2318,595.5064,97.9593,596.573,90.8275,590.4,87.1\" style=\"stroke: #383838; stroke-width: 1.0;\"/></a><!--MD5=[1d54f998c6d5961a1a9184be73a7eb6c]\n",
       "reverse link E10 to E12--><a href=\"psysml:54130436-8b1f-4706-a610-d99b2d4cb5d4\" target=\"_top\" title=\"psysml:54130436-8b1f-4706-a610-d99b2d4cb5d4\" xlink:actuate=\"onRequest\" xlink:href=\"psysml:54130436-8b1f-4706-a610-d99b2d4cb5d4\" xlink:show=\"new\" xlink:title=\"psysml:54130436-8b1f-4706-a610-d99b2d4cb5d4\" xlink:type=\"simple\"><path d=\"M642.21,92.42 C689.99,113.48 755.13,142.19 799.66,161.81 \" fill=\"none\" id=\"E10&lt;-E12\" style=\"stroke: #383838; stroke-width: 1.0;\"/><polygon fill=\"#383838\" points=\"630.15,87.1,634.028,93.1796,641.1314,91.9382,637.2534,85.8586,630.15,87.1\" style=\"stroke: #383838; stroke-width: 1.0;\"/></a><!--MD5=[4a48077df6499cfcd20b62e8f5f37904]\n",
       "link E13 to E7--><a href=\"psysml:85f16706-e1b7-404d-9ee5-57d420bfb7f2\" target=\"_top\" title=\"psysml:85f16706-e1b7-404d-9ee5-57d420bfb7f2\" xlink:actuate=\"onRequest\" xlink:href=\"psysml:85f16706-e1b7-404d-9ee5-57d420bfb7f2\" xlink:show=\"new\" xlink:title=\"psysml:85f16706-e1b7-404d-9ee5-57d420bfb7f2\" xlink:type=\"simple\"><path d=\"M242.34,329.06 C324.51,346.43 438.67,370.56 521.82,388.13 \" fill=\"none\" id=\"E13-&gt;E7\" style=\"stroke: #383838; stroke-width: 1.0;\"/><polygon fill=\"#FFFFFF\" points=\"541.45,392.28,521.4143,395.2075,524.304,381.509,541.45,392.28\" style=\"stroke: #383838; stroke-width: 1.0;\"/><ellipse cx=\"516.2498\" cy=\"392.0741\" fill=\"#383838\" rx=\"2\" ry=\"2\" style=\"stroke: #383838; stroke-width: 1.0;\"/><ellipse cx=\"518.3139\" cy=\"382.2894\" fill=\"#383838\" rx=\"2\" ry=\"2\" style=\"stroke: #383838; stroke-width: 1.0;\"/></a><!--MD5=[c6affbee038423c8c17ff514e0ae7636]\n",
       "@startuml\r\n",
       "skinparam monochrome true\r\n",
       "skinparam classbackgroundcolor white\r\n",
       "skinparam shadowing false\r\n",
       "skinparam wrapWidth 300\r\n",
       "hide circle\r\n",
       "\r\n",
       "package \"OccurrenceTest\" as E1  [[psysml:53f1d42d-2686-4f4b-950f-b84b40bc19b2 ]]  {\r\n",
       "comp def \"Occ\" as E2  <<(T,blue) occurrence  def>> [[psysml:77ba500d-77fd-484e-b411-8833010da35e ]] {\r\n",
       "- - attributes - -\r\n",
       "a\r\n",
       "}\r\n",
       "comp usage \"occ1: Occ \" as E3  <<(T,blue) occurrence>> [[psysml:37011562-c12e-4ce2-bbf9-af5619a300f0 ]] {\r\n",
       "}\r\n",
       "comp usage \"occ2: Occ \" as E4  <<(T,blue) occurrence>> [[psysml:3522e0a2-d0dd-4c95-916a-e9f89fbadd86 ]] {\r\n",
       "}\r\n",
       "comp usage \"s: Ind \" as E5  <<(T,blue) individual snapshot occurrence>> [[psysml:2ba1b44f-ac88-49ba-a1da-8edc5df2da3a ]] {\r\n",
       "}\r\n",
       "comp usage \"t \" as E6  <<(T,blue) timeslice occurrence>> [[psysml:aefaf76d-f241-48e8-80ea-b99598299972 ]] {\r\n",
       "}\r\n",
       "comp def \"Ind\" as E7  <<(T,blue) individual occurrence  def>> [[psysml:991e81ed-291b-4563-955c-44288cc9fc81 ]] {\r\n",
       "}\r\n",
       "comp usage \"s2 \" as E8  <<(T,blue) snapshot occurrence>> [[psysml:fb7dbc0d-a670-4e6d-a2b6-24a9a70c023a ]] {\r\n",
       "}\r\n",
       "comp usage \"t2 \" as E9  <<(T,blue) timeslice occurrence>> [[psysml:ae0fd4ea-8dc7-4cb0-a32c-5615a8f756eb ]] {\r\n",
       "}\r\n",
       "comp usage \"ind: Ind, Occ \" as E10  <<(T,blue) individual occurrence>> [[psysml:90168d9a-6358-4939-88d7-8ec9974b52c6 ]] {\r\n",
       "}\r\n",
       "comp usage \"s3 \" as E11  <<(T,blue) snapshot occurrence>> [[psysml:d0eba55f-a402-4b22-88ba-9857d6bd50ac ]] {\r\n",
       "}\r\n",
       "comp usage \"t3 \" as E12  <<(T,blue) individual timeslice occurrence>> [[psysml:0232df4f-93e4-4add-8902-f942e03a0634 ]] {\r\n",
       "}\r\n",
       "comp usage \"s4: Ind \" as E13  <<(T,blue) individual snapshot occurrence>> [[psysml:5cbde71f-e2d0-40cd-91ed-92f5bc776eb7 ]] {\r\n",
       "}\r\n",
       "}\r\n",
       "E2 o- - E3 [[psysml:111e77a4-44f2-45ac-862d-a1e02a1cad26 ]] \r\n",
       "E3 - -:|> E2 [[psysml:0f45e557-8f0e-4df9-b1d8-28bd2526f5a3 ]] \r\n",
       "E2 *- - E4 [[psysml:7f5381ff-79d6-4175-8599-1b084d5a38fb ]] \r\n",
       "E4 - -:|> E2 [[psysml:9af83ecd-fc65-4272-8374-c2ac75a0337a ]] \r\n",
       "E2 *- - E5 [[psysml:648e9e41-ac7c-450e-af70-439d81f3f540 ]] \r\n",
       "E2 *- - E6 [[psysml:00b8b9a4-593e-406d-b505-212ff2a7c9c1 ]] \r\n",
       "E5 - -:|> E7 [[psysml:088b8ee7-f1bc-4574-b816-43bcf4f14b77 ]] \r\n",
       "E7 *- - E8 [[psysml:c8813ef9-ffa9-4c9d-80a4-dd20f6c80ea5 ]] \r\n",
       "E7 *- - E9 [[psysml:cdca8d7c-6aa5-4fff-9e0e-900e3ba85343 ]] \r\n",
       "E10 - -:|> E7 [[psysml:43f26010-ca40-42d6-8df0-e4847d82fc63 ]] \r\n",
       "E10 - -:|> E2 [[psysml:ac89f7fb-b091-4bc7-aaea-6377fc157ffe ]] \r\n",
       "E10 *- - E11 [[psysml:75c081c5-05e2-401c-b103-d900689a3a49 ]] \r\n",
       "E10 *- - E12 [[psysml:54130436-8b1f-4706-a610-d99b2d4cb5d4 ]] \r\n",
       "E13 - -:|> E7 [[psysml:85f16706-e1b7-404d-9ee5-57d420bfb7f2 ]] \r\n",
       "@enduml\r\n",
       "\n",
       "PlantUML version 1.2020.13(Sat Jun 13 12:26:38 UTC 2020)\n",
       "(EPL source distribution)\n",
       "Java Runtime: OpenJDK Runtime Environment\n",
       "JVM: OpenJDK 64-Bit Server VM\n",
       "Default Encoding: UTF-8\n",
       "Language: en\n",
       "Country: null\n",
       "--></g></svg>"
      ]
     },
     "execution_count": 38,
     "metadata": {},
     "output_type": "execute_result"
    }
   ],
   "source": [
    "%viz --style=\"DEFAULT\" --view=\"Tree\" \"OccurrenceTest\""
   ]
  },
  {
   "cell_type": "code",
   "execution_count": 39,
   "id": "06d66404",
   "metadata": {
    "execution": {
     "iopub.execute_input": "2022-07-23T10:52:33.570963Z",
     "iopub.status.busy": "2022-07-23T10:52:33.570499Z",
     "iopub.status.idle": "2022-07-23T10:52:33.574872Z",
     "shell.execute_reply": "2022-07-23T10:52:33.575245Z"
    }
   },
   "outputs": [
    {
     "data": {
      "image/svg+xml": [
       "<?xml version=\"1.0\" encoding=\"UTF-8\" standalone=\"no\"?><svg xmlns=\"http://www.w3.org/2000/svg\" xmlns:xlink=\"http://www.w3.org/1999/xlink\" contentScriptType=\"application/ecmascript\" contentStyleType=\"text/css\" height=\"12px\" preserveAspectRatio=\"none\" style=\"width:12px;height:12px;\" version=\"1.1\" viewBox=\"0 0 12 12\" width=\"12px\" zoomAndPan=\"magnify\"><defs/><g><!--MD5=[c5f280e076d0d61ccf4b0f27871bda1d]\n",
       "@startuml\r\n",
       "skinparam monochrome true\r\n",
       "skinparam classbackgroundcolor white\r\n",
       "skinparam shadowing false\r\n",
       "skinparam wrapWidth 300\r\n",
       "hide circle\r\n",
       "\r\n",
       "@enduml\r\n",
       "\n",
       "PlantUML version 1.2020.13(Sat Jun 13 12:26:38 UTC 2020)\n",
       "(EPL source distribution)\n",
       "Java Runtime: OpenJDK Runtime Environment\n",
       "JVM: OpenJDK 64-Bit Server VM\n",
       "Default Encoding: UTF-8\n",
       "Language: en\n",
       "Country: null\n",
       "--></g></svg>"
      ]
     },
     "execution_count": 39,
     "metadata": {},
     "output_type": "execute_result"
    }
   ],
   "source": [
    "%viz --style=\"DEFAULT\" --view=\"State\" \"OccurrenceTest\""
   ]
  },
  {
   "cell_type": "code",
   "execution_count": 40,
   "id": "d877431c",
   "metadata": {
    "execution": {
     "iopub.execute_input": "2022-07-23T10:52:33.625745Z",
     "iopub.status.busy": "2022-07-23T10:52:33.625000Z",
     "iopub.status.idle": "2022-07-23T10:52:33.658163Z",
     "shell.execute_reply": "2022-07-23T10:52:33.656593Z"
    }
   },
   "outputs": [
    {
     "data": {
      "image/svg+xml": [
       "<?xml version=\"1.0\" encoding=\"UTF-8\" standalone=\"no\"?><svg xmlns=\"http://www.w3.org/2000/svg\" xmlns:xlink=\"http://www.w3.org/1999/xlink\" contentScriptType=\"application/ecmascript\" contentStyleType=\"text/css\" height=\"278px\" preserveAspectRatio=\"none\" style=\"width:802px;height:278px;\" version=\"1.1\" viewBox=\"0 0 802 278\" width=\"802px\" zoomAndPan=\"magnify\"><defs/><g><!--MD5=[fbc87193dbaf4d95561dea2c320d4a47]\n",
       "cluster E1--><a href=\"psysml:53f1d42d-2686-4f4b-950f-b84b40bc19b2\" target=\"_top\" title=\"psysml:53f1d42d-2686-4f4b-950f-b84b40bc19b2\" xlink:actuate=\"onRequest\" xlink:href=\"psysml:53f1d42d-2686-4f4b-950f-b84b40bc19b2\" xlink:show=\"new\" xlink:title=\"psysml:53f1d42d-2686-4f4b-950f-b84b40bc19b2\" xlink:type=\"simple\"><polygon fill=\"#FFFFFF\" points=\"16,6,134,6,141,28.2969,780,28.2969,780,266,16,266,16,6\" style=\"stroke: #000000; stroke-width: 1.5;\"/><line style=\"stroke: #000000; stroke-width: 1.5;\" x1=\"16\" x2=\"141\" y1=\"28.2969\" y2=\"28.2969\"/><text fill=\"#000000\" font-family=\"sans-serif\" font-size=\"14\" font-weight=\"bold\" lengthAdjust=\"spacingAndGlyphs\" textLength=\"112\" x=\"20\" y=\"20.9951\">OccurrenceTest</text></a><!--MD5=[f6df4d0ebaf0b5dfb2ced0ae5af7c670]\n",
       "cluster E4--><a href=\"psysml:90168d9a-6358-4939-88d7-8ec9974b52c6\" target=\"_top\" title=\"psysml:90168d9a-6358-4939-88d7-8ec9974b52c6\" xlink:actuate=\"onRequest\" xlink:href=\"psysml:90168d9a-6358-4939-88d7-8ec9974b52c6\" xlink:show=\"new\" xlink:title=\"psysml:90168d9a-6358-4939-88d7-8ec9974b52c6\" xlink:type=\"simple\"><rect fill=\"#FFFFFF\" height=\"126\" id=\"E4\" rx=\"10\" ry=\"10\" style=\"stroke: #383838; stroke-width: 1.5;\" width=\"471\" x=\"277\" y=\"57\"/><rect fill=\"#F8F8F8\" height=\"37.9375\" rx=\"10\" ry=\"10\" style=\"stroke: #F8F8F8; stroke-width: 1.5;\" width=\"471\" x=\"277\" y=\"57\"/><rect fill=\"#F8F8F8\" height=\"10\" style=\"stroke: #F8F8F8; stroke-width: 1.5;\" width=\"471\" x=\"277\" y=\"84.9375\"/><rect fill=\"none\" height=\"126\" id=\"E4\" rx=\"10\" ry=\"10\" style=\"stroke: #383838; stroke-width: 1.5;\" width=\"471\" x=\"277\" y=\"57\"/><text fill=\"#000000\" font-family=\"sans-serif\" font-size=\"12\" font-style=\"italic\" lengthAdjust=\"spacingAndGlyphs\" textLength=\"147\" x=\"439\" y=\"73.1387\">«individual occurrence»</text><text fill=\"#000000\" font-family=\"sans-serif\" font-size=\"12\" lengthAdjust=\"spacingAndGlyphs\" textLength=\"77\" x=\"474\" y=\"87.1074\">ind: Ind, Occ</text><line style=\"stroke: #383838; stroke-width: 1.0;\" x1=\"277\" x2=\"748\" y1=\"94.9375\" y2=\"94.9375\"/></a><g id=\"E1.E2\"><a href=\"psysml:77ba500d-77fd-484e-b411-8833010da35e\" target=\"_top\" title=\"psysml:77ba500d-77fd-484e-b411-8833010da35e\" xlink:actuate=\"onRequest\" xlink:href=\"psysml:77ba500d-77fd-484e-b411-8833010da35e\" xlink:show=\"new\" xlink:title=\"psysml:77ba500d-77fd-484e-b411-8833010da35e\" xlink:type=\"simple\"><rect fill=\"#FFFFFF\" height=\"42.9375\" id=\"E2\" style=\"stroke: #383838; stroke-width: 1.5;\" width=\"120\" x=\"267\" y=\"207\"/><rect fill=\"#F8F8F8\" height=\"37.9375\" style=\"stroke: #383838; stroke-width: 1.5;\" width=\"120\" x=\"267\" y=\"207\"/><text fill=\"#000000\" font-family=\"sans-serif\" font-size=\"12\" font-style=\"italic\" lengthAdjust=\"spacingAndGlyphs\" textLength=\"113\" x=\"270.5\" y=\"223.1387\">«occurrence  def»</text><text fill=\"#000000\" font-family=\"sans-serif\" font-size=\"12\" lengthAdjust=\"spacingAndGlyphs\" textLength=\"23\" x=\"315.5\" y=\"237.1074\">Occ</text></a></g><g id=\"E1.E3\"><a href=\"psysml:991e81ed-291b-4563-955c-44288cc9fc81\" target=\"_top\" title=\"psysml:991e81ed-291b-4563-955c-44288cc9fc81\" xlink:actuate=\"onRequest\" xlink:href=\"psysml:991e81ed-291b-4563-955c-44288cc9fc81\" xlink:show=\"new\" xlink:title=\"psysml:991e81ed-291b-4563-955c-44288cc9fc81\" xlink:type=\"simple\"><rect fill=\"#FFFFFF\" height=\"42.9375\" id=\"E3\" style=\"stroke: #383838; stroke-width: 1.5;\" width=\"182\" x=\"50\" y=\"207\"/><rect fill=\"#F8F8F8\" height=\"37.9375\" style=\"stroke: #383838; stroke-width: 1.5;\" width=\"182\" x=\"50\" y=\"207\"/><text fill=\"#000000\" font-family=\"sans-serif\" font-size=\"12\" font-style=\"italic\" lengthAdjust=\"spacingAndGlyphs\" textLength=\"175\" x=\"53.5\" y=\"223.1387\">«individual occurrence  def»</text><text fill=\"#000000\" font-family=\"sans-serif\" font-size=\"12\" lengthAdjust=\"spacingAndGlyphs\" textLength=\"19\" x=\"131.5\" y=\"237.1074\">Ind</text></a></g><g id=\"E1.E4.E5\"><a href=\"psysml:d0eba55f-a402-4b22-88ba-9857d6bd50ac\" target=\"_top\" title=\"psysml:d0eba55f-a402-4b22-88ba-9857d6bd50ac\" xlink:actuate=\"onRequest\" xlink:href=\"psysml:d0eba55f-a402-4b22-88ba-9857d6bd50ac\" xlink:show=\"new\" xlink:title=\"psysml:d0eba55f-a402-4b22-88ba-9857d6bd50ac\" xlink:type=\"simple\"><rect fill=\"#FFFFFF\" height=\"42.9375\" id=\"E5\" rx=\"10\" ry=\"10\" style=\"stroke: #383838; stroke-width: 1.5;\" width=\"155\" x=\"568.5\" y=\"116\"/><rect fill=\"#F8F8F8\" height=\"37.9375\" rx=\"10\" ry=\"10\" style=\"stroke: #F8F8F8; stroke-width: 1.5;\" width=\"155\" x=\"568.5\" y=\"116\"/><rect fill=\"#F8F8F8\" height=\"10\" style=\"stroke: #F8F8F8; stroke-width: 1.5;\" width=\"155\" x=\"568.5\" y=\"143.9375\"/><rect fill=\"none\" height=\"42.9375\" id=\"E5\" rx=\"10\" ry=\"10\" style=\"stroke: #383838; stroke-width: 1.5;\" width=\"155\" x=\"568.5\" y=\"116\"/><text fill=\"#000000\" font-family=\"sans-serif\" font-size=\"12\" font-style=\"italic\" lengthAdjust=\"spacingAndGlyphs\" textLength=\"148\" x=\"572\" y=\"132.1387\">«snapshot occurrence»</text><text fill=\"#000000\" font-family=\"sans-serif\" font-size=\"12\" lengthAdjust=\"spacingAndGlyphs\" textLength=\"15\" x=\"638.5\" y=\"146.1074\">s3</text></a></g><g id=\"E1.E4.E6\"><a href=\"psysml:0232df4f-93e4-4add-8902-f942e03a0634\" target=\"_top\" title=\"psysml:0232df4f-93e4-4add-8902-f942e03a0634\" xlink:actuate=\"onRequest\" xlink:href=\"psysml:0232df4f-93e4-4add-8902-f942e03a0634\" xlink:show=\"new\" xlink:title=\"psysml:0232df4f-93e4-4add-8902-f942e03a0634\" xlink:type=\"simple\"><rect fill=\"#FFFFFF\" height=\"42.9375\" id=\"E6\" rx=\"10\" ry=\"10\" style=\"stroke: #383838; stroke-width: 1.5;\" width=\"213\" x=\"320.5\" y=\"116\"/><rect fill=\"#F8F8F8\" height=\"37.9375\" rx=\"10\" ry=\"10\" style=\"stroke: #F8F8F8; stroke-width: 1.5;\" width=\"213\" x=\"320.5\" y=\"116\"/><rect fill=\"#F8F8F8\" height=\"10\" style=\"stroke: #F8F8F8; stroke-width: 1.5;\" width=\"213\" x=\"320.5\" y=\"143.9375\"/><rect fill=\"none\" height=\"42.9375\" id=\"E6\" rx=\"10\" ry=\"10\" style=\"stroke: #383838; stroke-width: 1.5;\" width=\"213\" x=\"320.5\" y=\"116\"/><text fill=\"#000000\" font-family=\"sans-serif\" font-size=\"12\" font-style=\"italic\" lengthAdjust=\"spacingAndGlyphs\" textLength=\"206\" x=\"324\" y=\"132.1387\">«individual timeslice occurrence»</text><text fill=\"#000000\" font-family=\"sans-serif\" font-size=\"12\" lengthAdjust=\"spacingAndGlyphs\" textLength=\"13\" x=\"420.5\" y=\"146.1074\">t3</text></a></g><g id=\"E1.E7\"><a href=\"psysml:5cbde71f-e2d0-40cd-91ed-92f5bc776eb7\" target=\"_top\" title=\"psysml:5cbde71f-e2d0-40cd-91ed-92f5bc776eb7\" xlink:actuate=\"onRequest\" xlink:href=\"psysml:5cbde71f-e2d0-40cd-91ed-92f5bc776eb7\" xlink:show=\"new\" xlink:title=\"psysml:5cbde71f-e2d0-40cd-91ed-92f5bc776eb7\" xlink:type=\"simple\"><rect fill=\"#FFFFFF\" height=\"42.9375\" id=\"E7\" rx=\"10\" ry=\"10\" style=\"stroke: #383838; stroke-width: 1.5;\" width=\"217\" x=\"32.5\" y=\"116\"/><rect fill=\"#F8F8F8\" height=\"37.9375\" rx=\"10\" ry=\"10\" style=\"stroke: #F8F8F8; stroke-width: 1.5;\" width=\"217\" x=\"32.5\" y=\"116\"/><rect fill=\"#F8F8F8\" height=\"10\" style=\"stroke: #F8F8F8; stroke-width: 1.5;\" width=\"217\" x=\"32.5\" y=\"143.9375\"/><rect fill=\"none\" height=\"42.9375\" id=\"E7\" rx=\"10\" ry=\"10\" style=\"stroke: #383838; stroke-width: 1.5;\" width=\"217\" x=\"32.5\" y=\"116\"/><text fill=\"#000000\" font-family=\"sans-serif\" font-size=\"12\" font-style=\"italic\" lengthAdjust=\"spacingAndGlyphs\" textLength=\"210\" x=\"36\" y=\"132.1387\">«individual snapshot occurrence»</text><text fill=\"#000000\" font-family=\"sans-serif\" font-size=\"12\" lengthAdjust=\"spacingAndGlyphs\" textLength=\"42\" x=\"120\" y=\"146.1074\">s4: Ind</text></a></g><!--MD5=[f0cdf4548168e5211fb3a02bf679d63a]\n",
       "link E4 to E3--><a href=\"psysml:43f26010-ca40-42d6-8df0-e4847d82fc63\" target=\"_top\" title=\"psysml:43f26010-ca40-42d6-8df0-e4847d82fc63\" xlink:actuate=\"onRequest\" xlink:href=\"psysml:43f26010-ca40-42d6-8df0-e4847d82fc63\" xlink:show=\"new\" xlink:title=\"psysml:43f26010-ca40-42d6-8df0-e4847d82fc63\" xlink:type=\"simple\"><path d=\"M288.6717,183.098 C288.6493,183.1971 288.6265,183.2961 288.6034,183.395 C288.5573,183.5929 288.5099,183.7903 288.4613,183.9873 C288.2668,184.7755 288.0523,185.5571 287.8164,186.3304 C287.3447,187.8771 286.7878,189.3908 286.1357,190.8582 C284.8314,193.793 283.1463,196.5425 281,199 C280.25,199.86 268.42,202.57 251.92,205.99 \" fill=\"none\" id=\"E4-&gt;E3\" style=\"stroke: #383838; stroke-width: 1.0;\"/><polygon fill=\"#FFFFFF\" points=\"232.08,210.03,249.304,199.3842,252.0939,213.1034,232.08,210.03\" style=\"stroke: #383838; stroke-width: 1.0;\"/><ellipse cx=\"255.2882\" cy=\"200.2082\" fill=\"#383838\" rx=\"2\" ry=\"2\" style=\"stroke: #383838; stroke-width: 1.0;\"/><ellipse cx=\"257.281\" cy=\"210.0076\" fill=\"#383838\" rx=\"2\" ry=\"2\" style=\"stroke: #383838; stroke-width: 1.0;\"/></a><!--MD5=[185131fc0dcab0a4505a2ebe144e961b]\n",
       "link E4 to E2--><a href=\"psysml:ac89f7fb-b091-4bc7-aaea-6377fc157ffe\" target=\"_top\" title=\"psysml:ac89f7fb-b091-4bc7-aaea-6377fc157ffe\" xlink:actuate=\"onRequest\" xlink:href=\"psysml:ac89f7fb-b091-4bc7-aaea-6377fc157ffe\" xlink:show=\"new\" xlink:title=\"psysml:ac89f7fb-b091-4bc7-aaea-6377fc157ffe\" xlink:type=\"simple\"><path d=\"M298.6244,183.1688 C298.6641,183.2672 298.704,183.3657 298.744,183.4642 C298.8239,183.6612 298.9043,183.8585 298.9851,184.056 C299.6311,185.6364 300.3025,187.2325 301,188.84 \" fill=\"none\" id=\"E4-&gt;E2\" style=\"stroke: #383838; stroke-width: 1.0;\"/><polygon fill=\"#FFFFFF\" points=\"309.82,206.88,295.1865,192.885,307.764,186.7362,309.82,206.88\" style=\"stroke: #383838; stroke-width: 1.0;\"/><ellipse cx=\"294.4799\" cy=\"186.8857\" fill=\"#383838\" rx=\"2\" ry=\"2\" style=\"stroke: #383838; stroke-width: 1.0;\"/><ellipse cx=\"303.4638\" cy=\"182.4938\" fill=\"#383838\" rx=\"2\" ry=\"2\" style=\"stroke: #383838; stroke-width: 1.0;\"/></a><!--MD5=[14ccda38c055a5c0da953d572bc50960]\n",
       "link E7 to E3--><a href=\"psysml:85f16706-e1b7-404d-9ee5-57d420bfb7f2\" target=\"_top\" title=\"psysml:85f16706-e1b7-404d-9ee5-57d420bfb7f2\" xlink:actuate=\"onRequest\" xlink:href=\"psysml:85f16706-e1b7-404d-9ee5-57d420bfb7f2\" xlink:show=\"new\" xlink:title=\"psysml:85f16706-e1b7-404d-9ee5-57d420bfb7f2\" xlink:type=\"simple\"><path d=\"M141,159.14 C141,167.34 141,177.08 141,186.59 \" fill=\"none\" id=\"E7-&gt;E3\" style=\"stroke: #383838; stroke-width: 1.0;\"/><polygon fill=\"#FFFFFF\" points=\"141,206.97,134,187.97,148,187.97,141,206.97\" style=\"stroke: #383838; stroke-width: 1.0;\"/><ellipse cx=\"136\" cy=\"182.27\" fill=\"#383838\" rx=\"2\" ry=\"2\" style=\"stroke: #383838; stroke-width: 1.0;\"/><ellipse cx=\"146\" cy=\"182.27\" fill=\"#383838\" rx=\"2\" ry=\"2\" style=\"stroke: #383838; stroke-width: 1.0;\"/></a><!--MD5=[7c4faa80ded02e3bbdf9b25bbf5f4fb7]\n",
       "@startuml\r\n",
       "skinparam ranksep 10\r\n",
       "skinparam rectangle {\r\n",
       " backgroundColor<<block>> LightGreen\r\n",
       "}\r\n",
       "skinparam monochrome true\r\n",
       "skinparam classbackgroundcolor white\r\n",
       "skinparam shadowing false\r\n",
       "skinparam wrapWidth 300\r\n",
       "hide circle\r\n",
       "\r\n",
       "package \"OccurrenceTest\" as E1  [[psysml:53f1d42d-2686-4f4b-950f-b84b40bc19b2 ]]  {\r\n",
       "def \"Occ\" as E2  <<(T,blue) occurrence  def>> [[psysml:77ba500d-77fd-484e-b411-8833010da35e ]] \r\n",
       "def \"Ind\" as E3  <<(T,blue) individual occurrence  def>> [[psysml:991e81ed-291b-4563-955c-44288cc9fc81 ]] \r\n",
       "rec usage \"ind: Ind, Occ\" as E4  <<(T,blue) individual occurrence>> [[psysml:90168d9a-6358-4939-88d7-8ec9974b52c6 ]] {\r\n",
       "rec usage \"s3\" as E5  <<(T,blue) snapshot occurrence>> [[psysml:d0eba55f-a402-4b22-88ba-9857d6bd50ac ]] {\r\n",
       "}\r\n",
       "rec usage \"t3\" as E6  <<(T,blue) individual timeslice occurrence>> [[psysml:0232df4f-93e4-4add-8902-f942e03a0634 ]] {\r\n",
       "}\r\n",
       "}\r\n",
       "rec usage \"s4: Ind\" as E7  <<(T,blue) individual snapshot occurrence>> [[psysml:5cbde71f-e2d0-40cd-91ed-92f5bc776eb7 ]] {\r\n",
       "}\r\n",
       "}\r\n",
       "E4 - -:|> E3 [[psysml:43f26010-ca40-42d6-8df0-e4847d82fc63 ]] \r\n",
       "E4 - -:|> E2 [[psysml:ac89f7fb-b091-4bc7-aaea-6377fc157ffe ]] \r\n",
       "E7 - -:|> E3 [[psysml:85f16706-e1b7-404d-9ee5-57d420bfb7f2 ]] \r\n",
       "@enduml\r\n",
       "\n",
       "PlantUML version 1.2020.13(Sat Jun 13 12:26:38 UTC 2020)\n",
       "(EPL source distribution)\n",
       "Java Runtime: OpenJDK Runtime Environment\n",
       "JVM: OpenJDK 64-Bit Server VM\n",
       "Default Encoding: UTF-8\n",
       "Language: en\n",
       "Country: null\n",
       "--></g></svg>"
      ]
     },
     "execution_count": 40,
     "metadata": {},
     "output_type": "execute_result"
    }
   ],
   "source": [
    "%viz --style=\"DEFAULT\" --view=\"Interconnection\" \"OccurrenceTest\""
   ]
  },
  {
   "cell_type": "code",
   "execution_count": 41,
   "id": "d4633681",
   "metadata": {
    "execution": {
     "iopub.execute_input": "2022-07-23T10:52:33.707834Z",
     "iopub.status.busy": "2022-07-23T10:52:33.707113Z",
     "iopub.status.idle": "2022-07-23T10:52:33.712355Z",
     "shell.execute_reply": "2022-07-23T10:52:33.711934Z"
    }
   },
   "outputs": [
    {
     "data": {
      "image/svg+xml": [
       "<?xml version=\"1.0\" encoding=\"UTF-8\" standalone=\"no\"?><svg xmlns=\"http://www.w3.org/2000/svg\" xmlns:xlink=\"http://www.w3.org/1999/xlink\" contentScriptType=\"application/ecmascript\" contentStyleType=\"text/css\" height=\"12px\" preserveAspectRatio=\"none\" style=\"width:12px;height:12px;\" version=\"1.1\" viewBox=\"0 0 12 12\" width=\"12px\" zoomAndPan=\"magnify\"><defs/><g><!--MD5=[388f21188e31bfdd97050473b19af356]\n",
       "@startuml\r\n",
       "skinparam ranksep 8\r\n",
       "skinparam monochrome true\r\n",
       "skinparam classbackgroundcolor white\r\n",
       "skinparam shadowing false\r\n",
       "skinparam wrapWidth 300\r\n",
       "hide circle\r\n",
       "\r\n",
       "@enduml\r\n",
       "\n",
       "PlantUML version 1.2020.13(Sat Jun 13 12:26:38 UTC 2020)\n",
       "(EPL source distribution)\n",
       "Java Runtime: OpenJDK Runtime Environment\n",
       "JVM: OpenJDK 64-Bit Server VM\n",
       "Default Encoding: UTF-8\n",
       "Language: en\n",
       "Country: null\n",
       "--></g></svg>"
      ]
     },
     "execution_count": 41,
     "metadata": {},
     "output_type": "execute_result"
    }
   ],
   "source": [
    "%viz --style=\"DEFAULT\" --view=\"Action\" \"OccurrenceTest\""
   ]
  },
  {
   "cell_type": "code",
   "execution_count": 42,
   "id": "4be25c60",
   "metadata": {
    "execution": {
     "iopub.execute_input": "2022-07-23T10:52:33.762598Z",
     "iopub.status.busy": "2022-07-23T10:52:33.761900Z",
     "iopub.status.idle": "2022-07-23T10:52:33.766837Z",
     "shell.execute_reply": "2022-07-23T10:52:33.767171Z"
    }
   },
   "outputs": [
    {
     "data": {
      "image/svg+xml": [
       "<?xml version=\"1.0\" encoding=\"UTF-8\" standalone=\"no\"?><svg xmlns=\"http://www.w3.org/2000/svg\" xmlns:xlink=\"http://www.w3.org/1999/xlink\" contentScriptType=\"application/ecmascript\" contentStyleType=\"text/css\" height=\"12px\" preserveAspectRatio=\"none\" style=\"width:12px;height:12px;\" version=\"1.1\" viewBox=\"0 0 12 12\" width=\"12px\" zoomAndPan=\"magnify\"><defs/><g><!--MD5=[0b72472770326784bf6c2b53246e1e64]\n",
       "@startuml\r\n",
       "skinparam roundcorner 20\r\n",
       "skinparam BoxPadding 20\r\n",
       "skinparam SequenceBoxBackgroundColor #white\r\n",
       "skinparam style strictuml\r\n",
       "skinparam maxMessageSize 100\r\n",
       "skinparam monochrome true\r\n",
       "skinparam classbackgroundcolor white\r\n",
       "skinparam shadowing false\r\n",
       "skinparam wrapWidth 300\r\n",
       "hide circle\r\n",
       "\r\n",
       "@enduml\r\n",
       "\n",
       "PlantUML version 1.2020.13(Sat Jun 13 12:26:38 UTC 2020)\n",
       "(EPL source distribution)\n",
       "Java Runtime: OpenJDK Runtime Environment\n",
       "JVM: OpenJDK 64-Bit Server VM\n",
       "Default Encoding: UTF-8\n",
       "Language: en\n",
       "Country: null\n",
       "--></g></svg>"
      ]
     },
     "execution_count": 42,
     "metadata": {},
     "output_type": "execute_result"
    }
   ],
   "source": [
    "%viz --style=\"DEFAULT\" --view=\"Sequence\" \"OccurrenceTest\""
   ]
  },
  {
   "cell_type": "code",
   "execution_count": 43,
   "id": "38bb0c23",
   "metadata": {
    "execution": {
     "iopub.execute_input": "2022-07-23T10:52:33.817445Z",
     "iopub.status.busy": "2022-07-23T10:52:33.816768Z",
     "iopub.status.idle": "2022-07-23T10:52:33.871828Z",
     "shell.execute_reply": "2022-07-23T10:52:33.871379Z"
    }
   },
   "outputs": [
    {
     "data": {
      "image/svg+xml": [
       "<?xml version=\"1.0\" encoding=\"UTF-8\" standalone=\"no\"?><svg xmlns=\"http://www.w3.org/2000/svg\" xmlns:xlink=\"http://www.w3.org/1999/xlink\" contentScriptType=\"application/ecmascript\" contentStyleType=\"text/css\" height=\"569px\" preserveAspectRatio=\"none\" style=\"width:1009px;height:569px;\" version=\"1.1\" viewBox=\"0 0 1009 569\" width=\"1009px\" zoomAndPan=\"magnify\"><defs/><g><!--MD5=[fbc87193dbaf4d95561dea2c320d4a47]\n",
       "cluster E1--><a href=\"psysml:53f1d42d-2686-4f4b-950f-b84b40bc19b2\" target=\"_top\" title=\"psysml:53f1d42d-2686-4f4b-950f-b84b40bc19b2\" xlink:actuate=\"onRequest\" xlink:href=\"psysml:53f1d42d-2686-4f4b-950f-b84b40bc19b2\" xlink:show=\"new\" xlink:title=\"psysml:53f1d42d-2686-4f4b-950f-b84b40bc19b2\" xlink:type=\"simple\"><polygon fill=\"#FFFFFF\" points=\"16,6,134,6,141,28.2969,970,28.2969,970,557,16,557,16,6\" style=\"stroke: #000000; stroke-width: 1.5;\"/><line style=\"stroke: #000000; stroke-width: 1.5;\" x1=\"16\" x2=\"141\" y1=\"28.2969\" y2=\"28.2969\"/><text fill=\"#000000\" font-family=\"sans-serif\" font-size=\"14\" font-weight=\"bold\" lengthAdjust=\"spacingAndGlyphs\" textLength=\"112\" x=\"20\" y=\"20.9951\">OccurrenceTest</text></a><!--MD5=[b4997ac47864f28c2f74865a473b2911]\n",
       "class E2--><a href=\"psysml:77ba500d-77fd-484e-b411-8833010da35e\" target=\"_top\" title=\"psysml:77ba500d-77fd-484e-b411-8833010da35e\" xlink:actuate=\"onRequest\" xlink:href=\"psysml:77ba500d-77fd-484e-b411-8833010da35e\" xlink:show=\"new\" xlink:title=\"psysml:77ba500d-77fd-484e-b411-8833010da35e\" xlink:type=\"simple\"><rect fill=\"#FFFFFF\" height=\"75.5469\" id=\"E2\" style=\"stroke: #383838; stroke-width: 1.5;\" width=\"115\" x=\"373.5\" y=\"147\"/><text fill=\"#000000\" font-family=\"sans-serif\" font-size=\"12\" font-style=\"italic\" lengthAdjust=\"spacingAndGlyphs\" textLength=\"113\" x=\"374.5\" y=\"163.1387\">«occurrence  def»</text><text fill=\"#000000\" font-family=\"sans-serif\" font-size=\"12\" lengthAdjust=\"spacingAndGlyphs\" textLength=\"23\" x=\"419.5\" y=\"177.1074\">Occ</text><line style=\"stroke: #383838; stroke-width: 1.5;\" x1=\"374.5\" x2=\"487.5\" y1=\"184.9375\" y2=\"184.9375\"/><text fill=\"#000000\" font-family=\"sans-serif\" font-size=\"11\" lengthAdjust=\"spacingAndGlyphs\" textLength=\"7\" x=\"379.5\" y=\"215.9526\">a</text><line style=\"stroke: #383838; stroke-width: 1.0;\" x1=\"374.5\" x2=\"403.5\" y1=\"199.3398\" y2=\"199.3398\"/><text fill=\"#000000\" font-family=\"sans-serif\" font-size=\"11\" lengthAdjust=\"spacingAndGlyphs\" textLength=\"55\" x=\"403.5\" y=\"202.6479\">attributes</text><line style=\"stroke: #383838; stroke-width: 1.0;\" x1=\"458.5\" x2=\"487.5\" y1=\"199.3398\" y2=\"199.3398\"/></a><!--MD5=[09b614a08d8cba4a07c9adeb5e0fee81]\n",
       "class E3--><a href=\"psysml:37011562-c12e-4ce2-bbf9-af5619a300f0\" target=\"_top\" title=\"psysml:37011562-c12e-4ce2-bbf9-af5619a300f0\" xlink:actuate=\"onRequest\" xlink:href=\"psysml:37011562-c12e-4ce2-bbf9-af5619a300f0\" xlink:show=\"new\" xlink:title=\"psysml:37011562-c12e-4ce2-bbf9-af5619a300f0\" xlink:type=\"simple\"><rect fill=\"#FFFFFF\" height=\"45.9375\" id=\"E3\" rx=\"10\" ry=\"10\" style=\"stroke: #383838; stroke-width: 1.5;\" width=\"87\" x=\"279.5\" y=\"283\"/><text fill=\"#000000\" font-family=\"sans-serif\" font-size=\"12\" font-style=\"italic\" lengthAdjust=\"spacingAndGlyphs\" textLength=\"85\" x=\"280.5\" y=\"299.1387\">«occurrence»</text><text fill=\"#000000\" font-family=\"sans-serif\" font-size=\"12\" lengthAdjust=\"spacingAndGlyphs\" textLength=\"61\" x=\"290.5\" y=\"313.1074\">occ1: Occ</text><line style=\"stroke: #383838; stroke-width: 1.5;\" x1=\"280.5\" x2=\"365.5\" y1=\"320.9375\" y2=\"320.9375\"/></a><!--MD5=[ebbe1d658d1005bcc118a6aa81145e00]\n",
       "class E4--><a href=\"psysml:3522e0a2-d0dd-4c95-916a-e9f89fbadd86\" target=\"_top\" title=\"psysml:3522e0a2-d0dd-4c95-916a-e9f89fbadd86\" xlink:actuate=\"onRequest\" xlink:href=\"psysml:3522e0a2-d0dd-4c95-916a-e9f89fbadd86\" xlink:show=\"new\" xlink:title=\"psysml:3522e0a2-d0dd-4c95-916a-e9f89fbadd86\" xlink:type=\"simple\"><rect fill=\"#FFFFFF\" height=\"45.9375\" id=\"E4\" rx=\"10\" ry=\"10\" style=\"stroke: #383838; stroke-width: 1.5;\" width=\"87\" x=\"401.5\" y=\"283\"/><text fill=\"#000000\" font-family=\"sans-serif\" font-size=\"12\" font-style=\"italic\" lengthAdjust=\"spacingAndGlyphs\" textLength=\"85\" x=\"402.5\" y=\"299.1387\">«occurrence»</text><text fill=\"#000000\" font-family=\"sans-serif\" font-size=\"12\" lengthAdjust=\"spacingAndGlyphs\" textLength=\"61\" x=\"412.5\" y=\"313.1074\">occ2: Occ</text><line style=\"stroke: #383838; stroke-width: 1.5;\" x1=\"402.5\" x2=\"487.5\" y1=\"320.9375\" y2=\"320.9375\"/></a><!--MD5=[270fce915f116d4de14055a7c1d9a0f3]\n",
       "class E5--><a href=\"psysml:2ba1b44f-ac88-49ba-a1da-8edc5df2da3a\" target=\"_top\" title=\"psysml:2ba1b44f-ac88-49ba-a1da-8edc5df2da3a\" xlink:actuate=\"onRequest\" xlink:href=\"psysml:2ba1b44f-ac88-49ba-a1da-8edc5df2da3a\" xlink:show=\"new\" xlink:title=\"psysml:2ba1b44f-ac88-49ba-a1da-8edc5df2da3a\" xlink:type=\"simple\"><rect fill=\"#FFFFFF\" height=\"45.9375\" id=\"E5\" rx=\"10\" ry=\"10\" style=\"stroke: #383838; stroke-width: 1.5;\" width=\"212\" x=\"524\" y=\"283\"/><text fill=\"#000000\" font-family=\"sans-serif\" font-size=\"12\" font-style=\"italic\" lengthAdjust=\"spacingAndGlyphs\" textLength=\"210\" x=\"525\" y=\"299.1387\">«individual snapshot occurrence»</text><text fill=\"#000000\" font-family=\"sans-serif\" font-size=\"12\" lengthAdjust=\"spacingAndGlyphs\" textLength=\"34\" x=\"611\" y=\"313.1074\">s: Ind</text><line style=\"stroke: #383838; stroke-width: 1.5;\" x1=\"525\" x2=\"735\" y1=\"320.9375\" y2=\"320.9375\"/></a><!--MD5=[60a26617385b1d2d0262a64233df1f8d]\n",
       "class E6--><a href=\"psysml:aefaf76d-f241-48e8-80ea-b99598299972\" target=\"_top\" title=\"psysml:aefaf76d-f241-48e8-80ea-b99598299972\" xlink:actuate=\"onRequest\" xlink:href=\"psysml:aefaf76d-f241-48e8-80ea-b99598299972\" xlink:show=\"new\" xlink:title=\"psysml:aefaf76d-f241-48e8-80ea-b99598299972\" xlink:type=\"simple\"><rect fill=\"#FFFFFF\" height=\"45.9375\" id=\"E6\" rx=\"10\" ry=\"10\" style=\"stroke: #383838; stroke-width: 1.5;\" width=\"146\" x=\"771\" y=\"283\"/><text fill=\"#000000\" font-family=\"sans-serif\" font-size=\"12\" font-style=\"italic\" lengthAdjust=\"spacingAndGlyphs\" textLength=\"144\" x=\"772\" y=\"299.1387\">«timeslice occurrence»</text><text fill=\"#000000\" font-family=\"sans-serif\" font-size=\"12\" lengthAdjust=\"spacingAndGlyphs\" textLength=\"5\" x=\"839.5\" y=\"313.1074\">t</text><line style=\"stroke: #383838; stroke-width: 1.5;\" x1=\"772\" x2=\"916\" y1=\"320.9375\" y2=\"320.9375\"/></a><!--MD5=[2156ba9850f5573cc1fc38a6a4b2f02b]\n",
       "class E7--><a href=\"psysml:991e81ed-291b-4563-955c-44288cc9fc81\" target=\"_top\" title=\"psysml:991e81ed-291b-4563-955c-44288cc9fc81\" xlink:actuate=\"onRequest\" xlink:href=\"psysml:991e81ed-291b-4563-955c-44288cc9fc81\" xlink:show=\"new\" xlink:title=\"psysml:991e81ed-291b-4563-955c-44288cc9fc81\" xlink:type=\"simple\"><rect fill=\"#FFFFFF\" height=\"45.9375\" id=\"E7\" style=\"stroke: #383838; stroke-width: 1.5;\" width=\"177\" x=\"541.5\" y=\"389\"/><text fill=\"#000000\" font-family=\"sans-serif\" font-size=\"12\" font-style=\"italic\" lengthAdjust=\"spacingAndGlyphs\" textLength=\"175\" x=\"542.5\" y=\"405.1387\">«individual occurrence  def»</text><text fill=\"#000000\" font-family=\"sans-serif\" font-size=\"12\" lengthAdjust=\"spacingAndGlyphs\" textLength=\"19\" x=\"620.5\" y=\"419.1074\">Ind</text><line style=\"stroke: #383838; stroke-width: 1.5;\" x1=\"542.5\" x2=\"717.5\" y1=\"426.9375\" y2=\"426.9375\"/></a><!--MD5=[b9389687b975829384b498ac4b7476b2]\n",
       "class E8--><a href=\"psysml:fb7dbc0d-a670-4e6d-a2b6-24a9a70c023a\" target=\"_top\" title=\"psysml:fb7dbc0d-a670-4e6d-a2b6-24a9a70c023a\" xlink:actuate=\"onRequest\" xlink:href=\"psysml:fb7dbc0d-a670-4e6d-a2b6-24a9a70c023a\" xlink:show=\"new\" xlink:title=\"psysml:fb7dbc0d-a670-4e6d-a2b6-24a9a70c023a\" xlink:type=\"simple\"><rect fill=\"#FFFFFF\" height=\"45.9375\" id=\"E8\" rx=\"10\" ry=\"10\" style=\"stroke: #383838; stroke-width: 1.5;\" width=\"150\" x=\"463\" y=\"495\"/><text fill=\"#000000\" font-family=\"sans-serif\" font-size=\"12\" font-style=\"italic\" lengthAdjust=\"spacingAndGlyphs\" textLength=\"148\" x=\"464\" y=\"511.1387\">«snapshot occurrence»</text><text fill=\"#000000\" font-family=\"sans-serif\" font-size=\"12\" lengthAdjust=\"spacingAndGlyphs\" textLength=\"15\" x=\"528.5\" y=\"525.1074\">s2</text><line style=\"stroke: #383838; stroke-width: 1.5;\" x1=\"464\" x2=\"612\" y1=\"532.9375\" y2=\"532.9375\"/></a><!--MD5=[fd4143e9d270a159db93a4ea2a975926]\n",
       "class E9--><a href=\"psysml:ae0fd4ea-8dc7-4cb0-a32c-5615a8f756eb\" target=\"_top\" title=\"psysml:ae0fd4ea-8dc7-4cb0-a32c-5615a8f756eb\" xlink:actuate=\"onRequest\" xlink:href=\"psysml:ae0fd4ea-8dc7-4cb0-a32c-5615a8f756eb\" xlink:show=\"new\" xlink:title=\"psysml:ae0fd4ea-8dc7-4cb0-a32c-5615a8f756eb\" xlink:type=\"simple\"><rect fill=\"#FFFFFF\" height=\"45.9375\" id=\"E9\" rx=\"10\" ry=\"10\" style=\"stroke: #383838; stroke-width: 1.5;\" width=\"146\" x=\"648\" y=\"495\"/><text fill=\"#000000\" font-family=\"sans-serif\" font-size=\"12\" font-style=\"italic\" lengthAdjust=\"spacingAndGlyphs\" textLength=\"144\" x=\"649\" y=\"511.1387\">«timeslice occurrence»</text><text fill=\"#000000\" font-family=\"sans-serif\" font-size=\"12\" lengthAdjust=\"spacingAndGlyphs\" textLength=\"13\" x=\"712.5\" y=\"525.1074\">t2</text><line style=\"stroke: #383838; stroke-width: 1.5;\" x1=\"649\" x2=\"793\" y1=\"532.9375\" y2=\"532.9375\"/></a><!--MD5=[96f4274e9e20536e775497830990834d]\n",
       "class E10--><a href=\"psysml:90168d9a-6358-4939-88d7-8ec9974b52c6\" target=\"_top\" title=\"psysml:90168d9a-6358-4939-88d7-8ec9974b52c6\" xlink:actuate=\"onRequest\" xlink:href=\"psysml:90168d9a-6358-4939-88d7-8ec9974b52c6\" xlink:show=\"new\" xlink:title=\"psysml:90168d9a-6358-4939-88d7-8ec9974b52c6\" xlink:type=\"simple\"><rect fill=\"#FFFFFF\" height=\"45.9375\" id=\"E10\" rx=\"10\" ry=\"10\" style=\"stroke: #383838; stroke-width: 1.5;\" width=\"149\" x=\"505.5\" y=\"41\"/><text fill=\"#000000\" font-family=\"sans-serif\" font-size=\"12\" font-style=\"italic\" lengthAdjust=\"spacingAndGlyphs\" textLength=\"147\" x=\"506.5\" y=\"57.1387\">«individual occurrence»</text><text fill=\"#000000\" font-family=\"sans-serif\" font-size=\"12\" lengthAdjust=\"spacingAndGlyphs\" textLength=\"77\" x=\"539.5\" y=\"71.1074\">ind: Ind, Occ</text><line style=\"stroke: #383838; stroke-width: 1.5;\" x1=\"506.5\" x2=\"653.5\" y1=\"78.9375\" y2=\"78.9375\"/></a><!--MD5=[1dd1bfd58a279cf63c5f349dbc8fc6a1]\n",
       "class E11--><a href=\"psysml:d0eba55f-a402-4b22-88ba-9857d6bd50ac\" target=\"_top\" title=\"psysml:d0eba55f-a402-4b22-88ba-9857d6bd50ac\" xlink:actuate=\"onRequest\" xlink:href=\"psysml:d0eba55f-a402-4b22-88ba-9857d6bd50ac\" xlink:show=\"new\" xlink:title=\"psysml:d0eba55f-a402-4b22-88ba-9857d6bd50ac\" xlink:type=\"simple\"><rect fill=\"#FFFFFF\" height=\"45.9375\" id=\"E11\" rx=\"10\" ry=\"10\" style=\"stroke: #383838; stroke-width: 1.5;\" width=\"150\" x=\"561\" y=\"162\"/><text fill=\"#000000\" font-family=\"sans-serif\" font-size=\"12\" font-style=\"italic\" lengthAdjust=\"spacingAndGlyphs\" textLength=\"148\" x=\"562\" y=\"178.1387\">«snapshot occurrence»</text><text fill=\"#000000\" font-family=\"sans-serif\" font-size=\"12\" lengthAdjust=\"spacingAndGlyphs\" textLength=\"15\" x=\"626.5\" y=\"192.1074\">s3</text><line style=\"stroke: #383838; stroke-width: 1.5;\" x1=\"562\" x2=\"710\" y1=\"199.9375\" y2=\"199.9375\"/></a><!--MD5=[49a0ec8f00dab7302a31f22d0f0fe584]\n",
       "class E12--><a href=\"psysml:0232df4f-93e4-4add-8902-f942e03a0634\" target=\"_top\" title=\"psysml:0232df4f-93e4-4add-8902-f942e03a0634\" xlink:actuate=\"onRequest\" xlink:href=\"psysml:0232df4f-93e4-4add-8902-f942e03a0634\" xlink:show=\"new\" xlink:title=\"psysml:0232df4f-93e4-4add-8902-f942e03a0634\" xlink:type=\"simple\"><rect fill=\"#FFFFFF\" height=\"45.9375\" id=\"E12\" rx=\"10\" ry=\"10\" style=\"stroke: #383838; stroke-width: 1.5;\" width=\"208\" x=\"746\" y=\"162\"/><text fill=\"#000000\" font-family=\"sans-serif\" font-size=\"12\" font-style=\"italic\" lengthAdjust=\"spacingAndGlyphs\" textLength=\"206\" x=\"747\" y=\"178.1387\">«individual timeslice occurrence»</text><text fill=\"#000000\" font-family=\"sans-serif\" font-size=\"12\" lengthAdjust=\"spacingAndGlyphs\" textLength=\"13\" x=\"841.5\" y=\"192.1074\">t3</text><line style=\"stroke: #383838; stroke-width: 1.5;\" x1=\"747\" x2=\"953\" y1=\"199.9375\" y2=\"199.9375\"/></a><!--MD5=[ee3c913d1a06f366521f9ef512b67efe]\n",
       "class E13--><a href=\"psysml:5cbde71f-e2d0-40cd-91ed-92f5bc776eb7\" target=\"_top\" title=\"psysml:5cbde71f-e2d0-40cd-91ed-92f5bc776eb7\" xlink:actuate=\"onRequest\" xlink:href=\"psysml:5cbde71f-e2d0-40cd-91ed-92f5bc776eb7\" xlink:show=\"new\" xlink:title=\"psysml:5cbde71f-e2d0-40cd-91ed-92f5bc776eb7\" xlink:type=\"simple\"><rect fill=\"#FFFFFF\" height=\"45.9375\" id=\"E13\" rx=\"10\" ry=\"10\" style=\"stroke: #383838; stroke-width: 1.5;\" width=\"212\" x=\"32\" y=\"283\"/><text fill=\"#000000\" font-family=\"sans-serif\" font-size=\"12\" font-style=\"italic\" lengthAdjust=\"spacingAndGlyphs\" textLength=\"210\" x=\"33\" y=\"299.1387\">«individual snapshot occurrence»</text><text fill=\"#000000\" font-family=\"sans-serif\" font-size=\"12\" lengthAdjust=\"spacingAndGlyphs\" textLength=\"42\" x=\"115\" y=\"313.1074\">s4: Ind</text><line style=\"stroke: #383838; stroke-width: 1.5;\" x1=\"33\" x2=\"243\" y1=\"320.9375\" y2=\"320.9375\"/></a><!--MD5=[209b3feb70ccb6233bfe1053d122c12c]\n",
       "reverse link E2 to E3--><a href=\"psysml:111e77a4-44f2-45ac-862d-a1e02a1cad26\" target=\"_top\" title=\"psysml:111e77a4-44f2-45ac-862d-a1e02a1cad26\" xlink:actuate=\"onRequest\" xlink:href=\"psysml:111e77a4-44f2-45ac-862d-a1e02a1cad26\" xlink:show=\"new\" xlink:title=\"psysml:111e77a4-44f2-45ac-862d-a1e02a1cad26\" xlink:type=\"simple\"><path d=\"M376.37,232.45 C359.85,249.83 343.43,268.76 332.86,282.93 \" fill=\"none\" id=\"E2&lt;-E3\" style=\"stroke: #383838; stroke-width: 1.0;\"/><polygon fill=\"#FFFFFF\" points=\"385.52,223,378.4729,224.5294,377.1743,231.6226,384.2213,230.0932,385.52,223\" style=\"stroke: #383838; stroke-width: 1.0;\"/></a><!--MD5=[05d275557350bfb9b23a4ef7222b4c39]\n",
       "link E3 to E2--><a href=\"psysml:0f45e557-8f0e-4df9-b1d8-28bd2526f5a3\" target=\"_top\" title=\"psysml:0f45e557-8f0e-4df9-b1d8-28bd2526f5a3\" xlink:actuate=\"onRequest\" xlink:href=\"psysml:0f45e557-8f0e-4df9-b1d8-28bd2526f5a3\" xlink:show=\"new\" xlink:title=\"psysml:0f45e557-8f0e-4df9-b1d8-28bd2526f5a3\" xlink:type=\"simple\"><path d=\"M353.8,282.93 C367.38,270.34 383.11,253.98 396.95,238.29 \" fill=\"none\" id=\"E3-&gt;E2\" style=\"stroke: #383838; stroke-width: 1.0;\"/><polygon fill=\"#FFFFFF\" points=\"410.02,223,403.0007,241.9929,392.3563,232.8991,410.02,223\" style=\"stroke: #383838; stroke-width: 1.0;\"/><ellipse cx=\"397.7776\" cy=\"245.0276\" fill=\"#383838\" rx=\"2\" ry=\"2\" style=\"stroke: #383838; stroke-width: 1.0;\"/><ellipse cx=\"390.1744\" cy=\"238.532\" fill=\"#383838\" rx=\"2\" ry=\"2\" style=\"stroke: #383838; stroke-width: 1.0;\"/></a><!--MD5=[9618e71518536f8baf3342ff6fdab317]\n",
       "reverse link E2 to E4--><a href=\"psysml:7f5381ff-79d6-4175-8599-1b084d5a38fb\" target=\"_top\" title=\"psysml:7f5381ff-79d6-4175-8599-1b084d5a38fb\" xlink:actuate=\"onRequest\" xlink:href=\"psysml:7f5381ff-79d6-4175-8599-1b084d5a38fb\" xlink:show=\"new\" xlink:title=\"psysml:7f5381ff-79d6-4175-8599-1b084d5a38fb\" xlink:type=\"simple\"><path d=\"M424.31,236.34 C425.74,252.61 428.58,269.81 432.23,282.93 \" fill=\"none\" id=\"E2&lt;-E4\" style=\"stroke: #383838; stroke-width: 1.0;\"/><polygon fill=\"#383838\" points=\"423.45,223,419.8475,229.2467,424.2281,234.9747,427.8306,228.728,423.45,223\" style=\"stroke: #383838; stroke-width: 1.0;\"/></a><!--MD5=[185131fc0dcab0a4505a2ebe144e961b]\n",
       "link E4 to E2--><a href=\"psysml:9af83ecd-fc65-4272-8374-c2ac75a0337a\" target=\"_top\" title=\"psysml:9af83ecd-fc65-4272-8374-c2ac75a0337a\" xlink:actuate=\"onRequest\" xlink:href=\"psysml:9af83ecd-fc65-4272-8374-c2ac75a0337a\" xlink:show=\"new\" xlink:title=\"psysml:9af83ecd-fc65-4272-8374-c2ac75a0337a\" xlink:type=\"simple\"><path d=\"M453.17,282.93 C453.77,271.65 452.99,257.34 451.22,243.21 \" fill=\"none\" id=\"E4-&gt;E2\" style=\"stroke: #383838; stroke-width: 1.0;\"/><polygon fill=\"#FFFFFF\" points=\"447.96,223,457.8973,240.6423,444.0761,242.8725,447.96,223\" style=\"stroke: #383838; stroke-width: 1.0;\"/><ellipse cx=\"456.8309\" cy=\"246.5881\" fill=\"#383838\" rx=\"2\" ry=\"2\" style=\"stroke: #383838; stroke-width: 1.0;\"/><ellipse cx=\"446.9586\" cy=\"248.1811\" fill=\"#383838\" rx=\"2\" ry=\"2\" style=\"stroke: #383838; stroke-width: 1.0;\"/></a><!--MD5=[4e1a83fab71cdb913c109063314ae896]\n",
       "reverse link E2 to E5--><a href=\"psysml:648e9e41-ac7c-450e-af70-439d81f3f540\" target=\"_top\" title=\"psysml:648e9e41-ac7c-450e-af70-439d81f3f540\" xlink:actuate=\"onRequest\" xlink:href=\"psysml:648e9e41-ac7c-450e-af70-439d81f3f540\" xlink:show=\"new\" xlink:title=\"psysml:648e9e41-ac7c-450e-af70-439d81f3f540\" xlink:type=\"simple\"><path d=\"M499.85,227.17 C531.12,245.87 566.86,267.24 592.97,282.85 \" fill=\"none\" id=\"E2&lt;-E5\" style=\"stroke: #383838; stroke-width: 1.0;\"/><polygon fill=\"#383838\" points=\"488.56,220.42,491.6568,226.9323,498.8592,226.5784,495.7624,220.0661,488.56,220.42\" style=\"stroke: #383838; stroke-width: 1.0;\"/></a><!--MD5=[ce036f65110ae2351ccce5a81dc2e928]\n",
       "reverse link E2 to E6--><a href=\"psysml:00b8b9a4-593e-406d-b505-212ff2a7c9c1\" target=\"_top\" title=\"psysml:00b8b9a4-593e-406d-b505-212ff2a7c9c1\" xlink:actuate=\"onRequest\" xlink:href=\"psysml:00b8b9a4-593e-406d-b505-212ff2a7c9c1\" xlink:show=\"new\" xlink:title=\"psysml:00b8b9a4-593e-406d-b505-212ff2a7c9c1\" xlink:type=\"simple\"><path d=\"M501.02,217.55 C506.06,219.49 511.08,221.33 516,223 C528.19,227.15 677.82,264.14 770.71,287 \" fill=\"none\" id=\"E2&lt;-E6\" style=\"stroke: #383838; stroke-width: 1.0;\"/><polygon fill=\"#383838\" points=\"488.57,212.58,492.6577,218.5206,499.7135,217.0321,495.6258,211.0916,488.57,212.58\" style=\"stroke: #383838; stroke-width: 1.0;\"/></a><!--MD5=[3a9b96bfbf6b6ad89c494e81751bda47]\n",
       "link E5 to E7--><a href=\"psysml:088b8ee7-f1bc-4574-b816-43bcf4f14b77\" target=\"_top\" title=\"psysml:088b8ee7-f1bc-4574-b816-43bcf4f14b77\" xlink:actuate=\"onRequest\" xlink:href=\"psysml:088b8ee7-f1bc-4574-b816-43bcf4f14b77\" xlink:show=\"new\" xlink:title=\"psysml:088b8ee7-f1bc-4574-b816-43bcf4f14b77\" xlink:type=\"simple\"><path d=\"M630,329.06 C630,340.64 630,355.23 630,368.87 \" fill=\"none\" id=\"E5-&gt;E7\" style=\"stroke: #383838; stroke-width: 1.0;\"/><polygon fill=\"#FFFFFF\" points=\"630,388.98,623,369.98,637,369.98,630,388.98\" style=\"stroke: #383838; stroke-width: 1.0;\"/><ellipse cx=\"625\" cy=\"364.28\" fill=\"#383838\" rx=\"2\" ry=\"2\" style=\"stroke: #383838; stroke-width: 1.0;\"/><ellipse cx=\"635\" cy=\"364.28\" fill=\"#383838\" rx=\"2\" ry=\"2\" style=\"stroke: #383838; stroke-width: 1.0;\"/></a><!--MD5=[dc164f5e8a733ab456ef1add180e9e34]\n",
       "reverse link E7 to E8--><a href=\"psysml:c8813ef9-ffa9-4c9d-80a4-dd20f6c80ea5\" target=\"_top\" title=\"psysml:c8813ef9-ffa9-4c9d-80a4-dd20f6c80ea5\" xlink:actuate=\"onRequest\" xlink:href=\"psysml:c8813ef9-ffa9-4c9d-80a4-dd20f6c80ea5\" xlink:show=\"new\" xlink:title=\"psysml:c8813ef9-ffa9-4c9d-80a4-dd20f6c80ea5\" xlink:type=\"simple\"><path d=\"M601.55,445.16 C587.25,461.33 570.28,480.51 557.48,494.98 \" fill=\"none\" id=\"E7&lt;-E8\" style=\"stroke: #383838; stroke-width: 1.0;\"/><polygon fill=\"#383838\" points=\"610.49,435.06,603.5177,436.9004,602.5348,444.0442,609.5071,442.2038,610.49,435.06\" style=\"stroke: #383838; stroke-width: 1.0;\"/></a><!--MD5=[e4a10ef82d0e328e31cac39a31e58dda]\n",
       "reverse link E7 to E9--><a href=\"psysml:cdca8d7c-6aa5-4fff-9e0e-900e3ba85343\" target=\"_top\" title=\"psysml:cdca8d7c-6aa5-4fff-9e0e-900e3ba85343\" xlink:actuate=\"onRequest\" xlink:href=\"psysml:cdca8d7c-6aa5-4fff-9e0e-900e3ba85343\" xlink:show=\"new\" xlink:title=\"psysml:cdca8d7c-6aa5-4fff-9e0e-900e3ba85343\" xlink:type=\"simple\"><path d=\"M658.14,445.16 C672.29,461.33 689.07,480.51 701.73,494.98 \" fill=\"none\" id=\"E7&lt;-E9\" style=\"stroke: #383838; stroke-width: 1.0;\"/><polygon fill=\"#383838\" points=\"649.3,435.06,650.2496,442.2083,657.2133,444.0811,656.2637,436.9328,649.3,435.06\" style=\"stroke: #383838; stroke-width: 1.0;\"/></a><!--MD5=[a919e0967d6f3de553dc51b9865a1d6d]\n",
       "link E10 to E7--><a href=\"psysml:43f26010-ca40-42d6-8df0-e4847d82fc63\" target=\"_top\" title=\"psysml:43f26010-ca40-42d6-8df0-e4847d82fc63\" xlink:actuate=\"onRequest\" xlink:href=\"psysml:43f26010-ca40-42d6-8df0-e4847d82fc63\" xlink:show=\"new\" xlink:title=\"psysml:43f26010-ca40-42d6-8df0-e4847d82fc63\" xlink:type=\"simple\"><path d=\"M564.36,87.23 C542.92,120.68 510.65,184.15 544,223 C658.5,356.41 820.5,149.59 935,283 C997.3,355.58 849.41,387.9 738.47,401.63 \" fill=\"none\" id=\"E10-&gt;E7\" style=\"stroke: #383838; stroke-width: 1.0;\"/><polygon fill=\"#FFFFFF\" points=\"718.6,403.94,736.6627,394.7891,738.2822,408.6951,718.6,403.94\" style=\"stroke: #383838; stroke-width: 1.0;\"/><ellipse cx=\"742.5558\" cy=\"396.1162\" fill=\"#383838\" rx=\"2\" ry=\"2\" style=\"stroke: #383838; stroke-width: 1.0;\"/><ellipse cx=\"743.7126\" cy=\"406.0491\" fill=\"#383838\" rx=\"2\" ry=\"2\" style=\"stroke: #383838; stroke-width: 1.0;\"/></a><!--MD5=[0f36bececdf0dff6e600d6f64214b0f1]\n",
       "link E10 to E2--><a href=\"psysml:ac89f7fb-b091-4bc7-aaea-6377fc157ffe\" target=\"_top\" title=\"psysml:ac89f7fb-b091-4bc7-aaea-6377fc157ffe\" xlink:actuate=\"onRequest\" xlink:href=\"psysml:ac89f7fb-b091-4bc7-aaea-6377fc157ffe\" xlink:show=\"new\" xlink:title=\"psysml:ac89f7fb-b091-4bc7-aaea-6377fc157ffe\" xlink:type=\"simple\"><path d=\"M552.32,87.1 C535.71,100.38 513.86,117.82 493.29,134.25 \" fill=\"none\" id=\"E10-&gt;E2\" style=\"stroke: #383838; stroke-width: 1.0;\"/><polygon fill=\"#FFFFFF\" points=\"477.56,146.81,488.0352,129.4817,496.7737,140.4197,477.56,146.81\" style=\"stroke: #383838; stroke-width: 1.0;\"/><ellipse cx=\"493.7369\" cy=\"127.4865\" fill=\"#383838\" rx=\"2\" ry=\"2\" style=\"stroke: #383838; stroke-width: 1.0;\"/><ellipse cx=\"499.9786\" cy=\"135.2994\" fill=\"#383838\" rx=\"2\" ry=\"2\" style=\"stroke: #383838; stroke-width: 1.0;\"/></a><!--MD5=[de308be4a2431766a05a907a031c07fc]\n",
       "reverse link E10 to E11--><a href=\"psysml:75c081c5-05e2-401c-b103-d900689a3a49\" target=\"_top\" title=\"psysml:75c081c5-05e2-401c-b103-d900689a3a49\" xlink:actuate=\"onRequest\" xlink:href=\"psysml:75c081c5-05e2-401c-b103-d900689a3a49\" xlink:show=\"new\" xlink:title=\"psysml:75c081c5-05e2-401c-b103-d900689a3a49\" xlink:type=\"simple\"><path d=\"M595.95,98.9 C605.42,119.01 617.15,143.94 625.46,161.61 \" fill=\"none\" id=\"E10&lt;-E11\" style=\"stroke: #383838; stroke-width: 1.0;\"/><polygon fill=\"#383838\" points=\"590.4,87.1,589.3334,94.2318,595.5064,97.9593,596.573,90.8275,590.4,87.1\" style=\"stroke: #383838; stroke-width: 1.0;\"/></a><!--MD5=[1d54f998c6d5961a1a9184be73a7eb6c]\n",
       "reverse link E10 to E12--><a href=\"psysml:54130436-8b1f-4706-a610-d99b2d4cb5d4\" target=\"_top\" title=\"psysml:54130436-8b1f-4706-a610-d99b2d4cb5d4\" xlink:actuate=\"onRequest\" xlink:href=\"psysml:54130436-8b1f-4706-a610-d99b2d4cb5d4\" xlink:show=\"new\" xlink:title=\"psysml:54130436-8b1f-4706-a610-d99b2d4cb5d4\" xlink:type=\"simple\"><path d=\"M642.21,92.42 C689.99,113.48 755.13,142.19 799.66,161.81 \" fill=\"none\" id=\"E10&lt;-E12\" style=\"stroke: #383838; stroke-width: 1.0;\"/><polygon fill=\"#383838\" points=\"630.15,87.1,634.028,93.1796,641.1314,91.9382,637.2534,85.8586,630.15,87.1\" style=\"stroke: #383838; stroke-width: 1.0;\"/></a><!--MD5=[4a48077df6499cfcd20b62e8f5f37904]\n",
       "link E13 to E7--><a href=\"psysml:85f16706-e1b7-404d-9ee5-57d420bfb7f2\" target=\"_top\" title=\"psysml:85f16706-e1b7-404d-9ee5-57d420bfb7f2\" xlink:actuate=\"onRequest\" xlink:href=\"psysml:85f16706-e1b7-404d-9ee5-57d420bfb7f2\" xlink:show=\"new\" xlink:title=\"psysml:85f16706-e1b7-404d-9ee5-57d420bfb7f2\" xlink:type=\"simple\"><path d=\"M242.34,329.06 C324.51,346.43 438.67,370.56 521.82,388.13 \" fill=\"none\" id=\"E13-&gt;E7\" style=\"stroke: #383838; stroke-width: 1.0;\"/><polygon fill=\"#FFFFFF\" points=\"541.45,392.28,521.4143,395.2075,524.304,381.509,541.45,392.28\" style=\"stroke: #383838; stroke-width: 1.0;\"/><ellipse cx=\"516.2498\" cy=\"392.0741\" fill=\"#383838\" rx=\"2\" ry=\"2\" style=\"stroke: #383838; stroke-width: 1.0;\"/><ellipse cx=\"518.3139\" cy=\"382.2894\" fill=\"#383838\" rx=\"2\" ry=\"2\" style=\"stroke: #383838; stroke-width: 1.0;\"/></a><!--MD5=[c6affbee038423c8c17ff514e0ae7636]\n",
       "@startuml\r\n",
       "skinparam monochrome true\r\n",
       "skinparam classbackgroundcolor white\r\n",
       "skinparam shadowing false\r\n",
       "skinparam wrapWidth 300\r\n",
       "hide circle\r\n",
       "\r\n",
       "package \"OccurrenceTest\" as E1  [[psysml:53f1d42d-2686-4f4b-950f-b84b40bc19b2 ]]  {\r\n",
       "comp def \"Occ\" as E2  <<(T,blue) occurrence  def>> [[psysml:77ba500d-77fd-484e-b411-8833010da35e ]] {\r\n",
       "- - attributes - -\r\n",
       "a\r\n",
       "}\r\n",
       "comp usage \"occ1: Occ \" as E3  <<(T,blue) occurrence>> [[psysml:37011562-c12e-4ce2-bbf9-af5619a300f0 ]] {\r\n",
       "}\r\n",
       "comp usage \"occ2: Occ \" as E4  <<(T,blue) occurrence>> [[psysml:3522e0a2-d0dd-4c95-916a-e9f89fbadd86 ]] {\r\n",
       "}\r\n",
       "comp usage \"s: Ind \" as E5  <<(T,blue) individual snapshot occurrence>> [[psysml:2ba1b44f-ac88-49ba-a1da-8edc5df2da3a ]] {\r\n",
       "}\r\n",
       "comp usage \"t \" as E6  <<(T,blue) timeslice occurrence>> [[psysml:aefaf76d-f241-48e8-80ea-b99598299972 ]] {\r\n",
       "}\r\n",
       "comp def \"Ind\" as E7  <<(T,blue) individual occurrence  def>> [[psysml:991e81ed-291b-4563-955c-44288cc9fc81 ]] {\r\n",
       "}\r\n",
       "comp usage \"s2 \" as E8  <<(T,blue) snapshot occurrence>> [[psysml:fb7dbc0d-a670-4e6d-a2b6-24a9a70c023a ]] {\r\n",
       "}\r\n",
       "comp usage \"t2 \" as E9  <<(T,blue) timeslice occurrence>> [[psysml:ae0fd4ea-8dc7-4cb0-a32c-5615a8f756eb ]] {\r\n",
       "}\r\n",
       "comp usage \"ind: Ind, Occ \" as E10  <<(T,blue) individual occurrence>> [[psysml:90168d9a-6358-4939-88d7-8ec9974b52c6 ]] {\r\n",
       "}\r\n",
       "comp usage \"s3 \" as E11  <<(T,blue) snapshot occurrence>> [[psysml:d0eba55f-a402-4b22-88ba-9857d6bd50ac ]] {\r\n",
       "}\r\n",
       "comp usage \"t3 \" as E12  <<(T,blue) individual timeslice occurrence>> [[psysml:0232df4f-93e4-4add-8902-f942e03a0634 ]] {\r\n",
       "}\r\n",
       "comp usage \"s4: Ind \" as E13  <<(T,blue) individual snapshot occurrence>> [[psysml:5cbde71f-e2d0-40cd-91ed-92f5bc776eb7 ]] {\r\n",
       "}\r\n",
       "}\r\n",
       "E2 o- - E3 [[psysml:111e77a4-44f2-45ac-862d-a1e02a1cad26 ]] \r\n",
       "E3 - -:|> E2 [[psysml:0f45e557-8f0e-4df9-b1d8-28bd2526f5a3 ]] \r\n",
       "E2 *- - E4 [[psysml:7f5381ff-79d6-4175-8599-1b084d5a38fb ]] \r\n",
       "E4 - -:|> E2 [[psysml:9af83ecd-fc65-4272-8374-c2ac75a0337a ]] \r\n",
       "E2 *- - E5 [[psysml:648e9e41-ac7c-450e-af70-439d81f3f540 ]] \r\n",
       "E2 *- - E6 [[psysml:00b8b9a4-593e-406d-b505-212ff2a7c9c1 ]] \r\n",
       "E5 - -:|> E7 [[psysml:088b8ee7-f1bc-4574-b816-43bcf4f14b77 ]] \r\n",
       "E7 *- - E8 [[psysml:c8813ef9-ffa9-4c9d-80a4-dd20f6c80ea5 ]] \r\n",
       "E7 *- - E9 [[psysml:cdca8d7c-6aa5-4fff-9e0e-900e3ba85343 ]] \r\n",
       "E10 - -:|> E7 [[psysml:43f26010-ca40-42d6-8df0-e4847d82fc63 ]] \r\n",
       "E10 - -:|> E2 [[psysml:ac89f7fb-b091-4bc7-aaea-6377fc157ffe ]] \r\n",
       "E10 *- - E11 [[psysml:75c081c5-05e2-401c-b103-d900689a3a49 ]] \r\n",
       "E10 *- - E12 [[psysml:54130436-8b1f-4706-a610-d99b2d4cb5d4 ]] \r\n",
       "E13 - -:|> E7 [[psysml:85f16706-e1b7-404d-9ee5-57d420bfb7f2 ]] \r\n",
       "@enduml\r\n",
       "\n",
       "PlantUML version 1.2020.13(Sat Jun 13 12:26:38 UTC 2020)\n",
       "(EPL source distribution)\n",
       "Java Runtime: OpenJDK Runtime Environment\n",
       "JVM: OpenJDK 64-Bit Server VM\n",
       "Default Encoding: UTF-8\n",
       "Language: en\n",
       "Country: null\n",
       "--></g></svg>"
      ]
     },
     "execution_count": 43,
     "metadata": {},
     "output_type": "execute_result"
    }
   ],
   "source": [
    "%viz --style=\"DEFAULT\" --view=\"MIXED\" \"OccurrenceTest\""
   ]
  },
  {
   "cell_type": "code",
   "execution_count": 44,
   "id": "a87877b9",
   "metadata": {
    "execution": {
     "iopub.execute_input": "2022-07-23T10:52:33.921400Z",
     "iopub.status.busy": "2022-07-23T10:52:33.920702Z",
     "iopub.status.idle": "2022-07-23T10:52:33.972887Z",
     "shell.execute_reply": "2022-07-23T10:52:33.972462Z"
    }
   },
   "outputs": [
    {
     "data": {
      "image/svg+xml": [
       "<?xml version=\"1.0\" encoding=\"UTF-8\" standalone=\"no\"?><svg xmlns=\"http://www.w3.org/2000/svg\" xmlns:xlink=\"http://www.w3.org/1999/xlink\" contentScriptType=\"application/ecmascript\" contentStyleType=\"text/css\" height=\"569px\" preserveAspectRatio=\"none\" style=\"width:1009px;height:569px;\" version=\"1.1\" viewBox=\"0 0 1009 569\" width=\"1009px\" zoomAndPan=\"magnify\"><defs/><g><!--MD5=[fbc87193dbaf4d95561dea2c320d4a47]\n",
       "cluster E1--><a href=\"psysml:53f1d42d-2686-4f4b-950f-b84b40bc19b2\" target=\"_top\" title=\"psysml:53f1d42d-2686-4f4b-950f-b84b40bc19b2\" xlink:actuate=\"onRequest\" xlink:href=\"psysml:53f1d42d-2686-4f4b-950f-b84b40bc19b2\" xlink:show=\"new\" xlink:title=\"psysml:53f1d42d-2686-4f4b-950f-b84b40bc19b2\" xlink:type=\"simple\"><polygon fill=\"#FFFFFF\" points=\"16,6,134,6,141,28.2969,970,28.2969,970,557,16,557,16,6\" style=\"stroke: #000000; stroke-width: 1.5;\"/><line style=\"stroke: #000000; stroke-width: 1.5;\" x1=\"16\" x2=\"141\" y1=\"28.2969\" y2=\"28.2969\"/><text fill=\"#000000\" font-family=\"sans-serif\" font-size=\"14\" font-weight=\"bold\" lengthAdjust=\"spacingAndGlyphs\" textLength=\"112\" x=\"20\" y=\"20.9951\">OccurrenceTest</text></a><!--MD5=[b4997ac47864f28c2f74865a473b2911]\n",
       "class E2--><a href=\"psysml:77ba500d-77fd-484e-b411-8833010da35e\" target=\"_top\" title=\"psysml:77ba500d-77fd-484e-b411-8833010da35e\" xlink:actuate=\"onRequest\" xlink:href=\"psysml:77ba500d-77fd-484e-b411-8833010da35e\" xlink:show=\"new\" xlink:title=\"psysml:77ba500d-77fd-484e-b411-8833010da35e\" xlink:type=\"simple\"><rect fill=\"#FFFFFF\" height=\"75.5469\" id=\"E2\" style=\"stroke: #383838; stroke-width: 1.5;\" width=\"115\" x=\"373.5\" y=\"147\"/><text fill=\"#000000\" font-family=\"sans-serif\" font-size=\"12\" font-style=\"italic\" lengthAdjust=\"spacingAndGlyphs\" textLength=\"113\" x=\"374.5\" y=\"163.1387\">«occurrence  def»</text><text fill=\"#000000\" font-family=\"sans-serif\" font-size=\"12\" lengthAdjust=\"spacingAndGlyphs\" textLength=\"23\" x=\"419.5\" y=\"177.1074\">Occ</text><line style=\"stroke: #383838; stroke-width: 1.5;\" x1=\"374.5\" x2=\"487.5\" y1=\"184.9375\" y2=\"184.9375\"/><text fill=\"#000000\" font-family=\"sans-serif\" font-size=\"11\" lengthAdjust=\"spacingAndGlyphs\" textLength=\"7\" x=\"379.5\" y=\"215.9526\">a</text><line style=\"stroke: #383838; stroke-width: 1.0;\" x1=\"374.5\" x2=\"403.5\" y1=\"199.3398\" y2=\"199.3398\"/><text fill=\"#000000\" font-family=\"sans-serif\" font-size=\"11\" lengthAdjust=\"spacingAndGlyphs\" textLength=\"55\" x=\"403.5\" y=\"202.6479\">attributes</text><line style=\"stroke: #383838; stroke-width: 1.0;\" x1=\"458.5\" x2=\"487.5\" y1=\"199.3398\" y2=\"199.3398\"/></a><!--MD5=[09b614a08d8cba4a07c9adeb5e0fee81]\n",
       "class E3--><a href=\"psysml:37011562-c12e-4ce2-bbf9-af5619a300f0\" target=\"_top\" title=\"psysml:37011562-c12e-4ce2-bbf9-af5619a300f0\" xlink:actuate=\"onRequest\" xlink:href=\"psysml:37011562-c12e-4ce2-bbf9-af5619a300f0\" xlink:show=\"new\" xlink:title=\"psysml:37011562-c12e-4ce2-bbf9-af5619a300f0\" xlink:type=\"simple\"><rect fill=\"#FFFFFF\" height=\"45.9375\" id=\"E3\" rx=\"10\" ry=\"10\" style=\"stroke: #383838; stroke-width: 1.5;\" width=\"87\" x=\"279.5\" y=\"283\"/><text fill=\"#000000\" font-family=\"sans-serif\" font-size=\"12\" font-style=\"italic\" lengthAdjust=\"spacingAndGlyphs\" textLength=\"85\" x=\"280.5\" y=\"299.1387\">«occurrence»</text><text fill=\"#000000\" font-family=\"sans-serif\" font-size=\"12\" lengthAdjust=\"spacingAndGlyphs\" textLength=\"61\" x=\"290.5\" y=\"313.1074\">occ1: Occ</text><line style=\"stroke: #383838; stroke-width: 1.5;\" x1=\"280.5\" x2=\"365.5\" y1=\"320.9375\" y2=\"320.9375\"/></a><!--MD5=[ebbe1d658d1005bcc118a6aa81145e00]\n",
       "class E4--><a href=\"psysml:3522e0a2-d0dd-4c95-916a-e9f89fbadd86\" target=\"_top\" title=\"psysml:3522e0a2-d0dd-4c95-916a-e9f89fbadd86\" xlink:actuate=\"onRequest\" xlink:href=\"psysml:3522e0a2-d0dd-4c95-916a-e9f89fbadd86\" xlink:show=\"new\" xlink:title=\"psysml:3522e0a2-d0dd-4c95-916a-e9f89fbadd86\" xlink:type=\"simple\"><rect fill=\"#FFFFFF\" height=\"45.9375\" id=\"E4\" rx=\"10\" ry=\"10\" style=\"stroke: #383838; stroke-width: 1.5;\" width=\"87\" x=\"401.5\" y=\"283\"/><text fill=\"#000000\" font-family=\"sans-serif\" font-size=\"12\" font-style=\"italic\" lengthAdjust=\"spacingAndGlyphs\" textLength=\"85\" x=\"402.5\" y=\"299.1387\">«occurrence»</text><text fill=\"#000000\" font-family=\"sans-serif\" font-size=\"12\" lengthAdjust=\"spacingAndGlyphs\" textLength=\"61\" x=\"412.5\" y=\"313.1074\">occ2: Occ</text><line style=\"stroke: #383838; stroke-width: 1.5;\" x1=\"402.5\" x2=\"487.5\" y1=\"320.9375\" y2=\"320.9375\"/></a><!--MD5=[270fce915f116d4de14055a7c1d9a0f3]\n",
       "class E5--><a href=\"psysml:2ba1b44f-ac88-49ba-a1da-8edc5df2da3a\" target=\"_top\" title=\"psysml:2ba1b44f-ac88-49ba-a1da-8edc5df2da3a\" xlink:actuate=\"onRequest\" xlink:href=\"psysml:2ba1b44f-ac88-49ba-a1da-8edc5df2da3a\" xlink:show=\"new\" xlink:title=\"psysml:2ba1b44f-ac88-49ba-a1da-8edc5df2da3a\" xlink:type=\"simple\"><rect fill=\"#FFFFFF\" height=\"45.9375\" id=\"E5\" rx=\"10\" ry=\"10\" style=\"stroke: #383838; stroke-width: 1.5;\" width=\"212\" x=\"524\" y=\"283\"/><text fill=\"#000000\" font-family=\"sans-serif\" font-size=\"12\" font-style=\"italic\" lengthAdjust=\"spacingAndGlyphs\" textLength=\"210\" x=\"525\" y=\"299.1387\">«individual snapshot occurrence»</text><text fill=\"#000000\" font-family=\"sans-serif\" font-size=\"12\" lengthAdjust=\"spacingAndGlyphs\" textLength=\"34\" x=\"611\" y=\"313.1074\">s: Ind</text><line style=\"stroke: #383838; stroke-width: 1.5;\" x1=\"525\" x2=\"735\" y1=\"320.9375\" y2=\"320.9375\"/></a><!--MD5=[60a26617385b1d2d0262a64233df1f8d]\n",
       "class E6--><a href=\"psysml:aefaf76d-f241-48e8-80ea-b99598299972\" target=\"_top\" title=\"psysml:aefaf76d-f241-48e8-80ea-b99598299972\" xlink:actuate=\"onRequest\" xlink:href=\"psysml:aefaf76d-f241-48e8-80ea-b99598299972\" xlink:show=\"new\" xlink:title=\"psysml:aefaf76d-f241-48e8-80ea-b99598299972\" xlink:type=\"simple\"><rect fill=\"#FFFFFF\" height=\"45.9375\" id=\"E6\" rx=\"10\" ry=\"10\" style=\"stroke: #383838; stroke-width: 1.5;\" width=\"146\" x=\"771\" y=\"283\"/><text fill=\"#000000\" font-family=\"sans-serif\" font-size=\"12\" font-style=\"italic\" lengthAdjust=\"spacingAndGlyphs\" textLength=\"144\" x=\"772\" y=\"299.1387\">«timeslice occurrence»</text><text fill=\"#000000\" font-family=\"sans-serif\" font-size=\"12\" lengthAdjust=\"spacingAndGlyphs\" textLength=\"5\" x=\"839.5\" y=\"313.1074\">t</text><line style=\"stroke: #383838; stroke-width: 1.5;\" x1=\"772\" x2=\"916\" y1=\"320.9375\" y2=\"320.9375\"/></a><!--MD5=[2156ba9850f5573cc1fc38a6a4b2f02b]\n",
       "class E7--><a href=\"psysml:991e81ed-291b-4563-955c-44288cc9fc81\" target=\"_top\" title=\"psysml:991e81ed-291b-4563-955c-44288cc9fc81\" xlink:actuate=\"onRequest\" xlink:href=\"psysml:991e81ed-291b-4563-955c-44288cc9fc81\" xlink:show=\"new\" xlink:title=\"psysml:991e81ed-291b-4563-955c-44288cc9fc81\" xlink:type=\"simple\"><rect fill=\"#FFFFFF\" height=\"45.9375\" id=\"E7\" style=\"stroke: #383838; stroke-width: 1.5;\" width=\"177\" x=\"541.5\" y=\"389\"/><text fill=\"#000000\" font-family=\"sans-serif\" font-size=\"12\" font-style=\"italic\" lengthAdjust=\"spacingAndGlyphs\" textLength=\"175\" x=\"542.5\" y=\"405.1387\">«individual occurrence  def»</text><text fill=\"#000000\" font-family=\"sans-serif\" font-size=\"12\" lengthAdjust=\"spacingAndGlyphs\" textLength=\"19\" x=\"620.5\" y=\"419.1074\">Ind</text><line style=\"stroke: #383838; stroke-width: 1.5;\" x1=\"542.5\" x2=\"717.5\" y1=\"426.9375\" y2=\"426.9375\"/></a><!--MD5=[b9389687b975829384b498ac4b7476b2]\n",
       "class E8--><a href=\"psysml:fb7dbc0d-a670-4e6d-a2b6-24a9a70c023a\" target=\"_top\" title=\"psysml:fb7dbc0d-a670-4e6d-a2b6-24a9a70c023a\" xlink:actuate=\"onRequest\" xlink:href=\"psysml:fb7dbc0d-a670-4e6d-a2b6-24a9a70c023a\" xlink:show=\"new\" xlink:title=\"psysml:fb7dbc0d-a670-4e6d-a2b6-24a9a70c023a\" xlink:type=\"simple\"><rect fill=\"#FFFFFF\" height=\"45.9375\" id=\"E8\" rx=\"10\" ry=\"10\" style=\"stroke: #383838; stroke-width: 1.5;\" width=\"150\" x=\"463\" y=\"495\"/><text fill=\"#000000\" font-family=\"sans-serif\" font-size=\"12\" font-style=\"italic\" lengthAdjust=\"spacingAndGlyphs\" textLength=\"148\" x=\"464\" y=\"511.1387\">«snapshot occurrence»</text><text fill=\"#000000\" font-family=\"sans-serif\" font-size=\"12\" lengthAdjust=\"spacingAndGlyphs\" textLength=\"15\" x=\"528.5\" y=\"525.1074\">s2</text><line style=\"stroke: #383838; stroke-width: 1.5;\" x1=\"464\" x2=\"612\" y1=\"532.9375\" y2=\"532.9375\"/></a><!--MD5=[fd4143e9d270a159db93a4ea2a975926]\n",
       "class E9--><a href=\"psysml:ae0fd4ea-8dc7-4cb0-a32c-5615a8f756eb\" target=\"_top\" title=\"psysml:ae0fd4ea-8dc7-4cb0-a32c-5615a8f756eb\" xlink:actuate=\"onRequest\" xlink:href=\"psysml:ae0fd4ea-8dc7-4cb0-a32c-5615a8f756eb\" xlink:show=\"new\" xlink:title=\"psysml:ae0fd4ea-8dc7-4cb0-a32c-5615a8f756eb\" xlink:type=\"simple\"><rect fill=\"#FFFFFF\" height=\"45.9375\" id=\"E9\" rx=\"10\" ry=\"10\" style=\"stroke: #383838; stroke-width: 1.5;\" width=\"146\" x=\"648\" y=\"495\"/><text fill=\"#000000\" font-family=\"sans-serif\" font-size=\"12\" font-style=\"italic\" lengthAdjust=\"spacingAndGlyphs\" textLength=\"144\" x=\"649\" y=\"511.1387\">«timeslice occurrence»</text><text fill=\"#000000\" font-family=\"sans-serif\" font-size=\"12\" lengthAdjust=\"spacingAndGlyphs\" textLength=\"13\" x=\"712.5\" y=\"525.1074\">t2</text><line style=\"stroke: #383838; stroke-width: 1.5;\" x1=\"649\" x2=\"793\" y1=\"532.9375\" y2=\"532.9375\"/></a><!--MD5=[96f4274e9e20536e775497830990834d]\n",
       "class E10--><a href=\"psysml:90168d9a-6358-4939-88d7-8ec9974b52c6\" target=\"_top\" title=\"psysml:90168d9a-6358-4939-88d7-8ec9974b52c6\" xlink:actuate=\"onRequest\" xlink:href=\"psysml:90168d9a-6358-4939-88d7-8ec9974b52c6\" xlink:show=\"new\" xlink:title=\"psysml:90168d9a-6358-4939-88d7-8ec9974b52c6\" xlink:type=\"simple\"><rect fill=\"#FFFFFF\" height=\"45.9375\" id=\"E10\" rx=\"10\" ry=\"10\" style=\"stroke: #383838; stroke-width: 1.5;\" width=\"149\" x=\"505.5\" y=\"41\"/><text fill=\"#000000\" font-family=\"sans-serif\" font-size=\"12\" font-style=\"italic\" lengthAdjust=\"spacingAndGlyphs\" textLength=\"147\" x=\"506.5\" y=\"57.1387\">«individual occurrence»</text><text fill=\"#000000\" font-family=\"sans-serif\" font-size=\"12\" lengthAdjust=\"spacingAndGlyphs\" textLength=\"77\" x=\"539.5\" y=\"71.1074\">ind: Ind, Occ</text><line style=\"stroke: #383838; stroke-width: 1.5;\" x1=\"506.5\" x2=\"653.5\" y1=\"78.9375\" y2=\"78.9375\"/></a><!--MD5=[1dd1bfd58a279cf63c5f349dbc8fc6a1]\n",
       "class E11--><a href=\"psysml:d0eba55f-a402-4b22-88ba-9857d6bd50ac\" target=\"_top\" title=\"psysml:d0eba55f-a402-4b22-88ba-9857d6bd50ac\" xlink:actuate=\"onRequest\" xlink:href=\"psysml:d0eba55f-a402-4b22-88ba-9857d6bd50ac\" xlink:show=\"new\" xlink:title=\"psysml:d0eba55f-a402-4b22-88ba-9857d6bd50ac\" xlink:type=\"simple\"><rect fill=\"#FFFFFF\" height=\"45.9375\" id=\"E11\" rx=\"10\" ry=\"10\" style=\"stroke: #383838; stroke-width: 1.5;\" width=\"150\" x=\"561\" y=\"162\"/><text fill=\"#000000\" font-family=\"sans-serif\" font-size=\"12\" font-style=\"italic\" lengthAdjust=\"spacingAndGlyphs\" textLength=\"148\" x=\"562\" y=\"178.1387\">«snapshot occurrence»</text><text fill=\"#000000\" font-family=\"sans-serif\" font-size=\"12\" lengthAdjust=\"spacingAndGlyphs\" textLength=\"15\" x=\"626.5\" y=\"192.1074\">s3</text><line style=\"stroke: #383838; stroke-width: 1.5;\" x1=\"562\" x2=\"710\" y1=\"199.9375\" y2=\"199.9375\"/></a><!--MD5=[49a0ec8f00dab7302a31f22d0f0fe584]\n",
       "class E12--><a href=\"psysml:0232df4f-93e4-4add-8902-f942e03a0634\" target=\"_top\" title=\"psysml:0232df4f-93e4-4add-8902-f942e03a0634\" xlink:actuate=\"onRequest\" xlink:href=\"psysml:0232df4f-93e4-4add-8902-f942e03a0634\" xlink:show=\"new\" xlink:title=\"psysml:0232df4f-93e4-4add-8902-f942e03a0634\" xlink:type=\"simple\"><rect fill=\"#FFFFFF\" height=\"45.9375\" id=\"E12\" rx=\"10\" ry=\"10\" style=\"stroke: #383838; stroke-width: 1.5;\" width=\"208\" x=\"746\" y=\"162\"/><text fill=\"#000000\" font-family=\"sans-serif\" font-size=\"12\" font-style=\"italic\" lengthAdjust=\"spacingAndGlyphs\" textLength=\"206\" x=\"747\" y=\"178.1387\">«individual timeslice occurrence»</text><text fill=\"#000000\" font-family=\"sans-serif\" font-size=\"12\" lengthAdjust=\"spacingAndGlyphs\" textLength=\"13\" x=\"841.5\" y=\"192.1074\">t3</text><line style=\"stroke: #383838; stroke-width: 1.5;\" x1=\"747\" x2=\"953\" y1=\"199.9375\" y2=\"199.9375\"/></a><!--MD5=[ee3c913d1a06f366521f9ef512b67efe]\n",
       "class E13--><a href=\"psysml:5cbde71f-e2d0-40cd-91ed-92f5bc776eb7\" target=\"_top\" title=\"psysml:5cbde71f-e2d0-40cd-91ed-92f5bc776eb7\" xlink:actuate=\"onRequest\" xlink:href=\"psysml:5cbde71f-e2d0-40cd-91ed-92f5bc776eb7\" xlink:show=\"new\" xlink:title=\"psysml:5cbde71f-e2d0-40cd-91ed-92f5bc776eb7\" xlink:type=\"simple\"><rect fill=\"#FFFFFF\" height=\"45.9375\" id=\"E13\" rx=\"10\" ry=\"10\" style=\"stroke: #383838; stroke-width: 1.5;\" width=\"212\" x=\"32\" y=\"283\"/><text fill=\"#000000\" font-family=\"sans-serif\" font-size=\"12\" font-style=\"italic\" lengthAdjust=\"spacingAndGlyphs\" textLength=\"210\" x=\"33\" y=\"299.1387\">«individual snapshot occurrence»</text><text fill=\"#000000\" font-family=\"sans-serif\" font-size=\"12\" lengthAdjust=\"spacingAndGlyphs\" textLength=\"42\" x=\"115\" y=\"313.1074\">s4: Ind</text><line style=\"stroke: #383838; stroke-width: 1.5;\" x1=\"33\" x2=\"243\" y1=\"320.9375\" y2=\"320.9375\"/></a><!--MD5=[209b3feb70ccb6233bfe1053d122c12c]\n",
       "reverse link E2 to E3--><a href=\"psysml:111e77a4-44f2-45ac-862d-a1e02a1cad26\" target=\"_top\" title=\"psysml:111e77a4-44f2-45ac-862d-a1e02a1cad26\" xlink:actuate=\"onRequest\" xlink:href=\"psysml:111e77a4-44f2-45ac-862d-a1e02a1cad26\" xlink:show=\"new\" xlink:title=\"psysml:111e77a4-44f2-45ac-862d-a1e02a1cad26\" xlink:type=\"simple\"><path d=\"M376.37,232.45 C359.85,249.83 343.43,268.76 332.86,282.93 \" fill=\"none\" id=\"E2&lt;-E3\" style=\"stroke: #383838; stroke-width: 1.0;\"/><polygon fill=\"#FFFFFF\" points=\"385.52,223,378.4729,224.5294,377.1743,231.6226,384.2213,230.0932,385.52,223\" style=\"stroke: #383838; stroke-width: 1.0;\"/></a><!--MD5=[05d275557350bfb9b23a4ef7222b4c39]\n",
       "link E3 to E2--><a href=\"psysml:0f45e557-8f0e-4df9-b1d8-28bd2526f5a3\" target=\"_top\" title=\"psysml:0f45e557-8f0e-4df9-b1d8-28bd2526f5a3\" xlink:actuate=\"onRequest\" xlink:href=\"psysml:0f45e557-8f0e-4df9-b1d8-28bd2526f5a3\" xlink:show=\"new\" xlink:title=\"psysml:0f45e557-8f0e-4df9-b1d8-28bd2526f5a3\" xlink:type=\"simple\"><path d=\"M353.8,282.93 C367.38,270.34 383.11,253.98 396.95,238.29 \" fill=\"none\" id=\"E3-&gt;E2\" style=\"stroke: #383838; stroke-width: 1.0;\"/><polygon fill=\"#FFFFFF\" points=\"410.02,223,403.0007,241.9929,392.3563,232.8991,410.02,223\" style=\"stroke: #383838; stroke-width: 1.0;\"/><ellipse cx=\"397.7776\" cy=\"245.0276\" fill=\"#383838\" rx=\"2\" ry=\"2\" style=\"stroke: #383838; stroke-width: 1.0;\"/><ellipse cx=\"390.1744\" cy=\"238.532\" fill=\"#383838\" rx=\"2\" ry=\"2\" style=\"stroke: #383838; stroke-width: 1.0;\"/></a><!--MD5=[9618e71518536f8baf3342ff6fdab317]\n",
       "reverse link E2 to E4--><a href=\"psysml:7f5381ff-79d6-4175-8599-1b084d5a38fb\" target=\"_top\" title=\"psysml:7f5381ff-79d6-4175-8599-1b084d5a38fb\" xlink:actuate=\"onRequest\" xlink:href=\"psysml:7f5381ff-79d6-4175-8599-1b084d5a38fb\" xlink:show=\"new\" xlink:title=\"psysml:7f5381ff-79d6-4175-8599-1b084d5a38fb\" xlink:type=\"simple\"><path d=\"M424.31,236.34 C425.74,252.61 428.58,269.81 432.23,282.93 \" fill=\"none\" id=\"E2&lt;-E4\" style=\"stroke: #383838; stroke-width: 1.0;\"/><polygon fill=\"#383838\" points=\"423.45,223,419.8475,229.2467,424.2281,234.9747,427.8306,228.728,423.45,223\" style=\"stroke: #383838; stroke-width: 1.0;\"/></a><!--MD5=[185131fc0dcab0a4505a2ebe144e961b]\n",
       "link E4 to E2--><a href=\"psysml:9af83ecd-fc65-4272-8374-c2ac75a0337a\" target=\"_top\" title=\"psysml:9af83ecd-fc65-4272-8374-c2ac75a0337a\" xlink:actuate=\"onRequest\" xlink:href=\"psysml:9af83ecd-fc65-4272-8374-c2ac75a0337a\" xlink:show=\"new\" xlink:title=\"psysml:9af83ecd-fc65-4272-8374-c2ac75a0337a\" xlink:type=\"simple\"><path d=\"M453.17,282.93 C453.77,271.65 452.99,257.34 451.22,243.21 \" fill=\"none\" id=\"E4-&gt;E2\" style=\"stroke: #383838; stroke-width: 1.0;\"/><polygon fill=\"#FFFFFF\" points=\"447.96,223,457.8973,240.6423,444.0761,242.8725,447.96,223\" style=\"stroke: #383838; stroke-width: 1.0;\"/><ellipse cx=\"456.8309\" cy=\"246.5881\" fill=\"#383838\" rx=\"2\" ry=\"2\" style=\"stroke: #383838; stroke-width: 1.0;\"/><ellipse cx=\"446.9586\" cy=\"248.1811\" fill=\"#383838\" rx=\"2\" ry=\"2\" style=\"stroke: #383838; stroke-width: 1.0;\"/></a><!--MD5=[4e1a83fab71cdb913c109063314ae896]\n",
       "reverse link E2 to E5--><a href=\"psysml:648e9e41-ac7c-450e-af70-439d81f3f540\" target=\"_top\" title=\"psysml:648e9e41-ac7c-450e-af70-439d81f3f540\" xlink:actuate=\"onRequest\" xlink:href=\"psysml:648e9e41-ac7c-450e-af70-439d81f3f540\" xlink:show=\"new\" xlink:title=\"psysml:648e9e41-ac7c-450e-af70-439d81f3f540\" xlink:type=\"simple\"><path d=\"M499.85,227.17 C531.12,245.87 566.86,267.24 592.97,282.85 \" fill=\"none\" id=\"E2&lt;-E5\" style=\"stroke: #383838; stroke-width: 1.0;\"/><polygon fill=\"#383838\" points=\"488.56,220.42,491.6568,226.9323,498.8592,226.5784,495.7624,220.0661,488.56,220.42\" style=\"stroke: #383838; stroke-width: 1.0;\"/></a><!--MD5=[ce036f65110ae2351ccce5a81dc2e928]\n",
       "reverse link E2 to E6--><a href=\"psysml:00b8b9a4-593e-406d-b505-212ff2a7c9c1\" target=\"_top\" title=\"psysml:00b8b9a4-593e-406d-b505-212ff2a7c9c1\" xlink:actuate=\"onRequest\" xlink:href=\"psysml:00b8b9a4-593e-406d-b505-212ff2a7c9c1\" xlink:show=\"new\" xlink:title=\"psysml:00b8b9a4-593e-406d-b505-212ff2a7c9c1\" xlink:type=\"simple\"><path d=\"M501.02,217.55 C506.06,219.49 511.08,221.33 516,223 C528.19,227.15 677.82,264.14 770.71,287 \" fill=\"none\" id=\"E2&lt;-E6\" style=\"stroke: #383838; stroke-width: 1.0;\"/><polygon fill=\"#383838\" points=\"488.57,212.58,492.6577,218.5206,499.7135,217.0321,495.6258,211.0916,488.57,212.58\" style=\"stroke: #383838; stroke-width: 1.0;\"/></a><!--MD5=[3a9b96bfbf6b6ad89c494e81751bda47]\n",
       "link E5 to E7--><a href=\"psysml:088b8ee7-f1bc-4574-b816-43bcf4f14b77\" target=\"_top\" title=\"psysml:088b8ee7-f1bc-4574-b816-43bcf4f14b77\" xlink:actuate=\"onRequest\" xlink:href=\"psysml:088b8ee7-f1bc-4574-b816-43bcf4f14b77\" xlink:show=\"new\" xlink:title=\"psysml:088b8ee7-f1bc-4574-b816-43bcf4f14b77\" xlink:type=\"simple\"><path d=\"M630,329.06 C630,340.64 630,355.23 630,368.87 \" fill=\"none\" id=\"E5-&gt;E7\" style=\"stroke: #383838; stroke-width: 1.0;\"/><polygon fill=\"#FFFFFF\" points=\"630,388.98,623,369.98,637,369.98,630,388.98\" style=\"stroke: #383838; stroke-width: 1.0;\"/><ellipse cx=\"625\" cy=\"364.28\" fill=\"#383838\" rx=\"2\" ry=\"2\" style=\"stroke: #383838; stroke-width: 1.0;\"/><ellipse cx=\"635\" cy=\"364.28\" fill=\"#383838\" rx=\"2\" ry=\"2\" style=\"stroke: #383838; stroke-width: 1.0;\"/></a><!--MD5=[dc164f5e8a733ab456ef1add180e9e34]\n",
       "reverse link E7 to E8--><a href=\"psysml:c8813ef9-ffa9-4c9d-80a4-dd20f6c80ea5\" target=\"_top\" title=\"psysml:c8813ef9-ffa9-4c9d-80a4-dd20f6c80ea5\" xlink:actuate=\"onRequest\" xlink:href=\"psysml:c8813ef9-ffa9-4c9d-80a4-dd20f6c80ea5\" xlink:show=\"new\" xlink:title=\"psysml:c8813ef9-ffa9-4c9d-80a4-dd20f6c80ea5\" xlink:type=\"simple\"><path d=\"M601.55,445.16 C587.25,461.33 570.28,480.51 557.48,494.98 \" fill=\"none\" id=\"E7&lt;-E8\" style=\"stroke: #383838; stroke-width: 1.0;\"/><polygon fill=\"#383838\" points=\"610.49,435.06,603.5177,436.9004,602.5348,444.0442,609.5071,442.2038,610.49,435.06\" style=\"stroke: #383838; stroke-width: 1.0;\"/></a><!--MD5=[e4a10ef82d0e328e31cac39a31e58dda]\n",
       "reverse link E7 to E9--><a href=\"psysml:cdca8d7c-6aa5-4fff-9e0e-900e3ba85343\" target=\"_top\" title=\"psysml:cdca8d7c-6aa5-4fff-9e0e-900e3ba85343\" xlink:actuate=\"onRequest\" xlink:href=\"psysml:cdca8d7c-6aa5-4fff-9e0e-900e3ba85343\" xlink:show=\"new\" xlink:title=\"psysml:cdca8d7c-6aa5-4fff-9e0e-900e3ba85343\" xlink:type=\"simple\"><path d=\"M658.14,445.16 C672.29,461.33 689.07,480.51 701.73,494.98 \" fill=\"none\" id=\"E7&lt;-E9\" style=\"stroke: #383838; stroke-width: 1.0;\"/><polygon fill=\"#383838\" points=\"649.3,435.06,650.2496,442.2083,657.2133,444.0811,656.2637,436.9328,649.3,435.06\" style=\"stroke: #383838; stroke-width: 1.0;\"/></a><!--MD5=[a919e0967d6f3de553dc51b9865a1d6d]\n",
       "link E10 to E7--><a href=\"psysml:43f26010-ca40-42d6-8df0-e4847d82fc63\" target=\"_top\" title=\"psysml:43f26010-ca40-42d6-8df0-e4847d82fc63\" xlink:actuate=\"onRequest\" xlink:href=\"psysml:43f26010-ca40-42d6-8df0-e4847d82fc63\" xlink:show=\"new\" xlink:title=\"psysml:43f26010-ca40-42d6-8df0-e4847d82fc63\" xlink:type=\"simple\"><path d=\"M564.36,87.23 C542.92,120.68 510.65,184.15 544,223 C658.5,356.41 820.5,149.59 935,283 C997.3,355.58 849.41,387.9 738.47,401.63 \" fill=\"none\" id=\"E10-&gt;E7\" style=\"stroke: #383838; stroke-width: 1.0;\"/><polygon fill=\"#FFFFFF\" points=\"718.6,403.94,736.6627,394.7891,738.2822,408.6951,718.6,403.94\" style=\"stroke: #383838; stroke-width: 1.0;\"/><ellipse cx=\"742.5558\" cy=\"396.1162\" fill=\"#383838\" rx=\"2\" ry=\"2\" style=\"stroke: #383838; stroke-width: 1.0;\"/><ellipse cx=\"743.7126\" cy=\"406.0491\" fill=\"#383838\" rx=\"2\" ry=\"2\" style=\"stroke: #383838; stroke-width: 1.0;\"/></a><!--MD5=[0f36bececdf0dff6e600d6f64214b0f1]\n",
       "link E10 to E2--><a href=\"psysml:ac89f7fb-b091-4bc7-aaea-6377fc157ffe\" target=\"_top\" title=\"psysml:ac89f7fb-b091-4bc7-aaea-6377fc157ffe\" xlink:actuate=\"onRequest\" xlink:href=\"psysml:ac89f7fb-b091-4bc7-aaea-6377fc157ffe\" xlink:show=\"new\" xlink:title=\"psysml:ac89f7fb-b091-4bc7-aaea-6377fc157ffe\" xlink:type=\"simple\"><path d=\"M552.32,87.1 C535.71,100.38 513.86,117.82 493.29,134.25 \" fill=\"none\" id=\"E10-&gt;E2\" style=\"stroke: #383838; stroke-width: 1.0;\"/><polygon fill=\"#FFFFFF\" points=\"477.56,146.81,488.0352,129.4817,496.7737,140.4197,477.56,146.81\" style=\"stroke: #383838; stroke-width: 1.0;\"/><ellipse cx=\"493.7369\" cy=\"127.4865\" fill=\"#383838\" rx=\"2\" ry=\"2\" style=\"stroke: #383838; stroke-width: 1.0;\"/><ellipse cx=\"499.9786\" cy=\"135.2994\" fill=\"#383838\" rx=\"2\" ry=\"2\" style=\"stroke: #383838; stroke-width: 1.0;\"/></a><!--MD5=[de308be4a2431766a05a907a031c07fc]\n",
       "reverse link E10 to E11--><a href=\"psysml:75c081c5-05e2-401c-b103-d900689a3a49\" target=\"_top\" title=\"psysml:75c081c5-05e2-401c-b103-d900689a3a49\" xlink:actuate=\"onRequest\" xlink:href=\"psysml:75c081c5-05e2-401c-b103-d900689a3a49\" xlink:show=\"new\" xlink:title=\"psysml:75c081c5-05e2-401c-b103-d900689a3a49\" xlink:type=\"simple\"><path d=\"M595.95,98.9 C605.42,119.01 617.15,143.94 625.46,161.61 \" fill=\"none\" id=\"E10&lt;-E11\" style=\"stroke: #383838; stroke-width: 1.0;\"/><polygon fill=\"#383838\" points=\"590.4,87.1,589.3334,94.2318,595.5064,97.9593,596.573,90.8275,590.4,87.1\" style=\"stroke: #383838; stroke-width: 1.0;\"/></a><!--MD5=[1d54f998c6d5961a1a9184be73a7eb6c]\n",
       "reverse link E10 to E12--><a href=\"psysml:54130436-8b1f-4706-a610-d99b2d4cb5d4\" target=\"_top\" title=\"psysml:54130436-8b1f-4706-a610-d99b2d4cb5d4\" xlink:actuate=\"onRequest\" xlink:href=\"psysml:54130436-8b1f-4706-a610-d99b2d4cb5d4\" xlink:show=\"new\" xlink:title=\"psysml:54130436-8b1f-4706-a610-d99b2d4cb5d4\" xlink:type=\"simple\"><path d=\"M642.21,92.42 C689.99,113.48 755.13,142.19 799.66,161.81 \" fill=\"none\" id=\"E10&lt;-E12\" style=\"stroke: #383838; stroke-width: 1.0;\"/><polygon fill=\"#383838\" points=\"630.15,87.1,634.028,93.1796,641.1314,91.9382,637.2534,85.8586,630.15,87.1\" style=\"stroke: #383838; stroke-width: 1.0;\"/></a><!--MD5=[4a48077df6499cfcd20b62e8f5f37904]\n",
       "link E13 to E7--><a href=\"psysml:85f16706-e1b7-404d-9ee5-57d420bfb7f2\" target=\"_top\" title=\"psysml:85f16706-e1b7-404d-9ee5-57d420bfb7f2\" xlink:actuate=\"onRequest\" xlink:href=\"psysml:85f16706-e1b7-404d-9ee5-57d420bfb7f2\" xlink:show=\"new\" xlink:title=\"psysml:85f16706-e1b7-404d-9ee5-57d420bfb7f2\" xlink:type=\"simple\"><path d=\"M242.34,329.06 C324.51,346.43 438.67,370.56 521.82,388.13 \" fill=\"none\" id=\"E13-&gt;E7\" style=\"stroke: #383838; stroke-width: 1.0;\"/><polygon fill=\"#FFFFFF\" points=\"541.45,392.28,521.4143,395.2075,524.304,381.509,541.45,392.28\" style=\"stroke: #383838; stroke-width: 1.0;\"/><ellipse cx=\"516.2498\" cy=\"392.0741\" fill=\"#383838\" rx=\"2\" ry=\"2\" style=\"stroke: #383838; stroke-width: 1.0;\"/><ellipse cx=\"518.3139\" cy=\"382.2894\" fill=\"#383838\" rx=\"2\" ry=\"2\" style=\"stroke: #383838; stroke-width: 1.0;\"/></a><!--MD5=[2150f3eba2cbc8fae3f228821dec8220]\n",
       "@startuml\r\n",
       "top to bottom direction\r\n",
       "skinparam monochrome true\r\n",
       "skinparam classbackgroundcolor white\r\n",
       "skinparam shadowing false\r\n",
       "skinparam wrapWidth 300\r\n",
       "hide circle\r\n",
       "\r\n",
       "package \"OccurrenceTest\" as E1  [[psysml:53f1d42d-2686-4f4b-950f-b84b40bc19b2 ]]  {\r\n",
       "comp def \"Occ\" as E2  <<(T,blue) occurrence  def>> [[psysml:77ba500d-77fd-484e-b411-8833010da35e ]] {\r\n",
       "- - attributes - -\r\n",
       "a\r\n",
       "}\r\n",
       "comp usage \"occ1: Occ \" as E3  <<(T,blue) occurrence>> [[psysml:37011562-c12e-4ce2-bbf9-af5619a300f0 ]] {\r\n",
       "}\r\n",
       "comp usage \"occ2: Occ \" as E4  <<(T,blue) occurrence>> [[psysml:3522e0a2-d0dd-4c95-916a-e9f89fbadd86 ]] {\r\n",
       "}\r\n",
       "comp usage \"s: Ind \" as E5  <<(T,blue) individual snapshot occurrence>> [[psysml:2ba1b44f-ac88-49ba-a1da-8edc5df2da3a ]] {\r\n",
       "}\r\n",
       "comp usage \"t \" as E6  <<(T,blue) timeslice occurrence>> [[psysml:aefaf76d-f241-48e8-80ea-b99598299972 ]] {\r\n",
       "}\r\n",
       "comp def \"Ind\" as E7  <<(T,blue) individual occurrence  def>> [[psysml:991e81ed-291b-4563-955c-44288cc9fc81 ]] {\r\n",
       "}\r\n",
       "comp usage \"s2 \" as E8  <<(T,blue) snapshot occurrence>> [[psysml:fb7dbc0d-a670-4e6d-a2b6-24a9a70c023a ]] {\r\n",
       "}\r\n",
       "comp usage \"t2 \" as E9  <<(T,blue) timeslice occurrence>> [[psysml:ae0fd4ea-8dc7-4cb0-a32c-5615a8f756eb ]] {\r\n",
       "}\r\n",
       "comp usage \"ind: Ind, Occ \" as E10  <<(T,blue) individual occurrence>> [[psysml:90168d9a-6358-4939-88d7-8ec9974b52c6 ]] {\r\n",
       "}\r\n",
       "comp usage \"s3 \" as E11  <<(T,blue) snapshot occurrence>> [[psysml:d0eba55f-a402-4b22-88ba-9857d6bd50ac ]] {\r\n",
       "}\r\n",
       "comp usage \"t3 \" as E12  <<(T,blue) individual timeslice occurrence>> [[psysml:0232df4f-93e4-4add-8902-f942e03a0634 ]] {\r\n",
       "}\r\n",
       "comp usage \"s4: Ind \" as E13  <<(T,blue) individual snapshot occurrence>> [[psysml:5cbde71f-e2d0-40cd-91ed-92f5bc776eb7 ]] {\r\n",
       "}\r\n",
       "}\r\n",
       "E2 o- - E3 [[psysml:111e77a4-44f2-45ac-862d-a1e02a1cad26 ]] \r\n",
       "E3 - -:|> E2 [[psysml:0f45e557-8f0e-4df9-b1d8-28bd2526f5a3 ]] \r\n",
       "E2 *- - E4 [[psysml:7f5381ff-79d6-4175-8599-1b084d5a38fb ]] \r\n",
       "E4 - -:|> E2 [[psysml:9af83ecd-fc65-4272-8374-c2ac75a0337a ]] \r\n",
       "E2 *- - E5 [[psysml:648e9e41-ac7c-450e-af70-439d81f3f540 ]] \r\n",
       "E2 *- - E6 [[psysml:00b8b9a4-593e-406d-b505-212ff2a7c9c1 ]] \r\n",
       "E5 - -:|> E7 [[psysml:088b8ee7-f1bc-4574-b816-43bcf4f14b77 ]] \r\n",
       "E7 *- - E8 [[psysml:c8813ef9-ffa9-4c9d-80a4-dd20f6c80ea5 ]] \r\n",
       "E7 *- - E9 [[psysml:cdca8d7c-6aa5-4fff-9e0e-900e3ba85343 ]] \r\n",
       "E10 - -:|> E7 [[psysml:43f26010-ca40-42d6-8df0-e4847d82fc63 ]] \r\n",
       "E10 - -:|> E2 [[psysml:ac89f7fb-b091-4bc7-aaea-6377fc157ffe ]] \r\n",
       "E10 *- - E11 [[psysml:75c081c5-05e2-401c-b103-d900689a3a49 ]] \r\n",
       "E10 *- - E12 [[psysml:54130436-8b1f-4706-a610-d99b2d4cb5d4 ]] \r\n",
       "E13 - -:|> E7 [[psysml:85f16706-e1b7-404d-9ee5-57d420bfb7f2 ]] \r\n",
       "@enduml\r\n",
       "\n",
       "PlantUML version 1.2020.13(Sat Jun 13 12:26:38 UTC 2020)\n",
       "(EPL source distribution)\n",
       "Java Runtime: OpenJDK Runtime Environment\n",
       "JVM: OpenJDK 64-Bit Server VM\n",
       "Default Encoding: UTF-8\n",
       "Language: en\n",
       "Country: null\n",
       "--></g></svg>"
      ]
     },
     "execution_count": 44,
     "metadata": {},
     "output_type": "execute_result"
    }
   ],
   "source": [
    "%viz --style=\"TB\" --view=\"Default\" \"OccurrenceTest\""
   ]
  },
  {
   "cell_type": "code",
   "execution_count": 45,
   "id": "1671a169",
   "metadata": {
    "execution": {
     "iopub.execute_input": "2022-07-23T10:52:34.022487Z",
     "iopub.status.busy": "2022-07-23T10:52:34.021799Z",
     "iopub.status.idle": "2022-07-23T10:52:34.073804Z",
     "shell.execute_reply": "2022-07-23T10:52:34.073348Z"
    }
   },
   "outputs": [
    {
     "data": {
      "image/svg+xml": [
       "<?xml version=\"1.0\" encoding=\"UTF-8\" standalone=\"no\"?><svg xmlns=\"http://www.w3.org/2000/svg\" xmlns:xlink=\"http://www.w3.org/1999/xlink\" contentScriptType=\"application/ecmascript\" contentStyleType=\"text/css\" height=\"569px\" preserveAspectRatio=\"none\" style=\"width:1009px;height:569px;\" version=\"1.1\" viewBox=\"0 0 1009 569\" width=\"1009px\" zoomAndPan=\"magnify\"><defs/><g><!--MD5=[fbc87193dbaf4d95561dea2c320d4a47]\n",
       "cluster E1--><a href=\"psysml:53f1d42d-2686-4f4b-950f-b84b40bc19b2\" target=\"_top\" title=\"psysml:53f1d42d-2686-4f4b-950f-b84b40bc19b2\" xlink:actuate=\"onRequest\" xlink:href=\"psysml:53f1d42d-2686-4f4b-950f-b84b40bc19b2\" xlink:show=\"new\" xlink:title=\"psysml:53f1d42d-2686-4f4b-950f-b84b40bc19b2\" xlink:type=\"simple\"><polygon fill=\"#FFFFFF\" points=\"16,6,134,6,141,28.2969,970,28.2969,970,557,16,557,16,6\" style=\"stroke: #000000; stroke-width: 1.5;\"/><line style=\"stroke: #000000; stroke-width: 1.5;\" x1=\"16\" x2=\"141\" y1=\"28.2969\" y2=\"28.2969\"/><text fill=\"#000000\" font-family=\"sans-serif\" font-size=\"14\" font-weight=\"bold\" lengthAdjust=\"spacingAndGlyphs\" textLength=\"112\" x=\"20\" y=\"20.9951\">OccurrenceTest</text></a><!--MD5=[b4997ac47864f28c2f74865a473b2911]\n",
       "class E2--><a href=\"psysml:77ba500d-77fd-484e-b411-8833010da35e\" target=\"_top\" title=\"psysml:77ba500d-77fd-484e-b411-8833010da35e\" xlink:actuate=\"onRequest\" xlink:href=\"psysml:77ba500d-77fd-484e-b411-8833010da35e\" xlink:show=\"new\" xlink:title=\"psysml:77ba500d-77fd-484e-b411-8833010da35e\" xlink:type=\"simple\"><rect fill=\"#FFFFFF\" height=\"75.5469\" id=\"E2\" style=\"stroke: #383838; stroke-width: 1.5;\" width=\"115\" x=\"373.5\" y=\"147\"/><text fill=\"#000000\" font-family=\"sans-serif\" font-size=\"12\" font-style=\"italic\" lengthAdjust=\"spacingAndGlyphs\" textLength=\"113\" x=\"374.5\" y=\"163.1387\">«occurrence  def»</text><text fill=\"#000000\" font-family=\"sans-serif\" font-size=\"12\" lengthAdjust=\"spacingAndGlyphs\" textLength=\"23\" x=\"419.5\" y=\"177.1074\">Occ</text><line style=\"stroke: #383838; stroke-width: 1.5;\" x1=\"374.5\" x2=\"487.5\" y1=\"184.9375\" y2=\"184.9375\"/><text fill=\"#000000\" font-family=\"sans-serif\" font-size=\"11\" lengthAdjust=\"spacingAndGlyphs\" textLength=\"7\" x=\"379.5\" y=\"215.9526\">a</text><line style=\"stroke: #383838; stroke-width: 1.0;\" x1=\"374.5\" x2=\"403.5\" y1=\"199.3398\" y2=\"199.3398\"/><text fill=\"#000000\" font-family=\"sans-serif\" font-size=\"11\" lengthAdjust=\"spacingAndGlyphs\" textLength=\"55\" x=\"403.5\" y=\"202.6479\">attributes</text><line style=\"stroke: #383838; stroke-width: 1.0;\" x1=\"458.5\" x2=\"487.5\" y1=\"199.3398\" y2=\"199.3398\"/></a><!--MD5=[09b614a08d8cba4a07c9adeb5e0fee81]\n",
       "class E3--><a href=\"psysml:37011562-c12e-4ce2-bbf9-af5619a300f0\" target=\"_top\" title=\"psysml:37011562-c12e-4ce2-bbf9-af5619a300f0\" xlink:actuate=\"onRequest\" xlink:href=\"psysml:37011562-c12e-4ce2-bbf9-af5619a300f0\" xlink:show=\"new\" xlink:title=\"psysml:37011562-c12e-4ce2-bbf9-af5619a300f0\" xlink:type=\"simple\"><rect fill=\"#FFFFFF\" height=\"45.9375\" id=\"E3\" rx=\"10\" ry=\"10\" style=\"stroke: #383838; stroke-width: 1.5;\" width=\"87\" x=\"279.5\" y=\"283\"/><text fill=\"#000000\" font-family=\"sans-serif\" font-size=\"12\" font-style=\"italic\" lengthAdjust=\"spacingAndGlyphs\" textLength=\"85\" x=\"280.5\" y=\"299.1387\">«occurrence»</text><text fill=\"#000000\" font-family=\"sans-serif\" font-size=\"12\" lengthAdjust=\"spacingAndGlyphs\" textLength=\"61\" x=\"290.5\" y=\"313.1074\">occ1: Occ</text><line style=\"stroke: #383838; stroke-width: 1.5;\" x1=\"280.5\" x2=\"365.5\" y1=\"320.9375\" y2=\"320.9375\"/></a><!--MD5=[ebbe1d658d1005bcc118a6aa81145e00]\n",
       "class E4--><a href=\"psysml:3522e0a2-d0dd-4c95-916a-e9f89fbadd86\" target=\"_top\" title=\"psysml:3522e0a2-d0dd-4c95-916a-e9f89fbadd86\" xlink:actuate=\"onRequest\" xlink:href=\"psysml:3522e0a2-d0dd-4c95-916a-e9f89fbadd86\" xlink:show=\"new\" xlink:title=\"psysml:3522e0a2-d0dd-4c95-916a-e9f89fbadd86\" xlink:type=\"simple\"><rect fill=\"#FFFFFF\" height=\"45.9375\" id=\"E4\" rx=\"10\" ry=\"10\" style=\"stroke: #383838; stroke-width: 1.5;\" width=\"87\" x=\"401.5\" y=\"283\"/><text fill=\"#000000\" font-family=\"sans-serif\" font-size=\"12\" font-style=\"italic\" lengthAdjust=\"spacingAndGlyphs\" textLength=\"85\" x=\"402.5\" y=\"299.1387\">«occurrence»</text><text fill=\"#000000\" font-family=\"sans-serif\" font-size=\"12\" lengthAdjust=\"spacingAndGlyphs\" textLength=\"61\" x=\"412.5\" y=\"313.1074\">occ2: Occ</text><line style=\"stroke: #383838; stroke-width: 1.5;\" x1=\"402.5\" x2=\"487.5\" y1=\"320.9375\" y2=\"320.9375\"/></a><!--MD5=[270fce915f116d4de14055a7c1d9a0f3]\n",
       "class E5--><a href=\"psysml:2ba1b44f-ac88-49ba-a1da-8edc5df2da3a\" target=\"_top\" title=\"psysml:2ba1b44f-ac88-49ba-a1da-8edc5df2da3a\" xlink:actuate=\"onRequest\" xlink:href=\"psysml:2ba1b44f-ac88-49ba-a1da-8edc5df2da3a\" xlink:show=\"new\" xlink:title=\"psysml:2ba1b44f-ac88-49ba-a1da-8edc5df2da3a\" xlink:type=\"simple\"><rect fill=\"#FFFFFF\" height=\"45.9375\" id=\"E5\" rx=\"10\" ry=\"10\" style=\"stroke: #383838; stroke-width: 1.5;\" width=\"212\" x=\"524\" y=\"283\"/><text fill=\"#000000\" font-family=\"sans-serif\" font-size=\"12\" font-style=\"italic\" lengthAdjust=\"spacingAndGlyphs\" textLength=\"210\" x=\"525\" y=\"299.1387\">«individual snapshot occurrence»</text><text fill=\"#000000\" font-family=\"sans-serif\" font-size=\"12\" lengthAdjust=\"spacingAndGlyphs\" textLength=\"34\" x=\"611\" y=\"313.1074\">s: Ind</text><line style=\"stroke: #383838; stroke-width: 1.5;\" x1=\"525\" x2=\"735\" y1=\"320.9375\" y2=\"320.9375\"/></a><!--MD5=[60a26617385b1d2d0262a64233df1f8d]\n",
       "class E6--><a href=\"psysml:aefaf76d-f241-48e8-80ea-b99598299972\" target=\"_top\" title=\"psysml:aefaf76d-f241-48e8-80ea-b99598299972\" xlink:actuate=\"onRequest\" xlink:href=\"psysml:aefaf76d-f241-48e8-80ea-b99598299972\" xlink:show=\"new\" xlink:title=\"psysml:aefaf76d-f241-48e8-80ea-b99598299972\" xlink:type=\"simple\"><rect fill=\"#FFFFFF\" height=\"45.9375\" id=\"E6\" rx=\"10\" ry=\"10\" style=\"stroke: #383838; stroke-width: 1.5;\" width=\"146\" x=\"771\" y=\"283\"/><text fill=\"#000000\" font-family=\"sans-serif\" font-size=\"12\" font-style=\"italic\" lengthAdjust=\"spacingAndGlyphs\" textLength=\"144\" x=\"772\" y=\"299.1387\">«timeslice occurrence»</text><text fill=\"#000000\" font-family=\"sans-serif\" font-size=\"12\" lengthAdjust=\"spacingAndGlyphs\" textLength=\"5\" x=\"839.5\" y=\"313.1074\">t</text><line style=\"stroke: #383838; stroke-width: 1.5;\" x1=\"772\" x2=\"916\" y1=\"320.9375\" y2=\"320.9375\"/></a><!--MD5=[2156ba9850f5573cc1fc38a6a4b2f02b]\n",
       "class E7--><a href=\"psysml:991e81ed-291b-4563-955c-44288cc9fc81\" target=\"_top\" title=\"psysml:991e81ed-291b-4563-955c-44288cc9fc81\" xlink:actuate=\"onRequest\" xlink:href=\"psysml:991e81ed-291b-4563-955c-44288cc9fc81\" xlink:show=\"new\" xlink:title=\"psysml:991e81ed-291b-4563-955c-44288cc9fc81\" xlink:type=\"simple\"><rect fill=\"#FFFFFF\" height=\"45.9375\" id=\"E7\" style=\"stroke: #383838; stroke-width: 1.5;\" width=\"177\" x=\"541.5\" y=\"389\"/><text fill=\"#000000\" font-family=\"sans-serif\" font-size=\"12\" font-style=\"italic\" lengthAdjust=\"spacingAndGlyphs\" textLength=\"175\" x=\"542.5\" y=\"405.1387\">«individual occurrence  def»</text><text fill=\"#000000\" font-family=\"sans-serif\" font-size=\"12\" lengthAdjust=\"spacingAndGlyphs\" textLength=\"19\" x=\"620.5\" y=\"419.1074\">Ind</text><line style=\"stroke: #383838; stroke-width: 1.5;\" x1=\"542.5\" x2=\"717.5\" y1=\"426.9375\" y2=\"426.9375\"/></a><!--MD5=[b9389687b975829384b498ac4b7476b2]\n",
       "class E8--><a href=\"psysml:fb7dbc0d-a670-4e6d-a2b6-24a9a70c023a\" target=\"_top\" title=\"psysml:fb7dbc0d-a670-4e6d-a2b6-24a9a70c023a\" xlink:actuate=\"onRequest\" xlink:href=\"psysml:fb7dbc0d-a670-4e6d-a2b6-24a9a70c023a\" xlink:show=\"new\" xlink:title=\"psysml:fb7dbc0d-a670-4e6d-a2b6-24a9a70c023a\" xlink:type=\"simple\"><rect fill=\"#FFFFFF\" height=\"45.9375\" id=\"E8\" rx=\"10\" ry=\"10\" style=\"stroke: #383838; stroke-width: 1.5;\" width=\"150\" x=\"463\" y=\"495\"/><text fill=\"#000000\" font-family=\"sans-serif\" font-size=\"12\" font-style=\"italic\" lengthAdjust=\"spacingAndGlyphs\" textLength=\"148\" x=\"464\" y=\"511.1387\">«snapshot occurrence»</text><text fill=\"#000000\" font-family=\"sans-serif\" font-size=\"12\" lengthAdjust=\"spacingAndGlyphs\" textLength=\"15\" x=\"528.5\" y=\"525.1074\">s2</text><line style=\"stroke: #383838; stroke-width: 1.5;\" x1=\"464\" x2=\"612\" y1=\"532.9375\" y2=\"532.9375\"/></a><!--MD5=[fd4143e9d270a159db93a4ea2a975926]\n",
       "class E9--><a href=\"psysml:ae0fd4ea-8dc7-4cb0-a32c-5615a8f756eb\" target=\"_top\" title=\"psysml:ae0fd4ea-8dc7-4cb0-a32c-5615a8f756eb\" xlink:actuate=\"onRequest\" xlink:href=\"psysml:ae0fd4ea-8dc7-4cb0-a32c-5615a8f756eb\" xlink:show=\"new\" xlink:title=\"psysml:ae0fd4ea-8dc7-4cb0-a32c-5615a8f756eb\" xlink:type=\"simple\"><rect fill=\"#FFFFFF\" height=\"45.9375\" id=\"E9\" rx=\"10\" ry=\"10\" style=\"stroke: #383838; stroke-width: 1.5;\" width=\"146\" x=\"648\" y=\"495\"/><text fill=\"#000000\" font-family=\"sans-serif\" font-size=\"12\" font-style=\"italic\" lengthAdjust=\"spacingAndGlyphs\" textLength=\"144\" x=\"649\" y=\"511.1387\">«timeslice occurrence»</text><text fill=\"#000000\" font-family=\"sans-serif\" font-size=\"12\" lengthAdjust=\"spacingAndGlyphs\" textLength=\"13\" x=\"712.5\" y=\"525.1074\">t2</text><line style=\"stroke: #383838; stroke-width: 1.5;\" x1=\"649\" x2=\"793\" y1=\"532.9375\" y2=\"532.9375\"/></a><!--MD5=[96f4274e9e20536e775497830990834d]\n",
       "class E10--><a href=\"psysml:90168d9a-6358-4939-88d7-8ec9974b52c6\" target=\"_top\" title=\"psysml:90168d9a-6358-4939-88d7-8ec9974b52c6\" xlink:actuate=\"onRequest\" xlink:href=\"psysml:90168d9a-6358-4939-88d7-8ec9974b52c6\" xlink:show=\"new\" xlink:title=\"psysml:90168d9a-6358-4939-88d7-8ec9974b52c6\" xlink:type=\"simple\"><rect fill=\"#FFFFFF\" height=\"45.9375\" id=\"E10\" rx=\"10\" ry=\"10\" style=\"stroke: #383838; stroke-width: 1.5;\" width=\"149\" x=\"505.5\" y=\"41\"/><text fill=\"#000000\" font-family=\"sans-serif\" font-size=\"12\" font-style=\"italic\" lengthAdjust=\"spacingAndGlyphs\" textLength=\"147\" x=\"506.5\" y=\"57.1387\">«individual occurrence»</text><text fill=\"#000000\" font-family=\"sans-serif\" font-size=\"12\" lengthAdjust=\"spacingAndGlyphs\" textLength=\"77\" x=\"539.5\" y=\"71.1074\">ind: Ind, Occ</text><line style=\"stroke: #383838; stroke-width: 1.5;\" x1=\"506.5\" x2=\"653.5\" y1=\"78.9375\" y2=\"78.9375\"/></a><!--MD5=[1dd1bfd58a279cf63c5f349dbc8fc6a1]\n",
       "class E11--><a href=\"psysml:d0eba55f-a402-4b22-88ba-9857d6bd50ac\" target=\"_top\" title=\"psysml:d0eba55f-a402-4b22-88ba-9857d6bd50ac\" xlink:actuate=\"onRequest\" xlink:href=\"psysml:d0eba55f-a402-4b22-88ba-9857d6bd50ac\" xlink:show=\"new\" xlink:title=\"psysml:d0eba55f-a402-4b22-88ba-9857d6bd50ac\" xlink:type=\"simple\"><rect fill=\"#FFFFFF\" height=\"45.9375\" id=\"E11\" rx=\"10\" ry=\"10\" style=\"stroke: #383838; stroke-width: 1.5;\" width=\"150\" x=\"561\" y=\"162\"/><text fill=\"#000000\" font-family=\"sans-serif\" font-size=\"12\" font-style=\"italic\" lengthAdjust=\"spacingAndGlyphs\" textLength=\"148\" x=\"562\" y=\"178.1387\">«snapshot occurrence»</text><text fill=\"#000000\" font-family=\"sans-serif\" font-size=\"12\" lengthAdjust=\"spacingAndGlyphs\" textLength=\"15\" x=\"626.5\" y=\"192.1074\">s3</text><line style=\"stroke: #383838; stroke-width: 1.5;\" x1=\"562\" x2=\"710\" y1=\"199.9375\" y2=\"199.9375\"/></a><!--MD5=[49a0ec8f00dab7302a31f22d0f0fe584]\n",
       "class E12--><a href=\"psysml:0232df4f-93e4-4add-8902-f942e03a0634\" target=\"_top\" title=\"psysml:0232df4f-93e4-4add-8902-f942e03a0634\" xlink:actuate=\"onRequest\" xlink:href=\"psysml:0232df4f-93e4-4add-8902-f942e03a0634\" xlink:show=\"new\" xlink:title=\"psysml:0232df4f-93e4-4add-8902-f942e03a0634\" xlink:type=\"simple\"><rect fill=\"#FFFFFF\" height=\"45.9375\" id=\"E12\" rx=\"10\" ry=\"10\" style=\"stroke: #383838; stroke-width: 1.5;\" width=\"208\" x=\"746\" y=\"162\"/><text fill=\"#000000\" font-family=\"sans-serif\" font-size=\"12\" font-style=\"italic\" lengthAdjust=\"spacingAndGlyphs\" textLength=\"206\" x=\"747\" y=\"178.1387\">«individual timeslice occurrence»</text><text fill=\"#000000\" font-family=\"sans-serif\" font-size=\"12\" lengthAdjust=\"spacingAndGlyphs\" textLength=\"13\" x=\"841.5\" y=\"192.1074\">t3</text><line style=\"stroke: #383838; stroke-width: 1.5;\" x1=\"747\" x2=\"953\" y1=\"199.9375\" y2=\"199.9375\"/></a><!--MD5=[ee3c913d1a06f366521f9ef512b67efe]\n",
       "class E13--><a href=\"psysml:5cbde71f-e2d0-40cd-91ed-92f5bc776eb7\" target=\"_top\" title=\"psysml:5cbde71f-e2d0-40cd-91ed-92f5bc776eb7\" xlink:actuate=\"onRequest\" xlink:href=\"psysml:5cbde71f-e2d0-40cd-91ed-92f5bc776eb7\" xlink:show=\"new\" xlink:title=\"psysml:5cbde71f-e2d0-40cd-91ed-92f5bc776eb7\" xlink:type=\"simple\"><rect fill=\"#FFFFFF\" height=\"45.9375\" id=\"E13\" rx=\"10\" ry=\"10\" style=\"stroke: #383838; stroke-width: 1.5;\" width=\"212\" x=\"32\" y=\"283\"/><text fill=\"#000000\" font-family=\"sans-serif\" font-size=\"12\" font-style=\"italic\" lengthAdjust=\"spacingAndGlyphs\" textLength=\"210\" x=\"33\" y=\"299.1387\">«individual snapshot occurrence»</text><text fill=\"#000000\" font-family=\"sans-serif\" font-size=\"12\" lengthAdjust=\"spacingAndGlyphs\" textLength=\"42\" x=\"115\" y=\"313.1074\">s4: Ind</text><line style=\"stroke: #383838; stroke-width: 1.5;\" x1=\"33\" x2=\"243\" y1=\"320.9375\" y2=\"320.9375\"/></a><!--MD5=[209b3feb70ccb6233bfe1053d122c12c]\n",
       "reverse link E2 to E3--><a href=\"psysml:111e77a4-44f2-45ac-862d-a1e02a1cad26\" target=\"_top\" title=\"psysml:111e77a4-44f2-45ac-862d-a1e02a1cad26\" xlink:actuate=\"onRequest\" xlink:href=\"psysml:111e77a4-44f2-45ac-862d-a1e02a1cad26\" xlink:show=\"new\" xlink:title=\"psysml:111e77a4-44f2-45ac-862d-a1e02a1cad26\" xlink:type=\"simple\"><path d=\"M376.37,232.45 C359.85,249.83 343.43,268.76 332.86,282.93 \" fill=\"none\" id=\"E2&lt;-E3\" style=\"stroke: #383838; stroke-width: 1.0;\"/><polygon fill=\"#FFFFFF\" points=\"385.52,223,378.4729,224.5294,377.1743,231.6226,384.2213,230.0932,385.52,223\" style=\"stroke: #383838; stroke-width: 1.0;\"/></a><!--MD5=[05d275557350bfb9b23a4ef7222b4c39]\n",
       "link E3 to E2--><a href=\"psysml:0f45e557-8f0e-4df9-b1d8-28bd2526f5a3\" target=\"_top\" title=\"psysml:0f45e557-8f0e-4df9-b1d8-28bd2526f5a3\" xlink:actuate=\"onRequest\" xlink:href=\"psysml:0f45e557-8f0e-4df9-b1d8-28bd2526f5a3\" xlink:show=\"new\" xlink:title=\"psysml:0f45e557-8f0e-4df9-b1d8-28bd2526f5a3\" xlink:type=\"simple\"><path d=\"M353.8,282.93 C367.38,270.34 383.11,253.98 396.95,238.29 \" fill=\"none\" id=\"E3-&gt;E2\" style=\"stroke: #383838; stroke-width: 1.0;\"/><polygon fill=\"#FFFFFF\" points=\"410.02,223,403.0007,241.9929,392.3563,232.8991,410.02,223\" style=\"stroke: #383838; stroke-width: 1.0;\"/><ellipse cx=\"397.7776\" cy=\"245.0276\" fill=\"#383838\" rx=\"2\" ry=\"2\" style=\"stroke: #383838; stroke-width: 1.0;\"/><ellipse cx=\"390.1744\" cy=\"238.532\" fill=\"#383838\" rx=\"2\" ry=\"2\" style=\"stroke: #383838; stroke-width: 1.0;\"/></a><!--MD5=[9618e71518536f8baf3342ff6fdab317]\n",
       "reverse link E2 to E4--><a href=\"psysml:7f5381ff-79d6-4175-8599-1b084d5a38fb\" target=\"_top\" title=\"psysml:7f5381ff-79d6-4175-8599-1b084d5a38fb\" xlink:actuate=\"onRequest\" xlink:href=\"psysml:7f5381ff-79d6-4175-8599-1b084d5a38fb\" xlink:show=\"new\" xlink:title=\"psysml:7f5381ff-79d6-4175-8599-1b084d5a38fb\" xlink:type=\"simple\"><path d=\"M424.31,236.34 C425.74,252.61 428.58,269.81 432.23,282.93 \" fill=\"none\" id=\"E2&lt;-E4\" style=\"stroke: #383838; stroke-width: 1.0;\"/><polygon fill=\"#383838\" points=\"423.45,223,419.8475,229.2467,424.2281,234.9747,427.8306,228.728,423.45,223\" style=\"stroke: #383838; stroke-width: 1.0;\"/></a><!--MD5=[185131fc0dcab0a4505a2ebe144e961b]\n",
       "link E4 to E2--><a href=\"psysml:9af83ecd-fc65-4272-8374-c2ac75a0337a\" target=\"_top\" title=\"psysml:9af83ecd-fc65-4272-8374-c2ac75a0337a\" xlink:actuate=\"onRequest\" xlink:href=\"psysml:9af83ecd-fc65-4272-8374-c2ac75a0337a\" xlink:show=\"new\" xlink:title=\"psysml:9af83ecd-fc65-4272-8374-c2ac75a0337a\" xlink:type=\"simple\"><path d=\"M453.17,282.93 C453.77,271.65 452.99,257.34 451.22,243.21 \" fill=\"none\" id=\"E4-&gt;E2\" style=\"stroke: #383838; stroke-width: 1.0;\"/><polygon fill=\"#FFFFFF\" points=\"447.96,223,457.8973,240.6423,444.0761,242.8725,447.96,223\" style=\"stroke: #383838; stroke-width: 1.0;\"/><ellipse cx=\"456.8309\" cy=\"246.5881\" fill=\"#383838\" rx=\"2\" ry=\"2\" style=\"stroke: #383838; stroke-width: 1.0;\"/><ellipse cx=\"446.9586\" cy=\"248.1811\" fill=\"#383838\" rx=\"2\" ry=\"2\" style=\"stroke: #383838; stroke-width: 1.0;\"/></a><!--MD5=[4e1a83fab71cdb913c109063314ae896]\n",
       "reverse link E2 to E5--><a href=\"psysml:648e9e41-ac7c-450e-af70-439d81f3f540\" target=\"_top\" title=\"psysml:648e9e41-ac7c-450e-af70-439d81f3f540\" xlink:actuate=\"onRequest\" xlink:href=\"psysml:648e9e41-ac7c-450e-af70-439d81f3f540\" xlink:show=\"new\" xlink:title=\"psysml:648e9e41-ac7c-450e-af70-439d81f3f540\" xlink:type=\"simple\"><path d=\"M499.85,227.17 C531.12,245.87 566.86,267.24 592.97,282.85 \" fill=\"none\" id=\"E2&lt;-E5\" style=\"stroke: #383838; stroke-width: 1.0;\"/><polygon fill=\"#383838\" points=\"488.56,220.42,491.6568,226.9323,498.8592,226.5784,495.7624,220.0661,488.56,220.42\" style=\"stroke: #383838; stroke-width: 1.0;\"/></a><!--MD5=[ce036f65110ae2351ccce5a81dc2e928]\n",
       "reverse link E2 to E6--><a href=\"psysml:00b8b9a4-593e-406d-b505-212ff2a7c9c1\" target=\"_top\" title=\"psysml:00b8b9a4-593e-406d-b505-212ff2a7c9c1\" xlink:actuate=\"onRequest\" xlink:href=\"psysml:00b8b9a4-593e-406d-b505-212ff2a7c9c1\" xlink:show=\"new\" xlink:title=\"psysml:00b8b9a4-593e-406d-b505-212ff2a7c9c1\" xlink:type=\"simple\"><path d=\"M501.02,217.55 C506.06,219.49 511.08,221.33 516,223 C528.19,227.15 677.82,264.14 770.71,287 \" fill=\"none\" id=\"E2&lt;-E6\" style=\"stroke: #383838; stroke-width: 1.0;\"/><polygon fill=\"#383838\" points=\"488.57,212.58,492.6577,218.5206,499.7135,217.0321,495.6258,211.0916,488.57,212.58\" style=\"stroke: #383838; stroke-width: 1.0;\"/></a><!--MD5=[3a9b96bfbf6b6ad89c494e81751bda47]\n",
       "link E5 to E7--><a href=\"psysml:088b8ee7-f1bc-4574-b816-43bcf4f14b77\" target=\"_top\" title=\"psysml:088b8ee7-f1bc-4574-b816-43bcf4f14b77\" xlink:actuate=\"onRequest\" xlink:href=\"psysml:088b8ee7-f1bc-4574-b816-43bcf4f14b77\" xlink:show=\"new\" xlink:title=\"psysml:088b8ee7-f1bc-4574-b816-43bcf4f14b77\" xlink:type=\"simple\"><path d=\"M630,329.06 C630,340.64 630,355.23 630,368.87 \" fill=\"none\" id=\"E5-&gt;E7\" style=\"stroke: #383838; stroke-width: 1.0;\"/><polygon fill=\"#FFFFFF\" points=\"630,388.98,623,369.98,637,369.98,630,388.98\" style=\"stroke: #383838; stroke-width: 1.0;\"/><ellipse cx=\"625\" cy=\"364.28\" fill=\"#383838\" rx=\"2\" ry=\"2\" style=\"stroke: #383838; stroke-width: 1.0;\"/><ellipse cx=\"635\" cy=\"364.28\" fill=\"#383838\" rx=\"2\" ry=\"2\" style=\"stroke: #383838; stroke-width: 1.0;\"/></a><!--MD5=[dc164f5e8a733ab456ef1add180e9e34]\n",
       "reverse link E7 to E8--><a href=\"psysml:c8813ef9-ffa9-4c9d-80a4-dd20f6c80ea5\" target=\"_top\" title=\"psysml:c8813ef9-ffa9-4c9d-80a4-dd20f6c80ea5\" xlink:actuate=\"onRequest\" xlink:href=\"psysml:c8813ef9-ffa9-4c9d-80a4-dd20f6c80ea5\" xlink:show=\"new\" xlink:title=\"psysml:c8813ef9-ffa9-4c9d-80a4-dd20f6c80ea5\" xlink:type=\"simple\"><path d=\"M601.55,445.16 C587.25,461.33 570.28,480.51 557.48,494.98 \" fill=\"none\" id=\"E7&lt;-E8\" style=\"stroke: #383838; stroke-width: 1.0;\"/><polygon fill=\"#383838\" points=\"610.49,435.06,603.5177,436.9004,602.5348,444.0442,609.5071,442.2038,610.49,435.06\" style=\"stroke: #383838; stroke-width: 1.0;\"/></a><!--MD5=[e4a10ef82d0e328e31cac39a31e58dda]\n",
       "reverse link E7 to E9--><a href=\"psysml:cdca8d7c-6aa5-4fff-9e0e-900e3ba85343\" target=\"_top\" title=\"psysml:cdca8d7c-6aa5-4fff-9e0e-900e3ba85343\" xlink:actuate=\"onRequest\" xlink:href=\"psysml:cdca8d7c-6aa5-4fff-9e0e-900e3ba85343\" xlink:show=\"new\" xlink:title=\"psysml:cdca8d7c-6aa5-4fff-9e0e-900e3ba85343\" xlink:type=\"simple\"><path d=\"M658.14,445.16 C672.29,461.33 689.07,480.51 701.73,494.98 \" fill=\"none\" id=\"E7&lt;-E9\" style=\"stroke: #383838; stroke-width: 1.0;\"/><polygon fill=\"#383838\" points=\"649.3,435.06,650.2496,442.2083,657.2133,444.0811,656.2637,436.9328,649.3,435.06\" style=\"stroke: #383838; stroke-width: 1.0;\"/></a><!--MD5=[a919e0967d6f3de553dc51b9865a1d6d]\n",
       "link E10 to E7--><a href=\"psysml:43f26010-ca40-42d6-8df0-e4847d82fc63\" target=\"_top\" title=\"psysml:43f26010-ca40-42d6-8df0-e4847d82fc63\" xlink:actuate=\"onRequest\" xlink:href=\"psysml:43f26010-ca40-42d6-8df0-e4847d82fc63\" xlink:show=\"new\" xlink:title=\"psysml:43f26010-ca40-42d6-8df0-e4847d82fc63\" xlink:type=\"simple\"><path d=\"M564.36,87.23 C542.92,120.68 510.65,184.15 544,223 C658.5,356.41 820.5,149.59 935,283 C997.3,355.58 849.41,387.9 738.47,401.63 \" fill=\"none\" id=\"E10-&gt;E7\" style=\"stroke: #383838; stroke-width: 1.0;\"/><polygon fill=\"#FFFFFF\" points=\"718.6,403.94,736.6627,394.7891,738.2822,408.6951,718.6,403.94\" style=\"stroke: #383838; stroke-width: 1.0;\"/><ellipse cx=\"742.5558\" cy=\"396.1162\" fill=\"#383838\" rx=\"2\" ry=\"2\" style=\"stroke: #383838; stroke-width: 1.0;\"/><ellipse cx=\"743.7126\" cy=\"406.0491\" fill=\"#383838\" rx=\"2\" ry=\"2\" style=\"stroke: #383838; stroke-width: 1.0;\"/></a><!--MD5=[0f36bececdf0dff6e600d6f64214b0f1]\n",
       "link E10 to E2--><a href=\"psysml:ac89f7fb-b091-4bc7-aaea-6377fc157ffe\" target=\"_top\" title=\"psysml:ac89f7fb-b091-4bc7-aaea-6377fc157ffe\" xlink:actuate=\"onRequest\" xlink:href=\"psysml:ac89f7fb-b091-4bc7-aaea-6377fc157ffe\" xlink:show=\"new\" xlink:title=\"psysml:ac89f7fb-b091-4bc7-aaea-6377fc157ffe\" xlink:type=\"simple\"><path d=\"M552.32,87.1 C535.71,100.38 513.86,117.82 493.29,134.25 \" fill=\"none\" id=\"E10-&gt;E2\" style=\"stroke: #383838; stroke-width: 1.0;\"/><polygon fill=\"#FFFFFF\" points=\"477.56,146.81,488.0352,129.4817,496.7737,140.4197,477.56,146.81\" style=\"stroke: #383838; stroke-width: 1.0;\"/><ellipse cx=\"493.7369\" cy=\"127.4865\" fill=\"#383838\" rx=\"2\" ry=\"2\" style=\"stroke: #383838; stroke-width: 1.0;\"/><ellipse cx=\"499.9786\" cy=\"135.2994\" fill=\"#383838\" rx=\"2\" ry=\"2\" style=\"stroke: #383838; stroke-width: 1.0;\"/></a><!--MD5=[de308be4a2431766a05a907a031c07fc]\n",
       "reverse link E10 to E11--><a href=\"psysml:75c081c5-05e2-401c-b103-d900689a3a49\" target=\"_top\" title=\"psysml:75c081c5-05e2-401c-b103-d900689a3a49\" xlink:actuate=\"onRequest\" xlink:href=\"psysml:75c081c5-05e2-401c-b103-d900689a3a49\" xlink:show=\"new\" xlink:title=\"psysml:75c081c5-05e2-401c-b103-d900689a3a49\" xlink:type=\"simple\"><path d=\"M595.95,98.9 C605.42,119.01 617.15,143.94 625.46,161.61 \" fill=\"none\" id=\"E10&lt;-E11\" style=\"stroke: #383838; stroke-width: 1.0;\"/><polygon fill=\"#383838\" points=\"590.4,87.1,589.3334,94.2318,595.5064,97.9593,596.573,90.8275,590.4,87.1\" style=\"stroke: #383838; stroke-width: 1.0;\"/></a><!--MD5=[1d54f998c6d5961a1a9184be73a7eb6c]\n",
       "reverse link E10 to E12--><a href=\"psysml:54130436-8b1f-4706-a610-d99b2d4cb5d4\" target=\"_top\" title=\"psysml:54130436-8b1f-4706-a610-d99b2d4cb5d4\" xlink:actuate=\"onRequest\" xlink:href=\"psysml:54130436-8b1f-4706-a610-d99b2d4cb5d4\" xlink:show=\"new\" xlink:title=\"psysml:54130436-8b1f-4706-a610-d99b2d4cb5d4\" xlink:type=\"simple\"><path d=\"M642.21,92.42 C689.99,113.48 755.13,142.19 799.66,161.81 \" fill=\"none\" id=\"E10&lt;-E12\" style=\"stroke: #383838; stroke-width: 1.0;\"/><polygon fill=\"#383838\" points=\"630.15,87.1,634.028,93.1796,641.1314,91.9382,637.2534,85.8586,630.15,87.1\" style=\"stroke: #383838; stroke-width: 1.0;\"/></a><!--MD5=[4a48077df6499cfcd20b62e8f5f37904]\n",
       "link E13 to E7--><a href=\"psysml:85f16706-e1b7-404d-9ee5-57d420bfb7f2\" target=\"_top\" title=\"psysml:85f16706-e1b7-404d-9ee5-57d420bfb7f2\" xlink:actuate=\"onRequest\" xlink:href=\"psysml:85f16706-e1b7-404d-9ee5-57d420bfb7f2\" xlink:show=\"new\" xlink:title=\"psysml:85f16706-e1b7-404d-9ee5-57d420bfb7f2\" xlink:type=\"simple\"><path d=\"M242.34,329.06 C324.51,346.43 438.67,370.56 521.82,388.13 \" fill=\"none\" id=\"E13-&gt;E7\" style=\"stroke: #383838; stroke-width: 1.0;\"/><polygon fill=\"#FFFFFF\" points=\"541.45,392.28,521.4143,395.2075,524.304,381.509,541.45,392.28\" style=\"stroke: #383838; stroke-width: 1.0;\"/><ellipse cx=\"516.2498\" cy=\"392.0741\" fill=\"#383838\" rx=\"2\" ry=\"2\" style=\"stroke: #383838; stroke-width: 1.0;\"/><ellipse cx=\"518.3139\" cy=\"382.2894\" fill=\"#383838\" rx=\"2\" ry=\"2\" style=\"stroke: #383838; stroke-width: 1.0;\"/></a><!--MD5=[2150f3eba2cbc8fae3f228821dec8220]\n",
       "@startuml\r\n",
       "top to bottom direction\r\n",
       "skinparam monochrome true\r\n",
       "skinparam classbackgroundcolor white\r\n",
       "skinparam shadowing false\r\n",
       "skinparam wrapWidth 300\r\n",
       "hide circle\r\n",
       "\r\n",
       "package \"OccurrenceTest\" as E1  [[psysml:53f1d42d-2686-4f4b-950f-b84b40bc19b2 ]]  {\r\n",
       "comp def \"Occ\" as E2  <<(T,blue) occurrence  def>> [[psysml:77ba500d-77fd-484e-b411-8833010da35e ]] {\r\n",
       "- - attributes - -\r\n",
       "a\r\n",
       "}\r\n",
       "comp usage \"occ1: Occ \" as E3  <<(T,blue) occurrence>> [[psysml:37011562-c12e-4ce2-bbf9-af5619a300f0 ]] {\r\n",
       "}\r\n",
       "comp usage \"occ2: Occ \" as E4  <<(T,blue) occurrence>> [[psysml:3522e0a2-d0dd-4c95-916a-e9f89fbadd86 ]] {\r\n",
       "}\r\n",
       "comp usage \"s: Ind \" as E5  <<(T,blue) individual snapshot occurrence>> [[psysml:2ba1b44f-ac88-49ba-a1da-8edc5df2da3a ]] {\r\n",
       "}\r\n",
       "comp usage \"t \" as E6  <<(T,blue) timeslice occurrence>> [[psysml:aefaf76d-f241-48e8-80ea-b99598299972 ]] {\r\n",
       "}\r\n",
       "comp def \"Ind\" as E7  <<(T,blue) individual occurrence  def>> [[psysml:991e81ed-291b-4563-955c-44288cc9fc81 ]] {\r\n",
       "}\r\n",
       "comp usage \"s2 \" as E8  <<(T,blue) snapshot occurrence>> [[psysml:fb7dbc0d-a670-4e6d-a2b6-24a9a70c023a ]] {\r\n",
       "}\r\n",
       "comp usage \"t2 \" as E9  <<(T,blue) timeslice occurrence>> [[psysml:ae0fd4ea-8dc7-4cb0-a32c-5615a8f756eb ]] {\r\n",
       "}\r\n",
       "comp usage \"ind: Ind, Occ \" as E10  <<(T,blue) individual occurrence>> [[psysml:90168d9a-6358-4939-88d7-8ec9974b52c6 ]] {\r\n",
       "}\r\n",
       "comp usage \"s3 \" as E11  <<(T,blue) snapshot occurrence>> [[psysml:d0eba55f-a402-4b22-88ba-9857d6bd50ac ]] {\r\n",
       "}\r\n",
       "comp usage \"t3 \" as E12  <<(T,blue) individual timeslice occurrence>> [[psysml:0232df4f-93e4-4add-8902-f942e03a0634 ]] {\r\n",
       "}\r\n",
       "comp usage \"s4: Ind \" as E13  <<(T,blue) individual snapshot occurrence>> [[psysml:5cbde71f-e2d0-40cd-91ed-92f5bc776eb7 ]] {\r\n",
       "}\r\n",
       "}\r\n",
       "E2 o- - E3 [[psysml:111e77a4-44f2-45ac-862d-a1e02a1cad26 ]] \r\n",
       "E3 - -:|> E2 [[psysml:0f45e557-8f0e-4df9-b1d8-28bd2526f5a3 ]] \r\n",
       "E2 *- - E4 [[psysml:7f5381ff-79d6-4175-8599-1b084d5a38fb ]] \r\n",
       "E4 - -:|> E2 [[psysml:9af83ecd-fc65-4272-8374-c2ac75a0337a ]] \r\n",
       "E2 *- - E5 [[psysml:648e9e41-ac7c-450e-af70-439d81f3f540 ]] \r\n",
       "E2 *- - E6 [[psysml:00b8b9a4-593e-406d-b505-212ff2a7c9c1 ]] \r\n",
       "E5 - -:|> E7 [[psysml:088b8ee7-f1bc-4574-b816-43bcf4f14b77 ]] \r\n",
       "E7 *- - E8 [[psysml:c8813ef9-ffa9-4c9d-80a4-dd20f6c80ea5 ]] \r\n",
       "E7 *- - E9 [[psysml:cdca8d7c-6aa5-4fff-9e0e-900e3ba85343 ]] \r\n",
       "E10 - -:|> E7 [[psysml:43f26010-ca40-42d6-8df0-e4847d82fc63 ]] \r\n",
       "E10 - -:|> E2 [[psysml:ac89f7fb-b091-4bc7-aaea-6377fc157ffe ]] \r\n",
       "E10 *- - E11 [[psysml:75c081c5-05e2-401c-b103-d900689a3a49 ]] \r\n",
       "E10 *- - E12 [[psysml:54130436-8b1f-4706-a610-d99b2d4cb5d4 ]] \r\n",
       "E13 - -:|> E7 [[psysml:85f16706-e1b7-404d-9ee5-57d420bfb7f2 ]] \r\n",
       "@enduml\r\n",
       "\n",
       "PlantUML version 1.2020.13(Sat Jun 13 12:26:38 UTC 2020)\n",
       "(EPL source distribution)\n",
       "Java Runtime: OpenJDK Runtime Environment\n",
       "JVM: OpenJDK 64-Bit Server VM\n",
       "Default Encoding: UTF-8\n",
       "Language: en\n",
       "Country: null\n",
       "--></g></svg>"
      ]
     },
     "execution_count": 45,
     "metadata": {},
     "output_type": "execute_result"
    }
   ],
   "source": [
    "%viz --style=\"TB\" --view=\"Tree\" \"OccurrenceTest\""
   ]
  },
  {
   "cell_type": "code",
   "execution_count": 46,
   "id": "479c9bcd",
   "metadata": {
    "execution": {
     "iopub.execute_input": "2022-07-23T10:52:34.123589Z",
     "iopub.status.busy": "2022-07-23T10:52:34.123063Z",
     "iopub.status.idle": "2022-07-23T10:52:34.129327Z",
     "shell.execute_reply": "2022-07-23T10:52:34.128917Z"
    }
   },
   "outputs": [
    {
     "data": {
      "image/svg+xml": [
       "<?xml version=\"1.0\" encoding=\"UTF-8\" standalone=\"no\"?><svg xmlns=\"http://www.w3.org/2000/svg\" xmlns:xlink=\"http://www.w3.org/1999/xlink\" contentScriptType=\"application/ecmascript\" contentStyleType=\"text/css\" height=\"12px\" preserveAspectRatio=\"none\" style=\"width:12px;height:12px;\" version=\"1.1\" viewBox=\"0 0 12 12\" width=\"12px\" zoomAndPan=\"magnify\"><defs/><g><!--MD5=[f4ee21bc66e489b5061b7c3e9601fdef]\n",
       "@startuml\r\n",
       "top to bottom direction\r\n",
       "skinparam monochrome true\r\n",
       "skinparam classbackgroundcolor white\r\n",
       "skinparam shadowing false\r\n",
       "skinparam wrapWidth 300\r\n",
       "hide circle\r\n",
       "\r\n",
       "@enduml\r\n",
       "\n",
       "PlantUML version 1.2020.13(Sat Jun 13 12:26:38 UTC 2020)\n",
       "(EPL source distribution)\n",
       "Java Runtime: OpenJDK Runtime Environment\n",
       "JVM: OpenJDK 64-Bit Server VM\n",
       "Default Encoding: UTF-8\n",
       "Language: en\n",
       "Country: null\n",
       "--></g></svg>"
      ]
     },
     "execution_count": 46,
     "metadata": {},
     "output_type": "execute_result"
    }
   ],
   "source": [
    "%viz --style=\"TB\" --view=\"State\" \"OccurrenceTest\""
   ]
  },
  {
   "cell_type": "code",
   "execution_count": 47,
   "id": "cbd82d59",
   "metadata": {
    "execution": {
     "iopub.execute_input": "2022-07-23T10:52:34.179352Z",
     "iopub.status.busy": "2022-07-23T10:52:34.178872Z",
     "iopub.status.idle": "2022-07-23T10:52:34.215030Z",
     "shell.execute_reply": "2022-07-23T10:52:34.214610Z"
    }
   },
   "outputs": [
    {
     "data": {
      "image/svg+xml": [
       "<?xml version=\"1.0\" encoding=\"UTF-8\" standalone=\"no\"?><svg xmlns=\"http://www.w3.org/2000/svg\" xmlns:xlink=\"http://www.w3.org/1999/xlink\" contentScriptType=\"application/ecmascript\" contentStyleType=\"text/css\" height=\"278px\" preserveAspectRatio=\"none\" style=\"width:802px;height:278px;\" version=\"1.1\" viewBox=\"0 0 802 278\" width=\"802px\" zoomAndPan=\"magnify\"><defs/><g><!--MD5=[fbc87193dbaf4d95561dea2c320d4a47]\n",
       "cluster E1--><a href=\"psysml:53f1d42d-2686-4f4b-950f-b84b40bc19b2\" target=\"_top\" title=\"psysml:53f1d42d-2686-4f4b-950f-b84b40bc19b2\" xlink:actuate=\"onRequest\" xlink:href=\"psysml:53f1d42d-2686-4f4b-950f-b84b40bc19b2\" xlink:show=\"new\" xlink:title=\"psysml:53f1d42d-2686-4f4b-950f-b84b40bc19b2\" xlink:type=\"simple\"><polygon fill=\"#FFFFFF\" points=\"16,6,134,6,141,28.2969,780,28.2969,780,266,16,266,16,6\" style=\"stroke: #000000; stroke-width: 1.5;\"/><line style=\"stroke: #000000; stroke-width: 1.5;\" x1=\"16\" x2=\"141\" y1=\"28.2969\" y2=\"28.2969\"/><text fill=\"#000000\" font-family=\"sans-serif\" font-size=\"14\" font-weight=\"bold\" lengthAdjust=\"spacingAndGlyphs\" textLength=\"112\" x=\"20\" y=\"20.9951\">OccurrenceTest</text></a><!--MD5=[f6df4d0ebaf0b5dfb2ced0ae5af7c670]\n",
       "cluster E4--><a href=\"psysml:90168d9a-6358-4939-88d7-8ec9974b52c6\" target=\"_top\" title=\"psysml:90168d9a-6358-4939-88d7-8ec9974b52c6\" xlink:actuate=\"onRequest\" xlink:href=\"psysml:90168d9a-6358-4939-88d7-8ec9974b52c6\" xlink:show=\"new\" xlink:title=\"psysml:90168d9a-6358-4939-88d7-8ec9974b52c6\" xlink:type=\"simple\"><rect fill=\"#FFFFFF\" height=\"126\" id=\"E4\" rx=\"10\" ry=\"10\" style=\"stroke: #383838; stroke-width: 1.5;\" width=\"471\" x=\"277\" y=\"57\"/><rect fill=\"#F8F8F8\" height=\"37.9375\" rx=\"10\" ry=\"10\" style=\"stroke: #F8F8F8; stroke-width: 1.5;\" width=\"471\" x=\"277\" y=\"57\"/><rect fill=\"#F8F8F8\" height=\"10\" style=\"stroke: #F8F8F8; stroke-width: 1.5;\" width=\"471\" x=\"277\" y=\"84.9375\"/><rect fill=\"none\" height=\"126\" id=\"E4\" rx=\"10\" ry=\"10\" style=\"stroke: #383838; stroke-width: 1.5;\" width=\"471\" x=\"277\" y=\"57\"/><text fill=\"#000000\" font-family=\"sans-serif\" font-size=\"12\" font-style=\"italic\" lengthAdjust=\"spacingAndGlyphs\" textLength=\"147\" x=\"439\" y=\"73.1387\">«individual occurrence»</text><text fill=\"#000000\" font-family=\"sans-serif\" font-size=\"12\" lengthAdjust=\"spacingAndGlyphs\" textLength=\"77\" x=\"474\" y=\"87.1074\">ind: Ind, Occ</text><line style=\"stroke: #383838; stroke-width: 1.0;\" x1=\"277\" x2=\"748\" y1=\"94.9375\" y2=\"94.9375\"/></a><g id=\"E1.E2\"><a href=\"psysml:77ba500d-77fd-484e-b411-8833010da35e\" target=\"_top\" title=\"psysml:77ba500d-77fd-484e-b411-8833010da35e\" xlink:actuate=\"onRequest\" xlink:href=\"psysml:77ba500d-77fd-484e-b411-8833010da35e\" xlink:show=\"new\" xlink:title=\"psysml:77ba500d-77fd-484e-b411-8833010da35e\" xlink:type=\"simple\"><rect fill=\"#FFFFFF\" height=\"42.9375\" id=\"E2\" style=\"stroke: #383838; stroke-width: 1.5;\" width=\"120\" x=\"267\" y=\"207\"/><rect fill=\"#F8F8F8\" height=\"37.9375\" style=\"stroke: #383838; stroke-width: 1.5;\" width=\"120\" x=\"267\" y=\"207\"/><text fill=\"#000000\" font-family=\"sans-serif\" font-size=\"12\" font-style=\"italic\" lengthAdjust=\"spacingAndGlyphs\" textLength=\"113\" x=\"270.5\" y=\"223.1387\">«occurrence  def»</text><text fill=\"#000000\" font-family=\"sans-serif\" font-size=\"12\" lengthAdjust=\"spacingAndGlyphs\" textLength=\"23\" x=\"315.5\" y=\"237.1074\">Occ</text></a></g><g id=\"E1.E3\"><a href=\"psysml:991e81ed-291b-4563-955c-44288cc9fc81\" target=\"_top\" title=\"psysml:991e81ed-291b-4563-955c-44288cc9fc81\" xlink:actuate=\"onRequest\" xlink:href=\"psysml:991e81ed-291b-4563-955c-44288cc9fc81\" xlink:show=\"new\" xlink:title=\"psysml:991e81ed-291b-4563-955c-44288cc9fc81\" xlink:type=\"simple\"><rect fill=\"#FFFFFF\" height=\"42.9375\" id=\"E3\" style=\"stroke: #383838; stroke-width: 1.5;\" width=\"182\" x=\"50\" y=\"207\"/><rect fill=\"#F8F8F8\" height=\"37.9375\" style=\"stroke: #383838; stroke-width: 1.5;\" width=\"182\" x=\"50\" y=\"207\"/><text fill=\"#000000\" font-family=\"sans-serif\" font-size=\"12\" font-style=\"italic\" lengthAdjust=\"spacingAndGlyphs\" textLength=\"175\" x=\"53.5\" y=\"223.1387\">«individual occurrence  def»</text><text fill=\"#000000\" font-family=\"sans-serif\" font-size=\"12\" lengthAdjust=\"spacingAndGlyphs\" textLength=\"19\" x=\"131.5\" y=\"237.1074\">Ind</text></a></g><g id=\"E1.E4.E5\"><a href=\"psysml:d0eba55f-a402-4b22-88ba-9857d6bd50ac\" target=\"_top\" title=\"psysml:d0eba55f-a402-4b22-88ba-9857d6bd50ac\" xlink:actuate=\"onRequest\" xlink:href=\"psysml:d0eba55f-a402-4b22-88ba-9857d6bd50ac\" xlink:show=\"new\" xlink:title=\"psysml:d0eba55f-a402-4b22-88ba-9857d6bd50ac\" xlink:type=\"simple\"><rect fill=\"#FFFFFF\" height=\"42.9375\" id=\"E5\" rx=\"10\" ry=\"10\" style=\"stroke: #383838; stroke-width: 1.5;\" width=\"155\" x=\"568.5\" y=\"116\"/><rect fill=\"#F8F8F8\" height=\"37.9375\" rx=\"10\" ry=\"10\" style=\"stroke: #F8F8F8; stroke-width: 1.5;\" width=\"155\" x=\"568.5\" y=\"116\"/><rect fill=\"#F8F8F8\" height=\"10\" style=\"stroke: #F8F8F8; stroke-width: 1.5;\" width=\"155\" x=\"568.5\" y=\"143.9375\"/><rect fill=\"none\" height=\"42.9375\" id=\"E5\" rx=\"10\" ry=\"10\" style=\"stroke: #383838; stroke-width: 1.5;\" width=\"155\" x=\"568.5\" y=\"116\"/><text fill=\"#000000\" font-family=\"sans-serif\" font-size=\"12\" font-style=\"italic\" lengthAdjust=\"spacingAndGlyphs\" textLength=\"148\" x=\"572\" y=\"132.1387\">«snapshot occurrence»</text><text fill=\"#000000\" font-family=\"sans-serif\" font-size=\"12\" lengthAdjust=\"spacingAndGlyphs\" textLength=\"15\" x=\"638.5\" y=\"146.1074\">s3</text></a></g><g id=\"E1.E4.E6\"><a href=\"psysml:0232df4f-93e4-4add-8902-f942e03a0634\" target=\"_top\" title=\"psysml:0232df4f-93e4-4add-8902-f942e03a0634\" xlink:actuate=\"onRequest\" xlink:href=\"psysml:0232df4f-93e4-4add-8902-f942e03a0634\" xlink:show=\"new\" xlink:title=\"psysml:0232df4f-93e4-4add-8902-f942e03a0634\" xlink:type=\"simple\"><rect fill=\"#FFFFFF\" height=\"42.9375\" id=\"E6\" rx=\"10\" ry=\"10\" style=\"stroke: #383838; stroke-width: 1.5;\" width=\"213\" x=\"320.5\" y=\"116\"/><rect fill=\"#F8F8F8\" height=\"37.9375\" rx=\"10\" ry=\"10\" style=\"stroke: #F8F8F8; stroke-width: 1.5;\" width=\"213\" x=\"320.5\" y=\"116\"/><rect fill=\"#F8F8F8\" height=\"10\" style=\"stroke: #F8F8F8; stroke-width: 1.5;\" width=\"213\" x=\"320.5\" y=\"143.9375\"/><rect fill=\"none\" height=\"42.9375\" id=\"E6\" rx=\"10\" ry=\"10\" style=\"stroke: #383838; stroke-width: 1.5;\" width=\"213\" x=\"320.5\" y=\"116\"/><text fill=\"#000000\" font-family=\"sans-serif\" font-size=\"12\" font-style=\"italic\" lengthAdjust=\"spacingAndGlyphs\" textLength=\"206\" x=\"324\" y=\"132.1387\">«individual timeslice occurrence»</text><text fill=\"#000000\" font-family=\"sans-serif\" font-size=\"12\" lengthAdjust=\"spacingAndGlyphs\" textLength=\"13\" x=\"420.5\" y=\"146.1074\">t3</text></a></g><g id=\"E1.E7\"><a href=\"psysml:5cbde71f-e2d0-40cd-91ed-92f5bc776eb7\" target=\"_top\" title=\"psysml:5cbde71f-e2d0-40cd-91ed-92f5bc776eb7\" xlink:actuate=\"onRequest\" xlink:href=\"psysml:5cbde71f-e2d0-40cd-91ed-92f5bc776eb7\" xlink:show=\"new\" xlink:title=\"psysml:5cbde71f-e2d0-40cd-91ed-92f5bc776eb7\" xlink:type=\"simple\"><rect fill=\"#FFFFFF\" height=\"42.9375\" id=\"E7\" rx=\"10\" ry=\"10\" style=\"stroke: #383838; stroke-width: 1.5;\" width=\"217\" x=\"32.5\" y=\"116\"/><rect fill=\"#F8F8F8\" height=\"37.9375\" rx=\"10\" ry=\"10\" style=\"stroke: #F8F8F8; stroke-width: 1.5;\" width=\"217\" x=\"32.5\" y=\"116\"/><rect fill=\"#F8F8F8\" height=\"10\" style=\"stroke: #F8F8F8; stroke-width: 1.5;\" width=\"217\" x=\"32.5\" y=\"143.9375\"/><rect fill=\"none\" height=\"42.9375\" id=\"E7\" rx=\"10\" ry=\"10\" style=\"stroke: #383838; stroke-width: 1.5;\" width=\"217\" x=\"32.5\" y=\"116\"/><text fill=\"#000000\" font-family=\"sans-serif\" font-size=\"12\" font-style=\"italic\" lengthAdjust=\"spacingAndGlyphs\" textLength=\"210\" x=\"36\" y=\"132.1387\">«individual snapshot occurrence»</text><text fill=\"#000000\" font-family=\"sans-serif\" font-size=\"12\" lengthAdjust=\"spacingAndGlyphs\" textLength=\"42\" x=\"120\" y=\"146.1074\">s4: Ind</text></a></g><!--MD5=[f0cdf4548168e5211fb3a02bf679d63a]\n",
       "link E4 to E3--><a href=\"psysml:43f26010-ca40-42d6-8df0-e4847d82fc63\" target=\"_top\" title=\"psysml:43f26010-ca40-42d6-8df0-e4847d82fc63\" xlink:actuate=\"onRequest\" xlink:href=\"psysml:43f26010-ca40-42d6-8df0-e4847d82fc63\" xlink:show=\"new\" xlink:title=\"psysml:43f26010-ca40-42d6-8df0-e4847d82fc63\" xlink:type=\"simple\"><path d=\"M288.6717,183.098 C288.6493,183.1971 288.6265,183.2961 288.6034,183.395 C288.5573,183.5929 288.5099,183.7903 288.4613,183.9873 C288.2668,184.7755 288.0523,185.5571 287.8164,186.3304 C287.3447,187.8771 286.7878,189.3908 286.1357,190.8582 C284.8314,193.793 283.1463,196.5425 281,199 C280.25,199.86 268.42,202.57 251.92,205.99 \" fill=\"none\" id=\"E4-&gt;E3\" style=\"stroke: #383838; stroke-width: 1.0;\"/><polygon fill=\"#FFFFFF\" points=\"232.08,210.03,249.304,199.3842,252.0939,213.1034,232.08,210.03\" style=\"stroke: #383838; stroke-width: 1.0;\"/><ellipse cx=\"255.2882\" cy=\"200.2082\" fill=\"#383838\" rx=\"2\" ry=\"2\" style=\"stroke: #383838; stroke-width: 1.0;\"/><ellipse cx=\"257.281\" cy=\"210.0076\" fill=\"#383838\" rx=\"2\" ry=\"2\" style=\"stroke: #383838; stroke-width: 1.0;\"/></a><!--MD5=[185131fc0dcab0a4505a2ebe144e961b]\n",
       "link E4 to E2--><a href=\"psysml:ac89f7fb-b091-4bc7-aaea-6377fc157ffe\" target=\"_top\" title=\"psysml:ac89f7fb-b091-4bc7-aaea-6377fc157ffe\" xlink:actuate=\"onRequest\" xlink:href=\"psysml:ac89f7fb-b091-4bc7-aaea-6377fc157ffe\" xlink:show=\"new\" xlink:title=\"psysml:ac89f7fb-b091-4bc7-aaea-6377fc157ffe\" xlink:type=\"simple\"><path d=\"M298.6244,183.1688 C298.6641,183.2672 298.704,183.3657 298.744,183.4642 C298.8239,183.6612 298.9043,183.8585 298.9851,184.056 C299.6311,185.6364 300.3025,187.2325 301,188.84 \" fill=\"none\" id=\"E4-&gt;E2\" style=\"stroke: #383838; stroke-width: 1.0;\"/><polygon fill=\"#FFFFFF\" points=\"309.82,206.88,295.1865,192.885,307.764,186.7362,309.82,206.88\" style=\"stroke: #383838; stroke-width: 1.0;\"/><ellipse cx=\"294.4799\" cy=\"186.8857\" fill=\"#383838\" rx=\"2\" ry=\"2\" style=\"stroke: #383838; stroke-width: 1.0;\"/><ellipse cx=\"303.4638\" cy=\"182.4938\" fill=\"#383838\" rx=\"2\" ry=\"2\" style=\"stroke: #383838; stroke-width: 1.0;\"/></a><!--MD5=[14ccda38c055a5c0da953d572bc50960]\n",
       "link E7 to E3--><a href=\"psysml:85f16706-e1b7-404d-9ee5-57d420bfb7f2\" target=\"_top\" title=\"psysml:85f16706-e1b7-404d-9ee5-57d420bfb7f2\" xlink:actuate=\"onRequest\" xlink:href=\"psysml:85f16706-e1b7-404d-9ee5-57d420bfb7f2\" xlink:show=\"new\" xlink:title=\"psysml:85f16706-e1b7-404d-9ee5-57d420bfb7f2\" xlink:type=\"simple\"><path d=\"M141,159.14 C141,167.34 141,177.08 141,186.59 \" fill=\"none\" id=\"E7-&gt;E3\" style=\"stroke: #383838; stroke-width: 1.0;\"/><polygon fill=\"#FFFFFF\" points=\"141,206.97,134,187.97,148,187.97,141,206.97\" style=\"stroke: #383838; stroke-width: 1.0;\"/><ellipse cx=\"136\" cy=\"182.27\" fill=\"#383838\" rx=\"2\" ry=\"2\" style=\"stroke: #383838; stroke-width: 1.0;\"/><ellipse cx=\"146\" cy=\"182.27\" fill=\"#383838\" rx=\"2\" ry=\"2\" style=\"stroke: #383838; stroke-width: 1.0;\"/></a><!--MD5=[a070aee75accec86865cc154c8f61433]\n",
       "@startuml\r\n",
       "skinparam ranksep 10\r\n",
       "skinparam rectangle {\r\n",
       " backgroundColor<<block>> LightGreen\r\n",
       "}\r\n",
       "top to bottom direction\r\n",
       "skinparam monochrome true\r\n",
       "skinparam classbackgroundcolor white\r\n",
       "skinparam shadowing false\r\n",
       "skinparam wrapWidth 300\r\n",
       "hide circle\r\n",
       "\r\n",
       "package \"OccurrenceTest\" as E1  [[psysml:53f1d42d-2686-4f4b-950f-b84b40bc19b2 ]]  {\r\n",
       "def \"Occ\" as E2  <<(T,blue) occurrence  def>> [[psysml:77ba500d-77fd-484e-b411-8833010da35e ]] \r\n",
       "def \"Ind\" as E3  <<(T,blue) individual occurrence  def>> [[psysml:991e81ed-291b-4563-955c-44288cc9fc81 ]] \r\n",
       "rec usage \"ind: Ind, Occ\" as E4  <<(T,blue) individual occurrence>> [[psysml:90168d9a-6358-4939-88d7-8ec9974b52c6 ]] {\r\n",
       "rec usage \"s3\" as E5  <<(T,blue) snapshot occurrence>> [[psysml:d0eba55f-a402-4b22-88ba-9857d6bd50ac ]] {\r\n",
       "}\r\n",
       "rec usage \"t3\" as E6  <<(T,blue) individual timeslice occurrence>> [[psysml:0232df4f-93e4-4add-8902-f942e03a0634 ]] {\r\n",
       "}\r\n",
       "}\r\n",
       "rec usage \"s4: Ind\" as E7  <<(T,blue) individual snapshot occurrence>> [[psysml:5cbde71f-e2d0-40cd-91ed-92f5bc776eb7 ]] {\r\n",
       "}\r\n",
       "}\r\n",
       "E4 - -:|> E3 [[psysml:43f26010-ca40-42d6-8df0-e4847d82fc63 ]] \r\n",
       "E4 - -:|> E2 [[psysml:ac89f7fb-b091-4bc7-aaea-6377fc157ffe ]] \r\n",
       "E7 - -:|> E3 [[psysml:85f16706-e1b7-404d-9ee5-57d420bfb7f2 ]] \r\n",
       "@enduml\r\n",
       "\n",
       "PlantUML version 1.2020.13(Sat Jun 13 12:26:38 UTC 2020)\n",
       "(EPL source distribution)\n",
       "Java Runtime: OpenJDK Runtime Environment\n",
       "JVM: OpenJDK 64-Bit Server VM\n",
       "Default Encoding: UTF-8\n",
       "Language: en\n",
       "Country: null\n",
       "--></g></svg>"
      ]
     },
     "execution_count": 47,
     "metadata": {},
     "output_type": "execute_result"
    }
   ],
   "source": [
    "%viz --style=\"TB\" --view=\"Interconnection\" \"OccurrenceTest\""
   ]
  },
  {
   "cell_type": "code",
   "execution_count": 48,
   "id": "db8798e2",
   "metadata": {
    "execution": {
     "iopub.execute_input": "2022-07-23T10:52:34.264655Z",
     "iopub.status.busy": "2022-07-23T10:52:34.264199Z",
     "iopub.status.idle": "2022-07-23T10:52:34.268483Z",
     "shell.execute_reply": "2022-07-23T10:52:34.268781Z"
    }
   },
   "outputs": [
    {
     "data": {
      "image/svg+xml": [
       "<?xml version=\"1.0\" encoding=\"UTF-8\" standalone=\"no\"?><svg xmlns=\"http://www.w3.org/2000/svg\" xmlns:xlink=\"http://www.w3.org/1999/xlink\" contentScriptType=\"application/ecmascript\" contentStyleType=\"text/css\" height=\"12px\" preserveAspectRatio=\"none\" style=\"width:12px;height:12px;\" version=\"1.1\" viewBox=\"0 0 12 12\" width=\"12px\" zoomAndPan=\"magnify\"><defs/><g><!--MD5=[06afc254b03ac5e9d9fb7773b07d0800]\n",
       "@startuml\r\n",
       "skinparam ranksep 8\r\n",
       "top to bottom direction\r\n",
       "skinparam monochrome true\r\n",
       "skinparam classbackgroundcolor white\r\n",
       "skinparam shadowing false\r\n",
       "skinparam wrapWidth 300\r\n",
       "hide circle\r\n",
       "\r\n",
       "@enduml\r\n",
       "\n",
       "PlantUML version 1.2020.13(Sat Jun 13 12:26:38 UTC 2020)\n",
       "(EPL source distribution)\n",
       "Java Runtime: OpenJDK Runtime Environment\n",
       "JVM: OpenJDK 64-Bit Server VM\n",
       "Default Encoding: UTF-8\n",
       "Language: en\n",
       "Country: null\n",
       "--></g></svg>"
      ]
     },
     "execution_count": 48,
     "metadata": {},
     "output_type": "execute_result"
    }
   ],
   "source": [
    "%viz --style=\"TB\" --view=\"Action\" \"OccurrenceTest\""
   ]
  },
  {
   "cell_type": "code",
   "execution_count": 49,
   "id": "6ba09e5b",
   "metadata": {
    "execution": {
     "iopub.execute_input": "2022-07-23T10:52:34.318889Z",
     "iopub.status.busy": "2022-07-23T10:52:34.318439Z",
     "iopub.status.idle": "2022-07-23T10:52:34.323342Z",
     "shell.execute_reply": "2022-07-23T10:52:34.322946Z"
    }
   },
   "outputs": [
    {
     "data": {
      "image/svg+xml": [
       "<?xml version=\"1.0\" encoding=\"UTF-8\" standalone=\"no\"?><svg xmlns=\"http://www.w3.org/2000/svg\" xmlns:xlink=\"http://www.w3.org/1999/xlink\" contentScriptType=\"application/ecmascript\" contentStyleType=\"text/css\" height=\"12px\" preserveAspectRatio=\"none\" style=\"width:12px;height:12px;\" version=\"1.1\" viewBox=\"0 0 12 12\" width=\"12px\" zoomAndPan=\"magnify\"><defs/><g><!--MD5=[e1ab0c84c44d2fef8bf5f140f2689906]\n",
       "@startuml\r\n",
       "skinparam roundcorner 20\r\n",
       "skinparam BoxPadding 20\r\n",
       "skinparam SequenceBoxBackgroundColor #white\r\n",
       "skinparam style strictuml\r\n",
       "skinparam maxMessageSize 100\r\n",
       "top to bottom direction\r\n",
       "skinparam monochrome true\r\n",
       "skinparam classbackgroundcolor white\r\n",
       "skinparam shadowing false\r\n",
       "skinparam wrapWidth 300\r\n",
       "hide circle\r\n",
       "\r\n",
       "@enduml\r\n",
       "\n",
       "PlantUML version 1.2020.13(Sat Jun 13 12:26:38 UTC 2020)\n",
       "(EPL source distribution)\n",
       "Java Runtime: OpenJDK Runtime Environment\n",
       "JVM: OpenJDK 64-Bit Server VM\n",
       "Default Encoding: UTF-8\n",
       "Language: en\n",
       "Country: null\n",
       "--></g></svg>"
      ]
     },
     "execution_count": 49,
     "metadata": {},
     "output_type": "execute_result"
    }
   ],
   "source": [
    "%viz --style=\"TB\" --view=\"Sequence\" \"OccurrenceTest\""
   ]
  },
  {
   "cell_type": "code",
   "execution_count": 50,
   "id": "dc63f695",
   "metadata": {
    "execution": {
     "iopub.execute_input": "2022-07-23T10:52:34.373341Z",
     "iopub.status.busy": "2022-07-23T10:52:34.372894Z",
     "iopub.status.idle": "2022-07-23T10:52:34.427002Z",
     "shell.execute_reply": "2022-07-23T10:52:34.425349Z"
    }
   },
   "outputs": [
    {
     "data": {
      "image/svg+xml": [
       "<?xml version=\"1.0\" encoding=\"UTF-8\" standalone=\"no\"?><svg xmlns=\"http://www.w3.org/2000/svg\" xmlns:xlink=\"http://www.w3.org/1999/xlink\" contentScriptType=\"application/ecmascript\" contentStyleType=\"text/css\" height=\"569px\" preserveAspectRatio=\"none\" style=\"width:1009px;height:569px;\" version=\"1.1\" viewBox=\"0 0 1009 569\" width=\"1009px\" zoomAndPan=\"magnify\"><defs/><g><!--MD5=[fbc87193dbaf4d95561dea2c320d4a47]\n",
       "cluster E1--><a href=\"psysml:53f1d42d-2686-4f4b-950f-b84b40bc19b2\" target=\"_top\" title=\"psysml:53f1d42d-2686-4f4b-950f-b84b40bc19b2\" xlink:actuate=\"onRequest\" xlink:href=\"psysml:53f1d42d-2686-4f4b-950f-b84b40bc19b2\" xlink:show=\"new\" xlink:title=\"psysml:53f1d42d-2686-4f4b-950f-b84b40bc19b2\" xlink:type=\"simple\"><polygon fill=\"#FFFFFF\" points=\"16,6,134,6,141,28.2969,970,28.2969,970,557,16,557,16,6\" style=\"stroke: #000000; stroke-width: 1.5;\"/><line style=\"stroke: #000000; stroke-width: 1.5;\" x1=\"16\" x2=\"141\" y1=\"28.2969\" y2=\"28.2969\"/><text fill=\"#000000\" font-family=\"sans-serif\" font-size=\"14\" font-weight=\"bold\" lengthAdjust=\"spacingAndGlyphs\" textLength=\"112\" x=\"20\" y=\"20.9951\">OccurrenceTest</text></a><!--MD5=[b4997ac47864f28c2f74865a473b2911]\n",
       "class E2--><a href=\"psysml:77ba500d-77fd-484e-b411-8833010da35e\" target=\"_top\" title=\"psysml:77ba500d-77fd-484e-b411-8833010da35e\" xlink:actuate=\"onRequest\" xlink:href=\"psysml:77ba500d-77fd-484e-b411-8833010da35e\" xlink:show=\"new\" xlink:title=\"psysml:77ba500d-77fd-484e-b411-8833010da35e\" xlink:type=\"simple\"><rect fill=\"#FFFFFF\" height=\"75.5469\" id=\"E2\" style=\"stroke: #383838; stroke-width: 1.5;\" width=\"115\" x=\"373.5\" y=\"147\"/><text fill=\"#000000\" font-family=\"sans-serif\" font-size=\"12\" font-style=\"italic\" lengthAdjust=\"spacingAndGlyphs\" textLength=\"113\" x=\"374.5\" y=\"163.1387\">«occurrence  def»</text><text fill=\"#000000\" font-family=\"sans-serif\" font-size=\"12\" lengthAdjust=\"spacingAndGlyphs\" textLength=\"23\" x=\"419.5\" y=\"177.1074\">Occ</text><line style=\"stroke: #383838; stroke-width: 1.5;\" x1=\"374.5\" x2=\"487.5\" y1=\"184.9375\" y2=\"184.9375\"/><text fill=\"#000000\" font-family=\"sans-serif\" font-size=\"11\" lengthAdjust=\"spacingAndGlyphs\" textLength=\"7\" x=\"379.5\" y=\"215.9526\">a</text><line style=\"stroke: #383838; stroke-width: 1.0;\" x1=\"374.5\" x2=\"403.5\" y1=\"199.3398\" y2=\"199.3398\"/><text fill=\"#000000\" font-family=\"sans-serif\" font-size=\"11\" lengthAdjust=\"spacingAndGlyphs\" textLength=\"55\" x=\"403.5\" y=\"202.6479\">attributes</text><line style=\"stroke: #383838; stroke-width: 1.0;\" x1=\"458.5\" x2=\"487.5\" y1=\"199.3398\" y2=\"199.3398\"/></a><!--MD5=[09b614a08d8cba4a07c9adeb5e0fee81]\n",
       "class E3--><a href=\"psysml:37011562-c12e-4ce2-bbf9-af5619a300f0\" target=\"_top\" title=\"psysml:37011562-c12e-4ce2-bbf9-af5619a300f0\" xlink:actuate=\"onRequest\" xlink:href=\"psysml:37011562-c12e-4ce2-bbf9-af5619a300f0\" xlink:show=\"new\" xlink:title=\"psysml:37011562-c12e-4ce2-bbf9-af5619a300f0\" xlink:type=\"simple\"><rect fill=\"#FFFFFF\" height=\"45.9375\" id=\"E3\" rx=\"10\" ry=\"10\" style=\"stroke: #383838; stroke-width: 1.5;\" width=\"87\" x=\"279.5\" y=\"283\"/><text fill=\"#000000\" font-family=\"sans-serif\" font-size=\"12\" font-style=\"italic\" lengthAdjust=\"spacingAndGlyphs\" textLength=\"85\" x=\"280.5\" y=\"299.1387\">«occurrence»</text><text fill=\"#000000\" font-family=\"sans-serif\" font-size=\"12\" lengthAdjust=\"spacingAndGlyphs\" textLength=\"61\" x=\"290.5\" y=\"313.1074\">occ1: Occ</text><line style=\"stroke: #383838; stroke-width: 1.5;\" x1=\"280.5\" x2=\"365.5\" y1=\"320.9375\" y2=\"320.9375\"/></a><!--MD5=[ebbe1d658d1005bcc118a6aa81145e00]\n",
       "class E4--><a href=\"psysml:3522e0a2-d0dd-4c95-916a-e9f89fbadd86\" target=\"_top\" title=\"psysml:3522e0a2-d0dd-4c95-916a-e9f89fbadd86\" xlink:actuate=\"onRequest\" xlink:href=\"psysml:3522e0a2-d0dd-4c95-916a-e9f89fbadd86\" xlink:show=\"new\" xlink:title=\"psysml:3522e0a2-d0dd-4c95-916a-e9f89fbadd86\" xlink:type=\"simple\"><rect fill=\"#FFFFFF\" height=\"45.9375\" id=\"E4\" rx=\"10\" ry=\"10\" style=\"stroke: #383838; stroke-width: 1.5;\" width=\"87\" x=\"401.5\" y=\"283\"/><text fill=\"#000000\" font-family=\"sans-serif\" font-size=\"12\" font-style=\"italic\" lengthAdjust=\"spacingAndGlyphs\" textLength=\"85\" x=\"402.5\" y=\"299.1387\">«occurrence»</text><text fill=\"#000000\" font-family=\"sans-serif\" font-size=\"12\" lengthAdjust=\"spacingAndGlyphs\" textLength=\"61\" x=\"412.5\" y=\"313.1074\">occ2: Occ</text><line style=\"stroke: #383838; stroke-width: 1.5;\" x1=\"402.5\" x2=\"487.5\" y1=\"320.9375\" y2=\"320.9375\"/></a><!--MD5=[270fce915f116d4de14055a7c1d9a0f3]\n",
       "class E5--><a href=\"psysml:2ba1b44f-ac88-49ba-a1da-8edc5df2da3a\" target=\"_top\" title=\"psysml:2ba1b44f-ac88-49ba-a1da-8edc5df2da3a\" xlink:actuate=\"onRequest\" xlink:href=\"psysml:2ba1b44f-ac88-49ba-a1da-8edc5df2da3a\" xlink:show=\"new\" xlink:title=\"psysml:2ba1b44f-ac88-49ba-a1da-8edc5df2da3a\" xlink:type=\"simple\"><rect fill=\"#FFFFFF\" height=\"45.9375\" id=\"E5\" rx=\"10\" ry=\"10\" style=\"stroke: #383838; stroke-width: 1.5;\" width=\"212\" x=\"524\" y=\"283\"/><text fill=\"#000000\" font-family=\"sans-serif\" font-size=\"12\" font-style=\"italic\" lengthAdjust=\"spacingAndGlyphs\" textLength=\"210\" x=\"525\" y=\"299.1387\">«individual snapshot occurrence»</text><text fill=\"#000000\" font-family=\"sans-serif\" font-size=\"12\" lengthAdjust=\"spacingAndGlyphs\" textLength=\"34\" x=\"611\" y=\"313.1074\">s: Ind</text><line style=\"stroke: #383838; stroke-width: 1.5;\" x1=\"525\" x2=\"735\" y1=\"320.9375\" y2=\"320.9375\"/></a><!--MD5=[60a26617385b1d2d0262a64233df1f8d]\n",
       "class E6--><a href=\"psysml:aefaf76d-f241-48e8-80ea-b99598299972\" target=\"_top\" title=\"psysml:aefaf76d-f241-48e8-80ea-b99598299972\" xlink:actuate=\"onRequest\" xlink:href=\"psysml:aefaf76d-f241-48e8-80ea-b99598299972\" xlink:show=\"new\" xlink:title=\"psysml:aefaf76d-f241-48e8-80ea-b99598299972\" xlink:type=\"simple\"><rect fill=\"#FFFFFF\" height=\"45.9375\" id=\"E6\" rx=\"10\" ry=\"10\" style=\"stroke: #383838; stroke-width: 1.5;\" width=\"146\" x=\"771\" y=\"283\"/><text fill=\"#000000\" font-family=\"sans-serif\" font-size=\"12\" font-style=\"italic\" lengthAdjust=\"spacingAndGlyphs\" textLength=\"144\" x=\"772\" y=\"299.1387\">«timeslice occurrence»</text><text fill=\"#000000\" font-family=\"sans-serif\" font-size=\"12\" lengthAdjust=\"spacingAndGlyphs\" textLength=\"5\" x=\"839.5\" y=\"313.1074\">t</text><line style=\"stroke: #383838; stroke-width: 1.5;\" x1=\"772\" x2=\"916\" y1=\"320.9375\" y2=\"320.9375\"/></a><!--MD5=[2156ba9850f5573cc1fc38a6a4b2f02b]\n",
       "class E7--><a href=\"psysml:991e81ed-291b-4563-955c-44288cc9fc81\" target=\"_top\" title=\"psysml:991e81ed-291b-4563-955c-44288cc9fc81\" xlink:actuate=\"onRequest\" xlink:href=\"psysml:991e81ed-291b-4563-955c-44288cc9fc81\" xlink:show=\"new\" xlink:title=\"psysml:991e81ed-291b-4563-955c-44288cc9fc81\" xlink:type=\"simple\"><rect fill=\"#FFFFFF\" height=\"45.9375\" id=\"E7\" style=\"stroke: #383838; stroke-width: 1.5;\" width=\"177\" x=\"541.5\" y=\"389\"/><text fill=\"#000000\" font-family=\"sans-serif\" font-size=\"12\" font-style=\"italic\" lengthAdjust=\"spacingAndGlyphs\" textLength=\"175\" x=\"542.5\" y=\"405.1387\">«individual occurrence  def»</text><text fill=\"#000000\" font-family=\"sans-serif\" font-size=\"12\" lengthAdjust=\"spacingAndGlyphs\" textLength=\"19\" x=\"620.5\" y=\"419.1074\">Ind</text><line style=\"stroke: #383838; stroke-width: 1.5;\" x1=\"542.5\" x2=\"717.5\" y1=\"426.9375\" y2=\"426.9375\"/></a><!--MD5=[b9389687b975829384b498ac4b7476b2]\n",
       "class E8--><a href=\"psysml:fb7dbc0d-a670-4e6d-a2b6-24a9a70c023a\" target=\"_top\" title=\"psysml:fb7dbc0d-a670-4e6d-a2b6-24a9a70c023a\" xlink:actuate=\"onRequest\" xlink:href=\"psysml:fb7dbc0d-a670-4e6d-a2b6-24a9a70c023a\" xlink:show=\"new\" xlink:title=\"psysml:fb7dbc0d-a670-4e6d-a2b6-24a9a70c023a\" xlink:type=\"simple\"><rect fill=\"#FFFFFF\" height=\"45.9375\" id=\"E8\" rx=\"10\" ry=\"10\" style=\"stroke: #383838; stroke-width: 1.5;\" width=\"150\" x=\"463\" y=\"495\"/><text fill=\"#000000\" font-family=\"sans-serif\" font-size=\"12\" font-style=\"italic\" lengthAdjust=\"spacingAndGlyphs\" textLength=\"148\" x=\"464\" y=\"511.1387\">«snapshot occurrence»</text><text fill=\"#000000\" font-family=\"sans-serif\" font-size=\"12\" lengthAdjust=\"spacingAndGlyphs\" textLength=\"15\" x=\"528.5\" y=\"525.1074\">s2</text><line style=\"stroke: #383838; stroke-width: 1.5;\" x1=\"464\" x2=\"612\" y1=\"532.9375\" y2=\"532.9375\"/></a><!--MD5=[fd4143e9d270a159db93a4ea2a975926]\n",
       "class E9--><a href=\"psysml:ae0fd4ea-8dc7-4cb0-a32c-5615a8f756eb\" target=\"_top\" title=\"psysml:ae0fd4ea-8dc7-4cb0-a32c-5615a8f756eb\" xlink:actuate=\"onRequest\" xlink:href=\"psysml:ae0fd4ea-8dc7-4cb0-a32c-5615a8f756eb\" xlink:show=\"new\" xlink:title=\"psysml:ae0fd4ea-8dc7-4cb0-a32c-5615a8f756eb\" xlink:type=\"simple\"><rect fill=\"#FFFFFF\" height=\"45.9375\" id=\"E9\" rx=\"10\" ry=\"10\" style=\"stroke: #383838; stroke-width: 1.5;\" width=\"146\" x=\"648\" y=\"495\"/><text fill=\"#000000\" font-family=\"sans-serif\" font-size=\"12\" font-style=\"italic\" lengthAdjust=\"spacingAndGlyphs\" textLength=\"144\" x=\"649\" y=\"511.1387\">«timeslice occurrence»</text><text fill=\"#000000\" font-family=\"sans-serif\" font-size=\"12\" lengthAdjust=\"spacingAndGlyphs\" textLength=\"13\" x=\"712.5\" y=\"525.1074\">t2</text><line style=\"stroke: #383838; stroke-width: 1.5;\" x1=\"649\" x2=\"793\" y1=\"532.9375\" y2=\"532.9375\"/></a><!--MD5=[96f4274e9e20536e775497830990834d]\n",
       "class E10--><a href=\"psysml:90168d9a-6358-4939-88d7-8ec9974b52c6\" target=\"_top\" title=\"psysml:90168d9a-6358-4939-88d7-8ec9974b52c6\" xlink:actuate=\"onRequest\" xlink:href=\"psysml:90168d9a-6358-4939-88d7-8ec9974b52c6\" xlink:show=\"new\" xlink:title=\"psysml:90168d9a-6358-4939-88d7-8ec9974b52c6\" xlink:type=\"simple\"><rect fill=\"#FFFFFF\" height=\"45.9375\" id=\"E10\" rx=\"10\" ry=\"10\" style=\"stroke: #383838; stroke-width: 1.5;\" width=\"149\" x=\"505.5\" y=\"41\"/><text fill=\"#000000\" font-family=\"sans-serif\" font-size=\"12\" font-style=\"italic\" lengthAdjust=\"spacingAndGlyphs\" textLength=\"147\" x=\"506.5\" y=\"57.1387\">«individual occurrence»</text><text fill=\"#000000\" font-family=\"sans-serif\" font-size=\"12\" lengthAdjust=\"spacingAndGlyphs\" textLength=\"77\" x=\"539.5\" y=\"71.1074\">ind: Ind, Occ</text><line style=\"stroke: #383838; stroke-width: 1.5;\" x1=\"506.5\" x2=\"653.5\" y1=\"78.9375\" y2=\"78.9375\"/></a><!--MD5=[1dd1bfd58a279cf63c5f349dbc8fc6a1]\n",
       "class E11--><a href=\"psysml:d0eba55f-a402-4b22-88ba-9857d6bd50ac\" target=\"_top\" title=\"psysml:d0eba55f-a402-4b22-88ba-9857d6bd50ac\" xlink:actuate=\"onRequest\" xlink:href=\"psysml:d0eba55f-a402-4b22-88ba-9857d6bd50ac\" xlink:show=\"new\" xlink:title=\"psysml:d0eba55f-a402-4b22-88ba-9857d6bd50ac\" xlink:type=\"simple\"><rect fill=\"#FFFFFF\" height=\"45.9375\" id=\"E11\" rx=\"10\" ry=\"10\" style=\"stroke: #383838; stroke-width: 1.5;\" width=\"150\" x=\"561\" y=\"162\"/><text fill=\"#000000\" font-family=\"sans-serif\" font-size=\"12\" font-style=\"italic\" lengthAdjust=\"spacingAndGlyphs\" textLength=\"148\" x=\"562\" y=\"178.1387\">«snapshot occurrence»</text><text fill=\"#000000\" font-family=\"sans-serif\" font-size=\"12\" lengthAdjust=\"spacingAndGlyphs\" textLength=\"15\" x=\"626.5\" y=\"192.1074\">s3</text><line style=\"stroke: #383838; stroke-width: 1.5;\" x1=\"562\" x2=\"710\" y1=\"199.9375\" y2=\"199.9375\"/></a><!--MD5=[49a0ec8f00dab7302a31f22d0f0fe584]\n",
       "class E12--><a href=\"psysml:0232df4f-93e4-4add-8902-f942e03a0634\" target=\"_top\" title=\"psysml:0232df4f-93e4-4add-8902-f942e03a0634\" xlink:actuate=\"onRequest\" xlink:href=\"psysml:0232df4f-93e4-4add-8902-f942e03a0634\" xlink:show=\"new\" xlink:title=\"psysml:0232df4f-93e4-4add-8902-f942e03a0634\" xlink:type=\"simple\"><rect fill=\"#FFFFFF\" height=\"45.9375\" id=\"E12\" rx=\"10\" ry=\"10\" style=\"stroke: #383838; stroke-width: 1.5;\" width=\"208\" x=\"746\" y=\"162\"/><text fill=\"#000000\" font-family=\"sans-serif\" font-size=\"12\" font-style=\"italic\" lengthAdjust=\"spacingAndGlyphs\" textLength=\"206\" x=\"747\" y=\"178.1387\">«individual timeslice occurrence»</text><text fill=\"#000000\" font-family=\"sans-serif\" font-size=\"12\" lengthAdjust=\"spacingAndGlyphs\" textLength=\"13\" x=\"841.5\" y=\"192.1074\">t3</text><line style=\"stroke: #383838; stroke-width: 1.5;\" x1=\"747\" x2=\"953\" y1=\"199.9375\" y2=\"199.9375\"/></a><!--MD5=[ee3c913d1a06f366521f9ef512b67efe]\n",
       "class E13--><a href=\"psysml:5cbde71f-e2d0-40cd-91ed-92f5bc776eb7\" target=\"_top\" title=\"psysml:5cbde71f-e2d0-40cd-91ed-92f5bc776eb7\" xlink:actuate=\"onRequest\" xlink:href=\"psysml:5cbde71f-e2d0-40cd-91ed-92f5bc776eb7\" xlink:show=\"new\" xlink:title=\"psysml:5cbde71f-e2d0-40cd-91ed-92f5bc776eb7\" xlink:type=\"simple\"><rect fill=\"#FFFFFF\" height=\"45.9375\" id=\"E13\" rx=\"10\" ry=\"10\" style=\"stroke: #383838; stroke-width: 1.5;\" width=\"212\" x=\"32\" y=\"283\"/><text fill=\"#000000\" font-family=\"sans-serif\" font-size=\"12\" font-style=\"italic\" lengthAdjust=\"spacingAndGlyphs\" textLength=\"210\" x=\"33\" y=\"299.1387\">«individual snapshot occurrence»</text><text fill=\"#000000\" font-family=\"sans-serif\" font-size=\"12\" lengthAdjust=\"spacingAndGlyphs\" textLength=\"42\" x=\"115\" y=\"313.1074\">s4: Ind</text><line style=\"stroke: #383838; stroke-width: 1.5;\" x1=\"33\" x2=\"243\" y1=\"320.9375\" y2=\"320.9375\"/></a><!--MD5=[209b3feb70ccb6233bfe1053d122c12c]\n",
       "reverse link E2 to E3--><a href=\"psysml:111e77a4-44f2-45ac-862d-a1e02a1cad26\" target=\"_top\" title=\"psysml:111e77a4-44f2-45ac-862d-a1e02a1cad26\" xlink:actuate=\"onRequest\" xlink:href=\"psysml:111e77a4-44f2-45ac-862d-a1e02a1cad26\" xlink:show=\"new\" xlink:title=\"psysml:111e77a4-44f2-45ac-862d-a1e02a1cad26\" xlink:type=\"simple\"><path d=\"M376.37,232.45 C359.85,249.83 343.43,268.76 332.86,282.93 \" fill=\"none\" id=\"E2&lt;-E3\" style=\"stroke: #383838; stroke-width: 1.0;\"/><polygon fill=\"#FFFFFF\" points=\"385.52,223,378.4729,224.5294,377.1743,231.6226,384.2213,230.0932,385.52,223\" style=\"stroke: #383838; stroke-width: 1.0;\"/></a><!--MD5=[05d275557350bfb9b23a4ef7222b4c39]\n",
       "link E3 to E2--><a href=\"psysml:0f45e557-8f0e-4df9-b1d8-28bd2526f5a3\" target=\"_top\" title=\"psysml:0f45e557-8f0e-4df9-b1d8-28bd2526f5a3\" xlink:actuate=\"onRequest\" xlink:href=\"psysml:0f45e557-8f0e-4df9-b1d8-28bd2526f5a3\" xlink:show=\"new\" xlink:title=\"psysml:0f45e557-8f0e-4df9-b1d8-28bd2526f5a3\" xlink:type=\"simple\"><path d=\"M353.8,282.93 C367.38,270.34 383.11,253.98 396.95,238.29 \" fill=\"none\" id=\"E3-&gt;E2\" style=\"stroke: #383838; stroke-width: 1.0;\"/><polygon fill=\"#FFFFFF\" points=\"410.02,223,403.0007,241.9929,392.3563,232.8991,410.02,223\" style=\"stroke: #383838; stroke-width: 1.0;\"/><ellipse cx=\"397.7776\" cy=\"245.0276\" fill=\"#383838\" rx=\"2\" ry=\"2\" style=\"stroke: #383838; stroke-width: 1.0;\"/><ellipse cx=\"390.1744\" cy=\"238.532\" fill=\"#383838\" rx=\"2\" ry=\"2\" style=\"stroke: #383838; stroke-width: 1.0;\"/></a><!--MD5=[9618e71518536f8baf3342ff6fdab317]\n",
       "reverse link E2 to E4--><a href=\"psysml:7f5381ff-79d6-4175-8599-1b084d5a38fb\" target=\"_top\" title=\"psysml:7f5381ff-79d6-4175-8599-1b084d5a38fb\" xlink:actuate=\"onRequest\" xlink:href=\"psysml:7f5381ff-79d6-4175-8599-1b084d5a38fb\" xlink:show=\"new\" xlink:title=\"psysml:7f5381ff-79d6-4175-8599-1b084d5a38fb\" xlink:type=\"simple\"><path d=\"M424.31,236.34 C425.74,252.61 428.58,269.81 432.23,282.93 \" fill=\"none\" id=\"E2&lt;-E4\" style=\"stroke: #383838; stroke-width: 1.0;\"/><polygon fill=\"#383838\" points=\"423.45,223,419.8475,229.2467,424.2281,234.9747,427.8306,228.728,423.45,223\" style=\"stroke: #383838; stroke-width: 1.0;\"/></a><!--MD5=[185131fc0dcab0a4505a2ebe144e961b]\n",
       "link E4 to E2--><a href=\"psysml:9af83ecd-fc65-4272-8374-c2ac75a0337a\" target=\"_top\" title=\"psysml:9af83ecd-fc65-4272-8374-c2ac75a0337a\" xlink:actuate=\"onRequest\" xlink:href=\"psysml:9af83ecd-fc65-4272-8374-c2ac75a0337a\" xlink:show=\"new\" xlink:title=\"psysml:9af83ecd-fc65-4272-8374-c2ac75a0337a\" xlink:type=\"simple\"><path d=\"M453.17,282.93 C453.77,271.65 452.99,257.34 451.22,243.21 \" fill=\"none\" id=\"E4-&gt;E2\" style=\"stroke: #383838; stroke-width: 1.0;\"/><polygon fill=\"#FFFFFF\" points=\"447.96,223,457.8973,240.6423,444.0761,242.8725,447.96,223\" style=\"stroke: #383838; stroke-width: 1.0;\"/><ellipse cx=\"456.8309\" cy=\"246.5881\" fill=\"#383838\" rx=\"2\" ry=\"2\" style=\"stroke: #383838; stroke-width: 1.0;\"/><ellipse cx=\"446.9586\" cy=\"248.1811\" fill=\"#383838\" rx=\"2\" ry=\"2\" style=\"stroke: #383838; stroke-width: 1.0;\"/></a><!--MD5=[4e1a83fab71cdb913c109063314ae896]\n",
       "reverse link E2 to E5--><a href=\"psysml:648e9e41-ac7c-450e-af70-439d81f3f540\" target=\"_top\" title=\"psysml:648e9e41-ac7c-450e-af70-439d81f3f540\" xlink:actuate=\"onRequest\" xlink:href=\"psysml:648e9e41-ac7c-450e-af70-439d81f3f540\" xlink:show=\"new\" xlink:title=\"psysml:648e9e41-ac7c-450e-af70-439d81f3f540\" xlink:type=\"simple\"><path d=\"M499.85,227.17 C531.12,245.87 566.86,267.24 592.97,282.85 \" fill=\"none\" id=\"E2&lt;-E5\" style=\"stroke: #383838; stroke-width: 1.0;\"/><polygon fill=\"#383838\" points=\"488.56,220.42,491.6568,226.9323,498.8592,226.5784,495.7624,220.0661,488.56,220.42\" style=\"stroke: #383838; stroke-width: 1.0;\"/></a><!--MD5=[ce036f65110ae2351ccce5a81dc2e928]\n",
       "reverse link E2 to E6--><a href=\"psysml:00b8b9a4-593e-406d-b505-212ff2a7c9c1\" target=\"_top\" title=\"psysml:00b8b9a4-593e-406d-b505-212ff2a7c9c1\" xlink:actuate=\"onRequest\" xlink:href=\"psysml:00b8b9a4-593e-406d-b505-212ff2a7c9c1\" xlink:show=\"new\" xlink:title=\"psysml:00b8b9a4-593e-406d-b505-212ff2a7c9c1\" xlink:type=\"simple\"><path d=\"M501.02,217.55 C506.06,219.49 511.08,221.33 516,223 C528.19,227.15 677.82,264.14 770.71,287 \" fill=\"none\" id=\"E2&lt;-E6\" style=\"stroke: #383838; stroke-width: 1.0;\"/><polygon fill=\"#383838\" points=\"488.57,212.58,492.6577,218.5206,499.7135,217.0321,495.6258,211.0916,488.57,212.58\" style=\"stroke: #383838; stroke-width: 1.0;\"/></a><!--MD5=[3a9b96bfbf6b6ad89c494e81751bda47]\n",
       "link E5 to E7--><a href=\"psysml:088b8ee7-f1bc-4574-b816-43bcf4f14b77\" target=\"_top\" title=\"psysml:088b8ee7-f1bc-4574-b816-43bcf4f14b77\" xlink:actuate=\"onRequest\" xlink:href=\"psysml:088b8ee7-f1bc-4574-b816-43bcf4f14b77\" xlink:show=\"new\" xlink:title=\"psysml:088b8ee7-f1bc-4574-b816-43bcf4f14b77\" xlink:type=\"simple\"><path d=\"M630,329.06 C630,340.64 630,355.23 630,368.87 \" fill=\"none\" id=\"E5-&gt;E7\" style=\"stroke: #383838; stroke-width: 1.0;\"/><polygon fill=\"#FFFFFF\" points=\"630,388.98,623,369.98,637,369.98,630,388.98\" style=\"stroke: #383838; stroke-width: 1.0;\"/><ellipse cx=\"625\" cy=\"364.28\" fill=\"#383838\" rx=\"2\" ry=\"2\" style=\"stroke: #383838; stroke-width: 1.0;\"/><ellipse cx=\"635\" cy=\"364.28\" fill=\"#383838\" rx=\"2\" ry=\"2\" style=\"stroke: #383838; stroke-width: 1.0;\"/></a><!--MD5=[dc164f5e8a733ab456ef1add180e9e34]\n",
       "reverse link E7 to E8--><a href=\"psysml:c8813ef9-ffa9-4c9d-80a4-dd20f6c80ea5\" target=\"_top\" title=\"psysml:c8813ef9-ffa9-4c9d-80a4-dd20f6c80ea5\" xlink:actuate=\"onRequest\" xlink:href=\"psysml:c8813ef9-ffa9-4c9d-80a4-dd20f6c80ea5\" xlink:show=\"new\" xlink:title=\"psysml:c8813ef9-ffa9-4c9d-80a4-dd20f6c80ea5\" xlink:type=\"simple\"><path d=\"M601.55,445.16 C587.25,461.33 570.28,480.51 557.48,494.98 \" fill=\"none\" id=\"E7&lt;-E8\" style=\"stroke: #383838; stroke-width: 1.0;\"/><polygon fill=\"#383838\" points=\"610.49,435.06,603.5177,436.9004,602.5348,444.0442,609.5071,442.2038,610.49,435.06\" style=\"stroke: #383838; stroke-width: 1.0;\"/></a><!--MD5=[e4a10ef82d0e328e31cac39a31e58dda]\n",
       "reverse link E7 to E9--><a href=\"psysml:cdca8d7c-6aa5-4fff-9e0e-900e3ba85343\" target=\"_top\" title=\"psysml:cdca8d7c-6aa5-4fff-9e0e-900e3ba85343\" xlink:actuate=\"onRequest\" xlink:href=\"psysml:cdca8d7c-6aa5-4fff-9e0e-900e3ba85343\" xlink:show=\"new\" xlink:title=\"psysml:cdca8d7c-6aa5-4fff-9e0e-900e3ba85343\" xlink:type=\"simple\"><path d=\"M658.14,445.16 C672.29,461.33 689.07,480.51 701.73,494.98 \" fill=\"none\" id=\"E7&lt;-E9\" style=\"stroke: #383838; stroke-width: 1.0;\"/><polygon fill=\"#383838\" points=\"649.3,435.06,650.2496,442.2083,657.2133,444.0811,656.2637,436.9328,649.3,435.06\" style=\"stroke: #383838; stroke-width: 1.0;\"/></a><!--MD5=[a919e0967d6f3de553dc51b9865a1d6d]\n",
       "link E10 to E7--><a href=\"psysml:43f26010-ca40-42d6-8df0-e4847d82fc63\" target=\"_top\" title=\"psysml:43f26010-ca40-42d6-8df0-e4847d82fc63\" xlink:actuate=\"onRequest\" xlink:href=\"psysml:43f26010-ca40-42d6-8df0-e4847d82fc63\" xlink:show=\"new\" xlink:title=\"psysml:43f26010-ca40-42d6-8df0-e4847d82fc63\" xlink:type=\"simple\"><path d=\"M564.36,87.23 C542.92,120.68 510.65,184.15 544,223 C658.5,356.41 820.5,149.59 935,283 C997.3,355.58 849.41,387.9 738.47,401.63 \" fill=\"none\" id=\"E10-&gt;E7\" style=\"stroke: #383838; stroke-width: 1.0;\"/><polygon fill=\"#FFFFFF\" points=\"718.6,403.94,736.6627,394.7891,738.2822,408.6951,718.6,403.94\" style=\"stroke: #383838; stroke-width: 1.0;\"/><ellipse cx=\"742.5558\" cy=\"396.1162\" fill=\"#383838\" rx=\"2\" ry=\"2\" style=\"stroke: #383838; stroke-width: 1.0;\"/><ellipse cx=\"743.7126\" cy=\"406.0491\" fill=\"#383838\" rx=\"2\" ry=\"2\" style=\"stroke: #383838; stroke-width: 1.0;\"/></a><!--MD5=[0f36bececdf0dff6e600d6f64214b0f1]\n",
       "link E10 to E2--><a href=\"psysml:ac89f7fb-b091-4bc7-aaea-6377fc157ffe\" target=\"_top\" title=\"psysml:ac89f7fb-b091-4bc7-aaea-6377fc157ffe\" xlink:actuate=\"onRequest\" xlink:href=\"psysml:ac89f7fb-b091-4bc7-aaea-6377fc157ffe\" xlink:show=\"new\" xlink:title=\"psysml:ac89f7fb-b091-4bc7-aaea-6377fc157ffe\" xlink:type=\"simple\"><path d=\"M552.32,87.1 C535.71,100.38 513.86,117.82 493.29,134.25 \" fill=\"none\" id=\"E10-&gt;E2\" style=\"stroke: #383838; stroke-width: 1.0;\"/><polygon fill=\"#FFFFFF\" points=\"477.56,146.81,488.0352,129.4817,496.7737,140.4197,477.56,146.81\" style=\"stroke: #383838; stroke-width: 1.0;\"/><ellipse cx=\"493.7369\" cy=\"127.4865\" fill=\"#383838\" rx=\"2\" ry=\"2\" style=\"stroke: #383838; stroke-width: 1.0;\"/><ellipse cx=\"499.9786\" cy=\"135.2994\" fill=\"#383838\" rx=\"2\" ry=\"2\" style=\"stroke: #383838; stroke-width: 1.0;\"/></a><!--MD5=[de308be4a2431766a05a907a031c07fc]\n",
       "reverse link E10 to E11--><a href=\"psysml:75c081c5-05e2-401c-b103-d900689a3a49\" target=\"_top\" title=\"psysml:75c081c5-05e2-401c-b103-d900689a3a49\" xlink:actuate=\"onRequest\" xlink:href=\"psysml:75c081c5-05e2-401c-b103-d900689a3a49\" xlink:show=\"new\" xlink:title=\"psysml:75c081c5-05e2-401c-b103-d900689a3a49\" xlink:type=\"simple\"><path d=\"M595.95,98.9 C605.42,119.01 617.15,143.94 625.46,161.61 \" fill=\"none\" id=\"E10&lt;-E11\" style=\"stroke: #383838; stroke-width: 1.0;\"/><polygon fill=\"#383838\" points=\"590.4,87.1,589.3334,94.2318,595.5064,97.9593,596.573,90.8275,590.4,87.1\" style=\"stroke: #383838; stroke-width: 1.0;\"/></a><!--MD5=[1d54f998c6d5961a1a9184be73a7eb6c]\n",
       "reverse link E10 to E12--><a href=\"psysml:54130436-8b1f-4706-a610-d99b2d4cb5d4\" target=\"_top\" title=\"psysml:54130436-8b1f-4706-a610-d99b2d4cb5d4\" xlink:actuate=\"onRequest\" xlink:href=\"psysml:54130436-8b1f-4706-a610-d99b2d4cb5d4\" xlink:show=\"new\" xlink:title=\"psysml:54130436-8b1f-4706-a610-d99b2d4cb5d4\" xlink:type=\"simple\"><path d=\"M642.21,92.42 C689.99,113.48 755.13,142.19 799.66,161.81 \" fill=\"none\" id=\"E10&lt;-E12\" style=\"stroke: #383838; stroke-width: 1.0;\"/><polygon fill=\"#383838\" points=\"630.15,87.1,634.028,93.1796,641.1314,91.9382,637.2534,85.8586,630.15,87.1\" style=\"stroke: #383838; stroke-width: 1.0;\"/></a><!--MD5=[4a48077df6499cfcd20b62e8f5f37904]\n",
       "link E13 to E7--><a href=\"psysml:85f16706-e1b7-404d-9ee5-57d420bfb7f2\" target=\"_top\" title=\"psysml:85f16706-e1b7-404d-9ee5-57d420bfb7f2\" xlink:actuate=\"onRequest\" xlink:href=\"psysml:85f16706-e1b7-404d-9ee5-57d420bfb7f2\" xlink:show=\"new\" xlink:title=\"psysml:85f16706-e1b7-404d-9ee5-57d420bfb7f2\" xlink:type=\"simple\"><path d=\"M242.34,329.06 C324.51,346.43 438.67,370.56 521.82,388.13 \" fill=\"none\" id=\"E13-&gt;E7\" style=\"stroke: #383838; stroke-width: 1.0;\"/><polygon fill=\"#FFFFFF\" points=\"541.45,392.28,521.4143,395.2075,524.304,381.509,541.45,392.28\" style=\"stroke: #383838; stroke-width: 1.0;\"/><ellipse cx=\"516.2498\" cy=\"392.0741\" fill=\"#383838\" rx=\"2\" ry=\"2\" style=\"stroke: #383838; stroke-width: 1.0;\"/><ellipse cx=\"518.3139\" cy=\"382.2894\" fill=\"#383838\" rx=\"2\" ry=\"2\" style=\"stroke: #383838; stroke-width: 1.0;\"/></a><!--MD5=[2150f3eba2cbc8fae3f228821dec8220]\n",
       "@startuml\r\n",
       "top to bottom direction\r\n",
       "skinparam monochrome true\r\n",
       "skinparam classbackgroundcolor white\r\n",
       "skinparam shadowing false\r\n",
       "skinparam wrapWidth 300\r\n",
       "hide circle\r\n",
       "\r\n",
       "package \"OccurrenceTest\" as E1  [[psysml:53f1d42d-2686-4f4b-950f-b84b40bc19b2 ]]  {\r\n",
       "comp def \"Occ\" as E2  <<(T,blue) occurrence  def>> [[psysml:77ba500d-77fd-484e-b411-8833010da35e ]] {\r\n",
       "- - attributes - -\r\n",
       "a\r\n",
       "}\r\n",
       "comp usage \"occ1: Occ \" as E3  <<(T,blue) occurrence>> [[psysml:37011562-c12e-4ce2-bbf9-af5619a300f0 ]] {\r\n",
       "}\r\n",
       "comp usage \"occ2: Occ \" as E4  <<(T,blue) occurrence>> [[psysml:3522e0a2-d0dd-4c95-916a-e9f89fbadd86 ]] {\r\n",
       "}\r\n",
       "comp usage \"s: Ind \" as E5  <<(T,blue) individual snapshot occurrence>> [[psysml:2ba1b44f-ac88-49ba-a1da-8edc5df2da3a ]] {\r\n",
       "}\r\n",
       "comp usage \"t \" as E6  <<(T,blue) timeslice occurrence>> [[psysml:aefaf76d-f241-48e8-80ea-b99598299972 ]] {\r\n",
       "}\r\n",
       "comp def \"Ind\" as E7  <<(T,blue) individual occurrence  def>> [[psysml:991e81ed-291b-4563-955c-44288cc9fc81 ]] {\r\n",
       "}\r\n",
       "comp usage \"s2 \" as E8  <<(T,blue) snapshot occurrence>> [[psysml:fb7dbc0d-a670-4e6d-a2b6-24a9a70c023a ]] {\r\n",
       "}\r\n",
       "comp usage \"t2 \" as E9  <<(T,blue) timeslice occurrence>> [[psysml:ae0fd4ea-8dc7-4cb0-a32c-5615a8f756eb ]] {\r\n",
       "}\r\n",
       "comp usage \"ind: Ind, Occ \" as E10  <<(T,blue) individual occurrence>> [[psysml:90168d9a-6358-4939-88d7-8ec9974b52c6 ]] {\r\n",
       "}\r\n",
       "comp usage \"s3 \" as E11  <<(T,blue) snapshot occurrence>> [[psysml:d0eba55f-a402-4b22-88ba-9857d6bd50ac ]] {\r\n",
       "}\r\n",
       "comp usage \"t3 \" as E12  <<(T,blue) individual timeslice occurrence>> [[psysml:0232df4f-93e4-4add-8902-f942e03a0634 ]] {\r\n",
       "}\r\n",
       "comp usage \"s4: Ind \" as E13  <<(T,blue) individual snapshot occurrence>> [[psysml:5cbde71f-e2d0-40cd-91ed-92f5bc776eb7 ]] {\r\n",
       "}\r\n",
       "}\r\n",
       "E2 o- - E3 [[psysml:111e77a4-44f2-45ac-862d-a1e02a1cad26 ]] \r\n",
       "E3 - -:|> E2 [[psysml:0f45e557-8f0e-4df9-b1d8-28bd2526f5a3 ]] \r\n",
       "E2 *- - E4 [[psysml:7f5381ff-79d6-4175-8599-1b084d5a38fb ]] \r\n",
       "E4 - -:|> E2 [[psysml:9af83ecd-fc65-4272-8374-c2ac75a0337a ]] \r\n",
       "E2 *- - E5 [[psysml:648e9e41-ac7c-450e-af70-439d81f3f540 ]] \r\n",
       "E2 *- - E6 [[psysml:00b8b9a4-593e-406d-b505-212ff2a7c9c1 ]] \r\n",
       "E5 - -:|> E7 [[psysml:088b8ee7-f1bc-4574-b816-43bcf4f14b77 ]] \r\n",
       "E7 *- - E8 [[psysml:c8813ef9-ffa9-4c9d-80a4-dd20f6c80ea5 ]] \r\n",
       "E7 *- - E9 [[psysml:cdca8d7c-6aa5-4fff-9e0e-900e3ba85343 ]] \r\n",
       "E10 - -:|> E7 [[psysml:43f26010-ca40-42d6-8df0-e4847d82fc63 ]] \r\n",
       "E10 - -:|> E2 [[psysml:ac89f7fb-b091-4bc7-aaea-6377fc157ffe ]] \r\n",
       "E10 *- - E11 [[psysml:75c081c5-05e2-401c-b103-d900689a3a49 ]] \r\n",
       "E10 *- - E12 [[psysml:54130436-8b1f-4706-a610-d99b2d4cb5d4 ]] \r\n",
       "E13 - -:|> E7 [[psysml:85f16706-e1b7-404d-9ee5-57d420bfb7f2 ]] \r\n",
       "@enduml\r\n",
       "\n",
       "PlantUML version 1.2020.13(Sat Jun 13 12:26:38 UTC 2020)\n",
       "(EPL source distribution)\n",
       "Java Runtime: OpenJDK Runtime Environment\n",
       "JVM: OpenJDK 64-Bit Server VM\n",
       "Default Encoding: UTF-8\n",
       "Language: en\n",
       "Country: null\n",
       "--></g></svg>"
      ]
     },
     "execution_count": 50,
     "metadata": {},
     "output_type": "execute_result"
    }
   ],
   "source": [
    "%viz --style=\"TB\" --view=\"MIXED\" \"OccurrenceTest\""
   ]
  },
  {
   "cell_type": "code",
   "execution_count": 51,
   "id": "4ebcd58e",
   "metadata": {
    "execution": {
     "iopub.execute_input": "2022-07-23T10:52:34.476177Z",
     "iopub.status.busy": "2022-07-23T10:52:34.475724Z",
     "iopub.status.idle": "2022-07-23T10:52:34.530197Z",
     "shell.execute_reply": "2022-07-23T10:52:34.529774Z"
    }
   },
   "outputs": [
    {
     "data": {
      "image/svg+xml": [
       "<?xml version=\"1.0\" encoding=\"UTF-8\" standalone=\"no\"?><svg xmlns=\"http://www.w3.org/2000/svg\" xmlns:xlink=\"http://www.w3.org/1999/xlink\" contentScriptType=\"application/ecmascript\" contentStyleType=\"text/css\" height=\"569px\" preserveAspectRatio=\"none\" style=\"width:992px;height:569px;\" version=\"1.1\" viewBox=\"0 0 992 569\" width=\"992px\" zoomAndPan=\"magnify\"><defs/><g><!--MD5=[fbc87193dbaf4d95561dea2c320d4a47]\n",
       "cluster E1--><a href=\"psysml:53f1d42d-2686-4f4b-950f-b84b40bc19b2\" target=\"_top\" title=\"psysml:53f1d42d-2686-4f4b-950f-b84b40bc19b2\" xlink:actuate=\"onRequest\" xlink:href=\"psysml:53f1d42d-2686-4f4b-950f-b84b40bc19b2\" xlink:show=\"new\" xlink:title=\"psysml:53f1d42d-2686-4f4b-950f-b84b40bc19b2\" xlink:type=\"simple\"><polygon fill=\"#FFFFFF\" points=\"16,6,134,6,141,28.2969,970,28.2969,970,557,16,557,16,6\" style=\"stroke: #000000; stroke-width: 1.5;\"/><line style=\"stroke: #000000; stroke-width: 1.5;\" x1=\"16\" x2=\"141\" y1=\"28.2969\" y2=\"28.2969\"/><text fill=\"#000000\" font-family=\"sans-serif\" font-size=\"14\" font-weight=\"bold\" lengthAdjust=\"spacingAndGlyphs\" textLength=\"112\" x=\"20\" y=\"20.9951\">OccurrenceTest</text></a><!--MD5=[b4997ac47864f28c2f74865a473b2911]\n",
       "class E2--><a href=\"psysml:77ba500d-77fd-484e-b411-8833010da35e\" target=\"_top\" title=\"psysml:77ba500d-77fd-484e-b411-8833010da35e\" xlink:actuate=\"onRequest\" xlink:href=\"psysml:77ba500d-77fd-484e-b411-8833010da35e\" xlink:show=\"new\" xlink:title=\"psysml:77ba500d-77fd-484e-b411-8833010da35e\" xlink:type=\"simple\"><rect fill=\"#FFFFFF\" height=\"75.5469\" id=\"E2\" style=\"stroke: #383838; stroke-width: 1.5;\" width=\"115\" x=\"373.5\" y=\"147\"/><text fill=\"#000000\" font-family=\"sans-serif\" font-size=\"12\" font-style=\"italic\" lengthAdjust=\"spacingAndGlyphs\" textLength=\"113\" x=\"374.5\" y=\"163.1387\">«occurrence  def»</text><text fill=\"#000000\" font-family=\"sans-serif\" font-size=\"12\" lengthAdjust=\"spacingAndGlyphs\" textLength=\"23\" x=\"419.5\" y=\"177.1074\">Occ</text><line style=\"stroke: #383838; stroke-width: 1.5;\" x1=\"374.5\" x2=\"487.5\" y1=\"184.9375\" y2=\"184.9375\"/><text fill=\"#000000\" font-family=\"sans-serif\" font-size=\"11\" lengthAdjust=\"spacingAndGlyphs\" textLength=\"7\" x=\"379.5\" y=\"215.9526\">a</text><line style=\"stroke: #383838; stroke-width: 1.0;\" x1=\"374.5\" x2=\"403.5\" y1=\"199.3398\" y2=\"199.3398\"/><text fill=\"#000000\" font-family=\"sans-serif\" font-size=\"11\" lengthAdjust=\"spacingAndGlyphs\" textLength=\"55\" x=\"403.5\" y=\"202.6479\">attributes</text><line style=\"stroke: #383838; stroke-width: 1.0;\" x1=\"458.5\" x2=\"487.5\" y1=\"199.3398\" y2=\"199.3398\"/></a><!--MD5=[09b614a08d8cba4a07c9adeb5e0fee81]\n",
       "class E3--><a href=\"psysml:37011562-c12e-4ce2-bbf9-af5619a300f0\" target=\"_top\" title=\"psysml:37011562-c12e-4ce2-bbf9-af5619a300f0\" xlink:actuate=\"onRequest\" xlink:href=\"psysml:37011562-c12e-4ce2-bbf9-af5619a300f0\" xlink:show=\"new\" xlink:title=\"psysml:37011562-c12e-4ce2-bbf9-af5619a300f0\" xlink:type=\"simple\"><rect fill=\"#FFFFFF\" height=\"45.9375\" id=\"E3\" rx=\"10\" ry=\"10\" style=\"stroke: #383838; stroke-width: 1.5;\" width=\"87\" x=\"279.5\" y=\"283\"/><text fill=\"#000000\" font-family=\"sans-serif\" font-size=\"12\" font-style=\"italic\" lengthAdjust=\"spacingAndGlyphs\" textLength=\"85\" x=\"280.5\" y=\"299.1387\">«occurrence»</text><text fill=\"#000000\" font-family=\"sans-serif\" font-size=\"12\" lengthAdjust=\"spacingAndGlyphs\" textLength=\"61\" x=\"290.5\" y=\"313.1074\">occ1: Occ</text><line style=\"stroke: #383838; stroke-width: 1.5;\" x1=\"280.5\" x2=\"365.5\" y1=\"320.9375\" y2=\"320.9375\"/></a><!--MD5=[ebbe1d658d1005bcc118a6aa81145e00]\n",
       "class E4--><a href=\"psysml:3522e0a2-d0dd-4c95-916a-e9f89fbadd86\" target=\"_top\" title=\"psysml:3522e0a2-d0dd-4c95-916a-e9f89fbadd86\" xlink:actuate=\"onRequest\" xlink:href=\"psysml:3522e0a2-d0dd-4c95-916a-e9f89fbadd86\" xlink:show=\"new\" xlink:title=\"psysml:3522e0a2-d0dd-4c95-916a-e9f89fbadd86\" xlink:type=\"simple\"><rect fill=\"#FFFFFF\" height=\"45.9375\" id=\"E4\" rx=\"10\" ry=\"10\" style=\"stroke: #383838; stroke-width: 1.5;\" width=\"87\" x=\"401.5\" y=\"283\"/><text fill=\"#000000\" font-family=\"sans-serif\" font-size=\"12\" font-style=\"italic\" lengthAdjust=\"spacingAndGlyphs\" textLength=\"85\" x=\"402.5\" y=\"299.1387\">«occurrence»</text><text fill=\"#000000\" font-family=\"sans-serif\" font-size=\"12\" lengthAdjust=\"spacingAndGlyphs\" textLength=\"61\" x=\"412.5\" y=\"313.1074\">occ2: Occ</text><line style=\"stroke: #383838; stroke-width: 1.5;\" x1=\"402.5\" x2=\"487.5\" y1=\"320.9375\" y2=\"320.9375\"/></a><!--MD5=[270fce915f116d4de14055a7c1d9a0f3]\n",
       "class E5--><a href=\"psysml:2ba1b44f-ac88-49ba-a1da-8edc5df2da3a\" target=\"_top\" title=\"psysml:2ba1b44f-ac88-49ba-a1da-8edc5df2da3a\" xlink:actuate=\"onRequest\" xlink:href=\"psysml:2ba1b44f-ac88-49ba-a1da-8edc5df2da3a\" xlink:show=\"new\" xlink:title=\"psysml:2ba1b44f-ac88-49ba-a1da-8edc5df2da3a\" xlink:type=\"simple\"><rect fill=\"#FFFFFF\" height=\"45.9375\" id=\"E5\" rx=\"10\" ry=\"10\" style=\"stroke: #383838; stroke-width: 1.5;\" width=\"212\" x=\"524\" y=\"283\"/><text fill=\"#000000\" font-family=\"sans-serif\" font-size=\"12\" font-style=\"italic\" lengthAdjust=\"spacingAndGlyphs\" textLength=\"210\" x=\"525\" y=\"299.1387\">«individual snapshot occurrence»</text><text fill=\"#000000\" font-family=\"sans-serif\" font-size=\"12\" lengthAdjust=\"spacingAndGlyphs\" textLength=\"34\" x=\"611\" y=\"313.1074\">s: Ind</text><line style=\"stroke: #383838; stroke-width: 1.5;\" x1=\"525\" x2=\"735\" y1=\"320.9375\" y2=\"320.9375\"/></a><!--MD5=[60a26617385b1d2d0262a64233df1f8d]\n",
       "class E6--><a href=\"psysml:aefaf76d-f241-48e8-80ea-b99598299972\" target=\"_top\" title=\"psysml:aefaf76d-f241-48e8-80ea-b99598299972\" xlink:actuate=\"onRequest\" xlink:href=\"psysml:aefaf76d-f241-48e8-80ea-b99598299972\" xlink:show=\"new\" xlink:title=\"psysml:aefaf76d-f241-48e8-80ea-b99598299972\" xlink:type=\"simple\"><rect fill=\"#FFFFFF\" height=\"45.9375\" id=\"E6\" rx=\"10\" ry=\"10\" style=\"stroke: #383838; stroke-width: 1.5;\" width=\"146\" x=\"771\" y=\"283\"/><text fill=\"#000000\" font-family=\"sans-serif\" font-size=\"12\" font-style=\"italic\" lengthAdjust=\"spacingAndGlyphs\" textLength=\"144\" x=\"772\" y=\"299.1387\">«timeslice occurrence»</text><text fill=\"#000000\" font-family=\"sans-serif\" font-size=\"12\" lengthAdjust=\"spacingAndGlyphs\" textLength=\"5\" x=\"839.5\" y=\"313.1074\">t</text><line style=\"stroke: #383838; stroke-width: 1.5;\" x1=\"772\" x2=\"916\" y1=\"320.9375\" y2=\"320.9375\"/></a><!--MD5=[2156ba9850f5573cc1fc38a6a4b2f02b]\n",
       "class E7--><a href=\"psysml:991e81ed-291b-4563-955c-44288cc9fc81\" target=\"_top\" title=\"psysml:991e81ed-291b-4563-955c-44288cc9fc81\" xlink:actuate=\"onRequest\" xlink:href=\"psysml:991e81ed-291b-4563-955c-44288cc9fc81\" xlink:show=\"new\" xlink:title=\"psysml:991e81ed-291b-4563-955c-44288cc9fc81\" xlink:type=\"simple\"><rect fill=\"#FFFFFF\" height=\"45.9375\" id=\"E7\" style=\"stroke: #383838; stroke-width: 1.5;\" width=\"177\" x=\"541.5\" y=\"389\"/><text fill=\"#000000\" font-family=\"sans-serif\" font-size=\"12\" font-style=\"italic\" lengthAdjust=\"spacingAndGlyphs\" textLength=\"175\" x=\"542.5\" y=\"405.1387\">«individual occurrence  def»</text><text fill=\"#000000\" font-family=\"sans-serif\" font-size=\"12\" lengthAdjust=\"spacingAndGlyphs\" textLength=\"19\" x=\"620.5\" y=\"419.1074\">Ind</text><line style=\"stroke: #383838; stroke-width: 1.5;\" x1=\"542.5\" x2=\"717.5\" y1=\"426.9375\" y2=\"426.9375\"/></a><!--MD5=[b9389687b975829384b498ac4b7476b2]\n",
       "class E8--><a href=\"psysml:fb7dbc0d-a670-4e6d-a2b6-24a9a70c023a\" target=\"_top\" title=\"psysml:fb7dbc0d-a670-4e6d-a2b6-24a9a70c023a\" xlink:actuate=\"onRequest\" xlink:href=\"psysml:fb7dbc0d-a670-4e6d-a2b6-24a9a70c023a\" xlink:show=\"new\" xlink:title=\"psysml:fb7dbc0d-a670-4e6d-a2b6-24a9a70c023a\" xlink:type=\"simple\"><rect fill=\"#FFFFFF\" height=\"45.9375\" id=\"E8\" rx=\"10\" ry=\"10\" style=\"stroke: #383838; stroke-width: 1.5;\" width=\"150\" x=\"463\" y=\"495\"/><text fill=\"#000000\" font-family=\"sans-serif\" font-size=\"12\" font-style=\"italic\" lengthAdjust=\"spacingAndGlyphs\" textLength=\"148\" x=\"464\" y=\"511.1387\">«snapshot occurrence»</text><text fill=\"#000000\" font-family=\"sans-serif\" font-size=\"12\" lengthAdjust=\"spacingAndGlyphs\" textLength=\"15\" x=\"528.5\" y=\"525.1074\">s2</text><line style=\"stroke: #383838; stroke-width: 1.5;\" x1=\"464\" x2=\"612\" y1=\"532.9375\" y2=\"532.9375\"/></a><!--MD5=[fd4143e9d270a159db93a4ea2a975926]\n",
       "class E9--><a href=\"psysml:ae0fd4ea-8dc7-4cb0-a32c-5615a8f756eb\" target=\"_top\" title=\"psysml:ae0fd4ea-8dc7-4cb0-a32c-5615a8f756eb\" xlink:actuate=\"onRequest\" xlink:href=\"psysml:ae0fd4ea-8dc7-4cb0-a32c-5615a8f756eb\" xlink:show=\"new\" xlink:title=\"psysml:ae0fd4ea-8dc7-4cb0-a32c-5615a8f756eb\" xlink:type=\"simple\"><rect fill=\"#FFFFFF\" height=\"45.9375\" id=\"E9\" rx=\"10\" ry=\"10\" style=\"stroke: #383838; stroke-width: 1.5;\" width=\"146\" x=\"648\" y=\"495\"/><text fill=\"#000000\" font-family=\"sans-serif\" font-size=\"12\" font-style=\"italic\" lengthAdjust=\"spacingAndGlyphs\" textLength=\"144\" x=\"649\" y=\"511.1387\">«timeslice occurrence»</text><text fill=\"#000000\" font-family=\"sans-serif\" font-size=\"12\" lengthAdjust=\"spacingAndGlyphs\" textLength=\"13\" x=\"712.5\" y=\"525.1074\">t2</text><line style=\"stroke: #383838; stroke-width: 1.5;\" x1=\"649\" x2=\"793\" y1=\"532.9375\" y2=\"532.9375\"/></a><!--MD5=[96f4274e9e20536e775497830990834d]\n",
       "class E10--><a href=\"psysml:90168d9a-6358-4939-88d7-8ec9974b52c6\" target=\"_top\" title=\"psysml:90168d9a-6358-4939-88d7-8ec9974b52c6\" xlink:actuate=\"onRequest\" xlink:href=\"psysml:90168d9a-6358-4939-88d7-8ec9974b52c6\" xlink:show=\"new\" xlink:title=\"psysml:90168d9a-6358-4939-88d7-8ec9974b52c6\" xlink:type=\"simple\"><rect fill=\"#FFFFFF\" height=\"45.9375\" id=\"E10\" rx=\"10\" ry=\"10\" style=\"stroke: #383838; stroke-width: 1.5;\" width=\"149\" x=\"505.5\" y=\"41\"/><text fill=\"#000000\" font-family=\"sans-serif\" font-size=\"12\" font-style=\"italic\" lengthAdjust=\"spacingAndGlyphs\" textLength=\"147\" x=\"506.5\" y=\"57.1387\">«individual occurrence»</text><text fill=\"#000000\" font-family=\"sans-serif\" font-size=\"12\" lengthAdjust=\"spacingAndGlyphs\" textLength=\"77\" x=\"539.5\" y=\"71.1074\">ind: Ind, Occ</text><line style=\"stroke: #383838; stroke-width: 1.5;\" x1=\"506.5\" x2=\"653.5\" y1=\"78.9375\" y2=\"78.9375\"/></a><!--MD5=[1dd1bfd58a279cf63c5f349dbc8fc6a1]\n",
       "class E11--><a href=\"psysml:d0eba55f-a402-4b22-88ba-9857d6bd50ac\" target=\"_top\" title=\"psysml:d0eba55f-a402-4b22-88ba-9857d6bd50ac\" xlink:actuate=\"onRequest\" xlink:href=\"psysml:d0eba55f-a402-4b22-88ba-9857d6bd50ac\" xlink:show=\"new\" xlink:title=\"psysml:d0eba55f-a402-4b22-88ba-9857d6bd50ac\" xlink:type=\"simple\"><rect fill=\"#FFFFFF\" height=\"45.9375\" id=\"E11\" rx=\"10\" ry=\"10\" style=\"stroke: #383838; stroke-width: 1.5;\" width=\"150\" x=\"561\" y=\"162\"/><text fill=\"#000000\" font-family=\"sans-serif\" font-size=\"12\" font-style=\"italic\" lengthAdjust=\"spacingAndGlyphs\" textLength=\"148\" x=\"562\" y=\"178.1387\">«snapshot occurrence»</text><text fill=\"#000000\" font-family=\"sans-serif\" font-size=\"12\" lengthAdjust=\"spacingAndGlyphs\" textLength=\"15\" x=\"626.5\" y=\"192.1074\">s3</text><line style=\"stroke: #383838; stroke-width: 1.5;\" x1=\"562\" x2=\"710\" y1=\"199.9375\" y2=\"199.9375\"/></a><!--MD5=[49a0ec8f00dab7302a31f22d0f0fe584]\n",
       "class E12--><a href=\"psysml:0232df4f-93e4-4add-8902-f942e03a0634\" target=\"_top\" title=\"psysml:0232df4f-93e4-4add-8902-f942e03a0634\" xlink:actuate=\"onRequest\" xlink:href=\"psysml:0232df4f-93e4-4add-8902-f942e03a0634\" xlink:show=\"new\" xlink:title=\"psysml:0232df4f-93e4-4add-8902-f942e03a0634\" xlink:type=\"simple\"><rect fill=\"#FFFFFF\" height=\"45.9375\" id=\"E12\" rx=\"10\" ry=\"10\" style=\"stroke: #383838; stroke-width: 1.5;\" width=\"208\" x=\"746\" y=\"162\"/><text fill=\"#000000\" font-family=\"sans-serif\" font-size=\"12\" font-style=\"italic\" lengthAdjust=\"spacingAndGlyphs\" textLength=\"206\" x=\"747\" y=\"178.1387\">«individual timeslice occurrence»</text><text fill=\"#000000\" font-family=\"sans-serif\" font-size=\"12\" lengthAdjust=\"spacingAndGlyphs\" textLength=\"13\" x=\"841.5\" y=\"192.1074\">t3</text><line style=\"stroke: #383838; stroke-width: 1.5;\" x1=\"747\" x2=\"953\" y1=\"199.9375\" y2=\"199.9375\"/></a><!--MD5=[ee3c913d1a06f366521f9ef512b67efe]\n",
       "class E13--><a href=\"psysml:5cbde71f-e2d0-40cd-91ed-92f5bc776eb7\" target=\"_top\" title=\"psysml:5cbde71f-e2d0-40cd-91ed-92f5bc776eb7\" xlink:actuate=\"onRequest\" xlink:href=\"psysml:5cbde71f-e2d0-40cd-91ed-92f5bc776eb7\" xlink:show=\"new\" xlink:title=\"psysml:5cbde71f-e2d0-40cd-91ed-92f5bc776eb7\" xlink:type=\"simple\"><rect fill=\"#FFFFFF\" height=\"45.9375\" id=\"E13\" rx=\"10\" ry=\"10\" style=\"stroke: #383838; stroke-width: 1.5;\" width=\"212\" x=\"32\" y=\"283\"/><text fill=\"#000000\" font-family=\"sans-serif\" font-size=\"12\" font-style=\"italic\" lengthAdjust=\"spacingAndGlyphs\" textLength=\"210\" x=\"33\" y=\"299.1387\">«individual snapshot occurrence»</text><text fill=\"#000000\" font-family=\"sans-serif\" font-size=\"12\" lengthAdjust=\"spacingAndGlyphs\" textLength=\"42\" x=\"115\" y=\"313.1074\">s4: Ind</text><line style=\"stroke: #383838; stroke-width: 1.5;\" x1=\"33\" x2=\"243\" y1=\"320.9375\" y2=\"320.9375\"/></a><!--MD5=[209b3feb70ccb6233bfe1053d122c12c]\n",
       "reverse link E2 to E3--><a href=\"psysml:111e77a4-44f2-45ac-862d-a1e02a1cad26\" target=\"_top\" title=\"psysml:111e77a4-44f2-45ac-862d-a1e02a1cad26\" xlink:actuate=\"onRequest\" xlink:href=\"psysml:111e77a4-44f2-45ac-862d-a1e02a1cad26\" xlink:show=\"new\" xlink:title=\"psysml:111e77a4-44f2-45ac-862d-a1e02a1cad26\" xlink:type=\"simple\"><path d=\"M382.83,236.28 C382.83,236.28 382.83,299 382.83,299 C382.83,299 375.92,299 366.8,299 \" fill=\"none\" id=\"E2&lt;-E3\" style=\"stroke: #383838; stroke-width: 1.0;\"/><polygon fill=\"#FFFFFF\" points=\"382.83,223.28,378.83,229.28,382.83,235.28,386.83,229.28,382.83,223.28\" style=\"stroke: #383838; stroke-width: 1.0;\"/></a><!--MD5=[05d275557350bfb9b23a4ef7222b4c39]\n",
       "link E3 to E2--><a href=\"psysml:0f45e557-8f0e-4df9-b1d8-28bd2526f5a3\" target=\"_top\" title=\"psysml:0f45e557-8f0e-4df9-b1d8-28bd2526f5a3\" xlink:actuate=\"onRequest\" xlink:href=\"psysml:0f45e557-8f0e-4df9-b1d8-28bd2526f5a3\" xlink:show=\"new\" xlink:title=\"psysml:0f45e557-8f0e-4df9-b1d8-28bd2526f5a3\" xlink:type=\"simple\"><path d=\"M366.8,314 C380.53,314 392.17,314 392.17,314 C392.17,314 392.17,243.01 392.17,243.01 \" fill=\"none\" id=\"E3-&gt;E2\" style=\"stroke: #383838; stroke-width: 1.0;\"/><polygon fill=\"#FFFFFF\" points=\"392.17,223.01,399.17,242.01,385.17,242.01,392.17,223.01\" style=\"stroke: #383838; stroke-width: 1.0;\"/><ellipse cx=\"397.17\" cy=\"247.71\" fill=\"#383838\" rx=\"2\" ry=\"2\" style=\"stroke: #383838; stroke-width: 1.0;\"/><ellipse cx=\"387.17\" cy=\"247.71\" fill=\"#383838\" rx=\"2\" ry=\"2\" style=\"stroke: #383838; stroke-width: 1.0;\"/></a><!--MD5=[9618e71518536f8baf3342ff6fdab317]\n",
       "reverse link E2 to E4--><a href=\"psysml:7f5381ff-79d6-4175-8599-1b084d5a38fb\" target=\"_top\" title=\"psysml:7f5381ff-79d6-4175-8599-1b084d5a38fb\" xlink:actuate=\"onRequest\" xlink:href=\"psysml:7f5381ff-79d6-4175-8599-1b084d5a38fb\" xlink:show=\"new\" xlink:title=\"psysml:7f5381ff-79d6-4175-8599-1b084d5a38fb\" xlink:type=\"simple\"><path d=\"M430.5,236.29 C430.5,236.29 430.5,282.74 430.5,282.74 \" fill=\"none\" id=\"E2&lt;-E4\" style=\"stroke: #383838; stroke-width: 1.0;\"/><polygon fill=\"#383838\" points=\"430.5,223.29,426.5,229.29,430.5,235.29,434.5,229.29,430.5,223.29\" style=\"stroke: #383838; stroke-width: 1.0;\"/></a><!--MD5=[185131fc0dcab0a4505a2ebe144e961b]\n",
       "link E4 to E2--><a href=\"psysml:9af83ecd-fc65-4272-8374-c2ac75a0337a\" target=\"_top\" title=\"psysml:9af83ecd-fc65-4272-8374-c2ac75a0337a\" xlink:actuate=\"onRequest\" xlink:href=\"psysml:9af83ecd-fc65-4272-8374-c2ac75a0337a\" xlink:show=\"new\" xlink:title=\"psysml:9af83ecd-fc65-4272-8374-c2ac75a0337a\" xlink:type=\"simple\"><path d=\"M459.5,282.96 C459.5,282.96 459.5,243.19 459.5,243.19 \" fill=\"none\" id=\"E4-&gt;E2\" style=\"stroke: #383838; stroke-width: 1.0;\"/><polygon fill=\"#FFFFFF\" points=\"459.5,223.19,466.5,242.19,452.5,242.19,459.5,223.19\" style=\"stroke: #383838; stroke-width: 1.0;\"/><ellipse cx=\"464.5\" cy=\"247.89\" fill=\"#383838\" rx=\"2\" ry=\"2\" style=\"stroke: #383838; stroke-width: 1.0;\"/><ellipse cx=\"454.5\" cy=\"247.89\" fill=\"#383838\" rx=\"2\" ry=\"2\" style=\"stroke: #383838; stroke-width: 1.0;\"/></a><!--MD5=[4e1a83fab71cdb913c109063314ae896]\n",
       "reverse link E2 to E5--><a href=\"psysml:648e9e41-ac7c-450e-af70-439d81f3f540\" target=\"_top\" title=\"psysml:648e9e41-ac7c-450e-af70-439d81f3f540\" xlink:actuate=\"onRequest\" xlink:href=\"psysml:648e9e41-ac7c-450e-af70-439d81f3f540\" xlink:show=\"new\" xlink:title=\"psysml:648e9e41-ac7c-450e-af70-439d81f3f540\" xlink:type=\"simple\"><path d=\"M501.71,218 C501.71,218 542.5,218 542.5,218 C542.5,218 542.5,256.81 542.5,282.88 \" fill=\"none\" id=\"E2&lt;-E5\" style=\"stroke: #383838; stroke-width: 1.0;\"/><polygon fill=\"#383838\" points=\"488.71,218,494.71,222,500.71,218,494.71,214,488.71,218\" style=\"stroke: #383838; stroke-width: 1.0;\"/></a><!--MD5=[ce036f65110ae2351ccce5a81dc2e928]\n",
       "reverse link E2 to E6--><a href=\"psysml:00b8b9a4-593e-406d-b505-212ff2a7c9c1\" target=\"_top\" title=\"psysml:00b8b9a4-593e-406d-b505-212ff2a7c9c1\" xlink:actuate=\"onRequest\" xlink:href=\"psysml:00b8b9a4-593e-406d-b505-212ff2a7c9c1\" xlink:show=\"new\" xlink:title=\"psysml:00b8b9a4-593e-406d-b505-212ff2a7c9c1\" xlink:type=\"simple\"><path d=\"M501.86,213 C501.86,213 844,213 844,213 C844,213 844,254.98 844,282.53 \" fill=\"none\" id=\"E2&lt;-E6\" style=\"stroke: #383838; stroke-width: 1.0;\"/><polygon fill=\"#383838\" points=\"488.86,213,494.86,217,500.86,213,494.86,209,488.86,213\" style=\"stroke: #383838; stroke-width: 1.0;\"/></a><!--MD5=[3a9b96bfbf6b6ad89c494e81751bda47]\n",
       "link E5 to E7--><a href=\"psysml:088b8ee7-f1bc-4574-b816-43bcf4f14b77\" target=\"_top\" title=\"psysml:088b8ee7-f1bc-4574-b816-43bcf4f14b77\" xlink:actuate=\"onRequest\" xlink:href=\"psysml:088b8ee7-f1bc-4574-b816-43bcf4f14b77\" xlink:show=\"new\" xlink:title=\"psysml:088b8ee7-f1bc-4574-b816-43bcf4f14b77\" xlink:type=\"simple\"><path d=\"M630,329 C630,329 630,368.68 630,368.68 \" fill=\"none\" id=\"E5-&gt;E7\" style=\"stroke: #383838; stroke-width: 1.0;\"/><polygon fill=\"#FFFFFF\" points=\"630,388.68,623,369.68,637,369.68,630,388.68\" style=\"stroke: #383838; stroke-width: 1.0;\"/><ellipse cx=\"625\" cy=\"363.98\" fill=\"#383838\" rx=\"2\" ry=\"2\" style=\"stroke: #383838; stroke-width: 1.0;\"/><ellipse cx=\"635\" cy=\"363.98\" fill=\"#383838\" rx=\"2\" ry=\"2\" style=\"stroke: #383838; stroke-width: 1.0;\"/></a><!--MD5=[dc164f5e8a733ab456ef1add180e9e34]\n",
       "reverse link E7 to E8--><a href=\"psysml:c8813ef9-ffa9-4c9d-80a4-dd20f6c80ea5\" target=\"_top\" title=\"psysml:c8813ef9-ffa9-4c9d-80a4-dd20f6c80ea5\" xlink:actuate=\"onRequest\" xlink:href=\"psysml:c8813ef9-ffa9-4c9d-80a4-dd20f6c80ea5\" xlink:show=\"new\" xlink:title=\"psysml:c8813ef9-ffa9-4c9d-80a4-dd20f6c80ea5\" xlink:type=\"simple\"><path d=\"M577.25,448 C577.25,448 577.25,494.68 577.25,494.68 \" fill=\"none\" id=\"E7&lt;-E8\" style=\"stroke: #383838; stroke-width: 1.0;\"/><polygon fill=\"#383838\" points=\"577.25,435,573.25,441,577.25,447,581.25,441,577.25,435\" style=\"stroke: #383838; stroke-width: 1.0;\"/></a><!--MD5=[e4a10ef82d0e328e31cac39a31e58dda]\n",
       "reverse link E7 to E9--><a href=\"psysml:cdca8d7c-6aa5-4fff-9e0e-900e3ba85343\" target=\"_top\" title=\"psysml:cdca8d7c-6aa5-4fff-9e0e-900e3ba85343\" xlink:actuate=\"onRequest\" xlink:href=\"psysml:cdca8d7c-6aa5-4fff-9e0e-900e3ba85343\" xlink:show=\"new\" xlink:title=\"psysml:cdca8d7c-6aa5-4fff-9e0e-900e3ba85343\" xlink:type=\"simple\"><path d=\"M683.25,448 C683.25,448 683.25,494.68 683.25,494.68 \" fill=\"none\" id=\"E7&lt;-E9\" style=\"stroke: #383838; stroke-width: 1.0;\"/><polygon fill=\"#383838\" points=\"683.25,435,679.25,441,683.25,447,687.25,441,683.25,435\" style=\"stroke: #383838; stroke-width: 1.0;\"/></a><!--MD5=[a919e0967d6f3de553dc51b9865a1d6d]\n",
       "link E10 to E7--><a href=\"psysml:43f26010-ca40-42d6-8df0-e4847d82fc63\" target=\"_top\" title=\"psysml:43f26010-ca40-42d6-8df0-e4847d82fc63\" xlink:actuate=\"onRequest\" xlink:href=\"psysml:43f26010-ca40-42d6-8df0-e4847d82fc63\" xlink:show=\"new\" xlink:title=\"psysml:43f26010-ca40-42d6-8df0-e4847d82fc63\" xlink:type=\"simple\"><path d=\"M517.83,87.17 C517.83,163.92 517.83,405 517.83,405 C517.83,405 521.35,405 521.35,405 \" fill=\"none\" id=\"E10-&gt;E7\" style=\"stroke: #383838; stroke-width: 1.0;\"/><polygon fill=\"#FFFFFF\" points=\"541.35,405,522.35,412,522.35,398,541.35,405\" style=\"stroke: #383838; stroke-width: 1.0;\"/><ellipse cx=\"516.65\" cy=\"410\" fill=\"#383838\" rx=\"2\" ry=\"2\" style=\"stroke: #383838; stroke-width: 1.0;\"/><ellipse cx=\"516.65\" cy=\"400\" fill=\"#383838\" rx=\"2\" ry=\"2\" style=\"stroke: #383838; stroke-width: 1.0;\"/></a><!--MD5=[0f36bececdf0dff6e600d6f64214b0f1]\n",
       "link E10 to E2--><a href=\"psysml:ac89f7fb-b091-4bc7-aaea-6377fc157ffe\" target=\"_top\" title=\"psysml:ac89f7fb-b091-4bc7-aaea-6377fc157ffe\" xlink:actuate=\"onRequest\" xlink:href=\"psysml:ac89f7fb-b091-4bc7-aaea-6377fc157ffe\" xlink:show=\"new\" xlink:title=\"psysml:ac89f7fb-b091-4bc7-aaea-6377fc157ffe\" xlink:type=\"simple\"><path d=\"M511.67,87.43 C511.67,114.4 511.67,155 511.67,155 C511.67,155 508.77,155 508.77,155 \" fill=\"none\" id=\"E10-&gt;E2\" style=\"stroke: #383838; stroke-width: 1.0;\"/><polygon fill=\"#FFFFFF\" points=\"488.77,155,507.77,148,507.77,162,488.77,155\" style=\"stroke: #383838; stroke-width: 1.0;\"/><ellipse cx=\"513.47\" cy=\"150\" fill=\"#383838\" rx=\"2\" ry=\"2\" style=\"stroke: #383838; stroke-width: 1.0;\"/><ellipse cx=\"513.47\" cy=\"160\" fill=\"#383838\" rx=\"2\" ry=\"2\" style=\"stroke: #383838; stroke-width: 1.0;\"/></a><!--MD5=[de308be4a2431766a05a907a031c07fc]\n",
       "reverse link E10 to E11--><a href=\"psysml:75c081c5-05e2-401c-b103-d900689a3a49\" target=\"_top\" title=\"psysml:75c081c5-05e2-401c-b103-d900689a3a49\" xlink:actuate=\"onRequest\" xlink:href=\"psysml:75c081c5-05e2-401c-b103-d900689a3a49\" xlink:show=\"new\" xlink:title=\"psysml:75c081c5-05e2-401c-b103-d900689a3a49\" xlink:type=\"simple\"><path d=\"M607.75,100.04 C607.75,100.04 607.75,161.63 607.75,161.63 \" fill=\"none\" id=\"E10&lt;-E11\" style=\"stroke: #383838; stroke-width: 1.0;\"/><polygon fill=\"#383838\" points=\"607.75,87.04,603.75,93.04,607.75,99.04,611.75,93.04,607.75,87.04\" style=\"stroke: #383838; stroke-width: 1.0;\"/></a><!--MD5=[1d54f998c6d5961a1a9184be73a7eb6c]\n",
       "reverse link E10 to E12--><a href=\"psysml:54130436-8b1f-4706-a610-d99b2d4cb5d4\" target=\"_top\" title=\"psysml:54130436-8b1f-4706-a610-d99b2d4cb5d4\" xlink:actuate=\"onRequest\" xlink:href=\"psysml:54130436-8b1f-4706-a610-d99b2d4cb5d4\" xlink:show=\"new\" xlink:title=\"psysml:54130436-8b1f-4706-a610-d99b2d4cb5d4\" xlink:type=\"simple\"><path d=\"M667.85,64 C667.85,64 850,64 850,64 C850,64 850,126.85 850,161.96 \" fill=\"none\" id=\"E10&lt;-E12\" style=\"stroke: #383838; stroke-width: 1.0;\"/><polygon fill=\"#383838\" points=\"654.85,64,660.85,68,666.85,64,660.85,60,654.85,64\" style=\"stroke: #383838; stroke-width: 1.0;\"/></a><!--MD5=[4a48077df6499cfcd20b62e8f5f37904]\n",
       "link E13 to E7--><a href=\"psysml:85f16706-e1b7-404d-9ee5-57d420bfb7f2\" target=\"_top\" title=\"psysml:85f16706-e1b7-404d-9ee5-57d420bfb7f2\" xlink:actuate=\"onRequest\" xlink:href=\"psysml:85f16706-e1b7-404d-9ee5-57d420bfb7f2\" xlink:show=\"new\" xlink:title=\"psysml:85f16706-e1b7-404d-9ee5-57d420bfb7f2\" xlink:type=\"simple\"><path d=\"M138,329.07 C138,362.38 138,420 138,420 C138,420 521.47,420 521.47,420 \" fill=\"none\" id=\"E13-&gt;E7\" style=\"stroke: #383838; stroke-width: 1.0;\"/><polygon fill=\"#FFFFFF\" points=\"541.47,420,522.47,427,522.47,413,541.47,420\" style=\"stroke: #383838; stroke-width: 1.0;\"/><ellipse cx=\"516.77\" cy=\"425\" fill=\"#383838\" rx=\"2\" ry=\"2\" style=\"stroke: #383838; stroke-width: 1.0;\"/><ellipse cx=\"516.77\" cy=\"415\" fill=\"#383838\" rx=\"2\" ry=\"2\" style=\"stroke: #383838; stroke-width: 1.0;\"/></a><!--MD5=[f79737263538d00530522edbd7f391b7]\n",
       "@startuml\r\n",
       "skinparam linetype ortho\r\n",
       "skinparam monochrome true\r\n",
       "skinparam classbackgroundcolor white\r\n",
       "skinparam shadowing false\r\n",
       "skinparam wrapWidth 300\r\n",
       "hide circle\r\n",
       "\r\n",
       "package \"OccurrenceTest\" as E1  [[psysml:53f1d42d-2686-4f4b-950f-b84b40bc19b2 ]]  {\r\n",
       "comp def \"Occ\" as E2  <<(T,blue) occurrence  def>> [[psysml:77ba500d-77fd-484e-b411-8833010da35e ]] {\r\n",
       "- - attributes - -\r\n",
       "a\r\n",
       "}\r\n",
       "comp usage \"occ1: Occ \" as E3  <<(T,blue) occurrence>> [[psysml:37011562-c12e-4ce2-bbf9-af5619a300f0 ]] {\r\n",
       "}\r\n",
       "comp usage \"occ2: Occ \" as E4  <<(T,blue) occurrence>> [[psysml:3522e0a2-d0dd-4c95-916a-e9f89fbadd86 ]] {\r\n",
       "}\r\n",
       "comp usage \"s: Ind \" as E5  <<(T,blue) individual snapshot occurrence>> [[psysml:2ba1b44f-ac88-49ba-a1da-8edc5df2da3a ]] {\r\n",
       "}\r\n",
       "comp usage \"t \" as E6  <<(T,blue) timeslice occurrence>> [[psysml:aefaf76d-f241-48e8-80ea-b99598299972 ]] {\r\n",
       "}\r\n",
       "comp def \"Ind\" as E7  <<(T,blue) individual occurrence  def>> [[psysml:991e81ed-291b-4563-955c-44288cc9fc81 ]] {\r\n",
       "}\r\n",
       "comp usage \"s2 \" as E8  <<(T,blue) snapshot occurrence>> [[psysml:fb7dbc0d-a670-4e6d-a2b6-24a9a70c023a ]] {\r\n",
       "}\r\n",
       "comp usage \"t2 \" as E9  <<(T,blue) timeslice occurrence>> [[psysml:ae0fd4ea-8dc7-4cb0-a32c-5615a8f756eb ]] {\r\n",
       "}\r\n",
       "comp usage \"ind: Ind, Occ \" as E10  <<(T,blue) individual occurrence>> [[psysml:90168d9a-6358-4939-88d7-8ec9974b52c6 ]] {\r\n",
       "}\r\n",
       "comp usage \"s3 \" as E11  <<(T,blue) snapshot occurrence>> [[psysml:d0eba55f-a402-4b22-88ba-9857d6bd50ac ]] {\r\n",
       "}\r\n",
       "comp usage \"t3 \" as E12  <<(T,blue) individual timeslice occurrence>> [[psysml:0232df4f-93e4-4add-8902-f942e03a0634 ]] {\r\n",
       "}\r\n",
       "comp usage \"s4: Ind \" as E13  <<(T,blue) individual snapshot occurrence>> [[psysml:5cbde71f-e2d0-40cd-91ed-92f5bc776eb7 ]] {\r\n",
       "}\r\n",
       "}\r\n",
       "E2 o- - E3 [[psysml:111e77a4-44f2-45ac-862d-a1e02a1cad26 ]] \r\n",
       "E3 - -:|> E2 [[psysml:0f45e557-8f0e-4df9-b1d8-28bd2526f5a3 ]] \r\n",
       "E2 *- - E4 [[psysml:7f5381ff-79d6-4175-8599-1b084d5a38fb ]] \r\n",
       "E4 - -:|> E2 [[psysml:9af83ecd-fc65-4272-8374-c2ac75a0337a ]] \r\n",
       "E2 *- - E5 [[psysml:648e9e41-ac7c-450e-af70-439d81f3f540 ]] \r\n",
       "E2 *- - E6 [[psysml:00b8b9a4-593e-406d-b505-212ff2a7c9c1 ]] \r\n",
       "E5 - -:|> E7 [[psysml:088b8ee7-f1bc-4574-b816-43bcf4f14b77 ]] \r\n",
       "E7 *- - E8 [[psysml:c8813ef9-ffa9-4c9d-80a4-dd20f6c80ea5 ]] \r\n",
       "E7 *- - E9 [[psysml:cdca8d7c-6aa5-4fff-9e0e-900e3ba85343 ]] \r\n",
       "E10 - -:|> E7 [[psysml:43f26010-ca40-42d6-8df0-e4847d82fc63 ]] \r\n",
       "E10 - -:|> E2 [[psysml:ac89f7fb-b091-4bc7-aaea-6377fc157ffe ]] \r\n",
       "E10 *- - E11 [[psysml:75c081c5-05e2-401c-b103-d900689a3a49 ]] \r\n",
       "E10 *- - E12 [[psysml:54130436-8b1f-4706-a610-d99b2d4cb5d4 ]] \r\n",
       "E13 - -:|> E7 [[psysml:85f16706-e1b7-404d-9ee5-57d420bfb7f2 ]] \r\n",
       "@enduml\r\n",
       "\n",
       "PlantUML version 1.2020.13(Sat Jun 13 12:26:38 UTC 2020)\n",
       "(EPL source distribution)\n",
       "Java Runtime: OpenJDK Runtime Environment\n",
       "JVM: OpenJDK 64-Bit Server VM\n",
       "Default Encoding: UTF-8\n",
       "Language: en\n",
       "Country: null\n",
       "--></g></svg>"
      ]
     },
     "execution_count": 51,
     "metadata": {},
     "output_type": "execute_result"
    }
   ],
   "source": [
    "%viz --style=\"ORTHOLINE\" --view=\"Default\" \"OccurrenceTest\""
   ]
  },
  {
   "cell_type": "code",
   "execution_count": 52,
   "id": "8c73bdd4",
   "metadata": {
    "execution": {
     "iopub.execute_input": "2022-07-23T10:52:34.579416Z",
     "iopub.status.busy": "2022-07-23T10:52:34.578966Z",
     "iopub.status.idle": "2022-07-23T10:52:34.629838Z",
     "shell.execute_reply": "2022-07-23T10:52:34.629434Z"
    }
   },
   "outputs": [
    {
     "data": {
      "image/svg+xml": [
       "<?xml version=\"1.0\" encoding=\"UTF-8\" standalone=\"no\"?><svg xmlns=\"http://www.w3.org/2000/svg\" xmlns:xlink=\"http://www.w3.org/1999/xlink\" contentScriptType=\"application/ecmascript\" contentStyleType=\"text/css\" height=\"569px\" preserveAspectRatio=\"none\" style=\"width:992px;height:569px;\" version=\"1.1\" viewBox=\"0 0 992 569\" width=\"992px\" zoomAndPan=\"magnify\"><defs/><g><!--MD5=[fbc87193dbaf4d95561dea2c320d4a47]\n",
       "cluster E1--><a href=\"psysml:53f1d42d-2686-4f4b-950f-b84b40bc19b2\" target=\"_top\" title=\"psysml:53f1d42d-2686-4f4b-950f-b84b40bc19b2\" xlink:actuate=\"onRequest\" xlink:href=\"psysml:53f1d42d-2686-4f4b-950f-b84b40bc19b2\" xlink:show=\"new\" xlink:title=\"psysml:53f1d42d-2686-4f4b-950f-b84b40bc19b2\" xlink:type=\"simple\"><polygon fill=\"#FFFFFF\" points=\"16,6,134,6,141,28.2969,970,28.2969,970,557,16,557,16,6\" style=\"stroke: #000000; stroke-width: 1.5;\"/><line style=\"stroke: #000000; stroke-width: 1.5;\" x1=\"16\" x2=\"141\" y1=\"28.2969\" y2=\"28.2969\"/><text fill=\"#000000\" font-family=\"sans-serif\" font-size=\"14\" font-weight=\"bold\" lengthAdjust=\"spacingAndGlyphs\" textLength=\"112\" x=\"20\" y=\"20.9951\">OccurrenceTest</text></a><!--MD5=[b4997ac47864f28c2f74865a473b2911]\n",
       "class E2--><a href=\"psysml:77ba500d-77fd-484e-b411-8833010da35e\" target=\"_top\" title=\"psysml:77ba500d-77fd-484e-b411-8833010da35e\" xlink:actuate=\"onRequest\" xlink:href=\"psysml:77ba500d-77fd-484e-b411-8833010da35e\" xlink:show=\"new\" xlink:title=\"psysml:77ba500d-77fd-484e-b411-8833010da35e\" xlink:type=\"simple\"><rect fill=\"#FFFFFF\" height=\"75.5469\" id=\"E2\" style=\"stroke: #383838; stroke-width: 1.5;\" width=\"115\" x=\"373.5\" y=\"147\"/><text fill=\"#000000\" font-family=\"sans-serif\" font-size=\"12\" font-style=\"italic\" lengthAdjust=\"spacingAndGlyphs\" textLength=\"113\" x=\"374.5\" y=\"163.1387\">«occurrence  def»</text><text fill=\"#000000\" font-family=\"sans-serif\" font-size=\"12\" lengthAdjust=\"spacingAndGlyphs\" textLength=\"23\" x=\"419.5\" y=\"177.1074\">Occ</text><line style=\"stroke: #383838; stroke-width: 1.5;\" x1=\"374.5\" x2=\"487.5\" y1=\"184.9375\" y2=\"184.9375\"/><text fill=\"#000000\" font-family=\"sans-serif\" font-size=\"11\" lengthAdjust=\"spacingAndGlyphs\" textLength=\"7\" x=\"379.5\" y=\"215.9526\">a</text><line style=\"stroke: #383838; stroke-width: 1.0;\" x1=\"374.5\" x2=\"403.5\" y1=\"199.3398\" y2=\"199.3398\"/><text fill=\"#000000\" font-family=\"sans-serif\" font-size=\"11\" lengthAdjust=\"spacingAndGlyphs\" textLength=\"55\" x=\"403.5\" y=\"202.6479\">attributes</text><line style=\"stroke: #383838; stroke-width: 1.0;\" x1=\"458.5\" x2=\"487.5\" y1=\"199.3398\" y2=\"199.3398\"/></a><!--MD5=[09b614a08d8cba4a07c9adeb5e0fee81]\n",
       "class E3--><a href=\"psysml:37011562-c12e-4ce2-bbf9-af5619a300f0\" target=\"_top\" title=\"psysml:37011562-c12e-4ce2-bbf9-af5619a300f0\" xlink:actuate=\"onRequest\" xlink:href=\"psysml:37011562-c12e-4ce2-bbf9-af5619a300f0\" xlink:show=\"new\" xlink:title=\"psysml:37011562-c12e-4ce2-bbf9-af5619a300f0\" xlink:type=\"simple\"><rect fill=\"#FFFFFF\" height=\"45.9375\" id=\"E3\" rx=\"10\" ry=\"10\" style=\"stroke: #383838; stroke-width: 1.5;\" width=\"87\" x=\"279.5\" y=\"283\"/><text fill=\"#000000\" font-family=\"sans-serif\" font-size=\"12\" font-style=\"italic\" lengthAdjust=\"spacingAndGlyphs\" textLength=\"85\" x=\"280.5\" y=\"299.1387\">«occurrence»</text><text fill=\"#000000\" font-family=\"sans-serif\" font-size=\"12\" lengthAdjust=\"spacingAndGlyphs\" textLength=\"61\" x=\"290.5\" y=\"313.1074\">occ1: Occ</text><line style=\"stroke: #383838; stroke-width: 1.5;\" x1=\"280.5\" x2=\"365.5\" y1=\"320.9375\" y2=\"320.9375\"/></a><!--MD5=[ebbe1d658d1005bcc118a6aa81145e00]\n",
       "class E4--><a href=\"psysml:3522e0a2-d0dd-4c95-916a-e9f89fbadd86\" target=\"_top\" title=\"psysml:3522e0a2-d0dd-4c95-916a-e9f89fbadd86\" xlink:actuate=\"onRequest\" xlink:href=\"psysml:3522e0a2-d0dd-4c95-916a-e9f89fbadd86\" xlink:show=\"new\" xlink:title=\"psysml:3522e0a2-d0dd-4c95-916a-e9f89fbadd86\" xlink:type=\"simple\"><rect fill=\"#FFFFFF\" height=\"45.9375\" id=\"E4\" rx=\"10\" ry=\"10\" style=\"stroke: #383838; stroke-width: 1.5;\" width=\"87\" x=\"401.5\" y=\"283\"/><text fill=\"#000000\" font-family=\"sans-serif\" font-size=\"12\" font-style=\"italic\" lengthAdjust=\"spacingAndGlyphs\" textLength=\"85\" x=\"402.5\" y=\"299.1387\">«occurrence»</text><text fill=\"#000000\" font-family=\"sans-serif\" font-size=\"12\" lengthAdjust=\"spacingAndGlyphs\" textLength=\"61\" x=\"412.5\" y=\"313.1074\">occ2: Occ</text><line style=\"stroke: #383838; stroke-width: 1.5;\" x1=\"402.5\" x2=\"487.5\" y1=\"320.9375\" y2=\"320.9375\"/></a><!--MD5=[270fce915f116d4de14055a7c1d9a0f3]\n",
       "class E5--><a href=\"psysml:2ba1b44f-ac88-49ba-a1da-8edc5df2da3a\" target=\"_top\" title=\"psysml:2ba1b44f-ac88-49ba-a1da-8edc5df2da3a\" xlink:actuate=\"onRequest\" xlink:href=\"psysml:2ba1b44f-ac88-49ba-a1da-8edc5df2da3a\" xlink:show=\"new\" xlink:title=\"psysml:2ba1b44f-ac88-49ba-a1da-8edc5df2da3a\" xlink:type=\"simple\"><rect fill=\"#FFFFFF\" height=\"45.9375\" id=\"E5\" rx=\"10\" ry=\"10\" style=\"stroke: #383838; stroke-width: 1.5;\" width=\"212\" x=\"524\" y=\"283\"/><text fill=\"#000000\" font-family=\"sans-serif\" font-size=\"12\" font-style=\"italic\" lengthAdjust=\"spacingAndGlyphs\" textLength=\"210\" x=\"525\" y=\"299.1387\">«individual snapshot occurrence»</text><text fill=\"#000000\" font-family=\"sans-serif\" font-size=\"12\" lengthAdjust=\"spacingAndGlyphs\" textLength=\"34\" x=\"611\" y=\"313.1074\">s: Ind</text><line style=\"stroke: #383838; stroke-width: 1.5;\" x1=\"525\" x2=\"735\" y1=\"320.9375\" y2=\"320.9375\"/></a><!--MD5=[60a26617385b1d2d0262a64233df1f8d]\n",
       "class E6--><a href=\"psysml:aefaf76d-f241-48e8-80ea-b99598299972\" target=\"_top\" title=\"psysml:aefaf76d-f241-48e8-80ea-b99598299972\" xlink:actuate=\"onRequest\" xlink:href=\"psysml:aefaf76d-f241-48e8-80ea-b99598299972\" xlink:show=\"new\" xlink:title=\"psysml:aefaf76d-f241-48e8-80ea-b99598299972\" xlink:type=\"simple\"><rect fill=\"#FFFFFF\" height=\"45.9375\" id=\"E6\" rx=\"10\" ry=\"10\" style=\"stroke: #383838; stroke-width: 1.5;\" width=\"146\" x=\"771\" y=\"283\"/><text fill=\"#000000\" font-family=\"sans-serif\" font-size=\"12\" font-style=\"italic\" lengthAdjust=\"spacingAndGlyphs\" textLength=\"144\" x=\"772\" y=\"299.1387\">«timeslice occurrence»</text><text fill=\"#000000\" font-family=\"sans-serif\" font-size=\"12\" lengthAdjust=\"spacingAndGlyphs\" textLength=\"5\" x=\"839.5\" y=\"313.1074\">t</text><line style=\"stroke: #383838; stroke-width: 1.5;\" x1=\"772\" x2=\"916\" y1=\"320.9375\" y2=\"320.9375\"/></a><!--MD5=[2156ba9850f5573cc1fc38a6a4b2f02b]\n",
       "class E7--><a href=\"psysml:991e81ed-291b-4563-955c-44288cc9fc81\" target=\"_top\" title=\"psysml:991e81ed-291b-4563-955c-44288cc9fc81\" xlink:actuate=\"onRequest\" xlink:href=\"psysml:991e81ed-291b-4563-955c-44288cc9fc81\" xlink:show=\"new\" xlink:title=\"psysml:991e81ed-291b-4563-955c-44288cc9fc81\" xlink:type=\"simple\"><rect fill=\"#FFFFFF\" height=\"45.9375\" id=\"E7\" style=\"stroke: #383838; stroke-width: 1.5;\" width=\"177\" x=\"541.5\" y=\"389\"/><text fill=\"#000000\" font-family=\"sans-serif\" font-size=\"12\" font-style=\"italic\" lengthAdjust=\"spacingAndGlyphs\" textLength=\"175\" x=\"542.5\" y=\"405.1387\">«individual occurrence  def»</text><text fill=\"#000000\" font-family=\"sans-serif\" font-size=\"12\" lengthAdjust=\"spacingAndGlyphs\" textLength=\"19\" x=\"620.5\" y=\"419.1074\">Ind</text><line style=\"stroke: #383838; stroke-width: 1.5;\" x1=\"542.5\" x2=\"717.5\" y1=\"426.9375\" y2=\"426.9375\"/></a><!--MD5=[b9389687b975829384b498ac4b7476b2]\n",
       "class E8--><a href=\"psysml:fb7dbc0d-a670-4e6d-a2b6-24a9a70c023a\" target=\"_top\" title=\"psysml:fb7dbc0d-a670-4e6d-a2b6-24a9a70c023a\" xlink:actuate=\"onRequest\" xlink:href=\"psysml:fb7dbc0d-a670-4e6d-a2b6-24a9a70c023a\" xlink:show=\"new\" xlink:title=\"psysml:fb7dbc0d-a670-4e6d-a2b6-24a9a70c023a\" xlink:type=\"simple\"><rect fill=\"#FFFFFF\" height=\"45.9375\" id=\"E8\" rx=\"10\" ry=\"10\" style=\"stroke: #383838; stroke-width: 1.5;\" width=\"150\" x=\"463\" y=\"495\"/><text fill=\"#000000\" font-family=\"sans-serif\" font-size=\"12\" font-style=\"italic\" lengthAdjust=\"spacingAndGlyphs\" textLength=\"148\" x=\"464\" y=\"511.1387\">«snapshot occurrence»</text><text fill=\"#000000\" font-family=\"sans-serif\" font-size=\"12\" lengthAdjust=\"spacingAndGlyphs\" textLength=\"15\" x=\"528.5\" y=\"525.1074\">s2</text><line style=\"stroke: #383838; stroke-width: 1.5;\" x1=\"464\" x2=\"612\" y1=\"532.9375\" y2=\"532.9375\"/></a><!--MD5=[fd4143e9d270a159db93a4ea2a975926]\n",
       "class E9--><a href=\"psysml:ae0fd4ea-8dc7-4cb0-a32c-5615a8f756eb\" target=\"_top\" title=\"psysml:ae0fd4ea-8dc7-4cb0-a32c-5615a8f756eb\" xlink:actuate=\"onRequest\" xlink:href=\"psysml:ae0fd4ea-8dc7-4cb0-a32c-5615a8f756eb\" xlink:show=\"new\" xlink:title=\"psysml:ae0fd4ea-8dc7-4cb0-a32c-5615a8f756eb\" xlink:type=\"simple\"><rect fill=\"#FFFFFF\" height=\"45.9375\" id=\"E9\" rx=\"10\" ry=\"10\" style=\"stroke: #383838; stroke-width: 1.5;\" width=\"146\" x=\"648\" y=\"495\"/><text fill=\"#000000\" font-family=\"sans-serif\" font-size=\"12\" font-style=\"italic\" lengthAdjust=\"spacingAndGlyphs\" textLength=\"144\" x=\"649\" y=\"511.1387\">«timeslice occurrence»</text><text fill=\"#000000\" font-family=\"sans-serif\" font-size=\"12\" lengthAdjust=\"spacingAndGlyphs\" textLength=\"13\" x=\"712.5\" y=\"525.1074\">t2</text><line style=\"stroke: #383838; stroke-width: 1.5;\" x1=\"649\" x2=\"793\" y1=\"532.9375\" y2=\"532.9375\"/></a><!--MD5=[96f4274e9e20536e775497830990834d]\n",
       "class E10--><a href=\"psysml:90168d9a-6358-4939-88d7-8ec9974b52c6\" target=\"_top\" title=\"psysml:90168d9a-6358-4939-88d7-8ec9974b52c6\" xlink:actuate=\"onRequest\" xlink:href=\"psysml:90168d9a-6358-4939-88d7-8ec9974b52c6\" xlink:show=\"new\" xlink:title=\"psysml:90168d9a-6358-4939-88d7-8ec9974b52c6\" xlink:type=\"simple\"><rect fill=\"#FFFFFF\" height=\"45.9375\" id=\"E10\" rx=\"10\" ry=\"10\" style=\"stroke: #383838; stroke-width: 1.5;\" width=\"149\" x=\"505.5\" y=\"41\"/><text fill=\"#000000\" font-family=\"sans-serif\" font-size=\"12\" font-style=\"italic\" lengthAdjust=\"spacingAndGlyphs\" textLength=\"147\" x=\"506.5\" y=\"57.1387\">«individual occurrence»</text><text fill=\"#000000\" font-family=\"sans-serif\" font-size=\"12\" lengthAdjust=\"spacingAndGlyphs\" textLength=\"77\" x=\"539.5\" y=\"71.1074\">ind: Ind, Occ</text><line style=\"stroke: #383838; stroke-width: 1.5;\" x1=\"506.5\" x2=\"653.5\" y1=\"78.9375\" y2=\"78.9375\"/></a><!--MD5=[1dd1bfd58a279cf63c5f349dbc8fc6a1]\n",
       "class E11--><a href=\"psysml:d0eba55f-a402-4b22-88ba-9857d6bd50ac\" target=\"_top\" title=\"psysml:d0eba55f-a402-4b22-88ba-9857d6bd50ac\" xlink:actuate=\"onRequest\" xlink:href=\"psysml:d0eba55f-a402-4b22-88ba-9857d6bd50ac\" xlink:show=\"new\" xlink:title=\"psysml:d0eba55f-a402-4b22-88ba-9857d6bd50ac\" xlink:type=\"simple\"><rect fill=\"#FFFFFF\" height=\"45.9375\" id=\"E11\" rx=\"10\" ry=\"10\" style=\"stroke: #383838; stroke-width: 1.5;\" width=\"150\" x=\"561\" y=\"162\"/><text fill=\"#000000\" font-family=\"sans-serif\" font-size=\"12\" font-style=\"italic\" lengthAdjust=\"spacingAndGlyphs\" textLength=\"148\" x=\"562\" y=\"178.1387\">«snapshot occurrence»</text><text fill=\"#000000\" font-family=\"sans-serif\" font-size=\"12\" lengthAdjust=\"spacingAndGlyphs\" textLength=\"15\" x=\"626.5\" y=\"192.1074\">s3</text><line style=\"stroke: #383838; stroke-width: 1.5;\" x1=\"562\" x2=\"710\" y1=\"199.9375\" y2=\"199.9375\"/></a><!--MD5=[49a0ec8f00dab7302a31f22d0f0fe584]\n",
       "class E12--><a href=\"psysml:0232df4f-93e4-4add-8902-f942e03a0634\" target=\"_top\" title=\"psysml:0232df4f-93e4-4add-8902-f942e03a0634\" xlink:actuate=\"onRequest\" xlink:href=\"psysml:0232df4f-93e4-4add-8902-f942e03a0634\" xlink:show=\"new\" xlink:title=\"psysml:0232df4f-93e4-4add-8902-f942e03a0634\" xlink:type=\"simple\"><rect fill=\"#FFFFFF\" height=\"45.9375\" id=\"E12\" rx=\"10\" ry=\"10\" style=\"stroke: #383838; stroke-width: 1.5;\" width=\"208\" x=\"746\" y=\"162\"/><text fill=\"#000000\" font-family=\"sans-serif\" font-size=\"12\" font-style=\"italic\" lengthAdjust=\"spacingAndGlyphs\" textLength=\"206\" x=\"747\" y=\"178.1387\">«individual timeslice occurrence»</text><text fill=\"#000000\" font-family=\"sans-serif\" font-size=\"12\" lengthAdjust=\"spacingAndGlyphs\" textLength=\"13\" x=\"841.5\" y=\"192.1074\">t3</text><line style=\"stroke: #383838; stroke-width: 1.5;\" x1=\"747\" x2=\"953\" y1=\"199.9375\" y2=\"199.9375\"/></a><!--MD5=[ee3c913d1a06f366521f9ef512b67efe]\n",
       "class E13--><a href=\"psysml:5cbde71f-e2d0-40cd-91ed-92f5bc776eb7\" target=\"_top\" title=\"psysml:5cbde71f-e2d0-40cd-91ed-92f5bc776eb7\" xlink:actuate=\"onRequest\" xlink:href=\"psysml:5cbde71f-e2d0-40cd-91ed-92f5bc776eb7\" xlink:show=\"new\" xlink:title=\"psysml:5cbde71f-e2d0-40cd-91ed-92f5bc776eb7\" xlink:type=\"simple\"><rect fill=\"#FFFFFF\" height=\"45.9375\" id=\"E13\" rx=\"10\" ry=\"10\" style=\"stroke: #383838; stroke-width: 1.5;\" width=\"212\" x=\"32\" y=\"283\"/><text fill=\"#000000\" font-family=\"sans-serif\" font-size=\"12\" font-style=\"italic\" lengthAdjust=\"spacingAndGlyphs\" textLength=\"210\" x=\"33\" y=\"299.1387\">«individual snapshot occurrence»</text><text fill=\"#000000\" font-family=\"sans-serif\" font-size=\"12\" lengthAdjust=\"spacingAndGlyphs\" textLength=\"42\" x=\"115\" y=\"313.1074\">s4: Ind</text><line style=\"stroke: #383838; stroke-width: 1.5;\" x1=\"33\" x2=\"243\" y1=\"320.9375\" y2=\"320.9375\"/></a><!--MD5=[209b3feb70ccb6233bfe1053d122c12c]\n",
       "reverse link E2 to E3--><a href=\"psysml:111e77a4-44f2-45ac-862d-a1e02a1cad26\" target=\"_top\" title=\"psysml:111e77a4-44f2-45ac-862d-a1e02a1cad26\" xlink:actuate=\"onRequest\" xlink:href=\"psysml:111e77a4-44f2-45ac-862d-a1e02a1cad26\" xlink:show=\"new\" xlink:title=\"psysml:111e77a4-44f2-45ac-862d-a1e02a1cad26\" xlink:type=\"simple\"><path d=\"M382.83,236.28 C382.83,236.28 382.83,299 382.83,299 C382.83,299 375.92,299 366.8,299 \" fill=\"none\" id=\"E2&lt;-E3\" style=\"stroke: #383838; stroke-width: 1.0;\"/><polygon fill=\"#FFFFFF\" points=\"382.83,223.28,378.83,229.28,382.83,235.28,386.83,229.28,382.83,223.28\" style=\"stroke: #383838; stroke-width: 1.0;\"/></a><!--MD5=[05d275557350bfb9b23a4ef7222b4c39]\n",
       "link E3 to E2--><a href=\"psysml:0f45e557-8f0e-4df9-b1d8-28bd2526f5a3\" target=\"_top\" title=\"psysml:0f45e557-8f0e-4df9-b1d8-28bd2526f5a3\" xlink:actuate=\"onRequest\" xlink:href=\"psysml:0f45e557-8f0e-4df9-b1d8-28bd2526f5a3\" xlink:show=\"new\" xlink:title=\"psysml:0f45e557-8f0e-4df9-b1d8-28bd2526f5a3\" xlink:type=\"simple\"><path d=\"M366.8,314 C380.53,314 392.17,314 392.17,314 C392.17,314 392.17,243.01 392.17,243.01 \" fill=\"none\" id=\"E3-&gt;E2\" style=\"stroke: #383838; stroke-width: 1.0;\"/><polygon fill=\"#FFFFFF\" points=\"392.17,223.01,399.17,242.01,385.17,242.01,392.17,223.01\" style=\"stroke: #383838; stroke-width: 1.0;\"/><ellipse cx=\"397.17\" cy=\"247.71\" fill=\"#383838\" rx=\"2\" ry=\"2\" style=\"stroke: #383838; stroke-width: 1.0;\"/><ellipse cx=\"387.17\" cy=\"247.71\" fill=\"#383838\" rx=\"2\" ry=\"2\" style=\"stroke: #383838; stroke-width: 1.0;\"/></a><!--MD5=[9618e71518536f8baf3342ff6fdab317]\n",
       "reverse link E2 to E4--><a href=\"psysml:7f5381ff-79d6-4175-8599-1b084d5a38fb\" target=\"_top\" title=\"psysml:7f5381ff-79d6-4175-8599-1b084d5a38fb\" xlink:actuate=\"onRequest\" xlink:href=\"psysml:7f5381ff-79d6-4175-8599-1b084d5a38fb\" xlink:show=\"new\" xlink:title=\"psysml:7f5381ff-79d6-4175-8599-1b084d5a38fb\" xlink:type=\"simple\"><path d=\"M430.5,236.29 C430.5,236.29 430.5,282.74 430.5,282.74 \" fill=\"none\" id=\"E2&lt;-E4\" style=\"stroke: #383838; stroke-width: 1.0;\"/><polygon fill=\"#383838\" points=\"430.5,223.29,426.5,229.29,430.5,235.29,434.5,229.29,430.5,223.29\" style=\"stroke: #383838; stroke-width: 1.0;\"/></a><!--MD5=[185131fc0dcab0a4505a2ebe144e961b]\n",
       "link E4 to E2--><a href=\"psysml:9af83ecd-fc65-4272-8374-c2ac75a0337a\" target=\"_top\" title=\"psysml:9af83ecd-fc65-4272-8374-c2ac75a0337a\" xlink:actuate=\"onRequest\" xlink:href=\"psysml:9af83ecd-fc65-4272-8374-c2ac75a0337a\" xlink:show=\"new\" xlink:title=\"psysml:9af83ecd-fc65-4272-8374-c2ac75a0337a\" xlink:type=\"simple\"><path d=\"M459.5,282.96 C459.5,282.96 459.5,243.19 459.5,243.19 \" fill=\"none\" id=\"E4-&gt;E2\" style=\"stroke: #383838; stroke-width: 1.0;\"/><polygon fill=\"#FFFFFF\" points=\"459.5,223.19,466.5,242.19,452.5,242.19,459.5,223.19\" style=\"stroke: #383838; stroke-width: 1.0;\"/><ellipse cx=\"464.5\" cy=\"247.89\" fill=\"#383838\" rx=\"2\" ry=\"2\" style=\"stroke: #383838; stroke-width: 1.0;\"/><ellipse cx=\"454.5\" cy=\"247.89\" fill=\"#383838\" rx=\"2\" ry=\"2\" style=\"stroke: #383838; stroke-width: 1.0;\"/></a><!--MD5=[4e1a83fab71cdb913c109063314ae896]\n",
       "reverse link E2 to E5--><a href=\"psysml:648e9e41-ac7c-450e-af70-439d81f3f540\" target=\"_top\" title=\"psysml:648e9e41-ac7c-450e-af70-439d81f3f540\" xlink:actuate=\"onRequest\" xlink:href=\"psysml:648e9e41-ac7c-450e-af70-439d81f3f540\" xlink:show=\"new\" xlink:title=\"psysml:648e9e41-ac7c-450e-af70-439d81f3f540\" xlink:type=\"simple\"><path d=\"M501.71,218 C501.71,218 542.5,218 542.5,218 C542.5,218 542.5,256.81 542.5,282.88 \" fill=\"none\" id=\"E2&lt;-E5\" style=\"stroke: #383838; stroke-width: 1.0;\"/><polygon fill=\"#383838\" points=\"488.71,218,494.71,222,500.71,218,494.71,214,488.71,218\" style=\"stroke: #383838; stroke-width: 1.0;\"/></a><!--MD5=[ce036f65110ae2351ccce5a81dc2e928]\n",
       "reverse link E2 to E6--><a href=\"psysml:00b8b9a4-593e-406d-b505-212ff2a7c9c1\" target=\"_top\" title=\"psysml:00b8b9a4-593e-406d-b505-212ff2a7c9c1\" xlink:actuate=\"onRequest\" xlink:href=\"psysml:00b8b9a4-593e-406d-b505-212ff2a7c9c1\" xlink:show=\"new\" xlink:title=\"psysml:00b8b9a4-593e-406d-b505-212ff2a7c9c1\" xlink:type=\"simple\"><path d=\"M501.86,213 C501.86,213 844,213 844,213 C844,213 844,254.98 844,282.53 \" fill=\"none\" id=\"E2&lt;-E6\" style=\"stroke: #383838; stroke-width: 1.0;\"/><polygon fill=\"#383838\" points=\"488.86,213,494.86,217,500.86,213,494.86,209,488.86,213\" style=\"stroke: #383838; stroke-width: 1.0;\"/></a><!--MD5=[3a9b96bfbf6b6ad89c494e81751bda47]\n",
       "link E5 to E7--><a href=\"psysml:088b8ee7-f1bc-4574-b816-43bcf4f14b77\" target=\"_top\" title=\"psysml:088b8ee7-f1bc-4574-b816-43bcf4f14b77\" xlink:actuate=\"onRequest\" xlink:href=\"psysml:088b8ee7-f1bc-4574-b816-43bcf4f14b77\" xlink:show=\"new\" xlink:title=\"psysml:088b8ee7-f1bc-4574-b816-43bcf4f14b77\" xlink:type=\"simple\"><path d=\"M630,329 C630,329 630,368.68 630,368.68 \" fill=\"none\" id=\"E5-&gt;E7\" style=\"stroke: #383838; stroke-width: 1.0;\"/><polygon fill=\"#FFFFFF\" points=\"630,388.68,623,369.68,637,369.68,630,388.68\" style=\"stroke: #383838; stroke-width: 1.0;\"/><ellipse cx=\"625\" cy=\"363.98\" fill=\"#383838\" rx=\"2\" ry=\"2\" style=\"stroke: #383838; stroke-width: 1.0;\"/><ellipse cx=\"635\" cy=\"363.98\" fill=\"#383838\" rx=\"2\" ry=\"2\" style=\"stroke: #383838; stroke-width: 1.0;\"/></a><!--MD5=[dc164f5e8a733ab456ef1add180e9e34]\n",
       "reverse link E7 to E8--><a href=\"psysml:c8813ef9-ffa9-4c9d-80a4-dd20f6c80ea5\" target=\"_top\" title=\"psysml:c8813ef9-ffa9-4c9d-80a4-dd20f6c80ea5\" xlink:actuate=\"onRequest\" xlink:href=\"psysml:c8813ef9-ffa9-4c9d-80a4-dd20f6c80ea5\" xlink:show=\"new\" xlink:title=\"psysml:c8813ef9-ffa9-4c9d-80a4-dd20f6c80ea5\" xlink:type=\"simple\"><path d=\"M577.25,448 C577.25,448 577.25,494.68 577.25,494.68 \" fill=\"none\" id=\"E7&lt;-E8\" style=\"stroke: #383838; stroke-width: 1.0;\"/><polygon fill=\"#383838\" points=\"577.25,435,573.25,441,577.25,447,581.25,441,577.25,435\" style=\"stroke: #383838; stroke-width: 1.0;\"/></a><!--MD5=[e4a10ef82d0e328e31cac39a31e58dda]\n",
       "reverse link E7 to E9--><a href=\"psysml:cdca8d7c-6aa5-4fff-9e0e-900e3ba85343\" target=\"_top\" title=\"psysml:cdca8d7c-6aa5-4fff-9e0e-900e3ba85343\" xlink:actuate=\"onRequest\" xlink:href=\"psysml:cdca8d7c-6aa5-4fff-9e0e-900e3ba85343\" xlink:show=\"new\" xlink:title=\"psysml:cdca8d7c-6aa5-4fff-9e0e-900e3ba85343\" xlink:type=\"simple\"><path d=\"M683.25,448 C683.25,448 683.25,494.68 683.25,494.68 \" fill=\"none\" id=\"E7&lt;-E9\" style=\"stroke: #383838; stroke-width: 1.0;\"/><polygon fill=\"#383838\" points=\"683.25,435,679.25,441,683.25,447,687.25,441,683.25,435\" style=\"stroke: #383838; stroke-width: 1.0;\"/></a><!--MD5=[a919e0967d6f3de553dc51b9865a1d6d]\n",
       "link E10 to E7--><a href=\"psysml:43f26010-ca40-42d6-8df0-e4847d82fc63\" target=\"_top\" title=\"psysml:43f26010-ca40-42d6-8df0-e4847d82fc63\" xlink:actuate=\"onRequest\" xlink:href=\"psysml:43f26010-ca40-42d6-8df0-e4847d82fc63\" xlink:show=\"new\" xlink:title=\"psysml:43f26010-ca40-42d6-8df0-e4847d82fc63\" xlink:type=\"simple\"><path d=\"M517.83,87.17 C517.83,163.92 517.83,405 517.83,405 C517.83,405 521.35,405 521.35,405 \" fill=\"none\" id=\"E10-&gt;E7\" style=\"stroke: #383838; stroke-width: 1.0;\"/><polygon fill=\"#FFFFFF\" points=\"541.35,405,522.35,412,522.35,398,541.35,405\" style=\"stroke: #383838; stroke-width: 1.0;\"/><ellipse cx=\"516.65\" cy=\"410\" fill=\"#383838\" rx=\"2\" ry=\"2\" style=\"stroke: #383838; stroke-width: 1.0;\"/><ellipse cx=\"516.65\" cy=\"400\" fill=\"#383838\" rx=\"2\" ry=\"2\" style=\"stroke: #383838; stroke-width: 1.0;\"/></a><!--MD5=[0f36bececdf0dff6e600d6f64214b0f1]\n",
       "link E10 to E2--><a href=\"psysml:ac89f7fb-b091-4bc7-aaea-6377fc157ffe\" target=\"_top\" title=\"psysml:ac89f7fb-b091-4bc7-aaea-6377fc157ffe\" xlink:actuate=\"onRequest\" xlink:href=\"psysml:ac89f7fb-b091-4bc7-aaea-6377fc157ffe\" xlink:show=\"new\" xlink:title=\"psysml:ac89f7fb-b091-4bc7-aaea-6377fc157ffe\" xlink:type=\"simple\"><path d=\"M511.67,87.43 C511.67,114.4 511.67,155 511.67,155 C511.67,155 508.77,155 508.77,155 \" fill=\"none\" id=\"E10-&gt;E2\" style=\"stroke: #383838; stroke-width: 1.0;\"/><polygon fill=\"#FFFFFF\" points=\"488.77,155,507.77,148,507.77,162,488.77,155\" style=\"stroke: #383838; stroke-width: 1.0;\"/><ellipse cx=\"513.47\" cy=\"150\" fill=\"#383838\" rx=\"2\" ry=\"2\" style=\"stroke: #383838; stroke-width: 1.0;\"/><ellipse cx=\"513.47\" cy=\"160\" fill=\"#383838\" rx=\"2\" ry=\"2\" style=\"stroke: #383838; stroke-width: 1.0;\"/></a><!--MD5=[de308be4a2431766a05a907a031c07fc]\n",
       "reverse link E10 to E11--><a href=\"psysml:75c081c5-05e2-401c-b103-d900689a3a49\" target=\"_top\" title=\"psysml:75c081c5-05e2-401c-b103-d900689a3a49\" xlink:actuate=\"onRequest\" xlink:href=\"psysml:75c081c5-05e2-401c-b103-d900689a3a49\" xlink:show=\"new\" xlink:title=\"psysml:75c081c5-05e2-401c-b103-d900689a3a49\" xlink:type=\"simple\"><path d=\"M607.75,100.04 C607.75,100.04 607.75,161.63 607.75,161.63 \" fill=\"none\" id=\"E10&lt;-E11\" style=\"stroke: #383838; stroke-width: 1.0;\"/><polygon fill=\"#383838\" points=\"607.75,87.04,603.75,93.04,607.75,99.04,611.75,93.04,607.75,87.04\" style=\"stroke: #383838; stroke-width: 1.0;\"/></a><!--MD5=[1d54f998c6d5961a1a9184be73a7eb6c]\n",
       "reverse link E10 to E12--><a href=\"psysml:54130436-8b1f-4706-a610-d99b2d4cb5d4\" target=\"_top\" title=\"psysml:54130436-8b1f-4706-a610-d99b2d4cb5d4\" xlink:actuate=\"onRequest\" xlink:href=\"psysml:54130436-8b1f-4706-a610-d99b2d4cb5d4\" xlink:show=\"new\" xlink:title=\"psysml:54130436-8b1f-4706-a610-d99b2d4cb5d4\" xlink:type=\"simple\"><path d=\"M667.85,64 C667.85,64 850,64 850,64 C850,64 850,126.85 850,161.96 \" fill=\"none\" id=\"E10&lt;-E12\" style=\"stroke: #383838; stroke-width: 1.0;\"/><polygon fill=\"#383838\" points=\"654.85,64,660.85,68,666.85,64,660.85,60,654.85,64\" style=\"stroke: #383838; stroke-width: 1.0;\"/></a><!--MD5=[4a48077df6499cfcd20b62e8f5f37904]\n",
       "link E13 to E7--><a href=\"psysml:85f16706-e1b7-404d-9ee5-57d420bfb7f2\" target=\"_top\" title=\"psysml:85f16706-e1b7-404d-9ee5-57d420bfb7f2\" xlink:actuate=\"onRequest\" xlink:href=\"psysml:85f16706-e1b7-404d-9ee5-57d420bfb7f2\" xlink:show=\"new\" xlink:title=\"psysml:85f16706-e1b7-404d-9ee5-57d420bfb7f2\" xlink:type=\"simple\"><path d=\"M138,329.07 C138,362.38 138,420 138,420 C138,420 521.47,420 521.47,420 \" fill=\"none\" id=\"E13-&gt;E7\" style=\"stroke: #383838; stroke-width: 1.0;\"/><polygon fill=\"#FFFFFF\" points=\"541.47,420,522.47,427,522.47,413,541.47,420\" style=\"stroke: #383838; stroke-width: 1.0;\"/><ellipse cx=\"516.77\" cy=\"425\" fill=\"#383838\" rx=\"2\" ry=\"2\" style=\"stroke: #383838; stroke-width: 1.0;\"/><ellipse cx=\"516.77\" cy=\"415\" fill=\"#383838\" rx=\"2\" ry=\"2\" style=\"stroke: #383838; stroke-width: 1.0;\"/></a><!--MD5=[f79737263538d00530522edbd7f391b7]\n",
       "@startuml\r\n",
       "skinparam linetype ortho\r\n",
       "skinparam monochrome true\r\n",
       "skinparam classbackgroundcolor white\r\n",
       "skinparam shadowing false\r\n",
       "skinparam wrapWidth 300\r\n",
       "hide circle\r\n",
       "\r\n",
       "package \"OccurrenceTest\" as E1  [[psysml:53f1d42d-2686-4f4b-950f-b84b40bc19b2 ]]  {\r\n",
       "comp def \"Occ\" as E2  <<(T,blue) occurrence  def>> [[psysml:77ba500d-77fd-484e-b411-8833010da35e ]] {\r\n",
       "- - attributes - -\r\n",
       "a\r\n",
       "}\r\n",
       "comp usage \"occ1: Occ \" as E3  <<(T,blue) occurrence>> [[psysml:37011562-c12e-4ce2-bbf9-af5619a300f0 ]] {\r\n",
       "}\r\n",
       "comp usage \"occ2: Occ \" as E4  <<(T,blue) occurrence>> [[psysml:3522e0a2-d0dd-4c95-916a-e9f89fbadd86 ]] {\r\n",
       "}\r\n",
       "comp usage \"s: Ind \" as E5  <<(T,blue) individual snapshot occurrence>> [[psysml:2ba1b44f-ac88-49ba-a1da-8edc5df2da3a ]] {\r\n",
       "}\r\n",
       "comp usage \"t \" as E6  <<(T,blue) timeslice occurrence>> [[psysml:aefaf76d-f241-48e8-80ea-b99598299972 ]] {\r\n",
       "}\r\n",
       "comp def \"Ind\" as E7  <<(T,blue) individual occurrence  def>> [[psysml:991e81ed-291b-4563-955c-44288cc9fc81 ]] {\r\n",
       "}\r\n",
       "comp usage \"s2 \" as E8  <<(T,blue) snapshot occurrence>> [[psysml:fb7dbc0d-a670-4e6d-a2b6-24a9a70c023a ]] {\r\n",
       "}\r\n",
       "comp usage \"t2 \" as E9  <<(T,blue) timeslice occurrence>> [[psysml:ae0fd4ea-8dc7-4cb0-a32c-5615a8f756eb ]] {\r\n",
       "}\r\n",
       "comp usage \"ind: Ind, Occ \" as E10  <<(T,blue) individual occurrence>> [[psysml:90168d9a-6358-4939-88d7-8ec9974b52c6 ]] {\r\n",
       "}\r\n",
       "comp usage \"s3 \" as E11  <<(T,blue) snapshot occurrence>> [[psysml:d0eba55f-a402-4b22-88ba-9857d6bd50ac ]] {\r\n",
       "}\r\n",
       "comp usage \"t3 \" as E12  <<(T,blue) individual timeslice occurrence>> [[psysml:0232df4f-93e4-4add-8902-f942e03a0634 ]] {\r\n",
       "}\r\n",
       "comp usage \"s4: Ind \" as E13  <<(T,blue) individual snapshot occurrence>> [[psysml:5cbde71f-e2d0-40cd-91ed-92f5bc776eb7 ]] {\r\n",
       "}\r\n",
       "}\r\n",
       "E2 o- - E3 [[psysml:111e77a4-44f2-45ac-862d-a1e02a1cad26 ]] \r\n",
       "E3 - -:|> E2 [[psysml:0f45e557-8f0e-4df9-b1d8-28bd2526f5a3 ]] \r\n",
       "E2 *- - E4 [[psysml:7f5381ff-79d6-4175-8599-1b084d5a38fb ]] \r\n",
       "E4 - -:|> E2 [[psysml:9af83ecd-fc65-4272-8374-c2ac75a0337a ]] \r\n",
       "E2 *- - E5 [[psysml:648e9e41-ac7c-450e-af70-439d81f3f540 ]] \r\n",
       "E2 *- - E6 [[psysml:00b8b9a4-593e-406d-b505-212ff2a7c9c1 ]] \r\n",
       "E5 - -:|> E7 [[psysml:088b8ee7-f1bc-4574-b816-43bcf4f14b77 ]] \r\n",
       "E7 *- - E8 [[psysml:c8813ef9-ffa9-4c9d-80a4-dd20f6c80ea5 ]] \r\n",
       "E7 *- - E9 [[psysml:cdca8d7c-6aa5-4fff-9e0e-900e3ba85343 ]] \r\n",
       "E10 - -:|> E7 [[psysml:43f26010-ca40-42d6-8df0-e4847d82fc63 ]] \r\n",
       "E10 - -:|> E2 [[psysml:ac89f7fb-b091-4bc7-aaea-6377fc157ffe ]] \r\n",
       "E10 *- - E11 [[psysml:75c081c5-05e2-401c-b103-d900689a3a49 ]] \r\n",
       "E10 *- - E12 [[psysml:54130436-8b1f-4706-a610-d99b2d4cb5d4 ]] \r\n",
       "E13 - -:|> E7 [[psysml:85f16706-e1b7-404d-9ee5-57d420bfb7f2 ]] \r\n",
       "@enduml\r\n",
       "\n",
       "PlantUML version 1.2020.13(Sat Jun 13 12:26:38 UTC 2020)\n",
       "(EPL source distribution)\n",
       "Java Runtime: OpenJDK Runtime Environment\n",
       "JVM: OpenJDK 64-Bit Server VM\n",
       "Default Encoding: UTF-8\n",
       "Language: en\n",
       "Country: null\n",
       "--></g></svg>"
      ]
     },
     "execution_count": 52,
     "metadata": {},
     "output_type": "execute_result"
    }
   ],
   "source": [
    "%viz --style=\"ORTHOLINE\" --view=\"Tree\" \"OccurrenceTest\""
   ]
  },
  {
   "cell_type": "code",
   "execution_count": 53,
   "id": "ac168280",
   "metadata": {
    "execution": {
     "iopub.execute_input": "2022-07-23T10:52:34.679133Z",
     "iopub.status.busy": "2022-07-23T10:52:34.678684Z",
     "iopub.status.idle": "2022-07-23T10:52:34.683225Z",
     "shell.execute_reply": "2022-07-23T10:52:34.682820Z"
    }
   },
   "outputs": [
    {
     "data": {
      "image/svg+xml": [
       "<?xml version=\"1.0\" encoding=\"UTF-8\" standalone=\"no\"?><svg xmlns=\"http://www.w3.org/2000/svg\" xmlns:xlink=\"http://www.w3.org/1999/xlink\" contentScriptType=\"application/ecmascript\" contentStyleType=\"text/css\" height=\"12px\" preserveAspectRatio=\"none\" style=\"width:12px;height:12px;\" version=\"1.1\" viewBox=\"0 0 12 12\" width=\"12px\" zoomAndPan=\"magnify\"><defs/><g><!--MD5=[97d6f38768b311333d388e66b2b27985]\n",
       "@startuml\r\n",
       "skinparam linetype ortho\r\n",
       "skinparam monochrome true\r\n",
       "skinparam classbackgroundcolor white\r\n",
       "skinparam shadowing false\r\n",
       "skinparam wrapWidth 300\r\n",
       "hide circle\r\n",
       "\r\n",
       "@enduml\r\n",
       "\n",
       "PlantUML version 1.2020.13(Sat Jun 13 12:26:38 UTC 2020)\n",
       "(EPL source distribution)\n",
       "Java Runtime: OpenJDK Runtime Environment\n",
       "JVM: OpenJDK 64-Bit Server VM\n",
       "Default Encoding: UTF-8\n",
       "Language: en\n",
       "Country: null\n",
       "--></g></svg>"
      ]
     },
     "execution_count": 53,
     "metadata": {},
     "output_type": "execute_result"
    }
   ],
   "source": [
    "%viz --style=\"ORTHOLINE\" --view=\"State\" \"OccurrenceTest\""
   ]
  },
  {
   "cell_type": "code",
   "execution_count": 54,
   "id": "f3f08d00",
   "metadata": {
    "execution": {
     "iopub.execute_input": "2022-07-23T10:52:34.732646Z",
     "iopub.status.busy": "2022-07-23T10:52:34.732195Z",
     "iopub.status.idle": "2022-07-23T10:52:34.767203Z",
     "shell.execute_reply": "2022-07-23T10:52:34.766801Z"
    }
   },
   "outputs": [
    {
     "data": {
      "image/svg+xml": [
       "<?xml version=\"1.0\" encoding=\"UTF-8\" standalone=\"no\"?><svg xmlns=\"http://www.w3.org/2000/svg\" xmlns:xlink=\"http://www.w3.org/1999/xlink\" contentScriptType=\"application/ecmascript\" contentStyleType=\"text/css\" height=\"278px\" preserveAspectRatio=\"none\" style=\"width:802px;height:278px;\" version=\"1.1\" viewBox=\"0 0 802 278\" width=\"802px\" zoomAndPan=\"magnify\"><defs/><g><!--MD5=[fbc87193dbaf4d95561dea2c320d4a47]\n",
       "cluster E1--><a href=\"psysml:53f1d42d-2686-4f4b-950f-b84b40bc19b2\" target=\"_top\" title=\"psysml:53f1d42d-2686-4f4b-950f-b84b40bc19b2\" xlink:actuate=\"onRequest\" xlink:href=\"psysml:53f1d42d-2686-4f4b-950f-b84b40bc19b2\" xlink:show=\"new\" xlink:title=\"psysml:53f1d42d-2686-4f4b-950f-b84b40bc19b2\" xlink:type=\"simple\"><polygon fill=\"#FFFFFF\" points=\"16,6,134,6,141,28.2969,780,28.2969,780,266,16,266,16,6\" style=\"stroke: #000000; stroke-width: 1.5;\"/><line style=\"stroke: #000000; stroke-width: 1.5;\" x1=\"16\" x2=\"141\" y1=\"28.2969\" y2=\"28.2969\"/><text fill=\"#000000\" font-family=\"sans-serif\" font-size=\"14\" font-weight=\"bold\" lengthAdjust=\"spacingAndGlyphs\" textLength=\"112\" x=\"20\" y=\"20.9951\">OccurrenceTest</text></a><!--MD5=[f6df4d0ebaf0b5dfb2ced0ae5af7c670]\n",
       "cluster E4--><a href=\"psysml:90168d9a-6358-4939-88d7-8ec9974b52c6\" target=\"_top\" title=\"psysml:90168d9a-6358-4939-88d7-8ec9974b52c6\" xlink:actuate=\"onRequest\" xlink:href=\"psysml:90168d9a-6358-4939-88d7-8ec9974b52c6\" xlink:show=\"new\" xlink:title=\"psysml:90168d9a-6358-4939-88d7-8ec9974b52c6\" xlink:type=\"simple\"><rect fill=\"#FFFFFF\" height=\"126\" id=\"E4\" rx=\"10\" ry=\"10\" style=\"stroke: #383838; stroke-width: 1.5;\" width=\"471\" x=\"277\" y=\"57\"/><rect fill=\"#F8F8F8\" height=\"37.9375\" rx=\"10\" ry=\"10\" style=\"stroke: #F8F8F8; stroke-width: 1.5;\" width=\"471\" x=\"277\" y=\"57\"/><rect fill=\"#F8F8F8\" height=\"10\" style=\"stroke: #F8F8F8; stroke-width: 1.5;\" width=\"471\" x=\"277\" y=\"84.9375\"/><rect fill=\"none\" height=\"126\" id=\"E4\" rx=\"10\" ry=\"10\" style=\"stroke: #383838; stroke-width: 1.5;\" width=\"471\" x=\"277\" y=\"57\"/><text fill=\"#000000\" font-family=\"sans-serif\" font-size=\"12\" font-style=\"italic\" lengthAdjust=\"spacingAndGlyphs\" textLength=\"147\" x=\"439\" y=\"73.1387\">«individual occurrence»</text><text fill=\"#000000\" font-family=\"sans-serif\" font-size=\"12\" lengthAdjust=\"spacingAndGlyphs\" textLength=\"77\" x=\"474\" y=\"87.1074\">ind: Ind, Occ</text><line style=\"stroke: #383838; stroke-width: 1.0;\" x1=\"277\" x2=\"748\" y1=\"94.9375\" y2=\"94.9375\"/></a><g id=\"E1.E2\"><a href=\"psysml:77ba500d-77fd-484e-b411-8833010da35e\" target=\"_top\" title=\"psysml:77ba500d-77fd-484e-b411-8833010da35e\" xlink:actuate=\"onRequest\" xlink:href=\"psysml:77ba500d-77fd-484e-b411-8833010da35e\" xlink:show=\"new\" xlink:title=\"psysml:77ba500d-77fd-484e-b411-8833010da35e\" xlink:type=\"simple\"><rect fill=\"#FFFFFF\" height=\"42.9375\" id=\"E2\" style=\"stroke: #383838; stroke-width: 1.5;\" width=\"120\" x=\"267\" y=\"207\"/><rect fill=\"#F8F8F8\" height=\"37.9375\" style=\"stroke: #383838; stroke-width: 1.5;\" width=\"120\" x=\"267\" y=\"207\"/><text fill=\"#000000\" font-family=\"sans-serif\" font-size=\"12\" font-style=\"italic\" lengthAdjust=\"spacingAndGlyphs\" textLength=\"113\" x=\"270.5\" y=\"223.1387\">«occurrence  def»</text><text fill=\"#000000\" font-family=\"sans-serif\" font-size=\"12\" lengthAdjust=\"spacingAndGlyphs\" textLength=\"23\" x=\"315.5\" y=\"237.1074\">Occ</text></a></g><g id=\"E1.E3\"><a href=\"psysml:991e81ed-291b-4563-955c-44288cc9fc81\" target=\"_top\" title=\"psysml:991e81ed-291b-4563-955c-44288cc9fc81\" xlink:actuate=\"onRequest\" xlink:href=\"psysml:991e81ed-291b-4563-955c-44288cc9fc81\" xlink:show=\"new\" xlink:title=\"psysml:991e81ed-291b-4563-955c-44288cc9fc81\" xlink:type=\"simple\"><rect fill=\"#FFFFFF\" height=\"42.9375\" id=\"E3\" style=\"stroke: #383838; stroke-width: 1.5;\" width=\"182\" x=\"50\" y=\"207\"/><rect fill=\"#F8F8F8\" height=\"37.9375\" style=\"stroke: #383838; stroke-width: 1.5;\" width=\"182\" x=\"50\" y=\"207\"/><text fill=\"#000000\" font-family=\"sans-serif\" font-size=\"12\" font-style=\"italic\" lengthAdjust=\"spacingAndGlyphs\" textLength=\"175\" x=\"53.5\" y=\"223.1387\">«individual occurrence  def»</text><text fill=\"#000000\" font-family=\"sans-serif\" font-size=\"12\" lengthAdjust=\"spacingAndGlyphs\" textLength=\"19\" x=\"131.5\" y=\"237.1074\">Ind</text></a></g><g id=\"E1.E4.E5\"><a href=\"psysml:d0eba55f-a402-4b22-88ba-9857d6bd50ac\" target=\"_top\" title=\"psysml:d0eba55f-a402-4b22-88ba-9857d6bd50ac\" xlink:actuate=\"onRequest\" xlink:href=\"psysml:d0eba55f-a402-4b22-88ba-9857d6bd50ac\" xlink:show=\"new\" xlink:title=\"psysml:d0eba55f-a402-4b22-88ba-9857d6bd50ac\" xlink:type=\"simple\"><rect fill=\"#FFFFFF\" height=\"42.9375\" id=\"E5\" rx=\"10\" ry=\"10\" style=\"stroke: #383838; stroke-width: 1.5;\" width=\"155\" x=\"568.5\" y=\"116\"/><rect fill=\"#F8F8F8\" height=\"37.9375\" rx=\"10\" ry=\"10\" style=\"stroke: #F8F8F8; stroke-width: 1.5;\" width=\"155\" x=\"568.5\" y=\"116\"/><rect fill=\"#F8F8F8\" height=\"10\" style=\"stroke: #F8F8F8; stroke-width: 1.5;\" width=\"155\" x=\"568.5\" y=\"143.9375\"/><rect fill=\"none\" height=\"42.9375\" id=\"E5\" rx=\"10\" ry=\"10\" style=\"stroke: #383838; stroke-width: 1.5;\" width=\"155\" x=\"568.5\" y=\"116\"/><text fill=\"#000000\" font-family=\"sans-serif\" font-size=\"12\" font-style=\"italic\" lengthAdjust=\"spacingAndGlyphs\" textLength=\"148\" x=\"572\" y=\"132.1387\">«snapshot occurrence»</text><text fill=\"#000000\" font-family=\"sans-serif\" font-size=\"12\" lengthAdjust=\"spacingAndGlyphs\" textLength=\"15\" x=\"638.5\" y=\"146.1074\">s3</text></a></g><g id=\"E1.E4.E6\"><a href=\"psysml:0232df4f-93e4-4add-8902-f942e03a0634\" target=\"_top\" title=\"psysml:0232df4f-93e4-4add-8902-f942e03a0634\" xlink:actuate=\"onRequest\" xlink:href=\"psysml:0232df4f-93e4-4add-8902-f942e03a0634\" xlink:show=\"new\" xlink:title=\"psysml:0232df4f-93e4-4add-8902-f942e03a0634\" xlink:type=\"simple\"><rect fill=\"#FFFFFF\" height=\"42.9375\" id=\"E6\" rx=\"10\" ry=\"10\" style=\"stroke: #383838; stroke-width: 1.5;\" width=\"213\" x=\"320.5\" y=\"116\"/><rect fill=\"#F8F8F8\" height=\"37.9375\" rx=\"10\" ry=\"10\" style=\"stroke: #F8F8F8; stroke-width: 1.5;\" width=\"213\" x=\"320.5\" y=\"116\"/><rect fill=\"#F8F8F8\" height=\"10\" style=\"stroke: #F8F8F8; stroke-width: 1.5;\" width=\"213\" x=\"320.5\" y=\"143.9375\"/><rect fill=\"none\" height=\"42.9375\" id=\"E6\" rx=\"10\" ry=\"10\" style=\"stroke: #383838; stroke-width: 1.5;\" width=\"213\" x=\"320.5\" y=\"116\"/><text fill=\"#000000\" font-family=\"sans-serif\" font-size=\"12\" font-style=\"italic\" lengthAdjust=\"spacingAndGlyphs\" textLength=\"206\" x=\"324\" y=\"132.1387\">«individual timeslice occurrence»</text><text fill=\"#000000\" font-family=\"sans-serif\" font-size=\"12\" lengthAdjust=\"spacingAndGlyphs\" textLength=\"13\" x=\"420.5\" y=\"146.1074\">t3</text></a></g><g id=\"E1.E7\"><a href=\"psysml:5cbde71f-e2d0-40cd-91ed-92f5bc776eb7\" target=\"_top\" title=\"psysml:5cbde71f-e2d0-40cd-91ed-92f5bc776eb7\" xlink:actuate=\"onRequest\" xlink:href=\"psysml:5cbde71f-e2d0-40cd-91ed-92f5bc776eb7\" xlink:show=\"new\" xlink:title=\"psysml:5cbde71f-e2d0-40cd-91ed-92f5bc776eb7\" xlink:type=\"simple\"><rect fill=\"#FFFFFF\" height=\"42.9375\" id=\"E7\" rx=\"10\" ry=\"10\" style=\"stroke: #383838; stroke-width: 1.5;\" width=\"217\" x=\"32.5\" y=\"116\"/><rect fill=\"#F8F8F8\" height=\"37.9375\" rx=\"10\" ry=\"10\" style=\"stroke: #F8F8F8; stroke-width: 1.5;\" width=\"217\" x=\"32.5\" y=\"116\"/><rect fill=\"#F8F8F8\" height=\"10\" style=\"stroke: #F8F8F8; stroke-width: 1.5;\" width=\"217\" x=\"32.5\" y=\"143.9375\"/><rect fill=\"none\" height=\"42.9375\" id=\"E7\" rx=\"10\" ry=\"10\" style=\"stroke: #383838; stroke-width: 1.5;\" width=\"217\" x=\"32.5\" y=\"116\"/><text fill=\"#000000\" font-family=\"sans-serif\" font-size=\"12\" font-style=\"italic\" lengthAdjust=\"spacingAndGlyphs\" textLength=\"210\" x=\"36\" y=\"132.1387\">«individual snapshot occurrence»</text><text fill=\"#000000\" font-family=\"sans-serif\" font-size=\"12\" lengthAdjust=\"spacingAndGlyphs\" textLength=\"42\" x=\"120\" y=\"146.1074\">s4: Ind</text></a></g><!--MD5=[f0cdf4548168e5211fb3a02bf679d63a]\n",
       "link E4 to E3--><a href=\"psysml:43f26010-ca40-42d6-8df0-e4847d82fc63\" target=\"_top\" title=\"psysml:43f26010-ca40-42d6-8df0-e4847d82fc63\" xlink:actuate=\"onRequest\" xlink:href=\"psysml:43f26010-ca40-42d6-8df0-e4847d82fc63\" xlink:show=\"new\" xlink:title=\"psysml:43f26010-ca40-42d6-8df0-e4847d82fc63\" xlink:type=\"simple\"><path d=\"M276.935,138 C276.56,138 276.1783,138 275.7915,138 C274.2441,138 272.6141,138 270.9963,138 C264.525,138 258.25,138 258.25,138 C258.25,138 258.25,229 258.25,229 C258.25,229 252.23,229 252.23,229 \" fill=\"none\" id=\"E4-&gt;E3\" style=\"stroke: #383838; stroke-width: 1.0;\"/><polygon fill=\"#FFFFFF\" points=\"232.23,229,251.23,222,251.23,236,232.23,229\" style=\"stroke: #383838; stroke-width: 1.0;\"/><ellipse cx=\"256.93\" cy=\"224\" fill=\"#383838\" rx=\"2\" ry=\"2\" style=\"stroke: #383838; stroke-width: 1.0;\"/><ellipse cx=\"256.93\" cy=\"234\" fill=\"#383838\" rx=\"2\" ry=\"2\" style=\"stroke: #383838; stroke-width: 1.0;\"/></a><!--MD5=[185131fc0dcab0a4505a2ebe144e961b]\n",
       "link E4 to E2--><a href=\"psysml:ac89f7fb-b091-4bc7-aaea-6377fc157ffe\" target=\"_top\" title=\"psysml:ac89f7fb-b091-4bc7-aaea-6377fc157ffe\" xlink:actuate=\"onRequest\" xlink:href=\"psysml:ac89f7fb-b091-4bc7-aaea-6377fc157ffe\" xlink:show=\"new\" xlink:title=\"psysml:ac89f7fb-b091-4bc7-aaea-6377fc157ffe\" xlink:type=\"simple\"><path d=\"M285,183.0968 C285,183.3141 285,183.5236 285,183.7248 C285,184.1273 285,184.497 285,184.831 C285,186.1667 285,186.93 285,186.93 \" fill=\"none\" id=\"E4-&gt;E2\" style=\"stroke: #383838; stroke-width: 1.0;\"/><polygon fill=\"#FFFFFF\" points=\"285,206.93,278,187.93,292,187.93,285,206.93\" style=\"stroke: #383838; stroke-width: 1.0;\"/><ellipse cx=\"280\" cy=\"182.23\" fill=\"#383838\" rx=\"2\" ry=\"2\" style=\"stroke: #383838; stroke-width: 1.0;\"/><ellipse cx=\"290\" cy=\"182.23\" fill=\"#383838\" rx=\"2\" ry=\"2\" style=\"stroke: #383838; stroke-width: 1.0;\"/></a><!--MD5=[14ccda38c055a5c0da953d572bc50960]\n",
       "link E7 to E3--><a href=\"psysml:85f16706-e1b7-404d-9ee5-57d420bfb7f2\" target=\"_top\" title=\"psysml:85f16706-e1b7-404d-9ee5-57d420bfb7f2\" xlink:actuate=\"onRequest\" xlink:href=\"psysml:85f16706-e1b7-404d-9ee5-57d420bfb7f2\" xlink:show=\"new\" xlink:title=\"psysml:85f16706-e1b7-404d-9ee5-57d420bfb7f2\" xlink:type=\"simple\"><path d=\"M141,159.07 C141,159.07 141,186.77 141,186.77 \" fill=\"none\" id=\"E7-&gt;E3\" style=\"stroke: #383838; stroke-width: 1.0;\"/><polygon fill=\"#FFFFFF\" points=\"141,206.77,134,187.77,148,187.77,141,206.77\" style=\"stroke: #383838; stroke-width: 1.0;\"/><ellipse cx=\"136\" cy=\"182.07\" fill=\"#383838\" rx=\"2\" ry=\"2\" style=\"stroke: #383838; stroke-width: 1.0;\"/><ellipse cx=\"146\" cy=\"182.07\" fill=\"#383838\" rx=\"2\" ry=\"2\" style=\"stroke: #383838; stroke-width: 1.0;\"/></a><!--MD5=[6434ac205fe574ab4b0615b558493665]\n",
       "@startuml\r\n",
       "skinparam ranksep 10\r\n",
       "skinparam rectangle {\r\n",
       " backgroundColor<<block>> LightGreen\r\n",
       "}\r\n",
       "skinparam linetype ortho\r\n",
       "skinparam monochrome true\r\n",
       "skinparam classbackgroundcolor white\r\n",
       "skinparam shadowing false\r\n",
       "skinparam wrapWidth 300\r\n",
       "hide circle\r\n",
       "\r\n",
       "package \"OccurrenceTest\" as E1  [[psysml:53f1d42d-2686-4f4b-950f-b84b40bc19b2 ]]  {\r\n",
       "def \"Occ\" as E2  <<(T,blue) occurrence  def>> [[psysml:77ba500d-77fd-484e-b411-8833010da35e ]] \r\n",
       "def \"Ind\" as E3  <<(T,blue) individual occurrence  def>> [[psysml:991e81ed-291b-4563-955c-44288cc9fc81 ]] \r\n",
       "rec usage \"ind: Ind, Occ\" as E4  <<(T,blue) individual occurrence>> [[psysml:90168d9a-6358-4939-88d7-8ec9974b52c6 ]] {\r\n",
       "rec usage \"s3\" as E5  <<(T,blue) snapshot occurrence>> [[psysml:d0eba55f-a402-4b22-88ba-9857d6bd50ac ]] {\r\n",
       "}\r\n",
       "rec usage \"t3\" as E6  <<(T,blue) individual timeslice occurrence>> [[psysml:0232df4f-93e4-4add-8902-f942e03a0634 ]] {\r\n",
       "}\r\n",
       "}\r\n",
       "rec usage \"s4: Ind\" as E7  <<(T,blue) individual snapshot occurrence>> [[psysml:5cbde71f-e2d0-40cd-91ed-92f5bc776eb7 ]] {\r\n",
       "}\r\n",
       "}\r\n",
       "E4 - -:|> E3 [[psysml:43f26010-ca40-42d6-8df0-e4847d82fc63 ]] \r\n",
       "E4 - -:|> E2 [[psysml:ac89f7fb-b091-4bc7-aaea-6377fc157ffe ]] \r\n",
       "E7 - -:|> E3 [[psysml:85f16706-e1b7-404d-9ee5-57d420bfb7f2 ]] \r\n",
       "@enduml\r\n",
       "\n",
       "PlantUML version 1.2020.13(Sat Jun 13 12:26:38 UTC 2020)\n",
       "(EPL source distribution)\n",
       "Java Runtime: OpenJDK Runtime Environment\n",
       "JVM: OpenJDK 64-Bit Server VM\n",
       "Default Encoding: UTF-8\n",
       "Language: en\n",
       "Country: null\n",
       "--></g></svg>"
      ]
     },
     "execution_count": 54,
     "metadata": {},
     "output_type": "execute_result"
    }
   ],
   "source": [
    "%viz --style=\"ORTHOLINE\" --view=\"Interconnection\" \"OccurrenceTest\""
   ]
  },
  {
   "cell_type": "code",
   "execution_count": 55,
   "id": "cb77e432",
   "metadata": {
    "execution": {
     "iopub.execute_input": "2022-07-23T10:52:34.816759Z",
     "iopub.status.busy": "2022-07-23T10:52:34.816311Z",
     "iopub.status.idle": "2022-07-23T10:52:34.820712Z",
     "shell.execute_reply": "2022-07-23T10:52:34.821018Z"
    }
   },
   "outputs": [
    {
     "data": {
      "image/svg+xml": [
       "<?xml version=\"1.0\" encoding=\"UTF-8\" standalone=\"no\"?><svg xmlns=\"http://www.w3.org/2000/svg\" xmlns:xlink=\"http://www.w3.org/1999/xlink\" contentScriptType=\"application/ecmascript\" contentStyleType=\"text/css\" height=\"12px\" preserveAspectRatio=\"none\" style=\"width:12px;height:12px;\" version=\"1.1\" viewBox=\"0 0 12 12\" width=\"12px\" zoomAndPan=\"magnify\"><defs/><g><!--MD5=[72934c63077099a26744516a776b4749]\n",
       "@startuml\r\n",
       "skinparam ranksep 8\r\n",
       "skinparam linetype ortho\r\n",
       "skinparam monochrome true\r\n",
       "skinparam classbackgroundcolor white\r\n",
       "skinparam shadowing false\r\n",
       "skinparam wrapWidth 300\r\n",
       "hide circle\r\n",
       "\r\n",
       "@enduml\r\n",
       "\n",
       "PlantUML version 1.2020.13(Sat Jun 13 12:26:38 UTC 2020)\n",
       "(EPL source distribution)\n",
       "Java Runtime: OpenJDK Runtime Environment\n",
       "JVM: OpenJDK 64-Bit Server VM\n",
       "Default Encoding: UTF-8\n",
       "Language: en\n",
       "Country: null\n",
       "--></g></svg>"
      ]
     },
     "execution_count": 55,
     "metadata": {},
     "output_type": "execute_result"
    }
   ],
   "source": [
    "%viz --style=\"ORTHOLINE\" --view=\"Action\" \"OccurrenceTest\""
   ]
  },
  {
   "cell_type": "code",
   "execution_count": 56,
   "id": "74e598ac",
   "metadata": {
    "execution": {
     "iopub.execute_input": "2022-07-23T10:52:34.870947Z",
     "iopub.status.busy": "2022-07-23T10:52:34.870499Z",
     "iopub.status.idle": "2022-07-23T10:52:34.875203Z",
     "shell.execute_reply": "2022-07-23T10:52:34.874812Z"
    }
   },
   "outputs": [
    {
     "data": {
      "image/svg+xml": [
       "<?xml version=\"1.0\" encoding=\"UTF-8\" standalone=\"no\"?><svg xmlns=\"http://www.w3.org/2000/svg\" xmlns:xlink=\"http://www.w3.org/1999/xlink\" contentScriptType=\"application/ecmascript\" contentStyleType=\"text/css\" height=\"12px\" preserveAspectRatio=\"none\" style=\"width:12px;height:12px;\" version=\"1.1\" viewBox=\"0 0 12 12\" width=\"12px\" zoomAndPan=\"magnify\"><defs/><g><!--MD5=[30fc1de5121c5abddedd55b44417fde8]\n",
       "@startuml\r\n",
       "skinparam roundcorner 20\r\n",
       "skinparam BoxPadding 20\r\n",
       "skinparam SequenceBoxBackgroundColor #white\r\n",
       "skinparam style strictuml\r\n",
       "skinparam maxMessageSize 100\r\n",
       "skinparam linetype ortho\r\n",
       "skinparam monochrome true\r\n",
       "skinparam classbackgroundcolor white\r\n",
       "skinparam shadowing false\r\n",
       "skinparam wrapWidth 300\r\n",
       "hide circle\r\n",
       "\r\n",
       "@enduml\r\n",
       "\n",
       "PlantUML version 1.2020.13(Sat Jun 13 12:26:38 UTC 2020)\n",
       "(EPL source distribution)\n",
       "Java Runtime: OpenJDK Runtime Environment\n",
       "JVM: OpenJDK 64-Bit Server VM\n",
       "Default Encoding: UTF-8\n",
       "Language: en\n",
       "Country: null\n",
       "--></g></svg>"
      ]
     },
     "execution_count": 56,
     "metadata": {},
     "output_type": "execute_result"
    }
   ],
   "source": [
    "%viz --style=\"ORTHOLINE\" --view=\"Sequence\" \"OccurrenceTest\""
   ]
  },
  {
   "cell_type": "code",
   "execution_count": 57,
   "id": "2750f9fd",
   "metadata": {
    "execution": {
     "iopub.execute_input": "2022-07-23T10:52:34.925204Z",
     "iopub.status.busy": "2022-07-23T10:52:34.924760Z",
     "iopub.status.idle": "2022-07-23T10:52:34.973902Z",
     "shell.execute_reply": "2022-07-23T10:52:34.972391Z"
    }
   },
   "outputs": [
    {
     "data": {
      "image/svg+xml": [
       "<?xml version=\"1.0\" encoding=\"UTF-8\" standalone=\"no\"?><svg xmlns=\"http://www.w3.org/2000/svg\" xmlns:xlink=\"http://www.w3.org/1999/xlink\" contentScriptType=\"application/ecmascript\" contentStyleType=\"text/css\" height=\"569px\" preserveAspectRatio=\"none\" style=\"width:992px;height:569px;\" version=\"1.1\" viewBox=\"0 0 992 569\" width=\"992px\" zoomAndPan=\"magnify\"><defs/><g><!--MD5=[fbc87193dbaf4d95561dea2c320d4a47]\n",
       "cluster E1--><a href=\"psysml:53f1d42d-2686-4f4b-950f-b84b40bc19b2\" target=\"_top\" title=\"psysml:53f1d42d-2686-4f4b-950f-b84b40bc19b2\" xlink:actuate=\"onRequest\" xlink:href=\"psysml:53f1d42d-2686-4f4b-950f-b84b40bc19b2\" xlink:show=\"new\" xlink:title=\"psysml:53f1d42d-2686-4f4b-950f-b84b40bc19b2\" xlink:type=\"simple\"><polygon fill=\"#FFFFFF\" points=\"16,6,134,6,141,28.2969,970,28.2969,970,557,16,557,16,6\" style=\"stroke: #000000; stroke-width: 1.5;\"/><line style=\"stroke: #000000; stroke-width: 1.5;\" x1=\"16\" x2=\"141\" y1=\"28.2969\" y2=\"28.2969\"/><text fill=\"#000000\" font-family=\"sans-serif\" font-size=\"14\" font-weight=\"bold\" lengthAdjust=\"spacingAndGlyphs\" textLength=\"112\" x=\"20\" y=\"20.9951\">OccurrenceTest</text></a><!--MD5=[b4997ac47864f28c2f74865a473b2911]\n",
       "class E2--><a href=\"psysml:77ba500d-77fd-484e-b411-8833010da35e\" target=\"_top\" title=\"psysml:77ba500d-77fd-484e-b411-8833010da35e\" xlink:actuate=\"onRequest\" xlink:href=\"psysml:77ba500d-77fd-484e-b411-8833010da35e\" xlink:show=\"new\" xlink:title=\"psysml:77ba500d-77fd-484e-b411-8833010da35e\" xlink:type=\"simple\"><rect fill=\"#FFFFFF\" height=\"75.5469\" id=\"E2\" style=\"stroke: #383838; stroke-width: 1.5;\" width=\"115\" x=\"373.5\" y=\"147\"/><text fill=\"#000000\" font-family=\"sans-serif\" font-size=\"12\" font-style=\"italic\" lengthAdjust=\"spacingAndGlyphs\" textLength=\"113\" x=\"374.5\" y=\"163.1387\">«occurrence  def»</text><text fill=\"#000000\" font-family=\"sans-serif\" font-size=\"12\" lengthAdjust=\"spacingAndGlyphs\" textLength=\"23\" x=\"419.5\" y=\"177.1074\">Occ</text><line style=\"stroke: #383838; stroke-width: 1.5;\" x1=\"374.5\" x2=\"487.5\" y1=\"184.9375\" y2=\"184.9375\"/><text fill=\"#000000\" font-family=\"sans-serif\" font-size=\"11\" lengthAdjust=\"spacingAndGlyphs\" textLength=\"7\" x=\"379.5\" y=\"215.9526\">a</text><line style=\"stroke: #383838; stroke-width: 1.0;\" x1=\"374.5\" x2=\"403.5\" y1=\"199.3398\" y2=\"199.3398\"/><text fill=\"#000000\" font-family=\"sans-serif\" font-size=\"11\" lengthAdjust=\"spacingAndGlyphs\" textLength=\"55\" x=\"403.5\" y=\"202.6479\">attributes</text><line style=\"stroke: #383838; stroke-width: 1.0;\" x1=\"458.5\" x2=\"487.5\" y1=\"199.3398\" y2=\"199.3398\"/></a><!--MD5=[09b614a08d8cba4a07c9adeb5e0fee81]\n",
       "class E3--><a href=\"psysml:37011562-c12e-4ce2-bbf9-af5619a300f0\" target=\"_top\" title=\"psysml:37011562-c12e-4ce2-bbf9-af5619a300f0\" xlink:actuate=\"onRequest\" xlink:href=\"psysml:37011562-c12e-4ce2-bbf9-af5619a300f0\" xlink:show=\"new\" xlink:title=\"psysml:37011562-c12e-4ce2-bbf9-af5619a300f0\" xlink:type=\"simple\"><rect fill=\"#FFFFFF\" height=\"45.9375\" id=\"E3\" rx=\"10\" ry=\"10\" style=\"stroke: #383838; stroke-width: 1.5;\" width=\"87\" x=\"279.5\" y=\"283\"/><text fill=\"#000000\" font-family=\"sans-serif\" font-size=\"12\" font-style=\"italic\" lengthAdjust=\"spacingAndGlyphs\" textLength=\"85\" x=\"280.5\" y=\"299.1387\">«occurrence»</text><text fill=\"#000000\" font-family=\"sans-serif\" font-size=\"12\" lengthAdjust=\"spacingAndGlyphs\" textLength=\"61\" x=\"290.5\" y=\"313.1074\">occ1: Occ</text><line style=\"stroke: #383838; stroke-width: 1.5;\" x1=\"280.5\" x2=\"365.5\" y1=\"320.9375\" y2=\"320.9375\"/></a><!--MD5=[ebbe1d658d1005bcc118a6aa81145e00]\n",
       "class E4--><a href=\"psysml:3522e0a2-d0dd-4c95-916a-e9f89fbadd86\" target=\"_top\" title=\"psysml:3522e0a2-d0dd-4c95-916a-e9f89fbadd86\" xlink:actuate=\"onRequest\" xlink:href=\"psysml:3522e0a2-d0dd-4c95-916a-e9f89fbadd86\" xlink:show=\"new\" xlink:title=\"psysml:3522e0a2-d0dd-4c95-916a-e9f89fbadd86\" xlink:type=\"simple\"><rect fill=\"#FFFFFF\" height=\"45.9375\" id=\"E4\" rx=\"10\" ry=\"10\" style=\"stroke: #383838; stroke-width: 1.5;\" width=\"87\" x=\"401.5\" y=\"283\"/><text fill=\"#000000\" font-family=\"sans-serif\" font-size=\"12\" font-style=\"italic\" lengthAdjust=\"spacingAndGlyphs\" textLength=\"85\" x=\"402.5\" y=\"299.1387\">«occurrence»</text><text fill=\"#000000\" font-family=\"sans-serif\" font-size=\"12\" lengthAdjust=\"spacingAndGlyphs\" textLength=\"61\" x=\"412.5\" y=\"313.1074\">occ2: Occ</text><line style=\"stroke: #383838; stroke-width: 1.5;\" x1=\"402.5\" x2=\"487.5\" y1=\"320.9375\" y2=\"320.9375\"/></a><!--MD5=[270fce915f116d4de14055a7c1d9a0f3]\n",
       "class E5--><a href=\"psysml:2ba1b44f-ac88-49ba-a1da-8edc5df2da3a\" target=\"_top\" title=\"psysml:2ba1b44f-ac88-49ba-a1da-8edc5df2da3a\" xlink:actuate=\"onRequest\" xlink:href=\"psysml:2ba1b44f-ac88-49ba-a1da-8edc5df2da3a\" xlink:show=\"new\" xlink:title=\"psysml:2ba1b44f-ac88-49ba-a1da-8edc5df2da3a\" xlink:type=\"simple\"><rect fill=\"#FFFFFF\" height=\"45.9375\" id=\"E5\" rx=\"10\" ry=\"10\" style=\"stroke: #383838; stroke-width: 1.5;\" width=\"212\" x=\"524\" y=\"283\"/><text fill=\"#000000\" font-family=\"sans-serif\" font-size=\"12\" font-style=\"italic\" lengthAdjust=\"spacingAndGlyphs\" textLength=\"210\" x=\"525\" y=\"299.1387\">«individual snapshot occurrence»</text><text fill=\"#000000\" font-family=\"sans-serif\" font-size=\"12\" lengthAdjust=\"spacingAndGlyphs\" textLength=\"34\" x=\"611\" y=\"313.1074\">s: Ind</text><line style=\"stroke: #383838; stroke-width: 1.5;\" x1=\"525\" x2=\"735\" y1=\"320.9375\" y2=\"320.9375\"/></a><!--MD5=[60a26617385b1d2d0262a64233df1f8d]\n",
       "class E6--><a href=\"psysml:aefaf76d-f241-48e8-80ea-b99598299972\" target=\"_top\" title=\"psysml:aefaf76d-f241-48e8-80ea-b99598299972\" xlink:actuate=\"onRequest\" xlink:href=\"psysml:aefaf76d-f241-48e8-80ea-b99598299972\" xlink:show=\"new\" xlink:title=\"psysml:aefaf76d-f241-48e8-80ea-b99598299972\" xlink:type=\"simple\"><rect fill=\"#FFFFFF\" height=\"45.9375\" id=\"E6\" rx=\"10\" ry=\"10\" style=\"stroke: #383838; stroke-width: 1.5;\" width=\"146\" x=\"771\" y=\"283\"/><text fill=\"#000000\" font-family=\"sans-serif\" font-size=\"12\" font-style=\"italic\" lengthAdjust=\"spacingAndGlyphs\" textLength=\"144\" x=\"772\" y=\"299.1387\">«timeslice occurrence»</text><text fill=\"#000000\" font-family=\"sans-serif\" font-size=\"12\" lengthAdjust=\"spacingAndGlyphs\" textLength=\"5\" x=\"839.5\" y=\"313.1074\">t</text><line style=\"stroke: #383838; stroke-width: 1.5;\" x1=\"772\" x2=\"916\" y1=\"320.9375\" y2=\"320.9375\"/></a><!--MD5=[2156ba9850f5573cc1fc38a6a4b2f02b]\n",
       "class E7--><a href=\"psysml:991e81ed-291b-4563-955c-44288cc9fc81\" target=\"_top\" title=\"psysml:991e81ed-291b-4563-955c-44288cc9fc81\" xlink:actuate=\"onRequest\" xlink:href=\"psysml:991e81ed-291b-4563-955c-44288cc9fc81\" xlink:show=\"new\" xlink:title=\"psysml:991e81ed-291b-4563-955c-44288cc9fc81\" xlink:type=\"simple\"><rect fill=\"#FFFFFF\" height=\"45.9375\" id=\"E7\" style=\"stroke: #383838; stroke-width: 1.5;\" width=\"177\" x=\"541.5\" y=\"389\"/><text fill=\"#000000\" font-family=\"sans-serif\" font-size=\"12\" font-style=\"italic\" lengthAdjust=\"spacingAndGlyphs\" textLength=\"175\" x=\"542.5\" y=\"405.1387\">«individual occurrence  def»</text><text fill=\"#000000\" font-family=\"sans-serif\" font-size=\"12\" lengthAdjust=\"spacingAndGlyphs\" textLength=\"19\" x=\"620.5\" y=\"419.1074\">Ind</text><line style=\"stroke: #383838; stroke-width: 1.5;\" x1=\"542.5\" x2=\"717.5\" y1=\"426.9375\" y2=\"426.9375\"/></a><!--MD5=[b9389687b975829384b498ac4b7476b2]\n",
       "class E8--><a href=\"psysml:fb7dbc0d-a670-4e6d-a2b6-24a9a70c023a\" target=\"_top\" title=\"psysml:fb7dbc0d-a670-4e6d-a2b6-24a9a70c023a\" xlink:actuate=\"onRequest\" xlink:href=\"psysml:fb7dbc0d-a670-4e6d-a2b6-24a9a70c023a\" xlink:show=\"new\" xlink:title=\"psysml:fb7dbc0d-a670-4e6d-a2b6-24a9a70c023a\" xlink:type=\"simple\"><rect fill=\"#FFFFFF\" height=\"45.9375\" id=\"E8\" rx=\"10\" ry=\"10\" style=\"stroke: #383838; stroke-width: 1.5;\" width=\"150\" x=\"463\" y=\"495\"/><text fill=\"#000000\" font-family=\"sans-serif\" font-size=\"12\" font-style=\"italic\" lengthAdjust=\"spacingAndGlyphs\" textLength=\"148\" x=\"464\" y=\"511.1387\">«snapshot occurrence»</text><text fill=\"#000000\" font-family=\"sans-serif\" font-size=\"12\" lengthAdjust=\"spacingAndGlyphs\" textLength=\"15\" x=\"528.5\" y=\"525.1074\">s2</text><line style=\"stroke: #383838; stroke-width: 1.5;\" x1=\"464\" x2=\"612\" y1=\"532.9375\" y2=\"532.9375\"/></a><!--MD5=[fd4143e9d270a159db93a4ea2a975926]\n",
       "class E9--><a href=\"psysml:ae0fd4ea-8dc7-4cb0-a32c-5615a8f756eb\" target=\"_top\" title=\"psysml:ae0fd4ea-8dc7-4cb0-a32c-5615a8f756eb\" xlink:actuate=\"onRequest\" xlink:href=\"psysml:ae0fd4ea-8dc7-4cb0-a32c-5615a8f756eb\" xlink:show=\"new\" xlink:title=\"psysml:ae0fd4ea-8dc7-4cb0-a32c-5615a8f756eb\" xlink:type=\"simple\"><rect fill=\"#FFFFFF\" height=\"45.9375\" id=\"E9\" rx=\"10\" ry=\"10\" style=\"stroke: #383838; stroke-width: 1.5;\" width=\"146\" x=\"648\" y=\"495\"/><text fill=\"#000000\" font-family=\"sans-serif\" font-size=\"12\" font-style=\"italic\" lengthAdjust=\"spacingAndGlyphs\" textLength=\"144\" x=\"649\" y=\"511.1387\">«timeslice occurrence»</text><text fill=\"#000000\" font-family=\"sans-serif\" font-size=\"12\" lengthAdjust=\"spacingAndGlyphs\" textLength=\"13\" x=\"712.5\" y=\"525.1074\">t2</text><line style=\"stroke: #383838; stroke-width: 1.5;\" x1=\"649\" x2=\"793\" y1=\"532.9375\" y2=\"532.9375\"/></a><!--MD5=[96f4274e9e20536e775497830990834d]\n",
       "class E10--><a href=\"psysml:90168d9a-6358-4939-88d7-8ec9974b52c6\" target=\"_top\" title=\"psysml:90168d9a-6358-4939-88d7-8ec9974b52c6\" xlink:actuate=\"onRequest\" xlink:href=\"psysml:90168d9a-6358-4939-88d7-8ec9974b52c6\" xlink:show=\"new\" xlink:title=\"psysml:90168d9a-6358-4939-88d7-8ec9974b52c6\" xlink:type=\"simple\"><rect fill=\"#FFFFFF\" height=\"45.9375\" id=\"E10\" rx=\"10\" ry=\"10\" style=\"stroke: #383838; stroke-width: 1.5;\" width=\"149\" x=\"505.5\" y=\"41\"/><text fill=\"#000000\" font-family=\"sans-serif\" font-size=\"12\" font-style=\"italic\" lengthAdjust=\"spacingAndGlyphs\" textLength=\"147\" x=\"506.5\" y=\"57.1387\">«individual occurrence»</text><text fill=\"#000000\" font-family=\"sans-serif\" font-size=\"12\" lengthAdjust=\"spacingAndGlyphs\" textLength=\"77\" x=\"539.5\" y=\"71.1074\">ind: Ind, Occ</text><line style=\"stroke: #383838; stroke-width: 1.5;\" x1=\"506.5\" x2=\"653.5\" y1=\"78.9375\" y2=\"78.9375\"/></a><!--MD5=[1dd1bfd58a279cf63c5f349dbc8fc6a1]\n",
       "class E11--><a href=\"psysml:d0eba55f-a402-4b22-88ba-9857d6bd50ac\" target=\"_top\" title=\"psysml:d0eba55f-a402-4b22-88ba-9857d6bd50ac\" xlink:actuate=\"onRequest\" xlink:href=\"psysml:d0eba55f-a402-4b22-88ba-9857d6bd50ac\" xlink:show=\"new\" xlink:title=\"psysml:d0eba55f-a402-4b22-88ba-9857d6bd50ac\" xlink:type=\"simple\"><rect fill=\"#FFFFFF\" height=\"45.9375\" id=\"E11\" rx=\"10\" ry=\"10\" style=\"stroke: #383838; stroke-width: 1.5;\" width=\"150\" x=\"561\" y=\"162\"/><text fill=\"#000000\" font-family=\"sans-serif\" font-size=\"12\" font-style=\"italic\" lengthAdjust=\"spacingAndGlyphs\" textLength=\"148\" x=\"562\" y=\"178.1387\">«snapshot occurrence»</text><text fill=\"#000000\" font-family=\"sans-serif\" font-size=\"12\" lengthAdjust=\"spacingAndGlyphs\" textLength=\"15\" x=\"626.5\" y=\"192.1074\">s3</text><line style=\"stroke: #383838; stroke-width: 1.5;\" x1=\"562\" x2=\"710\" y1=\"199.9375\" y2=\"199.9375\"/></a><!--MD5=[49a0ec8f00dab7302a31f22d0f0fe584]\n",
       "class E12--><a href=\"psysml:0232df4f-93e4-4add-8902-f942e03a0634\" target=\"_top\" title=\"psysml:0232df4f-93e4-4add-8902-f942e03a0634\" xlink:actuate=\"onRequest\" xlink:href=\"psysml:0232df4f-93e4-4add-8902-f942e03a0634\" xlink:show=\"new\" xlink:title=\"psysml:0232df4f-93e4-4add-8902-f942e03a0634\" xlink:type=\"simple\"><rect fill=\"#FFFFFF\" height=\"45.9375\" id=\"E12\" rx=\"10\" ry=\"10\" style=\"stroke: #383838; stroke-width: 1.5;\" width=\"208\" x=\"746\" y=\"162\"/><text fill=\"#000000\" font-family=\"sans-serif\" font-size=\"12\" font-style=\"italic\" lengthAdjust=\"spacingAndGlyphs\" textLength=\"206\" x=\"747\" y=\"178.1387\">«individual timeslice occurrence»</text><text fill=\"#000000\" font-family=\"sans-serif\" font-size=\"12\" lengthAdjust=\"spacingAndGlyphs\" textLength=\"13\" x=\"841.5\" y=\"192.1074\">t3</text><line style=\"stroke: #383838; stroke-width: 1.5;\" x1=\"747\" x2=\"953\" y1=\"199.9375\" y2=\"199.9375\"/></a><!--MD5=[ee3c913d1a06f366521f9ef512b67efe]\n",
       "class E13--><a href=\"psysml:5cbde71f-e2d0-40cd-91ed-92f5bc776eb7\" target=\"_top\" title=\"psysml:5cbde71f-e2d0-40cd-91ed-92f5bc776eb7\" xlink:actuate=\"onRequest\" xlink:href=\"psysml:5cbde71f-e2d0-40cd-91ed-92f5bc776eb7\" xlink:show=\"new\" xlink:title=\"psysml:5cbde71f-e2d0-40cd-91ed-92f5bc776eb7\" xlink:type=\"simple\"><rect fill=\"#FFFFFF\" height=\"45.9375\" id=\"E13\" rx=\"10\" ry=\"10\" style=\"stroke: #383838; stroke-width: 1.5;\" width=\"212\" x=\"32\" y=\"283\"/><text fill=\"#000000\" font-family=\"sans-serif\" font-size=\"12\" font-style=\"italic\" lengthAdjust=\"spacingAndGlyphs\" textLength=\"210\" x=\"33\" y=\"299.1387\">«individual snapshot occurrence»</text><text fill=\"#000000\" font-family=\"sans-serif\" font-size=\"12\" lengthAdjust=\"spacingAndGlyphs\" textLength=\"42\" x=\"115\" y=\"313.1074\">s4: Ind</text><line style=\"stroke: #383838; stroke-width: 1.5;\" x1=\"33\" x2=\"243\" y1=\"320.9375\" y2=\"320.9375\"/></a><!--MD5=[209b3feb70ccb6233bfe1053d122c12c]\n",
       "reverse link E2 to E3--><a href=\"psysml:111e77a4-44f2-45ac-862d-a1e02a1cad26\" target=\"_top\" title=\"psysml:111e77a4-44f2-45ac-862d-a1e02a1cad26\" xlink:actuate=\"onRequest\" xlink:href=\"psysml:111e77a4-44f2-45ac-862d-a1e02a1cad26\" xlink:show=\"new\" xlink:title=\"psysml:111e77a4-44f2-45ac-862d-a1e02a1cad26\" xlink:type=\"simple\"><path d=\"M382.83,236.28 C382.83,236.28 382.83,299 382.83,299 C382.83,299 375.92,299 366.8,299 \" fill=\"none\" id=\"E2&lt;-E3\" style=\"stroke: #383838; stroke-width: 1.0;\"/><polygon fill=\"#FFFFFF\" points=\"382.83,223.28,378.83,229.28,382.83,235.28,386.83,229.28,382.83,223.28\" style=\"stroke: #383838; stroke-width: 1.0;\"/></a><!--MD5=[05d275557350bfb9b23a4ef7222b4c39]\n",
       "link E3 to E2--><a href=\"psysml:0f45e557-8f0e-4df9-b1d8-28bd2526f5a3\" target=\"_top\" title=\"psysml:0f45e557-8f0e-4df9-b1d8-28bd2526f5a3\" xlink:actuate=\"onRequest\" xlink:href=\"psysml:0f45e557-8f0e-4df9-b1d8-28bd2526f5a3\" xlink:show=\"new\" xlink:title=\"psysml:0f45e557-8f0e-4df9-b1d8-28bd2526f5a3\" xlink:type=\"simple\"><path d=\"M366.8,314 C380.53,314 392.17,314 392.17,314 C392.17,314 392.17,243.01 392.17,243.01 \" fill=\"none\" id=\"E3-&gt;E2\" style=\"stroke: #383838; stroke-width: 1.0;\"/><polygon fill=\"#FFFFFF\" points=\"392.17,223.01,399.17,242.01,385.17,242.01,392.17,223.01\" style=\"stroke: #383838; stroke-width: 1.0;\"/><ellipse cx=\"397.17\" cy=\"247.71\" fill=\"#383838\" rx=\"2\" ry=\"2\" style=\"stroke: #383838; stroke-width: 1.0;\"/><ellipse cx=\"387.17\" cy=\"247.71\" fill=\"#383838\" rx=\"2\" ry=\"2\" style=\"stroke: #383838; stroke-width: 1.0;\"/></a><!--MD5=[9618e71518536f8baf3342ff6fdab317]\n",
       "reverse link E2 to E4--><a href=\"psysml:7f5381ff-79d6-4175-8599-1b084d5a38fb\" target=\"_top\" title=\"psysml:7f5381ff-79d6-4175-8599-1b084d5a38fb\" xlink:actuate=\"onRequest\" xlink:href=\"psysml:7f5381ff-79d6-4175-8599-1b084d5a38fb\" xlink:show=\"new\" xlink:title=\"psysml:7f5381ff-79d6-4175-8599-1b084d5a38fb\" xlink:type=\"simple\"><path d=\"M430.5,236.29 C430.5,236.29 430.5,282.74 430.5,282.74 \" fill=\"none\" id=\"E2&lt;-E4\" style=\"stroke: #383838; stroke-width: 1.0;\"/><polygon fill=\"#383838\" points=\"430.5,223.29,426.5,229.29,430.5,235.29,434.5,229.29,430.5,223.29\" style=\"stroke: #383838; stroke-width: 1.0;\"/></a><!--MD5=[185131fc0dcab0a4505a2ebe144e961b]\n",
       "link E4 to E2--><a href=\"psysml:9af83ecd-fc65-4272-8374-c2ac75a0337a\" target=\"_top\" title=\"psysml:9af83ecd-fc65-4272-8374-c2ac75a0337a\" xlink:actuate=\"onRequest\" xlink:href=\"psysml:9af83ecd-fc65-4272-8374-c2ac75a0337a\" xlink:show=\"new\" xlink:title=\"psysml:9af83ecd-fc65-4272-8374-c2ac75a0337a\" xlink:type=\"simple\"><path d=\"M459.5,282.96 C459.5,282.96 459.5,243.19 459.5,243.19 \" fill=\"none\" id=\"E4-&gt;E2\" style=\"stroke: #383838; stroke-width: 1.0;\"/><polygon fill=\"#FFFFFF\" points=\"459.5,223.19,466.5,242.19,452.5,242.19,459.5,223.19\" style=\"stroke: #383838; stroke-width: 1.0;\"/><ellipse cx=\"464.5\" cy=\"247.89\" fill=\"#383838\" rx=\"2\" ry=\"2\" style=\"stroke: #383838; stroke-width: 1.0;\"/><ellipse cx=\"454.5\" cy=\"247.89\" fill=\"#383838\" rx=\"2\" ry=\"2\" style=\"stroke: #383838; stroke-width: 1.0;\"/></a><!--MD5=[4e1a83fab71cdb913c109063314ae896]\n",
       "reverse link E2 to E5--><a href=\"psysml:648e9e41-ac7c-450e-af70-439d81f3f540\" target=\"_top\" title=\"psysml:648e9e41-ac7c-450e-af70-439d81f3f540\" xlink:actuate=\"onRequest\" xlink:href=\"psysml:648e9e41-ac7c-450e-af70-439d81f3f540\" xlink:show=\"new\" xlink:title=\"psysml:648e9e41-ac7c-450e-af70-439d81f3f540\" xlink:type=\"simple\"><path d=\"M501.71,218 C501.71,218 542.5,218 542.5,218 C542.5,218 542.5,256.81 542.5,282.88 \" fill=\"none\" id=\"E2&lt;-E5\" style=\"stroke: #383838; stroke-width: 1.0;\"/><polygon fill=\"#383838\" points=\"488.71,218,494.71,222,500.71,218,494.71,214,488.71,218\" style=\"stroke: #383838; stroke-width: 1.0;\"/></a><!--MD5=[ce036f65110ae2351ccce5a81dc2e928]\n",
       "reverse link E2 to E6--><a href=\"psysml:00b8b9a4-593e-406d-b505-212ff2a7c9c1\" target=\"_top\" title=\"psysml:00b8b9a4-593e-406d-b505-212ff2a7c9c1\" xlink:actuate=\"onRequest\" xlink:href=\"psysml:00b8b9a4-593e-406d-b505-212ff2a7c9c1\" xlink:show=\"new\" xlink:title=\"psysml:00b8b9a4-593e-406d-b505-212ff2a7c9c1\" xlink:type=\"simple\"><path d=\"M501.86,213 C501.86,213 844,213 844,213 C844,213 844,254.98 844,282.53 \" fill=\"none\" id=\"E2&lt;-E6\" style=\"stroke: #383838; stroke-width: 1.0;\"/><polygon fill=\"#383838\" points=\"488.86,213,494.86,217,500.86,213,494.86,209,488.86,213\" style=\"stroke: #383838; stroke-width: 1.0;\"/></a><!--MD5=[3a9b96bfbf6b6ad89c494e81751bda47]\n",
       "link E5 to E7--><a href=\"psysml:088b8ee7-f1bc-4574-b816-43bcf4f14b77\" target=\"_top\" title=\"psysml:088b8ee7-f1bc-4574-b816-43bcf4f14b77\" xlink:actuate=\"onRequest\" xlink:href=\"psysml:088b8ee7-f1bc-4574-b816-43bcf4f14b77\" xlink:show=\"new\" xlink:title=\"psysml:088b8ee7-f1bc-4574-b816-43bcf4f14b77\" xlink:type=\"simple\"><path d=\"M630,329 C630,329 630,368.68 630,368.68 \" fill=\"none\" id=\"E5-&gt;E7\" style=\"stroke: #383838; stroke-width: 1.0;\"/><polygon fill=\"#FFFFFF\" points=\"630,388.68,623,369.68,637,369.68,630,388.68\" style=\"stroke: #383838; stroke-width: 1.0;\"/><ellipse cx=\"625\" cy=\"363.98\" fill=\"#383838\" rx=\"2\" ry=\"2\" style=\"stroke: #383838; stroke-width: 1.0;\"/><ellipse cx=\"635\" cy=\"363.98\" fill=\"#383838\" rx=\"2\" ry=\"2\" style=\"stroke: #383838; stroke-width: 1.0;\"/></a><!--MD5=[dc164f5e8a733ab456ef1add180e9e34]\n",
       "reverse link E7 to E8--><a href=\"psysml:c8813ef9-ffa9-4c9d-80a4-dd20f6c80ea5\" target=\"_top\" title=\"psysml:c8813ef9-ffa9-4c9d-80a4-dd20f6c80ea5\" xlink:actuate=\"onRequest\" xlink:href=\"psysml:c8813ef9-ffa9-4c9d-80a4-dd20f6c80ea5\" xlink:show=\"new\" xlink:title=\"psysml:c8813ef9-ffa9-4c9d-80a4-dd20f6c80ea5\" xlink:type=\"simple\"><path d=\"M577.25,448 C577.25,448 577.25,494.68 577.25,494.68 \" fill=\"none\" id=\"E7&lt;-E8\" style=\"stroke: #383838; stroke-width: 1.0;\"/><polygon fill=\"#383838\" points=\"577.25,435,573.25,441,577.25,447,581.25,441,577.25,435\" style=\"stroke: #383838; stroke-width: 1.0;\"/></a><!--MD5=[e4a10ef82d0e328e31cac39a31e58dda]\n",
       "reverse link E7 to E9--><a href=\"psysml:cdca8d7c-6aa5-4fff-9e0e-900e3ba85343\" target=\"_top\" title=\"psysml:cdca8d7c-6aa5-4fff-9e0e-900e3ba85343\" xlink:actuate=\"onRequest\" xlink:href=\"psysml:cdca8d7c-6aa5-4fff-9e0e-900e3ba85343\" xlink:show=\"new\" xlink:title=\"psysml:cdca8d7c-6aa5-4fff-9e0e-900e3ba85343\" xlink:type=\"simple\"><path d=\"M683.25,448 C683.25,448 683.25,494.68 683.25,494.68 \" fill=\"none\" id=\"E7&lt;-E9\" style=\"stroke: #383838; stroke-width: 1.0;\"/><polygon fill=\"#383838\" points=\"683.25,435,679.25,441,683.25,447,687.25,441,683.25,435\" style=\"stroke: #383838; stroke-width: 1.0;\"/></a><!--MD5=[a919e0967d6f3de553dc51b9865a1d6d]\n",
       "link E10 to E7--><a href=\"psysml:43f26010-ca40-42d6-8df0-e4847d82fc63\" target=\"_top\" title=\"psysml:43f26010-ca40-42d6-8df0-e4847d82fc63\" xlink:actuate=\"onRequest\" xlink:href=\"psysml:43f26010-ca40-42d6-8df0-e4847d82fc63\" xlink:show=\"new\" xlink:title=\"psysml:43f26010-ca40-42d6-8df0-e4847d82fc63\" xlink:type=\"simple\"><path d=\"M517.83,87.17 C517.83,163.92 517.83,405 517.83,405 C517.83,405 521.35,405 521.35,405 \" fill=\"none\" id=\"E10-&gt;E7\" style=\"stroke: #383838; stroke-width: 1.0;\"/><polygon fill=\"#FFFFFF\" points=\"541.35,405,522.35,412,522.35,398,541.35,405\" style=\"stroke: #383838; stroke-width: 1.0;\"/><ellipse cx=\"516.65\" cy=\"410\" fill=\"#383838\" rx=\"2\" ry=\"2\" style=\"stroke: #383838; stroke-width: 1.0;\"/><ellipse cx=\"516.65\" cy=\"400\" fill=\"#383838\" rx=\"2\" ry=\"2\" style=\"stroke: #383838; stroke-width: 1.0;\"/></a><!--MD5=[0f36bececdf0dff6e600d6f64214b0f1]\n",
       "link E10 to E2--><a href=\"psysml:ac89f7fb-b091-4bc7-aaea-6377fc157ffe\" target=\"_top\" title=\"psysml:ac89f7fb-b091-4bc7-aaea-6377fc157ffe\" xlink:actuate=\"onRequest\" xlink:href=\"psysml:ac89f7fb-b091-4bc7-aaea-6377fc157ffe\" xlink:show=\"new\" xlink:title=\"psysml:ac89f7fb-b091-4bc7-aaea-6377fc157ffe\" xlink:type=\"simple\"><path d=\"M511.67,87.43 C511.67,114.4 511.67,155 511.67,155 C511.67,155 508.77,155 508.77,155 \" fill=\"none\" id=\"E10-&gt;E2\" style=\"stroke: #383838; stroke-width: 1.0;\"/><polygon fill=\"#FFFFFF\" points=\"488.77,155,507.77,148,507.77,162,488.77,155\" style=\"stroke: #383838; stroke-width: 1.0;\"/><ellipse cx=\"513.47\" cy=\"150\" fill=\"#383838\" rx=\"2\" ry=\"2\" style=\"stroke: #383838; stroke-width: 1.0;\"/><ellipse cx=\"513.47\" cy=\"160\" fill=\"#383838\" rx=\"2\" ry=\"2\" style=\"stroke: #383838; stroke-width: 1.0;\"/></a><!--MD5=[de308be4a2431766a05a907a031c07fc]\n",
       "reverse link E10 to E11--><a href=\"psysml:75c081c5-05e2-401c-b103-d900689a3a49\" target=\"_top\" title=\"psysml:75c081c5-05e2-401c-b103-d900689a3a49\" xlink:actuate=\"onRequest\" xlink:href=\"psysml:75c081c5-05e2-401c-b103-d900689a3a49\" xlink:show=\"new\" xlink:title=\"psysml:75c081c5-05e2-401c-b103-d900689a3a49\" xlink:type=\"simple\"><path d=\"M607.75,100.04 C607.75,100.04 607.75,161.63 607.75,161.63 \" fill=\"none\" id=\"E10&lt;-E11\" style=\"stroke: #383838; stroke-width: 1.0;\"/><polygon fill=\"#383838\" points=\"607.75,87.04,603.75,93.04,607.75,99.04,611.75,93.04,607.75,87.04\" style=\"stroke: #383838; stroke-width: 1.0;\"/></a><!--MD5=[1d54f998c6d5961a1a9184be73a7eb6c]\n",
       "reverse link E10 to E12--><a href=\"psysml:54130436-8b1f-4706-a610-d99b2d4cb5d4\" target=\"_top\" title=\"psysml:54130436-8b1f-4706-a610-d99b2d4cb5d4\" xlink:actuate=\"onRequest\" xlink:href=\"psysml:54130436-8b1f-4706-a610-d99b2d4cb5d4\" xlink:show=\"new\" xlink:title=\"psysml:54130436-8b1f-4706-a610-d99b2d4cb5d4\" xlink:type=\"simple\"><path d=\"M667.85,64 C667.85,64 850,64 850,64 C850,64 850,126.85 850,161.96 \" fill=\"none\" id=\"E10&lt;-E12\" style=\"stroke: #383838; stroke-width: 1.0;\"/><polygon fill=\"#383838\" points=\"654.85,64,660.85,68,666.85,64,660.85,60,654.85,64\" style=\"stroke: #383838; stroke-width: 1.0;\"/></a><!--MD5=[4a48077df6499cfcd20b62e8f5f37904]\n",
       "link E13 to E7--><a href=\"psysml:85f16706-e1b7-404d-9ee5-57d420bfb7f2\" target=\"_top\" title=\"psysml:85f16706-e1b7-404d-9ee5-57d420bfb7f2\" xlink:actuate=\"onRequest\" xlink:href=\"psysml:85f16706-e1b7-404d-9ee5-57d420bfb7f2\" xlink:show=\"new\" xlink:title=\"psysml:85f16706-e1b7-404d-9ee5-57d420bfb7f2\" xlink:type=\"simple\"><path d=\"M138,329.07 C138,362.38 138,420 138,420 C138,420 521.47,420 521.47,420 \" fill=\"none\" id=\"E13-&gt;E7\" style=\"stroke: #383838; stroke-width: 1.0;\"/><polygon fill=\"#FFFFFF\" points=\"541.47,420,522.47,427,522.47,413,541.47,420\" style=\"stroke: #383838; stroke-width: 1.0;\"/><ellipse cx=\"516.77\" cy=\"425\" fill=\"#383838\" rx=\"2\" ry=\"2\" style=\"stroke: #383838; stroke-width: 1.0;\"/><ellipse cx=\"516.77\" cy=\"415\" fill=\"#383838\" rx=\"2\" ry=\"2\" style=\"stroke: #383838; stroke-width: 1.0;\"/></a><!--MD5=[f79737263538d00530522edbd7f391b7]\n",
       "@startuml\r\n",
       "skinparam linetype ortho\r\n",
       "skinparam monochrome true\r\n",
       "skinparam classbackgroundcolor white\r\n",
       "skinparam shadowing false\r\n",
       "skinparam wrapWidth 300\r\n",
       "hide circle\r\n",
       "\r\n",
       "package \"OccurrenceTest\" as E1  [[psysml:53f1d42d-2686-4f4b-950f-b84b40bc19b2 ]]  {\r\n",
       "comp def \"Occ\" as E2  <<(T,blue) occurrence  def>> [[psysml:77ba500d-77fd-484e-b411-8833010da35e ]] {\r\n",
       "- - attributes - -\r\n",
       "a\r\n",
       "}\r\n",
       "comp usage \"occ1: Occ \" as E3  <<(T,blue) occurrence>> [[psysml:37011562-c12e-4ce2-bbf9-af5619a300f0 ]] {\r\n",
       "}\r\n",
       "comp usage \"occ2: Occ \" as E4  <<(T,blue) occurrence>> [[psysml:3522e0a2-d0dd-4c95-916a-e9f89fbadd86 ]] {\r\n",
       "}\r\n",
       "comp usage \"s: Ind \" as E5  <<(T,blue) individual snapshot occurrence>> [[psysml:2ba1b44f-ac88-49ba-a1da-8edc5df2da3a ]] {\r\n",
       "}\r\n",
       "comp usage \"t \" as E6  <<(T,blue) timeslice occurrence>> [[psysml:aefaf76d-f241-48e8-80ea-b99598299972 ]] {\r\n",
       "}\r\n",
       "comp def \"Ind\" as E7  <<(T,blue) individual occurrence  def>> [[psysml:991e81ed-291b-4563-955c-44288cc9fc81 ]] {\r\n",
       "}\r\n",
       "comp usage \"s2 \" as E8  <<(T,blue) snapshot occurrence>> [[psysml:fb7dbc0d-a670-4e6d-a2b6-24a9a70c023a ]] {\r\n",
       "}\r\n",
       "comp usage \"t2 \" as E9  <<(T,blue) timeslice occurrence>> [[psysml:ae0fd4ea-8dc7-4cb0-a32c-5615a8f756eb ]] {\r\n",
       "}\r\n",
       "comp usage \"ind: Ind, Occ \" as E10  <<(T,blue) individual occurrence>> [[psysml:90168d9a-6358-4939-88d7-8ec9974b52c6 ]] {\r\n",
       "}\r\n",
       "comp usage \"s3 \" as E11  <<(T,blue) snapshot occurrence>> [[psysml:d0eba55f-a402-4b22-88ba-9857d6bd50ac ]] {\r\n",
       "}\r\n",
       "comp usage \"t3 \" as E12  <<(T,blue) individual timeslice occurrence>> [[psysml:0232df4f-93e4-4add-8902-f942e03a0634 ]] {\r\n",
       "}\r\n",
       "comp usage \"s4: Ind \" as E13  <<(T,blue) individual snapshot occurrence>> [[psysml:5cbde71f-e2d0-40cd-91ed-92f5bc776eb7 ]] {\r\n",
       "}\r\n",
       "}\r\n",
       "E2 o- - E3 [[psysml:111e77a4-44f2-45ac-862d-a1e02a1cad26 ]] \r\n",
       "E3 - -:|> E2 [[psysml:0f45e557-8f0e-4df9-b1d8-28bd2526f5a3 ]] \r\n",
       "E2 *- - E4 [[psysml:7f5381ff-79d6-4175-8599-1b084d5a38fb ]] \r\n",
       "E4 - -:|> E2 [[psysml:9af83ecd-fc65-4272-8374-c2ac75a0337a ]] \r\n",
       "E2 *- - E5 [[psysml:648e9e41-ac7c-450e-af70-439d81f3f540 ]] \r\n",
       "E2 *- - E6 [[psysml:00b8b9a4-593e-406d-b505-212ff2a7c9c1 ]] \r\n",
       "E5 - -:|> E7 [[psysml:088b8ee7-f1bc-4574-b816-43bcf4f14b77 ]] \r\n",
       "E7 *- - E8 [[psysml:c8813ef9-ffa9-4c9d-80a4-dd20f6c80ea5 ]] \r\n",
       "E7 *- - E9 [[psysml:cdca8d7c-6aa5-4fff-9e0e-900e3ba85343 ]] \r\n",
       "E10 - -:|> E7 [[psysml:43f26010-ca40-42d6-8df0-e4847d82fc63 ]] \r\n",
       "E10 - -:|> E2 [[psysml:ac89f7fb-b091-4bc7-aaea-6377fc157ffe ]] \r\n",
       "E10 *- - E11 [[psysml:75c081c5-05e2-401c-b103-d900689a3a49 ]] \r\n",
       "E10 *- - E12 [[psysml:54130436-8b1f-4706-a610-d99b2d4cb5d4 ]] \r\n",
       "E13 - -:|> E7 [[psysml:85f16706-e1b7-404d-9ee5-57d420bfb7f2 ]] \r\n",
       "@enduml\r\n",
       "\n",
       "PlantUML version 1.2020.13(Sat Jun 13 12:26:38 UTC 2020)\n",
       "(EPL source distribution)\n",
       "Java Runtime: OpenJDK Runtime Environment\n",
       "JVM: OpenJDK 64-Bit Server VM\n",
       "Default Encoding: UTF-8\n",
       "Language: en\n",
       "Country: null\n",
       "--></g></svg>"
      ]
     },
     "execution_count": 57,
     "metadata": {},
     "output_type": "execute_result"
    }
   ],
   "source": [
    "%viz --style=\"ORTHOLINE\" --view=\"MIXED\" \"OccurrenceTest\""
   ]
  }
 ],
 "metadata": {
  "kernelspec": {
   "display_name": "SysML",
   "language": "sysml",
   "name": "sysml"
  },
  "language_info": {
   "codemirror_mode": "sysml",
   "file_extension": ".sysml",
   "mimetype": "text/x-sysml",
   "name": "SysML",
   "pygments_lexer": "java",
   "version": "1.0.0"
  }
 },
 "nbformat": 4,
 "nbformat_minor": 5
}
