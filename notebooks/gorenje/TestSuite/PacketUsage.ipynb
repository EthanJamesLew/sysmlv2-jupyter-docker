{
 "cells": [
  {
   "cell_type": "markdown",
   "id": "1b3fe9c2",
   "metadata": {},
   "source": [
    "# SysML v2 Test Suite\n",
    "\n",
    "This can notebook can be cleared using menu `Edit --> Clear All Outputs` and then all cells can be\n",
    "run using menu `Run --> Run All Cells`.\n",
    "\n",
    "**WARNING**: This file is generated, all modifications here will be ignored.\n"
   ]
  },
  {
   "cell_type": "markdown",
   "id": "95535025",
   "metadata": {},
   "source": [
    "## File: ../../sysml/src/examples/Packet Example/PacketUsage.sysml"
   ]
  },
  {
   "cell_type": "code",
   "execution_count": 1,
   "id": "d08f4b49",
   "metadata": {
    "execution": {
     "iopub.execute_input": "2021-04-20T07:28:57.359621Z",
     "iopub.status.busy": "2021-04-20T07:28:57.358613Z",
     "iopub.status.idle": "2021-04-20T07:28:57.603318Z",
     "shell.execute_reply": "2021-04-20T07:28:57.598600Z"
    }
   },
   "outputs": [
    {
     "name": "stderr",
     "output_type": "stream",
     "text": [
      "ERROR:Couldn't resolve reference to Namespace 'Packets'. (1.sysml line : 2 column : 16)\n"
     ]
    },
    {
     "name": "stderr",
     "output_type": "stream",
     "text": [
      "ERROR:Couldn't resolve reference to Type ''Thermal Data Packet''. (1.sysml line : 5 column : 16)\n"
     ]
    },
    {
     "name": "stderr",
     "output_type": "stream",
     "text": [
      "ERROR:Couldn't resolve reference to Type ''Thermal Data Packet''. (1.sysml line : 6 column : 16)\n"
     ]
    },
    {
     "name": "stderr",
     "output_type": "stream",
     "text": [
      "ERROR:Couldn't resolve reference to Type ''Thermal Data Packet''. (1.sysml line : 7 column : 16)\n"
     ]
    },
    {
     "name": "stderr",
     "output_type": "stream",
     "text": [
      "ERROR:Couldn't resolve reference to Feature ''packet data field''. (1.sysml line : 8 column : 44)\n"
     ]
    },
    {
     "name": "stderr",
     "output_type": "stream",
     "text": [
      "ERROR:Couldn't resolve reference to Feature ''user data field''. (1.sysml line : 9 column : 24)\n"
     ]
    },
    {
     "name": "stderr",
     "output_type": "stream",
     "text": [
      "ERROR:A part usage must be typed by item definitions and at least one part definition. (1.sysml line : 5 column : 2)\n"
     ]
    },
    {
     "name": "stderr",
     "output_type": "stream",
     "text": [
      "ERROR:A part usage must be typed by item definitions and at least one part definition. (1.sysml line : 6 column : 2)\n"
     ]
    },
    {
     "name": "stderr",
     "output_type": "stream",
     "text": [
      "ERROR:A part usage must be typed by item definitions and at least one part definition. (1.sysml line : 7 column : 2)\n"
     ]
    },
    {
     "name": "stderr",
     "output_type": "stream",
     "text": [
      "ERROR:Features must have at least one type (1.sysml line : 8 column : 3)\n"
     ]
    },
    {
     "name": "stderr",
     "output_type": "stream",
     "text": [
      "ERROR:Features must have at least one type (1.sysml line : 9 column : 4)\n"
     ]
    },
    {
     "data": {
      "text/plain": []
     },
     "execution_count": 1,
     "metadata": {},
     "output_type": "execute_result"
    }
   ],
   "source": [
    "package 'Packet Usage' {\n",
    "\tpublic import Packets::*;\n",
    "\tprivate import ScalarValues::Real;\n",
    "\t\n",
    "\tpart packet1: 'Thermal Data Packet';\n",
    "\tpart packet2: 'Thermal Data Packet';\n",
    "\tpart packet3: 'Thermal Data Packet' {\n",
    "\t\tattribute 'special data field' redefines 'packet data field'{\n",
    "\t\t\tattribute redefines 'user data field' {\n",
    "\t\t\t\tattribute 'special data': Real;\n",
    "\t\t\t}\n",
    "\t\t}\n",
    "\t}\n",
    "\t\n",
    "}\n",
    "\t\n"
   ]
  },
  {
   "cell_type": "code",
   "execution_count": 2,
   "id": "ffd7d137",
   "metadata": {
    "execution": {
     "iopub.execute_input": "2021-04-20T07:28:57.651003Z",
     "iopub.status.busy": "2021-04-20T07:28:57.650046Z",
     "iopub.status.idle": "2021-04-20T07:28:57.660502Z",
     "shell.execute_reply": "2021-04-20T07:28:57.660058Z"
    }
   },
   "outputs": [
    {
     "data": {
      "text/plain": [
       "ERROR:Couldn't resolve reference to Element ''Packet'\n"
      ]
     },
     "execution_count": 2,
     "metadata": {},
     "output_type": "execute_result"
    }
   ],
   "source": [
    "%viz --style=\"COMPTREE\" --view=\"Default\" \"'Packet\""
   ]
  },
  {
   "cell_type": "code",
   "execution_count": 3,
   "id": "9e91b32a",
   "metadata": {
    "execution": {
     "iopub.execute_input": "2021-04-20T07:28:57.712378Z",
     "iopub.status.busy": "2021-04-20T07:28:57.709579Z",
     "iopub.status.idle": "2021-04-20T07:28:57.714134Z",
     "shell.execute_reply": "2021-04-20T07:28:57.713038Z"
    }
   },
   "outputs": [
    {
     "data": {
      "text/plain": [
       "ERROR:Couldn't resolve reference to Element ''Packet'\n"
      ]
     },
     "execution_count": 3,
     "metadata": {},
     "output_type": "execute_result"
    }
   ],
   "source": [
    "%viz --style=\"COMPTREE\" --view=\"Tree\" \"'Packet\""
   ]
  },
  {
   "cell_type": "code",
   "execution_count": 4,
   "id": "beb64a17",
   "metadata": {
    "execution": {
     "iopub.execute_input": "2021-04-20T07:28:57.765348Z",
     "iopub.status.busy": "2021-04-20T07:28:57.763642Z",
     "iopub.status.idle": "2021-04-20T07:28:57.768022Z",
     "shell.execute_reply": "2021-04-20T07:28:57.767580Z"
    }
   },
   "outputs": [
    {
     "data": {
      "text/plain": [
       "ERROR:Couldn't resolve reference to Element ''Packet'\n"
      ]
     },
     "execution_count": 4,
     "metadata": {},
     "output_type": "execute_result"
    }
   ],
   "source": [
    "%viz --style=\"COMPTREE\" --view=\"State\" \"'Packet\""
   ]
  },
  {
   "cell_type": "code",
   "execution_count": 5,
   "id": "ab82f45f",
   "metadata": {
    "execution": {
     "iopub.execute_input": "2021-04-20T07:28:57.818508Z",
     "iopub.status.busy": "2021-04-20T07:28:57.817629Z",
     "iopub.status.idle": "2021-04-20T07:28:57.819623Z",
     "shell.execute_reply": "2021-04-20T07:28:57.818143Z"
    }
   },
   "outputs": [
    {
     "data": {
      "text/plain": [
       "ERROR:Couldn't resolve reference to Element ''Packet'\n"
      ]
     },
     "execution_count": 5,
     "metadata": {},
     "output_type": "execute_result"
    }
   ],
   "source": [
    "%viz --style=\"COMPTREE\" --view=\"Interconnection\" \"'Packet\""
   ]
  },
  {
   "cell_type": "code",
   "execution_count": 6,
   "id": "bffdc73d",
   "metadata": {
    "execution": {
     "iopub.execute_input": "2021-04-20T07:28:57.870802Z",
     "iopub.status.busy": "2021-04-20T07:28:57.870248Z",
     "iopub.status.idle": "2021-04-20T07:28:57.872247Z",
     "shell.execute_reply": "2021-04-20T07:28:57.871171Z"
    }
   },
   "outputs": [
    {
     "data": {
      "text/plain": [
       "ERROR:Couldn't resolve reference to Element ''Packet'\n"
      ]
     },
     "execution_count": 6,
     "metadata": {},
     "output_type": "execute_result"
    }
   ],
   "source": [
    "%viz --style=\"COMPTREE\" --view=\"Action\" \"'Packet\""
   ]
  },
  {
   "cell_type": "code",
   "execution_count": 7,
   "id": "6fa802ae",
   "metadata": {
    "execution": {
     "iopub.execute_input": "2021-04-20T07:28:57.923826Z",
     "iopub.status.busy": "2021-04-20T07:28:57.922524Z",
     "iopub.status.idle": "2021-04-20T07:28:57.925503Z",
     "shell.execute_reply": "2021-04-20T07:28:57.924186Z"
    }
   },
   "outputs": [
    {
     "data": {
      "text/plain": [
       "ERROR:Couldn't resolve reference to Element ''Packet'\n"
      ]
     },
     "execution_count": 7,
     "metadata": {},
     "output_type": "execute_result"
    }
   ],
   "source": [
    "%viz --style=\"COMPTREE\" --view=\"Sequence\" \"'Packet\""
   ]
  },
  {
   "cell_type": "code",
   "execution_count": 8,
   "id": "76ffafc7",
   "metadata": {
    "execution": {
     "iopub.execute_input": "2021-04-20T07:28:57.976725Z",
     "iopub.status.busy": "2021-04-20T07:28:57.975409Z",
     "iopub.status.idle": "2021-04-20T07:28:57.978199Z",
     "shell.execute_reply": "2021-04-20T07:28:57.977102Z"
    }
   },
   "outputs": [
    {
     "data": {
      "text/plain": [
       "ERROR:Couldn't resolve reference to Element ''Packet'\n"
      ]
     },
     "execution_count": 8,
     "metadata": {},
     "output_type": "execute_result"
    }
   ],
   "source": [
    "%viz --style=\"COMPTREE\" --view=\"MIXED\" \"'Packet\""
   ]
  },
  {
   "cell_type": "code",
   "execution_count": 9,
   "id": "68fcf98e",
   "metadata": {
    "execution": {
     "iopub.execute_input": "2021-04-20T07:28:58.028577Z",
     "iopub.status.busy": "2021-04-20T07:28:58.028112Z",
     "iopub.status.idle": "2021-04-20T07:28:58.030478Z",
     "shell.execute_reply": "2021-04-20T07:28:58.030815Z"
    }
   },
   "outputs": [
    {
     "data": {
      "text/plain": [
       "ERROR:Couldn't resolve reference to Element ''Packet'\n"
      ]
     },
     "execution_count": 9,
     "metadata": {},
     "output_type": "execute_result"
    }
   ],
   "source": [
    "%viz --style=\"POLYLINE\" --view=\"Default\" \"'Packet\""
   ]
  },
  {
   "cell_type": "code",
   "execution_count": 10,
   "id": "741e1014",
   "metadata": {
    "execution": {
     "iopub.execute_input": "2021-04-20T07:28:58.083403Z",
     "iopub.status.busy": "2021-04-20T07:28:58.082509Z",
     "iopub.status.idle": "2021-04-20T07:28:58.084788Z",
     "shell.execute_reply": "2021-04-20T07:28:58.083771Z"
    }
   },
   "outputs": [
    {
     "data": {
      "text/plain": [
       "ERROR:Couldn't resolve reference to Element ''Packet'\n"
      ]
     },
     "execution_count": 10,
     "metadata": {},
     "output_type": "execute_result"
    }
   ],
   "source": [
    "%viz --style=\"POLYLINE\" --view=\"Tree\" \"'Packet\""
   ]
  },
  {
   "cell_type": "code",
   "execution_count": 11,
   "id": "b68fe04a",
   "metadata": {
    "execution": {
     "iopub.execute_input": "2021-04-20T07:28:58.138808Z",
     "iopub.status.busy": "2021-04-20T07:28:58.138190Z",
     "iopub.status.idle": "2021-04-20T07:28:58.140321Z",
     "shell.execute_reply": "2021-04-20T07:28:58.139201Z"
    }
   },
   "outputs": [
    {
     "data": {
      "text/plain": [
       "ERROR:Couldn't resolve reference to Element ''Packet'\n"
      ]
     },
     "execution_count": 11,
     "metadata": {},
     "output_type": "execute_result"
    }
   ],
   "source": [
    "%viz --style=\"POLYLINE\" --view=\"State\" \"'Packet\""
   ]
  },
  {
   "cell_type": "code",
   "execution_count": 12,
   "id": "a83349cc",
   "metadata": {
    "execution": {
     "iopub.execute_input": "2021-04-20T07:28:58.188860Z",
     "iopub.status.busy": "2021-04-20T07:28:58.188127Z",
     "iopub.status.idle": "2021-04-20T07:28:58.190666Z",
     "shell.execute_reply": "2021-04-20T07:28:58.190336Z"
    }
   },
   "outputs": [
    {
     "data": {
      "text/plain": [
       "ERROR:Couldn't resolve reference to Element ''Packet'\n"
      ]
     },
     "execution_count": 12,
     "metadata": {},
     "output_type": "execute_result"
    }
   ],
   "source": [
    "%viz --style=\"POLYLINE\" --view=\"Interconnection\" \"'Packet\""
   ]
  },
  {
   "cell_type": "code",
   "execution_count": 13,
   "id": "41a07752",
   "metadata": {
    "execution": {
     "iopub.execute_input": "2021-04-20T07:28:58.242240Z",
     "iopub.status.busy": "2021-04-20T07:28:58.241609Z",
     "iopub.status.idle": "2021-04-20T07:28:58.243627Z",
     "shell.execute_reply": "2021-04-20T07:28:58.242574Z"
    }
   },
   "outputs": [
    {
     "data": {
      "text/plain": [
       "ERROR:Couldn't resolve reference to Element ''Packet'\n"
      ]
     },
     "execution_count": 13,
     "metadata": {},
     "output_type": "execute_result"
    }
   ],
   "source": [
    "%viz --style=\"POLYLINE\" --view=\"Action\" \"'Packet\""
   ]
  },
  {
   "cell_type": "code",
   "execution_count": 14,
   "id": "f940c733",
   "metadata": {
    "execution": {
     "iopub.execute_input": "2021-04-20T07:28:58.294652Z",
     "iopub.status.busy": "2021-04-20T07:28:58.293798Z",
     "iopub.status.idle": "2021-04-20T07:28:58.295977Z",
     "shell.execute_reply": "2021-04-20T07:28:58.295022Z"
    }
   },
   "outputs": [
    {
     "data": {
      "text/plain": [
       "ERROR:Couldn't resolve reference to Element ''Packet'\n"
      ]
     },
     "execution_count": 14,
     "metadata": {},
     "output_type": "execute_result"
    }
   ],
   "source": [
    "%viz --style=\"POLYLINE\" --view=\"Sequence\" \"'Packet\""
   ]
  },
  {
   "cell_type": "code",
   "execution_count": 15,
   "id": "1df61966",
   "metadata": {
    "execution": {
     "iopub.execute_input": "2021-04-20T07:28:58.347574Z",
     "iopub.status.busy": "2021-04-20T07:28:58.346805Z",
     "iopub.status.idle": "2021-04-20T07:28:58.348879Z",
     "shell.execute_reply": "2021-04-20T07:28:58.347949Z"
    }
   },
   "outputs": [
    {
     "data": {
      "text/plain": [
       "ERROR:Couldn't resolve reference to Element ''Packet'\n"
      ]
     },
     "execution_count": 15,
     "metadata": {},
     "output_type": "execute_result"
    }
   ],
   "source": [
    "%viz --style=\"POLYLINE\" --view=\"MIXED\" \"'Packet\""
   ]
  },
  {
   "cell_type": "code",
   "execution_count": 16,
   "id": "f430232c",
   "metadata": {
    "execution": {
     "iopub.execute_input": "2021-04-20T07:28:58.400527Z",
     "iopub.status.busy": "2021-04-20T07:28:58.399901Z",
     "iopub.status.idle": "2021-04-20T07:28:58.401911Z",
     "shell.execute_reply": "2021-04-20T07:28:58.400956Z"
    }
   },
   "outputs": [
    {
     "data": {
      "text/plain": [
       "ERROR:Couldn't resolve reference to Element ''Packet'\n"
      ]
     },
     "execution_count": 16,
     "metadata": {},
     "output_type": "execute_result"
    }
   ],
   "source": [
    "%viz --style=\"LR\" --view=\"Default\" \"'Packet\""
   ]
  },
  {
   "cell_type": "code",
   "execution_count": 17,
   "id": "cffb0abf",
   "metadata": {
    "execution": {
     "iopub.execute_input": "2021-04-20T07:28:58.452629Z",
     "iopub.status.busy": "2021-04-20T07:28:58.452066Z",
     "iopub.status.idle": "2021-04-20T07:28:58.453850Z",
     "shell.execute_reply": "2021-04-20T07:28:58.454133Z"
    }
   },
   "outputs": [
    {
     "data": {
      "text/plain": [
       "ERROR:Couldn't resolve reference to Element ''Packet'\n"
      ]
     },
     "execution_count": 17,
     "metadata": {},
     "output_type": "execute_result"
    }
   ],
   "source": [
    "%viz --style=\"LR\" --view=\"Tree\" \"'Packet\""
   ]
  },
  {
   "cell_type": "code",
   "execution_count": 18,
   "id": "deb76833",
   "metadata": {
    "execution": {
     "iopub.execute_input": "2021-04-20T07:28:58.505957Z",
     "iopub.status.busy": "2021-04-20T07:28:58.505435Z",
     "iopub.status.idle": "2021-04-20T07:28:58.507262Z",
     "shell.execute_reply": "2021-04-20T07:28:58.506973Z"
    }
   },
   "outputs": [
    {
     "data": {
      "text/plain": [
       "ERROR:Couldn't resolve reference to Element ''Packet'\n"
      ]
     },
     "execution_count": 18,
     "metadata": {},
     "output_type": "execute_result"
    }
   ],
   "source": [
    "%viz --style=\"LR\" --view=\"State\" \"'Packet\""
   ]
  },
  {
   "cell_type": "code",
   "execution_count": 19,
   "id": "b2db93fd",
   "metadata": {
    "execution": {
     "iopub.execute_input": "2021-04-20T07:28:58.558222Z",
     "iopub.status.busy": "2021-04-20T07:28:58.557714Z",
     "iopub.status.idle": "2021-04-20T07:28:58.559732Z",
     "shell.execute_reply": "2021-04-20T07:28:58.559394Z"
    }
   },
   "outputs": [
    {
     "data": {
      "text/plain": [
       "ERROR:Couldn't resolve reference to Element ''Packet'\n"
      ]
     },
     "execution_count": 19,
     "metadata": {},
     "output_type": "execute_result"
    }
   ],
   "source": [
    "%viz --style=\"LR\" --view=\"Interconnection\" \"'Packet\""
   ]
  },
  {
   "cell_type": "code",
   "execution_count": 20,
   "id": "75d32db2",
   "metadata": {
    "execution": {
     "iopub.execute_input": "2021-04-20T07:28:58.611788Z",
     "iopub.status.busy": "2021-04-20T07:28:58.610828Z",
     "iopub.status.idle": "2021-04-20T07:28:58.613315Z",
     "shell.execute_reply": "2021-04-20T07:28:58.612151Z"
    }
   },
   "outputs": [
    {
     "data": {
      "text/plain": [
       "ERROR:Couldn't resolve reference to Element ''Packet'\n"
      ]
     },
     "execution_count": 20,
     "metadata": {},
     "output_type": "execute_result"
    }
   ],
   "source": [
    "%viz --style=\"LR\" --view=\"Action\" \"'Packet\""
   ]
  },
  {
   "cell_type": "code",
   "execution_count": 21,
   "id": "510399cb",
   "metadata": {
    "execution": {
     "iopub.execute_input": "2021-04-20T07:28:58.664416Z",
     "iopub.status.busy": "2021-04-20T07:28:58.663922Z",
     "iopub.status.idle": "2021-04-20T07:28:58.665724Z",
     "shell.execute_reply": "2021-04-20T07:28:58.664767Z"
    }
   },
   "outputs": [
    {
     "data": {
      "text/plain": [
       "ERROR:Couldn't resolve reference to Element ''Packet'\n"
      ]
     },
     "execution_count": 21,
     "metadata": {},
     "output_type": "execute_result"
    }
   ],
   "source": [
    "%viz --style=\"LR\" --view=\"Sequence\" \"'Packet\""
   ]
  },
  {
   "cell_type": "code",
   "execution_count": 22,
   "id": "79ea92c0",
   "metadata": {
    "execution": {
     "iopub.execute_input": "2021-04-20T07:28:58.716676Z",
     "iopub.status.busy": "2021-04-20T07:28:58.715998Z",
     "iopub.status.idle": "2021-04-20T07:28:58.717924Z",
     "shell.execute_reply": "2021-04-20T07:28:58.716980Z"
    }
   },
   "outputs": [
    {
     "data": {
      "text/plain": [
       "ERROR:Couldn't resolve reference to Element ''Packet'\n"
      ]
     },
     "execution_count": 22,
     "metadata": {},
     "output_type": "execute_result"
    }
   ],
   "source": [
    "%viz --style=\"LR\" --view=\"MIXED\" \"'Packet\""
   ]
  },
  {
   "cell_type": "code",
   "execution_count": 23,
   "id": "952fe259",
   "metadata": {
    "execution": {
     "iopub.execute_input": "2021-04-20T07:28:58.768283Z",
     "iopub.status.busy": "2021-04-20T07:28:58.767646Z",
     "iopub.status.idle": "2021-04-20T07:28:58.769595Z",
     "shell.execute_reply": "2021-04-20T07:28:58.768611Z"
    }
   },
   "outputs": [
    {
     "data": {
      "text/plain": [
       "ERROR:Couldn't resolve reference to Element ''Packet'\n"
      ]
     },
     "execution_count": 23,
     "metadata": {},
     "output_type": "execute_result"
    }
   ],
   "source": [
    "%viz --style=\"STDCOLOR\" --view=\"Default\" \"'Packet\""
   ]
  },
  {
   "cell_type": "code",
   "execution_count": 24,
   "id": "12fee007",
   "metadata": {
    "execution": {
     "iopub.execute_input": "2021-04-20T07:28:58.821006Z",
     "iopub.status.busy": "2021-04-20T07:28:58.820190Z",
     "iopub.status.idle": "2021-04-20T07:28:58.822960Z",
     "shell.execute_reply": "2021-04-20T07:28:58.821529Z"
    }
   },
   "outputs": [
    {
     "data": {
      "text/plain": [
       "ERROR:Couldn't resolve reference to Element ''Packet'\n"
      ]
     },
     "execution_count": 24,
     "metadata": {},
     "output_type": "execute_result"
    }
   ],
   "source": [
    "%viz --style=\"STDCOLOR\" --view=\"Tree\" \"'Packet\""
   ]
  },
  {
   "cell_type": "code",
   "execution_count": 25,
   "id": "849e3197",
   "metadata": {
    "execution": {
     "iopub.execute_input": "2021-04-20T07:28:58.873088Z",
     "iopub.status.busy": "2021-04-20T07:28:58.872614Z",
     "iopub.status.idle": "2021-04-20T07:28:58.874401Z",
     "shell.execute_reply": "2021-04-20T07:28:58.874107Z"
    }
   },
   "outputs": [
    {
     "data": {
      "text/plain": [
       "ERROR:Couldn't resolve reference to Element ''Packet'\n"
      ]
     },
     "execution_count": 25,
     "metadata": {},
     "output_type": "execute_result"
    }
   ],
   "source": [
    "%viz --style=\"STDCOLOR\" --view=\"State\" \"'Packet\""
   ]
  },
  {
   "cell_type": "code",
   "execution_count": 26,
   "id": "806c36ff",
   "metadata": {
    "execution": {
     "iopub.execute_input": "2021-04-20T07:28:58.925470Z",
     "iopub.status.busy": "2021-04-20T07:28:58.925010Z",
     "iopub.status.idle": "2021-04-20T07:28:58.926869Z",
     "shell.execute_reply": "2021-04-20T07:28:58.925845Z"
    }
   },
   "outputs": [
    {
     "data": {
      "text/plain": [
       "ERROR:Couldn't resolve reference to Element ''Packet'\n"
      ]
     },
     "execution_count": 26,
     "metadata": {},
     "output_type": "execute_result"
    }
   ],
   "source": [
    "%viz --style=\"STDCOLOR\" --view=\"Interconnection\" \"'Packet\""
   ]
  },
  {
   "cell_type": "code",
   "execution_count": 27,
   "id": "60278d50",
   "metadata": {
    "execution": {
     "iopub.execute_input": "2021-04-20T07:28:58.977662Z",
     "iopub.status.busy": "2021-04-20T07:28:58.977141Z",
     "iopub.status.idle": "2021-04-20T07:28:58.979158Z",
     "shell.execute_reply": "2021-04-20T07:28:58.978844Z"
    }
   },
   "outputs": [
    {
     "data": {
      "text/plain": [
       "ERROR:Couldn't resolve reference to Element ''Packet'\n"
      ]
     },
     "execution_count": 27,
     "metadata": {},
     "output_type": "execute_result"
    }
   ],
   "source": [
    "%viz --style=\"STDCOLOR\" --view=\"Action\" \"'Packet\""
   ]
  },
  {
   "cell_type": "code",
   "execution_count": 28,
   "id": "38c45563",
   "metadata": {
    "execution": {
     "iopub.execute_input": "2021-04-20T07:28:59.031283Z",
     "iopub.status.busy": "2021-04-20T07:28:59.030508Z",
     "iopub.status.idle": "2021-04-20T07:28:59.032702Z",
     "shell.execute_reply": "2021-04-20T07:28:59.031720Z"
    }
   },
   "outputs": [
    {
     "data": {
      "text/plain": [
       "ERROR:Couldn't resolve reference to Element ''Packet'\n"
      ]
     },
     "execution_count": 28,
     "metadata": {},
     "output_type": "execute_result"
    }
   ],
   "source": [
    "%viz --style=\"STDCOLOR\" --view=\"Sequence\" \"'Packet\""
   ]
  },
  {
   "cell_type": "code",
   "execution_count": 29,
   "id": "52fc10bc",
   "metadata": {
    "execution": {
     "iopub.execute_input": "2021-04-20T07:28:59.082826Z",
     "iopub.status.busy": "2021-04-20T07:28:59.082347Z",
     "iopub.status.idle": "2021-04-20T07:28:59.084053Z",
     "shell.execute_reply": "2021-04-20T07:28:59.083125Z"
    }
   },
   "outputs": [
    {
     "data": {
      "text/plain": [
       "ERROR:Couldn't resolve reference to Element ''Packet'\n"
      ]
     },
     "execution_count": 29,
     "metadata": {},
     "output_type": "execute_result"
    }
   ],
   "source": [
    "%viz --style=\"STDCOLOR\" --view=\"MIXED\" \"'Packet\""
   ]
  },
  {
   "cell_type": "code",
   "execution_count": 30,
   "id": "309ecb5b",
   "metadata": {
    "execution": {
     "iopub.execute_input": "2021-04-20T07:28:59.135315Z",
     "iopub.status.busy": "2021-04-20T07:28:59.134450Z",
     "iopub.status.idle": "2021-04-20T07:28:59.136888Z",
     "shell.execute_reply": "2021-04-20T07:28:59.135814Z"
    }
   },
   "outputs": [
    {
     "data": {
      "text/plain": [
       "ERROR:Couldn't resolve reference to Element ''Packet'\n"
      ]
     },
     "execution_count": 30,
     "metadata": {},
     "output_type": "execute_result"
    }
   ],
   "source": [
    "%viz --style=\"PLANTUML\" --view=\"Default\" \"'Packet\""
   ]
  },
  {
   "cell_type": "code",
   "execution_count": 31,
   "id": "b8681e8b",
   "metadata": {
    "execution": {
     "iopub.execute_input": "2021-04-20T07:28:59.187475Z",
     "iopub.status.busy": "2021-04-20T07:28:59.187049Z",
     "iopub.status.idle": "2021-04-20T07:28:59.188799Z",
     "shell.execute_reply": "2021-04-20T07:28:59.187838Z"
    }
   },
   "outputs": [
    {
     "data": {
      "text/plain": [
       "ERROR:Couldn't resolve reference to Element ''Packet'\n"
      ]
     },
     "execution_count": 31,
     "metadata": {},
     "output_type": "execute_result"
    }
   ],
   "source": [
    "%viz --style=\"PLANTUML\" --view=\"Tree\" \"'Packet\""
   ]
  },
  {
   "cell_type": "code",
   "execution_count": 32,
   "id": "0f292650",
   "metadata": {
    "execution": {
     "iopub.execute_input": "2021-04-20T07:28:59.244797Z",
     "iopub.status.busy": "2021-04-20T07:28:59.243511Z",
     "iopub.status.idle": "2021-04-20T07:28:59.248618Z",
     "shell.execute_reply": "2021-04-20T07:28:59.246451Z"
    }
   },
   "outputs": [
    {
     "data": {
      "text/plain": [
       "ERROR:Couldn't resolve reference to Element ''Packet'\n"
      ]
     },
     "execution_count": 32,
     "metadata": {},
     "output_type": "execute_result"
    }
   ],
   "source": [
    "%viz --style=\"PLANTUML\" --view=\"State\" \"'Packet\""
   ]
  },
  {
   "cell_type": "code",
   "execution_count": 33,
   "id": "eb6c8a6f",
   "metadata": {
    "execution": {
     "iopub.execute_input": "2021-04-20T07:28:59.297636Z",
     "iopub.status.busy": "2021-04-20T07:28:59.296585Z",
     "iopub.status.idle": "2021-04-20T07:28:59.299224Z",
     "shell.execute_reply": "2021-04-20T07:28:59.298119Z"
    }
   },
   "outputs": [
    {
     "data": {
      "text/plain": [
       "ERROR:Couldn't resolve reference to Element ''Packet'\n"
      ]
     },
     "execution_count": 33,
     "metadata": {},
     "output_type": "execute_result"
    }
   ],
   "source": [
    "%viz --style=\"PLANTUML\" --view=\"Interconnection\" \"'Packet\""
   ]
  },
  {
   "cell_type": "code",
   "execution_count": 34,
   "id": "8bf085f3",
   "metadata": {
    "execution": {
     "iopub.execute_input": "2021-04-20T07:28:59.349492Z",
     "iopub.status.busy": "2021-04-20T07:28:59.348830Z",
     "iopub.status.idle": "2021-04-20T07:28:59.352360Z",
     "shell.execute_reply": "2021-04-20T07:28:59.350096Z"
    }
   },
   "outputs": [
    {
     "data": {
      "text/plain": [
       "ERROR:Couldn't resolve reference to Element ''Packet'\n"
      ]
     },
     "execution_count": 34,
     "metadata": {},
     "output_type": "execute_result"
    }
   ],
   "source": [
    "%viz --style=\"PLANTUML\" --view=\"Action\" \"'Packet\""
   ]
  },
  {
   "cell_type": "code",
   "execution_count": 35,
   "id": "33c8cc42",
   "metadata": {
    "execution": {
     "iopub.execute_input": "2021-04-20T07:28:59.406255Z",
     "iopub.status.busy": "2021-04-20T07:28:59.405576Z",
     "iopub.status.idle": "2021-04-20T07:28:59.407428Z",
     "shell.execute_reply": "2021-04-20T07:28:59.406581Z"
    }
   },
   "outputs": [
    {
     "data": {
      "text/plain": [
       "ERROR:Couldn't resolve reference to Element ''Packet'\n"
      ]
     },
     "execution_count": 35,
     "metadata": {},
     "output_type": "execute_result"
    }
   ],
   "source": [
    "%viz --style=\"PLANTUML\" --view=\"Sequence\" \"'Packet\""
   ]
  },
  {
   "cell_type": "code",
   "execution_count": 36,
   "id": "afeed84f",
   "metadata": {
    "execution": {
     "iopub.execute_input": "2021-04-20T07:28:59.459875Z",
     "iopub.status.busy": "2021-04-20T07:28:59.458859Z",
     "iopub.status.idle": "2021-04-20T07:28:59.461218Z",
     "shell.execute_reply": "2021-04-20T07:28:59.459365Z"
    }
   },
   "outputs": [
    {
     "data": {
      "text/plain": [
       "ERROR:Couldn't resolve reference to Element ''Packet'\n"
      ]
     },
     "execution_count": 36,
     "metadata": {},
     "output_type": "execute_result"
    }
   ],
   "source": [
    "%viz --style=\"PLANTUML\" --view=\"MIXED\" \"'Packet\""
   ]
  },
  {
   "cell_type": "code",
   "execution_count": 37,
   "id": "5f8a17a9",
   "metadata": {
    "execution": {
     "iopub.execute_input": "2021-04-20T07:28:59.510847Z",
     "iopub.status.busy": "2021-04-20T07:28:59.510303Z",
     "iopub.status.idle": "2021-04-20T07:28:59.512732Z",
     "shell.execute_reply": "2021-04-20T07:28:59.512268Z"
    }
   },
   "outputs": [
    {
     "data": {
      "text/plain": [
       "ERROR:Couldn't resolve reference to Element ''Packet'\n"
      ]
     },
     "execution_count": 37,
     "metadata": {},
     "output_type": "execute_result"
    }
   ],
   "source": [
    "%viz --style=\"DEFAULT\" --view=\"Default\" \"'Packet\""
   ]
  },
  {
   "cell_type": "code",
   "execution_count": 38,
   "id": "a29fb8c7",
   "metadata": {
    "execution": {
     "iopub.execute_input": "2021-04-20T07:28:59.563556Z",
     "iopub.status.busy": "2021-04-20T07:28:59.562899Z",
     "iopub.status.idle": "2021-04-20T07:28:59.565005Z",
     "shell.execute_reply": "2021-04-20T07:28:59.563992Z"
    }
   },
   "outputs": [
    {
     "data": {
      "text/plain": [
       "ERROR:Couldn't resolve reference to Element ''Packet'\n"
      ]
     },
     "execution_count": 38,
     "metadata": {},
     "output_type": "execute_result"
    }
   ],
   "source": [
    "%viz --style=\"DEFAULT\" --view=\"Tree\" \"'Packet\""
   ]
  },
  {
   "cell_type": "code",
   "execution_count": 39,
   "id": "4dcd4fe3",
   "metadata": {
    "execution": {
     "iopub.execute_input": "2021-04-20T07:28:59.617370Z",
     "iopub.status.busy": "2021-04-20T07:28:59.616513Z",
     "iopub.status.idle": "2021-04-20T07:28:59.618898Z",
     "shell.execute_reply": "2021-04-20T07:28:59.618569Z"
    }
   },
   "outputs": [
    {
     "data": {
      "text/plain": [
       "ERROR:Couldn't resolve reference to Element ''Packet'\n"
      ]
     },
     "execution_count": 39,
     "metadata": {},
     "output_type": "execute_result"
    }
   ],
   "source": [
    "%viz --style=\"DEFAULT\" --view=\"State\" \"'Packet\""
   ]
  },
  {
   "cell_type": "code",
   "execution_count": 40,
   "id": "c8c303b5",
   "metadata": {
    "execution": {
     "iopub.execute_input": "2021-04-20T07:28:59.669190Z",
     "iopub.status.busy": "2021-04-20T07:28:59.668481Z",
     "iopub.status.idle": "2021-04-20T07:28:59.670777Z",
     "shell.execute_reply": "2021-04-20T07:28:59.669623Z"
    }
   },
   "outputs": [
    {
     "data": {
      "text/plain": [
       "ERROR:Couldn't resolve reference to Element ''Packet'\n"
      ]
     },
     "execution_count": 40,
     "metadata": {},
     "output_type": "execute_result"
    }
   ],
   "source": [
    "%viz --style=\"DEFAULT\" --view=\"Interconnection\" \"'Packet\""
   ]
  },
  {
   "cell_type": "code",
   "execution_count": 41,
   "id": "885d2af9",
   "metadata": {
    "execution": {
     "iopub.execute_input": "2021-04-20T07:28:59.723812Z",
     "iopub.status.busy": "2021-04-20T07:28:59.722748Z",
     "iopub.status.idle": "2021-04-20T07:28:59.727936Z",
     "shell.execute_reply": "2021-04-20T07:28:59.724363Z"
    }
   },
   "outputs": [
    {
     "data": {
      "text/plain": [
       "ERROR:Couldn't resolve reference to Element ''Packet'\n"
      ]
     },
     "execution_count": 41,
     "metadata": {},
     "output_type": "execute_result"
    }
   ],
   "source": [
    "%viz --style=\"DEFAULT\" --view=\"Action\" \"'Packet\""
   ]
  },
  {
   "cell_type": "code",
   "execution_count": 42,
   "id": "e7bda534",
   "metadata": {
    "execution": {
     "iopub.execute_input": "2021-04-20T07:28:59.777716Z",
     "iopub.status.busy": "2021-04-20T07:28:59.776427Z",
     "iopub.status.idle": "2021-04-20T07:28:59.781145Z",
     "shell.execute_reply": "2021-04-20T07:28:59.778907Z"
    }
   },
   "outputs": [
    {
     "data": {
      "text/plain": [
       "ERROR:Couldn't resolve reference to Element ''Packet'\n"
      ]
     },
     "execution_count": 42,
     "metadata": {},
     "output_type": "execute_result"
    }
   ],
   "source": [
    "%viz --style=\"DEFAULT\" --view=\"Sequence\" \"'Packet\""
   ]
  },
  {
   "cell_type": "code",
   "execution_count": 43,
   "id": "3038441c",
   "metadata": {
    "execution": {
     "iopub.execute_input": "2021-04-20T07:28:59.831722Z",
     "iopub.status.busy": "2021-04-20T07:28:59.830755Z",
     "iopub.status.idle": "2021-04-20T07:28:59.833490Z",
     "shell.execute_reply": "2021-04-20T07:28:59.833063Z"
    }
   },
   "outputs": [
    {
     "data": {
      "text/plain": [
       "ERROR:Couldn't resolve reference to Element ''Packet'\n"
      ]
     },
     "execution_count": 43,
     "metadata": {},
     "output_type": "execute_result"
    }
   ],
   "source": [
    "%viz --style=\"DEFAULT\" --view=\"MIXED\" \"'Packet\""
   ]
  },
  {
   "cell_type": "code",
   "execution_count": 44,
   "id": "eeeaf4e3",
   "metadata": {
    "execution": {
     "iopub.execute_input": "2021-04-20T07:28:59.884198Z",
     "iopub.status.busy": "2021-04-20T07:28:59.883491Z",
     "iopub.status.idle": "2021-04-20T07:28:59.887780Z",
     "shell.execute_reply": "2021-04-20T07:28:59.885035Z"
    }
   },
   "outputs": [
    {
     "data": {
      "text/plain": [
       "ERROR:Couldn't resolve reference to Element ''Packet'\n"
      ]
     },
     "execution_count": 44,
     "metadata": {},
     "output_type": "execute_result"
    }
   ],
   "source": [
    "%viz --style=\"TB\" --view=\"Default\" \"'Packet\""
   ]
  },
  {
   "cell_type": "code",
   "execution_count": 45,
   "id": "9491dea2",
   "metadata": {
    "execution": {
     "iopub.execute_input": "2021-04-20T07:28:59.939331Z",
     "iopub.status.busy": "2021-04-20T07:28:59.937917Z",
     "iopub.status.idle": "2021-04-20T07:28:59.940992Z",
     "shell.execute_reply": "2021-04-20T07:28:59.939865Z"
    }
   },
   "outputs": [
    {
     "data": {
      "text/plain": [
       "ERROR:Couldn't resolve reference to Element ''Packet'\n"
      ]
     },
     "execution_count": 45,
     "metadata": {},
     "output_type": "execute_result"
    }
   ],
   "source": [
    "%viz --style=\"TB\" --view=\"Tree\" \"'Packet\""
   ]
  },
  {
   "cell_type": "code",
   "execution_count": 46,
   "id": "6cee90f3",
   "metadata": {
    "execution": {
     "iopub.execute_input": "2021-04-20T07:28:59.990786Z",
     "iopub.status.busy": "2021-04-20T07:28:59.990155Z",
     "iopub.status.idle": "2021-04-20T07:28:59.992217Z",
     "shell.execute_reply": "2021-04-20T07:28:59.991122Z"
    }
   },
   "outputs": [
    {
     "data": {
      "text/plain": [
       "ERROR:Couldn't resolve reference to Element ''Packet'\n"
      ]
     },
     "execution_count": 46,
     "metadata": {},
     "output_type": "execute_result"
    }
   ],
   "source": [
    "%viz --style=\"TB\" --view=\"State\" \"'Packet\""
   ]
  },
  {
   "cell_type": "code",
   "execution_count": 47,
   "id": "e5f50dc7",
   "metadata": {
    "execution": {
     "iopub.execute_input": "2021-04-20T07:29:00.046880Z",
     "iopub.status.busy": "2021-04-20T07:29:00.045233Z",
     "iopub.status.idle": "2021-04-20T07:29:00.050659Z",
     "shell.execute_reply": "2021-04-20T07:29:00.049361Z"
    }
   },
   "outputs": [
    {
     "data": {
      "text/plain": [
       "ERROR:Couldn't resolve reference to Element ''Packet'\n"
      ]
     },
     "execution_count": 47,
     "metadata": {},
     "output_type": "execute_result"
    }
   ],
   "source": [
    "%viz --style=\"TB\" --view=\"Interconnection\" \"'Packet\""
   ]
  },
  {
   "cell_type": "code",
   "execution_count": 48,
   "id": "acada436",
   "metadata": {
    "execution": {
     "iopub.execute_input": "2021-04-20T07:29:00.098379Z",
     "iopub.status.busy": "2021-04-20T07:29:00.097834Z",
     "iopub.status.idle": "2021-04-20T07:29:00.099860Z",
     "shell.execute_reply": "2021-04-20T07:29:00.098804Z"
    }
   },
   "outputs": [
    {
     "data": {
      "text/plain": [
       "ERROR:Couldn't resolve reference to Element ''Packet'\n"
      ]
     },
     "execution_count": 48,
     "metadata": {},
     "output_type": "execute_result"
    }
   ],
   "source": [
    "%viz --style=\"TB\" --view=\"Action\" \"'Packet\""
   ]
  },
  {
   "cell_type": "code",
   "execution_count": 49,
   "id": "2be561be",
   "metadata": {
    "execution": {
     "iopub.execute_input": "2021-04-20T07:29:00.154271Z",
     "iopub.status.busy": "2021-04-20T07:29:00.153068Z",
     "iopub.status.idle": "2021-04-20T07:29:00.156350Z",
     "shell.execute_reply": "2021-04-20T07:29:00.155075Z"
    }
   },
   "outputs": [
    {
     "data": {
      "text/plain": [
       "ERROR:Couldn't resolve reference to Element ''Packet'\n"
      ]
     },
     "execution_count": 49,
     "metadata": {},
     "output_type": "execute_result"
    }
   ],
   "source": [
    "%viz --style=\"TB\" --view=\"Sequence\" \"'Packet\""
   ]
  },
  {
   "cell_type": "code",
   "execution_count": 50,
   "id": "a348c553",
   "metadata": {
    "execution": {
     "iopub.execute_input": "2021-04-20T07:29:00.207591Z",
     "iopub.status.busy": "2021-04-20T07:29:00.207027Z",
     "iopub.status.idle": "2021-04-20T07:29:00.209007Z",
     "shell.execute_reply": "2021-04-20T07:29:00.208074Z"
    }
   },
   "outputs": [
    {
     "data": {
      "text/plain": [
       "ERROR:Couldn't resolve reference to Element ''Packet'\n"
      ]
     },
     "execution_count": 50,
     "metadata": {},
     "output_type": "execute_result"
    }
   ],
   "source": [
    "%viz --style=\"TB\" --view=\"MIXED\" \"'Packet\""
   ]
  },
  {
   "cell_type": "code",
   "execution_count": 51,
   "id": "dd55ee08",
   "metadata": {
    "execution": {
     "iopub.execute_input": "2021-04-20T07:29:00.259416Z",
     "iopub.status.busy": "2021-04-20T07:29:00.258982Z",
     "iopub.status.idle": "2021-04-20T07:29:00.260644Z",
     "shell.execute_reply": "2021-04-20T07:29:00.259749Z"
    }
   },
   "outputs": [
    {
     "data": {
      "text/plain": [
       "ERROR:Couldn't resolve reference to Element ''Packet'\n"
      ]
     },
     "execution_count": 51,
     "metadata": {},
     "output_type": "execute_result"
    }
   ],
   "source": [
    "%viz --style=\"ORTHOLINE\" --view=\"Default\" \"'Packet\""
   ]
  },
  {
   "cell_type": "code",
   "execution_count": 52,
   "id": "930a17c8",
   "metadata": {
    "execution": {
     "iopub.execute_input": "2021-04-20T07:29:00.311224Z",
     "iopub.status.busy": "2021-04-20T07:29:00.310668Z",
     "iopub.status.idle": "2021-04-20T07:29:00.314901Z",
     "shell.execute_reply": "2021-04-20T07:29:00.311962Z"
    }
   },
   "outputs": [
    {
     "data": {
      "text/plain": [
       "ERROR:Couldn't resolve reference to Element ''Packet'\n"
      ]
     },
     "execution_count": 52,
     "metadata": {},
     "output_type": "execute_result"
    }
   ],
   "source": [
    "%viz --style=\"ORTHOLINE\" --view=\"Tree\" \"'Packet\""
   ]
  },
  {
   "cell_type": "code",
   "execution_count": 53,
   "id": "7af67896",
   "metadata": {
    "execution": {
     "iopub.execute_input": "2021-04-20T07:29:00.365454Z",
     "iopub.status.busy": "2021-04-20T07:29:00.364855Z",
     "iopub.status.idle": "2021-04-20T07:29:00.367091Z",
     "shell.execute_reply": "2021-04-20T07:29:00.365981Z"
    }
   },
   "outputs": [
    {
     "data": {
      "text/plain": [
       "ERROR:Couldn't resolve reference to Element ''Packet'\n"
      ]
     },
     "execution_count": 53,
     "metadata": {},
     "output_type": "execute_result"
    }
   ],
   "source": [
    "%viz --style=\"ORTHOLINE\" --view=\"State\" \"'Packet\""
   ]
  },
  {
   "cell_type": "code",
   "execution_count": 54,
   "id": "98ad07c6",
   "metadata": {
    "execution": {
     "iopub.execute_input": "2021-04-20T07:29:00.417720Z",
     "iopub.status.busy": "2021-04-20T07:29:00.417049Z",
     "iopub.status.idle": "2021-04-20T07:29:00.420296Z",
     "shell.execute_reply": "2021-04-20T07:29:00.418230Z"
    }
   },
   "outputs": [
    {
     "data": {
      "text/plain": [
       "ERROR:Couldn't resolve reference to Element ''Packet'\n"
      ]
     },
     "execution_count": 54,
     "metadata": {},
     "output_type": "execute_result"
    }
   ],
   "source": [
    "%viz --style=\"ORTHOLINE\" --view=\"Interconnection\" \"'Packet\""
   ]
  },
  {
   "cell_type": "code",
   "execution_count": 55,
   "id": "d139d955",
   "metadata": {
    "execution": {
     "iopub.execute_input": "2021-04-20T07:29:00.472925Z",
     "iopub.status.busy": "2021-04-20T07:29:00.470773Z",
     "iopub.status.idle": "2021-04-20T07:29:00.475104Z",
     "shell.execute_reply": "2021-04-20T07:29:00.473821Z"
    }
   },
   "outputs": [
    {
     "data": {
      "text/plain": [
       "ERROR:Couldn't resolve reference to Element ''Packet'\n"
      ]
     },
     "execution_count": 55,
     "metadata": {},
     "output_type": "execute_result"
    }
   ],
   "source": [
    "%viz --style=\"ORTHOLINE\" --view=\"Action\" \"'Packet\""
   ]
  },
  {
   "cell_type": "code",
   "execution_count": 56,
   "id": "fad394bc",
   "metadata": {
    "execution": {
     "iopub.execute_input": "2021-04-20T07:29:00.525583Z",
     "iopub.status.busy": "2021-04-20T07:29:00.524698Z",
     "iopub.status.idle": "2021-04-20T07:29:00.526812Z",
     "shell.execute_reply": "2021-04-20T07:29:00.525891Z"
    }
   },
   "outputs": [
    {
     "data": {
      "text/plain": [
       "ERROR:Couldn't resolve reference to Element ''Packet'\n"
      ]
     },
     "execution_count": 56,
     "metadata": {},
     "output_type": "execute_result"
    }
   ],
   "source": [
    "%viz --style=\"ORTHOLINE\" --view=\"Sequence\" \"'Packet\""
   ]
  },
  {
   "cell_type": "code",
   "execution_count": 57,
   "id": "6b505d48",
   "metadata": {
    "execution": {
     "iopub.execute_input": "2021-04-20T07:29:00.578020Z",
     "iopub.status.busy": "2021-04-20T07:29:00.577261Z",
     "iopub.status.idle": "2021-04-20T07:29:00.579519Z",
     "shell.execute_reply": "2021-04-20T07:29:00.578432Z"
    }
   },
   "outputs": [
    {
     "data": {
      "text/plain": [
       "ERROR:Couldn't resolve reference to Element ''Packet'\n"
      ]
     },
     "execution_count": 57,
     "metadata": {},
     "output_type": "execute_result"
    }
   ],
   "source": [
    "%viz --style=\"ORTHOLINE\" --view=\"MIXED\" \"'Packet\""
   ]
  }
 ],
 "metadata": {
  "kernelspec": {
   "display_name": "SysML",
   "language": "sysml",
   "name": "sysml"
  },
  "language_info": {
   "codemirror_mode": "sysml",
   "file_extension": ".sysml",
   "mimetype": "text/x-sysml",
   "name": "SysML",
   "pygments_lexer": "java",
   "version": "1.0.0"
  }
 },
 "nbformat": 4,
 "nbformat_minor": 5
}
