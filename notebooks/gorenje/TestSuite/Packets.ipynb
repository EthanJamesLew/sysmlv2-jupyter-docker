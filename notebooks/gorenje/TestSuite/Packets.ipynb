{
 "cells": [
  {
   "cell_type": "markdown",
   "id": "1b16b1ea",
   "metadata": {},
   "source": [
    "# SysML v2 Test Suite\n",
    "\n",
    "This can notebook can be cleared using menu `Edit --> Clear All Outputs` and then all cells can be\n",
    "run using menu `Run --> Run All Cells`.\n",
    "\n",
    "**WARNING**: This file is generated, all modifications here will be ignored.\n"
   ]
  },
  {
   "cell_type": "markdown",
   "id": "1885e667",
   "metadata": {},
   "source": [
    "## File: ../../sysml/src/examples/Packet Example/Packets.sysml"
   ]
  },
  {
   "cell_type": "code",
   "execution_count": 1,
   "id": "93122cdf",
   "metadata": {
    "execution": {
     "iopub.execute_input": "2021-04-20T07:33:49.107370Z",
     "iopub.status.busy": "2021-04-20T07:33:49.106712Z",
     "iopub.status.idle": "2021-04-20T07:33:49.451900Z",
     "shell.execute_reply": "2021-04-20T07:33:49.450968Z"
    }
   },
   "outputs": [
    {
     "data": {
      "text/plain": [
       "Package Packets (b4e37520-0f07-47ed-b8a7-8f5516008b4c)\n"
      ]
     },
     "execution_count": 1,
     "metadata": {},
     "output_type": "execute_result"
    }
   ],
   "source": [
    "package Packets {\n",
    "\tprivate import ScalarValues::*;\n",
    "\tprivate import Time::DateTime;\n",
    "\t\n",
    "\tattribute 'packet header' { }\n",
    "\t\n",
    "\tattribute 'packet data field' {\t\n",
    "\t\tattribute 'packet secondary header' redefines 'packet header';\n",
    "\t\tattribute 'user data field';\n",
    "\t}\n",
    "\t\n",
    "\tpart def 'Data Packet' {\n",
    "\t\tattribute 'packet primary header' redefines 'packet header' {\n",
    "\t\t\tattribute 'packet version number': Integer;\n",
    "\t\t\tattribute 'packet identification': String;\n",
    "\t\t\tattribute 'packet data length': Integer;\n",
    "\t\t}\n",
    "\t\tattribute redefines 'packet data field';\n",
    "\t}\n",
    "\t\n",
    "\tpart def 'Thermal Data Packet' :> 'Data Packet' {\n",
    "\t\tattribute 'packet data field' redefines Packets::'packet data field'{\n",
    "\t\t\tattribute 'packet secondary header' redefines 'packet header' {\n",
    "\t\t\t\tattribute 'packet timestamp': DateTime;\n",
    "\t\t\t\tattribute 'telemetry packet type': String;\n",
    "\t\t\t}\n",
    "\t\t\t\n",
    "\t\t\tattribute 'user data field' redefines Packets::'packet data field'::'user data field' {\n",
    "\t\t\t\tattribute timestamp: DateTime;\n",
    "\t\t\t\tattribute temperature: Real;\n",
    "\t\t\t}\n",
    "\t\t}\n",
    "\t}\n",
    "\t\n",
    "}"
   ]
  },
  {
   "cell_type": "code",
   "execution_count": 2,
   "id": "9fd748b0",
   "metadata": {
    "execution": {
     "iopub.execute_input": "2021-04-20T07:33:49.505251Z",
     "iopub.status.busy": "2021-04-20T07:33:49.503589Z",
     "iopub.status.idle": "2021-04-20T07:33:50.752742Z",
     "shell.execute_reply": "2021-04-20T07:33:50.752195Z"
    }
   },
   "outputs": [
    {
     "data": {
      "image/svg+xml": [
       "<?xml version=\"1.0\" encoding=\"UTF-8\" standalone=\"no\"?><svg xmlns=\"http://www.w3.org/2000/svg\" xmlns:xlink=\"http://www.w3.org/1999/xlink\" contentScriptType=\"application/ecmascript\" contentStyleType=\"text/css\" height=\"344px\" preserveAspectRatio=\"none\" style=\"width:716px;height:344px;\" version=\"1.1\" viewBox=\"0 0 716 344\" width=\"716px\" zoomAndPan=\"magnify\"><defs/><g><!--MD5=[fbc87193dbaf4d95561dea2c320d4a47]\n",
       "cluster E1--><a href=\"psysml:781596e5-2fdd-47e5-84a9-0e1e2d017791\" target=\"_top\" title=\"psysml:781596e5-2fdd-47e5-84a9-0e1e2d017791\" xlink:actuate=\"onRequest\" xlink:href=\"psysml:781596e5-2fdd-47e5-84a9-0e1e2d017791\" xlink:show=\"new\" xlink:title=\"psysml:781596e5-2fdd-47e5-84a9-0e1e2d017791\" xlink:type=\"simple\"><polygon fill=\"#FFFFFF\" points=\"16,6,84,6,91,28.2969,694,28.2969,694,332,16,332,16,6\" style=\"stroke: #000000; stroke-width: 1.5;\"/><line style=\"stroke: #000000; stroke-width: 1.5;\" x1=\"16\" x2=\"91\" y1=\"28.2969\" y2=\"28.2969\"/><text fill=\"#000000\" font-family=\"sans-serif\" font-size=\"14\" font-weight=\"bold\" lengthAdjust=\"spacingAndGlyphs\" textLength=\"62\" x=\"20\" y=\"20.9951\">Packets</text></a><!--MD5=[b4997ac47864f28c2f74865a473b2911]\n",
       "class E2--><a href=\"psysml:09967ea5-e8af-470d-92d0-5553b1044725\" target=\"_top\" title=\"psysml:09967ea5-e8af-470d-92d0-5553b1044725\" xlink:actuate=\"onRequest\" xlink:href=\"psysml:09967ea5-e8af-470d-92d0-5553b1044725\" xlink:show=\"new\" xlink:title=\"psysml:09967ea5-e8af-470d-92d0-5553b1044725\" xlink:type=\"simple\"><rect fill=\"#FFFFFF\" height=\"45.9375\" id=\"E2\" style=\"stroke: #383838; stroke-width: 1.5;\" width=\"95\" x=\"582.5\" y=\"68.5\"/><text fill=\"#000000\" font-family=\"sans-serif\" font-size=\"12\" font-style=\"italic\" lengthAdjust=\"spacingAndGlyphs\" textLength=\"93\" x=\"583.5\" y=\"84.6387\">«attribute def»</text><text fill=\"#000000\" font-family=\"sans-serif\" font-size=\"12\" lengthAdjust=\"spacingAndGlyphs\" textLength=\"59\" x=\"600.5\" y=\"98.6074\">DateTime</text><line style=\"stroke: #383838; stroke-width: 1.5;\" x1=\"583.5\" x2=\"676.5\" y1=\"106.4375\" y2=\"106.4375\"/></a><!--MD5=[09b614a08d8cba4a07c9adeb5e0fee81]\n",
       "class E3--><a href=\"psysml:16b22f80-f2ca-4440-a25c-8e72c7cab96e\" target=\"_top\" title=\"psysml:16b22f80-f2ca-4440-a25c-8e72c7cab96e\" xlink:actuate=\"onRequest\" xlink:href=\"psysml:16b22f80-f2ca-4440-a25c-8e72c7cab96e\" xlink:show=\"new\" xlink:title=\"psysml:16b22f80-f2ca-4440-a25c-8e72c7cab96e\" xlink:type=\"simple\"><rect fill=\"#FFFFFF\" height=\"45.9375\" id=\"E3\" rx=\"10\" ry=\"10\" style=\"stroke: #383838; stroke-width: 1.5;\" width=\"98\" x=\"449\" y=\"68.5\"/><text fill=\"#000000\" font-family=\"sans-serif\" font-size=\"12\" font-style=\"italic\" lengthAdjust=\"spacingAndGlyphs\" textLength=\"69\" x=\"463.5\" y=\"84.6387\">«attribute»</text><text fill=\"#000000\" font-family=\"sans-serif\" font-size=\"12\" lengthAdjust=\"spacingAndGlyphs\" textLength=\"92\" x=\"452\" y=\"98.6074\">packet header</text><line style=\"stroke: #383838; stroke-width: 1.5;\" x1=\"450\" x2=\"546\" y1=\"106.4375\" y2=\"106.4375\"/></a><!--MD5=[ebbe1d658d1005bcc118a6aa81145e00]\n",
       "class E4--><a href=\"psysml:7e904c0e-d2a4-45ad-bef1-7051678b2240\" target=\"_top\" title=\"psysml:7e904c0e-d2a4-45ad-bef1-7051678b2240\" xlink:actuate=\"onRequest\" xlink:href=\"psysml:7e904c0e-d2a4-45ad-bef1-7051678b2240\" xlink:show=\"new\" xlink:title=\"psysml:7e904c0e-d2a4-45ad-bef1-7051678b2240\" xlink:type=\"simple\"><rect fill=\"#FFFFFF\" height=\"101.1563\" id=\"E4\" rx=\"10\" ry=\"10\" style=\"stroke: #383838; stroke-width: 1.5;\" width=\"167\" x=\"247.5\" y=\"41\"/><text fill=\"#000000\" font-family=\"sans-serif\" font-size=\"12\" font-style=\"italic\" lengthAdjust=\"spacingAndGlyphs\" textLength=\"69\" x=\"296.5\" y=\"57.1387\">«attribute»</text><text fill=\"#000000\" font-family=\"sans-serif\" font-size=\"12\" lengthAdjust=\"spacingAndGlyphs\" textLength=\"106\" x=\"278\" y=\"71.1074\">packet data field</text><line style=\"stroke: #383838; stroke-width: 1.5;\" x1=\"248.5\" x2=\"413.5\" y1=\"78.9375\" y2=\"78.9375\"/><text fill=\"#000000\" font-family=\"sans-serif\" font-size=\"11\" lengthAdjust=\"spacingAndGlyphs\" textLength=\"144\" x=\"253.5\" y=\"109.9526\">packet secondary header</text><text fill=\"#000000\" font-family=\"sans-serif\" font-size=\"11\" font-style=\"italic\" lengthAdjust=\"spacingAndGlyphs\" textLength=\"155\" x=\"253.5\" y=\"122.7573\">:&gt;&gt;Packets::packet header</text><text fill=\"#000000\" font-family=\"sans-serif\" font-size=\"11\" lengthAdjust=\"spacingAndGlyphs\" textLength=\"83\" x=\"253.5\" y=\"135.562\">user data field</text><line style=\"stroke: #383838; stroke-width: 1.0;\" x1=\"248.5\" x2=\"303.5\" y1=\"93.3398\" y2=\"93.3398\"/><text fill=\"#000000\" font-family=\"sans-serif\" font-size=\"11\" lengthAdjust=\"spacingAndGlyphs\" textLength=\"55\" x=\"303.5\" y=\"96.6479\">attributes</text><line style=\"stroke: #383838; stroke-width: 1.0;\" x1=\"358.5\" x2=\"413.5\" y1=\"93.3398\" y2=\"93.3398\"/></a><!--MD5=[270fce915f116d4de14055a7c1d9a0f3]\n",
       "class E5--><a href=\"psysml:7a510d36-5831-409f-9d62-08a185df40ba\" target=\"_top\" title=\"psysml:7a510d36-5831-409f-9d62-08a185df40ba\" xlink:actuate=\"onRequest\" xlink:href=\"psysml:7a510d36-5831-409f-9d62-08a185df40ba\" xlink:show=\"new\" xlink:title=\"psysml:7a510d36-5831-409f-9d62-08a185df40ba\" xlink:type=\"simple\"><rect fill=\"#FFFFFF\" height=\"113.9609\" id=\"E5\" style=\"stroke: #383838; stroke-width: 1.5;\" width=\"180\" x=\"32\" y=\"202\"/><text fill=\"#000000\" font-family=\"sans-serif\" font-size=\"12\" font-style=\"italic\" lengthAdjust=\"spacingAndGlyphs\" textLength=\"64\" x=\"90\" y=\"218.1387\">«part def»</text><text fill=\"#000000\" font-family=\"sans-serif\" font-size=\"12\" lengthAdjust=\"spacingAndGlyphs\" textLength=\"77\" x=\"83.5\" y=\"232.1074\">Data Packet</text><line style=\"stroke: #383838; stroke-width: 1.5;\" x1=\"33\" x2=\"211\" y1=\"239.9375\" y2=\"239.9375\"/><text fill=\"#000000\" font-family=\"sans-serif\" font-size=\"11\" lengthAdjust=\"spacingAndGlyphs\" textLength=\"94\" x=\"38\" y=\"270.9526\">packet data field</text><text fill=\"#000000\" font-family=\"sans-serif\" font-size=\"11\" font-style=\"italic\" lengthAdjust=\"spacingAndGlyphs\" textLength=\"168\" x=\"38\" y=\"283.7573\">:&gt;&gt;Packets::packet data field</text><text fill=\"#000000\" font-family=\"sans-serif\" font-size=\"11\" lengthAdjust=\"spacingAndGlyphs\" textLength=\"129\" x=\"38\" y=\"296.562\">packet primary header</text><text fill=\"#000000\" font-family=\"sans-serif\" font-size=\"11\" font-style=\"italic\" lengthAdjust=\"spacingAndGlyphs\" textLength=\"155\" x=\"38\" y=\"309.3667\">:&gt;&gt;Packets::packet header</text><line style=\"stroke: #383838; stroke-width: 1.0;\" x1=\"33\" x2=\"94.5\" y1=\"254.3398\" y2=\"254.3398\"/><text fill=\"#000000\" font-family=\"sans-serif\" font-size=\"11\" lengthAdjust=\"spacingAndGlyphs\" textLength=\"55\" x=\"94.5\" y=\"257.6479\">attributes</text><line style=\"stroke: #383838; stroke-width: 1.0;\" x1=\"149.5\" x2=\"211\" y1=\"254.3398\" y2=\"254.3398\"/></a><!--MD5=[60a26617385b1d2d0262a64233df1f8d]\n",
       "class E6--><a href=\"psysml:10023c3e-6ce6-4816-9fb9-6800bd66eb89\" target=\"_top\" title=\"psysml:10023c3e-6ce6-4816-9fb9-6800bd66eb89\" xlink:actuate=\"onRequest\" xlink:href=\"psysml:10023c3e-6ce6-4816-9fb9-6800bd66eb89\" xlink:show=\"new\" xlink:title=\"psysml:10023c3e-6ce6-4816-9fb9-6800bd66eb89\" xlink:type=\"simple\"><rect fill=\"#FFFFFF\" height=\"88.3516\" id=\"E6\" style=\"stroke: #383838; stroke-width: 1.5;\" width=\"180\" x=\"32\" y=\"47.5\"/><text fill=\"#000000\" font-family=\"sans-serif\" font-size=\"12\" font-style=\"italic\" lengthAdjust=\"spacingAndGlyphs\" textLength=\"64\" x=\"90\" y=\"63.6387\">«part def»</text><text fill=\"#000000\" font-family=\"sans-serif\" font-size=\"12\" lengthAdjust=\"spacingAndGlyphs\" textLength=\"131\" x=\"56.5\" y=\"77.6074\">Thermal Data Packet</text><line style=\"stroke: #383838; stroke-width: 1.5;\" x1=\"33\" x2=\"211\" y1=\"85.4375\" y2=\"85.4375\"/><text fill=\"#000000\" font-family=\"sans-serif\" font-size=\"11\" lengthAdjust=\"spacingAndGlyphs\" textLength=\"94\" x=\"38\" y=\"116.4526\">packet data field</text><text fill=\"#000000\" font-family=\"sans-serif\" font-size=\"11\" font-style=\"italic\" lengthAdjust=\"spacingAndGlyphs\" textLength=\"168\" x=\"38\" y=\"129.2573\">:&gt;&gt;Packets::packet data field</text><line style=\"stroke: #383838; stroke-width: 1.0;\" x1=\"33\" x2=\"94.5\" y1=\"99.8398\" y2=\"99.8398\"/><text fill=\"#000000\" font-family=\"sans-serif\" font-size=\"11\" lengthAdjust=\"spacingAndGlyphs\" textLength=\"55\" x=\"94.5\" y=\"103.1479\">attributes</text><line style=\"stroke: #383838; stroke-width: 1.0;\" x1=\"149.5\" x2=\"211\" y1=\"99.8398\" y2=\"99.8398\"/></a><!--MD5=[25b190c987b1e74e5126d372c5a73af1]\n",
       "link E6 to E5--><a href=\"psysml:8c509f82-013b-4383-9ee5-07fa63a1b780\" target=\"_top\" title=\"psysml:8c509f82-013b-4383-9ee5-07fa63a1b780\" xlink:actuate=\"onRequest\" xlink:href=\"psysml:8c509f82-013b-4383-9ee5-07fa63a1b780\" xlink:show=\"new\" xlink:title=\"psysml:8c509f82-013b-4383-9ee5-07fa63a1b780\" xlink:type=\"simple\"><path d=\"M122,135.55 C122,149.68 122,165.84 122,181.67 \" fill=\"none\" id=\"E6-&gt;E5\" style=\"stroke: #383838; stroke-width: 1.0;\"/><polygon fill=\"none\" points=\"129,181.75,122,201.75,115,181.75,129,181.75\" style=\"stroke: #383838; stroke-width: 1.0;\"/></a><!--MD5=[f4af277d9bdd3902965382443dc4b2fe]\n",
       "@startuml\r\n",
       " skinparam monochrome true\r\n",
       "skinparam classbackgroundcolor white\r\n",
       "skinparam shadowing false\r\n",
       "skinparam wrapWidth 300\r\n",
       "hide circle\r\n",
       "\r\n",
       "package \"Packets\" as E1  [[psysml:781596e5-2fdd-47e5-84a9-0e1e2d017791 ]]  {\r\n",
       "comp def \"DateTime\" as E2  <<(T,blue)attribute def>> [[psysml:09967ea5-e8af-470d-92d0-5553b1044725 ]] {\r\n",
       "}\r\n",
       "comp usage \"packet header\" as E3  <<(T,blue)attribute>> [[psysml:16b22f80-f2ca-4440-a25c-8e72c7cab96e ]] {\r\n",
       "}\r\n",
       "comp usage \"packet data field\" as E4  <<(T,blue)attribute>> [[psysml:7e904c0e-d2a4-45ad-bef1-7051678b2240 ]] {\r\n",
       "- - attributes - -\r\n",
       "packet secondary header\\n//:>>Packets::packet header// \r\n",
       "user data field\r\n",
       "}\r\n",
       "comp def \"Data Packet\" as E5  <<(T,blue)part def>> [[psysml:7a510d36-5831-409f-9d62-08a185df40ba ]] {\r\n",
       "- - attributes - -\r\n",
       "packet data field\\n//:>>Packets::packet data field// \r\n",
       "packet primary header\\n//:>>Packets::packet header// \r\n",
       "}\r\n",
       "comp def \"Thermal Data Packet\" as E6  <<(T,blue)part def>> [[psysml:10023c3e-6ce6-4816-9fb9-6800bd66eb89 ]] {\r\n",
       "- - attributes - -\r\n",
       "packet data field\\n//:>>Packets::packet data field// \r\n",
       "}\r\n",
       "E6 - -|> E5 [[psysml:8c509f82-013b-4383-9ee5-07fa63a1b780 ]] \r\n",
       "}\r\n",
       "@enduml\r\n",
       "\n",
       "PlantUML version 1.2020.13(Sat Jun 13 12:26:38 UTC 2020)\n",
       "(EPL source distribution)\n",
       "Java Runtime: OpenJDK Runtime Environment\n",
       "JVM: OpenJDK 64-Bit Server VM\n",
       "Default Encoding: UTF-8\n",
       "Language: en\n",
       "Country: null\n",
       "--></g></svg>"
      ]
     },
     "execution_count": 2,
     "metadata": {},
     "output_type": "execute_result"
    }
   ],
   "source": [
    "%viz --style=\"COMPTREE\" --view=\"Default\" \"Packets\""
   ]
  },
  {
   "cell_type": "code",
   "execution_count": 3,
   "id": "95521387",
   "metadata": {
    "execution": {
     "iopub.execute_input": "2021-04-20T07:33:50.804046Z",
     "iopub.status.busy": "2021-04-20T07:33:50.802868Z",
     "iopub.status.idle": "2021-04-20T07:33:51.192191Z",
     "shell.execute_reply": "2021-04-20T07:33:51.191600Z"
    }
   },
   "outputs": [
    {
     "data": {
      "image/svg+xml": [
       "<?xml version=\"1.0\" encoding=\"UTF-8\" standalone=\"no\"?><svg xmlns=\"http://www.w3.org/2000/svg\" xmlns:xlink=\"http://www.w3.org/1999/xlink\" contentScriptType=\"application/ecmascript\" contentStyleType=\"text/css\" height=\"344px\" preserveAspectRatio=\"none\" style=\"width:716px;height:344px;\" version=\"1.1\" viewBox=\"0 0 716 344\" width=\"716px\" zoomAndPan=\"magnify\"><defs/><g><!--MD5=[fbc87193dbaf4d95561dea2c320d4a47]\n",
       "cluster E1--><a href=\"psysml:781596e5-2fdd-47e5-84a9-0e1e2d017791\" target=\"_top\" title=\"psysml:781596e5-2fdd-47e5-84a9-0e1e2d017791\" xlink:actuate=\"onRequest\" xlink:href=\"psysml:781596e5-2fdd-47e5-84a9-0e1e2d017791\" xlink:show=\"new\" xlink:title=\"psysml:781596e5-2fdd-47e5-84a9-0e1e2d017791\" xlink:type=\"simple\"><polygon fill=\"#FFFFFF\" points=\"16,6,84,6,91,28.2969,694,28.2969,694,332,16,332,16,6\" style=\"stroke: #000000; stroke-width: 1.5;\"/><line style=\"stroke: #000000; stroke-width: 1.5;\" x1=\"16\" x2=\"91\" y1=\"28.2969\" y2=\"28.2969\"/><text fill=\"#000000\" font-family=\"sans-serif\" font-size=\"14\" font-weight=\"bold\" lengthAdjust=\"spacingAndGlyphs\" textLength=\"62\" x=\"20\" y=\"20.9951\">Packets</text></a><!--MD5=[b4997ac47864f28c2f74865a473b2911]\n",
       "class E2--><a href=\"psysml:09967ea5-e8af-470d-92d0-5553b1044725\" target=\"_top\" title=\"psysml:09967ea5-e8af-470d-92d0-5553b1044725\" xlink:actuate=\"onRequest\" xlink:href=\"psysml:09967ea5-e8af-470d-92d0-5553b1044725\" xlink:show=\"new\" xlink:title=\"psysml:09967ea5-e8af-470d-92d0-5553b1044725\" xlink:type=\"simple\"><rect fill=\"#FFFFFF\" height=\"45.9375\" id=\"E2\" style=\"stroke: #383838; stroke-width: 1.5;\" width=\"95\" x=\"582.5\" y=\"68.5\"/><text fill=\"#000000\" font-family=\"sans-serif\" font-size=\"12\" font-style=\"italic\" lengthAdjust=\"spacingAndGlyphs\" textLength=\"93\" x=\"583.5\" y=\"84.6387\">«attribute def»</text><text fill=\"#000000\" font-family=\"sans-serif\" font-size=\"12\" lengthAdjust=\"spacingAndGlyphs\" textLength=\"59\" x=\"600.5\" y=\"98.6074\">DateTime</text><line style=\"stroke: #383838; stroke-width: 1.5;\" x1=\"583.5\" x2=\"676.5\" y1=\"106.4375\" y2=\"106.4375\"/></a><!--MD5=[09b614a08d8cba4a07c9adeb5e0fee81]\n",
       "class E3--><a href=\"psysml:16b22f80-f2ca-4440-a25c-8e72c7cab96e\" target=\"_top\" title=\"psysml:16b22f80-f2ca-4440-a25c-8e72c7cab96e\" xlink:actuate=\"onRequest\" xlink:href=\"psysml:16b22f80-f2ca-4440-a25c-8e72c7cab96e\" xlink:show=\"new\" xlink:title=\"psysml:16b22f80-f2ca-4440-a25c-8e72c7cab96e\" xlink:type=\"simple\"><rect fill=\"#FFFFFF\" height=\"45.9375\" id=\"E3\" rx=\"10\" ry=\"10\" style=\"stroke: #383838; stroke-width: 1.5;\" width=\"98\" x=\"449\" y=\"68.5\"/><text fill=\"#000000\" font-family=\"sans-serif\" font-size=\"12\" font-style=\"italic\" lengthAdjust=\"spacingAndGlyphs\" textLength=\"69\" x=\"463.5\" y=\"84.6387\">«attribute»</text><text fill=\"#000000\" font-family=\"sans-serif\" font-size=\"12\" lengthAdjust=\"spacingAndGlyphs\" textLength=\"92\" x=\"452\" y=\"98.6074\">packet header</text><line style=\"stroke: #383838; stroke-width: 1.5;\" x1=\"450\" x2=\"546\" y1=\"106.4375\" y2=\"106.4375\"/></a><!--MD5=[ebbe1d658d1005bcc118a6aa81145e00]\n",
       "class E4--><a href=\"psysml:7e904c0e-d2a4-45ad-bef1-7051678b2240\" target=\"_top\" title=\"psysml:7e904c0e-d2a4-45ad-bef1-7051678b2240\" xlink:actuate=\"onRequest\" xlink:href=\"psysml:7e904c0e-d2a4-45ad-bef1-7051678b2240\" xlink:show=\"new\" xlink:title=\"psysml:7e904c0e-d2a4-45ad-bef1-7051678b2240\" xlink:type=\"simple\"><rect fill=\"#FFFFFF\" height=\"101.1563\" id=\"E4\" rx=\"10\" ry=\"10\" style=\"stroke: #383838; stroke-width: 1.5;\" width=\"167\" x=\"247.5\" y=\"41\"/><text fill=\"#000000\" font-family=\"sans-serif\" font-size=\"12\" font-style=\"italic\" lengthAdjust=\"spacingAndGlyphs\" textLength=\"69\" x=\"296.5\" y=\"57.1387\">«attribute»</text><text fill=\"#000000\" font-family=\"sans-serif\" font-size=\"12\" lengthAdjust=\"spacingAndGlyphs\" textLength=\"106\" x=\"278\" y=\"71.1074\">packet data field</text><line style=\"stroke: #383838; stroke-width: 1.5;\" x1=\"248.5\" x2=\"413.5\" y1=\"78.9375\" y2=\"78.9375\"/><text fill=\"#000000\" font-family=\"sans-serif\" font-size=\"11\" lengthAdjust=\"spacingAndGlyphs\" textLength=\"144\" x=\"253.5\" y=\"109.9526\">packet secondary header</text><text fill=\"#000000\" font-family=\"sans-serif\" font-size=\"11\" font-style=\"italic\" lengthAdjust=\"spacingAndGlyphs\" textLength=\"155\" x=\"253.5\" y=\"122.7573\">:&gt;&gt;Packets::packet header</text><text fill=\"#000000\" font-family=\"sans-serif\" font-size=\"11\" lengthAdjust=\"spacingAndGlyphs\" textLength=\"83\" x=\"253.5\" y=\"135.562\">user data field</text><line style=\"stroke: #383838; stroke-width: 1.0;\" x1=\"248.5\" x2=\"303.5\" y1=\"93.3398\" y2=\"93.3398\"/><text fill=\"#000000\" font-family=\"sans-serif\" font-size=\"11\" lengthAdjust=\"spacingAndGlyphs\" textLength=\"55\" x=\"303.5\" y=\"96.6479\">attributes</text><line style=\"stroke: #383838; stroke-width: 1.0;\" x1=\"358.5\" x2=\"413.5\" y1=\"93.3398\" y2=\"93.3398\"/></a><!--MD5=[270fce915f116d4de14055a7c1d9a0f3]\n",
       "class E5--><a href=\"psysml:7a510d36-5831-409f-9d62-08a185df40ba\" target=\"_top\" title=\"psysml:7a510d36-5831-409f-9d62-08a185df40ba\" xlink:actuate=\"onRequest\" xlink:href=\"psysml:7a510d36-5831-409f-9d62-08a185df40ba\" xlink:show=\"new\" xlink:title=\"psysml:7a510d36-5831-409f-9d62-08a185df40ba\" xlink:type=\"simple\"><rect fill=\"#FFFFFF\" height=\"113.9609\" id=\"E5\" style=\"stroke: #383838; stroke-width: 1.5;\" width=\"180\" x=\"32\" y=\"202\"/><text fill=\"#000000\" font-family=\"sans-serif\" font-size=\"12\" font-style=\"italic\" lengthAdjust=\"spacingAndGlyphs\" textLength=\"64\" x=\"90\" y=\"218.1387\">«part def»</text><text fill=\"#000000\" font-family=\"sans-serif\" font-size=\"12\" lengthAdjust=\"spacingAndGlyphs\" textLength=\"77\" x=\"83.5\" y=\"232.1074\">Data Packet</text><line style=\"stroke: #383838; stroke-width: 1.5;\" x1=\"33\" x2=\"211\" y1=\"239.9375\" y2=\"239.9375\"/><text fill=\"#000000\" font-family=\"sans-serif\" font-size=\"11\" lengthAdjust=\"spacingAndGlyphs\" textLength=\"94\" x=\"38\" y=\"270.9526\">packet data field</text><text fill=\"#000000\" font-family=\"sans-serif\" font-size=\"11\" font-style=\"italic\" lengthAdjust=\"spacingAndGlyphs\" textLength=\"168\" x=\"38\" y=\"283.7573\">:&gt;&gt;Packets::packet data field</text><text fill=\"#000000\" font-family=\"sans-serif\" font-size=\"11\" lengthAdjust=\"spacingAndGlyphs\" textLength=\"129\" x=\"38\" y=\"296.562\">packet primary header</text><text fill=\"#000000\" font-family=\"sans-serif\" font-size=\"11\" font-style=\"italic\" lengthAdjust=\"spacingAndGlyphs\" textLength=\"155\" x=\"38\" y=\"309.3667\">:&gt;&gt;Packets::packet header</text><line style=\"stroke: #383838; stroke-width: 1.0;\" x1=\"33\" x2=\"94.5\" y1=\"254.3398\" y2=\"254.3398\"/><text fill=\"#000000\" font-family=\"sans-serif\" font-size=\"11\" lengthAdjust=\"spacingAndGlyphs\" textLength=\"55\" x=\"94.5\" y=\"257.6479\">attributes</text><line style=\"stroke: #383838; stroke-width: 1.0;\" x1=\"149.5\" x2=\"211\" y1=\"254.3398\" y2=\"254.3398\"/></a><!--MD5=[60a26617385b1d2d0262a64233df1f8d]\n",
       "class E6--><a href=\"psysml:10023c3e-6ce6-4816-9fb9-6800bd66eb89\" target=\"_top\" title=\"psysml:10023c3e-6ce6-4816-9fb9-6800bd66eb89\" xlink:actuate=\"onRequest\" xlink:href=\"psysml:10023c3e-6ce6-4816-9fb9-6800bd66eb89\" xlink:show=\"new\" xlink:title=\"psysml:10023c3e-6ce6-4816-9fb9-6800bd66eb89\" xlink:type=\"simple\"><rect fill=\"#FFFFFF\" height=\"88.3516\" id=\"E6\" style=\"stroke: #383838; stroke-width: 1.5;\" width=\"180\" x=\"32\" y=\"47.5\"/><text fill=\"#000000\" font-family=\"sans-serif\" font-size=\"12\" font-style=\"italic\" lengthAdjust=\"spacingAndGlyphs\" textLength=\"64\" x=\"90\" y=\"63.6387\">«part def»</text><text fill=\"#000000\" font-family=\"sans-serif\" font-size=\"12\" lengthAdjust=\"spacingAndGlyphs\" textLength=\"131\" x=\"56.5\" y=\"77.6074\">Thermal Data Packet</text><line style=\"stroke: #383838; stroke-width: 1.5;\" x1=\"33\" x2=\"211\" y1=\"85.4375\" y2=\"85.4375\"/><text fill=\"#000000\" font-family=\"sans-serif\" font-size=\"11\" lengthAdjust=\"spacingAndGlyphs\" textLength=\"94\" x=\"38\" y=\"116.4526\">packet data field</text><text fill=\"#000000\" font-family=\"sans-serif\" font-size=\"11\" font-style=\"italic\" lengthAdjust=\"spacingAndGlyphs\" textLength=\"168\" x=\"38\" y=\"129.2573\">:&gt;&gt;Packets::packet data field</text><line style=\"stroke: #383838; stroke-width: 1.0;\" x1=\"33\" x2=\"94.5\" y1=\"99.8398\" y2=\"99.8398\"/><text fill=\"#000000\" font-family=\"sans-serif\" font-size=\"11\" lengthAdjust=\"spacingAndGlyphs\" textLength=\"55\" x=\"94.5\" y=\"103.1479\">attributes</text><line style=\"stroke: #383838; stroke-width: 1.0;\" x1=\"149.5\" x2=\"211\" y1=\"99.8398\" y2=\"99.8398\"/></a><!--MD5=[25b190c987b1e74e5126d372c5a73af1]\n",
       "link E6 to E5--><a href=\"psysml:8c509f82-013b-4383-9ee5-07fa63a1b780\" target=\"_top\" title=\"psysml:8c509f82-013b-4383-9ee5-07fa63a1b780\" xlink:actuate=\"onRequest\" xlink:href=\"psysml:8c509f82-013b-4383-9ee5-07fa63a1b780\" xlink:show=\"new\" xlink:title=\"psysml:8c509f82-013b-4383-9ee5-07fa63a1b780\" xlink:type=\"simple\"><path d=\"M122,135.55 C122,149.68 122,165.84 122,181.67 \" fill=\"none\" id=\"E6-&gt;E5\" style=\"stroke: #383838; stroke-width: 1.0;\"/><polygon fill=\"none\" points=\"129,181.75,122,201.75,115,181.75,129,181.75\" style=\"stroke: #383838; stroke-width: 1.0;\"/></a><!--MD5=[f4af277d9bdd3902965382443dc4b2fe]\n",
       "@startuml\r\n",
       " skinparam monochrome true\r\n",
       "skinparam classbackgroundcolor white\r\n",
       "skinparam shadowing false\r\n",
       "skinparam wrapWidth 300\r\n",
       "hide circle\r\n",
       "\r\n",
       "package \"Packets\" as E1  [[psysml:781596e5-2fdd-47e5-84a9-0e1e2d017791 ]]  {\r\n",
       "comp def \"DateTime\" as E2  <<(T,blue)attribute def>> [[psysml:09967ea5-e8af-470d-92d0-5553b1044725 ]] {\r\n",
       "}\r\n",
       "comp usage \"packet header\" as E3  <<(T,blue)attribute>> [[psysml:16b22f80-f2ca-4440-a25c-8e72c7cab96e ]] {\r\n",
       "}\r\n",
       "comp usage \"packet data field\" as E4  <<(T,blue)attribute>> [[psysml:7e904c0e-d2a4-45ad-bef1-7051678b2240 ]] {\r\n",
       "- - attributes - -\r\n",
       "packet secondary header\\n//:>>Packets::packet header// \r\n",
       "user data field\r\n",
       "}\r\n",
       "comp def \"Data Packet\" as E5  <<(T,blue)part def>> [[psysml:7a510d36-5831-409f-9d62-08a185df40ba ]] {\r\n",
       "- - attributes - -\r\n",
       "packet data field\\n//:>>Packets::packet data field// \r\n",
       "packet primary header\\n//:>>Packets::packet header// \r\n",
       "}\r\n",
       "comp def \"Thermal Data Packet\" as E6  <<(T,blue)part def>> [[psysml:10023c3e-6ce6-4816-9fb9-6800bd66eb89 ]] {\r\n",
       "- - attributes - -\r\n",
       "packet data field\\n//:>>Packets::packet data field// \r\n",
       "}\r\n",
       "E6 - -|> E5 [[psysml:8c509f82-013b-4383-9ee5-07fa63a1b780 ]] \r\n",
       "}\r\n",
       "@enduml\r\n",
       "\n",
       "PlantUML version 1.2020.13(Sat Jun 13 12:26:38 UTC 2020)\n",
       "(EPL source distribution)\n",
       "Java Runtime: OpenJDK Runtime Environment\n",
       "JVM: OpenJDK 64-Bit Server VM\n",
       "Default Encoding: UTF-8\n",
       "Language: en\n",
       "Country: null\n",
       "--></g></svg>"
      ]
     },
     "execution_count": 3,
     "metadata": {},
     "output_type": "execute_result"
    }
   ],
   "source": [
    "%viz --style=\"COMPTREE\" --view=\"Tree\" \"Packets\""
   ]
  },
  {
   "cell_type": "code",
   "execution_count": 4,
   "id": "ad05e652",
   "metadata": {
    "execution": {
     "iopub.execute_input": "2021-04-20T07:33:51.243846Z",
     "iopub.status.busy": "2021-04-20T07:33:51.243077Z",
     "iopub.status.idle": "2021-04-20T07:33:51.256639Z",
     "shell.execute_reply": "2021-04-20T07:33:51.255878Z"
    }
   },
   "outputs": [
    {
     "data": {
      "image/svg+xml": [
       "<?xml version=\"1.0\" encoding=\"UTF-8\" standalone=\"no\"?><svg xmlns=\"http://www.w3.org/2000/svg\" xmlns:xlink=\"http://www.w3.org/1999/xlink\" contentScriptType=\"application/ecmascript\" contentStyleType=\"text/css\" height=\"12px\" preserveAspectRatio=\"none\" style=\"width:12px;height:12px;\" version=\"1.1\" viewBox=\"0 0 12 12\" width=\"12px\" zoomAndPan=\"magnify\"><defs/><g><!--MD5=[f19188ef49e11757b5c46753f95d9edc]\n",
       "@startuml\r\n",
       " skinparam monochrome true\r\n",
       "skinparam classbackgroundcolor white\r\n",
       "skinparam shadowing false\r\n",
       "skinparam wrapWidth 300\r\n",
       "hide circle\r\n",
       "\r\n",
       "@enduml\r\n",
       "\n",
       "PlantUML version 1.2020.13(Sat Jun 13 12:26:38 UTC 2020)\n",
       "(EPL source distribution)\n",
       "Java Runtime: OpenJDK Runtime Environment\n",
       "JVM: OpenJDK 64-Bit Server VM\n",
       "Default Encoding: UTF-8\n",
       "Language: en\n",
       "Country: null\n",
       "--></g></svg>"
      ]
     },
     "execution_count": 4,
     "metadata": {},
     "output_type": "execute_result"
    }
   ],
   "source": [
    "%viz --style=\"COMPTREE\" --view=\"State\" \"Packets\""
   ]
  },
  {
   "cell_type": "code",
   "execution_count": 5,
   "id": "7a6d3ef3",
   "metadata": {
    "execution": {
     "iopub.execute_input": "2021-04-20T07:33:51.306737Z",
     "iopub.status.busy": "2021-04-20T07:33:51.305939Z",
     "iopub.status.idle": "2021-04-20T07:33:51.591309Z",
     "shell.execute_reply": "2021-04-20T07:33:51.589361Z"
    }
   },
   "outputs": [
    {
     "data": {
      "image/svg+xml": [
       "<?xml version=\"1.0\" encoding=\"UTF-8\" standalone=\"no\"?><svg xmlns=\"http://www.w3.org/2000/svg\" xmlns:xlink=\"http://www.w3.org/1999/xlink\" contentScriptType=\"application/ecmascript\" contentStyleType=\"text/css\" height=\"631px\" preserveAspectRatio=\"none\" style=\"width:518px;height:631px;\" version=\"1.1\" viewBox=\"0 0 518 631\" width=\"518px\" zoomAndPan=\"magnify\"><defs/><g><!--MD5=[fbc87193dbaf4d95561dea2c320d4a47]\n",
       "cluster E1--><a href=\"psysml:781596e5-2fdd-47e5-84a9-0e1e2d017791\" target=\"_top\" title=\"psysml:781596e5-2fdd-47e5-84a9-0e1e2d017791\" xlink:actuate=\"onRequest\" xlink:href=\"psysml:781596e5-2fdd-47e5-84a9-0e1e2d017791\" xlink:show=\"new\" xlink:title=\"psysml:781596e5-2fdd-47e5-84a9-0e1e2d017791\" xlink:type=\"simple\"><polygon fill=\"#FFFFFF\" points=\"16,6,84,6,91,28.2969,496,28.2969,496,619,16,619,16,6\" style=\"stroke: #000000; stroke-width: 1.5;\"/><line style=\"stroke: #000000; stroke-width: 1.5;\" x1=\"16\" x2=\"91\" y1=\"28.2969\" y2=\"28.2969\"/><text fill=\"#000000\" font-family=\"sans-serif\" font-size=\"14\" font-weight=\"bold\" lengthAdjust=\"spacingAndGlyphs\" textLength=\"62\" x=\"20\" y=\"20.9951\">Packets</text></a><!--MD5=[de5ec2e2e8f62f467e546659f5068c88]\n",
       "cluster E5--><a href=\"psysml:7a510d36-5831-409f-9d62-08a185df40ba\" target=\"_top\" title=\"psysml:7a510d36-5831-409f-9d62-08a185df40ba\" xlink:actuate=\"onRequest\" xlink:href=\"psysml:7a510d36-5831-409f-9d62-08a185df40ba\" xlink:show=\"new\" xlink:title=\"psysml:7a510d36-5831-409f-9d62-08a185df40ba\" xlink:type=\"simple\"><rect fill=\"#FFFFFF\" height=\"184\" id=\"E5\" style=\"stroke: #383838; stroke-width: 1.5;\" width=\"406\" x=\"48\" y=\"294\"/><rect fill=\"#F8F8F8\" height=\"37.9375\" style=\"stroke: #383838; stroke-width: 1.5;\" width=\"406\" x=\"48\" y=\"294\"/><text fill=\"#000000\" font-family=\"sans-serif\" font-size=\"12\" font-style=\"italic\" lengthAdjust=\"spacingAndGlyphs\" textLength=\"64\" x=\"219\" y=\"310.1387\">«part def»</text><text fill=\"#000000\" font-family=\"sans-serif\" font-size=\"12\" lengthAdjust=\"spacingAndGlyphs\" textLength=\"77\" x=\"212.5\" y=\"324.1074\">Data Packet</text></a><!--MD5=[55dfccfc6c49c2d10cd1bd2211a6c90c]\n",
       "cluster E8--><a href=\"psysml:10023c3e-6ce6-4816-9fb9-6800bd66eb89\" target=\"_top\" title=\"psysml:10023c3e-6ce6-4816-9fb9-6800bd66eb89\" xlink:actuate=\"onRequest\" xlink:href=\"psysml:10023c3e-6ce6-4816-9fb9-6800bd66eb89\" xlink:show=\"new\" xlink:title=\"psysml:10023c3e-6ce6-4816-9fb9-6800bd66eb89\" xlink:type=\"simple\"><rect fill=\"#FFFFFF\" height=\"197\" id=\"E8\" style=\"stroke: #383838; stroke-width: 1.5;\" width=\"287\" x=\"172\" y=\"57\"/><rect fill=\"#F8F8F8\" height=\"37.9375\" style=\"stroke: #383838; stroke-width: 1.5;\" width=\"287\" x=\"172\" y=\"57\"/><text fill=\"#000000\" font-family=\"sans-serif\" font-size=\"12\" font-style=\"italic\" lengthAdjust=\"spacingAndGlyphs\" textLength=\"64\" x=\"283.5\" y=\"73.1387\">«part def»</text><text fill=\"#000000\" font-family=\"sans-serif\" font-size=\"12\" lengthAdjust=\"spacingAndGlyphs\" textLength=\"131\" x=\"250\" y=\"87.1074\">Thermal Data Packet</text></a><g id=\"E1.E2\"><a href=\"psysml:09967ea5-e8af-470d-92d0-5553b1044725\" target=\"_top\" title=\"psysml:09967ea5-e8af-470d-92d0-5553b1044725\" xlink:actuate=\"onRequest\" xlink:href=\"psysml:09967ea5-e8af-470d-92d0-5553b1044725\" xlink:show=\"new\" xlink:title=\"psysml:09967ea5-e8af-470d-92d0-5553b1044725\" xlink:type=\"simple\"><rect fill=\"#FFFFFF\" height=\"42.9375\" id=\"E2\" style=\"stroke: #383838; stroke-width: 1.5;\" width=\"100\" x=\"41\" y=\"151.5\"/><rect fill=\"#F8F8F8\" height=\"37.9375\" style=\"stroke: #383838; stroke-width: 1.5;\" width=\"100\" x=\"41\" y=\"151.5\"/><text fill=\"#000000\" font-family=\"sans-serif\" font-size=\"12\" font-style=\"italic\" lengthAdjust=\"spacingAndGlyphs\" textLength=\"93\" x=\"44.5\" y=\"167.6387\">«attribute def»</text><text fill=\"#000000\" font-family=\"sans-serif\" font-size=\"12\" lengthAdjust=\"spacingAndGlyphs\" textLength=\"59\" x=\"61.5\" y=\"181.6074\">DateTime</text></a></g><!--MD5=[09b614a08d8cba4a07c9adeb5e0fee81]\n",
       "class E3--><a href=\"psysml:16b22f80-f2ca-4440-a25c-8e72c7cab96e\" target=\"_top\" title=\"psysml:16b22f80-f2ca-4440-a25c-8e72c7cab96e\" xlink:actuate=\"onRequest\" xlink:href=\"psysml:16b22f80-f2ca-4440-a25c-8e72c7cab96e\" xlink:show=\"new\" xlink:title=\"psysml:16b22f80-f2ca-4440-a25c-8e72c7cab96e\" xlink:type=\"simple\"><rect fill=\"#FFFFFF\" height=\"45.9375\" id=\"E3\" rx=\"10\" ry=\"10\" style=\"stroke: #383838; stroke-width: 1.5;\" width=\"98\" x=\"138\" y=\"529.5\"/><text fill=\"#000000\" font-family=\"sans-serif\" font-size=\"12\" font-style=\"italic\" lengthAdjust=\"spacingAndGlyphs\" textLength=\"69\" x=\"152.5\" y=\"545.6387\">«attribute»</text><text fill=\"#000000\" font-family=\"sans-serif\" font-size=\"12\" lengthAdjust=\"spacingAndGlyphs\" textLength=\"92\" x=\"141\" y=\"559.6074\">packet header</text><line style=\"stroke: #383838; stroke-width: 1.5;\" x1=\"139\" x2=\"235\" y1=\"567.4375\" y2=\"567.4375\"/></a><!--MD5=[ebbe1d658d1005bcc118a6aa81145e00]\n",
       "class E4--><a href=\"psysml:7e904c0e-d2a4-45ad-bef1-7051678b2240\" target=\"_top\" title=\"psysml:7e904c0e-d2a4-45ad-bef1-7051678b2240\" xlink:actuate=\"onRequest\" xlink:href=\"psysml:7e904c0e-d2a4-45ad-bef1-7051678b2240\" xlink:show=\"new\" xlink:title=\"psysml:7e904c0e-d2a4-45ad-bef1-7051678b2240\" xlink:type=\"simple\"><rect fill=\"#FFFFFF\" height=\"101.1563\" id=\"E4\" rx=\"10\" ry=\"10\" style=\"stroke: #383838; stroke-width: 1.5;\" width=\"167\" x=\"301.5\" y=\"502\"/><text fill=\"#000000\" font-family=\"sans-serif\" font-size=\"12\" font-style=\"italic\" lengthAdjust=\"spacingAndGlyphs\" textLength=\"69\" x=\"350.5\" y=\"518.1387\">«attribute»</text><text fill=\"#000000\" font-family=\"sans-serif\" font-size=\"12\" lengthAdjust=\"spacingAndGlyphs\" textLength=\"106\" x=\"332\" y=\"532.1074\">packet data field</text><line style=\"stroke: #383838; stroke-width: 1.5;\" x1=\"302.5\" x2=\"467.5\" y1=\"539.9375\" y2=\"539.9375\"/><text fill=\"#000000\" font-family=\"sans-serif\" font-size=\"11\" lengthAdjust=\"spacingAndGlyphs\" textLength=\"144\" x=\"307.5\" y=\"570.9526\">packet secondary header</text><text fill=\"#000000\" font-family=\"sans-serif\" font-size=\"11\" font-style=\"italic\" lengthAdjust=\"spacingAndGlyphs\" textLength=\"155\" x=\"307.5\" y=\"583.7573\">:&gt;&gt;Packets::packet header</text><text fill=\"#000000\" font-family=\"sans-serif\" font-size=\"11\" lengthAdjust=\"spacingAndGlyphs\" textLength=\"83\" x=\"307.5\" y=\"596.562\">user data field</text><line style=\"stroke: #383838; stroke-width: 1.0;\" x1=\"302.5\" x2=\"357.5\" y1=\"554.3398\" y2=\"554.3398\"/><text fill=\"#000000\" font-family=\"sans-serif\" font-size=\"11\" lengthAdjust=\"spacingAndGlyphs\" textLength=\"55\" x=\"357.5\" y=\"557.6479\">attributes</text><line style=\"stroke: #383838; stroke-width: 1.0;\" x1=\"412.5\" x2=\"467.5\" y1=\"554.3398\" y2=\"554.3398\"/></a><!--MD5=[60a26617385b1d2d0262a64233df1f8d]\n",
       "class E6--><a href=\"psysml:8bac5b56-bd53-4c22-88f8-0cbcb8384e0b\" target=\"_top\" title=\"psysml:8bac5b56-bd53-4c22-88f8-0cbcb8384e0b\" xlink:actuate=\"onRequest\" xlink:href=\"psysml:8bac5b56-bd53-4c22-88f8-0cbcb8384e0b\" xlink:show=\"new\" xlink:title=\"psysml:8bac5b56-bd53-4c22-88f8-0cbcb8384e0b\" xlink:type=\"simple\"><rect fill=\"#FFFFFF\" height=\"101.1563\" id=\"E6\" rx=\"10\" ry=\"10\" style=\"stroke: #383838; stroke-width: 1.5;\" width=\"191\" x=\"91.5\" y=\"353\"/><text fill=\"#000000\" font-family=\"sans-serif\" font-size=\"12\" font-style=\"italic\" lengthAdjust=\"spacingAndGlyphs\" textLength=\"69\" x=\"152.5\" y=\"369.1387\">«attribute»</text><text fill=\"#000000\" font-family=\"sans-serif\" font-size=\"12\" lengthAdjust=\"spacingAndGlyphs\" textLength=\"142\" x=\"116\" y=\"383.1074\">packet primary header</text><line style=\"stroke: #383838; stroke-width: 1.5;\" x1=\"92.5\" x2=\"281.5\" y1=\"390.9375\" y2=\"390.9375\"/><text fill=\"#000000\" font-family=\"sans-serif\" font-size=\"11\" lengthAdjust=\"spacingAndGlyphs\" textLength=\"153\" x=\"97.5\" y=\"421.9526\">packet data length: Integer</text><text fill=\"#000000\" font-family=\"sans-serif\" font-size=\"11\" lengthAdjust=\"spacingAndGlyphs\" textLength=\"155\" x=\"97.5\" y=\"434.7573\">packet identification: String</text><text fill=\"#000000\" font-family=\"sans-serif\" font-size=\"11\" lengthAdjust=\"spacingAndGlyphs\" textLength=\"179\" x=\"97.5\" y=\"447.562\">packet version number: Integer</text><line style=\"stroke: #383838; stroke-width: 1.0;\" x1=\"92.5\" x2=\"159.5\" y1=\"405.3398\" y2=\"405.3398\"/><text fill=\"#000000\" font-family=\"sans-serif\" font-size=\"11\" lengthAdjust=\"spacingAndGlyphs\" textLength=\"55\" x=\"159.5\" y=\"408.6479\">attributes</text><line style=\"stroke: #383838; stroke-width: 1.0;\" x1=\"214.5\" x2=\"281.5\" y1=\"405.3398\" y2=\"405.3398\"/></a><!--MD5=[2156ba9850f5573cc1fc38a6a4b2f02b]\n",
       "class E7--><a href=\"psysml:e649f067-3966-42a9-912a-f470df4c2484\" target=\"_top\" title=\"psysml:e649f067-3966-42a9-912a-f470df4c2484\" xlink:actuate=\"onRequest\" xlink:href=\"psysml:e649f067-3966-42a9-912a-f470df4c2484\" xlink:show=\"new\" xlink:title=\"psysml:e649f067-3966-42a9-912a-f470df4c2484\" xlink:type=\"simple\"><rect fill=\"#FFFFFF\" height=\"45.9375\" id=\"E7\" rx=\"10\" ry=\"10\" style=\"stroke: #383838; stroke-width: 1.5;\" width=\"112\" x=\"318\" y=\"380.5\"/><text fill=\"#000000\" font-family=\"sans-serif\" font-size=\"12\" font-style=\"italic\" lengthAdjust=\"spacingAndGlyphs\" textLength=\"69\" x=\"339.5\" y=\"396.6387\">«attribute»</text><text fill=\"#000000\" font-family=\"sans-serif\" font-size=\"12\" lengthAdjust=\"spacingAndGlyphs\" textLength=\"106\" x=\"321\" y=\"410.6074\">packet data field</text><line style=\"stroke: #383838; stroke-width: 1.5;\" x1=\"319\" x2=\"429\" y1=\"418.4375\" y2=\"418.4375\"/></a><!--MD5=[fd4143e9d270a159db93a4ea2a975926]\n",
       "class E9--><a href=\"psysml:9d2256ff-aa99-47f6-ab60-2a2dbee9749e\" target=\"_top\" title=\"psysml:9d2256ff-aa99-47f6-ab60-2a2dbee9749e\" xlink:actuate=\"onRequest\" xlink:href=\"psysml:9d2256ff-aa99-47f6-ab60-2a2dbee9749e\" xlink:show=\"new\" xlink:title=\"psysml:9d2256ff-aa99-47f6-ab60-2a2dbee9749e\" xlink:type=\"simple\"><rect fill=\"#FFFFFF\" height=\"113.9609\" id=\"E9\" rx=\"10\" ry=\"10\" style=\"stroke: #383838; stroke-width: 1.5;\" width=\"219\" x=\"215.5\" y=\"116\"/><text fill=\"#000000\" font-family=\"sans-serif\" font-size=\"12\" font-style=\"italic\" lengthAdjust=\"spacingAndGlyphs\" textLength=\"69\" x=\"290.5\" y=\"132.1387\">«attribute»</text><text fill=\"#000000\" font-family=\"sans-serif\" font-size=\"12\" lengthAdjust=\"spacingAndGlyphs\" textLength=\"106\" x=\"272\" y=\"146.1074\">packet data field</text><line style=\"stroke: #383838; stroke-width: 1.5;\" x1=\"216.5\" x2=\"433.5\" y1=\"153.9375\" y2=\"153.9375\"/><text fill=\"#000000\" font-family=\"sans-serif\" font-size=\"11\" lengthAdjust=\"spacingAndGlyphs\" textLength=\"144\" x=\"221.5\" y=\"184.9526\">packet secondary header</text><text fill=\"#000000\" font-family=\"sans-serif\" font-size=\"11\" font-style=\"italic\" lengthAdjust=\"spacingAndGlyphs\" textLength=\"155\" x=\"221.5\" y=\"197.7573\">:&gt;&gt;Packets::packet header</text><text fill=\"#000000\" font-family=\"sans-serif\" font-size=\"11\" lengthAdjust=\"spacingAndGlyphs\" textLength=\"83\" x=\"221.5\" y=\"210.562\">user data field</text><text fill=\"#000000\" font-family=\"sans-serif\" font-size=\"11\" font-style=\"italic\" lengthAdjust=\"spacingAndGlyphs\" textLength=\"207\" x=\"221.5\" y=\"223.3667\">:&gt;&gt;packet data field::user data field</text><line style=\"stroke: #383838; stroke-width: 1.0;\" x1=\"216.5\" x2=\"297.5\" y1=\"168.3398\" y2=\"168.3398\"/><text fill=\"#000000\" font-family=\"sans-serif\" font-size=\"11\" lengthAdjust=\"spacingAndGlyphs\" textLength=\"55\" x=\"297.5\" y=\"171.6479\">attributes</text><line style=\"stroke: #383838; stroke-width: 1.0;\" x1=\"352.5\" x2=\"433.5\" y1=\"168.3398\" y2=\"168.3398\"/></a><!--MD5=[a717450b82c80b9240a525fa862496af]\n",
       "link E6 to E3--><a href=\"psysml:6aaaf2f4-4b2b-4d4a-ac54-83bc6d358576\" target=\"_top\" title=\"psysml:6aaaf2f4-4b2b-4d4a-ac54-83bc6d358576\" xlink:actuate=\"onRequest\" xlink:href=\"psysml:6aaaf2f4-4b2b-4d4a-ac54-83bc6d358576\" xlink:show=\"new\" xlink:title=\"psysml:6aaaf2f4-4b2b-4d4a-ac54-83bc6d358576\" xlink:type=\"simple\"><path d=\"M187,454.27 C187,472.09 187,492 187,509.13 \" fill=\"none\" id=\"E6-&gt;E3\" style=\"stroke: #383838; stroke-width: 1.0;\"/><polygon fill=\"#FFFFFF\" points=\"187,529.32,180,510.32,194,510.32,187,529.32\" style=\"stroke: #383838; stroke-width: 1.0;\"/><line style=\"stroke: #383838; stroke-width: 2.0;\" x1=\"180\" x2=\"194\" y1=\"506.52\" y2=\"506.52\"/></a><!--MD5=[6bdd27f9905911a7e892a3dc65cf6b7c]\n",
       "link E7 to E4--><a href=\"psysml:895bc16e-261f-455c-84ef-7cbef2b79206\" target=\"_top\" title=\"psysml:895bc16e-261f-455c-84ef-7cbef2b79206\" xlink:actuate=\"onRequest\" xlink:href=\"psysml:895bc16e-261f-455c-84ef-7cbef2b79206\" xlink:show=\"new\" xlink:title=\"psysml:895bc16e-261f-455c-84ef-7cbef2b79206\" xlink:type=\"simple\"><path d=\"M375.65,426.51 C376.76,441.33 378.28,461.76 379.79,481.81 \" fill=\"none\" id=\"E7-&gt;E4\" style=\"stroke: #383838; stroke-width: 1.0;\"/><polygon fill=\"#FFFFFF\" points=\"381.29,501.92,372.8847,483.4985,386.8452,482.4485,381.29,501.92\" style=\"stroke: #383838; stroke-width: 1.0;\"/><line style=\"stroke: #383838; stroke-width: 2.0;\" x1=\"372.5996\" x2=\"386.5602\" y1=\"479.7092\" y2=\"478.6592\"/></a><!--MD5=[1ccb2481ffa92f8d51a74ee30c51832a]\n",
       "link E8 to E5--><a href=\"psysml:8c509f82-013b-4383-9ee5-07fa63a1b780\" target=\"_top\" title=\"psysml:8c509f82-013b-4383-9ee5-07fa63a1b780\" xlink:actuate=\"onRequest\" xlink:href=\"psysml:8c509f82-013b-4383-9ee5-07fa63a1b780\" xlink:show=\"new\" xlink:title=\"psysml:8c509f82-013b-4383-9ee5-07fa63a1b780\" xlink:type=\"simple\"><path d=\"M185.8727,254.1745 C185.8155,254.3239 185.7577,254.473 185.6992,254.6218 C185.5822,254.9195 185.4627,255.2159 185.3406,255.5112 C185.0964,256.1017 184.8418,256.6872 184.5764,257.2676 C182.4536,261.9102 179.645,266.2163 176,270 C160.38,286.22 91.49,262.67 75,278 C72.4781,280.3456 70.1946,282.8739 68.1298,285.5534 C67.0973,286.8931 66.1196,288.2707 65.194,289.6822 C64.7312,290.3879 64.2814,291.1021 63.8444,291.8243 C63.6259,292.1854 63.4105,292.5485 63.1984,292.9135 C63.0923,293.0961 62.987,293.2791 62.8824,293.4625 \" fill=\"none\" id=\"E8-&gt;E5\" style=\"stroke: #383838; stroke-width: 1.0;\"/><polygon fill=\"#FFFFFF\" points=\"62.8824,293.4625,78.3697,280.4185,66.2052,273.4886,62.8824,293.4625\" style=\"stroke: #383838; stroke-width: 1.0;\"/></a><!--MD5=[c2be97adba6ddfe1c8f349fab141c927]\n",
       "link E9 to E4--><a href=\"psysml:a0ec1df7-1b05-4d8f-b92a-b996d3ea1089\" target=\"_top\" title=\"psysml:a0ec1df7-1b05-4d8f-b92a-b996d3ea1089\" xlink:actuate=\"onRequest\" xlink:href=\"psysml:a0ec1df7-1b05-4d8f-b92a-b996d3ea1089\" xlink:show=\"new\" xlink:title=\"psysml:a0ec1df7-1b05-4d8f-b92a-b996d3ea1089\" xlink:type=\"simple\"><path d=\"M410.08,230.15 C424.65,243.94 437.74,260 446,278 C483.4,359.45 484.12,400.26 449.85,483.4 \" fill=\"none\" id=\"E9-&gt;E4\" style=\"stroke: #383838; stroke-width: 1.0;\"/><polygon fill=\"#FFFFFF\" points=\"442,501.81,443.0106,481.5868,455.8895,487.0763,442,501.81\" style=\"stroke: #383838; stroke-width: 1.0;\"/><line style=\"stroke: #383838; stroke-width: 2.0;\" x1=\"444.5006\" x2=\"457.3795\" y1=\"478.0911\" y2=\"483.5806\"/></a><!--MD5=[433ae8120dc6c9ef4a0d97fabaf8c56f]\n",
       "@startuml\r\n",
       "skinparam ranksep 10\r\n",
       "skinparam rectangle {\r\n",
       " backgroundColor<<block>> LightGreen\r\n",
       "}\r\n",
       " skinparam monochrome true\r\n",
       "skinparam classbackgroundcolor white\r\n",
       "skinparam shadowing false\r\n",
       "skinparam wrapWidth 300\r\n",
       "hide circle\r\n",
       "\r\n",
       "package \"Packets\" as E1  [[psysml:781596e5-2fdd-47e5-84a9-0e1e2d017791 ]]  {\r\n",
       "def \"DateTime\" as E2  <<(T,blue)attribute def>> [[psysml:09967ea5-e8af-470d-92d0-5553b1044725 ]] \r\n",
       "comp usage \"packet header\" as E3  <<(T,blue)attribute>> [[psysml:16b22f80-f2ca-4440-a25c-8e72c7cab96e ]] {\r\n",
       "}\r\n",
       "comp usage \"packet data field\" as E4  <<(T,blue)attribute>> [[psysml:7e904c0e-d2a4-45ad-bef1-7051678b2240 ]] {\r\n",
       "- - attributes - -\r\n",
       "packet secondary header\\n//:>>Packets::packet header// \r\n",
       "user data field\r\n",
       "}\r\n",
       "rec def \"Data Packet\" as E5  <<(T,blue)part def>> [[psysml:7a510d36-5831-409f-9d62-08a185df40ba ]] {\r\n",
       "comp usage \"packet primary header\" as E6  <<(T,blue)attribute>> [[psysml:8bac5b56-bd53-4c22-88f8-0cbcb8384e0b ]] {\r\n",
       "- - attributes - -\r\n",
       "packet data length: Integer\r\n",
       "packet identification: String\r\n",
       "packet version number: Integer\r\n",
       "}\r\n",
       "comp usage \"packet data field\" as E7  <<(T,blue)attribute>> [[psysml:e649f067-3966-42a9-912a-f470df4c2484 ]] {\r\n",
       "}\r\n",
       "}\r\n",
       "rec def \"Thermal Data Packet\" as E8  <<(T,blue)part def>> [[psysml:10023c3e-6ce6-4816-9fb9-6800bd66eb89 ]] {\r\n",
       "comp usage \"packet data field\" as E9  <<(T,blue)attribute>> [[psysml:9d2256ff-aa99-47f6-ab60-2a2dbee9749e ]] {\r\n",
       "- - attributes - -\r\n",
       "packet secondary header\\n//:>>Packets::packet header// \r\n",
       "user data field\\n//:>>packet data field::user data field// \r\n",
       "}\r\n",
       "}\r\n",
       "E6 - -||> E3 [[psysml:6aaaf2f4-4b2b-4d4a-ac54-83bc6d358576 ]] \r\n",
       "E7 - -||> E4 [[psysml:895bc16e-261f-455c-84ef-7cbef2b79206 ]] \r\n",
       "E8 - -|> E5 [[psysml:8c509f82-013b-4383-9ee5-07fa63a1b780 ]] \r\n",
       "E9 - -||> E4 [[psysml:a0ec1df7-1b05-4d8f-b92a-b996d3ea1089 ]] \r\n",
       "}\r\n",
       "@enduml\r\n",
       "\n",
       "PlantUML version 1.2020.13(Sat Jun 13 12:26:38 UTC 2020)\n",
       "(EPL source distribution)\n",
       "Java Runtime: OpenJDK Runtime Environment\n",
       "JVM: OpenJDK 64-Bit Server VM\n",
       "Default Encoding: UTF-8\n",
       "Language: en\n",
       "Country: null\n",
       "--></g></svg>"
      ]
     },
     "execution_count": 5,
     "metadata": {},
     "output_type": "execute_result"
    }
   ],
   "source": [
    "%viz --style=\"COMPTREE\" --view=\"Interconnection\" \"Packets\""
   ]
  },
  {
   "cell_type": "code",
   "execution_count": 6,
   "id": "60438437",
   "metadata": {
    "execution": {
     "iopub.execute_input": "2021-04-20T07:33:51.641905Z",
     "iopub.status.busy": "2021-04-20T07:33:51.641175Z",
     "iopub.status.idle": "2021-04-20T07:33:51.650979Z",
     "shell.execute_reply": "2021-04-20T07:33:51.651340Z"
    }
   },
   "outputs": [
    {
     "data": {
      "image/svg+xml": [
       "<?xml version=\"1.0\" encoding=\"UTF-8\" standalone=\"no\"?><svg xmlns=\"http://www.w3.org/2000/svg\" xmlns:xlink=\"http://www.w3.org/1999/xlink\" contentScriptType=\"application/ecmascript\" contentStyleType=\"text/css\" height=\"12px\" preserveAspectRatio=\"none\" style=\"width:12px;height:12px;\" version=\"1.1\" viewBox=\"0 0 12 12\" width=\"12px\" zoomAndPan=\"magnify\"><defs/><g><!--MD5=[655b888544ca4751ea36af1068543f84]\n",
       "@startuml\r\n",
       "skinparam ranksep 8\r\n",
       " skinparam monochrome true\r\n",
       "skinparam classbackgroundcolor white\r\n",
       "skinparam shadowing false\r\n",
       "skinparam wrapWidth 300\r\n",
       "hide circle\r\n",
       "\r\n",
       "@enduml\r\n",
       "\n",
       "PlantUML version 1.2020.13(Sat Jun 13 12:26:38 UTC 2020)\n",
       "(EPL source distribution)\n",
       "Java Runtime: OpenJDK Runtime Environment\n",
       "JVM: OpenJDK 64-Bit Server VM\n",
       "Default Encoding: UTF-8\n",
       "Language: en\n",
       "Country: null\n",
       "--></g></svg>"
      ]
     },
     "execution_count": 6,
     "metadata": {},
     "output_type": "execute_result"
    }
   ],
   "source": [
    "%viz --style=\"COMPTREE\" --view=\"Action\" \"Packets\""
   ]
  },
  {
   "cell_type": "code",
   "execution_count": 7,
   "id": "7fde5412",
   "metadata": {
    "execution": {
     "iopub.execute_input": "2021-04-20T07:33:51.703230Z",
     "iopub.status.busy": "2021-04-20T07:33:51.702481Z",
     "iopub.status.idle": "2021-04-20T07:33:51.894465Z",
     "shell.execute_reply": "2021-04-20T07:33:51.894844Z"
    }
   },
   "outputs": [
    {
     "data": {
      "image/svg+xml": [
       "<?xml version=\"1.0\" encoding=\"UTF-8\" standalone=\"no\"?><svg xmlns=\"http://www.w3.org/2000/svg\" xmlns:xlink=\"http://www.w3.org/1999/xlink\" contentScriptType=\"application/ecmascript\" contentStyleType=\"text/css\" height=\"344px\" preserveAspectRatio=\"none\" style=\"width:716px;height:344px;\" version=\"1.1\" viewBox=\"0 0 716 344\" width=\"716px\" zoomAndPan=\"magnify\"><defs/><g><!--MD5=[fbc87193dbaf4d95561dea2c320d4a47]\n",
       "cluster E1--><a href=\"psysml:781596e5-2fdd-47e5-84a9-0e1e2d017791\" target=\"_top\" title=\"psysml:781596e5-2fdd-47e5-84a9-0e1e2d017791\" xlink:actuate=\"onRequest\" xlink:href=\"psysml:781596e5-2fdd-47e5-84a9-0e1e2d017791\" xlink:show=\"new\" xlink:title=\"psysml:781596e5-2fdd-47e5-84a9-0e1e2d017791\" xlink:type=\"simple\"><polygon fill=\"#FFFFFF\" points=\"16,6,84,6,91,28.2969,694,28.2969,694,332,16,332,16,6\" style=\"stroke: #000000; stroke-width: 1.5;\"/><line style=\"stroke: #000000; stroke-width: 1.5;\" x1=\"16\" x2=\"91\" y1=\"28.2969\" y2=\"28.2969\"/><text fill=\"#000000\" font-family=\"sans-serif\" font-size=\"14\" font-weight=\"bold\" lengthAdjust=\"spacingAndGlyphs\" textLength=\"62\" x=\"20\" y=\"20.9951\">Packets</text></a><!--MD5=[b4997ac47864f28c2f74865a473b2911]\n",
       "class E2--><a href=\"psysml:09967ea5-e8af-470d-92d0-5553b1044725\" target=\"_top\" title=\"psysml:09967ea5-e8af-470d-92d0-5553b1044725\" xlink:actuate=\"onRequest\" xlink:href=\"psysml:09967ea5-e8af-470d-92d0-5553b1044725\" xlink:show=\"new\" xlink:title=\"psysml:09967ea5-e8af-470d-92d0-5553b1044725\" xlink:type=\"simple\"><rect fill=\"#FFFFFF\" height=\"45.9375\" id=\"E2\" style=\"stroke: #383838; stroke-width: 1.5;\" width=\"95\" x=\"582.5\" y=\"68.5\"/><text fill=\"#000000\" font-family=\"sans-serif\" font-size=\"12\" font-style=\"italic\" lengthAdjust=\"spacingAndGlyphs\" textLength=\"93\" x=\"583.5\" y=\"84.6387\">«attribute def»</text><text fill=\"#000000\" font-family=\"sans-serif\" font-size=\"12\" lengthAdjust=\"spacingAndGlyphs\" textLength=\"59\" x=\"600.5\" y=\"98.6074\">DateTime</text><line style=\"stroke: #383838; stroke-width: 1.5;\" x1=\"583.5\" x2=\"676.5\" y1=\"106.4375\" y2=\"106.4375\"/></a><!--MD5=[09b614a08d8cba4a07c9adeb5e0fee81]\n",
       "class E3--><a href=\"psysml:16b22f80-f2ca-4440-a25c-8e72c7cab96e\" target=\"_top\" title=\"psysml:16b22f80-f2ca-4440-a25c-8e72c7cab96e\" xlink:actuate=\"onRequest\" xlink:href=\"psysml:16b22f80-f2ca-4440-a25c-8e72c7cab96e\" xlink:show=\"new\" xlink:title=\"psysml:16b22f80-f2ca-4440-a25c-8e72c7cab96e\" xlink:type=\"simple\"><rect fill=\"#FFFFFF\" height=\"45.9375\" id=\"E3\" rx=\"10\" ry=\"10\" style=\"stroke: #383838; stroke-width: 1.5;\" width=\"98\" x=\"449\" y=\"68.5\"/><text fill=\"#000000\" font-family=\"sans-serif\" font-size=\"12\" font-style=\"italic\" lengthAdjust=\"spacingAndGlyphs\" textLength=\"69\" x=\"463.5\" y=\"84.6387\">«attribute»</text><text fill=\"#000000\" font-family=\"sans-serif\" font-size=\"12\" lengthAdjust=\"spacingAndGlyphs\" textLength=\"92\" x=\"452\" y=\"98.6074\">packet header</text><line style=\"stroke: #383838; stroke-width: 1.5;\" x1=\"450\" x2=\"546\" y1=\"106.4375\" y2=\"106.4375\"/></a><!--MD5=[ebbe1d658d1005bcc118a6aa81145e00]\n",
       "class E4--><a href=\"psysml:7e904c0e-d2a4-45ad-bef1-7051678b2240\" target=\"_top\" title=\"psysml:7e904c0e-d2a4-45ad-bef1-7051678b2240\" xlink:actuate=\"onRequest\" xlink:href=\"psysml:7e904c0e-d2a4-45ad-bef1-7051678b2240\" xlink:show=\"new\" xlink:title=\"psysml:7e904c0e-d2a4-45ad-bef1-7051678b2240\" xlink:type=\"simple\"><rect fill=\"#FFFFFF\" height=\"101.1563\" id=\"E4\" rx=\"10\" ry=\"10\" style=\"stroke: #383838; stroke-width: 1.5;\" width=\"167\" x=\"247.5\" y=\"41\"/><text fill=\"#000000\" font-family=\"sans-serif\" font-size=\"12\" font-style=\"italic\" lengthAdjust=\"spacingAndGlyphs\" textLength=\"69\" x=\"296.5\" y=\"57.1387\">«attribute»</text><text fill=\"#000000\" font-family=\"sans-serif\" font-size=\"12\" lengthAdjust=\"spacingAndGlyphs\" textLength=\"106\" x=\"278\" y=\"71.1074\">packet data field</text><line style=\"stroke: #383838; stroke-width: 1.5;\" x1=\"248.5\" x2=\"413.5\" y1=\"78.9375\" y2=\"78.9375\"/><text fill=\"#000000\" font-family=\"sans-serif\" font-size=\"11\" lengthAdjust=\"spacingAndGlyphs\" textLength=\"144\" x=\"253.5\" y=\"109.9526\">packet secondary header</text><text fill=\"#000000\" font-family=\"sans-serif\" font-size=\"11\" font-style=\"italic\" lengthAdjust=\"spacingAndGlyphs\" textLength=\"155\" x=\"253.5\" y=\"122.7573\">:&gt;&gt;Packets::packet header</text><text fill=\"#000000\" font-family=\"sans-serif\" font-size=\"11\" lengthAdjust=\"spacingAndGlyphs\" textLength=\"83\" x=\"253.5\" y=\"135.562\">user data field</text><line style=\"stroke: #383838; stroke-width: 1.0;\" x1=\"248.5\" x2=\"303.5\" y1=\"93.3398\" y2=\"93.3398\"/><text fill=\"#000000\" font-family=\"sans-serif\" font-size=\"11\" lengthAdjust=\"spacingAndGlyphs\" textLength=\"55\" x=\"303.5\" y=\"96.6479\">attributes</text><line style=\"stroke: #383838; stroke-width: 1.0;\" x1=\"358.5\" x2=\"413.5\" y1=\"93.3398\" y2=\"93.3398\"/></a><!--MD5=[270fce915f116d4de14055a7c1d9a0f3]\n",
       "class E5--><a href=\"psysml:7a510d36-5831-409f-9d62-08a185df40ba\" target=\"_top\" title=\"psysml:7a510d36-5831-409f-9d62-08a185df40ba\" xlink:actuate=\"onRequest\" xlink:href=\"psysml:7a510d36-5831-409f-9d62-08a185df40ba\" xlink:show=\"new\" xlink:title=\"psysml:7a510d36-5831-409f-9d62-08a185df40ba\" xlink:type=\"simple\"><rect fill=\"#FFFFFF\" height=\"113.9609\" id=\"E5\" style=\"stroke: #383838; stroke-width: 1.5;\" width=\"180\" x=\"32\" y=\"202\"/><text fill=\"#000000\" font-family=\"sans-serif\" font-size=\"12\" font-style=\"italic\" lengthAdjust=\"spacingAndGlyphs\" textLength=\"64\" x=\"90\" y=\"218.1387\">«part def»</text><text fill=\"#000000\" font-family=\"sans-serif\" font-size=\"12\" lengthAdjust=\"spacingAndGlyphs\" textLength=\"77\" x=\"83.5\" y=\"232.1074\">Data Packet</text><line style=\"stroke: #383838; stroke-width: 1.5;\" x1=\"33\" x2=\"211\" y1=\"239.9375\" y2=\"239.9375\"/><text fill=\"#000000\" font-family=\"sans-serif\" font-size=\"11\" lengthAdjust=\"spacingAndGlyphs\" textLength=\"94\" x=\"38\" y=\"270.9526\">packet data field</text><text fill=\"#000000\" font-family=\"sans-serif\" font-size=\"11\" font-style=\"italic\" lengthAdjust=\"spacingAndGlyphs\" textLength=\"168\" x=\"38\" y=\"283.7573\">:&gt;&gt;Packets::packet data field</text><text fill=\"#000000\" font-family=\"sans-serif\" font-size=\"11\" lengthAdjust=\"spacingAndGlyphs\" textLength=\"129\" x=\"38\" y=\"296.562\">packet primary header</text><text fill=\"#000000\" font-family=\"sans-serif\" font-size=\"11\" font-style=\"italic\" lengthAdjust=\"spacingAndGlyphs\" textLength=\"155\" x=\"38\" y=\"309.3667\">:&gt;&gt;Packets::packet header</text><line style=\"stroke: #383838; stroke-width: 1.0;\" x1=\"33\" x2=\"94.5\" y1=\"254.3398\" y2=\"254.3398\"/><text fill=\"#000000\" font-family=\"sans-serif\" font-size=\"11\" lengthAdjust=\"spacingAndGlyphs\" textLength=\"55\" x=\"94.5\" y=\"257.6479\">attributes</text><line style=\"stroke: #383838; stroke-width: 1.0;\" x1=\"149.5\" x2=\"211\" y1=\"254.3398\" y2=\"254.3398\"/></a><!--MD5=[60a26617385b1d2d0262a64233df1f8d]\n",
       "class E6--><a href=\"psysml:10023c3e-6ce6-4816-9fb9-6800bd66eb89\" target=\"_top\" title=\"psysml:10023c3e-6ce6-4816-9fb9-6800bd66eb89\" xlink:actuate=\"onRequest\" xlink:href=\"psysml:10023c3e-6ce6-4816-9fb9-6800bd66eb89\" xlink:show=\"new\" xlink:title=\"psysml:10023c3e-6ce6-4816-9fb9-6800bd66eb89\" xlink:type=\"simple\"><rect fill=\"#FFFFFF\" height=\"88.3516\" id=\"E6\" style=\"stroke: #383838; stroke-width: 1.5;\" width=\"180\" x=\"32\" y=\"47.5\"/><text fill=\"#000000\" font-family=\"sans-serif\" font-size=\"12\" font-style=\"italic\" lengthAdjust=\"spacingAndGlyphs\" textLength=\"64\" x=\"90\" y=\"63.6387\">«part def»</text><text fill=\"#000000\" font-family=\"sans-serif\" font-size=\"12\" lengthAdjust=\"spacingAndGlyphs\" textLength=\"131\" x=\"56.5\" y=\"77.6074\">Thermal Data Packet</text><line style=\"stroke: #383838; stroke-width: 1.5;\" x1=\"33\" x2=\"211\" y1=\"85.4375\" y2=\"85.4375\"/><text fill=\"#000000\" font-family=\"sans-serif\" font-size=\"11\" lengthAdjust=\"spacingAndGlyphs\" textLength=\"94\" x=\"38\" y=\"116.4526\">packet data field</text><text fill=\"#000000\" font-family=\"sans-serif\" font-size=\"11\" font-style=\"italic\" lengthAdjust=\"spacingAndGlyphs\" textLength=\"168\" x=\"38\" y=\"129.2573\">:&gt;&gt;Packets::packet data field</text><line style=\"stroke: #383838; stroke-width: 1.0;\" x1=\"33\" x2=\"94.5\" y1=\"99.8398\" y2=\"99.8398\"/><text fill=\"#000000\" font-family=\"sans-serif\" font-size=\"11\" lengthAdjust=\"spacingAndGlyphs\" textLength=\"55\" x=\"94.5\" y=\"103.1479\">attributes</text><line style=\"stroke: #383838; stroke-width: 1.0;\" x1=\"149.5\" x2=\"211\" y1=\"99.8398\" y2=\"99.8398\"/></a><!--MD5=[25b190c987b1e74e5126d372c5a73af1]\n",
       "link E6 to E5--><a href=\"psysml:8c509f82-013b-4383-9ee5-07fa63a1b780\" target=\"_top\" title=\"psysml:8c509f82-013b-4383-9ee5-07fa63a1b780\" xlink:actuate=\"onRequest\" xlink:href=\"psysml:8c509f82-013b-4383-9ee5-07fa63a1b780\" xlink:show=\"new\" xlink:title=\"psysml:8c509f82-013b-4383-9ee5-07fa63a1b780\" xlink:type=\"simple\"><path d=\"M122,135.55 C122,149.68 122,165.84 122,181.67 \" fill=\"none\" id=\"E6-&gt;E5\" style=\"stroke: #383838; stroke-width: 1.0;\"/><polygon fill=\"none\" points=\"129,181.75,122,201.75,115,181.75,129,181.75\" style=\"stroke: #383838; stroke-width: 1.0;\"/></a><!--MD5=[f4af277d9bdd3902965382443dc4b2fe]\n",
       "@startuml\r\n",
       " skinparam monochrome true\r\n",
       "skinparam classbackgroundcolor white\r\n",
       "skinparam shadowing false\r\n",
       "skinparam wrapWidth 300\r\n",
       "hide circle\r\n",
       "\r\n",
       "package \"Packets\" as E1  [[psysml:781596e5-2fdd-47e5-84a9-0e1e2d017791 ]]  {\r\n",
       "comp def \"DateTime\" as E2  <<(T,blue)attribute def>> [[psysml:09967ea5-e8af-470d-92d0-5553b1044725 ]] {\r\n",
       "}\r\n",
       "comp usage \"packet header\" as E3  <<(T,blue)attribute>> [[psysml:16b22f80-f2ca-4440-a25c-8e72c7cab96e ]] {\r\n",
       "}\r\n",
       "comp usage \"packet data field\" as E4  <<(T,blue)attribute>> [[psysml:7e904c0e-d2a4-45ad-bef1-7051678b2240 ]] {\r\n",
       "- - attributes - -\r\n",
       "packet secondary header\\n//:>>Packets::packet header// \r\n",
       "user data field\r\n",
       "}\r\n",
       "comp def \"Data Packet\" as E5  <<(T,blue)part def>> [[psysml:7a510d36-5831-409f-9d62-08a185df40ba ]] {\r\n",
       "- - attributes - -\r\n",
       "packet data field\\n//:>>Packets::packet data field// \r\n",
       "packet primary header\\n//:>>Packets::packet header// \r\n",
       "}\r\n",
       "comp def \"Thermal Data Packet\" as E6  <<(T,blue)part def>> [[psysml:10023c3e-6ce6-4816-9fb9-6800bd66eb89 ]] {\r\n",
       "- - attributes - -\r\n",
       "packet data field\\n//:>>Packets::packet data field// \r\n",
       "}\r\n",
       "E6 - -|> E5 [[psysml:8c509f82-013b-4383-9ee5-07fa63a1b780 ]] \r\n",
       "}\r\n",
       "@enduml\r\n",
       "\n",
       "PlantUML version 1.2020.13(Sat Jun 13 12:26:38 UTC 2020)\n",
       "(EPL source distribution)\n",
       "Java Runtime: OpenJDK Runtime Environment\n",
       "JVM: OpenJDK 64-Bit Server VM\n",
       "Default Encoding: UTF-8\n",
       "Language: en\n",
       "Country: null\n",
       "--></g></svg>"
      ]
     },
     "execution_count": 7,
     "metadata": {},
     "output_type": "execute_result"
    }
   ],
   "source": [
    "%viz --style=\"COMPTREE\" --view=\"Sequence\" \"Packets\""
   ]
  },
  {
   "cell_type": "code",
   "execution_count": 8,
   "id": "74f74a10",
   "metadata": {
    "execution": {
     "iopub.execute_input": "2021-04-20T07:33:51.945463Z",
     "iopub.status.busy": "2021-04-20T07:33:51.944870Z",
     "iopub.status.idle": "2021-04-20T07:33:52.119556Z",
     "shell.execute_reply": "2021-04-20T07:33:52.117966Z"
    }
   },
   "outputs": [
    {
     "data": {
      "image/svg+xml": [
       "<?xml version=\"1.0\" encoding=\"UTF-8\" standalone=\"no\"?><svg xmlns=\"http://www.w3.org/2000/svg\" xmlns:xlink=\"http://www.w3.org/1999/xlink\" contentScriptType=\"application/ecmascript\" contentStyleType=\"text/css\" height=\"344px\" preserveAspectRatio=\"none\" style=\"width:716px;height:344px;\" version=\"1.1\" viewBox=\"0 0 716 344\" width=\"716px\" zoomAndPan=\"magnify\"><defs/><g><!--MD5=[fbc87193dbaf4d95561dea2c320d4a47]\n",
       "cluster E1--><a href=\"psysml:781596e5-2fdd-47e5-84a9-0e1e2d017791\" target=\"_top\" title=\"psysml:781596e5-2fdd-47e5-84a9-0e1e2d017791\" xlink:actuate=\"onRequest\" xlink:href=\"psysml:781596e5-2fdd-47e5-84a9-0e1e2d017791\" xlink:show=\"new\" xlink:title=\"psysml:781596e5-2fdd-47e5-84a9-0e1e2d017791\" xlink:type=\"simple\"><polygon fill=\"#FFFFFF\" points=\"16,6,84,6,91,28.2969,694,28.2969,694,332,16,332,16,6\" style=\"stroke: #000000; stroke-width: 1.5;\"/><line style=\"stroke: #000000; stroke-width: 1.5;\" x1=\"16\" x2=\"91\" y1=\"28.2969\" y2=\"28.2969\"/><text fill=\"#000000\" font-family=\"sans-serif\" font-size=\"14\" font-weight=\"bold\" lengthAdjust=\"spacingAndGlyphs\" textLength=\"62\" x=\"20\" y=\"20.9951\">Packets</text></a><!--MD5=[b4997ac47864f28c2f74865a473b2911]\n",
       "class E2--><a href=\"psysml:09967ea5-e8af-470d-92d0-5553b1044725\" target=\"_top\" title=\"psysml:09967ea5-e8af-470d-92d0-5553b1044725\" xlink:actuate=\"onRequest\" xlink:href=\"psysml:09967ea5-e8af-470d-92d0-5553b1044725\" xlink:show=\"new\" xlink:title=\"psysml:09967ea5-e8af-470d-92d0-5553b1044725\" xlink:type=\"simple\"><rect fill=\"#FFFFFF\" height=\"45.9375\" id=\"E2\" style=\"stroke: #383838; stroke-width: 1.5;\" width=\"95\" x=\"582.5\" y=\"68.5\"/><text fill=\"#000000\" font-family=\"sans-serif\" font-size=\"12\" font-style=\"italic\" lengthAdjust=\"spacingAndGlyphs\" textLength=\"93\" x=\"583.5\" y=\"84.6387\">«attribute def»</text><text fill=\"#000000\" font-family=\"sans-serif\" font-size=\"12\" lengthAdjust=\"spacingAndGlyphs\" textLength=\"59\" x=\"600.5\" y=\"98.6074\">DateTime</text><line style=\"stroke: #383838; stroke-width: 1.5;\" x1=\"583.5\" x2=\"676.5\" y1=\"106.4375\" y2=\"106.4375\"/></a><!--MD5=[09b614a08d8cba4a07c9adeb5e0fee81]\n",
       "class E3--><a href=\"psysml:16b22f80-f2ca-4440-a25c-8e72c7cab96e\" target=\"_top\" title=\"psysml:16b22f80-f2ca-4440-a25c-8e72c7cab96e\" xlink:actuate=\"onRequest\" xlink:href=\"psysml:16b22f80-f2ca-4440-a25c-8e72c7cab96e\" xlink:show=\"new\" xlink:title=\"psysml:16b22f80-f2ca-4440-a25c-8e72c7cab96e\" xlink:type=\"simple\"><rect fill=\"#FFFFFF\" height=\"45.9375\" id=\"E3\" rx=\"10\" ry=\"10\" style=\"stroke: #383838; stroke-width: 1.5;\" width=\"98\" x=\"449\" y=\"68.5\"/><text fill=\"#000000\" font-family=\"sans-serif\" font-size=\"12\" font-style=\"italic\" lengthAdjust=\"spacingAndGlyphs\" textLength=\"69\" x=\"463.5\" y=\"84.6387\">«attribute»</text><text fill=\"#000000\" font-family=\"sans-serif\" font-size=\"12\" lengthAdjust=\"spacingAndGlyphs\" textLength=\"92\" x=\"452\" y=\"98.6074\">packet header</text><line style=\"stroke: #383838; stroke-width: 1.5;\" x1=\"450\" x2=\"546\" y1=\"106.4375\" y2=\"106.4375\"/></a><!--MD5=[ebbe1d658d1005bcc118a6aa81145e00]\n",
       "class E4--><a href=\"psysml:7e904c0e-d2a4-45ad-bef1-7051678b2240\" target=\"_top\" title=\"psysml:7e904c0e-d2a4-45ad-bef1-7051678b2240\" xlink:actuate=\"onRequest\" xlink:href=\"psysml:7e904c0e-d2a4-45ad-bef1-7051678b2240\" xlink:show=\"new\" xlink:title=\"psysml:7e904c0e-d2a4-45ad-bef1-7051678b2240\" xlink:type=\"simple\"><rect fill=\"#FFFFFF\" height=\"101.1563\" id=\"E4\" rx=\"10\" ry=\"10\" style=\"stroke: #383838; stroke-width: 1.5;\" width=\"167\" x=\"247.5\" y=\"41\"/><text fill=\"#000000\" font-family=\"sans-serif\" font-size=\"12\" font-style=\"italic\" lengthAdjust=\"spacingAndGlyphs\" textLength=\"69\" x=\"296.5\" y=\"57.1387\">«attribute»</text><text fill=\"#000000\" font-family=\"sans-serif\" font-size=\"12\" lengthAdjust=\"spacingAndGlyphs\" textLength=\"106\" x=\"278\" y=\"71.1074\">packet data field</text><line style=\"stroke: #383838; stroke-width: 1.5;\" x1=\"248.5\" x2=\"413.5\" y1=\"78.9375\" y2=\"78.9375\"/><text fill=\"#000000\" font-family=\"sans-serif\" font-size=\"11\" lengthAdjust=\"spacingAndGlyphs\" textLength=\"144\" x=\"253.5\" y=\"109.9526\">packet secondary header</text><text fill=\"#000000\" font-family=\"sans-serif\" font-size=\"11\" font-style=\"italic\" lengthAdjust=\"spacingAndGlyphs\" textLength=\"155\" x=\"253.5\" y=\"122.7573\">:&gt;&gt;Packets::packet header</text><text fill=\"#000000\" font-family=\"sans-serif\" font-size=\"11\" lengthAdjust=\"spacingAndGlyphs\" textLength=\"83\" x=\"253.5\" y=\"135.562\">user data field</text><line style=\"stroke: #383838; stroke-width: 1.0;\" x1=\"248.5\" x2=\"303.5\" y1=\"93.3398\" y2=\"93.3398\"/><text fill=\"#000000\" font-family=\"sans-serif\" font-size=\"11\" lengthAdjust=\"spacingAndGlyphs\" textLength=\"55\" x=\"303.5\" y=\"96.6479\">attributes</text><line style=\"stroke: #383838; stroke-width: 1.0;\" x1=\"358.5\" x2=\"413.5\" y1=\"93.3398\" y2=\"93.3398\"/></a><!--MD5=[270fce915f116d4de14055a7c1d9a0f3]\n",
       "class E5--><a href=\"psysml:7a510d36-5831-409f-9d62-08a185df40ba\" target=\"_top\" title=\"psysml:7a510d36-5831-409f-9d62-08a185df40ba\" xlink:actuate=\"onRequest\" xlink:href=\"psysml:7a510d36-5831-409f-9d62-08a185df40ba\" xlink:show=\"new\" xlink:title=\"psysml:7a510d36-5831-409f-9d62-08a185df40ba\" xlink:type=\"simple\"><rect fill=\"#FFFFFF\" height=\"113.9609\" id=\"E5\" style=\"stroke: #383838; stroke-width: 1.5;\" width=\"180\" x=\"32\" y=\"202\"/><text fill=\"#000000\" font-family=\"sans-serif\" font-size=\"12\" font-style=\"italic\" lengthAdjust=\"spacingAndGlyphs\" textLength=\"64\" x=\"90\" y=\"218.1387\">«part def»</text><text fill=\"#000000\" font-family=\"sans-serif\" font-size=\"12\" lengthAdjust=\"spacingAndGlyphs\" textLength=\"77\" x=\"83.5\" y=\"232.1074\">Data Packet</text><line style=\"stroke: #383838; stroke-width: 1.5;\" x1=\"33\" x2=\"211\" y1=\"239.9375\" y2=\"239.9375\"/><text fill=\"#000000\" font-family=\"sans-serif\" font-size=\"11\" lengthAdjust=\"spacingAndGlyphs\" textLength=\"94\" x=\"38\" y=\"270.9526\">packet data field</text><text fill=\"#000000\" font-family=\"sans-serif\" font-size=\"11\" font-style=\"italic\" lengthAdjust=\"spacingAndGlyphs\" textLength=\"168\" x=\"38\" y=\"283.7573\">:&gt;&gt;Packets::packet data field</text><text fill=\"#000000\" font-family=\"sans-serif\" font-size=\"11\" lengthAdjust=\"spacingAndGlyphs\" textLength=\"129\" x=\"38\" y=\"296.562\">packet primary header</text><text fill=\"#000000\" font-family=\"sans-serif\" font-size=\"11\" font-style=\"italic\" lengthAdjust=\"spacingAndGlyphs\" textLength=\"155\" x=\"38\" y=\"309.3667\">:&gt;&gt;Packets::packet header</text><line style=\"stroke: #383838; stroke-width: 1.0;\" x1=\"33\" x2=\"94.5\" y1=\"254.3398\" y2=\"254.3398\"/><text fill=\"#000000\" font-family=\"sans-serif\" font-size=\"11\" lengthAdjust=\"spacingAndGlyphs\" textLength=\"55\" x=\"94.5\" y=\"257.6479\">attributes</text><line style=\"stroke: #383838; stroke-width: 1.0;\" x1=\"149.5\" x2=\"211\" y1=\"254.3398\" y2=\"254.3398\"/></a><!--MD5=[60a26617385b1d2d0262a64233df1f8d]\n",
       "class E6--><a href=\"psysml:10023c3e-6ce6-4816-9fb9-6800bd66eb89\" target=\"_top\" title=\"psysml:10023c3e-6ce6-4816-9fb9-6800bd66eb89\" xlink:actuate=\"onRequest\" xlink:href=\"psysml:10023c3e-6ce6-4816-9fb9-6800bd66eb89\" xlink:show=\"new\" xlink:title=\"psysml:10023c3e-6ce6-4816-9fb9-6800bd66eb89\" xlink:type=\"simple\"><rect fill=\"#FFFFFF\" height=\"88.3516\" id=\"E6\" style=\"stroke: #383838; stroke-width: 1.5;\" width=\"180\" x=\"32\" y=\"47.5\"/><text fill=\"#000000\" font-family=\"sans-serif\" font-size=\"12\" font-style=\"italic\" lengthAdjust=\"spacingAndGlyphs\" textLength=\"64\" x=\"90\" y=\"63.6387\">«part def»</text><text fill=\"#000000\" font-family=\"sans-serif\" font-size=\"12\" lengthAdjust=\"spacingAndGlyphs\" textLength=\"131\" x=\"56.5\" y=\"77.6074\">Thermal Data Packet</text><line style=\"stroke: #383838; stroke-width: 1.5;\" x1=\"33\" x2=\"211\" y1=\"85.4375\" y2=\"85.4375\"/><text fill=\"#000000\" font-family=\"sans-serif\" font-size=\"11\" lengthAdjust=\"spacingAndGlyphs\" textLength=\"94\" x=\"38\" y=\"116.4526\">packet data field</text><text fill=\"#000000\" font-family=\"sans-serif\" font-size=\"11\" font-style=\"italic\" lengthAdjust=\"spacingAndGlyphs\" textLength=\"168\" x=\"38\" y=\"129.2573\">:&gt;&gt;Packets::packet data field</text><line style=\"stroke: #383838; stroke-width: 1.0;\" x1=\"33\" x2=\"94.5\" y1=\"99.8398\" y2=\"99.8398\"/><text fill=\"#000000\" font-family=\"sans-serif\" font-size=\"11\" lengthAdjust=\"spacingAndGlyphs\" textLength=\"55\" x=\"94.5\" y=\"103.1479\">attributes</text><line style=\"stroke: #383838; stroke-width: 1.0;\" x1=\"149.5\" x2=\"211\" y1=\"99.8398\" y2=\"99.8398\"/></a><!--MD5=[25b190c987b1e74e5126d372c5a73af1]\n",
       "link E6 to E5--><a href=\"psysml:8c509f82-013b-4383-9ee5-07fa63a1b780\" target=\"_top\" title=\"psysml:8c509f82-013b-4383-9ee5-07fa63a1b780\" xlink:actuate=\"onRequest\" xlink:href=\"psysml:8c509f82-013b-4383-9ee5-07fa63a1b780\" xlink:show=\"new\" xlink:title=\"psysml:8c509f82-013b-4383-9ee5-07fa63a1b780\" xlink:type=\"simple\"><path d=\"M122,135.55 C122,149.68 122,165.84 122,181.67 \" fill=\"none\" id=\"E6-&gt;E5\" style=\"stroke: #383838; stroke-width: 1.0;\"/><polygon fill=\"none\" points=\"129,181.75,122,201.75,115,181.75,129,181.75\" style=\"stroke: #383838; stroke-width: 1.0;\"/></a><!--MD5=[f4af277d9bdd3902965382443dc4b2fe]\n",
       "@startuml\r\n",
       " skinparam monochrome true\r\n",
       "skinparam classbackgroundcolor white\r\n",
       "skinparam shadowing false\r\n",
       "skinparam wrapWidth 300\r\n",
       "hide circle\r\n",
       "\r\n",
       "package \"Packets\" as E1  [[psysml:781596e5-2fdd-47e5-84a9-0e1e2d017791 ]]  {\r\n",
       "comp def \"DateTime\" as E2  <<(T,blue)attribute def>> [[psysml:09967ea5-e8af-470d-92d0-5553b1044725 ]] {\r\n",
       "}\r\n",
       "comp usage \"packet header\" as E3  <<(T,blue)attribute>> [[psysml:16b22f80-f2ca-4440-a25c-8e72c7cab96e ]] {\r\n",
       "}\r\n",
       "comp usage \"packet data field\" as E4  <<(T,blue)attribute>> [[psysml:7e904c0e-d2a4-45ad-bef1-7051678b2240 ]] {\r\n",
       "- - attributes - -\r\n",
       "packet secondary header\\n//:>>Packets::packet header// \r\n",
       "user data field\r\n",
       "}\r\n",
       "comp def \"Data Packet\" as E5  <<(T,blue)part def>> [[psysml:7a510d36-5831-409f-9d62-08a185df40ba ]] {\r\n",
       "- - attributes - -\r\n",
       "packet data field\\n//:>>Packets::packet data field// \r\n",
       "packet primary header\\n//:>>Packets::packet header// \r\n",
       "}\r\n",
       "comp def \"Thermal Data Packet\" as E6  <<(T,blue)part def>> [[psysml:10023c3e-6ce6-4816-9fb9-6800bd66eb89 ]] {\r\n",
       "- - attributes - -\r\n",
       "packet data field\\n//:>>Packets::packet data field// \r\n",
       "}\r\n",
       "E6 - -|> E5 [[psysml:8c509f82-013b-4383-9ee5-07fa63a1b780 ]] \r\n",
       "}\r\n",
       "@enduml\r\n",
       "\n",
       "PlantUML version 1.2020.13(Sat Jun 13 12:26:38 UTC 2020)\n",
       "(EPL source distribution)\n",
       "Java Runtime: OpenJDK Runtime Environment\n",
       "JVM: OpenJDK 64-Bit Server VM\n",
       "Default Encoding: UTF-8\n",
       "Language: en\n",
       "Country: null\n",
       "--></g></svg>"
      ]
     },
     "execution_count": 8,
     "metadata": {},
     "output_type": "execute_result"
    }
   ],
   "source": [
    "%viz --style=\"COMPTREE\" --view=\"MIXED\" \"Packets\""
   ]
  },
  {
   "cell_type": "code",
   "execution_count": 9,
   "id": "85a87a1d",
   "metadata": {
    "execution": {
     "iopub.execute_input": "2021-04-20T07:33:52.174955Z",
     "iopub.status.busy": "2021-04-20T07:33:52.173810Z",
     "iopub.status.idle": "2021-04-20T07:33:52.397308Z",
     "shell.execute_reply": "2021-04-20T07:33:52.395326Z"
    }
   },
   "outputs": [
    {
     "data": {
      "image/svg+xml": [
       "<?xml version=\"1.0\" encoding=\"UTF-8\" standalone=\"no\"?><svg xmlns=\"http://www.w3.org/2000/svg\" xmlns:xlink=\"http://www.w3.org/1999/xlink\" contentScriptType=\"application/ecmascript\" contentStyleType=\"text/css\" height=\"344px\" preserveAspectRatio=\"none\" style=\"width:716px;height:344px;\" version=\"1.1\" viewBox=\"0 0 716 344\" width=\"716px\" zoomAndPan=\"magnify\"><defs/><g><!--MD5=[fbc87193dbaf4d95561dea2c320d4a47]\n",
       "cluster E1--><a href=\"psysml:781596e5-2fdd-47e5-84a9-0e1e2d017791\" target=\"_top\" title=\"psysml:781596e5-2fdd-47e5-84a9-0e1e2d017791\" xlink:actuate=\"onRequest\" xlink:href=\"psysml:781596e5-2fdd-47e5-84a9-0e1e2d017791\" xlink:show=\"new\" xlink:title=\"psysml:781596e5-2fdd-47e5-84a9-0e1e2d017791\" xlink:type=\"simple\"><polygon fill=\"#FFFFFF\" points=\"16,6,84,6,91,28.2969,694,28.2969,694,332,16,332,16,6\" style=\"stroke: #000000; stroke-width: 1.5;\"/><line style=\"stroke: #000000; stroke-width: 1.5;\" x1=\"16\" x2=\"91\" y1=\"28.2969\" y2=\"28.2969\"/><text fill=\"#000000\" font-family=\"sans-serif\" font-size=\"14\" font-weight=\"bold\" lengthAdjust=\"spacingAndGlyphs\" textLength=\"62\" x=\"20\" y=\"20.9951\">Packets</text></a><!--MD5=[b4997ac47864f28c2f74865a473b2911]\n",
       "class E2--><a href=\"psysml:09967ea5-e8af-470d-92d0-5553b1044725\" target=\"_top\" title=\"psysml:09967ea5-e8af-470d-92d0-5553b1044725\" xlink:actuate=\"onRequest\" xlink:href=\"psysml:09967ea5-e8af-470d-92d0-5553b1044725\" xlink:show=\"new\" xlink:title=\"psysml:09967ea5-e8af-470d-92d0-5553b1044725\" xlink:type=\"simple\"><rect fill=\"#FFFFFF\" height=\"45.9375\" id=\"E2\" style=\"stroke: #383838; stroke-width: 1.5;\" width=\"95\" x=\"582.5\" y=\"68.5\"/><text fill=\"#000000\" font-family=\"sans-serif\" font-size=\"12\" font-style=\"italic\" lengthAdjust=\"spacingAndGlyphs\" textLength=\"93\" x=\"583.5\" y=\"84.6387\">«attribute def»</text><text fill=\"#000000\" font-family=\"sans-serif\" font-size=\"12\" lengthAdjust=\"spacingAndGlyphs\" textLength=\"59\" x=\"600.5\" y=\"98.6074\">DateTime</text><line style=\"stroke: #383838; stroke-width: 1.5;\" x1=\"583.5\" x2=\"676.5\" y1=\"106.4375\" y2=\"106.4375\"/></a><!--MD5=[09b614a08d8cba4a07c9adeb5e0fee81]\n",
       "class E3--><a href=\"psysml:16b22f80-f2ca-4440-a25c-8e72c7cab96e\" target=\"_top\" title=\"psysml:16b22f80-f2ca-4440-a25c-8e72c7cab96e\" xlink:actuate=\"onRequest\" xlink:href=\"psysml:16b22f80-f2ca-4440-a25c-8e72c7cab96e\" xlink:show=\"new\" xlink:title=\"psysml:16b22f80-f2ca-4440-a25c-8e72c7cab96e\" xlink:type=\"simple\"><rect fill=\"#FFFFFF\" height=\"45.9375\" id=\"E3\" rx=\"10\" ry=\"10\" style=\"stroke: #383838; stroke-width: 1.5;\" width=\"98\" x=\"449\" y=\"68.5\"/><text fill=\"#000000\" font-family=\"sans-serif\" font-size=\"12\" font-style=\"italic\" lengthAdjust=\"spacingAndGlyphs\" textLength=\"69\" x=\"463.5\" y=\"84.6387\">«attribute»</text><text fill=\"#000000\" font-family=\"sans-serif\" font-size=\"12\" lengthAdjust=\"spacingAndGlyphs\" textLength=\"92\" x=\"452\" y=\"98.6074\">packet header</text><line style=\"stroke: #383838; stroke-width: 1.5;\" x1=\"450\" x2=\"546\" y1=\"106.4375\" y2=\"106.4375\"/></a><!--MD5=[ebbe1d658d1005bcc118a6aa81145e00]\n",
       "class E4--><a href=\"psysml:7e904c0e-d2a4-45ad-bef1-7051678b2240\" target=\"_top\" title=\"psysml:7e904c0e-d2a4-45ad-bef1-7051678b2240\" xlink:actuate=\"onRequest\" xlink:href=\"psysml:7e904c0e-d2a4-45ad-bef1-7051678b2240\" xlink:show=\"new\" xlink:title=\"psysml:7e904c0e-d2a4-45ad-bef1-7051678b2240\" xlink:type=\"simple\"><rect fill=\"#FFFFFF\" height=\"101.1563\" id=\"E4\" rx=\"10\" ry=\"10\" style=\"stroke: #383838; stroke-width: 1.5;\" width=\"167\" x=\"247.5\" y=\"41\"/><text fill=\"#000000\" font-family=\"sans-serif\" font-size=\"12\" font-style=\"italic\" lengthAdjust=\"spacingAndGlyphs\" textLength=\"69\" x=\"296.5\" y=\"57.1387\">«attribute»</text><text fill=\"#000000\" font-family=\"sans-serif\" font-size=\"12\" lengthAdjust=\"spacingAndGlyphs\" textLength=\"106\" x=\"278\" y=\"71.1074\">packet data field</text><line style=\"stroke: #383838; stroke-width: 1.5;\" x1=\"248.5\" x2=\"413.5\" y1=\"78.9375\" y2=\"78.9375\"/><text fill=\"#000000\" font-family=\"sans-serif\" font-size=\"11\" lengthAdjust=\"spacingAndGlyphs\" textLength=\"144\" x=\"253.5\" y=\"109.9526\">packet secondary header</text><text fill=\"#000000\" font-family=\"sans-serif\" font-size=\"11\" font-style=\"italic\" lengthAdjust=\"spacingAndGlyphs\" textLength=\"155\" x=\"253.5\" y=\"122.7573\">:&gt;&gt;Packets::packet header</text><text fill=\"#000000\" font-family=\"sans-serif\" font-size=\"11\" lengthAdjust=\"spacingAndGlyphs\" textLength=\"83\" x=\"253.5\" y=\"135.562\">user data field</text><line style=\"stroke: #383838; stroke-width: 1.0;\" x1=\"248.5\" x2=\"303.5\" y1=\"93.3398\" y2=\"93.3398\"/><text fill=\"#000000\" font-family=\"sans-serif\" font-size=\"11\" lengthAdjust=\"spacingAndGlyphs\" textLength=\"55\" x=\"303.5\" y=\"96.6479\">attributes</text><line style=\"stroke: #383838; stroke-width: 1.0;\" x1=\"358.5\" x2=\"413.5\" y1=\"93.3398\" y2=\"93.3398\"/></a><!--MD5=[270fce915f116d4de14055a7c1d9a0f3]\n",
       "class E5--><a href=\"psysml:7a510d36-5831-409f-9d62-08a185df40ba\" target=\"_top\" title=\"psysml:7a510d36-5831-409f-9d62-08a185df40ba\" xlink:actuate=\"onRequest\" xlink:href=\"psysml:7a510d36-5831-409f-9d62-08a185df40ba\" xlink:show=\"new\" xlink:title=\"psysml:7a510d36-5831-409f-9d62-08a185df40ba\" xlink:type=\"simple\"><rect fill=\"#FFFFFF\" height=\"113.9609\" id=\"E5\" style=\"stroke: #383838; stroke-width: 1.5;\" width=\"180\" x=\"32\" y=\"202\"/><text fill=\"#000000\" font-family=\"sans-serif\" font-size=\"12\" font-style=\"italic\" lengthAdjust=\"spacingAndGlyphs\" textLength=\"64\" x=\"90\" y=\"218.1387\">«part def»</text><text fill=\"#000000\" font-family=\"sans-serif\" font-size=\"12\" lengthAdjust=\"spacingAndGlyphs\" textLength=\"77\" x=\"83.5\" y=\"232.1074\">Data Packet</text><line style=\"stroke: #383838; stroke-width: 1.5;\" x1=\"33\" x2=\"211\" y1=\"239.9375\" y2=\"239.9375\"/><text fill=\"#000000\" font-family=\"sans-serif\" font-size=\"11\" lengthAdjust=\"spacingAndGlyphs\" textLength=\"94\" x=\"38\" y=\"270.9526\">packet data field</text><text fill=\"#000000\" font-family=\"sans-serif\" font-size=\"11\" font-style=\"italic\" lengthAdjust=\"spacingAndGlyphs\" textLength=\"168\" x=\"38\" y=\"283.7573\">:&gt;&gt;Packets::packet data field</text><text fill=\"#000000\" font-family=\"sans-serif\" font-size=\"11\" lengthAdjust=\"spacingAndGlyphs\" textLength=\"129\" x=\"38\" y=\"296.562\">packet primary header</text><text fill=\"#000000\" font-family=\"sans-serif\" font-size=\"11\" font-style=\"italic\" lengthAdjust=\"spacingAndGlyphs\" textLength=\"155\" x=\"38\" y=\"309.3667\">:&gt;&gt;Packets::packet header</text><line style=\"stroke: #383838; stroke-width: 1.0;\" x1=\"33\" x2=\"94.5\" y1=\"254.3398\" y2=\"254.3398\"/><text fill=\"#000000\" font-family=\"sans-serif\" font-size=\"11\" lengthAdjust=\"spacingAndGlyphs\" textLength=\"55\" x=\"94.5\" y=\"257.6479\">attributes</text><line style=\"stroke: #383838; stroke-width: 1.0;\" x1=\"149.5\" x2=\"211\" y1=\"254.3398\" y2=\"254.3398\"/></a><!--MD5=[60a26617385b1d2d0262a64233df1f8d]\n",
       "class E6--><a href=\"psysml:10023c3e-6ce6-4816-9fb9-6800bd66eb89\" target=\"_top\" title=\"psysml:10023c3e-6ce6-4816-9fb9-6800bd66eb89\" xlink:actuate=\"onRequest\" xlink:href=\"psysml:10023c3e-6ce6-4816-9fb9-6800bd66eb89\" xlink:show=\"new\" xlink:title=\"psysml:10023c3e-6ce6-4816-9fb9-6800bd66eb89\" xlink:type=\"simple\"><rect fill=\"#FFFFFF\" height=\"88.3516\" id=\"E6\" style=\"stroke: #383838; stroke-width: 1.5;\" width=\"180\" x=\"32\" y=\"47.5\"/><text fill=\"#000000\" font-family=\"sans-serif\" font-size=\"12\" font-style=\"italic\" lengthAdjust=\"spacingAndGlyphs\" textLength=\"64\" x=\"90\" y=\"63.6387\">«part def»</text><text fill=\"#000000\" font-family=\"sans-serif\" font-size=\"12\" lengthAdjust=\"spacingAndGlyphs\" textLength=\"131\" x=\"56.5\" y=\"77.6074\">Thermal Data Packet</text><line style=\"stroke: #383838; stroke-width: 1.5;\" x1=\"33\" x2=\"211\" y1=\"85.4375\" y2=\"85.4375\"/><text fill=\"#000000\" font-family=\"sans-serif\" font-size=\"11\" lengthAdjust=\"spacingAndGlyphs\" textLength=\"94\" x=\"38\" y=\"116.4526\">packet data field</text><text fill=\"#000000\" font-family=\"sans-serif\" font-size=\"11\" font-style=\"italic\" lengthAdjust=\"spacingAndGlyphs\" textLength=\"168\" x=\"38\" y=\"129.2573\">:&gt;&gt;Packets::packet data field</text><line style=\"stroke: #383838; stroke-width: 1.0;\" x1=\"33\" x2=\"94.5\" y1=\"99.8398\" y2=\"99.8398\"/><text fill=\"#000000\" font-family=\"sans-serif\" font-size=\"11\" lengthAdjust=\"spacingAndGlyphs\" textLength=\"55\" x=\"94.5\" y=\"103.1479\">attributes</text><line style=\"stroke: #383838; stroke-width: 1.0;\" x1=\"149.5\" x2=\"211\" y1=\"99.8398\" y2=\"99.8398\"/></a><!--MD5=[25b190c987b1e74e5126d372c5a73af1]\n",
       "link E6 to E5--><a href=\"psysml:8c509f82-013b-4383-9ee5-07fa63a1b780\" target=\"_top\" title=\"psysml:8c509f82-013b-4383-9ee5-07fa63a1b780\" xlink:actuate=\"onRequest\" xlink:href=\"psysml:8c509f82-013b-4383-9ee5-07fa63a1b780\" xlink:show=\"new\" xlink:title=\"psysml:8c509f82-013b-4383-9ee5-07fa63a1b780\" xlink:type=\"simple\"><path d=\"M122,135.55 C122,149.68 122,165.84 122,181.67 \" fill=\"none\" id=\"E6-&gt;E5\" style=\"stroke: #383838; stroke-width: 1.0;\"/><polygon fill=\"none\" points=\"129,181.75,122,201.75,115,181.75,129,181.75\" style=\"stroke: #383838; stroke-width: 1.0;\"/></a><!--MD5=[bc1841cce7f349154bb3777dc556cd4b]\n",
       "@startuml\r\n",
       "skinparam linetype polyline\r\n",
       "skinparam monochrome true\r\n",
       "skinparam classbackgroundcolor white\r\n",
       "skinparam shadowing false\r\n",
       "skinparam wrapWidth 300\r\n",
       "hide circle\r\n",
       "\r\n",
       "package \"Packets\" as E1  [[psysml:781596e5-2fdd-47e5-84a9-0e1e2d017791 ]]  {\r\n",
       "comp def \"DateTime\" as E2  <<(T,blue)attribute def>> [[psysml:09967ea5-e8af-470d-92d0-5553b1044725 ]] {\r\n",
       "}\r\n",
       "comp usage \"packet header\" as E3  <<(T,blue)attribute>> [[psysml:16b22f80-f2ca-4440-a25c-8e72c7cab96e ]] {\r\n",
       "}\r\n",
       "comp usage \"packet data field\" as E4  <<(T,blue)attribute>> [[psysml:7e904c0e-d2a4-45ad-bef1-7051678b2240 ]] {\r\n",
       "- - attributes - -\r\n",
       "packet secondary header\\n//:>>Packets::packet header// \r\n",
       "user data field\r\n",
       "}\r\n",
       "comp def \"Data Packet\" as E5  <<(T,blue)part def>> [[psysml:7a510d36-5831-409f-9d62-08a185df40ba ]] {\r\n",
       "- - attributes - -\r\n",
       "packet data field\\n//:>>Packets::packet data field// \r\n",
       "packet primary header\\n//:>>Packets::packet header// \r\n",
       "}\r\n",
       "comp def \"Thermal Data Packet\" as E6  <<(T,blue)part def>> [[psysml:10023c3e-6ce6-4816-9fb9-6800bd66eb89 ]] {\r\n",
       "- - attributes - -\r\n",
       "packet data field\\n//:>>Packets::packet data field// \r\n",
       "}\r\n",
       "E6 - -|> E5 [[psysml:8c509f82-013b-4383-9ee5-07fa63a1b780 ]] \r\n",
       "}\r\n",
       "@enduml\r\n",
       "\n",
       "PlantUML version 1.2020.13(Sat Jun 13 12:26:38 UTC 2020)\n",
       "(EPL source distribution)\n",
       "Java Runtime: OpenJDK Runtime Environment\n",
       "JVM: OpenJDK 64-Bit Server VM\n",
       "Default Encoding: UTF-8\n",
       "Language: en\n",
       "Country: null\n",
       "--></g></svg>"
      ]
     },
     "execution_count": 9,
     "metadata": {},
     "output_type": "execute_result"
    }
   ],
   "source": [
    "%viz --style=\"POLYLINE\" --view=\"Default\" \"Packets\""
   ]
  },
  {
   "cell_type": "code",
   "execution_count": 10,
   "id": "bef52540",
   "metadata": {
    "execution": {
     "iopub.execute_input": "2021-04-20T07:33:52.447238Z",
     "iopub.status.busy": "2021-04-20T07:33:52.446421Z",
     "iopub.status.idle": "2021-04-20T07:33:52.663714Z",
     "shell.execute_reply": "2021-04-20T07:33:52.663349Z"
    }
   },
   "outputs": [
    {
     "data": {
      "image/svg+xml": [
       "<?xml version=\"1.0\" encoding=\"UTF-8\" standalone=\"no\"?><svg xmlns=\"http://www.w3.org/2000/svg\" xmlns:xlink=\"http://www.w3.org/1999/xlink\" contentScriptType=\"application/ecmascript\" contentStyleType=\"text/css\" height=\"344px\" preserveAspectRatio=\"none\" style=\"width:716px;height:344px;\" version=\"1.1\" viewBox=\"0 0 716 344\" width=\"716px\" zoomAndPan=\"magnify\"><defs/><g><!--MD5=[fbc87193dbaf4d95561dea2c320d4a47]\n",
       "cluster E1--><a href=\"psysml:781596e5-2fdd-47e5-84a9-0e1e2d017791\" target=\"_top\" title=\"psysml:781596e5-2fdd-47e5-84a9-0e1e2d017791\" xlink:actuate=\"onRequest\" xlink:href=\"psysml:781596e5-2fdd-47e5-84a9-0e1e2d017791\" xlink:show=\"new\" xlink:title=\"psysml:781596e5-2fdd-47e5-84a9-0e1e2d017791\" xlink:type=\"simple\"><polygon fill=\"#FFFFFF\" points=\"16,6,84,6,91,28.2969,694,28.2969,694,332,16,332,16,6\" style=\"stroke: #000000; stroke-width: 1.5;\"/><line style=\"stroke: #000000; stroke-width: 1.5;\" x1=\"16\" x2=\"91\" y1=\"28.2969\" y2=\"28.2969\"/><text fill=\"#000000\" font-family=\"sans-serif\" font-size=\"14\" font-weight=\"bold\" lengthAdjust=\"spacingAndGlyphs\" textLength=\"62\" x=\"20\" y=\"20.9951\">Packets</text></a><!--MD5=[b4997ac47864f28c2f74865a473b2911]\n",
       "class E2--><a href=\"psysml:09967ea5-e8af-470d-92d0-5553b1044725\" target=\"_top\" title=\"psysml:09967ea5-e8af-470d-92d0-5553b1044725\" xlink:actuate=\"onRequest\" xlink:href=\"psysml:09967ea5-e8af-470d-92d0-5553b1044725\" xlink:show=\"new\" xlink:title=\"psysml:09967ea5-e8af-470d-92d0-5553b1044725\" xlink:type=\"simple\"><rect fill=\"#FFFFFF\" height=\"45.9375\" id=\"E2\" style=\"stroke: #383838; stroke-width: 1.5;\" width=\"95\" x=\"582.5\" y=\"68.5\"/><text fill=\"#000000\" font-family=\"sans-serif\" font-size=\"12\" font-style=\"italic\" lengthAdjust=\"spacingAndGlyphs\" textLength=\"93\" x=\"583.5\" y=\"84.6387\">«attribute def»</text><text fill=\"#000000\" font-family=\"sans-serif\" font-size=\"12\" lengthAdjust=\"spacingAndGlyphs\" textLength=\"59\" x=\"600.5\" y=\"98.6074\">DateTime</text><line style=\"stroke: #383838; stroke-width: 1.5;\" x1=\"583.5\" x2=\"676.5\" y1=\"106.4375\" y2=\"106.4375\"/></a><!--MD5=[09b614a08d8cba4a07c9adeb5e0fee81]\n",
       "class E3--><a href=\"psysml:16b22f80-f2ca-4440-a25c-8e72c7cab96e\" target=\"_top\" title=\"psysml:16b22f80-f2ca-4440-a25c-8e72c7cab96e\" xlink:actuate=\"onRequest\" xlink:href=\"psysml:16b22f80-f2ca-4440-a25c-8e72c7cab96e\" xlink:show=\"new\" xlink:title=\"psysml:16b22f80-f2ca-4440-a25c-8e72c7cab96e\" xlink:type=\"simple\"><rect fill=\"#FFFFFF\" height=\"45.9375\" id=\"E3\" rx=\"10\" ry=\"10\" style=\"stroke: #383838; stroke-width: 1.5;\" width=\"98\" x=\"449\" y=\"68.5\"/><text fill=\"#000000\" font-family=\"sans-serif\" font-size=\"12\" font-style=\"italic\" lengthAdjust=\"spacingAndGlyphs\" textLength=\"69\" x=\"463.5\" y=\"84.6387\">«attribute»</text><text fill=\"#000000\" font-family=\"sans-serif\" font-size=\"12\" lengthAdjust=\"spacingAndGlyphs\" textLength=\"92\" x=\"452\" y=\"98.6074\">packet header</text><line style=\"stroke: #383838; stroke-width: 1.5;\" x1=\"450\" x2=\"546\" y1=\"106.4375\" y2=\"106.4375\"/></a><!--MD5=[ebbe1d658d1005bcc118a6aa81145e00]\n",
       "class E4--><a href=\"psysml:7e904c0e-d2a4-45ad-bef1-7051678b2240\" target=\"_top\" title=\"psysml:7e904c0e-d2a4-45ad-bef1-7051678b2240\" xlink:actuate=\"onRequest\" xlink:href=\"psysml:7e904c0e-d2a4-45ad-bef1-7051678b2240\" xlink:show=\"new\" xlink:title=\"psysml:7e904c0e-d2a4-45ad-bef1-7051678b2240\" xlink:type=\"simple\"><rect fill=\"#FFFFFF\" height=\"101.1563\" id=\"E4\" rx=\"10\" ry=\"10\" style=\"stroke: #383838; stroke-width: 1.5;\" width=\"167\" x=\"247.5\" y=\"41\"/><text fill=\"#000000\" font-family=\"sans-serif\" font-size=\"12\" font-style=\"italic\" lengthAdjust=\"spacingAndGlyphs\" textLength=\"69\" x=\"296.5\" y=\"57.1387\">«attribute»</text><text fill=\"#000000\" font-family=\"sans-serif\" font-size=\"12\" lengthAdjust=\"spacingAndGlyphs\" textLength=\"106\" x=\"278\" y=\"71.1074\">packet data field</text><line style=\"stroke: #383838; stroke-width: 1.5;\" x1=\"248.5\" x2=\"413.5\" y1=\"78.9375\" y2=\"78.9375\"/><text fill=\"#000000\" font-family=\"sans-serif\" font-size=\"11\" lengthAdjust=\"spacingAndGlyphs\" textLength=\"144\" x=\"253.5\" y=\"109.9526\">packet secondary header</text><text fill=\"#000000\" font-family=\"sans-serif\" font-size=\"11\" font-style=\"italic\" lengthAdjust=\"spacingAndGlyphs\" textLength=\"155\" x=\"253.5\" y=\"122.7573\">:&gt;&gt;Packets::packet header</text><text fill=\"#000000\" font-family=\"sans-serif\" font-size=\"11\" lengthAdjust=\"spacingAndGlyphs\" textLength=\"83\" x=\"253.5\" y=\"135.562\">user data field</text><line style=\"stroke: #383838; stroke-width: 1.0;\" x1=\"248.5\" x2=\"303.5\" y1=\"93.3398\" y2=\"93.3398\"/><text fill=\"#000000\" font-family=\"sans-serif\" font-size=\"11\" lengthAdjust=\"spacingAndGlyphs\" textLength=\"55\" x=\"303.5\" y=\"96.6479\">attributes</text><line style=\"stroke: #383838; stroke-width: 1.0;\" x1=\"358.5\" x2=\"413.5\" y1=\"93.3398\" y2=\"93.3398\"/></a><!--MD5=[270fce915f116d4de14055a7c1d9a0f3]\n",
       "class E5--><a href=\"psysml:7a510d36-5831-409f-9d62-08a185df40ba\" target=\"_top\" title=\"psysml:7a510d36-5831-409f-9d62-08a185df40ba\" xlink:actuate=\"onRequest\" xlink:href=\"psysml:7a510d36-5831-409f-9d62-08a185df40ba\" xlink:show=\"new\" xlink:title=\"psysml:7a510d36-5831-409f-9d62-08a185df40ba\" xlink:type=\"simple\"><rect fill=\"#FFFFFF\" height=\"113.9609\" id=\"E5\" style=\"stroke: #383838; stroke-width: 1.5;\" width=\"180\" x=\"32\" y=\"202\"/><text fill=\"#000000\" font-family=\"sans-serif\" font-size=\"12\" font-style=\"italic\" lengthAdjust=\"spacingAndGlyphs\" textLength=\"64\" x=\"90\" y=\"218.1387\">«part def»</text><text fill=\"#000000\" font-family=\"sans-serif\" font-size=\"12\" lengthAdjust=\"spacingAndGlyphs\" textLength=\"77\" x=\"83.5\" y=\"232.1074\">Data Packet</text><line style=\"stroke: #383838; stroke-width: 1.5;\" x1=\"33\" x2=\"211\" y1=\"239.9375\" y2=\"239.9375\"/><text fill=\"#000000\" font-family=\"sans-serif\" font-size=\"11\" lengthAdjust=\"spacingAndGlyphs\" textLength=\"94\" x=\"38\" y=\"270.9526\">packet data field</text><text fill=\"#000000\" font-family=\"sans-serif\" font-size=\"11\" font-style=\"italic\" lengthAdjust=\"spacingAndGlyphs\" textLength=\"168\" x=\"38\" y=\"283.7573\">:&gt;&gt;Packets::packet data field</text><text fill=\"#000000\" font-family=\"sans-serif\" font-size=\"11\" lengthAdjust=\"spacingAndGlyphs\" textLength=\"129\" x=\"38\" y=\"296.562\">packet primary header</text><text fill=\"#000000\" font-family=\"sans-serif\" font-size=\"11\" font-style=\"italic\" lengthAdjust=\"spacingAndGlyphs\" textLength=\"155\" x=\"38\" y=\"309.3667\">:&gt;&gt;Packets::packet header</text><line style=\"stroke: #383838; stroke-width: 1.0;\" x1=\"33\" x2=\"94.5\" y1=\"254.3398\" y2=\"254.3398\"/><text fill=\"#000000\" font-family=\"sans-serif\" font-size=\"11\" lengthAdjust=\"spacingAndGlyphs\" textLength=\"55\" x=\"94.5\" y=\"257.6479\">attributes</text><line style=\"stroke: #383838; stroke-width: 1.0;\" x1=\"149.5\" x2=\"211\" y1=\"254.3398\" y2=\"254.3398\"/></a><!--MD5=[60a26617385b1d2d0262a64233df1f8d]\n",
       "class E6--><a href=\"psysml:10023c3e-6ce6-4816-9fb9-6800bd66eb89\" target=\"_top\" title=\"psysml:10023c3e-6ce6-4816-9fb9-6800bd66eb89\" xlink:actuate=\"onRequest\" xlink:href=\"psysml:10023c3e-6ce6-4816-9fb9-6800bd66eb89\" xlink:show=\"new\" xlink:title=\"psysml:10023c3e-6ce6-4816-9fb9-6800bd66eb89\" xlink:type=\"simple\"><rect fill=\"#FFFFFF\" height=\"88.3516\" id=\"E6\" style=\"stroke: #383838; stroke-width: 1.5;\" width=\"180\" x=\"32\" y=\"47.5\"/><text fill=\"#000000\" font-family=\"sans-serif\" font-size=\"12\" font-style=\"italic\" lengthAdjust=\"spacingAndGlyphs\" textLength=\"64\" x=\"90\" y=\"63.6387\">«part def»</text><text fill=\"#000000\" font-family=\"sans-serif\" font-size=\"12\" lengthAdjust=\"spacingAndGlyphs\" textLength=\"131\" x=\"56.5\" y=\"77.6074\">Thermal Data Packet</text><line style=\"stroke: #383838; stroke-width: 1.5;\" x1=\"33\" x2=\"211\" y1=\"85.4375\" y2=\"85.4375\"/><text fill=\"#000000\" font-family=\"sans-serif\" font-size=\"11\" lengthAdjust=\"spacingAndGlyphs\" textLength=\"94\" x=\"38\" y=\"116.4526\">packet data field</text><text fill=\"#000000\" font-family=\"sans-serif\" font-size=\"11\" font-style=\"italic\" lengthAdjust=\"spacingAndGlyphs\" textLength=\"168\" x=\"38\" y=\"129.2573\">:&gt;&gt;Packets::packet data field</text><line style=\"stroke: #383838; stroke-width: 1.0;\" x1=\"33\" x2=\"94.5\" y1=\"99.8398\" y2=\"99.8398\"/><text fill=\"#000000\" font-family=\"sans-serif\" font-size=\"11\" lengthAdjust=\"spacingAndGlyphs\" textLength=\"55\" x=\"94.5\" y=\"103.1479\">attributes</text><line style=\"stroke: #383838; stroke-width: 1.0;\" x1=\"149.5\" x2=\"211\" y1=\"99.8398\" y2=\"99.8398\"/></a><!--MD5=[25b190c987b1e74e5126d372c5a73af1]\n",
       "link E6 to E5--><a href=\"psysml:8c509f82-013b-4383-9ee5-07fa63a1b780\" target=\"_top\" title=\"psysml:8c509f82-013b-4383-9ee5-07fa63a1b780\" xlink:actuate=\"onRequest\" xlink:href=\"psysml:8c509f82-013b-4383-9ee5-07fa63a1b780\" xlink:show=\"new\" xlink:title=\"psysml:8c509f82-013b-4383-9ee5-07fa63a1b780\" xlink:type=\"simple\"><path d=\"M122,135.55 C122,149.68 122,165.84 122,181.67 \" fill=\"none\" id=\"E6-&gt;E5\" style=\"stroke: #383838; stroke-width: 1.0;\"/><polygon fill=\"none\" points=\"129,181.75,122,201.75,115,181.75,129,181.75\" style=\"stroke: #383838; stroke-width: 1.0;\"/></a><!--MD5=[bc1841cce7f349154bb3777dc556cd4b]\n",
       "@startuml\r\n",
       "skinparam linetype polyline\r\n",
       "skinparam monochrome true\r\n",
       "skinparam classbackgroundcolor white\r\n",
       "skinparam shadowing false\r\n",
       "skinparam wrapWidth 300\r\n",
       "hide circle\r\n",
       "\r\n",
       "package \"Packets\" as E1  [[psysml:781596e5-2fdd-47e5-84a9-0e1e2d017791 ]]  {\r\n",
       "comp def \"DateTime\" as E2  <<(T,blue)attribute def>> [[psysml:09967ea5-e8af-470d-92d0-5553b1044725 ]] {\r\n",
       "}\r\n",
       "comp usage \"packet header\" as E3  <<(T,blue)attribute>> [[psysml:16b22f80-f2ca-4440-a25c-8e72c7cab96e ]] {\r\n",
       "}\r\n",
       "comp usage \"packet data field\" as E4  <<(T,blue)attribute>> [[psysml:7e904c0e-d2a4-45ad-bef1-7051678b2240 ]] {\r\n",
       "- - attributes - -\r\n",
       "packet secondary header\\n//:>>Packets::packet header// \r\n",
       "user data field\r\n",
       "}\r\n",
       "comp def \"Data Packet\" as E5  <<(T,blue)part def>> [[psysml:7a510d36-5831-409f-9d62-08a185df40ba ]] {\r\n",
       "- - attributes - -\r\n",
       "packet data field\\n//:>>Packets::packet data field// \r\n",
       "packet primary header\\n//:>>Packets::packet header// \r\n",
       "}\r\n",
       "comp def \"Thermal Data Packet\" as E6  <<(T,blue)part def>> [[psysml:10023c3e-6ce6-4816-9fb9-6800bd66eb89 ]] {\r\n",
       "- - attributes - -\r\n",
       "packet data field\\n//:>>Packets::packet data field// \r\n",
       "}\r\n",
       "E6 - -|> E5 [[psysml:8c509f82-013b-4383-9ee5-07fa63a1b780 ]] \r\n",
       "}\r\n",
       "@enduml\r\n",
       "\n",
       "PlantUML version 1.2020.13(Sat Jun 13 12:26:38 UTC 2020)\n",
       "(EPL source distribution)\n",
       "Java Runtime: OpenJDK Runtime Environment\n",
       "JVM: OpenJDK 64-Bit Server VM\n",
       "Default Encoding: UTF-8\n",
       "Language: en\n",
       "Country: null\n",
       "--></g></svg>"
      ]
     },
     "execution_count": 10,
     "metadata": {},
     "output_type": "execute_result"
    }
   ],
   "source": [
    "%viz --style=\"POLYLINE\" --view=\"Tree\" \"Packets\""
   ]
  },
  {
   "cell_type": "code",
   "execution_count": 11,
   "id": "ed7a40bb",
   "metadata": {
    "execution": {
     "iopub.execute_input": "2021-04-20T07:33:52.715569Z",
     "iopub.status.busy": "2021-04-20T07:33:52.715028Z",
     "iopub.status.idle": "2021-04-20T07:33:52.722565Z",
     "shell.execute_reply": "2021-04-20T07:33:52.722178Z"
    }
   },
   "outputs": [
    {
     "data": {
      "image/svg+xml": [
       "<?xml version=\"1.0\" encoding=\"UTF-8\" standalone=\"no\"?><svg xmlns=\"http://www.w3.org/2000/svg\" xmlns:xlink=\"http://www.w3.org/1999/xlink\" contentScriptType=\"application/ecmascript\" contentStyleType=\"text/css\" height=\"12px\" preserveAspectRatio=\"none\" style=\"width:12px;height:12px;\" version=\"1.1\" viewBox=\"0 0 12 12\" width=\"12px\" zoomAndPan=\"magnify\"><defs/><g><!--MD5=[896ac0e7a515d8dd7765a661cb4ee08b]\n",
       "@startuml\r\n",
       "skinparam linetype polyline\r\n",
       "skinparam monochrome true\r\n",
       "skinparam classbackgroundcolor white\r\n",
       "skinparam shadowing false\r\n",
       "skinparam wrapWidth 300\r\n",
       "hide circle\r\n",
       "\r\n",
       "@enduml\r\n",
       "\n",
       "PlantUML version 1.2020.13(Sat Jun 13 12:26:38 UTC 2020)\n",
       "(EPL source distribution)\n",
       "Java Runtime: OpenJDK Runtime Environment\n",
       "JVM: OpenJDK 64-Bit Server VM\n",
       "Default Encoding: UTF-8\n",
       "Language: en\n",
       "Country: null\n",
       "--></g></svg>"
      ]
     },
     "execution_count": 11,
     "metadata": {},
     "output_type": "execute_result"
    }
   ],
   "source": [
    "%viz --style=\"POLYLINE\" --view=\"State\" \"Packets\""
   ]
  },
  {
   "cell_type": "code",
   "execution_count": 12,
   "id": "d98ca46d",
   "metadata": {
    "execution": {
     "iopub.execute_input": "2021-04-20T07:33:52.773681Z",
     "iopub.status.busy": "2021-04-20T07:33:52.773200Z",
     "iopub.status.idle": "2021-04-20T07:33:53.027649Z",
     "shell.execute_reply": "2021-04-20T07:33:53.026761Z"
    }
   },
   "outputs": [
    {
     "data": {
      "image/svg+xml": [
       "<?xml version=\"1.0\" encoding=\"UTF-8\" standalone=\"no\"?><svg xmlns=\"http://www.w3.org/2000/svg\" xmlns:xlink=\"http://www.w3.org/1999/xlink\" contentScriptType=\"application/ecmascript\" contentStyleType=\"text/css\" height=\"631px\" preserveAspectRatio=\"none\" style=\"width:518px;height:631px;\" version=\"1.1\" viewBox=\"0 0 518 631\" width=\"518px\" zoomAndPan=\"magnify\"><defs/><g><!--MD5=[fbc87193dbaf4d95561dea2c320d4a47]\n",
       "cluster E1--><a href=\"psysml:781596e5-2fdd-47e5-84a9-0e1e2d017791\" target=\"_top\" title=\"psysml:781596e5-2fdd-47e5-84a9-0e1e2d017791\" xlink:actuate=\"onRequest\" xlink:href=\"psysml:781596e5-2fdd-47e5-84a9-0e1e2d017791\" xlink:show=\"new\" xlink:title=\"psysml:781596e5-2fdd-47e5-84a9-0e1e2d017791\" xlink:type=\"simple\"><polygon fill=\"#FFFFFF\" points=\"16,6,84,6,91,28.2969,496,28.2969,496,619,16,619,16,6\" style=\"stroke: #000000; stroke-width: 1.5;\"/><line style=\"stroke: #000000; stroke-width: 1.5;\" x1=\"16\" x2=\"91\" y1=\"28.2969\" y2=\"28.2969\"/><text fill=\"#000000\" font-family=\"sans-serif\" font-size=\"14\" font-weight=\"bold\" lengthAdjust=\"spacingAndGlyphs\" textLength=\"62\" x=\"20\" y=\"20.9951\">Packets</text></a><!--MD5=[de5ec2e2e8f62f467e546659f5068c88]\n",
       "cluster E5--><a href=\"psysml:7a510d36-5831-409f-9d62-08a185df40ba\" target=\"_top\" title=\"psysml:7a510d36-5831-409f-9d62-08a185df40ba\" xlink:actuate=\"onRequest\" xlink:href=\"psysml:7a510d36-5831-409f-9d62-08a185df40ba\" xlink:show=\"new\" xlink:title=\"psysml:7a510d36-5831-409f-9d62-08a185df40ba\" xlink:type=\"simple\"><rect fill=\"#FFFFFF\" height=\"184\" id=\"E5\" style=\"stroke: #383838; stroke-width: 1.5;\" width=\"406\" x=\"48\" y=\"294\"/><rect fill=\"#F8F8F8\" height=\"37.9375\" style=\"stroke: #383838; stroke-width: 1.5;\" width=\"406\" x=\"48\" y=\"294\"/><text fill=\"#000000\" font-family=\"sans-serif\" font-size=\"12\" font-style=\"italic\" lengthAdjust=\"spacingAndGlyphs\" textLength=\"64\" x=\"219\" y=\"310.1387\">«part def»</text><text fill=\"#000000\" font-family=\"sans-serif\" font-size=\"12\" lengthAdjust=\"spacingAndGlyphs\" textLength=\"77\" x=\"212.5\" y=\"324.1074\">Data Packet</text></a><!--MD5=[55dfccfc6c49c2d10cd1bd2211a6c90c]\n",
       "cluster E8--><a href=\"psysml:10023c3e-6ce6-4816-9fb9-6800bd66eb89\" target=\"_top\" title=\"psysml:10023c3e-6ce6-4816-9fb9-6800bd66eb89\" xlink:actuate=\"onRequest\" xlink:href=\"psysml:10023c3e-6ce6-4816-9fb9-6800bd66eb89\" xlink:show=\"new\" xlink:title=\"psysml:10023c3e-6ce6-4816-9fb9-6800bd66eb89\" xlink:type=\"simple\"><rect fill=\"#FFFFFF\" height=\"197\" id=\"E8\" style=\"stroke: #383838; stroke-width: 1.5;\" width=\"287\" x=\"172\" y=\"57\"/><rect fill=\"#F8F8F8\" height=\"37.9375\" style=\"stroke: #383838; stroke-width: 1.5;\" width=\"287\" x=\"172\" y=\"57\"/><text fill=\"#000000\" font-family=\"sans-serif\" font-size=\"12\" font-style=\"italic\" lengthAdjust=\"spacingAndGlyphs\" textLength=\"64\" x=\"283.5\" y=\"73.1387\">«part def»</text><text fill=\"#000000\" font-family=\"sans-serif\" font-size=\"12\" lengthAdjust=\"spacingAndGlyphs\" textLength=\"131\" x=\"250\" y=\"87.1074\">Thermal Data Packet</text></a><g id=\"E1.E2\"><a href=\"psysml:09967ea5-e8af-470d-92d0-5553b1044725\" target=\"_top\" title=\"psysml:09967ea5-e8af-470d-92d0-5553b1044725\" xlink:actuate=\"onRequest\" xlink:href=\"psysml:09967ea5-e8af-470d-92d0-5553b1044725\" xlink:show=\"new\" xlink:title=\"psysml:09967ea5-e8af-470d-92d0-5553b1044725\" xlink:type=\"simple\"><rect fill=\"#FFFFFF\" height=\"42.9375\" id=\"E2\" style=\"stroke: #383838; stroke-width: 1.5;\" width=\"100\" x=\"41\" y=\"151.5\"/><rect fill=\"#F8F8F8\" height=\"37.9375\" style=\"stroke: #383838; stroke-width: 1.5;\" width=\"100\" x=\"41\" y=\"151.5\"/><text fill=\"#000000\" font-family=\"sans-serif\" font-size=\"12\" font-style=\"italic\" lengthAdjust=\"spacingAndGlyphs\" textLength=\"93\" x=\"44.5\" y=\"167.6387\">«attribute def»</text><text fill=\"#000000\" font-family=\"sans-serif\" font-size=\"12\" lengthAdjust=\"spacingAndGlyphs\" textLength=\"59\" x=\"61.5\" y=\"181.6074\">DateTime</text></a></g><!--MD5=[09b614a08d8cba4a07c9adeb5e0fee81]\n",
       "class E3--><a href=\"psysml:16b22f80-f2ca-4440-a25c-8e72c7cab96e\" target=\"_top\" title=\"psysml:16b22f80-f2ca-4440-a25c-8e72c7cab96e\" xlink:actuate=\"onRequest\" xlink:href=\"psysml:16b22f80-f2ca-4440-a25c-8e72c7cab96e\" xlink:show=\"new\" xlink:title=\"psysml:16b22f80-f2ca-4440-a25c-8e72c7cab96e\" xlink:type=\"simple\"><rect fill=\"#FFFFFF\" height=\"45.9375\" id=\"E3\" rx=\"10\" ry=\"10\" style=\"stroke: #383838; stroke-width: 1.5;\" width=\"98\" x=\"138\" y=\"529.5\"/><text fill=\"#000000\" font-family=\"sans-serif\" font-size=\"12\" font-style=\"italic\" lengthAdjust=\"spacingAndGlyphs\" textLength=\"69\" x=\"152.5\" y=\"545.6387\">«attribute»</text><text fill=\"#000000\" font-family=\"sans-serif\" font-size=\"12\" lengthAdjust=\"spacingAndGlyphs\" textLength=\"92\" x=\"141\" y=\"559.6074\">packet header</text><line style=\"stroke: #383838; stroke-width: 1.5;\" x1=\"139\" x2=\"235\" y1=\"567.4375\" y2=\"567.4375\"/></a><!--MD5=[ebbe1d658d1005bcc118a6aa81145e00]\n",
       "class E4--><a href=\"psysml:7e904c0e-d2a4-45ad-bef1-7051678b2240\" target=\"_top\" title=\"psysml:7e904c0e-d2a4-45ad-bef1-7051678b2240\" xlink:actuate=\"onRequest\" xlink:href=\"psysml:7e904c0e-d2a4-45ad-bef1-7051678b2240\" xlink:show=\"new\" xlink:title=\"psysml:7e904c0e-d2a4-45ad-bef1-7051678b2240\" xlink:type=\"simple\"><rect fill=\"#FFFFFF\" height=\"101.1563\" id=\"E4\" rx=\"10\" ry=\"10\" style=\"stroke: #383838; stroke-width: 1.5;\" width=\"167\" x=\"301.5\" y=\"502\"/><text fill=\"#000000\" font-family=\"sans-serif\" font-size=\"12\" font-style=\"italic\" lengthAdjust=\"spacingAndGlyphs\" textLength=\"69\" x=\"350.5\" y=\"518.1387\">«attribute»</text><text fill=\"#000000\" font-family=\"sans-serif\" font-size=\"12\" lengthAdjust=\"spacingAndGlyphs\" textLength=\"106\" x=\"332\" y=\"532.1074\">packet data field</text><line style=\"stroke: #383838; stroke-width: 1.5;\" x1=\"302.5\" x2=\"467.5\" y1=\"539.9375\" y2=\"539.9375\"/><text fill=\"#000000\" font-family=\"sans-serif\" font-size=\"11\" lengthAdjust=\"spacingAndGlyphs\" textLength=\"144\" x=\"307.5\" y=\"570.9526\">packet secondary header</text><text fill=\"#000000\" font-family=\"sans-serif\" font-size=\"11\" font-style=\"italic\" lengthAdjust=\"spacingAndGlyphs\" textLength=\"155\" x=\"307.5\" y=\"583.7573\">:&gt;&gt;Packets::packet header</text><text fill=\"#000000\" font-family=\"sans-serif\" font-size=\"11\" lengthAdjust=\"spacingAndGlyphs\" textLength=\"83\" x=\"307.5\" y=\"596.562\">user data field</text><line style=\"stroke: #383838; stroke-width: 1.0;\" x1=\"302.5\" x2=\"357.5\" y1=\"554.3398\" y2=\"554.3398\"/><text fill=\"#000000\" font-family=\"sans-serif\" font-size=\"11\" lengthAdjust=\"spacingAndGlyphs\" textLength=\"55\" x=\"357.5\" y=\"557.6479\">attributes</text><line style=\"stroke: #383838; stroke-width: 1.0;\" x1=\"412.5\" x2=\"467.5\" y1=\"554.3398\" y2=\"554.3398\"/></a><!--MD5=[60a26617385b1d2d0262a64233df1f8d]\n",
       "class E6--><a href=\"psysml:8bac5b56-bd53-4c22-88f8-0cbcb8384e0b\" target=\"_top\" title=\"psysml:8bac5b56-bd53-4c22-88f8-0cbcb8384e0b\" xlink:actuate=\"onRequest\" xlink:href=\"psysml:8bac5b56-bd53-4c22-88f8-0cbcb8384e0b\" xlink:show=\"new\" xlink:title=\"psysml:8bac5b56-bd53-4c22-88f8-0cbcb8384e0b\" xlink:type=\"simple\"><rect fill=\"#FFFFFF\" height=\"101.1563\" id=\"E6\" rx=\"10\" ry=\"10\" style=\"stroke: #383838; stroke-width: 1.5;\" width=\"191\" x=\"91.5\" y=\"353\"/><text fill=\"#000000\" font-family=\"sans-serif\" font-size=\"12\" font-style=\"italic\" lengthAdjust=\"spacingAndGlyphs\" textLength=\"69\" x=\"152.5\" y=\"369.1387\">«attribute»</text><text fill=\"#000000\" font-family=\"sans-serif\" font-size=\"12\" lengthAdjust=\"spacingAndGlyphs\" textLength=\"142\" x=\"116\" y=\"383.1074\">packet primary header</text><line style=\"stroke: #383838; stroke-width: 1.5;\" x1=\"92.5\" x2=\"281.5\" y1=\"390.9375\" y2=\"390.9375\"/><text fill=\"#000000\" font-family=\"sans-serif\" font-size=\"11\" lengthAdjust=\"spacingAndGlyphs\" textLength=\"153\" x=\"97.5\" y=\"421.9526\">packet data length: Integer</text><text fill=\"#000000\" font-family=\"sans-serif\" font-size=\"11\" lengthAdjust=\"spacingAndGlyphs\" textLength=\"155\" x=\"97.5\" y=\"434.7573\">packet identification: String</text><text fill=\"#000000\" font-family=\"sans-serif\" font-size=\"11\" lengthAdjust=\"spacingAndGlyphs\" textLength=\"179\" x=\"97.5\" y=\"447.562\">packet version number: Integer</text><line style=\"stroke: #383838; stroke-width: 1.0;\" x1=\"92.5\" x2=\"159.5\" y1=\"405.3398\" y2=\"405.3398\"/><text fill=\"#000000\" font-family=\"sans-serif\" font-size=\"11\" lengthAdjust=\"spacingAndGlyphs\" textLength=\"55\" x=\"159.5\" y=\"408.6479\">attributes</text><line style=\"stroke: #383838; stroke-width: 1.0;\" x1=\"214.5\" x2=\"281.5\" y1=\"405.3398\" y2=\"405.3398\"/></a><!--MD5=[2156ba9850f5573cc1fc38a6a4b2f02b]\n",
       "class E7--><a href=\"psysml:e649f067-3966-42a9-912a-f470df4c2484\" target=\"_top\" title=\"psysml:e649f067-3966-42a9-912a-f470df4c2484\" xlink:actuate=\"onRequest\" xlink:href=\"psysml:e649f067-3966-42a9-912a-f470df4c2484\" xlink:show=\"new\" xlink:title=\"psysml:e649f067-3966-42a9-912a-f470df4c2484\" xlink:type=\"simple\"><rect fill=\"#FFFFFF\" height=\"45.9375\" id=\"E7\" rx=\"10\" ry=\"10\" style=\"stroke: #383838; stroke-width: 1.5;\" width=\"112\" x=\"318\" y=\"380.5\"/><text fill=\"#000000\" font-family=\"sans-serif\" font-size=\"12\" font-style=\"italic\" lengthAdjust=\"spacingAndGlyphs\" textLength=\"69\" x=\"339.5\" y=\"396.6387\">«attribute»</text><text fill=\"#000000\" font-family=\"sans-serif\" font-size=\"12\" lengthAdjust=\"spacingAndGlyphs\" textLength=\"106\" x=\"321\" y=\"410.6074\">packet data field</text><line style=\"stroke: #383838; stroke-width: 1.5;\" x1=\"319\" x2=\"429\" y1=\"418.4375\" y2=\"418.4375\"/></a><!--MD5=[fd4143e9d270a159db93a4ea2a975926]\n",
       "class E9--><a href=\"psysml:9d2256ff-aa99-47f6-ab60-2a2dbee9749e\" target=\"_top\" title=\"psysml:9d2256ff-aa99-47f6-ab60-2a2dbee9749e\" xlink:actuate=\"onRequest\" xlink:href=\"psysml:9d2256ff-aa99-47f6-ab60-2a2dbee9749e\" xlink:show=\"new\" xlink:title=\"psysml:9d2256ff-aa99-47f6-ab60-2a2dbee9749e\" xlink:type=\"simple\"><rect fill=\"#FFFFFF\" height=\"113.9609\" id=\"E9\" rx=\"10\" ry=\"10\" style=\"stroke: #383838; stroke-width: 1.5;\" width=\"219\" x=\"215.5\" y=\"116\"/><text fill=\"#000000\" font-family=\"sans-serif\" font-size=\"12\" font-style=\"italic\" lengthAdjust=\"spacingAndGlyphs\" textLength=\"69\" x=\"290.5\" y=\"132.1387\">«attribute»</text><text fill=\"#000000\" font-family=\"sans-serif\" font-size=\"12\" lengthAdjust=\"spacingAndGlyphs\" textLength=\"106\" x=\"272\" y=\"146.1074\">packet data field</text><line style=\"stroke: #383838; stroke-width: 1.5;\" x1=\"216.5\" x2=\"433.5\" y1=\"153.9375\" y2=\"153.9375\"/><text fill=\"#000000\" font-family=\"sans-serif\" font-size=\"11\" lengthAdjust=\"spacingAndGlyphs\" textLength=\"144\" x=\"221.5\" y=\"184.9526\">packet secondary header</text><text fill=\"#000000\" font-family=\"sans-serif\" font-size=\"11\" font-style=\"italic\" lengthAdjust=\"spacingAndGlyphs\" textLength=\"155\" x=\"221.5\" y=\"197.7573\">:&gt;&gt;Packets::packet header</text><text fill=\"#000000\" font-family=\"sans-serif\" font-size=\"11\" lengthAdjust=\"spacingAndGlyphs\" textLength=\"83\" x=\"221.5\" y=\"210.562\">user data field</text><text fill=\"#000000\" font-family=\"sans-serif\" font-size=\"11\" font-style=\"italic\" lengthAdjust=\"spacingAndGlyphs\" textLength=\"207\" x=\"221.5\" y=\"223.3667\">:&gt;&gt;packet data field::user data field</text><line style=\"stroke: #383838; stroke-width: 1.0;\" x1=\"216.5\" x2=\"297.5\" y1=\"168.3398\" y2=\"168.3398\"/><text fill=\"#000000\" font-family=\"sans-serif\" font-size=\"11\" lengthAdjust=\"spacingAndGlyphs\" textLength=\"55\" x=\"297.5\" y=\"171.6479\">attributes</text><line style=\"stroke: #383838; stroke-width: 1.0;\" x1=\"352.5\" x2=\"433.5\" y1=\"168.3398\" y2=\"168.3398\"/></a><!--MD5=[a717450b82c80b9240a525fa862496af]\n",
       "link E6 to E3--><a href=\"psysml:6aaaf2f4-4b2b-4d4a-ac54-83bc6d358576\" target=\"_top\" title=\"psysml:6aaaf2f4-4b2b-4d4a-ac54-83bc6d358576\" xlink:actuate=\"onRequest\" xlink:href=\"psysml:6aaaf2f4-4b2b-4d4a-ac54-83bc6d358576\" xlink:show=\"new\" xlink:title=\"psysml:6aaaf2f4-4b2b-4d4a-ac54-83bc6d358576\" xlink:type=\"simple\"><path d=\"M187,454.27 C187,472.09 187,492 187,509.13 \" fill=\"none\" id=\"E6-&gt;E3\" style=\"stroke: #383838; stroke-width: 1.0;\"/><polygon fill=\"#FFFFFF\" points=\"187,529.32,180,510.32,194,510.32,187,529.32\" style=\"stroke: #383838; stroke-width: 1.0;\"/><line style=\"stroke: #383838; stroke-width: 2.0;\" x1=\"180\" x2=\"194\" y1=\"506.52\" y2=\"506.52\"/></a><!--MD5=[6bdd27f9905911a7e892a3dc65cf6b7c]\n",
       "link E7 to E4--><a href=\"psysml:895bc16e-261f-455c-84ef-7cbef2b79206\" target=\"_top\" title=\"psysml:895bc16e-261f-455c-84ef-7cbef2b79206\" xlink:actuate=\"onRequest\" xlink:href=\"psysml:895bc16e-261f-455c-84ef-7cbef2b79206\" xlink:show=\"new\" xlink:title=\"psysml:895bc16e-261f-455c-84ef-7cbef2b79206\" xlink:type=\"simple\"><path d=\"M375.65,426.51 C376.76,441.33 378.28,461.76 379.79,481.81 \" fill=\"none\" id=\"E7-&gt;E4\" style=\"stroke: #383838; stroke-width: 1.0;\"/><polygon fill=\"#FFFFFF\" points=\"381.29,501.92,372.8847,483.4985,386.8452,482.4485,381.29,501.92\" style=\"stroke: #383838; stroke-width: 1.0;\"/><line style=\"stroke: #383838; stroke-width: 2.0;\" x1=\"372.5996\" x2=\"386.5602\" y1=\"479.7092\" y2=\"478.6592\"/></a><!--MD5=[1ccb2481ffa92f8d51a74ee30c51832a]\n",
       "link E8 to E5--><a href=\"psysml:8c509f82-013b-4383-9ee5-07fa63a1b780\" target=\"_top\" title=\"psysml:8c509f82-013b-4383-9ee5-07fa63a1b780\" xlink:actuate=\"onRequest\" xlink:href=\"psysml:8c509f82-013b-4383-9ee5-07fa63a1b780\" xlink:show=\"new\" xlink:title=\"psysml:8c509f82-013b-4383-9ee5-07fa63a1b780\" xlink:type=\"simple\"><path d=\"M176.6603,254.1683 C176.6545,254.3095 176.6486,254.45 176.6428,254.5898 C176.6311,254.8694 176.6196,255.1462 176.6081,255.4202 C176.2425,264.1863 176,270 176,270 C176,270 75,278 75,278 C75,278 74.7123,279.885 74.2078,283.1911 C73.9555,284.8442 73.6491,286.8525 73.2972,289.1581 C73.1213,290.3109 72.934,291.5381 72.7365,292.8323 C72.6871,293.1558 72.6371,293.4836 72.5865,293.8154 \" fill=\"none\" id=\"E8-&gt;E5\" style=\"stroke: #383838; stroke-width: 1.0;\"/><polygon fill=\"#FFFFFF\" points=\"72.5865,293.8154,82.3727,276.0889,68.533,273.9768,72.5865,293.8154\" style=\"stroke: #383838; stroke-width: 1.0;\"/></a><!--MD5=[c2be97adba6ddfe1c8f349fab141c927]\n",
       "link E9 to E4--><a href=\"psysml:a0ec1df7-1b05-4d8f-b92a-b996d3ea1089\" target=\"_top\" title=\"psysml:a0ec1df7-1b05-4d8f-b92a-b996d3ea1089\" xlink:actuate=\"onRequest\" xlink:href=\"psysml:a0ec1df7-1b05-4d8f-b92a-b996d3ea1089\" xlink:show=\"new\" xlink:title=\"psysml:a0ec1df7-1b05-4d8f-b92a-b996d3ea1089\" xlink:type=\"simple\"><path d=\"M390.46,230.26 C418.97,254.77 446,278 446,278 C446,278 446,426.83 441.15,481.98 \" fill=\"none\" id=\"E9-&gt;E4\" style=\"stroke: #383838; stroke-width: 1.0;\"/><polygon fill=\"#FFFFFF\" points=\"437.52,502,434.0241,482.0556,447.7992,484.5547,437.52,502\" style=\"stroke: #383838; stroke-width: 1.0;\"/><line style=\"stroke: #383838; stroke-width: 2.0;\" x1=\"434.7024\" x2=\"448.4776\" y1=\"478.3166\" y2=\"480.8158\"/></a><!--MD5=[3a19a0c22693ef16c79c7c3f01448fe2]\n",
       "@startuml\r\n",
       "skinparam ranksep 10\r\n",
       "skinparam rectangle {\r\n",
       " backgroundColor<<block>> LightGreen\r\n",
       "}\r\n",
       "skinparam linetype polyline\r\n",
       "skinparam monochrome true\r\n",
       "skinparam classbackgroundcolor white\r\n",
       "skinparam shadowing false\r\n",
       "skinparam wrapWidth 300\r\n",
       "hide circle\r\n",
       "\r\n",
       "package \"Packets\" as E1  [[psysml:781596e5-2fdd-47e5-84a9-0e1e2d017791 ]]  {\r\n",
       "def \"DateTime\" as E2  <<(T,blue)attribute def>> [[psysml:09967ea5-e8af-470d-92d0-5553b1044725 ]] \r\n",
       "comp usage \"packet header\" as E3  <<(T,blue)attribute>> [[psysml:16b22f80-f2ca-4440-a25c-8e72c7cab96e ]] {\r\n",
       "}\r\n",
       "comp usage \"packet data field\" as E4  <<(T,blue)attribute>> [[psysml:7e904c0e-d2a4-45ad-bef1-7051678b2240 ]] {\r\n",
       "- - attributes - -\r\n",
       "packet secondary header\\n//:>>Packets::packet header// \r\n",
       "user data field\r\n",
       "}\r\n",
       "rec def \"Data Packet\" as E5  <<(T,blue)part def>> [[psysml:7a510d36-5831-409f-9d62-08a185df40ba ]] {\r\n",
       "comp usage \"packet primary header\" as E6  <<(T,blue)attribute>> [[psysml:8bac5b56-bd53-4c22-88f8-0cbcb8384e0b ]] {\r\n",
       "- - attributes - -\r\n",
       "packet data length: Integer\r\n",
       "packet identification: String\r\n",
       "packet version number: Integer\r\n",
       "}\r\n",
       "comp usage \"packet data field\" as E7  <<(T,blue)attribute>> [[psysml:e649f067-3966-42a9-912a-f470df4c2484 ]] {\r\n",
       "}\r\n",
       "}\r\n",
       "rec def \"Thermal Data Packet\" as E8  <<(T,blue)part def>> [[psysml:10023c3e-6ce6-4816-9fb9-6800bd66eb89 ]] {\r\n",
       "comp usage \"packet data field\" as E9  <<(T,blue)attribute>> [[psysml:9d2256ff-aa99-47f6-ab60-2a2dbee9749e ]] {\r\n",
       "- - attributes - -\r\n",
       "packet secondary header\\n//:>>Packets::packet header// \r\n",
       "user data field\\n//:>>packet data field::user data field// \r\n",
       "}\r\n",
       "}\r\n",
       "E6 - -||> E3 [[psysml:6aaaf2f4-4b2b-4d4a-ac54-83bc6d358576 ]] \r\n",
       "E7 - -||> E4 [[psysml:895bc16e-261f-455c-84ef-7cbef2b79206 ]] \r\n",
       "E8 - -|> E5 [[psysml:8c509f82-013b-4383-9ee5-07fa63a1b780 ]] \r\n",
       "E9 - -||> E4 [[psysml:a0ec1df7-1b05-4d8f-b92a-b996d3ea1089 ]] \r\n",
       "}\r\n",
       "@enduml\r\n",
       "\n",
       "PlantUML version 1.2020.13(Sat Jun 13 12:26:38 UTC 2020)\n",
       "(EPL source distribution)\n",
       "Java Runtime: OpenJDK Runtime Environment\n",
       "JVM: OpenJDK 64-Bit Server VM\n",
       "Default Encoding: UTF-8\n",
       "Language: en\n",
       "Country: null\n",
       "--></g></svg>"
      ]
     },
     "execution_count": 12,
     "metadata": {},
     "output_type": "execute_result"
    }
   ],
   "source": [
    "%viz --style=\"POLYLINE\" --view=\"Interconnection\" \"Packets\""
   ]
  },
  {
   "cell_type": "code",
   "execution_count": 13,
   "id": "c68ff0c9",
   "metadata": {
    "execution": {
     "iopub.execute_input": "2021-04-20T07:33:53.077941Z",
     "iopub.status.busy": "2021-04-20T07:33:53.077330Z",
     "iopub.status.idle": "2021-04-20T07:33:53.083713Z",
     "shell.execute_reply": "2021-04-20T07:33:53.084649Z"
    }
   },
   "outputs": [
    {
     "data": {
      "image/svg+xml": [
       "<?xml version=\"1.0\" encoding=\"UTF-8\" standalone=\"no\"?><svg xmlns=\"http://www.w3.org/2000/svg\" xmlns:xlink=\"http://www.w3.org/1999/xlink\" contentScriptType=\"application/ecmascript\" contentStyleType=\"text/css\" height=\"12px\" preserveAspectRatio=\"none\" style=\"width:12px;height:12px;\" version=\"1.1\" viewBox=\"0 0 12 12\" width=\"12px\" zoomAndPan=\"magnify\"><defs/><g><!--MD5=[97bbf32f66ccd50cbc40d92ea8f5a65e]\n",
       "@startuml\r\n",
       "skinparam ranksep 8\r\n",
       "skinparam linetype polyline\r\n",
       "skinparam monochrome true\r\n",
       "skinparam classbackgroundcolor white\r\n",
       "skinparam shadowing false\r\n",
       "skinparam wrapWidth 300\r\n",
       "hide circle\r\n",
       "\r\n",
       "@enduml\r\n",
       "\n",
       "PlantUML version 1.2020.13(Sat Jun 13 12:26:38 UTC 2020)\n",
       "(EPL source distribution)\n",
       "Java Runtime: OpenJDK Runtime Environment\n",
       "JVM: OpenJDK 64-Bit Server VM\n",
       "Default Encoding: UTF-8\n",
       "Language: en\n",
       "Country: null\n",
       "--></g></svg>"
      ]
     },
     "execution_count": 13,
     "metadata": {},
     "output_type": "execute_result"
    }
   ],
   "source": [
    "%viz --style=\"POLYLINE\" --view=\"Action\" \"Packets\""
   ]
  },
  {
   "cell_type": "code",
   "execution_count": 14,
   "id": "5561fc1a",
   "metadata": {
    "execution": {
     "iopub.execute_input": "2021-04-20T07:33:53.136483Z",
     "iopub.status.busy": "2021-04-20T07:33:53.135255Z",
     "iopub.status.idle": "2021-04-20T07:33:53.320508Z",
     "shell.execute_reply": "2021-04-20T07:33:53.318797Z"
    }
   },
   "outputs": [
    {
     "data": {
      "image/svg+xml": [
       "<?xml version=\"1.0\" encoding=\"UTF-8\" standalone=\"no\"?><svg xmlns=\"http://www.w3.org/2000/svg\" xmlns:xlink=\"http://www.w3.org/1999/xlink\" contentScriptType=\"application/ecmascript\" contentStyleType=\"text/css\" height=\"344px\" preserveAspectRatio=\"none\" style=\"width:716px;height:344px;\" version=\"1.1\" viewBox=\"0 0 716 344\" width=\"716px\" zoomAndPan=\"magnify\"><defs/><g><!--MD5=[fbc87193dbaf4d95561dea2c320d4a47]\n",
       "cluster E1--><a href=\"psysml:781596e5-2fdd-47e5-84a9-0e1e2d017791\" target=\"_top\" title=\"psysml:781596e5-2fdd-47e5-84a9-0e1e2d017791\" xlink:actuate=\"onRequest\" xlink:href=\"psysml:781596e5-2fdd-47e5-84a9-0e1e2d017791\" xlink:show=\"new\" xlink:title=\"psysml:781596e5-2fdd-47e5-84a9-0e1e2d017791\" xlink:type=\"simple\"><polygon fill=\"#FFFFFF\" points=\"16,6,84,6,91,28.2969,694,28.2969,694,332,16,332,16,6\" style=\"stroke: #000000; stroke-width: 1.5;\"/><line style=\"stroke: #000000; stroke-width: 1.5;\" x1=\"16\" x2=\"91\" y1=\"28.2969\" y2=\"28.2969\"/><text fill=\"#000000\" font-family=\"sans-serif\" font-size=\"14\" font-weight=\"bold\" lengthAdjust=\"spacingAndGlyphs\" textLength=\"62\" x=\"20\" y=\"20.9951\">Packets</text></a><!--MD5=[b4997ac47864f28c2f74865a473b2911]\n",
       "class E2--><a href=\"psysml:09967ea5-e8af-470d-92d0-5553b1044725\" target=\"_top\" title=\"psysml:09967ea5-e8af-470d-92d0-5553b1044725\" xlink:actuate=\"onRequest\" xlink:href=\"psysml:09967ea5-e8af-470d-92d0-5553b1044725\" xlink:show=\"new\" xlink:title=\"psysml:09967ea5-e8af-470d-92d0-5553b1044725\" xlink:type=\"simple\"><rect fill=\"#FFFFFF\" height=\"45.9375\" id=\"E2\" style=\"stroke: #383838; stroke-width: 1.5;\" width=\"95\" x=\"582.5\" y=\"68.5\"/><text fill=\"#000000\" font-family=\"sans-serif\" font-size=\"12\" font-style=\"italic\" lengthAdjust=\"spacingAndGlyphs\" textLength=\"93\" x=\"583.5\" y=\"84.6387\">«attribute def»</text><text fill=\"#000000\" font-family=\"sans-serif\" font-size=\"12\" lengthAdjust=\"spacingAndGlyphs\" textLength=\"59\" x=\"600.5\" y=\"98.6074\">DateTime</text><line style=\"stroke: #383838; stroke-width: 1.5;\" x1=\"583.5\" x2=\"676.5\" y1=\"106.4375\" y2=\"106.4375\"/></a><!--MD5=[09b614a08d8cba4a07c9adeb5e0fee81]\n",
       "class E3--><a href=\"psysml:16b22f80-f2ca-4440-a25c-8e72c7cab96e\" target=\"_top\" title=\"psysml:16b22f80-f2ca-4440-a25c-8e72c7cab96e\" xlink:actuate=\"onRequest\" xlink:href=\"psysml:16b22f80-f2ca-4440-a25c-8e72c7cab96e\" xlink:show=\"new\" xlink:title=\"psysml:16b22f80-f2ca-4440-a25c-8e72c7cab96e\" xlink:type=\"simple\"><rect fill=\"#FFFFFF\" height=\"45.9375\" id=\"E3\" rx=\"10\" ry=\"10\" style=\"stroke: #383838; stroke-width: 1.5;\" width=\"98\" x=\"449\" y=\"68.5\"/><text fill=\"#000000\" font-family=\"sans-serif\" font-size=\"12\" font-style=\"italic\" lengthAdjust=\"spacingAndGlyphs\" textLength=\"69\" x=\"463.5\" y=\"84.6387\">«attribute»</text><text fill=\"#000000\" font-family=\"sans-serif\" font-size=\"12\" lengthAdjust=\"spacingAndGlyphs\" textLength=\"92\" x=\"452\" y=\"98.6074\">packet header</text><line style=\"stroke: #383838; stroke-width: 1.5;\" x1=\"450\" x2=\"546\" y1=\"106.4375\" y2=\"106.4375\"/></a><!--MD5=[ebbe1d658d1005bcc118a6aa81145e00]\n",
       "class E4--><a href=\"psysml:7e904c0e-d2a4-45ad-bef1-7051678b2240\" target=\"_top\" title=\"psysml:7e904c0e-d2a4-45ad-bef1-7051678b2240\" xlink:actuate=\"onRequest\" xlink:href=\"psysml:7e904c0e-d2a4-45ad-bef1-7051678b2240\" xlink:show=\"new\" xlink:title=\"psysml:7e904c0e-d2a4-45ad-bef1-7051678b2240\" xlink:type=\"simple\"><rect fill=\"#FFFFFF\" height=\"101.1563\" id=\"E4\" rx=\"10\" ry=\"10\" style=\"stroke: #383838; stroke-width: 1.5;\" width=\"167\" x=\"247.5\" y=\"41\"/><text fill=\"#000000\" font-family=\"sans-serif\" font-size=\"12\" font-style=\"italic\" lengthAdjust=\"spacingAndGlyphs\" textLength=\"69\" x=\"296.5\" y=\"57.1387\">«attribute»</text><text fill=\"#000000\" font-family=\"sans-serif\" font-size=\"12\" lengthAdjust=\"spacingAndGlyphs\" textLength=\"106\" x=\"278\" y=\"71.1074\">packet data field</text><line style=\"stroke: #383838; stroke-width: 1.5;\" x1=\"248.5\" x2=\"413.5\" y1=\"78.9375\" y2=\"78.9375\"/><text fill=\"#000000\" font-family=\"sans-serif\" font-size=\"11\" lengthAdjust=\"spacingAndGlyphs\" textLength=\"144\" x=\"253.5\" y=\"109.9526\">packet secondary header</text><text fill=\"#000000\" font-family=\"sans-serif\" font-size=\"11\" font-style=\"italic\" lengthAdjust=\"spacingAndGlyphs\" textLength=\"155\" x=\"253.5\" y=\"122.7573\">:&gt;&gt;Packets::packet header</text><text fill=\"#000000\" font-family=\"sans-serif\" font-size=\"11\" lengthAdjust=\"spacingAndGlyphs\" textLength=\"83\" x=\"253.5\" y=\"135.562\">user data field</text><line style=\"stroke: #383838; stroke-width: 1.0;\" x1=\"248.5\" x2=\"303.5\" y1=\"93.3398\" y2=\"93.3398\"/><text fill=\"#000000\" font-family=\"sans-serif\" font-size=\"11\" lengthAdjust=\"spacingAndGlyphs\" textLength=\"55\" x=\"303.5\" y=\"96.6479\">attributes</text><line style=\"stroke: #383838; stroke-width: 1.0;\" x1=\"358.5\" x2=\"413.5\" y1=\"93.3398\" y2=\"93.3398\"/></a><!--MD5=[270fce915f116d4de14055a7c1d9a0f3]\n",
       "class E5--><a href=\"psysml:7a510d36-5831-409f-9d62-08a185df40ba\" target=\"_top\" title=\"psysml:7a510d36-5831-409f-9d62-08a185df40ba\" xlink:actuate=\"onRequest\" xlink:href=\"psysml:7a510d36-5831-409f-9d62-08a185df40ba\" xlink:show=\"new\" xlink:title=\"psysml:7a510d36-5831-409f-9d62-08a185df40ba\" xlink:type=\"simple\"><rect fill=\"#FFFFFF\" height=\"113.9609\" id=\"E5\" style=\"stroke: #383838; stroke-width: 1.5;\" width=\"180\" x=\"32\" y=\"202\"/><text fill=\"#000000\" font-family=\"sans-serif\" font-size=\"12\" font-style=\"italic\" lengthAdjust=\"spacingAndGlyphs\" textLength=\"64\" x=\"90\" y=\"218.1387\">«part def»</text><text fill=\"#000000\" font-family=\"sans-serif\" font-size=\"12\" lengthAdjust=\"spacingAndGlyphs\" textLength=\"77\" x=\"83.5\" y=\"232.1074\">Data Packet</text><line style=\"stroke: #383838; stroke-width: 1.5;\" x1=\"33\" x2=\"211\" y1=\"239.9375\" y2=\"239.9375\"/><text fill=\"#000000\" font-family=\"sans-serif\" font-size=\"11\" lengthAdjust=\"spacingAndGlyphs\" textLength=\"94\" x=\"38\" y=\"270.9526\">packet data field</text><text fill=\"#000000\" font-family=\"sans-serif\" font-size=\"11\" font-style=\"italic\" lengthAdjust=\"spacingAndGlyphs\" textLength=\"168\" x=\"38\" y=\"283.7573\">:&gt;&gt;Packets::packet data field</text><text fill=\"#000000\" font-family=\"sans-serif\" font-size=\"11\" lengthAdjust=\"spacingAndGlyphs\" textLength=\"129\" x=\"38\" y=\"296.562\">packet primary header</text><text fill=\"#000000\" font-family=\"sans-serif\" font-size=\"11\" font-style=\"italic\" lengthAdjust=\"spacingAndGlyphs\" textLength=\"155\" x=\"38\" y=\"309.3667\">:&gt;&gt;Packets::packet header</text><line style=\"stroke: #383838; stroke-width: 1.0;\" x1=\"33\" x2=\"94.5\" y1=\"254.3398\" y2=\"254.3398\"/><text fill=\"#000000\" font-family=\"sans-serif\" font-size=\"11\" lengthAdjust=\"spacingAndGlyphs\" textLength=\"55\" x=\"94.5\" y=\"257.6479\">attributes</text><line style=\"stroke: #383838; stroke-width: 1.0;\" x1=\"149.5\" x2=\"211\" y1=\"254.3398\" y2=\"254.3398\"/></a><!--MD5=[60a26617385b1d2d0262a64233df1f8d]\n",
       "class E6--><a href=\"psysml:10023c3e-6ce6-4816-9fb9-6800bd66eb89\" target=\"_top\" title=\"psysml:10023c3e-6ce6-4816-9fb9-6800bd66eb89\" xlink:actuate=\"onRequest\" xlink:href=\"psysml:10023c3e-6ce6-4816-9fb9-6800bd66eb89\" xlink:show=\"new\" xlink:title=\"psysml:10023c3e-6ce6-4816-9fb9-6800bd66eb89\" xlink:type=\"simple\"><rect fill=\"#FFFFFF\" height=\"88.3516\" id=\"E6\" style=\"stroke: #383838; stroke-width: 1.5;\" width=\"180\" x=\"32\" y=\"47.5\"/><text fill=\"#000000\" font-family=\"sans-serif\" font-size=\"12\" font-style=\"italic\" lengthAdjust=\"spacingAndGlyphs\" textLength=\"64\" x=\"90\" y=\"63.6387\">«part def»</text><text fill=\"#000000\" font-family=\"sans-serif\" font-size=\"12\" lengthAdjust=\"spacingAndGlyphs\" textLength=\"131\" x=\"56.5\" y=\"77.6074\">Thermal Data Packet</text><line style=\"stroke: #383838; stroke-width: 1.5;\" x1=\"33\" x2=\"211\" y1=\"85.4375\" y2=\"85.4375\"/><text fill=\"#000000\" font-family=\"sans-serif\" font-size=\"11\" lengthAdjust=\"spacingAndGlyphs\" textLength=\"94\" x=\"38\" y=\"116.4526\">packet data field</text><text fill=\"#000000\" font-family=\"sans-serif\" font-size=\"11\" font-style=\"italic\" lengthAdjust=\"spacingAndGlyphs\" textLength=\"168\" x=\"38\" y=\"129.2573\">:&gt;&gt;Packets::packet data field</text><line style=\"stroke: #383838; stroke-width: 1.0;\" x1=\"33\" x2=\"94.5\" y1=\"99.8398\" y2=\"99.8398\"/><text fill=\"#000000\" font-family=\"sans-serif\" font-size=\"11\" lengthAdjust=\"spacingAndGlyphs\" textLength=\"55\" x=\"94.5\" y=\"103.1479\">attributes</text><line style=\"stroke: #383838; stroke-width: 1.0;\" x1=\"149.5\" x2=\"211\" y1=\"99.8398\" y2=\"99.8398\"/></a><!--MD5=[25b190c987b1e74e5126d372c5a73af1]\n",
       "link E6 to E5--><a href=\"psysml:8c509f82-013b-4383-9ee5-07fa63a1b780\" target=\"_top\" title=\"psysml:8c509f82-013b-4383-9ee5-07fa63a1b780\" xlink:actuate=\"onRequest\" xlink:href=\"psysml:8c509f82-013b-4383-9ee5-07fa63a1b780\" xlink:show=\"new\" xlink:title=\"psysml:8c509f82-013b-4383-9ee5-07fa63a1b780\" xlink:type=\"simple\"><path d=\"M122,135.55 C122,149.68 122,165.84 122,181.67 \" fill=\"none\" id=\"E6-&gt;E5\" style=\"stroke: #383838; stroke-width: 1.0;\"/><polygon fill=\"none\" points=\"129,181.75,122,201.75,115,181.75,129,181.75\" style=\"stroke: #383838; stroke-width: 1.0;\"/></a><!--MD5=[bc1841cce7f349154bb3777dc556cd4b]\n",
       "@startuml\r\n",
       "skinparam linetype polyline\r\n",
       "skinparam monochrome true\r\n",
       "skinparam classbackgroundcolor white\r\n",
       "skinparam shadowing false\r\n",
       "skinparam wrapWidth 300\r\n",
       "hide circle\r\n",
       "\r\n",
       "package \"Packets\" as E1  [[psysml:781596e5-2fdd-47e5-84a9-0e1e2d017791 ]]  {\r\n",
       "comp def \"DateTime\" as E2  <<(T,blue)attribute def>> [[psysml:09967ea5-e8af-470d-92d0-5553b1044725 ]] {\r\n",
       "}\r\n",
       "comp usage \"packet header\" as E3  <<(T,blue)attribute>> [[psysml:16b22f80-f2ca-4440-a25c-8e72c7cab96e ]] {\r\n",
       "}\r\n",
       "comp usage \"packet data field\" as E4  <<(T,blue)attribute>> [[psysml:7e904c0e-d2a4-45ad-bef1-7051678b2240 ]] {\r\n",
       "- - attributes - -\r\n",
       "packet secondary header\\n//:>>Packets::packet header// \r\n",
       "user data field\r\n",
       "}\r\n",
       "comp def \"Data Packet\" as E5  <<(T,blue)part def>> [[psysml:7a510d36-5831-409f-9d62-08a185df40ba ]] {\r\n",
       "- - attributes - -\r\n",
       "packet data field\\n//:>>Packets::packet data field// \r\n",
       "packet primary header\\n//:>>Packets::packet header// \r\n",
       "}\r\n",
       "comp def \"Thermal Data Packet\" as E6  <<(T,blue)part def>> [[psysml:10023c3e-6ce6-4816-9fb9-6800bd66eb89 ]] {\r\n",
       "- - attributes - -\r\n",
       "packet data field\\n//:>>Packets::packet data field// \r\n",
       "}\r\n",
       "E6 - -|> E5 [[psysml:8c509f82-013b-4383-9ee5-07fa63a1b780 ]] \r\n",
       "}\r\n",
       "@enduml\r\n",
       "\n",
       "PlantUML version 1.2020.13(Sat Jun 13 12:26:38 UTC 2020)\n",
       "(EPL source distribution)\n",
       "Java Runtime: OpenJDK Runtime Environment\n",
       "JVM: OpenJDK 64-Bit Server VM\n",
       "Default Encoding: UTF-8\n",
       "Language: en\n",
       "Country: null\n",
       "--></g></svg>"
      ]
     },
     "execution_count": 14,
     "metadata": {},
     "output_type": "execute_result"
    }
   ],
   "source": [
    "%viz --style=\"POLYLINE\" --view=\"Sequence\" \"Packets\""
   ]
  },
  {
   "cell_type": "code",
   "execution_count": 15,
   "id": "3912d545",
   "metadata": {
    "execution": {
     "iopub.execute_input": "2021-04-20T07:33:53.370583Z",
     "iopub.status.busy": "2021-04-20T07:33:53.370118Z",
     "iopub.status.idle": "2021-04-20T07:33:53.526735Z",
     "shell.execute_reply": "2021-04-20T07:33:53.526007Z"
    }
   },
   "outputs": [
    {
     "data": {
      "image/svg+xml": [
       "<?xml version=\"1.0\" encoding=\"UTF-8\" standalone=\"no\"?><svg xmlns=\"http://www.w3.org/2000/svg\" xmlns:xlink=\"http://www.w3.org/1999/xlink\" contentScriptType=\"application/ecmascript\" contentStyleType=\"text/css\" height=\"344px\" preserveAspectRatio=\"none\" style=\"width:716px;height:344px;\" version=\"1.1\" viewBox=\"0 0 716 344\" width=\"716px\" zoomAndPan=\"magnify\"><defs/><g><!--MD5=[fbc87193dbaf4d95561dea2c320d4a47]\n",
       "cluster E1--><a href=\"psysml:781596e5-2fdd-47e5-84a9-0e1e2d017791\" target=\"_top\" title=\"psysml:781596e5-2fdd-47e5-84a9-0e1e2d017791\" xlink:actuate=\"onRequest\" xlink:href=\"psysml:781596e5-2fdd-47e5-84a9-0e1e2d017791\" xlink:show=\"new\" xlink:title=\"psysml:781596e5-2fdd-47e5-84a9-0e1e2d017791\" xlink:type=\"simple\"><polygon fill=\"#FFFFFF\" points=\"16,6,84,6,91,28.2969,694,28.2969,694,332,16,332,16,6\" style=\"stroke: #000000; stroke-width: 1.5;\"/><line style=\"stroke: #000000; stroke-width: 1.5;\" x1=\"16\" x2=\"91\" y1=\"28.2969\" y2=\"28.2969\"/><text fill=\"#000000\" font-family=\"sans-serif\" font-size=\"14\" font-weight=\"bold\" lengthAdjust=\"spacingAndGlyphs\" textLength=\"62\" x=\"20\" y=\"20.9951\">Packets</text></a><!--MD5=[b4997ac47864f28c2f74865a473b2911]\n",
       "class E2--><a href=\"psysml:09967ea5-e8af-470d-92d0-5553b1044725\" target=\"_top\" title=\"psysml:09967ea5-e8af-470d-92d0-5553b1044725\" xlink:actuate=\"onRequest\" xlink:href=\"psysml:09967ea5-e8af-470d-92d0-5553b1044725\" xlink:show=\"new\" xlink:title=\"psysml:09967ea5-e8af-470d-92d0-5553b1044725\" xlink:type=\"simple\"><rect fill=\"#FFFFFF\" height=\"45.9375\" id=\"E2\" style=\"stroke: #383838; stroke-width: 1.5;\" width=\"95\" x=\"582.5\" y=\"68.5\"/><text fill=\"#000000\" font-family=\"sans-serif\" font-size=\"12\" font-style=\"italic\" lengthAdjust=\"spacingAndGlyphs\" textLength=\"93\" x=\"583.5\" y=\"84.6387\">«attribute def»</text><text fill=\"#000000\" font-family=\"sans-serif\" font-size=\"12\" lengthAdjust=\"spacingAndGlyphs\" textLength=\"59\" x=\"600.5\" y=\"98.6074\">DateTime</text><line style=\"stroke: #383838; stroke-width: 1.5;\" x1=\"583.5\" x2=\"676.5\" y1=\"106.4375\" y2=\"106.4375\"/></a><!--MD5=[09b614a08d8cba4a07c9adeb5e0fee81]\n",
       "class E3--><a href=\"psysml:16b22f80-f2ca-4440-a25c-8e72c7cab96e\" target=\"_top\" title=\"psysml:16b22f80-f2ca-4440-a25c-8e72c7cab96e\" xlink:actuate=\"onRequest\" xlink:href=\"psysml:16b22f80-f2ca-4440-a25c-8e72c7cab96e\" xlink:show=\"new\" xlink:title=\"psysml:16b22f80-f2ca-4440-a25c-8e72c7cab96e\" xlink:type=\"simple\"><rect fill=\"#FFFFFF\" height=\"45.9375\" id=\"E3\" rx=\"10\" ry=\"10\" style=\"stroke: #383838; stroke-width: 1.5;\" width=\"98\" x=\"449\" y=\"68.5\"/><text fill=\"#000000\" font-family=\"sans-serif\" font-size=\"12\" font-style=\"italic\" lengthAdjust=\"spacingAndGlyphs\" textLength=\"69\" x=\"463.5\" y=\"84.6387\">«attribute»</text><text fill=\"#000000\" font-family=\"sans-serif\" font-size=\"12\" lengthAdjust=\"spacingAndGlyphs\" textLength=\"92\" x=\"452\" y=\"98.6074\">packet header</text><line style=\"stroke: #383838; stroke-width: 1.5;\" x1=\"450\" x2=\"546\" y1=\"106.4375\" y2=\"106.4375\"/></a><!--MD5=[ebbe1d658d1005bcc118a6aa81145e00]\n",
       "class E4--><a href=\"psysml:7e904c0e-d2a4-45ad-bef1-7051678b2240\" target=\"_top\" title=\"psysml:7e904c0e-d2a4-45ad-bef1-7051678b2240\" xlink:actuate=\"onRequest\" xlink:href=\"psysml:7e904c0e-d2a4-45ad-bef1-7051678b2240\" xlink:show=\"new\" xlink:title=\"psysml:7e904c0e-d2a4-45ad-bef1-7051678b2240\" xlink:type=\"simple\"><rect fill=\"#FFFFFF\" height=\"101.1563\" id=\"E4\" rx=\"10\" ry=\"10\" style=\"stroke: #383838; stroke-width: 1.5;\" width=\"167\" x=\"247.5\" y=\"41\"/><text fill=\"#000000\" font-family=\"sans-serif\" font-size=\"12\" font-style=\"italic\" lengthAdjust=\"spacingAndGlyphs\" textLength=\"69\" x=\"296.5\" y=\"57.1387\">«attribute»</text><text fill=\"#000000\" font-family=\"sans-serif\" font-size=\"12\" lengthAdjust=\"spacingAndGlyphs\" textLength=\"106\" x=\"278\" y=\"71.1074\">packet data field</text><line style=\"stroke: #383838; stroke-width: 1.5;\" x1=\"248.5\" x2=\"413.5\" y1=\"78.9375\" y2=\"78.9375\"/><text fill=\"#000000\" font-family=\"sans-serif\" font-size=\"11\" lengthAdjust=\"spacingAndGlyphs\" textLength=\"144\" x=\"253.5\" y=\"109.9526\">packet secondary header</text><text fill=\"#000000\" font-family=\"sans-serif\" font-size=\"11\" font-style=\"italic\" lengthAdjust=\"spacingAndGlyphs\" textLength=\"155\" x=\"253.5\" y=\"122.7573\">:&gt;&gt;Packets::packet header</text><text fill=\"#000000\" font-family=\"sans-serif\" font-size=\"11\" lengthAdjust=\"spacingAndGlyphs\" textLength=\"83\" x=\"253.5\" y=\"135.562\">user data field</text><line style=\"stroke: #383838; stroke-width: 1.0;\" x1=\"248.5\" x2=\"303.5\" y1=\"93.3398\" y2=\"93.3398\"/><text fill=\"#000000\" font-family=\"sans-serif\" font-size=\"11\" lengthAdjust=\"spacingAndGlyphs\" textLength=\"55\" x=\"303.5\" y=\"96.6479\">attributes</text><line style=\"stroke: #383838; stroke-width: 1.0;\" x1=\"358.5\" x2=\"413.5\" y1=\"93.3398\" y2=\"93.3398\"/></a><!--MD5=[270fce915f116d4de14055a7c1d9a0f3]\n",
       "class E5--><a href=\"psysml:7a510d36-5831-409f-9d62-08a185df40ba\" target=\"_top\" title=\"psysml:7a510d36-5831-409f-9d62-08a185df40ba\" xlink:actuate=\"onRequest\" xlink:href=\"psysml:7a510d36-5831-409f-9d62-08a185df40ba\" xlink:show=\"new\" xlink:title=\"psysml:7a510d36-5831-409f-9d62-08a185df40ba\" xlink:type=\"simple\"><rect fill=\"#FFFFFF\" height=\"113.9609\" id=\"E5\" style=\"stroke: #383838; stroke-width: 1.5;\" width=\"180\" x=\"32\" y=\"202\"/><text fill=\"#000000\" font-family=\"sans-serif\" font-size=\"12\" font-style=\"italic\" lengthAdjust=\"spacingAndGlyphs\" textLength=\"64\" x=\"90\" y=\"218.1387\">«part def»</text><text fill=\"#000000\" font-family=\"sans-serif\" font-size=\"12\" lengthAdjust=\"spacingAndGlyphs\" textLength=\"77\" x=\"83.5\" y=\"232.1074\">Data Packet</text><line style=\"stroke: #383838; stroke-width: 1.5;\" x1=\"33\" x2=\"211\" y1=\"239.9375\" y2=\"239.9375\"/><text fill=\"#000000\" font-family=\"sans-serif\" font-size=\"11\" lengthAdjust=\"spacingAndGlyphs\" textLength=\"94\" x=\"38\" y=\"270.9526\">packet data field</text><text fill=\"#000000\" font-family=\"sans-serif\" font-size=\"11\" font-style=\"italic\" lengthAdjust=\"spacingAndGlyphs\" textLength=\"168\" x=\"38\" y=\"283.7573\">:&gt;&gt;Packets::packet data field</text><text fill=\"#000000\" font-family=\"sans-serif\" font-size=\"11\" lengthAdjust=\"spacingAndGlyphs\" textLength=\"129\" x=\"38\" y=\"296.562\">packet primary header</text><text fill=\"#000000\" font-family=\"sans-serif\" font-size=\"11\" font-style=\"italic\" lengthAdjust=\"spacingAndGlyphs\" textLength=\"155\" x=\"38\" y=\"309.3667\">:&gt;&gt;Packets::packet header</text><line style=\"stroke: #383838; stroke-width: 1.0;\" x1=\"33\" x2=\"94.5\" y1=\"254.3398\" y2=\"254.3398\"/><text fill=\"#000000\" font-family=\"sans-serif\" font-size=\"11\" lengthAdjust=\"spacingAndGlyphs\" textLength=\"55\" x=\"94.5\" y=\"257.6479\">attributes</text><line style=\"stroke: #383838; stroke-width: 1.0;\" x1=\"149.5\" x2=\"211\" y1=\"254.3398\" y2=\"254.3398\"/></a><!--MD5=[60a26617385b1d2d0262a64233df1f8d]\n",
       "class E6--><a href=\"psysml:10023c3e-6ce6-4816-9fb9-6800bd66eb89\" target=\"_top\" title=\"psysml:10023c3e-6ce6-4816-9fb9-6800bd66eb89\" xlink:actuate=\"onRequest\" xlink:href=\"psysml:10023c3e-6ce6-4816-9fb9-6800bd66eb89\" xlink:show=\"new\" xlink:title=\"psysml:10023c3e-6ce6-4816-9fb9-6800bd66eb89\" xlink:type=\"simple\"><rect fill=\"#FFFFFF\" height=\"88.3516\" id=\"E6\" style=\"stroke: #383838; stroke-width: 1.5;\" width=\"180\" x=\"32\" y=\"47.5\"/><text fill=\"#000000\" font-family=\"sans-serif\" font-size=\"12\" font-style=\"italic\" lengthAdjust=\"spacingAndGlyphs\" textLength=\"64\" x=\"90\" y=\"63.6387\">«part def»</text><text fill=\"#000000\" font-family=\"sans-serif\" font-size=\"12\" lengthAdjust=\"spacingAndGlyphs\" textLength=\"131\" x=\"56.5\" y=\"77.6074\">Thermal Data Packet</text><line style=\"stroke: #383838; stroke-width: 1.5;\" x1=\"33\" x2=\"211\" y1=\"85.4375\" y2=\"85.4375\"/><text fill=\"#000000\" font-family=\"sans-serif\" font-size=\"11\" lengthAdjust=\"spacingAndGlyphs\" textLength=\"94\" x=\"38\" y=\"116.4526\">packet data field</text><text fill=\"#000000\" font-family=\"sans-serif\" font-size=\"11\" font-style=\"italic\" lengthAdjust=\"spacingAndGlyphs\" textLength=\"168\" x=\"38\" y=\"129.2573\">:&gt;&gt;Packets::packet data field</text><line style=\"stroke: #383838; stroke-width: 1.0;\" x1=\"33\" x2=\"94.5\" y1=\"99.8398\" y2=\"99.8398\"/><text fill=\"#000000\" font-family=\"sans-serif\" font-size=\"11\" lengthAdjust=\"spacingAndGlyphs\" textLength=\"55\" x=\"94.5\" y=\"103.1479\">attributes</text><line style=\"stroke: #383838; stroke-width: 1.0;\" x1=\"149.5\" x2=\"211\" y1=\"99.8398\" y2=\"99.8398\"/></a><!--MD5=[25b190c987b1e74e5126d372c5a73af1]\n",
       "link E6 to E5--><a href=\"psysml:8c509f82-013b-4383-9ee5-07fa63a1b780\" target=\"_top\" title=\"psysml:8c509f82-013b-4383-9ee5-07fa63a1b780\" xlink:actuate=\"onRequest\" xlink:href=\"psysml:8c509f82-013b-4383-9ee5-07fa63a1b780\" xlink:show=\"new\" xlink:title=\"psysml:8c509f82-013b-4383-9ee5-07fa63a1b780\" xlink:type=\"simple\"><path d=\"M122,135.55 C122,149.68 122,165.84 122,181.67 \" fill=\"none\" id=\"E6-&gt;E5\" style=\"stroke: #383838; stroke-width: 1.0;\"/><polygon fill=\"none\" points=\"129,181.75,122,201.75,115,181.75,129,181.75\" style=\"stroke: #383838; stroke-width: 1.0;\"/></a><!--MD5=[bc1841cce7f349154bb3777dc556cd4b]\n",
       "@startuml\r\n",
       "skinparam linetype polyline\r\n",
       "skinparam monochrome true\r\n",
       "skinparam classbackgroundcolor white\r\n",
       "skinparam shadowing false\r\n",
       "skinparam wrapWidth 300\r\n",
       "hide circle\r\n",
       "\r\n",
       "package \"Packets\" as E1  [[psysml:781596e5-2fdd-47e5-84a9-0e1e2d017791 ]]  {\r\n",
       "comp def \"DateTime\" as E2  <<(T,blue)attribute def>> [[psysml:09967ea5-e8af-470d-92d0-5553b1044725 ]] {\r\n",
       "}\r\n",
       "comp usage \"packet header\" as E3  <<(T,blue)attribute>> [[psysml:16b22f80-f2ca-4440-a25c-8e72c7cab96e ]] {\r\n",
       "}\r\n",
       "comp usage \"packet data field\" as E4  <<(T,blue)attribute>> [[psysml:7e904c0e-d2a4-45ad-bef1-7051678b2240 ]] {\r\n",
       "- - attributes - -\r\n",
       "packet secondary header\\n//:>>Packets::packet header// \r\n",
       "user data field\r\n",
       "}\r\n",
       "comp def \"Data Packet\" as E5  <<(T,blue)part def>> [[psysml:7a510d36-5831-409f-9d62-08a185df40ba ]] {\r\n",
       "- - attributes - -\r\n",
       "packet data field\\n//:>>Packets::packet data field// \r\n",
       "packet primary header\\n//:>>Packets::packet header// \r\n",
       "}\r\n",
       "comp def \"Thermal Data Packet\" as E6  <<(T,blue)part def>> [[psysml:10023c3e-6ce6-4816-9fb9-6800bd66eb89 ]] {\r\n",
       "- - attributes - -\r\n",
       "packet data field\\n//:>>Packets::packet data field// \r\n",
       "}\r\n",
       "E6 - -|> E5 [[psysml:8c509f82-013b-4383-9ee5-07fa63a1b780 ]] \r\n",
       "}\r\n",
       "@enduml\r\n",
       "\n",
       "PlantUML version 1.2020.13(Sat Jun 13 12:26:38 UTC 2020)\n",
       "(EPL source distribution)\n",
       "Java Runtime: OpenJDK Runtime Environment\n",
       "JVM: OpenJDK 64-Bit Server VM\n",
       "Default Encoding: UTF-8\n",
       "Language: en\n",
       "Country: null\n",
       "--></g></svg>"
      ]
     },
     "execution_count": 15,
     "metadata": {},
     "output_type": "execute_result"
    }
   ],
   "source": [
    "%viz --style=\"POLYLINE\" --view=\"MIXED\" \"Packets\""
   ]
  },
  {
   "cell_type": "code",
   "execution_count": 16,
   "id": "e05ffb87",
   "metadata": {
    "execution": {
     "iopub.execute_input": "2021-04-20T07:33:53.576556Z",
     "iopub.status.busy": "2021-04-20T07:33:53.576083Z",
     "iopub.status.idle": "2021-04-20T07:33:53.776862Z",
     "shell.execute_reply": "2021-04-20T07:33:53.778372Z"
    }
   },
   "outputs": [
    {
     "data": {
      "image/svg+xml": [
       "<?xml version=\"1.0\" encoding=\"UTF-8\" standalone=\"no\"?><svg xmlns=\"http://www.w3.org/2000/svg\" xmlns:xlink=\"http://www.w3.org/1999/xlink\" contentScriptType=\"application/ecmascript\" contentStyleType=\"text/css\" height=\"456px\" preserveAspectRatio=\"none\" style=\"width:490px;height:456px;\" version=\"1.1\" viewBox=\"0 0 490 456\" width=\"490px\" zoomAndPan=\"magnify\"><defs/><g><!--MD5=[fbc87193dbaf4d95561dea2c320d4a47]\n",
       "cluster E1--><a href=\"psysml:781596e5-2fdd-47e5-84a9-0e1e2d017791\" target=\"_top\" title=\"psysml:781596e5-2fdd-47e5-84a9-0e1e2d017791\" xlink:actuate=\"onRequest\" xlink:href=\"psysml:781596e5-2fdd-47e5-84a9-0e1e2d017791\" xlink:show=\"new\" xlink:title=\"psysml:781596e5-2fdd-47e5-84a9-0e1e2d017791\" xlink:type=\"simple\"><polygon fill=\"#FFFFFF\" points=\"16,6,84,6,91,28.2969,468,28.2969,468,444,16,444,16,6\" style=\"stroke: #000000; stroke-width: 1.5;\"/><line style=\"stroke: #000000; stroke-width: 1.5;\" x1=\"16\" x2=\"91\" y1=\"28.2969\" y2=\"28.2969\"/><text fill=\"#000000\" font-family=\"sans-serif\" font-size=\"14\" font-weight=\"bold\" lengthAdjust=\"spacingAndGlyphs\" textLength=\"62\" x=\"20\" y=\"20.9951\">Packets</text></a><!--MD5=[b4997ac47864f28c2f74865a473b2911]\n",
       "class E2--><a href=\"psysml:09967ea5-e8af-470d-92d0-5553b1044725\" target=\"_top\" title=\"psysml:09967ea5-e8af-470d-92d0-5553b1044725\" xlink:actuate=\"onRequest\" xlink:href=\"psysml:09967ea5-e8af-470d-92d0-5553b1044725\" xlink:show=\"new\" xlink:title=\"psysml:09967ea5-e8af-470d-92d0-5553b1044725\" xlink:type=\"simple\"><rect fill=\"#FFFFFF\" height=\"45.9375\" id=\"E2\" style=\"stroke: #383838; stroke-width: 1.5;\" width=\"95\" x=\"74.5\" y=\"41\"/><text fill=\"#000000\" font-family=\"sans-serif\" font-size=\"12\" font-style=\"italic\" lengthAdjust=\"spacingAndGlyphs\" textLength=\"93\" x=\"75.5\" y=\"57.1387\">«attribute def»</text><text fill=\"#000000\" font-family=\"sans-serif\" font-size=\"12\" lengthAdjust=\"spacingAndGlyphs\" textLength=\"59\" x=\"92.5\" y=\"71.1074\">DateTime</text><line style=\"stroke: #383838; stroke-width: 1.5;\" x1=\"75.5\" x2=\"168.5\" y1=\"78.9375\" y2=\"78.9375\"/></a><!--MD5=[09b614a08d8cba4a07c9adeb5e0fee81]\n",
       "class E3--><a href=\"psysml:16b22f80-f2ca-4440-a25c-8e72c7cab96e\" target=\"_top\" title=\"psysml:16b22f80-f2ca-4440-a25c-8e72c7cab96e\" xlink:actuate=\"onRequest\" xlink:href=\"psysml:16b22f80-f2ca-4440-a25c-8e72c7cab96e\" xlink:show=\"new\" xlink:title=\"psysml:16b22f80-f2ca-4440-a25c-8e72c7cab96e\" xlink:type=\"simple\"><rect fill=\"#FFFFFF\" height=\"45.9375\" id=\"E3\" rx=\"10\" ry=\"10\" style=\"stroke: #383838; stroke-width: 1.5;\" width=\"98\" x=\"73\" y=\"122\"/><text fill=\"#000000\" font-family=\"sans-serif\" font-size=\"12\" font-style=\"italic\" lengthAdjust=\"spacingAndGlyphs\" textLength=\"69\" x=\"87.5\" y=\"138.1387\">«attribute»</text><text fill=\"#000000\" font-family=\"sans-serif\" font-size=\"12\" lengthAdjust=\"spacingAndGlyphs\" textLength=\"92\" x=\"76\" y=\"152.1074\">packet header</text><line style=\"stroke: #383838; stroke-width: 1.5;\" x1=\"74\" x2=\"170\" y1=\"159.9375\" y2=\"159.9375\"/></a><!--MD5=[ebbe1d658d1005bcc118a6aa81145e00]\n",
       "class E4--><a href=\"psysml:7e904c0e-d2a4-45ad-bef1-7051678b2240\" target=\"_top\" title=\"psysml:7e904c0e-d2a4-45ad-bef1-7051678b2240\" xlink:actuate=\"onRequest\" xlink:href=\"psysml:7e904c0e-d2a4-45ad-bef1-7051678b2240\" xlink:show=\"new\" xlink:title=\"psysml:7e904c0e-d2a4-45ad-bef1-7051678b2240\" xlink:type=\"simple\"><rect fill=\"#FFFFFF\" height=\"101.1563\" id=\"E4\" rx=\"10\" ry=\"10\" style=\"stroke: #383838; stroke-width: 1.5;\" width=\"167\" x=\"38.5\" y=\"203.5\"/><text fill=\"#000000\" font-family=\"sans-serif\" font-size=\"12\" font-style=\"italic\" lengthAdjust=\"spacingAndGlyphs\" textLength=\"69\" x=\"87.5\" y=\"219.6387\">«attribute»</text><text fill=\"#000000\" font-family=\"sans-serif\" font-size=\"12\" lengthAdjust=\"spacingAndGlyphs\" textLength=\"106\" x=\"69\" y=\"233.6074\">packet data field</text><line style=\"stroke: #383838; stroke-width: 1.5;\" x1=\"39.5\" x2=\"204.5\" y1=\"241.4375\" y2=\"241.4375\"/><text fill=\"#000000\" font-family=\"sans-serif\" font-size=\"11\" lengthAdjust=\"spacingAndGlyphs\" textLength=\"144\" x=\"44.5\" y=\"272.4526\">packet secondary header</text><text fill=\"#000000\" font-family=\"sans-serif\" font-size=\"11\" font-style=\"italic\" lengthAdjust=\"spacingAndGlyphs\" textLength=\"155\" x=\"44.5\" y=\"285.2573\">:&gt;&gt;Packets::packet header</text><text fill=\"#000000\" font-family=\"sans-serif\" font-size=\"11\" lengthAdjust=\"spacingAndGlyphs\" textLength=\"83\" x=\"44.5\" y=\"298.062\">user data field</text><line style=\"stroke: #383838; stroke-width: 1.0;\" x1=\"39.5\" x2=\"94.5\" y1=\"255.8398\" y2=\"255.8398\"/><text fill=\"#000000\" font-family=\"sans-serif\" font-size=\"11\" lengthAdjust=\"spacingAndGlyphs\" textLength=\"55\" x=\"94.5\" y=\"259.1479\">attributes</text><line style=\"stroke: #383838; stroke-width: 1.0;\" x1=\"149.5\" x2=\"204.5\" y1=\"255.8398\" y2=\"255.8398\"/></a><!--MD5=[270fce915f116d4de14055a7c1d9a0f3]\n",
       "class E5--><a href=\"psysml:7a510d36-5831-409f-9d62-08a185df40ba\" target=\"_top\" title=\"psysml:7a510d36-5831-409f-9d62-08a185df40ba\" xlink:actuate=\"onRequest\" xlink:href=\"psysml:7a510d36-5831-409f-9d62-08a185df40ba\" xlink:show=\"new\" xlink:title=\"psysml:7a510d36-5831-409f-9d62-08a185df40ba\" xlink:type=\"simple\"><rect fill=\"#FFFFFF\" height=\"113.9609\" id=\"E5\" style=\"stroke: #383838; stroke-width: 1.5;\" width=\"180\" x=\"272\" y=\"314\"/><text fill=\"#000000\" font-family=\"sans-serif\" font-size=\"12\" font-style=\"italic\" lengthAdjust=\"spacingAndGlyphs\" textLength=\"64\" x=\"330\" y=\"330.1387\">«part def»</text><text fill=\"#000000\" font-family=\"sans-serif\" font-size=\"12\" lengthAdjust=\"spacingAndGlyphs\" textLength=\"77\" x=\"323.5\" y=\"344.1074\">Data Packet</text><line style=\"stroke: #383838; stroke-width: 1.5;\" x1=\"273\" x2=\"451\" y1=\"351.9375\" y2=\"351.9375\"/><text fill=\"#000000\" font-family=\"sans-serif\" font-size=\"11\" lengthAdjust=\"spacingAndGlyphs\" textLength=\"94\" x=\"278\" y=\"382.9526\">packet data field</text><text fill=\"#000000\" font-family=\"sans-serif\" font-size=\"11\" font-style=\"italic\" lengthAdjust=\"spacingAndGlyphs\" textLength=\"168\" x=\"278\" y=\"395.7573\">:&gt;&gt;Packets::packet data field</text><text fill=\"#000000\" font-family=\"sans-serif\" font-size=\"11\" lengthAdjust=\"spacingAndGlyphs\" textLength=\"129\" x=\"278\" y=\"408.562\">packet primary header</text><text fill=\"#000000\" font-family=\"sans-serif\" font-size=\"11\" font-style=\"italic\" lengthAdjust=\"spacingAndGlyphs\" textLength=\"155\" x=\"278\" y=\"421.3667\">:&gt;&gt;Packets::packet header</text><line style=\"stroke: #383838; stroke-width: 1.0;\" x1=\"273\" x2=\"334.5\" y1=\"366.3398\" y2=\"366.3398\"/><text fill=\"#000000\" font-family=\"sans-serif\" font-size=\"11\" lengthAdjust=\"spacingAndGlyphs\" textLength=\"55\" x=\"334.5\" y=\"369.6479\">attributes</text><line style=\"stroke: #383838; stroke-width: 1.0;\" x1=\"389.5\" x2=\"451\" y1=\"366.3398\" y2=\"366.3398\"/></a><!--MD5=[60a26617385b1d2d0262a64233df1f8d]\n",
       "class E6--><a href=\"psysml:10023c3e-6ce6-4816-9fb9-6800bd66eb89\" target=\"_top\" title=\"psysml:10023c3e-6ce6-4816-9fb9-6800bd66eb89\" xlink:actuate=\"onRequest\" xlink:href=\"psysml:10023c3e-6ce6-4816-9fb9-6800bd66eb89\" xlink:show=\"new\" xlink:title=\"psysml:10023c3e-6ce6-4816-9fb9-6800bd66eb89\" xlink:type=\"simple\"><rect fill=\"#FFFFFF\" height=\"88.3516\" id=\"E6\" style=\"stroke: #383838; stroke-width: 1.5;\" width=\"180\" x=\"32\" y=\"340\"/><text fill=\"#000000\" font-family=\"sans-serif\" font-size=\"12\" font-style=\"italic\" lengthAdjust=\"spacingAndGlyphs\" textLength=\"64\" x=\"90\" y=\"356.1387\">«part def»</text><text fill=\"#000000\" font-family=\"sans-serif\" font-size=\"12\" lengthAdjust=\"spacingAndGlyphs\" textLength=\"131\" x=\"56.5\" y=\"370.1074\">Thermal Data Packet</text><line style=\"stroke: #383838; stroke-width: 1.5;\" x1=\"33\" x2=\"211\" y1=\"377.9375\" y2=\"377.9375\"/><text fill=\"#000000\" font-family=\"sans-serif\" font-size=\"11\" lengthAdjust=\"spacingAndGlyphs\" textLength=\"94\" x=\"38\" y=\"408.9526\">packet data field</text><text fill=\"#000000\" font-family=\"sans-serif\" font-size=\"11\" font-style=\"italic\" lengthAdjust=\"spacingAndGlyphs\" textLength=\"168\" x=\"38\" y=\"421.7573\">:&gt;&gt;Packets::packet data field</text><line style=\"stroke: #383838; stroke-width: 1.0;\" x1=\"33\" x2=\"94.5\" y1=\"392.3398\" y2=\"392.3398\"/><text fill=\"#000000\" font-family=\"sans-serif\" font-size=\"11\" lengthAdjust=\"spacingAndGlyphs\" textLength=\"55\" x=\"94.5\" y=\"395.6479\">attributes</text><line style=\"stroke: #383838; stroke-width: 1.0;\" x1=\"149.5\" x2=\"211\" y1=\"392.3398\" y2=\"392.3398\"/></a><!--MD5=[25b190c987b1e74e5126d372c5a73af1]\n",
       "link E6 to E5--><a href=\"psysml:8c509f82-013b-4383-9ee5-07fa63a1b780\" target=\"_top\" title=\"psysml:8c509f82-013b-4383-9ee5-07fa63a1b780\" xlink:actuate=\"onRequest\" xlink:href=\"psysml:8c509f82-013b-4383-9ee5-07fa63a1b780\" xlink:show=\"new\" xlink:title=\"psysml:8c509f82-013b-4383-9ee5-07fa63a1b780\" xlink:type=\"simple\"><path d=\"M212.3,379.12 C225.11,378.42 238.41,377.7 251.56,376.98 \" fill=\"none\" id=\"E6-&gt;E5\" style=\"stroke: #383838; stroke-width: 1.0;\"/><polygon fill=\"none\" points=\"251.64,369.96,271.99,375.86,252.4,383.94,251.64,369.96\" style=\"stroke: #383838; stroke-width: 1.0;\"/></a><!--MD5=[f27064d24dca0e2b18071497c237e79b]\n",
       "@startuml\r\n",
       "left to right direction\r\n",
       "skinparam monochrome true\r\n",
       "skinparam classbackgroundcolor white\r\n",
       "skinparam shadowing false\r\n",
       "skinparam wrapWidth 300\r\n",
       "hide circle\r\n",
       "\r\n",
       "package \"Packets\" as E1  [[psysml:781596e5-2fdd-47e5-84a9-0e1e2d017791 ]]  {\r\n",
       "comp def \"DateTime\" as E2  <<(T,blue)attribute def>> [[psysml:09967ea5-e8af-470d-92d0-5553b1044725 ]] {\r\n",
       "}\r\n",
       "comp usage \"packet header\" as E3  <<(T,blue)attribute>> [[psysml:16b22f80-f2ca-4440-a25c-8e72c7cab96e ]] {\r\n",
       "}\r\n",
       "comp usage \"packet data field\" as E4  <<(T,blue)attribute>> [[psysml:7e904c0e-d2a4-45ad-bef1-7051678b2240 ]] {\r\n",
       "- - attributes - -\r\n",
       "packet secondary header\\n//:>>Packets::packet header// \r\n",
       "user data field\r\n",
       "}\r\n",
       "comp def \"Data Packet\" as E5  <<(T,blue)part def>> [[psysml:7a510d36-5831-409f-9d62-08a185df40ba ]] {\r\n",
       "- - attributes - -\r\n",
       "packet data field\\n//:>>Packets::packet data field// \r\n",
       "packet primary header\\n//:>>Packets::packet header// \r\n",
       "}\r\n",
       "comp def \"Thermal Data Packet\" as E6  <<(T,blue)part def>> [[psysml:10023c3e-6ce6-4816-9fb9-6800bd66eb89 ]] {\r\n",
       "- - attributes - -\r\n",
       "packet data field\\n//:>>Packets::packet data field// \r\n",
       "}\r\n",
       "E6 - -|> E5 [[psysml:8c509f82-013b-4383-9ee5-07fa63a1b780 ]] \r\n",
       "}\r\n",
       "@enduml\r\n",
       "\n",
       "PlantUML version 1.2020.13(Sat Jun 13 12:26:38 UTC 2020)\n",
       "(EPL source distribution)\n",
       "Java Runtime: OpenJDK Runtime Environment\n",
       "JVM: OpenJDK 64-Bit Server VM\n",
       "Default Encoding: UTF-8\n",
       "Language: en\n",
       "Country: null\n",
       "--></g></svg>"
      ]
     },
     "execution_count": 16,
     "metadata": {},
     "output_type": "execute_result"
    }
   ],
   "source": [
    "%viz --style=\"LR\" --view=\"Default\" \"Packets\""
   ]
  },
  {
   "cell_type": "code",
   "execution_count": 17,
   "id": "a04243fb",
   "metadata": {
    "execution": {
     "iopub.execute_input": "2021-04-20T07:33:53.829823Z",
     "iopub.status.busy": "2021-04-20T07:33:53.829056Z",
     "iopub.status.idle": "2021-04-20T07:33:53.998006Z",
     "shell.execute_reply": "2021-04-20T07:33:53.996437Z"
    }
   },
   "outputs": [
    {
     "data": {
      "image/svg+xml": [
       "<?xml version=\"1.0\" encoding=\"UTF-8\" standalone=\"no\"?><svg xmlns=\"http://www.w3.org/2000/svg\" xmlns:xlink=\"http://www.w3.org/1999/xlink\" contentScriptType=\"application/ecmascript\" contentStyleType=\"text/css\" height=\"456px\" preserveAspectRatio=\"none\" style=\"width:490px;height:456px;\" version=\"1.1\" viewBox=\"0 0 490 456\" width=\"490px\" zoomAndPan=\"magnify\"><defs/><g><!--MD5=[fbc87193dbaf4d95561dea2c320d4a47]\n",
       "cluster E1--><a href=\"psysml:781596e5-2fdd-47e5-84a9-0e1e2d017791\" target=\"_top\" title=\"psysml:781596e5-2fdd-47e5-84a9-0e1e2d017791\" xlink:actuate=\"onRequest\" xlink:href=\"psysml:781596e5-2fdd-47e5-84a9-0e1e2d017791\" xlink:show=\"new\" xlink:title=\"psysml:781596e5-2fdd-47e5-84a9-0e1e2d017791\" xlink:type=\"simple\"><polygon fill=\"#FFFFFF\" points=\"16,6,84,6,91,28.2969,468,28.2969,468,444,16,444,16,6\" style=\"stroke: #000000; stroke-width: 1.5;\"/><line style=\"stroke: #000000; stroke-width: 1.5;\" x1=\"16\" x2=\"91\" y1=\"28.2969\" y2=\"28.2969\"/><text fill=\"#000000\" font-family=\"sans-serif\" font-size=\"14\" font-weight=\"bold\" lengthAdjust=\"spacingAndGlyphs\" textLength=\"62\" x=\"20\" y=\"20.9951\">Packets</text></a><!--MD5=[b4997ac47864f28c2f74865a473b2911]\n",
       "class E2--><a href=\"psysml:09967ea5-e8af-470d-92d0-5553b1044725\" target=\"_top\" title=\"psysml:09967ea5-e8af-470d-92d0-5553b1044725\" xlink:actuate=\"onRequest\" xlink:href=\"psysml:09967ea5-e8af-470d-92d0-5553b1044725\" xlink:show=\"new\" xlink:title=\"psysml:09967ea5-e8af-470d-92d0-5553b1044725\" xlink:type=\"simple\"><rect fill=\"#FFFFFF\" height=\"45.9375\" id=\"E2\" style=\"stroke: #383838; stroke-width: 1.5;\" width=\"95\" x=\"74.5\" y=\"41\"/><text fill=\"#000000\" font-family=\"sans-serif\" font-size=\"12\" font-style=\"italic\" lengthAdjust=\"spacingAndGlyphs\" textLength=\"93\" x=\"75.5\" y=\"57.1387\">«attribute def»</text><text fill=\"#000000\" font-family=\"sans-serif\" font-size=\"12\" lengthAdjust=\"spacingAndGlyphs\" textLength=\"59\" x=\"92.5\" y=\"71.1074\">DateTime</text><line style=\"stroke: #383838; stroke-width: 1.5;\" x1=\"75.5\" x2=\"168.5\" y1=\"78.9375\" y2=\"78.9375\"/></a><!--MD5=[09b614a08d8cba4a07c9adeb5e0fee81]\n",
       "class E3--><a href=\"psysml:16b22f80-f2ca-4440-a25c-8e72c7cab96e\" target=\"_top\" title=\"psysml:16b22f80-f2ca-4440-a25c-8e72c7cab96e\" xlink:actuate=\"onRequest\" xlink:href=\"psysml:16b22f80-f2ca-4440-a25c-8e72c7cab96e\" xlink:show=\"new\" xlink:title=\"psysml:16b22f80-f2ca-4440-a25c-8e72c7cab96e\" xlink:type=\"simple\"><rect fill=\"#FFFFFF\" height=\"45.9375\" id=\"E3\" rx=\"10\" ry=\"10\" style=\"stroke: #383838; stroke-width: 1.5;\" width=\"98\" x=\"73\" y=\"122\"/><text fill=\"#000000\" font-family=\"sans-serif\" font-size=\"12\" font-style=\"italic\" lengthAdjust=\"spacingAndGlyphs\" textLength=\"69\" x=\"87.5\" y=\"138.1387\">«attribute»</text><text fill=\"#000000\" font-family=\"sans-serif\" font-size=\"12\" lengthAdjust=\"spacingAndGlyphs\" textLength=\"92\" x=\"76\" y=\"152.1074\">packet header</text><line style=\"stroke: #383838; stroke-width: 1.5;\" x1=\"74\" x2=\"170\" y1=\"159.9375\" y2=\"159.9375\"/></a><!--MD5=[ebbe1d658d1005bcc118a6aa81145e00]\n",
       "class E4--><a href=\"psysml:7e904c0e-d2a4-45ad-bef1-7051678b2240\" target=\"_top\" title=\"psysml:7e904c0e-d2a4-45ad-bef1-7051678b2240\" xlink:actuate=\"onRequest\" xlink:href=\"psysml:7e904c0e-d2a4-45ad-bef1-7051678b2240\" xlink:show=\"new\" xlink:title=\"psysml:7e904c0e-d2a4-45ad-bef1-7051678b2240\" xlink:type=\"simple\"><rect fill=\"#FFFFFF\" height=\"101.1563\" id=\"E4\" rx=\"10\" ry=\"10\" style=\"stroke: #383838; stroke-width: 1.5;\" width=\"167\" x=\"38.5\" y=\"203.5\"/><text fill=\"#000000\" font-family=\"sans-serif\" font-size=\"12\" font-style=\"italic\" lengthAdjust=\"spacingAndGlyphs\" textLength=\"69\" x=\"87.5\" y=\"219.6387\">«attribute»</text><text fill=\"#000000\" font-family=\"sans-serif\" font-size=\"12\" lengthAdjust=\"spacingAndGlyphs\" textLength=\"106\" x=\"69\" y=\"233.6074\">packet data field</text><line style=\"stroke: #383838; stroke-width: 1.5;\" x1=\"39.5\" x2=\"204.5\" y1=\"241.4375\" y2=\"241.4375\"/><text fill=\"#000000\" font-family=\"sans-serif\" font-size=\"11\" lengthAdjust=\"spacingAndGlyphs\" textLength=\"144\" x=\"44.5\" y=\"272.4526\">packet secondary header</text><text fill=\"#000000\" font-family=\"sans-serif\" font-size=\"11\" font-style=\"italic\" lengthAdjust=\"spacingAndGlyphs\" textLength=\"155\" x=\"44.5\" y=\"285.2573\">:&gt;&gt;Packets::packet header</text><text fill=\"#000000\" font-family=\"sans-serif\" font-size=\"11\" lengthAdjust=\"spacingAndGlyphs\" textLength=\"83\" x=\"44.5\" y=\"298.062\">user data field</text><line style=\"stroke: #383838; stroke-width: 1.0;\" x1=\"39.5\" x2=\"94.5\" y1=\"255.8398\" y2=\"255.8398\"/><text fill=\"#000000\" font-family=\"sans-serif\" font-size=\"11\" lengthAdjust=\"spacingAndGlyphs\" textLength=\"55\" x=\"94.5\" y=\"259.1479\">attributes</text><line style=\"stroke: #383838; stroke-width: 1.0;\" x1=\"149.5\" x2=\"204.5\" y1=\"255.8398\" y2=\"255.8398\"/></a><!--MD5=[270fce915f116d4de14055a7c1d9a0f3]\n",
       "class E5--><a href=\"psysml:7a510d36-5831-409f-9d62-08a185df40ba\" target=\"_top\" title=\"psysml:7a510d36-5831-409f-9d62-08a185df40ba\" xlink:actuate=\"onRequest\" xlink:href=\"psysml:7a510d36-5831-409f-9d62-08a185df40ba\" xlink:show=\"new\" xlink:title=\"psysml:7a510d36-5831-409f-9d62-08a185df40ba\" xlink:type=\"simple\"><rect fill=\"#FFFFFF\" height=\"113.9609\" id=\"E5\" style=\"stroke: #383838; stroke-width: 1.5;\" width=\"180\" x=\"272\" y=\"314\"/><text fill=\"#000000\" font-family=\"sans-serif\" font-size=\"12\" font-style=\"italic\" lengthAdjust=\"spacingAndGlyphs\" textLength=\"64\" x=\"330\" y=\"330.1387\">«part def»</text><text fill=\"#000000\" font-family=\"sans-serif\" font-size=\"12\" lengthAdjust=\"spacingAndGlyphs\" textLength=\"77\" x=\"323.5\" y=\"344.1074\">Data Packet</text><line style=\"stroke: #383838; stroke-width: 1.5;\" x1=\"273\" x2=\"451\" y1=\"351.9375\" y2=\"351.9375\"/><text fill=\"#000000\" font-family=\"sans-serif\" font-size=\"11\" lengthAdjust=\"spacingAndGlyphs\" textLength=\"94\" x=\"278\" y=\"382.9526\">packet data field</text><text fill=\"#000000\" font-family=\"sans-serif\" font-size=\"11\" font-style=\"italic\" lengthAdjust=\"spacingAndGlyphs\" textLength=\"168\" x=\"278\" y=\"395.7573\">:&gt;&gt;Packets::packet data field</text><text fill=\"#000000\" font-family=\"sans-serif\" font-size=\"11\" lengthAdjust=\"spacingAndGlyphs\" textLength=\"129\" x=\"278\" y=\"408.562\">packet primary header</text><text fill=\"#000000\" font-family=\"sans-serif\" font-size=\"11\" font-style=\"italic\" lengthAdjust=\"spacingAndGlyphs\" textLength=\"155\" x=\"278\" y=\"421.3667\">:&gt;&gt;Packets::packet header</text><line style=\"stroke: #383838; stroke-width: 1.0;\" x1=\"273\" x2=\"334.5\" y1=\"366.3398\" y2=\"366.3398\"/><text fill=\"#000000\" font-family=\"sans-serif\" font-size=\"11\" lengthAdjust=\"spacingAndGlyphs\" textLength=\"55\" x=\"334.5\" y=\"369.6479\">attributes</text><line style=\"stroke: #383838; stroke-width: 1.0;\" x1=\"389.5\" x2=\"451\" y1=\"366.3398\" y2=\"366.3398\"/></a><!--MD5=[60a26617385b1d2d0262a64233df1f8d]\n",
       "class E6--><a href=\"psysml:10023c3e-6ce6-4816-9fb9-6800bd66eb89\" target=\"_top\" title=\"psysml:10023c3e-6ce6-4816-9fb9-6800bd66eb89\" xlink:actuate=\"onRequest\" xlink:href=\"psysml:10023c3e-6ce6-4816-9fb9-6800bd66eb89\" xlink:show=\"new\" xlink:title=\"psysml:10023c3e-6ce6-4816-9fb9-6800bd66eb89\" xlink:type=\"simple\"><rect fill=\"#FFFFFF\" height=\"88.3516\" id=\"E6\" style=\"stroke: #383838; stroke-width: 1.5;\" width=\"180\" x=\"32\" y=\"340\"/><text fill=\"#000000\" font-family=\"sans-serif\" font-size=\"12\" font-style=\"italic\" lengthAdjust=\"spacingAndGlyphs\" textLength=\"64\" x=\"90\" y=\"356.1387\">«part def»</text><text fill=\"#000000\" font-family=\"sans-serif\" font-size=\"12\" lengthAdjust=\"spacingAndGlyphs\" textLength=\"131\" x=\"56.5\" y=\"370.1074\">Thermal Data Packet</text><line style=\"stroke: #383838; stroke-width: 1.5;\" x1=\"33\" x2=\"211\" y1=\"377.9375\" y2=\"377.9375\"/><text fill=\"#000000\" font-family=\"sans-serif\" font-size=\"11\" lengthAdjust=\"spacingAndGlyphs\" textLength=\"94\" x=\"38\" y=\"408.9526\">packet data field</text><text fill=\"#000000\" font-family=\"sans-serif\" font-size=\"11\" font-style=\"italic\" lengthAdjust=\"spacingAndGlyphs\" textLength=\"168\" x=\"38\" y=\"421.7573\">:&gt;&gt;Packets::packet data field</text><line style=\"stroke: #383838; stroke-width: 1.0;\" x1=\"33\" x2=\"94.5\" y1=\"392.3398\" y2=\"392.3398\"/><text fill=\"#000000\" font-family=\"sans-serif\" font-size=\"11\" lengthAdjust=\"spacingAndGlyphs\" textLength=\"55\" x=\"94.5\" y=\"395.6479\">attributes</text><line style=\"stroke: #383838; stroke-width: 1.0;\" x1=\"149.5\" x2=\"211\" y1=\"392.3398\" y2=\"392.3398\"/></a><!--MD5=[25b190c987b1e74e5126d372c5a73af1]\n",
       "link E6 to E5--><a href=\"psysml:8c509f82-013b-4383-9ee5-07fa63a1b780\" target=\"_top\" title=\"psysml:8c509f82-013b-4383-9ee5-07fa63a1b780\" xlink:actuate=\"onRequest\" xlink:href=\"psysml:8c509f82-013b-4383-9ee5-07fa63a1b780\" xlink:show=\"new\" xlink:title=\"psysml:8c509f82-013b-4383-9ee5-07fa63a1b780\" xlink:type=\"simple\"><path d=\"M212.3,379.12 C225.11,378.42 238.41,377.7 251.56,376.98 \" fill=\"none\" id=\"E6-&gt;E5\" style=\"stroke: #383838; stroke-width: 1.0;\"/><polygon fill=\"none\" points=\"251.64,369.96,271.99,375.86,252.4,383.94,251.64,369.96\" style=\"stroke: #383838; stroke-width: 1.0;\"/></a><!--MD5=[f27064d24dca0e2b18071497c237e79b]\n",
       "@startuml\r\n",
       "left to right direction\r\n",
       "skinparam monochrome true\r\n",
       "skinparam classbackgroundcolor white\r\n",
       "skinparam shadowing false\r\n",
       "skinparam wrapWidth 300\r\n",
       "hide circle\r\n",
       "\r\n",
       "package \"Packets\" as E1  [[psysml:781596e5-2fdd-47e5-84a9-0e1e2d017791 ]]  {\r\n",
       "comp def \"DateTime\" as E2  <<(T,blue)attribute def>> [[psysml:09967ea5-e8af-470d-92d0-5553b1044725 ]] {\r\n",
       "}\r\n",
       "comp usage \"packet header\" as E3  <<(T,blue)attribute>> [[psysml:16b22f80-f2ca-4440-a25c-8e72c7cab96e ]] {\r\n",
       "}\r\n",
       "comp usage \"packet data field\" as E4  <<(T,blue)attribute>> [[psysml:7e904c0e-d2a4-45ad-bef1-7051678b2240 ]] {\r\n",
       "- - attributes - -\r\n",
       "packet secondary header\\n//:>>Packets::packet header// \r\n",
       "user data field\r\n",
       "}\r\n",
       "comp def \"Data Packet\" as E5  <<(T,blue)part def>> [[psysml:7a510d36-5831-409f-9d62-08a185df40ba ]] {\r\n",
       "- - attributes - -\r\n",
       "packet data field\\n//:>>Packets::packet data field// \r\n",
       "packet primary header\\n//:>>Packets::packet header// \r\n",
       "}\r\n",
       "comp def \"Thermal Data Packet\" as E6  <<(T,blue)part def>> [[psysml:10023c3e-6ce6-4816-9fb9-6800bd66eb89 ]] {\r\n",
       "- - attributes - -\r\n",
       "packet data field\\n//:>>Packets::packet data field// \r\n",
       "}\r\n",
       "E6 - -|> E5 [[psysml:8c509f82-013b-4383-9ee5-07fa63a1b780 ]] \r\n",
       "}\r\n",
       "@enduml\r\n",
       "\n",
       "PlantUML version 1.2020.13(Sat Jun 13 12:26:38 UTC 2020)\n",
       "(EPL source distribution)\n",
       "Java Runtime: OpenJDK Runtime Environment\n",
       "JVM: OpenJDK 64-Bit Server VM\n",
       "Default Encoding: UTF-8\n",
       "Language: en\n",
       "Country: null\n",
       "--></g></svg>"
      ]
     },
     "execution_count": 17,
     "metadata": {},
     "output_type": "execute_result"
    }
   ],
   "source": [
    "%viz --style=\"LR\" --view=\"Tree\" \"Packets\""
   ]
  },
  {
   "cell_type": "code",
   "execution_count": 18,
   "id": "a3522729",
   "metadata": {
    "execution": {
     "iopub.execute_input": "2021-04-20T07:33:54.047626Z",
     "iopub.status.busy": "2021-04-20T07:33:54.046913Z",
     "iopub.status.idle": "2021-04-20T07:33:54.053945Z",
     "shell.execute_reply": "2021-04-20T07:33:54.052996Z"
    }
   },
   "outputs": [
    {
     "data": {
      "image/svg+xml": [
       "<?xml version=\"1.0\" encoding=\"UTF-8\" standalone=\"no\"?><svg xmlns=\"http://www.w3.org/2000/svg\" xmlns:xlink=\"http://www.w3.org/1999/xlink\" contentScriptType=\"application/ecmascript\" contentStyleType=\"text/css\" height=\"12px\" preserveAspectRatio=\"none\" style=\"width:12px;height:12px;\" version=\"1.1\" viewBox=\"0 0 12 12\" width=\"12px\" zoomAndPan=\"magnify\"><defs/><g><!--MD5=[19d285c9d72a204eba4e2cd117d745e8]\n",
       "@startuml\r\n",
       "left to right direction\r\n",
       "skinparam monochrome true\r\n",
       "skinparam classbackgroundcolor white\r\n",
       "skinparam shadowing false\r\n",
       "skinparam wrapWidth 300\r\n",
       "hide circle\r\n",
       "\r\n",
       "@enduml\r\n",
       "\n",
       "PlantUML version 1.2020.13(Sat Jun 13 12:26:38 UTC 2020)\n",
       "(EPL source distribution)\n",
       "Java Runtime: OpenJDK Runtime Environment\n",
       "JVM: OpenJDK 64-Bit Server VM\n",
       "Default Encoding: UTF-8\n",
       "Language: en\n",
       "Country: null\n",
       "--></g></svg>"
      ]
     },
     "execution_count": 18,
     "metadata": {},
     "output_type": "execute_result"
    }
   ],
   "source": [
    "%viz --style=\"LR\" --view=\"State\" \"Packets\""
   ]
  },
  {
   "cell_type": "code",
   "execution_count": 19,
   "id": "460ba777",
   "metadata": {
    "execution": {
     "iopub.execute_input": "2021-04-20T07:33:54.108599Z",
     "iopub.status.busy": "2021-04-20T07:33:54.107354Z",
     "iopub.status.idle": "2021-04-20T07:33:54.343356Z",
     "shell.execute_reply": "2021-04-20T07:33:54.341763Z"
    }
   },
   "outputs": [
    {
     "data": {
      "image/svg+xml": [
       "<?xml version=\"1.0\" encoding=\"UTF-8\" standalone=\"no\"?><svg xmlns=\"http://www.w3.org/2000/svg\" xmlns:xlink=\"http://www.w3.org/1999/xlink\" contentScriptType=\"application/ecmascript\" contentStyleType=\"text/css\" height=\"396px\" preserveAspectRatio=\"none\" style=\"width:823px;height:396px;\" version=\"1.1\" viewBox=\"0 0 823 396\" width=\"823px\" zoomAndPan=\"magnify\"><defs/><g><!--MD5=[fbc87193dbaf4d95561dea2c320d4a47]\n",
       "cluster E1--><a href=\"psysml:781596e5-2fdd-47e5-84a9-0e1e2d017791\" target=\"_top\" title=\"psysml:781596e5-2fdd-47e5-84a9-0e1e2d017791\" xlink:actuate=\"onRequest\" xlink:href=\"psysml:781596e5-2fdd-47e5-84a9-0e1e2d017791\" xlink:show=\"new\" xlink:title=\"psysml:781596e5-2fdd-47e5-84a9-0e1e2d017791\" xlink:type=\"simple\"><polygon fill=\"#FFFFFF\" points=\"16,6,84,6,91,28.2969,801,28.2969,801,384,16,384,16,6\" style=\"stroke: #000000; stroke-width: 1.5;\"/><line style=\"stroke: #000000; stroke-width: 1.5;\" x1=\"16\" x2=\"91\" y1=\"28.2969\" y2=\"28.2969\"/><text fill=\"#000000\" font-family=\"sans-serif\" font-size=\"14\" font-weight=\"bold\" lengthAdjust=\"spacingAndGlyphs\" textLength=\"62\" x=\"20\" y=\"20.9951\">Packets</text></a><!--MD5=[de5ec2e2e8f62f467e546659f5068c88]\n",
       "cluster E5--><a href=\"psysml:7a510d36-5831-409f-9d62-08a185df40ba\" target=\"_top\" title=\"psysml:7a510d36-5831-409f-9d62-08a185df40ba\" xlink:actuate=\"onRequest\" xlink:href=\"psysml:7a510d36-5831-409f-9d62-08a185df40ba\" xlink:show=\"new\" xlink:title=\"psysml:7a510d36-5831-409f-9d62-08a185df40ba\" xlink:type=\"simple\"><rect fill=\"#FFFFFF\" height=\"285\" id=\"E5\" style=\"stroke: #383838; stroke-width: 1.5;\" width=\"239\" x=\"355\" y=\"67\"/><rect fill=\"#F8F8F8\" height=\"37.9375\" style=\"stroke: #383838; stroke-width: 1.5;\" width=\"239\" x=\"355\" y=\"67\"/><text fill=\"#000000\" font-family=\"sans-serif\" font-size=\"12\" font-style=\"italic\" lengthAdjust=\"spacingAndGlyphs\" textLength=\"64\" x=\"442.5\" y=\"83.1387\">«part def»</text><text fill=\"#000000\" font-family=\"sans-serif\" font-size=\"12\" lengthAdjust=\"spacingAndGlyphs\" textLength=\"77\" x=\"436\" y=\"97.1074\">Data Packet</text></a><!--MD5=[55dfccfc6c49c2d10cd1bd2211a6c90c]\n",
       "cluster E8--><a href=\"psysml:10023c3e-6ce6-4816-9fb9-6800bd66eb89\" target=\"_top\" title=\"psysml:10023c3e-6ce6-4816-9fb9-6800bd66eb89\" xlink:actuate=\"onRequest\" xlink:href=\"psysml:10023c3e-6ce6-4816-9fb9-6800bd66eb89\" xlink:show=\"new\" xlink:title=\"psysml:10023c3e-6ce6-4816-9fb9-6800bd66eb89\" xlink:type=\"simple\"><rect fill=\"#FFFFFF\" height=\"216\" id=\"E8\" style=\"stroke: #383838; stroke-width: 1.5;\" width=\"267\" x=\"48\" y=\"63\"/><rect fill=\"#F8F8F8\" height=\"37.9375\" style=\"stroke: #383838; stroke-width: 1.5;\" width=\"267\" x=\"48\" y=\"63\"/><text fill=\"#000000\" font-family=\"sans-serif\" font-size=\"12\" font-style=\"italic\" lengthAdjust=\"spacingAndGlyphs\" textLength=\"64\" x=\"149.5\" y=\"79.1387\">«part def»</text><text fill=\"#000000\" font-family=\"sans-serif\" font-size=\"12\" lengthAdjust=\"spacingAndGlyphs\" textLength=\"131\" x=\"116\" y=\"93.1074\">Thermal Data Packet</text></a><g id=\"E1.E2\"><a href=\"psysml:09967ea5-e8af-470d-92d0-5553b1044725\" target=\"_top\" title=\"psysml:09967ea5-e8af-470d-92d0-5553b1044725\" xlink:actuate=\"onRequest\" xlink:href=\"psysml:09967ea5-e8af-470d-92d0-5553b1044725\" xlink:show=\"new\" xlink:title=\"psysml:09967ea5-e8af-470d-92d0-5553b1044725\" xlink:type=\"simple\"><rect fill=\"#FFFFFF\" height=\"42.9375\" id=\"E2\" style=\"stroke: #383838; stroke-width: 1.5;\" width=\"100\" x=\"131.5\" y=\"312.5\"/><rect fill=\"#F8F8F8\" height=\"37.9375\" style=\"stroke: #383838; stroke-width: 1.5;\" width=\"100\" x=\"131.5\" y=\"312.5\"/><text fill=\"#000000\" font-family=\"sans-serif\" font-size=\"12\" font-style=\"italic\" lengthAdjust=\"spacingAndGlyphs\" textLength=\"93\" x=\"135\" y=\"328.6387\">«attribute def»</text><text fill=\"#000000\" font-family=\"sans-serif\" font-size=\"12\" lengthAdjust=\"spacingAndGlyphs\" textLength=\"59\" x=\"152\" y=\"342.6074\">DateTime</text></a></g><!--MD5=[09b614a08d8cba4a07c9adeb5e0fee81]\n",
       "class E3--><a href=\"psysml:16b22f80-f2ca-4440-a25c-8e72c7cab96e\" target=\"_top\" title=\"psysml:16b22f80-f2ca-4440-a25c-8e72c7cab96e\" xlink:actuate=\"onRequest\" xlink:href=\"psysml:16b22f80-f2ca-4440-a25c-8e72c7cab96e\" xlink:show=\"new\" xlink:title=\"psysml:16b22f80-f2ca-4440-a25c-8e72c7cab96e\" xlink:type=\"simple\"><rect fill=\"#FFFFFF\" height=\"45.9375\" id=\"E3\" rx=\"10\" ry=\"10\" style=\"stroke: #383838; stroke-width: 1.5;\" width=\"98\" x=\"652.5\" y=\"235\"/><text fill=\"#000000\" font-family=\"sans-serif\" font-size=\"12\" font-style=\"italic\" lengthAdjust=\"spacingAndGlyphs\" textLength=\"69\" x=\"667\" y=\"251.1387\">«attribute»</text><text fill=\"#000000\" font-family=\"sans-serif\" font-size=\"12\" lengthAdjust=\"spacingAndGlyphs\" textLength=\"92\" x=\"655.5\" y=\"265.1074\">packet header</text><line style=\"stroke: #383838; stroke-width: 1.5;\" x1=\"653.5\" x2=\"749.5\" y1=\"272.9375\" y2=\"272.9375\"/></a><!--MD5=[ebbe1d658d1005bcc118a6aa81145e00]\n",
       "class E4--><a href=\"psysml:7e904c0e-d2a4-45ad-bef1-7051678b2240\" target=\"_top\" title=\"psysml:7e904c0e-d2a4-45ad-bef1-7051678b2240\" xlink:actuate=\"onRequest\" xlink:href=\"psysml:7e904c0e-d2a4-45ad-bef1-7051678b2240\" xlink:show=\"new\" xlink:title=\"psysml:7e904c0e-d2a4-45ad-bef1-7051678b2240\" xlink:type=\"simple\"><rect fill=\"#FFFFFF\" height=\"101.1563\" id=\"E4\" rx=\"10\" ry=\"10\" style=\"stroke: #383838; stroke-width: 1.5;\" width=\"167\" x=\"618\" y=\"70.5\"/><text fill=\"#000000\" font-family=\"sans-serif\" font-size=\"12\" font-style=\"italic\" lengthAdjust=\"spacingAndGlyphs\" textLength=\"69\" x=\"667\" y=\"86.6387\">«attribute»</text><text fill=\"#000000\" font-family=\"sans-serif\" font-size=\"12\" lengthAdjust=\"spacingAndGlyphs\" textLength=\"106\" x=\"648.5\" y=\"100.6074\">packet data field</text><line style=\"stroke: #383838; stroke-width: 1.5;\" x1=\"619\" x2=\"784\" y1=\"108.4375\" y2=\"108.4375\"/><text fill=\"#000000\" font-family=\"sans-serif\" font-size=\"11\" lengthAdjust=\"spacingAndGlyphs\" textLength=\"144\" x=\"624\" y=\"139.4526\">packet secondary header</text><text fill=\"#000000\" font-family=\"sans-serif\" font-size=\"11\" font-style=\"italic\" lengthAdjust=\"spacingAndGlyphs\" textLength=\"155\" x=\"624\" y=\"152.2573\">:&gt;&gt;Packets::packet header</text><text fill=\"#000000\" font-family=\"sans-serif\" font-size=\"11\" lengthAdjust=\"spacingAndGlyphs\" textLength=\"83\" x=\"624\" y=\"165.062\">user data field</text><line style=\"stroke: #383838; stroke-width: 1.0;\" x1=\"619\" x2=\"674\" y1=\"122.8398\" y2=\"122.8398\"/><text fill=\"#000000\" font-family=\"sans-serif\" font-size=\"11\" lengthAdjust=\"spacingAndGlyphs\" textLength=\"55\" x=\"674\" y=\"126.1479\">attributes</text><line style=\"stroke: #383838; stroke-width: 1.0;\" x1=\"729\" x2=\"784\" y1=\"122.8398\" y2=\"122.8398\"/></a><!--MD5=[60a26617385b1d2d0262a64233df1f8d]\n",
       "class E6--><a href=\"psysml:8bac5b56-bd53-4c22-88f8-0cbcb8384e0b\" target=\"_top\" title=\"psysml:8bac5b56-bd53-4c22-88f8-0cbcb8384e0b\" xlink:actuate=\"onRequest\" xlink:href=\"psysml:8bac5b56-bd53-4c22-88f8-0cbcb8384e0b\" xlink:show=\"new\" xlink:title=\"psysml:8bac5b56-bd53-4c22-88f8-0cbcb8384e0b\" xlink:type=\"simple\"><rect fill=\"#FFFFFF\" height=\"101.1563\" id=\"E6\" rx=\"10\" ry=\"10\" style=\"stroke: #383838; stroke-width: 1.5;\" width=\"191\" x=\"379\" y=\"207.5\"/><text fill=\"#000000\" font-family=\"sans-serif\" font-size=\"12\" font-style=\"italic\" lengthAdjust=\"spacingAndGlyphs\" textLength=\"69\" x=\"440\" y=\"223.6387\">«attribute»</text><text fill=\"#000000\" font-family=\"sans-serif\" font-size=\"12\" lengthAdjust=\"spacingAndGlyphs\" textLength=\"142\" x=\"403.5\" y=\"237.6074\">packet primary header</text><line style=\"stroke: #383838; stroke-width: 1.5;\" x1=\"380\" x2=\"569\" y1=\"245.4375\" y2=\"245.4375\"/><text fill=\"#000000\" font-family=\"sans-serif\" font-size=\"11\" lengthAdjust=\"spacingAndGlyphs\" textLength=\"153\" x=\"385\" y=\"276.4526\">packet data length: Integer</text><text fill=\"#000000\" font-family=\"sans-serif\" font-size=\"11\" lengthAdjust=\"spacingAndGlyphs\" textLength=\"155\" x=\"385\" y=\"289.2573\">packet identification: String</text><text fill=\"#000000\" font-family=\"sans-serif\" font-size=\"11\" lengthAdjust=\"spacingAndGlyphs\" textLength=\"179\" x=\"385\" y=\"302.062\">packet version number: Integer</text><line style=\"stroke: #383838; stroke-width: 1.0;\" x1=\"380\" x2=\"447\" y1=\"259.8398\" y2=\"259.8398\"/><text fill=\"#000000\" font-family=\"sans-serif\" font-size=\"11\" lengthAdjust=\"spacingAndGlyphs\" textLength=\"55\" x=\"447\" y=\"263.1479\">attributes</text><line style=\"stroke: #383838; stroke-width: 1.0;\" x1=\"502\" x2=\"569\" y1=\"259.8398\" y2=\"259.8398\"/></a><!--MD5=[2156ba9850f5573cc1fc38a6a4b2f02b]\n",
       "class E7--><a href=\"psysml:e649f067-3966-42a9-912a-f470df4c2484\" target=\"_top\" title=\"psysml:e649f067-3966-42a9-912a-f470df4c2484\" xlink:actuate=\"onRequest\" xlink:href=\"psysml:e649f067-3966-42a9-912a-f470df4c2484\" xlink:show=\"new\" xlink:title=\"psysml:e649f067-3966-42a9-912a-f470df4c2484\" xlink:type=\"simple\"><rect fill=\"#FFFFFF\" height=\"45.9375\" id=\"E7\" rx=\"10\" ry=\"10\" style=\"stroke: #383838; stroke-width: 1.5;\" width=\"112\" x=\"418.5\" y=\"126\"/><text fill=\"#000000\" font-family=\"sans-serif\" font-size=\"12\" font-style=\"italic\" lengthAdjust=\"spacingAndGlyphs\" textLength=\"69\" x=\"440\" y=\"142.1387\">«attribute»</text><text fill=\"#000000\" font-family=\"sans-serif\" font-size=\"12\" lengthAdjust=\"spacingAndGlyphs\" textLength=\"106\" x=\"421.5\" y=\"156.1074\">packet data field</text><line style=\"stroke: #383838; stroke-width: 1.5;\" x1=\"419.5\" x2=\"529.5\" y1=\"163.9375\" y2=\"163.9375\"/></a><!--MD5=[fd4143e9d270a159db93a4ea2a975926]\n",
       "class E9--><a href=\"psysml:9d2256ff-aa99-47f6-ab60-2a2dbee9749e\" target=\"_top\" title=\"psysml:9d2256ff-aa99-47f6-ab60-2a2dbee9749e\" xlink:actuate=\"onRequest\" xlink:href=\"psysml:9d2256ff-aa99-47f6-ab60-2a2dbee9749e\" xlink:show=\"new\" xlink:title=\"psysml:9d2256ff-aa99-47f6-ab60-2a2dbee9749e\" xlink:type=\"simple\"><rect fill=\"#FFFFFF\" height=\"113.9609\" id=\"E9\" rx=\"10\" ry=\"10\" style=\"stroke: #383838; stroke-width: 1.5;\" width=\"219\" x=\"72\" y=\"122\"/><text fill=\"#000000\" font-family=\"sans-serif\" font-size=\"12\" font-style=\"italic\" lengthAdjust=\"spacingAndGlyphs\" textLength=\"69\" x=\"147\" y=\"138.1387\">«attribute»</text><text fill=\"#000000\" font-family=\"sans-serif\" font-size=\"12\" lengthAdjust=\"spacingAndGlyphs\" textLength=\"106\" x=\"128.5\" y=\"152.1074\">packet data field</text><line style=\"stroke: #383838; stroke-width: 1.5;\" x1=\"73\" x2=\"290\" y1=\"159.9375\" y2=\"159.9375\"/><text fill=\"#000000\" font-family=\"sans-serif\" font-size=\"11\" lengthAdjust=\"spacingAndGlyphs\" textLength=\"144\" x=\"78\" y=\"190.9526\">packet secondary header</text><text fill=\"#000000\" font-family=\"sans-serif\" font-size=\"11\" font-style=\"italic\" lengthAdjust=\"spacingAndGlyphs\" textLength=\"155\" x=\"78\" y=\"203.7573\">:&gt;&gt;Packets::packet header</text><text fill=\"#000000\" font-family=\"sans-serif\" font-size=\"11\" lengthAdjust=\"spacingAndGlyphs\" textLength=\"83\" x=\"78\" y=\"216.562\">user data field</text><text fill=\"#000000\" font-family=\"sans-serif\" font-size=\"11\" font-style=\"italic\" lengthAdjust=\"spacingAndGlyphs\" textLength=\"207\" x=\"78\" y=\"229.3667\">:&gt;&gt;packet data field::user data field</text><line style=\"stroke: #383838; stroke-width: 1.0;\" x1=\"73\" x2=\"154\" y1=\"174.3398\" y2=\"174.3398\"/><text fill=\"#000000\" font-family=\"sans-serif\" font-size=\"11\" lengthAdjust=\"spacingAndGlyphs\" textLength=\"55\" x=\"154\" y=\"177.6479\">attributes</text><line style=\"stroke: #383838; stroke-width: 1.0;\" x1=\"209\" x2=\"290\" y1=\"174.3398\" y2=\"174.3398\"/></a><!--MD5=[a717450b82c80b9240a525fa862496af]\n",
       "link E6 to E3--><a href=\"psysml:6aaaf2f4-4b2b-4d4a-ac54-83bc6d358576\" target=\"_top\" title=\"psysml:6aaaf2f4-4b2b-4d4a-ac54-83bc6d358576\" xlink:actuate=\"onRequest\" xlink:href=\"psysml:6aaaf2f4-4b2b-4d4a-ac54-83bc6d358576\" xlink:show=\"new\" xlink:title=\"psysml:6aaaf2f4-4b2b-4d4a-ac54-83bc6d358576\" xlink:type=\"simple\"><path d=\"M570.27,258 C591.08,258 612.73,258 632.26,258 \" fill=\"none\" id=\"E6-&gt;E3\" style=\"stroke: #383838; stroke-width: 1.0;\"/><polygon fill=\"#FFFFFF\" points=\"652.48,258,633.48,265,633.48,251,652.48,258\" style=\"stroke: #383838; stroke-width: 1.0;\"/><line style=\"stroke: #383838; stroke-width: 2.0;\" x1=\"629.68\" x2=\"629.68\" y1=\"265\" y2=\"251\"/></a><!--MD5=[6bdd27f9905911a7e892a3dc65cf6b7c]\n",
       "link E7 to E4--><a href=\"psysml:895bc16e-261f-455c-84ef-7cbef2b79206\" target=\"_top\" title=\"psysml:895bc16e-261f-455c-84ef-7cbef2b79206\" xlink:actuate=\"onRequest\" xlink:href=\"psysml:895bc16e-261f-455c-84ef-7cbef2b79206\" xlink:show=\"new\" xlink:title=\"psysml:895bc16e-261f-455c-84ef-7cbef2b79206\" xlink:type=\"simple\"><path d=\"M530.54,142.15 C550.87,139.62 574.61,136.67 597.8,133.78 \" fill=\"none\" id=\"E7-&gt;E4\" style=\"stroke: #383838; stroke-width: 1.0;\"/><polygon fill=\"#FFFFFF\" points=\"617.93,131.27,599.9408,140.5646,598.2105,126.672,617.93,131.27\" style=\"stroke: #383838; stroke-width: 1.0;\"/><line style=\"stroke: #383838; stroke-width: 2.0;\" x1=\"596.17\" x2=\"594.4396\" y1=\"141.0343\" y2=\"127.1416\"/></a><!--MD5=[1ccb2481ffa92f8d51a74ee30c51832a]\n",
       "link E8 to E5--><a href=\"psysml:8c509f82-013b-4383-9ee5-07fa63a1b780\" target=\"_top\" title=\"psysml:8c509f82-013b-4383-9ee5-07fa63a1b780\" xlink:actuate=\"onRequest\" xlink:href=\"psysml:8c509f82-013b-4383-9ee5-07fa63a1b780\" xlink:show=\"new\" xlink:title=\"psysml:8c509f82-013b-4383-9ee5-07fa63a1b780\" xlink:type=\"simple\"><path d=\"M315.4476,264.645 C315.6697,264.7553 315.8912,264.8666 316.1122,264.979 C317.8802,265.8781 319.6145,266.8452 321.311,267.8836 C324.7038,269.9605 327.945,272.3231 331,275 C347.93,289.83 322.94,309.23 339,325 C341.6506,327.6025 344.4842,329.9567 347.4681,332.0832 C348.9601,333.1465 350.4897,334.1529 352.0528,335.105 C352.8343,335.581 353.6242,336.0435 354.422,336.4927 \" fill=\"none\" id=\"E8-&gt;E5\" style=\"stroke: #383838; stroke-width: 1.0;\"/><polygon fill=\"#FFFFFF\" points=\"354.422,336.4927,341.3003,321.0713,334.4316,333.2705,354.422,336.4927\" style=\"stroke: #383838; stroke-width: 1.0;\"/></a><!--MD5=[c2be97adba6ddfe1c8f349fab141c927]\n",
       "link E9 to E4--><a href=\"psysml:a0ec1df7-1b05-4d8f-b92a-b996d3ea1089\" target=\"_top\" title=\"psysml:a0ec1df7-1b05-4d8f-b92a-b996d3ea1089\" xlink:actuate=\"onRequest\" xlink:href=\"psysml:a0ec1df7-1b05-4d8f-b92a-b996d3ea1089\" xlink:show=\"new\" xlink:title=\"psysml:a0ec1df7-1b05-4d8f-b92a-b996d3ea1089\" xlink:type=\"simple\"><path d=\"M291.31,124.25 C306.98,118.38 323.16,113.34 339,110 C424.74,91.94 524.43,96.84 597.38,105.03 \" fill=\"none\" id=\"E9-&gt;E4\" style=\"stroke: #383838; stroke-width: 1.0;\"/><polygon fill=\"#FFFFFF\" points=\"617.68,107.47,597.9807,112.1536,599.6507,98.2535,617.68,107.47\" style=\"stroke: #383838; stroke-width: 1.0;\"/><line style=\"stroke: #383838; stroke-width: 2.0;\" x1=\"594.2078\" x2=\"595.8778\" y1=\"111.7003\" y2=\"97.8003\"/></a><!--MD5=[4844fff615765f04f5cadd57417fdb4a]\n",
       "@startuml\r\n",
       "skinparam ranksep 10\r\n",
       "skinparam rectangle {\r\n",
       " backgroundColor<<block>> LightGreen\r\n",
       "}\r\n",
       "left to right direction\r\n",
       "skinparam monochrome true\r\n",
       "skinparam classbackgroundcolor white\r\n",
       "skinparam shadowing false\r\n",
       "skinparam wrapWidth 300\r\n",
       "hide circle\r\n",
       "\r\n",
       "package \"Packets\" as E1  [[psysml:781596e5-2fdd-47e5-84a9-0e1e2d017791 ]]  {\r\n",
       "def \"DateTime\" as E2  <<(T,blue)attribute def>> [[psysml:09967ea5-e8af-470d-92d0-5553b1044725 ]] \r\n",
       "comp usage \"packet header\" as E3  <<(T,blue)attribute>> [[psysml:16b22f80-f2ca-4440-a25c-8e72c7cab96e ]] {\r\n",
       "}\r\n",
       "comp usage \"packet data field\" as E4  <<(T,blue)attribute>> [[psysml:7e904c0e-d2a4-45ad-bef1-7051678b2240 ]] {\r\n",
       "- - attributes - -\r\n",
       "packet secondary header\\n//:>>Packets::packet header// \r\n",
       "user data field\r\n",
       "}\r\n",
       "rec def \"Data Packet\" as E5  <<(T,blue)part def>> [[psysml:7a510d36-5831-409f-9d62-08a185df40ba ]] {\r\n",
       "comp usage \"packet primary header\" as E6  <<(T,blue)attribute>> [[psysml:8bac5b56-bd53-4c22-88f8-0cbcb8384e0b ]] {\r\n",
       "- - attributes - -\r\n",
       "packet data length: Integer\r\n",
       "packet identification: String\r\n",
       "packet version number: Integer\r\n",
       "}\r\n",
       "comp usage \"packet data field\" as E7  <<(T,blue)attribute>> [[psysml:e649f067-3966-42a9-912a-f470df4c2484 ]] {\r\n",
       "}\r\n",
       "}\r\n",
       "rec def \"Thermal Data Packet\" as E8  <<(T,blue)part def>> [[psysml:10023c3e-6ce6-4816-9fb9-6800bd66eb89 ]] {\r\n",
       "comp usage \"packet data field\" as E9  <<(T,blue)attribute>> [[psysml:9d2256ff-aa99-47f6-ab60-2a2dbee9749e ]] {\r\n",
       "- - attributes - -\r\n",
       "packet secondary header\\n//:>>Packets::packet header// \r\n",
       "user data field\\n//:>>packet data field::user data field// \r\n",
       "}\r\n",
       "}\r\n",
       "E6 - -||> E3 [[psysml:6aaaf2f4-4b2b-4d4a-ac54-83bc6d358576 ]] \r\n",
       "E7 - -||> E4 [[psysml:895bc16e-261f-455c-84ef-7cbef2b79206 ]] \r\n",
       "E8 - -|> E5 [[psysml:8c509f82-013b-4383-9ee5-07fa63a1b780 ]] \r\n",
       "E9 - -||> E4 [[psysml:a0ec1df7-1b05-4d8f-b92a-b996d3ea1089 ]] \r\n",
       "}\r\n",
       "@enduml\r\n",
       "\n",
       "PlantUML version 1.2020.13(Sat Jun 13 12:26:38 UTC 2020)\n",
       "(EPL source distribution)\n",
       "Java Runtime: OpenJDK Runtime Environment\n",
       "JVM: OpenJDK 64-Bit Server VM\n",
       "Default Encoding: UTF-8\n",
       "Language: en\n",
       "Country: null\n",
       "--></g></svg>"
      ]
     },
     "execution_count": 19,
     "metadata": {},
     "output_type": "execute_result"
    }
   ],
   "source": [
    "%viz --style=\"LR\" --view=\"Interconnection\" \"Packets\""
   ]
  },
  {
   "cell_type": "code",
   "execution_count": 20,
   "id": "b68a40d9",
   "metadata": {
    "execution": {
     "iopub.execute_input": "2021-04-20T07:33:54.396573Z",
     "iopub.status.busy": "2021-04-20T07:33:54.396054Z",
     "iopub.status.idle": "2021-04-20T07:33:54.402416Z",
     "shell.execute_reply": "2021-04-20T07:33:54.402050Z"
    }
   },
   "outputs": [
    {
     "data": {
      "image/svg+xml": [
       "<?xml version=\"1.0\" encoding=\"UTF-8\" standalone=\"no\"?><svg xmlns=\"http://www.w3.org/2000/svg\" xmlns:xlink=\"http://www.w3.org/1999/xlink\" contentScriptType=\"application/ecmascript\" contentStyleType=\"text/css\" height=\"12px\" preserveAspectRatio=\"none\" style=\"width:12px;height:12px;\" version=\"1.1\" viewBox=\"0 0 12 12\" width=\"12px\" zoomAndPan=\"magnify\"><defs/><g><!--MD5=[7aeb398939421629f6affaa4a1a7b125]\n",
       "@startuml\r\n",
       "skinparam ranksep 8\r\n",
       "left to right direction\r\n",
       "skinparam monochrome true\r\n",
       "skinparam classbackgroundcolor white\r\n",
       "skinparam shadowing false\r\n",
       "skinparam wrapWidth 300\r\n",
       "hide circle\r\n",
       "\r\n",
       "@enduml\r\n",
       "\n",
       "PlantUML version 1.2020.13(Sat Jun 13 12:26:38 UTC 2020)\n",
       "(EPL source distribution)\n",
       "Java Runtime: OpenJDK Runtime Environment\n",
       "JVM: OpenJDK 64-Bit Server VM\n",
       "Default Encoding: UTF-8\n",
       "Language: en\n",
       "Country: null\n",
       "--></g></svg>"
      ]
     },
     "execution_count": 20,
     "metadata": {},
     "output_type": "execute_result"
    }
   ],
   "source": [
    "%viz --style=\"LR\" --view=\"Action\" \"Packets\""
   ]
  },
  {
   "cell_type": "code",
   "execution_count": 21,
   "id": "06c4852e",
   "metadata": {
    "execution": {
     "iopub.execute_input": "2021-04-20T07:33:54.457195Z",
     "iopub.status.busy": "2021-04-20T07:33:54.454972Z",
     "iopub.status.idle": "2021-04-20T07:33:54.637283Z",
     "shell.execute_reply": "2021-04-20T07:33:54.636210Z"
    }
   },
   "outputs": [
    {
     "data": {
      "image/svg+xml": [
       "<?xml version=\"1.0\" encoding=\"UTF-8\" standalone=\"no\"?><svg xmlns=\"http://www.w3.org/2000/svg\" xmlns:xlink=\"http://www.w3.org/1999/xlink\" contentScriptType=\"application/ecmascript\" contentStyleType=\"text/css\" height=\"456px\" preserveAspectRatio=\"none\" style=\"width:490px;height:456px;\" version=\"1.1\" viewBox=\"0 0 490 456\" width=\"490px\" zoomAndPan=\"magnify\"><defs/><g><!--MD5=[fbc87193dbaf4d95561dea2c320d4a47]\n",
       "cluster E1--><a href=\"psysml:781596e5-2fdd-47e5-84a9-0e1e2d017791\" target=\"_top\" title=\"psysml:781596e5-2fdd-47e5-84a9-0e1e2d017791\" xlink:actuate=\"onRequest\" xlink:href=\"psysml:781596e5-2fdd-47e5-84a9-0e1e2d017791\" xlink:show=\"new\" xlink:title=\"psysml:781596e5-2fdd-47e5-84a9-0e1e2d017791\" xlink:type=\"simple\"><polygon fill=\"#FFFFFF\" points=\"16,6,84,6,91,28.2969,468,28.2969,468,444,16,444,16,6\" style=\"stroke: #000000; stroke-width: 1.5;\"/><line style=\"stroke: #000000; stroke-width: 1.5;\" x1=\"16\" x2=\"91\" y1=\"28.2969\" y2=\"28.2969\"/><text fill=\"#000000\" font-family=\"sans-serif\" font-size=\"14\" font-weight=\"bold\" lengthAdjust=\"spacingAndGlyphs\" textLength=\"62\" x=\"20\" y=\"20.9951\">Packets</text></a><!--MD5=[b4997ac47864f28c2f74865a473b2911]\n",
       "class E2--><a href=\"psysml:09967ea5-e8af-470d-92d0-5553b1044725\" target=\"_top\" title=\"psysml:09967ea5-e8af-470d-92d0-5553b1044725\" xlink:actuate=\"onRequest\" xlink:href=\"psysml:09967ea5-e8af-470d-92d0-5553b1044725\" xlink:show=\"new\" xlink:title=\"psysml:09967ea5-e8af-470d-92d0-5553b1044725\" xlink:type=\"simple\"><rect fill=\"#FFFFFF\" height=\"45.9375\" id=\"E2\" style=\"stroke: #383838; stroke-width: 1.5;\" width=\"95\" x=\"74.5\" y=\"41\"/><text fill=\"#000000\" font-family=\"sans-serif\" font-size=\"12\" font-style=\"italic\" lengthAdjust=\"spacingAndGlyphs\" textLength=\"93\" x=\"75.5\" y=\"57.1387\">«attribute def»</text><text fill=\"#000000\" font-family=\"sans-serif\" font-size=\"12\" lengthAdjust=\"spacingAndGlyphs\" textLength=\"59\" x=\"92.5\" y=\"71.1074\">DateTime</text><line style=\"stroke: #383838; stroke-width: 1.5;\" x1=\"75.5\" x2=\"168.5\" y1=\"78.9375\" y2=\"78.9375\"/></a><!--MD5=[09b614a08d8cba4a07c9adeb5e0fee81]\n",
       "class E3--><a href=\"psysml:16b22f80-f2ca-4440-a25c-8e72c7cab96e\" target=\"_top\" title=\"psysml:16b22f80-f2ca-4440-a25c-8e72c7cab96e\" xlink:actuate=\"onRequest\" xlink:href=\"psysml:16b22f80-f2ca-4440-a25c-8e72c7cab96e\" xlink:show=\"new\" xlink:title=\"psysml:16b22f80-f2ca-4440-a25c-8e72c7cab96e\" xlink:type=\"simple\"><rect fill=\"#FFFFFF\" height=\"45.9375\" id=\"E3\" rx=\"10\" ry=\"10\" style=\"stroke: #383838; stroke-width: 1.5;\" width=\"98\" x=\"73\" y=\"122\"/><text fill=\"#000000\" font-family=\"sans-serif\" font-size=\"12\" font-style=\"italic\" lengthAdjust=\"spacingAndGlyphs\" textLength=\"69\" x=\"87.5\" y=\"138.1387\">«attribute»</text><text fill=\"#000000\" font-family=\"sans-serif\" font-size=\"12\" lengthAdjust=\"spacingAndGlyphs\" textLength=\"92\" x=\"76\" y=\"152.1074\">packet header</text><line style=\"stroke: #383838; stroke-width: 1.5;\" x1=\"74\" x2=\"170\" y1=\"159.9375\" y2=\"159.9375\"/></a><!--MD5=[ebbe1d658d1005bcc118a6aa81145e00]\n",
       "class E4--><a href=\"psysml:7e904c0e-d2a4-45ad-bef1-7051678b2240\" target=\"_top\" title=\"psysml:7e904c0e-d2a4-45ad-bef1-7051678b2240\" xlink:actuate=\"onRequest\" xlink:href=\"psysml:7e904c0e-d2a4-45ad-bef1-7051678b2240\" xlink:show=\"new\" xlink:title=\"psysml:7e904c0e-d2a4-45ad-bef1-7051678b2240\" xlink:type=\"simple\"><rect fill=\"#FFFFFF\" height=\"101.1563\" id=\"E4\" rx=\"10\" ry=\"10\" style=\"stroke: #383838; stroke-width: 1.5;\" width=\"167\" x=\"38.5\" y=\"203.5\"/><text fill=\"#000000\" font-family=\"sans-serif\" font-size=\"12\" font-style=\"italic\" lengthAdjust=\"spacingAndGlyphs\" textLength=\"69\" x=\"87.5\" y=\"219.6387\">«attribute»</text><text fill=\"#000000\" font-family=\"sans-serif\" font-size=\"12\" lengthAdjust=\"spacingAndGlyphs\" textLength=\"106\" x=\"69\" y=\"233.6074\">packet data field</text><line style=\"stroke: #383838; stroke-width: 1.5;\" x1=\"39.5\" x2=\"204.5\" y1=\"241.4375\" y2=\"241.4375\"/><text fill=\"#000000\" font-family=\"sans-serif\" font-size=\"11\" lengthAdjust=\"spacingAndGlyphs\" textLength=\"144\" x=\"44.5\" y=\"272.4526\">packet secondary header</text><text fill=\"#000000\" font-family=\"sans-serif\" font-size=\"11\" font-style=\"italic\" lengthAdjust=\"spacingAndGlyphs\" textLength=\"155\" x=\"44.5\" y=\"285.2573\">:&gt;&gt;Packets::packet header</text><text fill=\"#000000\" font-family=\"sans-serif\" font-size=\"11\" lengthAdjust=\"spacingAndGlyphs\" textLength=\"83\" x=\"44.5\" y=\"298.062\">user data field</text><line style=\"stroke: #383838; stroke-width: 1.0;\" x1=\"39.5\" x2=\"94.5\" y1=\"255.8398\" y2=\"255.8398\"/><text fill=\"#000000\" font-family=\"sans-serif\" font-size=\"11\" lengthAdjust=\"spacingAndGlyphs\" textLength=\"55\" x=\"94.5\" y=\"259.1479\">attributes</text><line style=\"stroke: #383838; stroke-width: 1.0;\" x1=\"149.5\" x2=\"204.5\" y1=\"255.8398\" y2=\"255.8398\"/></a><!--MD5=[270fce915f116d4de14055a7c1d9a0f3]\n",
       "class E5--><a href=\"psysml:7a510d36-5831-409f-9d62-08a185df40ba\" target=\"_top\" title=\"psysml:7a510d36-5831-409f-9d62-08a185df40ba\" xlink:actuate=\"onRequest\" xlink:href=\"psysml:7a510d36-5831-409f-9d62-08a185df40ba\" xlink:show=\"new\" xlink:title=\"psysml:7a510d36-5831-409f-9d62-08a185df40ba\" xlink:type=\"simple\"><rect fill=\"#FFFFFF\" height=\"113.9609\" id=\"E5\" style=\"stroke: #383838; stroke-width: 1.5;\" width=\"180\" x=\"272\" y=\"314\"/><text fill=\"#000000\" font-family=\"sans-serif\" font-size=\"12\" font-style=\"italic\" lengthAdjust=\"spacingAndGlyphs\" textLength=\"64\" x=\"330\" y=\"330.1387\">«part def»</text><text fill=\"#000000\" font-family=\"sans-serif\" font-size=\"12\" lengthAdjust=\"spacingAndGlyphs\" textLength=\"77\" x=\"323.5\" y=\"344.1074\">Data Packet</text><line style=\"stroke: #383838; stroke-width: 1.5;\" x1=\"273\" x2=\"451\" y1=\"351.9375\" y2=\"351.9375\"/><text fill=\"#000000\" font-family=\"sans-serif\" font-size=\"11\" lengthAdjust=\"spacingAndGlyphs\" textLength=\"94\" x=\"278\" y=\"382.9526\">packet data field</text><text fill=\"#000000\" font-family=\"sans-serif\" font-size=\"11\" font-style=\"italic\" lengthAdjust=\"spacingAndGlyphs\" textLength=\"168\" x=\"278\" y=\"395.7573\">:&gt;&gt;Packets::packet data field</text><text fill=\"#000000\" font-family=\"sans-serif\" font-size=\"11\" lengthAdjust=\"spacingAndGlyphs\" textLength=\"129\" x=\"278\" y=\"408.562\">packet primary header</text><text fill=\"#000000\" font-family=\"sans-serif\" font-size=\"11\" font-style=\"italic\" lengthAdjust=\"spacingAndGlyphs\" textLength=\"155\" x=\"278\" y=\"421.3667\">:&gt;&gt;Packets::packet header</text><line style=\"stroke: #383838; stroke-width: 1.0;\" x1=\"273\" x2=\"334.5\" y1=\"366.3398\" y2=\"366.3398\"/><text fill=\"#000000\" font-family=\"sans-serif\" font-size=\"11\" lengthAdjust=\"spacingAndGlyphs\" textLength=\"55\" x=\"334.5\" y=\"369.6479\">attributes</text><line style=\"stroke: #383838; stroke-width: 1.0;\" x1=\"389.5\" x2=\"451\" y1=\"366.3398\" y2=\"366.3398\"/></a><!--MD5=[60a26617385b1d2d0262a64233df1f8d]\n",
       "class E6--><a href=\"psysml:10023c3e-6ce6-4816-9fb9-6800bd66eb89\" target=\"_top\" title=\"psysml:10023c3e-6ce6-4816-9fb9-6800bd66eb89\" xlink:actuate=\"onRequest\" xlink:href=\"psysml:10023c3e-6ce6-4816-9fb9-6800bd66eb89\" xlink:show=\"new\" xlink:title=\"psysml:10023c3e-6ce6-4816-9fb9-6800bd66eb89\" xlink:type=\"simple\"><rect fill=\"#FFFFFF\" height=\"88.3516\" id=\"E6\" style=\"stroke: #383838; stroke-width: 1.5;\" width=\"180\" x=\"32\" y=\"340\"/><text fill=\"#000000\" font-family=\"sans-serif\" font-size=\"12\" font-style=\"italic\" lengthAdjust=\"spacingAndGlyphs\" textLength=\"64\" x=\"90\" y=\"356.1387\">«part def»</text><text fill=\"#000000\" font-family=\"sans-serif\" font-size=\"12\" lengthAdjust=\"spacingAndGlyphs\" textLength=\"131\" x=\"56.5\" y=\"370.1074\">Thermal Data Packet</text><line style=\"stroke: #383838; stroke-width: 1.5;\" x1=\"33\" x2=\"211\" y1=\"377.9375\" y2=\"377.9375\"/><text fill=\"#000000\" font-family=\"sans-serif\" font-size=\"11\" lengthAdjust=\"spacingAndGlyphs\" textLength=\"94\" x=\"38\" y=\"408.9526\">packet data field</text><text fill=\"#000000\" font-family=\"sans-serif\" font-size=\"11\" font-style=\"italic\" lengthAdjust=\"spacingAndGlyphs\" textLength=\"168\" x=\"38\" y=\"421.7573\">:&gt;&gt;Packets::packet data field</text><line style=\"stroke: #383838; stroke-width: 1.0;\" x1=\"33\" x2=\"94.5\" y1=\"392.3398\" y2=\"392.3398\"/><text fill=\"#000000\" font-family=\"sans-serif\" font-size=\"11\" lengthAdjust=\"spacingAndGlyphs\" textLength=\"55\" x=\"94.5\" y=\"395.6479\">attributes</text><line style=\"stroke: #383838; stroke-width: 1.0;\" x1=\"149.5\" x2=\"211\" y1=\"392.3398\" y2=\"392.3398\"/></a><!--MD5=[25b190c987b1e74e5126d372c5a73af1]\n",
       "link E6 to E5--><a href=\"psysml:8c509f82-013b-4383-9ee5-07fa63a1b780\" target=\"_top\" title=\"psysml:8c509f82-013b-4383-9ee5-07fa63a1b780\" xlink:actuate=\"onRequest\" xlink:href=\"psysml:8c509f82-013b-4383-9ee5-07fa63a1b780\" xlink:show=\"new\" xlink:title=\"psysml:8c509f82-013b-4383-9ee5-07fa63a1b780\" xlink:type=\"simple\"><path d=\"M212.3,379.12 C225.11,378.42 238.41,377.7 251.56,376.98 \" fill=\"none\" id=\"E6-&gt;E5\" style=\"stroke: #383838; stroke-width: 1.0;\"/><polygon fill=\"none\" points=\"251.64,369.96,271.99,375.86,252.4,383.94,251.64,369.96\" style=\"stroke: #383838; stroke-width: 1.0;\"/></a><!--MD5=[f27064d24dca0e2b18071497c237e79b]\n",
       "@startuml\r\n",
       "left to right direction\r\n",
       "skinparam monochrome true\r\n",
       "skinparam classbackgroundcolor white\r\n",
       "skinparam shadowing false\r\n",
       "skinparam wrapWidth 300\r\n",
       "hide circle\r\n",
       "\r\n",
       "package \"Packets\" as E1  [[psysml:781596e5-2fdd-47e5-84a9-0e1e2d017791 ]]  {\r\n",
       "comp def \"DateTime\" as E2  <<(T,blue)attribute def>> [[psysml:09967ea5-e8af-470d-92d0-5553b1044725 ]] {\r\n",
       "}\r\n",
       "comp usage \"packet header\" as E3  <<(T,blue)attribute>> [[psysml:16b22f80-f2ca-4440-a25c-8e72c7cab96e ]] {\r\n",
       "}\r\n",
       "comp usage \"packet data field\" as E4  <<(T,blue)attribute>> [[psysml:7e904c0e-d2a4-45ad-bef1-7051678b2240 ]] {\r\n",
       "- - attributes - -\r\n",
       "packet secondary header\\n//:>>Packets::packet header// \r\n",
       "user data field\r\n",
       "}\r\n",
       "comp def \"Data Packet\" as E5  <<(T,blue)part def>> [[psysml:7a510d36-5831-409f-9d62-08a185df40ba ]] {\r\n",
       "- - attributes - -\r\n",
       "packet data field\\n//:>>Packets::packet data field// \r\n",
       "packet primary header\\n//:>>Packets::packet header// \r\n",
       "}\r\n",
       "comp def \"Thermal Data Packet\" as E6  <<(T,blue)part def>> [[psysml:10023c3e-6ce6-4816-9fb9-6800bd66eb89 ]] {\r\n",
       "- - attributes - -\r\n",
       "packet data field\\n//:>>Packets::packet data field// \r\n",
       "}\r\n",
       "E6 - -|> E5 [[psysml:8c509f82-013b-4383-9ee5-07fa63a1b780 ]] \r\n",
       "}\r\n",
       "@enduml\r\n",
       "\n",
       "PlantUML version 1.2020.13(Sat Jun 13 12:26:38 UTC 2020)\n",
       "(EPL source distribution)\n",
       "Java Runtime: OpenJDK Runtime Environment\n",
       "JVM: OpenJDK 64-Bit Server VM\n",
       "Default Encoding: UTF-8\n",
       "Language: en\n",
       "Country: null\n",
       "--></g></svg>"
      ]
     },
     "execution_count": 21,
     "metadata": {},
     "output_type": "execute_result"
    }
   ],
   "source": [
    "%viz --style=\"LR\" --view=\"Sequence\" \"Packets\""
   ]
  },
  {
   "cell_type": "code",
   "execution_count": 22,
   "id": "a2aa27f1",
   "metadata": {
    "execution": {
     "iopub.execute_input": "2021-04-20T07:33:54.686331Z",
     "iopub.status.busy": "2021-04-20T07:33:54.685731Z",
     "iopub.status.idle": "2021-04-20T07:33:54.867768Z",
     "shell.execute_reply": "2021-04-20T07:33:54.866382Z"
    }
   },
   "outputs": [
    {
     "data": {
      "image/svg+xml": [
       "<?xml version=\"1.0\" encoding=\"UTF-8\" standalone=\"no\"?><svg xmlns=\"http://www.w3.org/2000/svg\" xmlns:xlink=\"http://www.w3.org/1999/xlink\" contentScriptType=\"application/ecmascript\" contentStyleType=\"text/css\" height=\"456px\" preserveAspectRatio=\"none\" style=\"width:490px;height:456px;\" version=\"1.1\" viewBox=\"0 0 490 456\" width=\"490px\" zoomAndPan=\"magnify\"><defs/><g><!--MD5=[fbc87193dbaf4d95561dea2c320d4a47]\n",
       "cluster E1--><a href=\"psysml:781596e5-2fdd-47e5-84a9-0e1e2d017791\" target=\"_top\" title=\"psysml:781596e5-2fdd-47e5-84a9-0e1e2d017791\" xlink:actuate=\"onRequest\" xlink:href=\"psysml:781596e5-2fdd-47e5-84a9-0e1e2d017791\" xlink:show=\"new\" xlink:title=\"psysml:781596e5-2fdd-47e5-84a9-0e1e2d017791\" xlink:type=\"simple\"><polygon fill=\"#FFFFFF\" points=\"16,6,84,6,91,28.2969,468,28.2969,468,444,16,444,16,6\" style=\"stroke: #000000; stroke-width: 1.5;\"/><line style=\"stroke: #000000; stroke-width: 1.5;\" x1=\"16\" x2=\"91\" y1=\"28.2969\" y2=\"28.2969\"/><text fill=\"#000000\" font-family=\"sans-serif\" font-size=\"14\" font-weight=\"bold\" lengthAdjust=\"spacingAndGlyphs\" textLength=\"62\" x=\"20\" y=\"20.9951\">Packets</text></a><!--MD5=[b4997ac47864f28c2f74865a473b2911]\n",
       "class E2--><a href=\"psysml:09967ea5-e8af-470d-92d0-5553b1044725\" target=\"_top\" title=\"psysml:09967ea5-e8af-470d-92d0-5553b1044725\" xlink:actuate=\"onRequest\" xlink:href=\"psysml:09967ea5-e8af-470d-92d0-5553b1044725\" xlink:show=\"new\" xlink:title=\"psysml:09967ea5-e8af-470d-92d0-5553b1044725\" xlink:type=\"simple\"><rect fill=\"#FFFFFF\" height=\"45.9375\" id=\"E2\" style=\"stroke: #383838; stroke-width: 1.5;\" width=\"95\" x=\"74.5\" y=\"41\"/><text fill=\"#000000\" font-family=\"sans-serif\" font-size=\"12\" font-style=\"italic\" lengthAdjust=\"spacingAndGlyphs\" textLength=\"93\" x=\"75.5\" y=\"57.1387\">«attribute def»</text><text fill=\"#000000\" font-family=\"sans-serif\" font-size=\"12\" lengthAdjust=\"spacingAndGlyphs\" textLength=\"59\" x=\"92.5\" y=\"71.1074\">DateTime</text><line style=\"stroke: #383838; stroke-width: 1.5;\" x1=\"75.5\" x2=\"168.5\" y1=\"78.9375\" y2=\"78.9375\"/></a><!--MD5=[09b614a08d8cba4a07c9adeb5e0fee81]\n",
       "class E3--><a href=\"psysml:16b22f80-f2ca-4440-a25c-8e72c7cab96e\" target=\"_top\" title=\"psysml:16b22f80-f2ca-4440-a25c-8e72c7cab96e\" xlink:actuate=\"onRequest\" xlink:href=\"psysml:16b22f80-f2ca-4440-a25c-8e72c7cab96e\" xlink:show=\"new\" xlink:title=\"psysml:16b22f80-f2ca-4440-a25c-8e72c7cab96e\" xlink:type=\"simple\"><rect fill=\"#FFFFFF\" height=\"45.9375\" id=\"E3\" rx=\"10\" ry=\"10\" style=\"stroke: #383838; stroke-width: 1.5;\" width=\"98\" x=\"73\" y=\"122\"/><text fill=\"#000000\" font-family=\"sans-serif\" font-size=\"12\" font-style=\"italic\" lengthAdjust=\"spacingAndGlyphs\" textLength=\"69\" x=\"87.5\" y=\"138.1387\">«attribute»</text><text fill=\"#000000\" font-family=\"sans-serif\" font-size=\"12\" lengthAdjust=\"spacingAndGlyphs\" textLength=\"92\" x=\"76\" y=\"152.1074\">packet header</text><line style=\"stroke: #383838; stroke-width: 1.5;\" x1=\"74\" x2=\"170\" y1=\"159.9375\" y2=\"159.9375\"/></a><!--MD5=[ebbe1d658d1005bcc118a6aa81145e00]\n",
       "class E4--><a href=\"psysml:7e904c0e-d2a4-45ad-bef1-7051678b2240\" target=\"_top\" title=\"psysml:7e904c0e-d2a4-45ad-bef1-7051678b2240\" xlink:actuate=\"onRequest\" xlink:href=\"psysml:7e904c0e-d2a4-45ad-bef1-7051678b2240\" xlink:show=\"new\" xlink:title=\"psysml:7e904c0e-d2a4-45ad-bef1-7051678b2240\" xlink:type=\"simple\"><rect fill=\"#FFFFFF\" height=\"101.1563\" id=\"E4\" rx=\"10\" ry=\"10\" style=\"stroke: #383838; stroke-width: 1.5;\" width=\"167\" x=\"38.5\" y=\"203.5\"/><text fill=\"#000000\" font-family=\"sans-serif\" font-size=\"12\" font-style=\"italic\" lengthAdjust=\"spacingAndGlyphs\" textLength=\"69\" x=\"87.5\" y=\"219.6387\">«attribute»</text><text fill=\"#000000\" font-family=\"sans-serif\" font-size=\"12\" lengthAdjust=\"spacingAndGlyphs\" textLength=\"106\" x=\"69\" y=\"233.6074\">packet data field</text><line style=\"stroke: #383838; stroke-width: 1.5;\" x1=\"39.5\" x2=\"204.5\" y1=\"241.4375\" y2=\"241.4375\"/><text fill=\"#000000\" font-family=\"sans-serif\" font-size=\"11\" lengthAdjust=\"spacingAndGlyphs\" textLength=\"144\" x=\"44.5\" y=\"272.4526\">packet secondary header</text><text fill=\"#000000\" font-family=\"sans-serif\" font-size=\"11\" font-style=\"italic\" lengthAdjust=\"spacingAndGlyphs\" textLength=\"155\" x=\"44.5\" y=\"285.2573\">:&gt;&gt;Packets::packet header</text><text fill=\"#000000\" font-family=\"sans-serif\" font-size=\"11\" lengthAdjust=\"spacingAndGlyphs\" textLength=\"83\" x=\"44.5\" y=\"298.062\">user data field</text><line style=\"stroke: #383838; stroke-width: 1.0;\" x1=\"39.5\" x2=\"94.5\" y1=\"255.8398\" y2=\"255.8398\"/><text fill=\"#000000\" font-family=\"sans-serif\" font-size=\"11\" lengthAdjust=\"spacingAndGlyphs\" textLength=\"55\" x=\"94.5\" y=\"259.1479\">attributes</text><line style=\"stroke: #383838; stroke-width: 1.0;\" x1=\"149.5\" x2=\"204.5\" y1=\"255.8398\" y2=\"255.8398\"/></a><!--MD5=[270fce915f116d4de14055a7c1d9a0f3]\n",
       "class E5--><a href=\"psysml:7a510d36-5831-409f-9d62-08a185df40ba\" target=\"_top\" title=\"psysml:7a510d36-5831-409f-9d62-08a185df40ba\" xlink:actuate=\"onRequest\" xlink:href=\"psysml:7a510d36-5831-409f-9d62-08a185df40ba\" xlink:show=\"new\" xlink:title=\"psysml:7a510d36-5831-409f-9d62-08a185df40ba\" xlink:type=\"simple\"><rect fill=\"#FFFFFF\" height=\"113.9609\" id=\"E5\" style=\"stroke: #383838; stroke-width: 1.5;\" width=\"180\" x=\"272\" y=\"314\"/><text fill=\"#000000\" font-family=\"sans-serif\" font-size=\"12\" font-style=\"italic\" lengthAdjust=\"spacingAndGlyphs\" textLength=\"64\" x=\"330\" y=\"330.1387\">«part def»</text><text fill=\"#000000\" font-family=\"sans-serif\" font-size=\"12\" lengthAdjust=\"spacingAndGlyphs\" textLength=\"77\" x=\"323.5\" y=\"344.1074\">Data Packet</text><line style=\"stroke: #383838; stroke-width: 1.5;\" x1=\"273\" x2=\"451\" y1=\"351.9375\" y2=\"351.9375\"/><text fill=\"#000000\" font-family=\"sans-serif\" font-size=\"11\" lengthAdjust=\"spacingAndGlyphs\" textLength=\"94\" x=\"278\" y=\"382.9526\">packet data field</text><text fill=\"#000000\" font-family=\"sans-serif\" font-size=\"11\" font-style=\"italic\" lengthAdjust=\"spacingAndGlyphs\" textLength=\"168\" x=\"278\" y=\"395.7573\">:&gt;&gt;Packets::packet data field</text><text fill=\"#000000\" font-family=\"sans-serif\" font-size=\"11\" lengthAdjust=\"spacingAndGlyphs\" textLength=\"129\" x=\"278\" y=\"408.562\">packet primary header</text><text fill=\"#000000\" font-family=\"sans-serif\" font-size=\"11\" font-style=\"italic\" lengthAdjust=\"spacingAndGlyphs\" textLength=\"155\" x=\"278\" y=\"421.3667\">:&gt;&gt;Packets::packet header</text><line style=\"stroke: #383838; stroke-width: 1.0;\" x1=\"273\" x2=\"334.5\" y1=\"366.3398\" y2=\"366.3398\"/><text fill=\"#000000\" font-family=\"sans-serif\" font-size=\"11\" lengthAdjust=\"spacingAndGlyphs\" textLength=\"55\" x=\"334.5\" y=\"369.6479\">attributes</text><line style=\"stroke: #383838; stroke-width: 1.0;\" x1=\"389.5\" x2=\"451\" y1=\"366.3398\" y2=\"366.3398\"/></a><!--MD5=[60a26617385b1d2d0262a64233df1f8d]\n",
       "class E6--><a href=\"psysml:10023c3e-6ce6-4816-9fb9-6800bd66eb89\" target=\"_top\" title=\"psysml:10023c3e-6ce6-4816-9fb9-6800bd66eb89\" xlink:actuate=\"onRequest\" xlink:href=\"psysml:10023c3e-6ce6-4816-9fb9-6800bd66eb89\" xlink:show=\"new\" xlink:title=\"psysml:10023c3e-6ce6-4816-9fb9-6800bd66eb89\" xlink:type=\"simple\"><rect fill=\"#FFFFFF\" height=\"88.3516\" id=\"E6\" style=\"stroke: #383838; stroke-width: 1.5;\" width=\"180\" x=\"32\" y=\"340\"/><text fill=\"#000000\" font-family=\"sans-serif\" font-size=\"12\" font-style=\"italic\" lengthAdjust=\"spacingAndGlyphs\" textLength=\"64\" x=\"90\" y=\"356.1387\">«part def»</text><text fill=\"#000000\" font-family=\"sans-serif\" font-size=\"12\" lengthAdjust=\"spacingAndGlyphs\" textLength=\"131\" x=\"56.5\" y=\"370.1074\">Thermal Data Packet</text><line style=\"stroke: #383838; stroke-width: 1.5;\" x1=\"33\" x2=\"211\" y1=\"377.9375\" y2=\"377.9375\"/><text fill=\"#000000\" font-family=\"sans-serif\" font-size=\"11\" lengthAdjust=\"spacingAndGlyphs\" textLength=\"94\" x=\"38\" y=\"408.9526\">packet data field</text><text fill=\"#000000\" font-family=\"sans-serif\" font-size=\"11\" font-style=\"italic\" lengthAdjust=\"spacingAndGlyphs\" textLength=\"168\" x=\"38\" y=\"421.7573\">:&gt;&gt;Packets::packet data field</text><line style=\"stroke: #383838; stroke-width: 1.0;\" x1=\"33\" x2=\"94.5\" y1=\"392.3398\" y2=\"392.3398\"/><text fill=\"#000000\" font-family=\"sans-serif\" font-size=\"11\" lengthAdjust=\"spacingAndGlyphs\" textLength=\"55\" x=\"94.5\" y=\"395.6479\">attributes</text><line style=\"stroke: #383838; stroke-width: 1.0;\" x1=\"149.5\" x2=\"211\" y1=\"392.3398\" y2=\"392.3398\"/></a><!--MD5=[25b190c987b1e74e5126d372c5a73af1]\n",
       "link E6 to E5--><a href=\"psysml:8c509f82-013b-4383-9ee5-07fa63a1b780\" target=\"_top\" title=\"psysml:8c509f82-013b-4383-9ee5-07fa63a1b780\" xlink:actuate=\"onRequest\" xlink:href=\"psysml:8c509f82-013b-4383-9ee5-07fa63a1b780\" xlink:show=\"new\" xlink:title=\"psysml:8c509f82-013b-4383-9ee5-07fa63a1b780\" xlink:type=\"simple\"><path d=\"M212.3,379.12 C225.11,378.42 238.41,377.7 251.56,376.98 \" fill=\"none\" id=\"E6-&gt;E5\" style=\"stroke: #383838; stroke-width: 1.0;\"/><polygon fill=\"none\" points=\"251.64,369.96,271.99,375.86,252.4,383.94,251.64,369.96\" style=\"stroke: #383838; stroke-width: 1.0;\"/></a><!--MD5=[f27064d24dca0e2b18071497c237e79b]\n",
       "@startuml\r\n",
       "left to right direction\r\n",
       "skinparam monochrome true\r\n",
       "skinparam classbackgroundcolor white\r\n",
       "skinparam shadowing false\r\n",
       "skinparam wrapWidth 300\r\n",
       "hide circle\r\n",
       "\r\n",
       "package \"Packets\" as E1  [[psysml:781596e5-2fdd-47e5-84a9-0e1e2d017791 ]]  {\r\n",
       "comp def \"DateTime\" as E2  <<(T,blue)attribute def>> [[psysml:09967ea5-e8af-470d-92d0-5553b1044725 ]] {\r\n",
       "}\r\n",
       "comp usage \"packet header\" as E3  <<(T,blue)attribute>> [[psysml:16b22f80-f2ca-4440-a25c-8e72c7cab96e ]] {\r\n",
       "}\r\n",
       "comp usage \"packet data field\" as E4  <<(T,blue)attribute>> [[psysml:7e904c0e-d2a4-45ad-bef1-7051678b2240 ]] {\r\n",
       "- - attributes - -\r\n",
       "packet secondary header\\n//:>>Packets::packet header// \r\n",
       "user data field\r\n",
       "}\r\n",
       "comp def \"Data Packet\" as E5  <<(T,blue)part def>> [[psysml:7a510d36-5831-409f-9d62-08a185df40ba ]] {\r\n",
       "- - attributes - -\r\n",
       "packet data field\\n//:>>Packets::packet data field// \r\n",
       "packet primary header\\n//:>>Packets::packet header// \r\n",
       "}\r\n",
       "comp def \"Thermal Data Packet\" as E6  <<(T,blue)part def>> [[psysml:10023c3e-6ce6-4816-9fb9-6800bd66eb89 ]] {\r\n",
       "- - attributes - -\r\n",
       "packet data field\\n//:>>Packets::packet data field// \r\n",
       "}\r\n",
       "E6 - -|> E5 [[psysml:8c509f82-013b-4383-9ee5-07fa63a1b780 ]] \r\n",
       "}\r\n",
       "@enduml\r\n",
       "\n",
       "PlantUML version 1.2020.13(Sat Jun 13 12:26:38 UTC 2020)\n",
       "(EPL source distribution)\n",
       "Java Runtime: OpenJDK Runtime Environment\n",
       "JVM: OpenJDK 64-Bit Server VM\n",
       "Default Encoding: UTF-8\n",
       "Language: en\n",
       "Country: null\n",
       "--></g></svg>"
      ]
     },
     "execution_count": 22,
     "metadata": {},
     "output_type": "execute_result"
    }
   ],
   "source": [
    "%viz --style=\"LR\" --view=\"MIXED\" \"Packets\""
   ]
  },
  {
   "cell_type": "code",
   "execution_count": 23,
   "id": "1007320e",
   "metadata": {
    "execution": {
     "iopub.execute_input": "2021-04-20T07:33:54.917195Z",
     "iopub.status.busy": "2021-04-20T07:33:54.916741Z",
     "iopub.status.idle": "2021-04-20T07:33:55.064958Z",
     "shell.execute_reply": "2021-04-20T07:33:55.064243Z"
    }
   },
   "outputs": [
    {
     "data": {
      "image/svg+xml": [
       "<?xml version=\"1.0\" encoding=\"UTF-8\" standalone=\"no\"?><svg xmlns=\"http://www.w3.org/2000/svg\" xmlns:xlink=\"http://www.w3.org/1999/xlink\" contentScriptType=\"application/ecmascript\" contentStyleType=\"text/css\" height=\"274px\" preserveAspectRatio=\"none\" style=\"width:953px;height:274px;\" version=\"1.1\" viewBox=\"0 0 953 274\" width=\"953px\" zoomAndPan=\"magnify\"><defs><filter height=\"300%\" id=\"f35oxz9c666s4\" width=\"300%\" x=\"-1\" y=\"-1\"><feGaussianBlur result=\"blurOut\" stdDeviation=\"2.0\"/><feColorMatrix in=\"blurOut\" result=\"blurOut2\" type=\"matrix\" values=\"0 0 0 0 0 0 0 0 0 0 0 0 0 0 0 0 0 0 .4 0\"/><feOffset dx=\"4.0\" dy=\"4.0\" in=\"blurOut2\" result=\"blurOut3\"/><feBlend in=\"SourceGraphic\" in2=\"blurOut3\" mode=\"normal\"/></filter></defs><g><!--MD5=[fbc87193dbaf4d95561dea2c320d4a47]\n",
       "cluster E1--><a href=\"psysml:781596e5-2fdd-47e5-84a9-0e1e2d017791\" target=\"_top\" title=\"psysml:781596e5-2fdd-47e5-84a9-0e1e2d017791\" xlink:actuate=\"onRequest\" xlink:href=\"psysml:781596e5-2fdd-47e5-84a9-0e1e2d017791\" xlink:show=\"new\" xlink:title=\"psysml:781596e5-2fdd-47e5-84a9-0e1e2d017791\" xlink:type=\"simple\"><polygon fill=\"#FFFFFF\" filter=\"url(#f35oxz9c666s4)\" points=\"16,6,84,6,91,28.2969,931,28.2969,931,262,16,262,16,6\" style=\"stroke: #000000; stroke-width: 1.5;\"/><line style=\"stroke: #000000; stroke-width: 1.5;\" x1=\"16\" x2=\"91\" y1=\"28.2969\" y2=\"28.2969\"/><text fill=\"#000000\" font-family=\"sans-serif\" font-size=\"14\" font-weight=\"bold\" lengthAdjust=\"spacingAndGlyphs\" textLength=\"62\" x=\"20\" y=\"20.9951\">Packets</text></a><!--MD5=[b4997ac47864f28c2f74865a473b2911]\n",
       "class E2--><a href=\"psysml:09967ea5-e8af-470d-92d0-5553b1044725\" target=\"_top\" title=\"psysml:09967ea5-e8af-470d-92d0-5553b1044725\" xlink:actuate=\"onRequest\" xlink:href=\"psysml:09967ea5-e8af-470d-92d0-5553b1044725\" xlink:show=\"new\" xlink:title=\"psysml:09967ea5-e8af-470d-92d0-5553b1044725\" xlink:type=\"simple\"><rect fill=\"#FEFECE\" filter=\"url(#f35oxz9c666s4)\" height=\"45.9375\" id=\"E2\" style=\"stroke: #A80036; stroke-width: 1.5;\" width=\"95\" x=\"819.5\" y=\"54\"/><text fill=\"#000000\" font-family=\"sans-serif\" font-size=\"12\" font-style=\"italic\" lengthAdjust=\"spacingAndGlyphs\" textLength=\"93\" x=\"820.5\" y=\"70.1387\">«attribute def»</text><text fill=\"#000000\" font-family=\"sans-serif\" font-size=\"12\" lengthAdjust=\"spacingAndGlyphs\" textLength=\"59\" x=\"837.5\" y=\"84.1074\">DateTime</text><line style=\"stroke: #A80036; stroke-width: 1.5;\" x1=\"820.5\" x2=\"913.5\" y1=\"91.9375\" y2=\"91.9375\"/></a><!--MD5=[09b614a08d8cba4a07c9adeb5e0fee81]\n",
       "class E3--><a href=\"psysml:16b22f80-f2ca-4440-a25c-8e72c7cab96e\" target=\"_top\" title=\"psysml:16b22f80-f2ca-4440-a25c-8e72c7cab96e\" xlink:actuate=\"onRequest\" xlink:href=\"psysml:16b22f80-f2ca-4440-a25c-8e72c7cab96e\" xlink:show=\"new\" xlink:title=\"psysml:16b22f80-f2ca-4440-a25c-8e72c7cab96e\" xlink:type=\"simple\"><rect fill=\"#FEFECE\" filter=\"url(#f35oxz9c666s4)\" height=\"45.9375\" id=\"E3\" rx=\"10\" ry=\"10\" style=\"stroke: #A80036; stroke-width: 1.5;\" width=\"98\" x=\"686\" y=\"54\"/><text fill=\"#000000\" font-family=\"sans-serif\" font-size=\"12\" font-style=\"italic\" lengthAdjust=\"spacingAndGlyphs\" textLength=\"69\" x=\"700.5\" y=\"70.1387\">«attribute»</text><text fill=\"#000000\" font-family=\"sans-serif\" font-size=\"12\" lengthAdjust=\"spacingAndGlyphs\" textLength=\"92\" x=\"689\" y=\"84.1074\">packet header</text><line style=\"stroke: #A80036; stroke-width: 1.5;\" x1=\"687\" x2=\"783\" y1=\"91.9375\" y2=\"91.9375\"/></a><!--MD5=[ebbe1d658d1005bcc118a6aa81145e00]\n",
       "class E4--><a href=\"psysml:7e904c0e-d2a4-45ad-bef1-7051678b2240\" target=\"_top\" title=\"psysml:7e904c0e-d2a4-45ad-bef1-7051678b2240\" xlink:actuate=\"onRequest\" xlink:href=\"psysml:7e904c0e-d2a4-45ad-bef1-7051678b2240\" xlink:show=\"new\" xlink:title=\"psysml:7e904c0e-d2a4-45ad-bef1-7051678b2240\" xlink:type=\"simple\"><rect fill=\"#FEFECE\" filter=\"url(#f35oxz9c666s4)\" height=\"72.4922\" id=\"E4\" rx=\"10\" ry=\"10\" style=\"stroke: #A80036; stroke-width: 1.5;\" width=\"310\" x=\"341\" y=\"41\"/><text fill=\"#000000\" font-family=\"sans-serif\" font-size=\"12\" font-style=\"italic\" lengthAdjust=\"spacingAndGlyphs\" textLength=\"69\" x=\"461.5\" y=\"57.1387\">«attribute»</text><text fill=\"#000000\" font-family=\"sans-serif\" font-size=\"12\" lengthAdjust=\"spacingAndGlyphs\" textLength=\"106\" x=\"443\" y=\"71.1074\">packet data field</text><line style=\"stroke: #A80036; stroke-width: 1.5;\" x1=\"342\" x2=\"650\" y1=\"78.9375\" y2=\"78.9375\"/><path d=\"M348.9167,83.8542 L348.9167,93.0208 L349.8333,93.0208 L349.8333,83.8542 M352.5833,83.8542 L352.5833,93.0208 L359.9167,88.4375 L352.5833,83.8542 L353.5,85.2292 L358.5417,88.4375 L353.5,91.6458 L353.5,85.2292 \" fill=\"#000000\" style=\"stroke: ; stroke-width: 0.0; stroke-dasharray: ;\"/><text fill=\"#000000\" font-family=\"sans-serif\" font-size=\"11\" lengthAdjust=\"spacingAndGlyphs\" textLength=\"144\" x=\"364\" y=\"94.0933\">packet secondary header</text><text fill=\"#000000\" font-family=\"sans-serif\" font-size=\"11\" lengthAdjust=\"spacingAndGlyphs\" text-decoration=\"line-through\" textLength=\"133\" x=\"512\" y=\"94.0933\">Packets::packet header</text><text fill=\"#000000\" font-family=\"sans-serif\" font-size=\"11\" lengthAdjust=\"spacingAndGlyphs\" textLength=\"83\" x=\"347\" y=\"106.8979\">user data field</text></a><!--MD5=[270fce915f116d4de14055a7c1d9a0f3]\n",
       "class E5--><a href=\"psysml:7a510d36-5831-409f-9d62-08a185df40ba\" target=\"_top\" title=\"psysml:7a510d36-5831-409f-9d62-08a185df40ba\" xlink:actuate=\"onRequest\" xlink:href=\"psysml:7a510d36-5831-409f-9d62-08a185df40ba\" xlink:show=\"new\" xlink:title=\"psysml:7a510d36-5831-409f-9d62-08a185df40ba\" xlink:type=\"simple\"><rect fill=\"#FEFECE\" filter=\"url(#f35oxz9c666s4)\" height=\"73.4375\" id=\"E5\" style=\"stroke: #A80036; stroke-width: 1.5;\" width=\"295\" x=\"32.5\" y=\"173\"/><text fill=\"#000000\" font-family=\"sans-serif\" font-size=\"12\" font-style=\"italic\" lengthAdjust=\"spacingAndGlyphs\" textLength=\"64\" x=\"148\" y=\"189.1387\">«part def»</text><text fill=\"#000000\" font-family=\"sans-serif\" font-size=\"12\" lengthAdjust=\"spacingAndGlyphs\" textLength=\"77\" x=\"141.5\" y=\"203.1074\">Data Packet</text><line style=\"stroke: #A80036; stroke-width: 1.5;\" x1=\"33.5\" x2=\"326.5\" y1=\"210.9375\" y2=\"210.9375\"/><path d=\"M40.4167,215.8542 L40.4167,225.0208 L41.3333,225.0208 L41.3333,215.8542 M44.0833,215.8542 L44.0833,225.0208 L51.4167,220.4375 L44.0833,215.8542 L45,217.2292 L50.0417,220.4375 L45,223.6458 L45,217.2292 \" fill=\"#000000\" style=\"stroke: ; stroke-width: 0.0; stroke-dasharray: ;\"/><text fill=\"#000000\" font-family=\"sans-serif\" font-size=\"11\" lengthAdjust=\"spacingAndGlyphs\" textLength=\"94\" x=\"55.5\" y=\"226.0933\">packet data field</text><text fill=\"#000000\" font-family=\"sans-serif\" font-size=\"11\" lengthAdjust=\"spacingAndGlyphs\" text-decoration=\"line-through\" textLength=\"146\" x=\"153.5\" y=\"226.0933\">Packets::packet data field</text><path d=\"M40.4167,229.6042 L40.4167,238.7708 L41.3333,238.7708 L41.3333,229.6042 M44.0833,229.6042 L44.0833,238.7708 L51.4167,234.1875 L44.0833,229.6042 L45,230.9792 L50.0417,234.1875 L45,237.3958 L45,230.9792 \" fill=\"#000000\" style=\"stroke: ; stroke-width: 0.0; stroke-dasharray: ;\"/><text fill=\"#000000\" font-family=\"sans-serif\" font-size=\"11\" lengthAdjust=\"spacingAndGlyphs\" textLength=\"129\" x=\"55.5\" y=\"239.8433\">packet primary header</text><text fill=\"#000000\" font-family=\"sans-serif\" font-size=\"11\" lengthAdjust=\"spacingAndGlyphs\" text-decoration=\"line-through\" textLength=\"133\" x=\"188.5\" y=\"239.8433\">Packets::packet header</text></a><!--MD5=[60a26617385b1d2d0262a64233df1f8d]\n",
       "class E6--><a href=\"psysml:10023c3e-6ce6-4816-9fb9-6800bd66eb89\" target=\"_top\" title=\"psysml:10023c3e-6ce6-4816-9fb9-6800bd66eb89\" xlink:actuate=\"onRequest\" xlink:href=\"psysml:10023c3e-6ce6-4816-9fb9-6800bd66eb89\" xlink:show=\"new\" xlink:title=\"psysml:10023c3e-6ce6-4816-9fb9-6800bd66eb89\" xlink:type=\"simple\"><rect fill=\"#FEFECE\" filter=\"url(#f35oxz9c666s4)\" height=\"59.6875\" id=\"E6\" style=\"stroke: #A80036; stroke-width: 1.5;\" width=\"273\" x=\"32.5\" y=\"47\"/><text fill=\"#000000\" font-family=\"sans-serif\" font-size=\"12\" font-style=\"italic\" lengthAdjust=\"spacingAndGlyphs\" textLength=\"64\" x=\"137\" y=\"63.1387\">«part def»</text><text fill=\"#000000\" font-family=\"sans-serif\" font-size=\"12\" lengthAdjust=\"spacingAndGlyphs\" textLength=\"131\" x=\"103.5\" y=\"77.1074\">Thermal Data Packet</text><line style=\"stroke: #A80036; stroke-width: 1.5;\" x1=\"33.5\" x2=\"304.5\" y1=\"84.9375\" y2=\"84.9375\"/><path d=\"M40.4167,89.8542 L40.4167,99.0208 L41.3333,99.0208 L41.3333,89.8542 M44.0833,89.8542 L44.0833,99.0208 L51.4167,94.4375 L44.0833,89.8542 L45,91.2292 L50.0417,94.4375 L45,97.6458 L45,91.2292 \" fill=\"#000000\" style=\"stroke: ; stroke-width: 0.0; stroke-dasharray: ;\"/><text fill=\"#000000\" font-family=\"sans-serif\" font-size=\"11\" lengthAdjust=\"spacingAndGlyphs\" textLength=\"94\" x=\"55.5\" y=\"100.0933\">packet data field</text><text fill=\"#000000\" font-family=\"sans-serif\" font-size=\"11\" lengthAdjust=\"spacingAndGlyphs\" text-decoration=\"line-through\" textLength=\"146\" x=\"153.5\" y=\"100.0933\">Packets::packet data field</text></a><!--MD5=[25b190c987b1e74e5126d372c5a73af1]\n",
       "link E6 to E5--><a href=\"psysml:8c509f82-013b-4383-9ee5-07fa63a1b780\" target=\"_top\" title=\"psysml:8c509f82-013b-4383-9ee5-07fa63a1b780\" xlink:actuate=\"onRequest\" xlink:href=\"psysml:8c509f82-013b-4383-9ee5-07fa63a1b780\" xlink:show=\"new\" xlink:title=\"psysml:8c509f82-013b-4383-9ee5-07fa63a1b780\" xlink:type=\"simple\"><path d=\"M171.47,107.29 C172.6,120.69 173.98,137.04 175.29,152.66 \" fill=\"none\" id=\"E6-&gt;E5\" style=\"stroke: #A80036; stroke-width: 1.0;\"/><polygon fill=\"none\" points=\"182.29,152.28,176.99,172.8,168.34,153.46,182.29,152.28\" style=\"stroke: #A80036; stroke-width: 1.0;\"/></a><!--MD5=[3bcc2cd38495c9854c0a0ee678831bce]\n",
       "@startuml\r\n",
       "skinparam wrapWidth 300\r\n",
       "hide circle\r\n",
       "\r\n",
       "package \"Packets\" as E1  [[psysml:781596e5-2fdd-47e5-84a9-0e1e2d017791 ]]  {\r\n",
       "comp def \"DateTime\" as E2  <<(T,blue)attribute def>> [[psysml:09967ea5-e8af-470d-92d0-5553b1044725 ]] {\r\n",
       "}\r\n",
       "comp usage \"packet header\" as E3  <<(T,blue)attribute>> [[psysml:16b22f80-f2ca-4440-a25c-8e72c7cab96e ]] {\r\n",
       "}\r\n",
       "comp usage \"packet data field\" as E4  <<(T,blue)attribute>> [[psysml:7e904c0e-d2a4-45ad-bef1-7051678b2240 ]] {\r\n",
       "<&bar-trig> packet secondary header <s>Packets::packet header</s>\r\n",
       "user data field\r\n",
       "}\r\n",
       "comp def \"Data Packet\" as E5  <<(T,blue)part def>> [[psysml:7a510d36-5831-409f-9d62-08a185df40ba ]] {\r\n",
       "<&bar-trig> packet data field <s>Packets::packet data field</s>\r\n",
       "<&bar-trig> packet primary header <s>Packets::packet header</s>\r\n",
       "}\r\n",
       "comp def \"Thermal Data Packet\" as E6  <<(T,blue)part def>> [[psysml:10023c3e-6ce6-4816-9fb9-6800bd66eb89 ]] {\r\n",
       "<&bar-trig> packet data field <s>Packets::packet data field</s>\r\n",
       "}\r\n",
       "E6 - -|> E5 [[psysml:8c509f82-013b-4383-9ee5-07fa63a1b780 ]] \r\n",
       "}\r\n",
       "@enduml\r\n",
       "\n",
       "PlantUML version 1.2020.13(Sat Jun 13 12:26:38 UTC 2020)\n",
       "(EPL source distribution)\n",
       "Java Runtime: OpenJDK Runtime Environment\n",
       "JVM: OpenJDK 64-Bit Server VM\n",
       "Default Encoding: UTF-8\n",
       "Language: en\n",
       "Country: null\n",
       "--></g></svg>"
      ]
     },
     "execution_count": 23,
     "metadata": {},
     "output_type": "execute_result"
    }
   ],
   "source": [
    "%viz --style=\"STDCOLOR\" --view=\"Default\" \"Packets\""
   ]
  },
  {
   "cell_type": "code",
   "execution_count": 24,
   "id": "2a4b0ca5",
   "metadata": {
    "execution": {
     "iopub.execute_input": "2021-04-20T07:33:55.115286Z",
     "iopub.status.busy": "2021-04-20T07:33:55.114121Z",
     "iopub.status.idle": "2021-04-20T07:33:55.249722Z",
     "shell.execute_reply": "2021-04-20T07:33:55.248767Z"
    }
   },
   "outputs": [
    {
     "data": {
      "image/svg+xml": [
       "<?xml version=\"1.0\" encoding=\"UTF-8\" standalone=\"no\"?><svg xmlns=\"http://www.w3.org/2000/svg\" xmlns:xlink=\"http://www.w3.org/1999/xlink\" contentScriptType=\"application/ecmascript\" contentStyleType=\"text/css\" height=\"274px\" preserveAspectRatio=\"none\" style=\"width:953px;height:274px;\" version=\"1.1\" viewBox=\"0 0 953 274\" width=\"953px\" zoomAndPan=\"magnify\"><defs><filter height=\"300%\" id=\"f35oxz9c666s4\" width=\"300%\" x=\"-1\" y=\"-1\"><feGaussianBlur result=\"blurOut\" stdDeviation=\"2.0\"/><feColorMatrix in=\"blurOut\" result=\"blurOut2\" type=\"matrix\" values=\"0 0 0 0 0 0 0 0 0 0 0 0 0 0 0 0 0 0 .4 0\"/><feOffset dx=\"4.0\" dy=\"4.0\" in=\"blurOut2\" result=\"blurOut3\"/><feBlend in=\"SourceGraphic\" in2=\"blurOut3\" mode=\"normal\"/></filter></defs><g><!--MD5=[fbc87193dbaf4d95561dea2c320d4a47]\n",
       "cluster E1--><a href=\"psysml:781596e5-2fdd-47e5-84a9-0e1e2d017791\" target=\"_top\" title=\"psysml:781596e5-2fdd-47e5-84a9-0e1e2d017791\" xlink:actuate=\"onRequest\" xlink:href=\"psysml:781596e5-2fdd-47e5-84a9-0e1e2d017791\" xlink:show=\"new\" xlink:title=\"psysml:781596e5-2fdd-47e5-84a9-0e1e2d017791\" xlink:type=\"simple\"><polygon fill=\"#FFFFFF\" filter=\"url(#f35oxz9c666s4)\" points=\"16,6,84,6,91,28.2969,931,28.2969,931,262,16,262,16,6\" style=\"stroke: #000000; stroke-width: 1.5;\"/><line style=\"stroke: #000000; stroke-width: 1.5;\" x1=\"16\" x2=\"91\" y1=\"28.2969\" y2=\"28.2969\"/><text fill=\"#000000\" font-family=\"sans-serif\" font-size=\"14\" font-weight=\"bold\" lengthAdjust=\"spacingAndGlyphs\" textLength=\"62\" x=\"20\" y=\"20.9951\">Packets</text></a><!--MD5=[b4997ac47864f28c2f74865a473b2911]\n",
       "class E2--><a href=\"psysml:09967ea5-e8af-470d-92d0-5553b1044725\" target=\"_top\" title=\"psysml:09967ea5-e8af-470d-92d0-5553b1044725\" xlink:actuate=\"onRequest\" xlink:href=\"psysml:09967ea5-e8af-470d-92d0-5553b1044725\" xlink:show=\"new\" xlink:title=\"psysml:09967ea5-e8af-470d-92d0-5553b1044725\" xlink:type=\"simple\"><rect fill=\"#FEFECE\" filter=\"url(#f35oxz9c666s4)\" height=\"45.9375\" id=\"E2\" style=\"stroke: #A80036; stroke-width: 1.5;\" width=\"95\" x=\"819.5\" y=\"54\"/><text fill=\"#000000\" font-family=\"sans-serif\" font-size=\"12\" font-style=\"italic\" lengthAdjust=\"spacingAndGlyphs\" textLength=\"93\" x=\"820.5\" y=\"70.1387\">«attribute def»</text><text fill=\"#000000\" font-family=\"sans-serif\" font-size=\"12\" lengthAdjust=\"spacingAndGlyphs\" textLength=\"59\" x=\"837.5\" y=\"84.1074\">DateTime</text><line style=\"stroke: #A80036; stroke-width: 1.5;\" x1=\"820.5\" x2=\"913.5\" y1=\"91.9375\" y2=\"91.9375\"/></a><!--MD5=[09b614a08d8cba4a07c9adeb5e0fee81]\n",
       "class E3--><a href=\"psysml:16b22f80-f2ca-4440-a25c-8e72c7cab96e\" target=\"_top\" title=\"psysml:16b22f80-f2ca-4440-a25c-8e72c7cab96e\" xlink:actuate=\"onRequest\" xlink:href=\"psysml:16b22f80-f2ca-4440-a25c-8e72c7cab96e\" xlink:show=\"new\" xlink:title=\"psysml:16b22f80-f2ca-4440-a25c-8e72c7cab96e\" xlink:type=\"simple\"><rect fill=\"#FEFECE\" filter=\"url(#f35oxz9c666s4)\" height=\"45.9375\" id=\"E3\" rx=\"10\" ry=\"10\" style=\"stroke: #A80036; stroke-width: 1.5;\" width=\"98\" x=\"686\" y=\"54\"/><text fill=\"#000000\" font-family=\"sans-serif\" font-size=\"12\" font-style=\"italic\" lengthAdjust=\"spacingAndGlyphs\" textLength=\"69\" x=\"700.5\" y=\"70.1387\">«attribute»</text><text fill=\"#000000\" font-family=\"sans-serif\" font-size=\"12\" lengthAdjust=\"spacingAndGlyphs\" textLength=\"92\" x=\"689\" y=\"84.1074\">packet header</text><line style=\"stroke: #A80036; stroke-width: 1.5;\" x1=\"687\" x2=\"783\" y1=\"91.9375\" y2=\"91.9375\"/></a><!--MD5=[ebbe1d658d1005bcc118a6aa81145e00]\n",
       "class E4--><a href=\"psysml:7e904c0e-d2a4-45ad-bef1-7051678b2240\" target=\"_top\" title=\"psysml:7e904c0e-d2a4-45ad-bef1-7051678b2240\" xlink:actuate=\"onRequest\" xlink:href=\"psysml:7e904c0e-d2a4-45ad-bef1-7051678b2240\" xlink:show=\"new\" xlink:title=\"psysml:7e904c0e-d2a4-45ad-bef1-7051678b2240\" xlink:type=\"simple\"><rect fill=\"#FEFECE\" filter=\"url(#f35oxz9c666s4)\" height=\"72.4922\" id=\"E4\" rx=\"10\" ry=\"10\" style=\"stroke: #A80036; stroke-width: 1.5;\" width=\"310\" x=\"341\" y=\"41\"/><text fill=\"#000000\" font-family=\"sans-serif\" font-size=\"12\" font-style=\"italic\" lengthAdjust=\"spacingAndGlyphs\" textLength=\"69\" x=\"461.5\" y=\"57.1387\">«attribute»</text><text fill=\"#000000\" font-family=\"sans-serif\" font-size=\"12\" lengthAdjust=\"spacingAndGlyphs\" textLength=\"106\" x=\"443\" y=\"71.1074\">packet data field</text><line style=\"stroke: #A80036; stroke-width: 1.5;\" x1=\"342\" x2=\"650\" y1=\"78.9375\" y2=\"78.9375\"/><path d=\"M348.9167,83.8542 L348.9167,93.0208 L349.8333,93.0208 L349.8333,83.8542 M352.5833,83.8542 L352.5833,93.0208 L359.9167,88.4375 L352.5833,83.8542 L353.5,85.2292 L358.5417,88.4375 L353.5,91.6458 L353.5,85.2292 \" fill=\"#000000\" style=\"stroke: ; stroke-width: 0.0; stroke-dasharray: ;\"/><text fill=\"#000000\" font-family=\"sans-serif\" font-size=\"11\" lengthAdjust=\"spacingAndGlyphs\" textLength=\"144\" x=\"364\" y=\"94.0933\">packet secondary header</text><text fill=\"#000000\" font-family=\"sans-serif\" font-size=\"11\" lengthAdjust=\"spacingAndGlyphs\" text-decoration=\"line-through\" textLength=\"133\" x=\"512\" y=\"94.0933\">Packets::packet header</text><text fill=\"#000000\" font-family=\"sans-serif\" font-size=\"11\" lengthAdjust=\"spacingAndGlyphs\" textLength=\"83\" x=\"347\" y=\"106.8979\">user data field</text></a><!--MD5=[270fce915f116d4de14055a7c1d9a0f3]\n",
       "class E5--><a href=\"psysml:7a510d36-5831-409f-9d62-08a185df40ba\" target=\"_top\" title=\"psysml:7a510d36-5831-409f-9d62-08a185df40ba\" xlink:actuate=\"onRequest\" xlink:href=\"psysml:7a510d36-5831-409f-9d62-08a185df40ba\" xlink:show=\"new\" xlink:title=\"psysml:7a510d36-5831-409f-9d62-08a185df40ba\" xlink:type=\"simple\"><rect fill=\"#FEFECE\" filter=\"url(#f35oxz9c666s4)\" height=\"73.4375\" id=\"E5\" style=\"stroke: #A80036; stroke-width: 1.5;\" width=\"295\" x=\"32.5\" y=\"173\"/><text fill=\"#000000\" font-family=\"sans-serif\" font-size=\"12\" font-style=\"italic\" lengthAdjust=\"spacingAndGlyphs\" textLength=\"64\" x=\"148\" y=\"189.1387\">«part def»</text><text fill=\"#000000\" font-family=\"sans-serif\" font-size=\"12\" lengthAdjust=\"spacingAndGlyphs\" textLength=\"77\" x=\"141.5\" y=\"203.1074\">Data Packet</text><line style=\"stroke: #A80036; stroke-width: 1.5;\" x1=\"33.5\" x2=\"326.5\" y1=\"210.9375\" y2=\"210.9375\"/><path d=\"M40.4167,215.8542 L40.4167,225.0208 L41.3333,225.0208 L41.3333,215.8542 M44.0833,215.8542 L44.0833,225.0208 L51.4167,220.4375 L44.0833,215.8542 L45,217.2292 L50.0417,220.4375 L45,223.6458 L45,217.2292 \" fill=\"#000000\" style=\"stroke: ; stroke-width: 0.0; stroke-dasharray: ;\"/><text fill=\"#000000\" font-family=\"sans-serif\" font-size=\"11\" lengthAdjust=\"spacingAndGlyphs\" textLength=\"94\" x=\"55.5\" y=\"226.0933\">packet data field</text><text fill=\"#000000\" font-family=\"sans-serif\" font-size=\"11\" lengthAdjust=\"spacingAndGlyphs\" text-decoration=\"line-through\" textLength=\"146\" x=\"153.5\" y=\"226.0933\">Packets::packet data field</text><path d=\"M40.4167,229.6042 L40.4167,238.7708 L41.3333,238.7708 L41.3333,229.6042 M44.0833,229.6042 L44.0833,238.7708 L51.4167,234.1875 L44.0833,229.6042 L45,230.9792 L50.0417,234.1875 L45,237.3958 L45,230.9792 \" fill=\"#000000\" style=\"stroke: ; stroke-width: 0.0; stroke-dasharray: ;\"/><text fill=\"#000000\" font-family=\"sans-serif\" font-size=\"11\" lengthAdjust=\"spacingAndGlyphs\" textLength=\"129\" x=\"55.5\" y=\"239.8433\">packet primary header</text><text fill=\"#000000\" font-family=\"sans-serif\" font-size=\"11\" lengthAdjust=\"spacingAndGlyphs\" text-decoration=\"line-through\" textLength=\"133\" x=\"188.5\" y=\"239.8433\">Packets::packet header</text></a><!--MD5=[60a26617385b1d2d0262a64233df1f8d]\n",
       "class E6--><a href=\"psysml:10023c3e-6ce6-4816-9fb9-6800bd66eb89\" target=\"_top\" title=\"psysml:10023c3e-6ce6-4816-9fb9-6800bd66eb89\" xlink:actuate=\"onRequest\" xlink:href=\"psysml:10023c3e-6ce6-4816-9fb9-6800bd66eb89\" xlink:show=\"new\" xlink:title=\"psysml:10023c3e-6ce6-4816-9fb9-6800bd66eb89\" xlink:type=\"simple\"><rect fill=\"#FEFECE\" filter=\"url(#f35oxz9c666s4)\" height=\"59.6875\" id=\"E6\" style=\"stroke: #A80036; stroke-width: 1.5;\" width=\"273\" x=\"32.5\" y=\"47\"/><text fill=\"#000000\" font-family=\"sans-serif\" font-size=\"12\" font-style=\"italic\" lengthAdjust=\"spacingAndGlyphs\" textLength=\"64\" x=\"137\" y=\"63.1387\">«part def»</text><text fill=\"#000000\" font-family=\"sans-serif\" font-size=\"12\" lengthAdjust=\"spacingAndGlyphs\" textLength=\"131\" x=\"103.5\" y=\"77.1074\">Thermal Data Packet</text><line style=\"stroke: #A80036; stroke-width: 1.5;\" x1=\"33.5\" x2=\"304.5\" y1=\"84.9375\" y2=\"84.9375\"/><path d=\"M40.4167,89.8542 L40.4167,99.0208 L41.3333,99.0208 L41.3333,89.8542 M44.0833,89.8542 L44.0833,99.0208 L51.4167,94.4375 L44.0833,89.8542 L45,91.2292 L50.0417,94.4375 L45,97.6458 L45,91.2292 \" fill=\"#000000\" style=\"stroke: ; stroke-width: 0.0; stroke-dasharray: ;\"/><text fill=\"#000000\" font-family=\"sans-serif\" font-size=\"11\" lengthAdjust=\"spacingAndGlyphs\" textLength=\"94\" x=\"55.5\" y=\"100.0933\">packet data field</text><text fill=\"#000000\" font-family=\"sans-serif\" font-size=\"11\" lengthAdjust=\"spacingAndGlyphs\" text-decoration=\"line-through\" textLength=\"146\" x=\"153.5\" y=\"100.0933\">Packets::packet data field</text></a><!--MD5=[25b190c987b1e74e5126d372c5a73af1]\n",
       "link E6 to E5--><a href=\"psysml:8c509f82-013b-4383-9ee5-07fa63a1b780\" target=\"_top\" title=\"psysml:8c509f82-013b-4383-9ee5-07fa63a1b780\" xlink:actuate=\"onRequest\" xlink:href=\"psysml:8c509f82-013b-4383-9ee5-07fa63a1b780\" xlink:show=\"new\" xlink:title=\"psysml:8c509f82-013b-4383-9ee5-07fa63a1b780\" xlink:type=\"simple\"><path d=\"M171.47,107.29 C172.6,120.69 173.98,137.04 175.29,152.66 \" fill=\"none\" id=\"E6-&gt;E5\" style=\"stroke: #A80036; stroke-width: 1.0;\"/><polygon fill=\"none\" points=\"182.29,152.28,176.99,172.8,168.34,153.46,182.29,152.28\" style=\"stroke: #A80036; stroke-width: 1.0;\"/></a><!--MD5=[3bcc2cd38495c9854c0a0ee678831bce]\n",
       "@startuml\r\n",
       "skinparam wrapWidth 300\r\n",
       "hide circle\r\n",
       "\r\n",
       "package \"Packets\" as E1  [[psysml:781596e5-2fdd-47e5-84a9-0e1e2d017791 ]]  {\r\n",
       "comp def \"DateTime\" as E2  <<(T,blue)attribute def>> [[psysml:09967ea5-e8af-470d-92d0-5553b1044725 ]] {\r\n",
       "}\r\n",
       "comp usage \"packet header\" as E3  <<(T,blue)attribute>> [[psysml:16b22f80-f2ca-4440-a25c-8e72c7cab96e ]] {\r\n",
       "}\r\n",
       "comp usage \"packet data field\" as E4  <<(T,blue)attribute>> [[psysml:7e904c0e-d2a4-45ad-bef1-7051678b2240 ]] {\r\n",
       "<&bar-trig> packet secondary header <s>Packets::packet header</s>\r\n",
       "user data field\r\n",
       "}\r\n",
       "comp def \"Data Packet\" as E5  <<(T,blue)part def>> [[psysml:7a510d36-5831-409f-9d62-08a185df40ba ]] {\r\n",
       "<&bar-trig> packet data field <s>Packets::packet data field</s>\r\n",
       "<&bar-trig> packet primary header <s>Packets::packet header</s>\r\n",
       "}\r\n",
       "comp def \"Thermal Data Packet\" as E6  <<(T,blue)part def>> [[psysml:10023c3e-6ce6-4816-9fb9-6800bd66eb89 ]] {\r\n",
       "<&bar-trig> packet data field <s>Packets::packet data field</s>\r\n",
       "}\r\n",
       "E6 - -|> E5 [[psysml:8c509f82-013b-4383-9ee5-07fa63a1b780 ]] \r\n",
       "}\r\n",
       "@enduml\r\n",
       "\n",
       "PlantUML version 1.2020.13(Sat Jun 13 12:26:38 UTC 2020)\n",
       "(EPL source distribution)\n",
       "Java Runtime: OpenJDK Runtime Environment\n",
       "JVM: OpenJDK 64-Bit Server VM\n",
       "Default Encoding: UTF-8\n",
       "Language: en\n",
       "Country: null\n",
       "--></g></svg>"
      ]
     },
     "execution_count": 24,
     "metadata": {},
     "output_type": "execute_result"
    }
   ],
   "source": [
    "%viz --style=\"STDCOLOR\" --view=\"Tree\" \"Packets\""
   ]
  },
  {
   "cell_type": "code",
   "execution_count": 25,
   "id": "50f30a76",
   "metadata": {
    "execution": {
     "iopub.execute_input": "2021-04-20T07:33:55.301179Z",
     "iopub.status.busy": "2021-04-20T07:33:55.300697Z",
     "iopub.status.idle": "2021-04-20T07:33:55.308551Z",
     "shell.execute_reply": "2021-04-20T07:33:55.308172Z"
    }
   },
   "outputs": [
    {
     "data": {
      "image/svg+xml": [
       "<?xml version=\"1.0\" encoding=\"UTF-8\" standalone=\"no\"?><svg xmlns=\"http://www.w3.org/2000/svg\" xmlns:xlink=\"http://www.w3.org/1999/xlink\" contentScriptType=\"application/ecmascript\" contentStyleType=\"text/css\" height=\"12px\" preserveAspectRatio=\"none\" style=\"width:12px;height:12px;\" version=\"1.1\" viewBox=\"0 0 12 12\" width=\"12px\" zoomAndPan=\"magnify\"><defs/><g><!--MD5=[aeeef50f102b80d730deb6443d14f702]\n",
       "@startuml\r\n",
       "skinparam wrapWidth 300\r\n",
       "hide circle\r\n",
       "\r\n",
       "@enduml\r\n",
       "\n",
       "PlantUML version 1.2020.13(Sat Jun 13 12:26:38 UTC 2020)\n",
       "(EPL source distribution)\n",
       "Java Runtime: OpenJDK Runtime Environment\n",
       "JVM: OpenJDK 64-Bit Server VM\n",
       "Default Encoding: UTF-8\n",
       "Language: en\n",
       "Country: null\n",
       "--></g></svg>"
      ]
     },
     "execution_count": 25,
     "metadata": {},
     "output_type": "execute_result"
    }
   ],
   "source": [
    "%viz --style=\"STDCOLOR\" --view=\"State\" \"Packets\""
   ]
  },
  {
   "cell_type": "code",
   "execution_count": 26,
   "id": "b953b848",
   "metadata": {
    "execution": {
     "iopub.execute_input": "2021-04-20T07:33:55.360054Z",
     "iopub.status.busy": "2021-04-20T07:33:55.359362Z",
     "iopub.status.idle": "2021-04-20T07:33:55.514825Z",
     "shell.execute_reply": "2021-04-20T07:33:55.513937Z"
    }
   },
   "outputs": [
    {
     "data": {
      "image/svg+xml": [
       "<?xml version=\"1.0\" encoding=\"UTF-8\" standalone=\"no\"?><svg xmlns=\"http://www.w3.org/2000/svg\" xmlns:xlink=\"http://www.w3.org/1999/xlink\" contentScriptType=\"application/ecmascript\" contentStyleType=\"text/css\" height=\"544px\" preserveAspectRatio=\"none\" style=\"width:590px;height:544px;\" version=\"1.1\" viewBox=\"0 0 590 544\" width=\"590px\" zoomAndPan=\"magnify\"><defs><filter height=\"300%\" id=\"fzwgnonv41pnh\" width=\"300%\" x=\"-1\" y=\"-1\"><feGaussianBlur result=\"blurOut\" stdDeviation=\"2.0\"/><feColorMatrix in=\"blurOut\" result=\"blurOut2\" type=\"matrix\" values=\"0 0 0 0 0 0 0 0 0 0 0 0 0 0 0 0 0 0 .4 0\"/><feOffset dx=\"4.0\" dy=\"4.0\" in=\"blurOut2\" result=\"blurOut3\"/><feBlend in=\"SourceGraphic\" in2=\"blurOut3\" mode=\"normal\"/></filter></defs><g><!--MD5=[fbc87193dbaf4d95561dea2c320d4a47]\n",
       "cluster E1--><a href=\"psysml:781596e5-2fdd-47e5-84a9-0e1e2d017791\" target=\"_top\" title=\"psysml:781596e5-2fdd-47e5-84a9-0e1e2d017791\" xlink:actuate=\"onRequest\" xlink:href=\"psysml:781596e5-2fdd-47e5-84a9-0e1e2d017791\" xlink:show=\"new\" xlink:title=\"psysml:781596e5-2fdd-47e5-84a9-0e1e2d017791\" xlink:type=\"simple\"><polygon fill=\"#FFFFFF\" filter=\"url(#fzwgnonv41pnh)\" points=\"16,6,84,6,91,28.2969,568,28.2969,568,532,16,532,16,6\" style=\"stroke: #000000; stroke-width: 1.5;\"/><line style=\"stroke: #000000; stroke-width: 1.5;\" x1=\"16\" x2=\"91\" y1=\"28.2969\" y2=\"28.2969\"/><text fill=\"#000000\" font-family=\"sans-serif\" font-size=\"14\" font-weight=\"bold\" lengthAdjust=\"spacingAndGlyphs\" textLength=\"62\" x=\"20\" y=\"20.9951\">Packets</text></a><!--MD5=[de5ec2e2e8f62f467e546659f5068c88]\n",
       "cluster E5--><a href=\"psysml:7a510d36-5831-409f-9d62-08a185df40ba\" target=\"_top\" title=\"psysml:7a510d36-5831-409f-9d62-08a185df40ba\" xlink:actuate=\"onRequest\" xlink:href=\"psysml:7a510d36-5831-409f-9d62-08a185df40ba\" xlink:show=\"new\" xlink:title=\"psysml:7a510d36-5831-409f-9d62-08a185df40ba\" xlink:type=\"simple\"><rect fill=\"#FFFFFF\" filter=\"url(#fzwgnonv41pnh)\" height=\"167\" id=\"E5\" style=\"stroke: #A80036; stroke-width: 1.5;\" width=\"406\" x=\"48\" y=\"253\"/><rect fill=\"#FEFECE\" height=\"37.9375\" style=\"stroke: #A80036; stroke-width: 1.5;\" width=\"406\" x=\"48\" y=\"253\"/><text fill=\"#000000\" font-family=\"sans-serif\" font-size=\"12\" font-style=\"italic\" lengthAdjust=\"spacingAndGlyphs\" textLength=\"64\" x=\"219\" y=\"269.1387\">«part def»</text><text fill=\"#000000\" font-family=\"sans-serif\" font-size=\"12\" lengthAdjust=\"spacingAndGlyphs\" textLength=\"77\" x=\"212.5\" y=\"283.1074\">Data Packet</text></a><!--MD5=[55dfccfc6c49c2d10cd1bd2211a6c90c]\n",
       "cluster E8--><a href=\"psysml:10023c3e-6ce6-4816-9fb9-6800bd66eb89\" target=\"_top\" title=\"psysml:10023c3e-6ce6-4816-9fb9-6800bd66eb89\" xlink:actuate=\"onRequest\" xlink:href=\"psysml:10023c3e-6ce6-4816-9fb9-6800bd66eb89\" xlink:show=\"new\" xlink:title=\"psysml:10023c3e-6ce6-4816-9fb9-6800bd66eb89\" xlink:type=\"simple\"><rect fill=\"#FFFFFF\" filter=\"url(#fzwgnonv41pnh)\" height=\"156\" id=\"E8\" style=\"stroke: #A80036; stroke-width: 1.5;\" width=\"377\" x=\"159\" y=\"57\"/><rect fill=\"#FEFECE\" height=\"37.9375\" style=\"stroke: #A80036; stroke-width: 1.5;\" width=\"377\" x=\"159\" y=\"57\"/><text fill=\"#000000\" font-family=\"sans-serif\" font-size=\"12\" font-style=\"italic\" lengthAdjust=\"spacingAndGlyphs\" textLength=\"64\" x=\"315.5\" y=\"73.1387\">«part def»</text><text fill=\"#000000\" font-family=\"sans-serif\" font-size=\"12\" lengthAdjust=\"spacingAndGlyphs\" textLength=\"131\" x=\"282\" y=\"87.1074\">Thermal Data Packet</text></a><g id=\"E1.E2\"><a href=\"psysml:09967ea5-e8af-470d-92d0-5553b1044725\" target=\"_top\" title=\"psysml:09967ea5-e8af-470d-92d0-5553b1044725\" xlink:actuate=\"onRequest\" xlink:href=\"psysml:09967ea5-e8af-470d-92d0-5553b1044725\" xlink:show=\"new\" xlink:title=\"psysml:09967ea5-e8af-470d-92d0-5553b1044725\" xlink:type=\"simple\"><rect fill=\"#FEFECE\" filter=\"url(#fzwgnonv41pnh)\" height=\"42.9375\" id=\"E2\" style=\"stroke: #A80036; stroke-width: 1.5;\" width=\"100\" x=\"32\" y=\"131\"/><text fill=\"#000000\" font-family=\"sans-serif\" font-size=\"12\" font-style=\"italic\" lengthAdjust=\"spacingAndGlyphs\" textLength=\"93\" x=\"35.5\" y=\"147.1387\">«attribute def»</text><text fill=\"#000000\" font-family=\"sans-serif\" font-size=\"12\" lengthAdjust=\"spacingAndGlyphs\" textLength=\"59\" x=\"52.5\" y=\"161.1074\">DateTime</text></a></g><!--MD5=[09b614a08d8cba4a07c9adeb5e0fee81]\n",
       "class E3--><a href=\"psysml:16b22f80-f2ca-4440-a25c-8e72c7cab96e\" target=\"_top\" title=\"psysml:16b22f80-f2ca-4440-a25c-8e72c7cab96e\" xlink:actuate=\"onRequest\" xlink:href=\"psysml:16b22f80-f2ca-4440-a25c-8e72c7cab96e\" xlink:show=\"new\" xlink:title=\"psysml:16b22f80-f2ca-4440-a25c-8e72c7cab96e\" xlink:type=\"simple\"><rect fill=\"#FEFECE\" filter=\"url(#fzwgnonv41pnh)\" height=\"45.9375\" id=\"E3\" rx=\"10\" ry=\"10\" style=\"stroke: #A80036; stroke-width: 1.5;\" width=\"98\" x=\"109\" y=\"457\"/><text fill=\"#000000\" font-family=\"sans-serif\" font-size=\"12\" font-style=\"italic\" lengthAdjust=\"spacingAndGlyphs\" textLength=\"69\" x=\"123.5\" y=\"473.1387\">«attribute»</text><text fill=\"#000000\" font-family=\"sans-serif\" font-size=\"12\" lengthAdjust=\"spacingAndGlyphs\" textLength=\"92\" x=\"112\" y=\"487.1074\">packet header</text><line style=\"stroke: #A80036; stroke-width: 1.5;\" x1=\"110\" x2=\"206\" y1=\"494.9375\" y2=\"494.9375\"/></a><!--MD5=[ebbe1d658d1005bcc118a6aa81145e00]\n",
       "class E4--><a href=\"psysml:7e904c0e-d2a4-45ad-bef1-7051678b2240\" target=\"_top\" title=\"psysml:7e904c0e-d2a4-45ad-bef1-7051678b2240\" xlink:actuate=\"onRequest\" xlink:href=\"psysml:7e904c0e-d2a4-45ad-bef1-7051678b2240\" xlink:show=\"new\" xlink:title=\"psysml:7e904c0e-d2a4-45ad-bef1-7051678b2240\" xlink:type=\"simple\"><rect fill=\"#FEFECE\" filter=\"url(#fzwgnonv41pnh)\" height=\"72.4922\" id=\"E4\" rx=\"10\" ry=\"10\" style=\"stroke: #A80036; stroke-width: 1.5;\" width=\"310\" x=\"242\" y=\"444\"/><text fill=\"#000000\" font-family=\"sans-serif\" font-size=\"12\" font-style=\"italic\" lengthAdjust=\"spacingAndGlyphs\" textLength=\"69\" x=\"362.5\" y=\"460.1387\">«attribute»</text><text fill=\"#000000\" font-family=\"sans-serif\" font-size=\"12\" lengthAdjust=\"spacingAndGlyphs\" textLength=\"106\" x=\"344\" y=\"474.1074\">packet data field</text><line style=\"stroke: #A80036; stroke-width: 1.5;\" x1=\"243\" x2=\"551\" y1=\"481.9375\" y2=\"481.9375\"/><path d=\"M249.9167,486.8542 L249.9167,496.0208 L250.8333,496.0208 L250.8333,486.8542 M253.5833,486.8542 L253.5833,496.0208 L260.9167,491.4375 L253.5833,486.8542 L254.5,488.2292 L259.5417,491.4375 L254.5,494.6458 L254.5,488.2292 \" fill=\"#000000\" style=\"stroke: ; stroke-width: 0.0; stroke-dasharray: ;\"/><text fill=\"#000000\" font-family=\"sans-serif\" font-size=\"11\" lengthAdjust=\"spacingAndGlyphs\" textLength=\"144\" x=\"265\" y=\"497.0933\">packet secondary header</text><text fill=\"#000000\" font-family=\"sans-serif\" font-size=\"11\" lengthAdjust=\"spacingAndGlyphs\" text-decoration=\"line-through\" textLength=\"133\" x=\"413\" y=\"497.0933\">Packets::packet header</text><text fill=\"#000000\" font-family=\"sans-serif\" font-size=\"11\" lengthAdjust=\"spacingAndGlyphs\" textLength=\"83\" x=\"248\" y=\"509.8979\">user data field</text></a><!--MD5=[60a26617385b1d2d0262a64233df1f8d]\n",
       "class E6--><a href=\"psysml:8bac5b56-bd53-4c22-88f8-0cbcb8384e0b\" target=\"_top\" title=\"psysml:8bac5b56-bd53-4c22-88f8-0cbcb8384e0b\" xlink:actuate=\"onRequest\" xlink:href=\"psysml:8bac5b56-bd53-4c22-88f8-0cbcb8384e0b\" xlink:show=\"new\" xlink:title=\"psysml:8bac5b56-bd53-4c22-88f8-0cbcb8384e0b\" xlink:type=\"simple\"><rect fill=\"#FEFECE\" filter=\"url(#fzwgnonv41pnh)\" height=\"84.3516\" id=\"E6\" rx=\"10\" ry=\"10\" style=\"stroke: #A80036; stroke-width: 1.5;\" width=\"191\" x=\"91.5\" y=\"312\"/><text fill=\"#000000\" font-family=\"sans-serif\" font-size=\"12\" font-style=\"italic\" lengthAdjust=\"spacingAndGlyphs\" textLength=\"69\" x=\"152.5\" y=\"328.1387\">«attribute»</text><text fill=\"#000000\" font-family=\"sans-serif\" font-size=\"12\" lengthAdjust=\"spacingAndGlyphs\" textLength=\"142\" x=\"116\" y=\"342.1074\">packet primary header</text><line style=\"stroke: #A80036; stroke-width: 1.5;\" x1=\"92.5\" x2=\"281.5\" y1=\"349.9375\" y2=\"349.9375\"/><text fill=\"#000000\" font-family=\"sans-serif\" font-size=\"11\" lengthAdjust=\"spacingAndGlyphs\" textLength=\"153\" x=\"97.5\" y=\"364.1479\">packet data length: Integer</text><text fill=\"#000000\" font-family=\"sans-serif\" font-size=\"11\" lengthAdjust=\"spacingAndGlyphs\" textLength=\"155\" x=\"97.5\" y=\"376.9526\">packet identification: String</text><text fill=\"#000000\" font-family=\"sans-serif\" font-size=\"11\" lengthAdjust=\"spacingAndGlyphs\" textLength=\"179\" x=\"97.5\" y=\"389.7573\">packet version number: Integer</text></a><!--MD5=[2156ba9850f5573cc1fc38a6a4b2f02b]\n",
       "class E7--><a href=\"psysml:e649f067-3966-42a9-912a-f470df4c2484\" target=\"_top\" title=\"psysml:e649f067-3966-42a9-912a-f470df4c2484\" xlink:actuate=\"onRequest\" xlink:href=\"psysml:e649f067-3966-42a9-912a-f470df4c2484\" xlink:show=\"new\" xlink:title=\"psysml:e649f067-3966-42a9-912a-f470df4c2484\" xlink:type=\"simple\"><rect fill=\"#FEFECE\" filter=\"url(#fzwgnonv41pnh)\" height=\"45.9375\" id=\"E7\" rx=\"10\" ry=\"10\" style=\"stroke: #A80036; stroke-width: 1.5;\" width=\"112\" x=\"318\" y=\"331\"/><text fill=\"#000000\" font-family=\"sans-serif\" font-size=\"12\" font-style=\"italic\" lengthAdjust=\"spacingAndGlyphs\" textLength=\"69\" x=\"339.5\" y=\"347.1387\">«attribute»</text><text fill=\"#000000\" font-family=\"sans-serif\" font-size=\"12\" lengthAdjust=\"spacingAndGlyphs\" textLength=\"106\" x=\"321\" y=\"361.1074\">packet data field</text><line style=\"stroke: #A80036; stroke-width: 1.5;\" x1=\"319\" x2=\"429\" y1=\"368.9375\" y2=\"368.9375\"/></a><!--MD5=[fd4143e9d270a159db93a4ea2a975926]\n",
       "class E9--><a href=\"psysml:9d2256ff-aa99-47f6-ab60-2a2dbee9749e\" target=\"_top\" title=\"psysml:9d2256ff-aa99-47f6-ab60-2a2dbee9749e\" xlink:actuate=\"onRequest\" xlink:href=\"psysml:9d2256ff-aa99-47f6-ab60-2a2dbee9749e\" xlink:show=\"new\" xlink:title=\"psysml:9d2256ff-aa99-47f6-ab60-2a2dbee9749e\" xlink:type=\"simple\"><rect fill=\"#FEFECE\" filter=\"url(#fzwgnonv41pnh)\" height=\"73.4375\" id=\"E9\" rx=\"10\" ry=\"10\" style=\"stroke: #A80036; stroke-width: 1.5;\" width=\"310\" x=\"202\" y=\"116\"/><text fill=\"#000000\" font-family=\"sans-serif\" font-size=\"12\" font-style=\"italic\" lengthAdjust=\"spacingAndGlyphs\" textLength=\"69\" x=\"322.5\" y=\"132.1387\">«attribute»</text><text fill=\"#000000\" font-family=\"sans-serif\" font-size=\"12\" lengthAdjust=\"spacingAndGlyphs\" textLength=\"106\" x=\"304\" y=\"146.1074\">packet data field</text><line style=\"stroke: #A80036; stroke-width: 1.5;\" x1=\"203\" x2=\"511\" y1=\"153.9375\" y2=\"153.9375\"/><path d=\"M209.9167,158.8542 L209.9167,168.0208 L210.8333,168.0208 L210.8333,158.8542 M213.5833,158.8542 L213.5833,168.0208 L220.9167,163.4375 L213.5833,158.8542 L214.5,160.2292 L219.5417,163.4375 L214.5,166.6458 L214.5,160.2292 \" fill=\"#000000\" style=\"stroke: ; stroke-width: 0.0; stroke-dasharray: ;\"/><text fill=\"#000000\" font-family=\"sans-serif\" font-size=\"11\" lengthAdjust=\"spacingAndGlyphs\" textLength=\"144\" x=\"225\" y=\"169.0933\">packet secondary header</text><text fill=\"#000000\" font-family=\"sans-serif\" font-size=\"11\" lengthAdjust=\"spacingAndGlyphs\" text-decoration=\"line-through\" textLength=\"133\" x=\"373\" y=\"169.0933\">Packets::packet header</text><path d=\"M209.9167,172.6042 L209.9167,181.7708 L210.8333,181.7708 L210.8333,172.6042 M213.5833,172.6042 L213.5833,181.7708 L220.9167,177.1875 L213.5833,172.6042 L214.5,173.9792 L219.5417,177.1875 L214.5,180.3958 L214.5,173.9792 \" fill=\"#000000\" style=\"stroke: ; stroke-width: 0.0; stroke-dasharray: ;\"/><text fill=\"#000000\" font-family=\"sans-serif\" font-size=\"11\" lengthAdjust=\"spacingAndGlyphs\" textLength=\"83\" x=\"225\" y=\"182.8433\">user data field</text><text fill=\"#000000\" font-family=\"sans-serif\" font-size=\"11\" lengthAdjust=\"spacingAndGlyphs\" text-decoration=\"line-through\" textLength=\"185\" x=\"312\" y=\"182.8433\">packet data field::user data field</text></a><!--MD5=[a717450b82c80b9240a525fa862496af]\n",
       "link E6 to E3--><a href=\"psysml:6aaaf2f4-4b2b-4d4a-ac54-83bc6d358576\" target=\"_top\" title=\"psysml:6aaaf2f4-4b2b-4d4a-ac54-83bc6d358576\" xlink:actuate=\"onRequest\" xlink:href=\"psysml:6aaaf2f4-4b2b-4d4a-ac54-83bc6d358576\" xlink:show=\"new\" xlink:title=\"psysml:6aaaf2f4-4b2b-4d4a-ac54-83bc6d358576\" xlink:type=\"simple\"><path d=\"M177.34,396.29 C174.29,409.36 170.91,423.81 167.84,436.93 \" fill=\"none\" id=\"E6-&gt;E3\" style=\"stroke: #A80036; stroke-width: 1.0;\"/><polygon fill=\"#FFFFFF\" points=\"163.22,456.66,160.7307,436.5651,174.3629,439.7533,163.22,456.66\" style=\"stroke: #A80036; stroke-width: 1.0;\"/><line style=\"stroke: #A80036; stroke-width: 2.0;\" x1=\"161.5961\" x2=\"175.2282\" y1=\"432.865\" y2=\"436.0531\"/></a><!--MD5=[6bdd27f9905911a7e892a3dc65cf6b7c]\n",
       "link E7 to E4--><a href=\"psysml:895bc16e-261f-455c-84ef-7cbef2b79206\" target=\"_top\" title=\"psysml:895bc16e-261f-455c-84ef-7cbef2b79206\" xlink:actuate=\"onRequest\" xlink:href=\"psysml:895bc16e-261f-455c-84ef-7cbef2b79206\" xlink:show=\"new\" xlink:title=\"psysml:895bc16e-261f-455c-84ef-7cbef2b79206\" xlink:type=\"simple\"><path d=\"M378.11,377.17 C380.54,390.27 383.74,407.49 386.8,424.03 \" fill=\"none\" id=\"E7-&gt;E4\" style=\"stroke: #A80036; stroke-width: 1.0;\"/><polygon fill=\"#FFFFFF\" points=\"390.49,443.9,380.1451,426.4936,393.9107,423.9426,390.49,443.9\" style=\"stroke: #A80036; stroke-width: 1.0;\"/><line style=\"stroke: #A80036; stroke-width: 2.0;\" x1=\"379.4526\" x2=\"393.2183\" y1=\"422.7572\" y2=\"420.2062\"/></a><!--MD5=[1ccb2481ffa92f8d51a74ee30c51832a]\n",
       "link E8 to E5--><a href=\"psysml:8c509f82-013b-4383-9ee5-07fa63a1b780\" target=\"_top\" title=\"psysml:8c509f82-013b-4383-9ee5-07fa63a1b780\" xlink:actuate=\"onRequest\" xlink:href=\"psysml:8c509f82-013b-4383-9ee5-07fa63a1b780\" xlink:show=\"new\" xlink:title=\"psysml:8c509f82-013b-4383-9ee5-07fa63a1b780\" xlink:type=\"simple\"><path d=\"M171.9653,213.2404 C171.9288,213.3598 171.8919,213.479 171.8545,213.5981 C171.2569,215.5029 170.5443,217.3606 169.7029,219.1539 C168.0202,222.7403 165.8225,226.0688 163,229 C149.38,243.14 89.37,223.62 75,237 C70.295,241.38 66.4602,246.4384 63.3526,251.942 C63.1584,252.286 62.967,252.6317 62.7784,252.9791 \" fill=\"none\" id=\"E8-&gt;E5\" style=\"stroke: #A80036; stroke-width: 1.0;\"/><polygon fill=\"#FFFFFF\" points=\"62.7784,252.9791,77.9948,239.6202,65.6908,232.9412,62.7784,252.9791\" style=\"stroke: #A80036; stroke-width: 1.0;\"/></a><!--MD5=[c2be97adba6ddfe1c8f349fab141c927]\n",
       "link E9 to E4--><a href=\"psysml:a0ec1df7-1b05-4d8f-b92a-b996d3ea1089\" target=\"_top\" title=\"psysml:a0ec1df7-1b05-4d8f-b92a-b996d3ea1089\" xlink:actuate=\"onRequest\" xlink:href=\"psysml:a0ec1df7-1b05-4d8f-b92a-b996d3ea1089\" xlink:show=\"new\" xlink:title=\"psysml:a0ec1df7-1b05-4d8f-b92a-b996d3ea1089\" xlink:type=\"simple\"><path d=\"M408.84,189.12 C423.68,202.27 438,218.53 446,237 C478.6,312.3 482.12,349.82 449.84,425.35 \" fill=\"none\" id=\"E9-&gt;E4\" style=\"stroke: #A80036; stroke-width: 1.0;\"/><polygon fill=\"#FFFFFF\" points=\"441.65,443.73,443.0036,423.5268,455.7875,429.2341,441.65,443.73\" style=\"stroke: #A80036; stroke-width: 1.0;\"/><line style=\"stroke: #A80036; stroke-width: 2.0;\" x1=\"444.5527\" x2=\"457.3366\" y1=\"420.0569\" y2=\"425.7642\"/></a><!--MD5=[e74dda3ecae3da4120c54b5fe849c599]\n",
       "@startuml\r\n",
       "skinparam ranksep 10\r\n",
       "skinparam rectangle {\r\n",
       " backgroundColor<<block>> LightGreen\r\n",
       "}\r\n",
       "skinparam wrapWidth 300\r\n",
       "hide circle\r\n",
       "\r\n",
       "package \"Packets\" as E1  [[psysml:781596e5-2fdd-47e5-84a9-0e1e2d017791 ]]  {\r\n",
       "def \"DateTime\" as E2  <<(T,blue)attribute def>> [[psysml:09967ea5-e8af-470d-92d0-5553b1044725 ]] \r\n",
       "comp usage \"packet header\" as E3  <<(T,blue)attribute>> [[psysml:16b22f80-f2ca-4440-a25c-8e72c7cab96e ]] {\r\n",
       "}\r\n",
       "comp usage \"packet data field\" as E4  <<(T,blue)attribute>> [[psysml:7e904c0e-d2a4-45ad-bef1-7051678b2240 ]] {\r\n",
       "<&bar-trig> packet secondary header <s>Packets::packet header</s>\r\n",
       "user data field\r\n",
       "}\r\n",
       "rec def \"Data Packet\" as E5  <<(T,blue)part def>> [[psysml:7a510d36-5831-409f-9d62-08a185df40ba ]] {\r\n",
       "comp usage \"packet primary header\" as E6  <<(T,blue)attribute>> [[psysml:8bac5b56-bd53-4c22-88f8-0cbcb8384e0b ]] {\r\n",
       "packet data length: Integer\r\n",
       "packet identification: String\r\n",
       "packet version number: Integer\r\n",
       "}\r\n",
       "comp usage \"packet data field\" as E7  <<(T,blue)attribute>> [[psysml:e649f067-3966-42a9-912a-f470df4c2484 ]] {\r\n",
       "}\r\n",
       "}\r\n",
       "rec def \"Thermal Data Packet\" as E8  <<(T,blue)part def>> [[psysml:10023c3e-6ce6-4816-9fb9-6800bd66eb89 ]] {\r\n",
       "comp usage \"packet data field\" as E9  <<(T,blue)attribute>> [[psysml:9d2256ff-aa99-47f6-ab60-2a2dbee9749e ]] {\r\n",
       "<&bar-trig> packet secondary header <s>Packets::packet header</s>\r\n",
       "<&bar-trig> user data field <s>packet data field::user data field</s>\r\n",
       "}\r\n",
       "}\r\n",
       "E6 - -||> E3 [[psysml:6aaaf2f4-4b2b-4d4a-ac54-83bc6d358576 ]] \r\n",
       "E7 - -||> E4 [[psysml:895bc16e-261f-455c-84ef-7cbef2b79206 ]] \r\n",
       "E8 - -|> E5 [[psysml:8c509f82-013b-4383-9ee5-07fa63a1b780 ]] \r\n",
       "E9 - -||> E4 [[psysml:a0ec1df7-1b05-4d8f-b92a-b996d3ea1089 ]] \r\n",
       "}\r\n",
       "@enduml\r\n",
       "\n",
       "PlantUML version 1.2020.13(Sat Jun 13 12:26:38 UTC 2020)\n",
       "(EPL source distribution)\n",
       "Java Runtime: OpenJDK Runtime Environment\n",
       "JVM: OpenJDK 64-Bit Server VM\n",
       "Default Encoding: UTF-8\n",
       "Language: en\n",
       "Country: null\n",
       "--></g></svg>"
      ]
     },
     "execution_count": 26,
     "metadata": {},
     "output_type": "execute_result"
    }
   ],
   "source": [
    "%viz --style=\"STDCOLOR\" --view=\"Interconnection\" \"Packets\""
   ]
  },
  {
   "cell_type": "code",
   "execution_count": 27,
   "id": "e0e50d28",
   "metadata": {
    "execution": {
     "iopub.execute_input": "2021-04-20T07:33:55.566236Z",
     "iopub.status.busy": "2021-04-20T07:33:55.564805Z",
     "iopub.status.idle": "2021-04-20T07:33:55.575841Z",
     "shell.execute_reply": "2021-04-20T07:33:55.576369Z"
    }
   },
   "outputs": [
    {
     "data": {
      "image/svg+xml": [
       "<?xml version=\"1.0\" encoding=\"UTF-8\" standalone=\"no\"?><svg xmlns=\"http://www.w3.org/2000/svg\" xmlns:xlink=\"http://www.w3.org/1999/xlink\" contentScriptType=\"application/ecmascript\" contentStyleType=\"text/css\" height=\"12px\" preserveAspectRatio=\"none\" style=\"width:12px;height:12px;\" version=\"1.1\" viewBox=\"0 0 12 12\" width=\"12px\" zoomAndPan=\"magnify\"><defs/><g><!--MD5=[9863325348a96a77dacc89509d8ee65e]\n",
       "@startuml\r\n",
       "skinparam ranksep 8\r\n",
       "skinparam wrapWidth 300\r\n",
       "hide circle\r\n",
       "\r\n",
       "@enduml\r\n",
       "\n",
       "PlantUML version 1.2020.13(Sat Jun 13 12:26:38 UTC 2020)\n",
       "(EPL source distribution)\n",
       "Java Runtime: OpenJDK Runtime Environment\n",
       "JVM: OpenJDK 64-Bit Server VM\n",
       "Default Encoding: UTF-8\n",
       "Language: en\n",
       "Country: null\n",
       "--></g></svg>"
      ]
     },
     "execution_count": 27,
     "metadata": {},
     "output_type": "execute_result"
    }
   ],
   "source": [
    "%viz --style=\"STDCOLOR\" --view=\"Action\" \"Packets\""
   ]
  },
  {
   "cell_type": "code",
   "execution_count": 28,
   "id": "8fc7d73f",
   "metadata": {
    "execution": {
     "iopub.execute_input": "2021-04-20T07:33:55.627854Z",
     "iopub.status.busy": "2021-04-20T07:33:55.626836Z",
     "iopub.status.idle": "2021-04-20T07:33:55.753484Z",
     "shell.execute_reply": "2021-04-20T07:33:55.753140Z"
    }
   },
   "outputs": [
    {
     "data": {
      "image/svg+xml": [
       "<?xml version=\"1.0\" encoding=\"UTF-8\" standalone=\"no\"?><svg xmlns=\"http://www.w3.org/2000/svg\" xmlns:xlink=\"http://www.w3.org/1999/xlink\" contentScriptType=\"application/ecmascript\" contentStyleType=\"text/css\" height=\"274px\" preserveAspectRatio=\"none\" style=\"width:953px;height:274px;\" version=\"1.1\" viewBox=\"0 0 953 274\" width=\"953px\" zoomAndPan=\"magnify\"><defs><filter height=\"300%\" id=\"f35oxz9c666s4\" width=\"300%\" x=\"-1\" y=\"-1\"><feGaussianBlur result=\"blurOut\" stdDeviation=\"2.0\"/><feColorMatrix in=\"blurOut\" result=\"blurOut2\" type=\"matrix\" values=\"0 0 0 0 0 0 0 0 0 0 0 0 0 0 0 0 0 0 .4 0\"/><feOffset dx=\"4.0\" dy=\"4.0\" in=\"blurOut2\" result=\"blurOut3\"/><feBlend in=\"SourceGraphic\" in2=\"blurOut3\" mode=\"normal\"/></filter></defs><g><!--MD5=[fbc87193dbaf4d95561dea2c320d4a47]\n",
       "cluster E1--><a href=\"psysml:781596e5-2fdd-47e5-84a9-0e1e2d017791\" target=\"_top\" title=\"psysml:781596e5-2fdd-47e5-84a9-0e1e2d017791\" xlink:actuate=\"onRequest\" xlink:href=\"psysml:781596e5-2fdd-47e5-84a9-0e1e2d017791\" xlink:show=\"new\" xlink:title=\"psysml:781596e5-2fdd-47e5-84a9-0e1e2d017791\" xlink:type=\"simple\"><polygon fill=\"#FFFFFF\" filter=\"url(#f35oxz9c666s4)\" points=\"16,6,84,6,91,28.2969,931,28.2969,931,262,16,262,16,6\" style=\"stroke: #000000; stroke-width: 1.5;\"/><line style=\"stroke: #000000; stroke-width: 1.5;\" x1=\"16\" x2=\"91\" y1=\"28.2969\" y2=\"28.2969\"/><text fill=\"#000000\" font-family=\"sans-serif\" font-size=\"14\" font-weight=\"bold\" lengthAdjust=\"spacingAndGlyphs\" textLength=\"62\" x=\"20\" y=\"20.9951\">Packets</text></a><!--MD5=[b4997ac47864f28c2f74865a473b2911]\n",
       "class E2--><a href=\"psysml:09967ea5-e8af-470d-92d0-5553b1044725\" target=\"_top\" title=\"psysml:09967ea5-e8af-470d-92d0-5553b1044725\" xlink:actuate=\"onRequest\" xlink:href=\"psysml:09967ea5-e8af-470d-92d0-5553b1044725\" xlink:show=\"new\" xlink:title=\"psysml:09967ea5-e8af-470d-92d0-5553b1044725\" xlink:type=\"simple\"><rect fill=\"#FEFECE\" filter=\"url(#f35oxz9c666s4)\" height=\"45.9375\" id=\"E2\" style=\"stroke: #A80036; stroke-width: 1.5;\" width=\"95\" x=\"819.5\" y=\"54\"/><text fill=\"#000000\" font-family=\"sans-serif\" font-size=\"12\" font-style=\"italic\" lengthAdjust=\"spacingAndGlyphs\" textLength=\"93\" x=\"820.5\" y=\"70.1387\">«attribute def»</text><text fill=\"#000000\" font-family=\"sans-serif\" font-size=\"12\" lengthAdjust=\"spacingAndGlyphs\" textLength=\"59\" x=\"837.5\" y=\"84.1074\">DateTime</text><line style=\"stroke: #A80036; stroke-width: 1.5;\" x1=\"820.5\" x2=\"913.5\" y1=\"91.9375\" y2=\"91.9375\"/></a><!--MD5=[09b614a08d8cba4a07c9adeb5e0fee81]\n",
       "class E3--><a href=\"psysml:16b22f80-f2ca-4440-a25c-8e72c7cab96e\" target=\"_top\" title=\"psysml:16b22f80-f2ca-4440-a25c-8e72c7cab96e\" xlink:actuate=\"onRequest\" xlink:href=\"psysml:16b22f80-f2ca-4440-a25c-8e72c7cab96e\" xlink:show=\"new\" xlink:title=\"psysml:16b22f80-f2ca-4440-a25c-8e72c7cab96e\" xlink:type=\"simple\"><rect fill=\"#FEFECE\" filter=\"url(#f35oxz9c666s4)\" height=\"45.9375\" id=\"E3\" rx=\"10\" ry=\"10\" style=\"stroke: #A80036; stroke-width: 1.5;\" width=\"98\" x=\"686\" y=\"54\"/><text fill=\"#000000\" font-family=\"sans-serif\" font-size=\"12\" font-style=\"italic\" lengthAdjust=\"spacingAndGlyphs\" textLength=\"69\" x=\"700.5\" y=\"70.1387\">«attribute»</text><text fill=\"#000000\" font-family=\"sans-serif\" font-size=\"12\" lengthAdjust=\"spacingAndGlyphs\" textLength=\"92\" x=\"689\" y=\"84.1074\">packet header</text><line style=\"stroke: #A80036; stroke-width: 1.5;\" x1=\"687\" x2=\"783\" y1=\"91.9375\" y2=\"91.9375\"/></a><!--MD5=[ebbe1d658d1005bcc118a6aa81145e00]\n",
       "class E4--><a href=\"psysml:7e904c0e-d2a4-45ad-bef1-7051678b2240\" target=\"_top\" title=\"psysml:7e904c0e-d2a4-45ad-bef1-7051678b2240\" xlink:actuate=\"onRequest\" xlink:href=\"psysml:7e904c0e-d2a4-45ad-bef1-7051678b2240\" xlink:show=\"new\" xlink:title=\"psysml:7e904c0e-d2a4-45ad-bef1-7051678b2240\" xlink:type=\"simple\"><rect fill=\"#FEFECE\" filter=\"url(#f35oxz9c666s4)\" height=\"72.4922\" id=\"E4\" rx=\"10\" ry=\"10\" style=\"stroke: #A80036; stroke-width: 1.5;\" width=\"310\" x=\"341\" y=\"41\"/><text fill=\"#000000\" font-family=\"sans-serif\" font-size=\"12\" font-style=\"italic\" lengthAdjust=\"spacingAndGlyphs\" textLength=\"69\" x=\"461.5\" y=\"57.1387\">«attribute»</text><text fill=\"#000000\" font-family=\"sans-serif\" font-size=\"12\" lengthAdjust=\"spacingAndGlyphs\" textLength=\"106\" x=\"443\" y=\"71.1074\">packet data field</text><line style=\"stroke: #A80036; stroke-width: 1.5;\" x1=\"342\" x2=\"650\" y1=\"78.9375\" y2=\"78.9375\"/><path d=\"M348.9167,83.8542 L348.9167,93.0208 L349.8333,93.0208 L349.8333,83.8542 M352.5833,83.8542 L352.5833,93.0208 L359.9167,88.4375 L352.5833,83.8542 L353.5,85.2292 L358.5417,88.4375 L353.5,91.6458 L353.5,85.2292 \" fill=\"#000000\" style=\"stroke: ; stroke-width: 0.0; stroke-dasharray: ;\"/><text fill=\"#000000\" font-family=\"sans-serif\" font-size=\"11\" lengthAdjust=\"spacingAndGlyphs\" textLength=\"144\" x=\"364\" y=\"94.0933\">packet secondary header</text><text fill=\"#000000\" font-family=\"sans-serif\" font-size=\"11\" lengthAdjust=\"spacingAndGlyphs\" text-decoration=\"line-through\" textLength=\"133\" x=\"512\" y=\"94.0933\">Packets::packet header</text><text fill=\"#000000\" font-family=\"sans-serif\" font-size=\"11\" lengthAdjust=\"spacingAndGlyphs\" textLength=\"83\" x=\"347\" y=\"106.8979\">user data field</text></a><!--MD5=[270fce915f116d4de14055a7c1d9a0f3]\n",
       "class E5--><a href=\"psysml:7a510d36-5831-409f-9d62-08a185df40ba\" target=\"_top\" title=\"psysml:7a510d36-5831-409f-9d62-08a185df40ba\" xlink:actuate=\"onRequest\" xlink:href=\"psysml:7a510d36-5831-409f-9d62-08a185df40ba\" xlink:show=\"new\" xlink:title=\"psysml:7a510d36-5831-409f-9d62-08a185df40ba\" xlink:type=\"simple\"><rect fill=\"#FEFECE\" filter=\"url(#f35oxz9c666s4)\" height=\"73.4375\" id=\"E5\" style=\"stroke: #A80036; stroke-width: 1.5;\" width=\"295\" x=\"32.5\" y=\"173\"/><text fill=\"#000000\" font-family=\"sans-serif\" font-size=\"12\" font-style=\"italic\" lengthAdjust=\"spacingAndGlyphs\" textLength=\"64\" x=\"148\" y=\"189.1387\">«part def»</text><text fill=\"#000000\" font-family=\"sans-serif\" font-size=\"12\" lengthAdjust=\"spacingAndGlyphs\" textLength=\"77\" x=\"141.5\" y=\"203.1074\">Data Packet</text><line style=\"stroke: #A80036; stroke-width: 1.5;\" x1=\"33.5\" x2=\"326.5\" y1=\"210.9375\" y2=\"210.9375\"/><path d=\"M40.4167,215.8542 L40.4167,225.0208 L41.3333,225.0208 L41.3333,215.8542 M44.0833,215.8542 L44.0833,225.0208 L51.4167,220.4375 L44.0833,215.8542 L45,217.2292 L50.0417,220.4375 L45,223.6458 L45,217.2292 \" fill=\"#000000\" style=\"stroke: ; stroke-width: 0.0; stroke-dasharray: ;\"/><text fill=\"#000000\" font-family=\"sans-serif\" font-size=\"11\" lengthAdjust=\"spacingAndGlyphs\" textLength=\"94\" x=\"55.5\" y=\"226.0933\">packet data field</text><text fill=\"#000000\" font-family=\"sans-serif\" font-size=\"11\" lengthAdjust=\"spacingAndGlyphs\" text-decoration=\"line-through\" textLength=\"146\" x=\"153.5\" y=\"226.0933\">Packets::packet data field</text><path d=\"M40.4167,229.6042 L40.4167,238.7708 L41.3333,238.7708 L41.3333,229.6042 M44.0833,229.6042 L44.0833,238.7708 L51.4167,234.1875 L44.0833,229.6042 L45,230.9792 L50.0417,234.1875 L45,237.3958 L45,230.9792 \" fill=\"#000000\" style=\"stroke: ; stroke-width: 0.0; stroke-dasharray: ;\"/><text fill=\"#000000\" font-family=\"sans-serif\" font-size=\"11\" lengthAdjust=\"spacingAndGlyphs\" textLength=\"129\" x=\"55.5\" y=\"239.8433\">packet primary header</text><text fill=\"#000000\" font-family=\"sans-serif\" font-size=\"11\" lengthAdjust=\"spacingAndGlyphs\" text-decoration=\"line-through\" textLength=\"133\" x=\"188.5\" y=\"239.8433\">Packets::packet header</text></a><!--MD5=[60a26617385b1d2d0262a64233df1f8d]\n",
       "class E6--><a href=\"psysml:10023c3e-6ce6-4816-9fb9-6800bd66eb89\" target=\"_top\" title=\"psysml:10023c3e-6ce6-4816-9fb9-6800bd66eb89\" xlink:actuate=\"onRequest\" xlink:href=\"psysml:10023c3e-6ce6-4816-9fb9-6800bd66eb89\" xlink:show=\"new\" xlink:title=\"psysml:10023c3e-6ce6-4816-9fb9-6800bd66eb89\" xlink:type=\"simple\"><rect fill=\"#FEFECE\" filter=\"url(#f35oxz9c666s4)\" height=\"59.6875\" id=\"E6\" style=\"stroke: #A80036; stroke-width: 1.5;\" width=\"273\" x=\"32.5\" y=\"47\"/><text fill=\"#000000\" font-family=\"sans-serif\" font-size=\"12\" font-style=\"italic\" lengthAdjust=\"spacingAndGlyphs\" textLength=\"64\" x=\"137\" y=\"63.1387\">«part def»</text><text fill=\"#000000\" font-family=\"sans-serif\" font-size=\"12\" lengthAdjust=\"spacingAndGlyphs\" textLength=\"131\" x=\"103.5\" y=\"77.1074\">Thermal Data Packet</text><line style=\"stroke: #A80036; stroke-width: 1.5;\" x1=\"33.5\" x2=\"304.5\" y1=\"84.9375\" y2=\"84.9375\"/><path d=\"M40.4167,89.8542 L40.4167,99.0208 L41.3333,99.0208 L41.3333,89.8542 M44.0833,89.8542 L44.0833,99.0208 L51.4167,94.4375 L44.0833,89.8542 L45,91.2292 L50.0417,94.4375 L45,97.6458 L45,91.2292 \" fill=\"#000000\" style=\"stroke: ; stroke-width: 0.0; stroke-dasharray: ;\"/><text fill=\"#000000\" font-family=\"sans-serif\" font-size=\"11\" lengthAdjust=\"spacingAndGlyphs\" textLength=\"94\" x=\"55.5\" y=\"100.0933\">packet data field</text><text fill=\"#000000\" font-family=\"sans-serif\" font-size=\"11\" lengthAdjust=\"spacingAndGlyphs\" text-decoration=\"line-through\" textLength=\"146\" x=\"153.5\" y=\"100.0933\">Packets::packet data field</text></a><!--MD5=[25b190c987b1e74e5126d372c5a73af1]\n",
       "link E6 to E5--><a href=\"psysml:8c509f82-013b-4383-9ee5-07fa63a1b780\" target=\"_top\" title=\"psysml:8c509f82-013b-4383-9ee5-07fa63a1b780\" xlink:actuate=\"onRequest\" xlink:href=\"psysml:8c509f82-013b-4383-9ee5-07fa63a1b780\" xlink:show=\"new\" xlink:title=\"psysml:8c509f82-013b-4383-9ee5-07fa63a1b780\" xlink:type=\"simple\"><path d=\"M171.47,107.29 C172.6,120.69 173.98,137.04 175.29,152.66 \" fill=\"none\" id=\"E6-&gt;E5\" style=\"stroke: #A80036; stroke-width: 1.0;\"/><polygon fill=\"none\" points=\"182.29,152.28,176.99,172.8,168.34,153.46,182.29,152.28\" style=\"stroke: #A80036; stroke-width: 1.0;\"/></a><!--MD5=[3bcc2cd38495c9854c0a0ee678831bce]\n",
       "@startuml\r\n",
       "skinparam wrapWidth 300\r\n",
       "hide circle\r\n",
       "\r\n",
       "package \"Packets\" as E1  [[psysml:781596e5-2fdd-47e5-84a9-0e1e2d017791 ]]  {\r\n",
       "comp def \"DateTime\" as E2  <<(T,blue)attribute def>> [[psysml:09967ea5-e8af-470d-92d0-5553b1044725 ]] {\r\n",
       "}\r\n",
       "comp usage \"packet header\" as E3  <<(T,blue)attribute>> [[psysml:16b22f80-f2ca-4440-a25c-8e72c7cab96e ]] {\r\n",
       "}\r\n",
       "comp usage \"packet data field\" as E4  <<(T,blue)attribute>> [[psysml:7e904c0e-d2a4-45ad-bef1-7051678b2240 ]] {\r\n",
       "<&bar-trig> packet secondary header <s>Packets::packet header</s>\r\n",
       "user data field\r\n",
       "}\r\n",
       "comp def \"Data Packet\" as E5  <<(T,blue)part def>> [[psysml:7a510d36-5831-409f-9d62-08a185df40ba ]] {\r\n",
       "<&bar-trig> packet data field <s>Packets::packet data field</s>\r\n",
       "<&bar-trig> packet primary header <s>Packets::packet header</s>\r\n",
       "}\r\n",
       "comp def \"Thermal Data Packet\" as E6  <<(T,blue)part def>> [[psysml:10023c3e-6ce6-4816-9fb9-6800bd66eb89 ]] {\r\n",
       "<&bar-trig> packet data field <s>Packets::packet data field</s>\r\n",
       "}\r\n",
       "E6 - -|> E5 [[psysml:8c509f82-013b-4383-9ee5-07fa63a1b780 ]] \r\n",
       "}\r\n",
       "@enduml\r\n",
       "\n",
       "PlantUML version 1.2020.13(Sat Jun 13 12:26:38 UTC 2020)\n",
       "(EPL source distribution)\n",
       "Java Runtime: OpenJDK Runtime Environment\n",
       "JVM: OpenJDK 64-Bit Server VM\n",
       "Default Encoding: UTF-8\n",
       "Language: en\n",
       "Country: null\n",
       "--></g></svg>"
      ]
     },
     "execution_count": 28,
     "metadata": {},
     "output_type": "execute_result"
    }
   ],
   "source": [
    "%viz --style=\"STDCOLOR\" --view=\"Sequence\" \"Packets\""
   ]
  },
  {
   "cell_type": "code",
   "execution_count": 29,
   "id": "38e6c4b5",
   "metadata": {
    "execution": {
     "iopub.execute_input": "2021-04-20T07:33:55.803923Z",
     "iopub.status.busy": "2021-04-20T07:33:55.803449Z",
     "iopub.status.idle": "2021-04-20T07:33:55.913399Z",
     "shell.execute_reply": "2021-04-20T07:33:55.913678Z"
    }
   },
   "outputs": [
    {
     "data": {
      "image/svg+xml": [
       "<?xml version=\"1.0\" encoding=\"UTF-8\" standalone=\"no\"?><svg xmlns=\"http://www.w3.org/2000/svg\" xmlns:xlink=\"http://www.w3.org/1999/xlink\" contentScriptType=\"application/ecmascript\" contentStyleType=\"text/css\" height=\"274px\" preserveAspectRatio=\"none\" style=\"width:953px;height:274px;\" version=\"1.1\" viewBox=\"0 0 953 274\" width=\"953px\" zoomAndPan=\"magnify\"><defs><filter height=\"300%\" id=\"f35oxz9c666s4\" width=\"300%\" x=\"-1\" y=\"-1\"><feGaussianBlur result=\"blurOut\" stdDeviation=\"2.0\"/><feColorMatrix in=\"blurOut\" result=\"blurOut2\" type=\"matrix\" values=\"0 0 0 0 0 0 0 0 0 0 0 0 0 0 0 0 0 0 .4 0\"/><feOffset dx=\"4.0\" dy=\"4.0\" in=\"blurOut2\" result=\"blurOut3\"/><feBlend in=\"SourceGraphic\" in2=\"blurOut3\" mode=\"normal\"/></filter></defs><g><!--MD5=[fbc87193dbaf4d95561dea2c320d4a47]\n",
       "cluster E1--><a href=\"psysml:781596e5-2fdd-47e5-84a9-0e1e2d017791\" target=\"_top\" title=\"psysml:781596e5-2fdd-47e5-84a9-0e1e2d017791\" xlink:actuate=\"onRequest\" xlink:href=\"psysml:781596e5-2fdd-47e5-84a9-0e1e2d017791\" xlink:show=\"new\" xlink:title=\"psysml:781596e5-2fdd-47e5-84a9-0e1e2d017791\" xlink:type=\"simple\"><polygon fill=\"#FFFFFF\" filter=\"url(#f35oxz9c666s4)\" points=\"16,6,84,6,91,28.2969,931,28.2969,931,262,16,262,16,6\" style=\"stroke: #000000; stroke-width: 1.5;\"/><line style=\"stroke: #000000; stroke-width: 1.5;\" x1=\"16\" x2=\"91\" y1=\"28.2969\" y2=\"28.2969\"/><text fill=\"#000000\" font-family=\"sans-serif\" font-size=\"14\" font-weight=\"bold\" lengthAdjust=\"spacingAndGlyphs\" textLength=\"62\" x=\"20\" y=\"20.9951\">Packets</text></a><!--MD5=[b4997ac47864f28c2f74865a473b2911]\n",
       "class E2--><a href=\"psysml:09967ea5-e8af-470d-92d0-5553b1044725\" target=\"_top\" title=\"psysml:09967ea5-e8af-470d-92d0-5553b1044725\" xlink:actuate=\"onRequest\" xlink:href=\"psysml:09967ea5-e8af-470d-92d0-5553b1044725\" xlink:show=\"new\" xlink:title=\"psysml:09967ea5-e8af-470d-92d0-5553b1044725\" xlink:type=\"simple\"><rect fill=\"#FEFECE\" filter=\"url(#f35oxz9c666s4)\" height=\"45.9375\" id=\"E2\" style=\"stroke: #A80036; stroke-width: 1.5;\" width=\"95\" x=\"819.5\" y=\"54\"/><text fill=\"#000000\" font-family=\"sans-serif\" font-size=\"12\" font-style=\"italic\" lengthAdjust=\"spacingAndGlyphs\" textLength=\"93\" x=\"820.5\" y=\"70.1387\">«attribute def»</text><text fill=\"#000000\" font-family=\"sans-serif\" font-size=\"12\" lengthAdjust=\"spacingAndGlyphs\" textLength=\"59\" x=\"837.5\" y=\"84.1074\">DateTime</text><line style=\"stroke: #A80036; stroke-width: 1.5;\" x1=\"820.5\" x2=\"913.5\" y1=\"91.9375\" y2=\"91.9375\"/></a><!--MD5=[09b614a08d8cba4a07c9adeb5e0fee81]\n",
       "class E3--><a href=\"psysml:16b22f80-f2ca-4440-a25c-8e72c7cab96e\" target=\"_top\" title=\"psysml:16b22f80-f2ca-4440-a25c-8e72c7cab96e\" xlink:actuate=\"onRequest\" xlink:href=\"psysml:16b22f80-f2ca-4440-a25c-8e72c7cab96e\" xlink:show=\"new\" xlink:title=\"psysml:16b22f80-f2ca-4440-a25c-8e72c7cab96e\" xlink:type=\"simple\"><rect fill=\"#FEFECE\" filter=\"url(#f35oxz9c666s4)\" height=\"45.9375\" id=\"E3\" rx=\"10\" ry=\"10\" style=\"stroke: #A80036; stroke-width: 1.5;\" width=\"98\" x=\"686\" y=\"54\"/><text fill=\"#000000\" font-family=\"sans-serif\" font-size=\"12\" font-style=\"italic\" lengthAdjust=\"spacingAndGlyphs\" textLength=\"69\" x=\"700.5\" y=\"70.1387\">«attribute»</text><text fill=\"#000000\" font-family=\"sans-serif\" font-size=\"12\" lengthAdjust=\"spacingAndGlyphs\" textLength=\"92\" x=\"689\" y=\"84.1074\">packet header</text><line style=\"stroke: #A80036; stroke-width: 1.5;\" x1=\"687\" x2=\"783\" y1=\"91.9375\" y2=\"91.9375\"/></a><!--MD5=[ebbe1d658d1005bcc118a6aa81145e00]\n",
       "class E4--><a href=\"psysml:7e904c0e-d2a4-45ad-bef1-7051678b2240\" target=\"_top\" title=\"psysml:7e904c0e-d2a4-45ad-bef1-7051678b2240\" xlink:actuate=\"onRequest\" xlink:href=\"psysml:7e904c0e-d2a4-45ad-bef1-7051678b2240\" xlink:show=\"new\" xlink:title=\"psysml:7e904c0e-d2a4-45ad-bef1-7051678b2240\" xlink:type=\"simple\"><rect fill=\"#FEFECE\" filter=\"url(#f35oxz9c666s4)\" height=\"72.4922\" id=\"E4\" rx=\"10\" ry=\"10\" style=\"stroke: #A80036; stroke-width: 1.5;\" width=\"310\" x=\"341\" y=\"41\"/><text fill=\"#000000\" font-family=\"sans-serif\" font-size=\"12\" font-style=\"italic\" lengthAdjust=\"spacingAndGlyphs\" textLength=\"69\" x=\"461.5\" y=\"57.1387\">«attribute»</text><text fill=\"#000000\" font-family=\"sans-serif\" font-size=\"12\" lengthAdjust=\"spacingAndGlyphs\" textLength=\"106\" x=\"443\" y=\"71.1074\">packet data field</text><line style=\"stroke: #A80036; stroke-width: 1.5;\" x1=\"342\" x2=\"650\" y1=\"78.9375\" y2=\"78.9375\"/><path d=\"M348.9167,83.8542 L348.9167,93.0208 L349.8333,93.0208 L349.8333,83.8542 M352.5833,83.8542 L352.5833,93.0208 L359.9167,88.4375 L352.5833,83.8542 L353.5,85.2292 L358.5417,88.4375 L353.5,91.6458 L353.5,85.2292 \" fill=\"#000000\" style=\"stroke: ; stroke-width: 0.0; stroke-dasharray: ;\"/><text fill=\"#000000\" font-family=\"sans-serif\" font-size=\"11\" lengthAdjust=\"spacingAndGlyphs\" textLength=\"144\" x=\"364\" y=\"94.0933\">packet secondary header</text><text fill=\"#000000\" font-family=\"sans-serif\" font-size=\"11\" lengthAdjust=\"spacingAndGlyphs\" text-decoration=\"line-through\" textLength=\"133\" x=\"512\" y=\"94.0933\">Packets::packet header</text><text fill=\"#000000\" font-family=\"sans-serif\" font-size=\"11\" lengthAdjust=\"spacingAndGlyphs\" textLength=\"83\" x=\"347\" y=\"106.8979\">user data field</text></a><!--MD5=[270fce915f116d4de14055a7c1d9a0f3]\n",
       "class E5--><a href=\"psysml:7a510d36-5831-409f-9d62-08a185df40ba\" target=\"_top\" title=\"psysml:7a510d36-5831-409f-9d62-08a185df40ba\" xlink:actuate=\"onRequest\" xlink:href=\"psysml:7a510d36-5831-409f-9d62-08a185df40ba\" xlink:show=\"new\" xlink:title=\"psysml:7a510d36-5831-409f-9d62-08a185df40ba\" xlink:type=\"simple\"><rect fill=\"#FEFECE\" filter=\"url(#f35oxz9c666s4)\" height=\"73.4375\" id=\"E5\" style=\"stroke: #A80036; stroke-width: 1.5;\" width=\"295\" x=\"32.5\" y=\"173\"/><text fill=\"#000000\" font-family=\"sans-serif\" font-size=\"12\" font-style=\"italic\" lengthAdjust=\"spacingAndGlyphs\" textLength=\"64\" x=\"148\" y=\"189.1387\">«part def»</text><text fill=\"#000000\" font-family=\"sans-serif\" font-size=\"12\" lengthAdjust=\"spacingAndGlyphs\" textLength=\"77\" x=\"141.5\" y=\"203.1074\">Data Packet</text><line style=\"stroke: #A80036; stroke-width: 1.5;\" x1=\"33.5\" x2=\"326.5\" y1=\"210.9375\" y2=\"210.9375\"/><path d=\"M40.4167,215.8542 L40.4167,225.0208 L41.3333,225.0208 L41.3333,215.8542 M44.0833,215.8542 L44.0833,225.0208 L51.4167,220.4375 L44.0833,215.8542 L45,217.2292 L50.0417,220.4375 L45,223.6458 L45,217.2292 \" fill=\"#000000\" style=\"stroke: ; stroke-width: 0.0; stroke-dasharray: ;\"/><text fill=\"#000000\" font-family=\"sans-serif\" font-size=\"11\" lengthAdjust=\"spacingAndGlyphs\" textLength=\"94\" x=\"55.5\" y=\"226.0933\">packet data field</text><text fill=\"#000000\" font-family=\"sans-serif\" font-size=\"11\" lengthAdjust=\"spacingAndGlyphs\" text-decoration=\"line-through\" textLength=\"146\" x=\"153.5\" y=\"226.0933\">Packets::packet data field</text><path d=\"M40.4167,229.6042 L40.4167,238.7708 L41.3333,238.7708 L41.3333,229.6042 M44.0833,229.6042 L44.0833,238.7708 L51.4167,234.1875 L44.0833,229.6042 L45,230.9792 L50.0417,234.1875 L45,237.3958 L45,230.9792 \" fill=\"#000000\" style=\"stroke: ; stroke-width: 0.0; stroke-dasharray: ;\"/><text fill=\"#000000\" font-family=\"sans-serif\" font-size=\"11\" lengthAdjust=\"spacingAndGlyphs\" textLength=\"129\" x=\"55.5\" y=\"239.8433\">packet primary header</text><text fill=\"#000000\" font-family=\"sans-serif\" font-size=\"11\" lengthAdjust=\"spacingAndGlyphs\" text-decoration=\"line-through\" textLength=\"133\" x=\"188.5\" y=\"239.8433\">Packets::packet header</text></a><!--MD5=[60a26617385b1d2d0262a64233df1f8d]\n",
       "class E6--><a href=\"psysml:10023c3e-6ce6-4816-9fb9-6800bd66eb89\" target=\"_top\" title=\"psysml:10023c3e-6ce6-4816-9fb9-6800bd66eb89\" xlink:actuate=\"onRequest\" xlink:href=\"psysml:10023c3e-6ce6-4816-9fb9-6800bd66eb89\" xlink:show=\"new\" xlink:title=\"psysml:10023c3e-6ce6-4816-9fb9-6800bd66eb89\" xlink:type=\"simple\"><rect fill=\"#FEFECE\" filter=\"url(#f35oxz9c666s4)\" height=\"59.6875\" id=\"E6\" style=\"stroke: #A80036; stroke-width: 1.5;\" width=\"273\" x=\"32.5\" y=\"47\"/><text fill=\"#000000\" font-family=\"sans-serif\" font-size=\"12\" font-style=\"italic\" lengthAdjust=\"spacingAndGlyphs\" textLength=\"64\" x=\"137\" y=\"63.1387\">«part def»</text><text fill=\"#000000\" font-family=\"sans-serif\" font-size=\"12\" lengthAdjust=\"spacingAndGlyphs\" textLength=\"131\" x=\"103.5\" y=\"77.1074\">Thermal Data Packet</text><line style=\"stroke: #A80036; stroke-width: 1.5;\" x1=\"33.5\" x2=\"304.5\" y1=\"84.9375\" y2=\"84.9375\"/><path d=\"M40.4167,89.8542 L40.4167,99.0208 L41.3333,99.0208 L41.3333,89.8542 M44.0833,89.8542 L44.0833,99.0208 L51.4167,94.4375 L44.0833,89.8542 L45,91.2292 L50.0417,94.4375 L45,97.6458 L45,91.2292 \" fill=\"#000000\" style=\"stroke: ; stroke-width: 0.0; stroke-dasharray: ;\"/><text fill=\"#000000\" font-family=\"sans-serif\" font-size=\"11\" lengthAdjust=\"spacingAndGlyphs\" textLength=\"94\" x=\"55.5\" y=\"100.0933\">packet data field</text><text fill=\"#000000\" font-family=\"sans-serif\" font-size=\"11\" lengthAdjust=\"spacingAndGlyphs\" text-decoration=\"line-through\" textLength=\"146\" x=\"153.5\" y=\"100.0933\">Packets::packet data field</text></a><!--MD5=[25b190c987b1e74e5126d372c5a73af1]\n",
       "link E6 to E5--><a href=\"psysml:8c509f82-013b-4383-9ee5-07fa63a1b780\" target=\"_top\" title=\"psysml:8c509f82-013b-4383-9ee5-07fa63a1b780\" xlink:actuate=\"onRequest\" xlink:href=\"psysml:8c509f82-013b-4383-9ee5-07fa63a1b780\" xlink:show=\"new\" xlink:title=\"psysml:8c509f82-013b-4383-9ee5-07fa63a1b780\" xlink:type=\"simple\"><path d=\"M171.47,107.29 C172.6,120.69 173.98,137.04 175.29,152.66 \" fill=\"none\" id=\"E6-&gt;E5\" style=\"stroke: #A80036; stroke-width: 1.0;\"/><polygon fill=\"none\" points=\"182.29,152.28,176.99,172.8,168.34,153.46,182.29,152.28\" style=\"stroke: #A80036; stroke-width: 1.0;\"/></a><!--MD5=[3bcc2cd38495c9854c0a0ee678831bce]\n",
       "@startuml\r\n",
       "skinparam wrapWidth 300\r\n",
       "hide circle\r\n",
       "\r\n",
       "package \"Packets\" as E1  [[psysml:781596e5-2fdd-47e5-84a9-0e1e2d017791 ]]  {\r\n",
       "comp def \"DateTime\" as E2  <<(T,blue)attribute def>> [[psysml:09967ea5-e8af-470d-92d0-5553b1044725 ]] {\r\n",
       "}\r\n",
       "comp usage \"packet header\" as E3  <<(T,blue)attribute>> [[psysml:16b22f80-f2ca-4440-a25c-8e72c7cab96e ]] {\r\n",
       "}\r\n",
       "comp usage \"packet data field\" as E4  <<(T,blue)attribute>> [[psysml:7e904c0e-d2a4-45ad-bef1-7051678b2240 ]] {\r\n",
       "<&bar-trig> packet secondary header <s>Packets::packet header</s>\r\n",
       "user data field\r\n",
       "}\r\n",
       "comp def \"Data Packet\" as E5  <<(T,blue)part def>> [[psysml:7a510d36-5831-409f-9d62-08a185df40ba ]] {\r\n",
       "<&bar-trig> packet data field <s>Packets::packet data field</s>\r\n",
       "<&bar-trig> packet primary header <s>Packets::packet header</s>\r\n",
       "}\r\n",
       "comp def \"Thermal Data Packet\" as E6  <<(T,blue)part def>> [[psysml:10023c3e-6ce6-4816-9fb9-6800bd66eb89 ]] {\r\n",
       "<&bar-trig> packet data field <s>Packets::packet data field</s>\r\n",
       "}\r\n",
       "E6 - -|> E5 [[psysml:8c509f82-013b-4383-9ee5-07fa63a1b780 ]] \r\n",
       "}\r\n",
       "@enduml\r\n",
       "\n",
       "PlantUML version 1.2020.13(Sat Jun 13 12:26:38 UTC 2020)\n",
       "(EPL source distribution)\n",
       "Java Runtime: OpenJDK Runtime Environment\n",
       "JVM: OpenJDK 64-Bit Server VM\n",
       "Default Encoding: UTF-8\n",
       "Language: en\n",
       "Country: null\n",
       "--></g></svg>"
      ]
     },
     "execution_count": 29,
     "metadata": {},
     "output_type": "execute_result"
    }
   ],
   "source": [
    "%viz --style=\"STDCOLOR\" --view=\"MIXED\" \"Packets\""
   ]
  },
  {
   "cell_type": "code",
   "execution_count": 30,
   "id": "169f692c",
   "metadata": {
    "execution": {
     "iopub.execute_input": "2021-04-20T07:33:55.965872Z",
     "iopub.status.busy": "2021-04-20T07:33:55.964288Z",
     "iopub.status.idle": "2021-04-20T07:33:56.071293Z",
     "shell.execute_reply": "2021-04-20T07:33:56.069856Z"
    }
   },
   "outputs": [
    {
     "data": {
      "image/svg+xml": [
       "<?xml version=\"1.0\" encoding=\"UTF-8\" standalone=\"no\"?><svg xmlns=\"http://www.w3.org/2000/svg\" xmlns:xlink=\"http://www.w3.org/1999/xlink\" contentScriptType=\"application/ecmascript\" contentStyleType=\"text/css\" height=\"304px\" preserveAspectRatio=\"none\" style=\"width:768px;height:304px;\" version=\"1.1\" viewBox=\"0 0 768 304\" width=\"768px\" zoomAndPan=\"magnify\"><defs><filter height=\"300%\" id=\"fp2yg440kp0sj\" width=\"300%\" x=\"-1\" y=\"-1\"><feGaussianBlur result=\"blurOut\" stdDeviation=\"2.0\"/><feColorMatrix in=\"blurOut\" result=\"blurOut2\" type=\"matrix\" values=\"0 0 0 0 0 0 0 0 0 0 0 0 0 0 0 0 0 0 .4 0\"/><feOffset dx=\"4.0\" dy=\"4.0\" in=\"blurOut2\" result=\"blurOut3\"/><feBlend in=\"SourceGraphic\" in2=\"blurOut3\" mode=\"normal\"/></filter></defs><g><!--MD5=[fbc87193dbaf4d95561dea2c320d4a47]\n",
       "cluster E1--><a href=\"psysml:781596e5-2fdd-47e5-84a9-0e1e2d017791\" target=\"_top\" title=\"psysml:781596e5-2fdd-47e5-84a9-0e1e2d017791\" xlink:actuate=\"onRequest\" xlink:href=\"psysml:781596e5-2fdd-47e5-84a9-0e1e2d017791\" xlink:show=\"new\" xlink:title=\"psysml:781596e5-2fdd-47e5-84a9-0e1e2d017791\" xlink:type=\"simple\"><polygon fill=\"#FFFFFF\" filter=\"url(#fp2yg440kp0sj)\" points=\"16,6,84,6,91,28.2969,746,28.2969,746,292,16,292,16,6\" style=\"stroke: #000000; stroke-width: 1.5;\"/><line style=\"stroke: #000000; stroke-width: 1.5;\" x1=\"16\" x2=\"91\" y1=\"28.2969\" y2=\"28.2969\"/><text fill=\"#000000\" font-family=\"sans-serif\" font-size=\"14\" font-weight=\"bold\" lengthAdjust=\"spacingAndGlyphs\" textLength=\"62\" x=\"20\" y=\"20.9951\">Packets</text></a><!--MD5=[b4997ac47864f28c2f74865a473b2911]\n",
       "class E2--><a href=\"psysml:09967ea5-e8af-470d-92d0-5553b1044725\" target=\"_top\" title=\"psysml:09967ea5-e8af-470d-92d0-5553b1044725\" xlink:actuate=\"onRequest\" xlink:href=\"psysml:09967ea5-e8af-470d-92d0-5553b1044725\" xlink:show=\"new\" xlink:title=\"psysml:09967ea5-e8af-470d-92d0-5553b1044725\" xlink:type=\"simple\"><rect fill=\"#FEFECE\" filter=\"url(#fp2yg440kp0sj)\" height=\"45.9375\" id=\"E2\" style=\"stroke: #A80036; stroke-width: 1.5;\" width=\"121\" x=\"608.5\" y=\"60\"/><ellipse cx=\"623.5\" cy=\"78.9688\" fill=\"#A52A2A\" rx=\"11\" ry=\"11\" style=\"stroke: #A80036; stroke-width: 1.0;\"/><path d=\"M623.0938,74.7813 L623.0938,82.7656 L623.75,82.7656 Q625.1875,82.7656 625.7969,81.8594 Q626.4219,80.9375 626.4219,78.7656 Q626.4219,76.5938 625.7969,75.6875 Q625.1875,74.7813 623.75,74.7813 L623.0938,74.7813 Z M620.6406,72.5781 L623.2656,72.5781 Q626.2969,72.5781 627.625,74.0313 Q628.9688,75.4688 628.9688,78.7656 Q628.9688,82.0625 627.625,83.5156 Q626.2969,84.9688 623.2656,84.9688 L620.6406,84.9688 L620.6406,72.5781 Z \"/><text fill=\"#000000\" font-family=\"sans-serif\" font-size=\"12\" font-style=\"italic\" lengthAdjust=\"spacingAndGlyphs\" textLength=\"93\" x=\"635.5\" y=\"76.1387\">«attribute def»</text><text fill=\"#000000\" font-family=\"sans-serif\" font-size=\"12\" lengthAdjust=\"spacingAndGlyphs\" textLength=\"59\" x=\"652.5\" y=\"90.1074\">DateTime</text><line style=\"stroke: #A80036; stroke-width: 1.5;\" x1=\"609.5\" x2=\"728.5\" y1=\"97.9375\" y2=\"97.9375\"/></a><!--MD5=[09b614a08d8cba4a07c9adeb5e0fee81]\n",
       "class E3--><a href=\"psysml:16b22f80-f2ca-4440-a25c-8e72c7cab96e\" target=\"_top\" title=\"psysml:16b22f80-f2ca-4440-a25c-8e72c7cab96e\" xlink:actuate=\"onRequest\" xlink:href=\"psysml:16b22f80-f2ca-4440-a25c-8e72c7cab96e\" xlink:show=\"new\" xlink:title=\"psysml:16b22f80-f2ca-4440-a25c-8e72c7cab96e\" xlink:type=\"simple\"><rect fill=\"#FEFECE\" filter=\"url(#fp2yg440kp0sj)\" height=\"45.9375\" id=\"E3\" rx=\"10\" ry=\"10\" style=\"stroke: #A80036; stroke-width: 1.5;\" width=\"124\" x=\"449\" y=\"60\"/><ellipse cx=\"464\" cy=\"78.9688\" fill=\"#FFA500\" rx=\"11\" ry=\"11\" style=\"stroke: #A80036; stroke-width: 1.0;\"/><path d=\"M459.875,80.8906 L459.875,73.0781 L462.3281,73.0781 L462.3281,81.5156 Q462.3281,82.4375 462.7969,82.9688 Q463.2813,83.5 464.1094,83.5 Q464.9531,83.5 465.4219,82.9688 Q465.8906,82.4375 465.8906,81.5156 L465.8906,73.0781 L468.3438,73.0781 L468.3438,80.8906 Q468.3438,83.4219 467.3438,84.5625 Q466.3438,85.7031 464.1094,85.7031 Q461.8906,85.7031 460.875,84.5625 Q459.875,83.4219 459.875,80.8906 Z \"/><text fill=\"#000000\" font-family=\"sans-serif\" font-size=\"12\" font-style=\"italic\" lengthAdjust=\"spacingAndGlyphs\" textLength=\"69\" x=\"489.5\" y=\"76.1387\">«attribute»</text><text fill=\"#000000\" font-family=\"sans-serif\" font-size=\"12\" lengthAdjust=\"spacingAndGlyphs\" textLength=\"92\" x=\"478\" y=\"90.1074\">packet header</text><line style=\"stroke: #A80036; stroke-width: 1.5;\" x1=\"450\" x2=\"572\" y1=\"97.9375\" y2=\"97.9375\"/></a><!--MD5=[ebbe1d658d1005bcc118a6aa81145e00]\n",
       "class E4--><a href=\"psysml:7e904c0e-d2a4-45ad-bef1-7051678b2240\" target=\"_top\" title=\"psysml:7e904c0e-d2a4-45ad-bef1-7051678b2240\" xlink:actuate=\"onRequest\" xlink:href=\"psysml:7e904c0e-d2a4-45ad-bef1-7051678b2240\" xlink:show=\"new\" xlink:title=\"psysml:7e904c0e-d2a4-45ad-bef1-7051678b2240\" xlink:type=\"simple\"><rect fill=\"#FEFECE\" filter=\"url(#fp2yg440kp0sj)\" height=\"84.3516\" id=\"E4\" rx=\"10\" ry=\"10\" style=\"stroke: #A80036; stroke-width: 1.5;\" width=\"167\" x=\"247.5\" y=\"41\"/><ellipse cx=\"275.55\" cy=\"59.9688\" fill=\"#FFA500\" rx=\"11\" ry=\"11\" style=\"stroke: #A80036; stroke-width: 1.0;\"/><path d=\"M271.425,61.8906 L271.425,54.0781 L273.8781,54.0781 L273.8781,62.5156 Q273.8781,63.4375 274.3469,63.9688 Q274.8313,64.5 275.6594,64.5 Q276.5031,64.5 276.9719,63.9688 Q277.4406,63.4375 277.4406,62.5156 L277.4406,54.0781 L279.8938,54.0781 L279.8938,61.8906 Q279.8938,64.4219 278.8938,65.5625 Q277.8938,66.7031 275.6594,66.7031 Q273.4406,66.7031 272.425,65.5625 Q271.425,64.4219 271.425,61.8906 Z \"/><text fill=\"#000000\" font-family=\"sans-serif\" font-size=\"12\" font-style=\"italic\" lengthAdjust=\"spacingAndGlyphs\" textLength=\"69\" x=\"310.95\" y=\"57.1387\">«attribute»</text><text fill=\"#000000\" font-family=\"sans-serif\" font-size=\"12\" lengthAdjust=\"spacingAndGlyphs\" textLength=\"106\" x=\"292.45\" y=\"71.1074\">packet data field</text><line style=\"stroke: #A80036; stroke-width: 1.5;\" x1=\"248.5\" x2=\"413.5\" y1=\"78.9375\" y2=\"78.9375\"/><text fill=\"#000000\" font-family=\"sans-serif\" font-size=\"11\" lengthAdjust=\"spacingAndGlyphs\" textLength=\"144\" x=\"253.5\" y=\"93.1479\">packet secondary header</text><text fill=\"#000000\" font-family=\"sans-serif\" font-size=\"11\" font-style=\"italic\" lengthAdjust=\"spacingAndGlyphs\" textLength=\"155\" x=\"253.5\" y=\"105.9526\">:&gt;&gt;Packets::packet header</text><text fill=\"#000000\" font-family=\"sans-serif\" font-size=\"11\" lengthAdjust=\"spacingAndGlyphs\" textLength=\"83\" x=\"253.5\" y=\"118.7573\">user data field</text></a><!--MD5=[270fce915f116d4de14055a7c1d9a0f3]\n",
       "class E5--><a href=\"psysml:7a510d36-5831-409f-9d62-08a185df40ba\" target=\"_top\" title=\"psysml:7a510d36-5831-409f-9d62-08a185df40ba\" xlink:actuate=\"onRequest\" xlink:href=\"psysml:7a510d36-5831-409f-9d62-08a185df40ba\" xlink:show=\"new\" xlink:title=\"psysml:7a510d36-5831-409f-9d62-08a185df40ba\" xlink:type=\"simple\"><rect fill=\"#FEFECE\" filter=\"url(#fp2yg440kp0sj)\" height=\"91.2188\" id=\"E5\" style=\"stroke: #A80036; stroke-width: 1.5;\" width=\"180\" x=\"32\" y=\"185\"/><ellipse cx=\"79.25\" cy=\"201\" fill=\"#008000\" rx=\"11\" ry=\"11\" style=\"stroke: #A80036; stroke-width: 1.0;\"/><path d=\"M78.1563,201.375 L78.1563,205.0469 L79.7813,205.0469 Q80.9531,205.0469 81.4219,204.6563 Q81.8906,204.25 81.8906,203.25 Q81.8906,202.25 81.3906,201.8125 Q80.9063,201.375 79.7813,201.375 L78.1563,201.375 Z M78.1563,196.5469 L78.1563,199.4219 L79.7813,199.4219 Q80.7031,199.4219 81.0938,199.0938 Q81.5,198.75 81.5,198 Q81.5,197.2344 81.0938,196.8906 Q80.6875,196.5469 79.7813,196.5469 L78.1563,196.5469 Z M75.7813,194.5938 L79.7813,194.5938 Q81.8438,194.5938 82.8906,195.375 Q83.9375,196.1563 83.9375,197.7188 Q83.9375,198.9219 83.3125,199.5938 Q82.7031,200.2656 81.5156,200.375 Q82.9375,200.5156 83.6563,201.3281 Q84.375,202.1406 84.375,203.5938 Q84.375,205.3906 83.2969,206.2031 Q82.2188,207 79.7813,207 L75.7813,207 L75.7813,194.5938 Z \"/><text fill=\"#000000\" font-family=\"sans-serif\" font-size=\"12\" lengthAdjust=\"spacingAndGlyphs\" textLength=\"77\" x=\"99.75\" y=\"205.1543\">Data Packet</text><line style=\"stroke: #A80036; stroke-width: 1.5;\" x1=\"33\" x2=\"211\" y1=\"217\" y2=\"217\"/><text fill=\"#000000\" font-family=\"sans-serif\" font-size=\"11\" lengthAdjust=\"spacingAndGlyphs\" textLength=\"94\" x=\"38\" y=\"231.2104\">packet data field</text><text fill=\"#000000\" font-family=\"sans-serif\" font-size=\"11\" font-style=\"italic\" lengthAdjust=\"spacingAndGlyphs\" textLength=\"168\" x=\"38\" y=\"244.0151\">:&gt;&gt;Packets::packet data field</text><text fill=\"#000000\" font-family=\"sans-serif\" font-size=\"11\" lengthAdjust=\"spacingAndGlyphs\" textLength=\"129\" x=\"38\" y=\"256.8198\">packet primary header</text><text fill=\"#000000\" font-family=\"sans-serif\" font-size=\"11\" font-style=\"italic\" lengthAdjust=\"spacingAndGlyphs\" textLength=\"155\" x=\"38\" y=\"269.6245\">:&gt;&gt;Packets::packet header</text></a><!--MD5=[60a26617385b1d2d0262a64233df1f8d]\n",
       "class E6--><a href=\"psysml:10023c3e-6ce6-4816-9fb9-6800bd66eb89\" target=\"_top\" title=\"psysml:10023c3e-6ce6-4816-9fb9-6800bd66eb89\" xlink:actuate=\"onRequest\" xlink:href=\"psysml:10023c3e-6ce6-4816-9fb9-6800bd66eb89\" xlink:show=\"new\" xlink:title=\"psysml:10023c3e-6ce6-4816-9fb9-6800bd66eb89\" xlink:type=\"simple\"><rect fill=\"#FEFECE\" filter=\"url(#fp2yg440kp0sj)\" height=\"65.6094\" id=\"E6\" style=\"stroke: #A80036; stroke-width: 1.5;\" width=\"180\" x=\"32\" y=\"50\"/><ellipse cx=\"54.65\" cy=\"66\" fill=\"#008000\" rx=\"11\" ry=\"11\" style=\"stroke: #A80036; stroke-width: 1.0;\"/><path d=\"M53.5563,66.375 L53.5563,70.0469 L55.1813,70.0469 Q56.3531,70.0469 56.8219,69.6563 Q57.2906,69.25 57.2906,68.25 Q57.2906,67.25 56.7906,66.8125 Q56.3063,66.375 55.1813,66.375 L53.5563,66.375 Z M53.5563,61.5469 L53.5563,64.4219 L55.1813,64.4219 Q56.1031,64.4219 56.4938,64.0938 Q56.9,63.75 56.9,63 Q56.9,62.2344 56.4938,61.8906 Q56.0875,61.5469 55.1813,61.5469 L53.5563,61.5469 Z M51.1813,59.5938 L55.1813,59.5938 Q57.2438,59.5938 58.2906,60.375 Q59.3375,61.1563 59.3375,62.7188 Q59.3375,63.9219 58.7125,64.5938 Q58.1031,65.2656 56.9156,65.375 Q58.3375,65.5156 59.0563,66.3281 Q59.775,67.1406 59.775,68.5938 Q59.775,70.3906 58.6969,71.2031 Q57.6188,72 55.1813,72 L51.1813,72 L51.1813,59.5938 Z \"/><text fill=\"#000000\" font-family=\"sans-serif\" font-size=\"12\" lengthAdjust=\"spacingAndGlyphs\" textLength=\"131\" x=\"70.35\" y=\"70.1543\">Thermal Data Packet</text><line style=\"stroke: #A80036; stroke-width: 1.5;\" x1=\"33\" x2=\"211\" y1=\"82\" y2=\"82\"/><text fill=\"#000000\" font-family=\"sans-serif\" font-size=\"11\" lengthAdjust=\"spacingAndGlyphs\" textLength=\"94\" x=\"38\" y=\"96.2104\">packet data field</text><text fill=\"#000000\" font-family=\"sans-serif\" font-size=\"11\" font-style=\"italic\" lengthAdjust=\"spacingAndGlyphs\" textLength=\"168\" x=\"38\" y=\"109.0151\">:&gt;&gt;Packets::packet data field</text></a><!--MD5=[25b190c987b1e74e5126d372c5a73af1]\n",
       "link E6 to E5--><a href=\"psysml:8c509f82-013b-4383-9ee5-07fa63a1b780\" target=\"_top\" title=\"psysml:8c509f82-013b-4383-9ee5-07fa63a1b780\" xlink:actuate=\"onRequest\" xlink:href=\"psysml:8c509f82-013b-4383-9ee5-07fa63a1b780\" xlink:show=\"new\" xlink:title=\"psysml:8c509f82-013b-4383-9ee5-07fa63a1b780\" xlink:type=\"simple\"><path d=\"M122,116.29 C122,130.56 122,147.87 122,164.61 \" fill=\"none\" id=\"E6-&gt;E5\" style=\"stroke: #A80036; stroke-width: 1.0;\"/><polygon fill=\"none\" points=\"129,164.88,122,184.88,115,164.88,129,164.88\" style=\"stroke: #A80036; stroke-width: 1.0;\"/></a><!--MD5=[5e0b0d6bd12d888a899a6880b96558bc]\n",
       "@startuml\r\n",
       " \r\n",
       "package \"Packets\" as E1  [[psysml:781596e5-2fdd-47e5-84a9-0e1e2d017791 ]]  {\r\n",
       "comp def \"DateTime\" as E2  <<(D,brown)attribute def>> [[psysml:09967ea5-e8af-470d-92d0-5553b1044725 ]] {\r\n",
       "}\r\n",
       "comp usage \"packet header\" as E3  <<(U,orange)attribute>> [[psysml:16b22f80-f2ca-4440-a25c-8e72c7cab96e ]] {\r\n",
       "}\r\n",
       "comp usage \"packet data field\" as E4  <<(U,orange)attribute>> [[psysml:7e904c0e-d2a4-45ad-bef1-7051678b2240 ]] {\r\n",
       "packet secondary header\\n//:>>Packets::packet header// \r\n",
       "user data field\r\n",
       "}\r\n",
       "comp def \"Data Packet\" as E5  << (B,green) >> [[psysml:7a510d36-5831-409f-9d62-08a185df40ba ]] {\r\n",
       "packet data field\\n//:>>Packets::packet data field// \r\n",
       "packet primary header\\n//:>>Packets::packet header// \r\n",
       "}\r\n",
       "comp def \"Thermal Data Packet\" as E6  << (B,green) >> [[psysml:10023c3e-6ce6-4816-9fb9-6800bd66eb89 ]] {\r\n",
       "packet data field\\n//:>>Packets::packet data field// \r\n",
       "}\r\n",
       "E6 - -|> E5 [[psysml:8c509f82-013b-4383-9ee5-07fa63a1b780 ]] \r\n",
       "}\r\n",
       "@enduml\r\n",
       "\n",
       "PlantUML version 1.2020.13(Sat Jun 13 12:26:38 UTC 2020)\n",
       "(EPL source distribution)\n",
       "Java Runtime: OpenJDK Runtime Environment\n",
       "JVM: OpenJDK 64-Bit Server VM\n",
       "Default Encoding: UTF-8\n",
       "Language: en\n",
       "Country: null\n",
       "--></g></svg>"
      ]
     },
     "execution_count": 30,
     "metadata": {},
     "output_type": "execute_result"
    }
   ],
   "source": [
    "%viz --style=\"PLANTUML\" --view=\"Default\" \"Packets\""
   ]
  },
  {
   "cell_type": "code",
   "execution_count": 31,
   "id": "f16f558e",
   "metadata": {
    "execution": {
     "iopub.execute_input": "2021-04-20T07:33:56.121883Z",
     "iopub.status.busy": "2021-04-20T07:33:56.121329Z",
     "iopub.status.idle": "2021-04-20T07:33:56.202523Z",
     "shell.execute_reply": "2021-04-20T07:33:56.202117Z"
    }
   },
   "outputs": [
    {
     "data": {
      "image/svg+xml": [
       "<?xml version=\"1.0\" encoding=\"UTF-8\" standalone=\"no\"?><svg xmlns=\"http://www.w3.org/2000/svg\" xmlns:xlink=\"http://www.w3.org/1999/xlink\" contentScriptType=\"application/ecmascript\" contentStyleType=\"text/css\" height=\"304px\" preserveAspectRatio=\"none\" style=\"width:768px;height:304px;\" version=\"1.1\" viewBox=\"0 0 768 304\" width=\"768px\" zoomAndPan=\"magnify\"><defs><filter height=\"300%\" id=\"fp2yg440kp0sj\" width=\"300%\" x=\"-1\" y=\"-1\"><feGaussianBlur result=\"blurOut\" stdDeviation=\"2.0\"/><feColorMatrix in=\"blurOut\" result=\"blurOut2\" type=\"matrix\" values=\"0 0 0 0 0 0 0 0 0 0 0 0 0 0 0 0 0 0 .4 0\"/><feOffset dx=\"4.0\" dy=\"4.0\" in=\"blurOut2\" result=\"blurOut3\"/><feBlend in=\"SourceGraphic\" in2=\"blurOut3\" mode=\"normal\"/></filter></defs><g><!--MD5=[fbc87193dbaf4d95561dea2c320d4a47]\n",
       "cluster E1--><a href=\"psysml:781596e5-2fdd-47e5-84a9-0e1e2d017791\" target=\"_top\" title=\"psysml:781596e5-2fdd-47e5-84a9-0e1e2d017791\" xlink:actuate=\"onRequest\" xlink:href=\"psysml:781596e5-2fdd-47e5-84a9-0e1e2d017791\" xlink:show=\"new\" xlink:title=\"psysml:781596e5-2fdd-47e5-84a9-0e1e2d017791\" xlink:type=\"simple\"><polygon fill=\"#FFFFFF\" filter=\"url(#fp2yg440kp0sj)\" points=\"16,6,84,6,91,28.2969,746,28.2969,746,292,16,292,16,6\" style=\"stroke: #000000; stroke-width: 1.5;\"/><line style=\"stroke: #000000; stroke-width: 1.5;\" x1=\"16\" x2=\"91\" y1=\"28.2969\" y2=\"28.2969\"/><text fill=\"#000000\" font-family=\"sans-serif\" font-size=\"14\" font-weight=\"bold\" lengthAdjust=\"spacingAndGlyphs\" textLength=\"62\" x=\"20\" y=\"20.9951\">Packets</text></a><!--MD5=[b4997ac47864f28c2f74865a473b2911]\n",
       "class E2--><a href=\"psysml:09967ea5-e8af-470d-92d0-5553b1044725\" target=\"_top\" title=\"psysml:09967ea5-e8af-470d-92d0-5553b1044725\" xlink:actuate=\"onRequest\" xlink:href=\"psysml:09967ea5-e8af-470d-92d0-5553b1044725\" xlink:show=\"new\" xlink:title=\"psysml:09967ea5-e8af-470d-92d0-5553b1044725\" xlink:type=\"simple\"><rect fill=\"#FEFECE\" filter=\"url(#fp2yg440kp0sj)\" height=\"45.9375\" id=\"E2\" style=\"stroke: #A80036; stroke-width: 1.5;\" width=\"121\" x=\"608.5\" y=\"60\"/><ellipse cx=\"623.5\" cy=\"78.9688\" fill=\"#A52A2A\" rx=\"11\" ry=\"11\" style=\"stroke: #A80036; stroke-width: 1.0;\"/><path d=\"M623.0938,74.7813 L623.0938,82.7656 L623.75,82.7656 Q625.1875,82.7656 625.7969,81.8594 Q626.4219,80.9375 626.4219,78.7656 Q626.4219,76.5938 625.7969,75.6875 Q625.1875,74.7813 623.75,74.7813 L623.0938,74.7813 Z M620.6406,72.5781 L623.2656,72.5781 Q626.2969,72.5781 627.625,74.0313 Q628.9688,75.4688 628.9688,78.7656 Q628.9688,82.0625 627.625,83.5156 Q626.2969,84.9688 623.2656,84.9688 L620.6406,84.9688 L620.6406,72.5781 Z \"/><text fill=\"#000000\" font-family=\"sans-serif\" font-size=\"12\" font-style=\"italic\" lengthAdjust=\"spacingAndGlyphs\" textLength=\"93\" x=\"635.5\" y=\"76.1387\">«attribute def»</text><text fill=\"#000000\" font-family=\"sans-serif\" font-size=\"12\" lengthAdjust=\"spacingAndGlyphs\" textLength=\"59\" x=\"652.5\" y=\"90.1074\">DateTime</text><line style=\"stroke: #A80036; stroke-width: 1.5;\" x1=\"609.5\" x2=\"728.5\" y1=\"97.9375\" y2=\"97.9375\"/></a><!--MD5=[09b614a08d8cba4a07c9adeb5e0fee81]\n",
       "class E3--><a href=\"psysml:16b22f80-f2ca-4440-a25c-8e72c7cab96e\" target=\"_top\" title=\"psysml:16b22f80-f2ca-4440-a25c-8e72c7cab96e\" xlink:actuate=\"onRequest\" xlink:href=\"psysml:16b22f80-f2ca-4440-a25c-8e72c7cab96e\" xlink:show=\"new\" xlink:title=\"psysml:16b22f80-f2ca-4440-a25c-8e72c7cab96e\" xlink:type=\"simple\"><rect fill=\"#FEFECE\" filter=\"url(#fp2yg440kp0sj)\" height=\"45.9375\" id=\"E3\" rx=\"10\" ry=\"10\" style=\"stroke: #A80036; stroke-width: 1.5;\" width=\"124\" x=\"449\" y=\"60\"/><ellipse cx=\"464\" cy=\"78.9688\" fill=\"#FFA500\" rx=\"11\" ry=\"11\" style=\"stroke: #A80036; stroke-width: 1.0;\"/><path d=\"M459.875,80.8906 L459.875,73.0781 L462.3281,73.0781 L462.3281,81.5156 Q462.3281,82.4375 462.7969,82.9688 Q463.2813,83.5 464.1094,83.5 Q464.9531,83.5 465.4219,82.9688 Q465.8906,82.4375 465.8906,81.5156 L465.8906,73.0781 L468.3438,73.0781 L468.3438,80.8906 Q468.3438,83.4219 467.3438,84.5625 Q466.3438,85.7031 464.1094,85.7031 Q461.8906,85.7031 460.875,84.5625 Q459.875,83.4219 459.875,80.8906 Z \"/><text fill=\"#000000\" font-family=\"sans-serif\" font-size=\"12\" font-style=\"italic\" lengthAdjust=\"spacingAndGlyphs\" textLength=\"69\" x=\"489.5\" y=\"76.1387\">«attribute»</text><text fill=\"#000000\" font-family=\"sans-serif\" font-size=\"12\" lengthAdjust=\"spacingAndGlyphs\" textLength=\"92\" x=\"478\" y=\"90.1074\">packet header</text><line style=\"stroke: #A80036; stroke-width: 1.5;\" x1=\"450\" x2=\"572\" y1=\"97.9375\" y2=\"97.9375\"/></a><!--MD5=[ebbe1d658d1005bcc118a6aa81145e00]\n",
       "class E4--><a href=\"psysml:7e904c0e-d2a4-45ad-bef1-7051678b2240\" target=\"_top\" title=\"psysml:7e904c0e-d2a4-45ad-bef1-7051678b2240\" xlink:actuate=\"onRequest\" xlink:href=\"psysml:7e904c0e-d2a4-45ad-bef1-7051678b2240\" xlink:show=\"new\" xlink:title=\"psysml:7e904c0e-d2a4-45ad-bef1-7051678b2240\" xlink:type=\"simple\"><rect fill=\"#FEFECE\" filter=\"url(#fp2yg440kp0sj)\" height=\"84.3516\" id=\"E4\" rx=\"10\" ry=\"10\" style=\"stroke: #A80036; stroke-width: 1.5;\" width=\"167\" x=\"247.5\" y=\"41\"/><ellipse cx=\"275.55\" cy=\"59.9688\" fill=\"#FFA500\" rx=\"11\" ry=\"11\" style=\"stroke: #A80036; stroke-width: 1.0;\"/><path d=\"M271.425,61.8906 L271.425,54.0781 L273.8781,54.0781 L273.8781,62.5156 Q273.8781,63.4375 274.3469,63.9688 Q274.8313,64.5 275.6594,64.5 Q276.5031,64.5 276.9719,63.9688 Q277.4406,63.4375 277.4406,62.5156 L277.4406,54.0781 L279.8938,54.0781 L279.8938,61.8906 Q279.8938,64.4219 278.8938,65.5625 Q277.8938,66.7031 275.6594,66.7031 Q273.4406,66.7031 272.425,65.5625 Q271.425,64.4219 271.425,61.8906 Z \"/><text fill=\"#000000\" font-family=\"sans-serif\" font-size=\"12\" font-style=\"italic\" lengthAdjust=\"spacingAndGlyphs\" textLength=\"69\" x=\"310.95\" y=\"57.1387\">«attribute»</text><text fill=\"#000000\" font-family=\"sans-serif\" font-size=\"12\" lengthAdjust=\"spacingAndGlyphs\" textLength=\"106\" x=\"292.45\" y=\"71.1074\">packet data field</text><line style=\"stroke: #A80036; stroke-width: 1.5;\" x1=\"248.5\" x2=\"413.5\" y1=\"78.9375\" y2=\"78.9375\"/><text fill=\"#000000\" font-family=\"sans-serif\" font-size=\"11\" lengthAdjust=\"spacingAndGlyphs\" textLength=\"144\" x=\"253.5\" y=\"93.1479\">packet secondary header</text><text fill=\"#000000\" font-family=\"sans-serif\" font-size=\"11\" font-style=\"italic\" lengthAdjust=\"spacingAndGlyphs\" textLength=\"155\" x=\"253.5\" y=\"105.9526\">:&gt;&gt;Packets::packet header</text><text fill=\"#000000\" font-family=\"sans-serif\" font-size=\"11\" lengthAdjust=\"spacingAndGlyphs\" textLength=\"83\" x=\"253.5\" y=\"118.7573\">user data field</text></a><!--MD5=[270fce915f116d4de14055a7c1d9a0f3]\n",
       "class E5--><a href=\"psysml:7a510d36-5831-409f-9d62-08a185df40ba\" target=\"_top\" title=\"psysml:7a510d36-5831-409f-9d62-08a185df40ba\" xlink:actuate=\"onRequest\" xlink:href=\"psysml:7a510d36-5831-409f-9d62-08a185df40ba\" xlink:show=\"new\" xlink:title=\"psysml:7a510d36-5831-409f-9d62-08a185df40ba\" xlink:type=\"simple\"><rect fill=\"#FEFECE\" filter=\"url(#fp2yg440kp0sj)\" height=\"91.2188\" id=\"E5\" style=\"stroke: #A80036; stroke-width: 1.5;\" width=\"180\" x=\"32\" y=\"185\"/><ellipse cx=\"79.25\" cy=\"201\" fill=\"#008000\" rx=\"11\" ry=\"11\" style=\"stroke: #A80036; stroke-width: 1.0;\"/><path d=\"M78.1563,201.375 L78.1563,205.0469 L79.7813,205.0469 Q80.9531,205.0469 81.4219,204.6563 Q81.8906,204.25 81.8906,203.25 Q81.8906,202.25 81.3906,201.8125 Q80.9063,201.375 79.7813,201.375 L78.1563,201.375 Z M78.1563,196.5469 L78.1563,199.4219 L79.7813,199.4219 Q80.7031,199.4219 81.0938,199.0938 Q81.5,198.75 81.5,198 Q81.5,197.2344 81.0938,196.8906 Q80.6875,196.5469 79.7813,196.5469 L78.1563,196.5469 Z M75.7813,194.5938 L79.7813,194.5938 Q81.8438,194.5938 82.8906,195.375 Q83.9375,196.1563 83.9375,197.7188 Q83.9375,198.9219 83.3125,199.5938 Q82.7031,200.2656 81.5156,200.375 Q82.9375,200.5156 83.6563,201.3281 Q84.375,202.1406 84.375,203.5938 Q84.375,205.3906 83.2969,206.2031 Q82.2188,207 79.7813,207 L75.7813,207 L75.7813,194.5938 Z \"/><text fill=\"#000000\" font-family=\"sans-serif\" font-size=\"12\" lengthAdjust=\"spacingAndGlyphs\" textLength=\"77\" x=\"99.75\" y=\"205.1543\">Data Packet</text><line style=\"stroke: #A80036; stroke-width: 1.5;\" x1=\"33\" x2=\"211\" y1=\"217\" y2=\"217\"/><text fill=\"#000000\" font-family=\"sans-serif\" font-size=\"11\" lengthAdjust=\"spacingAndGlyphs\" textLength=\"94\" x=\"38\" y=\"231.2104\">packet data field</text><text fill=\"#000000\" font-family=\"sans-serif\" font-size=\"11\" font-style=\"italic\" lengthAdjust=\"spacingAndGlyphs\" textLength=\"168\" x=\"38\" y=\"244.0151\">:&gt;&gt;Packets::packet data field</text><text fill=\"#000000\" font-family=\"sans-serif\" font-size=\"11\" lengthAdjust=\"spacingAndGlyphs\" textLength=\"129\" x=\"38\" y=\"256.8198\">packet primary header</text><text fill=\"#000000\" font-family=\"sans-serif\" font-size=\"11\" font-style=\"italic\" lengthAdjust=\"spacingAndGlyphs\" textLength=\"155\" x=\"38\" y=\"269.6245\">:&gt;&gt;Packets::packet header</text></a><!--MD5=[60a26617385b1d2d0262a64233df1f8d]\n",
       "class E6--><a href=\"psysml:10023c3e-6ce6-4816-9fb9-6800bd66eb89\" target=\"_top\" title=\"psysml:10023c3e-6ce6-4816-9fb9-6800bd66eb89\" xlink:actuate=\"onRequest\" xlink:href=\"psysml:10023c3e-6ce6-4816-9fb9-6800bd66eb89\" xlink:show=\"new\" xlink:title=\"psysml:10023c3e-6ce6-4816-9fb9-6800bd66eb89\" xlink:type=\"simple\"><rect fill=\"#FEFECE\" filter=\"url(#fp2yg440kp0sj)\" height=\"65.6094\" id=\"E6\" style=\"stroke: #A80036; stroke-width: 1.5;\" width=\"180\" x=\"32\" y=\"50\"/><ellipse cx=\"54.65\" cy=\"66\" fill=\"#008000\" rx=\"11\" ry=\"11\" style=\"stroke: #A80036; stroke-width: 1.0;\"/><path d=\"M53.5563,66.375 L53.5563,70.0469 L55.1813,70.0469 Q56.3531,70.0469 56.8219,69.6563 Q57.2906,69.25 57.2906,68.25 Q57.2906,67.25 56.7906,66.8125 Q56.3063,66.375 55.1813,66.375 L53.5563,66.375 Z M53.5563,61.5469 L53.5563,64.4219 L55.1813,64.4219 Q56.1031,64.4219 56.4938,64.0938 Q56.9,63.75 56.9,63 Q56.9,62.2344 56.4938,61.8906 Q56.0875,61.5469 55.1813,61.5469 L53.5563,61.5469 Z M51.1813,59.5938 L55.1813,59.5938 Q57.2438,59.5938 58.2906,60.375 Q59.3375,61.1563 59.3375,62.7188 Q59.3375,63.9219 58.7125,64.5938 Q58.1031,65.2656 56.9156,65.375 Q58.3375,65.5156 59.0563,66.3281 Q59.775,67.1406 59.775,68.5938 Q59.775,70.3906 58.6969,71.2031 Q57.6188,72 55.1813,72 L51.1813,72 L51.1813,59.5938 Z \"/><text fill=\"#000000\" font-family=\"sans-serif\" font-size=\"12\" lengthAdjust=\"spacingAndGlyphs\" textLength=\"131\" x=\"70.35\" y=\"70.1543\">Thermal Data Packet</text><line style=\"stroke: #A80036; stroke-width: 1.5;\" x1=\"33\" x2=\"211\" y1=\"82\" y2=\"82\"/><text fill=\"#000000\" font-family=\"sans-serif\" font-size=\"11\" lengthAdjust=\"spacingAndGlyphs\" textLength=\"94\" x=\"38\" y=\"96.2104\">packet data field</text><text fill=\"#000000\" font-family=\"sans-serif\" font-size=\"11\" font-style=\"italic\" lengthAdjust=\"spacingAndGlyphs\" textLength=\"168\" x=\"38\" y=\"109.0151\">:&gt;&gt;Packets::packet data field</text></a><!--MD5=[25b190c987b1e74e5126d372c5a73af1]\n",
       "link E6 to E5--><a href=\"psysml:8c509f82-013b-4383-9ee5-07fa63a1b780\" target=\"_top\" title=\"psysml:8c509f82-013b-4383-9ee5-07fa63a1b780\" xlink:actuate=\"onRequest\" xlink:href=\"psysml:8c509f82-013b-4383-9ee5-07fa63a1b780\" xlink:show=\"new\" xlink:title=\"psysml:8c509f82-013b-4383-9ee5-07fa63a1b780\" xlink:type=\"simple\"><path d=\"M122,116.29 C122,130.56 122,147.87 122,164.61 \" fill=\"none\" id=\"E6-&gt;E5\" style=\"stroke: #A80036; stroke-width: 1.0;\"/><polygon fill=\"none\" points=\"129,164.88,122,184.88,115,164.88,129,164.88\" style=\"stroke: #A80036; stroke-width: 1.0;\"/></a><!--MD5=[5e0b0d6bd12d888a899a6880b96558bc]\n",
       "@startuml\r\n",
       " \r\n",
       "package \"Packets\" as E1  [[psysml:781596e5-2fdd-47e5-84a9-0e1e2d017791 ]]  {\r\n",
       "comp def \"DateTime\" as E2  <<(D,brown)attribute def>> [[psysml:09967ea5-e8af-470d-92d0-5553b1044725 ]] {\r\n",
       "}\r\n",
       "comp usage \"packet header\" as E3  <<(U,orange)attribute>> [[psysml:16b22f80-f2ca-4440-a25c-8e72c7cab96e ]] {\r\n",
       "}\r\n",
       "comp usage \"packet data field\" as E4  <<(U,orange)attribute>> [[psysml:7e904c0e-d2a4-45ad-bef1-7051678b2240 ]] {\r\n",
       "packet secondary header\\n//:>>Packets::packet header// \r\n",
       "user data field\r\n",
       "}\r\n",
       "comp def \"Data Packet\" as E5  << (B,green) >> [[psysml:7a510d36-5831-409f-9d62-08a185df40ba ]] {\r\n",
       "packet data field\\n//:>>Packets::packet data field// \r\n",
       "packet primary header\\n//:>>Packets::packet header// \r\n",
       "}\r\n",
       "comp def \"Thermal Data Packet\" as E6  << (B,green) >> [[psysml:10023c3e-6ce6-4816-9fb9-6800bd66eb89 ]] {\r\n",
       "packet data field\\n//:>>Packets::packet data field// \r\n",
       "}\r\n",
       "E6 - -|> E5 [[psysml:8c509f82-013b-4383-9ee5-07fa63a1b780 ]] \r\n",
       "}\r\n",
       "@enduml\r\n",
       "\n",
       "PlantUML version 1.2020.13(Sat Jun 13 12:26:38 UTC 2020)\n",
       "(EPL source distribution)\n",
       "Java Runtime: OpenJDK Runtime Environment\n",
       "JVM: OpenJDK 64-Bit Server VM\n",
       "Default Encoding: UTF-8\n",
       "Language: en\n",
       "Country: null\n",
       "--></g></svg>"
      ]
     },
     "execution_count": 31,
     "metadata": {},
     "output_type": "execute_result"
    }
   ],
   "source": [
    "%viz --style=\"PLANTUML\" --view=\"Tree\" \"Packets\""
   ]
  },
  {
   "cell_type": "code",
   "execution_count": 32,
   "id": "2c1687ae",
   "metadata": {
    "execution": {
     "iopub.execute_input": "2021-04-20T07:33:56.255004Z",
     "iopub.status.busy": "2021-04-20T07:33:56.254528Z",
     "iopub.status.idle": "2021-04-20T07:33:56.348840Z",
     "shell.execute_reply": "2021-04-20T07:33:56.348138Z"
    }
   },
   "outputs": [
    {
     "data": {
      "image/svg+xml": [
       "<?xml version=\"1.0\" encoding=\"UTF-8\" standalone=\"no\"?><svg xmlns=\"http://www.w3.org/2000/svg\" xmlns:xlink=\"http://www.w3.org/1999/xlink\" contentScriptType=\"application/ecmascript\" contentStyleType=\"text/css\" height=\"303px\" preserveAspectRatio=\"none\" style=\"width:603px;height:303px;background:#000000;\" version=\"1.1\" viewBox=\"0 0 603 303\" width=\"603px\" zoomAndPan=\"magnify\"><defs/><g><rect fill=\"#011F19\" height=\"1\" style=\"stroke: #011F19; stroke-width: 1.0;\" width=\"1\" x=\"0\" y=\"0\"/><rect fill=\"#FFFFFF\" height=\"205.5625\" style=\"stroke: #FFFFFF; stroke-width: 1.0;\" width=\"602\" x=\"0\" y=\"0\"/><text fill=\"#000000\" font-family=\"sans-serif\" font-size=\"12\" font-weight=\"bold\" lengthAdjust=\"spacingAndGlyphs\" textLength=\"159\" x=\"5\" y=\"16.1387\">Welcome to PlantUML!</text><text fill=\"#000000\" font-family=\"sans-serif\" font-size=\"12\" lengthAdjust=\"spacingAndGlyphs\" textLength=\"0\" x=\"9\" y=\"30.1074\"/><text fill=\"#000000\" font-family=\"sans-serif\" font-size=\"12\" lengthAdjust=\"spacingAndGlyphs\" textLength=\"293\" x=\"5\" y=\"44.0762\">If you use this software, you accept its license.</text><text fill=\"#000000\" font-family=\"sans-serif\" font-size=\"12\" lengthAdjust=\"spacingAndGlyphs\" textLength=\"107\" x=\"5\" y=\"58.0449\">(details by typing</text><text fill=\"#000000\" font-family=\"monospace\" font-size=\"12\" lengthAdjust=\"spacingAndGlyphs\" textLength=\"49\" x=\"116\" y=\"58.0449\">license</text><text fill=\"#000000\" font-family=\"sans-serif\" font-size=\"12\" lengthAdjust=\"spacingAndGlyphs\" textLength=\"56\" x=\"169\" y=\"58.0449\">keyword)</text><text fill=\"#000000\" font-family=\"sans-serif\" font-size=\"12\" lengthAdjust=\"spacingAndGlyphs\" textLength=\"0\" x=\"9\" y=\"72.0137\"/><text fill=\"#000000\" font-family=\"sans-serif\" font-size=\"12\" lengthAdjust=\"spacingAndGlyphs\" textLength=\"283\" x=\"5\" y=\"85.9824\">You can start with a simple UML Diagram like:</text><text fill=\"#000000\" font-family=\"sans-serif\" font-size=\"12\" lengthAdjust=\"spacingAndGlyphs\" textLength=\"0\" x=\"9\" y=\"99.9512\"/><text fill=\"#000000\" font-family=\"monospace\" font-size=\"12\" lengthAdjust=\"spacingAndGlyphs\" textLength=\"119\" x=\"5\" y=\"113.9199\">Bob-&gt;Alice: Hello</text><text fill=\"#000000\" font-family=\"sans-serif\" font-size=\"12\" lengthAdjust=\"spacingAndGlyphs\" textLength=\"0\" x=\"9\" y=\"127.8887\"/><text fill=\"#000000\" font-family=\"sans-serif\" font-size=\"12\" lengthAdjust=\"spacingAndGlyphs\" textLength=\"14\" x=\"5\" y=\"141.8574\">Or</text><text fill=\"#000000\" font-family=\"sans-serif\" font-size=\"12\" lengthAdjust=\"spacingAndGlyphs\" textLength=\"0\" x=\"9\" y=\"155.8262\"/><text fill=\"#000000\" font-family=\"monospace\" font-size=\"12\" lengthAdjust=\"spacingAndGlyphs\" textLength=\"91\" x=\"5\" y=\"169.7949\">class Example</text><text fill=\"#000000\" font-family=\"sans-serif\" font-size=\"12\" lengthAdjust=\"spacingAndGlyphs\" textLength=\"0\" x=\"9\" y=\"183.7637\"/><text fill=\"#000000\" font-family=\"sans-serif\" font-size=\"12\" lengthAdjust=\"spacingAndGlyphs\" textLength=\"349\" x=\"5\" y=\"197.7324\">You will find more information about PlantUML syntax on</text><text fill=\"#000000\" font-family=\"sans-serif\" font-size=\"12\" lengthAdjust=\"spacingAndGlyphs\" text-decoration=\"underline\" textLength=\"129\" x=\"358\" y=\"197.7324\">https://plantuml.com</text><image height=\"71\" width=\"80\" x=\"516\" xlink:href=\"data:image/png;base64,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\" y=\"6\"/><rect fill=\"#000000\" height=\"96.4844\" style=\"stroke: #000000; stroke-width: 1.0;\" width=\"602\" x=\"0\" y=\"205.5625\"/><rect fill=\"#33FF02\" height=\"21.2969\" style=\"stroke: #33FF02; stroke-width: 1.0;\" width=\"170\" x=\"5\" y=\"210.5625\"/><text fill=\"#000000\" font-family=\"sans-serif\" font-size=\"14\" font-weight=\"bold\" lengthAdjust=\"spacingAndGlyphs\" textLength=\"168\" x=\"6\" y=\"225.5625\">[From string (line 2) ]</text><text fill=\"#33FF02\" font-family=\"sans-serif\" font-size=\"14\" font-weight=\"bold\" lengthAdjust=\"spacingAndGlyphs\" textLength=\"0\" x=\"10\" y=\"245.8594\"/><text fill=\"#33FF02\" font-family=\"sans-serif\" font-size=\"14\" font-weight=\"bold\" lengthAdjust=\"spacingAndGlyphs\" textLength=\"79\" x=\"5\" y=\"262.1563\">@startuml</text><text fill=\"#33FF02\" font-family=\"sans-serif\" font-size=\"14\" font-weight=\"bold\" lengthAdjust=\"spacingAndGlyphs\" textLength=\"0\" x=\"10\" y=\"278.4531\"/><text fill=\"#FF0000\" font-family=\"sans-serif\" font-size=\"14\" font-weight=\"bold\" lengthAdjust=\"spacingAndGlyphs\" textLength=\"142\" x=\"10\" y=\"294.75\">Empty description</text><!--MD5=[f59edd8218d337f74d0c332fc6737304]\n",
       "@startuml\r\n",
       " \r\n",
       "@enduml\r\n",
       "\n",
       "PlantUML version 1.2020.13(Sat Jun 13 12:26:38 UTC 2020)\n",
       "(EPL source distribution)\n",
       "Java Runtime: OpenJDK Runtime Environment\n",
       "JVM: OpenJDK 64-Bit Server VM\n",
       "Default Encoding: UTF-8\n",
       "Language: en\n",
       "Country: null\n",
       "--></g></svg>"
      ]
     },
     "execution_count": 32,
     "metadata": {},
     "output_type": "execute_result"
    }
   ],
   "source": [
    "%viz --style=\"PLANTUML\" --view=\"State\" \"Packets\""
   ]
  },
  {
   "cell_type": "code",
   "execution_count": 33,
   "id": "a891932f",
   "metadata": {
    "execution": {
     "iopub.execute_input": "2021-04-20T07:33:56.397199Z",
     "iopub.status.busy": "2021-04-20T07:33:56.396677Z",
     "iopub.status.idle": "2021-04-20T07:33:56.495147Z",
     "shell.execute_reply": "2021-04-20T07:33:56.493572Z"
    }
   },
   "outputs": [
    {
     "data": {
      "image/svg+xml": [
       "<?xml version=\"1.0\" encoding=\"UTF-8\" standalone=\"no\"?><svg xmlns=\"http://www.w3.org/2000/svg\" xmlns:xlink=\"http://www.w3.org/1999/xlink\" contentScriptType=\"application/ecmascript\" contentStyleType=\"text/css\" height=\"548px\" preserveAspectRatio=\"none\" style=\"width:544px;height:548px;\" version=\"1.1\" viewBox=\"0 0 544 548\" width=\"544px\" zoomAndPan=\"magnify\"><defs><filter height=\"300%\" id=\"fj2cbauqcuxqc\" width=\"300%\" x=\"-1\" y=\"-1\"><feGaussianBlur result=\"blurOut\" stdDeviation=\"2.0\"/><feColorMatrix in=\"blurOut\" result=\"blurOut2\" type=\"matrix\" values=\"0 0 0 0 0 0 0 0 0 0 0 0 0 0 0 0 0 0 .4 0\"/><feOffset dx=\"4.0\" dy=\"4.0\" in=\"blurOut2\" result=\"blurOut3\"/><feBlend in=\"SourceGraphic\" in2=\"blurOut3\" mode=\"normal\"/></filter></defs><g><!--MD5=[fbc87193dbaf4d95561dea2c320d4a47]\n",
       "cluster E1--><a href=\"psysml:781596e5-2fdd-47e5-84a9-0e1e2d017791\" target=\"_top\" title=\"psysml:781596e5-2fdd-47e5-84a9-0e1e2d017791\" xlink:actuate=\"onRequest\" xlink:href=\"psysml:781596e5-2fdd-47e5-84a9-0e1e2d017791\" xlink:show=\"new\" xlink:title=\"psysml:781596e5-2fdd-47e5-84a9-0e1e2d017791\" xlink:type=\"simple\"><polygon fill=\"#FFFFFF\" filter=\"url(#fj2cbauqcuxqc)\" points=\"16,6,84,6,91,28.2969,522,28.2969,522,536,16,536,16,6\" style=\"stroke: #000000; stroke-width: 1.5;\"/><line style=\"stroke: #000000; stroke-width: 1.5;\" x1=\"16\" x2=\"91\" y1=\"28.2969\" y2=\"28.2969\"/><text fill=\"#000000\" font-family=\"sans-serif\" font-size=\"14\" font-weight=\"bold\" lengthAdjust=\"spacingAndGlyphs\" textLength=\"62\" x=\"20\" y=\"20.9951\">Packets</text></a><!--MD5=[de5ec2e2e8f62f467e546659f5068c88]\n",
       "cluster E5--><a href=\"psysml:7a510d36-5831-409f-9d62-08a185df40ba\" target=\"_top\" title=\"psysml:7a510d36-5831-409f-9d62-08a185df40ba\" xlink:actuate=\"onRequest\" xlink:href=\"psysml:7a510d36-5831-409f-9d62-08a185df40ba\" xlink:show=\"new\" xlink:title=\"psysml:7a510d36-5831-409f-9d62-08a185df40ba\" xlink:type=\"simple\"><rect fill=\"#FFFFFF\" filter=\"url(#fj2cbauqcuxqc)\" height=\"151\" id=\"E5\" style=\"stroke: #A80036; stroke-width: 1.5;\" width=\"432\" x=\"48\" y=\"261\"/><rect fill=\"#FEFECE\" height=\"23.9688\" style=\"stroke: #A80036; stroke-width: 1.5;\" width=\"432\" x=\"48\" y=\"261\"/><text fill=\"#000000\" font-family=\"sans-serif\" font-size=\"12\" lengthAdjust=\"spacingAndGlyphs\" textLength=\"77\" x=\"225.5\" y=\"277.1387\">Data Packet</text></a><!--MD5=[55dfccfc6c49c2d10cd1bd2211a6c90c]\n",
       "cluster E8--><a href=\"psysml:10023c3e-6ce6-4816-9fb9-6800bd66eb89\" target=\"_top\" title=\"psysml:10023c3e-6ce6-4816-9fb9-6800bd66eb89\" xlink:actuate=\"onRequest\" xlink:href=\"psysml:10023c3e-6ce6-4816-9fb9-6800bd66eb89\" xlink:show=\"new\" xlink:title=\"psysml:10023c3e-6ce6-4816-9fb9-6800bd66eb89\" xlink:type=\"simple\"><rect fill=\"#FFFFFF\" filter=\"url(#fj2cbauqcuxqc)\" height=\"164\" id=\"E8\" style=\"stroke: #A80036; stroke-width: 1.5;\" width=\"287\" x=\"198\" y=\"57\"/><rect fill=\"#FEFECE\" height=\"23.9688\" style=\"stroke: #A80036; stroke-width: 1.5;\" width=\"287\" x=\"198\" y=\"57\"/><text fill=\"#000000\" font-family=\"sans-serif\" font-size=\"12\" lengthAdjust=\"spacingAndGlyphs\" textLength=\"131\" x=\"276\" y=\"73.1387\">Thermal Data Packet</text></a><g id=\"E1.E2\"><a href=\"psysml:09967ea5-e8af-470d-92d0-5553b1044725\" target=\"_top\" title=\"psysml:09967ea5-e8af-470d-92d0-5553b1044725\" xlink:actuate=\"onRequest\" xlink:href=\"psysml:09967ea5-e8af-470d-92d0-5553b1044725\" xlink:show=\"new\" xlink:title=\"psysml:09967ea5-e8af-470d-92d0-5553b1044725\" xlink:type=\"simple\"><rect fill=\"#FEFECE\" filter=\"url(#fj2cbauqcuxqc)\" height=\"42.9375\" id=\"E2\" style=\"stroke: #A80036; stroke-width: 1.5;\" width=\"126\" x=\"41\" y=\"127\"/><ellipse cx=\"58.25\" cy=\"145.9688\" fill=\"#A52A2A\" rx=\"11\" ry=\"11\" style=\"stroke: #A80036; stroke-width: 1.0;\"/><path d=\"M57.8438,141.7813 L57.8438,149.7656 L58.5,149.7656 Q59.9375,149.7656 60.5469,148.8594 Q61.1719,147.9375 61.1719,145.7656 Q61.1719,143.5938 60.5469,142.6875 Q59.9375,141.7813 58.5,141.7813 L57.8438,141.7813 Z M55.3906,139.5781 L58.0156,139.5781 Q61.0469,139.5781 62.375,141.0313 Q63.7188,142.4688 63.7188,145.7656 Q63.7188,149.0625 62.375,150.5156 Q61.0469,151.9688 58.0156,151.9688 L55.3906,151.9688 L55.3906,139.5781 Z \"/><text fill=\"#000000\" font-family=\"sans-serif\" font-size=\"12\" font-style=\"italic\" lengthAdjust=\"spacingAndGlyphs\" textLength=\"93\" x=\"70.75\" y=\"143.1387\">«attribute def»</text><text fill=\"#000000\" font-family=\"sans-serif\" font-size=\"12\" lengthAdjust=\"spacingAndGlyphs\" textLength=\"59\" x=\"87.75\" y=\"157.1074\">DateTime</text></a></g><!--MD5=[09b614a08d8cba4a07c9adeb5e0fee81]\n",
       "class E3--><a href=\"psysml:16b22f80-f2ca-4440-a25c-8e72c7cab96e\" target=\"_top\" title=\"psysml:16b22f80-f2ca-4440-a25c-8e72c7cab96e\" xlink:actuate=\"onRequest\" xlink:href=\"psysml:16b22f80-f2ca-4440-a25c-8e72c7cab96e\" xlink:show=\"new\" xlink:title=\"psysml:16b22f80-f2ca-4440-a25c-8e72c7cab96e\" xlink:type=\"simple\"><rect fill=\"#FEFECE\" filter=\"url(#fj2cbauqcuxqc)\" height=\"45.9375\" id=\"E3\" rx=\"10\" ry=\"10\" style=\"stroke: #A80036; stroke-width: 1.5;\" width=\"124\" x=\"125\" y=\"455\"/><ellipse cx=\"140\" cy=\"473.9688\" fill=\"#FFA500\" rx=\"11\" ry=\"11\" style=\"stroke: #A80036; stroke-width: 1.0;\"/><path d=\"M135.875,475.8906 L135.875,468.0781 L138.3281,468.0781 L138.3281,476.5156 Q138.3281,477.4375 138.7969,477.9688 Q139.2813,478.5 140.1094,478.5 Q140.9531,478.5 141.4219,477.9688 Q141.8906,477.4375 141.8906,476.5156 L141.8906,468.0781 L144.3438,468.0781 L144.3438,475.8906 Q144.3438,478.4219 143.3438,479.5625 Q142.3438,480.7031 140.1094,480.7031 Q137.8906,480.7031 136.875,479.5625 Q135.875,478.4219 135.875,475.8906 Z \"/><text fill=\"#000000\" font-family=\"sans-serif\" font-size=\"12\" font-style=\"italic\" lengthAdjust=\"spacingAndGlyphs\" textLength=\"69\" x=\"165.5\" y=\"471.1387\">«attribute»</text><text fill=\"#000000\" font-family=\"sans-serif\" font-size=\"12\" lengthAdjust=\"spacingAndGlyphs\" textLength=\"92\" x=\"154\" y=\"485.1074\">packet header</text><line style=\"stroke: #A80036; stroke-width: 1.5;\" x1=\"126\" x2=\"248\" y1=\"492.9375\" y2=\"492.9375\"/></a><!--MD5=[ebbe1d658d1005bcc118a6aa81145e00]\n",
       "class E4--><a href=\"psysml:7e904c0e-d2a4-45ad-bef1-7051678b2240\" target=\"_top\" title=\"psysml:7e904c0e-d2a4-45ad-bef1-7051678b2240\" xlink:actuate=\"onRequest\" xlink:href=\"psysml:7e904c0e-d2a4-45ad-bef1-7051678b2240\" xlink:show=\"new\" xlink:title=\"psysml:7e904c0e-d2a4-45ad-bef1-7051678b2240\" xlink:type=\"simple\"><rect fill=\"#FEFECE\" filter=\"url(#fj2cbauqcuxqc)\" height=\"84.3516\" id=\"E4\" rx=\"10\" ry=\"10\" style=\"stroke: #A80036; stroke-width: 1.5;\" width=\"167\" x=\"321.5\" y=\"436\"/><ellipse cx=\"349.55\" cy=\"454.9688\" fill=\"#FFA500\" rx=\"11\" ry=\"11\" style=\"stroke: #A80036; stroke-width: 1.0;\"/><path d=\"M345.425,456.8906 L345.425,449.0781 L347.8781,449.0781 L347.8781,457.5156 Q347.8781,458.4375 348.3469,458.9688 Q348.8313,459.5 349.6594,459.5 Q350.5031,459.5 350.9719,458.9688 Q351.4406,458.4375 351.4406,457.5156 L351.4406,449.0781 L353.8938,449.0781 L353.8938,456.8906 Q353.8938,459.4219 352.8938,460.5625 Q351.8938,461.7031 349.6594,461.7031 Q347.4406,461.7031 346.425,460.5625 Q345.425,459.4219 345.425,456.8906 Z \"/><text fill=\"#000000\" font-family=\"sans-serif\" font-size=\"12\" font-style=\"italic\" lengthAdjust=\"spacingAndGlyphs\" textLength=\"69\" x=\"384.95\" y=\"452.1387\">«attribute»</text><text fill=\"#000000\" font-family=\"sans-serif\" font-size=\"12\" lengthAdjust=\"spacingAndGlyphs\" textLength=\"106\" x=\"366.45\" y=\"466.1074\">packet data field</text><line style=\"stroke: #A80036; stroke-width: 1.5;\" x1=\"322.5\" x2=\"487.5\" y1=\"473.9375\" y2=\"473.9375\"/><text fill=\"#000000\" font-family=\"sans-serif\" font-size=\"11\" lengthAdjust=\"spacingAndGlyphs\" textLength=\"144\" x=\"327.5\" y=\"488.1479\">packet secondary header</text><text fill=\"#000000\" font-family=\"sans-serif\" font-size=\"11\" font-style=\"italic\" lengthAdjust=\"spacingAndGlyphs\" textLength=\"155\" x=\"327.5\" y=\"500.9526\">:&gt;&gt;Packets::packet header</text><text fill=\"#000000\" font-family=\"sans-serif\" font-size=\"11\" lengthAdjust=\"spacingAndGlyphs\" textLength=\"83\" x=\"327.5\" y=\"513.7573\">user data field</text></a><!--MD5=[60a26617385b1d2d0262a64233df1f8d]\n",
       "class E6--><a href=\"psysml:8bac5b56-bd53-4c22-88f8-0cbcb8384e0b\" target=\"_top\" title=\"psysml:8bac5b56-bd53-4c22-88f8-0cbcb8384e0b\" xlink:actuate=\"onRequest\" xlink:href=\"psysml:8bac5b56-bd53-4c22-88f8-0cbcb8384e0b\" xlink:show=\"new\" xlink:title=\"psysml:8bac5b56-bd53-4c22-88f8-0cbcb8384e0b\" xlink:type=\"simple\"><rect fill=\"#FEFECE\" filter=\"url(#fj2cbauqcuxqc)\" height=\"84.3516\" id=\"E6\" rx=\"10\" ry=\"10\" style=\"stroke: #A80036; stroke-width: 1.5;\" width=\"191\" x=\"91.5\" y=\"304\"/><ellipse cx=\"114.15\" cy=\"322.9688\" fill=\"#FFA500\" rx=\"11\" ry=\"11\" style=\"stroke: #A80036; stroke-width: 1.0;\"/><path d=\"M110.025,324.8906 L110.025,317.0781 L112.4781,317.0781 L112.4781,325.5156 Q112.4781,326.4375 112.9469,326.9688 Q113.4313,327.5 114.2594,327.5 Q115.1031,327.5 115.5719,326.9688 Q116.0406,326.4375 116.0406,325.5156 L116.0406,317.0781 L118.4938,317.0781 L118.4938,324.8906 Q118.4938,327.4219 117.4938,328.5625 Q116.4938,329.7031 114.2594,329.7031 Q112.0406,329.7031 111.025,328.5625 Q110.025,327.4219 110.025,324.8906 Z \"/><text fill=\"#000000\" font-family=\"sans-serif\" font-size=\"12\" font-style=\"italic\" lengthAdjust=\"spacingAndGlyphs\" textLength=\"69\" x=\"166.35\" y=\"320.1387\">«attribute»</text><text fill=\"#000000\" font-family=\"sans-serif\" font-size=\"12\" lengthAdjust=\"spacingAndGlyphs\" textLength=\"142\" x=\"129.85\" y=\"334.1074\">packet primary header</text><line style=\"stroke: #A80036; stroke-width: 1.5;\" x1=\"92.5\" x2=\"281.5\" y1=\"341.9375\" y2=\"341.9375\"/><text fill=\"#000000\" font-family=\"sans-serif\" font-size=\"11\" lengthAdjust=\"spacingAndGlyphs\" textLength=\"153\" x=\"97.5\" y=\"356.1479\">packet data length: Integer</text><text fill=\"#000000\" font-family=\"sans-serif\" font-size=\"11\" lengthAdjust=\"spacingAndGlyphs\" textLength=\"155\" x=\"97.5\" y=\"368.9526\">packet identification: String</text><text fill=\"#000000\" font-family=\"sans-serif\" font-size=\"11\" lengthAdjust=\"spacingAndGlyphs\" textLength=\"179\" x=\"97.5\" y=\"381.7573\">packet version number: Integer</text></a><!--MD5=[2156ba9850f5573cc1fc38a6a4b2f02b]\n",
       "class E7--><a href=\"psysml:e649f067-3966-42a9-912a-f470df4c2484\" target=\"_top\" title=\"psysml:e649f067-3966-42a9-912a-f470df4c2484\" xlink:actuate=\"onRequest\" xlink:href=\"psysml:e649f067-3966-42a9-912a-f470df4c2484\" xlink:show=\"new\" xlink:title=\"psysml:e649f067-3966-42a9-912a-f470df4c2484\" xlink:type=\"simple\"><rect fill=\"#FEFECE\" filter=\"url(#fj2cbauqcuxqc)\" height=\"45.9375\" id=\"E7\" rx=\"10\" ry=\"10\" style=\"stroke: #A80036; stroke-width: 1.5;\" width=\"138\" x=\"318\" y=\"323\"/><ellipse cx=\"333\" cy=\"341.9688\" fill=\"#FFA500\" rx=\"11\" ry=\"11\" style=\"stroke: #A80036; stroke-width: 1.0;\"/><path d=\"M328.875,343.8906 L328.875,336.0781 L331.3281,336.0781 L331.3281,344.5156 Q331.3281,345.4375 331.7969,345.9688 Q332.2813,346.5 333.1094,346.5 Q333.9531,346.5 334.4219,345.9688 Q334.8906,345.4375 334.8906,344.5156 L334.8906,336.0781 L337.3438,336.0781 L337.3438,343.8906 Q337.3438,346.4219 336.3438,347.5625 Q335.3438,348.7031 333.1094,348.7031 Q330.8906,348.7031 329.875,347.5625 Q328.875,346.4219 328.875,343.8906 Z \"/><text fill=\"#000000\" font-family=\"sans-serif\" font-size=\"12\" font-style=\"italic\" lengthAdjust=\"spacingAndGlyphs\" textLength=\"69\" x=\"365.5\" y=\"339.1387\">«attribute»</text><text fill=\"#000000\" font-family=\"sans-serif\" font-size=\"12\" lengthAdjust=\"spacingAndGlyphs\" textLength=\"106\" x=\"347\" y=\"353.1074\">packet data field</text><line style=\"stroke: #A80036; stroke-width: 1.5;\" x1=\"319\" x2=\"455\" y1=\"360.9375\" y2=\"360.9375\"/></a><!--MD5=[fd4143e9d270a159db93a4ea2a975926]\n",
       "class E9--><a href=\"psysml:9d2256ff-aa99-47f6-ab60-2a2dbee9749e\" target=\"_top\" title=\"psysml:9d2256ff-aa99-47f6-ab60-2a2dbee9749e\" xlink:actuate=\"onRequest\" xlink:href=\"psysml:9d2256ff-aa99-47f6-ab60-2a2dbee9749e\" xlink:show=\"new\" xlink:title=\"psysml:9d2256ff-aa99-47f6-ab60-2a2dbee9749e\" xlink:type=\"simple\"><rect fill=\"#FEFECE\" filter=\"url(#fj2cbauqcuxqc)\" height=\"97.1563\" id=\"E9\" rx=\"10\" ry=\"10\" style=\"stroke: #A80036; stroke-width: 1.5;\" width=\"219\" x=\"241.5\" y=\"100\"/><ellipse cx=\"293.75\" cy=\"118.9688\" fill=\"#FFA500\" rx=\"11\" ry=\"11\" style=\"stroke: #A80036; stroke-width: 1.0;\"/><path d=\"M289.625,120.8906 L289.625,113.0781 L292.0781,113.0781 L292.0781,121.5156 Q292.0781,122.4375 292.5469,122.9688 Q293.0313,123.5 293.8594,123.5 Q294.7031,123.5 295.1719,122.9688 Q295.6406,122.4375 295.6406,121.5156 L295.6406,113.0781 L298.0938,113.0781 L298.0938,120.8906 Q298.0938,123.4219 297.0938,124.5625 Q296.0938,125.7031 293.8594,125.7031 Q291.6406,125.7031 290.625,124.5625 Q289.625,123.4219 289.625,120.8906 Z \"/><text fill=\"#000000\" font-family=\"sans-serif\" font-size=\"12\" font-style=\"italic\" lengthAdjust=\"spacingAndGlyphs\" textLength=\"69\" x=\"332.75\" y=\"116.1387\">«attribute»</text><text fill=\"#000000\" font-family=\"sans-serif\" font-size=\"12\" lengthAdjust=\"spacingAndGlyphs\" textLength=\"106\" x=\"314.25\" y=\"130.1074\">packet data field</text><line style=\"stroke: #A80036; stroke-width: 1.5;\" x1=\"242.5\" x2=\"459.5\" y1=\"137.9375\" y2=\"137.9375\"/><text fill=\"#000000\" font-family=\"sans-serif\" font-size=\"11\" lengthAdjust=\"spacingAndGlyphs\" textLength=\"144\" x=\"247.5\" y=\"152.1479\">packet secondary header</text><text fill=\"#000000\" font-family=\"sans-serif\" font-size=\"11\" font-style=\"italic\" lengthAdjust=\"spacingAndGlyphs\" textLength=\"155\" x=\"247.5\" y=\"164.9526\">:&gt;&gt;Packets::packet header</text><text fill=\"#000000\" font-family=\"sans-serif\" font-size=\"11\" lengthAdjust=\"spacingAndGlyphs\" textLength=\"83\" x=\"247.5\" y=\"177.7573\">user data field</text><text fill=\"#000000\" font-family=\"sans-serif\" font-size=\"11\" font-style=\"italic\" lengthAdjust=\"spacingAndGlyphs\" textLength=\"207\" x=\"247.5\" y=\"190.562\">:&gt;&gt;packet data field::user data field</text></a><!--MD5=[a717450b82c80b9240a525fa862496af]\n",
       "link E6 to E3--><a href=\"psysml:6aaaf2f4-4b2b-4d4a-ac54-83bc6d358576\" target=\"_top\" title=\"psysml:6aaaf2f4-4b2b-4d4a-ac54-83bc6d358576\" xlink:actuate=\"onRequest\" xlink:href=\"psysml:6aaaf2f4-4b2b-4d4a-ac54-83bc6d358576\" xlink:show=\"new\" xlink:title=\"psysml:6aaaf2f4-4b2b-4d4a-ac54-83bc6d358576\" xlink:type=\"simple\"><path d=\"M187,388.13 C187,402.93 187,419.64 187,434.54 \" fill=\"none\" id=\"E6-&gt;E3\" style=\"stroke: #A80036; stroke-width: 1.0;\"/><polygon fill=\"#FFFFFF\" points=\"187,454.65,180,435.65,194,435.65,187,454.65\" style=\"stroke: #A80036; stroke-width: 1.0;\"/><line style=\"stroke: #A80036; stroke-width: 2.0;\" x1=\"180\" x2=\"194\" y1=\"431.85\" y2=\"431.85\"/></a><!--MD5=[6bdd27f9905911a7e892a3dc65cf6b7c]\n",
       "link E7 to E4--><a href=\"psysml:895bc16e-261f-455c-84ef-7cbef2b79206\" target=\"_top\" title=\"psysml:895bc16e-261f-455c-84ef-7cbef2b79206\" xlink:actuate=\"onRequest\" xlink:href=\"psysml:895bc16e-261f-455c-84ef-7cbef2b79206\" xlink:show=\"new\" xlink:title=\"psysml:895bc16e-261f-455c-84ef-7cbef2b79206\" xlink:type=\"simple\"><path d=\"M390.05,369.05 C391.85,382.03 394.22,399.14 396.54,415.91 \" fill=\"none\" id=\"E7-&gt;E4\" style=\"stroke: #A80036; stroke-width: 1.0;\"/><polygon fill=\"#FFFFFF\" points=\"399.31,435.88,389.7708,418.0193,403.6386,416.0996,399.31,435.88\" style=\"stroke: #A80036; stroke-width: 1.0;\"/><line style=\"stroke: #A80036; stroke-width: 2.0;\" x1=\"389.2498\" x2=\"403.1175\" y1=\"414.2552\" y2=\"412.3355\"/></a><!--MD5=[1ccb2481ffa92f8d51a74ee30c51832a]\n",
       "link E8 to E5--><a href=\"psysml:8c509f82-013b-4383-9ee5-07fa63a1b780\" target=\"_top\" title=\"psysml:8c509f82-013b-4383-9ee5-07fa63a1b780\" xlink:actuate=\"onRequest\" xlink:href=\"psysml:8c509f82-013b-4383-9ee5-07fa63a1b780\" xlink:show=\"new\" xlink:title=\"psysml:8c509f82-013b-4383-9ee5-07fa63a1b780\" xlink:type=\"simple\"><path d=\"M211.7214,221.0206 C211.673,221.1584 211.624,221.2959 211.5745,221.4332 C211.4754,221.7077 211.3741,221.9812 211.2705,222.2537 C210.8559,223.3436 210.4042,224.4165 209.9132,225.4699 C207.9494,229.6834 205.3575,233.5838 202,237 C182.18,257.17 96.2,226.29 75,245 C70.8263,248.6825 67.392,252.9728 64.5785,257.6656 C64.2268,258.2522 63.8849,258.8451 63.5523,259.4439 C63.3861,259.7433 63.2222,260.0441 63.0606,260.3464 C62.9798,260.4975 62.8997,260.649 62.82,260.8009 \" fill=\"none\" id=\"E8-&gt;E5\" style=\"stroke: #A80036; stroke-width: 1.0;\"/><polygon fill=\"#FFFFFF\" points=\"62.82,260.8009,77.8423,247.2239,65.4431,240.723,62.82,260.8009\" style=\"stroke: #A80036; stroke-width: 1.0;\"/></a><!--MD5=[c2be97adba6ddfe1c8f349fab141c927]\n",
       "link E9 to E4--><a href=\"psysml:a0ec1df7-1b05-4d8f-b92a-b996d3ea1089\" target=\"_top\" title=\"psysml:a0ec1df7-1b05-4d8f-b92a-b996d3ea1089\" xlink:actuate=\"onRequest\" xlink:href=\"psysml:a0ec1df7-1b05-4d8f-b92a-b996d3ea1089\" xlink:show=\"new\" xlink:title=\"psysml:a0ec1df7-1b05-4d8f-b92a-b996d3ea1089\" xlink:type=\"simple\"><path d=\"M432.56,197.08 C448.48,210.43 463.01,226.46 472,245 C504.7,312.47 508.39,349.43 476.22,417.69 \" fill=\"none\" id=\"E9-&gt;E4\" style=\"stroke: #A80036; stroke-width: 1.0;\"/><polygon fill=\"#FFFFFF\" points=\"467.26,435.76,469.4318,415.6283,481.9737,421.8493,467.26,435.76\" style=\"stroke: #A80036; stroke-width: 1.0;\"/><line style=\"stroke: #A80036; stroke-width: 2.0;\" x1=\"471.1203\" x2=\"483.6622\" y1=\"412.2241\" y2=\"418.4451\"/></a><!--MD5=[fd72bec07cc50d161a29db46c4c1a679]\n",
       "@startuml\r\n",
       "skinparam ranksep 10\r\n",
       "skinparam rectangle {\r\n",
       " backgroundColor<<block>> LightGreen\r\n",
       "}\r\n",
       " \r\n",
       "package \"Packets\" as E1  [[psysml:781596e5-2fdd-47e5-84a9-0e1e2d017791 ]]  {\r\n",
       "def \"DateTime\" as E2  <<(D,brown)attribute def>> [[psysml:09967ea5-e8af-470d-92d0-5553b1044725 ]] \r\n",
       "comp usage \"packet header\" as E3  <<(U,orange)attribute>> [[psysml:16b22f80-f2ca-4440-a25c-8e72c7cab96e ]] {\r\n",
       "}\r\n",
       "comp usage \"packet data field\" as E4  <<(U,orange)attribute>> [[psysml:7e904c0e-d2a4-45ad-bef1-7051678b2240 ]] {\r\n",
       "packet secondary header\\n//:>>Packets::packet header// \r\n",
       "user data field\r\n",
       "}\r\n",
       "rec def \"Data Packet\" as E5  << (B,green) >> [[psysml:7a510d36-5831-409f-9d62-08a185df40ba ]] {\r\n",
       "comp usage \"packet primary header\" as E6  <<(U,orange)attribute>> [[psysml:8bac5b56-bd53-4c22-88f8-0cbcb8384e0b ]] {\r\n",
       "packet data length: Integer\r\n",
       "packet identification: String\r\n",
       "packet version number: Integer\r\n",
       "}\r\n",
       "comp usage \"packet data field\" as E7  <<(U,orange)attribute>> [[psysml:e649f067-3966-42a9-912a-f470df4c2484 ]] {\r\n",
       "}\r\n",
       "}\r\n",
       "rec def \"Thermal Data Packet\" as E8  << (B,green) >> [[psysml:10023c3e-6ce6-4816-9fb9-6800bd66eb89 ]] {\r\n",
       "comp usage \"packet data field\" as E9  <<(U,orange)attribute>> [[psysml:9d2256ff-aa99-47f6-ab60-2a2dbee9749e ]] {\r\n",
       "packet secondary header\\n//:>>Packets::packet header// \r\n",
       "user data field\\n//:>>packet data field::user data field// \r\n",
       "}\r\n",
       "}\r\n",
       "E6 - -||> E3 [[psysml:6aaaf2f4-4b2b-4d4a-ac54-83bc6d358576 ]] \r\n",
       "E7 - -||> E4 [[psysml:895bc16e-261f-455c-84ef-7cbef2b79206 ]] \r\n",
       "E8 - -|> E5 [[psysml:8c509f82-013b-4383-9ee5-07fa63a1b780 ]] \r\n",
       "E9 - -||> E4 [[psysml:a0ec1df7-1b05-4d8f-b92a-b996d3ea1089 ]] \r\n",
       "}\r\n",
       "@enduml\r\n",
       "\n",
       "PlantUML version 1.2020.13(Sat Jun 13 12:26:38 UTC 2020)\n",
       "(EPL source distribution)\n",
       "Java Runtime: OpenJDK Runtime Environment\n",
       "JVM: OpenJDK 64-Bit Server VM\n",
       "Default Encoding: UTF-8\n",
       "Language: en\n",
       "Country: null\n",
       "--></g></svg>"
      ]
     },
     "execution_count": 33,
     "metadata": {},
     "output_type": "execute_result"
    }
   ],
   "source": [
    "%viz --style=\"PLANTUML\" --view=\"Interconnection\" \"Packets\""
   ]
  },
  {
   "cell_type": "code",
   "execution_count": 34,
   "id": "c43e789f",
   "metadata": {
    "execution": {
     "iopub.execute_input": "2021-04-20T07:33:56.546241Z",
     "iopub.status.busy": "2021-04-20T07:33:56.545696Z",
     "iopub.status.idle": "2021-04-20T07:33:56.549750Z",
     "shell.execute_reply": "2021-04-20T07:33:56.549409Z"
    }
   },
   "outputs": [
    {
     "data": {
      "image/svg+xml": [
       "<?xml version=\"1.0\" encoding=\"UTF-8\" standalone=\"no\"?><svg xmlns=\"http://www.w3.org/2000/svg\" xmlns:xlink=\"http://www.w3.org/1999/xlink\" contentScriptType=\"application/ecmascript\" contentStyleType=\"text/css\" height=\"12px\" preserveAspectRatio=\"none\" style=\"width:12px;height:12px;\" version=\"1.1\" viewBox=\"0 0 12 12\" width=\"12px\" zoomAndPan=\"magnify\"><defs/><g><!--MD5=[6a4cb978cab31700e1ce5529f947a75d]\n",
       "@startuml\r\n",
       "skinparam ranksep 8\r\n",
       " \r\n",
       "@enduml\r\n",
       "\n",
       "PlantUML version 1.2020.13(Sat Jun 13 12:26:38 UTC 2020)\n",
       "(EPL source distribution)\n",
       "Java Runtime: OpenJDK Runtime Environment\n",
       "JVM: OpenJDK 64-Bit Server VM\n",
       "Default Encoding: UTF-8\n",
       "Language: en\n",
       "Country: null\n",
       "--></g></svg>"
      ]
     },
     "execution_count": 34,
     "metadata": {},
     "output_type": "execute_result"
    }
   ],
   "source": [
    "%viz --style=\"PLANTUML\" --view=\"Action\" \"Packets\""
   ]
  },
  {
   "cell_type": "code",
   "execution_count": 35,
   "id": "a9539851",
   "metadata": {
    "execution": {
     "iopub.execute_input": "2021-04-20T07:33:56.602607Z",
     "iopub.status.busy": "2021-04-20T07:33:56.602073Z",
     "iopub.status.idle": "2021-04-20T07:33:56.701891Z",
     "shell.execute_reply": "2021-04-20T07:33:56.701489Z"
    }
   },
   "outputs": [
    {
     "data": {
      "image/svg+xml": [
       "<?xml version=\"1.0\" encoding=\"UTF-8\" standalone=\"no\"?><svg xmlns=\"http://www.w3.org/2000/svg\" xmlns:xlink=\"http://www.w3.org/1999/xlink\" contentScriptType=\"application/ecmascript\" contentStyleType=\"text/css\" height=\"304px\" preserveAspectRatio=\"none\" style=\"width:768px;height:304px;\" version=\"1.1\" viewBox=\"0 0 768 304\" width=\"768px\" zoomAndPan=\"magnify\"><defs><filter height=\"300%\" id=\"fp2yg440kp0sj\" width=\"300%\" x=\"-1\" y=\"-1\"><feGaussianBlur result=\"blurOut\" stdDeviation=\"2.0\"/><feColorMatrix in=\"blurOut\" result=\"blurOut2\" type=\"matrix\" values=\"0 0 0 0 0 0 0 0 0 0 0 0 0 0 0 0 0 0 .4 0\"/><feOffset dx=\"4.0\" dy=\"4.0\" in=\"blurOut2\" result=\"blurOut3\"/><feBlend in=\"SourceGraphic\" in2=\"blurOut3\" mode=\"normal\"/></filter></defs><g><!--MD5=[fbc87193dbaf4d95561dea2c320d4a47]\n",
       "cluster E1--><a href=\"psysml:781596e5-2fdd-47e5-84a9-0e1e2d017791\" target=\"_top\" title=\"psysml:781596e5-2fdd-47e5-84a9-0e1e2d017791\" xlink:actuate=\"onRequest\" xlink:href=\"psysml:781596e5-2fdd-47e5-84a9-0e1e2d017791\" xlink:show=\"new\" xlink:title=\"psysml:781596e5-2fdd-47e5-84a9-0e1e2d017791\" xlink:type=\"simple\"><polygon fill=\"#FFFFFF\" filter=\"url(#fp2yg440kp0sj)\" points=\"16,6,84,6,91,28.2969,746,28.2969,746,292,16,292,16,6\" style=\"stroke: #000000; stroke-width: 1.5;\"/><line style=\"stroke: #000000; stroke-width: 1.5;\" x1=\"16\" x2=\"91\" y1=\"28.2969\" y2=\"28.2969\"/><text fill=\"#000000\" font-family=\"sans-serif\" font-size=\"14\" font-weight=\"bold\" lengthAdjust=\"spacingAndGlyphs\" textLength=\"62\" x=\"20\" y=\"20.9951\">Packets</text></a><!--MD5=[b4997ac47864f28c2f74865a473b2911]\n",
       "class E2--><a href=\"psysml:09967ea5-e8af-470d-92d0-5553b1044725\" target=\"_top\" title=\"psysml:09967ea5-e8af-470d-92d0-5553b1044725\" xlink:actuate=\"onRequest\" xlink:href=\"psysml:09967ea5-e8af-470d-92d0-5553b1044725\" xlink:show=\"new\" xlink:title=\"psysml:09967ea5-e8af-470d-92d0-5553b1044725\" xlink:type=\"simple\"><rect fill=\"#FEFECE\" filter=\"url(#fp2yg440kp0sj)\" height=\"45.9375\" id=\"E2\" style=\"stroke: #A80036; stroke-width: 1.5;\" width=\"121\" x=\"608.5\" y=\"60\"/><ellipse cx=\"623.5\" cy=\"78.9688\" fill=\"#A52A2A\" rx=\"11\" ry=\"11\" style=\"stroke: #A80036; stroke-width: 1.0;\"/><path d=\"M623.0938,74.7813 L623.0938,82.7656 L623.75,82.7656 Q625.1875,82.7656 625.7969,81.8594 Q626.4219,80.9375 626.4219,78.7656 Q626.4219,76.5938 625.7969,75.6875 Q625.1875,74.7813 623.75,74.7813 L623.0938,74.7813 Z M620.6406,72.5781 L623.2656,72.5781 Q626.2969,72.5781 627.625,74.0313 Q628.9688,75.4688 628.9688,78.7656 Q628.9688,82.0625 627.625,83.5156 Q626.2969,84.9688 623.2656,84.9688 L620.6406,84.9688 L620.6406,72.5781 Z \"/><text fill=\"#000000\" font-family=\"sans-serif\" font-size=\"12\" font-style=\"italic\" lengthAdjust=\"spacingAndGlyphs\" textLength=\"93\" x=\"635.5\" y=\"76.1387\">«attribute def»</text><text fill=\"#000000\" font-family=\"sans-serif\" font-size=\"12\" lengthAdjust=\"spacingAndGlyphs\" textLength=\"59\" x=\"652.5\" y=\"90.1074\">DateTime</text><line style=\"stroke: #A80036; stroke-width: 1.5;\" x1=\"609.5\" x2=\"728.5\" y1=\"97.9375\" y2=\"97.9375\"/></a><!--MD5=[09b614a08d8cba4a07c9adeb5e0fee81]\n",
       "class E3--><a href=\"psysml:16b22f80-f2ca-4440-a25c-8e72c7cab96e\" target=\"_top\" title=\"psysml:16b22f80-f2ca-4440-a25c-8e72c7cab96e\" xlink:actuate=\"onRequest\" xlink:href=\"psysml:16b22f80-f2ca-4440-a25c-8e72c7cab96e\" xlink:show=\"new\" xlink:title=\"psysml:16b22f80-f2ca-4440-a25c-8e72c7cab96e\" xlink:type=\"simple\"><rect fill=\"#FEFECE\" filter=\"url(#fp2yg440kp0sj)\" height=\"45.9375\" id=\"E3\" rx=\"10\" ry=\"10\" style=\"stroke: #A80036; stroke-width: 1.5;\" width=\"124\" x=\"449\" y=\"60\"/><ellipse cx=\"464\" cy=\"78.9688\" fill=\"#FFA500\" rx=\"11\" ry=\"11\" style=\"stroke: #A80036; stroke-width: 1.0;\"/><path d=\"M459.875,80.8906 L459.875,73.0781 L462.3281,73.0781 L462.3281,81.5156 Q462.3281,82.4375 462.7969,82.9688 Q463.2813,83.5 464.1094,83.5 Q464.9531,83.5 465.4219,82.9688 Q465.8906,82.4375 465.8906,81.5156 L465.8906,73.0781 L468.3438,73.0781 L468.3438,80.8906 Q468.3438,83.4219 467.3438,84.5625 Q466.3438,85.7031 464.1094,85.7031 Q461.8906,85.7031 460.875,84.5625 Q459.875,83.4219 459.875,80.8906 Z \"/><text fill=\"#000000\" font-family=\"sans-serif\" font-size=\"12\" font-style=\"italic\" lengthAdjust=\"spacingAndGlyphs\" textLength=\"69\" x=\"489.5\" y=\"76.1387\">«attribute»</text><text fill=\"#000000\" font-family=\"sans-serif\" font-size=\"12\" lengthAdjust=\"spacingAndGlyphs\" textLength=\"92\" x=\"478\" y=\"90.1074\">packet header</text><line style=\"stroke: #A80036; stroke-width: 1.5;\" x1=\"450\" x2=\"572\" y1=\"97.9375\" y2=\"97.9375\"/></a><!--MD5=[ebbe1d658d1005bcc118a6aa81145e00]\n",
       "class E4--><a href=\"psysml:7e904c0e-d2a4-45ad-bef1-7051678b2240\" target=\"_top\" title=\"psysml:7e904c0e-d2a4-45ad-bef1-7051678b2240\" xlink:actuate=\"onRequest\" xlink:href=\"psysml:7e904c0e-d2a4-45ad-bef1-7051678b2240\" xlink:show=\"new\" xlink:title=\"psysml:7e904c0e-d2a4-45ad-bef1-7051678b2240\" xlink:type=\"simple\"><rect fill=\"#FEFECE\" filter=\"url(#fp2yg440kp0sj)\" height=\"84.3516\" id=\"E4\" rx=\"10\" ry=\"10\" style=\"stroke: #A80036; stroke-width: 1.5;\" width=\"167\" x=\"247.5\" y=\"41\"/><ellipse cx=\"275.55\" cy=\"59.9688\" fill=\"#FFA500\" rx=\"11\" ry=\"11\" style=\"stroke: #A80036; stroke-width: 1.0;\"/><path d=\"M271.425,61.8906 L271.425,54.0781 L273.8781,54.0781 L273.8781,62.5156 Q273.8781,63.4375 274.3469,63.9688 Q274.8313,64.5 275.6594,64.5 Q276.5031,64.5 276.9719,63.9688 Q277.4406,63.4375 277.4406,62.5156 L277.4406,54.0781 L279.8938,54.0781 L279.8938,61.8906 Q279.8938,64.4219 278.8938,65.5625 Q277.8938,66.7031 275.6594,66.7031 Q273.4406,66.7031 272.425,65.5625 Q271.425,64.4219 271.425,61.8906 Z \"/><text fill=\"#000000\" font-family=\"sans-serif\" font-size=\"12\" font-style=\"italic\" lengthAdjust=\"spacingAndGlyphs\" textLength=\"69\" x=\"310.95\" y=\"57.1387\">«attribute»</text><text fill=\"#000000\" font-family=\"sans-serif\" font-size=\"12\" lengthAdjust=\"spacingAndGlyphs\" textLength=\"106\" x=\"292.45\" y=\"71.1074\">packet data field</text><line style=\"stroke: #A80036; stroke-width: 1.5;\" x1=\"248.5\" x2=\"413.5\" y1=\"78.9375\" y2=\"78.9375\"/><text fill=\"#000000\" font-family=\"sans-serif\" font-size=\"11\" lengthAdjust=\"spacingAndGlyphs\" textLength=\"144\" x=\"253.5\" y=\"93.1479\">packet secondary header</text><text fill=\"#000000\" font-family=\"sans-serif\" font-size=\"11\" font-style=\"italic\" lengthAdjust=\"spacingAndGlyphs\" textLength=\"155\" x=\"253.5\" y=\"105.9526\">:&gt;&gt;Packets::packet header</text><text fill=\"#000000\" font-family=\"sans-serif\" font-size=\"11\" lengthAdjust=\"spacingAndGlyphs\" textLength=\"83\" x=\"253.5\" y=\"118.7573\">user data field</text></a><!--MD5=[270fce915f116d4de14055a7c1d9a0f3]\n",
       "class E5--><a href=\"psysml:7a510d36-5831-409f-9d62-08a185df40ba\" target=\"_top\" title=\"psysml:7a510d36-5831-409f-9d62-08a185df40ba\" xlink:actuate=\"onRequest\" xlink:href=\"psysml:7a510d36-5831-409f-9d62-08a185df40ba\" xlink:show=\"new\" xlink:title=\"psysml:7a510d36-5831-409f-9d62-08a185df40ba\" xlink:type=\"simple\"><rect fill=\"#FEFECE\" filter=\"url(#fp2yg440kp0sj)\" height=\"91.2188\" id=\"E5\" style=\"stroke: #A80036; stroke-width: 1.5;\" width=\"180\" x=\"32\" y=\"185\"/><ellipse cx=\"79.25\" cy=\"201\" fill=\"#008000\" rx=\"11\" ry=\"11\" style=\"stroke: #A80036; stroke-width: 1.0;\"/><path d=\"M78.1563,201.375 L78.1563,205.0469 L79.7813,205.0469 Q80.9531,205.0469 81.4219,204.6563 Q81.8906,204.25 81.8906,203.25 Q81.8906,202.25 81.3906,201.8125 Q80.9063,201.375 79.7813,201.375 L78.1563,201.375 Z M78.1563,196.5469 L78.1563,199.4219 L79.7813,199.4219 Q80.7031,199.4219 81.0938,199.0938 Q81.5,198.75 81.5,198 Q81.5,197.2344 81.0938,196.8906 Q80.6875,196.5469 79.7813,196.5469 L78.1563,196.5469 Z M75.7813,194.5938 L79.7813,194.5938 Q81.8438,194.5938 82.8906,195.375 Q83.9375,196.1563 83.9375,197.7188 Q83.9375,198.9219 83.3125,199.5938 Q82.7031,200.2656 81.5156,200.375 Q82.9375,200.5156 83.6563,201.3281 Q84.375,202.1406 84.375,203.5938 Q84.375,205.3906 83.2969,206.2031 Q82.2188,207 79.7813,207 L75.7813,207 L75.7813,194.5938 Z \"/><text fill=\"#000000\" font-family=\"sans-serif\" font-size=\"12\" lengthAdjust=\"spacingAndGlyphs\" textLength=\"77\" x=\"99.75\" y=\"205.1543\">Data Packet</text><line style=\"stroke: #A80036; stroke-width: 1.5;\" x1=\"33\" x2=\"211\" y1=\"217\" y2=\"217\"/><text fill=\"#000000\" font-family=\"sans-serif\" font-size=\"11\" lengthAdjust=\"spacingAndGlyphs\" textLength=\"94\" x=\"38\" y=\"231.2104\">packet data field</text><text fill=\"#000000\" font-family=\"sans-serif\" font-size=\"11\" font-style=\"italic\" lengthAdjust=\"spacingAndGlyphs\" textLength=\"168\" x=\"38\" y=\"244.0151\">:&gt;&gt;Packets::packet data field</text><text fill=\"#000000\" font-family=\"sans-serif\" font-size=\"11\" lengthAdjust=\"spacingAndGlyphs\" textLength=\"129\" x=\"38\" y=\"256.8198\">packet primary header</text><text fill=\"#000000\" font-family=\"sans-serif\" font-size=\"11\" font-style=\"italic\" lengthAdjust=\"spacingAndGlyphs\" textLength=\"155\" x=\"38\" y=\"269.6245\">:&gt;&gt;Packets::packet header</text></a><!--MD5=[60a26617385b1d2d0262a64233df1f8d]\n",
       "class E6--><a href=\"psysml:10023c3e-6ce6-4816-9fb9-6800bd66eb89\" target=\"_top\" title=\"psysml:10023c3e-6ce6-4816-9fb9-6800bd66eb89\" xlink:actuate=\"onRequest\" xlink:href=\"psysml:10023c3e-6ce6-4816-9fb9-6800bd66eb89\" xlink:show=\"new\" xlink:title=\"psysml:10023c3e-6ce6-4816-9fb9-6800bd66eb89\" xlink:type=\"simple\"><rect fill=\"#FEFECE\" filter=\"url(#fp2yg440kp0sj)\" height=\"65.6094\" id=\"E6\" style=\"stroke: #A80036; stroke-width: 1.5;\" width=\"180\" x=\"32\" y=\"50\"/><ellipse cx=\"54.65\" cy=\"66\" fill=\"#008000\" rx=\"11\" ry=\"11\" style=\"stroke: #A80036; stroke-width: 1.0;\"/><path d=\"M53.5563,66.375 L53.5563,70.0469 L55.1813,70.0469 Q56.3531,70.0469 56.8219,69.6563 Q57.2906,69.25 57.2906,68.25 Q57.2906,67.25 56.7906,66.8125 Q56.3063,66.375 55.1813,66.375 L53.5563,66.375 Z M53.5563,61.5469 L53.5563,64.4219 L55.1813,64.4219 Q56.1031,64.4219 56.4938,64.0938 Q56.9,63.75 56.9,63 Q56.9,62.2344 56.4938,61.8906 Q56.0875,61.5469 55.1813,61.5469 L53.5563,61.5469 Z M51.1813,59.5938 L55.1813,59.5938 Q57.2438,59.5938 58.2906,60.375 Q59.3375,61.1563 59.3375,62.7188 Q59.3375,63.9219 58.7125,64.5938 Q58.1031,65.2656 56.9156,65.375 Q58.3375,65.5156 59.0563,66.3281 Q59.775,67.1406 59.775,68.5938 Q59.775,70.3906 58.6969,71.2031 Q57.6188,72 55.1813,72 L51.1813,72 L51.1813,59.5938 Z \"/><text fill=\"#000000\" font-family=\"sans-serif\" font-size=\"12\" lengthAdjust=\"spacingAndGlyphs\" textLength=\"131\" x=\"70.35\" y=\"70.1543\">Thermal Data Packet</text><line style=\"stroke: #A80036; stroke-width: 1.5;\" x1=\"33\" x2=\"211\" y1=\"82\" y2=\"82\"/><text fill=\"#000000\" font-family=\"sans-serif\" font-size=\"11\" lengthAdjust=\"spacingAndGlyphs\" textLength=\"94\" x=\"38\" y=\"96.2104\">packet data field</text><text fill=\"#000000\" font-family=\"sans-serif\" font-size=\"11\" font-style=\"italic\" lengthAdjust=\"spacingAndGlyphs\" textLength=\"168\" x=\"38\" y=\"109.0151\">:&gt;&gt;Packets::packet data field</text></a><!--MD5=[25b190c987b1e74e5126d372c5a73af1]\n",
       "link E6 to E5--><a href=\"psysml:8c509f82-013b-4383-9ee5-07fa63a1b780\" target=\"_top\" title=\"psysml:8c509f82-013b-4383-9ee5-07fa63a1b780\" xlink:actuate=\"onRequest\" xlink:href=\"psysml:8c509f82-013b-4383-9ee5-07fa63a1b780\" xlink:show=\"new\" xlink:title=\"psysml:8c509f82-013b-4383-9ee5-07fa63a1b780\" xlink:type=\"simple\"><path d=\"M122,116.29 C122,130.56 122,147.87 122,164.61 \" fill=\"none\" id=\"E6-&gt;E5\" style=\"stroke: #A80036; stroke-width: 1.0;\"/><polygon fill=\"none\" points=\"129,164.88,122,184.88,115,164.88,129,164.88\" style=\"stroke: #A80036; stroke-width: 1.0;\"/></a><!--MD5=[5e0b0d6bd12d888a899a6880b96558bc]\n",
       "@startuml\r\n",
       " \r\n",
       "package \"Packets\" as E1  [[psysml:781596e5-2fdd-47e5-84a9-0e1e2d017791 ]]  {\r\n",
       "comp def \"DateTime\" as E2  <<(D,brown)attribute def>> [[psysml:09967ea5-e8af-470d-92d0-5553b1044725 ]] {\r\n",
       "}\r\n",
       "comp usage \"packet header\" as E3  <<(U,orange)attribute>> [[psysml:16b22f80-f2ca-4440-a25c-8e72c7cab96e ]] {\r\n",
       "}\r\n",
       "comp usage \"packet data field\" as E4  <<(U,orange)attribute>> [[psysml:7e904c0e-d2a4-45ad-bef1-7051678b2240 ]] {\r\n",
       "packet secondary header\\n//:>>Packets::packet header// \r\n",
       "user data field\r\n",
       "}\r\n",
       "comp def \"Data Packet\" as E5  << (B,green) >> [[psysml:7a510d36-5831-409f-9d62-08a185df40ba ]] {\r\n",
       "packet data field\\n//:>>Packets::packet data field// \r\n",
       "packet primary header\\n//:>>Packets::packet header// \r\n",
       "}\r\n",
       "comp def \"Thermal Data Packet\" as E6  << (B,green) >> [[psysml:10023c3e-6ce6-4816-9fb9-6800bd66eb89 ]] {\r\n",
       "packet data field\\n//:>>Packets::packet data field// \r\n",
       "}\r\n",
       "E6 - -|> E5 [[psysml:8c509f82-013b-4383-9ee5-07fa63a1b780 ]] \r\n",
       "}\r\n",
       "@enduml\r\n",
       "\n",
       "PlantUML version 1.2020.13(Sat Jun 13 12:26:38 UTC 2020)\n",
       "(EPL source distribution)\n",
       "Java Runtime: OpenJDK Runtime Environment\n",
       "JVM: OpenJDK 64-Bit Server VM\n",
       "Default Encoding: UTF-8\n",
       "Language: en\n",
       "Country: null\n",
       "--></g></svg>"
      ]
     },
     "execution_count": 35,
     "metadata": {},
     "output_type": "execute_result"
    }
   ],
   "source": [
    "%viz --style=\"PLANTUML\" --view=\"Sequence\" \"Packets\""
   ]
  },
  {
   "cell_type": "code",
   "execution_count": 36,
   "id": "4c4d3d30",
   "metadata": {
    "execution": {
     "iopub.execute_input": "2021-04-20T07:33:56.751498Z",
     "iopub.status.busy": "2021-04-20T07:33:56.751004Z",
     "iopub.status.idle": "2021-04-20T07:33:56.822594Z",
     "shell.execute_reply": "2021-04-20T07:33:56.821227Z"
    }
   },
   "outputs": [
    {
     "data": {
      "image/svg+xml": [
       "<?xml version=\"1.0\" encoding=\"UTF-8\" standalone=\"no\"?><svg xmlns=\"http://www.w3.org/2000/svg\" xmlns:xlink=\"http://www.w3.org/1999/xlink\" contentScriptType=\"application/ecmascript\" contentStyleType=\"text/css\" height=\"304px\" preserveAspectRatio=\"none\" style=\"width:768px;height:304px;\" version=\"1.1\" viewBox=\"0 0 768 304\" width=\"768px\" zoomAndPan=\"magnify\"><defs><filter height=\"300%\" id=\"fp2yg440kp0sj\" width=\"300%\" x=\"-1\" y=\"-1\"><feGaussianBlur result=\"blurOut\" stdDeviation=\"2.0\"/><feColorMatrix in=\"blurOut\" result=\"blurOut2\" type=\"matrix\" values=\"0 0 0 0 0 0 0 0 0 0 0 0 0 0 0 0 0 0 .4 0\"/><feOffset dx=\"4.0\" dy=\"4.0\" in=\"blurOut2\" result=\"blurOut3\"/><feBlend in=\"SourceGraphic\" in2=\"blurOut3\" mode=\"normal\"/></filter></defs><g><!--MD5=[fbc87193dbaf4d95561dea2c320d4a47]\n",
       "cluster E1--><a href=\"psysml:781596e5-2fdd-47e5-84a9-0e1e2d017791\" target=\"_top\" title=\"psysml:781596e5-2fdd-47e5-84a9-0e1e2d017791\" xlink:actuate=\"onRequest\" xlink:href=\"psysml:781596e5-2fdd-47e5-84a9-0e1e2d017791\" xlink:show=\"new\" xlink:title=\"psysml:781596e5-2fdd-47e5-84a9-0e1e2d017791\" xlink:type=\"simple\"><polygon fill=\"#FFFFFF\" filter=\"url(#fp2yg440kp0sj)\" points=\"16,6,84,6,91,28.2969,746,28.2969,746,292,16,292,16,6\" style=\"stroke: #000000; stroke-width: 1.5;\"/><line style=\"stroke: #000000; stroke-width: 1.5;\" x1=\"16\" x2=\"91\" y1=\"28.2969\" y2=\"28.2969\"/><text fill=\"#000000\" font-family=\"sans-serif\" font-size=\"14\" font-weight=\"bold\" lengthAdjust=\"spacingAndGlyphs\" textLength=\"62\" x=\"20\" y=\"20.9951\">Packets</text></a><!--MD5=[b4997ac47864f28c2f74865a473b2911]\n",
       "class E2--><a href=\"psysml:09967ea5-e8af-470d-92d0-5553b1044725\" target=\"_top\" title=\"psysml:09967ea5-e8af-470d-92d0-5553b1044725\" xlink:actuate=\"onRequest\" xlink:href=\"psysml:09967ea5-e8af-470d-92d0-5553b1044725\" xlink:show=\"new\" xlink:title=\"psysml:09967ea5-e8af-470d-92d0-5553b1044725\" xlink:type=\"simple\"><rect fill=\"#FEFECE\" filter=\"url(#fp2yg440kp0sj)\" height=\"45.9375\" id=\"E2\" style=\"stroke: #A80036; stroke-width: 1.5;\" width=\"121\" x=\"608.5\" y=\"60\"/><ellipse cx=\"623.5\" cy=\"78.9688\" fill=\"#A52A2A\" rx=\"11\" ry=\"11\" style=\"stroke: #A80036; stroke-width: 1.0;\"/><path d=\"M623.0938,74.7813 L623.0938,82.7656 L623.75,82.7656 Q625.1875,82.7656 625.7969,81.8594 Q626.4219,80.9375 626.4219,78.7656 Q626.4219,76.5938 625.7969,75.6875 Q625.1875,74.7813 623.75,74.7813 L623.0938,74.7813 Z M620.6406,72.5781 L623.2656,72.5781 Q626.2969,72.5781 627.625,74.0313 Q628.9688,75.4688 628.9688,78.7656 Q628.9688,82.0625 627.625,83.5156 Q626.2969,84.9688 623.2656,84.9688 L620.6406,84.9688 L620.6406,72.5781 Z \"/><text fill=\"#000000\" font-family=\"sans-serif\" font-size=\"12\" font-style=\"italic\" lengthAdjust=\"spacingAndGlyphs\" textLength=\"93\" x=\"635.5\" y=\"76.1387\">«attribute def»</text><text fill=\"#000000\" font-family=\"sans-serif\" font-size=\"12\" lengthAdjust=\"spacingAndGlyphs\" textLength=\"59\" x=\"652.5\" y=\"90.1074\">DateTime</text><line style=\"stroke: #A80036; stroke-width: 1.5;\" x1=\"609.5\" x2=\"728.5\" y1=\"97.9375\" y2=\"97.9375\"/></a><!--MD5=[09b614a08d8cba4a07c9adeb5e0fee81]\n",
       "class E3--><a href=\"psysml:16b22f80-f2ca-4440-a25c-8e72c7cab96e\" target=\"_top\" title=\"psysml:16b22f80-f2ca-4440-a25c-8e72c7cab96e\" xlink:actuate=\"onRequest\" xlink:href=\"psysml:16b22f80-f2ca-4440-a25c-8e72c7cab96e\" xlink:show=\"new\" xlink:title=\"psysml:16b22f80-f2ca-4440-a25c-8e72c7cab96e\" xlink:type=\"simple\"><rect fill=\"#FEFECE\" filter=\"url(#fp2yg440kp0sj)\" height=\"45.9375\" id=\"E3\" rx=\"10\" ry=\"10\" style=\"stroke: #A80036; stroke-width: 1.5;\" width=\"124\" x=\"449\" y=\"60\"/><ellipse cx=\"464\" cy=\"78.9688\" fill=\"#FFA500\" rx=\"11\" ry=\"11\" style=\"stroke: #A80036; stroke-width: 1.0;\"/><path d=\"M459.875,80.8906 L459.875,73.0781 L462.3281,73.0781 L462.3281,81.5156 Q462.3281,82.4375 462.7969,82.9688 Q463.2813,83.5 464.1094,83.5 Q464.9531,83.5 465.4219,82.9688 Q465.8906,82.4375 465.8906,81.5156 L465.8906,73.0781 L468.3438,73.0781 L468.3438,80.8906 Q468.3438,83.4219 467.3438,84.5625 Q466.3438,85.7031 464.1094,85.7031 Q461.8906,85.7031 460.875,84.5625 Q459.875,83.4219 459.875,80.8906 Z \"/><text fill=\"#000000\" font-family=\"sans-serif\" font-size=\"12\" font-style=\"italic\" lengthAdjust=\"spacingAndGlyphs\" textLength=\"69\" x=\"489.5\" y=\"76.1387\">«attribute»</text><text fill=\"#000000\" font-family=\"sans-serif\" font-size=\"12\" lengthAdjust=\"spacingAndGlyphs\" textLength=\"92\" x=\"478\" y=\"90.1074\">packet header</text><line style=\"stroke: #A80036; stroke-width: 1.5;\" x1=\"450\" x2=\"572\" y1=\"97.9375\" y2=\"97.9375\"/></a><!--MD5=[ebbe1d658d1005bcc118a6aa81145e00]\n",
       "class E4--><a href=\"psysml:7e904c0e-d2a4-45ad-bef1-7051678b2240\" target=\"_top\" title=\"psysml:7e904c0e-d2a4-45ad-bef1-7051678b2240\" xlink:actuate=\"onRequest\" xlink:href=\"psysml:7e904c0e-d2a4-45ad-bef1-7051678b2240\" xlink:show=\"new\" xlink:title=\"psysml:7e904c0e-d2a4-45ad-bef1-7051678b2240\" xlink:type=\"simple\"><rect fill=\"#FEFECE\" filter=\"url(#fp2yg440kp0sj)\" height=\"84.3516\" id=\"E4\" rx=\"10\" ry=\"10\" style=\"stroke: #A80036; stroke-width: 1.5;\" width=\"167\" x=\"247.5\" y=\"41\"/><ellipse cx=\"275.55\" cy=\"59.9688\" fill=\"#FFA500\" rx=\"11\" ry=\"11\" style=\"stroke: #A80036; stroke-width: 1.0;\"/><path d=\"M271.425,61.8906 L271.425,54.0781 L273.8781,54.0781 L273.8781,62.5156 Q273.8781,63.4375 274.3469,63.9688 Q274.8313,64.5 275.6594,64.5 Q276.5031,64.5 276.9719,63.9688 Q277.4406,63.4375 277.4406,62.5156 L277.4406,54.0781 L279.8938,54.0781 L279.8938,61.8906 Q279.8938,64.4219 278.8938,65.5625 Q277.8938,66.7031 275.6594,66.7031 Q273.4406,66.7031 272.425,65.5625 Q271.425,64.4219 271.425,61.8906 Z \"/><text fill=\"#000000\" font-family=\"sans-serif\" font-size=\"12\" font-style=\"italic\" lengthAdjust=\"spacingAndGlyphs\" textLength=\"69\" x=\"310.95\" y=\"57.1387\">«attribute»</text><text fill=\"#000000\" font-family=\"sans-serif\" font-size=\"12\" lengthAdjust=\"spacingAndGlyphs\" textLength=\"106\" x=\"292.45\" y=\"71.1074\">packet data field</text><line style=\"stroke: #A80036; stroke-width: 1.5;\" x1=\"248.5\" x2=\"413.5\" y1=\"78.9375\" y2=\"78.9375\"/><text fill=\"#000000\" font-family=\"sans-serif\" font-size=\"11\" lengthAdjust=\"spacingAndGlyphs\" textLength=\"144\" x=\"253.5\" y=\"93.1479\">packet secondary header</text><text fill=\"#000000\" font-family=\"sans-serif\" font-size=\"11\" font-style=\"italic\" lengthAdjust=\"spacingAndGlyphs\" textLength=\"155\" x=\"253.5\" y=\"105.9526\">:&gt;&gt;Packets::packet header</text><text fill=\"#000000\" font-family=\"sans-serif\" font-size=\"11\" lengthAdjust=\"spacingAndGlyphs\" textLength=\"83\" x=\"253.5\" y=\"118.7573\">user data field</text></a><!--MD5=[270fce915f116d4de14055a7c1d9a0f3]\n",
       "class E5--><a href=\"psysml:7a510d36-5831-409f-9d62-08a185df40ba\" target=\"_top\" title=\"psysml:7a510d36-5831-409f-9d62-08a185df40ba\" xlink:actuate=\"onRequest\" xlink:href=\"psysml:7a510d36-5831-409f-9d62-08a185df40ba\" xlink:show=\"new\" xlink:title=\"psysml:7a510d36-5831-409f-9d62-08a185df40ba\" xlink:type=\"simple\"><rect fill=\"#FEFECE\" filter=\"url(#fp2yg440kp0sj)\" height=\"91.2188\" id=\"E5\" style=\"stroke: #A80036; stroke-width: 1.5;\" width=\"180\" x=\"32\" y=\"185\"/><ellipse cx=\"79.25\" cy=\"201\" fill=\"#008000\" rx=\"11\" ry=\"11\" style=\"stroke: #A80036; stroke-width: 1.0;\"/><path d=\"M78.1563,201.375 L78.1563,205.0469 L79.7813,205.0469 Q80.9531,205.0469 81.4219,204.6563 Q81.8906,204.25 81.8906,203.25 Q81.8906,202.25 81.3906,201.8125 Q80.9063,201.375 79.7813,201.375 L78.1563,201.375 Z M78.1563,196.5469 L78.1563,199.4219 L79.7813,199.4219 Q80.7031,199.4219 81.0938,199.0938 Q81.5,198.75 81.5,198 Q81.5,197.2344 81.0938,196.8906 Q80.6875,196.5469 79.7813,196.5469 L78.1563,196.5469 Z M75.7813,194.5938 L79.7813,194.5938 Q81.8438,194.5938 82.8906,195.375 Q83.9375,196.1563 83.9375,197.7188 Q83.9375,198.9219 83.3125,199.5938 Q82.7031,200.2656 81.5156,200.375 Q82.9375,200.5156 83.6563,201.3281 Q84.375,202.1406 84.375,203.5938 Q84.375,205.3906 83.2969,206.2031 Q82.2188,207 79.7813,207 L75.7813,207 L75.7813,194.5938 Z \"/><text fill=\"#000000\" font-family=\"sans-serif\" font-size=\"12\" lengthAdjust=\"spacingAndGlyphs\" textLength=\"77\" x=\"99.75\" y=\"205.1543\">Data Packet</text><line style=\"stroke: #A80036; stroke-width: 1.5;\" x1=\"33\" x2=\"211\" y1=\"217\" y2=\"217\"/><text fill=\"#000000\" font-family=\"sans-serif\" font-size=\"11\" lengthAdjust=\"spacingAndGlyphs\" textLength=\"94\" x=\"38\" y=\"231.2104\">packet data field</text><text fill=\"#000000\" font-family=\"sans-serif\" font-size=\"11\" font-style=\"italic\" lengthAdjust=\"spacingAndGlyphs\" textLength=\"168\" x=\"38\" y=\"244.0151\">:&gt;&gt;Packets::packet data field</text><text fill=\"#000000\" font-family=\"sans-serif\" font-size=\"11\" lengthAdjust=\"spacingAndGlyphs\" textLength=\"129\" x=\"38\" y=\"256.8198\">packet primary header</text><text fill=\"#000000\" font-family=\"sans-serif\" font-size=\"11\" font-style=\"italic\" lengthAdjust=\"spacingAndGlyphs\" textLength=\"155\" x=\"38\" y=\"269.6245\">:&gt;&gt;Packets::packet header</text></a><!--MD5=[60a26617385b1d2d0262a64233df1f8d]\n",
       "class E6--><a href=\"psysml:10023c3e-6ce6-4816-9fb9-6800bd66eb89\" target=\"_top\" title=\"psysml:10023c3e-6ce6-4816-9fb9-6800bd66eb89\" xlink:actuate=\"onRequest\" xlink:href=\"psysml:10023c3e-6ce6-4816-9fb9-6800bd66eb89\" xlink:show=\"new\" xlink:title=\"psysml:10023c3e-6ce6-4816-9fb9-6800bd66eb89\" xlink:type=\"simple\"><rect fill=\"#FEFECE\" filter=\"url(#fp2yg440kp0sj)\" height=\"65.6094\" id=\"E6\" style=\"stroke: #A80036; stroke-width: 1.5;\" width=\"180\" x=\"32\" y=\"50\"/><ellipse cx=\"54.65\" cy=\"66\" fill=\"#008000\" rx=\"11\" ry=\"11\" style=\"stroke: #A80036; stroke-width: 1.0;\"/><path d=\"M53.5563,66.375 L53.5563,70.0469 L55.1813,70.0469 Q56.3531,70.0469 56.8219,69.6563 Q57.2906,69.25 57.2906,68.25 Q57.2906,67.25 56.7906,66.8125 Q56.3063,66.375 55.1813,66.375 L53.5563,66.375 Z M53.5563,61.5469 L53.5563,64.4219 L55.1813,64.4219 Q56.1031,64.4219 56.4938,64.0938 Q56.9,63.75 56.9,63 Q56.9,62.2344 56.4938,61.8906 Q56.0875,61.5469 55.1813,61.5469 L53.5563,61.5469 Z M51.1813,59.5938 L55.1813,59.5938 Q57.2438,59.5938 58.2906,60.375 Q59.3375,61.1563 59.3375,62.7188 Q59.3375,63.9219 58.7125,64.5938 Q58.1031,65.2656 56.9156,65.375 Q58.3375,65.5156 59.0563,66.3281 Q59.775,67.1406 59.775,68.5938 Q59.775,70.3906 58.6969,71.2031 Q57.6188,72 55.1813,72 L51.1813,72 L51.1813,59.5938 Z \"/><text fill=\"#000000\" font-family=\"sans-serif\" font-size=\"12\" lengthAdjust=\"spacingAndGlyphs\" textLength=\"131\" x=\"70.35\" y=\"70.1543\">Thermal Data Packet</text><line style=\"stroke: #A80036; stroke-width: 1.5;\" x1=\"33\" x2=\"211\" y1=\"82\" y2=\"82\"/><text fill=\"#000000\" font-family=\"sans-serif\" font-size=\"11\" lengthAdjust=\"spacingAndGlyphs\" textLength=\"94\" x=\"38\" y=\"96.2104\">packet data field</text><text fill=\"#000000\" font-family=\"sans-serif\" font-size=\"11\" font-style=\"italic\" lengthAdjust=\"spacingAndGlyphs\" textLength=\"168\" x=\"38\" y=\"109.0151\">:&gt;&gt;Packets::packet data field</text></a><!--MD5=[25b190c987b1e74e5126d372c5a73af1]\n",
       "link E6 to E5--><a href=\"psysml:8c509f82-013b-4383-9ee5-07fa63a1b780\" target=\"_top\" title=\"psysml:8c509f82-013b-4383-9ee5-07fa63a1b780\" xlink:actuate=\"onRequest\" xlink:href=\"psysml:8c509f82-013b-4383-9ee5-07fa63a1b780\" xlink:show=\"new\" xlink:title=\"psysml:8c509f82-013b-4383-9ee5-07fa63a1b780\" xlink:type=\"simple\"><path d=\"M122,116.29 C122,130.56 122,147.87 122,164.61 \" fill=\"none\" id=\"E6-&gt;E5\" style=\"stroke: #A80036; stroke-width: 1.0;\"/><polygon fill=\"none\" points=\"129,164.88,122,184.88,115,164.88,129,164.88\" style=\"stroke: #A80036; stroke-width: 1.0;\"/></a><!--MD5=[5e0b0d6bd12d888a899a6880b96558bc]\n",
       "@startuml\r\n",
       " \r\n",
       "package \"Packets\" as E1  [[psysml:781596e5-2fdd-47e5-84a9-0e1e2d017791 ]]  {\r\n",
       "comp def \"DateTime\" as E2  <<(D,brown)attribute def>> [[psysml:09967ea5-e8af-470d-92d0-5553b1044725 ]] {\r\n",
       "}\r\n",
       "comp usage \"packet header\" as E3  <<(U,orange)attribute>> [[psysml:16b22f80-f2ca-4440-a25c-8e72c7cab96e ]] {\r\n",
       "}\r\n",
       "comp usage \"packet data field\" as E4  <<(U,orange)attribute>> [[psysml:7e904c0e-d2a4-45ad-bef1-7051678b2240 ]] {\r\n",
       "packet secondary header\\n//:>>Packets::packet header// \r\n",
       "user data field\r\n",
       "}\r\n",
       "comp def \"Data Packet\" as E5  << (B,green) >> [[psysml:7a510d36-5831-409f-9d62-08a185df40ba ]] {\r\n",
       "packet data field\\n//:>>Packets::packet data field// \r\n",
       "packet primary header\\n//:>>Packets::packet header// \r\n",
       "}\r\n",
       "comp def \"Thermal Data Packet\" as E6  << (B,green) >> [[psysml:10023c3e-6ce6-4816-9fb9-6800bd66eb89 ]] {\r\n",
       "packet data field\\n//:>>Packets::packet data field// \r\n",
       "}\r\n",
       "E6 - -|> E5 [[psysml:8c509f82-013b-4383-9ee5-07fa63a1b780 ]] \r\n",
       "}\r\n",
       "@enduml\r\n",
       "\n",
       "PlantUML version 1.2020.13(Sat Jun 13 12:26:38 UTC 2020)\n",
       "(EPL source distribution)\n",
       "Java Runtime: OpenJDK Runtime Environment\n",
       "JVM: OpenJDK 64-Bit Server VM\n",
       "Default Encoding: UTF-8\n",
       "Language: en\n",
       "Country: null\n",
       "--></g></svg>"
      ]
     },
     "execution_count": 36,
     "metadata": {},
     "output_type": "execute_result"
    }
   ],
   "source": [
    "%viz --style=\"PLANTUML\" --view=\"MIXED\" \"Packets\""
   ]
  },
  {
   "cell_type": "code",
   "execution_count": 37,
   "id": "858d9eb8",
   "metadata": {
    "execution": {
     "iopub.execute_input": "2021-04-20T07:33:56.872818Z",
     "iopub.status.busy": "2021-04-20T07:33:56.872406Z",
     "iopub.status.idle": "2021-04-20T07:33:57.008717Z",
     "shell.execute_reply": "2021-04-20T07:33:57.007251Z"
    }
   },
   "outputs": [
    {
     "data": {
      "image/svg+xml": [
       "<?xml version=\"1.0\" encoding=\"UTF-8\" standalone=\"no\"?><svg xmlns=\"http://www.w3.org/2000/svg\" xmlns:xlink=\"http://www.w3.org/1999/xlink\" contentScriptType=\"application/ecmascript\" contentStyleType=\"text/css\" height=\"344px\" preserveAspectRatio=\"none\" style=\"width:716px;height:344px;\" version=\"1.1\" viewBox=\"0 0 716 344\" width=\"716px\" zoomAndPan=\"magnify\"><defs/><g><!--MD5=[fbc87193dbaf4d95561dea2c320d4a47]\n",
       "cluster E1--><a href=\"psysml:781596e5-2fdd-47e5-84a9-0e1e2d017791\" target=\"_top\" title=\"psysml:781596e5-2fdd-47e5-84a9-0e1e2d017791\" xlink:actuate=\"onRequest\" xlink:href=\"psysml:781596e5-2fdd-47e5-84a9-0e1e2d017791\" xlink:show=\"new\" xlink:title=\"psysml:781596e5-2fdd-47e5-84a9-0e1e2d017791\" xlink:type=\"simple\"><polygon fill=\"#FFFFFF\" points=\"16,6,84,6,91,28.2969,694,28.2969,694,332,16,332,16,6\" style=\"stroke: #000000; stroke-width: 1.5;\"/><line style=\"stroke: #000000; stroke-width: 1.5;\" x1=\"16\" x2=\"91\" y1=\"28.2969\" y2=\"28.2969\"/><text fill=\"#000000\" font-family=\"sans-serif\" font-size=\"14\" font-weight=\"bold\" lengthAdjust=\"spacingAndGlyphs\" textLength=\"62\" x=\"20\" y=\"20.9951\">Packets</text></a><!--MD5=[b4997ac47864f28c2f74865a473b2911]\n",
       "class E2--><a href=\"psysml:09967ea5-e8af-470d-92d0-5553b1044725\" target=\"_top\" title=\"psysml:09967ea5-e8af-470d-92d0-5553b1044725\" xlink:actuate=\"onRequest\" xlink:href=\"psysml:09967ea5-e8af-470d-92d0-5553b1044725\" xlink:show=\"new\" xlink:title=\"psysml:09967ea5-e8af-470d-92d0-5553b1044725\" xlink:type=\"simple\"><rect fill=\"#FFFFFF\" height=\"45.9375\" id=\"E2\" style=\"stroke: #383838; stroke-width: 1.5;\" width=\"95\" x=\"582.5\" y=\"68.5\"/><text fill=\"#000000\" font-family=\"sans-serif\" font-size=\"12\" font-style=\"italic\" lengthAdjust=\"spacingAndGlyphs\" textLength=\"93\" x=\"583.5\" y=\"84.6387\">«attribute def»</text><text fill=\"#000000\" font-family=\"sans-serif\" font-size=\"12\" lengthAdjust=\"spacingAndGlyphs\" textLength=\"59\" x=\"600.5\" y=\"98.6074\">DateTime</text><line style=\"stroke: #383838; stroke-width: 1.5;\" x1=\"583.5\" x2=\"676.5\" y1=\"106.4375\" y2=\"106.4375\"/></a><!--MD5=[09b614a08d8cba4a07c9adeb5e0fee81]\n",
       "class E3--><a href=\"psysml:16b22f80-f2ca-4440-a25c-8e72c7cab96e\" target=\"_top\" title=\"psysml:16b22f80-f2ca-4440-a25c-8e72c7cab96e\" xlink:actuate=\"onRequest\" xlink:href=\"psysml:16b22f80-f2ca-4440-a25c-8e72c7cab96e\" xlink:show=\"new\" xlink:title=\"psysml:16b22f80-f2ca-4440-a25c-8e72c7cab96e\" xlink:type=\"simple\"><rect fill=\"#FFFFFF\" height=\"45.9375\" id=\"E3\" rx=\"10\" ry=\"10\" style=\"stroke: #383838; stroke-width: 1.5;\" width=\"98\" x=\"449\" y=\"68.5\"/><text fill=\"#000000\" font-family=\"sans-serif\" font-size=\"12\" font-style=\"italic\" lengthAdjust=\"spacingAndGlyphs\" textLength=\"69\" x=\"463.5\" y=\"84.6387\">«attribute»</text><text fill=\"#000000\" font-family=\"sans-serif\" font-size=\"12\" lengthAdjust=\"spacingAndGlyphs\" textLength=\"92\" x=\"452\" y=\"98.6074\">packet header</text><line style=\"stroke: #383838; stroke-width: 1.5;\" x1=\"450\" x2=\"546\" y1=\"106.4375\" y2=\"106.4375\"/></a><!--MD5=[ebbe1d658d1005bcc118a6aa81145e00]\n",
       "class E4--><a href=\"psysml:7e904c0e-d2a4-45ad-bef1-7051678b2240\" target=\"_top\" title=\"psysml:7e904c0e-d2a4-45ad-bef1-7051678b2240\" xlink:actuate=\"onRequest\" xlink:href=\"psysml:7e904c0e-d2a4-45ad-bef1-7051678b2240\" xlink:show=\"new\" xlink:title=\"psysml:7e904c0e-d2a4-45ad-bef1-7051678b2240\" xlink:type=\"simple\"><rect fill=\"#FFFFFF\" height=\"101.1563\" id=\"E4\" rx=\"10\" ry=\"10\" style=\"stroke: #383838; stroke-width: 1.5;\" width=\"167\" x=\"247.5\" y=\"41\"/><text fill=\"#000000\" font-family=\"sans-serif\" font-size=\"12\" font-style=\"italic\" lengthAdjust=\"spacingAndGlyphs\" textLength=\"69\" x=\"296.5\" y=\"57.1387\">«attribute»</text><text fill=\"#000000\" font-family=\"sans-serif\" font-size=\"12\" lengthAdjust=\"spacingAndGlyphs\" textLength=\"106\" x=\"278\" y=\"71.1074\">packet data field</text><line style=\"stroke: #383838; stroke-width: 1.5;\" x1=\"248.5\" x2=\"413.5\" y1=\"78.9375\" y2=\"78.9375\"/><text fill=\"#000000\" font-family=\"sans-serif\" font-size=\"11\" lengthAdjust=\"spacingAndGlyphs\" textLength=\"144\" x=\"253.5\" y=\"109.9526\">packet secondary header</text><text fill=\"#000000\" font-family=\"sans-serif\" font-size=\"11\" font-style=\"italic\" lengthAdjust=\"spacingAndGlyphs\" textLength=\"155\" x=\"253.5\" y=\"122.7573\">:&gt;&gt;Packets::packet header</text><text fill=\"#000000\" font-family=\"sans-serif\" font-size=\"11\" lengthAdjust=\"spacingAndGlyphs\" textLength=\"83\" x=\"253.5\" y=\"135.562\">user data field</text><line style=\"stroke: #383838; stroke-width: 1.0;\" x1=\"248.5\" x2=\"303.5\" y1=\"93.3398\" y2=\"93.3398\"/><text fill=\"#000000\" font-family=\"sans-serif\" font-size=\"11\" lengthAdjust=\"spacingAndGlyphs\" textLength=\"55\" x=\"303.5\" y=\"96.6479\">attributes</text><line style=\"stroke: #383838; stroke-width: 1.0;\" x1=\"358.5\" x2=\"413.5\" y1=\"93.3398\" y2=\"93.3398\"/></a><!--MD5=[270fce915f116d4de14055a7c1d9a0f3]\n",
       "class E5--><a href=\"psysml:7a510d36-5831-409f-9d62-08a185df40ba\" target=\"_top\" title=\"psysml:7a510d36-5831-409f-9d62-08a185df40ba\" xlink:actuate=\"onRequest\" xlink:href=\"psysml:7a510d36-5831-409f-9d62-08a185df40ba\" xlink:show=\"new\" xlink:title=\"psysml:7a510d36-5831-409f-9d62-08a185df40ba\" xlink:type=\"simple\"><rect fill=\"#FFFFFF\" height=\"113.9609\" id=\"E5\" style=\"stroke: #383838; stroke-width: 1.5;\" width=\"180\" x=\"32\" y=\"202\"/><text fill=\"#000000\" font-family=\"sans-serif\" font-size=\"12\" font-style=\"italic\" lengthAdjust=\"spacingAndGlyphs\" textLength=\"64\" x=\"90\" y=\"218.1387\">«part def»</text><text fill=\"#000000\" font-family=\"sans-serif\" font-size=\"12\" lengthAdjust=\"spacingAndGlyphs\" textLength=\"77\" x=\"83.5\" y=\"232.1074\">Data Packet</text><line style=\"stroke: #383838; stroke-width: 1.5;\" x1=\"33\" x2=\"211\" y1=\"239.9375\" y2=\"239.9375\"/><text fill=\"#000000\" font-family=\"sans-serif\" font-size=\"11\" lengthAdjust=\"spacingAndGlyphs\" textLength=\"94\" x=\"38\" y=\"270.9526\">packet data field</text><text fill=\"#000000\" font-family=\"sans-serif\" font-size=\"11\" font-style=\"italic\" lengthAdjust=\"spacingAndGlyphs\" textLength=\"168\" x=\"38\" y=\"283.7573\">:&gt;&gt;Packets::packet data field</text><text fill=\"#000000\" font-family=\"sans-serif\" font-size=\"11\" lengthAdjust=\"spacingAndGlyphs\" textLength=\"129\" x=\"38\" y=\"296.562\">packet primary header</text><text fill=\"#000000\" font-family=\"sans-serif\" font-size=\"11\" font-style=\"italic\" lengthAdjust=\"spacingAndGlyphs\" textLength=\"155\" x=\"38\" y=\"309.3667\">:&gt;&gt;Packets::packet header</text><line style=\"stroke: #383838; stroke-width: 1.0;\" x1=\"33\" x2=\"94.5\" y1=\"254.3398\" y2=\"254.3398\"/><text fill=\"#000000\" font-family=\"sans-serif\" font-size=\"11\" lengthAdjust=\"spacingAndGlyphs\" textLength=\"55\" x=\"94.5\" y=\"257.6479\">attributes</text><line style=\"stroke: #383838; stroke-width: 1.0;\" x1=\"149.5\" x2=\"211\" y1=\"254.3398\" y2=\"254.3398\"/></a><!--MD5=[60a26617385b1d2d0262a64233df1f8d]\n",
       "class E6--><a href=\"psysml:10023c3e-6ce6-4816-9fb9-6800bd66eb89\" target=\"_top\" title=\"psysml:10023c3e-6ce6-4816-9fb9-6800bd66eb89\" xlink:actuate=\"onRequest\" xlink:href=\"psysml:10023c3e-6ce6-4816-9fb9-6800bd66eb89\" xlink:show=\"new\" xlink:title=\"psysml:10023c3e-6ce6-4816-9fb9-6800bd66eb89\" xlink:type=\"simple\"><rect fill=\"#FFFFFF\" height=\"88.3516\" id=\"E6\" style=\"stroke: #383838; stroke-width: 1.5;\" width=\"180\" x=\"32\" y=\"47.5\"/><text fill=\"#000000\" font-family=\"sans-serif\" font-size=\"12\" font-style=\"italic\" lengthAdjust=\"spacingAndGlyphs\" textLength=\"64\" x=\"90\" y=\"63.6387\">«part def»</text><text fill=\"#000000\" font-family=\"sans-serif\" font-size=\"12\" lengthAdjust=\"spacingAndGlyphs\" textLength=\"131\" x=\"56.5\" y=\"77.6074\">Thermal Data Packet</text><line style=\"stroke: #383838; stroke-width: 1.5;\" x1=\"33\" x2=\"211\" y1=\"85.4375\" y2=\"85.4375\"/><text fill=\"#000000\" font-family=\"sans-serif\" font-size=\"11\" lengthAdjust=\"spacingAndGlyphs\" textLength=\"94\" x=\"38\" y=\"116.4526\">packet data field</text><text fill=\"#000000\" font-family=\"sans-serif\" font-size=\"11\" font-style=\"italic\" lengthAdjust=\"spacingAndGlyphs\" textLength=\"168\" x=\"38\" y=\"129.2573\">:&gt;&gt;Packets::packet data field</text><line style=\"stroke: #383838; stroke-width: 1.0;\" x1=\"33\" x2=\"94.5\" y1=\"99.8398\" y2=\"99.8398\"/><text fill=\"#000000\" font-family=\"sans-serif\" font-size=\"11\" lengthAdjust=\"spacingAndGlyphs\" textLength=\"55\" x=\"94.5\" y=\"103.1479\">attributes</text><line style=\"stroke: #383838; stroke-width: 1.0;\" x1=\"149.5\" x2=\"211\" y1=\"99.8398\" y2=\"99.8398\"/></a><!--MD5=[25b190c987b1e74e5126d372c5a73af1]\n",
       "link E6 to E5--><a href=\"psysml:8c509f82-013b-4383-9ee5-07fa63a1b780\" target=\"_top\" title=\"psysml:8c509f82-013b-4383-9ee5-07fa63a1b780\" xlink:actuate=\"onRequest\" xlink:href=\"psysml:8c509f82-013b-4383-9ee5-07fa63a1b780\" xlink:show=\"new\" xlink:title=\"psysml:8c509f82-013b-4383-9ee5-07fa63a1b780\" xlink:type=\"simple\"><path d=\"M122,135.55 C122,149.68 122,165.84 122,181.67 \" fill=\"none\" id=\"E6-&gt;E5\" style=\"stroke: #383838; stroke-width: 1.0;\"/><polygon fill=\"none\" points=\"129,181.75,122,201.75,115,181.75,129,181.75\" style=\"stroke: #383838; stroke-width: 1.0;\"/></a><!--MD5=[e12ba2f774a82f72525319409c5a81b6]\n",
       "@startuml\r\n",
       "skinparam monochrome true\r\n",
       "skinparam classbackgroundcolor white\r\n",
       "skinparam shadowing false\r\n",
       "skinparam wrapWidth 300\r\n",
       "hide circle\r\n",
       "\r\n",
       "package \"Packets\" as E1  [[psysml:781596e5-2fdd-47e5-84a9-0e1e2d017791 ]]  {\r\n",
       "comp def \"DateTime\" as E2  <<(T,blue)attribute def>> [[psysml:09967ea5-e8af-470d-92d0-5553b1044725 ]] {\r\n",
       "}\r\n",
       "comp usage \"packet header\" as E3  <<(T,blue)attribute>> [[psysml:16b22f80-f2ca-4440-a25c-8e72c7cab96e ]] {\r\n",
       "}\r\n",
       "comp usage \"packet data field\" as E4  <<(T,blue)attribute>> [[psysml:7e904c0e-d2a4-45ad-bef1-7051678b2240 ]] {\r\n",
       "- - attributes - -\r\n",
       "packet secondary header\\n//:>>Packets::packet header// \r\n",
       "user data field\r\n",
       "}\r\n",
       "comp def \"Data Packet\" as E5  <<(T,blue)part def>> [[psysml:7a510d36-5831-409f-9d62-08a185df40ba ]] {\r\n",
       "- - attributes - -\r\n",
       "packet data field\\n//:>>Packets::packet data field// \r\n",
       "packet primary header\\n//:>>Packets::packet header// \r\n",
       "}\r\n",
       "comp def \"Thermal Data Packet\" as E6  <<(T,blue)part def>> [[psysml:10023c3e-6ce6-4816-9fb9-6800bd66eb89 ]] {\r\n",
       "- - attributes - -\r\n",
       "packet data field\\n//:>>Packets::packet data field// \r\n",
       "}\r\n",
       "E6 - -|> E5 [[psysml:8c509f82-013b-4383-9ee5-07fa63a1b780 ]] \r\n",
       "}\r\n",
       "@enduml\r\n",
       "\n",
       "PlantUML version 1.2020.13(Sat Jun 13 12:26:38 UTC 2020)\n",
       "(EPL source distribution)\n",
       "Java Runtime: OpenJDK Runtime Environment\n",
       "JVM: OpenJDK 64-Bit Server VM\n",
       "Default Encoding: UTF-8\n",
       "Language: en\n",
       "Country: null\n",
       "--></g></svg>"
      ]
     },
     "execution_count": 37,
     "metadata": {},
     "output_type": "execute_result"
    }
   ],
   "source": [
    "%viz --style=\"DEFAULT\" --view=\"Default\" \"Packets\""
   ]
  },
  {
   "cell_type": "code",
   "execution_count": 38,
   "id": "09322a0b",
   "metadata": {
    "execution": {
     "iopub.execute_input": "2021-04-20T07:33:57.059289Z",
     "iopub.status.busy": "2021-04-20T07:33:57.058794Z",
     "iopub.status.idle": "2021-04-20T07:33:57.188796Z",
     "shell.execute_reply": "2021-04-20T07:33:57.187399Z"
    }
   },
   "outputs": [
    {
     "data": {
      "image/svg+xml": [
       "<?xml version=\"1.0\" encoding=\"UTF-8\" standalone=\"no\"?><svg xmlns=\"http://www.w3.org/2000/svg\" xmlns:xlink=\"http://www.w3.org/1999/xlink\" contentScriptType=\"application/ecmascript\" contentStyleType=\"text/css\" height=\"344px\" preserveAspectRatio=\"none\" style=\"width:716px;height:344px;\" version=\"1.1\" viewBox=\"0 0 716 344\" width=\"716px\" zoomAndPan=\"magnify\"><defs/><g><!--MD5=[fbc87193dbaf4d95561dea2c320d4a47]\n",
       "cluster E1--><a href=\"psysml:781596e5-2fdd-47e5-84a9-0e1e2d017791\" target=\"_top\" title=\"psysml:781596e5-2fdd-47e5-84a9-0e1e2d017791\" xlink:actuate=\"onRequest\" xlink:href=\"psysml:781596e5-2fdd-47e5-84a9-0e1e2d017791\" xlink:show=\"new\" xlink:title=\"psysml:781596e5-2fdd-47e5-84a9-0e1e2d017791\" xlink:type=\"simple\"><polygon fill=\"#FFFFFF\" points=\"16,6,84,6,91,28.2969,694,28.2969,694,332,16,332,16,6\" style=\"stroke: #000000; stroke-width: 1.5;\"/><line style=\"stroke: #000000; stroke-width: 1.5;\" x1=\"16\" x2=\"91\" y1=\"28.2969\" y2=\"28.2969\"/><text fill=\"#000000\" font-family=\"sans-serif\" font-size=\"14\" font-weight=\"bold\" lengthAdjust=\"spacingAndGlyphs\" textLength=\"62\" x=\"20\" y=\"20.9951\">Packets</text></a><!--MD5=[b4997ac47864f28c2f74865a473b2911]\n",
       "class E2--><a href=\"psysml:09967ea5-e8af-470d-92d0-5553b1044725\" target=\"_top\" title=\"psysml:09967ea5-e8af-470d-92d0-5553b1044725\" xlink:actuate=\"onRequest\" xlink:href=\"psysml:09967ea5-e8af-470d-92d0-5553b1044725\" xlink:show=\"new\" xlink:title=\"psysml:09967ea5-e8af-470d-92d0-5553b1044725\" xlink:type=\"simple\"><rect fill=\"#FFFFFF\" height=\"45.9375\" id=\"E2\" style=\"stroke: #383838; stroke-width: 1.5;\" width=\"95\" x=\"582.5\" y=\"68.5\"/><text fill=\"#000000\" font-family=\"sans-serif\" font-size=\"12\" font-style=\"italic\" lengthAdjust=\"spacingAndGlyphs\" textLength=\"93\" x=\"583.5\" y=\"84.6387\">«attribute def»</text><text fill=\"#000000\" font-family=\"sans-serif\" font-size=\"12\" lengthAdjust=\"spacingAndGlyphs\" textLength=\"59\" x=\"600.5\" y=\"98.6074\">DateTime</text><line style=\"stroke: #383838; stroke-width: 1.5;\" x1=\"583.5\" x2=\"676.5\" y1=\"106.4375\" y2=\"106.4375\"/></a><!--MD5=[09b614a08d8cba4a07c9adeb5e0fee81]\n",
       "class E3--><a href=\"psysml:16b22f80-f2ca-4440-a25c-8e72c7cab96e\" target=\"_top\" title=\"psysml:16b22f80-f2ca-4440-a25c-8e72c7cab96e\" xlink:actuate=\"onRequest\" xlink:href=\"psysml:16b22f80-f2ca-4440-a25c-8e72c7cab96e\" xlink:show=\"new\" xlink:title=\"psysml:16b22f80-f2ca-4440-a25c-8e72c7cab96e\" xlink:type=\"simple\"><rect fill=\"#FFFFFF\" height=\"45.9375\" id=\"E3\" rx=\"10\" ry=\"10\" style=\"stroke: #383838; stroke-width: 1.5;\" width=\"98\" x=\"449\" y=\"68.5\"/><text fill=\"#000000\" font-family=\"sans-serif\" font-size=\"12\" font-style=\"italic\" lengthAdjust=\"spacingAndGlyphs\" textLength=\"69\" x=\"463.5\" y=\"84.6387\">«attribute»</text><text fill=\"#000000\" font-family=\"sans-serif\" font-size=\"12\" lengthAdjust=\"spacingAndGlyphs\" textLength=\"92\" x=\"452\" y=\"98.6074\">packet header</text><line style=\"stroke: #383838; stroke-width: 1.5;\" x1=\"450\" x2=\"546\" y1=\"106.4375\" y2=\"106.4375\"/></a><!--MD5=[ebbe1d658d1005bcc118a6aa81145e00]\n",
       "class E4--><a href=\"psysml:7e904c0e-d2a4-45ad-bef1-7051678b2240\" target=\"_top\" title=\"psysml:7e904c0e-d2a4-45ad-bef1-7051678b2240\" xlink:actuate=\"onRequest\" xlink:href=\"psysml:7e904c0e-d2a4-45ad-bef1-7051678b2240\" xlink:show=\"new\" xlink:title=\"psysml:7e904c0e-d2a4-45ad-bef1-7051678b2240\" xlink:type=\"simple\"><rect fill=\"#FFFFFF\" height=\"101.1563\" id=\"E4\" rx=\"10\" ry=\"10\" style=\"stroke: #383838; stroke-width: 1.5;\" width=\"167\" x=\"247.5\" y=\"41\"/><text fill=\"#000000\" font-family=\"sans-serif\" font-size=\"12\" font-style=\"italic\" lengthAdjust=\"spacingAndGlyphs\" textLength=\"69\" x=\"296.5\" y=\"57.1387\">«attribute»</text><text fill=\"#000000\" font-family=\"sans-serif\" font-size=\"12\" lengthAdjust=\"spacingAndGlyphs\" textLength=\"106\" x=\"278\" y=\"71.1074\">packet data field</text><line style=\"stroke: #383838; stroke-width: 1.5;\" x1=\"248.5\" x2=\"413.5\" y1=\"78.9375\" y2=\"78.9375\"/><text fill=\"#000000\" font-family=\"sans-serif\" font-size=\"11\" lengthAdjust=\"spacingAndGlyphs\" textLength=\"144\" x=\"253.5\" y=\"109.9526\">packet secondary header</text><text fill=\"#000000\" font-family=\"sans-serif\" font-size=\"11\" font-style=\"italic\" lengthAdjust=\"spacingAndGlyphs\" textLength=\"155\" x=\"253.5\" y=\"122.7573\">:&gt;&gt;Packets::packet header</text><text fill=\"#000000\" font-family=\"sans-serif\" font-size=\"11\" lengthAdjust=\"spacingAndGlyphs\" textLength=\"83\" x=\"253.5\" y=\"135.562\">user data field</text><line style=\"stroke: #383838; stroke-width: 1.0;\" x1=\"248.5\" x2=\"303.5\" y1=\"93.3398\" y2=\"93.3398\"/><text fill=\"#000000\" font-family=\"sans-serif\" font-size=\"11\" lengthAdjust=\"spacingAndGlyphs\" textLength=\"55\" x=\"303.5\" y=\"96.6479\">attributes</text><line style=\"stroke: #383838; stroke-width: 1.0;\" x1=\"358.5\" x2=\"413.5\" y1=\"93.3398\" y2=\"93.3398\"/></a><!--MD5=[270fce915f116d4de14055a7c1d9a0f3]\n",
       "class E5--><a href=\"psysml:7a510d36-5831-409f-9d62-08a185df40ba\" target=\"_top\" title=\"psysml:7a510d36-5831-409f-9d62-08a185df40ba\" xlink:actuate=\"onRequest\" xlink:href=\"psysml:7a510d36-5831-409f-9d62-08a185df40ba\" xlink:show=\"new\" xlink:title=\"psysml:7a510d36-5831-409f-9d62-08a185df40ba\" xlink:type=\"simple\"><rect fill=\"#FFFFFF\" height=\"113.9609\" id=\"E5\" style=\"stroke: #383838; stroke-width: 1.5;\" width=\"180\" x=\"32\" y=\"202\"/><text fill=\"#000000\" font-family=\"sans-serif\" font-size=\"12\" font-style=\"italic\" lengthAdjust=\"spacingAndGlyphs\" textLength=\"64\" x=\"90\" y=\"218.1387\">«part def»</text><text fill=\"#000000\" font-family=\"sans-serif\" font-size=\"12\" lengthAdjust=\"spacingAndGlyphs\" textLength=\"77\" x=\"83.5\" y=\"232.1074\">Data Packet</text><line style=\"stroke: #383838; stroke-width: 1.5;\" x1=\"33\" x2=\"211\" y1=\"239.9375\" y2=\"239.9375\"/><text fill=\"#000000\" font-family=\"sans-serif\" font-size=\"11\" lengthAdjust=\"spacingAndGlyphs\" textLength=\"94\" x=\"38\" y=\"270.9526\">packet data field</text><text fill=\"#000000\" font-family=\"sans-serif\" font-size=\"11\" font-style=\"italic\" lengthAdjust=\"spacingAndGlyphs\" textLength=\"168\" x=\"38\" y=\"283.7573\">:&gt;&gt;Packets::packet data field</text><text fill=\"#000000\" font-family=\"sans-serif\" font-size=\"11\" lengthAdjust=\"spacingAndGlyphs\" textLength=\"129\" x=\"38\" y=\"296.562\">packet primary header</text><text fill=\"#000000\" font-family=\"sans-serif\" font-size=\"11\" font-style=\"italic\" lengthAdjust=\"spacingAndGlyphs\" textLength=\"155\" x=\"38\" y=\"309.3667\">:&gt;&gt;Packets::packet header</text><line style=\"stroke: #383838; stroke-width: 1.0;\" x1=\"33\" x2=\"94.5\" y1=\"254.3398\" y2=\"254.3398\"/><text fill=\"#000000\" font-family=\"sans-serif\" font-size=\"11\" lengthAdjust=\"spacingAndGlyphs\" textLength=\"55\" x=\"94.5\" y=\"257.6479\">attributes</text><line style=\"stroke: #383838; stroke-width: 1.0;\" x1=\"149.5\" x2=\"211\" y1=\"254.3398\" y2=\"254.3398\"/></a><!--MD5=[60a26617385b1d2d0262a64233df1f8d]\n",
       "class E6--><a href=\"psysml:10023c3e-6ce6-4816-9fb9-6800bd66eb89\" target=\"_top\" title=\"psysml:10023c3e-6ce6-4816-9fb9-6800bd66eb89\" xlink:actuate=\"onRequest\" xlink:href=\"psysml:10023c3e-6ce6-4816-9fb9-6800bd66eb89\" xlink:show=\"new\" xlink:title=\"psysml:10023c3e-6ce6-4816-9fb9-6800bd66eb89\" xlink:type=\"simple\"><rect fill=\"#FFFFFF\" height=\"88.3516\" id=\"E6\" style=\"stroke: #383838; stroke-width: 1.5;\" width=\"180\" x=\"32\" y=\"47.5\"/><text fill=\"#000000\" font-family=\"sans-serif\" font-size=\"12\" font-style=\"italic\" lengthAdjust=\"spacingAndGlyphs\" textLength=\"64\" x=\"90\" y=\"63.6387\">«part def»</text><text fill=\"#000000\" font-family=\"sans-serif\" font-size=\"12\" lengthAdjust=\"spacingAndGlyphs\" textLength=\"131\" x=\"56.5\" y=\"77.6074\">Thermal Data Packet</text><line style=\"stroke: #383838; stroke-width: 1.5;\" x1=\"33\" x2=\"211\" y1=\"85.4375\" y2=\"85.4375\"/><text fill=\"#000000\" font-family=\"sans-serif\" font-size=\"11\" lengthAdjust=\"spacingAndGlyphs\" textLength=\"94\" x=\"38\" y=\"116.4526\">packet data field</text><text fill=\"#000000\" font-family=\"sans-serif\" font-size=\"11\" font-style=\"italic\" lengthAdjust=\"spacingAndGlyphs\" textLength=\"168\" x=\"38\" y=\"129.2573\">:&gt;&gt;Packets::packet data field</text><line style=\"stroke: #383838; stroke-width: 1.0;\" x1=\"33\" x2=\"94.5\" y1=\"99.8398\" y2=\"99.8398\"/><text fill=\"#000000\" font-family=\"sans-serif\" font-size=\"11\" lengthAdjust=\"spacingAndGlyphs\" textLength=\"55\" x=\"94.5\" y=\"103.1479\">attributes</text><line style=\"stroke: #383838; stroke-width: 1.0;\" x1=\"149.5\" x2=\"211\" y1=\"99.8398\" y2=\"99.8398\"/></a><!--MD5=[25b190c987b1e74e5126d372c5a73af1]\n",
       "link E6 to E5--><a href=\"psysml:8c509f82-013b-4383-9ee5-07fa63a1b780\" target=\"_top\" title=\"psysml:8c509f82-013b-4383-9ee5-07fa63a1b780\" xlink:actuate=\"onRequest\" xlink:href=\"psysml:8c509f82-013b-4383-9ee5-07fa63a1b780\" xlink:show=\"new\" xlink:title=\"psysml:8c509f82-013b-4383-9ee5-07fa63a1b780\" xlink:type=\"simple\"><path d=\"M122,135.55 C122,149.68 122,165.84 122,181.67 \" fill=\"none\" id=\"E6-&gt;E5\" style=\"stroke: #383838; stroke-width: 1.0;\"/><polygon fill=\"none\" points=\"129,181.75,122,201.75,115,181.75,129,181.75\" style=\"stroke: #383838; stroke-width: 1.0;\"/></a><!--MD5=[e12ba2f774a82f72525319409c5a81b6]\n",
       "@startuml\r\n",
       "skinparam monochrome true\r\n",
       "skinparam classbackgroundcolor white\r\n",
       "skinparam shadowing false\r\n",
       "skinparam wrapWidth 300\r\n",
       "hide circle\r\n",
       "\r\n",
       "package \"Packets\" as E1  [[psysml:781596e5-2fdd-47e5-84a9-0e1e2d017791 ]]  {\r\n",
       "comp def \"DateTime\" as E2  <<(T,blue)attribute def>> [[psysml:09967ea5-e8af-470d-92d0-5553b1044725 ]] {\r\n",
       "}\r\n",
       "comp usage \"packet header\" as E3  <<(T,blue)attribute>> [[psysml:16b22f80-f2ca-4440-a25c-8e72c7cab96e ]] {\r\n",
       "}\r\n",
       "comp usage \"packet data field\" as E4  <<(T,blue)attribute>> [[psysml:7e904c0e-d2a4-45ad-bef1-7051678b2240 ]] {\r\n",
       "- - attributes - -\r\n",
       "packet secondary header\\n//:>>Packets::packet header// \r\n",
       "user data field\r\n",
       "}\r\n",
       "comp def \"Data Packet\" as E5  <<(T,blue)part def>> [[psysml:7a510d36-5831-409f-9d62-08a185df40ba ]] {\r\n",
       "- - attributes - -\r\n",
       "packet data field\\n//:>>Packets::packet data field// \r\n",
       "packet primary header\\n//:>>Packets::packet header// \r\n",
       "}\r\n",
       "comp def \"Thermal Data Packet\" as E6  <<(T,blue)part def>> [[psysml:10023c3e-6ce6-4816-9fb9-6800bd66eb89 ]] {\r\n",
       "- - attributes - -\r\n",
       "packet data field\\n//:>>Packets::packet data field// \r\n",
       "}\r\n",
       "E6 - -|> E5 [[psysml:8c509f82-013b-4383-9ee5-07fa63a1b780 ]] \r\n",
       "}\r\n",
       "@enduml\r\n",
       "\n",
       "PlantUML version 1.2020.13(Sat Jun 13 12:26:38 UTC 2020)\n",
       "(EPL source distribution)\n",
       "Java Runtime: OpenJDK Runtime Environment\n",
       "JVM: OpenJDK 64-Bit Server VM\n",
       "Default Encoding: UTF-8\n",
       "Language: en\n",
       "Country: null\n",
       "--></g></svg>"
      ]
     },
     "execution_count": 38,
     "metadata": {},
     "output_type": "execute_result"
    }
   ],
   "source": [
    "%viz --style=\"DEFAULT\" --view=\"Tree\" \"Packets\""
   ]
  },
  {
   "cell_type": "code",
   "execution_count": 39,
   "id": "26188b68",
   "metadata": {
    "execution": {
     "iopub.execute_input": "2021-04-20T07:33:57.239129Z",
     "iopub.status.busy": "2021-04-20T07:33:57.238642Z",
     "iopub.status.idle": "2021-04-20T07:33:57.244160Z",
     "shell.execute_reply": "2021-04-20T07:33:57.243769Z"
    }
   },
   "outputs": [
    {
     "data": {
      "image/svg+xml": [
       "<?xml version=\"1.0\" encoding=\"UTF-8\" standalone=\"no\"?><svg xmlns=\"http://www.w3.org/2000/svg\" xmlns:xlink=\"http://www.w3.org/1999/xlink\" contentScriptType=\"application/ecmascript\" contentStyleType=\"text/css\" height=\"12px\" preserveAspectRatio=\"none\" style=\"width:12px;height:12px;\" version=\"1.1\" viewBox=\"0 0 12 12\" width=\"12px\" zoomAndPan=\"magnify\"><defs/><g><!--MD5=[c5f280e076d0d61ccf4b0f27871bda1d]\n",
       "@startuml\r\n",
       "skinparam monochrome true\r\n",
       "skinparam classbackgroundcolor white\r\n",
       "skinparam shadowing false\r\n",
       "skinparam wrapWidth 300\r\n",
       "hide circle\r\n",
       "\r\n",
       "@enduml\r\n",
       "\n",
       "PlantUML version 1.2020.13(Sat Jun 13 12:26:38 UTC 2020)\n",
       "(EPL source distribution)\n",
       "Java Runtime: OpenJDK Runtime Environment\n",
       "JVM: OpenJDK 64-Bit Server VM\n",
       "Default Encoding: UTF-8\n",
       "Language: en\n",
       "Country: null\n",
       "--></g></svg>"
      ]
     },
     "execution_count": 39,
     "metadata": {},
     "output_type": "execute_result"
    }
   ],
   "source": [
    "%viz --style=\"DEFAULT\" --view=\"State\" \"Packets\""
   ]
  },
  {
   "cell_type": "code",
   "execution_count": 40,
   "id": "1e0bffb2",
   "metadata": {
    "execution": {
     "iopub.execute_input": "2021-04-20T07:33:57.294183Z",
     "iopub.status.busy": "2021-04-20T07:33:57.293650Z",
     "iopub.status.idle": "2021-04-20T07:33:57.490357Z",
     "shell.execute_reply": "2021-04-20T07:33:57.489804Z"
    }
   },
   "outputs": [
    {
     "data": {
      "image/svg+xml": [
       "<?xml version=\"1.0\" encoding=\"UTF-8\" standalone=\"no\"?><svg xmlns=\"http://www.w3.org/2000/svg\" xmlns:xlink=\"http://www.w3.org/1999/xlink\" contentScriptType=\"application/ecmascript\" contentStyleType=\"text/css\" height=\"631px\" preserveAspectRatio=\"none\" style=\"width:518px;height:631px;\" version=\"1.1\" viewBox=\"0 0 518 631\" width=\"518px\" zoomAndPan=\"magnify\"><defs/><g><!--MD5=[fbc87193dbaf4d95561dea2c320d4a47]\n",
       "cluster E1--><a href=\"psysml:781596e5-2fdd-47e5-84a9-0e1e2d017791\" target=\"_top\" title=\"psysml:781596e5-2fdd-47e5-84a9-0e1e2d017791\" xlink:actuate=\"onRequest\" xlink:href=\"psysml:781596e5-2fdd-47e5-84a9-0e1e2d017791\" xlink:show=\"new\" xlink:title=\"psysml:781596e5-2fdd-47e5-84a9-0e1e2d017791\" xlink:type=\"simple\"><polygon fill=\"#FFFFFF\" points=\"16,6,84,6,91,28.2969,496,28.2969,496,619,16,619,16,6\" style=\"stroke: #000000; stroke-width: 1.5;\"/><line style=\"stroke: #000000; stroke-width: 1.5;\" x1=\"16\" x2=\"91\" y1=\"28.2969\" y2=\"28.2969\"/><text fill=\"#000000\" font-family=\"sans-serif\" font-size=\"14\" font-weight=\"bold\" lengthAdjust=\"spacingAndGlyphs\" textLength=\"62\" x=\"20\" y=\"20.9951\">Packets</text></a><!--MD5=[de5ec2e2e8f62f467e546659f5068c88]\n",
       "cluster E5--><a href=\"psysml:7a510d36-5831-409f-9d62-08a185df40ba\" target=\"_top\" title=\"psysml:7a510d36-5831-409f-9d62-08a185df40ba\" xlink:actuate=\"onRequest\" xlink:href=\"psysml:7a510d36-5831-409f-9d62-08a185df40ba\" xlink:show=\"new\" xlink:title=\"psysml:7a510d36-5831-409f-9d62-08a185df40ba\" xlink:type=\"simple\"><rect fill=\"#FFFFFF\" height=\"184\" id=\"E5\" style=\"stroke: #383838; stroke-width: 1.5;\" width=\"406\" x=\"48\" y=\"294\"/><rect fill=\"#F8F8F8\" height=\"37.9375\" style=\"stroke: #383838; stroke-width: 1.5;\" width=\"406\" x=\"48\" y=\"294\"/><text fill=\"#000000\" font-family=\"sans-serif\" font-size=\"12\" font-style=\"italic\" lengthAdjust=\"spacingAndGlyphs\" textLength=\"64\" x=\"219\" y=\"310.1387\">«part def»</text><text fill=\"#000000\" font-family=\"sans-serif\" font-size=\"12\" lengthAdjust=\"spacingAndGlyphs\" textLength=\"77\" x=\"212.5\" y=\"324.1074\">Data Packet</text></a><!--MD5=[55dfccfc6c49c2d10cd1bd2211a6c90c]\n",
       "cluster E8--><a href=\"psysml:10023c3e-6ce6-4816-9fb9-6800bd66eb89\" target=\"_top\" title=\"psysml:10023c3e-6ce6-4816-9fb9-6800bd66eb89\" xlink:actuate=\"onRequest\" xlink:href=\"psysml:10023c3e-6ce6-4816-9fb9-6800bd66eb89\" xlink:show=\"new\" xlink:title=\"psysml:10023c3e-6ce6-4816-9fb9-6800bd66eb89\" xlink:type=\"simple\"><rect fill=\"#FFFFFF\" height=\"197\" id=\"E8\" style=\"stroke: #383838; stroke-width: 1.5;\" width=\"287\" x=\"172\" y=\"57\"/><rect fill=\"#F8F8F8\" height=\"37.9375\" style=\"stroke: #383838; stroke-width: 1.5;\" width=\"287\" x=\"172\" y=\"57\"/><text fill=\"#000000\" font-family=\"sans-serif\" font-size=\"12\" font-style=\"italic\" lengthAdjust=\"spacingAndGlyphs\" textLength=\"64\" x=\"283.5\" y=\"73.1387\">«part def»</text><text fill=\"#000000\" font-family=\"sans-serif\" font-size=\"12\" lengthAdjust=\"spacingAndGlyphs\" textLength=\"131\" x=\"250\" y=\"87.1074\">Thermal Data Packet</text></a><g id=\"E1.E2\"><a href=\"psysml:09967ea5-e8af-470d-92d0-5553b1044725\" target=\"_top\" title=\"psysml:09967ea5-e8af-470d-92d0-5553b1044725\" xlink:actuate=\"onRequest\" xlink:href=\"psysml:09967ea5-e8af-470d-92d0-5553b1044725\" xlink:show=\"new\" xlink:title=\"psysml:09967ea5-e8af-470d-92d0-5553b1044725\" xlink:type=\"simple\"><rect fill=\"#FFFFFF\" height=\"42.9375\" id=\"E2\" style=\"stroke: #383838; stroke-width: 1.5;\" width=\"100\" x=\"41\" y=\"151.5\"/><rect fill=\"#F8F8F8\" height=\"37.9375\" style=\"stroke: #383838; stroke-width: 1.5;\" width=\"100\" x=\"41\" y=\"151.5\"/><text fill=\"#000000\" font-family=\"sans-serif\" font-size=\"12\" font-style=\"italic\" lengthAdjust=\"spacingAndGlyphs\" textLength=\"93\" x=\"44.5\" y=\"167.6387\">«attribute def»</text><text fill=\"#000000\" font-family=\"sans-serif\" font-size=\"12\" lengthAdjust=\"spacingAndGlyphs\" textLength=\"59\" x=\"61.5\" y=\"181.6074\">DateTime</text></a></g><!--MD5=[09b614a08d8cba4a07c9adeb5e0fee81]\n",
       "class E3--><a href=\"psysml:16b22f80-f2ca-4440-a25c-8e72c7cab96e\" target=\"_top\" title=\"psysml:16b22f80-f2ca-4440-a25c-8e72c7cab96e\" xlink:actuate=\"onRequest\" xlink:href=\"psysml:16b22f80-f2ca-4440-a25c-8e72c7cab96e\" xlink:show=\"new\" xlink:title=\"psysml:16b22f80-f2ca-4440-a25c-8e72c7cab96e\" xlink:type=\"simple\"><rect fill=\"#FFFFFF\" height=\"45.9375\" id=\"E3\" rx=\"10\" ry=\"10\" style=\"stroke: #383838; stroke-width: 1.5;\" width=\"98\" x=\"138\" y=\"529.5\"/><text fill=\"#000000\" font-family=\"sans-serif\" font-size=\"12\" font-style=\"italic\" lengthAdjust=\"spacingAndGlyphs\" textLength=\"69\" x=\"152.5\" y=\"545.6387\">«attribute»</text><text fill=\"#000000\" font-family=\"sans-serif\" font-size=\"12\" lengthAdjust=\"spacingAndGlyphs\" textLength=\"92\" x=\"141\" y=\"559.6074\">packet header</text><line style=\"stroke: #383838; stroke-width: 1.5;\" x1=\"139\" x2=\"235\" y1=\"567.4375\" y2=\"567.4375\"/></a><!--MD5=[ebbe1d658d1005bcc118a6aa81145e00]\n",
       "class E4--><a href=\"psysml:7e904c0e-d2a4-45ad-bef1-7051678b2240\" target=\"_top\" title=\"psysml:7e904c0e-d2a4-45ad-bef1-7051678b2240\" xlink:actuate=\"onRequest\" xlink:href=\"psysml:7e904c0e-d2a4-45ad-bef1-7051678b2240\" xlink:show=\"new\" xlink:title=\"psysml:7e904c0e-d2a4-45ad-bef1-7051678b2240\" xlink:type=\"simple\"><rect fill=\"#FFFFFF\" height=\"101.1563\" id=\"E4\" rx=\"10\" ry=\"10\" style=\"stroke: #383838; stroke-width: 1.5;\" width=\"167\" x=\"301.5\" y=\"502\"/><text fill=\"#000000\" font-family=\"sans-serif\" font-size=\"12\" font-style=\"italic\" lengthAdjust=\"spacingAndGlyphs\" textLength=\"69\" x=\"350.5\" y=\"518.1387\">«attribute»</text><text fill=\"#000000\" font-family=\"sans-serif\" font-size=\"12\" lengthAdjust=\"spacingAndGlyphs\" textLength=\"106\" x=\"332\" y=\"532.1074\">packet data field</text><line style=\"stroke: #383838; stroke-width: 1.5;\" x1=\"302.5\" x2=\"467.5\" y1=\"539.9375\" y2=\"539.9375\"/><text fill=\"#000000\" font-family=\"sans-serif\" font-size=\"11\" lengthAdjust=\"spacingAndGlyphs\" textLength=\"144\" x=\"307.5\" y=\"570.9526\">packet secondary header</text><text fill=\"#000000\" font-family=\"sans-serif\" font-size=\"11\" font-style=\"italic\" lengthAdjust=\"spacingAndGlyphs\" textLength=\"155\" x=\"307.5\" y=\"583.7573\">:&gt;&gt;Packets::packet header</text><text fill=\"#000000\" font-family=\"sans-serif\" font-size=\"11\" lengthAdjust=\"spacingAndGlyphs\" textLength=\"83\" x=\"307.5\" y=\"596.562\">user data field</text><line style=\"stroke: #383838; stroke-width: 1.0;\" x1=\"302.5\" x2=\"357.5\" y1=\"554.3398\" y2=\"554.3398\"/><text fill=\"#000000\" font-family=\"sans-serif\" font-size=\"11\" lengthAdjust=\"spacingAndGlyphs\" textLength=\"55\" x=\"357.5\" y=\"557.6479\">attributes</text><line style=\"stroke: #383838; stroke-width: 1.0;\" x1=\"412.5\" x2=\"467.5\" y1=\"554.3398\" y2=\"554.3398\"/></a><!--MD5=[60a26617385b1d2d0262a64233df1f8d]\n",
       "class E6--><a href=\"psysml:8bac5b56-bd53-4c22-88f8-0cbcb8384e0b\" target=\"_top\" title=\"psysml:8bac5b56-bd53-4c22-88f8-0cbcb8384e0b\" xlink:actuate=\"onRequest\" xlink:href=\"psysml:8bac5b56-bd53-4c22-88f8-0cbcb8384e0b\" xlink:show=\"new\" xlink:title=\"psysml:8bac5b56-bd53-4c22-88f8-0cbcb8384e0b\" xlink:type=\"simple\"><rect fill=\"#FFFFFF\" height=\"101.1563\" id=\"E6\" rx=\"10\" ry=\"10\" style=\"stroke: #383838; stroke-width: 1.5;\" width=\"191\" x=\"91.5\" y=\"353\"/><text fill=\"#000000\" font-family=\"sans-serif\" font-size=\"12\" font-style=\"italic\" lengthAdjust=\"spacingAndGlyphs\" textLength=\"69\" x=\"152.5\" y=\"369.1387\">«attribute»</text><text fill=\"#000000\" font-family=\"sans-serif\" font-size=\"12\" lengthAdjust=\"spacingAndGlyphs\" textLength=\"142\" x=\"116\" y=\"383.1074\">packet primary header</text><line style=\"stroke: #383838; stroke-width: 1.5;\" x1=\"92.5\" x2=\"281.5\" y1=\"390.9375\" y2=\"390.9375\"/><text fill=\"#000000\" font-family=\"sans-serif\" font-size=\"11\" lengthAdjust=\"spacingAndGlyphs\" textLength=\"153\" x=\"97.5\" y=\"421.9526\">packet data length: Integer</text><text fill=\"#000000\" font-family=\"sans-serif\" font-size=\"11\" lengthAdjust=\"spacingAndGlyphs\" textLength=\"155\" x=\"97.5\" y=\"434.7573\">packet identification: String</text><text fill=\"#000000\" font-family=\"sans-serif\" font-size=\"11\" lengthAdjust=\"spacingAndGlyphs\" textLength=\"179\" x=\"97.5\" y=\"447.562\">packet version number: Integer</text><line style=\"stroke: #383838; stroke-width: 1.0;\" x1=\"92.5\" x2=\"159.5\" y1=\"405.3398\" y2=\"405.3398\"/><text fill=\"#000000\" font-family=\"sans-serif\" font-size=\"11\" lengthAdjust=\"spacingAndGlyphs\" textLength=\"55\" x=\"159.5\" y=\"408.6479\">attributes</text><line style=\"stroke: #383838; stroke-width: 1.0;\" x1=\"214.5\" x2=\"281.5\" y1=\"405.3398\" y2=\"405.3398\"/></a><!--MD5=[2156ba9850f5573cc1fc38a6a4b2f02b]\n",
       "class E7--><a href=\"psysml:e649f067-3966-42a9-912a-f470df4c2484\" target=\"_top\" title=\"psysml:e649f067-3966-42a9-912a-f470df4c2484\" xlink:actuate=\"onRequest\" xlink:href=\"psysml:e649f067-3966-42a9-912a-f470df4c2484\" xlink:show=\"new\" xlink:title=\"psysml:e649f067-3966-42a9-912a-f470df4c2484\" xlink:type=\"simple\"><rect fill=\"#FFFFFF\" height=\"45.9375\" id=\"E7\" rx=\"10\" ry=\"10\" style=\"stroke: #383838; stroke-width: 1.5;\" width=\"112\" x=\"318\" y=\"380.5\"/><text fill=\"#000000\" font-family=\"sans-serif\" font-size=\"12\" font-style=\"italic\" lengthAdjust=\"spacingAndGlyphs\" textLength=\"69\" x=\"339.5\" y=\"396.6387\">«attribute»</text><text fill=\"#000000\" font-family=\"sans-serif\" font-size=\"12\" lengthAdjust=\"spacingAndGlyphs\" textLength=\"106\" x=\"321\" y=\"410.6074\">packet data field</text><line style=\"stroke: #383838; stroke-width: 1.5;\" x1=\"319\" x2=\"429\" y1=\"418.4375\" y2=\"418.4375\"/></a><!--MD5=[fd4143e9d270a159db93a4ea2a975926]\n",
       "class E9--><a href=\"psysml:9d2256ff-aa99-47f6-ab60-2a2dbee9749e\" target=\"_top\" title=\"psysml:9d2256ff-aa99-47f6-ab60-2a2dbee9749e\" xlink:actuate=\"onRequest\" xlink:href=\"psysml:9d2256ff-aa99-47f6-ab60-2a2dbee9749e\" xlink:show=\"new\" xlink:title=\"psysml:9d2256ff-aa99-47f6-ab60-2a2dbee9749e\" xlink:type=\"simple\"><rect fill=\"#FFFFFF\" height=\"113.9609\" id=\"E9\" rx=\"10\" ry=\"10\" style=\"stroke: #383838; stroke-width: 1.5;\" width=\"219\" x=\"215.5\" y=\"116\"/><text fill=\"#000000\" font-family=\"sans-serif\" font-size=\"12\" font-style=\"italic\" lengthAdjust=\"spacingAndGlyphs\" textLength=\"69\" x=\"290.5\" y=\"132.1387\">«attribute»</text><text fill=\"#000000\" font-family=\"sans-serif\" font-size=\"12\" lengthAdjust=\"spacingAndGlyphs\" textLength=\"106\" x=\"272\" y=\"146.1074\">packet data field</text><line style=\"stroke: #383838; stroke-width: 1.5;\" x1=\"216.5\" x2=\"433.5\" y1=\"153.9375\" y2=\"153.9375\"/><text fill=\"#000000\" font-family=\"sans-serif\" font-size=\"11\" lengthAdjust=\"spacingAndGlyphs\" textLength=\"144\" x=\"221.5\" y=\"184.9526\">packet secondary header</text><text fill=\"#000000\" font-family=\"sans-serif\" font-size=\"11\" font-style=\"italic\" lengthAdjust=\"spacingAndGlyphs\" textLength=\"155\" x=\"221.5\" y=\"197.7573\">:&gt;&gt;Packets::packet header</text><text fill=\"#000000\" font-family=\"sans-serif\" font-size=\"11\" lengthAdjust=\"spacingAndGlyphs\" textLength=\"83\" x=\"221.5\" y=\"210.562\">user data field</text><text fill=\"#000000\" font-family=\"sans-serif\" font-size=\"11\" font-style=\"italic\" lengthAdjust=\"spacingAndGlyphs\" textLength=\"207\" x=\"221.5\" y=\"223.3667\">:&gt;&gt;packet data field::user data field</text><line style=\"stroke: #383838; stroke-width: 1.0;\" x1=\"216.5\" x2=\"297.5\" y1=\"168.3398\" y2=\"168.3398\"/><text fill=\"#000000\" font-family=\"sans-serif\" font-size=\"11\" lengthAdjust=\"spacingAndGlyphs\" textLength=\"55\" x=\"297.5\" y=\"171.6479\">attributes</text><line style=\"stroke: #383838; stroke-width: 1.0;\" x1=\"352.5\" x2=\"433.5\" y1=\"168.3398\" y2=\"168.3398\"/></a><!--MD5=[a717450b82c80b9240a525fa862496af]\n",
       "link E6 to E3--><a href=\"psysml:6aaaf2f4-4b2b-4d4a-ac54-83bc6d358576\" target=\"_top\" title=\"psysml:6aaaf2f4-4b2b-4d4a-ac54-83bc6d358576\" xlink:actuate=\"onRequest\" xlink:href=\"psysml:6aaaf2f4-4b2b-4d4a-ac54-83bc6d358576\" xlink:show=\"new\" xlink:title=\"psysml:6aaaf2f4-4b2b-4d4a-ac54-83bc6d358576\" xlink:type=\"simple\"><path d=\"M187,454.27 C187,472.09 187,492 187,509.13 \" fill=\"none\" id=\"E6-&gt;E3\" style=\"stroke: #383838; stroke-width: 1.0;\"/><polygon fill=\"#FFFFFF\" points=\"187,529.32,180,510.32,194,510.32,187,529.32\" style=\"stroke: #383838; stroke-width: 1.0;\"/><line style=\"stroke: #383838; stroke-width: 2.0;\" x1=\"180\" x2=\"194\" y1=\"506.52\" y2=\"506.52\"/></a><!--MD5=[6bdd27f9905911a7e892a3dc65cf6b7c]\n",
       "link E7 to E4--><a href=\"psysml:895bc16e-261f-455c-84ef-7cbef2b79206\" target=\"_top\" title=\"psysml:895bc16e-261f-455c-84ef-7cbef2b79206\" xlink:actuate=\"onRequest\" xlink:href=\"psysml:895bc16e-261f-455c-84ef-7cbef2b79206\" xlink:show=\"new\" xlink:title=\"psysml:895bc16e-261f-455c-84ef-7cbef2b79206\" xlink:type=\"simple\"><path d=\"M375.65,426.51 C376.76,441.33 378.28,461.76 379.79,481.81 \" fill=\"none\" id=\"E7-&gt;E4\" style=\"stroke: #383838; stroke-width: 1.0;\"/><polygon fill=\"#FFFFFF\" points=\"381.29,501.92,372.8847,483.4985,386.8452,482.4485,381.29,501.92\" style=\"stroke: #383838; stroke-width: 1.0;\"/><line style=\"stroke: #383838; stroke-width: 2.0;\" x1=\"372.5996\" x2=\"386.5602\" y1=\"479.7092\" y2=\"478.6592\"/></a><!--MD5=[1ccb2481ffa92f8d51a74ee30c51832a]\n",
       "link E8 to E5--><a href=\"psysml:8c509f82-013b-4383-9ee5-07fa63a1b780\" target=\"_top\" title=\"psysml:8c509f82-013b-4383-9ee5-07fa63a1b780\" xlink:actuate=\"onRequest\" xlink:href=\"psysml:8c509f82-013b-4383-9ee5-07fa63a1b780\" xlink:show=\"new\" xlink:title=\"psysml:8c509f82-013b-4383-9ee5-07fa63a1b780\" xlink:type=\"simple\"><path d=\"M185.8727,254.1745 C185.8155,254.3239 185.7577,254.473 185.6992,254.6218 C185.5822,254.9195 185.4627,255.2159 185.3406,255.5112 C185.0964,256.1017 184.8418,256.6872 184.5764,257.2676 C182.4536,261.9102 179.645,266.2163 176,270 C160.38,286.22 91.49,262.67 75,278 C72.4781,280.3456 70.1946,282.8739 68.1298,285.5534 C67.0973,286.8931 66.1196,288.2707 65.194,289.6822 C64.7312,290.3879 64.2814,291.1021 63.8444,291.8243 C63.6259,292.1854 63.4105,292.5485 63.1984,292.9135 C63.0923,293.0961 62.987,293.2791 62.8824,293.4625 \" fill=\"none\" id=\"E8-&gt;E5\" style=\"stroke: #383838; stroke-width: 1.0;\"/><polygon fill=\"#FFFFFF\" points=\"62.8824,293.4625,78.3697,280.4185,66.2052,273.4886,62.8824,293.4625\" style=\"stroke: #383838; stroke-width: 1.0;\"/></a><!--MD5=[c2be97adba6ddfe1c8f349fab141c927]\n",
       "link E9 to E4--><a href=\"psysml:a0ec1df7-1b05-4d8f-b92a-b996d3ea1089\" target=\"_top\" title=\"psysml:a0ec1df7-1b05-4d8f-b92a-b996d3ea1089\" xlink:actuate=\"onRequest\" xlink:href=\"psysml:a0ec1df7-1b05-4d8f-b92a-b996d3ea1089\" xlink:show=\"new\" xlink:title=\"psysml:a0ec1df7-1b05-4d8f-b92a-b996d3ea1089\" xlink:type=\"simple\"><path d=\"M410.08,230.15 C424.65,243.94 437.74,260 446,278 C483.4,359.45 484.12,400.26 449.85,483.4 \" fill=\"none\" id=\"E9-&gt;E4\" style=\"stroke: #383838; stroke-width: 1.0;\"/><polygon fill=\"#FFFFFF\" points=\"442,501.81,443.0106,481.5868,455.8895,487.0763,442,501.81\" style=\"stroke: #383838; stroke-width: 1.0;\"/><line style=\"stroke: #383838; stroke-width: 2.0;\" x1=\"444.5006\" x2=\"457.3795\" y1=\"478.0911\" y2=\"483.5806\"/></a><!--MD5=[c841fed6be040295ead013b62cac45f4]\n",
       "@startuml\r\n",
       "skinparam ranksep 10\r\n",
       "skinparam rectangle {\r\n",
       " backgroundColor<<block>> LightGreen\r\n",
       "}\r\n",
       "skinparam monochrome true\r\n",
       "skinparam classbackgroundcolor white\r\n",
       "skinparam shadowing false\r\n",
       "skinparam wrapWidth 300\r\n",
       "hide circle\r\n",
       "\r\n",
       "package \"Packets\" as E1  [[psysml:781596e5-2fdd-47e5-84a9-0e1e2d017791 ]]  {\r\n",
       "def \"DateTime\" as E2  <<(T,blue)attribute def>> [[psysml:09967ea5-e8af-470d-92d0-5553b1044725 ]] \r\n",
       "comp usage \"packet header\" as E3  <<(T,blue)attribute>> [[psysml:16b22f80-f2ca-4440-a25c-8e72c7cab96e ]] {\r\n",
       "}\r\n",
       "comp usage \"packet data field\" as E4  <<(T,blue)attribute>> [[psysml:7e904c0e-d2a4-45ad-bef1-7051678b2240 ]] {\r\n",
       "- - attributes - -\r\n",
       "packet secondary header\\n//:>>Packets::packet header// \r\n",
       "user data field\r\n",
       "}\r\n",
       "rec def \"Data Packet\" as E5  <<(T,blue)part def>> [[psysml:7a510d36-5831-409f-9d62-08a185df40ba ]] {\r\n",
       "comp usage \"packet primary header\" as E6  <<(T,blue)attribute>> [[psysml:8bac5b56-bd53-4c22-88f8-0cbcb8384e0b ]] {\r\n",
       "- - attributes - -\r\n",
       "packet data length: Integer\r\n",
       "packet identification: String\r\n",
       "packet version number: Integer\r\n",
       "}\r\n",
       "comp usage \"packet data field\" as E7  <<(T,blue)attribute>> [[psysml:e649f067-3966-42a9-912a-f470df4c2484 ]] {\r\n",
       "}\r\n",
       "}\r\n",
       "rec def \"Thermal Data Packet\" as E8  <<(T,blue)part def>> [[psysml:10023c3e-6ce6-4816-9fb9-6800bd66eb89 ]] {\r\n",
       "comp usage \"packet data field\" as E9  <<(T,blue)attribute>> [[psysml:9d2256ff-aa99-47f6-ab60-2a2dbee9749e ]] {\r\n",
       "- - attributes - -\r\n",
       "packet secondary header\\n//:>>Packets::packet header// \r\n",
       "user data field\\n//:>>packet data field::user data field// \r\n",
       "}\r\n",
       "}\r\n",
       "E6 - -||> E3 [[psysml:6aaaf2f4-4b2b-4d4a-ac54-83bc6d358576 ]] \r\n",
       "E7 - -||> E4 [[psysml:895bc16e-261f-455c-84ef-7cbef2b79206 ]] \r\n",
       "E8 - -|> E5 [[psysml:8c509f82-013b-4383-9ee5-07fa63a1b780 ]] \r\n",
       "E9 - -||> E4 [[psysml:a0ec1df7-1b05-4d8f-b92a-b996d3ea1089 ]] \r\n",
       "}\r\n",
       "@enduml\r\n",
       "\n",
       "PlantUML version 1.2020.13(Sat Jun 13 12:26:38 UTC 2020)\n",
       "(EPL source distribution)\n",
       "Java Runtime: OpenJDK Runtime Environment\n",
       "JVM: OpenJDK 64-Bit Server VM\n",
       "Default Encoding: UTF-8\n",
       "Language: en\n",
       "Country: null\n",
       "--></g></svg>"
      ]
     },
     "execution_count": 40,
     "metadata": {},
     "output_type": "execute_result"
    }
   ],
   "source": [
    "%viz --style=\"DEFAULT\" --view=\"Interconnection\" \"Packets\""
   ]
  },
  {
   "cell_type": "code",
   "execution_count": 41,
   "id": "ddc08368",
   "metadata": {
    "execution": {
     "iopub.execute_input": "2021-04-20T07:33:57.540374Z",
     "iopub.status.busy": "2021-04-20T07:33:57.539676Z",
     "iopub.status.idle": "2021-04-20T07:33:57.546537Z",
     "shell.execute_reply": "2021-04-20T07:33:57.547053Z"
    }
   },
   "outputs": [
    {
     "data": {
      "image/svg+xml": [
       "<?xml version=\"1.0\" encoding=\"UTF-8\" standalone=\"no\"?><svg xmlns=\"http://www.w3.org/2000/svg\" xmlns:xlink=\"http://www.w3.org/1999/xlink\" contentScriptType=\"application/ecmascript\" contentStyleType=\"text/css\" height=\"12px\" preserveAspectRatio=\"none\" style=\"width:12px;height:12px;\" version=\"1.1\" viewBox=\"0 0 12 12\" width=\"12px\" zoomAndPan=\"magnify\"><defs/><g><!--MD5=[388f21188e31bfdd97050473b19af356]\n",
       "@startuml\r\n",
       "skinparam ranksep 8\r\n",
       "skinparam monochrome true\r\n",
       "skinparam classbackgroundcolor white\r\n",
       "skinparam shadowing false\r\n",
       "skinparam wrapWidth 300\r\n",
       "hide circle\r\n",
       "\r\n",
       "@enduml\r\n",
       "\n",
       "PlantUML version 1.2020.13(Sat Jun 13 12:26:38 UTC 2020)\n",
       "(EPL source distribution)\n",
       "Java Runtime: OpenJDK Runtime Environment\n",
       "JVM: OpenJDK 64-Bit Server VM\n",
       "Default Encoding: UTF-8\n",
       "Language: en\n",
       "Country: null\n",
       "--></g></svg>"
      ]
     },
     "execution_count": 41,
     "metadata": {},
     "output_type": "execute_result"
    }
   ],
   "source": [
    "%viz --style=\"DEFAULT\" --view=\"Action\" \"Packets\""
   ]
  },
  {
   "cell_type": "code",
   "execution_count": 42,
   "id": "5015c26a",
   "metadata": {
    "execution": {
     "iopub.execute_input": "2021-04-20T07:33:57.599329Z",
     "iopub.status.busy": "2021-04-20T07:33:57.598837Z",
     "iopub.status.idle": "2021-04-20T07:33:57.744380Z",
     "shell.execute_reply": "2021-04-20T07:33:57.744005Z"
    }
   },
   "outputs": [
    {
     "data": {
      "image/svg+xml": [
       "<?xml version=\"1.0\" encoding=\"UTF-8\" standalone=\"no\"?><svg xmlns=\"http://www.w3.org/2000/svg\" xmlns:xlink=\"http://www.w3.org/1999/xlink\" contentScriptType=\"application/ecmascript\" contentStyleType=\"text/css\" height=\"344px\" preserveAspectRatio=\"none\" style=\"width:716px;height:344px;\" version=\"1.1\" viewBox=\"0 0 716 344\" width=\"716px\" zoomAndPan=\"magnify\"><defs/><g><!--MD5=[fbc87193dbaf4d95561dea2c320d4a47]\n",
       "cluster E1--><a href=\"psysml:781596e5-2fdd-47e5-84a9-0e1e2d017791\" target=\"_top\" title=\"psysml:781596e5-2fdd-47e5-84a9-0e1e2d017791\" xlink:actuate=\"onRequest\" xlink:href=\"psysml:781596e5-2fdd-47e5-84a9-0e1e2d017791\" xlink:show=\"new\" xlink:title=\"psysml:781596e5-2fdd-47e5-84a9-0e1e2d017791\" xlink:type=\"simple\"><polygon fill=\"#FFFFFF\" points=\"16,6,84,6,91,28.2969,694,28.2969,694,332,16,332,16,6\" style=\"stroke: #000000; stroke-width: 1.5;\"/><line style=\"stroke: #000000; stroke-width: 1.5;\" x1=\"16\" x2=\"91\" y1=\"28.2969\" y2=\"28.2969\"/><text fill=\"#000000\" font-family=\"sans-serif\" font-size=\"14\" font-weight=\"bold\" lengthAdjust=\"spacingAndGlyphs\" textLength=\"62\" x=\"20\" y=\"20.9951\">Packets</text></a><!--MD5=[b4997ac47864f28c2f74865a473b2911]\n",
       "class E2--><a href=\"psysml:09967ea5-e8af-470d-92d0-5553b1044725\" target=\"_top\" title=\"psysml:09967ea5-e8af-470d-92d0-5553b1044725\" xlink:actuate=\"onRequest\" xlink:href=\"psysml:09967ea5-e8af-470d-92d0-5553b1044725\" xlink:show=\"new\" xlink:title=\"psysml:09967ea5-e8af-470d-92d0-5553b1044725\" xlink:type=\"simple\"><rect fill=\"#FFFFFF\" height=\"45.9375\" id=\"E2\" style=\"stroke: #383838; stroke-width: 1.5;\" width=\"95\" x=\"582.5\" y=\"68.5\"/><text fill=\"#000000\" font-family=\"sans-serif\" font-size=\"12\" font-style=\"italic\" lengthAdjust=\"spacingAndGlyphs\" textLength=\"93\" x=\"583.5\" y=\"84.6387\">«attribute def»</text><text fill=\"#000000\" font-family=\"sans-serif\" font-size=\"12\" lengthAdjust=\"spacingAndGlyphs\" textLength=\"59\" x=\"600.5\" y=\"98.6074\">DateTime</text><line style=\"stroke: #383838; stroke-width: 1.5;\" x1=\"583.5\" x2=\"676.5\" y1=\"106.4375\" y2=\"106.4375\"/></a><!--MD5=[09b614a08d8cba4a07c9adeb5e0fee81]\n",
       "class E3--><a href=\"psysml:16b22f80-f2ca-4440-a25c-8e72c7cab96e\" target=\"_top\" title=\"psysml:16b22f80-f2ca-4440-a25c-8e72c7cab96e\" xlink:actuate=\"onRequest\" xlink:href=\"psysml:16b22f80-f2ca-4440-a25c-8e72c7cab96e\" xlink:show=\"new\" xlink:title=\"psysml:16b22f80-f2ca-4440-a25c-8e72c7cab96e\" xlink:type=\"simple\"><rect fill=\"#FFFFFF\" height=\"45.9375\" id=\"E3\" rx=\"10\" ry=\"10\" style=\"stroke: #383838; stroke-width: 1.5;\" width=\"98\" x=\"449\" y=\"68.5\"/><text fill=\"#000000\" font-family=\"sans-serif\" font-size=\"12\" font-style=\"italic\" lengthAdjust=\"spacingAndGlyphs\" textLength=\"69\" x=\"463.5\" y=\"84.6387\">«attribute»</text><text fill=\"#000000\" font-family=\"sans-serif\" font-size=\"12\" lengthAdjust=\"spacingAndGlyphs\" textLength=\"92\" x=\"452\" y=\"98.6074\">packet header</text><line style=\"stroke: #383838; stroke-width: 1.5;\" x1=\"450\" x2=\"546\" y1=\"106.4375\" y2=\"106.4375\"/></a><!--MD5=[ebbe1d658d1005bcc118a6aa81145e00]\n",
       "class E4--><a href=\"psysml:7e904c0e-d2a4-45ad-bef1-7051678b2240\" target=\"_top\" title=\"psysml:7e904c0e-d2a4-45ad-bef1-7051678b2240\" xlink:actuate=\"onRequest\" xlink:href=\"psysml:7e904c0e-d2a4-45ad-bef1-7051678b2240\" xlink:show=\"new\" xlink:title=\"psysml:7e904c0e-d2a4-45ad-bef1-7051678b2240\" xlink:type=\"simple\"><rect fill=\"#FFFFFF\" height=\"101.1563\" id=\"E4\" rx=\"10\" ry=\"10\" style=\"stroke: #383838; stroke-width: 1.5;\" width=\"167\" x=\"247.5\" y=\"41\"/><text fill=\"#000000\" font-family=\"sans-serif\" font-size=\"12\" font-style=\"italic\" lengthAdjust=\"spacingAndGlyphs\" textLength=\"69\" x=\"296.5\" y=\"57.1387\">«attribute»</text><text fill=\"#000000\" font-family=\"sans-serif\" font-size=\"12\" lengthAdjust=\"spacingAndGlyphs\" textLength=\"106\" x=\"278\" y=\"71.1074\">packet data field</text><line style=\"stroke: #383838; stroke-width: 1.5;\" x1=\"248.5\" x2=\"413.5\" y1=\"78.9375\" y2=\"78.9375\"/><text fill=\"#000000\" font-family=\"sans-serif\" font-size=\"11\" lengthAdjust=\"spacingAndGlyphs\" textLength=\"144\" x=\"253.5\" y=\"109.9526\">packet secondary header</text><text fill=\"#000000\" font-family=\"sans-serif\" font-size=\"11\" font-style=\"italic\" lengthAdjust=\"spacingAndGlyphs\" textLength=\"155\" x=\"253.5\" y=\"122.7573\">:&gt;&gt;Packets::packet header</text><text fill=\"#000000\" font-family=\"sans-serif\" font-size=\"11\" lengthAdjust=\"spacingAndGlyphs\" textLength=\"83\" x=\"253.5\" y=\"135.562\">user data field</text><line style=\"stroke: #383838; stroke-width: 1.0;\" x1=\"248.5\" x2=\"303.5\" y1=\"93.3398\" y2=\"93.3398\"/><text fill=\"#000000\" font-family=\"sans-serif\" font-size=\"11\" lengthAdjust=\"spacingAndGlyphs\" textLength=\"55\" x=\"303.5\" y=\"96.6479\">attributes</text><line style=\"stroke: #383838; stroke-width: 1.0;\" x1=\"358.5\" x2=\"413.5\" y1=\"93.3398\" y2=\"93.3398\"/></a><!--MD5=[270fce915f116d4de14055a7c1d9a0f3]\n",
       "class E5--><a href=\"psysml:7a510d36-5831-409f-9d62-08a185df40ba\" target=\"_top\" title=\"psysml:7a510d36-5831-409f-9d62-08a185df40ba\" xlink:actuate=\"onRequest\" xlink:href=\"psysml:7a510d36-5831-409f-9d62-08a185df40ba\" xlink:show=\"new\" xlink:title=\"psysml:7a510d36-5831-409f-9d62-08a185df40ba\" xlink:type=\"simple\"><rect fill=\"#FFFFFF\" height=\"113.9609\" id=\"E5\" style=\"stroke: #383838; stroke-width: 1.5;\" width=\"180\" x=\"32\" y=\"202\"/><text fill=\"#000000\" font-family=\"sans-serif\" font-size=\"12\" font-style=\"italic\" lengthAdjust=\"spacingAndGlyphs\" textLength=\"64\" x=\"90\" y=\"218.1387\">«part def»</text><text fill=\"#000000\" font-family=\"sans-serif\" font-size=\"12\" lengthAdjust=\"spacingAndGlyphs\" textLength=\"77\" x=\"83.5\" y=\"232.1074\">Data Packet</text><line style=\"stroke: #383838; stroke-width: 1.5;\" x1=\"33\" x2=\"211\" y1=\"239.9375\" y2=\"239.9375\"/><text fill=\"#000000\" font-family=\"sans-serif\" font-size=\"11\" lengthAdjust=\"spacingAndGlyphs\" textLength=\"94\" x=\"38\" y=\"270.9526\">packet data field</text><text fill=\"#000000\" font-family=\"sans-serif\" font-size=\"11\" font-style=\"italic\" lengthAdjust=\"spacingAndGlyphs\" textLength=\"168\" x=\"38\" y=\"283.7573\">:&gt;&gt;Packets::packet data field</text><text fill=\"#000000\" font-family=\"sans-serif\" font-size=\"11\" lengthAdjust=\"spacingAndGlyphs\" textLength=\"129\" x=\"38\" y=\"296.562\">packet primary header</text><text fill=\"#000000\" font-family=\"sans-serif\" font-size=\"11\" font-style=\"italic\" lengthAdjust=\"spacingAndGlyphs\" textLength=\"155\" x=\"38\" y=\"309.3667\">:&gt;&gt;Packets::packet header</text><line style=\"stroke: #383838; stroke-width: 1.0;\" x1=\"33\" x2=\"94.5\" y1=\"254.3398\" y2=\"254.3398\"/><text fill=\"#000000\" font-family=\"sans-serif\" font-size=\"11\" lengthAdjust=\"spacingAndGlyphs\" textLength=\"55\" x=\"94.5\" y=\"257.6479\">attributes</text><line style=\"stroke: #383838; stroke-width: 1.0;\" x1=\"149.5\" x2=\"211\" y1=\"254.3398\" y2=\"254.3398\"/></a><!--MD5=[60a26617385b1d2d0262a64233df1f8d]\n",
       "class E6--><a href=\"psysml:10023c3e-6ce6-4816-9fb9-6800bd66eb89\" target=\"_top\" title=\"psysml:10023c3e-6ce6-4816-9fb9-6800bd66eb89\" xlink:actuate=\"onRequest\" xlink:href=\"psysml:10023c3e-6ce6-4816-9fb9-6800bd66eb89\" xlink:show=\"new\" xlink:title=\"psysml:10023c3e-6ce6-4816-9fb9-6800bd66eb89\" xlink:type=\"simple\"><rect fill=\"#FFFFFF\" height=\"88.3516\" id=\"E6\" style=\"stroke: #383838; stroke-width: 1.5;\" width=\"180\" x=\"32\" y=\"47.5\"/><text fill=\"#000000\" font-family=\"sans-serif\" font-size=\"12\" font-style=\"italic\" lengthAdjust=\"spacingAndGlyphs\" textLength=\"64\" x=\"90\" y=\"63.6387\">«part def»</text><text fill=\"#000000\" font-family=\"sans-serif\" font-size=\"12\" lengthAdjust=\"spacingAndGlyphs\" textLength=\"131\" x=\"56.5\" y=\"77.6074\">Thermal Data Packet</text><line style=\"stroke: #383838; stroke-width: 1.5;\" x1=\"33\" x2=\"211\" y1=\"85.4375\" y2=\"85.4375\"/><text fill=\"#000000\" font-family=\"sans-serif\" font-size=\"11\" lengthAdjust=\"spacingAndGlyphs\" textLength=\"94\" x=\"38\" y=\"116.4526\">packet data field</text><text fill=\"#000000\" font-family=\"sans-serif\" font-size=\"11\" font-style=\"italic\" lengthAdjust=\"spacingAndGlyphs\" textLength=\"168\" x=\"38\" y=\"129.2573\">:&gt;&gt;Packets::packet data field</text><line style=\"stroke: #383838; stroke-width: 1.0;\" x1=\"33\" x2=\"94.5\" y1=\"99.8398\" y2=\"99.8398\"/><text fill=\"#000000\" font-family=\"sans-serif\" font-size=\"11\" lengthAdjust=\"spacingAndGlyphs\" textLength=\"55\" x=\"94.5\" y=\"103.1479\">attributes</text><line style=\"stroke: #383838; stroke-width: 1.0;\" x1=\"149.5\" x2=\"211\" y1=\"99.8398\" y2=\"99.8398\"/></a><!--MD5=[25b190c987b1e74e5126d372c5a73af1]\n",
       "link E6 to E5--><a href=\"psysml:8c509f82-013b-4383-9ee5-07fa63a1b780\" target=\"_top\" title=\"psysml:8c509f82-013b-4383-9ee5-07fa63a1b780\" xlink:actuate=\"onRequest\" xlink:href=\"psysml:8c509f82-013b-4383-9ee5-07fa63a1b780\" xlink:show=\"new\" xlink:title=\"psysml:8c509f82-013b-4383-9ee5-07fa63a1b780\" xlink:type=\"simple\"><path d=\"M122,135.55 C122,149.68 122,165.84 122,181.67 \" fill=\"none\" id=\"E6-&gt;E5\" style=\"stroke: #383838; stroke-width: 1.0;\"/><polygon fill=\"none\" points=\"129,181.75,122,201.75,115,181.75,129,181.75\" style=\"stroke: #383838; stroke-width: 1.0;\"/></a><!--MD5=[e12ba2f774a82f72525319409c5a81b6]\n",
       "@startuml\r\n",
       "skinparam monochrome true\r\n",
       "skinparam classbackgroundcolor white\r\n",
       "skinparam shadowing false\r\n",
       "skinparam wrapWidth 300\r\n",
       "hide circle\r\n",
       "\r\n",
       "package \"Packets\" as E1  [[psysml:781596e5-2fdd-47e5-84a9-0e1e2d017791 ]]  {\r\n",
       "comp def \"DateTime\" as E2  <<(T,blue)attribute def>> [[psysml:09967ea5-e8af-470d-92d0-5553b1044725 ]] {\r\n",
       "}\r\n",
       "comp usage \"packet header\" as E3  <<(T,blue)attribute>> [[psysml:16b22f80-f2ca-4440-a25c-8e72c7cab96e ]] {\r\n",
       "}\r\n",
       "comp usage \"packet data field\" as E4  <<(T,blue)attribute>> [[psysml:7e904c0e-d2a4-45ad-bef1-7051678b2240 ]] {\r\n",
       "- - attributes - -\r\n",
       "packet secondary header\\n//:>>Packets::packet header// \r\n",
       "user data field\r\n",
       "}\r\n",
       "comp def \"Data Packet\" as E5  <<(T,blue)part def>> [[psysml:7a510d36-5831-409f-9d62-08a185df40ba ]] {\r\n",
       "- - attributes - -\r\n",
       "packet data field\\n//:>>Packets::packet data field// \r\n",
       "packet primary header\\n//:>>Packets::packet header// \r\n",
       "}\r\n",
       "comp def \"Thermal Data Packet\" as E6  <<(T,blue)part def>> [[psysml:10023c3e-6ce6-4816-9fb9-6800bd66eb89 ]] {\r\n",
       "- - attributes - -\r\n",
       "packet data field\\n//:>>Packets::packet data field// \r\n",
       "}\r\n",
       "E6 - -|> E5 [[psysml:8c509f82-013b-4383-9ee5-07fa63a1b780 ]] \r\n",
       "}\r\n",
       "@enduml\r\n",
       "\n",
       "PlantUML version 1.2020.13(Sat Jun 13 12:26:38 UTC 2020)\n",
       "(EPL source distribution)\n",
       "Java Runtime: OpenJDK Runtime Environment\n",
       "JVM: OpenJDK 64-Bit Server VM\n",
       "Default Encoding: UTF-8\n",
       "Language: en\n",
       "Country: null\n",
       "--></g></svg>"
      ]
     },
     "execution_count": 42,
     "metadata": {},
     "output_type": "execute_result"
    }
   ],
   "source": [
    "%viz --style=\"DEFAULT\" --view=\"Sequence\" \"Packets\""
   ]
  },
  {
   "cell_type": "code",
   "execution_count": 43,
   "id": "bee9edcc",
   "metadata": {
    "execution": {
     "iopub.execute_input": "2021-04-20T07:33:57.795590Z",
     "iopub.status.busy": "2021-04-20T07:33:57.795173Z",
     "iopub.status.idle": "2021-04-20T07:33:57.959687Z",
     "shell.execute_reply": "2021-04-20T07:33:57.959974Z"
    }
   },
   "outputs": [
    {
     "data": {
      "image/svg+xml": [
       "<?xml version=\"1.0\" encoding=\"UTF-8\" standalone=\"no\"?><svg xmlns=\"http://www.w3.org/2000/svg\" xmlns:xlink=\"http://www.w3.org/1999/xlink\" contentScriptType=\"application/ecmascript\" contentStyleType=\"text/css\" height=\"344px\" preserveAspectRatio=\"none\" style=\"width:716px;height:344px;\" version=\"1.1\" viewBox=\"0 0 716 344\" width=\"716px\" zoomAndPan=\"magnify\"><defs/><g><!--MD5=[fbc87193dbaf4d95561dea2c320d4a47]\n",
       "cluster E1--><a href=\"psysml:781596e5-2fdd-47e5-84a9-0e1e2d017791\" target=\"_top\" title=\"psysml:781596e5-2fdd-47e5-84a9-0e1e2d017791\" xlink:actuate=\"onRequest\" xlink:href=\"psysml:781596e5-2fdd-47e5-84a9-0e1e2d017791\" xlink:show=\"new\" xlink:title=\"psysml:781596e5-2fdd-47e5-84a9-0e1e2d017791\" xlink:type=\"simple\"><polygon fill=\"#FFFFFF\" points=\"16,6,84,6,91,28.2969,694,28.2969,694,332,16,332,16,6\" style=\"stroke: #000000; stroke-width: 1.5;\"/><line style=\"stroke: #000000; stroke-width: 1.5;\" x1=\"16\" x2=\"91\" y1=\"28.2969\" y2=\"28.2969\"/><text fill=\"#000000\" font-family=\"sans-serif\" font-size=\"14\" font-weight=\"bold\" lengthAdjust=\"spacingAndGlyphs\" textLength=\"62\" x=\"20\" y=\"20.9951\">Packets</text></a><!--MD5=[b4997ac47864f28c2f74865a473b2911]\n",
       "class E2--><a href=\"psysml:09967ea5-e8af-470d-92d0-5553b1044725\" target=\"_top\" title=\"psysml:09967ea5-e8af-470d-92d0-5553b1044725\" xlink:actuate=\"onRequest\" xlink:href=\"psysml:09967ea5-e8af-470d-92d0-5553b1044725\" xlink:show=\"new\" xlink:title=\"psysml:09967ea5-e8af-470d-92d0-5553b1044725\" xlink:type=\"simple\"><rect fill=\"#FFFFFF\" height=\"45.9375\" id=\"E2\" style=\"stroke: #383838; stroke-width: 1.5;\" width=\"95\" x=\"582.5\" y=\"68.5\"/><text fill=\"#000000\" font-family=\"sans-serif\" font-size=\"12\" font-style=\"italic\" lengthAdjust=\"spacingAndGlyphs\" textLength=\"93\" x=\"583.5\" y=\"84.6387\">«attribute def»</text><text fill=\"#000000\" font-family=\"sans-serif\" font-size=\"12\" lengthAdjust=\"spacingAndGlyphs\" textLength=\"59\" x=\"600.5\" y=\"98.6074\">DateTime</text><line style=\"stroke: #383838; stroke-width: 1.5;\" x1=\"583.5\" x2=\"676.5\" y1=\"106.4375\" y2=\"106.4375\"/></a><!--MD5=[09b614a08d8cba4a07c9adeb5e0fee81]\n",
       "class E3--><a href=\"psysml:16b22f80-f2ca-4440-a25c-8e72c7cab96e\" target=\"_top\" title=\"psysml:16b22f80-f2ca-4440-a25c-8e72c7cab96e\" xlink:actuate=\"onRequest\" xlink:href=\"psysml:16b22f80-f2ca-4440-a25c-8e72c7cab96e\" xlink:show=\"new\" xlink:title=\"psysml:16b22f80-f2ca-4440-a25c-8e72c7cab96e\" xlink:type=\"simple\"><rect fill=\"#FFFFFF\" height=\"45.9375\" id=\"E3\" rx=\"10\" ry=\"10\" style=\"stroke: #383838; stroke-width: 1.5;\" width=\"98\" x=\"449\" y=\"68.5\"/><text fill=\"#000000\" font-family=\"sans-serif\" font-size=\"12\" font-style=\"italic\" lengthAdjust=\"spacingAndGlyphs\" textLength=\"69\" x=\"463.5\" y=\"84.6387\">«attribute»</text><text fill=\"#000000\" font-family=\"sans-serif\" font-size=\"12\" lengthAdjust=\"spacingAndGlyphs\" textLength=\"92\" x=\"452\" y=\"98.6074\">packet header</text><line style=\"stroke: #383838; stroke-width: 1.5;\" x1=\"450\" x2=\"546\" y1=\"106.4375\" y2=\"106.4375\"/></a><!--MD5=[ebbe1d658d1005bcc118a6aa81145e00]\n",
       "class E4--><a href=\"psysml:7e904c0e-d2a4-45ad-bef1-7051678b2240\" target=\"_top\" title=\"psysml:7e904c0e-d2a4-45ad-bef1-7051678b2240\" xlink:actuate=\"onRequest\" xlink:href=\"psysml:7e904c0e-d2a4-45ad-bef1-7051678b2240\" xlink:show=\"new\" xlink:title=\"psysml:7e904c0e-d2a4-45ad-bef1-7051678b2240\" xlink:type=\"simple\"><rect fill=\"#FFFFFF\" height=\"101.1563\" id=\"E4\" rx=\"10\" ry=\"10\" style=\"stroke: #383838; stroke-width: 1.5;\" width=\"167\" x=\"247.5\" y=\"41\"/><text fill=\"#000000\" font-family=\"sans-serif\" font-size=\"12\" font-style=\"italic\" lengthAdjust=\"spacingAndGlyphs\" textLength=\"69\" x=\"296.5\" y=\"57.1387\">«attribute»</text><text fill=\"#000000\" font-family=\"sans-serif\" font-size=\"12\" lengthAdjust=\"spacingAndGlyphs\" textLength=\"106\" x=\"278\" y=\"71.1074\">packet data field</text><line style=\"stroke: #383838; stroke-width: 1.5;\" x1=\"248.5\" x2=\"413.5\" y1=\"78.9375\" y2=\"78.9375\"/><text fill=\"#000000\" font-family=\"sans-serif\" font-size=\"11\" lengthAdjust=\"spacingAndGlyphs\" textLength=\"144\" x=\"253.5\" y=\"109.9526\">packet secondary header</text><text fill=\"#000000\" font-family=\"sans-serif\" font-size=\"11\" font-style=\"italic\" lengthAdjust=\"spacingAndGlyphs\" textLength=\"155\" x=\"253.5\" y=\"122.7573\">:&gt;&gt;Packets::packet header</text><text fill=\"#000000\" font-family=\"sans-serif\" font-size=\"11\" lengthAdjust=\"spacingAndGlyphs\" textLength=\"83\" x=\"253.5\" y=\"135.562\">user data field</text><line style=\"stroke: #383838; stroke-width: 1.0;\" x1=\"248.5\" x2=\"303.5\" y1=\"93.3398\" y2=\"93.3398\"/><text fill=\"#000000\" font-family=\"sans-serif\" font-size=\"11\" lengthAdjust=\"spacingAndGlyphs\" textLength=\"55\" x=\"303.5\" y=\"96.6479\">attributes</text><line style=\"stroke: #383838; stroke-width: 1.0;\" x1=\"358.5\" x2=\"413.5\" y1=\"93.3398\" y2=\"93.3398\"/></a><!--MD5=[270fce915f116d4de14055a7c1d9a0f3]\n",
       "class E5--><a href=\"psysml:7a510d36-5831-409f-9d62-08a185df40ba\" target=\"_top\" title=\"psysml:7a510d36-5831-409f-9d62-08a185df40ba\" xlink:actuate=\"onRequest\" xlink:href=\"psysml:7a510d36-5831-409f-9d62-08a185df40ba\" xlink:show=\"new\" xlink:title=\"psysml:7a510d36-5831-409f-9d62-08a185df40ba\" xlink:type=\"simple\"><rect fill=\"#FFFFFF\" height=\"113.9609\" id=\"E5\" style=\"stroke: #383838; stroke-width: 1.5;\" width=\"180\" x=\"32\" y=\"202\"/><text fill=\"#000000\" font-family=\"sans-serif\" font-size=\"12\" font-style=\"italic\" lengthAdjust=\"spacingAndGlyphs\" textLength=\"64\" x=\"90\" y=\"218.1387\">«part def»</text><text fill=\"#000000\" font-family=\"sans-serif\" font-size=\"12\" lengthAdjust=\"spacingAndGlyphs\" textLength=\"77\" x=\"83.5\" y=\"232.1074\">Data Packet</text><line style=\"stroke: #383838; stroke-width: 1.5;\" x1=\"33\" x2=\"211\" y1=\"239.9375\" y2=\"239.9375\"/><text fill=\"#000000\" font-family=\"sans-serif\" font-size=\"11\" lengthAdjust=\"spacingAndGlyphs\" textLength=\"94\" x=\"38\" y=\"270.9526\">packet data field</text><text fill=\"#000000\" font-family=\"sans-serif\" font-size=\"11\" font-style=\"italic\" lengthAdjust=\"spacingAndGlyphs\" textLength=\"168\" x=\"38\" y=\"283.7573\">:&gt;&gt;Packets::packet data field</text><text fill=\"#000000\" font-family=\"sans-serif\" font-size=\"11\" lengthAdjust=\"spacingAndGlyphs\" textLength=\"129\" x=\"38\" y=\"296.562\">packet primary header</text><text fill=\"#000000\" font-family=\"sans-serif\" font-size=\"11\" font-style=\"italic\" lengthAdjust=\"spacingAndGlyphs\" textLength=\"155\" x=\"38\" y=\"309.3667\">:&gt;&gt;Packets::packet header</text><line style=\"stroke: #383838; stroke-width: 1.0;\" x1=\"33\" x2=\"94.5\" y1=\"254.3398\" y2=\"254.3398\"/><text fill=\"#000000\" font-family=\"sans-serif\" font-size=\"11\" lengthAdjust=\"spacingAndGlyphs\" textLength=\"55\" x=\"94.5\" y=\"257.6479\">attributes</text><line style=\"stroke: #383838; stroke-width: 1.0;\" x1=\"149.5\" x2=\"211\" y1=\"254.3398\" y2=\"254.3398\"/></a><!--MD5=[60a26617385b1d2d0262a64233df1f8d]\n",
       "class E6--><a href=\"psysml:10023c3e-6ce6-4816-9fb9-6800bd66eb89\" target=\"_top\" title=\"psysml:10023c3e-6ce6-4816-9fb9-6800bd66eb89\" xlink:actuate=\"onRequest\" xlink:href=\"psysml:10023c3e-6ce6-4816-9fb9-6800bd66eb89\" xlink:show=\"new\" xlink:title=\"psysml:10023c3e-6ce6-4816-9fb9-6800bd66eb89\" xlink:type=\"simple\"><rect fill=\"#FFFFFF\" height=\"88.3516\" id=\"E6\" style=\"stroke: #383838; stroke-width: 1.5;\" width=\"180\" x=\"32\" y=\"47.5\"/><text fill=\"#000000\" font-family=\"sans-serif\" font-size=\"12\" font-style=\"italic\" lengthAdjust=\"spacingAndGlyphs\" textLength=\"64\" x=\"90\" y=\"63.6387\">«part def»</text><text fill=\"#000000\" font-family=\"sans-serif\" font-size=\"12\" lengthAdjust=\"spacingAndGlyphs\" textLength=\"131\" x=\"56.5\" y=\"77.6074\">Thermal Data Packet</text><line style=\"stroke: #383838; stroke-width: 1.5;\" x1=\"33\" x2=\"211\" y1=\"85.4375\" y2=\"85.4375\"/><text fill=\"#000000\" font-family=\"sans-serif\" font-size=\"11\" lengthAdjust=\"spacingAndGlyphs\" textLength=\"94\" x=\"38\" y=\"116.4526\">packet data field</text><text fill=\"#000000\" font-family=\"sans-serif\" font-size=\"11\" font-style=\"italic\" lengthAdjust=\"spacingAndGlyphs\" textLength=\"168\" x=\"38\" y=\"129.2573\">:&gt;&gt;Packets::packet data field</text><line style=\"stroke: #383838; stroke-width: 1.0;\" x1=\"33\" x2=\"94.5\" y1=\"99.8398\" y2=\"99.8398\"/><text fill=\"#000000\" font-family=\"sans-serif\" font-size=\"11\" lengthAdjust=\"spacingAndGlyphs\" textLength=\"55\" x=\"94.5\" y=\"103.1479\">attributes</text><line style=\"stroke: #383838; stroke-width: 1.0;\" x1=\"149.5\" x2=\"211\" y1=\"99.8398\" y2=\"99.8398\"/></a><!--MD5=[25b190c987b1e74e5126d372c5a73af1]\n",
       "link E6 to E5--><a href=\"psysml:8c509f82-013b-4383-9ee5-07fa63a1b780\" target=\"_top\" title=\"psysml:8c509f82-013b-4383-9ee5-07fa63a1b780\" xlink:actuate=\"onRequest\" xlink:href=\"psysml:8c509f82-013b-4383-9ee5-07fa63a1b780\" xlink:show=\"new\" xlink:title=\"psysml:8c509f82-013b-4383-9ee5-07fa63a1b780\" xlink:type=\"simple\"><path d=\"M122,135.55 C122,149.68 122,165.84 122,181.67 \" fill=\"none\" id=\"E6-&gt;E5\" style=\"stroke: #383838; stroke-width: 1.0;\"/><polygon fill=\"none\" points=\"129,181.75,122,201.75,115,181.75,129,181.75\" style=\"stroke: #383838; stroke-width: 1.0;\"/></a><!--MD5=[e12ba2f774a82f72525319409c5a81b6]\n",
       "@startuml\r\n",
       "skinparam monochrome true\r\n",
       "skinparam classbackgroundcolor white\r\n",
       "skinparam shadowing false\r\n",
       "skinparam wrapWidth 300\r\n",
       "hide circle\r\n",
       "\r\n",
       "package \"Packets\" as E1  [[psysml:781596e5-2fdd-47e5-84a9-0e1e2d017791 ]]  {\r\n",
       "comp def \"DateTime\" as E2  <<(T,blue)attribute def>> [[psysml:09967ea5-e8af-470d-92d0-5553b1044725 ]] {\r\n",
       "}\r\n",
       "comp usage \"packet header\" as E3  <<(T,blue)attribute>> [[psysml:16b22f80-f2ca-4440-a25c-8e72c7cab96e ]] {\r\n",
       "}\r\n",
       "comp usage \"packet data field\" as E4  <<(T,blue)attribute>> [[psysml:7e904c0e-d2a4-45ad-bef1-7051678b2240 ]] {\r\n",
       "- - attributes - -\r\n",
       "packet secondary header\\n//:>>Packets::packet header// \r\n",
       "user data field\r\n",
       "}\r\n",
       "comp def \"Data Packet\" as E5  <<(T,blue)part def>> [[psysml:7a510d36-5831-409f-9d62-08a185df40ba ]] {\r\n",
       "- - attributes - -\r\n",
       "packet data field\\n//:>>Packets::packet data field// \r\n",
       "packet primary header\\n//:>>Packets::packet header// \r\n",
       "}\r\n",
       "comp def \"Thermal Data Packet\" as E6  <<(T,blue)part def>> [[psysml:10023c3e-6ce6-4816-9fb9-6800bd66eb89 ]] {\r\n",
       "- - attributes - -\r\n",
       "packet data field\\n//:>>Packets::packet data field// \r\n",
       "}\r\n",
       "E6 - -|> E5 [[psysml:8c509f82-013b-4383-9ee5-07fa63a1b780 ]] \r\n",
       "}\r\n",
       "@enduml\r\n",
       "\n",
       "PlantUML version 1.2020.13(Sat Jun 13 12:26:38 UTC 2020)\n",
       "(EPL source distribution)\n",
       "Java Runtime: OpenJDK Runtime Environment\n",
       "JVM: OpenJDK 64-Bit Server VM\n",
       "Default Encoding: UTF-8\n",
       "Language: en\n",
       "Country: null\n",
       "--></g></svg>"
      ]
     },
     "execution_count": 43,
     "metadata": {},
     "output_type": "execute_result"
    }
   ],
   "source": [
    "%viz --style=\"DEFAULT\" --view=\"MIXED\" \"Packets\""
   ]
  },
  {
   "cell_type": "code",
   "execution_count": 44,
   "id": "31a86898",
   "metadata": {
    "execution": {
     "iopub.execute_input": "2021-04-20T07:33:58.011750Z",
     "iopub.status.busy": "2021-04-20T07:33:58.011354Z",
     "iopub.status.idle": "2021-04-20T07:33:58.142141Z",
     "shell.execute_reply": "2021-04-20T07:33:58.140705Z"
    }
   },
   "outputs": [
    {
     "data": {
      "image/svg+xml": [
       "<?xml version=\"1.0\" encoding=\"UTF-8\" standalone=\"no\"?><svg xmlns=\"http://www.w3.org/2000/svg\" xmlns:xlink=\"http://www.w3.org/1999/xlink\" contentScriptType=\"application/ecmascript\" contentStyleType=\"text/css\" height=\"344px\" preserveAspectRatio=\"none\" style=\"width:716px;height:344px;\" version=\"1.1\" viewBox=\"0 0 716 344\" width=\"716px\" zoomAndPan=\"magnify\"><defs/><g><!--MD5=[fbc87193dbaf4d95561dea2c320d4a47]\n",
       "cluster E1--><a href=\"psysml:781596e5-2fdd-47e5-84a9-0e1e2d017791\" target=\"_top\" title=\"psysml:781596e5-2fdd-47e5-84a9-0e1e2d017791\" xlink:actuate=\"onRequest\" xlink:href=\"psysml:781596e5-2fdd-47e5-84a9-0e1e2d017791\" xlink:show=\"new\" xlink:title=\"psysml:781596e5-2fdd-47e5-84a9-0e1e2d017791\" xlink:type=\"simple\"><polygon fill=\"#FFFFFF\" points=\"16,6,84,6,91,28.2969,694,28.2969,694,332,16,332,16,6\" style=\"stroke: #000000; stroke-width: 1.5;\"/><line style=\"stroke: #000000; stroke-width: 1.5;\" x1=\"16\" x2=\"91\" y1=\"28.2969\" y2=\"28.2969\"/><text fill=\"#000000\" font-family=\"sans-serif\" font-size=\"14\" font-weight=\"bold\" lengthAdjust=\"spacingAndGlyphs\" textLength=\"62\" x=\"20\" y=\"20.9951\">Packets</text></a><!--MD5=[b4997ac47864f28c2f74865a473b2911]\n",
       "class E2--><a href=\"psysml:09967ea5-e8af-470d-92d0-5553b1044725\" target=\"_top\" title=\"psysml:09967ea5-e8af-470d-92d0-5553b1044725\" xlink:actuate=\"onRequest\" xlink:href=\"psysml:09967ea5-e8af-470d-92d0-5553b1044725\" xlink:show=\"new\" xlink:title=\"psysml:09967ea5-e8af-470d-92d0-5553b1044725\" xlink:type=\"simple\"><rect fill=\"#FFFFFF\" height=\"45.9375\" id=\"E2\" style=\"stroke: #383838; stroke-width: 1.5;\" width=\"95\" x=\"582.5\" y=\"68.5\"/><text fill=\"#000000\" font-family=\"sans-serif\" font-size=\"12\" font-style=\"italic\" lengthAdjust=\"spacingAndGlyphs\" textLength=\"93\" x=\"583.5\" y=\"84.6387\">«attribute def»</text><text fill=\"#000000\" font-family=\"sans-serif\" font-size=\"12\" lengthAdjust=\"spacingAndGlyphs\" textLength=\"59\" x=\"600.5\" y=\"98.6074\">DateTime</text><line style=\"stroke: #383838; stroke-width: 1.5;\" x1=\"583.5\" x2=\"676.5\" y1=\"106.4375\" y2=\"106.4375\"/></a><!--MD5=[09b614a08d8cba4a07c9adeb5e0fee81]\n",
       "class E3--><a href=\"psysml:16b22f80-f2ca-4440-a25c-8e72c7cab96e\" target=\"_top\" title=\"psysml:16b22f80-f2ca-4440-a25c-8e72c7cab96e\" xlink:actuate=\"onRequest\" xlink:href=\"psysml:16b22f80-f2ca-4440-a25c-8e72c7cab96e\" xlink:show=\"new\" xlink:title=\"psysml:16b22f80-f2ca-4440-a25c-8e72c7cab96e\" xlink:type=\"simple\"><rect fill=\"#FFFFFF\" height=\"45.9375\" id=\"E3\" rx=\"10\" ry=\"10\" style=\"stroke: #383838; stroke-width: 1.5;\" width=\"98\" x=\"449\" y=\"68.5\"/><text fill=\"#000000\" font-family=\"sans-serif\" font-size=\"12\" font-style=\"italic\" lengthAdjust=\"spacingAndGlyphs\" textLength=\"69\" x=\"463.5\" y=\"84.6387\">«attribute»</text><text fill=\"#000000\" font-family=\"sans-serif\" font-size=\"12\" lengthAdjust=\"spacingAndGlyphs\" textLength=\"92\" x=\"452\" y=\"98.6074\">packet header</text><line style=\"stroke: #383838; stroke-width: 1.5;\" x1=\"450\" x2=\"546\" y1=\"106.4375\" y2=\"106.4375\"/></a><!--MD5=[ebbe1d658d1005bcc118a6aa81145e00]\n",
       "class E4--><a href=\"psysml:7e904c0e-d2a4-45ad-bef1-7051678b2240\" target=\"_top\" title=\"psysml:7e904c0e-d2a4-45ad-bef1-7051678b2240\" xlink:actuate=\"onRequest\" xlink:href=\"psysml:7e904c0e-d2a4-45ad-bef1-7051678b2240\" xlink:show=\"new\" xlink:title=\"psysml:7e904c0e-d2a4-45ad-bef1-7051678b2240\" xlink:type=\"simple\"><rect fill=\"#FFFFFF\" height=\"101.1563\" id=\"E4\" rx=\"10\" ry=\"10\" style=\"stroke: #383838; stroke-width: 1.5;\" width=\"167\" x=\"247.5\" y=\"41\"/><text fill=\"#000000\" font-family=\"sans-serif\" font-size=\"12\" font-style=\"italic\" lengthAdjust=\"spacingAndGlyphs\" textLength=\"69\" x=\"296.5\" y=\"57.1387\">«attribute»</text><text fill=\"#000000\" font-family=\"sans-serif\" font-size=\"12\" lengthAdjust=\"spacingAndGlyphs\" textLength=\"106\" x=\"278\" y=\"71.1074\">packet data field</text><line style=\"stroke: #383838; stroke-width: 1.5;\" x1=\"248.5\" x2=\"413.5\" y1=\"78.9375\" y2=\"78.9375\"/><text fill=\"#000000\" font-family=\"sans-serif\" font-size=\"11\" lengthAdjust=\"spacingAndGlyphs\" textLength=\"144\" x=\"253.5\" y=\"109.9526\">packet secondary header</text><text fill=\"#000000\" font-family=\"sans-serif\" font-size=\"11\" font-style=\"italic\" lengthAdjust=\"spacingAndGlyphs\" textLength=\"155\" x=\"253.5\" y=\"122.7573\">:&gt;&gt;Packets::packet header</text><text fill=\"#000000\" font-family=\"sans-serif\" font-size=\"11\" lengthAdjust=\"spacingAndGlyphs\" textLength=\"83\" x=\"253.5\" y=\"135.562\">user data field</text><line style=\"stroke: #383838; stroke-width: 1.0;\" x1=\"248.5\" x2=\"303.5\" y1=\"93.3398\" y2=\"93.3398\"/><text fill=\"#000000\" font-family=\"sans-serif\" font-size=\"11\" lengthAdjust=\"spacingAndGlyphs\" textLength=\"55\" x=\"303.5\" y=\"96.6479\">attributes</text><line style=\"stroke: #383838; stroke-width: 1.0;\" x1=\"358.5\" x2=\"413.5\" y1=\"93.3398\" y2=\"93.3398\"/></a><!--MD5=[270fce915f116d4de14055a7c1d9a0f3]\n",
       "class E5--><a href=\"psysml:7a510d36-5831-409f-9d62-08a185df40ba\" target=\"_top\" title=\"psysml:7a510d36-5831-409f-9d62-08a185df40ba\" xlink:actuate=\"onRequest\" xlink:href=\"psysml:7a510d36-5831-409f-9d62-08a185df40ba\" xlink:show=\"new\" xlink:title=\"psysml:7a510d36-5831-409f-9d62-08a185df40ba\" xlink:type=\"simple\"><rect fill=\"#FFFFFF\" height=\"113.9609\" id=\"E5\" style=\"stroke: #383838; stroke-width: 1.5;\" width=\"180\" x=\"32\" y=\"202\"/><text fill=\"#000000\" font-family=\"sans-serif\" font-size=\"12\" font-style=\"italic\" lengthAdjust=\"spacingAndGlyphs\" textLength=\"64\" x=\"90\" y=\"218.1387\">«part def»</text><text fill=\"#000000\" font-family=\"sans-serif\" font-size=\"12\" lengthAdjust=\"spacingAndGlyphs\" textLength=\"77\" x=\"83.5\" y=\"232.1074\">Data Packet</text><line style=\"stroke: #383838; stroke-width: 1.5;\" x1=\"33\" x2=\"211\" y1=\"239.9375\" y2=\"239.9375\"/><text fill=\"#000000\" font-family=\"sans-serif\" font-size=\"11\" lengthAdjust=\"spacingAndGlyphs\" textLength=\"94\" x=\"38\" y=\"270.9526\">packet data field</text><text fill=\"#000000\" font-family=\"sans-serif\" font-size=\"11\" font-style=\"italic\" lengthAdjust=\"spacingAndGlyphs\" textLength=\"168\" x=\"38\" y=\"283.7573\">:&gt;&gt;Packets::packet data field</text><text fill=\"#000000\" font-family=\"sans-serif\" font-size=\"11\" lengthAdjust=\"spacingAndGlyphs\" textLength=\"129\" x=\"38\" y=\"296.562\">packet primary header</text><text fill=\"#000000\" font-family=\"sans-serif\" font-size=\"11\" font-style=\"italic\" lengthAdjust=\"spacingAndGlyphs\" textLength=\"155\" x=\"38\" y=\"309.3667\">:&gt;&gt;Packets::packet header</text><line style=\"stroke: #383838; stroke-width: 1.0;\" x1=\"33\" x2=\"94.5\" y1=\"254.3398\" y2=\"254.3398\"/><text fill=\"#000000\" font-family=\"sans-serif\" font-size=\"11\" lengthAdjust=\"spacingAndGlyphs\" textLength=\"55\" x=\"94.5\" y=\"257.6479\">attributes</text><line style=\"stroke: #383838; stroke-width: 1.0;\" x1=\"149.5\" x2=\"211\" y1=\"254.3398\" y2=\"254.3398\"/></a><!--MD5=[60a26617385b1d2d0262a64233df1f8d]\n",
       "class E6--><a href=\"psysml:10023c3e-6ce6-4816-9fb9-6800bd66eb89\" target=\"_top\" title=\"psysml:10023c3e-6ce6-4816-9fb9-6800bd66eb89\" xlink:actuate=\"onRequest\" xlink:href=\"psysml:10023c3e-6ce6-4816-9fb9-6800bd66eb89\" xlink:show=\"new\" xlink:title=\"psysml:10023c3e-6ce6-4816-9fb9-6800bd66eb89\" xlink:type=\"simple\"><rect fill=\"#FFFFFF\" height=\"88.3516\" id=\"E6\" style=\"stroke: #383838; stroke-width: 1.5;\" width=\"180\" x=\"32\" y=\"47.5\"/><text fill=\"#000000\" font-family=\"sans-serif\" font-size=\"12\" font-style=\"italic\" lengthAdjust=\"spacingAndGlyphs\" textLength=\"64\" x=\"90\" y=\"63.6387\">«part def»</text><text fill=\"#000000\" font-family=\"sans-serif\" font-size=\"12\" lengthAdjust=\"spacingAndGlyphs\" textLength=\"131\" x=\"56.5\" y=\"77.6074\">Thermal Data Packet</text><line style=\"stroke: #383838; stroke-width: 1.5;\" x1=\"33\" x2=\"211\" y1=\"85.4375\" y2=\"85.4375\"/><text fill=\"#000000\" font-family=\"sans-serif\" font-size=\"11\" lengthAdjust=\"spacingAndGlyphs\" textLength=\"94\" x=\"38\" y=\"116.4526\">packet data field</text><text fill=\"#000000\" font-family=\"sans-serif\" font-size=\"11\" font-style=\"italic\" lengthAdjust=\"spacingAndGlyphs\" textLength=\"168\" x=\"38\" y=\"129.2573\">:&gt;&gt;Packets::packet data field</text><line style=\"stroke: #383838; stroke-width: 1.0;\" x1=\"33\" x2=\"94.5\" y1=\"99.8398\" y2=\"99.8398\"/><text fill=\"#000000\" font-family=\"sans-serif\" font-size=\"11\" lengthAdjust=\"spacingAndGlyphs\" textLength=\"55\" x=\"94.5\" y=\"103.1479\">attributes</text><line style=\"stroke: #383838; stroke-width: 1.0;\" x1=\"149.5\" x2=\"211\" y1=\"99.8398\" y2=\"99.8398\"/></a><!--MD5=[25b190c987b1e74e5126d372c5a73af1]\n",
       "link E6 to E5--><a href=\"psysml:8c509f82-013b-4383-9ee5-07fa63a1b780\" target=\"_top\" title=\"psysml:8c509f82-013b-4383-9ee5-07fa63a1b780\" xlink:actuate=\"onRequest\" xlink:href=\"psysml:8c509f82-013b-4383-9ee5-07fa63a1b780\" xlink:show=\"new\" xlink:title=\"psysml:8c509f82-013b-4383-9ee5-07fa63a1b780\" xlink:type=\"simple\"><path d=\"M122,135.55 C122,149.68 122,165.84 122,181.67 \" fill=\"none\" id=\"E6-&gt;E5\" style=\"stroke: #383838; stroke-width: 1.0;\"/><polygon fill=\"none\" points=\"129,181.75,122,201.75,115,181.75,129,181.75\" style=\"stroke: #383838; stroke-width: 1.0;\"/></a><!--MD5=[333fbf08e05dfdeeca9b8ab71231babc]\n",
       "@startuml\r\n",
       "top to bottom direction\r\n",
       "skinparam monochrome true\r\n",
       "skinparam classbackgroundcolor white\r\n",
       "skinparam shadowing false\r\n",
       "skinparam wrapWidth 300\r\n",
       "hide circle\r\n",
       "\r\n",
       "package \"Packets\" as E1  [[psysml:781596e5-2fdd-47e5-84a9-0e1e2d017791 ]]  {\r\n",
       "comp def \"DateTime\" as E2  <<(T,blue)attribute def>> [[psysml:09967ea5-e8af-470d-92d0-5553b1044725 ]] {\r\n",
       "}\r\n",
       "comp usage \"packet header\" as E3  <<(T,blue)attribute>> [[psysml:16b22f80-f2ca-4440-a25c-8e72c7cab96e ]] {\r\n",
       "}\r\n",
       "comp usage \"packet data field\" as E4  <<(T,blue)attribute>> [[psysml:7e904c0e-d2a4-45ad-bef1-7051678b2240 ]] {\r\n",
       "- - attributes - -\r\n",
       "packet secondary header\\n//:>>Packets::packet header// \r\n",
       "user data field\r\n",
       "}\r\n",
       "comp def \"Data Packet\" as E5  <<(T,blue)part def>> [[psysml:7a510d36-5831-409f-9d62-08a185df40ba ]] {\r\n",
       "- - attributes - -\r\n",
       "packet data field\\n//:>>Packets::packet data field// \r\n",
       "packet primary header\\n//:>>Packets::packet header// \r\n",
       "}\r\n",
       "comp def \"Thermal Data Packet\" as E6  <<(T,blue)part def>> [[psysml:10023c3e-6ce6-4816-9fb9-6800bd66eb89 ]] {\r\n",
       "- - attributes - -\r\n",
       "packet data field\\n//:>>Packets::packet data field// \r\n",
       "}\r\n",
       "E6 - -|> E5 [[psysml:8c509f82-013b-4383-9ee5-07fa63a1b780 ]] \r\n",
       "}\r\n",
       "@enduml\r\n",
       "\n",
       "PlantUML version 1.2020.13(Sat Jun 13 12:26:38 UTC 2020)\n",
       "(EPL source distribution)\n",
       "Java Runtime: OpenJDK Runtime Environment\n",
       "JVM: OpenJDK 64-Bit Server VM\n",
       "Default Encoding: UTF-8\n",
       "Language: en\n",
       "Country: null\n",
       "--></g></svg>"
      ]
     },
     "execution_count": 44,
     "metadata": {},
     "output_type": "execute_result"
    }
   ],
   "source": [
    "%viz --style=\"TB\" --view=\"Default\" \"Packets\""
   ]
  },
  {
   "cell_type": "code",
   "execution_count": 45,
   "id": "6c072bb7",
   "metadata": {
    "execution": {
     "iopub.execute_input": "2021-04-20T07:33:58.192602Z",
     "iopub.status.busy": "2021-04-20T07:33:58.191966Z",
     "iopub.status.idle": "2021-04-20T07:33:58.341076Z",
     "shell.execute_reply": "2021-04-20T07:33:58.339456Z"
    }
   },
   "outputs": [
    {
     "data": {
      "image/svg+xml": [
       "<?xml version=\"1.0\" encoding=\"UTF-8\" standalone=\"no\"?><svg xmlns=\"http://www.w3.org/2000/svg\" xmlns:xlink=\"http://www.w3.org/1999/xlink\" contentScriptType=\"application/ecmascript\" contentStyleType=\"text/css\" height=\"344px\" preserveAspectRatio=\"none\" style=\"width:716px;height:344px;\" version=\"1.1\" viewBox=\"0 0 716 344\" width=\"716px\" zoomAndPan=\"magnify\"><defs/><g><!--MD5=[fbc87193dbaf4d95561dea2c320d4a47]\n",
       "cluster E1--><a href=\"psysml:781596e5-2fdd-47e5-84a9-0e1e2d017791\" target=\"_top\" title=\"psysml:781596e5-2fdd-47e5-84a9-0e1e2d017791\" xlink:actuate=\"onRequest\" xlink:href=\"psysml:781596e5-2fdd-47e5-84a9-0e1e2d017791\" xlink:show=\"new\" xlink:title=\"psysml:781596e5-2fdd-47e5-84a9-0e1e2d017791\" xlink:type=\"simple\"><polygon fill=\"#FFFFFF\" points=\"16,6,84,6,91,28.2969,694,28.2969,694,332,16,332,16,6\" style=\"stroke: #000000; stroke-width: 1.5;\"/><line style=\"stroke: #000000; stroke-width: 1.5;\" x1=\"16\" x2=\"91\" y1=\"28.2969\" y2=\"28.2969\"/><text fill=\"#000000\" font-family=\"sans-serif\" font-size=\"14\" font-weight=\"bold\" lengthAdjust=\"spacingAndGlyphs\" textLength=\"62\" x=\"20\" y=\"20.9951\">Packets</text></a><!--MD5=[b4997ac47864f28c2f74865a473b2911]\n",
       "class E2--><a href=\"psysml:09967ea5-e8af-470d-92d0-5553b1044725\" target=\"_top\" title=\"psysml:09967ea5-e8af-470d-92d0-5553b1044725\" xlink:actuate=\"onRequest\" xlink:href=\"psysml:09967ea5-e8af-470d-92d0-5553b1044725\" xlink:show=\"new\" xlink:title=\"psysml:09967ea5-e8af-470d-92d0-5553b1044725\" xlink:type=\"simple\"><rect fill=\"#FFFFFF\" height=\"45.9375\" id=\"E2\" style=\"stroke: #383838; stroke-width: 1.5;\" width=\"95\" x=\"582.5\" y=\"68.5\"/><text fill=\"#000000\" font-family=\"sans-serif\" font-size=\"12\" font-style=\"italic\" lengthAdjust=\"spacingAndGlyphs\" textLength=\"93\" x=\"583.5\" y=\"84.6387\">«attribute def»</text><text fill=\"#000000\" font-family=\"sans-serif\" font-size=\"12\" lengthAdjust=\"spacingAndGlyphs\" textLength=\"59\" x=\"600.5\" y=\"98.6074\">DateTime</text><line style=\"stroke: #383838; stroke-width: 1.5;\" x1=\"583.5\" x2=\"676.5\" y1=\"106.4375\" y2=\"106.4375\"/></a><!--MD5=[09b614a08d8cba4a07c9adeb5e0fee81]\n",
       "class E3--><a href=\"psysml:16b22f80-f2ca-4440-a25c-8e72c7cab96e\" target=\"_top\" title=\"psysml:16b22f80-f2ca-4440-a25c-8e72c7cab96e\" xlink:actuate=\"onRequest\" xlink:href=\"psysml:16b22f80-f2ca-4440-a25c-8e72c7cab96e\" xlink:show=\"new\" xlink:title=\"psysml:16b22f80-f2ca-4440-a25c-8e72c7cab96e\" xlink:type=\"simple\"><rect fill=\"#FFFFFF\" height=\"45.9375\" id=\"E3\" rx=\"10\" ry=\"10\" style=\"stroke: #383838; stroke-width: 1.5;\" width=\"98\" x=\"449\" y=\"68.5\"/><text fill=\"#000000\" font-family=\"sans-serif\" font-size=\"12\" font-style=\"italic\" lengthAdjust=\"spacingAndGlyphs\" textLength=\"69\" x=\"463.5\" y=\"84.6387\">«attribute»</text><text fill=\"#000000\" font-family=\"sans-serif\" font-size=\"12\" lengthAdjust=\"spacingAndGlyphs\" textLength=\"92\" x=\"452\" y=\"98.6074\">packet header</text><line style=\"stroke: #383838; stroke-width: 1.5;\" x1=\"450\" x2=\"546\" y1=\"106.4375\" y2=\"106.4375\"/></a><!--MD5=[ebbe1d658d1005bcc118a6aa81145e00]\n",
       "class E4--><a href=\"psysml:7e904c0e-d2a4-45ad-bef1-7051678b2240\" target=\"_top\" title=\"psysml:7e904c0e-d2a4-45ad-bef1-7051678b2240\" xlink:actuate=\"onRequest\" xlink:href=\"psysml:7e904c0e-d2a4-45ad-bef1-7051678b2240\" xlink:show=\"new\" xlink:title=\"psysml:7e904c0e-d2a4-45ad-bef1-7051678b2240\" xlink:type=\"simple\"><rect fill=\"#FFFFFF\" height=\"101.1563\" id=\"E4\" rx=\"10\" ry=\"10\" style=\"stroke: #383838; stroke-width: 1.5;\" width=\"167\" x=\"247.5\" y=\"41\"/><text fill=\"#000000\" font-family=\"sans-serif\" font-size=\"12\" font-style=\"italic\" lengthAdjust=\"spacingAndGlyphs\" textLength=\"69\" x=\"296.5\" y=\"57.1387\">«attribute»</text><text fill=\"#000000\" font-family=\"sans-serif\" font-size=\"12\" lengthAdjust=\"spacingAndGlyphs\" textLength=\"106\" x=\"278\" y=\"71.1074\">packet data field</text><line style=\"stroke: #383838; stroke-width: 1.5;\" x1=\"248.5\" x2=\"413.5\" y1=\"78.9375\" y2=\"78.9375\"/><text fill=\"#000000\" font-family=\"sans-serif\" font-size=\"11\" lengthAdjust=\"spacingAndGlyphs\" textLength=\"144\" x=\"253.5\" y=\"109.9526\">packet secondary header</text><text fill=\"#000000\" font-family=\"sans-serif\" font-size=\"11\" font-style=\"italic\" lengthAdjust=\"spacingAndGlyphs\" textLength=\"155\" x=\"253.5\" y=\"122.7573\">:&gt;&gt;Packets::packet header</text><text fill=\"#000000\" font-family=\"sans-serif\" font-size=\"11\" lengthAdjust=\"spacingAndGlyphs\" textLength=\"83\" x=\"253.5\" y=\"135.562\">user data field</text><line style=\"stroke: #383838; stroke-width: 1.0;\" x1=\"248.5\" x2=\"303.5\" y1=\"93.3398\" y2=\"93.3398\"/><text fill=\"#000000\" font-family=\"sans-serif\" font-size=\"11\" lengthAdjust=\"spacingAndGlyphs\" textLength=\"55\" x=\"303.5\" y=\"96.6479\">attributes</text><line style=\"stroke: #383838; stroke-width: 1.0;\" x1=\"358.5\" x2=\"413.5\" y1=\"93.3398\" y2=\"93.3398\"/></a><!--MD5=[270fce915f116d4de14055a7c1d9a0f3]\n",
       "class E5--><a href=\"psysml:7a510d36-5831-409f-9d62-08a185df40ba\" target=\"_top\" title=\"psysml:7a510d36-5831-409f-9d62-08a185df40ba\" xlink:actuate=\"onRequest\" xlink:href=\"psysml:7a510d36-5831-409f-9d62-08a185df40ba\" xlink:show=\"new\" xlink:title=\"psysml:7a510d36-5831-409f-9d62-08a185df40ba\" xlink:type=\"simple\"><rect fill=\"#FFFFFF\" height=\"113.9609\" id=\"E5\" style=\"stroke: #383838; stroke-width: 1.5;\" width=\"180\" x=\"32\" y=\"202\"/><text fill=\"#000000\" font-family=\"sans-serif\" font-size=\"12\" font-style=\"italic\" lengthAdjust=\"spacingAndGlyphs\" textLength=\"64\" x=\"90\" y=\"218.1387\">«part def»</text><text fill=\"#000000\" font-family=\"sans-serif\" font-size=\"12\" lengthAdjust=\"spacingAndGlyphs\" textLength=\"77\" x=\"83.5\" y=\"232.1074\">Data Packet</text><line style=\"stroke: #383838; stroke-width: 1.5;\" x1=\"33\" x2=\"211\" y1=\"239.9375\" y2=\"239.9375\"/><text fill=\"#000000\" font-family=\"sans-serif\" font-size=\"11\" lengthAdjust=\"spacingAndGlyphs\" textLength=\"94\" x=\"38\" y=\"270.9526\">packet data field</text><text fill=\"#000000\" font-family=\"sans-serif\" font-size=\"11\" font-style=\"italic\" lengthAdjust=\"spacingAndGlyphs\" textLength=\"168\" x=\"38\" y=\"283.7573\">:&gt;&gt;Packets::packet data field</text><text fill=\"#000000\" font-family=\"sans-serif\" font-size=\"11\" lengthAdjust=\"spacingAndGlyphs\" textLength=\"129\" x=\"38\" y=\"296.562\">packet primary header</text><text fill=\"#000000\" font-family=\"sans-serif\" font-size=\"11\" font-style=\"italic\" lengthAdjust=\"spacingAndGlyphs\" textLength=\"155\" x=\"38\" y=\"309.3667\">:&gt;&gt;Packets::packet header</text><line style=\"stroke: #383838; stroke-width: 1.0;\" x1=\"33\" x2=\"94.5\" y1=\"254.3398\" y2=\"254.3398\"/><text fill=\"#000000\" font-family=\"sans-serif\" font-size=\"11\" lengthAdjust=\"spacingAndGlyphs\" textLength=\"55\" x=\"94.5\" y=\"257.6479\">attributes</text><line style=\"stroke: #383838; stroke-width: 1.0;\" x1=\"149.5\" x2=\"211\" y1=\"254.3398\" y2=\"254.3398\"/></a><!--MD5=[60a26617385b1d2d0262a64233df1f8d]\n",
       "class E6--><a href=\"psysml:10023c3e-6ce6-4816-9fb9-6800bd66eb89\" target=\"_top\" title=\"psysml:10023c3e-6ce6-4816-9fb9-6800bd66eb89\" xlink:actuate=\"onRequest\" xlink:href=\"psysml:10023c3e-6ce6-4816-9fb9-6800bd66eb89\" xlink:show=\"new\" xlink:title=\"psysml:10023c3e-6ce6-4816-9fb9-6800bd66eb89\" xlink:type=\"simple\"><rect fill=\"#FFFFFF\" height=\"88.3516\" id=\"E6\" style=\"stroke: #383838; stroke-width: 1.5;\" width=\"180\" x=\"32\" y=\"47.5\"/><text fill=\"#000000\" font-family=\"sans-serif\" font-size=\"12\" font-style=\"italic\" lengthAdjust=\"spacingAndGlyphs\" textLength=\"64\" x=\"90\" y=\"63.6387\">«part def»</text><text fill=\"#000000\" font-family=\"sans-serif\" font-size=\"12\" lengthAdjust=\"spacingAndGlyphs\" textLength=\"131\" x=\"56.5\" y=\"77.6074\">Thermal Data Packet</text><line style=\"stroke: #383838; stroke-width: 1.5;\" x1=\"33\" x2=\"211\" y1=\"85.4375\" y2=\"85.4375\"/><text fill=\"#000000\" font-family=\"sans-serif\" font-size=\"11\" lengthAdjust=\"spacingAndGlyphs\" textLength=\"94\" x=\"38\" y=\"116.4526\">packet data field</text><text fill=\"#000000\" font-family=\"sans-serif\" font-size=\"11\" font-style=\"italic\" lengthAdjust=\"spacingAndGlyphs\" textLength=\"168\" x=\"38\" y=\"129.2573\">:&gt;&gt;Packets::packet data field</text><line style=\"stroke: #383838; stroke-width: 1.0;\" x1=\"33\" x2=\"94.5\" y1=\"99.8398\" y2=\"99.8398\"/><text fill=\"#000000\" font-family=\"sans-serif\" font-size=\"11\" lengthAdjust=\"spacingAndGlyphs\" textLength=\"55\" x=\"94.5\" y=\"103.1479\">attributes</text><line style=\"stroke: #383838; stroke-width: 1.0;\" x1=\"149.5\" x2=\"211\" y1=\"99.8398\" y2=\"99.8398\"/></a><!--MD5=[25b190c987b1e74e5126d372c5a73af1]\n",
       "link E6 to E5--><a href=\"psysml:8c509f82-013b-4383-9ee5-07fa63a1b780\" target=\"_top\" title=\"psysml:8c509f82-013b-4383-9ee5-07fa63a1b780\" xlink:actuate=\"onRequest\" xlink:href=\"psysml:8c509f82-013b-4383-9ee5-07fa63a1b780\" xlink:show=\"new\" xlink:title=\"psysml:8c509f82-013b-4383-9ee5-07fa63a1b780\" xlink:type=\"simple\"><path d=\"M122,135.55 C122,149.68 122,165.84 122,181.67 \" fill=\"none\" id=\"E6-&gt;E5\" style=\"stroke: #383838; stroke-width: 1.0;\"/><polygon fill=\"none\" points=\"129,181.75,122,201.75,115,181.75,129,181.75\" style=\"stroke: #383838; stroke-width: 1.0;\"/></a><!--MD5=[333fbf08e05dfdeeca9b8ab71231babc]\n",
       "@startuml\r\n",
       "top to bottom direction\r\n",
       "skinparam monochrome true\r\n",
       "skinparam classbackgroundcolor white\r\n",
       "skinparam shadowing false\r\n",
       "skinparam wrapWidth 300\r\n",
       "hide circle\r\n",
       "\r\n",
       "package \"Packets\" as E1  [[psysml:781596e5-2fdd-47e5-84a9-0e1e2d017791 ]]  {\r\n",
       "comp def \"DateTime\" as E2  <<(T,blue)attribute def>> [[psysml:09967ea5-e8af-470d-92d0-5553b1044725 ]] {\r\n",
       "}\r\n",
       "comp usage \"packet header\" as E3  <<(T,blue)attribute>> [[psysml:16b22f80-f2ca-4440-a25c-8e72c7cab96e ]] {\r\n",
       "}\r\n",
       "comp usage \"packet data field\" as E4  <<(T,blue)attribute>> [[psysml:7e904c0e-d2a4-45ad-bef1-7051678b2240 ]] {\r\n",
       "- - attributes - -\r\n",
       "packet secondary header\\n//:>>Packets::packet header// \r\n",
       "user data field\r\n",
       "}\r\n",
       "comp def \"Data Packet\" as E5  <<(T,blue)part def>> [[psysml:7a510d36-5831-409f-9d62-08a185df40ba ]] {\r\n",
       "- - attributes - -\r\n",
       "packet data field\\n//:>>Packets::packet data field// \r\n",
       "packet primary header\\n//:>>Packets::packet header// \r\n",
       "}\r\n",
       "comp def \"Thermal Data Packet\" as E6  <<(T,blue)part def>> [[psysml:10023c3e-6ce6-4816-9fb9-6800bd66eb89 ]] {\r\n",
       "- - attributes - -\r\n",
       "packet data field\\n//:>>Packets::packet data field// \r\n",
       "}\r\n",
       "E6 - -|> E5 [[psysml:8c509f82-013b-4383-9ee5-07fa63a1b780 ]] \r\n",
       "}\r\n",
       "@enduml\r\n",
       "\n",
       "PlantUML version 1.2020.13(Sat Jun 13 12:26:38 UTC 2020)\n",
       "(EPL source distribution)\n",
       "Java Runtime: OpenJDK Runtime Environment\n",
       "JVM: OpenJDK 64-Bit Server VM\n",
       "Default Encoding: UTF-8\n",
       "Language: en\n",
       "Country: null\n",
       "--></g></svg>"
      ]
     },
     "execution_count": 45,
     "metadata": {},
     "output_type": "execute_result"
    }
   ],
   "source": [
    "%viz --style=\"TB\" --view=\"Tree\" \"Packets\""
   ]
  },
  {
   "cell_type": "code",
   "execution_count": 46,
   "id": "e0e042f5",
   "metadata": {
    "execution": {
     "iopub.execute_input": "2021-04-20T07:33:58.391302Z",
     "iopub.status.busy": "2021-04-20T07:33:58.390769Z",
     "iopub.status.idle": "2021-04-20T07:33:58.395701Z",
     "shell.execute_reply": "2021-04-20T07:33:58.395284Z"
    }
   },
   "outputs": [
    {
     "data": {
      "image/svg+xml": [
       "<?xml version=\"1.0\" encoding=\"UTF-8\" standalone=\"no\"?><svg xmlns=\"http://www.w3.org/2000/svg\" xmlns:xlink=\"http://www.w3.org/1999/xlink\" contentScriptType=\"application/ecmascript\" contentStyleType=\"text/css\" height=\"12px\" preserveAspectRatio=\"none\" style=\"width:12px;height:12px;\" version=\"1.1\" viewBox=\"0 0 12 12\" width=\"12px\" zoomAndPan=\"magnify\"><defs/><g><!--MD5=[f4ee21bc66e489b5061b7c3e9601fdef]\n",
       "@startuml\r\n",
       "top to bottom direction\r\n",
       "skinparam monochrome true\r\n",
       "skinparam classbackgroundcolor white\r\n",
       "skinparam shadowing false\r\n",
       "skinparam wrapWidth 300\r\n",
       "hide circle\r\n",
       "\r\n",
       "@enduml\r\n",
       "\n",
       "PlantUML version 1.2020.13(Sat Jun 13 12:26:38 UTC 2020)\n",
       "(EPL source distribution)\n",
       "Java Runtime: OpenJDK Runtime Environment\n",
       "JVM: OpenJDK 64-Bit Server VM\n",
       "Default Encoding: UTF-8\n",
       "Language: en\n",
       "Country: null\n",
       "--></g></svg>"
      ]
     },
     "execution_count": 46,
     "metadata": {},
     "output_type": "execute_result"
    }
   ],
   "source": [
    "%viz --style=\"TB\" --view=\"State\" \"Packets\""
   ]
  },
  {
   "cell_type": "code",
   "execution_count": 47,
   "id": "3efe93dc",
   "metadata": {
    "execution": {
     "iopub.execute_input": "2021-04-20T07:33:58.446813Z",
     "iopub.status.busy": "2021-04-20T07:33:58.446240Z",
     "iopub.status.idle": "2021-04-20T07:33:58.635047Z",
     "shell.execute_reply": "2021-04-20T07:33:58.633298Z"
    }
   },
   "outputs": [
    {
     "data": {
      "image/svg+xml": [
       "<?xml version=\"1.0\" encoding=\"UTF-8\" standalone=\"no\"?><svg xmlns=\"http://www.w3.org/2000/svg\" xmlns:xlink=\"http://www.w3.org/1999/xlink\" contentScriptType=\"application/ecmascript\" contentStyleType=\"text/css\" height=\"631px\" preserveAspectRatio=\"none\" style=\"width:518px;height:631px;\" version=\"1.1\" viewBox=\"0 0 518 631\" width=\"518px\" zoomAndPan=\"magnify\"><defs/><g><!--MD5=[fbc87193dbaf4d95561dea2c320d4a47]\n",
       "cluster E1--><a href=\"psysml:781596e5-2fdd-47e5-84a9-0e1e2d017791\" target=\"_top\" title=\"psysml:781596e5-2fdd-47e5-84a9-0e1e2d017791\" xlink:actuate=\"onRequest\" xlink:href=\"psysml:781596e5-2fdd-47e5-84a9-0e1e2d017791\" xlink:show=\"new\" xlink:title=\"psysml:781596e5-2fdd-47e5-84a9-0e1e2d017791\" xlink:type=\"simple\"><polygon fill=\"#FFFFFF\" points=\"16,6,84,6,91,28.2969,496,28.2969,496,619,16,619,16,6\" style=\"stroke: #000000; stroke-width: 1.5;\"/><line style=\"stroke: #000000; stroke-width: 1.5;\" x1=\"16\" x2=\"91\" y1=\"28.2969\" y2=\"28.2969\"/><text fill=\"#000000\" font-family=\"sans-serif\" font-size=\"14\" font-weight=\"bold\" lengthAdjust=\"spacingAndGlyphs\" textLength=\"62\" x=\"20\" y=\"20.9951\">Packets</text></a><!--MD5=[de5ec2e2e8f62f467e546659f5068c88]\n",
       "cluster E5--><a href=\"psysml:7a510d36-5831-409f-9d62-08a185df40ba\" target=\"_top\" title=\"psysml:7a510d36-5831-409f-9d62-08a185df40ba\" xlink:actuate=\"onRequest\" xlink:href=\"psysml:7a510d36-5831-409f-9d62-08a185df40ba\" xlink:show=\"new\" xlink:title=\"psysml:7a510d36-5831-409f-9d62-08a185df40ba\" xlink:type=\"simple\"><rect fill=\"#FFFFFF\" height=\"184\" id=\"E5\" style=\"stroke: #383838; stroke-width: 1.5;\" width=\"406\" x=\"48\" y=\"294\"/><rect fill=\"#F8F8F8\" height=\"37.9375\" style=\"stroke: #383838; stroke-width: 1.5;\" width=\"406\" x=\"48\" y=\"294\"/><text fill=\"#000000\" font-family=\"sans-serif\" font-size=\"12\" font-style=\"italic\" lengthAdjust=\"spacingAndGlyphs\" textLength=\"64\" x=\"219\" y=\"310.1387\">«part def»</text><text fill=\"#000000\" font-family=\"sans-serif\" font-size=\"12\" lengthAdjust=\"spacingAndGlyphs\" textLength=\"77\" x=\"212.5\" y=\"324.1074\">Data Packet</text></a><!--MD5=[55dfccfc6c49c2d10cd1bd2211a6c90c]\n",
       "cluster E8--><a href=\"psysml:10023c3e-6ce6-4816-9fb9-6800bd66eb89\" target=\"_top\" title=\"psysml:10023c3e-6ce6-4816-9fb9-6800bd66eb89\" xlink:actuate=\"onRequest\" xlink:href=\"psysml:10023c3e-6ce6-4816-9fb9-6800bd66eb89\" xlink:show=\"new\" xlink:title=\"psysml:10023c3e-6ce6-4816-9fb9-6800bd66eb89\" xlink:type=\"simple\"><rect fill=\"#FFFFFF\" height=\"197\" id=\"E8\" style=\"stroke: #383838; stroke-width: 1.5;\" width=\"287\" x=\"172\" y=\"57\"/><rect fill=\"#F8F8F8\" height=\"37.9375\" style=\"stroke: #383838; stroke-width: 1.5;\" width=\"287\" x=\"172\" y=\"57\"/><text fill=\"#000000\" font-family=\"sans-serif\" font-size=\"12\" font-style=\"italic\" lengthAdjust=\"spacingAndGlyphs\" textLength=\"64\" x=\"283.5\" y=\"73.1387\">«part def»</text><text fill=\"#000000\" font-family=\"sans-serif\" font-size=\"12\" lengthAdjust=\"spacingAndGlyphs\" textLength=\"131\" x=\"250\" y=\"87.1074\">Thermal Data Packet</text></a><g id=\"E1.E2\"><a href=\"psysml:09967ea5-e8af-470d-92d0-5553b1044725\" target=\"_top\" title=\"psysml:09967ea5-e8af-470d-92d0-5553b1044725\" xlink:actuate=\"onRequest\" xlink:href=\"psysml:09967ea5-e8af-470d-92d0-5553b1044725\" xlink:show=\"new\" xlink:title=\"psysml:09967ea5-e8af-470d-92d0-5553b1044725\" xlink:type=\"simple\"><rect fill=\"#FFFFFF\" height=\"42.9375\" id=\"E2\" style=\"stroke: #383838; stroke-width: 1.5;\" width=\"100\" x=\"41\" y=\"151.5\"/><rect fill=\"#F8F8F8\" height=\"37.9375\" style=\"stroke: #383838; stroke-width: 1.5;\" width=\"100\" x=\"41\" y=\"151.5\"/><text fill=\"#000000\" font-family=\"sans-serif\" font-size=\"12\" font-style=\"italic\" lengthAdjust=\"spacingAndGlyphs\" textLength=\"93\" x=\"44.5\" y=\"167.6387\">«attribute def»</text><text fill=\"#000000\" font-family=\"sans-serif\" font-size=\"12\" lengthAdjust=\"spacingAndGlyphs\" textLength=\"59\" x=\"61.5\" y=\"181.6074\">DateTime</text></a></g><!--MD5=[09b614a08d8cba4a07c9adeb5e0fee81]\n",
       "class E3--><a href=\"psysml:16b22f80-f2ca-4440-a25c-8e72c7cab96e\" target=\"_top\" title=\"psysml:16b22f80-f2ca-4440-a25c-8e72c7cab96e\" xlink:actuate=\"onRequest\" xlink:href=\"psysml:16b22f80-f2ca-4440-a25c-8e72c7cab96e\" xlink:show=\"new\" xlink:title=\"psysml:16b22f80-f2ca-4440-a25c-8e72c7cab96e\" xlink:type=\"simple\"><rect fill=\"#FFFFFF\" height=\"45.9375\" id=\"E3\" rx=\"10\" ry=\"10\" style=\"stroke: #383838; stroke-width: 1.5;\" width=\"98\" x=\"138\" y=\"529.5\"/><text fill=\"#000000\" font-family=\"sans-serif\" font-size=\"12\" font-style=\"italic\" lengthAdjust=\"spacingAndGlyphs\" textLength=\"69\" x=\"152.5\" y=\"545.6387\">«attribute»</text><text fill=\"#000000\" font-family=\"sans-serif\" font-size=\"12\" lengthAdjust=\"spacingAndGlyphs\" textLength=\"92\" x=\"141\" y=\"559.6074\">packet header</text><line style=\"stroke: #383838; stroke-width: 1.5;\" x1=\"139\" x2=\"235\" y1=\"567.4375\" y2=\"567.4375\"/></a><!--MD5=[ebbe1d658d1005bcc118a6aa81145e00]\n",
       "class E4--><a href=\"psysml:7e904c0e-d2a4-45ad-bef1-7051678b2240\" target=\"_top\" title=\"psysml:7e904c0e-d2a4-45ad-bef1-7051678b2240\" xlink:actuate=\"onRequest\" xlink:href=\"psysml:7e904c0e-d2a4-45ad-bef1-7051678b2240\" xlink:show=\"new\" xlink:title=\"psysml:7e904c0e-d2a4-45ad-bef1-7051678b2240\" xlink:type=\"simple\"><rect fill=\"#FFFFFF\" height=\"101.1563\" id=\"E4\" rx=\"10\" ry=\"10\" style=\"stroke: #383838; stroke-width: 1.5;\" width=\"167\" x=\"301.5\" y=\"502\"/><text fill=\"#000000\" font-family=\"sans-serif\" font-size=\"12\" font-style=\"italic\" lengthAdjust=\"spacingAndGlyphs\" textLength=\"69\" x=\"350.5\" y=\"518.1387\">«attribute»</text><text fill=\"#000000\" font-family=\"sans-serif\" font-size=\"12\" lengthAdjust=\"spacingAndGlyphs\" textLength=\"106\" x=\"332\" y=\"532.1074\">packet data field</text><line style=\"stroke: #383838; stroke-width: 1.5;\" x1=\"302.5\" x2=\"467.5\" y1=\"539.9375\" y2=\"539.9375\"/><text fill=\"#000000\" font-family=\"sans-serif\" font-size=\"11\" lengthAdjust=\"spacingAndGlyphs\" textLength=\"144\" x=\"307.5\" y=\"570.9526\">packet secondary header</text><text fill=\"#000000\" font-family=\"sans-serif\" font-size=\"11\" font-style=\"italic\" lengthAdjust=\"spacingAndGlyphs\" textLength=\"155\" x=\"307.5\" y=\"583.7573\">:&gt;&gt;Packets::packet header</text><text fill=\"#000000\" font-family=\"sans-serif\" font-size=\"11\" lengthAdjust=\"spacingAndGlyphs\" textLength=\"83\" x=\"307.5\" y=\"596.562\">user data field</text><line style=\"stroke: #383838; stroke-width: 1.0;\" x1=\"302.5\" x2=\"357.5\" y1=\"554.3398\" y2=\"554.3398\"/><text fill=\"#000000\" font-family=\"sans-serif\" font-size=\"11\" lengthAdjust=\"spacingAndGlyphs\" textLength=\"55\" x=\"357.5\" y=\"557.6479\">attributes</text><line style=\"stroke: #383838; stroke-width: 1.0;\" x1=\"412.5\" x2=\"467.5\" y1=\"554.3398\" y2=\"554.3398\"/></a><!--MD5=[60a26617385b1d2d0262a64233df1f8d]\n",
       "class E6--><a href=\"psysml:8bac5b56-bd53-4c22-88f8-0cbcb8384e0b\" target=\"_top\" title=\"psysml:8bac5b56-bd53-4c22-88f8-0cbcb8384e0b\" xlink:actuate=\"onRequest\" xlink:href=\"psysml:8bac5b56-bd53-4c22-88f8-0cbcb8384e0b\" xlink:show=\"new\" xlink:title=\"psysml:8bac5b56-bd53-4c22-88f8-0cbcb8384e0b\" xlink:type=\"simple\"><rect fill=\"#FFFFFF\" height=\"101.1563\" id=\"E6\" rx=\"10\" ry=\"10\" style=\"stroke: #383838; stroke-width: 1.5;\" width=\"191\" x=\"91.5\" y=\"353\"/><text fill=\"#000000\" font-family=\"sans-serif\" font-size=\"12\" font-style=\"italic\" lengthAdjust=\"spacingAndGlyphs\" textLength=\"69\" x=\"152.5\" y=\"369.1387\">«attribute»</text><text fill=\"#000000\" font-family=\"sans-serif\" font-size=\"12\" lengthAdjust=\"spacingAndGlyphs\" textLength=\"142\" x=\"116\" y=\"383.1074\">packet primary header</text><line style=\"stroke: #383838; stroke-width: 1.5;\" x1=\"92.5\" x2=\"281.5\" y1=\"390.9375\" y2=\"390.9375\"/><text fill=\"#000000\" font-family=\"sans-serif\" font-size=\"11\" lengthAdjust=\"spacingAndGlyphs\" textLength=\"153\" x=\"97.5\" y=\"421.9526\">packet data length: Integer</text><text fill=\"#000000\" font-family=\"sans-serif\" font-size=\"11\" lengthAdjust=\"spacingAndGlyphs\" textLength=\"155\" x=\"97.5\" y=\"434.7573\">packet identification: String</text><text fill=\"#000000\" font-family=\"sans-serif\" font-size=\"11\" lengthAdjust=\"spacingAndGlyphs\" textLength=\"179\" x=\"97.5\" y=\"447.562\">packet version number: Integer</text><line style=\"stroke: #383838; stroke-width: 1.0;\" x1=\"92.5\" x2=\"159.5\" y1=\"405.3398\" y2=\"405.3398\"/><text fill=\"#000000\" font-family=\"sans-serif\" font-size=\"11\" lengthAdjust=\"spacingAndGlyphs\" textLength=\"55\" x=\"159.5\" y=\"408.6479\">attributes</text><line style=\"stroke: #383838; stroke-width: 1.0;\" x1=\"214.5\" x2=\"281.5\" y1=\"405.3398\" y2=\"405.3398\"/></a><!--MD5=[2156ba9850f5573cc1fc38a6a4b2f02b]\n",
       "class E7--><a href=\"psysml:e649f067-3966-42a9-912a-f470df4c2484\" target=\"_top\" title=\"psysml:e649f067-3966-42a9-912a-f470df4c2484\" xlink:actuate=\"onRequest\" xlink:href=\"psysml:e649f067-3966-42a9-912a-f470df4c2484\" xlink:show=\"new\" xlink:title=\"psysml:e649f067-3966-42a9-912a-f470df4c2484\" xlink:type=\"simple\"><rect fill=\"#FFFFFF\" height=\"45.9375\" id=\"E7\" rx=\"10\" ry=\"10\" style=\"stroke: #383838; stroke-width: 1.5;\" width=\"112\" x=\"318\" y=\"380.5\"/><text fill=\"#000000\" font-family=\"sans-serif\" font-size=\"12\" font-style=\"italic\" lengthAdjust=\"spacingAndGlyphs\" textLength=\"69\" x=\"339.5\" y=\"396.6387\">«attribute»</text><text fill=\"#000000\" font-family=\"sans-serif\" font-size=\"12\" lengthAdjust=\"spacingAndGlyphs\" textLength=\"106\" x=\"321\" y=\"410.6074\">packet data field</text><line style=\"stroke: #383838; stroke-width: 1.5;\" x1=\"319\" x2=\"429\" y1=\"418.4375\" y2=\"418.4375\"/></a><!--MD5=[fd4143e9d270a159db93a4ea2a975926]\n",
       "class E9--><a href=\"psysml:9d2256ff-aa99-47f6-ab60-2a2dbee9749e\" target=\"_top\" title=\"psysml:9d2256ff-aa99-47f6-ab60-2a2dbee9749e\" xlink:actuate=\"onRequest\" xlink:href=\"psysml:9d2256ff-aa99-47f6-ab60-2a2dbee9749e\" xlink:show=\"new\" xlink:title=\"psysml:9d2256ff-aa99-47f6-ab60-2a2dbee9749e\" xlink:type=\"simple\"><rect fill=\"#FFFFFF\" height=\"113.9609\" id=\"E9\" rx=\"10\" ry=\"10\" style=\"stroke: #383838; stroke-width: 1.5;\" width=\"219\" x=\"215.5\" y=\"116\"/><text fill=\"#000000\" font-family=\"sans-serif\" font-size=\"12\" font-style=\"italic\" lengthAdjust=\"spacingAndGlyphs\" textLength=\"69\" x=\"290.5\" y=\"132.1387\">«attribute»</text><text fill=\"#000000\" font-family=\"sans-serif\" font-size=\"12\" lengthAdjust=\"spacingAndGlyphs\" textLength=\"106\" x=\"272\" y=\"146.1074\">packet data field</text><line style=\"stroke: #383838; stroke-width: 1.5;\" x1=\"216.5\" x2=\"433.5\" y1=\"153.9375\" y2=\"153.9375\"/><text fill=\"#000000\" font-family=\"sans-serif\" font-size=\"11\" lengthAdjust=\"spacingAndGlyphs\" textLength=\"144\" x=\"221.5\" y=\"184.9526\">packet secondary header</text><text fill=\"#000000\" font-family=\"sans-serif\" font-size=\"11\" font-style=\"italic\" lengthAdjust=\"spacingAndGlyphs\" textLength=\"155\" x=\"221.5\" y=\"197.7573\">:&gt;&gt;Packets::packet header</text><text fill=\"#000000\" font-family=\"sans-serif\" font-size=\"11\" lengthAdjust=\"spacingAndGlyphs\" textLength=\"83\" x=\"221.5\" y=\"210.562\">user data field</text><text fill=\"#000000\" font-family=\"sans-serif\" font-size=\"11\" font-style=\"italic\" lengthAdjust=\"spacingAndGlyphs\" textLength=\"207\" x=\"221.5\" y=\"223.3667\">:&gt;&gt;packet data field::user data field</text><line style=\"stroke: #383838; stroke-width: 1.0;\" x1=\"216.5\" x2=\"297.5\" y1=\"168.3398\" y2=\"168.3398\"/><text fill=\"#000000\" font-family=\"sans-serif\" font-size=\"11\" lengthAdjust=\"spacingAndGlyphs\" textLength=\"55\" x=\"297.5\" y=\"171.6479\">attributes</text><line style=\"stroke: #383838; stroke-width: 1.0;\" x1=\"352.5\" x2=\"433.5\" y1=\"168.3398\" y2=\"168.3398\"/></a><!--MD5=[a717450b82c80b9240a525fa862496af]\n",
       "link E6 to E3--><a href=\"psysml:6aaaf2f4-4b2b-4d4a-ac54-83bc6d358576\" target=\"_top\" title=\"psysml:6aaaf2f4-4b2b-4d4a-ac54-83bc6d358576\" xlink:actuate=\"onRequest\" xlink:href=\"psysml:6aaaf2f4-4b2b-4d4a-ac54-83bc6d358576\" xlink:show=\"new\" xlink:title=\"psysml:6aaaf2f4-4b2b-4d4a-ac54-83bc6d358576\" xlink:type=\"simple\"><path d=\"M187,454.27 C187,472.09 187,492 187,509.13 \" fill=\"none\" id=\"E6-&gt;E3\" style=\"stroke: #383838; stroke-width: 1.0;\"/><polygon fill=\"#FFFFFF\" points=\"187,529.32,180,510.32,194,510.32,187,529.32\" style=\"stroke: #383838; stroke-width: 1.0;\"/><line style=\"stroke: #383838; stroke-width: 2.0;\" x1=\"180\" x2=\"194\" y1=\"506.52\" y2=\"506.52\"/></a><!--MD5=[6bdd27f9905911a7e892a3dc65cf6b7c]\n",
       "link E7 to E4--><a href=\"psysml:895bc16e-261f-455c-84ef-7cbef2b79206\" target=\"_top\" title=\"psysml:895bc16e-261f-455c-84ef-7cbef2b79206\" xlink:actuate=\"onRequest\" xlink:href=\"psysml:895bc16e-261f-455c-84ef-7cbef2b79206\" xlink:show=\"new\" xlink:title=\"psysml:895bc16e-261f-455c-84ef-7cbef2b79206\" xlink:type=\"simple\"><path d=\"M375.65,426.51 C376.76,441.33 378.28,461.76 379.79,481.81 \" fill=\"none\" id=\"E7-&gt;E4\" style=\"stroke: #383838; stroke-width: 1.0;\"/><polygon fill=\"#FFFFFF\" points=\"381.29,501.92,372.8847,483.4985,386.8452,482.4485,381.29,501.92\" style=\"stroke: #383838; stroke-width: 1.0;\"/><line style=\"stroke: #383838; stroke-width: 2.0;\" x1=\"372.5996\" x2=\"386.5602\" y1=\"479.7092\" y2=\"478.6592\"/></a><!--MD5=[1ccb2481ffa92f8d51a74ee30c51832a]\n",
       "link E8 to E5--><a href=\"psysml:8c509f82-013b-4383-9ee5-07fa63a1b780\" target=\"_top\" title=\"psysml:8c509f82-013b-4383-9ee5-07fa63a1b780\" xlink:actuate=\"onRequest\" xlink:href=\"psysml:8c509f82-013b-4383-9ee5-07fa63a1b780\" xlink:show=\"new\" xlink:title=\"psysml:8c509f82-013b-4383-9ee5-07fa63a1b780\" xlink:type=\"simple\"><path d=\"M185.8727,254.1745 C185.8155,254.3239 185.7577,254.473 185.6992,254.6218 C185.5822,254.9195 185.4627,255.2159 185.3406,255.5112 C185.0964,256.1017 184.8418,256.6872 184.5764,257.2676 C182.4536,261.9102 179.645,266.2163 176,270 C160.38,286.22 91.49,262.67 75,278 C72.4781,280.3456 70.1946,282.8739 68.1298,285.5534 C67.0973,286.8931 66.1196,288.2707 65.194,289.6822 C64.7312,290.3879 64.2814,291.1021 63.8444,291.8243 C63.6259,292.1854 63.4105,292.5485 63.1984,292.9135 C63.0923,293.0961 62.987,293.2791 62.8824,293.4625 \" fill=\"none\" id=\"E8-&gt;E5\" style=\"stroke: #383838; stroke-width: 1.0;\"/><polygon fill=\"#FFFFFF\" points=\"62.8824,293.4625,78.3697,280.4185,66.2052,273.4886,62.8824,293.4625\" style=\"stroke: #383838; stroke-width: 1.0;\"/></a><!--MD5=[c2be97adba6ddfe1c8f349fab141c927]\n",
       "link E9 to E4--><a href=\"psysml:a0ec1df7-1b05-4d8f-b92a-b996d3ea1089\" target=\"_top\" title=\"psysml:a0ec1df7-1b05-4d8f-b92a-b996d3ea1089\" xlink:actuate=\"onRequest\" xlink:href=\"psysml:a0ec1df7-1b05-4d8f-b92a-b996d3ea1089\" xlink:show=\"new\" xlink:title=\"psysml:a0ec1df7-1b05-4d8f-b92a-b996d3ea1089\" xlink:type=\"simple\"><path d=\"M410.08,230.15 C424.65,243.94 437.74,260 446,278 C483.4,359.45 484.12,400.26 449.85,483.4 \" fill=\"none\" id=\"E9-&gt;E4\" style=\"stroke: #383838; stroke-width: 1.0;\"/><polygon fill=\"#FFFFFF\" points=\"442,501.81,443.0106,481.5868,455.8895,487.0763,442,501.81\" style=\"stroke: #383838; stroke-width: 1.0;\"/><line style=\"stroke: #383838; stroke-width: 2.0;\" x1=\"444.5006\" x2=\"457.3795\" y1=\"478.0911\" y2=\"483.5806\"/></a><!--MD5=[a3cad405bf9ad54e31c5435050e22bc3]\n",
       "@startuml\r\n",
       "skinparam ranksep 10\r\n",
       "skinparam rectangle {\r\n",
       " backgroundColor<<block>> LightGreen\r\n",
       "}\r\n",
       "top to bottom direction\r\n",
       "skinparam monochrome true\r\n",
       "skinparam classbackgroundcolor white\r\n",
       "skinparam shadowing false\r\n",
       "skinparam wrapWidth 300\r\n",
       "hide circle\r\n",
       "\r\n",
       "package \"Packets\" as E1  [[psysml:781596e5-2fdd-47e5-84a9-0e1e2d017791 ]]  {\r\n",
       "def \"DateTime\" as E2  <<(T,blue)attribute def>> [[psysml:09967ea5-e8af-470d-92d0-5553b1044725 ]] \r\n",
       "comp usage \"packet header\" as E3  <<(T,blue)attribute>> [[psysml:16b22f80-f2ca-4440-a25c-8e72c7cab96e ]] {\r\n",
       "}\r\n",
       "comp usage \"packet data field\" as E4  <<(T,blue)attribute>> [[psysml:7e904c0e-d2a4-45ad-bef1-7051678b2240 ]] {\r\n",
       "- - attributes - -\r\n",
       "packet secondary header\\n//:>>Packets::packet header// \r\n",
       "user data field\r\n",
       "}\r\n",
       "rec def \"Data Packet\" as E5  <<(T,blue)part def>> [[psysml:7a510d36-5831-409f-9d62-08a185df40ba ]] {\r\n",
       "comp usage \"packet primary header\" as E6  <<(T,blue)attribute>> [[psysml:8bac5b56-bd53-4c22-88f8-0cbcb8384e0b ]] {\r\n",
       "- - attributes - -\r\n",
       "packet data length: Integer\r\n",
       "packet identification: String\r\n",
       "packet version number: Integer\r\n",
       "}\r\n",
       "comp usage \"packet data field\" as E7  <<(T,blue)attribute>> [[psysml:e649f067-3966-42a9-912a-f470df4c2484 ]] {\r\n",
       "}\r\n",
       "}\r\n",
       "rec def \"Thermal Data Packet\" as E8  <<(T,blue)part def>> [[psysml:10023c3e-6ce6-4816-9fb9-6800bd66eb89 ]] {\r\n",
       "comp usage \"packet data field\" as E9  <<(T,blue)attribute>> [[psysml:9d2256ff-aa99-47f6-ab60-2a2dbee9749e ]] {\r\n",
       "- - attributes - -\r\n",
       "packet secondary header\\n//:>>Packets::packet header// \r\n",
       "user data field\\n//:>>packet data field::user data field// \r\n",
       "}\r\n",
       "}\r\n",
       "E6 - -||> E3 [[psysml:6aaaf2f4-4b2b-4d4a-ac54-83bc6d358576 ]] \r\n",
       "E7 - -||> E4 [[psysml:895bc16e-261f-455c-84ef-7cbef2b79206 ]] \r\n",
       "E8 - -|> E5 [[psysml:8c509f82-013b-4383-9ee5-07fa63a1b780 ]] \r\n",
       "E9 - -||> E4 [[psysml:a0ec1df7-1b05-4d8f-b92a-b996d3ea1089 ]] \r\n",
       "}\r\n",
       "@enduml\r\n",
       "\n",
       "PlantUML version 1.2020.13(Sat Jun 13 12:26:38 UTC 2020)\n",
       "(EPL source distribution)\n",
       "Java Runtime: OpenJDK Runtime Environment\n",
       "JVM: OpenJDK 64-Bit Server VM\n",
       "Default Encoding: UTF-8\n",
       "Language: en\n",
       "Country: null\n",
       "--></g></svg>"
      ]
     },
     "execution_count": 47,
     "metadata": {},
     "output_type": "execute_result"
    }
   ],
   "source": [
    "%viz --style=\"TB\" --view=\"Interconnection\" \"Packets\""
   ]
  },
  {
   "cell_type": "code",
   "execution_count": 48,
   "id": "eb393756",
   "metadata": {
    "execution": {
     "iopub.execute_input": "2021-04-20T07:33:58.683597Z",
     "iopub.status.busy": "2021-04-20T07:33:58.683041Z",
     "iopub.status.idle": "2021-04-20T07:33:58.688163Z",
     "shell.execute_reply": "2021-04-20T07:33:58.687651Z"
    }
   },
   "outputs": [
    {
     "data": {
      "image/svg+xml": [
       "<?xml version=\"1.0\" encoding=\"UTF-8\" standalone=\"no\"?><svg xmlns=\"http://www.w3.org/2000/svg\" xmlns:xlink=\"http://www.w3.org/1999/xlink\" contentScriptType=\"application/ecmascript\" contentStyleType=\"text/css\" height=\"12px\" preserveAspectRatio=\"none\" style=\"width:12px;height:12px;\" version=\"1.1\" viewBox=\"0 0 12 12\" width=\"12px\" zoomAndPan=\"magnify\"><defs/><g><!--MD5=[06afc254b03ac5e9d9fb7773b07d0800]\n",
       "@startuml\r\n",
       "skinparam ranksep 8\r\n",
       "top to bottom direction\r\n",
       "skinparam monochrome true\r\n",
       "skinparam classbackgroundcolor white\r\n",
       "skinparam shadowing false\r\n",
       "skinparam wrapWidth 300\r\n",
       "hide circle\r\n",
       "\r\n",
       "@enduml\r\n",
       "\n",
       "PlantUML version 1.2020.13(Sat Jun 13 12:26:38 UTC 2020)\n",
       "(EPL source distribution)\n",
       "Java Runtime: OpenJDK Runtime Environment\n",
       "JVM: OpenJDK 64-Bit Server VM\n",
       "Default Encoding: UTF-8\n",
       "Language: en\n",
       "Country: null\n",
       "--></g></svg>"
      ]
     },
     "execution_count": 48,
     "metadata": {},
     "output_type": "execute_result"
    }
   ],
   "source": [
    "%viz --style=\"TB\" --view=\"Action\" \"Packets\""
   ]
  },
  {
   "cell_type": "code",
   "execution_count": 49,
   "id": "abe89eb4",
   "metadata": {
    "execution": {
     "iopub.execute_input": "2021-04-20T07:33:58.739075Z",
     "iopub.status.busy": "2021-04-20T07:33:58.738406Z",
     "iopub.status.idle": "2021-04-20T07:33:58.878686Z",
     "shell.execute_reply": "2021-04-20T07:33:58.876801Z"
    }
   },
   "outputs": [
    {
     "data": {
      "image/svg+xml": [
       "<?xml version=\"1.0\" encoding=\"UTF-8\" standalone=\"no\"?><svg xmlns=\"http://www.w3.org/2000/svg\" xmlns:xlink=\"http://www.w3.org/1999/xlink\" contentScriptType=\"application/ecmascript\" contentStyleType=\"text/css\" height=\"344px\" preserveAspectRatio=\"none\" style=\"width:716px;height:344px;\" version=\"1.1\" viewBox=\"0 0 716 344\" width=\"716px\" zoomAndPan=\"magnify\"><defs/><g><!--MD5=[fbc87193dbaf4d95561dea2c320d4a47]\n",
       "cluster E1--><a href=\"psysml:781596e5-2fdd-47e5-84a9-0e1e2d017791\" target=\"_top\" title=\"psysml:781596e5-2fdd-47e5-84a9-0e1e2d017791\" xlink:actuate=\"onRequest\" xlink:href=\"psysml:781596e5-2fdd-47e5-84a9-0e1e2d017791\" xlink:show=\"new\" xlink:title=\"psysml:781596e5-2fdd-47e5-84a9-0e1e2d017791\" xlink:type=\"simple\"><polygon fill=\"#FFFFFF\" points=\"16,6,84,6,91,28.2969,694,28.2969,694,332,16,332,16,6\" style=\"stroke: #000000; stroke-width: 1.5;\"/><line style=\"stroke: #000000; stroke-width: 1.5;\" x1=\"16\" x2=\"91\" y1=\"28.2969\" y2=\"28.2969\"/><text fill=\"#000000\" font-family=\"sans-serif\" font-size=\"14\" font-weight=\"bold\" lengthAdjust=\"spacingAndGlyphs\" textLength=\"62\" x=\"20\" y=\"20.9951\">Packets</text></a><!--MD5=[b4997ac47864f28c2f74865a473b2911]\n",
       "class E2--><a href=\"psysml:09967ea5-e8af-470d-92d0-5553b1044725\" target=\"_top\" title=\"psysml:09967ea5-e8af-470d-92d0-5553b1044725\" xlink:actuate=\"onRequest\" xlink:href=\"psysml:09967ea5-e8af-470d-92d0-5553b1044725\" xlink:show=\"new\" xlink:title=\"psysml:09967ea5-e8af-470d-92d0-5553b1044725\" xlink:type=\"simple\"><rect fill=\"#FFFFFF\" height=\"45.9375\" id=\"E2\" style=\"stroke: #383838; stroke-width: 1.5;\" width=\"95\" x=\"582.5\" y=\"68.5\"/><text fill=\"#000000\" font-family=\"sans-serif\" font-size=\"12\" font-style=\"italic\" lengthAdjust=\"spacingAndGlyphs\" textLength=\"93\" x=\"583.5\" y=\"84.6387\">«attribute def»</text><text fill=\"#000000\" font-family=\"sans-serif\" font-size=\"12\" lengthAdjust=\"spacingAndGlyphs\" textLength=\"59\" x=\"600.5\" y=\"98.6074\">DateTime</text><line style=\"stroke: #383838; stroke-width: 1.5;\" x1=\"583.5\" x2=\"676.5\" y1=\"106.4375\" y2=\"106.4375\"/></a><!--MD5=[09b614a08d8cba4a07c9adeb5e0fee81]\n",
       "class E3--><a href=\"psysml:16b22f80-f2ca-4440-a25c-8e72c7cab96e\" target=\"_top\" title=\"psysml:16b22f80-f2ca-4440-a25c-8e72c7cab96e\" xlink:actuate=\"onRequest\" xlink:href=\"psysml:16b22f80-f2ca-4440-a25c-8e72c7cab96e\" xlink:show=\"new\" xlink:title=\"psysml:16b22f80-f2ca-4440-a25c-8e72c7cab96e\" xlink:type=\"simple\"><rect fill=\"#FFFFFF\" height=\"45.9375\" id=\"E3\" rx=\"10\" ry=\"10\" style=\"stroke: #383838; stroke-width: 1.5;\" width=\"98\" x=\"449\" y=\"68.5\"/><text fill=\"#000000\" font-family=\"sans-serif\" font-size=\"12\" font-style=\"italic\" lengthAdjust=\"spacingAndGlyphs\" textLength=\"69\" x=\"463.5\" y=\"84.6387\">«attribute»</text><text fill=\"#000000\" font-family=\"sans-serif\" font-size=\"12\" lengthAdjust=\"spacingAndGlyphs\" textLength=\"92\" x=\"452\" y=\"98.6074\">packet header</text><line style=\"stroke: #383838; stroke-width: 1.5;\" x1=\"450\" x2=\"546\" y1=\"106.4375\" y2=\"106.4375\"/></a><!--MD5=[ebbe1d658d1005bcc118a6aa81145e00]\n",
       "class E4--><a href=\"psysml:7e904c0e-d2a4-45ad-bef1-7051678b2240\" target=\"_top\" title=\"psysml:7e904c0e-d2a4-45ad-bef1-7051678b2240\" xlink:actuate=\"onRequest\" xlink:href=\"psysml:7e904c0e-d2a4-45ad-bef1-7051678b2240\" xlink:show=\"new\" xlink:title=\"psysml:7e904c0e-d2a4-45ad-bef1-7051678b2240\" xlink:type=\"simple\"><rect fill=\"#FFFFFF\" height=\"101.1563\" id=\"E4\" rx=\"10\" ry=\"10\" style=\"stroke: #383838; stroke-width: 1.5;\" width=\"167\" x=\"247.5\" y=\"41\"/><text fill=\"#000000\" font-family=\"sans-serif\" font-size=\"12\" font-style=\"italic\" lengthAdjust=\"spacingAndGlyphs\" textLength=\"69\" x=\"296.5\" y=\"57.1387\">«attribute»</text><text fill=\"#000000\" font-family=\"sans-serif\" font-size=\"12\" lengthAdjust=\"spacingAndGlyphs\" textLength=\"106\" x=\"278\" y=\"71.1074\">packet data field</text><line style=\"stroke: #383838; stroke-width: 1.5;\" x1=\"248.5\" x2=\"413.5\" y1=\"78.9375\" y2=\"78.9375\"/><text fill=\"#000000\" font-family=\"sans-serif\" font-size=\"11\" lengthAdjust=\"spacingAndGlyphs\" textLength=\"144\" x=\"253.5\" y=\"109.9526\">packet secondary header</text><text fill=\"#000000\" font-family=\"sans-serif\" font-size=\"11\" font-style=\"italic\" lengthAdjust=\"spacingAndGlyphs\" textLength=\"155\" x=\"253.5\" y=\"122.7573\">:&gt;&gt;Packets::packet header</text><text fill=\"#000000\" font-family=\"sans-serif\" font-size=\"11\" lengthAdjust=\"spacingAndGlyphs\" textLength=\"83\" x=\"253.5\" y=\"135.562\">user data field</text><line style=\"stroke: #383838; stroke-width: 1.0;\" x1=\"248.5\" x2=\"303.5\" y1=\"93.3398\" y2=\"93.3398\"/><text fill=\"#000000\" font-family=\"sans-serif\" font-size=\"11\" lengthAdjust=\"spacingAndGlyphs\" textLength=\"55\" x=\"303.5\" y=\"96.6479\">attributes</text><line style=\"stroke: #383838; stroke-width: 1.0;\" x1=\"358.5\" x2=\"413.5\" y1=\"93.3398\" y2=\"93.3398\"/></a><!--MD5=[270fce915f116d4de14055a7c1d9a0f3]\n",
       "class E5--><a href=\"psysml:7a510d36-5831-409f-9d62-08a185df40ba\" target=\"_top\" title=\"psysml:7a510d36-5831-409f-9d62-08a185df40ba\" xlink:actuate=\"onRequest\" xlink:href=\"psysml:7a510d36-5831-409f-9d62-08a185df40ba\" xlink:show=\"new\" xlink:title=\"psysml:7a510d36-5831-409f-9d62-08a185df40ba\" xlink:type=\"simple\"><rect fill=\"#FFFFFF\" height=\"113.9609\" id=\"E5\" style=\"stroke: #383838; stroke-width: 1.5;\" width=\"180\" x=\"32\" y=\"202\"/><text fill=\"#000000\" font-family=\"sans-serif\" font-size=\"12\" font-style=\"italic\" lengthAdjust=\"spacingAndGlyphs\" textLength=\"64\" x=\"90\" y=\"218.1387\">«part def»</text><text fill=\"#000000\" font-family=\"sans-serif\" font-size=\"12\" lengthAdjust=\"spacingAndGlyphs\" textLength=\"77\" x=\"83.5\" y=\"232.1074\">Data Packet</text><line style=\"stroke: #383838; stroke-width: 1.5;\" x1=\"33\" x2=\"211\" y1=\"239.9375\" y2=\"239.9375\"/><text fill=\"#000000\" font-family=\"sans-serif\" font-size=\"11\" lengthAdjust=\"spacingAndGlyphs\" textLength=\"94\" x=\"38\" y=\"270.9526\">packet data field</text><text fill=\"#000000\" font-family=\"sans-serif\" font-size=\"11\" font-style=\"italic\" lengthAdjust=\"spacingAndGlyphs\" textLength=\"168\" x=\"38\" y=\"283.7573\">:&gt;&gt;Packets::packet data field</text><text fill=\"#000000\" font-family=\"sans-serif\" font-size=\"11\" lengthAdjust=\"spacingAndGlyphs\" textLength=\"129\" x=\"38\" y=\"296.562\">packet primary header</text><text fill=\"#000000\" font-family=\"sans-serif\" font-size=\"11\" font-style=\"italic\" lengthAdjust=\"spacingAndGlyphs\" textLength=\"155\" x=\"38\" y=\"309.3667\">:&gt;&gt;Packets::packet header</text><line style=\"stroke: #383838; stroke-width: 1.0;\" x1=\"33\" x2=\"94.5\" y1=\"254.3398\" y2=\"254.3398\"/><text fill=\"#000000\" font-family=\"sans-serif\" font-size=\"11\" lengthAdjust=\"spacingAndGlyphs\" textLength=\"55\" x=\"94.5\" y=\"257.6479\">attributes</text><line style=\"stroke: #383838; stroke-width: 1.0;\" x1=\"149.5\" x2=\"211\" y1=\"254.3398\" y2=\"254.3398\"/></a><!--MD5=[60a26617385b1d2d0262a64233df1f8d]\n",
       "class E6--><a href=\"psysml:10023c3e-6ce6-4816-9fb9-6800bd66eb89\" target=\"_top\" title=\"psysml:10023c3e-6ce6-4816-9fb9-6800bd66eb89\" xlink:actuate=\"onRequest\" xlink:href=\"psysml:10023c3e-6ce6-4816-9fb9-6800bd66eb89\" xlink:show=\"new\" xlink:title=\"psysml:10023c3e-6ce6-4816-9fb9-6800bd66eb89\" xlink:type=\"simple\"><rect fill=\"#FFFFFF\" height=\"88.3516\" id=\"E6\" style=\"stroke: #383838; stroke-width: 1.5;\" width=\"180\" x=\"32\" y=\"47.5\"/><text fill=\"#000000\" font-family=\"sans-serif\" font-size=\"12\" font-style=\"italic\" lengthAdjust=\"spacingAndGlyphs\" textLength=\"64\" x=\"90\" y=\"63.6387\">«part def»</text><text fill=\"#000000\" font-family=\"sans-serif\" font-size=\"12\" lengthAdjust=\"spacingAndGlyphs\" textLength=\"131\" x=\"56.5\" y=\"77.6074\">Thermal Data Packet</text><line style=\"stroke: #383838; stroke-width: 1.5;\" x1=\"33\" x2=\"211\" y1=\"85.4375\" y2=\"85.4375\"/><text fill=\"#000000\" font-family=\"sans-serif\" font-size=\"11\" lengthAdjust=\"spacingAndGlyphs\" textLength=\"94\" x=\"38\" y=\"116.4526\">packet data field</text><text fill=\"#000000\" font-family=\"sans-serif\" font-size=\"11\" font-style=\"italic\" lengthAdjust=\"spacingAndGlyphs\" textLength=\"168\" x=\"38\" y=\"129.2573\">:&gt;&gt;Packets::packet data field</text><line style=\"stroke: #383838; stroke-width: 1.0;\" x1=\"33\" x2=\"94.5\" y1=\"99.8398\" y2=\"99.8398\"/><text fill=\"#000000\" font-family=\"sans-serif\" font-size=\"11\" lengthAdjust=\"spacingAndGlyphs\" textLength=\"55\" x=\"94.5\" y=\"103.1479\">attributes</text><line style=\"stroke: #383838; stroke-width: 1.0;\" x1=\"149.5\" x2=\"211\" y1=\"99.8398\" y2=\"99.8398\"/></a><!--MD5=[25b190c987b1e74e5126d372c5a73af1]\n",
       "link E6 to E5--><a href=\"psysml:8c509f82-013b-4383-9ee5-07fa63a1b780\" target=\"_top\" title=\"psysml:8c509f82-013b-4383-9ee5-07fa63a1b780\" xlink:actuate=\"onRequest\" xlink:href=\"psysml:8c509f82-013b-4383-9ee5-07fa63a1b780\" xlink:show=\"new\" xlink:title=\"psysml:8c509f82-013b-4383-9ee5-07fa63a1b780\" xlink:type=\"simple\"><path d=\"M122,135.55 C122,149.68 122,165.84 122,181.67 \" fill=\"none\" id=\"E6-&gt;E5\" style=\"stroke: #383838; stroke-width: 1.0;\"/><polygon fill=\"none\" points=\"129,181.75,122,201.75,115,181.75,129,181.75\" style=\"stroke: #383838; stroke-width: 1.0;\"/></a><!--MD5=[333fbf08e05dfdeeca9b8ab71231babc]\n",
       "@startuml\r\n",
       "top to bottom direction\r\n",
       "skinparam monochrome true\r\n",
       "skinparam classbackgroundcolor white\r\n",
       "skinparam shadowing false\r\n",
       "skinparam wrapWidth 300\r\n",
       "hide circle\r\n",
       "\r\n",
       "package \"Packets\" as E1  [[psysml:781596e5-2fdd-47e5-84a9-0e1e2d017791 ]]  {\r\n",
       "comp def \"DateTime\" as E2  <<(T,blue)attribute def>> [[psysml:09967ea5-e8af-470d-92d0-5553b1044725 ]] {\r\n",
       "}\r\n",
       "comp usage \"packet header\" as E3  <<(T,blue)attribute>> [[psysml:16b22f80-f2ca-4440-a25c-8e72c7cab96e ]] {\r\n",
       "}\r\n",
       "comp usage \"packet data field\" as E4  <<(T,blue)attribute>> [[psysml:7e904c0e-d2a4-45ad-bef1-7051678b2240 ]] {\r\n",
       "- - attributes - -\r\n",
       "packet secondary header\\n//:>>Packets::packet header// \r\n",
       "user data field\r\n",
       "}\r\n",
       "comp def \"Data Packet\" as E5  <<(T,blue)part def>> [[psysml:7a510d36-5831-409f-9d62-08a185df40ba ]] {\r\n",
       "- - attributes - -\r\n",
       "packet data field\\n//:>>Packets::packet data field// \r\n",
       "packet primary header\\n//:>>Packets::packet header// \r\n",
       "}\r\n",
       "comp def \"Thermal Data Packet\" as E6  <<(T,blue)part def>> [[psysml:10023c3e-6ce6-4816-9fb9-6800bd66eb89 ]] {\r\n",
       "- - attributes - -\r\n",
       "packet data field\\n//:>>Packets::packet data field// \r\n",
       "}\r\n",
       "E6 - -|> E5 [[psysml:8c509f82-013b-4383-9ee5-07fa63a1b780 ]] \r\n",
       "}\r\n",
       "@enduml\r\n",
       "\n",
       "PlantUML version 1.2020.13(Sat Jun 13 12:26:38 UTC 2020)\n",
       "(EPL source distribution)\n",
       "Java Runtime: OpenJDK Runtime Environment\n",
       "JVM: OpenJDK 64-Bit Server VM\n",
       "Default Encoding: UTF-8\n",
       "Language: en\n",
       "Country: null\n",
       "--></g></svg>"
      ]
     },
     "execution_count": 49,
     "metadata": {},
     "output_type": "execute_result"
    }
   ],
   "source": [
    "%viz --style=\"TB\" --view=\"Sequence\" \"Packets\""
   ]
  },
  {
   "cell_type": "code",
   "execution_count": 50,
   "id": "afff2515",
   "metadata": {
    "execution": {
     "iopub.execute_input": "2021-04-20T07:33:58.927927Z",
     "iopub.status.busy": "2021-04-20T07:33:58.927546Z",
     "iopub.status.idle": "2021-04-20T07:33:59.066499Z",
     "shell.execute_reply": "2021-04-20T07:33:59.064842Z"
    }
   },
   "outputs": [
    {
     "data": {
      "image/svg+xml": [
       "<?xml version=\"1.0\" encoding=\"UTF-8\" standalone=\"no\"?><svg xmlns=\"http://www.w3.org/2000/svg\" xmlns:xlink=\"http://www.w3.org/1999/xlink\" contentScriptType=\"application/ecmascript\" contentStyleType=\"text/css\" height=\"344px\" preserveAspectRatio=\"none\" style=\"width:716px;height:344px;\" version=\"1.1\" viewBox=\"0 0 716 344\" width=\"716px\" zoomAndPan=\"magnify\"><defs/><g><!--MD5=[fbc87193dbaf4d95561dea2c320d4a47]\n",
       "cluster E1--><a href=\"psysml:781596e5-2fdd-47e5-84a9-0e1e2d017791\" target=\"_top\" title=\"psysml:781596e5-2fdd-47e5-84a9-0e1e2d017791\" xlink:actuate=\"onRequest\" xlink:href=\"psysml:781596e5-2fdd-47e5-84a9-0e1e2d017791\" xlink:show=\"new\" xlink:title=\"psysml:781596e5-2fdd-47e5-84a9-0e1e2d017791\" xlink:type=\"simple\"><polygon fill=\"#FFFFFF\" points=\"16,6,84,6,91,28.2969,694,28.2969,694,332,16,332,16,6\" style=\"stroke: #000000; stroke-width: 1.5;\"/><line style=\"stroke: #000000; stroke-width: 1.5;\" x1=\"16\" x2=\"91\" y1=\"28.2969\" y2=\"28.2969\"/><text fill=\"#000000\" font-family=\"sans-serif\" font-size=\"14\" font-weight=\"bold\" lengthAdjust=\"spacingAndGlyphs\" textLength=\"62\" x=\"20\" y=\"20.9951\">Packets</text></a><!--MD5=[b4997ac47864f28c2f74865a473b2911]\n",
       "class E2--><a href=\"psysml:09967ea5-e8af-470d-92d0-5553b1044725\" target=\"_top\" title=\"psysml:09967ea5-e8af-470d-92d0-5553b1044725\" xlink:actuate=\"onRequest\" xlink:href=\"psysml:09967ea5-e8af-470d-92d0-5553b1044725\" xlink:show=\"new\" xlink:title=\"psysml:09967ea5-e8af-470d-92d0-5553b1044725\" xlink:type=\"simple\"><rect fill=\"#FFFFFF\" height=\"45.9375\" id=\"E2\" style=\"stroke: #383838; stroke-width: 1.5;\" width=\"95\" x=\"582.5\" y=\"68.5\"/><text fill=\"#000000\" font-family=\"sans-serif\" font-size=\"12\" font-style=\"italic\" lengthAdjust=\"spacingAndGlyphs\" textLength=\"93\" x=\"583.5\" y=\"84.6387\">«attribute def»</text><text fill=\"#000000\" font-family=\"sans-serif\" font-size=\"12\" lengthAdjust=\"spacingAndGlyphs\" textLength=\"59\" x=\"600.5\" y=\"98.6074\">DateTime</text><line style=\"stroke: #383838; stroke-width: 1.5;\" x1=\"583.5\" x2=\"676.5\" y1=\"106.4375\" y2=\"106.4375\"/></a><!--MD5=[09b614a08d8cba4a07c9adeb5e0fee81]\n",
       "class E3--><a href=\"psysml:16b22f80-f2ca-4440-a25c-8e72c7cab96e\" target=\"_top\" title=\"psysml:16b22f80-f2ca-4440-a25c-8e72c7cab96e\" xlink:actuate=\"onRequest\" xlink:href=\"psysml:16b22f80-f2ca-4440-a25c-8e72c7cab96e\" xlink:show=\"new\" xlink:title=\"psysml:16b22f80-f2ca-4440-a25c-8e72c7cab96e\" xlink:type=\"simple\"><rect fill=\"#FFFFFF\" height=\"45.9375\" id=\"E3\" rx=\"10\" ry=\"10\" style=\"stroke: #383838; stroke-width: 1.5;\" width=\"98\" x=\"449\" y=\"68.5\"/><text fill=\"#000000\" font-family=\"sans-serif\" font-size=\"12\" font-style=\"italic\" lengthAdjust=\"spacingAndGlyphs\" textLength=\"69\" x=\"463.5\" y=\"84.6387\">«attribute»</text><text fill=\"#000000\" font-family=\"sans-serif\" font-size=\"12\" lengthAdjust=\"spacingAndGlyphs\" textLength=\"92\" x=\"452\" y=\"98.6074\">packet header</text><line style=\"stroke: #383838; stroke-width: 1.5;\" x1=\"450\" x2=\"546\" y1=\"106.4375\" y2=\"106.4375\"/></a><!--MD5=[ebbe1d658d1005bcc118a6aa81145e00]\n",
       "class E4--><a href=\"psysml:7e904c0e-d2a4-45ad-bef1-7051678b2240\" target=\"_top\" title=\"psysml:7e904c0e-d2a4-45ad-bef1-7051678b2240\" xlink:actuate=\"onRequest\" xlink:href=\"psysml:7e904c0e-d2a4-45ad-bef1-7051678b2240\" xlink:show=\"new\" xlink:title=\"psysml:7e904c0e-d2a4-45ad-bef1-7051678b2240\" xlink:type=\"simple\"><rect fill=\"#FFFFFF\" height=\"101.1563\" id=\"E4\" rx=\"10\" ry=\"10\" style=\"stroke: #383838; stroke-width: 1.5;\" width=\"167\" x=\"247.5\" y=\"41\"/><text fill=\"#000000\" font-family=\"sans-serif\" font-size=\"12\" font-style=\"italic\" lengthAdjust=\"spacingAndGlyphs\" textLength=\"69\" x=\"296.5\" y=\"57.1387\">«attribute»</text><text fill=\"#000000\" font-family=\"sans-serif\" font-size=\"12\" lengthAdjust=\"spacingAndGlyphs\" textLength=\"106\" x=\"278\" y=\"71.1074\">packet data field</text><line style=\"stroke: #383838; stroke-width: 1.5;\" x1=\"248.5\" x2=\"413.5\" y1=\"78.9375\" y2=\"78.9375\"/><text fill=\"#000000\" font-family=\"sans-serif\" font-size=\"11\" lengthAdjust=\"spacingAndGlyphs\" textLength=\"144\" x=\"253.5\" y=\"109.9526\">packet secondary header</text><text fill=\"#000000\" font-family=\"sans-serif\" font-size=\"11\" font-style=\"italic\" lengthAdjust=\"spacingAndGlyphs\" textLength=\"155\" x=\"253.5\" y=\"122.7573\">:&gt;&gt;Packets::packet header</text><text fill=\"#000000\" font-family=\"sans-serif\" font-size=\"11\" lengthAdjust=\"spacingAndGlyphs\" textLength=\"83\" x=\"253.5\" y=\"135.562\">user data field</text><line style=\"stroke: #383838; stroke-width: 1.0;\" x1=\"248.5\" x2=\"303.5\" y1=\"93.3398\" y2=\"93.3398\"/><text fill=\"#000000\" font-family=\"sans-serif\" font-size=\"11\" lengthAdjust=\"spacingAndGlyphs\" textLength=\"55\" x=\"303.5\" y=\"96.6479\">attributes</text><line style=\"stroke: #383838; stroke-width: 1.0;\" x1=\"358.5\" x2=\"413.5\" y1=\"93.3398\" y2=\"93.3398\"/></a><!--MD5=[270fce915f116d4de14055a7c1d9a0f3]\n",
       "class E5--><a href=\"psysml:7a510d36-5831-409f-9d62-08a185df40ba\" target=\"_top\" title=\"psysml:7a510d36-5831-409f-9d62-08a185df40ba\" xlink:actuate=\"onRequest\" xlink:href=\"psysml:7a510d36-5831-409f-9d62-08a185df40ba\" xlink:show=\"new\" xlink:title=\"psysml:7a510d36-5831-409f-9d62-08a185df40ba\" xlink:type=\"simple\"><rect fill=\"#FFFFFF\" height=\"113.9609\" id=\"E5\" style=\"stroke: #383838; stroke-width: 1.5;\" width=\"180\" x=\"32\" y=\"202\"/><text fill=\"#000000\" font-family=\"sans-serif\" font-size=\"12\" font-style=\"italic\" lengthAdjust=\"spacingAndGlyphs\" textLength=\"64\" x=\"90\" y=\"218.1387\">«part def»</text><text fill=\"#000000\" font-family=\"sans-serif\" font-size=\"12\" lengthAdjust=\"spacingAndGlyphs\" textLength=\"77\" x=\"83.5\" y=\"232.1074\">Data Packet</text><line style=\"stroke: #383838; stroke-width: 1.5;\" x1=\"33\" x2=\"211\" y1=\"239.9375\" y2=\"239.9375\"/><text fill=\"#000000\" font-family=\"sans-serif\" font-size=\"11\" lengthAdjust=\"spacingAndGlyphs\" textLength=\"94\" x=\"38\" y=\"270.9526\">packet data field</text><text fill=\"#000000\" font-family=\"sans-serif\" font-size=\"11\" font-style=\"italic\" lengthAdjust=\"spacingAndGlyphs\" textLength=\"168\" x=\"38\" y=\"283.7573\">:&gt;&gt;Packets::packet data field</text><text fill=\"#000000\" font-family=\"sans-serif\" font-size=\"11\" lengthAdjust=\"spacingAndGlyphs\" textLength=\"129\" x=\"38\" y=\"296.562\">packet primary header</text><text fill=\"#000000\" font-family=\"sans-serif\" font-size=\"11\" font-style=\"italic\" lengthAdjust=\"spacingAndGlyphs\" textLength=\"155\" x=\"38\" y=\"309.3667\">:&gt;&gt;Packets::packet header</text><line style=\"stroke: #383838; stroke-width: 1.0;\" x1=\"33\" x2=\"94.5\" y1=\"254.3398\" y2=\"254.3398\"/><text fill=\"#000000\" font-family=\"sans-serif\" font-size=\"11\" lengthAdjust=\"spacingAndGlyphs\" textLength=\"55\" x=\"94.5\" y=\"257.6479\">attributes</text><line style=\"stroke: #383838; stroke-width: 1.0;\" x1=\"149.5\" x2=\"211\" y1=\"254.3398\" y2=\"254.3398\"/></a><!--MD5=[60a26617385b1d2d0262a64233df1f8d]\n",
       "class E6--><a href=\"psysml:10023c3e-6ce6-4816-9fb9-6800bd66eb89\" target=\"_top\" title=\"psysml:10023c3e-6ce6-4816-9fb9-6800bd66eb89\" xlink:actuate=\"onRequest\" xlink:href=\"psysml:10023c3e-6ce6-4816-9fb9-6800bd66eb89\" xlink:show=\"new\" xlink:title=\"psysml:10023c3e-6ce6-4816-9fb9-6800bd66eb89\" xlink:type=\"simple\"><rect fill=\"#FFFFFF\" height=\"88.3516\" id=\"E6\" style=\"stroke: #383838; stroke-width: 1.5;\" width=\"180\" x=\"32\" y=\"47.5\"/><text fill=\"#000000\" font-family=\"sans-serif\" font-size=\"12\" font-style=\"italic\" lengthAdjust=\"spacingAndGlyphs\" textLength=\"64\" x=\"90\" y=\"63.6387\">«part def»</text><text fill=\"#000000\" font-family=\"sans-serif\" font-size=\"12\" lengthAdjust=\"spacingAndGlyphs\" textLength=\"131\" x=\"56.5\" y=\"77.6074\">Thermal Data Packet</text><line style=\"stroke: #383838; stroke-width: 1.5;\" x1=\"33\" x2=\"211\" y1=\"85.4375\" y2=\"85.4375\"/><text fill=\"#000000\" font-family=\"sans-serif\" font-size=\"11\" lengthAdjust=\"spacingAndGlyphs\" textLength=\"94\" x=\"38\" y=\"116.4526\">packet data field</text><text fill=\"#000000\" font-family=\"sans-serif\" font-size=\"11\" font-style=\"italic\" lengthAdjust=\"spacingAndGlyphs\" textLength=\"168\" x=\"38\" y=\"129.2573\">:&gt;&gt;Packets::packet data field</text><line style=\"stroke: #383838; stroke-width: 1.0;\" x1=\"33\" x2=\"94.5\" y1=\"99.8398\" y2=\"99.8398\"/><text fill=\"#000000\" font-family=\"sans-serif\" font-size=\"11\" lengthAdjust=\"spacingAndGlyphs\" textLength=\"55\" x=\"94.5\" y=\"103.1479\">attributes</text><line style=\"stroke: #383838; stroke-width: 1.0;\" x1=\"149.5\" x2=\"211\" y1=\"99.8398\" y2=\"99.8398\"/></a><!--MD5=[25b190c987b1e74e5126d372c5a73af1]\n",
       "link E6 to E5--><a href=\"psysml:8c509f82-013b-4383-9ee5-07fa63a1b780\" target=\"_top\" title=\"psysml:8c509f82-013b-4383-9ee5-07fa63a1b780\" xlink:actuate=\"onRequest\" xlink:href=\"psysml:8c509f82-013b-4383-9ee5-07fa63a1b780\" xlink:show=\"new\" xlink:title=\"psysml:8c509f82-013b-4383-9ee5-07fa63a1b780\" xlink:type=\"simple\"><path d=\"M122,135.55 C122,149.68 122,165.84 122,181.67 \" fill=\"none\" id=\"E6-&gt;E5\" style=\"stroke: #383838; stroke-width: 1.0;\"/><polygon fill=\"none\" points=\"129,181.75,122,201.75,115,181.75,129,181.75\" style=\"stroke: #383838; stroke-width: 1.0;\"/></a><!--MD5=[333fbf08e05dfdeeca9b8ab71231babc]\n",
       "@startuml\r\n",
       "top to bottom direction\r\n",
       "skinparam monochrome true\r\n",
       "skinparam classbackgroundcolor white\r\n",
       "skinparam shadowing false\r\n",
       "skinparam wrapWidth 300\r\n",
       "hide circle\r\n",
       "\r\n",
       "package \"Packets\" as E1  [[psysml:781596e5-2fdd-47e5-84a9-0e1e2d017791 ]]  {\r\n",
       "comp def \"DateTime\" as E2  <<(T,blue)attribute def>> [[psysml:09967ea5-e8af-470d-92d0-5553b1044725 ]] {\r\n",
       "}\r\n",
       "comp usage \"packet header\" as E3  <<(T,blue)attribute>> [[psysml:16b22f80-f2ca-4440-a25c-8e72c7cab96e ]] {\r\n",
       "}\r\n",
       "comp usage \"packet data field\" as E4  <<(T,blue)attribute>> [[psysml:7e904c0e-d2a4-45ad-bef1-7051678b2240 ]] {\r\n",
       "- - attributes - -\r\n",
       "packet secondary header\\n//:>>Packets::packet header// \r\n",
       "user data field\r\n",
       "}\r\n",
       "comp def \"Data Packet\" as E5  <<(T,blue)part def>> [[psysml:7a510d36-5831-409f-9d62-08a185df40ba ]] {\r\n",
       "- - attributes - -\r\n",
       "packet data field\\n//:>>Packets::packet data field// \r\n",
       "packet primary header\\n//:>>Packets::packet header// \r\n",
       "}\r\n",
       "comp def \"Thermal Data Packet\" as E6  <<(T,blue)part def>> [[psysml:10023c3e-6ce6-4816-9fb9-6800bd66eb89 ]] {\r\n",
       "- - attributes - -\r\n",
       "packet data field\\n//:>>Packets::packet data field// \r\n",
       "}\r\n",
       "E6 - -|> E5 [[psysml:8c509f82-013b-4383-9ee5-07fa63a1b780 ]] \r\n",
       "}\r\n",
       "@enduml\r\n",
       "\n",
       "PlantUML version 1.2020.13(Sat Jun 13 12:26:38 UTC 2020)\n",
       "(EPL source distribution)\n",
       "Java Runtime: OpenJDK Runtime Environment\n",
       "JVM: OpenJDK 64-Bit Server VM\n",
       "Default Encoding: UTF-8\n",
       "Language: en\n",
       "Country: null\n",
       "--></g></svg>"
      ]
     },
     "execution_count": 50,
     "metadata": {},
     "output_type": "execute_result"
    }
   ],
   "source": [
    "%viz --style=\"TB\" --view=\"MIXED\" \"Packets\""
   ]
  },
  {
   "cell_type": "code",
   "execution_count": 51,
   "id": "8bc6525c",
   "metadata": {
    "execution": {
     "iopub.execute_input": "2021-04-20T07:33:59.118553Z",
     "iopub.status.busy": "2021-04-20T07:33:59.117914Z",
     "iopub.status.idle": "2021-04-20T07:33:59.254939Z",
     "shell.execute_reply": "2021-04-20T07:33:59.254658Z"
    }
   },
   "outputs": [
    {
     "data": {
      "image/svg+xml": [
       "<?xml version=\"1.0\" encoding=\"UTF-8\" standalone=\"no\"?><svg xmlns=\"http://www.w3.org/2000/svg\" xmlns:xlink=\"http://www.w3.org/1999/xlink\" contentScriptType=\"application/ecmascript\" contentStyleType=\"text/css\" height=\"344px\" preserveAspectRatio=\"none\" style=\"width:716px;height:344px;\" version=\"1.1\" viewBox=\"0 0 716 344\" width=\"716px\" zoomAndPan=\"magnify\"><defs/><g><!--MD5=[fbc87193dbaf4d95561dea2c320d4a47]\n",
       "cluster E1--><a href=\"psysml:781596e5-2fdd-47e5-84a9-0e1e2d017791\" target=\"_top\" title=\"psysml:781596e5-2fdd-47e5-84a9-0e1e2d017791\" xlink:actuate=\"onRequest\" xlink:href=\"psysml:781596e5-2fdd-47e5-84a9-0e1e2d017791\" xlink:show=\"new\" xlink:title=\"psysml:781596e5-2fdd-47e5-84a9-0e1e2d017791\" xlink:type=\"simple\"><polygon fill=\"#FFFFFF\" points=\"16,6,84,6,91,28.2969,694,28.2969,694,332,16,332,16,6\" style=\"stroke: #000000; stroke-width: 1.5;\"/><line style=\"stroke: #000000; stroke-width: 1.5;\" x1=\"16\" x2=\"91\" y1=\"28.2969\" y2=\"28.2969\"/><text fill=\"#000000\" font-family=\"sans-serif\" font-size=\"14\" font-weight=\"bold\" lengthAdjust=\"spacingAndGlyphs\" textLength=\"62\" x=\"20\" y=\"20.9951\">Packets</text></a><!--MD5=[b4997ac47864f28c2f74865a473b2911]\n",
       "class E2--><a href=\"psysml:09967ea5-e8af-470d-92d0-5553b1044725\" target=\"_top\" title=\"psysml:09967ea5-e8af-470d-92d0-5553b1044725\" xlink:actuate=\"onRequest\" xlink:href=\"psysml:09967ea5-e8af-470d-92d0-5553b1044725\" xlink:show=\"new\" xlink:title=\"psysml:09967ea5-e8af-470d-92d0-5553b1044725\" xlink:type=\"simple\"><rect fill=\"#FFFFFF\" height=\"45.9375\" id=\"E2\" style=\"stroke: #383838; stroke-width: 1.5;\" width=\"95\" x=\"582.5\" y=\"68.5\"/><text fill=\"#000000\" font-family=\"sans-serif\" font-size=\"12\" font-style=\"italic\" lengthAdjust=\"spacingAndGlyphs\" textLength=\"93\" x=\"583.5\" y=\"84.6387\">«attribute def»</text><text fill=\"#000000\" font-family=\"sans-serif\" font-size=\"12\" lengthAdjust=\"spacingAndGlyphs\" textLength=\"59\" x=\"600.5\" y=\"98.6074\">DateTime</text><line style=\"stroke: #383838; stroke-width: 1.5;\" x1=\"583.5\" x2=\"676.5\" y1=\"106.4375\" y2=\"106.4375\"/></a><!--MD5=[09b614a08d8cba4a07c9adeb5e0fee81]\n",
       "class E3--><a href=\"psysml:16b22f80-f2ca-4440-a25c-8e72c7cab96e\" target=\"_top\" title=\"psysml:16b22f80-f2ca-4440-a25c-8e72c7cab96e\" xlink:actuate=\"onRequest\" xlink:href=\"psysml:16b22f80-f2ca-4440-a25c-8e72c7cab96e\" xlink:show=\"new\" xlink:title=\"psysml:16b22f80-f2ca-4440-a25c-8e72c7cab96e\" xlink:type=\"simple\"><rect fill=\"#FFFFFF\" height=\"45.9375\" id=\"E3\" rx=\"10\" ry=\"10\" style=\"stroke: #383838; stroke-width: 1.5;\" width=\"98\" x=\"449\" y=\"68.5\"/><text fill=\"#000000\" font-family=\"sans-serif\" font-size=\"12\" font-style=\"italic\" lengthAdjust=\"spacingAndGlyphs\" textLength=\"69\" x=\"463.5\" y=\"84.6387\">«attribute»</text><text fill=\"#000000\" font-family=\"sans-serif\" font-size=\"12\" lengthAdjust=\"spacingAndGlyphs\" textLength=\"92\" x=\"452\" y=\"98.6074\">packet header</text><line style=\"stroke: #383838; stroke-width: 1.5;\" x1=\"450\" x2=\"546\" y1=\"106.4375\" y2=\"106.4375\"/></a><!--MD5=[ebbe1d658d1005bcc118a6aa81145e00]\n",
       "class E4--><a href=\"psysml:7e904c0e-d2a4-45ad-bef1-7051678b2240\" target=\"_top\" title=\"psysml:7e904c0e-d2a4-45ad-bef1-7051678b2240\" xlink:actuate=\"onRequest\" xlink:href=\"psysml:7e904c0e-d2a4-45ad-bef1-7051678b2240\" xlink:show=\"new\" xlink:title=\"psysml:7e904c0e-d2a4-45ad-bef1-7051678b2240\" xlink:type=\"simple\"><rect fill=\"#FFFFFF\" height=\"101.1563\" id=\"E4\" rx=\"10\" ry=\"10\" style=\"stroke: #383838; stroke-width: 1.5;\" width=\"167\" x=\"247.5\" y=\"41\"/><text fill=\"#000000\" font-family=\"sans-serif\" font-size=\"12\" font-style=\"italic\" lengthAdjust=\"spacingAndGlyphs\" textLength=\"69\" x=\"296.5\" y=\"57.1387\">«attribute»</text><text fill=\"#000000\" font-family=\"sans-serif\" font-size=\"12\" lengthAdjust=\"spacingAndGlyphs\" textLength=\"106\" x=\"278\" y=\"71.1074\">packet data field</text><line style=\"stroke: #383838; stroke-width: 1.5;\" x1=\"248.5\" x2=\"413.5\" y1=\"78.9375\" y2=\"78.9375\"/><text fill=\"#000000\" font-family=\"sans-serif\" font-size=\"11\" lengthAdjust=\"spacingAndGlyphs\" textLength=\"144\" x=\"253.5\" y=\"109.9526\">packet secondary header</text><text fill=\"#000000\" font-family=\"sans-serif\" font-size=\"11\" font-style=\"italic\" lengthAdjust=\"spacingAndGlyphs\" textLength=\"155\" x=\"253.5\" y=\"122.7573\">:&gt;&gt;Packets::packet header</text><text fill=\"#000000\" font-family=\"sans-serif\" font-size=\"11\" lengthAdjust=\"spacingAndGlyphs\" textLength=\"83\" x=\"253.5\" y=\"135.562\">user data field</text><line style=\"stroke: #383838; stroke-width: 1.0;\" x1=\"248.5\" x2=\"303.5\" y1=\"93.3398\" y2=\"93.3398\"/><text fill=\"#000000\" font-family=\"sans-serif\" font-size=\"11\" lengthAdjust=\"spacingAndGlyphs\" textLength=\"55\" x=\"303.5\" y=\"96.6479\">attributes</text><line style=\"stroke: #383838; stroke-width: 1.0;\" x1=\"358.5\" x2=\"413.5\" y1=\"93.3398\" y2=\"93.3398\"/></a><!--MD5=[270fce915f116d4de14055a7c1d9a0f3]\n",
       "class E5--><a href=\"psysml:7a510d36-5831-409f-9d62-08a185df40ba\" target=\"_top\" title=\"psysml:7a510d36-5831-409f-9d62-08a185df40ba\" xlink:actuate=\"onRequest\" xlink:href=\"psysml:7a510d36-5831-409f-9d62-08a185df40ba\" xlink:show=\"new\" xlink:title=\"psysml:7a510d36-5831-409f-9d62-08a185df40ba\" xlink:type=\"simple\"><rect fill=\"#FFFFFF\" height=\"113.9609\" id=\"E5\" style=\"stroke: #383838; stroke-width: 1.5;\" width=\"180\" x=\"32\" y=\"202\"/><text fill=\"#000000\" font-family=\"sans-serif\" font-size=\"12\" font-style=\"italic\" lengthAdjust=\"spacingAndGlyphs\" textLength=\"64\" x=\"90\" y=\"218.1387\">«part def»</text><text fill=\"#000000\" font-family=\"sans-serif\" font-size=\"12\" lengthAdjust=\"spacingAndGlyphs\" textLength=\"77\" x=\"83.5\" y=\"232.1074\">Data Packet</text><line style=\"stroke: #383838; stroke-width: 1.5;\" x1=\"33\" x2=\"211\" y1=\"239.9375\" y2=\"239.9375\"/><text fill=\"#000000\" font-family=\"sans-serif\" font-size=\"11\" lengthAdjust=\"spacingAndGlyphs\" textLength=\"94\" x=\"38\" y=\"270.9526\">packet data field</text><text fill=\"#000000\" font-family=\"sans-serif\" font-size=\"11\" font-style=\"italic\" lengthAdjust=\"spacingAndGlyphs\" textLength=\"168\" x=\"38\" y=\"283.7573\">:&gt;&gt;Packets::packet data field</text><text fill=\"#000000\" font-family=\"sans-serif\" font-size=\"11\" lengthAdjust=\"spacingAndGlyphs\" textLength=\"129\" x=\"38\" y=\"296.562\">packet primary header</text><text fill=\"#000000\" font-family=\"sans-serif\" font-size=\"11\" font-style=\"italic\" lengthAdjust=\"spacingAndGlyphs\" textLength=\"155\" x=\"38\" y=\"309.3667\">:&gt;&gt;Packets::packet header</text><line style=\"stroke: #383838; stroke-width: 1.0;\" x1=\"33\" x2=\"94.5\" y1=\"254.3398\" y2=\"254.3398\"/><text fill=\"#000000\" font-family=\"sans-serif\" font-size=\"11\" lengthAdjust=\"spacingAndGlyphs\" textLength=\"55\" x=\"94.5\" y=\"257.6479\">attributes</text><line style=\"stroke: #383838; stroke-width: 1.0;\" x1=\"149.5\" x2=\"211\" y1=\"254.3398\" y2=\"254.3398\"/></a><!--MD5=[60a26617385b1d2d0262a64233df1f8d]\n",
       "class E6--><a href=\"psysml:10023c3e-6ce6-4816-9fb9-6800bd66eb89\" target=\"_top\" title=\"psysml:10023c3e-6ce6-4816-9fb9-6800bd66eb89\" xlink:actuate=\"onRequest\" xlink:href=\"psysml:10023c3e-6ce6-4816-9fb9-6800bd66eb89\" xlink:show=\"new\" xlink:title=\"psysml:10023c3e-6ce6-4816-9fb9-6800bd66eb89\" xlink:type=\"simple\"><rect fill=\"#FFFFFF\" height=\"88.3516\" id=\"E6\" style=\"stroke: #383838; stroke-width: 1.5;\" width=\"180\" x=\"32\" y=\"47.5\"/><text fill=\"#000000\" font-family=\"sans-serif\" font-size=\"12\" font-style=\"italic\" lengthAdjust=\"spacingAndGlyphs\" textLength=\"64\" x=\"90\" y=\"63.6387\">«part def»</text><text fill=\"#000000\" font-family=\"sans-serif\" font-size=\"12\" lengthAdjust=\"spacingAndGlyphs\" textLength=\"131\" x=\"56.5\" y=\"77.6074\">Thermal Data Packet</text><line style=\"stroke: #383838; stroke-width: 1.5;\" x1=\"33\" x2=\"211\" y1=\"85.4375\" y2=\"85.4375\"/><text fill=\"#000000\" font-family=\"sans-serif\" font-size=\"11\" lengthAdjust=\"spacingAndGlyphs\" textLength=\"94\" x=\"38\" y=\"116.4526\">packet data field</text><text fill=\"#000000\" font-family=\"sans-serif\" font-size=\"11\" font-style=\"italic\" lengthAdjust=\"spacingAndGlyphs\" textLength=\"168\" x=\"38\" y=\"129.2573\">:&gt;&gt;Packets::packet data field</text><line style=\"stroke: #383838; stroke-width: 1.0;\" x1=\"33\" x2=\"94.5\" y1=\"99.8398\" y2=\"99.8398\"/><text fill=\"#000000\" font-family=\"sans-serif\" font-size=\"11\" lengthAdjust=\"spacingAndGlyphs\" textLength=\"55\" x=\"94.5\" y=\"103.1479\">attributes</text><line style=\"stroke: #383838; stroke-width: 1.0;\" x1=\"149.5\" x2=\"211\" y1=\"99.8398\" y2=\"99.8398\"/></a><!--MD5=[25b190c987b1e74e5126d372c5a73af1]\n",
       "link E6 to E5--><a href=\"psysml:8c509f82-013b-4383-9ee5-07fa63a1b780\" target=\"_top\" title=\"psysml:8c509f82-013b-4383-9ee5-07fa63a1b780\" xlink:actuate=\"onRequest\" xlink:href=\"psysml:8c509f82-013b-4383-9ee5-07fa63a1b780\" xlink:show=\"new\" xlink:title=\"psysml:8c509f82-013b-4383-9ee5-07fa63a1b780\" xlink:type=\"simple\"><path d=\"M122,135.51 C122,135.51 122,181.73 122,181.73 \" fill=\"none\" id=\"E6-&gt;E5\" style=\"stroke: #383838; stroke-width: 1.0;\"/><polygon fill=\"none\" points=\"129,181.73,122,201.73,115,181.73,129,181.73\" style=\"stroke: #383838; stroke-width: 1.0;\"/></a><!--MD5=[b0c49ed4a02999689ff8d245e8b77ef3]\n",
       "@startuml\r\n",
       "skinparam linetype ortho\r\n",
       "skinparam monochrome true\r\n",
       "skinparam classbackgroundcolor white\r\n",
       "skinparam shadowing false\r\n",
       "skinparam wrapWidth 300\r\n",
       "hide circle\r\n",
       "\r\n",
       "package \"Packets\" as E1  [[psysml:781596e5-2fdd-47e5-84a9-0e1e2d017791 ]]  {\r\n",
       "comp def \"DateTime\" as E2  <<(T,blue)attribute def>> [[psysml:09967ea5-e8af-470d-92d0-5553b1044725 ]] {\r\n",
       "}\r\n",
       "comp usage \"packet header\" as E3  <<(T,blue)attribute>> [[psysml:16b22f80-f2ca-4440-a25c-8e72c7cab96e ]] {\r\n",
       "}\r\n",
       "comp usage \"packet data field\" as E4  <<(T,blue)attribute>> [[psysml:7e904c0e-d2a4-45ad-bef1-7051678b2240 ]] {\r\n",
       "- - attributes - -\r\n",
       "packet secondary header\\n//:>>Packets::packet header// \r\n",
       "user data field\r\n",
       "}\r\n",
       "comp def \"Data Packet\" as E5  <<(T,blue)part def>> [[psysml:7a510d36-5831-409f-9d62-08a185df40ba ]] {\r\n",
       "- - attributes - -\r\n",
       "packet data field\\n//:>>Packets::packet data field// \r\n",
       "packet primary header\\n//:>>Packets::packet header// \r\n",
       "}\r\n",
       "comp def \"Thermal Data Packet\" as E6  <<(T,blue)part def>> [[psysml:10023c3e-6ce6-4816-9fb9-6800bd66eb89 ]] {\r\n",
       "- - attributes - -\r\n",
       "packet data field\\n//:>>Packets::packet data field// \r\n",
       "}\r\n",
       "E6 - -|> E5 [[psysml:8c509f82-013b-4383-9ee5-07fa63a1b780 ]] \r\n",
       "}\r\n",
       "@enduml\r\n",
       "\n",
       "PlantUML version 1.2020.13(Sat Jun 13 12:26:38 UTC 2020)\n",
       "(EPL source distribution)\n",
       "Java Runtime: OpenJDK Runtime Environment\n",
       "JVM: OpenJDK 64-Bit Server VM\n",
       "Default Encoding: UTF-8\n",
       "Language: en\n",
       "Country: null\n",
       "--></g></svg>"
      ]
     },
     "execution_count": 51,
     "metadata": {},
     "output_type": "execute_result"
    }
   ],
   "source": [
    "%viz --style=\"ORTHOLINE\" --view=\"Default\" \"Packets\""
   ]
  },
  {
   "cell_type": "code",
   "execution_count": 52,
   "id": "03c4b145",
   "metadata": {
    "execution": {
     "iopub.execute_input": "2021-04-20T07:33:59.305107Z",
     "iopub.status.busy": "2021-04-20T07:33:59.304543Z",
     "iopub.status.idle": "2021-04-20T07:33:59.443172Z",
     "shell.execute_reply": "2021-04-20T07:33:59.441464Z"
    }
   },
   "outputs": [
    {
     "data": {
      "image/svg+xml": [
       "<?xml version=\"1.0\" encoding=\"UTF-8\" standalone=\"no\"?><svg xmlns=\"http://www.w3.org/2000/svg\" xmlns:xlink=\"http://www.w3.org/1999/xlink\" contentScriptType=\"application/ecmascript\" contentStyleType=\"text/css\" height=\"344px\" preserveAspectRatio=\"none\" style=\"width:716px;height:344px;\" version=\"1.1\" viewBox=\"0 0 716 344\" width=\"716px\" zoomAndPan=\"magnify\"><defs/><g><!--MD5=[fbc87193dbaf4d95561dea2c320d4a47]\n",
       "cluster E1--><a href=\"psysml:781596e5-2fdd-47e5-84a9-0e1e2d017791\" target=\"_top\" title=\"psysml:781596e5-2fdd-47e5-84a9-0e1e2d017791\" xlink:actuate=\"onRequest\" xlink:href=\"psysml:781596e5-2fdd-47e5-84a9-0e1e2d017791\" xlink:show=\"new\" xlink:title=\"psysml:781596e5-2fdd-47e5-84a9-0e1e2d017791\" xlink:type=\"simple\"><polygon fill=\"#FFFFFF\" points=\"16,6,84,6,91,28.2969,694,28.2969,694,332,16,332,16,6\" style=\"stroke: #000000; stroke-width: 1.5;\"/><line style=\"stroke: #000000; stroke-width: 1.5;\" x1=\"16\" x2=\"91\" y1=\"28.2969\" y2=\"28.2969\"/><text fill=\"#000000\" font-family=\"sans-serif\" font-size=\"14\" font-weight=\"bold\" lengthAdjust=\"spacingAndGlyphs\" textLength=\"62\" x=\"20\" y=\"20.9951\">Packets</text></a><!--MD5=[b4997ac47864f28c2f74865a473b2911]\n",
       "class E2--><a href=\"psysml:09967ea5-e8af-470d-92d0-5553b1044725\" target=\"_top\" title=\"psysml:09967ea5-e8af-470d-92d0-5553b1044725\" xlink:actuate=\"onRequest\" xlink:href=\"psysml:09967ea5-e8af-470d-92d0-5553b1044725\" xlink:show=\"new\" xlink:title=\"psysml:09967ea5-e8af-470d-92d0-5553b1044725\" xlink:type=\"simple\"><rect fill=\"#FFFFFF\" height=\"45.9375\" id=\"E2\" style=\"stroke: #383838; stroke-width: 1.5;\" width=\"95\" x=\"582.5\" y=\"68.5\"/><text fill=\"#000000\" font-family=\"sans-serif\" font-size=\"12\" font-style=\"italic\" lengthAdjust=\"spacingAndGlyphs\" textLength=\"93\" x=\"583.5\" y=\"84.6387\">«attribute def»</text><text fill=\"#000000\" font-family=\"sans-serif\" font-size=\"12\" lengthAdjust=\"spacingAndGlyphs\" textLength=\"59\" x=\"600.5\" y=\"98.6074\">DateTime</text><line style=\"stroke: #383838; stroke-width: 1.5;\" x1=\"583.5\" x2=\"676.5\" y1=\"106.4375\" y2=\"106.4375\"/></a><!--MD5=[09b614a08d8cba4a07c9adeb5e0fee81]\n",
       "class E3--><a href=\"psysml:16b22f80-f2ca-4440-a25c-8e72c7cab96e\" target=\"_top\" title=\"psysml:16b22f80-f2ca-4440-a25c-8e72c7cab96e\" xlink:actuate=\"onRequest\" xlink:href=\"psysml:16b22f80-f2ca-4440-a25c-8e72c7cab96e\" xlink:show=\"new\" xlink:title=\"psysml:16b22f80-f2ca-4440-a25c-8e72c7cab96e\" xlink:type=\"simple\"><rect fill=\"#FFFFFF\" height=\"45.9375\" id=\"E3\" rx=\"10\" ry=\"10\" style=\"stroke: #383838; stroke-width: 1.5;\" width=\"98\" x=\"449\" y=\"68.5\"/><text fill=\"#000000\" font-family=\"sans-serif\" font-size=\"12\" font-style=\"italic\" lengthAdjust=\"spacingAndGlyphs\" textLength=\"69\" x=\"463.5\" y=\"84.6387\">«attribute»</text><text fill=\"#000000\" font-family=\"sans-serif\" font-size=\"12\" lengthAdjust=\"spacingAndGlyphs\" textLength=\"92\" x=\"452\" y=\"98.6074\">packet header</text><line style=\"stroke: #383838; stroke-width: 1.5;\" x1=\"450\" x2=\"546\" y1=\"106.4375\" y2=\"106.4375\"/></a><!--MD5=[ebbe1d658d1005bcc118a6aa81145e00]\n",
       "class E4--><a href=\"psysml:7e904c0e-d2a4-45ad-bef1-7051678b2240\" target=\"_top\" title=\"psysml:7e904c0e-d2a4-45ad-bef1-7051678b2240\" xlink:actuate=\"onRequest\" xlink:href=\"psysml:7e904c0e-d2a4-45ad-bef1-7051678b2240\" xlink:show=\"new\" xlink:title=\"psysml:7e904c0e-d2a4-45ad-bef1-7051678b2240\" xlink:type=\"simple\"><rect fill=\"#FFFFFF\" height=\"101.1563\" id=\"E4\" rx=\"10\" ry=\"10\" style=\"stroke: #383838; stroke-width: 1.5;\" width=\"167\" x=\"247.5\" y=\"41\"/><text fill=\"#000000\" font-family=\"sans-serif\" font-size=\"12\" font-style=\"italic\" lengthAdjust=\"spacingAndGlyphs\" textLength=\"69\" x=\"296.5\" y=\"57.1387\">«attribute»</text><text fill=\"#000000\" font-family=\"sans-serif\" font-size=\"12\" lengthAdjust=\"spacingAndGlyphs\" textLength=\"106\" x=\"278\" y=\"71.1074\">packet data field</text><line style=\"stroke: #383838; stroke-width: 1.5;\" x1=\"248.5\" x2=\"413.5\" y1=\"78.9375\" y2=\"78.9375\"/><text fill=\"#000000\" font-family=\"sans-serif\" font-size=\"11\" lengthAdjust=\"spacingAndGlyphs\" textLength=\"144\" x=\"253.5\" y=\"109.9526\">packet secondary header</text><text fill=\"#000000\" font-family=\"sans-serif\" font-size=\"11\" font-style=\"italic\" lengthAdjust=\"spacingAndGlyphs\" textLength=\"155\" x=\"253.5\" y=\"122.7573\">:&gt;&gt;Packets::packet header</text><text fill=\"#000000\" font-family=\"sans-serif\" font-size=\"11\" lengthAdjust=\"spacingAndGlyphs\" textLength=\"83\" x=\"253.5\" y=\"135.562\">user data field</text><line style=\"stroke: #383838; stroke-width: 1.0;\" x1=\"248.5\" x2=\"303.5\" y1=\"93.3398\" y2=\"93.3398\"/><text fill=\"#000000\" font-family=\"sans-serif\" font-size=\"11\" lengthAdjust=\"spacingAndGlyphs\" textLength=\"55\" x=\"303.5\" y=\"96.6479\">attributes</text><line style=\"stroke: #383838; stroke-width: 1.0;\" x1=\"358.5\" x2=\"413.5\" y1=\"93.3398\" y2=\"93.3398\"/></a><!--MD5=[270fce915f116d4de14055a7c1d9a0f3]\n",
       "class E5--><a href=\"psysml:7a510d36-5831-409f-9d62-08a185df40ba\" target=\"_top\" title=\"psysml:7a510d36-5831-409f-9d62-08a185df40ba\" xlink:actuate=\"onRequest\" xlink:href=\"psysml:7a510d36-5831-409f-9d62-08a185df40ba\" xlink:show=\"new\" xlink:title=\"psysml:7a510d36-5831-409f-9d62-08a185df40ba\" xlink:type=\"simple\"><rect fill=\"#FFFFFF\" height=\"113.9609\" id=\"E5\" style=\"stroke: #383838; stroke-width: 1.5;\" width=\"180\" x=\"32\" y=\"202\"/><text fill=\"#000000\" font-family=\"sans-serif\" font-size=\"12\" font-style=\"italic\" lengthAdjust=\"spacingAndGlyphs\" textLength=\"64\" x=\"90\" y=\"218.1387\">«part def»</text><text fill=\"#000000\" font-family=\"sans-serif\" font-size=\"12\" lengthAdjust=\"spacingAndGlyphs\" textLength=\"77\" x=\"83.5\" y=\"232.1074\">Data Packet</text><line style=\"stroke: #383838; stroke-width: 1.5;\" x1=\"33\" x2=\"211\" y1=\"239.9375\" y2=\"239.9375\"/><text fill=\"#000000\" font-family=\"sans-serif\" font-size=\"11\" lengthAdjust=\"spacingAndGlyphs\" textLength=\"94\" x=\"38\" y=\"270.9526\">packet data field</text><text fill=\"#000000\" font-family=\"sans-serif\" font-size=\"11\" font-style=\"italic\" lengthAdjust=\"spacingAndGlyphs\" textLength=\"168\" x=\"38\" y=\"283.7573\">:&gt;&gt;Packets::packet data field</text><text fill=\"#000000\" font-family=\"sans-serif\" font-size=\"11\" lengthAdjust=\"spacingAndGlyphs\" textLength=\"129\" x=\"38\" y=\"296.562\">packet primary header</text><text fill=\"#000000\" font-family=\"sans-serif\" font-size=\"11\" font-style=\"italic\" lengthAdjust=\"spacingAndGlyphs\" textLength=\"155\" x=\"38\" y=\"309.3667\">:&gt;&gt;Packets::packet header</text><line style=\"stroke: #383838; stroke-width: 1.0;\" x1=\"33\" x2=\"94.5\" y1=\"254.3398\" y2=\"254.3398\"/><text fill=\"#000000\" font-family=\"sans-serif\" font-size=\"11\" lengthAdjust=\"spacingAndGlyphs\" textLength=\"55\" x=\"94.5\" y=\"257.6479\">attributes</text><line style=\"stroke: #383838; stroke-width: 1.0;\" x1=\"149.5\" x2=\"211\" y1=\"254.3398\" y2=\"254.3398\"/></a><!--MD5=[60a26617385b1d2d0262a64233df1f8d]\n",
       "class E6--><a href=\"psysml:10023c3e-6ce6-4816-9fb9-6800bd66eb89\" target=\"_top\" title=\"psysml:10023c3e-6ce6-4816-9fb9-6800bd66eb89\" xlink:actuate=\"onRequest\" xlink:href=\"psysml:10023c3e-6ce6-4816-9fb9-6800bd66eb89\" xlink:show=\"new\" xlink:title=\"psysml:10023c3e-6ce6-4816-9fb9-6800bd66eb89\" xlink:type=\"simple\"><rect fill=\"#FFFFFF\" height=\"88.3516\" id=\"E6\" style=\"stroke: #383838; stroke-width: 1.5;\" width=\"180\" x=\"32\" y=\"47.5\"/><text fill=\"#000000\" font-family=\"sans-serif\" font-size=\"12\" font-style=\"italic\" lengthAdjust=\"spacingAndGlyphs\" textLength=\"64\" x=\"90\" y=\"63.6387\">«part def»</text><text fill=\"#000000\" font-family=\"sans-serif\" font-size=\"12\" lengthAdjust=\"spacingAndGlyphs\" textLength=\"131\" x=\"56.5\" y=\"77.6074\">Thermal Data Packet</text><line style=\"stroke: #383838; stroke-width: 1.5;\" x1=\"33\" x2=\"211\" y1=\"85.4375\" y2=\"85.4375\"/><text fill=\"#000000\" font-family=\"sans-serif\" font-size=\"11\" lengthAdjust=\"spacingAndGlyphs\" textLength=\"94\" x=\"38\" y=\"116.4526\">packet data field</text><text fill=\"#000000\" font-family=\"sans-serif\" font-size=\"11\" font-style=\"italic\" lengthAdjust=\"spacingAndGlyphs\" textLength=\"168\" x=\"38\" y=\"129.2573\">:&gt;&gt;Packets::packet data field</text><line style=\"stroke: #383838; stroke-width: 1.0;\" x1=\"33\" x2=\"94.5\" y1=\"99.8398\" y2=\"99.8398\"/><text fill=\"#000000\" font-family=\"sans-serif\" font-size=\"11\" lengthAdjust=\"spacingAndGlyphs\" textLength=\"55\" x=\"94.5\" y=\"103.1479\">attributes</text><line style=\"stroke: #383838; stroke-width: 1.0;\" x1=\"149.5\" x2=\"211\" y1=\"99.8398\" y2=\"99.8398\"/></a><!--MD5=[25b190c987b1e74e5126d372c5a73af1]\n",
       "link E6 to E5--><a href=\"psysml:8c509f82-013b-4383-9ee5-07fa63a1b780\" target=\"_top\" title=\"psysml:8c509f82-013b-4383-9ee5-07fa63a1b780\" xlink:actuate=\"onRequest\" xlink:href=\"psysml:8c509f82-013b-4383-9ee5-07fa63a1b780\" xlink:show=\"new\" xlink:title=\"psysml:8c509f82-013b-4383-9ee5-07fa63a1b780\" xlink:type=\"simple\"><path d=\"M122,135.51 C122,135.51 122,181.73 122,181.73 \" fill=\"none\" id=\"E6-&gt;E5\" style=\"stroke: #383838; stroke-width: 1.0;\"/><polygon fill=\"none\" points=\"129,181.73,122,201.73,115,181.73,129,181.73\" style=\"stroke: #383838; stroke-width: 1.0;\"/></a><!--MD5=[b0c49ed4a02999689ff8d245e8b77ef3]\n",
       "@startuml\r\n",
       "skinparam linetype ortho\r\n",
       "skinparam monochrome true\r\n",
       "skinparam classbackgroundcolor white\r\n",
       "skinparam shadowing false\r\n",
       "skinparam wrapWidth 300\r\n",
       "hide circle\r\n",
       "\r\n",
       "package \"Packets\" as E1  [[psysml:781596e5-2fdd-47e5-84a9-0e1e2d017791 ]]  {\r\n",
       "comp def \"DateTime\" as E2  <<(T,blue)attribute def>> [[psysml:09967ea5-e8af-470d-92d0-5553b1044725 ]] {\r\n",
       "}\r\n",
       "comp usage \"packet header\" as E3  <<(T,blue)attribute>> [[psysml:16b22f80-f2ca-4440-a25c-8e72c7cab96e ]] {\r\n",
       "}\r\n",
       "comp usage \"packet data field\" as E4  <<(T,blue)attribute>> [[psysml:7e904c0e-d2a4-45ad-bef1-7051678b2240 ]] {\r\n",
       "- - attributes - -\r\n",
       "packet secondary header\\n//:>>Packets::packet header// \r\n",
       "user data field\r\n",
       "}\r\n",
       "comp def \"Data Packet\" as E5  <<(T,blue)part def>> [[psysml:7a510d36-5831-409f-9d62-08a185df40ba ]] {\r\n",
       "- - attributes - -\r\n",
       "packet data field\\n//:>>Packets::packet data field// \r\n",
       "packet primary header\\n//:>>Packets::packet header// \r\n",
       "}\r\n",
       "comp def \"Thermal Data Packet\" as E6  <<(T,blue)part def>> [[psysml:10023c3e-6ce6-4816-9fb9-6800bd66eb89 ]] {\r\n",
       "- - attributes - -\r\n",
       "packet data field\\n//:>>Packets::packet data field// \r\n",
       "}\r\n",
       "E6 - -|> E5 [[psysml:8c509f82-013b-4383-9ee5-07fa63a1b780 ]] \r\n",
       "}\r\n",
       "@enduml\r\n",
       "\n",
       "PlantUML version 1.2020.13(Sat Jun 13 12:26:38 UTC 2020)\n",
       "(EPL source distribution)\n",
       "Java Runtime: OpenJDK Runtime Environment\n",
       "JVM: OpenJDK 64-Bit Server VM\n",
       "Default Encoding: UTF-8\n",
       "Language: en\n",
       "Country: null\n",
       "--></g></svg>"
      ]
     },
     "execution_count": 52,
     "metadata": {},
     "output_type": "execute_result"
    }
   ],
   "source": [
    "%viz --style=\"ORTHOLINE\" --view=\"Tree\" \"Packets\""
   ]
  },
  {
   "cell_type": "code",
   "execution_count": 53,
   "id": "d3c17ff6",
   "metadata": {
    "execution": {
     "iopub.execute_input": "2021-04-20T07:33:59.493108Z",
     "iopub.status.busy": "2021-04-20T07:33:59.492487Z",
     "iopub.status.idle": "2021-04-20T07:33:59.496612Z",
     "shell.execute_reply": "2021-04-20T07:33:59.496237Z"
    }
   },
   "outputs": [
    {
     "data": {
      "image/svg+xml": [
       "<?xml version=\"1.0\" encoding=\"UTF-8\" standalone=\"no\"?><svg xmlns=\"http://www.w3.org/2000/svg\" xmlns:xlink=\"http://www.w3.org/1999/xlink\" contentScriptType=\"application/ecmascript\" contentStyleType=\"text/css\" height=\"12px\" preserveAspectRatio=\"none\" style=\"width:12px;height:12px;\" version=\"1.1\" viewBox=\"0 0 12 12\" width=\"12px\" zoomAndPan=\"magnify\"><defs/><g><!--MD5=[97d6f38768b311333d388e66b2b27985]\n",
       "@startuml\r\n",
       "skinparam linetype ortho\r\n",
       "skinparam monochrome true\r\n",
       "skinparam classbackgroundcolor white\r\n",
       "skinparam shadowing false\r\n",
       "skinparam wrapWidth 300\r\n",
       "hide circle\r\n",
       "\r\n",
       "@enduml\r\n",
       "\n",
       "PlantUML version 1.2020.13(Sat Jun 13 12:26:38 UTC 2020)\n",
       "(EPL source distribution)\n",
       "Java Runtime: OpenJDK Runtime Environment\n",
       "JVM: OpenJDK 64-Bit Server VM\n",
       "Default Encoding: UTF-8\n",
       "Language: en\n",
       "Country: null\n",
       "--></g></svg>"
      ]
     },
     "execution_count": 53,
     "metadata": {},
     "output_type": "execute_result"
    }
   ],
   "source": [
    "%viz --style=\"ORTHOLINE\" --view=\"State\" \"Packets\""
   ]
  },
  {
   "cell_type": "code",
   "execution_count": 54,
   "id": "4dd5b6a8",
   "metadata": {
    "execution": {
     "iopub.execute_input": "2021-04-20T07:33:59.547525Z",
     "iopub.status.busy": "2021-04-20T07:33:59.547077Z",
     "iopub.status.idle": "2021-04-20T07:33:59.720769Z",
     "shell.execute_reply": "2021-04-20T07:33:59.717332Z"
    }
   },
   "outputs": [
    {
     "data": {
      "image/svg+xml": [
       "<?xml version=\"1.0\" encoding=\"UTF-8\" standalone=\"no\"?><svg xmlns=\"http://www.w3.org/2000/svg\" xmlns:xlink=\"http://www.w3.org/1999/xlink\" contentScriptType=\"application/ecmascript\" contentStyleType=\"text/css\" height=\"631px\" preserveAspectRatio=\"none\" style=\"width:518px;height:631px;\" version=\"1.1\" viewBox=\"0 0 518 631\" width=\"518px\" zoomAndPan=\"magnify\"><defs/><g><!--MD5=[fbc87193dbaf4d95561dea2c320d4a47]\n",
       "cluster E1--><a href=\"psysml:781596e5-2fdd-47e5-84a9-0e1e2d017791\" target=\"_top\" title=\"psysml:781596e5-2fdd-47e5-84a9-0e1e2d017791\" xlink:actuate=\"onRequest\" xlink:href=\"psysml:781596e5-2fdd-47e5-84a9-0e1e2d017791\" xlink:show=\"new\" xlink:title=\"psysml:781596e5-2fdd-47e5-84a9-0e1e2d017791\" xlink:type=\"simple\"><polygon fill=\"#FFFFFF\" points=\"16,6,84,6,91,28.2969,496,28.2969,496,619,16,619,16,6\" style=\"stroke: #000000; stroke-width: 1.5;\"/><line style=\"stroke: #000000; stroke-width: 1.5;\" x1=\"16\" x2=\"91\" y1=\"28.2969\" y2=\"28.2969\"/><text fill=\"#000000\" font-family=\"sans-serif\" font-size=\"14\" font-weight=\"bold\" lengthAdjust=\"spacingAndGlyphs\" textLength=\"62\" x=\"20\" y=\"20.9951\">Packets</text></a><!--MD5=[de5ec2e2e8f62f467e546659f5068c88]\n",
       "cluster E5--><a href=\"psysml:7a510d36-5831-409f-9d62-08a185df40ba\" target=\"_top\" title=\"psysml:7a510d36-5831-409f-9d62-08a185df40ba\" xlink:actuate=\"onRequest\" xlink:href=\"psysml:7a510d36-5831-409f-9d62-08a185df40ba\" xlink:show=\"new\" xlink:title=\"psysml:7a510d36-5831-409f-9d62-08a185df40ba\" xlink:type=\"simple\"><rect fill=\"#FFFFFF\" height=\"184\" id=\"E5\" style=\"stroke: #383838; stroke-width: 1.5;\" width=\"406\" x=\"48\" y=\"294\"/><rect fill=\"#F8F8F8\" height=\"37.9375\" style=\"stroke: #383838; stroke-width: 1.5;\" width=\"406\" x=\"48\" y=\"294\"/><text fill=\"#000000\" font-family=\"sans-serif\" font-size=\"12\" font-style=\"italic\" lengthAdjust=\"spacingAndGlyphs\" textLength=\"64\" x=\"219\" y=\"310.1387\">«part def»</text><text fill=\"#000000\" font-family=\"sans-serif\" font-size=\"12\" lengthAdjust=\"spacingAndGlyphs\" textLength=\"77\" x=\"212.5\" y=\"324.1074\">Data Packet</text></a><!--MD5=[55dfccfc6c49c2d10cd1bd2211a6c90c]\n",
       "cluster E8--><a href=\"psysml:10023c3e-6ce6-4816-9fb9-6800bd66eb89\" target=\"_top\" title=\"psysml:10023c3e-6ce6-4816-9fb9-6800bd66eb89\" xlink:actuate=\"onRequest\" xlink:href=\"psysml:10023c3e-6ce6-4816-9fb9-6800bd66eb89\" xlink:show=\"new\" xlink:title=\"psysml:10023c3e-6ce6-4816-9fb9-6800bd66eb89\" xlink:type=\"simple\"><rect fill=\"#FFFFFF\" height=\"197\" id=\"E8\" style=\"stroke: #383838; stroke-width: 1.5;\" width=\"287\" x=\"172\" y=\"57\"/><rect fill=\"#F8F8F8\" height=\"37.9375\" style=\"stroke: #383838; stroke-width: 1.5;\" width=\"287\" x=\"172\" y=\"57\"/><text fill=\"#000000\" font-family=\"sans-serif\" font-size=\"12\" font-style=\"italic\" lengthAdjust=\"spacingAndGlyphs\" textLength=\"64\" x=\"283.5\" y=\"73.1387\">«part def»</text><text fill=\"#000000\" font-family=\"sans-serif\" font-size=\"12\" lengthAdjust=\"spacingAndGlyphs\" textLength=\"131\" x=\"250\" y=\"87.1074\">Thermal Data Packet</text></a><g id=\"E1.E2\"><a href=\"psysml:09967ea5-e8af-470d-92d0-5553b1044725\" target=\"_top\" title=\"psysml:09967ea5-e8af-470d-92d0-5553b1044725\" xlink:actuate=\"onRequest\" xlink:href=\"psysml:09967ea5-e8af-470d-92d0-5553b1044725\" xlink:show=\"new\" xlink:title=\"psysml:09967ea5-e8af-470d-92d0-5553b1044725\" xlink:type=\"simple\"><rect fill=\"#FFFFFF\" height=\"42.9375\" id=\"E2\" style=\"stroke: #383838; stroke-width: 1.5;\" width=\"100\" x=\"41\" y=\"151.5\"/><rect fill=\"#F8F8F8\" height=\"37.9375\" style=\"stroke: #383838; stroke-width: 1.5;\" width=\"100\" x=\"41\" y=\"151.5\"/><text fill=\"#000000\" font-family=\"sans-serif\" font-size=\"12\" font-style=\"italic\" lengthAdjust=\"spacingAndGlyphs\" textLength=\"93\" x=\"44.5\" y=\"167.6387\">«attribute def»</text><text fill=\"#000000\" font-family=\"sans-serif\" font-size=\"12\" lengthAdjust=\"spacingAndGlyphs\" textLength=\"59\" x=\"61.5\" y=\"181.6074\">DateTime</text></a></g><!--MD5=[09b614a08d8cba4a07c9adeb5e0fee81]\n",
       "class E3--><a href=\"psysml:16b22f80-f2ca-4440-a25c-8e72c7cab96e\" target=\"_top\" title=\"psysml:16b22f80-f2ca-4440-a25c-8e72c7cab96e\" xlink:actuate=\"onRequest\" xlink:href=\"psysml:16b22f80-f2ca-4440-a25c-8e72c7cab96e\" xlink:show=\"new\" xlink:title=\"psysml:16b22f80-f2ca-4440-a25c-8e72c7cab96e\" xlink:type=\"simple\"><rect fill=\"#FFFFFF\" height=\"45.9375\" id=\"E3\" rx=\"10\" ry=\"10\" style=\"stroke: #383838; stroke-width: 1.5;\" width=\"98\" x=\"138\" y=\"529.5\"/><text fill=\"#000000\" font-family=\"sans-serif\" font-size=\"12\" font-style=\"italic\" lengthAdjust=\"spacingAndGlyphs\" textLength=\"69\" x=\"152.5\" y=\"545.6387\">«attribute»</text><text fill=\"#000000\" font-family=\"sans-serif\" font-size=\"12\" lengthAdjust=\"spacingAndGlyphs\" textLength=\"92\" x=\"141\" y=\"559.6074\">packet header</text><line style=\"stroke: #383838; stroke-width: 1.5;\" x1=\"139\" x2=\"235\" y1=\"567.4375\" y2=\"567.4375\"/></a><!--MD5=[ebbe1d658d1005bcc118a6aa81145e00]\n",
       "class E4--><a href=\"psysml:7e904c0e-d2a4-45ad-bef1-7051678b2240\" target=\"_top\" title=\"psysml:7e904c0e-d2a4-45ad-bef1-7051678b2240\" xlink:actuate=\"onRequest\" xlink:href=\"psysml:7e904c0e-d2a4-45ad-bef1-7051678b2240\" xlink:show=\"new\" xlink:title=\"psysml:7e904c0e-d2a4-45ad-bef1-7051678b2240\" xlink:type=\"simple\"><rect fill=\"#FFFFFF\" height=\"101.1563\" id=\"E4\" rx=\"10\" ry=\"10\" style=\"stroke: #383838; stroke-width: 1.5;\" width=\"167\" x=\"301.5\" y=\"502\"/><text fill=\"#000000\" font-family=\"sans-serif\" font-size=\"12\" font-style=\"italic\" lengthAdjust=\"spacingAndGlyphs\" textLength=\"69\" x=\"350.5\" y=\"518.1387\">«attribute»</text><text fill=\"#000000\" font-family=\"sans-serif\" font-size=\"12\" lengthAdjust=\"spacingAndGlyphs\" textLength=\"106\" x=\"332\" y=\"532.1074\">packet data field</text><line style=\"stroke: #383838; stroke-width: 1.5;\" x1=\"302.5\" x2=\"467.5\" y1=\"539.9375\" y2=\"539.9375\"/><text fill=\"#000000\" font-family=\"sans-serif\" font-size=\"11\" lengthAdjust=\"spacingAndGlyphs\" textLength=\"144\" x=\"307.5\" y=\"570.9526\">packet secondary header</text><text fill=\"#000000\" font-family=\"sans-serif\" font-size=\"11\" font-style=\"italic\" lengthAdjust=\"spacingAndGlyphs\" textLength=\"155\" x=\"307.5\" y=\"583.7573\">:&gt;&gt;Packets::packet header</text><text fill=\"#000000\" font-family=\"sans-serif\" font-size=\"11\" lengthAdjust=\"spacingAndGlyphs\" textLength=\"83\" x=\"307.5\" y=\"596.562\">user data field</text><line style=\"stroke: #383838; stroke-width: 1.0;\" x1=\"302.5\" x2=\"357.5\" y1=\"554.3398\" y2=\"554.3398\"/><text fill=\"#000000\" font-family=\"sans-serif\" font-size=\"11\" lengthAdjust=\"spacingAndGlyphs\" textLength=\"55\" x=\"357.5\" y=\"557.6479\">attributes</text><line style=\"stroke: #383838; stroke-width: 1.0;\" x1=\"412.5\" x2=\"467.5\" y1=\"554.3398\" y2=\"554.3398\"/></a><!--MD5=[60a26617385b1d2d0262a64233df1f8d]\n",
       "class E6--><a href=\"psysml:8bac5b56-bd53-4c22-88f8-0cbcb8384e0b\" target=\"_top\" title=\"psysml:8bac5b56-bd53-4c22-88f8-0cbcb8384e0b\" xlink:actuate=\"onRequest\" xlink:href=\"psysml:8bac5b56-bd53-4c22-88f8-0cbcb8384e0b\" xlink:show=\"new\" xlink:title=\"psysml:8bac5b56-bd53-4c22-88f8-0cbcb8384e0b\" xlink:type=\"simple\"><rect fill=\"#FFFFFF\" height=\"101.1563\" id=\"E6\" rx=\"10\" ry=\"10\" style=\"stroke: #383838; stroke-width: 1.5;\" width=\"191\" x=\"91.5\" y=\"353\"/><text fill=\"#000000\" font-family=\"sans-serif\" font-size=\"12\" font-style=\"italic\" lengthAdjust=\"spacingAndGlyphs\" textLength=\"69\" x=\"152.5\" y=\"369.1387\">«attribute»</text><text fill=\"#000000\" font-family=\"sans-serif\" font-size=\"12\" lengthAdjust=\"spacingAndGlyphs\" textLength=\"142\" x=\"116\" y=\"383.1074\">packet primary header</text><line style=\"stroke: #383838; stroke-width: 1.5;\" x1=\"92.5\" x2=\"281.5\" y1=\"390.9375\" y2=\"390.9375\"/><text fill=\"#000000\" font-family=\"sans-serif\" font-size=\"11\" lengthAdjust=\"spacingAndGlyphs\" textLength=\"153\" x=\"97.5\" y=\"421.9526\">packet data length: Integer</text><text fill=\"#000000\" font-family=\"sans-serif\" font-size=\"11\" lengthAdjust=\"spacingAndGlyphs\" textLength=\"155\" x=\"97.5\" y=\"434.7573\">packet identification: String</text><text fill=\"#000000\" font-family=\"sans-serif\" font-size=\"11\" lengthAdjust=\"spacingAndGlyphs\" textLength=\"179\" x=\"97.5\" y=\"447.562\">packet version number: Integer</text><line style=\"stroke: #383838; stroke-width: 1.0;\" x1=\"92.5\" x2=\"159.5\" y1=\"405.3398\" y2=\"405.3398\"/><text fill=\"#000000\" font-family=\"sans-serif\" font-size=\"11\" lengthAdjust=\"spacingAndGlyphs\" textLength=\"55\" x=\"159.5\" y=\"408.6479\">attributes</text><line style=\"stroke: #383838; stroke-width: 1.0;\" x1=\"214.5\" x2=\"281.5\" y1=\"405.3398\" y2=\"405.3398\"/></a><!--MD5=[2156ba9850f5573cc1fc38a6a4b2f02b]\n",
       "class E7--><a href=\"psysml:e649f067-3966-42a9-912a-f470df4c2484\" target=\"_top\" title=\"psysml:e649f067-3966-42a9-912a-f470df4c2484\" xlink:actuate=\"onRequest\" xlink:href=\"psysml:e649f067-3966-42a9-912a-f470df4c2484\" xlink:show=\"new\" xlink:title=\"psysml:e649f067-3966-42a9-912a-f470df4c2484\" xlink:type=\"simple\"><rect fill=\"#FFFFFF\" height=\"45.9375\" id=\"E7\" rx=\"10\" ry=\"10\" style=\"stroke: #383838; stroke-width: 1.5;\" width=\"112\" x=\"318\" y=\"380.5\"/><text fill=\"#000000\" font-family=\"sans-serif\" font-size=\"12\" font-style=\"italic\" lengthAdjust=\"spacingAndGlyphs\" textLength=\"69\" x=\"339.5\" y=\"396.6387\">«attribute»</text><text fill=\"#000000\" font-family=\"sans-serif\" font-size=\"12\" lengthAdjust=\"spacingAndGlyphs\" textLength=\"106\" x=\"321\" y=\"410.6074\">packet data field</text><line style=\"stroke: #383838; stroke-width: 1.5;\" x1=\"319\" x2=\"429\" y1=\"418.4375\" y2=\"418.4375\"/></a><!--MD5=[fd4143e9d270a159db93a4ea2a975926]\n",
       "class E9--><a href=\"psysml:9d2256ff-aa99-47f6-ab60-2a2dbee9749e\" target=\"_top\" title=\"psysml:9d2256ff-aa99-47f6-ab60-2a2dbee9749e\" xlink:actuate=\"onRequest\" xlink:href=\"psysml:9d2256ff-aa99-47f6-ab60-2a2dbee9749e\" xlink:show=\"new\" xlink:title=\"psysml:9d2256ff-aa99-47f6-ab60-2a2dbee9749e\" xlink:type=\"simple\"><rect fill=\"#FFFFFF\" height=\"113.9609\" id=\"E9\" rx=\"10\" ry=\"10\" style=\"stroke: #383838; stroke-width: 1.5;\" width=\"219\" x=\"215.5\" y=\"116\"/><text fill=\"#000000\" font-family=\"sans-serif\" font-size=\"12\" font-style=\"italic\" lengthAdjust=\"spacingAndGlyphs\" textLength=\"69\" x=\"290.5\" y=\"132.1387\">«attribute»</text><text fill=\"#000000\" font-family=\"sans-serif\" font-size=\"12\" lengthAdjust=\"spacingAndGlyphs\" textLength=\"106\" x=\"272\" y=\"146.1074\">packet data field</text><line style=\"stroke: #383838; stroke-width: 1.5;\" x1=\"216.5\" x2=\"433.5\" y1=\"153.9375\" y2=\"153.9375\"/><text fill=\"#000000\" font-family=\"sans-serif\" font-size=\"11\" lengthAdjust=\"spacingAndGlyphs\" textLength=\"144\" x=\"221.5\" y=\"184.9526\">packet secondary header</text><text fill=\"#000000\" font-family=\"sans-serif\" font-size=\"11\" font-style=\"italic\" lengthAdjust=\"spacingAndGlyphs\" textLength=\"155\" x=\"221.5\" y=\"197.7573\">:&gt;&gt;Packets::packet header</text><text fill=\"#000000\" font-family=\"sans-serif\" font-size=\"11\" lengthAdjust=\"spacingAndGlyphs\" textLength=\"83\" x=\"221.5\" y=\"210.562\">user data field</text><text fill=\"#000000\" font-family=\"sans-serif\" font-size=\"11\" font-style=\"italic\" lengthAdjust=\"spacingAndGlyphs\" textLength=\"207\" x=\"221.5\" y=\"223.3667\">:&gt;&gt;packet data field::user data field</text><line style=\"stroke: #383838; stroke-width: 1.0;\" x1=\"216.5\" x2=\"297.5\" y1=\"168.3398\" y2=\"168.3398\"/><text fill=\"#000000\" font-family=\"sans-serif\" font-size=\"11\" lengthAdjust=\"spacingAndGlyphs\" textLength=\"55\" x=\"297.5\" y=\"171.6479\">attributes</text><line style=\"stroke: #383838; stroke-width: 1.0;\" x1=\"352.5\" x2=\"433.5\" y1=\"168.3398\" y2=\"168.3398\"/></a><!--MD5=[a717450b82c80b9240a525fa862496af]\n",
       "link E6 to E3--><a href=\"psysml:6aaaf2f4-4b2b-4d4a-ac54-83bc6d358576\" target=\"_top\" title=\"psysml:6aaaf2f4-4b2b-4d4a-ac54-83bc6d358576\" xlink:actuate=\"onRequest\" xlink:href=\"psysml:6aaaf2f4-4b2b-4d4a-ac54-83bc6d358576\" xlink:show=\"new\" xlink:title=\"psysml:6aaaf2f4-4b2b-4d4a-ac54-83bc6d358576\" xlink:type=\"simple\"><path d=\"M187,454.36 C187,454.36 187,509.36 187,509.36 \" fill=\"none\" id=\"E6-&gt;E3\" style=\"stroke: #383838; stroke-width: 1.0;\"/><polygon fill=\"#FFFFFF\" points=\"187,529.36,180,510.36,194,510.36,187,529.36\" style=\"stroke: #383838; stroke-width: 1.0;\"/><line style=\"stroke: #383838; stroke-width: 2.0;\" x1=\"180\" x2=\"194\" y1=\"506.56\" y2=\"506.56\"/></a><!--MD5=[6bdd27f9905911a7e892a3dc65cf6b7c]\n",
       "link E7 to E4--><a href=\"psysml:895bc16e-261f-455c-84ef-7cbef2b79206\" target=\"_top\" title=\"psysml:895bc16e-261f-455c-84ef-7cbef2b79206\" xlink:actuate=\"onRequest\" xlink:href=\"psysml:895bc16e-261f-455c-84ef-7cbef2b79206\" xlink:show=\"new\" xlink:title=\"psysml:895bc16e-261f-455c-84ef-7cbef2b79206\" xlink:type=\"simple\"><path d=\"M374,426.78 C374,426.78 374,481.95 374,481.95 \" fill=\"none\" id=\"E7-&gt;E4\" style=\"stroke: #383838; stroke-width: 1.0;\"/><polygon fill=\"#FFFFFF\" points=\"374,501.95,367,482.95,381,482.95,374,501.95\" style=\"stroke: #383838; stroke-width: 1.0;\"/><line style=\"stroke: #383838; stroke-width: 2.0;\" x1=\"367\" x2=\"381\" y1=\"479.15\" y2=\"479.15\"/></a><!--MD5=[1ccb2481ffa92f8d51a74ee30c51832a]\n",
       "link E8 to E5--><a href=\"psysml:8c509f82-013b-4383-9ee5-07fa63a1b780\" target=\"_top\" title=\"psysml:8c509f82-013b-4383-9ee5-07fa63a1b780\" xlink:actuate=\"onRequest\" xlink:href=\"psysml:8c509f82-013b-4383-9ee5-07fa63a1b780\" xlink:show=\"new\" xlink:title=\"psysml:8c509f82-013b-4383-9ee5-07fa63a1b780\" xlink:type=\"simple\"><path d=\"M171.864,213 C170.8423,213 169.7373,213 168.5566,213 C166.1953,213 163.5313,213 160.625,213 C149,213 133.5,213 118,213 C87,213 56,213 56,213 C56,213 56,224.1737 56,241.1089 C56,249.5765 56,259.4844 56,270.1562 C56,275.492 56,281.0188 56,286.652 C56,288.0603 56,289.4753 56,290.8956 C56,291.6057 56,292.3172 56,293.0298 \" fill=\"none\" id=\"E8-&gt;E5\" style=\"stroke: #383838; stroke-width: 1.0;\"/><polygon fill=\"#FFFFFF\" points=\"56,293.0298,63,274.0298,49,274.0298,56,293.0298\" style=\"stroke: #383838; stroke-width: 1.0;\"/></a><!--MD5=[c2be97adba6ddfe1c8f349fab141c927]\n",
       "link E9 to E4--><a href=\"psysml:a0ec1df7-1b05-4d8f-b92a-b996d3ea1089\" target=\"_top\" title=\"psysml:a0ec1df7-1b05-4d8f-b92a-b996d3ea1089\" xlink:actuate=\"onRequest\" xlink:href=\"psysml:a0ec1df7-1b05-4d8f-b92a-b996d3ea1089\" xlink:show=\"new\" xlink:title=\"psysml:a0ec1df7-1b05-4d8f-b92a-b996d3ea1089\" xlink:type=\"simple\"><path d=\"M309.75,230.23 C309.75,230.23 309.75,481.8 309.75,481.8 \" fill=\"none\" id=\"E9-&gt;E4\" style=\"stroke: #383838; stroke-width: 1.0;\"/><polygon fill=\"#FFFFFF\" points=\"309.75,501.8,302.75,482.8,316.75,482.8,309.75,501.8\" style=\"stroke: #383838; stroke-width: 1.0;\"/><line style=\"stroke: #383838; stroke-width: 2.0;\" x1=\"302.75\" x2=\"316.75\" y1=\"479\" y2=\"479\"/></a><!--MD5=[252e1d56c9f050120a3bd3ae752614e8]\n",
       "@startuml\r\n",
       "skinparam ranksep 10\r\n",
       "skinparam rectangle {\r\n",
       " backgroundColor<<block>> LightGreen\r\n",
       "}\r\n",
       "skinparam linetype ortho\r\n",
       "skinparam monochrome true\r\n",
       "skinparam classbackgroundcolor white\r\n",
       "skinparam shadowing false\r\n",
       "skinparam wrapWidth 300\r\n",
       "hide circle\r\n",
       "\r\n",
       "package \"Packets\" as E1  [[psysml:781596e5-2fdd-47e5-84a9-0e1e2d017791 ]]  {\r\n",
       "def \"DateTime\" as E2  <<(T,blue)attribute def>> [[psysml:09967ea5-e8af-470d-92d0-5553b1044725 ]] \r\n",
       "comp usage \"packet header\" as E3  <<(T,blue)attribute>> [[psysml:16b22f80-f2ca-4440-a25c-8e72c7cab96e ]] {\r\n",
       "}\r\n",
       "comp usage \"packet data field\" as E4  <<(T,blue)attribute>> [[psysml:7e904c0e-d2a4-45ad-bef1-7051678b2240 ]] {\r\n",
       "- - attributes - -\r\n",
       "packet secondary header\\n//:>>Packets::packet header// \r\n",
       "user data field\r\n",
       "}\r\n",
       "rec def \"Data Packet\" as E5  <<(T,blue)part def>> [[psysml:7a510d36-5831-409f-9d62-08a185df40ba ]] {\r\n",
       "comp usage \"packet primary header\" as E6  <<(T,blue)attribute>> [[psysml:8bac5b56-bd53-4c22-88f8-0cbcb8384e0b ]] {\r\n",
       "- - attributes - -\r\n",
       "packet data length: Integer\r\n",
       "packet identification: String\r\n",
       "packet version number: Integer\r\n",
       "}\r\n",
       "comp usage \"packet data field\" as E7  <<(T,blue)attribute>> [[psysml:e649f067-3966-42a9-912a-f470df4c2484 ]] {\r\n",
       "}\r\n",
       "}\r\n",
       "rec def \"Thermal Data Packet\" as E8  <<(T,blue)part def>> [[psysml:10023c3e-6ce6-4816-9fb9-6800bd66eb89 ]] {\r\n",
       "comp usage \"packet data field\" as E9  <<(T,blue)attribute>> [[psysml:9d2256ff-aa99-47f6-ab60-2a2dbee9749e ]] {\r\n",
       "- - attributes - -\r\n",
       "packet secondary header\\n//:>>Packets::packet header// \r\n",
       "user data field\\n//:>>packet data field::user data field// \r\n",
       "}\r\n",
       "}\r\n",
       "E6 - -||> E3 [[psysml:6aaaf2f4-4b2b-4d4a-ac54-83bc6d358576 ]] \r\n",
       "E7 - -||> E4 [[psysml:895bc16e-261f-455c-84ef-7cbef2b79206 ]] \r\n",
       "E8 - -|> E5 [[psysml:8c509f82-013b-4383-9ee5-07fa63a1b780 ]] \r\n",
       "E9 - -||> E4 [[psysml:a0ec1df7-1b05-4d8f-b92a-b996d3ea1089 ]] \r\n",
       "}\r\n",
       "@enduml\r\n",
       "\n",
       "PlantUML version 1.2020.13(Sat Jun 13 12:26:38 UTC 2020)\n",
       "(EPL source distribution)\n",
       "Java Runtime: OpenJDK Runtime Environment\n",
       "JVM: OpenJDK 64-Bit Server VM\n",
       "Default Encoding: UTF-8\n",
       "Language: en\n",
       "Country: null\n",
       "--></g></svg>"
      ]
     },
     "execution_count": 54,
     "metadata": {},
     "output_type": "execute_result"
    }
   ],
   "source": [
    "%viz --style=\"ORTHOLINE\" --view=\"Interconnection\" \"Packets\""
   ]
  },
  {
   "cell_type": "code",
   "execution_count": 55,
   "id": "75c17d14",
   "metadata": {
    "execution": {
     "iopub.execute_input": "2021-04-20T07:33:59.772945Z",
     "iopub.status.busy": "2021-04-20T07:33:59.771745Z",
     "iopub.status.idle": "2021-04-20T07:33:59.780342Z",
     "shell.execute_reply": "2021-04-20T07:33:59.779488Z"
    }
   },
   "outputs": [
    {
     "data": {
      "image/svg+xml": [
       "<?xml version=\"1.0\" encoding=\"UTF-8\" standalone=\"no\"?><svg xmlns=\"http://www.w3.org/2000/svg\" xmlns:xlink=\"http://www.w3.org/1999/xlink\" contentScriptType=\"application/ecmascript\" contentStyleType=\"text/css\" height=\"12px\" preserveAspectRatio=\"none\" style=\"width:12px;height:12px;\" version=\"1.1\" viewBox=\"0 0 12 12\" width=\"12px\" zoomAndPan=\"magnify\"><defs/><g><!--MD5=[72934c63077099a26744516a776b4749]\n",
       "@startuml\r\n",
       "skinparam ranksep 8\r\n",
       "skinparam linetype ortho\r\n",
       "skinparam monochrome true\r\n",
       "skinparam classbackgroundcolor white\r\n",
       "skinparam shadowing false\r\n",
       "skinparam wrapWidth 300\r\n",
       "hide circle\r\n",
       "\r\n",
       "@enduml\r\n",
       "\n",
       "PlantUML version 1.2020.13(Sat Jun 13 12:26:38 UTC 2020)\n",
       "(EPL source distribution)\n",
       "Java Runtime: OpenJDK Runtime Environment\n",
       "JVM: OpenJDK 64-Bit Server VM\n",
       "Default Encoding: UTF-8\n",
       "Language: en\n",
       "Country: null\n",
       "--></g></svg>"
      ]
     },
     "execution_count": 55,
     "metadata": {},
     "output_type": "execute_result"
    }
   ],
   "source": [
    "%viz --style=\"ORTHOLINE\" --view=\"Action\" \"Packets\""
   ]
  },
  {
   "cell_type": "code",
   "execution_count": 56,
   "id": "94850038",
   "metadata": {
    "execution": {
     "iopub.execute_input": "2021-04-20T07:33:59.830347Z",
     "iopub.status.busy": "2021-04-20T07:33:59.829840Z",
     "iopub.status.idle": "2021-04-20T07:34:00.088648Z",
     "shell.execute_reply": "2021-04-20T07:34:00.086382Z"
    }
   },
   "outputs": [
    {
     "data": {
      "image/svg+xml": [
       "<?xml version=\"1.0\" encoding=\"UTF-8\" standalone=\"no\"?><svg xmlns=\"http://www.w3.org/2000/svg\" xmlns:xlink=\"http://www.w3.org/1999/xlink\" contentScriptType=\"application/ecmascript\" contentStyleType=\"text/css\" height=\"344px\" preserveAspectRatio=\"none\" style=\"width:716px;height:344px;\" version=\"1.1\" viewBox=\"0 0 716 344\" width=\"716px\" zoomAndPan=\"magnify\"><defs/><g><!--MD5=[fbc87193dbaf4d95561dea2c320d4a47]\n",
       "cluster E1--><a href=\"psysml:781596e5-2fdd-47e5-84a9-0e1e2d017791\" target=\"_top\" title=\"psysml:781596e5-2fdd-47e5-84a9-0e1e2d017791\" xlink:actuate=\"onRequest\" xlink:href=\"psysml:781596e5-2fdd-47e5-84a9-0e1e2d017791\" xlink:show=\"new\" xlink:title=\"psysml:781596e5-2fdd-47e5-84a9-0e1e2d017791\" xlink:type=\"simple\"><polygon fill=\"#FFFFFF\" points=\"16,6,84,6,91,28.2969,694,28.2969,694,332,16,332,16,6\" style=\"stroke: #000000; stroke-width: 1.5;\"/><line style=\"stroke: #000000; stroke-width: 1.5;\" x1=\"16\" x2=\"91\" y1=\"28.2969\" y2=\"28.2969\"/><text fill=\"#000000\" font-family=\"sans-serif\" font-size=\"14\" font-weight=\"bold\" lengthAdjust=\"spacingAndGlyphs\" textLength=\"62\" x=\"20\" y=\"20.9951\">Packets</text></a><!--MD5=[b4997ac47864f28c2f74865a473b2911]\n",
       "class E2--><a href=\"psysml:09967ea5-e8af-470d-92d0-5553b1044725\" target=\"_top\" title=\"psysml:09967ea5-e8af-470d-92d0-5553b1044725\" xlink:actuate=\"onRequest\" xlink:href=\"psysml:09967ea5-e8af-470d-92d0-5553b1044725\" xlink:show=\"new\" xlink:title=\"psysml:09967ea5-e8af-470d-92d0-5553b1044725\" xlink:type=\"simple\"><rect fill=\"#FFFFFF\" height=\"45.9375\" id=\"E2\" style=\"stroke: #383838; stroke-width: 1.5;\" width=\"95\" x=\"582.5\" y=\"68.5\"/><text fill=\"#000000\" font-family=\"sans-serif\" font-size=\"12\" font-style=\"italic\" lengthAdjust=\"spacingAndGlyphs\" textLength=\"93\" x=\"583.5\" y=\"84.6387\">«attribute def»</text><text fill=\"#000000\" font-family=\"sans-serif\" font-size=\"12\" lengthAdjust=\"spacingAndGlyphs\" textLength=\"59\" x=\"600.5\" y=\"98.6074\">DateTime</text><line style=\"stroke: #383838; stroke-width: 1.5;\" x1=\"583.5\" x2=\"676.5\" y1=\"106.4375\" y2=\"106.4375\"/></a><!--MD5=[09b614a08d8cba4a07c9adeb5e0fee81]\n",
       "class E3--><a href=\"psysml:16b22f80-f2ca-4440-a25c-8e72c7cab96e\" target=\"_top\" title=\"psysml:16b22f80-f2ca-4440-a25c-8e72c7cab96e\" xlink:actuate=\"onRequest\" xlink:href=\"psysml:16b22f80-f2ca-4440-a25c-8e72c7cab96e\" xlink:show=\"new\" xlink:title=\"psysml:16b22f80-f2ca-4440-a25c-8e72c7cab96e\" xlink:type=\"simple\"><rect fill=\"#FFFFFF\" height=\"45.9375\" id=\"E3\" rx=\"10\" ry=\"10\" style=\"stroke: #383838; stroke-width: 1.5;\" width=\"98\" x=\"449\" y=\"68.5\"/><text fill=\"#000000\" font-family=\"sans-serif\" font-size=\"12\" font-style=\"italic\" lengthAdjust=\"spacingAndGlyphs\" textLength=\"69\" x=\"463.5\" y=\"84.6387\">«attribute»</text><text fill=\"#000000\" font-family=\"sans-serif\" font-size=\"12\" lengthAdjust=\"spacingAndGlyphs\" textLength=\"92\" x=\"452\" y=\"98.6074\">packet header</text><line style=\"stroke: #383838; stroke-width: 1.5;\" x1=\"450\" x2=\"546\" y1=\"106.4375\" y2=\"106.4375\"/></a><!--MD5=[ebbe1d658d1005bcc118a6aa81145e00]\n",
       "class E4--><a href=\"psysml:7e904c0e-d2a4-45ad-bef1-7051678b2240\" target=\"_top\" title=\"psysml:7e904c0e-d2a4-45ad-bef1-7051678b2240\" xlink:actuate=\"onRequest\" xlink:href=\"psysml:7e904c0e-d2a4-45ad-bef1-7051678b2240\" xlink:show=\"new\" xlink:title=\"psysml:7e904c0e-d2a4-45ad-bef1-7051678b2240\" xlink:type=\"simple\"><rect fill=\"#FFFFFF\" height=\"101.1563\" id=\"E4\" rx=\"10\" ry=\"10\" style=\"stroke: #383838; stroke-width: 1.5;\" width=\"167\" x=\"247.5\" y=\"41\"/><text fill=\"#000000\" font-family=\"sans-serif\" font-size=\"12\" font-style=\"italic\" lengthAdjust=\"spacingAndGlyphs\" textLength=\"69\" x=\"296.5\" y=\"57.1387\">«attribute»</text><text fill=\"#000000\" font-family=\"sans-serif\" font-size=\"12\" lengthAdjust=\"spacingAndGlyphs\" textLength=\"106\" x=\"278\" y=\"71.1074\">packet data field</text><line style=\"stroke: #383838; stroke-width: 1.5;\" x1=\"248.5\" x2=\"413.5\" y1=\"78.9375\" y2=\"78.9375\"/><text fill=\"#000000\" font-family=\"sans-serif\" font-size=\"11\" lengthAdjust=\"spacingAndGlyphs\" textLength=\"144\" x=\"253.5\" y=\"109.9526\">packet secondary header</text><text fill=\"#000000\" font-family=\"sans-serif\" font-size=\"11\" font-style=\"italic\" lengthAdjust=\"spacingAndGlyphs\" textLength=\"155\" x=\"253.5\" y=\"122.7573\">:&gt;&gt;Packets::packet header</text><text fill=\"#000000\" font-family=\"sans-serif\" font-size=\"11\" lengthAdjust=\"spacingAndGlyphs\" textLength=\"83\" x=\"253.5\" y=\"135.562\">user data field</text><line style=\"stroke: #383838; stroke-width: 1.0;\" x1=\"248.5\" x2=\"303.5\" y1=\"93.3398\" y2=\"93.3398\"/><text fill=\"#000000\" font-family=\"sans-serif\" font-size=\"11\" lengthAdjust=\"spacingAndGlyphs\" textLength=\"55\" x=\"303.5\" y=\"96.6479\">attributes</text><line style=\"stroke: #383838; stroke-width: 1.0;\" x1=\"358.5\" x2=\"413.5\" y1=\"93.3398\" y2=\"93.3398\"/></a><!--MD5=[270fce915f116d4de14055a7c1d9a0f3]\n",
       "class E5--><a href=\"psysml:7a510d36-5831-409f-9d62-08a185df40ba\" target=\"_top\" title=\"psysml:7a510d36-5831-409f-9d62-08a185df40ba\" xlink:actuate=\"onRequest\" xlink:href=\"psysml:7a510d36-5831-409f-9d62-08a185df40ba\" xlink:show=\"new\" xlink:title=\"psysml:7a510d36-5831-409f-9d62-08a185df40ba\" xlink:type=\"simple\"><rect fill=\"#FFFFFF\" height=\"113.9609\" id=\"E5\" style=\"stroke: #383838; stroke-width: 1.5;\" width=\"180\" x=\"32\" y=\"202\"/><text fill=\"#000000\" font-family=\"sans-serif\" font-size=\"12\" font-style=\"italic\" lengthAdjust=\"spacingAndGlyphs\" textLength=\"64\" x=\"90\" y=\"218.1387\">«part def»</text><text fill=\"#000000\" font-family=\"sans-serif\" font-size=\"12\" lengthAdjust=\"spacingAndGlyphs\" textLength=\"77\" x=\"83.5\" y=\"232.1074\">Data Packet</text><line style=\"stroke: #383838; stroke-width: 1.5;\" x1=\"33\" x2=\"211\" y1=\"239.9375\" y2=\"239.9375\"/><text fill=\"#000000\" font-family=\"sans-serif\" font-size=\"11\" lengthAdjust=\"spacingAndGlyphs\" textLength=\"94\" x=\"38\" y=\"270.9526\">packet data field</text><text fill=\"#000000\" font-family=\"sans-serif\" font-size=\"11\" font-style=\"italic\" lengthAdjust=\"spacingAndGlyphs\" textLength=\"168\" x=\"38\" y=\"283.7573\">:&gt;&gt;Packets::packet data field</text><text fill=\"#000000\" font-family=\"sans-serif\" font-size=\"11\" lengthAdjust=\"spacingAndGlyphs\" textLength=\"129\" x=\"38\" y=\"296.562\">packet primary header</text><text fill=\"#000000\" font-family=\"sans-serif\" font-size=\"11\" font-style=\"italic\" lengthAdjust=\"spacingAndGlyphs\" textLength=\"155\" x=\"38\" y=\"309.3667\">:&gt;&gt;Packets::packet header</text><line style=\"stroke: #383838; stroke-width: 1.0;\" x1=\"33\" x2=\"94.5\" y1=\"254.3398\" y2=\"254.3398\"/><text fill=\"#000000\" font-family=\"sans-serif\" font-size=\"11\" lengthAdjust=\"spacingAndGlyphs\" textLength=\"55\" x=\"94.5\" y=\"257.6479\">attributes</text><line style=\"stroke: #383838; stroke-width: 1.0;\" x1=\"149.5\" x2=\"211\" y1=\"254.3398\" y2=\"254.3398\"/></a><!--MD5=[60a26617385b1d2d0262a64233df1f8d]\n",
       "class E6--><a href=\"psysml:10023c3e-6ce6-4816-9fb9-6800bd66eb89\" target=\"_top\" title=\"psysml:10023c3e-6ce6-4816-9fb9-6800bd66eb89\" xlink:actuate=\"onRequest\" xlink:href=\"psysml:10023c3e-6ce6-4816-9fb9-6800bd66eb89\" xlink:show=\"new\" xlink:title=\"psysml:10023c3e-6ce6-4816-9fb9-6800bd66eb89\" xlink:type=\"simple\"><rect fill=\"#FFFFFF\" height=\"88.3516\" id=\"E6\" style=\"stroke: #383838; stroke-width: 1.5;\" width=\"180\" x=\"32\" y=\"47.5\"/><text fill=\"#000000\" font-family=\"sans-serif\" font-size=\"12\" font-style=\"italic\" lengthAdjust=\"spacingAndGlyphs\" textLength=\"64\" x=\"90\" y=\"63.6387\">«part def»</text><text fill=\"#000000\" font-family=\"sans-serif\" font-size=\"12\" lengthAdjust=\"spacingAndGlyphs\" textLength=\"131\" x=\"56.5\" y=\"77.6074\">Thermal Data Packet</text><line style=\"stroke: #383838; stroke-width: 1.5;\" x1=\"33\" x2=\"211\" y1=\"85.4375\" y2=\"85.4375\"/><text fill=\"#000000\" font-family=\"sans-serif\" font-size=\"11\" lengthAdjust=\"spacingAndGlyphs\" textLength=\"94\" x=\"38\" y=\"116.4526\">packet data field</text><text fill=\"#000000\" font-family=\"sans-serif\" font-size=\"11\" font-style=\"italic\" lengthAdjust=\"spacingAndGlyphs\" textLength=\"168\" x=\"38\" y=\"129.2573\">:&gt;&gt;Packets::packet data field</text><line style=\"stroke: #383838; stroke-width: 1.0;\" x1=\"33\" x2=\"94.5\" y1=\"99.8398\" y2=\"99.8398\"/><text fill=\"#000000\" font-family=\"sans-serif\" font-size=\"11\" lengthAdjust=\"spacingAndGlyphs\" textLength=\"55\" x=\"94.5\" y=\"103.1479\">attributes</text><line style=\"stroke: #383838; stroke-width: 1.0;\" x1=\"149.5\" x2=\"211\" y1=\"99.8398\" y2=\"99.8398\"/></a><!--MD5=[25b190c987b1e74e5126d372c5a73af1]\n",
       "link E6 to E5--><a href=\"psysml:8c509f82-013b-4383-9ee5-07fa63a1b780\" target=\"_top\" title=\"psysml:8c509f82-013b-4383-9ee5-07fa63a1b780\" xlink:actuate=\"onRequest\" xlink:href=\"psysml:8c509f82-013b-4383-9ee5-07fa63a1b780\" xlink:show=\"new\" xlink:title=\"psysml:8c509f82-013b-4383-9ee5-07fa63a1b780\" xlink:type=\"simple\"><path d=\"M122,135.51 C122,135.51 122,181.73 122,181.73 \" fill=\"none\" id=\"E6-&gt;E5\" style=\"stroke: #383838; stroke-width: 1.0;\"/><polygon fill=\"none\" points=\"129,181.73,122,201.73,115,181.73,129,181.73\" style=\"stroke: #383838; stroke-width: 1.0;\"/></a><!--MD5=[b0c49ed4a02999689ff8d245e8b77ef3]\n",
       "@startuml\r\n",
       "skinparam linetype ortho\r\n",
       "skinparam monochrome true\r\n",
       "skinparam classbackgroundcolor white\r\n",
       "skinparam shadowing false\r\n",
       "skinparam wrapWidth 300\r\n",
       "hide circle\r\n",
       "\r\n",
       "package \"Packets\" as E1  [[psysml:781596e5-2fdd-47e5-84a9-0e1e2d017791 ]]  {\r\n",
       "comp def \"DateTime\" as E2  <<(T,blue)attribute def>> [[psysml:09967ea5-e8af-470d-92d0-5553b1044725 ]] {\r\n",
       "}\r\n",
       "comp usage \"packet header\" as E3  <<(T,blue)attribute>> [[psysml:16b22f80-f2ca-4440-a25c-8e72c7cab96e ]] {\r\n",
       "}\r\n",
       "comp usage \"packet data field\" as E4  <<(T,blue)attribute>> [[psysml:7e904c0e-d2a4-45ad-bef1-7051678b2240 ]] {\r\n",
       "- - attributes - -\r\n",
       "packet secondary header\\n//:>>Packets::packet header// \r\n",
       "user data field\r\n",
       "}\r\n",
       "comp def \"Data Packet\" as E5  <<(T,blue)part def>> [[psysml:7a510d36-5831-409f-9d62-08a185df40ba ]] {\r\n",
       "- - attributes - -\r\n",
       "packet data field\\n//:>>Packets::packet data field// \r\n",
       "packet primary header\\n//:>>Packets::packet header// \r\n",
       "}\r\n",
       "comp def \"Thermal Data Packet\" as E6  <<(T,blue)part def>> [[psysml:10023c3e-6ce6-4816-9fb9-6800bd66eb89 ]] {\r\n",
       "- - attributes - -\r\n",
       "packet data field\\n//:>>Packets::packet data field// \r\n",
       "}\r\n",
       "E6 - -|> E5 [[psysml:8c509f82-013b-4383-9ee5-07fa63a1b780 ]] \r\n",
       "}\r\n",
       "@enduml\r\n",
       "\n",
       "PlantUML version 1.2020.13(Sat Jun 13 12:26:38 UTC 2020)\n",
       "(EPL source distribution)\n",
       "Java Runtime: OpenJDK Runtime Environment\n",
       "JVM: OpenJDK 64-Bit Server VM\n",
       "Default Encoding: UTF-8\n",
       "Language: en\n",
       "Country: null\n",
       "--></g></svg>"
      ]
     },
     "execution_count": 56,
     "metadata": {},
     "output_type": "execute_result"
    }
   ],
   "source": [
    "%viz --style=\"ORTHOLINE\" --view=\"Sequence\" \"Packets\""
   ]
  },
  {
   "cell_type": "code",
   "execution_count": 57,
   "id": "23312da3",
   "metadata": {
    "execution": {
     "iopub.execute_input": "2021-04-20T07:34:00.138866Z",
     "iopub.status.busy": "2021-04-20T07:34:00.138013Z",
     "iopub.status.idle": "2021-04-20T07:34:00.304832Z",
     "shell.execute_reply": "2021-04-20T07:34:00.301049Z"
    }
   },
   "outputs": [
    {
     "data": {
      "image/svg+xml": [
       "<?xml version=\"1.0\" encoding=\"UTF-8\" standalone=\"no\"?><svg xmlns=\"http://www.w3.org/2000/svg\" xmlns:xlink=\"http://www.w3.org/1999/xlink\" contentScriptType=\"application/ecmascript\" contentStyleType=\"text/css\" height=\"344px\" preserveAspectRatio=\"none\" style=\"width:716px;height:344px;\" version=\"1.1\" viewBox=\"0 0 716 344\" width=\"716px\" zoomAndPan=\"magnify\"><defs/><g><!--MD5=[fbc87193dbaf4d95561dea2c320d4a47]\n",
       "cluster E1--><a href=\"psysml:781596e5-2fdd-47e5-84a9-0e1e2d017791\" target=\"_top\" title=\"psysml:781596e5-2fdd-47e5-84a9-0e1e2d017791\" xlink:actuate=\"onRequest\" xlink:href=\"psysml:781596e5-2fdd-47e5-84a9-0e1e2d017791\" xlink:show=\"new\" xlink:title=\"psysml:781596e5-2fdd-47e5-84a9-0e1e2d017791\" xlink:type=\"simple\"><polygon fill=\"#FFFFFF\" points=\"16,6,84,6,91,28.2969,694,28.2969,694,332,16,332,16,6\" style=\"stroke: #000000; stroke-width: 1.5;\"/><line style=\"stroke: #000000; stroke-width: 1.5;\" x1=\"16\" x2=\"91\" y1=\"28.2969\" y2=\"28.2969\"/><text fill=\"#000000\" font-family=\"sans-serif\" font-size=\"14\" font-weight=\"bold\" lengthAdjust=\"spacingAndGlyphs\" textLength=\"62\" x=\"20\" y=\"20.9951\">Packets</text></a><!--MD5=[b4997ac47864f28c2f74865a473b2911]\n",
       "class E2--><a href=\"psysml:09967ea5-e8af-470d-92d0-5553b1044725\" target=\"_top\" title=\"psysml:09967ea5-e8af-470d-92d0-5553b1044725\" xlink:actuate=\"onRequest\" xlink:href=\"psysml:09967ea5-e8af-470d-92d0-5553b1044725\" xlink:show=\"new\" xlink:title=\"psysml:09967ea5-e8af-470d-92d0-5553b1044725\" xlink:type=\"simple\"><rect fill=\"#FFFFFF\" height=\"45.9375\" id=\"E2\" style=\"stroke: #383838; stroke-width: 1.5;\" width=\"95\" x=\"582.5\" y=\"68.5\"/><text fill=\"#000000\" font-family=\"sans-serif\" font-size=\"12\" font-style=\"italic\" lengthAdjust=\"spacingAndGlyphs\" textLength=\"93\" x=\"583.5\" y=\"84.6387\">«attribute def»</text><text fill=\"#000000\" font-family=\"sans-serif\" font-size=\"12\" lengthAdjust=\"spacingAndGlyphs\" textLength=\"59\" x=\"600.5\" y=\"98.6074\">DateTime</text><line style=\"stroke: #383838; stroke-width: 1.5;\" x1=\"583.5\" x2=\"676.5\" y1=\"106.4375\" y2=\"106.4375\"/></a><!--MD5=[09b614a08d8cba4a07c9adeb5e0fee81]\n",
       "class E3--><a href=\"psysml:16b22f80-f2ca-4440-a25c-8e72c7cab96e\" target=\"_top\" title=\"psysml:16b22f80-f2ca-4440-a25c-8e72c7cab96e\" xlink:actuate=\"onRequest\" xlink:href=\"psysml:16b22f80-f2ca-4440-a25c-8e72c7cab96e\" xlink:show=\"new\" xlink:title=\"psysml:16b22f80-f2ca-4440-a25c-8e72c7cab96e\" xlink:type=\"simple\"><rect fill=\"#FFFFFF\" height=\"45.9375\" id=\"E3\" rx=\"10\" ry=\"10\" style=\"stroke: #383838; stroke-width: 1.5;\" width=\"98\" x=\"449\" y=\"68.5\"/><text fill=\"#000000\" font-family=\"sans-serif\" font-size=\"12\" font-style=\"italic\" lengthAdjust=\"spacingAndGlyphs\" textLength=\"69\" x=\"463.5\" y=\"84.6387\">«attribute»</text><text fill=\"#000000\" font-family=\"sans-serif\" font-size=\"12\" lengthAdjust=\"spacingAndGlyphs\" textLength=\"92\" x=\"452\" y=\"98.6074\">packet header</text><line style=\"stroke: #383838; stroke-width: 1.5;\" x1=\"450\" x2=\"546\" y1=\"106.4375\" y2=\"106.4375\"/></a><!--MD5=[ebbe1d658d1005bcc118a6aa81145e00]\n",
       "class E4--><a href=\"psysml:7e904c0e-d2a4-45ad-bef1-7051678b2240\" target=\"_top\" title=\"psysml:7e904c0e-d2a4-45ad-bef1-7051678b2240\" xlink:actuate=\"onRequest\" xlink:href=\"psysml:7e904c0e-d2a4-45ad-bef1-7051678b2240\" xlink:show=\"new\" xlink:title=\"psysml:7e904c0e-d2a4-45ad-bef1-7051678b2240\" xlink:type=\"simple\"><rect fill=\"#FFFFFF\" height=\"101.1563\" id=\"E4\" rx=\"10\" ry=\"10\" style=\"stroke: #383838; stroke-width: 1.5;\" width=\"167\" x=\"247.5\" y=\"41\"/><text fill=\"#000000\" font-family=\"sans-serif\" font-size=\"12\" font-style=\"italic\" lengthAdjust=\"spacingAndGlyphs\" textLength=\"69\" x=\"296.5\" y=\"57.1387\">«attribute»</text><text fill=\"#000000\" font-family=\"sans-serif\" font-size=\"12\" lengthAdjust=\"spacingAndGlyphs\" textLength=\"106\" x=\"278\" y=\"71.1074\">packet data field</text><line style=\"stroke: #383838; stroke-width: 1.5;\" x1=\"248.5\" x2=\"413.5\" y1=\"78.9375\" y2=\"78.9375\"/><text fill=\"#000000\" font-family=\"sans-serif\" font-size=\"11\" lengthAdjust=\"spacingAndGlyphs\" textLength=\"144\" x=\"253.5\" y=\"109.9526\">packet secondary header</text><text fill=\"#000000\" font-family=\"sans-serif\" font-size=\"11\" font-style=\"italic\" lengthAdjust=\"spacingAndGlyphs\" textLength=\"155\" x=\"253.5\" y=\"122.7573\">:&gt;&gt;Packets::packet header</text><text fill=\"#000000\" font-family=\"sans-serif\" font-size=\"11\" lengthAdjust=\"spacingAndGlyphs\" textLength=\"83\" x=\"253.5\" y=\"135.562\">user data field</text><line style=\"stroke: #383838; stroke-width: 1.0;\" x1=\"248.5\" x2=\"303.5\" y1=\"93.3398\" y2=\"93.3398\"/><text fill=\"#000000\" font-family=\"sans-serif\" font-size=\"11\" lengthAdjust=\"spacingAndGlyphs\" textLength=\"55\" x=\"303.5\" y=\"96.6479\">attributes</text><line style=\"stroke: #383838; stroke-width: 1.0;\" x1=\"358.5\" x2=\"413.5\" y1=\"93.3398\" y2=\"93.3398\"/></a><!--MD5=[270fce915f116d4de14055a7c1d9a0f3]\n",
       "class E5--><a href=\"psysml:7a510d36-5831-409f-9d62-08a185df40ba\" target=\"_top\" title=\"psysml:7a510d36-5831-409f-9d62-08a185df40ba\" xlink:actuate=\"onRequest\" xlink:href=\"psysml:7a510d36-5831-409f-9d62-08a185df40ba\" xlink:show=\"new\" xlink:title=\"psysml:7a510d36-5831-409f-9d62-08a185df40ba\" xlink:type=\"simple\"><rect fill=\"#FFFFFF\" height=\"113.9609\" id=\"E5\" style=\"stroke: #383838; stroke-width: 1.5;\" width=\"180\" x=\"32\" y=\"202\"/><text fill=\"#000000\" font-family=\"sans-serif\" font-size=\"12\" font-style=\"italic\" lengthAdjust=\"spacingAndGlyphs\" textLength=\"64\" x=\"90\" y=\"218.1387\">«part def»</text><text fill=\"#000000\" font-family=\"sans-serif\" font-size=\"12\" lengthAdjust=\"spacingAndGlyphs\" textLength=\"77\" x=\"83.5\" y=\"232.1074\">Data Packet</text><line style=\"stroke: #383838; stroke-width: 1.5;\" x1=\"33\" x2=\"211\" y1=\"239.9375\" y2=\"239.9375\"/><text fill=\"#000000\" font-family=\"sans-serif\" font-size=\"11\" lengthAdjust=\"spacingAndGlyphs\" textLength=\"94\" x=\"38\" y=\"270.9526\">packet data field</text><text fill=\"#000000\" font-family=\"sans-serif\" font-size=\"11\" font-style=\"italic\" lengthAdjust=\"spacingAndGlyphs\" textLength=\"168\" x=\"38\" y=\"283.7573\">:&gt;&gt;Packets::packet data field</text><text fill=\"#000000\" font-family=\"sans-serif\" font-size=\"11\" lengthAdjust=\"spacingAndGlyphs\" textLength=\"129\" x=\"38\" y=\"296.562\">packet primary header</text><text fill=\"#000000\" font-family=\"sans-serif\" font-size=\"11\" font-style=\"italic\" lengthAdjust=\"spacingAndGlyphs\" textLength=\"155\" x=\"38\" y=\"309.3667\">:&gt;&gt;Packets::packet header</text><line style=\"stroke: #383838; stroke-width: 1.0;\" x1=\"33\" x2=\"94.5\" y1=\"254.3398\" y2=\"254.3398\"/><text fill=\"#000000\" font-family=\"sans-serif\" font-size=\"11\" lengthAdjust=\"spacingAndGlyphs\" textLength=\"55\" x=\"94.5\" y=\"257.6479\">attributes</text><line style=\"stroke: #383838; stroke-width: 1.0;\" x1=\"149.5\" x2=\"211\" y1=\"254.3398\" y2=\"254.3398\"/></a><!--MD5=[60a26617385b1d2d0262a64233df1f8d]\n",
       "class E6--><a href=\"psysml:10023c3e-6ce6-4816-9fb9-6800bd66eb89\" target=\"_top\" title=\"psysml:10023c3e-6ce6-4816-9fb9-6800bd66eb89\" xlink:actuate=\"onRequest\" xlink:href=\"psysml:10023c3e-6ce6-4816-9fb9-6800bd66eb89\" xlink:show=\"new\" xlink:title=\"psysml:10023c3e-6ce6-4816-9fb9-6800bd66eb89\" xlink:type=\"simple\"><rect fill=\"#FFFFFF\" height=\"88.3516\" id=\"E6\" style=\"stroke: #383838; stroke-width: 1.5;\" width=\"180\" x=\"32\" y=\"47.5\"/><text fill=\"#000000\" font-family=\"sans-serif\" font-size=\"12\" font-style=\"italic\" lengthAdjust=\"spacingAndGlyphs\" textLength=\"64\" x=\"90\" y=\"63.6387\">«part def»</text><text fill=\"#000000\" font-family=\"sans-serif\" font-size=\"12\" lengthAdjust=\"spacingAndGlyphs\" textLength=\"131\" x=\"56.5\" y=\"77.6074\">Thermal Data Packet</text><line style=\"stroke: #383838; stroke-width: 1.5;\" x1=\"33\" x2=\"211\" y1=\"85.4375\" y2=\"85.4375\"/><text fill=\"#000000\" font-family=\"sans-serif\" font-size=\"11\" lengthAdjust=\"spacingAndGlyphs\" textLength=\"94\" x=\"38\" y=\"116.4526\">packet data field</text><text fill=\"#000000\" font-family=\"sans-serif\" font-size=\"11\" font-style=\"italic\" lengthAdjust=\"spacingAndGlyphs\" textLength=\"168\" x=\"38\" y=\"129.2573\">:&gt;&gt;Packets::packet data field</text><line style=\"stroke: #383838; stroke-width: 1.0;\" x1=\"33\" x2=\"94.5\" y1=\"99.8398\" y2=\"99.8398\"/><text fill=\"#000000\" font-family=\"sans-serif\" font-size=\"11\" lengthAdjust=\"spacingAndGlyphs\" textLength=\"55\" x=\"94.5\" y=\"103.1479\">attributes</text><line style=\"stroke: #383838; stroke-width: 1.0;\" x1=\"149.5\" x2=\"211\" y1=\"99.8398\" y2=\"99.8398\"/></a><!--MD5=[25b190c987b1e74e5126d372c5a73af1]\n",
       "link E6 to E5--><a href=\"psysml:8c509f82-013b-4383-9ee5-07fa63a1b780\" target=\"_top\" title=\"psysml:8c509f82-013b-4383-9ee5-07fa63a1b780\" xlink:actuate=\"onRequest\" xlink:href=\"psysml:8c509f82-013b-4383-9ee5-07fa63a1b780\" xlink:show=\"new\" xlink:title=\"psysml:8c509f82-013b-4383-9ee5-07fa63a1b780\" xlink:type=\"simple\"><path d=\"M122,135.51 C122,135.51 122,181.73 122,181.73 \" fill=\"none\" id=\"E6-&gt;E5\" style=\"stroke: #383838; stroke-width: 1.0;\"/><polygon fill=\"none\" points=\"129,181.73,122,201.73,115,181.73,129,181.73\" style=\"stroke: #383838; stroke-width: 1.0;\"/></a><!--MD5=[b0c49ed4a02999689ff8d245e8b77ef3]\n",
       "@startuml\r\n",
       "skinparam linetype ortho\r\n",
       "skinparam monochrome true\r\n",
       "skinparam classbackgroundcolor white\r\n",
       "skinparam shadowing false\r\n",
       "skinparam wrapWidth 300\r\n",
       "hide circle\r\n",
       "\r\n",
       "package \"Packets\" as E1  [[psysml:781596e5-2fdd-47e5-84a9-0e1e2d017791 ]]  {\r\n",
       "comp def \"DateTime\" as E2  <<(T,blue)attribute def>> [[psysml:09967ea5-e8af-470d-92d0-5553b1044725 ]] {\r\n",
       "}\r\n",
       "comp usage \"packet header\" as E3  <<(T,blue)attribute>> [[psysml:16b22f80-f2ca-4440-a25c-8e72c7cab96e ]] {\r\n",
       "}\r\n",
       "comp usage \"packet data field\" as E4  <<(T,blue)attribute>> [[psysml:7e904c0e-d2a4-45ad-bef1-7051678b2240 ]] {\r\n",
       "- - attributes - -\r\n",
       "packet secondary header\\n//:>>Packets::packet header// \r\n",
       "user data field\r\n",
       "}\r\n",
       "comp def \"Data Packet\" as E5  <<(T,blue)part def>> [[psysml:7a510d36-5831-409f-9d62-08a185df40ba ]] {\r\n",
       "- - attributes - -\r\n",
       "packet data field\\n//:>>Packets::packet data field// \r\n",
       "packet primary header\\n//:>>Packets::packet header// \r\n",
       "}\r\n",
       "comp def \"Thermal Data Packet\" as E6  <<(T,blue)part def>> [[psysml:10023c3e-6ce6-4816-9fb9-6800bd66eb89 ]] {\r\n",
       "- - attributes - -\r\n",
       "packet data field\\n//:>>Packets::packet data field// \r\n",
       "}\r\n",
       "E6 - -|> E5 [[psysml:8c509f82-013b-4383-9ee5-07fa63a1b780 ]] \r\n",
       "}\r\n",
       "@enduml\r\n",
       "\n",
       "PlantUML version 1.2020.13(Sat Jun 13 12:26:38 UTC 2020)\n",
       "(EPL source distribution)\n",
       "Java Runtime: OpenJDK Runtime Environment\n",
       "JVM: OpenJDK 64-Bit Server VM\n",
       "Default Encoding: UTF-8\n",
       "Language: en\n",
       "Country: null\n",
       "--></g></svg>"
      ]
     },
     "execution_count": 57,
     "metadata": {},
     "output_type": "execute_result"
    }
   ],
   "source": [
    "%viz --style=\"ORTHOLINE\" --view=\"MIXED\" \"Packets\""
   ]
  }
 ],
 "metadata": {
  "kernelspec": {
   "display_name": "SysML",
   "language": "sysml",
   "name": "sysml"
  },
  "language_info": {
   "codemirror_mode": "sysml",
   "file_extension": ".sysml",
   "mimetype": "text/x-sysml",
   "name": "SysML",
   "pygments_lexer": "java",
   "version": "1.0.0"
  }
 },
 "nbformat": 4,
 "nbformat_minor": 5
}
