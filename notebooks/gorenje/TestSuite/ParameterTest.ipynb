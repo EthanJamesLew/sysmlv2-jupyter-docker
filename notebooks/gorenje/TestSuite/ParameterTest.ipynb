{
 "cells": [
  {
   "cell_type": "markdown",
   "id": "23419ba9",
   "metadata": {},
   "source": [
    "# SysML v2 Test Suite\n",
    "\n",
    "This can notebook can be cleared using menu `Edit --> Clear All Outputs` and then all cells can be\n",
    "run using menu `Run --> Run All Cells`.\n",
    "\n",
    "**WARNING**: This file is generated, all modifications here will be ignored.\n"
   ]
  },
  {
   "cell_type": "markdown",
   "id": "8e950344",
   "metadata": {},
   "source": [
    "## File: ../../sysml/src/examples/Simple Tests/ParameterTest.sysml"
   ]
  },
  {
   "cell_type": "code",
   "execution_count": 1,
   "id": "50bb463e",
   "metadata": {
    "execution": {
     "iopub.execute_input": "2021-06-30T09:18:16.319592Z",
     "iopub.status.busy": "2021-06-30T09:18:16.319218Z",
     "iopub.status.idle": "2021-06-30T09:18:16.847817Z",
     "shell.execute_reply": "2021-06-30T09:18:16.847260Z"
    }
   },
   "outputs": [
    {
     "data": {
      "text/plain": [
       "Package ParameterTest (8de06fd9-904c-4fa0-92dd-1cf55a1118a7)\n"
      ]
     },
     "execution_count": 1,
     "metadata": {},
     "output_type": "execute_result"
    }
   ],
   "source": [
    "package ParameterTest {\n",
    "\tattribute def A {\n",
    "\t\tattribute x : ScalarValues::String;\n",
    "\t\tattribute y : A;\n",
    "\t}\n",
    "\t\n",
    "\tattribute a : A;\n",
    "\t\n",
    "\tcalc def F (p : A, q : ScalarValues::Integer): ScalarValues::Integer;\n",
    "\t\n",
    "\tattribute f = F(a, 2);\n",
    "\tattribute g = F(q => 1, p => a);\n",
    "\t\n",
    "\tattribute b = A(y=>a, x=>\"\"); \n",
    "\tattribute c = A(\"test2\");\n",
    "}"
   ]
  },
  {
   "cell_type": "code",
   "execution_count": 2,
   "id": "88f0f536",
   "metadata": {
    "execution": {
     "iopub.execute_input": "2021-06-30T09:18:16.899619Z",
     "iopub.status.busy": "2021-06-30T09:18:16.899146Z",
     "iopub.status.idle": "2021-06-30T09:18:18.027135Z",
     "shell.execute_reply": "2021-06-30T09:18:18.027507Z"
    }
   },
   "outputs": [
    {
     "data": {
      "image/svg+xml": [
       "<?xml version=\"1.0\" encoding=\"UTF-8\" standalone=\"no\"?><svg xmlns=\"http://www.w3.org/2000/svg\" xmlns:xlink=\"http://www.w3.org/1999/xlink\" contentScriptType=\"application/ecmascript\" contentStyleType=\"text/css\" height=\"403px\" preserveAspectRatio=\"none\" style=\"width:740px;height:403px;\" version=\"1.1\" viewBox=\"0 0 740 403\" width=\"740px\" zoomAndPan=\"magnify\"><defs/><g><!--MD5=[fbc87193dbaf4d95561dea2c320d4a47]\n",
       "cluster E1--><a href=\"psysml:adbc474a-2784-4828-be47-026fefc14932\" target=\"_top\" title=\"psysml:adbc474a-2784-4828-be47-026fefc14932\" xlink:actuate=\"onRequest\" xlink:href=\"psysml:adbc474a-2784-4828-be47-026fefc14932\" xlink:show=\"new\" xlink:title=\"psysml:adbc474a-2784-4828-be47-026fefc14932\" xlink:type=\"simple\"><polygon fill=\"#FFFFFF\" points=\"16,6,139,6,146,28.2969,718,28.2969,718,391.72,16,391.72,16,6\" style=\"stroke: #000000; stroke-width: 1.5;\"/><line style=\"stroke: #000000; stroke-width: 1.5;\" x1=\"16\" x2=\"146\" y1=\"28.2969\" y2=\"28.2969\"/><text fill=\"#000000\" font-family=\"sans-serif\" font-size=\"14\" font-weight=\"bold\" lengthAdjust=\"spacingAndGlyphs\" textLength=\"117\" x=\"20\" y=\"20.9951\">ParameterTest</text></a><!--MD5=[f6df4d0ebaf0b5dfb2ced0ae5af7c670]\n",
       "cluster E4--><a href=\"psysml:ea0c6e06-a87b-4616-91bc-ba79196303d0\" target=\"_top\" title=\"psysml:ea0c6e06-a87b-4616-91bc-ba79196303d0\" xlink:actuate=\"onRequest\" xlink:href=\"psysml:ea0c6e06-a87b-4616-91bc-ba79196303d0\" xlink:show=\"new\" xlink:title=\"psysml:ea0c6e06-a87b-4616-91bc-ba79196303d0\" xlink:type=\"simple\"><rect fill=\"#FFFFFF\" height=\"297.72\" id=\"E4\" style=\"stroke: #383838; stroke-width: 1.5;\" width=\"148\" x=\"554\" y=\"64\"/><rect fill=\"#F8F8F8\" height=\"37.9375\" style=\"stroke: #383838; stroke-width: 1.5;\" width=\"148\" x=\"554\" y=\"64\"/><text fill=\"#000000\" font-family=\"sans-serif\" font-size=\"12\" font-style=\"italic\" lengthAdjust=\"spacingAndGlyphs\" textLength=\"106\" x=\"575\" y=\"80.1387\">«calculation def»</text><text fill=\"#000000\" font-family=\"sans-serif\" font-size=\"12\" lengthAdjust=\"spacingAndGlyphs\" textLength=\"7\" x=\"624.5\" y=\"94.1074\">F</text></a><!--MD5=[b4997ac47864f28c2f74865a473b2911]\n",
       "class E2--><a href=\"psysml:fa211d39-e6da-4efb-a07a-68e935dd1093\" target=\"_top\" title=\"psysml:fa211d39-e6da-4efb-a07a-68e935dd1093\" xlink:actuate=\"onRequest\" xlink:href=\"psysml:fa211d39-e6da-4efb-a07a-68e935dd1093\" xlink:show=\"new\" xlink:title=\"psysml:fa211d39-e6da-4efb-a07a-68e935dd1093\" xlink:type=\"simple\"><rect fill=\"#FFFFFF\" height=\"88.3516\" id=\"E2\" style=\"stroke: #383838; stroke-width: 1.5;\" width=\"95\" x=\"422.5\" y=\"147\"/><text fill=\"#000000\" font-family=\"sans-serif\" font-size=\"12\" font-style=\"italic\" lengthAdjust=\"spacingAndGlyphs\" textLength=\"93\" x=\"423.5\" y=\"163.1387\">«attribute def»</text><text fill=\"#000000\" font-family=\"sans-serif\" font-size=\"12\" lengthAdjust=\"spacingAndGlyphs\" textLength=\"8\" x=\"466\" y=\"177.1074\">A</text><line style=\"stroke: #383838; stroke-width: 1.5;\" x1=\"423.5\" x2=\"516.5\" y1=\"184.9375\" y2=\"184.9375\"/><text fill=\"#000000\" font-family=\"sans-serif\" font-size=\"11\" lengthAdjust=\"spacingAndGlyphs\" textLength=\"48\" x=\"428.5\" y=\"215.9526\">x: String</text><text fill=\"#000000\" font-family=\"sans-serif\" font-size=\"11\" lengthAdjust=\"spacingAndGlyphs\" textLength=\"21\" x=\"428.5\" y=\"228.7573\">y: A</text><line style=\"stroke: #383838; stroke-width: 1.0;\" x1=\"423.5\" x2=\"442.5\" y1=\"199.3398\" y2=\"199.3398\"/><text fill=\"#000000\" font-family=\"sans-serif\" font-size=\"11\" lengthAdjust=\"spacingAndGlyphs\" textLength=\"55\" x=\"442.5\" y=\"202.6479\">attributes</text><line style=\"stroke: #383838; stroke-width: 1.0;\" x1=\"497.5\" x2=\"516.5\" y1=\"199.3398\" y2=\"199.3398\"/></a><!--MD5=[09b614a08d8cba4a07c9adeb5e0fee81]\n",
       "class E3--><a href=\"psysml:665f7084-89dd-4cc9-a479-f70e09a77220\" target=\"_top\" title=\"psysml:665f7084-89dd-4cc9-a479-f70e09a77220\" xlink:actuate=\"onRequest\" xlink:href=\"psysml:665f7084-89dd-4cc9-a479-f70e09a77220\" xlink:show=\"new\" xlink:title=\"psysml:665f7084-89dd-4cc9-a479-f70e09a77220\" xlink:type=\"simple\"><rect fill=\"#FFFFFF\" height=\"45.9375\" id=\"E3\" rx=\"10\" ry=\"10\" style=\"stroke: #383838; stroke-width: 1.5;\" width=\"71\" x=\"456.5\" y=\"41\"/><text fill=\"#000000\" font-family=\"sans-serif\" font-size=\"12\" font-style=\"italic\" lengthAdjust=\"spacingAndGlyphs\" textLength=\"69\" x=\"457.5\" y=\"57.1387\">«attribute»</text><text fill=\"#000000\" font-family=\"sans-serif\" font-size=\"12\" lengthAdjust=\"spacingAndGlyphs\" textLength=\"24\" x=\"480\" y=\"71.1074\">a: A</text><line style=\"stroke: #383838; stroke-width: 1.5;\" x1=\"457.5\" x2=\"526.5\" y1=\"78.9375\" y2=\"78.9375\"/></a><!--MD5=[b9389687b975829384b498ac4b7476b2]\n",
       "class E8--><a href=\"psysml:1ebb82ef-cdf5-4836-9887-d34bbc134ce1\" target=\"_top\" title=\"psysml:1ebb82ef-cdf5-4836-9887-d34bbc134ce1\" xlink:actuate=\"onRequest\" xlink:href=\"psysml:1ebb82ef-cdf5-4836-9887-d34bbc134ce1\" xlink:show=\"new\" xlink:title=\"psysml:1ebb82ef-cdf5-4836-9887-d34bbc134ce1\" xlink:type=\"simple\"><rect fill=\"#FFFFFF\" height=\"45.9375\" id=\"E8\" rx=\"10\" ry=\"10\" style=\"stroke: #383838; stroke-width: 1.5;\" width=\"71\" x=\"350.5\" y=\"41\"/><text fill=\"#000000\" font-family=\"sans-serif\" font-size=\"12\" font-style=\"italic\" lengthAdjust=\"spacingAndGlyphs\" textLength=\"69\" x=\"351.5\" y=\"57.1387\">«attribute»</text><text fill=\"#000000\" font-family=\"sans-serif\" font-size=\"12\" lengthAdjust=\"spacingAndGlyphs\" textLength=\"4\" x=\"384\" y=\"71.1074\">f</text><line style=\"stroke: #383838; stroke-width: 1.5;\" x1=\"351.5\" x2=\"420.5\" y1=\"78.9375\" y2=\"78.9375\"/></a><!--MD5=[fd4143e9d270a159db93a4ea2a975926]\n",
       "class E9--><a href=\"psysml:22e07e99-e7e6-486c-b8ca-f79edb8ad4e8\" target=\"_top\" title=\"psysml:22e07e99-e7e6-486c-b8ca-f79edb8ad4e8\" xlink:actuate=\"onRequest\" xlink:href=\"psysml:22e07e99-e7e6-486c-b8ca-f79edb8ad4e8\" xlink:show=\"new\" xlink:title=\"psysml:22e07e99-e7e6-486c-b8ca-f79edb8ad4e8\" xlink:type=\"simple\"><rect fill=\"#FFFFFF\" height=\"45.9375\" id=\"E9\" rx=\"10\" ry=\"10\" style=\"stroke: #383838; stroke-width: 1.5;\" width=\"71\" x=\"244.5\" y=\"41\"/><text fill=\"#000000\" font-family=\"sans-serif\" font-size=\"12\" font-style=\"italic\" lengthAdjust=\"spacingAndGlyphs\" textLength=\"69\" x=\"245.5\" y=\"57.1387\">«attribute»</text><text fill=\"#000000\" font-family=\"sans-serif\" font-size=\"12\" lengthAdjust=\"spacingAndGlyphs\" textLength=\"8\" x=\"276\" y=\"71.1074\">g</text><line style=\"stroke: #383838; stroke-width: 1.5;\" x1=\"245.5\" x2=\"314.5\" y1=\"78.9375\" y2=\"78.9375\"/></a><!--MD5=[96f4274e9e20536e775497830990834d]\n",
       "class E10--><a href=\"psysml:a8be3d15-ac76-451a-a4cf-87ef8e02e637\" target=\"_top\" title=\"psysml:a8be3d15-ac76-451a-a4cf-87ef8e02e637\" xlink:actuate=\"onRequest\" xlink:href=\"psysml:a8be3d15-ac76-451a-a4cf-87ef8e02e637\" xlink:show=\"new\" xlink:title=\"psysml:a8be3d15-ac76-451a-a4cf-87ef8e02e637\" xlink:type=\"simple\"><rect fill=\"#FFFFFF\" height=\"45.9375\" id=\"E10\" rx=\"10\" ry=\"10\" style=\"stroke: #383838; stroke-width: 1.5;\" width=\"71\" x=\"138.5\" y=\"41\"/><text fill=\"#000000\" font-family=\"sans-serif\" font-size=\"12\" font-style=\"italic\" lengthAdjust=\"spacingAndGlyphs\" textLength=\"69\" x=\"139.5\" y=\"57.1387\">«attribute»</text><text fill=\"#000000\" font-family=\"sans-serif\" font-size=\"12\" lengthAdjust=\"spacingAndGlyphs\" textLength=\"8\" x=\"170\" y=\"71.1074\">b</text><line style=\"stroke: #383838; stroke-width: 1.5;\" x1=\"139.5\" x2=\"208.5\" y1=\"78.9375\" y2=\"78.9375\"/></a><!--MD5=[1dd1bfd58a279cf63c5f349dbc8fc6a1]\n",
       "class E11--><a href=\"psysml:88e99412-8df3-4a94-a568-1984bea0c190\" target=\"_top\" title=\"psysml:88e99412-8df3-4a94-a568-1984bea0c190\" xlink:actuate=\"onRequest\" xlink:href=\"psysml:88e99412-8df3-4a94-a568-1984bea0c190\" xlink:show=\"new\" xlink:title=\"psysml:88e99412-8df3-4a94-a568-1984bea0c190\" xlink:type=\"simple\"><rect fill=\"#FFFFFF\" height=\"45.9375\" id=\"E11\" rx=\"10\" ry=\"10\" style=\"stroke: #383838; stroke-width: 1.5;\" width=\"71\" x=\"32.5\" y=\"41\"/><text fill=\"#000000\" font-family=\"sans-serif\" font-size=\"12\" font-style=\"italic\" lengthAdjust=\"spacingAndGlyphs\" textLength=\"69\" x=\"33.5\" y=\"57.1387\">«attribute»</text><text fill=\"#000000\" font-family=\"sans-serif\" font-size=\"12\" lengthAdjust=\"spacingAndGlyphs\" textLength=\"7\" x=\"64.5\" y=\"71.1074\">c</text><line style=\"stroke: #383838; stroke-width: 1.5;\" x1=\"33.5\" x2=\"102.5\" y1=\"78.9375\" y2=\"78.9375\"/></a><text fill=\"#000000\" font-family=\"sans-serif\" font-size=\"14\" lengthAdjust=\"spacingAndGlyphs\" textLength=\"9\" x=\"567.5\" y=\"42.6982\">p</text><rect fill=\"#383838\" height=\"12\" style=\"stroke: #F8F8F8; stroke-width: 1.5;\" width=\"12\" x=\"566\" y=\"58\"/><text fill=\"#000000\" font-family=\"sans-serif\" font-size=\"14\" lengthAdjust=\"spacingAndGlyphs\" textLength=\"9\" x=\"614.5\" y=\"42.6982\">q</text><rect fill=\"#383838\" height=\"12\" style=\"stroke: #F8F8F8; stroke-width: 1.5;\" width=\"12\" x=\"613\" y=\"58\"/><text fill=\"#000000\" font-family=\"sans-serif\" font-size=\"14\" lengthAdjust=\"spacingAndGlyphs\" textLength=\"57\" x=\"590.5\" y=\"380.7151\">noname</text><rect fill=\"#383838\" height=\"12\" style=\"stroke: #F8F8F8; stroke-width: 1.5;\" width=\"12\" x=\"613\" y=\"355.72\"/><!--MD5=[05d275557350bfb9b23a4ef7222b4c39]\n",
       "link E3 to E2--><a href=\"psysml:47946f32-7338-4adb-a6af-ffcb2b2265dd\" target=\"_top\" title=\"psysml:47946f32-7338-4adb-a6af-ffcb2b2265dd\" xlink:actuate=\"onRequest\" xlink:href=\"psysml:47946f32-7338-4adb-a6af-ffcb2b2265dd\" xlink:show=\"new\" xlink:title=\"psysml:47946f32-7338-4adb-a6af-ffcb2b2265dd\" xlink:type=\"simple\"><path d=\"M488.12,87.06 C486.14,98.3 483.62,112.6 481.1,126.95 \" fill=\"none\" id=\"E3-&gt;E2\" style=\"stroke: #383838; stroke-width: 1.0;\"/><polygon fill=\"#FFFFFF\" points=\"477.58,146.93,473.9835,127.0035,487.7711,129.4331,477.58,146.93\" style=\"stroke: #383838; stroke-width: 1.0;\"/><ellipse cx=\"476.9423\" cy=\"121.7371\" fill=\"#383838\" rx=\"2\" ry=\"2\" style=\"stroke: #383838; stroke-width: 1.0;\"/><ellipse cx=\"486.7906\" cy=\"123.4725\" fill=\"#383838\" rx=\"2\" ry=\"2\" style=\"stroke: #383838; stroke-width: 1.0;\"/></a><!--MD5=[1aba7f450f52780194cd29291486ab0c]\n",
       "@startuml\r\n",
       " skinparam monochrome true\r\n",
       "skinparam classbackgroundcolor white\r\n",
       "skinparam shadowing false\r\n",
       "skinparam wrapWidth 300\r\n",
       "hide circle\r\n",
       "\r\n",
       "package \"ParameterTest\" as E1  [[psysml:adbc474a-2784-4828-be47-026fefc14932 ]]  {\r\n",
       "comp def \"A\" as E2  <<(T,blue) attribute def>> [[psysml:fa211d39-e6da-4efb-a07a-68e935dd1093 ]] {\r\n",
       "- - attributes - -\r\n",
       "x: String\r\n",
       "y: A\r\n",
       "}\r\n",
       "comp usage \"a: A\" as E3  <<(T,blue) attribute>> [[psysml:665f7084-89dd-4cc9-a479-f70e09a77220 ]] {\r\n",
       "}\r\n",
       "rec def \"F\" as E4  <<(T,blue) calculation def>> [[psysml:ea0c6e06-a87b-4616-91bc-ba79196303d0 ]] {\r\n",
       "portin \"p\" as E5  [[psysml:e1d329d3-cb1e-45c3-b1d5-2fcf771779ef ]] \r\n",
       "portin \"q\" as E6  [[psysml:b499ebef-2d53-43ba-b86a-de9084e46bb3 ]] \r\n",
       "portout \"noname\" as E7  [[psysml:2e56002b-31e4-43bf-ad2b-cc6ef1aac7ab ]] \r\n",
       "}\r\n",
       "\r\n",
       "comp usage \"f\" as E8  <<(T,blue) attribute>> [[psysml:1ebb82ef-cdf5-4836-9887-d34bbc134ce1 ]] {\r\n",
       "}\r\n",
       "comp usage \"g\" as E9  <<(T,blue) attribute>> [[psysml:22e07e99-e7e6-486c-b8ca-f79edb8ad4e8 ]] {\r\n",
       "}\r\n",
       "comp usage \"b\" as E10  <<(T,blue) attribute>> [[psysml:a8be3d15-ac76-451a-a4cf-87ef8e02e637 ]] {\r\n",
       "}\r\n",
       "comp usage \"c\" as E11  <<(T,blue) attribute>> [[psysml:88e99412-8df3-4a94-a568-1984bea0c190 ]] {\r\n",
       "}\r\n",
       "E3 - -:|> E2 [[psysml:47946f32-7338-4adb-a6af-ffcb2b2265dd ]] \r\n",
       "}\r\n",
       "@enduml\r\n",
       "\n",
       "PlantUML version 1.2020.13(Sat Jun 13 12:26:38 UTC 2020)\n",
       "(EPL source distribution)\n",
       "Java Runtime: OpenJDK Runtime Environment\n",
       "JVM: OpenJDK 64-Bit Server VM\n",
       "Default Encoding: UTF-8\n",
       "Language: en\n",
       "Country: null\n",
       "--></g></svg>"
      ]
     },
     "execution_count": 2,
     "metadata": {},
     "output_type": "execute_result"
    }
   ],
   "source": [
    "%viz --style=\"COMPTREE\" --view=\"Default\" \"ParameterTest\""
   ]
  },
  {
   "cell_type": "code",
   "execution_count": 3,
   "id": "9272a5dc",
   "metadata": {
    "execution": {
     "iopub.execute_input": "2021-06-30T09:18:18.079398Z",
     "iopub.status.busy": "2021-06-30T09:18:18.078705Z",
     "iopub.status.idle": "2021-06-30T09:18:18.234371Z",
     "shell.execute_reply": "2021-06-30T09:18:18.233939Z"
    }
   },
   "outputs": [
    {
     "data": {
      "image/svg+xml": [
       "<?xml version=\"1.0\" encoding=\"UTF-8\" standalone=\"no\"?><svg xmlns=\"http://www.w3.org/2000/svg\" xmlns:xlink=\"http://www.w3.org/1999/xlink\" contentScriptType=\"application/ecmascript\" contentStyleType=\"text/css\" height=\"280px\" preserveAspectRatio=\"none\" style=\"width:710px;height:280px;\" version=\"1.1\" viewBox=\"0 0 710 280\" width=\"710px\" zoomAndPan=\"magnify\"><defs/><g><!--MD5=[fbc87193dbaf4d95561dea2c320d4a47]\n",
       "cluster E1--><a href=\"psysml:adbc474a-2784-4828-be47-026fefc14932\" target=\"_top\" title=\"psysml:adbc474a-2784-4828-be47-026fefc14932\" xlink:actuate=\"onRequest\" xlink:href=\"psysml:adbc474a-2784-4828-be47-026fefc14932\" xlink:show=\"new\" xlink:title=\"psysml:adbc474a-2784-4828-be47-026fefc14932\" xlink:type=\"simple\"><polygon fill=\"#FFFFFF\" points=\"16,6,139,6,146,28.2969,688,28.2969,688,268,16,268,16,6\" style=\"stroke: #000000; stroke-width: 1.5;\"/><line style=\"stroke: #000000; stroke-width: 1.5;\" x1=\"16\" x2=\"146\" y1=\"28.2969\" y2=\"28.2969\"/><text fill=\"#000000\" font-family=\"sans-serif\" font-size=\"14\" font-weight=\"bold\" lengthAdjust=\"spacingAndGlyphs\" textLength=\"117\" x=\"20\" y=\"20.9951\">ParameterTest</text></a><!--MD5=[b4997ac47864f28c2f74865a473b2911]\n",
       "class E2--><a href=\"psysml:fa211d39-e6da-4efb-a07a-68e935dd1093\" target=\"_top\" title=\"psysml:fa211d39-e6da-4efb-a07a-68e935dd1093\" xlink:actuate=\"onRequest\" xlink:href=\"psysml:fa211d39-e6da-4efb-a07a-68e935dd1093\" xlink:show=\"new\" xlink:title=\"psysml:fa211d39-e6da-4efb-a07a-68e935dd1093\" xlink:type=\"simple\"><rect fill=\"#FFFFFF\" height=\"88.3516\" id=\"E2\" style=\"stroke: #383838; stroke-width: 1.5;\" width=\"95\" x=\"498.5\" y=\"164\"/><text fill=\"#000000\" font-family=\"sans-serif\" font-size=\"12\" font-style=\"italic\" lengthAdjust=\"spacingAndGlyphs\" textLength=\"93\" x=\"499.5\" y=\"180.1387\">«attribute def»</text><text fill=\"#000000\" font-family=\"sans-serif\" font-size=\"12\" lengthAdjust=\"spacingAndGlyphs\" textLength=\"8\" x=\"542\" y=\"194.1074\">A</text><line style=\"stroke: #383838; stroke-width: 1.5;\" x1=\"499.5\" x2=\"592.5\" y1=\"201.9375\" y2=\"201.9375\"/><text fill=\"#000000\" font-family=\"sans-serif\" font-size=\"11\" lengthAdjust=\"spacingAndGlyphs\" textLength=\"48\" x=\"504.5\" y=\"232.9526\">x: String</text><text fill=\"#000000\" font-family=\"sans-serif\" font-size=\"11\" lengthAdjust=\"spacingAndGlyphs\" textLength=\"21\" x=\"504.5\" y=\"245.7573\">y: A</text><line style=\"stroke: #383838; stroke-width: 1.0;\" x1=\"499.5\" x2=\"518.5\" y1=\"216.3398\" y2=\"216.3398\"/><text fill=\"#000000\" font-family=\"sans-serif\" font-size=\"11\" lengthAdjust=\"spacingAndGlyphs\" textLength=\"55\" x=\"518.5\" y=\"219.6479\">attributes</text><line style=\"stroke: #383838; stroke-width: 1.0;\" x1=\"573.5\" x2=\"592.5\" y1=\"216.3398\" y2=\"216.3398\"/></a><!--MD5=[09b614a08d8cba4a07c9adeb5e0fee81]\n",
       "class E3--><a href=\"psysml:665f7084-89dd-4cc9-a479-f70e09a77220\" target=\"_top\" title=\"psysml:665f7084-89dd-4cc9-a479-f70e09a77220\" xlink:actuate=\"onRequest\" xlink:href=\"psysml:665f7084-89dd-4cc9-a479-f70e09a77220\" xlink:show=\"new\" xlink:title=\"psysml:665f7084-89dd-4cc9-a479-f70e09a77220\" xlink:type=\"simple\"><rect fill=\"#FFFFFF\" height=\"45.9375\" id=\"E3\" rx=\"10\" ry=\"10\" style=\"stroke: #383838; stroke-width: 1.5;\" width=\"71\" x=\"600.5\" y=\"41\"/><text fill=\"#000000\" font-family=\"sans-serif\" font-size=\"12\" font-style=\"italic\" lengthAdjust=\"spacingAndGlyphs\" textLength=\"69\" x=\"601.5\" y=\"57.1387\">«attribute»</text><text fill=\"#000000\" font-family=\"sans-serif\" font-size=\"12\" lengthAdjust=\"spacingAndGlyphs\" textLength=\"24\" x=\"624\" y=\"71.1074\">a: A</text><line style=\"stroke: #383838; stroke-width: 1.5;\" x1=\"601.5\" x2=\"670.5\" y1=\"78.9375\" y2=\"78.9375\"/></a><!--MD5=[ebbe1d658d1005bcc118a6aa81145e00]\n",
       "class E4--><a href=\"psysml:ea0c6e06-a87b-4616-91bc-ba79196303d0\" target=\"_top\" title=\"psysml:ea0c6e06-a87b-4616-91bc-ba79196303d0\" xlink:actuate=\"onRequest\" xlink:href=\"psysml:ea0c6e06-a87b-4616-91bc-ba79196303d0\" xlink:show=\"new\" xlink:title=\"psysml:ea0c6e06-a87b-4616-91bc-ba79196303d0\" xlink:type=\"simple\"><rect fill=\"#FFFFFF\" height=\"45.9375\" id=\"E4\" style=\"stroke: #383838; stroke-width: 1.5;\" width=\"108\" x=\"457\" y=\"41\"/><text fill=\"#000000\" font-family=\"sans-serif\" font-size=\"12\" font-style=\"italic\" lengthAdjust=\"spacingAndGlyphs\" textLength=\"106\" x=\"458\" y=\"57.1387\">«calculation def»</text><text fill=\"#000000\" font-family=\"sans-serif\" font-size=\"12\" lengthAdjust=\"spacingAndGlyphs\" textLength=\"7\" x=\"507.5\" y=\"71.1074\">F</text><line style=\"stroke: #383838; stroke-width: 1.5;\" x1=\"458\" x2=\"564\" y1=\"78.9375\" y2=\"78.9375\"/></a><!--MD5=[270fce915f116d4de14055a7c1d9a0f3]\n",
       "class E5--><a href=\"psysml:1ebb82ef-cdf5-4836-9887-d34bbc134ce1\" target=\"_top\" title=\"psysml:1ebb82ef-cdf5-4836-9887-d34bbc134ce1\" xlink:actuate=\"onRequest\" xlink:href=\"psysml:1ebb82ef-cdf5-4836-9887-d34bbc134ce1\" xlink:show=\"new\" xlink:title=\"psysml:1ebb82ef-cdf5-4836-9887-d34bbc134ce1\" xlink:type=\"simple\"><rect fill=\"#FFFFFF\" height=\"45.9375\" id=\"E5\" rx=\"10\" ry=\"10\" style=\"stroke: #383838; stroke-width: 1.5;\" width=\"71\" x=\"350.5\" y=\"41\"/><text fill=\"#000000\" font-family=\"sans-serif\" font-size=\"12\" font-style=\"italic\" lengthAdjust=\"spacingAndGlyphs\" textLength=\"69\" x=\"351.5\" y=\"57.1387\">«attribute»</text><text fill=\"#000000\" font-family=\"sans-serif\" font-size=\"12\" lengthAdjust=\"spacingAndGlyphs\" textLength=\"4\" x=\"384\" y=\"71.1074\">f</text><line style=\"stroke: #383838; stroke-width: 1.5;\" x1=\"351.5\" x2=\"420.5\" y1=\"78.9375\" y2=\"78.9375\"/></a><!--MD5=[60a26617385b1d2d0262a64233df1f8d]\n",
       "class E6--><a href=\"psysml:22e07e99-e7e6-486c-b8ca-f79edb8ad4e8\" target=\"_top\" title=\"psysml:22e07e99-e7e6-486c-b8ca-f79edb8ad4e8\" xlink:actuate=\"onRequest\" xlink:href=\"psysml:22e07e99-e7e6-486c-b8ca-f79edb8ad4e8\" xlink:show=\"new\" xlink:title=\"psysml:22e07e99-e7e6-486c-b8ca-f79edb8ad4e8\" xlink:type=\"simple\"><rect fill=\"#FFFFFF\" height=\"45.9375\" id=\"E6\" rx=\"10\" ry=\"10\" style=\"stroke: #383838; stroke-width: 1.5;\" width=\"71\" x=\"244.5\" y=\"41\"/><text fill=\"#000000\" font-family=\"sans-serif\" font-size=\"12\" font-style=\"italic\" lengthAdjust=\"spacingAndGlyphs\" textLength=\"69\" x=\"245.5\" y=\"57.1387\">«attribute»</text><text fill=\"#000000\" font-family=\"sans-serif\" font-size=\"12\" lengthAdjust=\"spacingAndGlyphs\" textLength=\"8\" x=\"276\" y=\"71.1074\">g</text><line style=\"stroke: #383838; stroke-width: 1.5;\" x1=\"245.5\" x2=\"314.5\" y1=\"78.9375\" y2=\"78.9375\"/></a><!--MD5=[2156ba9850f5573cc1fc38a6a4b2f02b]\n",
       "class E7--><a href=\"psysml:a8be3d15-ac76-451a-a4cf-87ef8e02e637\" target=\"_top\" title=\"psysml:a8be3d15-ac76-451a-a4cf-87ef8e02e637\" xlink:actuate=\"onRequest\" xlink:href=\"psysml:a8be3d15-ac76-451a-a4cf-87ef8e02e637\" xlink:show=\"new\" xlink:title=\"psysml:a8be3d15-ac76-451a-a4cf-87ef8e02e637\" xlink:type=\"simple\"><rect fill=\"#FFFFFF\" height=\"45.9375\" id=\"E7\" rx=\"10\" ry=\"10\" style=\"stroke: #383838; stroke-width: 1.5;\" width=\"71\" x=\"138.5\" y=\"41\"/><text fill=\"#000000\" font-family=\"sans-serif\" font-size=\"12\" font-style=\"italic\" lengthAdjust=\"spacingAndGlyphs\" textLength=\"69\" x=\"139.5\" y=\"57.1387\">«attribute»</text><text fill=\"#000000\" font-family=\"sans-serif\" font-size=\"12\" lengthAdjust=\"spacingAndGlyphs\" textLength=\"8\" x=\"170\" y=\"71.1074\">b</text><line style=\"stroke: #383838; stroke-width: 1.5;\" x1=\"139.5\" x2=\"208.5\" y1=\"78.9375\" y2=\"78.9375\"/></a><!--MD5=[b9389687b975829384b498ac4b7476b2]\n",
       "class E8--><a href=\"psysml:88e99412-8df3-4a94-a568-1984bea0c190\" target=\"_top\" title=\"psysml:88e99412-8df3-4a94-a568-1984bea0c190\" xlink:actuate=\"onRequest\" xlink:href=\"psysml:88e99412-8df3-4a94-a568-1984bea0c190\" xlink:show=\"new\" xlink:title=\"psysml:88e99412-8df3-4a94-a568-1984bea0c190\" xlink:type=\"simple\"><rect fill=\"#FFFFFF\" height=\"45.9375\" id=\"E8\" rx=\"10\" ry=\"10\" style=\"stroke: #383838; stroke-width: 1.5;\" width=\"71\" x=\"32.5\" y=\"41\"/><text fill=\"#000000\" font-family=\"sans-serif\" font-size=\"12\" font-style=\"italic\" lengthAdjust=\"spacingAndGlyphs\" textLength=\"69\" x=\"33.5\" y=\"57.1387\">«attribute»</text><text fill=\"#000000\" font-family=\"sans-serif\" font-size=\"12\" lengthAdjust=\"spacingAndGlyphs\" textLength=\"7\" x=\"64.5\" y=\"71.1074\">c</text><line style=\"stroke: #383838; stroke-width: 1.5;\" x1=\"33.5\" x2=\"102.5\" y1=\"78.9375\" y2=\"78.9375\"/></a><!--MD5=[05d275557350bfb9b23a4ef7222b4c39]\n",
       "link E3 to E2--><a href=\"psysml:47946f32-7338-4adb-a6af-ffcb2b2265dd\" target=\"_top\" title=\"psysml:47946f32-7338-4adb-a6af-ffcb2b2265dd\" xlink:actuate=\"onRequest\" xlink:href=\"psysml:47946f32-7338-4adb-a6af-ffcb2b2265dd\" xlink:show=\"new\" xlink:title=\"psysml:47946f32-7338-4adb-a6af-ffcb2b2265dd\" xlink:type=\"simple\"><path d=\"M621.94,87.19 C611.77,103.23 597.51,125.73 584.09,146.9 \" fill=\"none\" id=\"E3-&gt;E2\" style=\"stroke: #383838; stroke-width: 1.0;\"/><polygon fill=\"#FFFFFF\" points=\"573.37,163.82,577.6195,144.0225,589.448,151.5115,573.37,163.82\" style=\"stroke: #383838; stroke-width: 1.0;\"/><ellipse cx=\"582.3584\" cy=\"140.2764\" fill=\"#383838\" rx=\"2\" ry=\"2\" style=\"stroke: #383838; stroke-width: 1.0;\"/><ellipse cx=\"590.8073\" cy=\"145.6258\" fill=\"#383838\" rx=\"2\" ry=\"2\" style=\"stroke: #383838; stroke-width: 1.0;\"/></a><!--MD5=[ddeed8deb2209213b62e6cfabaa108b2]\n",
       "reverse link E4 to E2--><a href=\"psysml:e1d329d3-cb1e-45c3-b1d5-2fcf771779ef\" target=\"_top\" title=\"psysml:e1d329d3-cb1e-45c3-b1d5-2fcf771779ef\" xlink:actuate=\"onRequest\" xlink:href=\"psysml:e1d329d3-cb1e-45c3-b1d5-2fcf771779ef\" xlink:show=\"new\" xlink:title=\"psysml:e1d329d3-cb1e-45c3-b1d5-2fcf771779ef\" xlink:type=\"simple\"><path d=\"M519.62,99.96 C524.37,119.25 530.31,143.36 535.36,163.82 \" fill=\"none\" id=\"E4&lt;-E2\" style=\"stroke: #383838; stroke-width: 1.0;\"/><polygon fill=\"#FFFFFF\" points=\"516.47,87.19,514.0229,93.9732,519.3432,98.841,521.7903,92.0577,516.47,87.19\" style=\"stroke: #383838; stroke-width: 1.0;\"/><text fill=\"#000000\" font-family=\"sans-serif\" font-size=\"13\" lengthAdjust=\"spacingAndGlyphs\" textLength=\"8\" x=\"528\" y=\"130.0669\">p</text></a><!--MD5=[25ea091a1759474f85179d7b7e239238]\n",
       "@startuml\r\n",
       " skinparam monochrome true\r\n",
       "skinparam classbackgroundcolor white\r\n",
       "skinparam shadowing false\r\n",
       "skinparam wrapWidth 300\r\n",
       "hide circle\r\n",
       "\r\n",
       "package \"ParameterTest\" as E1  [[psysml:adbc474a-2784-4828-be47-026fefc14932 ]]  {\r\n",
       "comp def \"A\" as E2  <<(T,blue) attribute def>> [[psysml:fa211d39-e6da-4efb-a07a-68e935dd1093 ]] {\r\n",
       "- - attributes - -\r\n",
       "x: String\r\n",
       "y: A\r\n",
       "}\r\n",
       "comp usage \"a: A\" as E3  <<(T,blue) attribute>> [[psysml:665f7084-89dd-4cc9-a479-f70e09a77220 ]] {\r\n",
       "}\r\n",
       "comp def \"F\" as E4  <<(T,blue) calculation def>> [[psysml:ea0c6e06-a87b-4616-91bc-ba79196303d0 ]] {\r\n",
       "}\r\n",
       "comp usage \"f\" as E5  <<(T,blue) attribute>> [[psysml:1ebb82ef-cdf5-4836-9887-d34bbc134ce1 ]] {\r\n",
       "}\r\n",
       "comp usage \"g\" as E6  <<(T,blue) attribute>> [[psysml:22e07e99-e7e6-486c-b8ca-f79edb8ad4e8 ]] {\r\n",
       "}\r\n",
       "comp usage \"b\" as E7  <<(T,blue) attribute>> [[psysml:a8be3d15-ac76-451a-a4cf-87ef8e02e637 ]] {\r\n",
       "}\r\n",
       "comp usage \"c\" as E8  <<(T,blue) attribute>> [[psysml:88e99412-8df3-4a94-a568-1984bea0c190 ]] {\r\n",
       "}\r\n",
       "E3 - -:|> E2 [[psysml:47946f32-7338-4adb-a6af-ffcb2b2265dd ]] \r\n",
       "E4 o- - E2 [[psysml:e1d329d3-cb1e-45c3-b1d5-2fcf771779ef ]] : p\r\n",
       "}\r\n",
       "@enduml\r\n",
       "\n",
       "PlantUML version 1.2020.13(Sat Jun 13 12:26:38 UTC 2020)\n",
       "(EPL source distribution)\n",
       "Java Runtime: OpenJDK Runtime Environment\n",
       "JVM: OpenJDK 64-Bit Server VM\n",
       "Default Encoding: UTF-8\n",
       "Language: en\n",
       "Country: null\n",
       "--></g></svg>"
      ]
     },
     "execution_count": 3,
     "metadata": {},
     "output_type": "execute_result"
    }
   ],
   "source": [
    "%viz --style=\"COMPTREE\" --view=\"Tree\" \"ParameterTest\""
   ]
  },
  {
   "cell_type": "code",
   "execution_count": 4,
   "id": "8ccc0a3f",
   "metadata": {
    "execution": {
     "iopub.execute_input": "2021-06-30T09:18:18.288260Z",
     "iopub.status.busy": "2021-06-30T09:18:18.287031Z",
     "iopub.status.idle": "2021-06-30T09:18:18.304963Z",
     "shell.execute_reply": "2021-06-30T09:18:18.305509Z"
    }
   },
   "outputs": [
    {
     "data": {
      "image/svg+xml": [
       "<?xml version=\"1.0\" encoding=\"UTF-8\" standalone=\"no\"?><svg xmlns=\"http://www.w3.org/2000/svg\" xmlns:xlink=\"http://www.w3.org/1999/xlink\" contentScriptType=\"application/ecmascript\" contentStyleType=\"text/css\" height=\"12px\" preserveAspectRatio=\"none\" style=\"width:12px;height:12px;\" version=\"1.1\" viewBox=\"0 0 12 12\" width=\"12px\" zoomAndPan=\"magnify\"><defs/><g><!--MD5=[f19188ef49e11757b5c46753f95d9edc]\n",
       "@startuml\r\n",
       " skinparam monochrome true\r\n",
       "skinparam classbackgroundcolor white\r\n",
       "skinparam shadowing false\r\n",
       "skinparam wrapWidth 300\r\n",
       "hide circle\r\n",
       "\r\n",
       "@enduml\r\n",
       "\n",
       "PlantUML version 1.2020.13(Sat Jun 13 12:26:38 UTC 2020)\n",
       "(EPL source distribution)\n",
       "Java Runtime: OpenJDK Runtime Environment\n",
       "JVM: OpenJDK 64-Bit Server VM\n",
       "Default Encoding: UTF-8\n",
       "Language: en\n",
       "Country: null\n",
       "--></g></svg>"
      ]
     },
     "execution_count": 4,
     "metadata": {},
     "output_type": "execute_result"
    }
   ],
   "source": [
    "%viz --style=\"COMPTREE\" --view=\"State\" \"ParameterTest\""
   ]
  },
  {
   "cell_type": "code",
   "execution_count": 5,
   "id": "c1c1aec2",
   "metadata": {
    "execution": {
     "iopub.execute_input": "2021-06-30T09:18:18.357240Z",
     "iopub.status.busy": "2021-06-30T09:18:18.356423Z",
     "iopub.status.idle": "2021-06-30T09:18:18.468246Z",
     "shell.execute_reply": "2021-06-30T09:18:18.467681Z"
    }
   },
   "outputs": [
    {
     "data": {
      "image/svg+xml": [
       "<?xml version=\"1.0\" encoding=\"UTF-8\" standalone=\"no\"?><svg xmlns=\"http://www.w3.org/2000/svg\" xmlns:xlink=\"http://www.w3.org/1999/xlink\" contentScriptType=\"application/ecmascript\" contentStyleType=\"text/css\" height=\"216px\" preserveAspectRatio=\"none\" style=\"width:740px;height:216px;\" version=\"1.1\" viewBox=\"0 0 740 216\" width=\"740px\" zoomAndPan=\"magnify\"><defs/><g><!--MD5=[fbc87193dbaf4d95561dea2c320d4a47]\n",
       "cluster E1--><a href=\"psysml:adbc474a-2784-4828-be47-026fefc14932\" target=\"_top\" title=\"psysml:adbc474a-2784-4828-be47-026fefc14932\" xlink:actuate=\"onRequest\" xlink:href=\"psysml:adbc474a-2784-4828-be47-026fefc14932\" xlink:show=\"new\" xlink:title=\"psysml:adbc474a-2784-4828-be47-026fefc14932\" xlink:type=\"simple\"><polygon fill=\"#FFFFFF\" points=\"16,6,139,6,146,28.2969,718,28.2969,718,204.72,16,204.72,16,6\" style=\"stroke: #000000; stroke-width: 1.5;\"/><line style=\"stroke: #000000; stroke-width: 1.5;\" x1=\"16\" x2=\"146\" y1=\"28.2969\" y2=\"28.2969\"/><text fill=\"#000000\" font-family=\"sans-serif\" font-size=\"14\" font-weight=\"bold\" lengthAdjust=\"spacingAndGlyphs\" textLength=\"117\" x=\"20\" y=\"20.9951\">ParameterTest</text></a><!--MD5=[f6df4d0ebaf0b5dfb2ced0ae5af7c670]\n",
       "cluster E4--><a href=\"psysml:ea0c6e06-a87b-4616-91bc-ba79196303d0\" target=\"_top\" title=\"psysml:ea0c6e06-a87b-4616-91bc-ba79196303d0\" xlink:actuate=\"onRequest\" xlink:href=\"psysml:ea0c6e06-a87b-4616-91bc-ba79196303d0\" xlink:show=\"new\" xlink:title=\"psysml:ea0c6e06-a87b-4616-91bc-ba79196303d0\" xlink:type=\"simple\"><rect fill=\"#FFFFFF\" height=\"110.72\" id=\"E4\" style=\"stroke: #383838; stroke-width: 1.5;\" width=\"148\" x=\"554\" y=\"64\"/><rect fill=\"#F8F8F8\" height=\"37.9375\" style=\"stroke: #383838; stroke-width: 1.5;\" width=\"148\" x=\"554\" y=\"64\"/><text fill=\"#000000\" font-family=\"sans-serif\" font-size=\"12\" font-style=\"italic\" lengthAdjust=\"spacingAndGlyphs\" textLength=\"106\" x=\"575\" y=\"80.1387\">«calculation def»</text><text fill=\"#000000\" font-family=\"sans-serif\" font-size=\"12\" lengthAdjust=\"spacingAndGlyphs\" textLength=\"7\" x=\"624.5\" y=\"94.1074\">F</text></a><g id=\"E1.E2\"><a href=\"psysml:fa211d39-e6da-4efb-a07a-68e935dd1093\" target=\"_top\" title=\"psysml:fa211d39-e6da-4efb-a07a-68e935dd1093\" xlink:actuate=\"onRequest\" xlink:href=\"psysml:fa211d39-e6da-4efb-a07a-68e935dd1093\" xlink:show=\"new\" xlink:title=\"psysml:fa211d39-e6da-4efb-a07a-68e935dd1093\" xlink:type=\"simple\"><rect fill=\"#FFFFFF\" height=\"42.9375\" id=\"E2\" style=\"stroke: #383838; stroke-width: 1.5;\" width=\"100\" x=\"417\" y=\"99\"/><rect fill=\"#F8F8F8\" height=\"37.9375\" style=\"stroke: #383838; stroke-width: 1.5;\" width=\"100\" x=\"417\" y=\"99\"/><text fill=\"#000000\" font-family=\"sans-serif\" font-size=\"12\" font-style=\"italic\" lengthAdjust=\"spacingAndGlyphs\" textLength=\"93\" x=\"420.5\" y=\"115.1387\">«attribute def»</text><text fill=\"#000000\" font-family=\"sans-serif\" font-size=\"12\" lengthAdjust=\"spacingAndGlyphs\" textLength=\"8\" x=\"463\" y=\"129.1074\">A</text></a></g><!--MD5=[09b614a08d8cba4a07c9adeb5e0fee81]\n",
       "class E3--><a href=\"psysml:665f7084-89dd-4cc9-a479-f70e09a77220\" target=\"_top\" title=\"psysml:665f7084-89dd-4cc9-a479-f70e09a77220\" xlink:actuate=\"onRequest\" xlink:href=\"psysml:665f7084-89dd-4cc9-a479-f70e09a77220\" xlink:show=\"new\" xlink:title=\"psysml:665f7084-89dd-4cc9-a479-f70e09a77220\" xlink:type=\"simple\"><rect fill=\"#FFFFFF\" height=\"45.9375\" id=\"E3\" rx=\"10\" ry=\"10\" style=\"stroke: #383838; stroke-width: 1.5;\" width=\"71\" x=\"456.5\" y=\"41\"/><text fill=\"#000000\" font-family=\"sans-serif\" font-size=\"12\" font-style=\"italic\" lengthAdjust=\"spacingAndGlyphs\" textLength=\"69\" x=\"457.5\" y=\"57.1387\">«attribute»</text><text fill=\"#000000\" font-family=\"sans-serif\" font-size=\"12\" lengthAdjust=\"spacingAndGlyphs\" textLength=\"24\" x=\"480\" y=\"71.1074\">a: A</text><line style=\"stroke: #383838; stroke-width: 1.5;\" x1=\"457.5\" x2=\"526.5\" y1=\"78.9375\" y2=\"78.9375\"/></a><!--MD5=[b9389687b975829384b498ac4b7476b2]\n",
       "class E8--><a href=\"psysml:1ebb82ef-cdf5-4836-9887-d34bbc134ce1\" target=\"_top\" title=\"psysml:1ebb82ef-cdf5-4836-9887-d34bbc134ce1\" xlink:actuate=\"onRequest\" xlink:href=\"psysml:1ebb82ef-cdf5-4836-9887-d34bbc134ce1\" xlink:show=\"new\" xlink:title=\"psysml:1ebb82ef-cdf5-4836-9887-d34bbc134ce1\" xlink:type=\"simple\"><rect fill=\"#FFFFFF\" height=\"45.9375\" id=\"E8\" rx=\"10\" ry=\"10\" style=\"stroke: #383838; stroke-width: 1.5;\" width=\"71\" x=\"350.5\" y=\"41\"/><text fill=\"#000000\" font-family=\"sans-serif\" font-size=\"12\" font-style=\"italic\" lengthAdjust=\"spacingAndGlyphs\" textLength=\"69\" x=\"351.5\" y=\"57.1387\">«attribute»</text><text fill=\"#000000\" font-family=\"sans-serif\" font-size=\"12\" lengthAdjust=\"spacingAndGlyphs\" textLength=\"4\" x=\"384\" y=\"71.1074\">f</text><line style=\"stroke: #383838; stroke-width: 1.5;\" x1=\"351.5\" x2=\"420.5\" y1=\"78.9375\" y2=\"78.9375\"/></a><!--MD5=[fd4143e9d270a159db93a4ea2a975926]\n",
       "class E9--><a href=\"psysml:22e07e99-e7e6-486c-b8ca-f79edb8ad4e8\" target=\"_top\" title=\"psysml:22e07e99-e7e6-486c-b8ca-f79edb8ad4e8\" xlink:actuate=\"onRequest\" xlink:href=\"psysml:22e07e99-e7e6-486c-b8ca-f79edb8ad4e8\" xlink:show=\"new\" xlink:title=\"psysml:22e07e99-e7e6-486c-b8ca-f79edb8ad4e8\" xlink:type=\"simple\"><rect fill=\"#FFFFFF\" height=\"45.9375\" id=\"E9\" rx=\"10\" ry=\"10\" style=\"stroke: #383838; stroke-width: 1.5;\" width=\"71\" x=\"244.5\" y=\"41\"/><text fill=\"#000000\" font-family=\"sans-serif\" font-size=\"12\" font-style=\"italic\" lengthAdjust=\"spacingAndGlyphs\" textLength=\"69\" x=\"245.5\" y=\"57.1387\">«attribute»</text><text fill=\"#000000\" font-family=\"sans-serif\" font-size=\"12\" lengthAdjust=\"spacingAndGlyphs\" textLength=\"8\" x=\"276\" y=\"71.1074\">g</text><line style=\"stroke: #383838; stroke-width: 1.5;\" x1=\"245.5\" x2=\"314.5\" y1=\"78.9375\" y2=\"78.9375\"/></a><!--MD5=[96f4274e9e20536e775497830990834d]\n",
       "class E10--><a href=\"psysml:a8be3d15-ac76-451a-a4cf-87ef8e02e637\" target=\"_top\" title=\"psysml:a8be3d15-ac76-451a-a4cf-87ef8e02e637\" xlink:actuate=\"onRequest\" xlink:href=\"psysml:a8be3d15-ac76-451a-a4cf-87ef8e02e637\" xlink:show=\"new\" xlink:title=\"psysml:a8be3d15-ac76-451a-a4cf-87ef8e02e637\" xlink:type=\"simple\"><rect fill=\"#FFFFFF\" height=\"45.9375\" id=\"E10\" rx=\"10\" ry=\"10\" style=\"stroke: #383838; stroke-width: 1.5;\" width=\"71\" x=\"138.5\" y=\"41\"/><text fill=\"#000000\" font-family=\"sans-serif\" font-size=\"12\" font-style=\"italic\" lengthAdjust=\"spacingAndGlyphs\" textLength=\"69\" x=\"139.5\" y=\"57.1387\">«attribute»</text><text fill=\"#000000\" font-family=\"sans-serif\" font-size=\"12\" lengthAdjust=\"spacingAndGlyphs\" textLength=\"8\" x=\"170\" y=\"71.1074\">b</text><line style=\"stroke: #383838; stroke-width: 1.5;\" x1=\"139.5\" x2=\"208.5\" y1=\"78.9375\" y2=\"78.9375\"/></a><!--MD5=[1dd1bfd58a279cf63c5f349dbc8fc6a1]\n",
       "class E11--><a href=\"psysml:88e99412-8df3-4a94-a568-1984bea0c190\" target=\"_top\" title=\"psysml:88e99412-8df3-4a94-a568-1984bea0c190\" xlink:actuate=\"onRequest\" xlink:href=\"psysml:88e99412-8df3-4a94-a568-1984bea0c190\" xlink:show=\"new\" xlink:title=\"psysml:88e99412-8df3-4a94-a568-1984bea0c190\" xlink:type=\"simple\"><rect fill=\"#FFFFFF\" height=\"45.9375\" id=\"E11\" rx=\"10\" ry=\"10\" style=\"stroke: #383838; stroke-width: 1.5;\" width=\"71\" x=\"32.5\" y=\"41\"/><text fill=\"#000000\" font-family=\"sans-serif\" font-size=\"12\" font-style=\"italic\" lengthAdjust=\"spacingAndGlyphs\" textLength=\"69\" x=\"33.5\" y=\"57.1387\">«attribute»</text><text fill=\"#000000\" font-family=\"sans-serif\" font-size=\"12\" lengthAdjust=\"spacingAndGlyphs\" textLength=\"7\" x=\"64.5\" y=\"71.1074\">c</text><line style=\"stroke: #383838; stroke-width: 1.5;\" x1=\"33.5\" x2=\"102.5\" y1=\"78.9375\" y2=\"78.9375\"/></a><text fill=\"#000000\" font-family=\"sans-serif\" font-size=\"14\" lengthAdjust=\"spacingAndGlyphs\" textLength=\"9\" x=\"567.5\" y=\"42.6982\">p</text><rect fill=\"#383838\" height=\"12\" style=\"stroke: #F8F8F8; stroke-width: 1.5;\" width=\"12\" x=\"566\" y=\"58\"/><text fill=\"#000000\" font-family=\"sans-serif\" font-size=\"14\" lengthAdjust=\"spacingAndGlyphs\" textLength=\"9\" x=\"614.5\" y=\"42.6982\">q</text><rect fill=\"#383838\" height=\"12\" style=\"stroke: #F8F8F8; stroke-width: 1.5;\" width=\"12\" x=\"613\" y=\"58\"/><text fill=\"#000000\" font-family=\"sans-serif\" font-size=\"14\" lengthAdjust=\"spacingAndGlyphs\" textLength=\"57\" x=\"590.5\" y=\"193.7151\">noname</text><rect fill=\"#383838\" height=\"12\" style=\"stroke: #F8F8F8; stroke-width: 1.5;\" width=\"12\" x=\"613\" y=\"168.72\"/><!--MD5=[05d275557350bfb9b23a4ef7222b4c39]\n",
       "link E3 to E2--><a href=\"psysml:47946f32-7338-4adb-a6af-ffcb2b2265dd\" target=\"_top\" title=\"psysml:47946f32-7338-4adb-a6af-ffcb2b2265dd\" xlink:actuate=\"onRequest\" xlink:href=\"psysml:47946f32-7338-4adb-a6af-ffcb2b2265dd\" xlink:show=\"new\" xlink:title=\"psysml:47946f32-7338-4adb-a6af-ffcb2b2265dd\" xlink:type=\"simple\"><path d=\"M481.83,87.17 C481.78,87.29 481.72,87.41 481.66,87.53 \" fill=\"none\" id=\"E3-&gt;E2\" style=\"stroke: #383838; stroke-width: 1.0;\"/><polygon fill=\"#FFFFFF\" points=\"476.43,98.93,477.977,78.7407,490.7056,84.5701,476.43,98.93\" style=\"stroke: #383838; stroke-width: 1.0;\"/><ellipse cx=\"482.1687\" cy=\"74.3911\" fill=\"#383838\" rx=\"2\" ry=\"2\" style=\"stroke: #383838; stroke-width: 1.0;\"/><ellipse cx=\"491.2606\" cy=\"78.555\" fill=\"#383838\" rx=\"2\" ry=\"2\" style=\"stroke: #383838; stroke-width: 1.0;\"/></a><!--MD5=[ce0e417919f71dafab855c40d6f2a2da]\n",
       "@startuml\r\n",
       "skinparam ranksep 10\r\n",
       "skinparam rectangle {\r\n",
       " backgroundColor<<block>> LightGreen\r\n",
       "}\r\n",
       " skinparam monochrome true\r\n",
       "skinparam classbackgroundcolor white\r\n",
       "skinparam shadowing false\r\n",
       "skinparam wrapWidth 300\r\n",
       "hide circle\r\n",
       "\r\n",
       "package \"ParameterTest\" as E1  [[psysml:adbc474a-2784-4828-be47-026fefc14932 ]]  {\r\n",
       "def \"A\" as E2  <<(T,blue) attribute def>> [[psysml:fa211d39-e6da-4efb-a07a-68e935dd1093 ]] \r\n",
       "comp usage \"a: A\" as E3  <<(T,blue) attribute>> [[psysml:665f7084-89dd-4cc9-a479-f70e09a77220 ]] {\r\n",
       "}\r\n",
       "rec def \"F\" as E4  <<(T,blue) calculation def>> [[psysml:ea0c6e06-a87b-4616-91bc-ba79196303d0 ]] {\r\n",
       "portin \"p\" as E5  [[psysml:e1d329d3-cb1e-45c3-b1d5-2fcf771779ef ]] \r\n",
       "portin \"q\" as E6  [[psysml:b499ebef-2d53-43ba-b86a-de9084e46bb3 ]] \r\n",
       "portout \"noname\" as E7  [[psysml:2e56002b-31e4-43bf-ad2b-cc6ef1aac7ab ]] \r\n",
       "}\r\n",
       "\r\n",
       "comp usage \"f\" as E8  <<(T,blue) attribute>> [[psysml:1ebb82ef-cdf5-4836-9887-d34bbc134ce1 ]] {\r\n",
       "}\r\n",
       "comp usage \"g\" as E9  <<(T,blue) attribute>> [[psysml:22e07e99-e7e6-486c-b8ca-f79edb8ad4e8 ]] {\r\n",
       "}\r\n",
       "comp usage \"b\" as E10  <<(T,blue) attribute>> [[psysml:a8be3d15-ac76-451a-a4cf-87ef8e02e637 ]] {\r\n",
       "}\r\n",
       "comp usage \"c\" as E11  <<(T,blue) attribute>> [[psysml:88e99412-8df3-4a94-a568-1984bea0c190 ]] {\r\n",
       "}\r\n",
       "E3 - -:|> E2 [[psysml:47946f32-7338-4adb-a6af-ffcb2b2265dd ]] \r\n",
       "}\r\n",
       "@enduml\r\n",
       "\n",
       "PlantUML version 1.2020.13(Sat Jun 13 12:26:38 UTC 2020)\n",
       "(EPL source distribution)\n",
       "Java Runtime: OpenJDK Runtime Environment\n",
       "JVM: OpenJDK 64-Bit Server VM\n",
       "Default Encoding: UTF-8\n",
       "Language: en\n",
       "Country: null\n",
       "--></g></svg>"
      ]
     },
     "execution_count": 5,
     "metadata": {},
     "output_type": "execute_result"
    }
   ],
   "source": [
    "%viz --style=\"COMPTREE\" --view=\"Interconnection\" \"ParameterTest\""
   ]
  },
  {
   "cell_type": "code",
   "execution_count": 6,
   "id": "1de7a72c",
   "metadata": {
    "execution": {
     "iopub.execute_input": "2021-06-30T09:18:18.522493Z",
     "iopub.status.busy": "2021-06-30T09:18:18.521120Z",
     "iopub.status.idle": "2021-06-30T09:18:18.590537Z",
     "shell.execute_reply": "2021-06-30T09:18:18.589387Z"
    }
   },
   "outputs": [
    {
     "data": {
      "image/svg+xml": [
       "<?xml version=\"1.0\" encoding=\"UTF-8\" standalone=\"no\"?><svg xmlns=\"http://www.w3.org/2000/svg\" xmlns:xlink=\"http://www.w3.org/1999/xlink\" contentScriptType=\"application/ecmascript\" contentStyleType=\"text/css\" height=\"162px\" preserveAspectRatio=\"none\" style=\"width:166px;height:162px;\" version=\"1.1\" viewBox=\"0 0 166 162\" width=\"166px\" zoomAndPan=\"magnify\"><defs/><g><!--MD5=[fbc87193dbaf4d95561dea2c320d4a47]\n",
       "cluster E1--><a href=\"psysml:ea0c6e06-a87b-4616-91bc-ba79196303d0\" target=\"_top\" title=\"psysml:ea0c6e06-a87b-4616-91bc-ba79196303d0\" xlink:actuate=\"onRequest\" xlink:href=\"psysml:ea0c6e06-a87b-4616-91bc-ba79196303d0\" xlink:show=\"new\" xlink:title=\"psysml:ea0c6e06-a87b-4616-91bc-ba79196303d0\" xlink:type=\"simple\"><rect fill=\"#FFFFFF\" height=\"87.72\" id=\"E1\" style=\"stroke: #383838; stroke-width: 1.5;\" width=\"148\" x=\"7\" y=\"42.0986\"/><rect fill=\"#F8F8F8\" height=\"37.9375\" style=\"stroke: #383838; stroke-width: 1.5;\" width=\"148\" x=\"7\" y=\"42.0986\"/><text fill=\"#000000\" font-family=\"sans-serif\" font-size=\"12\" font-style=\"italic\" lengthAdjust=\"spacingAndGlyphs\" textLength=\"106\" x=\"28\" y=\"58.2373\">«calculation def»</text><text fill=\"#000000\" font-family=\"sans-serif\" font-size=\"12\" lengthAdjust=\"spacingAndGlyphs\" textLength=\"7\" x=\"77.5\" y=\"72.2061\">F</text></a><text fill=\"#000000\" font-family=\"sans-serif\" font-size=\"14\" lengthAdjust=\"spacingAndGlyphs\" textLength=\"9\" x=\"20.5\" y=\"20.7969\">p</text><rect fill=\"#383838\" height=\"12\" style=\"stroke: #F8F8F8; stroke-width: 1.5;\" width=\"12\" x=\"19\" y=\"36.0986\"/><text fill=\"#000000\" font-family=\"sans-serif\" font-size=\"14\" lengthAdjust=\"spacingAndGlyphs\" textLength=\"9\" x=\"67.5\" y=\"20.7969\">q</text><rect fill=\"#383838\" height=\"12\" style=\"stroke: #F8F8F8; stroke-width: 1.5;\" width=\"12\" x=\"66\" y=\"36.0986\"/><text fill=\"#000000\" font-family=\"sans-serif\" font-size=\"14\" lengthAdjust=\"spacingAndGlyphs\" textLength=\"57\" x=\"43.5\" y=\"148.8138\">noname</text><rect fill=\"#383838\" height=\"12\" style=\"stroke: #F8F8F8; stroke-width: 1.5;\" width=\"12\" x=\"66\" y=\"123.8186\"/><!--MD5=[94ba06f7c621a71fcf889db3ea19013b]\n",
       "@startuml\r\n",
       "skinparam ranksep 8\r\n",
       " skinparam monochrome true\r\n",
       "skinparam classbackgroundcolor white\r\n",
       "skinparam shadowing false\r\n",
       "skinparam wrapWidth 300\r\n",
       "hide circle\r\n",
       "\r\n",
       "rec def \"F\" as E1  <<(T,blue) calculation def>> [[psysml:ea0c6e06-a87b-4616-91bc-ba79196303d0 ]] {\r\n",
       "portin \"p\" as E2  [[psysml:e1d329d3-cb1e-45c3-b1d5-2fcf771779ef ]] \r\n",
       "portin \"q\" as E3  [[psysml:b499ebef-2d53-43ba-b86a-de9084e46bb3 ]] \r\n",
       "portout \"noname\" as E4  [[psysml:2e56002b-31e4-43bf-ad2b-cc6ef1aac7ab ]] \r\n",
       "}\r\n",
       "\r\n",
       "@enduml\r\n",
       "\n",
       "PlantUML version 1.2020.13(Sat Jun 13 12:26:38 UTC 2020)\n",
       "(EPL source distribution)\n",
       "Java Runtime: OpenJDK Runtime Environment\n",
       "JVM: OpenJDK 64-Bit Server VM\n",
       "Default Encoding: UTF-8\n",
       "Language: en\n",
       "Country: null\n",
       "--></g></svg>"
      ]
     },
     "execution_count": 6,
     "metadata": {},
     "output_type": "execute_result"
    }
   ],
   "source": [
    "%viz --style=\"COMPTREE\" --view=\"Action\" \"ParameterTest\""
   ]
  },
  {
   "cell_type": "code",
   "execution_count": 7,
   "id": "9f74c814",
   "metadata": {
    "execution": {
     "iopub.execute_input": "2021-06-30T09:18:18.641165Z",
     "iopub.status.busy": "2021-06-30T09:18:18.640568Z",
     "iopub.status.idle": "2021-06-30T09:18:18.742418Z",
     "shell.execute_reply": "2021-06-30T09:18:18.741992Z"
    }
   },
   "outputs": [
    {
     "data": {
      "image/svg+xml": [
       "<?xml version=\"1.0\" encoding=\"UTF-8\" standalone=\"no\"?><svg xmlns=\"http://www.w3.org/2000/svg\" xmlns:xlink=\"http://www.w3.org/1999/xlink\" contentScriptType=\"application/ecmascript\" contentStyleType=\"text/css\" height=\"280px\" preserveAspectRatio=\"none\" style=\"width:710px;height:280px;\" version=\"1.1\" viewBox=\"0 0 710 280\" width=\"710px\" zoomAndPan=\"magnify\"><defs/><g><!--MD5=[fbc87193dbaf4d95561dea2c320d4a47]\n",
       "cluster E1--><a href=\"psysml:adbc474a-2784-4828-be47-026fefc14932\" target=\"_top\" title=\"psysml:adbc474a-2784-4828-be47-026fefc14932\" xlink:actuate=\"onRequest\" xlink:href=\"psysml:adbc474a-2784-4828-be47-026fefc14932\" xlink:show=\"new\" xlink:title=\"psysml:adbc474a-2784-4828-be47-026fefc14932\" xlink:type=\"simple\"><polygon fill=\"#FFFFFF\" points=\"16,6,139,6,146,28.2969,688,28.2969,688,268,16,268,16,6\" style=\"stroke: #000000; stroke-width: 1.5;\"/><line style=\"stroke: #000000; stroke-width: 1.5;\" x1=\"16\" x2=\"146\" y1=\"28.2969\" y2=\"28.2969\"/><text fill=\"#000000\" font-family=\"sans-serif\" font-size=\"14\" font-weight=\"bold\" lengthAdjust=\"spacingAndGlyphs\" textLength=\"117\" x=\"20\" y=\"20.9951\">ParameterTest</text></a><!--MD5=[b4997ac47864f28c2f74865a473b2911]\n",
       "class E2--><a href=\"psysml:fa211d39-e6da-4efb-a07a-68e935dd1093\" target=\"_top\" title=\"psysml:fa211d39-e6da-4efb-a07a-68e935dd1093\" xlink:actuate=\"onRequest\" xlink:href=\"psysml:fa211d39-e6da-4efb-a07a-68e935dd1093\" xlink:show=\"new\" xlink:title=\"psysml:fa211d39-e6da-4efb-a07a-68e935dd1093\" xlink:type=\"simple\"><rect fill=\"#FFFFFF\" height=\"88.3516\" id=\"E2\" style=\"stroke: #383838; stroke-width: 1.5;\" width=\"95\" x=\"498.5\" y=\"164\"/><text fill=\"#000000\" font-family=\"sans-serif\" font-size=\"12\" font-style=\"italic\" lengthAdjust=\"spacingAndGlyphs\" textLength=\"93\" x=\"499.5\" y=\"180.1387\">«attribute def»</text><text fill=\"#000000\" font-family=\"sans-serif\" font-size=\"12\" lengthAdjust=\"spacingAndGlyphs\" textLength=\"8\" x=\"542\" y=\"194.1074\">A</text><line style=\"stroke: #383838; stroke-width: 1.5;\" x1=\"499.5\" x2=\"592.5\" y1=\"201.9375\" y2=\"201.9375\"/><text fill=\"#000000\" font-family=\"sans-serif\" font-size=\"11\" lengthAdjust=\"spacingAndGlyphs\" textLength=\"48\" x=\"504.5\" y=\"232.9526\">x: String</text><text fill=\"#000000\" font-family=\"sans-serif\" font-size=\"11\" lengthAdjust=\"spacingAndGlyphs\" textLength=\"21\" x=\"504.5\" y=\"245.7573\">y: A</text><line style=\"stroke: #383838; stroke-width: 1.0;\" x1=\"499.5\" x2=\"518.5\" y1=\"216.3398\" y2=\"216.3398\"/><text fill=\"#000000\" font-family=\"sans-serif\" font-size=\"11\" lengthAdjust=\"spacingAndGlyphs\" textLength=\"55\" x=\"518.5\" y=\"219.6479\">attributes</text><line style=\"stroke: #383838; stroke-width: 1.0;\" x1=\"573.5\" x2=\"592.5\" y1=\"216.3398\" y2=\"216.3398\"/></a><!--MD5=[09b614a08d8cba4a07c9adeb5e0fee81]\n",
       "class E3--><a href=\"psysml:665f7084-89dd-4cc9-a479-f70e09a77220\" target=\"_top\" title=\"psysml:665f7084-89dd-4cc9-a479-f70e09a77220\" xlink:actuate=\"onRequest\" xlink:href=\"psysml:665f7084-89dd-4cc9-a479-f70e09a77220\" xlink:show=\"new\" xlink:title=\"psysml:665f7084-89dd-4cc9-a479-f70e09a77220\" xlink:type=\"simple\"><rect fill=\"#FFFFFF\" height=\"45.9375\" id=\"E3\" rx=\"10\" ry=\"10\" style=\"stroke: #383838; stroke-width: 1.5;\" width=\"71\" x=\"600.5\" y=\"41\"/><text fill=\"#000000\" font-family=\"sans-serif\" font-size=\"12\" font-style=\"italic\" lengthAdjust=\"spacingAndGlyphs\" textLength=\"69\" x=\"601.5\" y=\"57.1387\">«attribute»</text><text fill=\"#000000\" font-family=\"sans-serif\" font-size=\"12\" lengthAdjust=\"spacingAndGlyphs\" textLength=\"24\" x=\"624\" y=\"71.1074\">a: A</text><line style=\"stroke: #383838; stroke-width: 1.5;\" x1=\"601.5\" x2=\"670.5\" y1=\"78.9375\" y2=\"78.9375\"/></a><!--MD5=[ebbe1d658d1005bcc118a6aa81145e00]\n",
       "class E4--><a href=\"psysml:ea0c6e06-a87b-4616-91bc-ba79196303d0\" target=\"_top\" title=\"psysml:ea0c6e06-a87b-4616-91bc-ba79196303d0\" xlink:actuate=\"onRequest\" xlink:href=\"psysml:ea0c6e06-a87b-4616-91bc-ba79196303d0\" xlink:show=\"new\" xlink:title=\"psysml:ea0c6e06-a87b-4616-91bc-ba79196303d0\" xlink:type=\"simple\"><rect fill=\"#FFFFFF\" height=\"45.9375\" id=\"E4\" style=\"stroke: #383838; stroke-width: 1.5;\" width=\"108\" x=\"457\" y=\"41\"/><text fill=\"#000000\" font-family=\"sans-serif\" font-size=\"12\" font-style=\"italic\" lengthAdjust=\"spacingAndGlyphs\" textLength=\"106\" x=\"458\" y=\"57.1387\">«calculation def»</text><text fill=\"#000000\" font-family=\"sans-serif\" font-size=\"12\" lengthAdjust=\"spacingAndGlyphs\" textLength=\"7\" x=\"507.5\" y=\"71.1074\">F</text><line style=\"stroke: #383838; stroke-width: 1.5;\" x1=\"458\" x2=\"564\" y1=\"78.9375\" y2=\"78.9375\"/></a><!--MD5=[270fce915f116d4de14055a7c1d9a0f3]\n",
       "class E5--><a href=\"psysml:1ebb82ef-cdf5-4836-9887-d34bbc134ce1\" target=\"_top\" title=\"psysml:1ebb82ef-cdf5-4836-9887-d34bbc134ce1\" xlink:actuate=\"onRequest\" xlink:href=\"psysml:1ebb82ef-cdf5-4836-9887-d34bbc134ce1\" xlink:show=\"new\" xlink:title=\"psysml:1ebb82ef-cdf5-4836-9887-d34bbc134ce1\" xlink:type=\"simple\"><rect fill=\"#FFFFFF\" height=\"45.9375\" id=\"E5\" rx=\"10\" ry=\"10\" style=\"stroke: #383838; stroke-width: 1.5;\" width=\"71\" x=\"350.5\" y=\"41\"/><text fill=\"#000000\" font-family=\"sans-serif\" font-size=\"12\" font-style=\"italic\" lengthAdjust=\"spacingAndGlyphs\" textLength=\"69\" x=\"351.5\" y=\"57.1387\">«attribute»</text><text fill=\"#000000\" font-family=\"sans-serif\" font-size=\"12\" lengthAdjust=\"spacingAndGlyphs\" textLength=\"4\" x=\"384\" y=\"71.1074\">f</text><line style=\"stroke: #383838; stroke-width: 1.5;\" x1=\"351.5\" x2=\"420.5\" y1=\"78.9375\" y2=\"78.9375\"/></a><!--MD5=[60a26617385b1d2d0262a64233df1f8d]\n",
       "class E6--><a href=\"psysml:22e07e99-e7e6-486c-b8ca-f79edb8ad4e8\" target=\"_top\" title=\"psysml:22e07e99-e7e6-486c-b8ca-f79edb8ad4e8\" xlink:actuate=\"onRequest\" xlink:href=\"psysml:22e07e99-e7e6-486c-b8ca-f79edb8ad4e8\" xlink:show=\"new\" xlink:title=\"psysml:22e07e99-e7e6-486c-b8ca-f79edb8ad4e8\" xlink:type=\"simple\"><rect fill=\"#FFFFFF\" height=\"45.9375\" id=\"E6\" rx=\"10\" ry=\"10\" style=\"stroke: #383838; stroke-width: 1.5;\" width=\"71\" x=\"244.5\" y=\"41\"/><text fill=\"#000000\" font-family=\"sans-serif\" font-size=\"12\" font-style=\"italic\" lengthAdjust=\"spacingAndGlyphs\" textLength=\"69\" x=\"245.5\" y=\"57.1387\">«attribute»</text><text fill=\"#000000\" font-family=\"sans-serif\" font-size=\"12\" lengthAdjust=\"spacingAndGlyphs\" textLength=\"8\" x=\"276\" y=\"71.1074\">g</text><line style=\"stroke: #383838; stroke-width: 1.5;\" x1=\"245.5\" x2=\"314.5\" y1=\"78.9375\" y2=\"78.9375\"/></a><!--MD5=[2156ba9850f5573cc1fc38a6a4b2f02b]\n",
       "class E7--><a href=\"psysml:a8be3d15-ac76-451a-a4cf-87ef8e02e637\" target=\"_top\" title=\"psysml:a8be3d15-ac76-451a-a4cf-87ef8e02e637\" xlink:actuate=\"onRequest\" xlink:href=\"psysml:a8be3d15-ac76-451a-a4cf-87ef8e02e637\" xlink:show=\"new\" xlink:title=\"psysml:a8be3d15-ac76-451a-a4cf-87ef8e02e637\" xlink:type=\"simple\"><rect fill=\"#FFFFFF\" height=\"45.9375\" id=\"E7\" rx=\"10\" ry=\"10\" style=\"stroke: #383838; stroke-width: 1.5;\" width=\"71\" x=\"138.5\" y=\"41\"/><text fill=\"#000000\" font-family=\"sans-serif\" font-size=\"12\" font-style=\"italic\" lengthAdjust=\"spacingAndGlyphs\" textLength=\"69\" x=\"139.5\" y=\"57.1387\">«attribute»</text><text fill=\"#000000\" font-family=\"sans-serif\" font-size=\"12\" lengthAdjust=\"spacingAndGlyphs\" textLength=\"8\" x=\"170\" y=\"71.1074\">b</text><line style=\"stroke: #383838; stroke-width: 1.5;\" x1=\"139.5\" x2=\"208.5\" y1=\"78.9375\" y2=\"78.9375\"/></a><!--MD5=[b9389687b975829384b498ac4b7476b2]\n",
       "class E8--><a href=\"psysml:88e99412-8df3-4a94-a568-1984bea0c190\" target=\"_top\" title=\"psysml:88e99412-8df3-4a94-a568-1984bea0c190\" xlink:actuate=\"onRequest\" xlink:href=\"psysml:88e99412-8df3-4a94-a568-1984bea0c190\" xlink:show=\"new\" xlink:title=\"psysml:88e99412-8df3-4a94-a568-1984bea0c190\" xlink:type=\"simple\"><rect fill=\"#FFFFFF\" height=\"45.9375\" id=\"E8\" rx=\"10\" ry=\"10\" style=\"stroke: #383838; stroke-width: 1.5;\" width=\"71\" x=\"32.5\" y=\"41\"/><text fill=\"#000000\" font-family=\"sans-serif\" font-size=\"12\" font-style=\"italic\" lengthAdjust=\"spacingAndGlyphs\" textLength=\"69\" x=\"33.5\" y=\"57.1387\">«attribute»</text><text fill=\"#000000\" font-family=\"sans-serif\" font-size=\"12\" lengthAdjust=\"spacingAndGlyphs\" textLength=\"7\" x=\"64.5\" y=\"71.1074\">c</text><line style=\"stroke: #383838; stroke-width: 1.5;\" x1=\"33.5\" x2=\"102.5\" y1=\"78.9375\" y2=\"78.9375\"/></a><!--MD5=[05d275557350bfb9b23a4ef7222b4c39]\n",
       "link E3 to E2--><a href=\"psysml:47946f32-7338-4adb-a6af-ffcb2b2265dd\" target=\"_top\" title=\"psysml:47946f32-7338-4adb-a6af-ffcb2b2265dd\" xlink:actuate=\"onRequest\" xlink:href=\"psysml:47946f32-7338-4adb-a6af-ffcb2b2265dd\" xlink:show=\"new\" xlink:title=\"psysml:47946f32-7338-4adb-a6af-ffcb2b2265dd\" xlink:type=\"simple\"><path d=\"M621.94,87.19 C611.77,103.23 597.51,125.73 584.09,146.9 \" fill=\"none\" id=\"E3-&gt;E2\" style=\"stroke: #383838; stroke-width: 1.0;\"/><polygon fill=\"#FFFFFF\" points=\"573.37,163.82,577.6195,144.0225,589.448,151.5115,573.37,163.82\" style=\"stroke: #383838; stroke-width: 1.0;\"/><ellipse cx=\"582.3584\" cy=\"140.2764\" fill=\"#383838\" rx=\"2\" ry=\"2\" style=\"stroke: #383838; stroke-width: 1.0;\"/><ellipse cx=\"590.8073\" cy=\"145.6258\" fill=\"#383838\" rx=\"2\" ry=\"2\" style=\"stroke: #383838; stroke-width: 1.0;\"/></a><!--MD5=[ddeed8deb2209213b62e6cfabaa108b2]\n",
       "reverse link E4 to E2--><a href=\"psysml:e1d329d3-cb1e-45c3-b1d5-2fcf771779ef\" target=\"_top\" title=\"psysml:e1d329d3-cb1e-45c3-b1d5-2fcf771779ef\" xlink:actuate=\"onRequest\" xlink:href=\"psysml:e1d329d3-cb1e-45c3-b1d5-2fcf771779ef\" xlink:show=\"new\" xlink:title=\"psysml:e1d329d3-cb1e-45c3-b1d5-2fcf771779ef\" xlink:type=\"simple\"><path d=\"M519.62,99.96 C524.37,119.25 530.31,143.36 535.36,163.82 \" fill=\"none\" id=\"E4&lt;-E2\" style=\"stroke: #383838; stroke-width: 1.0;\"/><polygon fill=\"#FFFFFF\" points=\"516.47,87.19,514.0229,93.9732,519.3432,98.841,521.7903,92.0577,516.47,87.19\" style=\"stroke: #383838; stroke-width: 1.0;\"/><text fill=\"#000000\" font-family=\"sans-serif\" font-size=\"13\" lengthAdjust=\"spacingAndGlyphs\" textLength=\"8\" x=\"528\" y=\"130.0669\">p</text></a><!--MD5=[25ea091a1759474f85179d7b7e239238]\n",
       "@startuml\r\n",
       " skinparam monochrome true\r\n",
       "skinparam classbackgroundcolor white\r\n",
       "skinparam shadowing false\r\n",
       "skinparam wrapWidth 300\r\n",
       "hide circle\r\n",
       "\r\n",
       "package \"ParameterTest\" as E1  [[psysml:adbc474a-2784-4828-be47-026fefc14932 ]]  {\r\n",
       "comp def \"A\" as E2  <<(T,blue) attribute def>> [[psysml:fa211d39-e6da-4efb-a07a-68e935dd1093 ]] {\r\n",
       "- - attributes - -\r\n",
       "x: String\r\n",
       "y: A\r\n",
       "}\r\n",
       "comp usage \"a: A\" as E3  <<(T,blue) attribute>> [[psysml:665f7084-89dd-4cc9-a479-f70e09a77220 ]] {\r\n",
       "}\r\n",
       "comp def \"F\" as E4  <<(T,blue) calculation def>> [[psysml:ea0c6e06-a87b-4616-91bc-ba79196303d0 ]] {\r\n",
       "}\r\n",
       "comp usage \"f\" as E5  <<(T,blue) attribute>> [[psysml:1ebb82ef-cdf5-4836-9887-d34bbc134ce1 ]] {\r\n",
       "}\r\n",
       "comp usage \"g\" as E6  <<(T,blue) attribute>> [[psysml:22e07e99-e7e6-486c-b8ca-f79edb8ad4e8 ]] {\r\n",
       "}\r\n",
       "comp usage \"b\" as E7  <<(T,blue) attribute>> [[psysml:a8be3d15-ac76-451a-a4cf-87ef8e02e637 ]] {\r\n",
       "}\r\n",
       "comp usage \"c\" as E8  <<(T,blue) attribute>> [[psysml:88e99412-8df3-4a94-a568-1984bea0c190 ]] {\r\n",
       "}\r\n",
       "E3 - -:|> E2 [[psysml:47946f32-7338-4adb-a6af-ffcb2b2265dd ]] \r\n",
       "E4 o- - E2 [[psysml:e1d329d3-cb1e-45c3-b1d5-2fcf771779ef ]] : p\r\n",
       "}\r\n",
       "@enduml\r\n",
       "\n",
       "PlantUML version 1.2020.13(Sat Jun 13 12:26:38 UTC 2020)\n",
       "(EPL source distribution)\n",
       "Java Runtime: OpenJDK Runtime Environment\n",
       "JVM: OpenJDK 64-Bit Server VM\n",
       "Default Encoding: UTF-8\n",
       "Language: en\n",
       "Country: null\n",
       "--></g></svg>"
      ]
     },
     "execution_count": 7,
     "metadata": {},
     "output_type": "execute_result"
    }
   ],
   "source": [
    "%viz --style=\"COMPTREE\" --view=\"Sequence\" \"ParameterTest\""
   ]
  },
  {
   "cell_type": "code",
   "execution_count": 8,
   "id": "b1bb54e3",
   "metadata": {
    "execution": {
     "iopub.execute_input": "2021-06-30T09:18:18.798349Z",
     "iopub.status.busy": "2021-06-30T09:18:18.796324Z",
     "iopub.status.idle": "2021-06-30T09:18:18.995928Z",
     "shell.execute_reply": "2021-06-30T09:18:18.994675Z"
    }
   },
   "outputs": [
    {
     "data": {
      "image/svg+xml": [
       "<?xml version=\"1.0\" encoding=\"UTF-8\" standalone=\"no\"?><svg xmlns=\"http://www.w3.org/2000/svg\" xmlns:xlink=\"http://www.w3.org/1999/xlink\" contentScriptType=\"application/ecmascript\" contentStyleType=\"text/css\" height=\"403px\" preserveAspectRatio=\"none\" style=\"width:740px;height:403px;\" version=\"1.1\" viewBox=\"0 0 740 403\" width=\"740px\" zoomAndPan=\"magnify\"><defs/><g><!--MD5=[fbc87193dbaf4d95561dea2c320d4a47]\n",
       "cluster E1--><a href=\"psysml:adbc474a-2784-4828-be47-026fefc14932\" target=\"_top\" title=\"psysml:adbc474a-2784-4828-be47-026fefc14932\" xlink:actuate=\"onRequest\" xlink:href=\"psysml:adbc474a-2784-4828-be47-026fefc14932\" xlink:show=\"new\" xlink:title=\"psysml:adbc474a-2784-4828-be47-026fefc14932\" xlink:type=\"simple\"><polygon fill=\"#FFFFFF\" points=\"16,6,139,6,146,28.2969,718,28.2969,718,391.72,16,391.72,16,6\" style=\"stroke: #000000; stroke-width: 1.5;\"/><line style=\"stroke: #000000; stroke-width: 1.5;\" x1=\"16\" x2=\"146\" y1=\"28.2969\" y2=\"28.2969\"/><text fill=\"#000000\" font-family=\"sans-serif\" font-size=\"14\" font-weight=\"bold\" lengthAdjust=\"spacingAndGlyphs\" textLength=\"117\" x=\"20\" y=\"20.9951\">ParameterTest</text></a><!--MD5=[f6df4d0ebaf0b5dfb2ced0ae5af7c670]\n",
       "cluster E4--><a href=\"psysml:ea0c6e06-a87b-4616-91bc-ba79196303d0\" target=\"_top\" title=\"psysml:ea0c6e06-a87b-4616-91bc-ba79196303d0\" xlink:actuate=\"onRequest\" xlink:href=\"psysml:ea0c6e06-a87b-4616-91bc-ba79196303d0\" xlink:show=\"new\" xlink:title=\"psysml:ea0c6e06-a87b-4616-91bc-ba79196303d0\" xlink:type=\"simple\"><rect fill=\"#FFFFFF\" height=\"297.72\" id=\"E4\" style=\"stroke: #383838; stroke-width: 1.5;\" width=\"148\" x=\"554\" y=\"64\"/><rect fill=\"#F8F8F8\" height=\"37.9375\" style=\"stroke: #383838; stroke-width: 1.5;\" width=\"148\" x=\"554\" y=\"64\"/><text fill=\"#000000\" font-family=\"sans-serif\" font-size=\"12\" font-style=\"italic\" lengthAdjust=\"spacingAndGlyphs\" textLength=\"106\" x=\"575\" y=\"80.1387\">«calculation def»</text><text fill=\"#000000\" font-family=\"sans-serif\" font-size=\"12\" lengthAdjust=\"spacingAndGlyphs\" textLength=\"7\" x=\"624.5\" y=\"94.1074\">F</text></a><!--MD5=[b4997ac47864f28c2f74865a473b2911]\n",
       "class E2--><a href=\"psysml:fa211d39-e6da-4efb-a07a-68e935dd1093\" target=\"_top\" title=\"psysml:fa211d39-e6da-4efb-a07a-68e935dd1093\" xlink:actuate=\"onRequest\" xlink:href=\"psysml:fa211d39-e6da-4efb-a07a-68e935dd1093\" xlink:show=\"new\" xlink:title=\"psysml:fa211d39-e6da-4efb-a07a-68e935dd1093\" xlink:type=\"simple\"><rect fill=\"#FFFFFF\" height=\"88.3516\" id=\"E2\" style=\"stroke: #383838; stroke-width: 1.5;\" width=\"95\" x=\"422.5\" y=\"147\"/><text fill=\"#000000\" font-family=\"sans-serif\" font-size=\"12\" font-style=\"italic\" lengthAdjust=\"spacingAndGlyphs\" textLength=\"93\" x=\"423.5\" y=\"163.1387\">«attribute def»</text><text fill=\"#000000\" font-family=\"sans-serif\" font-size=\"12\" lengthAdjust=\"spacingAndGlyphs\" textLength=\"8\" x=\"466\" y=\"177.1074\">A</text><line style=\"stroke: #383838; stroke-width: 1.5;\" x1=\"423.5\" x2=\"516.5\" y1=\"184.9375\" y2=\"184.9375\"/><text fill=\"#000000\" font-family=\"sans-serif\" font-size=\"11\" lengthAdjust=\"spacingAndGlyphs\" textLength=\"48\" x=\"428.5\" y=\"215.9526\">x: String</text><text fill=\"#000000\" font-family=\"sans-serif\" font-size=\"11\" lengthAdjust=\"spacingAndGlyphs\" textLength=\"21\" x=\"428.5\" y=\"228.7573\">y: A</text><line style=\"stroke: #383838; stroke-width: 1.0;\" x1=\"423.5\" x2=\"442.5\" y1=\"199.3398\" y2=\"199.3398\"/><text fill=\"#000000\" font-family=\"sans-serif\" font-size=\"11\" lengthAdjust=\"spacingAndGlyphs\" textLength=\"55\" x=\"442.5\" y=\"202.6479\">attributes</text><line style=\"stroke: #383838; stroke-width: 1.0;\" x1=\"497.5\" x2=\"516.5\" y1=\"199.3398\" y2=\"199.3398\"/></a><!--MD5=[09b614a08d8cba4a07c9adeb5e0fee81]\n",
       "class E3--><a href=\"psysml:665f7084-89dd-4cc9-a479-f70e09a77220\" target=\"_top\" title=\"psysml:665f7084-89dd-4cc9-a479-f70e09a77220\" xlink:actuate=\"onRequest\" xlink:href=\"psysml:665f7084-89dd-4cc9-a479-f70e09a77220\" xlink:show=\"new\" xlink:title=\"psysml:665f7084-89dd-4cc9-a479-f70e09a77220\" xlink:type=\"simple\"><rect fill=\"#FFFFFF\" height=\"45.9375\" id=\"E3\" rx=\"10\" ry=\"10\" style=\"stroke: #383838; stroke-width: 1.5;\" width=\"71\" x=\"456.5\" y=\"41\"/><text fill=\"#000000\" font-family=\"sans-serif\" font-size=\"12\" font-style=\"italic\" lengthAdjust=\"spacingAndGlyphs\" textLength=\"69\" x=\"457.5\" y=\"57.1387\">«attribute»</text><text fill=\"#000000\" font-family=\"sans-serif\" font-size=\"12\" lengthAdjust=\"spacingAndGlyphs\" textLength=\"24\" x=\"480\" y=\"71.1074\">a: A</text><line style=\"stroke: #383838; stroke-width: 1.5;\" x1=\"457.5\" x2=\"526.5\" y1=\"78.9375\" y2=\"78.9375\"/></a><!--MD5=[b9389687b975829384b498ac4b7476b2]\n",
       "class E8--><a href=\"psysml:1ebb82ef-cdf5-4836-9887-d34bbc134ce1\" target=\"_top\" title=\"psysml:1ebb82ef-cdf5-4836-9887-d34bbc134ce1\" xlink:actuate=\"onRequest\" xlink:href=\"psysml:1ebb82ef-cdf5-4836-9887-d34bbc134ce1\" xlink:show=\"new\" xlink:title=\"psysml:1ebb82ef-cdf5-4836-9887-d34bbc134ce1\" xlink:type=\"simple\"><rect fill=\"#FFFFFF\" height=\"45.9375\" id=\"E8\" rx=\"10\" ry=\"10\" style=\"stroke: #383838; stroke-width: 1.5;\" width=\"71\" x=\"350.5\" y=\"41\"/><text fill=\"#000000\" font-family=\"sans-serif\" font-size=\"12\" font-style=\"italic\" lengthAdjust=\"spacingAndGlyphs\" textLength=\"69\" x=\"351.5\" y=\"57.1387\">«attribute»</text><text fill=\"#000000\" font-family=\"sans-serif\" font-size=\"12\" lengthAdjust=\"spacingAndGlyphs\" textLength=\"4\" x=\"384\" y=\"71.1074\">f</text><line style=\"stroke: #383838; stroke-width: 1.5;\" x1=\"351.5\" x2=\"420.5\" y1=\"78.9375\" y2=\"78.9375\"/></a><!--MD5=[fd4143e9d270a159db93a4ea2a975926]\n",
       "class E9--><a href=\"psysml:22e07e99-e7e6-486c-b8ca-f79edb8ad4e8\" target=\"_top\" title=\"psysml:22e07e99-e7e6-486c-b8ca-f79edb8ad4e8\" xlink:actuate=\"onRequest\" xlink:href=\"psysml:22e07e99-e7e6-486c-b8ca-f79edb8ad4e8\" xlink:show=\"new\" xlink:title=\"psysml:22e07e99-e7e6-486c-b8ca-f79edb8ad4e8\" xlink:type=\"simple\"><rect fill=\"#FFFFFF\" height=\"45.9375\" id=\"E9\" rx=\"10\" ry=\"10\" style=\"stroke: #383838; stroke-width: 1.5;\" width=\"71\" x=\"244.5\" y=\"41\"/><text fill=\"#000000\" font-family=\"sans-serif\" font-size=\"12\" font-style=\"italic\" lengthAdjust=\"spacingAndGlyphs\" textLength=\"69\" x=\"245.5\" y=\"57.1387\">«attribute»</text><text fill=\"#000000\" font-family=\"sans-serif\" font-size=\"12\" lengthAdjust=\"spacingAndGlyphs\" textLength=\"8\" x=\"276\" y=\"71.1074\">g</text><line style=\"stroke: #383838; stroke-width: 1.5;\" x1=\"245.5\" x2=\"314.5\" y1=\"78.9375\" y2=\"78.9375\"/></a><!--MD5=[96f4274e9e20536e775497830990834d]\n",
       "class E10--><a href=\"psysml:a8be3d15-ac76-451a-a4cf-87ef8e02e637\" target=\"_top\" title=\"psysml:a8be3d15-ac76-451a-a4cf-87ef8e02e637\" xlink:actuate=\"onRequest\" xlink:href=\"psysml:a8be3d15-ac76-451a-a4cf-87ef8e02e637\" xlink:show=\"new\" xlink:title=\"psysml:a8be3d15-ac76-451a-a4cf-87ef8e02e637\" xlink:type=\"simple\"><rect fill=\"#FFFFFF\" height=\"45.9375\" id=\"E10\" rx=\"10\" ry=\"10\" style=\"stroke: #383838; stroke-width: 1.5;\" width=\"71\" x=\"138.5\" y=\"41\"/><text fill=\"#000000\" font-family=\"sans-serif\" font-size=\"12\" font-style=\"italic\" lengthAdjust=\"spacingAndGlyphs\" textLength=\"69\" x=\"139.5\" y=\"57.1387\">«attribute»</text><text fill=\"#000000\" font-family=\"sans-serif\" font-size=\"12\" lengthAdjust=\"spacingAndGlyphs\" textLength=\"8\" x=\"170\" y=\"71.1074\">b</text><line style=\"stroke: #383838; stroke-width: 1.5;\" x1=\"139.5\" x2=\"208.5\" y1=\"78.9375\" y2=\"78.9375\"/></a><!--MD5=[1dd1bfd58a279cf63c5f349dbc8fc6a1]\n",
       "class E11--><a href=\"psysml:88e99412-8df3-4a94-a568-1984bea0c190\" target=\"_top\" title=\"psysml:88e99412-8df3-4a94-a568-1984bea0c190\" xlink:actuate=\"onRequest\" xlink:href=\"psysml:88e99412-8df3-4a94-a568-1984bea0c190\" xlink:show=\"new\" xlink:title=\"psysml:88e99412-8df3-4a94-a568-1984bea0c190\" xlink:type=\"simple\"><rect fill=\"#FFFFFF\" height=\"45.9375\" id=\"E11\" rx=\"10\" ry=\"10\" style=\"stroke: #383838; stroke-width: 1.5;\" width=\"71\" x=\"32.5\" y=\"41\"/><text fill=\"#000000\" font-family=\"sans-serif\" font-size=\"12\" font-style=\"italic\" lengthAdjust=\"spacingAndGlyphs\" textLength=\"69\" x=\"33.5\" y=\"57.1387\">«attribute»</text><text fill=\"#000000\" font-family=\"sans-serif\" font-size=\"12\" lengthAdjust=\"spacingAndGlyphs\" textLength=\"7\" x=\"64.5\" y=\"71.1074\">c</text><line style=\"stroke: #383838; stroke-width: 1.5;\" x1=\"33.5\" x2=\"102.5\" y1=\"78.9375\" y2=\"78.9375\"/></a><text fill=\"#000000\" font-family=\"sans-serif\" font-size=\"14\" lengthAdjust=\"spacingAndGlyphs\" textLength=\"9\" x=\"567.5\" y=\"42.6982\">p</text><rect fill=\"#383838\" height=\"12\" style=\"stroke: #F8F8F8; stroke-width: 1.5;\" width=\"12\" x=\"566\" y=\"58\"/><text fill=\"#000000\" font-family=\"sans-serif\" font-size=\"14\" lengthAdjust=\"spacingAndGlyphs\" textLength=\"9\" x=\"614.5\" y=\"42.6982\">q</text><rect fill=\"#383838\" height=\"12\" style=\"stroke: #F8F8F8; stroke-width: 1.5;\" width=\"12\" x=\"613\" y=\"58\"/><text fill=\"#000000\" font-family=\"sans-serif\" font-size=\"14\" lengthAdjust=\"spacingAndGlyphs\" textLength=\"57\" x=\"590.5\" y=\"380.7151\">noname</text><rect fill=\"#383838\" height=\"12\" style=\"stroke: #F8F8F8; stroke-width: 1.5;\" width=\"12\" x=\"613\" y=\"355.72\"/><!--MD5=[05d275557350bfb9b23a4ef7222b4c39]\n",
       "link E3 to E2--><a href=\"psysml:47946f32-7338-4adb-a6af-ffcb2b2265dd\" target=\"_top\" title=\"psysml:47946f32-7338-4adb-a6af-ffcb2b2265dd\" xlink:actuate=\"onRequest\" xlink:href=\"psysml:47946f32-7338-4adb-a6af-ffcb2b2265dd\" xlink:show=\"new\" xlink:title=\"psysml:47946f32-7338-4adb-a6af-ffcb2b2265dd\" xlink:type=\"simple\"><path d=\"M488.12,87.06 C486.14,98.3 483.62,112.6 481.1,126.95 \" fill=\"none\" id=\"E3-&gt;E2\" style=\"stroke: #383838; stroke-width: 1.0;\"/><polygon fill=\"#FFFFFF\" points=\"477.58,146.93,473.9835,127.0035,487.7711,129.4331,477.58,146.93\" style=\"stroke: #383838; stroke-width: 1.0;\"/><ellipse cx=\"476.9423\" cy=\"121.7371\" fill=\"#383838\" rx=\"2\" ry=\"2\" style=\"stroke: #383838; stroke-width: 1.0;\"/><ellipse cx=\"486.7906\" cy=\"123.4725\" fill=\"#383838\" rx=\"2\" ry=\"2\" style=\"stroke: #383838; stroke-width: 1.0;\"/></a><!--MD5=[1aba7f450f52780194cd29291486ab0c]\n",
       "@startuml\r\n",
       " skinparam monochrome true\r\n",
       "skinparam classbackgroundcolor white\r\n",
       "skinparam shadowing false\r\n",
       "skinparam wrapWidth 300\r\n",
       "hide circle\r\n",
       "\r\n",
       "package \"ParameterTest\" as E1  [[psysml:adbc474a-2784-4828-be47-026fefc14932 ]]  {\r\n",
       "comp def \"A\" as E2  <<(T,blue) attribute def>> [[psysml:fa211d39-e6da-4efb-a07a-68e935dd1093 ]] {\r\n",
       "- - attributes - -\r\n",
       "x: String\r\n",
       "y: A\r\n",
       "}\r\n",
       "comp usage \"a: A\" as E3  <<(T,blue) attribute>> [[psysml:665f7084-89dd-4cc9-a479-f70e09a77220 ]] {\r\n",
       "}\r\n",
       "rec def \"F\" as E4  <<(T,blue) calculation def>> [[psysml:ea0c6e06-a87b-4616-91bc-ba79196303d0 ]] {\r\n",
       "portin \"p\" as E5  [[psysml:e1d329d3-cb1e-45c3-b1d5-2fcf771779ef ]] \r\n",
       "portin \"q\" as E6  [[psysml:b499ebef-2d53-43ba-b86a-de9084e46bb3 ]] \r\n",
       "portout \"noname\" as E7  [[psysml:2e56002b-31e4-43bf-ad2b-cc6ef1aac7ab ]] \r\n",
       "}\r\n",
       "\r\n",
       "comp usage \"f\" as E8  <<(T,blue) attribute>> [[psysml:1ebb82ef-cdf5-4836-9887-d34bbc134ce1 ]] {\r\n",
       "}\r\n",
       "comp usage \"g\" as E9  <<(T,blue) attribute>> [[psysml:22e07e99-e7e6-486c-b8ca-f79edb8ad4e8 ]] {\r\n",
       "}\r\n",
       "comp usage \"b\" as E10  <<(T,blue) attribute>> [[psysml:a8be3d15-ac76-451a-a4cf-87ef8e02e637 ]] {\r\n",
       "}\r\n",
       "comp usage \"c\" as E11  <<(T,blue) attribute>> [[psysml:88e99412-8df3-4a94-a568-1984bea0c190 ]] {\r\n",
       "}\r\n",
       "E3 - -:|> E2 [[psysml:47946f32-7338-4adb-a6af-ffcb2b2265dd ]] \r\n",
       "}\r\n",
       "@enduml\r\n",
       "\n",
       "PlantUML version 1.2020.13(Sat Jun 13 12:26:38 UTC 2020)\n",
       "(EPL source distribution)\n",
       "Java Runtime: OpenJDK Runtime Environment\n",
       "JVM: OpenJDK 64-Bit Server VM\n",
       "Default Encoding: UTF-8\n",
       "Language: en\n",
       "Country: null\n",
       "--></g></svg>"
      ]
     },
     "execution_count": 8,
     "metadata": {},
     "output_type": "execute_result"
    }
   ],
   "source": [
    "%viz --style=\"COMPTREE\" --view=\"MIXED\" \"ParameterTest\""
   ]
  },
  {
   "cell_type": "code",
   "execution_count": 9,
   "id": "b3a78d4e",
   "metadata": {
    "execution": {
     "iopub.execute_input": "2021-06-30T09:18:19.051188Z",
     "iopub.status.busy": "2021-06-30T09:18:19.045627Z",
     "iopub.status.idle": "2021-06-30T09:18:19.204086Z",
     "shell.execute_reply": "2021-06-30T09:18:19.202675Z"
    }
   },
   "outputs": [
    {
     "data": {
      "image/svg+xml": [
       "<?xml version=\"1.0\" encoding=\"UTF-8\" standalone=\"no\"?><svg xmlns=\"http://www.w3.org/2000/svg\" xmlns:xlink=\"http://www.w3.org/1999/xlink\" contentScriptType=\"application/ecmascript\" contentStyleType=\"text/css\" height=\"403px\" preserveAspectRatio=\"none\" style=\"width:740px;height:403px;\" version=\"1.1\" viewBox=\"0 0 740 403\" width=\"740px\" zoomAndPan=\"magnify\"><defs/><g><!--MD5=[fbc87193dbaf4d95561dea2c320d4a47]\n",
       "cluster E1--><a href=\"psysml:adbc474a-2784-4828-be47-026fefc14932\" target=\"_top\" title=\"psysml:adbc474a-2784-4828-be47-026fefc14932\" xlink:actuate=\"onRequest\" xlink:href=\"psysml:adbc474a-2784-4828-be47-026fefc14932\" xlink:show=\"new\" xlink:title=\"psysml:adbc474a-2784-4828-be47-026fefc14932\" xlink:type=\"simple\"><polygon fill=\"#FFFFFF\" points=\"16,6,139,6,146,28.2969,718,28.2969,718,391.72,16,391.72,16,6\" style=\"stroke: #000000; stroke-width: 1.5;\"/><line style=\"stroke: #000000; stroke-width: 1.5;\" x1=\"16\" x2=\"146\" y1=\"28.2969\" y2=\"28.2969\"/><text fill=\"#000000\" font-family=\"sans-serif\" font-size=\"14\" font-weight=\"bold\" lengthAdjust=\"spacingAndGlyphs\" textLength=\"117\" x=\"20\" y=\"20.9951\">ParameterTest</text></a><!--MD5=[f6df4d0ebaf0b5dfb2ced0ae5af7c670]\n",
       "cluster E4--><a href=\"psysml:ea0c6e06-a87b-4616-91bc-ba79196303d0\" target=\"_top\" title=\"psysml:ea0c6e06-a87b-4616-91bc-ba79196303d0\" xlink:actuate=\"onRequest\" xlink:href=\"psysml:ea0c6e06-a87b-4616-91bc-ba79196303d0\" xlink:show=\"new\" xlink:title=\"psysml:ea0c6e06-a87b-4616-91bc-ba79196303d0\" xlink:type=\"simple\"><rect fill=\"#FFFFFF\" height=\"297.72\" id=\"E4\" style=\"stroke: #383838; stroke-width: 1.5;\" width=\"148\" x=\"554\" y=\"64\"/><rect fill=\"#F8F8F8\" height=\"37.9375\" style=\"stroke: #383838; stroke-width: 1.5;\" width=\"148\" x=\"554\" y=\"64\"/><text fill=\"#000000\" font-family=\"sans-serif\" font-size=\"12\" font-style=\"italic\" lengthAdjust=\"spacingAndGlyphs\" textLength=\"106\" x=\"575\" y=\"80.1387\">«calculation def»</text><text fill=\"#000000\" font-family=\"sans-serif\" font-size=\"12\" lengthAdjust=\"spacingAndGlyphs\" textLength=\"7\" x=\"624.5\" y=\"94.1074\">F</text></a><!--MD5=[b4997ac47864f28c2f74865a473b2911]\n",
       "class E2--><a href=\"psysml:fa211d39-e6da-4efb-a07a-68e935dd1093\" target=\"_top\" title=\"psysml:fa211d39-e6da-4efb-a07a-68e935dd1093\" xlink:actuate=\"onRequest\" xlink:href=\"psysml:fa211d39-e6da-4efb-a07a-68e935dd1093\" xlink:show=\"new\" xlink:title=\"psysml:fa211d39-e6da-4efb-a07a-68e935dd1093\" xlink:type=\"simple\"><rect fill=\"#FFFFFF\" height=\"88.3516\" id=\"E2\" style=\"stroke: #383838; stroke-width: 1.5;\" width=\"95\" x=\"422.5\" y=\"147\"/><text fill=\"#000000\" font-family=\"sans-serif\" font-size=\"12\" font-style=\"italic\" lengthAdjust=\"spacingAndGlyphs\" textLength=\"93\" x=\"423.5\" y=\"163.1387\">«attribute def»</text><text fill=\"#000000\" font-family=\"sans-serif\" font-size=\"12\" lengthAdjust=\"spacingAndGlyphs\" textLength=\"8\" x=\"466\" y=\"177.1074\">A</text><line style=\"stroke: #383838; stroke-width: 1.5;\" x1=\"423.5\" x2=\"516.5\" y1=\"184.9375\" y2=\"184.9375\"/><text fill=\"#000000\" font-family=\"sans-serif\" font-size=\"11\" lengthAdjust=\"spacingAndGlyphs\" textLength=\"48\" x=\"428.5\" y=\"215.9526\">x: String</text><text fill=\"#000000\" font-family=\"sans-serif\" font-size=\"11\" lengthAdjust=\"spacingAndGlyphs\" textLength=\"21\" x=\"428.5\" y=\"228.7573\">y: A</text><line style=\"stroke: #383838; stroke-width: 1.0;\" x1=\"423.5\" x2=\"442.5\" y1=\"199.3398\" y2=\"199.3398\"/><text fill=\"#000000\" font-family=\"sans-serif\" font-size=\"11\" lengthAdjust=\"spacingAndGlyphs\" textLength=\"55\" x=\"442.5\" y=\"202.6479\">attributes</text><line style=\"stroke: #383838; stroke-width: 1.0;\" x1=\"497.5\" x2=\"516.5\" y1=\"199.3398\" y2=\"199.3398\"/></a><!--MD5=[09b614a08d8cba4a07c9adeb5e0fee81]\n",
       "class E3--><a href=\"psysml:665f7084-89dd-4cc9-a479-f70e09a77220\" target=\"_top\" title=\"psysml:665f7084-89dd-4cc9-a479-f70e09a77220\" xlink:actuate=\"onRequest\" xlink:href=\"psysml:665f7084-89dd-4cc9-a479-f70e09a77220\" xlink:show=\"new\" xlink:title=\"psysml:665f7084-89dd-4cc9-a479-f70e09a77220\" xlink:type=\"simple\"><rect fill=\"#FFFFFF\" height=\"45.9375\" id=\"E3\" rx=\"10\" ry=\"10\" style=\"stroke: #383838; stroke-width: 1.5;\" width=\"71\" x=\"456.5\" y=\"41\"/><text fill=\"#000000\" font-family=\"sans-serif\" font-size=\"12\" font-style=\"italic\" lengthAdjust=\"spacingAndGlyphs\" textLength=\"69\" x=\"457.5\" y=\"57.1387\">«attribute»</text><text fill=\"#000000\" font-family=\"sans-serif\" font-size=\"12\" lengthAdjust=\"spacingAndGlyphs\" textLength=\"24\" x=\"480\" y=\"71.1074\">a: A</text><line style=\"stroke: #383838; stroke-width: 1.5;\" x1=\"457.5\" x2=\"526.5\" y1=\"78.9375\" y2=\"78.9375\"/></a><!--MD5=[b9389687b975829384b498ac4b7476b2]\n",
       "class E8--><a href=\"psysml:1ebb82ef-cdf5-4836-9887-d34bbc134ce1\" target=\"_top\" title=\"psysml:1ebb82ef-cdf5-4836-9887-d34bbc134ce1\" xlink:actuate=\"onRequest\" xlink:href=\"psysml:1ebb82ef-cdf5-4836-9887-d34bbc134ce1\" xlink:show=\"new\" xlink:title=\"psysml:1ebb82ef-cdf5-4836-9887-d34bbc134ce1\" xlink:type=\"simple\"><rect fill=\"#FFFFFF\" height=\"45.9375\" id=\"E8\" rx=\"10\" ry=\"10\" style=\"stroke: #383838; stroke-width: 1.5;\" width=\"71\" x=\"350.5\" y=\"41\"/><text fill=\"#000000\" font-family=\"sans-serif\" font-size=\"12\" font-style=\"italic\" lengthAdjust=\"spacingAndGlyphs\" textLength=\"69\" x=\"351.5\" y=\"57.1387\">«attribute»</text><text fill=\"#000000\" font-family=\"sans-serif\" font-size=\"12\" lengthAdjust=\"spacingAndGlyphs\" textLength=\"4\" x=\"384\" y=\"71.1074\">f</text><line style=\"stroke: #383838; stroke-width: 1.5;\" x1=\"351.5\" x2=\"420.5\" y1=\"78.9375\" y2=\"78.9375\"/></a><!--MD5=[fd4143e9d270a159db93a4ea2a975926]\n",
       "class E9--><a href=\"psysml:22e07e99-e7e6-486c-b8ca-f79edb8ad4e8\" target=\"_top\" title=\"psysml:22e07e99-e7e6-486c-b8ca-f79edb8ad4e8\" xlink:actuate=\"onRequest\" xlink:href=\"psysml:22e07e99-e7e6-486c-b8ca-f79edb8ad4e8\" xlink:show=\"new\" xlink:title=\"psysml:22e07e99-e7e6-486c-b8ca-f79edb8ad4e8\" xlink:type=\"simple\"><rect fill=\"#FFFFFF\" height=\"45.9375\" id=\"E9\" rx=\"10\" ry=\"10\" style=\"stroke: #383838; stroke-width: 1.5;\" width=\"71\" x=\"244.5\" y=\"41\"/><text fill=\"#000000\" font-family=\"sans-serif\" font-size=\"12\" font-style=\"italic\" lengthAdjust=\"spacingAndGlyphs\" textLength=\"69\" x=\"245.5\" y=\"57.1387\">«attribute»</text><text fill=\"#000000\" font-family=\"sans-serif\" font-size=\"12\" lengthAdjust=\"spacingAndGlyphs\" textLength=\"8\" x=\"276\" y=\"71.1074\">g</text><line style=\"stroke: #383838; stroke-width: 1.5;\" x1=\"245.5\" x2=\"314.5\" y1=\"78.9375\" y2=\"78.9375\"/></a><!--MD5=[96f4274e9e20536e775497830990834d]\n",
       "class E10--><a href=\"psysml:a8be3d15-ac76-451a-a4cf-87ef8e02e637\" target=\"_top\" title=\"psysml:a8be3d15-ac76-451a-a4cf-87ef8e02e637\" xlink:actuate=\"onRequest\" xlink:href=\"psysml:a8be3d15-ac76-451a-a4cf-87ef8e02e637\" xlink:show=\"new\" xlink:title=\"psysml:a8be3d15-ac76-451a-a4cf-87ef8e02e637\" xlink:type=\"simple\"><rect fill=\"#FFFFFF\" height=\"45.9375\" id=\"E10\" rx=\"10\" ry=\"10\" style=\"stroke: #383838; stroke-width: 1.5;\" width=\"71\" x=\"138.5\" y=\"41\"/><text fill=\"#000000\" font-family=\"sans-serif\" font-size=\"12\" font-style=\"italic\" lengthAdjust=\"spacingAndGlyphs\" textLength=\"69\" x=\"139.5\" y=\"57.1387\">«attribute»</text><text fill=\"#000000\" font-family=\"sans-serif\" font-size=\"12\" lengthAdjust=\"spacingAndGlyphs\" textLength=\"8\" x=\"170\" y=\"71.1074\">b</text><line style=\"stroke: #383838; stroke-width: 1.5;\" x1=\"139.5\" x2=\"208.5\" y1=\"78.9375\" y2=\"78.9375\"/></a><!--MD5=[1dd1bfd58a279cf63c5f349dbc8fc6a1]\n",
       "class E11--><a href=\"psysml:88e99412-8df3-4a94-a568-1984bea0c190\" target=\"_top\" title=\"psysml:88e99412-8df3-4a94-a568-1984bea0c190\" xlink:actuate=\"onRequest\" xlink:href=\"psysml:88e99412-8df3-4a94-a568-1984bea0c190\" xlink:show=\"new\" xlink:title=\"psysml:88e99412-8df3-4a94-a568-1984bea0c190\" xlink:type=\"simple\"><rect fill=\"#FFFFFF\" height=\"45.9375\" id=\"E11\" rx=\"10\" ry=\"10\" style=\"stroke: #383838; stroke-width: 1.5;\" width=\"71\" x=\"32.5\" y=\"41\"/><text fill=\"#000000\" font-family=\"sans-serif\" font-size=\"12\" font-style=\"italic\" lengthAdjust=\"spacingAndGlyphs\" textLength=\"69\" x=\"33.5\" y=\"57.1387\">«attribute»</text><text fill=\"#000000\" font-family=\"sans-serif\" font-size=\"12\" lengthAdjust=\"spacingAndGlyphs\" textLength=\"7\" x=\"64.5\" y=\"71.1074\">c</text><line style=\"stroke: #383838; stroke-width: 1.5;\" x1=\"33.5\" x2=\"102.5\" y1=\"78.9375\" y2=\"78.9375\"/></a><text fill=\"#000000\" font-family=\"sans-serif\" font-size=\"14\" lengthAdjust=\"spacingAndGlyphs\" textLength=\"9\" x=\"567.5\" y=\"42.6982\">p</text><rect fill=\"#383838\" height=\"12\" style=\"stroke: #F8F8F8; stroke-width: 1.5;\" width=\"12\" x=\"566\" y=\"58\"/><text fill=\"#000000\" font-family=\"sans-serif\" font-size=\"14\" lengthAdjust=\"spacingAndGlyphs\" textLength=\"9\" x=\"614.5\" y=\"42.6982\">q</text><rect fill=\"#383838\" height=\"12\" style=\"stroke: #F8F8F8; stroke-width: 1.5;\" width=\"12\" x=\"613\" y=\"58\"/><text fill=\"#000000\" font-family=\"sans-serif\" font-size=\"14\" lengthAdjust=\"spacingAndGlyphs\" textLength=\"57\" x=\"590.5\" y=\"380.7151\">noname</text><rect fill=\"#383838\" height=\"12\" style=\"stroke: #F8F8F8; stroke-width: 1.5;\" width=\"12\" x=\"613\" y=\"355.72\"/><!--MD5=[05d275557350bfb9b23a4ef7222b4c39]\n",
       "link E3 to E2--><a href=\"psysml:47946f32-7338-4adb-a6af-ffcb2b2265dd\" target=\"_top\" title=\"psysml:47946f32-7338-4adb-a6af-ffcb2b2265dd\" xlink:actuate=\"onRequest\" xlink:href=\"psysml:47946f32-7338-4adb-a6af-ffcb2b2265dd\" xlink:show=\"new\" xlink:title=\"psysml:47946f32-7338-4adb-a6af-ffcb2b2265dd\" xlink:type=\"simple\"><path d=\"M488.12,87.06 C486.14,98.3 483.62,112.6 481.1,126.95 \" fill=\"none\" id=\"E3-&gt;E2\" style=\"stroke: #383838; stroke-width: 1.0;\"/><polygon fill=\"#FFFFFF\" points=\"477.58,146.93,473.9835,127.0035,487.7711,129.4331,477.58,146.93\" style=\"stroke: #383838; stroke-width: 1.0;\"/><ellipse cx=\"476.9423\" cy=\"121.7371\" fill=\"#383838\" rx=\"2\" ry=\"2\" style=\"stroke: #383838; stroke-width: 1.0;\"/><ellipse cx=\"486.7906\" cy=\"123.4725\" fill=\"#383838\" rx=\"2\" ry=\"2\" style=\"stroke: #383838; stroke-width: 1.0;\"/></a><!--MD5=[909415752633e8d6fb6ce49760df711e]\n",
       "@startuml\r\n",
       "skinparam linetype polyline\r\n",
       "skinparam monochrome true\r\n",
       "skinparam classbackgroundcolor white\r\n",
       "skinparam shadowing false\r\n",
       "skinparam wrapWidth 300\r\n",
       "hide circle\r\n",
       "\r\n",
       "package \"ParameterTest\" as E1  [[psysml:adbc474a-2784-4828-be47-026fefc14932 ]]  {\r\n",
       "comp def \"A\" as E2  <<(T,blue) attribute def>> [[psysml:fa211d39-e6da-4efb-a07a-68e935dd1093 ]] {\r\n",
       "- - attributes - -\r\n",
       "x: String\r\n",
       "y: A\r\n",
       "}\r\n",
       "comp usage \"a: A\" as E3  <<(T,blue) attribute>> [[psysml:665f7084-89dd-4cc9-a479-f70e09a77220 ]] {\r\n",
       "}\r\n",
       "rec def \"F\" as E4  <<(T,blue) calculation def>> [[psysml:ea0c6e06-a87b-4616-91bc-ba79196303d0 ]] {\r\n",
       "portin \"p\" as E5  [[psysml:e1d329d3-cb1e-45c3-b1d5-2fcf771779ef ]] \r\n",
       "portin \"q\" as E6  [[psysml:b499ebef-2d53-43ba-b86a-de9084e46bb3 ]] \r\n",
       "portout \"noname\" as E7  [[psysml:2e56002b-31e4-43bf-ad2b-cc6ef1aac7ab ]] \r\n",
       "}\r\n",
       "\r\n",
       "comp usage \"f\" as E8  <<(T,blue) attribute>> [[psysml:1ebb82ef-cdf5-4836-9887-d34bbc134ce1 ]] {\r\n",
       "}\r\n",
       "comp usage \"g\" as E9  <<(T,blue) attribute>> [[psysml:22e07e99-e7e6-486c-b8ca-f79edb8ad4e8 ]] {\r\n",
       "}\r\n",
       "comp usage \"b\" as E10  <<(T,blue) attribute>> [[psysml:a8be3d15-ac76-451a-a4cf-87ef8e02e637 ]] {\r\n",
       "}\r\n",
       "comp usage \"c\" as E11  <<(T,blue) attribute>> [[psysml:88e99412-8df3-4a94-a568-1984bea0c190 ]] {\r\n",
       "}\r\n",
       "E3 - -:|> E2 [[psysml:47946f32-7338-4adb-a6af-ffcb2b2265dd ]] \r\n",
       "}\r\n",
       "@enduml\r\n",
       "\n",
       "PlantUML version 1.2020.13(Sat Jun 13 12:26:38 UTC 2020)\n",
       "(EPL source distribution)\n",
       "Java Runtime: OpenJDK Runtime Environment\n",
       "JVM: OpenJDK 64-Bit Server VM\n",
       "Default Encoding: UTF-8\n",
       "Language: en\n",
       "Country: null\n",
       "--></g></svg>"
      ]
     },
     "execution_count": 9,
     "metadata": {},
     "output_type": "execute_result"
    }
   ],
   "source": [
    "%viz --style=\"POLYLINE\" --view=\"Default\" \"ParameterTest\""
   ]
  },
  {
   "cell_type": "code",
   "execution_count": 10,
   "id": "578e65fe",
   "metadata": {
    "execution": {
     "iopub.execute_input": "2021-06-30T09:18:19.252812Z",
     "iopub.status.busy": "2021-06-30T09:18:19.252112Z",
     "iopub.status.idle": "2021-06-30T09:18:19.392821Z",
     "shell.execute_reply": "2021-06-30T09:18:19.392431Z"
    }
   },
   "outputs": [
    {
     "data": {
      "image/svg+xml": [
       "<?xml version=\"1.0\" encoding=\"UTF-8\" standalone=\"no\"?><svg xmlns=\"http://www.w3.org/2000/svg\" xmlns:xlink=\"http://www.w3.org/1999/xlink\" contentScriptType=\"application/ecmascript\" contentStyleType=\"text/css\" height=\"280px\" preserveAspectRatio=\"none\" style=\"width:710px;height:280px;\" version=\"1.1\" viewBox=\"0 0 710 280\" width=\"710px\" zoomAndPan=\"magnify\"><defs/><g><!--MD5=[fbc87193dbaf4d95561dea2c320d4a47]\n",
       "cluster E1--><a href=\"psysml:adbc474a-2784-4828-be47-026fefc14932\" target=\"_top\" title=\"psysml:adbc474a-2784-4828-be47-026fefc14932\" xlink:actuate=\"onRequest\" xlink:href=\"psysml:adbc474a-2784-4828-be47-026fefc14932\" xlink:show=\"new\" xlink:title=\"psysml:adbc474a-2784-4828-be47-026fefc14932\" xlink:type=\"simple\"><polygon fill=\"#FFFFFF\" points=\"16,6,139,6,146,28.2969,688,28.2969,688,268,16,268,16,6\" style=\"stroke: #000000; stroke-width: 1.5;\"/><line style=\"stroke: #000000; stroke-width: 1.5;\" x1=\"16\" x2=\"146\" y1=\"28.2969\" y2=\"28.2969\"/><text fill=\"#000000\" font-family=\"sans-serif\" font-size=\"14\" font-weight=\"bold\" lengthAdjust=\"spacingAndGlyphs\" textLength=\"117\" x=\"20\" y=\"20.9951\">ParameterTest</text></a><!--MD5=[b4997ac47864f28c2f74865a473b2911]\n",
       "class E2--><a href=\"psysml:fa211d39-e6da-4efb-a07a-68e935dd1093\" target=\"_top\" title=\"psysml:fa211d39-e6da-4efb-a07a-68e935dd1093\" xlink:actuate=\"onRequest\" xlink:href=\"psysml:fa211d39-e6da-4efb-a07a-68e935dd1093\" xlink:show=\"new\" xlink:title=\"psysml:fa211d39-e6da-4efb-a07a-68e935dd1093\" xlink:type=\"simple\"><rect fill=\"#FFFFFF\" height=\"88.3516\" id=\"E2\" style=\"stroke: #383838; stroke-width: 1.5;\" width=\"95\" x=\"498.5\" y=\"164\"/><text fill=\"#000000\" font-family=\"sans-serif\" font-size=\"12\" font-style=\"italic\" lengthAdjust=\"spacingAndGlyphs\" textLength=\"93\" x=\"499.5\" y=\"180.1387\">«attribute def»</text><text fill=\"#000000\" font-family=\"sans-serif\" font-size=\"12\" lengthAdjust=\"spacingAndGlyphs\" textLength=\"8\" x=\"542\" y=\"194.1074\">A</text><line style=\"stroke: #383838; stroke-width: 1.5;\" x1=\"499.5\" x2=\"592.5\" y1=\"201.9375\" y2=\"201.9375\"/><text fill=\"#000000\" font-family=\"sans-serif\" font-size=\"11\" lengthAdjust=\"spacingAndGlyphs\" textLength=\"48\" x=\"504.5\" y=\"232.9526\">x: String</text><text fill=\"#000000\" font-family=\"sans-serif\" font-size=\"11\" lengthAdjust=\"spacingAndGlyphs\" textLength=\"21\" x=\"504.5\" y=\"245.7573\">y: A</text><line style=\"stroke: #383838; stroke-width: 1.0;\" x1=\"499.5\" x2=\"518.5\" y1=\"216.3398\" y2=\"216.3398\"/><text fill=\"#000000\" font-family=\"sans-serif\" font-size=\"11\" lengthAdjust=\"spacingAndGlyphs\" textLength=\"55\" x=\"518.5\" y=\"219.6479\">attributes</text><line style=\"stroke: #383838; stroke-width: 1.0;\" x1=\"573.5\" x2=\"592.5\" y1=\"216.3398\" y2=\"216.3398\"/></a><!--MD5=[09b614a08d8cba4a07c9adeb5e0fee81]\n",
       "class E3--><a href=\"psysml:665f7084-89dd-4cc9-a479-f70e09a77220\" target=\"_top\" title=\"psysml:665f7084-89dd-4cc9-a479-f70e09a77220\" xlink:actuate=\"onRequest\" xlink:href=\"psysml:665f7084-89dd-4cc9-a479-f70e09a77220\" xlink:show=\"new\" xlink:title=\"psysml:665f7084-89dd-4cc9-a479-f70e09a77220\" xlink:type=\"simple\"><rect fill=\"#FFFFFF\" height=\"45.9375\" id=\"E3\" rx=\"10\" ry=\"10\" style=\"stroke: #383838; stroke-width: 1.5;\" width=\"71\" x=\"600.5\" y=\"41\"/><text fill=\"#000000\" font-family=\"sans-serif\" font-size=\"12\" font-style=\"italic\" lengthAdjust=\"spacingAndGlyphs\" textLength=\"69\" x=\"601.5\" y=\"57.1387\">«attribute»</text><text fill=\"#000000\" font-family=\"sans-serif\" font-size=\"12\" lengthAdjust=\"spacingAndGlyphs\" textLength=\"24\" x=\"624\" y=\"71.1074\">a: A</text><line style=\"stroke: #383838; stroke-width: 1.5;\" x1=\"601.5\" x2=\"670.5\" y1=\"78.9375\" y2=\"78.9375\"/></a><!--MD5=[ebbe1d658d1005bcc118a6aa81145e00]\n",
       "class E4--><a href=\"psysml:ea0c6e06-a87b-4616-91bc-ba79196303d0\" target=\"_top\" title=\"psysml:ea0c6e06-a87b-4616-91bc-ba79196303d0\" xlink:actuate=\"onRequest\" xlink:href=\"psysml:ea0c6e06-a87b-4616-91bc-ba79196303d0\" xlink:show=\"new\" xlink:title=\"psysml:ea0c6e06-a87b-4616-91bc-ba79196303d0\" xlink:type=\"simple\"><rect fill=\"#FFFFFF\" height=\"45.9375\" id=\"E4\" style=\"stroke: #383838; stroke-width: 1.5;\" width=\"108\" x=\"457\" y=\"41\"/><text fill=\"#000000\" font-family=\"sans-serif\" font-size=\"12\" font-style=\"italic\" lengthAdjust=\"spacingAndGlyphs\" textLength=\"106\" x=\"458\" y=\"57.1387\">«calculation def»</text><text fill=\"#000000\" font-family=\"sans-serif\" font-size=\"12\" lengthAdjust=\"spacingAndGlyphs\" textLength=\"7\" x=\"507.5\" y=\"71.1074\">F</text><line style=\"stroke: #383838; stroke-width: 1.5;\" x1=\"458\" x2=\"564\" y1=\"78.9375\" y2=\"78.9375\"/></a><!--MD5=[270fce915f116d4de14055a7c1d9a0f3]\n",
       "class E5--><a href=\"psysml:1ebb82ef-cdf5-4836-9887-d34bbc134ce1\" target=\"_top\" title=\"psysml:1ebb82ef-cdf5-4836-9887-d34bbc134ce1\" xlink:actuate=\"onRequest\" xlink:href=\"psysml:1ebb82ef-cdf5-4836-9887-d34bbc134ce1\" xlink:show=\"new\" xlink:title=\"psysml:1ebb82ef-cdf5-4836-9887-d34bbc134ce1\" xlink:type=\"simple\"><rect fill=\"#FFFFFF\" height=\"45.9375\" id=\"E5\" rx=\"10\" ry=\"10\" style=\"stroke: #383838; stroke-width: 1.5;\" width=\"71\" x=\"350.5\" y=\"41\"/><text fill=\"#000000\" font-family=\"sans-serif\" font-size=\"12\" font-style=\"italic\" lengthAdjust=\"spacingAndGlyphs\" textLength=\"69\" x=\"351.5\" y=\"57.1387\">«attribute»</text><text fill=\"#000000\" font-family=\"sans-serif\" font-size=\"12\" lengthAdjust=\"spacingAndGlyphs\" textLength=\"4\" x=\"384\" y=\"71.1074\">f</text><line style=\"stroke: #383838; stroke-width: 1.5;\" x1=\"351.5\" x2=\"420.5\" y1=\"78.9375\" y2=\"78.9375\"/></a><!--MD5=[60a26617385b1d2d0262a64233df1f8d]\n",
       "class E6--><a href=\"psysml:22e07e99-e7e6-486c-b8ca-f79edb8ad4e8\" target=\"_top\" title=\"psysml:22e07e99-e7e6-486c-b8ca-f79edb8ad4e8\" xlink:actuate=\"onRequest\" xlink:href=\"psysml:22e07e99-e7e6-486c-b8ca-f79edb8ad4e8\" xlink:show=\"new\" xlink:title=\"psysml:22e07e99-e7e6-486c-b8ca-f79edb8ad4e8\" xlink:type=\"simple\"><rect fill=\"#FFFFFF\" height=\"45.9375\" id=\"E6\" rx=\"10\" ry=\"10\" style=\"stroke: #383838; stroke-width: 1.5;\" width=\"71\" x=\"244.5\" y=\"41\"/><text fill=\"#000000\" font-family=\"sans-serif\" font-size=\"12\" font-style=\"italic\" lengthAdjust=\"spacingAndGlyphs\" textLength=\"69\" x=\"245.5\" y=\"57.1387\">«attribute»</text><text fill=\"#000000\" font-family=\"sans-serif\" font-size=\"12\" lengthAdjust=\"spacingAndGlyphs\" textLength=\"8\" x=\"276\" y=\"71.1074\">g</text><line style=\"stroke: #383838; stroke-width: 1.5;\" x1=\"245.5\" x2=\"314.5\" y1=\"78.9375\" y2=\"78.9375\"/></a><!--MD5=[2156ba9850f5573cc1fc38a6a4b2f02b]\n",
       "class E7--><a href=\"psysml:a8be3d15-ac76-451a-a4cf-87ef8e02e637\" target=\"_top\" title=\"psysml:a8be3d15-ac76-451a-a4cf-87ef8e02e637\" xlink:actuate=\"onRequest\" xlink:href=\"psysml:a8be3d15-ac76-451a-a4cf-87ef8e02e637\" xlink:show=\"new\" xlink:title=\"psysml:a8be3d15-ac76-451a-a4cf-87ef8e02e637\" xlink:type=\"simple\"><rect fill=\"#FFFFFF\" height=\"45.9375\" id=\"E7\" rx=\"10\" ry=\"10\" style=\"stroke: #383838; stroke-width: 1.5;\" width=\"71\" x=\"138.5\" y=\"41\"/><text fill=\"#000000\" font-family=\"sans-serif\" font-size=\"12\" font-style=\"italic\" lengthAdjust=\"spacingAndGlyphs\" textLength=\"69\" x=\"139.5\" y=\"57.1387\">«attribute»</text><text fill=\"#000000\" font-family=\"sans-serif\" font-size=\"12\" lengthAdjust=\"spacingAndGlyphs\" textLength=\"8\" x=\"170\" y=\"71.1074\">b</text><line style=\"stroke: #383838; stroke-width: 1.5;\" x1=\"139.5\" x2=\"208.5\" y1=\"78.9375\" y2=\"78.9375\"/></a><!--MD5=[b9389687b975829384b498ac4b7476b2]\n",
       "class E8--><a href=\"psysml:88e99412-8df3-4a94-a568-1984bea0c190\" target=\"_top\" title=\"psysml:88e99412-8df3-4a94-a568-1984bea0c190\" xlink:actuate=\"onRequest\" xlink:href=\"psysml:88e99412-8df3-4a94-a568-1984bea0c190\" xlink:show=\"new\" xlink:title=\"psysml:88e99412-8df3-4a94-a568-1984bea0c190\" xlink:type=\"simple\"><rect fill=\"#FFFFFF\" height=\"45.9375\" id=\"E8\" rx=\"10\" ry=\"10\" style=\"stroke: #383838; stroke-width: 1.5;\" width=\"71\" x=\"32.5\" y=\"41\"/><text fill=\"#000000\" font-family=\"sans-serif\" font-size=\"12\" font-style=\"italic\" lengthAdjust=\"spacingAndGlyphs\" textLength=\"69\" x=\"33.5\" y=\"57.1387\">«attribute»</text><text fill=\"#000000\" font-family=\"sans-serif\" font-size=\"12\" lengthAdjust=\"spacingAndGlyphs\" textLength=\"7\" x=\"64.5\" y=\"71.1074\">c</text><line style=\"stroke: #383838; stroke-width: 1.5;\" x1=\"33.5\" x2=\"102.5\" y1=\"78.9375\" y2=\"78.9375\"/></a><!--MD5=[05d275557350bfb9b23a4ef7222b4c39]\n",
       "link E3 to E2--><a href=\"psysml:47946f32-7338-4adb-a6af-ffcb2b2265dd\" target=\"_top\" title=\"psysml:47946f32-7338-4adb-a6af-ffcb2b2265dd\" xlink:actuate=\"onRequest\" xlink:href=\"psysml:47946f32-7338-4adb-a6af-ffcb2b2265dd\" xlink:show=\"new\" xlink:title=\"psysml:47946f32-7338-4adb-a6af-ffcb2b2265dd\" xlink:type=\"simple\"><path d=\"M621.94,87.19 C611.77,103.23 597.51,125.73 584.09,146.9 \" fill=\"none\" id=\"E3-&gt;E2\" style=\"stroke: #383838; stroke-width: 1.0;\"/><polygon fill=\"#FFFFFF\" points=\"573.37,163.82,577.6195,144.0225,589.448,151.5115,573.37,163.82\" style=\"stroke: #383838; stroke-width: 1.0;\"/><ellipse cx=\"582.3584\" cy=\"140.2764\" fill=\"#383838\" rx=\"2\" ry=\"2\" style=\"stroke: #383838; stroke-width: 1.0;\"/><ellipse cx=\"590.8073\" cy=\"145.6258\" fill=\"#383838\" rx=\"2\" ry=\"2\" style=\"stroke: #383838; stroke-width: 1.0;\"/></a><!--MD5=[ddeed8deb2209213b62e6cfabaa108b2]\n",
       "reverse link E4 to E2--><a href=\"psysml:e1d329d3-cb1e-45c3-b1d5-2fcf771779ef\" target=\"_top\" title=\"psysml:e1d329d3-cb1e-45c3-b1d5-2fcf771779ef\" xlink:actuate=\"onRequest\" xlink:href=\"psysml:e1d329d3-cb1e-45c3-b1d5-2fcf771779ef\" xlink:show=\"new\" xlink:title=\"psysml:e1d329d3-cb1e-45c3-b1d5-2fcf771779ef\" xlink:type=\"simple\"><path d=\"M519.62,99.96 C524.37,119.25 530.31,143.36 535.36,163.82 \" fill=\"none\" id=\"E4&lt;-E2\" style=\"stroke: #383838; stroke-width: 1.0;\"/><polygon fill=\"#FFFFFF\" points=\"516.47,87.19,514.0229,93.9732,519.3432,98.841,521.7903,92.0577,516.47,87.19\" style=\"stroke: #383838; stroke-width: 1.0;\"/><text fill=\"#000000\" font-family=\"sans-serif\" font-size=\"13\" lengthAdjust=\"spacingAndGlyphs\" textLength=\"8\" x=\"528\" y=\"130.0669\">p</text></a><!--MD5=[9002ad529893b07ca91730429c15e0b6]\n",
       "@startuml\r\n",
       "skinparam linetype polyline\r\n",
       "skinparam monochrome true\r\n",
       "skinparam classbackgroundcolor white\r\n",
       "skinparam shadowing false\r\n",
       "skinparam wrapWidth 300\r\n",
       "hide circle\r\n",
       "\r\n",
       "package \"ParameterTest\" as E1  [[psysml:adbc474a-2784-4828-be47-026fefc14932 ]]  {\r\n",
       "comp def \"A\" as E2  <<(T,blue) attribute def>> [[psysml:fa211d39-e6da-4efb-a07a-68e935dd1093 ]] {\r\n",
       "- - attributes - -\r\n",
       "x: String\r\n",
       "y: A\r\n",
       "}\r\n",
       "comp usage \"a: A\" as E3  <<(T,blue) attribute>> [[psysml:665f7084-89dd-4cc9-a479-f70e09a77220 ]] {\r\n",
       "}\r\n",
       "comp def \"F\" as E4  <<(T,blue) calculation def>> [[psysml:ea0c6e06-a87b-4616-91bc-ba79196303d0 ]] {\r\n",
       "}\r\n",
       "comp usage \"f\" as E5  <<(T,blue) attribute>> [[psysml:1ebb82ef-cdf5-4836-9887-d34bbc134ce1 ]] {\r\n",
       "}\r\n",
       "comp usage \"g\" as E6  <<(T,blue) attribute>> [[psysml:22e07e99-e7e6-486c-b8ca-f79edb8ad4e8 ]] {\r\n",
       "}\r\n",
       "comp usage \"b\" as E7  <<(T,blue) attribute>> [[psysml:a8be3d15-ac76-451a-a4cf-87ef8e02e637 ]] {\r\n",
       "}\r\n",
       "comp usage \"c\" as E8  <<(T,blue) attribute>> [[psysml:88e99412-8df3-4a94-a568-1984bea0c190 ]] {\r\n",
       "}\r\n",
       "E3 - -:|> E2 [[psysml:47946f32-7338-4adb-a6af-ffcb2b2265dd ]] \r\n",
       "E4 o- - E2 [[psysml:e1d329d3-cb1e-45c3-b1d5-2fcf771779ef ]] : p\r\n",
       "}\r\n",
       "@enduml\r\n",
       "\n",
       "PlantUML version 1.2020.13(Sat Jun 13 12:26:38 UTC 2020)\n",
       "(EPL source distribution)\n",
       "Java Runtime: OpenJDK Runtime Environment\n",
       "JVM: OpenJDK 64-Bit Server VM\n",
       "Default Encoding: UTF-8\n",
       "Language: en\n",
       "Country: null\n",
       "--></g></svg>"
      ]
     },
     "execution_count": 10,
     "metadata": {},
     "output_type": "execute_result"
    }
   ],
   "source": [
    "%viz --style=\"POLYLINE\" --view=\"Tree\" \"ParameterTest\""
   ]
  },
  {
   "cell_type": "code",
   "execution_count": 11,
   "id": "294d763c",
   "metadata": {
    "execution": {
     "iopub.execute_input": "2021-06-30T09:18:19.442572Z",
     "iopub.status.busy": "2021-06-30T09:18:19.442030Z",
     "iopub.status.idle": "2021-06-30T09:18:19.458533Z",
     "shell.execute_reply": "2021-06-30T09:18:19.457466Z"
    }
   },
   "outputs": [
    {
     "data": {
      "image/svg+xml": [
       "<?xml version=\"1.0\" encoding=\"UTF-8\" standalone=\"no\"?><svg xmlns=\"http://www.w3.org/2000/svg\" xmlns:xlink=\"http://www.w3.org/1999/xlink\" contentScriptType=\"application/ecmascript\" contentStyleType=\"text/css\" height=\"12px\" preserveAspectRatio=\"none\" style=\"width:12px;height:12px;\" version=\"1.1\" viewBox=\"0 0 12 12\" width=\"12px\" zoomAndPan=\"magnify\"><defs/><g><!--MD5=[896ac0e7a515d8dd7765a661cb4ee08b]\n",
       "@startuml\r\n",
       "skinparam linetype polyline\r\n",
       "skinparam monochrome true\r\n",
       "skinparam classbackgroundcolor white\r\n",
       "skinparam shadowing false\r\n",
       "skinparam wrapWidth 300\r\n",
       "hide circle\r\n",
       "\r\n",
       "@enduml\r\n",
       "\n",
       "PlantUML version 1.2020.13(Sat Jun 13 12:26:38 UTC 2020)\n",
       "(EPL source distribution)\n",
       "Java Runtime: OpenJDK Runtime Environment\n",
       "JVM: OpenJDK 64-Bit Server VM\n",
       "Default Encoding: UTF-8\n",
       "Language: en\n",
       "Country: null\n",
       "--></g></svg>"
      ]
     },
     "execution_count": 11,
     "metadata": {},
     "output_type": "execute_result"
    }
   ],
   "source": [
    "%viz --style=\"POLYLINE\" --view=\"State\" \"ParameterTest\""
   ]
  },
  {
   "cell_type": "code",
   "execution_count": 12,
   "id": "ef2705b6",
   "metadata": {
    "execution": {
     "iopub.execute_input": "2021-06-30T09:18:19.513906Z",
     "iopub.status.busy": "2021-06-30T09:18:19.511562Z",
     "iopub.status.idle": "2021-06-30T09:18:19.617348Z",
     "shell.execute_reply": "2021-06-30T09:18:19.616421Z"
    }
   },
   "outputs": [
    {
     "data": {
      "image/svg+xml": [
       "<?xml version=\"1.0\" encoding=\"UTF-8\" standalone=\"no\"?><svg xmlns=\"http://www.w3.org/2000/svg\" xmlns:xlink=\"http://www.w3.org/1999/xlink\" contentScriptType=\"application/ecmascript\" contentStyleType=\"text/css\" height=\"216px\" preserveAspectRatio=\"none\" style=\"width:740px;height:216px;\" version=\"1.1\" viewBox=\"0 0 740 216\" width=\"740px\" zoomAndPan=\"magnify\"><defs/><g><!--MD5=[fbc87193dbaf4d95561dea2c320d4a47]\n",
       "cluster E1--><a href=\"psysml:adbc474a-2784-4828-be47-026fefc14932\" target=\"_top\" title=\"psysml:adbc474a-2784-4828-be47-026fefc14932\" xlink:actuate=\"onRequest\" xlink:href=\"psysml:adbc474a-2784-4828-be47-026fefc14932\" xlink:show=\"new\" xlink:title=\"psysml:adbc474a-2784-4828-be47-026fefc14932\" xlink:type=\"simple\"><polygon fill=\"#FFFFFF\" points=\"16,6,139,6,146,28.2969,718,28.2969,718,204.72,16,204.72,16,6\" style=\"stroke: #000000; stroke-width: 1.5;\"/><line style=\"stroke: #000000; stroke-width: 1.5;\" x1=\"16\" x2=\"146\" y1=\"28.2969\" y2=\"28.2969\"/><text fill=\"#000000\" font-family=\"sans-serif\" font-size=\"14\" font-weight=\"bold\" lengthAdjust=\"spacingAndGlyphs\" textLength=\"117\" x=\"20\" y=\"20.9951\">ParameterTest</text></a><!--MD5=[f6df4d0ebaf0b5dfb2ced0ae5af7c670]\n",
       "cluster E4--><a href=\"psysml:ea0c6e06-a87b-4616-91bc-ba79196303d0\" target=\"_top\" title=\"psysml:ea0c6e06-a87b-4616-91bc-ba79196303d0\" xlink:actuate=\"onRequest\" xlink:href=\"psysml:ea0c6e06-a87b-4616-91bc-ba79196303d0\" xlink:show=\"new\" xlink:title=\"psysml:ea0c6e06-a87b-4616-91bc-ba79196303d0\" xlink:type=\"simple\"><rect fill=\"#FFFFFF\" height=\"110.72\" id=\"E4\" style=\"stroke: #383838; stroke-width: 1.5;\" width=\"148\" x=\"554\" y=\"64\"/><rect fill=\"#F8F8F8\" height=\"37.9375\" style=\"stroke: #383838; stroke-width: 1.5;\" width=\"148\" x=\"554\" y=\"64\"/><text fill=\"#000000\" font-family=\"sans-serif\" font-size=\"12\" font-style=\"italic\" lengthAdjust=\"spacingAndGlyphs\" textLength=\"106\" x=\"575\" y=\"80.1387\">«calculation def»</text><text fill=\"#000000\" font-family=\"sans-serif\" font-size=\"12\" lengthAdjust=\"spacingAndGlyphs\" textLength=\"7\" x=\"624.5\" y=\"94.1074\">F</text></a><g id=\"E1.E2\"><a href=\"psysml:fa211d39-e6da-4efb-a07a-68e935dd1093\" target=\"_top\" title=\"psysml:fa211d39-e6da-4efb-a07a-68e935dd1093\" xlink:actuate=\"onRequest\" xlink:href=\"psysml:fa211d39-e6da-4efb-a07a-68e935dd1093\" xlink:show=\"new\" xlink:title=\"psysml:fa211d39-e6da-4efb-a07a-68e935dd1093\" xlink:type=\"simple\"><rect fill=\"#FFFFFF\" height=\"42.9375\" id=\"E2\" style=\"stroke: #383838; stroke-width: 1.5;\" width=\"100\" x=\"417\" y=\"99\"/><rect fill=\"#F8F8F8\" height=\"37.9375\" style=\"stroke: #383838; stroke-width: 1.5;\" width=\"100\" x=\"417\" y=\"99\"/><text fill=\"#000000\" font-family=\"sans-serif\" font-size=\"12\" font-style=\"italic\" lengthAdjust=\"spacingAndGlyphs\" textLength=\"93\" x=\"420.5\" y=\"115.1387\">«attribute def»</text><text fill=\"#000000\" font-family=\"sans-serif\" font-size=\"12\" lengthAdjust=\"spacingAndGlyphs\" textLength=\"8\" x=\"463\" y=\"129.1074\">A</text></a></g><!--MD5=[09b614a08d8cba4a07c9adeb5e0fee81]\n",
       "class E3--><a href=\"psysml:665f7084-89dd-4cc9-a479-f70e09a77220\" target=\"_top\" title=\"psysml:665f7084-89dd-4cc9-a479-f70e09a77220\" xlink:actuate=\"onRequest\" xlink:href=\"psysml:665f7084-89dd-4cc9-a479-f70e09a77220\" xlink:show=\"new\" xlink:title=\"psysml:665f7084-89dd-4cc9-a479-f70e09a77220\" xlink:type=\"simple\"><rect fill=\"#FFFFFF\" height=\"45.9375\" id=\"E3\" rx=\"10\" ry=\"10\" style=\"stroke: #383838; stroke-width: 1.5;\" width=\"71\" x=\"456.5\" y=\"41\"/><text fill=\"#000000\" font-family=\"sans-serif\" font-size=\"12\" font-style=\"italic\" lengthAdjust=\"spacingAndGlyphs\" textLength=\"69\" x=\"457.5\" y=\"57.1387\">«attribute»</text><text fill=\"#000000\" font-family=\"sans-serif\" font-size=\"12\" lengthAdjust=\"spacingAndGlyphs\" textLength=\"24\" x=\"480\" y=\"71.1074\">a: A</text><line style=\"stroke: #383838; stroke-width: 1.5;\" x1=\"457.5\" x2=\"526.5\" y1=\"78.9375\" y2=\"78.9375\"/></a><!--MD5=[b9389687b975829384b498ac4b7476b2]\n",
       "class E8--><a href=\"psysml:1ebb82ef-cdf5-4836-9887-d34bbc134ce1\" target=\"_top\" title=\"psysml:1ebb82ef-cdf5-4836-9887-d34bbc134ce1\" xlink:actuate=\"onRequest\" xlink:href=\"psysml:1ebb82ef-cdf5-4836-9887-d34bbc134ce1\" xlink:show=\"new\" xlink:title=\"psysml:1ebb82ef-cdf5-4836-9887-d34bbc134ce1\" xlink:type=\"simple\"><rect fill=\"#FFFFFF\" height=\"45.9375\" id=\"E8\" rx=\"10\" ry=\"10\" style=\"stroke: #383838; stroke-width: 1.5;\" width=\"71\" x=\"350.5\" y=\"41\"/><text fill=\"#000000\" font-family=\"sans-serif\" font-size=\"12\" font-style=\"italic\" lengthAdjust=\"spacingAndGlyphs\" textLength=\"69\" x=\"351.5\" y=\"57.1387\">«attribute»</text><text fill=\"#000000\" font-family=\"sans-serif\" font-size=\"12\" lengthAdjust=\"spacingAndGlyphs\" textLength=\"4\" x=\"384\" y=\"71.1074\">f</text><line style=\"stroke: #383838; stroke-width: 1.5;\" x1=\"351.5\" x2=\"420.5\" y1=\"78.9375\" y2=\"78.9375\"/></a><!--MD5=[fd4143e9d270a159db93a4ea2a975926]\n",
       "class E9--><a href=\"psysml:22e07e99-e7e6-486c-b8ca-f79edb8ad4e8\" target=\"_top\" title=\"psysml:22e07e99-e7e6-486c-b8ca-f79edb8ad4e8\" xlink:actuate=\"onRequest\" xlink:href=\"psysml:22e07e99-e7e6-486c-b8ca-f79edb8ad4e8\" xlink:show=\"new\" xlink:title=\"psysml:22e07e99-e7e6-486c-b8ca-f79edb8ad4e8\" xlink:type=\"simple\"><rect fill=\"#FFFFFF\" height=\"45.9375\" id=\"E9\" rx=\"10\" ry=\"10\" style=\"stroke: #383838; stroke-width: 1.5;\" width=\"71\" x=\"244.5\" y=\"41\"/><text fill=\"#000000\" font-family=\"sans-serif\" font-size=\"12\" font-style=\"italic\" lengthAdjust=\"spacingAndGlyphs\" textLength=\"69\" x=\"245.5\" y=\"57.1387\">«attribute»</text><text fill=\"#000000\" font-family=\"sans-serif\" font-size=\"12\" lengthAdjust=\"spacingAndGlyphs\" textLength=\"8\" x=\"276\" y=\"71.1074\">g</text><line style=\"stroke: #383838; stroke-width: 1.5;\" x1=\"245.5\" x2=\"314.5\" y1=\"78.9375\" y2=\"78.9375\"/></a><!--MD5=[96f4274e9e20536e775497830990834d]\n",
       "class E10--><a href=\"psysml:a8be3d15-ac76-451a-a4cf-87ef8e02e637\" target=\"_top\" title=\"psysml:a8be3d15-ac76-451a-a4cf-87ef8e02e637\" xlink:actuate=\"onRequest\" xlink:href=\"psysml:a8be3d15-ac76-451a-a4cf-87ef8e02e637\" xlink:show=\"new\" xlink:title=\"psysml:a8be3d15-ac76-451a-a4cf-87ef8e02e637\" xlink:type=\"simple\"><rect fill=\"#FFFFFF\" height=\"45.9375\" id=\"E10\" rx=\"10\" ry=\"10\" style=\"stroke: #383838; stroke-width: 1.5;\" width=\"71\" x=\"138.5\" y=\"41\"/><text fill=\"#000000\" font-family=\"sans-serif\" font-size=\"12\" font-style=\"italic\" lengthAdjust=\"spacingAndGlyphs\" textLength=\"69\" x=\"139.5\" y=\"57.1387\">«attribute»</text><text fill=\"#000000\" font-family=\"sans-serif\" font-size=\"12\" lengthAdjust=\"spacingAndGlyphs\" textLength=\"8\" x=\"170\" y=\"71.1074\">b</text><line style=\"stroke: #383838; stroke-width: 1.5;\" x1=\"139.5\" x2=\"208.5\" y1=\"78.9375\" y2=\"78.9375\"/></a><!--MD5=[1dd1bfd58a279cf63c5f349dbc8fc6a1]\n",
       "class E11--><a href=\"psysml:88e99412-8df3-4a94-a568-1984bea0c190\" target=\"_top\" title=\"psysml:88e99412-8df3-4a94-a568-1984bea0c190\" xlink:actuate=\"onRequest\" xlink:href=\"psysml:88e99412-8df3-4a94-a568-1984bea0c190\" xlink:show=\"new\" xlink:title=\"psysml:88e99412-8df3-4a94-a568-1984bea0c190\" xlink:type=\"simple\"><rect fill=\"#FFFFFF\" height=\"45.9375\" id=\"E11\" rx=\"10\" ry=\"10\" style=\"stroke: #383838; stroke-width: 1.5;\" width=\"71\" x=\"32.5\" y=\"41\"/><text fill=\"#000000\" font-family=\"sans-serif\" font-size=\"12\" font-style=\"italic\" lengthAdjust=\"spacingAndGlyphs\" textLength=\"69\" x=\"33.5\" y=\"57.1387\">«attribute»</text><text fill=\"#000000\" font-family=\"sans-serif\" font-size=\"12\" lengthAdjust=\"spacingAndGlyphs\" textLength=\"7\" x=\"64.5\" y=\"71.1074\">c</text><line style=\"stroke: #383838; stroke-width: 1.5;\" x1=\"33.5\" x2=\"102.5\" y1=\"78.9375\" y2=\"78.9375\"/></a><text fill=\"#000000\" font-family=\"sans-serif\" font-size=\"14\" lengthAdjust=\"spacingAndGlyphs\" textLength=\"9\" x=\"567.5\" y=\"42.6982\">p</text><rect fill=\"#383838\" height=\"12\" style=\"stroke: #F8F8F8; stroke-width: 1.5;\" width=\"12\" x=\"566\" y=\"58\"/><text fill=\"#000000\" font-family=\"sans-serif\" font-size=\"14\" lengthAdjust=\"spacingAndGlyphs\" textLength=\"9\" x=\"614.5\" y=\"42.6982\">q</text><rect fill=\"#383838\" height=\"12\" style=\"stroke: #F8F8F8; stroke-width: 1.5;\" width=\"12\" x=\"613\" y=\"58\"/><text fill=\"#000000\" font-family=\"sans-serif\" font-size=\"14\" lengthAdjust=\"spacingAndGlyphs\" textLength=\"57\" x=\"590.5\" y=\"193.7151\">noname</text><rect fill=\"#383838\" height=\"12\" style=\"stroke: #F8F8F8; stroke-width: 1.5;\" width=\"12\" x=\"613\" y=\"168.72\"/><!--MD5=[05d275557350bfb9b23a4ef7222b4c39]\n",
       "link E3 to E2--><a href=\"psysml:47946f32-7338-4adb-a6af-ffcb2b2265dd\" target=\"_top\" title=\"psysml:47946f32-7338-4adb-a6af-ffcb2b2265dd\" xlink:actuate=\"onRequest\" xlink:href=\"psysml:47946f32-7338-4adb-a6af-ffcb2b2265dd\" xlink:show=\"new\" xlink:title=\"psysml:47946f32-7338-4adb-a6af-ffcb2b2265dd\" xlink:type=\"simple\"><path d=\"M481.83,87.17 C481.78,87.29 481.72,87.41 481.66,87.53 \" fill=\"none\" id=\"E3-&gt;E2\" style=\"stroke: #383838; stroke-width: 1.0;\"/><polygon fill=\"#FFFFFF\" points=\"476.43,98.93,477.977,78.7407,490.7056,84.5701,476.43,98.93\" style=\"stroke: #383838; stroke-width: 1.0;\"/><ellipse cx=\"482.1687\" cy=\"74.3911\" fill=\"#383838\" rx=\"2\" ry=\"2\" style=\"stroke: #383838; stroke-width: 1.0;\"/><ellipse cx=\"491.2606\" cy=\"78.555\" fill=\"#383838\" rx=\"2\" ry=\"2\" style=\"stroke: #383838; stroke-width: 1.0;\"/></a><!--MD5=[484b45c20c1ed8852d15fd55c807f1e8]\n",
       "@startuml\r\n",
       "skinparam ranksep 10\r\n",
       "skinparam rectangle {\r\n",
       " backgroundColor<<block>> LightGreen\r\n",
       "}\r\n",
       "skinparam linetype polyline\r\n",
       "skinparam monochrome true\r\n",
       "skinparam classbackgroundcolor white\r\n",
       "skinparam shadowing false\r\n",
       "skinparam wrapWidth 300\r\n",
       "hide circle\r\n",
       "\r\n",
       "package \"ParameterTest\" as E1  [[psysml:adbc474a-2784-4828-be47-026fefc14932 ]]  {\r\n",
       "def \"A\" as E2  <<(T,blue) attribute def>> [[psysml:fa211d39-e6da-4efb-a07a-68e935dd1093 ]] \r\n",
       "comp usage \"a: A\" as E3  <<(T,blue) attribute>> [[psysml:665f7084-89dd-4cc9-a479-f70e09a77220 ]] {\r\n",
       "}\r\n",
       "rec def \"F\" as E4  <<(T,blue) calculation def>> [[psysml:ea0c6e06-a87b-4616-91bc-ba79196303d0 ]] {\r\n",
       "portin \"p\" as E5  [[psysml:e1d329d3-cb1e-45c3-b1d5-2fcf771779ef ]] \r\n",
       "portin \"q\" as E6  [[psysml:b499ebef-2d53-43ba-b86a-de9084e46bb3 ]] \r\n",
       "portout \"noname\" as E7  [[psysml:2e56002b-31e4-43bf-ad2b-cc6ef1aac7ab ]] \r\n",
       "}\r\n",
       "\r\n",
       "comp usage \"f\" as E8  <<(T,blue) attribute>> [[psysml:1ebb82ef-cdf5-4836-9887-d34bbc134ce1 ]] {\r\n",
       "}\r\n",
       "comp usage \"g\" as E9  <<(T,blue) attribute>> [[psysml:22e07e99-e7e6-486c-b8ca-f79edb8ad4e8 ]] {\r\n",
       "}\r\n",
       "comp usage \"b\" as E10  <<(T,blue) attribute>> [[psysml:a8be3d15-ac76-451a-a4cf-87ef8e02e637 ]] {\r\n",
       "}\r\n",
       "comp usage \"c\" as E11  <<(T,blue) attribute>> [[psysml:88e99412-8df3-4a94-a568-1984bea0c190 ]] {\r\n",
       "}\r\n",
       "E3 - -:|> E2 [[psysml:47946f32-7338-4adb-a6af-ffcb2b2265dd ]] \r\n",
       "}\r\n",
       "@enduml\r\n",
       "\n",
       "PlantUML version 1.2020.13(Sat Jun 13 12:26:38 UTC 2020)\n",
       "(EPL source distribution)\n",
       "Java Runtime: OpenJDK Runtime Environment\n",
       "JVM: OpenJDK 64-Bit Server VM\n",
       "Default Encoding: UTF-8\n",
       "Language: en\n",
       "Country: null\n",
       "--></g></svg>"
      ]
     },
     "execution_count": 12,
     "metadata": {},
     "output_type": "execute_result"
    }
   ],
   "source": [
    "%viz --style=\"POLYLINE\" --view=\"Interconnection\" \"ParameterTest\""
   ]
  },
  {
   "cell_type": "code",
   "execution_count": 13,
   "id": "9ef649f9",
   "metadata": {
    "execution": {
     "iopub.execute_input": "2021-06-30T09:18:19.669308Z",
     "iopub.status.busy": "2021-06-30T09:18:19.668440Z",
     "iopub.status.idle": "2021-06-30T09:18:19.735377Z",
     "shell.execute_reply": "2021-06-30T09:18:19.734370Z"
    }
   },
   "outputs": [
    {
     "data": {
      "image/svg+xml": [
       "<?xml version=\"1.0\" encoding=\"UTF-8\" standalone=\"no\"?><svg xmlns=\"http://www.w3.org/2000/svg\" xmlns:xlink=\"http://www.w3.org/1999/xlink\" contentScriptType=\"application/ecmascript\" contentStyleType=\"text/css\" height=\"162px\" preserveAspectRatio=\"none\" style=\"width:166px;height:162px;\" version=\"1.1\" viewBox=\"0 0 166 162\" width=\"166px\" zoomAndPan=\"magnify\"><defs/><g><!--MD5=[fbc87193dbaf4d95561dea2c320d4a47]\n",
       "cluster E1--><a href=\"psysml:ea0c6e06-a87b-4616-91bc-ba79196303d0\" target=\"_top\" title=\"psysml:ea0c6e06-a87b-4616-91bc-ba79196303d0\" xlink:actuate=\"onRequest\" xlink:href=\"psysml:ea0c6e06-a87b-4616-91bc-ba79196303d0\" xlink:show=\"new\" xlink:title=\"psysml:ea0c6e06-a87b-4616-91bc-ba79196303d0\" xlink:type=\"simple\"><rect fill=\"#FFFFFF\" height=\"87.72\" id=\"E1\" style=\"stroke: #383838; stroke-width: 1.5;\" width=\"148\" x=\"7\" y=\"42.0986\"/><rect fill=\"#F8F8F8\" height=\"37.9375\" style=\"stroke: #383838; stroke-width: 1.5;\" width=\"148\" x=\"7\" y=\"42.0986\"/><text fill=\"#000000\" font-family=\"sans-serif\" font-size=\"12\" font-style=\"italic\" lengthAdjust=\"spacingAndGlyphs\" textLength=\"106\" x=\"28\" y=\"58.2373\">«calculation def»</text><text fill=\"#000000\" font-family=\"sans-serif\" font-size=\"12\" lengthAdjust=\"spacingAndGlyphs\" textLength=\"7\" x=\"77.5\" y=\"72.2061\">F</text></a><text fill=\"#000000\" font-family=\"sans-serif\" font-size=\"14\" lengthAdjust=\"spacingAndGlyphs\" textLength=\"9\" x=\"20.5\" y=\"20.7969\">p</text><rect fill=\"#383838\" height=\"12\" style=\"stroke: #F8F8F8; stroke-width: 1.5;\" width=\"12\" x=\"19\" y=\"36.0986\"/><text fill=\"#000000\" font-family=\"sans-serif\" font-size=\"14\" lengthAdjust=\"spacingAndGlyphs\" textLength=\"9\" x=\"67.5\" y=\"20.7969\">q</text><rect fill=\"#383838\" height=\"12\" style=\"stroke: #F8F8F8; stroke-width: 1.5;\" width=\"12\" x=\"66\" y=\"36.0986\"/><text fill=\"#000000\" font-family=\"sans-serif\" font-size=\"14\" lengthAdjust=\"spacingAndGlyphs\" textLength=\"57\" x=\"43.5\" y=\"148.8138\">noname</text><rect fill=\"#383838\" height=\"12\" style=\"stroke: #F8F8F8; stroke-width: 1.5;\" width=\"12\" x=\"66\" y=\"123.8186\"/><!--MD5=[2142f70483517f0610ec41c47952a017]\n",
       "@startuml\r\n",
       "skinparam ranksep 8\r\n",
       "skinparam linetype polyline\r\n",
       "skinparam monochrome true\r\n",
       "skinparam classbackgroundcolor white\r\n",
       "skinparam shadowing false\r\n",
       "skinparam wrapWidth 300\r\n",
       "hide circle\r\n",
       "\r\n",
       "rec def \"F\" as E1  <<(T,blue) calculation def>> [[psysml:ea0c6e06-a87b-4616-91bc-ba79196303d0 ]] {\r\n",
       "portin \"p\" as E2  [[psysml:e1d329d3-cb1e-45c3-b1d5-2fcf771779ef ]] \r\n",
       "portin \"q\" as E3  [[psysml:b499ebef-2d53-43ba-b86a-de9084e46bb3 ]] \r\n",
       "portout \"noname\" as E4  [[psysml:2e56002b-31e4-43bf-ad2b-cc6ef1aac7ab ]] \r\n",
       "}\r\n",
       "\r\n",
       "@enduml\r\n",
       "\n",
       "PlantUML version 1.2020.13(Sat Jun 13 12:26:38 UTC 2020)\n",
       "(EPL source distribution)\n",
       "Java Runtime: OpenJDK Runtime Environment\n",
       "JVM: OpenJDK 64-Bit Server VM\n",
       "Default Encoding: UTF-8\n",
       "Language: en\n",
       "Country: null\n",
       "--></g></svg>"
      ]
     },
     "execution_count": 13,
     "metadata": {},
     "output_type": "execute_result"
    }
   ],
   "source": [
    "%viz --style=\"POLYLINE\" --view=\"Action\" \"ParameterTest\""
   ]
  },
  {
   "cell_type": "code",
   "execution_count": 14,
   "id": "4436994e",
   "metadata": {
    "execution": {
     "iopub.execute_input": "2021-06-30T09:18:19.787140Z",
     "iopub.status.busy": "2021-06-30T09:18:19.785768Z",
     "iopub.status.idle": "2021-06-30T09:18:19.937120Z",
     "shell.execute_reply": "2021-06-30T09:18:19.938482Z"
    }
   },
   "outputs": [
    {
     "data": {
      "image/svg+xml": [
       "<?xml version=\"1.0\" encoding=\"UTF-8\" standalone=\"no\"?><svg xmlns=\"http://www.w3.org/2000/svg\" xmlns:xlink=\"http://www.w3.org/1999/xlink\" contentScriptType=\"application/ecmascript\" contentStyleType=\"text/css\" height=\"280px\" preserveAspectRatio=\"none\" style=\"width:710px;height:280px;\" version=\"1.1\" viewBox=\"0 0 710 280\" width=\"710px\" zoomAndPan=\"magnify\"><defs/><g><!--MD5=[fbc87193dbaf4d95561dea2c320d4a47]\n",
       "cluster E1--><a href=\"psysml:adbc474a-2784-4828-be47-026fefc14932\" target=\"_top\" title=\"psysml:adbc474a-2784-4828-be47-026fefc14932\" xlink:actuate=\"onRequest\" xlink:href=\"psysml:adbc474a-2784-4828-be47-026fefc14932\" xlink:show=\"new\" xlink:title=\"psysml:adbc474a-2784-4828-be47-026fefc14932\" xlink:type=\"simple\"><polygon fill=\"#FFFFFF\" points=\"16,6,139,6,146,28.2969,688,28.2969,688,268,16,268,16,6\" style=\"stroke: #000000; stroke-width: 1.5;\"/><line style=\"stroke: #000000; stroke-width: 1.5;\" x1=\"16\" x2=\"146\" y1=\"28.2969\" y2=\"28.2969\"/><text fill=\"#000000\" font-family=\"sans-serif\" font-size=\"14\" font-weight=\"bold\" lengthAdjust=\"spacingAndGlyphs\" textLength=\"117\" x=\"20\" y=\"20.9951\">ParameterTest</text></a><!--MD5=[b4997ac47864f28c2f74865a473b2911]\n",
       "class E2--><a href=\"psysml:fa211d39-e6da-4efb-a07a-68e935dd1093\" target=\"_top\" title=\"psysml:fa211d39-e6da-4efb-a07a-68e935dd1093\" xlink:actuate=\"onRequest\" xlink:href=\"psysml:fa211d39-e6da-4efb-a07a-68e935dd1093\" xlink:show=\"new\" xlink:title=\"psysml:fa211d39-e6da-4efb-a07a-68e935dd1093\" xlink:type=\"simple\"><rect fill=\"#FFFFFF\" height=\"88.3516\" id=\"E2\" style=\"stroke: #383838; stroke-width: 1.5;\" width=\"95\" x=\"498.5\" y=\"164\"/><text fill=\"#000000\" font-family=\"sans-serif\" font-size=\"12\" font-style=\"italic\" lengthAdjust=\"spacingAndGlyphs\" textLength=\"93\" x=\"499.5\" y=\"180.1387\">«attribute def»</text><text fill=\"#000000\" font-family=\"sans-serif\" font-size=\"12\" lengthAdjust=\"spacingAndGlyphs\" textLength=\"8\" x=\"542\" y=\"194.1074\">A</text><line style=\"stroke: #383838; stroke-width: 1.5;\" x1=\"499.5\" x2=\"592.5\" y1=\"201.9375\" y2=\"201.9375\"/><text fill=\"#000000\" font-family=\"sans-serif\" font-size=\"11\" lengthAdjust=\"spacingAndGlyphs\" textLength=\"48\" x=\"504.5\" y=\"232.9526\">x: String</text><text fill=\"#000000\" font-family=\"sans-serif\" font-size=\"11\" lengthAdjust=\"spacingAndGlyphs\" textLength=\"21\" x=\"504.5\" y=\"245.7573\">y: A</text><line style=\"stroke: #383838; stroke-width: 1.0;\" x1=\"499.5\" x2=\"518.5\" y1=\"216.3398\" y2=\"216.3398\"/><text fill=\"#000000\" font-family=\"sans-serif\" font-size=\"11\" lengthAdjust=\"spacingAndGlyphs\" textLength=\"55\" x=\"518.5\" y=\"219.6479\">attributes</text><line style=\"stroke: #383838; stroke-width: 1.0;\" x1=\"573.5\" x2=\"592.5\" y1=\"216.3398\" y2=\"216.3398\"/></a><!--MD5=[09b614a08d8cba4a07c9adeb5e0fee81]\n",
       "class E3--><a href=\"psysml:665f7084-89dd-4cc9-a479-f70e09a77220\" target=\"_top\" title=\"psysml:665f7084-89dd-4cc9-a479-f70e09a77220\" xlink:actuate=\"onRequest\" xlink:href=\"psysml:665f7084-89dd-4cc9-a479-f70e09a77220\" xlink:show=\"new\" xlink:title=\"psysml:665f7084-89dd-4cc9-a479-f70e09a77220\" xlink:type=\"simple\"><rect fill=\"#FFFFFF\" height=\"45.9375\" id=\"E3\" rx=\"10\" ry=\"10\" style=\"stroke: #383838; stroke-width: 1.5;\" width=\"71\" x=\"600.5\" y=\"41\"/><text fill=\"#000000\" font-family=\"sans-serif\" font-size=\"12\" font-style=\"italic\" lengthAdjust=\"spacingAndGlyphs\" textLength=\"69\" x=\"601.5\" y=\"57.1387\">«attribute»</text><text fill=\"#000000\" font-family=\"sans-serif\" font-size=\"12\" lengthAdjust=\"spacingAndGlyphs\" textLength=\"24\" x=\"624\" y=\"71.1074\">a: A</text><line style=\"stroke: #383838; stroke-width: 1.5;\" x1=\"601.5\" x2=\"670.5\" y1=\"78.9375\" y2=\"78.9375\"/></a><!--MD5=[ebbe1d658d1005bcc118a6aa81145e00]\n",
       "class E4--><a href=\"psysml:ea0c6e06-a87b-4616-91bc-ba79196303d0\" target=\"_top\" title=\"psysml:ea0c6e06-a87b-4616-91bc-ba79196303d0\" xlink:actuate=\"onRequest\" xlink:href=\"psysml:ea0c6e06-a87b-4616-91bc-ba79196303d0\" xlink:show=\"new\" xlink:title=\"psysml:ea0c6e06-a87b-4616-91bc-ba79196303d0\" xlink:type=\"simple\"><rect fill=\"#FFFFFF\" height=\"45.9375\" id=\"E4\" style=\"stroke: #383838; stroke-width: 1.5;\" width=\"108\" x=\"457\" y=\"41\"/><text fill=\"#000000\" font-family=\"sans-serif\" font-size=\"12\" font-style=\"italic\" lengthAdjust=\"spacingAndGlyphs\" textLength=\"106\" x=\"458\" y=\"57.1387\">«calculation def»</text><text fill=\"#000000\" font-family=\"sans-serif\" font-size=\"12\" lengthAdjust=\"spacingAndGlyphs\" textLength=\"7\" x=\"507.5\" y=\"71.1074\">F</text><line style=\"stroke: #383838; stroke-width: 1.5;\" x1=\"458\" x2=\"564\" y1=\"78.9375\" y2=\"78.9375\"/></a><!--MD5=[270fce915f116d4de14055a7c1d9a0f3]\n",
       "class E5--><a href=\"psysml:1ebb82ef-cdf5-4836-9887-d34bbc134ce1\" target=\"_top\" title=\"psysml:1ebb82ef-cdf5-4836-9887-d34bbc134ce1\" xlink:actuate=\"onRequest\" xlink:href=\"psysml:1ebb82ef-cdf5-4836-9887-d34bbc134ce1\" xlink:show=\"new\" xlink:title=\"psysml:1ebb82ef-cdf5-4836-9887-d34bbc134ce1\" xlink:type=\"simple\"><rect fill=\"#FFFFFF\" height=\"45.9375\" id=\"E5\" rx=\"10\" ry=\"10\" style=\"stroke: #383838; stroke-width: 1.5;\" width=\"71\" x=\"350.5\" y=\"41\"/><text fill=\"#000000\" font-family=\"sans-serif\" font-size=\"12\" font-style=\"italic\" lengthAdjust=\"spacingAndGlyphs\" textLength=\"69\" x=\"351.5\" y=\"57.1387\">«attribute»</text><text fill=\"#000000\" font-family=\"sans-serif\" font-size=\"12\" lengthAdjust=\"spacingAndGlyphs\" textLength=\"4\" x=\"384\" y=\"71.1074\">f</text><line style=\"stroke: #383838; stroke-width: 1.5;\" x1=\"351.5\" x2=\"420.5\" y1=\"78.9375\" y2=\"78.9375\"/></a><!--MD5=[60a26617385b1d2d0262a64233df1f8d]\n",
       "class E6--><a href=\"psysml:22e07e99-e7e6-486c-b8ca-f79edb8ad4e8\" target=\"_top\" title=\"psysml:22e07e99-e7e6-486c-b8ca-f79edb8ad4e8\" xlink:actuate=\"onRequest\" xlink:href=\"psysml:22e07e99-e7e6-486c-b8ca-f79edb8ad4e8\" xlink:show=\"new\" xlink:title=\"psysml:22e07e99-e7e6-486c-b8ca-f79edb8ad4e8\" xlink:type=\"simple\"><rect fill=\"#FFFFFF\" height=\"45.9375\" id=\"E6\" rx=\"10\" ry=\"10\" style=\"stroke: #383838; stroke-width: 1.5;\" width=\"71\" x=\"244.5\" y=\"41\"/><text fill=\"#000000\" font-family=\"sans-serif\" font-size=\"12\" font-style=\"italic\" lengthAdjust=\"spacingAndGlyphs\" textLength=\"69\" x=\"245.5\" y=\"57.1387\">«attribute»</text><text fill=\"#000000\" font-family=\"sans-serif\" font-size=\"12\" lengthAdjust=\"spacingAndGlyphs\" textLength=\"8\" x=\"276\" y=\"71.1074\">g</text><line style=\"stroke: #383838; stroke-width: 1.5;\" x1=\"245.5\" x2=\"314.5\" y1=\"78.9375\" y2=\"78.9375\"/></a><!--MD5=[2156ba9850f5573cc1fc38a6a4b2f02b]\n",
       "class E7--><a href=\"psysml:a8be3d15-ac76-451a-a4cf-87ef8e02e637\" target=\"_top\" title=\"psysml:a8be3d15-ac76-451a-a4cf-87ef8e02e637\" xlink:actuate=\"onRequest\" xlink:href=\"psysml:a8be3d15-ac76-451a-a4cf-87ef8e02e637\" xlink:show=\"new\" xlink:title=\"psysml:a8be3d15-ac76-451a-a4cf-87ef8e02e637\" xlink:type=\"simple\"><rect fill=\"#FFFFFF\" height=\"45.9375\" id=\"E7\" rx=\"10\" ry=\"10\" style=\"stroke: #383838; stroke-width: 1.5;\" width=\"71\" x=\"138.5\" y=\"41\"/><text fill=\"#000000\" font-family=\"sans-serif\" font-size=\"12\" font-style=\"italic\" lengthAdjust=\"spacingAndGlyphs\" textLength=\"69\" x=\"139.5\" y=\"57.1387\">«attribute»</text><text fill=\"#000000\" font-family=\"sans-serif\" font-size=\"12\" lengthAdjust=\"spacingAndGlyphs\" textLength=\"8\" x=\"170\" y=\"71.1074\">b</text><line style=\"stroke: #383838; stroke-width: 1.5;\" x1=\"139.5\" x2=\"208.5\" y1=\"78.9375\" y2=\"78.9375\"/></a><!--MD5=[b9389687b975829384b498ac4b7476b2]\n",
       "class E8--><a href=\"psysml:88e99412-8df3-4a94-a568-1984bea0c190\" target=\"_top\" title=\"psysml:88e99412-8df3-4a94-a568-1984bea0c190\" xlink:actuate=\"onRequest\" xlink:href=\"psysml:88e99412-8df3-4a94-a568-1984bea0c190\" xlink:show=\"new\" xlink:title=\"psysml:88e99412-8df3-4a94-a568-1984bea0c190\" xlink:type=\"simple\"><rect fill=\"#FFFFFF\" height=\"45.9375\" id=\"E8\" rx=\"10\" ry=\"10\" style=\"stroke: #383838; stroke-width: 1.5;\" width=\"71\" x=\"32.5\" y=\"41\"/><text fill=\"#000000\" font-family=\"sans-serif\" font-size=\"12\" font-style=\"italic\" lengthAdjust=\"spacingAndGlyphs\" textLength=\"69\" x=\"33.5\" y=\"57.1387\">«attribute»</text><text fill=\"#000000\" font-family=\"sans-serif\" font-size=\"12\" lengthAdjust=\"spacingAndGlyphs\" textLength=\"7\" x=\"64.5\" y=\"71.1074\">c</text><line style=\"stroke: #383838; stroke-width: 1.5;\" x1=\"33.5\" x2=\"102.5\" y1=\"78.9375\" y2=\"78.9375\"/></a><!--MD5=[05d275557350bfb9b23a4ef7222b4c39]\n",
       "link E3 to E2--><a href=\"psysml:47946f32-7338-4adb-a6af-ffcb2b2265dd\" target=\"_top\" title=\"psysml:47946f32-7338-4adb-a6af-ffcb2b2265dd\" xlink:actuate=\"onRequest\" xlink:href=\"psysml:47946f32-7338-4adb-a6af-ffcb2b2265dd\" xlink:show=\"new\" xlink:title=\"psysml:47946f32-7338-4adb-a6af-ffcb2b2265dd\" xlink:type=\"simple\"><path d=\"M621.94,87.19 C611.77,103.23 597.51,125.73 584.09,146.9 \" fill=\"none\" id=\"E3-&gt;E2\" style=\"stroke: #383838; stroke-width: 1.0;\"/><polygon fill=\"#FFFFFF\" points=\"573.37,163.82,577.6195,144.0225,589.448,151.5115,573.37,163.82\" style=\"stroke: #383838; stroke-width: 1.0;\"/><ellipse cx=\"582.3584\" cy=\"140.2764\" fill=\"#383838\" rx=\"2\" ry=\"2\" style=\"stroke: #383838; stroke-width: 1.0;\"/><ellipse cx=\"590.8073\" cy=\"145.6258\" fill=\"#383838\" rx=\"2\" ry=\"2\" style=\"stroke: #383838; stroke-width: 1.0;\"/></a><!--MD5=[ddeed8deb2209213b62e6cfabaa108b2]\n",
       "reverse link E4 to E2--><a href=\"psysml:e1d329d3-cb1e-45c3-b1d5-2fcf771779ef\" target=\"_top\" title=\"psysml:e1d329d3-cb1e-45c3-b1d5-2fcf771779ef\" xlink:actuate=\"onRequest\" xlink:href=\"psysml:e1d329d3-cb1e-45c3-b1d5-2fcf771779ef\" xlink:show=\"new\" xlink:title=\"psysml:e1d329d3-cb1e-45c3-b1d5-2fcf771779ef\" xlink:type=\"simple\"><path d=\"M519.62,99.96 C524.37,119.25 530.31,143.36 535.36,163.82 \" fill=\"none\" id=\"E4&lt;-E2\" style=\"stroke: #383838; stroke-width: 1.0;\"/><polygon fill=\"#FFFFFF\" points=\"516.47,87.19,514.0229,93.9732,519.3432,98.841,521.7903,92.0577,516.47,87.19\" style=\"stroke: #383838; stroke-width: 1.0;\"/><text fill=\"#000000\" font-family=\"sans-serif\" font-size=\"13\" lengthAdjust=\"spacingAndGlyphs\" textLength=\"8\" x=\"528\" y=\"130.0669\">p</text></a><!--MD5=[9002ad529893b07ca91730429c15e0b6]\n",
       "@startuml\r\n",
       "skinparam linetype polyline\r\n",
       "skinparam monochrome true\r\n",
       "skinparam classbackgroundcolor white\r\n",
       "skinparam shadowing false\r\n",
       "skinparam wrapWidth 300\r\n",
       "hide circle\r\n",
       "\r\n",
       "package \"ParameterTest\" as E1  [[psysml:adbc474a-2784-4828-be47-026fefc14932 ]]  {\r\n",
       "comp def \"A\" as E2  <<(T,blue) attribute def>> [[psysml:fa211d39-e6da-4efb-a07a-68e935dd1093 ]] {\r\n",
       "- - attributes - -\r\n",
       "x: String\r\n",
       "y: A\r\n",
       "}\r\n",
       "comp usage \"a: A\" as E3  <<(T,blue) attribute>> [[psysml:665f7084-89dd-4cc9-a479-f70e09a77220 ]] {\r\n",
       "}\r\n",
       "comp def \"F\" as E4  <<(T,blue) calculation def>> [[psysml:ea0c6e06-a87b-4616-91bc-ba79196303d0 ]] {\r\n",
       "}\r\n",
       "comp usage \"f\" as E5  <<(T,blue) attribute>> [[psysml:1ebb82ef-cdf5-4836-9887-d34bbc134ce1 ]] {\r\n",
       "}\r\n",
       "comp usage \"g\" as E6  <<(T,blue) attribute>> [[psysml:22e07e99-e7e6-486c-b8ca-f79edb8ad4e8 ]] {\r\n",
       "}\r\n",
       "comp usage \"b\" as E7  <<(T,blue) attribute>> [[psysml:a8be3d15-ac76-451a-a4cf-87ef8e02e637 ]] {\r\n",
       "}\r\n",
       "comp usage \"c\" as E8  <<(T,blue) attribute>> [[psysml:88e99412-8df3-4a94-a568-1984bea0c190 ]] {\r\n",
       "}\r\n",
       "E3 - -:|> E2 [[psysml:47946f32-7338-4adb-a6af-ffcb2b2265dd ]] \r\n",
       "E4 o- - E2 [[psysml:e1d329d3-cb1e-45c3-b1d5-2fcf771779ef ]] : p\r\n",
       "}\r\n",
       "@enduml\r\n",
       "\n",
       "PlantUML version 1.2020.13(Sat Jun 13 12:26:38 UTC 2020)\n",
       "(EPL source distribution)\n",
       "Java Runtime: OpenJDK Runtime Environment\n",
       "JVM: OpenJDK 64-Bit Server VM\n",
       "Default Encoding: UTF-8\n",
       "Language: en\n",
       "Country: null\n",
       "--></g></svg>"
      ]
     },
     "execution_count": 14,
     "metadata": {},
     "output_type": "execute_result"
    }
   ],
   "source": [
    "%viz --style=\"POLYLINE\" --view=\"Sequence\" \"ParameterTest\""
   ]
  },
  {
   "cell_type": "code",
   "execution_count": 15,
   "id": "a7cd2535",
   "metadata": {
    "execution": {
     "iopub.execute_input": "2021-06-30T09:18:19.988386Z",
     "iopub.status.busy": "2021-06-30T09:18:19.986757Z",
     "iopub.status.idle": "2021-06-30T09:18:20.075251Z",
     "shell.execute_reply": "2021-06-30T09:18:20.075681Z"
    }
   },
   "outputs": [
    {
     "data": {
      "image/svg+xml": [
       "<?xml version=\"1.0\" encoding=\"UTF-8\" standalone=\"no\"?><svg xmlns=\"http://www.w3.org/2000/svg\" xmlns:xlink=\"http://www.w3.org/1999/xlink\" contentScriptType=\"application/ecmascript\" contentStyleType=\"text/css\" height=\"403px\" preserveAspectRatio=\"none\" style=\"width:740px;height:403px;\" version=\"1.1\" viewBox=\"0 0 740 403\" width=\"740px\" zoomAndPan=\"magnify\"><defs/><g><!--MD5=[fbc87193dbaf4d95561dea2c320d4a47]\n",
       "cluster E1--><a href=\"psysml:adbc474a-2784-4828-be47-026fefc14932\" target=\"_top\" title=\"psysml:adbc474a-2784-4828-be47-026fefc14932\" xlink:actuate=\"onRequest\" xlink:href=\"psysml:adbc474a-2784-4828-be47-026fefc14932\" xlink:show=\"new\" xlink:title=\"psysml:adbc474a-2784-4828-be47-026fefc14932\" xlink:type=\"simple\"><polygon fill=\"#FFFFFF\" points=\"16,6,139,6,146,28.2969,718,28.2969,718,391.72,16,391.72,16,6\" style=\"stroke: #000000; stroke-width: 1.5;\"/><line style=\"stroke: #000000; stroke-width: 1.5;\" x1=\"16\" x2=\"146\" y1=\"28.2969\" y2=\"28.2969\"/><text fill=\"#000000\" font-family=\"sans-serif\" font-size=\"14\" font-weight=\"bold\" lengthAdjust=\"spacingAndGlyphs\" textLength=\"117\" x=\"20\" y=\"20.9951\">ParameterTest</text></a><!--MD5=[f6df4d0ebaf0b5dfb2ced0ae5af7c670]\n",
       "cluster E4--><a href=\"psysml:ea0c6e06-a87b-4616-91bc-ba79196303d0\" target=\"_top\" title=\"psysml:ea0c6e06-a87b-4616-91bc-ba79196303d0\" xlink:actuate=\"onRequest\" xlink:href=\"psysml:ea0c6e06-a87b-4616-91bc-ba79196303d0\" xlink:show=\"new\" xlink:title=\"psysml:ea0c6e06-a87b-4616-91bc-ba79196303d0\" xlink:type=\"simple\"><rect fill=\"#FFFFFF\" height=\"297.72\" id=\"E4\" style=\"stroke: #383838; stroke-width: 1.5;\" width=\"148\" x=\"554\" y=\"64\"/><rect fill=\"#F8F8F8\" height=\"37.9375\" style=\"stroke: #383838; stroke-width: 1.5;\" width=\"148\" x=\"554\" y=\"64\"/><text fill=\"#000000\" font-family=\"sans-serif\" font-size=\"12\" font-style=\"italic\" lengthAdjust=\"spacingAndGlyphs\" textLength=\"106\" x=\"575\" y=\"80.1387\">«calculation def»</text><text fill=\"#000000\" font-family=\"sans-serif\" font-size=\"12\" lengthAdjust=\"spacingAndGlyphs\" textLength=\"7\" x=\"624.5\" y=\"94.1074\">F</text></a><!--MD5=[b4997ac47864f28c2f74865a473b2911]\n",
       "class E2--><a href=\"psysml:fa211d39-e6da-4efb-a07a-68e935dd1093\" target=\"_top\" title=\"psysml:fa211d39-e6da-4efb-a07a-68e935dd1093\" xlink:actuate=\"onRequest\" xlink:href=\"psysml:fa211d39-e6da-4efb-a07a-68e935dd1093\" xlink:show=\"new\" xlink:title=\"psysml:fa211d39-e6da-4efb-a07a-68e935dd1093\" xlink:type=\"simple\"><rect fill=\"#FFFFFF\" height=\"88.3516\" id=\"E2\" style=\"stroke: #383838; stroke-width: 1.5;\" width=\"95\" x=\"422.5\" y=\"147\"/><text fill=\"#000000\" font-family=\"sans-serif\" font-size=\"12\" font-style=\"italic\" lengthAdjust=\"spacingAndGlyphs\" textLength=\"93\" x=\"423.5\" y=\"163.1387\">«attribute def»</text><text fill=\"#000000\" font-family=\"sans-serif\" font-size=\"12\" lengthAdjust=\"spacingAndGlyphs\" textLength=\"8\" x=\"466\" y=\"177.1074\">A</text><line style=\"stroke: #383838; stroke-width: 1.5;\" x1=\"423.5\" x2=\"516.5\" y1=\"184.9375\" y2=\"184.9375\"/><text fill=\"#000000\" font-family=\"sans-serif\" font-size=\"11\" lengthAdjust=\"spacingAndGlyphs\" textLength=\"48\" x=\"428.5\" y=\"215.9526\">x: String</text><text fill=\"#000000\" font-family=\"sans-serif\" font-size=\"11\" lengthAdjust=\"spacingAndGlyphs\" textLength=\"21\" x=\"428.5\" y=\"228.7573\">y: A</text><line style=\"stroke: #383838; stroke-width: 1.0;\" x1=\"423.5\" x2=\"442.5\" y1=\"199.3398\" y2=\"199.3398\"/><text fill=\"#000000\" font-family=\"sans-serif\" font-size=\"11\" lengthAdjust=\"spacingAndGlyphs\" textLength=\"55\" x=\"442.5\" y=\"202.6479\">attributes</text><line style=\"stroke: #383838; stroke-width: 1.0;\" x1=\"497.5\" x2=\"516.5\" y1=\"199.3398\" y2=\"199.3398\"/></a><!--MD5=[09b614a08d8cba4a07c9adeb5e0fee81]\n",
       "class E3--><a href=\"psysml:665f7084-89dd-4cc9-a479-f70e09a77220\" target=\"_top\" title=\"psysml:665f7084-89dd-4cc9-a479-f70e09a77220\" xlink:actuate=\"onRequest\" xlink:href=\"psysml:665f7084-89dd-4cc9-a479-f70e09a77220\" xlink:show=\"new\" xlink:title=\"psysml:665f7084-89dd-4cc9-a479-f70e09a77220\" xlink:type=\"simple\"><rect fill=\"#FFFFFF\" height=\"45.9375\" id=\"E3\" rx=\"10\" ry=\"10\" style=\"stroke: #383838; stroke-width: 1.5;\" width=\"71\" x=\"456.5\" y=\"41\"/><text fill=\"#000000\" font-family=\"sans-serif\" font-size=\"12\" font-style=\"italic\" lengthAdjust=\"spacingAndGlyphs\" textLength=\"69\" x=\"457.5\" y=\"57.1387\">«attribute»</text><text fill=\"#000000\" font-family=\"sans-serif\" font-size=\"12\" lengthAdjust=\"spacingAndGlyphs\" textLength=\"24\" x=\"480\" y=\"71.1074\">a: A</text><line style=\"stroke: #383838; stroke-width: 1.5;\" x1=\"457.5\" x2=\"526.5\" y1=\"78.9375\" y2=\"78.9375\"/></a><!--MD5=[b9389687b975829384b498ac4b7476b2]\n",
       "class E8--><a href=\"psysml:1ebb82ef-cdf5-4836-9887-d34bbc134ce1\" target=\"_top\" title=\"psysml:1ebb82ef-cdf5-4836-9887-d34bbc134ce1\" xlink:actuate=\"onRequest\" xlink:href=\"psysml:1ebb82ef-cdf5-4836-9887-d34bbc134ce1\" xlink:show=\"new\" xlink:title=\"psysml:1ebb82ef-cdf5-4836-9887-d34bbc134ce1\" xlink:type=\"simple\"><rect fill=\"#FFFFFF\" height=\"45.9375\" id=\"E8\" rx=\"10\" ry=\"10\" style=\"stroke: #383838; stroke-width: 1.5;\" width=\"71\" x=\"350.5\" y=\"41\"/><text fill=\"#000000\" font-family=\"sans-serif\" font-size=\"12\" font-style=\"italic\" lengthAdjust=\"spacingAndGlyphs\" textLength=\"69\" x=\"351.5\" y=\"57.1387\">«attribute»</text><text fill=\"#000000\" font-family=\"sans-serif\" font-size=\"12\" lengthAdjust=\"spacingAndGlyphs\" textLength=\"4\" x=\"384\" y=\"71.1074\">f</text><line style=\"stroke: #383838; stroke-width: 1.5;\" x1=\"351.5\" x2=\"420.5\" y1=\"78.9375\" y2=\"78.9375\"/></a><!--MD5=[fd4143e9d270a159db93a4ea2a975926]\n",
       "class E9--><a href=\"psysml:22e07e99-e7e6-486c-b8ca-f79edb8ad4e8\" target=\"_top\" title=\"psysml:22e07e99-e7e6-486c-b8ca-f79edb8ad4e8\" xlink:actuate=\"onRequest\" xlink:href=\"psysml:22e07e99-e7e6-486c-b8ca-f79edb8ad4e8\" xlink:show=\"new\" xlink:title=\"psysml:22e07e99-e7e6-486c-b8ca-f79edb8ad4e8\" xlink:type=\"simple\"><rect fill=\"#FFFFFF\" height=\"45.9375\" id=\"E9\" rx=\"10\" ry=\"10\" style=\"stroke: #383838; stroke-width: 1.5;\" width=\"71\" x=\"244.5\" y=\"41\"/><text fill=\"#000000\" font-family=\"sans-serif\" font-size=\"12\" font-style=\"italic\" lengthAdjust=\"spacingAndGlyphs\" textLength=\"69\" x=\"245.5\" y=\"57.1387\">«attribute»</text><text fill=\"#000000\" font-family=\"sans-serif\" font-size=\"12\" lengthAdjust=\"spacingAndGlyphs\" textLength=\"8\" x=\"276\" y=\"71.1074\">g</text><line style=\"stroke: #383838; stroke-width: 1.5;\" x1=\"245.5\" x2=\"314.5\" y1=\"78.9375\" y2=\"78.9375\"/></a><!--MD5=[96f4274e9e20536e775497830990834d]\n",
       "class E10--><a href=\"psysml:a8be3d15-ac76-451a-a4cf-87ef8e02e637\" target=\"_top\" title=\"psysml:a8be3d15-ac76-451a-a4cf-87ef8e02e637\" xlink:actuate=\"onRequest\" xlink:href=\"psysml:a8be3d15-ac76-451a-a4cf-87ef8e02e637\" xlink:show=\"new\" xlink:title=\"psysml:a8be3d15-ac76-451a-a4cf-87ef8e02e637\" xlink:type=\"simple\"><rect fill=\"#FFFFFF\" height=\"45.9375\" id=\"E10\" rx=\"10\" ry=\"10\" style=\"stroke: #383838; stroke-width: 1.5;\" width=\"71\" x=\"138.5\" y=\"41\"/><text fill=\"#000000\" font-family=\"sans-serif\" font-size=\"12\" font-style=\"italic\" lengthAdjust=\"spacingAndGlyphs\" textLength=\"69\" x=\"139.5\" y=\"57.1387\">«attribute»</text><text fill=\"#000000\" font-family=\"sans-serif\" font-size=\"12\" lengthAdjust=\"spacingAndGlyphs\" textLength=\"8\" x=\"170\" y=\"71.1074\">b</text><line style=\"stroke: #383838; stroke-width: 1.5;\" x1=\"139.5\" x2=\"208.5\" y1=\"78.9375\" y2=\"78.9375\"/></a><!--MD5=[1dd1bfd58a279cf63c5f349dbc8fc6a1]\n",
       "class E11--><a href=\"psysml:88e99412-8df3-4a94-a568-1984bea0c190\" target=\"_top\" title=\"psysml:88e99412-8df3-4a94-a568-1984bea0c190\" xlink:actuate=\"onRequest\" xlink:href=\"psysml:88e99412-8df3-4a94-a568-1984bea0c190\" xlink:show=\"new\" xlink:title=\"psysml:88e99412-8df3-4a94-a568-1984bea0c190\" xlink:type=\"simple\"><rect fill=\"#FFFFFF\" height=\"45.9375\" id=\"E11\" rx=\"10\" ry=\"10\" style=\"stroke: #383838; stroke-width: 1.5;\" width=\"71\" x=\"32.5\" y=\"41\"/><text fill=\"#000000\" font-family=\"sans-serif\" font-size=\"12\" font-style=\"italic\" lengthAdjust=\"spacingAndGlyphs\" textLength=\"69\" x=\"33.5\" y=\"57.1387\">«attribute»</text><text fill=\"#000000\" font-family=\"sans-serif\" font-size=\"12\" lengthAdjust=\"spacingAndGlyphs\" textLength=\"7\" x=\"64.5\" y=\"71.1074\">c</text><line style=\"stroke: #383838; stroke-width: 1.5;\" x1=\"33.5\" x2=\"102.5\" y1=\"78.9375\" y2=\"78.9375\"/></a><text fill=\"#000000\" font-family=\"sans-serif\" font-size=\"14\" lengthAdjust=\"spacingAndGlyphs\" textLength=\"9\" x=\"567.5\" y=\"42.6982\">p</text><rect fill=\"#383838\" height=\"12\" style=\"stroke: #F8F8F8; stroke-width: 1.5;\" width=\"12\" x=\"566\" y=\"58\"/><text fill=\"#000000\" font-family=\"sans-serif\" font-size=\"14\" lengthAdjust=\"spacingAndGlyphs\" textLength=\"9\" x=\"614.5\" y=\"42.6982\">q</text><rect fill=\"#383838\" height=\"12\" style=\"stroke: #F8F8F8; stroke-width: 1.5;\" width=\"12\" x=\"613\" y=\"58\"/><text fill=\"#000000\" font-family=\"sans-serif\" font-size=\"14\" lengthAdjust=\"spacingAndGlyphs\" textLength=\"57\" x=\"590.5\" y=\"380.7151\">noname</text><rect fill=\"#383838\" height=\"12\" style=\"stroke: #F8F8F8; stroke-width: 1.5;\" width=\"12\" x=\"613\" y=\"355.72\"/><!--MD5=[05d275557350bfb9b23a4ef7222b4c39]\n",
       "link E3 to E2--><a href=\"psysml:47946f32-7338-4adb-a6af-ffcb2b2265dd\" target=\"_top\" title=\"psysml:47946f32-7338-4adb-a6af-ffcb2b2265dd\" xlink:actuate=\"onRequest\" xlink:href=\"psysml:47946f32-7338-4adb-a6af-ffcb2b2265dd\" xlink:show=\"new\" xlink:title=\"psysml:47946f32-7338-4adb-a6af-ffcb2b2265dd\" xlink:type=\"simple\"><path d=\"M488.12,87.06 C486.14,98.3 483.62,112.6 481.1,126.95 \" fill=\"none\" id=\"E3-&gt;E2\" style=\"stroke: #383838; stroke-width: 1.0;\"/><polygon fill=\"#FFFFFF\" points=\"477.58,146.93,473.9835,127.0035,487.7711,129.4331,477.58,146.93\" style=\"stroke: #383838; stroke-width: 1.0;\"/><ellipse cx=\"476.9423\" cy=\"121.7371\" fill=\"#383838\" rx=\"2\" ry=\"2\" style=\"stroke: #383838; stroke-width: 1.0;\"/><ellipse cx=\"486.7906\" cy=\"123.4725\" fill=\"#383838\" rx=\"2\" ry=\"2\" style=\"stroke: #383838; stroke-width: 1.0;\"/></a><!--MD5=[909415752633e8d6fb6ce49760df711e]\n",
       "@startuml\r\n",
       "skinparam linetype polyline\r\n",
       "skinparam monochrome true\r\n",
       "skinparam classbackgroundcolor white\r\n",
       "skinparam shadowing false\r\n",
       "skinparam wrapWidth 300\r\n",
       "hide circle\r\n",
       "\r\n",
       "package \"ParameterTest\" as E1  [[psysml:adbc474a-2784-4828-be47-026fefc14932 ]]  {\r\n",
       "comp def \"A\" as E2  <<(T,blue) attribute def>> [[psysml:fa211d39-e6da-4efb-a07a-68e935dd1093 ]] {\r\n",
       "- - attributes - -\r\n",
       "x: String\r\n",
       "y: A\r\n",
       "}\r\n",
       "comp usage \"a: A\" as E3  <<(T,blue) attribute>> [[psysml:665f7084-89dd-4cc9-a479-f70e09a77220 ]] {\r\n",
       "}\r\n",
       "rec def \"F\" as E4  <<(T,blue) calculation def>> [[psysml:ea0c6e06-a87b-4616-91bc-ba79196303d0 ]] {\r\n",
       "portin \"p\" as E5  [[psysml:e1d329d3-cb1e-45c3-b1d5-2fcf771779ef ]] \r\n",
       "portin \"q\" as E6  [[psysml:b499ebef-2d53-43ba-b86a-de9084e46bb3 ]] \r\n",
       "portout \"noname\" as E7  [[psysml:2e56002b-31e4-43bf-ad2b-cc6ef1aac7ab ]] \r\n",
       "}\r\n",
       "\r\n",
       "comp usage \"f\" as E8  <<(T,blue) attribute>> [[psysml:1ebb82ef-cdf5-4836-9887-d34bbc134ce1 ]] {\r\n",
       "}\r\n",
       "comp usage \"g\" as E9  <<(T,blue) attribute>> [[psysml:22e07e99-e7e6-486c-b8ca-f79edb8ad4e8 ]] {\r\n",
       "}\r\n",
       "comp usage \"b\" as E10  <<(T,blue) attribute>> [[psysml:a8be3d15-ac76-451a-a4cf-87ef8e02e637 ]] {\r\n",
       "}\r\n",
       "comp usage \"c\" as E11  <<(T,blue) attribute>> [[psysml:88e99412-8df3-4a94-a568-1984bea0c190 ]] {\r\n",
       "}\r\n",
       "E3 - -:|> E2 [[psysml:47946f32-7338-4adb-a6af-ffcb2b2265dd ]] \r\n",
       "}\r\n",
       "@enduml\r\n",
       "\n",
       "PlantUML version 1.2020.13(Sat Jun 13 12:26:38 UTC 2020)\n",
       "(EPL source distribution)\n",
       "Java Runtime: OpenJDK Runtime Environment\n",
       "JVM: OpenJDK 64-Bit Server VM\n",
       "Default Encoding: UTF-8\n",
       "Language: en\n",
       "Country: null\n",
       "--></g></svg>"
      ]
     },
     "execution_count": 15,
     "metadata": {},
     "output_type": "execute_result"
    }
   ],
   "source": [
    "%viz --style=\"POLYLINE\" --view=\"MIXED\" \"ParameterTest\""
   ]
  },
  {
   "cell_type": "code",
   "execution_count": 16,
   "id": "7f4568e3",
   "metadata": {
    "execution": {
     "iopub.execute_input": "2021-06-30T09:18:20.127546Z",
     "iopub.status.busy": "2021-06-30T09:18:20.127022Z",
     "iopub.status.idle": "2021-06-30T09:18:20.195483Z",
     "shell.execute_reply": "2021-06-30T09:18:20.195135Z"
    }
   },
   "outputs": [
    {
     "data": {
      "image/svg+xml": [
       "<?xml version=\"1.0\" encoding=\"UTF-8\" standalone=\"no\"?><svg xmlns=\"http://www.w3.org/2000/svg\" xmlns:xlink=\"http://www.w3.org/1999/xlink\" contentScriptType=\"application/ecmascript\" contentStyleType=\"text/css\" height=\"541px\" preserveAspectRatio=\"none\" style=\"width:474px;height:541px;\" version=\"1.1\" viewBox=\"0 0 474 541\" width=\"474px\" zoomAndPan=\"magnify\"><defs/><g><!--MD5=[fbc87193dbaf4d95561dea2c320d4a47]\n",
       "cluster E1--><a href=\"psysml:adbc474a-2784-4828-be47-026fefc14932\" target=\"_top\" title=\"psysml:adbc474a-2784-4828-be47-026fefc14932\" xlink:actuate=\"onRequest\" xlink:href=\"psysml:adbc474a-2784-4828-be47-026fefc14932\" xlink:show=\"new\" xlink:title=\"psysml:adbc474a-2784-4828-be47-026fefc14932\" xlink:type=\"simple\"><polygon fill=\"#FFFFFF\" points=\"16,6,139,6,146,28.2969,452.72,28.2969,452.72,529,16,529,16,6\" style=\"stroke: #000000; stroke-width: 1.5;\"/><line style=\"stroke: #000000; stroke-width: 1.5;\" x1=\"16\" x2=\"146\" y1=\"28.2969\" y2=\"28.2969\"/><text fill=\"#000000\" font-family=\"sans-serif\" font-size=\"14\" font-weight=\"bold\" lengthAdjust=\"spacingAndGlyphs\" textLength=\"117\" x=\"20\" y=\"20.9951\">ParameterTest</text></a><!--MD5=[f6df4d0ebaf0b5dfb2ced0ae5af7c670]\n",
       "cluster E4--><a href=\"psysml:ea0c6e06-a87b-4616-91bc-ba79196303d0\" target=\"_top\" title=\"psysml:ea0c6e06-a87b-4616-91bc-ba79196303d0\" xlink:actuate=\"onRequest\" xlink:href=\"psysml:ea0c6e06-a87b-4616-91bc-ba79196303d0\" xlink:show=\"new\" xlink:title=\"psysml:ea0c6e06-a87b-4616-91bc-ba79196303d0\" xlink:type=\"simple\"><rect fill=\"#FFFFFF\" height=\"47\" id=\"E4\" style=\"stroke: #383838; stroke-width: 1.5;\" width=\"373.22\" x=\"49.5\" y=\"55\"/><rect fill=\"#F8F8F8\" height=\"37.9375\" style=\"stroke: #383838; stroke-width: 1.5;\" width=\"373.22\" x=\"49.5\" y=\"55\"/><text fill=\"#000000\" font-family=\"sans-serif\" font-size=\"12\" font-style=\"italic\" lengthAdjust=\"spacingAndGlyphs\" textLength=\"106\" x=\"183.11\" y=\"71.1387\">«calculation def»</text><text fill=\"#000000\" font-family=\"sans-serif\" font-size=\"12\" lengthAdjust=\"spacingAndGlyphs\" textLength=\"7\" x=\"232.61\" y=\"85.1074\">F</text></a><!--MD5=[b4997ac47864f28c2f74865a473b2911]\n",
       "class E2--><a href=\"psysml:fa211d39-e6da-4efb-a07a-68e935dd1093\" target=\"_top\" title=\"psysml:fa211d39-e6da-4efb-a07a-68e935dd1093\" xlink:actuate=\"onRequest\" xlink:href=\"psysml:fa211d39-e6da-4efb-a07a-68e935dd1093\" xlink:show=\"new\" xlink:title=\"psysml:fa211d39-e6da-4efb-a07a-68e935dd1093\" xlink:type=\"simple\"><rect fill=\"#FFFFFF\" height=\"88.3516\" id=\"E2\" style=\"stroke: #383838; stroke-width: 1.5;\" width=\"95\" x=\"182\" y=\"128\"/><text fill=\"#000000\" font-family=\"sans-serif\" font-size=\"12\" font-style=\"italic\" lengthAdjust=\"spacingAndGlyphs\" textLength=\"93\" x=\"183\" y=\"144.1387\">«attribute def»</text><text fill=\"#000000\" font-family=\"sans-serif\" font-size=\"12\" lengthAdjust=\"spacingAndGlyphs\" textLength=\"8\" x=\"225.5\" y=\"158.1074\">A</text><line style=\"stroke: #383838; stroke-width: 1.5;\" x1=\"183\" x2=\"276\" y1=\"165.9375\" y2=\"165.9375\"/><text fill=\"#000000\" font-family=\"sans-serif\" font-size=\"11\" lengthAdjust=\"spacingAndGlyphs\" textLength=\"48\" x=\"188\" y=\"196.9526\">x: String</text><text fill=\"#000000\" font-family=\"sans-serif\" font-size=\"11\" lengthAdjust=\"spacingAndGlyphs\" textLength=\"21\" x=\"188\" y=\"209.7573\">y: A</text><line style=\"stroke: #383838; stroke-width: 1.0;\" x1=\"183\" x2=\"202\" y1=\"180.3398\" y2=\"180.3398\"/><text fill=\"#000000\" font-family=\"sans-serif\" font-size=\"11\" lengthAdjust=\"spacingAndGlyphs\" textLength=\"55\" x=\"202\" y=\"183.6479\">attributes</text><line style=\"stroke: #383838; stroke-width: 1.0;\" x1=\"257\" x2=\"276\" y1=\"180.3398\" y2=\"180.3398\"/></a><!--MD5=[09b614a08d8cba4a07c9adeb5e0fee81]\n",
       "class E3--><a href=\"psysml:665f7084-89dd-4cc9-a479-f70e09a77220\" target=\"_top\" title=\"psysml:665f7084-89dd-4cc9-a479-f70e09a77220\" xlink:actuate=\"onRequest\" xlink:href=\"psysml:665f7084-89dd-4cc9-a479-f70e09a77220\" xlink:show=\"new\" xlink:title=\"psysml:665f7084-89dd-4cc9-a479-f70e09a77220\" xlink:type=\"simple\"><rect fill=\"#FFFFFF\" height=\"45.9375\" id=\"E3\" rx=\"10\" ry=\"10\" style=\"stroke: #383838; stroke-width: 1.5;\" width=\"71\" x=\"32\" y=\"143\"/><text fill=\"#000000\" font-family=\"sans-serif\" font-size=\"12\" font-style=\"italic\" lengthAdjust=\"spacingAndGlyphs\" textLength=\"69\" x=\"33\" y=\"159.1387\">«attribute»</text><text fill=\"#000000\" font-family=\"sans-serif\" font-size=\"12\" lengthAdjust=\"spacingAndGlyphs\" textLength=\"24\" x=\"55.5\" y=\"173.1074\">a: A</text><line style=\"stroke: #383838; stroke-width: 1.5;\" x1=\"33\" x2=\"102\" y1=\"180.9375\" y2=\"180.9375\"/></a><!--MD5=[b9389687b975829384b498ac4b7476b2]\n",
       "class E8--><a href=\"psysml:1ebb82ef-cdf5-4836-9887-d34bbc134ce1\" target=\"_top\" title=\"psysml:1ebb82ef-cdf5-4836-9887-d34bbc134ce1\" xlink:actuate=\"onRequest\" xlink:href=\"psysml:1ebb82ef-cdf5-4836-9887-d34bbc134ce1\" xlink:show=\"new\" xlink:title=\"psysml:1ebb82ef-cdf5-4836-9887-d34bbc134ce1\" xlink:type=\"simple\"><rect fill=\"#FFFFFF\" height=\"45.9375\" id=\"E8\" rx=\"10\" ry=\"10\" style=\"stroke: #383838; stroke-width: 1.5;\" width=\"71\" x=\"32\" y=\"224\"/><text fill=\"#000000\" font-family=\"sans-serif\" font-size=\"12\" font-style=\"italic\" lengthAdjust=\"spacingAndGlyphs\" textLength=\"69\" x=\"33\" y=\"240.1387\">«attribute»</text><text fill=\"#000000\" font-family=\"sans-serif\" font-size=\"12\" lengthAdjust=\"spacingAndGlyphs\" textLength=\"4\" x=\"65.5\" y=\"254.1074\">f</text><line style=\"stroke: #383838; stroke-width: 1.5;\" x1=\"33\" x2=\"102\" y1=\"261.9375\" y2=\"261.9375\"/></a><!--MD5=[fd4143e9d270a159db93a4ea2a975926]\n",
       "class E9--><a href=\"psysml:22e07e99-e7e6-486c-b8ca-f79edb8ad4e8\" target=\"_top\" title=\"psysml:22e07e99-e7e6-486c-b8ca-f79edb8ad4e8\" xlink:actuate=\"onRequest\" xlink:href=\"psysml:22e07e99-e7e6-486c-b8ca-f79edb8ad4e8\" xlink:show=\"new\" xlink:title=\"psysml:22e07e99-e7e6-486c-b8ca-f79edb8ad4e8\" xlink:type=\"simple\"><rect fill=\"#FFFFFF\" height=\"45.9375\" id=\"E9\" rx=\"10\" ry=\"10\" style=\"stroke: #383838; stroke-width: 1.5;\" width=\"71\" x=\"32\" y=\"305\"/><text fill=\"#000000\" font-family=\"sans-serif\" font-size=\"12\" font-style=\"italic\" lengthAdjust=\"spacingAndGlyphs\" textLength=\"69\" x=\"33\" y=\"321.1387\">«attribute»</text><text fill=\"#000000\" font-family=\"sans-serif\" font-size=\"12\" lengthAdjust=\"spacingAndGlyphs\" textLength=\"8\" x=\"63.5\" y=\"335.1074\">g</text><line style=\"stroke: #383838; stroke-width: 1.5;\" x1=\"33\" x2=\"102\" y1=\"342.9375\" y2=\"342.9375\"/></a><!--MD5=[96f4274e9e20536e775497830990834d]\n",
       "class E10--><a href=\"psysml:a8be3d15-ac76-451a-a4cf-87ef8e02e637\" target=\"_top\" title=\"psysml:a8be3d15-ac76-451a-a4cf-87ef8e02e637\" xlink:actuate=\"onRequest\" xlink:href=\"psysml:a8be3d15-ac76-451a-a4cf-87ef8e02e637\" xlink:show=\"new\" xlink:title=\"psysml:a8be3d15-ac76-451a-a4cf-87ef8e02e637\" xlink:type=\"simple\"><rect fill=\"#FFFFFF\" height=\"45.9375\" id=\"E10\" rx=\"10\" ry=\"10\" style=\"stroke: #383838; stroke-width: 1.5;\" width=\"71\" x=\"32\" y=\"386\"/><text fill=\"#000000\" font-family=\"sans-serif\" font-size=\"12\" font-style=\"italic\" lengthAdjust=\"spacingAndGlyphs\" textLength=\"69\" x=\"33\" y=\"402.1387\">«attribute»</text><text fill=\"#000000\" font-family=\"sans-serif\" font-size=\"12\" lengthAdjust=\"spacingAndGlyphs\" textLength=\"8\" x=\"63.5\" y=\"416.1074\">b</text><line style=\"stroke: #383838; stroke-width: 1.5;\" x1=\"33\" x2=\"102\" y1=\"423.9375\" y2=\"423.9375\"/></a><!--MD5=[1dd1bfd58a279cf63c5f349dbc8fc6a1]\n",
       "class E11--><a href=\"psysml:88e99412-8df3-4a94-a568-1984bea0c190\" target=\"_top\" title=\"psysml:88e99412-8df3-4a94-a568-1984bea0c190\" xlink:actuate=\"onRequest\" xlink:href=\"psysml:88e99412-8df3-4a94-a568-1984bea0c190\" xlink:show=\"new\" xlink:title=\"psysml:88e99412-8df3-4a94-a568-1984bea0c190\" xlink:type=\"simple\"><rect fill=\"#FFFFFF\" height=\"45.9375\" id=\"E11\" rx=\"10\" ry=\"10\" style=\"stroke: #383838; stroke-width: 1.5;\" width=\"71\" x=\"32\" y=\"467\"/><text fill=\"#000000\" font-family=\"sans-serif\" font-size=\"12\" font-style=\"italic\" lengthAdjust=\"spacingAndGlyphs\" textLength=\"69\" x=\"33\" y=\"483.1387\">«attribute»</text><text fill=\"#000000\" font-family=\"sans-serif\" font-size=\"12\" lengthAdjust=\"spacingAndGlyphs\" textLength=\"7\" x=\"64\" y=\"497.1074\">c</text><line style=\"stroke: #383838; stroke-width: 1.5;\" x1=\"33\" x2=\"102\" y1=\"504.9375\" y2=\"504.9375\"/></a><text fill=\"#000000\" font-family=\"sans-serif\" font-size=\"14\" lengthAdjust=\"spacingAndGlyphs\" textLength=\"9\" x=\"63\" y=\"120.9951\">p</text><rect fill=\"#383838\" height=\"12\" style=\"stroke: #F8F8F8; stroke-width: 1.5;\" width=\"12\" x=\"61.5\" y=\"96\"/><text fill=\"#000000\" font-family=\"sans-serif\" font-size=\"14\" lengthAdjust=\"spacingAndGlyphs\" textLength=\"9\" x=\"63\" y=\"33.6982\">q</text><rect fill=\"#383838\" height=\"12\" style=\"stroke: #F8F8F8; stroke-width: 1.5;\" width=\"12\" x=\"61.5\" y=\"49\"/><text fill=\"#000000\" font-family=\"sans-serif\" font-size=\"14\" lengthAdjust=\"spacingAndGlyphs\" textLength=\"57\" x=\"394.22\" y=\"53.6982\">noname</text><rect fill=\"#383838\" height=\"12\" style=\"stroke: #F8F8F8; stroke-width: 1.5;\" width=\"12\" x=\"416.72\" y=\"69\"/><!--MD5=[05d275557350bfb9b23a4ef7222b4c39]\n",
       "link E3 to E2--><a href=\"psysml:47946f32-7338-4adb-a6af-ffcb2b2265dd\" target=\"_top\" title=\"psysml:47946f32-7338-4adb-a6af-ffcb2b2265dd\" xlink:actuate=\"onRequest\" xlink:href=\"psysml:47946f32-7338-4adb-a6af-ffcb2b2265dd\" xlink:show=\"new\" xlink:title=\"psysml:47946f32-7338-4adb-a6af-ffcb2b2265dd\" xlink:type=\"simple\"><path d=\"M103.22,167.3 C120.27,167.94 141.42,168.73 161.45,169.49 \" fill=\"none\" id=\"E3-&gt;E2\" style=\"stroke: #383838; stroke-width: 1.0;\"/><polygon fill=\"#FFFFFF\" points=\"181.71,170.25,162.4631,176.5394,162.9831,162.5491,181.71,170.25\" style=\"stroke: #383838; stroke-width: 1.0;\"/><ellipse cx=\"156.8413\" cy=\"174.3291\" fill=\"#383838\" rx=\"2\" ry=\"2\" style=\"stroke: #383838; stroke-width: 1.0;\"/><ellipse cx=\"157.2128\" cy=\"164.336\" fill=\"#383838\" rx=\"2\" ry=\"2\" style=\"stroke: #383838; stroke-width: 1.0;\"/></a><!--MD5=[fe3cf6405c715d4ed7e664022f6d654c]\n",
       "@startuml\r\n",
       "left to right direction\r\n",
       "skinparam monochrome true\r\n",
       "skinparam classbackgroundcolor white\r\n",
       "skinparam shadowing false\r\n",
       "skinparam wrapWidth 300\r\n",
       "hide circle\r\n",
       "\r\n",
       "package \"ParameterTest\" as E1  [[psysml:adbc474a-2784-4828-be47-026fefc14932 ]]  {\r\n",
       "comp def \"A\" as E2  <<(T,blue) attribute def>> [[psysml:fa211d39-e6da-4efb-a07a-68e935dd1093 ]] {\r\n",
       "- - attributes - -\r\n",
       "x: String\r\n",
       "y: A\r\n",
       "}\r\n",
       "comp usage \"a: A\" as E3  <<(T,blue) attribute>> [[psysml:665f7084-89dd-4cc9-a479-f70e09a77220 ]] {\r\n",
       "}\r\n",
       "rec def \"F\" as E4  <<(T,blue) calculation def>> [[psysml:ea0c6e06-a87b-4616-91bc-ba79196303d0 ]] {\r\n",
       "portin \"p\" as E5  [[psysml:e1d329d3-cb1e-45c3-b1d5-2fcf771779ef ]] \r\n",
       "portin \"q\" as E6  [[psysml:b499ebef-2d53-43ba-b86a-de9084e46bb3 ]] \r\n",
       "portout \"noname\" as E7  [[psysml:2e56002b-31e4-43bf-ad2b-cc6ef1aac7ab ]] \r\n",
       "}\r\n",
       "\r\n",
       "comp usage \"f\" as E8  <<(T,blue) attribute>> [[psysml:1ebb82ef-cdf5-4836-9887-d34bbc134ce1 ]] {\r\n",
       "}\r\n",
       "comp usage \"g\" as E9  <<(T,blue) attribute>> [[psysml:22e07e99-e7e6-486c-b8ca-f79edb8ad4e8 ]] {\r\n",
       "}\r\n",
       "comp usage \"b\" as E10  <<(T,blue) attribute>> [[psysml:a8be3d15-ac76-451a-a4cf-87ef8e02e637 ]] {\r\n",
       "}\r\n",
       "comp usage \"c\" as E11  <<(T,blue) attribute>> [[psysml:88e99412-8df3-4a94-a568-1984bea0c190 ]] {\r\n",
       "}\r\n",
       "E3 - -:|> E2 [[psysml:47946f32-7338-4adb-a6af-ffcb2b2265dd ]] \r\n",
       "}\r\n",
       "@enduml\r\n",
       "\n",
       "PlantUML version 1.2020.13(Sat Jun 13 12:26:38 UTC 2020)\n",
       "(EPL source distribution)\n",
       "Java Runtime: OpenJDK Runtime Environment\n",
       "JVM: OpenJDK 64-Bit Server VM\n",
       "Default Encoding: UTF-8\n",
       "Language: en\n",
       "Country: null\n",
       "--></g></svg>"
      ]
     },
     "execution_count": 16,
     "metadata": {},
     "output_type": "execute_result"
    }
   ],
   "source": [
    "%viz --style=\"LR\" --view=\"Default\" \"ParameterTest\""
   ]
  },
  {
   "cell_type": "code",
   "execution_count": 17,
   "id": "6f9744a8",
   "metadata": {
    "execution": {
     "iopub.execute_input": "2021-06-30T09:18:20.245982Z",
     "iopub.status.busy": "2021-06-30T09:18:20.245247Z",
     "iopub.status.idle": "2021-06-30T09:18:20.324964Z",
     "shell.execute_reply": "2021-06-30T09:18:20.324489Z"
    }
   },
   "outputs": [
    {
     "data": {
      "image/svg+xml": [
       "<?xml version=\"1.0\" encoding=\"UTF-8\" standalone=\"no\"?><svg xmlns=\"http://www.w3.org/2000/svg\" xmlns:xlink=\"http://www.w3.org/1999/xlink\" contentScriptType=\"application/ecmascript\" contentStyleType=\"text/css\" height=\"520px\" preserveAspectRatio=\"none\" style=\"width:343px;height:520px;\" version=\"1.1\" viewBox=\"0 0 343 520\" width=\"343px\" zoomAndPan=\"magnify\"><defs/><g><!--MD5=[fbc87193dbaf4d95561dea2c320d4a47]\n",
       "cluster E1--><a href=\"psysml:adbc474a-2784-4828-be47-026fefc14932\" target=\"_top\" title=\"psysml:adbc474a-2784-4828-be47-026fefc14932\" xlink:actuate=\"onRequest\" xlink:href=\"psysml:adbc474a-2784-4828-be47-026fefc14932\" xlink:show=\"new\" xlink:title=\"psysml:adbc474a-2784-4828-be47-026fefc14932\" xlink:type=\"simple\"><polygon fill=\"#FFFFFF\" points=\"16,6,139,6,146,28.2969,321,28.2969,321,508,16,508,16,6\" style=\"stroke: #000000; stroke-width: 1.5;\"/><line style=\"stroke: #000000; stroke-width: 1.5;\" x1=\"16\" x2=\"146\" y1=\"28.2969\" y2=\"28.2969\"/><text fill=\"#000000\" font-family=\"sans-serif\" font-size=\"14\" font-weight=\"bold\" lengthAdjust=\"spacingAndGlyphs\" textLength=\"117\" x=\"20\" y=\"20.9951\">ParameterTest</text></a><!--MD5=[b4997ac47864f28c2f74865a473b2911]\n",
       "class E2--><a href=\"psysml:fa211d39-e6da-4efb-a07a-68e935dd1093\" target=\"_top\" title=\"psysml:fa211d39-e6da-4efb-a07a-68e935dd1093\" xlink:actuate=\"onRequest\" xlink:href=\"psysml:fa211d39-e6da-4efb-a07a-68e935dd1093\" xlink:show=\"new\" xlink:title=\"psysml:fa211d39-e6da-4efb-a07a-68e935dd1093\" xlink:type=\"simple\"><rect fill=\"#FFFFFF\" height=\"88.3516\" id=\"E2\" style=\"stroke: #383838; stroke-width: 1.5;\" width=\"95\" x=\"210\" y=\"76\"/><text fill=\"#000000\" font-family=\"sans-serif\" font-size=\"12\" font-style=\"italic\" lengthAdjust=\"spacingAndGlyphs\" textLength=\"93\" x=\"211\" y=\"92.1387\">«attribute def»</text><text fill=\"#000000\" font-family=\"sans-serif\" font-size=\"12\" lengthAdjust=\"spacingAndGlyphs\" textLength=\"8\" x=\"253.5\" y=\"106.1074\">A</text><line style=\"stroke: #383838; stroke-width: 1.5;\" x1=\"211\" x2=\"304\" y1=\"113.9375\" y2=\"113.9375\"/><text fill=\"#000000\" font-family=\"sans-serif\" font-size=\"11\" lengthAdjust=\"spacingAndGlyphs\" textLength=\"48\" x=\"216\" y=\"144.9526\">x: String</text><text fill=\"#000000\" font-family=\"sans-serif\" font-size=\"11\" lengthAdjust=\"spacingAndGlyphs\" textLength=\"21\" x=\"216\" y=\"157.7573\">y: A</text><line style=\"stroke: #383838; stroke-width: 1.0;\" x1=\"211\" x2=\"230\" y1=\"128.3398\" y2=\"128.3398\"/><text fill=\"#000000\" font-family=\"sans-serif\" font-size=\"11\" lengthAdjust=\"spacingAndGlyphs\" textLength=\"55\" x=\"230\" y=\"131.6479\">attributes</text><line style=\"stroke: #383838; stroke-width: 1.0;\" x1=\"285\" x2=\"304\" y1=\"128.3398\" y2=\"128.3398\"/></a><!--MD5=[09b614a08d8cba4a07c9adeb5e0fee81]\n",
       "class E3--><a href=\"psysml:665f7084-89dd-4cc9-a479-f70e09a77220\" target=\"_top\" title=\"psysml:665f7084-89dd-4cc9-a479-f70e09a77220\" xlink:actuate=\"onRequest\" xlink:href=\"psysml:665f7084-89dd-4cc9-a479-f70e09a77220\" xlink:show=\"new\" xlink:title=\"psysml:665f7084-89dd-4cc9-a479-f70e09a77220\" xlink:type=\"simple\"><rect fill=\"#FFFFFF\" height=\"45.9375\" id=\"E3\" rx=\"10\" ry=\"10\" style=\"stroke: #383838; stroke-width: 1.5;\" width=\"71\" x=\"50.5\" y=\"41\"/><text fill=\"#000000\" font-family=\"sans-serif\" font-size=\"12\" font-style=\"italic\" lengthAdjust=\"spacingAndGlyphs\" textLength=\"69\" x=\"51.5\" y=\"57.1387\">«attribute»</text><text fill=\"#000000\" font-family=\"sans-serif\" font-size=\"12\" lengthAdjust=\"spacingAndGlyphs\" textLength=\"24\" x=\"74\" y=\"71.1074\">a: A</text><line style=\"stroke: #383838; stroke-width: 1.5;\" x1=\"51.5\" x2=\"120.5\" y1=\"78.9375\" y2=\"78.9375\"/></a><!--MD5=[ebbe1d658d1005bcc118a6aa81145e00]\n",
       "class E4--><a href=\"psysml:ea0c6e06-a87b-4616-91bc-ba79196303d0\" target=\"_top\" title=\"psysml:ea0c6e06-a87b-4616-91bc-ba79196303d0\" xlink:actuate=\"onRequest\" xlink:href=\"psysml:ea0c6e06-a87b-4616-91bc-ba79196303d0\" xlink:show=\"new\" xlink:title=\"psysml:ea0c6e06-a87b-4616-91bc-ba79196303d0\" xlink:type=\"simple\"><rect fill=\"#FFFFFF\" height=\"45.9375\" id=\"E4\" style=\"stroke: #383838; stroke-width: 1.5;\" width=\"108\" x=\"32\" y=\"122\"/><text fill=\"#000000\" font-family=\"sans-serif\" font-size=\"12\" font-style=\"italic\" lengthAdjust=\"spacingAndGlyphs\" textLength=\"106\" x=\"33\" y=\"138.1387\">«calculation def»</text><text fill=\"#000000\" font-family=\"sans-serif\" font-size=\"12\" lengthAdjust=\"spacingAndGlyphs\" textLength=\"7\" x=\"82.5\" y=\"152.1074\">F</text><line style=\"stroke: #383838; stroke-width: 1.5;\" x1=\"33\" x2=\"139\" y1=\"159.9375\" y2=\"159.9375\"/></a><!--MD5=[270fce915f116d4de14055a7c1d9a0f3]\n",
       "class E5--><a href=\"psysml:1ebb82ef-cdf5-4836-9887-d34bbc134ce1\" target=\"_top\" title=\"psysml:1ebb82ef-cdf5-4836-9887-d34bbc134ce1\" xlink:actuate=\"onRequest\" xlink:href=\"psysml:1ebb82ef-cdf5-4836-9887-d34bbc134ce1\" xlink:show=\"new\" xlink:title=\"psysml:1ebb82ef-cdf5-4836-9887-d34bbc134ce1\" xlink:type=\"simple\"><rect fill=\"#FFFFFF\" height=\"45.9375\" id=\"E5\" rx=\"10\" ry=\"10\" style=\"stroke: #383838; stroke-width: 1.5;\" width=\"71\" x=\"50.5\" y=\"203\"/><text fill=\"#000000\" font-family=\"sans-serif\" font-size=\"12\" font-style=\"italic\" lengthAdjust=\"spacingAndGlyphs\" textLength=\"69\" x=\"51.5\" y=\"219.1387\">«attribute»</text><text fill=\"#000000\" font-family=\"sans-serif\" font-size=\"12\" lengthAdjust=\"spacingAndGlyphs\" textLength=\"4\" x=\"84\" y=\"233.1074\">f</text><line style=\"stroke: #383838; stroke-width: 1.5;\" x1=\"51.5\" x2=\"120.5\" y1=\"240.9375\" y2=\"240.9375\"/></a><!--MD5=[60a26617385b1d2d0262a64233df1f8d]\n",
       "class E6--><a href=\"psysml:22e07e99-e7e6-486c-b8ca-f79edb8ad4e8\" target=\"_top\" title=\"psysml:22e07e99-e7e6-486c-b8ca-f79edb8ad4e8\" xlink:actuate=\"onRequest\" xlink:href=\"psysml:22e07e99-e7e6-486c-b8ca-f79edb8ad4e8\" xlink:show=\"new\" xlink:title=\"psysml:22e07e99-e7e6-486c-b8ca-f79edb8ad4e8\" xlink:type=\"simple\"><rect fill=\"#FFFFFF\" height=\"45.9375\" id=\"E6\" rx=\"10\" ry=\"10\" style=\"stroke: #383838; stroke-width: 1.5;\" width=\"71\" x=\"50.5\" y=\"284\"/><text fill=\"#000000\" font-family=\"sans-serif\" font-size=\"12\" font-style=\"italic\" lengthAdjust=\"spacingAndGlyphs\" textLength=\"69\" x=\"51.5\" y=\"300.1387\">«attribute»</text><text fill=\"#000000\" font-family=\"sans-serif\" font-size=\"12\" lengthAdjust=\"spacingAndGlyphs\" textLength=\"8\" x=\"82\" y=\"314.1074\">g</text><line style=\"stroke: #383838; stroke-width: 1.5;\" x1=\"51.5\" x2=\"120.5\" y1=\"321.9375\" y2=\"321.9375\"/></a><!--MD5=[2156ba9850f5573cc1fc38a6a4b2f02b]\n",
       "class E7--><a href=\"psysml:a8be3d15-ac76-451a-a4cf-87ef8e02e637\" target=\"_top\" title=\"psysml:a8be3d15-ac76-451a-a4cf-87ef8e02e637\" xlink:actuate=\"onRequest\" xlink:href=\"psysml:a8be3d15-ac76-451a-a4cf-87ef8e02e637\" xlink:show=\"new\" xlink:title=\"psysml:a8be3d15-ac76-451a-a4cf-87ef8e02e637\" xlink:type=\"simple\"><rect fill=\"#FFFFFF\" height=\"45.9375\" id=\"E7\" rx=\"10\" ry=\"10\" style=\"stroke: #383838; stroke-width: 1.5;\" width=\"71\" x=\"50.5\" y=\"365\"/><text fill=\"#000000\" font-family=\"sans-serif\" font-size=\"12\" font-style=\"italic\" lengthAdjust=\"spacingAndGlyphs\" textLength=\"69\" x=\"51.5\" y=\"381.1387\">«attribute»</text><text fill=\"#000000\" font-family=\"sans-serif\" font-size=\"12\" lengthAdjust=\"spacingAndGlyphs\" textLength=\"8\" x=\"82\" y=\"395.1074\">b</text><line style=\"stroke: #383838; stroke-width: 1.5;\" x1=\"51.5\" x2=\"120.5\" y1=\"402.9375\" y2=\"402.9375\"/></a><!--MD5=[b9389687b975829384b498ac4b7476b2]\n",
       "class E8--><a href=\"psysml:88e99412-8df3-4a94-a568-1984bea0c190\" target=\"_top\" title=\"psysml:88e99412-8df3-4a94-a568-1984bea0c190\" xlink:actuate=\"onRequest\" xlink:href=\"psysml:88e99412-8df3-4a94-a568-1984bea0c190\" xlink:show=\"new\" xlink:title=\"psysml:88e99412-8df3-4a94-a568-1984bea0c190\" xlink:type=\"simple\"><rect fill=\"#FFFFFF\" height=\"45.9375\" id=\"E8\" rx=\"10\" ry=\"10\" style=\"stroke: #383838; stroke-width: 1.5;\" width=\"71\" x=\"50.5\" y=\"446\"/><text fill=\"#000000\" font-family=\"sans-serif\" font-size=\"12\" font-style=\"italic\" lengthAdjust=\"spacingAndGlyphs\" textLength=\"69\" x=\"51.5\" y=\"462.1387\">«attribute»</text><text fill=\"#000000\" font-family=\"sans-serif\" font-size=\"12\" lengthAdjust=\"spacingAndGlyphs\" textLength=\"7\" x=\"82.5\" y=\"476.1074\">c</text><line style=\"stroke: #383838; stroke-width: 1.5;\" x1=\"51.5\" x2=\"120.5\" y1=\"483.9375\" y2=\"483.9375\"/></a><!--MD5=[05d275557350bfb9b23a4ef7222b4c39]\n",
       "link E3 to E2--><a href=\"psysml:47946f32-7338-4adb-a6af-ffcb2b2265dd\" target=\"_top\" title=\"psysml:47946f32-7338-4adb-a6af-ffcb2b2265dd\" xlink:actuate=\"onRequest\" xlink:href=\"psysml:47946f32-7338-4adb-a6af-ffcb2b2265dd\" xlink:show=\"new\" xlink:title=\"psysml:47946f32-7338-4adb-a6af-ffcb2b2265dd\" xlink:type=\"simple\"><path d=\"M121.71,75.47 C141.61,82.04 167.25,90.51 190.81,98.3 \" fill=\"none\" id=\"E3-&gt;E2\" style=\"stroke: #383838; stroke-width: 1.0;\"/><polygon fill=\"#FFFFFF\" points=\"209.94,104.62,189.7032,105.3073,194.0944,92.0138,209.94,104.62\" style=\"stroke: #383838; stroke-width: 1.0;\"/><ellipse cx=\"184.9182\" cy=\"101.6204\" fill=\"#383838\" rx=\"2\" ry=\"2\" style=\"stroke: #383838; stroke-width: 1.0;\"/><ellipse cx=\"188.0547\" cy=\"92.125\" fill=\"#383838\" rx=\"2\" ry=\"2\" style=\"stroke: #383838; stroke-width: 1.0;\"/></a><!--MD5=[ddeed8deb2209213b62e6cfabaa108b2]\n",
       "reverse link E4 to E2--><a href=\"psysml:e1d329d3-cb1e-45c3-b1d5-2fcf771779ef\" target=\"_top\" title=\"psysml:e1d329d3-cb1e-45c3-b1d5-2fcf771779ef\" xlink:actuate=\"onRequest\" xlink:href=\"psysml:e1d329d3-cb1e-45c3-b1d5-2fcf771779ef\" xlink:show=\"new\" xlink:title=\"psysml:e1d329d3-cb1e-45c3-b1d5-2fcf771779ef\" xlink:type=\"simple\"><path d=\"M153.04,135.26 C172,132.46 192.29,129.47 209.82,126.88 \" fill=\"none\" id=\"E4&lt;-E2\" style=\"stroke: #383838; stroke-width: 1.0;\"/><polygon fill=\"#FFFFFF\" points=\"140.17,137.16,146.6903,140.2399,152.0411,135.4057,145.5208,132.3258,140.17,137.16\" style=\"stroke: #383838; stroke-width: 1.0;\"/><text fill=\"#000000\" font-family=\"sans-serif\" font-size=\"13\" lengthAdjust=\"spacingAndGlyphs\" textLength=\"8\" x=\"171\" y=\"128.0669\">p</text></a><!--MD5=[c06f47ccd1437591d60d2976baacf516]\n",
       "@startuml\r\n",
       "left to right direction\r\n",
       "skinparam monochrome true\r\n",
       "skinparam classbackgroundcolor white\r\n",
       "skinparam shadowing false\r\n",
       "skinparam wrapWidth 300\r\n",
       "hide circle\r\n",
       "\r\n",
       "package \"ParameterTest\" as E1  [[psysml:adbc474a-2784-4828-be47-026fefc14932 ]]  {\r\n",
       "comp def \"A\" as E2  <<(T,blue) attribute def>> [[psysml:fa211d39-e6da-4efb-a07a-68e935dd1093 ]] {\r\n",
       "- - attributes - -\r\n",
       "x: String\r\n",
       "y: A\r\n",
       "}\r\n",
       "comp usage \"a: A\" as E3  <<(T,blue) attribute>> [[psysml:665f7084-89dd-4cc9-a479-f70e09a77220 ]] {\r\n",
       "}\r\n",
       "comp def \"F\" as E4  <<(T,blue) calculation def>> [[psysml:ea0c6e06-a87b-4616-91bc-ba79196303d0 ]] {\r\n",
       "}\r\n",
       "comp usage \"f\" as E5  <<(T,blue) attribute>> [[psysml:1ebb82ef-cdf5-4836-9887-d34bbc134ce1 ]] {\r\n",
       "}\r\n",
       "comp usage \"g\" as E6  <<(T,blue) attribute>> [[psysml:22e07e99-e7e6-486c-b8ca-f79edb8ad4e8 ]] {\r\n",
       "}\r\n",
       "comp usage \"b\" as E7  <<(T,blue) attribute>> [[psysml:a8be3d15-ac76-451a-a4cf-87ef8e02e637 ]] {\r\n",
       "}\r\n",
       "comp usage \"c\" as E8  <<(T,blue) attribute>> [[psysml:88e99412-8df3-4a94-a568-1984bea0c190 ]] {\r\n",
       "}\r\n",
       "E3 - -:|> E2 [[psysml:47946f32-7338-4adb-a6af-ffcb2b2265dd ]] \r\n",
       "E4 o- - E2 [[psysml:e1d329d3-cb1e-45c3-b1d5-2fcf771779ef ]] : p\r\n",
       "}\r\n",
       "@enduml\r\n",
       "\n",
       "PlantUML version 1.2020.13(Sat Jun 13 12:26:38 UTC 2020)\n",
       "(EPL source distribution)\n",
       "Java Runtime: OpenJDK Runtime Environment\n",
       "JVM: OpenJDK 64-Bit Server VM\n",
       "Default Encoding: UTF-8\n",
       "Language: en\n",
       "Country: null\n",
       "--></g></svg>"
      ]
     },
     "execution_count": 17,
     "metadata": {},
     "output_type": "execute_result"
    }
   ],
   "source": [
    "%viz --style=\"LR\" --view=\"Tree\" \"ParameterTest\""
   ]
  },
  {
   "cell_type": "code",
   "execution_count": 18,
   "id": "4350720b",
   "metadata": {
    "execution": {
     "iopub.execute_input": "2021-06-30T09:18:20.375673Z",
     "iopub.status.busy": "2021-06-30T09:18:20.375280Z",
     "iopub.status.idle": "2021-06-30T09:18:20.380115Z",
     "shell.execute_reply": "2021-06-30T09:18:20.380501Z"
    }
   },
   "outputs": [
    {
     "data": {
      "image/svg+xml": [
       "<?xml version=\"1.0\" encoding=\"UTF-8\" standalone=\"no\"?><svg xmlns=\"http://www.w3.org/2000/svg\" xmlns:xlink=\"http://www.w3.org/1999/xlink\" contentScriptType=\"application/ecmascript\" contentStyleType=\"text/css\" height=\"12px\" preserveAspectRatio=\"none\" style=\"width:12px;height:12px;\" version=\"1.1\" viewBox=\"0 0 12 12\" width=\"12px\" zoomAndPan=\"magnify\"><defs/><g><!--MD5=[19d285c9d72a204eba4e2cd117d745e8]\n",
       "@startuml\r\n",
       "left to right direction\r\n",
       "skinparam monochrome true\r\n",
       "skinparam classbackgroundcolor white\r\n",
       "skinparam shadowing false\r\n",
       "skinparam wrapWidth 300\r\n",
       "hide circle\r\n",
       "\r\n",
       "@enduml\r\n",
       "\n",
       "PlantUML version 1.2020.13(Sat Jun 13 12:26:38 UTC 2020)\n",
       "(EPL source distribution)\n",
       "Java Runtime: OpenJDK Runtime Environment\n",
       "JVM: OpenJDK 64-Bit Server VM\n",
       "Default Encoding: UTF-8\n",
       "Language: en\n",
       "Country: null\n",
       "--></g></svg>"
      ]
     },
     "execution_count": 18,
     "metadata": {},
     "output_type": "execute_result"
    }
   ],
   "source": [
    "%viz --style=\"LR\" --view=\"State\" \"ParameterTest\""
   ]
  },
  {
   "cell_type": "code",
   "execution_count": 19,
   "id": "102afb1d",
   "metadata": {
    "execution": {
     "iopub.execute_input": "2021-06-30T09:18:20.434100Z",
     "iopub.status.busy": "2021-06-30T09:18:20.433076Z",
     "iopub.status.idle": "2021-06-30T09:18:20.487261Z",
     "shell.execute_reply": "2021-06-30T09:18:20.486826Z"
    }
   },
   "outputs": [
    {
     "data": {
      "image/svg+xml": [
       "<?xml version=\"1.0\" encoding=\"UTF-8\" standalone=\"no\"?><svg xmlns=\"http://www.w3.org/2000/svg\" xmlns:xlink=\"http://www.w3.org/1999/xlink\" contentScriptType=\"application/ecmascript\" contentStyleType=\"text/css\" height=\"541px\" preserveAspectRatio=\"none\" style=\"width:336px;height:541px;\" version=\"1.1\" viewBox=\"0 0 336 541\" width=\"336px\" zoomAndPan=\"magnify\"><defs/><g><!--MD5=[fbc87193dbaf4d95561dea2c320d4a47]\n",
       "cluster E1--><a href=\"psysml:adbc474a-2784-4828-be47-026fefc14932\" target=\"_top\" title=\"psysml:adbc474a-2784-4828-be47-026fefc14932\" xlink:actuate=\"onRequest\" xlink:href=\"psysml:adbc474a-2784-4828-be47-026fefc14932\" xlink:show=\"new\" xlink:title=\"psysml:adbc474a-2784-4828-be47-026fefc14932\" xlink:type=\"simple\"><polygon fill=\"#FFFFFF\" points=\"16,6,139,6,146,28.2969,314.72,28.2969,314.72,529,16,529,16,6\" style=\"stroke: #000000; stroke-width: 1.5;\"/><line style=\"stroke: #000000; stroke-width: 1.5;\" x1=\"16\" x2=\"146\" y1=\"28.2969\" y2=\"28.2969\"/><text fill=\"#000000\" font-family=\"sans-serif\" font-size=\"14\" font-weight=\"bold\" lengthAdjust=\"spacingAndGlyphs\" textLength=\"117\" x=\"20\" y=\"20.9951\">ParameterTest</text></a><!--MD5=[f6df4d0ebaf0b5dfb2ced0ae5af7c670]\n",
       "cluster E4--><a href=\"psysml:ea0c6e06-a87b-4616-91bc-ba79196303d0\" target=\"_top\" title=\"psysml:ea0c6e06-a87b-4616-91bc-ba79196303d0\" xlink:actuate=\"onRequest\" xlink:href=\"psysml:ea0c6e06-a87b-4616-91bc-ba79196303d0\" xlink:show=\"new\" xlink:title=\"psysml:ea0c6e06-a87b-4616-91bc-ba79196303d0\" xlink:type=\"simple\"><rect fill=\"#FFFFFF\" height=\"47\" id=\"E4\" style=\"stroke: #383838; stroke-width: 1.5;\" width=\"235.22\" x=\"49.5\" y=\"55\"/><rect fill=\"#F8F8F8\" height=\"37.9375\" style=\"stroke: #383838; stroke-width: 1.5;\" width=\"235.22\" x=\"49.5\" y=\"55\"/><text fill=\"#000000\" font-family=\"sans-serif\" font-size=\"12\" font-style=\"italic\" lengthAdjust=\"spacingAndGlyphs\" textLength=\"106\" x=\"114.11\" y=\"71.1387\">«calculation def»</text><text fill=\"#000000\" font-family=\"sans-serif\" font-size=\"12\" lengthAdjust=\"spacingAndGlyphs\" textLength=\"7\" x=\"163.61\" y=\"85.1074\">F</text></a><g id=\"E1.E2\"><a href=\"psysml:fa211d39-e6da-4efb-a07a-68e935dd1093\" target=\"_top\" title=\"psysml:fa211d39-e6da-4efb-a07a-68e935dd1093\" xlink:actuate=\"onRequest\" xlink:href=\"psysml:fa211d39-e6da-4efb-a07a-68e935dd1093\" xlink:show=\"new\" xlink:title=\"psysml:fa211d39-e6da-4efb-a07a-68e935dd1093\" xlink:type=\"simple\"><rect fill=\"#FFFFFF\" height=\"42.9375\" id=\"E2\" style=\"stroke: #383838; stroke-width: 1.5;\" width=\"100\" x=\"135.5\" y=\"144.5\"/><rect fill=\"#F8F8F8\" height=\"37.9375\" style=\"stroke: #383838; stroke-width: 1.5;\" width=\"100\" x=\"135.5\" y=\"144.5\"/><text fill=\"#000000\" font-family=\"sans-serif\" font-size=\"12\" font-style=\"italic\" lengthAdjust=\"spacingAndGlyphs\" textLength=\"93\" x=\"139\" y=\"160.6387\">«attribute def»</text><text fill=\"#000000\" font-family=\"sans-serif\" font-size=\"12\" lengthAdjust=\"spacingAndGlyphs\" textLength=\"8\" x=\"181.5\" y=\"174.6074\">A</text></a></g><!--MD5=[09b614a08d8cba4a07c9adeb5e0fee81]\n",
       "class E3--><a href=\"psysml:665f7084-89dd-4cc9-a479-f70e09a77220\" target=\"_top\" title=\"psysml:665f7084-89dd-4cc9-a479-f70e09a77220\" xlink:actuate=\"onRequest\" xlink:href=\"psysml:665f7084-89dd-4cc9-a479-f70e09a77220\" xlink:show=\"new\" xlink:title=\"psysml:665f7084-89dd-4cc9-a479-f70e09a77220\" xlink:type=\"simple\"><rect fill=\"#FFFFFF\" height=\"45.9375\" id=\"E3\" rx=\"10\" ry=\"10\" style=\"stroke: #383838; stroke-width: 1.5;\" width=\"71\" x=\"32\" y=\"143\"/><text fill=\"#000000\" font-family=\"sans-serif\" font-size=\"12\" font-style=\"italic\" lengthAdjust=\"spacingAndGlyphs\" textLength=\"69\" x=\"33\" y=\"159.1387\">«attribute»</text><text fill=\"#000000\" font-family=\"sans-serif\" font-size=\"12\" lengthAdjust=\"spacingAndGlyphs\" textLength=\"24\" x=\"55.5\" y=\"173.1074\">a: A</text><line style=\"stroke: #383838; stroke-width: 1.5;\" x1=\"33\" x2=\"102\" y1=\"180.9375\" y2=\"180.9375\"/></a><!--MD5=[b9389687b975829384b498ac4b7476b2]\n",
       "class E8--><a href=\"psysml:1ebb82ef-cdf5-4836-9887-d34bbc134ce1\" target=\"_top\" title=\"psysml:1ebb82ef-cdf5-4836-9887-d34bbc134ce1\" xlink:actuate=\"onRequest\" xlink:href=\"psysml:1ebb82ef-cdf5-4836-9887-d34bbc134ce1\" xlink:show=\"new\" xlink:title=\"psysml:1ebb82ef-cdf5-4836-9887-d34bbc134ce1\" xlink:type=\"simple\"><rect fill=\"#FFFFFF\" height=\"45.9375\" id=\"E8\" rx=\"10\" ry=\"10\" style=\"stroke: #383838; stroke-width: 1.5;\" width=\"71\" x=\"32\" y=\"224\"/><text fill=\"#000000\" font-family=\"sans-serif\" font-size=\"12\" font-style=\"italic\" lengthAdjust=\"spacingAndGlyphs\" textLength=\"69\" x=\"33\" y=\"240.1387\">«attribute»</text><text fill=\"#000000\" font-family=\"sans-serif\" font-size=\"12\" lengthAdjust=\"spacingAndGlyphs\" textLength=\"4\" x=\"65.5\" y=\"254.1074\">f</text><line style=\"stroke: #383838; stroke-width: 1.5;\" x1=\"33\" x2=\"102\" y1=\"261.9375\" y2=\"261.9375\"/></a><!--MD5=[fd4143e9d270a159db93a4ea2a975926]\n",
       "class E9--><a href=\"psysml:22e07e99-e7e6-486c-b8ca-f79edb8ad4e8\" target=\"_top\" title=\"psysml:22e07e99-e7e6-486c-b8ca-f79edb8ad4e8\" xlink:actuate=\"onRequest\" xlink:href=\"psysml:22e07e99-e7e6-486c-b8ca-f79edb8ad4e8\" xlink:show=\"new\" xlink:title=\"psysml:22e07e99-e7e6-486c-b8ca-f79edb8ad4e8\" xlink:type=\"simple\"><rect fill=\"#FFFFFF\" height=\"45.9375\" id=\"E9\" rx=\"10\" ry=\"10\" style=\"stroke: #383838; stroke-width: 1.5;\" width=\"71\" x=\"32\" y=\"305\"/><text fill=\"#000000\" font-family=\"sans-serif\" font-size=\"12\" font-style=\"italic\" lengthAdjust=\"spacingAndGlyphs\" textLength=\"69\" x=\"33\" y=\"321.1387\">«attribute»</text><text fill=\"#000000\" font-family=\"sans-serif\" font-size=\"12\" lengthAdjust=\"spacingAndGlyphs\" textLength=\"8\" x=\"63.5\" y=\"335.1074\">g</text><line style=\"stroke: #383838; stroke-width: 1.5;\" x1=\"33\" x2=\"102\" y1=\"342.9375\" y2=\"342.9375\"/></a><!--MD5=[96f4274e9e20536e775497830990834d]\n",
       "class E10--><a href=\"psysml:a8be3d15-ac76-451a-a4cf-87ef8e02e637\" target=\"_top\" title=\"psysml:a8be3d15-ac76-451a-a4cf-87ef8e02e637\" xlink:actuate=\"onRequest\" xlink:href=\"psysml:a8be3d15-ac76-451a-a4cf-87ef8e02e637\" xlink:show=\"new\" xlink:title=\"psysml:a8be3d15-ac76-451a-a4cf-87ef8e02e637\" xlink:type=\"simple\"><rect fill=\"#FFFFFF\" height=\"45.9375\" id=\"E10\" rx=\"10\" ry=\"10\" style=\"stroke: #383838; stroke-width: 1.5;\" width=\"71\" x=\"32\" y=\"386\"/><text fill=\"#000000\" font-family=\"sans-serif\" font-size=\"12\" font-style=\"italic\" lengthAdjust=\"spacingAndGlyphs\" textLength=\"69\" x=\"33\" y=\"402.1387\">«attribute»</text><text fill=\"#000000\" font-family=\"sans-serif\" font-size=\"12\" lengthAdjust=\"spacingAndGlyphs\" textLength=\"8\" x=\"63.5\" y=\"416.1074\">b</text><line style=\"stroke: #383838; stroke-width: 1.5;\" x1=\"33\" x2=\"102\" y1=\"423.9375\" y2=\"423.9375\"/></a><!--MD5=[1dd1bfd58a279cf63c5f349dbc8fc6a1]\n",
       "class E11--><a href=\"psysml:88e99412-8df3-4a94-a568-1984bea0c190\" target=\"_top\" title=\"psysml:88e99412-8df3-4a94-a568-1984bea0c190\" xlink:actuate=\"onRequest\" xlink:href=\"psysml:88e99412-8df3-4a94-a568-1984bea0c190\" xlink:show=\"new\" xlink:title=\"psysml:88e99412-8df3-4a94-a568-1984bea0c190\" xlink:type=\"simple\"><rect fill=\"#FFFFFF\" height=\"45.9375\" id=\"E11\" rx=\"10\" ry=\"10\" style=\"stroke: #383838; stroke-width: 1.5;\" width=\"71\" x=\"32\" y=\"467\"/><text fill=\"#000000\" font-family=\"sans-serif\" font-size=\"12\" font-style=\"italic\" lengthAdjust=\"spacingAndGlyphs\" textLength=\"69\" x=\"33\" y=\"483.1387\">«attribute»</text><text fill=\"#000000\" font-family=\"sans-serif\" font-size=\"12\" lengthAdjust=\"spacingAndGlyphs\" textLength=\"7\" x=\"64\" y=\"497.1074\">c</text><line style=\"stroke: #383838; stroke-width: 1.5;\" x1=\"33\" x2=\"102\" y1=\"504.9375\" y2=\"504.9375\"/></a><text fill=\"#000000\" font-family=\"sans-serif\" font-size=\"14\" lengthAdjust=\"spacingAndGlyphs\" textLength=\"9\" x=\"63\" y=\"120.9951\">p</text><rect fill=\"#383838\" height=\"12\" style=\"stroke: #F8F8F8; stroke-width: 1.5;\" width=\"12\" x=\"61.5\" y=\"96\"/><text fill=\"#000000\" font-family=\"sans-serif\" font-size=\"14\" lengthAdjust=\"spacingAndGlyphs\" textLength=\"9\" x=\"63\" y=\"33.6982\">q</text><rect fill=\"#383838\" height=\"12\" style=\"stroke: #F8F8F8; stroke-width: 1.5;\" width=\"12\" x=\"61.5\" y=\"49\"/><text fill=\"#000000\" font-family=\"sans-serif\" font-size=\"14\" lengthAdjust=\"spacingAndGlyphs\" textLength=\"57\" x=\"256.22\" y=\"53.6982\">noname</text><rect fill=\"#383838\" height=\"12\" style=\"stroke: #F8F8F8; stroke-width: 1.5;\" width=\"12\" x=\"278.72\" y=\"69\"/><!--MD5=[05d275557350bfb9b23a4ef7222b4c39]\n",
       "link E3 to E2--><a href=\"psysml:47946f32-7338-4adb-a6af-ffcb2b2265dd\" target=\"_top\" title=\"psysml:47946f32-7338-4adb-a6af-ffcb2b2265dd\" xlink:actuate=\"onRequest\" xlink:href=\"psysml:47946f32-7338-4adb-a6af-ffcb2b2265dd\" xlink:show=\"new\" xlink:title=\"psysml:47946f32-7338-4adb-a6af-ffcb2b2265dd\" xlink:type=\"simple\"><path d=\"M103.3,166 C107.06,166 110.97,166 114.95,166 \" fill=\"none\" id=\"E3-&gt;E2\" style=\"stroke: #383838; stroke-width: 1.0;\"/><polygon fill=\"#FFFFFF\" points=\"135.14,166,116.14,173,116.14,159,135.14,166\" style=\"stroke: #383838; stroke-width: 1.0;\"/><ellipse cx=\"110.44\" cy=\"171\" fill=\"#383838\" rx=\"2\" ry=\"2\" style=\"stroke: #383838; stroke-width: 1.0;\"/><ellipse cx=\"110.44\" cy=\"161\" fill=\"#383838\" rx=\"2\" ry=\"2\" style=\"stroke: #383838; stroke-width: 1.0;\"/></a><!--MD5=[cd2cc398e10bfb08ad82081a1eab8485]\n",
       "@startuml\r\n",
       "skinparam ranksep 10\r\n",
       "skinparam rectangle {\r\n",
       " backgroundColor<<block>> LightGreen\r\n",
       "}\r\n",
       "left to right direction\r\n",
       "skinparam monochrome true\r\n",
       "skinparam classbackgroundcolor white\r\n",
       "skinparam shadowing false\r\n",
       "skinparam wrapWidth 300\r\n",
       "hide circle\r\n",
       "\r\n",
       "package \"ParameterTest\" as E1  [[psysml:adbc474a-2784-4828-be47-026fefc14932 ]]  {\r\n",
       "def \"A\" as E2  <<(T,blue) attribute def>> [[psysml:fa211d39-e6da-4efb-a07a-68e935dd1093 ]] \r\n",
       "comp usage \"a: A\" as E3  <<(T,blue) attribute>> [[psysml:665f7084-89dd-4cc9-a479-f70e09a77220 ]] {\r\n",
       "}\r\n",
       "rec def \"F\" as E4  <<(T,blue) calculation def>> [[psysml:ea0c6e06-a87b-4616-91bc-ba79196303d0 ]] {\r\n",
       "portin \"p\" as E5  [[psysml:e1d329d3-cb1e-45c3-b1d5-2fcf771779ef ]] \r\n",
       "portin \"q\" as E6  [[psysml:b499ebef-2d53-43ba-b86a-de9084e46bb3 ]] \r\n",
       "portout \"noname\" as E7  [[psysml:2e56002b-31e4-43bf-ad2b-cc6ef1aac7ab ]] \r\n",
       "}\r\n",
       "\r\n",
       "comp usage \"f\" as E8  <<(T,blue) attribute>> [[psysml:1ebb82ef-cdf5-4836-9887-d34bbc134ce1 ]] {\r\n",
       "}\r\n",
       "comp usage \"g\" as E9  <<(T,blue) attribute>> [[psysml:22e07e99-e7e6-486c-b8ca-f79edb8ad4e8 ]] {\r\n",
       "}\r\n",
       "comp usage \"b\" as E10  <<(T,blue) attribute>> [[psysml:a8be3d15-ac76-451a-a4cf-87ef8e02e637 ]] {\r\n",
       "}\r\n",
       "comp usage \"c\" as E11  <<(T,blue) attribute>> [[psysml:88e99412-8df3-4a94-a568-1984bea0c190 ]] {\r\n",
       "}\r\n",
       "E3 - -:|> E2 [[psysml:47946f32-7338-4adb-a6af-ffcb2b2265dd ]] \r\n",
       "}\r\n",
       "@enduml\r\n",
       "\n",
       "PlantUML version 1.2020.13(Sat Jun 13 12:26:38 UTC 2020)\n",
       "(EPL source distribution)\n",
       "Java Runtime: OpenJDK Runtime Environment\n",
       "JVM: OpenJDK 64-Bit Server VM\n",
       "Default Encoding: UTF-8\n",
       "Language: en\n",
       "Country: null\n",
       "--></g></svg>"
      ]
     },
     "execution_count": 19,
     "metadata": {},
     "output_type": "execute_result"
    }
   ],
   "source": [
    "%viz --style=\"LR\" --view=\"Interconnection\" \"ParameterTest\""
   ]
  },
  {
   "cell_type": "code",
   "execution_count": 20,
   "id": "b85bdc43",
   "metadata": {
    "execution": {
     "iopub.execute_input": "2021-06-30T09:18:20.537328Z",
     "iopub.status.busy": "2021-06-30T09:18:20.536918Z",
     "iopub.status.idle": "2021-06-30T09:18:20.565172Z",
     "shell.execute_reply": "2021-06-30T09:18:20.564441Z"
    }
   },
   "outputs": [
    {
     "data": {
      "image/svg+xml": [
       "<?xml version=\"1.0\" encoding=\"UTF-8\" standalone=\"no\"?><svg xmlns=\"http://www.w3.org/2000/svg\" xmlns:xlink=\"http://www.w3.org/1999/xlink\" contentScriptType=\"application/ecmascript\" contentStyleType=\"text/css\" height=\"121px\" preserveAspectRatio=\"none\" style=\"width:251px;height:121px;\" version=\"1.1\" viewBox=\"0 0 251 121\" width=\"251px\" zoomAndPan=\"magnify\"><defs/><g><!--MD5=[fbc87193dbaf4d95561dea2c320d4a47]\n",
       "cluster E1--><a href=\"psysml:ea0c6e06-a87b-4616-91bc-ba79196303d0\" target=\"_top\" title=\"psysml:ea0c6e06-a87b-4616-91bc-ba79196303d0\" xlink:actuate=\"onRequest\" xlink:href=\"psysml:ea0c6e06-a87b-4616-91bc-ba79196303d0\" xlink:show=\"new\" xlink:title=\"psysml:ea0c6e06-a87b-4616-91bc-ba79196303d0\" xlink:type=\"simple\"><rect fill=\"#FFFFFF\" height=\"47\" id=\"E1\" style=\"stroke: #383838; stroke-width: 1.5;\" width=\"203.72\" x=\"7\" y=\"42.0986\"/><rect fill=\"#F8F8F8\" height=\"37.9375\" style=\"stroke: #383838; stroke-width: 1.5;\" width=\"203.72\" x=\"7\" y=\"42.0986\"/><text fill=\"#000000\" font-family=\"sans-serif\" font-size=\"12\" font-style=\"italic\" lengthAdjust=\"spacingAndGlyphs\" textLength=\"106\" x=\"55.86\" y=\"58.2373\">«calculation def»</text><text fill=\"#000000\" font-family=\"sans-serif\" font-size=\"12\" lengthAdjust=\"spacingAndGlyphs\" textLength=\"7\" x=\"105.36\" y=\"72.2061\">F</text></a><text fill=\"#000000\" font-family=\"sans-serif\" font-size=\"14\" lengthAdjust=\"spacingAndGlyphs\" textLength=\"9\" x=\"20.5\" y=\"108.0938\">p</text><rect fill=\"#383838\" height=\"12\" style=\"stroke: #F8F8F8; stroke-width: 1.5;\" width=\"12\" x=\"19\" y=\"83.0986\"/><text fill=\"#000000\" font-family=\"sans-serif\" font-size=\"14\" lengthAdjust=\"spacingAndGlyphs\" textLength=\"9\" x=\"20.5\" y=\"20.7969\">q</text><rect fill=\"#383838\" height=\"12\" style=\"stroke: #F8F8F8; stroke-width: 1.5;\" width=\"12\" x=\"19\" y=\"36.0986\"/><text fill=\"#000000\" font-family=\"sans-serif\" font-size=\"14\" lengthAdjust=\"spacingAndGlyphs\" textLength=\"57\" x=\"182.22\" y=\"40.7969\">noname</text><rect fill=\"#383838\" height=\"12\" style=\"stroke: #F8F8F8; stroke-width: 1.5;\" width=\"12\" x=\"204.72\" y=\"56.0986\"/><!--MD5=[09569323857204c3ee4a927876d3441f]\n",
       "@startuml\r\n",
       "skinparam ranksep 8\r\n",
       "left to right direction\r\n",
       "skinparam monochrome true\r\n",
       "skinparam classbackgroundcolor white\r\n",
       "skinparam shadowing false\r\n",
       "skinparam wrapWidth 300\r\n",
       "hide circle\r\n",
       "\r\n",
       "rec def \"F\" as E1  <<(T,blue) calculation def>> [[psysml:ea0c6e06-a87b-4616-91bc-ba79196303d0 ]] {\r\n",
       "portin \"p\" as E2  [[psysml:e1d329d3-cb1e-45c3-b1d5-2fcf771779ef ]] \r\n",
       "portin \"q\" as E3  [[psysml:b499ebef-2d53-43ba-b86a-de9084e46bb3 ]] \r\n",
       "portout \"noname\" as E4  [[psysml:2e56002b-31e4-43bf-ad2b-cc6ef1aac7ab ]] \r\n",
       "}\r\n",
       "\r\n",
       "@enduml\r\n",
       "\n",
       "PlantUML version 1.2020.13(Sat Jun 13 12:26:38 UTC 2020)\n",
       "(EPL source distribution)\n",
       "Java Runtime: OpenJDK Runtime Environment\n",
       "JVM: OpenJDK 64-Bit Server VM\n",
       "Default Encoding: UTF-8\n",
       "Language: en\n",
       "Country: null\n",
       "--></g></svg>"
      ]
     },
     "execution_count": 20,
     "metadata": {},
     "output_type": "execute_result"
    }
   ],
   "source": [
    "%viz --style=\"LR\" --view=\"Action\" \"ParameterTest\""
   ]
  },
  {
   "cell_type": "code",
   "execution_count": 21,
   "id": "1114036a",
   "metadata": {
    "execution": {
     "iopub.execute_input": "2021-06-30T09:18:20.616369Z",
     "iopub.status.busy": "2021-06-30T09:18:20.614974Z",
     "iopub.status.idle": "2021-06-30T09:18:20.688949Z",
     "shell.execute_reply": "2021-06-30T09:18:20.687140Z"
    }
   },
   "outputs": [
    {
     "data": {
      "image/svg+xml": [
       "<?xml version=\"1.0\" encoding=\"UTF-8\" standalone=\"no\"?><svg xmlns=\"http://www.w3.org/2000/svg\" xmlns:xlink=\"http://www.w3.org/1999/xlink\" contentScriptType=\"application/ecmascript\" contentStyleType=\"text/css\" height=\"520px\" preserveAspectRatio=\"none\" style=\"width:343px;height:520px;\" version=\"1.1\" viewBox=\"0 0 343 520\" width=\"343px\" zoomAndPan=\"magnify\"><defs/><g><!--MD5=[fbc87193dbaf4d95561dea2c320d4a47]\n",
       "cluster E1--><a href=\"psysml:adbc474a-2784-4828-be47-026fefc14932\" target=\"_top\" title=\"psysml:adbc474a-2784-4828-be47-026fefc14932\" xlink:actuate=\"onRequest\" xlink:href=\"psysml:adbc474a-2784-4828-be47-026fefc14932\" xlink:show=\"new\" xlink:title=\"psysml:adbc474a-2784-4828-be47-026fefc14932\" xlink:type=\"simple\"><polygon fill=\"#FFFFFF\" points=\"16,6,139,6,146,28.2969,321,28.2969,321,508,16,508,16,6\" style=\"stroke: #000000; stroke-width: 1.5;\"/><line style=\"stroke: #000000; stroke-width: 1.5;\" x1=\"16\" x2=\"146\" y1=\"28.2969\" y2=\"28.2969\"/><text fill=\"#000000\" font-family=\"sans-serif\" font-size=\"14\" font-weight=\"bold\" lengthAdjust=\"spacingAndGlyphs\" textLength=\"117\" x=\"20\" y=\"20.9951\">ParameterTest</text></a><!--MD5=[b4997ac47864f28c2f74865a473b2911]\n",
       "class E2--><a href=\"psysml:fa211d39-e6da-4efb-a07a-68e935dd1093\" target=\"_top\" title=\"psysml:fa211d39-e6da-4efb-a07a-68e935dd1093\" xlink:actuate=\"onRequest\" xlink:href=\"psysml:fa211d39-e6da-4efb-a07a-68e935dd1093\" xlink:show=\"new\" xlink:title=\"psysml:fa211d39-e6da-4efb-a07a-68e935dd1093\" xlink:type=\"simple\"><rect fill=\"#FFFFFF\" height=\"88.3516\" id=\"E2\" style=\"stroke: #383838; stroke-width: 1.5;\" width=\"95\" x=\"210\" y=\"76\"/><text fill=\"#000000\" font-family=\"sans-serif\" font-size=\"12\" font-style=\"italic\" lengthAdjust=\"spacingAndGlyphs\" textLength=\"93\" x=\"211\" y=\"92.1387\">«attribute def»</text><text fill=\"#000000\" font-family=\"sans-serif\" font-size=\"12\" lengthAdjust=\"spacingAndGlyphs\" textLength=\"8\" x=\"253.5\" y=\"106.1074\">A</text><line style=\"stroke: #383838; stroke-width: 1.5;\" x1=\"211\" x2=\"304\" y1=\"113.9375\" y2=\"113.9375\"/><text fill=\"#000000\" font-family=\"sans-serif\" font-size=\"11\" lengthAdjust=\"spacingAndGlyphs\" textLength=\"48\" x=\"216\" y=\"144.9526\">x: String</text><text fill=\"#000000\" font-family=\"sans-serif\" font-size=\"11\" lengthAdjust=\"spacingAndGlyphs\" textLength=\"21\" x=\"216\" y=\"157.7573\">y: A</text><line style=\"stroke: #383838; stroke-width: 1.0;\" x1=\"211\" x2=\"230\" y1=\"128.3398\" y2=\"128.3398\"/><text fill=\"#000000\" font-family=\"sans-serif\" font-size=\"11\" lengthAdjust=\"spacingAndGlyphs\" textLength=\"55\" x=\"230\" y=\"131.6479\">attributes</text><line style=\"stroke: #383838; stroke-width: 1.0;\" x1=\"285\" x2=\"304\" y1=\"128.3398\" y2=\"128.3398\"/></a><!--MD5=[09b614a08d8cba4a07c9adeb5e0fee81]\n",
       "class E3--><a href=\"psysml:665f7084-89dd-4cc9-a479-f70e09a77220\" target=\"_top\" title=\"psysml:665f7084-89dd-4cc9-a479-f70e09a77220\" xlink:actuate=\"onRequest\" xlink:href=\"psysml:665f7084-89dd-4cc9-a479-f70e09a77220\" xlink:show=\"new\" xlink:title=\"psysml:665f7084-89dd-4cc9-a479-f70e09a77220\" xlink:type=\"simple\"><rect fill=\"#FFFFFF\" height=\"45.9375\" id=\"E3\" rx=\"10\" ry=\"10\" style=\"stroke: #383838; stroke-width: 1.5;\" width=\"71\" x=\"50.5\" y=\"41\"/><text fill=\"#000000\" font-family=\"sans-serif\" font-size=\"12\" font-style=\"italic\" lengthAdjust=\"spacingAndGlyphs\" textLength=\"69\" x=\"51.5\" y=\"57.1387\">«attribute»</text><text fill=\"#000000\" font-family=\"sans-serif\" font-size=\"12\" lengthAdjust=\"spacingAndGlyphs\" textLength=\"24\" x=\"74\" y=\"71.1074\">a: A</text><line style=\"stroke: #383838; stroke-width: 1.5;\" x1=\"51.5\" x2=\"120.5\" y1=\"78.9375\" y2=\"78.9375\"/></a><!--MD5=[ebbe1d658d1005bcc118a6aa81145e00]\n",
       "class E4--><a href=\"psysml:ea0c6e06-a87b-4616-91bc-ba79196303d0\" target=\"_top\" title=\"psysml:ea0c6e06-a87b-4616-91bc-ba79196303d0\" xlink:actuate=\"onRequest\" xlink:href=\"psysml:ea0c6e06-a87b-4616-91bc-ba79196303d0\" xlink:show=\"new\" xlink:title=\"psysml:ea0c6e06-a87b-4616-91bc-ba79196303d0\" xlink:type=\"simple\"><rect fill=\"#FFFFFF\" height=\"45.9375\" id=\"E4\" style=\"stroke: #383838; stroke-width: 1.5;\" width=\"108\" x=\"32\" y=\"122\"/><text fill=\"#000000\" font-family=\"sans-serif\" font-size=\"12\" font-style=\"italic\" lengthAdjust=\"spacingAndGlyphs\" textLength=\"106\" x=\"33\" y=\"138.1387\">«calculation def»</text><text fill=\"#000000\" font-family=\"sans-serif\" font-size=\"12\" lengthAdjust=\"spacingAndGlyphs\" textLength=\"7\" x=\"82.5\" y=\"152.1074\">F</text><line style=\"stroke: #383838; stroke-width: 1.5;\" x1=\"33\" x2=\"139\" y1=\"159.9375\" y2=\"159.9375\"/></a><!--MD5=[270fce915f116d4de14055a7c1d9a0f3]\n",
       "class E5--><a href=\"psysml:1ebb82ef-cdf5-4836-9887-d34bbc134ce1\" target=\"_top\" title=\"psysml:1ebb82ef-cdf5-4836-9887-d34bbc134ce1\" xlink:actuate=\"onRequest\" xlink:href=\"psysml:1ebb82ef-cdf5-4836-9887-d34bbc134ce1\" xlink:show=\"new\" xlink:title=\"psysml:1ebb82ef-cdf5-4836-9887-d34bbc134ce1\" xlink:type=\"simple\"><rect fill=\"#FFFFFF\" height=\"45.9375\" id=\"E5\" rx=\"10\" ry=\"10\" style=\"stroke: #383838; stroke-width: 1.5;\" width=\"71\" x=\"50.5\" y=\"203\"/><text fill=\"#000000\" font-family=\"sans-serif\" font-size=\"12\" font-style=\"italic\" lengthAdjust=\"spacingAndGlyphs\" textLength=\"69\" x=\"51.5\" y=\"219.1387\">«attribute»</text><text fill=\"#000000\" font-family=\"sans-serif\" font-size=\"12\" lengthAdjust=\"spacingAndGlyphs\" textLength=\"4\" x=\"84\" y=\"233.1074\">f</text><line style=\"stroke: #383838; stroke-width: 1.5;\" x1=\"51.5\" x2=\"120.5\" y1=\"240.9375\" y2=\"240.9375\"/></a><!--MD5=[60a26617385b1d2d0262a64233df1f8d]\n",
       "class E6--><a href=\"psysml:22e07e99-e7e6-486c-b8ca-f79edb8ad4e8\" target=\"_top\" title=\"psysml:22e07e99-e7e6-486c-b8ca-f79edb8ad4e8\" xlink:actuate=\"onRequest\" xlink:href=\"psysml:22e07e99-e7e6-486c-b8ca-f79edb8ad4e8\" xlink:show=\"new\" xlink:title=\"psysml:22e07e99-e7e6-486c-b8ca-f79edb8ad4e8\" xlink:type=\"simple\"><rect fill=\"#FFFFFF\" height=\"45.9375\" id=\"E6\" rx=\"10\" ry=\"10\" style=\"stroke: #383838; stroke-width: 1.5;\" width=\"71\" x=\"50.5\" y=\"284\"/><text fill=\"#000000\" font-family=\"sans-serif\" font-size=\"12\" font-style=\"italic\" lengthAdjust=\"spacingAndGlyphs\" textLength=\"69\" x=\"51.5\" y=\"300.1387\">«attribute»</text><text fill=\"#000000\" font-family=\"sans-serif\" font-size=\"12\" lengthAdjust=\"spacingAndGlyphs\" textLength=\"8\" x=\"82\" y=\"314.1074\">g</text><line style=\"stroke: #383838; stroke-width: 1.5;\" x1=\"51.5\" x2=\"120.5\" y1=\"321.9375\" y2=\"321.9375\"/></a><!--MD5=[2156ba9850f5573cc1fc38a6a4b2f02b]\n",
       "class E7--><a href=\"psysml:a8be3d15-ac76-451a-a4cf-87ef8e02e637\" target=\"_top\" title=\"psysml:a8be3d15-ac76-451a-a4cf-87ef8e02e637\" xlink:actuate=\"onRequest\" xlink:href=\"psysml:a8be3d15-ac76-451a-a4cf-87ef8e02e637\" xlink:show=\"new\" xlink:title=\"psysml:a8be3d15-ac76-451a-a4cf-87ef8e02e637\" xlink:type=\"simple\"><rect fill=\"#FFFFFF\" height=\"45.9375\" id=\"E7\" rx=\"10\" ry=\"10\" style=\"stroke: #383838; stroke-width: 1.5;\" width=\"71\" x=\"50.5\" y=\"365\"/><text fill=\"#000000\" font-family=\"sans-serif\" font-size=\"12\" font-style=\"italic\" lengthAdjust=\"spacingAndGlyphs\" textLength=\"69\" x=\"51.5\" y=\"381.1387\">«attribute»</text><text fill=\"#000000\" font-family=\"sans-serif\" font-size=\"12\" lengthAdjust=\"spacingAndGlyphs\" textLength=\"8\" x=\"82\" y=\"395.1074\">b</text><line style=\"stroke: #383838; stroke-width: 1.5;\" x1=\"51.5\" x2=\"120.5\" y1=\"402.9375\" y2=\"402.9375\"/></a><!--MD5=[b9389687b975829384b498ac4b7476b2]\n",
       "class E8--><a href=\"psysml:88e99412-8df3-4a94-a568-1984bea0c190\" target=\"_top\" title=\"psysml:88e99412-8df3-4a94-a568-1984bea0c190\" xlink:actuate=\"onRequest\" xlink:href=\"psysml:88e99412-8df3-4a94-a568-1984bea0c190\" xlink:show=\"new\" xlink:title=\"psysml:88e99412-8df3-4a94-a568-1984bea0c190\" xlink:type=\"simple\"><rect fill=\"#FFFFFF\" height=\"45.9375\" id=\"E8\" rx=\"10\" ry=\"10\" style=\"stroke: #383838; stroke-width: 1.5;\" width=\"71\" x=\"50.5\" y=\"446\"/><text fill=\"#000000\" font-family=\"sans-serif\" font-size=\"12\" font-style=\"italic\" lengthAdjust=\"spacingAndGlyphs\" textLength=\"69\" x=\"51.5\" y=\"462.1387\">«attribute»</text><text fill=\"#000000\" font-family=\"sans-serif\" font-size=\"12\" lengthAdjust=\"spacingAndGlyphs\" textLength=\"7\" x=\"82.5\" y=\"476.1074\">c</text><line style=\"stroke: #383838; stroke-width: 1.5;\" x1=\"51.5\" x2=\"120.5\" y1=\"483.9375\" y2=\"483.9375\"/></a><!--MD5=[05d275557350bfb9b23a4ef7222b4c39]\n",
       "link E3 to E2--><a href=\"psysml:47946f32-7338-4adb-a6af-ffcb2b2265dd\" target=\"_top\" title=\"psysml:47946f32-7338-4adb-a6af-ffcb2b2265dd\" xlink:actuate=\"onRequest\" xlink:href=\"psysml:47946f32-7338-4adb-a6af-ffcb2b2265dd\" xlink:show=\"new\" xlink:title=\"psysml:47946f32-7338-4adb-a6af-ffcb2b2265dd\" xlink:type=\"simple\"><path d=\"M121.71,75.47 C141.61,82.04 167.25,90.51 190.81,98.3 \" fill=\"none\" id=\"E3-&gt;E2\" style=\"stroke: #383838; stroke-width: 1.0;\"/><polygon fill=\"#FFFFFF\" points=\"209.94,104.62,189.7032,105.3073,194.0944,92.0138,209.94,104.62\" style=\"stroke: #383838; stroke-width: 1.0;\"/><ellipse cx=\"184.9182\" cy=\"101.6204\" fill=\"#383838\" rx=\"2\" ry=\"2\" style=\"stroke: #383838; stroke-width: 1.0;\"/><ellipse cx=\"188.0547\" cy=\"92.125\" fill=\"#383838\" rx=\"2\" ry=\"2\" style=\"stroke: #383838; stroke-width: 1.0;\"/></a><!--MD5=[ddeed8deb2209213b62e6cfabaa108b2]\n",
       "reverse link E4 to E2--><a href=\"psysml:e1d329d3-cb1e-45c3-b1d5-2fcf771779ef\" target=\"_top\" title=\"psysml:e1d329d3-cb1e-45c3-b1d5-2fcf771779ef\" xlink:actuate=\"onRequest\" xlink:href=\"psysml:e1d329d3-cb1e-45c3-b1d5-2fcf771779ef\" xlink:show=\"new\" xlink:title=\"psysml:e1d329d3-cb1e-45c3-b1d5-2fcf771779ef\" xlink:type=\"simple\"><path d=\"M153.04,135.26 C172,132.46 192.29,129.47 209.82,126.88 \" fill=\"none\" id=\"E4&lt;-E2\" style=\"stroke: #383838; stroke-width: 1.0;\"/><polygon fill=\"#FFFFFF\" points=\"140.17,137.16,146.6903,140.2399,152.0411,135.4057,145.5208,132.3258,140.17,137.16\" style=\"stroke: #383838; stroke-width: 1.0;\"/><text fill=\"#000000\" font-family=\"sans-serif\" font-size=\"13\" lengthAdjust=\"spacingAndGlyphs\" textLength=\"8\" x=\"171\" y=\"128.0669\">p</text></a><!--MD5=[c06f47ccd1437591d60d2976baacf516]\n",
       "@startuml\r\n",
       "left to right direction\r\n",
       "skinparam monochrome true\r\n",
       "skinparam classbackgroundcolor white\r\n",
       "skinparam shadowing false\r\n",
       "skinparam wrapWidth 300\r\n",
       "hide circle\r\n",
       "\r\n",
       "package \"ParameterTest\" as E1  [[psysml:adbc474a-2784-4828-be47-026fefc14932 ]]  {\r\n",
       "comp def \"A\" as E2  <<(T,blue) attribute def>> [[psysml:fa211d39-e6da-4efb-a07a-68e935dd1093 ]] {\r\n",
       "- - attributes - -\r\n",
       "x: String\r\n",
       "y: A\r\n",
       "}\r\n",
       "comp usage \"a: A\" as E3  <<(T,blue) attribute>> [[psysml:665f7084-89dd-4cc9-a479-f70e09a77220 ]] {\r\n",
       "}\r\n",
       "comp def \"F\" as E4  <<(T,blue) calculation def>> [[psysml:ea0c6e06-a87b-4616-91bc-ba79196303d0 ]] {\r\n",
       "}\r\n",
       "comp usage \"f\" as E5  <<(T,blue) attribute>> [[psysml:1ebb82ef-cdf5-4836-9887-d34bbc134ce1 ]] {\r\n",
       "}\r\n",
       "comp usage \"g\" as E6  <<(T,blue) attribute>> [[psysml:22e07e99-e7e6-486c-b8ca-f79edb8ad4e8 ]] {\r\n",
       "}\r\n",
       "comp usage \"b\" as E7  <<(T,blue) attribute>> [[psysml:a8be3d15-ac76-451a-a4cf-87ef8e02e637 ]] {\r\n",
       "}\r\n",
       "comp usage \"c\" as E8  <<(T,blue) attribute>> [[psysml:88e99412-8df3-4a94-a568-1984bea0c190 ]] {\r\n",
       "}\r\n",
       "E3 - -:|> E2 [[psysml:47946f32-7338-4adb-a6af-ffcb2b2265dd ]] \r\n",
       "E4 o- - E2 [[psysml:e1d329d3-cb1e-45c3-b1d5-2fcf771779ef ]] : p\r\n",
       "}\r\n",
       "@enduml\r\n",
       "\n",
       "PlantUML version 1.2020.13(Sat Jun 13 12:26:38 UTC 2020)\n",
       "(EPL source distribution)\n",
       "Java Runtime: OpenJDK Runtime Environment\n",
       "JVM: OpenJDK 64-Bit Server VM\n",
       "Default Encoding: UTF-8\n",
       "Language: en\n",
       "Country: null\n",
       "--></g></svg>"
      ]
     },
     "execution_count": 21,
     "metadata": {},
     "output_type": "execute_result"
    }
   ],
   "source": [
    "%viz --style=\"LR\" --view=\"Sequence\" \"ParameterTest\""
   ]
  },
  {
   "cell_type": "code",
   "execution_count": 22,
   "id": "597d7b29",
   "metadata": {
    "execution": {
     "iopub.execute_input": "2021-06-30T09:18:20.735296Z",
     "iopub.status.busy": "2021-06-30T09:18:20.734795Z",
     "iopub.status.idle": "2021-06-30T09:18:20.821408Z",
     "shell.execute_reply": "2021-06-30T09:18:20.820983Z"
    }
   },
   "outputs": [
    {
     "data": {
      "image/svg+xml": [
       "<?xml version=\"1.0\" encoding=\"UTF-8\" standalone=\"no\"?><svg xmlns=\"http://www.w3.org/2000/svg\" xmlns:xlink=\"http://www.w3.org/1999/xlink\" contentScriptType=\"application/ecmascript\" contentStyleType=\"text/css\" height=\"541px\" preserveAspectRatio=\"none\" style=\"width:474px;height:541px;\" version=\"1.1\" viewBox=\"0 0 474 541\" width=\"474px\" zoomAndPan=\"magnify\"><defs/><g><!--MD5=[fbc87193dbaf4d95561dea2c320d4a47]\n",
       "cluster E1--><a href=\"psysml:adbc474a-2784-4828-be47-026fefc14932\" target=\"_top\" title=\"psysml:adbc474a-2784-4828-be47-026fefc14932\" xlink:actuate=\"onRequest\" xlink:href=\"psysml:adbc474a-2784-4828-be47-026fefc14932\" xlink:show=\"new\" xlink:title=\"psysml:adbc474a-2784-4828-be47-026fefc14932\" xlink:type=\"simple\"><polygon fill=\"#FFFFFF\" points=\"16,6,139,6,146,28.2969,452.72,28.2969,452.72,529,16,529,16,6\" style=\"stroke: #000000; stroke-width: 1.5;\"/><line style=\"stroke: #000000; stroke-width: 1.5;\" x1=\"16\" x2=\"146\" y1=\"28.2969\" y2=\"28.2969\"/><text fill=\"#000000\" font-family=\"sans-serif\" font-size=\"14\" font-weight=\"bold\" lengthAdjust=\"spacingAndGlyphs\" textLength=\"117\" x=\"20\" y=\"20.9951\">ParameterTest</text></a><!--MD5=[f6df4d0ebaf0b5dfb2ced0ae5af7c670]\n",
       "cluster E4--><a href=\"psysml:ea0c6e06-a87b-4616-91bc-ba79196303d0\" target=\"_top\" title=\"psysml:ea0c6e06-a87b-4616-91bc-ba79196303d0\" xlink:actuate=\"onRequest\" xlink:href=\"psysml:ea0c6e06-a87b-4616-91bc-ba79196303d0\" xlink:show=\"new\" xlink:title=\"psysml:ea0c6e06-a87b-4616-91bc-ba79196303d0\" xlink:type=\"simple\"><rect fill=\"#FFFFFF\" height=\"47\" id=\"E4\" style=\"stroke: #383838; stroke-width: 1.5;\" width=\"373.22\" x=\"49.5\" y=\"55\"/><rect fill=\"#F8F8F8\" height=\"37.9375\" style=\"stroke: #383838; stroke-width: 1.5;\" width=\"373.22\" x=\"49.5\" y=\"55\"/><text fill=\"#000000\" font-family=\"sans-serif\" font-size=\"12\" font-style=\"italic\" lengthAdjust=\"spacingAndGlyphs\" textLength=\"106\" x=\"183.11\" y=\"71.1387\">«calculation def»</text><text fill=\"#000000\" font-family=\"sans-serif\" font-size=\"12\" lengthAdjust=\"spacingAndGlyphs\" textLength=\"7\" x=\"232.61\" y=\"85.1074\">F</text></a><!--MD5=[b4997ac47864f28c2f74865a473b2911]\n",
       "class E2--><a href=\"psysml:fa211d39-e6da-4efb-a07a-68e935dd1093\" target=\"_top\" title=\"psysml:fa211d39-e6da-4efb-a07a-68e935dd1093\" xlink:actuate=\"onRequest\" xlink:href=\"psysml:fa211d39-e6da-4efb-a07a-68e935dd1093\" xlink:show=\"new\" xlink:title=\"psysml:fa211d39-e6da-4efb-a07a-68e935dd1093\" xlink:type=\"simple\"><rect fill=\"#FFFFFF\" height=\"88.3516\" id=\"E2\" style=\"stroke: #383838; stroke-width: 1.5;\" width=\"95\" x=\"182\" y=\"128\"/><text fill=\"#000000\" font-family=\"sans-serif\" font-size=\"12\" font-style=\"italic\" lengthAdjust=\"spacingAndGlyphs\" textLength=\"93\" x=\"183\" y=\"144.1387\">«attribute def»</text><text fill=\"#000000\" font-family=\"sans-serif\" font-size=\"12\" lengthAdjust=\"spacingAndGlyphs\" textLength=\"8\" x=\"225.5\" y=\"158.1074\">A</text><line style=\"stroke: #383838; stroke-width: 1.5;\" x1=\"183\" x2=\"276\" y1=\"165.9375\" y2=\"165.9375\"/><text fill=\"#000000\" font-family=\"sans-serif\" font-size=\"11\" lengthAdjust=\"spacingAndGlyphs\" textLength=\"48\" x=\"188\" y=\"196.9526\">x: String</text><text fill=\"#000000\" font-family=\"sans-serif\" font-size=\"11\" lengthAdjust=\"spacingAndGlyphs\" textLength=\"21\" x=\"188\" y=\"209.7573\">y: A</text><line style=\"stroke: #383838; stroke-width: 1.0;\" x1=\"183\" x2=\"202\" y1=\"180.3398\" y2=\"180.3398\"/><text fill=\"#000000\" font-family=\"sans-serif\" font-size=\"11\" lengthAdjust=\"spacingAndGlyphs\" textLength=\"55\" x=\"202\" y=\"183.6479\">attributes</text><line style=\"stroke: #383838; stroke-width: 1.0;\" x1=\"257\" x2=\"276\" y1=\"180.3398\" y2=\"180.3398\"/></a><!--MD5=[09b614a08d8cba4a07c9adeb5e0fee81]\n",
       "class E3--><a href=\"psysml:665f7084-89dd-4cc9-a479-f70e09a77220\" target=\"_top\" title=\"psysml:665f7084-89dd-4cc9-a479-f70e09a77220\" xlink:actuate=\"onRequest\" xlink:href=\"psysml:665f7084-89dd-4cc9-a479-f70e09a77220\" xlink:show=\"new\" xlink:title=\"psysml:665f7084-89dd-4cc9-a479-f70e09a77220\" xlink:type=\"simple\"><rect fill=\"#FFFFFF\" height=\"45.9375\" id=\"E3\" rx=\"10\" ry=\"10\" style=\"stroke: #383838; stroke-width: 1.5;\" width=\"71\" x=\"32\" y=\"143\"/><text fill=\"#000000\" font-family=\"sans-serif\" font-size=\"12\" font-style=\"italic\" lengthAdjust=\"spacingAndGlyphs\" textLength=\"69\" x=\"33\" y=\"159.1387\">«attribute»</text><text fill=\"#000000\" font-family=\"sans-serif\" font-size=\"12\" lengthAdjust=\"spacingAndGlyphs\" textLength=\"24\" x=\"55.5\" y=\"173.1074\">a: A</text><line style=\"stroke: #383838; stroke-width: 1.5;\" x1=\"33\" x2=\"102\" y1=\"180.9375\" y2=\"180.9375\"/></a><!--MD5=[b9389687b975829384b498ac4b7476b2]\n",
       "class E8--><a href=\"psysml:1ebb82ef-cdf5-4836-9887-d34bbc134ce1\" target=\"_top\" title=\"psysml:1ebb82ef-cdf5-4836-9887-d34bbc134ce1\" xlink:actuate=\"onRequest\" xlink:href=\"psysml:1ebb82ef-cdf5-4836-9887-d34bbc134ce1\" xlink:show=\"new\" xlink:title=\"psysml:1ebb82ef-cdf5-4836-9887-d34bbc134ce1\" xlink:type=\"simple\"><rect fill=\"#FFFFFF\" height=\"45.9375\" id=\"E8\" rx=\"10\" ry=\"10\" style=\"stroke: #383838; stroke-width: 1.5;\" width=\"71\" x=\"32\" y=\"224\"/><text fill=\"#000000\" font-family=\"sans-serif\" font-size=\"12\" font-style=\"italic\" lengthAdjust=\"spacingAndGlyphs\" textLength=\"69\" x=\"33\" y=\"240.1387\">«attribute»</text><text fill=\"#000000\" font-family=\"sans-serif\" font-size=\"12\" lengthAdjust=\"spacingAndGlyphs\" textLength=\"4\" x=\"65.5\" y=\"254.1074\">f</text><line style=\"stroke: #383838; stroke-width: 1.5;\" x1=\"33\" x2=\"102\" y1=\"261.9375\" y2=\"261.9375\"/></a><!--MD5=[fd4143e9d270a159db93a4ea2a975926]\n",
       "class E9--><a href=\"psysml:22e07e99-e7e6-486c-b8ca-f79edb8ad4e8\" target=\"_top\" title=\"psysml:22e07e99-e7e6-486c-b8ca-f79edb8ad4e8\" xlink:actuate=\"onRequest\" xlink:href=\"psysml:22e07e99-e7e6-486c-b8ca-f79edb8ad4e8\" xlink:show=\"new\" xlink:title=\"psysml:22e07e99-e7e6-486c-b8ca-f79edb8ad4e8\" xlink:type=\"simple\"><rect fill=\"#FFFFFF\" height=\"45.9375\" id=\"E9\" rx=\"10\" ry=\"10\" style=\"stroke: #383838; stroke-width: 1.5;\" width=\"71\" x=\"32\" y=\"305\"/><text fill=\"#000000\" font-family=\"sans-serif\" font-size=\"12\" font-style=\"italic\" lengthAdjust=\"spacingAndGlyphs\" textLength=\"69\" x=\"33\" y=\"321.1387\">«attribute»</text><text fill=\"#000000\" font-family=\"sans-serif\" font-size=\"12\" lengthAdjust=\"spacingAndGlyphs\" textLength=\"8\" x=\"63.5\" y=\"335.1074\">g</text><line style=\"stroke: #383838; stroke-width: 1.5;\" x1=\"33\" x2=\"102\" y1=\"342.9375\" y2=\"342.9375\"/></a><!--MD5=[96f4274e9e20536e775497830990834d]\n",
       "class E10--><a href=\"psysml:a8be3d15-ac76-451a-a4cf-87ef8e02e637\" target=\"_top\" title=\"psysml:a8be3d15-ac76-451a-a4cf-87ef8e02e637\" xlink:actuate=\"onRequest\" xlink:href=\"psysml:a8be3d15-ac76-451a-a4cf-87ef8e02e637\" xlink:show=\"new\" xlink:title=\"psysml:a8be3d15-ac76-451a-a4cf-87ef8e02e637\" xlink:type=\"simple\"><rect fill=\"#FFFFFF\" height=\"45.9375\" id=\"E10\" rx=\"10\" ry=\"10\" style=\"stroke: #383838; stroke-width: 1.5;\" width=\"71\" x=\"32\" y=\"386\"/><text fill=\"#000000\" font-family=\"sans-serif\" font-size=\"12\" font-style=\"italic\" lengthAdjust=\"spacingAndGlyphs\" textLength=\"69\" x=\"33\" y=\"402.1387\">«attribute»</text><text fill=\"#000000\" font-family=\"sans-serif\" font-size=\"12\" lengthAdjust=\"spacingAndGlyphs\" textLength=\"8\" x=\"63.5\" y=\"416.1074\">b</text><line style=\"stroke: #383838; stroke-width: 1.5;\" x1=\"33\" x2=\"102\" y1=\"423.9375\" y2=\"423.9375\"/></a><!--MD5=[1dd1bfd58a279cf63c5f349dbc8fc6a1]\n",
       "class E11--><a href=\"psysml:88e99412-8df3-4a94-a568-1984bea0c190\" target=\"_top\" title=\"psysml:88e99412-8df3-4a94-a568-1984bea0c190\" xlink:actuate=\"onRequest\" xlink:href=\"psysml:88e99412-8df3-4a94-a568-1984bea0c190\" xlink:show=\"new\" xlink:title=\"psysml:88e99412-8df3-4a94-a568-1984bea0c190\" xlink:type=\"simple\"><rect fill=\"#FFFFFF\" height=\"45.9375\" id=\"E11\" rx=\"10\" ry=\"10\" style=\"stroke: #383838; stroke-width: 1.5;\" width=\"71\" x=\"32\" y=\"467\"/><text fill=\"#000000\" font-family=\"sans-serif\" font-size=\"12\" font-style=\"italic\" lengthAdjust=\"spacingAndGlyphs\" textLength=\"69\" x=\"33\" y=\"483.1387\">«attribute»</text><text fill=\"#000000\" font-family=\"sans-serif\" font-size=\"12\" lengthAdjust=\"spacingAndGlyphs\" textLength=\"7\" x=\"64\" y=\"497.1074\">c</text><line style=\"stroke: #383838; stroke-width: 1.5;\" x1=\"33\" x2=\"102\" y1=\"504.9375\" y2=\"504.9375\"/></a><text fill=\"#000000\" font-family=\"sans-serif\" font-size=\"14\" lengthAdjust=\"spacingAndGlyphs\" textLength=\"9\" x=\"63\" y=\"120.9951\">p</text><rect fill=\"#383838\" height=\"12\" style=\"stroke: #F8F8F8; stroke-width: 1.5;\" width=\"12\" x=\"61.5\" y=\"96\"/><text fill=\"#000000\" font-family=\"sans-serif\" font-size=\"14\" lengthAdjust=\"spacingAndGlyphs\" textLength=\"9\" x=\"63\" y=\"33.6982\">q</text><rect fill=\"#383838\" height=\"12\" style=\"stroke: #F8F8F8; stroke-width: 1.5;\" width=\"12\" x=\"61.5\" y=\"49\"/><text fill=\"#000000\" font-family=\"sans-serif\" font-size=\"14\" lengthAdjust=\"spacingAndGlyphs\" textLength=\"57\" x=\"394.22\" y=\"53.6982\">noname</text><rect fill=\"#383838\" height=\"12\" style=\"stroke: #F8F8F8; stroke-width: 1.5;\" width=\"12\" x=\"416.72\" y=\"69\"/><!--MD5=[05d275557350bfb9b23a4ef7222b4c39]\n",
       "link E3 to E2--><a href=\"psysml:47946f32-7338-4adb-a6af-ffcb2b2265dd\" target=\"_top\" title=\"psysml:47946f32-7338-4adb-a6af-ffcb2b2265dd\" xlink:actuate=\"onRequest\" xlink:href=\"psysml:47946f32-7338-4adb-a6af-ffcb2b2265dd\" xlink:show=\"new\" xlink:title=\"psysml:47946f32-7338-4adb-a6af-ffcb2b2265dd\" xlink:type=\"simple\"><path d=\"M103.22,167.3 C120.27,167.94 141.42,168.73 161.45,169.49 \" fill=\"none\" id=\"E3-&gt;E2\" style=\"stroke: #383838; stroke-width: 1.0;\"/><polygon fill=\"#FFFFFF\" points=\"181.71,170.25,162.4631,176.5394,162.9831,162.5491,181.71,170.25\" style=\"stroke: #383838; stroke-width: 1.0;\"/><ellipse cx=\"156.8413\" cy=\"174.3291\" fill=\"#383838\" rx=\"2\" ry=\"2\" style=\"stroke: #383838; stroke-width: 1.0;\"/><ellipse cx=\"157.2128\" cy=\"164.336\" fill=\"#383838\" rx=\"2\" ry=\"2\" style=\"stroke: #383838; stroke-width: 1.0;\"/></a><!--MD5=[fe3cf6405c715d4ed7e664022f6d654c]\n",
       "@startuml\r\n",
       "left to right direction\r\n",
       "skinparam monochrome true\r\n",
       "skinparam classbackgroundcolor white\r\n",
       "skinparam shadowing false\r\n",
       "skinparam wrapWidth 300\r\n",
       "hide circle\r\n",
       "\r\n",
       "package \"ParameterTest\" as E1  [[psysml:adbc474a-2784-4828-be47-026fefc14932 ]]  {\r\n",
       "comp def \"A\" as E2  <<(T,blue) attribute def>> [[psysml:fa211d39-e6da-4efb-a07a-68e935dd1093 ]] {\r\n",
       "- - attributes - -\r\n",
       "x: String\r\n",
       "y: A\r\n",
       "}\r\n",
       "comp usage \"a: A\" as E3  <<(T,blue) attribute>> [[psysml:665f7084-89dd-4cc9-a479-f70e09a77220 ]] {\r\n",
       "}\r\n",
       "rec def \"F\" as E4  <<(T,blue) calculation def>> [[psysml:ea0c6e06-a87b-4616-91bc-ba79196303d0 ]] {\r\n",
       "portin \"p\" as E5  [[psysml:e1d329d3-cb1e-45c3-b1d5-2fcf771779ef ]] \r\n",
       "portin \"q\" as E6  [[psysml:b499ebef-2d53-43ba-b86a-de9084e46bb3 ]] \r\n",
       "portout \"noname\" as E7  [[psysml:2e56002b-31e4-43bf-ad2b-cc6ef1aac7ab ]] \r\n",
       "}\r\n",
       "\r\n",
       "comp usage \"f\" as E8  <<(T,blue) attribute>> [[psysml:1ebb82ef-cdf5-4836-9887-d34bbc134ce1 ]] {\r\n",
       "}\r\n",
       "comp usage \"g\" as E9  <<(T,blue) attribute>> [[psysml:22e07e99-e7e6-486c-b8ca-f79edb8ad4e8 ]] {\r\n",
       "}\r\n",
       "comp usage \"b\" as E10  <<(T,blue) attribute>> [[psysml:a8be3d15-ac76-451a-a4cf-87ef8e02e637 ]] {\r\n",
       "}\r\n",
       "comp usage \"c\" as E11  <<(T,blue) attribute>> [[psysml:88e99412-8df3-4a94-a568-1984bea0c190 ]] {\r\n",
       "}\r\n",
       "E3 - -:|> E2 [[psysml:47946f32-7338-4adb-a6af-ffcb2b2265dd ]] \r\n",
       "}\r\n",
       "@enduml\r\n",
       "\n",
       "PlantUML version 1.2020.13(Sat Jun 13 12:26:38 UTC 2020)\n",
       "(EPL source distribution)\n",
       "Java Runtime: OpenJDK Runtime Environment\n",
       "JVM: OpenJDK 64-Bit Server VM\n",
       "Default Encoding: UTF-8\n",
       "Language: en\n",
       "Country: null\n",
       "--></g></svg>"
      ]
     },
     "execution_count": 22,
     "metadata": {},
     "output_type": "execute_result"
    }
   ],
   "source": [
    "%viz --style=\"LR\" --view=\"MIXED\" \"ParameterTest\""
   ]
  },
  {
   "cell_type": "code",
   "execution_count": 23,
   "id": "287f00cc",
   "metadata": {
    "execution": {
     "iopub.execute_input": "2021-06-30T09:18:20.873063Z",
     "iopub.status.busy": "2021-06-30T09:18:20.872483Z",
     "iopub.status.idle": "2021-06-30T09:18:20.927686Z",
     "shell.execute_reply": "2021-06-30T09:18:20.927338Z"
    }
   },
   "outputs": [
    {
     "data": {
      "image/svg+xml": [
       "<?xml version=\"1.0\" encoding=\"UTF-8\" standalone=\"no\"?><svg xmlns=\"http://www.w3.org/2000/svg\" xmlns:xlink=\"http://www.w3.org/1999/xlink\" contentScriptType=\"application/ecmascript\" contentStyleType=\"text/css\" height=\"387px\" preserveAspectRatio=\"none\" style=\"width:740px;height:387px;\" version=\"1.1\" viewBox=\"0 0 740 387\" width=\"740px\" zoomAndPan=\"magnify\"><defs><filter height=\"300%\" id=\"f14qf93kchj3tm\" width=\"300%\" x=\"-1\" y=\"-1\"><feGaussianBlur result=\"blurOut\" stdDeviation=\"2.0\"/><feColorMatrix in=\"blurOut\" result=\"blurOut2\" type=\"matrix\" values=\"0 0 0 0 0 0 0 0 0 0 0 0 0 0 0 0 0 0 .4 0\"/><feOffset dx=\"4.0\" dy=\"4.0\" in=\"blurOut2\" result=\"blurOut3\"/><feBlend in=\"SourceGraphic\" in2=\"blurOut3\" mode=\"normal\"/></filter></defs><g><!--MD5=[fbc87193dbaf4d95561dea2c320d4a47]\n",
       "cluster E1--><a href=\"psysml:adbc474a-2784-4828-be47-026fefc14932\" target=\"_top\" title=\"psysml:adbc474a-2784-4828-be47-026fefc14932\" xlink:actuate=\"onRequest\" xlink:href=\"psysml:adbc474a-2784-4828-be47-026fefc14932\" xlink:show=\"new\" xlink:title=\"psysml:adbc474a-2784-4828-be47-026fefc14932\" xlink:type=\"simple\"><polygon fill=\"#FFFFFF\" filter=\"url(#f14qf93kchj3tm)\" points=\"16,6,139,6,146,28.2969,718,28.2969,718,375.72,16,375.72,16,6\" style=\"stroke: #000000; stroke-width: 1.5;\"/><line style=\"stroke: #000000; stroke-width: 1.5;\" x1=\"16\" x2=\"146\" y1=\"28.2969\" y2=\"28.2969\"/><text fill=\"#000000\" font-family=\"sans-serif\" font-size=\"14\" font-weight=\"bold\" lengthAdjust=\"spacingAndGlyphs\" textLength=\"117\" x=\"20\" y=\"20.9951\">ParameterTest</text></a><!--MD5=[f6df4d0ebaf0b5dfb2ced0ae5af7c670]\n",
       "cluster E4--><a href=\"psysml:ea0c6e06-a87b-4616-91bc-ba79196303d0\" target=\"_top\" title=\"psysml:ea0c6e06-a87b-4616-91bc-ba79196303d0\" xlink:actuate=\"onRequest\" xlink:href=\"psysml:ea0c6e06-a87b-4616-91bc-ba79196303d0\" xlink:show=\"new\" xlink:title=\"psysml:ea0c6e06-a87b-4616-91bc-ba79196303d0\" xlink:type=\"simple\"><rect fill=\"#FFFFFF\" filter=\"url(#f14qf93kchj3tm)\" height=\"281.72\" id=\"E4\" style=\"stroke: #A80036; stroke-width: 1.5;\" width=\"148\" x=\"554\" y=\"64\"/><rect fill=\"#FEFECE\" height=\"37.9375\" style=\"stroke: #A80036; stroke-width: 1.5;\" width=\"148\" x=\"554\" y=\"64\"/><text fill=\"#000000\" font-family=\"sans-serif\" font-size=\"12\" font-style=\"italic\" lengthAdjust=\"spacingAndGlyphs\" textLength=\"106\" x=\"575\" y=\"80.1387\">«calculation def»</text><text fill=\"#000000\" font-family=\"sans-serif\" font-size=\"12\" lengthAdjust=\"spacingAndGlyphs\" textLength=\"7\" x=\"624.5\" y=\"94.1074\">F</text></a><!--MD5=[b4997ac47864f28c2f74865a473b2911]\n",
       "class E2--><a href=\"psysml:fa211d39-e6da-4efb-a07a-68e935dd1093\" target=\"_top\" title=\"psysml:fa211d39-e6da-4efb-a07a-68e935dd1093\" xlink:actuate=\"onRequest\" xlink:href=\"psysml:fa211d39-e6da-4efb-a07a-68e935dd1093\" xlink:show=\"new\" xlink:title=\"psysml:fa211d39-e6da-4efb-a07a-68e935dd1093\" xlink:type=\"simple\"><rect fill=\"#FEFECE\" filter=\"url(#f14qf93kchj3tm)\" height=\"71.5469\" id=\"E2\" style=\"stroke: #A80036; stroke-width: 1.5;\" width=\"95\" x=\"422.5\" y=\"147\"/><text fill=\"#000000\" font-family=\"sans-serif\" font-size=\"12\" font-style=\"italic\" lengthAdjust=\"spacingAndGlyphs\" textLength=\"93\" x=\"423.5\" y=\"163.1387\">«attribute def»</text><text fill=\"#000000\" font-family=\"sans-serif\" font-size=\"12\" lengthAdjust=\"spacingAndGlyphs\" textLength=\"8\" x=\"466\" y=\"177.1074\">A</text><line style=\"stroke: #A80036; stroke-width: 1.5;\" x1=\"423.5\" x2=\"516.5\" y1=\"184.9375\" y2=\"184.9375\"/><text fill=\"#000000\" font-family=\"sans-serif\" font-size=\"11\" lengthAdjust=\"spacingAndGlyphs\" textLength=\"48\" x=\"428.5\" y=\"199.1479\">x: String</text><text fill=\"#000000\" font-family=\"sans-serif\" font-size=\"11\" lengthAdjust=\"spacingAndGlyphs\" textLength=\"21\" x=\"428.5\" y=\"211.9526\">y: A</text></a><!--MD5=[09b614a08d8cba4a07c9adeb5e0fee81]\n",
       "class E3--><a href=\"psysml:665f7084-89dd-4cc9-a479-f70e09a77220\" target=\"_top\" title=\"psysml:665f7084-89dd-4cc9-a479-f70e09a77220\" xlink:actuate=\"onRequest\" xlink:href=\"psysml:665f7084-89dd-4cc9-a479-f70e09a77220\" xlink:show=\"new\" xlink:title=\"psysml:665f7084-89dd-4cc9-a479-f70e09a77220\" xlink:type=\"simple\"><rect fill=\"#FEFECE\" filter=\"url(#f14qf93kchj3tm)\" height=\"45.9375\" id=\"E3\" rx=\"10\" ry=\"10\" style=\"stroke: #A80036; stroke-width: 1.5;\" width=\"71\" x=\"456.5\" y=\"41\"/><text fill=\"#000000\" font-family=\"sans-serif\" font-size=\"12\" font-style=\"italic\" lengthAdjust=\"spacingAndGlyphs\" textLength=\"69\" x=\"457.5\" y=\"57.1387\">«attribute»</text><text fill=\"#000000\" font-family=\"sans-serif\" font-size=\"12\" lengthAdjust=\"spacingAndGlyphs\" textLength=\"24\" x=\"480\" y=\"71.1074\">a: A</text><line style=\"stroke: #A80036; stroke-width: 1.5;\" x1=\"457.5\" x2=\"526.5\" y1=\"78.9375\" y2=\"78.9375\"/></a><!--MD5=[b9389687b975829384b498ac4b7476b2]\n",
       "class E8--><a href=\"psysml:1ebb82ef-cdf5-4836-9887-d34bbc134ce1\" target=\"_top\" title=\"psysml:1ebb82ef-cdf5-4836-9887-d34bbc134ce1\" xlink:actuate=\"onRequest\" xlink:href=\"psysml:1ebb82ef-cdf5-4836-9887-d34bbc134ce1\" xlink:show=\"new\" xlink:title=\"psysml:1ebb82ef-cdf5-4836-9887-d34bbc134ce1\" xlink:type=\"simple\"><rect fill=\"#FEFECE\" filter=\"url(#f14qf93kchj3tm)\" height=\"45.9375\" id=\"E8\" rx=\"10\" ry=\"10\" style=\"stroke: #A80036; stroke-width: 1.5;\" width=\"71\" x=\"350.5\" y=\"41\"/><text fill=\"#000000\" font-family=\"sans-serif\" font-size=\"12\" font-style=\"italic\" lengthAdjust=\"spacingAndGlyphs\" textLength=\"69\" x=\"351.5\" y=\"57.1387\">«attribute»</text><text fill=\"#000000\" font-family=\"sans-serif\" font-size=\"12\" lengthAdjust=\"spacingAndGlyphs\" textLength=\"4\" x=\"384\" y=\"71.1074\">f</text><line style=\"stroke: #A80036; stroke-width: 1.5;\" x1=\"351.5\" x2=\"420.5\" y1=\"78.9375\" y2=\"78.9375\"/></a><!--MD5=[fd4143e9d270a159db93a4ea2a975926]\n",
       "class E9--><a href=\"psysml:22e07e99-e7e6-486c-b8ca-f79edb8ad4e8\" target=\"_top\" title=\"psysml:22e07e99-e7e6-486c-b8ca-f79edb8ad4e8\" xlink:actuate=\"onRequest\" xlink:href=\"psysml:22e07e99-e7e6-486c-b8ca-f79edb8ad4e8\" xlink:show=\"new\" xlink:title=\"psysml:22e07e99-e7e6-486c-b8ca-f79edb8ad4e8\" xlink:type=\"simple\"><rect fill=\"#FEFECE\" filter=\"url(#f14qf93kchj3tm)\" height=\"45.9375\" id=\"E9\" rx=\"10\" ry=\"10\" style=\"stroke: #A80036; stroke-width: 1.5;\" width=\"71\" x=\"244.5\" y=\"41\"/><text fill=\"#000000\" font-family=\"sans-serif\" font-size=\"12\" font-style=\"italic\" lengthAdjust=\"spacingAndGlyphs\" textLength=\"69\" x=\"245.5\" y=\"57.1387\">«attribute»</text><text fill=\"#000000\" font-family=\"sans-serif\" font-size=\"12\" lengthAdjust=\"spacingAndGlyphs\" textLength=\"8\" x=\"276\" y=\"71.1074\">g</text><line style=\"stroke: #A80036; stroke-width: 1.5;\" x1=\"245.5\" x2=\"314.5\" y1=\"78.9375\" y2=\"78.9375\"/></a><!--MD5=[96f4274e9e20536e775497830990834d]\n",
       "class E10--><a href=\"psysml:a8be3d15-ac76-451a-a4cf-87ef8e02e637\" target=\"_top\" title=\"psysml:a8be3d15-ac76-451a-a4cf-87ef8e02e637\" xlink:actuate=\"onRequest\" xlink:href=\"psysml:a8be3d15-ac76-451a-a4cf-87ef8e02e637\" xlink:show=\"new\" xlink:title=\"psysml:a8be3d15-ac76-451a-a4cf-87ef8e02e637\" xlink:type=\"simple\"><rect fill=\"#FEFECE\" filter=\"url(#f14qf93kchj3tm)\" height=\"45.9375\" id=\"E10\" rx=\"10\" ry=\"10\" style=\"stroke: #A80036; stroke-width: 1.5;\" width=\"71\" x=\"138.5\" y=\"41\"/><text fill=\"#000000\" font-family=\"sans-serif\" font-size=\"12\" font-style=\"italic\" lengthAdjust=\"spacingAndGlyphs\" textLength=\"69\" x=\"139.5\" y=\"57.1387\">«attribute»</text><text fill=\"#000000\" font-family=\"sans-serif\" font-size=\"12\" lengthAdjust=\"spacingAndGlyphs\" textLength=\"8\" x=\"170\" y=\"71.1074\">b</text><line style=\"stroke: #A80036; stroke-width: 1.5;\" x1=\"139.5\" x2=\"208.5\" y1=\"78.9375\" y2=\"78.9375\"/></a><!--MD5=[1dd1bfd58a279cf63c5f349dbc8fc6a1]\n",
       "class E11--><a href=\"psysml:88e99412-8df3-4a94-a568-1984bea0c190\" target=\"_top\" title=\"psysml:88e99412-8df3-4a94-a568-1984bea0c190\" xlink:actuate=\"onRequest\" xlink:href=\"psysml:88e99412-8df3-4a94-a568-1984bea0c190\" xlink:show=\"new\" xlink:title=\"psysml:88e99412-8df3-4a94-a568-1984bea0c190\" xlink:type=\"simple\"><rect fill=\"#FEFECE\" filter=\"url(#f14qf93kchj3tm)\" height=\"45.9375\" id=\"E11\" rx=\"10\" ry=\"10\" style=\"stroke: #A80036; stroke-width: 1.5;\" width=\"71\" x=\"32.5\" y=\"41\"/><text fill=\"#000000\" font-family=\"sans-serif\" font-size=\"12\" font-style=\"italic\" lengthAdjust=\"spacingAndGlyphs\" textLength=\"69\" x=\"33.5\" y=\"57.1387\">«attribute»</text><text fill=\"#000000\" font-family=\"sans-serif\" font-size=\"12\" lengthAdjust=\"spacingAndGlyphs\" textLength=\"7\" x=\"64.5\" y=\"71.1074\">c</text><line style=\"stroke: #A80036; stroke-width: 1.5;\" x1=\"33.5\" x2=\"102.5\" y1=\"78.9375\" y2=\"78.9375\"/></a><text fill=\"#000000\" font-family=\"sans-serif\" font-size=\"14\" lengthAdjust=\"spacingAndGlyphs\" textLength=\"9\" x=\"567.5\" y=\"42.6982\">p</text><rect fill=\"#A80036\" height=\"12\" style=\"stroke: #FEFECE; stroke-width: 1.5;\" width=\"12\" x=\"566\" y=\"58\"/><text fill=\"#000000\" font-family=\"sans-serif\" font-size=\"14\" lengthAdjust=\"spacingAndGlyphs\" textLength=\"9\" x=\"614.5\" y=\"42.6982\">q</text><rect fill=\"#A80036\" height=\"12\" style=\"stroke: #FEFECE; stroke-width: 1.5;\" width=\"12\" x=\"613\" y=\"58\"/><text fill=\"#000000\" font-family=\"sans-serif\" font-size=\"14\" lengthAdjust=\"spacingAndGlyphs\" textLength=\"57\" x=\"590.5\" y=\"364.7151\">noname</text><rect fill=\"#A80036\" height=\"12\" style=\"stroke: #FEFECE; stroke-width: 1.5;\" width=\"12\" x=\"613\" y=\"339.72\"/><!--MD5=[05d275557350bfb9b23a4ef7222b4c39]\n",
       "link E3 to E2--><a href=\"psysml:47946f32-7338-4adb-a6af-ffcb2b2265dd\" target=\"_top\" title=\"psysml:47946f32-7338-4adb-a6af-ffcb2b2265dd\" xlink:actuate=\"onRequest\" xlink:href=\"psysml:47946f32-7338-4adb-a6af-ffcb2b2265dd\" xlink:show=\"new\" xlink:title=\"psysml:47946f32-7338-4adb-a6af-ffcb2b2265dd\" xlink:type=\"simple\"><path d=\"M487.86,87.01 C485.74,98.3 483.05,112.62 480.4,126.7 \" fill=\"none\" id=\"E3-&gt;E2\" style=\"stroke: #A80036; stroke-width: 1.0;\"/><polygon fill=\"#FFFFFF\" points=\"476.63,146.75,473.2514,126.7854,487.0116,129.3654,476.63,146.75\" style=\"stroke: #A80036; stroke-width: 1.0;\"/><ellipse cx=\"476.2676\" cy=\"121.5516\" fill=\"#A80036\" rx=\"2\" ry=\"2\" style=\"stroke: #A80036; stroke-width: 1.0;\"/><ellipse cx=\"486.0963\" cy=\"123.3945\" fill=\"#A80036\" rx=\"2\" ry=\"2\" style=\"stroke: #A80036; stroke-width: 1.0;\"/></a><!--MD5=[b0e0de45e6b487df970556d99b661621]\n",
       "@startuml\r\n",
       "skinparam wrapWidth 300\r\n",
       "hide circle\r\n",
       "\r\n",
       "package \"ParameterTest\" as E1  [[psysml:adbc474a-2784-4828-be47-026fefc14932 ]]  {\r\n",
       "comp def \"A\" as E2  <<(T,blue) attribute def>> [[psysml:fa211d39-e6da-4efb-a07a-68e935dd1093 ]] {\r\n",
       "x: String\r\n",
       "y: A\r\n",
       "}\r\n",
       "comp usage \"a: A\" as E3  <<(T,blue) attribute>> [[psysml:665f7084-89dd-4cc9-a479-f70e09a77220 ]] {\r\n",
       "}\r\n",
       "rec def \"F\" as E4  <<(T,blue) calculation def>> [[psysml:ea0c6e06-a87b-4616-91bc-ba79196303d0 ]] {\r\n",
       "portin \"p\" as E5  [[psysml:e1d329d3-cb1e-45c3-b1d5-2fcf771779ef ]] \r\n",
       "portin \"q\" as E6  [[psysml:b499ebef-2d53-43ba-b86a-de9084e46bb3 ]] \r\n",
       "portout \"noname\" as E7  [[psysml:2e56002b-31e4-43bf-ad2b-cc6ef1aac7ab ]] \r\n",
       "}\r\n",
       "\r\n",
       "comp usage \"f\" as E8  <<(T,blue) attribute>> [[psysml:1ebb82ef-cdf5-4836-9887-d34bbc134ce1 ]] {\r\n",
       "}\r\n",
       "comp usage \"g\" as E9  <<(T,blue) attribute>> [[psysml:22e07e99-e7e6-486c-b8ca-f79edb8ad4e8 ]] {\r\n",
       "}\r\n",
       "comp usage \"b\" as E10  <<(T,blue) attribute>> [[psysml:a8be3d15-ac76-451a-a4cf-87ef8e02e637 ]] {\r\n",
       "}\r\n",
       "comp usage \"c\" as E11  <<(T,blue) attribute>> [[psysml:88e99412-8df3-4a94-a568-1984bea0c190 ]] {\r\n",
       "}\r\n",
       "E3 - -:|> E2 [[psysml:47946f32-7338-4adb-a6af-ffcb2b2265dd ]] \r\n",
       "}\r\n",
       "@enduml\r\n",
       "\n",
       "PlantUML version 1.2020.13(Sat Jun 13 12:26:38 UTC 2020)\n",
       "(EPL source distribution)\n",
       "Java Runtime: OpenJDK Runtime Environment\n",
       "JVM: OpenJDK 64-Bit Server VM\n",
       "Default Encoding: UTF-8\n",
       "Language: en\n",
       "Country: null\n",
       "--></g></svg>"
      ]
     },
     "execution_count": 23,
     "metadata": {},
     "output_type": "execute_result"
    }
   ],
   "source": [
    "%viz --style=\"STDCOLOR\" --view=\"Default\" \"ParameterTest\""
   ]
  },
  {
   "cell_type": "code",
   "execution_count": 24,
   "id": "104e77fd",
   "metadata": {
    "execution": {
     "iopub.execute_input": "2021-06-30T09:18:20.977645Z",
     "iopub.status.busy": "2021-06-30T09:18:20.977289Z",
     "iopub.status.idle": "2021-06-30T09:18:21.023940Z",
     "shell.execute_reply": "2021-06-30T09:18:21.023460Z"
    }
   },
   "outputs": [
    {
     "data": {
      "image/svg+xml": [
       "<?xml version=\"1.0\" encoding=\"UTF-8\" standalone=\"no\"?><svg xmlns=\"http://www.w3.org/2000/svg\" xmlns:xlink=\"http://www.w3.org/1999/xlink\" contentScriptType=\"application/ecmascript\" contentStyleType=\"text/css\" height=\"264px\" preserveAspectRatio=\"none\" style=\"width:710px;height:264px;\" version=\"1.1\" viewBox=\"0 0 710 264\" width=\"710px\" zoomAndPan=\"magnify\"><defs><filter height=\"300%\" id=\"f12m9dp5kh3y7r\" width=\"300%\" x=\"-1\" y=\"-1\"><feGaussianBlur result=\"blurOut\" stdDeviation=\"2.0\"/><feColorMatrix in=\"blurOut\" result=\"blurOut2\" type=\"matrix\" values=\"0 0 0 0 0 0 0 0 0 0 0 0 0 0 0 0 0 0 .4 0\"/><feOffset dx=\"4.0\" dy=\"4.0\" in=\"blurOut2\" result=\"blurOut3\"/><feBlend in=\"SourceGraphic\" in2=\"blurOut3\" mode=\"normal\"/></filter></defs><g><!--MD5=[fbc87193dbaf4d95561dea2c320d4a47]\n",
       "cluster E1--><a href=\"psysml:adbc474a-2784-4828-be47-026fefc14932\" target=\"_top\" title=\"psysml:adbc474a-2784-4828-be47-026fefc14932\" xlink:actuate=\"onRequest\" xlink:href=\"psysml:adbc474a-2784-4828-be47-026fefc14932\" xlink:show=\"new\" xlink:title=\"psysml:adbc474a-2784-4828-be47-026fefc14932\" xlink:type=\"simple\"><polygon fill=\"#FFFFFF\" filter=\"url(#f12m9dp5kh3y7r)\" points=\"16,6,139,6,146,28.2969,688,28.2969,688,252,16,252,16,6\" style=\"stroke: #000000; stroke-width: 1.5;\"/><line style=\"stroke: #000000; stroke-width: 1.5;\" x1=\"16\" x2=\"146\" y1=\"28.2969\" y2=\"28.2969\"/><text fill=\"#000000\" font-family=\"sans-serif\" font-size=\"14\" font-weight=\"bold\" lengthAdjust=\"spacingAndGlyphs\" textLength=\"117\" x=\"20\" y=\"20.9951\">ParameterTest</text></a><!--MD5=[b4997ac47864f28c2f74865a473b2911]\n",
       "class E2--><a href=\"psysml:fa211d39-e6da-4efb-a07a-68e935dd1093\" target=\"_top\" title=\"psysml:fa211d39-e6da-4efb-a07a-68e935dd1093\" xlink:actuate=\"onRequest\" xlink:href=\"psysml:fa211d39-e6da-4efb-a07a-68e935dd1093\" xlink:show=\"new\" xlink:title=\"psysml:fa211d39-e6da-4efb-a07a-68e935dd1093\" xlink:type=\"simple\"><rect fill=\"#FEFECE\" filter=\"url(#f12m9dp5kh3y7r)\" height=\"71.5469\" id=\"E2\" style=\"stroke: #A80036; stroke-width: 1.5;\" width=\"95\" x=\"498.5\" y=\"164\"/><text fill=\"#000000\" font-family=\"sans-serif\" font-size=\"12\" font-style=\"italic\" lengthAdjust=\"spacingAndGlyphs\" textLength=\"93\" x=\"499.5\" y=\"180.1387\">«attribute def»</text><text fill=\"#000000\" font-family=\"sans-serif\" font-size=\"12\" lengthAdjust=\"spacingAndGlyphs\" textLength=\"8\" x=\"542\" y=\"194.1074\">A</text><line style=\"stroke: #A80036; stroke-width: 1.5;\" x1=\"499.5\" x2=\"592.5\" y1=\"201.9375\" y2=\"201.9375\"/><text fill=\"#000000\" font-family=\"sans-serif\" font-size=\"11\" lengthAdjust=\"spacingAndGlyphs\" textLength=\"48\" x=\"504.5\" y=\"216.1479\">x: String</text><text fill=\"#000000\" font-family=\"sans-serif\" font-size=\"11\" lengthAdjust=\"spacingAndGlyphs\" textLength=\"21\" x=\"504.5\" y=\"228.9526\">y: A</text></a><!--MD5=[09b614a08d8cba4a07c9adeb5e0fee81]\n",
       "class E3--><a href=\"psysml:665f7084-89dd-4cc9-a479-f70e09a77220\" target=\"_top\" title=\"psysml:665f7084-89dd-4cc9-a479-f70e09a77220\" xlink:actuate=\"onRequest\" xlink:href=\"psysml:665f7084-89dd-4cc9-a479-f70e09a77220\" xlink:show=\"new\" xlink:title=\"psysml:665f7084-89dd-4cc9-a479-f70e09a77220\" xlink:type=\"simple\"><rect fill=\"#FEFECE\" filter=\"url(#f12m9dp5kh3y7r)\" height=\"45.9375\" id=\"E3\" rx=\"10\" ry=\"10\" style=\"stroke: #A80036; stroke-width: 1.5;\" width=\"71\" x=\"600.5\" y=\"41\"/><text fill=\"#000000\" font-family=\"sans-serif\" font-size=\"12\" font-style=\"italic\" lengthAdjust=\"spacingAndGlyphs\" textLength=\"69\" x=\"601.5\" y=\"57.1387\">«attribute»</text><text fill=\"#000000\" font-family=\"sans-serif\" font-size=\"12\" lengthAdjust=\"spacingAndGlyphs\" textLength=\"24\" x=\"624\" y=\"71.1074\">a: A</text><line style=\"stroke: #A80036; stroke-width: 1.5;\" x1=\"601.5\" x2=\"670.5\" y1=\"78.9375\" y2=\"78.9375\"/></a><!--MD5=[ebbe1d658d1005bcc118a6aa81145e00]\n",
       "class E4--><a href=\"psysml:ea0c6e06-a87b-4616-91bc-ba79196303d0\" target=\"_top\" title=\"psysml:ea0c6e06-a87b-4616-91bc-ba79196303d0\" xlink:actuate=\"onRequest\" xlink:href=\"psysml:ea0c6e06-a87b-4616-91bc-ba79196303d0\" xlink:show=\"new\" xlink:title=\"psysml:ea0c6e06-a87b-4616-91bc-ba79196303d0\" xlink:type=\"simple\"><rect fill=\"#FEFECE\" filter=\"url(#f12m9dp5kh3y7r)\" height=\"45.9375\" id=\"E4\" style=\"stroke: #A80036; stroke-width: 1.5;\" width=\"108\" x=\"457\" y=\"41\"/><text fill=\"#000000\" font-family=\"sans-serif\" font-size=\"12\" font-style=\"italic\" lengthAdjust=\"spacingAndGlyphs\" textLength=\"106\" x=\"458\" y=\"57.1387\">«calculation def»</text><text fill=\"#000000\" font-family=\"sans-serif\" font-size=\"12\" lengthAdjust=\"spacingAndGlyphs\" textLength=\"7\" x=\"507.5\" y=\"71.1074\">F</text><line style=\"stroke: #A80036; stroke-width: 1.5;\" x1=\"458\" x2=\"564\" y1=\"78.9375\" y2=\"78.9375\"/></a><!--MD5=[270fce915f116d4de14055a7c1d9a0f3]\n",
       "class E5--><a href=\"psysml:1ebb82ef-cdf5-4836-9887-d34bbc134ce1\" target=\"_top\" title=\"psysml:1ebb82ef-cdf5-4836-9887-d34bbc134ce1\" xlink:actuate=\"onRequest\" xlink:href=\"psysml:1ebb82ef-cdf5-4836-9887-d34bbc134ce1\" xlink:show=\"new\" xlink:title=\"psysml:1ebb82ef-cdf5-4836-9887-d34bbc134ce1\" xlink:type=\"simple\"><rect fill=\"#FEFECE\" filter=\"url(#f12m9dp5kh3y7r)\" height=\"45.9375\" id=\"E5\" rx=\"10\" ry=\"10\" style=\"stroke: #A80036; stroke-width: 1.5;\" width=\"71\" x=\"350.5\" y=\"41\"/><text fill=\"#000000\" font-family=\"sans-serif\" font-size=\"12\" font-style=\"italic\" lengthAdjust=\"spacingAndGlyphs\" textLength=\"69\" x=\"351.5\" y=\"57.1387\">«attribute»</text><text fill=\"#000000\" font-family=\"sans-serif\" font-size=\"12\" lengthAdjust=\"spacingAndGlyphs\" textLength=\"4\" x=\"384\" y=\"71.1074\">f</text><line style=\"stroke: #A80036; stroke-width: 1.5;\" x1=\"351.5\" x2=\"420.5\" y1=\"78.9375\" y2=\"78.9375\"/></a><!--MD5=[60a26617385b1d2d0262a64233df1f8d]\n",
       "class E6--><a href=\"psysml:22e07e99-e7e6-486c-b8ca-f79edb8ad4e8\" target=\"_top\" title=\"psysml:22e07e99-e7e6-486c-b8ca-f79edb8ad4e8\" xlink:actuate=\"onRequest\" xlink:href=\"psysml:22e07e99-e7e6-486c-b8ca-f79edb8ad4e8\" xlink:show=\"new\" xlink:title=\"psysml:22e07e99-e7e6-486c-b8ca-f79edb8ad4e8\" xlink:type=\"simple\"><rect fill=\"#FEFECE\" filter=\"url(#f12m9dp5kh3y7r)\" height=\"45.9375\" id=\"E6\" rx=\"10\" ry=\"10\" style=\"stroke: #A80036; stroke-width: 1.5;\" width=\"71\" x=\"244.5\" y=\"41\"/><text fill=\"#000000\" font-family=\"sans-serif\" font-size=\"12\" font-style=\"italic\" lengthAdjust=\"spacingAndGlyphs\" textLength=\"69\" x=\"245.5\" y=\"57.1387\">«attribute»</text><text fill=\"#000000\" font-family=\"sans-serif\" font-size=\"12\" lengthAdjust=\"spacingAndGlyphs\" textLength=\"8\" x=\"276\" y=\"71.1074\">g</text><line style=\"stroke: #A80036; stroke-width: 1.5;\" x1=\"245.5\" x2=\"314.5\" y1=\"78.9375\" y2=\"78.9375\"/></a><!--MD5=[2156ba9850f5573cc1fc38a6a4b2f02b]\n",
       "class E7--><a href=\"psysml:a8be3d15-ac76-451a-a4cf-87ef8e02e637\" target=\"_top\" title=\"psysml:a8be3d15-ac76-451a-a4cf-87ef8e02e637\" xlink:actuate=\"onRequest\" xlink:href=\"psysml:a8be3d15-ac76-451a-a4cf-87ef8e02e637\" xlink:show=\"new\" xlink:title=\"psysml:a8be3d15-ac76-451a-a4cf-87ef8e02e637\" xlink:type=\"simple\"><rect fill=\"#FEFECE\" filter=\"url(#f12m9dp5kh3y7r)\" height=\"45.9375\" id=\"E7\" rx=\"10\" ry=\"10\" style=\"stroke: #A80036; stroke-width: 1.5;\" width=\"71\" x=\"138.5\" y=\"41\"/><text fill=\"#000000\" font-family=\"sans-serif\" font-size=\"12\" font-style=\"italic\" lengthAdjust=\"spacingAndGlyphs\" textLength=\"69\" x=\"139.5\" y=\"57.1387\">«attribute»</text><text fill=\"#000000\" font-family=\"sans-serif\" font-size=\"12\" lengthAdjust=\"spacingAndGlyphs\" textLength=\"8\" x=\"170\" y=\"71.1074\">b</text><line style=\"stroke: #A80036; stroke-width: 1.5;\" x1=\"139.5\" x2=\"208.5\" y1=\"78.9375\" y2=\"78.9375\"/></a><!--MD5=[b9389687b975829384b498ac4b7476b2]\n",
       "class E8--><a href=\"psysml:88e99412-8df3-4a94-a568-1984bea0c190\" target=\"_top\" title=\"psysml:88e99412-8df3-4a94-a568-1984bea0c190\" xlink:actuate=\"onRequest\" xlink:href=\"psysml:88e99412-8df3-4a94-a568-1984bea0c190\" xlink:show=\"new\" xlink:title=\"psysml:88e99412-8df3-4a94-a568-1984bea0c190\" xlink:type=\"simple\"><rect fill=\"#FEFECE\" filter=\"url(#f12m9dp5kh3y7r)\" height=\"45.9375\" id=\"E8\" rx=\"10\" ry=\"10\" style=\"stroke: #A80036; stroke-width: 1.5;\" width=\"71\" x=\"32.5\" y=\"41\"/><text fill=\"#000000\" font-family=\"sans-serif\" font-size=\"12\" font-style=\"italic\" lengthAdjust=\"spacingAndGlyphs\" textLength=\"69\" x=\"33.5\" y=\"57.1387\">«attribute»</text><text fill=\"#000000\" font-family=\"sans-serif\" font-size=\"12\" lengthAdjust=\"spacingAndGlyphs\" textLength=\"7\" x=\"64.5\" y=\"71.1074\">c</text><line style=\"stroke: #A80036; stroke-width: 1.5;\" x1=\"33.5\" x2=\"102.5\" y1=\"78.9375\" y2=\"78.9375\"/></a><!--MD5=[05d275557350bfb9b23a4ef7222b4c39]\n",
       "link E3 to E2--><a href=\"psysml:47946f32-7338-4adb-a6af-ffcb2b2265dd\" target=\"_top\" title=\"psysml:47946f32-7338-4adb-a6af-ffcb2b2265dd\" xlink:actuate=\"onRequest\" xlink:href=\"psysml:47946f32-7338-4adb-a6af-ffcb2b2265dd\" xlink:show=\"new\" xlink:title=\"psysml:47946f32-7338-4adb-a6af-ffcb2b2265dd\" xlink:type=\"simple\"><path d=\"M621.14,87.13 C610.18,103.45 594.8,126.34 580.81,147.17 \" fill=\"none\" id=\"E3-&gt;E2\" style=\"stroke: #A80036; stroke-width: 1.0;\"/><polygon fill=\"#FFFFFF\" points=\"569.52,163.99,574.309,144.316,585.9284,152.1256,569.52,163.99\" style=\"stroke: #A80036; stroke-width: 1.0;\"/><ellipse cx=\"579.1486\" cy=\"140.7009\" fill=\"#A80036\" rx=\"2\" ry=\"2\" style=\"stroke: #A80036; stroke-width: 1.0;\"/><ellipse cx=\"587.4481\" cy=\"146.2792\" fill=\"#A80036\" rx=\"2\" ry=\"2\" style=\"stroke: #A80036; stroke-width: 1.0;\"/></a><!--MD5=[ddeed8deb2209213b62e6cfabaa108b2]\n",
       "reverse link E4 to E2--><a href=\"psysml:e1d329d3-cb1e-45c3-b1d5-2fcf771779ef\" target=\"_top\" title=\"psysml:e1d329d3-cb1e-45c3-b1d5-2fcf771779ef\" xlink:actuate=\"onRequest\" xlink:href=\"psysml:e1d329d3-cb1e-45c3-b1d5-2fcf771779ef\" xlink:show=\"new\" xlink:title=\"psysml:e1d329d3-cb1e-45c3-b1d5-2fcf771779ef\" xlink:type=\"simple\"><path d=\"M520.11,99.89 C525.27,119.63 531.69,144.23 536.85,163.99 \" fill=\"none\" id=\"E4&lt;-E2\" style=\"stroke: #A80036; stroke-width: 1.0;\"/><polygon fill=\"#FFFFFF\" points=\"516.78,87.13,514.4253,93.9458,519.8112,98.7408,522.1659,91.925,516.78,87.13\" style=\"stroke: #A80036; stroke-width: 1.0;\"/><text fill=\"#000000\" font-family=\"sans-serif\" font-size=\"13\" lengthAdjust=\"spacingAndGlyphs\" textLength=\"8\" x=\"529\" y=\"130.0669\">p</text></a><!--MD5=[1828845a4c17df09ef7de4bcc69f8ce5]\n",
       "@startuml\r\n",
       "skinparam wrapWidth 300\r\n",
       "hide circle\r\n",
       "\r\n",
       "package \"ParameterTest\" as E1  [[psysml:adbc474a-2784-4828-be47-026fefc14932 ]]  {\r\n",
       "comp def \"A\" as E2  <<(T,blue) attribute def>> [[psysml:fa211d39-e6da-4efb-a07a-68e935dd1093 ]] {\r\n",
       "x: String\r\n",
       "y: A\r\n",
       "}\r\n",
       "comp usage \"a: A\" as E3  <<(T,blue) attribute>> [[psysml:665f7084-89dd-4cc9-a479-f70e09a77220 ]] {\r\n",
       "}\r\n",
       "comp def \"F\" as E4  <<(T,blue) calculation def>> [[psysml:ea0c6e06-a87b-4616-91bc-ba79196303d0 ]] {\r\n",
       "}\r\n",
       "comp usage \"f\" as E5  <<(T,blue) attribute>> [[psysml:1ebb82ef-cdf5-4836-9887-d34bbc134ce1 ]] {\r\n",
       "}\r\n",
       "comp usage \"g\" as E6  <<(T,blue) attribute>> [[psysml:22e07e99-e7e6-486c-b8ca-f79edb8ad4e8 ]] {\r\n",
       "}\r\n",
       "comp usage \"b\" as E7  <<(T,blue) attribute>> [[psysml:a8be3d15-ac76-451a-a4cf-87ef8e02e637 ]] {\r\n",
       "}\r\n",
       "comp usage \"c\" as E8  <<(T,blue) attribute>> [[psysml:88e99412-8df3-4a94-a568-1984bea0c190 ]] {\r\n",
       "}\r\n",
       "E3 - -:|> E2 [[psysml:47946f32-7338-4adb-a6af-ffcb2b2265dd ]] \r\n",
       "E4 o- - E2 [[psysml:e1d329d3-cb1e-45c3-b1d5-2fcf771779ef ]] : p\r\n",
       "}\r\n",
       "@enduml\r\n",
       "\n",
       "PlantUML version 1.2020.13(Sat Jun 13 12:26:38 UTC 2020)\n",
       "(EPL source distribution)\n",
       "Java Runtime: OpenJDK Runtime Environment\n",
       "JVM: OpenJDK 64-Bit Server VM\n",
       "Default Encoding: UTF-8\n",
       "Language: en\n",
       "Country: null\n",
       "--></g></svg>"
      ]
     },
     "execution_count": 24,
     "metadata": {},
     "output_type": "execute_result"
    }
   ],
   "source": [
    "%viz --style=\"STDCOLOR\" --view=\"Tree\" \"ParameterTest\""
   ]
  },
  {
   "cell_type": "code",
   "execution_count": 25,
   "id": "86a6596c",
   "metadata": {
    "execution": {
     "iopub.execute_input": "2021-06-30T09:18:21.073699Z",
     "iopub.status.busy": "2021-06-30T09:18:21.073323Z",
     "iopub.status.idle": "2021-06-30T09:18:21.079229Z",
     "shell.execute_reply": "2021-06-30T09:18:21.078762Z"
    }
   },
   "outputs": [
    {
     "data": {
      "image/svg+xml": [
       "<?xml version=\"1.0\" encoding=\"UTF-8\" standalone=\"no\"?><svg xmlns=\"http://www.w3.org/2000/svg\" xmlns:xlink=\"http://www.w3.org/1999/xlink\" contentScriptType=\"application/ecmascript\" contentStyleType=\"text/css\" height=\"12px\" preserveAspectRatio=\"none\" style=\"width:12px;height:12px;\" version=\"1.1\" viewBox=\"0 0 12 12\" width=\"12px\" zoomAndPan=\"magnify\"><defs/><g><!--MD5=[aeeef50f102b80d730deb6443d14f702]\n",
       "@startuml\r\n",
       "skinparam wrapWidth 300\r\n",
       "hide circle\r\n",
       "\r\n",
       "@enduml\r\n",
       "\n",
       "PlantUML version 1.2020.13(Sat Jun 13 12:26:38 UTC 2020)\n",
       "(EPL source distribution)\n",
       "Java Runtime: OpenJDK Runtime Environment\n",
       "JVM: OpenJDK 64-Bit Server VM\n",
       "Default Encoding: UTF-8\n",
       "Language: en\n",
       "Country: null\n",
       "--></g></svg>"
      ]
     },
     "execution_count": 25,
     "metadata": {},
     "output_type": "execute_result"
    }
   ],
   "source": [
    "%viz --style=\"STDCOLOR\" --view=\"State\" \"ParameterTest\""
   ]
  },
  {
   "cell_type": "code",
   "execution_count": 26,
   "id": "92d68a8c",
   "metadata": {
    "execution": {
     "iopub.execute_input": "2021-06-30T09:18:21.129019Z",
     "iopub.status.busy": "2021-06-30T09:18:21.128563Z",
     "iopub.status.idle": "2021-06-30T09:18:21.170312Z",
     "shell.execute_reply": "2021-06-30T09:18:21.169865Z"
    }
   },
   "outputs": [
    {
     "data": {
      "image/svg+xml": [
       "<?xml version=\"1.0\" encoding=\"UTF-8\" standalone=\"no\"?><svg xmlns=\"http://www.w3.org/2000/svg\" xmlns:xlink=\"http://www.w3.org/1999/xlink\" contentScriptType=\"application/ecmascript\" contentStyleType=\"text/css\" height=\"216px\" preserveAspectRatio=\"none\" style=\"width:740px;height:216px;\" version=\"1.1\" viewBox=\"0 0 740 216\" width=\"740px\" zoomAndPan=\"magnify\"><defs><filter height=\"300%\" id=\"ffqx4i1pf36ty\" width=\"300%\" x=\"-1\" y=\"-1\"><feGaussianBlur result=\"blurOut\" stdDeviation=\"2.0\"/><feColorMatrix in=\"blurOut\" result=\"blurOut2\" type=\"matrix\" values=\"0 0 0 0 0 0 0 0 0 0 0 0 0 0 0 0 0 0 .4 0\"/><feOffset dx=\"4.0\" dy=\"4.0\" in=\"blurOut2\" result=\"blurOut3\"/><feBlend in=\"SourceGraphic\" in2=\"blurOut3\" mode=\"normal\"/></filter></defs><g><!--MD5=[fbc87193dbaf4d95561dea2c320d4a47]\n",
       "cluster E1--><a href=\"psysml:adbc474a-2784-4828-be47-026fefc14932\" target=\"_top\" title=\"psysml:adbc474a-2784-4828-be47-026fefc14932\" xlink:actuate=\"onRequest\" xlink:href=\"psysml:adbc474a-2784-4828-be47-026fefc14932\" xlink:show=\"new\" xlink:title=\"psysml:adbc474a-2784-4828-be47-026fefc14932\" xlink:type=\"simple\"><polygon fill=\"#FFFFFF\" filter=\"url(#ffqx4i1pf36ty)\" points=\"16,6,139,6,146,28.2969,718,28.2969,718,204.72,16,204.72,16,6\" style=\"stroke: #000000; stroke-width: 1.5;\"/><line style=\"stroke: #000000; stroke-width: 1.5;\" x1=\"16\" x2=\"146\" y1=\"28.2969\" y2=\"28.2969\"/><text fill=\"#000000\" font-family=\"sans-serif\" font-size=\"14\" font-weight=\"bold\" lengthAdjust=\"spacingAndGlyphs\" textLength=\"117\" x=\"20\" y=\"20.9951\">ParameterTest</text></a><!--MD5=[f6df4d0ebaf0b5dfb2ced0ae5af7c670]\n",
       "cluster E4--><a href=\"psysml:ea0c6e06-a87b-4616-91bc-ba79196303d0\" target=\"_top\" title=\"psysml:ea0c6e06-a87b-4616-91bc-ba79196303d0\" xlink:actuate=\"onRequest\" xlink:href=\"psysml:ea0c6e06-a87b-4616-91bc-ba79196303d0\" xlink:show=\"new\" xlink:title=\"psysml:ea0c6e06-a87b-4616-91bc-ba79196303d0\" xlink:type=\"simple\"><rect fill=\"#FFFFFF\" filter=\"url(#ffqx4i1pf36ty)\" height=\"110.72\" id=\"E4\" style=\"stroke: #A80036; stroke-width: 1.5;\" width=\"148\" x=\"554\" y=\"64\"/><rect fill=\"#FEFECE\" height=\"37.9375\" style=\"stroke: #A80036; stroke-width: 1.5;\" width=\"148\" x=\"554\" y=\"64\"/><text fill=\"#000000\" font-family=\"sans-serif\" font-size=\"12\" font-style=\"italic\" lengthAdjust=\"spacingAndGlyphs\" textLength=\"106\" x=\"575\" y=\"80.1387\">«calculation def»</text><text fill=\"#000000\" font-family=\"sans-serif\" font-size=\"12\" lengthAdjust=\"spacingAndGlyphs\" textLength=\"7\" x=\"624.5\" y=\"94.1074\">F</text></a><g id=\"E1.E2\"><a href=\"psysml:fa211d39-e6da-4efb-a07a-68e935dd1093\" target=\"_top\" title=\"psysml:fa211d39-e6da-4efb-a07a-68e935dd1093\" xlink:actuate=\"onRequest\" xlink:href=\"psysml:fa211d39-e6da-4efb-a07a-68e935dd1093\" xlink:show=\"new\" xlink:title=\"psysml:fa211d39-e6da-4efb-a07a-68e935dd1093\" xlink:type=\"simple\"><rect fill=\"#FEFECE\" filter=\"url(#ffqx4i1pf36ty)\" height=\"42.9375\" id=\"E2\" style=\"stroke: #A80036; stroke-width: 1.5;\" width=\"100\" x=\"417\" y=\"99\"/><text fill=\"#000000\" font-family=\"sans-serif\" font-size=\"12\" font-style=\"italic\" lengthAdjust=\"spacingAndGlyphs\" textLength=\"93\" x=\"420.5\" y=\"115.1387\">«attribute def»</text><text fill=\"#000000\" font-family=\"sans-serif\" font-size=\"12\" lengthAdjust=\"spacingAndGlyphs\" textLength=\"8\" x=\"463\" y=\"129.1074\">A</text></a></g><!--MD5=[09b614a08d8cba4a07c9adeb5e0fee81]\n",
       "class E3--><a href=\"psysml:665f7084-89dd-4cc9-a479-f70e09a77220\" target=\"_top\" title=\"psysml:665f7084-89dd-4cc9-a479-f70e09a77220\" xlink:actuate=\"onRequest\" xlink:href=\"psysml:665f7084-89dd-4cc9-a479-f70e09a77220\" xlink:show=\"new\" xlink:title=\"psysml:665f7084-89dd-4cc9-a479-f70e09a77220\" xlink:type=\"simple\"><rect fill=\"#FEFECE\" filter=\"url(#ffqx4i1pf36ty)\" height=\"45.9375\" id=\"E3\" rx=\"10\" ry=\"10\" style=\"stroke: #A80036; stroke-width: 1.5;\" width=\"71\" x=\"456.5\" y=\"41\"/><text fill=\"#000000\" font-family=\"sans-serif\" font-size=\"12\" font-style=\"italic\" lengthAdjust=\"spacingAndGlyphs\" textLength=\"69\" x=\"457.5\" y=\"57.1387\">«attribute»</text><text fill=\"#000000\" font-family=\"sans-serif\" font-size=\"12\" lengthAdjust=\"spacingAndGlyphs\" textLength=\"24\" x=\"480\" y=\"71.1074\">a: A</text><line style=\"stroke: #A80036; stroke-width: 1.5;\" x1=\"457.5\" x2=\"526.5\" y1=\"78.9375\" y2=\"78.9375\"/></a><!--MD5=[b9389687b975829384b498ac4b7476b2]\n",
       "class E8--><a href=\"psysml:1ebb82ef-cdf5-4836-9887-d34bbc134ce1\" target=\"_top\" title=\"psysml:1ebb82ef-cdf5-4836-9887-d34bbc134ce1\" xlink:actuate=\"onRequest\" xlink:href=\"psysml:1ebb82ef-cdf5-4836-9887-d34bbc134ce1\" xlink:show=\"new\" xlink:title=\"psysml:1ebb82ef-cdf5-4836-9887-d34bbc134ce1\" xlink:type=\"simple\"><rect fill=\"#FEFECE\" filter=\"url(#ffqx4i1pf36ty)\" height=\"45.9375\" id=\"E8\" rx=\"10\" ry=\"10\" style=\"stroke: #A80036; stroke-width: 1.5;\" width=\"71\" x=\"350.5\" y=\"41\"/><text fill=\"#000000\" font-family=\"sans-serif\" font-size=\"12\" font-style=\"italic\" lengthAdjust=\"spacingAndGlyphs\" textLength=\"69\" x=\"351.5\" y=\"57.1387\">«attribute»</text><text fill=\"#000000\" font-family=\"sans-serif\" font-size=\"12\" lengthAdjust=\"spacingAndGlyphs\" textLength=\"4\" x=\"384\" y=\"71.1074\">f</text><line style=\"stroke: #A80036; stroke-width: 1.5;\" x1=\"351.5\" x2=\"420.5\" y1=\"78.9375\" y2=\"78.9375\"/></a><!--MD5=[fd4143e9d270a159db93a4ea2a975926]\n",
       "class E9--><a href=\"psysml:22e07e99-e7e6-486c-b8ca-f79edb8ad4e8\" target=\"_top\" title=\"psysml:22e07e99-e7e6-486c-b8ca-f79edb8ad4e8\" xlink:actuate=\"onRequest\" xlink:href=\"psysml:22e07e99-e7e6-486c-b8ca-f79edb8ad4e8\" xlink:show=\"new\" xlink:title=\"psysml:22e07e99-e7e6-486c-b8ca-f79edb8ad4e8\" xlink:type=\"simple\"><rect fill=\"#FEFECE\" filter=\"url(#ffqx4i1pf36ty)\" height=\"45.9375\" id=\"E9\" rx=\"10\" ry=\"10\" style=\"stroke: #A80036; stroke-width: 1.5;\" width=\"71\" x=\"244.5\" y=\"41\"/><text fill=\"#000000\" font-family=\"sans-serif\" font-size=\"12\" font-style=\"italic\" lengthAdjust=\"spacingAndGlyphs\" textLength=\"69\" x=\"245.5\" y=\"57.1387\">«attribute»</text><text fill=\"#000000\" font-family=\"sans-serif\" font-size=\"12\" lengthAdjust=\"spacingAndGlyphs\" textLength=\"8\" x=\"276\" y=\"71.1074\">g</text><line style=\"stroke: #A80036; stroke-width: 1.5;\" x1=\"245.5\" x2=\"314.5\" y1=\"78.9375\" y2=\"78.9375\"/></a><!--MD5=[96f4274e9e20536e775497830990834d]\n",
       "class E10--><a href=\"psysml:a8be3d15-ac76-451a-a4cf-87ef8e02e637\" target=\"_top\" title=\"psysml:a8be3d15-ac76-451a-a4cf-87ef8e02e637\" xlink:actuate=\"onRequest\" xlink:href=\"psysml:a8be3d15-ac76-451a-a4cf-87ef8e02e637\" xlink:show=\"new\" xlink:title=\"psysml:a8be3d15-ac76-451a-a4cf-87ef8e02e637\" xlink:type=\"simple\"><rect fill=\"#FEFECE\" filter=\"url(#ffqx4i1pf36ty)\" height=\"45.9375\" id=\"E10\" rx=\"10\" ry=\"10\" style=\"stroke: #A80036; stroke-width: 1.5;\" width=\"71\" x=\"138.5\" y=\"41\"/><text fill=\"#000000\" font-family=\"sans-serif\" font-size=\"12\" font-style=\"italic\" lengthAdjust=\"spacingAndGlyphs\" textLength=\"69\" x=\"139.5\" y=\"57.1387\">«attribute»</text><text fill=\"#000000\" font-family=\"sans-serif\" font-size=\"12\" lengthAdjust=\"spacingAndGlyphs\" textLength=\"8\" x=\"170\" y=\"71.1074\">b</text><line style=\"stroke: #A80036; stroke-width: 1.5;\" x1=\"139.5\" x2=\"208.5\" y1=\"78.9375\" y2=\"78.9375\"/></a><!--MD5=[1dd1bfd58a279cf63c5f349dbc8fc6a1]\n",
       "class E11--><a href=\"psysml:88e99412-8df3-4a94-a568-1984bea0c190\" target=\"_top\" title=\"psysml:88e99412-8df3-4a94-a568-1984bea0c190\" xlink:actuate=\"onRequest\" xlink:href=\"psysml:88e99412-8df3-4a94-a568-1984bea0c190\" xlink:show=\"new\" xlink:title=\"psysml:88e99412-8df3-4a94-a568-1984bea0c190\" xlink:type=\"simple\"><rect fill=\"#FEFECE\" filter=\"url(#ffqx4i1pf36ty)\" height=\"45.9375\" id=\"E11\" rx=\"10\" ry=\"10\" style=\"stroke: #A80036; stroke-width: 1.5;\" width=\"71\" x=\"32.5\" y=\"41\"/><text fill=\"#000000\" font-family=\"sans-serif\" font-size=\"12\" font-style=\"italic\" lengthAdjust=\"spacingAndGlyphs\" textLength=\"69\" x=\"33.5\" y=\"57.1387\">«attribute»</text><text fill=\"#000000\" font-family=\"sans-serif\" font-size=\"12\" lengthAdjust=\"spacingAndGlyphs\" textLength=\"7\" x=\"64.5\" y=\"71.1074\">c</text><line style=\"stroke: #A80036; stroke-width: 1.5;\" x1=\"33.5\" x2=\"102.5\" y1=\"78.9375\" y2=\"78.9375\"/></a><text fill=\"#000000\" font-family=\"sans-serif\" font-size=\"14\" lengthAdjust=\"spacingAndGlyphs\" textLength=\"9\" x=\"567.5\" y=\"42.6982\">p</text><rect fill=\"#A80036\" height=\"12\" style=\"stroke: #FEFECE; stroke-width: 1.5;\" width=\"12\" x=\"566\" y=\"58\"/><text fill=\"#000000\" font-family=\"sans-serif\" font-size=\"14\" lengthAdjust=\"spacingAndGlyphs\" textLength=\"9\" x=\"614.5\" y=\"42.6982\">q</text><rect fill=\"#A80036\" height=\"12\" style=\"stroke: #FEFECE; stroke-width: 1.5;\" width=\"12\" x=\"613\" y=\"58\"/><text fill=\"#000000\" font-family=\"sans-serif\" font-size=\"14\" lengthAdjust=\"spacingAndGlyphs\" textLength=\"57\" x=\"590.5\" y=\"193.7151\">noname</text><rect fill=\"#A80036\" height=\"12\" style=\"stroke: #FEFECE; stroke-width: 1.5;\" width=\"12\" x=\"613\" y=\"168.72\"/><!--MD5=[05d275557350bfb9b23a4ef7222b4c39]\n",
       "link E3 to E2--><a href=\"psysml:47946f32-7338-4adb-a6af-ffcb2b2265dd\" target=\"_top\" title=\"psysml:47946f32-7338-4adb-a6af-ffcb2b2265dd\" xlink:actuate=\"onRequest\" xlink:href=\"psysml:47946f32-7338-4adb-a6af-ffcb2b2265dd\" xlink:show=\"new\" xlink:title=\"psysml:47946f32-7338-4adb-a6af-ffcb2b2265dd\" xlink:type=\"simple\"><path d=\"M481.83,87.17 C481.78,87.29 481.72,87.41 481.66,87.53 \" fill=\"none\" id=\"E3-&gt;E2\" style=\"stroke: #A80036; stroke-width: 1.0;\"/><polygon fill=\"#FFFFFF\" points=\"476.43,98.93,477.977,78.7407,490.7056,84.5701,476.43,98.93\" style=\"stroke: #A80036; stroke-width: 1.0;\"/><ellipse cx=\"482.1687\" cy=\"74.3911\" fill=\"#A80036\" rx=\"2\" ry=\"2\" style=\"stroke: #A80036; stroke-width: 1.0;\"/><ellipse cx=\"491.2606\" cy=\"78.555\" fill=\"#A80036\" rx=\"2\" ry=\"2\" style=\"stroke: #A80036; stroke-width: 1.0;\"/></a><!--MD5=[591c6bd71c1dca96722ed74b0a7d013a]\n",
       "@startuml\r\n",
       "skinparam ranksep 10\r\n",
       "skinparam rectangle {\r\n",
       " backgroundColor<<block>> LightGreen\r\n",
       "}\r\n",
       "skinparam wrapWidth 300\r\n",
       "hide circle\r\n",
       "\r\n",
       "package \"ParameterTest\" as E1  [[psysml:adbc474a-2784-4828-be47-026fefc14932 ]]  {\r\n",
       "def \"A\" as E2  <<(T,blue) attribute def>> [[psysml:fa211d39-e6da-4efb-a07a-68e935dd1093 ]] \r\n",
       "comp usage \"a: A\" as E3  <<(T,blue) attribute>> [[psysml:665f7084-89dd-4cc9-a479-f70e09a77220 ]] {\r\n",
       "}\r\n",
       "rec def \"F\" as E4  <<(T,blue) calculation def>> [[psysml:ea0c6e06-a87b-4616-91bc-ba79196303d0 ]] {\r\n",
       "portin \"p\" as E5  [[psysml:e1d329d3-cb1e-45c3-b1d5-2fcf771779ef ]] \r\n",
       "portin \"q\" as E6  [[psysml:b499ebef-2d53-43ba-b86a-de9084e46bb3 ]] \r\n",
       "portout \"noname\" as E7  [[psysml:2e56002b-31e4-43bf-ad2b-cc6ef1aac7ab ]] \r\n",
       "}\r\n",
       "\r\n",
       "comp usage \"f\" as E8  <<(T,blue) attribute>> [[psysml:1ebb82ef-cdf5-4836-9887-d34bbc134ce1 ]] {\r\n",
       "}\r\n",
       "comp usage \"g\" as E9  <<(T,blue) attribute>> [[psysml:22e07e99-e7e6-486c-b8ca-f79edb8ad4e8 ]] {\r\n",
       "}\r\n",
       "comp usage \"b\" as E10  <<(T,blue) attribute>> [[psysml:a8be3d15-ac76-451a-a4cf-87ef8e02e637 ]] {\r\n",
       "}\r\n",
       "comp usage \"c\" as E11  <<(T,blue) attribute>> [[psysml:88e99412-8df3-4a94-a568-1984bea0c190 ]] {\r\n",
       "}\r\n",
       "E3 - -:|> E2 [[psysml:47946f32-7338-4adb-a6af-ffcb2b2265dd ]] \r\n",
       "}\r\n",
       "@enduml\r\n",
       "\n",
       "PlantUML version 1.2020.13(Sat Jun 13 12:26:38 UTC 2020)\n",
       "(EPL source distribution)\n",
       "Java Runtime: OpenJDK Runtime Environment\n",
       "JVM: OpenJDK 64-Bit Server VM\n",
       "Default Encoding: UTF-8\n",
       "Language: en\n",
       "Country: null\n",
       "--></g></svg>"
      ]
     },
     "execution_count": 26,
     "metadata": {},
     "output_type": "execute_result"
    }
   ],
   "source": [
    "%viz --style=\"STDCOLOR\" --view=\"Interconnection\" \"ParameterTest\""
   ]
  },
  {
   "cell_type": "code",
   "execution_count": 27,
   "id": "6ab8a2a0",
   "metadata": {
    "execution": {
     "iopub.execute_input": "2021-06-30T09:18:21.222198Z",
     "iopub.status.busy": "2021-06-30T09:18:21.221509Z",
     "iopub.status.idle": "2021-06-30T09:18:21.249034Z",
     "shell.execute_reply": "2021-06-30T09:18:21.248452Z"
    }
   },
   "outputs": [
    {
     "data": {
      "image/svg+xml": [
       "<?xml version=\"1.0\" encoding=\"UTF-8\" standalone=\"no\"?><svg xmlns=\"http://www.w3.org/2000/svg\" xmlns:xlink=\"http://www.w3.org/1999/xlink\" contentScriptType=\"application/ecmascript\" contentStyleType=\"text/css\" height=\"162px\" preserveAspectRatio=\"none\" style=\"width:174px;height:162px;\" version=\"1.1\" viewBox=\"0 0 174 162\" width=\"174px\" zoomAndPan=\"magnify\"><defs><filter height=\"300%\" id=\"f14gerp4g9l5qe\" width=\"300%\" x=\"-1\" y=\"-1\"><feGaussianBlur result=\"blurOut\" stdDeviation=\"2.0\"/><feColorMatrix in=\"blurOut\" result=\"blurOut2\" type=\"matrix\" values=\"0 0 0 0 0 0 0 0 0 0 0 0 0 0 0 0 0 0 .4 0\"/><feOffset dx=\"4.0\" dy=\"4.0\" in=\"blurOut2\" result=\"blurOut3\"/><feBlend in=\"SourceGraphic\" in2=\"blurOut3\" mode=\"normal\"/></filter></defs><g><!--MD5=[fbc87193dbaf4d95561dea2c320d4a47]\n",
       "cluster E1--><a href=\"psysml:ea0c6e06-a87b-4616-91bc-ba79196303d0\" target=\"_top\" title=\"psysml:ea0c6e06-a87b-4616-91bc-ba79196303d0\" xlink:actuate=\"onRequest\" xlink:href=\"psysml:ea0c6e06-a87b-4616-91bc-ba79196303d0\" xlink:show=\"new\" xlink:title=\"psysml:ea0c6e06-a87b-4616-91bc-ba79196303d0\" xlink:type=\"simple\"><rect fill=\"#FFFFFF\" filter=\"url(#f14gerp4g9l5qe)\" height=\"87.72\" id=\"E1\" style=\"stroke: #A80036; stroke-width: 1.5;\" width=\"148\" x=\"7\" y=\"42.0986\"/><rect fill=\"#FEFECE\" height=\"37.9375\" style=\"stroke: #A80036; stroke-width: 1.5;\" width=\"148\" x=\"7\" y=\"42.0986\"/><text fill=\"#000000\" font-family=\"sans-serif\" font-size=\"12\" font-style=\"italic\" lengthAdjust=\"spacingAndGlyphs\" textLength=\"106\" x=\"28\" y=\"58.2373\">«calculation def»</text><text fill=\"#000000\" font-family=\"sans-serif\" font-size=\"12\" lengthAdjust=\"spacingAndGlyphs\" textLength=\"7\" x=\"77.5\" y=\"72.2061\">F</text></a><text fill=\"#000000\" font-family=\"sans-serif\" font-size=\"14\" lengthAdjust=\"spacingAndGlyphs\" textLength=\"9\" x=\"20.5\" y=\"20.7969\">p</text><rect fill=\"#A80036\" height=\"12\" style=\"stroke: #FEFECE; stroke-width: 1.5;\" width=\"12\" x=\"19\" y=\"36.0986\"/><text fill=\"#000000\" font-family=\"sans-serif\" font-size=\"14\" lengthAdjust=\"spacingAndGlyphs\" textLength=\"9\" x=\"67.5\" y=\"20.7969\">q</text><rect fill=\"#A80036\" height=\"12\" style=\"stroke: #FEFECE; stroke-width: 1.5;\" width=\"12\" x=\"66\" y=\"36.0986\"/><text fill=\"#000000\" font-family=\"sans-serif\" font-size=\"14\" lengthAdjust=\"spacingAndGlyphs\" textLength=\"57\" x=\"43.5\" y=\"148.8138\">noname</text><rect fill=\"#A80036\" height=\"12\" style=\"stroke: #FEFECE; stroke-width: 1.5;\" width=\"12\" x=\"66\" y=\"123.8186\"/><!--MD5=[d16fc784bbf52b60c772a81fa93e2ae4]\n",
       "@startuml\r\n",
       "skinparam ranksep 8\r\n",
       "skinparam wrapWidth 300\r\n",
       "hide circle\r\n",
       "\r\n",
       "rec def \"F\" as E1  <<(T,blue) calculation def>> [[psysml:ea0c6e06-a87b-4616-91bc-ba79196303d0 ]] {\r\n",
       "portin \"p\" as E2  [[psysml:e1d329d3-cb1e-45c3-b1d5-2fcf771779ef ]] \r\n",
       "portin \"q\" as E3  [[psysml:b499ebef-2d53-43ba-b86a-de9084e46bb3 ]] \r\n",
       "portout \"noname\" as E4  [[psysml:2e56002b-31e4-43bf-ad2b-cc6ef1aac7ab ]] \r\n",
       "}\r\n",
       "\r\n",
       "@enduml\r\n",
       "\n",
       "PlantUML version 1.2020.13(Sat Jun 13 12:26:38 UTC 2020)\n",
       "(EPL source distribution)\n",
       "Java Runtime: OpenJDK Runtime Environment\n",
       "JVM: OpenJDK 64-Bit Server VM\n",
       "Default Encoding: UTF-8\n",
       "Language: en\n",
       "Country: null\n",
       "--></g></svg>"
      ]
     },
     "execution_count": 27,
     "metadata": {},
     "output_type": "execute_result"
    }
   ],
   "source": [
    "%viz --style=\"STDCOLOR\" --view=\"Action\" \"ParameterTest\""
   ]
  },
  {
   "cell_type": "code",
   "execution_count": 28,
   "id": "7f61f752",
   "metadata": {
    "execution": {
     "iopub.execute_input": "2021-06-30T09:18:21.300137Z",
     "iopub.status.busy": "2021-06-30T09:18:21.298657Z",
     "iopub.status.idle": "2021-06-30T09:18:21.347491Z",
     "shell.execute_reply": "2021-06-30T09:18:21.347121Z"
    }
   },
   "outputs": [
    {
     "data": {
      "image/svg+xml": [
       "<?xml version=\"1.0\" encoding=\"UTF-8\" standalone=\"no\"?><svg xmlns=\"http://www.w3.org/2000/svg\" xmlns:xlink=\"http://www.w3.org/1999/xlink\" contentScriptType=\"application/ecmascript\" contentStyleType=\"text/css\" height=\"264px\" preserveAspectRatio=\"none\" style=\"width:710px;height:264px;\" version=\"1.1\" viewBox=\"0 0 710 264\" width=\"710px\" zoomAndPan=\"magnify\"><defs><filter height=\"300%\" id=\"f12m9dp5kh3y7r\" width=\"300%\" x=\"-1\" y=\"-1\"><feGaussianBlur result=\"blurOut\" stdDeviation=\"2.0\"/><feColorMatrix in=\"blurOut\" result=\"blurOut2\" type=\"matrix\" values=\"0 0 0 0 0 0 0 0 0 0 0 0 0 0 0 0 0 0 .4 0\"/><feOffset dx=\"4.0\" dy=\"4.0\" in=\"blurOut2\" result=\"blurOut3\"/><feBlend in=\"SourceGraphic\" in2=\"blurOut3\" mode=\"normal\"/></filter></defs><g><!--MD5=[fbc87193dbaf4d95561dea2c320d4a47]\n",
       "cluster E1--><a href=\"psysml:adbc474a-2784-4828-be47-026fefc14932\" target=\"_top\" title=\"psysml:adbc474a-2784-4828-be47-026fefc14932\" xlink:actuate=\"onRequest\" xlink:href=\"psysml:adbc474a-2784-4828-be47-026fefc14932\" xlink:show=\"new\" xlink:title=\"psysml:adbc474a-2784-4828-be47-026fefc14932\" xlink:type=\"simple\"><polygon fill=\"#FFFFFF\" filter=\"url(#f12m9dp5kh3y7r)\" points=\"16,6,139,6,146,28.2969,688,28.2969,688,252,16,252,16,6\" style=\"stroke: #000000; stroke-width: 1.5;\"/><line style=\"stroke: #000000; stroke-width: 1.5;\" x1=\"16\" x2=\"146\" y1=\"28.2969\" y2=\"28.2969\"/><text fill=\"#000000\" font-family=\"sans-serif\" font-size=\"14\" font-weight=\"bold\" lengthAdjust=\"spacingAndGlyphs\" textLength=\"117\" x=\"20\" y=\"20.9951\">ParameterTest</text></a><!--MD5=[b4997ac47864f28c2f74865a473b2911]\n",
       "class E2--><a href=\"psysml:fa211d39-e6da-4efb-a07a-68e935dd1093\" target=\"_top\" title=\"psysml:fa211d39-e6da-4efb-a07a-68e935dd1093\" xlink:actuate=\"onRequest\" xlink:href=\"psysml:fa211d39-e6da-4efb-a07a-68e935dd1093\" xlink:show=\"new\" xlink:title=\"psysml:fa211d39-e6da-4efb-a07a-68e935dd1093\" xlink:type=\"simple\"><rect fill=\"#FEFECE\" filter=\"url(#f12m9dp5kh3y7r)\" height=\"71.5469\" id=\"E2\" style=\"stroke: #A80036; stroke-width: 1.5;\" width=\"95\" x=\"498.5\" y=\"164\"/><text fill=\"#000000\" font-family=\"sans-serif\" font-size=\"12\" font-style=\"italic\" lengthAdjust=\"spacingAndGlyphs\" textLength=\"93\" x=\"499.5\" y=\"180.1387\">«attribute def»</text><text fill=\"#000000\" font-family=\"sans-serif\" font-size=\"12\" lengthAdjust=\"spacingAndGlyphs\" textLength=\"8\" x=\"542\" y=\"194.1074\">A</text><line style=\"stroke: #A80036; stroke-width: 1.5;\" x1=\"499.5\" x2=\"592.5\" y1=\"201.9375\" y2=\"201.9375\"/><text fill=\"#000000\" font-family=\"sans-serif\" font-size=\"11\" lengthAdjust=\"spacingAndGlyphs\" textLength=\"48\" x=\"504.5\" y=\"216.1479\">x: String</text><text fill=\"#000000\" font-family=\"sans-serif\" font-size=\"11\" lengthAdjust=\"spacingAndGlyphs\" textLength=\"21\" x=\"504.5\" y=\"228.9526\">y: A</text></a><!--MD5=[09b614a08d8cba4a07c9adeb5e0fee81]\n",
       "class E3--><a href=\"psysml:665f7084-89dd-4cc9-a479-f70e09a77220\" target=\"_top\" title=\"psysml:665f7084-89dd-4cc9-a479-f70e09a77220\" xlink:actuate=\"onRequest\" xlink:href=\"psysml:665f7084-89dd-4cc9-a479-f70e09a77220\" xlink:show=\"new\" xlink:title=\"psysml:665f7084-89dd-4cc9-a479-f70e09a77220\" xlink:type=\"simple\"><rect fill=\"#FEFECE\" filter=\"url(#f12m9dp5kh3y7r)\" height=\"45.9375\" id=\"E3\" rx=\"10\" ry=\"10\" style=\"stroke: #A80036; stroke-width: 1.5;\" width=\"71\" x=\"600.5\" y=\"41\"/><text fill=\"#000000\" font-family=\"sans-serif\" font-size=\"12\" font-style=\"italic\" lengthAdjust=\"spacingAndGlyphs\" textLength=\"69\" x=\"601.5\" y=\"57.1387\">«attribute»</text><text fill=\"#000000\" font-family=\"sans-serif\" font-size=\"12\" lengthAdjust=\"spacingAndGlyphs\" textLength=\"24\" x=\"624\" y=\"71.1074\">a: A</text><line style=\"stroke: #A80036; stroke-width: 1.5;\" x1=\"601.5\" x2=\"670.5\" y1=\"78.9375\" y2=\"78.9375\"/></a><!--MD5=[ebbe1d658d1005bcc118a6aa81145e00]\n",
       "class E4--><a href=\"psysml:ea0c6e06-a87b-4616-91bc-ba79196303d0\" target=\"_top\" title=\"psysml:ea0c6e06-a87b-4616-91bc-ba79196303d0\" xlink:actuate=\"onRequest\" xlink:href=\"psysml:ea0c6e06-a87b-4616-91bc-ba79196303d0\" xlink:show=\"new\" xlink:title=\"psysml:ea0c6e06-a87b-4616-91bc-ba79196303d0\" xlink:type=\"simple\"><rect fill=\"#FEFECE\" filter=\"url(#f12m9dp5kh3y7r)\" height=\"45.9375\" id=\"E4\" style=\"stroke: #A80036; stroke-width: 1.5;\" width=\"108\" x=\"457\" y=\"41\"/><text fill=\"#000000\" font-family=\"sans-serif\" font-size=\"12\" font-style=\"italic\" lengthAdjust=\"spacingAndGlyphs\" textLength=\"106\" x=\"458\" y=\"57.1387\">«calculation def»</text><text fill=\"#000000\" font-family=\"sans-serif\" font-size=\"12\" lengthAdjust=\"spacingAndGlyphs\" textLength=\"7\" x=\"507.5\" y=\"71.1074\">F</text><line style=\"stroke: #A80036; stroke-width: 1.5;\" x1=\"458\" x2=\"564\" y1=\"78.9375\" y2=\"78.9375\"/></a><!--MD5=[270fce915f116d4de14055a7c1d9a0f3]\n",
       "class E5--><a href=\"psysml:1ebb82ef-cdf5-4836-9887-d34bbc134ce1\" target=\"_top\" title=\"psysml:1ebb82ef-cdf5-4836-9887-d34bbc134ce1\" xlink:actuate=\"onRequest\" xlink:href=\"psysml:1ebb82ef-cdf5-4836-9887-d34bbc134ce1\" xlink:show=\"new\" xlink:title=\"psysml:1ebb82ef-cdf5-4836-9887-d34bbc134ce1\" xlink:type=\"simple\"><rect fill=\"#FEFECE\" filter=\"url(#f12m9dp5kh3y7r)\" height=\"45.9375\" id=\"E5\" rx=\"10\" ry=\"10\" style=\"stroke: #A80036; stroke-width: 1.5;\" width=\"71\" x=\"350.5\" y=\"41\"/><text fill=\"#000000\" font-family=\"sans-serif\" font-size=\"12\" font-style=\"italic\" lengthAdjust=\"spacingAndGlyphs\" textLength=\"69\" x=\"351.5\" y=\"57.1387\">«attribute»</text><text fill=\"#000000\" font-family=\"sans-serif\" font-size=\"12\" lengthAdjust=\"spacingAndGlyphs\" textLength=\"4\" x=\"384\" y=\"71.1074\">f</text><line style=\"stroke: #A80036; stroke-width: 1.5;\" x1=\"351.5\" x2=\"420.5\" y1=\"78.9375\" y2=\"78.9375\"/></a><!--MD5=[60a26617385b1d2d0262a64233df1f8d]\n",
       "class E6--><a href=\"psysml:22e07e99-e7e6-486c-b8ca-f79edb8ad4e8\" target=\"_top\" title=\"psysml:22e07e99-e7e6-486c-b8ca-f79edb8ad4e8\" xlink:actuate=\"onRequest\" xlink:href=\"psysml:22e07e99-e7e6-486c-b8ca-f79edb8ad4e8\" xlink:show=\"new\" xlink:title=\"psysml:22e07e99-e7e6-486c-b8ca-f79edb8ad4e8\" xlink:type=\"simple\"><rect fill=\"#FEFECE\" filter=\"url(#f12m9dp5kh3y7r)\" height=\"45.9375\" id=\"E6\" rx=\"10\" ry=\"10\" style=\"stroke: #A80036; stroke-width: 1.5;\" width=\"71\" x=\"244.5\" y=\"41\"/><text fill=\"#000000\" font-family=\"sans-serif\" font-size=\"12\" font-style=\"italic\" lengthAdjust=\"spacingAndGlyphs\" textLength=\"69\" x=\"245.5\" y=\"57.1387\">«attribute»</text><text fill=\"#000000\" font-family=\"sans-serif\" font-size=\"12\" lengthAdjust=\"spacingAndGlyphs\" textLength=\"8\" x=\"276\" y=\"71.1074\">g</text><line style=\"stroke: #A80036; stroke-width: 1.5;\" x1=\"245.5\" x2=\"314.5\" y1=\"78.9375\" y2=\"78.9375\"/></a><!--MD5=[2156ba9850f5573cc1fc38a6a4b2f02b]\n",
       "class E7--><a href=\"psysml:a8be3d15-ac76-451a-a4cf-87ef8e02e637\" target=\"_top\" title=\"psysml:a8be3d15-ac76-451a-a4cf-87ef8e02e637\" xlink:actuate=\"onRequest\" xlink:href=\"psysml:a8be3d15-ac76-451a-a4cf-87ef8e02e637\" xlink:show=\"new\" xlink:title=\"psysml:a8be3d15-ac76-451a-a4cf-87ef8e02e637\" xlink:type=\"simple\"><rect fill=\"#FEFECE\" filter=\"url(#f12m9dp5kh3y7r)\" height=\"45.9375\" id=\"E7\" rx=\"10\" ry=\"10\" style=\"stroke: #A80036; stroke-width: 1.5;\" width=\"71\" x=\"138.5\" y=\"41\"/><text fill=\"#000000\" font-family=\"sans-serif\" font-size=\"12\" font-style=\"italic\" lengthAdjust=\"spacingAndGlyphs\" textLength=\"69\" x=\"139.5\" y=\"57.1387\">«attribute»</text><text fill=\"#000000\" font-family=\"sans-serif\" font-size=\"12\" lengthAdjust=\"spacingAndGlyphs\" textLength=\"8\" x=\"170\" y=\"71.1074\">b</text><line style=\"stroke: #A80036; stroke-width: 1.5;\" x1=\"139.5\" x2=\"208.5\" y1=\"78.9375\" y2=\"78.9375\"/></a><!--MD5=[b9389687b975829384b498ac4b7476b2]\n",
       "class E8--><a href=\"psysml:88e99412-8df3-4a94-a568-1984bea0c190\" target=\"_top\" title=\"psysml:88e99412-8df3-4a94-a568-1984bea0c190\" xlink:actuate=\"onRequest\" xlink:href=\"psysml:88e99412-8df3-4a94-a568-1984bea0c190\" xlink:show=\"new\" xlink:title=\"psysml:88e99412-8df3-4a94-a568-1984bea0c190\" xlink:type=\"simple\"><rect fill=\"#FEFECE\" filter=\"url(#f12m9dp5kh3y7r)\" height=\"45.9375\" id=\"E8\" rx=\"10\" ry=\"10\" style=\"stroke: #A80036; stroke-width: 1.5;\" width=\"71\" x=\"32.5\" y=\"41\"/><text fill=\"#000000\" font-family=\"sans-serif\" font-size=\"12\" font-style=\"italic\" lengthAdjust=\"spacingAndGlyphs\" textLength=\"69\" x=\"33.5\" y=\"57.1387\">«attribute»</text><text fill=\"#000000\" font-family=\"sans-serif\" font-size=\"12\" lengthAdjust=\"spacingAndGlyphs\" textLength=\"7\" x=\"64.5\" y=\"71.1074\">c</text><line style=\"stroke: #A80036; stroke-width: 1.5;\" x1=\"33.5\" x2=\"102.5\" y1=\"78.9375\" y2=\"78.9375\"/></a><!--MD5=[05d275557350bfb9b23a4ef7222b4c39]\n",
       "link E3 to E2--><a href=\"psysml:47946f32-7338-4adb-a6af-ffcb2b2265dd\" target=\"_top\" title=\"psysml:47946f32-7338-4adb-a6af-ffcb2b2265dd\" xlink:actuate=\"onRequest\" xlink:href=\"psysml:47946f32-7338-4adb-a6af-ffcb2b2265dd\" xlink:show=\"new\" xlink:title=\"psysml:47946f32-7338-4adb-a6af-ffcb2b2265dd\" xlink:type=\"simple\"><path d=\"M621.14,87.13 C610.18,103.45 594.8,126.34 580.81,147.17 \" fill=\"none\" id=\"E3-&gt;E2\" style=\"stroke: #A80036; stroke-width: 1.0;\"/><polygon fill=\"#FFFFFF\" points=\"569.52,163.99,574.309,144.316,585.9284,152.1256,569.52,163.99\" style=\"stroke: #A80036; stroke-width: 1.0;\"/><ellipse cx=\"579.1486\" cy=\"140.7009\" fill=\"#A80036\" rx=\"2\" ry=\"2\" style=\"stroke: #A80036; stroke-width: 1.0;\"/><ellipse cx=\"587.4481\" cy=\"146.2792\" fill=\"#A80036\" rx=\"2\" ry=\"2\" style=\"stroke: #A80036; stroke-width: 1.0;\"/></a><!--MD5=[ddeed8deb2209213b62e6cfabaa108b2]\n",
       "reverse link E4 to E2--><a href=\"psysml:e1d329d3-cb1e-45c3-b1d5-2fcf771779ef\" target=\"_top\" title=\"psysml:e1d329d3-cb1e-45c3-b1d5-2fcf771779ef\" xlink:actuate=\"onRequest\" xlink:href=\"psysml:e1d329d3-cb1e-45c3-b1d5-2fcf771779ef\" xlink:show=\"new\" xlink:title=\"psysml:e1d329d3-cb1e-45c3-b1d5-2fcf771779ef\" xlink:type=\"simple\"><path d=\"M520.11,99.89 C525.27,119.63 531.69,144.23 536.85,163.99 \" fill=\"none\" id=\"E4&lt;-E2\" style=\"stroke: #A80036; stroke-width: 1.0;\"/><polygon fill=\"#FFFFFF\" points=\"516.78,87.13,514.4253,93.9458,519.8112,98.7408,522.1659,91.925,516.78,87.13\" style=\"stroke: #A80036; stroke-width: 1.0;\"/><text fill=\"#000000\" font-family=\"sans-serif\" font-size=\"13\" lengthAdjust=\"spacingAndGlyphs\" textLength=\"8\" x=\"529\" y=\"130.0669\">p</text></a><!--MD5=[1828845a4c17df09ef7de4bcc69f8ce5]\n",
       "@startuml\r\n",
       "skinparam wrapWidth 300\r\n",
       "hide circle\r\n",
       "\r\n",
       "package \"ParameterTest\" as E1  [[psysml:adbc474a-2784-4828-be47-026fefc14932 ]]  {\r\n",
       "comp def \"A\" as E2  <<(T,blue) attribute def>> [[psysml:fa211d39-e6da-4efb-a07a-68e935dd1093 ]] {\r\n",
       "x: String\r\n",
       "y: A\r\n",
       "}\r\n",
       "comp usage \"a: A\" as E3  <<(T,blue) attribute>> [[psysml:665f7084-89dd-4cc9-a479-f70e09a77220 ]] {\r\n",
       "}\r\n",
       "comp def \"F\" as E4  <<(T,blue) calculation def>> [[psysml:ea0c6e06-a87b-4616-91bc-ba79196303d0 ]] {\r\n",
       "}\r\n",
       "comp usage \"f\" as E5  <<(T,blue) attribute>> [[psysml:1ebb82ef-cdf5-4836-9887-d34bbc134ce1 ]] {\r\n",
       "}\r\n",
       "comp usage \"g\" as E6  <<(T,blue) attribute>> [[psysml:22e07e99-e7e6-486c-b8ca-f79edb8ad4e8 ]] {\r\n",
       "}\r\n",
       "comp usage \"b\" as E7  <<(T,blue) attribute>> [[psysml:a8be3d15-ac76-451a-a4cf-87ef8e02e637 ]] {\r\n",
       "}\r\n",
       "comp usage \"c\" as E8  <<(T,blue) attribute>> [[psysml:88e99412-8df3-4a94-a568-1984bea0c190 ]] {\r\n",
       "}\r\n",
       "E3 - -:|> E2 [[psysml:47946f32-7338-4adb-a6af-ffcb2b2265dd ]] \r\n",
       "E4 o- - E2 [[psysml:e1d329d3-cb1e-45c3-b1d5-2fcf771779ef ]] : p\r\n",
       "}\r\n",
       "@enduml\r\n",
       "\n",
       "PlantUML version 1.2020.13(Sat Jun 13 12:26:38 UTC 2020)\n",
       "(EPL source distribution)\n",
       "Java Runtime: OpenJDK Runtime Environment\n",
       "JVM: OpenJDK 64-Bit Server VM\n",
       "Default Encoding: UTF-8\n",
       "Language: en\n",
       "Country: null\n",
       "--></g></svg>"
      ]
     },
     "execution_count": 28,
     "metadata": {},
     "output_type": "execute_result"
    }
   ],
   "source": [
    "%viz --style=\"STDCOLOR\" --view=\"Sequence\" \"ParameterTest\""
   ]
  },
  {
   "cell_type": "code",
   "execution_count": 29,
   "id": "20cdb210",
   "metadata": {
    "execution": {
     "iopub.execute_input": "2021-06-30T09:18:21.397426Z",
     "iopub.status.busy": "2021-06-30T09:18:21.396812Z",
     "iopub.status.idle": "2021-06-30T09:18:21.459796Z",
     "shell.execute_reply": "2021-06-30T09:18:21.457746Z"
    }
   },
   "outputs": [
    {
     "data": {
      "image/svg+xml": [
       "<?xml version=\"1.0\" encoding=\"UTF-8\" standalone=\"no\"?><svg xmlns=\"http://www.w3.org/2000/svg\" xmlns:xlink=\"http://www.w3.org/1999/xlink\" contentScriptType=\"application/ecmascript\" contentStyleType=\"text/css\" height=\"387px\" preserveAspectRatio=\"none\" style=\"width:740px;height:387px;\" version=\"1.1\" viewBox=\"0 0 740 387\" width=\"740px\" zoomAndPan=\"magnify\"><defs><filter height=\"300%\" id=\"f14qf93kchj3tm\" width=\"300%\" x=\"-1\" y=\"-1\"><feGaussianBlur result=\"blurOut\" stdDeviation=\"2.0\"/><feColorMatrix in=\"blurOut\" result=\"blurOut2\" type=\"matrix\" values=\"0 0 0 0 0 0 0 0 0 0 0 0 0 0 0 0 0 0 .4 0\"/><feOffset dx=\"4.0\" dy=\"4.0\" in=\"blurOut2\" result=\"blurOut3\"/><feBlend in=\"SourceGraphic\" in2=\"blurOut3\" mode=\"normal\"/></filter></defs><g><!--MD5=[fbc87193dbaf4d95561dea2c320d4a47]\n",
       "cluster E1--><a href=\"psysml:adbc474a-2784-4828-be47-026fefc14932\" target=\"_top\" title=\"psysml:adbc474a-2784-4828-be47-026fefc14932\" xlink:actuate=\"onRequest\" xlink:href=\"psysml:adbc474a-2784-4828-be47-026fefc14932\" xlink:show=\"new\" xlink:title=\"psysml:adbc474a-2784-4828-be47-026fefc14932\" xlink:type=\"simple\"><polygon fill=\"#FFFFFF\" filter=\"url(#f14qf93kchj3tm)\" points=\"16,6,139,6,146,28.2969,718,28.2969,718,375.72,16,375.72,16,6\" style=\"stroke: #000000; stroke-width: 1.5;\"/><line style=\"stroke: #000000; stroke-width: 1.5;\" x1=\"16\" x2=\"146\" y1=\"28.2969\" y2=\"28.2969\"/><text fill=\"#000000\" font-family=\"sans-serif\" font-size=\"14\" font-weight=\"bold\" lengthAdjust=\"spacingAndGlyphs\" textLength=\"117\" x=\"20\" y=\"20.9951\">ParameterTest</text></a><!--MD5=[f6df4d0ebaf0b5dfb2ced0ae5af7c670]\n",
       "cluster E4--><a href=\"psysml:ea0c6e06-a87b-4616-91bc-ba79196303d0\" target=\"_top\" title=\"psysml:ea0c6e06-a87b-4616-91bc-ba79196303d0\" xlink:actuate=\"onRequest\" xlink:href=\"psysml:ea0c6e06-a87b-4616-91bc-ba79196303d0\" xlink:show=\"new\" xlink:title=\"psysml:ea0c6e06-a87b-4616-91bc-ba79196303d0\" xlink:type=\"simple\"><rect fill=\"#FFFFFF\" filter=\"url(#f14qf93kchj3tm)\" height=\"281.72\" id=\"E4\" style=\"stroke: #A80036; stroke-width: 1.5;\" width=\"148\" x=\"554\" y=\"64\"/><rect fill=\"#FEFECE\" height=\"37.9375\" style=\"stroke: #A80036; stroke-width: 1.5;\" width=\"148\" x=\"554\" y=\"64\"/><text fill=\"#000000\" font-family=\"sans-serif\" font-size=\"12\" font-style=\"italic\" lengthAdjust=\"spacingAndGlyphs\" textLength=\"106\" x=\"575\" y=\"80.1387\">«calculation def»</text><text fill=\"#000000\" font-family=\"sans-serif\" font-size=\"12\" lengthAdjust=\"spacingAndGlyphs\" textLength=\"7\" x=\"624.5\" y=\"94.1074\">F</text></a><!--MD5=[b4997ac47864f28c2f74865a473b2911]\n",
       "class E2--><a href=\"psysml:fa211d39-e6da-4efb-a07a-68e935dd1093\" target=\"_top\" title=\"psysml:fa211d39-e6da-4efb-a07a-68e935dd1093\" xlink:actuate=\"onRequest\" xlink:href=\"psysml:fa211d39-e6da-4efb-a07a-68e935dd1093\" xlink:show=\"new\" xlink:title=\"psysml:fa211d39-e6da-4efb-a07a-68e935dd1093\" xlink:type=\"simple\"><rect fill=\"#FEFECE\" filter=\"url(#f14qf93kchj3tm)\" height=\"71.5469\" id=\"E2\" style=\"stroke: #A80036; stroke-width: 1.5;\" width=\"95\" x=\"422.5\" y=\"147\"/><text fill=\"#000000\" font-family=\"sans-serif\" font-size=\"12\" font-style=\"italic\" lengthAdjust=\"spacingAndGlyphs\" textLength=\"93\" x=\"423.5\" y=\"163.1387\">«attribute def»</text><text fill=\"#000000\" font-family=\"sans-serif\" font-size=\"12\" lengthAdjust=\"spacingAndGlyphs\" textLength=\"8\" x=\"466\" y=\"177.1074\">A</text><line style=\"stroke: #A80036; stroke-width: 1.5;\" x1=\"423.5\" x2=\"516.5\" y1=\"184.9375\" y2=\"184.9375\"/><text fill=\"#000000\" font-family=\"sans-serif\" font-size=\"11\" lengthAdjust=\"spacingAndGlyphs\" textLength=\"48\" x=\"428.5\" y=\"199.1479\">x: String</text><text fill=\"#000000\" font-family=\"sans-serif\" font-size=\"11\" lengthAdjust=\"spacingAndGlyphs\" textLength=\"21\" x=\"428.5\" y=\"211.9526\">y: A</text></a><!--MD5=[09b614a08d8cba4a07c9adeb5e0fee81]\n",
       "class E3--><a href=\"psysml:665f7084-89dd-4cc9-a479-f70e09a77220\" target=\"_top\" title=\"psysml:665f7084-89dd-4cc9-a479-f70e09a77220\" xlink:actuate=\"onRequest\" xlink:href=\"psysml:665f7084-89dd-4cc9-a479-f70e09a77220\" xlink:show=\"new\" xlink:title=\"psysml:665f7084-89dd-4cc9-a479-f70e09a77220\" xlink:type=\"simple\"><rect fill=\"#FEFECE\" filter=\"url(#f14qf93kchj3tm)\" height=\"45.9375\" id=\"E3\" rx=\"10\" ry=\"10\" style=\"stroke: #A80036; stroke-width: 1.5;\" width=\"71\" x=\"456.5\" y=\"41\"/><text fill=\"#000000\" font-family=\"sans-serif\" font-size=\"12\" font-style=\"italic\" lengthAdjust=\"spacingAndGlyphs\" textLength=\"69\" x=\"457.5\" y=\"57.1387\">«attribute»</text><text fill=\"#000000\" font-family=\"sans-serif\" font-size=\"12\" lengthAdjust=\"spacingAndGlyphs\" textLength=\"24\" x=\"480\" y=\"71.1074\">a: A</text><line style=\"stroke: #A80036; stroke-width: 1.5;\" x1=\"457.5\" x2=\"526.5\" y1=\"78.9375\" y2=\"78.9375\"/></a><!--MD5=[b9389687b975829384b498ac4b7476b2]\n",
       "class E8--><a href=\"psysml:1ebb82ef-cdf5-4836-9887-d34bbc134ce1\" target=\"_top\" title=\"psysml:1ebb82ef-cdf5-4836-9887-d34bbc134ce1\" xlink:actuate=\"onRequest\" xlink:href=\"psysml:1ebb82ef-cdf5-4836-9887-d34bbc134ce1\" xlink:show=\"new\" xlink:title=\"psysml:1ebb82ef-cdf5-4836-9887-d34bbc134ce1\" xlink:type=\"simple\"><rect fill=\"#FEFECE\" filter=\"url(#f14qf93kchj3tm)\" height=\"45.9375\" id=\"E8\" rx=\"10\" ry=\"10\" style=\"stroke: #A80036; stroke-width: 1.5;\" width=\"71\" x=\"350.5\" y=\"41\"/><text fill=\"#000000\" font-family=\"sans-serif\" font-size=\"12\" font-style=\"italic\" lengthAdjust=\"spacingAndGlyphs\" textLength=\"69\" x=\"351.5\" y=\"57.1387\">«attribute»</text><text fill=\"#000000\" font-family=\"sans-serif\" font-size=\"12\" lengthAdjust=\"spacingAndGlyphs\" textLength=\"4\" x=\"384\" y=\"71.1074\">f</text><line style=\"stroke: #A80036; stroke-width: 1.5;\" x1=\"351.5\" x2=\"420.5\" y1=\"78.9375\" y2=\"78.9375\"/></a><!--MD5=[fd4143e9d270a159db93a4ea2a975926]\n",
       "class E9--><a href=\"psysml:22e07e99-e7e6-486c-b8ca-f79edb8ad4e8\" target=\"_top\" title=\"psysml:22e07e99-e7e6-486c-b8ca-f79edb8ad4e8\" xlink:actuate=\"onRequest\" xlink:href=\"psysml:22e07e99-e7e6-486c-b8ca-f79edb8ad4e8\" xlink:show=\"new\" xlink:title=\"psysml:22e07e99-e7e6-486c-b8ca-f79edb8ad4e8\" xlink:type=\"simple\"><rect fill=\"#FEFECE\" filter=\"url(#f14qf93kchj3tm)\" height=\"45.9375\" id=\"E9\" rx=\"10\" ry=\"10\" style=\"stroke: #A80036; stroke-width: 1.5;\" width=\"71\" x=\"244.5\" y=\"41\"/><text fill=\"#000000\" font-family=\"sans-serif\" font-size=\"12\" font-style=\"italic\" lengthAdjust=\"spacingAndGlyphs\" textLength=\"69\" x=\"245.5\" y=\"57.1387\">«attribute»</text><text fill=\"#000000\" font-family=\"sans-serif\" font-size=\"12\" lengthAdjust=\"spacingAndGlyphs\" textLength=\"8\" x=\"276\" y=\"71.1074\">g</text><line style=\"stroke: #A80036; stroke-width: 1.5;\" x1=\"245.5\" x2=\"314.5\" y1=\"78.9375\" y2=\"78.9375\"/></a><!--MD5=[96f4274e9e20536e775497830990834d]\n",
       "class E10--><a href=\"psysml:a8be3d15-ac76-451a-a4cf-87ef8e02e637\" target=\"_top\" title=\"psysml:a8be3d15-ac76-451a-a4cf-87ef8e02e637\" xlink:actuate=\"onRequest\" xlink:href=\"psysml:a8be3d15-ac76-451a-a4cf-87ef8e02e637\" xlink:show=\"new\" xlink:title=\"psysml:a8be3d15-ac76-451a-a4cf-87ef8e02e637\" xlink:type=\"simple\"><rect fill=\"#FEFECE\" filter=\"url(#f14qf93kchj3tm)\" height=\"45.9375\" id=\"E10\" rx=\"10\" ry=\"10\" style=\"stroke: #A80036; stroke-width: 1.5;\" width=\"71\" x=\"138.5\" y=\"41\"/><text fill=\"#000000\" font-family=\"sans-serif\" font-size=\"12\" font-style=\"italic\" lengthAdjust=\"spacingAndGlyphs\" textLength=\"69\" x=\"139.5\" y=\"57.1387\">«attribute»</text><text fill=\"#000000\" font-family=\"sans-serif\" font-size=\"12\" lengthAdjust=\"spacingAndGlyphs\" textLength=\"8\" x=\"170\" y=\"71.1074\">b</text><line style=\"stroke: #A80036; stroke-width: 1.5;\" x1=\"139.5\" x2=\"208.5\" y1=\"78.9375\" y2=\"78.9375\"/></a><!--MD5=[1dd1bfd58a279cf63c5f349dbc8fc6a1]\n",
       "class E11--><a href=\"psysml:88e99412-8df3-4a94-a568-1984bea0c190\" target=\"_top\" title=\"psysml:88e99412-8df3-4a94-a568-1984bea0c190\" xlink:actuate=\"onRequest\" xlink:href=\"psysml:88e99412-8df3-4a94-a568-1984bea0c190\" xlink:show=\"new\" xlink:title=\"psysml:88e99412-8df3-4a94-a568-1984bea0c190\" xlink:type=\"simple\"><rect fill=\"#FEFECE\" filter=\"url(#f14qf93kchj3tm)\" height=\"45.9375\" id=\"E11\" rx=\"10\" ry=\"10\" style=\"stroke: #A80036; stroke-width: 1.5;\" width=\"71\" x=\"32.5\" y=\"41\"/><text fill=\"#000000\" font-family=\"sans-serif\" font-size=\"12\" font-style=\"italic\" lengthAdjust=\"spacingAndGlyphs\" textLength=\"69\" x=\"33.5\" y=\"57.1387\">«attribute»</text><text fill=\"#000000\" font-family=\"sans-serif\" font-size=\"12\" lengthAdjust=\"spacingAndGlyphs\" textLength=\"7\" x=\"64.5\" y=\"71.1074\">c</text><line style=\"stroke: #A80036; stroke-width: 1.5;\" x1=\"33.5\" x2=\"102.5\" y1=\"78.9375\" y2=\"78.9375\"/></a><text fill=\"#000000\" font-family=\"sans-serif\" font-size=\"14\" lengthAdjust=\"spacingAndGlyphs\" textLength=\"9\" x=\"567.5\" y=\"42.6982\">p</text><rect fill=\"#A80036\" height=\"12\" style=\"stroke: #FEFECE; stroke-width: 1.5;\" width=\"12\" x=\"566\" y=\"58\"/><text fill=\"#000000\" font-family=\"sans-serif\" font-size=\"14\" lengthAdjust=\"spacingAndGlyphs\" textLength=\"9\" x=\"614.5\" y=\"42.6982\">q</text><rect fill=\"#A80036\" height=\"12\" style=\"stroke: #FEFECE; stroke-width: 1.5;\" width=\"12\" x=\"613\" y=\"58\"/><text fill=\"#000000\" font-family=\"sans-serif\" font-size=\"14\" lengthAdjust=\"spacingAndGlyphs\" textLength=\"57\" x=\"590.5\" y=\"364.7151\">noname</text><rect fill=\"#A80036\" height=\"12\" style=\"stroke: #FEFECE; stroke-width: 1.5;\" width=\"12\" x=\"613\" y=\"339.72\"/><!--MD5=[05d275557350bfb9b23a4ef7222b4c39]\n",
       "link E3 to E2--><a href=\"psysml:47946f32-7338-4adb-a6af-ffcb2b2265dd\" target=\"_top\" title=\"psysml:47946f32-7338-4adb-a6af-ffcb2b2265dd\" xlink:actuate=\"onRequest\" xlink:href=\"psysml:47946f32-7338-4adb-a6af-ffcb2b2265dd\" xlink:show=\"new\" xlink:title=\"psysml:47946f32-7338-4adb-a6af-ffcb2b2265dd\" xlink:type=\"simple\"><path d=\"M487.86,87.01 C485.74,98.3 483.05,112.62 480.4,126.7 \" fill=\"none\" id=\"E3-&gt;E2\" style=\"stroke: #A80036; stroke-width: 1.0;\"/><polygon fill=\"#FFFFFF\" points=\"476.63,146.75,473.2514,126.7854,487.0116,129.3654,476.63,146.75\" style=\"stroke: #A80036; stroke-width: 1.0;\"/><ellipse cx=\"476.2676\" cy=\"121.5516\" fill=\"#A80036\" rx=\"2\" ry=\"2\" style=\"stroke: #A80036; stroke-width: 1.0;\"/><ellipse cx=\"486.0963\" cy=\"123.3945\" fill=\"#A80036\" rx=\"2\" ry=\"2\" style=\"stroke: #A80036; stroke-width: 1.0;\"/></a><!--MD5=[b0e0de45e6b487df970556d99b661621]\n",
       "@startuml\r\n",
       "skinparam wrapWidth 300\r\n",
       "hide circle\r\n",
       "\r\n",
       "package \"ParameterTest\" as E1  [[psysml:adbc474a-2784-4828-be47-026fefc14932 ]]  {\r\n",
       "comp def \"A\" as E2  <<(T,blue) attribute def>> [[psysml:fa211d39-e6da-4efb-a07a-68e935dd1093 ]] {\r\n",
       "x: String\r\n",
       "y: A\r\n",
       "}\r\n",
       "comp usage \"a: A\" as E3  <<(T,blue) attribute>> [[psysml:665f7084-89dd-4cc9-a479-f70e09a77220 ]] {\r\n",
       "}\r\n",
       "rec def \"F\" as E4  <<(T,blue) calculation def>> [[psysml:ea0c6e06-a87b-4616-91bc-ba79196303d0 ]] {\r\n",
       "portin \"p\" as E5  [[psysml:e1d329d3-cb1e-45c3-b1d5-2fcf771779ef ]] \r\n",
       "portin \"q\" as E6  [[psysml:b499ebef-2d53-43ba-b86a-de9084e46bb3 ]] \r\n",
       "portout \"noname\" as E7  [[psysml:2e56002b-31e4-43bf-ad2b-cc6ef1aac7ab ]] \r\n",
       "}\r\n",
       "\r\n",
       "comp usage \"f\" as E8  <<(T,blue) attribute>> [[psysml:1ebb82ef-cdf5-4836-9887-d34bbc134ce1 ]] {\r\n",
       "}\r\n",
       "comp usage \"g\" as E9  <<(T,blue) attribute>> [[psysml:22e07e99-e7e6-486c-b8ca-f79edb8ad4e8 ]] {\r\n",
       "}\r\n",
       "comp usage \"b\" as E10  <<(T,blue) attribute>> [[psysml:a8be3d15-ac76-451a-a4cf-87ef8e02e637 ]] {\r\n",
       "}\r\n",
       "comp usage \"c\" as E11  <<(T,blue) attribute>> [[psysml:88e99412-8df3-4a94-a568-1984bea0c190 ]] {\r\n",
       "}\r\n",
       "E3 - -:|> E2 [[psysml:47946f32-7338-4adb-a6af-ffcb2b2265dd ]] \r\n",
       "}\r\n",
       "@enduml\r\n",
       "\n",
       "PlantUML version 1.2020.13(Sat Jun 13 12:26:38 UTC 2020)\n",
       "(EPL source distribution)\n",
       "Java Runtime: OpenJDK Runtime Environment\n",
       "JVM: OpenJDK 64-Bit Server VM\n",
       "Default Encoding: UTF-8\n",
       "Language: en\n",
       "Country: null\n",
       "--></g></svg>"
      ]
     },
     "execution_count": 29,
     "metadata": {},
     "output_type": "execute_result"
    }
   ],
   "source": [
    "%viz --style=\"STDCOLOR\" --view=\"MIXED\" \"ParameterTest\""
   ]
  },
  {
   "cell_type": "code",
   "execution_count": 30,
   "id": "1c1bf3d2",
   "metadata": {
    "execution": {
     "iopub.execute_input": "2021-06-30T09:18:21.509633Z",
     "iopub.status.busy": "2021-06-30T09:18:21.509136Z",
     "iopub.status.idle": "2021-06-30T09:18:21.603276Z",
     "shell.execute_reply": "2021-06-30T09:18:21.602159Z"
    }
   },
   "outputs": [
    {
     "data": {
      "image/svg+xml": [
       "<?xml version=\"1.0\" encoding=\"UTF-8\" standalone=\"no\"?><svg xmlns=\"http://www.w3.org/2000/svg\" xmlns:xlink=\"http://www.w3.org/1999/xlink\" contentScriptType=\"application/ecmascript\" contentStyleType=\"text/css\" height=\"387px\" preserveAspectRatio=\"none\" style=\"width:868px;height:387px;\" version=\"1.1\" viewBox=\"0 0 868 387\" width=\"868px\" zoomAndPan=\"magnify\"><defs><filter height=\"300%\" id=\"f1oa5vdyp0qgde\" width=\"300%\" x=\"-1\" y=\"-1\"><feGaussianBlur result=\"blurOut\" stdDeviation=\"2.0\"/><feColorMatrix in=\"blurOut\" result=\"blurOut2\" type=\"matrix\" values=\"0 0 0 0 0 0 0 0 0 0 0 0 0 0 0 0 0 0 .4 0\"/><feOffset dx=\"4.0\" dy=\"4.0\" in=\"blurOut2\" result=\"blurOut3\"/><feBlend in=\"SourceGraphic\" in2=\"blurOut3\" mode=\"normal\"/></filter></defs><g><!--MD5=[fbc87193dbaf4d95561dea2c320d4a47]\n",
       "cluster E1--><a href=\"psysml:adbc474a-2784-4828-be47-026fefc14932\" target=\"_top\" title=\"psysml:adbc474a-2784-4828-be47-026fefc14932\" xlink:actuate=\"onRequest\" xlink:href=\"psysml:adbc474a-2784-4828-be47-026fefc14932\" xlink:show=\"new\" xlink:title=\"psysml:adbc474a-2784-4828-be47-026fefc14932\" xlink:type=\"simple\"><polygon fill=\"#FFFFFF\" filter=\"url(#f1oa5vdyp0qgde)\" points=\"16,6,139,6,146,28.2969,846,28.2969,846,375.72,16,375.72,16,6\" style=\"stroke: #000000; stroke-width: 1.5;\"/><line style=\"stroke: #000000; stroke-width: 1.5;\" x1=\"16\" x2=\"146\" y1=\"28.2969\" y2=\"28.2969\"/><text fill=\"#000000\" font-family=\"sans-serif\" font-size=\"14\" font-weight=\"bold\" lengthAdjust=\"spacingAndGlyphs\" textLength=\"117\" x=\"20\" y=\"20.9951\">ParameterTest</text></a><!--MD5=[f6df4d0ebaf0b5dfb2ced0ae5af7c670]\n",
       "cluster E4--><a href=\"psysml:ea0c6e06-a87b-4616-91bc-ba79196303d0\" target=\"_top\" title=\"psysml:ea0c6e06-a87b-4616-91bc-ba79196303d0\" xlink:actuate=\"onRequest\" xlink:href=\"psysml:ea0c6e06-a87b-4616-91bc-ba79196303d0\" xlink:show=\"new\" xlink:title=\"psysml:ea0c6e06-a87b-4616-91bc-ba79196303d0\" xlink:type=\"simple\"><rect fill=\"#FFFFFF\" filter=\"url(#f1oa5vdyp0qgde)\" height=\"281.72\" id=\"E4\" style=\"stroke: #A80036; stroke-width: 1.5;\" width=\"148\" x=\"682\" y=\"64\"/><rect fill=\"#FEFECE\" height=\"37.9375\" style=\"stroke: #A80036; stroke-width: 1.5;\" width=\"148\" x=\"682\" y=\"64\"/><text fill=\"#000000\" font-family=\"sans-serif\" font-size=\"12\" font-style=\"italic\" lengthAdjust=\"spacingAndGlyphs\" textLength=\"106\" x=\"703\" y=\"80.1387\">«calculation def»</text><text fill=\"#000000\" font-family=\"sans-serif\" font-size=\"12\" lengthAdjust=\"spacingAndGlyphs\" textLength=\"7\" x=\"752.5\" y=\"94.1074\">F</text></a><!--MD5=[b4997ac47864f28c2f74865a473b2911]\n",
       "class E2--><a href=\"psysml:fa211d39-e6da-4efb-a07a-68e935dd1093\" target=\"_top\" title=\"psysml:fa211d39-e6da-4efb-a07a-68e935dd1093\" xlink:actuate=\"onRequest\" xlink:href=\"psysml:fa211d39-e6da-4efb-a07a-68e935dd1093\" xlink:show=\"new\" xlink:title=\"psysml:fa211d39-e6da-4efb-a07a-68e935dd1093\" xlink:type=\"simple\"><rect fill=\"#FEFECE\" filter=\"url(#f1oa5vdyp0qgde)\" height=\"71.5469\" id=\"E2\" style=\"stroke: #A80036; stroke-width: 1.5;\" width=\"121\" x=\"524.5\" y=\"147\"/><ellipse cx=\"539.5\" cy=\"165.9688\" fill=\"#A52A2A\" rx=\"11\" ry=\"11\" style=\"stroke: #A80036; stroke-width: 1.0;\"/><path d=\"M539.0938,161.7813 L539.0938,169.7656 L539.75,169.7656 Q541.1875,169.7656 541.7969,168.8594 Q542.4219,167.9375 542.4219,165.7656 Q542.4219,163.5938 541.7969,162.6875 Q541.1875,161.7813 539.75,161.7813 L539.0938,161.7813 Z M536.6406,159.5781 L539.2656,159.5781 Q542.2969,159.5781 543.625,161.0313 Q544.9688,162.4688 544.9688,165.7656 Q544.9688,169.0625 543.625,170.5156 Q542.2969,171.9688 539.2656,171.9688 L536.6406,171.9688 L536.6406,159.5781 Z \"/><text fill=\"#000000\" font-family=\"sans-serif\" font-size=\"12\" font-style=\"italic\" lengthAdjust=\"spacingAndGlyphs\" textLength=\"93\" x=\"551.5\" y=\"163.1387\">«attribute def»</text><text fill=\"#000000\" font-family=\"sans-serif\" font-size=\"12\" lengthAdjust=\"spacingAndGlyphs\" textLength=\"8\" x=\"594\" y=\"177.1074\">A</text><line style=\"stroke: #A80036; stroke-width: 1.5;\" x1=\"525.5\" x2=\"644.5\" y1=\"184.9375\" y2=\"184.9375\"/><text fill=\"#000000\" font-family=\"sans-serif\" font-size=\"11\" lengthAdjust=\"spacingAndGlyphs\" textLength=\"48\" x=\"530.5\" y=\"199.1479\">x: String</text><text fill=\"#000000\" font-family=\"sans-serif\" font-size=\"11\" lengthAdjust=\"spacingAndGlyphs\" textLength=\"21\" x=\"530.5\" y=\"211.9526\">y: A</text></a><!--MD5=[09b614a08d8cba4a07c9adeb5e0fee81]\n",
       "class E3--><a href=\"psysml:665f7084-89dd-4cc9-a479-f70e09a77220\" target=\"_top\" title=\"psysml:665f7084-89dd-4cc9-a479-f70e09a77220\" xlink:actuate=\"onRequest\" xlink:href=\"psysml:665f7084-89dd-4cc9-a479-f70e09a77220\" xlink:show=\"new\" xlink:title=\"psysml:665f7084-89dd-4cc9-a479-f70e09a77220\" xlink:type=\"simple\"><rect fill=\"#FEFECE\" filter=\"url(#f1oa5vdyp0qgde)\" height=\"45.9375\" id=\"E3\" rx=\"10\" ry=\"10\" style=\"stroke: #A80036; stroke-width: 1.5;\" width=\"97\" x=\"559.5\" y=\"41\"/><ellipse cx=\"574.5\" cy=\"59.9688\" fill=\"#FFA500\" rx=\"11\" ry=\"11\" style=\"stroke: #A80036; stroke-width: 1.0;\"/><path d=\"M570.375,61.8906 L570.375,54.0781 L572.8281,54.0781 L572.8281,62.5156 Q572.8281,63.4375 573.2969,63.9688 Q573.7813,64.5 574.6094,64.5 Q575.4531,64.5 575.9219,63.9688 Q576.3906,63.4375 576.3906,62.5156 L576.3906,54.0781 L578.8438,54.0781 L578.8438,61.8906 Q578.8438,64.4219 577.8438,65.5625 Q576.8438,66.7031 574.6094,66.7031 Q572.3906,66.7031 571.375,65.5625 Q570.375,64.4219 570.375,61.8906 Z \"/><text fill=\"#000000\" font-family=\"sans-serif\" font-size=\"12\" font-style=\"italic\" lengthAdjust=\"spacingAndGlyphs\" textLength=\"69\" x=\"586.5\" y=\"57.1387\">«attribute»</text><text fill=\"#000000\" font-family=\"sans-serif\" font-size=\"12\" lengthAdjust=\"spacingAndGlyphs\" textLength=\"24\" x=\"609\" y=\"71.1074\">a: A</text><line style=\"stroke: #A80036; stroke-width: 1.5;\" x1=\"560.5\" x2=\"655.5\" y1=\"78.9375\" y2=\"78.9375\"/></a><!--MD5=[b9389687b975829384b498ac4b7476b2]\n",
       "class E8--><a href=\"psysml:1ebb82ef-cdf5-4836-9887-d34bbc134ce1\" target=\"_top\" title=\"psysml:1ebb82ef-cdf5-4836-9887-d34bbc134ce1\" xlink:actuate=\"onRequest\" xlink:href=\"psysml:1ebb82ef-cdf5-4836-9887-d34bbc134ce1\" xlink:show=\"new\" xlink:title=\"psysml:1ebb82ef-cdf5-4836-9887-d34bbc134ce1\" xlink:type=\"simple\"><rect fill=\"#FEFECE\" filter=\"url(#f1oa5vdyp0qgde)\" height=\"45.9375\" id=\"E8\" rx=\"10\" ry=\"10\" style=\"stroke: #A80036; stroke-width: 1.5;\" width=\"97\" x=\"427.5\" y=\"41\"/><ellipse cx=\"442.5\" cy=\"59.9688\" fill=\"#FFA500\" rx=\"11\" ry=\"11\" style=\"stroke: #A80036; stroke-width: 1.0;\"/><path d=\"M438.375,61.8906 L438.375,54.0781 L440.8281,54.0781 L440.8281,62.5156 Q440.8281,63.4375 441.2969,63.9688 Q441.7813,64.5 442.6094,64.5 Q443.4531,64.5 443.9219,63.9688 Q444.3906,63.4375 444.3906,62.5156 L444.3906,54.0781 L446.8438,54.0781 L446.8438,61.8906 Q446.8438,64.4219 445.8438,65.5625 Q444.8438,66.7031 442.6094,66.7031 Q440.3906,66.7031 439.375,65.5625 Q438.375,64.4219 438.375,61.8906 Z \"/><text fill=\"#000000\" font-family=\"sans-serif\" font-size=\"12\" font-style=\"italic\" lengthAdjust=\"spacingAndGlyphs\" textLength=\"69\" x=\"454.5\" y=\"57.1387\">«attribute»</text><text fill=\"#000000\" font-family=\"sans-serif\" font-size=\"12\" lengthAdjust=\"spacingAndGlyphs\" textLength=\"4\" x=\"487\" y=\"71.1074\">f</text><line style=\"stroke: #A80036; stroke-width: 1.5;\" x1=\"428.5\" x2=\"523.5\" y1=\"78.9375\" y2=\"78.9375\"/></a><!--MD5=[fd4143e9d270a159db93a4ea2a975926]\n",
       "class E9--><a href=\"psysml:22e07e99-e7e6-486c-b8ca-f79edb8ad4e8\" target=\"_top\" title=\"psysml:22e07e99-e7e6-486c-b8ca-f79edb8ad4e8\" xlink:actuate=\"onRequest\" xlink:href=\"psysml:22e07e99-e7e6-486c-b8ca-f79edb8ad4e8\" xlink:show=\"new\" xlink:title=\"psysml:22e07e99-e7e6-486c-b8ca-f79edb8ad4e8\" xlink:type=\"simple\"><rect fill=\"#FEFECE\" filter=\"url(#f1oa5vdyp0qgde)\" height=\"45.9375\" id=\"E9\" rx=\"10\" ry=\"10\" style=\"stroke: #A80036; stroke-width: 1.5;\" width=\"97\" x=\"295.5\" y=\"41\"/><ellipse cx=\"310.5\" cy=\"59.9688\" fill=\"#FFA500\" rx=\"11\" ry=\"11\" style=\"stroke: #A80036; stroke-width: 1.0;\"/><path d=\"M306.375,61.8906 L306.375,54.0781 L308.8281,54.0781 L308.8281,62.5156 Q308.8281,63.4375 309.2969,63.9688 Q309.7813,64.5 310.6094,64.5 Q311.4531,64.5 311.9219,63.9688 Q312.3906,63.4375 312.3906,62.5156 L312.3906,54.0781 L314.8438,54.0781 L314.8438,61.8906 Q314.8438,64.4219 313.8438,65.5625 Q312.8438,66.7031 310.6094,66.7031 Q308.3906,66.7031 307.375,65.5625 Q306.375,64.4219 306.375,61.8906 Z \"/><text fill=\"#000000\" font-family=\"sans-serif\" font-size=\"12\" font-style=\"italic\" lengthAdjust=\"spacingAndGlyphs\" textLength=\"69\" x=\"322.5\" y=\"57.1387\">«attribute»</text><text fill=\"#000000\" font-family=\"sans-serif\" font-size=\"12\" lengthAdjust=\"spacingAndGlyphs\" textLength=\"8\" x=\"353\" y=\"71.1074\">g</text><line style=\"stroke: #A80036; stroke-width: 1.5;\" x1=\"296.5\" x2=\"391.5\" y1=\"78.9375\" y2=\"78.9375\"/></a><!--MD5=[96f4274e9e20536e775497830990834d]\n",
       "class E10--><a href=\"psysml:a8be3d15-ac76-451a-a4cf-87ef8e02e637\" target=\"_top\" title=\"psysml:a8be3d15-ac76-451a-a4cf-87ef8e02e637\" xlink:actuate=\"onRequest\" xlink:href=\"psysml:a8be3d15-ac76-451a-a4cf-87ef8e02e637\" xlink:show=\"new\" xlink:title=\"psysml:a8be3d15-ac76-451a-a4cf-87ef8e02e637\" xlink:type=\"simple\"><rect fill=\"#FEFECE\" filter=\"url(#f1oa5vdyp0qgde)\" height=\"45.9375\" id=\"E10\" rx=\"10\" ry=\"10\" style=\"stroke: #A80036; stroke-width: 1.5;\" width=\"97\" x=\"163.5\" y=\"41\"/><ellipse cx=\"178.5\" cy=\"59.9688\" fill=\"#FFA500\" rx=\"11\" ry=\"11\" style=\"stroke: #A80036; stroke-width: 1.0;\"/><path d=\"M174.375,61.8906 L174.375,54.0781 L176.8281,54.0781 L176.8281,62.5156 Q176.8281,63.4375 177.2969,63.9688 Q177.7813,64.5 178.6094,64.5 Q179.4531,64.5 179.9219,63.9688 Q180.3906,63.4375 180.3906,62.5156 L180.3906,54.0781 L182.8438,54.0781 L182.8438,61.8906 Q182.8438,64.4219 181.8438,65.5625 Q180.8438,66.7031 178.6094,66.7031 Q176.3906,66.7031 175.375,65.5625 Q174.375,64.4219 174.375,61.8906 Z \"/><text fill=\"#000000\" font-family=\"sans-serif\" font-size=\"12\" font-style=\"italic\" lengthAdjust=\"spacingAndGlyphs\" textLength=\"69\" x=\"190.5\" y=\"57.1387\">«attribute»</text><text fill=\"#000000\" font-family=\"sans-serif\" font-size=\"12\" lengthAdjust=\"spacingAndGlyphs\" textLength=\"8\" x=\"221\" y=\"71.1074\">b</text><line style=\"stroke: #A80036; stroke-width: 1.5;\" x1=\"164.5\" x2=\"259.5\" y1=\"78.9375\" y2=\"78.9375\"/></a><!--MD5=[1dd1bfd58a279cf63c5f349dbc8fc6a1]\n",
       "class E11--><a href=\"psysml:88e99412-8df3-4a94-a568-1984bea0c190\" target=\"_top\" title=\"psysml:88e99412-8df3-4a94-a568-1984bea0c190\" xlink:actuate=\"onRequest\" xlink:href=\"psysml:88e99412-8df3-4a94-a568-1984bea0c190\" xlink:show=\"new\" xlink:title=\"psysml:88e99412-8df3-4a94-a568-1984bea0c190\" xlink:type=\"simple\"><rect fill=\"#FEFECE\" filter=\"url(#f1oa5vdyp0qgde)\" height=\"45.9375\" id=\"E11\" rx=\"10\" ry=\"10\" style=\"stroke: #A80036; stroke-width: 1.5;\" width=\"97\" x=\"31.5\" y=\"41\"/><ellipse cx=\"46.5\" cy=\"59.9688\" fill=\"#FFA500\" rx=\"11\" ry=\"11\" style=\"stroke: #A80036; stroke-width: 1.0;\"/><path d=\"M42.375,61.8906 L42.375,54.0781 L44.8281,54.0781 L44.8281,62.5156 Q44.8281,63.4375 45.2969,63.9688 Q45.7813,64.5 46.6094,64.5 Q47.4531,64.5 47.9219,63.9688 Q48.3906,63.4375 48.3906,62.5156 L48.3906,54.0781 L50.8438,54.0781 L50.8438,61.8906 Q50.8438,64.4219 49.8438,65.5625 Q48.8438,66.7031 46.6094,66.7031 Q44.3906,66.7031 43.375,65.5625 Q42.375,64.4219 42.375,61.8906 Z \"/><text fill=\"#000000\" font-family=\"sans-serif\" font-size=\"12\" font-style=\"italic\" lengthAdjust=\"spacingAndGlyphs\" textLength=\"69\" x=\"58.5\" y=\"57.1387\">«attribute»</text><text fill=\"#000000\" font-family=\"sans-serif\" font-size=\"12\" lengthAdjust=\"spacingAndGlyphs\" textLength=\"7\" x=\"89.5\" y=\"71.1074\">c</text><line style=\"stroke: #A80036; stroke-width: 1.5;\" x1=\"32.5\" x2=\"127.5\" y1=\"78.9375\" y2=\"78.9375\"/></a><text fill=\"#000000\" font-family=\"sans-serif\" font-size=\"14\" lengthAdjust=\"spacingAndGlyphs\" textLength=\"9\" x=\"695.5\" y=\"42.6982\">p</text><rect fill=\"#A80036\" height=\"12\" style=\"stroke: #FEFECE; stroke-width: 1.5;\" width=\"12\" x=\"694\" y=\"58\"/><text fill=\"#000000\" font-family=\"sans-serif\" font-size=\"14\" lengthAdjust=\"spacingAndGlyphs\" textLength=\"9\" x=\"742.5\" y=\"42.6982\">q</text><rect fill=\"#A80036\" height=\"12\" style=\"stroke: #FEFECE; stroke-width: 1.5;\" width=\"12\" x=\"741\" y=\"58\"/><text fill=\"#000000\" font-family=\"sans-serif\" font-size=\"14\" lengthAdjust=\"spacingAndGlyphs\" textLength=\"57\" x=\"718.5\" y=\"364.7151\">noname</text><rect fill=\"#A80036\" height=\"12\" style=\"stroke: #FEFECE; stroke-width: 1.5;\" width=\"12\" x=\"741\" y=\"339.72\"/><!--MD5=[05d275557350bfb9b23a4ef7222b4c39]\n",
       "link E3 to E2--><a href=\"psysml:47946f32-7338-4adb-a6af-ffcb2b2265dd\" target=\"_top\" title=\"psysml:47946f32-7338-4adb-a6af-ffcb2b2265dd\" xlink:actuate=\"onRequest\" xlink:href=\"psysml:47946f32-7338-4adb-a6af-ffcb2b2265dd\" xlink:show=\"new\" xlink:title=\"psysml:47946f32-7338-4adb-a6af-ffcb2b2265dd\" xlink:type=\"simple\"><path d=\"M603.67,87.01 C601.45,98.3 598.64,112.62 595.87,126.7 \" fill=\"none\" id=\"E3-&gt;E2\" style=\"stroke: #A80036; stroke-width: 1.0;\"/><polygon fill=\"#FFFFFF\" points=\"591.93,146.75,588.7277,126.7564,602.4646,129.4577,591.93,146.75\" style=\"stroke: #A80036; stroke-width: 1.0;\"/><ellipse cx=\"591.7899\" cy=\"121.5494\" fill=\"#A80036\" rx=\"2\" ry=\"2\" style=\"stroke: #A80036; stroke-width: 1.0;\"/><ellipse cx=\"601.602\" cy=\"123.4789\" fill=\"#A80036\" rx=\"2\" ry=\"2\" style=\"stroke: #A80036; stroke-width: 1.0;\"/></a><!--MD5=[cff03b056da0311306d9b91e6a2e7d3d]\n",
       "@startuml\r\n",
       " \r\n",
       "package \"ParameterTest\" as E1  [[psysml:adbc474a-2784-4828-be47-026fefc14932 ]]  {\r\n",
       "comp def \"A\" as E2 << <<(D,brown) attribute def>> [[psysml:fa211d39-e6da-4efb-a07a-68e935dd1093 ]] {\r\n",
       "x: String\r\n",
       "y: A\r\n",
       "}\r\n",
       "comp usage \"a: A\" as E3 << <<(U,orange) attribute>> [[psysml:665f7084-89dd-4cc9-a479-f70e09a77220 ]] {\r\n",
       "}\r\n",
       "rec def \"F\" as E4 << <<(B,lemonchiffon) calculation def>> [[psysml:ea0c6e06-a87b-4616-91bc-ba79196303d0 ]] {\r\n",
       "portin \"p\" as E5  [[psysml:e1d329d3-cb1e-45c3-b1d5-2fcf771779ef ]] \r\n",
       "portin \"q\" as E6  [[psysml:b499ebef-2d53-43ba-b86a-de9084e46bb3 ]] \r\n",
       "portout \"noname\" as E7  [[psysml:2e56002b-31e4-43bf-ad2b-cc6ef1aac7ab ]] \r\n",
       "}\r\n",
       "\r\n",
       "comp usage \"f\" as E8 << <<(U,orange) attribute>> [[psysml:1ebb82ef-cdf5-4836-9887-d34bbc134ce1 ]] {\r\n",
       "}\r\n",
       "comp usage \"g\" as E9 << <<(U,orange) attribute>> [[psysml:22e07e99-e7e6-486c-b8ca-f79edb8ad4e8 ]] {\r\n",
       "}\r\n",
       "comp usage \"b\" as E10 << <<(U,orange) attribute>> [[psysml:a8be3d15-ac76-451a-a4cf-87ef8e02e637 ]] {\r\n",
       "}\r\n",
       "comp usage \"c\" as E11 << <<(U,orange) attribute>> [[psysml:88e99412-8df3-4a94-a568-1984bea0c190 ]] {\r\n",
       "}\r\n",
       "E3 - -:|> E2 [[psysml:47946f32-7338-4adb-a6af-ffcb2b2265dd ]] \r\n",
       "}\r\n",
       "@enduml\r\n",
       "\n",
       "PlantUML version 1.2020.13(Sat Jun 13 12:26:38 UTC 2020)\n",
       "(EPL source distribution)\n",
       "Java Runtime: OpenJDK Runtime Environment\n",
       "JVM: OpenJDK 64-Bit Server VM\n",
       "Default Encoding: UTF-8\n",
       "Language: en\n",
       "Country: null\n",
       "--></g></svg>"
      ]
     },
     "execution_count": 30,
     "metadata": {},
     "output_type": "execute_result"
    }
   ],
   "source": [
    "%viz --style=\"PLANTUML\" --view=\"Default\" \"ParameterTest\""
   ]
  },
  {
   "cell_type": "code",
   "execution_count": 31,
   "id": "80ab5147",
   "metadata": {
    "execution": {
     "iopub.execute_input": "2021-06-30T09:18:21.652985Z",
     "iopub.status.busy": "2021-06-30T09:18:21.651860Z",
     "iopub.status.idle": "2021-06-30T09:18:21.708158Z",
     "shell.execute_reply": "2021-06-30T09:18:21.706310Z"
    }
   },
   "outputs": [
    {
     "data": {
      "image/svg+xml": [
       "<?xml version=\"1.0\" encoding=\"UTF-8\" standalone=\"no\"?><svg xmlns=\"http://www.w3.org/2000/svg\" xmlns:xlink=\"http://www.w3.org/1999/xlink\" contentScriptType=\"application/ecmascript\" contentStyleType=\"text/css\" height=\"264px\" preserveAspectRatio=\"none\" style=\"width:864px;height:264px;\" version=\"1.1\" viewBox=\"0 0 864 264\" width=\"864px\" zoomAndPan=\"magnify\"><defs><filter height=\"300%\" id=\"f1nszpmalf80zb\" width=\"300%\" x=\"-1\" y=\"-1\"><feGaussianBlur result=\"blurOut\" stdDeviation=\"2.0\"/><feColorMatrix in=\"blurOut\" result=\"blurOut2\" type=\"matrix\" values=\"0 0 0 0 0 0 0 0 0 0 0 0 0 0 0 0 0 0 .4 0\"/><feOffset dx=\"4.0\" dy=\"4.0\" in=\"blurOut2\" result=\"blurOut3\"/><feBlend in=\"SourceGraphic\" in2=\"blurOut3\" mode=\"normal\"/></filter></defs><g><!--MD5=[fbc87193dbaf4d95561dea2c320d4a47]\n",
       "cluster E1--><a href=\"psysml:adbc474a-2784-4828-be47-026fefc14932\" target=\"_top\" title=\"psysml:adbc474a-2784-4828-be47-026fefc14932\" xlink:actuate=\"onRequest\" xlink:href=\"psysml:adbc474a-2784-4828-be47-026fefc14932\" xlink:show=\"new\" xlink:title=\"psysml:adbc474a-2784-4828-be47-026fefc14932\" xlink:type=\"simple\"><polygon fill=\"#FFFFFF\" filter=\"url(#f1nszpmalf80zb)\" points=\"16,6,139,6,146,28.2969,842,28.2969,842,252,16,252,16,6\" style=\"stroke: #000000; stroke-width: 1.5;\"/><line style=\"stroke: #000000; stroke-width: 1.5;\" x1=\"16\" x2=\"146\" y1=\"28.2969\" y2=\"28.2969\"/><text fill=\"#000000\" font-family=\"sans-serif\" font-size=\"14\" font-weight=\"bold\" lengthAdjust=\"spacingAndGlyphs\" textLength=\"117\" x=\"20\" y=\"20.9951\">ParameterTest</text></a><!--MD5=[b4997ac47864f28c2f74865a473b2911]\n",
       "class E2--><a href=\"psysml:fa211d39-e6da-4efb-a07a-68e935dd1093\" target=\"_top\" title=\"psysml:fa211d39-e6da-4efb-a07a-68e935dd1093\" xlink:actuate=\"onRequest\" xlink:href=\"psysml:fa211d39-e6da-4efb-a07a-68e935dd1093\" xlink:show=\"new\" xlink:title=\"psysml:fa211d39-e6da-4efb-a07a-68e935dd1093\" xlink:type=\"simple\"><rect fill=\"#FEFECE\" filter=\"url(#f1nszpmalf80zb)\" height=\"71.5469\" id=\"E2\" style=\"stroke: #A80036; stroke-width: 1.5;\" width=\"121\" x=\"642.5\" y=\"164\"/><ellipse cx=\"657.5\" cy=\"182.9688\" fill=\"#A52A2A\" rx=\"11\" ry=\"11\" style=\"stroke: #A80036; stroke-width: 1.0;\"/><path d=\"M657.0938,178.7813 L657.0938,186.7656 L657.75,186.7656 Q659.1875,186.7656 659.7969,185.8594 Q660.4219,184.9375 660.4219,182.7656 Q660.4219,180.5938 659.7969,179.6875 Q659.1875,178.7813 657.75,178.7813 L657.0938,178.7813 Z M654.6406,176.5781 L657.2656,176.5781 Q660.2969,176.5781 661.625,178.0313 Q662.9688,179.4688 662.9688,182.7656 Q662.9688,186.0625 661.625,187.5156 Q660.2969,188.9688 657.2656,188.9688 L654.6406,188.9688 L654.6406,176.5781 Z \"/><text fill=\"#000000\" font-family=\"sans-serif\" font-size=\"12\" font-style=\"italic\" lengthAdjust=\"spacingAndGlyphs\" textLength=\"93\" x=\"669.5\" y=\"180.1387\">«attribute def»</text><text fill=\"#000000\" font-family=\"sans-serif\" font-size=\"12\" lengthAdjust=\"spacingAndGlyphs\" textLength=\"8\" x=\"712\" y=\"194.1074\">A</text><line style=\"stroke: #A80036; stroke-width: 1.5;\" x1=\"643.5\" x2=\"762.5\" y1=\"201.9375\" y2=\"201.9375\"/><text fill=\"#000000\" font-family=\"sans-serif\" font-size=\"11\" lengthAdjust=\"spacingAndGlyphs\" textLength=\"48\" x=\"648.5\" y=\"216.1479\">x: String</text><text fill=\"#000000\" font-family=\"sans-serif\" font-size=\"11\" lengthAdjust=\"spacingAndGlyphs\" textLength=\"21\" x=\"648.5\" y=\"228.9526\">y: A</text></a><!--MD5=[09b614a08d8cba4a07c9adeb5e0fee81]\n",
       "class E3--><a href=\"psysml:665f7084-89dd-4cc9-a479-f70e09a77220\" target=\"_top\" title=\"psysml:665f7084-89dd-4cc9-a479-f70e09a77220\" xlink:actuate=\"onRequest\" xlink:href=\"psysml:665f7084-89dd-4cc9-a479-f70e09a77220\" xlink:show=\"new\" xlink:title=\"psysml:665f7084-89dd-4cc9-a479-f70e09a77220\" xlink:type=\"simple\"><rect fill=\"#FEFECE\" filter=\"url(#f1nszpmalf80zb)\" height=\"45.9375\" id=\"E3\" rx=\"10\" ry=\"10\" style=\"stroke: #A80036; stroke-width: 1.5;\" width=\"97\" x=\"729.5\" y=\"41\"/><ellipse cx=\"744.5\" cy=\"59.9688\" fill=\"#FFA500\" rx=\"11\" ry=\"11\" style=\"stroke: #A80036; stroke-width: 1.0;\"/><path d=\"M740.375,61.8906 L740.375,54.0781 L742.8281,54.0781 L742.8281,62.5156 Q742.8281,63.4375 743.2969,63.9688 Q743.7813,64.5 744.6094,64.5 Q745.4531,64.5 745.9219,63.9688 Q746.3906,63.4375 746.3906,62.5156 L746.3906,54.0781 L748.8438,54.0781 L748.8438,61.8906 Q748.8438,64.4219 747.8438,65.5625 Q746.8438,66.7031 744.6094,66.7031 Q742.3906,66.7031 741.375,65.5625 Q740.375,64.4219 740.375,61.8906 Z \"/><text fill=\"#000000\" font-family=\"sans-serif\" font-size=\"12\" font-style=\"italic\" lengthAdjust=\"spacingAndGlyphs\" textLength=\"69\" x=\"756.5\" y=\"57.1387\">«attribute»</text><text fill=\"#000000\" font-family=\"sans-serif\" font-size=\"12\" lengthAdjust=\"spacingAndGlyphs\" textLength=\"24\" x=\"779\" y=\"71.1074\">a: A</text><line style=\"stroke: #A80036; stroke-width: 1.5;\" x1=\"730.5\" x2=\"825.5\" y1=\"78.9375\" y2=\"78.9375\"/></a><!--MD5=[ebbe1d658d1005bcc118a6aa81145e00]\n",
       "class E4--><a href=\"psysml:ea0c6e06-a87b-4616-91bc-ba79196303d0\" target=\"_top\" title=\"psysml:ea0c6e06-a87b-4616-91bc-ba79196303d0\" xlink:actuate=\"onRequest\" xlink:href=\"psysml:ea0c6e06-a87b-4616-91bc-ba79196303d0\" xlink:show=\"new\" xlink:title=\"psysml:ea0c6e06-a87b-4616-91bc-ba79196303d0\" xlink:type=\"simple\"><rect fill=\"#FEFECE\" filter=\"url(#f1nszpmalf80zb)\" height=\"45.9375\" id=\"E4\" style=\"stroke: #A80036; stroke-width: 1.5;\" width=\"134\" x=\"560\" y=\"41\"/><ellipse cx=\"575\" cy=\"59.9688\" fill=\"#FFFACD\" rx=\"11\" ry=\"11\" style=\"stroke: #A80036; stroke-width: 1.0;\"/><path d=\"M573.9063,60.3438 L573.9063,64.0156 L575.5313,64.0156 Q576.7031,64.0156 577.1719,63.625 Q577.6406,63.2188 577.6406,62.2188 Q577.6406,61.2188 577.1406,60.7813 Q576.6563,60.3438 575.5313,60.3438 L573.9063,60.3438 Z M573.9063,55.5156 L573.9063,58.3906 L575.5313,58.3906 Q576.4531,58.3906 576.8438,58.0625 Q577.25,57.7188 577.25,56.9688 Q577.25,56.2031 576.8438,55.8594 Q576.4375,55.5156 575.5313,55.5156 L573.9063,55.5156 Z M571.5313,53.5625 L575.5313,53.5625 Q577.5938,53.5625 578.6406,54.3438 Q579.6875,55.125 579.6875,56.6875 Q579.6875,57.8906 579.0625,58.5625 Q578.4531,59.2344 577.2656,59.3438 Q578.6875,59.4844 579.4063,60.2969 Q580.125,61.1094 580.125,62.5625 Q580.125,64.3594 579.0469,65.1719 Q577.9688,65.9688 575.5313,65.9688 L571.5313,65.9688 L571.5313,53.5625 Z \"/><text fill=\"#000000\" font-family=\"sans-serif\" font-size=\"12\" font-style=\"italic\" lengthAdjust=\"spacingAndGlyphs\" textLength=\"106\" x=\"587\" y=\"57.1387\">«calculation def»</text><text fill=\"#000000\" font-family=\"sans-serif\" font-size=\"12\" lengthAdjust=\"spacingAndGlyphs\" textLength=\"7\" x=\"636.5\" y=\"71.1074\">F</text><line style=\"stroke: #A80036; stroke-width: 1.5;\" x1=\"561\" x2=\"693\" y1=\"78.9375\" y2=\"78.9375\"/></a><!--MD5=[270fce915f116d4de14055a7c1d9a0f3]\n",
       "class E5--><a href=\"psysml:1ebb82ef-cdf5-4836-9887-d34bbc134ce1\" target=\"_top\" title=\"psysml:1ebb82ef-cdf5-4836-9887-d34bbc134ce1\" xlink:actuate=\"onRequest\" xlink:href=\"psysml:1ebb82ef-cdf5-4836-9887-d34bbc134ce1\" xlink:show=\"new\" xlink:title=\"psysml:1ebb82ef-cdf5-4836-9887-d34bbc134ce1\" xlink:type=\"simple\"><rect fill=\"#FEFECE\" filter=\"url(#f1nszpmalf80zb)\" height=\"45.9375\" id=\"E5\" rx=\"10\" ry=\"10\" style=\"stroke: #A80036; stroke-width: 1.5;\" width=\"97\" x=\"427.5\" y=\"41\"/><ellipse cx=\"442.5\" cy=\"59.9688\" fill=\"#FFA500\" rx=\"11\" ry=\"11\" style=\"stroke: #A80036; stroke-width: 1.0;\"/><path d=\"M438.375,61.8906 L438.375,54.0781 L440.8281,54.0781 L440.8281,62.5156 Q440.8281,63.4375 441.2969,63.9688 Q441.7813,64.5 442.6094,64.5 Q443.4531,64.5 443.9219,63.9688 Q444.3906,63.4375 444.3906,62.5156 L444.3906,54.0781 L446.8438,54.0781 L446.8438,61.8906 Q446.8438,64.4219 445.8438,65.5625 Q444.8438,66.7031 442.6094,66.7031 Q440.3906,66.7031 439.375,65.5625 Q438.375,64.4219 438.375,61.8906 Z \"/><text fill=\"#000000\" font-family=\"sans-serif\" font-size=\"12\" font-style=\"italic\" lengthAdjust=\"spacingAndGlyphs\" textLength=\"69\" x=\"454.5\" y=\"57.1387\">«attribute»</text><text fill=\"#000000\" font-family=\"sans-serif\" font-size=\"12\" lengthAdjust=\"spacingAndGlyphs\" textLength=\"4\" x=\"487\" y=\"71.1074\">f</text><line style=\"stroke: #A80036; stroke-width: 1.5;\" x1=\"428.5\" x2=\"523.5\" y1=\"78.9375\" y2=\"78.9375\"/></a><!--MD5=[60a26617385b1d2d0262a64233df1f8d]\n",
       "class E6--><a href=\"psysml:22e07e99-e7e6-486c-b8ca-f79edb8ad4e8\" target=\"_top\" title=\"psysml:22e07e99-e7e6-486c-b8ca-f79edb8ad4e8\" xlink:actuate=\"onRequest\" xlink:href=\"psysml:22e07e99-e7e6-486c-b8ca-f79edb8ad4e8\" xlink:show=\"new\" xlink:title=\"psysml:22e07e99-e7e6-486c-b8ca-f79edb8ad4e8\" xlink:type=\"simple\"><rect fill=\"#FEFECE\" filter=\"url(#f1nszpmalf80zb)\" height=\"45.9375\" id=\"E6\" rx=\"10\" ry=\"10\" style=\"stroke: #A80036; stroke-width: 1.5;\" width=\"97\" x=\"295.5\" y=\"41\"/><ellipse cx=\"310.5\" cy=\"59.9688\" fill=\"#FFA500\" rx=\"11\" ry=\"11\" style=\"stroke: #A80036; stroke-width: 1.0;\"/><path d=\"M306.375,61.8906 L306.375,54.0781 L308.8281,54.0781 L308.8281,62.5156 Q308.8281,63.4375 309.2969,63.9688 Q309.7813,64.5 310.6094,64.5 Q311.4531,64.5 311.9219,63.9688 Q312.3906,63.4375 312.3906,62.5156 L312.3906,54.0781 L314.8438,54.0781 L314.8438,61.8906 Q314.8438,64.4219 313.8438,65.5625 Q312.8438,66.7031 310.6094,66.7031 Q308.3906,66.7031 307.375,65.5625 Q306.375,64.4219 306.375,61.8906 Z \"/><text fill=\"#000000\" font-family=\"sans-serif\" font-size=\"12\" font-style=\"italic\" lengthAdjust=\"spacingAndGlyphs\" textLength=\"69\" x=\"322.5\" y=\"57.1387\">«attribute»</text><text fill=\"#000000\" font-family=\"sans-serif\" font-size=\"12\" lengthAdjust=\"spacingAndGlyphs\" textLength=\"8\" x=\"353\" y=\"71.1074\">g</text><line style=\"stroke: #A80036; stroke-width: 1.5;\" x1=\"296.5\" x2=\"391.5\" y1=\"78.9375\" y2=\"78.9375\"/></a><!--MD5=[2156ba9850f5573cc1fc38a6a4b2f02b]\n",
       "class E7--><a href=\"psysml:a8be3d15-ac76-451a-a4cf-87ef8e02e637\" target=\"_top\" title=\"psysml:a8be3d15-ac76-451a-a4cf-87ef8e02e637\" xlink:actuate=\"onRequest\" xlink:href=\"psysml:a8be3d15-ac76-451a-a4cf-87ef8e02e637\" xlink:show=\"new\" xlink:title=\"psysml:a8be3d15-ac76-451a-a4cf-87ef8e02e637\" xlink:type=\"simple\"><rect fill=\"#FEFECE\" filter=\"url(#f1nszpmalf80zb)\" height=\"45.9375\" id=\"E7\" rx=\"10\" ry=\"10\" style=\"stroke: #A80036; stroke-width: 1.5;\" width=\"97\" x=\"163.5\" y=\"41\"/><ellipse cx=\"178.5\" cy=\"59.9688\" fill=\"#FFA500\" rx=\"11\" ry=\"11\" style=\"stroke: #A80036; stroke-width: 1.0;\"/><path d=\"M174.375,61.8906 L174.375,54.0781 L176.8281,54.0781 L176.8281,62.5156 Q176.8281,63.4375 177.2969,63.9688 Q177.7813,64.5 178.6094,64.5 Q179.4531,64.5 179.9219,63.9688 Q180.3906,63.4375 180.3906,62.5156 L180.3906,54.0781 L182.8438,54.0781 L182.8438,61.8906 Q182.8438,64.4219 181.8438,65.5625 Q180.8438,66.7031 178.6094,66.7031 Q176.3906,66.7031 175.375,65.5625 Q174.375,64.4219 174.375,61.8906 Z \"/><text fill=\"#000000\" font-family=\"sans-serif\" font-size=\"12\" font-style=\"italic\" lengthAdjust=\"spacingAndGlyphs\" textLength=\"69\" x=\"190.5\" y=\"57.1387\">«attribute»</text><text fill=\"#000000\" font-family=\"sans-serif\" font-size=\"12\" lengthAdjust=\"spacingAndGlyphs\" textLength=\"8\" x=\"221\" y=\"71.1074\">b</text><line style=\"stroke: #A80036; stroke-width: 1.5;\" x1=\"164.5\" x2=\"259.5\" y1=\"78.9375\" y2=\"78.9375\"/></a><!--MD5=[b9389687b975829384b498ac4b7476b2]\n",
       "class E8--><a href=\"psysml:88e99412-8df3-4a94-a568-1984bea0c190\" target=\"_top\" title=\"psysml:88e99412-8df3-4a94-a568-1984bea0c190\" xlink:actuate=\"onRequest\" xlink:href=\"psysml:88e99412-8df3-4a94-a568-1984bea0c190\" xlink:show=\"new\" xlink:title=\"psysml:88e99412-8df3-4a94-a568-1984bea0c190\" xlink:type=\"simple\"><rect fill=\"#FEFECE\" filter=\"url(#f1nszpmalf80zb)\" height=\"45.9375\" id=\"E8\" rx=\"10\" ry=\"10\" style=\"stroke: #A80036; stroke-width: 1.5;\" width=\"97\" x=\"31.5\" y=\"41\"/><ellipse cx=\"46.5\" cy=\"59.9688\" fill=\"#FFA500\" rx=\"11\" ry=\"11\" style=\"stroke: #A80036; stroke-width: 1.0;\"/><path d=\"M42.375,61.8906 L42.375,54.0781 L44.8281,54.0781 L44.8281,62.5156 Q44.8281,63.4375 45.2969,63.9688 Q45.7813,64.5 46.6094,64.5 Q47.4531,64.5 47.9219,63.9688 Q48.3906,63.4375 48.3906,62.5156 L48.3906,54.0781 L50.8438,54.0781 L50.8438,61.8906 Q50.8438,64.4219 49.8438,65.5625 Q48.8438,66.7031 46.6094,66.7031 Q44.3906,66.7031 43.375,65.5625 Q42.375,64.4219 42.375,61.8906 Z \"/><text fill=\"#000000\" font-family=\"sans-serif\" font-size=\"12\" font-style=\"italic\" lengthAdjust=\"spacingAndGlyphs\" textLength=\"69\" x=\"58.5\" y=\"57.1387\">«attribute»</text><text fill=\"#000000\" font-family=\"sans-serif\" font-size=\"12\" lengthAdjust=\"spacingAndGlyphs\" textLength=\"7\" x=\"89.5\" y=\"71.1074\">c</text><line style=\"stroke: #A80036; stroke-width: 1.5;\" x1=\"32.5\" x2=\"127.5\" y1=\"78.9375\" y2=\"78.9375\"/></a><!--MD5=[05d275557350bfb9b23a4ef7222b4c39]\n",
       "link E3 to E2--><a href=\"psysml:47946f32-7338-4adb-a6af-ffcb2b2265dd\" target=\"_top\" title=\"psysml:47946f32-7338-4adb-a6af-ffcb2b2265dd\" xlink:actuate=\"onRequest\" xlink:href=\"psysml:47946f32-7338-4adb-a6af-ffcb2b2265dd\" xlink:show=\"new\" xlink:title=\"psysml:47946f32-7338-4adb-a6af-ffcb2b2265dd\" xlink:type=\"simple\"><path d=\"M765.62,87.13 C756.62,103.2 744.05,125.65 732.54,146.23 \" fill=\"none\" id=\"E3-&gt;E2\" style=\"stroke: #A80036; stroke-width: 1.0;\"/><polygon fill=\"#FFFFFF\" points=\"722.6,163.99,725.7664,143.9907,737.9848,150.8253,722.6,163.99\" style=\"stroke: #A80036; stroke-width: 1.0;\"/><ellipse cx=\"730.2946\" cy=\"139.9924\" fill=\"#A80036\" rx=\"2\" ry=\"2\" style=\"stroke: #A80036; stroke-width: 1.0;\"/><ellipse cx=\"739.022\" cy=\"144.8743\" fill=\"#A80036\" rx=\"2\" ry=\"2\" style=\"stroke: #A80036; stroke-width: 1.0;\"/></a><!--MD5=[ddeed8deb2209213b62e6cfabaa108b2]\n",
       "reverse link E4 to E2--><a href=\"psysml:e1d329d3-cb1e-45c3-b1d5-2fcf771779ef\" target=\"_top\" title=\"psysml:e1d329d3-cb1e-45c3-b1d5-2fcf771779ef\" xlink:actuate=\"onRequest\" xlink:href=\"psysml:e1d329d3-cb1e-45c3-b1d5-2fcf771779ef\" xlink:show=\"new\" xlink:title=\"psysml:e1d329d3-cb1e-45c3-b1d5-2fcf771779ef\" xlink:type=\"simple\"><path d=\"M645.99,98.48 C657.31,118.44 671.67,143.76 683.14,163.99 \" fill=\"none\" id=\"E4&lt;-E2\" style=\"stroke: #A80036; stroke-width: 1.0;\"/><polygon fill=\"#FFFFFF\" points=\"639.55,87.13,639.0333,94.3226,645.4738,97.5659,645.9905,90.3734,639.55,87.13\" style=\"stroke: #A80036; stroke-width: 1.0;\"/><text fill=\"#000000\" font-family=\"sans-serif\" font-size=\"13\" lengthAdjust=\"spacingAndGlyphs\" textLength=\"8\" x=\"666\" y=\"130.0669\">p</text></a><!--MD5=[1b0ebd807d0cce70ea94075dab8bad3e]\n",
       "@startuml\r\n",
       " \r\n",
       "package \"ParameterTest\" as E1  [[psysml:adbc474a-2784-4828-be47-026fefc14932 ]]  {\r\n",
       "comp def \"A\" as E2 << <<(D,brown) attribute def>> [[psysml:fa211d39-e6da-4efb-a07a-68e935dd1093 ]] {\r\n",
       "x: String\r\n",
       "y: A\r\n",
       "}\r\n",
       "comp usage \"a: A\" as E3 << <<(U,orange) attribute>> [[psysml:665f7084-89dd-4cc9-a479-f70e09a77220 ]] {\r\n",
       "}\r\n",
       "comp def \"F\" as E4 << <<(B,lemonchiffon) calculation def>> [[psysml:ea0c6e06-a87b-4616-91bc-ba79196303d0 ]] {\r\n",
       "}\r\n",
       "comp usage \"f\" as E5 << <<(U,orange) attribute>> [[psysml:1ebb82ef-cdf5-4836-9887-d34bbc134ce1 ]] {\r\n",
       "}\r\n",
       "comp usage \"g\" as E6 << <<(U,orange) attribute>> [[psysml:22e07e99-e7e6-486c-b8ca-f79edb8ad4e8 ]] {\r\n",
       "}\r\n",
       "comp usage \"b\" as E7 << <<(U,orange) attribute>> [[psysml:a8be3d15-ac76-451a-a4cf-87ef8e02e637 ]] {\r\n",
       "}\r\n",
       "comp usage \"c\" as E8 << <<(U,orange) attribute>> [[psysml:88e99412-8df3-4a94-a568-1984bea0c190 ]] {\r\n",
       "}\r\n",
       "E3 - -:|> E2 [[psysml:47946f32-7338-4adb-a6af-ffcb2b2265dd ]] \r\n",
       "E4 o- - E2 [[psysml:e1d329d3-cb1e-45c3-b1d5-2fcf771779ef ]] : p\r\n",
       "}\r\n",
       "@enduml\r\n",
       "\n",
       "PlantUML version 1.2020.13(Sat Jun 13 12:26:38 UTC 2020)\n",
       "(EPL source distribution)\n",
       "Java Runtime: OpenJDK Runtime Environment\n",
       "JVM: OpenJDK 64-Bit Server VM\n",
       "Default Encoding: UTF-8\n",
       "Language: en\n",
       "Country: null\n",
       "--></g></svg>"
      ]
     },
     "execution_count": 31,
     "metadata": {},
     "output_type": "execute_result"
    }
   ],
   "source": [
    "%viz --style=\"PLANTUML\" --view=\"Tree\" \"ParameterTest\""
   ]
  },
  {
   "cell_type": "code",
   "execution_count": 32,
   "id": "386c6c07",
   "metadata": {
    "execution": {
     "iopub.execute_input": "2021-06-30T09:18:21.757738Z",
     "iopub.status.busy": "2021-06-30T09:18:21.757348Z",
     "iopub.status.idle": "2021-06-30T09:18:21.866088Z",
     "shell.execute_reply": "2021-06-30T09:18:21.864245Z"
    }
   },
   "outputs": [
    {
     "data": {
      "image/svg+xml": [
       "<?xml version=\"1.0\" encoding=\"UTF-8\" standalone=\"no\"?><svg xmlns=\"http://www.w3.org/2000/svg\" xmlns:xlink=\"http://www.w3.org/1999/xlink\" contentScriptType=\"application/ecmascript\" contentStyleType=\"text/css\" height=\"303px\" preserveAspectRatio=\"none\" style=\"width:603px;height:303px;background:#000000;\" version=\"1.1\" viewBox=\"0 0 603 303\" width=\"603px\" zoomAndPan=\"magnify\"><defs/><g><rect fill=\"#1C1A09\" height=\"1\" style=\"stroke: #1C1A09; stroke-width: 1.0;\" width=\"1\" x=\"0\" y=\"0\"/><rect fill=\"#FFFFFF\" height=\"205.5625\" style=\"stroke: #FFFFFF; stroke-width: 1.0;\" width=\"602\" x=\"0\" y=\"0\"/><text fill=\"#000000\" font-family=\"sans-serif\" font-size=\"12\" font-weight=\"bold\" lengthAdjust=\"spacingAndGlyphs\" textLength=\"159\" x=\"5\" y=\"16.1387\">Welcome to PlantUML!</text><text fill=\"#000000\" font-family=\"sans-serif\" font-size=\"12\" lengthAdjust=\"spacingAndGlyphs\" textLength=\"0\" x=\"9\" y=\"30.1074\"/><text fill=\"#000000\" font-family=\"sans-serif\" font-size=\"12\" lengthAdjust=\"spacingAndGlyphs\" textLength=\"293\" x=\"5\" y=\"44.0762\">If you use this software, you accept its license.</text><text fill=\"#000000\" font-family=\"sans-serif\" font-size=\"12\" lengthAdjust=\"spacingAndGlyphs\" textLength=\"107\" x=\"5\" y=\"58.0449\">(details by typing</text><text fill=\"#000000\" font-family=\"monospace\" font-size=\"12\" lengthAdjust=\"spacingAndGlyphs\" textLength=\"49\" x=\"116\" y=\"58.0449\">license</text><text fill=\"#000000\" font-family=\"sans-serif\" font-size=\"12\" lengthAdjust=\"spacingAndGlyphs\" textLength=\"56\" x=\"169\" y=\"58.0449\">keyword)</text><text fill=\"#000000\" font-family=\"sans-serif\" font-size=\"12\" lengthAdjust=\"spacingAndGlyphs\" textLength=\"0\" x=\"9\" y=\"72.0137\"/><text fill=\"#000000\" font-family=\"sans-serif\" font-size=\"12\" lengthAdjust=\"spacingAndGlyphs\" textLength=\"283\" x=\"5\" y=\"85.9824\">You can start with a simple UML Diagram like:</text><text fill=\"#000000\" font-family=\"sans-serif\" font-size=\"12\" lengthAdjust=\"spacingAndGlyphs\" textLength=\"0\" x=\"9\" y=\"99.9512\"/><text fill=\"#000000\" font-family=\"monospace\" font-size=\"12\" lengthAdjust=\"spacingAndGlyphs\" textLength=\"119\" x=\"5\" y=\"113.9199\">Bob-&gt;Alice: Hello</text><text fill=\"#000000\" font-family=\"sans-serif\" font-size=\"12\" lengthAdjust=\"spacingAndGlyphs\" textLength=\"0\" x=\"9\" y=\"127.8887\"/><text fill=\"#000000\" font-family=\"sans-serif\" font-size=\"12\" lengthAdjust=\"spacingAndGlyphs\" textLength=\"14\" x=\"5\" y=\"141.8574\">Or</text><text fill=\"#000000\" font-family=\"sans-serif\" font-size=\"12\" lengthAdjust=\"spacingAndGlyphs\" textLength=\"0\" x=\"9\" y=\"155.8262\"/><text fill=\"#000000\" font-family=\"monospace\" font-size=\"12\" lengthAdjust=\"spacingAndGlyphs\" textLength=\"91\" x=\"5\" y=\"169.7949\">class Example</text><text fill=\"#000000\" font-family=\"sans-serif\" font-size=\"12\" lengthAdjust=\"spacingAndGlyphs\" textLength=\"0\" x=\"9\" y=\"183.7637\"/><text fill=\"#000000\" font-family=\"sans-serif\" font-size=\"12\" lengthAdjust=\"spacingAndGlyphs\" textLength=\"349\" x=\"5\" y=\"197.7324\">You will find more information about PlantUML syntax on</text><text fill=\"#000000\" font-family=\"sans-serif\" font-size=\"12\" lengthAdjust=\"spacingAndGlyphs\" text-decoration=\"underline\" textLength=\"129\" x=\"358\" y=\"197.7324\">https://plantuml.com</text><image height=\"71\" width=\"80\" x=\"516\" xlink:href=\"data:image/png;base64,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\" y=\"6\"/><rect fill=\"#000000\" height=\"96.4844\" style=\"stroke: #000000; stroke-width: 1.0;\" width=\"602\" x=\"0\" y=\"205.5625\"/><rect fill=\"#33FF02\" height=\"21.2969\" style=\"stroke: #33FF02; stroke-width: 1.0;\" width=\"170\" x=\"5\" y=\"210.5625\"/><text fill=\"#000000\" font-family=\"sans-serif\" font-size=\"14\" font-weight=\"bold\" lengthAdjust=\"spacingAndGlyphs\" textLength=\"168\" x=\"6\" y=\"225.5625\">[From string (line 2) ]</text><text fill=\"#33FF02\" font-family=\"sans-serif\" font-size=\"14\" font-weight=\"bold\" lengthAdjust=\"spacingAndGlyphs\" textLength=\"0\" x=\"10\" y=\"245.8594\"/><text fill=\"#33FF02\" font-family=\"sans-serif\" font-size=\"14\" font-weight=\"bold\" lengthAdjust=\"spacingAndGlyphs\" textLength=\"79\" x=\"5\" y=\"262.1563\">@startuml</text><text fill=\"#33FF02\" font-family=\"sans-serif\" font-size=\"14\" font-weight=\"bold\" lengthAdjust=\"spacingAndGlyphs\" textLength=\"0\" x=\"10\" y=\"278.4531\"/><text fill=\"#FF0000\" font-family=\"sans-serif\" font-size=\"14\" font-weight=\"bold\" lengthAdjust=\"spacingAndGlyphs\" textLength=\"142\" x=\"10\" y=\"294.75\">Empty description</text><!--MD5=[f59edd8218d337f74d0c332fc6737304]\n",
       "@startuml\r\n",
       " \r\n",
       "@enduml\r\n",
       "\n",
       "PlantUML version 1.2020.13(Sat Jun 13 12:26:38 UTC 2020)\n",
       "(EPL source distribution)\n",
       "Java Runtime: OpenJDK Runtime Environment\n",
       "JVM: OpenJDK 64-Bit Server VM\n",
       "Default Encoding: UTF-8\n",
       "Language: en\n",
       "Country: null\n",
       "--></g></svg>"
      ]
     },
     "execution_count": 32,
     "metadata": {},
     "output_type": "execute_result"
    }
   ],
   "source": [
    "%viz --style=\"PLANTUML\" --view=\"State\" \"ParameterTest\""
   ]
  },
  {
   "cell_type": "code",
   "execution_count": 33,
   "id": "ba0f77e4",
   "metadata": {
    "execution": {
     "iopub.execute_input": "2021-06-30T09:18:21.915950Z",
     "iopub.status.busy": "2021-06-30T09:18:21.915419Z",
     "iopub.status.idle": "2021-06-30T09:18:21.976522Z",
     "shell.execute_reply": "2021-06-30T09:18:21.974385Z"
    }
   },
   "outputs": [
    {
     "data": {
      "image/svg+xml": [
       "<?xml version=\"1.0\" encoding=\"UTF-8\" standalone=\"no\"?><svg xmlns=\"http://www.w3.org/2000/svg\" xmlns:xlink=\"http://www.w3.org/1999/xlink\" contentScriptType=\"application/ecmascript\" contentStyleType=\"text/css\" height=\"216px\" preserveAspectRatio=\"none\" style=\"width:868px;height:216px;\" version=\"1.1\" viewBox=\"0 0 868 216\" width=\"868px\" zoomAndPan=\"magnify\"><defs><filter height=\"300%\" id=\"f14hye0c37yd68\" width=\"300%\" x=\"-1\" y=\"-1\"><feGaussianBlur result=\"blurOut\" stdDeviation=\"2.0\"/><feColorMatrix in=\"blurOut\" result=\"blurOut2\" type=\"matrix\" values=\"0 0 0 0 0 0 0 0 0 0 0 0 0 0 0 0 0 0 .4 0\"/><feOffset dx=\"4.0\" dy=\"4.0\" in=\"blurOut2\" result=\"blurOut3\"/><feBlend in=\"SourceGraphic\" in2=\"blurOut3\" mode=\"normal\"/></filter></defs><g><!--MD5=[fbc87193dbaf4d95561dea2c320d4a47]\n",
       "cluster E1--><a href=\"psysml:adbc474a-2784-4828-be47-026fefc14932\" target=\"_top\" title=\"psysml:adbc474a-2784-4828-be47-026fefc14932\" xlink:actuate=\"onRequest\" xlink:href=\"psysml:adbc474a-2784-4828-be47-026fefc14932\" xlink:show=\"new\" xlink:title=\"psysml:adbc474a-2784-4828-be47-026fefc14932\" xlink:type=\"simple\"><polygon fill=\"#FFFFFF\" filter=\"url(#f14hye0c37yd68)\" points=\"16,6,139,6,146,28.2969,846,28.2969,846,204.72,16,204.72,16,6\" style=\"stroke: #000000; stroke-width: 1.5;\"/><line style=\"stroke: #000000; stroke-width: 1.5;\" x1=\"16\" x2=\"146\" y1=\"28.2969\" y2=\"28.2969\"/><text fill=\"#000000\" font-family=\"sans-serif\" font-size=\"14\" font-weight=\"bold\" lengthAdjust=\"spacingAndGlyphs\" textLength=\"117\" x=\"20\" y=\"20.9951\">ParameterTest</text></a><!--MD5=[f6df4d0ebaf0b5dfb2ced0ae5af7c670]\n",
       "cluster E4--><a href=\"psysml:ea0c6e06-a87b-4616-91bc-ba79196303d0\" target=\"_top\" title=\"psysml:ea0c6e06-a87b-4616-91bc-ba79196303d0\" xlink:actuate=\"onRequest\" xlink:href=\"psysml:ea0c6e06-a87b-4616-91bc-ba79196303d0\" xlink:show=\"new\" xlink:title=\"psysml:ea0c6e06-a87b-4616-91bc-ba79196303d0\" xlink:type=\"simple\"><rect fill=\"#FFFFFF\" filter=\"url(#f14hye0c37yd68)\" height=\"110.72\" id=\"E4\" style=\"stroke: #A80036; stroke-width: 1.5;\" width=\"148\" x=\"682\" y=\"64\"/><rect fill=\"#FEFECE\" height=\"37.9375\" style=\"stroke: #A80036; stroke-width: 1.5;\" width=\"148\" x=\"682\" y=\"64\"/><text fill=\"#000000\" font-family=\"sans-serif\" font-size=\"12\" font-style=\"italic\" lengthAdjust=\"spacingAndGlyphs\" textLength=\"106\" x=\"703\" y=\"80.1387\">«calculation def»</text><text fill=\"#000000\" font-family=\"sans-serif\" font-size=\"12\" lengthAdjust=\"spacingAndGlyphs\" textLength=\"7\" x=\"752.5\" y=\"94.1074\">F</text></a><g id=\"E1.E2\"><a href=\"psysml:fa211d39-e6da-4efb-a07a-68e935dd1093\" target=\"_top\" title=\"psysml:fa211d39-e6da-4efb-a07a-68e935dd1093\" xlink:actuate=\"onRequest\" xlink:href=\"psysml:fa211d39-e6da-4efb-a07a-68e935dd1093\" xlink:show=\"new\" xlink:title=\"psysml:fa211d39-e6da-4efb-a07a-68e935dd1093\" xlink:type=\"simple\"><rect fill=\"#FEFECE\" filter=\"url(#f14hye0c37yd68)\" height=\"42.9375\" id=\"E2\" style=\"stroke: #A80036; stroke-width: 1.5;\" width=\"126\" x=\"519\" y=\"99\"/><ellipse cx=\"536.25\" cy=\"117.9688\" fill=\"#A52A2A\" rx=\"11\" ry=\"11\" style=\"stroke: #A80036; stroke-width: 1.0;\"/><path d=\"M535.8438,113.7813 L535.8438,121.7656 L536.5,121.7656 Q537.9375,121.7656 538.5469,120.8594 Q539.1719,119.9375 539.1719,117.7656 Q539.1719,115.5938 538.5469,114.6875 Q537.9375,113.7813 536.5,113.7813 L535.8438,113.7813 Z M533.3906,111.5781 L536.0156,111.5781 Q539.0469,111.5781 540.375,113.0313 Q541.7188,114.4688 541.7188,117.7656 Q541.7188,121.0625 540.375,122.5156 Q539.0469,123.9688 536.0156,123.9688 L533.3906,123.9688 L533.3906,111.5781 Z \"/><text fill=\"#000000\" font-family=\"sans-serif\" font-size=\"12\" font-style=\"italic\" lengthAdjust=\"spacingAndGlyphs\" textLength=\"93\" x=\"548.75\" y=\"115.1387\">«attribute def»</text><text fill=\"#000000\" font-family=\"sans-serif\" font-size=\"12\" lengthAdjust=\"spacingAndGlyphs\" textLength=\"8\" x=\"591.25\" y=\"129.1074\">A</text></a></g><!--MD5=[09b614a08d8cba4a07c9adeb5e0fee81]\n",
       "class E3--><a href=\"psysml:665f7084-89dd-4cc9-a479-f70e09a77220\" target=\"_top\" title=\"psysml:665f7084-89dd-4cc9-a479-f70e09a77220\" xlink:actuate=\"onRequest\" xlink:href=\"psysml:665f7084-89dd-4cc9-a479-f70e09a77220\" xlink:show=\"new\" xlink:title=\"psysml:665f7084-89dd-4cc9-a479-f70e09a77220\" xlink:type=\"simple\"><rect fill=\"#FEFECE\" filter=\"url(#f14hye0c37yd68)\" height=\"45.9375\" id=\"E3\" rx=\"10\" ry=\"10\" style=\"stroke: #A80036; stroke-width: 1.5;\" width=\"97\" x=\"559.5\" y=\"41\"/><ellipse cx=\"574.5\" cy=\"59.9688\" fill=\"#FFA500\" rx=\"11\" ry=\"11\" style=\"stroke: #A80036; stroke-width: 1.0;\"/><path d=\"M570.375,61.8906 L570.375,54.0781 L572.8281,54.0781 L572.8281,62.5156 Q572.8281,63.4375 573.2969,63.9688 Q573.7813,64.5 574.6094,64.5 Q575.4531,64.5 575.9219,63.9688 Q576.3906,63.4375 576.3906,62.5156 L576.3906,54.0781 L578.8438,54.0781 L578.8438,61.8906 Q578.8438,64.4219 577.8438,65.5625 Q576.8438,66.7031 574.6094,66.7031 Q572.3906,66.7031 571.375,65.5625 Q570.375,64.4219 570.375,61.8906 Z \"/><text fill=\"#000000\" font-family=\"sans-serif\" font-size=\"12\" font-style=\"italic\" lengthAdjust=\"spacingAndGlyphs\" textLength=\"69\" x=\"586.5\" y=\"57.1387\">«attribute»</text><text fill=\"#000000\" font-family=\"sans-serif\" font-size=\"12\" lengthAdjust=\"spacingAndGlyphs\" textLength=\"24\" x=\"609\" y=\"71.1074\">a: A</text><line style=\"stroke: #A80036; stroke-width: 1.5;\" x1=\"560.5\" x2=\"655.5\" y1=\"78.9375\" y2=\"78.9375\"/></a><!--MD5=[b9389687b975829384b498ac4b7476b2]\n",
       "class E8--><a href=\"psysml:1ebb82ef-cdf5-4836-9887-d34bbc134ce1\" target=\"_top\" title=\"psysml:1ebb82ef-cdf5-4836-9887-d34bbc134ce1\" xlink:actuate=\"onRequest\" xlink:href=\"psysml:1ebb82ef-cdf5-4836-9887-d34bbc134ce1\" xlink:show=\"new\" xlink:title=\"psysml:1ebb82ef-cdf5-4836-9887-d34bbc134ce1\" xlink:type=\"simple\"><rect fill=\"#FEFECE\" filter=\"url(#f14hye0c37yd68)\" height=\"45.9375\" id=\"E8\" rx=\"10\" ry=\"10\" style=\"stroke: #A80036; stroke-width: 1.5;\" width=\"97\" x=\"427.5\" y=\"41\"/><ellipse cx=\"442.5\" cy=\"59.9688\" fill=\"#FFA500\" rx=\"11\" ry=\"11\" style=\"stroke: #A80036; stroke-width: 1.0;\"/><path d=\"M438.375,61.8906 L438.375,54.0781 L440.8281,54.0781 L440.8281,62.5156 Q440.8281,63.4375 441.2969,63.9688 Q441.7813,64.5 442.6094,64.5 Q443.4531,64.5 443.9219,63.9688 Q444.3906,63.4375 444.3906,62.5156 L444.3906,54.0781 L446.8438,54.0781 L446.8438,61.8906 Q446.8438,64.4219 445.8438,65.5625 Q444.8438,66.7031 442.6094,66.7031 Q440.3906,66.7031 439.375,65.5625 Q438.375,64.4219 438.375,61.8906 Z \"/><text fill=\"#000000\" font-family=\"sans-serif\" font-size=\"12\" font-style=\"italic\" lengthAdjust=\"spacingAndGlyphs\" textLength=\"69\" x=\"454.5\" y=\"57.1387\">«attribute»</text><text fill=\"#000000\" font-family=\"sans-serif\" font-size=\"12\" lengthAdjust=\"spacingAndGlyphs\" textLength=\"4\" x=\"487\" y=\"71.1074\">f</text><line style=\"stroke: #A80036; stroke-width: 1.5;\" x1=\"428.5\" x2=\"523.5\" y1=\"78.9375\" y2=\"78.9375\"/></a><!--MD5=[fd4143e9d270a159db93a4ea2a975926]\n",
       "class E9--><a href=\"psysml:22e07e99-e7e6-486c-b8ca-f79edb8ad4e8\" target=\"_top\" title=\"psysml:22e07e99-e7e6-486c-b8ca-f79edb8ad4e8\" xlink:actuate=\"onRequest\" xlink:href=\"psysml:22e07e99-e7e6-486c-b8ca-f79edb8ad4e8\" xlink:show=\"new\" xlink:title=\"psysml:22e07e99-e7e6-486c-b8ca-f79edb8ad4e8\" xlink:type=\"simple\"><rect fill=\"#FEFECE\" filter=\"url(#f14hye0c37yd68)\" height=\"45.9375\" id=\"E9\" rx=\"10\" ry=\"10\" style=\"stroke: #A80036; stroke-width: 1.5;\" width=\"97\" x=\"295.5\" y=\"41\"/><ellipse cx=\"310.5\" cy=\"59.9688\" fill=\"#FFA500\" rx=\"11\" ry=\"11\" style=\"stroke: #A80036; stroke-width: 1.0;\"/><path d=\"M306.375,61.8906 L306.375,54.0781 L308.8281,54.0781 L308.8281,62.5156 Q308.8281,63.4375 309.2969,63.9688 Q309.7813,64.5 310.6094,64.5 Q311.4531,64.5 311.9219,63.9688 Q312.3906,63.4375 312.3906,62.5156 L312.3906,54.0781 L314.8438,54.0781 L314.8438,61.8906 Q314.8438,64.4219 313.8438,65.5625 Q312.8438,66.7031 310.6094,66.7031 Q308.3906,66.7031 307.375,65.5625 Q306.375,64.4219 306.375,61.8906 Z \"/><text fill=\"#000000\" font-family=\"sans-serif\" font-size=\"12\" font-style=\"italic\" lengthAdjust=\"spacingAndGlyphs\" textLength=\"69\" x=\"322.5\" y=\"57.1387\">«attribute»</text><text fill=\"#000000\" font-family=\"sans-serif\" font-size=\"12\" lengthAdjust=\"spacingAndGlyphs\" textLength=\"8\" x=\"353\" y=\"71.1074\">g</text><line style=\"stroke: #A80036; stroke-width: 1.5;\" x1=\"296.5\" x2=\"391.5\" y1=\"78.9375\" y2=\"78.9375\"/></a><!--MD5=[96f4274e9e20536e775497830990834d]\n",
       "class E10--><a href=\"psysml:a8be3d15-ac76-451a-a4cf-87ef8e02e637\" target=\"_top\" title=\"psysml:a8be3d15-ac76-451a-a4cf-87ef8e02e637\" xlink:actuate=\"onRequest\" xlink:href=\"psysml:a8be3d15-ac76-451a-a4cf-87ef8e02e637\" xlink:show=\"new\" xlink:title=\"psysml:a8be3d15-ac76-451a-a4cf-87ef8e02e637\" xlink:type=\"simple\"><rect fill=\"#FEFECE\" filter=\"url(#f14hye0c37yd68)\" height=\"45.9375\" id=\"E10\" rx=\"10\" ry=\"10\" style=\"stroke: #A80036; stroke-width: 1.5;\" width=\"97\" x=\"163.5\" y=\"41\"/><ellipse cx=\"178.5\" cy=\"59.9688\" fill=\"#FFA500\" rx=\"11\" ry=\"11\" style=\"stroke: #A80036; stroke-width: 1.0;\"/><path d=\"M174.375,61.8906 L174.375,54.0781 L176.8281,54.0781 L176.8281,62.5156 Q176.8281,63.4375 177.2969,63.9688 Q177.7813,64.5 178.6094,64.5 Q179.4531,64.5 179.9219,63.9688 Q180.3906,63.4375 180.3906,62.5156 L180.3906,54.0781 L182.8438,54.0781 L182.8438,61.8906 Q182.8438,64.4219 181.8438,65.5625 Q180.8438,66.7031 178.6094,66.7031 Q176.3906,66.7031 175.375,65.5625 Q174.375,64.4219 174.375,61.8906 Z \"/><text fill=\"#000000\" font-family=\"sans-serif\" font-size=\"12\" font-style=\"italic\" lengthAdjust=\"spacingAndGlyphs\" textLength=\"69\" x=\"190.5\" y=\"57.1387\">«attribute»</text><text fill=\"#000000\" font-family=\"sans-serif\" font-size=\"12\" lengthAdjust=\"spacingAndGlyphs\" textLength=\"8\" x=\"221\" y=\"71.1074\">b</text><line style=\"stroke: #A80036; stroke-width: 1.5;\" x1=\"164.5\" x2=\"259.5\" y1=\"78.9375\" y2=\"78.9375\"/></a><!--MD5=[1dd1bfd58a279cf63c5f349dbc8fc6a1]\n",
       "class E11--><a href=\"psysml:88e99412-8df3-4a94-a568-1984bea0c190\" target=\"_top\" title=\"psysml:88e99412-8df3-4a94-a568-1984bea0c190\" xlink:actuate=\"onRequest\" xlink:href=\"psysml:88e99412-8df3-4a94-a568-1984bea0c190\" xlink:show=\"new\" xlink:title=\"psysml:88e99412-8df3-4a94-a568-1984bea0c190\" xlink:type=\"simple\"><rect fill=\"#FEFECE\" filter=\"url(#f14hye0c37yd68)\" height=\"45.9375\" id=\"E11\" rx=\"10\" ry=\"10\" style=\"stroke: #A80036; stroke-width: 1.5;\" width=\"97\" x=\"31.5\" y=\"41\"/><ellipse cx=\"46.5\" cy=\"59.9688\" fill=\"#FFA500\" rx=\"11\" ry=\"11\" style=\"stroke: #A80036; stroke-width: 1.0;\"/><path d=\"M42.375,61.8906 L42.375,54.0781 L44.8281,54.0781 L44.8281,62.5156 Q44.8281,63.4375 45.2969,63.9688 Q45.7813,64.5 46.6094,64.5 Q47.4531,64.5 47.9219,63.9688 Q48.3906,63.4375 48.3906,62.5156 L48.3906,54.0781 L50.8438,54.0781 L50.8438,61.8906 Q50.8438,64.4219 49.8438,65.5625 Q48.8438,66.7031 46.6094,66.7031 Q44.3906,66.7031 43.375,65.5625 Q42.375,64.4219 42.375,61.8906 Z \"/><text fill=\"#000000\" font-family=\"sans-serif\" font-size=\"12\" font-style=\"italic\" lengthAdjust=\"spacingAndGlyphs\" textLength=\"69\" x=\"58.5\" y=\"57.1387\">«attribute»</text><text fill=\"#000000\" font-family=\"sans-serif\" font-size=\"12\" lengthAdjust=\"spacingAndGlyphs\" textLength=\"7\" x=\"89.5\" y=\"71.1074\">c</text><line style=\"stroke: #A80036; stroke-width: 1.5;\" x1=\"32.5\" x2=\"127.5\" y1=\"78.9375\" y2=\"78.9375\"/></a><text fill=\"#000000\" font-family=\"sans-serif\" font-size=\"14\" lengthAdjust=\"spacingAndGlyphs\" textLength=\"9\" x=\"695.5\" y=\"42.6982\">p</text><rect fill=\"#A80036\" height=\"12\" style=\"stroke: #FEFECE; stroke-width: 1.5;\" width=\"12\" x=\"694\" y=\"58\"/><text fill=\"#000000\" font-family=\"sans-serif\" font-size=\"14\" lengthAdjust=\"spacingAndGlyphs\" textLength=\"9\" x=\"742.5\" y=\"42.6982\">q</text><rect fill=\"#A80036\" height=\"12\" style=\"stroke: #FEFECE; stroke-width: 1.5;\" width=\"12\" x=\"741\" y=\"58\"/><text fill=\"#000000\" font-family=\"sans-serif\" font-size=\"14\" lengthAdjust=\"spacingAndGlyphs\" textLength=\"57\" x=\"718.5\" y=\"193.7151\">noname</text><rect fill=\"#A80036\" height=\"12\" style=\"stroke: #FEFECE; stroke-width: 1.5;\" width=\"12\" x=\"741\" y=\"168.72\"/><!--MD5=[05d275557350bfb9b23a4ef7222b4c39]\n",
       "link E3 to E2--><a href=\"psysml:47946f32-7338-4adb-a6af-ffcb2b2265dd\" target=\"_top\" title=\"psysml:47946f32-7338-4adb-a6af-ffcb2b2265dd\" xlink:actuate=\"onRequest\" xlink:href=\"psysml:47946f32-7338-4adb-a6af-ffcb2b2265dd\" xlink:show=\"new\" xlink:title=\"psysml:47946f32-7338-4adb-a6af-ffcb2b2265dd\" xlink:type=\"simple\"><path d=\"M597.42,87.17 C597.37,87.29 597.31,87.41 597.25,87.53 \" fill=\"none\" id=\"E3-&gt;E2\" style=\"stroke: #A80036; stroke-width: 1.0;\"/><polygon fill=\"#FFFFFF\" points=\"591.81,98.93,593.673,78.7674,606.3087,84.7954,591.81,98.93\" style=\"stroke: #A80036; stroke-width: 1.0;\"/><ellipse cx=\"597.9323\" cy=\"74.484\" fill=\"#A80036\" rx=\"2\" ry=\"2\" style=\"stroke: #A80036; stroke-width: 1.0;\"/><ellipse cx=\"606.9579\" cy=\"78.7897\" fill=\"#A80036\" rx=\"2\" ry=\"2\" style=\"stroke: #A80036; stroke-width: 1.0;\"/></a><!--MD5=[52ea7d241c3134e19273f323d05e6c1f]\n",
       "@startuml\r\n",
       "skinparam ranksep 10\r\n",
       "skinparam rectangle {\r\n",
       " backgroundColor<<block>> LightGreen\r\n",
       "}\r\n",
       " \r\n",
       "package \"ParameterTest\" as E1  [[psysml:adbc474a-2784-4828-be47-026fefc14932 ]]  {\r\n",
       "def \"A\" as E2 << <<(D,brown) attribute def>> [[psysml:fa211d39-e6da-4efb-a07a-68e935dd1093 ]] \r\n",
       "comp usage \"a: A\" as E3 << <<(U,orange) attribute>> [[psysml:665f7084-89dd-4cc9-a479-f70e09a77220 ]] {\r\n",
       "}\r\n",
       "rec def \"F\" as E4 << <<(B,lemonchiffon) calculation def>> [[psysml:ea0c6e06-a87b-4616-91bc-ba79196303d0 ]] {\r\n",
       "portin \"p\" as E5  [[psysml:e1d329d3-cb1e-45c3-b1d5-2fcf771779ef ]] \r\n",
       "portin \"q\" as E6  [[psysml:b499ebef-2d53-43ba-b86a-de9084e46bb3 ]] \r\n",
       "portout \"noname\" as E7  [[psysml:2e56002b-31e4-43bf-ad2b-cc6ef1aac7ab ]] \r\n",
       "}\r\n",
       "\r\n",
       "comp usage \"f\" as E8 << <<(U,orange) attribute>> [[psysml:1ebb82ef-cdf5-4836-9887-d34bbc134ce1 ]] {\r\n",
       "}\r\n",
       "comp usage \"g\" as E9 << <<(U,orange) attribute>> [[psysml:22e07e99-e7e6-486c-b8ca-f79edb8ad4e8 ]] {\r\n",
       "}\r\n",
       "comp usage \"b\" as E10 << <<(U,orange) attribute>> [[psysml:a8be3d15-ac76-451a-a4cf-87ef8e02e637 ]] {\r\n",
       "}\r\n",
       "comp usage \"c\" as E11 << <<(U,orange) attribute>> [[psysml:88e99412-8df3-4a94-a568-1984bea0c190 ]] {\r\n",
       "}\r\n",
       "E3 - -:|> E2 [[psysml:47946f32-7338-4adb-a6af-ffcb2b2265dd ]] \r\n",
       "}\r\n",
       "@enduml\r\n",
       "\n",
       "PlantUML version 1.2020.13(Sat Jun 13 12:26:38 UTC 2020)\n",
       "(EPL source distribution)\n",
       "Java Runtime: OpenJDK Runtime Environment\n",
       "JVM: OpenJDK 64-Bit Server VM\n",
       "Default Encoding: UTF-8\n",
       "Language: en\n",
       "Country: null\n",
       "--></g></svg>"
      ]
     },
     "execution_count": 33,
     "metadata": {},
     "output_type": "execute_result"
    }
   ],
   "source": [
    "%viz --style=\"PLANTUML\" --view=\"Interconnection\" \"ParameterTest\""
   ]
  },
  {
   "cell_type": "code",
   "execution_count": 34,
   "id": "822dabeb",
   "metadata": {
    "execution": {
     "iopub.execute_input": "2021-06-30T09:18:22.028787Z",
     "iopub.status.busy": "2021-06-30T09:18:22.028363Z",
     "iopub.status.idle": "2021-06-30T09:18:22.059516Z",
     "shell.execute_reply": "2021-06-30T09:18:22.059210Z"
    }
   },
   "outputs": [
    {
     "data": {
      "image/svg+xml": [
       "<?xml version=\"1.0\" encoding=\"UTF-8\" standalone=\"no\"?><svg xmlns=\"http://www.w3.org/2000/svg\" xmlns:xlink=\"http://www.w3.org/1999/xlink\" contentScriptType=\"application/ecmascript\" contentStyleType=\"text/css\" height=\"162px\" preserveAspectRatio=\"none\" style=\"width:174px;height:162px;\" version=\"1.1\" viewBox=\"0 0 174 162\" width=\"174px\" zoomAndPan=\"magnify\"><defs><filter height=\"300%\" id=\"f1xnx86zc1jrsr\" width=\"300%\" x=\"-1\" y=\"-1\"><feGaussianBlur result=\"blurOut\" stdDeviation=\"2.0\"/><feColorMatrix in=\"blurOut\" result=\"blurOut2\" type=\"matrix\" values=\"0 0 0 0 0 0 0 0 0 0 0 0 0 0 0 0 0 0 .4 0\"/><feOffset dx=\"4.0\" dy=\"4.0\" in=\"blurOut2\" result=\"blurOut3\"/><feBlend in=\"SourceGraphic\" in2=\"blurOut3\" mode=\"normal\"/></filter></defs><g><!--MD5=[fbc87193dbaf4d95561dea2c320d4a47]\n",
       "cluster E1--><a href=\"psysml:ea0c6e06-a87b-4616-91bc-ba79196303d0\" target=\"_top\" title=\"psysml:ea0c6e06-a87b-4616-91bc-ba79196303d0\" xlink:actuate=\"onRequest\" xlink:href=\"psysml:ea0c6e06-a87b-4616-91bc-ba79196303d0\" xlink:show=\"new\" xlink:title=\"psysml:ea0c6e06-a87b-4616-91bc-ba79196303d0\" xlink:type=\"simple\"><rect fill=\"#FFFFFF\" filter=\"url(#f1xnx86zc1jrsr)\" height=\"87.72\" id=\"E1\" style=\"stroke: #A80036; stroke-width: 1.5;\" width=\"148\" x=\"7\" y=\"42.0986\"/><rect fill=\"#FEFECE\" height=\"37.9375\" style=\"stroke: #A80036; stroke-width: 1.5;\" width=\"148\" x=\"7\" y=\"42.0986\"/><text fill=\"#000000\" font-family=\"sans-serif\" font-size=\"12\" font-style=\"italic\" lengthAdjust=\"spacingAndGlyphs\" textLength=\"106\" x=\"28\" y=\"58.2373\">«calculation def»</text><text fill=\"#000000\" font-family=\"sans-serif\" font-size=\"12\" lengthAdjust=\"spacingAndGlyphs\" textLength=\"7\" x=\"77.5\" y=\"72.2061\">F</text></a><text fill=\"#000000\" font-family=\"sans-serif\" font-size=\"14\" lengthAdjust=\"spacingAndGlyphs\" textLength=\"9\" x=\"20.5\" y=\"20.7969\">p</text><rect fill=\"#A80036\" height=\"12\" style=\"stroke: #FEFECE; stroke-width: 1.5;\" width=\"12\" x=\"19\" y=\"36.0986\"/><text fill=\"#000000\" font-family=\"sans-serif\" font-size=\"14\" lengthAdjust=\"spacingAndGlyphs\" textLength=\"9\" x=\"67.5\" y=\"20.7969\">q</text><rect fill=\"#A80036\" height=\"12\" style=\"stroke: #FEFECE; stroke-width: 1.5;\" width=\"12\" x=\"66\" y=\"36.0986\"/><text fill=\"#000000\" font-family=\"sans-serif\" font-size=\"14\" lengthAdjust=\"spacingAndGlyphs\" textLength=\"57\" x=\"43.5\" y=\"148.8138\">noname</text><rect fill=\"#A80036\" height=\"12\" style=\"stroke: #FEFECE; stroke-width: 1.5;\" width=\"12\" x=\"66\" y=\"123.8186\"/><!--MD5=[38c0d433374754901f117c1c61b7ee28]\n",
       "@startuml\r\n",
       "skinparam ranksep 8\r\n",
       " \r\n",
       "rec def \"F\" as E1 << <<(B,lemonchiffon) calculation def>> [[psysml:ea0c6e06-a87b-4616-91bc-ba79196303d0 ]] {\r\n",
       "portin \"p\" as E2  [[psysml:e1d329d3-cb1e-45c3-b1d5-2fcf771779ef ]] \r\n",
       "portin \"q\" as E3  [[psysml:b499ebef-2d53-43ba-b86a-de9084e46bb3 ]] \r\n",
       "portout \"noname\" as E4  [[psysml:2e56002b-31e4-43bf-ad2b-cc6ef1aac7ab ]] \r\n",
       "}\r\n",
       "\r\n",
       "@enduml\r\n",
       "\n",
       "PlantUML version 1.2020.13(Sat Jun 13 12:26:38 UTC 2020)\n",
       "(EPL source distribution)\n",
       "Java Runtime: OpenJDK Runtime Environment\n",
       "JVM: OpenJDK 64-Bit Server VM\n",
       "Default Encoding: UTF-8\n",
       "Language: en\n",
       "Country: null\n",
       "--></g></svg>"
      ]
     },
     "execution_count": 34,
     "metadata": {},
     "output_type": "execute_result"
    }
   ],
   "source": [
    "%viz --style=\"PLANTUML\" --view=\"Action\" \"ParameterTest\""
   ]
  },
  {
   "cell_type": "code",
   "execution_count": 35,
   "id": "0b70acf2",
   "metadata": {
    "execution": {
     "iopub.execute_input": "2021-06-30T09:18:22.112243Z",
     "iopub.status.busy": "2021-06-30T09:18:22.111711Z",
     "iopub.status.idle": "2021-06-30T09:18:22.236595Z",
     "shell.execute_reply": "2021-06-30T09:18:22.234557Z"
    }
   },
   "outputs": [
    {
     "data": {
      "image/svg+xml": [
       "<?xml version=\"1.0\" encoding=\"UTF-8\" standalone=\"no\"?><svg xmlns=\"http://www.w3.org/2000/svg\" xmlns:xlink=\"http://www.w3.org/1999/xlink\" contentScriptType=\"application/ecmascript\" contentStyleType=\"text/css\" height=\"264px\" preserveAspectRatio=\"none\" style=\"width:864px;height:264px;\" version=\"1.1\" viewBox=\"0 0 864 264\" width=\"864px\" zoomAndPan=\"magnify\"><defs><filter height=\"300%\" id=\"f1nszpmalf80zb\" width=\"300%\" x=\"-1\" y=\"-1\"><feGaussianBlur result=\"blurOut\" stdDeviation=\"2.0\"/><feColorMatrix in=\"blurOut\" result=\"blurOut2\" type=\"matrix\" values=\"0 0 0 0 0 0 0 0 0 0 0 0 0 0 0 0 0 0 .4 0\"/><feOffset dx=\"4.0\" dy=\"4.0\" in=\"blurOut2\" result=\"blurOut3\"/><feBlend in=\"SourceGraphic\" in2=\"blurOut3\" mode=\"normal\"/></filter></defs><g><!--MD5=[fbc87193dbaf4d95561dea2c320d4a47]\n",
       "cluster E1--><a href=\"psysml:adbc474a-2784-4828-be47-026fefc14932\" target=\"_top\" title=\"psysml:adbc474a-2784-4828-be47-026fefc14932\" xlink:actuate=\"onRequest\" xlink:href=\"psysml:adbc474a-2784-4828-be47-026fefc14932\" xlink:show=\"new\" xlink:title=\"psysml:adbc474a-2784-4828-be47-026fefc14932\" xlink:type=\"simple\"><polygon fill=\"#FFFFFF\" filter=\"url(#f1nszpmalf80zb)\" points=\"16,6,139,6,146,28.2969,842,28.2969,842,252,16,252,16,6\" style=\"stroke: #000000; stroke-width: 1.5;\"/><line style=\"stroke: #000000; stroke-width: 1.5;\" x1=\"16\" x2=\"146\" y1=\"28.2969\" y2=\"28.2969\"/><text fill=\"#000000\" font-family=\"sans-serif\" font-size=\"14\" font-weight=\"bold\" lengthAdjust=\"spacingAndGlyphs\" textLength=\"117\" x=\"20\" y=\"20.9951\">ParameterTest</text></a><!--MD5=[b4997ac47864f28c2f74865a473b2911]\n",
       "class E2--><a href=\"psysml:fa211d39-e6da-4efb-a07a-68e935dd1093\" target=\"_top\" title=\"psysml:fa211d39-e6da-4efb-a07a-68e935dd1093\" xlink:actuate=\"onRequest\" xlink:href=\"psysml:fa211d39-e6da-4efb-a07a-68e935dd1093\" xlink:show=\"new\" xlink:title=\"psysml:fa211d39-e6da-4efb-a07a-68e935dd1093\" xlink:type=\"simple\"><rect fill=\"#FEFECE\" filter=\"url(#f1nszpmalf80zb)\" height=\"71.5469\" id=\"E2\" style=\"stroke: #A80036; stroke-width: 1.5;\" width=\"121\" x=\"642.5\" y=\"164\"/><ellipse cx=\"657.5\" cy=\"182.9688\" fill=\"#A52A2A\" rx=\"11\" ry=\"11\" style=\"stroke: #A80036; stroke-width: 1.0;\"/><path d=\"M657.0938,178.7813 L657.0938,186.7656 L657.75,186.7656 Q659.1875,186.7656 659.7969,185.8594 Q660.4219,184.9375 660.4219,182.7656 Q660.4219,180.5938 659.7969,179.6875 Q659.1875,178.7813 657.75,178.7813 L657.0938,178.7813 Z M654.6406,176.5781 L657.2656,176.5781 Q660.2969,176.5781 661.625,178.0313 Q662.9688,179.4688 662.9688,182.7656 Q662.9688,186.0625 661.625,187.5156 Q660.2969,188.9688 657.2656,188.9688 L654.6406,188.9688 L654.6406,176.5781 Z \"/><text fill=\"#000000\" font-family=\"sans-serif\" font-size=\"12\" font-style=\"italic\" lengthAdjust=\"spacingAndGlyphs\" textLength=\"93\" x=\"669.5\" y=\"180.1387\">«attribute def»</text><text fill=\"#000000\" font-family=\"sans-serif\" font-size=\"12\" lengthAdjust=\"spacingAndGlyphs\" textLength=\"8\" x=\"712\" y=\"194.1074\">A</text><line style=\"stroke: #A80036; stroke-width: 1.5;\" x1=\"643.5\" x2=\"762.5\" y1=\"201.9375\" y2=\"201.9375\"/><text fill=\"#000000\" font-family=\"sans-serif\" font-size=\"11\" lengthAdjust=\"spacingAndGlyphs\" textLength=\"48\" x=\"648.5\" y=\"216.1479\">x: String</text><text fill=\"#000000\" font-family=\"sans-serif\" font-size=\"11\" lengthAdjust=\"spacingAndGlyphs\" textLength=\"21\" x=\"648.5\" y=\"228.9526\">y: A</text></a><!--MD5=[09b614a08d8cba4a07c9adeb5e0fee81]\n",
       "class E3--><a href=\"psysml:665f7084-89dd-4cc9-a479-f70e09a77220\" target=\"_top\" title=\"psysml:665f7084-89dd-4cc9-a479-f70e09a77220\" xlink:actuate=\"onRequest\" xlink:href=\"psysml:665f7084-89dd-4cc9-a479-f70e09a77220\" xlink:show=\"new\" xlink:title=\"psysml:665f7084-89dd-4cc9-a479-f70e09a77220\" xlink:type=\"simple\"><rect fill=\"#FEFECE\" filter=\"url(#f1nszpmalf80zb)\" height=\"45.9375\" id=\"E3\" rx=\"10\" ry=\"10\" style=\"stroke: #A80036; stroke-width: 1.5;\" width=\"97\" x=\"729.5\" y=\"41\"/><ellipse cx=\"744.5\" cy=\"59.9688\" fill=\"#FFA500\" rx=\"11\" ry=\"11\" style=\"stroke: #A80036; stroke-width: 1.0;\"/><path d=\"M740.375,61.8906 L740.375,54.0781 L742.8281,54.0781 L742.8281,62.5156 Q742.8281,63.4375 743.2969,63.9688 Q743.7813,64.5 744.6094,64.5 Q745.4531,64.5 745.9219,63.9688 Q746.3906,63.4375 746.3906,62.5156 L746.3906,54.0781 L748.8438,54.0781 L748.8438,61.8906 Q748.8438,64.4219 747.8438,65.5625 Q746.8438,66.7031 744.6094,66.7031 Q742.3906,66.7031 741.375,65.5625 Q740.375,64.4219 740.375,61.8906 Z \"/><text fill=\"#000000\" font-family=\"sans-serif\" font-size=\"12\" font-style=\"italic\" lengthAdjust=\"spacingAndGlyphs\" textLength=\"69\" x=\"756.5\" y=\"57.1387\">«attribute»</text><text fill=\"#000000\" font-family=\"sans-serif\" font-size=\"12\" lengthAdjust=\"spacingAndGlyphs\" textLength=\"24\" x=\"779\" y=\"71.1074\">a: A</text><line style=\"stroke: #A80036; stroke-width: 1.5;\" x1=\"730.5\" x2=\"825.5\" y1=\"78.9375\" y2=\"78.9375\"/></a><!--MD5=[ebbe1d658d1005bcc118a6aa81145e00]\n",
       "class E4--><a href=\"psysml:ea0c6e06-a87b-4616-91bc-ba79196303d0\" target=\"_top\" title=\"psysml:ea0c6e06-a87b-4616-91bc-ba79196303d0\" xlink:actuate=\"onRequest\" xlink:href=\"psysml:ea0c6e06-a87b-4616-91bc-ba79196303d0\" xlink:show=\"new\" xlink:title=\"psysml:ea0c6e06-a87b-4616-91bc-ba79196303d0\" xlink:type=\"simple\"><rect fill=\"#FEFECE\" filter=\"url(#f1nszpmalf80zb)\" height=\"45.9375\" id=\"E4\" style=\"stroke: #A80036; stroke-width: 1.5;\" width=\"134\" x=\"560\" y=\"41\"/><ellipse cx=\"575\" cy=\"59.9688\" fill=\"#FFFACD\" rx=\"11\" ry=\"11\" style=\"stroke: #A80036; stroke-width: 1.0;\"/><path d=\"M573.9063,60.3438 L573.9063,64.0156 L575.5313,64.0156 Q576.7031,64.0156 577.1719,63.625 Q577.6406,63.2188 577.6406,62.2188 Q577.6406,61.2188 577.1406,60.7813 Q576.6563,60.3438 575.5313,60.3438 L573.9063,60.3438 Z M573.9063,55.5156 L573.9063,58.3906 L575.5313,58.3906 Q576.4531,58.3906 576.8438,58.0625 Q577.25,57.7188 577.25,56.9688 Q577.25,56.2031 576.8438,55.8594 Q576.4375,55.5156 575.5313,55.5156 L573.9063,55.5156 Z M571.5313,53.5625 L575.5313,53.5625 Q577.5938,53.5625 578.6406,54.3438 Q579.6875,55.125 579.6875,56.6875 Q579.6875,57.8906 579.0625,58.5625 Q578.4531,59.2344 577.2656,59.3438 Q578.6875,59.4844 579.4063,60.2969 Q580.125,61.1094 580.125,62.5625 Q580.125,64.3594 579.0469,65.1719 Q577.9688,65.9688 575.5313,65.9688 L571.5313,65.9688 L571.5313,53.5625 Z \"/><text fill=\"#000000\" font-family=\"sans-serif\" font-size=\"12\" font-style=\"italic\" lengthAdjust=\"spacingAndGlyphs\" textLength=\"106\" x=\"587\" y=\"57.1387\">«calculation def»</text><text fill=\"#000000\" font-family=\"sans-serif\" font-size=\"12\" lengthAdjust=\"spacingAndGlyphs\" textLength=\"7\" x=\"636.5\" y=\"71.1074\">F</text><line style=\"stroke: #A80036; stroke-width: 1.5;\" x1=\"561\" x2=\"693\" y1=\"78.9375\" y2=\"78.9375\"/></a><!--MD5=[270fce915f116d4de14055a7c1d9a0f3]\n",
       "class E5--><a href=\"psysml:1ebb82ef-cdf5-4836-9887-d34bbc134ce1\" target=\"_top\" title=\"psysml:1ebb82ef-cdf5-4836-9887-d34bbc134ce1\" xlink:actuate=\"onRequest\" xlink:href=\"psysml:1ebb82ef-cdf5-4836-9887-d34bbc134ce1\" xlink:show=\"new\" xlink:title=\"psysml:1ebb82ef-cdf5-4836-9887-d34bbc134ce1\" xlink:type=\"simple\"><rect fill=\"#FEFECE\" filter=\"url(#f1nszpmalf80zb)\" height=\"45.9375\" id=\"E5\" rx=\"10\" ry=\"10\" style=\"stroke: #A80036; stroke-width: 1.5;\" width=\"97\" x=\"427.5\" y=\"41\"/><ellipse cx=\"442.5\" cy=\"59.9688\" fill=\"#FFA500\" rx=\"11\" ry=\"11\" style=\"stroke: #A80036; stroke-width: 1.0;\"/><path d=\"M438.375,61.8906 L438.375,54.0781 L440.8281,54.0781 L440.8281,62.5156 Q440.8281,63.4375 441.2969,63.9688 Q441.7813,64.5 442.6094,64.5 Q443.4531,64.5 443.9219,63.9688 Q444.3906,63.4375 444.3906,62.5156 L444.3906,54.0781 L446.8438,54.0781 L446.8438,61.8906 Q446.8438,64.4219 445.8438,65.5625 Q444.8438,66.7031 442.6094,66.7031 Q440.3906,66.7031 439.375,65.5625 Q438.375,64.4219 438.375,61.8906 Z \"/><text fill=\"#000000\" font-family=\"sans-serif\" font-size=\"12\" font-style=\"italic\" lengthAdjust=\"spacingAndGlyphs\" textLength=\"69\" x=\"454.5\" y=\"57.1387\">«attribute»</text><text fill=\"#000000\" font-family=\"sans-serif\" font-size=\"12\" lengthAdjust=\"spacingAndGlyphs\" textLength=\"4\" x=\"487\" y=\"71.1074\">f</text><line style=\"stroke: #A80036; stroke-width: 1.5;\" x1=\"428.5\" x2=\"523.5\" y1=\"78.9375\" y2=\"78.9375\"/></a><!--MD5=[60a26617385b1d2d0262a64233df1f8d]\n",
       "class E6--><a href=\"psysml:22e07e99-e7e6-486c-b8ca-f79edb8ad4e8\" target=\"_top\" title=\"psysml:22e07e99-e7e6-486c-b8ca-f79edb8ad4e8\" xlink:actuate=\"onRequest\" xlink:href=\"psysml:22e07e99-e7e6-486c-b8ca-f79edb8ad4e8\" xlink:show=\"new\" xlink:title=\"psysml:22e07e99-e7e6-486c-b8ca-f79edb8ad4e8\" xlink:type=\"simple\"><rect fill=\"#FEFECE\" filter=\"url(#f1nszpmalf80zb)\" height=\"45.9375\" id=\"E6\" rx=\"10\" ry=\"10\" style=\"stroke: #A80036; stroke-width: 1.5;\" width=\"97\" x=\"295.5\" y=\"41\"/><ellipse cx=\"310.5\" cy=\"59.9688\" fill=\"#FFA500\" rx=\"11\" ry=\"11\" style=\"stroke: #A80036; stroke-width: 1.0;\"/><path d=\"M306.375,61.8906 L306.375,54.0781 L308.8281,54.0781 L308.8281,62.5156 Q308.8281,63.4375 309.2969,63.9688 Q309.7813,64.5 310.6094,64.5 Q311.4531,64.5 311.9219,63.9688 Q312.3906,63.4375 312.3906,62.5156 L312.3906,54.0781 L314.8438,54.0781 L314.8438,61.8906 Q314.8438,64.4219 313.8438,65.5625 Q312.8438,66.7031 310.6094,66.7031 Q308.3906,66.7031 307.375,65.5625 Q306.375,64.4219 306.375,61.8906 Z \"/><text fill=\"#000000\" font-family=\"sans-serif\" font-size=\"12\" font-style=\"italic\" lengthAdjust=\"spacingAndGlyphs\" textLength=\"69\" x=\"322.5\" y=\"57.1387\">«attribute»</text><text fill=\"#000000\" font-family=\"sans-serif\" font-size=\"12\" lengthAdjust=\"spacingAndGlyphs\" textLength=\"8\" x=\"353\" y=\"71.1074\">g</text><line style=\"stroke: #A80036; stroke-width: 1.5;\" x1=\"296.5\" x2=\"391.5\" y1=\"78.9375\" y2=\"78.9375\"/></a><!--MD5=[2156ba9850f5573cc1fc38a6a4b2f02b]\n",
       "class E7--><a href=\"psysml:a8be3d15-ac76-451a-a4cf-87ef8e02e637\" target=\"_top\" title=\"psysml:a8be3d15-ac76-451a-a4cf-87ef8e02e637\" xlink:actuate=\"onRequest\" xlink:href=\"psysml:a8be3d15-ac76-451a-a4cf-87ef8e02e637\" xlink:show=\"new\" xlink:title=\"psysml:a8be3d15-ac76-451a-a4cf-87ef8e02e637\" xlink:type=\"simple\"><rect fill=\"#FEFECE\" filter=\"url(#f1nszpmalf80zb)\" height=\"45.9375\" id=\"E7\" rx=\"10\" ry=\"10\" style=\"stroke: #A80036; stroke-width: 1.5;\" width=\"97\" x=\"163.5\" y=\"41\"/><ellipse cx=\"178.5\" cy=\"59.9688\" fill=\"#FFA500\" rx=\"11\" ry=\"11\" style=\"stroke: #A80036; stroke-width: 1.0;\"/><path d=\"M174.375,61.8906 L174.375,54.0781 L176.8281,54.0781 L176.8281,62.5156 Q176.8281,63.4375 177.2969,63.9688 Q177.7813,64.5 178.6094,64.5 Q179.4531,64.5 179.9219,63.9688 Q180.3906,63.4375 180.3906,62.5156 L180.3906,54.0781 L182.8438,54.0781 L182.8438,61.8906 Q182.8438,64.4219 181.8438,65.5625 Q180.8438,66.7031 178.6094,66.7031 Q176.3906,66.7031 175.375,65.5625 Q174.375,64.4219 174.375,61.8906 Z \"/><text fill=\"#000000\" font-family=\"sans-serif\" font-size=\"12\" font-style=\"italic\" lengthAdjust=\"spacingAndGlyphs\" textLength=\"69\" x=\"190.5\" y=\"57.1387\">«attribute»</text><text fill=\"#000000\" font-family=\"sans-serif\" font-size=\"12\" lengthAdjust=\"spacingAndGlyphs\" textLength=\"8\" x=\"221\" y=\"71.1074\">b</text><line style=\"stroke: #A80036; stroke-width: 1.5;\" x1=\"164.5\" x2=\"259.5\" y1=\"78.9375\" y2=\"78.9375\"/></a><!--MD5=[b9389687b975829384b498ac4b7476b2]\n",
       "class E8--><a href=\"psysml:88e99412-8df3-4a94-a568-1984bea0c190\" target=\"_top\" title=\"psysml:88e99412-8df3-4a94-a568-1984bea0c190\" xlink:actuate=\"onRequest\" xlink:href=\"psysml:88e99412-8df3-4a94-a568-1984bea0c190\" xlink:show=\"new\" xlink:title=\"psysml:88e99412-8df3-4a94-a568-1984bea0c190\" xlink:type=\"simple\"><rect fill=\"#FEFECE\" filter=\"url(#f1nszpmalf80zb)\" height=\"45.9375\" id=\"E8\" rx=\"10\" ry=\"10\" style=\"stroke: #A80036; stroke-width: 1.5;\" width=\"97\" x=\"31.5\" y=\"41\"/><ellipse cx=\"46.5\" cy=\"59.9688\" fill=\"#FFA500\" rx=\"11\" ry=\"11\" style=\"stroke: #A80036; stroke-width: 1.0;\"/><path d=\"M42.375,61.8906 L42.375,54.0781 L44.8281,54.0781 L44.8281,62.5156 Q44.8281,63.4375 45.2969,63.9688 Q45.7813,64.5 46.6094,64.5 Q47.4531,64.5 47.9219,63.9688 Q48.3906,63.4375 48.3906,62.5156 L48.3906,54.0781 L50.8438,54.0781 L50.8438,61.8906 Q50.8438,64.4219 49.8438,65.5625 Q48.8438,66.7031 46.6094,66.7031 Q44.3906,66.7031 43.375,65.5625 Q42.375,64.4219 42.375,61.8906 Z \"/><text fill=\"#000000\" font-family=\"sans-serif\" font-size=\"12\" font-style=\"italic\" lengthAdjust=\"spacingAndGlyphs\" textLength=\"69\" x=\"58.5\" y=\"57.1387\">«attribute»</text><text fill=\"#000000\" font-family=\"sans-serif\" font-size=\"12\" lengthAdjust=\"spacingAndGlyphs\" textLength=\"7\" x=\"89.5\" y=\"71.1074\">c</text><line style=\"stroke: #A80036; stroke-width: 1.5;\" x1=\"32.5\" x2=\"127.5\" y1=\"78.9375\" y2=\"78.9375\"/></a><!--MD5=[05d275557350bfb9b23a4ef7222b4c39]\n",
       "link E3 to E2--><a href=\"psysml:47946f32-7338-4adb-a6af-ffcb2b2265dd\" target=\"_top\" title=\"psysml:47946f32-7338-4adb-a6af-ffcb2b2265dd\" xlink:actuate=\"onRequest\" xlink:href=\"psysml:47946f32-7338-4adb-a6af-ffcb2b2265dd\" xlink:show=\"new\" xlink:title=\"psysml:47946f32-7338-4adb-a6af-ffcb2b2265dd\" xlink:type=\"simple\"><path d=\"M765.62,87.13 C756.62,103.2 744.05,125.65 732.54,146.23 \" fill=\"none\" id=\"E3-&gt;E2\" style=\"stroke: #A80036; stroke-width: 1.0;\"/><polygon fill=\"#FFFFFF\" points=\"722.6,163.99,725.7664,143.9907,737.9848,150.8253,722.6,163.99\" style=\"stroke: #A80036; stroke-width: 1.0;\"/><ellipse cx=\"730.2946\" cy=\"139.9924\" fill=\"#A80036\" rx=\"2\" ry=\"2\" style=\"stroke: #A80036; stroke-width: 1.0;\"/><ellipse cx=\"739.022\" cy=\"144.8743\" fill=\"#A80036\" rx=\"2\" ry=\"2\" style=\"stroke: #A80036; stroke-width: 1.0;\"/></a><!--MD5=[ddeed8deb2209213b62e6cfabaa108b2]\n",
       "reverse link E4 to E2--><a href=\"psysml:e1d329d3-cb1e-45c3-b1d5-2fcf771779ef\" target=\"_top\" title=\"psysml:e1d329d3-cb1e-45c3-b1d5-2fcf771779ef\" xlink:actuate=\"onRequest\" xlink:href=\"psysml:e1d329d3-cb1e-45c3-b1d5-2fcf771779ef\" xlink:show=\"new\" xlink:title=\"psysml:e1d329d3-cb1e-45c3-b1d5-2fcf771779ef\" xlink:type=\"simple\"><path d=\"M645.99,98.48 C657.31,118.44 671.67,143.76 683.14,163.99 \" fill=\"none\" id=\"E4&lt;-E2\" style=\"stroke: #A80036; stroke-width: 1.0;\"/><polygon fill=\"#FFFFFF\" points=\"639.55,87.13,639.0333,94.3226,645.4738,97.5659,645.9905,90.3734,639.55,87.13\" style=\"stroke: #A80036; stroke-width: 1.0;\"/><text fill=\"#000000\" font-family=\"sans-serif\" font-size=\"13\" lengthAdjust=\"spacingAndGlyphs\" textLength=\"8\" x=\"666\" y=\"130.0669\">p</text></a><!--MD5=[1b0ebd807d0cce70ea94075dab8bad3e]\n",
       "@startuml\r\n",
       " \r\n",
       "package \"ParameterTest\" as E1  [[psysml:adbc474a-2784-4828-be47-026fefc14932 ]]  {\r\n",
       "comp def \"A\" as E2 << <<(D,brown) attribute def>> [[psysml:fa211d39-e6da-4efb-a07a-68e935dd1093 ]] {\r\n",
       "x: String\r\n",
       "y: A\r\n",
       "}\r\n",
       "comp usage \"a: A\" as E3 << <<(U,orange) attribute>> [[psysml:665f7084-89dd-4cc9-a479-f70e09a77220 ]] {\r\n",
       "}\r\n",
       "comp def \"F\" as E4 << <<(B,lemonchiffon) calculation def>> [[psysml:ea0c6e06-a87b-4616-91bc-ba79196303d0 ]] {\r\n",
       "}\r\n",
       "comp usage \"f\" as E5 << <<(U,orange) attribute>> [[psysml:1ebb82ef-cdf5-4836-9887-d34bbc134ce1 ]] {\r\n",
       "}\r\n",
       "comp usage \"g\" as E6 << <<(U,orange) attribute>> [[psysml:22e07e99-e7e6-486c-b8ca-f79edb8ad4e8 ]] {\r\n",
       "}\r\n",
       "comp usage \"b\" as E7 << <<(U,orange) attribute>> [[psysml:a8be3d15-ac76-451a-a4cf-87ef8e02e637 ]] {\r\n",
       "}\r\n",
       "comp usage \"c\" as E8 << <<(U,orange) attribute>> [[psysml:88e99412-8df3-4a94-a568-1984bea0c190 ]] {\r\n",
       "}\r\n",
       "E3 - -:|> E2 [[psysml:47946f32-7338-4adb-a6af-ffcb2b2265dd ]] \r\n",
       "E4 o- - E2 [[psysml:e1d329d3-cb1e-45c3-b1d5-2fcf771779ef ]] : p\r\n",
       "}\r\n",
       "@enduml\r\n",
       "\n",
       "PlantUML version 1.2020.13(Sat Jun 13 12:26:38 UTC 2020)\n",
       "(EPL source distribution)\n",
       "Java Runtime: OpenJDK Runtime Environment\n",
       "JVM: OpenJDK 64-Bit Server VM\n",
       "Default Encoding: UTF-8\n",
       "Language: en\n",
       "Country: null\n",
       "--></g></svg>"
      ]
     },
     "execution_count": 35,
     "metadata": {},
     "output_type": "execute_result"
    }
   ],
   "source": [
    "%viz --style=\"PLANTUML\" --view=\"Sequence\" \"ParameterTest\""
   ]
  },
  {
   "cell_type": "code",
   "execution_count": 36,
   "id": "16c70dd0",
   "metadata": {
    "execution": {
     "iopub.execute_input": "2021-06-30T09:18:22.277296Z",
     "iopub.status.busy": "2021-06-30T09:18:22.276524Z",
     "iopub.status.idle": "2021-06-30T09:18:22.362659Z",
     "shell.execute_reply": "2021-06-30T09:18:22.362124Z"
    }
   },
   "outputs": [
    {
     "data": {
      "image/svg+xml": [
       "<?xml version=\"1.0\" encoding=\"UTF-8\" standalone=\"no\"?><svg xmlns=\"http://www.w3.org/2000/svg\" xmlns:xlink=\"http://www.w3.org/1999/xlink\" contentScriptType=\"application/ecmascript\" contentStyleType=\"text/css\" height=\"387px\" preserveAspectRatio=\"none\" style=\"width:868px;height:387px;\" version=\"1.1\" viewBox=\"0 0 868 387\" width=\"868px\" zoomAndPan=\"magnify\"><defs><filter height=\"300%\" id=\"f1oa5vdyp0qgde\" width=\"300%\" x=\"-1\" y=\"-1\"><feGaussianBlur result=\"blurOut\" stdDeviation=\"2.0\"/><feColorMatrix in=\"blurOut\" result=\"blurOut2\" type=\"matrix\" values=\"0 0 0 0 0 0 0 0 0 0 0 0 0 0 0 0 0 0 .4 0\"/><feOffset dx=\"4.0\" dy=\"4.0\" in=\"blurOut2\" result=\"blurOut3\"/><feBlend in=\"SourceGraphic\" in2=\"blurOut3\" mode=\"normal\"/></filter></defs><g><!--MD5=[fbc87193dbaf4d95561dea2c320d4a47]\n",
       "cluster E1--><a href=\"psysml:adbc474a-2784-4828-be47-026fefc14932\" target=\"_top\" title=\"psysml:adbc474a-2784-4828-be47-026fefc14932\" xlink:actuate=\"onRequest\" xlink:href=\"psysml:adbc474a-2784-4828-be47-026fefc14932\" xlink:show=\"new\" xlink:title=\"psysml:adbc474a-2784-4828-be47-026fefc14932\" xlink:type=\"simple\"><polygon fill=\"#FFFFFF\" filter=\"url(#f1oa5vdyp0qgde)\" points=\"16,6,139,6,146,28.2969,846,28.2969,846,375.72,16,375.72,16,6\" style=\"stroke: #000000; stroke-width: 1.5;\"/><line style=\"stroke: #000000; stroke-width: 1.5;\" x1=\"16\" x2=\"146\" y1=\"28.2969\" y2=\"28.2969\"/><text fill=\"#000000\" font-family=\"sans-serif\" font-size=\"14\" font-weight=\"bold\" lengthAdjust=\"spacingAndGlyphs\" textLength=\"117\" x=\"20\" y=\"20.9951\">ParameterTest</text></a><!--MD5=[f6df4d0ebaf0b5dfb2ced0ae5af7c670]\n",
       "cluster E4--><a href=\"psysml:ea0c6e06-a87b-4616-91bc-ba79196303d0\" target=\"_top\" title=\"psysml:ea0c6e06-a87b-4616-91bc-ba79196303d0\" xlink:actuate=\"onRequest\" xlink:href=\"psysml:ea0c6e06-a87b-4616-91bc-ba79196303d0\" xlink:show=\"new\" xlink:title=\"psysml:ea0c6e06-a87b-4616-91bc-ba79196303d0\" xlink:type=\"simple\"><rect fill=\"#FFFFFF\" filter=\"url(#f1oa5vdyp0qgde)\" height=\"281.72\" id=\"E4\" style=\"stroke: #A80036; stroke-width: 1.5;\" width=\"148\" x=\"682\" y=\"64\"/><rect fill=\"#FEFECE\" height=\"37.9375\" style=\"stroke: #A80036; stroke-width: 1.5;\" width=\"148\" x=\"682\" y=\"64\"/><text fill=\"#000000\" font-family=\"sans-serif\" font-size=\"12\" font-style=\"italic\" lengthAdjust=\"spacingAndGlyphs\" textLength=\"106\" x=\"703\" y=\"80.1387\">«calculation def»</text><text fill=\"#000000\" font-family=\"sans-serif\" font-size=\"12\" lengthAdjust=\"spacingAndGlyphs\" textLength=\"7\" x=\"752.5\" y=\"94.1074\">F</text></a><!--MD5=[b4997ac47864f28c2f74865a473b2911]\n",
       "class E2--><a href=\"psysml:fa211d39-e6da-4efb-a07a-68e935dd1093\" target=\"_top\" title=\"psysml:fa211d39-e6da-4efb-a07a-68e935dd1093\" xlink:actuate=\"onRequest\" xlink:href=\"psysml:fa211d39-e6da-4efb-a07a-68e935dd1093\" xlink:show=\"new\" xlink:title=\"psysml:fa211d39-e6da-4efb-a07a-68e935dd1093\" xlink:type=\"simple\"><rect fill=\"#FEFECE\" filter=\"url(#f1oa5vdyp0qgde)\" height=\"71.5469\" id=\"E2\" style=\"stroke: #A80036; stroke-width: 1.5;\" width=\"121\" x=\"524.5\" y=\"147\"/><ellipse cx=\"539.5\" cy=\"165.9688\" fill=\"#A52A2A\" rx=\"11\" ry=\"11\" style=\"stroke: #A80036; stroke-width: 1.0;\"/><path d=\"M539.0938,161.7813 L539.0938,169.7656 L539.75,169.7656 Q541.1875,169.7656 541.7969,168.8594 Q542.4219,167.9375 542.4219,165.7656 Q542.4219,163.5938 541.7969,162.6875 Q541.1875,161.7813 539.75,161.7813 L539.0938,161.7813 Z M536.6406,159.5781 L539.2656,159.5781 Q542.2969,159.5781 543.625,161.0313 Q544.9688,162.4688 544.9688,165.7656 Q544.9688,169.0625 543.625,170.5156 Q542.2969,171.9688 539.2656,171.9688 L536.6406,171.9688 L536.6406,159.5781 Z \"/><text fill=\"#000000\" font-family=\"sans-serif\" font-size=\"12\" font-style=\"italic\" lengthAdjust=\"spacingAndGlyphs\" textLength=\"93\" x=\"551.5\" y=\"163.1387\">«attribute def»</text><text fill=\"#000000\" font-family=\"sans-serif\" font-size=\"12\" lengthAdjust=\"spacingAndGlyphs\" textLength=\"8\" x=\"594\" y=\"177.1074\">A</text><line style=\"stroke: #A80036; stroke-width: 1.5;\" x1=\"525.5\" x2=\"644.5\" y1=\"184.9375\" y2=\"184.9375\"/><text fill=\"#000000\" font-family=\"sans-serif\" font-size=\"11\" lengthAdjust=\"spacingAndGlyphs\" textLength=\"48\" x=\"530.5\" y=\"199.1479\">x: String</text><text fill=\"#000000\" font-family=\"sans-serif\" font-size=\"11\" lengthAdjust=\"spacingAndGlyphs\" textLength=\"21\" x=\"530.5\" y=\"211.9526\">y: A</text></a><!--MD5=[09b614a08d8cba4a07c9adeb5e0fee81]\n",
       "class E3--><a href=\"psysml:665f7084-89dd-4cc9-a479-f70e09a77220\" target=\"_top\" title=\"psysml:665f7084-89dd-4cc9-a479-f70e09a77220\" xlink:actuate=\"onRequest\" xlink:href=\"psysml:665f7084-89dd-4cc9-a479-f70e09a77220\" xlink:show=\"new\" xlink:title=\"psysml:665f7084-89dd-4cc9-a479-f70e09a77220\" xlink:type=\"simple\"><rect fill=\"#FEFECE\" filter=\"url(#f1oa5vdyp0qgde)\" height=\"45.9375\" id=\"E3\" rx=\"10\" ry=\"10\" style=\"stroke: #A80036; stroke-width: 1.5;\" width=\"97\" x=\"559.5\" y=\"41\"/><ellipse cx=\"574.5\" cy=\"59.9688\" fill=\"#FFA500\" rx=\"11\" ry=\"11\" style=\"stroke: #A80036; stroke-width: 1.0;\"/><path d=\"M570.375,61.8906 L570.375,54.0781 L572.8281,54.0781 L572.8281,62.5156 Q572.8281,63.4375 573.2969,63.9688 Q573.7813,64.5 574.6094,64.5 Q575.4531,64.5 575.9219,63.9688 Q576.3906,63.4375 576.3906,62.5156 L576.3906,54.0781 L578.8438,54.0781 L578.8438,61.8906 Q578.8438,64.4219 577.8438,65.5625 Q576.8438,66.7031 574.6094,66.7031 Q572.3906,66.7031 571.375,65.5625 Q570.375,64.4219 570.375,61.8906 Z \"/><text fill=\"#000000\" font-family=\"sans-serif\" font-size=\"12\" font-style=\"italic\" lengthAdjust=\"spacingAndGlyphs\" textLength=\"69\" x=\"586.5\" y=\"57.1387\">«attribute»</text><text fill=\"#000000\" font-family=\"sans-serif\" font-size=\"12\" lengthAdjust=\"spacingAndGlyphs\" textLength=\"24\" x=\"609\" y=\"71.1074\">a: A</text><line style=\"stroke: #A80036; stroke-width: 1.5;\" x1=\"560.5\" x2=\"655.5\" y1=\"78.9375\" y2=\"78.9375\"/></a><!--MD5=[b9389687b975829384b498ac4b7476b2]\n",
       "class E8--><a href=\"psysml:1ebb82ef-cdf5-4836-9887-d34bbc134ce1\" target=\"_top\" title=\"psysml:1ebb82ef-cdf5-4836-9887-d34bbc134ce1\" xlink:actuate=\"onRequest\" xlink:href=\"psysml:1ebb82ef-cdf5-4836-9887-d34bbc134ce1\" xlink:show=\"new\" xlink:title=\"psysml:1ebb82ef-cdf5-4836-9887-d34bbc134ce1\" xlink:type=\"simple\"><rect fill=\"#FEFECE\" filter=\"url(#f1oa5vdyp0qgde)\" height=\"45.9375\" id=\"E8\" rx=\"10\" ry=\"10\" style=\"stroke: #A80036; stroke-width: 1.5;\" width=\"97\" x=\"427.5\" y=\"41\"/><ellipse cx=\"442.5\" cy=\"59.9688\" fill=\"#FFA500\" rx=\"11\" ry=\"11\" style=\"stroke: #A80036; stroke-width: 1.0;\"/><path d=\"M438.375,61.8906 L438.375,54.0781 L440.8281,54.0781 L440.8281,62.5156 Q440.8281,63.4375 441.2969,63.9688 Q441.7813,64.5 442.6094,64.5 Q443.4531,64.5 443.9219,63.9688 Q444.3906,63.4375 444.3906,62.5156 L444.3906,54.0781 L446.8438,54.0781 L446.8438,61.8906 Q446.8438,64.4219 445.8438,65.5625 Q444.8438,66.7031 442.6094,66.7031 Q440.3906,66.7031 439.375,65.5625 Q438.375,64.4219 438.375,61.8906 Z \"/><text fill=\"#000000\" font-family=\"sans-serif\" font-size=\"12\" font-style=\"italic\" lengthAdjust=\"spacingAndGlyphs\" textLength=\"69\" x=\"454.5\" y=\"57.1387\">«attribute»</text><text fill=\"#000000\" font-family=\"sans-serif\" font-size=\"12\" lengthAdjust=\"spacingAndGlyphs\" textLength=\"4\" x=\"487\" y=\"71.1074\">f</text><line style=\"stroke: #A80036; stroke-width: 1.5;\" x1=\"428.5\" x2=\"523.5\" y1=\"78.9375\" y2=\"78.9375\"/></a><!--MD5=[fd4143e9d270a159db93a4ea2a975926]\n",
       "class E9--><a href=\"psysml:22e07e99-e7e6-486c-b8ca-f79edb8ad4e8\" target=\"_top\" title=\"psysml:22e07e99-e7e6-486c-b8ca-f79edb8ad4e8\" xlink:actuate=\"onRequest\" xlink:href=\"psysml:22e07e99-e7e6-486c-b8ca-f79edb8ad4e8\" xlink:show=\"new\" xlink:title=\"psysml:22e07e99-e7e6-486c-b8ca-f79edb8ad4e8\" xlink:type=\"simple\"><rect fill=\"#FEFECE\" filter=\"url(#f1oa5vdyp0qgde)\" height=\"45.9375\" id=\"E9\" rx=\"10\" ry=\"10\" style=\"stroke: #A80036; stroke-width: 1.5;\" width=\"97\" x=\"295.5\" y=\"41\"/><ellipse cx=\"310.5\" cy=\"59.9688\" fill=\"#FFA500\" rx=\"11\" ry=\"11\" style=\"stroke: #A80036; stroke-width: 1.0;\"/><path d=\"M306.375,61.8906 L306.375,54.0781 L308.8281,54.0781 L308.8281,62.5156 Q308.8281,63.4375 309.2969,63.9688 Q309.7813,64.5 310.6094,64.5 Q311.4531,64.5 311.9219,63.9688 Q312.3906,63.4375 312.3906,62.5156 L312.3906,54.0781 L314.8438,54.0781 L314.8438,61.8906 Q314.8438,64.4219 313.8438,65.5625 Q312.8438,66.7031 310.6094,66.7031 Q308.3906,66.7031 307.375,65.5625 Q306.375,64.4219 306.375,61.8906 Z \"/><text fill=\"#000000\" font-family=\"sans-serif\" font-size=\"12\" font-style=\"italic\" lengthAdjust=\"spacingAndGlyphs\" textLength=\"69\" x=\"322.5\" y=\"57.1387\">«attribute»</text><text fill=\"#000000\" font-family=\"sans-serif\" font-size=\"12\" lengthAdjust=\"spacingAndGlyphs\" textLength=\"8\" x=\"353\" y=\"71.1074\">g</text><line style=\"stroke: #A80036; stroke-width: 1.5;\" x1=\"296.5\" x2=\"391.5\" y1=\"78.9375\" y2=\"78.9375\"/></a><!--MD5=[96f4274e9e20536e775497830990834d]\n",
       "class E10--><a href=\"psysml:a8be3d15-ac76-451a-a4cf-87ef8e02e637\" target=\"_top\" title=\"psysml:a8be3d15-ac76-451a-a4cf-87ef8e02e637\" xlink:actuate=\"onRequest\" xlink:href=\"psysml:a8be3d15-ac76-451a-a4cf-87ef8e02e637\" xlink:show=\"new\" xlink:title=\"psysml:a8be3d15-ac76-451a-a4cf-87ef8e02e637\" xlink:type=\"simple\"><rect fill=\"#FEFECE\" filter=\"url(#f1oa5vdyp0qgde)\" height=\"45.9375\" id=\"E10\" rx=\"10\" ry=\"10\" style=\"stroke: #A80036; stroke-width: 1.5;\" width=\"97\" x=\"163.5\" y=\"41\"/><ellipse cx=\"178.5\" cy=\"59.9688\" fill=\"#FFA500\" rx=\"11\" ry=\"11\" style=\"stroke: #A80036; stroke-width: 1.0;\"/><path d=\"M174.375,61.8906 L174.375,54.0781 L176.8281,54.0781 L176.8281,62.5156 Q176.8281,63.4375 177.2969,63.9688 Q177.7813,64.5 178.6094,64.5 Q179.4531,64.5 179.9219,63.9688 Q180.3906,63.4375 180.3906,62.5156 L180.3906,54.0781 L182.8438,54.0781 L182.8438,61.8906 Q182.8438,64.4219 181.8438,65.5625 Q180.8438,66.7031 178.6094,66.7031 Q176.3906,66.7031 175.375,65.5625 Q174.375,64.4219 174.375,61.8906 Z \"/><text fill=\"#000000\" font-family=\"sans-serif\" font-size=\"12\" font-style=\"italic\" lengthAdjust=\"spacingAndGlyphs\" textLength=\"69\" x=\"190.5\" y=\"57.1387\">«attribute»</text><text fill=\"#000000\" font-family=\"sans-serif\" font-size=\"12\" lengthAdjust=\"spacingAndGlyphs\" textLength=\"8\" x=\"221\" y=\"71.1074\">b</text><line style=\"stroke: #A80036; stroke-width: 1.5;\" x1=\"164.5\" x2=\"259.5\" y1=\"78.9375\" y2=\"78.9375\"/></a><!--MD5=[1dd1bfd58a279cf63c5f349dbc8fc6a1]\n",
       "class E11--><a href=\"psysml:88e99412-8df3-4a94-a568-1984bea0c190\" target=\"_top\" title=\"psysml:88e99412-8df3-4a94-a568-1984bea0c190\" xlink:actuate=\"onRequest\" xlink:href=\"psysml:88e99412-8df3-4a94-a568-1984bea0c190\" xlink:show=\"new\" xlink:title=\"psysml:88e99412-8df3-4a94-a568-1984bea0c190\" xlink:type=\"simple\"><rect fill=\"#FEFECE\" filter=\"url(#f1oa5vdyp0qgde)\" height=\"45.9375\" id=\"E11\" rx=\"10\" ry=\"10\" style=\"stroke: #A80036; stroke-width: 1.5;\" width=\"97\" x=\"31.5\" y=\"41\"/><ellipse cx=\"46.5\" cy=\"59.9688\" fill=\"#FFA500\" rx=\"11\" ry=\"11\" style=\"stroke: #A80036; stroke-width: 1.0;\"/><path d=\"M42.375,61.8906 L42.375,54.0781 L44.8281,54.0781 L44.8281,62.5156 Q44.8281,63.4375 45.2969,63.9688 Q45.7813,64.5 46.6094,64.5 Q47.4531,64.5 47.9219,63.9688 Q48.3906,63.4375 48.3906,62.5156 L48.3906,54.0781 L50.8438,54.0781 L50.8438,61.8906 Q50.8438,64.4219 49.8438,65.5625 Q48.8438,66.7031 46.6094,66.7031 Q44.3906,66.7031 43.375,65.5625 Q42.375,64.4219 42.375,61.8906 Z \"/><text fill=\"#000000\" font-family=\"sans-serif\" font-size=\"12\" font-style=\"italic\" lengthAdjust=\"spacingAndGlyphs\" textLength=\"69\" x=\"58.5\" y=\"57.1387\">«attribute»</text><text fill=\"#000000\" font-family=\"sans-serif\" font-size=\"12\" lengthAdjust=\"spacingAndGlyphs\" textLength=\"7\" x=\"89.5\" y=\"71.1074\">c</text><line style=\"stroke: #A80036; stroke-width: 1.5;\" x1=\"32.5\" x2=\"127.5\" y1=\"78.9375\" y2=\"78.9375\"/></a><text fill=\"#000000\" font-family=\"sans-serif\" font-size=\"14\" lengthAdjust=\"spacingAndGlyphs\" textLength=\"9\" x=\"695.5\" y=\"42.6982\">p</text><rect fill=\"#A80036\" height=\"12\" style=\"stroke: #FEFECE; stroke-width: 1.5;\" width=\"12\" x=\"694\" y=\"58\"/><text fill=\"#000000\" font-family=\"sans-serif\" font-size=\"14\" lengthAdjust=\"spacingAndGlyphs\" textLength=\"9\" x=\"742.5\" y=\"42.6982\">q</text><rect fill=\"#A80036\" height=\"12\" style=\"stroke: #FEFECE; stroke-width: 1.5;\" width=\"12\" x=\"741\" y=\"58\"/><text fill=\"#000000\" font-family=\"sans-serif\" font-size=\"14\" lengthAdjust=\"spacingAndGlyphs\" textLength=\"57\" x=\"718.5\" y=\"364.7151\">noname</text><rect fill=\"#A80036\" height=\"12\" style=\"stroke: #FEFECE; stroke-width: 1.5;\" width=\"12\" x=\"741\" y=\"339.72\"/><!--MD5=[05d275557350bfb9b23a4ef7222b4c39]\n",
       "link E3 to E2--><a href=\"psysml:47946f32-7338-4adb-a6af-ffcb2b2265dd\" target=\"_top\" title=\"psysml:47946f32-7338-4adb-a6af-ffcb2b2265dd\" xlink:actuate=\"onRequest\" xlink:href=\"psysml:47946f32-7338-4adb-a6af-ffcb2b2265dd\" xlink:show=\"new\" xlink:title=\"psysml:47946f32-7338-4adb-a6af-ffcb2b2265dd\" xlink:type=\"simple\"><path d=\"M603.67,87.01 C601.45,98.3 598.64,112.62 595.87,126.7 \" fill=\"none\" id=\"E3-&gt;E2\" style=\"stroke: #A80036; stroke-width: 1.0;\"/><polygon fill=\"#FFFFFF\" points=\"591.93,146.75,588.7277,126.7564,602.4646,129.4577,591.93,146.75\" style=\"stroke: #A80036; stroke-width: 1.0;\"/><ellipse cx=\"591.7899\" cy=\"121.5494\" fill=\"#A80036\" rx=\"2\" ry=\"2\" style=\"stroke: #A80036; stroke-width: 1.0;\"/><ellipse cx=\"601.602\" cy=\"123.4789\" fill=\"#A80036\" rx=\"2\" ry=\"2\" style=\"stroke: #A80036; stroke-width: 1.0;\"/></a><!--MD5=[cff03b056da0311306d9b91e6a2e7d3d]\n",
       "@startuml\r\n",
       " \r\n",
       "package \"ParameterTest\" as E1  [[psysml:adbc474a-2784-4828-be47-026fefc14932 ]]  {\r\n",
       "comp def \"A\" as E2 << <<(D,brown) attribute def>> [[psysml:fa211d39-e6da-4efb-a07a-68e935dd1093 ]] {\r\n",
       "x: String\r\n",
       "y: A\r\n",
       "}\r\n",
       "comp usage \"a: A\" as E3 << <<(U,orange) attribute>> [[psysml:665f7084-89dd-4cc9-a479-f70e09a77220 ]] {\r\n",
       "}\r\n",
       "rec def \"F\" as E4 << <<(B,lemonchiffon) calculation def>> [[psysml:ea0c6e06-a87b-4616-91bc-ba79196303d0 ]] {\r\n",
       "portin \"p\" as E5  [[psysml:e1d329d3-cb1e-45c3-b1d5-2fcf771779ef ]] \r\n",
       "portin \"q\" as E6  [[psysml:b499ebef-2d53-43ba-b86a-de9084e46bb3 ]] \r\n",
       "portout \"noname\" as E7  [[psysml:2e56002b-31e4-43bf-ad2b-cc6ef1aac7ab ]] \r\n",
       "}\r\n",
       "\r\n",
       "comp usage \"f\" as E8 << <<(U,orange) attribute>> [[psysml:1ebb82ef-cdf5-4836-9887-d34bbc134ce1 ]] {\r\n",
       "}\r\n",
       "comp usage \"g\" as E9 << <<(U,orange) attribute>> [[psysml:22e07e99-e7e6-486c-b8ca-f79edb8ad4e8 ]] {\r\n",
       "}\r\n",
       "comp usage \"b\" as E10 << <<(U,orange) attribute>> [[psysml:a8be3d15-ac76-451a-a4cf-87ef8e02e637 ]] {\r\n",
       "}\r\n",
       "comp usage \"c\" as E11 << <<(U,orange) attribute>> [[psysml:88e99412-8df3-4a94-a568-1984bea0c190 ]] {\r\n",
       "}\r\n",
       "E3 - -:|> E2 [[psysml:47946f32-7338-4adb-a6af-ffcb2b2265dd ]] \r\n",
       "}\r\n",
       "@enduml\r\n",
       "\n",
       "PlantUML version 1.2020.13(Sat Jun 13 12:26:38 UTC 2020)\n",
       "(EPL source distribution)\n",
       "Java Runtime: OpenJDK Runtime Environment\n",
       "JVM: OpenJDK 64-Bit Server VM\n",
       "Default Encoding: UTF-8\n",
       "Language: en\n",
       "Country: null\n",
       "--></g></svg>"
      ]
     },
     "execution_count": 36,
     "metadata": {},
     "output_type": "execute_result"
    }
   ],
   "source": [
    "%viz --style=\"PLANTUML\" --view=\"MIXED\" \"ParameterTest\""
   ]
  },
  {
   "cell_type": "code",
   "execution_count": 37,
   "id": "26513e2c",
   "metadata": {
    "execution": {
     "iopub.execute_input": "2021-06-30T09:18:22.412739Z",
     "iopub.status.busy": "2021-06-30T09:18:22.412337Z",
     "iopub.status.idle": "2021-06-30T09:18:22.493811Z",
     "shell.execute_reply": "2021-06-30T09:18:22.493061Z"
    }
   },
   "outputs": [
    {
     "data": {
      "image/svg+xml": [
       "<?xml version=\"1.0\" encoding=\"UTF-8\" standalone=\"no\"?><svg xmlns=\"http://www.w3.org/2000/svg\" xmlns:xlink=\"http://www.w3.org/1999/xlink\" contentScriptType=\"application/ecmascript\" contentStyleType=\"text/css\" height=\"403px\" preserveAspectRatio=\"none\" style=\"width:740px;height:403px;\" version=\"1.1\" viewBox=\"0 0 740 403\" width=\"740px\" zoomAndPan=\"magnify\"><defs/><g><!--MD5=[fbc87193dbaf4d95561dea2c320d4a47]\n",
       "cluster E1--><a href=\"psysml:adbc474a-2784-4828-be47-026fefc14932\" target=\"_top\" title=\"psysml:adbc474a-2784-4828-be47-026fefc14932\" xlink:actuate=\"onRequest\" xlink:href=\"psysml:adbc474a-2784-4828-be47-026fefc14932\" xlink:show=\"new\" xlink:title=\"psysml:adbc474a-2784-4828-be47-026fefc14932\" xlink:type=\"simple\"><polygon fill=\"#FFFFFF\" points=\"16,6,139,6,146,28.2969,718,28.2969,718,391.72,16,391.72,16,6\" style=\"stroke: #000000; stroke-width: 1.5;\"/><line style=\"stroke: #000000; stroke-width: 1.5;\" x1=\"16\" x2=\"146\" y1=\"28.2969\" y2=\"28.2969\"/><text fill=\"#000000\" font-family=\"sans-serif\" font-size=\"14\" font-weight=\"bold\" lengthAdjust=\"spacingAndGlyphs\" textLength=\"117\" x=\"20\" y=\"20.9951\">ParameterTest</text></a><!--MD5=[f6df4d0ebaf0b5dfb2ced0ae5af7c670]\n",
       "cluster E4--><a href=\"psysml:ea0c6e06-a87b-4616-91bc-ba79196303d0\" target=\"_top\" title=\"psysml:ea0c6e06-a87b-4616-91bc-ba79196303d0\" xlink:actuate=\"onRequest\" xlink:href=\"psysml:ea0c6e06-a87b-4616-91bc-ba79196303d0\" xlink:show=\"new\" xlink:title=\"psysml:ea0c6e06-a87b-4616-91bc-ba79196303d0\" xlink:type=\"simple\"><rect fill=\"#FFFFFF\" height=\"297.72\" id=\"E4\" style=\"stroke: #383838; stroke-width: 1.5;\" width=\"148\" x=\"554\" y=\"64\"/><rect fill=\"#F8F8F8\" height=\"37.9375\" style=\"stroke: #383838; stroke-width: 1.5;\" width=\"148\" x=\"554\" y=\"64\"/><text fill=\"#000000\" font-family=\"sans-serif\" font-size=\"12\" font-style=\"italic\" lengthAdjust=\"spacingAndGlyphs\" textLength=\"106\" x=\"575\" y=\"80.1387\">«calculation def»</text><text fill=\"#000000\" font-family=\"sans-serif\" font-size=\"12\" lengthAdjust=\"spacingAndGlyphs\" textLength=\"7\" x=\"624.5\" y=\"94.1074\">F</text></a><!--MD5=[b4997ac47864f28c2f74865a473b2911]\n",
       "class E2--><a href=\"psysml:fa211d39-e6da-4efb-a07a-68e935dd1093\" target=\"_top\" title=\"psysml:fa211d39-e6da-4efb-a07a-68e935dd1093\" xlink:actuate=\"onRequest\" xlink:href=\"psysml:fa211d39-e6da-4efb-a07a-68e935dd1093\" xlink:show=\"new\" xlink:title=\"psysml:fa211d39-e6da-4efb-a07a-68e935dd1093\" xlink:type=\"simple\"><rect fill=\"#FFFFFF\" height=\"88.3516\" id=\"E2\" style=\"stroke: #383838; stroke-width: 1.5;\" width=\"95\" x=\"422.5\" y=\"147\"/><text fill=\"#000000\" font-family=\"sans-serif\" font-size=\"12\" font-style=\"italic\" lengthAdjust=\"spacingAndGlyphs\" textLength=\"93\" x=\"423.5\" y=\"163.1387\">«attribute def»</text><text fill=\"#000000\" font-family=\"sans-serif\" font-size=\"12\" lengthAdjust=\"spacingAndGlyphs\" textLength=\"8\" x=\"466\" y=\"177.1074\">A</text><line style=\"stroke: #383838; stroke-width: 1.5;\" x1=\"423.5\" x2=\"516.5\" y1=\"184.9375\" y2=\"184.9375\"/><text fill=\"#000000\" font-family=\"sans-serif\" font-size=\"11\" lengthAdjust=\"spacingAndGlyphs\" textLength=\"48\" x=\"428.5\" y=\"215.9526\">x: String</text><text fill=\"#000000\" font-family=\"sans-serif\" font-size=\"11\" lengthAdjust=\"spacingAndGlyphs\" textLength=\"21\" x=\"428.5\" y=\"228.7573\">y: A</text><line style=\"stroke: #383838; stroke-width: 1.0;\" x1=\"423.5\" x2=\"442.5\" y1=\"199.3398\" y2=\"199.3398\"/><text fill=\"#000000\" font-family=\"sans-serif\" font-size=\"11\" lengthAdjust=\"spacingAndGlyphs\" textLength=\"55\" x=\"442.5\" y=\"202.6479\">attributes</text><line style=\"stroke: #383838; stroke-width: 1.0;\" x1=\"497.5\" x2=\"516.5\" y1=\"199.3398\" y2=\"199.3398\"/></a><!--MD5=[09b614a08d8cba4a07c9adeb5e0fee81]\n",
       "class E3--><a href=\"psysml:665f7084-89dd-4cc9-a479-f70e09a77220\" target=\"_top\" title=\"psysml:665f7084-89dd-4cc9-a479-f70e09a77220\" xlink:actuate=\"onRequest\" xlink:href=\"psysml:665f7084-89dd-4cc9-a479-f70e09a77220\" xlink:show=\"new\" xlink:title=\"psysml:665f7084-89dd-4cc9-a479-f70e09a77220\" xlink:type=\"simple\"><rect fill=\"#FFFFFF\" height=\"45.9375\" id=\"E3\" rx=\"10\" ry=\"10\" style=\"stroke: #383838; stroke-width: 1.5;\" width=\"71\" x=\"456.5\" y=\"41\"/><text fill=\"#000000\" font-family=\"sans-serif\" font-size=\"12\" font-style=\"italic\" lengthAdjust=\"spacingAndGlyphs\" textLength=\"69\" x=\"457.5\" y=\"57.1387\">«attribute»</text><text fill=\"#000000\" font-family=\"sans-serif\" font-size=\"12\" lengthAdjust=\"spacingAndGlyphs\" textLength=\"24\" x=\"480\" y=\"71.1074\">a: A</text><line style=\"stroke: #383838; stroke-width: 1.5;\" x1=\"457.5\" x2=\"526.5\" y1=\"78.9375\" y2=\"78.9375\"/></a><!--MD5=[b9389687b975829384b498ac4b7476b2]\n",
       "class E8--><a href=\"psysml:1ebb82ef-cdf5-4836-9887-d34bbc134ce1\" target=\"_top\" title=\"psysml:1ebb82ef-cdf5-4836-9887-d34bbc134ce1\" xlink:actuate=\"onRequest\" xlink:href=\"psysml:1ebb82ef-cdf5-4836-9887-d34bbc134ce1\" xlink:show=\"new\" xlink:title=\"psysml:1ebb82ef-cdf5-4836-9887-d34bbc134ce1\" xlink:type=\"simple\"><rect fill=\"#FFFFFF\" height=\"45.9375\" id=\"E8\" rx=\"10\" ry=\"10\" style=\"stroke: #383838; stroke-width: 1.5;\" width=\"71\" x=\"350.5\" y=\"41\"/><text fill=\"#000000\" font-family=\"sans-serif\" font-size=\"12\" font-style=\"italic\" lengthAdjust=\"spacingAndGlyphs\" textLength=\"69\" x=\"351.5\" y=\"57.1387\">«attribute»</text><text fill=\"#000000\" font-family=\"sans-serif\" font-size=\"12\" lengthAdjust=\"spacingAndGlyphs\" textLength=\"4\" x=\"384\" y=\"71.1074\">f</text><line style=\"stroke: #383838; stroke-width: 1.5;\" x1=\"351.5\" x2=\"420.5\" y1=\"78.9375\" y2=\"78.9375\"/></a><!--MD5=[fd4143e9d270a159db93a4ea2a975926]\n",
       "class E9--><a href=\"psysml:22e07e99-e7e6-486c-b8ca-f79edb8ad4e8\" target=\"_top\" title=\"psysml:22e07e99-e7e6-486c-b8ca-f79edb8ad4e8\" xlink:actuate=\"onRequest\" xlink:href=\"psysml:22e07e99-e7e6-486c-b8ca-f79edb8ad4e8\" xlink:show=\"new\" xlink:title=\"psysml:22e07e99-e7e6-486c-b8ca-f79edb8ad4e8\" xlink:type=\"simple\"><rect fill=\"#FFFFFF\" height=\"45.9375\" id=\"E9\" rx=\"10\" ry=\"10\" style=\"stroke: #383838; stroke-width: 1.5;\" width=\"71\" x=\"244.5\" y=\"41\"/><text fill=\"#000000\" font-family=\"sans-serif\" font-size=\"12\" font-style=\"italic\" lengthAdjust=\"spacingAndGlyphs\" textLength=\"69\" x=\"245.5\" y=\"57.1387\">«attribute»</text><text fill=\"#000000\" font-family=\"sans-serif\" font-size=\"12\" lengthAdjust=\"spacingAndGlyphs\" textLength=\"8\" x=\"276\" y=\"71.1074\">g</text><line style=\"stroke: #383838; stroke-width: 1.5;\" x1=\"245.5\" x2=\"314.5\" y1=\"78.9375\" y2=\"78.9375\"/></a><!--MD5=[96f4274e9e20536e775497830990834d]\n",
       "class E10--><a href=\"psysml:a8be3d15-ac76-451a-a4cf-87ef8e02e637\" target=\"_top\" title=\"psysml:a8be3d15-ac76-451a-a4cf-87ef8e02e637\" xlink:actuate=\"onRequest\" xlink:href=\"psysml:a8be3d15-ac76-451a-a4cf-87ef8e02e637\" xlink:show=\"new\" xlink:title=\"psysml:a8be3d15-ac76-451a-a4cf-87ef8e02e637\" xlink:type=\"simple\"><rect fill=\"#FFFFFF\" height=\"45.9375\" id=\"E10\" rx=\"10\" ry=\"10\" style=\"stroke: #383838; stroke-width: 1.5;\" width=\"71\" x=\"138.5\" y=\"41\"/><text fill=\"#000000\" font-family=\"sans-serif\" font-size=\"12\" font-style=\"italic\" lengthAdjust=\"spacingAndGlyphs\" textLength=\"69\" x=\"139.5\" y=\"57.1387\">«attribute»</text><text fill=\"#000000\" font-family=\"sans-serif\" font-size=\"12\" lengthAdjust=\"spacingAndGlyphs\" textLength=\"8\" x=\"170\" y=\"71.1074\">b</text><line style=\"stroke: #383838; stroke-width: 1.5;\" x1=\"139.5\" x2=\"208.5\" y1=\"78.9375\" y2=\"78.9375\"/></a><!--MD5=[1dd1bfd58a279cf63c5f349dbc8fc6a1]\n",
       "class E11--><a href=\"psysml:88e99412-8df3-4a94-a568-1984bea0c190\" target=\"_top\" title=\"psysml:88e99412-8df3-4a94-a568-1984bea0c190\" xlink:actuate=\"onRequest\" xlink:href=\"psysml:88e99412-8df3-4a94-a568-1984bea0c190\" xlink:show=\"new\" xlink:title=\"psysml:88e99412-8df3-4a94-a568-1984bea0c190\" xlink:type=\"simple\"><rect fill=\"#FFFFFF\" height=\"45.9375\" id=\"E11\" rx=\"10\" ry=\"10\" style=\"stroke: #383838; stroke-width: 1.5;\" width=\"71\" x=\"32.5\" y=\"41\"/><text fill=\"#000000\" font-family=\"sans-serif\" font-size=\"12\" font-style=\"italic\" lengthAdjust=\"spacingAndGlyphs\" textLength=\"69\" x=\"33.5\" y=\"57.1387\">«attribute»</text><text fill=\"#000000\" font-family=\"sans-serif\" font-size=\"12\" lengthAdjust=\"spacingAndGlyphs\" textLength=\"7\" x=\"64.5\" y=\"71.1074\">c</text><line style=\"stroke: #383838; stroke-width: 1.5;\" x1=\"33.5\" x2=\"102.5\" y1=\"78.9375\" y2=\"78.9375\"/></a><text fill=\"#000000\" font-family=\"sans-serif\" font-size=\"14\" lengthAdjust=\"spacingAndGlyphs\" textLength=\"9\" x=\"567.5\" y=\"42.6982\">p</text><rect fill=\"#383838\" height=\"12\" style=\"stroke: #F8F8F8; stroke-width: 1.5;\" width=\"12\" x=\"566\" y=\"58\"/><text fill=\"#000000\" font-family=\"sans-serif\" font-size=\"14\" lengthAdjust=\"spacingAndGlyphs\" textLength=\"9\" x=\"614.5\" y=\"42.6982\">q</text><rect fill=\"#383838\" height=\"12\" style=\"stroke: #F8F8F8; stroke-width: 1.5;\" width=\"12\" x=\"613\" y=\"58\"/><text fill=\"#000000\" font-family=\"sans-serif\" font-size=\"14\" lengthAdjust=\"spacingAndGlyphs\" textLength=\"57\" x=\"590.5\" y=\"380.7151\">noname</text><rect fill=\"#383838\" height=\"12\" style=\"stroke: #F8F8F8; stroke-width: 1.5;\" width=\"12\" x=\"613\" y=\"355.72\"/><!--MD5=[05d275557350bfb9b23a4ef7222b4c39]\n",
       "link E3 to E2--><a href=\"psysml:47946f32-7338-4adb-a6af-ffcb2b2265dd\" target=\"_top\" title=\"psysml:47946f32-7338-4adb-a6af-ffcb2b2265dd\" xlink:actuate=\"onRequest\" xlink:href=\"psysml:47946f32-7338-4adb-a6af-ffcb2b2265dd\" xlink:show=\"new\" xlink:title=\"psysml:47946f32-7338-4adb-a6af-ffcb2b2265dd\" xlink:type=\"simple\"><path d=\"M488.12,87.06 C486.14,98.3 483.62,112.6 481.1,126.95 \" fill=\"none\" id=\"E3-&gt;E2\" style=\"stroke: #383838; stroke-width: 1.0;\"/><polygon fill=\"#FFFFFF\" points=\"477.58,146.93,473.9835,127.0035,487.7711,129.4331,477.58,146.93\" style=\"stroke: #383838; stroke-width: 1.0;\"/><ellipse cx=\"476.9423\" cy=\"121.7371\" fill=\"#383838\" rx=\"2\" ry=\"2\" style=\"stroke: #383838; stroke-width: 1.0;\"/><ellipse cx=\"486.7906\" cy=\"123.4725\" fill=\"#383838\" rx=\"2\" ry=\"2\" style=\"stroke: #383838; stroke-width: 1.0;\"/></a><!--MD5=[a9cac777cfdeb239e6cc59e4bfa2ff4c]\n",
       "@startuml\r\n",
       "skinparam monochrome true\r\n",
       "skinparam classbackgroundcolor white\r\n",
       "skinparam shadowing false\r\n",
       "skinparam wrapWidth 300\r\n",
       "hide circle\r\n",
       "\r\n",
       "package \"ParameterTest\" as E1  [[psysml:adbc474a-2784-4828-be47-026fefc14932 ]]  {\r\n",
       "comp def \"A\" as E2  <<(T,blue) attribute def>> [[psysml:fa211d39-e6da-4efb-a07a-68e935dd1093 ]] {\r\n",
       "- - attributes - -\r\n",
       "x: String\r\n",
       "y: A\r\n",
       "}\r\n",
       "comp usage \"a: A\" as E3  <<(T,blue) attribute>> [[psysml:665f7084-89dd-4cc9-a479-f70e09a77220 ]] {\r\n",
       "}\r\n",
       "rec def \"F\" as E4  <<(T,blue) calculation def>> [[psysml:ea0c6e06-a87b-4616-91bc-ba79196303d0 ]] {\r\n",
       "portin \"p\" as E5  [[psysml:e1d329d3-cb1e-45c3-b1d5-2fcf771779ef ]] \r\n",
       "portin \"q\" as E6  [[psysml:b499ebef-2d53-43ba-b86a-de9084e46bb3 ]] \r\n",
       "portout \"noname\" as E7  [[psysml:2e56002b-31e4-43bf-ad2b-cc6ef1aac7ab ]] \r\n",
       "}\r\n",
       "\r\n",
       "comp usage \"f\" as E8  <<(T,blue) attribute>> [[psysml:1ebb82ef-cdf5-4836-9887-d34bbc134ce1 ]] {\r\n",
       "}\r\n",
       "comp usage \"g\" as E9  <<(T,blue) attribute>> [[psysml:22e07e99-e7e6-486c-b8ca-f79edb8ad4e8 ]] {\r\n",
       "}\r\n",
       "comp usage \"b\" as E10  <<(T,blue) attribute>> [[psysml:a8be3d15-ac76-451a-a4cf-87ef8e02e637 ]] {\r\n",
       "}\r\n",
       "comp usage \"c\" as E11  <<(T,blue) attribute>> [[psysml:88e99412-8df3-4a94-a568-1984bea0c190 ]] {\r\n",
       "}\r\n",
       "E3 - -:|> E2 [[psysml:47946f32-7338-4adb-a6af-ffcb2b2265dd ]] \r\n",
       "}\r\n",
       "@enduml\r\n",
       "\n",
       "PlantUML version 1.2020.13(Sat Jun 13 12:26:38 UTC 2020)\n",
       "(EPL source distribution)\n",
       "Java Runtime: OpenJDK Runtime Environment\n",
       "JVM: OpenJDK 64-Bit Server VM\n",
       "Default Encoding: UTF-8\n",
       "Language: en\n",
       "Country: null\n",
       "--></g></svg>"
      ]
     },
     "execution_count": 37,
     "metadata": {},
     "output_type": "execute_result"
    }
   ],
   "source": [
    "%viz --style=\"DEFAULT\" --view=\"Default\" \"ParameterTest\""
   ]
  },
  {
   "cell_type": "code",
   "execution_count": 38,
   "id": "dfa2bb32",
   "metadata": {
    "execution": {
     "iopub.execute_input": "2021-06-30T09:18:22.542376Z",
     "iopub.status.busy": "2021-06-30T09:18:22.541280Z",
     "iopub.status.idle": "2021-06-30T09:18:22.634071Z",
     "shell.execute_reply": "2021-06-30T09:18:22.634829Z"
    }
   },
   "outputs": [
    {
     "data": {
      "image/svg+xml": [
       "<?xml version=\"1.0\" encoding=\"UTF-8\" standalone=\"no\"?><svg xmlns=\"http://www.w3.org/2000/svg\" xmlns:xlink=\"http://www.w3.org/1999/xlink\" contentScriptType=\"application/ecmascript\" contentStyleType=\"text/css\" height=\"280px\" preserveAspectRatio=\"none\" style=\"width:710px;height:280px;\" version=\"1.1\" viewBox=\"0 0 710 280\" width=\"710px\" zoomAndPan=\"magnify\"><defs/><g><!--MD5=[fbc87193dbaf4d95561dea2c320d4a47]\n",
       "cluster E1--><a href=\"psysml:adbc474a-2784-4828-be47-026fefc14932\" target=\"_top\" title=\"psysml:adbc474a-2784-4828-be47-026fefc14932\" xlink:actuate=\"onRequest\" xlink:href=\"psysml:adbc474a-2784-4828-be47-026fefc14932\" xlink:show=\"new\" xlink:title=\"psysml:adbc474a-2784-4828-be47-026fefc14932\" xlink:type=\"simple\"><polygon fill=\"#FFFFFF\" points=\"16,6,139,6,146,28.2969,688,28.2969,688,268,16,268,16,6\" style=\"stroke: #000000; stroke-width: 1.5;\"/><line style=\"stroke: #000000; stroke-width: 1.5;\" x1=\"16\" x2=\"146\" y1=\"28.2969\" y2=\"28.2969\"/><text fill=\"#000000\" font-family=\"sans-serif\" font-size=\"14\" font-weight=\"bold\" lengthAdjust=\"spacingAndGlyphs\" textLength=\"117\" x=\"20\" y=\"20.9951\">ParameterTest</text></a><!--MD5=[b4997ac47864f28c2f74865a473b2911]\n",
       "class E2--><a href=\"psysml:fa211d39-e6da-4efb-a07a-68e935dd1093\" target=\"_top\" title=\"psysml:fa211d39-e6da-4efb-a07a-68e935dd1093\" xlink:actuate=\"onRequest\" xlink:href=\"psysml:fa211d39-e6da-4efb-a07a-68e935dd1093\" xlink:show=\"new\" xlink:title=\"psysml:fa211d39-e6da-4efb-a07a-68e935dd1093\" xlink:type=\"simple\"><rect fill=\"#FFFFFF\" height=\"88.3516\" id=\"E2\" style=\"stroke: #383838; stroke-width: 1.5;\" width=\"95\" x=\"498.5\" y=\"164\"/><text fill=\"#000000\" font-family=\"sans-serif\" font-size=\"12\" font-style=\"italic\" lengthAdjust=\"spacingAndGlyphs\" textLength=\"93\" x=\"499.5\" y=\"180.1387\">«attribute def»</text><text fill=\"#000000\" font-family=\"sans-serif\" font-size=\"12\" lengthAdjust=\"spacingAndGlyphs\" textLength=\"8\" x=\"542\" y=\"194.1074\">A</text><line style=\"stroke: #383838; stroke-width: 1.5;\" x1=\"499.5\" x2=\"592.5\" y1=\"201.9375\" y2=\"201.9375\"/><text fill=\"#000000\" font-family=\"sans-serif\" font-size=\"11\" lengthAdjust=\"spacingAndGlyphs\" textLength=\"48\" x=\"504.5\" y=\"232.9526\">x: String</text><text fill=\"#000000\" font-family=\"sans-serif\" font-size=\"11\" lengthAdjust=\"spacingAndGlyphs\" textLength=\"21\" x=\"504.5\" y=\"245.7573\">y: A</text><line style=\"stroke: #383838; stroke-width: 1.0;\" x1=\"499.5\" x2=\"518.5\" y1=\"216.3398\" y2=\"216.3398\"/><text fill=\"#000000\" font-family=\"sans-serif\" font-size=\"11\" lengthAdjust=\"spacingAndGlyphs\" textLength=\"55\" x=\"518.5\" y=\"219.6479\">attributes</text><line style=\"stroke: #383838; stroke-width: 1.0;\" x1=\"573.5\" x2=\"592.5\" y1=\"216.3398\" y2=\"216.3398\"/></a><!--MD5=[09b614a08d8cba4a07c9adeb5e0fee81]\n",
       "class E3--><a href=\"psysml:665f7084-89dd-4cc9-a479-f70e09a77220\" target=\"_top\" title=\"psysml:665f7084-89dd-4cc9-a479-f70e09a77220\" xlink:actuate=\"onRequest\" xlink:href=\"psysml:665f7084-89dd-4cc9-a479-f70e09a77220\" xlink:show=\"new\" xlink:title=\"psysml:665f7084-89dd-4cc9-a479-f70e09a77220\" xlink:type=\"simple\"><rect fill=\"#FFFFFF\" height=\"45.9375\" id=\"E3\" rx=\"10\" ry=\"10\" style=\"stroke: #383838; stroke-width: 1.5;\" width=\"71\" x=\"600.5\" y=\"41\"/><text fill=\"#000000\" font-family=\"sans-serif\" font-size=\"12\" font-style=\"italic\" lengthAdjust=\"spacingAndGlyphs\" textLength=\"69\" x=\"601.5\" y=\"57.1387\">«attribute»</text><text fill=\"#000000\" font-family=\"sans-serif\" font-size=\"12\" lengthAdjust=\"spacingAndGlyphs\" textLength=\"24\" x=\"624\" y=\"71.1074\">a: A</text><line style=\"stroke: #383838; stroke-width: 1.5;\" x1=\"601.5\" x2=\"670.5\" y1=\"78.9375\" y2=\"78.9375\"/></a><!--MD5=[ebbe1d658d1005bcc118a6aa81145e00]\n",
       "class E4--><a href=\"psysml:ea0c6e06-a87b-4616-91bc-ba79196303d0\" target=\"_top\" title=\"psysml:ea0c6e06-a87b-4616-91bc-ba79196303d0\" xlink:actuate=\"onRequest\" xlink:href=\"psysml:ea0c6e06-a87b-4616-91bc-ba79196303d0\" xlink:show=\"new\" xlink:title=\"psysml:ea0c6e06-a87b-4616-91bc-ba79196303d0\" xlink:type=\"simple\"><rect fill=\"#FFFFFF\" height=\"45.9375\" id=\"E4\" style=\"stroke: #383838; stroke-width: 1.5;\" width=\"108\" x=\"457\" y=\"41\"/><text fill=\"#000000\" font-family=\"sans-serif\" font-size=\"12\" font-style=\"italic\" lengthAdjust=\"spacingAndGlyphs\" textLength=\"106\" x=\"458\" y=\"57.1387\">«calculation def»</text><text fill=\"#000000\" font-family=\"sans-serif\" font-size=\"12\" lengthAdjust=\"spacingAndGlyphs\" textLength=\"7\" x=\"507.5\" y=\"71.1074\">F</text><line style=\"stroke: #383838; stroke-width: 1.5;\" x1=\"458\" x2=\"564\" y1=\"78.9375\" y2=\"78.9375\"/></a><!--MD5=[270fce915f116d4de14055a7c1d9a0f3]\n",
       "class E5--><a href=\"psysml:1ebb82ef-cdf5-4836-9887-d34bbc134ce1\" target=\"_top\" title=\"psysml:1ebb82ef-cdf5-4836-9887-d34bbc134ce1\" xlink:actuate=\"onRequest\" xlink:href=\"psysml:1ebb82ef-cdf5-4836-9887-d34bbc134ce1\" xlink:show=\"new\" xlink:title=\"psysml:1ebb82ef-cdf5-4836-9887-d34bbc134ce1\" xlink:type=\"simple\"><rect fill=\"#FFFFFF\" height=\"45.9375\" id=\"E5\" rx=\"10\" ry=\"10\" style=\"stroke: #383838; stroke-width: 1.5;\" width=\"71\" x=\"350.5\" y=\"41\"/><text fill=\"#000000\" font-family=\"sans-serif\" font-size=\"12\" font-style=\"italic\" lengthAdjust=\"spacingAndGlyphs\" textLength=\"69\" x=\"351.5\" y=\"57.1387\">«attribute»</text><text fill=\"#000000\" font-family=\"sans-serif\" font-size=\"12\" lengthAdjust=\"spacingAndGlyphs\" textLength=\"4\" x=\"384\" y=\"71.1074\">f</text><line style=\"stroke: #383838; stroke-width: 1.5;\" x1=\"351.5\" x2=\"420.5\" y1=\"78.9375\" y2=\"78.9375\"/></a><!--MD5=[60a26617385b1d2d0262a64233df1f8d]\n",
       "class E6--><a href=\"psysml:22e07e99-e7e6-486c-b8ca-f79edb8ad4e8\" target=\"_top\" title=\"psysml:22e07e99-e7e6-486c-b8ca-f79edb8ad4e8\" xlink:actuate=\"onRequest\" xlink:href=\"psysml:22e07e99-e7e6-486c-b8ca-f79edb8ad4e8\" xlink:show=\"new\" xlink:title=\"psysml:22e07e99-e7e6-486c-b8ca-f79edb8ad4e8\" xlink:type=\"simple\"><rect fill=\"#FFFFFF\" height=\"45.9375\" id=\"E6\" rx=\"10\" ry=\"10\" style=\"stroke: #383838; stroke-width: 1.5;\" width=\"71\" x=\"244.5\" y=\"41\"/><text fill=\"#000000\" font-family=\"sans-serif\" font-size=\"12\" font-style=\"italic\" lengthAdjust=\"spacingAndGlyphs\" textLength=\"69\" x=\"245.5\" y=\"57.1387\">«attribute»</text><text fill=\"#000000\" font-family=\"sans-serif\" font-size=\"12\" lengthAdjust=\"spacingAndGlyphs\" textLength=\"8\" x=\"276\" y=\"71.1074\">g</text><line style=\"stroke: #383838; stroke-width: 1.5;\" x1=\"245.5\" x2=\"314.5\" y1=\"78.9375\" y2=\"78.9375\"/></a><!--MD5=[2156ba9850f5573cc1fc38a6a4b2f02b]\n",
       "class E7--><a href=\"psysml:a8be3d15-ac76-451a-a4cf-87ef8e02e637\" target=\"_top\" title=\"psysml:a8be3d15-ac76-451a-a4cf-87ef8e02e637\" xlink:actuate=\"onRequest\" xlink:href=\"psysml:a8be3d15-ac76-451a-a4cf-87ef8e02e637\" xlink:show=\"new\" xlink:title=\"psysml:a8be3d15-ac76-451a-a4cf-87ef8e02e637\" xlink:type=\"simple\"><rect fill=\"#FFFFFF\" height=\"45.9375\" id=\"E7\" rx=\"10\" ry=\"10\" style=\"stroke: #383838; stroke-width: 1.5;\" width=\"71\" x=\"138.5\" y=\"41\"/><text fill=\"#000000\" font-family=\"sans-serif\" font-size=\"12\" font-style=\"italic\" lengthAdjust=\"spacingAndGlyphs\" textLength=\"69\" x=\"139.5\" y=\"57.1387\">«attribute»</text><text fill=\"#000000\" font-family=\"sans-serif\" font-size=\"12\" lengthAdjust=\"spacingAndGlyphs\" textLength=\"8\" x=\"170\" y=\"71.1074\">b</text><line style=\"stroke: #383838; stroke-width: 1.5;\" x1=\"139.5\" x2=\"208.5\" y1=\"78.9375\" y2=\"78.9375\"/></a><!--MD5=[b9389687b975829384b498ac4b7476b2]\n",
       "class E8--><a href=\"psysml:88e99412-8df3-4a94-a568-1984bea0c190\" target=\"_top\" title=\"psysml:88e99412-8df3-4a94-a568-1984bea0c190\" xlink:actuate=\"onRequest\" xlink:href=\"psysml:88e99412-8df3-4a94-a568-1984bea0c190\" xlink:show=\"new\" xlink:title=\"psysml:88e99412-8df3-4a94-a568-1984bea0c190\" xlink:type=\"simple\"><rect fill=\"#FFFFFF\" height=\"45.9375\" id=\"E8\" rx=\"10\" ry=\"10\" style=\"stroke: #383838; stroke-width: 1.5;\" width=\"71\" x=\"32.5\" y=\"41\"/><text fill=\"#000000\" font-family=\"sans-serif\" font-size=\"12\" font-style=\"italic\" lengthAdjust=\"spacingAndGlyphs\" textLength=\"69\" x=\"33.5\" y=\"57.1387\">«attribute»</text><text fill=\"#000000\" font-family=\"sans-serif\" font-size=\"12\" lengthAdjust=\"spacingAndGlyphs\" textLength=\"7\" x=\"64.5\" y=\"71.1074\">c</text><line style=\"stroke: #383838; stroke-width: 1.5;\" x1=\"33.5\" x2=\"102.5\" y1=\"78.9375\" y2=\"78.9375\"/></a><!--MD5=[05d275557350bfb9b23a4ef7222b4c39]\n",
       "link E3 to E2--><a href=\"psysml:47946f32-7338-4adb-a6af-ffcb2b2265dd\" target=\"_top\" title=\"psysml:47946f32-7338-4adb-a6af-ffcb2b2265dd\" xlink:actuate=\"onRequest\" xlink:href=\"psysml:47946f32-7338-4adb-a6af-ffcb2b2265dd\" xlink:show=\"new\" xlink:title=\"psysml:47946f32-7338-4adb-a6af-ffcb2b2265dd\" xlink:type=\"simple\"><path d=\"M621.94,87.19 C611.77,103.23 597.51,125.73 584.09,146.9 \" fill=\"none\" id=\"E3-&gt;E2\" style=\"stroke: #383838; stroke-width: 1.0;\"/><polygon fill=\"#FFFFFF\" points=\"573.37,163.82,577.6195,144.0225,589.448,151.5115,573.37,163.82\" style=\"stroke: #383838; stroke-width: 1.0;\"/><ellipse cx=\"582.3584\" cy=\"140.2764\" fill=\"#383838\" rx=\"2\" ry=\"2\" style=\"stroke: #383838; stroke-width: 1.0;\"/><ellipse cx=\"590.8073\" cy=\"145.6258\" fill=\"#383838\" rx=\"2\" ry=\"2\" style=\"stroke: #383838; stroke-width: 1.0;\"/></a><!--MD5=[ddeed8deb2209213b62e6cfabaa108b2]\n",
       "reverse link E4 to E2--><a href=\"psysml:e1d329d3-cb1e-45c3-b1d5-2fcf771779ef\" target=\"_top\" title=\"psysml:e1d329d3-cb1e-45c3-b1d5-2fcf771779ef\" xlink:actuate=\"onRequest\" xlink:href=\"psysml:e1d329d3-cb1e-45c3-b1d5-2fcf771779ef\" xlink:show=\"new\" xlink:title=\"psysml:e1d329d3-cb1e-45c3-b1d5-2fcf771779ef\" xlink:type=\"simple\"><path d=\"M519.62,99.96 C524.37,119.25 530.31,143.36 535.36,163.82 \" fill=\"none\" id=\"E4&lt;-E2\" style=\"stroke: #383838; stroke-width: 1.0;\"/><polygon fill=\"#FFFFFF\" points=\"516.47,87.19,514.0229,93.9732,519.3432,98.841,521.7903,92.0577,516.47,87.19\" style=\"stroke: #383838; stroke-width: 1.0;\"/><text fill=\"#000000\" font-family=\"sans-serif\" font-size=\"13\" lengthAdjust=\"spacingAndGlyphs\" textLength=\"8\" x=\"528\" y=\"130.0669\">p</text></a><!--MD5=[1ad850bbfdc98fbcee5c12fdb72d01c1]\n",
       "@startuml\r\n",
       "skinparam monochrome true\r\n",
       "skinparam classbackgroundcolor white\r\n",
       "skinparam shadowing false\r\n",
       "skinparam wrapWidth 300\r\n",
       "hide circle\r\n",
       "\r\n",
       "package \"ParameterTest\" as E1  [[psysml:adbc474a-2784-4828-be47-026fefc14932 ]]  {\r\n",
       "comp def \"A\" as E2  <<(T,blue) attribute def>> [[psysml:fa211d39-e6da-4efb-a07a-68e935dd1093 ]] {\r\n",
       "- - attributes - -\r\n",
       "x: String\r\n",
       "y: A\r\n",
       "}\r\n",
       "comp usage \"a: A\" as E3  <<(T,blue) attribute>> [[psysml:665f7084-89dd-4cc9-a479-f70e09a77220 ]] {\r\n",
       "}\r\n",
       "comp def \"F\" as E4  <<(T,blue) calculation def>> [[psysml:ea0c6e06-a87b-4616-91bc-ba79196303d0 ]] {\r\n",
       "}\r\n",
       "comp usage \"f\" as E5  <<(T,blue) attribute>> [[psysml:1ebb82ef-cdf5-4836-9887-d34bbc134ce1 ]] {\r\n",
       "}\r\n",
       "comp usage \"g\" as E6  <<(T,blue) attribute>> [[psysml:22e07e99-e7e6-486c-b8ca-f79edb8ad4e8 ]] {\r\n",
       "}\r\n",
       "comp usage \"b\" as E7  <<(T,blue) attribute>> [[psysml:a8be3d15-ac76-451a-a4cf-87ef8e02e637 ]] {\r\n",
       "}\r\n",
       "comp usage \"c\" as E8  <<(T,blue) attribute>> [[psysml:88e99412-8df3-4a94-a568-1984bea0c190 ]] {\r\n",
       "}\r\n",
       "E3 - -:|> E2 [[psysml:47946f32-7338-4adb-a6af-ffcb2b2265dd ]] \r\n",
       "E4 o- - E2 [[psysml:e1d329d3-cb1e-45c3-b1d5-2fcf771779ef ]] : p\r\n",
       "}\r\n",
       "@enduml\r\n",
       "\n",
       "PlantUML version 1.2020.13(Sat Jun 13 12:26:38 UTC 2020)\n",
       "(EPL source distribution)\n",
       "Java Runtime: OpenJDK Runtime Environment\n",
       "JVM: OpenJDK 64-Bit Server VM\n",
       "Default Encoding: UTF-8\n",
       "Language: en\n",
       "Country: null\n",
       "--></g></svg>"
      ]
     },
     "execution_count": 38,
     "metadata": {},
     "output_type": "execute_result"
    }
   ],
   "source": [
    "%viz --style=\"DEFAULT\" --view=\"Tree\" \"ParameterTest\""
   ]
  },
  {
   "cell_type": "code",
   "execution_count": 39,
   "id": "335bbb35",
   "metadata": {
    "execution": {
     "iopub.execute_input": "2021-06-30T09:18:22.684584Z",
     "iopub.status.busy": "2021-06-30T09:18:22.684015Z",
     "iopub.status.idle": "2021-06-30T09:18:22.690621Z",
     "shell.execute_reply": "2021-06-30T09:18:22.690088Z"
    }
   },
   "outputs": [
    {
     "data": {
      "image/svg+xml": [
       "<?xml version=\"1.0\" encoding=\"UTF-8\" standalone=\"no\"?><svg xmlns=\"http://www.w3.org/2000/svg\" xmlns:xlink=\"http://www.w3.org/1999/xlink\" contentScriptType=\"application/ecmascript\" contentStyleType=\"text/css\" height=\"12px\" preserveAspectRatio=\"none\" style=\"width:12px;height:12px;\" version=\"1.1\" viewBox=\"0 0 12 12\" width=\"12px\" zoomAndPan=\"magnify\"><defs/><g><!--MD5=[c5f280e076d0d61ccf4b0f27871bda1d]\n",
       "@startuml\r\n",
       "skinparam monochrome true\r\n",
       "skinparam classbackgroundcolor white\r\n",
       "skinparam shadowing false\r\n",
       "skinparam wrapWidth 300\r\n",
       "hide circle\r\n",
       "\r\n",
       "@enduml\r\n",
       "\n",
       "PlantUML version 1.2020.13(Sat Jun 13 12:26:38 UTC 2020)\n",
       "(EPL source distribution)\n",
       "Java Runtime: OpenJDK Runtime Environment\n",
       "JVM: OpenJDK 64-Bit Server VM\n",
       "Default Encoding: UTF-8\n",
       "Language: en\n",
       "Country: null\n",
       "--></g></svg>"
      ]
     },
     "execution_count": 39,
     "metadata": {},
     "output_type": "execute_result"
    }
   ],
   "source": [
    "%viz --style=\"DEFAULT\" --view=\"State\" \"ParameterTest\""
   ]
  },
  {
   "cell_type": "code",
   "execution_count": 40,
   "id": "7532fd63",
   "metadata": {
    "execution": {
     "iopub.execute_input": "2021-06-30T09:18:22.741541Z",
     "iopub.status.busy": "2021-06-30T09:18:22.741182Z",
     "iopub.status.idle": "2021-06-30T09:18:22.780991Z",
     "shell.execute_reply": "2021-06-30T09:18:22.779684Z"
    }
   },
   "outputs": [
    {
     "data": {
      "image/svg+xml": [
       "<?xml version=\"1.0\" encoding=\"UTF-8\" standalone=\"no\"?><svg xmlns=\"http://www.w3.org/2000/svg\" xmlns:xlink=\"http://www.w3.org/1999/xlink\" contentScriptType=\"application/ecmascript\" contentStyleType=\"text/css\" height=\"216px\" preserveAspectRatio=\"none\" style=\"width:740px;height:216px;\" version=\"1.1\" viewBox=\"0 0 740 216\" width=\"740px\" zoomAndPan=\"magnify\"><defs/><g><!--MD5=[fbc87193dbaf4d95561dea2c320d4a47]\n",
       "cluster E1--><a href=\"psysml:adbc474a-2784-4828-be47-026fefc14932\" target=\"_top\" title=\"psysml:adbc474a-2784-4828-be47-026fefc14932\" xlink:actuate=\"onRequest\" xlink:href=\"psysml:adbc474a-2784-4828-be47-026fefc14932\" xlink:show=\"new\" xlink:title=\"psysml:adbc474a-2784-4828-be47-026fefc14932\" xlink:type=\"simple\"><polygon fill=\"#FFFFFF\" points=\"16,6,139,6,146,28.2969,718,28.2969,718,204.72,16,204.72,16,6\" style=\"stroke: #000000; stroke-width: 1.5;\"/><line style=\"stroke: #000000; stroke-width: 1.5;\" x1=\"16\" x2=\"146\" y1=\"28.2969\" y2=\"28.2969\"/><text fill=\"#000000\" font-family=\"sans-serif\" font-size=\"14\" font-weight=\"bold\" lengthAdjust=\"spacingAndGlyphs\" textLength=\"117\" x=\"20\" y=\"20.9951\">ParameterTest</text></a><!--MD5=[f6df4d0ebaf0b5dfb2ced0ae5af7c670]\n",
       "cluster E4--><a href=\"psysml:ea0c6e06-a87b-4616-91bc-ba79196303d0\" target=\"_top\" title=\"psysml:ea0c6e06-a87b-4616-91bc-ba79196303d0\" xlink:actuate=\"onRequest\" xlink:href=\"psysml:ea0c6e06-a87b-4616-91bc-ba79196303d0\" xlink:show=\"new\" xlink:title=\"psysml:ea0c6e06-a87b-4616-91bc-ba79196303d0\" xlink:type=\"simple\"><rect fill=\"#FFFFFF\" height=\"110.72\" id=\"E4\" style=\"stroke: #383838; stroke-width: 1.5;\" width=\"148\" x=\"554\" y=\"64\"/><rect fill=\"#F8F8F8\" height=\"37.9375\" style=\"stroke: #383838; stroke-width: 1.5;\" width=\"148\" x=\"554\" y=\"64\"/><text fill=\"#000000\" font-family=\"sans-serif\" font-size=\"12\" font-style=\"italic\" lengthAdjust=\"spacingAndGlyphs\" textLength=\"106\" x=\"575\" y=\"80.1387\">«calculation def»</text><text fill=\"#000000\" font-family=\"sans-serif\" font-size=\"12\" lengthAdjust=\"spacingAndGlyphs\" textLength=\"7\" x=\"624.5\" y=\"94.1074\">F</text></a><g id=\"E1.E2\"><a href=\"psysml:fa211d39-e6da-4efb-a07a-68e935dd1093\" target=\"_top\" title=\"psysml:fa211d39-e6da-4efb-a07a-68e935dd1093\" xlink:actuate=\"onRequest\" xlink:href=\"psysml:fa211d39-e6da-4efb-a07a-68e935dd1093\" xlink:show=\"new\" xlink:title=\"psysml:fa211d39-e6da-4efb-a07a-68e935dd1093\" xlink:type=\"simple\"><rect fill=\"#FFFFFF\" height=\"42.9375\" id=\"E2\" style=\"stroke: #383838; stroke-width: 1.5;\" width=\"100\" x=\"417\" y=\"99\"/><rect fill=\"#F8F8F8\" height=\"37.9375\" style=\"stroke: #383838; stroke-width: 1.5;\" width=\"100\" x=\"417\" y=\"99\"/><text fill=\"#000000\" font-family=\"sans-serif\" font-size=\"12\" font-style=\"italic\" lengthAdjust=\"spacingAndGlyphs\" textLength=\"93\" x=\"420.5\" y=\"115.1387\">«attribute def»</text><text fill=\"#000000\" font-family=\"sans-serif\" font-size=\"12\" lengthAdjust=\"spacingAndGlyphs\" textLength=\"8\" x=\"463\" y=\"129.1074\">A</text></a></g><!--MD5=[09b614a08d8cba4a07c9adeb5e0fee81]\n",
       "class E3--><a href=\"psysml:665f7084-89dd-4cc9-a479-f70e09a77220\" target=\"_top\" title=\"psysml:665f7084-89dd-4cc9-a479-f70e09a77220\" xlink:actuate=\"onRequest\" xlink:href=\"psysml:665f7084-89dd-4cc9-a479-f70e09a77220\" xlink:show=\"new\" xlink:title=\"psysml:665f7084-89dd-4cc9-a479-f70e09a77220\" xlink:type=\"simple\"><rect fill=\"#FFFFFF\" height=\"45.9375\" id=\"E3\" rx=\"10\" ry=\"10\" style=\"stroke: #383838; stroke-width: 1.5;\" width=\"71\" x=\"456.5\" y=\"41\"/><text fill=\"#000000\" font-family=\"sans-serif\" font-size=\"12\" font-style=\"italic\" lengthAdjust=\"spacingAndGlyphs\" textLength=\"69\" x=\"457.5\" y=\"57.1387\">«attribute»</text><text fill=\"#000000\" font-family=\"sans-serif\" font-size=\"12\" lengthAdjust=\"spacingAndGlyphs\" textLength=\"24\" x=\"480\" y=\"71.1074\">a: A</text><line style=\"stroke: #383838; stroke-width: 1.5;\" x1=\"457.5\" x2=\"526.5\" y1=\"78.9375\" y2=\"78.9375\"/></a><!--MD5=[b9389687b975829384b498ac4b7476b2]\n",
       "class E8--><a href=\"psysml:1ebb82ef-cdf5-4836-9887-d34bbc134ce1\" target=\"_top\" title=\"psysml:1ebb82ef-cdf5-4836-9887-d34bbc134ce1\" xlink:actuate=\"onRequest\" xlink:href=\"psysml:1ebb82ef-cdf5-4836-9887-d34bbc134ce1\" xlink:show=\"new\" xlink:title=\"psysml:1ebb82ef-cdf5-4836-9887-d34bbc134ce1\" xlink:type=\"simple\"><rect fill=\"#FFFFFF\" height=\"45.9375\" id=\"E8\" rx=\"10\" ry=\"10\" style=\"stroke: #383838; stroke-width: 1.5;\" width=\"71\" x=\"350.5\" y=\"41\"/><text fill=\"#000000\" font-family=\"sans-serif\" font-size=\"12\" font-style=\"italic\" lengthAdjust=\"spacingAndGlyphs\" textLength=\"69\" x=\"351.5\" y=\"57.1387\">«attribute»</text><text fill=\"#000000\" font-family=\"sans-serif\" font-size=\"12\" lengthAdjust=\"spacingAndGlyphs\" textLength=\"4\" x=\"384\" y=\"71.1074\">f</text><line style=\"stroke: #383838; stroke-width: 1.5;\" x1=\"351.5\" x2=\"420.5\" y1=\"78.9375\" y2=\"78.9375\"/></a><!--MD5=[fd4143e9d270a159db93a4ea2a975926]\n",
       "class E9--><a href=\"psysml:22e07e99-e7e6-486c-b8ca-f79edb8ad4e8\" target=\"_top\" title=\"psysml:22e07e99-e7e6-486c-b8ca-f79edb8ad4e8\" xlink:actuate=\"onRequest\" xlink:href=\"psysml:22e07e99-e7e6-486c-b8ca-f79edb8ad4e8\" xlink:show=\"new\" xlink:title=\"psysml:22e07e99-e7e6-486c-b8ca-f79edb8ad4e8\" xlink:type=\"simple\"><rect fill=\"#FFFFFF\" height=\"45.9375\" id=\"E9\" rx=\"10\" ry=\"10\" style=\"stroke: #383838; stroke-width: 1.5;\" width=\"71\" x=\"244.5\" y=\"41\"/><text fill=\"#000000\" font-family=\"sans-serif\" font-size=\"12\" font-style=\"italic\" lengthAdjust=\"spacingAndGlyphs\" textLength=\"69\" x=\"245.5\" y=\"57.1387\">«attribute»</text><text fill=\"#000000\" font-family=\"sans-serif\" font-size=\"12\" lengthAdjust=\"spacingAndGlyphs\" textLength=\"8\" x=\"276\" y=\"71.1074\">g</text><line style=\"stroke: #383838; stroke-width: 1.5;\" x1=\"245.5\" x2=\"314.5\" y1=\"78.9375\" y2=\"78.9375\"/></a><!--MD5=[96f4274e9e20536e775497830990834d]\n",
       "class E10--><a href=\"psysml:a8be3d15-ac76-451a-a4cf-87ef8e02e637\" target=\"_top\" title=\"psysml:a8be3d15-ac76-451a-a4cf-87ef8e02e637\" xlink:actuate=\"onRequest\" xlink:href=\"psysml:a8be3d15-ac76-451a-a4cf-87ef8e02e637\" xlink:show=\"new\" xlink:title=\"psysml:a8be3d15-ac76-451a-a4cf-87ef8e02e637\" xlink:type=\"simple\"><rect fill=\"#FFFFFF\" height=\"45.9375\" id=\"E10\" rx=\"10\" ry=\"10\" style=\"stroke: #383838; stroke-width: 1.5;\" width=\"71\" x=\"138.5\" y=\"41\"/><text fill=\"#000000\" font-family=\"sans-serif\" font-size=\"12\" font-style=\"italic\" lengthAdjust=\"spacingAndGlyphs\" textLength=\"69\" x=\"139.5\" y=\"57.1387\">«attribute»</text><text fill=\"#000000\" font-family=\"sans-serif\" font-size=\"12\" lengthAdjust=\"spacingAndGlyphs\" textLength=\"8\" x=\"170\" y=\"71.1074\">b</text><line style=\"stroke: #383838; stroke-width: 1.5;\" x1=\"139.5\" x2=\"208.5\" y1=\"78.9375\" y2=\"78.9375\"/></a><!--MD5=[1dd1bfd58a279cf63c5f349dbc8fc6a1]\n",
       "class E11--><a href=\"psysml:88e99412-8df3-4a94-a568-1984bea0c190\" target=\"_top\" title=\"psysml:88e99412-8df3-4a94-a568-1984bea0c190\" xlink:actuate=\"onRequest\" xlink:href=\"psysml:88e99412-8df3-4a94-a568-1984bea0c190\" xlink:show=\"new\" xlink:title=\"psysml:88e99412-8df3-4a94-a568-1984bea0c190\" xlink:type=\"simple\"><rect fill=\"#FFFFFF\" height=\"45.9375\" id=\"E11\" rx=\"10\" ry=\"10\" style=\"stroke: #383838; stroke-width: 1.5;\" width=\"71\" x=\"32.5\" y=\"41\"/><text fill=\"#000000\" font-family=\"sans-serif\" font-size=\"12\" font-style=\"italic\" lengthAdjust=\"spacingAndGlyphs\" textLength=\"69\" x=\"33.5\" y=\"57.1387\">«attribute»</text><text fill=\"#000000\" font-family=\"sans-serif\" font-size=\"12\" lengthAdjust=\"spacingAndGlyphs\" textLength=\"7\" x=\"64.5\" y=\"71.1074\">c</text><line style=\"stroke: #383838; stroke-width: 1.5;\" x1=\"33.5\" x2=\"102.5\" y1=\"78.9375\" y2=\"78.9375\"/></a><text fill=\"#000000\" font-family=\"sans-serif\" font-size=\"14\" lengthAdjust=\"spacingAndGlyphs\" textLength=\"9\" x=\"567.5\" y=\"42.6982\">p</text><rect fill=\"#383838\" height=\"12\" style=\"stroke: #F8F8F8; stroke-width: 1.5;\" width=\"12\" x=\"566\" y=\"58\"/><text fill=\"#000000\" font-family=\"sans-serif\" font-size=\"14\" lengthAdjust=\"spacingAndGlyphs\" textLength=\"9\" x=\"614.5\" y=\"42.6982\">q</text><rect fill=\"#383838\" height=\"12\" style=\"stroke: #F8F8F8; stroke-width: 1.5;\" width=\"12\" x=\"613\" y=\"58\"/><text fill=\"#000000\" font-family=\"sans-serif\" font-size=\"14\" lengthAdjust=\"spacingAndGlyphs\" textLength=\"57\" x=\"590.5\" y=\"193.7151\">noname</text><rect fill=\"#383838\" height=\"12\" style=\"stroke: #F8F8F8; stroke-width: 1.5;\" width=\"12\" x=\"613\" y=\"168.72\"/><!--MD5=[05d275557350bfb9b23a4ef7222b4c39]\n",
       "link E3 to E2--><a href=\"psysml:47946f32-7338-4adb-a6af-ffcb2b2265dd\" target=\"_top\" title=\"psysml:47946f32-7338-4adb-a6af-ffcb2b2265dd\" xlink:actuate=\"onRequest\" xlink:href=\"psysml:47946f32-7338-4adb-a6af-ffcb2b2265dd\" xlink:show=\"new\" xlink:title=\"psysml:47946f32-7338-4adb-a6af-ffcb2b2265dd\" xlink:type=\"simple\"><path d=\"M481.83,87.17 C481.78,87.29 481.72,87.41 481.66,87.53 \" fill=\"none\" id=\"E3-&gt;E2\" style=\"stroke: #383838; stroke-width: 1.0;\"/><polygon fill=\"#FFFFFF\" points=\"476.43,98.93,477.977,78.7407,490.7056,84.5701,476.43,98.93\" style=\"stroke: #383838; stroke-width: 1.0;\"/><ellipse cx=\"482.1687\" cy=\"74.3911\" fill=\"#383838\" rx=\"2\" ry=\"2\" style=\"stroke: #383838; stroke-width: 1.0;\"/><ellipse cx=\"491.2606\" cy=\"78.555\" fill=\"#383838\" rx=\"2\" ry=\"2\" style=\"stroke: #383838; stroke-width: 1.0;\"/></a><!--MD5=[8d67b8dba1e715bf67805c6498422fd8]\n",
       "@startuml\r\n",
       "skinparam ranksep 10\r\n",
       "skinparam rectangle {\r\n",
       " backgroundColor<<block>> LightGreen\r\n",
       "}\r\n",
       "skinparam monochrome true\r\n",
       "skinparam classbackgroundcolor white\r\n",
       "skinparam shadowing false\r\n",
       "skinparam wrapWidth 300\r\n",
       "hide circle\r\n",
       "\r\n",
       "package \"ParameterTest\" as E1  [[psysml:adbc474a-2784-4828-be47-026fefc14932 ]]  {\r\n",
       "def \"A\" as E2  <<(T,blue) attribute def>> [[psysml:fa211d39-e6da-4efb-a07a-68e935dd1093 ]] \r\n",
       "comp usage \"a: A\" as E3  <<(T,blue) attribute>> [[psysml:665f7084-89dd-4cc9-a479-f70e09a77220 ]] {\r\n",
       "}\r\n",
       "rec def \"F\" as E4  <<(T,blue) calculation def>> [[psysml:ea0c6e06-a87b-4616-91bc-ba79196303d0 ]] {\r\n",
       "portin \"p\" as E5  [[psysml:e1d329d3-cb1e-45c3-b1d5-2fcf771779ef ]] \r\n",
       "portin \"q\" as E6  [[psysml:b499ebef-2d53-43ba-b86a-de9084e46bb3 ]] \r\n",
       "portout \"noname\" as E7  [[psysml:2e56002b-31e4-43bf-ad2b-cc6ef1aac7ab ]] \r\n",
       "}\r\n",
       "\r\n",
       "comp usage \"f\" as E8  <<(T,blue) attribute>> [[psysml:1ebb82ef-cdf5-4836-9887-d34bbc134ce1 ]] {\r\n",
       "}\r\n",
       "comp usage \"g\" as E9  <<(T,blue) attribute>> [[psysml:22e07e99-e7e6-486c-b8ca-f79edb8ad4e8 ]] {\r\n",
       "}\r\n",
       "comp usage \"b\" as E10  <<(T,blue) attribute>> [[psysml:a8be3d15-ac76-451a-a4cf-87ef8e02e637 ]] {\r\n",
       "}\r\n",
       "comp usage \"c\" as E11  <<(T,blue) attribute>> [[psysml:88e99412-8df3-4a94-a568-1984bea0c190 ]] {\r\n",
       "}\r\n",
       "E3 - -:|> E2 [[psysml:47946f32-7338-4adb-a6af-ffcb2b2265dd ]] \r\n",
       "}\r\n",
       "@enduml\r\n",
       "\n",
       "PlantUML version 1.2020.13(Sat Jun 13 12:26:38 UTC 2020)\n",
       "(EPL source distribution)\n",
       "Java Runtime: OpenJDK Runtime Environment\n",
       "JVM: OpenJDK 64-Bit Server VM\n",
       "Default Encoding: UTF-8\n",
       "Language: en\n",
       "Country: null\n",
       "--></g></svg>"
      ]
     },
     "execution_count": 40,
     "metadata": {},
     "output_type": "execute_result"
    }
   ],
   "source": [
    "%viz --style=\"DEFAULT\" --view=\"Interconnection\" \"ParameterTest\""
   ]
  },
  {
   "cell_type": "code",
   "execution_count": 41,
   "id": "3409d281",
   "metadata": {
    "execution": {
     "iopub.execute_input": "2021-06-30T09:18:22.832558Z",
     "iopub.status.busy": "2021-06-30T09:18:22.831661Z",
     "iopub.status.idle": "2021-06-30T09:18:22.861393Z",
     "shell.execute_reply": "2021-06-30T09:18:22.861087Z"
    }
   },
   "outputs": [
    {
     "data": {
      "image/svg+xml": [
       "<?xml version=\"1.0\" encoding=\"UTF-8\" standalone=\"no\"?><svg xmlns=\"http://www.w3.org/2000/svg\" xmlns:xlink=\"http://www.w3.org/1999/xlink\" contentScriptType=\"application/ecmascript\" contentStyleType=\"text/css\" height=\"162px\" preserveAspectRatio=\"none\" style=\"width:166px;height:162px;\" version=\"1.1\" viewBox=\"0 0 166 162\" width=\"166px\" zoomAndPan=\"magnify\"><defs/><g><!--MD5=[fbc87193dbaf4d95561dea2c320d4a47]\n",
       "cluster E1--><a href=\"psysml:ea0c6e06-a87b-4616-91bc-ba79196303d0\" target=\"_top\" title=\"psysml:ea0c6e06-a87b-4616-91bc-ba79196303d0\" xlink:actuate=\"onRequest\" xlink:href=\"psysml:ea0c6e06-a87b-4616-91bc-ba79196303d0\" xlink:show=\"new\" xlink:title=\"psysml:ea0c6e06-a87b-4616-91bc-ba79196303d0\" xlink:type=\"simple\"><rect fill=\"#FFFFFF\" height=\"87.72\" id=\"E1\" style=\"stroke: #383838; stroke-width: 1.5;\" width=\"148\" x=\"7\" y=\"42.0986\"/><rect fill=\"#F8F8F8\" height=\"37.9375\" style=\"stroke: #383838; stroke-width: 1.5;\" width=\"148\" x=\"7\" y=\"42.0986\"/><text fill=\"#000000\" font-family=\"sans-serif\" font-size=\"12\" font-style=\"italic\" lengthAdjust=\"spacingAndGlyphs\" textLength=\"106\" x=\"28\" y=\"58.2373\">«calculation def»</text><text fill=\"#000000\" font-family=\"sans-serif\" font-size=\"12\" lengthAdjust=\"spacingAndGlyphs\" textLength=\"7\" x=\"77.5\" y=\"72.2061\">F</text></a><text fill=\"#000000\" font-family=\"sans-serif\" font-size=\"14\" lengthAdjust=\"spacingAndGlyphs\" textLength=\"9\" x=\"20.5\" y=\"20.7969\">p</text><rect fill=\"#383838\" height=\"12\" style=\"stroke: #F8F8F8; stroke-width: 1.5;\" width=\"12\" x=\"19\" y=\"36.0986\"/><text fill=\"#000000\" font-family=\"sans-serif\" font-size=\"14\" lengthAdjust=\"spacingAndGlyphs\" textLength=\"9\" x=\"67.5\" y=\"20.7969\">q</text><rect fill=\"#383838\" height=\"12\" style=\"stroke: #F8F8F8; stroke-width: 1.5;\" width=\"12\" x=\"66\" y=\"36.0986\"/><text fill=\"#000000\" font-family=\"sans-serif\" font-size=\"14\" lengthAdjust=\"spacingAndGlyphs\" textLength=\"57\" x=\"43.5\" y=\"148.8138\">noname</text><rect fill=\"#383838\" height=\"12\" style=\"stroke: #F8F8F8; stroke-width: 1.5;\" width=\"12\" x=\"66\" y=\"123.8186\"/><!--MD5=[544434d1000909d0b03b633854c25719]\n",
       "@startuml\r\n",
       "skinparam ranksep 8\r\n",
       "skinparam monochrome true\r\n",
       "skinparam classbackgroundcolor white\r\n",
       "skinparam shadowing false\r\n",
       "skinparam wrapWidth 300\r\n",
       "hide circle\r\n",
       "\r\n",
       "rec def \"F\" as E1  <<(T,blue) calculation def>> [[psysml:ea0c6e06-a87b-4616-91bc-ba79196303d0 ]] {\r\n",
       "portin \"p\" as E2  [[psysml:e1d329d3-cb1e-45c3-b1d5-2fcf771779ef ]] \r\n",
       "portin \"q\" as E3  [[psysml:b499ebef-2d53-43ba-b86a-de9084e46bb3 ]] \r\n",
       "portout \"noname\" as E4  [[psysml:2e56002b-31e4-43bf-ad2b-cc6ef1aac7ab ]] \r\n",
       "}\r\n",
       "\r\n",
       "@enduml\r\n",
       "\n",
       "PlantUML version 1.2020.13(Sat Jun 13 12:26:38 UTC 2020)\n",
       "(EPL source distribution)\n",
       "Java Runtime: OpenJDK Runtime Environment\n",
       "JVM: OpenJDK 64-Bit Server VM\n",
       "Default Encoding: UTF-8\n",
       "Language: en\n",
       "Country: null\n",
       "--></g></svg>"
      ]
     },
     "execution_count": 41,
     "metadata": {},
     "output_type": "execute_result"
    }
   ],
   "source": [
    "%viz --style=\"DEFAULT\" --view=\"Action\" \"ParameterTest\""
   ]
  },
  {
   "cell_type": "code",
   "execution_count": 42,
   "id": "5592dfea",
   "metadata": {
    "execution": {
     "iopub.execute_input": "2021-06-30T09:18:22.914058Z",
     "iopub.status.busy": "2021-06-30T09:18:22.913587Z",
     "iopub.status.idle": "2021-06-30T09:18:22.974749Z",
     "shell.execute_reply": "2021-06-30T09:18:22.973023Z"
    }
   },
   "outputs": [
    {
     "data": {
      "image/svg+xml": [
       "<?xml version=\"1.0\" encoding=\"UTF-8\" standalone=\"no\"?><svg xmlns=\"http://www.w3.org/2000/svg\" xmlns:xlink=\"http://www.w3.org/1999/xlink\" contentScriptType=\"application/ecmascript\" contentStyleType=\"text/css\" height=\"280px\" preserveAspectRatio=\"none\" style=\"width:710px;height:280px;\" version=\"1.1\" viewBox=\"0 0 710 280\" width=\"710px\" zoomAndPan=\"magnify\"><defs/><g><!--MD5=[fbc87193dbaf4d95561dea2c320d4a47]\n",
       "cluster E1--><a href=\"psysml:adbc474a-2784-4828-be47-026fefc14932\" target=\"_top\" title=\"psysml:adbc474a-2784-4828-be47-026fefc14932\" xlink:actuate=\"onRequest\" xlink:href=\"psysml:adbc474a-2784-4828-be47-026fefc14932\" xlink:show=\"new\" xlink:title=\"psysml:adbc474a-2784-4828-be47-026fefc14932\" xlink:type=\"simple\"><polygon fill=\"#FFFFFF\" points=\"16,6,139,6,146,28.2969,688,28.2969,688,268,16,268,16,6\" style=\"stroke: #000000; stroke-width: 1.5;\"/><line style=\"stroke: #000000; stroke-width: 1.5;\" x1=\"16\" x2=\"146\" y1=\"28.2969\" y2=\"28.2969\"/><text fill=\"#000000\" font-family=\"sans-serif\" font-size=\"14\" font-weight=\"bold\" lengthAdjust=\"spacingAndGlyphs\" textLength=\"117\" x=\"20\" y=\"20.9951\">ParameterTest</text></a><!--MD5=[b4997ac47864f28c2f74865a473b2911]\n",
       "class E2--><a href=\"psysml:fa211d39-e6da-4efb-a07a-68e935dd1093\" target=\"_top\" title=\"psysml:fa211d39-e6da-4efb-a07a-68e935dd1093\" xlink:actuate=\"onRequest\" xlink:href=\"psysml:fa211d39-e6da-4efb-a07a-68e935dd1093\" xlink:show=\"new\" xlink:title=\"psysml:fa211d39-e6da-4efb-a07a-68e935dd1093\" xlink:type=\"simple\"><rect fill=\"#FFFFFF\" height=\"88.3516\" id=\"E2\" style=\"stroke: #383838; stroke-width: 1.5;\" width=\"95\" x=\"498.5\" y=\"164\"/><text fill=\"#000000\" font-family=\"sans-serif\" font-size=\"12\" font-style=\"italic\" lengthAdjust=\"spacingAndGlyphs\" textLength=\"93\" x=\"499.5\" y=\"180.1387\">«attribute def»</text><text fill=\"#000000\" font-family=\"sans-serif\" font-size=\"12\" lengthAdjust=\"spacingAndGlyphs\" textLength=\"8\" x=\"542\" y=\"194.1074\">A</text><line style=\"stroke: #383838; stroke-width: 1.5;\" x1=\"499.5\" x2=\"592.5\" y1=\"201.9375\" y2=\"201.9375\"/><text fill=\"#000000\" font-family=\"sans-serif\" font-size=\"11\" lengthAdjust=\"spacingAndGlyphs\" textLength=\"48\" x=\"504.5\" y=\"232.9526\">x: String</text><text fill=\"#000000\" font-family=\"sans-serif\" font-size=\"11\" lengthAdjust=\"spacingAndGlyphs\" textLength=\"21\" x=\"504.5\" y=\"245.7573\">y: A</text><line style=\"stroke: #383838; stroke-width: 1.0;\" x1=\"499.5\" x2=\"518.5\" y1=\"216.3398\" y2=\"216.3398\"/><text fill=\"#000000\" font-family=\"sans-serif\" font-size=\"11\" lengthAdjust=\"spacingAndGlyphs\" textLength=\"55\" x=\"518.5\" y=\"219.6479\">attributes</text><line style=\"stroke: #383838; stroke-width: 1.0;\" x1=\"573.5\" x2=\"592.5\" y1=\"216.3398\" y2=\"216.3398\"/></a><!--MD5=[09b614a08d8cba4a07c9adeb5e0fee81]\n",
       "class E3--><a href=\"psysml:665f7084-89dd-4cc9-a479-f70e09a77220\" target=\"_top\" title=\"psysml:665f7084-89dd-4cc9-a479-f70e09a77220\" xlink:actuate=\"onRequest\" xlink:href=\"psysml:665f7084-89dd-4cc9-a479-f70e09a77220\" xlink:show=\"new\" xlink:title=\"psysml:665f7084-89dd-4cc9-a479-f70e09a77220\" xlink:type=\"simple\"><rect fill=\"#FFFFFF\" height=\"45.9375\" id=\"E3\" rx=\"10\" ry=\"10\" style=\"stroke: #383838; stroke-width: 1.5;\" width=\"71\" x=\"600.5\" y=\"41\"/><text fill=\"#000000\" font-family=\"sans-serif\" font-size=\"12\" font-style=\"italic\" lengthAdjust=\"spacingAndGlyphs\" textLength=\"69\" x=\"601.5\" y=\"57.1387\">«attribute»</text><text fill=\"#000000\" font-family=\"sans-serif\" font-size=\"12\" lengthAdjust=\"spacingAndGlyphs\" textLength=\"24\" x=\"624\" y=\"71.1074\">a: A</text><line style=\"stroke: #383838; stroke-width: 1.5;\" x1=\"601.5\" x2=\"670.5\" y1=\"78.9375\" y2=\"78.9375\"/></a><!--MD5=[ebbe1d658d1005bcc118a6aa81145e00]\n",
       "class E4--><a href=\"psysml:ea0c6e06-a87b-4616-91bc-ba79196303d0\" target=\"_top\" title=\"psysml:ea0c6e06-a87b-4616-91bc-ba79196303d0\" xlink:actuate=\"onRequest\" xlink:href=\"psysml:ea0c6e06-a87b-4616-91bc-ba79196303d0\" xlink:show=\"new\" xlink:title=\"psysml:ea0c6e06-a87b-4616-91bc-ba79196303d0\" xlink:type=\"simple\"><rect fill=\"#FFFFFF\" height=\"45.9375\" id=\"E4\" style=\"stroke: #383838; stroke-width: 1.5;\" width=\"108\" x=\"457\" y=\"41\"/><text fill=\"#000000\" font-family=\"sans-serif\" font-size=\"12\" font-style=\"italic\" lengthAdjust=\"spacingAndGlyphs\" textLength=\"106\" x=\"458\" y=\"57.1387\">«calculation def»</text><text fill=\"#000000\" font-family=\"sans-serif\" font-size=\"12\" lengthAdjust=\"spacingAndGlyphs\" textLength=\"7\" x=\"507.5\" y=\"71.1074\">F</text><line style=\"stroke: #383838; stroke-width: 1.5;\" x1=\"458\" x2=\"564\" y1=\"78.9375\" y2=\"78.9375\"/></a><!--MD5=[270fce915f116d4de14055a7c1d9a0f3]\n",
       "class E5--><a href=\"psysml:1ebb82ef-cdf5-4836-9887-d34bbc134ce1\" target=\"_top\" title=\"psysml:1ebb82ef-cdf5-4836-9887-d34bbc134ce1\" xlink:actuate=\"onRequest\" xlink:href=\"psysml:1ebb82ef-cdf5-4836-9887-d34bbc134ce1\" xlink:show=\"new\" xlink:title=\"psysml:1ebb82ef-cdf5-4836-9887-d34bbc134ce1\" xlink:type=\"simple\"><rect fill=\"#FFFFFF\" height=\"45.9375\" id=\"E5\" rx=\"10\" ry=\"10\" style=\"stroke: #383838; stroke-width: 1.5;\" width=\"71\" x=\"350.5\" y=\"41\"/><text fill=\"#000000\" font-family=\"sans-serif\" font-size=\"12\" font-style=\"italic\" lengthAdjust=\"spacingAndGlyphs\" textLength=\"69\" x=\"351.5\" y=\"57.1387\">«attribute»</text><text fill=\"#000000\" font-family=\"sans-serif\" font-size=\"12\" lengthAdjust=\"spacingAndGlyphs\" textLength=\"4\" x=\"384\" y=\"71.1074\">f</text><line style=\"stroke: #383838; stroke-width: 1.5;\" x1=\"351.5\" x2=\"420.5\" y1=\"78.9375\" y2=\"78.9375\"/></a><!--MD5=[60a26617385b1d2d0262a64233df1f8d]\n",
       "class E6--><a href=\"psysml:22e07e99-e7e6-486c-b8ca-f79edb8ad4e8\" target=\"_top\" title=\"psysml:22e07e99-e7e6-486c-b8ca-f79edb8ad4e8\" xlink:actuate=\"onRequest\" xlink:href=\"psysml:22e07e99-e7e6-486c-b8ca-f79edb8ad4e8\" xlink:show=\"new\" xlink:title=\"psysml:22e07e99-e7e6-486c-b8ca-f79edb8ad4e8\" xlink:type=\"simple\"><rect fill=\"#FFFFFF\" height=\"45.9375\" id=\"E6\" rx=\"10\" ry=\"10\" style=\"stroke: #383838; stroke-width: 1.5;\" width=\"71\" x=\"244.5\" y=\"41\"/><text fill=\"#000000\" font-family=\"sans-serif\" font-size=\"12\" font-style=\"italic\" lengthAdjust=\"spacingAndGlyphs\" textLength=\"69\" x=\"245.5\" y=\"57.1387\">«attribute»</text><text fill=\"#000000\" font-family=\"sans-serif\" font-size=\"12\" lengthAdjust=\"spacingAndGlyphs\" textLength=\"8\" x=\"276\" y=\"71.1074\">g</text><line style=\"stroke: #383838; stroke-width: 1.5;\" x1=\"245.5\" x2=\"314.5\" y1=\"78.9375\" y2=\"78.9375\"/></a><!--MD5=[2156ba9850f5573cc1fc38a6a4b2f02b]\n",
       "class E7--><a href=\"psysml:a8be3d15-ac76-451a-a4cf-87ef8e02e637\" target=\"_top\" title=\"psysml:a8be3d15-ac76-451a-a4cf-87ef8e02e637\" xlink:actuate=\"onRequest\" xlink:href=\"psysml:a8be3d15-ac76-451a-a4cf-87ef8e02e637\" xlink:show=\"new\" xlink:title=\"psysml:a8be3d15-ac76-451a-a4cf-87ef8e02e637\" xlink:type=\"simple\"><rect fill=\"#FFFFFF\" height=\"45.9375\" id=\"E7\" rx=\"10\" ry=\"10\" style=\"stroke: #383838; stroke-width: 1.5;\" width=\"71\" x=\"138.5\" y=\"41\"/><text fill=\"#000000\" font-family=\"sans-serif\" font-size=\"12\" font-style=\"italic\" lengthAdjust=\"spacingAndGlyphs\" textLength=\"69\" x=\"139.5\" y=\"57.1387\">«attribute»</text><text fill=\"#000000\" font-family=\"sans-serif\" font-size=\"12\" lengthAdjust=\"spacingAndGlyphs\" textLength=\"8\" x=\"170\" y=\"71.1074\">b</text><line style=\"stroke: #383838; stroke-width: 1.5;\" x1=\"139.5\" x2=\"208.5\" y1=\"78.9375\" y2=\"78.9375\"/></a><!--MD5=[b9389687b975829384b498ac4b7476b2]\n",
       "class E8--><a href=\"psysml:88e99412-8df3-4a94-a568-1984bea0c190\" target=\"_top\" title=\"psysml:88e99412-8df3-4a94-a568-1984bea0c190\" xlink:actuate=\"onRequest\" xlink:href=\"psysml:88e99412-8df3-4a94-a568-1984bea0c190\" xlink:show=\"new\" xlink:title=\"psysml:88e99412-8df3-4a94-a568-1984bea0c190\" xlink:type=\"simple\"><rect fill=\"#FFFFFF\" height=\"45.9375\" id=\"E8\" rx=\"10\" ry=\"10\" style=\"stroke: #383838; stroke-width: 1.5;\" width=\"71\" x=\"32.5\" y=\"41\"/><text fill=\"#000000\" font-family=\"sans-serif\" font-size=\"12\" font-style=\"italic\" lengthAdjust=\"spacingAndGlyphs\" textLength=\"69\" x=\"33.5\" y=\"57.1387\">«attribute»</text><text fill=\"#000000\" font-family=\"sans-serif\" font-size=\"12\" lengthAdjust=\"spacingAndGlyphs\" textLength=\"7\" x=\"64.5\" y=\"71.1074\">c</text><line style=\"stroke: #383838; stroke-width: 1.5;\" x1=\"33.5\" x2=\"102.5\" y1=\"78.9375\" y2=\"78.9375\"/></a><!--MD5=[05d275557350bfb9b23a4ef7222b4c39]\n",
       "link E3 to E2--><a href=\"psysml:47946f32-7338-4adb-a6af-ffcb2b2265dd\" target=\"_top\" title=\"psysml:47946f32-7338-4adb-a6af-ffcb2b2265dd\" xlink:actuate=\"onRequest\" xlink:href=\"psysml:47946f32-7338-4adb-a6af-ffcb2b2265dd\" xlink:show=\"new\" xlink:title=\"psysml:47946f32-7338-4adb-a6af-ffcb2b2265dd\" xlink:type=\"simple\"><path d=\"M621.94,87.19 C611.77,103.23 597.51,125.73 584.09,146.9 \" fill=\"none\" id=\"E3-&gt;E2\" style=\"stroke: #383838; stroke-width: 1.0;\"/><polygon fill=\"#FFFFFF\" points=\"573.37,163.82,577.6195,144.0225,589.448,151.5115,573.37,163.82\" style=\"stroke: #383838; stroke-width: 1.0;\"/><ellipse cx=\"582.3584\" cy=\"140.2764\" fill=\"#383838\" rx=\"2\" ry=\"2\" style=\"stroke: #383838; stroke-width: 1.0;\"/><ellipse cx=\"590.8073\" cy=\"145.6258\" fill=\"#383838\" rx=\"2\" ry=\"2\" style=\"stroke: #383838; stroke-width: 1.0;\"/></a><!--MD5=[ddeed8deb2209213b62e6cfabaa108b2]\n",
       "reverse link E4 to E2--><a href=\"psysml:e1d329d3-cb1e-45c3-b1d5-2fcf771779ef\" target=\"_top\" title=\"psysml:e1d329d3-cb1e-45c3-b1d5-2fcf771779ef\" xlink:actuate=\"onRequest\" xlink:href=\"psysml:e1d329d3-cb1e-45c3-b1d5-2fcf771779ef\" xlink:show=\"new\" xlink:title=\"psysml:e1d329d3-cb1e-45c3-b1d5-2fcf771779ef\" xlink:type=\"simple\"><path d=\"M519.62,99.96 C524.37,119.25 530.31,143.36 535.36,163.82 \" fill=\"none\" id=\"E4&lt;-E2\" style=\"stroke: #383838; stroke-width: 1.0;\"/><polygon fill=\"#FFFFFF\" points=\"516.47,87.19,514.0229,93.9732,519.3432,98.841,521.7903,92.0577,516.47,87.19\" style=\"stroke: #383838; stroke-width: 1.0;\"/><text fill=\"#000000\" font-family=\"sans-serif\" font-size=\"13\" lengthAdjust=\"spacingAndGlyphs\" textLength=\"8\" x=\"528\" y=\"130.0669\">p</text></a><!--MD5=[1ad850bbfdc98fbcee5c12fdb72d01c1]\n",
       "@startuml\r\n",
       "skinparam monochrome true\r\n",
       "skinparam classbackgroundcolor white\r\n",
       "skinparam shadowing false\r\n",
       "skinparam wrapWidth 300\r\n",
       "hide circle\r\n",
       "\r\n",
       "package \"ParameterTest\" as E1  [[psysml:adbc474a-2784-4828-be47-026fefc14932 ]]  {\r\n",
       "comp def \"A\" as E2  <<(T,blue) attribute def>> [[psysml:fa211d39-e6da-4efb-a07a-68e935dd1093 ]] {\r\n",
       "- - attributes - -\r\n",
       "x: String\r\n",
       "y: A\r\n",
       "}\r\n",
       "comp usage \"a: A\" as E3  <<(T,blue) attribute>> [[psysml:665f7084-89dd-4cc9-a479-f70e09a77220 ]] {\r\n",
       "}\r\n",
       "comp def \"F\" as E4  <<(T,blue) calculation def>> [[psysml:ea0c6e06-a87b-4616-91bc-ba79196303d0 ]] {\r\n",
       "}\r\n",
       "comp usage \"f\" as E5  <<(T,blue) attribute>> [[psysml:1ebb82ef-cdf5-4836-9887-d34bbc134ce1 ]] {\r\n",
       "}\r\n",
       "comp usage \"g\" as E6  <<(T,blue) attribute>> [[psysml:22e07e99-e7e6-486c-b8ca-f79edb8ad4e8 ]] {\r\n",
       "}\r\n",
       "comp usage \"b\" as E7  <<(T,blue) attribute>> [[psysml:a8be3d15-ac76-451a-a4cf-87ef8e02e637 ]] {\r\n",
       "}\r\n",
       "comp usage \"c\" as E8  <<(T,blue) attribute>> [[psysml:88e99412-8df3-4a94-a568-1984bea0c190 ]] {\r\n",
       "}\r\n",
       "E3 - -:|> E2 [[psysml:47946f32-7338-4adb-a6af-ffcb2b2265dd ]] \r\n",
       "E4 o- - E2 [[psysml:e1d329d3-cb1e-45c3-b1d5-2fcf771779ef ]] : p\r\n",
       "}\r\n",
       "@enduml\r\n",
       "\n",
       "PlantUML version 1.2020.13(Sat Jun 13 12:26:38 UTC 2020)\n",
       "(EPL source distribution)\n",
       "Java Runtime: OpenJDK Runtime Environment\n",
       "JVM: OpenJDK 64-Bit Server VM\n",
       "Default Encoding: UTF-8\n",
       "Language: en\n",
       "Country: null\n",
       "--></g></svg>"
      ]
     },
     "execution_count": 42,
     "metadata": {},
     "output_type": "execute_result"
    }
   ],
   "source": [
    "%viz --style=\"DEFAULT\" --view=\"Sequence\" \"ParameterTest\""
   ]
  },
  {
   "cell_type": "code",
   "execution_count": 43,
   "id": "d32c8e5e",
   "metadata": {
    "execution": {
     "iopub.execute_input": "2021-06-30T09:18:23.024543Z",
     "iopub.status.busy": "2021-06-30T09:18:23.023973Z",
     "iopub.status.idle": "2021-06-30T09:18:23.107332Z",
     "shell.execute_reply": "2021-06-30T09:18:23.105363Z"
    }
   },
   "outputs": [
    {
     "data": {
      "image/svg+xml": [
       "<?xml version=\"1.0\" encoding=\"UTF-8\" standalone=\"no\"?><svg xmlns=\"http://www.w3.org/2000/svg\" xmlns:xlink=\"http://www.w3.org/1999/xlink\" contentScriptType=\"application/ecmascript\" contentStyleType=\"text/css\" height=\"403px\" preserveAspectRatio=\"none\" style=\"width:740px;height:403px;\" version=\"1.1\" viewBox=\"0 0 740 403\" width=\"740px\" zoomAndPan=\"magnify\"><defs/><g><!--MD5=[fbc87193dbaf4d95561dea2c320d4a47]\n",
       "cluster E1--><a href=\"psysml:adbc474a-2784-4828-be47-026fefc14932\" target=\"_top\" title=\"psysml:adbc474a-2784-4828-be47-026fefc14932\" xlink:actuate=\"onRequest\" xlink:href=\"psysml:adbc474a-2784-4828-be47-026fefc14932\" xlink:show=\"new\" xlink:title=\"psysml:adbc474a-2784-4828-be47-026fefc14932\" xlink:type=\"simple\"><polygon fill=\"#FFFFFF\" points=\"16,6,139,6,146,28.2969,718,28.2969,718,391.72,16,391.72,16,6\" style=\"stroke: #000000; stroke-width: 1.5;\"/><line style=\"stroke: #000000; stroke-width: 1.5;\" x1=\"16\" x2=\"146\" y1=\"28.2969\" y2=\"28.2969\"/><text fill=\"#000000\" font-family=\"sans-serif\" font-size=\"14\" font-weight=\"bold\" lengthAdjust=\"spacingAndGlyphs\" textLength=\"117\" x=\"20\" y=\"20.9951\">ParameterTest</text></a><!--MD5=[f6df4d0ebaf0b5dfb2ced0ae5af7c670]\n",
       "cluster E4--><a href=\"psysml:ea0c6e06-a87b-4616-91bc-ba79196303d0\" target=\"_top\" title=\"psysml:ea0c6e06-a87b-4616-91bc-ba79196303d0\" xlink:actuate=\"onRequest\" xlink:href=\"psysml:ea0c6e06-a87b-4616-91bc-ba79196303d0\" xlink:show=\"new\" xlink:title=\"psysml:ea0c6e06-a87b-4616-91bc-ba79196303d0\" xlink:type=\"simple\"><rect fill=\"#FFFFFF\" height=\"297.72\" id=\"E4\" style=\"stroke: #383838; stroke-width: 1.5;\" width=\"148\" x=\"554\" y=\"64\"/><rect fill=\"#F8F8F8\" height=\"37.9375\" style=\"stroke: #383838; stroke-width: 1.5;\" width=\"148\" x=\"554\" y=\"64\"/><text fill=\"#000000\" font-family=\"sans-serif\" font-size=\"12\" font-style=\"italic\" lengthAdjust=\"spacingAndGlyphs\" textLength=\"106\" x=\"575\" y=\"80.1387\">«calculation def»</text><text fill=\"#000000\" font-family=\"sans-serif\" font-size=\"12\" lengthAdjust=\"spacingAndGlyphs\" textLength=\"7\" x=\"624.5\" y=\"94.1074\">F</text></a><!--MD5=[b4997ac47864f28c2f74865a473b2911]\n",
       "class E2--><a href=\"psysml:fa211d39-e6da-4efb-a07a-68e935dd1093\" target=\"_top\" title=\"psysml:fa211d39-e6da-4efb-a07a-68e935dd1093\" xlink:actuate=\"onRequest\" xlink:href=\"psysml:fa211d39-e6da-4efb-a07a-68e935dd1093\" xlink:show=\"new\" xlink:title=\"psysml:fa211d39-e6da-4efb-a07a-68e935dd1093\" xlink:type=\"simple\"><rect fill=\"#FFFFFF\" height=\"88.3516\" id=\"E2\" style=\"stroke: #383838; stroke-width: 1.5;\" width=\"95\" x=\"422.5\" y=\"147\"/><text fill=\"#000000\" font-family=\"sans-serif\" font-size=\"12\" font-style=\"italic\" lengthAdjust=\"spacingAndGlyphs\" textLength=\"93\" x=\"423.5\" y=\"163.1387\">«attribute def»</text><text fill=\"#000000\" font-family=\"sans-serif\" font-size=\"12\" lengthAdjust=\"spacingAndGlyphs\" textLength=\"8\" x=\"466\" y=\"177.1074\">A</text><line style=\"stroke: #383838; stroke-width: 1.5;\" x1=\"423.5\" x2=\"516.5\" y1=\"184.9375\" y2=\"184.9375\"/><text fill=\"#000000\" font-family=\"sans-serif\" font-size=\"11\" lengthAdjust=\"spacingAndGlyphs\" textLength=\"48\" x=\"428.5\" y=\"215.9526\">x: String</text><text fill=\"#000000\" font-family=\"sans-serif\" font-size=\"11\" lengthAdjust=\"spacingAndGlyphs\" textLength=\"21\" x=\"428.5\" y=\"228.7573\">y: A</text><line style=\"stroke: #383838; stroke-width: 1.0;\" x1=\"423.5\" x2=\"442.5\" y1=\"199.3398\" y2=\"199.3398\"/><text fill=\"#000000\" font-family=\"sans-serif\" font-size=\"11\" lengthAdjust=\"spacingAndGlyphs\" textLength=\"55\" x=\"442.5\" y=\"202.6479\">attributes</text><line style=\"stroke: #383838; stroke-width: 1.0;\" x1=\"497.5\" x2=\"516.5\" y1=\"199.3398\" y2=\"199.3398\"/></a><!--MD5=[09b614a08d8cba4a07c9adeb5e0fee81]\n",
       "class E3--><a href=\"psysml:665f7084-89dd-4cc9-a479-f70e09a77220\" target=\"_top\" title=\"psysml:665f7084-89dd-4cc9-a479-f70e09a77220\" xlink:actuate=\"onRequest\" xlink:href=\"psysml:665f7084-89dd-4cc9-a479-f70e09a77220\" xlink:show=\"new\" xlink:title=\"psysml:665f7084-89dd-4cc9-a479-f70e09a77220\" xlink:type=\"simple\"><rect fill=\"#FFFFFF\" height=\"45.9375\" id=\"E3\" rx=\"10\" ry=\"10\" style=\"stroke: #383838; stroke-width: 1.5;\" width=\"71\" x=\"456.5\" y=\"41\"/><text fill=\"#000000\" font-family=\"sans-serif\" font-size=\"12\" font-style=\"italic\" lengthAdjust=\"spacingAndGlyphs\" textLength=\"69\" x=\"457.5\" y=\"57.1387\">«attribute»</text><text fill=\"#000000\" font-family=\"sans-serif\" font-size=\"12\" lengthAdjust=\"spacingAndGlyphs\" textLength=\"24\" x=\"480\" y=\"71.1074\">a: A</text><line style=\"stroke: #383838; stroke-width: 1.5;\" x1=\"457.5\" x2=\"526.5\" y1=\"78.9375\" y2=\"78.9375\"/></a><!--MD5=[b9389687b975829384b498ac4b7476b2]\n",
       "class E8--><a href=\"psysml:1ebb82ef-cdf5-4836-9887-d34bbc134ce1\" target=\"_top\" title=\"psysml:1ebb82ef-cdf5-4836-9887-d34bbc134ce1\" xlink:actuate=\"onRequest\" xlink:href=\"psysml:1ebb82ef-cdf5-4836-9887-d34bbc134ce1\" xlink:show=\"new\" xlink:title=\"psysml:1ebb82ef-cdf5-4836-9887-d34bbc134ce1\" xlink:type=\"simple\"><rect fill=\"#FFFFFF\" height=\"45.9375\" id=\"E8\" rx=\"10\" ry=\"10\" style=\"stroke: #383838; stroke-width: 1.5;\" width=\"71\" x=\"350.5\" y=\"41\"/><text fill=\"#000000\" font-family=\"sans-serif\" font-size=\"12\" font-style=\"italic\" lengthAdjust=\"spacingAndGlyphs\" textLength=\"69\" x=\"351.5\" y=\"57.1387\">«attribute»</text><text fill=\"#000000\" font-family=\"sans-serif\" font-size=\"12\" lengthAdjust=\"spacingAndGlyphs\" textLength=\"4\" x=\"384\" y=\"71.1074\">f</text><line style=\"stroke: #383838; stroke-width: 1.5;\" x1=\"351.5\" x2=\"420.5\" y1=\"78.9375\" y2=\"78.9375\"/></a><!--MD5=[fd4143e9d270a159db93a4ea2a975926]\n",
       "class E9--><a href=\"psysml:22e07e99-e7e6-486c-b8ca-f79edb8ad4e8\" target=\"_top\" title=\"psysml:22e07e99-e7e6-486c-b8ca-f79edb8ad4e8\" xlink:actuate=\"onRequest\" xlink:href=\"psysml:22e07e99-e7e6-486c-b8ca-f79edb8ad4e8\" xlink:show=\"new\" xlink:title=\"psysml:22e07e99-e7e6-486c-b8ca-f79edb8ad4e8\" xlink:type=\"simple\"><rect fill=\"#FFFFFF\" height=\"45.9375\" id=\"E9\" rx=\"10\" ry=\"10\" style=\"stroke: #383838; stroke-width: 1.5;\" width=\"71\" x=\"244.5\" y=\"41\"/><text fill=\"#000000\" font-family=\"sans-serif\" font-size=\"12\" font-style=\"italic\" lengthAdjust=\"spacingAndGlyphs\" textLength=\"69\" x=\"245.5\" y=\"57.1387\">«attribute»</text><text fill=\"#000000\" font-family=\"sans-serif\" font-size=\"12\" lengthAdjust=\"spacingAndGlyphs\" textLength=\"8\" x=\"276\" y=\"71.1074\">g</text><line style=\"stroke: #383838; stroke-width: 1.5;\" x1=\"245.5\" x2=\"314.5\" y1=\"78.9375\" y2=\"78.9375\"/></a><!--MD5=[96f4274e9e20536e775497830990834d]\n",
       "class E10--><a href=\"psysml:a8be3d15-ac76-451a-a4cf-87ef8e02e637\" target=\"_top\" title=\"psysml:a8be3d15-ac76-451a-a4cf-87ef8e02e637\" xlink:actuate=\"onRequest\" xlink:href=\"psysml:a8be3d15-ac76-451a-a4cf-87ef8e02e637\" xlink:show=\"new\" xlink:title=\"psysml:a8be3d15-ac76-451a-a4cf-87ef8e02e637\" xlink:type=\"simple\"><rect fill=\"#FFFFFF\" height=\"45.9375\" id=\"E10\" rx=\"10\" ry=\"10\" style=\"stroke: #383838; stroke-width: 1.5;\" width=\"71\" x=\"138.5\" y=\"41\"/><text fill=\"#000000\" font-family=\"sans-serif\" font-size=\"12\" font-style=\"italic\" lengthAdjust=\"spacingAndGlyphs\" textLength=\"69\" x=\"139.5\" y=\"57.1387\">«attribute»</text><text fill=\"#000000\" font-family=\"sans-serif\" font-size=\"12\" lengthAdjust=\"spacingAndGlyphs\" textLength=\"8\" x=\"170\" y=\"71.1074\">b</text><line style=\"stroke: #383838; stroke-width: 1.5;\" x1=\"139.5\" x2=\"208.5\" y1=\"78.9375\" y2=\"78.9375\"/></a><!--MD5=[1dd1bfd58a279cf63c5f349dbc8fc6a1]\n",
       "class E11--><a href=\"psysml:88e99412-8df3-4a94-a568-1984bea0c190\" target=\"_top\" title=\"psysml:88e99412-8df3-4a94-a568-1984bea0c190\" xlink:actuate=\"onRequest\" xlink:href=\"psysml:88e99412-8df3-4a94-a568-1984bea0c190\" xlink:show=\"new\" xlink:title=\"psysml:88e99412-8df3-4a94-a568-1984bea0c190\" xlink:type=\"simple\"><rect fill=\"#FFFFFF\" height=\"45.9375\" id=\"E11\" rx=\"10\" ry=\"10\" style=\"stroke: #383838; stroke-width: 1.5;\" width=\"71\" x=\"32.5\" y=\"41\"/><text fill=\"#000000\" font-family=\"sans-serif\" font-size=\"12\" font-style=\"italic\" lengthAdjust=\"spacingAndGlyphs\" textLength=\"69\" x=\"33.5\" y=\"57.1387\">«attribute»</text><text fill=\"#000000\" font-family=\"sans-serif\" font-size=\"12\" lengthAdjust=\"spacingAndGlyphs\" textLength=\"7\" x=\"64.5\" y=\"71.1074\">c</text><line style=\"stroke: #383838; stroke-width: 1.5;\" x1=\"33.5\" x2=\"102.5\" y1=\"78.9375\" y2=\"78.9375\"/></a><text fill=\"#000000\" font-family=\"sans-serif\" font-size=\"14\" lengthAdjust=\"spacingAndGlyphs\" textLength=\"9\" x=\"567.5\" y=\"42.6982\">p</text><rect fill=\"#383838\" height=\"12\" style=\"stroke: #F8F8F8; stroke-width: 1.5;\" width=\"12\" x=\"566\" y=\"58\"/><text fill=\"#000000\" font-family=\"sans-serif\" font-size=\"14\" lengthAdjust=\"spacingAndGlyphs\" textLength=\"9\" x=\"614.5\" y=\"42.6982\">q</text><rect fill=\"#383838\" height=\"12\" style=\"stroke: #F8F8F8; stroke-width: 1.5;\" width=\"12\" x=\"613\" y=\"58\"/><text fill=\"#000000\" font-family=\"sans-serif\" font-size=\"14\" lengthAdjust=\"spacingAndGlyphs\" textLength=\"57\" x=\"590.5\" y=\"380.7151\">noname</text><rect fill=\"#383838\" height=\"12\" style=\"stroke: #F8F8F8; stroke-width: 1.5;\" width=\"12\" x=\"613\" y=\"355.72\"/><!--MD5=[05d275557350bfb9b23a4ef7222b4c39]\n",
       "link E3 to E2--><a href=\"psysml:47946f32-7338-4adb-a6af-ffcb2b2265dd\" target=\"_top\" title=\"psysml:47946f32-7338-4adb-a6af-ffcb2b2265dd\" xlink:actuate=\"onRequest\" xlink:href=\"psysml:47946f32-7338-4adb-a6af-ffcb2b2265dd\" xlink:show=\"new\" xlink:title=\"psysml:47946f32-7338-4adb-a6af-ffcb2b2265dd\" xlink:type=\"simple\"><path d=\"M488.12,87.06 C486.14,98.3 483.62,112.6 481.1,126.95 \" fill=\"none\" id=\"E3-&gt;E2\" style=\"stroke: #383838; stroke-width: 1.0;\"/><polygon fill=\"#FFFFFF\" points=\"477.58,146.93,473.9835,127.0035,487.7711,129.4331,477.58,146.93\" style=\"stroke: #383838; stroke-width: 1.0;\"/><ellipse cx=\"476.9423\" cy=\"121.7371\" fill=\"#383838\" rx=\"2\" ry=\"2\" style=\"stroke: #383838; stroke-width: 1.0;\"/><ellipse cx=\"486.7906\" cy=\"123.4725\" fill=\"#383838\" rx=\"2\" ry=\"2\" style=\"stroke: #383838; stroke-width: 1.0;\"/></a><!--MD5=[a9cac777cfdeb239e6cc59e4bfa2ff4c]\n",
       "@startuml\r\n",
       "skinparam monochrome true\r\n",
       "skinparam classbackgroundcolor white\r\n",
       "skinparam shadowing false\r\n",
       "skinparam wrapWidth 300\r\n",
       "hide circle\r\n",
       "\r\n",
       "package \"ParameterTest\" as E1  [[psysml:adbc474a-2784-4828-be47-026fefc14932 ]]  {\r\n",
       "comp def \"A\" as E2  <<(T,blue) attribute def>> [[psysml:fa211d39-e6da-4efb-a07a-68e935dd1093 ]] {\r\n",
       "- - attributes - -\r\n",
       "x: String\r\n",
       "y: A\r\n",
       "}\r\n",
       "comp usage \"a: A\" as E3  <<(T,blue) attribute>> [[psysml:665f7084-89dd-4cc9-a479-f70e09a77220 ]] {\r\n",
       "}\r\n",
       "rec def \"F\" as E4  <<(T,blue) calculation def>> [[psysml:ea0c6e06-a87b-4616-91bc-ba79196303d0 ]] {\r\n",
       "portin \"p\" as E5  [[psysml:e1d329d3-cb1e-45c3-b1d5-2fcf771779ef ]] \r\n",
       "portin \"q\" as E6  [[psysml:b499ebef-2d53-43ba-b86a-de9084e46bb3 ]] \r\n",
       "portout \"noname\" as E7  [[psysml:2e56002b-31e4-43bf-ad2b-cc6ef1aac7ab ]] \r\n",
       "}\r\n",
       "\r\n",
       "comp usage \"f\" as E8  <<(T,blue) attribute>> [[psysml:1ebb82ef-cdf5-4836-9887-d34bbc134ce1 ]] {\r\n",
       "}\r\n",
       "comp usage \"g\" as E9  <<(T,blue) attribute>> [[psysml:22e07e99-e7e6-486c-b8ca-f79edb8ad4e8 ]] {\r\n",
       "}\r\n",
       "comp usage \"b\" as E10  <<(T,blue) attribute>> [[psysml:a8be3d15-ac76-451a-a4cf-87ef8e02e637 ]] {\r\n",
       "}\r\n",
       "comp usage \"c\" as E11  <<(T,blue) attribute>> [[psysml:88e99412-8df3-4a94-a568-1984bea0c190 ]] {\r\n",
       "}\r\n",
       "E3 - -:|> E2 [[psysml:47946f32-7338-4adb-a6af-ffcb2b2265dd ]] \r\n",
       "}\r\n",
       "@enduml\r\n",
       "\n",
       "PlantUML version 1.2020.13(Sat Jun 13 12:26:38 UTC 2020)\n",
       "(EPL source distribution)\n",
       "Java Runtime: OpenJDK Runtime Environment\n",
       "JVM: OpenJDK 64-Bit Server VM\n",
       "Default Encoding: UTF-8\n",
       "Language: en\n",
       "Country: null\n",
       "--></g></svg>"
      ]
     },
     "execution_count": 43,
     "metadata": {},
     "output_type": "execute_result"
    }
   ],
   "source": [
    "%viz --style=\"DEFAULT\" --view=\"MIXED\" \"ParameterTest\""
   ]
  },
  {
   "cell_type": "code",
   "execution_count": 44,
   "id": "bf3e8049",
   "metadata": {
    "execution": {
     "iopub.execute_input": "2021-06-30T09:18:23.159227Z",
     "iopub.status.busy": "2021-06-30T09:18:23.158675Z",
     "iopub.status.idle": "2021-06-30T09:18:23.227891Z",
     "shell.execute_reply": "2021-06-30T09:18:23.227563Z"
    }
   },
   "outputs": [
    {
     "data": {
      "image/svg+xml": [
       "<?xml version=\"1.0\" encoding=\"UTF-8\" standalone=\"no\"?><svg xmlns=\"http://www.w3.org/2000/svg\" xmlns:xlink=\"http://www.w3.org/1999/xlink\" contentScriptType=\"application/ecmascript\" contentStyleType=\"text/css\" height=\"403px\" preserveAspectRatio=\"none\" style=\"width:740px;height:403px;\" version=\"1.1\" viewBox=\"0 0 740 403\" width=\"740px\" zoomAndPan=\"magnify\"><defs/><g><!--MD5=[fbc87193dbaf4d95561dea2c320d4a47]\n",
       "cluster E1--><a href=\"psysml:adbc474a-2784-4828-be47-026fefc14932\" target=\"_top\" title=\"psysml:adbc474a-2784-4828-be47-026fefc14932\" xlink:actuate=\"onRequest\" xlink:href=\"psysml:adbc474a-2784-4828-be47-026fefc14932\" xlink:show=\"new\" xlink:title=\"psysml:adbc474a-2784-4828-be47-026fefc14932\" xlink:type=\"simple\"><polygon fill=\"#FFFFFF\" points=\"16,6,139,6,146,28.2969,718,28.2969,718,391.72,16,391.72,16,6\" style=\"stroke: #000000; stroke-width: 1.5;\"/><line style=\"stroke: #000000; stroke-width: 1.5;\" x1=\"16\" x2=\"146\" y1=\"28.2969\" y2=\"28.2969\"/><text fill=\"#000000\" font-family=\"sans-serif\" font-size=\"14\" font-weight=\"bold\" lengthAdjust=\"spacingAndGlyphs\" textLength=\"117\" x=\"20\" y=\"20.9951\">ParameterTest</text></a><!--MD5=[f6df4d0ebaf0b5dfb2ced0ae5af7c670]\n",
       "cluster E4--><a href=\"psysml:ea0c6e06-a87b-4616-91bc-ba79196303d0\" target=\"_top\" title=\"psysml:ea0c6e06-a87b-4616-91bc-ba79196303d0\" xlink:actuate=\"onRequest\" xlink:href=\"psysml:ea0c6e06-a87b-4616-91bc-ba79196303d0\" xlink:show=\"new\" xlink:title=\"psysml:ea0c6e06-a87b-4616-91bc-ba79196303d0\" xlink:type=\"simple\"><rect fill=\"#FFFFFF\" height=\"297.72\" id=\"E4\" style=\"stroke: #383838; stroke-width: 1.5;\" width=\"148\" x=\"554\" y=\"64\"/><rect fill=\"#F8F8F8\" height=\"37.9375\" style=\"stroke: #383838; stroke-width: 1.5;\" width=\"148\" x=\"554\" y=\"64\"/><text fill=\"#000000\" font-family=\"sans-serif\" font-size=\"12\" font-style=\"italic\" lengthAdjust=\"spacingAndGlyphs\" textLength=\"106\" x=\"575\" y=\"80.1387\">«calculation def»</text><text fill=\"#000000\" font-family=\"sans-serif\" font-size=\"12\" lengthAdjust=\"spacingAndGlyphs\" textLength=\"7\" x=\"624.5\" y=\"94.1074\">F</text></a><!--MD5=[b4997ac47864f28c2f74865a473b2911]\n",
       "class E2--><a href=\"psysml:fa211d39-e6da-4efb-a07a-68e935dd1093\" target=\"_top\" title=\"psysml:fa211d39-e6da-4efb-a07a-68e935dd1093\" xlink:actuate=\"onRequest\" xlink:href=\"psysml:fa211d39-e6da-4efb-a07a-68e935dd1093\" xlink:show=\"new\" xlink:title=\"psysml:fa211d39-e6da-4efb-a07a-68e935dd1093\" xlink:type=\"simple\"><rect fill=\"#FFFFFF\" height=\"88.3516\" id=\"E2\" style=\"stroke: #383838; stroke-width: 1.5;\" width=\"95\" x=\"422.5\" y=\"147\"/><text fill=\"#000000\" font-family=\"sans-serif\" font-size=\"12\" font-style=\"italic\" lengthAdjust=\"spacingAndGlyphs\" textLength=\"93\" x=\"423.5\" y=\"163.1387\">«attribute def»</text><text fill=\"#000000\" font-family=\"sans-serif\" font-size=\"12\" lengthAdjust=\"spacingAndGlyphs\" textLength=\"8\" x=\"466\" y=\"177.1074\">A</text><line style=\"stroke: #383838; stroke-width: 1.5;\" x1=\"423.5\" x2=\"516.5\" y1=\"184.9375\" y2=\"184.9375\"/><text fill=\"#000000\" font-family=\"sans-serif\" font-size=\"11\" lengthAdjust=\"spacingAndGlyphs\" textLength=\"48\" x=\"428.5\" y=\"215.9526\">x: String</text><text fill=\"#000000\" font-family=\"sans-serif\" font-size=\"11\" lengthAdjust=\"spacingAndGlyphs\" textLength=\"21\" x=\"428.5\" y=\"228.7573\">y: A</text><line style=\"stroke: #383838; stroke-width: 1.0;\" x1=\"423.5\" x2=\"442.5\" y1=\"199.3398\" y2=\"199.3398\"/><text fill=\"#000000\" font-family=\"sans-serif\" font-size=\"11\" lengthAdjust=\"spacingAndGlyphs\" textLength=\"55\" x=\"442.5\" y=\"202.6479\">attributes</text><line style=\"stroke: #383838; stroke-width: 1.0;\" x1=\"497.5\" x2=\"516.5\" y1=\"199.3398\" y2=\"199.3398\"/></a><!--MD5=[09b614a08d8cba4a07c9adeb5e0fee81]\n",
       "class E3--><a href=\"psysml:665f7084-89dd-4cc9-a479-f70e09a77220\" target=\"_top\" title=\"psysml:665f7084-89dd-4cc9-a479-f70e09a77220\" xlink:actuate=\"onRequest\" xlink:href=\"psysml:665f7084-89dd-4cc9-a479-f70e09a77220\" xlink:show=\"new\" xlink:title=\"psysml:665f7084-89dd-4cc9-a479-f70e09a77220\" xlink:type=\"simple\"><rect fill=\"#FFFFFF\" height=\"45.9375\" id=\"E3\" rx=\"10\" ry=\"10\" style=\"stroke: #383838; stroke-width: 1.5;\" width=\"71\" x=\"456.5\" y=\"41\"/><text fill=\"#000000\" font-family=\"sans-serif\" font-size=\"12\" font-style=\"italic\" lengthAdjust=\"spacingAndGlyphs\" textLength=\"69\" x=\"457.5\" y=\"57.1387\">«attribute»</text><text fill=\"#000000\" font-family=\"sans-serif\" font-size=\"12\" lengthAdjust=\"spacingAndGlyphs\" textLength=\"24\" x=\"480\" y=\"71.1074\">a: A</text><line style=\"stroke: #383838; stroke-width: 1.5;\" x1=\"457.5\" x2=\"526.5\" y1=\"78.9375\" y2=\"78.9375\"/></a><!--MD5=[b9389687b975829384b498ac4b7476b2]\n",
       "class E8--><a href=\"psysml:1ebb82ef-cdf5-4836-9887-d34bbc134ce1\" target=\"_top\" title=\"psysml:1ebb82ef-cdf5-4836-9887-d34bbc134ce1\" xlink:actuate=\"onRequest\" xlink:href=\"psysml:1ebb82ef-cdf5-4836-9887-d34bbc134ce1\" xlink:show=\"new\" xlink:title=\"psysml:1ebb82ef-cdf5-4836-9887-d34bbc134ce1\" xlink:type=\"simple\"><rect fill=\"#FFFFFF\" height=\"45.9375\" id=\"E8\" rx=\"10\" ry=\"10\" style=\"stroke: #383838; stroke-width: 1.5;\" width=\"71\" x=\"350.5\" y=\"41\"/><text fill=\"#000000\" font-family=\"sans-serif\" font-size=\"12\" font-style=\"italic\" lengthAdjust=\"spacingAndGlyphs\" textLength=\"69\" x=\"351.5\" y=\"57.1387\">«attribute»</text><text fill=\"#000000\" font-family=\"sans-serif\" font-size=\"12\" lengthAdjust=\"spacingAndGlyphs\" textLength=\"4\" x=\"384\" y=\"71.1074\">f</text><line style=\"stroke: #383838; stroke-width: 1.5;\" x1=\"351.5\" x2=\"420.5\" y1=\"78.9375\" y2=\"78.9375\"/></a><!--MD5=[fd4143e9d270a159db93a4ea2a975926]\n",
       "class E9--><a href=\"psysml:22e07e99-e7e6-486c-b8ca-f79edb8ad4e8\" target=\"_top\" title=\"psysml:22e07e99-e7e6-486c-b8ca-f79edb8ad4e8\" xlink:actuate=\"onRequest\" xlink:href=\"psysml:22e07e99-e7e6-486c-b8ca-f79edb8ad4e8\" xlink:show=\"new\" xlink:title=\"psysml:22e07e99-e7e6-486c-b8ca-f79edb8ad4e8\" xlink:type=\"simple\"><rect fill=\"#FFFFFF\" height=\"45.9375\" id=\"E9\" rx=\"10\" ry=\"10\" style=\"stroke: #383838; stroke-width: 1.5;\" width=\"71\" x=\"244.5\" y=\"41\"/><text fill=\"#000000\" font-family=\"sans-serif\" font-size=\"12\" font-style=\"italic\" lengthAdjust=\"spacingAndGlyphs\" textLength=\"69\" x=\"245.5\" y=\"57.1387\">«attribute»</text><text fill=\"#000000\" font-family=\"sans-serif\" font-size=\"12\" lengthAdjust=\"spacingAndGlyphs\" textLength=\"8\" x=\"276\" y=\"71.1074\">g</text><line style=\"stroke: #383838; stroke-width: 1.5;\" x1=\"245.5\" x2=\"314.5\" y1=\"78.9375\" y2=\"78.9375\"/></a><!--MD5=[96f4274e9e20536e775497830990834d]\n",
       "class E10--><a href=\"psysml:a8be3d15-ac76-451a-a4cf-87ef8e02e637\" target=\"_top\" title=\"psysml:a8be3d15-ac76-451a-a4cf-87ef8e02e637\" xlink:actuate=\"onRequest\" xlink:href=\"psysml:a8be3d15-ac76-451a-a4cf-87ef8e02e637\" xlink:show=\"new\" xlink:title=\"psysml:a8be3d15-ac76-451a-a4cf-87ef8e02e637\" xlink:type=\"simple\"><rect fill=\"#FFFFFF\" height=\"45.9375\" id=\"E10\" rx=\"10\" ry=\"10\" style=\"stroke: #383838; stroke-width: 1.5;\" width=\"71\" x=\"138.5\" y=\"41\"/><text fill=\"#000000\" font-family=\"sans-serif\" font-size=\"12\" font-style=\"italic\" lengthAdjust=\"spacingAndGlyphs\" textLength=\"69\" x=\"139.5\" y=\"57.1387\">«attribute»</text><text fill=\"#000000\" font-family=\"sans-serif\" font-size=\"12\" lengthAdjust=\"spacingAndGlyphs\" textLength=\"8\" x=\"170\" y=\"71.1074\">b</text><line style=\"stroke: #383838; stroke-width: 1.5;\" x1=\"139.5\" x2=\"208.5\" y1=\"78.9375\" y2=\"78.9375\"/></a><!--MD5=[1dd1bfd58a279cf63c5f349dbc8fc6a1]\n",
       "class E11--><a href=\"psysml:88e99412-8df3-4a94-a568-1984bea0c190\" target=\"_top\" title=\"psysml:88e99412-8df3-4a94-a568-1984bea0c190\" xlink:actuate=\"onRequest\" xlink:href=\"psysml:88e99412-8df3-4a94-a568-1984bea0c190\" xlink:show=\"new\" xlink:title=\"psysml:88e99412-8df3-4a94-a568-1984bea0c190\" xlink:type=\"simple\"><rect fill=\"#FFFFFF\" height=\"45.9375\" id=\"E11\" rx=\"10\" ry=\"10\" style=\"stroke: #383838; stroke-width: 1.5;\" width=\"71\" x=\"32.5\" y=\"41\"/><text fill=\"#000000\" font-family=\"sans-serif\" font-size=\"12\" font-style=\"italic\" lengthAdjust=\"spacingAndGlyphs\" textLength=\"69\" x=\"33.5\" y=\"57.1387\">«attribute»</text><text fill=\"#000000\" font-family=\"sans-serif\" font-size=\"12\" lengthAdjust=\"spacingAndGlyphs\" textLength=\"7\" x=\"64.5\" y=\"71.1074\">c</text><line style=\"stroke: #383838; stroke-width: 1.5;\" x1=\"33.5\" x2=\"102.5\" y1=\"78.9375\" y2=\"78.9375\"/></a><text fill=\"#000000\" font-family=\"sans-serif\" font-size=\"14\" lengthAdjust=\"spacingAndGlyphs\" textLength=\"9\" x=\"567.5\" y=\"42.6982\">p</text><rect fill=\"#383838\" height=\"12\" style=\"stroke: #F8F8F8; stroke-width: 1.5;\" width=\"12\" x=\"566\" y=\"58\"/><text fill=\"#000000\" font-family=\"sans-serif\" font-size=\"14\" lengthAdjust=\"spacingAndGlyphs\" textLength=\"9\" x=\"614.5\" y=\"42.6982\">q</text><rect fill=\"#383838\" height=\"12\" style=\"stroke: #F8F8F8; stroke-width: 1.5;\" width=\"12\" x=\"613\" y=\"58\"/><text fill=\"#000000\" font-family=\"sans-serif\" font-size=\"14\" lengthAdjust=\"spacingAndGlyphs\" textLength=\"57\" x=\"590.5\" y=\"380.7151\">noname</text><rect fill=\"#383838\" height=\"12\" style=\"stroke: #F8F8F8; stroke-width: 1.5;\" width=\"12\" x=\"613\" y=\"355.72\"/><!--MD5=[05d275557350bfb9b23a4ef7222b4c39]\n",
       "link E3 to E2--><a href=\"psysml:47946f32-7338-4adb-a6af-ffcb2b2265dd\" target=\"_top\" title=\"psysml:47946f32-7338-4adb-a6af-ffcb2b2265dd\" xlink:actuate=\"onRequest\" xlink:href=\"psysml:47946f32-7338-4adb-a6af-ffcb2b2265dd\" xlink:show=\"new\" xlink:title=\"psysml:47946f32-7338-4adb-a6af-ffcb2b2265dd\" xlink:type=\"simple\"><path d=\"M488.12,87.06 C486.14,98.3 483.62,112.6 481.1,126.95 \" fill=\"none\" id=\"E3-&gt;E2\" style=\"stroke: #383838; stroke-width: 1.0;\"/><polygon fill=\"#FFFFFF\" points=\"477.58,146.93,473.9835,127.0035,487.7711,129.4331,477.58,146.93\" style=\"stroke: #383838; stroke-width: 1.0;\"/><ellipse cx=\"476.9423\" cy=\"121.7371\" fill=\"#383838\" rx=\"2\" ry=\"2\" style=\"stroke: #383838; stroke-width: 1.0;\"/><ellipse cx=\"486.7906\" cy=\"123.4725\" fill=\"#383838\" rx=\"2\" ry=\"2\" style=\"stroke: #383838; stroke-width: 1.0;\"/></a><!--MD5=[f9d0da52cdd6ab5ecc292f0ad1df0d8c]\n",
       "@startuml\r\n",
       "top to bottom direction\r\n",
       "skinparam monochrome true\r\n",
       "skinparam classbackgroundcolor white\r\n",
       "skinparam shadowing false\r\n",
       "skinparam wrapWidth 300\r\n",
       "hide circle\r\n",
       "\r\n",
       "package \"ParameterTest\" as E1  [[psysml:adbc474a-2784-4828-be47-026fefc14932 ]]  {\r\n",
       "comp def \"A\" as E2  <<(T,blue) attribute def>> [[psysml:fa211d39-e6da-4efb-a07a-68e935dd1093 ]] {\r\n",
       "- - attributes - -\r\n",
       "x: String\r\n",
       "y: A\r\n",
       "}\r\n",
       "comp usage \"a: A\" as E3  <<(T,blue) attribute>> [[psysml:665f7084-89dd-4cc9-a479-f70e09a77220 ]] {\r\n",
       "}\r\n",
       "rec def \"F\" as E4  <<(T,blue) calculation def>> [[psysml:ea0c6e06-a87b-4616-91bc-ba79196303d0 ]] {\r\n",
       "portin \"p\" as E5  [[psysml:e1d329d3-cb1e-45c3-b1d5-2fcf771779ef ]] \r\n",
       "portin \"q\" as E6  [[psysml:b499ebef-2d53-43ba-b86a-de9084e46bb3 ]] \r\n",
       "portout \"noname\" as E7  [[psysml:2e56002b-31e4-43bf-ad2b-cc6ef1aac7ab ]] \r\n",
       "}\r\n",
       "\r\n",
       "comp usage \"f\" as E8  <<(T,blue) attribute>> [[psysml:1ebb82ef-cdf5-4836-9887-d34bbc134ce1 ]] {\r\n",
       "}\r\n",
       "comp usage \"g\" as E9  <<(T,blue) attribute>> [[psysml:22e07e99-e7e6-486c-b8ca-f79edb8ad4e8 ]] {\r\n",
       "}\r\n",
       "comp usage \"b\" as E10  <<(T,blue) attribute>> [[psysml:a8be3d15-ac76-451a-a4cf-87ef8e02e637 ]] {\r\n",
       "}\r\n",
       "comp usage \"c\" as E11  <<(T,blue) attribute>> [[psysml:88e99412-8df3-4a94-a568-1984bea0c190 ]] {\r\n",
       "}\r\n",
       "E3 - -:|> E2 [[psysml:47946f32-7338-4adb-a6af-ffcb2b2265dd ]] \r\n",
       "}\r\n",
       "@enduml\r\n",
       "\n",
       "PlantUML version 1.2020.13(Sat Jun 13 12:26:38 UTC 2020)\n",
       "(EPL source distribution)\n",
       "Java Runtime: OpenJDK Runtime Environment\n",
       "JVM: OpenJDK 64-Bit Server VM\n",
       "Default Encoding: UTF-8\n",
       "Language: en\n",
       "Country: null\n",
       "--></g></svg>"
      ]
     },
     "execution_count": 44,
     "metadata": {},
     "output_type": "execute_result"
    }
   ],
   "source": [
    "%viz --style=\"TB\" --view=\"Default\" \"ParameterTest\""
   ]
  },
  {
   "cell_type": "code",
   "execution_count": 45,
   "id": "f37f6c34",
   "metadata": {
    "execution": {
     "iopub.execute_input": "2021-06-30T09:18:23.280727Z",
     "iopub.status.busy": "2021-06-30T09:18:23.279623Z",
     "iopub.status.idle": "2021-06-30T09:18:23.329507Z",
     "shell.execute_reply": "2021-06-30T09:18:23.328021Z"
    }
   },
   "outputs": [
    {
     "data": {
      "image/svg+xml": [
       "<?xml version=\"1.0\" encoding=\"UTF-8\" standalone=\"no\"?><svg xmlns=\"http://www.w3.org/2000/svg\" xmlns:xlink=\"http://www.w3.org/1999/xlink\" contentScriptType=\"application/ecmascript\" contentStyleType=\"text/css\" height=\"280px\" preserveAspectRatio=\"none\" style=\"width:710px;height:280px;\" version=\"1.1\" viewBox=\"0 0 710 280\" width=\"710px\" zoomAndPan=\"magnify\"><defs/><g><!--MD5=[fbc87193dbaf4d95561dea2c320d4a47]\n",
       "cluster E1--><a href=\"psysml:adbc474a-2784-4828-be47-026fefc14932\" target=\"_top\" title=\"psysml:adbc474a-2784-4828-be47-026fefc14932\" xlink:actuate=\"onRequest\" xlink:href=\"psysml:adbc474a-2784-4828-be47-026fefc14932\" xlink:show=\"new\" xlink:title=\"psysml:adbc474a-2784-4828-be47-026fefc14932\" xlink:type=\"simple\"><polygon fill=\"#FFFFFF\" points=\"16,6,139,6,146,28.2969,688,28.2969,688,268,16,268,16,6\" style=\"stroke: #000000; stroke-width: 1.5;\"/><line style=\"stroke: #000000; stroke-width: 1.5;\" x1=\"16\" x2=\"146\" y1=\"28.2969\" y2=\"28.2969\"/><text fill=\"#000000\" font-family=\"sans-serif\" font-size=\"14\" font-weight=\"bold\" lengthAdjust=\"spacingAndGlyphs\" textLength=\"117\" x=\"20\" y=\"20.9951\">ParameterTest</text></a><!--MD5=[b4997ac47864f28c2f74865a473b2911]\n",
       "class E2--><a href=\"psysml:fa211d39-e6da-4efb-a07a-68e935dd1093\" target=\"_top\" title=\"psysml:fa211d39-e6da-4efb-a07a-68e935dd1093\" xlink:actuate=\"onRequest\" xlink:href=\"psysml:fa211d39-e6da-4efb-a07a-68e935dd1093\" xlink:show=\"new\" xlink:title=\"psysml:fa211d39-e6da-4efb-a07a-68e935dd1093\" xlink:type=\"simple\"><rect fill=\"#FFFFFF\" height=\"88.3516\" id=\"E2\" style=\"stroke: #383838; stroke-width: 1.5;\" width=\"95\" x=\"498.5\" y=\"164\"/><text fill=\"#000000\" font-family=\"sans-serif\" font-size=\"12\" font-style=\"italic\" lengthAdjust=\"spacingAndGlyphs\" textLength=\"93\" x=\"499.5\" y=\"180.1387\">«attribute def»</text><text fill=\"#000000\" font-family=\"sans-serif\" font-size=\"12\" lengthAdjust=\"spacingAndGlyphs\" textLength=\"8\" x=\"542\" y=\"194.1074\">A</text><line style=\"stroke: #383838; stroke-width: 1.5;\" x1=\"499.5\" x2=\"592.5\" y1=\"201.9375\" y2=\"201.9375\"/><text fill=\"#000000\" font-family=\"sans-serif\" font-size=\"11\" lengthAdjust=\"spacingAndGlyphs\" textLength=\"48\" x=\"504.5\" y=\"232.9526\">x: String</text><text fill=\"#000000\" font-family=\"sans-serif\" font-size=\"11\" lengthAdjust=\"spacingAndGlyphs\" textLength=\"21\" x=\"504.5\" y=\"245.7573\">y: A</text><line style=\"stroke: #383838; stroke-width: 1.0;\" x1=\"499.5\" x2=\"518.5\" y1=\"216.3398\" y2=\"216.3398\"/><text fill=\"#000000\" font-family=\"sans-serif\" font-size=\"11\" lengthAdjust=\"spacingAndGlyphs\" textLength=\"55\" x=\"518.5\" y=\"219.6479\">attributes</text><line style=\"stroke: #383838; stroke-width: 1.0;\" x1=\"573.5\" x2=\"592.5\" y1=\"216.3398\" y2=\"216.3398\"/></a><!--MD5=[09b614a08d8cba4a07c9adeb5e0fee81]\n",
       "class E3--><a href=\"psysml:665f7084-89dd-4cc9-a479-f70e09a77220\" target=\"_top\" title=\"psysml:665f7084-89dd-4cc9-a479-f70e09a77220\" xlink:actuate=\"onRequest\" xlink:href=\"psysml:665f7084-89dd-4cc9-a479-f70e09a77220\" xlink:show=\"new\" xlink:title=\"psysml:665f7084-89dd-4cc9-a479-f70e09a77220\" xlink:type=\"simple\"><rect fill=\"#FFFFFF\" height=\"45.9375\" id=\"E3\" rx=\"10\" ry=\"10\" style=\"stroke: #383838; stroke-width: 1.5;\" width=\"71\" x=\"600.5\" y=\"41\"/><text fill=\"#000000\" font-family=\"sans-serif\" font-size=\"12\" font-style=\"italic\" lengthAdjust=\"spacingAndGlyphs\" textLength=\"69\" x=\"601.5\" y=\"57.1387\">«attribute»</text><text fill=\"#000000\" font-family=\"sans-serif\" font-size=\"12\" lengthAdjust=\"spacingAndGlyphs\" textLength=\"24\" x=\"624\" y=\"71.1074\">a: A</text><line style=\"stroke: #383838; stroke-width: 1.5;\" x1=\"601.5\" x2=\"670.5\" y1=\"78.9375\" y2=\"78.9375\"/></a><!--MD5=[ebbe1d658d1005bcc118a6aa81145e00]\n",
       "class E4--><a href=\"psysml:ea0c6e06-a87b-4616-91bc-ba79196303d0\" target=\"_top\" title=\"psysml:ea0c6e06-a87b-4616-91bc-ba79196303d0\" xlink:actuate=\"onRequest\" xlink:href=\"psysml:ea0c6e06-a87b-4616-91bc-ba79196303d0\" xlink:show=\"new\" xlink:title=\"psysml:ea0c6e06-a87b-4616-91bc-ba79196303d0\" xlink:type=\"simple\"><rect fill=\"#FFFFFF\" height=\"45.9375\" id=\"E4\" style=\"stroke: #383838; stroke-width: 1.5;\" width=\"108\" x=\"457\" y=\"41\"/><text fill=\"#000000\" font-family=\"sans-serif\" font-size=\"12\" font-style=\"italic\" lengthAdjust=\"spacingAndGlyphs\" textLength=\"106\" x=\"458\" y=\"57.1387\">«calculation def»</text><text fill=\"#000000\" font-family=\"sans-serif\" font-size=\"12\" lengthAdjust=\"spacingAndGlyphs\" textLength=\"7\" x=\"507.5\" y=\"71.1074\">F</text><line style=\"stroke: #383838; stroke-width: 1.5;\" x1=\"458\" x2=\"564\" y1=\"78.9375\" y2=\"78.9375\"/></a><!--MD5=[270fce915f116d4de14055a7c1d9a0f3]\n",
       "class E5--><a href=\"psysml:1ebb82ef-cdf5-4836-9887-d34bbc134ce1\" target=\"_top\" title=\"psysml:1ebb82ef-cdf5-4836-9887-d34bbc134ce1\" xlink:actuate=\"onRequest\" xlink:href=\"psysml:1ebb82ef-cdf5-4836-9887-d34bbc134ce1\" xlink:show=\"new\" xlink:title=\"psysml:1ebb82ef-cdf5-4836-9887-d34bbc134ce1\" xlink:type=\"simple\"><rect fill=\"#FFFFFF\" height=\"45.9375\" id=\"E5\" rx=\"10\" ry=\"10\" style=\"stroke: #383838; stroke-width: 1.5;\" width=\"71\" x=\"350.5\" y=\"41\"/><text fill=\"#000000\" font-family=\"sans-serif\" font-size=\"12\" font-style=\"italic\" lengthAdjust=\"spacingAndGlyphs\" textLength=\"69\" x=\"351.5\" y=\"57.1387\">«attribute»</text><text fill=\"#000000\" font-family=\"sans-serif\" font-size=\"12\" lengthAdjust=\"spacingAndGlyphs\" textLength=\"4\" x=\"384\" y=\"71.1074\">f</text><line style=\"stroke: #383838; stroke-width: 1.5;\" x1=\"351.5\" x2=\"420.5\" y1=\"78.9375\" y2=\"78.9375\"/></a><!--MD5=[60a26617385b1d2d0262a64233df1f8d]\n",
       "class E6--><a href=\"psysml:22e07e99-e7e6-486c-b8ca-f79edb8ad4e8\" target=\"_top\" title=\"psysml:22e07e99-e7e6-486c-b8ca-f79edb8ad4e8\" xlink:actuate=\"onRequest\" xlink:href=\"psysml:22e07e99-e7e6-486c-b8ca-f79edb8ad4e8\" xlink:show=\"new\" xlink:title=\"psysml:22e07e99-e7e6-486c-b8ca-f79edb8ad4e8\" xlink:type=\"simple\"><rect fill=\"#FFFFFF\" height=\"45.9375\" id=\"E6\" rx=\"10\" ry=\"10\" style=\"stroke: #383838; stroke-width: 1.5;\" width=\"71\" x=\"244.5\" y=\"41\"/><text fill=\"#000000\" font-family=\"sans-serif\" font-size=\"12\" font-style=\"italic\" lengthAdjust=\"spacingAndGlyphs\" textLength=\"69\" x=\"245.5\" y=\"57.1387\">«attribute»</text><text fill=\"#000000\" font-family=\"sans-serif\" font-size=\"12\" lengthAdjust=\"spacingAndGlyphs\" textLength=\"8\" x=\"276\" y=\"71.1074\">g</text><line style=\"stroke: #383838; stroke-width: 1.5;\" x1=\"245.5\" x2=\"314.5\" y1=\"78.9375\" y2=\"78.9375\"/></a><!--MD5=[2156ba9850f5573cc1fc38a6a4b2f02b]\n",
       "class E7--><a href=\"psysml:a8be3d15-ac76-451a-a4cf-87ef8e02e637\" target=\"_top\" title=\"psysml:a8be3d15-ac76-451a-a4cf-87ef8e02e637\" xlink:actuate=\"onRequest\" xlink:href=\"psysml:a8be3d15-ac76-451a-a4cf-87ef8e02e637\" xlink:show=\"new\" xlink:title=\"psysml:a8be3d15-ac76-451a-a4cf-87ef8e02e637\" xlink:type=\"simple\"><rect fill=\"#FFFFFF\" height=\"45.9375\" id=\"E7\" rx=\"10\" ry=\"10\" style=\"stroke: #383838; stroke-width: 1.5;\" width=\"71\" x=\"138.5\" y=\"41\"/><text fill=\"#000000\" font-family=\"sans-serif\" font-size=\"12\" font-style=\"italic\" lengthAdjust=\"spacingAndGlyphs\" textLength=\"69\" x=\"139.5\" y=\"57.1387\">«attribute»</text><text fill=\"#000000\" font-family=\"sans-serif\" font-size=\"12\" lengthAdjust=\"spacingAndGlyphs\" textLength=\"8\" x=\"170\" y=\"71.1074\">b</text><line style=\"stroke: #383838; stroke-width: 1.5;\" x1=\"139.5\" x2=\"208.5\" y1=\"78.9375\" y2=\"78.9375\"/></a><!--MD5=[b9389687b975829384b498ac4b7476b2]\n",
       "class E8--><a href=\"psysml:88e99412-8df3-4a94-a568-1984bea0c190\" target=\"_top\" title=\"psysml:88e99412-8df3-4a94-a568-1984bea0c190\" xlink:actuate=\"onRequest\" xlink:href=\"psysml:88e99412-8df3-4a94-a568-1984bea0c190\" xlink:show=\"new\" xlink:title=\"psysml:88e99412-8df3-4a94-a568-1984bea0c190\" xlink:type=\"simple\"><rect fill=\"#FFFFFF\" height=\"45.9375\" id=\"E8\" rx=\"10\" ry=\"10\" style=\"stroke: #383838; stroke-width: 1.5;\" width=\"71\" x=\"32.5\" y=\"41\"/><text fill=\"#000000\" font-family=\"sans-serif\" font-size=\"12\" font-style=\"italic\" lengthAdjust=\"spacingAndGlyphs\" textLength=\"69\" x=\"33.5\" y=\"57.1387\">«attribute»</text><text fill=\"#000000\" font-family=\"sans-serif\" font-size=\"12\" lengthAdjust=\"spacingAndGlyphs\" textLength=\"7\" x=\"64.5\" y=\"71.1074\">c</text><line style=\"stroke: #383838; stroke-width: 1.5;\" x1=\"33.5\" x2=\"102.5\" y1=\"78.9375\" y2=\"78.9375\"/></a><!--MD5=[05d275557350bfb9b23a4ef7222b4c39]\n",
       "link E3 to E2--><a href=\"psysml:47946f32-7338-4adb-a6af-ffcb2b2265dd\" target=\"_top\" title=\"psysml:47946f32-7338-4adb-a6af-ffcb2b2265dd\" xlink:actuate=\"onRequest\" xlink:href=\"psysml:47946f32-7338-4adb-a6af-ffcb2b2265dd\" xlink:show=\"new\" xlink:title=\"psysml:47946f32-7338-4adb-a6af-ffcb2b2265dd\" xlink:type=\"simple\"><path d=\"M621.94,87.19 C611.77,103.23 597.51,125.73 584.09,146.9 \" fill=\"none\" id=\"E3-&gt;E2\" style=\"stroke: #383838; stroke-width: 1.0;\"/><polygon fill=\"#FFFFFF\" points=\"573.37,163.82,577.6195,144.0225,589.448,151.5115,573.37,163.82\" style=\"stroke: #383838; stroke-width: 1.0;\"/><ellipse cx=\"582.3584\" cy=\"140.2764\" fill=\"#383838\" rx=\"2\" ry=\"2\" style=\"stroke: #383838; stroke-width: 1.0;\"/><ellipse cx=\"590.8073\" cy=\"145.6258\" fill=\"#383838\" rx=\"2\" ry=\"2\" style=\"stroke: #383838; stroke-width: 1.0;\"/></a><!--MD5=[ddeed8deb2209213b62e6cfabaa108b2]\n",
       "reverse link E4 to E2--><a href=\"psysml:e1d329d3-cb1e-45c3-b1d5-2fcf771779ef\" target=\"_top\" title=\"psysml:e1d329d3-cb1e-45c3-b1d5-2fcf771779ef\" xlink:actuate=\"onRequest\" xlink:href=\"psysml:e1d329d3-cb1e-45c3-b1d5-2fcf771779ef\" xlink:show=\"new\" xlink:title=\"psysml:e1d329d3-cb1e-45c3-b1d5-2fcf771779ef\" xlink:type=\"simple\"><path d=\"M519.62,99.96 C524.37,119.25 530.31,143.36 535.36,163.82 \" fill=\"none\" id=\"E4&lt;-E2\" style=\"stroke: #383838; stroke-width: 1.0;\"/><polygon fill=\"#FFFFFF\" points=\"516.47,87.19,514.0229,93.9732,519.3432,98.841,521.7903,92.0577,516.47,87.19\" style=\"stroke: #383838; stroke-width: 1.0;\"/><text fill=\"#000000\" font-family=\"sans-serif\" font-size=\"13\" lengthAdjust=\"spacingAndGlyphs\" textLength=\"8\" x=\"528\" y=\"130.0669\">p</text></a><!--MD5=[708ea8581dc63da76c24ebb91f5b62ab]\n",
       "@startuml\r\n",
       "top to bottom direction\r\n",
       "skinparam monochrome true\r\n",
       "skinparam classbackgroundcolor white\r\n",
       "skinparam shadowing false\r\n",
       "skinparam wrapWidth 300\r\n",
       "hide circle\r\n",
       "\r\n",
       "package \"ParameterTest\" as E1  [[psysml:adbc474a-2784-4828-be47-026fefc14932 ]]  {\r\n",
       "comp def \"A\" as E2  <<(T,blue) attribute def>> [[psysml:fa211d39-e6da-4efb-a07a-68e935dd1093 ]] {\r\n",
       "- - attributes - -\r\n",
       "x: String\r\n",
       "y: A\r\n",
       "}\r\n",
       "comp usage \"a: A\" as E3  <<(T,blue) attribute>> [[psysml:665f7084-89dd-4cc9-a479-f70e09a77220 ]] {\r\n",
       "}\r\n",
       "comp def \"F\" as E4  <<(T,blue) calculation def>> [[psysml:ea0c6e06-a87b-4616-91bc-ba79196303d0 ]] {\r\n",
       "}\r\n",
       "comp usage \"f\" as E5  <<(T,blue) attribute>> [[psysml:1ebb82ef-cdf5-4836-9887-d34bbc134ce1 ]] {\r\n",
       "}\r\n",
       "comp usage \"g\" as E6  <<(T,blue) attribute>> [[psysml:22e07e99-e7e6-486c-b8ca-f79edb8ad4e8 ]] {\r\n",
       "}\r\n",
       "comp usage \"b\" as E7  <<(T,blue) attribute>> [[psysml:a8be3d15-ac76-451a-a4cf-87ef8e02e637 ]] {\r\n",
       "}\r\n",
       "comp usage \"c\" as E8  <<(T,blue) attribute>> [[psysml:88e99412-8df3-4a94-a568-1984bea0c190 ]] {\r\n",
       "}\r\n",
       "E3 - -:|> E2 [[psysml:47946f32-7338-4adb-a6af-ffcb2b2265dd ]] \r\n",
       "E4 o- - E2 [[psysml:e1d329d3-cb1e-45c3-b1d5-2fcf771779ef ]] : p\r\n",
       "}\r\n",
       "@enduml\r\n",
       "\n",
       "PlantUML version 1.2020.13(Sat Jun 13 12:26:38 UTC 2020)\n",
       "(EPL source distribution)\n",
       "Java Runtime: OpenJDK Runtime Environment\n",
       "JVM: OpenJDK 64-Bit Server VM\n",
       "Default Encoding: UTF-8\n",
       "Language: en\n",
       "Country: null\n",
       "--></g></svg>"
      ]
     },
     "execution_count": 45,
     "metadata": {},
     "output_type": "execute_result"
    }
   ],
   "source": [
    "%viz --style=\"TB\" --view=\"Tree\" \"ParameterTest\""
   ]
  },
  {
   "cell_type": "code",
   "execution_count": 46,
   "id": "7b54909b",
   "metadata": {
    "execution": {
     "iopub.execute_input": "2021-06-30T09:18:23.380963Z",
     "iopub.status.busy": "2021-06-30T09:18:23.380183Z",
     "iopub.status.idle": "2021-06-30T09:18:23.386027Z",
     "shell.execute_reply": "2021-06-30T09:18:23.385628Z"
    }
   },
   "outputs": [
    {
     "data": {
      "image/svg+xml": [
       "<?xml version=\"1.0\" encoding=\"UTF-8\" standalone=\"no\"?><svg xmlns=\"http://www.w3.org/2000/svg\" xmlns:xlink=\"http://www.w3.org/1999/xlink\" contentScriptType=\"application/ecmascript\" contentStyleType=\"text/css\" height=\"12px\" preserveAspectRatio=\"none\" style=\"width:12px;height:12px;\" version=\"1.1\" viewBox=\"0 0 12 12\" width=\"12px\" zoomAndPan=\"magnify\"><defs/><g><!--MD5=[f4ee21bc66e489b5061b7c3e9601fdef]\n",
       "@startuml\r\n",
       "top to bottom direction\r\n",
       "skinparam monochrome true\r\n",
       "skinparam classbackgroundcolor white\r\n",
       "skinparam shadowing false\r\n",
       "skinparam wrapWidth 300\r\n",
       "hide circle\r\n",
       "\r\n",
       "@enduml\r\n",
       "\n",
       "PlantUML version 1.2020.13(Sat Jun 13 12:26:38 UTC 2020)\n",
       "(EPL source distribution)\n",
       "Java Runtime: OpenJDK Runtime Environment\n",
       "JVM: OpenJDK 64-Bit Server VM\n",
       "Default Encoding: UTF-8\n",
       "Language: en\n",
       "Country: null\n",
       "--></g></svg>"
      ]
     },
     "execution_count": 46,
     "metadata": {},
     "output_type": "execute_result"
    }
   ],
   "source": [
    "%viz --style=\"TB\" --view=\"State\" \"ParameterTest\""
   ]
  },
  {
   "cell_type": "code",
   "execution_count": 47,
   "id": "d824ae99",
   "metadata": {
    "execution": {
     "iopub.execute_input": "2021-06-30T09:18:23.438130Z",
     "iopub.status.busy": "2021-06-30T09:18:23.437529Z",
     "iopub.status.idle": "2021-06-30T09:18:23.471742Z",
     "shell.execute_reply": "2021-06-30T09:18:23.469132Z"
    }
   },
   "outputs": [
    {
     "data": {
      "image/svg+xml": [
       "<?xml version=\"1.0\" encoding=\"UTF-8\" standalone=\"no\"?><svg xmlns=\"http://www.w3.org/2000/svg\" xmlns:xlink=\"http://www.w3.org/1999/xlink\" contentScriptType=\"application/ecmascript\" contentStyleType=\"text/css\" height=\"216px\" preserveAspectRatio=\"none\" style=\"width:740px;height:216px;\" version=\"1.1\" viewBox=\"0 0 740 216\" width=\"740px\" zoomAndPan=\"magnify\"><defs/><g><!--MD5=[fbc87193dbaf4d95561dea2c320d4a47]\n",
       "cluster E1--><a href=\"psysml:adbc474a-2784-4828-be47-026fefc14932\" target=\"_top\" title=\"psysml:adbc474a-2784-4828-be47-026fefc14932\" xlink:actuate=\"onRequest\" xlink:href=\"psysml:adbc474a-2784-4828-be47-026fefc14932\" xlink:show=\"new\" xlink:title=\"psysml:adbc474a-2784-4828-be47-026fefc14932\" xlink:type=\"simple\"><polygon fill=\"#FFFFFF\" points=\"16,6,139,6,146,28.2969,718,28.2969,718,204.72,16,204.72,16,6\" style=\"stroke: #000000; stroke-width: 1.5;\"/><line style=\"stroke: #000000; stroke-width: 1.5;\" x1=\"16\" x2=\"146\" y1=\"28.2969\" y2=\"28.2969\"/><text fill=\"#000000\" font-family=\"sans-serif\" font-size=\"14\" font-weight=\"bold\" lengthAdjust=\"spacingAndGlyphs\" textLength=\"117\" x=\"20\" y=\"20.9951\">ParameterTest</text></a><!--MD5=[f6df4d0ebaf0b5dfb2ced0ae5af7c670]\n",
       "cluster E4--><a href=\"psysml:ea0c6e06-a87b-4616-91bc-ba79196303d0\" target=\"_top\" title=\"psysml:ea0c6e06-a87b-4616-91bc-ba79196303d0\" xlink:actuate=\"onRequest\" xlink:href=\"psysml:ea0c6e06-a87b-4616-91bc-ba79196303d0\" xlink:show=\"new\" xlink:title=\"psysml:ea0c6e06-a87b-4616-91bc-ba79196303d0\" xlink:type=\"simple\"><rect fill=\"#FFFFFF\" height=\"110.72\" id=\"E4\" style=\"stroke: #383838; stroke-width: 1.5;\" width=\"148\" x=\"554\" y=\"64\"/><rect fill=\"#F8F8F8\" height=\"37.9375\" style=\"stroke: #383838; stroke-width: 1.5;\" width=\"148\" x=\"554\" y=\"64\"/><text fill=\"#000000\" font-family=\"sans-serif\" font-size=\"12\" font-style=\"italic\" lengthAdjust=\"spacingAndGlyphs\" textLength=\"106\" x=\"575\" y=\"80.1387\">«calculation def»</text><text fill=\"#000000\" font-family=\"sans-serif\" font-size=\"12\" lengthAdjust=\"spacingAndGlyphs\" textLength=\"7\" x=\"624.5\" y=\"94.1074\">F</text></a><g id=\"E1.E2\"><a href=\"psysml:fa211d39-e6da-4efb-a07a-68e935dd1093\" target=\"_top\" title=\"psysml:fa211d39-e6da-4efb-a07a-68e935dd1093\" xlink:actuate=\"onRequest\" xlink:href=\"psysml:fa211d39-e6da-4efb-a07a-68e935dd1093\" xlink:show=\"new\" xlink:title=\"psysml:fa211d39-e6da-4efb-a07a-68e935dd1093\" xlink:type=\"simple\"><rect fill=\"#FFFFFF\" height=\"42.9375\" id=\"E2\" style=\"stroke: #383838; stroke-width: 1.5;\" width=\"100\" x=\"417\" y=\"99\"/><rect fill=\"#F8F8F8\" height=\"37.9375\" style=\"stroke: #383838; stroke-width: 1.5;\" width=\"100\" x=\"417\" y=\"99\"/><text fill=\"#000000\" font-family=\"sans-serif\" font-size=\"12\" font-style=\"italic\" lengthAdjust=\"spacingAndGlyphs\" textLength=\"93\" x=\"420.5\" y=\"115.1387\">«attribute def»</text><text fill=\"#000000\" font-family=\"sans-serif\" font-size=\"12\" lengthAdjust=\"spacingAndGlyphs\" textLength=\"8\" x=\"463\" y=\"129.1074\">A</text></a></g><!--MD5=[09b614a08d8cba4a07c9adeb5e0fee81]\n",
       "class E3--><a href=\"psysml:665f7084-89dd-4cc9-a479-f70e09a77220\" target=\"_top\" title=\"psysml:665f7084-89dd-4cc9-a479-f70e09a77220\" xlink:actuate=\"onRequest\" xlink:href=\"psysml:665f7084-89dd-4cc9-a479-f70e09a77220\" xlink:show=\"new\" xlink:title=\"psysml:665f7084-89dd-4cc9-a479-f70e09a77220\" xlink:type=\"simple\"><rect fill=\"#FFFFFF\" height=\"45.9375\" id=\"E3\" rx=\"10\" ry=\"10\" style=\"stroke: #383838; stroke-width: 1.5;\" width=\"71\" x=\"456.5\" y=\"41\"/><text fill=\"#000000\" font-family=\"sans-serif\" font-size=\"12\" font-style=\"italic\" lengthAdjust=\"spacingAndGlyphs\" textLength=\"69\" x=\"457.5\" y=\"57.1387\">«attribute»</text><text fill=\"#000000\" font-family=\"sans-serif\" font-size=\"12\" lengthAdjust=\"spacingAndGlyphs\" textLength=\"24\" x=\"480\" y=\"71.1074\">a: A</text><line style=\"stroke: #383838; stroke-width: 1.5;\" x1=\"457.5\" x2=\"526.5\" y1=\"78.9375\" y2=\"78.9375\"/></a><!--MD5=[b9389687b975829384b498ac4b7476b2]\n",
       "class E8--><a href=\"psysml:1ebb82ef-cdf5-4836-9887-d34bbc134ce1\" target=\"_top\" title=\"psysml:1ebb82ef-cdf5-4836-9887-d34bbc134ce1\" xlink:actuate=\"onRequest\" xlink:href=\"psysml:1ebb82ef-cdf5-4836-9887-d34bbc134ce1\" xlink:show=\"new\" xlink:title=\"psysml:1ebb82ef-cdf5-4836-9887-d34bbc134ce1\" xlink:type=\"simple\"><rect fill=\"#FFFFFF\" height=\"45.9375\" id=\"E8\" rx=\"10\" ry=\"10\" style=\"stroke: #383838; stroke-width: 1.5;\" width=\"71\" x=\"350.5\" y=\"41\"/><text fill=\"#000000\" font-family=\"sans-serif\" font-size=\"12\" font-style=\"italic\" lengthAdjust=\"spacingAndGlyphs\" textLength=\"69\" x=\"351.5\" y=\"57.1387\">«attribute»</text><text fill=\"#000000\" font-family=\"sans-serif\" font-size=\"12\" lengthAdjust=\"spacingAndGlyphs\" textLength=\"4\" x=\"384\" y=\"71.1074\">f</text><line style=\"stroke: #383838; stroke-width: 1.5;\" x1=\"351.5\" x2=\"420.5\" y1=\"78.9375\" y2=\"78.9375\"/></a><!--MD5=[fd4143e9d270a159db93a4ea2a975926]\n",
       "class E9--><a href=\"psysml:22e07e99-e7e6-486c-b8ca-f79edb8ad4e8\" target=\"_top\" title=\"psysml:22e07e99-e7e6-486c-b8ca-f79edb8ad4e8\" xlink:actuate=\"onRequest\" xlink:href=\"psysml:22e07e99-e7e6-486c-b8ca-f79edb8ad4e8\" xlink:show=\"new\" xlink:title=\"psysml:22e07e99-e7e6-486c-b8ca-f79edb8ad4e8\" xlink:type=\"simple\"><rect fill=\"#FFFFFF\" height=\"45.9375\" id=\"E9\" rx=\"10\" ry=\"10\" style=\"stroke: #383838; stroke-width: 1.5;\" width=\"71\" x=\"244.5\" y=\"41\"/><text fill=\"#000000\" font-family=\"sans-serif\" font-size=\"12\" font-style=\"italic\" lengthAdjust=\"spacingAndGlyphs\" textLength=\"69\" x=\"245.5\" y=\"57.1387\">«attribute»</text><text fill=\"#000000\" font-family=\"sans-serif\" font-size=\"12\" lengthAdjust=\"spacingAndGlyphs\" textLength=\"8\" x=\"276\" y=\"71.1074\">g</text><line style=\"stroke: #383838; stroke-width: 1.5;\" x1=\"245.5\" x2=\"314.5\" y1=\"78.9375\" y2=\"78.9375\"/></a><!--MD5=[96f4274e9e20536e775497830990834d]\n",
       "class E10--><a href=\"psysml:a8be3d15-ac76-451a-a4cf-87ef8e02e637\" target=\"_top\" title=\"psysml:a8be3d15-ac76-451a-a4cf-87ef8e02e637\" xlink:actuate=\"onRequest\" xlink:href=\"psysml:a8be3d15-ac76-451a-a4cf-87ef8e02e637\" xlink:show=\"new\" xlink:title=\"psysml:a8be3d15-ac76-451a-a4cf-87ef8e02e637\" xlink:type=\"simple\"><rect fill=\"#FFFFFF\" height=\"45.9375\" id=\"E10\" rx=\"10\" ry=\"10\" style=\"stroke: #383838; stroke-width: 1.5;\" width=\"71\" x=\"138.5\" y=\"41\"/><text fill=\"#000000\" font-family=\"sans-serif\" font-size=\"12\" font-style=\"italic\" lengthAdjust=\"spacingAndGlyphs\" textLength=\"69\" x=\"139.5\" y=\"57.1387\">«attribute»</text><text fill=\"#000000\" font-family=\"sans-serif\" font-size=\"12\" lengthAdjust=\"spacingAndGlyphs\" textLength=\"8\" x=\"170\" y=\"71.1074\">b</text><line style=\"stroke: #383838; stroke-width: 1.5;\" x1=\"139.5\" x2=\"208.5\" y1=\"78.9375\" y2=\"78.9375\"/></a><!--MD5=[1dd1bfd58a279cf63c5f349dbc8fc6a1]\n",
       "class E11--><a href=\"psysml:88e99412-8df3-4a94-a568-1984bea0c190\" target=\"_top\" title=\"psysml:88e99412-8df3-4a94-a568-1984bea0c190\" xlink:actuate=\"onRequest\" xlink:href=\"psysml:88e99412-8df3-4a94-a568-1984bea0c190\" xlink:show=\"new\" xlink:title=\"psysml:88e99412-8df3-4a94-a568-1984bea0c190\" xlink:type=\"simple\"><rect fill=\"#FFFFFF\" height=\"45.9375\" id=\"E11\" rx=\"10\" ry=\"10\" style=\"stroke: #383838; stroke-width: 1.5;\" width=\"71\" x=\"32.5\" y=\"41\"/><text fill=\"#000000\" font-family=\"sans-serif\" font-size=\"12\" font-style=\"italic\" lengthAdjust=\"spacingAndGlyphs\" textLength=\"69\" x=\"33.5\" y=\"57.1387\">«attribute»</text><text fill=\"#000000\" font-family=\"sans-serif\" font-size=\"12\" lengthAdjust=\"spacingAndGlyphs\" textLength=\"7\" x=\"64.5\" y=\"71.1074\">c</text><line style=\"stroke: #383838; stroke-width: 1.5;\" x1=\"33.5\" x2=\"102.5\" y1=\"78.9375\" y2=\"78.9375\"/></a><text fill=\"#000000\" font-family=\"sans-serif\" font-size=\"14\" lengthAdjust=\"spacingAndGlyphs\" textLength=\"9\" x=\"567.5\" y=\"42.6982\">p</text><rect fill=\"#383838\" height=\"12\" style=\"stroke: #F8F8F8; stroke-width: 1.5;\" width=\"12\" x=\"566\" y=\"58\"/><text fill=\"#000000\" font-family=\"sans-serif\" font-size=\"14\" lengthAdjust=\"spacingAndGlyphs\" textLength=\"9\" x=\"614.5\" y=\"42.6982\">q</text><rect fill=\"#383838\" height=\"12\" style=\"stroke: #F8F8F8; stroke-width: 1.5;\" width=\"12\" x=\"613\" y=\"58\"/><text fill=\"#000000\" font-family=\"sans-serif\" font-size=\"14\" lengthAdjust=\"spacingAndGlyphs\" textLength=\"57\" x=\"590.5\" y=\"193.7151\">noname</text><rect fill=\"#383838\" height=\"12\" style=\"stroke: #F8F8F8; stroke-width: 1.5;\" width=\"12\" x=\"613\" y=\"168.72\"/><!--MD5=[05d275557350bfb9b23a4ef7222b4c39]\n",
       "link E3 to E2--><a href=\"psysml:47946f32-7338-4adb-a6af-ffcb2b2265dd\" target=\"_top\" title=\"psysml:47946f32-7338-4adb-a6af-ffcb2b2265dd\" xlink:actuate=\"onRequest\" xlink:href=\"psysml:47946f32-7338-4adb-a6af-ffcb2b2265dd\" xlink:show=\"new\" xlink:title=\"psysml:47946f32-7338-4adb-a6af-ffcb2b2265dd\" xlink:type=\"simple\"><path d=\"M481.83,87.17 C481.78,87.29 481.72,87.41 481.66,87.53 \" fill=\"none\" id=\"E3-&gt;E2\" style=\"stroke: #383838; stroke-width: 1.0;\"/><polygon fill=\"#FFFFFF\" points=\"476.43,98.93,477.977,78.7407,490.7056,84.5701,476.43,98.93\" style=\"stroke: #383838; stroke-width: 1.0;\"/><ellipse cx=\"482.1687\" cy=\"74.3911\" fill=\"#383838\" rx=\"2\" ry=\"2\" style=\"stroke: #383838; stroke-width: 1.0;\"/><ellipse cx=\"491.2606\" cy=\"78.555\" fill=\"#383838\" rx=\"2\" ry=\"2\" style=\"stroke: #383838; stroke-width: 1.0;\"/></a><!--MD5=[0ceff746b6109e95a39bbaf4531aeb7c]\n",
       "@startuml\r\n",
       "skinparam ranksep 10\r\n",
       "skinparam rectangle {\r\n",
       " backgroundColor<<block>> LightGreen\r\n",
       "}\r\n",
       "top to bottom direction\r\n",
       "skinparam monochrome true\r\n",
       "skinparam classbackgroundcolor white\r\n",
       "skinparam shadowing false\r\n",
       "skinparam wrapWidth 300\r\n",
       "hide circle\r\n",
       "\r\n",
       "package \"ParameterTest\" as E1  [[psysml:adbc474a-2784-4828-be47-026fefc14932 ]]  {\r\n",
       "def \"A\" as E2  <<(T,blue) attribute def>> [[psysml:fa211d39-e6da-4efb-a07a-68e935dd1093 ]] \r\n",
       "comp usage \"a: A\" as E3  <<(T,blue) attribute>> [[psysml:665f7084-89dd-4cc9-a479-f70e09a77220 ]] {\r\n",
       "}\r\n",
       "rec def \"F\" as E4  <<(T,blue) calculation def>> [[psysml:ea0c6e06-a87b-4616-91bc-ba79196303d0 ]] {\r\n",
       "portin \"p\" as E5  [[psysml:e1d329d3-cb1e-45c3-b1d5-2fcf771779ef ]] \r\n",
       "portin \"q\" as E6  [[psysml:b499ebef-2d53-43ba-b86a-de9084e46bb3 ]] \r\n",
       "portout \"noname\" as E7  [[psysml:2e56002b-31e4-43bf-ad2b-cc6ef1aac7ab ]] \r\n",
       "}\r\n",
       "\r\n",
       "comp usage \"f\" as E8  <<(T,blue) attribute>> [[psysml:1ebb82ef-cdf5-4836-9887-d34bbc134ce1 ]] {\r\n",
       "}\r\n",
       "comp usage \"g\" as E9  <<(T,blue) attribute>> [[psysml:22e07e99-e7e6-486c-b8ca-f79edb8ad4e8 ]] {\r\n",
       "}\r\n",
       "comp usage \"b\" as E10  <<(T,blue) attribute>> [[psysml:a8be3d15-ac76-451a-a4cf-87ef8e02e637 ]] {\r\n",
       "}\r\n",
       "comp usage \"c\" as E11  <<(T,blue) attribute>> [[psysml:88e99412-8df3-4a94-a568-1984bea0c190 ]] {\r\n",
       "}\r\n",
       "E3 - -:|> E2 [[psysml:47946f32-7338-4adb-a6af-ffcb2b2265dd ]] \r\n",
       "}\r\n",
       "@enduml\r\n",
       "\n",
       "PlantUML version 1.2020.13(Sat Jun 13 12:26:38 UTC 2020)\n",
       "(EPL source distribution)\n",
       "Java Runtime: OpenJDK Runtime Environment\n",
       "JVM: OpenJDK 64-Bit Server VM\n",
       "Default Encoding: UTF-8\n",
       "Language: en\n",
       "Country: null\n",
       "--></g></svg>"
      ]
     },
     "execution_count": 47,
     "metadata": {},
     "output_type": "execute_result"
    }
   ],
   "source": [
    "%viz --style=\"TB\" --view=\"Interconnection\" \"ParameterTest\""
   ]
  },
  {
   "cell_type": "code",
   "execution_count": 48,
   "id": "54641dc5",
   "metadata": {
    "execution": {
     "iopub.execute_input": "2021-06-30T09:18:23.526070Z",
     "iopub.status.busy": "2021-06-30T09:18:23.524937Z",
     "iopub.status.idle": "2021-06-30T09:18:23.552516Z",
     "shell.execute_reply": "2021-06-30T09:18:23.552100Z"
    }
   },
   "outputs": [
    {
     "data": {
      "image/svg+xml": [
       "<?xml version=\"1.0\" encoding=\"UTF-8\" standalone=\"no\"?><svg xmlns=\"http://www.w3.org/2000/svg\" xmlns:xlink=\"http://www.w3.org/1999/xlink\" contentScriptType=\"application/ecmascript\" contentStyleType=\"text/css\" height=\"162px\" preserveAspectRatio=\"none\" style=\"width:166px;height:162px;\" version=\"1.1\" viewBox=\"0 0 166 162\" width=\"166px\" zoomAndPan=\"magnify\"><defs/><g><!--MD5=[fbc87193dbaf4d95561dea2c320d4a47]\n",
       "cluster E1--><a href=\"psysml:ea0c6e06-a87b-4616-91bc-ba79196303d0\" target=\"_top\" title=\"psysml:ea0c6e06-a87b-4616-91bc-ba79196303d0\" xlink:actuate=\"onRequest\" xlink:href=\"psysml:ea0c6e06-a87b-4616-91bc-ba79196303d0\" xlink:show=\"new\" xlink:title=\"psysml:ea0c6e06-a87b-4616-91bc-ba79196303d0\" xlink:type=\"simple\"><rect fill=\"#FFFFFF\" height=\"87.72\" id=\"E1\" style=\"stroke: #383838; stroke-width: 1.5;\" width=\"148\" x=\"7\" y=\"42.0986\"/><rect fill=\"#F8F8F8\" height=\"37.9375\" style=\"stroke: #383838; stroke-width: 1.5;\" width=\"148\" x=\"7\" y=\"42.0986\"/><text fill=\"#000000\" font-family=\"sans-serif\" font-size=\"12\" font-style=\"italic\" lengthAdjust=\"spacingAndGlyphs\" textLength=\"106\" x=\"28\" y=\"58.2373\">«calculation def»</text><text fill=\"#000000\" font-family=\"sans-serif\" font-size=\"12\" lengthAdjust=\"spacingAndGlyphs\" textLength=\"7\" x=\"77.5\" y=\"72.2061\">F</text></a><text fill=\"#000000\" font-family=\"sans-serif\" font-size=\"14\" lengthAdjust=\"spacingAndGlyphs\" textLength=\"9\" x=\"20.5\" y=\"20.7969\">p</text><rect fill=\"#383838\" height=\"12\" style=\"stroke: #F8F8F8; stroke-width: 1.5;\" width=\"12\" x=\"19\" y=\"36.0986\"/><text fill=\"#000000\" font-family=\"sans-serif\" font-size=\"14\" lengthAdjust=\"spacingAndGlyphs\" textLength=\"9\" x=\"67.5\" y=\"20.7969\">q</text><rect fill=\"#383838\" height=\"12\" style=\"stroke: #F8F8F8; stroke-width: 1.5;\" width=\"12\" x=\"66\" y=\"36.0986\"/><text fill=\"#000000\" font-family=\"sans-serif\" font-size=\"14\" lengthAdjust=\"spacingAndGlyphs\" textLength=\"57\" x=\"43.5\" y=\"148.8138\">noname</text><rect fill=\"#383838\" height=\"12\" style=\"stroke: #F8F8F8; stroke-width: 1.5;\" width=\"12\" x=\"66\" y=\"123.8186\"/><!--MD5=[3a8d856aaf70846f326b7debb597442e]\n",
       "@startuml\r\n",
       "skinparam ranksep 8\r\n",
       "top to bottom direction\r\n",
       "skinparam monochrome true\r\n",
       "skinparam classbackgroundcolor white\r\n",
       "skinparam shadowing false\r\n",
       "skinparam wrapWidth 300\r\n",
       "hide circle\r\n",
       "\r\n",
       "rec def \"F\" as E1  <<(T,blue) calculation def>> [[psysml:ea0c6e06-a87b-4616-91bc-ba79196303d0 ]] {\r\n",
       "portin \"p\" as E2  [[psysml:e1d329d3-cb1e-45c3-b1d5-2fcf771779ef ]] \r\n",
       "portin \"q\" as E3  [[psysml:b499ebef-2d53-43ba-b86a-de9084e46bb3 ]] \r\n",
       "portout \"noname\" as E4  [[psysml:2e56002b-31e4-43bf-ad2b-cc6ef1aac7ab ]] \r\n",
       "}\r\n",
       "\r\n",
       "@enduml\r\n",
       "\n",
       "PlantUML version 1.2020.13(Sat Jun 13 12:26:38 UTC 2020)\n",
       "(EPL source distribution)\n",
       "Java Runtime: OpenJDK Runtime Environment\n",
       "JVM: OpenJDK 64-Bit Server VM\n",
       "Default Encoding: UTF-8\n",
       "Language: en\n",
       "Country: null\n",
       "--></g></svg>"
      ]
     },
     "execution_count": 48,
     "metadata": {},
     "output_type": "execute_result"
    }
   ],
   "source": [
    "%viz --style=\"TB\" --view=\"Action\" \"ParameterTest\""
   ]
  },
  {
   "cell_type": "code",
   "execution_count": 49,
   "id": "d7aa1a4a",
   "metadata": {
    "execution": {
     "iopub.execute_input": "2021-06-30T09:18:23.606531Z",
     "iopub.status.busy": "2021-06-30T09:18:23.603922Z",
     "iopub.status.idle": "2021-06-30T09:18:23.655383Z",
     "shell.execute_reply": "2021-06-30T09:18:23.652223Z"
    }
   },
   "outputs": [
    {
     "data": {
      "image/svg+xml": [
       "<?xml version=\"1.0\" encoding=\"UTF-8\" standalone=\"no\"?><svg xmlns=\"http://www.w3.org/2000/svg\" xmlns:xlink=\"http://www.w3.org/1999/xlink\" contentScriptType=\"application/ecmascript\" contentStyleType=\"text/css\" height=\"280px\" preserveAspectRatio=\"none\" style=\"width:710px;height:280px;\" version=\"1.1\" viewBox=\"0 0 710 280\" width=\"710px\" zoomAndPan=\"magnify\"><defs/><g><!--MD5=[fbc87193dbaf4d95561dea2c320d4a47]\n",
       "cluster E1--><a href=\"psysml:adbc474a-2784-4828-be47-026fefc14932\" target=\"_top\" title=\"psysml:adbc474a-2784-4828-be47-026fefc14932\" xlink:actuate=\"onRequest\" xlink:href=\"psysml:adbc474a-2784-4828-be47-026fefc14932\" xlink:show=\"new\" xlink:title=\"psysml:adbc474a-2784-4828-be47-026fefc14932\" xlink:type=\"simple\"><polygon fill=\"#FFFFFF\" points=\"16,6,139,6,146,28.2969,688,28.2969,688,268,16,268,16,6\" style=\"stroke: #000000; stroke-width: 1.5;\"/><line style=\"stroke: #000000; stroke-width: 1.5;\" x1=\"16\" x2=\"146\" y1=\"28.2969\" y2=\"28.2969\"/><text fill=\"#000000\" font-family=\"sans-serif\" font-size=\"14\" font-weight=\"bold\" lengthAdjust=\"spacingAndGlyphs\" textLength=\"117\" x=\"20\" y=\"20.9951\">ParameterTest</text></a><!--MD5=[b4997ac47864f28c2f74865a473b2911]\n",
       "class E2--><a href=\"psysml:fa211d39-e6da-4efb-a07a-68e935dd1093\" target=\"_top\" title=\"psysml:fa211d39-e6da-4efb-a07a-68e935dd1093\" xlink:actuate=\"onRequest\" xlink:href=\"psysml:fa211d39-e6da-4efb-a07a-68e935dd1093\" xlink:show=\"new\" xlink:title=\"psysml:fa211d39-e6da-4efb-a07a-68e935dd1093\" xlink:type=\"simple\"><rect fill=\"#FFFFFF\" height=\"88.3516\" id=\"E2\" style=\"stroke: #383838; stroke-width: 1.5;\" width=\"95\" x=\"498.5\" y=\"164\"/><text fill=\"#000000\" font-family=\"sans-serif\" font-size=\"12\" font-style=\"italic\" lengthAdjust=\"spacingAndGlyphs\" textLength=\"93\" x=\"499.5\" y=\"180.1387\">«attribute def»</text><text fill=\"#000000\" font-family=\"sans-serif\" font-size=\"12\" lengthAdjust=\"spacingAndGlyphs\" textLength=\"8\" x=\"542\" y=\"194.1074\">A</text><line style=\"stroke: #383838; stroke-width: 1.5;\" x1=\"499.5\" x2=\"592.5\" y1=\"201.9375\" y2=\"201.9375\"/><text fill=\"#000000\" font-family=\"sans-serif\" font-size=\"11\" lengthAdjust=\"spacingAndGlyphs\" textLength=\"48\" x=\"504.5\" y=\"232.9526\">x: String</text><text fill=\"#000000\" font-family=\"sans-serif\" font-size=\"11\" lengthAdjust=\"spacingAndGlyphs\" textLength=\"21\" x=\"504.5\" y=\"245.7573\">y: A</text><line style=\"stroke: #383838; stroke-width: 1.0;\" x1=\"499.5\" x2=\"518.5\" y1=\"216.3398\" y2=\"216.3398\"/><text fill=\"#000000\" font-family=\"sans-serif\" font-size=\"11\" lengthAdjust=\"spacingAndGlyphs\" textLength=\"55\" x=\"518.5\" y=\"219.6479\">attributes</text><line style=\"stroke: #383838; stroke-width: 1.0;\" x1=\"573.5\" x2=\"592.5\" y1=\"216.3398\" y2=\"216.3398\"/></a><!--MD5=[09b614a08d8cba4a07c9adeb5e0fee81]\n",
       "class E3--><a href=\"psysml:665f7084-89dd-4cc9-a479-f70e09a77220\" target=\"_top\" title=\"psysml:665f7084-89dd-4cc9-a479-f70e09a77220\" xlink:actuate=\"onRequest\" xlink:href=\"psysml:665f7084-89dd-4cc9-a479-f70e09a77220\" xlink:show=\"new\" xlink:title=\"psysml:665f7084-89dd-4cc9-a479-f70e09a77220\" xlink:type=\"simple\"><rect fill=\"#FFFFFF\" height=\"45.9375\" id=\"E3\" rx=\"10\" ry=\"10\" style=\"stroke: #383838; stroke-width: 1.5;\" width=\"71\" x=\"600.5\" y=\"41\"/><text fill=\"#000000\" font-family=\"sans-serif\" font-size=\"12\" font-style=\"italic\" lengthAdjust=\"spacingAndGlyphs\" textLength=\"69\" x=\"601.5\" y=\"57.1387\">«attribute»</text><text fill=\"#000000\" font-family=\"sans-serif\" font-size=\"12\" lengthAdjust=\"spacingAndGlyphs\" textLength=\"24\" x=\"624\" y=\"71.1074\">a: A</text><line style=\"stroke: #383838; stroke-width: 1.5;\" x1=\"601.5\" x2=\"670.5\" y1=\"78.9375\" y2=\"78.9375\"/></a><!--MD5=[ebbe1d658d1005bcc118a6aa81145e00]\n",
       "class E4--><a href=\"psysml:ea0c6e06-a87b-4616-91bc-ba79196303d0\" target=\"_top\" title=\"psysml:ea0c6e06-a87b-4616-91bc-ba79196303d0\" xlink:actuate=\"onRequest\" xlink:href=\"psysml:ea0c6e06-a87b-4616-91bc-ba79196303d0\" xlink:show=\"new\" xlink:title=\"psysml:ea0c6e06-a87b-4616-91bc-ba79196303d0\" xlink:type=\"simple\"><rect fill=\"#FFFFFF\" height=\"45.9375\" id=\"E4\" style=\"stroke: #383838; stroke-width: 1.5;\" width=\"108\" x=\"457\" y=\"41\"/><text fill=\"#000000\" font-family=\"sans-serif\" font-size=\"12\" font-style=\"italic\" lengthAdjust=\"spacingAndGlyphs\" textLength=\"106\" x=\"458\" y=\"57.1387\">«calculation def»</text><text fill=\"#000000\" font-family=\"sans-serif\" font-size=\"12\" lengthAdjust=\"spacingAndGlyphs\" textLength=\"7\" x=\"507.5\" y=\"71.1074\">F</text><line style=\"stroke: #383838; stroke-width: 1.5;\" x1=\"458\" x2=\"564\" y1=\"78.9375\" y2=\"78.9375\"/></a><!--MD5=[270fce915f116d4de14055a7c1d9a0f3]\n",
       "class E5--><a href=\"psysml:1ebb82ef-cdf5-4836-9887-d34bbc134ce1\" target=\"_top\" title=\"psysml:1ebb82ef-cdf5-4836-9887-d34bbc134ce1\" xlink:actuate=\"onRequest\" xlink:href=\"psysml:1ebb82ef-cdf5-4836-9887-d34bbc134ce1\" xlink:show=\"new\" xlink:title=\"psysml:1ebb82ef-cdf5-4836-9887-d34bbc134ce1\" xlink:type=\"simple\"><rect fill=\"#FFFFFF\" height=\"45.9375\" id=\"E5\" rx=\"10\" ry=\"10\" style=\"stroke: #383838; stroke-width: 1.5;\" width=\"71\" x=\"350.5\" y=\"41\"/><text fill=\"#000000\" font-family=\"sans-serif\" font-size=\"12\" font-style=\"italic\" lengthAdjust=\"spacingAndGlyphs\" textLength=\"69\" x=\"351.5\" y=\"57.1387\">«attribute»</text><text fill=\"#000000\" font-family=\"sans-serif\" font-size=\"12\" lengthAdjust=\"spacingAndGlyphs\" textLength=\"4\" x=\"384\" y=\"71.1074\">f</text><line style=\"stroke: #383838; stroke-width: 1.5;\" x1=\"351.5\" x2=\"420.5\" y1=\"78.9375\" y2=\"78.9375\"/></a><!--MD5=[60a26617385b1d2d0262a64233df1f8d]\n",
       "class E6--><a href=\"psysml:22e07e99-e7e6-486c-b8ca-f79edb8ad4e8\" target=\"_top\" title=\"psysml:22e07e99-e7e6-486c-b8ca-f79edb8ad4e8\" xlink:actuate=\"onRequest\" xlink:href=\"psysml:22e07e99-e7e6-486c-b8ca-f79edb8ad4e8\" xlink:show=\"new\" xlink:title=\"psysml:22e07e99-e7e6-486c-b8ca-f79edb8ad4e8\" xlink:type=\"simple\"><rect fill=\"#FFFFFF\" height=\"45.9375\" id=\"E6\" rx=\"10\" ry=\"10\" style=\"stroke: #383838; stroke-width: 1.5;\" width=\"71\" x=\"244.5\" y=\"41\"/><text fill=\"#000000\" font-family=\"sans-serif\" font-size=\"12\" font-style=\"italic\" lengthAdjust=\"spacingAndGlyphs\" textLength=\"69\" x=\"245.5\" y=\"57.1387\">«attribute»</text><text fill=\"#000000\" font-family=\"sans-serif\" font-size=\"12\" lengthAdjust=\"spacingAndGlyphs\" textLength=\"8\" x=\"276\" y=\"71.1074\">g</text><line style=\"stroke: #383838; stroke-width: 1.5;\" x1=\"245.5\" x2=\"314.5\" y1=\"78.9375\" y2=\"78.9375\"/></a><!--MD5=[2156ba9850f5573cc1fc38a6a4b2f02b]\n",
       "class E7--><a href=\"psysml:a8be3d15-ac76-451a-a4cf-87ef8e02e637\" target=\"_top\" title=\"psysml:a8be3d15-ac76-451a-a4cf-87ef8e02e637\" xlink:actuate=\"onRequest\" xlink:href=\"psysml:a8be3d15-ac76-451a-a4cf-87ef8e02e637\" xlink:show=\"new\" xlink:title=\"psysml:a8be3d15-ac76-451a-a4cf-87ef8e02e637\" xlink:type=\"simple\"><rect fill=\"#FFFFFF\" height=\"45.9375\" id=\"E7\" rx=\"10\" ry=\"10\" style=\"stroke: #383838; stroke-width: 1.5;\" width=\"71\" x=\"138.5\" y=\"41\"/><text fill=\"#000000\" font-family=\"sans-serif\" font-size=\"12\" font-style=\"italic\" lengthAdjust=\"spacingAndGlyphs\" textLength=\"69\" x=\"139.5\" y=\"57.1387\">«attribute»</text><text fill=\"#000000\" font-family=\"sans-serif\" font-size=\"12\" lengthAdjust=\"spacingAndGlyphs\" textLength=\"8\" x=\"170\" y=\"71.1074\">b</text><line style=\"stroke: #383838; stroke-width: 1.5;\" x1=\"139.5\" x2=\"208.5\" y1=\"78.9375\" y2=\"78.9375\"/></a><!--MD5=[b9389687b975829384b498ac4b7476b2]\n",
       "class E8--><a href=\"psysml:88e99412-8df3-4a94-a568-1984bea0c190\" target=\"_top\" title=\"psysml:88e99412-8df3-4a94-a568-1984bea0c190\" xlink:actuate=\"onRequest\" xlink:href=\"psysml:88e99412-8df3-4a94-a568-1984bea0c190\" xlink:show=\"new\" xlink:title=\"psysml:88e99412-8df3-4a94-a568-1984bea0c190\" xlink:type=\"simple\"><rect fill=\"#FFFFFF\" height=\"45.9375\" id=\"E8\" rx=\"10\" ry=\"10\" style=\"stroke: #383838; stroke-width: 1.5;\" width=\"71\" x=\"32.5\" y=\"41\"/><text fill=\"#000000\" font-family=\"sans-serif\" font-size=\"12\" font-style=\"italic\" lengthAdjust=\"spacingAndGlyphs\" textLength=\"69\" x=\"33.5\" y=\"57.1387\">«attribute»</text><text fill=\"#000000\" font-family=\"sans-serif\" font-size=\"12\" lengthAdjust=\"spacingAndGlyphs\" textLength=\"7\" x=\"64.5\" y=\"71.1074\">c</text><line style=\"stroke: #383838; stroke-width: 1.5;\" x1=\"33.5\" x2=\"102.5\" y1=\"78.9375\" y2=\"78.9375\"/></a><!--MD5=[05d275557350bfb9b23a4ef7222b4c39]\n",
       "link E3 to E2--><a href=\"psysml:47946f32-7338-4adb-a6af-ffcb2b2265dd\" target=\"_top\" title=\"psysml:47946f32-7338-4adb-a6af-ffcb2b2265dd\" xlink:actuate=\"onRequest\" xlink:href=\"psysml:47946f32-7338-4adb-a6af-ffcb2b2265dd\" xlink:show=\"new\" xlink:title=\"psysml:47946f32-7338-4adb-a6af-ffcb2b2265dd\" xlink:type=\"simple\"><path d=\"M621.94,87.19 C611.77,103.23 597.51,125.73 584.09,146.9 \" fill=\"none\" id=\"E3-&gt;E2\" style=\"stroke: #383838; stroke-width: 1.0;\"/><polygon fill=\"#FFFFFF\" points=\"573.37,163.82,577.6195,144.0225,589.448,151.5115,573.37,163.82\" style=\"stroke: #383838; stroke-width: 1.0;\"/><ellipse cx=\"582.3584\" cy=\"140.2764\" fill=\"#383838\" rx=\"2\" ry=\"2\" style=\"stroke: #383838; stroke-width: 1.0;\"/><ellipse cx=\"590.8073\" cy=\"145.6258\" fill=\"#383838\" rx=\"2\" ry=\"2\" style=\"stroke: #383838; stroke-width: 1.0;\"/></a><!--MD5=[ddeed8deb2209213b62e6cfabaa108b2]\n",
       "reverse link E4 to E2--><a href=\"psysml:e1d329d3-cb1e-45c3-b1d5-2fcf771779ef\" target=\"_top\" title=\"psysml:e1d329d3-cb1e-45c3-b1d5-2fcf771779ef\" xlink:actuate=\"onRequest\" xlink:href=\"psysml:e1d329d3-cb1e-45c3-b1d5-2fcf771779ef\" xlink:show=\"new\" xlink:title=\"psysml:e1d329d3-cb1e-45c3-b1d5-2fcf771779ef\" xlink:type=\"simple\"><path d=\"M519.62,99.96 C524.37,119.25 530.31,143.36 535.36,163.82 \" fill=\"none\" id=\"E4&lt;-E2\" style=\"stroke: #383838; stroke-width: 1.0;\"/><polygon fill=\"#FFFFFF\" points=\"516.47,87.19,514.0229,93.9732,519.3432,98.841,521.7903,92.0577,516.47,87.19\" style=\"stroke: #383838; stroke-width: 1.0;\"/><text fill=\"#000000\" font-family=\"sans-serif\" font-size=\"13\" lengthAdjust=\"spacingAndGlyphs\" textLength=\"8\" x=\"528\" y=\"130.0669\">p</text></a><!--MD5=[708ea8581dc63da76c24ebb91f5b62ab]\n",
       "@startuml\r\n",
       "top to bottom direction\r\n",
       "skinparam monochrome true\r\n",
       "skinparam classbackgroundcolor white\r\n",
       "skinparam shadowing false\r\n",
       "skinparam wrapWidth 300\r\n",
       "hide circle\r\n",
       "\r\n",
       "package \"ParameterTest\" as E1  [[psysml:adbc474a-2784-4828-be47-026fefc14932 ]]  {\r\n",
       "comp def \"A\" as E2  <<(T,blue) attribute def>> [[psysml:fa211d39-e6da-4efb-a07a-68e935dd1093 ]] {\r\n",
       "- - attributes - -\r\n",
       "x: String\r\n",
       "y: A\r\n",
       "}\r\n",
       "comp usage \"a: A\" as E3  <<(T,blue) attribute>> [[psysml:665f7084-89dd-4cc9-a479-f70e09a77220 ]] {\r\n",
       "}\r\n",
       "comp def \"F\" as E4  <<(T,blue) calculation def>> [[psysml:ea0c6e06-a87b-4616-91bc-ba79196303d0 ]] {\r\n",
       "}\r\n",
       "comp usage \"f\" as E5  <<(T,blue) attribute>> [[psysml:1ebb82ef-cdf5-4836-9887-d34bbc134ce1 ]] {\r\n",
       "}\r\n",
       "comp usage \"g\" as E6  <<(T,blue) attribute>> [[psysml:22e07e99-e7e6-486c-b8ca-f79edb8ad4e8 ]] {\r\n",
       "}\r\n",
       "comp usage \"b\" as E7  <<(T,blue) attribute>> [[psysml:a8be3d15-ac76-451a-a4cf-87ef8e02e637 ]] {\r\n",
       "}\r\n",
       "comp usage \"c\" as E8  <<(T,blue) attribute>> [[psysml:88e99412-8df3-4a94-a568-1984bea0c190 ]] {\r\n",
       "}\r\n",
       "E3 - -:|> E2 [[psysml:47946f32-7338-4adb-a6af-ffcb2b2265dd ]] \r\n",
       "E4 o- - E2 [[psysml:e1d329d3-cb1e-45c3-b1d5-2fcf771779ef ]] : p\r\n",
       "}\r\n",
       "@enduml\r\n",
       "\n",
       "PlantUML version 1.2020.13(Sat Jun 13 12:26:38 UTC 2020)\n",
       "(EPL source distribution)\n",
       "Java Runtime: OpenJDK Runtime Environment\n",
       "JVM: OpenJDK 64-Bit Server VM\n",
       "Default Encoding: UTF-8\n",
       "Language: en\n",
       "Country: null\n",
       "--></g></svg>"
      ]
     },
     "execution_count": 49,
     "metadata": {},
     "output_type": "execute_result"
    }
   ],
   "source": [
    "%viz --style=\"TB\" --view=\"Sequence\" \"ParameterTest\""
   ]
  },
  {
   "cell_type": "code",
   "execution_count": 50,
   "id": "1e0bf25e",
   "metadata": {
    "execution": {
     "iopub.execute_input": "2021-06-30T09:18:23.704519Z",
     "iopub.status.busy": "2021-06-30T09:18:23.703111Z",
     "iopub.status.idle": "2021-06-30T09:18:23.757993Z",
     "shell.execute_reply": "2021-06-30T09:18:23.756508Z"
    }
   },
   "outputs": [
    {
     "data": {
      "image/svg+xml": [
       "<?xml version=\"1.0\" encoding=\"UTF-8\" standalone=\"no\"?><svg xmlns=\"http://www.w3.org/2000/svg\" xmlns:xlink=\"http://www.w3.org/1999/xlink\" contentScriptType=\"application/ecmascript\" contentStyleType=\"text/css\" height=\"403px\" preserveAspectRatio=\"none\" style=\"width:740px;height:403px;\" version=\"1.1\" viewBox=\"0 0 740 403\" width=\"740px\" zoomAndPan=\"magnify\"><defs/><g><!--MD5=[fbc87193dbaf4d95561dea2c320d4a47]\n",
       "cluster E1--><a href=\"psysml:adbc474a-2784-4828-be47-026fefc14932\" target=\"_top\" title=\"psysml:adbc474a-2784-4828-be47-026fefc14932\" xlink:actuate=\"onRequest\" xlink:href=\"psysml:adbc474a-2784-4828-be47-026fefc14932\" xlink:show=\"new\" xlink:title=\"psysml:adbc474a-2784-4828-be47-026fefc14932\" xlink:type=\"simple\"><polygon fill=\"#FFFFFF\" points=\"16,6,139,6,146,28.2969,718,28.2969,718,391.72,16,391.72,16,6\" style=\"stroke: #000000; stroke-width: 1.5;\"/><line style=\"stroke: #000000; stroke-width: 1.5;\" x1=\"16\" x2=\"146\" y1=\"28.2969\" y2=\"28.2969\"/><text fill=\"#000000\" font-family=\"sans-serif\" font-size=\"14\" font-weight=\"bold\" lengthAdjust=\"spacingAndGlyphs\" textLength=\"117\" x=\"20\" y=\"20.9951\">ParameterTest</text></a><!--MD5=[f6df4d0ebaf0b5dfb2ced0ae5af7c670]\n",
       "cluster E4--><a href=\"psysml:ea0c6e06-a87b-4616-91bc-ba79196303d0\" target=\"_top\" title=\"psysml:ea0c6e06-a87b-4616-91bc-ba79196303d0\" xlink:actuate=\"onRequest\" xlink:href=\"psysml:ea0c6e06-a87b-4616-91bc-ba79196303d0\" xlink:show=\"new\" xlink:title=\"psysml:ea0c6e06-a87b-4616-91bc-ba79196303d0\" xlink:type=\"simple\"><rect fill=\"#FFFFFF\" height=\"297.72\" id=\"E4\" style=\"stroke: #383838; stroke-width: 1.5;\" width=\"148\" x=\"554\" y=\"64\"/><rect fill=\"#F8F8F8\" height=\"37.9375\" style=\"stroke: #383838; stroke-width: 1.5;\" width=\"148\" x=\"554\" y=\"64\"/><text fill=\"#000000\" font-family=\"sans-serif\" font-size=\"12\" font-style=\"italic\" lengthAdjust=\"spacingAndGlyphs\" textLength=\"106\" x=\"575\" y=\"80.1387\">«calculation def»</text><text fill=\"#000000\" font-family=\"sans-serif\" font-size=\"12\" lengthAdjust=\"spacingAndGlyphs\" textLength=\"7\" x=\"624.5\" y=\"94.1074\">F</text></a><!--MD5=[b4997ac47864f28c2f74865a473b2911]\n",
       "class E2--><a href=\"psysml:fa211d39-e6da-4efb-a07a-68e935dd1093\" target=\"_top\" title=\"psysml:fa211d39-e6da-4efb-a07a-68e935dd1093\" xlink:actuate=\"onRequest\" xlink:href=\"psysml:fa211d39-e6da-4efb-a07a-68e935dd1093\" xlink:show=\"new\" xlink:title=\"psysml:fa211d39-e6da-4efb-a07a-68e935dd1093\" xlink:type=\"simple\"><rect fill=\"#FFFFFF\" height=\"88.3516\" id=\"E2\" style=\"stroke: #383838; stroke-width: 1.5;\" width=\"95\" x=\"422.5\" y=\"147\"/><text fill=\"#000000\" font-family=\"sans-serif\" font-size=\"12\" font-style=\"italic\" lengthAdjust=\"spacingAndGlyphs\" textLength=\"93\" x=\"423.5\" y=\"163.1387\">«attribute def»</text><text fill=\"#000000\" font-family=\"sans-serif\" font-size=\"12\" lengthAdjust=\"spacingAndGlyphs\" textLength=\"8\" x=\"466\" y=\"177.1074\">A</text><line style=\"stroke: #383838; stroke-width: 1.5;\" x1=\"423.5\" x2=\"516.5\" y1=\"184.9375\" y2=\"184.9375\"/><text fill=\"#000000\" font-family=\"sans-serif\" font-size=\"11\" lengthAdjust=\"spacingAndGlyphs\" textLength=\"48\" x=\"428.5\" y=\"215.9526\">x: String</text><text fill=\"#000000\" font-family=\"sans-serif\" font-size=\"11\" lengthAdjust=\"spacingAndGlyphs\" textLength=\"21\" x=\"428.5\" y=\"228.7573\">y: A</text><line style=\"stroke: #383838; stroke-width: 1.0;\" x1=\"423.5\" x2=\"442.5\" y1=\"199.3398\" y2=\"199.3398\"/><text fill=\"#000000\" font-family=\"sans-serif\" font-size=\"11\" lengthAdjust=\"spacingAndGlyphs\" textLength=\"55\" x=\"442.5\" y=\"202.6479\">attributes</text><line style=\"stroke: #383838; stroke-width: 1.0;\" x1=\"497.5\" x2=\"516.5\" y1=\"199.3398\" y2=\"199.3398\"/></a><!--MD5=[09b614a08d8cba4a07c9adeb5e0fee81]\n",
       "class E3--><a href=\"psysml:665f7084-89dd-4cc9-a479-f70e09a77220\" target=\"_top\" title=\"psysml:665f7084-89dd-4cc9-a479-f70e09a77220\" xlink:actuate=\"onRequest\" xlink:href=\"psysml:665f7084-89dd-4cc9-a479-f70e09a77220\" xlink:show=\"new\" xlink:title=\"psysml:665f7084-89dd-4cc9-a479-f70e09a77220\" xlink:type=\"simple\"><rect fill=\"#FFFFFF\" height=\"45.9375\" id=\"E3\" rx=\"10\" ry=\"10\" style=\"stroke: #383838; stroke-width: 1.5;\" width=\"71\" x=\"456.5\" y=\"41\"/><text fill=\"#000000\" font-family=\"sans-serif\" font-size=\"12\" font-style=\"italic\" lengthAdjust=\"spacingAndGlyphs\" textLength=\"69\" x=\"457.5\" y=\"57.1387\">«attribute»</text><text fill=\"#000000\" font-family=\"sans-serif\" font-size=\"12\" lengthAdjust=\"spacingAndGlyphs\" textLength=\"24\" x=\"480\" y=\"71.1074\">a: A</text><line style=\"stroke: #383838; stroke-width: 1.5;\" x1=\"457.5\" x2=\"526.5\" y1=\"78.9375\" y2=\"78.9375\"/></a><!--MD5=[b9389687b975829384b498ac4b7476b2]\n",
       "class E8--><a href=\"psysml:1ebb82ef-cdf5-4836-9887-d34bbc134ce1\" target=\"_top\" title=\"psysml:1ebb82ef-cdf5-4836-9887-d34bbc134ce1\" xlink:actuate=\"onRequest\" xlink:href=\"psysml:1ebb82ef-cdf5-4836-9887-d34bbc134ce1\" xlink:show=\"new\" xlink:title=\"psysml:1ebb82ef-cdf5-4836-9887-d34bbc134ce1\" xlink:type=\"simple\"><rect fill=\"#FFFFFF\" height=\"45.9375\" id=\"E8\" rx=\"10\" ry=\"10\" style=\"stroke: #383838; stroke-width: 1.5;\" width=\"71\" x=\"350.5\" y=\"41\"/><text fill=\"#000000\" font-family=\"sans-serif\" font-size=\"12\" font-style=\"italic\" lengthAdjust=\"spacingAndGlyphs\" textLength=\"69\" x=\"351.5\" y=\"57.1387\">«attribute»</text><text fill=\"#000000\" font-family=\"sans-serif\" font-size=\"12\" lengthAdjust=\"spacingAndGlyphs\" textLength=\"4\" x=\"384\" y=\"71.1074\">f</text><line style=\"stroke: #383838; stroke-width: 1.5;\" x1=\"351.5\" x2=\"420.5\" y1=\"78.9375\" y2=\"78.9375\"/></a><!--MD5=[fd4143e9d270a159db93a4ea2a975926]\n",
       "class E9--><a href=\"psysml:22e07e99-e7e6-486c-b8ca-f79edb8ad4e8\" target=\"_top\" title=\"psysml:22e07e99-e7e6-486c-b8ca-f79edb8ad4e8\" xlink:actuate=\"onRequest\" xlink:href=\"psysml:22e07e99-e7e6-486c-b8ca-f79edb8ad4e8\" xlink:show=\"new\" xlink:title=\"psysml:22e07e99-e7e6-486c-b8ca-f79edb8ad4e8\" xlink:type=\"simple\"><rect fill=\"#FFFFFF\" height=\"45.9375\" id=\"E9\" rx=\"10\" ry=\"10\" style=\"stroke: #383838; stroke-width: 1.5;\" width=\"71\" x=\"244.5\" y=\"41\"/><text fill=\"#000000\" font-family=\"sans-serif\" font-size=\"12\" font-style=\"italic\" lengthAdjust=\"spacingAndGlyphs\" textLength=\"69\" x=\"245.5\" y=\"57.1387\">«attribute»</text><text fill=\"#000000\" font-family=\"sans-serif\" font-size=\"12\" lengthAdjust=\"spacingAndGlyphs\" textLength=\"8\" x=\"276\" y=\"71.1074\">g</text><line style=\"stroke: #383838; stroke-width: 1.5;\" x1=\"245.5\" x2=\"314.5\" y1=\"78.9375\" y2=\"78.9375\"/></a><!--MD5=[96f4274e9e20536e775497830990834d]\n",
       "class E10--><a href=\"psysml:a8be3d15-ac76-451a-a4cf-87ef8e02e637\" target=\"_top\" title=\"psysml:a8be3d15-ac76-451a-a4cf-87ef8e02e637\" xlink:actuate=\"onRequest\" xlink:href=\"psysml:a8be3d15-ac76-451a-a4cf-87ef8e02e637\" xlink:show=\"new\" xlink:title=\"psysml:a8be3d15-ac76-451a-a4cf-87ef8e02e637\" xlink:type=\"simple\"><rect fill=\"#FFFFFF\" height=\"45.9375\" id=\"E10\" rx=\"10\" ry=\"10\" style=\"stroke: #383838; stroke-width: 1.5;\" width=\"71\" x=\"138.5\" y=\"41\"/><text fill=\"#000000\" font-family=\"sans-serif\" font-size=\"12\" font-style=\"italic\" lengthAdjust=\"spacingAndGlyphs\" textLength=\"69\" x=\"139.5\" y=\"57.1387\">«attribute»</text><text fill=\"#000000\" font-family=\"sans-serif\" font-size=\"12\" lengthAdjust=\"spacingAndGlyphs\" textLength=\"8\" x=\"170\" y=\"71.1074\">b</text><line style=\"stroke: #383838; stroke-width: 1.5;\" x1=\"139.5\" x2=\"208.5\" y1=\"78.9375\" y2=\"78.9375\"/></a><!--MD5=[1dd1bfd58a279cf63c5f349dbc8fc6a1]\n",
       "class E11--><a href=\"psysml:88e99412-8df3-4a94-a568-1984bea0c190\" target=\"_top\" title=\"psysml:88e99412-8df3-4a94-a568-1984bea0c190\" xlink:actuate=\"onRequest\" xlink:href=\"psysml:88e99412-8df3-4a94-a568-1984bea0c190\" xlink:show=\"new\" xlink:title=\"psysml:88e99412-8df3-4a94-a568-1984bea0c190\" xlink:type=\"simple\"><rect fill=\"#FFFFFF\" height=\"45.9375\" id=\"E11\" rx=\"10\" ry=\"10\" style=\"stroke: #383838; stroke-width: 1.5;\" width=\"71\" x=\"32.5\" y=\"41\"/><text fill=\"#000000\" font-family=\"sans-serif\" font-size=\"12\" font-style=\"italic\" lengthAdjust=\"spacingAndGlyphs\" textLength=\"69\" x=\"33.5\" y=\"57.1387\">«attribute»</text><text fill=\"#000000\" font-family=\"sans-serif\" font-size=\"12\" lengthAdjust=\"spacingAndGlyphs\" textLength=\"7\" x=\"64.5\" y=\"71.1074\">c</text><line style=\"stroke: #383838; stroke-width: 1.5;\" x1=\"33.5\" x2=\"102.5\" y1=\"78.9375\" y2=\"78.9375\"/></a><text fill=\"#000000\" font-family=\"sans-serif\" font-size=\"14\" lengthAdjust=\"spacingAndGlyphs\" textLength=\"9\" x=\"567.5\" y=\"42.6982\">p</text><rect fill=\"#383838\" height=\"12\" style=\"stroke: #F8F8F8; stroke-width: 1.5;\" width=\"12\" x=\"566\" y=\"58\"/><text fill=\"#000000\" font-family=\"sans-serif\" font-size=\"14\" lengthAdjust=\"spacingAndGlyphs\" textLength=\"9\" x=\"614.5\" y=\"42.6982\">q</text><rect fill=\"#383838\" height=\"12\" style=\"stroke: #F8F8F8; stroke-width: 1.5;\" width=\"12\" x=\"613\" y=\"58\"/><text fill=\"#000000\" font-family=\"sans-serif\" font-size=\"14\" lengthAdjust=\"spacingAndGlyphs\" textLength=\"57\" x=\"590.5\" y=\"380.7151\">noname</text><rect fill=\"#383838\" height=\"12\" style=\"stroke: #F8F8F8; stroke-width: 1.5;\" width=\"12\" x=\"613\" y=\"355.72\"/><!--MD5=[05d275557350bfb9b23a4ef7222b4c39]\n",
       "link E3 to E2--><a href=\"psysml:47946f32-7338-4adb-a6af-ffcb2b2265dd\" target=\"_top\" title=\"psysml:47946f32-7338-4adb-a6af-ffcb2b2265dd\" xlink:actuate=\"onRequest\" xlink:href=\"psysml:47946f32-7338-4adb-a6af-ffcb2b2265dd\" xlink:show=\"new\" xlink:title=\"psysml:47946f32-7338-4adb-a6af-ffcb2b2265dd\" xlink:type=\"simple\"><path d=\"M488.12,87.06 C486.14,98.3 483.62,112.6 481.1,126.95 \" fill=\"none\" id=\"E3-&gt;E2\" style=\"stroke: #383838; stroke-width: 1.0;\"/><polygon fill=\"#FFFFFF\" points=\"477.58,146.93,473.9835,127.0035,487.7711,129.4331,477.58,146.93\" style=\"stroke: #383838; stroke-width: 1.0;\"/><ellipse cx=\"476.9423\" cy=\"121.7371\" fill=\"#383838\" rx=\"2\" ry=\"2\" style=\"stroke: #383838; stroke-width: 1.0;\"/><ellipse cx=\"486.7906\" cy=\"123.4725\" fill=\"#383838\" rx=\"2\" ry=\"2\" style=\"stroke: #383838; stroke-width: 1.0;\"/></a><!--MD5=[f9d0da52cdd6ab5ecc292f0ad1df0d8c]\n",
       "@startuml\r\n",
       "top to bottom direction\r\n",
       "skinparam monochrome true\r\n",
       "skinparam classbackgroundcolor white\r\n",
       "skinparam shadowing false\r\n",
       "skinparam wrapWidth 300\r\n",
       "hide circle\r\n",
       "\r\n",
       "package \"ParameterTest\" as E1  [[psysml:adbc474a-2784-4828-be47-026fefc14932 ]]  {\r\n",
       "comp def \"A\" as E2  <<(T,blue) attribute def>> [[psysml:fa211d39-e6da-4efb-a07a-68e935dd1093 ]] {\r\n",
       "- - attributes - -\r\n",
       "x: String\r\n",
       "y: A\r\n",
       "}\r\n",
       "comp usage \"a: A\" as E3  <<(T,blue) attribute>> [[psysml:665f7084-89dd-4cc9-a479-f70e09a77220 ]] {\r\n",
       "}\r\n",
       "rec def \"F\" as E4  <<(T,blue) calculation def>> [[psysml:ea0c6e06-a87b-4616-91bc-ba79196303d0 ]] {\r\n",
       "portin \"p\" as E5  [[psysml:e1d329d3-cb1e-45c3-b1d5-2fcf771779ef ]] \r\n",
       "portin \"q\" as E6  [[psysml:b499ebef-2d53-43ba-b86a-de9084e46bb3 ]] \r\n",
       "portout \"noname\" as E7  [[psysml:2e56002b-31e4-43bf-ad2b-cc6ef1aac7ab ]] \r\n",
       "}\r\n",
       "\r\n",
       "comp usage \"f\" as E8  <<(T,blue) attribute>> [[psysml:1ebb82ef-cdf5-4836-9887-d34bbc134ce1 ]] {\r\n",
       "}\r\n",
       "comp usage \"g\" as E9  <<(T,blue) attribute>> [[psysml:22e07e99-e7e6-486c-b8ca-f79edb8ad4e8 ]] {\r\n",
       "}\r\n",
       "comp usage \"b\" as E10  <<(T,blue) attribute>> [[psysml:a8be3d15-ac76-451a-a4cf-87ef8e02e637 ]] {\r\n",
       "}\r\n",
       "comp usage \"c\" as E11  <<(T,blue) attribute>> [[psysml:88e99412-8df3-4a94-a568-1984bea0c190 ]] {\r\n",
       "}\r\n",
       "E3 - -:|> E2 [[psysml:47946f32-7338-4adb-a6af-ffcb2b2265dd ]] \r\n",
       "}\r\n",
       "@enduml\r\n",
       "\n",
       "PlantUML version 1.2020.13(Sat Jun 13 12:26:38 UTC 2020)\n",
       "(EPL source distribution)\n",
       "Java Runtime: OpenJDK Runtime Environment\n",
       "JVM: OpenJDK 64-Bit Server VM\n",
       "Default Encoding: UTF-8\n",
       "Language: en\n",
       "Country: null\n",
       "--></g></svg>"
      ]
     },
     "execution_count": 50,
     "metadata": {},
     "output_type": "execute_result"
    }
   ],
   "source": [
    "%viz --style=\"TB\" --view=\"MIXED\" \"ParameterTest\""
   ]
  },
  {
   "cell_type": "code",
   "execution_count": 51,
   "id": "f1395377",
   "metadata": {
    "execution": {
     "iopub.execute_input": "2021-06-30T09:18:23.807519Z",
     "iopub.status.busy": "2021-06-30T09:18:23.807190Z",
     "iopub.status.idle": "2021-06-30T09:18:23.872420Z",
     "shell.execute_reply": "2021-06-30T09:18:23.869188Z"
    }
   },
   "outputs": [
    {
     "data": {
      "image/svg+xml": [
       "<?xml version=\"1.0\" encoding=\"UTF-8\" standalone=\"no\"?><svg xmlns=\"http://www.w3.org/2000/svg\" xmlns:xlink=\"http://www.w3.org/1999/xlink\" contentScriptType=\"application/ecmascript\" contentStyleType=\"text/css\" height=\"403px\" preserveAspectRatio=\"none\" style=\"width:740px;height:403px;\" version=\"1.1\" viewBox=\"0 0 740 403\" width=\"740px\" zoomAndPan=\"magnify\"><defs/><g><!--MD5=[fbc87193dbaf4d95561dea2c320d4a47]\n",
       "cluster E1--><a href=\"psysml:adbc474a-2784-4828-be47-026fefc14932\" target=\"_top\" title=\"psysml:adbc474a-2784-4828-be47-026fefc14932\" xlink:actuate=\"onRequest\" xlink:href=\"psysml:adbc474a-2784-4828-be47-026fefc14932\" xlink:show=\"new\" xlink:title=\"psysml:adbc474a-2784-4828-be47-026fefc14932\" xlink:type=\"simple\"><polygon fill=\"#FFFFFF\" points=\"16,6,139,6,146,28.2969,718,28.2969,718,391.72,16,391.72,16,6\" style=\"stroke: #000000; stroke-width: 1.5;\"/><line style=\"stroke: #000000; stroke-width: 1.5;\" x1=\"16\" x2=\"146\" y1=\"28.2969\" y2=\"28.2969\"/><text fill=\"#000000\" font-family=\"sans-serif\" font-size=\"14\" font-weight=\"bold\" lengthAdjust=\"spacingAndGlyphs\" textLength=\"117\" x=\"20\" y=\"20.9951\">ParameterTest</text></a><!--MD5=[f6df4d0ebaf0b5dfb2ced0ae5af7c670]\n",
       "cluster E4--><a href=\"psysml:ea0c6e06-a87b-4616-91bc-ba79196303d0\" target=\"_top\" title=\"psysml:ea0c6e06-a87b-4616-91bc-ba79196303d0\" xlink:actuate=\"onRequest\" xlink:href=\"psysml:ea0c6e06-a87b-4616-91bc-ba79196303d0\" xlink:show=\"new\" xlink:title=\"psysml:ea0c6e06-a87b-4616-91bc-ba79196303d0\" xlink:type=\"simple\"><rect fill=\"#FFFFFF\" height=\"297.72\" id=\"E4\" style=\"stroke: #383838; stroke-width: 1.5;\" width=\"148\" x=\"554\" y=\"64\"/><rect fill=\"#F8F8F8\" height=\"37.9375\" style=\"stroke: #383838; stroke-width: 1.5;\" width=\"148\" x=\"554\" y=\"64\"/><text fill=\"#000000\" font-family=\"sans-serif\" font-size=\"12\" font-style=\"italic\" lengthAdjust=\"spacingAndGlyphs\" textLength=\"106\" x=\"575\" y=\"80.1387\">«calculation def»</text><text fill=\"#000000\" font-family=\"sans-serif\" font-size=\"12\" lengthAdjust=\"spacingAndGlyphs\" textLength=\"7\" x=\"624.5\" y=\"94.1074\">F</text></a><!--MD5=[b4997ac47864f28c2f74865a473b2911]\n",
       "class E2--><a href=\"psysml:fa211d39-e6da-4efb-a07a-68e935dd1093\" target=\"_top\" title=\"psysml:fa211d39-e6da-4efb-a07a-68e935dd1093\" xlink:actuate=\"onRequest\" xlink:href=\"psysml:fa211d39-e6da-4efb-a07a-68e935dd1093\" xlink:show=\"new\" xlink:title=\"psysml:fa211d39-e6da-4efb-a07a-68e935dd1093\" xlink:type=\"simple\"><rect fill=\"#FFFFFF\" height=\"88.3516\" id=\"E2\" style=\"stroke: #383838; stroke-width: 1.5;\" width=\"95\" x=\"422.5\" y=\"147\"/><text fill=\"#000000\" font-family=\"sans-serif\" font-size=\"12\" font-style=\"italic\" lengthAdjust=\"spacingAndGlyphs\" textLength=\"93\" x=\"423.5\" y=\"163.1387\">«attribute def»</text><text fill=\"#000000\" font-family=\"sans-serif\" font-size=\"12\" lengthAdjust=\"spacingAndGlyphs\" textLength=\"8\" x=\"466\" y=\"177.1074\">A</text><line style=\"stroke: #383838; stroke-width: 1.5;\" x1=\"423.5\" x2=\"516.5\" y1=\"184.9375\" y2=\"184.9375\"/><text fill=\"#000000\" font-family=\"sans-serif\" font-size=\"11\" lengthAdjust=\"spacingAndGlyphs\" textLength=\"48\" x=\"428.5\" y=\"215.9526\">x: String</text><text fill=\"#000000\" font-family=\"sans-serif\" font-size=\"11\" lengthAdjust=\"spacingAndGlyphs\" textLength=\"21\" x=\"428.5\" y=\"228.7573\">y: A</text><line style=\"stroke: #383838; stroke-width: 1.0;\" x1=\"423.5\" x2=\"442.5\" y1=\"199.3398\" y2=\"199.3398\"/><text fill=\"#000000\" font-family=\"sans-serif\" font-size=\"11\" lengthAdjust=\"spacingAndGlyphs\" textLength=\"55\" x=\"442.5\" y=\"202.6479\">attributes</text><line style=\"stroke: #383838; stroke-width: 1.0;\" x1=\"497.5\" x2=\"516.5\" y1=\"199.3398\" y2=\"199.3398\"/></a><!--MD5=[09b614a08d8cba4a07c9adeb5e0fee81]\n",
       "class E3--><a href=\"psysml:665f7084-89dd-4cc9-a479-f70e09a77220\" target=\"_top\" title=\"psysml:665f7084-89dd-4cc9-a479-f70e09a77220\" xlink:actuate=\"onRequest\" xlink:href=\"psysml:665f7084-89dd-4cc9-a479-f70e09a77220\" xlink:show=\"new\" xlink:title=\"psysml:665f7084-89dd-4cc9-a479-f70e09a77220\" xlink:type=\"simple\"><rect fill=\"#FFFFFF\" height=\"45.9375\" id=\"E3\" rx=\"10\" ry=\"10\" style=\"stroke: #383838; stroke-width: 1.5;\" width=\"71\" x=\"456.5\" y=\"41\"/><text fill=\"#000000\" font-family=\"sans-serif\" font-size=\"12\" font-style=\"italic\" lengthAdjust=\"spacingAndGlyphs\" textLength=\"69\" x=\"457.5\" y=\"57.1387\">«attribute»</text><text fill=\"#000000\" font-family=\"sans-serif\" font-size=\"12\" lengthAdjust=\"spacingAndGlyphs\" textLength=\"24\" x=\"480\" y=\"71.1074\">a: A</text><line style=\"stroke: #383838; stroke-width: 1.5;\" x1=\"457.5\" x2=\"526.5\" y1=\"78.9375\" y2=\"78.9375\"/></a><!--MD5=[b9389687b975829384b498ac4b7476b2]\n",
       "class E8--><a href=\"psysml:1ebb82ef-cdf5-4836-9887-d34bbc134ce1\" target=\"_top\" title=\"psysml:1ebb82ef-cdf5-4836-9887-d34bbc134ce1\" xlink:actuate=\"onRequest\" xlink:href=\"psysml:1ebb82ef-cdf5-4836-9887-d34bbc134ce1\" xlink:show=\"new\" xlink:title=\"psysml:1ebb82ef-cdf5-4836-9887-d34bbc134ce1\" xlink:type=\"simple\"><rect fill=\"#FFFFFF\" height=\"45.9375\" id=\"E8\" rx=\"10\" ry=\"10\" style=\"stroke: #383838; stroke-width: 1.5;\" width=\"71\" x=\"350.5\" y=\"41\"/><text fill=\"#000000\" font-family=\"sans-serif\" font-size=\"12\" font-style=\"italic\" lengthAdjust=\"spacingAndGlyphs\" textLength=\"69\" x=\"351.5\" y=\"57.1387\">«attribute»</text><text fill=\"#000000\" font-family=\"sans-serif\" font-size=\"12\" lengthAdjust=\"spacingAndGlyphs\" textLength=\"4\" x=\"384\" y=\"71.1074\">f</text><line style=\"stroke: #383838; stroke-width: 1.5;\" x1=\"351.5\" x2=\"420.5\" y1=\"78.9375\" y2=\"78.9375\"/></a><!--MD5=[fd4143e9d270a159db93a4ea2a975926]\n",
       "class E9--><a href=\"psysml:22e07e99-e7e6-486c-b8ca-f79edb8ad4e8\" target=\"_top\" title=\"psysml:22e07e99-e7e6-486c-b8ca-f79edb8ad4e8\" xlink:actuate=\"onRequest\" xlink:href=\"psysml:22e07e99-e7e6-486c-b8ca-f79edb8ad4e8\" xlink:show=\"new\" xlink:title=\"psysml:22e07e99-e7e6-486c-b8ca-f79edb8ad4e8\" xlink:type=\"simple\"><rect fill=\"#FFFFFF\" height=\"45.9375\" id=\"E9\" rx=\"10\" ry=\"10\" style=\"stroke: #383838; stroke-width: 1.5;\" width=\"71\" x=\"244.5\" y=\"41\"/><text fill=\"#000000\" font-family=\"sans-serif\" font-size=\"12\" font-style=\"italic\" lengthAdjust=\"spacingAndGlyphs\" textLength=\"69\" x=\"245.5\" y=\"57.1387\">«attribute»</text><text fill=\"#000000\" font-family=\"sans-serif\" font-size=\"12\" lengthAdjust=\"spacingAndGlyphs\" textLength=\"8\" x=\"276\" y=\"71.1074\">g</text><line style=\"stroke: #383838; stroke-width: 1.5;\" x1=\"245.5\" x2=\"314.5\" y1=\"78.9375\" y2=\"78.9375\"/></a><!--MD5=[96f4274e9e20536e775497830990834d]\n",
       "class E10--><a href=\"psysml:a8be3d15-ac76-451a-a4cf-87ef8e02e637\" target=\"_top\" title=\"psysml:a8be3d15-ac76-451a-a4cf-87ef8e02e637\" xlink:actuate=\"onRequest\" xlink:href=\"psysml:a8be3d15-ac76-451a-a4cf-87ef8e02e637\" xlink:show=\"new\" xlink:title=\"psysml:a8be3d15-ac76-451a-a4cf-87ef8e02e637\" xlink:type=\"simple\"><rect fill=\"#FFFFFF\" height=\"45.9375\" id=\"E10\" rx=\"10\" ry=\"10\" style=\"stroke: #383838; stroke-width: 1.5;\" width=\"71\" x=\"138.5\" y=\"41\"/><text fill=\"#000000\" font-family=\"sans-serif\" font-size=\"12\" font-style=\"italic\" lengthAdjust=\"spacingAndGlyphs\" textLength=\"69\" x=\"139.5\" y=\"57.1387\">«attribute»</text><text fill=\"#000000\" font-family=\"sans-serif\" font-size=\"12\" lengthAdjust=\"spacingAndGlyphs\" textLength=\"8\" x=\"170\" y=\"71.1074\">b</text><line style=\"stroke: #383838; stroke-width: 1.5;\" x1=\"139.5\" x2=\"208.5\" y1=\"78.9375\" y2=\"78.9375\"/></a><!--MD5=[1dd1bfd58a279cf63c5f349dbc8fc6a1]\n",
       "class E11--><a href=\"psysml:88e99412-8df3-4a94-a568-1984bea0c190\" target=\"_top\" title=\"psysml:88e99412-8df3-4a94-a568-1984bea0c190\" xlink:actuate=\"onRequest\" xlink:href=\"psysml:88e99412-8df3-4a94-a568-1984bea0c190\" xlink:show=\"new\" xlink:title=\"psysml:88e99412-8df3-4a94-a568-1984bea0c190\" xlink:type=\"simple\"><rect fill=\"#FFFFFF\" height=\"45.9375\" id=\"E11\" rx=\"10\" ry=\"10\" style=\"stroke: #383838; stroke-width: 1.5;\" width=\"71\" x=\"32.5\" y=\"41\"/><text fill=\"#000000\" font-family=\"sans-serif\" font-size=\"12\" font-style=\"italic\" lengthAdjust=\"spacingAndGlyphs\" textLength=\"69\" x=\"33.5\" y=\"57.1387\">«attribute»</text><text fill=\"#000000\" font-family=\"sans-serif\" font-size=\"12\" lengthAdjust=\"spacingAndGlyphs\" textLength=\"7\" x=\"64.5\" y=\"71.1074\">c</text><line style=\"stroke: #383838; stroke-width: 1.5;\" x1=\"33.5\" x2=\"102.5\" y1=\"78.9375\" y2=\"78.9375\"/></a><text fill=\"#000000\" font-family=\"sans-serif\" font-size=\"14\" lengthAdjust=\"spacingAndGlyphs\" textLength=\"9\" x=\"567.5\" y=\"42.6982\">p</text><rect fill=\"#383838\" height=\"12\" style=\"stroke: #F8F8F8; stroke-width: 1.5;\" width=\"12\" x=\"566\" y=\"58\"/><text fill=\"#000000\" font-family=\"sans-serif\" font-size=\"14\" lengthAdjust=\"spacingAndGlyphs\" textLength=\"9\" x=\"614.5\" y=\"42.6982\">q</text><rect fill=\"#383838\" height=\"12\" style=\"stroke: #F8F8F8; stroke-width: 1.5;\" width=\"12\" x=\"613\" y=\"58\"/><text fill=\"#000000\" font-family=\"sans-serif\" font-size=\"14\" lengthAdjust=\"spacingAndGlyphs\" textLength=\"57\" x=\"590.5\" y=\"380.7151\">noname</text><rect fill=\"#383838\" height=\"12\" style=\"stroke: #F8F8F8; stroke-width: 1.5;\" width=\"12\" x=\"613\" y=\"355.72\"/><!--MD5=[05d275557350bfb9b23a4ef7222b4c39]\n",
       "link E3 to E2--><a href=\"psysml:47946f32-7338-4adb-a6af-ffcb2b2265dd\" target=\"_top\" title=\"psysml:47946f32-7338-4adb-a6af-ffcb2b2265dd\" xlink:actuate=\"onRequest\" xlink:href=\"psysml:47946f32-7338-4adb-a6af-ffcb2b2265dd\" xlink:show=\"new\" xlink:title=\"psysml:47946f32-7338-4adb-a6af-ffcb2b2265dd\" xlink:type=\"simple\"><path d=\"M487,87.29 C487,87.29 487,126.78 487,126.78 \" fill=\"none\" id=\"E3-&gt;E2\" style=\"stroke: #383838; stroke-width: 1.0;\"/><polygon fill=\"#FFFFFF\" points=\"487,146.78,480,127.78,494,127.78,487,146.78\" style=\"stroke: #383838; stroke-width: 1.0;\"/><ellipse cx=\"482\" cy=\"122.08\" fill=\"#383838\" rx=\"2\" ry=\"2\" style=\"stroke: #383838; stroke-width: 1.0;\"/><ellipse cx=\"492\" cy=\"122.08\" fill=\"#383838\" rx=\"2\" ry=\"2\" style=\"stroke: #383838; stroke-width: 1.0;\"/></a><!--MD5=[9c2cfedc8085a9f3a7421cc6563d154c]\n",
       "@startuml\r\n",
       "skinparam linetype ortho\r\n",
       "skinparam monochrome true\r\n",
       "skinparam classbackgroundcolor white\r\n",
       "skinparam shadowing false\r\n",
       "skinparam wrapWidth 300\r\n",
       "hide circle\r\n",
       "\r\n",
       "package \"ParameterTest\" as E1  [[psysml:adbc474a-2784-4828-be47-026fefc14932 ]]  {\r\n",
       "comp def \"A\" as E2  <<(T,blue) attribute def>> [[psysml:fa211d39-e6da-4efb-a07a-68e935dd1093 ]] {\r\n",
       "- - attributes - -\r\n",
       "x: String\r\n",
       "y: A\r\n",
       "}\r\n",
       "comp usage \"a: A\" as E3  <<(T,blue) attribute>> [[psysml:665f7084-89dd-4cc9-a479-f70e09a77220 ]] {\r\n",
       "}\r\n",
       "rec def \"F\" as E4  <<(T,blue) calculation def>> [[psysml:ea0c6e06-a87b-4616-91bc-ba79196303d0 ]] {\r\n",
       "portin \"p\" as E5  [[psysml:e1d329d3-cb1e-45c3-b1d5-2fcf771779ef ]] \r\n",
       "portin \"q\" as E6  [[psysml:b499ebef-2d53-43ba-b86a-de9084e46bb3 ]] \r\n",
       "portout \"noname\" as E7  [[psysml:2e56002b-31e4-43bf-ad2b-cc6ef1aac7ab ]] \r\n",
       "}\r\n",
       "\r\n",
       "comp usage \"f\" as E8  <<(T,blue) attribute>> [[psysml:1ebb82ef-cdf5-4836-9887-d34bbc134ce1 ]] {\r\n",
       "}\r\n",
       "comp usage \"g\" as E9  <<(T,blue) attribute>> [[psysml:22e07e99-e7e6-486c-b8ca-f79edb8ad4e8 ]] {\r\n",
       "}\r\n",
       "comp usage \"b\" as E10  <<(T,blue) attribute>> [[psysml:a8be3d15-ac76-451a-a4cf-87ef8e02e637 ]] {\r\n",
       "}\r\n",
       "comp usage \"c\" as E11  <<(T,blue) attribute>> [[psysml:88e99412-8df3-4a94-a568-1984bea0c190 ]] {\r\n",
       "}\r\n",
       "E3 - -:|> E2 [[psysml:47946f32-7338-4adb-a6af-ffcb2b2265dd ]] \r\n",
       "}\r\n",
       "@enduml\r\n",
       "\n",
       "PlantUML version 1.2020.13(Sat Jun 13 12:26:38 UTC 2020)\n",
       "(EPL source distribution)\n",
       "Java Runtime: OpenJDK Runtime Environment\n",
       "JVM: OpenJDK 64-Bit Server VM\n",
       "Default Encoding: UTF-8\n",
       "Language: en\n",
       "Country: null\n",
       "--></g></svg>"
      ]
     },
     "execution_count": 51,
     "metadata": {},
     "output_type": "execute_result"
    }
   ],
   "source": [
    "%viz --style=\"ORTHOLINE\" --view=\"Default\" \"ParameterTest\""
   ]
  },
  {
   "cell_type": "code",
   "execution_count": 52,
   "id": "64ddb853",
   "metadata": {
    "execution": {
     "iopub.execute_input": "2021-06-30T09:18:23.921316Z",
     "iopub.status.busy": "2021-06-30T09:18:23.919940Z",
     "iopub.status.idle": "2021-06-30T09:18:23.982157Z",
     "shell.execute_reply": "2021-06-30T09:18:23.980260Z"
    }
   },
   "outputs": [
    {
     "data": {
      "image/svg+xml": [
       "<?xml version=\"1.0\" encoding=\"UTF-8\" standalone=\"no\"?><svg xmlns=\"http://www.w3.org/2000/svg\" xmlns:xlink=\"http://www.w3.org/1999/xlink\" contentScriptType=\"application/ecmascript\" contentStyleType=\"text/css\" height=\"280px\" preserveAspectRatio=\"none\" style=\"width:710px;height:280px;\" version=\"1.1\" viewBox=\"0 0 710 280\" width=\"710px\" zoomAndPan=\"magnify\"><defs/><g><!--MD5=[fbc87193dbaf4d95561dea2c320d4a47]\n",
       "cluster E1--><a href=\"psysml:adbc474a-2784-4828-be47-026fefc14932\" target=\"_top\" title=\"psysml:adbc474a-2784-4828-be47-026fefc14932\" xlink:actuate=\"onRequest\" xlink:href=\"psysml:adbc474a-2784-4828-be47-026fefc14932\" xlink:show=\"new\" xlink:title=\"psysml:adbc474a-2784-4828-be47-026fefc14932\" xlink:type=\"simple\"><polygon fill=\"#FFFFFF\" points=\"16,6,139,6,146,28.2969,688,28.2969,688,268,16,268,16,6\" style=\"stroke: #000000; stroke-width: 1.5;\"/><line style=\"stroke: #000000; stroke-width: 1.5;\" x1=\"16\" x2=\"146\" y1=\"28.2969\" y2=\"28.2969\"/><text fill=\"#000000\" font-family=\"sans-serif\" font-size=\"14\" font-weight=\"bold\" lengthAdjust=\"spacingAndGlyphs\" textLength=\"117\" x=\"20\" y=\"20.9951\">ParameterTest</text></a><!--MD5=[b4997ac47864f28c2f74865a473b2911]\n",
       "class E2--><a href=\"psysml:fa211d39-e6da-4efb-a07a-68e935dd1093\" target=\"_top\" title=\"psysml:fa211d39-e6da-4efb-a07a-68e935dd1093\" xlink:actuate=\"onRequest\" xlink:href=\"psysml:fa211d39-e6da-4efb-a07a-68e935dd1093\" xlink:show=\"new\" xlink:title=\"psysml:fa211d39-e6da-4efb-a07a-68e935dd1093\" xlink:type=\"simple\"><rect fill=\"#FFFFFF\" height=\"88.3516\" id=\"E2\" style=\"stroke: #383838; stroke-width: 1.5;\" width=\"95\" x=\"498.5\" y=\"164\"/><text fill=\"#000000\" font-family=\"sans-serif\" font-size=\"12\" font-style=\"italic\" lengthAdjust=\"spacingAndGlyphs\" textLength=\"93\" x=\"499.5\" y=\"180.1387\">«attribute def»</text><text fill=\"#000000\" font-family=\"sans-serif\" font-size=\"12\" lengthAdjust=\"spacingAndGlyphs\" textLength=\"8\" x=\"542\" y=\"194.1074\">A</text><line style=\"stroke: #383838; stroke-width: 1.5;\" x1=\"499.5\" x2=\"592.5\" y1=\"201.9375\" y2=\"201.9375\"/><text fill=\"#000000\" font-family=\"sans-serif\" font-size=\"11\" lengthAdjust=\"spacingAndGlyphs\" textLength=\"48\" x=\"504.5\" y=\"232.9526\">x: String</text><text fill=\"#000000\" font-family=\"sans-serif\" font-size=\"11\" lengthAdjust=\"spacingAndGlyphs\" textLength=\"21\" x=\"504.5\" y=\"245.7573\">y: A</text><line style=\"stroke: #383838; stroke-width: 1.0;\" x1=\"499.5\" x2=\"518.5\" y1=\"216.3398\" y2=\"216.3398\"/><text fill=\"#000000\" font-family=\"sans-serif\" font-size=\"11\" lengthAdjust=\"spacingAndGlyphs\" textLength=\"55\" x=\"518.5\" y=\"219.6479\">attributes</text><line style=\"stroke: #383838; stroke-width: 1.0;\" x1=\"573.5\" x2=\"592.5\" y1=\"216.3398\" y2=\"216.3398\"/></a><!--MD5=[09b614a08d8cba4a07c9adeb5e0fee81]\n",
       "class E3--><a href=\"psysml:665f7084-89dd-4cc9-a479-f70e09a77220\" target=\"_top\" title=\"psysml:665f7084-89dd-4cc9-a479-f70e09a77220\" xlink:actuate=\"onRequest\" xlink:href=\"psysml:665f7084-89dd-4cc9-a479-f70e09a77220\" xlink:show=\"new\" xlink:title=\"psysml:665f7084-89dd-4cc9-a479-f70e09a77220\" xlink:type=\"simple\"><rect fill=\"#FFFFFF\" height=\"45.9375\" id=\"E3\" rx=\"10\" ry=\"10\" style=\"stroke: #383838; stroke-width: 1.5;\" width=\"71\" x=\"600.5\" y=\"41\"/><text fill=\"#000000\" font-family=\"sans-serif\" font-size=\"12\" font-style=\"italic\" lengthAdjust=\"spacingAndGlyphs\" textLength=\"69\" x=\"601.5\" y=\"57.1387\">«attribute»</text><text fill=\"#000000\" font-family=\"sans-serif\" font-size=\"12\" lengthAdjust=\"spacingAndGlyphs\" textLength=\"24\" x=\"624\" y=\"71.1074\">a: A</text><line style=\"stroke: #383838; stroke-width: 1.5;\" x1=\"601.5\" x2=\"670.5\" y1=\"78.9375\" y2=\"78.9375\"/></a><!--MD5=[ebbe1d658d1005bcc118a6aa81145e00]\n",
       "class E4--><a href=\"psysml:ea0c6e06-a87b-4616-91bc-ba79196303d0\" target=\"_top\" title=\"psysml:ea0c6e06-a87b-4616-91bc-ba79196303d0\" xlink:actuate=\"onRequest\" xlink:href=\"psysml:ea0c6e06-a87b-4616-91bc-ba79196303d0\" xlink:show=\"new\" xlink:title=\"psysml:ea0c6e06-a87b-4616-91bc-ba79196303d0\" xlink:type=\"simple\"><rect fill=\"#FFFFFF\" height=\"45.9375\" id=\"E4\" style=\"stroke: #383838; stroke-width: 1.5;\" width=\"108\" x=\"457\" y=\"41\"/><text fill=\"#000000\" font-family=\"sans-serif\" font-size=\"12\" font-style=\"italic\" lengthAdjust=\"spacingAndGlyphs\" textLength=\"106\" x=\"458\" y=\"57.1387\">«calculation def»</text><text fill=\"#000000\" font-family=\"sans-serif\" font-size=\"12\" lengthAdjust=\"spacingAndGlyphs\" textLength=\"7\" x=\"507.5\" y=\"71.1074\">F</text><line style=\"stroke: #383838; stroke-width: 1.5;\" x1=\"458\" x2=\"564\" y1=\"78.9375\" y2=\"78.9375\"/></a><!--MD5=[270fce915f116d4de14055a7c1d9a0f3]\n",
       "class E5--><a href=\"psysml:1ebb82ef-cdf5-4836-9887-d34bbc134ce1\" target=\"_top\" title=\"psysml:1ebb82ef-cdf5-4836-9887-d34bbc134ce1\" xlink:actuate=\"onRequest\" xlink:href=\"psysml:1ebb82ef-cdf5-4836-9887-d34bbc134ce1\" xlink:show=\"new\" xlink:title=\"psysml:1ebb82ef-cdf5-4836-9887-d34bbc134ce1\" xlink:type=\"simple\"><rect fill=\"#FFFFFF\" height=\"45.9375\" id=\"E5\" rx=\"10\" ry=\"10\" style=\"stroke: #383838; stroke-width: 1.5;\" width=\"71\" x=\"350.5\" y=\"41\"/><text fill=\"#000000\" font-family=\"sans-serif\" font-size=\"12\" font-style=\"italic\" lengthAdjust=\"spacingAndGlyphs\" textLength=\"69\" x=\"351.5\" y=\"57.1387\">«attribute»</text><text fill=\"#000000\" font-family=\"sans-serif\" font-size=\"12\" lengthAdjust=\"spacingAndGlyphs\" textLength=\"4\" x=\"384\" y=\"71.1074\">f</text><line style=\"stroke: #383838; stroke-width: 1.5;\" x1=\"351.5\" x2=\"420.5\" y1=\"78.9375\" y2=\"78.9375\"/></a><!--MD5=[60a26617385b1d2d0262a64233df1f8d]\n",
       "class E6--><a href=\"psysml:22e07e99-e7e6-486c-b8ca-f79edb8ad4e8\" target=\"_top\" title=\"psysml:22e07e99-e7e6-486c-b8ca-f79edb8ad4e8\" xlink:actuate=\"onRequest\" xlink:href=\"psysml:22e07e99-e7e6-486c-b8ca-f79edb8ad4e8\" xlink:show=\"new\" xlink:title=\"psysml:22e07e99-e7e6-486c-b8ca-f79edb8ad4e8\" xlink:type=\"simple\"><rect fill=\"#FFFFFF\" height=\"45.9375\" id=\"E6\" rx=\"10\" ry=\"10\" style=\"stroke: #383838; stroke-width: 1.5;\" width=\"71\" x=\"244.5\" y=\"41\"/><text fill=\"#000000\" font-family=\"sans-serif\" font-size=\"12\" font-style=\"italic\" lengthAdjust=\"spacingAndGlyphs\" textLength=\"69\" x=\"245.5\" y=\"57.1387\">«attribute»</text><text fill=\"#000000\" font-family=\"sans-serif\" font-size=\"12\" lengthAdjust=\"spacingAndGlyphs\" textLength=\"8\" x=\"276\" y=\"71.1074\">g</text><line style=\"stroke: #383838; stroke-width: 1.5;\" x1=\"245.5\" x2=\"314.5\" y1=\"78.9375\" y2=\"78.9375\"/></a><!--MD5=[2156ba9850f5573cc1fc38a6a4b2f02b]\n",
       "class E7--><a href=\"psysml:a8be3d15-ac76-451a-a4cf-87ef8e02e637\" target=\"_top\" title=\"psysml:a8be3d15-ac76-451a-a4cf-87ef8e02e637\" xlink:actuate=\"onRequest\" xlink:href=\"psysml:a8be3d15-ac76-451a-a4cf-87ef8e02e637\" xlink:show=\"new\" xlink:title=\"psysml:a8be3d15-ac76-451a-a4cf-87ef8e02e637\" xlink:type=\"simple\"><rect fill=\"#FFFFFF\" height=\"45.9375\" id=\"E7\" rx=\"10\" ry=\"10\" style=\"stroke: #383838; stroke-width: 1.5;\" width=\"71\" x=\"138.5\" y=\"41\"/><text fill=\"#000000\" font-family=\"sans-serif\" font-size=\"12\" font-style=\"italic\" lengthAdjust=\"spacingAndGlyphs\" textLength=\"69\" x=\"139.5\" y=\"57.1387\">«attribute»</text><text fill=\"#000000\" font-family=\"sans-serif\" font-size=\"12\" lengthAdjust=\"spacingAndGlyphs\" textLength=\"8\" x=\"170\" y=\"71.1074\">b</text><line style=\"stroke: #383838; stroke-width: 1.5;\" x1=\"139.5\" x2=\"208.5\" y1=\"78.9375\" y2=\"78.9375\"/></a><!--MD5=[b9389687b975829384b498ac4b7476b2]\n",
       "class E8--><a href=\"psysml:88e99412-8df3-4a94-a568-1984bea0c190\" target=\"_top\" title=\"psysml:88e99412-8df3-4a94-a568-1984bea0c190\" xlink:actuate=\"onRequest\" xlink:href=\"psysml:88e99412-8df3-4a94-a568-1984bea0c190\" xlink:show=\"new\" xlink:title=\"psysml:88e99412-8df3-4a94-a568-1984bea0c190\" xlink:type=\"simple\"><rect fill=\"#FFFFFF\" height=\"45.9375\" id=\"E8\" rx=\"10\" ry=\"10\" style=\"stroke: #383838; stroke-width: 1.5;\" width=\"71\" x=\"32.5\" y=\"41\"/><text fill=\"#000000\" font-family=\"sans-serif\" font-size=\"12\" font-style=\"italic\" lengthAdjust=\"spacingAndGlyphs\" textLength=\"69\" x=\"33.5\" y=\"57.1387\">«attribute»</text><text fill=\"#000000\" font-family=\"sans-serif\" font-size=\"12\" lengthAdjust=\"spacingAndGlyphs\" textLength=\"7\" x=\"64.5\" y=\"71.1074\">c</text><line style=\"stroke: #383838; stroke-width: 1.5;\" x1=\"33.5\" x2=\"102.5\" y1=\"78.9375\" y2=\"78.9375\"/></a><!--MD5=[05d275557350bfb9b23a4ef7222b4c39]\n",
       "link E3 to E2--><a href=\"psysml:47946f32-7338-4adb-a6af-ffcb2b2265dd\" target=\"_top\" title=\"psysml:47946f32-7338-4adb-a6af-ffcb2b2265dd\" xlink:actuate=\"onRequest\" xlink:href=\"psysml:47946f32-7338-4adb-a6af-ffcb2b2265dd\" xlink:show=\"new\" xlink:title=\"psysml:47946f32-7338-4adb-a6af-ffcb2b2265dd\" xlink:type=\"simple\"><path d=\"M600.38,64 C588.98,64 579.25,64 579.25,64 C579.25,64 579.25,143.62 579.25,143.62 \" fill=\"none\" id=\"E3-&gt;E2\" style=\"stroke: #383838; stroke-width: 1.0;\"/><polygon fill=\"#FFFFFF\" points=\"579.25,163.62,572.25,144.62,586.25,144.62,579.25,163.62\" style=\"stroke: #383838; stroke-width: 1.0;\"/><ellipse cx=\"574.25\" cy=\"138.92\" fill=\"#383838\" rx=\"2\" ry=\"2\" style=\"stroke: #383838; stroke-width: 1.0;\"/><ellipse cx=\"584.25\" cy=\"138.92\" fill=\"#383838\" rx=\"2\" ry=\"2\" style=\"stroke: #383838; stroke-width: 1.0;\"/></a><!--MD5=[ddeed8deb2209213b62e6cfabaa108b2]\n",
       "reverse link E4 to E2--><a href=\"psysml:e1d329d3-cb1e-45c3-b1d5-2fcf771779ef\" target=\"_top\" title=\"psysml:e1d329d3-cb1e-45c3-b1d5-2fcf771779ef\" xlink:actuate=\"onRequest\" xlink:href=\"psysml:e1d329d3-cb1e-45c3-b1d5-2fcf771779ef\" xlink:show=\"new\" xlink:title=\"psysml:e1d329d3-cb1e-45c3-b1d5-2fcf771779ef\" xlink:type=\"simple\"><path d=\"M531.75,100.14 C531.75,100.14 531.75,163.71 531.75,163.71 \" fill=\"none\" id=\"E4&lt;-E2\" style=\"stroke: #383838; stroke-width: 1.0;\"/><polygon fill=\"#FFFFFF\" points=\"531.75,87.14,527.75,93.14,531.75,99.14,535.75,93.14,531.75,87.14\" style=\"stroke: #383838; stroke-width: 1.0;\"/><text fill=\"#000000\" font-family=\"sans-serif\" font-size=\"13\" lengthAdjust=\"spacingAndGlyphs\" textLength=\"8\" x=\"539\" y=\"130.0669\">p</text></a><!--MD5=[c96979d0cc8443f55f501c9785d693ac]\n",
       "@startuml\r\n",
       "skinparam linetype ortho\r\n",
       "skinparam monochrome true\r\n",
       "skinparam classbackgroundcolor white\r\n",
       "skinparam shadowing false\r\n",
       "skinparam wrapWidth 300\r\n",
       "hide circle\r\n",
       "\r\n",
       "package \"ParameterTest\" as E1  [[psysml:adbc474a-2784-4828-be47-026fefc14932 ]]  {\r\n",
       "comp def \"A\" as E2  <<(T,blue) attribute def>> [[psysml:fa211d39-e6da-4efb-a07a-68e935dd1093 ]] {\r\n",
       "- - attributes - -\r\n",
       "x: String\r\n",
       "y: A\r\n",
       "}\r\n",
       "comp usage \"a: A\" as E3  <<(T,blue) attribute>> [[psysml:665f7084-89dd-4cc9-a479-f70e09a77220 ]] {\r\n",
       "}\r\n",
       "comp def \"F\" as E4  <<(T,blue) calculation def>> [[psysml:ea0c6e06-a87b-4616-91bc-ba79196303d0 ]] {\r\n",
       "}\r\n",
       "comp usage \"f\" as E5  <<(T,blue) attribute>> [[psysml:1ebb82ef-cdf5-4836-9887-d34bbc134ce1 ]] {\r\n",
       "}\r\n",
       "comp usage \"g\" as E6  <<(T,blue) attribute>> [[psysml:22e07e99-e7e6-486c-b8ca-f79edb8ad4e8 ]] {\r\n",
       "}\r\n",
       "comp usage \"b\" as E7  <<(T,blue) attribute>> [[psysml:a8be3d15-ac76-451a-a4cf-87ef8e02e637 ]] {\r\n",
       "}\r\n",
       "comp usage \"c\" as E8  <<(T,blue) attribute>> [[psysml:88e99412-8df3-4a94-a568-1984bea0c190 ]] {\r\n",
       "}\r\n",
       "E3 - -:|> E2 [[psysml:47946f32-7338-4adb-a6af-ffcb2b2265dd ]] \r\n",
       "E4 o- - E2 [[psysml:e1d329d3-cb1e-45c3-b1d5-2fcf771779ef ]] : p\r\n",
       "}\r\n",
       "@enduml\r\n",
       "\n",
       "PlantUML version 1.2020.13(Sat Jun 13 12:26:38 UTC 2020)\n",
       "(EPL source distribution)\n",
       "Java Runtime: OpenJDK Runtime Environment\n",
       "JVM: OpenJDK 64-Bit Server VM\n",
       "Default Encoding: UTF-8\n",
       "Language: en\n",
       "Country: null\n",
       "--></g></svg>"
      ]
     },
     "execution_count": 52,
     "metadata": {},
     "output_type": "execute_result"
    }
   ],
   "source": [
    "%viz --style=\"ORTHOLINE\" --view=\"Tree\" \"ParameterTest\""
   ]
  },
  {
   "cell_type": "code",
   "execution_count": 53,
   "id": "ae36426b",
   "metadata": {
    "execution": {
     "iopub.execute_input": "2021-06-30T09:18:24.032335Z",
     "iopub.status.busy": "2021-06-30T09:18:24.031920Z",
     "iopub.status.idle": "2021-06-30T09:18:24.045237Z",
     "shell.execute_reply": "2021-06-30T09:18:24.044853Z"
    }
   },
   "outputs": [
    {
     "data": {
      "image/svg+xml": [
       "<?xml version=\"1.0\" encoding=\"UTF-8\" standalone=\"no\"?><svg xmlns=\"http://www.w3.org/2000/svg\" xmlns:xlink=\"http://www.w3.org/1999/xlink\" contentScriptType=\"application/ecmascript\" contentStyleType=\"text/css\" height=\"12px\" preserveAspectRatio=\"none\" style=\"width:12px;height:12px;\" version=\"1.1\" viewBox=\"0 0 12 12\" width=\"12px\" zoomAndPan=\"magnify\"><defs/><g><!--MD5=[97d6f38768b311333d388e66b2b27985]\n",
       "@startuml\r\n",
       "skinparam linetype ortho\r\n",
       "skinparam monochrome true\r\n",
       "skinparam classbackgroundcolor white\r\n",
       "skinparam shadowing false\r\n",
       "skinparam wrapWidth 300\r\n",
       "hide circle\r\n",
       "\r\n",
       "@enduml\r\n",
       "\n",
       "PlantUML version 1.2020.13(Sat Jun 13 12:26:38 UTC 2020)\n",
       "(EPL source distribution)\n",
       "Java Runtime: OpenJDK Runtime Environment\n",
       "JVM: OpenJDK 64-Bit Server VM\n",
       "Default Encoding: UTF-8\n",
       "Language: en\n",
       "Country: null\n",
       "--></g></svg>"
      ]
     },
     "execution_count": 53,
     "metadata": {},
     "output_type": "execute_result"
    }
   ],
   "source": [
    "%viz --style=\"ORTHOLINE\" --view=\"State\" \"ParameterTest\""
   ]
  },
  {
   "cell_type": "code",
   "execution_count": 54,
   "id": "d5daa340",
   "metadata": {
    "execution": {
     "iopub.execute_input": "2021-06-30T09:18:24.095707Z",
     "iopub.status.busy": "2021-06-30T09:18:24.095293Z",
     "iopub.status.idle": "2021-06-30T09:18:24.133448Z",
     "shell.execute_reply": "2021-06-30T09:18:24.132106Z"
    }
   },
   "outputs": [
    {
     "data": {
      "image/svg+xml": [
       "<?xml version=\"1.0\" encoding=\"UTF-8\" standalone=\"no\"?><svg xmlns=\"http://www.w3.org/2000/svg\" xmlns:xlink=\"http://www.w3.org/1999/xlink\" contentScriptType=\"application/ecmascript\" contentStyleType=\"text/css\" height=\"216px\" preserveAspectRatio=\"none\" style=\"width:740px;height:216px;\" version=\"1.1\" viewBox=\"0 0 740 216\" width=\"740px\" zoomAndPan=\"magnify\"><defs/><g><!--MD5=[fbc87193dbaf4d95561dea2c320d4a47]\n",
       "cluster E1--><a href=\"psysml:adbc474a-2784-4828-be47-026fefc14932\" target=\"_top\" title=\"psysml:adbc474a-2784-4828-be47-026fefc14932\" xlink:actuate=\"onRequest\" xlink:href=\"psysml:adbc474a-2784-4828-be47-026fefc14932\" xlink:show=\"new\" xlink:title=\"psysml:adbc474a-2784-4828-be47-026fefc14932\" xlink:type=\"simple\"><polygon fill=\"#FFFFFF\" points=\"16,6,139,6,146,28.2969,718,28.2969,718,204.72,16,204.72,16,6\" style=\"stroke: #000000; stroke-width: 1.5;\"/><line style=\"stroke: #000000; stroke-width: 1.5;\" x1=\"16\" x2=\"146\" y1=\"28.2969\" y2=\"28.2969\"/><text fill=\"#000000\" font-family=\"sans-serif\" font-size=\"14\" font-weight=\"bold\" lengthAdjust=\"spacingAndGlyphs\" textLength=\"117\" x=\"20\" y=\"20.9951\">ParameterTest</text></a><!--MD5=[f6df4d0ebaf0b5dfb2ced0ae5af7c670]\n",
       "cluster E4--><a href=\"psysml:ea0c6e06-a87b-4616-91bc-ba79196303d0\" target=\"_top\" title=\"psysml:ea0c6e06-a87b-4616-91bc-ba79196303d0\" xlink:actuate=\"onRequest\" xlink:href=\"psysml:ea0c6e06-a87b-4616-91bc-ba79196303d0\" xlink:show=\"new\" xlink:title=\"psysml:ea0c6e06-a87b-4616-91bc-ba79196303d0\" xlink:type=\"simple\"><rect fill=\"#FFFFFF\" height=\"110.72\" id=\"E4\" style=\"stroke: #383838; stroke-width: 1.5;\" width=\"148\" x=\"554\" y=\"64\"/><rect fill=\"#F8F8F8\" height=\"37.9375\" style=\"stroke: #383838; stroke-width: 1.5;\" width=\"148\" x=\"554\" y=\"64\"/><text fill=\"#000000\" font-family=\"sans-serif\" font-size=\"12\" font-style=\"italic\" lengthAdjust=\"spacingAndGlyphs\" textLength=\"106\" x=\"575\" y=\"80.1387\">«calculation def»</text><text fill=\"#000000\" font-family=\"sans-serif\" font-size=\"12\" lengthAdjust=\"spacingAndGlyphs\" textLength=\"7\" x=\"624.5\" y=\"94.1074\">F</text></a><g id=\"E1.E2\"><a href=\"psysml:fa211d39-e6da-4efb-a07a-68e935dd1093\" target=\"_top\" title=\"psysml:fa211d39-e6da-4efb-a07a-68e935dd1093\" xlink:actuate=\"onRequest\" xlink:href=\"psysml:fa211d39-e6da-4efb-a07a-68e935dd1093\" xlink:show=\"new\" xlink:title=\"psysml:fa211d39-e6da-4efb-a07a-68e935dd1093\" xlink:type=\"simple\"><rect fill=\"#FFFFFF\" height=\"42.9375\" id=\"E2\" style=\"stroke: #383838; stroke-width: 1.5;\" width=\"100\" x=\"417\" y=\"99\"/><rect fill=\"#F8F8F8\" height=\"37.9375\" style=\"stroke: #383838; stroke-width: 1.5;\" width=\"100\" x=\"417\" y=\"99\"/><text fill=\"#000000\" font-family=\"sans-serif\" font-size=\"12\" font-style=\"italic\" lengthAdjust=\"spacingAndGlyphs\" textLength=\"93\" x=\"420.5\" y=\"115.1387\">«attribute def»</text><text fill=\"#000000\" font-family=\"sans-serif\" font-size=\"12\" lengthAdjust=\"spacingAndGlyphs\" textLength=\"8\" x=\"463\" y=\"129.1074\">A</text></a></g><!--MD5=[09b614a08d8cba4a07c9adeb5e0fee81]\n",
       "class E3--><a href=\"psysml:665f7084-89dd-4cc9-a479-f70e09a77220\" target=\"_top\" title=\"psysml:665f7084-89dd-4cc9-a479-f70e09a77220\" xlink:actuate=\"onRequest\" xlink:href=\"psysml:665f7084-89dd-4cc9-a479-f70e09a77220\" xlink:show=\"new\" xlink:title=\"psysml:665f7084-89dd-4cc9-a479-f70e09a77220\" xlink:type=\"simple\"><rect fill=\"#FFFFFF\" height=\"45.9375\" id=\"E3\" rx=\"10\" ry=\"10\" style=\"stroke: #383838; stroke-width: 1.5;\" width=\"71\" x=\"456.5\" y=\"41\"/><text fill=\"#000000\" font-family=\"sans-serif\" font-size=\"12\" font-style=\"italic\" lengthAdjust=\"spacingAndGlyphs\" textLength=\"69\" x=\"457.5\" y=\"57.1387\">«attribute»</text><text fill=\"#000000\" font-family=\"sans-serif\" font-size=\"12\" lengthAdjust=\"spacingAndGlyphs\" textLength=\"24\" x=\"480\" y=\"71.1074\">a: A</text><line style=\"stroke: #383838; stroke-width: 1.5;\" x1=\"457.5\" x2=\"526.5\" y1=\"78.9375\" y2=\"78.9375\"/></a><!--MD5=[b9389687b975829384b498ac4b7476b2]\n",
       "class E8--><a href=\"psysml:1ebb82ef-cdf5-4836-9887-d34bbc134ce1\" target=\"_top\" title=\"psysml:1ebb82ef-cdf5-4836-9887-d34bbc134ce1\" xlink:actuate=\"onRequest\" xlink:href=\"psysml:1ebb82ef-cdf5-4836-9887-d34bbc134ce1\" xlink:show=\"new\" xlink:title=\"psysml:1ebb82ef-cdf5-4836-9887-d34bbc134ce1\" xlink:type=\"simple\"><rect fill=\"#FFFFFF\" height=\"45.9375\" id=\"E8\" rx=\"10\" ry=\"10\" style=\"stroke: #383838; stroke-width: 1.5;\" width=\"71\" x=\"350.5\" y=\"41\"/><text fill=\"#000000\" font-family=\"sans-serif\" font-size=\"12\" font-style=\"italic\" lengthAdjust=\"spacingAndGlyphs\" textLength=\"69\" x=\"351.5\" y=\"57.1387\">«attribute»</text><text fill=\"#000000\" font-family=\"sans-serif\" font-size=\"12\" lengthAdjust=\"spacingAndGlyphs\" textLength=\"4\" x=\"384\" y=\"71.1074\">f</text><line style=\"stroke: #383838; stroke-width: 1.5;\" x1=\"351.5\" x2=\"420.5\" y1=\"78.9375\" y2=\"78.9375\"/></a><!--MD5=[fd4143e9d270a159db93a4ea2a975926]\n",
       "class E9--><a href=\"psysml:22e07e99-e7e6-486c-b8ca-f79edb8ad4e8\" target=\"_top\" title=\"psysml:22e07e99-e7e6-486c-b8ca-f79edb8ad4e8\" xlink:actuate=\"onRequest\" xlink:href=\"psysml:22e07e99-e7e6-486c-b8ca-f79edb8ad4e8\" xlink:show=\"new\" xlink:title=\"psysml:22e07e99-e7e6-486c-b8ca-f79edb8ad4e8\" xlink:type=\"simple\"><rect fill=\"#FFFFFF\" height=\"45.9375\" id=\"E9\" rx=\"10\" ry=\"10\" style=\"stroke: #383838; stroke-width: 1.5;\" width=\"71\" x=\"244.5\" y=\"41\"/><text fill=\"#000000\" font-family=\"sans-serif\" font-size=\"12\" font-style=\"italic\" lengthAdjust=\"spacingAndGlyphs\" textLength=\"69\" x=\"245.5\" y=\"57.1387\">«attribute»</text><text fill=\"#000000\" font-family=\"sans-serif\" font-size=\"12\" lengthAdjust=\"spacingAndGlyphs\" textLength=\"8\" x=\"276\" y=\"71.1074\">g</text><line style=\"stroke: #383838; stroke-width: 1.5;\" x1=\"245.5\" x2=\"314.5\" y1=\"78.9375\" y2=\"78.9375\"/></a><!--MD5=[96f4274e9e20536e775497830990834d]\n",
       "class E10--><a href=\"psysml:a8be3d15-ac76-451a-a4cf-87ef8e02e637\" target=\"_top\" title=\"psysml:a8be3d15-ac76-451a-a4cf-87ef8e02e637\" xlink:actuate=\"onRequest\" xlink:href=\"psysml:a8be3d15-ac76-451a-a4cf-87ef8e02e637\" xlink:show=\"new\" xlink:title=\"psysml:a8be3d15-ac76-451a-a4cf-87ef8e02e637\" xlink:type=\"simple\"><rect fill=\"#FFFFFF\" height=\"45.9375\" id=\"E10\" rx=\"10\" ry=\"10\" style=\"stroke: #383838; stroke-width: 1.5;\" width=\"71\" x=\"138.5\" y=\"41\"/><text fill=\"#000000\" font-family=\"sans-serif\" font-size=\"12\" font-style=\"italic\" lengthAdjust=\"spacingAndGlyphs\" textLength=\"69\" x=\"139.5\" y=\"57.1387\">«attribute»</text><text fill=\"#000000\" font-family=\"sans-serif\" font-size=\"12\" lengthAdjust=\"spacingAndGlyphs\" textLength=\"8\" x=\"170\" y=\"71.1074\">b</text><line style=\"stroke: #383838; stroke-width: 1.5;\" x1=\"139.5\" x2=\"208.5\" y1=\"78.9375\" y2=\"78.9375\"/></a><!--MD5=[1dd1bfd58a279cf63c5f349dbc8fc6a1]\n",
       "class E11--><a href=\"psysml:88e99412-8df3-4a94-a568-1984bea0c190\" target=\"_top\" title=\"psysml:88e99412-8df3-4a94-a568-1984bea0c190\" xlink:actuate=\"onRequest\" xlink:href=\"psysml:88e99412-8df3-4a94-a568-1984bea0c190\" xlink:show=\"new\" xlink:title=\"psysml:88e99412-8df3-4a94-a568-1984bea0c190\" xlink:type=\"simple\"><rect fill=\"#FFFFFF\" height=\"45.9375\" id=\"E11\" rx=\"10\" ry=\"10\" style=\"stroke: #383838; stroke-width: 1.5;\" width=\"71\" x=\"32.5\" y=\"41\"/><text fill=\"#000000\" font-family=\"sans-serif\" font-size=\"12\" font-style=\"italic\" lengthAdjust=\"spacingAndGlyphs\" textLength=\"69\" x=\"33.5\" y=\"57.1387\">«attribute»</text><text fill=\"#000000\" font-family=\"sans-serif\" font-size=\"12\" lengthAdjust=\"spacingAndGlyphs\" textLength=\"7\" x=\"64.5\" y=\"71.1074\">c</text><line style=\"stroke: #383838; stroke-width: 1.5;\" x1=\"33.5\" x2=\"102.5\" y1=\"78.9375\" y2=\"78.9375\"/></a><text fill=\"#000000\" font-family=\"sans-serif\" font-size=\"14\" lengthAdjust=\"spacingAndGlyphs\" textLength=\"9\" x=\"567.5\" y=\"42.6982\">p</text><rect fill=\"#383838\" height=\"12\" style=\"stroke: #F8F8F8; stroke-width: 1.5;\" width=\"12\" x=\"566\" y=\"58\"/><text fill=\"#000000\" font-family=\"sans-serif\" font-size=\"14\" lengthAdjust=\"spacingAndGlyphs\" textLength=\"9\" x=\"614.5\" y=\"42.6982\">q</text><rect fill=\"#383838\" height=\"12\" style=\"stroke: #F8F8F8; stroke-width: 1.5;\" width=\"12\" x=\"613\" y=\"58\"/><text fill=\"#000000\" font-family=\"sans-serif\" font-size=\"14\" lengthAdjust=\"spacingAndGlyphs\" textLength=\"57\" x=\"590.5\" y=\"193.7151\">noname</text><rect fill=\"#383838\" height=\"12\" style=\"stroke: #F8F8F8; stroke-width: 1.5;\" width=\"12\" x=\"613\" y=\"168.72\"/><!--MD5=[05d275557350bfb9b23a4ef7222b4c39]\n",
       "link E3 to E2--><a href=\"psysml:47946f32-7338-4adb-a6af-ffcb2b2265dd\" target=\"_top\" title=\"psysml:47946f32-7338-4adb-a6af-ffcb2b2265dd\" xlink:actuate=\"onRequest\" xlink:href=\"psysml:47946f32-7338-4adb-a6af-ffcb2b2265dd\" xlink:show=\"new\" xlink:title=\"psysml:47946f32-7338-4adb-a6af-ffcb2b2265dd\" xlink:type=\"simple\"><path d=\"M486.75,87.31 C486.75,87.31 486.75,88.45 486.75,88.45 \" fill=\"none\" id=\"E3-&gt;E2\" style=\"stroke: #383838; stroke-width: 1.0;\"/><polygon fill=\"#FFFFFF\" points=\"486.75,98.7,479.75,79.7,493.75,79.7,486.75,98.7\" style=\"stroke: #383838; stroke-width: 1.0;\"/><ellipse cx=\"481.75\" cy=\"74\" fill=\"#383838\" rx=\"2\" ry=\"2\" style=\"stroke: #383838; stroke-width: 1.0;\"/><ellipse cx=\"491.75\" cy=\"74\" fill=\"#383838\" rx=\"2\" ry=\"2\" style=\"stroke: #383838; stroke-width: 1.0;\"/></a><!--MD5=[5534ea4a7e54f8dd55eb8cb398ee47f9]\n",
       "@startuml\r\n",
       "skinparam ranksep 10\r\n",
       "skinparam rectangle {\r\n",
       " backgroundColor<<block>> LightGreen\r\n",
       "}\r\n",
       "skinparam linetype ortho\r\n",
       "skinparam monochrome true\r\n",
       "skinparam classbackgroundcolor white\r\n",
       "skinparam shadowing false\r\n",
       "skinparam wrapWidth 300\r\n",
       "hide circle\r\n",
       "\r\n",
       "package \"ParameterTest\" as E1  [[psysml:adbc474a-2784-4828-be47-026fefc14932 ]]  {\r\n",
       "def \"A\" as E2  <<(T,blue) attribute def>> [[psysml:fa211d39-e6da-4efb-a07a-68e935dd1093 ]] \r\n",
       "comp usage \"a: A\" as E3  <<(T,blue) attribute>> [[psysml:665f7084-89dd-4cc9-a479-f70e09a77220 ]] {\r\n",
       "}\r\n",
       "rec def \"F\" as E4  <<(T,blue) calculation def>> [[psysml:ea0c6e06-a87b-4616-91bc-ba79196303d0 ]] {\r\n",
       "portin \"p\" as E5  [[psysml:e1d329d3-cb1e-45c3-b1d5-2fcf771779ef ]] \r\n",
       "portin \"q\" as E6  [[psysml:b499ebef-2d53-43ba-b86a-de9084e46bb3 ]] \r\n",
       "portout \"noname\" as E7  [[psysml:2e56002b-31e4-43bf-ad2b-cc6ef1aac7ab ]] \r\n",
       "}\r\n",
       "\r\n",
       "comp usage \"f\" as E8  <<(T,blue) attribute>> [[psysml:1ebb82ef-cdf5-4836-9887-d34bbc134ce1 ]] {\r\n",
       "}\r\n",
       "comp usage \"g\" as E9  <<(T,blue) attribute>> [[psysml:22e07e99-e7e6-486c-b8ca-f79edb8ad4e8 ]] {\r\n",
       "}\r\n",
       "comp usage \"b\" as E10  <<(T,blue) attribute>> [[psysml:a8be3d15-ac76-451a-a4cf-87ef8e02e637 ]] {\r\n",
       "}\r\n",
       "comp usage \"c\" as E11  <<(T,blue) attribute>> [[psysml:88e99412-8df3-4a94-a568-1984bea0c190 ]] {\r\n",
       "}\r\n",
       "E3 - -:|> E2 [[psysml:47946f32-7338-4adb-a6af-ffcb2b2265dd ]] \r\n",
       "}\r\n",
       "@enduml\r\n",
       "\n",
       "PlantUML version 1.2020.13(Sat Jun 13 12:26:38 UTC 2020)\n",
       "(EPL source distribution)\n",
       "Java Runtime: OpenJDK Runtime Environment\n",
       "JVM: OpenJDK 64-Bit Server VM\n",
       "Default Encoding: UTF-8\n",
       "Language: en\n",
       "Country: null\n",
       "--></g></svg>"
      ]
     },
     "execution_count": 54,
     "metadata": {},
     "output_type": "execute_result"
    }
   ],
   "source": [
    "%viz --style=\"ORTHOLINE\" --view=\"Interconnection\" \"ParameterTest\""
   ]
  },
  {
   "cell_type": "code",
   "execution_count": 55,
   "id": "0436f978",
   "metadata": {
    "execution": {
     "iopub.execute_input": "2021-06-30T09:18:24.197026Z",
     "iopub.status.busy": "2021-06-30T09:18:24.193437Z",
     "iopub.status.idle": "2021-06-30T09:18:24.280637Z",
     "shell.execute_reply": "2021-06-30T09:18:24.276292Z"
    }
   },
   "outputs": [
    {
     "data": {
      "image/svg+xml": [
       "<?xml version=\"1.0\" encoding=\"UTF-8\" standalone=\"no\"?><svg xmlns=\"http://www.w3.org/2000/svg\" xmlns:xlink=\"http://www.w3.org/1999/xlink\" contentScriptType=\"application/ecmascript\" contentStyleType=\"text/css\" height=\"162px\" preserveAspectRatio=\"none\" style=\"width:166px;height:162px;\" version=\"1.1\" viewBox=\"0 0 166 162\" width=\"166px\" zoomAndPan=\"magnify\"><defs/><g><!--MD5=[fbc87193dbaf4d95561dea2c320d4a47]\n",
       "cluster E1--><a href=\"psysml:ea0c6e06-a87b-4616-91bc-ba79196303d0\" target=\"_top\" title=\"psysml:ea0c6e06-a87b-4616-91bc-ba79196303d0\" xlink:actuate=\"onRequest\" xlink:href=\"psysml:ea0c6e06-a87b-4616-91bc-ba79196303d0\" xlink:show=\"new\" xlink:title=\"psysml:ea0c6e06-a87b-4616-91bc-ba79196303d0\" xlink:type=\"simple\"><rect fill=\"#FFFFFF\" height=\"87.72\" id=\"E1\" style=\"stroke: #383838; stroke-width: 1.5;\" width=\"148\" x=\"7\" y=\"42.0986\"/><rect fill=\"#F8F8F8\" height=\"37.9375\" style=\"stroke: #383838; stroke-width: 1.5;\" width=\"148\" x=\"7\" y=\"42.0986\"/><text fill=\"#000000\" font-family=\"sans-serif\" font-size=\"12\" font-style=\"italic\" lengthAdjust=\"spacingAndGlyphs\" textLength=\"106\" x=\"28\" y=\"58.2373\">«calculation def»</text><text fill=\"#000000\" font-family=\"sans-serif\" font-size=\"12\" lengthAdjust=\"spacingAndGlyphs\" textLength=\"7\" x=\"77.5\" y=\"72.2061\">F</text></a><text fill=\"#000000\" font-family=\"sans-serif\" font-size=\"14\" lengthAdjust=\"spacingAndGlyphs\" textLength=\"9\" x=\"20.5\" y=\"20.7969\">p</text><rect fill=\"#383838\" height=\"12\" style=\"stroke: #F8F8F8; stroke-width: 1.5;\" width=\"12\" x=\"19\" y=\"36.0986\"/><text fill=\"#000000\" font-family=\"sans-serif\" font-size=\"14\" lengthAdjust=\"spacingAndGlyphs\" textLength=\"9\" x=\"67.5\" y=\"20.7969\">q</text><rect fill=\"#383838\" height=\"12\" style=\"stroke: #F8F8F8; stroke-width: 1.5;\" width=\"12\" x=\"66\" y=\"36.0986\"/><text fill=\"#000000\" font-family=\"sans-serif\" font-size=\"14\" lengthAdjust=\"spacingAndGlyphs\" textLength=\"57\" x=\"43.5\" y=\"148.8138\">noname</text><rect fill=\"#383838\" height=\"12\" style=\"stroke: #F8F8F8; stroke-width: 1.5;\" width=\"12\" x=\"66\" y=\"123.8186\"/><!--MD5=[813f782ed2cf73c9b40dce416f42903b]\n",
       "@startuml\r\n",
       "skinparam ranksep 8\r\n",
       "skinparam linetype ortho\r\n",
       "skinparam monochrome true\r\n",
       "skinparam classbackgroundcolor white\r\n",
       "skinparam shadowing false\r\n",
       "skinparam wrapWidth 300\r\n",
       "hide circle\r\n",
       "\r\n",
       "rec def \"F\" as E1  <<(T,blue) calculation def>> [[psysml:ea0c6e06-a87b-4616-91bc-ba79196303d0 ]] {\r\n",
       "portin \"p\" as E2  [[psysml:e1d329d3-cb1e-45c3-b1d5-2fcf771779ef ]] \r\n",
       "portin \"q\" as E3  [[psysml:b499ebef-2d53-43ba-b86a-de9084e46bb3 ]] \r\n",
       "portout \"noname\" as E4  [[psysml:2e56002b-31e4-43bf-ad2b-cc6ef1aac7ab ]] \r\n",
       "}\r\n",
       "\r\n",
       "@enduml\r\n",
       "\n",
       "PlantUML version 1.2020.13(Sat Jun 13 12:26:38 UTC 2020)\n",
       "(EPL source distribution)\n",
       "Java Runtime: OpenJDK Runtime Environment\n",
       "JVM: OpenJDK 64-Bit Server VM\n",
       "Default Encoding: UTF-8\n",
       "Language: en\n",
       "Country: null\n",
       "--></g></svg>"
      ]
     },
     "execution_count": 55,
     "metadata": {},
     "output_type": "execute_result"
    }
   ],
   "source": [
    "%viz --style=\"ORTHOLINE\" --view=\"Action\" \"ParameterTest\""
   ]
  },
  {
   "cell_type": "code",
   "execution_count": 56,
   "id": "fd68be6e",
   "metadata": {
    "execution": {
     "iopub.execute_input": "2021-06-30T09:18:24.333099Z",
     "iopub.status.busy": "2021-06-30T09:18:24.329452Z",
     "iopub.status.idle": "2021-06-30T09:18:24.412424Z",
     "shell.execute_reply": "2021-06-30T09:18:24.409582Z"
    }
   },
   "outputs": [
    {
     "data": {
      "image/svg+xml": [
       "<?xml version=\"1.0\" encoding=\"UTF-8\" standalone=\"no\"?><svg xmlns=\"http://www.w3.org/2000/svg\" xmlns:xlink=\"http://www.w3.org/1999/xlink\" contentScriptType=\"application/ecmascript\" contentStyleType=\"text/css\" height=\"280px\" preserveAspectRatio=\"none\" style=\"width:710px;height:280px;\" version=\"1.1\" viewBox=\"0 0 710 280\" width=\"710px\" zoomAndPan=\"magnify\"><defs/><g><!--MD5=[fbc87193dbaf4d95561dea2c320d4a47]\n",
       "cluster E1--><a href=\"psysml:adbc474a-2784-4828-be47-026fefc14932\" target=\"_top\" title=\"psysml:adbc474a-2784-4828-be47-026fefc14932\" xlink:actuate=\"onRequest\" xlink:href=\"psysml:adbc474a-2784-4828-be47-026fefc14932\" xlink:show=\"new\" xlink:title=\"psysml:adbc474a-2784-4828-be47-026fefc14932\" xlink:type=\"simple\"><polygon fill=\"#FFFFFF\" points=\"16,6,139,6,146,28.2969,688,28.2969,688,268,16,268,16,6\" style=\"stroke: #000000; stroke-width: 1.5;\"/><line style=\"stroke: #000000; stroke-width: 1.5;\" x1=\"16\" x2=\"146\" y1=\"28.2969\" y2=\"28.2969\"/><text fill=\"#000000\" font-family=\"sans-serif\" font-size=\"14\" font-weight=\"bold\" lengthAdjust=\"spacingAndGlyphs\" textLength=\"117\" x=\"20\" y=\"20.9951\">ParameterTest</text></a><!--MD5=[b4997ac47864f28c2f74865a473b2911]\n",
       "class E2--><a href=\"psysml:fa211d39-e6da-4efb-a07a-68e935dd1093\" target=\"_top\" title=\"psysml:fa211d39-e6da-4efb-a07a-68e935dd1093\" xlink:actuate=\"onRequest\" xlink:href=\"psysml:fa211d39-e6da-4efb-a07a-68e935dd1093\" xlink:show=\"new\" xlink:title=\"psysml:fa211d39-e6da-4efb-a07a-68e935dd1093\" xlink:type=\"simple\"><rect fill=\"#FFFFFF\" height=\"88.3516\" id=\"E2\" style=\"stroke: #383838; stroke-width: 1.5;\" width=\"95\" x=\"498.5\" y=\"164\"/><text fill=\"#000000\" font-family=\"sans-serif\" font-size=\"12\" font-style=\"italic\" lengthAdjust=\"spacingAndGlyphs\" textLength=\"93\" x=\"499.5\" y=\"180.1387\">«attribute def»</text><text fill=\"#000000\" font-family=\"sans-serif\" font-size=\"12\" lengthAdjust=\"spacingAndGlyphs\" textLength=\"8\" x=\"542\" y=\"194.1074\">A</text><line style=\"stroke: #383838; stroke-width: 1.5;\" x1=\"499.5\" x2=\"592.5\" y1=\"201.9375\" y2=\"201.9375\"/><text fill=\"#000000\" font-family=\"sans-serif\" font-size=\"11\" lengthAdjust=\"spacingAndGlyphs\" textLength=\"48\" x=\"504.5\" y=\"232.9526\">x: String</text><text fill=\"#000000\" font-family=\"sans-serif\" font-size=\"11\" lengthAdjust=\"spacingAndGlyphs\" textLength=\"21\" x=\"504.5\" y=\"245.7573\">y: A</text><line style=\"stroke: #383838; stroke-width: 1.0;\" x1=\"499.5\" x2=\"518.5\" y1=\"216.3398\" y2=\"216.3398\"/><text fill=\"#000000\" font-family=\"sans-serif\" font-size=\"11\" lengthAdjust=\"spacingAndGlyphs\" textLength=\"55\" x=\"518.5\" y=\"219.6479\">attributes</text><line style=\"stroke: #383838; stroke-width: 1.0;\" x1=\"573.5\" x2=\"592.5\" y1=\"216.3398\" y2=\"216.3398\"/></a><!--MD5=[09b614a08d8cba4a07c9adeb5e0fee81]\n",
       "class E3--><a href=\"psysml:665f7084-89dd-4cc9-a479-f70e09a77220\" target=\"_top\" title=\"psysml:665f7084-89dd-4cc9-a479-f70e09a77220\" xlink:actuate=\"onRequest\" xlink:href=\"psysml:665f7084-89dd-4cc9-a479-f70e09a77220\" xlink:show=\"new\" xlink:title=\"psysml:665f7084-89dd-4cc9-a479-f70e09a77220\" xlink:type=\"simple\"><rect fill=\"#FFFFFF\" height=\"45.9375\" id=\"E3\" rx=\"10\" ry=\"10\" style=\"stroke: #383838; stroke-width: 1.5;\" width=\"71\" x=\"600.5\" y=\"41\"/><text fill=\"#000000\" font-family=\"sans-serif\" font-size=\"12\" font-style=\"italic\" lengthAdjust=\"spacingAndGlyphs\" textLength=\"69\" x=\"601.5\" y=\"57.1387\">«attribute»</text><text fill=\"#000000\" font-family=\"sans-serif\" font-size=\"12\" lengthAdjust=\"spacingAndGlyphs\" textLength=\"24\" x=\"624\" y=\"71.1074\">a: A</text><line style=\"stroke: #383838; stroke-width: 1.5;\" x1=\"601.5\" x2=\"670.5\" y1=\"78.9375\" y2=\"78.9375\"/></a><!--MD5=[ebbe1d658d1005bcc118a6aa81145e00]\n",
       "class E4--><a href=\"psysml:ea0c6e06-a87b-4616-91bc-ba79196303d0\" target=\"_top\" title=\"psysml:ea0c6e06-a87b-4616-91bc-ba79196303d0\" xlink:actuate=\"onRequest\" xlink:href=\"psysml:ea0c6e06-a87b-4616-91bc-ba79196303d0\" xlink:show=\"new\" xlink:title=\"psysml:ea0c6e06-a87b-4616-91bc-ba79196303d0\" xlink:type=\"simple\"><rect fill=\"#FFFFFF\" height=\"45.9375\" id=\"E4\" style=\"stroke: #383838; stroke-width: 1.5;\" width=\"108\" x=\"457\" y=\"41\"/><text fill=\"#000000\" font-family=\"sans-serif\" font-size=\"12\" font-style=\"italic\" lengthAdjust=\"spacingAndGlyphs\" textLength=\"106\" x=\"458\" y=\"57.1387\">«calculation def»</text><text fill=\"#000000\" font-family=\"sans-serif\" font-size=\"12\" lengthAdjust=\"spacingAndGlyphs\" textLength=\"7\" x=\"507.5\" y=\"71.1074\">F</text><line style=\"stroke: #383838; stroke-width: 1.5;\" x1=\"458\" x2=\"564\" y1=\"78.9375\" y2=\"78.9375\"/></a><!--MD5=[270fce915f116d4de14055a7c1d9a0f3]\n",
       "class E5--><a href=\"psysml:1ebb82ef-cdf5-4836-9887-d34bbc134ce1\" target=\"_top\" title=\"psysml:1ebb82ef-cdf5-4836-9887-d34bbc134ce1\" xlink:actuate=\"onRequest\" xlink:href=\"psysml:1ebb82ef-cdf5-4836-9887-d34bbc134ce1\" xlink:show=\"new\" xlink:title=\"psysml:1ebb82ef-cdf5-4836-9887-d34bbc134ce1\" xlink:type=\"simple\"><rect fill=\"#FFFFFF\" height=\"45.9375\" id=\"E5\" rx=\"10\" ry=\"10\" style=\"stroke: #383838; stroke-width: 1.5;\" width=\"71\" x=\"350.5\" y=\"41\"/><text fill=\"#000000\" font-family=\"sans-serif\" font-size=\"12\" font-style=\"italic\" lengthAdjust=\"spacingAndGlyphs\" textLength=\"69\" x=\"351.5\" y=\"57.1387\">«attribute»</text><text fill=\"#000000\" font-family=\"sans-serif\" font-size=\"12\" lengthAdjust=\"spacingAndGlyphs\" textLength=\"4\" x=\"384\" y=\"71.1074\">f</text><line style=\"stroke: #383838; stroke-width: 1.5;\" x1=\"351.5\" x2=\"420.5\" y1=\"78.9375\" y2=\"78.9375\"/></a><!--MD5=[60a26617385b1d2d0262a64233df1f8d]\n",
       "class E6--><a href=\"psysml:22e07e99-e7e6-486c-b8ca-f79edb8ad4e8\" target=\"_top\" title=\"psysml:22e07e99-e7e6-486c-b8ca-f79edb8ad4e8\" xlink:actuate=\"onRequest\" xlink:href=\"psysml:22e07e99-e7e6-486c-b8ca-f79edb8ad4e8\" xlink:show=\"new\" xlink:title=\"psysml:22e07e99-e7e6-486c-b8ca-f79edb8ad4e8\" xlink:type=\"simple\"><rect fill=\"#FFFFFF\" height=\"45.9375\" id=\"E6\" rx=\"10\" ry=\"10\" style=\"stroke: #383838; stroke-width: 1.5;\" width=\"71\" x=\"244.5\" y=\"41\"/><text fill=\"#000000\" font-family=\"sans-serif\" font-size=\"12\" font-style=\"italic\" lengthAdjust=\"spacingAndGlyphs\" textLength=\"69\" x=\"245.5\" y=\"57.1387\">«attribute»</text><text fill=\"#000000\" font-family=\"sans-serif\" font-size=\"12\" lengthAdjust=\"spacingAndGlyphs\" textLength=\"8\" x=\"276\" y=\"71.1074\">g</text><line style=\"stroke: #383838; stroke-width: 1.5;\" x1=\"245.5\" x2=\"314.5\" y1=\"78.9375\" y2=\"78.9375\"/></a><!--MD5=[2156ba9850f5573cc1fc38a6a4b2f02b]\n",
       "class E7--><a href=\"psysml:a8be3d15-ac76-451a-a4cf-87ef8e02e637\" target=\"_top\" title=\"psysml:a8be3d15-ac76-451a-a4cf-87ef8e02e637\" xlink:actuate=\"onRequest\" xlink:href=\"psysml:a8be3d15-ac76-451a-a4cf-87ef8e02e637\" xlink:show=\"new\" xlink:title=\"psysml:a8be3d15-ac76-451a-a4cf-87ef8e02e637\" xlink:type=\"simple\"><rect fill=\"#FFFFFF\" height=\"45.9375\" id=\"E7\" rx=\"10\" ry=\"10\" style=\"stroke: #383838; stroke-width: 1.5;\" width=\"71\" x=\"138.5\" y=\"41\"/><text fill=\"#000000\" font-family=\"sans-serif\" font-size=\"12\" font-style=\"italic\" lengthAdjust=\"spacingAndGlyphs\" textLength=\"69\" x=\"139.5\" y=\"57.1387\">«attribute»</text><text fill=\"#000000\" font-family=\"sans-serif\" font-size=\"12\" lengthAdjust=\"spacingAndGlyphs\" textLength=\"8\" x=\"170\" y=\"71.1074\">b</text><line style=\"stroke: #383838; stroke-width: 1.5;\" x1=\"139.5\" x2=\"208.5\" y1=\"78.9375\" y2=\"78.9375\"/></a><!--MD5=[b9389687b975829384b498ac4b7476b2]\n",
       "class E8--><a href=\"psysml:88e99412-8df3-4a94-a568-1984bea0c190\" target=\"_top\" title=\"psysml:88e99412-8df3-4a94-a568-1984bea0c190\" xlink:actuate=\"onRequest\" xlink:href=\"psysml:88e99412-8df3-4a94-a568-1984bea0c190\" xlink:show=\"new\" xlink:title=\"psysml:88e99412-8df3-4a94-a568-1984bea0c190\" xlink:type=\"simple\"><rect fill=\"#FFFFFF\" height=\"45.9375\" id=\"E8\" rx=\"10\" ry=\"10\" style=\"stroke: #383838; stroke-width: 1.5;\" width=\"71\" x=\"32.5\" y=\"41\"/><text fill=\"#000000\" font-family=\"sans-serif\" font-size=\"12\" font-style=\"italic\" lengthAdjust=\"spacingAndGlyphs\" textLength=\"69\" x=\"33.5\" y=\"57.1387\">«attribute»</text><text fill=\"#000000\" font-family=\"sans-serif\" font-size=\"12\" lengthAdjust=\"spacingAndGlyphs\" textLength=\"7\" x=\"64.5\" y=\"71.1074\">c</text><line style=\"stroke: #383838; stroke-width: 1.5;\" x1=\"33.5\" x2=\"102.5\" y1=\"78.9375\" y2=\"78.9375\"/></a><!--MD5=[05d275557350bfb9b23a4ef7222b4c39]\n",
       "link E3 to E2--><a href=\"psysml:47946f32-7338-4adb-a6af-ffcb2b2265dd\" target=\"_top\" title=\"psysml:47946f32-7338-4adb-a6af-ffcb2b2265dd\" xlink:actuate=\"onRequest\" xlink:href=\"psysml:47946f32-7338-4adb-a6af-ffcb2b2265dd\" xlink:show=\"new\" xlink:title=\"psysml:47946f32-7338-4adb-a6af-ffcb2b2265dd\" xlink:type=\"simple\"><path d=\"M600.38,64 C588.98,64 579.25,64 579.25,64 C579.25,64 579.25,143.62 579.25,143.62 \" fill=\"none\" id=\"E3-&gt;E2\" style=\"stroke: #383838; stroke-width: 1.0;\"/><polygon fill=\"#FFFFFF\" points=\"579.25,163.62,572.25,144.62,586.25,144.62,579.25,163.62\" style=\"stroke: #383838; stroke-width: 1.0;\"/><ellipse cx=\"574.25\" cy=\"138.92\" fill=\"#383838\" rx=\"2\" ry=\"2\" style=\"stroke: #383838; stroke-width: 1.0;\"/><ellipse cx=\"584.25\" cy=\"138.92\" fill=\"#383838\" rx=\"2\" ry=\"2\" style=\"stroke: #383838; stroke-width: 1.0;\"/></a><!--MD5=[ddeed8deb2209213b62e6cfabaa108b2]\n",
       "reverse link E4 to E2--><a href=\"psysml:e1d329d3-cb1e-45c3-b1d5-2fcf771779ef\" target=\"_top\" title=\"psysml:e1d329d3-cb1e-45c3-b1d5-2fcf771779ef\" xlink:actuate=\"onRequest\" xlink:href=\"psysml:e1d329d3-cb1e-45c3-b1d5-2fcf771779ef\" xlink:show=\"new\" xlink:title=\"psysml:e1d329d3-cb1e-45c3-b1d5-2fcf771779ef\" xlink:type=\"simple\"><path d=\"M531.75,100.14 C531.75,100.14 531.75,163.71 531.75,163.71 \" fill=\"none\" id=\"E4&lt;-E2\" style=\"stroke: #383838; stroke-width: 1.0;\"/><polygon fill=\"#FFFFFF\" points=\"531.75,87.14,527.75,93.14,531.75,99.14,535.75,93.14,531.75,87.14\" style=\"stroke: #383838; stroke-width: 1.0;\"/><text fill=\"#000000\" font-family=\"sans-serif\" font-size=\"13\" lengthAdjust=\"spacingAndGlyphs\" textLength=\"8\" x=\"539\" y=\"130.0669\">p</text></a><!--MD5=[c96979d0cc8443f55f501c9785d693ac]\n",
       "@startuml\r\n",
       "skinparam linetype ortho\r\n",
       "skinparam monochrome true\r\n",
       "skinparam classbackgroundcolor white\r\n",
       "skinparam shadowing false\r\n",
       "skinparam wrapWidth 300\r\n",
       "hide circle\r\n",
       "\r\n",
       "package \"ParameterTest\" as E1  [[psysml:adbc474a-2784-4828-be47-026fefc14932 ]]  {\r\n",
       "comp def \"A\" as E2  <<(T,blue) attribute def>> [[psysml:fa211d39-e6da-4efb-a07a-68e935dd1093 ]] {\r\n",
       "- - attributes - -\r\n",
       "x: String\r\n",
       "y: A\r\n",
       "}\r\n",
       "comp usage \"a: A\" as E3  <<(T,blue) attribute>> [[psysml:665f7084-89dd-4cc9-a479-f70e09a77220 ]] {\r\n",
       "}\r\n",
       "comp def \"F\" as E4  <<(T,blue) calculation def>> [[psysml:ea0c6e06-a87b-4616-91bc-ba79196303d0 ]] {\r\n",
       "}\r\n",
       "comp usage \"f\" as E5  <<(T,blue) attribute>> [[psysml:1ebb82ef-cdf5-4836-9887-d34bbc134ce1 ]] {\r\n",
       "}\r\n",
       "comp usage \"g\" as E6  <<(T,blue) attribute>> [[psysml:22e07e99-e7e6-486c-b8ca-f79edb8ad4e8 ]] {\r\n",
       "}\r\n",
       "comp usage \"b\" as E7  <<(T,blue) attribute>> [[psysml:a8be3d15-ac76-451a-a4cf-87ef8e02e637 ]] {\r\n",
       "}\r\n",
       "comp usage \"c\" as E8  <<(T,blue) attribute>> [[psysml:88e99412-8df3-4a94-a568-1984bea0c190 ]] {\r\n",
       "}\r\n",
       "E3 - -:|> E2 [[psysml:47946f32-7338-4adb-a6af-ffcb2b2265dd ]] \r\n",
       "E4 o- - E2 [[psysml:e1d329d3-cb1e-45c3-b1d5-2fcf771779ef ]] : p\r\n",
       "}\r\n",
       "@enduml\r\n",
       "\n",
       "PlantUML version 1.2020.13(Sat Jun 13 12:26:38 UTC 2020)\n",
       "(EPL source distribution)\n",
       "Java Runtime: OpenJDK Runtime Environment\n",
       "JVM: OpenJDK 64-Bit Server VM\n",
       "Default Encoding: UTF-8\n",
       "Language: en\n",
       "Country: null\n",
       "--></g></svg>"
      ]
     },
     "execution_count": 56,
     "metadata": {},
     "output_type": "execute_result"
    }
   ],
   "source": [
    "%viz --style=\"ORTHOLINE\" --view=\"Sequence\" \"ParameterTest\""
   ]
  },
  {
   "cell_type": "code",
   "execution_count": 57,
   "id": "22fd8548",
   "metadata": {
    "execution": {
     "iopub.execute_input": "2021-06-30T09:18:24.461001Z",
     "iopub.status.busy": "2021-06-30T09:18:24.460017Z",
     "iopub.status.idle": "2021-06-30T09:18:24.536500Z",
     "shell.execute_reply": "2021-06-30T09:18:24.535139Z"
    }
   },
   "outputs": [
    {
     "data": {
      "image/svg+xml": [
       "<?xml version=\"1.0\" encoding=\"UTF-8\" standalone=\"no\"?><svg xmlns=\"http://www.w3.org/2000/svg\" xmlns:xlink=\"http://www.w3.org/1999/xlink\" contentScriptType=\"application/ecmascript\" contentStyleType=\"text/css\" height=\"403px\" preserveAspectRatio=\"none\" style=\"width:740px;height:403px;\" version=\"1.1\" viewBox=\"0 0 740 403\" width=\"740px\" zoomAndPan=\"magnify\"><defs/><g><!--MD5=[fbc87193dbaf4d95561dea2c320d4a47]\n",
       "cluster E1--><a href=\"psysml:adbc474a-2784-4828-be47-026fefc14932\" target=\"_top\" title=\"psysml:adbc474a-2784-4828-be47-026fefc14932\" xlink:actuate=\"onRequest\" xlink:href=\"psysml:adbc474a-2784-4828-be47-026fefc14932\" xlink:show=\"new\" xlink:title=\"psysml:adbc474a-2784-4828-be47-026fefc14932\" xlink:type=\"simple\"><polygon fill=\"#FFFFFF\" points=\"16,6,139,6,146,28.2969,718,28.2969,718,391.72,16,391.72,16,6\" style=\"stroke: #000000; stroke-width: 1.5;\"/><line style=\"stroke: #000000; stroke-width: 1.5;\" x1=\"16\" x2=\"146\" y1=\"28.2969\" y2=\"28.2969\"/><text fill=\"#000000\" font-family=\"sans-serif\" font-size=\"14\" font-weight=\"bold\" lengthAdjust=\"spacingAndGlyphs\" textLength=\"117\" x=\"20\" y=\"20.9951\">ParameterTest</text></a><!--MD5=[f6df4d0ebaf0b5dfb2ced0ae5af7c670]\n",
       "cluster E4--><a href=\"psysml:ea0c6e06-a87b-4616-91bc-ba79196303d0\" target=\"_top\" title=\"psysml:ea0c6e06-a87b-4616-91bc-ba79196303d0\" xlink:actuate=\"onRequest\" xlink:href=\"psysml:ea0c6e06-a87b-4616-91bc-ba79196303d0\" xlink:show=\"new\" xlink:title=\"psysml:ea0c6e06-a87b-4616-91bc-ba79196303d0\" xlink:type=\"simple\"><rect fill=\"#FFFFFF\" height=\"297.72\" id=\"E4\" style=\"stroke: #383838; stroke-width: 1.5;\" width=\"148\" x=\"554\" y=\"64\"/><rect fill=\"#F8F8F8\" height=\"37.9375\" style=\"stroke: #383838; stroke-width: 1.5;\" width=\"148\" x=\"554\" y=\"64\"/><text fill=\"#000000\" font-family=\"sans-serif\" font-size=\"12\" font-style=\"italic\" lengthAdjust=\"spacingAndGlyphs\" textLength=\"106\" x=\"575\" y=\"80.1387\">«calculation def»</text><text fill=\"#000000\" font-family=\"sans-serif\" font-size=\"12\" lengthAdjust=\"spacingAndGlyphs\" textLength=\"7\" x=\"624.5\" y=\"94.1074\">F</text></a><!--MD5=[b4997ac47864f28c2f74865a473b2911]\n",
       "class E2--><a href=\"psysml:fa211d39-e6da-4efb-a07a-68e935dd1093\" target=\"_top\" title=\"psysml:fa211d39-e6da-4efb-a07a-68e935dd1093\" xlink:actuate=\"onRequest\" xlink:href=\"psysml:fa211d39-e6da-4efb-a07a-68e935dd1093\" xlink:show=\"new\" xlink:title=\"psysml:fa211d39-e6da-4efb-a07a-68e935dd1093\" xlink:type=\"simple\"><rect fill=\"#FFFFFF\" height=\"88.3516\" id=\"E2\" style=\"stroke: #383838; stroke-width: 1.5;\" width=\"95\" x=\"422.5\" y=\"147\"/><text fill=\"#000000\" font-family=\"sans-serif\" font-size=\"12\" font-style=\"italic\" lengthAdjust=\"spacingAndGlyphs\" textLength=\"93\" x=\"423.5\" y=\"163.1387\">«attribute def»</text><text fill=\"#000000\" font-family=\"sans-serif\" font-size=\"12\" lengthAdjust=\"spacingAndGlyphs\" textLength=\"8\" x=\"466\" y=\"177.1074\">A</text><line style=\"stroke: #383838; stroke-width: 1.5;\" x1=\"423.5\" x2=\"516.5\" y1=\"184.9375\" y2=\"184.9375\"/><text fill=\"#000000\" font-family=\"sans-serif\" font-size=\"11\" lengthAdjust=\"spacingAndGlyphs\" textLength=\"48\" x=\"428.5\" y=\"215.9526\">x: String</text><text fill=\"#000000\" font-family=\"sans-serif\" font-size=\"11\" lengthAdjust=\"spacingAndGlyphs\" textLength=\"21\" x=\"428.5\" y=\"228.7573\">y: A</text><line style=\"stroke: #383838; stroke-width: 1.0;\" x1=\"423.5\" x2=\"442.5\" y1=\"199.3398\" y2=\"199.3398\"/><text fill=\"#000000\" font-family=\"sans-serif\" font-size=\"11\" lengthAdjust=\"spacingAndGlyphs\" textLength=\"55\" x=\"442.5\" y=\"202.6479\">attributes</text><line style=\"stroke: #383838; stroke-width: 1.0;\" x1=\"497.5\" x2=\"516.5\" y1=\"199.3398\" y2=\"199.3398\"/></a><!--MD5=[09b614a08d8cba4a07c9adeb5e0fee81]\n",
       "class E3--><a href=\"psysml:665f7084-89dd-4cc9-a479-f70e09a77220\" target=\"_top\" title=\"psysml:665f7084-89dd-4cc9-a479-f70e09a77220\" xlink:actuate=\"onRequest\" xlink:href=\"psysml:665f7084-89dd-4cc9-a479-f70e09a77220\" xlink:show=\"new\" xlink:title=\"psysml:665f7084-89dd-4cc9-a479-f70e09a77220\" xlink:type=\"simple\"><rect fill=\"#FFFFFF\" height=\"45.9375\" id=\"E3\" rx=\"10\" ry=\"10\" style=\"stroke: #383838; stroke-width: 1.5;\" width=\"71\" x=\"456.5\" y=\"41\"/><text fill=\"#000000\" font-family=\"sans-serif\" font-size=\"12\" font-style=\"italic\" lengthAdjust=\"spacingAndGlyphs\" textLength=\"69\" x=\"457.5\" y=\"57.1387\">«attribute»</text><text fill=\"#000000\" font-family=\"sans-serif\" font-size=\"12\" lengthAdjust=\"spacingAndGlyphs\" textLength=\"24\" x=\"480\" y=\"71.1074\">a: A</text><line style=\"stroke: #383838; stroke-width: 1.5;\" x1=\"457.5\" x2=\"526.5\" y1=\"78.9375\" y2=\"78.9375\"/></a><!--MD5=[b9389687b975829384b498ac4b7476b2]\n",
       "class E8--><a href=\"psysml:1ebb82ef-cdf5-4836-9887-d34bbc134ce1\" target=\"_top\" title=\"psysml:1ebb82ef-cdf5-4836-9887-d34bbc134ce1\" xlink:actuate=\"onRequest\" xlink:href=\"psysml:1ebb82ef-cdf5-4836-9887-d34bbc134ce1\" xlink:show=\"new\" xlink:title=\"psysml:1ebb82ef-cdf5-4836-9887-d34bbc134ce1\" xlink:type=\"simple\"><rect fill=\"#FFFFFF\" height=\"45.9375\" id=\"E8\" rx=\"10\" ry=\"10\" style=\"stroke: #383838; stroke-width: 1.5;\" width=\"71\" x=\"350.5\" y=\"41\"/><text fill=\"#000000\" font-family=\"sans-serif\" font-size=\"12\" font-style=\"italic\" lengthAdjust=\"spacingAndGlyphs\" textLength=\"69\" x=\"351.5\" y=\"57.1387\">«attribute»</text><text fill=\"#000000\" font-family=\"sans-serif\" font-size=\"12\" lengthAdjust=\"spacingAndGlyphs\" textLength=\"4\" x=\"384\" y=\"71.1074\">f</text><line style=\"stroke: #383838; stroke-width: 1.5;\" x1=\"351.5\" x2=\"420.5\" y1=\"78.9375\" y2=\"78.9375\"/></a><!--MD5=[fd4143e9d270a159db93a4ea2a975926]\n",
       "class E9--><a href=\"psysml:22e07e99-e7e6-486c-b8ca-f79edb8ad4e8\" target=\"_top\" title=\"psysml:22e07e99-e7e6-486c-b8ca-f79edb8ad4e8\" xlink:actuate=\"onRequest\" xlink:href=\"psysml:22e07e99-e7e6-486c-b8ca-f79edb8ad4e8\" xlink:show=\"new\" xlink:title=\"psysml:22e07e99-e7e6-486c-b8ca-f79edb8ad4e8\" xlink:type=\"simple\"><rect fill=\"#FFFFFF\" height=\"45.9375\" id=\"E9\" rx=\"10\" ry=\"10\" style=\"stroke: #383838; stroke-width: 1.5;\" width=\"71\" x=\"244.5\" y=\"41\"/><text fill=\"#000000\" font-family=\"sans-serif\" font-size=\"12\" font-style=\"italic\" lengthAdjust=\"spacingAndGlyphs\" textLength=\"69\" x=\"245.5\" y=\"57.1387\">«attribute»</text><text fill=\"#000000\" font-family=\"sans-serif\" font-size=\"12\" lengthAdjust=\"spacingAndGlyphs\" textLength=\"8\" x=\"276\" y=\"71.1074\">g</text><line style=\"stroke: #383838; stroke-width: 1.5;\" x1=\"245.5\" x2=\"314.5\" y1=\"78.9375\" y2=\"78.9375\"/></a><!--MD5=[96f4274e9e20536e775497830990834d]\n",
       "class E10--><a href=\"psysml:a8be3d15-ac76-451a-a4cf-87ef8e02e637\" target=\"_top\" title=\"psysml:a8be3d15-ac76-451a-a4cf-87ef8e02e637\" xlink:actuate=\"onRequest\" xlink:href=\"psysml:a8be3d15-ac76-451a-a4cf-87ef8e02e637\" xlink:show=\"new\" xlink:title=\"psysml:a8be3d15-ac76-451a-a4cf-87ef8e02e637\" xlink:type=\"simple\"><rect fill=\"#FFFFFF\" height=\"45.9375\" id=\"E10\" rx=\"10\" ry=\"10\" style=\"stroke: #383838; stroke-width: 1.5;\" width=\"71\" x=\"138.5\" y=\"41\"/><text fill=\"#000000\" font-family=\"sans-serif\" font-size=\"12\" font-style=\"italic\" lengthAdjust=\"spacingAndGlyphs\" textLength=\"69\" x=\"139.5\" y=\"57.1387\">«attribute»</text><text fill=\"#000000\" font-family=\"sans-serif\" font-size=\"12\" lengthAdjust=\"spacingAndGlyphs\" textLength=\"8\" x=\"170\" y=\"71.1074\">b</text><line style=\"stroke: #383838; stroke-width: 1.5;\" x1=\"139.5\" x2=\"208.5\" y1=\"78.9375\" y2=\"78.9375\"/></a><!--MD5=[1dd1bfd58a279cf63c5f349dbc8fc6a1]\n",
       "class E11--><a href=\"psysml:88e99412-8df3-4a94-a568-1984bea0c190\" target=\"_top\" title=\"psysml:88e99412-8df3-4a94-a568-1984bea0c190\" xlink:actuate=\"onRequest\" xlink:href=\"psysml:88e99412-8df3-4a94-a568-1984bea0c190\" xlink:show=\"new\" xlink:title=\"psysml:88e99412-8df3-4a94-a568-1984bea0c190\" xlink:type=\"simple\"><rect fill=\"#FFFFFF\" height=\"45.9375\" id=\"E11\" rx=\"10\" ry=\"10\" style=\"stroke: #383838; stroke-width: 1.5;\" width=\"71\" x=\"32.5\" y=\"41\"/><text fill=\"#000000\" font-family=\"sans-serif\" font-size=\"12\" font-style=\"italic\" lengthAdjust=\"spacingAndGlyphs\" textLength=\"69\" x=\"33.5\" y=\"57.1387\">«attribute»</text><text fill=\"#000000\" font-family=\"sans-serif\" font-size=\"12\" lengthAdjust=\"spacingAndGlyphs\" textLength=\"7\" x=\"64.5\" y=\"71.1074\">c</text><line style=\"stroke: #383838; stroke-width: 1.5;\" x1=\"33.5\" x2=\"102.5\" y1=\"78.9375\" y2=\"78.9375\"/></a><text fill=\"#000000\" font-family=\"sans-serif\" font-size=\"14\" lengthAdjust=\"spacingAndGlyphs\" textLength=\"9\" x=\"567.5\" y=\"42.6982\">p</text><rect fill=\"#383838\" height=\"12\" style=\"stroke: #F8F8F8; stroke-width: 1.5;\" width=\"12\" x=\"566\" y=\"58\"/><text fill=\"#000000\" font-family=\"sans-serif\" font-size=\"14\" lengthAdjust=\"spacingAndGlyphs\" textLength=\"9\" x=\"614.5\" y=\"42.6982\">q</text><rect fill=\"#383838\" height=\"12\" style=\"stroke: #F8F8F8; stroke-width: 1.5;\" width=\"12\" x=\"613\" y=\"58\"/><text fill=\"#000000\" font-family=\"sans-serif\" font-size=\"14\" lengthAdjust=\"spacingAndGlyphs\" textLength=\"57\" x=\"590.5\" y=\"380.7151\">noname</text><rect fill=\"#383838\" height=\"12\" style=\"stroke: #F8F8F8; stroke-width: 1.5;\" width=\"12\" x=\"613\" y=\"355.72\"/><!--MD5=[05d275557350bfb9b23a4ef7222b4c39]\n",
       "link E3 to E2--><a href=\"psysml:47946f32-7338-4adb-a6af-ffcb2b2265dd\" target=\"_top\" title=\"psysml:47946f32-7338-4adb-a6af-ffcb2b2265dd\" xlink:actuate=\"onRequest\" xlink:href=\"psysml:47946f32-7338-4adb-a6af-ffcb2b2265dd\" xlink:show=\"new\" xlink:title=\"psysml:47946f32-7338-4adb-a6af-ffcb2b2265dd\" xlink:type=\"simple\"><path d=\"M487,87.29 C487,87.29 487,126.78 487,126.78 \" fill=\"none\" id=\"E3-&gt;E2\" style=\"stroke: #383838; stroke-width: 1.0;\"/><polygon fill=\"#FFFFFF\" points=\"487,146.78,480,127.78,494,127.78,487,146.78\" style=\"stroke: #383838; stroke-width: 1.0;\"/><ellipse cx=\"482\" cy=\"122.08\" fill=\"#383838\" rx=\"2\" ry=\"2\" style=\"stroke: #383838; stroke-width: 1.0;\"/><ellipse cx=\"492\" cy=\"122.08\" fill=\"#383838\" rx=\"2\" ry=\"2\" style=\"stroke: #383838; stroke-width: 1.0;\"/></a><!--MD5=[9c2cfedc8085a9f3a7421cc6563d154c]\n",
       "@startuml\r\n",
       "skinparam linetype ortho\r\n",
       "skinparam monochrome true\r\n",
       "skinparam classbackgroundcolor white\r\n",
       "skinparam shadowing false\r\n",
       "skinparam wrapWidth 300\r\n",
       "hide circle\r\n",
       "\r\n",
       "package \"ParameterTest\" as E1  [[psysml:adbc474a-2784-4828-be47-026fefc14932 ]]  {\r\n",
       "comp def \"A\" as E2  <<(T,blue) attribute def>> [[psysml:fa211d39-e6da-4efb-a07a-68e935dd1093 ]] {\r\n",
       "- - attributes - -\r\n",
       "x: String\r\n",
       "y: A\r\n",
       "}\r\n",
       "comp usage \"a: A\" as E3  <<(T,blue) attribute>> [[psysml:665f7084-89dd-4cc9-a479-f70e09a77220 ]] {\r\n",
       "}\r\n",
       "rec def \"F\" as E4  <<(T,blue) calculation def>> [[psysml:ea0c6e06-a87b-4616-91bc-ba79196303d0 ]] {\r\n",
       "portin \"p\" as E5  [[psysml:e1d329d3-cb1e-45c3-b1d5-2fcf771779ef ]] \r\n",
       "portin \"q\" as E6  [[psysml:b499ebef-2d53-43ba-b86a-de9084e46bb3 ]] \r\n",
       "portout \"noname\" as E7  [[psysml:2e56002b-31e4-43bf-ad2b-cc6ef1aac7ab ]] \r\n",
       "}\r\n",
       "\r\n",
       "comp usage \"f\" as E8  <<(T,blue) attribute>> [[psysml:1ebb82ef-cdf5-4836-9887-d34bbc134ce1 ]] {\r\n",
       "}\r\n",
       "comp usage \"g\" as E9  <<(T,blue) attribute>> [[psysml:22e07e99-e7e6-486c-b8ca-f79edb8ad4e8 ]] {\r\n",
       "}\r\n",
       "comp usage \"b\" as E10  <<(T,blue) attribute>> [[psysml:a8be3d15-ac76-451a-a4cf-87ef8e02e637 ]] {\r\n",
       "}\r\n",
       "comp usage \"c\" as E11  <<(T,blue) attribute>> [[psysml:88e99412-8df3-4a94-a568-1984bea0c190 ]] {\r\n",
       "}\r\n",
       "E3 - -:|> E2 [[psysml:47946f32-7338-4adb-a6af-ffcb2b2265dd ]] \r\n",
       "}\r\n",
       "@enduml\r\n",
       "\n",
       "PlantUML version 1.2020.13(Sat Jun 13 12:26:38 UTC 2020)\n",
       "(EPL source distribution)\n",
       "Java Runtime: OpenJDK Runtime Environment\n",
       "JVM: OpenJDK 64-Bit Server VM\n",
       "Default Encoding: UTF-8\n",
       "Language: en\n",
       "Country: null\n",
       "--></g></svg>"
      ]
     },
     "execution_count": 57,
     "metadata": {},
     "output_type": "execute_result"
    }
   ],
   "source": [
    "%viz --style=\"ORTHOLINE\" --view=\"MIXED\" \"ParameterTest\""
   ]
  }
 ],
 "metadata": {
  "kernelspec": {
   "display_name": "SysML",
   "language": "sysml",
   "name": "sysml"
  },
  "language_info": {
   "codemirror_mode": "sysml",
   "file_extension": ".sysml",
   "mimetype": "text/x-sysml",
   "name": "SysML",
   "pygments_lexer": "java",
   "version": "1.0.0"
  }
 },
 "nbformat": 4,
 "nbformat_minor": 5
}
