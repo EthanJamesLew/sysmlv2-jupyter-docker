{
 "cells": [
  {
   "cell_type": "markdown",
   "id": "5063efa4",
   "metadata": {},
   "source": [
    "# SysML v2 Test Suite\n",
    "\n",
    "This can notebook can be cleared using menu `Edit --> Clear All Outputs` and then all cells can be\n",
    "run using menu `Run --> Run All Cells`.\n",
    "\n",
    "**WARNING**: This file is generated, all modifications here will be ignored.\n"
   ]
  },
  {
   "cell_type": "markdown",
   "id": "78da3b74",
   "metadata": {},
   "source": [
    "## File: ../../sysml/src/examples/Simple Tests/ParameterTest.sysml"
   ]
  },
  {
   "cell_type": "code",
   "execution_count": 1,
   "id": "27bd7159",
   "metadata": {
    "execution": {
     "iopub.execute_input": "2022-03-03T09:56:12.992878Z",
     "iopub.status.busy": "2022-03-03T09:56:12.991709Z",
     "iopub.status.idle": "2022-03-03T09:56:13.247479Z",
     "shell.execute_reply": "2022-03-03T09:56:13.247816Z"
    }
   },
   "outputs": [
    {
     "data": {
      "text/plain": [
       "Package ParameterTest (c74fc5ec-d053-4e3b-b953-69f99d83e593)\n"
      ]
     },
     "execution_count": 1,
     "metadata": {},
     "output_type": "execute_result"
    }
   ],
   "source": [
    "package ParameterTest {\n",
    "\tattribute def A {\n",
    "\t\tattribute x : ScalarValues::String;\n",
    "\t\tattribute y : A;\n",
    "\t}\n",
    "\t\n",
    "\tattribute a : A;\n",
    "\t\n",
    "\tcalc def F (p : A, q : ScalarValues::Integer): ScalarValues::Integer;\n",
    "\t\n",
    "\tattribute f = F(a, 2);\n",
    "\tattribute g = F(q = 1, p = a);\n",
    "\t\n",
    "\tattribute b = A(y=a, x=\"\"); \n",
    "\tattribute c = A(\"test2\");\n",
    "}"
   ]
  },
  {
   "cell_type": "code",
   "execution_count": 2,
   "id": "835cbe19",
   "metadata": {
    "execution": {
     "iopub.execute_input": "2022-03-03T09:56:13.298924Z",
     "iopub.status.busy": "2022-03-03T09:56:13.298452Z",
     "iopub.status.idle": "2022-03-03T09:56:13.786137Z",
     "shell.execute_reply": "2022-03-03T09:56:13.785595Z"
    }
   },
   "outputs": [
    {
     "data": {
      "image/svg+xml": [
       "<?xml version=\"1.0\" encoding=\"UTF-8\" standalone=\"no\"?><svg xmlns=\"http://www.w3.org/2000/svg\" xmlns:xlink=\"http://www.w3.org/1999/xlink\" contentScriptType=\"application/ecmascript\" contentStyleType=\"text/css\" height=\"403px\" preserveAspectRatio=\"none\" style=\"width:744px;height:403px;\" version=\"1.1\" viewBox=\"0 0 744 403\" width=\"744px\" zoomAndPan=\"magnify\"><defs/><g><!--MD5=[fbc87193dbaf4d95561dea2c320d4a47]\n",
       "cluster E1--><a href=\"psysml:86781c8e-3979-42bc-84a0-50d047026621\" target=\"_top\" title=\"psysml:86781c8e-3979-42bc-84a0-50d047026621\" xlink:actuate=\"onRequest\" xlink:href=\"psysml:86781c8e-3979-42bc-84a0-50d047026621\" xlink:show=\"new\" xlink:title=\"psysml:86781c8e-3979-42bc-84a0-50d047026621\" xlink:type=\"simple\"><polygon fill=\"#FFFFFF\" points=\"16,6,124,6,131,28.2969,722,28.2969,722,391.72,16,391.72,16,6\" style=\"stroke: #000000; stroke-width: 1.5;\"/><line style=\"stroke: #000000; stroke-width: 1.5;\" x1=\"16\" x2=\"131\" y1=\"28.2969\" y2=\"28.2969\"/><text fill=\"#000000\" font-family=\"sans-serif\" font-size=\"14\" font-weight=\"bold\" lengthAdjust=\"spacingAndGlyphs\" textLength=\"102\" x=\"20\" y=\"20.9951\">ParameterTest</text></a><!--MD5=[f6df4d0ebaf0b5dfb2ced0ae5af7c670]\n",
       "cluster E4--><a href=\"psysml:824349d9-f3af-4f57-b650-7b4ce1821d09\" target=\"_top\" title=\"psysml:824349d9-f3af-4f57-b650-7b4ce1821d09\" xlink:actuate=\"onRequest\" xlink:href=\"psysml:824349d9-f3af-4f57-b650-7b4ce1821d09\" xlink:show=\"new\" xlink:title=\"psysml:824349d9-f3af-4f57-b650-7b4ce1821d09\" xlink:type=\"simple\"><rect fill=\"#FFFFFF\" height=\"297.72\" id=\"E4\" style=\"stroke: #383838; stroke-width: 1.5;\" width=\"150\" x=\"556\" y=\"64\"/><rect fill=\"#F8F8F8\" height=\"37.9375\" style=\"stroke: #383838; stroke-width: 1.5;\" width=\"150\" x=\"556\" y=\"64\"/><text fill=\"#000000\" font-family=\"sans-serif\" font-size=\"12\" font-style=\"italic\" lengthAdjust=\"spacingAndGlyphs\" textLength=\"110\" x=\"576\" y=\"80.1387\">«calculation  def»</text><text fill=\"#000000\" font-family=\"sans-serif\" font-size=\"12\" lengthAdjust=\"spacingAndGlyphs\" textLength=\"7\" x=\"627.5\" y=\"94.1074\">F</text></a><!--MD5=[b4997ac47864f28c2f74865a473b2911]\n",
       "class E2--><a href=\"psysml:2ec9bc29-3801-4d04-bd01-a8a7cc509576\" target=\"_top\" title=\"psysml:2ec9bc29-3801-4d04-bd01-a8a7cc509576\" xlink:actuate=\"onRequest\" xlink:href=\"psysml:2ec9bc29-3801-4d04-bd01-a8a7cc509576\" xlink:show=\"new\" xlink:title=\"psysml:2ec9bc29-3801-4d04-bd01-a8a7cc509576\" xlink:type=\"simple\"><rect fill=\"#FFFFFF\" height=\"88.3516\" id=\"E2\" style=\"stroke: #383838; stroke-width: 1.5;\" width=\"99\" x=\"418.5\" y=\"147\"/><text fill=\"#000000\" font-family=\"sans-serif\" font-size=\"12\" font-style=\"italic\" lengthAdjust=\"spacingAndGlyphs\" textLength=\"97\" x=\"419.5\" y=\"163.1387\">«attribute  def»</text><text fill=\"#000000\" font-family=\"sans-serif\" font-size=\"12\" lengthAdjust=\"spacingAndGlyphs\" textLength=\"8\" x=\"464\" y=\"177.1074\">A</text><line style=\"stroke: #383838; stroke-width: 1.5;\" x1=\"419.5\" x2=\"516.5\" y1=\"184.9375\" y2=\"184.9375\"/><text fill=\"#000000\" font-family=\"sans-serif\" font-size=\"11\" lengthAdjust=\"spacingAndGlyphs\" textLength=\"48\" x=\"424.5\" y=\"215.9526\">x: String</text><text fill=\"#000000\" font-family=\"sans-serif\" font-size=\"11\" lengthAdjust=\"spacingAndGlyphs\" textLength=\"21\" x=\"424.5\" y=\"228.7573\">y: A</text><line style=\"stroke: #383838; stroke-width: 1.0;\" x1=\"419.5\" x2=\"440.5\" y1=\"199.3398\" y2=\"199.3398\"/><text fill=\"#000000\" font-family=\"sans-serif\" font-size=\"11\" lengthAdjust=\"spacingAndGlyphs\" textLength=\"55\" x=\"440.5\" y=\"202.6479\">attributes</text><line style=\"stroke: #383838; stroke-width: 1.0;\" x1=\"495.5\" x2=\"516.5\" y1=\"199.3398\" y2=\"199.3398\"/></a><!--MD5=[09b614a08d8cba4a07c9adeb5e0fee81]\n",
       "class E3--><a href=\"psysml:904ee486-6b36-4246-8723-5e3acfd2e245\" target=\"_top\" title=\"psysml:904ee486-6b36-4246-8723-5e3acfd2e245\" xlink:actuate=\"onRequest\" xlink:href=\"psysml:904ee486-6b36-4246-8723-5e3acfd2e245\" xlink:show=\"new\" xlink:title=\"psysml:904ee486-6b36-4246-8723-5e3acfd2e245\" xlink:type=\"simple\"><rect fill=\"#FFFFFF\" height=\"45.9375\" id=\"E3\" rx=\"10\" ry=\"10\" style=\"stroke: #383838; stroke-width: 1.5;\" width=\"71\" x=\"456.5\" y=\"41\"/><text fill=\"#000000\" font-family=\"sans-serif\" font-size=\"12\" font-style=\"italic\" lengthAdjust=\"spacingAndGlyphs\" textLength=\"69\" x=\"457.5\" y=\"57.1387\">«attribute»</text><text fill=\"#000000\" font-family=\"sans-serif\" font-size=\"12\" lengthAdjust=\"spacingAndGlyphs\" textLength=\"24\" x=\"478\" y=\"71.1074\">a: A</text><line style=\"stroke: #383838; stroke-width: 1.5;\" x1=\"457.5\" x2=\"526.5\" y1=\"78.9375\" y2=\"78.9375\"/></a><!--MD5=[b9389687b975829384b498ac4b7476b2]\n",
       "class E8--><a href=\"psysml:8204b4e2-616f-4bbc-afa4-9ecd277b5579\" target=\"_top\" title=\"psysml:8204b4e2-616f-4bbc-afa4-9ecd277b5579\" xlink:actuate=\"onRequest\" xlink:href=\"psysml:8204b4e2-616f-4bbc-afa4-9ecd277b5579\" xlink:show=\"new\" xlink:title=\"psysml:8204b4e2-616f-4bbc-afa4-9ecd277b5579\" xlink:type=\"simple\"><rect fill=\"#FFFFFF\" height=\"45.9375\" id=\"E8\" rx=\"10\" ry=\"10\" style=\"stroke: #383838; stroke-width: 1.5;\" width=\"71\" x=\"350.5\" y=\"41\"/><text fill=\"#000000\" font-family=\"sans-serif\" font-size=\"12\" font-style=\"italic\" lengthAdjust=\"spacingAndGlyphs\" textLength=\"69\" x=\"351.5\" y=\"57.1387\">«attribute»</text><text fill=\"#000000\" font-family=\"sans-serif\" font-size=\"12\" lengthAdjust=\"spacingAndGlyphs\" textLength=\"4\" x=\"382\" y=\"71.1074\">f</text><line style=\"stroke: #383838; stroke-width: 1.5;\" x1=\"351.5\" x2=\"420.5\" y1=\"78.9375\" y2=\"78.9375\"/></a><!--MD5=[fd4143e9d270a159db93a4ea2a975926]\n",
       "class E9--><a href=\"psysml:86e22d1e-a4d5-4fc2-80cd-01d3f8e601c3\" target=\"_top\" title=\"psysml:86e22d1e-a4d5-4fc2-80cd-01d3f8e601c3\" xlink:actuate=\"onRequest\" xlink:href=\"psysml:86e22d1e-a4d5-4fc2-80cd-01d3f8e601c3\" xlink:show=\"new\" xlink:title=\"psysml:86e22d1e-a4d5-4fc2-80cd-01d3f8e601c3\" xlink:type=\"simple\"><rect fill=\"#FFFFFF\" height=\"45.9375\" id=\"E9\" rx=\"10\" ry=\"10\" style=\"stroke: #383838; stroke-width: 1.5;\" width=\"71\" x=\"244.5\" y=\"41\"/><text fill=\"#000000\" font-family=\"sans-serif\" font-size=\"12\" font-style=\"italic\" lengthAdjust=\"spacingAndGlyphs\" textLength=\"69\" x=\"245.5\" y=\"57.1387\">«attribute»</text><text fill=\"#000000\" font-family=\"sans-serif\" font-size=\"12\" lengthAdjust=\"spacingAndGlyphs\" textLength=\"8\" x=\"274\" y=\"71.1074\">g</text><line style=\"stroke: #383838; stroke-width: 1.5;\" x1=\"245.5\" x2=\"314.5\" y1=\"78.9375\" y2=\"78.9375\"/></a><!--MD5=[96f4274e9e20536e775497830990834d]\n",
       "class E10--><a href=\"psysml:5bd4ed77-91ea-4eb7-bbff-8ef8917960b7\" target=\"_top\" title=\"psysml:5bd4ed77-91ea-4eb7-bbff-8ef8917960b7\" xlink:actuate=\"onRequest\" xlink:href=\"psysml:5bd4ed77-91ea-4eb7-bbff-8ef8917960b7\" xlink:show=\"new\" xlink:title=\"psysml:5bd4ed77-91ea-4eb7-bbff-8ef8917960b7\" xlink:type=\"simple\"><rect fill=\"#FFFFFF\" height=\"45.9375\" id=\"E10\" rx=\"10\" ry=\"10\" style=\"stroke: #383838; stroke-width: 1.5;\" width=\"71\" x=\"138.5\" y=\"41\"/><text fill=\"#000000\" font-family=\"sans-serif\" font-size=\"12\" font-style=\"italic\" lengthAdjust=\"spacingAndGlyphs\" textLength=\"69\" x=\"139.5\" y=\"57.1387\">«attribute»</text><text fill=\"#000000\" font-family=\"sans-serif\" font-size=\"12\" lengthAdjust=\"spacingAndGlyphs\" textLength=\"8\" x=\"168\" y=\"71.1074\">b</text><line style=\"stroke: #383838; stroke-width: 1.5;\" x1=\"139.5\" x2=\"208.5\" y1=\"78.9375\" y2=\"78.9375\"/></a><!--MD5=[1dd1bfd58a279cf63c5f349dbc8fc6a1]\n",
       "class E11--><a href=\"psysml:88436cf5-d13a-4d80-b468-40a83b162e0f\" target=\"_top\" title=\"psysml:88436cf5-d13a-4d80-b468-40a83b162e0f\" xlink:actuate=\"onRequest\" xlink:href=\"psysml:88436cf5-d13a-4d80-b468-40a83b162e0f\" xlink:show=\"new\" xlink:title=\"psysml:88436cf5-d13a-4d80-b468-40a83b162e0f\" xlink:type=\"simple\"><rect fill=\"#FFFFFF\" height=\"45.9375\" id=\"E11\" rx=\"10\" ry=\"10\" style=\"stroke: #383838; stroke-width: 1.5;\" width=\"71\" x=\"32.5\" y=\"41\"/><text fill=\"#000000\" font-family=\"sans-serif\" font-size=\"12\" font-style=\"italic\" lengthAdjust=\"spacingAndGlyphs\" textLength=\"69\" x=\"33.5\" y=\"57.1387\">«attribute»</text><text fill=\"#000000\" font-family=\"sans-serif\" font-size=\"12\" lengthAdjust=\"spacingAndGlyphs\" textLength=\"7\" x=\"62.5\" y=\"71.1074\">c</text><line style=\"stroke: #383838; stroke-width: 1.5;\" x1=\"33.5\" x2=\"102.5\" y1=\"78.9375\" y2=\"78.9375\"/></a><text fill=\"#000000\" font-family=\"sans-serif\" font-size=\"14\" lengthAdjust=\"spacingAndGlyphs\" textLength=\"9\" x=\"569.5\" y=\"42.6982\">p</text><rect fill=\"#383838\" height=\"12\" style=\"stroke: #F8F8F8; stroke-width: 1.5;\" width=\"12\" x=\"568\" y=\"58\"/><text fill=\"#000000\" font-family=\"sans-serif\" font-size=\"14\" lengthAdjust=\"spacingAndGlyphs\" textLength=\"9\" x=\"616.5\" y=\"42.6982\">q</text><rect fill=\"#383838\" height=\"12\" style=\"stroke: #F8F8F8; stroke-width: 1.5;\" width=\"12\" x=\"615\" y=\"58\"/><text fill=\"#000000\" font-family=\"sans-serif\" font-size=\"14\" lengthAdjust=\"spacingAndGlyphs\" textLength=\"39\" x=\"601.5\" y=\"380.7151\">result</text><rect fill=\"#383838\" height=\"12\" style=\"stroke: #F8F8F8; stroke-width: 1.5;\" width=\"12\" x=\"615\" y=\"355.72\"/><!--MD5=[05d275557350bfb9b23a4ef7222b4c39]\n",
       "link E3 to E2--><a href=\"psysml:b5c275d4-de01-4c83-8a05-69f2b086225e\" target=\"_top\" title=\"psysml:b5c275d4-de01-4c83-8a05-69f2b086225e\" xlink:actuate=\"onRequest\" xlink:href=\"psysml:b5c275d4-de01-4c83-8a05-69f2b086225e\" xlink:show=\"new\" xlink:title=\"psysml:b5c275d4-de01-4c83-8a05-69f2b086225e\" xlink:type=\"simple\"><path d=\"M487.76,87.06 C485.61,98.3 482.86,112.6 480.11,126.95 \" fill=\"none\" id=\"E3-&gt;E2\" style=\"stroke: #383838; stroke-width: 1.0;\"/><polygon fill=\"#FFFFFF\" points=\"476.27,146.93,472.9781,126.9509,486.727,129.5907,476.27,146.93\" style=\"stroke: #383838; stroke-width: 1.0;\"/><ellipse cx=\"476.017\" cy=\"121.7303\" fill=\"#383838\" rx=\"2\" ry=\"2\" style=\"stroke: #383838; stroke-width: 1.0;\"/><ellipse cx=\"485.8376\" cy=\"123.6158\" fill=\"#383838\" rx=\"2\" ry=\"2\" style=\"stroke: #383838; stroke-width: 1.0;\"/></a><!--MD5=[1c2b3449933a54a7e5ec461974222e9c]\n",
       "@startuml\r\n",
       " skinparam monochrome true\r\n",
       "skinparam classbackgroundcolor white\r\n",
       "skinparam shadowing false\r\n",
       "skinparam wrapWidth 300\r\n",
       "hide circle\r\n",
       "\r\n",
       "package \"ParameterTest\" as E1  [[psysml:86781c8e-3979-42bc-84a0-50d047026621 ]]  {\r\n",
       "comp def \"A\" as E2  <<(T,blue) attribute  def>> [[psysml:2ec9bc29-3801-4d04-bd01-a8a7cc509576 ]] {\r\n",
       "- - attributes - -\r\n",
       "x: String\r\n",
       "y: A\r\n",
       "}\r\n",
       "comp usage \"a: A \" as E3  <<(T,blue) attribute>> [[psysml:904ee486-6b36-4246-8723-5e3acfd2e245 ]] {\r\n",
       "}\r\n",
       "rec def \"F\" as E4  <<(T,blue) calculation  def>> [[psysml:824349d9-f3af-4f57-b650-7b4ce1821d09 ]] {\r\n",
       "portin \"p\" as E5  [[psysml:1d7d0081-d3e1-46bd-ad63-b0e63267b1e5 ]] \r\n",
       "portin \"q\" as E6  [[psysml:21dced71-d174-49eb-b20b-d0423025e0cf ]] \r\n",
       "portout \"result\" as E7  [[psysml:89ad9a9d-29f0-45e8-8d07-ebce693a6326 ]] \r\n",
       "}\r\n",
       "\r\n",
       "comp usage \"f \" as E8  <<(T,blue) attribute>> [[psysml:8204b4e2-616f-4bbc-afa4-9ecd277b5579 ]] {\r\n",
       "}\r\n",
       "comp usage \"g \" as E9  <<(T,blue) attribute>> [[psysml:86e22d1e-a4d5-4fc2-80cd-01d3f8e601c3 ]] {\r\n",
       "}\r\n",
       "comp usage \"b \" as E10  <<(T,blue) attribute>> [[psysml:5bd4ed77-91ea-4eb7-bbff-8ef8917960b7 ]] {\r\n",
       "}\r\n",
       "comp usage \"c \" as E11  <<(T,blue) attribute>> [[psysml:88436cf5-d13a-4d80-b468-40a83b162e0f ]] {\r\n",
       "}\r\n",
       "}\r\n",
       "E3 - -:|> E2 [[psysml:b5c275d4-de01-4c83-8a05-69f2b086225e ]] \r\n",
       "@enduml\r\n",
       "\n",
       "PlantUML version 1.2020.13(Sat Jun 13 12:26:38 UTC 2020)\n",
       "(EPL source distribution)\n",
       "Java Runtime: OpenJDK Runtime Environment\n",
       "JVM: OpenJDK 64-Bit Server VM\n",
       "Default Encoding: UTF-8\n",
       "Language: en\n",
       "Country: null\n",
       "--></g></svg>"
      ]
     },
     "execution_count": 2,
     "metadata": {},
     "output_type": "execute_result"
    }
   ],
   "source": [
    "%viz --style=\"COMPTREE\" --view=\"Default\" \"ParameterTest\""
   ]
  },
  {
   "cell_type": "code",
   "execution_count": 3,
   "id": "91ac236d",
   "metadata": {
    "execution": {
     "iopub.execute_input": "2022-03-03T09:56:13.835646Z",
     "iopub.status.busy": "2022-03-03T09:56:13.835137Z",
     "iopub.status.idle": "2022-03-03T09:56:13.954957Z",
     "shell.execute_reply": "2022-03-03T09:56:13.954552Z"
    }
   },
   "outputs": [
    {
     "data": {
      "image/svg+xml": [
       "<?xml version=\"1.0\" encoding=\"UTF-8\" standalone=\"no\"?><svg xmlns=\"http://www.w3.org/2000/svg\" xmlns:xlink=\"http://www.w3.org/1999/xlink\" contentScriptType=\"application/ecmascript\" contentStyleType=\"text/css\" height=\"280px\" preserveAspectRatio=\"none\" style=\"width:714px;height:280px;\" version=\"1.1\" viewBox=\"0 0 714 280\" width=\"714px\" zoomAndPan=\"magnify\"><defs/><g><!--MD5=[fbc87193dbaf4d95561dea2c320d4a47]\n",
       "cluster E1--><a href=\"psysml:86781c8e-3979-42bc-84a0-50d047026621\" target=\"_top\" title=\"psysml:86781c8e-3979-42bc-84a0-50d047026621\" xlink:actuate=\"onRequest\" xlink:href=\"psysml:86781c8e-3979-42bc-84a0-50d047026621\" xlink:show=\"new\" xlink:title=\"psysml:86781c8e-3979-42bc-84a0-50d047026621\" xlink:type=\"simple\"><polygon fill=\"#FFFFFF\" points=\"16,6,124,6,131,28.2969,692,28.2969,692,268,16,268,16,6\" style=\"stroke: #000000; stroke-width: 1.5;\"/><line style=\"stroke: #000000; stroke-width: 1.5;\" x1=\"16\" x2=\"131\" y1=\"28.2969\" y2=\"28.2969\"/><text fill=\"#000000\" font-family=\"sans-serif\" font-size=\"14\" font-weight=\"bold\" lengthAdjust=\"spacingAndGlyphs\" textLength=\"102\" x=\"20\" y=\"20.9951\">ParameterTest</text></a><!--MD5=[b4997ac47864f28c2f74865a473b2911]\n",
       "class E2--><a href=\"psysml:2ec9bc29-3801-4d04-bd01-a8a7cc509576\" target=\"_top\" title=\"psysml:2ec9bc29-3801-4d04-bd01-a8a7cc509576\" xlink:actuate=\"onRequest\" xlink:href=\"psysml:2ec9bc29-3801-4d04-bd01-a8a7cc509576\" xlink:show=\"new\" xlink:title=\"psysml:2ec9bc29-3801-4d04-bd01-a8a7cc509576\" xlink:type=\"simple\"><rect fill=\"#FFFFFF\" height=\"88.3516\" id=\"E2\" style=\"stroke: #383838; stroke-width: 1.5;\" width=\"99\" x=\"499.5\" y=\"164\"/><text fill=\"#000000\" font-family=\"sans-serif\" font-size=\"12\" font-style=\"italic\" lengthAdjust=\"spacingAndGlyphs\" textLength=\"97\" x=\"500.5\" y=\"180.1387\">«attribute  def»</text><text fill=\"#000000\" font-family=\"sans-serif\" font-size=\"12\" lengthAdjust=\"spacingAndGlyphs\" textLength=\"8\" x=\"545\" y=\"194.1074\">A</text><line style=\"stroke: #383838; stroke-width: 1.5;\" x1=\"500.5\" x2=\"597.5\" y1=\"201.9375\" y2=\"201.9375\"/><text fill=\"#000000\" font-family=\"sans-serif\" font-size=\"11\" lengthAdjust=\"spacingAndGlyphs\" textLength=\"48\" x=\"505.5\" y=\"232.9526\">x: String</text><text fill=\"#000000\" font-family=\"sans-serif\" font-size=\"11\" lengthAdjust=\"spacingAndGlyphs\" textLength=\"21\" x=\"505.5\" y=\"245.7573\">y: A</text><line style=\"stroke: #383838; stroke-width: 1.0;\" x1=\"500.5\" x2=\"521.5\" y1=\"216.3398\" y2=\"216.3398\"/><text fill=\"#000000\" font-family=\"sans-serif\" font-size=\"11\" lengthAdjust=\"spacingAndGlyphs\" textLength=\"55\" x=\"521.5\" y=\"219.6479\">attributes</text><line style=\"stroke: #383838; stroke-width: 1.0;\" x1=\"576.5\" x2=\"597.5\" y1=\"216.3398\" y2=\"216.3398\"/></a><!--MD5=[09b614a08d8cba4a07c9adeb5e0fee81]\n",
       "class E3--><a href=\"psysml:904ee486-6b36-4246-8723-5e3acfd2e245\" target=\"_top\" title=\"psysml:904ee486-6b36-4246-8723-5e3acfd2e245\" xlink:actuate=\"onRequest\" xlink:href=\"psysml:904ee486-6b36-4246-8723-5e3acfd2e245\" xlink:show=\"new\" xlink:title=\"psysml:904ee486-6b36-4246-8723-5e3acfd2e245\" xlink:type=\"simple\"><rect fill=\"#FFFFFF\" height=\"45.9375\" id=\"E3\" rx=\"10\" ry=\"10\" style=\"stroke: #383838; stroke-width: 1.5;\" width=\"71\" x=\"604.5\" y=\"41\"/><text fill=\"#000000\" font-family=\"sans-serif\" font-size=\"12\" font-style=\"italic\" lengthAdjust=\"spacingAndGlyphs\" textLength=\"69\" x=\"605.5\" y=\"57.1387\">«attribute»</text><text fill=\"#000000\" font-family=\"sans-serif\" font-size=\"12\" lengthAdjust=\"spacingAndGlyphs\" textLength=\"24\" x=\"626\" y=\"71.1074\">a: A</text><line style=\"stroke: #383838; stroke-width: 1.5;\" x1=\"605.5\" x2=\"674.5\" y1=\"78.9375\" y2=\"78.9375\"/></a><!--MD5=[ebbe1d658d1005bcc118a6aa81145e00]\n",
       "class E4--><a href=\"psysml:824349d9-f3af-4f57-b650-7b4ce1821d09\" target=\"_top\" title=\"psysml:824349d9-f3af-4f57-b650-7b4ce1821d09\" xlink:actuate=\"onRequest\" xlink:href=\"psysml:824349d9-f3af-4f57-b650-7b4ce1821d09\" xlink:show=\"new\" xlink:title=\"psysml:824349d9-f3af-4f57-b650-7b4ce1821d09\" xlink:type=\"simple\"><rect fill=\"#FFFFFF\" height=\"45.9375\" id=\"E4\" style=\"stroke: #383838; stroke-width: 1.5;\" width=\"112\" x=\"457\" y=\"41\"/><text fill=\"#000000\" font-family=\"sans-serif\" font-size=\"12\" font-style=\"italic\" lengthAdjust=\"spacingAndGlyphs\" textLength=\"110\" x=\"458\" y=\"57.1387\">«calculation  def»</text><text fill=\"#000000\" font-family=\"sans-serif\" font-size=\"12\" lengthAdjust=\"spacingAndGlyphs\" textLength=\"7\" x=\"509.5\" y=\"71.1074\">F</text><line style=\"stroke: #383838; stroke-width: 1.5;\" x1=\"458\" x2=\"568\" y1=\"78.9375\" y2=\"78.9375\"/></a><!--MD5=[270fce915f116d4de14055a7c1d9a0f3]\n",
       "class E5--><a href=\"psysml:8204b4e2-616f-4bbc-afa4-9ecd277b5579\" target=\"_top\" title=\"psysml:8204b4e2-616f-4bbc-afa4-9ecd277b5579\" xlink:actuate=\"onRequest\" xlink:href=\"psysml:8204b4e2-616f-4bbc-afa4-9ecd277b5579\" xlink:show=\"new\" xlink:title=\"psysml:8204b4e2-616f-4bbc-afa4-9ecd277b5579\" xlink:type=\"simple\"><rect fill=\"#FFFFFF\" height=\"45.9375\" id=\"E5\" rx=\"10\" ry=\"10\" style=\"stroke: #383838; stroke-width: 1.5;\" width=\"71\" x=\"350.5\" y=\"41\"/><text fill=\"#000000\" font-family=\"sans-serif\" font-size=\"12\" font-style=\"italic\" lengthAdjust=\"spacingAndGlyphs\" textLength=\"69\" x=\"351.5\" y=\"57.1387\">«attribute»</text><text fill=\"#000000\" font-family=\"sans-serif\" font-size=\"12\" lengthAdjust=\"spacingAndGlyphs\" textLength=\"4\" x=\"382\" y=\"71.1074\">f</text><line style=\"stroke: #383838; stroke-width: 1.5;\" x1=\"351.5\" x2=\"420.5\" y1=\"78.9375\" y2=\"78.9375\"/></a><!--MD5=[60a26617385b1d2d0262a64233df1f8d]\n",
       "class E6--><a href=\"psysml:86e22d1e-a4d5-4fc2-80cd-01d3f8e601c3\" target=\"_top\" title=\"psysml:86e22d1e-a4d5-4fc2-80cd-01d3f8e601c3\" xlink:actuate=\"onRequest\" xlink:href=\"psysml:86e22d1e-a4d5-4fc2-80cd-01d3f8e601c3\" xlink:show=\"new\" xlink:title=\"psysml:86e22d1e-a4d5-4fc2-80cd-01d3f8e601c3\" xlink:type=\"simple\"><rect fill=\"#FFFFFF\" height=\"45.9375\" id=\"E6\" rx=\"10\" ry=\"10\" style=\"stroke: #383838; stroke-width: 1.5;\" width=\"71\" x=\"244.5\" y=\"41\"/><text fill=\"#000000\" font-family=\"sans-serif\" font-size=\"12\" font-style=\"italic\" lengthAdjust=\"spacingAndGlyphs\" textLength=\"69\" x=\"245.5\" y=\"57.1387\">«attribute»</text><text fill=\"#000000\" font-family=\"sans-serif\" font-size=\"12\" lengthAdjust=\"spacingAndGlyphs\" textLength=\"8\" x=\"274\" y=\"71.1074\">g</text><line style=\"stroke: #383838; stroke-width: 1.5;\" x1=\"245.5\" x2=\"314.5\" y1=\"78.9375\" y2=\"78.9375\"/></a><!--MD5=[2156ba9850f5573cc1fc38a6a4b2f02b]\n",
       "class E7--><a href=\"psysml:5bd4ed77-91ea-4eb7-bbff-8ef8917960b7\" target=\"_top\" title=\"psysml:5bd4ed77-91ea-4eb7-bbff-8ef8917960b7\" xlink:actuate=\"onRequest\" xlink:href=\"psysml:5bd4ed77-91ea-4eb7-bbff-8ef8917960b7\" xlink:show=\"new\" xlink:title=\"psysml:5bd4ed77-91ea-4eb7-bbff-8ef8917960b7\" xlink:type=\"simple\"><rect fill=\"#FFFFFF\" height=\"45.9375\" id=\"E7\" rx=\"10\" ry=\"10\" style=\"stroke: #383838; stroke-width: 1.5;\" width=\"71\" x=\"138.5\" y=\"41\"/><text fill=\"#000000\" font-family=\"sans-serif\" font-size=\"12\" font-style=\"italic\" lengthAdjust=\"spacingAndGlyphs\" textLength=\"69\" x=\"139.5\" y=\"57.1387\">«attribute»</text><text fill=\"#000000\" font-family=\"sans-serif\" font-size=\"12\" lengthAdjust=\"spacingAndGlyphs\" textLength=\"8\" x=\"168\" y=\"71.1074\">b</text><line style=\"stroke: #383838; stroke-width: 1.5;\" x1=\"139.5\" x2=\"208.5\" y1=\"78.9375\" y2=\"78.9375\"/></a><!--MD5=[b9389687b975829384b498ac4b7476b2]\n",
       "class E8--><a href=\"psysml:88436cf5-d13a-4d80-b468-40a83b162e0f\" target=\"_top\" title=\"psysml:88436cf5-d13a-4d80-b468-40a83b162e0f\" xlink:actuate=\"onRequest\" xlink:href=\"psysml:88436cf5-d13a-4d80-b468-40a83b162e0f\" xlink:show=\"new\" xlink:title=\"psysml:88436cf5-d13a-4d80-b468-40a83b162e0f\" xlink:type=\"simple\"><rect fill=\"#FFFFFF\" height=\"45.9375\" id=\"E8\" rx=\"10\" ry=\"10\" style=\"stroke: #383838; stroke-width: 1.5;\" width=\"71\" x=\"32.5\" y=\"41\"/><text fill=\"#000000\" font-family=\"sans-serif\" font-size=\"12\" font-style=\"italic\" lengthAdjust=\"spacingAndGlyphs\" textLength=\"69\" x=\"33.5\" y=\"57.1387\">«attribute»</text><text fill=\"#000000\" font-family=\"sans-serif\" font-size=\"12\" lengthAdjust=\"spacingAndGlyphs\" textLength=\"7\" x=\"62.5\" y=\"71.1074\">c</text><line style=\"stroke: #383838; stroke-width: 1.5;\" x1=\"33.5\" x2=\"102.5\" y1=\"78.9375\" y2=\"78.9375\"/></a><!--MD5=[05d275557350bfb9b23a4ef7222b4c39]\n",
       "link E3 to E2--><a href=\"psysml:b5c275d4-de01-4c83-8a05-69f2b086225e\" target=\"_top\" title=\"psysml:b5c275d4-de01-4c83-8a05-69f2b086225e\" xlink:actuate=\"onRequest\" xlink:href=\"psysml:b5c275d4-de01-4c83-8a05-69f2b086225e\" xlink:show=\"new\" xlink:title=\"psysml:b5c275d4-de01-4c83-8a05-69f2b086225e\" xlink:type=\"simple\"><path d=\"M625.78,87.19 C615.5,103.23 601.08,125.73 587.52,146.9 \" fill=\"none\" id=\"E3-&gt;E2\" style=\"stroke: #383838; stroke-width: 1.0;\"/><polygon fill=\"#FFFFFF\" points=\"576.67,163.82,581.0214,144.0446,592.8112,151.5945,576.67,163.82\" style=\"stroke: #383838; stroke-width: 1.0;\"/><ellipse cx=\"585.7795\" cy=\"140.323\" fill=\"#383838\" rx=\"2\" ry=\"2\" style=\"stroke: #383838; stroke-width: 1.0;\"/><ellipse cx=\"594.2008\" cy=\"145.7158\" fill=\"#383838\" rx=\"2\" ry=\"2\" style=\"stroke: #383838; stroke-width: 1.0;\"/></a><!--MD5=[ddeed8deb2209213b62e6cfabaa108b2]\n",
       "reverse link E4 to E2--><a href=\"psysml:1d7d0081-d3e1-46bd-ad63-b0e63267b1e5\" target=\"_top\" title=\"psysml:1d7d0081-d3e1-46bd-ad63-b0e63267b1e5\" xlink:actuate=\"onRequest\" xlink:href=\"psysml:1d7d0081-d3e1-46bd-ad63-b0e63267b1e5\" xlink:show=\"new\" xlink:title=\"psysml:1d7d0081-d3e1-46bd-ad63-b0e63267b1e5\" xlink:type=\"simple\"><path d=\"M521.86,99.96 C526.75,119.25 532.87,143.36 538.05,163.82 \" fill=\"none\" id=\"E4&lt;-E2\" style=\"stroke: #383838; stroke-width: 1.0;\"/><polygon fill=\"#FFFFFF\" points=\"518.62,87.19,516.22,93.99,521.5738,98.8208,523.9738,92.0208,518.62,87.19\" style=\"stroke: #383838; stroke-width: 1.0;\"/><text fill=\"#000000\" font-family=\"sans-serif\" font-size=\"13\" lengthAdjust=\"spacingAndGlyphs\" textLength=\"8\" x=\"530\" y=\"130.0669\">p</text></a><!--MD5=[a02d004656caa804dcda003a27560dd0]\n",
       "@startuml\r\n",
       " skinparam monochrome true\r\n",
       "skinparam classbackgroundcolor white\r\n",
       "skinparam shadowing false\r\n",
       "skinparam wrapWidth 300\r\n",
       "hide circle\r\n",
       "\r\n",
       "package \"ParameterTest\" as E1  [[psysml:86781c8e-3979-42bc-84a0-50d047026621 ]]  {\r\n",
       "comp def \"A\" as E2  <<(T,blue) attribute  def>> [[psysml:2ec9bc29-3801-4d04-bd01-a8a7cc509576 ]] {\r\n",
       "- - attributes - -\r\n",
       "x: String\r\n",
       "y: A\r\n",
       "}\r\n",
       "comp usage \"a: A \" as E3  <<(T,blue) attribute>> [[psysml:904ee486-6b36-4246-8723-5e3acfd2e245 ]] {\r\n",
       "}\r\n",
       "comp def \"F\" as E4  <<(T,blue) calculation  def>> [[psysml:824349d9-f3af-4f57-b650-7b4ce1821d09 ]] {\r\n",
       "}\r\n",
       "comp usage \"f \" as E5  <<(T,blue) attribute>> [[psysml:8204b4e2-616f-4bbc-afa4-9ecd277b5579 ]] {\r\n",
       "}\r\n",
       "comp usage \"g \" as E6  <<(T,blue) attribute>> [[psysml:86e22d1e-a4d5-4fc2-80cd-01d3f8e601c3 ]] {\r\n",
       "}\r\n",
       "comp usage \"b \" as E7  <<(T,blue) attribute>> [[psysml:5bd4ed77-91ea-4eb7-bbff-8ef8917960b7 ]] {\r\n",
       "}\r\n",
       "comp usage \"c \" as E8  <<(T,blue) attribute>> [[psysml:88436cf5-d13a-4d80-b468-40a83b162e0f ]] {\r\n",
       "}\r\n",
       "}\r\n",
       "E3 - -:|> E2 [[psysml:b5c275d4-de01-4c83-8a05-69f2b086225e ]] \r\n",
       "E4 o- - E2 [[psysml:1d7d0081-d3e1-46bd-ad63-b0e63267b1e5 ]] : p\r\n",
       "@enduml\r\n",
       "\n",
       "PlantUML version 1.2020.13(Sat Jun 13 12:26:38 UTC 2020)\n",
       "(EPL source distribution)\n",
       "Java Runtime: OpenJDK Runtime Environment\n",
       "JVM: OpenJDK 64-Bit Server VM\n",
       "Default Encoding: UTF-8\n",
       "Language: en\n",
       "Country: null\n",
       "--></g></svg>"
      ]
     },
     "execution_count": 3,
     "metadata": {},
     "output_type": "execute_result"
    }
   ],
   "source": [
    "%viz --style=\"COMPTREE\" --view=\"Tree\" \"ParameterTest\""
   ]
  },
  {
   "cell_type": "code",
   "execution_count": 4,
   "id": "db333971",
   "metadata": {
    "execution": {
     "iopub.execute_input": "2022-03-03T09:56:14.005362Z",
     "iopub.status.busy": "2022-03-03T09:56:14.004855Z",
     "iopub.status.idle": "2022-03-03T09:56:14.012375Z",
     "shell.execute_reply": "2022-03-03T09:56:14.012704Z"
    }
   },
   "outputs": [
    {
     "data": {
      "image/svg+xml": [
       "<?xml version=\"1.0\" encoding=\"UTF-8\" standalone=\"no\"?><svg xmlns=\"http://www.w3.org/2000/svg\" xmlns:xlink=\"http://www.w3.org/1999/xlink\" contentScriptType=\"application/ecmascript\" contentStyleType=\"text/css\" height=\"12px\" preserveAspectRatio=\"none\" style=\"width:12px;height:12px;\" version=\"1.1\" viewBox=\"0 0 12 12\" width=\"12px\" zoomAndPan=\"magnify\"><defs/><g><!--MD5=[f19188ef49e11757b5c46753f95d9edc]\n",
       "@startuml\r\n",
       " skinparam monochrome true\r\n",
       "skinparam classbackgroundcolor white\r\n",
       "skinparam shadowing false\r\n",
       "skinparam wrapWidth 300\r\n",
       "hide circle\r\n",
       "\r\n",
       "@enduml\r\n",
       "\n",
       "PlantUML version 1.2020.13(Sat Jun 13 12:26:38 UTC 2020)\n",
       "(EPL source distribution)\n",
       "Java Runtime: OpenJDK Runtime Environment\n",
       "JVM: OpenJDK 64-Bit Server VM\n",
       "Default Encoding: UTF-8\n",
       "Language: en\n",
       "Country: null\n",
       "--></g></svg>"
      ]
     },
     "execution_count": 4,
     "metadata": {},
     "output_type": "execute_result"
    }
   ],
   "source": [
    "%viz --style=\"COMPTREE\" --view=\"State\" \"ParameterTest\""
   ]
  },
  {
   "cell_type": "code",
   "execution_count": 5,
   "id": "2b652293",
   "metadata": {
    "execution": {
     "iopub.execute_input": "2022-03-03T09:56:14.063343Z",
     "iopub.status.busy": "2022-03-03T09:56:14.062906Z",
     "iopub.status.idle": "2022-03-03T09:56:14.120894Z",
     "shell.execute_reply": "2022-03-03T09:56:14.120460Z"
    }
   },
   "outputs": [
    {
     "data": {
      "image/svg+xml": [
       "<?xml version=\"1.0\" encoding=\"UTF-8\" standalone=\"no\"?><svg xmlns=\"http://www.w3.org/2000/svg\" xmlns:xlink=\"http://www.w3.org/1999/xlink\" contentScriptType=\"application/ecmascript\" contentStyleType=\"text/css\" height=\"216px\" preserveAspectRatio=\"none\" style=\"width:744px;height:216px;\" version=\"1.1\" viewBox=\"0 0 744 216\" width=\"744px\" zoomAndPan=\"magnify\"><defs/><g><!--MD5=[fbc87193dbaf4d95561dea2c320d4a47]\n",
       "cluster E1--><a href=\"psysml:86781c8e-3979-42bc-84a0-50d047026621\" target=\"_top\" title=\"psysml:86781c8e-3979-42bc-84a0-50d047026621\" xlink:actuate=\"onRequest\" xlink:href=\"psysml:86781c8e-3979-42bc-84a0-50d047026621\" xlink:show=\"new\" xlink:title=\"psysml:86781c8e-3979-42bc-84a0-50d047026621\" xlink:type=\"simple\"><polygon fill=\"#FFFFFF\" points=\"16,6,124,6,131,28.2969,722,28.2969,722,204.72,16,204.72,16,6\" style=\"stroke: #000000; stroke-width: 1.5;\"/><line style=\"stroke: #000000; stroke-width: 1.5;\" x1=\"16\" x2=\"131\" y1=\"28.2969\" y2=\"28.2969\"/><text fill=\"#000000\" font-family=\"sans-serif\" font-size=\"14\" font-weight=\"bold\" lengthAdjust=\"spacingAndGlyphs\" textLength=\"102\" x=\"20\" y=\"20.9951\">ParameterTest</text></a><!--MD5=[f6df4d0ebaf0b5dfb2ced0ae5af7c670]\n",
       "cluster E4--><a href=\"psysml:824349d9-f3af-4f57-b650-7b4ce1821d09\" target=\"_top\" title=\"psysml:824349d9-f3af-4f57-b650-7b4ce1821d09\" xlink:actuate=\"onRequest\" xlink:href=\"psysml:824349d9-f3af-4f57-b650-7b4ce1821d09\" xlink:show=\"new\" xlink:title=\"psysml:824349d9-f3af-4f57-b650-7b4ce1821d09\" xlink:type=\"simple\"><rect fill=\"#FFFFFF\" height=\"110.72\" id=\"E4\" style=\"stroke: #383838; stroke-width: 1.5;\" width=\"150\" x=\"556\" y=\"64\"/><rect fill=\"#F8F8F8\" height=\"37.9375\" style=\"stroke: #383838; stroke-width: 1.5;\" width=\"150\" x=\"556\" y=\"64\"/><text fill=\"#000000\" font-family=\"sans-serif\" font-size=\"12\" font-style=\"italic\" lengthAdjust=\"spacingAndGlyphs\" textLength=\"110\" x=\"576\" y=\"80.1387\">«calculation  def»</text><text fill=\"#000000\" font-family=\"sans-serif\" font-size=\"12\" lengthAdjust=\"spacingAndGlyphs\" textLength=\"7\" x=\"627.5\" y=\"94.1074\">F</text></a><g id=\"E1.E2\"><a href=\"psysml:2ec9bc29-3801-4d04-bd01-a8a7cc509576\" target=\"_top\" title=\"psysml:2ec9bc29-3801-4d04-bd01-a8a7cc509576\" xlink:actuate=\"onRequest\" xlink:href=\"psysml:2ec9bc29-3801-4d04-bd01-a8a7cc509576\" xlink:show=\"new\" xlink:title=\"psysml:2ec9bc29-3801-4d04-bd01-a8a7cc509576\" xlink:type=\"simple\"><rect fill=\"#FFFFFF\" height=\"42.9375\" id=\"E2\" style=\"stroke: #383838; stroke-width: 1.5;\" width=\"104\" x=\"413\" y=\"99\"/><rect fill=\"#F8F8F8\" height=\"37.9375\" style=\"stroke: #383838; stroke-width: 1.5;\" width=\"104\" x=\"413\" y=\"99\"/><text fill=\"#000000\" font-family=\"sans-serif\" font-size=\"12\" font-style=\"italic\" lengthAdjust=\"spacingAndGlyphs\" textLength=\"97\" x=\"416.5\" y=\"115.1387\">«attribute  def»</text><text fill=\"#000000\" font-family=\"sans-serif\" font-size=\"12\" lengthAdjust=\"spacingAndGlyphs\" textLength=\"8\" x=\"461\" y=\"129.1074\">A</text></a></g><!--MD5=[09b614a08d8cba4a07c9adeb5e0fee81]\n",
       "class E3--><a href=\"psysml:904ee486-6b36-4246-8723-5e3acfd2e245\" target=\"_top\" title=\"psysml:904ee486-6b36-4246-8723-5e3acfd2e245\" xlink:actuate=\"onRequest\" xlink:href=\"psysml:904ee486-6b36-4246-8723-5e3acfd2e245\" xlink:show=\"new\" xlink:title=\"psysml:904ee486-6b36-4246-8723-5e3acfd2e245\" xlink:type=\"simple\"><rect fill=\"#FFFFFF\" height=\"45.9375\" id=\"E3\" rx=\"10\" ry=\"10\" style=\"stroke: #383838; stroke-width: 1.5;\" width=\"71\" x=\"456.5\" y=\"41\"/><text fill=\"#000000\" font-family=\"sans-serif\" font-size=\"12\" font-style=\"italic\" lengthAdjust=\"spacingAndGlyphs\" textLength=\"69\" x=\"457.5\" y=\"57.1387\">«attribute»</text><text fill=\"#000000\" font-family=\"sans-serif\" font-size=\"12\" lengthAdjust=\"spacingAndGlyphs\" textLength=\"24\" x=\"478\" y=\"71.1074\">a: A</text><line style=\"stroke: #383838; stroke-width: 1.5;\" x1=\"457.5\" x2=\"526.5\" y1=\"78.9375\" y2=\"78.9375\"/></a><!--MD5=[b9389687b975829384b498ac4b7476b2]\n",
       "class E8--><a href=\"psysml:8204b4e2-616f-4bbc-afa4-9ecd277b5579\" target=\"_top\" title=\"psysml:8204b4e2-616f-4bbc-afa4-9ecd277b5579\" xlink:actuate=\"onRequest\" xlink:href=\"psysml:8204b4e2-616f-4bbc-afa4-9ecd277b5579\" xlink:show=\"new\" xlink:title=\"psysml:8204b4e2-616f-4bbc-afa4-9ecd277b5579\" xlink:type=\"simple\"><rect fill=\"#FFFFFF\" height=\"45.9375\" id=\"E8\" rx=\"10\" ry=\"10\" style=\"stroke: #383838; stroke-width: 1.5;\" width=\"71\" x=\"350.5\" y=\"41\"/><text fill=\"#000000\" font-family=\"sans-serif\" font-size=\"12\" font-style=\"italic\" lengthAdjust=\"spacingAndGlyphs\" textLength=\"69\" x=\"351.5\" y=\"57.1387\">«attribute»</text><text fill=\"#000000\" font-family=\"sans-serif\" font-size=\"12\" lengthAdjust=\"spacingAndGlyphs\" textLength=\"4\" x=\"382\" y=\"71.1074\">f</text><line style=\"stroke: #383838; stroke-width: 1.5;\" x1=\"351.5\" x2=\"420.5\" y1=\"78.9375\" y2=\"78.9375\"/></a><!--MD5=[fd4143e9d270a159db93a4ea2a975926]\n",
       "class E9--><a href=\"psysml:86e22d1e-a4d5-4fc2-80cd-01d3f8e601c3\" target=\"_top\" title=\"psysml:86e22d1e-a4d5-4fc2-80cd-01d3f8e601c3\" xlink:actuate=\"onRequest\" xlink:href=\"psysml:86e22d1e-a4d5-4fc2-80cd-01d3f8e601c3\" xlink:show=\"new\" xlink:title=\"psysml:86e22d1e-a4d5-4fc2-80cd-01d3f8e601c3\" xlink:type=\"simple\"><rect fill=\"#FFFFFF\" height=\"45.9375\" id=\"E9\" rx=\"10\" ry=\"10\" style=\"stroke: #383838; stroke-width: 1.5;\" width=\"71\" x=\"244.5\" y=\"41\"/><text fill=\"#000000\" font-family=\"sans-serif\" font-size=\"12\" font-style=\"italic\" lengthAdjust=\"spacingAndGlyphs\" textLength=\"69\" x=\"245.5\" y=\"57.1387\">«attribute»</text><text fill=\"#000000\" font-family=\"sans-serif\" font-size=\"12\" lengthAdjust=\"spacingAndGlyphs\" textLength=\"8\" x=\"274\" y=\"71.1074\">g</text><line style=\"stroke: #383838; stroke-width: 1.5;\" x1=\"245.5\" x2=\"314.5\" y1=\"78.9375\" y2=\"78.9375\"/></a><!--MD5=[96f4274e9e20536e775497830990834d]\n",
       "class E10--><a href=\"psysml:5bd4ed77-91ea-4eb7-bbff-8ef8917960b7\" target=\"_top\" title=\"psysml:5bd4ed77-91ea-4eb7-bbff-8ef8917960b7\" xlink:actuate=\"onRequest\" xlink:href=\"psysml:5bd4ed77-91ea-4eb7-bbff-8ef8917960b7\" xlink:show=\"new\" xlink:title=\"psysml:5bd4ed77-91ea-4eb7-bbff-8ef8917960b7\" xlink:type=\"simple\"><rect fill=\"#FFFFFF\" height=\"45.9375\" id=\"E10\" rx=\"10\" ry=\"10\" style=\"stroke: #383838; stroke-width: 1.5;\" width=\"71\" x=\"138.5\" y=\"41\"/><text fill=\"#000000\" font-family=\"sans-serif\" font-size=\"12\" font-style=\"italic\" lengthAdjust=\"spacingAndGlyphs\" textLength=\"69\" x=\"139.5\" y=\"57.1387\">«attribute»</text><text fill=\"#000000\" font-family=\"sans-serif\" font-size=\"12\" lengthAdjust=\"spacingAndGlyphs\" textLength=\"8\" x=\"168\" y=\"71.1074\">b</text><line style=\"stroke: #383838; stroke-width: 1.5;\" x1=\"139.5\" x2=\"208.5\" y1=\"78.9375\" y2=\"78.9375\"/></a><!--MD5=[1dd1bfd58a279cf63c5f349dbc8fc6a1]\n",
       "class E11--><a href=\"psysml:88436cf5-d13a-4d80-b468-40a83b162e0f\" target=\"_top\" title=\"psysml:88436cf5-d13a-4d80-b468-40a83b162e0f\" xlink:actuate=\"onRequest\" xlink:href=\"psysml:88436cf5-d13a-4d80-b468-40a83b162e0f\" xlink:show=\"new\" xlink:title=\"psysml:88436cf5-d13a-4d80-b468-40a83b162e0f\" xlink:type=\"simple\"><rect fill=\"#FFFFFF\" height=\"45.9375\" id=\"E11\" rx=\"10\" ry=\"10\" style=\"stroke: #383838; stroke-width: 1.5;\" width=\"71\" x=\"32.5\" y=\"41\"/><text fill=\"#000000\" font-family=\"sans-serif\" font-size=\"12\" font-style=\"italic\" lengthAdjust=\"spacingAndGlyphs\" textLength=\"69\" x=\"33.5\" y=\"57.1387\">«attribute»</text><text fill=\"#000000\" font-family=\"sans-serif\" font-size=\"12\" lengthAdjust=\"spacingAndGlyphs\" textLength=\"7\" x=\"62.5\" y=\"71.1074\">c</text><line style=\"stroke: #383838; stroke-width: 1.5;\" x1=\"33.5\" x2=\"102.5\" y1=\"78.9375\" y2=\"78.9375\"/></a><text fill=\"#000000\" font-family=\"sans-serif\" font-size=\"14\" lengthAdjust=\"spacingAndGlyphs\" textLength=\"9\" x=\"569.5\" y=\"42.6982\">p</text><rect fill=\"#383838\" height=\"12\" style=\"stroke: #F8F8F8; stroke-width: 1.5;\" width=\"12\" x=\"568\" y=\"58\"/><text fill=\"#000000\" font-family=\"sans-serif\" font-size=\"14\" lengthAdjust=\"spacingAndGlyphs\" textLength=\"9\" x=\"616.5\" y=\"42.6982\">q</text><rect fill=\"#383838\" height=\"12\" style=\"stroke: #F8F8F8; stroke-width: 1.5;\" width=\"12\" x=\"615\" y=\"58\"/><text fill=\"#000000\" font-family=\"sans-serif\" font-size=\"14\" lengthAdjust=\"spacingAndGlyphs\" textLength=\"39\" x=\"601.5\" y=\"193.7151\">result</text><rect fill=\"#383838\" height=\"12\" style=\"stroke: #F8F8F8; stroke-width: 1.5;\" width=\"12\" x=\"615\" y=\"168.72\"/><!--MD5=[05d275557350bfb9b23a4ef7222b4c39]\n",
       "link E3 to E2--><a href=\"psysml:b5c275d4-de01-4c83-8a05-69f2b086225e\" target=\"_top\" title=\"psysml:b5c275d4-de01-4c83-8a05-69f2b086225e\" xlink:actuate=\"onRequest\" xlink:href=\"psysml:b5c275d4-de01-4c83-8a05-69f2b086225e\" xlink:show=\"new\" xlink:title=\"psysml:b5c275d4-de01-4c83-8a05-69f2b086225e\" xlink:type=\"simple\"><path d=\"M481.02,87.17 C480.96,87.29 480.9,87.41 480.84,87.53 \" fill=\"none\" id=\"E3-&gt;E2\" style=\"stroke: #383838; stroke-width: 1.0;\"/><polygon fill=\"#FFFFFF\" points=\"475.19,98.93,477.3425,78.7963,489.8904,85.0052,475.19,98.93\" style=\"stroke: #383838; stroke-width: 1.0;\"/><ellipse cx=\"481.663\" cy=\"74.5745\" fill=\"#383838\" rx=\"2\" ry=\"2\" style=\"stroke: #383838; stroke-width: 1.0;\"/><ellipse cx=\"490.6257\" cy=\"79.0095\" fill=\"#383838\" rx=\"2\" ry=\"2\" style=\"stroke: #383838; stroke-width: 1.0;\"/></a><!--MD5=[96490af2866a153593941233bb7fb50a]\n",
       "@startuml\r\n",
       "skinparam ranksep 10\r\n",
       "skinparam rectangle {\r\n",
       " backgroundColor<<block>> LightGreen\r\n",
       "}\r\n",
       " skinparam monochrome true\r\n",
       "skinparam classbackgroundcolor white\r\n",
       "skinparam shadowing false\r\n",
       "skinparam wrapWidth 300\r\n",
       "hide circle\r\n",
       "\r\n",
       "package \"ParameterTest\" as E1  [[psysml:86781c8e-3979-42bc-84a0-50d047026621 ]]  {\r\n",
       "def \"A\" as E2  <<(T,blue) attribute  def>> [[psysml:2ec9bc29-3801-4d04-bd01-a8a7cc509576 ]] \r\n",
       "comp usage \"a: A \" as E3  <<(T,blue) attribute>> [[psysml:904ee486-6b36-4246-8723-5e3acfd2e245 ]] {\r\n",
       "}\r\n",
       "rec def \"F\" as E4  <<(T,blue) calculation  def>> [[psysml:824349d9-f3af-4f57-b650-7b4ce1821d09 ]] {\r\n",
       "portin \"p\" as E5  [[psysml:1d7d0081-d3e1-46bd-ad63-b0e63267b1e5 ]] \r\n",
       "portin \"q\" as E6  [[psysml:21dced71-d174-49eb-b20b-d0423025e0cf ]] \r\n",
       "portout \"result\" as E7  [[psysml:89ad9a9d-29f0-45e8-8d07-ebce693a6326 ]] \r\n",
       "}\r\n",
       "\r\n",
       "comp usage \"f \" as E8  <<(T,blue) attribute>> [[psysml:8204b4e2-616f-4bbc-afa4-9ecd277b5579 ]] {\r\n",
       "}\r\n",
       "comp usage \"g \" as E9  <<(T,blue) attribute>> [[psysml:86e22d1e-a4d5-4fc2-80cd-01d3f8e601c3 ]] {\r\n",
       "}\r\n",
       "comp usage \"b \" as E10  <<(T,blue) attribute>> [[psysml:5bd4ed77-91ea-4eb7-bbff-8ef8917960b7 ]] {\r\n",
       "}\r\n",
       "comp usage \"c \" as E11  <<(T,blue) attribute>> [[psysml:88436cf5-d13a-4d80-b468-40a83b162e0f ]] {\r\n",
       "}\r\n",
       "}\r\n",
       "E3 - -:|> E2 [[psysml:b5c275d4-de01-4c83-8a05-69f2b086225e ]] \r\n",
       "@enduml\r\n",
       "\n",
       "PlantUML version 1.2020.13(Sat Jun 13 12:26:38 UTC 2020)\n",
       "(EPL source distribution)\n",
       "Java Runtime: OpenJDK Runtime Environment\n",
       "JVM: OpenJDK 64-Bit Server VM\n",
       "Default Encoding: UTF-8\n",
       "Language: en\n",
       "Country: null\n",
       "--></g></svg>"
      ]
     },
     "execution_count": 5,
     "metadata": {},
     "output_type": "execute_result"
    }
   ],
   "source": [
    "%viz --style=\"COMPTREE\" --view=\"Interconnection\" \"ParameterTest\""
   ]
  },
  {
   "cell_type": "code",
   "execution_count": 6,
   "id": "0bb65201",
   "metadata": {
    "execution": {
     "iopub.execute_input": "2022-03-03T09:56:14.170956Z",
     "iopub.status.busy": "2022-03-03T09:56:14.170440Z",
     "iopub.status.idle": "2022-03-03T09:56:14.207176Z",
     "shell.execute_reply": "2022-03-03T09:56:14.207478Z"
    }
   },
   "outputs": [
    {
     "data": {
      "image/svg+xml": [
       "<?xml version=\"1.0\" encoding=\"UTF-8\" standalone=\"no\"?><svg xmlns=\"http://www.w3.org/2000/svg\" xmlns:xlink=\"http://www.w3.org/1999/xlink\" contentScriptType=\"application/ecmascript\" contentStyleType=\"text/css\" height=\"162px\" preserveAspectRatio=\"none\" style=\"width:168px;height:162px;\" version=\"1.1\" viewBox=\"0 0 168 162\" width=\"168px\" zoomAndPan=\"magnify\"><defs/><g><!--MD5=[fbc87193dbaf4d95561dea2c320d4a47]\n",
       "cluster E1--><a href=\"psysml:824349d9-f3af-4f57-b650-7b4ce1821d09\" target=\"_top\" title=\"psysml:824349d9-f3af-4f57-b650-7b4ce1821d09\" xlink:actuate=\"onRequest\" xlink:href=\"psysml:824349d9-f3af-4f57-b650-7b4ce1821d09\" xlink:show=\"new\" xlink:title=\"psysml:824349d9-f3af-4f57-b650-7b4ce1821d09\" xlink:type=\"simple\"><rect fill=\"#FFFFFF\" height=\"87.72\" id=\"E1\" style=\"stroke: #383838; stroke-width: 1.5;\" width=\"150\" x=\"7\" y=\"42.0986\"/><rect fill=\"#F8F8F8\" height=\"37.9375\" style=\"stroke: #383838; stroke-width: 1.5;\" width=\"150\" x=\"7\" y=\"42.0986\"/><text fill=\"#000000\" font-family=\"sans-serif\" font-size=\"12\" font-style=\"italic\" lengthAdjust=\"spacingAndGlyphs\" textLength=\"110\" x=\"27\" y=\"58.2373\">«calculation  def»</text><text fill=\"#000000\" font-family=\"sans-serif\" font-size=\"12\" lengthAdjust=\"spacingAndGlyphs\" textLength=\"7\" x=\"78.5\" y=\"72.2061\">F</text></a><text fill=\"#000000\" font-family=\"sans-serif\" font-size=\"14\" lengthAdjust=\"spacingAndGlyphs\" textLength=\"9\" x=\"20.5\" y=\"20.7969\">p</text><rect fill=\"#383838\" height=\"12\" style=\"stroke: #F8F8F8; stroke-width: 1.5;\" width=\"12\" x=\"19\" y=\"36.0986\"/><text fill=\"#000000\" font-family=\"sans-serif\" font-size=\"14\" lengthAdjust=\"spacingAndGlyphs\" textLength=\"9\" x=\"67.5\" y=\"20.7969\">q</text><rect fill=\"#383838\" height=\"12\" style=\"stroke: #F8F8F8; stroke-width: 1.5;\" width=\"12\" x=\"66\" y=\"36.0986\"/><text fill=\"#000000\" font-family=\"sans-serif\" font-size=\"14\" lengthAdjust=\"spacingAndGlyphs\" textLength=\"39\" x=\"52.5\" y=\"148.8138\">result</text><rect fill=\"#383838\" height=\"12\" style=\"stroke: #F8F8F8; stroke-width: 1.5;\" width=\"12\" x=\"66\" y=\"123.8186\"/><!--MD5=[d87c122276feecd3a3b6df2b0727d6f0]\n",
       "@startuml\r\n",
       "skinparam ranksep 8\r\n",
       " skinparam monochrome true\r\n",
       "skinparam classbackgroundcolor white\r\n",
       "skinparam shadowing false\r\n",
       "skinparam wrapWidth 300\r\n",
       "hide circle\r\n",
       "\r\n",
       "rec def \"F\" as E1  <<(T,blue) calculation  def>> [[psysml:824349d9-f3af-4f57-b650-7b4ce1821d09 ]] {\r\n",
       "portin \"p\" as E2  [[psysml:1d7d0081-d3e1-46bd-ad63-b0e63267b1e5 ]] \r\n",
       "portin \"q\" as E3  [[psysml:21dced71-d174-49eb-b20b-d0423025e0cf ]] \r\n",
       "portout \"result\" as E4  [[psysml:89ad9a9d-29f0-45e8-8d07-ebce693a6326 ]] \r\n",
       "}\r\n",
       "\r\n",
       "@enduml\r\n",
       "\n",
       "PlantUML version 1.2020.13(Sat Jun 13 12:26:38 UTC 2020)\n",
       "(EPL source distribution)\n",
       "Java Runtime: OpenJDK Runtime Environment\n",
       "JVM: OpenJDK 64-Bit Server VM\n",
       "Default Encoding: UTF-8\n",
       "Language: en\n",
       "Country: null\n",
       "--></g></svg>"
      ]
     },
     "execution_count": 6,
     "metadata": {},
     "output_type": "execute_result"
    }
   ],
   "source": [
    "%viz --style=\"COMPTREE\" --view=\"Action\" \"ParameterTest\""
   ]
  },
  {
   "cell_type": "code",
   "execution_count": 7,
   "id": "7a4fd8f1",
   "metadata": {
    "execution": {
     "iopub.execute_input": "2022-03-03T09:56:14.258193Z",
     "iopub.status.busy": "2022-03-03T09:56:14.257735Z",
     "iopub.status.idle": "2022-03-03T09:56:14.270027Z",
     "shell.execute_reply": "2022-03-03T09:56:14.270364Z"
    }
   },
   "outputs": [
    {
     "data": {
      "image/svg+xml": [
       "<?xml version=\"1.0\" encoding=\"UTF-8\" standalone=\"no\"?><svg xmlns=\"http://www.w3.org/2000/svg\" xmlns:xlink=\"http://www.w3.org/1999/xlink\" contentScriptType=\"application/ecmascript\" contentStyleType=\"text/css\" height=\"12px\" preserveAspectRatio=\"none\" style=\"width:12px;height:12px;\" version=\"1.1\" viewBox=\"0 0 12 12\" width=\"12px\" zoomAndPan=\"magnify\"><defs/><g><!--MD5=[803fc46c337be7a5c8a9831e35356779]\n",
       "@startuml\r\n",
       "skinparam roundcorner 20\r\n",
       "skinparam BoxPadding 20\r\n",
       "skinparam SequenceBoxBackgroundColor #white\r\n",
       "skinparam style strictuml\r\n",
       "skinparam maxMessageSize 100\r\n",
       " skinparam monochrome true\r\n",
       "skinparam classbackgroundcolor white\r\n",
       "skinparam shadowing false\r\n",
       "skinparam wrapWidth 300\r\n",
       "hide circle\r\n",
       "\r\n",
       "@enduml\r\n",
       "\n",
       "PlantUML version 1.2020.13(Sat Jun 13 12:26:38 UTC 2020)\n",
       "(EPL source distribution)\n",
       "Java Runtime: OpenJDK Runtime Environment\n",
       "JVM: OpenJDK 64-Bit Server VM\n",
       "Default Encoding: UTF-8\n",
       "Language: en\n",
       "Country: null\n",
       "--></g></svg>"
      ]
     },
     "execution_count": 7,
     "metadata": {},
     "output_type": "execute_result"
    }
   ],
   "source": [
    "%viz --style=\"COMPTREE\" --view=\"Sequence\" \"ParameterTest\""
   ]
  },
  {
   "cell_type": "code",
   "execution_count": 8,
   "id": "3c4ec03f",
   "metadata": {
    "execution": {
     "iopub.execute_input": "2022-03-03T09:56:14.320839Z",
     "iopub.status.busy": "2022-03-03T09:56:14.320389Z",
     "iopub.status.idle": "2022-03-03T09:56:14.417888Z",
     "shell.execute_reply": "2022-03-03T09:56:14.417492Z"
    }
   },
   "outputs": [
    {
     "data": {
      "image/svg+xml": [
       "<?xml version=\"1.0\" encoding=\"UTF-8\" standalone=\"no\"?><svg xmlns=\"http://www.w3.org/2000/svg\" xmlns:xlink=\"http://www.w3.org/1999/xlink\" contentScriptType=\"application/ecmascript\" contentStyleType=\"text/css\" height=\"403px\" preserveAspectRatio=\"none\" style=\"width:744px;height:403px;\" version=\"1.1\" viewBox=\"0 0 744 403\" width=\"744px\" zoomAndPan=\"magnify\"><defs/><g><!--MD5=[fbc87193dbaf4d95561dea2c320d4a47]\n",
       "cluster E1--><a href=\"psysml:86781c8e-3979-42bc-84a0-50d047026621\" target=\"_top\" title=\"psysml:86781c8e-3979-42bc-84a0-50d047026621\" xlink:actuate=\"onRequest\" xlink:href=\"psysml:86781c8e-3979-42bc-84a0-50d047026621\" xlink:show=\"new\" xlink:title=\"psysml:86781c8e-3979-42bc-84a0-50d047026621\" xlink:type=\"simple\"><polygon fill=\"#FFFFFF\" points=\"16,6,124,6,131,28.2969,722,28.2969,722,391.72,16,391.72,16,6\" style=\"stroke: #000000; stroke-width: 1.5;\"/><line style=\"stroke: #000000; stroke-width: 1.5;\" x1=\"16\" x2=\"131\" y1=\"28.2969\" y2=\"28.2969\"/><text fill=\"#000000\" font-family=\"sans-serif\" font-size=\"14\" font-weight=\"bold\" lengthAdjust=\"spacingAndGlyphs\" textLength=\"102\" x=\"20\" y=\"20.9951\">ParameterTest</text></a><!--MD5=[f6df4d0ebaf0b5dfb2ced0ae5af7c670]\n",
       "cluster E4--><a href=\"psysml:824349d9-f3af-4f57-b650-7b4ce1821d09\" target=\"_top\" title=\"psysml:824349d9-f3af-4f57-b650-7b4ce1821d09\" xlink:actuate=\"onRequest\" xlink:href=\"psysml:824349d9-f3af-4f57-b650-7b4ce1821d09\" xlink:show=\"new\" xlink:title=\"psysml:824349d9-f3af-4f57-b650-7b4ce1821d09\" xlink:type=\"simple\"><rect fill=\"#FFFFFF\" height=\"297.72\" id=\"E4\" style=\"stroke: #383838; stroke-width: 1.5;\" width=\"150\" x=\"556\" y=\"64\"/><rect fill=\"#F8F8F8\" height=\"37.9375\" style=\"stroke: #383838; stroke-width: 1.5;\" width=\"150\" x=\"556\" y=\"64\"/><text fill=\"#000000\" font-family=\"sans-serif\" font-size=\"12\" font-style=\"italic\" lengthAdjust=\"spacingAndGlyphs\" textLength=\"110\" x=\"576\" y=\"80.1387\">«calculation  def»</text><text fill=\"#000000\" font-family=\"sans-serif\" font-size=\"12\" lengthAdjust=\"spacingAndGlyphs\" textLength=\"7\" x=\"627.5\" y=\"94.1074\">F</text></a><!--MD5=[b4997ac47864f28c2f74865a473b2911]\n",
       "class E2--><a href=\"psysml:2ec9bc29-3801-4d04-bd01-a8a7cc509576\" target=\"_top\" title=\"psysml:2ec9bc29-3801-4d04-bd01-a8a7cc509576\" xlink:actuate=\"onRequest\" xlink:href=\"psysml:2ec9bc29-3801-4d04-bd01-a8a7cc509576\" xlink:show=\"new\" xlink:title=\"psysml:2ec9bc29-3801-4d04-bd01-a8a7cc509576\" xlink:type=\"simple\"><rect fill=\"#FFFFFF\" height=\"88.3516\" id=\"E2\" style=\"stroke: #383838; stroke-width: 1.5;\" width=\"99\" x=\"418.5\" y=\"147\"/><text fill=\"#000000\" font-family=\"sans-serif\" font-size=\"12\" font-style=\"italic\" lengthAdjust=\"spacingAndGlyphs\" textLength=\"97\" x=\"419.5\" y=\"163.1387\">«attribute  def»</text><text fill=\"#000000\" font-family=\"sans-serif\" font-size=\"12\" lengthAdjust=\"spacingAndGlyphs\" textLength=\"8\" x=\"464\" y=\"177.1074\">A</text><line style=\"stroke: #383838; stroke-width: 1.5;\" x1=\"419.5\" x2=\"516.5\" y1=\"184.9375\" y2=\"184.9375\"/><text fill=\"#000000\" font-family=\"sans-serif\" font-size=\"11\" lengthAdjust=\"spacingAndGlyphs\" textLength=\"48\" x=\"424.5\" y=\"215.9526\">x: String</text><text fill=\"#000000\" font-family=\"sans-serif\" font-size=\"11\" lengthAdjust=\"spacingAndGlyphs\" textLength=\"21\" x=\"424.5\" y=\"228.7573\">y: A</text><line style=\"stroke: #383838; stroke-width: 1.0;\" x1=\"419.5\" x2=\"440.5\" y1=\"199.3398\" y2=\"199.3398\"/><text fill=\"#000000\" font-family=\"sans-serif\" font-size=\"11\" lengthAdjust=\"spacingAndGlyphs\" textLength=\"55\" x=\"440.5\" y=\"202.6479\">attributes</text><line style=\"stroke: #383838; stroke-width: 1.0;\" x1=\"495.5\" x2=\"516.5\" y1=\"199.3398\" y2=\"199.3398\"/></a><!--MD5=[09b614a08d8cba4a07c9adeb5e0fee81]\n",
       "class E3--><a href=\"psysml:904ee486-6b36-4246-8723-5e3acfd2e245\" target=\"_top\" title=\"psysml:904ee486-6b36-4246-8723-5e3acfd2e245\" xlink:actuate=\"onRequest\" xlink:href=\"psysml:904ee486-6b36-4246-8723-5e3acfd2e245\" xlink:show=\"new\" xlink:title=\"psysml:904ee486-6b36-4246-8723-5e3acfd2e245\" xlink:type=\"simple\"><rect fill=\"#FFFFFF\" height=\"45.9375\" id=\"E3\" rx=\"10\" ry=\"10\" style=\"stroke: #383838; stroke-width: 1.5;\" width=\"71\" x=\"456.5\" y=\"41\"/><text fill=\"#000000\" font-family=\"sans-serif\" font-size=\"12\" font-style=\"italic\" lengthAdjust=\"spacingAndGlyphs\" textLength=\"69\" x=\"457.5\" y=\"57.1387\">«attribute»</text><text fill=\"#000000\" font-family=\"sans-serif\" font-size=\"12\" lengthAdjust=\"spacingAndGlyphs\" textLength=\"24\" x=\"478\" y=\"71.1074\">a: A</text><line style=\"stroke: #383838; stroke-width: 1.5;\" x1=\"457.5\" x2=\"526.5\" y1=\"78.9375\" y2=\"78.9375\"/></a><!--MD5=[b9389687b975829384b498ac4b7476b2]\n",
       "class E8--><a href=\"psysml:8204b4e2-616f-4bbc-afa4-9ecd277b5579\" target=\"_top\" title=\"psysml:8204b4e2-616f-4bbc-afa4-9ecd277b5579\" xlink:actuate=\"onRequest\" xlink:href=\"psysml:8204b4e2-616f-4bbc-afa4-9ecd277b5579\" xlink:show=\"new\" xlink:title=\"psysml:8204b4e2-616f-4bbc-afa4-9ecd277b5579\" xlink:type=\"simple\"><rect fill=\"#FFFFFF\" height=\"45.9375\" id=\"E8\" rx=\"10\" ry=\"10\" style=\"stroke: #383838; stroke-width: 1.5;\" width=\"71\" x=\"350.5\" y=\"41\"/><text fill=\"#000000\" font-family=\"sans-serif\" font-size=\"12\" font-style=\"italic\" lengthAdjust=\"spacingAndGlyphs\" textLength=\"69\" x=\"351.5\" y=\"57.1387\">«attribute»</text><text fill=\"#000000\" font-family=\"sans-serif\" font-size=\"12\" lengthAdjust=\"spacingAndGlyphs\" textLength=\"4\" x=\"382\" y=\"71.1074\">f</text><line style=\"stroke: #383838; stroke-width: 1.5;\" x1=\"351.5\" x2=\"420.5\" y1=\"78.9375\" y2=\"78.9375\"/></a><!--MD5=[fd4143e9d270a159db93a4ea2a975926]\n",
       "class E9--><a href=\"psysml:86e22d1e-a4d5-4fc2-80cd-01d3f8e601c3\" target=\"_top\" title=\"psysml:86e22d1e-a4d5-4fc2-80cd-01d3f8e601c3\" xlink:actuate=\"onRequest\" xlink:href=\"psysml:86e22d1e-a4d5-4fc2-80cd-01d3f8e601c3\" xlink:show=\"new\" xlink:title=\"psysml:86e22d1e-a4d5-4fc2-80cd-01d3f8e601c3\" xlink:type=\"simple\"><rect fill=\"#FFFFFF\" height=\"45.9375\" id=\"E9\" rx=\"10\" ry=\"10\" style=\"stroke: #383838; stroke-width: 1.5;\" width=\"71\" x=\"244.5\" y=\"41\"/><text fill=\"#000000\" font-family=\"sans-serif\" font-size=\"12\" font-style=\"italic\" lengthAdjust=\"spacingAndGlyphs\" textLength=\"69\" x=\"245.5\" y=\"57.1387\">«attribute»</text><text fill=\"#000000\" font-family=\"sans-serif\" font-size=\"12\" lengthAdjust=\"spacingAndGlyphs\" textLength=\"8\" x=\"274\" y=\"71.1074\">g</text><line style=\"stroke: #383838; stroke-width: 1.5;\" x1=\"245.5\" x2=\"314.5\" y1=\"78.9375\" y2=\"78.9375\"/></a><!--MD5=[96f4274e9e20536e775497830990834d]\n",
       "class E10--><a href=\"psysml:5bd4ed77-91ea-4eb7-bbff-8ef8917960b7\" target=\"_top\" title=\"psysml:5bd4ed77-91ea-4eb7-bbff-8ef8917960b7\" xlink:actuate=\"onRequest\" xlink:href=\"psysml:5bd4ed77-91ea-4eb7-bbff-8ef8917960b7\" xlink:show=\"new\" xlink:title=\"psysml:5bd4ed77-91ea-4eb7-bbff-8ef8917960b7\" xlink:type=\"simple\"><rect fill=\"#FFFFFF\" height=\"45.9375\" id=\"E10\" rx=\"10\" ry=\"10\" style=\"stroke: #383838; stroke-width: 1.5;\" width=\"71\" x=\"138.5\" y=\"41\"/><text fill=\"#000000\" font-family=\"sans-serif\" font-size=\"12\" font-style=\"italic\" lengthAdjust=\"spacingAndGlyphs\" textLength=\"69\" x=\"139.5\" y=\"57.1387\">«attribute»</text><text fill=\"#000000\" font-family=\"sans-serif\" font-size=\"12\" lengthAdjust=\"spacingAndGlyphs\" textLength=\"8\" x=\"168\" y=\"71.1074\">b</text><line style=\"stroke: #383838; stroke-width: 1.5;\" x1=\"139.5\" x2=\"208.5\" y1=\"78.9375\" y2=\"78.9375\"/></a><!--MD5=[1dd1bfd58a279cf63c5f349dbc8fc6a1]\n",
       "class E11--><a href=\"psysml:88436cf5-d13a-4d80-b468-40a83b162e0f\" target=\"_top\" title=\"psysml:88436cf5-d13a-4d80-b468-40a83b162e0f\" xlink:actuate=\"onRequest\" xlink:href=\"psysml:88436cf5-d13a-4d80-b468-40a83b162e0f\" xlink:show=\"new\" xlink:title=\"psysml:88436cf5-d13a-4d80-b468-40a83b162e0f\" xlink:type=\"simple\"><rect fill=\"#FFFFFF\" height=\"45.9375\" id=\"E11\" rx=\"10\" ry=\"10\" style=\"stroke: #383838; stroke-width: 1.5;\" width=\"71\" x=\"32.5\" y=\"41\"/><text fill=\"#000000\" font-family=\"sans-serif\" font-size=\"12\" font-style=\"italic\" lengthAdjust=\"spacingAndGlyphs\" textLength=\"69\" x=\"33.5\" y=\"57.1387\">«attribute»</text><text fill=\"#000000\" font-family=\"sans-serif\" font-size=\"12\" lengthAdjust=\"spacingAndGlyphs\" textLength=\"7\" x=\"62.5\" y=\"71.1074\">c</text><line style=\"stroke: #383838; stroke-width: 1.5;\" x1=\"33.5\" x2=\"102.5\" y1=\"78.9375\" y2=\"78.9375\"/></a><text fill=\"#000000\" font-family=\"sans-serif\" font-size=\"14\" lengthAdjust=\"spacingAndGlyphs\" textLength=\"9\" x=\"569.5\" y=\"42.6982\">p</text><rect fill=\"#383838\" height=\"12\" style=\"stroke: #F8F8F8; stroke-width: 1.5;\" width=\"12\" x=\"568\" y=\"58\"/><text fill=\"#000000\" font-family=\"sans-serif\" font-size=\"14\" lengthAdjust=\"spacingAndGlyphs\" textLength=\"9\" x=\"616.5\" y=\"42.6982\">q</text><rect fill=\"#383838\" height=\"12\" style=\"stroke: #F8F8F8; stroke-width: 1.5;\" width=\"12\" x=\"615\" y=\"58\"/><text fill=\"#000000\" font-family=\"sans-serif\" font-size=\"14\" lengthAdjust=\"spacingAndGlyphs\" textLength=\"39\" x=\"601.5\" y=\"380.7151\">result</text><rect fill=\"#383838\" height=\"12\" style=\"stroke: #F8F8F8; stroke-width: 1.5;\" width=\"12\" x=\"615\" y=\"355.72\"/><!--MD5=[05d275557350bfb9b23a4ef7222b4c39]\n",
       "link E3 to E2--><a href=\"psysml:b5c275d4-de01-4c83-8a05-69f2b086225e\" target=\"_top\" title=\"psysml:b5c275d4-de01-4c83-8a05-69f2b086225e\" xlink:actuate=\"onRequest\" xlink:href=\"psysml:b5c275d4-de01-4c83-8a05-69f2b086225e\" xlink:show=\"new\" xlink:title=\"psysml:b5c275d4-de01-4c83-8a05-69f2b086225e\" xlink:type=\"simple\"><path d=\"M487.76,87.06 C485.61,98.3 482.86,112.6 480.11,126.95 \" fill=\"none\" id=\"E3-&gt;E2\" style=\"stroke: #383838; stroke-width: 1.0;\"/><polygon fill=\"#FFFFFF\" points=\"476.27,146.93,472.9781,126.9509,486.727,129.5907,476.27,146.93\" style=\"stroke: #383838; stroke-width: 1.0;\"/><ellipse cx=\"476.017\" cy=\"121.7303\" fill=\"#383838\" rx=\"2\" ry=\"2\" style=\"stroke: #383838; stroke-width: 1.0;\"/><ellipse cx=\"485.8376\" cy=\"123.6158\" fill=\"#383838\" rx=\"2\" ry=\"2\" style=\"stroke: #383838; stroke-width: 1.0;\"/></a><!--MD5=[1c2b3449933a54a7e5ec461974222e9c]\n",
       "@startuml\r\n",
       " skinparam monochrome true\r\n",
       "skinparam classbackgroundcolor white\r\n",
       "skinparam shadowing false\r\n",
       "skinparam wrapWidth 300\r\n",
       "hide circle\r\n",
       "\r\n",
       "package \"ParameterTest\" as E1  [[psysml:86781c8e-3979-42bc-84a0-50d047026621 ]]  {\r\n",
       "comp def \"A\" as E2  <<(T,blue) attribute  def>> [[psysml:2ec9bc29-3801-4d04-bd01-a8a7cc509576 ]] {\r\n",
       "- - attributes - -\r\n",
       "x: String\r\n",
       "y: A\r\n",
       "}\r\n",
       "comp usage \"a: A \" as E3  <<(T,blue) attribute>> [[psysml:904ee486-6b36-4246-8723-5e3acfd2e245 ]] {\r\n",
       "}\r\n",
       "rec def \"F\" as E4  <<(T,blue) calculation  def>> [[psysml:824349d9-f3af-4f57-b650-7b4ce1821d09 ]] {\r\n",
       "portin \"p\" as E5  [[psysml:1d7d0081-d3e1-46bd-ad63-b0e63267b1e5 ]] \r\n",
       "portin \"q\" as E6  [[psysml:21dced71-d174-49eb-b20b-d0423025e0cf ]] \r\n",
       "portout \"result\" as E7  [[psysml:89ad9a9d-29f0-45e8-8d07-ebce693a6326 ]] \r\n",
       "}\r\n",
       "\r\n",
       "comp usage \"f \" as E8  <<(T,blue) attribute>> [[psysml:8204b4e2-616f-4bbc-afa4-9ecd277b5579 ]] {\r\n",
       "}\r\n",
       "comp usage \"g \" as E9  <<(T,blue) attribute>> [[psysml:86e22d1e-a4d5-4fc2-80cd-01d3f8e601c3 ]] {\r\n",
       "}\r\n",
       "comp usage \"b \" as E10  <<(T,blue) attribute>> [[psysml:5bd4ed77-91ea-4eb7-bbff-8ef8917960b7 ]] {\r\n",
       "}\r\n",
       "comp usage \"c \" as E11  <<(T,blue) attribute>> [[psysml:88436cf5-d13a-4d80-b468-40a83b162e0f ]] {\r\n",
       "}\r\n",
       "}\r\n",
       "E3 - -:|> E2 [[psysml:b5c275d4-de01-4c83-8a05-69f2b086225e ]] \r\n",
       "@enduml\r\n",
       "\n",
       "PlantUML version 1.2020.13(Sat Jun 13 12:26:38 UTC 2020)\n",
       "(EPL source distribution)\n",
       "Java Runtime: OpenJDK Runtime Environment\n",
       "JVM: OpenJDK 64-Bit Server VM\n",
       "Default Encoding: UTF-8\n",
       "Language: en\n",
       "Country: null\n",
       "--></g></svg>"
      ]
     },
     "execution_count": 8,
     "metadata": {},
     "output_type": "execute_result"
    }
   ],
   "source": [
    "%viz --style=\"COMPTREE\" --view=\"MIXED\" \"ParameterTest\""
   ]
  },
  {
   "cell_type": "code",
   "execution_count": 9,
   "id": "bef7fdf7",
   "metadata": {
    "execution": {
     "iopub.execute_input": "2022-03-03T09:56:14.467409Z",
     "iopub.status.busy": "2022-03-03T09:56:14.466982Z",
     "iopub.status.idle": "2022-03-03T09:56:14.522473Z",
     "shell.execute_reply": "2022-03-03T09:56:14.521105Z"
    }
   },
   "outputs": [
    {
     "data": {
      "image/svg+xml": [
       "<?xml version=\"1.0\" encoding=\"UTF-8\" standalone=\"no\"?><svg xmlns=\"http://www.w3.org/2000/svg\" xmlns:xlink=\"http://www.w3.org/1999/xlink\" contentScriptType=\"application/ecmascript\" contentStyleType=\"text/css\" height=\"403px\" preserveAspectRatio=\"none\" style=\"width:744px;height:403px;\" version=\"1.1\" viewBox=\"0 0 744 403\" width=\"744px\" zoomAndPan=\"magnify\"><defs/><g><!--MD5=[fbc87193dbaf4d95561dea2c320d4a47]\n",
       "cluster E1--><a href=\"psysml:86781c8e-3979-42bc-84a0-50d047026621\" target=\"_top\" title=\"psysml:86781c8e-3979-42bc-84a0-50d047026621\" xlink:actuate=\"onRequest\" xlink:href=\"psysml:86781c8e-3979-42bc-84a0-50d047026621\" xlink:show=\"new\" xlink:title=\"psysml:86781c8e-3979-42bc-84a0-50d047026621\" xlink:type=\"simple\"><polygon fill=\"#FFFFFF\" points=\"16,6,124,6,131,28.2969,722,28.2969,722,391.72,16,391.72,16,6\" style=\"stroke: #000000; stroke-width: 1.5;\"/><line style=\"stroke: #000000; stroke-width: 1.5;\" x1=\"16\" x2=\"131\" y1=\"28.2969\" y2=\"28.2969\"/><text fill=\"#000000\" font-family=\"sans-serif\" font-size=\"14\" font-weight=\"bold\" lengthAdjust=\"spacingAndGlyphs\" textLength=\"102\" x=\"20\" y=\"20.9951\">ParameterTest</text></a><!--MD5=[f6df4d0ebaf0b5dfb2ced0ae5af7c670]\n",
       "cluster E4--><a href=\"psysml:824349d9-f3af-4f57-b650-7b4ce1821d09\" target=\"_top\" title=\"psysml:824349d9-f3af-4f57-b650-7b4ce1821d09\" xlink:actuate=\"onRequest\" xlink:href=\"psysml:824349d9-f3af-4f57-b650-7b4ce1821d09\" xlink:show=\"new\" xlink:title=\"psysml:824349d9-f3af-4f57-b650-7b4ce1821d09\" xlink:type=\"simple\"><rect fill=\"#FFFFFF\" height=\"297.72\" id=\"E4\" style=\"stroke: #383838; stroke-width: 1.5;\" width=\"150\" x=\"556\" y=\"64\"/><rect fill=\"#F8F8F8\" height=\"37.9375\" style=\"stroke: #383838; stroke-width: 1.5;\" width=\"150\" x=\"556\" y=\"64\"/><text fill=\"#000000\" font-family=\"sans-serif\" font-size=\"12\" font-style=\"italic\" lengthAdjust=\"spacingAndGlyphs\" textLength=\"110\" x=\"576\" y=\"80.1387\">«calculation  def»</text><text fill=\"#000000\" font-family=\"sans-serif\" font-size=\"12\" lengthAdjust=\"spacingAndGlyphs\" textLength=\"7\" x=\"627.5\" y=\"94.1074\">F</text></a><!--MD5=[b4997ac47864f28c2f74865a473b2911]\n",
       "class E2--><a href=\"psysml:2ec9bc29-3801-4d04-bd01-a8a7cc509576\" target=\"_top\" title=\"psysml:2ec9bc29-3801-4d04-bd01-a8a7cc509576\" xlink:actuate=\"onRequest\" xlink:href=\"psysml:2ec9bc29-3801-4d04-bd01-a8a7cc509576\" xlink:show=\"new\" xlink:title=\"psysml:2ec9bc29-3801-4d04-bd01-a8a7cc509576\" xlink:type=\"simple\"><rect fill=\"#FFFFFF\" height=\"88.3516\" id=\"E2\" style=\"stroke: #383838; stroke-width: 1.5;\" width=\"99\" x=\"418.5\" y=\"147\"/><text fill=\"#000000\" font-family=\"sans-serif\" font-size=\"12\" font-style=\"italic\" lengthAdjust=\"spacingAndGlyphs\" textLength=\"97\" x=\"419.5\" y=\"163.1387\">«attribute  def»</text><text fill=\"#000000\" font-family=\"sans-serif\" font-size=\"12\" lengthAdjust=\"spacingAndGlyphs\" textLength=\"8\" x=\"464\" y=\"177.1074\">A</text><line style=\"stroke: #383838; stroke-width: 1.5;\" x1=\"419.5\" x2=\"516.5\" y1=\"184.9375\" y2=\"184.9375\"/><text fill=\"#000000\" font-family=\"sans-serif\" font-size=\"11\" lengthAdjust=\"spacingAndGlyphs\" textLength=\"48\" x=\"424.5\" y=\"215.9526\">x: String</text><text fill=\"#000000\" font-family=\"sans-serif\" font-size=\"11\" lengthAdjust=\"spacingAndGlyphs\" textLength=\"21\" x=\"424.5\" y=\"228.7573\">y: A</text><line style=\"stroke: #383838; stroke-width: 1.0;\" x1=\"419.5\" x2=\"440.5\" y1=\"199.3398\" y2=\"199.3398\"/><text fill=\"#000000\" font-family=\"sans-serif\" font-size=\"11\" lengthAdjust=\"spacingAndGlyphs\" textLength=\"55\" x=\"440.5\" y=\"202.6479\">attributes</text><line style=\"stroke: #383838; stroke-width: 1.0;\" x1=\"495.5\" x2=\"516.5\" y1=\"199.3398\" y2=\"199.3398\"/></a><!--MD5=[09b614a08d8cba4a07c9adeb5e0fee81]\n",
       "class E3--><a href=\"psysml:904ee486-6b36-4246-8723-5e3acfd2e245\" target=\"_top\" title=\"psysml:904ee486-6b36-4246-8723-5e3acfd2e245\" xlink:actuate=\"onRequest\" xlink:href=\"psysml:904ee486-6b36-4246-8723-5e3acfd2e245\" xlink:show=\"new\" xlink:title=\"psysml:904ee486-6b36-4246-8723-5e3acfd2e245\" xlink:type=\"simple\"><rect fill=\"#FFFFFF\" height=\"45.9375\" id=\"E3\" rx=\"10\" ry=\"10\" style=\"stroke: #383838; stroke-width: 1.5;\" width=\"71\" x=\"456.5\" y=\"41\"/><text fill=\"#000000\" font-family=\"sans-serif\" font-size=\"12\" font-style=\"italic\" lengthAdjust=\"spacingAndGlyphs\" textLength=\"69\" x=\"457.5\" y=\"57.1387\">«attribute»</text><text fill=\"#000000\" font-family=\"sans-serif\" font-size=\"12\" lengthAdjust=\"spacingAndGlyphs\" textLength=\"24\" x=\"478\" y=\"71.1074\">a: A</text><line style=\"stroke: #383838; stroke-width: 1.5;\" x1=\"457.5\" x2=\"526.5\" y1=\"78.9375\" y2=\"78.9375\"/></a><!--MD5=[b9389687b975829384b498ac4b7476b2]\n",
       "class E8--><a href=\"psysml:8204b4e2-616f-4bbc-afa4-9ecd277b5579\" target=\"_top\" title=\"psysml:8204b4e2-616f-4bbc-afa4-9ecd277b5579\" xlink:actuate=\"onRequest\" xlink:href=\"psysml:8204b4e2-616f-4bbc-afa4-9ecd277b5579\" xlink:show=\"new\" xlink:title=\"psysml:8204b4e2-616f-4bbc-afa4-9ecd277b5579\" xlink:type=\"simple\"><rect fill=\"#FFFFFF\" height=\"45.9375\" id=\"E8\" rx=\"10\" ry=\"10\" style=\"stroke: #383838; stroke-width: 1.5;\" width=\"71\" x=\"350.5\" y=\"41\"/><text fill=\"#000000\" font-family=\"sans-serif\" font-size=\"12\" font-style=\"italic\" lengthAdjust=\"spacingAndGlyphs\" textLength=\"69\" x=\"351.5\" y=\"57.1387\">«attribute»</text><text fill=\"#000000\" font-family=\"sans-serif\" font-size=\"12\" lengthAdjust=\"spacingAndGlyphs\" textLength=\"4\" x=\"382\" y=\"71.1074\">f</text><line style=\"stroke: #383838; stroke-width: 1.5;\" x1=\"351.5\" x2=\"420.5\" y1=\"78.9375\" y2=\"78.9375\"/></a><!--MD5=[fd4143e9d270a159db93a4ea2a975926]\n",
       "class E9--><a href=\"psysml:86e22d1e-a4d5-4fc2-80cd-01d3f8e601c3\" target=\"_top\" title=\"psysml:86e22d1e-a4d5-4fc2-80cd-01d3f8e601c3\" xlink:actuate=\"onRequest\" xlink:href=\"psysml:86e22d1e-a4d5-4fc2-80cd-01d3f8e601c3\" xlink:show=\"new\" xlink:title=\"psysml:86e22d1e-a4d5-4fc2-80cd-01d3f8e601c3\" xlink:type=\"simple\"><rect fill=\"#FFFFFF\" height=\"45.9375\" id=\"E9\" rx=\"10\" ry=\"10\" style=\"stroke: #383838; stroke-width: 1.5;\" width=\"71\" x=\"244.5\" y=\"41\"/><text fill=\"#000000\" font-family=\"sans-serif\" font-size=\"12\" font-style=\"italic\" lengthAdjust=\"spacingAndGlyphs\" textLength=\"69\" x=\"245.5\" y=\"57.1387\">«attribute»</text><text fill=\"#000000\" font-family=\"sans-serif\" font-size=\"12\" lengthAdjust=\"spacingAndGlyphs\" textLength=\"8\" x=\"274\" y=\"71.1074\">g</text><line style=\"stroke: #383838; stroke-width: 1.5;\" x1=\"245.5\" x2=\"314.5\" y1=\"78.9375\" y2=\"78.9375\"/></a><!--MD5=[96f4274e9e20536e775497830990834d]\n",
       "class E10--><a href=\"psysml:5bd4ed77-91ea-4eb7-bbff-8ef8917960b7\" target=\"_top\" title=\"psysml:5bd4ed77-91ea-4eb7-bbff-8ef8917960b7\" xlink:actuate=\"onRequest\" xlink:href=\"psysml:5bd4ed77-91ea-4eb7-bbff-8ef8917960b7\" xlink:show=\"new\" xlink:title=\"psysml:5bd4ed77-91ea-4eb7-bbff-8ef8917960b7\" xlink:type=\"simple\"><rect fill=\"#FFFFFF\" height=\"45.9375\" id=\"E10\" rx=\"10\" ry=\"10\" style=\"stroke: #383838; stroke-width: 1.5;\" width=\"71\" x=\"138.5\" y=\"41\"/><text fill=\"#000000\" font-family=\"sans-serif\" font-size=\"12\" font-style=\"italic\" lengthAdjust=\"spacingAndGlyphs\" textLength=\"69\" x=\"139.5\" y=\"57.1387\">«attribute»</text><text fill=\"#000000\" font-family=\"sans-serif\" font-size=\"12\" lengthAdjust=\"spacingAndGlyphs\" textLength=\"8\" x=\"168\" y=\"71.1074\">b</text><line style=\"stroke: #383838; stroke-width: 1.5;\" x1=\"139.5\" x2=\"208.5\" y1=\"78.9375\" y2=\"78.9375\"/></a><!--MD5=[1dd1bfd58a279cf63c5f349dbc8fc6a1]\n",
       "class E11--><a href=\"psysml:88436cf5-d13a-4d80-b468-40a83b162e0f\" target=\"_top\" title=\"psysml:88436cf5-d13a-4d80-b468-40a83b162e0f\" xlink:actuate=\"onRequest\" xlink:href=\"psysml:88436cf5-d13a-4d80-b468-40a83b162e0f\" xlink:show=\"new\" xlink:title=\"psysml:88436cf5-d13a-4d80-b468-40a83b162e0f\" xlink:type=\"simple\"><rect fill=\"#FFFFFF\" height=\"45.9375\" id=\"E11\" rx=\"10\" ry=\"10\" style=\"stroke: #383838; stroke-width: 1.5;\" width=\"71\" x=\"32.5\" y=\"41\"/><text fill=\"#000000\" font-family=\"sans-serif\" font-size=\"12\" font-style=\"italic\" lengthAdjust=\"spacingAndGlyphs\" textLength=\"69\" x=\"33.5\" y=\"57.1387\">«attribute»</text><text fill=\"#000000\" font-family=\"sans-serif\" font-size=\"12\" lengthAdjust=\"spacingAndGlyphs\" textLength=\"7\" x=\"62.5\" y=\"71.1074\">c</text><line style=\"stroke: #383838; stroke-width: 1.5;\" x1=\"33.5\" x2=\"102.5\" y1=\"78.9375\" y2=\"78.9375\"/></a><text fill=\"#000000\" font-family=\"sans-serif\" font-size=\"14\" lengthAdjust=\"spacingAndGlyphs\" textLength=\"9\" x=\"569.5\" y=\"42.6982\">p</text><rect fill=\"#383838\" height=\"12\" style=\"stroke: #F8F8F8; stroke-width: 1.5;\" width=\"12\" x=\"568\" y=\"58\"/><text fill=\"#000000\" font-family=\"sans-serif\" font-size=\"14\" lengthAdjust=\"spacingAndGlyphs\" textLength=\"9\" x=\"616.5\" y=\"42.6982\">q</text><rect fill=\"#383838\" height=\"12\" style=\"stroke: #F8F8F8; stroke-width: 1.5;\" width=\"12\" x=\"615\" y=\"58\"/><text fill=\"#000000\" font-family=\"sans-serif\" font-size=\"14\" lengthAdjust=\"spacingAndGlyphs\" textLength=\"39\" x=\"601.5\" y=\"380.7151\">result</text><rect fill=\"#383838\" height=\"12\" style=\"stroke: #F8F8F8; stroke-width: 1.5;\" width=\"12\" x=\"615\" y=\"355.72\"/><!--MD5=[05d275557350bfb9b23a4ef7222b4c39]\n",
       "link E3 to E2--><a href=\"psysml:b5c275d4-de01-4c83-8a05-69f2b086225e\" target=\"_top\" title=\"psysml:b5c275d4-de01-4c83-8a05-69f2b086225e\" xlink:actuate=\"onRequest\" xlink:href=\"psysml:b5c275d4-de01-4c83-8a05-69f2b086225e\" xlink:show=\"new\" xlink:title=\"psysml:b5c275d4-de01-4c83-8a05-69f2b086225e\" xlink:type=\"simple\"><path d=\"M487.76,87.06 C485.61,98.3 482.86,112.6 480.11,126.95 \" fill=\"none\" id=\"E3-&gt;E2\" style=\"stroke: #383838; stroke-width: 1.0;\"/><polygon fill=\"#FFFFFF\" points=\"476.27,146.93,472.9781,126.9509,486.727,129.5907,476.27,146.93\" style=\"stroke: #383838; stroke-width: 1.0;\"/><ellipse cx=\"476.017\" cy=\"121.7303\" fill=\"#383838\" rx=\"2\" ry=\"2\" style=\"stroke: #383838; stroke-width: 1.0;\"/><ellipse cx=\"485.8376\" cy=\"123.6158\" fill=\"#383838\" rx=\"2\" ry=\"2\" style=\"stroke: #383838; stroke-width: 1.0;\"/></a><!--MD5=[952e3121a0bb936d0000a6f379d91f1c]\n",
       "@startuml\r\n",
       "skinparam linetype polyline\r\n",
       "skinparam monochrome true\r\n",
       "skinparam classbackgroundcolor white\r\n",
       "skinparam shadowing false\r\n",
       "skinparam wrapWidth 300\r\n",
       "hide circle\r\n",
       "\r\n",
       "package \"ParameterTest\" as E1  [[psysml:86781c8e-3979-42bc-84a0-50d047026621 ]]  {\r\n",
       "comp def \"A\" as E2  <<(T,blue) attribute  def>> [[psysml:2ec9bc29-3801-4d04-bd01-a8a7cc509576 ]] {\r\n",
       "- - attributes - -\r\n",
       "x: String\r\n",
       "y: A\r\n",
       "}\r\n",
       "comp usage \"a: A \" as E3  <<(T,blue) attribute>> [[psysml:904ee486-6b36-4246-8723-5e3acfd2e245 ]] {\r\n",
       "}\r\n",
       "rec def \"F\" as E4  <<(T,blue) calculation  def>> [[psysml:824349d9-f3af-4f57-b650-7b4ce1821d09 ]] {\r\n",
       "portin \"p\" as E5  [[psysml:1d7d0081-d3e1-46bd-ad63-b0e63267b1e5 ]] \r\n",
       "portin \"q\" as E6  [[psysml:21dced71-d174-49eb-b20b-d0423025e0cf ]] \r\n",
       "portout \"result\" as E7  [[psysml:89ad9a9d-29f0-45e8-8d07-ebce693a6326 ]] \r\n",
       "}\r\n",
       "\r\n",
       "comp usage \"f \" as E8  <<(T,blue) attribute>> [[psysml:8204b4e2-616f-4bbc-afa4-9ecd277b5579 ]] {\r\n",
       "}\r\n",
       "comp usage \"g \" as E9  <<(T,blue) attribute>> [[psysml:86e22d1e-a4d5-4fc2-80cd-01d3f8e601c3 ]] {\r\n",
       "}\r\n",
       "comp usage \"b \" as E10  <<(T,blue) attribute>> [[psysml:5bd4ed77-91ea-4eb7-bbff-8ef8917960b7 ]] {\r\n",
       "}\r\n",
       "comp usage \"c \" as E11  <<(T,blue) attribute>> [[psysml:88436cf5-d13a-4d80-b468-40a83b162e0f ]] {\r\n",
       "}\r\n",
       "}\r\n",
       "E3 - -:|> E2 [[psysml:b5c275d4-de01-4c83-8a05-69f2b086225e ]] \r\n",
       "@enduml\r\n",
       "\n",
       "PlantUML version 1.2020.13(Sat Jun 13 12:26:38 UTC 2020)\n",
       "(EPL source distribution)\n",
       "Java Runtime: OpenJDK Runtime Environment\n",
       "JVM: OpenJDK 64-Bit Server VM\n",
       "Default Encoding: UTF-8\n",
       "Language: en\n",
       "Country: null\n",
       "--></g></svg>"
      ]
     },
     "execution_count": 9,
     "metadata": {},
     "output_type": "execute_result"
    }
   ],
   "source": [
    "%viz --style=\"POLYLINE\" --view=\"Default\" \"ParameterTest\""
   ]
  },
  {
   "cell_type": "code",
   "execution_count": 10,
   "id": "285c2931",
   "metadata": {
    "execution": {
     "iopub.execute_input": "2022-03-03T09:56:14.572177Z",
     "iopub.status.busy": "2022-03-03T09:56:14.571767Z",
     "iopub.status.idle": "2022-03-03T09:56:14.635394Z",
     "shell.execute_reply": "2022-03-03T09:56:14.635021Z"
    }
   },
   "outputs": [
    {
     "data": {
      "image/svg+xml": [
       "<?xml version=\"1.0\" encoding=\"UTF-8\" standalone=\"no\"?><svg xmlns=\"http://www.w3.org/2000/svg\" xmlns:xlink=\"http://www.w3.org/1999/xlink\" contentScriptType=\"application/ecmascript\" contentStyleType=\"text/css\" height=\"280px\" preserveAspectRatio=\"none\" style=\"width:714px;height:280px;\" version=\"1.1\" viewBox=\"0 0 714 280\" width=\"714px\" zoomAndPan=\"magnify\"><defs/><g><!--MD5=[fbc87193dbaf4d95561dea2c320d4a47]\n",
       "cluster E1--><a href=\"psysml:86781c8e-3979-42bc-84a0-50d047026621\" target=\"_top\" title=\"psysml:86781c8e-3979-42bc-84a0-50d047026621\" xlink:actuate=\"onRequest\" xlink:href=\"psysml:86781c8e-3979-42bc-84a0-50d047026621\" xlink:show=\"new\" xlink:title=\"psysml:86781c8e-3979-42bc-84a0-50d047026621\" xlink:type=\"simple\"><polygon fill=\"#FFFFFF\" points=\"16,6,124,6,131,28.2969,692,28.2969,692,268,16,268,16,6\" style=\"stroke: #000000; stroke-width: 1.5;\"/><line style=\"stroke: #000000; stroke-width: 1.5;\" x1=\"16\" x2=\"131\" y1=\"28.2969\" y2=\"28.2969\"/><text fill=\"#000000\" font-family=\"sans-serif\" font-size=\"14\" font-weight=\"bold\" lengthAdjust=\"spacingAndGlyphs\" textLength=\"102\" x=\"20\" y=\"20.9951\">ParameterTest</text></a><!--MD5=[b4997ac47864f28c2f74865a473b2911]\n",
       "class E2--><a href=\"psysml:2ec9bc29-3801-4d04-bd01-a8a7cc509576\" target=\"_top\" title=\"psysml:2ec9bc29-3801-4d04-bd01-a8a7cc509576\" xlink:actuate=\"onRequest\" xlink:href=\"psysml:2ec9bc29-3801-4d04-bd01-a8a7cc509576\" xlink:show=\"new\" xlink:title=\"psysml:2ec9bc29-3801-4d04-bd01-a8a7cc509576\" xlink:type=\"simple\"><rect fill=\"#FFFFFF\" height=\"88.3516\" id=\"E2\" style=\"stroke: #383838; stroke-width: 1.5;\" width=\"99\" x=\"499.5\" y=\"164\"/><text fill=\"#000000\" font-family=\"sans-serif\" font-size=\"12\" font-style=\"italic\" lengthAdjust=\"spacingAndGlyphs\" textLength=\"97\" x=\"500.5\" y=\"180.1387\">«attribute  def»</text><text fill=\"#000000\" font-family=\"sans-serif\" font-size=\"12\" lengthAdjust=\"spacingAndGlyphs\" textLength=\"8\" x=\"545\" y=\"194.1074\">A</text><line style=\"stroke: #383838; stroke-width: 1.5;\" x1=\"500.5\" x2=\"597.5\" y1=\"201.9375\" y2=\"201.9375\"/><text fill=\"#000000\" font-family=\"sans-serif\" font-size=\"11\" lengthAdjust=\"spacingAndGlyphs\" textLength=\"48\" x=\"505.5\" y=\"232.9526\">x: String</text><text fill=\"#000000\" font-family=\"sans-serif\" font-size=\"11\" lengthAdjust=\"spacingAndGlyphs\" textLength=\"21\" x=\"505.5\" y=\"245.7573\">y: A</text><line style=\"stroke: #383838; stroke-width: 1.0;\" x1=\"500.5\" x2=\"521.5\" y1=\"216.3398\" y2=\"216.3398\"/><text fill=\"#000000\" font-family=\"sans-serif\" font-size=\"11\" lengthAdjust=\"spacingAndGlyphs\" textLength=\"55\" x=\"521.5\" y=\"219.6479\">attributes</text><line style=\"stroke: #383838; stroke-width: 1.0;\" x1=\"576.5\" x2=\"597.5\" y1=\"216.3398\" y2=\"216.3398\"/></a><!--MD5=[09b614a08d8cba4a07c9adeb5e0fee81]\n",
       "class E3--><a href=\"psysml:904ee486-6b36-4246-8723-5e3acfd2e245\" target=\"_top\" title=\"psysml:904ee486-6b36-4246-8723-5e3acfd2e245\" xlink:actuate=\"onRequest\" xlink:href=\"psysml:904ee486-6b36-4246-8723-5e3acfd2e245\" xlink:show=\"new\" xlink:title=\"psysml:904ee486-6b36-4246-8723-5e3acfd2e245\" xlink:type=\"simple\"><rect fill=\"#FFFFFF\" height=\"45.9375\" id=\"E3\" rx=\"10\" ry=\"10\" style=\"stroke: #383838; stroke-width: 1.5;\" width=\"71\" x=\"604.5\" y=\"41\"/><text fill=\"#000000\" font-family=\"sans-serif\" font-size=\"12\" font-style=\"italic\" lengthAdjust=\"spacingAndGlyphs\" textLength=\"69\" x=\"605.5\" y=\"57.1387\">«attribute»</text><text fill=\"#000000\" font-family=\"sans-serif\" font-size=\"12\" lengthAdjust=\"spacingAndGlyphs\" textLength=\"24\" x=\"626\" y=\"71.1074\">a: A</text><line style=\"stroke: #383838; stroke-width: 1.5;\" x1=\"605.5\" x2=\"674.5\" y1=\"78.9375\" y2=\"78.9375\"/></a><!--MD5=[ebbe1d658d1005bcc118a6aa81145e00]\n",
       "class E4--><a href=\"psysml:824349d9-f3af-4f57-b650-7b4ce1821d09\" target=\"_top\" title=\"psysml:824349d9-f3af-4f57-b650-7b4ce1821d09\" xlink:actuate=\"onRequest\" xlink:href=\"psysml:824349d9-f3af-4f57-b650-7b4ce1821d09\" xlink:show=\"new\" xlink:title=\"psysml:824349d9-f3af-4f57-b650-7b4ce1821d09\" xlink:type=\"simple\"><rect fill=\"#FFFFFF\" height=\"45.9375\" id=\"E4\" style=\"stroke: #383838; stroke-width: 1.5;\" width=\"112\" x=\"457\" y=\"41\"/><text fill=\"#000000\" font-family=\"sans-serif\" font-size=\"12\" font-style=\"italic\" lengthAdjust=\"spacingAndGlyphs\" textLength=\"110\" x=\"458\" y=\"57.1387\">«calculation  def»</text><text fill=\"#000000\" font-family=\"sans-serif\" font-size=\"12\" lengthAdjust=\"spacingAndGlyphs\" textLength=\"7\" x=\"509.5\" y=\"71.1074\">F</text><line style=\"stroke: #383838; stroke-width: 1.5;\" x1=\"458\" x2=\"568\" y1=\"78.9375\" y2=\"78.9375\"/></a><!--MD5=[270fce915f116d4de14055a7c1d9a0f3]\n",
       "class E5--><a href=\"psysml:8204b4e2-616f-4bbc-afa4-9ecd277b5579\" target=\"_top\" title=\"psysml:8204b4e2-616f-4bbc-afa4-9ecd277b5579\" xlink:actuate=\"onRequest\" xlink:href=\"psysml:8204b4e2-616f-4bbc-afa4-9ecd277b5579\" xlink:show=\"new\" xlink:title=\"psysml:8204b4e2-616f-4bbc-afa4-9ecd277b5579\" xlink:type=\"simple\"><rect fill=\"#FFFFFF\" height=\"45.9375\" id=\"E5\" rx=\"10\" ry=\"10\" style=\"stroke: #383838; stroke-width: 1.5;\" width=\"71\" x=\"350.5\" y=\"41\"/><text fill=\"#000000\" font-family=\"sans-serif\" font-size=\"12\" font-style=\"italic\" lengthAdjust=\"spacingAndGlyphs\" textLength=\"69\" x=\"351.5\" y=\"57.1387\">«attribute»</text><text fill=\"#000000\" font-family=\"sans-serif\" font-size=\"12\" lengthAdjust=\"spacingAndGlyphs\" textLength=\"4\" x=\"382\" y=\"71.1074\">f</text><line style=\"stroke: #383838; stroke-width: 1.5;\" x1=\"351.5\" x2=\"420.5\" y1=\"78.9375\" y2=\"78.9375\"/></a><!--MD5=[60a26617385b1d2d0262a64233df1f8d]\n",
       "class E6--><a href=\"psysml:86e22d1e-a4d5-4fc2-80cd-01d3f8e601c3\" target=\"_top\" title=\"psysml:86e22d1e-a4d5-4fc2-80cd-01d3f8e601c3\" xlink:actuate=\"onRequest\" xlink:href=\"psysml:86e22d1e-a4d5-4fc2-80cd-01d3f8e601c3\" xlink:show=\"new\" xlink:title=\"psysml:86e22d1e-a4d5-4fc2-80cd-01d3f8e601c3\" xlink:type=\"simple\"><rect fill=\"#FFFFFF\" height=\"45.9375\" id=\"E6\" rx=\"10\" ry=\"10\" style=\"stroke: #383838; stroke-width: 1.5;\" width=\"71\" x=\"244.5\" y=\"41\"/><text fill=\"#000000\" font-family=\"sans-serif\" font-size=\"12\" font-style=\"italic\" lengthAdjust=\"spacingAndGlyphs\" textLength=\"69\" x=\"245.5\" y=\"57.1387\">«attribute»</text><text fill=\"#000000\" font-family=\"sans-serif\" font-size=\"12\" lengthAdjust=\"spacingAndGlyphs\" textLength=\"8\" x=\"274\" y=\"71.1074\">g</text><line style=\"stroke: #383838; stroke-width: 1.5;\" x1=\"245.5\" x2=\"314.5\" y1=\"78.9375\" y2=\"78.9375\"/></a><!--MD5=[2156ba9850f5573cc1fc38a6a4b2f02b]\n",
       "class E7--><a href=\"psysml:5bd4ed77-91ea-4eb7-bbff-8ef8917960b7\" target=\"_top\" title=\"psysml:5bd4ed77-91ea-4eb7-bbff-8ef8917960b7\" xlink:actuate=\"onRequest\" xlink:href=\"psysml:5bd4ed77-91ea-4eb7-bbff-8ef8917960b7\" xlink:show=\"new\" xlink:title=\"psysml:5bd4ed77-91ea-4eb7-bbff-8ef8917960b7\" xlink:type=\"simple\"><rect fill=\"#FFFFFF\" height=\"45.9375\" id=\"E7\" rx=\"10\" ry=\"10\" style=\"stroke: #383838; stroke-width: 1.5;\" width=\"71\" x=\"138.5\" y=\"41\"/><text fill=\"#000000\" font-family=\"sans-serif\" font-size=\"12\" font-style=\"italic\" lengthAdjust=\"spacingAndGlyphs\" textLength=\"69\" x=\"139.5\" y=\"57.1387\">«attribute»</text><text fill=\"#000000\" font-family=\"sans-serif\" font-size=\"12\" lengthAdjust=\"spacingAndGlyphs\" textLength=\"8\" x=\"168\" y=\"71.1074\">b</text><line style=\"stroke: #383838; stroke-width: 1.5;\" x1=\"139.5\" x2=\"208.5\" y1=\"78.9375\" y2=\"78.9375\"/></a><!--MD5=[b9389687b975829384b498ac4b7476b2]\n",
       "class E8--><a href=\"psysml:88436cf5-d13a-4d80-b468-40a83b162e0f\" target=\"_top\" title=\"psysml:88436cf5-d13a-4d80-b468-40a83b162e0f\" xlink:actuate=\"onRequest\" xlink:href=\"psysml:88436cf5-d13a-4d80-b468-40a83b162e0f\" xlink:show=\"new\" xlink:title=\"psysml:88436cf5-d13a-4d80-b468-40a83b162e0f\" xlink:type=\"simple\"><rect fill=\"#FFFFFF\" height=\"45.9375\" id=\"E8\" rx=\"10\" ry=\"10\" style=\"stroke: #383838; stroke-width: 1.5;\" width=\"71\" x=\"32.5\" y=\"41\"/><text fill=\"#000000\" font-family=\"sans-serif\" font-size=\"12\" font-style=\"italic\" lengthAdjust=\"spacingAndGlyphs\" textLength=\"69\" x=\"33.5\" y=\"57.1387\">«attribute»</text><text fill=\"#000000\" font-family=\"sans-serif\" font-size=\"12\" lengthAdjust=\"spacingAndGlyphs\" textLength=\"7\" x=\"62.5\" y=\"71.1074\">c</text><line style=\"stroke: #383838; stroke-width: 1.5;\" x1=\"33.5\" x2=\"102.5\" y1=\"78.9375\" y2=\"78.9375\"/></a><!--MD5=[05d275557350bfb9b23a4ef7222b4c39]\n",
       "link E3 to E2--><a href=\"psysml:b5c275d4-de01-4c83-8a05-69f2b086225e\" target=\"_top\" title=\"psysml:b5c275d4-de01-4c83-8a05-69f2b086225e\" xlink:actuate=\"onRequest\" xlink:href=\"psysml:b5c275d4-de01-4c83-8a05-69f2b086225e\" xlink:show=\"new\" xlink:title=\"psysml:b5c275d4-de01-4c83-8a05-69f2b086225e\" xlink:type=\"simple\"><path d=\"M625.78,87.19 C615.5,103.23 601.08,125.73 587.52,146.9 \" fill=\"none\" id=\"E3-&gt;E2\" style=\"stroke: #383838; stroke-width: 1.0;\"/><polygon fill=\"#FFFFFF\" points=\"576.67,163.82,581.0214,144.0446,592.8112,151.5945,576.67,163.82\" style=\"stroke: #383838; stroke-width: 1.0;\"/><ellipse cx=\"585.7795\" cy=\"140.323\" fill=\"#383838\" rx=\"2\" ry=\"2\" style=\"stroke: #383838; stroke-width: 1.0;\"/><ellipse cx=\"594.2008\" cy=\"145.7158\" fill=\"#383838\" rx=\"2\" ry=\"2\" style=\"stroke: #383838; stroke-width: 1.0;\"/></a><!--MD5=[ddeed8deb2209213b62e6cfabaa108b2]\n",
       "reverse link E4 to E2--><a href=\"psysml:1d7d0081-d3e1-46bd-ad63-b0e63267b1e5\" target=\"_top\" title=\"psysml:1d7d0081-d3e1-46bd-ad63-b0e63267b1e5\" xlink:actuate=\"onRequest\" xlink:href=\"psysml:1d7d0081-d3e1-46bd-ad63-b0e63267b1e5\" xlink:show=\"new\" xlink:title=\"psysml:1d7d0081-d3e1-46bd-ad63-b0e63267b1e5\" xlink:type=\"simple\"><path d=\"M521.86,99.96 C526.75,119.25 532.87,143.36 538.05,163.82 \" fill=\"none\" id=\"E4&lt;-E2\" style=\"stroke: #383838; stroke-width: 1.0;\"/><polygon fill=\"#FFFFFF\" points=\"518.62,87.19,516.22,93.99,521.5738,98.8208,523.9738,92.0208,518.62,87.19\" style=\"stroke: #383838; stroke-width: 1.0;\"/><text fill=\"#000000\" font-family=\"sans-serif\" font-size=\"13\" lengthAdjust=\"spacingAndGlyphs\" textLength=\"8\" x=\"530\" y=\"130.0669\">p</text></a><!--MD5=[2c998de35c5bea86f60920b51f7f9dd7]\n",
       "@startuml\r\n",
       "skinparam linetype polyline\r\n",
       "skinparam monochrome true\r\n",
       "skinparam classbackgroundcolor white\r\n",
       "skinparam shadowing false\r\n",
       "skinparam wrapWidth 300\r\n",
       "hide circle\r\n",
       "\r\n",
       "package \"ParameterTest\" as E1  [[psysml:86781c8e-3979-42bc-84a0-50d047026621 ]]  {\r\n",
       "comp def \"A\" as E2  <<(T,blue) attribute  def>> [[psysml:2ec9bc29-3801-4d04-bd01-a8a7cc509576 ]] {\r\n",
       "- - attributes - -\r\n",
       "x: String\r\n",
       "y: A\r\n",
       "}\r\n",
       "comp usage \"a: A \" as E3  <<(T,blue) attribute>> [[psysml:904ee486-6b36-4246-8723-5e3acfd2e245 ]] {\r\n",
       "}\r\n",
       "comp def \"F\" as E4  <<(T,blue) calculation  def>> [[psysml:824349d9-f3af-4f57-b650-7b4ce1821d09 ]] {\r\n",
       "}\r\n",
       "comp usage \"f \" as E5  <<(T,blue) attribute>> [[psysml:8204b4e2-616f-4bbc-afa4-9ecd277b5579 ]] {\r\n",
       "}\r\n",
       "comp usage \"g \" as E6  <<(T,blue) attribute>> [[psysml:86e22d1e-a4d5-4fc2-80cd-01d3f8e601c3 ]] {\r\n",
       "}\r\n",
       "comp usage \"b \" as E7  <<(T,blue) attribute>> [[psysml:5bd4ed77-91ea-4eb7-bbff-8ef8917960b7 ]] {\r\n",
       "}\r\n",
       "comp usage \"c \" as E8  <<(T,blue) attribute>> [[psysml:88436cf5-d13a-4d80-b468-40a83b162e0f ]] {\r\n",
       "}\r\n",
       "}\r\n",
       "E3 - -:|> E2 [[psysml:b5c275d4-de01-4c83-8a05-69f2b086225e ]] \r\n",
       "E4 o- - E2 [[psysml:1d7d0081-d3e1-46bd-ad63-b0e63267b1e5 ]] : p\r\n",
       "@enduml\r\n",
       "\n",
       "PlantUML version 1.2020.13(Sat Jun 13 12:26:38 UTC 2020)\n",
       "(EPL source distribution)\n",
       "Java Runtime: OpenJDK Runtime Environment\n",
       "JVM: OpenJDK 64-Bit Server VM\n",
       "Default Encoding: UTF-8\n",
       "Language: en\n",
       "Country: null\n",
       "--></g></svg>"
      ]
     },
     "execution_count": 10,
     "metadata": {},
     "output_type": "execute_result"
    }
   ],
   "source": [
    "%viz --style=\"POLYLINE\" --view=\"Tree\" \"ParameterTest\""
   ]
  },
  {
   "cell_type": "code",
   "execution_count": 11,
   "id": "57e434fe",
   "metadata": {
    "execution": {
     "iopub.execute_input": "2022-03-03T09:56:14.685002Z",
     "iopub.status.busy": "2022-03-03T09:56:14.684593Z",
     "iopub.status.idle": "2022-03-03T09:56:14.690431Z",
     "shell.execute_reply": "2022-03-03T09:56:14.690749Z"
    }
   },
   "outputs": [
    {
     "data": {
      "image/svg+xml": [
       "<?xml version=\"1.0\" encoding=\"UTF-8\" standalone=\"no\"?><svg xmlns=\"http://www.w3.org/2000/svg\" xmlns:xlink=\"http://www.w3.org/1999/xlink\" contentScriptType=\"application/ecmascript\" contentStyleType=\"text/css\" height=\"12px\" preserveAspectRatio=\"none\" style=\"width:12px;height:12px;\" version=\"1.1\" viewBox=\"0 0 12 12\" width=\"12px\" zoomAndPan=\"magnify\"><defs/><g><!--MD5=[896ac0e7a515d8dd7765a661cb4ee08b]\n",
       "@startuml\r\n",
       "skinparam linetype polyline\r\n",
       "skinparam monochrome true\r\n",
       "skinparam classbackgroundcolor white\r\n",
       "skinparam shadowing false\r\n",
       "skinparam wrapWidth 300\r\n",
       "hide circle\r\n",
       "\r\n",
       "@enduml\r\n",
       "\n",
       "PlantUML version 1.2020.13(Sat Jun 13 12:26:38 UTC 2020)\n",
       "(EPL source distribution)\n",
       "Java Runtime: OpenJDK Runtime Environment\n",
       "JVM: OpenJDK 64-Bit Server VM\n",
       "Default Encoding: UTF-8\n",
       "Language: en\n",
       "Country: null\n",
       "--></g></svg>"
      ]
     },
     "execution_count": 11,
     "metadata": {},
     "output_type": "execute_result"
    }
   ],
   "source": [
    "%viz --style=\"POLYLINE\" --view=\"State\" \"ParameterTest\""
   ]
  },
  {
   "cell_type": "code",
   "execution_count": 12,
   "id": "8c4af14b",
   "metadata": {
    "execution": {
     "iopub.execute_input": "2022-03-03T09:56:14.741077Z",
     "iopub.status.busy": "2022-03-03T09:56:14.740669Z",
     "iopub.status.idle": "2022-03-03T09:56:14.794636Z",
     "shell.execute_reply": "2022-03-03T09:56:14.794247Z"
    }
   },
   "outputs": [
    {
     "data": {
      "image/svg+xml": [
       "<?xml version=\"1.0\" encoding=\"UTF-8\" standalone=\"no\"?><svg xmlns=\"http://www.w3.org/2000/svg\" xmlns:xlink=\"http://www.w3.org/1999/xlink\" contentScriptType=\"application/ecmascript\" contentStyleType=\"text/css\" height=\"216px\" preserveAspectRatio=\"none\" style=\"width:744px;height:216px;\" version=\"1.1\" viewBox=\"0 0 744 216\" width=\"744px\" zoomAndPan=\"magnify\"><defs/><g><!--MD5=[fbc87193dbaf4d95561dea2c320d4a47]\n",
       "cluster E1--><a href=\"psysml:86781c8e-3979-42bc-84a0-50d047026621\" target=\"_top\" title=\"psysml:86781c8e-3979-42bc-84a0-50d047026621\" xlink:actuate=\"onRequest\" xlink:href=\"psysml:86781c8e-3979-42bc-84a0-50d047026621\" xlink:show=\"new\" xlink:title=\"psysml:86781c8e-3979-42bc-84a0-50d047026621\" xlink:type=\"simple\"><polygon fill=\"#FFFFFF\" points=\"16,6,124,6,131,28.2969,722,28.2969,722,204.72,16,204.72,16,6\" style=\"stroke: #000000; stroke-width: 1.5;\"/><line style=\"stroke: #000000; stroke-width: 1.5;\" x1=\"16\" x2=\"131\" y1=\"28.2969\" y2=\"28.2969\"/><text fill=\"#000000\" font-family=\"sans-serif\" font-size=\"14\" font-weight=\"bold\" lengthAdjust=\"spacingAndGlyphs\" textLength=\"102\" x=\"20\" y=\"20.9951\">ParameterTest</text></a><!--MD5=[f6df4d0ebaf0b5dfb2ced0ae5af7c670]\n",
       "cluster E4--><a href=\"psysml:824349d9-f3af-4f57-b650-7b4ce1821d09\" target=\"_top\" title=\"psysml:824349d9-f3af-4f57-b650-7b4ce1821d09\" xlink:actuate=\"onRequest\" xlink:href=\"psysml:824349d9-f3af-4f57-b650-7b4ce1821d09\" xlink:show=\"new\" xlink:title=\"psysml:824349d9-f3af-4f57-b650-7b4ce1821d09\" xlink:type=\"simple\"><rect fill=\"#FFFFFF\" height=\"110.72\" id=\"E4\" style=\"stroke: #383838; stroke-width: 1.5;\" width=\"150\" x=\"556\" y=\"64\"/><rect fill=\"#F8F8F8\" height=\"37.9375\" style=\"stroke: #383838; stroke-width: 1.5;\" width=\"150\" x=\"556\" y=\"64\"/><text fill=\"#000000\" font-family=\"sans-serif\" font-size=\"12\" font-style=\"italic\" lengthAdjust=\"spacingAndGlyphs\" textLength=\"110\" x=\"576\" y=\"80.1387\">«calculation  def»</text><text fill=\"#000000\" font-family=\"sans-serif\" font-size=\"12\" lengthAdjust=\"spacingAndGlyphs\" textLength=\"7\" x=\"627.5\" y=\"94.1074\">F</text></a><g id=\"E1.E2\"><a href=\"psysml:2ec9bc29-3801-4d04-bd01-a8a7cc509576\" target=\"_top\" title=\"psysml:2ec9bc29-3801-4d04-bd01-a8a7cc509576\" xlink:actuate=\"onRequest\" xlink:href=\"psysml:2ec9bc29-3801-4d04-bd01-a8a7cc509576\" xlink:show=\"new\" xlink:title=\"psysml:2ec9bc29-3801-4d04-bd01-a8a7cc509576\" xlink:type=\"simple\"><rect fill=\"#FFFFFF\" height=\"42.9375\" id=\"E2\" style=\"stroke: #383838; stroke-width: 1.5;\" width=\"104\" x=\"413\" y=\"99\"/><rect fill=\"#F8F8F8\" height=\"37.9375\" style=\"stroke: #383838; stroke-width: 1.5;\" width=\"104\" x=\"413\" y=\"99\"/><text fill=\"#000000\" font-family=\"sans-serif\" font-size=\"12\" font-style=\"italic\" lengthAdjust=\"spacingAndGlyphs\" textLength=\"97\" x=\"416.5\" y=\"115.1387\">«attribute  def»</text><text fill=\"#000000\" font-family=\"sans-serif\" font-size=\"12\" lengthAdjust=\"spacingAndGlyphs\" textLength=\"8\" x=\"461\" y=\"129.1074\">A</text></a></g><!--MD5=[09b614a08d8cba4a07c9adeb5e0fee81]\n",
       "class E3--><a href=\"psysml:904ee486-6b36-4246-8723-5e3acfd2e245\" target=\"_top\" title=\"psysml:904ee486-6b36-4246-8723-5e3acfd2e245\" xlink:actuate=\"onRequest\" xlink:href=\"psysml:904ee486-6b36-4246-8723-5e3acfd2e245\" xlink:show=\"new\" xlink:title=\"psysml:904ee486-6b36-4246-8723-5e3acfd2e245\" xlink:type=\"simple\"><rect fill=\"#FFFFFF\" height=\"45.9375\" id=\"E3\" rx=\"10\" ry=\"10\" style=\"stroke: #383838; stroke-width: 1.5;\" width=\"71\" x=\"456.5\" y=\"41\"/><text fill=\"#000000\" font-family=\"sans-serif\" font-size=\"12\" font-style=\"italic\" lengthAdjust=\"spacingAndGlyphs\" textLength=\"69\" x=\"457.5\" y=\"57.1387\">«attribute»</text><text fill=\"#000000\" font-family=\"sans-serif\" font-size=\"12\" lengthAdjust=\"spacingAndGlyphs\" textLength=\"24\" x=\"478\" y=\"71.1074\">a: A</text><line style=\"stroke: #383838; stroke-width: 1.5;\" x1=\"457.5\" x2=\"526.5\" y1=\"78.9375\" y2=\"78.9375\"/></a><!--MD5=[b9389687b975829384b498ac4b7476b2]\n",
       "class E8--><a href=\"psysml:8204b4e2-616f-4bbc-afa4-9ecd277b5579\" target=\"_top\" title=\"psysml:8204b4e2-616f-4bbc-afa4-9ecd277b5579\" xlink:actuate=\"onRequest\" xlink:href=\"psysml:8204b4e2-616f-4bbc-afa4-9ecd277b5579\" xlink:show=\"new\" xlink:title=\"psysml:8204b4e2-616f-4bbc-afa4-9ecd277b5579\" xlink:type=\"simple\"><rect fill=\"#FFFFFF\" height=\"45.9375\" id=\"E8\" rx=\"10\" ry=\"10\" style=\"stroke: #383838; stroke-width: 1.5;\" width=\"71\" x=\"350.5\" y=\"41\"/><text fill=\"#000000\" font-family=\"sans-serif\" font-size=\"12\" font-style=\"italic\" lengthAdjust=\"spacingAndGlyphs\" textLength=\"69\" x=\"351.5\" y=\"57.1387\">«attribute»</text><text fill=\"#000000\" font-family=\"sans-serif\" font-size=\"12\" lengthAdjust=\"spacingAndGlyphs\" textLength=\"4\" x=\"382\" y=\"71.1074\">f</text><line style=\"stroke: #383838; stroke-width: 1.5;\" x1=\"351.5\" x2=\"420.5\" y1=\"78.9375\" y2=\"78.9375\"/></a><!--MD5=[fd4143e9d270a159db93a4ea2a975926]\n",
       "class E9--><a href=\"psysml:86e22d1e-a4d5-4fc2-80cd-01d3f8e601c3\" target=\"_top\" title=\"psysml:86e22d1e-a4d5-4fc2-80cd-01d3f8e601c3\" xlink:actuate=\"onRequest\" xlink:href=\"psysml:86e22d1e-a4d5-4fc2-80cd-01d3f8e601c3\" xlink:show=\"new\" xlink:title=\"psysml:86e22d1e-a4d5-4fc2-80cd-01d3f8e601c3\" xlink:type=\"simple\"><rect fill=\"#FFFFFF\" height=\"45.9375\" id=\"E9\" rx=\"10\" ry=\"10\" style=\"stroke: #383838; stroke-width: 1.5;\" width=\"71\" x=\"244.5\" y=\"41\"/><text fill=\"#000000\" font-family=\"sans-serif\" font-size=\"12\" font-style=\"italic\" lengthAdjust=\"spacingAndGlyphs\" textLength=\"69\" x=\"245.5\" y=\"57.1387\">«attribute»</text><text fill=\"#000000\" font-family=\"sans-serif\" font-size=\"12\" lengthAdjust=\"spacingAndGlyphs\" textLength=\"8\" x=\"274\" y=\"71.1074\">g</text><line style=\"stroke: #383838; stroke-width: 1.5;\" x1=\"245.5\" x2=\"314.5\" y1=\"78.9375\" y2=\"78.9375\"/></a><!--MD5=[96f4274e9e20536e775497830990834d]\n",
       "class E10--><a href=\"psysml:5bd4ed77-91ea-4eb7-bbff-8ef8917960b7\" target=\"_top\" title=\"psysml:5bd4ed77-91ea-4eb7-bbff-8ef8917960b7\" xlink:actuate=\"onRequest\" xlink:href=\"psysml:5bd4ed77-91ea-4eb7-bbff-8ef8917960b7\" xlink:show=\"new\" xlink:title=\"psysml:5bd4ed77-91ea-4eb7-bbff-8ef8917960b7\" xlink:type=\"simple\"><rect fill=\"#FFFFFF\" height=\"45.9375\" id=\"E10\" rx=\"10\" ry=\"10\" style=\"stroke: #383838; stroke-width: 1.5;\" width=\"71\" x=\"138.5\" y=\"41\"/><text fill=\"#000000\" font-family=\"sans-serif\" font-size=\"12\" font-style=\"italic\" lengthAdjust=\"spacingAndGlyphs\" textLength=\"69\" x=\"139.5\" y=\"57.1387\">«attribute»</text><text fill=\"#000000\" font-family=\"sans-serif\" font-size=\"12\" lengthAdjust=\"spacingAndGlyphs\" textLength=\"8\" x=\"168\" y=\"71.1074\">b</text><line style=\"stroke: #383838; stroke-width: 1.5;\" x1=\"139.5\" x2=\"208.5\" y1=\"78.9375\" y2=\"78.9375\"/></a><!--MD5=[1dd1bfd58a279cf63c5f349dbc8fc6a1]\n",
       "class E11--><a href=\"psysml:88436cf5-d13a-4d80-b468-40a83b162e0f\" target=\"_top\" title=\"psysml:88436cf5-d13a-4d80-b468-40a83b162e0f\" xlink:actuate=\"onRequest\" xlink:href=\"psysml:88436cf5-d13a-4d80-b468-40a83b162e0f\" xlink:show=\"new\" xlink:title=\"psysml:88436cf5-d13a-4d80-b468-40a83b162e0f\" xlink:type=\"simple\"><rect fill=\"#FFFFFF\" height=\"45.9375\" id=\"E11\" rx=\"10\" ry=\"10\" style=\"stroke: #383838; stroke-width: 1.5;\" width=\"71\" x=\"32.5\" y=\"41\"/><text fill=\"#000000\" font-family=\"sans-serif\" font-size=\"12\" font-style=\"italic\" lengthAdjust=\"spacingAndGlyphs\" textLength=\"69\" x=\"33.5\" y=\"57.1387\">«attribute»</text><text fill=\"#000000\" font-family=\"sans-serif\" font-size=\"12\" lengthAdjust=\"spacingAndGlyphs\" textLength=\"7\" x=\"62.5\" y=\"71.1074\">c</text><line style=\"stroke: #383838; stroke-width: 1.5;\" x1=\"33.5\" x2=\"102.5\" y1=\"78.9375\" y2=\"78.9375\"/></a><text fill=\"#000000\" font-family=\"sans-serif\" font-size=\"14\" lengthAdjust=\"spacingAndGlyphs\" textLength=\"9\" x=\"569.5\" y=\"42.6982\">p</text><rect fill=\"#383838\" height=\"12\" style=\"stroke: #F8F8F8; stroke-width: 1.5;\" width=\"12\" x=\"568\" y=\"58\"/><text fill=\"#000000\" font-family=\"sans-serif\" font-size=\"14\" lengthAdjust=\"spacingAndGlyphs\" textLength=\"9\" x=\"616.5\" y=\"42.6982\">q</text><rect fill=\"#383838\" height=\"12\" style=\"stroke: #F8F8F8; stroke-width: 1.5;\" width=\"12\" x=\"615\" y=\"58\"/><text fill=\"#000000\" font-family=\"sans-serif\" font-size=\"14\" lengthAdjust=\"spacingAndGlyphs\" textLength=\"39\" x=\"601.5\" y=\"193.7151\">result</text><rect fill=\"#383838\" height=\"12\" style=\"stroke: #F8F8F8; stroke-width: 1.5;\" width=\"12\" x=\"615\" y=\"168.72\"/><!--MD5=[05d275557350bfb9b23a4ef7222b4c39]\n",
       "link E3 to E2--><a href=\"psysml:b5c275d4-de01-4c83-8a05-69f2b086225e\" target=\"_top\" title=\"psysml:b5c275d4-de01-4c83-8a05-69f2b086225e\" xlink:actuate=\"onRequest\" xlink:href=\"psysml:b5c275d4-de01-4c83-8a05-69f2b086225e\" xlink:show=\"new\" xlink:title=\"psysml:b5c275d4-de01-4c83-8a05-69f2b086225e\" xlink:type=\"simple\"><path d=\"M481.02,87.17 C480.96,87.29 480.9,87.41 480.84,87.53 \" fill=\"none\" id=\"E3-&gt;E2\" style=\"stroke: #383838; stroke-width: 1.0;\"/><polygon fill=\"#FFFFFF\" points=\"475.19,98.93,477.3425,78.7963,489.8904,85.0052,475.19,98.93\" style=\"stroke: #383838; stroke-width: 1.0;\"/><ellipse cx=\"481.663\" cy=\"74.5745\" fill=\"#383838\" rx=\"2\" ry=\"2\" style=\"stroke: #383838; stroke-width: 1.0;\"/><ellipse cx=\"490.6257\" cy=\"79.0095\" fill=\"#383838\" rx=\"2\" ry=\"2\" style=\"stroke: #383838; stroke-width: 1.0;\"/></a><!--MD5=[22be9f212f222def4fa37e233004f3fc]\n",
       "@startuml\r\n",
       "skinparam ranksep 10\r\n",
       "skinparam rectangle {\r\n",
       " backgroundColor<<block>> LightGreen\r\n",
       "}\r\n",
       "skinparam linetype polyline\r\n",
       "skinparam monochrome true\r\n",
       "skinparam classbackgroundcolor white\r\n",
       "skinparam shadowing false\r\n",
       "skinparam wrapWidth 300\r\n",
       "hide circle\r\n",
       "\r\n",
       "package \"ParameterTest\" as E1  [[psysml:86781c8e-3979-42bc-84a0-50d047026621 ]]  {\r\n",
       "def \"A\" as E2  <<(T,blue) attribute  def>> [[psysml:2ec9bc29-3801-4d04-bd01-a8a7cc509576 ]] \r\n",
       "comp usage \"a: A \" as E3  <<(T,blue) attribute>> [[psysml:904ee486-6b36-4246-8723-5e3acfd2e245 ]] {\r\n",
       "}\r\n",
       "rec def \"F\" as E4  <<(T,blue) calculation  def>> [[psysml:824349d9-f3af-4f57-b650-7b4ce1821d09 ]] {\r\n",
       "portin \"p\" as E5  [[psysml:1d7d0081-d3e1-46bd-ad63-b0e63267b1e5 ]] \r\n",
       "portin \"q\" as E6  [[psysml:21dced71-d174-49eb-b20b-d0423025e0cf ]] \r\n",
       "portout \"result\" as E7  [[psysml:89ad9a9d-29f0-45e8-8d07-ebce693a6326 ]] \r\n",
       "}\r\n",
       "\r\n",
       "comp usage \"f \" as E8  <<(T,blue) attribute>> [[psysml:8204b4e2-616f-4bbc-afa4-9ecd277b5579 ]] {\r\n",
       "}\r\n",
       "comp usage \"g \" as E9  <<(T,blue) attribute>> [[psysml:86e22d1e-a4d5-4fc2-80cd-01d3f8e601c3 ]] {\r\n",
       "}\r\n",
       "comp usage \"b \" as E10  <<(T,blue) attribute>> [[psysml:5bd4ed77-91ea-4eb7-bbff-8ef8917960b7 ]] {\r\n",
       "}\r\n",
       "comp usage \"c \" as E11  <<(T,blue) attribute>> [[psysml:88436cf5-d13a-4d80-b468-40a83b162e0f ]] {\r\n",
       "}\r\n",
       "}\r\n",
       "E3 - -:|> E2 [[psysml:b5c275d4-de01-4c83-8a05-69f2b086225e ]] \r\n",
       "@enduml\r\n",
       "\n",
       "PlantUML version 1.2020.13(Sat Jun 13 12:26:38 UTC 2020)\n",
       "(EPL source distribution)\n",
       "Java Runtime: OpenJDK Runtime Environment\n",
       "JVM: OpenJDK 64-Bit Server VM\n",
       "Default Encoding: UTF-8\n",
       "Language: en\n",
       "Country: null\n",
       "--></g></svg>"
      ]
     },
     "execution_count": 12,
     "metadata": {},
     "output_type": "execute_result"
    }
   ],
   "source": [
    "%viz --style=\"POLYLINE\" --view=\"Interconnection\" \"ParameterTest\""
   ]
  },
  {
   "cell_type": "code",
   "execution_count": 13,
   "id": "1f7331e3",
   "metadata": {
    "execution": {
     "iopub.execute_input": "2022-03-03T09:56:14.844111Z",
     "iopub.status.busy": "2022-03-03T09:56:14.843692Z",
     "iopub.status.idle": "2022-03-03T09:56:14.869614Z",
     "shell.execute_reply": "2022-03-03T09:56:14.869950Z"
    }
   },
   "outputs": [
    {
     "data": {
      "image/svg+xml": [
       "<?xml version=\"1.0\" encoding=\"UTF-8\" standalone=\"no\"?><svg xmlns=\"http://www.w3.org/2000/svg\" xmlns:xlink=\"http://www.w3.org/1999/xlink\" contentScriptType=\"application/ecmascript\" contentStyleType=\"text/css\" height=\"162px\" preserveAspectRatio=\"none\" style=\"width:168px;height:162px;\" version=\"1.1\" viewBox=\"0 0 168 162\" width=\"168px\" zoomAndPan=\"magnify\"><defs/><g><!--MD5=[fbc87193dbaf4d95561dea2c320d4a47]\n",
       "cluster E1--><a href=\"psysml:824349d9-f3af-4f57-b650-7b4ce1821d09\" target=\"_top\" title=\"psysml:824349d9-f3af-4f57-b650-7b4ce1821d09\" xlink:actuate=\"onRequest\" xlink:href=\"psysml:824349d9-f3af-4f57-b650-7b4ce1821d09\" xlink:show=\"new\" xlink:title=\"psysml:824349d9-f3af-4f57-b650-7b4ce1821d09\" xlink:type=\"simple\"><rect fill=\"#FFFFFF\" height=\"87.72\" id=\"E1\" style=\"stroke: #383838; stroke-width: 1.5;\" width=\"150\" x=\"7\" y=\"42.0986\"/><rect fill=\"#F8F8F8\" height=\"37.9375\" style=\"stroke: #383838; stroke-width: 1.5;\" width=\"150\" x=\"7\" y=\"42.0986\"/><text fill=\"#000000\" font-family=\"sans-serif\" font-size=\"12\" font-style=\"italic\" lengthAdjust=\"spacingAndGlyphs\" textLength=\"110\" x=\"27\" y=\"58.2373\">«calculation  def»</text><text fill=\"#000000\" font-family=\"sans-serif\" font-size=\"12\" lengthAdjust=\"spacingAndGlyphs\" textLength=\"7\" x=\"78.5\" y=\"72.2061\">F</text></a><text fill=\"#000000\" font-family=\"sans-serif\" font-size=\"14\" lengthAdjust=\"spacingAndGlyphs\" textLength=\"9\" x=\"20.5\" y=\"20.7969\">p</text><rect fill=\"#383838\" height=\"12\" style=\"stroke: #F8F8F8; stroke-width: 1.5;\" width=\"12\" x=\"19\" y=\"36.0986\"/><text fill=\"#000000\" font-family=\"sans-serif\" font-size=\"14\" lengthAdjust=\"spacingAndGlyphs\" textLength=\"9\" x=\"67.5\" y=\"20.7969\">q</text><rect fill=\"#383838\" height=\"12\" style=\"stroke: #F8F8F8; stroke-width: 1.5;\" width=\"12\" x=\"66\" y=\"36.0986\"/><text fill=\"#000000\" font-family=\"sans-serif\" font-size=\"14\" lengthAdjust=\"spacingAndGlyphs\" textLength=\"39\" x=\"52.5\" y=\"148.8138\">result</text><rect fill=\"#383838\" height=\"12\" style=\"stroke: #F8F8F8; stroke-width: 1.5;\" width=\"12\" x=\"66\" y=\"123.8186\"/><!--MD5=[979f7291a1afccb1a1b374f5fb832cdf]\n",
       "@startuml\r\n",
       "skinparam ranksep 8\r\n",
       "skinparam linetype polyline\r\n",
       "skinparam monochrome true\r\n",
       "skinparam classbackgroundcolor white\r\n",
       "skinparam shadowing false\r\n",
       "skinparam wrapWidth 300\r\n",
       "hide circle\r\n",
       "\r\n",
       "rec def \"F\" as E1  <<(T,blue) calculation  def>> [[psysml:824349d9-f3af-4f57-b650-7b4ce1821d09 ]] {\r\n",
       "portin \"p\" as E2  [[psysml:1d7d0081-d3e1-46bd-ad63-b0e63267b1e5 ]] \r\n",
       "portin \"q\" as E3  [[psysml:21dced71-d174-49eb-b20b-d0423025e0cf ]] \r\n",
       "portout \"result\" as E4  [[psysml:89ad9a9d-29f0-45e8-8d07-ebce693a6326 ]] \r\n",
       "}\r\n",
       "\r\n",
       "@enduml\r\n",
       "\n",
       "PlantUML version 1.2020.13(Sat Jun 13 12:26:38 UTC 2020)\n",
       "(EPL source distribution)\n",
       "Java Runtime: OpenJDK Runtime Environment\n",
       "JVM: OpenJDK 64-Bit Server VM\n",
       "Default Encoding: UTF-8\n",
       "Language: en\n",
       "Country: null\n",
       "--></g></svg>"
      ]
     },
     "execution_count": 13,
     "metadata": {},
     "output_type": "execute_result"
    }
   ],
   "source": [
    "%viz --style=\"POLYLINE\" --view=\"Action\" \"ParameterTest\""
   ]
  },
  {
   "cell_type": "code",
   "execution_count": 14,
   "id": "7c61df2c",
   "metadata": {
    "execution": {
     "iopub.execute_input": "2022-03-03T09:56:14.919989Z",
     "iopub.status.busy": "2022-03-03T09:56:14.919578Z",
     "iopub.status.idle": "2022-03-03T09:56:14.925957Z",
     "shell.execute_reply": "2022-03-03T09:56:14.926290Z"
    }
   },
   "outputs": [
    {
     "data": {
      "image/svg+xml": [
       "<?xml version=\"1.0\" encoding=\"UTF-8\" standalone=\"no\"?><svg xmlns=\"http://www.w3.org/2000/svg\" xmlns:xlink=\"http://www.w3.org/1999/xlink\" contentScriptType=\"application/ecmascript\" contentStyleType=\"text/css\" height=\"12px\" preserveAspectRatio=\"none\" style=\"width:12px;height:12px;\" version=\"1.1\" viewBox=\"0 0 12 12\" width=\"12px\" zoomAndPan=\"magnify\"><defs/><g><!--MD5=[dc938048236c351797870c36b62f92ad]\n",
       "@startuml\r\n",
       "skinparam roundcorner 20\r\n",
       "skinparam BoxPadding 20\r\n",
       "skinparam SequenceBoxBackgroundColor #white\r\n",
       "skinparam style strictuml\r\n",
       "skinparam maxMessageSize 100\r\n",
       "skinparam linetype polyline\r\n",
       "skinparam monochrome true\r\n",
       "skinparam classbackgroundcolor white\r\n",
       "skinparam shadowing false\r\n",
       "skinparam wrapWidth 300\r\n",
       "hide circle\r\n",
       "\r\n",
       "@enduml\r\n",
       "\n",
       "PlantUML version 1.2020.13(Sat Jun 13 12:26:38 UTC 2020)\n",
       "(EPL source distribution)\n",
       "Java Runtime: OpenJDK Runtime Environment\n",
       "JVM: OpenJDK 64-Bit Server VM\n",
       "Default Encoding: UTF-8\n",
       "Language: en\n",
       "Country: null\n",
       "--></g></svg>"
      ]
     },
     "execution_count": 14,
     "metadata": {},
     "output_type": "execute_result"
    }
   ],
   "source": [
    "%viz --style=\"POLYLINE\" --view=\"Sequence\" \"ParameterTest\""
   ]
  },
  {
   "cell_type": "code",
   "execution_count": 15,
   "id": "70d6752d",
   "metadata": {
    "execution": {
     "iopub.execute_input": "2022-03-03T09:56:14.976343Z",
     "iopub.status.busy": "2022-03-03T09:56:14.975922Z",
     "iopub.status.idle": "2022-03-03T09:56:15.036373Z",
     "shell.execute_reply": "2022-03-03T09:56:15.036002Z"
    }
   },
   "outputs": [
    {
     "data": {
      "image/svg+xml": [
       "<?xml version=\"1.0\" encoding=\"UTF-8\" standalone=\"no\"?><svg xmlns=\"http://www.w3.org/2000/svg\" xmlns:xlink=\"http://www.w3.org/1999/xlink\" contentScriptType=\"application/ecmascript\" contentStyleType=\"text/css\" height=\"403px\" preserveAspectRatio=\"none\" style=\"width:744px;height:403px;\" version=\"1.1\" viewBox=\"0 0 744 403\" width=\"744px\" zoomAndPan=\"magnify\"><defs/><g><!--MD5=[fbc87193dbaf4d95561dea2c320d4a47]\n",
       "cluster E1--><a href=\"psysml:86781c8e-3979-42bc-84a0-50d047026621\" target=\"_top\" title=\"psysml:86781c8e-3979-42bc-84a0-50d047026621\" xlink:actuate=\"onRequest\" xlink:href=\"psysml:86781c8e-3979-42bc-84a0-50d047026621\" xlink:show=\"new\" xlink:title=\"psysml:86781c8e-3979-42bc-84a0-50d047026621\" xlink:type=\"simple\"><polygon fill=\"#FFFFFF\" points=\"16,6,124,6,131,28.2969,722,28.2969,722,391.72,16,391.72,16,6\" style=\"stroke: #000000; stroke-width: 1.5;\"/><line style=\"stroke: #000000; stroke-width: 1.5;\" x1=\"16\" x2=\"131\" y1=\"28.2969\" y2=\"28.2969\"/><text fill=\"#000000\" font-family=\"sans-serif\" font-size=\"14\" font-weight=\"bold\" lengthAdjust=\"spacingAndGlyphs\" textLength=\"102\" x=\"20\" y=\"20.9951\">ParameterTest</text></a><!--MD5=[f6df4d0ebaf0b5dfb2ced0ae5af7c670]\n",
       "cluster E4--><a href=\"psysml:824349d9-f3af-4f57-b650-7b4ce1821d09\" target=\"_top\" title=\"psysml:824349d9-f3af-4f57-b650-7b4ce1821d09\" xlink:actuate=\"onRequest\" xlink:href=\"psysml:824349d9-f3af-4f57-b650-7b4ce1821d09\" xlink:show=\"new\" xlink:title=\"psysml:824349d9-f3af-4f57-b650-7b4ce1821d09\" xlink:type=\"simple\"><rect fill=\"#FFFFFF\" height=\"297.72\" id=\"E4\" style=\"stroke: #383838; stroke-width: 1.5;\" width=\"150\" x=\"556\" y=\"64\"/><rect fill=\"#F8F8F8\" height=\"37.9375\" style=\"stroke: #383838; stroke-width: 1.5;\" width=\"150\" x=\"556\" y=\"64\"/><text fill=\"#000000\" font-family=\"sans-serif\" font-size=\"12\" font-style=\"italic\" lengthAdjust=\"spacingAndGlyphs\" textLength=\"110\" x=\"576\" y=\"80.1387\">«calculation  def»</text><text fill=\"#000000\" font-family=\"sans-serif\" font-size=\"12\" lengthAdjust=\"spacingAndGlyphs\" textLength=\"7\" x=\"627.5\" y=\"94.1074\">F</text></a><!--MD5=[b4997ac47864f28c2f74865a473b2911]\n",
       "class E2--><a href=\"psysml:2ec9bc29-3801-4d04-bd01-a8a7cc509576\" target=\"_top\" title=\"psysml:2ec9bc29-3801-4d04-bd01-a8a7cc509576\" xlink:actuate=\"onRequest\" xlink:href=\"psysml:2ec9bc29-3801-4d04-bd01-a8a7cc509576\" xlink:show=\"new\" xlink:title=\"psysml:2ec9bc29-3801-4d04-bd01-a8a7cc509576\" xlink:type=\"simple\"><rect fill=\"#FFFFFF\" height=\"88.3516\" id=\"E2\" style=\"stroke: #383838; stroke-width: 1.5;\" width=\"99\" x=\"418.5\" y=\"147\"/><text fill=\"#000000\" font-family=\"sans-serif\" font-size=\"12\" font-style=\"italic\" lengthAdjust=\"spacingAndGlyphs\" textLength=\"97\" x=\"419.5\" y=\"163.1387\">«attribute  def»</text><text fill=\"#000000\" font-family=\"sans-serif\" font-size=\"12\" lengthAdjust=\"spacingAndGlyphs\" textLength=\"8\" x=\"464\" y=\"177.1074\">A</text><line style=\"stroke: #383838; stroke-width: 1.5;\" x1=\"419.5\" x2=\"516.5\" y1=\"184.9375\" y2=\"184.9375\"/><text fill=\"#000000\" font-family=\"sans-serif\" font-size=\"11\" lengthAdjust=\"spacingAndGlyphs\" textLength=\"48\" x=\"424.5\" y=\"215.9526\">x: String</text><text fill=\"#000000\" font-family=\"sans-serif\" font-size=\"11\" lengthAdjust=\"spacingAndGlyphs\" textLength=\"21\" x=\"424.5\" y=\"228.7573\">y: A</text><line style=\"stroke: #383838; stroke-width: 1.0;\" x1=\"419.5\" x2=\"440.5\" y1=\"199.3398\" y2=\"199.3398\"/><text fill=\"#000000\" font-family=\"sans-serif\" font-size=\"11\" lengthAdjust=\"spacingAndGlyphs\" textLength=\"55\" x=\"440.5\" y=\"202.6479\">attributes</text><line style=\"stroke: #383838; stroke-width: 1.0;\" x1=\"495.5\" x2=\"516.5\" y1=\"199.3398\" y2=\"199.3398\"/></a><!--MD5=[09b614a08d8cba4a07c9adeb5e0fee81]\n",
       "class E3--><a href=\"psysml:904ee486-6b36-4246-8723-5e3acfd2e245\" target=\"_top\" title=\"psysml:904ee486-6b36-4246-8723-5e3acfd2e245\" xlink:actuate=\"onRequest\" xlink:href=\"psysml:904ee486-6b36-4246-8723-5e3acfd2e245\" xlink:show=\"new\" xlink:title=\"psysml:904ee486-6b36-4246-8723-5e3acfd2e245\" xlink:type=\"simple\"><rect fill=\"#FFFFFF\" height=\"45.9375\" id=\"E3\" rx=\"10\" ry=\"10\" style=\"stroke: #383838; stroke-width: 1.5;\" width=\"71\" x=\"456.5\" y=\"41\"/><text fill=\"#000000\" font-family=\"sans-serif\" font-size=\"12\" font-style=\"italic\" lengthAdjust=\"spacingAndGlyphs\" textLength=\"69\" x=\"457.5\" y=\"57.1387\">«attribute»</text><text fill=\"#000000\" font-family=\"sans-serif\" font-size=\"12\" lengthAdjust=\"spacingAndGlyphs\" textLength=\"24\" x=\"478\" y=\"71.1074\">a: A</text><line style=\"stroke: #383838; stroke-width: 1.5;\" x1=\"457.5\" x2=\"526.5\" y1=\"78.9375\" y2=\"78.9375\"/></a><!--MD5=[b9389687b975829384b498ac4b7476b2]\n",
       "class E8--><a href=\"psysml:8204b4e2-616f-4bbc-afa4-9ecd277b5579\" target=\"_top\" title=\"psysml:8204b4e2-616f-4bbc-afa4-9ecd277b5579\" xlink:actuate=\"onRequest\" xlink:href=\"psysml:8204b4e2-616f-4bbc-afa4-9ecd277b5579\" xlink:show=\"new\" xlink:title=\"psysml:8204b4e2-616f-4bbc-afa4-9ecd277b5579\" xlink:type=\"simple\"><rect fill=\"#FFFFFF\" height=\"45.9375\" id=\"E8\" rx=\"10\" ry=\"10\" style=\"stroke: #383838; stroke-width: 1.5;\" width=\"71\" x=\"350.5\" y=\"41\"/><text fill=\"#000000\" font-family=\"sans-serif\" font-size=\"12\" font-style=\"italic\" lengthAdjust=\"spacingAndGlyphs\" textLength=\"69\" x=\"351.5\" y=\"57.1387\">«attribute»</text><text fill=\"#000000\" font-family=\"sans-serif\" font-size=\"12\" lengthAdjust=\"spacingAndGlyphs\" textLength=\"4\" x=\"382\" y=\"71.1074\">f</text><line style=\"stroke: #383838; stroke-width: 1.5;\" x1=\"351.5\" x2=\"420.5\" y1=\"78.9375\" y2=\"78.9375\"/></a><!--MD5=[fd4143e9d270a159db93a4ea2a975926]\n",
       "class E9--><a href=\"psysml:86e22d1e-a4d5-4fc2-80cd-01d3f8e601c3\" target=\"_top\" title=\"psysml:86e22d1e-a4d5-4fc2-80cd-01d3f8e601c3\" xlink:actuate=\"onRequest\" xlink:href=\"psysml:86e22d1e-a4d5-4fc2-80cd-01d3f8e601c3\" xlink:show=\"new\" xlink:title=\"psysml:86e22d1e-a4d5-4fc2-80cd-01d3f8e601c3\" xlink:type=\"simple\"><rect fill=\"#FFFFFF\" height=\"45.9375\" id=\"E9\" rx=\"10\" ry=\"10\" style=\"stroke: #383838; stroke-width: 1.5;\" width=\"71\" x=\"244.5\" y=\"41\"/><text fill=\"#000000\" font-family=\"sans-serif\" font-size=\"12\" font-style=\"italic\" lengthAdjust=\"spacingAndGlyphs\" textLength=\"69\" x=\"245.5\" y=\"57.1387\">«attribute»</text><text fill=\"#000000\" font-family=\"sans-serif\" font-size=\"12\" lengthAdjust=\"spacingAndGlyphs\" textLength=\"8\" x=\"274\" y=\"71.1074\">g</text><line style=\"stroke: #383838; stroke-width: 1.5;\" x1=\"245.5\" x2=\"314.5\" y1=\"78.9375\" y2=\"78.9375\"/></a><!--MD5=[96f4274e9e20536e775497830990834d]\n",
       "class E10--><a href=\"psysml:5bd4ed77-91ea-4eb7-bbff-8ef8917960b7\" target=\"_top\" title=\"psysml:5bd4ed77-91ea-4eb7-bbff-8ef8917960b7\" xlink:actuate=\"onRequest\" xlink:href=\"psysml:5bd4ed77-91ea-4eb7-bbff-8ef8917960b7\" xlink:show=\"new\" xlink:title=\"psysml:5bd4ed77-91ea-4eb7-bbff-8ef8917960b7\" xlink:type=\"simple\"><rect fill=\"#FFFFFF\" height=\"45.9375\" id=\"E10\" rx=\"10\" ry=\"10\" style=\"stroke: #383838; stroke-width: 1.5;\" width=\"71\" x=\"138.5\" y=\"41\"/><text fill=\"#000000\" font-family=\"sans-serif\" font-size=\"12\" font-style=\"italic\" lengthAdjust=\"spacingAndGlyphs\" textLength=\"69\" x=\"139.5\" y=\"57.1387\">«attribute»</text><text fill=\"#000000\" font-family=\"sans-serif\" font-size=\"12\" lengthAdjust=\"spacingAndGlyphs\" textLength=\"8\" x=\"168\" y=\"71.1074\">b</text><line style=\"stroke: #383838; stroke-width: 1.5;\" x1=\"139.5\" x2=\"208.5\" y1=\"78.9375\" y2=\"78.9375\"/></a><!--MD5=[1dd1bfd58a279cf63c5f349dbc8fc6a1]\n",
       "class E11--><a href=\"psysml:88436cf5-d13a-4d80-b468-40a83b162e0f\" target=\"_top\" title=\"psysml:88436cf5-d13a-4d80-b468-40a83b162e0f\" xlink:actuate=\"onRequest\" xlink:href=\"psysml:88436cf5-d13a-4d80-b468-40a83b162e0f\" xlink:show=\"new\" xlink:title=\"psysml:88436cf5-d13a-4d80-b468-40a83b162e0f\" xlink:type=\"simple\"><rect fill=\"#FFFFFF\" height=\"45.9375\" id=\"E11\" rx=\"10\" ry=\"10\" style=\"stroke: #383838; stroke-width: 1.5;\" width=\"71\" x=\"32.5\" y=\"41\"/><text fill=\"#000000\" font-family=\"sans-serif\" font-size=\"12\" font-style=\"italic\" lengthAdjust=\"spacingAndGlyphs\" textLength=\"69\" x=\"33.5\" y=\"57.1387\">«attribute»</text><text fill=\"#000000\" font-family=\"sans-serif\" font-size=\"12\" lengthAdjust=\"spacingAndGlyphs\" textLength=\"7\" x=\"62.5\" y=\"71.1074\">c</text><line style=\"stroke: #383838; stroke-width: 1.5;\" x1=\"33.5\" x2=\"102.5\" y1=\"78.9375\" y2=\"78.9375\"/></a><text fill=\"#000000\" font-family=\"sans-serif\" font-size=\"14\" lengthAdjust=\"spacingAndGlyphs\" textLength=\"9\" x=\"569.5\" y=\"42.6982\">p</text><rect fill=\"#383838\" height=\"12\" style=\"stroke: #F8F8F8; stroke-width: 1.5;\" width=\"12\" x=\"568\" y=\"58\"/><text fill=\"#000000\" font-family=\"sans-serif\" font-size=\"14\" lengthAdjust=\"spacingAndGlyphs\" textLength=\"9\" x=\"616.5\" y=\"42.6982\">q</text><rect fill=\"#383838\" height=\"12\" style=\"stroke: #F8F8F8; stroke-width: 1.5;\" width=\"12\" x=\"615\" y=\"58\"/><text fill=\"#000000\" font-family=\"sans-serif\" font-size=\"14\" lengthAdjust=\"spacingAndGlyphs\" textLength=\"39\" x=\"601.5\" y=\"380.7151\">result</text><rect fill=\"#383838\" height=\"12\" style=\"stroke: #F8F8F8; stroke-width: 1.5;\" width=\"12\" x=\"615\" y=\"355.72\"/><!--MD5=[05d275557350bfb9b23a4ef7222b4c39]\n",
       "link E3 to E2--><a href=\"psysml:b5c275d4-de01-4c83-8a05-69f2b086225e\" target=\"_top\" title=\"psysml:b5c275d4-de01-4c83-8a05-69f2b086225e\" xlink:actuate=\"onRequest\" xlink:href=\"psysml:b5c275d4-de01-4c83-8a05-69f2b086225e\" xlink:show=\"new\" xlink:title=\"psysml:b5c275d4-de01-4c83-8a05-69f2b086225e\" xlink:type=\"simple\"><path d=\"M487.76,87.06 C485.61,98.3 482.86,112.6 480.11,126.95 \" fill=\"none\" id=\"E3-&gt;E2\" style=\"stroke: #383838; stroke-width: 1.0;\"/><polygon fill=\"#FFFFFF\" points=\"476.27,146.93,472.9781,126.9509,486.727,129.5907,476.27,146.93\" style=\"stroke: #383838; stroke-width: 1.0;\"/><ellipse cx=\"476.017\" cy=\"121.7303\" fill=\"#383838\" rx=\"2\" ry=\"2\" style=\"stroke: #383838; stroke-width: 1.0;\"/><ellipse cx=\"485.8376\" cy=\"123.6158\" fill=\"#383838\" rx=\"2\" ry=\"2\" style=\"stroke: #383838; stroke-width: 1.0;\"/></a><!--MD5=[952e3121a0bb936d0000a6f379d91f1c]\n",
       "@startuml\r\n",
       "skinparam linetype polyline\r\n",
       "skinparam monochrome true\r\n",
       "skinparam classbackgroundcolor white\r\n",
       "skinparam shadowing false\r\n",
       "skinparam wrapWidth 300\r\n",
       "hide circle\r\n",
       "\r\n",
       "package \"ParameterTest\" as E1  [[psysml:86781c8e-3979-42bc-84a0-50d047026621 ]]  {\r\n",
       "comp def \"A\" as E2  <<(T,blue) attribute  def>> [[psysml:2ec9bc29-3801-4d04-bd01-a8a7cc509576 ]] {\r\n",
       "- - attributes - -\r\n",
       "x: String\r\n",
       "y: A\r\n",
       "}\r\n",
       "comp usage \"a: A \" as E3  <<(T,blue) attribute>> [[psysml:904ee486-6b36-4246-8723-5e3acfd2e245 ]] {\r\n",
       "}\r\n",
       "rec def \"F\" as E4  <<(T,blue) calculation  def>> [[psysml:824349d9-f3af-4f57-b650-7b4ce1821d09 ]] {\r\n",
       "portin \"p\" as E5  [[psysml:1d7d0081-d3e1-46bd-ad63-b0e63267b1e5 ]] \r\n",
       "portin \"q\" as E6  [[psysml:21dced71-d174-49eb-b20b-d0423025e0cf ]] \r\n",
       "portout \"result\" as E7  [[psysml:89ad9a9d-29f0-45e8-8d07-ebce693a6326 ]] \r\n",
       "}\r\n",
       "\r\n",
       "comp usage \"f \" as E8  <<(T,blue) attribute>> [[psysml:8204b4e2-616f-4bbc-afa4-9ecd277b5579 ]] {\r\n",
       "}\r\n",
       "comp usage \"g \" as E9  <<(T,blue) attribute>> [[psysml:86e22d1e-a4d5-4fc2-80cd-01d3f8e601c3 ]] {\r\n",
       "}\r\n",
       "comp usage \"b \" as E10  <<(T,blue) attribute>> [[psysml:5bd4ed77-91ea-4eb7-bbff-8ef8917960b7 ]] {\r\n",
       "}\r\n",
       "comp usage \"c \" as E11  <<(T,blue) attribute>> [[psysml:88436cf5-d13a-4d80-b468-40a83b162e0f ]] {\r\n",
       "}\r\n",
       "}\r\n",
       "E3 - -:|> E2 [[psysml:b5c275d4-de01-4c83-8a05-69f2b086225e ]] \r\n",
       "@enduml\r\n",
       "\n",
       "PlantUML version 1.2020.13(Sat Jun 13 12:26:38 UTC 2020)\n",
       "(EPL source distribution)\n",
       "Java Runtime: OpenJDK Runtime Environment\n",
       "JVM: OpenJDK 64-Bit Server VM\n",
       "Default Encoding: UTF-8\n",
       "Language: en\n",
       "Country: null\n",
       "--></g></svg>"
      ]
     },
     "execution_count": 15,
     "metadata": {},
     "output_type": "execute_result"
    }
   ],
   "source": [
    "%viz --style=\"POLYLINE\" --view=\"MIXED\" \"ParameterTest\""
   ]
  },
  {
   "cell_type": "code",
   "execution_count": 16,
   "id": "fcdb423b",
   "metadata": {
    "execution": {
     "iopub.execute_input": "2022-03-03T09:56:15.086390Z",
     "iopub.status.busy": "2022-03-03T09:56:15.085975Z",
     "iopub.status.idle": "2022-03-03T09:56:15.145690Z",
     "shell.execute_reply": "2022-03-03T09:56:15.145320Z"
    }
   },
   "outputs": [
    {
     "data": {
      "image/svg+xml": [
       "<?xml version=\"1.0\" encoding=\"UTF-8\" standalone=\"no\"?><svg xmlns=\"http://www.w3.org/2000/svg\" xmlns:xlink=\"http://www.w3.org/1999/xlink\" contentScriptType=\"application/ecmascript\" contentStyleType=\"text/css\" height=\"541px\" preserveAspectRatio=\"none\" style=\"width:478px;height:541px;\" version=\"1.1\" viewBox=\"0 0 478 541\" width=\"478px\" zoomAndPan=\"magnify\"><defs/><g><!--MD5=[fbc87193dbaf4d95561dea2c320d4a47]\n",
       "cluster E1--><a href=\"psysml:86781c8e-3979-42bc-84a0-50d047026621\" target=\"_top\" title=\"psysml:86781c8e-3979-42bc-84a0-50d047026621\" xlink:actuate=\"onRequest\" xlink:href=\"psysml:86781c8e-3979-42bc-84a0-50d047026621\" xlink:show=\"new\" xlink:title=\"psysml:86781c8e-3979-42bc-84a0-50d047026621\" xlink:type=\"simple\"><polygon fill=\"#FFFFFF\" points=\"16,6,124,6,131,28.2969,456.72,28.2969,456.72,529,16,529,16,6\" style=\"stroke: #000000; stroke-width: 1.5;\"/><line style=\"stroke: #000000; stroke-width: 1.5;\" x1=\"16\" x2=\"131\" y1=\"28.2969\" y2=\"28.2969\"/><text fill=\"#000000\" font-family=\"sans-serif\" font-size=\"14\" font-weight=\"bold\" lengthAdjust=\"spacingAndGlyphs\" textLength=\"102\" x=\"20\" y=\"20.9951\">ParameterTest</text></a><!--MD5=[f6df4d0ebaf0b5dfb2ced0ae5af7c670]\n",
       "cluster E4--><a href=\"psysml:824349d9-f3af-4f57-b650-7b4ce1821d09\" target=\"_top\" title=\"psysml:824349d9-f3af-4f57-b650-7b4ce1821d09\" xlink:actuate=\"onRequest\" xlink:href=\"psysml:824349d9-f3af-4f57-b650-7b4ce1821d09\" xlink:show=\"new\" xlink:title=\"psysml:824349d9-f3af-4f57-b650-7b4ce1821d09\" xlink:type=\"simple\"><rect fill=\"#FFFFFF\" height=\"47\" id=\"E4\" style=\"stroke: #383838; stroke-width: 1.5;\" width=\"377.22\" x=\"49.5\" y=\"55\"/><rect fill=\"#F8F8F8\" height=\"37.9375\" style=\"stroke: #383838; stroke-width: 1.5;\" width=\"377.22\" x=\"49.5\" y=\"55\"/><text fill=\"#000000\" font-family=\"sans-serif\" font-size=\"12\" font-style=\"italic\" lengthAdjust=\"spacingAndGlyphs\" textLength=\"110\" x=\"183.11\" y=\"71.1387\">«calculation  def»</text><text fill=\"#000000\" font-family=\"sans-serif\" font-size=\"12\" lengthAdjust=\"spacingAndGlyphs\" textLength=\"7\" x=\"234.61\" y=\"85.1074\">F</text></a><!--MD5=[b4997ac47864f28c2f74865a473b2911]\n",
       "class E2--><a href=\"psysml:2ec9bc29-3801-4d04-bd01-a8a7cc509576\" target=\"_top\" title=\"psysml:2ec9bc29-3801-4d04-bd01-a8a7cc509576\" xlink:actuate=\"onRequest\" xlink:href=\"psysml:2ec9bc29-3801-4d04-bd01-a8a7cc509576\" xlink:show=\"new\" xlink:title=\"psysml:2ec9bc29-3801-4d04-bd01-a8a7cc509576\" xlink:type=\"simple\"><rect fill=\"#FFFFFF\" height=\"88.3516\" id=\"E2\" style=\"stroke: #383838; stroke-width: 1.5;\" width=\"99\" x=\"182\" y=\"128\"/><text fill=\"#000000\" font-family=\"sans-serif\" font-size=\"12\" font-style=\"italic\" lengthAdjust=\"spacingAndGlyphs\" textLength=\"97\" x=\"183\" y=\"144.1387\">«attribute  def»</text><text fill=\"#000000\" font-family=\"sans-serif\" font-size=\"12\" lengthAdjust=\"spacingAndGlyphs\" textLength=\"8\" x=\"227.5\" y=\"158.1074\">A</text><line style=\"stroke: #383838; stroke-width: 1.5;\" x1=\"183\" x2=\"280\" y1=\"165.9375\" y2=\"165.9375\"/><text fill=\"#000000\" font-family=\"sans-serif\" font-size=\"11\" lengthAdjust=\"spacingAndGlyphs\" textLength=\"48\" x=\"188\" y=\"196.9526\">x: String</text><text fill=\"#000000\" font-family=\"sans-serif\" font-size=\"11\" lengthAdjust=\"spacingAndGlyphs\" textLength=\"21\" x=\"188\" y=\"209.7573\">y: A</text><line style=\"stroke: #383838; stroke-width: 1.0;\" x1=\"183\" x2=\"204\" y1=\"180.3398\" y2=\"180.3398\"/><text fill=\"#000000\" font-family=\"sans-serif\" font-size=\"11\" lengthAdjust=\"spacingAndGlyphs\" textLength=\"55\" x=\"204\" y=\"183.6479\">attributes</text><line style=\"stroke: #383838; stroke-width: 1.0;\" x1=\"259\" x2=\"280\" y1=\"180.3398\" y2=\"180.3398\"/></a><!--MD5=[09b614a08d8cba4a07c9adeb5e0fee81]\n",
       "class E3--><a href=\"psysml:904ee486-6b36-4246-8723-5e3acfd2e245\" target=\"_top\" title=\"psysml:904ee486-6b36-4246-8723-5e3acfd2e245\" xlink:actuate=\"onRequest\" xlink:href=\"psysml:904ee486-6b36-4246-8723-5e3acfd2e245\" xlink:show=\"new\" xlink:title=\"psysml:904ee486-6b36-4246-8723-5e3acfd2e245\" xlink:type=\"simple\"><rect fill=\"#FFFFFF\" height=\"45.9375\" id=\"E3\" rx=\"10\" ry=\"10\" style=\"stroke: #383838; stroke-width: 1.5;\" width=\"71\" x=\"32\" y=\"143\"/><text fill=\"#000000\" font-family=\"sans-serif\" font-size=\"12\" font-style=\"italic\" lengthAdjust=\"spacingAndGlyphs\" textLength=\"69\" x=\"33\" y=\"159.1387\">«attribute»</text><text fill=\"#000000\" font-family=\"sans-serif\" font-size=\"12\" lengthAdjust=\"spacingAndGlyphs\" textLength=\"24\" x=\"53.5\" y=\"173.1074\">a: A</text><line style=\"stroke: #383838; stroke-width: 1.5;\" x1=\"33\" x2=\"102\" y1=\"180.9375\" y2=\"180.9375\"/></a><!--MD5=[b9389687b975829384b498ac4b7476b2]\n",
       "class E8--><a href=\"psysml:8204b4e2-616f-4bbc-afa4-9ecd277b5579\" target=\"_top\" title=\"psysml:8204b4e2-616f-4bbc-afa4-9ecd277b5579\" xlink:actuate=\"onRequest\" xlink:href=\"psysml:8204b4e2-616f-4bbc-afa4-9ecd277b5579\" xlink:show=\"new\" xlink:title=\"psysml:8204b4e2-616f-4bbc-afa4-9ecd277b5579\" xlink:type=\"simple\"><rect fill=\"#FFFFFF\" height=\"45.9375\" id=\"E8\" rx=\"10\" ry=\"10\" style=\"stroke: #383838; stroke-width: 1.5;\" width=\"71\" x=\"32\" y=\"224\"/><text fill=\"#000000\" font-family=\"sans-serif\" font-size=\"12\" font-style=\"italic\" lengthAdjust=\"spacingAndGlyphs\" textLength=\"69\" x=\"33\" y=\"240.1387\">«attribute»</text><text fill=\"#000000\" font-family=\"sans-serif\" font-size=\"12\" lengthAdjust=\"spacingAndGlyphs\" textLength=\"4\" x=\"63.5\" y=\"254.1074\">f</text><line style=\"stroke: #383838; stroke-width: 1.5;\" x1=\"33\" x2=\"102\" y1=\"261.9375\" y2=\"261.9375\"/></a><!--MD5=[fd4143e9d270a159db93a4ea2a975926]\n",
       "class E9--><a href=\"psysml:86e22d1e-a4d5-4fc2-80cd-01d3f8e601c3\" target=\"_top\" title=\"psysml:86e22d1e-a4d5-4fc2-80cd-01d3f8e601c3\" xlink:actuate=\"onRequest\" xlink:href=\"psysml:86e22d1e-a4d5-4fc2-80cd-01d3f8e601c3\" xlink:show=\"new\" xlink:title=\"psysml:86e22d1e-a4d5-4fc2-80cd-01d3f8e601c3\" xlink:type=\"simple\"><rect fill=\"#FFFFFF\" height=\"45.9375\" id=\"E9\" rx=\"10\" ry=\"10\" style=\"stroke: #383838; stroke-width: 1.5;\" width=\"71\" x=\"32\" y=\"305\"/><text fill=\"#000000\" font-family=\"sans-serif\" font-size=\"12\" font-style=\"italic\" lengthAdjust=\"spacingAndGlyphs\" textLength=\"69\" x=\"33\" y=\"321.1387\">«attribute»</text><text fill=\"#000000\" font-family=\"sans-serif\" font-size=\"12\" lengthAdjust=\"spacingAndGlyphs\" textLength=\"8\" x=\"61.5\" y=\"335.1074\">g</text><line style=\"stroke: #383838; stroke-width: 1.5;\" x1=\"33\" x2=\"102\" y1=\"342.9375\" y2=\"342.9375\"/></a><!--MD5=[96f4274e9e20536e775497830990834d]\n",
       "class E10--><a href=\"psysml:5bd4ed77-91ea-4eb7-bbff-8ef8917960b7\" target=\"_top\" title=\"psysml:5bd4ed77-91ea-4eb7-bbff-8ef8917960b7\" xlink:actuate=\"onRequest\" xlink:href=\"psysml:5bd4ed77-91ea-4eb7-bbff-8ef8917960b7\" xlink:show=\"new\" xlink:title=\"psysml:5bd4ed77-91ea-4eb7-bbff-8ef8917960b7\" xlink:type=\"simple\"><rect fill=\"#FFFFFF\" height=\"45.9375\" id=\"E10\" rx=\"10\" ry=\"10\" style=\"stroke: #383838; stroke-width: 1.5;\" width=\"71\" x=\"32\" y=\"386\"/><text fill=\"#000000\" font-family=\"sans-serif\" font-size=\"12\" font-style=\"italic\" lengthAdjust=\"spacingAndGlyphs\" textLength=\"69\" x=\"33\" y=\"402.1387\">«attribute»</text><text fill=\"#000000\" font-family=\"sans-serif\" font-size=\"12\" lengthAdjust=\"spacingAndGlyphs\" textLength=\"8\" x=\"61.5\" y=\"416.1074\">b</text><line style=\"stroke: #383838; stroke-width: 1.5;\" x1=\"33\" x2=\"102\" y1=\"423.9375\" y2=\"423.9375\"/></a><!--MD5=[1dd1bfd58a279cf63c5f349dbc8fc6a1]\n",
       "class E11--><a href=\"psysml:88436cf5-d13a-4d80-b468-40a83b162e0f\" target=\"_top\" title=\"psysml:88436cf5-d13a-4d80-b468-40a83b162e0f\" xlink:actuate=\"onRequest\" xlink:href=\"psysml:88436cf5-d13a-4d80-b468-40a83b162e0f\" xlink:show=\"new\" xlink:title=\"psysml:88436cf5-d13a-4d80-b468-40a83b162e0f\" xlink:type=\"simple\"><rect fill=\"#FFFFFF\" height=\"45.9375\" id=\"E11\" rx=\"10\" ry=\"10\" style=\"stroke: #383838; stroke-width: 1.5;\" width=\"71\" x=\"32\" y=\"467\"/><text fill=\"#000000\" font-family=\"sans-serif\" font-size=\"12\" font-style=\"italic\" lengthAdjust=\"spacingAndGlyphs\" textLength=\"69\" x=\"33\" y=\"483.1387\">«attribute»</text><text fill=\"#000000\" font-family=\"sans-serif\" font-size=\"12\" lengthAdjust=\"spacingAndGlyphs\" textLength=\"7\" x=\"62\" y=\"497.1074\">c</text><line style=\"stroke: #383838; stroke-width: 1.5;\" x1=\"33\" x2=\"102\" y1=\"504.9375\" y2=\"504.9375\"/></a><text fill=\"#000000\" font-family=\"sans-serif\" font-size=\"14\" lengthAdjust=\"spacingAndGlyphs\" textLength=\"9\" x=\"63\" y=\"120.9951\">p</text><rect fill=\"#383838\" height=\"12\" style=\"stroke: #F8F8F8; stroke-width: 1.5;\" width=\"12\" x=\"61.5\" y=\"96\"/><text fill=\"#000000\" font-family=\"sans-serif\" font-size=\"14\" lengthAdjust=\"spacingAndGlyphs\" textLength=\"9\" x=\"63\" y=\"33.6982\">q</text><rect fill=\"#383838\" height=\"12\" style=\"stroke: #F8F8F8; stroke-width: 1.5;\" width=\"12\" x=\"61.5\" y=\"49\"/><text fill=\"#000000\" font-family=\"sans-serif\" font-size=\"14\" lengthAdjust=\"spacingAndGlyphs\" textLength=\"39\" x=\"407.22\" y=\"53.6982\">result</text><rect fill=\"#383838\" height=\"12\" style=\"stroke: #F8F8F8; stroke-width: 1.5;\" width=\"12\" x=\"420.72\" y=\"69\"/><!--MD5=[05d275557350bfb9b23a4ef7222b4c39]\n",
       "link E3 to E2--><a href=\"psysml:b5c275d4-de01-4c83-8a05-69f2b086225e\" target=\"_top\" title=\"psysml:b5c275d4-de01-4c83-8a05-69f2b086225e\" xlink:actuate=\"onRequest\" xlink:href=\"psysml:b5c275d4-de01-4c83-8a05-69f2b086225e\" xlink:show=\"new\" xlink:title=\"psysml:b5c275d4-de01-4c83-8a05-69f2b086225e\" xlink:type=\"simple\"><path d=\"M103.25,167.29 C120.39,167.92 141.67,168.71 161.9,169.46 \" fill=\"none\" id=\"E3-&gt;E2\" style=\"stroke: #383838; stroke-width: 1.0;\"/><polygon fill=\"#FFFFFF\" points=\"181.98,170.2,162.7331,176.4894,163.2531,162.4991,181.98,170.2\" style=\"stroke: #383838; stroke-width: 1.0;\"/><ellipse cx=\"157.1113\" cy=\"174.2791\" fill=\"#383838\" rx=\"2\" ry=\"2\" style=\"stroke: #383838; stroke-width: 1.0;\"/><ellipse cx=\"157.4828\" cy=\"164.286\" fill=\"#383838\" rx=\"2\" ry=\"2\" style=\"stroke: #383838; stroke-width: 1.0;\"/></a><!--MD5=[a3da157a370d3c1b3350a64344672e3e]\n",
       "@startuml\r\n",
       "left to right direction\r\n",
       "skinparam monochrome true\r\n",
       "skinparam classbackgroundcolor white\r\n",
       "skinparam shadowing false\r\n",
       "skinparam wrapWidth 300\r\n",
       "hide circle\r\n",
       "\r\n",
       "package \"ParameterTest\" as E1  [[psysml:86781c8e-3979-42bc-84a0-50d047026621 ]]  {\r\n",
       "comp def \"A\" as E2  <<(T,blue) attribute  def>> [[psysml:2ec9bc29-3801-4d04-bd01-a8a7cc509576 ]] {\r\n",
       "- - attributes - -\r\n",
       "x: String\r\n",
       "y: A\r\n",
       "}\r\n",
       "comp usage \"a: A \" as E3  <<(T,blue) attribute>> [[psysml:904ee486-6b36-4246-8723-5e3acfd2e245 ]] {\r\n",
       "}\r\n",
       "rec def \"F\" as E4  <<(T,blue) calculation  def>> [[psysml:824349d9-f3af-4f57-b650-7b4ce1821d09 ]] {\r\n",
       "portin \"p\" as E5  [[psysml:1d7d0081-d3e1-46bd-ad63-b0e63267b1e5 ]] \r\n",
       "portin \"q\" as E6  [[psysml:21dced71-d174-49eb-b20b-d0423025e0cf ]] \r\n",
       "portout \"result\" as E7  [[psysml:89ad9a9d-29f0-45e8-8d07-ebce693a6326 ]] \r\n",
       "}\r\n",
       "\r\n",
       "comp usage \"f \" as E8  <<(T,blue) attribute>> [[psysml:8204b4e2-616f-4bbc-afa4-9ecd277b5579 ]] {\r\n",
       "}\r\n",
       "comp usage \"g \" as E9  <<(T,blue) attribute>> [[psysml:86e22d1e-a4d5-4fc2-80cd-01d3f8e601c3 ]] {\r\n",
       "}\r\n",
       "comp usage \"b \" as E10  <<(T,blue) attribute>> [[psysml:5bd4ed77-91ea-4eb7-bbff-8ef8917960b7 ]] {\r\n",
       "}\r\n",
       "comp usage \"c \" as E11  <<(T,blue) attribute>> [[psysml:88436cf5-d13a-4d80-b468-40a83b162e0f ]] {\r\n",
       "}\r\n",
       "}\r\n",
       "E3 - -:|> E2 [[psysml:b5c275d4-de01-4c83-8a05-69f2b086225e ]] \r\n",
       "@enduml\r\n",
       "\n",
       "PlantUML version 1.2020.13(Sat Jun 13 12:26:38 UTC 2020)\n",
       "(EPL source distribution)\n",
       "Java Runtime: OpenJDK Runtime Environment\n",
       "JVM: OpenJDK 64-Bit Server VM\n",
       "Default Encoding: UTF-8\n",
       "Language: en\n",
       "Country: null\n",
       "--></g></svg>"
      ]
     },
     "execution_count": 16,
     "metadata": {},
     "output_type": "execute_result"
    }
   ],
   "source": [
    "%viz --style=\"LR\" --view=\"Default\" \"ParameterTest\""
   ]
  },
  {
   "cell_type": "code",
   "execution_count": 17,
   "id": "b4263e52",
   "metadata": {
    "execution": {
     "iopub.execute_input": "2022-03-03T09:56:15.195521Z",
     "iopub.status.busy": "2022-03-03T09:56:15.195111Z",
     "iopub.status.idle": "2022-03-03T09:56:15.251701Z",
     "shell.execute_reply": "2022-03-03T09:56:15.251345Z"
    }
   },
   "outputs": [
    {
     "data": {
      "image/svg+xml": [
       "<?xml version=\"1.0\" encoding=\"UTF-8\" standalone=\"no\"?><svg xmlns=\"http://www.w3.org/2000/svg\" xmlns:xlink=\"http://www.w3.org/1999/xlink\" contentScriptType=\"application/ecmascript\" contentStyleType=\"text/css\" height=\"520px\" preserveAspectRatio=\"none\" style=\"width:351px;height:520px;\" version=\"1.1\" viewBox=\"0 0 351 520\" width=\"351px\" zoomAndPan=\"magnify\"><defs/><g><!--MD5=[fbc87193dbaf4d95561dea2c320d4a47]\n",
       "cluster E1--><a href=\"psysml:86781c8e-3979-42bc-84a0-50d047026621\" target=\"_top\" title=\"psysml:86781c8e-3979-42bc-84a0-50d047026621\" xlink:actuate=\"onRequest\" xlink:href=\"psysml:86781c8e-3979-42bc-84a0-50d047026621\" xlink:show=\"new\" xlink:title=\"psysml:86781c8e-3979-42bc-84a0-50d047026621\" xlink:type=\"simple\"><polygon fill=\"#FFFFFF\" points=\"16,6,124,6,131,28.2969,329,28.2969,329,508,16,508,16,6\" style=\"stroke: #000000; stroke-width: 1.5;\"/><line style=\"stroke: #000000; stroke-width: 1.5;\" x1=\"16\" x2=\"131\" y1=\"28.2969\" y2=\"28.2969\"/><text fill=\"#000000\" font-family=\"sans-serif\" font-size=\"14\" font-weight=\"bold\" lengthAdjust=\"spacingAndGlyphs\" textLength=\"102\" x=\"20\" y=\"20.9951\">ParameterTest</text></a><!--MD5=[b4997ac47864f28c2f74865a473b2911]\n",
       "class E2--><a href=\"psysml:2ec9bc29-3801-4d04-bd01-a8a7cc509576\" target=\"_top\" title=\"psysml:2ec9bc29-3801-4d04-bd01-a8a7cc509576\" xlink:actuate=\"onRequest\" xlink:href=\"psysml:2ec9bc29-3801-4d04-bd01-a8a7cc509576\" xlink:show=\"new\" xlink:title=\"psysml:2ec9bc29-3801-4d04-bd01-a8a7cc509576\" xlink:type=\"simple\"><rect fill=\"#FFFFFF\" height=\"88.3516\" id=\"E2\" style=\"stroke: #383838; stroke-width: 1.5;\" width=\"99\" x=\"214\" y=\"76\"/><text fill=\"#000000\" font-family=\"sans-serif\" font-size=\"12\" font-style=\"italic\" lengthAdjust=\"spacingAndGlyphs\" textLength=\"97\" x=\"215\" y=\"92.1387\">«attribute  def»</text><text fill=\"#000000\" font-family=\"sans-serif\" font-size=\"12\" lengthAdjust=\"spacingAndGlyphs\" textLength=\"8\" x=\"259.5\" y=\"106.1074\">A</text><line style=\"stroke: #383838; stroke-width: 1.5;\" x1=\"215\" x2=\"312\" y1=\"113.9375\" y2=\"113.9375\"/><text fill=\"#000000\" font-family=\"sans-serif\" font-size=\"11\" lengthAdjust=\"spacingAndGlyphs\" textLength=\"48\" x=\"220\" y=\"144.9526\">x: String</text><text fill=\"#000000\" font-family=\"sans-serif\" font-size=\"11\" lengthAdjust=\"spacingAndGlyphs\" textLength=\"21\" x=\"220\" y=\"157.7573\">y: A</text><line style=\"stroke: #383838; stroke-width: 1.0;\" x1=\"215\" x2=\"236\" y1=\"128.3398\" y2=\"128.3398\"/><text fill=\"#000000\" font-family=\"sans-serif\" font-size=\"11\" lengthAdjust=\"spacingAndGlyphs\" textLength=\"55\" x=\"236\" y=\"131.6479\">attributes</text><line style=\"stroke: #383838; stroke-width: 1.0;\" x1=\"291\" x2=\"312\" y1=\"128.3398\" y2=\"128.3398\"/></a><!--MD5=[09b614a08d8cba4a07c9adeb5e0fee81]\n",
       "class E3--><a href=\"psysml:904ee486-6b36-4246-8723-5e3acfd2e245\" target=\"_top\" title=\"psysml:904ee486-6b36-4246-8723-5e3acfd2e245\" xlink:actuate=\"onRequest\" xlink:href=\"psysml:904ee486-6b36-4246-8723-5e3acfd2e245\" xlink:show=\"new\" xlink:title=\"psysml:904ee486-6b36-4246-8723-5e3acfd2e245\" xlink:type=\"simple\"><rect fill=\"#FFFFFF\" height=\"45.9375\" id=\"E3\" rx=\"10\" ry=\"10\" style=\"stroke: #383838; stroke-width: 1.5;\" width=\"71\" x=\"52.5\" y=\"41\"/><text fill=\"#000000\" font-family=\"sans-serif\" font-size=\"12\" font-style=\"italic\" lengthAdjust=\"spacingAndGlyphs\" textLength=\"69\" x=\"53.5\" y=\"57.1387\">«attribute»</text><text fill=\"#000000\" font-family=\"sans-serif\" font-size=\"12\" lengthAdjust=\"spacingAndGlyphs\" textLength=\"24\" x=\"74\" y=\"71.1074\">a: A</text><line style=\"stroke: #383838; stroke-width: 1.5;\" x1=\"53.5\" x2=\"122.5\" y1=\"78.9375\" y2=\"78.9375\"/></a><!--MD5=[ebbe1d658d1005bcc118a6aa81145e00]\n",
       "class E4--><a href=\"psysml:824349d9-f3af-4f57-b650-7b4ce1821d09\" target=\"_top\" title=\"psysml:824349d9-f3af-4f57-b650-7b4ce1821d09\" xlink:actuate=\"onRequest\" xlink:href=\"psysml:824349d9-f3af-4f57-b650-7b4ce1821d09\" xlink:show=\"new\" xlink:title=\"psysml:824349d9-f3af-4f57-b650-7b4ce1821d09\" xlink:type=\"simple\"><rect fill=\"#FFFFFF\" height=\"45.9375\" id=\"E4\" style=\"stroke: #383838; stroke-width: 1.5;\" width=\"112\" x=\"32\" y=\"122\"/><text fill=\"#000000\" font-family=\"sans-serif\" font-size=\"12\" font-style=\"italic\" lengthAdjust=\"spacingAndGlyphs\" textLength=\"110\" x=\"33\" y=\"138.1387\">«calculation  def»</text><text fill=\"#000000\" font-family=\"sans-serif\" font-size=\"12\" lengthAdjust=\"spacingAndGlyphs\" textLength=\"7\" x=\"84.5\" y=\"152.1074\">F</text><line style=\"stroke: #383838; stroke-width: 1.5;\" x1=\"33\" x2=\"143\" y1=\"159.9375\" y2=\"159.9375\"/></a><!--MD5=[270fce915f116d4de14055a7c1d9a0f3]\n",
       "class E5--><a href=\"psysml:8204b4e2-616f-4bbc-afa4-9ecd277b5579\" target=\"_top\" title=\"psysml:8204b4e2-616f-4bbc-afa4-9ecd277b5579\" xlink:actuate=\"onRequest\" xlink:href=\"psysml:8204b4e2-616f-4bbc-afa4-9ecd277b5579\" xlink:show=\"new\" xlink:title=\"psysml:8204b4e2-616f-4bbc-afa4-9ecd277b5579\" xlink:type=\"simple\"><rect fill=\"#FFFFFF\" height=\"45.9375\" id=\"E5\" rx=\"10\" ry=\"10\" style=\"stroke: #383838; stroke-width: 1.5;\" width=\"71\" x=\"52.5\" y=\"203\"/><text fill=\"#000000\" font-family=\"sans-serif\" font-size=\"12\" font-style=\"italic\" lengthAdjust=\"spacingAndGlyphs\" textLength=\"69\" x=\"53.5\" y=\"219.1387\">«attribute»</text><text fill=\"#000000\" font-family=\"sans-serif\" font-size=\"12\" lengthAdjust=\"spacingAndGlyphs\" textLength=\"4\" x=\"84\" y=\"233.1074\">f</text><line style=\"stroke: #383838; stroke-width: 1.5;\" x1=\"53.5\" x2=\"122.5\" y1=\"240.9375\" y2=\"240.9375\"/></a><!--MD5=[60a26617385b1d2d0262a64233df1f8d]\n",
       "class E6--><a href=\"psysml:86e22d1e-a4d5-4fc2-80cd-01d3f8e601c3\" target=\"_top\" title=\"psysml:86e22d1e-a4d5-4fc2-80cd-01d3f8e601c3\" xlink:actuate=\"onRequest\" xlink:href=\"psysml:86e22d1e-a4d5-4fc2-80cd-01d3f8e601c3\" xlink:show=\"new\" xlink:title=\"psysml:86e22d1e-a4d5-4fc2-80cd-01d3f8e601c3\" xlink:type=\"simple\"><rect fill=\"#FFFFFF\" height=\"45.9375\" id=\"E6\" rx=\"10\" ry=\"10\" style=\"stroke: #383838; stroke-width: 1.5;\" width=\"71\" x=\"52.5\" y=\"284\"/><text fill=\"#000000\" font-family=\"sans-serif\" font-size=\"12\" font-style=\"italic\" lengthAdjust=\"spacingAndGlyphs\" textLength=\"69\" x=\"53.5\" y=\"300.1387\">«attribute»</text><text fill=\"#000000\" font-family=\"sans-serif\" font-size=\"12\" lengthAdjust=\"spacingAndGlyphs\" textLength=\"8\" x=\"82\" y=\"314.1074\">g</text><line style=\"stroke: #383838; stroke-width: 1.5;\" x1=\"53.5\" x2=\"122.5\" y1=\"321.9375\" y2=\"321.9375\"/></a><!--MD5=[2156ba9850f5573cc1fc38a6a4b2f02b]\n",
       "class E7--><a href=\"psysml:5bd4ed77-91ea-4eb7-bbff-8ef8917960b7\" target=\"_top\" title=\"psysml:5bd4ed77-91ea-4eb7-bbff-8ef8917960b7\" xlink:actuate=\"onRequest\" xlink:href=\"psysml:5bd4ed77-91ea-4eb7-bbff-8ef8917960b7\" xlink:show=\"new\" xlink:title=\"psysml:5bd4ed77-91ea-4eb7-bbff-8ef8917960b7\" xlink:type=\"simple\"><rect fill=\"#FFFFFF\" height=\"45.9375\" id=\"E7\" rx=\"10\" ry=\"10\" style=\"stroke: #383838; stroke-width: 1.5;\" width=\"71\" x=\"52.5\" y=\"365\"/><text fill=\"#000000\" font-family=\"sans-serif\" font-size=\"12\" font-style=\"italic\" lengthAdjust=\"spacingAndGlyphs\" textLength=\"69\" x=\"53.5\" y=\"381.1387\">«attribute»</text><text fill=\"#000000\" font-family=\"sans-serif\" font-size=\"12\" lengthAdjust=\"spacingAndGlyphs\" textLength=\"8\" x=\"82\" y=\"395.1074\">b</text><line style=\"stroke: #383838; stroke-width: 1.5;\" x1=\"53.5\" x2=\"122.5\" y1=\"402.9375\" y2=\"402.9375\"/></a><!--MD5=[b9389687b975829384b498ac4b7476b2]\n",
       "class E8--><a href=\"psysml:88436cf5-d13a-4d80-b468-40a83b162e0f\" target=\"_top\" title=\"psysml:88436cf5-d13a-4d80-b468-40a83b162e0f\" xlink:actuate=\"onRequest\" xlink:href=\"psysml:88436cf5-d13a-4d80-b468-40a83b162e0f\" xlink:show=\"new\" xlink:title=\"psysml:88436cf5-d13a-4d80-b468-40a83b162e0f\" xlink:type=\"simple\"><rect fill=\"#FFFFFF\" height=\"45.9375\" id=\"E8\" rx=\"10\" ry=\"10\" style=\"stroke: #383838; stroke-width: 1.5;\" width=\"71\" x=\"52.5\" y=\"446\"/><text fill=\"#000000\" font-family=\"sans-serif\" font-size=\"12\" font-style=\"italic\" lengthAdjust=\"spacingAndGlyphs\" textLength=\"69\" x=\"53.5\" y=\"462.1387\">«attribute»</text><text fill=\"#000000\" font-family=\"sans-serif\" font-size=\"12\" lengthAdjust=\"spacingAndGlyphs\" textLength=\"7\" x=\"82.5\" y=\"476.1074\">c</text><line style=\"stroke: #383838; stroke-width: 1.5;\" x1=\"53.5\" x2=\"122.5\" y1=\"483.9375\" y2=\"483.9375\"/></a><!--MD5=[05d275557350bfb9b23a4ef7222b4c39]\n",
       "link E3 to E2--><a href=\"psysml:b5c275d4-de01-4c83-8a05-69f2b086225e\" target=\"_top\" title=\"psysml:b5c275d4-de01-4c83-8a05-69f2b086225e\" xlink:actuate=\"onRequest\" xlink:href=\"psysml:b5c275d4-de01-4c83-8a05-69f2b086225e\" xlink:show=\"new\" xlink:title=\"psysml:b5c275d4-de01-4c83-8a05-69f2b086225e\" xlink:type=\"simple\"><path d=\"M123.69,75.2 C143.96,81.74 170.24,90.22 194.47,98.04 \" fill=\"none\" id=\"E3-&gt;E2\" style=\"stroke: #383838; stroke-width: 1.0;\"/><polygon fill=\"#FFFFFF\" points=\"213.74,104.26,193.5083,105.0845,197.8093,91.7615,213.74,104.26\" style=\"stroke: #383838; stroke-width: 1.0;\"/><ellipse cx=\"188.6984\" cy=\"101.4301\" fill=\"#383838\" rx=\"2\" ry=\"2\" style=\"stroke: #383838; stroke-width: 1.0;\"/><ellipse cx=\"191.7705\" cy=\"91.9137\" fill=\"#383838\" rx=\"2\" ry=\"2\" style=\"stroke: #383838; stroke-width: 1.0;\"/></a><!--MD5=[ddeed8deb2209213b62e6cfabaa108b2]\n",
       "reverse link E4 to E2--><a href=\"psysml:1d7d0081-d3e1-46bd-ad63-b0e63267b1e5\" target=\"_top\" title=\"psysml:1d7d0081-d3e1-46bd-ad63-b0e63267b1e5\" xlink:actuate=\"onRequest\" xlink:href=\"psysml:1d7d0081-d3e1-46bd-ad63-b0e63267b1e5\" xlink:show=\"new\" xlink:title=\"psysml:1d7d0081-d3e1-46bd-ad63-b0e63267b1e5\" xlink:type=\"simple\"><path d=\"M157.49,135.13 C176.31,132.42 196.33,129.53 213.79,127.02 \" fill=\"none\" id=\"E4&lt;-E2\" style=\"stroke: #383838; stroke-width: 1.0;\"/><polygon fill=\"#FFFFFF\" points=\"144.37,137.02,150.8797,140.1222,156.247,135.3063,149.7373,132.2042,144.37,137.02\" style=\"stroke: #383838; stroke-width: 1.0;\"/><text fill=\"#000000\" font-family=\"sans-serif\" font-size=\"13\" lengthAdjust=\"spacingAndGlyphs\" textLength=\"8\" x=\"175\" y=\"128.0669\">p</text></a><!--MD5=[cc181a1e7192c8f59fbea42289f6c3ba]\n",
       "@startuml\r\n",
       "left to right direction\r\n",
       "skinparam monochrome true\r\n",
       "skinparam classbackgroundcolor white\r\n",
       "skinparam shadowing false\r\n",
       "skinparam wrapWidth 300\r\n",
       "hide circle\r\n",
       "\r\n",
       "package \"ParameterTest\" as E1  [[psysml:86781c8e-3979-42bc-84a0-50d047026621 ]]  {\r\n",
       "comp def \"A\" as E2  <<(T,blue) attribute  def>> [[psysml:2ec9bc29-3801-4d04-bd01-a8a7cc509576 ]] {\r\n",
       "- - attributes - -\r\n",
       "x: String\r\n",
       "y: A\r\n",
       "}\r\n",
       "comp usage \"a: A \" as E3  <<(T,blue) attribute>> [[psysml:904ee486-6b36-4246-8723-5e3acfd2e245 ]] {\r\n",
       "}\r\n",
       "comp def \"F\" as E4  <<(T,blue) calculation  def>> [[psysml:824349d9-f3af-4f57-b650-7b4ce1821d09 ]] {\r\n",
       "}\r\n",
       "comp usage \"f \" as E5  <<(T,blue) attribute>> [[psysml:8204b4e2-616f-4bbc-afa4-9ecd277b5579 ]] {\r\n",
       "}\r\n",
       "comp usage \"g \" as E6  <<(T,blue) attribute>> [[psysml:86e22d1e-a4d5-4fc2-80cd-01d3f8e601c3 ]] {\r\n",
       "}\r\n",
       "comp usage \"b \" as E7  <<(T,blue) attribute>> [[psysml:5bd4ed77-91ea-4eb7-bbff-8ef8917960b7 ]] {\r\n",
       "}\r\n",
       "comp usage \"c \" as E8  <<(T,blue) attribute>> [[psysml:88436cf5-d13a-4d80-b468-40a83b162e0f ]] {\r\n",
       "}\r\n",
       "}\r\n",
       "E3 - -:|> E2 [[psysml:b5c275d4-de01-4c83-8a05-69f2b086225e ]] \r\n",
       "E4 o- - E2 [[psysml:1d7d0081-d3e1-46bd-ad63-b0e63267b1e5 ]] : p\r\n",
       "@enduml\r\n",
       "\n",
       "PlantUML version 1.2020.13(Sat Jun 13 12:26:38 UTC 2020)\n",
       "(EPL source distribution)\n",
       "Java Runtime: OpenJDK Runtime Environment\n",
       "JVM: OpenJDK 64-Bit Server VM\n",
       "Default Encoding: UTF-8\n",
       "Language: en\n",
       "Country: null\n",
       "--></g></svg>"
      ]
     },
     "execution_count": 17,
     "metadata": {},
     "output_type": "execute_result"
    }
   ],
   "source": [
    "%viz --style=\"LR\" --view=\"Tree\" \"ParameterTest\""
   ]
  },
  {
   "cell_type": "code",
   "execution_count": 18,
   "id": "c8505039",
   "metadata": {
    "execution": {
     "iopub.execute_input": "2022-03-03T09:56:15.301108Z",
     "iopub.status.busy": "2022-03-03T09:56:15.300695Z",
     "iopub.status.idle": "2022-03-03T09:56:15.305474Z",
     "shell.execute_reply": "2022-03-03T09:56:15.305792Z"
    }
   },
   "outputs": [
    {
     "data": {
      "image/svg+xml": [
       "<?xml version=\"1.0\" encoding=\"UTF-8\" standalone=\"no\"?><svg xmlns=\"http://www.w3.org/2000/svg\" xmlns:xlink=\"http://www.w3.org/1999/xlink\" contentScriptType=\"application/ecmascript\" contentStyleType=\"text/css\" height=\"12px\" preserveAspectRatio=\"none\" style=\"width:12px;height:12px;\" version=\"1.1\" viewBox=\"0 0 12 12\" width=\"12px\" zoomAndPan=\"magnify\"><defs/><g><!--MD5=[19d285c9d72a204eba4e2cd117d745e8]\n",
       "@startuml\r\n",
       "left to right direction\r\n",
       "skinparam monochrome true\r\n",
       "skinparam classbackgroundcolor white\r\n",
       "skinparam shadowing false\r\n",
       "skinparam wrapWidth 300\r\n",
       "hide circle\r\n",
       "\r\n",
       "@enduml\r\n",
       "\n",
       "PlantUML version 1.2020.13(Sat Jun 13 12:26:38 UTC 2020)\n",
       "(EPL source distribution)\n",
       "Java Runtime: OpenJDK Runtime Environment\n",
       "JVM: OpenJDK 64-Bit Server VM\n",
       "Default Encoding: UTF-8\n",
       "Language: en\n",
       "Country: null\n",
       "--></g></svg>"
      ]
     },
     "execution_count": 18,
     "metadata": {},
     "output_type": "execute_result"
    }
   ],
   "source": [
    "%viz --style=\"LR\" --view=\"State\" \"ParameterTest\""
   ]
  },
  {
   "cell_type": "code",
   "execution_count": 19,
   "id": "53c6601f",
   "metadata": {
    "execution": {
     "iopub.execute_input": "2022-03-03T09:56:15.356283Z",
     "iopub.status.busy": "2022-03-03T09:56:15.355807Z",
     "iopub.status.idle": "2022-03-03T09:56:15.397540Z",
     "shell.execute_reply": "2022-03-03T09:56:15.397770Z"
    }
   },
   "outputs": [
    {
     "data": {
      "image/svg+xml": [
       "<?xml version=\"1.0\" encoding=\"UTF-8\" standalone=\"no\"?><svg xmlns=\"http://www.w3.org/2000/svg\" xmlns:xlink=\"http://www.w3.org/1999/xlink\" contentScriptType=\"application/ecmascript\" contentStyleType=\"text/css\" height=\"541px\" preserveAspectRatio=\"none\" style=\"width:340px;height:541px;\" version=\"1.1\" viewBox=\"0 0 340 541\" width=\"340px\" zoomAndPan=\"magnify\"><defs/><g><!--MD5=[fbc87193dbaf4d95561dea2c320d4a47]\n",
       "cluster E1--><a href=\"psysml:86781c8e-3979-42bc-84a0-50d047026621\" target=\"_top\" title=\"psysml:86781c8e-3979-42bc-84a0-50d047026621\" xlink:actuate=\"onRequest\" xlink:href=\"psysml:86781c8e-3979-42bc-84a0-50d047026621\" xlink:show=\"new\" xlink:title=\"psysml:86781c8e-3979-42bc-84a0-50d047026621\" xlink:type=\"simple\"><polygon fill=\"#FFFFFF\" points=\"16,6,124,6,131,28.2969,318.72,28.2969,318.72,529,16,529,16,6\" style=\"stroke: #000000; stroke-width: 1.5;\"/><line style=\"stroke: #000000; stroke-width: 1.5;\" x1=\"16\" x2=\"131\" y1=\"28.2969\" y2=\"28.2969\"/><text fill=\"#000000\" font-family=\"sans-serif\" font-size=\"14\" font-weight=\"bold\" lengthAdjust=\"spacingAndGlyphs\" textLength=\"102\" x=\"20\" y=\"20.9951\">ParameterTest</text></a><!--MD5=[f6df4d0ebaf0b5dfb2ced0ae5af7c670]\n",
       "cluster E4--><a href=\"psysml:824349d9-f3af-4f57-b650-7b4ce1821d09\" target=\"_top\" title=\"psysml:824349d9-f3af-4f57-b650-7b4ce1821d09\" xlink:actuate=\"onRequest\" xlink:href=\"psysml:824349d9-f3af-4f57-b650-7b4ce1821d09\" xlink:show=\"new\" xlink:title=\"psysml:824349d9-f3af-4f57-b650-7b4ce1821d09\" xlink:type=\"simple\"><rect fill=\"#FFFFFF\" height=\"47\" id=\"E4\" style=\"stroke: #383838; stroke-width: 1.5;\" width=\"239.22\" x=\"49.5\" y=\"55\"/><rect fill=\"#F8F8F8\" height=\"37.9375\" style=\"stroke: #383838; stroke-width: 1.5;\" width=\"239.22\" x=\"49.5\" y=\"55\"/><text fill=\"#000000\" font-family=\"sans-serif\" font-size=\"12\" font-style=\"italic\" lengthAdjust=\"spacingAndGlyphs\" textLength=\"110\" x=\"114.11\" y=\"71.1387\">«calculation  def»</text><text fill=\"#000000\" font-family=\"sans-serif\" font-size=\"12\" lengthAdjust=\"spacingAndGlyphs\" textLength=\"7\" x=\"165.61\" y=\"85.1074\">F</text></a><g id=\"E1.E2\"><a href=\"psysml:2ec9bc29-3801-4d04-bd01-a8a7cc509576\" target=\"_top\" title=\"psysml:2ec9bc29-3801-4d04-bd01-a8a7cc509576\" xlink:actuate=\"onRequest\" xlink:href=\"psysml:2ec9bc29-3801-4d04-bd01-a8a7cc509576\" xlink:show=\"new\" xlink:title=\"psysml:2ec9bc29-3801-4d04-bd01-a8a7cc509576\" xlink:type=\"simple\"><rect fill=\"#FFFFFF\" height=\"42.9375\" id=\"E2\" style=\"stroke: #383838; stroke-width: 1.5;\" width=\"104\" x=\"135.5\" y=\"144.5\"/><rect fill=\"#F8F8F8\" height=\"37.9375\" style=\"stroke: #383838; stroke-width: 1.5;\" width=\"104\" x=\"135.5\" y=\"144.5\"/><text fill=\"#000000\" font-family=\"sans-serif\" font-size=\"12\" font-style=\"italic\" lengthAdjust=\"spacingAndGlyphs\" textLength=\"97\" x=\"139\" y=\"160.6387\">«attribute  def»</text><text fill=\"#000000\" font-family=\"sans-serif\" font-size=\"12\" lengthAdjust=\"spacingAndGlyphs\" textLength=\"8\" x=\"183.5\" y=\"174.6074\">A</text></a></g><!--MD5=[09b614a08d8cba4a07c9adeb5e0fee81]\n",
       "class E3--><a href=\"psysml:904ee486-6b36-4246-8723-5e3acfd2e245\" target=\"_top\" title=\"psysml:904ee486-6b36-4246-8723-5e3acfd2e245\" xlink:actuate=\"onRequest\" xlink:href=\"psysml:904ee486-6b36-4246-8723-5e3acfd2e245\" xlink:show=\"new\" xlink:title=\"psysml:904ee486-6b36-4246-8723-5e3acfd2e245\" xlink:type=\"simple\"><rect fill=\"#FFFFFF\" height=\"45.9375\" id=\"E3\" rx=\"10\" ry=\"10\" style=\"stroke: #383838; stroke-width: 1.5;\" width=\"71\" x=\"32\" y=\"143\"/><text fill=\"#000000\" font-family=\"sans-serif\" font-size=\"12\" font-style=\"italic\" lengthAdjust=\"spacingAndGlyphs\" textLength=\"69\" x=\"33\" y=\"159.1387\">«attribute»</text><text fill=\"#000000\" font-family=\"sans-serif\" font-size=\"12\" lengthAdjust=\"spacingAndGlyphs\" textLength=\"24\" x=\"53.5\" y=\"173.1074\">a: A</text><line style=\"stroke: #383838; stroke-width: 1.5;\" x1=\"33\" x2=\"102\" y1=\"180.9375\" y2=\"180.9375\"/></a><!--MD5=[b9389687b975829384b498ac4b7476b2]\n",
       "class E8--><a href=\"psysml:8204b4e2-616f-4bbc-afa4-9ecd277b5579\" target=\"_top\" title=\"psysml:8204b4e2-616f-4bbc-afa4-9ecd277b5579\" xlink:actuate=\"onRequest\" xlink:href=\"psysml:8204b4e2-616f-4bbc-afa4-9ecd277b5579\" xlink:show=\"new\" xlink:title=\"psysml:8204b4e2-616f-4bbc-afa4-9ecd277b5579\" xlink:type=\"simple\"><rect fill=\"#FFFFFF\" height=\"45.9375\" id=\"E8\" rx=\"10\" ry=\"10\" style=\"stroke: #383838; stroke-width: 1.5;\" width=\"71\" x=\"32\" y=\"224\"/><text fill=\"#000000\" font-family=\"sans-serif\" font-size=\"12\" font-style=\"italic\" lengthAdjust=\"spacingAndGlyphs\" textLength=\"69\" x=\"33\" y=\"240.1387\">«attribute»</text><text fill=\"#000000\" font-family=\"sans-serif\" font-size=\"12\" lengthAdjust=\"spacingAndGlyphs\" textLength=\"4\" x=\"63.5\" y=\"254.1074\">f</text><line style=\"stroke: #383838; stroke-width: 1.5;\" x1=\"33\" x2=\"102\" y1=\"261.9375\" y2=\"261.9375\"/></a><!--MD5=[fd4143e9d270a159db93a4ea2a975926]\n",
       "class E9--><a href=\"psysml:86e22d1e-a4d5-4fc2-80cd-01d3f8e601c3\" target=\"_top\" title=\"psysml:86e22d1e-a4d5-4fc2-80cd-01d3f8e601c3\" xlink:actuate=\"onRequest\" xlink:href=\"psysml:86e22d1e-a4d5-4fc2-80cd-01d3f8e601c3\" xlink:show=\"new\" xlink:title=\"psysml:86e22d1e-a4d5-4fc2-80cd-01d3f8e601c3\" xlink:type=\"simple\"><rect fill=\"#FFFFFF\" height=\"45.9375\" id=\"E9\" rx=\"10\" ry=\"10\" style=\"stroke: #383838; stroke-width: 1.5;\" width=\"71\" x=\"32\" y=\"305\"/><text fill=\"#000000\" font-family=\"sans-serif\" font-size=\"12\" font-style=\"italic\" lengthAdjust=\"spacingAndGlyphs\" textLength=\"69\" x=\"33\" y=\"321.1387\">«attribute»</text><text fill=\"#000000\" font-family=\"sans-serif\" font-size=\"12\" lengthAdjust=\"spacingAndGlyphs\" textLength=\"8\" x=\"61.5\" y=\"335.1074\">g</text><line style=\"stroke: #383838; stroke-width: 1.5;\" x1=\"33\" x2=\"102\" y1=\"342.9375\" y2=\"342.9375\"/></a><!--MD5=[96f4274e9e20536e775497830990834d]\n",
       "class E10--><a href=\"psysml:5bd4ed77-91ea-4eb7-bbff-8ef8917960b7\" target=\"_top\" title=\"psysml:5bd4ed77-91ea-4eb7-bbff-8ef8917960b7\" xlink:actuate=\"onRequest\" xlink:href=\"psysml:5bd4ed77-91ea-4eb7-bbff-8ef8917960b7\" xlink:show=\"new\" xlink:title=\"psysml:5bd4ed77-91ea-4eb7-bbff-8ef8917960b7\" xlink:type=\"simple\"><rect fill=\"#FFFFFF\" height=\"45.9375\" id=\"E10\" rx=\"10\" ry=\"10\" style=\"stroke: #383838; stroke-width: 1.5;\" width=\"71\" x=\"32\" y=\"386\"/><text fill=\"#000000\" font-family=\"sans-serif\" font-size=\"12\" font-style=\"italic\" lengthAdjust=\"spacingAndGlyphs\" textLength=\"69\" x=\"33\" y=\"402.1387\">«attribute»</text><text fill=\"#000000\" font-family=\"sans-serif\" font-size=\"12\" lengthAdjust=\"spacingAndGlyphs\" textLength=\"8\" x=\"61.5\" y=\"416.1074\">b</text><line style=\"stroke: #383838; stroke-width: 1.5;\" x1=\"33\" x2=\"102\" y1=\"423.9375\" y2=\"423.9375\"/></a><!--MD5=[1dd1bfd58a279cf63c5f349dbc8fc6a1]\n",
       "class E11--><a href=\"psysml:88436cf5-d13a-4d80-b468-40a83b162e0f\" target=\"_top\" title=\"psysml:88436cf5-d13a-4d80-b468-40a83b162e0f\" xlink:actuate=\"onRequest\" xlink:href=\"psysml:88436cf5-d13a-4d80-b468-40a83b162e0f\" xlink:show=\"new\" xlink:title=\"psysml:88436cf5-d13a-4d80-b468-40a83b162e0f\" xlink:type=\"simple\"><rect fill=\"#FFFFFF\" height=\"45.9375\" id=\"E11\" rx=\"10\" ry=\"10\" style=\"stroke: #383838; stroke-width: 1.5;\" width=\"71\" x=\"32\" y=\"467\"/><text fill=\"#000000\" font-family=\"sans-serif\" font-size=\"12\" font-style=\"italic\" lengthAdjust=\"spacingAndGlyphs\" textLength=\"69\" x=\"33\" y=\"483.1387\">«attribute»</text><text fill=\"#000000\" font-family=\"sans-serif\" font-size=\"12\" lengthAdjust=\"spacingAndGlyphs\" textLength=\"7\" x=\"62\" y=\"497.1074\">c</text><line style=\"stroke: #383838; stroke-width: 1.5;\" x1=\"33\" x2=\"102\" y1=\"504.9375\" y2=\"504.9375\"/></a><text fill=\"#000000\" font-family=\"sans-serif\" font-size=\"14\" lengthAdjust=\"spacingAndGlyphs\" textLength=\"9\" x=\"63\" y=\"120.9951\">p</text><rect fill=\"#383838\" height=\"12\" style=\"stroke: #F8F8F8; stroke-width: 1.5;\" width=\"12\" x=\"61.5\" y=\"96\"/><text fill=\"#000000\" font-family=\"sans-serif\" font-size=\"14\" lengthAdjust=\"spacingAndGlyphs\" textLength=\"9\" x=\"63\" y=\"33.6982\">q</text><rect fill=\"#383838\" height=\"12\" style=\"stroke: #F8F8F8; stroke-width: 1.5;\" width=\"12\" x=\"61.5\" y=\"49\"/><text fill=\"#000000\" font-family=\"sans-serif\" font-size=\"14\" lengthAdjust=\"spacingAndGlyphs\" textLength=\"39\" x=\"269.22\" y=\"53.6982\">result</text><rect fill=\"#383838\" height=\"12\" style=\"stroke: #F8F8F8; stroke-width: 1.5;\" width=\"12\" x=\"282.72\" y=\"69\"/><!--MD5=[05d275557350bfb9b23a4ef7222b4c39]\n",
       "link E3 to E2--><a href=\"psysml:b5c275d4-de01-4c83-8a05-69f2b086225e\" target=\"_top\" title=\"psysml:b5c275d4-de01-4c83-8a05-69f2b086225e\" xlink:actuate=\"onRequest\" xlink:href=\"psysml:b5c275d4-de01-4c83-8a05-69f2b086225e\" xlink:show=\"new\" xlink:title=\"psysml:b5c275d4-de01-4c83-8a05-69f2b086225e\" xlink:type=\"simple\"><path d=\"M103.27,166 C107.12,166 111.14,166 115.24,166 \" fill=\"none\" id=\"E3-&gt;E2\" style=\"stroke: #383838; stroke-width: 1.0;\"/><polygon fill=\"#FFFFFF\" points=\"135.37,166,116.37,173,116.37,159,135.37,166\" style=\"stroke: #383838; stroke-width: 1.0;\"/><ellipse cx=\"110.67\" cy=\"171\" fill=\"#383838\" rx=\"2\" ry=\"2\" style=\"stroke: #383838; stroke-width: 1.0;\"/><ellipse cx=\"110.67\" cy=\"161\" fill=\"#383838\" rx=\"2\" ry=\"2\" style=\"stroke: #383838; stroke-width: 1.0;\"/></a><!--MD5=[e9ab7b61b168d4abd8df975261936e82]\n",
       "@startuml\r\n",
       "skinparam ranksep 10\r\n",
       "skinparam rectangle {\r\n",
       " backgroundColor<<block>> LightGreen\r\n",
       "}\r\n",
       "left to right direction\r\n",
       "skinparam monochrome true\r\n",
       "skinparam classbackgroundcolor white\r\n",
       "skinparam shadowing false\r\n",
       "skinparam wrapWidth 300\r\n",
       "hide circle\r\n",
       "\r\n",
       "package \"ParameterTest\" as E1  [[psysml:86781c8e-3979-42bc-84a0-50d047026621 ]]  {\r\n",
       "def \"A\" as E2  <<(T,blue) attribute  def>> [[psysml:2ec9bc29-3801-4d04-bd01-a8a7cc509576 ]] \r\n",
       "comp usage \"a: A \" as E3  <<(T,blue) attribute>> [[psysml:904ee486-6b36-4246-8723-5e3acfd2e245 ]] {\r\n",
       "}\r\n",
       "rec def \"F\" as E4  <<(T,blue) calculation  def>> [[psysml:824349d9-f3af-4f57-b650-7b4ce1821d09 ]] {\r\n",
       "portin \"p\" as E5  [[psysml:1d7d0081-d3e1-46bd-ad63-b0e63267b1e5 ]] \r\n",
       "portin \"q\" as E6  [[psysml:21dced71-d174-49eb-b20b-d0423025e0cf ]] \r\n",
       "portout \"result\" as E7  [[psysml:89ad9a9d-29f0-45e8-8d07-ebce693a6326 ]] \r\n",
       "}\r\n",
       "\r\n",
       "comp usage \"f \" as E8  <<(T,blue) attribute>> [[psysml:8204b4e2-616f-4bbc-afa4-9ecd277b5579 ]] {\r\n",
       "}\r\n",
       "comp usage \"g \" as E9  <<(T,blue) attribute>> [[psysml:86e22d1e-a4d5-4fc2-80cd-01d3f8e601c3 ]] {\r\n",
       "}\r\n",
       "comp usage \"b \" as E10  <<(T,blue) attribute>> [[psysml:5bd4ed77-91ea-4eb7-bbff-8ef8917960b7 ]] {\r\n",
       "}\r\n",
       "comp usage \"c \" as E11  <<(T,blue) attribute>> [[psysml:88436cf5-d13a-4d80-b468-40a83b162e0f ]] {\r\n",
       "}\r\n",
       "}\r\n",
       "E3 - -:|> E2 [[psysml:b5c275d4-de01-4c83-8a05-69f2b086225e ]] \r\n",
       "@enduml\r\n",
       "\n",
       "PlantUML version 1.2020.13(Sat Jun 13 12:26:38 UTC 2020)\n",
       "(EPL source distribution)\n",
       "Java Runtime: OpenJDK Runtime Environment\n",
       "JVM: OpenJDK 64-Bit Server VM\n",
       "Default Encoding: UTF-8\n",
       "Language: en\n",
       "Country: null\n",
       "--></g></svg>"
      ]
     },
     "execution_count": 19,
     "metadata": {},
     "output_type": "execute_result"
    }
   ],
   "source": [
    "%viz --style=\"LR\" --view=\"Interconnection\" \"ParameterTest\""
   ]
  },
  {
   "cell_type": "code",
   "execution_count": 20,
   "id": "79c11c08",
   "metadata": {
    "execution": {
     "iopub.execute_input": "2022-03-03T09:56:15.448051Z",
     "iopub.status.busy": "2022-03-03T09:56:15.447817Z",
     "iopub.status.idle": "2022-03-03T09:56:15.472522Z",
     "shell.execute_reply": "2022-03-03T09:56:15.472152Z"
    }
   },
   "outputs": [
    {
     "data": {
      "image/svg+xml": [
       "<?xml version=\"1.0\" encoding=\"UTF-8\" standalone=\"no\"?><svg xmlns=\"http://www.w3.org/2000/svg\" xmlns:xlink=\"http://www.w3.org/1999/xlink\" contentScriptType=\"application/ecmascript\" contentStyleType=\"text/css\" height=\"121px\" preserveAspectRatio=\"none\" style=\"width:246px;height:121px;\" version=\"1.1\" viewBox=\"0 0 246 121\" width=\"246px\" zoomAndPan=\"magnify\"><defs/><g><!--MD5=[fbc87193dbaf4d95561dea2c320d4a47]\n",
       "cluster E1--><a href=\"psysml:824349d9-f3af-4f57-b650-7b4ce1821d09\" target=\"_top\" title=\"psysml:824349d9-f3af-4f57-b650-7b4ce1821d09\" xlink:actuate=\"onRequest\" xlink:href=\"psysml:824349d9-f3af-4f57-b650-7b4ce1821d09\" xlink:show=\"new\" xlink:title=\"psysml:824349d9-f3af-4f57-b650-7b4ce1821d09\" xlink:type=\"simple\"><rect fill=\"#FFFFFF\" height=\"47\" id=\"E1\" style=\"stroke: #383838; stroke-width: 1.5;\" width=\"207.72\" x=\"7\" y=\"42.0986\"/><rect fill=\"#F8F8F8\" height=\"37.9375\" style=\"stroke: #383838; stroke-width: 1.5;\" width=\"207.72\" x=\"7\" y=\"42.0986\"/><text fill=\"#000000\" font-family=\"sans-serif\" font-size=\"12\" font-style=\"italic\" lengthAdjust=\"spacingAndGlyphs\" textLength=\"110\" x=\"55.86\" y=\"58.2373\">«calculation  def»</text><text fill=\"#000000\" font-family=\"sans-serif\" font-size=\"12\" lengthAdjust=\"spacingAndGlyphs\" textLength=\"7\" x=\"107.36\" y=\"72.2061\">F</text></a><text fill=\"#000000\" font-family=\"sans-serif\" font-size=\"14\" lengthAdjust=\"spacingAndGlyphs\" textLength=\"9\" x=\"20.5\" y=\"108.0938\">p</text><rect fill=\"#383838\" height=\"12\" style=\"stroke: #F8F8F8; stroke-width: 1.5;\" width=\"12\" x=\"19\" y=\"83.0986\"/><text fill=\"#000000\" font-family=\"sans-serif\" font-size=\"14\" lengthAdjust=\"spacingAndGlyphs\" textLength=\"9\" x=\"20.5\" y=\"20.7969\">q</text><rect fill=\"#383838\" height=\"12\" style=\"stroke: #F8F8F8; stroke-width: 1.5;\" width=\"12\" x=\"19\" y=\"36.0986\"/><text fill=\"#000000\" font-family=\"sans-serif\" font-size=\"14\" lengthAdjust=\"spacingAndGlyphs\" textLength=\"39\" x=\"195.22\" y=\"40.7969\">result</text><rect fill=\"#383838\" height=\"12\" style=\"stroke: #F8F8F8; stroke-width: 1.5;\" width=\"12\" x=\"208.72\" y=\"56.0986\"/><!--MD5=[a53767d5951ed1246a42b70b6865a0f5]\n",
       "@startuml\r\n",
       "skinparam ranksep 8\r\n",
       "left to right direction\r\n",
       "skinparam monochrome true\r\n",
       "skinparam classbackgroundcolor white\r\n",
       "skinparam shadowing false\r\n",
       "skinparam wrapWidth 300\r\n",
       "hide circle\r\n",
       "\r\n",
       "rec def \"F\" as E1  <<(T,blue) calculation  def>> [[psysml:824349d9-f3af-4f57-b650-7b4ce1821d09 ]] {\r\n",
       "portin \"p\" as E2  [[psysml:1d7d0081-d3e1-46bd-ad63-b0e63267b1e5 ]] \r\n",
       "portin \"q\" as E3  [[psysml:21dced71-d174-49eb-b20b-d0423025e0cf ]] \r\n",
       "portout \"result\" as E4  [[psysml:89ad9a9d-29f0-45e8-8d07-ebce693a6326 ]] \r\n",
       "}\r\n",
       "\r\n",
       "@enduml\r\n",
       "\n",
       "PlantUML version 1.2020.13(Sat Jun 13 12:26:38 UTC 2020)\n",
       "(EPL source distribution)\n",
       "Java Runtime: OpenJDK Runtime Environment\n",
       "JVM: OpenJDK 64-Bit Server VM\n",
       "Default Encoding: UTF-8\n",
       "Language: en\n",
       "Country: null\n",
       "--></g></svg>"
      ]
     },
     "execution_count": 20,
     "metadata": {},
     "output_type": "execute_result"
    }
   ],
   "source": [
    "%viz --style=\"LR\" --view=\"Action\" \"ParameterTest\""
   ]
  },
  {
   "cell_type": "code",
   "execution_count": 21,
   "id": "00e8a1c3",
   "metadata": {
    "execution": {
     "iopub.execute_input": "2022-03-03T09:56:15.522341Z",
     "iopub.status.busy": "2022-03-03T09:56:15.521926Z",
     "iopub.status.idle": "2022-03-03T09:56:15.527334Z",
     "shell.execute_reply": "2022-03-03T09:56:15.527654Z"
    }
   },
   "outputs": [
    {
     "data": {
      "image/svg+xml": [
       "<?xml version=\"1.0\" encoding=\"UTF-8\" standalone=\"no\"?><svg xmlns=\"http://www.w3.org/2000/svg\" xmlns:xlink=\"http://www.w3.org/1999/xlink\" contentScriptType=\"application/ecmascript\" contentStyleType=\"text/css\" height=\"12px\" preserveAspectRatio=\"none\" style=\"width:12px;height:12px;\" version=\"1.1\" viewBox=\"0 0 12 12\" width=\"12px\" zoomAndPan=\"magnify\"><defs/><g><!--MD5=[238c11ea2002f03115ad6b49a457d50e]\n",
       "@startuml\r\n",
       "skinparam roundcorner 20\r\n",
       "skinparam BoxPadding 20\r\n",
       "skinparam SequenceBoxBackgroundColor #white\r\n",
       "skinparam style strictuml\r\n",
       "skinparam maxMessageSize 100\r\n",
       "left to right direction\r\n",
       "skinparam monochrome true\r\n",
       "skinparam classbackgroundcolor white\r\n",
       "skinparam shadowing false\r\n",
       "skinparam wrapWidth 300\r\n",
       "hide circle\r\n",
       "\r\n",
       "@enduml\r\n",
       "\n",
       "PlantUML version 1.2020.13(Sat Jun 13 12:26:38 UTC 2020)\n",
       "(EPL source distribution)\n",
       "Java Runtime: OpenJDK Runtime Environment\n",
       "JVM: OpenJDK 64-Bit Server VM\n",
       "Default Encoding: UTF-8\n",
       "Language: en\n",
       "Country: null\n",
       "--></g></svg>"
      ]
     },
     "execution_count": 21,
     "metadata": {},
     "output_type": "execute_result"
    }
   ],
   "source": [
    "%viz --style=\"LR\" --view=\"Sequence\" \"ParameterTest\""
   ]
  },
  {
   "cell_type": "code",
   "execution_count": 22,
   "id": "2b342d70",
   "metadata": {
    "execution": {
     "iopub.execute_input": "2022-03-03T09:56:15.578279Z",
     "iopub.status.busy": "2022-03-03T09:56:15.577843Z",
     "iopub.status.idle": "2022-03-03T09:56:15.638568Z",
     "shell.execute_reply": "2022-03-03T09:56:15.638168Z"
    }
   },
   "outputs": [
    {
     "data": {
      "image/svg+xml": [
       "<?xml version=\"1.0\" encoding=\"UTF-8\" standalone=\"no\"?><svg xmlns=\"http://www.w3.org/2000/svg\" xmlns:xlink=\"http://www.w3.org/1999/xlink\" contentScriptType=\"application/ecmascript\" contentStyleType=\"text/css\" height=\"541px\" preserveAspectRatio=\"none\" style=\"width:478px;height:541px;\" version=\"1.1\" viewBox=\"0 0 478 541\" width=\"478px\" zoomAndPan=\"magnify\"><defs/><g><!--MD5=[fbc87193dbaf4d95561dea2c320d4a47]\n",
       "cluster E1--><a href=\"psysml:86781c8e-3979-42bc-84a0-50d047026621\" target=\"_top\" title=\"psysml:86781c8e-3979-42bc-84a0-50d047026621\" xlink:actuate=\"onRequest\" xlink:href=\"psysml:86781c8e-3979-42bc-84a0-50d047026621\" xlink:show=\"new\" xlink:title=\"psysml:86781c8e-3979-42bc-84a0-50d047026621\" xlink:type=\"simple\"><polygon fill=\"#FFFFFF\" points=\"16,6,124,6,131,28.2969,456.72,28.2969,456.72,529,16,529,16,6\" style=\"stroke: #000000; stroke-width: 1.5;\"/><line style=\"stroke: #000000; stroke-width: 1.5;\" x1=\"16\" x2=\"131\" y1=\"28.2969\" y2=\"28.2969\"/><text fill=\"#000000\" font-family=\"sans-serif\" font-size=\"14\" font-weight=\"bold\" lengthAdjust=\"spacingAndGlyphs\" textLength=\"102\" x=\"20\" y=\"20.9951\">ParameterTest</text></a><!--MD5=[f6df4d0ebaf0b5dfb2ced0ae5af7c670]\n",
       "cluster E4--><a href=\"psysml:824349d9-f3af-4f57-b650-7b4ce1821d09\" target=\"_top\" title=\"psysml:824349d9-f3af-4f57-b650-7b4ce1821d09\" xlink:actuate=\"onRequest\" xlink:href=\"psysml:824349d9-f3af-4f57-b650-7b4ce1821d09\" xlink:show=\"new\" xlink:title=\"psysml:824349d9-f3af-4f57-b650-7b4ce1821d09\" xlink:type=\"simple\"><rect fill=\"#FFFFFF\" height=\"47\" id=\"E4\" style=\"stroke: #383838; stroke-width: 1.5;\" width=\"377.22\" x=\"49.5\" y=\"55\"/><rect fill=\"#F8F8F8\" height=\"37.9375\" style=\"stroke: #383838; stroke-width: 1.5;\" width=\"377.22\" x=\"49.5\" y=\"55\"/><text fill=\"#000000\" font-family=\"sans-serif\" font-size=\"12\" font-style=\"italic\" lengthAdjust=\"spacingAndGlyphs\" textLength=\"110\" x=\"183.11\" y=\"71.1387\">«calculation  def»</text><text fill=\"#000000\" font-family=\"sans-serif\" font-size=\"12\" lengthAdjust=\"spacingAndGlyphs\" textLength=\"7\" x=\"234.61\" y=\"85.1074\">F</text></a><!--MD5=[b4997ac47864f28c2f74865a473b2911]\n",
       "class E2--><a href=\"psysml:2ec9bc29-3801-4d04-bd01-a8a7cc509576\" target=\"_top\" title=\"psysml:2ec9bc29-3801-4d04-bd01-a8a7cc509576\" xlink:actuate=\"onRequest\" xlink:href=\"psysml:2ec9bc29-3801-4d04-bd01-a8a7cc509576\" xlink:show=\"new\" xlink:title=\"psysml:2ec9bc29-3801-4d04-bd01-a8a7cc509576\" xlink:type=\"simple\"><rect fill=\"#FFFFFF\" height=\"88.3516\" id=\"E2\" style=\"stroke: #383838; stroke-width: 1.5;\" width=\"99\" x=\"182\" y=\"128\"/><text fill=\"#000000\" font-family=\"sans-serif\" font-size=\"12\" font-style=\"italic\" lengthAdjust=\"spacingAndGlyphs\" textLength=\"97\" x=\"183\" y=\"144.1387\">«attribute  def»</text><text fill=\"#000000\" font-family=\"sans-serif\" font-size=\"12\" lengthAdjust=\"spacingAndGlyphs\" textLength=\"8\" x=\"227.5\" y=\"158.1074\">A</text><line style=\"stroke: #383838; stroke-width: 1.5;\" x1=\"183\" x2=\"280\" y1=\"165.9375\" y2=\"165.9375\"/><text fill=\"#000000\" font-family=\"sans-serif\" font-size=\"11\" lengthAdjust=\"spacingAndGlyphs\" textLength=\"48\" x=\"188\" y=\"196.9526\">x: String</text><text fill=\"#000000\" font-family=\"sans-serif\" font-size=\"11\" lengthAdjust=\"spacingAndGlyphs\" textLength=\"21\" x=\"188\" y=\"209.7573\">y: A</text><line style=\"stroke: #383838; stroke-width: 1.0;\" x1=\"183\" x2=\"204\" y1=\"180.3398\" y2=\"180.3398\"/><text fill=\"#000000\" font-family=\"sans-serif\" font-size=\"11\" lengthAdjust=\"spacingAndGlyphs\" textLength=\"55\" x=\"204\" y=\"183.6479\">attributes</text><line style=\"stroke: #383838; stroke-width: 1.0;\" x1=\"259\" x2=\"280\" y1=\"180.3398\" y2=\"180.3398\"/></a><!--MD5=[09b614a08d8cba4a07c9adeb5e0fee81]\n",
       "class E3--><a href=\"psysml:904ee486-6b36-4246-8723-5e3acfd2e245\" target=\"_top\" title=\"psysml:904ee486-6b36-4246-8723-5e3acfd2e245\" xlink:actuate=\"onRequest\" xlink:href=\"psysml:904ee486-6b36-4246-8723-5e3acfd2e245\" xlink:show=\"new\" xlink:title=\"psysml:904ee486-6b36-4246-8723-5e3acfd2e245\" xlink:type=\"simple\"><rect fill=\"#FFFFFF\" height=\"45.9375\" id=\"E3\" rx=\"10\" ry=\"10\" style=\"stroke: #383838; stroke-width: 1.5;\" width=\"71\" x=\"32\" y=\"143\"/><text fill=\"#000000\" font-family=\"sans-serif\" font-size=\"12\" font-style=\"italic\" lengthAdjust=\"spacingAndGlyphs\" textLength=\"69\" x=\"33\" y=\"159.1387\">«attribute»</text><text fill=\"#000000\" font-family=\"sans-serif\" font-size=\"12\" lengthAdjust=\"spacingAndGlyphs\" textLength=\"24\" x=\"53.5\" y=\"173.1074\">a: A</text><line style=\"stroke: #383838; stroke-width: 1.5;\" x1=\"33\" x2=\"102\" y1=\"180.9375\" y2=\"180.9375\"/></a><!--MD5=[b9389687b975829384b498ac4b7476b2]\n",
       "class E8--><a href=\"psysml:8204b4e2-616f-4bbc-afa4-9ecd277b5579\" target=\"_top\" title=\"psysml:8204b4e2-616f-4bbc-afa4-9ecd277b5579\" xlink:actuate=\"onRequest\" xlink:href=\"psysml:8204b4e2-616f-4bbc-afa4-9ecd277b5579\" xlink:show=\"new\" xlink:title=\"psysml:8204b4e2-616f-4bbc-afa4-9ecd277b5579\" xlink:type=\"simple\"><rect fill=\"#FFFFFF\" height=\"45.9375\" id=\"E8\" rx=\"10\" ry=\"10\" style=\"stroke: #383838; stroke-width: 1.5;\" width=\"71\" x=\"32\" y=\"224\"/><text fill=\"#000000\" font-family=\"sans-serif\" font-size=\"12\" font-style=\"italic\" lengthAdjust=\"spacingAndGlyphs\" textLength=\"69\" x=\"33\" y=\"240.1387\">«attribute»</text><text fill=\"#000000\" font-family=\"sans-serif\" font-size=\"12\" lengthAdjust=\"spacingAndGlyphs\" textLength=\"4\" x=\"63.5\" y=\"254.1074\">f</text><line style=\"stroke: #383838; stroke-width: 1.5;\" x1=\"33\" x2=\"102\" y1=\"261.9375\" y2=\"261.9375\"/></a><!--MD5=[fd4143e9d270a159db93a4ea2a975926]\n",
       "class E9--><a href=\"psysml:86e22d1e-a4d5-4fc2-80cd-01d3f8e601c3\" target=\"_top\" title=\"psysml:86e22d1e-a4d5-4fc2-80cd-01d3f8e601c3\" xlink:actuate=\"onRequest\" xlink:href=\"psysml:86e22d1e-a4d5-4fc2-80cd-01d3f8e601c3\" xlink:show=\"new\" xlink:title=\"psysml:86e22d1e-a4d5-4fc2-80cd-01d3f8e601c3\" xlink:type=\"simple\"><rect fill=\"#FFFFFF\" height=\"45.9375\" id=\"E9\" rx=\"10\" ry=\"10\" style=\"stroke: #383838; stroke-width: 1.5;\" width=\"71\" x=\"32\" y=\"305\"/><text fill=\"#000000\" font-family=\"sans-serif\" font-size=\"12\" font-style=\"italic\" lengthAdjust=\"spacingAndGlyphs\" textLength=\"69\" x=\"33\" y=\"321.1387\">«attribute»</text><text fill=\"#000000\" font-family=\"sans-serif\" font-size=\"12\" lengthAdjust=\"spacingAndGlyphs\" textLength=\"8\" x=\"61.5\" y=\"335.1074\">g</text><line style=\"stroke: #383838; stroke-width: 1.5;\" x1=\"33\" x2=\"102\" y1=\"342.9375\" y2=\"342.9375\"/></a><!--MD5=[96f4274e9e20536e775497830990834d]\n",
       "class E10--><a href=\"psysml:5bd4ed77-91ea-4eb7-bbff-8ef8917960b7\" target=\"_top\" title=\"psysml:5bd4ed77-91ea-4eb7-bbff-8ef8917960b7\" xlink:actuate=\"onRequest\" xlink:href=\"psysml:5bd4ed77-91ea-4eb7-bbff-8ef8917960b7\" xlink:show=\"new\" xlink:title=\"psysml:5bd4ed77-91ea-4eb7-bbff-8ef8917960b7\" xlink:type=\"simple\"><rect fill=\"#FFFFFF\" height=\"45.9375\" id=\"E10\" rx=\"10\" ry=\"10\" style=\"stroke: #383838; stroke-width: 1.5;\" width=\"71\" x=\"32\" y=\"386\"/><text fill=\"#000000\" font-family=\"sans-serif\" font-size=\"12\" font-style=\"italic\" lengthAdjust=\"spacingAndGlyphs\" textLength=\"69\" x=\"33\" y=\"402.1387\">«attribute»</text><text fill=\"#000000\" font-family=\"sans-serif\" font-size=\"12\" lengthAdjust=\"spacingAndGlyphs\" textLength=\"8\" x=\"61.5\" y=\"416.1074\">b</text><line style=\"stroke: #383838; stroke-width: 1.5;\" x1=\"33\" x2=\"102\" y1=\"423.9375\" y2=\"423.9375\"/></a><!--MD5=[1dd1bfd58a279cf63c5f349dbc8fc6a1]\n",
       "class E11--><a href=\"psysml:88436cf5-d13a-4d80-b468-40a83b162e0f\" target=\"_top\" title=\"psysml:88436cf5-d13a-4d80-b468-40a83b162e0f\" xlink:actuate=\"onRequest\" xlink:href=\"psysml:88436cf5-d13a-4d80-b468-40a83b162e0f\" xlink:show=\"new\" xlink:title=\"psysml:88436cf5-d13a-4d80-b468-40a83b162e0f\" xlink:type=\"simple\"><rect fill=\"#FFFFFF\" height=\"45.9375\" id=\"E11\" rx=\"10\" ry=\"10\" style=\"stroke: #383838; stroke-width: 1.5;\" width=\"71\" x=\"32\" y=\"467\"/><text fill=\"#000000\" font-family=\"sans-serif\" font-size=\"12\" font-style=\"italic\" lengthAdjust=\"spacingAndGlyphs\" textLength=\"69\" x=\"33\" y=\"483.1387\">«attribute»</text><text fill=\"#000000\" font-family=\"sans-serif\" font-size=\"12\" lengthAdjust=\"spacingAndGlyphs\" textLength=\"7\" x=\"62\" y=\"497.1074\">c</text><line style=\"stroke: #383838; stroke-width: 1.5;\" x1=\"33\" x2=\"102\" y1=\"504.9375\" y2=\"504.9375\"/></a><text fill=\"#000000\" font-family=\"sans-serif\" font-size=\"14\" lengthAdjust=\"spacingAndGlyphs\" textLength=\"9\" x=\"63\" y=\"120.9951\">p</text><rect fill=\"#383838\" height=\"12\" style=\"stroke: #F8F8F8; stroke-width: 1.5;\" width=\"12\" x=\"61.5\" y=\"96\"/><text fill=\"#000000\" font-family=\"sans-serif\" font-size=\"14\" lengthAdjust=\"spacingAndGlyphs\" textLength=\"9\" x=\"63\" y=\"33.6982\">q</text><rect fill=\"#383838\" height=\"12\" style=\"stroke: #F8F8F8; stroke-width: 1.5;\" width=\"12\" x=\"61.5\" y=\"49\"/><text fill=\"#000000\" font-family=\"sans-serif\" font-size=\"14\" lengthAdjust=\"spacingAndGlyphs\" textLength=\"39\" x=\"407.22\" y=\"53.6982\">result</text><rect fill=\"#383838\" height=\"12\" style=\"stroke: #F8F8F8; stroke-width: 1.5;\" width=\"12\" x=\"420.72\" y=\"69\"/><!--MD5=[05d275557350bfb9b23a4ef7222b4c39]\n",
       "link E3 to E2--><a href=\"psysml:b5c275d4-de01-4c83-8a05-69f2b086225e\" target=\"_top\" title=\"psysml:b5c275d4-de01-4c83-8a05-69f2b086225e\" xlink:actuate=\"onRequest\" xlink:href=\"psysml:b5c275d4-de01-4c83-8a05-69f2b086225e\" xlink:show=\"new\" xlink:title=\"psysml:b5c275d4-de01-4c83-8a05-69f2b086225e\" xlink:type=\"simple\"><path d=\"M103.25,167.29 C120.39,167.92 141.67,168.71 161.9,169.46 \" fill=\"none\" id=\"E3-&gt;E2\" style=\"stroke: #383838; stroke-width: 1.0;\"/><polygon fill=\"#FFFFFF\" points=\"181.98,170.2,162.7331,176.4894,163.2531,162.4991,181.98,170.2\" style=\"stroke: #383838; stroke-width: 1.0;\"/><ellipse cx=\"157.1113\" cy=\"174.2791\" fill=\"#383838\" rx=\"2\" ry=\"2\" style=\"stroke: #383838; stroke-width: 1.0;\"/><ellipse cx=\"157.4828\" cy=\"164.286\" fill=\"#383838\" rx=\"2\" ry=\"2\" style=\"stroke: #383838; stroke-width: 1.0;\"/></a><!--MD5=[a3da157a370d3c1b3350a64344672e3e]\n",
       "@startuml\r\n",
       "left to right direction\r\n",
       "skinparam monochrome true\r\n",
       "skinparam classbackgroundcolor white\r\n",
       "skinparam shadowing false\r\n",
       "skinparam wrapWidth 300\r\n",
       "hide circle\r\n",
       "\r\n",
       "package \"ParameterTest\" as E1  [[psysml:86781c8e-3979-42bc-84a0-50d047026621 ]]  {\r\n",
       "comp def \"A\" as E2  <<(T,blue) attribute  def>> [[psysml:2ec9bc29-3801-4d04-bd01-a8a7cc509576 ]] {\r\n",
       "- - attributes - -\r\n",
       "x: String\r\n",
       "y: A\r\n",
       "}\r\n",
       "comp usage \"a: A \" as E3  <<(T,blue) attribute>> [[psysml:904ee486-6b36-4246-8723-5e3acfd2e245 ]] {\r\n",
       "}\r\n",
       "rec def \"F\" as E4  <<(T,blue) calculation  def>> [[psysml:824349d9-f3af-4f57-b650-7b4ce1821d09 ]] {\r\n",
       "portin \"p\" as E5  [[psysml:1d7d0081-d3e1-46bd-ad63-b0e63267b1e5 ]] \r\n",
       "portin \"q\" as E6  [[psysml:21dced71-d174-49eb-b20b-d0423025e0cf ]] \r\n",
       "portout \"result\" as E7  [[psysml:89ad9a9d-29f0-45e8-8d07-ebce693a6326 ]] \r\n",
       "}\r\n",
       "\r\n",
       "comp usage \"f \" as E8  <<(T,blue) attribute>> [[psysml:8204b4e2-616f-4bbc-afa4-9ecd277b5579 ]] {\r\n",
       "}\r\n",
       "comp usage \"g \" as E9  <<(T,blue) attribute>> [[psysml:86e22d1e-a4d5-4fc2-80cd-01d3f8e601c3 ]] {\r\n",
       "}\r\n",
       "comp usage \"b \" as E10  <<(T,blue) attribute>> [[psysml:5bd4ed77-91ea-4eb7-bbff-8ef8917960b7 ]] {\r\n",
       "}\r\n",
       "comp usage \"c \" as E11  <<(T,blue) attribute>> [[psysml:88436cf5-d13a-4d80-b468-40a83b162e0f ]] {\r\n",
       "}\r\n",
       "}\r\n",
       "E3 - -:|> E2 [[psysml:b5c275d4-de01-4c83-8a05-69f2b086225e ]] \r\n",
       "@enduml\r\n",
       "\n",
       "PlantUML version 1.2020.13(Sat Jun 13 12:26:38 UTC 2020)\n",
       "(EPL source distribution)\n",
       "Java Runtime: OpenJDK Runtime Environment\n",
       "JVM: OpenJDK 64-Bit Server VM\n",
       "Default Encoding: UTF-8\n",
       "Language: en\n",
       "Country: null\n",
       "--></g></svg>"
      ]
     },
     "execution_count": 22,
     "metadata": {},
     "output_type": "execute_result"
    }
   ],
   "source": [
    "%viz --style=\"LR\" --view=\"MIXED\" \"ParameterTest\""
   ]
  },
  {
   "cell_type": "code",
   "execution_count": 23,
   "id": "5a5dce59",
   "metadata": {
    "execution": {
     "iopub.execute_input": "2022-03-03T09:56:15.688549Z",
     "iopub.status.busy": "2022-03-03T09:56:15.688037Z",
     "iopub.status.idle": "2022-03-03T09:56:15.750443Z",
     "shell.execute_reply": "2022-03-03T09:56:15.750066Z"
    }
   },
   "outputs": [
    {
     "data": {
      "image/svg+xml": [
       "<?xml version=\"1.0\" encoding=\"UTF-8\" standalone=\"no\"?><svg xmlns=\"http://www.w3.org/2000/svg\" xmlns:xlink=\"http://www.w3.org/1999/xlink\" contentScriptType=\"application/ecmascript\" contentStyleType=\"text/css\" height=\"403px\" preserveAspectRatio=\"none\" style=\"width:744px;height:403px;\" version=\"1.1\" viewBox=\"0 0 744 403\" width=\"744px\" zoomAndPan=\"magnify\"><defs><filter height=\"300%\" id=\"f1s5djdgbe68s0\" width=\"300%\" x=\"-1\" y=\"-1\"><feGaussianBlur result=\"blurOut\" stdDeviation=\"2.0\"/><feColorMatrix in=\"blurOut\" result=\"blurOut2\" type=\"matrix\" values=\"0 0 0 0 0 0 0 0 0 0 0 0 0 0 0 0 0 0 .4 0\"/><feOffset dx=\"4.0\" dy=\"4.0\" in=\"blurOut2\" result=\"blurOut3\"/><feBlend in=\"SourceGraphic\" in2=\"blurOut3\" mode=\"normal\"/></filter></defs><g><!--MD5=[fbc87193dbaf4d95561dea2c320d4a47]\n",
       "cluster E1--><a href=\"psysml:86781c8e-3979-42bc-84a0-50d047026621\" target=\"_top\" title=\"psysml:86781c8e-3979-42bc-84a0-50d047026621\" xlink:actuate=\"onRequest\" xlink:href=\"psysml:86781c8e-3979-42bc-84a0-50d047026621\" xlink:show=\"new\" xlink:title=\"psysml:86781c8e-3979-42bc-84a0-50d047026621\" xlink:type=\"simple\"><polygon fill=\"#FFFFFF\" filter=\"url(#f1s5djdgbe68s0)\" points=\"16,6,124,6,131,28.2969,722,28.2969,722,391.72,16,391.72,16,6\" style=\"stroke: #000000; stroke-width: 1.5;\"/><line style=\"stroke: #000000; stroke-width: 1.5;\" x1=\"16\" x2=\"131\" y1=\"28.2969\" y2=\"28.2969\"/><text fill=\"#000000\" font-family=\"sans-serif\" font-size=\"14\" font-weight=\"bold\" lengthAdjust=\"spacingAndGlyphs\" textLength=\"102\" x=\"20\" y=\"20.9951\">ParameterTest</text></a><!--MD5=[f6df4d0ebaf0b5dfb2ced0ae5af7c670]\n",
       "cluster E4--><a href=\"psysml:824349d9-f3af-4f57-b650-7b4ce1821d09\" target=\"_top\" title=\"psysml:824349d9-f3af-4f57-b650-7b4ce1821d09\" xlink:actuate=\"onRequest\" xlink:href=\"psysml:824349d9-f3af-4f57-b650-7b4ce1821d09\" xlink:show=\"new\" xlink:title=\"psysml:824349d9-f3af-4f57-b650-7b4ce1821d09\" xlink:type=\"simple\"><rect fill=\"#FFFFFF\" filter=\"url(#f1s5djdgbe68s0)\" height=\"297.72\" id=\"E4\" style=\"stroke: #A80036; stroke-width: 1.5;\" width=\"150\" x=\"556\" y=\"64\"/><rect fill=\"#FEFECE\" height=\"37.9375\" style=\"stroke: #A80036; stroke-width: 1.5;\" width=\"150\" x=\"556\" y=\"64\"/><text fill=\"#000000\" font-family=\"sans-serif\" font-size=\"12\" font-style=\"italic\" lengthAdjust=\"spacingAndGlyphs\" textLength=\"110\" x=\"576\" y=\"80.1387\">«calculation  def»</text><text fill=\"#000000\" font-family=\"sans-serif\" font-size=\"12\" lengthAdjust=\"spacingAndGlyphs\" textLength=\"7\" x=\"627.5\" y=\"94.1074\">F</text></a><!--MD5=[b4997ac47864f28c2f74865a473b2911]\n",
       "class E2--><a href=\"psysml:2ec9bc29-3801-4d04-bd01-a8a7cc509576\" target=\"_top\" title=\"psysml:2ec9bc29-3801-4d04-bd01-a8a7cc509576\" xlink:actuate=\"onRequest\" xlink:href=\"psysml:2ec9bc29-3801-4d04-bd01-a8a7cc509576\" xlink:show=\"new\" xlink:title=\"psysml:2ec9bc29-3801-4d04-bd01-a8a7cc509576\" xlink:type=\"simple\"><rect fill=\"#FEFECE\" filter=\"url(#f1s5djdgbe68s0)\" height=\"88.3516\" id=\"E2\" style=\"stroke: #A80036; stroke-width: 1.5;\" width=\"99\" x=\"418.5\" y=\"147\"/><text fill=\"#000000\" font-family=\"sans-serif\" font-size=\"12\" font-style=\"italic\" lengthAdjust=\"spacingAndGlyphs\" textLength=\"97\" x=\"419.5\" y=\"163.1387\">«attribute  def»</text><text fill=\"#000000\" font-family=\"sans-serif\" font-size=\"12\" lengthAdjust=\"spacingAndGlyphs\" textLength=\"8\" x=\"464\" y=\"177.1074\">A</text><line style=\"stroke: #A80036; stroke-width: 1.5;\" x1=\"419.5\" x2=\"516.5\" y1=\"184.9375\" y2=\"184.9375\"/><text fill=\"#000000\" font-family=\"sans-serif\" font-size=\"11\" lengthAdjust=\"spacingAndGlyphs\" textLength=\"48\" x=\"424.5\" y=\"215.9526\">x: String</text><text fill=\"#000000\" font-family=\"sans-serif\" font-size=\"11\" lengthAdjust=\"spacingAndGlyphs\" textLength=\"21\" x=\"424.5\" y=\"228.7573\">y: A</text><line style=\"stroke: #A80036; stroke-width: 1.0;\" x1=\"419.5\" x2=\"440.5\" y1=\"199.3398\" y2=\"199.3398\"/><text fill=\"#000000\" font-family=\"sans-serif\" font-size=\"11\" lengthAdjust=\"spacingAndGlyphs\" textLength=\"55\" x=\"440.5\" y=\"202.6479\">attributes</text><line style=\"stroke: #A80036; stroke-width: 1.0;\" x1=\"495.5\" x2=\"516.5\" y1=\"199.3398\" y2=\"199.3398\"/></a><!--MD5=[09b614a08d8cba4a07c9adeb5e0fee81]\n",
       "class E3--><a href=\"psysml:904ee486-6b36-4246-8723-5e3acfd2e245\" target=\"_top\" title=\"psysml:904ee486-6b36-4246-8723-5e3acfd2e245\" xlink:actuate=\"onRequest\" xlink:href=\"psysml:904ee486-6b36-4246-8723-5e3acfd2e245\" xlink:show=\"new\" xlink:title=\"psysml:904ee486-6b36-4246-8723-5e3acfd2e245\" xlink:type=\"simple\"><rect fill=\"#FEFECE\" filter=\"url(#f1s5djdgbe68s0)\" height=\"45.9375\" id=\"E3\" rx=\"10\" ry=\"10\" style=\"stroke: #A80036; stroke-width: 1.5;\" width=\"71\" x=\"456.5\" y=\"41\"/><text fill=\"#000000\" font-family=\"sans-serif\" font-size=\"12\" font-style=\"italic\" lengthAdjust=\"spacingAndGlyphs\" textLength=\"69\" x=\"457.5\" y=\"57.1387\">«attribute»</text><text fill=\"#000000\" font-family=\"sans-serif\" font-size=\"12\" lengthAdjust=\"spacingAndGlyphs\" textLength=\"24\" x=\"478\" y=\"71.1074\">a: A</text><line style=\"stroke: #A80036; stroke-width: 1.5;\" x1=\"457.5\" x2=\"526.5\" y1=\"78.9375\" y2=\"78.9375\"/></a><!--MD5=[b9389687b975829384b498ac4b7476b2]\n",
       "class E8--><a href=\"psysml:8204b4e2-616f-4bbc-afa4-9ecd277b5579\" target=\"_top\" title=\"psysml:8204b4e2-616f-4bbc-afa4-9ecd277b5579\" xlink:actuate=\"onRequest\" xlink:href=\"psysml:8204b4e2-616f-4bbc-afa4-9ecd277b5579\" xlink:show=\"new\" xlink:title=\"psysml:8204b4e2-616f-4bbc-afa4-9ecd277b5579\" xlink:type=\"simple\"><rect fill=\"#FEFECE\" filter=\"url(#f1s5djdgbe68s0)\" height=\"45.9375\" id=\"E8\" rx=\"10\" ry=\"10\" style=\"stroke: #A80036; stroke-width: 1.5;\" width=\"71\" x=\"350.5\" y=\"41\"/><text fill=\"#000000\" font-family=\"sans-serif\" font-size=\"12\" font-style=\"italic\" lengthAdjust=\"spacingAndGlyphs\" textLength=\"69\" x=\"351.5\" y=\"57.1387\">«attribute»</text><text fill=\"#000000\" font-family=\"sans-serif\" font-size=\"12\" lengthAdjust=\"spacingAndGlyphs\" textLength=\"4\" x=\"382\" y=\"71.1074\">f</text><line style=\"stroke: #A80036; stroke-width: 1.5;\" x1=\"351.5\" x2=\"420.5\" y1=\"78.9375\" y2=\"78.9375\"/></a><!--MD5=[fd4143e9d270a159db93a4ea2a975926]\n",
       "class E9--><a href=\"psysml:86e22d1e-a4d5-4fc2-80cd-01d3f8e601c3\" target=\"_top\" title=\"psysml:86e22d1e-a4d5-4fc2-80cd-01d3f8e601c3\" xlink:actuate=\"onRequest\" xlink:href=\"psysml:86e22d1e-a4d5-4fc2-80cd-01d3f8e601c3\" xlink:show=\"new\" xlink:title=\"psysml:86e22d1e-a4d5-4fc2-80cd-01d3f8e601c3\" xlink:type=\"simple\"><rect fill=\"#FEFECE\" filter=\"url(#f1s5djdgbe68s0)\" height=\"45.9375\" id=\"E9\" rx=\"10\" ry=\"10\" style=\"stroke: #A80036; stroke-width: 1.5;\" width=\"71\" x=\"244.5\" y=\"41\"/><text fill=\"#000000\" font-family=\"sans-serif\" font-size=\"12\" font-style=\"italic\" lengthAdjust=\"spacingAndGlyphs\" textLength=\"69\" x=\"245.5\" y=\"57.1387\">«attribute»</text><text fill=\"#000000\" font-family=\"sans-serif\" font-size=\"12\" lengthAdjust=\"spacingAndGlyphs\" textLength=\"8\" x=\"274\" y=\"71.1074\">g</text><line style=\"stroke: #A80036; stroke-width: 1.5;\" x1=\"245.5\" x2=\"314.5\" y1=\"78.9375\" y2=\"78.9375\"/></a><!--MD5=[96f4274e9e20536e775497830990834d]\n",
       "class E10--><a href=\"psysml:5bd4ed77-91ea-4eb7-bbff-8ef8917960b7\" target=\"_top\" title=\"psysml:5bd4ed77-91ea-4eb7-bbff-8ef8917960b7\" xlink:actuate=\"onRequest\" xlink:href=\"psysml:5bd4ed77-91ea-4eb7-bbff-8ef8917960b7\" xlink:show=\"new\" xlink:title=\"psysml:5bd4ed77-91ea-4eb7-bbff-8ef8917960b7\" xlink:type=\"simple\"><rect fill=\"#FEFECE\" filter=\"url(#f1s5djdgbe68s0)\" height=\"45.9375\" id=\"E10\" rx=\"10\" ry=\"10\" style=\"stroke: #A80036; stroke-width: 1.5;\" width=\"71\" x=\"138.5\" y=\"41\"/><text fill=\"#000000\" font-family=\"sans-serif\" font-size=\"12\" font-style=\"italic\" lengthAdjust=\"spacingAndGlyphs\" textLength=\"69\" x=\"139.5\" y=\"57.1387\">«attribute»</text><text fill=\"#000000\" font-family=\"sans-serif\" font-size=\"12\" lengthAdjust=\"spacingAndGlyphs\" textLength=\"8\" x=\"168\" y=\"71.1074\">b</text><line style=\"stroke: #A80036; stroke-width: 1.5;\" x1=\"139.5\" x2=\"208.5\" y1=\"78.9375\" y2=\"78.9375\"/></a><!--MD5=[1dd1bfd58a279cf63c5f349dbc8fc6a1]\n",
       "class E11--><a href=\"psysml:88436cf5-d13a-4d80-b468-40a83b162e0f\" target=\"_top\" title=\"psysml:88436cf5-d13a-4d80-b468-40a83b162e0f\" xlink:actuate=\"onRequest\" xlink:href=\"psysml:88436cf5-d13a-4d80-b468-40a83b162e0f\" xlink:show=\"new\" xlink:title=\"psysml:88436cf5-d13a-4d80-b468-40a83b162e0f\" xlink:type=\"simple\"><rect fill=\"#FEFECE\" filter=\"url(#f1s5djdgbe68s0)\" height=\"45.9375\" id=\"E11\" rx=\"10\" ry=\"10\" style=\"stroke: #A80036; stroke-width: 1.5;\" width=\"71\" x=\"32.5\" y=\"41\"/><text fill=\"#000000\" font-family=\"sans-serif\" font-size=\"12\" font-style=\"italic\" lengthAdjust=\"spacingAndGlyphs\" textLength=\"69\" x=\"33.5\" y=\"57.1387\">«attribute»</text><text fill=\"#000000\" font-family=\"sans-serif\" font-size=\"12\" lengthAdjust=\"spacingAndGlyphs\" textLength=\"7\" x=\"62.5\" y=\"71.1074\">c</text><line style=\"stroke: #A80036; stroke-width: 1.5;\" x1=\"33.5\" x2=\"102.5\" y1=\"78.9375\" y2=\"78.9375\"/></a><text fill=\"#000000\" font-family=\"sans-serif\" font-size=\"14\" lengthAdjust=\"spacingAndGlyphs\" textLength=\"9\" x=\"569.5\" y=\"42.6982\">p</text><rect fill=\"#A80036\" height=\"12\" style=\"stroke: #FEFECE; stroke-width: 1.5;\" width=\"12\" x=\"568\" y=\"58\"/><text fill=\"#000000\" font-family=\"sans-serif\" font-size=\"14\" lengthAdjust=\"spacingAndGlyphs\" textLength=\"9\" x=\"616.5\" y=\"42.6982\">q</text><rect fill=\"#A80036\" height=\"12\" style=\"stroke: #FEFECE; stroke-width: 1.5;\" width=\"12\" x=\"615\" y=\"58\"/><text fill=\"#000000\" font-family=\"sans-serif\" font-size=\"14\" lengthAdjust=\"spacingAndGlyphs\" textLength=\"39\" x=\"601.5\" y=\"380.7151\">result</text><rect fill=\"#A80036\" height=\"12\" style=\"stroke: #FEFECE; stroke-width: 1.5;\" width=\"12\" x=\"615\" y=\"355.72\"/><!--MD5=[05d275557350bfb9b23a4ef7222b4c39]\n",
       "link E3 to E2--><a href=\"psysml:b5c275d4-de01-4c83-8a05-69f2b086225e\" target=\"_top\" title=\"psysml:b5c275d4-de01-4c83-8a05-69f2b086225e\" xlink:actuate=\"onRequest\" xlink:href=\"psysml:b5c275d4-de01-4c83-8a05-69f2b086225e\" xlink:show=\"new\" xlink:title=\"psysml:b5c275d4-de01-4c83-8a05-69f2b086225e\" xlink:type=\"simple\"><path d=\"M487.76,87.06 C485.61,98.3 482.86,112.6 480.11,126.95 \" fill=\"none\" id=\"E3-&gt;E2\" style=\"stroke: #A80036; stroke-width: 1.0;\"/><polygon fill=\"#FFFFFF\" points=\"476.27,146.93,472.9781,126.9509,486.727,129.5907,476.27,146.93\" style=\"stroke: #A80036; stroke-width: 1.0;\"/><ellipse cx=\"476.017\" cy=\"121.7303\" fill=\"#A80036\" rx=\"2\" ry=\"2\" style=\"stroke: #A80036; stroke-width: 1.0;\"/><ellipse cx=\"485.8376\" cy=\"123.6158\" fill=\"#A80036\" rx=\"2\" ry=\"2\" style=\"stroke: #A80036; stroke-width: 1.0;\"/></a><!--MD5=[2c571a3af381c0abe2505d2d686d236d]\n",
       "@startuml\r\n",
       "skinparam wrapWidth 300\r\n",
       "hide circle\r\n",
       "\r\n",
       "package \"ParameterTest\" as E1  [[psysml:86781c8e-3979-42bc-84a0-50d047026621 ]]  {\r\n",
       "comp def \"A\" as E2  <<(T,blue) attribute  def>> [[psysml:2ec9bc29-3801-4d04-bd01-a8a7cc509576 ]] {\r\n",
       "- - attributes - -\r\n",
       "x: String\r\n",
       "y: A\r\n",
       "}\r\n",
       "comp usage \"a: A \" as E3  <<(T,blue) attribute>> [[psysml:904ee486-6b36-4246-8723-5e3acfd2e245 ]] {\r\n",
       "}\r\n",
       "rec def \"F\" as E4  <<(T,blue) calculation  def>> [[psysml:824349d9-f3af-4f57-b650-7b4ce1821d09 ]] {\r\n",
       "portin \"p\" as E5  [[psysml:1d7d0081-d3e1-46bd-ad63-b0e63267b1e5 ]] \r\n",
       "portin \"q\" as E6  [[psysml:21dced71-d174-49eb-b20b-d0423025e0cf ]] \r\n",
       "portout \"result\" as E7  [[psysml:89ad9a9d-29f0-45e8-8d07-ebce693a6326 ]] \r\n",
       "}\r\n",
       "\r\n",
       "comp usage \"f \" as E8  <<(T,blue) attribute>> [[psysml:8204b4e2-616f-4bbc-afa4-9ecd277b5579 ]] {\r\n",
       "}\r\n",
       "comp usage \"g \" as E9  <<(T,blue) attribute>> [[psysml:86e22d1e-a4d5-4fc2-80cd-01d3f8e601c3 ]] {\r\n",
       "}\r\n",
       "comp usage \"b \" as E10  <<(T,blue) attribute>> [[psysml:5bd4ed77-91ea-4eb7-bbff-8ef8917960b7 ]] {\r\n",
       "}\r\n",
       "comp usage \"c \" as E11  <<(T,blue) attribute>> [[psysml:88436cf5-d13a-4d80-b468-40a83b162e0f ]] {\r\n",
       "}\r\n",
       "}\r\n",
       "E3 - -:|> E2 [[psysml:b5c275d4-de01-4c83-8a05-69f2b086225e ]] \r\n",
       "@enduml\r\n",
       "\n",
       "PlantUML version 1.2020.13(Sat Jun 13 12:26:38 UTC 2020)\n",
       "(EPL source distribution)\n",
       "Java Runtime: OpenJDK Runtime Environment\n",
       "JVM: OpenJDK 64-Bit Server VM\n",
       "Default Encoding: UTF-8\n",
       "Language: en\n",
       "Country: null\n",
       "--></g></svg>"
      ]
     },
     "execution_count": 23,
     "metadata": {},
     "output_type": "execute_result"
    }
   ],
   "source": [
    "%viz --style=\"STDCOLOR\" --view=\"Default\" \"ParameterTest\""
   ]
  },
  {
   "cell_type": "code",
   "execution_count": 24,
   "id": "56e335ea",
   "metadata": {
    "execution": {
     "iopub.execute_input": "2022-03-03T09:56:15.800450Z",
     "iopub.status.busy": "2022-03-03T09:56:15.799802Z",
     "iopub.status.idle": "2022-03-03T09:56:15.856038Z",
     "shell.execute_reply": "2022-03-03T09:56:15.855629Z"
    }
   },
   "outputs": [
    {
     "data": {
      "image/svg+xml": [
       "<?xml version=\"1.0\" encoding=\"UTF-8\" standalone=\"no\"?><svg xmlns=\"http://www.w3.org/2000/svg\" xmlns:xlink=\"http://www.w3.org/1999/xlink\" contentScriptType=\"application/ecmascript\" contentStyleType=\"text/css\" height=\"280px\" preserveAspectRatio=\"none\" style=\"width:714px;height:280px;\" version=\"1.1\" viewBox=\"0 0 714 280\" width=\"714px\" zoomAndPan=\"magnify\"><defs><filter height=\"300%\" id=\"fqncv5872ftdk\" width=\"300%\" x=\"-1\" y=\"-1\"><feGaussianBlur result=\"blurOut\" stdDeviation=\"2.0\"/><feColorMatrix in=\"blurOut\" result=\"blurOut2\" type=\"matrix\" values=\"0 0 0 0 0 0 0 0 0 0 0 0 0 0 0 0 0 0 .4 0\"/><feOffset dx=\"4.0\" dy=\"4.0\" in=\"blurOut2\" result=\"blurOut3\"/><feBlend in=\"SourceGraphic\" in2=\"blurOut3\" mode=\"normal\"/></filter></defs><g><!--MD5=[fbc87193dbaf4d95561dea2c320d4a47]\n",
       "cluster E1--><a href=\"psysml:86781c8e-3979-42bc-84a0-50d047026621\" target=\"_top\" title=\"psysml:86781c8e-3979-42bc-84a0-50d047026621\" xlink:actuate=\"onRequest\" xlink:href=\"psysml:86781c8e-3979-42bc-84a0-50d047026621\" xlink:show=\"new\" xlink:title=\"psysml:86781c8e-3979-42bc-84a0-50d047026621\" xlink:type=\"simple\"><polygon fill=\"#FFFFFF\" filter=\"url(#fqncv5872ftdk)\" points=\"16,6,124,6,131,28.2969,692,28.2969,692,268,16,268,16,6\" style=\"stroke: #000000; stroke-width: 1.5;\"/><line style=\"stroke: #000000; stroke-width: 1.5;\" x1=\"16\" x2=\"131\" y1=\"28.2969\" y2=\"28.2969\"/><text fill=\"#000000\" font-family=\"sans-serif\" font-size=\"14\" font-weight=\"bold\" lengthAdjust=\"spacingAndGlyphs\" textLength=\"102\" x=\"20\" y=\"20.9951\">ParameterTest</text></a><!--MD5=[b4997ac47864f28c2f74865a473b2911]\n",
       "class E2--><a href=\"psysml:2ec9bc29-3801-4d04-bd01-a8a7cc509576\" target=\"_top\" title=\"psysml:2ec9bc29-3801-4d04-bd01-a8a7cc509576\" xlink:actuate=\"onRequest\" xlink:href=\"psysml:2ec9bc29-3801-4d04-bd01-a8a7cc509576\" xlink:show=\"new\" xlink:title=\"psysml:2ec9bc29-3801-4d04-bd01-a8a7cc509576\" xlink:type=\"simple\"><rect fill=\"#FEFECE\" filter=\"url(#fqncv5872ftdk)\" height=\"88.3516\" id=\"E2\" style=\"stroke: #A80036; stroke-width: 1.5;\" width=\"99\" x=\"499.5\" y=\"164\"/><text fill=\"#000000\" font-family=\"sans-serif\" font-size=\"12\" font-style=\"italic\" lengthAdjust=\"spacingAndGlyphs\" textLength=\"97\" x=\"500.5\" y=\"180.1387\">«attribute  def»</text><text fill=\"#000000\" font-family=\"sans-serif\" font-size=\"12\" lengthAdjust=\"spacingAndGlyphs\" textLength=\"8\" x=\"545\" y=\"194.1074\">A</text><line style=\"stroke: #A80036; stroke-width: 1.5;\" x1=\"500.5\" x2=\"597.5\" y1=\"201.9375\" y2=\"201.9375\"/><text fill=\"#000000\" font-family=\"sans-serif\" font-size=\"11\" lengthAdjust=\"spacingAndGlyphs\" textLength=\"48\" x=\"505.5\" y=\"232.9526\">x: String</text><text fill=\"#000000\" font-family=\"sans-serif\" font-size=\"11\" lengthAdjust=\"spacingAndGlyphs\" textLength=\"21\" x=\"505.5\" y=\"245.7573\">y: A</text><line style=\"stroke: #A80036; stroke-width: 1.0;\" x1=\"500.5\" x2=\"521.5\" y1=\"216.3398\" y2=\"216.3398\"/><text fill=\"#000000\" font-family=\"sans-serif\" font-size=\"11\" lengthAdjust=\"spacingAndGlyphs\" textLength=\"55\" x=\"521.5\" y=\"219.6479\">attributes</text><line style=\"stroke: #A80036; stroke-width: 1.0;\" x1=\"576.5\" x2=\"597.5\" y1=\"216.3398\" y2=\"216.3398\"/></a><!--MD5=[09b614a08d8cba4a07c9adeb5e0fee81]\n",
       "class E3--><a href=\"psysml:904ee486-6b36-4246-8723-5e3acfd2e245\" target=\"_top\" title=\"psysml:904ee486-6b36-4246-8723-5e3acfd2e245\" xlink:actuate=\"onRequest\" xlink:href=\"psysml:904ee486-6b36-4246-8723-5e3acfd2e245\" xlink:show=\"new\" xlink:title=\"psysml:904ee486-6b36-4246-8723-5e3acfd2e245\" xlink:type=\"simple\"><rect fill=\"#FEFECE\" filter=\"url(#fqncv5872ftdk)\" height=\"45.9375\" id=\"E3\" rx=\"10\" ry=\"10\" style=\"stroke: #A80036; stroke-width: 1.5;\" width=\"71\" x=\"604.5\" y=\"41\"/><text fill=\"#000000\" font-family=\"sans-serif\" font-size=\"12\" font-style=\"italic\" lengthAdjust=\"spacingAndGlyphs\" textLength=\"69\" x=\"605.5\" y=\"57.1387\">«attribute»</text><text fill=\"#000000\" font-family=\"sans-serif\" font-size=\"12\" lengthAdjust=\"spacingAndGlyphs\" textLength=\"24\" x=\"626\" y=\"71.1074\">a: A</text><line style=\"stroke: #A80036; stroke-width: 1.5;\" x1=\"605.5\" x2=\"674.5\" y1=\"78.9375\" y2=\"78.9375\"/></a><!--MD5=[ebbe1d658d1005bcc118a6aa81145e00]\n",
       "class E4--><a href=\"psysml:824349d9-f3af-4f57-b650-7b4ce1821d09\" target=\"_top\" title=\"psysml:824349d9-f3af-4f57-b650-7b4ce1821d09\" xlink:actuate=\"onRequest\" xlink:href=\"psysml:824349d9-f3af-4f57-b650-7b4ce1821d09\" xlink:show=\"new\" xlink:title=\"psysml:824349d9-f3af-4f57-b650-7b4ce1821d09\" xlink:type=\"simple\"><rect fill=\"#FEFECE\" filter=\"url(#fqncv5872ftdk)\" height=\"45.9375\" id=\"E4\" style=\"stroke: #A80036; stroke-width: 1.5;\" width=\"112\" x=\"457\" y=\"41\"/><text fill=\"#000000\" font-family=\"sans-serif\" font-size=\"12\" font-style=\"italic\" lengthAdjust=\"spacingAndGlyphs\" textLength=\"110\" x=\"458\" y=\"57.1387\">«calculation  def»</text><text fill=\"#000000\" font-family=\"sans-serif\" font-size=\"12\" lengthAdjust=\"spacingAndGlyphs\" textLength=\"7\" x=\"509.5\" y=\"71.1074\">F</text><line style=\"stroke: #A80036; stroke-width: 1.5;\" x1=\"458\" x2=\"568\" y1=\"78.9375\" y2=\"78.9375\"/></a><!--MD5=[270fce915f116d4de14055a7c1d9a0f3]\n",
       "class E5--><a href=\"psysml:8204b4e2-616f-4bbc-afa4-9ecd277b5579\" target=\"_top\" title=\"psysml:8204b4e2-616f-4bbc-afa4-9ecd277b5579\" xlink:actuate=\"onRequest\" xlink:href=\"psysml:8204b4e2-616f-4bbc-afa4-9ecd277b5579\" xlink:show=\"new\" xlink:title=\"psysml:8204b4e2-616f-4bbc-afa4-9ecd277b5579\" xlink:type=\"simple\"><rect fill=\"#FEFECE\" filter=\"url(#fqncv5872ftdk)\" height=\"45.9375\" id=\"E5\" rx=\"10\" ry=\"10\" style=\"stroke: #A80036; stroke-width: 1.5;\" width=\"71\" x=\"350.5\" y=\"41\"/><text fill=\"#000000\" font-family=\"sans-serif\" font-size=\"12\" font-style=\"italic\" lengthAdjust=\"spacingAndGlyphs\" textLength=\"69\" x=\"351.5\" y=\"57.1387\">«attribute»</text><text fill=\"#000000\" font-family=\"sans-serif\" font-size=\"12\" lengthAdjust=\"spacingAndGlyphs\" textLength=\"4\" x=\"382\" y=\"71.1074\">f</text><line style=\"stroke: #A80036; stroke-width: 1.5;\" x1=\"351.5\" x2=\"420.5\" y1=\"78.9375\" y2=\"78.9375\"/></a><!--MD5=[60a26617385b1d2d0262a64233df1f8d]\n",
       "class E6--><a href=\"psysml:86e22d1e-a4d5-4fc2-80cd-01d3f8e601c3\" target=\"_top\" title=\"psysml:86e22d1e-a4d5-4fc2-80cd-01d3f8e601c3\" xlink:actuate=\"onRequest\" xlink:href=\"psysml:86e22d1e-a4d5-4fc2-80cd-01d3f8e601c3\" xlink:show=\"new\" xlink:title=\"psysml:86e22d1e-a4d5-4fc2-80cd-01d3f8e601c3\" xlink:type=\"simple\"><rect fill=\"#FEFECE\" filter=\"url(#fqncv5872ftdk)\" height=\"45.9375\" id=\"E6\" rx=\"10\" ry=\"10\" style=\"stroke: #A80036; stroke-width: 1.5;\" width=\"71\" x=\"244.5\" y=\"41\"/><text fill=\"#000000\" font-family=\"sans-serif\" font-size=\"12\" font-style=\"italic\" lengthAdjust=\"spacingAndGlyphs\" textLength=\"69\" x=\"245.5\" y=\"57.1387\">«attribute»</text><text fill=\"#000000\" font-family=\"sans-serif\" font-size=\"12\" lengthAdjust=\"spacingAndGlyphs\" textLength=\"8\" x=\"274\" y=\"71.1074\">g</text><line style=\"stroke: #A80036; stroke-width: 1.5;\" x1=\"245.5\" x2=\"314.5\" y1=\"78.9375\" y2=\"78.9375\"/></a><!--MD5=[2156ba9850f5573cc1fc38a6a4b2f02b]\n",
       "class E7--><a href=\"psysml:5bd4ed77-91ea-4eb7-bbff-8ef8917960b7\" target=\"_top\" title=\"psysml:5bd4ed77-91ea-4eb7-bbff-8ef8917960b7\" xlink:actuate=\"onRequest\" xlink:href=\"psysml:5bd4ed77-91ea-4eb7-bbff-8ef8917960b7\" xlink:show=\"new\" xlink:title=\"psysml:5bd4ed77-91ea-4eb7-bbff-8ef8917960b7\" xlink:type=\"simple\"><rect fill=\"#FEFECE\" filter=\"url(#fqncv5872ftdk)\" height=\"45.9375\" id=\"E7\" rx=\"10\" ry=\"10\" style=\"stroke: #A80036; stroke-width: 1.5;\" width=\"71\" x=\"138.5\" y=\"41\"/><text fill=\"#000000\" font-family=\"sans-serif\" font-size=\"12\" font-style=\"italic\" lengthAdjust=\"spacingAndGlyphs\" textLength=\"69\" x=\"139.5\" y=\"57.1387\">«attribute»</text><text fill=\"#000000\" font-family=\"sans-serif\" font-size=\"12\" lengthAdjust=\"spacingAndGlyphs\" textLength=\"8\" x=\"168\" y=\"71.1074\">b</text><line style=\"stroke: #A80036; stroke-width: 1.5;\" x1=\"139.5\" x2=\"208.5\" y1=\"78.9375\" y2=\"78.9375\"/></a><!--MD5=[b9389687b975829384b498ac4b7476b2]\n",
       "class E8--><a href=\"psysml:88436cf5-d13a-4d80-b468-40a83b162e0f\" target=\"_top\" title=\"psysml:88436cf5-d13a-4d80-b468-40a83b162e0f\" xlink:actuate=\"onRequest\" xlink:href=\"psysml:88436cf5-d13a-4d80-b468-40a83b162e0f\" xlink:show=\"new\" xlink:title=\"psysml:88436cf5-d13a-4d80-b468-40a83b162e0f\" xlink:type=\"simple\"><rect fill=\"#FEFECE\" filter=\"url(#fqncv5872ftdk)\" height=\"45.9375\" id=\"E8\" rx=\"10\" ry=\"10\" style=\"stroke: #A80036; stroke-width: 1.5;\" width=\"71\" x=\"32.5\" y=\"41\"/><text fill=\"#000000\" font-family=\"sans-serif\" font-size=\"12\" font-style=\"italic\" lengthAdjust=\"spacingAndGlyphs\" textLength=\"69\" x=\"33.5\" y=\"57.1387\">«attribute»</text><text fill=\"#000000\" font-family=\"sans-serif\" font-size=\"12\" lengthAdjust=\"spacingAndGlyphs\" textLength=\"7\" x=\"62.5\" y=\"71.1074\">c</text><line style=\"stroke: #A80036; stroke-width: 1.5;\" x1=\"33.5\" x2=\"102.5\" y1=\"78.9375\" y2=\"78.9375\"/></a><!--MD5=[05d275557350bfb9b23a4ef7222b4c39]\n",
       "link E3 to E2--><a href=\"psysml:b5c275d4-de01-4c83-8a05-69f2b086225e\" target=\"_top\" title=\"psysml:b5c275d4-de01-4c83-8a05-69f2b086225e\" xlink:actuate=\"onRequest\" xlink:href=\"psysml:b5c275d4-de01-4c83-8a05-69f2b086225e\" xlink:show=\"new\" xlink:title=\"psysml:b5c275d4-de01-4c83-8a05-69f2b086225e\" xlink:type=\"simple\"><path d=\"M625.78,87.19 C615.5,103.23 601.08,125.73 587.52,146.9 \" fill=\"none\" id=\"E3-&gt;E2\" style=\"stroke: #A80036; stroke-width: 1.0;\"/><polygon fill=\"#FFFFFF\" points=\"576.67,163.82,581.0214,144.0446,592.8112,151.5945,576.67,163.82\" style=\"stroke: #A80036; stroke-width: 1.0;\"/><ellipse cx=\"585.7795\" cy=\"140.323\" fill=\"#A80036\" rx=\"2\" ry=\"2\" style=\"stroke: #A80036; stroke-width: 1.0;\"/><ellipse cx=\"594.2008\" cy=\"145.7158\" fill=\"#A80036\" rx=\"2\" ry=\"2\" style=\"stroke: #A80036; stroke-width: 1.0;\"/></a><!--MD5=[ddeed8deb2209213b62e6cfabaa108b2]\n",
       "reverse link E4 to E2--><a href=\"psysml:1d7d0081-d3e1-46bd-ad63-b0e63267b1e5\" target=\"_top\" title=\"psysml:1d7d0081-d3e1-46bd-ad63-b0e63267b1e5\" xlink:actuate=\"onRequest\" xlink:href=\"psysml:1d7d0081-d3e1-46bd-ad63-b0e63267b1e5\" xlink:show=\"new\" xlink:title=\"psysml:1d7d0081-d3e1-46bd-ad63-b0e63267b1e5\" xlink:type=\"simple\"><path d=\"M521.86,99.96 C526.75,119.25 532.87,143.36 538.05,163.82 \" fill=\"none\" id=\"E4&lt;-E2\" style=\"stroke: #A80036; stroke-width: 1.0;\"/><polygon fill=\"#FFFFFF\" points=\"518.62,87.19,516.22,93.99,521.5738,98.8208,523.9738,92.0208,518.62,87.19\" style=\"stroke: #A80036; stroke-width: 1.0;\"/><text fill=\"#000000\" font-family=\"sans-serif\" font-size=\"13\" lengthAdjust=\"spacingAndGlyphs\" textLength=\"8\" x=\"530\" y=\"130.0669\">p</text></a><!--MD5=[166379c2a92179fd7a484a0b15080100]\n",
       "@startuml\r\n",
       "skinparam wrapWidth 300\r\n",
       "hide circle\r\n",
       "\r\n",
       "package \"ParameterTest\" as E1  [[psysml:86781c8e-3979-42bc-84a0-50d047026621 ]]  {\r\n",
       "comp def \"A\" as E2  <<(T,blue) attribute  def>> [[psysml:2ec9bc29-3801-4d04-bd01-a8a7cc509576 ]] {\r\n",
       "- - attributes - -\r\n",
       "x: String\r\n",
       "y: A\r\n",
       "}\r\n",
       "comp usage \"a: A \" as E3  <<(T,blue) attribute>> [[psysml:904ee486-6b36-4246-8723-5e3acfd2e245 ]] {\r\n",
       "}\r\n",
       "comp def \"F\" as E4  <<(T,blue) calculation  def>> [[psysml:824349d9-f3af-4f57-b650-7b4ce1821d09 ]] {\r\n",
       "}\r\n",
       "comp usage \"f \" as E5  <<(T,blue) attribute>> [[psysml:8204b4e2-616f-4bbc-afa4-9ecd277b5579 ]] {\r\n",
       "}\r\n",
       "comp usage \"g \" as E6  <<(T,blue) attribute>> [[psysml:86e22d1e-a4d5-4fc2-80cd-01d3f8e601c3 ]] {\r\n",
       "}\r\n",
       "comp usage \"b \" as E7  <<(T,blue) attribute>> [[psysml:5bd4ed77-91ea-4eb7-bbff-8ef8917960b7 ]] {\r\n",
       "}\r\n",
       "comp usage \"c \" as E8  <<(T,blue) attribute>> [[psysml:88436cf5-d13a-4d80-b468-40a83b162e0f ]] {\r\n",
       "}\r\n",
       "}\r\n",
       "E3 - -:|> E2 [[psysml:b5c275d4-de01-4c83-8a05-69f2b086225e ]] \r\n",
       "E4 o- - E2 [[psysml:1d7d0081-d3e1-46bd-ad63-b0e63267b1e5 ]] : p\r\n",
       "@enduml\r\n",
       "\n",
       "PlantUML version 1.2020.13(Sat Jun 13 12:26:38 UTC 2020)\n",
       "(EPL source distribution)\n",
       "Java Runtime: OpenJDK Runtime Environment\n",
       "JVM: OpenJDK 64-Bit Server VM\n",
       "Default Encoding: UTF-8\n",
       "Language: en\n",
       "Country: null\n",
       "--></g></svg>"
      ]
     },
     "execution_count": 24,
     "metadata": {},
     "output_type": "execute_result"
    }
   ],
   "source": [
    "%viz --style=\"STDCOLOR\" --view=\"Tree\" \"ParameterTest\""
   ]
  },
  {
   "cell_type": "code",
   "execution_count": 25,
   "id": "079373c7",
   "metadata": {
    "execution": {
     "iopub.execute_input": "2022-03-03T09:56:15.906355Z",
     "iopub.status.busy": "2022-03-03T09:56:15.905723Z",
     "iopub.status.idle": "2022-03-03T09:56:15.910986Z",
     "shell.execute_reply": "2022-03-03T09:56:15.910623Z"
    }
   },
   "outputs": [
    {
     "data": {
      "image/svg+xml": [
       "<?xml version=\"1.0\" encoding=\"UTF-8\" standalone=\"no\"?><svg xmlns=\"http://www.w3.org/2000/svg\" xmlns:xlink=\"http://www.w3.org/1999/xlink\" contentScriptType=\"application/ecmascript\" contentStyleType=\"text/css\" height=\"12px\" preserveAspectRatio=\"none\" style=\"width:12px;height:12px;\" version=\"1.1\" viewBox=\"0 0 12 12\" width=\"12px\" zoomAndPan=\"magnify\"><defs/><g><!--MD5=[aeeef50f102b80d730deb6443d14f702]\n",
       "@startuml\r\n",
       "skinparam wrapWidth 300\r\n",
       "hide circle\r\n",
       "\r\n",
       "@enduml\r\n",
       "\n",
       "PlantUML version 1.2020.13(Sat Jun 13 12:26:38 UTC 2020)\n",
       "(EPL source distribution)\n",
       "Java Runtime: OpenJDK Runtime Environment\n",
       "JVM: OpenJDK 64-Bit Server VM\n",
       "Default Encoding: UTF-8\n",
       "Language: en\n",
       "Country: null\n",
       "--></g></svg>"
      ]
     },
     "execution_count": 25,
     "metadata": {},
     "output_type": "execute_result"
    }
   ],
   "source": [
    "%viz --style=\"STDCOLOR\" --view=\"State\" \"ParameterTest\""
   ]
  },
  {
   "cell_type": "code",
   "execution_count": 26,
   "id": "734b8cf2",
   "metadata": {
    "execution": {
     "iopub.execute_input": "2022-03-03T09:56:15.961434Z",
     "iopub.status.busy": "2022-03-03T09:56:15.960796Z",
     "iopub.status.idle": "2022-03-03T09:56:16.002178Z",
     "shell.execute_reply": "2022-03-03T09:56:16.001810Z"
    }
   },
   "outputs": [
    {
     "data": {
      "image/svg+xml": [
       "<?xml version=\"1.0\" encoding=\"UTF-8\" standalone=\"no\"?><svg xmlns=\"http://www.w3.org/2000/svg\" xmlns:xlink=\"http://www.w3.org/1999/xlink\" contentScriptType=\"application/ecmascript\" contentStyleType=\"text/css\" height=\"216px\" preserveAspectRatio=\"none\" style=\"width:744px;height:216px;\" version=\"1.1\" viewBox=\"0 0 744 216\" width=\"744px\" zoomAndPan=\"magnify\"><defs><filter height=\"300%\" id=\"fuqu6dv8xv0ys\" width=\"300%\" x=\"-1\" y=\"-1\"><feGaussianBlur result=\"blurOut\" stdDeviation=\"2.0\"/><feColorMatrix in=\"blurOut\" result=\"blurOut2\" type=\"matrix\" values=\"0 0 0 0 0 0 0 0 0 0 0 0 0 0 0 0 0 0 .4 0\"/><feOffset dx=\"4.0\" dy=\"4.0\" in=\"blurOut2\" result=\"blurOut3\"/><feBlend in=\"SourceGraphic\" in2=\"blurOut3\" mode=\"normal\"/></filter></defs><g><!--MD5=[fbc87193dbaf4d95561dea2c320d4a47]\n",
       "cluster E1--><a href=\"psysml:86781c8e-3979-42bc-84a0-50d047026621\" target=\"_top\" title=\"psysml:86781c8e-3979-42bc-84a0-50d047026621\" xlink:actuate=\"onRequest\" xlink:href=\"psysml:86781c8e-3979-42bc-84a0-50d047026621\" xlink:show=\"new\" xlink:title=\"psysml:86781c8e-3979-42bc-84a0-50d047026621\" xlink:type=\"simple\"><polygon fill=\"#FFFFFF\" filter=\"url(#fuqu6dv8xv0ys)\" points=\"16,6,124,6,131,28.2969,722,28.2969,722,204.72,16,204.72,16,6\" style=\"stroke: #000000; stroke-width: 1.5;\"/><line style=\"stroke: #000000; stroke-width: 1.5;\" x1=\"16\" x2=\"131\" y1=\"28.2969\" y2=\"28.2969\"/><text fill=\"#000000\" font-family=\"sans-serif\" font-size=\"14\" font-weight=\"bold\" lengthAdjust=\"spacingAndGlyphs\" textLength=\"102\" x=\"20\" y=\"20.9951\">ParameterTest</text></a><!--MD5=[f6df4d0ebaf0b5dfb2ced0ae5af7c670]\n",
       "cluster E4--><a href=\"psysml:824349d9-f3af-4f57-b650-7b4ce1821d09\" target=\"_top\" title=\"psysml:824349d9-f3af-4f57-b650-7b4ce1821d09\" xlink:actuate=\"onRequest\" xlink:href=\"psysml:824349d9-f3af-4f57-b650-7b4ce1821d09\" xlink:show=\"new\" xlink:title=\"psysml:824349d9-f3af-4f57-b650-7b4ce1821d09\" xlink:type=\"simple\"><rect fill=\"#FFFFFF\" filter=\"url(#fuqu6dv8xv0ys)\" height=\"110.72\" id=\"E4\" style=\"stroke: #A80036; stroke-width: 1.5;\" width=\"150\" x=\"556\" y=\"64\"/><rect fill=\"#FEFECE\" height=\"37.9375\" style=\"stroke: #A80036; stroke-width: 1.5;\" width=\"150\" x=\"556\" y=\"64\"/><text fill=\"#000000\" font-family=\"sans-serif\" font-size=\"12\" font-style=\"italic\" lengthAdjust=\"spacingAndGlyphs\" textLength=\"110\" x=\"576\" y=\"80.1387\">«calculation  def»</text><text fill=\"#000000\" font-family=\"sans-serif\" font-size=\"12\" lengthAdjust=\"spacingAndGlyphs\" textLength=\"7\" x=\"627.5\" y=\"94.1074\">F</text></a><g id=\"E1.E2\"><a href=\"psysml:2ec9bc29-3801-4d04-bd01-a8a7cc509576\" target=\"_top\" title=\"psysml:2ec9bc29-3801-4d04-bd01-a8a7cc509576\" xlink:actuate=\"onRequest\" xlink:href=\"psysml:2ec9bc29-3801-4d04-bd01-a8a7cc509576\" xlink:show=\"new\" xlink:title=\"psysml:2ec9bc29-3801-4d04-bd01-a8a7cc509576\" xlink:type=\"simple\"><rect fill=\"#FEFECE\" filter=\"url(#fuqu6dv8xv0ys)\" height=\"42.9375\" id=\"E2\" style=\"stroke: #A80036; stroke-width: 1.5;\" width=\"104\" x=\"413\" y=\"99\"/><text fill=\"#000000\" font-family=\"sans-serif\" font-size=\"12\" font-style=\"italic\" lengthAdjust=\"spacingAndGlyphs\" textLength=\"97\" x=\"416.5\" y=\"115.1387\">«attribute  def»</text><text fill=\"#000000\" font-family=\"sans-serif\" font-size=\"12\" lengthAdjust=\"spacingAndGlyphs\" textLength=\"8\" x=\"461\" y=\"129.1074\">A</text></a></g><!--MD5=[09b614a08d8cba4a07c9adeb5e0fee81]\n",
       "class E3--><a href=\"psysml:904ee486-6b36-4246-8723-5e3acfd2e245\" target=\"_top\" title=\"psysml:904ee486-6b36-4246-8723-5e3acfd2e245\" xlink:actuate=\"onRequest\" xlink:href=\"psysml:904ee486-6b36-4246-8723-5e3acfd2e245\" xlink:show=\"new\" xlink:title=\"psysml:904ee486-6b36-4246-8723-5e3acfd2e245\" xlink:type=\"simple\"><rect fill=\"#FEFECE\" filter=\"url(#fuqu6dv8xv0ys)\" height=\"45.9375\" id=\"E3\" rx=\"10\" ry=\"10\" style=\"stroke: #A80036; stroke-width: 1.5;\" width=\"71\" x=\"456.5\" y=\"41\"/><text fill=\"#000000\" font-family=\"sans-serif\" font-size=\"12\" font-style=\"italic\" lengthAdjust=\"spacingAndGlyphs\" textLength=\"69\" x=\"457.5\" y=\"57.1387\">«attribute»</text><text fill=\"#000000\" font-family=\"sans-serif\" font-size=\"12\" lengthAdjust=\"spacingAndGlyphs\" textLength=\"24\" x=\"478\" y=\"71.1074\">a: A</text><line style=\"stroke: #A80036; stroke-width: 1.5;\" x1=\"457.5\" x2=\"526.5\" y1=\"78.9375\" y2=\"78.9375\"/></a><!--MD5=[b9389687b975829384b498ac4b7476b2]\n",
       "class E8--><a href=\"psysml:8204b4e2-616f-4bbc-afa4-9ecd277b5579\" target=\"_top\" title=\"psysml:8204b4e2-616f-4bbc-afa4-9ecd277b5579\" xlink:actuate=\"onRequest\" xlink:href=\"psysml:8204b4e2-616f-4bbc-afa4-9ecd277b5579\" xlink:show=\"new\" xlink:title=\"psysml:8204b4e2-616f-4bbc-afa4-9ecd277b5579\" xlink:type=\"simple\"><rect fill=\"#FEFECE\" filter=\"url(#fuqu6dv8xv0ys)\" height=\"45.9375\" id=\"E8\" rx=\"10\" ry=\"10\" style=\"stroke: #A80036; stroke-width: 1.5;\" width=\"71\" x=\"350.5\" y=\"41\"/><text fill=\"#000000\" font-family=\"sans-serif\" font-size=\"12\" font-style=\"italic\" lengthAdjust=\"spacingAndGlyphs\" textLength=\"69\" x=\"351.5\" y=\"57.1387\">«attribute»</text><text fill=\"#000000\" font-family=\"sans-serif\" font-size=\"12\" lengthAdjust=\"spacingAndGlyphs\" textLength=\"4\" x=\"382\" y=\"71.1074\">f</text><line style=\"stroke: #A80036; stroke-width: 1.5;\" x1=\"351.5\" x2=\"420.5\" y1=\"78.9375\" y2=\"78.9375\"/></a><!--MD5=[fd4143e9d270a159db93a4ea2a975926]\n",
       "class E9--><a href=\"psysml:86e22d1e-a4d5-4fc2-80cd-01d3f8e601c3\" target=\"_top\" title=\"psysml:86e22d1e-a4d5-4fc2-80cd-01d3f8e601c3\" xlink:actuate=\"onRequest\" xlink:href=\"psysml:86e22d1e-a4d5-4fc2-80cd-01d3f8e601c3\" xlink:show=\"new\" xlink:title=\"psysml:86e22d1e-a4d5-4fc2-80cd-01d3f8e601c3\" xlink:type=\"simple\"><rect fill=\"#FEFECE\" filter=\"url(#fuqu6dv8xv0ys)\" height=\"45.9375\" id=\"E9\" rx=\"10\" ry=\"10\" style=\"stroke: #A80036; stroke-width: 1.5;\" width=\"71\" x=\"244.5\" y=\"41\"/><text fill=\"#000000\" font-family=\"sans-serif\" font-size=\"12\" font-style=\"italic\" lengthAdjust=\"spacingAndGlyphs\" textLength=\"69\" x=\"245.5\" y=\"57.1387\">«attribute»</text><text fill=\"#000000\" font-family=\"sans-serif\" font-size=\"12\" lengthAdjust=\"spacingAndGlyphs\" textLength=\"8\" x=\"274\" y=\"71.1074\">g</text><line style=\"stroke: #A80036; stroke-width: 1.5;\" x1=\"245.5\" x2=\"314.5\" y1=\"78.9375\" y2=\"78.9375\"/></a><!--MD5=[96f4274e9e20536e775497830990834d]\n",
       "class E10--><a href=\"psysml:5bd4ed77-91ea-4eb7-bbff-8ef8917960b7\" target=\"_top\" title=\"psysml:5bd4ed77-91ea-4eb7-bbff-8ef8917960b7\" xlink:actuate=\"onRequest\" xlink:href=\"psysml:5bd4ed77-91ea-4eb7-bbff-8ef8917960b7\" xlink:show=\"new\" xlink:title=\"psysml:5bd4ed77-91ea-4eb7-bbff-8ef8917960b7\" xlink:type=\"simple\"><rect fill=\"#FEFECE\" filter=\"url(#fuqu6dv8xv0ys)\" height=\"45.9375\" id=\"E10\" rx=\"10\" ry=\"10\" style=\"stroke: #A80036; stroke-width: 1.5;\" width=\"71\" x=\"138.5\" y=\"41\"/><text fill=\"#000000\" font-family=\"sans-serif\" font-size=\"12\" font-style=\"italic\" lengthAdjust=\"spacingAndGlyphs\" textLength=\"69\" x=\"139.5\" y=\"57.1387\">«attribute»</text><text fill=\"#000000\" font-family=\"sans-serif\" font-size=\"12\" lengthAdjust=\"spacingAndGlyphs\" textLength=\"8\" x=\"168\" y=\"71.1074\">b</text><line style=\"stroke: #A80036; stroke-width: 1.5;\" x1=\"139.5\" x2=\"208.5\" y1=\"78.9375\" y2=\"78.9375\"/></a><!--MD5=[1dd1bfd58a279cf63c5f349dbc8fc6a1]\n",
       "class E11--><a href=\"psysml:88436cf5-d13a-4d80-b468-40a83b162e0f\" target=\"_top\" title=\"psysml:88436cf5-d13a-4d80-b468-40a83b162e0f\" xlink:actuate=\"onRequest\" xlink:href=\"psysml:88436cf5-d13a-4d80-b468-40a83b162e0f\" xlink:show=\"new\" xlink:title=\"psysml:88436cf5-d13a-4d80-b468-40a83b162e0f\" xlink:type=\"simple\"><rect fill=\"#FEFECE\" filter=\"url(#fuqu6dv8xv0ys)\" height=\"45.9375\" id=\"E11\" rx=\"10\" ry=\"10\" style=\"stroke: #A80036; stroke-width: 1.5;\" width=\"71\" x=\"32.5\" y=\"41\"/><text fill=\"#000000\" font-family=\"sans-serif\" font-size=\"12\" font-style=\"italic\" lengthAdjust=\"spacingAndGlyphs\" textLength=\"69\" x=\"33.5\" y=\"57.1387\">«attribute»</text><text fill=\"#000000\" font-family=\"sans-serif\" font-size=\"12\" lengthAdjust=\"spacingAndGlyphs\" textLength=\"7\" x=\"62.5\" y=\"71.1074\">c</text><line style=\"stroke: #A80036; stroke-width: 1.5;\" x1=\"33.5\" x2=\"102.5\" y1=\"78.9375\" y2=\"78.9375\"/></a><text fill=\"#000000\" font-family=\"sans-serif\" font-size=\"14\" lengthAdjust=\"spacingAndGlyphs\" textLength=\"9\" x=\"569.5\" y=\"42.6982\">p</text><rect fill=\"#A80036\" height=\"12\" style=\"stroke: #FEFECE; stroke-width: 1.5;\" width=\"12\" x=\"568\" y=\"58\"/><text fill=\"#000000\" font-family=\"sans-serif\" font-size=\"14\" lengthAdjust=\"spacingAndGlyphs\" textLength=\"9\" x=\"616.5\" y=\"42.6982\">q</text><rect fill=\"#A80036\" height=\"12\" style=\"stroke: #FEFECE; stroke-width: 1.5;\" width=\"12\" x=\"615\" y=\"58\"/><text fill=\"#000000\" font-family=\"sans-serif\" font-size=\"14\" lengthAdjust=\"spacingAndGlyphs\" textLength=\"39\" x=\"601.5\" y=\"193.7151\">result</text><rect fill=\"#A80036\" height=\"12\" style=\"stroke: #FEFECE; stroke-width: 1.5;\" width=\"12\" x=\"615\" y=\"168.72\"/><!--MD5=[05d275557350bfb9b23a4ef7222b4c39]\n",
       "link E3 to E2--><a href=\"psysml:b5c275d4-de01-4c83-8a05-69f2b086225e\" target=\"_top\" title=\"psysml:b5c275d4-de01-4c83-8a05-69f2b086225e\" xlink:actuate=\"onRequest\" xlink:href=\"psysml:b5c275d4-de01-4c83-8a05-69f2b086225e\" xlink:show=\"new\" xlink:title=\"psysml:b5c275d4-de01-4c83-8a05-69f2b086225e\" xlink:type=\"simple\"><path d=\"M481.02,87.17 C480.96,87.29 480.9,87.41 480.84,87.53 \" fill=\"none\" id=\"E3-&gt;E2\" style=\"stroke: #A80036; stroke-width: 1.0;\"/><polygon fill=\"#FFFFFF\" points=\"475.19,98.93,477.3425,78.7963,489.8904,85.0052,475.19,98.93\" style=\"stroke: #A80036; stroke-width: 1.0;\"/><ellipse cx=\"481.663\" cy=\"74.5745\" fill=\"#A80036\" rx=\"2\" ry=\"2\" style=\"stroke: #A80036; stroke-width: 1.0;\"/><ellipse cx=\"490.6257\" cy=\"79.0095\" fill=\"#A80036\" rx=\"2\" ry=\"2\" style=\"stroke: #A80036; stroke-width: 1.0;\"/></a><!--MD5=[c7ad114427d05ecede463735680d3f63]\n",
       "@startuml\r\n",
       "skinparam ranksep 10\r\n",
       "skinparam rectangle {\r\n",
       " backgroundColor<<block>> LightGreen\r\n",
       "}\r\n",
       "skinparam wrapWidth 300\r\n",
       "hide circle\r\n",
       "\r\n",
       "package \"ParameterTest\" as E1  [[psysml:86781c8e-3979-42bc-84a0-50d047026621 ]]  {\r\n",
       "def \"A\" as E2  <<(T,blue) attribute  def>> [[psysml:2ec9bc29-3801-4d04-bd01-a8a7cc509576 ]] \r\n",
       "comp usage \"a: A \" as E3  <<(T,blue) attribute>> [[psysml:904ee486-6b36-4246-8723-5e3acfd2e245 ]] {\r\n",
       "}\r\n",
       "rec def \"F\" as E4  <<(T,blue) calculation  def>> [[psysml:824349d9-f3af-4f57-b650-7b4ce1821d09 ]] {\r\n",
       "portin \"p\" as E5  [[psysml:1d7d0081-d3e1-46bd-ad63-b0e63267b1e5 ]] \r\n",
       "portin \"q\" as E6  [[psysml:21dced71-d174-49eb-b20b-d0423025e0cf ]] \r\n",
       "portout \"result\" as E7  [[psysml:89ad9a9d-29f0-45e8-8d07-ebce693a6326 ]] \r\n",
       "}\r\n",
       "\r\n",
       "comp usage \"f \" as E8  <<(T,blue) attribute>> [[psysml:8204b4e2-616f-4bbc-afa4-9ecd277b5579 ]] {\r\n",
       "}\r\n",
       "comp usage \"g \" as E9  <<(T,blue) attribute>> [[psysml:86e22d1e-a4d5-4fc2-80cd-01d3f8e601c3 ]] {\r\n",
       "}\r\n",
       "comp usage \"b \" as E10  <<(T,blue) attribute>> [[psysml:5bd4ed77-91ea-4eb7-bbff-8ef8917960b7 ]] {\r\n",
       "}\r\n",
       "comp usage \"c \" as E11  <<(T,blue) attribute>> [[psysml:88436cf5-d13a-4d80-b468-40a83b162e0f ]] {\r\n",
       "}\r\n",
       "}\r\n",
       "E3 - -:|> E2 [[psysml:b5c275d4-de01-4c83-8a05-69f2b086225e ]] \r\n",
       "@enduml\r\n",
       "\n",
       "PlantUML version 1.2020.13(Sat Jun 13 12:26:38 UTC 2020)\n",
       "(EPL source distribution)\n",
       "Java Runtime: OpenJDK Runtime Environment\n",
       "JVM: OpenJDK 64-Bit Server VM\n",
       "Default Encoding: UTF-8\n",
       "Language: en\n",
       "Country: null\n",
       "--></g></svg>"
      ]
     },
     "execution_count": 26,
     "metadata": {},
     "output_type": "execute_result"
    }
   ],
   "source": [
    "%viz --style=\"STDCOLOR\" --view=\"Interconnection\" \"ParameterTest\""
   ]
  },
  {
   "cell_type": "code",
   "execution_count": 27,
   "id": "d5e5bb8e",
   "metadata": {
    "execution": {
     "iopub.execute_input": "2022-03-03T09:56:16.051713Z",
     "iopub.status.busy": "2022-03-03T09:56:16.051307Z",
     "iopub.status.idle": "2022-03-03T09:56:16.075542Z",
     "shell.execute_reply": "2022-03-03T09:56:16.075863Z"
    }
   },
   "outputs": [
    {
     "data": {
      "image/svg+xml": [
       "<?xml version=\"1.0\" encoding=\"UTF-8\" standalone=\"no\"?><svg xmlns=\"http://www.w3.org/2000/svg\" xmlns:xlink=\"http://www.w3.org/1999/xlink\" contentScriptType=\"application/ecmascript\" contentStyleType=\"text/css\" height=\"162px\" preserveAspectRatio=\"none\" style=\"width:176px;height:162px;\" version=\"1.1\" viewBox=\"0 0 176 162\" width=\"176px\" zoomAndPan=\"magnify\"><defs><filter height=\"300%\" id=\"f1abmykthh8suz\" width=\"300%\" x=\"-1\" y=\"-1\"><feGaussianBlur result=\"blurOut\" stdDeviation=\"2.0\"/><feColorMatrix in=\"blurOut\" result=\"blurOut2\" type=\"matrix\" values=\"0 0 0 0 0 0 0 0 0 0 0 0 0 0 0 0 0 0 .4 0\"/><feOffset dx=\"4.0\" dy=\"4.0\" in=\"blurOut2\" result=\"blurOut3\"/><feBlend in=\"SourceGraphic\" in2=\"blurOut3\" mode=\"normal\"/></filter></defs><g><!--MD5=[fbc87193dbaf4d95561dea2c320d4a47]\n",
       "cluster E1--><a href=\"psysml:824349d9-f3af-4f57-b650-7b4ce1821d09\" target=\"_top\" title=\"psysml:824349d9-f3af-4f57-b650-7b4ce1821d09\" xlink:actuate=\"onRequest\" xlink:href=\"psysml:824349d9-f3af-4f57-b650-7b4ce1821d09\" xlink:show=\"new\" xlink:title=\"psysml:824349d9-f3af-4f57-b650-7b4ce1821d09\" xlink:type=\"simple\"><rect fill=\"#FFFFFF\" filter=\"url(#f1abmykthh8suz)\" height=\"87.72\" id=\"E1\" style=\"stroke: #A80036; stroke-width: 1.5;\" width=\"150\" x=\"7\" y=\"42.0986\"/><rect fill=\"#FEFECE\" height=\"37.9375\" style=\"stroke: #A80036; stroke-width: 1.5;\" width=\"150\" x=\"7\" y=\"42.0986\"/><text fill=\"#000000\" font-family=\"sans-serif\" font-size=\"12\" font-style=\"italic\" lengthAdjust=\"spacingAndGlyphs\" textLength=\"110\" x=\"27\" y=\"58.2373\">«calculation  def»</text><text fill=\"#000000\" font-family=\"sans-serif\" font-size=\"12\" lengthAdjust=\"spacingAndGlyphs\" textLength=\"7\" x=\"78.5\" y=\"72.2061\">F</text></a><text fill=\"#000000\" font-family=\"sans-serif\" font-size=\"14\" lengthAdjust=\"spacingAndGlyphs\" textLength=\"9\" x=\"20.5\" y=\"20.7969\">p</text><rect fill=\"#A80036\" height=\"12\" style=\"stroke: #FEFECE; stroke-width: 1.5;\" width=\"12\" x=\"19\" y=\"36.0986\"/><text fill=\"#000000\" font-family=\"sans-serif\" font-size=\"14\" lengthAdjust=\"spacingAndGlyphs\" textLength=\"9\" x=\"67.5\" y=\"20.7969\">q</text><rect fill=\"#A80036\" height=\"12\" style=\"stroke: #FEFECE; stroke-width: 1.5;\" width=\"12\" x=\"66\" y=\"36.0986\"/><text fill=\"#000000\" font-family=\"sans-serif\" font-size=\"14\" lengthAdjust=\"spacingAndGlyphs\" textLength=\"39\" x=\"52.5\" y=\"148.8138\">result</text><rect fill=\"#A80036\" height=\"12\" style=\"stroke: #FEFECE; stroke-width: 1.5;\" width=\"12\" x=\"66\" y=\"123.8186\"/><!--MD5=[cd23b38a9eda54bdf4dd4f5a4f075002]\n",
       "@startuml\r\n",
       "skinparam ranksep 8\r\n",
       "skinparam wrapWidth 300\r\n",
       "hide circle\r\n",
       "\r\n",
       "rec def \"F\" as E1  <<(T,blue) calculation  def>> [[psysml:824349d9-f3af-4f57-b650-7b4ce1821d09 ]] {\r\n",
       "portin \"p\" as E2  [[psysml:1d7d0081-d3e1-46bd-ad63-b0e63267b1e5 ]] \r\n",
       "portin \"q\" as E3  [[psysml:21dced71-d174-49eb-b20b-d0423025e0cf ]] \r\n",
       "portout \"result\" as E4  [[psysml:89ad9a9d-29f0-45e8-8d07-ebce693a6326 ]] \r\n",
       "}\r\n",
       "\r\n",
       "@enduml\r\n",
       "\n",
       "PlantUML version 1.2020.13(Sat Jun 13 12:26:38 UTC 2020)\n",
       "(EPL source distribution)\n",
       "Java Runtime: OpenJDK Runtime Environment\n",
       "JVM: OpenJDK 64-Bit Server VM\n",
       "Default Encoding: UTF-8\n",
       "Language: en\n",
       "Country: null\n",
       "--></g></svg>"
      ]
     },
     "execution_count": 27,
     "metadata": {},
     "output_type": "execute_result"
    }
   ],
   "source": [
    "%viz --style=\"STDCOLOR\" --view=\"Action\" \"ParameterTest\""
   ]
  },
  {
   "cell_type": "code",
   "execution_count": 28,
   "id": "234b40f5",
   "metadata": {
    "execution": {
     "iopub.execute_input": "2022-03-03T09:56:16.126025Z",
     "iopub.status.busy": "2022-03-03T09:56:16.125616Z",
     "iopub.status.idle": "2022-03-03T09:56:16.130837Z",
     "shell.execute_reply": "2022-03-03T09:56:16.131152Z"
    }
   },
   "outputs": [
    {
     "data": {
      "image/svg+xml": [
       "<?xml version=\"1.0\" encoding=\"UTF-8\" standalone=\"no\"?><svg xmlns=\"http://www.w3.org/2000/svg\" xmlns:xlink=\"http://www.w3.org/1999/xlink\" contentScriptType=\"application/ecmascript\" contentStyleType=\"text/css\" height=\"12px\" preserveAspectRatio=\"none\" style=\"width:12px;height:12px;\" version=\"1.1\" viewBox=\"0 0 12 12\" width=\"12px\" zoomAndPan=\"magnify\"><defs/><g><!--MD5=[6c4bca67b4d71758159a5a7f1f1e1fc2]\n",
       "@startuml\r\n",
       "skinparam roundcorner 20\r\n",
       "skinparam BoxPadding 20\r\n",
       "skinparam SequenceBoxBackgroundColor #white\r\n",
       "skinparam style strictuml\r\n",
       "skinparam maxMessageSize 100\r\n",
       "skinparam wrapWidth 300\r\n",
       "hide circle\r\n",
       "\r\n",
       "@enduml\r\n",
       "\n",
       "PlantUML version 1.2020.13(Sat Jun 13 12:26:38 UTC 2020)\n",
       "(EPL source distribution)\n",
       "Java Runtime: OpenJDK Runtime Environment\n",
       "JVM: OpenJDK 64-Bit Server VM\n",
       "Default Encoding: UTF-8\n",
       "Language: en\n",
       "Country: null\n",
       "--></g></svg>"
      ]
     },
     "execution_count": 28,
     "metadata": {},
     "output_type": "execute_result"
    }
   ],
   "source": [
    "%viz --style=\"STDCOLOR\" --view=\"Sequence\" \"ParameterTest\""
   ]
  },
  {
   "cell_type": "code",
   "execution_count": 29,
   "id": "183f1b01",
   "metadata": {
    "execution": {
     "iopub.execute_input": "2022-03-03T09:56:16.181330Z",
     "iopub.status.busy": "2022-03-03T09:56:16.180914Z",
     "iopub.status.idle": "2022-03-03T09:56:16.236467Z",
     "shell.execute_reply": "2022-03-03T09:56:16.236104Z"
    }
   },
   "outputs": [
    {
     "data": {
      "image/svg+xml": [
       "<?xml version=\"1.0\" encoding=\"UTF-8\" standalone=\"no\"?><svg xmlns=\"http://www.w3.org/2000/svg\" xmlns:xlink=\"http://www.w3.org/1999/xlink\" contentScriptType=\"application/ecmascript\" contentStyleType=\"text/css\" height=\"403px\" preserveAspectRatio=\"none\" style=\"width:744px;height:403px;\" version=\"1.1\" viewBox=\"0 0 744 403\" width=\"744px\" zoomAndPan=\"magnify\"><defs><filter height=\"300%\" id=\"f1s5djdgbe68s0\" width=\"300%\" x=\"-1\" y=\"-1\"><feGaussianBlur result=\"blurOut\" stdDeviation=\"2.0\"/><feColorMatrix in=\"blurOut\" result=\"blurOut2\" type=\"matrix\" values=\"0 0 0 0 0 0 0 0 0 0 0 0 0 0 0 0 0 0 .4 0\"/><feOffset dx=\"4.0\" dy=\"4.0\" in=\"blurOut2\" result=\"blurOut3\"/><feBlend in=\"SourceGraphic\" in2=\"blurOut3\" mode=\"normal\"/></filter></defs><g><!--MD5=[fbc87193dbaf4d95561dea2c320d4a47]\n",
       "cluster E1--><a href=\"psysml:86781c8e-3979-42bc-84a0-50d047026621\" target=\"_top\" title=\"psysml:86781c8e-3979-42bc-84a0-50d047026621\" xlink:actuate=\"onRequest\" xlink:href=\"psysml:86781c8e-3979-42bc-84a0-50d047026621\" xlink:show=\"new\" xlink:title=\"psysml:86781c8e-3979-42bc-84a0-50d047026621\" xlink:type=\"simple\"><polygon fill=\"#FFFFFF\" filter=\"url(#f1s5djdgbe68s0)\" points=\"16,6,124,6,131,28.2969,722,28.2969,722,391.72,16,391.72,16,6\" style=\"stroke: #000000; stroke-width: 1.5;\"/><line style=\"stroke: #000000; stroke-width: 1.5;\" x1=\"16\" x2=\"131\" y1=\"28.2969\" y2=\"28.2969\"/><text fill=\"#000000\" font-family=\"sans-serif\" font-size=\"14\" font-weight=\"bold\" lengthAdjust=\"spacingAndGlyphs\" textLength=\"102\" x=\"20\" y=\"20.9951\">ParameterTest</text></a><!--MD5=[f6df4d0ebaf0b5dfb2ced0ae5af7c670]\n",
       "cluster E4--><a href=\"psysml:824349d9-f3af-4f57-b650-7b4ce1821d09\" target=\"_top\" title=\"psysml:824349d9-f3af-4f57-b650-7b4ce1821d09\" xlink:actuate=\"onRequest\" xlink:href=\"psysml:824349d9-f3af-4f57-b650-7b4ce1821d09\" xlink:show=\"new\" xlink:title=\"psysml:824349d9-f3af-4f57-b650-7b4ce1821d09\" xlink:type=\"simple\"><rect fill=\"#FFFFFF\" filter=\"url(#f1s5djdgbe68s0)\" height=\"297.72\" id=\"E4\" style=\"stroke: #A80036; stroke-width: 1.5;\" width=\"150\" x=\"556\" y=\"64\"/><rect fill=\"#FEFECE\" height=\"37.9375\" style=\"stroke: #A80036; stroke-width: 1.5;\" width=\"150\" x=\"556\" y=\"64\"/><text fill=\"#000000\" font-family=\"sans-serif\" font-size=\"12\" font-style=\"italic\" lengthAdjust=\"spacingAndGlyphs\" textLength=\"110\" x=\"576\" y=\"80.1387\">«calculation  def»</text><text fill=\"#000000\" font-family=\"sans-serif\" font-size=\"12\" lengthAdjust=\"spacingAndGlyphs\" textLength=\"7\" x=\"627.5\" y=\"94.1074\">F</text></a><!--MD5=[b4997ac47864f28c2f74865a473b2911]\n",
       "class E2--><a href=\"psysml:2ec9bc29-3801-4d04-bd01-a8a7cc509576\" target=\"_top\" title=\"psysml:2ec9bc29-3801-4d04-bd01-a8a7cc509576\" xlink:actuate=\"onRequest\" xlink:href=\"psysml:2ec9bc29-3801-4d04-bd01-a8a7cc509576\" xlink:show=\"new\" xlink:title=\"psysml:2ec9bc29-3801-4d04-bd01-a8a7cc509576\" xlink:type=\"simple\"><rect fill=\"#FEFECE\" filter=\"url(#f1s5djdgbe68s0)\" height=\"88.3516\" id=\"E2\" style=\"stroke: #A80036; stroke-width: 1.5;\" width=\"99\" x=\"418.5\" y=\"147\"/><text fill=\"#000000\" font-family=\"sans-serif\" font-size=\"12\" font-style=\"italic\" lengthAdjust=\"spacingAndGlyphs\" textLength=\"97\" x=\"419.5\" y=\"163.1387\">«attribute  def»</text><text fill=\"#000000\" font-family=\"sans-serif\" font-size=\"12\" lengthAdjust=\"spacingAndGlyphs\" textLength=\"8\" x=\"464\" y=\"177.1074\">A</text><line style=\"stroke: #A80036; stroke-width: 1.5;\" x1=\"419.5\" x2=\"516.5\" y1=\"184.9375\" y2=\"184.9375\"/><text fill=\"#000000\" font-family=\"sans-serif\" font-size=\"11\" lengthAdjust=\"spacingAndGlyphs\" textLength=\"48\" x=\"424.5\" y=\"215.9526\">x: String</text><text fill=\"#000000\" font-family=\"sans-serif\" font-size=\"11\" lengthAdjust=\"spacingAndGlyphs\" textLength=\"21\" x=\"424.5\" y=\"228.7573\">y: A</text><line style=\"stroke: #A80036; stroke-width: 1.0;\" x1=\"419.5\" x2=\"440.5\" y1=\"199.3398\" y2=\"199.3398\"/><text fill=\"#000000\" font-family=\"sans-serif\" font-size=\"11\" lengthAdjust=\"spacingAndGlyphs\" textLength=\"55\" x=\"440.5\" y=\"202.6479\">attributes</text><line style=\"stroke: #A80036; stroke-width: 1.0;\" x1=\"495.5\" x2=\"516.5\" y1=\"199.3398\" y2=\"199.3398\"/></a><!--MD5=[09b614a08d8cba4a07c9adeb5e0fee81]\n",
       "class E3--><a href=\"psysml:904ee486-6b36-4246-8723-5e3acfd2e245\" target=\"_top\" title=\"psysml:904ee486-6b36-4246-8723-5e3acfd2e245\" xlink:actuate=\"onRequest\" xlink:href=\"psysml:904ee486-6b36-4246-8723-5e3acfd2e245\" xlink:show=\"new\" xlink:title=\"psysml:904ee486-6b36-4246-8723-5e3acfd2e245\" xlink:type=\"simple\"><rect fill=\"#FEFECE\" filter=\"url(#f1s5djdgbe68s0)\" height=\"45.9375\" id=\"E3\" rx=\"10\" ry=\"10\" style=\"stroke: #A80036; stroke-width: 1.5;\" width=\"71\" x=\"456.5\" y=\"41\"/><text fill=\"#000000\" font-family=\"sans-serif\" font-size=\"12\" font-style=\"italic\" lengthAdjust=\"spacingAndGlyphs\" textLength=\"69\" x=\"457.5\" y=\"57.1387\">«attribute»</text><text fill=\"#000000\" font-family=\"sans-serif\" font-size=\"12\" lengthAdjust=\"spacingAndGlyphs\" textLength=\"24\" x=\"478\" y=\"71.1074\">a: A</text><line style=\"stroke: #A80036; stroke-width: 1.5;\" x1=\"457.5\" x2=\"526.5\" y1=\"78.9375\" y2=\"78.9375\"/></a><!--MD5=[b9389687b975829384b498ac4b7476b2]\n",
       "class E8--><a href=\"psysml:8204b4e2-616f-4bbc-afa4-9ecd277b5579\" target=\"_top\" title=\"psysml:8204b4e2-616f-4bbc-afa4-9ecd277b5579\" xlink:actuate=\"onRequest\" xlink:href=\"psysml:8204b4e2-616f-4bbc-afa4-9ecd277b5579\" xlink:show=\"new\" xlink:title=\"psysml:8204b4e2-616f-4bbc-afa4-9ecd277b5579\" xlink:type=\"simple\"><rect fill=\"#FEFECE\" filter=\"url(#f1s5djdgbe68s0)\" height=\"45.9375\" id=\"E8\" rx=\"10\" ry=\"10\" style=\"stroke: #A80036; stroke-width: 1.5;\" width=\"71\" x=\"350.5\" y=\"41\"/><text fill=\"#000000\" font-family=\"sans-serif\" font-size=\"12\" font-style=\"italic\" lengthAdjust=\"spacingAndGlyphs\" textLength=\"69\" x=\"351.5\" y=\"57.1387\">«attribute»</text><text fill=\"#000000\" font-family=\"sans-serif\" font-size=\"12\" lengthAdjust=\"spacingAndGlyphs\" textLength=\"4\" x=\"382\" y=\"71.1074\">f</text><line style=\"stroke: #A80036; stroke-width: 1.5;\" x1=\"351.5\" x2=\"420.5\" y1=\"78.9375\" y2=\"78.9375\"/></a><!--MD5=[fd4143e9d270a159db93a4ea2a975926]\n",
       "class E9--><a href=\"psysml:86e22d1e-a4d5-4fc2-80cd-01d3f8e601c3\" target=\"_top\" title=\"psysml:86e22d1e-a4d5-4fc2-80cd-01d3f8e601c3\" xlink:actuate=\"onRequest\" xlink:href=\"psysml:86e22d1e-a4d5-4fc2-80cd-01d3f8e601c3\" xlink:show=\"new\" xlink:title=\"psysml:86e22d1e-a4d5-4fc2-80cd-01d3f8e601c3\" xlink:type=\"simple\"><rect fill=\"#FEFECE\" filter=\"url(#f1s5djdgbe68s0)\" height=\"45.9375\" id=\"E9\" rx=\"10\" ry=\"10\" style=\"stroke: #A80036; stroke-width: 1.5;\" width=\"71\" x=\"244.5\" y=\"41\"/><text fill=\"#000000\" font-family=\"sans-serif\" font-size=\"12\" font-style=\"italic\" lengthAdjust=\"spacingAndGlyphs\" textLength=\"69\" x=\"245.5\" y=\"57.1387\">«attribute»</text><text fill=\"#000000\" font-family=\"sans-serif\" font-size=\"12\" lengthAdjust=\"spacingAndGlyphs\" textLength=\"8\" x=\"274\" y=\"71.1074\">g</text><line style=\"stroke: #A80036; stroke-width: 1.5;\" x1=\"245.5\" x2=\"314.5\" y1=\"78.9375\" y2=\"78.9375\"/></a><!--MD5=[96f4274e9e20536e775497830990834d]\n",
       "class E10--><a href=\"psysml:5bd4ed77-91ea-4eb7-bbff-8ef8917960b7\" target=\"_top\" title=\"psysml:5bd4ed77-91ea-4eb7-bbff-8ef8917960b7\" xlink:actuate=\"onRequest\" xlink:href=\"psysml:5bd4ed77-91ea-4eb7-bbff-8ef8917960b7\" xlink:show=\"new\" xlink:title=\"psysml:5bd4ed77-91ea-4eb7-bbff-8ef8917960b7\" xlink:type=\"simple\"><rect fill=\"#FEFECE\" filter=\"url(#f1s5djdgbe68s0)\" height=\"45.9375\" id=\"E10\" rx=\"10\" ry=\"10\" style=\"stroke: #A80036; stroke-width: 1.5;\" width=\"71\" x=\"138.5\" y=\"41\"/><text fill=\"#000000\" font-family=\"sans-serif\" font-size=\"12\" font-style=\"italic\" lengthAdjust=\"spacingAndGlyphs\" textLength=\"69\" x=\"139.5\" y=\"57.1387\">«attribute»</text><text fill=\"#000000\" font-family=\"sans-serif\" font-size=\"12\" lengthAdjust=\"spacingAndGlyphs\" textLength=\"8\" x=\"168\" y=\"71.1074\">b</text><line style=\"stroke: #A80036; stroke-width: 1.5;\" x1=\"139.5\" x2=\"208.5\" y1=\"78.9375\" y2=\"78.9375\"/></a><!--MD5=[1dd1bfd58a279cf63c5f349dbc8fc6a1]\n",
       "class E11--><a href=\"psysml:88436cf5-d13a-4d80-b468-40a83b162e0f\" target=\"_top\" title=\"psysml:88436cf5-d13a-4d80-b468-40a83b162e0f\" xlink:actuate=\"onRequest\" xlink:href=\"psysml:88436cf5-d13a-4d80-b468-40a83b162e0f\" xlink:show=\"new\" xlink:title=\"psysml:88436cf5-d13a-4d80-b468-40a83b162e0f\" xlink:type=\"simple\"><rect fill=\"#FEFECE\" filter=\"url(#f1s5djdgbe68s0)\" height=\"45.9375\" id=\"E11\" rx=\"10\" ry=\"10\" style=\"stroke: #A80036; stroke-width: 1.5;\" width=\"71\" x=\"32.5\" y=\"41\"/><text fill=\"#000000\" font-family=\"sans-serif\" font-size=\"12\" font-style=\"italic\" lengthAdjust=\"spacingAndGlyphs\" textLength=\"69\" x=\"33.5\" y=\"57.1387\">«attribute»</text><text fill=\"#000000\" font-family=\"sans-serif\" font-size=\"12\" lengthAdjust=\"spacingAndGlyphs\" textLength=\"7\" x=\"62.5\" y=\"71.1074\">c</text><line style=\"stroke: #A80036; stroke-width: 1.5;\" x1=\"33.5\" x2=\"102.5\" y1=\"78.9375\" y2=\"78.9375\"/></a><text fill=\"#000000\" font-family=\"sans-serif\" font-size=\"14\" lengthAdjust=\"spacingAndGlyphs\" textLength=\"9\" x=\"569.5\" y=\"42.6982\">p</text><rect fill=\"#A80036\" height=\"12\" style=\"stroke: #FEFECE; stroke-width: 1.5;\" width=\"12\" x=\"568\" y=\"58\"/><text fill=\"#000000\" font-family=\"sans-serif\" font-size=\"14\" lengthAdjust=\"spacingAndGlyphs\" textLength=\"9\" x=\"616.5\" y=\"42.6982\">q</text><rect fill=\"#A80036\" height=\"12\" style=\"stroke: #FEFECE; stroke-width: 1.5;\" width=\"12\" x=\"615\" y=\"58\"/><text fill=\"#000000\" font-family=\"sans-serif\" font-size=\"14\" lengthAdjust=\"spacingAndGlyphs\" textLength=\"39\" x=\"601.5\" y=\"380.7151\">result</text><rect fill=\"#A80036\" height=\"12\" style=\"stroke: #FEFECE; stroke-width: 1.5;\" width=\"12\" x=\"615\" y=\"355.72\"/><!--MD5=[05d275557350bfb9b23a4ef7222b4c39]\n",
       "link E3 to E2--><a href=\"psysml:b5c275d4-de01-4c83-8a05-69f2b086225e\" target=\"_top\" title=\"psysml:b5c275d4-de01-4c83-8a05-69f2b086225e\" xlink:actuate=\"onRequest\" xlink:href=\"psysml:b5c275d4-de01-4c83-8a05-69f2b086225e\" xlink:show=\"new\" xlink:title=\"psysml:b5c275d4-de01-4c83-8a05-69f2b086225e\" xlink:type=\"simple\"><path d=\"M487.76,87.06 C485.61,98.3 482.86,112.6 480.11,126.95 \" fill=\"none\" id=\"E3-&gt;E2\" style=\"stroke: #A80036; stroke-width: 1.0;\"/><polygon fill=\"#FFFFFF\" points=\"476.27,146.93,472.9781,126.9509,486.727,129.5907,476.27,146.93\" style=\"stroke: #A80036; stroke-width: 1.0;\"/><ellipse cx=\"476.017\" cy=\"121.7303\" fill=\"#A80036\" rx=\"2\" ry=\"2\" style=\"stroke: #A80036; stroke-width: 1.0;\"/><ellipse cx=\"485.8376\" cy=\"123.6158\" fill=\"#A80036\" rx=\"2\" ry=\"2\" style=\"stroke: #A80036; stroke-width: 1.0;\"/></a><!--MD5=[2c571a3af381c0abe2505d2d686d236d]\n",
       "@startuml\r\n",
       "skinparam wrapWidth 300\r\n",
       "hide circle\r\n",
       "\r\n",
       "package \"ParameterTest\" as E1  [[psysml:86781c8e-3979-42bc-84a0-50d047026621 ]]  {\r\n",
       "comp def \"A\" as E2  <<(T,blue) attribute  def>> [[psysml:2ec9bc29-3801-4d04-bd01-a8a7cc509576 ]] {\r\n",
       "- - attributes - -\r\n",
       "x: String\r\n",
       "y: A\r\n",
       "}\r\n",
       "comp usage \"a: A \" as E3  <<(T,blue) attribute>> [[psysml:904ee486-6b36-4246-8723-5e3acfd2e245 ]] {\r\n",
       "}\r\n",
       "rec def \"F\" as E4  <<(T,blue) calculation  def>> [[psysml:824349d9-f3af-4f57-b650-7b4ce1821d09 ]] {\r\n",
       "portin \"p\" as E5  [[psysml:1d7d0081-d3e1-46bd-ad63-b0e63267b1e5 ]] \r\n",
       "portin \"q\" as E6  [[psysml:21dced71-d174-49eb-b20b-d0423025e0cf ]] \r\n",
       "portout \"result\" as E7  [[psysml:89ad9a9d-29f0-45e8-8d07-ebce693a6326 ]] \r\n",
       "}\r\n",
       "\r\n",
       "comp usage \"f \" as E8  <<(T,blue) attribute>> [[psysml:8204b4e2-616f-4bbc-afa4-9ecd277b5579 ]] {\r\n",
       "}\r\n",
       "comp usage \"g \" as E9  <<(T,blue) attribute>> [[psysml:86e22d1e-a4d5-4fc2-80cd-01d3f8e601c3 ]] {\r\n",
       "}\r\n",
       "comp usage \"b \" as E10  <<(T,blue) attribute>> [[psysml:5bd4ed77-91ea-4eb7-bbff-8ef8917960b7 ]] {\r\n",
       "}\r\n",
       "comp usage \"c \" as E11  <<(T,blue) attribute>> [[psysml:88436cf5-d13a-4d80-b468-40a83b162e0f ]] {\r\n",
       "}\r\n",
       "}\r\n",
       "E3 - -:|> E2 [[psysml:b5c275d4-de01-4c83-8a05-69f2b086225e ]] \r\n",
       "@enduml\r\n",
       "\n",
       "PlantUML version 1.2020.13(Sat Jun 13 12:26:38 UTC 2020)\n",
       "(EPL source distribution)\n",
       "Java Runtime: OpenJDK Runtime Environment\n",
       "JVM: OpenJDK 64-Bit Server VM\n",
       "Default Encoding: UTF-8\n",
       "Language: en\n",
       "Country: null\n",
       "--></g></svg>"
      ]
     },
     "execution_count": 29,
     "metadata": {},
     "output_type": "execute_result"
    }
   ],
   "source": [
    "%viz --style=\"STDCOLOR\" --view=\"MIXED\" \"ParameterTest\""
   ]
  },
  {
   "cell_type": "code",
   "execution_count": 30,
   "id": "d49ce65c",
   "metadata": {
    "execution": {
     "iopub.execute_input": "2022-03-03T09:56:16.286275Z",
     "iopub.status.busy": "2022-03-03T09:56:16.285874Z",
     "iopub.status.idle": "2022-03-03T09:56:16.364860Z",
     "shell.execute_reply": "2022-03-03T09:56:16.364498Z"
    }
   },
   "outputs": [
    {
     "data": {
      "image/svg+xml": [
       "<?xml version=\"1.0\" encoding=\"UTF-8\" standalone=\"no\"?><svg xmlns=\"http://www.w3.org/2000/svg\" xmlns:xlink=\"http://www.w3.org/1999/xlink\" contentScriptType=\"application/ecmascript\" contentStyleType=\"text/css\" height=\"403px\" preserveAspectRatio=\"none\" style=\"width:872px;height:403px;\" version=\"1.1\" viewBox=\"0 0 872 403\" width=\"872px\" zoomAndPan=\"magnify\"><defs><filter height=\"300%\" id=\"f1c7n0jc8rtdu6\" width=\"300%\" x=\"-1\" y=\"-1\"><feGaussianBlur result=\"blurOut\" stdDeviation=\"2.0\"/><feColorMatrix in=\"blurOut\" result=\"blurOut2\" type=\"matrix\" values=\"0 0 0 0 0 0 0 0 0 0 0 0 0 0 0 0 0 0 .4 0\"/><feOffset dx=\"4.0\" dy=\"4.0\" in=\"blurOut2\" result=\"blurOut3\"/><feBlend in=\"SourceGraphic\" in2=\"blurOut3\" mode=\"normal\"/></filter></defs><g><!--MD5=[fbc87193dbaf4d95561dea2c320d4a47]\n",
       "cluster E1--><a href=\"psysml:86781c8e-3979-42bc-84a0-50d047026621\" target=\"_top\" title=\"psysml:86781c8e-3979-42bc-84a0-50d047026621\" xlink:actuate=\"onRequest\" xlink:href=\"psysml:86781c8e-3979-42bc-84a0-50d047026621\" xlink:show=\"new\" xlink:title=\"psysml:86781c8e-3979-42bc-84a0-50d047026621\" xlink:type=\"simple\"><polygon fill=\"#FFFFFF\" filter=\"url(#f1c7n0jc8rtdu6)\" points=\"16,6,124,6,131,28.2969,850,28.2969,850,391.72,16,391.72,16,6\" style=\"stroke: #000000; stroke-width: 1.5;\"/><line style=\"stroke: #000000; stroke-width: 1.5;\" x1=\"16\" x2=\"131\" y1=\"28.2969\" y2=\"28.2969\"/><text fill=\"#000000\" font-family=\"sans-serif\" font-size=\"14\" font-weight=\"bold\" lengthAdjust=\"spacingAndGlyphs\" textLength=\"102\" x=\"20\" y=\"20.9951\">ParameterTest</text></a><!--MD5=[f6df4d0ebaf0b5dfb2ced0ae5af7c670]\n",
       "cluster E4--><a href=\"psysml:824349d9-f3af-4f57-b650-7b4ce1821d09\" target=\"_top\" title=\"psysml:824349d9-f3af-4f57-b650-7b4ce1821d09\" xlink:actuate=\"onRequest\" xlink:href=\"psysml:824349d9-f3af-4f57-b650-7b4ce1821d09\" xlink:show=\"new\" xlink:title=\"psysml:824349d9-f3af-4f57-b650-7b4ce1821d09\" xlink:type=\"simple\"><rect fill=\"#FFFFFF\" filter=\"url(#f1c7n0jc8rtdu6)\" height=\"297.72\" id=\"E4\" style=\"stroke: #A80036; stroke-width: 1.5;\" width=\"150\" x=\"684\" y=\"64\"/><rect fill=\"#FEFECE\" height=\"37.9375\" style=\"stroke: #A80036; stroke-width: 1.5;\" width=\"150\" x=\"684\" y=\"64\"/><text fill=\"#000000\" font-family=\"sans-serif\" font-size=\"12\" font-style=\"italic\" lengthAdjust=\"spacingAndGlyphs\" textLength=\"110\" x=\"704\" y=\"80.1387\">«calculation  def»</text><text fill=\"#000000\" font-family=\"sans-serif\" font-size=\"12\" lengthAdjust=\"spacingAndGlyphs\" textLength=\"7\" x=\"755.5\" y=\"94.1074\">F</text></a><!--MD5=[b4997ac47864f28c2f74865a473b2911]\n",
       "class E2--><a href=\"psysml:2ec9bc29-3801-4d04-bd01-a8a7cc509576\" target=\"_top\" title=\"psysml:2ec9bc29-3801-4d04-bd01-a8a7cc509576\" xlink:actuate=\"onRequest\" xlink:href=\"psysml:2ec9bc29-3801-4d04-bd01-a8a7cc509576\" xlink:show=\"new\" xlink:title=\"psysml:2ec9bc29-3801-4d04-bd01-a8a7cc509576\" xlink:type=\"simple\"><rect fill=\"#FEFECE\" filter=\"url(#f1c7n0jc8rtdu6)\" height=\"88.3516\" id=\"E2\" style=\"stroke: #A80036; stroke-width: 1.5;\" width=\"125\" x=\"520.5\" y=\"147\"/><ellipse cx=\"535.5\" cy=\"165.9688\" fill=\"#A52A2A\" rx=\"11\" ry=\"11\" style=\"stroke: #A80036; stroke-width: 1.0;\"/><path d=\"M532.7188,170.9688 L532.7188,160.375 L535.4531,160.375 Q536.8438,160.375 537.6094,160.7656 Q538.3906,161.1406 538.9219,161.8438 Q539.4531,162.5469 539.75,163.5469 Q540.0469,164.5313 540.0469,165.75 Q540,167.3438 539.5,168.5313 Q539.0156,169.7031 537.9688,170.3438 Q536.9375,170.9688 535.25,170.9688 L532.7188,170.9688 Z M534.5781,169.4688 L535.2031,169.4688 Q536.2813,169.4688 536.9375,169.0156 Q537.5938,168.5625 537.875,167.7344 Q538.1719,166.8906 538.1563,165.7656 Q538.1563,164.5938 537.9063,163.7344 Q537.6563,162.8594 537.0469,162.3906 Q536.4375,161.9063 535.3906,161.9063 L534.5781,161.9063 L534.5781,169.4688 Z \"/><text fill=\"#000000\" font-family=\"sans-serif\" font-size=\"12\" font-style=\"italic\" lengthAdjust=\"spacingAndGlyphs\" textLength=\"97\" x=\"547.5\" y=\"163.1387\">«attribute  def»</text><text fill=\"#000000\" font-family=\"sans-serif\" font-size=\"12\" lengthAdjust=\"spacingAndGlyphs\" textLength=\"8\" x=\"592\" y=\"177.1074\">A</text><line style=\"stroke: #A80036; stroke-width: 1.5;\" x1=\"521.5\" x2=\"644.5\" y1=\"184.9375\" y2=\"184.9375\"/><text fill=\"#000000\" font-family=\"sans-serif\" font-size=\"11\" lengthAdjust=\"spacingAndGlyphs\" textLength=\"48\" x=\"526.5\" y=\"215.9526\">x: String</text><text fill=\"#000000\" font-family=\"sans-serif\" font-size=\"11\" lengthAdjust=\"spacingAndGlyphs\" textLength=\"21\" x=\"526.5\" y=\"228.7573\">y: A</text><line style=\"stroke: #A80036; stroke-width: 1.0;\" x1=\"521.5\" x2=\"555.5\" y1=\"199.3398\" y2=\"199.3398\"/><text fill=\"#000000\" font-family=\"sans-serif\" font-size=\"11\" lengthAdjust=\"spacingAndGlyphs\" textLength=\"55\" x=\"555.5\" y=\"202.6479\">attributes</text><line style=\"stroke: #A80036; stroke-width: 1.0;\" x1=\"610.5\" x2=\"644.5\" y1=\"199.3398\" y2=\"199.3398\"/></a><!--MD5=[09b614a08d8cba4a07c9adeb5e0fee81]\n",
       "class E3--><a href=\"psysml:904ee486-6b36-4246-8723-5e3acfd2e245\" target=\"_top\" title=\"psysml:904ee486-6b36-4246-8723-5e3acfd2e245\" xlink:actuate=\"onRequest\" xlink:href=\"psysml:904ee486-6b36-4246-8723-5e3acfd2e245\" xlink:show=\"new\" xlink:title=\"psysml:904ee486-6b36-4246-8723-5e3acfd2e245\" xlink:type=\"simple\"><rect fill=\"#FEFECE\" filter=\"url(#f1c7n0jc8rtdu6)\" height=\"45.9375\" id=\"E3\" rx=\"10\" ry=\"10\" style=\"stroke: #A80036; stroke-width: 1.5;\" width=\"97\" x=\"559.5\" y=\"41\"/><ellipse cx=\"574.5\" cy=\"59.9688\" fill=\"#FFA500\" rx=\"11\" ry=\"11\" style=\"stroke: #A80036; stroke-width: 1.0;\"/><path d=\"M574.25,65.4375 Q572.5,65.4375 571.5469,64.4063 Q570.6094,63.3594 570.6094,61.5156 L570.6094,54.625 L572.6719,54.625 L572.6719,54.7813 Q572.5781,54.875 572.5469,55.0156 Q572.5313,55.1406 572.5313,55.4063 L572.5313,61.5313 Q572.5313,62.625 572.9063,63.25 Q573.2813,63.875 574.2656,63.875 Q575.25,63.875 575.6406,63.25 Q576.0313,62.625 576.0313,61.4844 L576.0313,54.625 L577.9063,54.625 L577.9063,61.4688 Q577.9063,63.5 576.875,64.4688 Q575.8594,65.4375 574.25,65.4375 Z \"/><text fill=\"#000000\" font-family=\"sans-serif\" font-size=\"12\" font-style=\"italic\" lengthAdjust=\"spacingAndGlyphs\" textLength=\"69\" x=\"586.5\" y=\"57.1387\">«attribute»</text><text fill=\"#000000\" font-family=\"sans-serif\" font-size=\"12\" lengthAdjust=\"spacingAndGlyphs\" textLength=\"24\" x=\"607\" y=\"71.1074\">a: A</text><line style=\"stroke: #A80036; stroke-width: 1.5;\" x1=\"560.5\" x2=\"655.5\" y1=\"78.9375\" y2=\"78.9375\"/></a><!--MD5=[b9389687b975829384b498ac4b7476b2]\n",
       "class E8--><a href=\"psysml:8204b4e2-616f-4bbc-afa4-9ecd277b5579\" target=\"_top\" title=\"psysml:8204b4e2-616f-4bbc-afa4-9ecd277b5579\" xlink:actuate=\"onRequest\" xlink:href=\"psysml:8204b4e2-616f-4bbc-afa4-9ecd277b5579\" xlink:show=\"new\" xlink:title=\"psysml:8204b4e2-616f-4bbc-afa4-9ecd277b5579\" xlink:type=\"simple\"><rect fill=\"#FEFECE\" filter=\"url(#f1c7n0jc8rtdu6)\" height=\"45.9375\" id=\"E8\" rx=\"10\" ry=\"10\" style=\"stroke: #A80036; stroke-width: 1.5;\" width=\"97\" x=\"427.5\" y=\"41\"/><ellipse cx=\"442.5\" cy=\"59.9688\" fill=\"#FFA500\" rx=\"11\" ry=\"11\" style=\"stroke: #A80036; stroke-width: 1.0;\"/><path d=\"M442.25,65.4375 Q440.5,65.4375 439.5469,64.4063 Q438.6094,63.3594 438.6094,61.5156 L438.6094,54.625 L440.6719,54.625 L440.6719,54.7813 Q440.5781,54.875 440.5469,55.0156 Q440.5313,55.1406 440.5313,55.4063 L440.5313,61.5313 Q440.5313,62.625 440.9063,63.25 Q441.2813,63.875 442.2656,63.875 Q443.25,63.875 443.6406,63.25 Q444.0313,62.625 444.0313,61.4844 L444.0313,54.625 L445.9063,54.625 L445.9063,61.4688 Q445.9063,63.5 444.875,64.4688 Q443.8594,65.4375 442.25,65.4375 Z \"/><text fill=\"#000000\" font-family=\"sans-serif\" font-size=\"12\" font-style=\"italic\" lengthAdjust=\"spacingAndGlyphs\" textLength=\"69\" x=\"454.5\" y=\"57.1387\">«attribute»</text><text fill=\"#000000\" font-family=\"sans-serif\" font-size=\"12\" lengthAdjust=\"spacingAndGlyphs\" textLength=\"4\" x=\"485\" y=\"71.1074\">f</text><line style=\"stroke: #A80036; stroke-width: 1.5;\" x1=\"428.5\" x2=\"523.5\" y1=\"78.9375\" y2=\"78.9375\"/></a><!--MD5=[fd4143e9d270a159db93a4ea2a975926]\n",
       "class E9--><a href=\"psysml:86e22d1e-a4d5-4fc2-80cd-01d3f8e601c3\" target=\"_top\" title=\"psysml:86e22d1e-a4d5-4fc2-80cd-01d3f8e601c3\" xlink:actuate=\"onRequest\" xlink:href=\"psysml:86e22d1e-a4d5-4fc2-80cd-01d3f8e601c3\" xlink:show=\"new\" xlink:title=\"psysml:86e22d1e-a4d5-4fc2-80cd-01d3f8e601c3\" xlink:type=\"simple\"><rect fill=\"#FEFECE\" filter=\"url(#f1c7n0jc8rtdu6)\" height=\"45.9375\" id=\"E9\" rx=\"10\" ry=\"10\" style=\"stroke: #A80036; stroke-width: 1.5;\" width=\"97\" x=\"295.5\" y=\"41\"/><ellipse cx=\"310.5\" cy=\"59.9688\" fill=\"#FFA500\" rx=\"11\" ry=\"11\" style=\"stroke: #A80036; stroke-width: 1.0;\"/><path d=\"M310.25,65.4375 Q308.5,65.4375 307.5469,64.4063 Q306.6094,63.3594 306.6094,61.5156 L306.6094,54.625 L308.6719,54.625 L308.6719,54.7813 Q308.5781,54.875 308.5469,55.0156 Q308.5313,55.1406 308.5313,55.4063 L308.5313,61.5313 Q308.5313,62.625 308.9063,63.25 Q309.2813,63.875 310.2656,63.875 Q311.25,63.875 311.6406,63.25 Q312.0313,62.625 312.0313,61.4844 L312.0313,54.625 L313.9063,54.625 L313.9063,61.4688 Q313.9063,63.5 312.875,64.4688 Q311.8594,65.4375 310.25,65.4375 Z \"/><text fill=\"#000000\" font-family=\"sans-serif\" font-size=\"12\" font-style=\"italic\" lengthAdjust=\"spacingAndGlyphs\" textLength=\"69\" x=\"322.5\" y=\"57.1387\">«attribute»</text><text fill=\"#000000\" font-family=\"sans-serif\" font-size=\"12\" lengthAdjust=\"spacingAndGlyphs\" textLength=\"8\" x=\"351\" y=\"71.1074\">g</text><line style=\"stroke: #A80036; stroke-width: 1.5;\" x1=\"296.5\" x2=\"391.5\" y1=\"78.9375\" y2=\"78.9375\"/></a><!--MD5=[96f4274e9e20536e775497830990834d]\n",
       "class E10--><a href=\"psysml:5bd4ed77-91ea-4eb7-bbff-8ef8917960b7\" target=\"_top\" title=\"psysml:5bd4ed77-91ea-4eb7-bbff-8ef8917960b7\" xlink:actuate=\"onRequest\" xlink:href=\"psysml:5bd4ed77-91ea-4eb7-bbff-8ef8917960b7\" xlink:show=\"new\" xlink:title=\"psysml:5bd4ed77-91ea-4eb7-bbff-8ef8917960b7\" xlink:type=\"simple\"><rect fill=\"#FEFECE\" filter=\"url(#f1c7n0jc8rtdu6)\" height=\"45.9375\" id=\"E10\" rx=\"10\" ry=\"10\" style=\"stroke: #A80036; stroke-width: 1.5;\" width=\"97\" x=\"163.5\" y=\"41\"/><ellipse cx=\"178.5\" cy=\"59.9688\" fill=\"#FFA500\" rx=\"11\" ry=\"11\" style=\"stroke: #A80036; stroke-width: 1.0;\"/><path d=\"M178.25,65.4375 Q176.5,65.4375 175.5469,64.4063 Q174.6094,63.3594 174.6094,61.5156 L174.6094,54.625 L176.6719,54.625 L176.6719,54.7813 Q176.5781,54.875 176.5469,55.0156 Q176.5313,55.1406 176.5313,55.4063 L176.5313,61.5313 Q176.5313,62.625 176.9063,63.25 Q177.2813,63.875 178.2656,63.875 Q179.25,63.875 179.6406,63.25 Q180.0313,62.625 180.0313,61.4844 L180.0313,54.625 L181.9063,54.625 L181.9063,61.4688 Q181.9063,63.5 180.875,64.4688 Q179.8594,65.4375 178.25,65.4375 Z \"/><text fill=\"#000000\" font-family=\"sans-serif\" font-size=\"12\" font-style=\"italic\" lengthAdjust=\"spacingAndGlyphs\" textLength=\"69\" x=\"190.5\" y=\"57.1387\">«attribute»</text><text fill=\"#000000\" font-family=\"sans-serif\" font-size=\"12\" lengthAdjust=\"spacingAndGlyphs\" textLength=\"8\" x=\"219\" y=\"71.1074\">b</text><line style=\"stroke: #A80036; stroke-width: 1.5;\" x1=\"164.5\" x2=\"259.5\" y1=\"78.9375\" y2=\"78.9375\"/></a><!--MD5=[1dd1bfd58a279cf63c5f349dbc8fc6a1]\n",
       "class E11--><a href=\"psysml:88436cf5-d13a-4d80-b468-40a83b162e0f\" target=\"_top\" title=\"psysml:88436cf5-d13a-4d80-b468-40a83b162e0f\" xlink:actuate=\"onRequest\" xlink:href=\"psysml:88436cf5-d13a-4d80-b468-40a83b162e0f\" xlink:show=\"new\" xlink:title=\"psysml:88436cf5-d13a-4d80-b468-40a83b162e0f\" xlink:type=\"simple\"><rect fill=\"#FEFECE\" filter=\"url(#f1c7n0jc8rtdu6)\" height=\"45.9375\" id=\"E11\" rx=\"10\" ry=\"10\" style=\"stroke: #A80036; stroke-width: 1.5;\" width=\"97\" x=\"31.5\" y=\"41\"/><ellipse cx=\"46.5\" cy=\"59.9688\" fill=\"#FFA500\" rx=\"11\" ry=\"11\" style=\"stroke: #A80036; stroke-width: 1.0;\"/><path d=\"M46.25,65.4375 Q44.5,65.4375 43.5469,64.4063 Q42.6094,63.3594 42.6094,61.5156 L42.6094,54.625 L44.6719,54.625 L44.6719,54.7813 Q44.5781,54.875 44.5469,55.0156 Q44.5313,55.1406 44.5313,55.4063 L44.5313,61.5313 Q44.5313,62.625 44.9063,63.25 Q45.2813,63.875 46.2656,63.875 Q47.25,63.875 47.6406,63.25 Q48.0313,62.625 48.0313,61.4844 L48.0313,54.625 L49.9063,54.625 L49.9063,61.4688 Q49.9063,63.5 48.875,64.4688 Q47.8594,65.4375 46.25,65.4375 Z \"/><text fill=\"#000000\" font-family=\"sans-serif\" font-size=\"12\" font-style=\"italic\" lengthAdjust=\"spacingAndGlyphs\" textLength=\"69\" x=\"58.5\" y=\"57.1387\">«attribute»</text><text fill=\"#000000\" font-family=\"sans-serif\" font-size=\"12\" lengthAdjust=\"spacingAndGlyphs\" textLength=\"7\" x=\"87.5\" y=\"71.1074\">c</text><line style=\"stroke: #A80036; stroke-width: 1.5;\" x1=\"32.5\" x2=\"127.5\" y1=\"78.9375\" y2=\"78.9375\"/></a><text fill=\"#000000\" font-family=\"sans-serif\" font-size=\"14\" lengthAdjust=\"spacingAndGlyphs\" textLength=\"9\" x=\"697.5\" y=\"42.6982\">p</text><rect fill=\"#A80036\" height=\"12\" style=\"stroke: #FEFECE; stroke-width: 1.5;\" width=\"12\" x=\"696\" y=\"58\"/><text fill=\"#000000\" font-family=\"sans-serif\" font-size=\"14\" lengthAdjust=\"spacingAndGlyphs\" textLength=\"9\" x=\"744.5\" y=\"42.6982\">q</text><rect fill=\"#A80036\" height=\"12\" style=\"stroke: #FEFECE; stroke-width: 1.5;\" width=\"12\" x=\"743\" y=\"58\"/><text fill=\"#000000\" font-family=\"sans-serif\" font-size=\"14\" lengthAdjust=\"spacingAndGlyphs\" textLength=\"39\" x=\"729.5\" y=\"380.7151\">result</text><rect fill=\"#A80036\" height=\"12\" style=\"stroke: #FEFECE; stroke-width: 1.5;\" width=\"12\" x=\"743\" y=\"355.72\"/><!--MD5=[05d275557350bfb9b23a4ef7222b4c39]\n",
       "link E3 to E2--><a href=\"psysml:b5c275d4-de01-4c83-8a05-69f2b086225e\" target=\"_top\" title=\"psysml:b5c275d4-de01-4c83-8a05-69f2b086225e\" xlink:actuate=\"onRequest\" xlink:href=\"psysml:b5c275d4-de01-4c83-8a05-69f2b086225e\" xlink:show=\"new\" xlink:title=\"psysml:b5c275d4-de01-4c83-8a05-69f2b086225e\" xlink:type=\"simple\"><path d=\"M603.59,87.06 C601.34,98.3 598.48,112.6 595.61,126.95 \" fill=\"none\" id=\"E3-&gt;E2\" style=\"stroke: #A80036; stroke-width: 1.0;\"/><polygon fill=\"#FFFFFF\" points=\"591.61,146.93,588.4637,126.9275,602.193,129.6673,591.61,146.93\" style=\"stroke: #A80036; stroke-width: 1.0;\"/><ellipse cx=\"591.5406\" cy=\"121.7291\" fill=\"#A80036\" rx=\"2\" ry=\"2\" style=\"stroke: #A80036; stroke-width: 1.0;\"/><ellipse cx=\"601.3472\" cy=\"123.6861\" fill=\"#A80036\" rx=\"2\" ry=\"2\" style=\"stroke: #A80036; stroke-width: 1.0;\"/></a><!--MD5=[a400cb23ce58c90b8f425ee81a11dc94]\n",
       "@startuml\r\n",
       " \r\n",
       "package \"ParameterTest\" as E1  [[psysml:86781c8e-3979-42bc-84a0-50d047026621 ]]  {\r\n",
       "comp def \"A\" as E2 << <<(D,brown) attribute  def>> [[psysml:2ec9bc29-3801-4d04-bd01-a8a7cc509576 ]] {\r\n",
       "- - attributes - -\r\n",
       "x: String\r\n",
       "y: A\r\n",
       "}\r\n",
       "comp usage \"a: A \" as E3 << <<(U,orange) attribute>> [[psysml:904ee486-6b36-4246-8723-5e3acfd2e245 ]] {\r\n",
       "}\r\n",
       "rec def \"F\" as E4 << <<(B,lemonchiffon) calculation  def>> [[psysml:824349d9-f3af-4f57-b650-7b4ce1821d09 ]] {\r\n",
       "portin \"p\" as E5  [[psysml:1d7d0081-d3e1-46bd-ad63-b0e63267b1e5 ]] \r\n",
       "portin \"q\" as E6  [[psysml:21dced71-d174-49eb-b20b-d0423025e0cf ]] \r\n",
       "portout \"result\" as E7  [[psysml:89ad9a9d-29f0-45e8-8d07-ebce693a6326 ]] \r\n",
       "}\r\n",
       "\r\n",
       "comp usage \"f \" as E8 << <<(U,orange) attribute>> [[psysml:8204b4e2-616f-4bbc-afa4-9ecd277b5579 ]] {\r\n",
       "}\r\n",
       "comp usage \"g \" as E9 << <<(U,orange) attribute>> [[psysml:86e22d1e-a4d5-4fc2-80cd-01d3f8e601c3 ]] {\r\n",
       "}\r\n",
       "comp usage \"b \" as E10 << <<(U,orange) attribute>> [[psysml:5bd4ed77-91ea-4eb7-bbff-8ef8917960b7 ]] {\r\n",
       "}\r\n",
       "comp usage \"c \" as E11 << <<(U,orange) attribute>> [[psysml:88436cf5-d13a-4d80-b468-40a83b162e0f ]] {\r\n",
       "}\r\n",
       "}\r\n",
       "E3 - -:|> E2 [[psysml:b5c275d4-de01-4c83-8a05-69f2b086225e ]] \r\n",
       "@enduml\r\n",
       "\n",
       "PlantUML version 1.2020.13(Sat Jun 13 12:26:38 UTC 2020)\n",
       "(EPL source distribution)\n",
       "Java Runtime: OpenJDK Runtime Environment\n",
       "JVM: OpenJDK 64-Bit Server VM\n",
       "Default Encoding: UTF-8\n",
       "Language: en\n",
       "Country: null\n",
       "--></g></svg>"
      ]
     },
     "execution_count": 30,
     "metadata": {},
     "output_type": "execute_result"
    }
   ],
   "source": [
    "%viz --style=\"PLANTUML\" --view=\"Default\" \"ParameterTest\""
   ]
  },
  {
   "cell_type": "code",
   "execution_count": 31,
   "id": "6e99cc38",
   "metadata": {
    "execution": {
     "iopub.execute_input": "2022-03-03T09:56:16.414395Z",
     "iopub.status.busy": "2022-03-03T09:56:16.413982Z",
     "iopub.status.idle": "2022-03-03T09:56:16.474182Z",
     "shell.execute_reply": "2022-03-03T09:56:16.473812Z"
    }
   },
   "outputs": [
    {
     "data": {
      "image/svg+xml": [
       "<?xml version=\"1.0\" encoding=\"UTF-8\" standalone=\"no\"?><svg xmlns=\"http://www.w3.org/2000/svg\" xmlns:xlink=\"http://www.w3.org/1999/xlink\" contentScriptType=\"application/ecmascript\" contentStyleType=\"text/css\" height=\"280px\" preserveAspectRatio=\"none\" style=\"width:868px;height:280px;\" version=\"1.1\" viewBox=\"0 0 868 280\" width=\"868px\" zoomAndPan=\"magnify\"><defs><filter height=\"300%\" id=\"fu7p0cckpbq8\" width=\"300%\" x=\"-1\" y=\"-1\"><feGaussianBlur result=\"blurOut\" stdDeviation=\"2.0\"/><feColorMatrix in=\"blurOut\" result=\"blurOut2\" type=\"matrix\" values=\"0 0 0 0 0 0 0 0 0 0 0 0 0 0 0 0 0 0 .4 0\"/><feOffset dx=\"4.0\" dy=\"4.0\" in=\"blurOut2\" result=\"blurOut3\"/><feBlend in=\"SourceGraphic\" in2=\"blurOut3\" mode=\"normal\"/></filter></defs><g><!--MD5=[fbc87193dbaf4d95561dea2c320d4a47]\n",
       "cluster E1--><a href=\"psysml:86781c8e-3979-42bc-84a0-50d047026621\" target=\"_top\" title=\"psysml:86781c8e-3979-42bc-84a0-50d047026621\" xlink:actuate=\"onRequest\" xlink:href=\"psysml:86781c8e-3979-42bc-84a0-50d047026621\" xlink:show=\"new\" xlink:title=\"psysml:86781c8e-3979-42bc-84a0-50d047026621\" xlink:type=\"simple\"><polygon fill=\"#FFFFFF\" filter=\"url(#fu7p0cckpbq8)\" points=\"16,6,124,6,131,28.2969,846,28.2969,846,268,16,268,16,6\" style=\"stroke: #000000; stroke-width: 1.5;\"/><line style=\"stroke: #000000; stroke-width: 1.5;\" x1=\"16\" x2=\"131\" y1=\"28.2969\" y2=\"28.2969\"/><text fill=\"#000000\" font-family=\"sans-serif\" font-size=\"14\" font-weight=\"bold\" lengthAdjust=\"spacingAndGlyphs\" textLength=\"102\" x=\"20\" y=\"20.9951\">ParameterTest</text></a><!--MD5=[b4997ac47864f28c2f74865a473b2911]\n",
       "class E2--><a href=\"psysml:2ec9bc29-3801-4d04-bd01-a8a7cc509576\" target=\"_top\" title=\"psysml:2ec9bc29-3801-4d04-bd01-a8a7cc509576\" xlink:actuate=\"onRequest\" xlink:href=\"psysml:2ec9bc29-3801-4d04-bd01-a8a7cc509576\" xlink:show=\"new\" xlink:title=\"psysml:2ec9bc29-3801-4d04-bd01-a8a7cc509576\" xlink:type=\"simple\"><rect fill=\"#FEFECE\" filter=\"url(#fu7p0cckpbq8)\" height=\"88.3516\" id=\"E2\" style=\"stroke: #A80036; stroke-width: 1.5;\" width=\"125\" x=\"643.5\" y=\"164\"/><ellipse cx=\"658.5\" cy=\"182.9688\" fill=\"#A52A2A\" rx=\"11\" ry=\"11\" style=\"stroke: #A80036; stroke-width: 1.0;\"/><path d=\"M655.7188,187.9688 L655.7188,177.375 L658.4531,177.375 Q659.8438,177.375 660.6094,177.7656 Q661.3906,178.1406 661.9219,178.8438 Q662.4531,179.5469 662.75,180.5469 Q663.0469,181.5313 663.0469,182.75 Q663,184.3438 662.5,185.5313 Q662.0156,186.7031 660.9688,187.3438 Q659.9375,187.9688 658.25,187.9688 L655.7188,187.9688 Z M657.5781,186.4688 L658.2031,186.4688 Q659.2813,186.4688 659.9375,186.0156 Q660.5938,185.5625 660.875,184.7344 Q661.1719,183.8906 661.1563,182.7656 Q661.1563,181.5938 660.9063,180.7344 Q660.6563,179.8594 660.0469,179.3906 Q659.4375,178.9063 658.3906,178.9063 L657.5781,178.9063 L657.5781,186.4688 Z \"/><text fill=\"#000000\" font-family=\"sans-serif\" font-size=\"12\" font-style=\"italic\" lengthAdjust=\"spacingAndGlyphs\" textLength=\"97\" x=\"670.5\" y=\"180.1387\">«attribute  def»</text><text fill=\"#000000\" font-family=\"sans-serif\" font-size=\"12\" lengthAdjust=\"spacingAndGlyphs\" textLength=\"8\" x=\"715\" y=\"194.1074\">A</text><line style=\"stroke: #A80036; stroke-width: 1.5;\" x1=\"644.5\" x2=\"767.5\" y1=\"201.9375\" y2=\"201.9375\"/><text fill=\"#000000\" font-family=\"sans-serif\" font-size=\"11\" lengthAdjust=\"spacingAndGlyphs\" textLength=\"48\" x=\"649.5\" y=\"232.9526\">x: String</text><text fill=\"#000000\" font-family=\"sans-serif\" font-size=\"11\" lengthAdjust=\"spacingAndGlyphs\" textLength=\"21\" x=\"649.5\" y=\"245.7573\">y: A</text><line style=\"stroke: #A80036; stroke-width: 1.0;\" x1=\"644.5\" x2=\"678.5\" y1=\"216.3398\" y2=\"216.3398\"/><text fill=\"#000000\" font-family=\"sans-serif\" font-size=\"11\" lengthAdjust=\"spacingAndGlyphs\" textLength=\"55\" x=\"678.5\" y=\"219.6479\">attributes</text><line style=\"stroke: #A80036; stroke-width: 1.0;\" x1=\"733.5\" x2=\"767.5\" y1=\"216.3398\" y2=\"216.3398\"/></a><!--MD5=[09b614a08d8cba4a07c9adeb5e0fee81]\n",
       "class E3--><a href=\"psysml:904ee486-6b36-4246-8723-5e3acfd2e245\" target=\"_top\" title=\"psysml:904ee486-6b36-4246-8723-5e3acfd2e245\" xlink:actuate=\"onRequest\" xlink:href=\"psysml:904ee486-6b36-4246-8723-5e3acfd2e245\" xlink:show=\"new\" xlink:title=\"psysml:904ee486-6b36-4246-8723-5e3acfd2e245\" xlink:type=\"simple\"><rect fill=\"#FEFECE\" filter=\"url(#fu7p0cckpbq8)\" height=\"45.9375\" id=\"E3\" rx=\"10\" ry=\"10\" style=\"stroke: #A80036; stroke-width: 1.5;\" width=\"97\" x=\"733.5\" y=\"41\"/><ellipse cx=\"748.5\" cy=\"59.9688\" fill=\"#FFA500\" rx=\"11\" ry=\"11\" style=\"stroke: #A80036; stroke-width: 1.0;\"/><path d=\"M748.25,65.4375 Q746.5,65.4375 745.5469,64.4063 Q744.6094,63.3594 744.6094,61.5156 L744.6094,54.625 L746.6719,54.625 L746.6719,54.7813 Q746.5781,54.875 746.5469,55.0156 Q746.5313,55.1406 746.5313,55.4063 L746.5313,61.5313 Q746.5313,62.625 746.9063,63.25 Q747.2813,63.875 748.2656,63.875 Q749.25,63.875 749.6406,63.25 Q750.0313,62.625 750.0313,61.4844 L750.0313,54.625 L751.9063,54.625 L751.9063,61.4688 Q751.9063,63.5 750.875,64.4688 Q749.8594,65.4375 748.25,65.4375 Z \"/><text fill=\"#000000\" font-family=\"sans-serif\" font-size=\"12\" font-style=\"italic\" lengthAdjust=\"spacingAndGlyphs\" textLength=\"69\" x=\"760.5\" y=\"57.1387\">«attribute»</text><text fill=\"#000000\" font-family=\"sans-serif\" font-size=\"12\" lengthAdjust=\"spacingAndGlyphs\" textLength=\"24\" x=\"781\" y=\"71.1074\">a: A</text><line style=\"stroke: #A80036; stroke-width: 1.5;\" x1=\"734.5\" x2=\"829.5\" y1=\"78.9375\" y2=\"78.9375\"/></a><!--MD5=[ebbe1d658d1005bcc118a6aa81145e00]\n",
       "class E4--><a href=\"psysml:824349d9-f3af-4f57-b650-7b4ce1821d09\" target=\"_top\" title=\"psysml:824349d9-f3af-4f57-b650-7b4ce1821d09\" xlink:actuate=\"onRequest\" xlink:href=\"psysml:824349d9-f3af-4f57-b650-7b4ce1821d09\" xlink:show=\"new\" xlink:title=\"psysml:824349d9-f3af-4f57-b650-7b4ce1821d09\" xlink:type=\"simple\"><rect fill=\"#FEFECE\" filter=\"url(#fu7p0cckpbq8)\" height=\"45.9375\" id=\"E4\" style=\"stroke: #A80036; stroke-width: 1.5;\" width=\"138\" x=\"560\" y=\"41\"/><ellipse cx=\"575\" cy=\"59.9688\" fill=\"#FFFACD\" rx=\"11\" ry=\"11\" style=\"stroke: #A80036; stroke-width: 1.0;\"/><path d=\"M571.875,64.9688 L571.875,54.375 L575.1094,54.375 Q577.0156,54.375 577.9219,55.125 Q578.8438,55.875 578.8438,57.0469 Q578.8438,57.7344 578.4531,58.3906 Q578.0781,59.0469 577.3594,59.3438 Q578.2188,59.7188 578.7344,60.4063 Q579.25,61.0938 579.25,61.9063 Q579.25,63.2813 578.2188,64.125 Q577.2031,64.9688 575.0938,64.9688 L571.875,64.9688 Z M573.7969,58.6094 L574.9531,58.6094 Q576.0781,58.6094 576.4844,58.2344 Q576.9063,57.8438 576.9063,57.2188 Q576.9063,56.6406 576.4844,56.2813 Q576.0625,55.9219 575.125,55.9219 L573.7969,55.9219 L573.7969,58.6094 Z M573.7969,63.3906 L575.2969,63.3906 Q576.2031,63.3906 576.7344,63 Q577.2656,62.6094 577.2656,61.8594 Q577.2656,61.0938 576.7656,60.625 Q576.2656,60.1406 575,60.1406 L573.7969,60.1406 L573.7969,63.3906 Z \"/><text fill=\"#000000\" font-family=\"sans-serif\" font-size=\"12\" font-style=\"italic\" lengthAdjust=\"spacingAndGlyphs\" textLength=\"110\" x=\"587\" y=\"57.1387\">«calculation  def»</text><text fill=\"#000000\" font-family=\"sans-serif\" font-size=\"12\" lengthAdjust=\"spacingAndGlyphs\" textLength=\"7\" x=\"638.5\" y=\"71.1074\">F</text><line style=\"stroke: #A80036; stroke-width: 1.5;\" x1=\"561\" x2=\"697\" y1=\"78.9375\" y2=\"78.9375\"/></a><!--MD5=[270fce915f116d4de14055a7c1d9a0f3]\n",
       "class E5--><a href=\"psysml:8204b4e2-616f-4bbc-afa4-9ecd277b5579\" target=\"_top\" title=\"psysml:8204b4e2-616f-4bbc-afa4-9ecd277b5579\" xlink:actuate=\"onRequest\" xlink:href=\"psysml:8204b4e2-616f-4bbc-afa4-9ecd277b5579\" xlink:show=\"new\" xlink:title=\"psysml:8204b4e2-616f-4bbc-afa4-9ecd277b5579\" xlink:type=\"simple\"><rect fill=\"#FEFECE\" filter=\"url(#fu7p0cckpbq8)\" height=\"45.9375\" id=\"E5\" rx=\"10\" ry=\"10\" style=\"stroke: #A80036; stroke-width: 1.5;\" width=\"97\" x=\"427.5\" y=\"41\"/><ellipse cx=\"442.5\" cy=\"59.9688\" fill=\"#FFA500\" rx=\"11\" ry=\"11\" style=\"stroke: #A80036; stroke-width: 1.0;\"/><path d=\"M442.25,65.4375 Q440.5,65.4375 439.5469,64.4063 Q438.6094,63.3594 438.6094,61.5156 L438.6094,54.625 L440.6719,54.625 L440.6719,54.7813 Q440.5781,54.875 440.5469,55.0156 Q440.5313,55.1406 440.5313,55.4063 L440.5313,61.5313 Q440.5313,62.625 440.9063,63.25 Q441.2813,63.875 442.2656,63.875 Q443.25,63.875 443.6406,63.25 Q444.0313,62.625 444.0313,61.4844 L444.0313,54.625 L445.9063,54.625 L445.9063,61.4688 Q445.9063,63.5 444.875,64.4688 Q443.8594,65.4375 442.25,65.4375 Z \"/><text fill=\"#000000\" font-family=\"sans-serif\" font-size=\"12\" font-style=\"italic\" lengthAdjust=\"spacingAndGlyphs\" textLength=\"69\" x=\"454.5\" y=\"57.1387\">«attribute»</text><text fill=\"#000000\" font-family=\"sans-serif\" font-size=\"12\" lengthAdjust=\"spacingAndGlyphs\" textLength=\"4\" x=\"485\" y=\"71.1074\">f</text><line style=\"stroke: #A80036; stroke-width: 1.5;\" x1=\"428.5\" x2=\"523.5\" y1=\"78.9375\" y2=\"78.9375\"/></a><!--MD5=[60a26617385b1d2d0262a64233df1f8d]\n",
       "class E6--><a href=\"psysml:86e22d1e-a4d5-4fc2-80cd-01d3f8e601c3\" target=\"_top\" title=\"psysml:86e22d1e-a4d5-4fc2-80cd-01d3f8e601c3\" xlink:actuate=\"onRequest\" xlink:href=\"psysml:86e22d1e-a4d5-4fc2-80cd-01d3f8e601c3\" xlink:show=\"new\" xlink:title=\"psysml:86e22d1e-a4d5-4fc2-80cd-01d3f8e601c3\" xlink:type=\"simple\"><rect fill=\"#FEFECE\" filter=\"url(#fu7p0cckpbq8)\" height=\"45.9375\" id=\"E6\" rx=\"10\" ry=\"10\" style=\"stroke: #A80036; stroke-width: 1.5;\" width=\"97\" x=\"295.5\" y=\"41\"/><ellipse cx=\"310.5\" cy=\"59.9688\" fill=\"#FFA500\" rx=\"11\" ry=\"11\" style=\"stroke: #A80036; stroke-width: 1.0;\"/><path d=\"M310.25,65.4375 Q308.5,65.4375 307.5469,64.4063 Q306.6094,63.3594 306.6094,61.5156 L306.6094,54.625 L308.6719,54.625 L308.6719,54.7813 Q308.5781,54.875 308.5469,55.0156 Q308.5313,55.1406 308.5313,55.4063 L308.5313,61.5313 Q308.5313,62.625 308.9063,63.25 Q309.2813,63.875 310.2656,63.875 Q311.25,63.875 311.6406,63.25 Q312.0313,62.625 312.0313,61.4844 L312.0313,54.625 L313.9063,54.625 L313.9063,61.4688 Q313.9063,63.5 312.875,64.4688 Q311.8594,65.4375 310.25,65.4375 Z \"/><text fill=\"#000000\" font-family=\"sans-serif\" font-size=\"12\" font-style=\"italic\" lengthAdjust=\"spacingAndGlyphs\" textLength=\"69\" x=\"322.5\" y=\"57.1387\">«attribute»</text><text fill=\"#000000\" font-family=\"sans-serif\" font-size=\"12\" lengthAdjust=\"spacingAndGlyphs\" textLength=\"8\" x=\"351\" y=\"71.1074\">g</text><line style=\"stroke: #A80036; stroke-width: 1.5;\" x1=\"296.5\" x2=\"391.5\" y1=\"78.9375\" y2=\"78.9375\"/></a><!--MD5=[2156ba9850f5573cc1fc38a6a4b2f02b]\n",
       "class E7--><a href=\"psysml:5bd4ed77-91ea-4eb7-bbff-8ef8917960b7\" target=\"_top\" title=\"psysml:5bd4ed77-91ea-4eb7-bbff-8ef8917960b7\" xlink:actuate=\"onRequest\" xlink:href=\"psysml:5bd4ed77-91ea-4eb7-bbff-8ef8917960b7\" xlink:show=\"new\" xlink:title=\"psysml:5bd4ed77-91ea-4eb7-bbff-8ef8917960b7\" xlink:type=\"simple\"><rect fill=\"#FEFECE\" filter=\"url(#fu7p0cckpbq8)\" height=\"45.9375\" id=\"E7\" rx=\"10\" ry=\"10\" style=\"stroke: #A80036; stroke-width: 1.5;\" width=\"97\" x=\"163.5\" y=\"41\"/><ellipse cx=\"178.5\" cy=\"59.9688\" fill=\"#FFA500\" rx=\"11\" ry=\"11\" style=\"stroke: #A80036; stroke-width: 1.0;\"/><path d=\"M178.25,65.4375 Q176.5,65.4375 175.5469,64.4063 Q174.6094,63.3594 174.6094,61.5156 L174.6094,54.625 L176.6719,54.625 L176.6719,54.7813 Q176.5781,54.875 176.5469,55.0156 Q176.5313,55.1406 176.5313,55.4063 L176.5313,61.5313 Q176.5313,62.625 176.9063,63.25 Q177.2813,63.875 178.2656,63.875 Q179.25,63.875 179.6406,63.25 Q180.0313,62.625 180.0313,61.4844 L180.0313,54.625 L181.9063,54.625 L181.9063,61.4688 Q181.9063,63.5 180.875,64.4688 Q179.8594,65.4375 178.25,65.4375 Z \"/><text fill=\"#000000\" font-family=\"sans-serif\" font-size=\"12\" font-style=\"italic\" lengthAdjust=\"spacingAndGlyphs\" textLength=\"69\" x=\"190.5\" y=\"57.1387\">«attribute»</text><text fill=\"#000000\" font-family=\"sans-serif\" font-size=\"12\" lengthAdjust=\"spacingAndGlyphs\" textLength=\"8\" x=\"219\" y=\"71.1074\">b</text><line style=\"stroke: #A80036; stroke-width: 1.5;\" x1=\"164.5\" x2=\"259.5\" y1=\"78.9375\" y2=\"78.9375\"/></a><!--MD5=[b9389687b975829384b498ac4b7476b2]\n",
       "class E8--><a href=\"psysml:88436cf5-d13a-4d80-b468-40a83b162e0f\" target=\"_top\" title=\"psysml:88436cf5-d13a-4d80-b468-40a83b162e0f\" xlink:actuate=\"onRequest\" xlink:href=\"psysml:88436cf5-d13a-4d80-b468-40a83b162e0f\" xlink:show=\"new\" xlink:title=\"psysml:88436cf5-d13a-4d80-b468-40a83b162e0f\" xlink:type=\"simple\"><rect fill=\"#FEFECE\" filter=\"url(#fu7p0cckpbq8)\" height=\"45.9375\" id=\"E8\" rx=\"10\" ry=\"10\" style=\"stroke: #A80036; stroke-width: 1.5;\" width=\"97\" x=\"31.5\" y=\"41\"/><ellipse cx=\"46.5\" cy=\"59.9688\" fill=\"#FFA500\" rx=\"11\" ry=\"11\" style=\"stroke: #A80036; stroke-width: 1.0;\"/><path d=\"M46.25,65.4375 Q44.5,65.4375 43.5469,64.4063 Q42.6094,63.3594 42.6094,61.5156 L42.6094,54.625 L44.6719,54.625 L44.6719,54.7813 Q44.5781,54.875 44.5469,55.0156 Q44.5313,55.1406 44.5313,55.4063 L44.5313,61.5313 Q44.5313,62.625 44.9063,63.25 Q45.2813,63.875 46.2656,63.875 Q47.25,63.875 47.6406,63.25 Q48.0313,62.625 48.0313,61.4844 L48.0313,54.625 L49.9063,54.625 L49.9063,61.4688 Q49.9063,63.5 48.875,64.4688 Q47.8594,65.4375 46.25,65.4375 Z \"/><text fill=\"#000000\" font-family=\"sans-serif\" font-size=\"12\" font-style=\"italic\" lengthAdjust=\"spacingAndGlyphs\" textLength=\"69\" x=\"58.5\" y=\"57.1387\">«attribute»</text><text fill=\"#000000\" font-family=\"sans-serif\" font-size=\"12\" lengthAdjust=\"spacingAndGlyphs\" textLength=\"7\" x=\"87.5\" y=\"71.1074\">c</text><line style=\"stroke: #A80036; stroke-width: 1.5;\" x1=\"32.5\" x2=\"127.5\" y1=\"78.9375\" y2=\"78.9375\"/></a><!--MD5=[05d275557350bfb9b23a4ef7222b4c39]\n",
       "link E3 to E2--><a href=\"psysml:b5c275d4-de01-4c83-8a05-69f2b086225e\" target=\"_top\" title=\"psysml:b5c275d4-de01-4c83-8a05-69f2b086225e\" xlink:actuate=\"onRequest\" xlink:href=\"psysml:b5c275d4-de01-4c83-8a05-69f2b086225e\" xlink:show=\"new\" xlink:title=\"psysml:b5c275d4-de01-4c83-8a05-69f2b086225e\" xlink:type=\"simple\"><path d=\"M770.12,87.19 C761.67,102.99 749.86,125.06 738.68,145.95 \" fill=\"none\" id=\"E3-&gt;E2\" style=\"stroke: #A80036; stroke-width: 1.0;\"/><polygon fill=\"#FFFFFF\" points=\"729.11,163.82,731.9109,143.7662,744.252,150.3767,729.11,163.82\" style=\"stroke: #A80036; stroke-width: 1.0;\"/><ellipse cx=\"736.3654\" cy=\"139.686\" fill=\"#A80036\" rx=\"2\" ry=\"2\" style=\"stroke: #A80036; stroke-width: 1.0;\"/><ellipse cx=\"745.1804\" cy=\"144.4078\" fill=\"#A80036\" rx=\"2\" ry=\"2\" style=\"stroke: #A80036; stroke-width: 1.0;\"/></a><!--MD5=[ddeed8deb2209213b62e6cfabaa108b2]\n",
       "reverse link E4 to E2--><a href=\"psysml:1d7d0081-d3e1-46bd-ad63-b0e63267b1e5\" target=\"_top\" title=\"psysml:1d7d0081-d3e1-46bd-ad63-b0e63267b1e5\" xlink:actuate=\"onRequest\" xlink:href=\"psysml:1d7d0081-d3e1-46bd-ad63-b0e63267b1e5\" xlink:show=\"new\" xlink:title=\"psysml:1d7d0081-d3e1-46bd-ad63-b0e63267b1e5\" xlink:type=\"simple\"><path d=\"M647.35,98.85 C657.91,118.31 671.28,142.97 682.58,163.82 \" fill=\"none\" id=\"E4&lt;-E2\" style=\"stroke: #A80036; stroke-width: 1.0;\"/><polygon fill=\"#FFFFFF\" points=\"641.03,87.19,640.3682,94.3707,646.742,97.7433,647.4038,90.5627,641.03,87.19\" style=\"stroke: #A80036; stroke-width: 1.0;\"/><text fill=\"#000000\" font-family=\"sans-serif\" font-size=\"13\" lengthAdjust=\"spacingAndGlyphs\" textLength=\"8\" x=\"666\" y=\"130.0669\">p</text></a><!--MD5=[11c60637c427d22b60b02b1e114c2fde]\n",
       "@startuml\r\n",
       " \r\n",
       "package \"ParameterTest\" as E1  [[psysml:86781c8e-3979-42bc-84a0-50d047026621 ]]  {\r\n",
       "comp def \"A\" as E2 << <<(D,brown) attribute  def>> [[psysml:2ec9bc29-3801-4d04-bd01-a8a7cc509576 ]] {\r\n",
       "- - attributes - -\r\n",
       "x: String\r\n",
       "y: A\r\n",
       "}\r\n",
       "comp usage \"a: A \" as E3 << <<(U,orange) attribute>> [[psysml:904ee486-6b36-4246-8723-5e3acfd2e245 ]] {\r\n",
       "}\r\n",
       "comp def \"F\" as E4 << <<(B,lemonchiffon) calculation  def>> [[psysml:824349d9-f3af-4f57-b650-7b4ce1821d09 ]] {\r\n",
       "}\r\n",
       "comp usage \"f \" as E5 << <<(U,orange) attribute>> [[psysml:8204b4e2-616f-4bbc-afa4-9ecd277b5579 ]] {\r\n",
       "}\r\n",
       "comp usage \"g \" as E6 << <<(U,orange) attribute>> [[psysml:86e22d1e-a4d5-4fc2-80cd-01d3f8e601c3 ]] {\r\n",
       "}\r\n",
       "comp usage \"b \" as E7 << <<(U,orange) attribute>> [[psysml:5bd4ed77-91ea-4eb7-bbff-8ef8917960b7 ]] {\r\n",
       "}\r\n",
       "comp usage \"c \" as E8 << <<(U,orange) attribute>> [[psysml:88436cf5-d13a-4d80-b468-40a83b162e0f ]] {\r\n",
       "}\r\n",
       "}\r\n",
       "E3 - -:|> E2 [[psysml:b5c275d4-de01-4c83-8a05-69f2b086225e ]] \r\n",
       "E4 o- - E2 [[psysml:1d7d0081-d3e1-46bd-ad63-b0e63267b1e5 ]] : p\r\n",
       "@enduml\r\n",
       "\n",
       "PlantUML version 1.2020.13(Sat Jun 13 12:26:38 UTC 2020)\n",
       "(EPL source distribution)\n",
       "Java Runtime: OpenJDK Runtime Environment\n",
       "JVM: OpenJDK 64-Bit Server VM\n",
       "Default Encoding: UTF-8\n",
       "Language: en\n",
       "Country: null\n",
       "--></g></svg>"
      ]
     },
     "execution_count": 31,
     "metadata": {},
     "output_type": "execute_result"
    }
   ],
   "source": [
    "%viz --style=\"PLANTUML\" --view=\"Tree\" \"ParameterTest\""
   ]
  },
  {
   "cell_type": "code",
   "execution_count": 32,
   "id": "f7f25ee1",
   "metadata": {
    "execution": {
     "iopub.execute_input": "2022-03-03T09:56:16.523976Z",
     "iopub.status.busy": "2022-03-03T09:56:16.523539Z",
     "iopub.status.idle": "2022-03-03T09:56:16.609958Z",
     "shell.execute_reply": "2022-03-03T09:56:16.608660Z"
    }
   },
   "outputs": [
    {
     "data": {
      "image/svg+xml": [
       "<?xml version=\"1.0\" encoding=\"UTF-8\" standalone=\"no\"?><svg xmlns=\"http://www.w3.org/2000/svg\" xmlns:xlink=\"http://www.w3.org/1999/xlink\" contentScriptType=\"application/ecmascript\" contentStyleType=\"text/css\" height=\"300px\" preserveAspectRatio=\"none\" style=\"width:603px;height:300px;background:#000000;\" version=\"1.1\" viewBox=\"0 0 603 300\" width=\"603px\" zoomAndPan=\"magnify\"><defs/><g><rect fill=\"#0F1926\" height=\"1\" style=\"stroke: #0F1926; stroke-width: 1.0;\" width=\"1\" x=\"0\" y=\"0\"/><rect fill=\"#FFFFFF\" height=\"202.8012\" style=\"stroke: #FFFFFF; stroke-width: 1.0;\" width=\"602\" x=\"0\" y=\"0\"/><text fill=\"#000000\" font-family=\"sans-serif\" font-size=\"12\" font-weight=\"bold\" lengthAdjust=\"spacingAndGlyphs\" textLength=\"139\" x=\"5\" y=\"16.1387\">Welcome to PlantUML!</text><text fill=\"#000000\" font-family=\"sans-serif\" font-size=\"12\" lengthAdjust=\"spacingAndGlyphs\" textLength=\"0\" x=\"9\" y=\"30.1074\"/><text fill=\"#000000\" font-family=\"sans-serif\" font-size=\"12\" lengthAdjust=\"spacingAndGlyphs\" textLength=\"293\" x=\"5\" y=\"44.0762\">If you use this software, you accept its license.</text><text fill=\"#000000\" font-family=\"sans-serif\" font-size=\"12\" lengthAdjust=\"spacingAndGlyphs\" textLength=\"107\" x=\"5\" y=\"58.0449\">(details by typing</text><text fill=\"#000000\" font-family=\"monospace\" font-size=\"12\" lengthAdjust=\"spacingAndGlyphs\" textLength=\"42\" x=\"116\" y=\"58.595\">license</text><text fill=\"#000000\" font-family=\"sans-serif\" font-size=\"12\" lengthAdjust=\"spacingAndGlyphs\" textLength=\"56\" x=\"162\" y=\"58.0449\">keyword)</text><text fill=\"#000000\" font-family=\"sans-serif\" font-size=\"12\" lengthAdjust=\"spacingAndGlyphs\" textLength=\"0\" x=\"9\" y=\"72.0137\"/><text fill=\"#000000\" font-family=\"sans-serif\" font-size=\"12\" lengthAdjust=\"spacingAndGlyphs\" textLength=\"283\" x=\"5\" y=\"85.9824\">You can start with a simple UML Diagram like:</text><text fill=\"#000000\" font-family=\"sans-serif\" font-size=\"12\" lengthAdjust=\"spacingAndGlyphs\" textLength=\"0\" x=\"9\" y=\"99.9512\"/><text fill=\"#000000\" font-family=\"monospace\" font-size=\"12\" lengthAdjust=\"spacingAndGlyphs\" textLength=\"102\" x=\"5\" y=\"113.0893\">Bob-&gt;Alice: Hello</text><text fill=\"#000000\" font-family=\"sans-serif\" font-size=\"12\" lengthAdjust=\"spacingAndGlyphs\" textLength=\"0\" x=\"9\" y=\"126.508\"/><text fill=\"#000000\" font-family=\"sans-serif\" font-size=\"12\" lengthAdjust=\"spacingAndGlyphs\" textLength=\"14\" x=\"5\" y=\"140.4768\">Or</text><text fill=\"#000000\" font-family=\"sans-serif\" font-size=\"12\" lengthAdjust=\"spacingAndGlyphs\" textLength=\"0\" x=\"9\" y=\"154.4455\"/><text fill=\"#000000\" font-family=\"monospace\" font-size=\"12\" lengthAdjust=\"spacingAndGlyphs\" textLength=\"78\" x=\"5\" y=\"167.5837\">class Example</text><text fill=\"#000000\" font-family=\"sans-serif\" font-size=\"12\" lengthAdjust=\"spacingAndGlyphs\" textLength=\"0\" x=\"9\" y=\"181.0023\"/><text fill=\"#000000\" font-family=\"sans-serif\" font-size=\"12\" lengthAdjust=\"spacingAndGlyphs\" textLength=\"349\" x=\"5\" y=\"194.9711\">You will find more information about PlantUML syntax on</text><text fill=\"#000000\" font-family=\"sans-serif\" font-size=\"12\" lengthAdjust=\"spacingAndGlyphs\" text-decoration=\"underline\" textLength=\"129\" x=\"358\" y=\"194.9711\">https://plantuml.com</text><image height=\"71\" width=\"80\" x=\"516\" xlink:href=\"data:image/png;base64,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\" y=\"6\"/><rect fill=\"#000000\" height=\"96.4844\" style=\"stroke: #000000; stroke-width: 1.0;\" width=\"602\" x=\"0\" y=\"202.8012\"/><rect fill=\"#33FF02\" height=\"21.2969\" style=\"stroke: #33FF02; stroke-width: 1.0;\" width=\"145\" x=\"5\" y=\"207.8012\"/><text fill=\"#000000\" font-family=\"sans-serif\" font-size=\"14\" font-weight=\"bold\" lengthAdjust=\"spacingAndGlyphs\" textLength=\"143\" x=\"6\" y=\"222.8012\">[From string (line 2) ]</text><text fill=\"#33FF02\" font-family=\"sans-serif\" font-size=\"14\" font-weight=\"bold\" lengthAdjust=\"spacingAndGlyphs\" textLength=\"0\" x=\"9\" y=\"243.0981\"/><text fill=\"#33FF02\" font-family=\"sans-serif\" font-size=\"14\" font-weight=\"bold\" lengthAdjust=\"spacingAndGlyphs\" textLength=\"70\" x=\"5\" y=\"259.3949\">@startuml</text><text fill=\"#33FF02\" font-family=\"sans-serif\" font-size=\"14\" font-weight=\"bold\" lengthAdjust=\"spacingAndGlyphs\" textLength=\"0\" x=\"9\" y=\"275.6918\"/><text fill=\"#FF0000\" font-family=\"sans-serif\" font-size=\"14\" font-weight=\"bold\" lengthAdjust=\"spacingAndGlyphs\" textLength=\"124\" x=\"9\" y=\"291.9887\">Empty description</text><!--MD5=[f59edd8218d337f74d0c332fc6737304]\n",
       "@startuml\r\n",
       " \r\n",
       "@enduml\r\n",
       "\n",
       "PlantUML version 1.2020.13(Sat Jun 13 12:26:38 UTC 2020)\n",
       "(EPL source distribution)\n",
       "Java Runtime: OpenJDK Runtime Environment\n",
       "JVM: OpenJDK 64-Bit Server VM\n",
       "Default Encoding: UTF-8\n",
       "Language: en\n",
       "Country: null\n",
       "--></g></svg>"
      ]
     },
     "execution_count": 32,
     "metadata": {},
     "output_type": "execute_result"
    }
   ],
   "source": [
    "%viz --style=\"PLANTUML\" --view=\"State\" \"ParameterTest\""
   ]
  },
  {
   "cell_type": "code",
   "execution_count": 33,
   "id": "ad5fd89c",
   "metadata": {
    "execution": {
     "iopub.execute_input": "2022-03-03T09:56:16.659414Z",
     "iopub.status.busy": "2022-03-03T09:56:16.658975Z",
     "iopub.status.idle": "2022-03-03T09:56:16.705092Z",
     "shell.execute_reply": "2022-03-03T09:56:16.703178Z"
    }
   },
   "outputs": [
    {
     "data": {
      "image/svg+xml": [
       "<?xml version=\"1.0\" encoding=\"UTF-8\" standalone=\"no\"?><svg xmlns=\"http://www.w3.org/2000/svg\" xmlns:xlink=\"http://www.w3.org/1999/xlink\" contentScriptType=\"application/ecmascript\" contentStyleType=\"text/css\" height=\"216px\" preserveAspectRatio=\"none\" style=\"width:872px;height:216px;\" version=\"1.1\" viewBox=\"0 0 872 216\" width=\"872px\" zoomAndPan=\"magnify\"><defs><filter height=\"300%\" id=\"fs9f5sav8dszg\" width=\"300%\" x=\"-1\" y=\"-1\"><feGaussianBlur result=\"blurOut\" stdDeviation=\"2.0\"/><feColorMatrix in=\"blurOut\" result=\"blurOut2\" type=\"matrix\" values=\"0 0 0 0 0 0 0 0 0 0 0 0 0 0 0 0 0 0 .4 0\"/><feOffset dx=\"4.0\" dy=\"4.0\" in=\"blurOut2\" result=\"blurOut3\"/><feBlend in=\"SourceGraphic\" in2=\"blurOut3\" mode=\"normal\"/></filter></defs><g><!--MD5=[fbc87193dbaf4d95561dea2c320d4a47]\n",
       "cluster E1--><a href=\"psysml:86781c8e-3979-42bc-84a0-50d047026621\" target=\"_top\" title=\"psysml:86781c8e-3979-42bc-84a0-50d047026621\" xlink:actuate=\"onRequest\" xlink:href=\"psysml:86781c8e-3979-42bc-84a0-50d047026621\" xlink:show=\"new\" xlink:title=\"psysml:86781c8e-3979-42bc-84a0-50d047026621\" xlink:type=\"simple\"><polygon fill=\"#FFFFFF\" filter=\"url(#fs9f5sav8dszg)\" points=\"16,6,124,6,131,28.2969,850,28.2969,850,204.72,16,204.72,16,6\" style=\"stroke: #000000; stroke-width: 1.5;\"/><line style=\"stroke: #000000; stroke-width: 1.5;\" x1=\"16\" x2=\"131\" y1=\"28.2969\" y2=\"28.2969\"/><text fill=\"#000000\" font-family=\"sans-serif\" font-size=\"14\" font-weight=\"bold\" lengthAdjust=\"spacingAndGlyphs\" textLength=\"102\" x=\"20\" y=\"20.9951\">ParameterTest</text></a><!--MD5=[f6df4d0ebaf0b5dfb2ced0ae5af7c670]\n",
       "cluster E4--><a href=\"psysml:824349d9-f3af-4f57-b650-7b4ce1821d09\" target=\"_top\" title=\"psysml:824349d9-f3af-4f57-b650-7b4ce1821d09\" xlink:actuate=\"onRequest\" xlink:href=\"psysml:824349d9-f3af-4f57-b650-7b4ce1821d09\" xlink:show=\"new\" xlink:title=\"psysml:824349d9-f3af-4f57-b650-7b4ce1821d09\" xlink:type=\"simple\"><rect fill=\"#FFFFFF\" filter=\"url(#fs9f5sav8dszg)\" height=\"110.72\" id=\"E4\" style=\"stroke: #A80036; stroke-width: 1.5;\" width=\"150\" x=\"684\" y=\"64\"/><rect fill=\"#FEFECE\" height=\"37.9375\" style=\"stroke: #A80036; stroke-width: 1.5;\" width=\"150\" x=\"684\" y=\"64\"/><text fill=\"#000000\" font-family=\"sans-serif\" font-size=\"12\" font-style=\"italic\" lengthAdjust=\"spacingAndGlyphs\" textLength=\"110\" x=\"704\" y=\"80.1387\">«calculation  def»</text><text fill=\"#000000\" font-family=\"sans-serif\" font-size=\"12\" lengthAdjust=\"spacingAndGlyphs\" textLength=\"7\" x=\"755.5\" y=\"94.1074\">F</text></a><g id=\"E1.E2\"><a href=\"psysml:2ec9bc29-3801-4d04-bd01-a8a7cc509576\" target=\"_top\" title=\"psysml:2ec9bc29-3801-4d04-bd01-a8a7cc509576\" xlink:actuate=\"onRequest\" xlink:href=\"psysml:2ec9bc29-3801-4d04-bd01-a8a7cc509576\" xlink:show=\"new\" xlink:title=\"psysml:2ec9bc29-3801-4d04-bd01-a8a7cc509576\" xlink:type=\"simple\"><rect fill=\"#FEFECE\" filter=\"url(#fs9f5sav8dszg)\" height=\"42.9375\" id=\"E2\" style=\"stroke: #A80036; stroke-width: 1.5;\" width=\"130\" x=\"515\" y=\"99\"/><ellipse cx=\"532.25\" cy=\"117.9688\" fill=\"#A52A2A\" rx=\"11\" ry=\"11\" style=\"stroke: #A80036; stroke-width: 1.0;\"/><path d=\"M529.4688,122.9688 L529.4688,112.375 L532.2031,112.375 Q533.5938,112.375 534.3594,112.7656 Q535.1406,113.1406 535.6719,113.8438 Q536.2031,114.5469 536.5,115.5469 Q536.7969,116.5313 536.7969,117.75 Q536.75,119.3438 536.25,120.5313 Q535.7656,121.7031 534.7188,122.3438 Q533.6875,122.9688 532,122.9688 L529.4688,122.9688 Z M531.3281,121.4688 L531.9531,121.4688 Q533.0313,121.4688 533.6875,121.0156 Q534.3438,120.5625 534.625,119.7344 Q534.9219,118.8906 534.9063,117.7656 Q534.9063,116.5938 534.6563,115.7344 Q534.4063,114.8594 533.7969,114.3906 Q533.1875,113.9063 532.1406,113.9063 L531.3281,113.9063 L531.3281,121.4688 Z \"/><text fill=\"#000000\" font-family=\"sans-serif\" font-size=\"12\" font-style=\"italic\" lengthAdjust=\"spacingAndGlyphs\" textLength=\"97\" x=\"544.75\" y=\"115.1387\">«attribute  def»</text><text fill=\"#000000\" font-family=\"sans-serif\" font-size=\"12\" lengthAdjust=\"spacingAndGlyphs\" textLength=\"8\" x=\"589.25\" y=\"129.1074\">A</text></a></g><!--MD5=[09b614a08d8cba4a07c9adeb5e0fee81]\n",
       "class E3--><a href=\"psysml:904ee486-6b36-4246-8723-5e3acfd2e245\" target=\"_top\" title=\"psysml:904ee486-6b36-4246-8723-5e3acfd2e245\" xlink:actuate=\"onRequest\" xlink:href=\"psysml:904ee486-6b36-4246-8723-5e3acfd2e245\" xlink:show=\"new\" xlink:title=\"psysml:904ee486-6b36-4246-8723-5e3acfd2e245\" xlink:type=\"simple\"><rect fill=\"#FEFECE\" filter=\"url(#fs9f5sav8dszg)\" height=\"45.9375\" id=\"E3\" rx=\"10\" ry=\"10\" style=\"stroke: #A80036; stroke-width: 1.5;\" width=\"97\" x=\"559.5\" y=\"41\"/><ellipse cx=\"574.5\" cy=\"59.9688\" fill=\"#FFA500\" rx=\"11\" ry=\"11\" style=\"stroke: #A80036; stroke-width: 1.0;\"/><path d=\"M574.25,65.4375 Q572.5,65.4375 571.5469,64.4063 Q570.6094,63.3594 570.6094,61.5156 L570.6094,54.625 L572.6719,54.625 L572.6719,54.7813 Q572.5781,54.875 572.5469,55.0156 Q572.5313,55.1406 572.5313,55.4063 L572.5313,61.5313 Q572.5313,62.625 572.9063,63.25 Q573.2813,63.875 574.2656,63.875 Q575.25,63.875 575.6406,63.25 Q576.0313,62.625 576.0313,61.4844 L576.0313,54.625 L577.9063,54.625 L577.9063,61.4688 Q577.9063,63.5 576.875,64.4688 Q575.8594,65.4375 574.25,65.4375 Z \"/><text fill=\"#000000\" font-family=\"sans-serif\" font-size=\"12\" font-style=\"italic\" lengthAdjust=\"spacingAndGlyphs\" textLength=\"69\" x=\"586.5\" y=\"57.1387\">«attribute»</text><text fill=\"#000000\" font-family=\"sans-serif\" font-size=\"12\" lengthAdjust=\"spacingAndGlyphs\" textLength=\"24\" x=\"607\" y=\"71.1074\">a: A</text><line style=\"stroke: #A80036; stroke-width: 1.5;\" x1=\"560.5\" x2=\"655.5\" y1=\"78.9375\" y2=\"78.9375\"/></a><!--MD5=[b9389687b975829384b498ac4b7476b2]\n",
       "class E8--><a href=\"psysml:8204b4e2-616f-4bbc-afa4-9ecd277b5579\" target=\"_top\" title=\"psysml:8204b4e2-616f-4bbc-afa4-9ecd277b5579\" xlink:actuate=\"onRequest\" xlink:href=\"psysml:8204b4e2-616f-4bbc-afa4-9ecd277b5579\" xlink:show=\"new\" xlink:title=\"psysml:8204b4e2-616f-4bbc-afa4-9ecd277b5579\" xlink:type=\"simple\"><rect fill=\"#FEFECE\" filter=\"url(#fs9f5sav8dszg)\" height=\"45.9375\" id=\"E8\" rx=\"10\" ry=\"10\" style=\"stroke: #A80036; stroke-width: 1.5;\" width=\"97\" x=\"427.5\" y=\"41\"/><ellipse cx=\"442.5\" cy=\"59.9688\" fill=\"#FFA500\" rx=\"11\" ry=\"11\" style=\"stroke: #A80036; stroke-width: 1.0;\"/><path d=\"M442.25,65.4375 Q440.5,65.4375 439.5469,64.4063 Q438.6094,63.3594 438.6094,61.5156 L438.6094,54.625 L440.6719,54.625 L440.6719,54.7813 Q440.5781,54.875 440.5469,55.0156 Q440.5313,55.1406 440.5313,55.4063 L440.5313,61.5313 Q440.5313,62.625 440.9063,63.25 Q441.2813,63.875 442.2656,63.875 Q443.25,63.875 443.6406,63.25 Q444.0313,62.625 444.0313,61.4844 L444.0313,54.625 L445.9063,54.625 L445.9063,61.4688 Q445.9063,63.5 444.875,64.4688 Q443.8594,65.4375 442.25,65.4375 Z \"/><text fill=\"#000000\" font-family=\"sans-serif\" font-size=\"12\" font-style=\"italic\" lengthAdjust=\"spacingAndGlyphs\" textLength=\"69\" x=\"454.5\" y=\"57.1387\">«attribute»</text><text fill=\"#000000\" font-family=\"sans-serif\" font-size=\"12\" lengthAdjust=\"spacingAndGlyphs\" textLength=\"4\" x=\"485\" y=\"71.1074\">f</text><line style=\"stroke: #A80036; stroke-width: 1.5;\" x1=\"428.5\" x2=\"523.5\" y1=\"78.9375\" y2=\"78.9375\"/></a><!--MD5=[fd4143e9d270a159db93a4ea2a975926]\n",
       "class E9--><a href=\"psysml:86e22d1e-a4d5-4fc2-80cd-01d3f8e601c3\" target=\"_top\" title=\"psysml:86e22d1e-a4d5-4fc2-80cd-01d3f8e601c3\" xlink:actuate=\"onRequest\" xlink:href=\"psysml:86e22d1e-a4d5-4fc2-80cd-01d3f8e601c3\" xlink:show=\"new\" xlink:title=\"psysml:86e22d1e-a4d5-4fc2-80cd-01d3f8e601c3\" xlink:type=\"simple\"><rect fill=\"#FEFECE\" filter=\"url(#fs9f5sav8dszg)\" height=\"45.9375\" id=\"E9\" rx=\"10\" ry=\"10\" style=\"stroke: #A80036; stroke-width: 1.5;\" width=\"97\" x=\"295.5\" y=\"41\"/><ellipse cx=\"310.5\" cy=\"59.9688\" fill=\"#FFA500\" rx=\"11\" ry=\"11\" style=\"stroke: #A80036; stroke-width: 1.0;\"/><path d=\"M310.25,65.4375 Q308.5,65.4375 307.5469,64.4063 Q306.6094,63.3594 306.6094,61.5156 L306.6094,54.625 L308.6719,54.625 L308.6719,54.7813 Q308.5781,54.875 308.5469,55.0156 Q308.5313,55.1406 308.5313,55.4063 L308.5313,61.5313 Q308.5313,62.625 308.9063,63.25 Q309.2813,63.875 310.2656,63.875 Q311.25,63.875 311.6406,63.25 Q312.0313,62.625 312.0313,61.4844 L312.0313,54.625 L313.9063,54.625 L313.9063,61.4688 Q313.9063,63.5 312.875,64.4688 Q311.8594,65.4375 310.25,65.4375 Z \"/><text fill=\"#000000\" font-family=\"sans-serif\" font-size=\"12\" font-style=\"italic\" lengthAdjust=\"spacingAndGlyphs\" textLength=\"69\" x=\"322.5\" y=\"57.1387\">«attribute»</text><text fill=\"#000000\" font-family=\"sans-serif\" font-size=\"12\" lengthAdjust=\"spacingAndGlyphs\" textLength=\"8\" x=\"351\" y=\"71.1074\">g</text><line style=\"stroke: #A80036; stroke-width: 1.5;\" x1=\"296.5\" x2=\"391.5\" y1=\"78.9375\" y2=\"78.9375\"/></a><!--MD5=[96f4274e9e20536e775497830990834d]\n",
       "class E10--><a href=\"psysml:5bd4ed77-91ea-4eb7-bbff-8ef8917960b7\" target=\"_top\" title=\"psysml:5bd4ed77-91ea-4eb7-bbff-8ef8917960b7\" xlink:actuate=\"onRequest\" xlink:href=\"psysml:5bd4ed77-91ea-4eb7-bbff-8ef8917960b7\" xlink:show=\"new\" xlink:title=\"psysml:5bd4ed77-91ea-4eb7-bbff-8ef8917960b7\" xlink:type=\"simple\"><rect fill=\"#FEFECE\" filter=\"url(#fs9f5sav8dszg)\" height=\"45.9375\" id=\"E10\" rx=\"10\" ry=\"10\" style=\"stroke: #A80036; stroke-width: 1.5;\" width=\"97\" x=\"163.5\" y=\"41\"/><ellipse cx=\"178.5\" cy=\"59.9688\" fill=\"#FFA500\" rx=\"11\" ry=\"11\" style=\"stroke: #A80036; stroke-width: 1.0;\"/><path d=\"M178.25,65.4375 Q176.5,65.4375 175.5469,64.4063 Q174.6094,63.3594 174.6094,61.5156 L174.6094,54.625 L176.6719,54.625 L176.6719,54.7813 Q176.5781,54.875 176.5469,55.0156 Q176.5313,55.1406 176.5313,55.4063 L176.5313,61.5313 Q176.5313,62.625 176.9063,63.25 Q177.2813,63.875 178.2656,63.875 Q179.25,63.875 179.6406,63.25 Q180.0313,62.625 180.0313,61.4844 L180.0313,54.625 L181.9063,54.625 L181.9063,61.4688 Q181.9063,63.5 180.875,64.4688 Q179.8594,65.4375 178.25,65.4375 Z \"/><text fill=\"#000000\" font-family=\"sans-serif\" font-size=\"12\" font-style=\"italic\" lengthAdjust=\"spacingAndGlyphs\" textLength=\"69\" x=\"190.5\" y=\"57.1387\">«attribute»</text><text fill=\"#000000\" font-family=\"sans-serif\" font-size=\"12\" lengthAdjust=\"spacingAndGlyphs\" textLength=\"8\" x=\"219\" y=\"71.1074\">b</text><line style=\"stroke: #A80036; stroke-width: 1.5;\" x1=\"164.5\" x2=\"259.5\" y1=\"78.9375\" y2=\"78.9375\"/></a><!--MD5=[1dd1bfd58a279cf63c5f349dbc8fc6a1]\n",
       "class E11--><a href=\"psysml:88436cf5-d13a-4d80-b468-40a83b162e0f\" target=\"_top\" title=\"psysml:88436cf5-d13a-4d80-b468-40a83b162e0f\" xlink:actuate=\"onRequest\" xlink:href=\"psysml:88436cf5-d13a-4d80-b468-40a83b162e0f\" xlink:show=\"new\" xlink:title=\"psysml:88436cf5-d13a-4d80-b468-40a83b162e0f\" xlink:type=\"simple\"><rect fill=\"#FEFECE\" filter=\"url(#fs9f5sav8dszg)\" height=\"45.9375\" id=\"E11\" rx=\"10\" ry=\"10\" style=\"stroke: #A80036; stroke-width: 1.5;\" width=\"97\" x=\"31.5\" y=\"41\"/><ellipse cx=\"46.5\" cy=\"59.9688\" fill=\"#FFA500\" rx=\"11\" ry=\"11\" style=\"stroke: #A80036; stroke-width: 1.0;\"/><path d=\"M46.25,65.4375 Q44.5,65.4375 43.5469,64.4063 Q42.6094,63.3594 42.6094,61.5156 L42.6094,54.625 L44.6719,54.625 L44.6719,54.7813 Q44.5781,54.875 44.5469,55.0156 Q44.5313,55.1406 44.5313,55.4063 L44.5313,61.5313 Q44.5313,62.625 44.9063,63.25 Q45.2813,63.875 46.2656,63.875 Q47.25,63.875 47.6406,63.25 Q48.0313,62.625 48.0313,61.4844 L48.0313,54.625 L49.9063,54.625 L49.9063,61.4688 Q49.9063,63.5 48.875,64.4688 Q47.8594,65.4375 46.25,65.4375 Z \"/><text fill=\"#000000\" font-family=\"sans-serif\" font-size=\"12\" font-style=\"italic\" lengthAdjust=\"spacingAndGlyphs\" textLength=\"69\" x=\"58.5\" y=\"57.1387\">«attribute»</text><text fill=\"#000000\" font-family=\"sans-serif\" font-size=\"12\" lengthAdjust=\"spacingAndGlyphs\" textLength=\"7\" x=\"87.5\" y=\"71.1074\">c</text><line style=\"stroke: #A80036; stroke-width: 1.5;\" x1=\"32.5\" x2=\"127.5\" y1=\"78.9375\" y2=\"78.9375\"/></a><text fill=\"#000000\" font-family=\"sans-serif\" font-size=\"14\" lengthAdjust=\"spacingAndGlyphs\" textLength=\"9\" x=\"697.5\" y=\"42.6982\">p</text><rect fill=\"#A80036\" height=\"12\" style=\"stroke: #FEFECE; stroke-width: 1.5;\" width=\"12\" x=\"696\" y=\"58\"/><text fill=\"#000000\" font-family=\"sans-serif\" font-size=\"14\" lengthAdjust=\"spacingAndGlyphs\" textLength=\"9\" x=\"744.5\" y=\"42.6982\">q</text><rect fill=\"#A80036\" height=\"12\" style=\"stroke: #FEFECE; stroke-width: 1.5;\" width=\"12\" x=\"743\" y=\"58\"/><text fill=\"#000000\" font-family=\"sans-serif\" font-size=\"14\" lengthAdjust=\"spacingAndGlyphs\" textLength=\"39\" x=\"729.5\" y=\"193.7151\">result</text><rect fill=\"#A80036\" height=\"12\" style=\"stroke: #FEFECE; stroke-width: 1.5;\" width=\"12\" x=\"743\" y=\"168.72\"/><!--MD5=[05d275557350bfb9b23a4ef7222b4c39]\n",
       "link E3 to E2--><a href=\"psysml:b5c275d4-de01-4c83-8a05-69f2b086225e\" target=\"_top\" title=\"psysml:b5c275d4-de01-4c83-8a05-69f2b086225e\" xlink:actuate=\"onRequest\" xlink:href=\"psysml:b5c275d4-de01-4c83-8a05-69f2b086225e\" xlink:show=\"new\" xlink:title=\"psysml:b5c275d4-de01-4c83-8a05-69f2b086225e\" xlink:type=\"simple\"><path d=\"M596.61,87.17 C596.55,87.29 596.49,87.41 596.42,87.53 \" fill=\"none\" id=\"E3-&gt;E2\" style=\"stroke: #A80036; stroke-width: 1.0;\"/><polygon fill=\"#FFFFFF\" points=\"590.57,98.93,593.0182,78.8301,605.4734,85.2228,590.57,98.93\" style=\"stroke: #A80036; stroke-width: 1.0;\"/><ellipse cx=\"597.4002\" cy=\"74.6723\" fill=\"#A80036\" rx=\"2\" ry=\"2\" style=\"stroke: #A80036; stroke-width: 1.0;\"/><ellipse cx=\"606.2969\" cy=\"79.2385\" fill=\"#A80036\" rx=\"2\" ry=\"2\" style=\"stroke: #A80036; stroke-width: 1.0;\"/></a><!--MD5=[8c1cad828f8e62a641b16ff51e0c4b1a]\n",
       "@startuml\r\n",
       "skinparam ranksep 10\r\n",
       "skinparam rectangle {\r\n",
       " backgroundColor<<block>> LightGreen\r\n",
       "}\r\n",
       " \r\n",
       "package \"ParameterTest\" as E1  [[psysml:86781c8e-3979-42bc-84a0-50d047026621 ]]  {\r\n",
       "def \"A\" as E2 << <<(D,brown) attribute  def>> [[psysml:2ec9bc29-3801-4d04-bd01-a8a7cc509576 ]] \r\n",
       "comp usage \"a: A \" as E3 << <<(U,orange) attribute>> [[psysml:904ee486-6b36-4246-8723-5e3acfd2e245 ]] {\r\n",
       "}\r\n",
       "rec def \"F\" as E4 << <<(B,lemonchiffon) calculation  def>> [[psysml:824349d9-f3af-4f57-b650-7b4ce1821d09 ]] {\r\n",
       "portin \"p\" as E5  [[psysml:1d7d0081-d3e1-46bd-ad63-b0e63267b1e5 ]] \r\n",
       "portin \"q\" as E6  [[psysml:21dced71-d174-49eb-b20b-d0423025e0cf ]] \r\n",
       "portout \"result\" as E7  [[psysml:89ad9a9d-29f0-45e8-8d07-ebce693a6326 ]] \r\n",
       "}\r\n",
       "\r\n",
       "comp usage \"f \" as E8 << <<(U,orange) attribute>> [[psysml:8204b4e2-616f-4bbc-afa4-9ecd277b5579 ]] {\r\n",
       "}\r\n",
       "comp usage \"g \" as E9 << <<(U,orange) attribute>> [[psysml:86e22d1e-a4d5-4fc2-80cd-01d3f8e601c3 ]] {\r\n",
       "}\r\n",
       "comp usage \"b \" as E10 << <<(U,orange) attribute>> [[psysml:5bd4ed77-91ea-4eb7-bbff-8ef8917960b7 ]] {\r\n",
       "}\r\n",
       "comp usage \"c \" as E11 << <<(U,orange) attribute>> [[psysml:88436cf5-d13a-4d80-b468-40a83b162e0f ]] {\r\n",
       "}\r\n",
       "}\r\n",
       "E3 - -:|> E2 [[psysml:b5c275d4-de01-4c83-8a05-69f2b086225e ]] \r\n",
       "@enduml\r\n",
       "\n",
       "PlantUML version 1.2020.13(Sat Jun 13 12:26:38 UTC 2020)\n",
       "(EPL source distribution)\n",
       "Java Runtime: OpenJDK Runtime Environment\n",
       "JVM: OpenJDK 64-Bit Server VM\n",
       "Default Encoding: UTF-8\n",
       "Language: en\n",
       "Country: null\n",
       "--></g></svg>"
      ]
     },
     "execution_count": 33,
     "metadata": {},
     "output_type": "execute_result"
    }
   ],
   "source": [
    "%viz --style=\"PLANTUML\" --view=\"Interconnection\" \"ParameterTest\""
   ]
  },
  {
   "cell_type": "code",
   "execution_count": 34,
   "id": "e563ee0f",
   "metadata": {
    "execution": {
     "iopub.execute_input": "2022-03-03T09:56:16.753922Z",
     "iopub.status.busy": "2022-03-03T09:56:16.753500Z",
     "iopub.status.idle": "2022-03-03T09:56:16.775755Z",
     "shell.execute_reply": "2022-03-03T09:56:16.775246Z"
    }
   },
   "outputs": [
    {
     "data": {
      "image/svg+xml": [
       "<?xml version=\"1.0\" encoding=\"UTF-8\" standalone=\"no\"?><svg xmlns=\"http://www.w3.org/2000/svg\" xmlns:xlink=\"http://www.w3.org/1999/xlink\" contentScriptType=\"application/ecmascript\" contentStyleType=\"text/css\" height=\"162px\" preserveAspectRatio=\"none\" style=\"width:176px;height:162px;\" version=\"1.1\" viewBox=\"0 0 176 162\" width=\"176px\" zoomAndPan=\"magnify\"><defs><filter height=\"300%\" id=\"f17oruife99zeu\" width=\"300%\" x=\"-1\" y=\"-1\"><feGaussianBlur result=\"blurOut\" stdDeviation=\"2.0\"/><feColorMatrix in=\"blurOut\" result=\"blurOut2\" type=\"matrix\" values=\"0 0 0 0 0 0 0 0 0 0 0 0 0 0 0 0 0 0 .4 0\"/><feOffset dx=\"4.0\" dy=\"4.0\" in=\"blurOut2\" result=\"blurOut3\"/><feBlend in=\"SourceGraphic\" in2=\"blurOut3\" mode=\"normal\"/></filter></defs><g><!--MD5=[fbc87193dbaf4d95561dea2c320d4a47]\n",
       "cluster E1--><a href=\"psysml:824349d9-f3af-4f57-b650-7b4ce1821d09\" target=\"_top\" title=\"psysml:824349d9-f3af-4f57-b650-7b4ce1821d09\" xlink:actuate=\"onRequest\" xlink:href=\"psysml:824349d9-f3af-4f57-b650-7b4ce1821d09\" xlink:show=\"new\" xlink:title=\"psysml:824349d9-f3af-4f57-b650-7b4ce1821d09\" xlink:type=\"simple\"><rect fill=\"#FFFFFF\" filter=\"url(#f17oruife99zeu)\" height=\"87.72\" id=\"E1\" style=\"stroke: #A80036; stroke-width: 1.5;\" width=\"150\" x=\"7\" y=\"42.0986\"/><rect fill=\"#FEFECE\" height=\"37.9375\" style=\"stroke: #A80036; stroke-width: 1.5;\" width=\"150\" x=\"7\" y=\"42.0986\"/><text fill=\"#000000\" font-family=\"sans-serif\" font-size=\"12\" font-style=\"italic\" lengthAdjust=\"spacingAndGlyphs\" textLength=\"110\" x=\"27\" y=\"58.2373\">«calculation  def»</text><text fill=\"#000000\" font-family=\"sans-serif\" font-size=\"12\" lengthAdjust=\"spacingAndGlyphs\" textLength=\"7\" x=\"78.5\" y=\"72.2061\">F</text></a><text fill=\"#000000\" font-family=\"sans-serif\" font-size=\"14\" lengthAdjust=\"spacingAndGlyphs\" textLength=\"9\" x=\"20.5\" y=\"20.7969\">p</text><rect fill=\"#A80036\" height=\"12\" style=\"stroke: #FEFECE; stroke-width: 1.5;\" width=\"12\" x=\"19\" y=\"36.0986\"/><text fill=\"#000000\" font-family=\"sans-serif\" font-size=\"14\" lengthAdjust=\"spacingAndGlyphs\" textLength=\"9\" x=\"67.5\" y=\"20.7969\">q</text><rect fill=\"#A80036\" height=\"12\" style=\"stroke: #FEFECE; stroke-width: 1.5;\" width=\"12\" x=\"66\" y=\"36.0986\"/><text fill=\"#000000\" font-family=\"sans-serif\" font-size=\"14\" lengthAdjust=\"spacingAndGlyphs\" textLength=\"39\" x=\"52.5\" y=\"148.8138\">result</text><rect fill=\"#A80036\" height=\"12\" style=\"stroke: #FEFECE; stroke-width: 1.5;\" width=\"12\" x=\"66\" y=\"123.8186\"/><!--MD5=[0a08d43bf3f854a33e8adc8a87edaa67]\n",
       "@startuml\r\n",
       "skinparam ranksep 8\r\n",
       " \r\n",
       "rec def \"F\" as E1 << <<(B,lemonchiffon) calculation  def>> [[psysml:824349d9-f3af-4f57-b650-7b4ce1821d09 ]] {\r\n",
       "portin \"p\" as E2  [[psysml:1d7d0081-d3e1-46bd-ad63-b0e63267b1e5 ]] \r\n",
       "portin \"q\" as E3  [[psysml:21dced71-d174-49eb-b20b-d0423025e0cf ]] \r\n",
       "portout \"result\" as E4  [[psysml:89ad9a9d-29f0-45e8-8d07-ebce693a6326 ]] \r\n",
       "}\r\n",
       "\r\n",
       "@enduml\r\n",
       "\n",
       "PlantUML version 1.2020.13(Sat Jun 13 12:26:38 UTC 2020)\n",
       "(EPL source distribution)\n",
       "Java Runtime: OpenJDK Runtime Environment\n",
       "JVM: OpenJDK 64-Bit Server VM\n",
       "Default Encoding: UTF-8\n",
       "Language: en\n",
       "Country: null\n",
       "--></g></svg>"
      ]
     },
     "execution_count": 34,
     "metadata": {},
     "output_type": "execute_result"
    }
   ],
   "source": [
    "%viz --style=\"PLANTUML\" --view=\"Action\" \"ParameterTest\""
   ]
  },
  {
   "cell_type": "code",
   "execution_count": 35,
   "id": "891bc668",
   "metadata": {
    "execution": {
     "iopub.execute_input": "2022-03-03T09:56:16.824998Z",
     "iopub.status.busy": "2022-03-03T09:56:16.824580Z",
     "iopub.status.idle": "2022-03-03T09:56:16.830455Z",
     "shell.execute_reply": "2022-03-03T09:56:16.829979Z"
    }
   },
   "outputs": [
    {
     "data": {
      "image/svg+xml": [
       "<?xml version=\"1.0\" encoding=\"UTF-8\" standalone=\"no\"?><svg xmlns=\"http://www.w3.org/2000/svg\" xmlns:xlink=\"http://www.w3.org/1999/xlink\" contentScriptType=\"application/ecmascript\" contentStyleType=\"text/css\" height=\"12px\" preserveAspectRatio=\"none\" style=\"width:12px;height:12px;\" version=\"1.1\" viewBox=\"0 0 12 12\" width=\"12px\" zoomAndPan=\"magnify\"><defs/><g><!--MD5=[ca4faa0b02def275ea33c14ea7a1a98d]\n",
       "@startuml\r\n",
       "skinparam roundcorner 20\r\n",
       "skinparam BoxPadding 20\r\n",
       "skinparam SequenceBoxBackgroundColor #white\r\n",
       "skinparam style strictuml\r\n",
       "skinparam maxMessageSize 100\r\n",
       " \r\n",
       "@enduml\r\n",
       "\n",
       "PlantUML version 1.2020.13(Sat Jun 13 12:26:38 UTC 2020)\n",
       "(EPL source distribution)\n",
       "Java Runtime: OpenJDK Runtime Environment\n",
       "JVM: OpenJDK 64-Bit Server VM\n",
       "Default Encoding: UTF-8\n",
       "Language: en\n",
       "Country: null\n",
       "--></g></svg>"
      ]
     },
     "execution_count": 35,
     "metadata": {},
     "output_type": "execute_result"
    }
   ],
   "source": [
    "%viz --style=\"PLANTUML\" --view=\"Sequence\" \"ParameterTest\""
   ]
  },
  {
   "cell_type": "code",
   "execution_count": 36,
   "id": "1eedff41",
   "metadata": {
    "execution": {
     "iopub.execute_input": "2022-03-03T09:56:16.879886Z",
     "iopub.status.busy": "2022-03-03T09:56:16.879302Z",
     "iopub.status.idle": "2022-03-03T09:56:16.938739Z",
     "shell.execute_reply": "2022-03-03T09:56:16.936766Z"
    }
   },
   "outputs": [
    {
     "data": {
      "image/svg+xml": [
       "<?xml version=\"1.0\" encoding=\"UTF-8\" standalone=\"no\"?><svg xmlns=\"http://www.w3.org/2000/svg\" xmlns:xlink=\"http://www.w3.org/1999/xlink\" contentScriptType=\"application/ecmascript\" contentStyleType=\"text/css\" height=\"403px\" preserveAspectRatio=\"none\" style=\"width:872px;height:403px;\" version=\"1.1\" viewBox=\"0 0 872 403\" width=\"872px\" zoomAndPan=\"magnify\"><defs><filter height=\"300%\" id=\"f1c7n0jc8rtdu6\" width=\"300%\" x=\"-1\" y=\"-1\"><feGaussianBlur result=\"blurOut\" stdDeviation=\"2.0\"/><feColorMatrix in=\"blurOut\" result=\"blurOut2\" type=\"matrix\" values=\"0 0 0 0 0 0 0 0 0 0 0 0 0 0 0 0 0 0 .4 0\"/><feOffset dx=\"4.0\" dy=\"4.0\" in=\"blurOut2\" result=\"blurOut3\"/><feBlend in=\"SourceGraphic\" in2=\"blurOut3\" mode=\"normal\"/></filter></defs><g><!--MD5=[fbc87193dbaf4d95561dea2c320d4a47]\n",
       "cluster E1--><a href=\"psysml:86781c8e-3979-42bc-84a0-50d047026621\" target=\"_top\" title=\"psysml:86781c8e-3979-42bc-84a0-50d047026621\" xlink:actuate=\"onRequest\" xlink:href=\"psysml:86781c8e-3979-42bc-84a0-50d047026621\" xlink:show=\"new\" xlink:title=\"psysml:86781c8e-3979-42bc-84a0-50d047026621\" xlink:type=\"simple\"><polygon fill=\"#FFFFFF\" filter=\"url(#f1c7n0jc8rtdu6)\" points=\"16,6,124,6,131,28.2969,850,28.2969,850,391.72,16,391.72,16,6\" style=\"stroke: #000000; stroke-width: 1.5;\"/><line style=\"stroke: #000000; stroke-width: 1.5;\" x1=\"16\" x2=\"131\" y1=\"28.2969\" y2=\"28.2969\"/><text fill=\"#000000\" font-family=\"sans-serif\" font-size=\"14\" font-weight=\"bold\" lengthAdjust=\"spacingAndGlyphs\" textLength=\"102\" x=\"20\" y=\"20.9951\">ParameterTest</text></a><!--MD5=[f6df4d0ebaf0b5dfb2ced0ae5af7c670]\n",
       "cluster E4--><a href=\"psysml:824349d9-f3af-4f57-b650-7b4ce1821d09\" target=\"_top\" title=\"psysml:824349d9-f3af-4f57-b650-7b4ce1821d09\" xlink:actuate=\"onRequest\" xlink:href=\"psysml:824349d9-f3af-4f57-b650-7b4ce1821d09\" xlink:show=\"new\" xlink:title=\"psysml:824349d9-f3af-4f57-b650-7b4ce1821d09\" xlink:type=\"simple\"><rect fill=\"#FFFFFF\" filter=\"url(#f1c7n0jc8rtdu6)\" height=\"297.72\" id=\"E4\" style=\"stroke: #A80036; stroke-width: 1.5;\" width=\"150\" x=\"684\" y=\"64\"/><rect fill=\"#FEFECE\" height=\"37.9375\" style=\"stroke: #A80036; stroke-width: 1.5;\" width=\"150\" x=\"684\" y=\"64\"/><text fill=\"#000000\" font-family=\"sans-serif\" font-size=\"12\" font-style=\"italic\" lengthAdjust=\"spacingAndGlyphs\" textLength=\"110\" x=\"704\" y=\"80.1387\">«calculation  def»</text><text fill=\"#000000\" font-family=\"sans-serif\" font-size=\"12\" lengthAdjust=\"spacingAndGlyphs\" textLength=\"7\" x=\"755.5\" y=\"94.1074\">F</text></a><!--MD5=[b4997ac47864f28c2f74865a473b2911]\n",
       "class E2--><a href=\"psysml:2ec9bc29-3801-4d04-bd01-a8a7cc509576\" target=\"_top\" title=\"psysml:2ec9bc29-3801-4d04-bd01-a8a7cc509576\" xlink:actuate=\"onRequest\" xlink:href=\"psysml:2ec9bc29-3801-4d04-bd01-a8a7cc509576\" xlink:show=\"new\" xlink:title=\"psysml:2ec9bc29-3801-4d04-bd01-a8a7cc509576\" xlink:type=\"simple\"><rect fill=\"#FEFECE\" filter=\"url(#f1c7n0jc8rtdu6)\" height=\"88.3516\" id=\"E2\" style=\"stroke: #A80036; stroke-width: 1.5;\" width=\"125\" x=\"520.5\" y=\"147\"/><ellipse cx=\"535.5\" cy=\"165.9688\" fill=\"#A52A2A\" rx=\"11\" ry=\"11\" style=\"stroke: #A80036; stroke-width: 1.0;\"/><path d=\"M532.7188,170.9688 L532.7188,160.375 L535.4531,160.375 Q536.8438,160.375 537.6094,160.7656 Q538.3906,161.1406 538.9219,161.8438 Q539.4531,162.5469 539.75,163.5469 Q540.0469,164.5313 540.0469,165.75 Q540,167.3438 539.5,168.5313 Q539.0156,169.7031 537.9688,170.3438 Q536.9375,170.9688 535.25,170.9688 L532.7188,170.9688 Z M534.5781,169.4688 L535.2031,169.4688 Q536.2813,169.4688 536.9375,169.0156 Q537.5938,168.5625 537.875,167.7344 Q538.1719,166.8906 538.1563,165.7656 Q538.1563,164.5938 537.9063,163.7344 Q537.6563,162.8594 537.0469,162.3906 Q536.4375,161.9063 535.3906,161.9063 L534.5781,161.9063 L534.5781,169.4688 Z \"/><text fill=\"#000000\" font-family=\"sans-serif\" font-size=\"12\" font-style=\"italic\" lengthAdjust=\"spacingAndGlyphs\" textLength=\"97\" x=\"547.5\" y=\"163.1387\">«attribute  def»</text><text fill=\"#000000\" font-family=\"sans-serif\" font-size=\"12\" lengthAdjust=\"spacingAndGlyphs\" textLength=\"8\" x=\"592\" y=\"177.1074\">A</text><line style=\"stroke: #A80036; stroke-width: 1.5;\" x1=\"521.5\" x2=\"644.5\" y1=\"184.9375\" y2=\"184.9375\"/><text fill=\"#000000\" font-family=\"sans-serif\" font-size=\"11\" lengthAdjust=\"spacingAndGlyphs\" textLength=\"48\" x=\"526.5\" y=\"215.9526\">x: String</text><text fill=\"#000000\" font-family=\"sans-serif\" font-size=\"11\" lengthAdjust=\"spacingAndGlyphs\" textLength=\"21\" x=\"526.5\" y=\"228.7573\">y: A</text><line style=\"stroke: #A80036; stroke-width: 1.0;\" x1=\"521.5\" x2=\"555.5\" y1=\"199.3398\" y2=\"199.3398\"/><text fill=\"#000000\" font-family=\"sans-serif\" font-size=\"11\" lengthAdjust=\"spacingAndGlyphs\" textLength=\"55\" x=\"555.5\" y=\"202.6479\">attributes</text><line style=\"stroke: #A80036; stroke-width: 1.0;\" x1=\"610.5\" x2=\"644.5\" y1=\"199.3398\" y2=\"199.3398\"/></a><!--MD5=[09b614a08d8cba4a07c9adeb5e0fee81]\n",
       "class E3--><a href=\"psysml:904ee486-6b36-4246-8723-5e3acfd2e245\" target=\"_top\" title=\"psysml:904ee486-6b36-4246-8723-5e3acfd2e245\" xlink:actuate=\"onRequest\" xlink:href=\"psysml:904ee486-6b36-4246-8723-5e3acfd2e245\" xlink:show=\"new\" xlink:title=\"psysml:904ee486-6b36-4246-8723-5e3acfd2e245\" xlink:type=\"simple\"><rect fill=\"#FEFECE\" filter=\"url(#f1c7n0jc8rtdu6)\" height=\"45.9375\" id=\"E3\" rx=\"10\" ry=\"10\" style=\"stroke: #A80036; stroke-width: 1.5;\" width=\"97\" x=\"559.5\" y=\"41\"/><ellipse cx=\"574.5\" cy=\"59.9688\" fill=\"#FFA500\" rx=\"11\" ry=\"11\" style=\"stroke: #A80036; stroke-width: 1.0;\"/><path d=\"M574.25,65.4375 Q572.5,65.4375 571.5469,64.4063 Q570.6094,63.3594 570.6094,61.5156 L570.6094,54.625 L572.6719,54.625 L572.6719,54.7813 Q572.5781,54.875 572.5469,55.0156 Q572.5313,55.1406 572.5313,55.4063 L572.5313,61.5313 Q572.5313,62.625 572.9063,63.25 Q573.2813,63.875 574.2656,63.875 Q575.25,63.875 575.6406,63.25 Q576.0313,62.625 576.0313,61.4844 L576.0313,54.625 L577.9063,54.625 L577.9063,61.4688 Q577.9063,63.5 576.875,64.4688 Q575.8594,65.4375 574.25,65.4375 Z \"/><text fill=\"#000000\" font-family=\"sans-serif\" font-size=\"12\" font-style=\"italic\" lengthAdjust=\"spacingAndGlyphs\" textLength=\"69\" x=\"586.5\" y=\"57.1387\">«attribute»</text><text fill=\"#000000\" font-family=\"sans-serif\" font-size=\"12\" lengthAdjust=\"spacingAndGlyphs\" textLength=\"24\" x=\"607\" y=\"71.1074\">a: A</text><line style=\"stroke: #A80036; stroke-width: 1.5;\" x1=\"560.5\" x2=\"655.5\" y1=\"78.9375\" y2=\"78.9375\"/></a><!--MD5=[b9389687b975829384b498ac4b7476b2]\n",
       "class E8--><a href=\"psysml:8204b4e2-616f-4bbc-afa4-9ecd277b5579\" target=\"_top\" title=\"psysml:8204b4e2-616f-4bbc-afa4-9ecd277b5579\" xlink:actuate=\"onRequest\" xlink:href=\"psysml:8204b4e2-616f-4bbc-afa4-9ecd277b5579\" xlink:show=\"new\" xlink:title=\"psysml:8204b4e2-616f-4bbc-afa4-9ecd277b5579\" xlink:type=\"simple\"><rect fill=\"#FEFECE\" filter=\"url(#f1c7n0jc8rtdu6)\" height=\"45.9375\" id=\"E8\" rx=\"10\" ry=\"10\" style=\"stroke: #A80036; stroke-width: 1.5;\" width=\"97\" x=\"427.5\" y=\"41\"/><ellipse cx=\"442.5\" cy=\"59.9688\" fill=\"#FFA500\" rx=\"11\" ry=\"11\" style=\"stroke: #A80036; stroke-width: 1.0;\"/><path d=\"M442.25,65.4375 Q440.5,65.4375 439.5469,64.4063 Q438.6094,63.3594 438.6094,61.5156 L438.6094,54.625 L440.6719,54.625 L440.6719,54.7813 Q440.5781,54.875 440.5469,55.0156 Q440.5313,55.1406 440.5313,55.4063 L440.5313,61.5313 Q440.5313,62.625 440.9063,63.25 Q441.2813,63.875 442.2656,63.875 Q443.25,63.875 443.6406,63.25 Q444.0313,62.625 444.0313,61.4844 L444.0313,54.625 L445.9063,54.625 L445.9063,61.4688 Q445.9063,63.5 444.875,64.4688 Q443.8594,65.4375 442.25,65.4375 Z \"/><text fill=\"#000000\" font-family=\"sans-serif\" font-size=\"12\" font-style=\"italic\" lengthAdjust=\"spacingAndGlyphs\" textLength=\"69\" x=\"454.5\" y=\"57.1387\">«attribute»</text><text fill=\"#000000\" font-family=\"sans-serif\" font-size=\"12\" lengthAdjust=\"spacingAndGlyphs\" textLength=\"4\" x=\"485\" y=\"71.1074\">f</text><line style=\"stroke: #A80036; stroke-width: 1.5;\" x1=\"428.5\" x2=\"523.5\" y1=\"78.9375\" y2=\"78.9375\"/></a><!--MD5=[fd4143e9d270a159db93a4ea2a975926]\n",
       "class E9--><a href=\"psysml:86e22d1e-a4d5-4fc2-80cd-01d3f8e601c3\" target=\"_top\" title=\"psysml:86e22d1e-a4d5-4fc2-80cd-01d3f8e601c3\" xlink:actuate=\"onRequest\" xlink:href=\"psysml:86e22d1e-a4d5-4fc2-80cd-01d3f8e601c3\" xlink:show=\"new\" xlink:title=\"psysml:86e22d1e-a4d5-4fc2-80cd-01d3f8e601c3\" xlink:type=\"simple\"><rect fill=\"#FEFECE\" filter=\"url(#f1c7n0jc8rtdu6)\" height=\"45.9375\" id=\"E9\" rx=\"10\" ry=\"10\" style=\"stroke: #A80036; stroke-width: 1.5;\" width=\"97\" x=\"295.5\" y=\"41\"/><ellipse cx=\"310.5\" cy=\"59.9688\" fill=\"#FFA500\" rx=\"11\" ry=\"11\" style=\"stroke: #A80036; stroke-width: 1.0;\"/><path d=\"M310.25,65.4375 Q308.5,65.4375 307.5469,64.4063 Q306.6094,63.3594 306.6094,61.5156 L306.6094,54.625 L308.6719,54.625 L308.6719,54.7813 Q308.5781,54.875 308.5469,55.0156 Q308.5313,55.1406 308.5313,55.4063 L308.5313,61.5313 Q308.5313,62.625 308.9063,63.25 Q309.2813,63.875 310.2656,63.875 Q311.25,63.875 311.6406,63.25 Q312.0313,62.625 312.0313,61.4844 L312.0313,54.625 L313.9063,54.625 L313.9063,61.4688 Q313.9063,63.5 312.875,64.4688 Q311.8594,65.4375 310.25,65.4375 Z \"/><text fill=\"#000000\" font-family=\"sans-serif\" font-size=\"12\" font-style=\"italic\" lengthAdjust=\"spacingAndGlyphs\" textLength=\"69\" x=\"322.5\" y=\"57.1387\">«attribute»</text><text fill=\"#000000\" font-family=\"sans-serif\" font-size=\"12\" lengthAdjust=\"spacingAndGlyphs\" textLength=\"8\" x=\"351\" y=\"71.1074\">g</text><line style=\"stroke: #A80036; stroke-width: 1.5;\" x1=\"296.5\" x2=\"391.5\" y1=\"78.9375\" y2=\"78.9375\"/></a><!--MD5=[96f4274e9e20536e775497830990834d]\n",
       "class E10--><a href=\"psysml:5bd4ed77-91ea-4eb7-bbff-8ef8917960b7\" target=\"_top\" title=\"psysml:5bd4ed77-91ea-4eb7-bbff-8ef8917960b7\" xlink:actuate=\"onRequest\" xlink:href=\"psysml:5bd4ed77-91ea-4eb7-bbff-8ef8917960b7\" xlink:show=\"new\" xlink:title=\"psysml:5bd4ed77-91ea-4eb7-bbff-8ef8917960b7\" xlink:type=\"simple\"><rect fill=\"#FEFECE\" filter=\"url(#f1c7n0jc8rtdu6)\" height=\"45.9375\" id=\"E10\" rx=\"10\" ry=\"10\" style=\"stroke: #A80036; stroke-width: 1.5;\" width=\"97\" x=\"163.5\" y=\"41\"/><ellipse cx=\"178.5\" cy=\"59.9688\" fill=\"#FFA500\" rx=\"11\" ry=\"11\" style=\"stroke: #A80036; stroke-width: 1.0;\"/><path d=\"M178.25,65.4375 Q176.5,65.4375 175.5469,64.4063 Q174.6094,63.3594 174.6094,61.5156 L174.6094,54.625 L176.6719,54.625 L176.6719,54.7813 Q176.5781,54.875 176.5469,55.0156 Q176.5313,55.1406 176.5313,55.4063 L176.5313,61.5313 Q176.5313,62.625 176.9063,63.25 Q177.2813,63.875 178.2656,63.875 Q179.25,63.875 179.6406,63.25 Q180.0313,62.625 180.0313,61.4844 L180.0313,54.625 L181.9063,54.625 L181.9063,61.4688 Q181.9063,63.5 180.875,64.4688 Q179.8594,65.4375 178.25,65.4375 Z \"/><text fill=\"#000000\" font-family=\"sans-serif\" font-size=\"12\" font-style=\"italic\" lengthAdjust=\"spacingAndGlyphs\" textLength=\"69\" x=\"190.5\" y=\"57.1387\">«attribute»</text><text fill=\"#000000\" font-family=\"sans-serif\" font-size=\"12\" lengthAdjust=\"spacingAndGlyphs\" textLength=\"8\" x=\"219\" y=\"71.1074\">b</text><line style=\"stroke: #A80036; stroke-width: 1.5;\" x1=\"164.5\" x2=\"259.5\" y1=\"78.9375\" y2=\"78.9375\"/></a><!--MD5=[1dd1bfd58a279cf63c5f349dbc8fc6a1]\n",
       "class E11--><a href=\"psysml:88436cf5-d13a-4d80-b468-40a83b162e0f\" target=\"_top\" title=\"psysml:88436cf5-d13a-4d80-b468-40a83b162e0f\" xlink:actuate=\"onRequest\" xlink:href=\"psysml:88436cf5-d13a-4d80-b468-40a83b162e0f\" xlink:show=\"new\" xlink:title=\"psysml:88436cf5-d13a-4d80-b468-40a83b162e0f\" xlink:type=\"simple\"><rect fill=\"#FEFECE\" filter=\"url(#f1c7n0jc8rtdu6)\" height=\"45.9375\" id=\"E11\" rx=\"10\" ry=\"10\" style=\"stroke: #A80036; stroke-width: 1.5;\" width=\"97\" x=\"31.5\" y=\"41\"/><ellipse cx=\"46.5\" cy=\"59.9688\" fill=\"#FFA500\" rx=\"11\" ry=\"11\" style=\"stroke: #A80036; stroke-width: 1.0;\"/><path d=\"M46.25,65.4375 Q44.5,65.4375 43.5469,64.4063 Q42.6094,63.3594 42.6094,61.5156 L42.6094,54.625 L44.6719,54.625 L44.6719,54.7813 Q44.5781,54.875 44.5469,55.0156 Q44.5313,55.1406 44.5313,55.4063 L44.5313,61.5313 Q44.5313,62.625 44.9063,63.25 Q45.2813,63.875 46.2656,63.875 Q47.25,63.875 47.6406,63.25 Q48.0313,62.625 48.0313,61.4844 L48.0313,54.625 L49.9063,54.625 L49.9063,61.4688 Q49.9063,63.5 48.875,64.4688 Q47.8594,65.4375 46.25,65.4375 Z \"/><text fill=\"#000000\" font-family=\"sans-serif\" font-size=\"12\" font-style=\"italic\" lengthAdjust=\"spacingAndGlyphs\" textLength=\"69\" x=\"58.5\" y=\"57.1387\">«attribute»</text><text fill=\"#000000\" font-family=\"sans-serif\" font-size=\"12\" lengthAdjust=\"spacingAndGlyphs\" textLength=\"7\" x=\"87.5\" y=\"71.1074\">c</text><line style=\"stroke: #A80036; stroke-width: 1.5;\" x1=\"32.5\" x2=\"127.5\" y1=\"78.9375\" y2=\"78.9375\"/></a><text fill=\"#000000\" font-family=\"sans-serif\" font-size=\"14\" lengthAdjust=\"spacingAndGlyphs\" textLength=\"9\" x=\"697.5\" y=\"42.6982\">p</text><rect fill=\"#A80036\" height=\"12\" style=\"stroke: #FEFECE; stroke-width: 1.5;\" width=\"12\" x=\"696\" y=\"58\"/><text fill=\"#000000\" font-family=\"sans-serif\" font-size=\"14\" lengthAdjust=\"spacingAndGlyphs\" textLength=\"9\" x=\"744.5\" y=\"42.6982\">q</text><rect fill=\"#A80036\" height=\"12\" style=\"stroke: #FEFECE; stroke-width: 1.5;\" width=\"12\" x=\"743\" y=\"58\"/><text fill=\"#000000\" font-family=\"sans-serif\" font-size=\"14\" lengthAdjust=\"spacingAndGlyphs\" textLength=\"39\" x=\"729.5\" y=\"380.7151\">result</text><rect fill=\"#A80036\" height=\"12\" style=\"stroke: #FEFECE; stroke-width: 1.5;\" width=\"12\" x=\"743\" y=\"355.72\"/><!--MD5=[05d275557350bfb9b23a4ef7222b4c39]\n",
       "link E3 to E2--><a href=\"psysml:b5c275d4-de01-4c83-8a05-69f2b086225e\" target=\"_top\" title=\"psysml:b5c275d4-de01-4c83-8a05-69f2b086225e\" xlink:actuate=\"onRequest\" xlink:href=\"psysml:b5c275d4-de01-4c83-8a05-69f2b086225e\" xlink:show=\"new\" xlink:title=\"psysml:b5c275d4-de01-4c83-8a05-69f2b086225e\" xlink:type=\"simple\"><path d=\"M603.59,87.06 C601.34,98.3 598.48,112.6 595.61,126.95 \" fill=\"none\" id=\"E3-&gt;E2\" style=\"stroke: #A80036; stroke-width: 1.0;\"/><polygon fill=\"#FFFFFF\" points=\"591.61,146.93,588.4637,126.9275,602.193,129.6673,591.61,146.93\" style=\"stroke: #A80036; stroke-width: 1.0;\"/><ellipse cx=\"591.5406\" cy=\"121.7291\" fill=\"#A80036\" rx=\"2\" ry=\"2\" style=\"stroke: #A80036; stroke-width: 1.0;\"/><ellipse cx=\"601.3472\" cy=\"123.6861\" fill=\"#A80036\" rx=\"2\" ry=\"2\" style=\"stroke: #A80036; stroke-width: 1.0;\"/></a><!--MD5=[a400cb23ce58c90b8f425ee81a11dc94]\n",
       "@startuml\r\n",
       " \r\n",
       "package \"ParameterTest\" as E1  [[psysml:86781c8e-3979-42bc-84a0-50d047026621 ]]  {\r\n",
       "comp def \"A\" as E2 << <<(D,brown) attribute  def>> [[psysml:2ec9bc29-3801-4d04-bd01-a8a7cc509576 ]] {\r\n",
       "- - attributes - -\r\n",
       "x: String\r\n",
       "y: A\r\n",
       "}\r\n",
       "comp usage \"a: A \" as E3 << <<(U,orange) attribute>> [[psysml:904ee486-6b36-4246-8723-5e3acfd2e245 ]] {\r\n",
       "}\r\n",
       "rec def \"F\" as E4 << <<(B,lemonchiffon) calculation  def>> [[psysml:824349d9-f3af-4f57-b650-7b4ce1821d09 ]] {\r\n",
       "portin \"p\" as E5  [[psysml:1d7d0081-d3e1-46bd-ad63-b0e63267b1e5 ]] \r\n",
       "portin \"q\" as E6  [[psysml:21dced71-d174-49eb-b20b-d0423025e0cf ]] \r\n",
       "portout \"result\" as E7  [[psysml:89ad9a9d-29f0-45e8-8d07-ebce693a6326 ]] \r\n",
       "}\r\n",
       "\r\n",
       "comp usage \"f \" as E8 << <<(U,orange) attribute>> [[psysml:8204b4e2-616f-4bbc-afa4-9ecd277b5579 ]] {\r\n",
       "}\r\n",
       "comp usage \"g \" as E9 << <<(U,orange) attribute>> [[psysml:86e22d1e-a4d5-4fc2-80cd-01d3f8e601c3 ]] {\r\n",
       "}\r\n",
       "comp usage \"b \" as E10 << <<(U,orange) attribute>> [[psysml:5bd4ed77-91ea-4eb7-bbff-8ef8917960b7 ]] {\r\n",
       "}\r\n",
       "comp usage \"c \" as E11 << <<(U,orange) attribute>> [[psysml:88436cf5-d13a-4d80-b468-40a83b162e0f ]] {\r\n",
       "}\r\n",
       "}\r\n",
       "E3 - -:|> E2 [[psysml:b5c275d4-de01-4c83-8a05-69f2b086225e ]] \r\n",
       "@enduml\r\n",
       "\n",
       "PlantUML version 1.2020.13(Sat Jun 13 12:26:38 UTC 2020)\n",
       "(EPL source distribution)\n",
       "Java Runtime: OpenJDK Runtime Environment\n",
       "JVM: OpenJDK 64-Bit Server VM\n",
       "Default Encoding: UTF-8\n",
       "Language: en\n",
       "Country: null\n",
       "--></g></svg>"
      ]
     },
     "execution_count": 36,
     "metadata": {},
     "output_type": "execute_result"
    }
   ],
   "source": [
    "%viz --style=\"PLANTUML\" --view=\"MIXED\" \"ParameterTest\""
   ]
  },
  {
   "cell_type": "code",
   "execution_count": 37,
   "id": "ec632917",
   "metadata": {
    "execution": {
     "iopub.execute_input": "2022-03-03T09:56:16.987540Z",
     "iopub.status.busy": "2022-03-03T09:56:16.987277Z",
     "iopub.status.idle": "2022-03-03T09:56:17.044079Z",
     "shell.execute_reply": "2022-03-03T09:56:17.042674Z"
    }
   },
   "outputs": [
    {
     "data": {
      "image/svg+xml": [
       "<?xml version=\"1.0\" encoding=\"UTF-8\" standalone=\"no\"?><svg xmlns=\"http://www.w3.org/2000/svg\" xmlns:xlink=\"http://www.w3.org/1999/xlink\" contentScriptType=\"application/ecmascript\" contentStyleType=\"text/css\" height=\"403px\" preserveAspectRatio=\"none\" style=\"width:744px;height:403px;\" version=\"1.1\" viewBox=\"0 0 744 403\" width=\"744px\" zoomAndPan=\"magnify\"><defs/><g><!--MD5=[fbc87193dbaf4d95561dea2c320d4a47]\n",
       "cluster E1--><a href=\"psysml:86781c8e-3979-42bc-84a0-50d047026621\" target=\"_top\" title=\"psysml:86781c8e-3979-42bc-84a0-50d047026621\" xlink:actuate=\"onRequest\" xlink:href=\"psysml:86781c8e-3979-42bc-84a0-50d047026621\" xlink:show=\"new\" xlink:title=\"psysml:86781c8e-3979-42bc-84a0-50d047026621\" xlink:type=\"simple\"><polygon fill=\"#FFFFFF\" points=\"16,6,124,6,131,28.2969,722,28.2969,722,391.72,16,391.72,16,6\" style=\"stroke: #000000; stroke-width: 1.5;\"/><line style=\"stroke: #000000; stroke-width: 1.5;\" x1=\"16\" x2=\"131\" y1=\"28.2969\" y2=\"28.2969\"/><text fill=\"#000000\" font-family=\"sans-serif\" font-size=\"14\" font-weight=\"bold\" lengthAdjust=\"spacingAndGlyphs\" textLength=\"102\" x=\"20\" y=\"20.9951\">ParameterTest</text></a><!--MD5=[f6df4d0ebaf0b5dfb2ced0ae5af7c670]\n",
       "cluster E4--><a href=\"psysml:824349d9-f3af-4f57-b650-7b4ce1821d09\" target=\"_top\" title=\"psysml:824349d9-f3af-4f57-b650-7b4ce1821d09\" xlink:actuate=\"onRequest\" xlink:href=\"psysml:824349d9-f3af-4f57-b650-7b4ce1821d09\" xlink:show=\"new\" xlink:title=\"psysml:824349d9-f3af-4f57-b650-7b4ce1821d09\" xlink:type=\"simple\"><rect fill=\"#FFFFFF\" height=\"297.72\" id=\"E4\" style=\"stroke: #383838; stroke-width: 1.5;\" width=\"150\" x=\"556\" y=\"64\"/><rect fill=\"#F8F8F8\" height=\"37.9375\" style=\"stroke: #383838; stroke-width: 1.5;\" width=\"150\" x=\"556\" y=\"64\"/><text fill=\"#000000\" font-family=\"sans-serif\" font-size=\"12\" font-style=\"italic\" lengthAdjust=\"spacingAndGlyphs\" textLength=\"110\" x=\"576\" y=\"80.1387\">«calculation  def»</text><text fill=\"#000000\" font-family=\"sans-serif\" font-size=\"12\" lengthAdjust=\"spacingAndGlyphs\" textLength=\"7\" x=\"627.5\" y=\"94.1074\">F</text></a><!--MD5=[b4997ac47864f28c2f74865a473b2911]\n",
       "class E2--><a href=\"psysml:2ec9bc29-3801-4d04-bd01-a8a7cc509576\" target=\"_top\" title=\"psysml:2ec9bc29-3801-4d04-bd01-a8a7cc509576\" xlink:actuate=\"onRequest\" xlink:href=\"psysml:2ec9bc29-3801-4d04-bd01-a8a7cc509576\" xlink:show=\"new\" xlink:title=\"psysml:2ec9bc29-3801-4d04-bd01-a8a7cc509576\" xlink:type=\"simple\"><rect fill=\"#FFFFFF\" height=\"88.3516\" id=\"E2\" style=\"stroke: #383838; stroke-width: 1.5;\" width=\"99\" x=\"418.5\" y=\"147\"/><text fill=\"#000000\" font-family=\"sans-serif\" font-size=\"12\" font-style=\"italic\" lengthAdjust=\"spacingAndGlyphs\" textLength=\"97\" x=\"419.5\" y=\"163.1387\">«attribute  def»</text><text fill=\"#000000\" font-family=\"sans-serif\" font-size=\"12\" lengthAdjust=\"spacingAndGlyphs\" textLength=\"8\" x=\"464\" y=\"177.1074\">A</text><line style=\"stroke: #383838; stroke-width: 1.5;\" x1=\"419.5\" x2=\"516.5\" y1=\"184.9375\" y2=\"184.9375\"/><text fill=\"#000000\" font-family=\"sans-serif\" font-size=\"11\" lengthAdjust=\"spacingAndGlyphs\" textLength=\"48\" x=\"424.5\" y=\"215.9526\">x: String</text><text fill=\"#000000\" font-family=\"sans-serif\" font-size=\"11\" lengthAdjust=\"spacingAndGlyphs\" textLength=\"21\" x=\"424.5\" y=\"228.7573\">y: A</text><line style=\"stroke: #383838; stroke-width: 1.0;\" x1=\"419.5\" x2=\"440.5\" y1=\"199.3398\" y2=\"199.3398\"/><text fill=\"#000000\" font-family=\"sans-serif\" font-size=\"11\" lengthAdjust=\"spacingAndGlyphs\" textLength=\"55\" x=\"440.5\" y=\"202.6479\">attributes</text><line style=\"stroke: #383838; stroke-width: 1.0;\" x1=\"495.5\" x2=\"516.5\" y1=\"199.3398\" y2=\"199.3398\"/></a><!--MD5=[09b614a08d8cba4a07c9adeb5e0fee81]\n",
       "class E3--><a href=\"psysml:904ee486-6b36-4246-8723-5e3acfd2e245\" target=\"_top\" title=\"psysml:904ee486-6b36-4246-8723-5e3acfd2e245\" xlink:actuate=\"onRequest\" xlink:href=\"psysml:904ee486-6b36-4246-8723-5e3acfd2e245\" xlink:show=\"new\" xlink:title=\"psysml:904ee486-6b36-4246-8723-5e3acfd2e245\" xlink:type=\"simple\"><rect fill=\"#FFFFFF\" height=\"45.9375\" id=\"E3\" rx=\"10\" ry=\"10\" style=\"stroke: #383838; stroke-width: 1.5;\" width=\"71\" x=\"456.5\" y=\"41\"/><text fill=\"#000000\" font-family=\"sans-serif\" font-size=\"12\" font-style=\"italic\" lengthAdjust=\"spacingAndGlyphs\" textLength=\"69\" x=\"457.5\" y=\"57.1387\">«attribute»</text><text fill=\"#000000\" font-family=\"sans-serif\" font-size=\"12\" lengthAdjust=\"spacingAndGlyphs\" textLength=\"24\" x=\"478\" y=\"71.1074\">a: A</text><line style=\"stroke: #383838; stroke-width: 1.5;\" x1=\"457.5\" x2=\"526.5\" y1=\"78.9375\" y2=\"78.9375\"/></a><!--MD5=[b9389687b975829384b498ac4b7476b2]\n",
       "class E8--><a href=\"psysml:8204b4e2-616f-4bbc-afa4-9ecd277b5579\" target=\"_top\" title=\"psysml:8204b4e2-616f-4bbc-afa4-9ecd277b5579\" xlink:actuate=\"onRequest\" xlink:href=\"psysml:8204b4e2-616f-4bbc-afa4-9ecd277b5579\" xlink:show=\"new\" xlink:title=\"psysml:8204b4e2-616f-4bbc-afa4-9ecd277b5579\" xlink:type=\"simple\"><rect fill=\"#FFFFFF\" height=\"45.9375\" id=\"E8\" rx=\"10\" ry=\"10\" style=\"stroke: #383838; stroke-width: 1.5;\" width=\"71\" x=\"350.5\" y=\"41\"/><text fill=\"#000000\" font-family=\"sans-serif\" font-size=\"12\" font-style=\"italic\" lengthAdjust=\"spacingAndGlyphs\" textLength=\"69\" x=\"351.5\" y=\"57.1387\">«attribute»</text><text fill=\"#000000\" font-family=\"sans-serif\" font-size=\"12\" lengthAdjust=\"spacingAndGlyphs\" textLength=\"4\" x=\"382\" y=\"71.1074\">f</text><line style=\"stroke: #383838; stroke-width: 1.5;\" x1=\"351.5\" x2=\"420.5\" y1=\"78.9375\" y2=\"78.9375\"/></a><!--MD5=[fd4143e9d270a159db93a4ea2a975926]\n",
       "class E9--><a href=\"psysml:86e22d1e-a4d5-4fc2-80cd-01d3f8e601c3\" target=\"_top\" title=\"psysml:86e22d1e-a4d5-4fc2-80cd-01d3f8e601c3\" xlink:actuate=\"onRequest\" xlink:href=\"psysml:86e22d1e-a4d5-4fc2-80cd-01d3f8e601c3\" xlink:show=\"new\" xlink:title=\"psysml:86e22d1e-a4d5-4fc2-80cd-01d3f8e601c3\" xlink:type=\"simple\"><rect fill=\"#FFFFFF\" height=\"45.9375\" id=\"E9\" rx=\"10\" ry=\"10\" style=\"stroke: #383838; stroke-width: 1.5;\" width=\"71\" x=\"244.5\" y=\"41\"/><text fill=\"#000000\" font-family=\"sans-serif\" font-size=\"12\" font-style=\"italic\" lengthAdjust=\"spacingAndGlyphs\" textLength=\"69\" x=\"245.5\" y=\"57.1387\">«attribute»</text><text fill=\"#000000\" font-family=\"sans-serif\" font-size=\"12\" lengthAdjust=\"spacingAndGlyphs\" textLength=\"8\" x=\"274\" y=\"71.1074\">g</text><line style=\"stroke: #383838; stroke-width: 1.5;\" x1=\"245.5\" x2=\"314.5\" y1=\"78.9375\" y2=\"78.9375\"/></a><!--MD5=[96f4274e9e20536e775497830990834d]\n",
       "class E10--><a href=\"psysml:5bd4ed77-91ea-4eb7-bbff-8ef8917960b7\" target=\"_top\" title=\"psysml:5bd4ed77-91ea-4eb7-bbff-8ef8917960b7\" xlink:actuate=\"onRequest\" xlink:href=\"psysml:5bd4ed77-91ea-4eb7-bbff-8ef8917960b7\" xlink:show=\"new\" xlink:title=\"psysml:5bd4ed77-91ea-4eb7-bbff-8ef8917960b7\" xlink:type=\"simple\"><rect fill=\"#FFFFFF\" height=\"45.9375\" id=\"E10\" rx=\"10\" ry=\"10\" style=\"stroke: #383838; stroke-width: 1.5;\" width=\"71\" x=\"138.5\" y=\"41\"/><text fill=\"#000000\" font-family=\"sans-serif\" font-size=\"12\" font-style=\"italic\" lengthAdjust=\"spacingAndGlyphs\" textLength=\"69\" x=\"139.5\" y=\"57.1387\">«attribute»</text><text fill=\"#000000\" font-family=\"sans-serif\" font-size=\"12\" lengthAdjust=\"spacingAndGlyphs\" textLength=\"8\" x=\"168\" y=\"71.1074\">b</text><line style=\"stroke: #383838; stroke-width: 1.5;\" x1=\"139.5\" x2=\"208.5\" y1=\"78.9375\" y2=\"78.9375\"/></a><!--MD5=[1dd1bfd58a279cf63c5f349dbc8fc6a1]\n",
       "class E11--><a href=\"psysml:88436cf5-d13a-4d80-b468-40a83b162e0f\" target=\"_top\" title=\"psysml:88436cf5-d13a-4d80-b468-40a83b162e0f\" xlink:actuate=\"onRequest\" xlink:href=\"psysml:88436cf5-d13a-4d80-b468-40a83b162e0f\" xlink:show=\"new\" xlink:title=\"psysml:88436cf5-d13a-4d80-b468-40a83b162e0f\" xlink:type=\"simple\"><rect fill=\"#FFFFFF\" height=\"45.9375\" id=\"E11\" rx=\"10\" ry=\"10\" style=\"stroke: #383838; stroke-width: 1.5;\" width=\"71\" x=\"32.5\" y=\"41\"/><text fill=\"#000000\" font-family=\"sans-serif\" font-size=\"12\" font-style=\"italic\" lengthAdjust=\"spacingAndGlyphs\" textLength=\"69\" x=\"33.5\" y=\"57.1387\">«attribute»</text><text fill=\"#000000\" font-family=\"sans-serif\" font-size=\"12\" lengthAdjust=\"spacingAndGlyphs\" textLength=\"7\" x=\"62.5\" y=\"71.1074\">c</text><line style=\"stroke: #383838; stroke-width: 1.5;\" x1=\"33.5\" x2=\"102.5\" y1=\"78.9375\" y2=\"78.9375\"/></a><text fill=\"#000000\" font-family=\"sans-serif\" font-size=\"14\" lengthAdjust=\"spacingAndGlyphs\" textLength=\"9\" x=\"569.5\" y=\"42.6982\">p</text><rect fill=\"#383838\" height=\"12\" style=\"stroke: #F8F8F8; stroke-width: 1.5;\" width=\"12\" x=\"568\" y=\"58\"/><text fill=\"#000000\" font-family=\"sans-serif\" font-size=\"14\" lengthAdjust=\"spacingAndGlyphs\" textLength=\"9\" x=\"616.5\" y=\"42.6982\">q</text><rect fill=\"#383838\" height=\"12\" style=\"stroke: #F8F8F8; stroke-width: 1.5;\" width=\"12\" x=\"615\" y=\"58\"/><text fill=\"#000000\" font-family=\"sans-serif\" font-size=\"14\" lengthAdjust=\"spacingAndGlyphs\" textLength=\"39\" x=\"601.5\" y=\"380.7151\">result</text><rect fill=\"#383838\" height=\"12\" style=\"stroke: #F8F8F8; stroke-width: 1.5;\" width=\"12\" x=\"615\" y=\"355.72\"/><!--MD5=[05d275557350bfb9b23a4ef7222b4c39]\n",
       "link E3 to E2--><a href=\"psysml:b5c275d4-de01-4c83-8a05-69f2b086225e\" target=\"_top\" title=\"psysml:b5c275d4-de01-4c83-8a05-69f2b086225e\" xlink:actuate=\"onRequest\" xlink:href=\"psysml:b5c275d4-de01-4c83-8a05-69f2b086225e\" xlink:show=\"new\" xlink:title=\"psysml:b5c275d4-de01-4c83-8a05-69f2b086225e\" xlink:type=\"simple\"><path d=\"M487.76,87.06 C485.61,98.3 482.86,112.6 480.11,126.95 \" fill=\"none\" id=\"E3-&gt;E2\" style=\"stroke: #383838; stroke-width: 1.0;\"/><polygon fill=\"#FFFFFF\" points=\"476.27,146.93,472.9781,126.9509,486.727,129.5907,476.27,146.93\" style=\"stroke: #383838; stroke-width: 1.0;\"/><ellipse cx=\"476.017\" cy=\"121.7303\" fill=\"#383838\" rx=\"2\" ry=\"2\" style=\"stroke: #383838; stroke-width: 1.0;\"/><ellipse cx=\"485.8376\" cy=\"123.6158\" fill=\"#383838\" rx=\"2\" ry=\"2\" style=\"stroke: #383838; stroke-width: 1.0;\"/></a><!--MD5=[ab476d294d0a61b6cd0a480b6ed713a4]\n",
       "@startuml\r\n",
       "skinparam monochrome true\r\n",
       "skinparam classbackgroundcolor white\r\n",
       "skinparam shadowing false\r\n",
       "skinparam wrapWidth 300\r\n",
       "hide circle\r\n",
       "\r\n",
       "package \"ParameterTest\" as E1  [[psysml:86781c8e-3979-42bc-84a0-50d047026621 ]]  {\r\n",
       "comp def \"A\" as E2  <<(T,blue) attribute  def>> [[psysml:2ec9bc29-3801-4d04-bd01-a8a7cc509576 ]] {\r\n",
       "- - attributes - -\r\n",
       "x: String\r\n",
       "y: A\r\n",
       "}\r\n",
       "comp usage \"a: A \" as E3  <<(T,blue) attribute>> [[psysml:904ee486-6b36-4246-8723-5e3acfd2e245 ]] {\r\n",
       "}\r\n",
       "rec def \"F\" as E4  <<(T,blue) calculation  def>> [[psysml:824349d9-f3af-4f57-b650-7b4ce1821d09 ]] {\r\n",
       "portin \"p\" as E5  [[psysml:1d7d0081-d3e1-46bd-ad63-b0e63267b1e5 ]] \r\n",
       "portin \"q\" as E6  [[psysml:21dced71-d174-49eb-b20b-d0423025e0cf ]] \r\n",
       "portout \"result\" as E7  [[psysml:89ad9a9d-29f0-45e8-8d07-ebce693a6326 ]] \r\n",
       "}\r\n",
       "\r\n",
       "comp usage \"f \" as E8  <<(T,blue) attribute>> [[psysml:8204b4e2-616f-4bbc-afa4-9ecd277b5579 ]] {\r\n",
       "}\r\n",
       "comp usage \"g \" as E9  <<(T,blue) attribute>> [[psysml:86e22d1e-a4d5-4fc2-80cd-01d3f8e601c3 ]] {\r\n",
       "}\r\n",
       "comp usage \"b \" as E10  <<(T,blue) attribute>> [[psysml:5bd4ed77-91ea-4eb7-bbff-8ef8917960b7 ]] {\r\n",
       "}\r\n",
       "comp usage \"c \" as E11  <<(T,blue) attribute>> [[psysml:88436cf5-d13a-4d80-b468-40a83b162e0f ]] {\r\n",
       "}\r\n",
       "}\r\n",
       "E3 - -:|> E2 [[psysml:b5c275d4-de01-4c83-8a05-69f2b086225e ]] \r\n",
       "@enduml\r\n",
       "\n",
       "PlantUML version 1.2020.13(Sat Jun 13 12:26:38 UTC 2020)\n",
       "(EPL source distribution)\n",
       "Java Runtime: OpenJDK Runtime Environment\n",
       "JVM: OpenJDK 64-Bit Server VM\n",
       "Default Encoding: UTF-8\n",
       "Language: en\n",
       "Country: null\n",
       "--></g></svg>"
      ]
     },
     "execution_count": 37,
     "metadata": {},
     "output_type": "execute_result"
    }
   ],
   "source": [
    "%viz --style=\"DEFAULT\" --view=\"Default\" \"ParameterTest\""
   ]
  },
  {
   "cell_type": "code",
   "execution_count": 38,
   "id": "7d1e4e18",
   "metadata": {
    "execution": {
     "iopub.execute_input": "2022-03-03T09:56:17.093876Z",
     "iopub.status.busy": "2022-03-03T09:56:17.093453Z",
     "iopub.status.idle": "2022-03-03T09:56:17.141570Z",
     "shell.execute_reply": "2022-03-03T09:56:17.141219Z"
    }
   },
   "outputs": [
    {
     "data": {
      "image/svg+xml": [
       "<?xml version=\"1.0\" encoding=\"UTF-8\" standalone=\"no\"?><svg xmlns=\"http://www.w3.org/2000/svg\" xmlns:xlink=\"http://www.w3.org/1999/xlink\" contentScriptType=\"application/ecmascript\" contentStyleType=\"text/css\" height=\"280px\" preserveAspectRatio=\"none\" style=\"width:714px;height:280px;\" version=\"1.1\" viewBox=\"0 0 714 280\" width=\"714px\" zoomAndPan=\"magnify\"><defs/><g><!--MD5=[fbc87193dbaf4d95561dea2c320d4a47]\n",
       "cluster E1--><a href=\"psysml:86781c8e-3979-42bc-84a0-50d047026621\" target=\"_top\" title=\"psysml:86781c8e-3979-42bc-84a0-50d047026621\" xlink:actuate=\"onRequest\" xlink:href=\"psysml:86781c8e-3979-42bc-84a0-50d047026621\" xlink:show=\"new\" xlink:title=\"psysml:86781c8e-3979-42bc-84a0-50d047026621\" xlink:type=\"simple\"><polygon fill=\"#FFFFFF\" points=\"16,6,124,6,131,28.2969,692,28.2969,692,268,16,268,16,6\" style=\"stroke: #000000; stroke-width: 1.5;\"/><line style=\"stroke: #000000; stroke-width: 1.5;\" x1=\"16\" x2=\"131\" y1=\"28.2969\" y2=\"28.2969\"/><text fill=\"#000000\" font-family=\"sans-serif\" font-size=\"14\" font-weight=\"bold\" lengthAdjust=\"spacingAndGlyphs\" textLength=\"102\" x=\"20\" y=\"20.9951\">ParameterTest</text></a><!--MD5=[b4997ac47864f28c2f74865a473b2911]\n",
       "class E2--><a href=\"psysml:2ec9bc29-3801-4d04-bd01-a8a7cc509576\" target=\"_top\" title=\"psysml:2ec9bc29-3801-4d04-bd01-a8a7cc509576\" xlink:actuate=\"onRequest\" xlink:href=\"psysml:2ec9bc29-3801-4d04-bd01-a8a7cc509576\" xlink:show=\"new\" xlink:title=\"psysml:2ec9bc29-3801-4d04-bd01-a8a7cc509576\" xlink:type=\"simple\"><rect fill=\"#FFFFFF\" height=\"88.3516\" id=\"E2\" style=\"stroke: #383838; stroke-width: 1.5;\" width=\"99\" x=\"499.5\" y=\"164\"/><text fill=\"#000000\" font-family=\"sans-serif\" font-size=\"12\" font-style=\"italic\" lengthAdjust=\"spacingAndGlyphs\" textLength=\"97\" x=\"500.5\" y=\"180.1387\">«attribute  def»</text><text fill=\"#000000\" font-family=\"sans-serif\" font-size=\"12\" lengthAdjust=\"spacingAndGlyphs\" textLength=\"8\" x=\"545\" y=\"194.1074\">A</text><line style=\"stroke: #383838; stroke-width: 1.5;\" x1=\"500.5\" x2=\"597.5\" y1=\"201.9375\" y2=\"201.9375\"/><text fill=\"#000000\" font-family=\"sans-serif\" font-size=\"11\" lengthAdjust=\"spacingAndGlyphs\" textLength=\"48\" x=\"505.5\" y=\"232.9526\">x: String</text><text fill=\"#000000\" font-family=\"sans-serif\" font-size=\"11\" lengthAdjust=\"spacingAndGlyphs\" textLength=\"21\" x=\"505.5\" y=\"245.7573\">y: A</text><line style=\"stroke: #383838; stroke-width: 1.0;\" x1=\"500.5\" x2=\"521.5\" y1=\"216.3398\" y2=\"216.3398\"/><text fill=\"#000000\" font-family=\"sans-serif\" font-size=\"11\" lengthAdjust=\"spacingAndGlyphs\" textLength=\"55\" x=\"521.5\" y=\"219.6479\">attributes</text><line style=\"stroke: #383838; stroke-width: 1.0;\" x1=\"576.5\" x2=\"597.5\" y1=\"216.3398\" y2=\"216.3398\"/></a><!--MD5=[09b614a08d8cba4a07c9adeb5e0fee81]\n",
       "class E3--><a href=\"psysml:904ee486-6b36-4246-8723-5e3acfd2e245\" target=\"_top\" title=\"psysml:904ee486-6b36-4246-8723-5e3acfd2e245\" xlink:actuate=\"onRequest\" xlink:href=\"psysml:904ee486-6b36-4246-8723-5e3acfd2e245\" xlink:show=\"new\" xlink:title=\"psysml:904ee486-6b36-4246-8723-5e3acfd2e245\" xlink:type=\"simple\"><rect fill=\"#FFFFFF\" height=\"45.9375\" id=\"E3\" rx=\"10\" ry=\"10\" style=\"stroke: #383838; stroke-width: 1.5;\" width=\"71\" x=\"604.5\" y=\"41\"/><text fill=\"#000000\" font-family=\"sans-serif\" font-size=\"12\" font-style=\"italic\" lengthAdjust=\"spacingAndGlyphs\" textLength=\"69\" x=\"605.5\" y=\"57.1387\">«attribute»</text><text fill=\"#000000\" font-family=\"sans-serif\" font-size=\"12\" lengthAdjust=\"spacingAndGlyphs\" textLength=\"24\" x=\"626\" y=\"71.1074\">a: A</text><line style=\"stroke: #383838; stroke-width: 1.5;\" x1=\"605.5\" x2=\"674.5\" y1=\"78.9375\" y2=\"78.9375\"/></a><!--MD5=[ebbe1d658d1005bcc118a6aa81145e00]\n",
       "class E4--><a href=\"psysml:824349d9-f3af-4f57-b650-7b4ce1821d09\" target=\"_top\" title=\"psysml:824349d9-f3af-4f57-b650-7b4ce1821d09\" xlink:actuate=\"onRequest\" xlink:href=\"psysml:824349d9-f3af-4f57-b650-7b4ce1821d09\" xlink:show=\"new\" xlink:title=\"psysml:824349d9-f3af-4f57-b650-7b4ce1821d09\" xlink:type=\"simple\"><rect fill=\"#FFFFFF\" height=\"45.9375\" id=\"E4\" style=\"stroke: #383838; stroke-width: 1.5;\" width=\"112\" x=\"457\" y=\"41\"/><text fill=\"#000000\" font-family=\"sans-serif\" font-size=\"12\" font-style=\"italic\" lengthAdjust=\"spacingAndGlyphs\" textLength=\"110\" x=\"458\" y=\"57.1387\">«calculation  def»</text><text fill=\"#000000\" font-family=\"sans-serif\" font-size=\"12\" lengthAdjust=\"spacingAndGlyphs\" textLength=\"7\" x=\"509.5\" y=\"71.1074\">F</text><line style=\"stroke: #383838; stroke-width: 1.5;\" x1=\"458\" x2=\"568\" y1=\"78.9375\" y2=\"78.9375\"/></a><!--MD5=[270fce915f116d4de14055a7c1d9a0f3]\n",
       "class E5--><a href=\"psysml:8204b4e2-616f-4bbc-afa4-9ecd277b5579\" target=\"_top\" title=\"psysml:8204b4e2-616f-4bbc-afa4-9ecd277b5579\" xlink:actuate=\"onRequest\" xlink:href=\"psysml:8204b4e2-616f-4bbc-afa4-9ecd277b5579\" xlink:show=\"new\" xlink:title=\"psysml:8204b4e2-616f-4bbc-afa4-9ecd277b5579\" xlink:type=\"simple\"><rect fill=\"#FFFFFF\" height=\"45.9375\" id=\"E5\" rx=\"10\" ry=\"10\" style=\"stroke: #383838; stroke-width: 1.5;\" width=\"71\" x=\"350.5\" y=\"41\"/><text fill=\"#000000\" font-family=\"sans-serif\" font-size=\"12\" font-style=\"italic\" lengthAdjust=\"spacingAndGlyphs\" textLength=\"69\" x=\"351.5\" y=\"57.1387\">«attribute»</text><text fill=\"#000000\" font-family=\"sans-serif\" font-size=\"12\" lengthAdjust=\"spacingAndGlyphs\" textLength=\"4\" x=\"382\" y=\"71.1074\">f</text><line style=\"stroke: #383838; stroke-width: 1.5;\" x1=\"351.5\" x2=\"420.5\" y1=\"78.9375\" y2=\"78.9375\"/></a><!--MD5=[60a26617385b1d2d0262a64233df1f8d]\n",
       "class E6--><a href=\"psysml:86e22d1e-a4d5-4fc2-80cd-01d3f8e601c3\" target=\"_top\" title=\"psysml:86e22d1e-a4d5-4fc2-80cd-01d3f8e601c3\" xlink:actuate=\"onRequest\" xlink:href=\"psysml:86e22d1e-a4d5-4fc2-80cd-01d3f8e601c3\" xlink:show=\"new\" xlink:title=\"psysml:86e22d1e-a4d5-4fc2-80cd-01d3f8e601c3\" xlink:type=\"simple\"><rect fill=\"#FFFFFF\" height=\"45.9375\" id=\"E6\" rx=\"10\" ry=\"10\" style=\"stroke: #383838; stroke-width: 1.5;\" width=\"71\" x=\"244.5\" y=\"41\"/><text fill=\"#000000\" font-family=\"sans-serif\" font-size=\"12\" font-style=\"italic\" lengthAdjust=\"spacingAndGlyphs\" textLength=\"69\" x=\"245.5\" y=\"57.1387\">«attribute»</text><text fill=\"#000000\" font-family=\"sans-serif\" font-size=\"12\" lengthAdjust=\"spacingAndGlyphs\" textLength=\"8\" x=\"274\" y=\"71.1074\">g</text><line style=\"stroke: #383838; stroke-width: 1.5;\" x1=\"245.5\" x2=\"314.5\" y1=\"78.9375\" y2=\"78.9375\"/></a><!--MD5=[2156ba9850f5573cc1fc38a6a4b2f02b]\n",
       "class E7--><a href=\"psysml:5bd4ed77-91ea-4eb7-bbff-8ef8917960b7\" target=\"_top\" title=\"psysml:5bd4ed77-91ea-4eb7-bbff-8ef8917960b7\" xlink:actuate=\"onRequest\" xlink:href=\"psysml:5bd4ed77-91ea-4eb7-bbff-8ef8917960b7\" xlink:show=\"new\" xlink:title=\"psysml:5bd4ed77-91ea-4eb7-bbff-8ef8917960b7\" xlink:type=\"simple\"><rect fill=\"#FFFFFF\" height=\"45.9375\" id=\"E7\" rx=\"10\" ry=\"10\" style=\"stroke: #383838; stroke-width: 1.5;\" width=\"71\" x=\"138.5\" y=\"41\"/><text fill=\"#000000\" font-family=\"sans-serif\" font-size=\"12\" font-style=\"italic\" lengthAdjust=\"spacingAndGlyphs\" textLength=\"69\" x=\"139.5\" y=\"57.1387\">«attribute»</text><text fill=\"#000000\" font-family=\"sans-serif\" font-size=\"12\" lengthAdjust=\"spacingAndGlyphs\" textLength=\"8\" x=\"168\" y=\"71.1074\">b</text><line style=\"stroke: #383838; stroke-width: 1.5;\" x1=\"139.5\" x2=\"208.5\" y1=\"78.9375\" y2=\"78.9375\"/></a><!--MD5=[b9389687b975829384b498ac4b7476b2]\n",
       "class E8--><a href=\"psysml:88436cf5-d13a-4d80-b468-40a83b162e0f\" target=\"_top\" title=\"psysml:88436cf5-d13a-4d80-b468-40a83b162e0f\" xlink:actuate=\"onRequest\" xlink:href=\"psysml:88436cf5-d13a-4d80-b468-40a83b162e0f\" xlink:show=\"new\" xlink:title=\"psysml:88436cf5-d13a-4d80-b468-40a83b162e0f\" xlink:type=\"simple\"><rect fill=\"#FFFFFF\" height=\"45.9375\" id=\"E8\" rx=\"10\" ry=\"10\" style=\"stroke: #383838; stroke-width: 1.5;\" width=\"71\" x=\"32.5\" y=\"41\"/><text fill=\"#000000\" font-family=\"sans-serif\" font-size=\"12\" font-style=\"italic\" lengthAdjust=\"spacingAndGlyphs\" textLength=\"69\" x=\"33.5\" y=\"57.1387\">«attribute»</text><text fill=\"#000000\" font-family=\"sans-serif\" font-size=\"12\" lengthAdjust=\"spacingAndGlyphs\" textLength=\"7\" x=\"62.5\" y=\"71.1074\">c</text><line style=\"stroke: #383838; stroke-width: 1.5;\" x1=\"33.5\" x2=\"102.5\" y1=\"78.9375\" y2=\"78.9375\"/></a><!--MD5=[05d275557350bfb9b23a4ef7222b4c39]\n",
       "link E3 to E2--><a href=\"psysml:b5c275d4-de01-4c83-8a05-69f2b086225e\" target=\"_top\" title=\"psysml:b5c275d4-de01-4c83-8a05-69f2b086225e\" xlink:actuate=\"onRequest\" xlink:href=\"psysml:b5c275d4-de01-4c83-8a05-69f2b086225e\" xlink:show=\"new\" xlink:title=\"psysml:b5c275d4-de01-4c83-8a05-69f2b086225e\" xlink:type=\"simple\"><path d=\"M625.78,87.19 C615.5,103.23 601.08,125.73 587.52,146.9 \" fill=\"none\" id=\"E3-&gt;E2\" style=\"stroke: #383838; stroke-width: 1.0;\"/><polygon fill=\"#FFFFFF\" points=\"576.67,163.82,581.0214,144.0446,592.8112,151.5945,576.67,163.82\" style=\"stroke: #383838; stroke-width: 1.0;\"/><ellipse cx=\"585.7795\" cy=\"140.323\" fill=\"#383838\" rx=\"2\" ry=\"2\" style=\"stroke: #383838; stroke-width: 1.0;\"/><ellipse cx=\"594.2008\" cy=\"145.7158\" fill=\"#383838\" rx=\"2\" ry=\"2\" style=\"stroke: #383838; stroke-width: 1.0;\"/></a><!--MD5=[ddeed8deb2209213b62e6cfabaa108b2]\n",
       "reverse link E4 to E2--><a href=\"psysml:1d7d0081-d3e1-46bd-ad63-b0e63267b1e5\" target=\"_top\" title=\"psysml:1d7d0081-d3e1-46bd-ad63-b0e63267b1e5\" xlink:actuate=\"onRequest\" xlink:href=\"psysml:1d7d0081-d3e1-46bd-ad63-b0e63267b1e5\" xlink:show=\"new\" xlink:title=\"psysml:1d7d0081-d3e1-46bd-ad63-b0e63267b1e5\" xlink:type=\"simple\"><path d=\"M521.86,99.96 C526.75,119.25 532.87,143.36 538.05,163.82 \" fill=\"none\" id=\"E4&lt;-E2\" style=\"stroke: #383838; stroke-width: 1.0;\"/><polygon fill=\"#FFFFFF\" points=\"518.62,87.19,516.22,93.99,521.5738,98.8208,523.9738,92.0208,518.62,87.19\" style=\"stroke: #383838; stroke-width: 1.0;\"/><text fill=\"#000000\" font-family=\"sans-serif\" font-size=\"13\" lengthAdjust=\"spacingAndGlyphs\" textLength=\"8\" x=\"530\" y=\"130.0669\">p</text></a><!--MD5=[89103830e7ac699092d219f98a44deed]\n",
       "@startuml\r\n",
       "skinparam monochrome true\r\n",
       "skinparam classbackgroundcolor white\r\n",
       "skinparam shadowing false\r\n",
       "skinparam wrapWidth 300\r\n",
       "hide circle\r\n",
       "\r\n",
       "package \"ParameterTest\" as E1  [[psysml:86781c8e-3979-42bc-84a0-50d047026621 ]]  {\r\n",
       "comp def \"A\" as E2  <<(T,blue) attribute  def>> [[psysml:2ec9bc29-3801-4d04-bd01-a8a7cc509576 ]] {\r\n",
       "- - attributes - -\r\n",
       "x: String\r\n",
       "y: A\r\n",
       "}\r\n",
       "comp usage \"a: A \" as E3  <<(T,blue) attribute>> [[psysml:904ee486-6b36-4246-8723-5e3acfd2e245 ]] {\r\n",
       "}\r\n",
       "comp def \"F\" as E4  <<(T,blue) calculation  def>> [[psysml:824349d9-f3af-4f57-b650-7b4ce1821d09 ]] {\r\n",
       "}\r\n",
       "comp usage \"f \" as E5  <<(T,blue) attribute>> [[psysml:8204b4e2-616f-4bbc-afa4-9ecd277b5579 ]] {\r\n",
       "}\r\n",
       "comp usage \"g \" as E6  <<(T,blue) attribute>> [[psysml:86e22d1e-a4d5-4fc2-80cd-01d3f8e601c3 ]] {\r\n",
       "}\r\n",
       "comp usage \"b \" as E7  <<(T,blue) attribute>> [[psysml:5bd4ed77-91ea-4eb7-bbff-8ef8917960b7 ]] {\r\n",
       "}\r\n",
       "comp usage \"c \" as E8  <<(T,blue) attribute>> [[psysml:88436cf5-d13a-4d80-b468-40a83b162e0f ]] {\r\n",
       "}\r\n",
       "}\r\n",
       "E3 - -:|> E2 [[psysml:b5c275d4-de01-4c83-8a05-69f2b086225e ]] \r\n",
       "E4 o- - E2 [[psysml:1d7d0081-d3e1-46bd-ad63-b0e63267b1e5 ]] : p\r\n",
       "@enduml\r\n",
       "\n",
       "PlantUML version 1.2020.13(Sat Jun 13 12:26:38 UTC 2020)\n",
       "(EPL source distribution)\n",
       "Java Runtime: OpenJDK Runtime Environment\n",
       "JVM: OpenJDK 64-Bit Server VM\n",
       "Default Encoding: UTF-8\n",
       "Language: en\n",
       "Country: null\n",
       "--></g></svg>"
      ]
     },
     "execution_count": 38,
     "metadata": {},
     "output_type": "execute_result"
    }
   ],
   "source": [
    "%viz --style=\"DEFAULT\" --view=\"Tree\" \"ParameterTest\""
   ]
  },
  {
   "cell_type": "code",
   "execution_count": 39,
   "id": "e0104580",
   "metadata": {
    "execution": {
     "iopub.execute_input": "2022-03-03T09:56:17.191393Z",
     "iopub.status.busy": "2022-03-03T09:56:17.190985Z",
     "iopub.status.idle": "2022-03-03T09:56:17.195368Z",
     "shell.execute_reply": "2022-03-03T09:56:17.195660Z"
    }
   },
   "outputs": [
    {
     "data": {
      "image/svg+xml": [
       "<?xml version=\"1.0\" encoding=\"UTF-8\" standalone=\"no\"?><svg xmlns=\"http://www.w3.org/2000/svg\" xmlns:xlink=\"http://www.w3.org/1999/xlink\" contentScriptType=\"application/ecmascript\" contentStyleType=\"text/css\" height=\"12px\" preserveAspectRatio=\"none\" style=\"width:12px;height:12px;\" version=\"1.1\" viewBox=\"0 0 12 12\" width=\"12px\" zoomAndPan=\"magnify\"><defs/><g><!--MD5=[c5f280e076d0d61ccf4b0f27871bda1d]\n",
       "@startuml\r\n",
       "skinparam monochrome true\r\n",
       "skinparam classbackgroundcolor white\r\n",
       "skinparam shadowing false\r\n",
       "skinparam wrapWidth 300\r\n",
       "hide circle\r\n",
       "\r\n",
       "@enduml\r\n",
       "\n",
       "PlantUML version 1.2020.13(Sat Jun 13 12:26:38 UTC 2020)\n",
       "(EPL source distribution)\n",
       "Java Runtime: OpenJDK Runtime Environment\n",
       "JVM: OpenJDK 64-Bit Server VM\n",
       "Default Encoding: UTF-8\n",
       "Language: en\n",
       "Country: null\n",
       "--></g></svg>"
      ]
     },
     "execution_count": 39,
     "metadata": {},
     "output_type": "execute_result"
    }
   ],
   "source": [
    "%viz --style=\"DEFAULT\" --view=\"State\" \"ParameterTest\""
   ]
  },
  {
   "cell_type": "code",
   "execution_count": 40,
   "id": "9a27f225",
   "metadata": {
    "execution": {
     "iopub.execute_input": "2022-03-03T09:56:17.245679Z",
     "iopub.status.busy": "2022-03-03T09:56:17.245277Z",
     "iopub.status.idle": "2022-03-03T09:56:17.279618Z",
     "shell.execute_reply": "2022-03-03T09:56:17.279253Z"
    }
   },
   "outputs": [
    {
     "data": {
      "image/svg+xml": [
       "<?xml version=\"1.0\" encoding=\"UTF-8\" standalone=\"no\"?><svg xmlns=\"http://www.w3.org/2000/svg\" xmlns:xlink=\"http://www.w3.org/1999/xlink\" contentScriptType=\"application/ecmascript\" contentStyleType=\"text/css\" height=\"216px\" preserveAspectRatio=\"none\" style=\"width:744px;height:216px;\" version=\"1.1\" viewBox=\"0 0 744 216\" width=\"744px\" zoomAndPan=\"magnify\"><defs/><g><!--MD5=[fbc87193dbaf4d95561dea2c320d4a47]\n",
       "cluster E1--><a href=\"psysml:86781c8e-3979-42bc-84a0-50d047026621\" target=\"_top\" title=\"psysml:86781c8e-3979-42bc-84a0-50d047026621\" xlink:actuate=\"onRequest\" xlink:href=\"psysml:86781c8e-3979-42bc-84a0-50d047026621\" xlink:show=\"new\" xlink:title=\"psysml:86781c8e-3979-42bc-84a0-50d047026621\" xlink:type=\"simple\"><polygon fill=\"#FFFFFF\" points=\"16,6,124,6,131,28.2969,722,28.2969,722,204.72,16,204.72,16,6\" style=\"stroke: #000000; stroke-width: 1.5;\"/><line style=\"stroke: #000000; stroke-width: 1.5;\" x1=\"16\" x2=\"131\" y1=\"28.2969\" y2=\"28.2969\"/><text fill=\"#000000\" font-family=\"sans-serif\" font-size=\"14\" font-weight=\"bold\" lengthAdjust=\"spacingAndGlyphs\" textLength=\"102\" x=\"20\" y=\"20.9951\">ParameterTest</text></a><!--MD5=[f6df4d0ebaf0b5dfb2ced0ae5af7c670]\n",
       "cluster E4--><a href=\"psysml:824349d9-f3af-4f57-b650-7b4ce1821d09\" target=\"_top\" title=\"psysml:824349d9-f3af-4f57-b650-7b4ce1821d09\" xlink:actuate=\"onRequest\" xlink:href=\"psysml:824349d9-f3af-4f57-b650-7b4ce1821d09\" xlink:show=\"new\" xlink:title=\"psysml:824349d9-f3af-4f57-b650-7b4ce1821d09\" xlink:type=\"simple\"><rect fill=\"#FFFFFF\" height=\"110.72\" id=\"E4\" style=\"stroke: #383838; stroke-width: 1.5;\" width=\"150\" x=\"556\" y=\"64\"/><rect fill=\"#F8F8F8\" height=\"37.9375\" style=\"stroke: #383838; stroke-width: 1.5;\" width=\"150\" x=\"556\" y=\"64\"/><text fill=\"#000000\" font-family=\"sans-serif\" font-size=\"12\" font-style=\"italic\" lengthAdjust=\"spacingAndGlyphs\" textLength=\"110\" x=\"576\" y=\"80.1387\">«calculation  def»</text><text fill=\"#000000\" font-family=\"sans-serif\" font-size=\"12\" lengthAdjust=\"spacingAndGlyphs\" textLength=\"7\" x=\"627.5\" y=\"94.1074\">F</text></a><g id=\"E1.E2\"><a href=\"psysml:2ec9bc29-3801-4d04-bd01-a8a7cc509576\" target=\"_top\" title=\"psysml:2ec9bc29-3801-4d04-bd01-a8a7cc509576\" xlink:actuate=\"onRequest\" xlink:href=\"psysml:2ec9bc29-3801-4d04-bd01-a8a7cc509576\" xlink:show=\"new\" xlink:title=\"psysml:2ec9bc29-3801-4d04-bd01-a8a7cc509576\" xlink:type=\"simple\"><rect fill=\"#FFFFFF\" height=\"42.9375\" id=\"E2\" style=\"stroke: #383838; stroke-width: 1.5;\" width=\"104\" x=\"413\" y=\"99\"/><rect fill=\"#F8F8F8\" height=\"37.9375\" style=\"stroke: #383838; stroke-width: 1.5;\" width=\"104\" x=\"413\" y=\"99\"/><text fill=\"#000000\" font-family=\"sans-serif\" font-size=\"12\" font-style=\"italic\" lengthAdjust=\"spacingAndGlyphs\" textLength=\"97\" x=\"416.5\" y=\"115.1387\">«attribute  def»</text><text fill=\"#000000\" font-family=\"sans-serif\" font-size=\"12\" lengthAdjust=\"spacingAndGlyphs\" textLength=\"8\" x=\"461\" y=\"129.1074\">A</text></a></g><!--MD5=[09b614a08d8cba4a07c9adeb5e0fee81]\n",
       "class E3--><a href=\"psysml:904ee486-6b36-4246-8723-5e3acfd2e245\" target=\"_top\" title=\"psysml:904ee486-6b36-4246-8723-5e3acfd2e245\" xlink:actuate=\"onRequest\" xlink:href=\"psysml:904ee486-6b36-4246-8723-5e3acfd2e245\" xlink:show=\"new\" xlink:title=\"psysml:904ee486-6b36-4246-8723-5e3acfd2e245\" xlink:type=\"simple\"><rect fill=\"#FFFFFF\" height=\"45.9375\" id=\"E3\" rx=\"10\" ry=\"10\" style=\"stroke: #383838; stroke-width: 1.5;\" width=\"71\" x=\"456.5\" y=\"41\"/><text fill=\"#000000\" font-family=\"sans-serif\" font-size=\"12\" font-style=\"italic\" lengthAdjust=\"spacingAndGlyphs\" textLength=\"69\" x=\"457.5\" y=\"57.1387\">«attribute»</text><text fill=\"#000000\" font-family=\"sans-serif\" font-size=\"12\" lengthAdjust=\"spacingAndGlyphs\" textLength=\"24\" x=\"478\" y=\"71.1074\">a: A</text><line style=\"stroke: #383838; stroke-width: 1.5;\" x1=\"457.5\" x2=\"526.5\" y1=\"78.9375\" y2=\"78.9375\"/></a><!--MD5=[b9389687b975829384b498ac4b7476b2]\n",
       "class E8--><a href=\"psysml:8204b4e2-616f-4bbc-afa4-9ecd277b5579\" target=\"_top\" title=\"psysml:8204b4e2-616f-4bbc-afa4-9ecd277b5579\" xlink:actuate=\"onRequest\" xlink:href=\"psysml:8204b4e2-616f-4bbc-afa4-9ecd277b5579\" xlink:show=\"new\" xlink:title=\"psysml:8204b4e2-616f-4bbc-afa4-9ecd277b5579\" xlink:type=\"simple\"><rect fill=\"#FFFFFF\" height=\"45.9375\" id=\"E8\" rx=\"10\" ry=\"10\" style=\"stroke: #383838; stroke-width: 1.5;\" width=\"71\" x=\"350.5\" y=\"41\"/><text fill=\"#000000\" font-family=\"sans-serif\" font-size=\"12\" font-style=\"italic\" lengthAdjust=\"spacingAndGlyphs\" textLength=\"69\" x=\"351.5\" y=\"57.1387\">«attribute»</text><text fill=\"#000000\" font-family=\"sans-serif\" font-size=\"12\" lengthAdjust=\"spacingAndGlyphs\" textLength=\"4\" x=\"382\" y=\"71.1074\">f</text><line style=\"stroke: #383838; stroke-width: 1.5;\" x1=\"351.5\" x2=\"420.5\" y1=\"78.9375\" y2=\"78.9375\"/></a><!--MD5=[fd4143e9d270a159db93a4ea2a975926]\n",
       "class E9--><a href=\"psysml:86e22d1e-a4d5-4fc2-80cd-01d3f8e601c3\" target=\"_top\" title=\"psysml:86e22d1e-a4d5-4fc2-80cd-01d3f8e601c3\" xlink:actuate=\"onRequest\" xlink:href=\"psysml:86e22d1e-a4d5-4fc2-80cd-01d3f8e601c3\" xlink:show=\"new\" xlink:title=\"psysml:86e22d1e-a4d5-4fc2-80cd-01d3f8e601c3\" xlink:type=\"simple\"><rect fill=\"#FFFFFF\" height=\"45.9375\" id=\"E9\" rx=\"10\" ry=\"10\" style=\"stroke: #383838; stroke-width: 1.5;\" width=\"71\" x=\"244.5\" y=\"41\"/><text fill=\"#000000\" font-family=\"sans-serif\" font-size=\"12\" font-style=\"italic\" lengthAdjust=\"spacingAndGlyphs\" textLength=\"69\" x=\"245.5\" y=\"57.1387\">«attribute»</text><text fill=\"#000000\" font-family=\"sans-serif\" font-size=\"12\" lengthAdjust=\"spacingAndGlyphs\" textLength=\"8\" x=\"274\" y=\"71.1074\">g</text><line style=\"stroke: #383838; stroke-width: 1.5;\" x1=\"245.5\" x2=\"314.5\" y1=\"78.9375\" y2=\"78.9375\"/></a><!--MD5=[96f4274e9e20536e775497830990834d]\n",
       "class E10--><a href=\"psysml:5bd4ed77-91ea-4eb7-bbff-8ef8917960b7\" target=\"_top\" title=\"psysml:5bd4ed77-91ea-4eb7-bbff-8ef8917960b7\" xlink:actuate=\"onRequest\" xlink:href=\"psysml:5bd4ed77-91ea-4eb7-bbff-8ef8917960b7\" xlink:show=\"new\" xlink:title=\"psysml:5bd4ed77-91ea-4eb7-bbff-8ef8917960b7\" xlink:type=\"simple\"><rect fill=\"#FFFFFF\" height=\"45.9375\" id=\"E10\" rx=\"10\" ry=\"10\" style=\"stroke: #383838; stroke-width: 1.5;\" width=\"71\" x=\"138.5\" y=\"41\"/><text fill=\"#000000\" font-family=\"sans-serif\" font-size=\"12\" font-style=\"italic\" lengthAdjust=\"spacingAndGlyphs\" textLength=\"69\" x=\"139.5\" y=\"57.1387\">«attribute»</text><text fill=\"#000000\" font-family=\"sans-serif\" font-size=\"12\" lengthAdjust=\"spacingAndGlyphs\" textLength=\"8\" x=\"168\" y=\"71.1074\">b</text><line style=\"stroke: #383838; stroke-width: 1.5;\" x1=\"139.5\" x2=\"208.5\" y1=\"78.9375\" y2=\"78.9375\"/></a><!--MD5=[1dd1bfd58a279cf63c5f349dbc8fc6a1]\n",
       "class E11--><a href=\"psysml:88436cf5-d13a-4d80-b468-40a83b162e0f\" target=\"_top\" title=\"psysml:88436cf5-d13a-4d80-b468-40a83b162e0f\" xlink:actuate=\"onRequest\" xlink:href=\"psysml:88436cf5-d13a-4d80-b468-40a83b162e0f\" xlink:show=\"new\" xlink:title=\"psysml:88436cf5-d13a-4d80-b468-40a83b162e0f\" xlink:type=\"simple\"><rect fill=\"#FFFFFF\" height=\"45.9375\" id=\"E11\" rx=\"10\" ry=\"10\" style=\"stroke: #383838; stroke-width: 1.5;\" width=\"71\" x=\"32.5\" y=\"41\"/><text fill=\"#000000\" font-family=\"sans-serif\" font-size=\"12\" font-style=\"italic\" lengthAdjust=\"spacingAndGlyphs\" textLength=\"69\" x=\"33.5\" y=\"57.1387\">«attribute»</text><text fill=\"#000000\" font-family=\"sans-serif\" font-size=\"12\" lengthAdjust=\"spacingAndGlyphs\" textLength=\"7\" x=\"62.5\" y=\"71.1074\">c</text><line style=\"stroke: #383838; stroke-width: 1.5;\" x1=\"33.5\" x2=\"102.5\" y1=\"78.9375\" y2=\"78.9375\"/></a><text fill=\"#000000\" font-family=\"sans-serif\" font-size=\"14\" lengthAdjust=\"spacingAndGlyphs\" textLength=\"9\" x=\"569.5\" y=\"42.6982\">p</text><rect fill=\"#383838\" height=\"12\" style=\"stroke: #F8F8F8; stroke-width: 1.5;\" width=\"12\" x=\"568\" y=\"58\"/><text fill=\"#000000\" font-family=\"sans-serif\" font-size=\"14\" lengthAdjust=\"spacingAndGlyphs\" textLength=\"9\" x=\"616.5\" y=\"42.6982\">q</text><rect fill=\"#383838\" height=\"12\" style=\"stroke: #F8F8F8; stroke-width: 1.5;\" width=\"12\" x=\"615\" y=\"58\"/><text fill=\"#000000\" font-family=\"sans-serif\" font-size=\"14\" lengthAdjust=\"spacingAndGlyphs\" textLength=\"39\" x=\"601.5\" y=\"193.7151\">result</text><rect fill=\"#383838\" height=\"12\" style=\"stroke: #F8F8F8; stroke-width: 1.5;\" width=\"12\" x=\"615\" y=\"168.72\"/><!--MD5=[05d275557350bfb9b23a4ef7222b4c39]\n",
       "link E3 to E2--><a href=\"psysml:b5c275d4-de01-4c83-8a05-69f2b086225e\" target=\"_top\" title=\"psysml:b5c275d4-de01-4c83-8a05-69f2b086225e\" xlink:actuate=\"onRequest\" xlink:href=\"psysml:b5c275d4-de01-4c83-8a05-69f2b086225e\" xlink:show=\"new\" xlink:title=\"psysml:b5c275d4-de01-4c83-8a05-69f2b086225e\" xlink:type=\"simple\"><path d=\"M481.02,87.17 C480.96,87.29 480.9,87.41 480.84,87.53 \" fill=\"none\" id=\"E3-&gt;E2\" style=\"stroke: #383838; stroke-width: 1.0;\"/><polygon fill=\"#FFFFFF\" points=\"475.19,98.93,477.3425,78.7963,489.8904,85.0052,475.19,98.93\" style=\"stroke: #383838; stroke-width: 1.0;\"/><ellipse cx=\"481.663\" cy=\"74.5745\" fill=\"#383838\" rx=\"2\" ry=\"2\" style=\"stroke: #383838; stroke-width: 1.0;\"/><ellipse cx=\"490.6257\" cy=\"79.0095\" fill=\"#383838\" rx=\"2\" ry=\"2\" style=\"stroke: #383838; stroke-width: 1.0;\"/></a><!--MD5=[16dd1d6affe1cd102ca2d70ef7a90bdb]\n",
       "@startuml\r\n",
       "skinparam ranksep 10\r\n",
       "skinparam rectangle {\r\n",
       " backgroundColor<<block>> LightGreen\r\n",
       "}\r\n",
       "skinparam monochrome true\r\n",
       "skinparam classbackgroundcolor white\r\n",
       "skinparam shadowing false\r\n",
       "skinparam wrapWidth 300\r\n",
       "hide circle\r\n",
       "\r\n",
       "package \"ParameterTest\" as E1  [[psysml:86781c8e-3979-42bc-84a0-50d047026621 ]]  {\r\n",
       "def \"A\" as E2  <<(T,blue) attribute  def>> [[psysml:2ec9bc29-3801-4d04-bd01-a8a7cc509576 ]] \r\n",
       "comp usage \"a: A \" as E3  <<(T,blue) attribute>> [[psysml:904ee486-6b36-4246-8723-5e3acfd2e245 ]] {\r\n",
       "}\r\n",
       "rec def \"F\" as E4  <<(T,blue) calculation  def>> [[psysml:824349d9-f3af-4f57-b650-7b4ce1821d09 ]] {\r\n",
       "portin \"p\" as E5  [[psysml:1d7d0081-d3e1-46bd-ad63-b0e63267b1e5 ]] \r\n",
       "portin \"q\" as E6  [[psysml:21dced71-d174-49eb-b20b-d0423025e0cf ]] \r\n",
       "portout \"result\" as E7  [[psysml:89ad9a9d-29f0-45e8-8d07-ebce693a6326 ]] \r\n",
       "}\r\n",
       "\r\n",
       "comp usage \"f \" as E8  <<(T,blue) attribute>> [[psysml:8204b4e2-616f-4bbc-afa4-9ecd277b5579 ]] {\r\n",
       "}\r\n",
       "comp usage \"g \" as E9  <<(T,blue) attribute>> [[psysml:86e22d1e-a4d5-4fc2-80cd-01d3f8e601c3 ]] {\r\n",
       "}\r\n",
       "comp usage \"b \" as E10  <<(T,blue) attribute>> [[psysml:5bd4ed77-91ea-4eb7-bbff-8ef8917960b7 ]] {\r\n",
       "}\r\n",
       "comp usage \"c \" as E11  <<(T,blue) attribute>> [[psysml:88436cf5-d13a-4d80-b468-40a83b162e0f ]] {\r\n",
       "}\r\n",
       "}\r\n",
       "E3 - -:|> E2 [[psysml:b5c275d4-de01-4c83-8a05-69f2b086225e ]] \r\n",
       "@enduml\r\n",
       "\n",
       "PlantUML version 1.2020.13(Sat Jun 13 12:26:38 UTC 2020)\n",
       "(EPL source distribution)\n",
       "Java Runtime: OpenJDK Runtime Environment\n",
       "JVM: OpenJDK 64-Bit Server VM\n",
       "Default Encoding: UTF-8\n",
       "Language: en\n",
       "Country: null\n",
       "--></g></svg>"
      ]
     },
     "execution_count": 40,
     "metadata": {},
     "output_type": "execute_result"
    }
   ],
   "source": [
    "%viz --style=\"DEFAULT\" --view=\"Interconnection\" \"ParameterTest\""
   ]
  },
  {
   "cell_type": "code",
   "execution_count": 41,
   "id": "d088e63b",
   "metadata": {
    "execution": {
     "iopub.execute_input": "2022-03-03T09:56:17.329148Z",
     "iopub.status.busy": "2022-03-03T09:56:17.328743Z",
     "iopub.status.idle": "2022-03-03T09:56:17.350454Z",
     "shell.execute_reply": "2022-03-03T09:56:17.350093Z"
    }
   },
   "outputs": [
    {
     "data": {
      "image/svg+xml": [
       "<?xml version=\"1.0\" encoding=\"UTF-8\" standalone=\"no\"?><svg xmlns=\"http://www.w3.org/2000/svg\" xmlns:xlink=\"http://www.w3.org/1999/xlink\" contentScriptType=\"application/ecmascript\" contentStyleType=\"text/css\" height=\"162px\" preserveAspectRatio=\"none\" style=\"width:168px;height:162px;\" version=\"1.1\" viewBox=\"0 0 168 162\" width=\"168px\" zoomAndPan=\"magnify\"><defs/><g><!--MD5=[fbc87193dbaf4d95561dea2c320d4a47]\n",
       "cluster E1--><a href=\"psysml:824349d9-f3af-4f57-b650-7b4ce1821d09\" target=\"_top\" title=\"psysml:824349d9-f3af-4f57-b650-7b4ce1821d09\" xlink:actuate=\"onRequest\" xlink:href=\"psysml:824349d9-f3af-4f57-b650-7b4ce1821d09\" xlink:show=\"new\" xlink:title=\"psysml:824349d9-f3af-4f57-b650-7b4ce1821d09\" xlink:type=\"simple\"><rect fill=\"#FFFFFF\" height=\"87.72\" id=\"E1\" style=\"stroke: #383838; stroke-width: 1.5;\" width=\"150\" x=\"7\" y=\"42.0986\"/><rect fill=\"#F8F8F8\" height=\"37.9375\" style=\"stroke: #383838; stroke-width: 1.5;\" width=\"150\" x=\"7\" y=\"42.0986\"/><text fill=\"#000000\" font-family=\"sans-serif\" font-size=\"12\" font-style=\"italic\" lengthAdjust=\"spacingAndGlyphs\" textLength=\"110\" x=\"27\" y=\"58.2373\">«calculation  def»</text><text fill=\"#000000\" font-family=\"sans-serif\" font-size=\"12\" lengthAdjust=\"spacingAndGlyphs\" textLength=\"7\" x=\"78.5\" y=\"72.2061\">F</text></a><text fill=\"#000000\" font-family=\"sans-serif\" font-size=\"14\" lengthAdjust=\"spacingAndGlyphs\" textLength=\"9\" x=\"20.5\" y=\"20.7969\">p</text><rect fill=\"#383838\" height=\"12\" style=\"stroke: #F8F8F8; stroke-width: 1.5;\" width=\"12\" x=\"19\" y=\"36.0986\"/><text fill=\"#000000\" font-family=\"sans-serif\" font-size=\"14\" lengthAdjust=\"spacingAndGlyphs\" textLength=\"9\" x=\"67.5\" y=\"20.7969\">q</text><rect fill=\"#383838\" height=\"12\" style=\"stroke: #F8F8F8; stroke-width: 1.5;\" width=\"12\" x=\"66\" y=\"36.0986\"/><text fill=\"#000000\" font-family=\"sans-serif\" font-size=\"14\" lengthAdjust=\"spacingAndGlyphs\" textLength=\"39\" x=\"52.5\" y=\"148.8138\">result</text><rect fill=\"#383838\" height=\"12\" style=\"stroke: #F8F8F8; stroke-width: 1.5;\" width=\"12\" x=\"66\" y=\"123.8186\"/><!--MD5=[b1ebb772ef915750b94ee3fcfa7a0045]\n",
       "@startuml\r\n",
       "skinparam ranksep 8\r\n",
       "skinparam monochrome true\r\n",
       "skinparam classbackgroundcolor white\r\n",
       "skinparam shadowing false\r\n",
       "skinparam wrapWidth 300\r\n",
       "hide circle\r\n",
       "\r\n",
       "rec def \"F\" as E1  <<(T,blue) calculation  def>> [[psysml:824349d9-f3af-4f57-b650-7b4ce1821d09 ]] {\r\n",
       "portin \"p\" as E2  [[psysml:1d7d0081-d3e1-46bd-ad63-b0e63267b1e5 ]] \r\n",
       "portin \"q\" as E3  [[psysml:21dced71-d174-49eb-b20b-d0423025e0cf ]] \r\n",
       "portout \"result\" as E4  [[psysml:89ad9a9d-29f0-45e8-8d07-ebce693a6326 ]] \r\n",
       "}\r\n",
       "\r\n",
       "@enduml\r\n",
       "\n",
       "PlantUML version 1.2020.13(Sat Jun 13 12:26:38 UTC 2020)\n",
       "(EPL source distribution)\n",
       "Java Runtime: OpenJDK Runtime Environment\n",
       "JVM: OpenJDK 64-Bit Server VM\n",
       "Default Encoding: UTF-8\n",
       "Language: en\n",
       "Country: null\n",
       "--></g></svg>"
      ]
     },
     "execution_count": 41,
     "metadata": {},
     "output_type": "execute_result"
    }
   ],
   "source": [
    "%viz --style=\"DEFAULT\" --view=\"Action\" \"ParameterTest\""
   ]
  },
  {
   "cell_type": "code",
   "execution_count": 42,
   "id": "d8580089",
   "metadata": {
    "execution": {
     "iopub.execute_input": "2022-03-03T09:56:17.400200Z",
     "iopub.status.busy": "2022-03-03T09:56:17.399797Z",
     "iopub.status.idle": "2022-03-03T09:56:17.405544Z",
     "shell.execute_reply": "2022-03-03T09:56:17.405040Z"
    }
   },
   "outputs": [
    {
     "data": {
      "image/svg+xml": [
       "<?xml version=\"1.0\" encoding=\"UTF-8\" standalone=\"no\"?><svg xmlns=\"http://www.w3.org/2000/svg\" xmlns:xlink=\"http://www.w3.org/1999/xlink\" contentScriptType=\"application/ecmascript\" contentStyleType=\"text/css\" height=\"12px\" preserveAspectRatio=\"none\" style=\"width:12px;height:12px;\" version=\"1.1\" viewBox=\"0 0 12 12\" width=\"12px\" zoomAndPan=\"magnify\"><defs/><g><!--MD5=[0b72472770326784bf6c2b53246e1e64]\n",
       "@startuml\r\n",
       "skinparam roundcorner 20\r\n",
       "skinparam BoxPadding 20\r\n",
       "skinparam SequenceBoxBackgroundColor #white\r\n",
       "skinparam style strictuml\r\n",
       "skinparam maxMessageSize 100\r\n",
       "skinparam monochrome true\r\n",
       "skinparam classbackgroundcolor white\r\n",
       "skinparam shadowing false\r\n",
       "skinparam wrapWidth 300\r\n",
       "hide circle\r\n",
       "\r\n",
       "@enduml\r\n",
       "\n",
       "PlantUML version 1.2020.13(Sat Jun 13 12:26:38 UTC 2020)\n",
       "(EPL source distribution)\n",
       "Java Runtime: OpenJDK Runtime Environment\n",
       "JVM: OpenJDK 64-Bit Server VM\n",
       "Default Encoding: UTF-8\n",
       "Language: en\n",
       "Country: null\n",
       "--></g></svg>"
      ]
     },
     "execution_count": 42,
     "metadata": {},
     "output_type": "execute_result"
    }
   ],
   "source": [
    "%viz --style=\"DEFAULT\" --view=\"Sequence\" \"ParameterTest\""
   ]
  },
  {
   "cell_type": "code",
   "execution_count": 43,
   "id": "93fa2def",
   "metadata": {
    "execution": {
     "iopub.execute_input": "2022-03-03T09:56:17.455218Z",
     "iopub.status.busy": "2022-03-03T09:56:17.454608Z",
     "iopub.status.idle": "2022-03-03T09:56:17.507579Z",
     "shell.execute_reply": "2022-03-03T09:56:17.507183Z"
    }
   },
   "outputs": [
    {
     "data": {
      "image/svg+xml": [
       "<?xml version=\"1.0\" encoding=\"UTF-8\" standalone=\"no\"?><svg xmlns=\"http://www.w3.org/2000/svg\" xmlns:xlink=\"http://www.w3.org/1999/xlink\" contentScriptType=\"application/ecmascript\" contentStyleType=\"text/css\" height=\"403px\" preserveAspectRatio=\"none\" style=\"width:744px;height:403px;\" version=\"1.1\" viewBox=\"0 0 744 403\" width=\"744px\" zoomAndPan=\"magnify\"><defs/><g><!--MD5=[fbc87193dbaf4d95561dea2c320d4a47]\n",
       "cluster E1--><a href=\"psysml:86781c8e-3979-42bc-84a0-50d047026621\" target=\"_top\" title=\"psysml:86781c8e-3979-42bc-84a0-50d047026621\" xlink:actuate=\"onRequest\" xlink:href=\"psysml:86781c8e-3979-42bc-84a0-50d047026621\" xlink:show=\"new\" xlink:title=\"psysml:86781c8e-3979-42bc-84a0-50d047026621\" xlink:type=\"simple\"><polygon fill=\"#FFFFFF\" points=\"16,6,124,6,131,28.2969,722,28.2969,722,391.72,16,391.72,16,6\" style=\"stroke: #000000; stroke-width: 1.5;\"/><line style=\"stroke: #000000; stroke-width: 1.5;\" x1=\"16\" x2=\"131\" y1=\"28.2969\" y2=\"28.2969\"/><text fill=\"#000000\" font-family=\"sans-serif\" font-size=\"14\" font-weight=\"bold\" lengthAdjust=\"spacingAndGlyphs\" textLength=\"102\" x=\"20\" y=\"20.9951\">ParameterTest</text></a><!--MD5=[f6df4d0ebaf0b5dfb2ced0ae5af7c670]\n",
       "cluster E4--><a href=\"psysml:824349d9-f3af-4f57-b650-7b4ce1821d09\" target=\"_top\" title=\"psysml:824349d9-f3af-4f57-b650-7b4ce1821d09\" xlink:actuate=\"onRequest\" xlink:href=\"psysml:824349d9-f3af-4f57-b650-7b4ce1821d09\" xlink:show=\"new\" xlink:title=\"psysml:824349d9-f3af-4f57-b650-7b4ce1821d09\" xlink:type=\"simple\"><rect fill=\"#FFFFFF\" height=\"297.72\" id=\"E4\" style=\"stroke: #383838; stroke-width: 1.5;\" width=\"150\" x=\"556\" y=\"64\"/><rect fill=\"#F8F8F8\" height=\"37.9375\" style=\"stroke: #383838; stroke-width: 1.5;\" width=\"150\" x=\"556\" y=\"64\"/><text fill=\"#000000\" font-family=\"sans-serif\" font-size=\"12\" font-style=\"italic\" lengthAdjust=\"spacingAndGlyphs\" textLength=\"110\" x=\"576\" y=\"80.1387\">«calculation  def»</text><text fill=\"#000000\" font-family=\"sans-serif\" font-size=\"12\" lengthAdjust=\"spacingAndGlyphs\" textLength=\"7\" x=\"627.5\" y=\"94.1074\">F</text></a><!--MD5=[b4997ac47864f28c2f74865a473b2911]\n",
       "class E2--><a href=\"psysml:2ec9bc29-3801-4d04-bd01-a8a7cc509576\" target=\"_top\" title=\"psysml:2ec9bc29-3801-4d04-bd01-a8a7cc509576\" xlink:actuate=\"onRequest\" xlink:href=\"psysml:2ec9bc29-3801-4d04-bd01-a8a7cc509576\" xlink:show=\"new\" xlink:title=\"psysml:2ec9bc29-3801-4d04-bd01-a8a7cc509576\" xlink:type=\"simple\"><rect fill=\"#FFFFFF\" height=\"88.3516\" id=\"E2\" style=\"stroke: #383838; stroke-width: 1.5;\" width=\"99\" x=\"418.5\" y=\"147\"/><text fill=\"#000000\" font-family=\"sans-serif\" font-size=\"12\" font-style=\"italic\" lengthAdjust=\"spacingAndGlyphs\" textLength=\"97\" x=\"419.5\" y=\"163.1387\">«attribute  def»</text><text fill=\"#000000\" font-family=\"sans-serif\" font-size=\"12\" lengthAdjust=\"spacingAndGlyphs\" textLength=\"8\" x=\"464\" y=\"177.1074\">A</text><line style=\"stroke: #383838; stroke-width: 1.5;\" x1=\"419.5\" x2=\"516.5\" y1=\"184.9375\" y2=\"184.9375\"/><text fill=\"#000000\" font-family=\"sans-serif\" font-size=\"11\" lengthAdjust=\"spacingAndGlyphs\" textLength=\"48\" x=\"424.5\" y=\"215.9526\">x: String</text><text fill=\"#000000\" font-family=\"sans-serif\" font-size=\"11\" lengthAdjust=\"spacingAndGlyphs\" textLength=\"21\" x=\"424.5\" y=\"228.7573\">y: A</text><line style=\"stroke: #383838; stroke-width: 1.0;\" x1=\"419.5\" x2=\"440.5\" y1=\"199.3398\" y2=\"199.3398\"/><text fill=\"#000000\" font-family=\"sans-serif\" font-size=\"11\" lengthAdjust=\"spacingAndGlyphs\" textLength=\"55\" x=\"440.5\" y=\"202.6479\">attributes</text><line style=\"stroke: #383838; stroke-width: 1.0;\" x1=\"495.5\" x2=\"516.5\" y1=\"199.3398\" y2=\"199.3398\"/></a><!--MD5=[09b614a08d8cba4a07c9adeb5e0fee81]\n",
       "class E3--><a href=\"psysml:904ee486-6b36-4246-8723-5e3acfd2e245\" target=\"_top\" title=\"psysml:904ee486-6b36-4246-8723-5e3acfd2e245\" xlink:actuate=\"onRequest\" xlink:href=\"psysml:904ee486-6b36-4246-8723-5e3acfd2e245\" xlink:show=\"new\" xlink:title=\"psysml:904ee486-6b36-4246-8723-5e3acfd2e245\" xlink:type=\"simple\"><rect fill=\"#FFFFFF\" height=\"45.9375\" id=\"E3\" rx=\"10\" ry=\"10\" style=\"stroke: #383838; stroke-width: 1.5;\" width=\"71\" x=\"456.5\" y=\"41\"/><text fill=\"#000000\" font-family=\"sans-serif\" font-size=\"12\" font-style=\"italic\" lengthAdjust=\"spacingAndGlyphs\" textLength=\"69\" x=\"457.5\" y=\"57.1387\">«attribute»</text><text fill=\"#000000\" font-family=\"sans-serif\" font-size=\"12\" lengthAdjust=\"spacingAndGlyphs\" textLength=\"24\" x=\"478\" y=\"71.1074\">a: A</text><line style=\"stroke: #383838; stroke-width: 1.5;\" x1=\"457.5\" x2=\"526.5\" y1=\"78.9375\" y2=\"78.9375\"/></a><!--MD5=[b9389687b975829384b498ac4b7476b2]\n",
       "class E8--><a href=\"psysml:8204b4e2-616f-4bbc-afa4-9ecd277b5579\" target=\"_top\" title=\"psysml:8204b4e2-616f-4bbc-afa4-9ecd277b5579\" xlink:actuate=\"onRequest\" xlink:href=\"psysml:8204b4e2-616f-4bbc-afa4-9ecd277b5579\" xlink:show=\"new\" xlink:title=\"psysml:8204b4e2-616f-4bbc-afa4-9ecd277b5579\" xlink:type=\"simple\"><rect fill=\"#FFFFFF\" height=\"45.9375\" id=\"E8\" rx=\"10\" ry=\"10\" style=\"stroke: #383838; stroke-width: 1.5;\" width=\"71\" x=\"350.5\" y=\"41\"/><text fill=\"#000000\" font-family=\"sans-serif\" font-size=\"12\" font-style=\"italic\" lengthAdjust=\"spacingAndGlyphs\" textLength=\"69\" x=\"351.5\" y=\"57.1387\">«attribute»</text><text fill=\"#000000\" font-family=\"sans-serif\" font-size=\"12\" lengthAdjust=\"spacingAndGlyphs\" textLength=\"4\" x=\"382\" y=\"71.1074\">f</text><line style=\"stroke: #383838; stroke-width: 1.5;\" x1=\"351.5\" x2=\"420.5\" y1=\"78.9375\" y2=\"78.9375\"/></a><!--MD5=[fd4143e9d270a159db93a4ea2a975926]\n",
       "class E9--><a href=\"psysml:86e22d1e-a4d5-4fc2-80cd-01d3f8e601c3\" target=\"_top\" title=\"psysml:86e22d1e-a4d5-4fc2-80cd-01d3f8e601c3\" xlink:actuate=\"onRequest\" xlink:href=\"psysml:86e22d1e-a4d5-4fc2-80cd-01d3f8e601c3\" xlink:show=\"new\" xlink:title=\"psysml:86e22d1e-a4d5-4fc2-80cd-01d3f8e601c3\" xlink:type=\"simple\"><rect fill=\"#FFFFFF\" height=\"45.9375\" id=\"E9\" rx=\"10\" ry=\"10\" style=\"stroke: #383838; stroke-width: 1.5;\" width=\"71\" x=\"244.5\" y=\"41\"/><text fill=\"#000000\" font-family=\"sans-serif\" font-size=\"12\" font-style=\"italic\" lengthAdjust=\"spacingAndGlyphs\" textLength=\"69\" x=\"245.5\" y=\"57.1387\">«attribute»</text><text fill=\"#000000\" font-family=\"sans-serif\" font-size=\"12\" lengthAdjust=\"spacingAndGlyphs\" textLength=\"8\" x=\"274\" y=\"71.1074\">g</text><line style=\"stroke: #383838; stroke-width: 1.5;\" x1=\"245.5\" x2=\"314.5\" y1=\"78.9375\" y2=\"78.9375\"/></a><!--MD5=[96f4274e9e20536e775497830990834d]\n",
       "class E10--><a href=\"psysml:5bd4ed77-91ea-4eb7-bbff-8ef8917960b7\" target=\"_top\" title=\"psysml:5bd4ed77-91ea-4eb7-bbff-8ef8917960b7\" xlink:actuate=\"onRequest\" xlink:href=\"psysml:5bd4ed77-91ea-4eb7-bbff-8ef8917960b7\" xlink:show=\"new\" xlink:title=\"psysml:5bd4ed77-91ea-4eb7-bbff-8ef8917960b7\" xlink:type=\"simple\"><rect fill=\"#FFFFFF\" height=\"45.9375\" id=\"E10\" rx=\"10\" ry=\"10\" style=\"stroke: #383838; stroke-width: 1.5;\" width=\"71\" x=\"138.5\" y=\"41\"/><text fill=\"#000000\" font-family=\"sans-serif\" font-size=\"12\" font-style=\"italic\" lengthAdjust=\"spacingAndGlyphs\" textLength=\"69\" x=\"139.5\" y=\"57.1387\">«attribute»</text><text fill=\"#000000\" font-family=\"sans-serif\" font-size=\"12\" lengthAdjust=\"spacingAndGlyphs\" textLength=\"8\" x=\"168\" y=\"71.1074\">b</text><line style=\"stroke: #383838; stroke-width: 1.5;\" x1=\"139.5\" x2=\"208.5\" y1=\"78.9375\" y2=\"78.9375\"/></a><!--MD5=[1dd1bfd58a279cf63c5f349dbc8fc6a1]\n",
       "class E11--><a href=\"psysml:88436cf5-d13a-4d80-b468-40a83b162e0f\" target=\"_top\" title=\"psysml:88436cf5-d13a-4d80-b468-40a83b162e0f\" xlink:actuate=\"onRequest\" xlink:href=\"psysml:88436cf5-d13a-4d80-b468-40a83b162e0f\" xlink:show=\"new\" xlink:title=\"psysml:88436cf5-d13a-4d80-b468-40a83b162e0f\" xlink:type=\"simple\"><rect fill=\"#FFFFFF\" height=\"45.9375\" id=\"E11\" rx=\"10\" ry=\"10\" style=\"stroke: #383838; stroke-width: 1.5;\" width=\"71\" x=\"32.5\" y=\"41\"/><text fill=\"#000000\" font-family=\"sans-serif\" font-size=\"12\" font-style=\"italic\" lengthAdjust=\"spacingAndGlyphs\" textLength=\"69\" x=\"33.5\" y=\"57.1387\">«attribute»</text><text fill=\"#000000\" font-family=\"sans-serif\" font-size=\"12\" lengthAdjust=\"spacingAndGlyphs\" textLength=\"7\" x=\"62.5\" y=\"71.1074\">c</text><line style=\"stroke: #383838; stroke-width: 1.5;\" x1=\"33.5\" x2=\"102.5\" y1=\"78.9375\" y2=\"78.9375\"/></a><text fill=\"#000000\" font-family=\"sans-serif\" font-size=\"14\" lengthAdjust=\"spacingAndGlyphs\" textLength=\"9\" x=\"569.5\" y=\"42.6982\">p</text><rect fill=\"#383838\" height=\"12\" style=\"stroke: #F8F8F8; stroke-width: 1.5;\" width=\"12\" x=\"568\" y=\"58\"/><text fill=\"#000000\" font-family=\"sans-serif\" font-size=\"14\" lengthAdjust=\"spacingAndGlyphs\" textLength=\"9\" x=\"616.5\" y=\"42.6982\">q</text><rect fill=\"#383838\" height=\"12\" style=\"stroke: #F8F8F8; stroke-width: 1.5;\" width=\"12\" x=\"615\" y=\"58\"/><text fill=\"#000000\" font-family=\"sans-serif\" font-size=\"14\" lengthAdjust=\"spacingAndGlyphs\" textLength=\"39\" x=\"601.5\" y=\"380.7151\">result</text><rect fill=\"#383838\" height=\"12\" style=\"stroke: #F8F8F8; stroke-width: 1.5;\" width=\"12\" x=\"615\" y=\"355.72\"/><!--MD5=[05d275557350bfb9b23a4ef7222b4c39]\n",
       "link E3 to E2--><a href=\"psysml:b5c275d4-de01-4c83-8a05-69f2b086225e\" target=\"_top\" title=\"psysml:b5c275d4-de01-4c83-8a05-69f2b086225e\" xlink:actuate=\"onRequest\" xlink:href=\"psysml:b5c275d4-de01-4c83-8a05-69f2b086225e\" xlink:show=\"new\" xlink:title=\"psysml:b5c275d4-de01-4c83-8a05-69f2b086225e\" xlink:type=\"simple\"><path d=\"M487.76,87.06 C485.61,98.3 482.86,112.6 480.11,126.95 \" fill=\"none\" id=\"E3-&gt;E2\" style=\"stroke: #383838; stroke-width: 1.0;\"/><polygon fill=\"#FFFFFF\" points=\"476.27,146.93,472.9781,126.9509,486.727,129.5907,476.27,146.93\" style=\"stroke: #383838; stroke-width: 1.0;\"/><ellipse cx=\"476.017\" cy=\"121.7303\" fill=\"#383838\" rx=\"2\" ry=\"2\" style=\"stroke: #383838; stroke-width: 1.0;\"/><ellipse cx=\"485.8376\" cy=\"123.6158\" fill=\"#383838\" rx=\"2\" ry=\"2\" style=\"stroke: #383838; stroke-width: 1.0;\"/></a><!--MD5=[ab476d294d0a61b6cd0a480b6ed713a4]\n",
       "@startuml\r\n",
       "skinparam monochrome true\r\n",
       "skinparam classbackgroundcolor white\r\n",
       "skinparam shadowing false\r\n",
       "skinparam wrapWidth 300\r\n",
       "hide circle\r\n",
       "\r\n",
       "package \"ParameterTest\" as E1  [[psysml:86781c8e-3979-42bc-84a0-50d047026621 ]]  {\r\n",
       "comp def \"A\" as E2  <<(T,blue) attribute  def>> [[psysml:2ec9bc29-3801-4d04-bd01-a8a7cc509576 ]] {\r\n",
       "- - attributes - -\r\n",
       "x: String\r\n",
       "y: A\r\n",
       "}\r\n",
       "comp usage \"a: A \" as E3  <<(T,blue) attribute>> [[psysml:904ee486-6b36-4246-8723-5e3acfd2e245 ]] {\r\n",
       "}\r\n",
       "rec def \"F\" as E4  <<(T,blue) calculation  def>> [[psysml:824349d9-f3af-4f57-b650-7b4ce1821d09 ]] {\r\n",
       "portin \"p\" as E5  [[psysml:1d7d0081-d3e1-46bd-ad63-b0e63267b1e5 ]] \r\n",
       "portin \"q\" as E6  [[psysml:21dced71-d174-49eb-b20b-d0423025e0cf ]] \r\n",
       "portout \"result\" as E7  [[psysml:89ad9a9d-29f0-45e8-8d07-ebce693a6326 ]] \r\n",
       "}\r\n",
       "\r\n",
       "comp usage \"f \" as E8  <<(T,blue) attribute>> [[psysml:8204b4e2-616f-4bbc-afa4-9ecd277b5579 ]] {\r\n",
       "}\r\n",
       "comp usage \"g \" as E9  <<(T,blue) attribute>> [[psysml:86e22d1e-a4d5-4fc2-80cd-01d3f8e601c3 ]] {\r\n",
       "}\r\n",
       "comp usage \"b \" as E10  <<(T,blue) attribute>> [[psysml:5bd4ed77-91ea-4eb7-bbff-8ef8917960b7 ]] {\r\n",
       "}\r\n",
       "comp usage \"c \" as E11  <<(T,blue) attribute>> [[psysml:88436cf5-d13a-4d80-b468-40a83b162e0f ]] {\r\n",
       "}\r\n",
       "}\r\n",
       "E3 - -:|> E2 [[psysml:b5c275d4-de01-4c83-8a05-69f2b086225e ]] \r\n",
       "@enduml\r\n",
       "\n",
       "PlantUML version 1.2020.13(Sat Jun 13 12:26:38 UTC 2020)\n",
       "(EPL source distribution)\n",
       "Java Runtime: OpenJDK Runtime Environment\n",
       "JVM: OpenJDK 64-Bit Server VM\n",
       "Default Encoding: UTF-8\n",
       "Language: en\n",
       "Country: null\n",
       "--></g></svg>"
      ]
     },
     "execution_count": 43,
     "metadata": {},
     "output_type": "execute_result"
    }
   ],
   "source": [
    "%viz --style=\"DEFAULT\" --view=\"MIXED\" \"ParameterTest\""
   ]
  },
  {
   "cell_type": "code",
   "execution_count": 44,
   "id": "32b3620f",
   "metadata": {
    "execution": {
     "iopub.execute_input": "2022-03-03T09:56:17.557316Z",
     "iopub.status.busy": "2022-03-03T09:56:17.556862Z",
     "iopub.status.idle": "2022-03-03T09:56:17.629146Z",
     "shell.execute_reply": "2022-03-03T09:56:17.628589Z"
    }
   },
   "outputs": [
    {
     "data": {
      "image/svg+xml": [
       "<?xml version=\"1.0\" encoding=\"UTF-8\" standalone=\"no\"?><svg xmlns=\"http://www.w3.org/2000/svg\" xmlns:xlink=\"http://www.w3.org/1999/xlink\" contentScriptType=\"application/ecmascript\" contentStyleType=\"text/css\" height=\"403px\" preserveAspectRatio=\"none\" style=\"width:744px;height:403px;\" version=\"1.1\" viewBox=\"0 0 744 403\" width=\"744px\" zoomAndPan=\"magnify\"><defs/><g><!--MD5=[fbc87193dbaf4d95561dea2c320d4a47]\n",
       "cluster E1--><a href=\"psysml:86781c8e-3979-42bc-84a0-50d047026621\" target=\"_top\" title=\"psysml:86781c8e-3979-42bc-84a0-50d047026621\" xlink:actuate=\"onRequest\" xlink:href=\"psysml:86781c8e-3979-42bc-84a0-50d047026621\" xlink:show=\"new\" xlink:title=\"psysml:86781c8e-3979-42bc-84a0-50d047026621\" xlink:type=\"simple\"><polygon fill=\"#FFFFFF\" points=\"16,6,124,6,131,28.2969,722,28.2969,722,391.72,16,391.72,16,6\" style=\"stroke: #000000; stroke-width: 1.5;\"/><line style=\"stroke: #000000; stroke-width: 1.5;\" x1=\"16\" x2=\"131\" y1=\"28.2969\" y2=\"28.2969\"/><text fill=\"#000000\" font-family=\"sans-serif\" font-size=\"14\" font-weight=\"bold\" lengthAdjust=\"spacingAndGlyphs\" textLength=\"102\" x=\"20\" y=\"20.9951\">ParameterTest</text></a><!--MD5=[f6df4d0ebaf0b5dfb2ced0ae5af7c670]\n",
       "cluster E4--><a href=\"psysml:824349d9-f3af-4f57-b650-7b4ce1821d09\" target=\"_top\" title=\"psysml:824349d9-f3af-4f57-b650-7b4ce1821d09\" xlink:actuate=\"onRequest\" xlink:href=\"psysml:824349d9-f3af-4f57-b650-7b4ce1821d09\" xlink:show=\"new\" xlink:title=\"psysml:824349d9-f3af-4f57-b650-7b4ce1821d09\" xlink:type=\"simple\"><rect fill=\"#FFFFFF\" height=\"297.72\" id=\"E4\" style=\"stroke: #383838; stroke-width: 1.5;\" width=\"150\" x=\"556\" y=\"64\"/><rect fill=\"#F8F8F8\" height=\"37.9375\" style=\"stroke: #383838; stroke-width: 1.5;\" width=\"150\" x=\"556\" y=\"64\"/><text fill=\"#000000\" font-family=\"sans-serif\" font-size=\"12\" font-style=\"italic\" lengthAdjust=\"spacingAndGlyphs\" textLength=\"110\" x=\"576\" y=\"80.1387\">«calculation  def»</text><text fill=\"#000000\" font-family=\"sans-serif\" font-size=\"12\" lengthAdjust=\"spacingAndGlyphs\" textLength=\"7\" x=\"627.5\" y=\"94.1074\">F</text></a><!--MD5=[b4997ac47864f28c2f74865a473b2911]\n",
       "class E2--><a href=\"psysml:2ec9bc29-3801-4d04-bd01-a8a7cc509576\" target=\"_top\" title=\"psysml:2ec9bc29-3801-4d04-bd01-a8a7cc509576\" xlink:actuate=\"onRequest\" xlink:href=\"psysml:2ec9bc29-3801-4d04-bd01-a8a7cc509576\" xlink:show=\"new\" xlink:title=\"psysml:2ec9bc29-3801-4d04-bd01-a8a7cc509576\" xlink:type=\"simple\"><rect fill=\"#FFFFFF\" height=\"88.3516\" id=\"E2\" style=\"stroke: #383838; stroke-width: 1.5;\" width=\"99\" x=\"418.5\" y=\"147\"/><text fill=\"#000000\" font-family=\"sans-serif\" font-size=\"12\" font-style=\"italic\" lengthAdjust=\"spacingAndGlyphs\" textLength=\"97\" x=\"419.5\" y=\"163.1387\">«attribute  def»</text><text fill=\"#000000\" font-family=\"sans-serif\" font-size=\"12\" lengthAdjust=\"spacingAndGlyphs\" textLength=\"8\" x=\"464\" y=\"177.1074\">A</text><line style=\"stroke: #383838; stroke-width: 1.5;\" x1=\"419.5\" x2=\"516.5\" y1=\"184.9375\" y2=\"184.9375\"/><text fill=\"#000000\" font-family=\"sans-serif\" font-size=\"11\" lengthAdjust=\"spacingAndGlyphs\" textLength=\"48\" x=\"424.5\" y=\"215.9526\">x: String</text><text fill=\"#000000\" font-family=\"sans-serif\" font-size=\"11\" lengthAdjust=\"spacingAndGlyphs\" textLength=\"21\" x=\"424.5\" y=\"228.7573\">y: A</text><line style=\"stroke: #383838; stroke-width: 1.0;\" x1=\"419.5\" x2=\"440.5\" y1=\"199.3398\" y2=\"199.3398\"/><text fill=\"#000000\" font-family=\"sans-serif\" font-size=\"11\" lengthAdjust=\"spacingAndGlyphs\" textLength=\"55\" x=\"440.5\" y=\"202.6479\">attributes</text><line style=\"stroke: #383838; stroke-width: 1.0;\" x1=\"495.5\" x2=\"516.5\" y1=\"199.3398\" y2=\"199.3398\"/></a><!--MD5=[09b614a08d8cba4a07c9adeb5e0fee81]\n",
       "class E3--><a href=\"psysml:904ee486-6b36-4246-8723-5e3acfd2e245\" target=\"_top\" title=\"psysml:904ee486-6b36-4246-8723-5e3acfd2e245\" xlink:actuate=\"onRequest\" xlink:href=\"psysml:904ee486-6b36-4246-8723-5e3acfd2e245\" xlink:show=\"new\" xlink:title=\"psysml:904ee486-6b36-4246-8723-5e3acfd2e245\" xlink:type=\"simple\"><rect fill=\"#FFFFFF\" height=\"45.9375\" id=\"E3\" rx=\"10\" ry=\"10\" style=\"stroke: #383838; stroke-width: 1.5;\" width=\"71\" x=\"456.5\" y=\"41\"/><text fill=\"#000000\" font-family=\"sans-serif\" font-size=\"12\" font-style=\"italic\" lengthAdjust=\"spacingAndGlyphs\" textLength=\"69\" x=\"457.5\" y=\"57.1387\">«attribute»</text><text fill=\"#000000\" font-family=\"sans-serif\" font-size=\"12\" lengthAdjust=\"spacingAndGlyphs\" textLength=\"24\" x=\"478\" y=\"71.1074\">a: A</text><line style=\"stroke: #383838; stroke-width: 1.5;\" x1=\"457.5\" x2=\"526.5\" y1=\"78.9375\" y2=\"78.9375\"/></a><!--MD5=[b9389687b975829384b498ac4b7476b2]\n",
       "class E8--><a href=\"psysml:8204b4e2-616f-4bbc-afa4-9ecd277b5579\" target=\"_top\" title=\"psysml:8204b4e2-616f-4bbc-afa4-9ecd277b5579\" xlink:actuate=\"onRequest\" xlink:href=\"psysml:8204b4e2-616f-4bbc-afa4-9ecd277b5579\" xlink:show=\"new\" xlink:title=\"psysml:8204b4e2-616f-4bbc-afa4-9ecd277b5579\" xlink:type=\"simple\"><rect fill=\"#FFFFFF\" height=\"45.9375\" id=\"E8\" rx=\"10\" ry=\"10\" style=\"stroke: #383838; stroke-width: 1.5;\" width=\"71\" x=\"350.5\" y=\"41\"/><text fill=\"#000000\" font-family=\"sans-serif\" font-size=\"12\" font-style=\"italic\" lengthAdjust=\"spacingAndGlyphs\" textLength=\"69\" x=\"351.5\" y=\"57.1387\">«attribute»</text><text fill=\"#000000\" font-family=\"sans-serif\" font-size=\"12\" lengthAdjust=\"spacingAndGlyphs\" textLength=\"4\" x=\"382\" y=\"71.1074\">f</text><line style=\"stroke: #383838; stroke-width: 1.5;\" x1=\"351.5\" x2=\"420.5\" y1=\"78.9375\" y2=\"78.9375\"/></a><!--MD5=[fd4143e9d270a159db93a4ea2a975926]\n",
       "class E9--><a href=\"psysml:86e22d1e-a4d5-4fc2-80cd-01d3f8e601c3\" target=\"_top\" title=\"psysml:86e22d1e-a4d5-4fc2-80cd-01d3f8e601c3\" xlink:actuate=\"onRequest\" xlink:href=\"psysml:86e22d1e-a4d5-4fc2-80cd-01d3f8e601c3\" xlink:show=\"new\" xlink:title=\"psysml:86e22d1e-a4d5-4fc2-80cd-01d3f8e601c3\" xlink:type=\"simple\"><rect fill=\"#FFFFFF\" height=\"45.9375\" id=\"E9\" rx=\"10\" ry=\"10\" style=\"stroke: #383838; stroke-width: 1.5;\" width=\"71\" x=\"244.5\" y=\"41\"/><text fill=\"#000000\" font-family=\"sans-serif\" font-size=\"12\" font-style=\"italic\" lengthAdjust=\"spacingAndGlyphs\" textLength=\"69\" x=\"245.5\" y=\"57.1387\">«attribute»</text><text fill=\"#000000\" font-family=\"sans-serif\" font-size=\"12\" lengthAdjust=\"spacingAndGlyphs\" textLength=\"8\" x=\"274\" y=\"71.1074\">g</text><line style=\"stroke: #383838; stroke-width: 1.5;\" x1=\"245.5\" x2=\"314.5\" y1=\"78.9375\" y2=\"78.9375\"/></a><!--MD5=[96f4274e9e20536e775497830990834d]\n",
       "class E10--><a href=\"psysml:5bd4ed77-91ea-4eb7-bbff-8ef8917960b7\" target=\"_top\" title=\"psysml:5bd4ed77-91ea-4eb7-bbff-8ef8917960b7\" xlink:actuate=\"onRequest\" xlink:href=\"psysml:5bd4ed77-91ea-4eb7-bbff-8ef8917960b7\" xlink:show=\"new\" xlink:title=\"psysml:5bd4ed77-91ea-4eb7-bbff-8ef8917960b7\" xlink:type=\"simple\"><rect fill=\"#FFFFFF\" height=\"45.9375\" id=\"E10\" rx=\"10\" ry=\"10\" style=\"stroke: #383838; stroke-width: 1.5;\" width=\"71\" x=\"138.5\" y=\"41\"/><text fill=\"#000000\" font-family=\"sans-serif\" font-size=\"12\" font-style=\"italic\" lengthAdjust=\"spacingAndGlyphs\" textLength=\"69\" x=\"139.5\" y=\"57.1387\">«attribute»</text><text fill=\"#000000\" font-family=\"sans-serif\" font-size=\"12\" lengthAdjust=\"spacingAndGlyphs\" textLength=\"8\" x=\"168\" y=\"71.1074\">b</text><line style=\"stroke: #383838; stroke-width: 1.5;\" x1=\"139.5\" x2=\"208.5\" y1=\"78.9375\" y2=\"78.9375\"/></a><!--MD5=[1dd1bfd58a279cf63c5f349dbc8fc6a1]\n",
       "class E11--><a href=\"psysml:88436cf5-d13a-4d80-b468-40a83b162e0f\" target=\"_top\" title=\"psysml:88436cf5-d13a-4d80-b468-40a83b162e0f\" xlink:actuate=\"onRequest\" xlink:href=\"psysml:88436cf5-d13a-4d80-b468-40a83b162e0f\" xlink:show=\"new\" xlink:title=\"psysml:88436cf5-d13a-4d80-b468-40a83b162e0f\" xlink:type=\"simple\"><rect fill=\"#FFFFFF\" height=\"45.9375\" id=\"E11\" rx=\"10\" ry=\"10\" style=\"stroke: #383838; stroke-width: 1.5;\" width=\"71\" x=\"32.5\" y=\"41\"/><text fill=\"#000000\" font-family=\"sans-serif\" font-size=\"12\" font-style=\"italic\" lengthAdjust=\"spacingAndGlyphs\" textLength=\"69\" x=\"33.5\" y=\"57.1387\">«attribute»</text><text fill=\"#000000\" font-family=\"sans-serif\" font-size=\"12\" lengthAdjust=\"spacingAndGlyphs\" textLength=\"7\" x=\"62.5\" y=\"71.1074\">c</text><line style=\"stroke: #383838; stroke-width: 1.5;\" x1=\"33.5\" x2=\"102.5\" y1=\"78.9375\" y2=\"78.9375\"/></a><text fill=\"#000000\" font-family=\"sans-serif\" font-size=\"14\" lengthAdjust=\"spacingAndGlyphs\" textLength=\"9\" x=\"569.5\" y=\"42.6982\">p</text><rect fill=\"#383838\" height=\"12\" style=\"stroke: #F8F8F8; stroke-width: 1.5;\" width=\"12\" x=\"568\" y=\"58\"/><text fill=\"#000000\" font-family=\"sans-serif\" font-size=\"14\" lengthAdjust=\"spacingAndGlyphs\" textLength=\"9\" x=\"616.5\" y=\"42.6982\">q</text><rect fill=\"#383838\" height=\"12\" style=\"stroke: #F8F8F8; stroke-width: 1.5;\" width=\"12\" x=\"615\" y=\"58\"/><text fill=\"#000000\" font-family=\"sans-serif\" font-size=\"14\" lengthAdjust=\"spacingAndGlyphs\" textLength=\"39\" x=\"601.5\" y=\"380.7151\">result</text><rect fill=\"#383838\" height=\"12\" style=\"stroke: #F8F8F8; stroke-width: 1.5;\" width=\"12\" x=\"615\" y=\"355.72\"/><!--MD5=[05d275557350bfb9b23a4ef7222b4c39]\n",
       "link E3 to E2--><a href=\"psysml:b5c275d4-de01-4c83-8a05-69f2b086225e\" target=\"_top\" title=\"psysml:b5c275d4-de01-4c83-8a05-69f2b086225e\" xlink:actuate=\"onRequest\" xlink:href=\"psysml:b5c275d4-de01-4c83-8a05-69f2b086225e\" xlink:show=\"new\" xlink:title=\"psysml:b5c275d4-de01-4c83-8a05-69f2b086225e\" xlink:type=\"simple\"><path d=\"M487.76,87.06 C485.61,98.3 482.86,112.6 480.11,126.95 \" fill=\"none\" id=\"E3-&gt;E2\" style=\"stroke: #383838; stroke-width: 1.0;\"/><polygon fill=\"#FFFFFF\" points=\"476.27,146.93,472.9781,126.9509,486.727,129.5907,476.27,146.93\" style=\"stroke: #383838; stroke-width: 1.0;\"/><ellipse cx=\"476.017\" cy=\"121.7303\" fill=\"#383838\" rx=\"2\" ry=\"2\" style=\"stroke: #383838; stroke-width: 1.0;\"/><ellipse cx=\"485.8376\" cy=\"123.6158\" fill=\"#383838\" rx=\"2\" ry=\"2\" style=\"stroke: #383838; stroke-width: 1.0;\"/></a><!--MD5=[bba76d01ce2bc411fbc458aff77cd755]\n",
       "@startuml\r\n",
       "top to bottom direction\r\n",
       "skinparam monochrome true\r\n",
       "skinparam classbackgroundcolor white\r\n",
       "skinparam shadowing false\r\n",
       "skinparam wrapWidth 300\r\n",
       "hide circle\r\n",
       "\r\n",
       "package \"ParameterTest\" as E1  [[psysml:86781c8e-3979-42bc-84a0-50d047026621 ]]  {\r\n",
       "comp def \"A\" as E2  <<(T,blue) attribute  def>> [[psysml:2ec9bc29-3801-4d04-bd01-a8a7cc509576 ]] {\r\n",
       "- - attributes - -\r\n",
       "x: String\r\n",
       "y: A\r\n",
       "}\r\n",
       "comp usage \"a: A \" as E3  <<(T,blue) attribute>> [[psysml:904ee486-6b36-4246-8723-5e3acfd2e245 ]] {\r\n",
       "}\r\n",
       "rec def \"F\" as E4  <<(T,blue) calculation  def>> [[psysml:824349d9-f3af-4f57-b650-7b4ce1821d09 ]] {\r\n",
       "portin \"p\" as E5  [[psysml:1d7d0081-d3e1-46bd-ad63-b0e63267b1e5 ]] \r\n",
       "portin \"q\" as E6  [[psysml:21dced71-d174-49eb-b20b-d0423025e0cf ]] \r\n",
       "portout \"result\" as E7  [[psysml:89ad9a9d-29f0-45e8-8d07-ebce693a6326 ]] \r\n",
       "}\r\n",
       "\r\n",
       "comp usage \"f \" as E8  <<(T,blue) attribute>> [[psysml:8204b4e2-616f-4bbc-afa4-9ecd277b5579 ]] {\r\n",
       "}\r\n",
       "comp usage \"g \" as E9  <<(T,blue) attribute>> [[psysml:86e22d1e-a4d5-4fc2-80cd-01d3f8e601c3 ]] {\r\n",
       "}\r\n",
       "comp usage \"b \" as E10  <<(T,blue) attribute>> [[psysml:5bd4ed77-91ea-4eb7-bbff-8ef8917960b7 ]] {\r\n",
       "}\r\n",
       "comp usage \"c \" as E11  <<(T,blue) attribute>> [[psysml:88436cf5-d13a-4d80-b468-40a83b162e0f ]] {\r\n",
       "}\r\n",
       "}\r\n",
       "E3 - -:|> E2 [[psysml:b5c275d4-de01-4c83-8a05-69f2b086225e ]] \r\n",
       "@enduml\r\n",
       "\n",
       "PlantUML version 1.2020.13(Sat Jun 13 12:26:38 UTC 2020)\n",
       "(EPL source distribution)\n",
       "Java Runtime: OpenJDK Runtime Environment\n",
       "JVM: OpenJDK 64-Bit Server VM\n",
       "Default Encoding: UTF-8\n",
       "Language: en\n",
       "Country: null\n",
       "--></g></svg>"
      ]
     },
     "execution_count": 44,
     "metadata": {},
     "output_type": "execute_result"
    }
   ],
   "source": [
    "%viz --style=\"TB\" --view=\"Default\" \"ParameterTest\""
   ]
  },
  {
   "cell_type": "code",
   "execution_count": 45,
   "id": "31029d64",
   "metadata": {
    "execution": {
     "iopub.execute_input": "2022-03-03T09:56:17.677550Z",
     "iopub.status.busy": "2022-03-03T09:56:17.677280Z",
     "iopub.status.idle": "2022-03-03T09:56:17.728021Z",
     "shell.execute_reply": "2022-03-03T09:56:17.726072Z"
    }
   },
   "outputs": [
    {
     "data": {
      "image/svg+xml": [
       "<?xml version=\"1.0\" encoding=\"UTF-8\" standalone=\"no\"?><svg xmlns=\"http://www.w3.org/2000/svg\" xmlns:xlink=\"http://www.w3.org/1999/xlink\" contentScriptType=\"application/ecmascript\" contentStyleType=\"text/css\" height=\"280px\" preserveAspectRatio=\"none\" style=\"width:714px;height:280px;\" version=\"1.1\" viewBox=\"0 0 714 280\" width=\"714px\" zoomAndPan=\"magnify\"><defs/><g><!--MD5=[fbc87193dbaf4d95561dea2c320d4a47]\n",
       "cluster E1--><a href=\"psysml:86781c8e-3979-42bc-84a0-50d047026621\" target=\"_top\" title=\"psysml:86781c8e-3979-42bc-84a0-50d047026621\" xlink:actuate=\"onRequest\" xlink:href=\"psysml:86781c8e-3979-42bc-84a0-50d047026621\" xlink:show=\"new\" xlink:title=\"psysml:86781c8e-3979-42bc-84a0-50d047026621\" xlink:type=\"simple\"><polygon fill=\"#FFFFFF\" points=\"16,6,124,6,131,28.2969,692,28.2969,692,268,16,268,16,6\" style=\"stroke: #000000; stroke-width: 1.5;\"/><line style=\"stroke: #000000; stroke-width: 1.5;\" x1=\"16\" x2=\"131\" y1=\"28.2969\" y2=\"28.2969\"/><text fill=\"#000000\" font-family=\"sans-serif\" font-size=\"14\" font-weight=\"bold\" lengthAdjust=\"spacingAndGlyphs\" textLength=\"102\" x=\"20\" y=\"20.9951\">ParameterTest</text></a><!--MD5=[b4997ac47864f28c2f74865a473b2911]\n",
       "class E2--><a href=\"psysml:2ec9bc29-3801-4d04-bd01-a8a7cc509576\" target=\"_top\" title=\"psysml:2ec9bc29-3801-4d04-bd01-a8a7cc509576\" xlink:actuate=\"onRequest\" xlink:href=\"psysml:2ec9bc29-3801-4d04-bd01-a8a7cc509576\" xlink:show=\"new\" xlink:title=\"psysml:2ec9bc29-3801-4d04-bd01-a8a7cc509576\" xlink:type=\"simple\"><rect fill=\"#FFFFFF\" height=\"88.3516\" id=\"E2\" style=\"stroke: #383838; stroke-width: 1.5;\" width=\"99\" x=\"499.5\" y=\"164\"/><text fill=\"#000000\" font-family=\"sans-serif\" font-size=\"12\" font-style=\"italic\" lengthAdjust=\"spacingAndGlyphs\" textLength=\"97\" x=\"500.5\" y=\"180.1387\">«attribute  def»</text><text fill=\"#000000\" font-family=\"sans-serif\" font-size=\"12\" lengthAdjust=\"spacingAndGlyphs\" textLength=\"8\" x=\"545\" y=\"194.1074\">A</text><line style=\"stroke: #383838; stroke-width: 1.5;\" x1=\"500.5\" x2=\"597.5\" y1=\"201.9375\" y2=\"201.9375\"/><text fill=\"#000000\" font-family=\"sans-serif\" font-size=\"11\" lengthAdjust=\"spacingAndGlyphs\" textLength=\"48\" x=\"505.5\" y=\"232.9526\">x: String</text><text fill=\"#000000\" font-family=\"sans-serif\" font-size=\"11\" lengthAdjust=\"spacingAndGlyphs\" textLength=\"21\" x=\"505.5\" y=\"245.7573\">y: A</text><line style=\"stroke: #383838; stroke-width: 1.0;\" x1=\"500.5\" x2=\"521.5\" y1=\"216.3398\" y2=\"216.3398\"/><text fill=\"#000000\" font-family=\"sans-serif\" font-size=\"11\" lengthAdjust=\"spacingAndGlyphs\" textLength=\"55\" x=\"521.5\" y=\"219.6479\">attributes</text><line style=\"stroke: #383838; stroke-width: 1.0;\" x1=\"576.5\" x2=\"597.5\" y1=\"216.3398\" y2=\"216.3398\"/></a><!--MD5=[09b614a08d8cba4a07c9adeb5e0fee81]\n",
       "class E3--><a href=\"psysml:904ee486-6b36-4246-8723-5e3acfd2e245\" target=\"_top\" title=\"psysml:904ee486-6b36-4246-8723-5e3acfd2e245\" xlink:actuate=\"onRequest\" xlink:href=\"psysml:904ee486-6b36-4246-8723-5e3acfd2e245\" xlink:show=\"new\" xlink:title=\"psysml:904ee486-6b36-4246-8723-5e3acfd2e245\" xlink:type=\"simple\"><rect fill=\"#FFFFFF\" height=\"45.9375\" id=\"E3\" rx=\"10\" ry=\"10\" style=\"stroke: #383838; stroke-width: 1.5;\" width=\"71\" x=\"604.5\" y=\"41\"/><text fill=\"#000000\" font-family=\"sans-serif\" font-size=\"12\" font-style=\"italic\" lengthAdjust=\"spacingAndGlyphs\" textLength=\"69\" x=\"605.5\" y=\"57.1387\">«attribute»</text><text fill=\"#000000\" font-family=\"sans-serif\" font-size=\"12\" lengthAdjust=\"spacingAndGlyphs\" textLength=\"24\" x=\"626\" y=\"71.1074\">a: A</text><line style=\"stroke: #383838; stroke-width: 1.5;\" x1=\"605.5\" x2=\"674.5\" y1=\"78.9375\" y2=\"78.9375\"/></a><!--MD5=[ebbe1d658d1005bcc118a6aa81145e00]\n",
       "class E4--><a href=\"psysml:824349d9-f3af-4f57-b650-7b4ce1821d09\" target=\"_top\" title=\"psysml:824349d9-f3af-4f57-b650-7b4ce1821d09\" xlink:actuate=\"onRequest\" xlink:href=\"psysml:824349d9-f3af-4f57-b650-7b4ce1821d09\" xlink:show=\"new\" xlink:title=\"psysml:824349d9-f3af-4f57-b650-7b4ce1821d09\" xlink:type=\"simple\"><rect fill=\"#FFFFFF\" height=\"45.9375\" id=\"E4\" style=\"stroke: #383838; stroke-width: 1.5;\" width=\"112\" x=\"457\" y=\"41\"/><text fill=\"#000000\" font-family=\"sans-serif\" font-size=\"12\" font-style=\"italic\" lengthAdjust=\"spacingAndGlyphs\" textLength=\"110\" x=\"458\" y=\"57.1387\">«calculation  def»</text><text fill=\"#000000\" font-family=\"sans-serif\" font-size=\"12\" lengthAdjust=\"spacingAndGlyphs\" textLength=\"7\" x=\"509.5\" y=\"71.1074\">F</text><line style=\"stroke: #383838; stroke-width: 1.5;\" x1=\"458\" x2=\"568\" y1=\"78.9375\" y2=\"78.9375\"/></a><!--MD5=[270fce915f116d4de14055a7c1d9a0f3]\n",
       "class E5--><a href=\"psysml:8204b4e2-616f-4bbc-afa4-9ecd277b5579\" target=\"_top\" title=\"psysml:8204b4e2-616f-4bbc-afa4-9ecd277b5579\" xlink:actuate=\"onRequest\" xlink:href=\"psysml:8204b4e2-616f-4bbc-afa4-9ecd277b5579\" xlink:show=\"new\" xlink:title=\"psysml:8204b4e2-616f-4bbc-afa4-9ecd277b5579\" xlink:type=\"simple\"><rect fill=\"#FFFFFF\" height=\"45.9375\" id=\"E5\" rx=\"10\" ry=\"10\" style=\"stroke: #383838; stroke-width: 1.5;\" width=\"71\" x=\"350.5\" y=\"41\"/><text fill=\"#000000\" font-family=\"sans-serif\" font-size=\"12\" font-style=\"italic\" lengthAdjust=\"spacingAndGlyphs\" textLength=\"69\" x=\"351.5\" y=\"57.1387\">«attribute»</text><text fill=\"#000000\" font-family=\"sans-serif\" font-size=\"12\" lengthAdjust=\"spacingAndGlyphs\" textLength=\"4\" x=\"382\" y=\"71.1074\">f</text><line style=\"stroke: #383838; stroke-width: 1.5;\" x1=\"351.5\" x2=\"420.5\" y1=\"78.9375\" y2=\"78.9375\"/></a><!--MD5=[60a26617385b1d2d0262a64233df1f8d]\n",
       "class E6--><a href=\"psysml:86e22d1e-a4d5-4fc2-80cd-01d3f8e601c3\" target=\"_top\" title=\"psysml:86e22d1e-a4d5-4fc2-80cd-01d3f8e601c3\" xlink:actuate=\"onRequest\" xlink:href=\"psysml:86e22d1e-a4d5-4fc2-80cd-01d3f8e601c3\" xlink:show=\"new\" xlink:title=\"psysml:86e22d1e-a4d5-4fc2-80cd-01d3f8e601c3\" xlink:type=\"simple\"><rect fill=\"#FFFFFF\" height=\"45.9375\" id=\"E6\" rx=\"10\" ry=\"10\" style=\"stroke: #383838; stroke-width: 1.5;\" width=\"71\" x=\"244.5\" y=\"41\"/><text fill=\"#000000\" font-family=\"sans-serif\" font-size=\"12\" font-style=\"italic\" lengthAdjust=\"spacingAndGlyphs\" textLength=\"69\" x=\"245.5\" y=\"57.1387\">«attribute»</text><text fill=\"#000000\" font-family=\"sans-serif\" font-size=\"12\" lengthAdjust=\"spacingAndGlyphs\" textLength=\"8\" x=\"274\" y=\"71.1074\">g</text><line style=\"stroke: #383838; stroke-width: 1.5;\" x1=\"245.5\" x2=\"314.5\" y1=\"78.9375\" y2=\"78.9375\"/></a><!--MD5=[2156ba9850f5573cc1fc38a6a4b2f02b]\n",
       "class E7--><a href=\"psysml:5bd4ed77-91ea-4eb7-bbff-8ef8917960b7\" target=\"_top\" title=\"psysml:5bd4ed77-91ea-4eb7-bbff-8ef8917960b7\" xlink:actuate=\"onRequest\" xlink:href=\"psysml:5bd4ed77-91ea-4eb7-bbff-8ef8917960b7\" xlink:show=\"new\" xlink:title=\"psysml:5bd4ed77-91ea-4eb7-bbff-8ef8917960b7\" xlink:type=\"simple\"><rect fill=\"#FFFFFF\" height=\"45.9375\" id=\"E7\" rx=\"10\" ry=\"10\" style=\"stroke: #383838; stroke-width: 1.5;\" width=\"71\" x=\"138.5\" y=\"41\"/><text fill=\"#000000\" font-family=\"sans-serif\" font-size=\"12\" font-style=\"italic\" lengthAdjust=\"spacingAndGlyphs\" textLength=\"69\" x=\"139.5\" y=\"57.1387\">«attribute»</text><text fill=\"#000000\" font-family=\"sans-serif\" font-size=\"12\" lengthAdjust=\"spacingAndGlyphs\" textLength=\"8\" x=\"168\" y=\"71.1074\">b</text><line style=\"stroke: #383838; stroke-width: 1.5;\" x1=\"139.5\" x2=\"208.5\" y1=\"78.9375\" y2=\"78.9375\"/></a><!--MD5=[b9389687b975829384b498ac4b7476b2]\n",
       "class E8--><a href=\"psysml:88436cf5-d13a-4d80-b468-40a83b162e0f\" target=\"_top\" title=\"psysml:88436cf5-d13a-4d80-b468-40a83b162e0f\" xlink:actuate=\"onRequest\" xlink:href=\"psysml:88436cf5-d13a-4d80-b468-40a83b162e0f\" xlink:show=\"new\" xlink:title=\"psysml:88436cf5-d13a-4d80-b468-40a83b162e0f\" xlink:type=\"simple\"><rect fill=\"#FFFFFF\" height=\"45.9375\" id=\"E8\" rx=\"10\" ry=\"10\" style=\"stroke: #383838; stroke-width: 1.5;\" width=\"71\" x=\"32.5\" y=\"41\"/><text fill=\"#000000\" font-family=\"sans-serif\" font-size=\"12\" font-style=\"italic\" lengthAdjust=\"spacingAndGlyphs\" textLength=\"69\" x=\"33.5\" y=\"57.1387\">«attribute»</text><text fill=\"#000000\" font-family=\"sans-serif\" font-size=\"12\" lengthAdjust=\"spacingAndGlyphs\" textLength=\"7\" x=\"62.5\" y=\"71.1074\">c</text><line style=\"stroke: #383838; stroke-width: 1.5;\" x1=\"33.5\" x2=\"102.5\" y1=\"78.9375\" y2=\"78.9375\"/></a><!--MD5=[05d275557350bfb9b23a4ef7222b4c39]\n",
       "link E3 to E2--><a href=\"psysml:b5c275d4-de01-4c83-8a05-69f2b086225e\" target=\"_top\" title=\"psysml:b5c275d4-de01-4c83-8a05-69f2b086225e\" xlink:actuate=\"onRequest\" xlink:href=\"psysml:b5c275d4-de01-4c83-8a05-69f2b086225e\" xlink:show=\"new\" xlink:title=\"psysml:b5c275d4-de01-4c83-8a05-69f2b086225e\" xlink:type=\"simple\"><path d=\"M625.78,87.19 C615.5,103.23 601.08,125.73 587.52,146.9 \" fill=\"none\" id=\"E3-&gt;E2\" style=\"stroke: #383838; stroke-width: 1.0;\"/><polygon fill=\"#FFFFFF\" points=\"576.67,163.82,581.0214,144.0446,592.8112,151.5945,576.67,163.82\" style=\"stroke: #383838; stroke-width: 1.0;\"/><ellipse cx=\"585.7795\" cy=\"140.323\" fill=\"#383838\" rx=\"2\" ry=\"2\" style=\"stroke: #383838; stroke-width: 1.0;\"/><ellipse cx=\"594.2008\" cy=\"145.7158\" fill=\"#383838\" rx=\"2\" ry=\"2\" style=\"stroke: #383838; stroke-width: 1.0;\"/></a><!--MD5=[ddeed8deb2209213b62e6cfabaa108b2]\n",
       "reverse link E4 to E2--><a href=\"psysml:1d7d0081-d3e1-46bd-ad63-b0e63267b1e5\" target=\"_top\" title=\"psysml:1d7d0081-d3e1-46bd-ad63-b0e63267b1e5\" xlink:actuate=\"onRequest\" xlink:href=\"psysml:1d7d0081-d3e1-46bd-ad63-b0e63267b1e5\" xlink:show=\"new\" xlink:title=\"psysml:1d7d0081-d3e1-46bd-ad63-b0e63267b1e5\" xlink:type=\"simple\"><path d=\"M521.86,99.96 C526.75,119.25 532.87,143.36 538.05,163.82 \" fill=\"none\" id=\"E4&lt;-E2\" style=\"stroke: #383838; stroke-width: 1.0;\"/><polygon fill=\"#FFFFFF\" points=\"518.62,87.19,516.22,93.99,521.5738,98.8208,523.9738,92.0208,518.62,87.19\" style=\"stroke: #383838; stroke-width: 1.0;\"/><text fill=\"#000000\" font-family=\"sans-serif\" font-size=\"13\" lengthAdjust=\"spacingAndGlyphs\" textLength=\"8\" x=\"530\" y=\"130.0669\">p</text></a><!--MD5=[fdbc6d788359f54aa0b20d8d8eed8257]\n",
       "@startuml\r\n",
       "top to bottom direction\r\n",
       "skinparam monochrome true\r\n",
       "skinparam classbackgroundcolor white\r\n",
       "skinparam shadowing false\r\n",
       "skinparam wrapWidth 300\r\n",
       "hide circle\r\n",
       "\r\n",
       "package \"ParameterTest\" as E1  [[psysml:86781c8e-3979-42bc-84a0-50d047026621 ]]  {\r\n",
       "comp def \"A\" as E2  <<(T,blue) attribute  def>> [[psysml:2ec9bc29-3801-4d04-bd01-a8a7cc509576 ]] {\r\n",
       "- - attributes - -\r\n",
       "x: String\r\n",
       "y: A\r\n",
       "}\r\n",
       "comp usage \"a: A \" as E3  <<(T,blue) attribute>> [[psysml:904ee486-6b36-4246-8723-5e3acfd2e245 ]] {\r\n",
       "}\r\n",
       "comp def \"F\" as E4  <<(T,blue) calculation  def>> [[psysml:824349d9-f3af-4f57-b650-7b4ce1821d09 ]] {\r\n",
       "}\r\n",
       "comp usage \"f \" as E5  <<(T,blue) attribute>> [[psysml:8204b4e2-616f-4bbc-afa4-9ecd277b5579 ]] {\r\n",
       "}\r\n",
       "comp usage \"g \" as E6  <<(T,blue) attribute>> [[psysml:86e22d1e-a4d5-4fc2-80cd-01d3f8e601c3 ]] {\r\n",
       "}\r\n",
       "comp usage \"b \" as E7  <<(T,blue) attribute>> [[psysml:5bd4ed77-91ea-4eb7-bbff-8ef8917960b7 ]] {\r\n",
       "}\r\n",
       "comp usage \"c \" as E8  <<(T,blue) attribute>> [[psysml:88436cf5-d13a-4d80-b468-40a83b162e0f ]] {\r\n",
       "}\r\n",
       "}\r\n",
       "E3 - -:|> E2 [[psysml:b5c275d4-de01-4c83-8a05-69f2b086225e ]] \r\n",
       "E4 o- - E2 [[psysml:1d7d0081-d3e1-46bd-ad63-b0e63267b1e5 ]] : p\r\n",
       "@enduml\r\n",
       "\n",
       "PlantUML version 1.2020.13(Sat Jun 13 12:26:38 UTC 2020)\n",
       "(EPL source distribution)\n",
       "Java Runtime: OpenJDK Runtime Environment\n",
       "JVM: OpenJDK 64-Bit Server VM\n",
       "Default Encoding: UTF-8\n",
       "Language: en\n",
       "Country: null\n",
       "--></g></svg>"
      ]
     },
     "execution_count": 45,
     "metadata": {},
     "output_type": "execute_result"
    }
   ],
   "source": [
    "%viz --style=\"TB\" --view=\"Tree\" \"ParameterTest\""
   ]
  },
  {
   "cell_type": "code",
   "execution_count": 46,
   "id": "0314f7a6",
   "metadata": {
    "execution": {
     "iopub.execute_input": "2022-03-03T09:56:17.777021Z",
     "iopub.status.busy": "2022-03-03T09:56:17.776419Z",
     "iopub.status.idle": "2022-03-03T09:56:17.781045Z",
     "shell.execute_reply": "2022-03-03T09:56:17.780694Z"
    }
   },
   "outputs": [
    {
     "data": {
      "image/svg+xml": [
       "<?xml version=\"1.0\" encoding=\"UTF-8\" standalone=\"no\"?><svg xmlns=\"http://www.w3.org/2000/svg\" xmlns:xlink=\"http://www.w3.org/1999/xlink\" contentScriptType=\"application/ecmascript\" contentStyleType=\"text/css\" height=\"12px\" preserveAspectRatio=\"none\" style=\"width:12px;height:12px;\" version=\"1.1\" viewBox=\"0 0 12 12\" width=\"12px\" zoomAndPan=\"magnify\"><defs/><g><!--MD5=[f4ee21bc66e489b5061b7c3e9601fdef]\n",
       "@startuml\r\n",
       "top to bottom direction\r\n",
       "skinparam monochrome true\r\n",
       "skinparam classbackgroundcolor white\r\n",
       "skinparam shadowing false\r\n",
       "skinparam wrapWidth 300\r\n",
       "hide circle\r\n",
       "\r\n",
       "@enduml\r\n",
       "\n",
       "PlantUML version 1.2020.13(Sat Jun 13 12:26:38 UTC 2020)\n",
       "(EPL source distribution)\n",
       "Java Runtime: OpenJDK Runtime Environment\n",
       "JVM: OpenJDK 64-Bit Server VM\n",
       "Default Encoding: UTF-8\n",
       "Language: en\n",
       "Country: null\n",
       "--></g></svg>"
      ]
     },
     "execution_count": 46,
     "metadata": {},
     "output_type": "execute_result"
    }
   ],
   "source": [
    "%viz --style=\"TB\" --view=\"State\" \"ParameterTest\""
   ]
  },
  {
   "cell_type": "code",
   "execution_count": 47,
   "id": "3d8cc671",
   "metadata": {
    "execution": {
     "iopub.execute_input": "2022-03-03T09:56:17.830917Z",
     "iopub.status.busy": "2022-03-03T09:56:17.830499Z",
     "iopub.status.idle": "2022-03-03T09:56:17.864075Z",
     "shell.execute_reply": "2022-03-03T09:56:17.863698Z"
    }
   },
   "outputs": [
    {
     "data": {
      "image/svg+xml": [
       "<?xml version=\"1.0\" encoding=\"UTF-8\" standalone=\"no\"?><svg xmlns=\"http://www.w3.org/2000/svg\" xmlns:xlink=\"http://www.w3.org/1999/xlink\" contentScriptType=\"application/ecmascript\" contentStyleType=\"text/css\" height=\"216px\" preserveAspectRatio=\"none\" style=\"width:744px;height:216px;\" version=\"1.1\" viewBox=\"0 0 744 216\" width=\"744px\" zoomAndPan=\"magnify\"><defs/><g><!--MD5=[fbc87193dbaf4d95561dea2c320d4a47]\n",
       "cluster E1--><a href=\"psysml:86781c8e-3979-42bc-84a0-50d047026621\" target=\"_top\" title=\"psysml:86781c8e-3979-42bc-84a0-50d047026621\" xlink:actuate=\"onRequest\" xlink:href=\"psysml:86781c8e-3979-42bc-84a0-50d047026621\" xlink:show=\"new\" xlink:title=\"psysml:86781c8e-3979-42bc-84a0-50d047026621\" xlink:type=\"simple\"><polygon fill=\"#FFFFFF\" points=\"16,6,124,6,131,28.2969,722,28.2969,722,204.72,16,204.72,16,6\" style=\"stroke: #000000; stroke-width: 1.5;\"/><line style=\"stroke: #000000; stroke-width: 1.5;\" x1=\"16\" x2=\"131\" y1=\"28.2969\" y2=\"28.2969\"/><text fill=\"#000000\" font-family=\"sans-serif\" font-size=\"14\" font-weight=\"bold\" lengthAdjust=\"spacingAndGlyphs\" textLength=\"102\" x=\"20\" y=\"20.9951\">ParameterTest</text></a><!--MD5=[f6df4d0ebaf0b5dfb2ced0ae5af7c670]\n",
       "cluster E4--><a href=\"psysml:824349d9-f3af-4f57-b650-7b4ce1821d09\" target=\"_top\" title=\"psysml:824349d9-f3af-4f57-b650-7b4ce1821d09\" xlink:actuate=\"onRequest\" xlink:href=\"psysml:824349d9-f3af-4f57-b650-7b4ce1821d09\" xlink:show=\"new\" xlink:title=\"psysml:824349d9-f3af-4f57-b650-7b4ce1821d09\" xlink:type=\"simple\"><rect fill=\"#FFFFFF\" height=\"110.72\" id=\"E4\" style=\"stroke: #383838; stroke-width: 1.5;\" width=\"150\" x=\"556\" y=\"64\"/><rect fill=\"#F8F8F8\" height=\"37.9375\" style=\"stroke: #383838; stroke-width: 1.5;\" width=\"150\" x=\"556\" y=\"64\"/><text fill=\"#000000\" font-family=\"sans-serif\" font-size=\"12\" font-style=\"italic\" lengthAdjust=\"spacingAndGlyphs\" textLength=\"110\" x=\"576\" y=\"80.1387\">«calculation  def»</text><text fill=\"#000000\" font-family=\"sans-serif\" font-size=\"12\" lengthAdjust=\"spacingAndGlyphs\" textLength=\"7\" x=\"627.5\" y=\"94.1074\">F</text></a><g id=\"E1.E2\"><a href=\"psysml:2ec9bc29-3801-4d04-bd01-a8a7cc509576\" target=\"_top\" title=\"psysml:2ec9bc29-3801-4d04-bd01-a8a7cc509576\" xlink:actuate=\"onRequest\" xlink:href=\"psysml:2ec9bc29-3801-4d04-bd01-a8a7cc509576\" xlink:show=\"new\" xlink:title=\"psysml:2ec9bc29-3801-4d04-bd01-a8a7cc509576\" xlink:type=\"simple\"><rect fill=\"#FFFFFF\" height=\"42.9375\" id=\"E2\" style=\"stroke: #383838; stroke-width: 1.5;\" width=\"104\" x=\"413\" y=\"99\"/><rect fill=\"#F8F8F8\" height=\"37.9375\" style=\"stroke: #383838; stroke-width: 1.5;\" width=\"104\" x=\"413\" y=\"99\"/><text fill=\"#000000\" font-family=\"sans-serif\" font-size=\"12\" font-style=\"italic\" lengthAdjust=\"spacingAndGlyphs\" textLength=\"97\" x=\"416.5\" y=\"115.1387\">«attribute  def»</text><text fill=\"#000000\" font-family=\"sans-serif\" font-size=\"12\" lengthAdjust=\"spacingAndGlyphs\" textLength=\"8\" x=\"461\" y=\"129.1074\">A</text></a></g><!--MD5=[09b614a08d8cba4a07c9adeb5e0fee81]\n",
       "class E3--><a href=\"psysml:904ee486-6b36-4246-8723-5e3acfd2e245\" target=\"_top\" title=\"psysml:904ee486-6b36-4246-8723-5e3acfd2e245\" xlink:actuate=\"onRequest\" xlink:href=\"psysml:904ee486-6b36-4246-8723-5e3acfd2e245\" xlink:show=\"new\" xlink:title=\"psysml:904ee486-6b36-4246-8723-5e3acfd2e245\" xlink:type=\"simple\"><rect fill=\"#FFFFFF\" height=\"45.9375\" id=\"E3\" rx=\"10\" ry=\"10\" style=\"stroke: #383838; stroke-width: 1.5;\" width=\"71\" x=\"456.5\" y=\"41\"/><text fill=\"#000000\" font-family=\"sans-serif\" font-size=\"12\" font-style=\"italic\" lengthAdjust=\"spacingAndGlyphs\" textLength=\"69\" x=\"457.5\" y=\"57.1387\">«attribute»</text><text fill=\"#000000\" font-family=\"sans-serif\" font-size=\"12\" lengthAdjust=\"spacingAndGlyphs\" textLength=\"24\" x=\"478\" y=\"71.1074\">a: A</text><line style=\"stroke: #383838; stroke-width: 1.5;\" x1=\"457.5\" x2=\"526.5\" y1=\"78.9375\" y2=\"78.9375\"/></a><!--MD5=[b9389687b975829384b498ac4b7476b2]\n",
       "class E8--><a href=\"psysml:8204b4e2-616f-4bbc-afa4-9ecd277b5579\" target=\"_top\" title=\"psysml:8204b4e2-616f-4bbc-afa4-9ecd277b5579\" xlink:actuate=\"onRequest\" xlink:href=\"psysml:8204b4e2-616f-4bbc-afa4-9ecd277b5579\" xlink:show=\"new\" xlink:title=\"psysml:8204b4e2-616f-4bbc-afa4-9ecd277b5579\" xlink:type=\"simple\"><rect fill=\"#FFFFFF\" height=\"45.9375\" id=\"E8\" rx=\"10\" ry=\"10\" style=\"stroke: #383838; stroke-width: 1.5;\" width=\"71\" x=\"350.5\" y=\"41\"/><text fill=\"#000000\" font-family=\"sans-serif\" font-size=\"12\" font-style=\"italic\" lengthAdjust=\"spacingAndGlyphs\" textLength=\"69\" x=\"351.5\" y=\"57.1387\">«attribute»</text><text fill=\"#000000\" font-family=\"sans-serif\" font-size=\"12\" lengthAdjust=\"spacingAndGlyphs\" textLength=\"4\" x=\"382\" y=\"71.1074\">f</text><line style=\"stroke: #383838; stroke-width: 1.5;\" x1=\"351.5\" x2=\"420.5\" y1=\"78.9375\" y2=\"78.9375\"/></a><!--MD5=[fd4143e9d270a159db93a4ea2a975926]\n",
       "class E9--><a href=\"psysml:86e22d1e-a4d5-4fc2-80cd-01d3f8e601c3\" target=\"_top\" title=\"psysml:86e22d1e-a4d5-4fc2-80cd-01d3f8e601c3\" xlink:actuate=\"onRequest\" xlink:href=\"psysml:86e22d1e-a4d5-4fc2-80cd-01d3f8e601c3\" xlink:show=\"new\" xlink:title=\"psysml:86e22d1e-a4d5-4fc2-80cd-01d3f8e601c3\" xlink:type=\"simple\"><rect fill=\"#FFFFFF\" height=\"45.9375\" id=\"E9\" rx=\"10\" ry=\"10\" style=\"stroke: #383838; stroke-width: 1.5;\" width=\"71\" x=\"244.5\" y=\"41\"/><text fill=\"#000000\" font-family=\"sans-serif\" font-size=\"12\" font-style=\"italic\" lengthAdjust=\"spacingAndGlyphs\" textLength=\"69\" x=\"245.5\" y=\"57.1387\">«attribute»</text><text fill=\"#000000\" font-family=\"sans-serif\" font-size=\"12\" lengthAdjust=\"spacingAndGlyphs\" textLength=\"8\" x=\"274\" y=\"71.1074\">g</text><line style=\"stroke: #383838; stroke-width: 1.5;\" x1=\"245.5\" x2=\"314.5\" y1=\"78.9375\" y2=\"78.9375\"/></a><!--MD5=[96f4274e9e20536e775497830990834d]\n",
       "class E10--><a href=\"psysml:5bd4ed77-91ea-4eb7-bbff-8ef8917960b7\" target=\"_top\" title=\"psysml:5bd4ed77-91ea-4eb7-bbff-8ef8917960b7\" xlink:actuate=\"onRequest\" xlink:href=\"psysml:5bd4ed77-91ea-4eb7-bbff-8ef8917960b7\" xlink:show=\"new\" xlink:title=\"psysml:5bd4ed77-91ea-4eb7-bbff-8ef8917960b7\" xlink:type=\"simple\"><rect fill=\"#FFFFFF\" height=\"45.9375\" id=\"E10\" rx=\"10\" ry=\"10\" style=\"stroke: #383838; stroke-width: 1.5;\" width=\"71\" x=\"138.5\" y=\"41\"/><text fill=\"#000000\" font-family=\"sans-serif\" font-size=\"12\" font-style=\"italic\" lengthAdjust=\"spacingAndGlyphs\" textLength=\"69\" x=\"139.5\" y=\"57.1387\">«attribute»</text><text fill=\"#000000\" font-family=\"sans-serif\" font-size=\"12\" lengthAdjust=\"spacingAndGlyphs\" textLength=\"8\" x=\"168\" y=\"71.1074\">b</text><line style=\"stroke: #383838; stroke-width: 1.5;\" x1=\"139.5\" x2=\"208.5\" y1=\"78.9375\" y2=\"78.9375\"/></a><!--MD5=[1dd1bfd58a279cf63c5f349dbc8fc6a1]\n",
       "class E11--><a href=\"psysml:88436cf5-d13a-4d80-b468-40a83b162e0f\" target=\"_top\" title=\"psysml:88436cf5-d13a-4d80-b468-40a83b162e0f\" xlink:actuate=\"onRequest\" xlink:href=\"psysml:88436cf5-d13a-4d80-b468-40a83b162e0f\" xlink:show=\"new\" xlink:title=\"psysml:88436cf5-d13a-4d80-b468-40a83b162e0f\" xlink:type=\"simple\"><rect fill=\"#FFFFFF\" height=\"45.9375\" id=\"E11\" rx=\"10\" ry=\"10\" style=\"stroke: #383838; stroke-width: 1.5;\" width=\"71\" x=\"32.5\" y=\"41\"/><text fill=\"#000000\" font-family=\"sans-serif\" font-size=\"12\" font-style=\"italic\" lengthAdjust=\"spacingAndGlyphs\" textLength=\"69\" x=\"33.5\" y=\"57.1387\">«attribute»</text><text fill=\"#000000\" font-family=\"sans-serif\" font-size=\"12\" lengthAdjust=\"spacingAndGlyphs\" textLength=\"7\" x=\"62.5\" y=\"71.1074\">c</text><line style=\"stroke: #383838; stroke-width: 1.5;\" x1=\"33.5\" x2=\"102.5\" y1=\"78.9375\" y2=\"78.9375\"/></a><text fill=\"#000000\" font-family=\"sans-serif\" font-size=\"14\" lengthAdjust=\"spacingAndGlyphs\" textLength=\"9\" x=\"569.5\" y=\"42.6982\">p</text><rect fill=\"#383838\" height=\"12\" style=\"stroke: #F8F8F8; stroke-width: 1.5;\" width=\"12\" x=\"568\" y=\"58\"/><text fill=\"#000000\" font-family=\"sans-serif\" font-size=\"14\" lengthAdjust=\"spacingAndGlyphs\" textLength=\"9\" x=\"616.5\" y=\"42.6982\">q</text><rect fill=\"#383838\" height=\"12\" style=\"stroke: #F8F8F8; stroke-width: 1.5;\" width=\"12\" x=\"615\" y=\"58\"/><text fill=\"#000000\" font-family=\"sans-serif\" font-size=\"14\" lengthAdjust=\"spacingAndGlyphs\" textLength=\"39\" x=\"601.5\" y=\"193.7151\">result</text><rect fill=\"#383838\" height=\"12\" style=\"stroke: #F8F8F8; stroke-width: 1.5;\" width=\"12\" x=\"615\" y=\"168.72\"/><!--MD5=[05d275557350bfb9b23a4ef7222b4c39]\n",
       "link E3 to E2--><a href=\"psysml:b5c275d4-de01-4c83-8a05-69f2b086225e\" target=\"_top\" title=\"psysml:b5c275d4-de01-4c83-8a05-69f2b086225e\" xlink:actuate=\"onRequest\" xlink:href=\"psysml:b5c275d4-de01-4c83-8a05-69f2b086225e\" xlink:show=\"new\" xlink:title=\"psysml:b5c275d4-de01-4c83-8a05-69f2b086225e\" xlink:type=\"simple\"><path d=\"M481.02,87.17 C480.96,87.29 480.9,87.41 480.84,87.53 \" fill=\"none\" id=\"E3-&gt;E2\" style=\"stroke: #383838; stroke-width: 1.0;\"/><polygon fill=\"#FFFFFF\" points=\"475.19,98.93,477.3425,78.7963,489.8904,85.0052,475.19,98.93\" style=\"stroke: #383838; stroke-width: 1.0;\"/><ellipse cx=\"481.663\" cy=\"74.5745\" fill=\"#383838\" rx=\"2\" ry=\"2\" style=\"stroke: #383838; stroke-width: 1.0;\"/><ellipse cx=\"490.6257\" cy=\"79.0095\" fill=\"#383838\" rx=\"2\" ry=\"2\" style=\"stroke: #383838; stroke-width: 1.0;\"/></a><!--MD5=[aa7d41503af0f08cfd17e836d14e1865]\n",
       "@startuml\r\n",
       "skinparam ranksep 10\r\n",
       "skinparam rectangle {\r\n",
       " backgroundColor<<block>> LightGreen\r\n",
       "}\r\n",
       "top to bottom direction\r\n",
       "skinparam monochrome true\r\n",
       "skinparam classbackgroundcolor white\r\n",
       "skinparam shadowing false\r\n",
       "skinparam wrapWidth 300\r\n",
       "hide circle\r\n",
       "\r\n",
       "package \"ParameterTest\" as E1  [[psysml:86781c8e-3979-42bc-84a0-50d047026621 ]]  {\r\n",
       "def \"A\" as E2  <<(T,blue) attribute  def>> [[psysml:2ec9bc29-3801-4d04-bd01-a8a7cc509576 ]] \r\n",
       "comp usage \"a: A \" as E3  <<(T,blue) attribute>> [[psysml:904ee486-6b36-4246-8723-5e3acfd2e245 ]] {\r\n",
       "}\r\n",
       "rec def \"F\" as E4  <<(T,blue) calculation  def>> [[psysml:824349d9-f3af-4f57-b650-7b4ce1821d09 ]] {\r\n",
       "portin \"p\" as E5  [[psysml:1d7d0081-d3e1-46bd-ad63-b0e63267b1e5 ]] \r\n",
       "portin \"q\" as E6  [[psysml:21dced71-d174-49eb-b20b-d0423025e0cf ]] \r\n",
       "portout \"result\" as E7  [[psysml:89ad9a9d-29f0-45e8-8d07-ebce693a6326 ]] \r\n",
       "}\r\n",
       "\r\n",
       "comp usage \"f \" as E8  <<(T,blue) attribute>> [[psysml:8204b4e2-616f-4bbc-afa4-9ecd277b5579 ]] {\r\n",
       "}\r\n",
       "comp usage \"g \" as E9  <<(T,blue) attribute>> [[psysml:86e22d1e-a4d5-4fc2-80cd-01d3f8e601c3 ]] {\r\n",
       "}\r\n",
       "comp usage \"b \" as E10  <<(T,blue) attribute>> [[psysml:5bd4ed77-91ea-4eb7-bbff-8ef8917960b7 ]] {\r\n",
       "}\r\n",
       "comp usage \"c \" as E11  <<(T,blue) attribute>> [[psysml:88436cf5-d13a-4d80-b468-40a83b162e0f ]] {\r\n",
       "}\r\n",
       "}\r\n",
       "E3 - -:|> E2 [[psysml:b5c275d4-de01-4c83-8a05-69f2b086225e ]] \r\n",
       "@enduml\r\n",
       "\n",
       "PlantUML version 1.2020.13(Sat Jun 13 12:26:38 UTC 2020)\n",
       "(EPL source distribution)\n",
       "Java Runtime: OpenJDK Runtime Environment\n",
       "JVM: OpenJDK 64-Bit Server VM\n",
       "Default Encoding: UTF-8\n",
       "Language: en\n",
       "Country: null\n",
       "--></g></svg>"
      ]
     },
     "execution_count": 47,
     "metadata": {},
     "output_type": "execute_result"
    }
   ],
   "source": [
    "%viz --style=\"TB\" --view=\"Interconnection\" \"ParameterTest\""
   ]
  },
  {
   "cell_type": "code",
   "execution_count": 48,
   "id": "3d718098",
   "metadata": {
    "execution": {
     "iopub.execute_input": "2022-03-03T09:56:17.913591Z",
     "iopub.status.busy": "2022-03-03T09:56:17.913179Z",
     "iopub.status.idle": "2022-03-03T09:56:17.935867Z",
     "shell.execute_reply": "2022-03-03T09:56:17.935497Z"
    }
   },
   "outputs": [
    {
     "data": {
      "image/svg+xml": [
       "<?xml version=\"1.0\" encoding=\"UTF-8\" standalone=\"no\"?><svg xmlns=\"http://www.w3.org/2000/svg\" xmlns:xlink=\"http://www.w3.org/1999/xlink\" contentScriptType=\"application/ecmascript\" contentStyleType=\"text/css\" height=\"162px\" preserveAspectRatio=\"none\" style=\"width:168px;height:162px;\" version=\"1.1\" viewBox=\"0 0 168 162\" width=\"168px\" zoomAndPan=\"magnify\"><defs/><g><!--MD5=[fbc87193dbaf4d95561dea2c320d4a47]\n",
       "cluster E1--><a href=\"psysml:824349d9-f3af-4f57-b650-7b4ce1821d09\" target=\"_top\" title=\"psysml:824349d9-f3af-4f57-b650-7b4ce1821d09\" xlink:actuate=\"onRequest\" xlink:href=\"psysml:824349d9-f3af-4f57-b650-7b4ce1821d09\" xlink:show=\"new\" xlink:title=\"psysml:824349d9-f3af-4f57-b650-7b4ce1821d09\" xlink:type=\"simple\"><rect fill=\"#FFFFFF\" height=\"87.72\" id=\"E1\" style=\"stroke: #383838; stroke-width: 1.5;\" width=\"150\" x=\"7\" y=\"42.0986\"/><rect fill=\"#F8F8F8\" height=\"37.9375\" style=\"stroke: #383838; stroke-width: 1.5;\" width=\"150\" x=\"7\" y=\"42.0986\"/><text fill=\"#000000\" font-family=\"sans-serif\" font-size=\"12\" font-style=\"italic\" lengthAdjust=\"spacingAndGlyphs\" textLength=\"110\" x=\"27\" y=\"58.2373\">«calculation  def»</text><text fill=\"#000000\" font-family=\"sans-serif\" font-size=\"12\" lengthAdjust=\"spacingAndGlyphs\" textLength=\"7\" x=\"78.5\" y=\"72.2061\">F</text></a><text fill=\"#000000\" font-family=\"sans-serif\" font-size=\"14\" lengthAdjust=\"spacingAndGlyphs\" textLength=\"9\" x=\"20.5\" y=\"20.7969\">p</text><rect fill=\"#383838\" height=\"12\" style=\"stroke: #F8F8F8; stroke-width: 1.5;\" width=\"12\" x=\"19\" y=\"36.0986\"/><text fill=\"#000000\" font-family=\"sans-serif\" font-size=\"14\" lengthAdjust=\"spacingAndGlyphs\" textLength=\"9\" x=\"67.5\" y=\"20.7969\">q</text><rect fill=\"#383838\" height=\"12\" style=\"stroke: #F8F8F8; stroke-width: 1.5;\" width=\"12\" x=\"66\" y=\"36.0986\"/><text fill=\"#000000\" font-family=\"sans-serif\" font-size=\"14\" lengthAdjust=\"spacingAndGlyphs\" textLength=\"39\" x=\"52.5\" y=\"148.8138\">result</text><rect fill=\"#383838\" height=\"12\" style=\"stroke: #F8F8F8; stroke-width: 1.5;\" width=\"12\" x=\"66\" y=\"123.8186\"/><!--MD5=[6523f7c1a9c46cdf411b7e59b7cec350]\n",
       "@startuml\r\n",
       "skinparam ranksep 8\r\n",
       "top to bottom direction\r\n",
       "skinparam monochrome true\r\n",
       "skinparam classbackgroundcolor white\r\n",
       "skinparam shadowing false\r\n",
       "skinparam wrapWidth 300\r\n",
       "hide circle\r\n",
       "\r\n",
       "rec def \"F\" as E1  <<(T,blue) calculation  def>> [[psysml:824349d9-f3af-4f57-b650-7b4ce1821d09 ]] {\r\n",
       "portin \"p\" as E2  [[psysml:1d7d0081-d3e1-46bd-ad63-b0e63267b1e5 ]] \r\n",
       "portin \"q\" as E3  [[psysml:21dced71-d174-49eb-b20b-d0423025e0cf ]] \r\n",
       "portout \"result\" as E4  [[psysml:89ad9a9d-29f0-45e8-8d07-ebce693a6326 ]] \r\n",
       "}\r\n",
       "\r\n",
       "@enduml\r\n",
       "\n",
       "PlantUML version 1.2020.13(Sat Jun 13 12:26:38 UTC 2020)\n",
       "(EPL source distribution)\n",
       "Java Runtime: OpenJDK Runtime Environment\n",
       "JVM: OpenJDK 64-Bit Server VM\n",
       "Default Encoding: UTF-8\n",
       "Language: en\n",
       "Country: null\n",
       "--></g></svg>"
      ]
     },
     "execution_count": 48,
     "metadata": {},
     "output_type": "execute_result"
    }
   ],
   "source": [
    "%viz --style=\"TB\" --view=\"Action\" \"ParameterTest\""
   ]
  },
  {
   "cell_type": "code",
   "execution_count": 49,
   "id": "72074d87",
   "metadata": {
    "execution": {
     "iopub.execute_input": "2022-03-03T09:56:17.985584Z",
     "iopub.status.busy": "2022-03-03T09:56:17.985180Z",
     "iopub.status.idle": "2022-03-03T09:56:17.990340Z",
     "shell.execute_reply": "2022-03-03T09:56:17.989981Z"
    }
   },
   "outputs": [
    {
     "data": {
      "image/svg+xml": [
       "<?xml version=\"1.0\" encoding=\"UTF-8\" standalone=\"no\"?><svg xmlns=\"http://www.w3.org/2000/svg\" xmlns:xlink=\"http://www.w3.org/1999/xlink\" contentScriptType=\"application/ecmascript\" contentStyleType=\"text/css\" height=\"12px\" preserveAspectRatio=\"none\" style=\"width:12px;height:12px;\" version=\"1.1\" viewBox=\"0 0 12 12\" width=\"12px\" zoomAndPan=\"magnify\"><defs/><g><!--MD5=[e1ab0c84c44d2fef8bf5f140f2689906]\n",
       "@startuml\r\n",
       "skinparam roundcorner 20\r\n",
       "skinparam BoxPadding 20\r\n",
       "skinparam SequenceBoxBackgroundColor #white\r\n",
       "skinparam style strictuml\r\n",
       "skinparam maxMessageSize 100\r\n",
       "top to bottom direction\r\n",
       "skinparam monochrome true\r\n",
       "skinparam classbackgroundcolor white\r\n",
       "skinparam shadowing false\r\n",
       "skinparam wrapWidth 300\r\n",
       "hide circle\r\n",
       "\r\n",
       "@enduml\r\n",
       "\n",
       "PlantUML version 1.2020.13(Sat Jun 13 12:26:38 UTC 2020)\n",
       "(EPL source distribution)\n",
       "Java Runtime: OpenJDK Runtime Environment\n",
       "JVM: OpenJDK 64-Bit Server VM\n",
       "Default Encoding: UTF-8\n",
       "Language: en\n",
       "Country: null\n",
       "--></g></svg>"
      ]
     },
     "execution_count": 49,
     "metadata": {},
     "output_type": "execute_result"
    }
   ],
   "source": [
    "%viz --style=\"TB\" --view=\"Sequence\" \"ParameterTest\""
   ]
  },
  {
   "cell_type": "code",
   "execution_count": 50,
   "id": "ef23758c",
   "metadata": {
    "execution": {
     "iopub.execute_input": "2022-03-03T09:56:18.040350Z",
     "iopub.status.busy": "2022-03-03T09:56:18.039950Z",
     "iopub.status.idle": "2022-03-03T09:56:18.092510Z",
     "shell.execute_reply": "2022-03-03T09:56:18.091151Z"
    }
   },
   "outputs": [
    {
     "data": {
      "image/svg+xml": [
       "<?xml version=\"1.0\" encoding=\"UTF-8\" standalone=\"no\"?><svg xmlns=\"http://www.w3.org/2000/svg\" xmlns:xlink=\"http://www.w3.org/1999/xlink\" contentScriptType=\"application/ecmascript\" contentStyleType=\"text/css\" height=\"403px\" preserveAspectRatio=\"none\" style=\"width:744px;height:403px;\" version=\"1.1\" viewBox=\"0 0 744 403\" width=\"744px\" zoomAndPan=\"magnify\"><defs/><g><!--MD5=[fbc87193dbaf4d95561dea2c320d4a47]\n",
       "cluster E1--><a href=\"psysml:86781c8e-3979-42bc-84a0-50d047026621\" target=\"_top\" title=\"psysml:86781c8e-3979-42bc-84a0-50d047026621\" xlink:actuate=\"onRequest\" xlink:href=\"psysml:86781c8e-3979-42bc-84a0-50d047026621\" xlink:show=\"new\" xlink:title=\"psysml:86781c8e-3979-42bc-84a0-50d047026621\" xlink:type=\"simple\"><polygon fill=\"#FFFFFF\" points=\"16,6,124,6,131,28.2969,722,28.2969,722,391.72,16,391.72,16,6\" style=\"stroke: #000000; stroke-width: 1.5;\"/><line style=\"stroke: #000000; stroke-width: 1.5;\" x1=\"16\" x2=\"131\" y1=\"28.2969\" y2=\"28.2969\"/><text fill=\"#000000\" font-family=\"sans-serif\" font-size=\"14\" font-weight=\"bold\" lengthAdjust=\"spacingAndGlyphs\" textLength=\"102\" x=\"20\" y=\"20.9951\">ParameterTest</text></a><!--MD5=[f6df4d0ebaf0b5dfb2ced0ae5af7c670]\n",
       "cluster E4--><a href=\"psysml:824349d9-f3af-4f57-b650-7b4ce1821d09\" target=\"_top\" title=\"psysml:824349d9-f3af-4f57-b650-7b4ce1821d09\" xlink:actuate=\"onRequest\" xlink:href=\"psysml:824349d9-f3af-4f57-b650-7b4ce1821d09\" xlink:show=\"new\" xlink:title=\"psysml:824349d9-f3af-4f57-b650-7b4ce1821d09\" xlink:type=\"simple\"><rect fill=\"#FFFFFF\" height=\"297.72\" id=\"E4\" style=\"stroke: #383838; stroke-width: 1.5;\" width=\"150\" x=\"556\" y=\"64\"/><rect fill=\"#F8F8F8\" height=\"37.9375\" style=\"stroke: #383838; stroke-width: 1.5;\" width=\"150\" x=\"556\" y=\"64\"/><text fill=\"#000000\" font-family=\"sans-serif\" font-size=\"12\" font-style=\"italic\" lengthAdjust=\"spacingAndGlyphs\" textLength=\"110\" x=\"576\" y=\"80.1387\">«calculation  def»</text><text fill=\"#000000\" font-family=\"sans-serif\" font-size=\"12\" lengthAdjust=\"spacingAndGlyphs\" textLength=\"7\" x=\"627.5\" y=\"94.1074\">F</text></a><!--MD5=[b4997ac47864f28c2f74865a473b2911]\n",
       "class E2--><a href=\"psysml:2ec9bc29-3801-4d04-bd01-a8a7cc509576\" target=\"_top\" title=\"psysml:2ec9bc29-3801-4d04-bd01-a8a7cc509576\" xlink:actuate=\"onRequest\" xlink:href=\"psysml:2ec9bc29-3801-4d04-bd01-a8a7cc509576\" xlink:show=\"new\" xlink:title=\"psysml:2ec9bc29-3801-4d04-bd01-a8a7cc509576\" xlink:type=\"simple\"><rect fill=\"#FFFFFF\" height=\"88.3516\" id=\"E2\" style=\"stroke: #383838; stroke-width: 1.5;\" width=\"99\" x=\"418.5\" y=\"147\"/><text fill=\"#000000\" font-family=\"sans-serif\" font-size=\"12\" font-style=\"italic\" lengthAdjust=\"spacingAndGlyphs\" textLength=\"97\" x=\"419.5\" y=\"163.1387\">«attribute  def»</text><text fill=\"#000000\" font-family=\"sans-serif\" font-size=\"12\" lengthAdjust=\"spacingAndGlyphs\" textLength=\"8\" x=\"464\" y=\"177.1074\">A</text><line style=\"stroke: #383838; stroke-width: 1.5;\" x1=\"419.5\" x2=\"516.5\" y1=\"184.9375\" y2=\"184.9375\"/><text fill=\"#000000\" font-family=\"sans-serif\" font-size=\"11\" lengthAdjust=\"spacingAndGlyphs\" textLength=\"48\" x=\"424.5\" y=\"215.9526\">x: String</text><text fill=\"#000000\" font-family=\"sans-serif\" font-size=\"11\" lengthAdjust=\"spacingAndGlyphs\" textLength=\"21\" x=\"424.5\" y=\"228.7573\">y: A</text><line style=\"stroke: #383838; stroke-width: 1.0;\" x1=\"419.5\" x2=\"440.5\" y1=\"199.3398\" y2=\"199.3398\"/><text fill=\"#000000\" font-family=\"sans-serif\" font-size=\"11\" lengthAdjust=\"spacingAndGlyphs\" textLength=\"55\" x=\"440.5\" y=\"202.6479\">attributes</text><line style=\"stroke: #383838; stroke-width: 1.0;\" x1=\"495.5\" x2=\"516.5\" y1=\"199.3398\" y2=\"199.3398\"/></a><!--MD5=[09b614a08d8cba4a07c9adeb5e0fee81]\n",
       "class E3--><a href=\"psysml:904ee486-6b36-4246-8723-5e3acfd2e245\" target=\"_top\" title=\"psysml:904ee486-6b36-4246-8723-5e3acfd2e245\" xlink:actuate=\"onRequest\" xlink:href=\"psysml:904ee486-6b36-4246-8723-5e3acfd2e245\" xlink:show=\"new\" xlink:title=\"psysml:904ee486-6b36-4246-8723-5e3acfd2e245\" xlink:type=\"simple\"><rect fill=\"#FFFFFF\" height=\"45.9375\" id=\"E3\" rx=\"10\" ry=\"10\" style=\"stroke: #383838; stroke-width: 1.5;\" width=\"71\" x=\"456.5\" y=\"41\"/><text fill=\"#000000\" font-family=\"sans-serif\" font-size=\"12\" font-style=\"italic\" lengthAdjust=\"spacingAndGlyphs\" textLength=\"69\" x=\"457.5\" y=\"57.1387\">«attribute»</text><text fill=\"#000000\" font-family=\"sans-serif\" font-size=\"12\" lengthAdjust=\"spacingAndGlyphs\" textLength=\"24\" x=\"478\" y=\"71.1074\">a: A</text><line style=\"stroke: #383838; stroke-width: 1.5;\" x1=\"457.5\" x2=\"526.5\" y1=\"78.9375\" y2=\"78.9375\"/></a><!--MD5=[b9389687b975829384b498ac4b7476b2]\n",
       "class E8--><a href=\"psysml:8204b4e2-616f-4bbc-afa4-9ecd277b5579\" target=\"_top\" title=\"psysml:8204b4e2-616f-4bbc-afa4-9ecd277b5579\" xlink:actuate=\"onRequest\" xlink:href=\"psysml:8204b4e2-616f-4bbc-afa4-9ecd277b5579\" xlink:show=\"new\" xlink:title=\"psysml:8204b4e2-616f-4bbc-afa4-9ecd277b5579\" xlink:type=\"simple\"><rect fill=\"#FFFFFF\" height=\"45.9375\" id=\"E8\" rx=\"10\" ry=\"10\" style=\"stroke: #383838; stroke-width: 1.5;\" width=\"71\" x=\"350.5\" y=\"41\"/><text fill=\"#000000\" font-family=\"sans-serif\" font-size=\"12\" font-style=\"italic\" lengthAdjust=\"spacingAndGlyphs\" textLength=\"69\" x=\"351.5\" y=\"57.1387\">«attribute»</text><text fill=\"#000000\" font-family=\"sans-serif\" font-size=\"12\" lengthAdjust=\"spacingAndGlyphs\" textLength=\"4\" x=\"382\" y=\"71.1074\">f</text><line style=\"stroke: #383838; stroke-width: 1.5;\" x1=\"351.5\" x2=\"420.5\" y1=\"78.9375\" y2=\"78.9375\"/></a><!--MD5=[fd4143e9d270a159db93a4ea2a975926]\n",
       "class E9--><a href=\"psysml:86e22d1e-a4d5-4fc2-80cd-01d3f8e601c3\" target=\"_top\" title=\"psysml:86e22d1e-a4d5-4fc2-80cd-01d3f8e601c3\" xlink:actuate=\"onRequest\" xlink:href=\"psysml:86e22d1e-a4d5-4fc2-80cd-01d3f8e601c3\" xlink:show=\"new\" xlink:title=\"psysml:86e22d1e-a4d5-4fc2-80cd-01d3f8e601c3\" xlink:type=\"simple\"><rect fill=\"#FFFFFF\" height=\"45.9375\" id=\"E9\" rx=\"10\" ry=\"10\" style=\"stroke: #383838; stroke-width: 1.5;\" width=\"71\" x=\"244.5\" y=\"41\"/><text fill=\"#000000\" font-family=\"sans-serif\" font-size=\"12\" font-style=\"italic\" lengthAdjust=\"spacingAndGlyphs\" textLength=\"69\" x=\"245.5\" y=\"57.1387\">«attribute»</text><text fill=\"#000000\" font-family=\"sans-serif\" font-size=\"12\" lengthAdjust=\"spacingAndGlyphs\" textLength=\"8\" x=\"274\" y=\"71.1074\">g</text><line style=\"stroke: #383838; stroke-width: 1.5;\" x1=\"245.5\" x2=\"314.5\" y1=\"78.9375\" y2=\"78.9375\"/></a><!--MD5=[96f4274e9e20536e775497830990834d]\n",
       "class E10--><a href=\"psysml:5bd4ed77-91ea-4eb7-bbff-8ef8917960b7\" target=\"_top\" title=\"psysml:5bd4ed77-91ea-4eb7-bbff-8ef8917960b7\" xlink:actuate=\"onRequest\" xlink:href=\"psysml:5bd4ed77-91ea-4eb7-bbff-8ef8917960b7\" xlink:show=\"new\" xlink:title=\"psysml:5bd4ed77-91ea-4eb7-bbff-8ef8917960b7\" xlink:type=\"simple\"><rect fill=\"#FFFFFF\" height=\"45.9375\" id=\"E10\" rx=\"10\" ry=\"10\" style=\"stroke: #383838; stroke-width: 1.5;\" width=\"71\" x=\"138.5\" y=\"41\"/><text fill=\"#000000\" font-family=\"sans-serif\" font-size=\"12\" font-style=\"italic\" lengthAdjust=\"spacingAndGlyphs\" textLength=\"69\" x=\"139.5\" y=\"57.1387\">«attribute»</text><text fill=\"#000000\" font-family=\"sans-serif\" font-size=\"12\" lengthAdjust=\"spacingAndGlyphs\" textLength=\"8\" x=\"168\" y=\"71.1074\">b</text><line style=\"stroke: #383838; stroke-width: 1.5;\" x1=\"139.5\" x2=\"208.5\" y1=\"78.9375\" y2=\"78.9375\"/></a><!--MD5=[1dd1bfd58a279cf63c5f349dbc8fc6a1]\n",
       "class E11--><a href=\"psysml:88436cf5-d13a-4d80-b468-40a83b162e0f\" target=\"_top\" title=\"psysml:88436cf5-d13a-4d80-b468-40a83b162e0f\" xlink:actuate=\"onRequest\" xlink:href=\"psysml:88436cf5-d13a-4d80-b468-40a83b162e0f\" xlink:show=\"new\" xlink:title=\"psysml:88436cf5-d13a-4d80-b468-40a83b162e0f\" xlink:type=\"simple\"><rect fill=\"#FFFFFF\" height=\"45.9375\" id=\"E11\" rx=\"10\" ry=\"10\" style=\"stroke: #383838; stroke-width: 1.5;\" width=\"71\" x=\"32.5\" y=\"41\"/><text fill=\"#000000\" font-family=\"sans-serif\" font-size=\"12\" font-style=\"italic\" lengthAdjust=\"spacingAndGlyphs\" textLength=\"69\" x=\"33.5\" y=\"57.1387\">«attribute»</text><text fill=\"#000000\" font-family=\"sans-serif\" font-size=\"12\" lengthAdjust=\"spacingAndGlyphs\" textLength=\"7\" x=\"62.5\" y=\"71.1074\">c</text><line style=\"stroke: #383838; stroke-width: 1.5;\" x1=\"33.5\" x2=\"102.5\" y1=\"78.9375\" y2=\"78.9375\"/></a><text fill=\"#000000\" font-family=\"sans-serif\" font-size=\"14\" lengthAdjust=\"spacingAndGlyphs\" textLength=\"9\" x=\"569.5\" y=\"42.6982\">p</text><rect fill=\"#383838\" height=\"12\" style=\"stroke: #F8F8F8; stroke-width: 1.5;\" width=\"12\" x=\"568\" y=\"58\"/><text fill=\"#000000\" font-family=\"sans-serif\" font-size=\"14\" lengthAdjust=\"spacingAndGlyphs\" textLength=\"9\" x=\"616.5\" y=\"42.6982\">q</text><rect fill=\"#383838\" height=\"12\" style=\"stroke: #F8F8F8; stroke-width: 1.5;\" width=\"12\" x=\"615\" y=\"58\"/><text fill=\"#000000\" font-family=\"sans-serif\" font-size=\"14\" lengthAdjust=\"spacingAndGlyphs\" textLength=\"39\" x=\"601.5\" y=\"380.7151\">result</text><rect fill=\"#383838\" height=\"12\" style=\"stroke: #F8F8F8; stroke-width: 1.5;\" width=\"12\" x=\"615\" y=\"355.72\"/><!--MD5=[05d275557350bfb9b23a4ef7222b4c39]\n",
       "link E3 to E2--><a href=\"psysml:b5c275d4-de01-4c83-8a05-69f2b086225e\" target=\"_top\" title=\"psysml:b5c275d4-de01-4c83-8a05-69f2b086225e\" xlink:actuate=\"onRequest\" xlink:href=\"psysml:b5c275d4-de01-4c83-8a05-69f2b086225e\" xlink:show=\"new\" xlink:title=\"psysml:b5c275d4-de01-4c83-8a05-69f2b086225e\" xlink:type=\"simple\"><path d=\"M487.76,87.06 C485.61,98.3 482.86,112.6 480.11,126.95 \" fill=\"none\" id=\"E3-&gt;E2\" style=\"stroke: #383838; stroke-width: 1.0;\"/><polygon fill=\"#FFFFFF\" points=\"476.27,146.93,472.9781,126.9509,486.727,129.5907,476.27,146.93\" style=\"stroke: #383838; stroke-width: 1.0;\"/><ellipse cx=\"476.017\" cy=\"121.7303\" fill=\"#383838\" rx=\"2\" ry=\"2\" style=\"stroke: #383838; stroke-width: 1.0;\"/><ellipse cx=\"485.8376\" cy=\"123.6158\" fill=\"#383838\" rx=\"2\" ry=\"2\" style=\"stroke: #383838; stroke-width: 1.0;\"/></a><!--MD5=[bba76d01ce2bc411fbc458aff77cd755]\n",
       "@startuml\r\n",
       "top to bottom direction\r\n",
       "skinparam monochrome true\r\n",
       "skinparam classbackgroundcolor white\r\n",
       "skinparam shadowing false\r\n",
       "skinparam wrapWidth 300\r\n",
       "hide circle\r\n",
       "\r\n",
       "package \"ParameterTest\" as E1  [[psysml:86781c8e-3979-42bc-84a0-50d047026621 ]]  {\r\n",
       "comp def \"A\" as E2  <<(T,blue) attribute  def>> [[psysml:2ec9bc29-3801-4d04-bd01-a8a7cc509576 ]] {\r\n",
       "- - attributes - -\r\n",
       "x: String\r\n",
       "y: A\r\n",
       "}\r\n",
       "comp usage \"a: A \" as E3  <<(T,blue) attribute>> [[psysml:904ee486-6b36-4246-8723-5e3acfd2e245 ]] {\r\n",
       "}\r\n",
       "rec def \"F\" as E4  <<(T,blue) calculation  def>> [[psysml:824349d9-f3af-4f57-b650-7b4ce1821d09 ]] {\r\n",
       "portin \"p\" as E5  [[psysml:1d7d0081-d3e1-46bd-ad63-b0e63267b1e5 ]] \r\n",
       "portin \"q\" as E6  [[psysml:21dced71-d174-49eb-b20b-d0423025e0cf ]] \r\n",
       "portout \"result\" as E7  [[psysml:89ad9a9d-29f0-45e8-8d07-ebce693a6326 ]] \r\n",
       "}\r\n",
       "\r\n",
       "comp usage \"f \" as E8  <<(T,blue) attribute>> [[psysml:8204b4e2-616f-4bbc-afa4-9ecd277b5579 ]] {\r\n",
       "}\r\n",
       "comp usage \"g \" as E9  <<(T,blue) attribute>> [[psysml:86e22d1e-a4d5-4fc2-80cd-01d3f8e601c3 ]] {\r\n",
       "}\r\n",
       "comp usage \"b \" as E10  <<(T,blue) attribute>> [[psysml:5bd4ed77-91ea-4eb7-bbff-8ef8917960b7 ]] {\r\n",
       "}\r\n",
       "comp usage \"c \" as E11  <<(T,blue) attribute>> [[psysml:88436cf5-d13a-4d80-b468-40a83b162e0f ]] {\r\n",
       "}\r\n",
       "}\r\n",
       "E3 - -:|> E2 [[psysml:b5c275d4-de01-4c83-8a05-69f2b086225e ]] \r\n",
       "@enduml\r\n",
       "\n",
       "PlantUML version 1.2020.13(Sat Jun 13 12:26:38 UTC 2020)\n",
       "(EPL source distribution)\n",
       "Java Runtime: OpenJDK Runtime Environment\n",
       "JVM: OpenJDK 64-Bit Server VM\n",
       "Default Encoding: UTF-8\n",
       "Language: en\n",
       "Country: null\n",
       "--></g></svg>"
      ]
     },
     "execution_count": 50,
     "metadata": {},
     "output_type": "execute_result"
    }
   ],
   "source": [
    "%viz --style=\"TB\" --view=\"MIXED\" \"ParameterTest\""
   ]
  },
  {
   "cell_type": "code",
   "execution_count": 51,
   "id": "808dc90d",
   "metadata": {
    "execution": {
     "iopub.execute_input": "2022-03-03T09:56:18.141790Z",
     "iopub.status.busy": "2022-03-03T09:56:18.141390Z",
     "iopub.status.idle": "2022-03-03T09:56:18.194274Z",
     "shell.execute_reply": "2022-03-03T09:56:18.193892Z"
    }
   },
   "outputs": [
    {
     "data": {
      "image/svg+xml": [
       "<?xml version=\"1.0\" encoding=\"UTF-8\" standalone=\"no\"?><svg xmlns=\"http://www.w3.org/2000/svg\" xmlns:xlink=\"http://www.w3.org/1999/xlink\" contentScriptType=\"application/ecmascript\" contentStyleType=\"text/css\" height=\"403px\" preserveAspectRatio=\"none\" style=\"width:744px;height:403px;\" version=\"1.1\" viewBox=\"0 0 744 403\" width=\"744px\" zoomAndPan=\"magnify\"><defs/><g><!--MD5=[fbc87193dbaf4d95561dea2c320d4a47]\n",
       "cluster E1--><a href=\"psysml:86781c8e-3979-42bc-84a0-50d047026621\" target=\"_top\" title=\"psysml:86781c8e-3979-42bc-84a0-50d047026621\" xlink:actuate=\"onRequest\" xlink:href=\"psysml:86781c8e-3979-42bc-84a0-50d047026621\" xlink:show=\"new\" xlink:title=\"psysml:86781c8e-3979-42bc-84a0-50d047026621\" xlink:type=\"simple\"><polygon fill=\"#FFFFFF\" points=\"16,6,124,6,131,28.2969,722,28.2969,722,391.72,16,391.72,16,6\" style=\"stroke: #000000; stroke-width: 1.5;\"/><line style=\"stroke: #000000; stroke-width: 1.5;\" x1=\"16\" x2=\"131\" y1=\"28.2969\" y2=\"28.2969\"/><text fill=\"#000000\" font-family=\"sans-serif\" font-size=\"14\" font-weight=\"bold\" lengthAdjust=\"spacingAndGlyphs\" textLength=\"102\" x=\"20\" y=\"20.9951\">ParameterTest</text></a><!--MD5=[f6df4d0ebaf0b5dfb2ced0ae5af7c670]\n",
       "cluster E4--><a href=\"psysml:824349d9-f3af-4f57-b650-7b4ce1821d09\" target=\"_top\" title=\"psysml:824349d9-f3af-4f57-b650-7b4ce1821d09\" xlink:actuate=\"onRequest\" xlink:href=\"psysml:824349d9-f3af-4f57-b650-7b4ce1821d09\" xlink:show=\"new\" xlink:title=\"psysml:824349d9-f3af-4f57-b650-7b4ce1821d09\" xlink:type=\"simple\"><rect fill=\"#FFFFFF\" height=\"297.72\" id=\"E4\" style=\"stroke: #383838; stroke-width: 1.5;\" width=\"150\" x=\"556\" y=\"64\"/><rect fill=\"#F8F8F8\" height=\"37.9375\" style=\"stroke: #383838; stroke-width: 1.5;\" width=\"150\" x=\"556\" y=\"64\"/><text fill=\"#000000\" font-family=\"sans-serif\" font-size=\"12\" font-style=\"italic\" lengthAdjust=\"spacingAndGlyphs\" textLength=\"110\" x=\"576\" y=\"80.1387\">«calculation  def»</text><text fill=\"#000000\" font-family=\"sans-serif\" font-size=\"12\" lengthAdjust=\"spacingAndGlyphs\" textLength=\"7\" x=\"627.5\" y=\"94.1074\">F</text></a><!--MD5=[b4997ac47864f28c2f74865a473b2911]\n",
       "class E2--><a href=\"psysml:2ec9bc29-3801-4d04-bd01-a8a7cc509576\" target=\"_top\" title=\"psysml:2ec9bc29-3801-4d04-bd01-a8a7cc509576\" xlink:actuate=\"onRequest\" xlink:href=\"psysml:2ec9bc29-3801-4d04-bd01-a8a7cc509576\" xlink:show=\"new\" xlink:title=\"psysml:2ec9bc29-3801-4d04-bd01-a8a7cc509576\" xlink:type=\"simple\"><rect fill=\"#FFFFFF\" height=\"88.3516\" id=\"E2\" style=\"stroke: #383838; stroke-width: 1.5;\" width=\"99\" x=\"418.5\" y=\"147\"/><text fill=\"#000000\" font-family=\"sans-serif\" font-size=\"12\" font-style=\"italic\" lengthAdjust=\"spacingAndGlyphs\" textLength=\"97\" x=\"419.5\" y=\"163.1387\">«attribute  def»</text><text fill=\"#000000\" font-family=\"sans-serif\" font-size=\"12\" lengthAdjust=\"spacingAndGlyphs\" textLength=\"8\" x=\"464\" y=\"177.1074\">A</text><line style=\"stroke: #383838; stroke-width: 1.5;\" x1=\"419.5\" x2=\"516.5\" y1=\"184.9375\" y2=\"184.9375\"/><text fill=\"#000000\" font-family=\"sans-serif\" font-size=\"11\" lengthAdjust=\"spacingAndGlyphs\" textLength=\"48\" x=\"424.5\" y=\"215.9526\">x: String</text><text fill=\"#000000\" font-family=\"sans-serif\" font-size=\"11\" lengthAdjust=\"spacingAndGlyphs\" textLength=\"21\" x=\"424.5\" y=\"228.7573\">y: A</text><line style=\"stroke: #383838; stroke-width: 1.0;\" x1=\"419.5\" x2=\"440.5\" y1=\"199.3398\" y2=\"199.3398\"/><text fill=\"#000000\" font-family=\"sans-serif\" font-size=\"11\" lengthAdjust=\"spacingAndGlyphs\" textLength=\"55\" x=\"440.5\" y=\"202.6479\">attributes</text><line style=\"stroke: #383838; stroke-width: 1.0;\" x1=\"495.5\" x2=\"516.5\" y1=\"199.3398\" y2=\"199.3398\"/></a><!--MD5=[09b614a08d8cba4a07c9adeb5e0fee81]\n",
       "class E3--><a href=\"psysml:904ee486-6b36-4246-8723-5e3acfd2e245\" target=\"_top\" title=\"psysml:904ee486-6b36-4246-8723-5e3acfd2e245\" xlink:actuate=\"onRequest\" xlink:href=\"psysml:904ee486-6b36-4246-8723-5e3acfd2e245\" xlink:show=\"new\" xlink:title=\"psysml:904ee486-6b36-4246-8723-5e3acfd2e245\" xlink:type=\"simple\"><rect fill=\"#FFFFFF\" height=\"45.9375\" id=\"E3\" rx=\"10\" ry=\"10\" style=\"stroke: #383838; stroke-width: 1.5;\" width=\"71\" x=\"456.5\" y=\"41\"/><text fill=\"#000000\" font-family=\"sans-serif\" font-size=\"12\" font-style=\"italic\" lengthAdjust=\"spacingAndGlyphs\" textLength=\"69\" x=\"457.5\" y=\"57.1387\">«attribute»</text><text fill=\"#000000\" font-family=\"sans-serif\" font-size=\"12\" lengthAdjust=\"spacingAndGlyphs\" textLength=\"24\" x=\"478\" y=\"71.1074\">a: A</text><line style=\"stroke: #383838; stroke-width: 1.5;\" x1=\"457.5\" x2=\"526.5\" y1=\"78.9375\" y2=\"78.9375\"/></a><!--MD5=[b9389687b975829384b498ac4b7476b2]\n",
       "class E8--><a href=\"psysml:8204b4e2-616f-4bbc-afa4-9ecd277b5579\" target=\"_top\" title=\"psysml:8204b4e2-616f-4bbc-afa4-9ecd277b5579\" xlink:actuate=\"onRequest\" xlink:href=\"psysml:8204b4e2-616f-4bbc-afa4-9ecd277b5579\" xlink:show=\"new\" xlink:title=\"psysml:8204b4e2-616f-4bbc-afa4-9ecd277b5579\" xlink:type=\"simple\"><rect fill=\"#FFFFFF\" height=\"45.9375\" id=\"E8\" rx=\"10\" ry=\"10\" style=\"stroke: #383838; stroke-width: 1.5;\" width=\"71\" x=\"350.5\" y=\"41\"/><text fill=\"#000000\" font-family=\"sans-serif\" font-size=\"12\" font-style=\"italic\" lengthAdjust=\"spacingAndGlyphs\" textLength=\"69\" x=\"351.5\" y=\"57.1387\">«attribute»</text><text fill=\"#000000\" font-family=\"sans-serif\" font-size=\"12\" lengthAdjust=\"spacingAndGlyphs\" textLength=\"4\" x=\"382\" y=\"71.1074\">f</text><line style=\"stroke: #383838; stroke-width: 1.5;\" x1=\"351.5\" x2=\"420.5\" y1=\"78.9375\" y2=\"78.9375\"/></a><!--MD5=[fd4143e9d270a159db93a4ea2a975926]\n",
       "class E9--><a href=\"psysml:86e22d1e-a4d5-4fc2-80cd-01d3f8e601c3\" target=\"_top\" title=\"psysml:86e22d1e-a4d5-4fc2-80cd-01d3f8e601c3\" xlink:actuate=\"onRequest\" xlink:href=\"psysml:86e22d1e-a4d5-4fc2-80cd-01d3f8e601c3\" xlink:show=\"new\" xlink:title=\"psysml:86e22d1e-a4d5-4fc2-80cd-01d3f8e601c3\" xlink:type=\"simple\"><rect fill=\"#FFFFFF\" height=\"45.9375\" id=\"E9\" rx=\"10\" ry=\"10\" style=\"stroke: #383838; stroke-width: 1.5;\" width=\"71\" x=\"244.5\" y=\"41\"/><text fill=\"#000000\" font-family=\"sans-serif\" font-size=\"12\" font-style=\"italic\" lengthAdjust=\"spacingAndGlyphs\" textLength=\"69\" x=\"245.5\" y=\"57.1387\">«attribute»</text><text fill=\"#000000\" font-family=\"sans-serif\" font-size=\"12\" lengthAdjust=\"spacingAndGlyphs\" textLength=\"8\" x=\"274\" y=\"71.1074\">g</text><line style=\"stroke: #383838; stroke-width: 1.5;\" x1=\"245.5\" x2=\"314.5\" y1=\"78.9375\" y2=\"78.9375\"/></a><!--MD5=[96f4274e9e20536e775497830990834d]\n",
       "class E10--><a href=\"psysml:5bd4ed77-91ea-4eb7-bbff-8ef8917960b7\" target=\"_top\" title=\"psysml:5bd4ed77-91ea-4eb7-bbff-8ef8917960b7\" xlink:actuate=\"onRequest\" xlink:href=\"psysml:5bd4ed77-91ea-4eb7-bbff-8ef8917960b7\" xlink:show=\"new\" xlink:title=\"psysml:5bd4ed77-91ea-4eb7-bbff-8ef8917960b7\" xlink:type=\"simple\"><rect fill=\"#FFFFFF\" height=\"45.9375\" id=\"E10\" rx=\"10\" ry=\"10\" style=\"stroke: #383838; stroke-width: 1.5;\" width=\"71\" x=\"138.5\" y=\"41\"/><text fill=\"#000000\" font-family=\"sans-serif\" font-size=\"12\" font-style=\"italic\" lengthAdjust=\"spacingAndGlyphs\" textLength=\"69\" x=\"139.5\" y=\"57.1387\">«attribute»</text><text fill=\"#000000\" font-family=\"sans-serif\" font-size=\"12\" lengthAdjust=\"spacingAndGlyphs\" textLength=\"8\" x=\"168\" y=\"71.1074\">b</text><line style=\"stroke: #383838; stroke-width: 1.5;\" x1=\"139.5\" x2=\"208.5\" y1=\"78.9375\" y2=\"78.9375\"/></a><!--MD5=[1dd1bfd58a279cf63c5f349dbc8fc6a1]\n",
       "class E11--><a href=\"psysml:88436cf5-d13a-4d80-b468-40a83b162e0f\" target=\"_top\" title=\"psysml:88436cf5-d13a-4d80-b468-40a83b162e0f\" xlink:actuate=\"onRequest\" xlink:href=\"psysml:88436cf5-d13a-4d80-b468-40a83b162e0f\" xlink:show=\"new\" xlink:title=\"psysml:88436cf5-d13a-4d80-b468-40a83b162e0f\" xlink:type=\"simple\"><rect fill=\"#FFFFFF\" height=\"45.9375\" id=\"E11\" rx=\"10\" ry=\"10\" style=\"stroke: #383838; stroke-width: 1.5;\" width=\"71\" x=\"32.5\" y=\"41\"/><text fill=\"#000000\" font-family=\"sans-serif\" font-size=\"12\" font-style=\"italic\" lengthAdjust=\"spacingAndGlyphs\" textLength=\"69\" x=\"33.5\" y=\"57.1387\">«attribute»</text><text fill=\"#000000\" font-family=\"sans-serif\" font-size=\"12\" lengthAdjust=\"spacingAndGlyphs\" textLength=\"7\" x=\"62.5\" y=\"71.1074\">c</text><line style=\"stroke: #383838; stroke-width: 1.5;\" x1=\"33.5\" x2=\"102.5\" y1=\"78.9375\" y2=\"78.9375\"/></a><text fill=\"#000000\" font-family=\"sans-serif\" font-size=\"14\" lengthAdjust=\"spacingAndGlyphs\" textLength=\"9\" x=\"569.5\" y=\"42.6982\">p</text><rect fill=\"#383838\" height=\"12\" style=\"stroke: #F8F8F8; stroke-width: 1.5;\" width=\"12\" x=\"568\" y=\"58\"/><text fill=\"#000000\" font-family=\"sans-serif\" font-size=\"14\" lengthAdjust=\"spacingAndGlyphs\" textLength=\"9\" x=\"616.5\" y=\"42.6982\">q</text><rect fill=\"#383838\" height=\"12\" style=\"stroke: #F8F8F8; stroke-width: 1.5;\" width=\"12\" x=\"615\" y=\"58\"/><text fill=\"#000000\" font-family=\"sans-serif\" font-size=\"14\" lengthAdjust=\"spacingAndGlyphs\" textLength=\"39\" x=\"601.5\" y=\"380.7151\">result</text><rect fill=\"#383838\" height=\"12\" style=\"stroke: #F8F8F8; stroke-width: 1.5;\" width=\"12\" x=\"615\" y=\"355.72\"/><!--MD5=[05d275557350bfb9b23a4ef7222b4c39]\n",
       "link E3 to E2--><a href=\"psysml:b5c275d4-de01-4c83-8a05-69f2b086225e\" target=\"_top\" title=\"psysml:b5c275d4-de01-4c83-8a05-69f2b086225e\" xlink:actuate=\"onRequest\" xlink:href=\"psysml:b5c275d4-de01-4c83-8a05-69f2b086225e\" xlink:show=\"new\" xlink:title=\"psysml:b5c275d4-de01-4c83-8a05-69f2b086225e\" xlink:type=\"simple\"><path d=\"M487,87.29 C487,87.29 487,126.78 487,126.78 \" fill=\"none\" id=\"E3-&gt;E2\" style=\"stroke: #383838; stroke-width: 1.0;\"/><polygon fill=\"#FFFFFF\" points=\"487,146.78,480,127.78,494,127.78,487,146.78\" style=\"stroke: #383838; stroke-width: 1.0;\"/><ellipse cx=\"482\" cy=\"122.08\" fill=\"#383838\" rx=\"2\" ry=\"2\" style=\"stroke: #383838; stroke-width: 1.0;\"/><ellipse cx=\"492\" cy=\"122.08\" fill=\"#383838\" rx=\"2\" ry=\"2\" style=\"stroke: #383838; stroke-width: 1.0;\"/></a><!--MD5=[4b44d66a7fe672f0fe7f51f655161a38]\n",
       "@startuml\r\n",
       "skinparam linetype ortho\r\n",
       "skinparam monochrome true\r\n",
       "skinparam classbackgroundcolor white\r\n",
       "skinparam shadowing false\r\n",
       "skinparam wrapWidth 300\r\n",
       "hide circle\r\n",
       "\r\n",
       "package \"ParameterTest\" as E1  [[psysml:86781c8e-3979-42bc-84a0-50d047026621 ]]  {\r\n",
       "comp def \"A\" as E2  <<(T,blue) attribute  def>> [[psysml:2ec9bc29-3801-4d04-bd01-a8a7cc509576 ]] {\r\n",
       "- - attributes - -\r\n",
       "x: String\r\n",
       "y: A\r\n",
       "}\r\n",
       "comp usage \"a: A \" as E3  <<(T,blue) attribute>> [[psysml:904ee486-6b36-4246-8723-5e3acfd2e245 ]] {\r\n",
       "}\r\n",
       "rec def \"F\" as E4  <<(T,blue) calculation  def>> [[psysml:824349d9-f3af-4f57-b650-7b4ce1821d09 ]] {\r\n",
       "portin \"p\" as E5  [[psysml:1d7d0081-d3e1-46bd-ad63-b0e63267b1e5 ]] \r\n",
       "portin \"q\" as E6  [[psysml:21dced71-d174-49eb-b20b-d0423025e0cf ]] \r\n",
       "portout \"result\" as E7  [[psysml:89ad9a9d-29f0-45e8-8d07-ebce693a6326 ]] \r\n",
       "}\r\n",
       "\r\n",
       "comp usage \"f \" as E8  <<(T,blue) attribute>> [[psysml:8204b4e2-616f-4bbc-afa4-9ecd277b5579 ]] {\r\n",
       "}\r\n",
       "comp usage \"g \" as E9  <<(T,blue) attribute>> [[psysml:86e22d1e-a4d5-4fc2-80cd-01d3f8e601c3 ]] {\r\n",
       "}\r\n",
       "comp usage \"b \" as E10  <<(T,blue) attribute>> [[psysml:5bd4ed77-91ea-4eb7-bbff-8ef8917960b7 ]] {\r\n",
       "}\r\n",
       "comp usage \"c \" as E11  <<(T,blue) attribute>> [[psysml:88436cf5-d13a-4d80-b468-40a83b162e0f ]] {\r\n",
       "}\r\n",
       "}\r\n",
       "E3 - -:|> E2 [[psysml:b5c275d4-de01-4c83-8a05-69f2b086225e ]] \r\n",
       "@enduml\r\n",
       "\n",
       "PlantUML version 1.2020.13(Sat Jun 13 12:26:38 UTC 2020)\n",
       "(EPL source distribution)\n",
       "Java Runtime: OpenJDK Runtime Environment\n",
       "JVM: OpenJDK 64-Bit Server VM\n",
       "Default Encoding: UTF-8\n",
       "Language: en\n",
       "Country: null\n",
       "--></g></svg>"
      ]
     },
     "execution_count": 51,
     "metadata": {},
     "output_type": "execute_result"
    }
   ],
   "source": [
    "%viz --style=\"ORTHOLINE\" --view=\"Default\" \"ParameterTest\""
   ]
  },
  {
   "cell_type": "code",
   "execution_count": 52,
   "id": "7cc8dc0e",
   "metadata": {
    "execution": {
     "iopub.execute_input": "2022-03-03T09:56:18.243642Z",
     "iopub.status.busy": "2022-03-03T09:56:18.243230Z",
     "iopub.status.idle": "2022-03-03T09:56:18.291759Z",
     "shell.execute_reply": "2022-03-03T09:56:18.291388Z"
    }
   },
   "outputs": [
    {
     "data": {
      "image/svg+xml": [
       "<?xml version=\"1.0\" encoding=\"UTF-8\" standalone=\"no\"?><svg xmlns=\"http://www.w3.org/2000/svg\" xmlns:xlink=\"http://www.w3.org/1999/xlink\" contentScriptType=\"application/ecmascript\" contentStyleType=\"text/css\" height=\"280px\" preserveAspectRatio=\"none\" style=\"width:714px;height:280px;\" version=\"1.1\" viewBox=\"0 0 714 280\" width=\"714px\" zoomAndPan=\"magnify\"><defs/><g><!--MD5=[fbc87193dbaf4d95561dea2c320d4a47]\n",
       "cluster E1--><a href=\"psysml:86781c8e-3979-42bc-84a0-50d047026621\" target=\"_top\" title=\"psysml:86781c8e-3979-42bc-84a0-50d047026621\" xlink:actuate=\"onRequest\" xlink:href=\"psysml:86781c8e-3979-42bc-84a0-50d047026621\" xlink:show=\"new\" xlink:title=\"psysml:86781c8e-3979-42bc-84a0-50d047026621\" xlink:type=\"simple\"><polygon fill=\"#FFFFFF\" points=\"16,6,124,6,131,28.2969,692,28.2969,692,268,16,268,16,6\" style=\"stroke: #000000; stroke-width: 1.5;\"/><line style=\"stroke: #000000; stroke-width: 1.5;\" x1=\"16\" x2=\"131\" y1=\"28.2969\" y2=\"28.2969\"/><text fill=\"#000000\" font-family=\"sans-serif\" font-size=\"14\" font-weight=\"bold\" lengthAdjust=\"spacingAndGlyphs\" textLength=\"102\" x=\"20\" y=\"20.9951\">ParameterTest</text></a><!--MD5=[b4997ac47864f28c2f74865a473b2911]\n",
       "class E2--><a href=\"psysml:2ec9bc29-3801-4d04-bd01-a8a7cc509576\" target=\"_top\" title=\"psysml:2ec9bc29-3801-4d04-bd01-a8a7cc509576\" xlink:actuate=\"onRequest\" xlink:href=\"psysml:2ec9bc29-3801-4d04-bd01-a8a7cc509576\" xlink:show=\"new\" xlink:title=\"psysml:2ec9bc29-3801-4d04-bd01-a8a7cc509576\" xlink:type=\"simple\"><rect fill=\"#FFFFFF\" height=\"88.3516\" id=\"E2\" style=\"stroke: #383838; stroke-width: 1.5;\" width=\"99\" x=\"499.5\" y=\"164\"/><text fill=\"#000000\" font-family=\"sans-serif\" font-size=\"12\" font-style=\"italic\" lengthAdjust=\"spacingAndGlyphs\" textLength=\"97\" x=\"500.5\" y=\"180.1387\">«attribute  def»</text><text fill=\"#000000\" font-family=\"sans-serif\" font-size=\"12\" lengthAdjust=\"spacingAndGlyphs\" textLength=\"8\" x=\"545\" y=\"194.1074\">A</text><line style=\"stroke: #383838; stroke-width: 1.5;\" x1=\"500.5\" x2=\"597.5\" y1=\"201.9375\" y2=\"201.9375\"/><text fill=\"#000000\" font-family=\"sans-serif\" font-size=\"11\" lengthAdjust=\"spacingAndGlyphs\" textLength=\"48\" x=\"505.5\" y=\"232.9526\">x: String</text><text fill=\"#000000\" font-family=\"sans-serif\" font-size=\"11\" lengthAdjust=\"spacingAndGlyphs\" textLength=\"21\" x=\"505.5\" y=\"245.7573\">y: A</text><line style=\"stroke: #383838; stroke-width: 1.0;\" x1=\"500.5\" x2=\"521.5\" y1=\"216.3398\" y2=\"216.3398\"/><text fill=\"#000000\" font-family=\"sans-serif\" font-size=\"11\" lengthAdjust=\"spacingAndGlyphs\" textLength=\"55\" x=\"521.5\" y=\"219.6479\">attributes</text><line style=\"stroke: #383838; stroke-width: 1.0;\" x1=\"576.5\" x2=\"597.5\" y1=\"216.3398\" y2=\"216.3398\"/></a><!--MD5=[09b614a08d8cba4a07c9adeb5e0fee81]\n",
       "class E3--><a href=\"psysml:904ee486-6b36-4246-8723-5e3acfd2e245\" target=\"_top\" title=\"psysml:904ee486-6b36-4246-8723-5e3acfd2e245\" xlink:actuate=\"onRequest\" xlink:href=\"psysml:904ee486-6b36-4246-8723-5e3acfd2e245\" xlink:show=\"new\" xlink:title=\"psysml:904ee486-6b36-4246-8723-5e3acfd2e245\" xlink:type=\"simple\"><rect fill=\"#FFFFFF\" height=\"45.9375\" id=\"E3\" rx=\"10\" ry=\"10\" style=\"stroke: #383838; stroke-width: 1.5;\" width=\"71\" x=\"604.5\" y=\"41\"/><text fill=\"#000000\" font-family=\"sans-serif\" font-size=\"12\" font-style=\"italic\" lengthAdjust=\"spacingAndGlyphs\" textLength=\"69\" x=\"605.5\" y=\"57.1387\">«attribute»</text><text fill=\"#000000\" font-family=\"sans-serif\" font-size=\"12\" lengthAdjust=\"spacingAndGlyphs\" textLength=\"24\" x=\"626\" y=\"71.1074\">a: A</text><line style=\"stroke: #383838; stroke-width: 1.5;\" x1=\"605.5\" x2=\"674.5\" y1=\"78.9375\" y2=\"78.9375\"/></a><!--MD5=[ebbe1d658d1005bcc118a6aa81145e00]\n",
       "class E4--><a href=\"psysml:824349d9-f3af-4f57-b650-7b4ce1821d09\" target=\"_top\" title=\"psysml:824349d9-f3af-4f57-b650-7b4ce1821d09\" xlink:actuate=\"onRequest\" xlink:href=\"psysml:824349d9-f3af-4f57-b650-7b4ce1821d09\" xlink:show=\"new\" xlink:title=\"psysml:824349d9-f3af-4f57-b650-7b4ce1821d09\" xlink:type=\"simple\"><rect fill=\"#FFFFFF\" height=\"45.9375\" id=\"E4\" style=\"stroke: #383838; stroke-width: 1.5;\" width=\"112\" x=\"457\" y=\"41\"/><text fill=\"#000000\" font-family=\"sans-serif\" font-size=\"12\" font-style=\"italic\" lengthAdjust=\"spacingAndGlyphs\" textLength=\"110\" x=\"458\" y=\"57.1387\">«calculation  def»</text><text fill=\"#000000\" font-family=\"sans-serif\" font-size=\"12\" lengthAdjust=\"spacingAndGlyphs\" textLength=\"7\" x=\"509.5\" y=\"71.1074\">F</text><line style=\"stroke: #383838; stroke-width: 1.5;\" x1=\"458\" x2=\"568\" y1=\"78.9375\" y2=\"78.9375\"/></a><!--MD5=[270fce915f116d4de14055a7c1d9a0f3]\n",
       "class E5--><a href=\"psysml:8204b4e2-616f-4bbc-afa4-9ecd277b5579\" target=\"_top\" title=\"psysml:8204b4e2-616f-4bbc-afa4-9ecd277b5579\" xlink:actuate=\"onRequest\" xlink:href=\"psysml:8204b4e2-616f-4bbc-afa4-9ecd277b5579\" xlink:show=\"new\" xlink:title=\"psysml:8204b4e2-616f-4bbc-afa4-9ecd277b5579\" xlink:type=\"simple\"><rect fill=\"#FFFFFF\" height=\"45.9375\" id=\"E5\" rx=\"10\" ry=\"10\" style=\"stroke: #383838; stroke-width: 1.5;\" width=\"71\" x=\"350.5\" y=\"41\"/><text fill=\"#000000\" font-family=\"sans-serif\" font-size=\"12\" font-style=\"italic\" lengthAdjust=\"spacingAndGlyphs\" textLength=\"69\" x=\"351.5\" y=\"57.1387\">«attribute»</text><text fill=\"#000000\" font-family=\"sans-serif\" font-size=\"12\" lengthAdjust=\"spacingAndGlyphs\" textLength=\"4\" x=\"382\" y=\"71.1074\">f</text><line style=\"stroke: #383838; stroke-width: 1.5;\" x1=\"351.5\" x2=\"420.5\" y1=\"78.9375\" y2=\"78.9375\"/></a><!--MD5=[60a26617385b1d2d0262a64233df1f8d]\n",
       "class E6--><a href=\"psysml:86e22d1e-a4d5-4fc2-80cd-01d3f8e601c3\" target=\"_top\" title=\"psysml:86e22d1e-a4d5-4fc2-80cd-01d3f8e601c3\" xlink:actuate=\"onRequest\" xlink:href=\"psysml:86e22d1e-a4d5-4fc2-80cd-01d3f8e601c3\" xlink:show=\"new\" xlink:title=\"psysml:86e22d1e-a4d5-4fc2-80cd-01d3f8e601c3\" xlink:type=\"simple\"><rect fill=\"#FFFFFF\" height=\"45.9375\" id=\"E6\" rx=\"10\" ry=\"10\" style=\"stroke: #383838; stroke-width: 1.5;\" width=\"71\" x=\"244.5\" y=\"41\"/><text fill=\"#000000\" font-family=\"sans-serif\" font-size=\"12\" font-style=\"italic\" lengthAdjust=\"spacingAndGlyphs\" textLength=\"69\" x=\"245.5\" y=\"57.1387\">«attribute»</text><text fill=\"#000000\" font-family=\"sans-serif\" font-size=\"12\" lengthAdjust=\"spacingAndGlyphs\" textLength=\"8\" x=\"274\" y=\"71.1074\">g</text><line style=\"stroke: #383838; stroke-width: 1.5;\" x1=\"245.5\" x2=\"314.5\" y1=\"78.9375\" y2=\"78.9375\"/></a><!--MD5=[2156ba9850f5573cc1fc38a6a4b2f02b]\n",
       "class E7--><a href=\"psysml:5bd4ed77-91ea-4eb7-bbff-8ef8917960b7\" target=\"_top\" title=\"psysml:5bd4ed77-91ea-4eb7-bbff-8ef8917960b7\" xlink:actuate=\"onRequest\" xlink:href=\"psysml:5bd4ed77-91ea-4eb7-bbff-8ef8917960b7\" xlink:show=\"new\" xlink:title=\"psysml:5bd4ed77-91ea-4eb7-bbff-8ef8917960b7\" xlink:type=\"simple\"><rect fill=\"#FFFFFF\" height=\"45.9375\" id=\"E7\" rx=\"10\" ry=\"10\" style=\"stroke: #383838; stroke-width: 1.5;\" width=\"71\" x=\"138.5\" y=\"41\"/><text fill=\"#000000\" font-family=\"sans-serif\" font-size=\"12\" font-style=\"italic\" lengthAdjust=\"spacingAndGlyphs\" textLength=\"69\" x=\"139.5\" y=\"57.1387\">«attribute»</text><text fill=\"#000000\" font-family=\"sans-serif\" font-size=\"12\" lengthAdjust=\"spacingAndGlyphs\" textLength=\"8\" x=\"168\" y=\"71.1074\">b</text><line style=\"stroke: #383838; stroke-width: 1.5;\" x1=\"139.5\" x2=\"208.5\" y1=\"78.9375\" y2=\"78.9375\"/></a><!--MD5=[b9389687b975829384b498ac4b7476b2]\n",
       "class E8--><a href=\"psysml:88436cf5-d13a-4d80-b468-40a83b162e0f\" target=\"_top\" title=\"psysml:88436cf5-d13a-4d80-b468-40a83b162e0f\" xlink:actuate=\"onRequest\" xlink:href=\"psysml:88436cf5-d13a-4d80-b468-40a83b162e0f\" xlink:show=\"new\" xlink:title=\"psysml:88436cf5-d13a-4d80-b468-40a83b162e0f\" xlink:type=\"simple\"><rect fill=\"#FFFFFF\" height=\"45.9375\" id=\"E8\" rx=\"10\" ry=\"10\" style=\"stroke: #383838; stroke-width: 1.5;\" width=\"71\" x=\"32.5\" y=\"41\"/><text fill=\"#000000\" font-family=\"sans-serif\" font-size=\"12\" font-style=\"italic\" lengthAdjust=\"spacingAndGlyphs\" textLength=\"69\" x=\"33.5\" y=\"57.1387\">«attribute»</text><text fill=\"#000000\" font-family=\"sans-serif\" font-size=\"12\" lengthAdjust=\"spacingAndGlyphs\" textLength=\"7\" x=\"62.5\" y=\"71.1074\">c</text><line style=\"stroke: #383838; stroke-width: 1.5;\" x1=\"33.5\" x2=\"102.5\" y1=\"78.9375\" y2=\"78.9375\"/></a><!--MD5=[05d275557350bfb9b23a4ef7222b4c39]\n",
       "link E3 to E2--><a href=\"psysml:b5c275d4-de01-4c83-8a05-69f2b086225e\" target=\"_top\" title=\"psysml:b5c275d4-de01-4c83-8a05-69f2b086225e\" xlink:actuate=\"onRequest\" xlink:href=\"psysml:b5c275d4-de01-4c83-8a05-69f2b086225e\" xlink:show=\"new\" xlink:title=\"psysml:b5c275d4-de01-4c83-8a05-69f2b086225e\" xlink:type=\"simple\"><path d=\"M604.38,64 C593.21,64 583.75,64 583.75,64 C583.75,64 583.75,143.62 583.75,143.62 \" fill=\"none\" id=\"E3-&gt;E2\" style=\"stroke: #383838; stroke-width: 1.0;\"/><polygon fill=\"#FFFFFF\" points=\"583.75,163.62,576.75,144.62,590.75,144.62,583.75,163.62\" style=\"stroke: #383838; stroke-width: 1.0;\"/><ellipse cx=\"578.75\" cy=\"138.92\" fill=\"#383838\" rx=\"2\" ry=\"2\" style=\"stroke: #383838; stroke-width: 1.0;\"/><ellipse cx=\"588.75\" cy=\"138.92\" fill=\"#383838\" rx=\"2\" ry=\"2\" style=\"stroke: #383838; stroke-width: 1.0;\"/></a><!--MD5=[ddeed8deb2209213b62e6cfabaa108b2]\n",
       "reverse link E4 to E2--><a href=\"psysml:1d7d0081-d3e1-46bd-ad63-b0e63267b1e5\" target=\"_top\" title=\"psysml:1d7d0081-d3e1-46bd-ad63-b0e63267b1e5\" xlink:actuate=\"onRequest\" xlink:href=\"psysml:1d7d0081-d3e1-46bd-ad63-b0e63267b1e5\" xlink:show=\"new\" xlink:title=\"psysml:1d7d0081-d3e1-46bd-ad63-b0e63267b1e5\" xlink:type=\"simple\"><path d=\"M534.25,100.14 C534.25,100.14 534.25,163.71 534.25,163.71 \" fill=\"none\" id=\"E4&lt;-E2\" style=\"stroke: #383838; stroke-width: 1.0;\"/><polygon fill=\"#FFFFFF\" points=\"534.25,87.14,530.25,93.14,534.25,99.14,538.25,93.14,534.25,87.14\" style=\"stroke: #383838; stroke-width: 1.0;\"/><text fill=\"#000000\" font-family=\"sans-serif\" font-size=\"13\" lengthAdjust=\"spacingAndGlyphs\" textLength=\"8\" x=\"542\" y=\"130.0669\">p</text></a><!--MD5=[3af2d0cee461c17e5ff1964c5b51a1af]\n",
       "@startuml\r\n",
       "skinparam linetype ortho\r\n",
       "skinparam monochrome true\r\n",
       "skinparam classbackgroundcolor white\r\n",
       "skinparam shadowing false\r\n",
       "skinparam wrapWidth 300\r\n",
       "hide circle\r\n",
       "\r\n",
       "package \"ParameterTest\" as E1  [[psysml:86781c8e-3979-42bc-84a0-50d047026621 ]]  {\r\n",
       "comp def \"A\" as E2  <<(T,blue) attribute  def>> [[psysml:2ec9bc29-3801-4d04-bd01-a8a7cc509576 ]] {\r\n",
       "- - attributes - -\r\n",
       "x: String\r\n",
       "y: A\r\n",
       "}\r\n",
       "comp usage \"a: A \" as E3  <<(T,blue) attribute>> [[psysml:904ee486-6b36-4246-8723-5e3acfd2e245 ]] {\r\n",
       "}\r\n",
       "comp def \"F\" as E4  <<(T,blue) calculation  def>> [[psysml:824349d9-f3af-4f57-b650-7b4ce1821d09 ]] {\r\n",
       "}\r\n",
       "comp usage \"f \" as E5  <<(T,blue) attribute>> [[psysml:8204b4e2-616f-4bbc-afa4-9ecd277b5579 ]] {\r\n",
       "}\r\n",
       "comp usage \"g \" as E6  <<(T,blue) attribute>> [[psysml:86e22d1e-a4d5-4fc2-80cd-01d3f8e601c3 ]] {\r\n",
       "}\r\n",
       "comp usage \"b \" as E7  <<(T,blue) attribute>> [[psysml:5bd4ed77-91ea-4eb7-bbff-8ef8917960b7 ]] {\r\n",
       "}\r\n",
       "comp usage \"c \" as E8  <<(T,blue) attribute>> [[psysml:88436cf5-d13a-4d80-b468-40a83b162e0f ]] {\r\n",
       "}\r\n",
       "}\r\n",
       "E3 - -:|> E2 [[psysml:b5c275d4-de01-4c83-8a05-69f2b086225e ]] \r\n",
       "E4 o- - E2 [[psysml:1d7d0081-d3e1-46bd-ad63-b0e63267b1e5 ]] : p\r\n",
       "@enduml\r\n",
       "\n",
       "PlantUML version 1.2020.13(Sat Jun 13 12:26:38 UTC 2020)\n",
       "(EPL source distribution)\n",
       "Java Runtime: OpenJDK Runtime Environment\n",
       "JVM: OpenJDK 64-Bit Server VM\n",
       "Default Encoding: UTF-8\n",
       "Language: en\n",
       "Country: null\n",
       "--></g></svg>"
      ]
     },
     "execution_count": 52,
     "metadata": {},
     "output_type": "execute_result"
    }
   ],
   "source": [
    "%viz --style=\"ORTHOLINE\" --view=\"Tree\" \"ParameterTest\""
   ]
  },
  {
   "cell_type": "code",
   "execution_count": 53,
   "id": "3f008a42",
   "metadata": {
    "execution": {
     "iopub.execute_input": "2022-03-03T09:56:18.341019Z",
     "iopub.status.busy": "2022-03-03T09:56:18.340608Z",
     "iopub.status.idle": "2022-03-03T09:56:18.345259Z",
     "shell.execute_reply": "2022-03-03T09:56:18.345553Z"
    }
   },
   "outputs": [
    {
     "data": {
      "image/svg+xml": [
       "<?xml version=\"1.0\" encoding=\"UTF-8\" standalone=\"no\"?><svg xmlns=\"http://www.w3.org/2000/svg\" xmlns:xlink=\"http://www.w3.org/1999/xlink\" contentScriptType=\"application/ecmascript\" contentStyleType=\"text/css\" height=\"12px\" preserveAspectRatio=\"none\" style=\"width:12px;height:12px;\" version=\"1.1\" viewBox=\"0 0 12 12\" width=\"12px\" zoomAndPan=\"magnify\"><defs/><g><!--MD5=[97d6f38768b311333d388e66b2b27985]\n",
       "@startuml\r\n",
       "skinparam linetype ortho\r\n",
       "skinparam monochrome true\r\n",
       "skinparam classbackgroundcolor white\r\n",
       "skinparam shadowing false\r\n",
       "skinparam wrapWidth 300\r\n",
       "hide circle\r\n",
       "\r\n",
       "@enduml\r\n",
       "\n",
       "PlantUML version 1.2020.13(Sat Jun 13 12:26:38 UTC 2020)\n",
       "(EPL source distribution)\n",
       "Java Runtime: OpenJDK Runtime Environment\n",
       "JVM: OpenJDK 64-Bit Server VM\n",
       "Default Encoding: UTF-8\n",
       "Language: en\n",
       "Country: null\n",
       "--></g></svg>"
      ]
     },
     "execution_count": 53,
     "metadata": {},
     "output_type": "execute_result"
    }
   ],
   "source": [
    "%viz --style=\"ORTHOLINE\" --view=\"State\" \"ParameterTest\""
   ]
  },
  {
   "cell_type": "code",
   "execution_count": 54,
   "id": "70790f70",
   "metadata": {
    "execution": {
     "iopub.execute_input": "2022-03-03T09:56:18.395150Z",
     "iopub.status.busy": "2022-03-03T09:56:18.394728Z",
     "iopub.status.idle": "2022-03-03T09:56:18.428388Z",
     "shell.execute_reply": "2022-03-03T09:56:18.428021Z"
    }
   },
   "outputs": [
    {
     "data": {
      "image/svg+xml": [
       "<?xml version=\"1.0\" encoding=\"UTF-8\" standalone=\"no\"?><svg xmlns=\"http://www.w3.org/2000/svg\" xmlns:xlink=\"http://www.w3.org/1999/xlink\" contentScriptType=\"application/ecmascript\" contentStyleType=\"text/css\" height=\"216px\" preserveAspectRatio=\"none\" style=\"width:744px;height:216px;\" version=\"1.1\" viewBox=\"0 0 744 216\" width=\"744px\" zoomAndPan=\"magnify\"><defs/><g><!--MD5=[fbc87193dbaf4d95561dea2c320d4a47]\n",
       "cluster E1--><a href=\"psysml:86781c8e-3979-42bc-84a0-50d047026621\" target=\"_top\" title=\"psysml:86781c8e-3979-42bc-84a0-50d047026621\" xlink:actuate=\"onRequest\" xlink:href=\"psysml:86781c8e-3979-42bc-84a0-50d047026621\" xlink:show=\"new\" xlink:title=\"psysml:86781c8e-3979-42bc-84a0-50d047026621\" xlink:type=\"simple\"><polygon fill=\"#FFFFFF\" points=\"16,6,124,6,131,28.2969,722,28.2969,722,204.72,16,204.72,16,6\" style=\"stroke: #000000; stroke-width: 1.5;\"/><line style=\"stroke: #000000; stroke-width: 1.5;\" x1=\"16\" x2=\"131\" y1=\"28.2969\" y2=\"28.2969\"/><text fill=\"#000000\" font-family=\"sans-serif\" font-size=\"14\" font-weight=\"bold\" lengthAdjust=\"spacingAndGlyphs\" textLength=\"102\" x=\"20\" y=\"20.9951\">ParameterTest</text></a><!--MD5=[f6df4d0ebaf0b5dfb2ced0ae5af7c670]\n",
       "cluster E4--><a href=\"psysml:824349d9-f3af-4f57-b650-7b4ce1821d09\" target=\"_top\" title=\"psysml:824349d9-f3af-4f57-b650-7b4ce1821d09\" xlink:actuate=\"onRequest\" xlink:href=\"psysml:824349d9-f3af-4f57-b650-7b4ce1821d09\" xlink:show=\"new\" xlink:title=\"psysml:824349d9-f3af-4f57-b650-7b4ce1821d09\" xlink:type=\"simple\"><rect fill=\"#FFFFFF\" height=\"110.72\" id=\"E4\" style=\"stroke: #383838; stroke-width: 1.5;\" width=\"150\" x=\"556\" y=\"64\"/><rect fill=\"#F8F8F8\" height=\"37.9375\" style=\"stroke: #383838; stroke-width: 1.5;\" width=\"150\" x=\"556\" y=\"64\"/><text fill=\"#000000\" font-family=\"sans-serif\" font-size=\"12\" font-style=\"italic\" lengthAdjust=\"spacingAndGlyphs\" textLength=\"110\" x=\"576\" y=\"80.1387\">«calculation  def»</text><text fill=\"#000000\" font-family=\"sans-serif\" font-size=\"12\" lengthAdjust=\"spacingAndGlyphs\" textLength=\"7\" x=\"627.5\" y=\"94.1074\">F</text></a><g id=\"E1.E2\"><a href=\"psysml:2ec9bc29-3801-4d04-bd01-a8a7cc509576\" target=\"_top\" title=\"psysml:2ec9bc29-3801-4d04-bd01-a8a7cc509576\" xlink:actuate=\"onRequest\" xlink:href=\"psysml:2ec9bc29-3801-4d04-bd01-a8a7cc509576\" xlink:show=\"new\" xlink:title=\"psysml:2ec9bc29-3801-4d04-bd01-a8a7cc509576\" xlink:type=\"simple\"><rect fill=\"#FFFFFF\" height=\"42.9375\" id=\"E2\" style=\"stroke: #383838; stroke-width: 1.5;\" width=\"104\" x=\"413\" y=\"99\"/><rect fill=\"#F8F8F8\" height=\"37.9375\" style=\"stroke: #383838; stroke-width: 1.5;\" width=\"104\" x=\"413\" y=\"99\"/><text fill=\"#000000\" font-family=\"sans-serif\" font-size=\"12\" font-style=\"italic\" lengthAdjust=\"spacingAndGlyphs\" textLength=\"97\" x=\"416.5\" y=\"115.1387\">«attribute  def»</text><text fill=\"#000000\" font-family=\"sans-serif\" font-size=\"12\" lengthAdjust=\"spacingAndGlyphs\" textLength=\"8\" x=\"461\" y=\"129.1074\">A</text></a></g><!--MD5=[09b614a08d8cba4a07c9adeb5e0fee81]\n",
       "class E3--><a href=\"psysml:904ee486-6b36-4246-8723-5e3acfd2e245\" target=\"_top\" title=\"psysml:904ee486-6b36-4246-8723-5e3acfd2e245\" xlink:actuate=\"onRequest\" xlink:href=\"psysml:904ee486-6b36-4246-8723-5e3acfd2e245\" xlink:show=\"new\" xlink:title=\"psysml:904ee486-6b36-4246-8723-5e3acfd2e245\" xlink:type=\"simple\"><rect fill=\"#FFFFFF\" height=\"45.9375\" id=\"E3\" rx=\"10\" ry=\"10\" style=\"stroke: #383838; stroke-width: 1.5;\" width=\"71\" x=\"456.5\" y=\"41\"/><text fill=\"#000000\" font-family=\"sans-serif\" font-size=\"12\" font-style=\"italic\" lengthAdjust=\"spacingAndGlyphs\" textLength=\"69\" x=\"457.5\" y=\"57.1387\">«attribute»</text><text fill=\"#000000\" font-family=\"sans-serif\" font-size=\"12\" lengthAdjust=\"spacingAndGlyphs\" textLength=\"24\" x=\"478\" y=\"71.1074\">a: A</text><line style=\"stroke: #383838; stroke-width: 1.5;\" x1=\"457.5\" x2=\"526.5\" y1=\"78.9375\" y2=\"78.9375\"/></a><!--MD5=[b9389687b975829384b498ac4b7476b2]\n",
       "class E8--><a href=\"psysml:8204b4e2-616f-4bbc-afa4-9ecd277b5579\" target=\"_top\" title=\"psysml:8204b4e2-616f-4bbc-afa4-9ecd277b5579\" xlink:actuate=\"onRequest\" xlink:href=\"psysml:8204b4e2-616f-4bbc-afa4-9ecd277b5579\" xlink:show=\"new\" xlink:title=\"psysml:8204b4e2-616f-4bbc-afa4-9ecd277b5579\" xlink:type=\"simple\"><rect fill=\"#FFFFFF\" height=\"45.9375\" id=\"E8\" rx=\"10\" ry=\"10\" style=\"stroke: #383838; stroke-width: 1.5;\" width=\"71\" x=\"350.5\" y=\"41\"/><text fill=\"#000000\" font-family=\"sans-serif\" font-size=\"12\" font-style=\"italic\" lengthAdjust=\"spacingAndGlyphs\" textLength=\"69\" x=\"351.5\" y=\"57.1387\">«attribute»</text><text fill=\"#000000\" font-family=\"sans-serif\" font-size=\"12\" lengthAdjust=\"spacingAndGlyphs\" textLength=\"4\" x=\"382\" y=\"71.1074\">f</text><line style=\"stroke: #383838; stroke-width: 1.5;\" x1=\"351.5\" x2=\"420.5\" y1=\"78.9375\" y2=\"78.9375\"/></a><!--MD5=[fd4143e9d270a159db93a4ea2a975926]\n",
       "class E9--><a href=\"psysml:86e22d1e-a4d5-4fc2-80cd-01d3f8e601c3\" target=\"_top\" title=\"psysml:86e22d1e-a4d5-4fc2-80cd-01d3f8e601c3\" xlink:actuate=\"onRequest\" xlink:href=\"psysml:86e22d1e-a4d5-4fc2-80cd-01d3f8e601c3\" xlink:show=\"new\" xlink:title=\"psysml:86e22d1e-a4d5-4fc2-80cd-01d3f8e601c3\" xlink:type=\"simple\"><rect fill=\"#FFFFFF\" height=\"45.9375\" id=\"E9\" rx=\"10\" ry=\"10\" style=\"stroke: #383838; stroke-width: 1.5;\" width=\"71\" x=\"244.5\" y=\"41\"/><text fill=\"#000000\" font-family=\"sans-serif\" font-size=\"12\" font-style=\"italic\" lengthAdjust=\"spacingAndGlyphs\" textLength=\"69\" x=\"245.5\" y=\"57.1387\">«attribute»</text><text fill=\"#000000\" font-family=\"sans-serif\" font-size=\"12\" lengthAdjust=\"spacingAndGlyphs\" textLength=\"8\" x=\"274\" y=\"71.1074\">g</text><line style=\"stroke: #383838; stroke-width: 1.5;\" x1=\"245.5\" x2=\"314.5\" y1=\"78.9375\" y2=\"78.9375\"/></a><!--MD5=[96f4274e9e20536e775497830990834d]\n",
       "class E10--><a href=\"psysml:5bd4ed77-91ea-4eb7-bbff-8ef8917960b7\" target=\"_top\" title=\"psysml:5bd4ed77-91ea-4eb7-bbff-8ef8917960b7\" xlink:actuate=\"onRequest\" xlink:href=\"psysml:5bd4ed77-91ea-4eb7-bbff-8ef8917960b7\" xlink:show=\"new\" xlink:title=\"psysml:5bd4ed77-91ea-4eb7-bbff-8ef8917960b7\" xlink:type=\"simple\"><rect fill=\"#FFFFFF\" height=\"45.9375\" id=\"E10\" rx=\"10\" ry=\"10\" style=\"stroke: #383838; stroke-width: 1.5;\" width=\"71\" x=\"138.5\" y=\"41\"/><text fill=\"#000000\" font-family=\"sans-serif\" font-size=\"12\" font-style=\"italic\" lengthAdjust=\"spacingAndGlyphs\" textLength=\"69\" x=\"139.5\" y=\"57.1387\">«attribute»</text><text fill=\"#000000\" font-family=\"sans-serif\" font-size=\"12\" lengthAdjust=\"spacingAndGlyphs\" textLength=\"8\" x=\"168\" y=\"71.1074\">b</text><line style=\"stroke: #383838; stroke-width: 1.5;\" x1=\"139.5\" x2=\"208.5\" y1=\"78.9375\" y2=\"78.9375\"/></a><!--MD5=[1dd1bfd58a279cf63c5f349dbc8fc6a1]\n",
       "class E11--><a href=\"psysml:88436cf5-d13a-4d80-b468-40a83b162e0f\" target=\"_top\" title=\"psysml:88436cf5-d13a-4d80-b468-40a83b162e0f\" xlink:actuate=\"onRequest\" xlink:href=\"psysml:88436cf5-d13a-4d80-b468-40a83b162e0f\" xlink:show=\"new\" xlink:title=\"psysml:88436cf5-d13a-4d80-b468-40a83b162e0f\" xlink:type=\"simple\"><rect fill=\"#FFFFFF\" height=\"45.9375\" id=\"E11\" rx=\"10\" ry=\"10\" style=\"stroke: #383838; stroke-width: 1.5;\" width=\"71\" x=\"32.5\" y=\"41\"/><text fill=\"#000000\" font-family=\"sans-serif\" font-size=\"12\" font-style=\"italic\" lengthAdjust=\"spacingAndGlyphs\" textLength=\"69\" x=\"33.5\" y=\"57.1387\">«attribute»</text><text fill=\"#000000\" font-family=\"sans-serif\" font-size=\"12\" lengthAdjust=\"spacingAndGlyphs\" textLength=\"7\" x=\"62.5\" y=\"71.1074\">c</text><line style=\"stroke: #383838; stroke-width: 1.5;\" x1=\"33.5\" x2=\"102.5\" y1=\"78.9375\" y2=\"78.9375\"/></a><text fill=\"#000000\" font-family=\"sans-serif\" font-size=\"14\" lengthAdjust=\"spacingAndGlyphs\" textLength=\"9\" x=\"569.5\" y=\"42.6982\">p</text><rect fill=\"#383838\" height=\"12\" style=\"stroke: #F8F8F8; stroke-width: 1.5;\" width=\"12\" x=\"568\" y=\"58\"/><text fill=\"#000000\" font-family=\"sans-serif\" font-size=\"14\" lengthAdjust=\"spacingAndGlyphs\" textLength=\"9\" x=\"616.5\" y=\"42.6982\">q</text><rect fill=\"#383838\" height=\"12\" style=\"stroke: #F8F8F8; stroke-width: 1.5;\" width=\"12\" x=\"615\" y=\"58\"/><text fill=\"#000000\" font-family=\"sans-serif\" font-size=\"14\" lengthAdjust=\"spacingAndGlyphs\" textLength=\"39\" x=\"601.5\" y=\"193.7151\">result</text><rect fill=\"#383838\" height=\"12\" style=\"stroke: #F8F8F8; stroke-width: 1.5;\" width=\"12\" x=\"615\" y=\"168.72\"/><!--MD5=[05d275557350bfb9b23a4ef7222b4c39]\n",
       "link E3 to E2--><a href=\"psysml:b5c275d4-de01-4c83-8a05-69f2b086225e\" target=\"_top\" title=\"psysml:b5c275d4-de01-4c83-8a05-69f2b086225e\" xlink:actuate=\"onRequest\" xlink:href=\"psysml:b5c275d4-de01-4c83-8a05-69f2b086225e\" xlink:show=\"new\" xlink:title=\"psysml:b5c275d4-de01-4c83-8a05-69f2b086225e\" xlink:type=\"simple\"><path d=\"M486.75,87.31 C486.75,87.31 486.75,88.45 486.75,88.45 \" fill=\"none\" id=\"E3-&gt;E2\" style=\"stroke: #383838; stroke-width: 1.0;\"/><polygon fill=\"#FFFFFF\" points=\"486.75,98.7,479.75,79.7,493.75,79.7,486.75,98.7\" style=\"stroke: #383838; stroke-width: 1.0;\"/><ellipse cx=\"481.75\" cy=\"74\" fill=\"#383838\" rx=\"2\" ry=\"2\" style=\"stroke: #383838; stroke-width: 1.0;\"/><ellipse cx=\"491.75\" cy=\"74\" fill=\"#383838\" rx=\"2\" ry=\"2\" style=\"stroke: #383838; stroke-width: 1.0;\"/></a><!--MD5=[3d9c53bb3609cf8e90c27e3dd867c850]\n",
       "@startuml\r\n",
       "skinparam ranksep 10\r\n",
       "skinparam rectangle {\r\n",
       " backgroundColor<<block>> LightGreen\r\n",
       "}\r\n",
       "skinparam linetype ortho\r\n",
       "skinparam monochrome true\r\n",
       "skinparam classbackgroundcolor white\r\n",
       "skinparam shadowing false\r\n",
       "skinparam wrapWidth 300\r\n",
       "hide circle\r\n",
       "\r\n",
       "package \"ParameterTest\" as E1  [[psysml:86781c8e-3979-42bc-84a0-50d047026621 ]]  {\r\n",
       "def \"A\" as E2  <<(T,blue) attribute  def>> [[psysml:2ec9bc29-3801-4d04-bd01-a8a7cc509576 ]] \r\n",
       "comp usage \"a: A \" as E3  <<(T,blue) attribute>> [[psysml:904ee486-6b36-4246-8723-5e3acfd2e245 ]] {\r\n",
       "}\r\n",
       "rec def \"F\" as E4  <<(T,blue) calculation  def>> [[psysml:824349d9-f3af-4f57-b650-7b4ce1821d09 ]] {\r\n",
       "portin \"p\" as E5  [[psysml:1d7d0081-d3e1-46bd-ad63-b0e63267b1e5 ]] \r\n",
       "portin \"q\" as E6  [[psysml:21dced71-d174-49eb-b20b-d0423025e0cf ]] \r\n",
       "portout \"result\" as E7  [[psysml:89ad9a9d-29f0-45e8-8d07-ebce693a6326 ]] \r\n",
       "}\r\n",
       "\r\n",
       "comp usage \"f \" as E8  <<(T,blue) attribute>> [[psysml:8204b4e2-616f-4bbc-afa4-9ecd277b5579 ]] {\r\n",
       "}\r\n",
       "comp usage \"g \" as E9  <<(T,blue) attribute>> [[psysml:86e22d1e-a4d5-4fc2-80cd-01d3f8e601c3 ]] {\r\n",
       "}\r\n",
       "comp usage \"b \" as E10  <<(T,blue) attribute>> [[psysml:5bd4ed77-91ea-4eb7-bbff-8ef8917960b7 ]] {\r\n",
       "}\r\n",
       "comp usage \"c \" as E11  <<(T,blue) attribute>> [[psysml:88436cf5-d13a-4d80-b468-40a83b162e0f ]] {\r\n",
       "}\r\n",
       "}\r\n",
       "E3 - -:|> E2 [[psysml:b5c275d4-de01-4c83-8a05-69f2b086225e ]] \r\n",
       "@enduml\r\n",
       "\n",
       "PlantUML version 1.2020.13(Sat Jun 13 12:26:38 UTC 2020)\n",
       "(EPL source distribution)\n",
       "Java Runtime: OpenJDK Runtime Environment\n",
       "JVM: OpenJDK 64-Bit Server VM\n",
       "Default Encoding: UTF-8\n",
       "Language: en\n",
       "Country: null\n",
       "--></g></svg>"
      ]
     },
     "execution_count": 54,
     "metadata": {},
     "output_type": "execute_result"
    }
   ],
   "source": [
    "%viz --style=\"ORTHOLINE\" --view=\"Interconnection\" \"ParameterTest\""
   ]
  },
  {
   "cell_type": "code",
   "execution_count": 55,
   "id": "6a724f8d",
   "metadata": {
    "execution": {
     "iopub.execute_input": "2022-03-03T09:56:18.477798Z",
     "iopub.status.busy": "2022-03-03T09:56:18.477391Z",
     "iopub.status.idle": "2022-03-03T09:56:18.498949Z",
     "shell.execute_reply": "2022-03-03T09:56:18.498575Z"
    }
   },
   "outputs": [
    {
     "data": {
      "image/svg+xml": [
       "<?xml version=\"1.0\" encoding=\"UTF-8\" standalone=\"no\"?><svg xmlns=\"http://www.w3.org/2000/svg\" xmlns:xlink=\"http://www.w3.org/1999/xlink\" contentScriptType=\"application/ecmascript\" contentStyleType=\"text/css\" height=\"162px\" preserveAspectRatio=\"none\" style=\"width:168px;height:162px;\" version=\"1.1\" viewBox=\"0 0 168 162\" width=\"168px\" zoomAndPan=\"magnify\"><defs/><g><!--MD5=[fbc87193dbaf4d95561dea2c320d4a47]\n",
       "cluster E1--><a href=\"psysml:824349d9-f3af-4f57-b650-7b4ce1821d09\" target=\"_top\" title=\"psysml:824349d9-f3af-4f57-b650-7b4ce1821d09\" xlink:actuate=\"onRequest\" xlink:href=\"psysml:824349d9-f3af-4f57-b650-7b4ce1821d09\" xlink:show=\"new\" xlink:title=\"psysml:824349d9-f3af-4f57-b650-7b4ce1821d09\" xlink:type=\"simple\"><rect fill=\"#FFFFFF\" height=\"87.72\" id=\"E1\" style=\"stroke: #383838; stroke-width: 1.5;\" width=\"150\" x=\"7\" y=\"42.0986\"/><rect fill=\"#F8F8F8\" height=\"37.9375\" style=\"stroke: #383838; stroke-width: 1.5;\" width=\"150\" x=\"7\" y=\"42.0986\"/><text fill=\"#000000\" font-family=\"sans-serif\" font-size=\"12\" font-style=\"italic\" lengthAdjust=\"spacingAndGlyphs\" textLength=\"110\" x=\"27\" y=\"58.2373\">«calculation  def»</text><text fill=\"#000000\" font-family=\"sans-serif\" font-size=\"12\" lengthAdjust=\"spacingAndGlyphs\" textLength=\"7\" x=\"78.5\" y=\"72.2061\">F</text></a><text fill=\"#000000\" font-family=\"sans-serif\" font-size=\"14\" lengthAdjust=\"spacingAndGlyphs\" textLength=\"9\" x=\"20.5\" y=\"20.7969\">p</text><rect fill=\"#383838\" height=\"12\" style=\"stroke: #F8F8F8; stroke-width: 1.5;\" width=\"12\" x=\"19\" y=\"36.0986\"/><text fill=\"#000000\" font-family=\"sans-serif\" font-size=\"14\" lengthAdjust=\"spacingAndGlyphs\" textLength=\"9\" x=\"67.5\" y=\"20.7969\">q</text><rect fill=\"#383838\" height=\"12\" style=\"stroke: #F8F8F8; stroke-width: 1.5;\" width=\"12\" x=\"66\" y=\"36.0986\"/><text fill=\"#000000\" font-family=\"sans-serif\" font-size=\"14\" lengthAdjust=\"spacingAndGlyphs\" textLength=\"39\" x=\"52.5\" y=\"148.8138\">result</text><rect fill=\"#383838\" height=\"12\" style=\"stroke: #F8F8F8; stroke-width: 1.5;\" width=\"12\" x=\"66\" y=\"123.8186\"/><!--MD5=[a82f3d610fd89baac449bb35d15eef67]\n",
       "@startuml\r\n",
       "skinparam ranksep 8\r\n",
       "skinparam linetype ortho\r\n",
       "skinparam monochrome true\r\n",
       "skinparam classbackgroundcolor white\r\n",
       "skinparam shadowing false\r\n",
       "skinparam wrapWidth 300\r\n",
       "hide circle\r\n",
       "\r\n",
       "rec def \"F\" as E1  <<(T,blue) calculation  def>> [[psysml:824349d9-f3af-4f57-b650-7b4ce1821d09 ]] {\r\n",
       "portin \"p\" as E2  [[psysml:1d7d0081-d3e1-46bd-ad63-b0e63267b1e5 ]] \r\n",
       "portin \"q\" as E3  [[psysml:21dced71-d174-49eb-b20b-d0423025e0cf ]] \r\n",
       "portout \"result\" as E4  [[psysml:89ad9a9d-29f0-45e8-8d07-ebce693a6326 ]] \r\n",
       "}\r\n",
       "\r\n",
       "@enduml\r\n",
       "\n",
       "PlantUML version 1.2020.13(Sat Jun 13 12:26:38 UTC 2020)\n",
       "(EPL source distribution)\n",
       "Java Runtime: OpenJDK Runtime Environment\n",
       "JVM: OpenJDK 64-Bit Server VM\n",
       "Default Encoding: UTF-8\n",
       "Language: en\n",
       "Country: null\n",
       "--></g></svg>"
      ]
     },
     "execution_count": 55,
     "metadata": {},
     "output_type": "execute_result"
    }
   ],
   "source": [
    "%viz --style=\"ORTHOLINE\" --view=\"Action\" \"ParameterTest\""
   ]
  },
  {
   "cell_type": "code",
   "execution_count": 56,
   "id": "245aa25c",
   "metadata": {
    "execution": {
     "iopub.execute_input": "2022-03-03T09:56:18.548583Z",
     "iopub.status.busy": "2022-03-03T09:56:18.548181Z",
     "iopub.status.idle": "2022-03-03T09:56:18.553292Z",
     "shell.execute_reply": "2022-03-03T09:56:18.552954Z"
    }
   },
   "outputs": [
    {
     "data": {
      "image/svg+xml": [
       "<?xml version=\"1.0\" encoding=\"UTF-8\" standalone=\"no\"?><svg xmlns=\"http://www.w3.org/2000/svg\" xmlns:xlink=\"http://www.w3.org/1999/xlink\" contentScriptType=\"application/ecmascript\" contentStyleType=\"text/css\" height=\"12px\" preserveAspectRatio=\"none\" style=\"width:12px;height:12px;\" version=\"1.1\" viewBox=\"0 0 12 12\" width=\"12px\" zoomAndPan=\"magnify\"><defs/><g><!--MD5=[30fc1de5121c5abddedd55b44417fde8]\n",
       "@startuml\r\n",
       "skinparam roundcorner 20\r\n",
       "skinparam BoxPadding 20\r\n",
       "skinparam SequenceBoxBackgroundColor #white\r\n",
       "skinparam style strictuml\r\n",
       "skinparam maxMessageSize 100\r\n",
       "skinparam linetype ortho\r\n",
       "skinparam monochrome true\r\n",
       "skinparam classbackgroundcolor white\r\n",
       "skinparam shadowing false\r\n",
       "skinparam wrapWidth 300\r\n",
       "hide circle\r\n",
       "\r\n",
       "@enduml\r\n",
       "\n",
       "PlantUML version 1.2020.13(Sat Jun 13 12:26:38 UTC 2020)\n",
       "(EPL source distribution)\n",
       "Java Runtime: OpenJDK Runtime Environment\n",
       "JVM: OpenJDK 64-Bit Server VM\n",
       "Default Encoding: UTF-8\n",
       "Language: en\n",
       "Country: null\n",
       "--></g></svg>"
      ]
     },
     "execution_count": 56,
     "metadata": {},
     "output_type": "execute_result"
    }
   ],
   "source": [
    "%viz --style=\"ORTHOLINE\" --view=\"Sequence\" \"ParameterTest\""
   ]
  },
  {
   "cell_type": "code",
   "execution_count": 57,
   "id": "4cc1289c",
   "metadata": {
    "execution": {
     "iopub.execute_input": "2022-03-03T09:56:18.603138Z",
     "iopub.status.busy": "2022-03-03T09:56:18.602723Z",
     "iopub.status.idle": "2022-03-03T09:56:18.656647Z",
     "shell.execute_reply": "2022-03-03T09:56:18.655269Z"
    }
   },
   "outputs": [
    {
     "data": {
      "image/svg+xml": [
       "<?xml version=\"1.0\" encoding=\"UTF-8\" standalone=\"no\"?><svg xmlns=\"http://www.w3.org/2000/svg\" xmlns:xlink=\"http://www.w3.org/1999/xlink\" contentScriptType=\"application/ecmascript\" contentStyleType=\"text/css\" height=\"403px\" preserveAspectRatio=\"none\" style=\"width:744px;height:403px;\" version=\"1.1\" viewBox=\"0 0 744 403\" width=\"744px\" zoomAndPan=\"magnify\"><defs/><g><!--MD5=[fbc87193dbaf4d95561dea2c320d4a47]\n",
       "cluster E1--><a href=\"psysml:86781c8e-3979-42bc-84a0-50d047026621\" target=\"_top\" title=\"psysml:86781c8e-3979-42bc-84a0-50d047026621\" xlink:actuate=\"onRequest\" xlink:href=\"psysml:86781c8e-3979-42bc-84a0-50d047026621\" xlink:show=\"new\" xlink:title=\"psysml:86781c8e-3979-42bc-84a0-50d047026621\" xlink:type=\"simple\"><polygon fill=\"#FFFFFF\" points=\"16,6,124,6,131,28.2969,722,28.2969,722,391.72,16,391.72,16,6\" style=\"stroke: #000000; stroke-width: 1.5;\"/><line style=\"stroke: #000000; stroke-width: 1.5;\" x1=\"16\" x2=\"131\" y1=\"28.2969\" y2=\"28.2969\"/><text fill=\"#000000\" font-family=\"sans-serif\" font-size=\"14\" font-weight=\"bold\" lengthAdjust=\"spacingAndGlyphs\" textLength=\"102\" x=\"20\" y=\"20.9951\">ParameterTest</text></a><!--MD5=[f6df4d0ebaf0b5dfb2ced0ae5af7c670]\n",
       "cluster E4--><a href=\"psysml:824349d9-f3af-4f57-b650-7b4ce1821d09\" target=\"_top\" title=\"psysml:824349d9-f3af-4f57-b650-7b4ce1821d09\" xlink:actuate=\"onRequest\" xlink:href=\"psysml:824349d9-f3af-4f57-b650-7b4ce1821d09\" xlink:show=\"new\" xlink:title=\"psysml:824349d9-f3af-4f57-b650-7b4ce1821d09\" xlink:type=\"simple\"><rect fill=\"#FFFFFF\" height=\"297.72\" id=\"E4\" style=\"stroke: #383838; stroke-width: 1.5;\" width=\"150\" x=\"556\" y=\"64\"/><rect fill=\"#F8F8F8\" height=\"37.9375\" style=\"stroke: #383838; stroke-width: 1.5;\" width=\"150\" x=\"556\" y=\"64\"/><text fill=\"#000000\" font-family=\"sans-serif\" font-size=\"12\" font-style=\"italic\" lengthAdjust=\"spacingAndGlyphs\" textLength=\"110\" x=\"576\" y=\"80.1387\">«calculation  def»</text><text fill=\"#000000\" font-family=\"sans-serif\" font-size=\"12\" lengthAdjust=\"spacingAndGlyphs\" textLength=\"7\" x=\"627.5\" y=\"94.1074\">F</text></a><!--MD5=[b4997ac47864f28c2f74865a473b2911]\n",
       "class E2--><a href=\"psysml:2ec9bc29-3801-4d04-bd01-a8a7cc509576\" target=\"_top\" title=\"psysml:2ec9bc29-3801-4d04-bd01-a8a7cc509576\" xlink:actuate=\"onRequest\" xlink:href=\"psysml:2ec9bc29-3801-4d04-bd01-a8a7cc509576\" xlink:show=\"new\" xlink:title=\"psysml:2ec9bc29-3801-4d04-bd01-a8a7cc509576\" xlink:type=\"simple\"><rect fill=\"#FFFFFF\" height=\"88.3516\" id=\"E2\" style=\"stroke: #383838; stroke-width: 1.5;\" width=\"99\" x=\"418.5\" y=\"147\"/><text fill=\"#000000\" font-family=\"sans-serif\" font-size=\"12\" font-style=\"italic\" lengthAdjust=\"spacingAndGlyphs\" textLength=\"97\" x=\"419.5\" y=\"163.1387\">«attribute  def»</text><text fill=\"#000000\" font-family=\"sans-serif\" font-size=\"12\" lengthAdjust=\"spacingAndGlyphs\" textLength=\"8\" x=\"464\" y=\"177.1074\">A</text><line style=\"stroke: #383838; stroke-width: 1.5;\" x1=\"419.5\" x2=\"516.5\" y1=\"184.9375\" y2=\"184.9375\"/><text fill=\"#000000\" font-family=\"sans-serif\" font-size=\"11\" lengthAdjust=\"spacingAndGlyphs\" textLength=\"48\" x=\"424.5\" y=\"215.9526\">x: String</text><text fill=\"#000000\" font-family=\"sans-serif\" font-size=\"11\" lengthAdjust=\"spacingAndGlyphs\" textLength=\"21\" x=\"424.5\" y=\"228.7573\">y: A</text><line style=\"stroke: #383838; stroke-width: 1.0;\" x1=\"419.5\" x2=\"440.5\" y1=\"199.3398\" y2=\"199.3398\"/><text fill=\"#000000\" font-family=\"sans-serif\" font-size=\"11\" lengthAdjust=\"spacingAndGlyphs\" textLength=\"55\" x=\"440.5\" y=\"202.6479\">attributes</text><line style=\"stroke: #383838; stroke-width: 1.0;\" x1=\"495.5\" x2=\"516.5\" y1=\"199.3398\" y2=\"199.3398\"/></a><!--MD5=[09b614a08d8cba4a07c9adeb5e0fee81]\n",
       "class E3--><a href=\"psysml:904ee486-6b36-4246-8723-5e3acfd2e245\" target=\"_top\" title=\"psysml:904ee486-6b36-4246-8723-5e3acfd2e245\" xlink:actuate=\"onRequest\" xlink:href=\"psysml:904ee486-6b36-4246-8723-5e3acfd2e245\" xlink:show=\"new\" xlink:title=\"psysml:904ee486-6b36-4246-8723-5e3acfd2e245\" xlink:type=\"simple\"><rect fill=\"#FFFFFF\" height=\"45.9375\" id=\"E3\" rx=\"10\" ry=\"10\" style=\"stroke: #383838; stroke-width: 1.5;\" width=\"71\" x=\"456.5\" y=\"41\"/><text fill=\"#000000\" font-family=\"sans-serif\" font-size=\"12\" font-style=\"italic\" lengthAdjust=\"spacingAndGlyphs\" textLength=\"69\" x=\"457.5\" y=\"57.1387\">«attribute»</text><text fill=\"#000000\" font-family=\"sans-serif\" font-size=\"12\" lengthAdjust=\"spacingAndGlyphs\" textLength=\"24\" x=\"478\" y=\"71.1074\">a: A</text><line style=\"stroke: #383838; stroke-width: 1.5;\" x1=\"457.5\" x2=\"526.5\" y1=\"78.9375\" y2=\"78.9375\"/></a><!--MD5=[b9389687b975829384b498ac4b7476b2]\n",
       "class E8--><a href=\"psysml:8204b4e2-616f-4bbc-afa4-9ecd277b5579\" target=\"_top\" title=\"psysml:8204b4e2-616f-4bbc-afa4-9ecd277b5579\" xlink:actuate=\"onRequest\" xlink:href=\"psysml:8204b4e2-616f-4bbc-afa4-9ecd277b5579\" xlink:show=\"new\" xlink:title=\"psysml:8204b4e2-616f-4bbc-afa4-9ecd277b5579\" xlink:type=\"simple\"><rect fill=\"#FFFFFF\" height=\"45.9375\" id=\"E8\" rx=\"10\" ry=\"10\" style=\"stroke: #383838; stroke-width: 1.5;\" width=\"71\" x=\"350.5\" y=\"41\"/><text fill=\"#000000\" font-family=\"sans-serif\" font-size=\"12\" font-style=\"italic\" lengthAdjust=\"spacingAndGlyphs\" textLength=\"69\" x=\"351.5\" y=\"57.1387\">«attribute»</text><text fill=\"#000000\" font-family=\"sans-serif\" font-size=\"12\" lengthAdjust=\"spacingAndGlyphs\" textLength=\"4\" x=\"382\" y=\"71.1074\">f</text><line style=\"stroke: #383838; stroke-width: 1.5;\" x1=\"351.5\" x2=\"420.5\" y1=\"78.9375\" y2=\"78.9375\"/></a><!--MD5=[fd4143e9d270a159db93a4ea2a975926]\n",
       "class E9--><a href=\"psysml:86e22d1e-a4d5-4fc2-80cd-01d3f8e601c3\" target=\"_top\" title=\"psysml:86e22d1e-a4d5-4fc2-80cd-01d3f8e601c3\" xlink:actuate=\"onRequest\" xlink:href=\"psysml:86e22d1e-a4d5-4fc2-80cd-01d3f8e601c3\" xlink:show=\"new\" xlink:title=\"psysml:86e22d1e-a4d5-4fc2-80cd-01d3f8e601c3\" xlink:type=\"simple\"><rect fill=\"#FFFFFF\" height=\"45.9375\" id=\"E9\" rx=\"10\" ry=\"10\" style=\"stroke: #383838; stroke-width: 1.5;\" width=\"71\" x=\"244.5\" y=\"41\"/><text fill=\"#000000\" font-family=\"sans-serif\" font-size=\"12\" font-style=\"italic\" lengthAdjust=\"spacingAndGlyphs\" textLength=\"69\" x=\"245.5\" y=\"57.1387\">«attribute»</text><text fill=\"#000000\" font-family=\"sans-serif\" font-size=\"12\" lengthAdjust=\"spacingAndGlyphs\" textLength=\"8\" x=\"274\" y=\"71.1074\">g</text><line style=\"stroke: #383838; stroke-width: 1.5;\" x1=\"245.5\" x2=\"314.5\" y1=\"78.9375\" y2=\"78.9375\"/></a><!--MD5=[96f4274e9e20536e775497830990834d]\n",
       "class E10--><a href=\"psysml:5bd4ed77-91ea-4eb7-bbff-8ef8917960b7\" target=\"_top\" title=\"psysml:5bd4ed77-91ea-4eb7-bbff-8ef8917960b7\" xlink:actuate=\"onRequest\" xlink:href=\"psysml:5bd4ed77-91ea-4eb7-bbff-8ef8917960b7\" xlink:show=\"new\" xlink:title=\"psysml:5bd4ed77-91ea-4eb7-bbff-8ef8917960b7\" xlink:type=\"simple\"><rect fill=\"#FFFFFF\" height=\"45.9375\" id=\"E10\" rx=\"10\" ry=\"10\" style=\"stroke: #383838; stroke-width: 1.5;\" width=\"71\" x=\"138.5\" y=\"41\"/><text fill=\"#000000\" font-family=\"sans-serif\" font-size=\"12\" font-style=\"italic\" lengthAdjust=\"spacingAndGlyphs\" textLength=\"69\" x=\"139.5\" y=\"57.1387\">«attribute»</text><text fill=\"#000000\" font-family=\"sans-serif\" font-size=\"12\" lengthAdjust=\"spacingAndGlyphs\" textLength=\"8\" x=\"168\" y=\"71.1074\">b</text><line style=\"stroke: #383838; stroke-width: 1.5;\" x1=\"139.5\" x2=\"208.5\" y1=\"78.9375\" y2=\"78.9375\"/></a><!--MD5=[1dd1bfd58a279cf63c5f349dbc8fc6a1]\n",
       "class E11--><a href=\"psysml:88436cf5-d13a-4d80-b468-40a83b162e0f\" target=\"_top\" title=\"psysml:88436cf5-d13a-4d80-b468-40a83b162e0f\" xlink:actuate=\"onRequest\" xlink:href=\"psysml:88436cf5-d13a-4d80-b468-40a83b162e0f\" xlink:show=\"new\" xlink:title=\"psysml:88436cf5-d13a-4d80-b468-40a83b162e0f\" xlink:type=\"simple\"><rect fill=\"#FFFFFF\" height=\"45.9375\" id=\"E11\" rx=\"10\" ry=\"10\" style=\"stroke: #383838; stroke-width: 1.5;\" width=\"71\" x=\"32.5\" y=\"41\"/><text fill=\"#000000\" font-family=\"sans-serif\" font-size=\"12\" font-style=\"italic\" lengthAdjust=\"spacingAndGlyphs\" textLength=\"69\" x=\"33.5\" y=\"57.1387\">«attribute»</text><text fill=\"#000000\" font-family=\"sans-serif\" font-size=\"12\" lengthAdjust=\"spacingAndGlyphs\" textLength=\"7\" x=\"62.5\" y=\"71.1074\">c</text><line style=\"stroke: #383838; stroke-width: 1.5;\" x1=\"33.5\" x2=\"102.5\" y1=\"78.9375\" y2=\"78.9375\"/></a><text fill=\"#000000\" font-family=\"sans-serif\" font-size=\"14\" lengthAdjust=\"spacingAndGlyphs\" textLength=\"9\" x=\"569.5\" y=\"42.6982\">p</text><rect fill=\"#383838\" height=\"12\" style=\"stroke: #F8F8F8; stroke-width: 1.5;\" width=\"12\" x=\"568\" y=\"58\"/><text fill=\"#000000\" font-family=\"sans-serif\" font-size=\"14\" lengthAdjust=\"spacingAndGlyphs\" textLength=\"9\" x=\"616.5\" y=\"42.6982\">q</text><rect fill=\"#383838\" height=\"12\" style=\"stroke: #F8F8F8; stroke-width: 1.5;\" width=\"12\" x=\"615\" y=\"58\"/><text fill=\"#000000\" font-family=\"sans-serif\" font-size=\"14\" lengthAdjust=\"spacingAndGlyphs\" textLength=\"39\" x=\"601.5\" y=\"380.7151\">result</text><rect fill=\"#383838\" height=\"12\" style=\"stroke: #F8F8F8; stroke-width: 1.5;\" width=\"12\" x=\"615\" y=\"355.72\"/><!--MD5=[05d275557350bfb9b23a4ef7222b4c39]\n",
       "link E3 to E2--><a href=\"psysml:b5c275d4-de01-4c83-8a05-69f2b086225e\" target=\"_top\" title=\"psysml:b5c275d4-de01-4c83-8a05-69f2b086225e\" xlink:actuate=\"onRequest\" xlink:href=\"psysml:b5c275d4-de01-4c83-8a05-69f2b086225e\" xlink:show=\"new\" xlink:title=\"psysml:b5c275d4-de01-4c83-8a05-69f2b086225e\" xlink:type=\"simple\"><path d=\"M487,87.29 C487,87.29 487,126.78 487,126.78 \" fill=\"none\" id=\"E3-&gt;E2\" style=\"stroke: #383838; stroke-width: 1.0;\"/><polygon fill=\"#FFFFFF\" points=\"487,146.78,480,127.78,494,127.78,487,146.78\" style=\"stroke: #383838; stroke-width: 1.0;\"/><ellipse cx=\"482\" cy=\"122.08\" fill=\"#383838\" rx=\"2\" ry=\"2\" style=\"stroke: #383838; stroke-width: 1.0;\"/><ellipse cx=\"492\" cy=\"122.08\" fill=\"#383838\" rx=\"2\" ry=\"2\" style=\"stroke: #383838; stroke-width: 1.0;\"/></a><!--MD5=[4b44d66a7fe672f0fe7f51f655161a38]\n",
       "@startuml\r\n",
       "skinparam linetype ortho\r\n",
       "skinparam monochrome true\r\n",
       "skinparam classbackgroundcolor white\r\n",
       "skinparam shadowing false\r\n",
       "skinparam wrapWidth 300\r\n",
       "hide circle\r\n",
       "\r\n",
       "package \"ParameterTest\" as E1  [[psysml:86781c8e-3979-42bc-84a0-50d047026621 ]]  {\r\n",
       "comp def \"A\" as E2  <<(T,blue) attribute  def>> [[psysml:2ec9bc29-3801-4d04-bd01-a8a7cc509576 ]] {\r\n",
       "- - attributes - -\r\n",
       "x: String\r\n",
       "y: A\r\n",
       "}\r\n",
       "comp usage \"a: A \" as E3  <<(T,blue) attribute>> [[psysml:904ee486-6b36-4246-8723-5e3acfd2e245 ]] {\r\n",
       "}\r\n",
       "rec def \"F\" as E4  <<(T,blue) calculation  def>> [[psysml:824349d9-f3af-4f57-b650-7b4ce1821d09 ]] {\r\n",
       "portin \"p\" as E5  [[psysml:1d7d0081-d3e1-46bd-ad63-b0e63267b1e5 ]] \r\n",
       "portin \"q\" as E6  [[psysml:21dced71-d174-49eb-b20b-d0423025e0cf ]] \r\n",
       "portout \"result\" as E7  [[psysml:89ad9a9d-29f0-45e8-8d07-ebce693a6326 ]] \r\n",
       "}\r\n",
       "\r\n",
       "comp usage \"f \" as E8  <<(T,blue) attribute>> [[psysml:8204b4e2-616f-4bbc-afa4-9ecd277b5579 ]] {\r\n",
       "}\r\n",
       "comp usage \"g \" as E9  <<(T,blue) attribute>> [[psysml:86e22d1e-a4d5-4fc2-80cd-01d3f8e601c3 ]] {\r\n",
       "}\r\n",
       "comp usage \"b \" as E10  <<(T,blue) attribute>> [[psysml:5bd4ed77-91ea-4eb7-bbff-8ef8917960b7 ]] {\r\n",
       "}\r\n",
       "comp usage \"c \" as E11  <<(T,blue) attribute>> [[psysml:88436cf5-d13a-4d80-b468-40a83b162e0f ]] {\r\n",
       "}\r\n",
       "}\r\n",
       "E3 - -:|> E2 [[psysml:b5c275d4-de01-4c83-8a05-69f2b086225e ]] \r\n",
       "@enduml\r\n",
       "\n",
       "PlantUML version 1.2020.13(Sat Jun 13 12:26:38 UTC 2020)\n",
       "(EPL source distribution)\n",
       "Java Runtime: OpenJDK Runtime Environment\n",
       "JVM: OpenJDK 64-Bit Server VM\n",
       "Default Encoding: UTF-8\n",
       "Language: en\n",
       "Country: null\n",
       "--></g></svg>"
      ]
     },
     "execution_count": 57,
     "metadata": {},
     "output_type": "execute_result"
    }
   ],
   "source": [
    "%viz --style=\"ORTHOLINE\" --view=\"MIXED\" \"ParameterTest\""
   ]
  }
 ],
 "metadata": {
  "kernelspec": {
   "display_name": "SysML",
   "language": "sysml",
   "name": "sysml"
  },
  "language_info": {
   "codemirror_mode": "sysml",
   "file_extension": ".sysml",
   "mimetype": "text/x-sysml",
   "name": "SysML",
   "pygments_lexer": "java",
   "version": "1.0.0"
  }
 },
 "nbformat": 4,
 "nbformat_minor": 5
}
