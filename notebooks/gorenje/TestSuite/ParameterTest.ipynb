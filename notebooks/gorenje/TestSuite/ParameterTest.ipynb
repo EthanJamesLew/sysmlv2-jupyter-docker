{
 "cells": [
  {
   "cell_type": "markdown",
   "id": "cd5cd6d5",
   "metadata": {},
   "source": [
    "# SysML v2 Test Suite\n",
    "\n",
    "This can notebook can be cleared using menu `Edit --> Clear All Outputs` and then all cells can be\n",
    "run using menu `Run --> Run All Cells`.\n",
    "\n",
    "**WARNING**: This file is generated, all modifications here will be ignored.\n"
   ]
  },
  {
   "cell_type": "markdown",
   "id": "6a40e3ee",
   "metadata": {},
   "source": [
    "## File: ../../sysml/src/examples/Simple Tests/ParameterTest.sysml"
   ]
  },
  {
   "cell_type": "code",
   "execution_count": 1,
   "id": "81abf0fc",
   "metadata": {
    "execution": {
     "iopub.execute_input": "2021-11-13T12:59:12.937459Z",
     "iopub.status.busy": "2021-11-13T12:59:12.935822Z",
     "iopub.status.idle": "2021-11-13T12:59:13.252342Z",
     "shell.execute_reply": "2021-11-13T12:59:13.252675Z"
    }
   },
   "outputs": [
    {
     "data": {
      "text/plain": [
       "Package ParameterTest (c20aca13-0abf-4da9-b779-ec3c951403f8)\n"
      ]
     },
     "execution_count": 1,
     "metadata": {},
     "output_type": "execute_result"
    }
   ],
   "source": [
    "package ParameterTest {\n",
    "\tattribute def A {\n",
    "\t\tattribute x : ScalarValues::String;\n",
    "\t\tattribute y : A;\n",
    "\t}\n",
    "\t\n",
    "\tattribute a : A;\n",
    "\t\n",
    "\tcalc def F (p : A, q : ScalarValues::Integer): ScalarValues::Integer;\n",
    "\t\n",
    "\tattribute f = F(a, 2);\n",
    "\tattribute g = F(q = 1, p = a);\n",
    "\t\n",
    "\tattribute b = A(y=a, x=\"\"); \n",
    "\tattribute c = A(\"test2\");\n",
    "}"
   ]
  },
  {
   "cell_type": "code",
   "execution_count": 2,
   "id": "d254c9e6",
   "metadata": {
    "execution": {
     "iopub.execute_input": "2021-11-13T12:59:13.302904Z",
     "iopub.status.busy": "2021-11-13T12:59:13.302477Z",
     "iopub.status.idle": "2021-11-13T12:59:13.767545Z",
     "shell.execute_reply": "2021-11-13T12:59:13.765609Z"
    }
   },
   "outputs": [
    {
     "data": {
      "image/svg+xml": [
       "<?xml version=\"1.0\" encoding=\"UTF-8\" standalone=\"no\"?><svg xmlns=\"http://www.w3.org/2000/svg\" xmlns:xlink=\"http://www.w3.org/1999/xlink\" contentScriptType=\"application/ecmascript\" contentStyleType=\"text/css\" height=\"403px\" preserveAspectRatio=\"none\" style=\"width:744px;height:403px;\" version=\"1.1\" viewBox=\"0 0 744 403\" width=\"744px\" zoomAndPan=\"magnify\"><defs/><g><!--MD5=[fbc87193dbaf4d95561dea2c320d4a47]\n",
       "cluster E1--><a href=\"psysml:19b06251-fe6f-4e99-9afa-d6889eb7a18f\" target=\"_top\" title=\"psysml:19b06251-fe6f-4e99-9afa-d6889eb7a18f\" xlink:actuate=\"onRequest\" xlink:href=\"psysml:19b06251-fe6f-4e99-9afa-d6889eb7a18f\" xlink:show=\"new\" xlink:title=\"psysml:19b06251-fe6f-4e99-9afa-d6889eb7a18f\" xlink:type=\"simple\"><polygon fill=\"#FFFFFF\" points=\"16,6,124,6,131,28.2969,722,28.2969,722,391.72,16,391.72,16,6\" style=\"stroke: #000000; stroke-width: 1.5;\"/><line style=\"stroke: #000000; stroke-width: 1.5;\" x1=\"16\" x2=\"131\" y1=\"28.2969\" y2=\"28.2969\"/><text fill=\"#000000\" font-family=\"sans-serif\" font-size=\"14\" font-weight=\"bold\" lengthAdjust=\"spacingAndGlyphs\" textLength=\"102\" x=\"20\" y=\"20.9951\">ParameterTest</text></a><!--MD5=[f6df4d0ebaf0b5dfb2ced0ae5af7c670]\n",
       "cluster E4--><a href=\"psysml:87bb354b-94c0-403b-b7cb-102c1c7ef37a\" target=\"_top\" title=\"psysml:87bb354b-94c0-403b-b7cb-102c1c7ef37a\" xlink:actuate=\"onRequest\" xlink:href=\"psysml:87bb354b-94c0-403b-b7cb-102c1c7ef37a\" xlink:show=\"new\" xlink:title=\"psysml:87bb354b-94c0-403b-b7cb-102c1c7ef37a\" xlink:type=\"simple\"><rect fill=\"#FFFFFF\" height=\"297.72\" id=\"E4\" style=\"stroke: #383838; stroke-width: 1.5;\" width=\"150\" x=\"556\" y=\"64\"/><rect fill=\"#F8F8F8\" height=\"37.9375\" style=\"stroke: #383838; stroke-width: 1.5;\" width=\"150\" x=\"556\" y=\"64\"/><text fill=\"#000000\" font-family=\"sans-serif\" font-size=\"12\" font-style=\"italic\" lengthAdjust=\"spacingAndGlyphs\" textLength=\"110\" x=\"576\" y=\"80.1387\">«calculation  def»</text><text fill=\"#000000\" font-family=\"sans-serif\" font-size=\"12\" lengthAdjust=\"spacingAndGlyphs\" textLength=\"7\" x=\"627.5\" y=\"94.1074\">F</text></a><!--MD5=[b4997ac47864f28c2f74865a473b2911]\n",
       "class E2--><a href=\"psysml:a687f627-404e-4522-a6e9-e30e4b3087b4\" target=\"_top\" title=\"psysml:a687f627-404e-4522-a6e9-e30e4b3087b4\" xlink:actuate=\"onRequest\" xlink:href=\"psysml:a687f627-404e-4522-a6e9-e30e4b3087b4\" xlink:show=\"new\" xlink:title=\"psysml:a687f627-404e-4522-a6e9-e30e4b3087b4\" xlink:type=\"simple\"><rect fill=\"#FFFFFF\" height=\"88.3516\" id=\"E2\" style=\"stroke: #383838; stroke-width: 1.5;\" width=\"99\" x=\"418.5\" y=\"147\"/><text fill=\"#000000\" font-family=\"sans-serif\" font-size=\"12\" font-style=\"italic\" lengthAdjust=\"spacingAndGlyphs\" textLength=\"97\" x=\"419.5\" y=\"163.1387\">«attribute  def»</text><text fill=\"#000000\" font-family=\"sans-serif\" font-size=\"12\" lengthAdjust=\"spacingAndGlyphs\" textLength=\"8\" x=\"464\" y=\"177.1074\">A</text><line style=\"stroke: #383838; stroke-width: 1.5;\" x1=\"419.5\" x2=\"516.5\" y1=\"184.9375\" y2=\"184.9375\"/><text fill=\"#000000\" font-family=\"sans-serif\" font-size=\"11\" lengthAdjust=\"spacingAndGlyphs\" textLength=\"48\" x=\"424.5\" y=\"215.9526\">x: String</text><text fill=\"#000000\" font-family=\"sans-serif\" font-size=\"11\" lengthAdjust=\"spacingAndGlyphs\" textLength=\"21\" x=\"424.5\" y=\"228.7573\">y: A</text><line style=\"stroke: #383838; stroke-width: 1.0;\" x1=\"419.5\" x2=\"440.5\" y1=\"199.3398\" y2=\"199.3398\"/><text fill=\"#000000\" font-family=\"sans-serif\" font-size=\"11\" lengthAdjust=\"spacingAndGlyphs\" textLength=\"55\" x=\"440.5\" y=\"202.6479\">attributes</text><line style=\"stroke: #383838; stroke-width: 1.0;\" x1=\"495.5\" x2=\"516.5\" y1=\"199.3398\" y2=\"199.3398\"/></a><!--MD5=[09b614a08d8cba4a07c9adeb5e0fee81]\n",
       "class E3--><a href=\"psysml:080a965c-bda9-42ef-b0e7-dadea2c4de7a\" target=\"_top\" title=\"psysml:080a965c-bda9-42ef-b0e7-dadea2c4de7a\" xlink:actuate=\"onRequest\" xlink:href=\"psysml:080a965c-bda9-42ef-b0e7-dadea2c4de7a\" xlink:show=\"new\" xlink:title=\"psysml:080a965c-bda9-42ef-b0e7-dadea2c4de7a\" xlink:type=\"simple\"><rect fill=\"#FFFFFF\" height=\"45.9375\" id=\"E3\" rx=\"10\" ry=\"10\" style=\"stroke: #383838; stroke-width: 1.5;\" width=\"71\" x=\"456.5\" y=\"41\"/><text fill=\"#000000\" font-family=\"sans-serif\" font-size=\"12\" font-style=\"italic\" lengthAdjust=\"spacingAndGlyphs\" textLength=\"69\" x=\"457.5\" y=\"57.1387\">«attribute»</text><text fill=\"#000000\" font-family=\"sans-serif\" font-size=\"12\" lengthAdjust=\"spacingAndGlyphs\" textLength=\"24\" x=\"478\" y=\"71.1074\">a: A</text><line style=\"stroke: #383838; stroke-width: 1.5;\" x1=\"457.5\" x2=\"526.5\" y1=\"78.9375\" y2=\"78.9375\"/></a><!--MD5=[b9389687b975829384b498ac4b7476b2]\n",
       "class E8--><a href=\"psysml:a95297bf-d64f-43ac-86b7-f9f55eba203a\" target=\"_top\" title=\"psysml:a95297bf-d64f-43ac-86b7-f9f55eba203a\" xlink:actuate=\"onRequest\" xlink:href=\"psysml:a95297bf-d64f-43ac-86b7-f9f55eba203a\" xlink:show=\"new\" xlink:title=\"psysml:a95297bf-d64f-43ac-86b7-f9f55eba203a\" xlink:type=\"simple\"><rect fill=\"#FFFFFF\" height=\"45.9375\" id=\"E8\" rx=\"10\" ry=\"10\" style=\"stroke: #383838; stroke-width: 1.5;\" width=\"71\" x=\"350.5\" y=\"41\"/><text fill=\"#000000\" font-family=\"sans-serif\" font-size=\"12\" font-style=\"italic\" lengthAdjust=\"spacingAndGlyphs\" textLength=\"69\" x=\"351.5\" y=\"57.1387\">«attribute»</text><text fill=\"#000000\" font-family=\"sans-serif\" font-size=\"12\" lengthAdjust=\"spacingAndGlyphs\" textLength=\"4\" x=\"384\" y=\"71.1074\">f</text><line style=\"stroke: #383838; stroke-width: 1.5;\" x1=\"351.5\" x2=\"420.5\" y1=\"78.9375\" y2=\"78.9375\"/></a><!--MD5=[fd4143e9d270a159db93a4ea2a975926]\n",
       "class E9--><a href=\"psysml:778a48ec-a539-4294-8634-0d41b068db9f\" target=\"_top\" title=\"psysml:778a48ec-a539-4294-8634-0d41b068db9f\" xlink:actuate=\"onRequest\" xlink:href=\"psysml:778a48ec-a539-4294-8634-0d41b068db9f\" xlink:show=\"new\" xlink:title=\"psysml:778a48ec-a539-4294-8634-0d41b068db9f\" xlink:type=\"simple\"><rect fill=\"#FFFFFF\" height=\"45.9375\" id=\"E9\" rx=\"10\" ry=\"10\" style=\"stroke: #383838; stroke-width: 1.5;\" width=\"71\" x=\"244.5\" y=\"41\"/><text fill=\"#000000\" font-family=\"sans-serif\" font-size=\"12\" font-style=\"italic\" lengthAdjust=\"spacingAndGlyphs\" textLength=\"69\" x=\"245.5\" y=\"57.1387\">«attribute»</text><text fill=\"#000000\" font-family=\"sans-serif\" font-size=\"12\" lengthAdjust=\"spacingAndGlyphs\" textLength=\"8\" x=\"276\" y=\"71.1074\">g</text><line style=\"stroke: #383838; stroke-width: 1.5;\" x1=\"245.5\" x2=\"314.5\" y1=\"78.9375\" y2=\"78.9375\"/></a><!--MD5=[96f4274e9e20536e775497830990834d]\n",
       "class E10--><a href=\"psysml:178fd1be-66b7-4b93-9f69-0783143b2542\" target=\"_top\" title=\"psysml:178fd1be-66b7-4b93-9f69-0783143b2542\" xlink:actuate=\"onRequest\" xlink:href=\"psysml:178fd1be-66b7-4b93-9f69-0783143b2542\" xlink:show=\"new\" xlink:title=\"psysml:178fd1be-66b7-4b93-9f69-0783143b2542\" xlink:type=\"simple\"><rect fill=\"#FFFFFF\" height=\"45.9375\" id=\"E10\" rx=\"10\" ry=\"10\" style=\"stroke: #383838; stroke-width: 1.5;\" width=\"71\" x=\"138.5\" y=\"41\"/><text fill=\"#000000\" font-family=\"sans-serif\" font-size=\"12\" font-style=\"italic\" lengthAdjust=\"spacingAndGlyphs\" textLength=\"69\" x=\"139.5\" y=\"57.1387\">«attribute»</text><text fill=\"#000000\" font-family=\"sans-serif\" font-size=\"12\" lengthAdjust=\"spacingAndGlyphs\" textLength=\"8\" x=\"170\" y=\"71.1074\">b</text><line style=\"stroke: #383838; stroke-width: 1.5;\" x1=\"139.5\" x2=\"208.5\" y1=\"78.9375\" y2=\"78.9375\"/></a><!--MD5=[1dd1bfd58a279cf63c5f349dbc8fc6a1]\n",
       "class E11--><a href=\"psysml:ce14b558-47dc-4a37-8f10-4afbd6cf7826\" target=\"_top\" title=\"psysml:ce14b558-47dc-4a37-8f10-4afbd6cf7826\" xlink:actuate=\"onRequest\" xlink:href=\"psysml:ce14b558-47dc-4a37-8f10-4afbd6cf7826\" xlink:show=\"new\" xlink:title=\"psysml:ce14b558-47dc-4a37-8f10-4afbd6cf7826\" xlink:type=\"simple\"><rect fill=\"#FFFFFF\" height=\"45.9375\" id=\"E11\" rx=\"10\" ry=\"10\" style=\"stroke: #383838; stroke-width: 1.5;\" width=\"71\" x=\"32.5\" y=\"41\"/><text fill=\"#000000\" font-family=\"sans-serif\" font-size=\"12\" font-style=\"italic\" lengthAdjust=\"spacingAndGlyphs\" textLength=\"69\" x=\"33.5\" y=\"57.1387\">«attribute»</text><text fill=\"#000000\" font-family=\"sans-serif\" font-size=\"12\" lengthAdjust=\"spacingAndGlyphs\" textLength=\"7\" x=\"64.5\" y=\"71.1074\">c</text><line style=\"stroke: #383838; stroke-width: 1.5;\" x1=\"33.5\" x2=\"102.5\" y1=\"78.9375\" y2=\"78.9375\"/></a><text fill=\"#000000\" font-family=\"sans-serif\" font-size=\"14\" lengthAdjust=\"spacingAndGlyphs\" textLength=\"9\" x=\"569.5\" y=\"42.6982\">p</text><rect fill=\"#383838\" height=\"12\" style=\"stroke: #F8F8F8; stroke-width: 1.5;\" width=\"12\" x=\"568\" y=\"58\"/><text fill=\"#000000\" font-family=\"sans-serif\" font-size=\"14\" lengthAdjust=\"spacingAndGlyphs\" textLength=\"9\" x=\"616.5\" y=\"42.6982\">q</text><rect fill=\"#383838\" height=\"12\" style=\"stroke: #F8F8F8; stroke-width: 1.5;\" width=\"12\" x=\"615\" y=\"58\"/><text fill=\"#000000\" font-family=\"sans-serif\" font-size=\"14\" lengthAdjust=\"spacingAndGlyphs\" textLength=\"39\" x=\"601.5\" y=\"380.7151\">result</text><rect fill=\"#383838\" height=\"12\" style=\"stroke: #F8F8F8; stroke-width: 1.5;\" width=\"12\" x=\"615\" y=\"355.72\"/><!--MD5=[05d275557350bfb9b23a4ef7222b4c39]\n",
       "link E3 to E2--><a href=\"psysml:f36357d4-9dbb-46b9-9535-0d41e0b85630\" target=\"_top\" title=\"psysml:f36357d4-9dbb-46b9-9535-0d41e0b85630\" xlink:actuate=\"onRequest\" xlink:href=\"psysml:f36357d4-9dbb-46b9-9535-0d41e0b85630\" xlink:show=\"new\" xlink:title=\"psysml:f36357d4-9dbb-46b9-9535-0d41e0b85630\" xlink:type=\"simple\"><path d=\"M487.76,87.06 C485.61,98.3 482.86,112.6 480.11,126.95 \" fill=\"none\" id=\"E3-&gt;E2\" style=\"stroke: #383838; stroke-width: 1.0;\"/><polygon fill=\"#FFFFFF\" points=\"476.27,146.93,472.9781,126.9509,486.727,129.5907,476.27,146.93\" style=\"stroke: #383838; stroke-width: 1.0;\"/><ellipse cx=\"476.017\" cy=\"121.7303\" fill=\"#383838\" rx=\"2\" ry=\"2\" style=\"stroke: #383838; stroke-width: 1.0;\"/><ellipse cx=\"485.8376\" cy=\"123.6158\" fill=\"#383838\" rx=\"2\" ry=\"2\" style=\"stroke: #383838; stroke-width: 1.0;\"/></a><!--MD5=[958420db9d5ec5b2e068c7efe211c455]\n",
       "@startuml\r\n",
       " skinparam monochrome true\r\n",
       "skinparam classbackgroundcolor white\r\n",
       "skinparam shadowing false\r\n",
       "skinparam wrapWidth 300\r\n",
       "hide circle\r\n",
       "\r\n",
       "package \"ParameterTest\" as E1  [[psysml:19b06251-fe6f-4e99-9afa-d6889eb7a18f ]]  {\r\n",
       "comp def \"A\" as E2  <<(T,blue) attribute  def>> [[psysml:a687f627-404e-4522-a6e9-e30e4b3087b4 ]] {\r\n",
       "- - attributes - -\r\n",
       "x: String\r\n",
       "y: A\r\n",
       "}\r\n",
       "comp usage \"a: A \" as E3  <<(T,blue) attribute>> [[psysml:080a965c-bda9-42ef-b0e7-dadea2c4de7a ]] {\r\n",
       "}\r\n",
       "rec def \"F\" as E4  <<(T,blue) calculation  def>> [[psysml:87bb354b-94c0-403b-b7cb-102c1c7ef37a ]] {\r\n",
       "portin \"p\" as E5  [[psysml:16f7e9d3-43d0-4287-8a70-cbe1c91459d8 ]] \r\n",
       "portin \"q\" as E6  [[psysml:b2699d44-082f-48d9-8fe4-b2b87d72af88 ]] \r\n",
       "portout \"result\" as E7  [[psysml:efe4aa1f-bd0b-42c7-877f-48fcbd913317 ]] \r\n",
       "}\r\n",
       "\r\n",
       "comp usage \"f\" as E8  <<(T,blue) attribute>> [[psysml:a95297bf-d64f-43ac-86b7-f9f55eba203a ]] {\r\n",
       "}\r\n",
       "comp usage \"g\" as E9  <<(T,blue) attribute>> [[psysml:778a48ec-a539-4294-8634-0d41b068db9f ]] {\r\n",
       "}\r\n",
       "comp usage \"b\" as E10  <<(T,blue) attribute>> [[psysml:178fd1be-66b7-4b93-9f69-0783143b2542 ]] {\r\n",
       "}\r\n",
       "comp usage \"c\" as E11  <<(T,blue) attribute>> [[psysml:ce14b558-47dc-4a37-8f10-4afbd6cf7826 ]] {\r\n",
       "}\r\n",
       "}\r\n",
       "E3 - -:|> E2 [[psysml:f36357d4-9dbb-46b9-9535-0d41e0b85630 ]] \r\n",
       "@enduml\r\n",
       "\n",
       "PlantUML version 1.2020.13(Sat Jun 13 12:26:38 UTC 2020)\n",
       "(EPL source distribution)\n",
       "Java Runtime: OpenJDK Runtime Environment\n",
       "JVM: OpenJDK 64-Bit Server VM\n",
       "Default Encoding: UTF-8\n",
       "Language: en\n",
       "Country: null\n",
       "--></g></svg>"
      ]
     },
     "execution_count": 2,
     "metadata": {},
     "output_type": "execute_result"
    }
   ],
   "source": [
    "%viz --style=\"COMPTREE\" --view=\"Default\" \"ParameterTest\""
   ]
  },
  {
   "cell_type": "code",
   "execution_count": 3,
   "id": "fe57afd9",
   "metadata": {
    "execution": {
     "iopub.execute_input": "2021-11-13T12:59:13.816793Z",
     "iopub.status.busy": "2021-11-13T12:59:13.816370Z",
     "iopub.status.idle": "2021-11-13T12:59:13.934083Z",
     "shell.execute_reply": "2021-11-13T12:59:13.934400Z"
    }
   },
   "outputs": [
    {
     "data": {
      "image/svg+xml": [
       "<?xml version=\"1.0\" encoding=\"UTF-8\" standalone=\"no\"?><svg xmlns=\"http://www.w3.org/2000/svg\" xmlns:xlink=\"http://www.w3.org/1999/xlink\" contentScriptType=\"application/ecmascript\" contentStyleType=\"text/css\" height=\"322px\" preserveAspectRatio=\"none\" style=\"width:714px;height:322px;\" version=\"1.1\" viewBox=\"0 0 714 322\" width=\"714px\" zoomAndPan=\"magnify\"><defs/><g><!--MD5=[fbc87193dbaf4d95561dea2c320d4a47]\n",
       "cluster E1--><a href=\"psysml:19b06251-fe6f-4e99-9afa-d6889eb7a18f\" target=\"_top\" title=\"psysml:19b06251-fe6f-4e99-9afa-d6889eb7a18f\" xlink:actuate=\"onRequest\" xlink:href=\"psysml:19b06251-fe6f-4e99-9afa-d6889eb7a18f\" xlink:show=\"new\" xlink:title=\"psysml:19b06251-fe6f-4e99-9afa-d6889eb7a18f\" xlink:type=\"simple\"><polygon fill=\"#FFFFFF\" points=\"16,6,124,6,131,28.2969,692,28.2969,692,310,16,310,16,6\" style=\"stroke: #000000; stroke-width: 1.5;\"/><line style=\"stroke: #000000; stroke-width: 1.5;\" x1=\"16\" x2=\"131\" y1=\"28.2969\" y2=\"28.2969\"/><text fill=\"#000000\" font-family=\"sans-serif\" font-size=\"14\" font-weight=\"bold\" lengthAdjust=\"spacingAndGlyphs\" textLength=\"102\" x=\"20\" y=\"20.9951\">ParameterTest</text></a><!--MD5=[b4997ac47864f28c2f74865a473b2911]\n",
       "class E2--><a href=\"psysml:a687f627-404e-4522-a6e9-e30e4b3087b4\" target=\"_top\" title=\"psysml:a687f627-404e-4522-a6e9-e30e4b3087b4\" xlink:actuate=\"onRequest\" xlink:href=\"psysml:a687f627-404e-4522-a6e9-e30e4b3087b4\" xlink:show=\"new\" xlink:title=\"psysml:a687f627-404e-4522-a6e9-e30e4b3087b4\" xlink:type=\"simple\"><rect fill=\"#FFFFFF\" height=\"88.3516\" id=\"E2\" style=\"stroke: #383838; stroke-width: 1.5;\" width=\"99\" x=\"513.5\" y=\"206\"/><text fill=\"#000000\" font-family=\"sans-serif\" font-size=\"12\" font-style=\"italic\" lengthAdjust=\"spacingAndGlyphs\" textLength=\"97\" x=\"514.5\" y=\"222.1387\">«attribute  def»</text><text fill=\"#000000\" font-family=\"sans-serif\" font-size=\"12\" lengthAdjust=\"spacingAndGlyphs\" textLength=\"8\" x=\"559\" y=\"236.1074\">A</text><line style=\"stroke: #383838; stroke-width: 1.5;\" x1=\"514.5\" x2=\"611.5\" y1=\"243.9375\" y2=\"243.9375\"/><text fill=\"#000000\" font-family=\"sans-serif\" font-size=\"11\" lengthAdjust=\"spacingAndGlyphs\" textLength=\"48\" x=\"519.5\" y=\"274.9526\">x: String</text><text fill=\"#000000\" font-family=\"sans-serif\" font-size=\"11\" lengthAdjust=\"spacingAndGlyphs\" textLength=\"21\" x=\"519.5\" y=\"287.7573\">y: A</text><line style=\"stroke: #383838; stroke-width: 1.0;\" x1=\"514.5\" x2=\"535.5\" y1=\"258.3398\" y2=\"258.3398\"/><text fill=\"#000000\" font-family=\"sans-serif\" font-size=\"11\" lengthAdjust=\"spacingAndGlyphs\" textLength=\"55\" x=\"535.5\" y=\"261.6479\">attributes</text><line style=\"stroke: #383838; stroke-width: 1.0;\" x1=\"590.5\" x2=\"611.5\" y1=\"258.3398\" y2=\"258.3398\"/></a><!--MD5=[09b614a08d8cba4a07c9adeb5e0fee81]\n",
       "class E3--><a href=\"psysml:080a965c-bda9-42ef-b0e7-dadea2c4de7a\" target=\"_top\" title=\"psysml:080a965c-bda9-42ef-b0e7-dadea2c4de7a\" xlink:actuate=\"onRequest\" xlink:href=\"psysml:080a965c-bda9-42ef-b0e7-dadea2c4de7a\" xlink:show=\"new\" xlink:title=\"psysml:080a965c-bda9-42ef-b0e7-dadea2c4de7a\" xlink:type=\"simple\"><rect fill=\"#FFFFFF\" height=\"45.9375\" id=\"E3\" rx=\"10\" ry=\"10\" style=\"stroke: #383838; stroke-width: 1.5;\" width=\"71\" x=\"604.5\" y=\"62\"/><text fill=\"#000000\" font-family=\"sans-serif\" font-size=\"12\" font-style=\"italic\" lengthAdjust=\"spacingAndGlyphs\" textLength=\"69\" x=\"605.5\" y=\"78.1387\">«attribute»</text><text fill=\"#000000\" font-family=\"sans-serif\" font-size=\"12\" lengthAdjust=\"spacingAndGlyphs\" textLength=\"24\" x=\"626\" y=\"92.1074\">a: A</text><line style=\"stroke: #383838; stroke-width: 1.5;\" x1=\"605.5\" x2=\"674.5\" y1=\"99.9375\" y2=\"99.9375\"/></a><!--MD5=[ebbe1d658d1005bcc118a6aa81145e00]\n",
       "class E4--><a href=\"psysml:87bb354b-94c0-403b-b7cb-102c1c7ef37a\" target=\"_top\" title=\"psysml:87bb354b-94c0-403b-b7cb-102c1c7ef37a\" xlink:actuate=\"onRequest\" xlink:href=\"psysml:87bb354b-94c0-403b-b7cb-102c1c7ef37a\" xlink:show=\"new\" xlink:title=\"psysml:87bb354b-94c0-403b-b7cb-102c1c7ef37a\" xlink:type=\"simple\"><rect fill=\"#FFFFFF\" height=\"88.3516\" id=\"E4\" style=\"stroke: #383838; stroke-width: 1.5;\" width=\"112\" x=\"457\" y=\"41\"/><text fill=\"#000000\" font-family=\"sans-serif\" font-size=\"12\" font-style=\"italic\" lengthAdjust=\"spacingAndGlyphs\" textLength=\"110\" x=\"458\" y=\"57.1387\">«calculation  def»</text><text fill=\"#000000\" font-family=\"sans-serif\" font-size=\"12\" lengthAdjust=\"spacingAndGlyphs\" textLength=\"7\" x=\"509.5\" y=\"71.1074\">F</text><line style=\"stroke: #383838; stroke-width: 1.5;\" x1=\"458\" x2=\"568\" y1=\"78.9375\" y2=\"78.9375\"/><text fill=\"#000000\" font-family=\"sans-serif\" font-size=\"11\" font-weight=\"bold\" lengthAdjust=\"spacingAndGlyphs\" textLength=\"10\" x=\"463\" y=\"109.9526\">in</text><text fill=\"#000000\" font-family=\"sans-serif\" font-size=\"11\" lengthAdjust=\"spacingAndGlyphs\" textLength=\"22\" x=\"477\" y=\"109.9526\">p: A</text><text fill=\"#000000\" font-family=\"sans-serif\" font-size=\"11\" font-weight=\"bold\" lengthAdjust=\"spacingAndGlyphs\" textLength=\"10\" x=\"463\" y=\"122.7573\">in</text><text fill=\"#000000\" font-family=\"sans-serif\" font-size=\"11\" lengthAdjust=\"spacingAndGlyphs\" textLength=\"55\" x=\"477\" y=\"122.7573\">q: Integer</text><line style=\"stroke: #383838; stroke-width: 1.0;\" x1=\"458\" x2=\"479.5\" y1=\"93.3398\" y2=\"93.3398\"/><text fill=\"#000000\" font-family=\"sans-serif\" font-size=\"11\" lengthAdjust=\"spacingAndGlyphs\" textLength=\"67\" x=\"479.5\" y=\"96.6479\">parameters</text><line style=\"stroke: #383838; stroke-width: 1.0;\" x1=\"546.5\" x2=\"568\" y1=\"93.3398\" y2=\"93.3398\"/></a><!--MD5=[270fce915f116d4de14055a7c1d9a0f3]\n",
       "class E5--><a href=\"psysml:a95297bf-d64f-43ac-86b7-f9f55eba203a\" target=\"_top\" title=\"psysml:a95297bf-d64f-43ac-86b7-f9f55eba203a\" xlink:actuate=\"onRequest\" xlink:href=\"psysml:a95297bf-d64f-43ac-86b7-f9f55eba203a\" xlink:show=\"new\" xlink:title=\"psysml:a95297bf-d64f-43ac-86b7-f9f55eba203a\" xlink:type=\"simple\"><rect fill=\"#FFFFFF\" height=\"45.9375\" id=\"E5\" rx=\"10\" ry=\"10\" style=\"stroke: #383838; stroke-width: 1.5;\" width=\"71\" x=\"350.5\" y=\"62\"/><text fill=\"#000000\" font-family=\"sans-serif\" font-size=\"12\" font-style=\"italic\" lengthAdjust=\"spacingAndGlyphs\" textLength=\"69\" x=\"351.5\" y=\"78.1387\">«attribute»</text><text fill=\"#000000\" font-family=\"sans-serif\" font-size=\"12\" lengthAdjust=\"spacingAndGlyphs\" textLength=\"4\" x=\"384\" y=\"92.1074\">f</text><line style=\"stroke: #383838; stroke-width: 1.5;\" x1=\"351.5\" x2=\"420.5\" y1=\"99.9375\" y2=\"99.9375\"/></a><!--MD5=[60a26617385b1d2d0262a64233df1f8d]\n",
       "class E6--><a href=\"psysml:778a48ec-a539-4294-8634-0d41b068db9f\" target=\"_top\" title=\"psysml:778a48ec-a539-4294-8634-0d41b068db9f\" xlink:actuate=\"onRequest\" xlink:href=\"psysml:778a48ec-a539-4294-8634-0d41b068db9f\" xlink:show=\"new\" xlink:title=\"psysml:778a48ec-a539-4294-8634-0d41b068db9f\" xlink:type=\"simple\"><rect fill=\"#FFFFFF\" height=\"45.9375\" id=\"E6\" rx=\"10\" ry=\"10\" style=\"stroke: #383838; stroke-width: 1.5;\" width=\"71\" x=\"244.5\" y=\"62\"/><text fill=\"#000000\" font-family=\"sans-serif\" font-size=\"12\" font-style=\"italic\" lengthAdjust=\"spacingAndGlyphs\" textLength=\"69\" x=\"245.5\" y=\"78.1387\">«attribute»</text><text fill=\"#000000\" font-family=\"sans-serif\" font-size=\"12\" lengthAdjust=\"spacingAndGlyphs\" textLength=\"8\" x=\"276\" y=\"92.1074\">g</text><line style=\"stroke: #383838; stroke-width: 1.5;\" x1=\"245.5\" x2=\"314.5\" y1=\"99.9375\" y2=\"99.9375\"/></a><!--MD5=[2156ba9850f5573cc1fc38a6a4b2f02b]\n",
       "class E7--><a href=\"psysml:178fd1be-66b7-4b93-9f69-0783143b2542\" target=\"_top\" title=\"psysml:178fd1be-66b7-4b93-9f69-0783143b2542\" xlink:actuate=\"onRequest\" xlink:href=\"psysml:178fd1be-66b7-4b93-9f69-0783143b2542\" xlink:show=\"new\" xlink:title=\"psysml:178fd1be-66b7-4b93-9f69-0783143b2542\" xlink:type=\"simple\"><rect fill=\"#FFFFFF\" height=\"45.9375\" id=\"E7\" rx=\"10\" ry=\"10\" style=\"stroke: #383838; stroke-width: 1.5;\" width=\"71\" x=\"138.5\" y=\"62\"/><text fill=\"#000000\" font-family=\"sans-serif\" font-size=\"12\" font-style=\"italic\" lengthAdjust=\"spacingAndGlyphs\" textLength=\"69\" x=\"139.5\" y=\"78.1387\">«attribute»</text><text fill=\"#000000\" font-family=\"sans-serif\" font-size=\"12\" lengthAdjust=\"spacingAndGlyphs\" textLength=\"8\" x=\"170\" y=\"92.1074\">b</text><line style=\"stroke: #383838; stroke-width: 1.5;\" x1=\"139.5\" x2=\"208.5\" y1=\"99.9375\" y2=\"99.9375\"/></a><!--MD5=[b9389687b975829384b498ac4b7476b2]\n",
       "class E8--><a href=\"psysml:ce14b558-47dc-4a37-8f10-4afbd6cf7826\" target=\"_top\" title=\"psysml:ce14b558-47dc-4a37-8f10-4afbd6cf7826\" xlink:actuate=\"onRequest\" xlink:href=\"psysml:ce14b558-47dc-4a37-8f10-4afbd6cf7826\" xlink:show=\"new\" xlink:title=\"psysml:ce14b558-47dc-4a37-8f10-4afbd6cf7826\" xlink:type=\"simple\"><rect fill=\"#FFFFFF\" height=\"45.9375\" id=\"E8\" rx=\"10\" ry=\"10\" style=\"stroke: #383838; stroke-width: 1.5;\" width=\"71\" x=\"32.5\" y=\"62\"/><text fill=\"#000000\" font-family=\"sans-serif\" font-size=\"12\" font-style=\"italic\" lengthAdjust=\"spacingAndGlyphs\" textLength=\"69\" x=\"33.5\" y=\"78.1387\">«attribute»</text><text fill=\"#000000\" font-family=\"sans-serif\" font-size=\"12\" lengthAdjust=\"spacingAndGlyphs\" textLength=\"7\" x=\"64.5\" y=\"92.1074\">c</text><line style=\"stroke: #383838; stroke-width: 1.5;\" x1=\"33.5\" x2=\"102.5\" y1=\"99.9375\" y2=\"99.9375\"/></a><!--MD5=[05d275557350bfb9b23a4ef7222b4c39]\n",
       "link E3 to E2--><a href=\"psysml:f36357d4-9dbb-46b9-9535-0d41e0b85630\" target=\"_top\" title=\"psysml:f36357d4-9dbb-46b9-9535-0d41e0b85630\" xlink:actuate=\"onRequest\" xlink:href=\"psysml:f36357d4-9dbb-46b9-9535-0d41e0b85630\" xlink:show=\"new\" xlink:title=\"psysml:f36357d4-9dbb-46b9-9535-0d41e0b85630\" xlink:type=\"simple\"><path d=\"M629.45,108.32 C619.8,128.75 605.07,159.95 591.92,187.77 \" fill=\"none\" id=\"E3-&gt;E2\" style=\"stroke: #383838; stroke-width: 1.0;\"/><polygon fill=\"#FFFFFF\" points=\"583.37,205.87,585.1617,185.701,597.8187,191.6843,583.37,205.87\" style=\"stroke: #383838; stroke-width: 1.0;\"/><ellipse cx=\"589.4059\" cy=\"181.4025\" fill=\"#383838\" rx=\"2\" ry=\"2\" style=\"stroke: #383838; stroke-width: 1.0;\"/><ellipse cx=\"598.4466\" cy=\"185.6763\" fill=\"#383838\" rx=\"2\" ry=\"2\" style=\"stroke: #383838; stroke-width: 1.0;\"/></a><!--MD5=[ddeed8deb2209213b62e6cfabaa108b2]\n",
       "reverse link E4 to E2--><a href=\"psysml:16f7e9d3-43d0-4287-8a70-cbe1c91459d8\" target=\"_top\" title=\"psysml:16f7e9d3-43d0-4287-8a70-cbe1c91459d8\" xlink:actuate=\"onRequest\" xlink:href=\"psysml:16f7e9d3-43d0-4287-8a70-cbe1c91459d8\" xlink:show=\"new\" xlink:title=\"psysml:16f7e9d3-43d0-4287-8a70-cbe1c91459d8\" xlink:type=\"simple\"><path d=\"M507.86,142.39 C508.25,153.71 509.71,165.38 513,176 C516.18,186.27 521.36,196.38 527.21,205.66 \" fill=\"none\" id=\"E4&lt;-E2\" style=\"stroke: #383838; stroke-width: 1.0;\"/><polygon fill=\"#FFFFFF\" points=\"507.84,129.36,503.8466,135.3644,507.8532,141.36,511.8466,135.3556,507.84,129.36\" style=\"stroke: #383838; stroke-width: 1.0;\"/><text fill=\"#000000\" font-family=\"sans-serif\" font-size=\"13\" lengthAdjust=\"spacingAndGlyphs\" textLength=\"8\" x=\"514\" y=\"172.0669\">p</text></a><!--MD5=[ddeed8deb2209213b62e6cfabaa108b2]\n",
       "reverse link E4 to E2--><a href=\"psysml:16f7e9d3-43d0-4287-8a70-cbe1c91459d8\" target=\"_top\" title=\"psysml:16f7e9d3-43d0-4287-8a70-cbe1c91459d8\" xlink:actuate=\"onRequest\" xlink:href=\"psysml:16f7e9d3-43d0-4287-8a70-cbe1c91459d8\" xlink:show=\"new\" xlink:title=\"psysml:16f7e9d3-43d0-4287-8a70-cbe1c91459d8\" xlink:type=\"simple\"><path d=\"M530.15,141.9 C536.56,162.81 543.75,186.23 549.76,205.83 \" fill=\"none\" id=\"E4&lt;-E2-1\" style=\"stroke: #383838; stroke-width: 1.0;\"/><polygon fill=\"#FFFFFF\" points=\"526.27,129.25,524.2064,136.1595,529.7907,140.7219,531.8543,133.8124,526.27,129.25\" style=\"stroke: #383838; stroke-width: 1.0;\"/><text fill=\"#000000\" font-family=\"sans-serif\" font-size=\"13\" lengthAdjust=\"spacingAndGlyphs\" textLength=\"8\" x=\"540\" y=\"172.0669\">p</text></a><!--MD5=[b36d3c10323cc902f32ea9547b8297e6]\n",
       "@startuml\r\n",
       " skinparam monochrome true\r\n",
       "skinparam classbackgroundcolor white\r\n",
       "skinparam shadowing false\r\n",
       "skinparam wrapWidth 300\r\n",
       "hide circle\r\n",
       "\r\n",
       "package \"ParameterTest\" as E1  [[psysml:19b06251-fe6f-4e99-9afa-d6889eb7a18f ]]  {\r\n",
       "comp def \"A\" as E2  <<(T,blue) attribute  def>> [[psysml:a687f627-404e-4522-a6e9-e30e4b3087b4 ]] {\r\n",
       "- - attributes - -\r\n",
       "x: String\r\n",
       "y: A\r\n",
       "}\r\n",
       "comp usage \"a: A \" as E3  <<(T,blue) attribute>> [[psysml:080a965c-bda9-42ef-b0e7-dadea2c4de7a ]] {\r\n",
       "}\r\n",
       "comp def \"F\" as E4  <<(T,blue) calculation  def>> [[psysml:87bb354b-94c0-403b-b7cb-102c1c7ef37a ]] {\r\n",
       "- - parameters - -\r\n",
       "<b>in</b> p: A\r\n",
       "<b>in</b> q: Integer\r\n",
       "}\r\n",
       "comp usage \"f\" as E5  <<(T,blue) attribute>> [[psysml:a95297bf-d64f-43ac-86b7-f9f55eba203a ]] {\r\n",
       "}\r\n",
       "comp usage \"g\" as E6  <<(T,blue) attribute>> [[psysml:778a48ec-a539-4294-8634-0d41b068db9f ]] {\r\n",
       "}\r\n",
       "comp usage \"b\" as E7  <<(T,blue) attribute>> [[psysml:178fd1be-66b7-4b93-9f69-0783143b2542 ]] {\r\n",
       "}\r\n",
       "comp usage \"c\" as E8  <<(T,blue) attribute>> [[psysml:ce14b558-47dc-4a37-8f10-4afbd6cf7826 ]] {\r\n",
       "}\r\n",
       "}\r\n",
       "E3 - -:|> E2 [[psysml:f36357d4-9dbb-46b9-9535-0d41e0b85630 ]] \r\n",
       "E4 o- - E2 [[psysml:16f7e9d3-43d0-4287-8a70-cbe1c91459d8 ]] : p\r\n",
       "E4 o- - E2 [[psysml:16f7e9d3-43d0-4287-8a70-cbe1c91459d8 ]] : p\r\n",
       "@enduml\r\n",
       "\n",
       "PlantUML version 1.2020.13(Sat Jun 13 12:26:38 UTC 2020)\n",
       "(EPL source distribution)\n",
       "Java Runtime: OpenJDK Runtime Environment\n",
       "JVM: OpenJDK 64-Bit Server VM\n",
       "Default Encoding: UTF-8\n",
       "Language: en\n",
       "Country: null\n",
       "--></g></svg>"
      ]
     },
     "execution_count": 3,
     "metadata": {},
     "output_type": "execute_result"
    }
   ],
   "source": [
    "%viz --style=\"COMPTREE\" --view=\"Tree\" \"ParameterTest\""
   ]
  },
  {
   "cell_type": "code",
   "execution_count": 4,
   "id": "d909f878",
   "metadata": {
    "execution": {
     "iopub.execute_input": "2021-11-13T12:59:13.983984Z",
     "iopub.status.busy": "2021-11-13T12:59:13.983559Z",
     "iopub.status.idle": "2021-11-13T12:59:13.989569Z",
     "shell.execute_reply": "2021-11-13T12:59:13.989857Z"
    }
   },
   "outputs": [
    {
     "data": {
      "image/svg+xml": [
       "<?xml version=\"1.0\" encoding=\"UTF-8\" standalone=\"no\"?><svg xmlns=\"http://www.w3.org/2000/svg\" xmlns:xlink=\"http://www.w3.org/1999/xlink\" contentScriptType=\"application/ecmascript\" contentStyleType=\"text/css\" height=\"12px\" preserveAspectRatio=\"none\" style=\"width:12px;height:12px;\" version=\"1.1\" viewBox=\"0 0 12 12\" width=\"12px\" zoomAndPan=\"magnify\"><defs/><g><!--MD5=[f19188ef49e11757b5c46753f95d9edc]\n",
       "@startuml\r\n",
       " skinparam monochrome true\r\n",
       "skinparam classbackgroundcolor white\r\n",
       "skinparam shadowing false\r\n",
       "skinparam wrapWidth 300\r\n",
       "hide circle\r\n",
       "\r\n",
       "@enduml\r\n",
       "\n",
       "PlantUML version 1.2020.13(Sat Jun 13 12:26:38 UTC 2020)\n",
       "(EPL source distribution)\n",
       "Java Runtime: OpenJDK Runtime Environment\n",
       "JVM: OpenJDK 64-Bit Server VM\n",
       "Default Encoding: UTF-8\n",
       "Language: en\n",
       "Country: null\n",
       "--></g></svg>"
      ]
     },
     "execution_count": 4,
     "metadata": {},
     "output_type": "execute_result"
    }
   ],
   "source": [
    "%viz --style=\"COMPTREE\" --view=\"State\" \"ParameterTest\""
   ]
  },
  {
   "cell_type": "code",
   "execution_count": 5,
   "id": "37342c6e",
   "metadata": {
    "execution": {
     "iopub.execute_input": "2021-11-13T12:59:14.039623Z",
     "iopub.status.busy": "2021-11-13T12:59:14.039186Z",
     "iopub.status.idle": "2021-11-13T12:59:14.099990Z",
     "shell.execute_reply": "2021-11-13T12:59:14.100312Z"
    }
   },
   "outputs": [
    {
     "data": {
      "image/svg+xml": [
       "<?xml version=\"1.0\" encoding=\"UTF-8\" standalone=\"no\"?><svg xmlns=\"http://www.w3.org/2000/svg\" xmlns:xlink=\"http://www.w3.org/1999/xlink\" contentScriptType=\"application/ecmascript\" contentStyleType=\"text/css\" height=\"216px\" preserveAspectRatio=\"none\" style=\"width:744px;height:216px;\" version=\"1.1\" viewBox=\"0 0 744 216\" width=\"744px\" zoomAndPan=\"magnify\"><defs/><g><!--MD5=[fbc87193dbaf4d95561dea2c320d4a47]\n",
       "cluster E1--><a href=\"psysml:19b06251-fe6f-4e99-9afa-d6889eb7a18f\" target=\"_top\" title=\"psysml:19b06251-fe6f-4e99-9afa-d6889eb7a18f\" xlink:actuate=\"onRequest\" xlink:href=\"psysml:19b06251-fe6f-4e99-9afa-d6889eb7a18f\" xlink:show=\"new\" xlink:title=\"psysml:19b06251-fe6f-4e99-9afa-d6889eb7a18f\" xlink:type=\"simple\"><polygon fill=\"#FFFFFF\" points=\"16,6,124,6,131,28.2969,722,28.2969,722,204.72,16,204.72,16,6\" style=\"stroke: #000000; stroke-width: 1.5;\"/><line style=\"stroke: #000000; stroke-width: 1.5;\" x1=\"16\" x2=\"131\" y1=\"28.2969\" y2=\"28.2969\"/><text fill=\"#000000\" font-family=\"sans-serif\" font-size=\"14\" font-weight=\"bold\" lengthAdjust=\"spacingAndGlyphs\" textLength=\"102\" x=\"20\" y=\"20.9951\">ParameterTest</text></a><!--MD5=[f6df4d0ebaf0b5dfb2ced0ae5af7c670]\n",
       "cluster E4--><a href=\"psysml:87bb354b-94c0-403b-b7cb-102c1c7ef37a\" target=\"_top\" title=\"psysml:87bb354b-94c0-403b-b7cb-102c1c7ef37a\" xlink:actuate=\"onRequest\" xlink:href=\"psysml:87bb354b-94c0-403b-b7cb-102c1c7ef37a\" xlink:show=\"new\" xlink:title=\"psysml:87bb354b-94c0-403b-b7cb-102c1c7ef37a\" xlink:type=\"simple\"><rect fill=\"#FFFFFF\" height=\"110.72\" id=\"E4\" style=\"stroke: #383838; stroke-width: 1.5;\" width=\"150\" x=\"556\" y=\"64\"/><rect fill=\"#F8F8F8\" height=\"37.9375\" style=\"stroke: #383838; stroke-width: 1.5;\" width=\"150\" x=\"556\" y=\"64\"/><text fill=\"#000000\" font-family=\"sans-serif\" font-size=\"12\" font-style=\"italic\" lengthAdjust=\"spacingAndGlyphs\" textLength=\"110\" x=\"576\" y=\"80.1387\">«calculation  def»</text><text fill=\"#000000\" font-family=\"sans-serif\" font-size=\"12\" lengthAdjust=\"spacingAndGlyphs\" textLength=\"7\" x=\"627.5\" y=\"94.1074\">F</text></a><g id=\"E1.E2\"><a href=\"psysml:a687f627-404e-4522-a6e9-e30e4b3087b4\" target=\"_top\" title=\"psysml:a687f627-404e-4522-a6e9-e30e4b3087b4\" xlink:actuate=\"onRequest\" xlink:href=\"psysml:a687f627-404e-4522-a6e9-e30e4b3087b4\" xlink:show=\"new\" xlink:title=\"psysml:a687f627-404e-4522-a6e9-e30e4b3087b4\" xlink:type=\"simple\"><rect fill=\"#FFFFFF\" height=\"42.9375\" id=\"E2\" style=\"stroke: #383838; stroke-width: 1.5;\" width=\"104\" x=\"413\" y=\"99\"/><rect fill=\"#F8F8F8\" height=\"37.9375\" style=\"stroke: #383838; stroke-width: 1.5;\" width=\"104\" x=\"413\" y=\"99\"/><text fill=\"#000000\" font-family=\"sans-serif\" font-size=\"12\" font-style=\"italic\" lengthAdjust=\"spacingAndGlyphs\" textLength=\"97\" x=\"416.5\" y=\"115.1387\">«attribute  def»</text><text fill=\"#000000\" font-family=\"sans-serif\" font-size=\"12\" lengthAdjust=\"spacingAndGlyphs\" textLength=\"8\" x=\"461\" y=\"129.1074\">A</text></a></g><!--MD5=[09b614a08d8cba4a07c9adeb5e0fee81]\n",
       "class E3--><a href=\"psysml:080a965c-bda9-42ef-b0e7-dadea2c4de7a\" target=\"_top\" title=\"psysml:080a965c-bda9-42ef-b0e7-dadea2c4de7a\" xlink:actuate=\"onRequest\" xlink:href=\"psysml:080a965c-bda9-42ef-b0e7-dadea2c4de7a\" xlink:show=\"new\" xlink:title=\"psysml:080a965c-bda9-42ef-b0e7-dadea2c4de7a\" xlink:type=\"simple\"><rect fill=\"#FFFFFF\" height=\"45.9375\" id=\"E3\" rx=\"10\" ry=\"10\" style=\"stroke: #383838; stroke-width: 1.5;\" width=\"71\" x=\"456.5\" y=\"41\"/><text fill=\"#000000\" font-family=\"sans-serif\" font-size=\"12\" font-style=\"italic\" lengthAdjust=\"spacingAndGlyphs\" textLength=\"69\" x=\"457.5\" y=\"57.1387\">«attribute»</text><text fill=\"#000000\" font-family=\"sans-serif\" font-size=\"12\" lengthAdjust=\"spacingAndGlyphs\" textLength=\"24\" x=\"478\" y=\"71.1074\">a: A</text><line style=\"stroke: #383838; stroke-width: 1.5;\" x1=\"457.5\" x2=\"526.5\" y1=\"78.9375\" y2=\"78.9375\"/></a><!--MD5=[b9389687b975829384b498ac4b7476b2]\n",
       "class E8--><a href=\"psysml:a95297bf-d64f-43ac-86b7-f9f55eba203a\" target=\"_top\" title=\"psysml:a95297bf-d64f-43ac-86b7-f9f55eba203a\" xlink:actuate=\"onRequest\" xlink:href=\"psysml:a95297bf-d64f-43ac-86b7-f9f55eba203a\" xlink:show=\"new\" xlink:title=\"psysml:a95297bf-d64f-43ac-86b7-f9f55eba203a\" xlink:type=\"simple\"><rect fill=\"#FFFFFF\" height=\"45.9375\" id=\"E8\" rx=\"10\" ry=\"10\" style=\"stroke: #383838; stroke-width: 1.5;\" width=\"71\" x=\"350.5\" y=\"41\"/><text fill=\"#000000\" font-family=\"sans-serif\" font-size=\"12\" font-style=\"italic\" lengthAdjust=\"spacingAndGlyphs\" textLength=\"69\" x=\"351.5\" y=\"57.1387\">«attribute»</text><text fill=\"#000000\" font-family=\"sans-serif\" font-size=\"12\" lengthAdjust=\"spacingAndGlyphs\" textLength=\"4\" x=\"384\" y=\"71.1074\">f</text><line style=\"stroke: #383838; stroke-width: 1.5;\" x1=\"351.5\" x2=\"420.5\" y1=\"78.9375\" y2=\"78.9375\"/></a><!--MD5=[fd4143e9d270a159db93a4ea2a975926]\n",
       "class E9--><a href=\"psysml:778a48ec-a539-4294-8634-0d41b068db9f\" target=\"_top\" title=\"psysml:778a48ec-a539-4294-8634-0d41b068db9f\" xlink:actuate=\"onRequest\" xlink:href=\"psysml:778a48ec-a539-4294-8634-0d41b068db9f\" xlink:show=\"new\" xlink:title=\"psysml:778a48ec-a539-4294-8634-0d41b068db9f\" xlink:type=\"simple\"><rect fill=\"#FFFFFF\" height=\"45.9375\" id=\"E9\" rx=\"10\" ry=\"10\" style=\"stroke: #383838; stroke-width: 1.5;\" width=\"71\" x=\"244.5\" y=\"41\"/><text fill=\"#000000\" font-family=\"sans-serif\" font-size=\"12\" font-style=\"italic\" lengthAdjust=\"spacingAndGlyphs\" textLength=\"69\" x=\"245.5\" y=\"57.1387\">«attribute»</text><text fill=\"#000000\" font-family=\"sans-serif\" font-size=\"12\" lengthAdjust=\"spacingAndGlyphs\" textLength=\"8\" x=\"276\" y=\"71.1074\">g</text><line style=\"stroke: #383838; stroke-width: 1.5;\" x1=\"245.5\" x2=\"314.5\" y1=\"78.9375\" y2=\"78.9375\"/></a><!--MD5=[96f4274e9e20536e775497830990834d]\n",
       "class E10--><a href=\"psysml:178fd1be-66b7-4b93-9f69-0783143b2542\" target=\"_top\" title=\"psysml:178fd1be-66b7-4b93-9f69-0783143b2542\" xlink:actuate=\"onRequest\" xlink:href=\"psysml:178fd1be-66b7-4b93-9f69-0783143b2542\" xlink:show=\"new\" xlink:title=\"psysml:178fd1be-66b7-4b93-9f69-0783143b2542\" xlink:type=\"simple\"><rect fill=\"#FFFFFF\" height=\"45.9375\" id=\"E10\" rx=\"10\" ry=\"10\" style=\"stroke: #383838; stroke-width: 1.5;\" width=\"71\" x=\"138.5\" y=\"41\"/><text fill=\"#000000\" font-family=\"sans-serif\" font-size=\"12\" font-style=\"italic\" lengthAdjust=\"spacingAndGlyphs\" textLength=\"69\" x=\"139.5\" y=\"57.1387\">«attribute»</text><text fill=\"#000000\" font-family=\"sans-serif\" font-size=\"12\" lengthAdjust=\"spacingAndGlyphs\" textLength=\"8\" x=\"170\" y=\"71.1074\">b</text><line style=\"stroke: #383838; stroke-width: 1.5;\" x1=\"139.5\" x2=\"208.5\" y1=\"78.9375\" y2=\"78.9375\"/></a><!--MD5=[1dd1bfd58a279cf63c5f349dbc8fc6a1]\n",
       "class E11--><a href=\"psysml:ce14b558-47dc-4a37-8f10-4afbd6cf7826\" target=\"_top\" title=\"psysml:ce14b558-47dc-4a37-8f10-4afbd6cf7826\" xlink:actuate=\"onRequest\" xlink:href=\"psysml:ce14b558-47dc-4a37-8f10-4afbd6cf7826\" xlink:show=\"new\" xlink:title=\"psysml:ce14b558-47dc-4a37-8f10-4afbd6cf7826\" xlink:type=\"simple\"><rect fill=\"#FFFFFF\" height=\"45.9375\" id=\"E11\" rx=\"10\" ry=\"10\" style=\"stroke: #383838; stroke-width: 1.5;\" width=\"71\" x=\"32.5\" y=\"41\"/><text fill=\"#000000\" font-family=\"sans-serif\" font-size=\"12\" font-style=\"italic\" lengthAdjust=\"spacingAndGlyphs\" textLength=\"69\" x=\"33.5\" y=\"57.1387\">«attribute»</text><text fill=\"#000000\" font-family=\"sans-serif\" font-size=\"12\" lengthAdjust=\"spacingAndGlyphs\" textLength=\"7\" x=\"64.5\" y=\"71.1074\">c</text><line style=\"stroke: #383838; stroke-width: 1.5;\" x1=\"33.5\" x2=\"102.5\" y1=\"78.9375\" y2=\"78.9375\"/></a><text fill=\"#000000\" font-family=\"sans-serif\" font-size=\"14\" lengthAdjust=\"spacingAndGlyphs\" textLength=\"9\" x=\"569.5\" y=\"42.6982\">p</text><rect fill=\"#383838\" height=\"12\" style=\"stroke: #F8F8F8; stroke-width: 1.5;\" width=\"12\" x=\"568\" y=\"58\"/><text fill=\"#000000\" font-family=\"sans-serif\" font-size=\"14\" lengthAdjust=\"spacingAndGlyphs\" textLength=\"9\" x=\"616.5\" y=\"42.6982\">q</text><rect fill=\"#383838\" height=\"12\" style=\"stroke: #F8F8F8; stroke-width: 1.5;\" width=\"12\" x=\"615\" y=\"58\"/><text fill=\"#000000\" font-family=\"sans-serif\" font-size=\"14\" lengthAdjust=\"spacingAndGlyphs\" textLength=\"39\" x=\"601.5\" y=\"193.7151\">result</text><rect fill=\"#383838\" height=\"12\" style=\"stroke: #F8F8F8; stroke-width: 1.5;\" width=\"12\" x=\"615\" y=\"168.72\"/><!--MD5=[05d275557350bfb9b23a4ef7222b4c39]\n",
       "link E3 to E2--><a href=\"psysml:f36357d4-9dbb-46b9-9535-0d41e0b85630\" target=\"_top\" title=\"psysml:f36357d4-9dbb-46b9-9535-0d41e0b85630\" xlink:actuate=\"onRequest\" xlink:href=\"psysml:f36357d4-9dbb-46b9-9535-0d41e0b85630\" xlink:show=\"new\" xlink:title=\"psysml:f36357d4-9dbb-46b9-9535-0d41e0b85630\" xlink:type=\"simple\"><path d=\"M481.02,87.17 C480.96,87.29 480.9,87.41 480.84,87.53 \" fill=\"none\" id=\"E3-&gt;E2\" style=\"stroke: #383838; stroke-width: 1.0;\"/><polygon fill=\"#FFFFFF\" points=\"475.19,98.93,477.3425,78.7963,489.8904,85.0052,475.19,98.93\" style=\"stroke: #383838; stroke-width: 1.0;\"/><ellipse cx=\"481.663\" cy=\"74.5745\" fill=\"#383838\" rx=\"2\" ry=\"2\" style=\"stroke: #383838; stroke-width: 1.0;\"/><ellipse cx=\"490.6257\" cy=\"79.0095\" fill=\"#383838\" rx=\"2\" ry=\"2\" style=\"stroke: #383838; stroke-width: 1.0;\"/></a><!--MD5=[09b8ddbfc59ae3b456bb298ea9fe0436]\n",
       "@startuml\r\n",
       "skinparam ranksep 10\r\n",
       "skinparam rectangle {\r\n",
       " backgroundColor<<block>> LightGreen\r\n",
       "}\r\n",
       " skinparam monochrome true\r\n",
       "skinparam classbackgroundcolor white\r\n",
       "skinparam shadowing false\r\n",
       "skinparam wrapWidth 300\r\n",
       "hide circle\r\n",
       "\r\n",
       "package \"ParameterTest\" as E1  [[psysml:19b06251-fe6f-4e99-9afa-d6889eb7a18f ]]  {\r\n",
       "def \"A\" as E2  <<(T,blue) attribute  def>> [[psysml:a687f627-404e-4522-a6e9-e30e4b3087b4 ]] \r\n",
       "comp usage \"a: A \" as E3  <<(T,blue) attribute>> [[psysml:080a965c-bda9-42ef-b0e7-dadea2c4de7a ]] {\r\n",
       "}\r\n",
       "rec def \"F\" as E4  <<(T,blue) calculation  def>> [[psysml:87bb354b-94c0-403b-b7cb-102c1c7ef37a ]] {\r\n",
       "portin \"p\" as E5  [[psysml:16f7e9d3-43d0-4287-8a70-cbe1c91459d8 ]] \r\n",
       "portin \"q\" as E6  [[psysml:b2699d44-082f-48d9-8fe4-b2b87d72af88 ]] \r\n",
       "portout \"result\" as E7  [[psysml:efe4aa1f-bd0b-42c7-877f-48fcbd913317 ]] \r\n",
       "}\r\n",
       "\r\n",
       "comp usage \"f\" as E8  <<(T,blue) attribute>> [[psysml:a95297bf-d64f-43ac-86b7-f9f55eba203a ]] {\r\n",
       "}\r\n",
       "comp usage \"g\" as E9  <<(T,blue) attribute>> [[psysml:778a48ec-a539-4294-8634-0d41b068db9f ]] {\r\n",
       "}\r\n",
       "comp usage \"b\" as E10  <<(T,blue) attribute>> [[psysml:178fd1be-66b7-4b93-9f69-0783143b2542 ]] {\r\n",
       "}\r\n",
       "comp usage \"c\" as E11  <<(T,blue) attribute>> [[psysml:ce14b558-47dc-4a37-8f10-4afbd6cf7826 ]] {\r\n",
       "}\r\n",
       "}\r\n",
       "E3 - -:|> E2 [[psysml:f36357d4-9dbb-46b9-9535-0d41e0b85630 ]] \r\n",
       "@enduml\r\n",
       "\n",
       "PlantUML version 1.2020.13(Sat Jun 13 12:26:38 UTC 2020)\n",
       "(EPL source distribution)\n",
       "Java Runtime: OpenJDK Runtime Environment\n",
       "JVM: OpenJDK 64-Bit Server VM\n",
       "Default Encoding: UTF-8\n",
       "Language: en\n",
       "Country: null\n",
       "--></g></svg>"
      ]
     },
     "execution_count": 5,
     "metadata": {},
     "output_type": "execute_result"
    }
   ],
   "source": [
    "%viz --style=\"COMPTREE\" --view=\"Interconnection\" \"ParameterTest\""
   ]
  },
  {
   "cell_type": "code",
   "execution_count": 6,
   "id": "54d316e7",
   "metadata": {
    "execution": {
     "iopub.execute_input": "2021-11-13T12:59:14.149890Z",
     "iopub.status.busy": "2021-11-13T12:59:14.149484Z",
     "iopub.status.idle": "2021-11-13T12:59:14.183272Z",
     "shell.execute_reply": "2021-11-13T12:59:14.183585Z"
    }
   },
   "outputs": [
    {
     "data": {
      "image/svg+xml": [
       "<?xml version=\"1.0\" encoding=\"UTF-8\" standalone=\"no\"?><svg xmlns=\"http://www.w3.org/2000/svg\" xmlns:xlink=\"http://www.w3.org/1999/xlink\" contentScriptType=\"application/ecmascript\" contentStyleType=\"text/css\" height=\"162px\" preserveAspectRatio=\"none\" style=\"width:168px;height:162px;\" version=\"1.1\" viewBox=\"0 0 168 162\" width=\"168px\" zoomAndPan=\"magnify\"><defs/><g><!--MD5=[fbc87193dbaf4d95561dea2c320d4a47]\n",
       "cluster E1--><a href=\"psysml:87bb354b-94c0-403b-b7cb-102c1c7ef37a\" target=\"_top\" title=\"psysml:87bb354b-94c0-403b-b7cb-102c1c7ef37a\" xlink:actuate=\"onRequest\" xlink:href=\"psysml:87bb354b-94c0-403b-b7cb-102c1c7ef37a\" xlink:show=\"new\" xlink:title=\"psysml:87bb354b-94c0-403b-b7cb-102c1c7ef37a\" xlink:type=\"simple\"><rect fill=\"#FFFFFF\" height=\"87.72\" id=\"E1\" style=\"stroke: #383838; stroke-width: 1.5;\" width=\"150\" x=\"7\" y=\"42.0986\"/><rect fill=\"#F8F8F8\" height=\"37.9375\" style=\"stroke: #383838; stroke-width: 1.5;\" width=\"150\" x=\"7\" y=\"42.0986\"/><text fill=\"#000000\" font-family=\"sans-serif\" font-size=\"12\" font-style=\"italic\" lengthAdjust=\"spacingAndGlyphs\" textLength=\"110\" x=\"27\" y=\"58.2373\">«calculation  def»</text><text fill=\"#000000\" font-family=\"sans-serif\" font-size=\"12\" lengthAdjust=\"spacingAndGlyphs\" textLength=\"7\" x=\"78.5\" y=\"72.2061\">F</text></a><text fill=\"#000000\" font-family=\"sans-serif\" font-size=\"14\" lengthAdjust=\"spacingAndGlyphs\" textLength=\"9\" x=\"20.5\" y=\"20.7969\">p</text><rect fill=\"#383838\" height=\"12\" style=\"stroke: #F8F8F8; stroke-width: 1.5;\" width=\"12\" x=\"19\" y=\"36.0986\"/><text fill=\"#000000\" font-family=\"sans-serif\" font-size=\"14\" lengthAdjust=\"spacingAndGlyphs\" textLength=\"9\" x=\"67.5\" y=\"20.7969\">q</text><rect fill=\"#383838\" height=\"12\" style=\"stroke: #F8F8F8; stroke-width: 1.5;\" width=\"12\" x=\"66\" y=\"36.0986\"/><text fill=\"#000000\" font-family=\"sans-serif\" font-size=\"14\" lengthAdjust=\"spacingAndGlyphs\" textLength=\"39\" x=\"52.5\" y=\"148.8138\">result</text><rect fill=\"#383838\" height=\"12\" style=\"stroke: #F8F8F8; stroke-width: 1.5;\" width=\"12\" x=\"66\" y=\"123.8186\"/><!--MD5=[cd24bab0c1232abf759cd386366eb48b]\n",
       "@startuml\r\n",
       "skinparam ranksep 8\r\n",
       " skinparam monochrome true\r\n",
       "skinparam classbackgroundcolor white\r\n",
       "skinparam shadowing false\r\n",
       "skinparam wrapWidth 300\r\n",
       "hide circle\r\n",
       "\r\n",
       "rec def \"F\" as E1  <<(T,blue) calculation  def>> [[psysml:87bb354b-94c0-403b-b7cb-102c1c7ef37a ]] {\r\n",
       "portin \"p\" as E2  [[psysml:16f7e9d3-43d0-4287-8a70-cbe1c91459d8 ]] \r\n",
       "portin \"q\" as E3  [[psysml:b2699d44-082f-48d9-8fe4-b2b87d72af88 ]] \r\n",
       "portout \"result\" as E4  [[psysml:efe4aa1f-bd0b-42c7-877f-48fcbd913317 ]] \r\n",
       "}\r\n",
       "\r\n",
       "@enduml\r\n",
       "\n",
       "PlantUML version 1.2020.13(Sat Jun 13 12:26:38 UTC 2020)\n",
       "(EPL source distribution)\n",
       "Java Runtime: OpenJDK Runtime Environment\n",
       "JVM: OpenJDK 64-Bit Server VM\n",
       "Default Encoding: UTF-8\n",
       "Language: en\n",
       "Country: null\n",
       "--></g></svg>"
      ]
     },
     "execution_count": 6,
     "metadata": {},
     "output_type": "execute_result"
    }
   ],
   "source": [
    "%viz --style=\"COMPTREE\" --view=\"Action\" \"ParameterTest\""
   ]
  },
  {
   "cell_type": "code",
   "execution_count": 7,
   "id": "3b067718",
   "metadata": {
    "execution": {
     "iopub.execute_input": "2021-11-13T12:59:14.233520Z",
     "iopub.status.busy": "2021-11-13T12:59:14.233115Z",
     "iopub.status.idle": "2021-11-13T12:59:14.246721Z",
     "shell.execute_reply": "2021-11-13T12:59:14.247031Z"
    }
   },
   "outputs": [
    {
     "data": {
      "image/svg+xml": [
       "<?xml version=\"1.0\" encoding=\"UTF-8\" standalone=\"no\"?><svg xmlns=\"http://www.w3.org/2000/svg\" xmlns:xlink=\"http://www.w3.org/1999/xlink\" contentScriptType=\"application/ecmascript\" contentStyleType=\"text/css\" height=\"12px\" preserveAspectRatio=\"none\" style=\"width:12px;height:12px;\" version=\"1.1\" viewBox=\"0 0 12 12\" width=\"12px\" zoomAndPan=\"magnify\"><defs/><g><!--MD5=[803fc46c337be7a5c8a9831e35356779]\n",
       "@startuml\r\n",
       "skinparam roundcorner 20\r\n",
       "skinparam BoxPadding 20\r\n",
       "skinparam SequenceBoxBackgroundColor #white\r\n",
       "skinparam style strictuml\r\n",
       "skinparam maxMessageSize 100\r\n",
       " skinparam monochrome true\r\n",
       "skinparam classbackgroundcolor white\r\n",
       "skinparam shadowing false\r\n",
       "skinparam wrapWidth 300\r\n",
       "hide circle\r\n",
       "\r\n",
       "@enduml\r\n",
       "\n",
       "PlantUML version 1.2020.13(Sat Jun 13 12:26:38 UTC 2020)\n",
       "(EPL source distribution)\n",
       "Java Runtime: OpenJDK Runtime Environment\n",
       "JVM: OpenJDK 64-Bit Server VM\n",
       "Default Encoding: UTF-8\n",
       "Language: en\n",
       "Country: null\n",
       "--></g></svg>"
      ]
     },
     "execution_count": 7,
     "metadata": {},
     "output_type": "execute_result"
    }
   ],
   "source": [
    "%viz --style=\"COMPTREE\" --view=\"Sequence\" \"ParameterTest\""
   ]
  },
  {
   "cell_type": "code",
   "execution_count": 8,
   "id": "e3f1b0eb",
   "metadata": {
    "execution": {
     "iopub.execute_input": "2021-11-13T12:59:14.297450Z",
     "iopub.status.busy": "2021-11-13T12:59:14.297043Z",
     "iopub.status.idle": "2021-11-13T12:59:14.394537Z",
     "shell.execute_reply": "2021-11-13T12:59:14.394172Z"
    }
   },
   "outputs": [
    {
     "data": {
      "image/svg+xml": [
       "<?xml version=\"1.0\" encoding=\"UTF-8\" standalone=\"no\"?><svg xmlns=\"http://www.w3.org/2000/svg\" xmlns:xlink=\"http://www.w3.org/1999/xlink\" contentScriptType=\"application/ecmascript\" contentStyleType=\"text/css\" height=\"403px\" preserveAspectRatio=\"none\" style=\"width:744px;height:403px;\" version=\"1.1\" viewBox=\"0 0 744 403\" width=\"744px\" zoomAndPan=\"magnify\"><defs/><g><!--MD5=[fbc87193dbaf4d95561dea2c320d4a47]\n",
       "cluster E1--><a href=\"psysml:19b06251-fe6f-4e99-9afa-d6889eb7a18f\" target=\"_top\" title=\"psysml:19b06251-fe6f-4e99-9afa-d6889eb7a18f\" xlink:actuate=\"onRequest\" xlink:href=\"psysml:19b06251-fe6f-4e99-9afa-d6889eb7a18f\" xlink:show=\"new\" xlink:title=\"psysml:19b06251-fe6f-4e99-9afa-d6889eb7a18f\" xlink:type=\"simple\"><polygon fill=\"#FFFFFF\" points=\"16,6,124,6,131,28.2969,722,28.2969,722,391.72,16,391.72,16,6\" style=\"stroke: #000000; stroke-width: 1.5;\"/><line style=\"stroke: #000000; stroke-width: 1.5;\" x1=\"16\" x2=\"131\" y1=\"28.2969\" y2=\"28.2969\"/><text fill=\"#000000\" font-family=\"sans-serif\" font-size=\"14\" font-weight=\"bold\" lengthAdjust=\"spacingAndGlyphs\" textLength=\"102\" x=\"20\" y=\"20.9951\">ParameterTest</text></a><!--MD5=[f6df4d0ebaf0b5dfb2ced0ae5af7c670]\n",
       "cluster E4--><a href=\"psysml:87bb354b-94c0-403b-b7cb-102c1c7ef37a\" target=\"_top\" title=\"psysml:87bb354b-94c0-403b-b7cb-102c1c7ef37a\" xlink:actuate=\"onRequest\" xlink:href=\"psysml:87bb354b-94c0-403b-b7cb-102c1c7ef37a\" xlink:show=\"new\" xlink:title=\"psysml:87bb354b-94c0-403b-b7cb-102c1c7ef37a\" xlink:type=\"simple\"><rect fill=\"#FFFFFF\" height=\"297.72\" id=\"E4\" style=\"stroke: #383838; stroke-width: 1.5;\" width=\"150\" x=\"556\" y=\"64\"/><rect fill=\"#F8F8F8\" height=\"37.9375\" style=\"stroke: #383838; stroke-width: 1.5;\" width=\"150\" x=\"556\" y=\"64\"/><text fill=\"#000000\" font-family=\"sans-serif\" font-size=\"12\" font-style=\"italic\" lengthAdjust=\"spacingAndGlyphs\" textLength=\"110\" x=\"576\" y=\"80.1387\">«calculation  def»</text><text fill=\"#000000\" font-family=\"sans-serif\" font-size=\"12\" lengthAdjust=\"spacingAndGlyphs\" textLength=\"7\" x=\"627.5\" y=\"94.1074\">F</text></a><!--MD5=[b4997ac47864f28c2f74865a473b2911]\n",
       "class E2--><a href=\"psysml:a687f627-404e-4522-a6e9-e30e4b3087b4\" target=\"_top\" title=\"psysml:a687f627-404e-4522-a6e9-e30e4b3087b4\" xlink:actuate=\"onRequest\" xlink:href=\"psysml:a687f627-404e-4522-a6e9-e30e4b3087b4\" xlink:show=\"new\" xlink:title=\"psysml:a687f627-404e-4522-a6e9-e30e4b3087b4\" xlink:type=\"simple\"><rect fill=\"#FFFFFF\" height=\"88.3516\" id=\"E2\" style=\"stroke: #383838; stroke-width: 1.5;\" width=\"99\" x=\"418.5\" y=\"147\"/><text fill=\"#000000\" font-family=\"sans-serif\" font-size=\"12\" font-style=\"italic\" lengthAdjust=\"spacingAndGlyphs\" textLength=\"97\" x=\"419.5\" y=\"163.1387\">«attribute  def»</text><text fill=\"#000000\" font-family=\"sans-serif\" font-size=\"12\" lengthAdjust=\"spacingAndGlyphs\" textLength=\"8\" x=\"464\" y=\"177.1074\">A</text><line style=\"stroke: #383838; stroke-width: 1.5;\" x1=\"419.5\" x2=\"516.5\" y1=\"184.9375\" y2=\"184.9375\"/><text fill=\"#000000\" font-family=\"sans-serif\" font-size=\"11\" lengthAdjust=\"spacingAndGlyphs\" textLength=\"48\" x=\"424.5\" y=\"215.9526\">x: String</text><text fill=\"#000000\" font-family=\"sans-serif\" font-size=\"11\" lengthAdjust=\"spacingAndGlyphs\" textLength=\"21\" x=\"424.5\" y=\"228.7573\">y: A</text><line style=\"stroke: #383838; stroke-width: 1.0;\" x1=\"419.5\" x2=\"440.5\" y1=\"199.3398\" y2=\"199.3398\"/><text fill=\"#000000\" font-family=\"sans-serif\" font-size=\"11\" lengthAdjust=\"spacingAndGlyphs\" textLength=\"55\" x=\"440.5\" y=\"202.6479\">attributes</text><line style=\"stroke: #383838; stroke-width: 1.0;\" x1=\"495.5\" x2=\"516.5\" y1=\"199.3398\" y2=\"199.3398\"/></a><!--MD5=[09b614a08d8cba4a07c9adeb5e0fee81]\n",
       "class E3--><a href=\"psysml:080a965c-bda9-42ef-b0e7-dadea2c4de7a\" target=\"_top\" title=\"psysml:080a965c-bda9-42ef-b0e7-dadea2c4de7a\" xlink:actuate=\"onRequest\" xlink:href=\"psysml:080a965c-bda9-42ef-b0e7-dadea2c4de7a\" xlink:show=\"new\" xlink:title=\"psysml:080a965c-bda9-42ef-b0e7-dadea2c4de7a\" xlink:type=\"simple\"><rect fill=\"#FFFFFF\" height=\"45.9375\" id=\"E3\" rx=\"10\" ry=\"10\" style=\"stroke: #383838; stroke-width: 1.5;\" width=\"71\" x=\"456.5\" y=\"41\"/><text fill=\"#000000\" font-family=\"sans-serif\" font-size=\"12\" font-style=\"italic\" lengthAdjust=\"spacingAndGlyphs\" textLength=\"69\" x=\"457.5\" y=\"57.1387\">«attribute»</text><text fill=\"#000000\" font-family=\"sans-serif\" font-size=\"12\" lengthAdjust=\"spacingAndGlyphs\" textLength=\"24\" x=\"478\" y=\"71.1074\">a: A</text><line style=\"stroke: #383838; stroke-width: 1.5;\" x1=\"457.5\" x2=\"526.5\" y1=\"78.9375\" y2=\"78.9375\"/></a><!--MD5=[b9389687b975829384b498ac4b7476b2]\n",
       "class E8--><a href=\"psysml:a95297bf-d64f-43ac-86b7-f9f55eba203a\" target=\"_top\" title=\"psysml:a95297bf-d64f-43ac-86b7-f9f55eba203a\" xlink:actuate=\"onRequest\" xlink:href=\"psysml:a95297bf-d64f-43ac-86b7-f9f55eba203a\" xlink:show=\"new\" xlink:title=\"psysml:a95297bf-d64f-43ac-86b7-f9f55eba203a\" xlink:type=\"simple\"><rect fill=\"#FFFFFF\" height=\"45.9375\" id=\"E8\" rx=\"10\" ry=\"10\" style=\"stroke: #383838; stroke-width: 1.5;\" width=\"71\" x=\"350.5\" y=\"41\"/><text fill=\"#000000\" font-family=\"sans-serif\" font-size=\"12\" font-style=\"italic\" lengthAdjust=\"spacingAndGlyphs\" textLength=\"69\" x=\"351.5\" y=\"57.1387\">«attribute»</text><text fill=\"#000000\" font-family=\"sans-serif\" font-size=\"12\" lengthAdjust=\"spacingAndGlyphs\" textLength=\"4\" x=\"384\" y=\"71.1074\">f</text><line style=\"stroke: #383838; stroke-width: 1.5;\" x1=\"351.5\" x2=\"420.5\" y1=\"78.9375\" y2=\"78.9375\"/></a><!--MD5=[fd4143e9d270a159db93a4ea2a975926]\n",
       "class E9--><a href=\"psysml:778a48ec-a539-4294-8634-0d41b068db9f\" target=\"_top\" title=\"psysml:778a48ec-a539-4294-8634-0d41b068db9f\" xlink:actuate=\"onRequest\" xlink:href=\"psysml:778a48ec-a539-4294-8634-0d41b068db9f\" xlink:show=\"new\" xlink:title=\"psysml:778a48ec-a539-4294-8634-0d41b068db9f\" xlink:type=\"simple\"><rect fill=\"#FFFFFF\" height=\"45.9375\" id=\"E9\" rx=\"10\" ry=\"10\" style=\"stroke: #383838; stroke-width: 1.5;\" width=\"71\" x=\"244.5\" y=\"41\"/><text fill=\"#000000\" font-family=\"sans-serif\" font-size=\"12\" font-style=\"italic\" lengthAdjust=\"spacingAndGlyphs\" textLength=\"69\" x=\"245.5\" y=\"57.1387\">«attribute»</text><text fill=\"#000000\" font-family=\"sans-serif\" font-size=\"12\" lengthAdjust=\"spacingAndGlyphs\" textLength=\"8\" x=\"276\" y=\"71.1074\">g</text><line style=\"stroke: #383838; stroke-width: 1.5;\" x1=\"245.5\" x2=\"314.5\" y1=\"78.9375\" y2=\"78.9375\"/></a><!--MD5=[96f4274e9e20536e775497830990834d]\n",
       "class E10--><a href=\"psysml:178fd1be-66b7-4b93-9f69-0783143b2542\" target=\"_top\" title=\"psysml:178fd1be-66b7-4b93-9f69-0783143b2542\" xlink:actuate=\"onRequest\" xlink:href=\"psysml:178fd1be-66b7-4b93-9f69-0783143b2542\" xlink:show=\"new\" xlink:title=\"psysml:178fd1be-66b7-4b93-9f69-0783143b2542\" xlink:type=\"simple\"><rect fill=\"#FFFFFF\" height=\"45.9375\" id=\"E10\" rx=\"10\" ry=\"10\" style=\"stroke: #383838; stroke-width: 1.5;\" width=\"71\" x=\"138.5\" y=\"41\"/><text fill=\"#000000\" font-family=\"sans-serif\" font-size=\"12\" font-style=\"italic\" lengthAdjust=\"spacingAndGlyphs\" textLength=\"69\" x=\"139.5\" y=\"57.1387\">«attribute»</text><text fill=\"#000000\" font-family=\"sans-serif\" font-size=\"12\" lengthAdjust=\"spacingAndGlyphs\" textLength=\"8\" x=\"170\" y=\"71.1074\">b</text><line style=\"stroke: #383838; stroke-width: 1.5;\" x1=\"139.5\" x2=\"208.5\" y1=\"78.9375\" y2=\"78.9375\"/></a><!--MD5=[1dd1bfd58a279cf63c5f349dbc8fc6a1]\n",
       "class E11--><a href=\"psysml:ce14b558-47dc-4a37-8f10-4afbd6cf7826\" target=\"_top\" title=\"psysml:ce14b558-47dc-4a37-8f10-4afbd6cf7826\" xlink:actuate=\"onRequest\" xlink:href=\"psysml:ce14b558-47dc-4a37-8f10-4afbd6cf7826\" xlink:show=\"new\" xlink:title=\"psysml:ce14b558-47dc-4a37-8f10-4afbd6cf7826\" xlink:type=\"simple\"><rect fill=\"#FFFFFF\" height=\"45.9375\" id=\"E11\" rx=\"10\" ry=\"10\" style=\"stroke: #383838; stroke-width: 1.5;\" width=\"71\" x=\"32.5\" y=\"41\"/><text fill=\"#000000\" font-family=\"sans-serif\" font-size=\"12\" font-style=\"italic\" lengthAdjust=\"spacingAndGlyphs\" textLength=\"69\" x=\"33.5\" y=\"57.1387\">«attribute»</text><text fill=\"#000000\" font-family=\"sans-serif\" font-size=\"12\" lengthAdjust=\"spacingAndGlyphs\" textLength=\"7\" x=\"64.5\" y=\"71.1074\">c</text><line style=\"stroke: #383838; stroke-width: 1.5;\" x1=\"33.5\" x2=\"102.5\" y1=\"78.9375\" y2=\"78.9375\"/></a><text fill=\"#000000\" font-family=\"sans-serif\" font-size=\"14\" lengthAdjust=\"spacingAndGlyphs\" textLength=\"9\" x=\"569.5\" y=\"42.6982\">p</text><rect fill=\"#383838\" height=\"12\" style=\"stroke: #F8F8F8; stroke-width: 1.5;\" width=\"12\" x=\"568\" y=\"58\"/><text fill=\"#000000\" font-family=\"sans-serif\" font-size=\"14\" lengthAdjust=\"spacingAndGlyphs\" textLength=\"9\" x=\"616.5\" y=\"42.6982\">q</text><rect fill=\"#383838\" height=\"12\" style=\"stroke: #F8F8F8; stroke-width: 1.5;\" width=\"12\" x=\"615\" y=\"58\"/><text fill=\"#000000\" font-family=\"sans-serif\" font-size=\"14\" lengthAdjust=\"spacingAndGlyphs\" textLength=\"39\" x=\"601.5\" y=\"380.7151\">result</text><rect fill=\"#383838\" height=\"12\" style=\"stroke: #F8F8F8; stroke-width: 1.5;\" width=\"12\" x=\"615\" y=\"355.72\"/><!--MD5=[05d275557350bfb9b23a4ef7222b4c39]\n",
       "link E3 to E2--><a href=\"psysml:f36357d4-9dbb-46b9-9535-0d41e0b85630\" target=\"_top\" title=\"psysml:f36357d4-9dbb-46b9-9535-0d41e0b85630\" xlink:actuate=\"onRequest\" xlink:href=\"psysml:f36357d4-9dbb-46b9-9535-0d41e0b85630\" xlink:show=\"new\" xlink:title=\"psysml:f36357d4-9dbb-46b9-9535-0d41e0b85630\" xlink:type=\"simple\"><path d=\"M487.76,87.06 C485.61,98.3 482.86,112.6 480.11,126.95 \" fill=\"none\" id=\"E3-&gt;E2\" style=\"stroke: #383838; stroke-width: 1.0;\"/><polygon fill=\"#FFFFFF\" points=\"476.27,146.93,472.9781,126.9509,486.727,129.5907,476.27,146.93\" style=\"stroke: #383838; stroke-width: 1.0;\"/><ellipse cx=\"476.017\" cy=\"121.7303\" fill=\"#383838\" rx=\"2\" ry=\"2\" style=\"stroke: #383838; stroke-width: 1.0;\"/><ellipse cx=\"485.8376\" cy=\"123.6158\" fill=\"#383838\" rx=\"2\" ry=\"2\" style=\"stroke: #383838; stroke-width: 1.0;\"/></a><!--MD5=[958420db9d5ec5b2e068c7efe211c455]\n",
       "@startuml\r\n",
       " skinparam monochrome true\r\n",
       "skinparam classbackgroundcolor white\r\n",
       "skinparam shadowing false\r\n",
       "skinparam wrapWidth 300\r\n",
       "hide circle\r\n",
       "\r\n",
       "package \"ParameterTest\" as E1  [[psysml:19b06251-fe6f-4e99-9afa-d6889eb7a18f ]]  {\r\n",
       "comp def \"A\" as E2  <<(T,blue) attribute  def>> [[psysml:a687f627-404e-4522-a6e9-e30e4b3087b4 ]] {\r\n",
       "- - attributes - -\r\n",
       "x: String\r\n",
       "y: A\r\n",
       "}\r\n",
       "comp usage \"a: A \" as E3  <<(T,blue) attribute>> [[psysml:080a965c-bda9-42ef-b0e7-dadea2c4de7a ]] {\r\n",
       "}\r\n",
       "rec def \"F\" as E4  <<(T,blue) calculation  def>> [[psysml:87bb354b-94c0-403b-b7cb-102c1c7ef37a ]] {\r\n",
       "portin \"p\" as E5  [[psysml:16f7e9d3-43d0-4287-8a70-cbe1c91459d8 ]] \r\n",
       "portin \"q\" as E6  [[psysml:b2699d44-082f-48d9-8fe4-b2b87d72af88 ]] \r\n",
       "portout \"result\" as E7  [[psysml:efe4aa1f-bd0b-42c7-877f-48fcbd913317 ]] \r\n",
       "}\r\n",
       "\r\n",
       "comp usage \"f\" as E8  <<(T,blue) attribute>> [[psysml:a95297bf-d64f-43ac-86b7-f9f55eba203a ]] {\r\n",
       "}\r\n",
       "comp usage \"g\" as E9  <<(T,blue) attribute>> [[psysml:778a48ec-a539-4294-8634-0d41b068db9f ]] {\r\n",
       "}\r\n",
       "comp usage \"b\" as E10  <<(T,blue) attribute>> [[psysml:178fd1be-66b7-4b93-9f69-0783143b2542 ]] {\r\n",
       "}\r\n",
       "comp usage \"c\" as E11  <<(T,blue) attribute>> [[psysml:ce14b558-47dc-4a37-8f10-4afbd6cf7826 ]] {\r\n",
       "}\r\n",
       "}\r\n",
       "E3 - -:|> E2 [[psysml:f36357d4-9dbb-46b9-9535-0d41e0b85630 ]] \r\n",
       "@enduml\r\n",
       "\n",
       "PlantUML version 1.2020.13(Sat Jun 13 12:26:38 UTC 2020)\n",
       "(EPL source distribution)\n",
       "Java Runtime: OpenJDK Runtime Environment\n",
       "JVM: OpenJDK 64-Bit Server VM\n",
       "Default Encoding: UTF-8\n",
       "Language: en\n",
       "Country: null\n",
       "--></g></svg>"
      ]
     },
     "execution_count": 8,
     "metadata": {},
     "output_type": "execute_result"
    }
   ],
   "source": [
    "%viz --style=\"COMPTREE\" --view=\"MIXED\" \"ParameterTest\""
   ]
  },
  {
   "cell_type": "code",
   "execution_count": 9,
   "id": "a075c3af",
   "metadata": {
    "execution": {
     "iopub.execute_input": "2021-11-13T12:59:14.443914Z",
     "iopub.status.busy": "2021-11-13T12:59:14.443495Z",
     "iopub.status.idle": "2021-11-13T12:59:14.524775Z",
     "shell.execute_reply": "2021-11-13T12:59:14.524413Z"
    }
   },
   "outputs": [
    {
     "data": {
      "image/svg+xml": [
       "<?xml version=\"1.0\" encoding=\"UTF-8\" standalone=\"no\"?><svg xmlns=\"http://www.w3.org/2000/svg\" xmlns:xlink=\"http://www.w3.org/1999/xlink\" contentScriptType=\"application/ecmascript\" contentStyleType=\"text/css\" height=\"403px\" preserveAspectRatio=\"none\" style=\"width:744px;height:403px;\" version=\"1.1\" viewBox=\"0 0 744 403\" width=\"744px\" zoomAndPan=\"magnify\"><defs/><g><!--MD5=[fbc87193dbaf4d95561dea2c320d4a47]\n",
       "cluster E1--><a href=\"psysml:19b06251-fe6f-4e99-9afa-d6889eb7a18f\" target=\"_top\" title=\"psysml:19b06251-fe6f-4e99-9afa-d6889eb7a18f\" xlink:actuate=\"onRequest\" xlink:href=\"psysml:19b06251-fe6f-4e99-9afa-d6889eb7a18f\" xlink:show=\"new\" xlink:title=\"psysml:19b06251-fe6f-4e99-9afa-d6889eb7a18f\" xlink:type=\"simple\"><polygon fill=\"#FFFFFF\" points=\"16,6,124,6,131,28.2969,722,28.2969,722,391.72,16,391.72,16,6\" style=\"stroke: #000000; stroke-width: 1.5;\"/><line style=\"stroke: #000000; stroke-width: 1.5;\" x1=\"16\" x2=\"131\" y1=\"28.2969\" y2=\"28.2969\"/><text fill=\"#000000\" font-family=\"sans-serif\" font-size=\"14\" font-weight=\"bold\" lengthAdjust=\"spacingAndGlyphs\" textLength=\"102\" x=\"20\" y=\"20.9951\">ParameterTest</text></a><!--MD5=[f6df4d0ebaf0b5dfb2ced0ae5af7c670]\n",
       "cluster E4--><a href=\"psysml:87bb354b-94c0-403b-b7cb-102c1c7ef37a\" target=\"_top\" title=\"psysml:87bb354b-94c0-403b-b7cb-102c1c7ef37a\" xlink:actuate=\"onRequest\" xlink:href=\"psysml:87bb354b-94c0-403b-b7cb-102c1c7ef37a\" xlink:show=\"new\" xlink:title=\"psysml:87bb354b-94c0-403b-b7cb-102c1c7ef37a\" xlink:type=\"simple\"><rect fill=\"#FFFFFF\" height=\"297.72\" id=\"E4\" style=\"stroke: #383838; stroke-width: 1.5;\" width=\"150\" x=\"556\" y=\"64\"/><rect fill=\"#F8F8F8\" height=\"37.9375\" style=\"stroke: #383838; stroke-width: 1.5;\" width=\"150\" x=\"556\" y=\"64\"/><text fill=\"#000000\" font-family=\"sans-serif\" font-size=\"12\" font-style=\"italic\" lengthAdjust=\"spacingAndGlyphs\" textLength=\"110\" x=\"576\" y=\"80.1387\">«calculation  def»</text><text fill=\"#000000\" font-family=\"sans-serif\" font-size=\"12\" lengthAdjust=\"spacingAndGlyphs\" textLength=\"7\" x=\"627.5\" y=\"94.1074\">F</text></a><!--MD5=[b4997ac47864f28c2f74865a473b2911]\n",
       "class E2--><a href=\"psysml:a687f627-404e-4522-a6e9-e30e4b3087b4\" target=\"_top\" title=\"psysml:a687f627-404e-4522-a6e9-e30e4b3087b4\" xlink:actuate=\"onRequest\" xlink:href=\"psysml:a687f627-404e-4522-a6e9-e30e4b3087b4\" xlink:show=\"new\" xlink:title=\"psysml:a687f627-404e-4522-a6e9-e30e4b3087b4\" xlink:type=\"simple\"><rect fill=\"#FFFFFF\" height=\"88.3516\" id=\"E2\" style=\"stroke: #383838; stroke-width: 1.5;\" width=\"99\" x=\"418.5\" y=\"147\"/><text fill=\"#000000\" font-family=\"sans-serif\" font-size=\"12\" font-style=\"italic\" lengthAdjust=\"spacingAndGlyphs\" textLength=\"97\" x=\"419.5\" y=\"163.1387\">«attribute  def»</text><text fill=\"#000000\" font-family=\"sans-serif\" font-size=\"12\" lengthAdjust=\"spacingAndGlyphs\" textLength=\"8\" x=\"464\" y=\"177.1074\">A</text><line style=\"stroke: #383838; stroke-width: 1.5;\" x1=\"419.5\" x2=\"516.5\" y1=\"184.9375\" y2=\"184.9375\"/><text fill=\"#000000\" font-family=\"sans-serif\" font-size=\"11\" lengthAdjust=\"spacingAndGlyphs\" textLength=\"48\" x=\"424.5\" y=\"215.9526\">x: String</text><text fill=\"#000000\" font-family=\"sans-serif\" font-size=\"11\" lengthAdjust=\"spacingAndGlyphs\" textLength=\"21\" x=\"424.5\" y=\"228.7573\">y: A</text><line style=\"stroke: #383838; stroke-width: 1.0;\" x1=\"419.5\" x2=\"440.5\" y1=\"199.3398\" y2=\"199.3398\"/><text fill=\"#000000\" font-family=\"sans-serif\" font-size=\"11\" lengthAdjust=\"spacingAndGlyphs\" textLength=\"55\" x=\"440.5\" y=\"202.6479\">attributes</text><line style=\"stroke: #383838; stroke-width: 1.0;\" x1=\"495.5\" x2=\"516.5\" y1=\"199.3398\" y2=\"199.3398\"/></a><!--MD5=[09b614a08d8cba4a07c9adeb5e0fee81]\n",
       "class E3--><a href=\"psysml:080a965c-bda9-42ef-b0e7-dadea2c4de7a\" target=\"_top\" title=\"psysml:080a965c-bda9-42ef-b0e7-dadea2c4de7a\" xlink:actuate=\"onRequest\" xlink:href=\"psysml:080a965c-bda9-42ef-b0e7-dadea2c4de7a\" xlink:show=\"new\" xlink:title=\"psysml:080a965c-bda9-42ef-b0e7-dadea2c4de7a\" xlink:type=\"simple\"><rect fill=\"#FFFFFF\" height=\"45.9375\" id=\"E3\" rx=\"10\" ry=\"10\" style=\"stroke: #383838; stroke-width: 1.5;\" width=\"71\" x=\"456.5\" y=\"41\"/><text fill=\"#000000\" font-family=\"sans-serif\" font-size=\"12\" font-style=\"italic\" lengthAdjust=\"spacingAndGlyphs\" textLength=\"69\" x=\"457.5\" y=\"57.1387\">«attribute»</text><text fill=\"#000000\" font-family=\"sans-serif\" font-size=\"12\" lengthAdjust=\"spacingAndGlyphs\" textLength=\"24\" x=\"478\" y=\"71.1074\">a: A</text><line style=\"stroke: #383838; stroke-width: 1.5;\" x1=\"457.5\" x2=\"526.5\" y1=\"78.9375\" y2=\"78.9375\"/></a><!--MD5=[b9389687b975829384b498ac4b7476b2]\n",
       "class E8--><a href=\"psysml:a95297bf-d64f-43ac-86b7-f9f55eba203a\" target=\"_top\" title=\"psysml:a95297bf-d64f-43ac-86b7-f9f55eba203a\" xlink:actuate=\"onRequest\" xlink:href=\"psysml:a95297bf-d64f-43ac-86b7-f9f55eba203a\" xlink:show=\"new\" xlink:title=\"psysml:a95297bf-d64f-43ac-86b7-f9f55eba203a\" xlink:type=\"simple\"><rect fill=\"#FFFFFF\" height=\"45.9375\" id=\"E8\" rx=\"10\" ry=\"10\" style=\"stroke: #383838; stroke-width: 1.5;\" width=\"71\" x=\"350.5\" y=\"41\"/><text fill=\"#000000\" font-family=\"sans-serif\" font-size=\"12\" font-style=\"italic\" lengthAdjust=\"spacingAndGlyphs\" textLength=\"69\" x=\"351.5\" y=\"57.1387\">«attribute»</text><text fill=\"#000000\" font-family=\"sans-serif\" font-size=\"12\" lengthAdjust=\"spacingAndGlyphs\" textLength=\"4\" x=\"384\" y=\"71.1074\">f</text><line style=\"stroke: #383838; stroke-width: 1.5;\" x1=\"351.5\" x2=\"420.5\" y1=\"78.9375\" y2=\"78.9375\"/></a><!--MD5=[fd4143e9d270a159db93a4ea2a975926]\n",
       "class E9--><a href=\"psysml:778a48ec-a539-4294-8634-0d41b068db9f\" target=\"_top\" title=\"psysml:778a48ec-a539-4294-8634-0d41b068db9f\" xlink:actuate=\"onRequest\" xlink:href=\"psysml:778a48ec-a539-4294-8634-0d41b068db9f\" xlink:show=\"new\" xlink:title=\"psysml:778a48ec-a539-4294-8634-0d41b068db9f\" xlink:type=\"simple\"><rect fill=\"#FFFFFF\" height=\"45.9375\" id=\"E9\" rx=\"10\" ry=\"10\" style=\"stroke: #383838; stroke-width: 1.5;\" width=\"71\" x=\"244.5\" y=\"41\"/><text fill=\"#000000\" font-family=\"sans-serif\" font-size=\"12\" font-style=\"italic\" lengthAdjust=\"spacingAndGlyphs\" textLength=\"69\" x=\"245.5\" y=\"57.1387\">«attribute»</text><text fill=\"#000000\" font-family=\"sans-serif\" font-size=\"12\" lengthAdjust=\"spacingAndGlyphs\" textLength=\"8\" x=\"276\" y=\"71.1074\">g</text><line style=\"stroke: #383838; stroke-width: 1.5;\" x1=\"245.5\" x2=\"314.5\" y1=\"78.9375\" y2=\"78.9375\"/></a><!--MD5=[96f4274e9e20536e775497830990834d]\n",
       "class E10--><a href=\"psysml:178fd1be-66b7-4b93-9f69-0783143b2542\" target=\"_top\" title=\"psysml:178fd1be-66b7-4b93-9f69-0783143b2542\" xlink:actuate=\"onRequest\" xlink:href=\"psysml:178fd1be-66b7-4b93-9f69-0783143b2542\" xlink:show=\"new\" xlink:title=\"psysml:178fd1be-66b7-4b93-9f69-0783143b2542\" xlink:type=\"simple\"><rect fill=\"#FFFFFF\" height=\"45.9375\" id=\"E10\" rx=\"10\" ry=\"10\" style=\"stroke: #383838; stroke-width: 1.5;\" width=\"71\" x=\"138.5\" y=\"41\"/><text fill=\"#000000\" font-family=\"sans-serif\" font-size=\"12\" font-style=\"italic\" lengthAdjust=\"spacingAndGlyphs\" textLength=\"69\" x=\"139.5\" y=\"57.1387\">«attribute»</text><text fill=\"#000000\" font-family=\"sans-serif\" font-size=\"12\" lengthAdjust=\"spacingAndGlyphs\" textLength=\"8\" x=\"170\" y=\"71.1074\">b</text><line style=\"stroke: #383838; stroke-width: 1.5;\" x1=\"139.5\" x2=\"208.5\" y1=\"78.9375\" y2=\"78.9375\"/></a><!--MD5=[1dd1bfd58a279cf63c5f349dbc8fc6a1]\n",
       "class E11--><a href=\"psysml:ce14b558-47dc-4a37-8f10-4afbd6cf7826\" target=\"_top\" title=\"psysml:ce14b558-47dc-4a37-8f10-4afbd6cf7826\" xlink:actuate=\"onRequest\" xlink:href=\"psysml:ce14b558-47dc-4a37-8f10-4afbd6cf7826\" xlink:show=\"new\" xlink:title=\"psysml:ce14b558-47dc-4a37-8f10-4afbd6cf7826\" xlink:type=\"simple\"><rect fill=\"#FFFFFF\" height=\"45.9375\" id=\"E11\" rx=\"10\" ry=\"10\" style=\"stroke: #383838; stroke-width: 1.5;\" width=\"71\" x=\"32.5\" y=\"41\"/><text fill=\"#000000\" font-family=\"sans-serif\" font-size=\"12\" font-style=\"italic\" lengthAdjust=\"spacingAndGlyphs\" textLength=\"69\" x=\"33.5\" y=\"57.1387\">«attribute»</text><text fill=\"#000000\" font-family=\"sans-serif\" font-size=\"12\" lengthAdjust=\"spacingAndGlyphs\" textLength=\"7\" x=\"64.5\" y=\"71.1074\">c</text><line style=\"stroke: #383838; stroke-width: 1.5;\" x1=\"33.5\" x2=\"102.5\" y1=\"78.9375\" y2=\"78.9375\"/></a><text fill=\"#000000\" font-family=\"sans-serif\" font-size=\"14\" lengthAdjust=\"spacingAndGlyphs\" textLength=\"9\" x=\"569.5\" y=\"42.6982\">p</text><rect fill=\"#383838\" height=\"12\" style=\"stroke: #F8F8F8; stroke-width: 1.5;\" width=\"12\" x=\"568\" y=\"58\"/><text fill=\"#000000\" font-family=\"sans-serif\" font-size=\"14\" lengthAdjust=\"spacingAndGlyphs\" textLength=\"9\" x=\"616.5\" y=\"42.6982\">q</text><rect fill=\"#383838\" height=\"12\" style=\"stroke: #F8F8F8; stroke-width: 1.5;\" width=\"12\" x=\"615\" y=\"58\"/><text fill=\"#000000\" font-family=\"sans-serif\" font-size=\"14\" lengthAdjust=\"spacingAndGlyphs\" textLength=\"39\" x=\"601.5\" y=\"380.7151\">result</text><rect fill=\"#383838\" height=\"12\" style=\"stroke: #F8F8F8; stroke-width: 1.5;\" width=\"12\" x=\"615\" y=\"355.72\"/><!--MD5=[05d275557350bfb9b23a4ef7222b4c39]\n",
       "link E3 to E2--><a href=\"psysml:f36357d4-9dbb-46b9-9535-0d41e0b85630\" target=\"_top\" title=\"psysml:f36357d4-9dbb-46b9-9535-0d41e0b85630\" xlink:actuate=\"onRequest\" xlink:href=\"psysml:f36357d4-9dbb-46b9-9535-0d41e0b85630\" xlink:show=\"new\" xlink:title=\"psysml:f36357d4-9dbb-46b9-9535-0d41e0b85630\" xlink:type=\"simple\"><path d=\"M487.76,87.06 C485.61,98.3 482.86,112.6 480.11,126.95 \" fill=\"none\" id=\"E3-&gt;E2\" style=\"stroke: #383838; stroke-width: 1.0;\"/><polygon fill=\"#FFFFFF\" points=\"476.27,146.93,472.9781,126.9509,486.727,129.5907,476.27,146.93\" style=\"stroke: #383838; stroke-width: 1.0;\"/><ellipse cx=\"476.017\" cy=\"121.7303\" fill=\"#383838\" rx=\"2\" ry=\"2\" style=\"stroke: #383838; stroke-width: 1.0;\"/><ellipse cx=\"485.8376\" cy=\"123.6158\" fill=\"#383838\" rx=\"2\" ry=\"2\" style=\"stroke: #383838; stroke-width: 1.0;\"/></a><!--MD5=[4330805808cd4270eb9aee86eef75d5f]\n",
       "@startuml\r\n",
       "skinparam linetype polyline\r\n",
       "skinparam monochrome true\r\n",
       "skinparam classbackgroundcolor white\r\n",
       "skinparam shadowing false\r\n",
       "skinparam wrapWidth 300\r\n",
       "hide circle\r\n",
       "\r\n",
       "package \"ParameterTest\" as E1  [[psysml:19b06251-fe6f-4e99-9afa-d6889eb7a18f ]]  {\r\n",
       "comp def \"A\" as E2  <<(T,blue) attribute  def>> [[psysml:a687f627-404e-4522-a6e9-e30e4b3087b4 ]] {\r\n",
       "- - attributes - -\r\n",
       "x: String\r\n",
       "y: A\r\n",
       "}\r\n",
       "comp usage \"a: A \" as E3  <<(T,blue) attribute>> [[psysml:080a965c-bda9-42ef-b0e7-dadea2c4de7a ]] {\r\n",
       "}\r\n",
       "rec def \"F\" as E4  <<(T,blue) calculation  def>> [[psysml:87bb354b-94c0-403b-b7cb-102c1c7ef37a ]] {\r\n",
       "portin \"p\" as E5  [[psysml:16f7e9d3-43d0-4287-8a70-cbe1c91459d8 ]] \r\n",
       "portin \"q\" as E6  [[psysml:b2699d44-082f-48d9-8fe4-b2b87d72af88 ]] \r\n",
       "portout \"result\" as E7  [[psysml:efe4aa1f-bd0b-42c7-877f-48fcbd913317 ]] \r\n",
       "}\r\n",
       "\r\n",
       "comp usage \"f\" as E8  <<(T,blue) attribute>> [[psysml:a95297bf-d64f-43ac-86b7-f9f55eba203a ]] {\r\n",
       "}\r\n",
       "comp usage \"g\" as E9  <<(T,blue) attribute>> [[psysml:778a48ec-a539-4294-8634-0d41b068db9f ]] {\r\n",
       "}\r\n",
       "comp usage \"b\" as E10  <<(T,blue) attribute>> [[psysml:178fd1be-66b7-4b93-9f69-0783143b2542 ]] {\r\n",
       "}\r\n",
       "comp usage \"c\" as E11  <<(T,blue) attribute>> [[psysml:ce14b558-47dc-4a37-8f10-4afbd6cf7826 ]] {\r\n",
       "}\r\n",
       "}\r\n",
       "E3 - -:|> E2 [[psysml:f36357d4-9dbb-46b9-9535-0d41e0b85630 ]] \r\n",
       "@enduml\r\n",
       "\n",
       "PlantUML version 1.2020.13(Sat Jun 13 12:26:38 UTC 2020)\n",
       "(EPL source distribution)\n",
       "Java Runtime: OpenJDK Runtime Environment\n",
       "JVM: OpenJDK 64-Bit Server VM\n",
       "Default Encoding: UTF-8\n",
       "Language: en\n",
       "Country: null\n",
       "--></g></svg>"
      ]
     },
     "execution_count": 9,
     "metadata": {},
     "output_type": "execute_result"
    }
   ],
   "source": [
    "%viz --style=\"POLYLINE\" --view=\"Default\" \"ParameterTest\""
   ]
  },
  {
   "cell_type": "code",
   "execution_count": 10,
   "id": "42593c48",
   "metadata": {
    "execution": {
     "iopub.execute_input": "2021-11-13T12:59:14.574211Z",
     "iopub.status.busy": "2021-11-13T12:59:14.573748Z",
     "iopub.status.idle": "2021-11-13T12:59:14.668786Z",
     "shell.execute_reply": "2021-11-13T12:59:14.668429Z"
    }
   },
   "outputs": [
    {
     "data": {
      "image/svg+xml": [
       "<?xml version=\"1.0\" encoding=\"UTF-8\" standalone=\"no\"?><svg xmlns=\"http://www.w3.org/2000/svg\" xmlns:xlink=\"http://www.w3.org/1999/xlink\" contentScriptType=\"application/ecmascript\" contentStyleType=\"text/css\" height=\"322px\" preserveAspectRatio=\"none\" style=\"width:714px;height:322px;\" version=\"1.1\" viewBox=\"0 0 714 322\" width=\"714px\" zoomAndPan=\"magnify\"><defs/><g><!--MD5=[fbc87193dbaf4d95561dea2c320d4a47]\n",
       "cluster E1--><a href=\"psysml:19b06251-fe6f-4e99-9afa-d6889eb7a18f\" target=\"_top\" title=\"psysml:19b06251-fe6f-4e99-9afa-d6889eb7a18f\" xlink:actuate=\"onRequest\" xlink:href=\"psysml:19b06251-fe6f-4e99-9afa-d6889eb7a18f\" xlink:show=\"new\" xlink:title=\"psysml:19b06251-fe6f-4e99-9afa-d6889eb7a18f\" xlink:type=\"simple\"><polygon fill=\"#FFFFFF\" points=\"16,6,124,6,131,28.2969,692,28.2969,692,310,16,310,16,6\" style=\"stroke: #000000; stroke-width: 1.5;\"/><line style=\"stroke: #000000; stroke-width: 1.5;\" x1=\"16\" x2=\"131\" y1=\"28.2969\" y2=\"28.2969\"/><text fill=\"#000000\" font-family=\"sans-serif\" font-size=\"14\" font-weight=\"bold\" lengthAdjust=\"spacingAndGlyphs\" textLength=\"102\" x=\"20\" y=\"20.9951\">ParameterTest</text></a><!--MD5=[b4997ac47864f28c2f74865a473b2911]\n",
       "class E2--><a href=\"psysml:a687f627-404e-4522-a6e9-e30e4b3087b4\" target=\"_top\" title=\"psysml:a687f627-404e-4522-a6e9-e30e4b3087b4\" xlink:actuate=\"onRequest\" xlink:href=\"psysml:a687f627-404e-4522-a6e9-e30e4b3087b4\" xlink:show=\"new\" xlink:title=\"psysml:a687f627-404e-4522-a6e9-e30e4b3087b4\" xlink:type=\"simple\"><rect fill=\"#FFFFFF\" height=\"88.3516\" id=\"E2\" style=\"stroke: #383838; stroke-width: 1.5;\" width=\"99\" x=\"513.5\" y=\"206\"/><text fill=\"#000000\" font-family=\"sans-serif\" font-size=\"12\" font-style=\"italic\" lengthAdjust=\"spacingAndGlyphs\" textLength=\"97\" x=\"514.5\" y=\"222.1387\">«attribute  def»</text><text fill=\"#000000\" font-family=\"sans-serif\" font-size=\"12\" lengthAdjust=\"spacingAndGlyphs\" textLength=\"8\" x=\"559\" y=\"236.1074\">A</text><line style=\"stroke: #383838; stroke-width: 1.5;\" x1=\"514.5\" x2=\"611.5\" y1=\"243.9375\" y2=\"243.9375\"/><text fill=\"#000000\" font-family=\"sans-serif\" font-size=\"11\" lengthAdjust=\"spacingAndGlyphs\" textLength=\"48\" x=\"519.5\" y=\"274.9526\">x: String</text><text fill=\"#000000\" font-family=\"sans-serif\" font-size=\"11\" lengthAdjust=\"spacingAndGlyphs\" textLength=\"21\" x=\"519.5\" y=\"287.7573\">y: A</text><line style=\"stroke: #383838; stroke-width: 1.0;\" x1=\"514.5\" x2=\"535.5\" y1=\"258.3398\" y2=\"258.3398\"/><text fill=\"#000000\" font-family=\"sans-serif\" font-size=\"11\" lengthAdjust=\"spacingAndGlyphs\" textLength=\"55\" x=\"535.5\" y=\"261.6479\">attributes</text><line style=\"stroke: #383838; stroke-width: 1.0;\" x1=\"590.5\" x2=\"611.5\" y1=\"258.3398\" y2=\"258.3398\"/></a><!--MD5=[09b614a08d8cba4a07c9adeb5e0fee81]\n",
       "class E3--><a href=\"psysml:080a965c-bda9-42ef-b0e7-dadea2c4de7a\" target=\"_top\" title=\"psysml:080a965c-bda9-42ef-b0e7-dadea2c4de7a\" xlink:actuate=\"onRequest\" xlink:href=\"psysml:080a965c-bda9-42ef-b0e7-dadea2c4de7a\" xlink:show=\"new\" xlink:title=\"psysml:080a965c-bda9-42ef-b0e7-dadea2c4de7a\" xlink:type=\"simple\"><rect fill=\"#FFFFFF\" height=\"45.9375\" id=\"E3\" rx=\"10\" ry=\"10\" style=\"stroke: #383838; stroke-width: 1.5;\" width=\"71\" x=\"604.5\" y=\"62\"/><text fill=\"#000000\" font-family=\"sans-serif\" font-size=\"12\" font-style=\"italic\" lengthAdjust=\"spacingAndGlyphs\" textLength=\"69\" x=\"605.5\" y=\"78.1387\">«attribute»</text><text fill=\"#000000\" font-family=\"sans-serif\" font-size=\"12\" lengthAdjust=\"spacingAndGlyphs\" textLength=\"24\" x=\"626\" y=\"92.1074\">a: A</text><line style=\"stroke: #383838; stroke-width: 1.5;\" x1=\"605.5\" x2=\"674.5\" y1=\"99.9375\" y2=\"99.9375\"/></a><!--MD5=[ebbe1d658d1005bcc118a6aa81145e00]\n",
       "class E4--><a href=\"psysml:87bb354b-94c0-403b-b7cb-102c1c7ef37a\" target=\"_top\" title=\"psysml:87bb354b-94c0-403b-b7cb-102c1c7ef37a\" xlink:actuate=\"onRequest\" xlink:href=\"psysml:87bb354b-94c0-403b-b7cb-102c1c7ef37a\" xlink:show=\"new\" xlink:title=\"psysml:87bb354b-94c0-403b-b7cb-102c1c7ef37a\" xlink:type=\"simple\"><rect fill=\"#FFFFFF\" height=\"88.3516\" id=\"E4\" style=\"stroke: #383838; stroke-width: 1.5;\" width=\"112\" x=\"457\" y=\"41\"/><text fill=\"#000000\" font-family=\"sans-serif\" font-size=\"12\" font-style=\"italic\" lengthAdjust=\"spacingAndGlyphs\" textLength=\"110\" x=\"458\" y=\"57.1387\">«calculation  def»</text><text fill=\"#000000\" font-family=\"sans-serif\" font-size=\"12\" lengthAdjust=\"spacingAndGlyphs\" textLength=\"7\" x=\"509.5\" y=\"71.1074\">F</text><line style=\"stroke: #383838; stroke-width: 1.5;\" x1=\"458\" x2=\"568\" y1=\"78.9375\" y2=\"78.9375\"/><text fill=\"#000000\" font-family=\"sans-serif\" font-size=\"11\" font-weight=\"bold\" lengthAdjust=\"spacingAndGlyphs\" textLength=\"10\" x=\"463\" y=\"109.9526\">in</text><text fill=\"#000000\" font-family=\"sans-serif\" font-size=\"11\" lengthAdjust=\"spacingAndGlyphs\" textLength=\"22\" x=\"477\" y=\"109.9526\">p: A</text><text fill=\"#000000\" font-family=\"sans-serif\" font-size=\"11\" font-weight=\"bold\" lengthAdjust=\"spacingAndGlyphs\" textLength=\"10\" x=\"463\" y=\"122.7573\">in</text><text fill=\"#000000\" font-family=\"sans-serif\" font-size=\"11\" lengthAdjust=\"spacingAndGlyphs\" textLength=\"55\" x=\"477\" y=\"122.7573\">q: Integer</text><line style=\"stroke: #383838; stroke-width: 1.0;\" x1=\"458\" x2=\"479.5\" y1=\"93.3398\" y2=\"93.3398\"/><text fill=\"#000000\" font-family=\"sans-serif\" font-size=\"11\" lengthAdjust=\"spacingAndGlyphs\" textLength=\"67\" x=\"479.5\" y=\"96.6479\">parameters</text><line style=\"stroke: #383838; stroke-width: 1.0;\" x1=\"546.5\" x2=\"568\" y1=\"93.3398\" y2=\"93.3398\"/></a><!--MD5=[270fce915f116d4de14055a7c1d9a0f3]\n",
       "class E5--><a href=\"psysml:a95297bf-d64f-43ac-86b7-f9f55eba203a\" target=\"_top\" title=\"psysml:a95297bf-d64f-43ac-86b7-f9f55eba203a\" xlink:actuate=\"onRequest\" xlink:href=\"psysml:a95297bf-d64f-43ac-86b7-f9f55eba203a\" xlink:show=\"new\" xlink:title=\"psysml:a95297bf-d64f-43ac-86b7-f9f55eba203a\" xlink:type=\"simple\"><rect fill=\"#FFFFFF\" height=\"45.9375\" id=\"E5\" rx=\"10\" ry=\"10\" style=\"stroke: #383838; stroke-width: 1.5;\" width=\"71\" x=\"350.5\" y=\"62\"/><text fill=\"#000000\" font-family=\"sans-serif\" font-size=\"12\" font-style=\"italic\" lengthAdjust=\"spacingAndGlyphs\" textLength=\"69\" x=\"351.5\" y=\"78.1387\">«attribute»</text><text fill=\"#000000\" font-family=\"sans-serif\" font-size=\"12\" lengthAdjust=\"spacingAndGlyphs\" textLength=\"4\" x=\"384\" y=\"92.1074\">f</text><line style=\"stroke: #383838; stroke-width: 1.5;\" x1=\"351.5\" x2=\"420.5\" y1=\"99.9375\" y2=\"99.9375\"/></a><!--MD5=[60a26617385b1d2d0262a64233df1f8d]\n",
       "class E6--><a href=\"psysml:778a48ec-a539-4294-8634-0d41b068db9f\" target=\"_top\" title=\"psysml:778a48ec-a539-4294-8634-0d41b068db9f\" xlink:actuate=\"onRequest\" xlink:href=\"psysml:778a48ec-a539-4294-8634-0d41b068db9f\" xlink:show=\"new\" xlink:title=\"psysml:778a48ec-a539-4294-8634-0d41b068db9f\" xlink:type=\"simple\"><rect fill=\"#FFFFFF\" height=\"45.9375\" id=\"E6\" rx=\"10\" ry=\"10\" style=\"stroke: #383838; stroke-width: 1.5;\" width=\"71\" x=\"244.5\" y=\"62\"/><text fill=\"#000000\" font-family=\"sans-serif\" font-size=\"12\" font-style=\"italic\" lengthAdjust=\"spacingAndGlyphs\" textLength=\"69\" x=\"245.5\" y=\"78.1387\">«attribute»</text><text fill=\"#000000\" font-family=\"sans-serif\" font-size=\"12\" lengthAdjust=\"spacingAndGlyphs\" textLength=\"8\" x=\"276\" y=\"92.1074\">g</text><line style=\"stroke: #383838; stroke-width: 1.5;\" x1=\"245.5\" x2=\"314.5\" y1=\"99.9375\" y2=\"99.9375\"/></a><!--MD5=[2156ba9850f5573cc1fc38a6a4b2f02b]\n",
       "class E7--><a href=\"psysml:178fd1be-66b7-4b93-9f69-0783143b2542\" target=\"_top\" title=\"psysml:178fd1be-66b7-4b93-9f69-0783143b2542\" xlink:actuate=\"onRequest\" xlink:href=\"psysml:178fd1be-66b7-4b93-9f69-0783143b2542\" xlink:show=\"new\" xlink:title=\"psysml:178fd1be-66b7-4b93-9f69-0783143b2542\" xlink:type=\"simple\"><rect fill=\"#FFFFFF\" height=\"45.9375\" id=\"E7\" rx=\"10\" ry=\"10\" style=\"stroke: #383838; stroke-width: 1.5;\" width=\"71\" x=\"138.5\" y=\"62\"/><text fill=\"#000000\" font-family=\"sans-serif\" font-size=\"12\" font-style=\"italic\" lengthAdjust=\"spacingAndGlyphs\" textLength=\"69\" x=\"139.5\" y=\"78.1387\">«attribute»</text><text fill=\"#000000\" font-family=\"sans-serif\" font-size=\"12\" lengthAdjust=\"spacingAndGlyphs\" textLength=\"8\" x=\"170\" y=\"92.1074\">b</text><line style=\"stroke: #383838; stroke-width: 1.5;\" x1=\"139.5\" x2=\"208.5\" y1=\"99.9375\" y2=\"99.9375\"/></a><!--MD5=[b9389687b975829384b498ac4b7476b2]\n",
       "class E8--><a href=\"psysml:ce14b558-47dc-4a37-8f10-4afbd6cf7826\" target=\"_top\" title=\"psysml:ce14b558-47dc-4a37-8f10-4afbd6cf7826\" xlink:actuate=\"onRequest\" xlink:href=\"psysml:ce14b558-47dc-4a37-8f10-4afbd6cf7826\" xlink:show=\"new\" xlink:title=\"psysml:ce14b558-47dc-4a37-8f10-4afbd6cf7826\" xlink:type=\"simple\"><rect fill=\"#FFFFFF\" height=\"45.9375\" id=\"E8\" rx=\"10\" ry=\"10\" style=\"stroke: #383838; stroke-width: 1.5;\" width=\"71\" x=\"32.5\" y=\"62\"/><text fill=\"#000000\" font-family=\"sans-serif\" font-size=\"12\" font-style=\"italic\" lengthAdjust=\"spacingAndGlyphs\" textLength=\"69\" x=\"33.5\" y=\"78.1387\">«attribute»</text><text fill=\"#000000\" font-family=\"sans-serif\" font-size=\"12\" lengthAdjust=\"spacingAndGlyphs\" textLength=\"7\" x=\"64.5\" y=\"92.1074\">c</text><line style=\"stroke: #383838; stroke-width: 1.5;\" x1=\"33.5\" x2=\"102.5\" y1=\"99.9375\" y2=\"99.9375\"/></a><!--MD5=[05d275557350bfb9b23a4ef7222b4c39]\n",
       "link E3 to E2--><a href=\"psysml:f36357d4-9dbb-46b9-9535-0d41e0b85630\" target=\"_top\" title=\"psysml:f36357d4-9dbb-46b9-9535-0d41e0b85630\" xlink:actuate=\"onRequest\" xlink:href=\"psysml:f36357d4-9dbb-46b9-9535-0d41e0b85630\" xlink:show=\"new\" xlink:title=\"psysml:f36357d4-9dbb-46b9-9535-0d41e0b85630\" xlink:type=\"simple\"><path d=\"M629.45,108.32 C619.8,128.75 605.07,159.95 591.92,187.77 \" fill=\"none\" id=\"E3-&gt;E2\" style=\"stroke: #383838; stroke-width: 1.0;\"/><polygon fill=\"#FFFFFF\" points=\"583.37,205.87,585.1617,185.701,597.8187,191.6843,583.37,205.87\" style=\"stroke: #383838; stroke-width: 1.0;\"/><ellipse cx=\"589.4059\" cy=\"181.4025\" fill=\"#383838\" rx=\"2\" ry=\"2\" style=\"stroke: #383838; stroke-width: 1.0;\"/><ellipse cx=\"598.4466\" cy=\"185.6763\" fill=\"#383838\" rx=\"2\" ry=\"2\" style=\"stroke: #383838; stroke-width: 1.0;\"/></a><!--MD5=[ddeed8deb2209213b62e6cfabaa108b2]\n",
       "reverse link E4 to E2--><a href=\"psysml:16f7e9d3-43d0-4287-8a70-cbe1c91459d8\" target=\"_top\" title=\"psysml:16f7e9d3-43d0-4287-8a70-cbe1c91459d8\" xlink:actuate=\"onRequest\" xlink:href=\"psysml:16f7e9d3-43d0-4287-8a70-cbe1c91459d8\" xlink:show=\"new\" xlink:title=\"psysml:16f7e9d3-43d0-4287-8a70-cbe1c91459d8\" xlink:type=\"simple\"><path d=\"M513,142.32 C513,160.47 513,176 513,176 C513,176 522.57,189.97 533.34,205.69 \" fill=\"none\" id=\"E4&lt;-E2\" style=\"stroke: #383838; stroke-width: 1.0;\"/><polygon fill=\"#FFFFFF\" points=\"513,129.15,509,135.15,513,141.15,517,135.15,513,129.15\" style=\"stroke: #383838; stroke-width: 1.0;\"/><text fill=\"#000000\" font-family=\"sans-serif\" font-size=\"13\" lengthAdjust=\"spacingAndGlyphs\" textLength=\"8\" x=\"514\" y=\"172.0669\">p</text></a><!--MD5=[ddeed8deb2209213b62e6cfabaa108b2]\n",
       "reverse link E4 to E2--><a href=\"psysml:16f7e9d3-43d0-4287-8a70-cbe1c91459d8\" target=\"_top\" title=\"psysml:16f7e9d3-43d0-4287-8a70-cbe1c91459d8\" xlink:actuate=\"onRequest\" xlink:href=\"psysml:16f7e9d3-43d0-4287-8a70-cbe1c91459d8\" xlink:show=\"new\" xlink:title=\"psysml:16f7e9d3-43d0-4287-8a70-cbe1c91459d8\" xlink:type=\"simple\"><path d=\"M530.15,141.9 C536.56,162.81 543.75,186.23 549.76,205.83 \" fill=\"none\" id=\"E4&lt;-E2-1\" style=\"stroke: #383838; stroke-width: 1.0;\"/><polygon fill=\"#FFFFFF\" points=\"526.27,129.25,524.2064,136.1595,529.7907,140.7219,531.8543,133.8124,526.27,129.25\" style=\"stroke: #383838; stroke-width: 1.0;\"/><text fill=\"#000000\" font-family=\"sans-serif\" font-size=\"13\" lengthAdjust=\"spacingAndGlyphs\" textLength=\"8\" x=\"540\" y=\"172.0669\">p</text></a><!--MD5=[92ed3a61760d96bd1d65c2837fd55dd0]\n",
       "@startuml\r\n",
       "skinparam linetype polyline\r\n",
       "skinparam monochrome true\r\n",
       "skinparam classbackgroundcolor white\r\n",
       "skinparam shadowing false\r\n",
       "skinparam wrapWidth 300\r\n",
       "hide circle\r\n",
       "\r\n",
       "package \"ParameterTest\" as E1  [[psysml:19b06251-fe6f-4e99-9afa-d6889eb7a18f ]]  {\r\n",
       "comp def \"A\" as E2  <<(T,blue) attribute  def>> [[psysml:a687f627-404e-4522-a6e9-e30e4b3087b4 ]] {\r\n",
       "- - attributes - -\r\n",
       "x: String\r\n",
       "y: A\r\n",
       "}\r\n",
       "comp usage \"a: A \" as E3  <<(T,blue) attribute>> [[psysml:080a965c-bda9-42ef-b0e7-dadea2c4de7a ]] {\r\n",
       "}\r\n",
       "comp def \"F\" as E4  <<(T,blue) calculation  def>> [[psysml:87bb354b-94c0-403b-b7cb-102c1c7ef37a ]] {\r\n",
       "- - parameters - -\r\n",
       "<b>in</b> p: A\r\n",
       "<b>in</b> q: Integer\r\n",
       "}\r\n",
       "comp usage \"f\" as E5  <<(T,blue) attribute>> [[psysml:a95297bf-d64f-43ac-86b7-f9f55eba203a ]] {\r\n",
       "}\r\n",
       "comp usage \"g\" as E6  <<(T,blue) attribute>> [[psysml:778a48ec-a539-4294-8634-0d41b068db9f ]] {\r\n",
       "}\r\n",
       "comp usage \"b\" as E7  <<(T,blue) attribute>> [[psysml:178fd1be-66b7-4b93-9f69-0783143b2542 ]] {\r\n",
       "}\r\n",
       "comp usage \"c\" as E8  <<(T,blue) attribute>> [[psysml:ce14b558-47dc-4a37-8f10-4afbd6cf7826 ]] {\r\n",
       "}\r\n",
       "}\r\n",
       "E3 - -:|> E2 [[psysml:f36357d4-9dbb-46b9-9535-0d41e0b85630 ]] \r\n",
       "E4 o- - E2 [[psysml:16f7e9d3-43d0-4287-8a70-cbe1c91459d8 ]] : p\r\n",
       "E4 o- - E2 [[psysml:16f7e9d3-43d0-4287-8a70-cbe1c91459d8 ]] : p\r\n",
       "@enduml\r\n",
       "\n",
       "PlantUML version 1.2020.13(Sat Jun 13 12:26:38 UTC 2020)\n",
       "(EPL source distribution)\n",
       "Java Runtime: OpenJDK Runtime Environment\n",
       "JVM: OpenJDK 64-Bit Server VM\n",
       "Default Encoding: UTF-8\n",
       "Language: en\n",
       "Country: null\n",
       "--></g></svg>"
      ]
     },
     "execution_count": 10,
     "metadata": {},
     "output_type": "execute_result"
    }
   ],
   "source": [
    "%viz --style=\"POLYLINE\" --view=\"Tree\" \"ParameterTest\""
   ]
  },
  {
   "cell_type": "code",
   "execution_count": 11,
   "id": "7097e2da",
   "metadata": {
    "execution": {
     "iopub.execute_input": "2021-11-13T12:59:14.718045Z",
     "iopub.status.busy": "2021-11-13T12:59:14.717639Z",
     "iopub.status.idle": "2021-11-13T12:59:14.723021Z",
     "shell.execute_reply": "2021-11-13T12:59:14.722690Z"
    }
   },
   "outputs": [
    {
     "data": {
      "image/svg+xml": [
       "<?xml version=\"1.0\" encoding=\"UTF-8\" standalone=\"no\"?><svg xmlns=\"http://www.w3.org/2000/svg\" xmlns:xlink=\"http://www.w3.org/1999/xlink\" contentScriptType=\"application/ecmascript\" contentStyleType=\"text/css\" height=\"12px\" preserveAspectRatio=\"none\" style=\"width:12px;height:12px;\" version=\"1.1\" viewBox=\"0 0 12 12\" width=\"12px\" zoomAndPan=\"magnify\"><defs/><g><!--MD5=[896ac0e7a515d8dd7765a661cb4ee08b]\n",
       "@startuml\r\n",
       "skinparam linetype polyline\r\n",
       "skinparam monochrome true\r\n",
       "skinparam classbackgroundcolor white\r\n",
       "skinparam shadowing false\r\n",
       "skinparam wrapWidth 300\r\n",
       "hide circle\r\n",
       "\r\n",
       "@enduml\r\n",
       "\n",
       "PlantUML version 1.2020.13(Sat Jun 13 12:26:38 UTC 2020)\n",
       "(EPL source distribution)\n",
       "Java Runtime: OpenJDK Runtime Environment\n",
       "JVM: OpenJDK 64-Bit Server VM\n",
       "Default Encoding: UTF-8\n",
       "Language: en\n",
       "Country: null\n",
       "--></g></svg>"
      ]
     },
     "execution_count": 11,
     "metadata": {},
     "output_type": "execute_result"
    }
   ],
   "source": [
    "%viz --style=\"POLYLINE\" --view=\"State\" \"ParameterTest\""
   ]
  },
  {
   "cell_type": "code",
   "execution_count": 12,
   "id": "ce178b79",
   "metadata": {
    "execution": {
     "iopub.execute_input": "2021-11-13T12:59:14.772651Z",
     "iopub.status.busy": "2021-11-13T12:59:14.772193Z",
     "iopub.status.idle": "2021-11-13T12:59:14.797506Z",
     "shell.execute_reply": "2021-11-13T12:59:14.797153Z"
    }
   },
   "outputs": [
    {
     "data": {
      "image/svg+xml": [
       "<?xml version=\"1.0\" encoding=\"UTF-8\" standalone=\"no\"?><svg xmlns=\"http://www.w3.org/2000/svg\" xmlns:xlink=\"http://www.w3.org/1999/xlink\" contentScriptType=\"application/ecmascript\" contentStyleType=\"text/css\" height=\"216px\" preserveAspectRatio=\"none\" style=\"width:744px;height:216px;\" version=\"1.1\" viewBox=\"0 0 744 216\" width=\"744px\" zoomAndPan=\"magnify\"><defs/><g><!--MD5=[fbc87193dbaf4d95561dea2c320d4a47]\n",
       "cluster E1--><a href=\"psysml:19b06251-fe6f-4e99-9afa-d6889eb7a18f\" target=\"_top\" title=\"psysml:19b06251-fe6f-4e99-9afa-d6889eb7a18f\" xlink:actuate=\"onRequest\" xlink:href=\"psysml:19b06251-fe6f-4e99-9afa-d6889eb7a18f\" xlink:show=\"new\" xlink:title=\"psysml:19b06251-fe6f-4e99-9afa-d6889eb7a18f\" xlink:type=\"simple\"><polygon fill=\"#FFFFFF\" points=\"16,6,124,6,131,28.2969,722,28.2969,722,204.72,16,204.72,16,6\" style=\"stroke: #000000; stroke-width: 1.5;\"/><line style=\"stroke: #000000; stroke-width: 1.5;\" x1=\"16\" x2=\"131\" y1=\"28.2969\" y2=\"28.2969\"/><text fill=\"#000000\" font-family=\"sans-serif\" font-size=\"14\" font-weight=\"bold\" lengthAdjust=\"spacingAndGlyphs\" textLength=\"102\" x=\"20\" y=\"20.9951\">ParameterTest</text></a><!--MD5=[f6df4d0ebaf0b5dfb2ced0ae5af7c670]\n",
       "cluster E4--><a href=\"psysml:87bb354b-94c0-403b-b7cb-102c1c7ef37a\" target=\"_top\" title=\"psysml:87bb354b-94c0-403b-b7cb-102c1c7ef37a\" xlink:actuate=\"onRequest\" xlink:href=\"psysml:87bb354b-94c0-403b-b7cb-102c1c7ef37a\" xlink:show=\"new\" xlink:title=\"psysml:87bb354b-94c0-403b-b7cb-102c1c7ef37a\" xlink:type=\"simple\"><rect fill=\"#FFFFFF\" height=\"110.72\" id=\"E4\" style=\"stroke: #383838; stroke-width: 1.5;\" width=\"150\" x=\"556\" y=\"64\"/><rect fill=\"#F8F8F8\" height=\"37.9375\" style=\"stroke: #383838; stroke-width: 1.5;\" width=\"150\" x=\"556\" y=\"64\"/><text fill=\"#000000\" font-family=\"sans-serif\" font-size=\"12\" font-style=\"italic\" lengthAdjust=\"spacingAndGlyphs\" textLength=\"110\" x=\"576\" y=\"80.1387\">«calculation  def»</text><text fill=\"#000000\" font-family=\"sans-serif\" font-size=\"12\" lengthAdjust=\"spacingAndGlyphs\" textLength=\"7\" x=\"627.5\" y=\"94.1074\">F</text></a><g id=\"E1.E2\"><a href=\"psysml:a687f627-404e-4522-a6e9-e30e4b3087b4\" target=\"_top\" title=\"psysml:a687f627-404e-4522-a6e9-e30e4b3087b4\" xlink:actuate=\"onRequest\" xlink:href=\"psysml:a687f627-404e-4522-a6e9-e30e4b3087b4\" xlink:show=\"new\" xlink:title=\"psysml:a687f627-404e-4522-a6e9-e30e4b3087b4\" xlink:type=\"simple\"><rect fill=\"#FFFFFF\" height=\"42.9375\" id=\"E2\" style=\"stroke: #383838; stroke-width: 1.5;\" width=\"104\" x=\"413\" y=\"99\"/><rect fill=\"#F8F8F8\" height=\"37.9375\" style=\"stroke: #383838; stroke-width: 1.5;\" width=\"104\" x=\"413\" y=\"99\"/><text fill=\"#000000\" font-family=\"sans-serif\" font-size=\"12\" font-style=\"italic\" lengthAdjust=\"spacingAndGlyphs\" textLength=\"97\" x=\"416.5\" y=\"115.1387\">«attribute  def»</text><text fill=\"#000000\" font-family=\"sans-serif\" font-size=\"12\" lengthAdjust=\"spacingAndGlyphs\" textLength=\"8\" x=\"461\" y=\"129.1074\">A</text></a></g><!--MD5=[09b614a08d8cba4a07c9adeb5e0fee81]\n",
       "class E3--><a href=\"psysml:080a965c-bda9-42ef-b0e7-dadea2c4de7a\" target=\"_top\" title=\"psysml:080a965c-bda9-42ef-b0e7-dadea2c4de7a\" xlink:actuate=\"onRequest\" xlink:href=\"psysml:080a965c-bda9-42ef-b0e7-dadea2c4de7a\" xlink:show=\"new\" xlink:title=\"psysml:080a965c-bda9-42ef-b0e7-dadea2c4de7a\" xlink:type=\"simple\"><rect fill=\"#FFFFFF\" height=\"45.9375\" id=\"E3\" rx=\"10\" ry=\"10\" style=\"stroke: #383838; stroke-width: 1.5;\" width=\"71\" x=\"456.5\" y=\"41\"/><text fill=\"#000000\" font-family=\"sans-serif\" font-size=\"12\" font-style=\"italic\" lengthAdjust=\"spacingAndGlyphs\" textLength=\"69\" x=\"457.5\" y=\"57.1387\">«attribute»</text><text fill=\"#000000\" font-family=\"sans-serif\" font-size=\"12\" lengthAdjust=\"spacingAndGlyphs\" textLength=\"24\" x=\"478\" y=\"71.1074\">a: A</text><line style=\"stroke: #383838; stroke-width: 1.5;\" x1=\"457.5\" x2=\"526.5\" y1=\"78.9375\" y2=\"78.9375\"/></a><!--MD5=[b9389687b975829384b498ac4b7476b2]\n",
       "class E8--><a href=\"psysml:a95297bf-d64f-43ac-86b7-f9f55eba203a\" target=\"_top\" title=\"psysml:a95297bf-d64f-43ac-86b7-f9f55eba203a\" xlink:actuate=\"onRequest\" xlink:href=\"psysml:a95297bf-d64f-43ac-86b7-f9f55eba203a\" xlink:show=\"new\" xlink:title=\"psysml:a95297bf-d64f-43ac-86b7-f9f55eba203a\" xlink:type=\"simple\"><rect fill=\"#FFFFFF\" height=\"45.9375\" id=\"E8\" rx=\"10\" ry=\"10\" style=\"stroke: #383838; stroke-width: 1.5;\" width=\"71\" x=\"350.5\" y=\"41\"/><text fill=\"#000000\" font-family=\"sans-serif\" font-size=\"12\" font-style=\"italic\" lengthAdjust=\"spacingAndGlyphs\" textLength=\"69\" x=\"351.5\" y=\"57.1387\">«attribute»</text><text fill=\"#000000\" font-family=\"sans-serif\" font-size=\"12\" lengthAdjust=\"spacingAndGlyphs\" textLength=\"4\" x=\"384\" y=\"71.1074\">f</text><line style=\"stroke: #383838; stroke-width: 1.5;\" x1=\"351.5\" x2=\"420.5\" y1=\"78.9375\" y2=\"78.9375\"/></a><!--MD5=[fd4143e9d270a159db93a4ea2a975926]\n",
       "class E9--><a href=\"psysml:778a48ec-a539-4294-8634-0d41b068db9f\" target=\"_top\" title=\"psysml:778a48ec-a539-4294-8634-0d41b068db9f\" xlink:actuate=\"onRequest\" xlink:href=\"psysml:778a48ec-a539-4294-8634-0d41b068db9f\" xlink:show=\"new\" xlink:title=\"psysml:778a48ec-a539-4294-8634-0d41b068db9f\" xlink:type=\"simple\"><rect fill=\"#FFFFFF\" height=\"45.9375\" id=\"E9\" rx=\"10\" ry=\"10\" style=\"stroke: #383838; stroke-width: 1.5;\" width=\"71\" x=\"244.5\" y=\"41\"/><text fill=\"#000000\" font-family=\"sans-serif\" font-size=\"12\" font-style=\"italic\" lengthAdjust=\"spacingAndGlyphs\" textLength=\"69\" x=\"245.5\" y=\"57.1387\">«attribute»</text><text fill=\"#000000\" font-family=\"sans-serif\" font-size=\"12\" lengthAdjust=\"spacingAndGlyphs\" textLength=\"8\" x=\"276\" y=\"71.1074\">g</text><line style=\"stroke: #383838; stroke-width: 1.5;\" x1=\"245.5\" x2=\"314.5\" y1=\"78.9375\" y2=\"78.9375\"/></a><!--MD5=[96f4274e9e20536e775497830990834d]\n",
       "class E10--><a href=\"psysml:178fd1be-66b7-4b93-9f69-0783143b2542\" target=\"_top\" title=\"psysml:178fd1be-66b7-4b93-9f69-0783143b2542\" xlink:actuate=\"onRequest\" xlink:href=\"psysml:178fd1be-66b7-4b93-9f69-0783143b2542\" xlink:show=\"new\" xlink:title=\"psysml:178fd1be-66b7-4b93-9f69-0783143b2542\" xlink:type=\"simple\"><rect fill=\"#FFFFFF\" height=\"45.9375\" id=\"E10\" rx=\"10\" ry=\"10\" style=\"stroke: #383838; stroke-width: 1.5;\" width=\"71\" x=\"138.5\" y=\"41\"/><text fill=\"#000000\" font-family=\"sans-serif\" font-size=\"12\" font-style=\"italic\" lengthAdjust=\"spacingAndGlyphs\" textLength=\"69\" x=\"139.5\" y=\"57.1387\">«attribute»</text><text fill=\"#000000\" font-family=\"sans-serif\" font-size=\"12\" lengthAdjust=\"spacingAndGlyphs\" textLength=\"8\" x=\"170\" y=\"71.1074\">b</text><line style=\"stroke: #383838; stroke-width: 1.5;\" x1=\"139.5\" x2=\"208.5\" y1=\"78.9375\" y2=\"78.9375\"/></a><!--MD5=[1dd1bfd58a279cf63c5f349dbc8fc6a1]\n",
       "class E11--><a href=\"psysml:ce14b558-47dc-4a37-8f10-4afbd6cf7826\" target=\"_top\" title=\"psysml:ce14b558-47dc-4a37-8f10-4afbd6cf7826\" xlink:actuate=\"onRequest\" xlink:href=\"psysml:ce14b558-47dc-4a37-8f10-4afbd6cf7826\" xlink:show=\"new\" xlink:title=\"psysml:ce14b558-47dc-4a37-8f10-4afbd6cf7826\" xlink:type=\"simple\"><rect fill=\"#FFFFFF\" height=\"45.9375\" id=\"E11\" rx=\"10\" ry=\"10\" style=\"stroke: #383838; stroke-width: 1.5;\" width=\"71\" x=\"32.5\" y=\"41\"/><text fill=\"#000000\" font-family=\"sans-serif\" font-size=\"12\" font-style=\"italic\" lengthAdjust=\"spacingAndGlyphs\" textLength=\"69\" x=\"33.5\" y=\"57.1387\">«attribute»</text><text fill=\"#000000\" font-family=\"sans-serif\" font-size=\"12\" lengthAdjust=\"spacingAndGlyphs\" textLength=\"7\" x=\"64.5\" y=\"71.1074\">c</text><line style=\"stroke: #383838; stroke-width: 1.5;\" x1=\"33.5\" x2=\"102.5\" y1=\"78.9375\" y2=\"78.9375\"/></a><text fill=\"#000000\" font-family=\"sans-serif\" font-size=\"14\" lengthAdjust=\"spacingAndGlyphs\" textLength=\"9\" x=\"569.5\" y=\"42.6982\">p</text><rect fill=\"#383838\" height=\"12\" style=\"stroke: #F8F8F8; stroke-width: 1.5;\" width=\"12\" x=\"568\" y=\"58\"/><text fill=\"#000000\" font-family=\"sans-serif\" font-size=\"14\" lengthAdjust=\"spacingAndGlyphs\" textLength=\"9\" x=\"616.5\" y=\"42.6982\">q</text><rect fill=\"#383838\" height=\"12\" style=\"stroke: #F8F8F8; stroke-width: 1.5;\" width=\"12\" x=\"615\" y=\"58\"/><text fill=\"#000000\" font-family=\"sans-serif\" font-size=\"14\" lengthAdjust=\"spacingAndGlyphs\" textLength=\"39\" x=\"601.5\" y=\"193.7151\">result</text><rect fill=\"#383838\" height=\"12\" style=\"stroke: #F8F8F8; stroke-width: 1.5;\" width=\"12\" x=\"615\" y=\"168.72\"/><!--MD5=[05d275557350bfb9b23a4ef7222b4c39]\n",
       "link E3 to E2--><a href=\"psysml:f36357d4-9dbb-46b9-9535-0d41e0b85630\" target=\"_top\" title=\"psysml:f36357d4-9dbb-46b9-9535-0d41e0b85630\" xlink:actuate=\"onRequest\" xlink:href=\"psysml:f36357d4-9dbb-46b9-9535-0d41e0b85630\" xlink:show=\"new\" xlink:title=\"psysml:f36357d4-9dbb-46b9-9535-0d41e0b85630\" xlink:type=\"simple\"><path d=\"M481.02,87.17 C480.96,87.29 480.9,87.41 480.84,87.53 \" fill=\"none\" id=\"E3-&gt;E2\" style=\"stroke: #383838; stroke-width: 1.0;\"/><polygon fill=\"#FFFFFF\" points=\"475.19,98.93,477.3425,78.7963,489.8904,85.0052,475.19,98.93\" style=\"stroke: #383838; stroke-width: 1.0;\"/><ellipse cx=\"481.663\" cy=\"74.5745\" fill=\"#383838\" rx=\"2\" ry=\"2\" style=\"stroke: #383838; stroke-width: 1.0;\"/><ellipse cx=\"490.6257\" cy=\"79.0095\" fill=\"#383838\" rx=\"2\" ry=\"2\" style=\"stroke: #383838; stroke-width: 1.0;\"/></a><!--MD5=[2f082e42011ece1d4987472ca2c14960]\n",
       "@startuml\r\n",
       "skinparam ranksep 10\r\n",
       "skinparam rectangle {\r\n",
       " backgroundColor<<block>> LightGreen\r\n",
       "}\r\n",
       "skinparam linetype polyline\r\n",
       "skinparam monochrome true\r\n",
       "skinparam classbackgroundcolor white\r\n",
       "skinparam shadowing false\r\n",
       "skinparam wrapWidth 300\r\n",
       "hide circle\r\n",
       "\r\n",
       "package \"ParameterTest\" as E1  [[psysml:19b06251-fe6f-4e99-9afa-d6889eb7a18f ]]  {\r\n",
       "def \"A\" as E2  <<(T,blue) attribute  def>> [[psysml:a687f627-404e-4522-a6e9-e30e4b3087b4 ]] \r\n",
       "comp usage \"a: A \" as E3  <<(T,blue) attribute>> [[psysml:080a965c-bda9-42ef-b0e7-dadea2c4de7a ]] {\r\n",
       "}\r\n",
       "rec def \"F\" as E4  <<(T,blue) calculation  def>> [[psysml:87bb354b-94c0-403b-b7cb-102c1c7ef37a ]] {\r\n",
       "portin \"p\" as E5  [[psysml:16f7e9d3-43d0-4287-8a70-cbe1c91459d8 ]] \r\n",
       "portin \"q\" as E6  [[psysml:b2699d44-082f-48d9-8fe4-b2b87d72af88 ]] \r\n",
       "portout \"result\" as E7  [[psysml:efe4aa1f-bd0b-42c7-877f-48fcbd913317 ]] \r\n",
       "}\r\n",
       "\r\n",
       "comp usage \"f\" as E8  <<(T,blue) attribute>> [[psysml:a95297bf-d64f-43ac-86b7-f9f55eba203a ]] {\r\n",
       "}\r\n",
       "comp usage \"g\" as E9  <<(T,blue) attribute>> [[psysml:778a48ec-a539-4294-8634-0d41b068db9f ]] {\r\n",
       "}\r\n",
       "comp usage \"b\" as E10  <<(T,blue) attribute>> [[psysml:178fd1be-66b7-4b93-9f69-0783143b2542 ]] {\r\n",
       "}\r\n",
       "comp usage \"c\" as E11  <<(T,blue) attribute>> [[psysml:ce14b558-47dc-4a37-8f10-4afbd6cf7826 ]] {\r\n",
       "}\r\n",
       "}\r\n",
       "E3 - -:|> E2 [[psysml:f36357d4-9dbb-46b9-9535-0d41e0b85630 ]] \r\n",
       "@enduml\r\n",
       "\n",
       "PlantUML version 1.2020.13(Sat Jun 13 12:26:38 UTC 2020)\n",
       "(EPL source distribution)\n",
       "Java Runtime: OpenJDK Runtime Environment\n",
       "JVM: OpenJDK 64-Bit Server VM\n",
       "Default Encoding: UTF-8\n",
       "Language: en\n",
       "Country: null\n",
       "--></g></svg>"
      ]
     },
     "execution_count": 12,
     "metadata": {},
     "output_type": "execute_result"
    }
   ],
   "source": [
    "%viz --style=\"POLYLINE\" --view=\"Interconnection\" \"ParameterTest\""
   ]
  },
  {
   "cell_type": "code",
   "execution_count": 13,
   "id": "fc01c641",
   "metadata": {
    "execution": {
     "iopub.execute_input": "2021-11-13T12:59:14.846739Z",
     "iopub.status.busy": "2021-11-13T12:59:14.846341Z",
     "iopub.status.idle": "2021-11-13T12:59:14.865163Z",
     "shell.execute_reply": "2021-11-13T12:59:14.865457Z"
    }
   },
   "outputs": [
    {
     "data": {
      "image/svg+xml": [
       "<?xml version=\"1.0\" encoding=\"UTF-8\" standalone=\"no\"?><svg xmlns=\"http://www.w3.org/2000/svg\" xmlns:xlink=\"http://www.w3.org/1999/xlink\" contentScriptType=\"application/ecmascript\" contentStyleType=\"text/css\" height=\"162px\" preserveAspectRatio=\"none\" style=\"width:168px;height:162px;\" version=\"1.1\" viewBox=\"0 0 168 162\" width=\"168px\" zoomAndPan=\"magnify\"><defs/><g><!--MD5=[fbc87193dbaf4d95561dea2c320d4a47]\n",
       "cluster E1--><a href=\"psysml:87bb354b-94c0-403b-b7cb-102c1c7ef37a\" target=\"_top\" title=\"psysml:87bb354b-94c0-403b-b7cb-102c1c7ef37a\" xlink:actuate=\"onRequest\" xlink:href=\"psysml:87bb354b-94c0-403b-b7cb-102c1c7ef37a\" xlink:show=\"new\" xlink:title=\"psysml:87bb354b-94c0-403b-b7cb-102c1c7ef37a\" xlink:type=\"simple\"><rect fill=\"#FFFFFF\" height=\"87.72\" id=\"E1\" style=\"stroke: #383838; stroke-width: 1.5;\" width=\"150\" x=\"7\" y=\"42.0986\"/><rect fill=\"#F8F8F8\" height=\"37.9375\" style=\"stroke: #383838; stroke-width: 1.5;\" width=\"150\" x=\"7\" y=\"42.0986\"/><text fill=\"#000000\" font-family=\"sans-serif\" font-size=\"12\" font-style=\"italic\" lengthAdjust=\"spacingAndGlyphs\" textLength=\"110\" x=\"27\" y=\"58.2373\">«calculation  def»</text><text fill=\"#000000\" font-family=\"sans-serif\" font-size=\"12\" lengthAdjust=\"spacingAndGlyphs\" textLength=\"7\" x=\"78.5\" y=\"72.2061\">F</text></a><text fill=\"#000000\" font-family=\"sans-serif\" font-size=\"14\" lengthAdjust=\"spacingAndGlyphs\" textLength=\"9\" x=\"20.5\" y=\"20.7969\">p</text><rect fill=\"#383838\" height=\"12\" style=\"stroke: #F8F8F8; stroke-width: 1.5;\" width=\"12\" x=\"19\" y=\"36.0986\"/><text fill=\"#000000\" font-family=\"sans-serif\" font-size=\"14\" lengthAdjust=\"spacingAndGlyphs\" textLength=\"9\" x=\"67.5\" y=\"20.7969\">q</text><rect fill=\"#383838\" height=\"12\" style=\"stroke: #F8F8F8; stroke-width: 1.5;\" width=\"12\" x=\"66\" y=\"36.0986\"/><text fill=\"#000000\" font-family=\"sans-serif\" font-size=\"14\" lengthAdjust=\"spacingAndGlyphs\" textLength=\"39\" x=\"52.5\" y=\"148.8138\">result</text><rect fill=\"#383838\" height=\"12\" style=\"stroke: #F8F8F8; stroke-width: 1.5;\" width=\"12\" x=\"66\" y=\"123.8186\"/><!--MD5=[c1204ce12dcae9771df5ea275790adca]\n",
       "@startuml\r\n",
       "skinparam ranksep 8\r\n",
       "skinparam linetype polyline\r\n",
       "skinparam monochrome true\r\n",
       "skinparam classbackgroundcolor white\r\n",
       "skinparam shadowing false\r\n",
       "skinparam wrapWidth 300\r\n",
       "hide circle\r\n",
       "\r\n",
       "rec def \"F\" as E1  <<(T,blue) calculation  def>> [[psysml:87bb354b-94c0-403b-b7cb-102c1c7ef37a ]] {\r\n",
       "portin \"p\" as E2  [[psysml:16f7e9d3-43d0-4287-8a70-cbe1c91459d8 ]] \r\n",
       "portin \"q\" as E3  [[psysml:b2699d44-082f-48d9-8fe4-b2b87d72af88 ]] \r\n",
       "portout \"result\" as E4  [[psysml:efe4aa1f-bd0b-42c7-877f-48fcbd913317 ]] \r\n",
       "}\r\n",
       "\r\n",
       "@enduml\r\n",
       "\n",
       "PlantUML version 1.2020.13(Sat Jun 13 12:26:38 UTC 2020)\n",
       "(EPL source distribution)\n",
       "Java Runtime: OpenJDK Runtime Environment\n",
       "JVM: OpenJDK 64-Bit Server VM\n",
       "Default Encoding: UTF-8\n",
       "Language: en\n",
       "Country: null\n",
       "--></g></svg>"
      ]
     },
     "execution_count": 13,
     "metadata": {},
     "output_type": "execute_result"
    }
   ],
   "source": [
    "%viz --style=\"POLYLINE\" --view=\"Action\" \"ParameterTest\""
   ]
  },
  {
   "cell_type": "code",
   "execution_count": 14,
   "id": "5cb3812e",
   "metadata": {
    "execution": {
     "iopub.execute_input": "2021-11-13T12:59:14.914970Z",
     "iopub.status.busy": "2021-11-13T12:59:14.914571Z",
     "iopub.status.idle": "2021-11-13T12:59:14.921260Z",
     "shell.execute_reply": "2021-11-13T12:59:14.921569Z"
    }
   },
   "outputs": [
    {
     "data": {
      "image/svg+xml": [
       "<?xml version=\"1.0\" encoding=\"UTF-8\" standalone=\"no\"?><svg xmlns=\"http://www.w3.org/2000/svg\" xmlns:xlink=\"http://www.w3.org/1999/xlink\" contentScriptType=\"application/ecmascript\" contentStyleType=\"text/css\" height=\"12px\" preserveAspectRatio=\"none\" style=\"width:12px;height:12px;\" version=\"1.1\" viewBox=\"0 0 12 12\" width=\"12px\" zoomAndPan=\"magnify\"><defs/><g><!--MD5=[dc938048236c351797870c36b62f92ad]\n",
       "@startuml\r\n",
       "skinparam roundcorner 20\r\n",
       "skinparam BoxPadding 20\r\n",
       "skinparam SequenceBoxBackgroundColor #white\r\n",
       "skinparam style strictuml\r\n",
       "skinparam maxMessageSize 100\r\n",
       "skinparam linetype polyline\r\n",
       "skinparam monochrome true\r\n",
       "skinparam classbackgroundcolor white\r\n",
       "skinparam shadowing false\r\n",
       "skinparam wrapWidth 300\r\n",
       "hide circle\r\n",
       "\r\n",
       "@enduml\r\n",
       "\n",
       "PlantUML version 1.2020.13(Sat Jun 13 12:26:38 UTC 2020)\n",
       "(EPL source distribution)\n",
       "Java Runtime: OpenJDK Runtime Environment\n",
       "JVM: OpenJDK 64-Bit Server VM\n",
       "Default Encoding: UTF-8\n",
       "Language: en\n",
       "Country: null\n",
       "--></g></svg>"
      ]
     },
     "execution_count": 14,
     "metadata": {},
     "output_type": "execute_result"
    }
   ],
   "source": [
    "%viz --style=\"POLYLINE\" --view=\"Sequence\" \"ParameterTest\""
   ]
  },
  {
   "cell_type": "code",
   "execution_count": 15,
   "id": "50f48528",
   "metadata": {
    "execution": {
     "iopub.execute_input": "2021-11-13T12:59:14.971323Z",
     "iopub.status.busy": "2021-11-13T12:59:14.970914Z",
     "iopub.status.idle": "2021-11-13T12:59:15.029667Z",
     "shell.execute_reply": "2021-11-13T12:59:15.029980Z"
    }
   },
   "outputs": [
    {
     "data": {
      "image/svg+xml": [
       "<?xml version=\"1.0\" encoding=\"UTF-8\" standalone=\"no\"?><svg xmlns=\"http://www.w3.org/2000/svg\" xmlns:xlink=\"http://www.w3.org/1999/xlink\" contentScriptType=\"application/ecmascript\" contentStyleType=\"text/css\" height=\"403px\" preserveAspectRatio=\"none\" style=\"width:744px;height:403px;\" version=\"1.1\" viewBox=\"0 0 744 403\" width=\"744px\" zoomAndPan=\"magnify\"><defs/><g><!--MD5=[fbc87193dbaf4d95561dea2c320d4a47]\n",
       "cluster E1--><a href=\"psysml:19b06251-fe6f-4e99-9afa-d6889eb7a18f\" target=\"_top\" title=\"psysml:19b06251-fe6f-4e99-9afa-d6889eb7a18f\" xlink:actuate=\"onRequest\" xlink:href=\"psysml:19b06251-fe6f-4e99-9afa-d6889eb7a18f\" xlink:show=\"new\" xlink:title=\"psysml:19b06251-fe6f-4e99-9afa-d6889eb7a18f\" xlink:type=\"simple\"><polygon fill=\"#FFFFFF\" points=\"16,6,124,6,131,28.2969,722,28.2969,722,391.72,16,391.72,16,6\" style=\"stroke: #000000; stroke-width: 1.5;\"/><line style=\"stroke: #000000; stroke-width: 1.5;\" x1=\"16\" x2=\"131\" y1=\"28.2969\" y2=\"28.2969\"/><text fill=\"#000000\" font-family=\"sans-serif\" font-size=\"14\" font-weight=\"bold\" lengthAdjust=\"spacingAndGlyphs\" textLength=\"102\" x=\"20\" y=\"20.9951\">ParameterTest</text></a><!--MD5=[f6df4d0ebaf0b5dfb2ced0ae5af7c670]\n",
       "cluster E4--><a href=\"psysml:87bb354b-94c0-403b-b7cb-102c1c7ef37a\" target=\"_top\" title=\"psysml:87bb354b-94c0-403b-b7cb-102c1c7ef37a\" xlink:actuate=\"onRequest\" xlink:href=\"psysml:87bb354b-94c0-403b-b7cb-102c1c7ef37a\" xlink:show=\"new\" xlink:title=\"psysml:87bb354b-94c0-403b-b7cb-102c1c7ef37a\" xlink:type=\"simple\"><rect fill=\"#FFFFFF\" height=\"297.72\" id=\"E4\" style=\"stroke: #383838; stroke-width: 1.5;\" width=\"150\" x=\"556\" y=\"64\"/><rect fill=\"#F8F8F8\" height=\"37.9375\" style=\"stroke: #383838; stroke-width: 1.5;\" width=\"150\" x=\"556\" y=\"64\"/><text fill=\"#000000\" font-family=\"sans-serif\" font-size=\"12\" font-style=\"italic\" lengthAdjust=\"spacingAndGlyphs\" textLength=\"110\" x=\"576\" y=\"80.1387\">«calculation  def»</text><text fill=\"#000000\" font-family=\"sans-serif\" font-size=\"12\" lengthAdjust=\"spacingAndGlyphs\" textLength=\"7\" x=\"627.5\" y=\"94.1074\">F</text></a><!--MD5=[b4997ac47864f28c2f74865a473b2911]\n",
       "class E2--><a href=\"psysml:a687f627-404e-4522-a6e9-e30e4b3087b4\" target=\"_top\" title=\"psysml:a687f627-404e-4522-a6e9-e30e4b3087b4\" xlink:actuate=\"onRequest\" xlink:href=\"psysml:a687f627-404e-4522-a6e9-e30e4b3087b4\" xlink:show=\"new\" xlink:title=\"psysml:a687f627-404e-4522-a6e9-e30e4b3087b4\" xlink:type=\"simple\"><rect fill=\"#FFFFFF\" height=\"88.3516\" id=\"E2\" style=\"stroke: #383838; stroke-width: 1.5;\" width=\"99\" x=\"418.5\" y=\"147\"/><text fill=\"#000000\" font-family=\"sans-serif\" font-size=\"12\" font-style=\"italic\" lengthAdjust=\"spacingAndGlyphs\" textLength=\"97\" x=\"419.5\" y=\"163.1387\">«attribute  def»</text><text fill=\"#000000\" font-family=\"sans-serif\" font-size=\"12\" lengthAdjust=\"spacingAndGlyphs\" textLength=\"8\" x=\"464\" y=\"177.1074\">A</text><line style=\"stroke: #383838; stroke-width: 1.5;\" x1=\"419.5\" x2=\"516.5\" y1=\"184.9375\" y2=\"184.9375\"/><text fill=\"#000000\" font-family=\"sans-serif\" font-size=\"11\" lengthAdjust=\"spacingAndGlyphs\" textLength=\"48\" x=\"424.5\" y=\"215.9526\">x: String</text><text fill=\"#000000\" font-family=\"sans-serif\" font-size=\"11\" lengthAdjust=\"spacingAndGlyphs\" textLength=\"21\" x=\"424.5\" y=\"228.7573\">y: A</text><line style=\"stroke: #383838; stroke-width: 1.0;\" x1=\"419.5\" x2=\"440.5\" y1=\"199.3398\" y2=\"199.3398\"/><text fill=\"#000000\" font-family=\"sans-serif\" font-size=\"11\" lengthAdjust=\"spacingAndGlyphs\" textLength=\"55\" x=\"440.5\" y=\"202.6479\">attributes</text><line style=\"stroke: #383838; stroke-width: 1.0;\" x1=\"495.5\" x2=\"516.5\" y1=\"199.3398\" y2=\"199.3398\"/></a><!--MD5=[09b614a08d8cba4a07c9adeb5e0fee81]\n",
       "class E3--><a href=\"psysml:080a965c-bda9-42ef-b0e7-dadea2c4de7a\" target=\"_top\" title=\"psysml:080a965c-bda9-42ef-b0e7-dadea2c4de7a\" xlink:actuate=\"onRequest\" xlink:href=\"psysml:080a965c-bda9-42ef-b0e7-dadea2c4de7a\" xlink:show=\"new\" xlink:title=\"psysml:080a965c-bda9-42ef-b0e7-dadea2c4de7a\" xlink:type=\"simple\"><rect fill=\"#FFFFFF\" height=\"45.9375\" id=\"E3\" rx=\"10\" ry=\"10\" style=\"stroke: #383838; stroke-width: 1.5;\" width=\"71\" x=\"456.5\" y=\"41\"/><text fill=\"#000000\" font-family=\"sans-serif\" font-size=\"12\" font-style=\"italic\" lengthAdjust=\"spacingAndGlyphs\" textLength=\"69\" x=\"457.5\" y=\"57.1387\">«attribute»</text><text fill=\"#000000\" font-family=\"sans-serif\" font-size=\"12\" lengthAdjust=\"spacingAndGlyphs\" textLength=\"24\" x=\"478\" y=\"71.1074\">a: A</text><line style=\"stroke: #383838; stroke-width: 1.5;\" x1=\"457.5\" x2=\"526.5\" y1=\"78.9375\" y2=\"78.9375\"/></a><!--MD5=[b9389687b975829384b498ac4b7476b2]\n",
       "class E8--><a href=\"psysml:a95297bf-d64f-43ac-86b7-f9f55eba203a\" target=\"_top\" title=\"psysml:a95297bf-d64f-43ac-86b7-f9f55eba203a\" xlink:actuate=\"onRequest\" xlink:href=\"psysml:a95297bf-d64f-43ac-86b7-f9f55eba203a\" xlink:show=\"new\" xlink:title=\"psysml:a95297bf-d64f-43ac-86b7-f9f55eba203a\" xlink:type=\"simple\"><rect fill=\"#FFFFFF\" height=\"45.9375\" id=\"E8\" rx=\"10\" ry=\"10\" style=\"stroke: #383838; stroke-width: 1.5;\" width=\"71\" x=\"350.5\" y=\"41\"/><text fill=\"#000000\" font-family=\"sans-serif\" font-size=\"12\" font-style=\"italic\" lengthAdjust=\"spacingAndGlyphs\" textLength=\"69\" x=\"351.5\" y=\"57.1387\">«attribute»</text><text fill=\"#000000\" font-family=\"sans-serif\" font-size=\"12\" lengthAdjust=\"spacingAndGlyphs\" textLength=\"4\" x=\"384\" y=\"71.1074\">f</text><line style=\"stroke: #383838; stroke-width: 1.5;\" x1=\"351.5\" x2=\"420.5\" y1=\"78.9375\" y2=\"78.9375\"/></a><!--MD5=[fd4143e9d270a159db93a4ea2a975926]\n",
       "class E9--><a href=\"psysml:778a48ec-a539-4294-8634-0d41b068db9f\" target=\"_top\" title=\"psysml:778a48ec-a539-4294-8634-0d41b068db9f\" xlink:actuate=\"onRequest\" xlink:href=\"psysml:778a48ec-a539-4294-8634-0d41b068db9f\" xlink:show=\"new\" xlink:title=\"psysml:778a48ec-a539-4294-8634-0d41b068db9f\" xlink:type=\"simple\"><rect fill=\"#FFFFFF\" height=\"45.9375\" id=\"E9\" rx=\"10\" ry=\"10\" style=\"stroke: #383838; stroke-width: 1.5;\" width=\"71\" x=\"244.5\" y=\"41\"/><text fill=\"#000000\" font-family=\"sans-serif\" font-size=\"12\" font-style=\"italic\" lengthAdjust=\"spacingAndGlyphs\" textLength=\"69\" x=\"245.5\" y=\"57.1387\">«attribute»</text><text fill=\"#000000\" font-family=\"sans-serif\" font-size=\"12\" lengthAdjust=\"spacingAndGlyphs\" textLength=\"8\" x=\"276\" y=\"71.1074\">g</text><line style=\"stroke: #383838; stroke-width: 1.5;\" x1=\"245.5\" x2=\"314.5\" y1=\"78.9375\" y2=\"78.9375\"/></a><!--MD5=[96f4274e9e20536e775497830990834d]\n",
       "class E10--><a href=\"psysml:178fd1be-66b7-4b93-9f69-0783143b2542\" target=\"_top\" title=\"psysml:178fd1be-66b7-4b93-9f69-0783143b2542\" xlink:actuate=\"onRequest\" xlink:href=\"psysml:178fd1be-66b7-4b93-9f69-0783143b2542\" xlink:show=\"new\" xlink:title=\"psysml:178fd1be-66b7-4b93-9f69-0783143b2542\" xlink:type=\"simple\"><rect fill=\"#FFFFFF\" height=\"45.9375\" id=\"E10\" rx=\"10\" ry=\"10\" style=\"stroke: #383838; stroke-width: 1.5;\" width=\"71\" x=\"138.5\" y=\"41\"/><text fill=\"#000000\" font-family=\"sans-serif\" font-size=\"12\" font-style=\"italic\" lengthAdjust=\"spacingAndGlyphs\" textLength=\"69\" x=\"139.5\" y=\"57.1387\">«attribute»</text><text fill=\"#000000\" font-family=\"sans-serif\" font-size=\"12\" lengthAdjust=\"spacingAndGlyphs\" textLength=\"8\" x=\"170\" y=\"71.1074\">b</text><line style=\"stroke: #383838; stroke-width: 1.5;\" x1=\"139.5\" x2=\"208.5\" y1=\"78.9375\" y2=\"78.9375\"/></a><!--MD5=[1dd1bfd58a279cf63c5f349dbc8fc6a1]\n",
       "class E11--><a href=\"psysml:ce14b558-47dc-4a37-8f10-4afbd6cf7826\" target=\"_top\" title=\"psysml:ce14b558-47dc-4a37-8f10-4afbd6cf7826\" xlink:actuate=\"onRequest\" xlink:href=\"psysml:ce14b558-47dc-4a37-8f10-4afbd6cf7826\" xlink:show=\"new\" xlink:title=\"psysml:ce14b558-47dc-4a37-8f10-4afbd6cf7826\" xlink:type=\"simple\"><rect fill=\"#FFFFFF\" height=\"45.9375\" id=\"E11\" rx=\"10\" ry=\"10\" style=\"stroke: #383838; stroke-width: 1.5;\" width=\"71\" x=\"32.5\" y=\"41\"/><text fill=\"#000000\" font-family=\"sans-serif\" font-size=\"12\" font-style=\"italic\" lengthAdjust=\"spacingAndGlyphs\" textLength=\"69\" x=\"33.5\" y=\"57.1387\">«attribute»</text><text fill=\"#000000\" font-family=\"sans-serif\" font-size=\"12\" lengthAdjust=\"spacingAndGlyphs\" textLength=\"7\" x=\"64.5\" y=\"71.1074\">c</text><line style=\"stroke: #383838; stroke-width: 1.5;\" x1=\"33.5\" x2=\"102.5\" y1=\"78.9375\" y2=\"78.9375\"/></a><text fill=\"#000000\" font-family=\"sans-serif\" font-size=\"14\" lengthAdjust=\"spacingAndGlyphs\" textLength=\"9\" x=\"569.5\" y=\"42.6982\">p</text><rect fill=\"#383838\" height=\"12\" style=\"stroke: #F8F8F8; stroke-width: 1.5;\" width=\"12\" x=\"568\" y=\"58\"/><text fill=\"#000000\" font-family=\"sans-serif\" font-size=\"14\" lengthAdjust=\"spacingAndGlyphs\" textLength=\"9\" x=\"616.5\" y=\"42.6982\">q</text><rect fill=\"#383838\" height=\"12\" style=\"stroke: #F8F8F8; stroke-width: 1.5;\" width=\"12\" x=\"615\" y=\"58\"/><text fill=\"#000000\" font-family=\"sans-serif\" font-size=\"14\" lengthAdjust=\"spacingAndGlyphs\" textLength=\"39\" x=\"601.5\" y=\"380.7151\">result</text><rect fill=\"#383838\" height=\"12\" style=\"stroke: #F8F8F8; stroke-width: 1.5;\" width=\"12\" x=\"615\" y=\"355.72\"/><!--MD5=[05d275557350bfb9b23a4ef7222b4c39]\n",
       "link E3 to E2--><a href=\"psysml:f36357d4-9dbb-46b9-9535-0d41e0b85630\" target=\"_top\" title=\"psysml:f36357d4-9dbb-46b9-9535-0d41e0b85630\" xlink:actuate=\"onRequest\" xlink:href=\"psysml:f36357d4-9dbb-46b9-9535-0d41e0b85630\" xlink:show=\"new\" xlink:title=\"psysml:f36357d4-9dbb-46b9-9535-0d41e0b85630\" xlink:type=\"simple\"><path d=\"M487.76,87.06 C485.61,98.3 482.86,112.6 480.11,126.95 \" fill=\"none\" id=\"E3-&gt;E2\" style=\"stroke: #383838; stroke-width: 1.0;\"/><polygon fill=\"#FFFFFF\" points=\"476.27,146.93,472.9781,126.9509,486.727,129.5907,476.27,146.93\" style=\"stroke: #383838; stroke-width: 1.0;\"/><ellipse cx=\"476.017\" cy=\"121.7303\" fill=\"#383838\" rx=\"2\" ry=\"2\" style=\"stroke: #383838; stroke-width: 1.0;\"/><ellipse cx=\"485.8376\" cy=\"123.6158\" fill=\"#383838\" rx=\"2\" ry=\"2\" style=\"stroke: #383838; stroke-width: 1.0;\"/></a><!--MD5=[4330805808cd4270eb9aee86eef75d5f]\n",
       "@startuml\r\n",
       "skinparam linetype polyline\r\n",
       "skinparam monochrome true\r\n",
       "skinparam classbackgroundcolor white\r\n",
       "skinparam shadowing false\r\n",
       "skinparam wrapWidth 300\r\n",
       "hide circle\r\n",
       "\r\n",
       "package \"ParameterTest\" as E1  [[psysml:19b06251-fe6f-4e99-9afa-d6889eb7a18f ]]  {\r\n",
       "comp def \"A\" as E2  <<(T,blue) attribute  def>> [[psysml:a687f627-404e-4522-a6e9-e30e4b3087b4 ]] {\r\n",
       "- - attributes - -\r\n",
       "x: String\r\n",
       "y: A\r\n",
       "}\r\n",
       "comp usage \"a: A \" as E3  <<(T,blue) attribute>> [[psysml:080a965c-bda9-42ef-b0e7-dadea2c4de7a ]] {\r\n",
       "}\r\n",
       "rec def \"F\" as E4  <<(T,blue) calculation  def>> [[psysml:87bb354b-94c0-403b-b7cb-102c1c7ef37a ]] {\r\n",
       "portin \"p\" as E5  [[psysml:16f7e9d3-43d0-4287-8a70-cbe1c91459d8 ]] \r\n",
       "portin \"q\" as E6  [[psysml:b2699d44-082f-48d9-8fe4-b2b87d72af88 ]] \r\n",
       "portout \"result\" as E7  [[psysml:efe4aa1f-bd0b-42c7-877f-48fcbd913317 ]] \r\n",
       "}\r\n",
       "\r\n",
       "comp usage \"f\" as E8  <<(T,blue) attribute>> [[psysml:a95297bf-d64f-43ac-86b7-f9f55eba203a ]] {\r\n",
       "}\r\n",
       "comp usage \"g\" as E9  <<(T,blue) attribute>> [[psysml:778a48ec-a539-4294-8634-0d41b068db9f ]] {\r\n",
       "}\r\n",
       "comp usage \"b\" as E10  <<(T,blue) attribute>> [[psysml:178fd1be-66b7-4b93-9f69-0783143b2542 ]] {\r\n",
       "}\r\n",
       "comp usage \"c\" as E11  <<(T,blue) attribute>> [[psysml:ce14b558-47dc-4a37-8f10-4afbd6cf7826 ]] {\r\n",
       "}\r\n",
       "}\r\n",
       "E3 - -:|> E2 [[psysml:f36357d4-9dbb-46b9-9535-0d41e0b85630 ]] \r\n",
       "@enduml\r\n",
       "\n",
       "PlantUML version 1.2020.13(Sat Jun 13 12:26:38 UTC 2020)\n",
       "(EPL source distribution)\n",
       "Java Runtime: OpenJDK Runtime Environment\n",
       "JVM: OpenJDK 64-Bit Server VM\n",
       "Default Encoding: UTF-8\n",
       "Language: en\n",
       "Country: null\n",
       "--></g></svg>"
      ]
     },
     "execution_count": 15,
     "metadata": {},
     "output_type": "execute_result"
    }
   ],
   "source": [
    "%viz --style=\"POLYLINE\" --view=\"MIXED\" \"ParameterTest\""
   ]
  },
  {
   "cell_type": "code",
   "execution_count": 16,
   "id": "602d5235",
   "metadata": {
    "execution": {
     "iopub.execute_input": "2021-11-13T12:59:15.079779Z",
     "iopub.status.busy": "2021-11-13T12:59:15.079361Z",
     "iopub.status.idle": "2021-11-13T12:59:15.139017Z",
     "shell.execute_reply": "2021-11-13T12:59:15.138659Z"
    }
   },
   "outputs": [
    {
     "data": {
      "image/svg+xml": [
       "<?xml version=\"1.0\" encoding=\"UTF-8\" standalone=\"no\"?><svg xmlns=\"http://www.w3.org/2000/svg\" xmlns:xlink=\"http://www.w3.org/1999/xlink\" contentScriptType=\"application/ecmascript\" contentStyleType=\"text/css\" height=\"541px\" preserveAspectRatio=\"none\" style=\"width:478px;height:541px;\" version=\"1.1\" viewBox=\"0 0 478 541\" width=\"478px\" zoomAndPan=\"magnify\"><defs/><g><!--MD5=[fbc87193dbaf4d95561dea2c320d4a47]\n",
       "cluster E1--><a href=\"psysml:19b06251-fe6f-4e99-9afa-d6889eb7a18f\" target=\"_top\" title=\"psysml:19b06251-fe6f-4e99-9afa-d6889eb7a18f\" xlink:actuate=\"onRequest\" xlink:href=\"psysml:19b06251-fe6f-4e99-9afa-d6889eb7a18f\" xlink:show=\"new\" xlink:title=\"psysml:19b06251-fe6f-4e99-9afa-d6889eb7a18f\" xlink:type=\"simple\"><polygon fill=\"#FFFFFF\" points=\"16,6,124,6,131,28.2969,456.72,28.2969,456.72,529,16,529,16,6\" style=\"stroke: #000000; stroke-width: 1.5;\"/><line style=\"stroke: #000000; stroke-width: 1.5;\" x1=\"16\" x2=\"131\" y1=\"28.2969\" y2=\"28.2969\"/><text fill=\"#000000\" font-family=\"sans-serif\" font-size=\"14\" font-weight=\"bold\" lengthAdjust=\"spacingAndGlyphs\" textLength=\"102\" x=\"20\" y=\"20.9951\">ParameterTest</text></a><!--MD5=[f6df4d0ebaf0b5dfb2ced0ae5af7c670]\n",
       "cluster E4--><a href=\"psysml:87bb354b-94c0-403b-b7cb-102c1c7ef37a\" target=\"_top\" title=\"psysml:87bb354b-94c0-403b-b7cb-102c1c7ef37a\" xlink:actuate=\"onRequest\" xlink:href=\"psysml:87bb354b-94c0-403b-b7cb-102c1c7ef37a\" xlink:show=\"new\" xlink:title=\"psysml:87bb354b-94c0-403b-b7cb-102c1c7ef37a\" xlink:type=\"simple\"><rect fill=\"#FFFFFF\" height=\"47\" id=\"E4\" style=\"stroke: #383838; stroke-width: 1.5;\" width=\"377.22\" x=\"49.5\" y=\"55\"/><rect fill=\"#F8F8F8\" height=\"37.9375\" style=\"stroke: #383838; stroke-width: 1.5;\" width=\"377.22\" x=\"49.5\" y=\"55\"/><text fill=\"#000000\" font-family=\"sans-serif\" font-size=\"12\" font-style=\"italic\" lengthAdjust=\"spacingAndGlyphs\" textLength=\"110\" x=\"183.11\" y=\"71.1387\">«calculation  def»</text><text fill=\"#000000\" font-family=\"sans-serif\" font-size=\"12\" lengthAdjust=\"spacingAndGlyphs\" textLength=\"7\" x=\"234.61\" y=\"85.1074\">F</text></a><!--MD5=[b4997ac47864f28c2f74865a473b2911]\n",
       "class E2--><a href=\"psysml:a687f627-404e-4522-a6e9-e30e4b3087b4\" target=\"_top\" title=\"psysml:a687f627-404e-4522-a6e9-e30e4b3087b4\" xlink:actuate=\"onRequest\" xlink:href=\"psysml:a687f627-404e-4522-a6e9-e30e4b3087b4\" xlink:show=\"new\" xlink:title=\"psysml:a687f627-404e-4522-a6e9-e30e4b3087b4\" xlink:type=\"simple\"><rect fill=\"#FFFFFF\" height=\"88.3516\" id=\"E2\" style=\"stroke: #383838; stroke-width: 1.5;\" width=\"99\" x=\"182\" y=\"128\"/><text fill=\"#000000\" font-family=\"sans-serif\" font-size=\"12\" font-style=\"italic\" lengthAdjust=\"spacingAndGlyphs\" textLength=\"97\" x=\"183\" y=\"144.1387\">«attribute  def»</text><text fill=\"#000000\" font-family=\"sans-serif\" font-size=\"12\" lengthAdjust=\"spacingAndGlyphs\" textLength=\"8\" x=\"227.5\" y=\"158.1074\">A</text><line style=\"stroke: #383838; stroke-width: 1.5;\" x1=\"183\" x2=\"280\" y1=\"165.9375\" y2=\"165.9375\"/><text fill=\"#000000\" font-family=\"sans-serif\" font-size=\"11\" lengthAdjust=\"spacingAndGlyphs\" textLength=\"48\" x=\"188\" y=\"196.9526\">x: String</text><text fill=\"#000000\" font-family=\"sans-serif\" font-size=\"11\" lengthAdjust=\"spacingAndGlyphs\" textLength=\"21\" x=\"188\" y=\"209.7573\">y: A</text><line style=\"stroke: #383838; stroke-width: 1.0;\" x1=\"183\" x2=\"204\" y1=\"180.3398\" y2=\"180.3398\"/><text fill=\"#000000\" font-family=\"sans-serif\" font-size=\"11\" lengthAdjust=\"spacingAndGlyphs\" textLength=\"55\" x=\"204\" y=\"183.6479\">attributes</text><line style=\"stroke: #383838; stroke-width: 1.0;\" x1=\"259\" x2=\"280\" y1=\"180.3398\" y2=\"180.3398\"/></a><!--MD5=[09b614a08d8cba4a07c9adeb5e0fee81]\n",
       "class E3--><a href=\"psysml:080a965c-bda9-42ef-b0e7-dadea2c4de7a\" target=\"_top\" title=\"psysml:080a965c-bda9-42ef-b0e7-dadea2c4de7a\" xlink:actuate=\"onRequest\" xlink:href=\"psysml:080a965c-bda9-42ef-b0e7-dadea2c4de7a\" xlink:show=\"new\" xlink:title=\"psysml:080a965c-bda9-42ef-b0e7-dadea2c4de7a\" xlink:type=\"simple\"><rect fill=\"#FFFFFF\" height=\"45.9375\" id=\"E3\" rx=\"10\" ry=\"10\" style=\"stroke: #383838; stroke-width: 1.5;\" width=\"71\" x=\"32\" y=\"143\"/><text fill=\"#000000\" font-family=\"sans-serif\" font-size=\"12\" font-style=\"italic\" lengthAdjust=\"spacingAndGlyphs\" textLength=\"69\" x=\"33\" y=\"159.1387\">«attribute»</text><text fill=\"#000000\" font-family=\"sans-serif\" font-size=\"12\" lengthAdjust=\"spacingAndGlyphs\" textLength=\"24\" x=\"53.5\" y=\"173.1074\">a: A</text><line style=\"stroke: #383838; stroke-width: 1.5;\" x1=\"33\" x2=\"102\" y1=\"180.9375\" y2=\"180.9375\"/></a><!--MD5=[b9389687b975829384b498ac4b7476b2]\n",
       "class E8--><a href=\"psysml:a95297bf-d64f-43ac-86b7-f9f55eba203a\" target=\"_top\" title=\"psysml:a95297bf-d64f-43ac-86b7-f9f55eba203a\" xlink:actuate=\"onRequest\" xlink:href=\"psysml:a95297bf-d64f-43ac-86b7-f9f55eba203a\" xlink:show=\"new\" xlink:title=\"psysml:a95297bf-d64f-43ac-86b7-f9f55eba203a\" xlink:type=\"simple\"><rect fill=\"#FFFFFF\" height=\"45.9375\" id=\"E8\" rx=\"10\" ry=\"10\" style=\"stroke: #383838; stroke-width: 1.5;\" width=\"71\" x=\"32\" y=\"224\"/><text fill=\"#000000\" font-family=\"sans-serif\" font-size=\"12\" font-style=\"italic\" lengthAdjust=\"spacingAndGlyphs\" textLength=\"69\" x=\"33\" y=\"240.1387\">«attribute»</text><text fill=\"#000000\" font-family=\"sans-serif\" font-size=\"12\" lengthAdjust=\"spacingAndGlyphs\" textLength=\"4\" x=\"65.5\" y=\"254.1074\">f</text><line style=\"stroke: #383838; stroke-width: 1.5;\" x1=\"33\" x2=\"102\" y1=\"261.9375\" y2=\"261.9375\"/></a><!--MD5=[fd4143e9d270a159db93a4ea2a975926]\n",
       "class E9--><a href=\"psysml:778a48ec-a539-4294-8634-0d41b068db9f\" target=\"_top\" title=\"psysml:778a48ec-a539-4294-8634-0d41b068db9f\" xlink:actuate=\"onRequest\" xlink:href=\"psysml:778a48ec-a539-4294-8634-0d41b068db9f\" xlink:show=\"new\" xlink:title=\"psysml:778a48ec-a539-4294-8634-0d41b068db9f\" xlink:type=\"simple\"><rect fill=\"#FFFFFF\" height=\"45.9375\" id=\"E9\" rx=\"10\" ry=\"10\" style=\"stroke: #383838; stroke-width: 1.5;\" width=\"71\" x=\"32\" y=\"305\"/><text fill=\"#000000\" font-family=\"sans-serif\" font-size=\"12\" font-style=\"italic\" lengthAdjust=\"spacingAndGlyphs\" textLength=\"69\" x=\"33\" y=\"321.1387\">«attribute»</text><text fill=\"#000000\" font-family=\"sans-serif\" font-size=\"12\" lengthAdjust=\"spacingAndGlyphs\" textLength=\"8\" x=\"63.5\" y=\"335.1074\">g</text><line style=\"stroke: #383838; stroke-width: 1.5;\" x1=\"33\" x2=\"102\" y1=\"342.9375\" y2=\"342.9375\"/></a><!--MD5=[96f4274e9e20536e775497830990834d]\n",
       "class E10--><a href=\"psysml:178fd1be-66b7-4b93-9f69-0783143b2542\" target=\"_top\" title=\"psysml:178fd1be-66b7-4b93-9f69-0783143b2542\" xlink:actuate=\"onRequest\" xlink:href=\"psysml:178fd1be-66b7-4b93-9f69-0783143b2542\" xlink:show=\"new\" xlink:title=\"psysml:178fd1be-66b7-4b93-9f69-0783143b2542\" xlink:type=\"simple\"><rect fill=\"#FFFFFF\" height=\"45.9375\" id=\"E10\" rx=\"10\" ry=\"10\" style=\"stroke: #383838; stroke-width: 1.5;\" width=\"71\" x=\"32\" y=\"386\"/><text fill=\"#000000\" font-family=\"sans-serif\" font-size=\"12\" font-style=\"italic\" lengthAdjust=\"spacingAndGlyphs\" textLength=\"69\" x=\"33\" y=\"402.1387\">«attribute»</text><text fill=\"#000000\" font-family=\"sans-serif\" font-size=\"12\" lengthAdjust=\"spacingAndGlyphs\" textLength=\"8\" x=\"63.5\" y=\"416.1074\">b</text><line style=\"stroke: #383838; stroke-width: 1.5;\" x1=\"33\" x2=\"102\" y1=\"423.9375\" y2=\"423.9375\"/></a><!--MD5=[1dd1bfd58a279cf63c5f349dbc8fc6a1]\n",
       "class E11--><a href=\"psysml:ce14b558-47dc-4a37-8f10-4afbd6cf7826\" target=\"_top\" title=\"psysml:ce14b558-47dc-4a37-8f10-4afbd6cf7826\" xlink:actuate=\"onRequest\" xlink:href=\"psysml:ce14b558-47dc-4a37-8f10-4afbd6cf7826\" xlink:show=\"new\" xlink:title=\"psysml:ce14b558-47dc-4a37-8f10-4afbd6cf7826\" xlink:type=\"simple\"><rect fill=\"#FFFFFF\" height=\"45.9375\" id=\"E11\" rx=\"10\" ry=\"10\" style=\"stroke: #383838; stroke-width: 1.5;\" width=\"71\" x=\"32\" y=\"467\"/><text fill=\"#000000\" font-family=\"sans-serif\" font-size=\"12\" font-style=\"italic\" lengthAdjust=\"spacingAndGlyphs\" textLength=\"69\" x=\"33\" y=\"483.1387\">«attribute»</text><text fill=\"#000000\" font-family=\"sans-serif\" font-size=\"12\" lengthAdjust=\"spacingAndGlyphs\" textLength=\"7\" x=\"64\" y=\"497.1074\">c</text><line style=\"stroke: #383838; stroke-width: 1.5;\" x1=\"33\" x2=\"102\" y1=\"504.9375\" y2=\"504.9375\"/></a><text fill=\"#000000\" font-family=\"sans-serif\" font-size=\"14\" lengthAdjust=\"spacingAndGlyphs\" textLength=\"9\" x=\"63\" y=\"120.9951\">p</text><rect fill=\"#383838\" height=\"12\" style=\"stroke: #F8F8F8; stroke-width: 1.5;\" width=\"12\" x=\"61.5\" y=\"96\"/><text fill=\"#000000\" font-family=\"sans-serif\" font-size=\"14\" lengthAdjust=\"spacingAndGlyphs\" textLength=\"9\" x=\"63\" y=\"33.6982\">q</text><rect fill=\"#383838\" height=\"12\" style=\"stroke: #F8F8F8; stroke-width: 1.5;\" width=\"12\" x=\"61.5\" y=\"49\"/><text fill=\"#000000\" font-family=\"sans-serif\" font-size=\"14\" lengthAdjust=\"spacingAndGlyphs\" textLength=\"39\" x=\"407.22\" y=\"53.6982\">result</text><rect fill=\"#383838\" height=\"12\" style=\"stroke: #F8F8F8; stroke-width: 1.5;\" width=\"12\" x=\"420.72\" y=\"69\"/><!--MD5=[05d275557350bfb9b23a4ef7222b4c39]\n",
       "link E3 to E2--><a href=\"psysml:f36357d4-9dbb-46b9-9535-0d41e0b85630\" target=\"_top\" title=\"psysml:f36357d4-9dbb-46b9-9535-0d41e0b85630\" xlink:actuate=\"onRequest\" xlink:href=\"psysml:f36357d4-9dbb-46b9-9535-0d41e0b85630\" xlink:show=\"new\" xlink:title=\"psysml:f36357d4-9dbb-46b9-9535-0d41e0b85630\" xlink:type=\"simple\"><path d=\"M103.25,167.29 C120.39,167.92 141.67,168.71 161.9,169.46 \" fill=\"none\" id=\"E3-&gt;E2\" style=\"stroke: #383838; stroke-width: 1.0;\"/><polygon fill=\"#FFFFFF\" points=\"181.98,170.2,162.7331,176.4894,163.2531,162.4991,181.98,170.2\" style=\"stroke: #383838; stroke-width: 1.0;\"/><ellipse cx=\"157.1113\" cy=\"174.2791\" fill=\"#383838\" rx=\"2\" ry=\"2\" style=\"stroke: #383838; stroke-width: 1.0;\"/><ellipse cx=\"157.4828\" cy=\"164.286\" fill=\"#383838\" rx=\"2\" ry=\"2\" style=\"stroke: #383838; stroke-width: 1.0;\"/></a><!--MD5=[8751da20c8e06f20126bedec8a0fc18f]\n",
       "@startuml\r\n",
       "left to right direction\r\n",
       "skinparam monochrome true\r\n",
       "skinparam classbackgroundcolor white\r\n",
       "skinparam shadowing false\r\n",
       "skinparam wrapWidth 300\r\n",
       "hide circle\r\n",
       "\r\n",
       "package \"ParameterTest\" as E1  [[psysml:19b06251-fe6f-4e99-9afa-d6889eb7a18f ]]  {\r\n",
       "comp def \"A\" as E2  <<(T,blue) attribute  def>> [[psysml:a687f627-404e-4522-a6e9-e30e4b3087b4 ]] {\r\n",
       "- - attributes - -\r\n",
       "x: String\r\n",
       "y: A\r\n",
       "}\r\n",
       "comp usage \"a: A \" as E3  <<(T,blue) attribute>> [[psysml:080a965c-bda9-42ef-b0e7-dadea2c4de7a ]] {\r\n",
       "}\r\n",
       "rec def \"F\" as E4  <<(T,blue) calculation  def>> [[psysml:87bb354b-94c0-403b-b7cb-102c1c7ef37a ]] {\r\n",
       "portin \"p\" as E5  [[psysml:16f7e9d3-43d0-4287-8a70-cbe1c91459d8 ]] \r\n",
       "portin \"q\" as E6  [[psysml:b2699d44-082f-48d9-8fe4-b2b87d72af88 ]] \r\n",
       "portout \"result\" as E7  [[psysml:efe4aa1f-bd0b-42c7-877f-48fcbd913317 ]] \r\n",
       "}\r\n",
       "\r\n",
       "comp usage \"f\" as E8  <<(T,blue) attribute>> [[psysml:a95297bf-d64f-43ac-86b7-f9f55eba203a ]] {\r\n",
       "}\r\n",
       "comp usage \"g\" as E9  <<(T,blue) attribute>> [[psysml:778a48ec-a539-4294-8634-0d41b068db9f ]] {\r\n",
       "}\r\n",
       "comp usage \"b\" as E10  <<(T,blue) attribute>> [[psysml:178fd1be-66b7-4b93-9f69-0783143b2542 ]] {\r\n",
       "}\r\n",
       "comp usage \"c\" as E11  <<(T,blue) attribute>> [[psysml:ce14b558-47dc-4a37-8f10-4afbd6cf7826 ]] {\r\n",
       "}\r\n",
       "}\r\n",
       "E3 - -:|> E2 [[psysml:f36357d4-9dbb-46b9-9535-0d41e0b85630 ]] \r\n",
       "@enduml\r\n",
       "\n",
       "PlantUML version 1.2020.13(Sat Jun 13 12:26:38 UTC 2020)\n",
       "(EPL source distribution)\n",
       "Java Runtime: OpenJDK Runtime Environment\n",
       "JVM: OpenJDK 64-Bit Server VM\n",
       "Default Encoding: UTF-8\n",
       "Language: en\n",
       "Country: null\n",
       "--></g></svg>"
      ]
     },
     "execution_count": 16,
     "metadata": {},
     "output_type": "execute_result"
    }
   ],
   "source": [
    "%viz --style=\"LR\" --view=\"Default\" \"ParameterTest\""
   ]
  },
  {
   "cell_type": "code",
   "execution_count": 17,
   "id": "2964f7d4",
   "metadata": {
    "execution": {
     "iopub.execute_input": "2021-11-13T12:59:15.188355Z",
     "iopub.status.busy": "2021-11-13T12:59:15.187953Z",
     "iopub.status.idle": "2021-11-13T12:59:15.256033Z",
     "shell.execute_reply": "2021-11-13T12:59:15.255673Z"
    }
   },
   "outputs": [
    {
     "data": {
      "image/svg+xml": [
       "<?xml version=\"1.0\" encoding=\"UTF-8\" standalone=\"no\"?><svg xmlns=\"http://www.w3.org/2000/svg\" xmlns:xlink=\"http://www.w3.org/1999/xlink\" contentScriptType=\"application/ecmascript\" contentStyleType=\"text/css\" height=\"562px\" preserveAspectRatio=\"none\" style=\"width:351px;height:562px;\" version=\"1.1\" viewBox=\"0 0 351 562\" width=\"351px\" zoomAndPan=\"magnify\"><defs/><g><!--MD5=[fbc87193dbaf4d95561dea2c320d4a47]\n",
       "cluster E1--><a href=\"psysml:19b06251-fe6f-4e99-9afa-d6889eb7a18f\" target=\"_top\" title=\"psysml:19b06251-fe6f-4e99-9afa-d6889eb7a18f\" xlink:actuate=\"onRequest\" xlink:href=\"psysml:19b06251-fe6f-4e99-9afa-d6889eb7a18f\" xlink:show=\"new\" xlink:title=\"psysml:19b06251-fe6f-4e99-9afa-d6889eb7a18f\" xlink:type=\"simple\"><polygon fill=\"#FFFFFF\" points=\"16,6,124,6,131,28.2969,329,28.2969,329,550,16,550,16,6\" style=\"stroke: #000000; stroke-width: 1.5;\"/><line style=\"stroke: #000000; stroke-width: 1.5;\" x1=\"16\" x2=\"131\" y1=\"28.2969\" y2=\"28.2969\"/><text fill=\"#000000\" font-family=\"sans-serif\" font-size=\"14\" font-weight=\"bold\" lengthAdjust=\"spacingAndGlyphs\" textLength=\"102\" x=\"20\" y=\"20.9951\">ParameterTest</text></a><!--MD5=[b4997ac47864f28c2f74865a473b2911]\n",
       "class E2--><a href=\"psysml:a687f627-404e-4522-a6e9-e30e4b3087b4\" target=\"_top\" title=\"psysml:a687f627-404e-4522-a6e9-e30e4b3087b4\" xlink:actuate=\"onRequest\" xlink:href=\"psysml:a687f627-404e-4522-a6e9-e30e4b3087b4\" xlink:show=\"new\" xlink:title=\"psysml:a687f627-404e-4522-a6e9-e30e4b3087b4\" xlink:type=\"simple\"><rect fill=\"#FFFFFF\" height=\"88.3516\" id=\"E2\" style=\"stroke: #383838; stroke-width: 1.5;\" width=\"99\" x=\"214\" y=\"65\"/><text fill=\"#000000\" font-family=\"sans-serif\" font-size=\"12\" font-style=\"italic\" lengthAdjust=\"spacingAndGlyphs\" textLength=\"97\" x=\"215\" y=\"81.1387\">«attribute  def»</text><text fill=\"#000000\" font-family=\"sans-serif\" font-size=\"12\" lengthAdjust=\"spacingAndGlyphs\" textLength=\"8\" x=\"259.5\" y=\"95.1074\">A</text><line style=\"stroke: #383838; stroke-width: 1.5;\" x1=\"215\" x2=\"312\" y1=\"102.9375\" y2=\"102.9375\"/><text fill=\"#000000\" font-family=\"sans-serif\" font-size=\"11\" lengthAdjust=\"spacingAndGlyphs\" textLength=\"48\" x=\"220\" y=\"133.9526\">x: String</text><text fill=\"#000000\" font-family=\"sans-serif\" font-size=\"11\" lengthAdjust=\"spacingAndGlyphs\" textLength=\"21\" x=\"220\" y=\"146.7573\">y: A</text><line style=\"stroke: #383838; stroke-width: 1.0;\" x1=\"215\" x2=\"236\" y1=\"117.3398\" y2=\"117.3398\"/><text fill=\"#000000\" font-family=\"sans-serif\" font-size=\"11\" lengthAdjust=\"spacingAndGlyphs\" textLength=\"55\" x=\"236\" y=\"120.6479\">attributes</text><line style=\"stroke: #383838; stroke-width: 1.0;\" x1=\"291\" x2=\"312\" y1=\"117.3398\" y2=\"117.3398\"/></a><!--MD5=[09b614a08d8cba4a07c9adeb5e0fee81]\n",
       "class E3--><a href=\"psysml:080a965c-bda9-42ef-b0e7-dadea2c4de7a\" target=\"_top\" title=\"psysml:080a965c-bda9-42ef-b0e7-dadea2c4de7a\" xlink:actuate=\"onRequest\" xlink:href=\"psysml:080a965c-bda9-42ef-b0e7-dadea2c4de7a\" xlink:show=\"new\" xlink:title=\"psysml:080a965c-bda9-42ef-b0e7-dadea2c4de7a\" xlink:type=\"simple\"><rect fill=\"#FFFFFF\" height=\"45.9375\" id=\"E3\" rx=\"10\" ry=\"10\" style=\"stroke: #383838; stroke-width: 1.5;\" width=\"71\" x=\"52.5\" y=\"41\"/><text fill=\"#000000\" font-family=\"sans-serif\" font-size=\"12\" font-style=\"italic\" lengthAdjust=\"spacingAndGlyphs\" textLength=\"69\" x=\"53.5\" y=\"57.1387\">«attribute»</text><text fill=\"#000000\" font-family=\"sans-serif\" font-size=\"12\" lengthAdjust=\"spacingAndGlyphs\" textLength=\"24\" x=\"74\" y=\"71.1074\">a: A</text><line style=\"stroke: #383838; stroke-width: 1.5;\" x1=\"53.5\" x2=\"122.5\" y1=\"78.9375\" y2=\"78.9375\"/></a><!--MD5=[ebbe1d658d1005bcc118a6aa81145e00]\n",
       "class E4--><a href=\"psysml:87bb354b-94c0-403b-b7cb-102c1c7ef37a\" target=\"_top\" title=\"psysml:87bb354b-94c0-403b-b7cb-102c1c7ef37a\" xlink:actuate=\"onRequest\" xlink:href=\"psysml:87bb354b-94c0-403b-b7cb-102c1c7ef37a\" xlink:show=\"new\" xlink:title=\"psysml:87bb354b-94c0-403b-b7cb-102c1c7ef37a\" xlink:type=\"simple\"><rect fill=\"#FFFFFF\" height=\"88.3516\" id=\"E4\" style=\"stroke: #383838; stroke-width: 1.5;\" width=\"112\" x=\"32\" y=\"122\"/><text fill=\"#000000\" font-family=\"sans-serif\" font-size=\"12\" font-style=\"italic\" lengthAdjust=\"spacingAndGlyphs\" textLength=\"110\" x=\"33\" y=\"138.1387\">«calculation  def»</text><text fill=\"#000000\" font-family=\"sans-serif\" font-size=\"12\" lengthAdjust=\"spacingAndGlyphs\" textLength=\"7\" x=\"84.5\" y=\"152.1074\">F</text><line style=\"stroke: #383838; stroke-width: 1.5;\" x1=\"33\" x2=\"143\" y1=\"159.9375\" y2=\"159.9375\"/><text fill=\"#000000\" font-family=\"sans-serif\" font-size=\"11\" font-weight=\"bold\" lengthAdjust=\"spacingAndGlyphs\" textLength=\"10\" x=\"38\" y=\"190.9526\">in</text><text fill=\"#000000\" font-family=\"sans-serif\" font-size=\"11\" lengthAdjust=\"spacingAndGlyphs\" textLength=\"22\" x=\"52\" y=\"190.9526\">p: A</text><text fill=\"#000000\" font-family=\"sans-serif\" font-size=\"11\" font-weight=\"bold\" lengthAdjust=\"spacingAndGlyphs\" textLength=\"10\" x=\"38\" y=\"203.7573\">in</text><text fill=\"#000000\" font-family=\"sans-serif\" font-size=\"11\" lengthAdjust=\"spacingAndGlyphs\" textLength=\"55\" x=\"52\" y=\"203.7573\">q: Integer</text><line style=\"stroke: #383838; stroke-width: 1.0;\" x1=\"33\" x2=\"54.5\" y1=\"174.3398\" y2=\"174.3398\"/><text fill=\"#000000\" font-family=\"sans-serif\" font-size=\"11\" lengthAdjust=\"spacingAndGlyphs\" textLength=\"67\" x=\"54.5\" y=\"177.6479\">parameters</text><line style=\"stroke: #383838; stroke-width: 1.0;\" x1=\"121.5\" x2=\"143\" y1=\"174.3398\" y2=\"174.3398\"/></a><!--MD5=[270fce915f116d4de14055a7c1d9a0f3]\n",
       "class E5--><a href=\"psysml:a95297bf-d64f-43ac-86b7-f9f55eba203a\" target=\"_top\" title=\"psysml:a95297bf-d64f-43ac-86b7-f9f55eba203a\" xlink:actuate=\"onRequest\" xlink:href=\"psysml:a95297bf-d64f-43ac-86b7-f9f55eba203a\" xlink:show=\"new\" xlink:title=\"psysml:a95297bf-d64f-43ac-86b7-f9f55eba203a\" xlink:type=\"simple\"><rect fill=\"#FFFFFF\" height=\"45.9375\" id=\"E5\" rx=\"10\" ry=\"10\" style=\"stroke: #383838; stroke-width: 1.5;\" width=\"71\" x=\"52.5\" y=\"245\"/><text fill=\"#000000\" font-family=\"sans-serif\" font-size=\"12\" font-style=\"italic\" lengthAdjust=\"spacingAndGlyphs\" textLength=\"69\" x=\"53.5\" y=\"261.1387\">«attribute»</text><text fill=\"#000000\" font-family=\"sans-serif\" font-size=\"12\" lengthAdjust=\"spacingAndGlyphs\" textLength=\"4\" x=\"86\" y=\"275.1074\">f</text><line style=\"stroke: #383838; stroke-width: 1.5;\" x1=\"53.5\" x2=\"122.5\" y1=\"282.9375\" y2=\"282.9375\"/></a><!--MD5=[60a26617385b1d2d0262a64233df1f8d]\n",
       "class E6--><a href=\"psysml:778a48ec-a539-4294-8634-0d41b068db9f\" target=\"_top\" title=\"psysml:778a48ec-a539-4294-8634-0d41b068db9f\" xlink:actuate=\"onRequest\" xlink:href=\"psysml:778a48ec-a539-4294-8634-0d41b068db9f\" xlink:show=\"new\" xlink:title=\"psysml:778a48ec-a539-4294-8634-0d41b068db9f\" xlink:type=\"simple\"><rect fill=\"#FFFFFF\" height=\"45.9375\" id=\"E6\" rx=\"10\" ry=\"10\" style=\"stroke: #383838; stroke-width: 1.5;\" width=\"71\" x=\"52.5\" y=\"326\"/><text fill=\"#000000\" font-family=\"sans-serif\" font-size=\"12\" font-style=\"italic\" lengthAdjust=\"spacingAndGlyphs\" textLength=\"69\" x=\"53.5\" y=\"342.1387\">«attribute»</text><text fill=\"#000000\" font-family=\"sans-serif\" font-size=\"12\" lengthAdjust=\"spacingAndGlyphs\" textLength=\"8\" x=\"84\" y=\"356.1074\">g</text><line style=\"stroke: #383838; stroke-width: 1.5;\" x1=\"53.5\" x2=\"122.5\" y1=\"363.9375\" y2=\"363.9375\"/></a><!--MD5=[2156ba9850f5573cc1fc38a6a4b2f02b]\n",
       "class E7--><a href=\"psysml:178fd1be-66b7-4b93-9f69-0783143b2542\" target=\"_top\" title=\"psysml:178fd1be-66b7-4b93-9f69-0783143b2542\" xlink:actuate=\"onRequest\" xlink:href=\"psysml:178fd1be-66b7-4b93-9f69-0783143b2542\" xlink:show=\"new\" xlink:title=\"psysml:178fd1be-66b7-4b93-9f69-0783143b2542\" xlink:type=\"simple\"><rect fill=\"#FFFFFF\" height=\"45.9375\" id=\"E7\" rx=\"10\" ry=\"10\" style=\"stroke: #383838; stroke-width: 1.5;\" width=\"71\" x=\"52.5\" y=\"407\"/><text fill=\"#000000\" font-family=\"sans-serif\" font-size=\"12\" font-style=\"italic\" lengthAdjust=\"spacingAndGlyphs\" textLength=\"69\" x=\"53.5\" y=\"423.1387\">«attribute»</text><text fill=\"#000000\" font-family=\"sans-serif\" font-size=\"12\" lengthAdjust=\"spacingAndGlyphs\" textLength=\"8\" x=\"84\" y=\"437.1074\">b</text><line style=\"stroke: #383838; stroke-width: 1.5;\" x1=\"53.5\" x2=\"122.5\" y1=\"444.9375\" y2=\"444.9375\"/></a><!--MD5=[b9389687b975829384b498ac4b7476b2]\n",
       "class E8--><a href=\"psysml:ce14b558-47dc-4a37-8f10-4afbd6cf7826\" target=\"_top\" title=\"psysml:ce14b558-47dc-4a37-8f10-4afbd6cf7826\" xlink:actuate=\"onRequest\" xlink:href=\"psysml:ce14b558-47dc-4a37-8f10-4afbd6cf7826\" xlink:show=\"new\" xlink:title=\"psysml:ce14b558-47dc-4a37-8f10-4afbd6cf7826\" xlink:type=\"simple\"><rect fill=\"#FFFFFF\" height=\"45.9375\" id=\"E8\" rx=\"10\" ry=\"10\" style=\"stroke: #383838; stroke-width: 1.5;\" width=\"71\" x=\"52.5\" y=\"488\"/><text fill=\"#000000\" font-family=\"sans-serif\" font-size=\"12\" font-style=\"italic\" lengthAdjust=\"spacingAndGlyphs\" textLength=\"69\" x=\"53.5\" y=\"504.1387\">«attribute»</text><text fill=\"#000000\" font-family=\"sans-serif\" font-size=\"12\" lengthAdjust=\"spacingAndGlyphs\" textLength=\"7\" x=\"84.5\" y=\"518.1074\">c</text><line style=\"stroke: #383838; stroke-width: 1.5;\" x1=\"53.5\" x2=\"122.5\" y1=\"525.9375\" y2=\"525.9375\"/></a><!--MD5=[05d275557350bfb9b23a4ef7222b4c39]\n",
       "link E3 to E2--><a href=\"psysml:f36357d4-9dbb-46b9-9535-0d41e0b85630\" target=\"_top\" title=\"psysml:f36357d4-9dbb-46b9-9535-0d41e0b85630\" xlink:actuate=\"onRequest\" xlink:href=\"psysml:f36357d4-9dbb-46b9-9535-0d41e0b85630\" xlink:show=\"new\" xlink:title=\"psysml:f36357d4-9dbb-46b9-9535-0d41e0b85630\" xlink:type=\"simple\"><path d=\"M123.94,70.48 C141.98,74.05 164.28,78.8 184,84 C187.33,84.88 190.72,85.81 194.15,86.78 \" fill=\"none\" id=\"E3-&gt;E2\" style=\"stroke: #383838; stroke-width: 1.0;\"/><polygon fill=\"#FFFFFF\" points=\"213.73,92.63,193.5212,93.8973,197.5294,80.4833,213.73,92.63\" style=\"stroke: #383838; stroke-width: 1.0;\"/><ellipse cx=\"188.6324\" cy=\"90.3491\" fill=\"#383838\" rx=\"2\" ry=\"2\" style=\"stroke: #383838; stroke-width: 1.0;\"/><ellipse cx=\"191.4954\" cy=\"80.7677\" fill=\"#383838\" rx=\"2\" ry=\"2\" style=\"stroke: #383838; stroke-width: 1.0;\"/></a><!--MD5=[ddeed8deb2209213b62e6cfabaa108b2]\n",
       "reverse link E4 to E2--><a href=\"psysml:16f7e9d3-43d0-4287-8a70-cbe1c91459d8\" target=\"_top\" title=\"psysml:16f7e9d3-43d0-4287-8a70-cbe1c91459d8\" xlink:actuate=\"onRequest\" xlink:href=\"psysml:16f7e9d3-43d0-4287-8a70-cbe1c91459d8\" xlink:show=\"new\" xlink:title=\"psysml:16f7e9d3-43d0-4287-8a70-cbe1c91459d8\" xlink:type=\"simple\"><path d=\"M157.46,173.98 C166.54,173.36 175.6,171.84 184,169 C194.72,165.37 205.14,159.63 214.68,153.1 \" fill=\"none\" id=\"E4&lt;-E2\" style=\"stroke: #383838; stroke-width: 1.0;\"/><polygon fill=\"#FFFFFF\" points=\"144.24,174.3,150.3349,178.1538,156.2365,174.01,150.1416,170.1562,144.24,174.3\" style=\"stroke: #383838; stroke-width: 1.0;\"/><text fill=\"#000000\" font-family=\"sans-serif\" font-size=\"13\" lengthAdjust=\"spacingAndGlyphs\" textLength=\"8\" x=\"175\" y=\"165.0669\">p</text></a><!--MD5=[ddeed8deb2209213b62e6cfabaa108b2]\n",
       "reverse link E4 to E2--><a href=\"psysml:16f7e9d3-43d0-4287-8a70-cbe1c91459d8\" target=\"_top\" title=\"psysml:16f7e9d3-43d0-4287-8a70-cbe1c91459d8\" xlink:actuate=\"onRequest\" xlink:href=\"psysml:16f7e9d3-43d0-4287-8a70-cbe1c91459d8\" xlink:show=\"new\" xlink:title=\"psysml:16f7e9d3-43d0-4287-8a70-cbe1c91459d8\" xlink:type=\"simple\"><path d=\"M156.94,143.68 C175.92,137.44 196.17,130.79 213.79,125 \" fill=\"none\" id=\"E4&lt;-E2-1\" style=\"stroke: #383838; stroke-width: 1.0;\"/><polygon fill=\"#FFFFFF\" points=\"144.37,147.81,151.319,149.7364,155.7699,144.0628,148.8209,142.1364,144.37,147.81\" style=\"stroke: #383838; stroke-width: 1.0;\"/><text fill=\"#000000\" font-family=\"sans-serif\" font-size=\"13\" lengthAdjust=\"spacingAndGlyphs\" textLength=\"8\" x=\"175\" y=\"132.0669\">p</text></a><!--MD5=[e245fa51550fa129854be448682fb4bc]\n",
       "@startuml\r\n",
       "left to right direction\r\n",
       "skinparam monochrome true\r\n",
       "skinparam classbackgroundcolor white\r\n",
       "skinparam shadowing false\r\n",
       "skinparam wrapWidth 300\r\n",
       "hide circle\r\n",
       "\r\n",
       "package \"ParameterTest\" as E1  [[psysml:19b06251-fe6f-4e99-9afa-d6889eb7a18f ]]  {\r\n",
       "comp def \"A\" as E2  <<(T,blue) attribute  def>> [[psysml:a687f627-404e-4522-a6e9-e30e4b3087b4 ]] {\r\n",
       "- - attributes - -\r\n",
       "x: String\r\n",
       "y: A\r\n",
       "}\r\n",
       "comp usage \"a: A \" as E3  <<(T,blue) attribute>> [[psysml:080a965c-bda9-42ef-b0e7-dadea2c4de7a ]] {\r\n",
       "}\r\n",
       "comp def \"F\" as E4  <<(T,blue) calculation  def>> [[psysml:87bb354b-94c0-403b-b7cb-102c1c7ef37a ]] {\r\n",
       "- - parameters - -\r\n",
       "<b>in</b> p: A\r\n",
       "<b>in</b> q: Integer\r\n",
       "}\r\n",
       "comp usage \"f\" as E5  <<(T,blue) attribute>> [[psysml:a95297bf-d64f-43ac-86b7-f9f55eba203a ]] {\r\n",
       "}\r\n",
       "comp usage \"g\" as E6  <<(T,blue) attribute>> [[psysml:778a48ec-a539-4294-8634-0d41b068db9f ]] {\r\n",
       "}\r\n",
       "comp usage \"b\" as E7  <<(T,blue) attribute>> [[psysml:178fd1be-66b7-4b93-9f69-0783143b2542 ]] {\r\n",
       "}\r\n",
       "comp usage \"c\" as E8  <<(T,blue) attribute>> [[psysml:ce14b558-47dc-4a37-8f10-4afbd6cf7826 ]] {\r\n",
       "}\r\n",
       "}\r\n",
       "E3 - -:|> E2 [[psysml:f36357d4-9dbb-46b9-9535-0d41e0b85630 ]] \r\n",
       "E4 o- - E2 [[psysml:16f7e9d3-43d0-4287-8a70-cbe1c91459d8 ]] : p\r\n",
       "E4 o- - E2 [[psysml:16f7e9d3-43d0-4287-8a70-cbe1c91459d8 ]] : p\r\n",
       "@enduml\r\n",
       "\n",
       "PlantUML version 1.2020.13(Sat Jun 13 12:26:38 UTC 2020)\n",
       "(EPL source distribution)\n",
       "Java Runtime: OpenJDK Runtime Environment\n",
       "JVM: OpenJDK 64-Bit Server VM\n",
       "Default Encoding: UTF-8\n",
       "Language: en\n",
       "Country: null\n",
       "--></g></svg>"
      ]
     },
     "execution_count": 17,
     "metadata": {},
     "output_type": "execute_result"
    }
   ],
   "source": [
    "%viz --style=\"LR\" --view=\"Tree\" \"ParameterTest\""
   ]
  },
  {
   "cell_type": "code",
   "execution_count": 18,
   "id": "4dfcd6a6",
   "metadata": {
    "execution": {
     "iopub.execute_input": "2021-11-13T12:59:15.305557Z",
     "iopub.status.busy": "2021-11-13T12:59:15.304880Z",
     "iopub.status.idle": "2021-11-13T12:59:15.309350Z",
     "shell.execute_reply": "2021-11-13T12:59:15.309022Z"
    }
   },
   "outputs": [
    {
     "data": {
      "image/svg+xml": [
       "<?xml version=\"1.0\" encoding=\"UTF-8\" standalone=\"no\"?><svg xmlns=\"http://www.w3.org/2000/svg\" xmlns:xlink=\"http://www.w3.org/1999/xlink\" contentScriptType=\"application/ecmascript\" contentStyleType=\"text/css\" height=\"12px\" preserveAspectRatio=\"none\" style=\"width:12px;height:12px;\" version=\"1.1\" viewBox=\"0 0 12 12\" width=\"12px\" zoomAndPan=\"magnify\"><defs/><g><!--MD5=[19d285c9d72a204eba4e2cd117d745e8]\n",
       "@startuml\r\n",
       "left to right direction\r\n",
       "skinparam monochrome true\r\n",
       "skinparam classbackgroundcolor white\r\n",
       "skinparam shadowing false\r\n",
       "skinparam wrapWidth 300\r\n",
       "hide circle\r\n",
       "\r\n",
       "@enduml\r\n",
       "\n",
       "PlantUML version 1.2020.13(Sat Jun 13 12:26:38 UTC 2020)\n",
       "(EPL source distribution)\n",
       "Java Runtime: OpenJDK Runtime Environment\n",
       "JVM: OpenJDK 64-Bit Server VM\n",
       "Default Encoding: UTF-8\n",
       "Language: en\n",
       "Country: null\n",
       "--></g></svg>"
      ]
     },
     "execution_count": 18,
     "metadata": {},
     "output_type": "execute_result"
    }
   ],
   "source": [
    "%viz --style=\"LR\" --view=\"State\" \"ParameterTest\""
   ]
  },
  {
   "cell_type": "code",
   "execution_count": 19,
   "id": "62717622",
   "metadata": {
    "execution": {
     "iopub.execute_input": "2021-11-13T12:59:15.358767Z",
     "iopub.status.busy": "2021-11-13T12:59:15.358370Z",
     "iopub.status.idle": "2021-11-13T12:59:15.393365Z",
     "shell.execute_reply": "2021-11-13T12:59:15.393007Z"
    }
   },
   "outputs": [
    {
     "data": {
      "image/svg+xml": [
       "<?xml version=\"1.0\" encoding=\"UTF-8\" standalone=\"no\"?><svg xmlns=\"http://www.w3.org/2000/svg\" xmlns:xlink=\"http://www.w3.org/1999/xlink\" contentScriptType=\"application/ecmascript\" contentStyleType=\"text/css\" height=\"541px\" preserveAspectRatio=\"none\" style=\"width:340px;height:541px;\" version=\"1.1\" viewBox=\"0 0 340 541\" width=\"340px\" zoomAndPan=\"magnify\"><defs/><g><!--MD5=[fbc87193dbaf4d95561dea2c320d4a47]\n",
       "cluster E1--><a href=\"psysml:19b06251-fe6f-4e99-9afa-d6889eb7a18f\" target=\"_top\" title=\"psysml:19b06251-fe6f-4e99-9afa-d6889eb7a18f\" xlink:actuate=\"onRequest\" xlink:href=\"psysml:19b06251-fe6f-4e99-9afa-d6889eb7a18f\" xlink:show=\"new\" xlink:title=\"psysml:19b06251-fe6f-4e99-9afa-d6889eb7a18f\" xlink:type=\"simple\"><polygon fill=\"#FFFFFF\" points=\"16,6,124,6,131,28.2969,318.72,28.2969,318.72,529,16,529,16,6\" style=\"stroke: #000000; stroke-width: 1.5;\"/><line style=\"stroke: #000000; stroke-width: 1.5;\" x1=\"16\" x2=\"131\" y1=\"28.2969\" y2=\"28.2969\"/><text fill=\"#000000\" font-family=\"sans-serif\" font-size=\"14\" font-weight=\"bold\" lengthAdjust=\"spacingAndGlyphs\" textLength=\"102\" x=\"20\" y=\"20.9951\">ParameterTest</text></a><!--MD5=[f6df4d0ebaf0b5dfb2ced0ae5af7c670]\n",
       "cluster E4--><a href=\"psysml:87bb354b-94c0-403b-b7cb-102c1c7ef37a\" target=\"_top\" title=\"psysml:87bb354b-94c0-403b-b7cb-102c1c7ef37a\" xlink:actuate=\"onRequest\" xlink:href=\"psysml:87bb354b-94c0-403b-b7cb-102c1c7ef37a\" xlink:show=\"new\" xlink:title=\"psysml:87bb354b-94c0-403b-b7cb-102c1c7ef37a\" xlink:type=\"simple\"><rect fill=\"#FFFFFF\" height=\"47\" id=\"E4\" style=\"stroke: #383838; stroke-width: 1.5;\" width=\"239.22\" x=\"49.5\" y=\"55\"/><rect fill=\"#F8F8F8\" height=\"37.9375\" style=\"stroke: #383838; stroke-width: 1.5;\" width=\"239.22\" x=\"49.5\" y=\"55\"/><text fill=\"#000000\" font-family=\"sans-serif\" font-size=\"12\" font-style=\"italic\" lengthAdjust=\"spacingAndGlyphs\" textLength=\"110\" x=\"114.11\" y=\"71.1387\">«calculation  def»</text><text fill=\"#000000\" font-family=\"sans-serif\" font-size=\"12\" lengthAdjust=\"spacingAndGlyphs\" textLength=\"7\" x=\"165.61\" y=\"85.1074\">F</text></a><g id=\"E1.E2\"><a href=\"psysml:a687f627-404e-4522-a6e9-e30e4b3087b4\" target=\"_top\" title=\"psysml:a687f627-404e-4522-a6e9-e30e4b3087b4\" xlink:actuate=\"onRequest\" xlink:href=\"psysml:a687f627-404e-4522-a6e9-e30e4b3087b4\" xlink:show=\"new\" xlink:title=\"psysml:a687f627-404e-4522-a6e9-e30e4b3087b4\" xlink:type=\"simple\"><rect fill=\"#FFFFFF\" height=\"42.9375\" id=\"E2\" style=\"stroke: #383838; stroke-width: 1.5;\" width=\"104\" x=\"135.5\" y=\"144.5\"/><rect fill=\"#F8F8F8\" height=\"37.9375\" style=\"stroke: #383838; stroke-width: 1.5;\" width=\"104\" x=\"135.5\" y=\"144.5\"/><text fill=\"#000000\" font-family=\"sans-serif\" font-size=\"12\" font-style=\"italic\" lengthAdjust=\"spacingAndGlyphs\" textLength=\"97\" x=\"139\" y=\"160.6387\">«attribute  def»</text><text fill=\"#000000\" font-family=\"sans-serif\" font-size=\"12\" lengthAdjust=\"spacingAndGlyphs\" textLength=\"8\" x=\"183.5\" y=\"174.6074\">A</text></a></g><!--MD5=[09b614a08d8cba4a07c9adeb5e0fee81]\n",
       "class E3--><a href=\"psysml:080a965c-bda9-42ef-b0e7-dadea2c4de7a\" target=\"_top\" title=\"psysml:080a965c-bda9-42ef-b0e7-dadea2c4de7a\" xlink:actuate=\"onRequest\" xlink:href=\"psysml:080a965c-bda9-42ef-b0e7-dadea2c4de7a\" xlink:show=\"new\" xlink:title=\"psysml:080a965c-bda9-42ef-b0e7-dadea2c4de7a\" xlink:type=\"simple\"><rect fill=\"#FFFFFF\" height=\"45.9375\" id=\"E3\" rx=\"10\" ry=\"10\" style=\"stroke: #383838; stroke-width: 1.5;\" width=\"71\" x=\"32\" y=\"143\"/><text fill=\"#000000\" font-family=\"sans-serif\" font-size=\"12\" font-style=\"italic\" lengthAdjust=\"spacingAndGlyphs\" textLength=\"69\" x=\"33\" y=\"159.1387\">«attribute»</text><text fill=\"#000000\" font-family=\"sans-serif\" font-size=\"12\" lengthAdjust=\"spacingAndGlyphs\" textLength=\"24\" x=\"53.5\" y=\"173.1074\">a: A</text><line style=\"stroke: #383838; stroke-width: 1.5;\" x1=\"33\" x2=\"102\" y1=\"180.9375\" y2=\"180.9375\"/></a><!--MD5=[b9389687b975829384b498ac4b7476b2]\n",
       "class E8--><a href=\"psysml:a95297bf-d64f-43ac-86b7-f9f55eba203a\" target=\"_top\" title=\"psysml:a95297bf-d64f-43ac-86b7-f9f55eba203a\" xlink:actuate=\"onRequest\" xlink:href=\"psysml:a95297bf-d64f-43ac-86b7-f9f55eba203a\" xlink:show=\"new\" xlink:title=\"psysml:a95297bf-d64f-43ac-86b7-f9f55eba203a\" xlink:type=\"simple\"><rect fill=\"#FFFFFF\" height=\"45.9375\" id=\"E8\" rx=\"10\" ry=\"10\" style=\"stroke: #383838; stroke-width: 1.5;\" width=\"71\" x=\"32\" y=\"224\"/><text fill=\"#000000\" font-family=\"sans-serif\" font-size=\"12\" font-style=\"italic\" lengthAdjust=\"spacingAndGlyphs\" textLength=\"69\" x=\"33\" y=\"240.1387\">«attribute»</text><text fill=\"#000000\" font-family=\"sans-serif\" font-size=\"12\" lengthAdjust=\"spacingAndGlyphs\" textLength=\"4\" x=\"65.5\" y=\"254.1074\">f</text><line style=\"stroke: #383838; stroke-width: 1.5;\" x1=\"33\" x2=\"102\" y1=\"261.9375\" y2=\"261.9375\"/></a><!--MD5=[fd4143e9d270a159db93a4ea2a975926]\n",
       "class E9--><a href=\"psysml:778a48ec-a539-4294-8634-0d41b068db9f\" target=\"_top\" title=\"psysml:778a48ec-a539-4294-8634-0d41b068db9f\" xlink:actuate=\"onRequest\" xlink:href=\"psysml:778a48ec-a539-4294-8634-0d41b068db9f\" xlink:show=\"new\" xlink:title=\"psysml:778a48ec-a539-4294-8634-0d41b068db9f\" xlink:type=\"simple\"><rect fill=\"#FFFFFF\" height=\"45.9375\" id=\"E9\" rx=\"10\" ry=\"10\" style=\"stroke: #383838; stroke-width: 1.5;\" width=\"71\" x=\"32\" y=\"305\"/><text fill=\"#000000\" font-family=\"sans-serif\" font-size=\"12\" font-style=\"italic\" lengthAdjust=\"spacingAndGlyphs\" textLength=\"69\" x=\"33\" y=\"321.1387\">«attribute»</text><text fill=\"#000000\" font-family=\"sans-serif\" font-size=\"12\" lengthAdjust=\"spacingAndGlyphs\" textLength=\"8\" x=\"63.5\" y=\"335.1074\">g</text><line style=\"stroke: #383838; stroke-width: 1.5;\" x1=\"33\" x2=\"102\" y1=\"342.9375\" y2=\"342.9375\"/></a><!--MD5=[96f4274e9e20536e775497830990834d]\n",
       "class E10--><a href=\"psysml:178fd1be-66b7-4b93-9f69-0783143b2542\" target=\"_top\" title=\"psysml:178fd1be-66b7-4b93-9f69-0783143b2542\" xlink:actuate=\"onRequest\" xlink:href=\"psysml:178fd1be-66b7-4b93-9f69-0783143b2542\" xlink:show=\"new\" xlink:title=\"psysml:178fd1be-66b7-4b93-9f69-0783143b2542\" xlink:type=\"simple\"><rect fill=\"#FFFFFF\" height=\"45.9375\" id=\"E10\" rx=\"10\" ry=\"10\" style=\"stroke: #383838; stroke-width: 1.5;\" width=\"71\" x=\"32\" y=\"386\"/><text fill=\"#000000\" font-family=\"sans-serif\" font-size=\"12\" font-style=\"italic\" lengthAdjust=\"spacingAndGlyphs\" textLength=\"69\" x=\"33\" y=\"402.1387\">«attribute»</text><text fill=\"#000000\" font-family=\"sans-serif\" font-size=\"12\" lengthAdjust=\"spacingAndGlyphs\" textLength=\"8\" x=\"63.5\" y=\"416.1074\">b</text><line style=\"stroke: #383838; stroke-width: 1.5;\" x1=\"33\" x2=\"102\" y1=\"423.9375\" y2=\"423.9375\"/></a><!--MD5=[1dd1bfd58a279cf63c5f349dbc8fc6a1]\n",
       "class E11--><a href=\"psysml:ce14b558-47dc-4a37-8f10-4afbd6cf7826\" target=\"_top\" title=\"psysml:ce14b558-47dc-4a37-8f10-4afbd6cf7826\" xlink:actuate=\"onRequest\" xlink:href=\"psysml:ce14b558-47dc-4a37-8f10-4afbd6cf7826\" xlink:show=\"new\" xlink:title=\"psysml:ce14b558-47dc-4a37-8f10-4afbd6cf7826\" xlink:type=\"simple\"><rect fill=\"#FFFFFF\" height=\"45.9375\" id=\"E11\" rx=\"10\" ry=\"10\" style=\"stroke: #383838; stroke-width: 1.5;\" width=\"71\" x=\"32\" y=\"467\"/><text fill=\"#000000\" font-family=\"sans-serif\" font-size=\"12\" font-style=\"italic\" lengthAdjust=\"spacingAndGlyphs\" textLength=\"69\" x=\"33\" y=\"483.1387\">«attribute»</text><text fill=\"#000000\" font-family=\"sans-serif\" font-size=\"12\" lengthAdjust=\"spacingAndGlyphs\" textLength=\"7\" x=\"64\" y=\"497.1074\">c</text><line style=\"stroke: #383838; stroke-width: 1.5;\" x1=\"33\" x2=\"102\" y1=\"504.9375\" y2=\"504.9375\"/></a><text fill=\"#000000\" font-family=\"sans-serif\" font-size=\"14\" lengthAdjust=\"spacingAndGlyphs\" textLength=\"9\" x=\"63\" y=\"120.9951\">p</text><rect fill=\"#383838\" height=\"12\" style=\"stroke: #F8F8F8; stroke-width: 1.5;\" width=\"12\" x=\"61.5\" y=\"96\"/><text fill=\"#000000\" font-family=\"sans-serif\" font-size=\"14\" lengthAdjust=\"spacingAndGlyphs\" textLength=\"9\" x=\"63\" y=\"33.6982\">q</text><rect fill=\"#383838\" height=\"12\" style=\"stroke: #F8F8F8; stroke-width: 1.5;\" width=\"12\" x=\"61.5\" y=\"49\"/><text fill=\"#000000\" font-family=\"sans-serif\" font-size=\"14\" lengthAdjust=\"spacingAndGlyphs\" textLength=\"39\" x=\"269.22\" y=\"53.6982\">result</text><rect fill=\"#383838\" height=\"12\" style=\"stroke: #F8F8F8; stroke-width: 1.5;\" width=\"12\" x=\"282.72\" y=\"69\"/><!--MD5=[05d275557350bfb9b23a4ef7222b4c39]\n",
       "link E3 to E2--><a href=\"psysml:f36357d4-9dbb-46b9-9535-0d41e0b85630\" target=\"_top\" title=\"psysml:f36357d4-9dbb-46b9-9535-0d41e0b85630\" xlink:actuate=\"onRequest\" xlink:href=\"psysml:f36357d4-9dbb-46b9-9535-0d41e0b85630\" xlink:show=\"new\" xlink:title=\"psysml:f36357d4-9dbb-46b9-9535-0d41e0b85630\" xlink:type=\"simple\"><path d=\"M103.27,166 C107.12,166 111.14,166 115.24,166 \" fill=\"none\" id=\"E3-&gt;E2\" style=\"stroke: #383838; stroke-width: 1.0;\"/><polygon fill=\"#FFFFFF\" points=\"135.37,166,116.37,173,116.37,159,135.37,166\" style=\"stroke: #383838; stroke-width: 1.0;\"/><ellipse cx=\"110.67\" cy=\"171\" fill=\"#383838\" rx=\"2\" ry=\"2\" style=\"stroke: #383838; stroke-width: 1.0;\"/><ellipse cx=\"110.67\" cy=\"161\" fill=\"#383838\" rx=\"2\" ry=\"2\" style=\"stroke: #383838; stroke-width: 1.0;\"/></a><!--MD5=[dd0431f0748f0b9ed4ec86a25d190b86]\n",
       "@startuml\r\n",
       "skinparam ranksep 10\r\n",
       "skinparam rectangle {\r\n",
       " backgroundColor<<block>> LightGreen\r\n",
       "}\r\n",
       "left to right direction\r\n",
       "skinparam monochrome true\r\n",
       "skinparam classbackgroundcolor white\r\n",
       "skinparam shadowing false\r\n",
       "skinparam wrapWidth 300\r\n",
       "hide circle\r\n",
       "\r\n",
       "package \"ParameterTest\" as E1  [[psysml:19b06251-fe6f-4e99-9afa-d6889eb7a18f ]]  {\r\n",
       "def \"A\" as E2  <<(T,blue) attribute  def>> [[psysml:a687f627-404e-4522-a6e9-e30e4b3087b4 ]] \r\n",
       "comp usage \"a: A \" as E3  <<(T,blue) attribute>> [[psysml:080a965c-bda9-42ef-b0e7-dadea2c4de7a ]] {\r\n",
       "}\r\n",
       "rec def \"F\" as E4  <<(T,blue) calculation  def>> [[psysml:87bb354b-94c0-403b-b7cb-102c1c7ef37a ]] {\r\n",
       "portin \"p\" as E5  [[psysml:16f7e9d3-43d0-4287-8a70-cbe1c91459d8 ]] \r\n",
       "portin \"q\" as E6  [[psysml:b2699d44-082f-48d9-8fe4-b2b87d72af88 ]] \r\n",
       "portout \"result\" as E7  [[psysml:efe4aa1f-bd0b-42c7-877f-48fcbd913317 ]] \r\n",
       "}\r\n",
       "\r\n",
       "comp usage \"f\" as E8  <<(T,blue) attribute>> [[psysml:a95297bf-d64f-43ac-86b7-f9f55eba203a ]] {\r\n",
       "}\r\n",
       "comp usage \"g\" as E9  <<(T,blue) attribute>> [[psysml:778a48ec-a539-4294-8634-0d41b068db9f ]] {\r\n",
       "}\r\n",
       "comp usage \"b\" as E10  <<(T,blue) attribute>> [[psysml:178fd1be-66b7-4b93-9f69-0783143b2542 ]] {\r\n",
       "}\r\n",
       "comp usage \"c\" as E11  <<(T,blue) attribute>> [[psysml:ce14b558-47dc-4a37-8f10-4afbd6cf7826 ]] {\r\n",
       "}\r\n",
       "}\r\n",
       "E3 - -:|> E2 [[psysml:f36357d4-9dbb-46b9-9535-0d41e0b85630 ]] \r\n",
       "@enduml\r\n",
       "\n",
       "PlantUML version 1.2020.13(Sat Jun 13 12:26:38 UTC 2020)\n",
       "(EPL source distribution)\n",
       "Java Runtime: OpenJDK Runtime Environment\n",
       "JVM: OpenJDK 64-Bit Server VM\n",
       "Default Encoding: UTF-8\n",
       "Language: en\n",
       "Country: null\n",
       "--></g></svg>"
      ]
     },
     "execution_count": 19,
     "metadata": {},
     "output_type": "execute_result"
    }
   ],
   "source": [
    "%viz --style=\"LR\" --view=\"Interconnection\" \"ParameterTest\""
   ]
  },
  {
   "cell_type": "code",
   "execution_count": 20,
   "id": "5af929d7",
   "metadata": {
    "execution": {
     "iopub.execute_input": "2021-11-13T12:59:15.442457Z",
     "iopub.status.busy": "2021-11-13T12:59:15.442059Z",
     "iopub.status.idle": "2021-11-13T12:59:15.464732Z",
     "shell.execute_reply": "2021-11-13T12:59:15.465092Z"
    }
   },
   "outputs": [
    {
     "data": {
      "image/svg+xml": [
       "<?xml version=\"1.0\" encoding=\"UTF-8\" standalone=\"no\"?><svg xmlns=\"http://www.w3.org/2000/svg\" xmlns:xlink=\"http://www.w3.org/1999/xlink\" contentScriptType=\"application/ecmascript\" contentStyleType=\"text/css\" height=\"121px\" preserveAspectRatio=\"none\" style=\"width:246px;height:121px;\" version=\"1.1\" viewBox=\"0 0 246 121\" width=\"246px\" zoomAndPan=\"magnify\"><defs/><g><!--MD5=[fbc87193dbaf4d95561dea2c320d4a47]\n",
       "cluster E1--><a href=\"psysml:87bb354b-94c0-403b-b7cb-102c1c7ef37a\" target=\"_top\" title=\"psysml:87bb354b-94c0-403b-b7cb-102c1c7ef37a\" xlink:actuate=\"onRequest\" xlink:href=\"psysml:87bb354b-94c0-403b-b7cb-102c1c7ef37a\" xlink:show=\"new\" xlink:title=\"psysml:87bb354b-94c0-403b-b7cb-102c1c7ef37a\" xlink:type=\"simple\"><rect fill=\"#FFFFFF\" height=\"47\" id=\"E1\" style=\"stroke: #383838; stroke-width: 1.5;\" width=\"207.72\" x=\"7\" y=\"42.0986\"/><rect fill=\"#F8F8F8\" height=\"37.9375\" style=\"stroke: #383838; stroke-width: 1.5;\" width=\"207.72\" x=\"7\" y=\"42.0986\"/><text fill=\"#000000\" font-family=\"sans-serif\" font-size=\"12\" font-style=\"italic\" lengthAdjust=\"spacingAndGlyphs\" textLength=\"110\" x=\"55.86\" y=\"58.2373\">«calculation  def»</text><text fill=\"#000000\" font-family=\"sans-serif\" font-size=\"12\" lengthAdjust=\"spacingAndGlyphs\" textLength=\"7\" x=\"107.36\" y=\"72.2061\">F</text></a><text fill=\"#000000\" font-family=\"sans-serif\" font-size=\"14\" lengthAdjust=\"spacingAndGlyphs\" textLength=\"9\" x=\"20.5\" y=\"108.0938\">p</text><rect fill=\"#383838\" height=\"12\" style=\"stroke: #F8F8F8; stroke-width: 1.5;\" width=\"12\" x=\"19\" y=\"83.0986\"/><text fill=\"#000000\" font-family=\"sans-serif\" font-size=\"14\" lengthAdjust=\"spacingAndGlyphs\" textLength=\"9\" x=\"20.5\" y=\"20.7969\">q</text><rect fill=\"#383838\" height=\"12\" style=\"stroke: #F8F8F8; stroke-width: 1.5;\" width=\"12\" x=\"19\" y=\"36.0986\"/><text fill=\"#000000\" font-family=\"sans-serif\" font-size=\"14\" lengthAdjust=\"spacingAndGlyphs\" textLength=\"39\" x=\"195.22\" y=\"40.7969\">result</text><rect fill=\"#383838\" height=\"12\" style=\"stroke: #F8F8F8; stroke-width: 1.5;\" width=\"12\" x=\"208.72\" y=\"56.0986\"/><!--MD5=[106237f947b693ba0aa96e182b07152b]\n",
       "@startuml\r\n",
       "skinparam ranksep 8\r\n",
       "left to right direction\r\n",
       "skinparam monochrome true\r\n",
       "skinparam classbackgroundcolor white\r\n",
       "skinparam shadowing false\r\n",
       "skinparam wrapWidth 300\r\n",
       "hide circle\r\n",
       "\r\n",
       "rec def \"F\" as E1  <<(T,blue) calculation  def>> [[psysml:87bb354b-94c0-403b-b7cb-102c1c7ef37a ]] {\r\n",
       "portin \"p\" as E2  [[psysml:16f7e9d3-43d0-4287-8a70-cbe1c91459d8 ]] \r\n",
       "portin \"q\" as E3  [[psysml:b2699d44-082f-48d9-8fe4-b2b87d72af88 ]] \r\n",
       "portout \"result\" as E4  [[psysml:efe4aa1f-bd0b-42c7-877f-48fcbd913317 ]] \r\n",
       "}\r\n",
       "\r\n",
       "@enduml\r\n",
       "\n",
       "PlantUML version 1.2020.13(Sat Jun 13 12:26:38 UTC 2020)\n",
       "(EPL source distribution)\n",
       "Java Runtime: OpenJDK Runtime Environment\n",
       "JVM: OpenJDK 64-Bit Server VM\n",
       "Default Encoding: UTF-8\n",
       "Language: en\n",
       "Country: null\n",
       "--></g></svg>"
      ]
     },
     "execution_count": 20,
     "metadata": {},
     "output_type": "execute_result"
    }
   ],
   "source": [
    "%viz --style=\"LR\" --view=\"Action\" \"ParameterTest\""
   ]
  },
  {
   "cell_type": "code",
   "execution_count": 21,
   "id": "bbb808e0",
   "metadata": {
    "execution": {
     "iopub.execute_input": "2021-11-13T12:59:15.514501Z",
     "iopub.status.busy": "2021-11-13T12:59:15.514079Z",
     "iopub.status.idle": "2021-11-13T12:59:15.519961Z",
     "shell.execute_reply": "2021-11-13T12:59:15.520294Z"
    }
   },
   "outputs": [
    {
     "data": {
      "image/svg+xml": [
       "<?xml version=\"1.0\" encoding=\"UTF-8\" standalone=\"no\"?><svg xmlns=\"http://www.w3.org/2000/svg\" xmlns:xlink=\"http://www.w3.org/1999/xlink\" contentScriptType=\"application/ecmascript\" contentStyleType=\"text/css\" height=\"12px\" preserveAspectRatio=\"none\" style=\"width:12px;height:12px;\" version=\"1.1\" viewBox=\"0 0 12 12\" width=\"12px\" zoomAndPan=\"magnify\"><defs/><g><!--MD5=[238c11ea2002f03115ad6b49a457d50e]\n",
       "@startuml\r\n",
       "skinparam roundcorner 20\r\n",
       "skinparam BoxPadding 20\r\n",
       "skinparam SequenceBoxBackgroundColor #white\r\n",
       "skinparam style strictuml\r\n",
       "skinparam maxMessageSize 100\r\n",
       "left to right direction\r\n",
       "skinparam monochrome true\r\n",
       "skinparam classbackgroundcolor white\r\n",
       "skinparam shadowing false\r\n",
       "skinparam wrapWidth 300\r\n",
       "hide circle\r\n",
       "\r\n",
       "@enduml\r\n",
       "\n",
       "PlantUML version 1.2020.13(Sat Jun 13 12:26:38 UTC 2020)\n",
       "(EPL source distribution)\n",
       "Java Runtime: OpenJDK Runtime Environment\n",
       "JVM: OpenJDK 64-Bit Server VM\n",
       "Default Encoding: UTF-8\n",
       "Language: en\n",
       "Country: null\n",
       "--></g></svg>"
      ]
     },
     "execution_count": 21,
     "metadata": {},
     "output_type": "execute_result"
    }
   ],
   "source": [
    "%viz --style=\"LR\" --view=\"Sequence\" \"ParameterTest\""
   ]
  },
  {
   "cell_type": "code",
   "execution_count": 22,
   "id": "c57b84d9",
   "metadata": {
    "execution": {
     "iopub.execute_input": "2021-11-13T12:59:15.569694Z",
     "iopub.status.busy": "2021-11-13T12:59:15.569289Z",
     "iopub.status.idle": "2021-11-13T12:59:15.618382Z",
     "shell.execute_reply": "2021-11-13T12:59:15.616937Z"
    }
   },
   "outputs": [
    {
     "data": {
      "image/svg+xml": [
       "<?xml version=\"1.0\" encoding=\"UTF-8\" standalone=\"no\"?><svg xmlns=\"http://www.w3.org/2000/svg\" xmlns:xlink=\"http://www.w3.org/1999/xlink\" contentScriptType=\"application/ecmascript\" contentStyleType=\"text/css\" height=\"541px\" preserveAspectRatio=\"none\" style=\"width:478px;height:541px;\" version=\"1.1\" viewBox=\"0 0 478 541\" width=\"478px\" zoomAndPan=\"magnify\"><defs/><g><!--MD5=[fbc87193dbaf4d95561dea2c320d4a47]\n",
       "cluster E1--><a href=\"psysml:19b06251-fe6f-4e99-9afa-d6889eb7a18f\" target=\"_top\" title=\"psysml:19b06251-fe6f-4e99-9afa-d6889eb7a18f\" xlink:actuate=\"onRequest\" xlink:href=\"psysml:19b06251-fe6f-4e99-9afa-d6889eb7a18f\" xlink:show=\"new\" xlink:title=\"psysml:19b06251-fe6f-4e99-9afa-d6889eb7a18f\" xlink:type=\"simple\"><polygon fill=\"#FFFFFF\" points=\"16,6,124,6,131,28.2969,456.72,28.2969,456.72,529,16,529,16,6\" style=\"stroke: #000000; stroke-width: 1.5;\"/><line style=\"stroke: #000000; stroke-width: 1.5;\" x1=\"16\" x2=\"131\" y1=\"28.2969\" y2=\"28.2969\"/><text fill=\"#000000\" font-family=\"sans-serif\" font-size=\"14\" font-weight=\"bold\" lengthAdjust=\"spacingAndGlyphs\" textLength=\"102\" x=\"20\" y=\"20.9951\">ParameterTest</text></a><!--MD5=[f6df4d0ebaf0b5dfb2ced0ae5af7c670]\n",
       "cluster E4--><a href=\"psysml:87bb354b-94c0-403b-b7cb-102c1c7ef37a\" target=\"_top\" title=\"psysml:87bb354b-94c0-403b-b7cb-102c1c7ef37a\" xlink:actuate=\"onRequest\" xlink:href=\"psysml:87bb354b-94c0-403b-b7cb-102c1c7ef37a\" xlink:show=\"new\" xlink:title=\"psysml:87bb354b-94c0-403b-b7cb-102c1c7ef37a\" xlink:type=\"simple\"><rect fill=\"#FFFFFF\" height=\"47\" id=\"E4\" style=\"stroke: #383838; stroke-width: 1.5;\" width=\"377.22\" x=\"49.5\" y=\"55\"/><rect fill=\"#F8F8F8\" height=\"37.9375\" style=\"stroke: #383838; stroke-width: 1.5;\" width=\"377.22\" x=\"49.5\" y=\"55\"/><text fill=\"#000000\" font-family=\"sans-serif\" font-size=\"12\" font-style=\"italic\" lengthAdjust=\"spacingAndGlyphs\" textLength=\"110\" x=\"183.11\" y=\"71.1387\">«calculation  def»</text><text fill=\"#000000\" font-family=\"sans-serif\" font-size=\"12\" lengthAdjust=\"spacingAndGlyphs\" textLength=\"7\" x=\"234.61\" y=\"85.1074\">F</text></a><!--MD5=[b4997ac47864f28c2f74865a473b2911]\n",
       "class E2--><a href=\"psysml:a687f627-404e-4522-a6e9-e30e4b3087b4\" target=\"_top\" title=\"psysml:a687f627-404e-4522-a6e9-e30e4b3087b4\" xlink:actuate=\"onRequest\" xlink:href=\"psysml:a687f627-404e-4522-a6e9-e30e4b3087b4\" xlink:show=\"new\" xlink:title=\"psysml:a687f627-404e-4522-a6e9-e30e4b3087b4\" xlink:type=\"simple\"><rect fill=\"#FFFFFF\" height=\"88.3516\" id=\"E2\" style=\"stroke: #383838; stroke-width: 1.5;\" width=\"99\" x=\"182\" y=\"128\"/><text fill=\"#000000\" font-family=\"sans-serif\" font-size=\"12\" font-style=\"italic\" lengthAdjust=\"spacingAndGlyphs\" textLength=\"97\" x=\"183\" y=\"144.1387\">«attribute  def»</text><text fill=\"#000000\" font-family=\"sans-serif\" font-size=\"12\" lengthAdjust=\"spacingAndGlyphs\" textLength=\"8\" x=\"227.5\" y=\"158.1074\">A</text><line style=\"stroke: #383838; stroke-width: 1.5;\" x1=\"183\" x2=\"280\" y1=\"165.9375\" y2=\"165.9375\"/><text fill=\"#000000\" font-family=\"sans-serif\" font-size=\"11\" lengthAdjust=\"spacingAndGlyphs\" textLength=\"48\" x=\"188\" y=\"196.9526\">x: String</text><text fill=\"#000000\" font-family=\"sans-serif\" font-size=\"11\" lengthAdjust=\"spacingAndGlyphs\" textLength=\"21\" x=\"188\" y=\"209.7573\">y: A</text><line style=\"stroke: #383838; stroke-width: 1.0;\" x1=\"183\" x2=\"204\" y1=\"180.3398\" y2=\"180.3398\"/><text fill=\"#000000\" font-family=\"sans-serif\" font-size=\"11\" lengthAdjust=\"spacingAndGlyphs\" textLength=\"55\" x=\"204\" y=\"183.6479\">attributes</text><line style=\"stroke: #383838; stroke-width: 1.0;\" x1=\"259\" x2=\"280\" y1=\"180.3398\" y2=\"180.3398\"/></a><!--MD5=[09b614a08d8cba4a07c9adeb5e0fee81]\n",
       "class E3--><a href=\"psysml:080a965c-bda9-42ef-b0e7-dadea2c4de7a\" target=\"_top\" title=\"psysml:080a965c-bda9-42ef-b0e7-dadea2c4de7a\" xlink:actuate=\"onRequest\" xlink:href=\"psysml:080a965c-bda9-42ef-b0e7-dadea2c4de7a\" xlink:show=\"new\" xlink:title=\"psysml:080a965c-bda9-42ef-b0e7-dadea2c4de7a\" xlink:type=\"simple\"><rect fill=\"#FFFFFF\" height=\"45.9375\" id=\"E3\" rx=\"10\" ry=\"10\" style=\"stroke: #383838; stroke-width: 1.5;\" width=\"71\" x=\"32\" y=\"143\"/><text fill=\"#000000\" font-family=\"sans-serif\" font-size=\"12\" font-style=\"italic\" lengthAdjust=\"spacingAndGlyphs\" textLength=\"69\" x=\"33\" y=\"159.1387\">«attribute»</text><text fill=\"#000000\" font-family=\"sans-serif\" font-size=\"12\" lengthAdjust=\"spacingAndGlyphs\" textLength=\"24\" x=\"53.5\" y=\"173.1074\">a: A</text><line style=\"stroke: #383838; stroke-width: 1.5;\" x1=\"33\" x2=\"102\" y1=\"180.9375\" y2=\"180.9375\"/></a><!--MD5=[b9389687b975829384b498ac4b7476b2]\n",
       "class E8--><a href=\"psysml:a95297bf-d64f-43ac-86b7-f9f55eba203a\" target=\"_top\" title=\"psysml:a95297bf-d64f-43ac-86b7-f9f55eba203a\" xlink:actuate=\"onRequest\" xlink:href=\"psysml:a95297bf-d64f-43ac-86b7-f9f55eba203a\" xlink:show=\"new\" xlink:title=\"psysml:a95297bf-d64f-43ac-86b7-f9f55eba203a\" xlink:type=\"simple\"><rect fill=\"#FFFFFF\" height=\"45.9375\" id=\"E8\" rx=\"10\" ry=\"10\" style=\"stroke: #383838; stroke-width: 1.5;\" width=\"71\" x=\"32\" y=\"224\"/><text fill=\"#000000\" font-family=\"sans-serif\" font-size=\"12\" font-style=\"italic\" lengthAdjust=\"spacingAndGlyphs\" textLength=\"69\" x=\"33\" y=\"240.1387\">«attribute»</text><text fill=\"#000000\" font-family=\"sans-serif\" font-size=\"12\" lengthAdjust=\"spacingAndGlyphs\" textLength=\"4\" x=\"65.5\" y=\"254.1074\">f</text><line style=\"stroke: #383838; stroke-width: 1.5;\" x1=\"33\" x2=\"102\" y1=\"261.9375\" y2=\"261.9375\"/></a><!--MD5=[fd4143e9d270a159db93a4ea2a975926]\n",
       "class E9--><a href=\"psysml:778a48ec-a539-4294-8634-0d41b068db9f\" target=\"_top\" title=\"psysml:778a48ec-a539-4294-8634-0d41b068db9f\" xlink:actuate=\"onRequest\" xlink:href=\"psysml:778a48ec-a539-4294-8634-0d41b068db9f\" xlink:show=\"new\" xlink:title=\"psysml:778a48ec-a539-4294-8634-0d41b068db9f\" xlink:type=\"simple\"><rect fill=\"#FFFFFF\" height=\"45.9375\" id=\"E9\" rx=\"10\" ry=\"10\" style=\"stroke: #383838; stroke-width: 1.5;\" width=\"71\" x=\"32\" y=\"305\"/><text fill=\"#000000\" font-family=\"sans-serif\" font-size=\"12\" font-style=\"italic\" lengthAdjust=\"spacingAndGlyphs\" textLength=\"69\" x=\"33\" y=\"321.1387\">«attribute»</text><text fill=\"#000000\" font-family=\"sans-serif\" font-size=\"12\" lengthAdjust=\"spacingAndGlyphs\" textLength=\"8\" x=\"63.5\" y=\"335.1074\">g</text><line style=\"stroke: #383838; stroke-width: 1.5;\" x1=\"33\" x2=\"102\" y1=\"342.9375\" y2=\"342.9375\"/></a><!--MD5=[96f4274e9e20536e775497830990834d]\n",
       "class E10--><a href=\"psysml:178fd1be-66b7-4b93-9f69-0783143b2542\" target=\"_top\" title=\"psysml:178fd1be-66b7-4b93-9f69-0783143b2542\" xlink:actuate=\"onRequest\" xlink:href=\"psysml:178fd1be-66b7-4b93-9f69-0783143b2542\" xlink:show=\"new\" xlink:title=\"psysml:178fd1be-66b7-4b93-9f69-0783143b2542\" xlink:type=\"simple\"><rect fill=\"#FFFFFF\" height=\"45.9375\" id=\"E10\" rx=\"10\" ry=\"10\" style=\"stroke: #383838; stroke-width: 1.5;\" width=\"71\" x=\"32\" y=\"386\"/><text fill=\"#000000\" font-family=\"sans-serif\" font-size=\"12\" font-style=\"italic\" lengthAdjust=\"spacingAndGlyphs\" textLength=\"69\" x=\"33\" y=\"402.1387\">«attribute»</text><text fill=\"#000000\" font-family=\"sans-serif\" font-size=\"12\" lengthAdjust=\"spacingAndGlyphs\" textLength=\"8\" x=\"63.5\" y=\"416.1074\">b</text><line style=\"stroke: #383838; stroke-width: 1.5;\" x1=\"33\" x2=\"102\" y1=\"423.9375\" y2=\"423.9375\"/></a><!--MD5=[1dd1bfd58a279cf63c5f349dbc8fc6a1]\n",
       "class E11--><a href=\"psysml:ce14b558-47dc-4a37-8f10-4afbd6cf7826\" target=\"_top\" title=\"psysml:ce14b558-47dc-4a37-8f10-4afbd6cf7826\" xlink:actuate=\"onRequest\" xlink:href=\"psysml:ce14b558-47dc-4a37-8f10-4afbd6cf7826\" xlink:show=\"new\" xlink:title=\"psysml:ce14b558-47dc-4a37-8f10-4afbd6cf7826\" xlink:type=\"simple\"><rect fill=\"#FFFFFF\" height=\"45.9375\" id=\"E11\" rx=\"10\" ry=\"10\" style=\"stroke: #383838; stroke-width: 1.5;\" width=\"71\" x=\"32\" y=\"467\"/><text fill=\"#000000\" font-family=\"sans-serif\" font-size=\"12\" font-style=\"italic\" lengthAdjust=\"spacingAndGlyphs\" textLength=\"69\" x=\"33\" y=\"483.1387\">«attribute»</text><text fill=\"#000000\" font-family=\"sans-serif\" font-size=\"12\" lengthAdjust=\"spacingAndGlyphs\" textLength=\"7\" x=\"64\" y=\"497.1074\">c</text><line style=\"stroke: #383838; stroke-width: 1.5;\" x1=\"33\" x2=\"102\" y1=\"504.9375\" y2=\"504.9375\"/></a><text fill=\"#000000\" font-family=\"sans-serif\" font-size=\"14\" lengthAdjust=\"spacingAndGlyphs\" textLength=\"9\" x=\"63\" y=\"120.9951\">p</text><rect fill=\"#383838\" height=\"12\" style=\"stroke: #F8F8F8; stroke-width: 1.5;\" width=\"12\" x=\"61.5\" y=\"96\"/><text fill=\"#000000\" font-family=\"sans-serif\" font-size=\"14\" lengthAdjust=\"spacingAndGlyphs\" textLength=\"9\" x=\"63\" y=\"33.6982\">q</text><rect fill=\"#383838\" height=\"12\" style=\"stroke: #F8F8F8; stroke-width: 1.5;\" width=\"12\" x=\"61.5\" y=\"49\"/><text fill=\"#000000\" font-family=\"sans-serif\" font-size=\"14\" lengthAdjust=\"spacingAndGlyphs\" textLength=\"39\" x=\"407.22\" y=\"53.6982\">result</text><rect fill=\"#383838\" height=\"12\" style=\"stroke: #F8F8F8; stroke-width: 1.5;\" width=\"12\" x=\"420.72\" y=\"69\"/><!--MD5=[05d275557350bfb9b23a4ef7222b4c39]\n",
       "link E3 to E2--><a href=\"psysml:f36357d4-9dbb-46b9-9535-0d41e0b85630\" target=\"_top\" title=\"psysml:f36357d4-9dbb-46b9-9535-0d41e0b85630\" xlink:actuate=\"onRequest\" xlink:href=\"psysml:f36357d4-9dbb-46b9-9535-0d41e0b85630\" xlink:show=\"new\" xlink:title=\"psysml:f36357d4-9dbb-46b9-9535-0d41e0b85630\" xlink:type=\"simple\"><path d=\"M103.25,167.29 C120.39,167.92 141.67,168.71 161.9,169.46 \" fill=\"none\" id=\"E3-&gt;E2\" style=\"stroke: #383838; stroke-width: 1.0;\"/><polygon fill=\"#FFFFFF\" points=\"181.98,170.2,162.7331,176.4894,163.2531,162.4991,181.98,170.2\" style=\"stroke: #383838; stroke-width: 1.0;\"/><ellipse cx=\"157.1113\" cy=\"174.2791\" fill=\"#383838\" rx=\"2\" ry=\"2\" style=\"stroke: #383838; stroke-width: 1.0;\"/><ellipse cx=\"157.4828\" cy=\"164.286\" fill=\"#383838\" rx=\"2\" ry=\"2\" style=\"stroke: #383838; stroke-width: 1.0;\"/></a><!--MD5=[8751da20c8e06f20126bedec8a0fc18f]\n",
       "@startuml\r\n",
       "left to right direction\r\n",
       "skinparam monochrome true\r\n",
       "skinparam classbackgroundcolor white\r\n",
       "skinparam shadowing false\r\n",
       "skinparam wrapWidth 300\r\n",
       "hide circle\r\n",
       "\r\n",
       "package \"ParameterTest\" as E1  [[psysml:19b06251-fe6f-4e99-9afa-d6889eb7a18f ]]  {\r\n",
       "comp def \"A\" as E2  <<(T,blue) attribute  def>> [[psysml:a687f627-404e-4522-a6e9-e30e4b3087b4 ]] {\r\n",
       "- - attributes - -\r\n",
       "x: String\r\n",
       "y: A\r\n",
       "}\r\n",
       "comp usage \"a: A \" as E3  <<(T,blue) attribute>> [[psysml:080a965c-bda9-42ef-b0e7-dadea2c4de7a ]] {\r\n",
       "}\r\n",
       "rec def \"F\" as E4  <<(T,blue) calculation  def>> [[psysml:87bb354b-94c0-403b-b7cb-102c1c7ef37a ]] {\r\n",
       "portin \"p\" as E5  [[psysml:16f7e9d3-43d0-4287-8a70-cbe1c91459d8 ]] \r\n",
       "portin \"q\" as E6  [[psysml:b2699d44-082f-48d9-8fe4-b2b87d72af88 ]] \r\n",
       "portout \"result\" as E7  [[psysml:efe4aa1f-bd0b-42c7-877f-48fcbd913317 ]] \r\n",
       "}\r\n",
       "\r\n",
       "comp usage \"f\" as E8  <<(T,blue) attribute>> [[psysml:a95297bf-d64f-43ac-86b7-f9f55eba203a ]] {\r\n",
       "}\r\n",
       "comp usage \"g\" as E9  <<(T,blue) attribute>> [[psysml:778a48ec-a539-4294-8634-0d41b068db9f ]] {\r\n",
       "}\r\n",
       "comp usage \"b\" as E10  <<(T,blue) attribute>> [[psysml:178fd1be-66b7-4b93-9f69-0783143b2542 ]] {\r\n",
       "}\r\n",
       "comp usage \"c\" as E11  <<(T,blue) attribute>> [[psysml:ce14b558-47dc-4a37-8f10-4afbd6cf7826 ]] {\r\n",
       "}\r\n",
       "}\r\n",
       "E3 - -:|> E2 [[psysml:f36357d4-9dbb-46b9-9535-0d41e0b85630 ]] \r\n",
       "@enduml\r\n",
       "\n",
       "PlantUML version 1.2020.13(Sat Jun 13 12:26:38 UTC 2020)\n",
       "(EPL source distribution)\n",
       "Java Runtime: OpenJDK Runtime Environment\n",
       "JVM: OpenJDK 64-Bit Server VM\n",
       "Default Encoding: UTF-8\n",
       "Language: en\n",
       "Country: null\n",
       "--></g></svg>"
      ]
     },
     "execution_count": 22,
     "metadata": {},
     "output_type": "execute_result"
    }
   ],
   "source": [
    "%viz --style=\"LR\" --view=\"MIXED\" \"ParameterTest\""
   ]
  },
  {
   "cell_type": "code",
   "execution_count": 23,
   "id": "bc65a9c5",
   "metadata": {
    "execution": {
     "iopub.execute_input": "2021-11-13T12:59:15.667785Z",
     "iopub.status.busy": "2021-11-13T12:59:15.667414Z",
     "iopub.status.idle": "2021-11-13T12:59:15.716658Z",
     "shell.execute_reply": "2021-11-13T12:59:15.716300Z"
    }
   },
   "outputs": [
    {
     "data": {
      "image/svg+xml": [
       "<?xml version=\"1.0\" encoding=\"UTF-8\" standalone=\"no\"?><svg xmlns=\"http://www.w3.org/2000/svg\" xmlns:xlink=\"http://www.w3.org/1999/xlink\" contentScriptType=\"application/ecmascript\" contentStyleType=\"text/css\" height=\"403px\" preserveAspectRatio=\"none\" style=\"width:744px;height:403px;\" version=\"1.1\" viewBox=\"0 0 744 403\" width=\"744px\" zoomAndPan=\"magnify\"><defs><filter height=\"300%\" id=\"f1kmhexty08muz\" width=\"300%\" x=\"-1\" y=\"-1\"><feGaussianBlur result=\"blurOut\" stdDeviation=\"2.0\"/><feColorMatrix in=\"blurOut\" result=\"blurOut2\" type=\"matrix\" values=\"0 0 0 0 0 0 0 0 0 0 0 0 0 0 0 0 0 0 .4 0\"/><feOffset dx=\"4.0\" dy=\"4.0\" in=\"blurOut2\" result=\"blurOut3\"/><feBlend in=\"SourceGraphic\" in2=\"blurOut3\" mode=\"normal\"/></filter></defs><g><!--MD5=[fbc87193dbaf4d95561dea2c320d4a47]\n",
       "cluster E1--><a href=\"psysml:19b06251-fe6f-4e99-9afa-d6889eb7a18f\" target=\"_top\" title=\"psysml:19b06251-fe6f-4e99-9afa-d6889eb7a18f\" xlink:actuate=\"onRequest\" xlink:href=\"psysml:19b06251-fe6f-4e99-9afa-d6889eb7a18f\" xlink:show=\"new\" xlink:title=\"psysml:19b06251-fe6f-4e99-9afa-d6889eb7a18f\" xlink:type=\"simple\"><polygon fill=\"#FFFFFF\" filter=\"url(#f1kmhexty08muz)\" points=\"16,6,124,6,131,28.2969,722,28.2969,722,391.72,16,391.72,16,6\" style=\"stroke: #000000; stroke-width: 1.5;\"/><line style=\"stroke: #000000; stroke-width: 1.5;\" x1=\"16\" x2=\"131\" y1=\"28.2969\" y2=\"28.2969\"/><text fill=\"#000000\" font-family=\"sans-serif\" font-size=\"14\" font-weight=\"bold\" lengthAdjust=\"spacingAndGlyphs\" textLength=\"102\" x=\"20\" y=\"20.9951\">ParameterTest</text></a><!--MD5=[f6df4d0ebaf0b5dfb2ced0ae5af7c670]\n",
       "cluster E4--><a href=\"psysml:87bb354b-94c0-403b-b7cb-102c1c7ef37a\" target=\"_top\" title=\"psysml:87bb354b-94c0-403b-b7cb-102c1c7ef37a\" xlink:actuate=\"onRequest\" xlink:href=\"psysml:87bb354b-94c0-403b-b7cb-102c1c7ef37a\" xlink:show=\"new\" xlink:title=\"psysml:87bb354b-94c0-403b-b7cb-102c1c7ef37a\" xlink:type=\"simple\"><rect fill=\"#FFFFFF\" filter=\"url(#f1kmhexty08muz)\" height=\"297.72\" id=\"E4\" style=\"stroke: #A80036; stroke-width: 1.5;\" width=\"150\" x=\"556\" y=\"64\"/><rect fill=\"#FEFECE\" height=\"37.9375\" style=\"stroke: #A80036; stroke-width: 1.5;\" width=\"150\" x=\"556\" y=\"64\"/><text fill=\"#000000\" font-family=\"sans-serif\" font-size=\"12\" font-style=\"italic\" lengthAdjust=\"spacingAndGlyphs\" textLength=\"110\" x=\"576\" y=\"80.1387\">«calculation  def»</text><text fill=\"#000000\" font-family=\"sans-serif\" font-size=\"12\" lengthAdjust=\"spacingAndGlyphs\" textLength=\"7\" x=\"627.5\" y=\"94.1074\">F</text></a><!--MD5=[b4997ac47864f28c2f74865a473b2911]\n",
       "class E2--><a href=\"psysml:a687f627-404e-4522-a6e9-e30e4b3087b4\" target=\"_top\" title=\"psysml:a687f627-404e-4522-a6e9-e30e4b3087b4\" xlink:actuate=\"onRequest\" xlink:href=\"psysml:a687f627-404e-4522-a6e9-e30e4b3087b4\" xlink:show=\"new\" xlink:title=\"psysml:a687f627-404e-4522-a6e9-e30e4b3087b4\" xlink:type=\"simple\"><rect fill=\"#FEFECE\" filter=\"url(#f1kmhexty08muz)\" height=\"88.3516\" id=\"E2\" style=\"stroke: #A80036; stroke-width: 1.5;\" width=\"99\" x=\"418.5\" y=\"147\"/><text fill=\"#000000\" font-family=\"sans-serif\" font-size=\"12\" font-style=\"italic\" lengthAdjust=\"spacingAndGlyphs\" textLength=\"97\" x=\"419.5\" y=\"163.1387\">«attribute  def»</text><text fill=\"#000000\" font-family=\"sans-serif\" font-size=\"12\" lengthAdjust=\"spacingAndGlyphs\" textLength=\"8\" x=\"464\" y=\"177.1074\">A</text><line style=\"stroke: #A80036; stroke-width: 1.5;\" x1=\"419.5\" x2=\"516.5\" y1=\"184.9375\" y2=\"184.9375\"/><text fill=\"#000000\" font-family=\"sans-serif\" font-size=\"11\" lengthAdjust=\"spacingAndGlyphs\" textLength=\"48\" x=\"424.5\" y=\"215.9526\">x: String</text><text fill=\"#000000\" font-family=\"sans-serif\" font-size=\"11\" lengthAdjust=\"spacingAndGlyphs\" textLength=\"21\" x=\"424.5\" y=\"228.7573\">y: A</text><line style=\"stroke: #A80036; stroke-width: 1.0;\" x1=\"419.5\" x2=\"440.5\" y1=\"199.3398\" y2=\"199.3398\"/><text fill=\"#000000\" font-family=\"sans-serif\" font-size=\"11\" lengthAdjust=\"spacingAndGlyphs\" textLength=\"55\" x=\"440.5\" y=\"202.6479\">attributes</text><line style=\"stroke: #A80036; stroke-width: 1.0;\" x1=\"495.5\" x2=\"516.5\" y1=\"199.3398\" y2=\"199.3398\"/></a><!--MD5=[09b614a08d8cba4a07c9adeb5e0fee81]\n",
       "class E3--><a href=\"psysml:080a965c-bda9-42ef-b0e7-dadea2c4de7a\" target=\"_top\" title=\"psysml:080a965c-bda9-42ef-b0e7-dadea2c4de7a\" xlink:actuate=\"onRequest\" xlink:href=\"psysml:080a965c-bda9-42ef-b0e7-dadea2c4de7a\" xlink:show=\"new\" xlink:title=\"psysml:080a965c-bda9-42ef-b0e7-dadea2c4de7a\" xlink:type=\"simple\"><rect fill=\"#FEFECE\" filter=\"url(#f1kmhexty08muz)\" height=\"45.9375\" id=\"E3\" rx=\"10\" ry=\"10\" style=\"stroke: #A80036; stroke-width: 1.5;\" width=\"71\" x=\"456.5\" y=\"41\"/><text fill=\"#000000\" font-family=\"sans-serif\" font-size=\"12\" font-style=\"italic\" lengthAdjust=\"spacingAndGlyphs\" textLength=\"69\" x=\"457.5\" y=\"57.1387\">«attribute»</text><text fill=\"#000000\" font-family=\"sans-serif\" font-size=\"12\" lengthAdjust=\"spacingAndGlyphs\" textLength=\"24\" x=\"478\" y=\"71.1074\">a: A</text><line style=\"stroke: #A80036; stroke-width: 1.5;\" x1=\"457.5\" x2=\"526.5\" y1=\"78.9375\" y2=\"78.9375\"/></a><!--MD5=[b9389687b975829384b498ac4b7476b2]\n",
       "class E8--><a href=\"psysml:a95297bf-d64f-43ac-86b7-f9f55eba203a\" target=\"_top\" title=\"psysml:a95297bf-d64f-43ac-86b7-f9f55eba203a\" xlink:actuate=\"onRequest\" xlink:href=\"psysml:a95297bf-d64f-43ac-86b7-f9f55eba203a\" xlink:show=\"new\" xlink:title=\"psysml:a95297bf-d64f-43ac-86b7-f9f55eba203a\" xlink:type=\"simple\"><rect fill=\"#FEFECE\" filter=\"url(#f1kmhexty08muz)\" height=\"45.9375\" id=\"E8\" rx=\"10\" ry=\"10\" style=\"stroke: #A80036; stroke-width: 1.5;\" width=\"71\" x=\"350.5\" y=\"41\"/><text fill=\"#000000\" font-family=\"sans-serif\" font-size=\"12\" font-style=\"italic\" lengthAdjust=\"spacingAndGlyphs\" textLength=\"69\" x=\"351.5\" y=\"57.1387\">«attribute»</text><text fill=\"#000000\" font-family=\"sans-serif\" font-size=\"12\" lengthAdjust=\"spacingAndGlyphs\" textLength=\"4\" x=\"384\" y=\"71.1074\">f</text><line style=\"stroke: #A80036; stroke-width: 1.5;\" x1=\"351.5\" x2=\"420.5\" y1=\"78.9375\" y2=\"78.9375\"/></a><!--MD5=[fd4143e9d270a159db93a4ea2a975926]\n",
       "class E9--><a href=\"psysml:778a48ec-a539-4294-8634-0d41b068db9f\" target=\"_top\" title=\"psysml:778a48ec-a539-4294-8634-0d41b068db9f\" xlink:actuate=\"onRequest\" xlink:href=\"psysml:778a48ec-a539-4294-8634-0d41b068db9f\" xlink:show=\"new\" xlink:title=\"psysml:778a48ec-a539-4294-8634-0d41b068db9f\" xlink:type=\"simple\"><rect fill=\"#FEFECE\" filter=\"url(#f1kmhexty08muz)\" height=\"45.9375\" id=\"E9\" rx=\"10\" ry=\"10\" style=\"stroke: #A80036; stroke-width: 1.5;\" width=\"71\" x=\"244.5\" y=\"41\"/><text fill=\"#000000\" font-family=\"sans-serif\" font-size=\"12\" font-style=\"italic\" lengthAdjust=\"spacingAndGlyphs\" textLength=\"69\" x=\"245.5\" y=\"57.1387\">«attribute»</text><text fill=\"#000000\" font-family=\"sans-serif\" font-size=\"12\" lengthAdjust=\"spacingAndGlyphs\" textLength=\"8\" x=\"276\" y=\"71.1074\">g</text><line style=\"stroke: #A80036; stroke-width: 1.5;\" x1=\"245.5\" x2=\"314.5\" y1=\"78.9375\" y2=\"78.9375\"/></a><!--MD5=[96f4274e9e20536e775497830990834d]\n",
       "class E10--><a href=\"psysml:178fd1be-66b7-4b93-9f69-0783143b2542\" target=\"_top\" title=\"psysml:178fd1be-66b7-4b93-9f69-0783143b2542\" xlink:actuate=\"onRequest\" xlink:href=\"psysml:178fd1be-66b7-4b93-9f69-0783143b2542\" xlink:show=\"new\" xlink:title=\"psysml:178fd1be-66b7-4b93-9f69-0783143b2542\" xlink:type=\"simple\"><rect fill=\"#FEFECE\" filter=\"url(#f1kmhexty08muz)\" height=\"45.9375\" id=\"E10\" rx=\"10\" ry=\"10\" style=\"stroke: #A80036; stroke-width: 1.5;\" width=\"71\" x=\"138.5\" y=\"41\"/><text fill=\"#000000\" font-family=\"sans-serif\" font-size=\"12\" font-style=\"italic\" lengthAdjust=\"spacingAndGlyphs\" textLength=\"69\" x=\"139.5\" y=\"57.1387\">«attribute»</text><text fill=\"#000000\" font-family=\"sans-serif\" font-size=\"12\" lengthAdjust=\"spacingAndGlyphs\" textLength=\"8\" x=\"170\" y=\"71.1074\">b</text><line style=\"stroke: #A80036; stroke-width: 1.5;\" x1=\"139.5\" x2=\"208.5\" y1=\"78.9375\" y2=\"78.9375\"/></a><!--MD5=[1dd1bfd58a279cf63c5f349dbc8fc6a1]\n",
       "class E11--><a href=\"psysml:ce14b558-47dc-4a37-8f10-4afbd6cf7826\" target=\"_top\" title=\"psysml:ce14b558-47dc-4a37-8f10-4afbd6cf7826\" xlink:actuate=\"onRequest\" xlink:href=\"psysml:ce14b558-47dc-4a37-8f10-4afbd6cf7826\" xlink:show=\"new\" xlink:title=\"psysml:ce14b558-47dc-4a37-8f10-4afbd6cf7826\" xlink:type=\"simple\"><rect fill=\"#FEFECE\" filter=\"url(#f1kmhexty08muz)\" height=\"45.9375\" id=\"E11\" rx=\"10\" ry=\"10\" style=\"stroke: #A80036; stroke-width: 1.5;\" width=\"71\" x=\"32.5\" y=\"41\"/><text fill=\"#000000\" font-family=\"sans-serif\" font-size=\"12\" font-style=\"italic\" lengthAdjust=\"spacingAndGlyphs\" textLength=\"69\" x=\"33.5\" y=\"57.1387\">«attribute»</text><text fill=\"#000000\" font-family=\"sans-serif\" font-size=\"12\" lengthAdjust=\"spacingAndGlyphs\" textLength=\"7\" x=\"64.5\" y=\"71.1074\">c</text><line style=\"stroke: #A80036; stroke-width: 1.5;\" x1=\"33.5\" x2=\"102.5\" y1=\"78.9375\" y2=\"78.9375\"/></a><text fill=\"#000000\" font-family=\"sans-serif\" font-size=\"14\" lengthAdjust=\"spacingAndGlyphs\" textLength=\"9\" x=\"569.5\" y=\"42.6982\">p</text><rect fill=\"#A80036\" height=\"12\" style=\"stroke: #FEFECE; stroke-width: 1.5;\" width=\"12\" x=\"568\" y=\"58\"/><text fill=\"#000000\" font-family=\"sans-serif\" font-size=\"14\" lengthAdjust=\"spacingAndGlyphs\" textLength=\"9\" x=\"616.5\" y=\"42.6982\">q</text><rect fill=\"#A80036\" height=\"12\" style=\"stroke: #FEFECE; stroke-width: 1.5;\" width=\"12\" x=\"615\" y=\"58\"/><text fill=\"#000000\" font-family=\"sans-serif\" font-size=\"14\" lengthAdjust=\"spacingAndGlyphs\" textLength=\"39\" x=\"601.5\" y=\"380.7151\">result</text><rect fill=\"#A80036\" height=\"12\" style=\"stroke: #FEFECE; stroke-width: 1.5;\" width=\"12\" x=\"615\" y=\"355.72\"/><!--MD5=[05d275557350bfb9b23a4ef7222b4c39]\n",
       "link E3 to E2--><a href=\"psysml:f36357d4-9dbb-46b9-9535-0d41e0b85630\" target=\"_top\" title=\"psysml:f36357d4-9dbb-46b9-9535-0d41e0b85630\" xlink:actuate=\"onRequest\" xlink:href=\"psysml:f36357d4-9dbb-46b9-9535-0d41e0b85630\" xlink:show=\"new\" xlink:title=\"psysml:f36357d4-9dbb-46b9-9535-0d41e0b85630\" xlink:type=\"simple\"><path d=\"M487.76,87.06 C485.61,98.3 482.86,112.6 480.11,126.95 \" fill=\"none\" id=\"E3-&gt;E2\" style=\"stroke: #A80036; stroke-width: 1.0;\"/><polygon fill=\"#FFFFFF\" points=\"476.27,146.93,472.9781,126.9509,486.727,129.5907,476.27,146.93\" style=\"stroke: #A80036; stroke-width: 1.0;\"/><ellipse cx=\"476.017\" cy=\"121.7303\" fill=\"#A80036\" rx=\"2\" ry=\"2\" style=\"stroke: #A80036; stroke-width: 1.0;\"/><ellipse cx=\"485.8376\" cy=\"123.6158\" fill=\"#A80036\" rx=\"2\" ry=\"2\" style=\"stroke: #A80036; stroke-width: 1.0;\"/></a><!--MD5=[3a84a4f8a4a55f392ce847785b8a8fa9]\n",
       "@startuml\r\n",
       "skinparam wrapWidth 300\r\n",
       "hide circle\r\n",
       "\r\n",
       "package \"ParameterTest\" as E1  [[psysml:19b06251-fe6f-4e99-9afa-d6889eb7a18f ]]  {\r\n",
       "comp def \"A\" as E2  <<(T,blue) attribute  def>> [[psysml:a687f627-404e-4522-a6e9-e30e4b3087b4 ]] {\r\n",
       "- - attributes - -\r\n",
       "x: String\r\n",
       "y: A\r\n",
       "}\r\n",
       "comp usage \"a: A \" as E3  <<(T,blue) attribute>> [[psysml:080a965c-bda9-42ef-b0e7-dadea2c4de7a ]] {\r\n",
       "}\r\n",
       "rec def \"F\" as E4  <<(T,blue) calculation  def>> [[psysml:87bb354b-94c0-403b-b7cb-102c1c7ef37a ]] {\r\n",
       "portin \"p\" as E5  [[psysml:16f7e9d3-43d0-4287-8a70-cbe1c91459d8 ]] \r\n",
       "portin \"q\" as E6  [[psysml:b2699d44-082f-48d9-8fe4-b2b87d72af88 ]] \r\n",
       "portout \"result\" as E7  [[psysml:efe4aa1f-bd0b-42c7-877f-48fcbd913317 ]] \r\n",
       "}\r\n",
       "\r\n",
       "comp usage \"f\" as E8  <<(T,blue) attribute>> [[psysml:a95297bf-d64f-43ac-86b7-f9f55eba203a ]] {\r\n",
       "}\r\n",
       "comp usage \"g\" as E9  <<(T,blue) attribute>> [[psysml:778a48ec-a539-4294-8634-0d41b068db9f ]] {\r\n",
       "}\r\n",
       "comp usage \"b\" as E10  <<(T,blue) attribute>> [[psysml:178fd1be-66b7-4b93-9f69-0783143b2542 ]] {\r\n",
       "}\r\n",
       "comp usage \"c\" as E11  <<(T,blue) attribute>> [[psysml:ce14b558-47dc-4a37-8f10-4afbd6cf7826 ]] {\r\n",
       "}\r\n",
       "}\r\n",
       "E3 - -:|> E2 [[psysml:f36357d4-9dbb-46b9-9535-0d41e0b85630 ]] \r\n",
       "@enduml\r\n",
       "\n",
       "PlantUML version 1.2020.13(Sat Jun 13 12:26:38 UTC 2020)\n",
       "(EPL source distribution)\n",
       "Java Runtime: OpenJDK Runtime Environment\n",
       "JVM: OpenJDK 64-Bit Server VM\n",
       "Default Encoding: UTF-8\n",
       "Language: en\n",
       "Country: null\n",
       "--></g></svg>"
      ]
     },
     "execution_count": 23,
     "metadata": {},
     "output_type": "execute_result"
    }
   ],
   "source": [
    "%viz --style=\"STDCOLOR\" --view=\"Default\" \"ParameterTest\""
   ]
  },
  {
   "cell_type": "code",
   "execution_count": 24,
   "id": "42c8a63a",
   "metadata": {
    "execution": {
     "iopub.execute_input": "2021-11-13T12:59:15.765902Z",
     "iopub.status.busy": "2021-11-13T12:59:15.765503Z",
     "iopub.status.idle": "2021-11-13T12:59:15.817563Z",
     "shell.execute_reply": "2021-11-13T12:59:15.817217Z"
    }
   },
   "outputs": [
    {
     "data": {
      "image/svg+xml": [
       "<?xml version=\"1.0\" encoding=\"UTF-8\" standalone=\"no\"?><svg xmlns=\"http://www.w3.org/2000/svg\" xmlns:xlink=\"http://www.w3.org/1999/xlink\" contentScriptType=\"application/ecmascript\" contentStyleType=\"text/css\" height=\"322px\" preserveAspectRatio=\"none\" style=\"width:714px;height:322px;\" version=\"1.1\" viewBox=\"0 0 714 322\" width=\"714px\" zoomAndPan=\"magnify\"><defs><filter height=\"300%\" id=\"fjyxt6olgjr4b\" width=\"300%\" x=\"-1\" y=\"-1\"><feGaussianBlur result=\"blurOut\" stdDeviation=\"2.0\"/><feColorMatrix in=\"blurOut\" result=\"blurOut2\" type=\"matrix\" values=\"0 0 0 0 0 0 0 0 0 0 0 0 0 0 0 0 0 0 .4 0\"/><feOffset dx=\"4.0\" dy=\"4.0\" in=\"blurOut2\" result=\"blurOut3\"/><feBlend in=\"SourceGraphic\" in2=\"blurOut3\" mode=\"normal\"/></filter></defs><g><!--MD5=[fbc87193dbaf4d95561dea2c320d4a47]\n",
       "cluster E1--><a href=\"psysml:19b06251-fe6f-4e99-9afa-d6889eb7a18f\" target=\"_top\" title=\"psysml:19b06251-fe6f-4e99-9afa-d6889eb7a18f\" xlink:actuate=\"onRequest\" xlink:href=\"psysml:19b06251-fe6f-4e99-9afa-d6889eb7a18f\" xlink:show=\"new\" xlink:title=\"psysml:19b06251-fe6f-4e99-9afa-d6889eb7a18f\" xlink:type=\"simple\"><polygon fill=\"#FFFFFF\" filter=\"url(#fjyxt6olgjr4b)\" points=\"16,6,124,6,131,28.2969,692,28.2969,692,310,16,310,16,6\" style=\"stroke: #000000; stroke-width: 1.5;\"/><line style=\"stroke: #000000; stroke-width: 1.5;\" x1=\"16\" x2=\"131\" y1=\"28.2969\" y2=\"28.2969\"/><text fill=\"#000000\" font-family=\"sans-serif\" font-size=\"14\" font-weight=\"bold\" lengthAdjust=\"spacingAndGlyphs\" textLength=\"102\" x=\"20\" y=\"20.9951\">ParameterTest</text></a><!--MD5=[b4997ac47864f28c2f74865a473b2911]\n",
       "class E2--><a href=\"psysml:a687f627-404e-4522-a6e9-e30e4b3087b4\" target=\"_top\" title=\"psysml:a687f627-404e-4522-a6e9-e30e4b3087b4\" xlink:actuate=\"onRequest\" xlink:href=\"psysml:a687f627-404e-4522-a6e9-e30e4b3087b4\" xlink:show=\"new\" xlink:title=\"psysml:a687f627-404e-4522-a6e9-e30e4b3087b4\" xlink:type=\"simple\"><rect fill=\"#FEFECE\" filter=\"url(#fjyxt6olgjr4b)\" height=\"88.3516\" id=\"E2\" style=\"stroke: #A80036; stroke-width: 1.5;\" width=\"99\" x=\"513.5\" y=\"206\"/><text fill=\"#000000\" font-family=\"sans-serif\" font-size=\"12\" font-style=\"italic\" lengthAdjust=\"spacingAndGlyphs\" textLength=\"97\" x=\"514.5\" y=\"222.1387\">«attribute  def»</text><text fill=\"#000000\" font-family=\"sans-serif\" font-size=\"12\" lengthAdjust=\"spacingAndGlyphs\" textLength=\"8\" x=\"559\" y=\"236.1074\">A</text><line style=\"stroke: #A80036; stroke-width: 1.5;\" x1=\"514.5\" x2=\"611.5\" y1=\"243.9375\" y2=\"243.9375\"/><text fill=\"#000000\" font-family=\"sans-serif\" font-size=\"11\" lengthAdjust=\"spacingAndGlyphs\" textLength=\"48\" x=\"519.5\" y=\"274.9526\">x: String</text><text fill=\"#000000\" font-family=\"sans-serif\" font-size=\"11\" lengthAdjust=\"spacingAndGlyphs\" textLength=\"21\" x=\"519.5\" y=\"287.7573\">y: A</text><line style=\"stroke: #A80036; stroke-width: 1.0;\" x1=\"514.5\" x2=\"535.5\" y1=\"258.3398\" y2=\"258.3398\"/><text fill=\"#000000\" font-family=\"sans-serif\" font-size=\"11\" lengthAdjust=\"spacingAndGlyphs\" textLength=\"55\" x=\"535.5\" y=\"261.6479\">attributes</text><line style=\"stroke: #A80036; stroke-width: 1.0;\" x1=\"590.5\" x2=\"611.5\" y1=\"258.3398\" y2=\"258.3398\"/></a><!--MD5=[09b614a08d8cba4a07c9adeb5e0fee81]\n",
       "class E3--><a href=\"psysml:080a965c-bda9-42ef-b0e7-dadea2c4de7a\" target=\"_top\" title=\"psysml:080a965c-bda9-42ef-b0e7-dadea2c4de7a\" xlink:actuate=\"onRequest\" xlink:href=\"psysml:080a965c-bda9-42ef-b0e7-dadea2c4de7a\" xlink:show=\"new\" xlink:title=\"psysml:080a965c-bda9-42ef-b0e7-dadea2c4de7a\" xlink:type=\"simple\"><rect fill=\"#FEFECE\" filter=\"url(#fjyxt6olgjr4b)\" height=\"45.9375\" id=\"E3\" rx=\"10\" ry=\"10\" style=\"stroke: #A80036; stroke-width: 1.5;\" width=\"71\" x=\"604.5\" y=\"62\"/><text fill=\"#000000\" font-family=\"sans-serif\" font-size=\"12\" font-style=\"italic\" lengthAdjust=\"spacingAndGlyphs\" textLength=\"69\" x=\"605.5\" y=\"78.1387\">«attribute»</text><text fill=\"#000000\" font-family=\"sans-serif\" font-size=\"12\" lengthAdjust=\"spacingAndGlyphs\" textLength=\"24\" x=\"626\" y=\"92.1074\">a: A</text><line style=\"stroke: #A80036; stroke-width: 1.5;\" x1=\"605.5\" x2=\"674.5\" y1=\"99.9375\" y2=\"99.9375\"/></a><!--MD5=[ebbe1d658d1005bcc118a6aa81145e00]\n",
       "class E4--><a href=\"psysml:87bb354b-94c0-403b-b7cb-102c1c7ef37a\" target=\"_top\" title=\"psysml:87bb354b-94c0-403b-b7cb-102c1c7ef37a\" xlink:actuate=\"onRequest\" xlink:href=\"psysml:87bb354b-94c0-403b-b7cb-102c1c7ef37a\" xlink:show=\"new\" xlink:title=\"psysml:87bb354b-94c0-403b-b7cb-102c1c7ef37a\" xlink:type=\"simple\"><rect fill=\"#FEFECE\" filter=\"url(#fjyxt6olgjr4b)\" height=\"88.3516\" id=\"E4\" style=\"stroke: #A80036; stroke-width: 1.5;\" width=\"112\" x=\"457\" y=\"41\"/><text fill=\"#000000\" font-family=\"sans-serif\" font-size=\"12\" font-style=\"italic\" lengthAdjust=\"spacingAndGlyphs\" textLength=\"110\" x=\"458\" y=\"57.1387\">«calculation  def»</text><text fill=\"#000000\" font-family=\"sans-serif\" font-size=\"12\" lengthAdjust=\"spacingAndGlyphs\" textLength=\"7\" x=\"509.5\" y=\"71.1074\">F</text><line style=\"stroke: #A80036; stroke-width: 1.5;\" x1=\"458\" x2=\"568\" y1=\"78.9375\" y2=\"78.9375\"/><text fill=\"#000000\" font-family=\"sans-serif\" font-size=\"11\" font-weight=\"bold\" lengthAdjust=\"spacingAndGlyphs\" textLength=\"10\" x=\"463\" y=\"109.9526\">in</text><text fill=\"#000000\" font-family=\"sans-serif\" font-size=\"11\" lengthAdjust=\"spacingAndGlyphs\" textLength=\"22\" x=\"477\" y=\"109.9526\">p: A</text><text fill=\"#000000\" font-family=\"sans-serif\" font-size=\"11\" font-weight=\"bold\" lengthAdjust=\"spacingAndGlyphs\" textLength=\"10\" x=\"463\" y=\"122.7573\">in</text><text fill=\"#000000\" font-family=\"sans-serif\" font-size=\"11\" lengthAdjust=\"spacingAndGlyphs\" textLength=\"55\" x=\"477\" y=\"122.7573\">q: Integer</text><line style=\"stroke: #A80036; stroke-width: 1.0;\" x1=\"458\" x2=\"479.5\" y1=\"93.3398\" y2=\"93.3398\"/><text fill=\"#000000\" font-family=\"sans-serif\" font-size=\"11\" lengthAdjust=\"spacingAndGlyphs\" textLength=\"67\" x=\"479.5\" y=\"96.6479\">parameters</text><line style=\"stroke: #A80036; stroke-width: 1.0;\" x1=\"546.5\" x2=\"568\" y1=\"93.3398\" y2=\"93.3398\"/></a><!--MD5=[270fce915f116d4de14055a7c1d9a0f3]\n",
       "class E5--><a href=\"psysml:a95297bf-d64f-43ac-86b7-f9f55eba203a\" target=\"_top\" title=\"psysml:a95297bf-d64f-43ac-86b7-f9f55eba203a\" xlink:actuate=\"onRequest\" xlink:href=\"psysml:a95297bf-d64f-43ac-86b7-f9f55eba203a\" xlink:show=\"new\" xlink:title=\"psysml:a95297bf-d64f-43ac-86b7-f9f55eba203a\" xlink:type=\"simple\"><rect fill=\"#FEFECE\" filter=\"url(#fjyxt6olgjr4b)\" height=\"45.9375\" id=\"E5\" rx=\"10\" ry=\"10\" style=\"stroke: #A80036; stroke-width: 1.5;\" width=\"71\" x=\"350.5\" y=\"62\"/><text fill=\"#000000\" font-family=\"sans-serif\" font-size=\"12\" font-style=\"italic\" lengthAdjust=\"spacingAndGlyphs\" textLength=\"69\" x=\"351.5\" y=\"78.1387\">«attribute»</text><text fill=\"#000000\" font-family=\"sans-serif\" font-size=\"12\" lengthAdjust=\"spacingAndGlyphs\" textLength=\"4\" x=\"384\" y=\"92.1074\">f</text><line style=\"stroke: #A80036; stroke-width: 1.5;\" x1=\"351.5\" x2=\"420.5\" y1=\"99.9375\" y2=\"99.9375\"/></a><!--MD5=[60a26617385b1d2d0262a64233df1f8d]\n",
       "class E6--><a href=\"psysml:778a48ec-a539-4294-8634-0d41b068db9f\" target=\"_top\" title=\"psysml:778a48ec-a539-4294-8634-0d41b068db9f\" xlink:actuate=\"onRequest\" xlink:href=\"psysml:778a48ec-a539-4294-8634-0d41b068db9f\" xlink:show=\"new\" xlink:title=\"psysml:778a48ec-a539-4294-8634-0d41b068db9f\" xlink:type=\"simple\"><rect fill=\"#FEFECE\" filter=\"url(#fjyxt6olgjr4b)\" height=\"45.9375\" id=\"E6\" rx=\"10\" ry=\"10\" style=\"stroke: #A80036; stroke-width: 1.5;\" width=\"71\" x=\"244.5\" y=\"62\"/><text fill=\"#000000\" font-family=\"sans-serif\" font-size=\"12\" font-style=\"italic\" lengthAdjust=\"spacingAndGlyphs\" textLength=\"69\" x=\"245.5\" y=\"78.1387\">«attribute»</text><text fill=\"#000000\" font-family=\"sans-serif\" font-size=\"12\" lengthAdjust=\"spacingAndGlyphs\" textLength=\"8\" x=\"276\" y=\"92.1074\">g</text><line style=\"stroke: #A80036; stroke-width: 1.5;\" x1=\"245.5\" x2=\"314.5\" y1=\"99.9375\" y2=\"99.9375\"/></a><!--MD5=[2156ba9850f5573cc1fc38a6a4b2f02b]\n",
       "class E7--><a href=\"psysml:178fd1be-66b7-4b93-9f69-0783143b2542\" target=\"_top\" title=\"psysml:178fd1be-66b7-4b93-9f69-0783143b2542\" xlink:actuate=\"onRequest\" xlink:href=\"psysml:178fd1be-66b7-4b93-9f69-0783143b2542\" xlink:show=\"new\" xlink:title=\"psysml:178fd1be-66b7-4b93-9f69-0783143b2542\" xlink:type=\"simple\"><rect fill=\"#FEFECE\" filter=\"url(#fjyxt6olgjr4b)\" height=\"45.9375\" id=\"E7\" rx=\"10\" ry=\"10\" style=\"stroke: #A80036; stroke-width: 1.5;\" width=\"71\" x=\"138.5\" y=\"62\"/><text fill=\"#000000\" font-family=\"sans-serif\" font-size=\"12\" font-style=\"italic\" lengthAdjust=\"spacingAndGlyphs\" textLength=\"69\" x=\"139.5\" y=\"78.1387\">«attribute»</text><text fill=\"#000000\" font-family=\"sans-serif\" font-size=\"12\" lengthAdjust=\"spacingAndGlyphs\" textLength=\"8\" x=\"170\" y=\"92.1074\">b</text><line style=\"stroke: #A80036; stroke-width: 1.5;\" x1=\"139.5\" x2=\"208.5\" y1=\"99.9375\" y2=\"99.9375\"/></a><!--MD5=[b9389687b975829384b498ac4b7476b2]\n",
       "class E8--><a href=\"psysml:ce14b558-47dc-4a37-8f10-4afbd6cf7826\" target=\"_top\" title=\"psysml:ce14b558-47dc-4a37-8f10-4afbd6cf7826\" xlink:actuate=\"onRequest\" xlink:href=\"psysml:ce14b558-47dc-4a37-8f10-4afbd6cf7826\" xlink:show=\"new\" xlink:title=\"psysml:ce14b558-47dc-4a37-8f10-4afbd6cf7826\" xlink:type=\"simple\"><rect fill=\"#FEFECE\" filter=\"url(#fjyxt6olgjr4b)\" height=\"45.9375\" id=\"E8\" rx=\"10\" ry=\"10\" style=\"stroke: #A80036; stroke-width: 1.5;\" width=\"71\" x=\"32.5\" y=\"62\"/><text fill=\"#000000\" font-family=\"sans-serif\" font-size=\"12\" font-style=\"italic\" lengthAdjust=\"spacingAndGlyphs\" textLength=\"69\" x=\"33.5\" y=\"78.1387\">«attribute»</text><text fill=\"#000000\" font-family=\"sans-serif\" font-size=\"12\" lengthAdjust=\"spacingAndGlyphs\" textLength=\"7\" x=\"64.5\" y=\"92.1074\">c</text><line style=\"stroke: #A80036; stroke-width: 1.5;\" x1=\"33.5\" x2=\"102.5\" y1=\"99.9375\" y2=\"99.9375\"/></a><!--MD5=[05d275557350bfb9b23a4ef7222b4c39]\n",
       "link E3 to E2--><a href=\"psysml:f36357d4-9dbb-46b9-9535-0d41e0b85630\" target=\"_top\" title=\"psysml:f36357d4-9dbb-46b9-9535-0d41e0b85630\" xlink:actuate=\"onRequest\" xlink:href=\"psysml:f36357d4-9dbb-46b9-9535-0d41e0b85630\" xlink:show=\"new\" xlink:title=\"psysml:f36357d4-9dbb-46b9-9535-0d41e0b85630\" xlink:type=\"simple\"><path d=\"M629.45,108.32 C619.8,128.75 605.07,159.95 591.92,187.77 \" fill=\"none\" id=\"E3-&gt;E2\" style=\"stroke: #A80036; stroke-width: 1.0;\"/><polygon fill=\"#FFFFFF\" points=\"583.37,205.87,585.1617,185.701,597.8187,191.6843,583.37,205.87\" style=\"stroke: #A80036; stroke-width: 1.0;\"/><ellipse cx=\"589.4059\" cy=\"181.4025\" fill=\"#A80036\" rx=\"2\" ry=\"2\" style=\"stroke: #A80036; stroke-width: 1.0;\"/><ellipse cx=\"598.4466\" cy=\"185.6763\" fill=\"#A80036\" rx=\"2\" ry=\"2\" style=\"stroke: #A80036; stroke-width: 1.0;\"/></a><!--MD5=[ddeed8deb2209213b62e6cfabaa108b2]\n",
       "reverse link E4 to E2--><a href=\"psysml:16f7e9d3-43d0-4287-8a70-cbe1c91459d8\" target=\"_top\" title=\"psysml:16f7e9d3-43d0-4287-8a70-cbe1c91459d8\" xlink:actuate=\"onRequest\" xlink:href=\"psysml:16f7e9d3-43d0-4287-8a70-cbe1c91459d8\" xlink:show=\"new\" xlink:title=\"psysml:16f7e9d3-43d0-4287-8a70-cbe1c91459d8\" xlink:type=\"simple\"><path d=\"M507.86,142.39 C508.25,153.71 509.71,165.38 513,176 C516.18,186.27 521.36,196.38 527.21,205.66 \" fill=\"none\" id=\"E4&lt;-E2\" style=\"stroke: #A80036; stroke-width: 1.0;\"/><polygon fill=\"#FFFFFF\" points=\"507.84,129.36,503.8466,135.3644,507.8532,141.36,511.8466,135.3556,507.84,129.36\" style=\"stroke: #A80036; stroke-width: 1.0;\"/><text fill=\"#000000\" font-family=\"sans-serif\" font-size=\"13\" lengthAdjust=\"spacingAndGlyphs\" textLength=\"8\" x=\"514\" y=\"172.0669\">p</text></a><!--MD5=[ddeed8deb2209213b62e6cfabaa108b2]\n",
       "reverse link E4 to E2--><a href=\"psysml:16f7e9d3-43d0-4287-8a70-cbe1c91459d8\" target=\"_top\" title=\"psysml:16f7e9d3-43d0-4287-8a70-cbe1c91459d8\" xlink:actuate=\"onRequest\" xlink:href=\"psysml:16f7e9d3-43d0-4287-8a70-cbe1c91459d8\" xlink:show=\"new\" xlink:title=\"psysml:16f7e9d3-43d0-4287-8a70-cbe1c91459d8\" xlink:type=\"simple\"><path d=\"M530.15,141.9 C536.56,162.81 543.75,186.23 549.76,205.83 \" fill=\"none\" id=\"E4&lt;-E2-1\" style=\"stroke: #A80036; stroke-width: 1.0;\"/><polygon fill=\"#FFFFFF\" points=\"526.27,129.25,524.2064,136.1595,529.7907,140.7219,531.8543,133.8124,526.27,129.25\" style=\"stroke: #A80036; stroke-width: 1.0;\"/><text fill=\"#000000\" font-family=\"sans-serif\" font-size=\"13\" lengthAdjust=\"spacingAndGlyphs\" textLength=\"8\" x=\"540\" y=\"172.0669\">p</text></a><!--MD5=[5153982ec90e4d2d3d07bd5049b79e29]\n",
       "@startuml\r\n",
       "skinparam wrapWidth 300\r\n",
       "hide circle\r\n",
       "\r\n",
       "package \"ParameterTest\" as E1  [[psysml:19b06251-fe6f-4e99-9afa-d6889eb7a18f ]]  {\r\n",
       "comp def \"A\" as E2  <<(T,blue) attribute  def>> [[psysml:a687f627-404e-4522-a6e9-e30e4b3087b4 ]] {\r\n",
       "- - attributes - -\r\n",
       "x: String\r\n",
       "y: A\r\n",
       "}\r\n",
       "comp usage \"a: A \" as E3  <<(T,blue) attribute>> [[psysml:080a965c-bda9-42ef-b0e7-dadea2c4de7a ]] {\r\n",
       "}\r\n",
       "comp def \"F\" as E4  <<(T,blue) calculation  def>> [[psysml:87bb354b-94c0-403b-b7cb-102c1c7ef37a ]] {\r\n",
       "- - parameters - -\r\n",
       "<b>in</b> p: A\r\n",
       "<b>in</b> q: Integer\r\n",
       "}\r\n",
       "comp usage \"f\" as E5  <<(T,blue) attribute>> [[psysml:a95297bf-d64f-43ac-86b7-f9f55eba203a ]] {\r\n",
       "}\r\n",
       "comp usage \"g\" as E6  <<(T,blue) attribute>> [[psysml:778a48ec-a539-4294-8634-0d41b068db9f ]] {\r\n",
       "}\r\n",
       "comp usage \"b\" as E7  <<(T,blue) attribute>> [[psysml:178fd1be-66b7-4b93-9f69-0783143b2542 ]] {\r\n",
       "}\r\n",
       "comp usage \"c\" as E8  <<(T,blue) attribute>> [[psysml:ce14b558-47dc-4a37-8f10-4afbd6cf7826 ]] {\r\n",
       "}\r\n",
       "}\r\n",
       "E3 - -:|> E2 [[psysml:f36357d4-9dbb-46b9-9535-0d41e0b85630 ]] \r\n",
       "E4 o- - E2 [[psysml:16f7e9d3-43d0-4287-8a70-cbe1c91459d8 ]] : p\r\n",
       "E4 o- - E2 [[psysml:16f7e9d3-43d0-4287-8a70-cbe1c91459d8 ]] : p\r\n",
       "@enduml\r\n",
       "\n",
       "PlantUML version 1.2020.13(Sat Jun 13 12:26:38 UTC 2020)\n",
       "(EPL source distribution)\n",
       "Java Runtime: OpenJDK Runtime Environment\n",
       "JVM: OpenJDK 64-Bit Server VM\n",
       "Default Encoding: UTF-8\n",
       "Language: en\n",
       "Country: null\n",
       "--></g></svg>"
      ]
     },
     "execution_count": 24,
     "metadata": {},
     "output_type": "execute_result"
    }
   ],
   "source": [
    "%viz --style=\"STDCOLOR\" --view=\"Tree\" \"ParameterTest\""
   ]
  },
  {
   "cell_type": "code",
   "execution_count": 25,
   "id": "24ffc36e",
   "metadata": {
    "execution": {
     "iopub.execute_input": "2021-11-13T12:59:15.866734Z",
     "iopub.status.busy": "2021-11-13T12:59:15.866334Z",
     "iopub.status.idle": "2021-11-13T12:59:15.870400Z",
     "shell.execute_reply": "2021-11-13T12:59:15.870071Z"
    }
   },
   "outputs": [
    {
     "data": {
      "image/svg+xml": [
       "<?xml version=\"1.0\" encoding=\"UTF-8\" standalone=\"no\"?><svg xmlns=\"http://www.w3.org/2000/svg\" xmlns:xlink=\"http://www.w3.org/1999/xlink\" contentScriptType=\"application/ecmascript\" contentStyleType=\"text/css\" height=\"12px\" preserveAspectRatio=\"none\" style=\"width:12px;height:12px;\" version=\"1.1\" viewBox=\"0 0 12 12\" width=\"12px\" zoomAndPan=\"magnify\"><defs/><g><!--MD5=[aeeef50f102b80d730deb6443d14f702]\n",
       "@startuml\r\n",
       "skinparam wrapWidth 300\r\n",
       "hide circle\r\n",
       "\r\n",
       "@enduml\r\n",
       "\n",
       "PlantUML version 1.2020.13(Sat Jun 13 12:26:38 UTC 2020)\n",
       "(EPL source distribution)\n",
       "Java Runtime: OpenJDK Runtime Environment\n",
       "JVM: OpenJDK 64-Bit Server VM\n",
       "Default Encoding: UTF-8\n",
       "Language: en\n",
       "Country: null\n",
       "--></g></svg>"
      ]
     },
     "execution_count": 25,
     "metadata": {},
     "output_type": "execute_result"
    }
   ],
   "source": [
    "%viz --style=\"STDCOLOR\" --view=\"State\" \"ParameterTest\""
   ]
  },
  {
   "cell_type": "code",
   "execution_count": 26,
   "id": "966f57a6",
   "metadata": {
    "execution": {
     "iopub.execute_input": "2021-11-13T12:59:15.920101Z",
     "iopub.status.busy": "2021-11-13T12:59:15.919694Z",
     "iopub.status.idle": "2021-11-13T12:59:15.960154Z",
     "shell.execute_reply": "2021-11-13T12:59:15.959755Z"
    }
   },
   "outputs": [
    {
     "data": {
      "image/svg+xml": [
       "<?xml version=\"1.0\" encoding=\"UTF-8\" standalone=\"no\"?><svg xmlns=\"http://www.w3.org/2000/svg\" xmlns:xlink=\"http://www.w3.org/1999/xlink\" contentScriptType=\"application/ecmascript\" contentStyleType=\"text/css\" height=\"216px\" preserveAspectRatio=\"none\" style=\"width:744px;height:216px;\" version=\"1.1\" viewBox=\"0 0 744 216\" width=\"744px\" zoomAndPan=\"magnify\"><defs><filter height=\"300%\" id=\"fu02se23ss91b\" width=\"300%\" x=\"-1\" y=\"-1\"><feGaussianBlur result=\"blurOut\" stdDeviation=\"2.0\"/><feColorMatrix in=\"blurOut\" result=\"blurOut2\" type=\"matrix\" values=\"0 0 0 0 0 0 0 0 0 0 0 0 0 0 0 0 0 0 .4 0\"/><feOffset dx=\"4.0\" dy=\"4.0\" in=\"blurOut2\" result=\"blurOut3\"/><feBlend in=\"SourceGraphic\" in2=\"blurOut3\" mode=\"normal\"/></filter></defs><g><!--MD5=[fbc87193dbaf4d95561dea2c320d4a47]\n",
       "cluster E1--><a href=\"psysml:19b06251-fe6f-4e99-9afa-d6889eb7a18f\" target=\"_top\" title=\"psysml:19b06251-fe6f-4e99-9afa-d6889eb7a18f\" xlink:actuate=\"onRequest\" xlink:href=\"psysml:19b06251-fe6f-4e99-9afa-d6889eb7a18f\" xlink:show=\"new\" xlink:title=\"psysml:19b06251-fe6f-4e99-9afa-d6889eb7a18f\" xlink:type=\"simple\"><polygon fill=\"#FFFFFF\" filter=\"url(#fu02se23ss91b)\" points=\"16,6,124,6,131,28.2969,722,28.2969,722,204.72,16,204.72,16,6\" style=\"stroke: #000000; stroke-width: 1.5;\"/><line style=\"stroke: #000000; stroke-width: 1.5;\" x1=\"16\" x2=\"131\" y1=\"28.2969\" y2=\"28.2969\"/><text fill=\"#000000\" font-family=\"sans-serif\" font-size=\"14\" font-weight=\"bold\" lengthAdjust=\"spacingAndGlyphs\" textLength=\"102\" x=\"20\" y=\"20.9951\">ParameterTest</text></a><!--MD5=[f6df4d0ebaf0b5dfb2ced0ae5af7c670]\n",
       "cluster E4--><a href=\"psysml:87bb354b-94c0-403b-b7cb-102c1c7ef37a\" target=\"_top\" title=\"psysml:87bb354b-94c0-403b-b7cb-102c1c7ef37a\" xlink:actuate=\"onRequest\" xlink:href=\"psysml:87bb354b-94c0-403b-b7cb-102c1c7ef37a\" xlink:show=\"new\" xlink:title=\"psysml:87bb354b-94c0-403b-b7cb-102c1c7ef37a\" xlink:type=\"simple\"><rect fill=\"#FFFFFF\" filter=\"url(#fu02se23ss91b)\" height=\"110.72\" id=\"E4\" style=\"stroke: #A80036; stroke-width: 1.5;\" width=\"150\" x=\"556\" y=\"64\"/><rect fill=\"#FEFECE\" height=\"37.9375\" style=\"stroke: #A80036; stroke-width: 1.5;\" width=\"150\" x=\"556\" y=\"64\"/><text fill=\"#000000\" font-family=\"sans-serif\" font-size=\"12\" font-style=\"italic\" lengthAdjust=\"spacingAndGlyphs\" textLength=\"110\" x=\"576\" y=\"80.1387\">«calculation  def»</text><text fill=\"#000000\" font-family=\"sans-serif\" font-size=\"12\" lengthAdjust=\"spacingAndGlyphs\" textLength=\"7\" x=\"627.5\" y=\"94.1074\">F</text></a><g id=\"E1.E2\"><a href=\"psysml:a687f627-404e-4522-a6e9-e30e4b3087b4\" target=\"_top\" title=\"psysml:a687f627-404e-4522-a6e9-e30e4b3087b4\" xlink:actuate=\"onRequest\" xlink:href=\"psysml:a687f627-404e-4522-a6e9-e30e4b3087b4\" xlink:show=\"new\" xlink:title=\"psysml:a687f627-404e-4522-a6e9-e30e4b3087b4\" xlink:type=\"simple\"><rect fill=\"#FEFECE\" filter=\"url(#fu02se23ss91b)\" height=\"42.9375\" id=\"E2\" style=\"stroke: #A80036; stroke-width: 1.5;\" width=\"104\" x=\"413\" y=\"99\"/><text fill=\"#000000\" font-family=\"sans-serif\" font-size=\"12\" font-style=\"italic\" lengthAdjust=\"spacingAndGlyphs\" textLength=\"97\" x=\"416.5\" y=\"115.1387\">«attribute  def»</text><text fill=\"#000000\" font-family=\"sans-serif\" font-size=\"12\" lengthAdjust=\"spacingAndGlyphs\" textLength=\"8\" x=\"461\" y=\"129.1074\">A</text></a></g><!--MD5=[09b614a08d8cba4a07c9adeb5e0fee81]\n",
       "class E3--><a href=\"psysml:080a965c-bda9-42ef-b0e7-dadea2c4de7a\" target=\"_top\" title=\"psysml:080a965c-bda9-42ef-b0e7-dadea2c4de7a\" xlink:actuate=\"onRequest\" xlink:href=\"psysml:080a965c-bda9-42ef-b0e7-dadea2c4de7a\" xlink:show=\"new\" xlink:title=\"psysml:080a965c-bda9-42ef-b0e7-dadea2c4de7a\" xlink:type=\"simple\"><rect fill=\"#FEFECE\" filter=\"url(#fu02se23ss91b)\" height=\"45.9375\" id=\"E3\" rx=\"10\" ry=\"10\" style=\"stroke: #A80036; stroke-width: 1.5;\" width=\"71\" x=\"456.5\" y=\"41\"/><text fill=\"#000000\" font-family=\"sans-serif\" font-size=\"12\" font-style=\"italic\" lengthAdjust=\"spacingAndGlyphs\" textLength=\"69\" x=\"457.5\" y=\"57.1387\">«attribute»</text><text fill=\"#000000\" font-family=\"sans-serif\" font-size=\"12\" lengthAdjust=\"spacingAndGlyphs\" textLength=\"24\" x=\"478\" y=\"71.1074\">a: A</text><line style=\"stroke: #A80036; stroke-width: 1.5;\" x1=\"457.5\" x2=\"526.5\" y1=\"78.9375\" y2=\"78.9375\"/></a><!--MD5=[b9389687b975829384b498ac4b7476b2]\n",
       "class E8--><a href=\"psysml:a95297bf-d64f-43ac-86b7-f9f55eba203a\" target=\"_top\" title=\"psysml:a95297bf-d64f-43ac-86b7-f9f55eba203a\" xlink:actuate=\"onRequest\" xlink:href=\"psysml:a95297bf-d64f-43ac-86b7-f9f55eba203a\" xlink:show=\"new\" xlink:title=\"psysml:a95297bf-d64f-43ac-86b7-f9f55eba203a\" xlink:type=\"simple\"><rect fill=\"#FEFECE\" filter=\"url(#fu02se23ss91b)\" height=\"45.9375\" id=\"E8\" rx=\"10\" ry=\"10\" style=\"stroke: #A80036; stroke-width: 1.5;\" width=\"71\" x=\"350.5\" y=\"41\"/><text fill=\"#000000\" font-family=\"sans-serif\" font-size=\"12\" font-style=\"italic\" lengthAdjust=\"spacingAndGlyphs\" textLength=\"69\" x=\"351.5\" y=\"57.1387\">«attribute»</text><text fill=\"#000000\" font-family=\"sans-serif\" font-size=\"12\" lengthAdjust=\"spacingAndGlyphs\" textLength=\"4\" x=\"384\" y=\"71.1074\">f</text><line style=\"stroke: #A80036; stroke-width: 1.5;\" x1=\"351.5\" x2=\"420.5\" y1=\"78.9375\" y2=\"78.9375\"/></a><!--MD5=[fd4143e9d270a159db93a4ea2a975926]\n",
       "class E9--><a href=\"psysml:778a48ec-a539-4294-8634-0d41b068db9f\" target=\"_top\" title=\"psysml:778a48ec-a539-4294-8634-0d41b068db9f\" xlink:actuate=\"onRequest\" xlink:href=\"psysml:778a48ec-a539-4294-8634-0d41b068db9f\" xlink:show=\"new\" xlink:title=\"psysml:778a48ec-a539-4294-8634-0d41b068db9f\" xlink:type=\"simple\"><rect fill=\"#FEFECE\" filter=\"url(#fu02se23ss91b)\" height=\"45.9375\" id=\"E9\" rx=\"10\" ry=\"10\" style=\"stroke: #A80036; stroke-width: 1.5;\" width=\"71\" x=\"244.5\" y=\"41\"/><text fill=\"#000000\" font-family=\"sans-serif\" font-size=\"12\" font-style=\"italic\" lengthAdjust=\"spacingAndGlyphs\" textLength=\"69\" x=\"245.5\" y=\"57.1387\">«attribute»</text><text fill=\"#000000\" font-family=\"sans-serif\" font-size=\"12\" lengthAdjust=\"spacingAndGlyphs\" textLength=\"8\" x=\"276\" y=\"71.1074\">g</text><line style=\"stroke: #A80036; stroke-width: 1.5;\" x1=\"245.5\" x2=\"314.5\" y1=\"78.9375\" y2=\"78.9375\"/></a><!--MD5=[96f4274e9e20536e775497830990834d]\n",
       "class E10--><a href=\"psysml:178fd1be-66b7-4b93-9f69-0783143b2542\" target=\"_top\" title=\"psysml:178fd1be-66b7-4b93-9f69-0783143b2542\" xlink:actuate=\"onRequest\" xlink:href=\"psysml:178fd1be-66b7-4b93-9f69-0783143b2542\" xlink:show=\"new\" xlink:title=\"psysml:178fd1be-66b7-4b93-9f69-0783143b2542\" xlink:type=\"simple\"><rect fill=\"#FEFECE\" filter=\"url(#fu02se23ss91b)\" height=\"45.9375\" id=\"E10\" rx=\"10\" ry=\"10\" style=\"stroke: #A80036; stroke-width: 1.5;\" width=\"71\" x=\"138.5\" y=\"41\"/><text fill=\"#000000\" font-family=\"sans-serif\" font-size=\"12\" font-style=\"italic\" lengthAdjust=\"spacingAndGlyphs\" textLength=\"69\" x=\"139.5\" y=\"57.1387\">«attribute»</text><text fill=\"#000000\" font-family=\"sans-serif\" font-size=\"12\" lengthAdjust=\"spacingAndGlyphs\" textLength=\"8\" x=\"170\" y=\"71.1074\">b</text><line style=\"stroke: #A80036; stroke-width: 1.5;\" x1=\"139.5\" x2=\"208.5\" y1=\"78.9375\" y2=\"78.9375\"/></a><!--MD5=[1dd1bfd58a279cf63c5f349dbc8fc6a1]\n",
       "class E11--><a href=\"psysml:ce14b558-47dc-4a37-8f10-4afbd6cf7826\" target=\"_top\" title=\"psysml:ce14b558-47dc-4a37-8f10-4afbd6cf7826\" xlink:actuate=\"onRequest\" xlink:href=\"psysml:ce14b558-47dc-4a37-8f10-4afbd6cf7826\" xlink:show=\"new\" xlink:title=\"psysml:ce14b558-47dc-4a37-8f10-4afbd6cf7826\" xlink:type=\"simple\"><rect fill=\"#FEFECE\" filter=\"url(#fu02se23ss91b)\" height=\"45.9375\" id=\"E11\" rx=\"10\" ry=\"10\" style=\"stroke: #A80036; stroke-width: 1.5;\" width=\"71\" x=\"32.5\" y=\"41\"/><text fill=\"#000000\" font-family=\"sans-serif\" font-size=\"12\" font-style=\"italic\" lengthAdjust=\"spacingAndGlyphs\" textLength=\"69\" x=\"33.5\" y=\"57.1387\">«attribute»</text><text fill=\"#000000\" font-family=\"sans-serif\" font-size=\"12\" lengthAdjust=\"spacingAndGlyphs\" textLength=\"7\" x=\"64.5\" y=\"71.1074\">c</text><line style=\"stroke: #A80036; stroke-width: 1.5;\" x1=\"33.5\" x2=\"102.5\" y1=\"78.9375\" y2=\"78.9375\"/></a><text fill=\"#000000\" font-family=\"sans-serif\" font-size=\"14\" lengthAdjust=\"spacingAndGlyphs\" textLength=\"9\" x=\"569.5\" y=\"42.6982\">p</text><rect fill=\"#A80036\" height=\"12\" style=\"stroke: #FEFECE; stroke-width: 1.5;\" width=\"12\" x=\"568\" y=\"58\"/><text fill=\"#000000\" font-family=\"sans-serif\" font-size=\"14\" lengthAdjust=\"spacingAndGlyphs\" textLength=\"9\" x=\"616.5\" y=\"42.6982\">q</text><rect fill=\"#A80036\" height=\"12\" style=\"stroke: #FEFECE; stroke-width: 1.5;\" width=\"12\" x=\"615\" y=\"58\"/><text fill=\"#000000\" font-family=\"sans-serif\" font-size=\"14\" lengthAdjust=\"spacingAndGlyphs\" textLength=\"39\" x=\"601.5\" y=\"193.7151\">result</text><rect fill=\"#A80036\" height=\"12\" style=\"stroke: #FEFECE; stroke-width: 1.5;\" width=\"12\" x=\"615\" y=\"168.72\"/><!--MD5=[05d275557350bfb9b23a4ef7222b4c39]\n",
       "link E3 to E2--><a href=\"psysml:f36357d4-9dbb-46b9-9535-0d41e0b85630\" target=\"_top\" title=\"psysml:f36357d4-9dbb-46b9-9535-0d41e0b85630\" xlink:actuate=\"onRequest\" xlink:href=\"psysml:f36357d4-9dbb-46b9-9535-0d41e0b85630\" xlink:show=\"new\" xlink:title=\"psysml:f36357d4-9dbb-46b9-9535-0d41e0b85630\" xlink:type=\"simple\"><path d=\"M481.02,87.17 C480.96,87.29 480.9,87.41 480.84,87.53 \" fill=\"none\" id=\"E3-&gt;E2\" style=\"stroke: #A80036; stroke-width: 1.0;\"/><polygon fill=\"#FFFFFF\" points=\"475.19,98.93,477.3425,78.7963,489.8904,85.0052,475.19,98.93\" style=\"stroke: #A80036; stroke-width: 1.0;\"/><ellipse cx=\"481.663\" cy=\"74.5745\" fill=\"#A80036\" rx=\"2\" ry=\"2\" style=\"stroke: #A80036; stroke-width: 1.0;\"/><ellipse cx=\"490.6257\" cy=\"79.0095\" fill=\"#A80036\" rx=\"2\" ry=\"2\" style=\"stroke: #A80036; stroke-width: 1.0;\"/></a><!--MD5=[dcab04d1d3ffb0e75cd6d3c894b8409b]\n",
       "@startuml\r\n",
       "skinparam ranksep 10\r\n",
       "skinparam rectangle {\r\n",
       " backgroundColor<<block>> LightGreen\r\n",
       "}\r\n",
       "skinparam wrapWidth 300\r\n",
       "hide circle\r\n",
       "\r\n",
       "package \"ParameterTest\" as E1  [[psysml:19b06251-fe6f-4e99-9afa-d6889eb7a18f ]]  {\r\n",
       "def \"A\" as E2  <<(T,blue) attribute  def>> [[psysml:a687f627-404e-4522-a6e9-e30e4b3087b4 ]] \r\n",
       "comp usage \"a: A \" as E3  <<(T,blue) attribute>> [[psysml:080a965c-bda9-42ef-b0e7-dadea2c4de7a ]] {\r\n",
       "}\r\n",
       "rec def \"F\" as E4  <<(T,blue) calculation  def>> [[psysml:87bb354b-94c0-403b-b7cb-102c1c7ef37a ]] {\r\n",
       "portin \"p\" as E5  [[psysml:16f7e9d3-43d0-4287-8a70-cbe1c91459d8 ]] \r\n",
       "portin \"q\" as E6  [[psysml:b2699d44-082f-48d9-8fe4-b2b87d72af88 ]] \r\n",
       "portout \"result\" as E7  [[psysml:efe4aa1f-bd0b-42c7-877f-48fcbd913317 ]] \r\n",
       "}\r\n",
       "\r\n",
       "comp usage \"f\" as E8  <<(T,blue) attribute>> [[psysml:a95297bf-d64f-43ac-86b7-f9f55eba203a ]] {\r\n",
       "}\r\n",
       "comp usage \"g\" as E9  <<(T,blue) attribute>> [[psysml:778a48ec-a539-4294-8634-0d41b068db9f ]] {\r\n",
       "}\r\n",
       "comp usage \"b\" as E10  <<(T,blue) attribute>> [[psysml:178fd1be-66b7-4b93-9f69-0783143b2542 ]] {\r\n",
       "}\r\n",
       "comp usage \"c\" as E11  <<(T,blue) attribute>> [[psysml:ce14b558-47dc-4a37-8f10-4afbd6cf7826 ]] {\r\n",
       "}\r\n",
       "}\r\n",
       "E3 - -:|> E2 [[psysml:f36357d4-9dbb-46b9-9535-0d41e0b85630 ]] \r\n",
       "@enduml\r\n",
       "\n",
       "PlantUML version 1.2020.13(Sat Jun 13 12:26:38 UTC 2020)\n",
       "(EPL source distribution)\n",
       "Java Runtime: OpenJDK Runtime Environment\n",
       "JVM: OpenJDK 64-Bit Server VM\n",
       "Default Encoding: UTF-8\n",
       "Language: en\n",
       "Country: null\n",
       "--></g></svg>"
      ]
     },
     "execution_count": 26,
     "metadata": {},
     "output_type": "execute_result"
    }
   ],
   "source": [
    "%viz --style=\"STDCOLOR\" --view=\"Interconnection\" \"ParameterTest\""
   ]
  },
  {
   "cell_type": "code",
   "execution_count": 27,
   "id": "2ee6601d",
   "metadata": {
    "execution": {
     "iopub.execute_input": "2021-11-13T12:59:16.009317Z",
     "iopub.status.busy": "2021-11-13T12:59:16.008923Z",
     "iopub.status.idle": "2021-11-13T12:59:16.029964Z",
     "shell.execute_reply": "2021-11-13T12:59:16.030274Z"
    }
   },
   "outputs": [
    {
     "data": {
      "image/svg+xml": [
       "<?xml version=\"1.0\" encoding=\"UTF-8\" standalone=\"no\"?><svg xmlns=\"http://www.w3.org/2000/svg\" xmlns:xlink=\"http://www.w3.org/1999/xlink\" contentScriptType=\"application/ecmascript\" contentStyleType=\"text/css\" height=\"162px\" preserveAspectRatio=\"none\" style=\"width:176px;height:162px;\" version=\"1.1\" viewBox=\"0 0 176 162\" width=\"176px\" zoomAndPan=\"magnify\"><defs><filter height=\"300%\" id=\"f159ivdyba7qz9\" width=\"300%\" x=\"-1\" y=\"-1\"><feGaussianBlur result=\"blurOut\" stdDeviation=\"2.0\"/><feColorMatrix in=\"blurOut\" result=\"blurOut2\" type=\"matrix\" values=\"0 0 0 0 0 0 0 0 0 0 0 0 0 0 0 0 0 0 .4 0\"/><feOffset dx=\"4.0\" dy=\"4.0\" in=\"blurOut2\" result=\"blurOut3\"/><feBlend in=\"SourceGraphic\" in2=\"blurOut3\" mode=\"normal\"/></filter></defs><g><!--MD5=[fbc87193dbaf4d95561dea2c320d4a47]\n",
       "cluster E1--><a href=\"psysml:87bb354b-94c0-403b-b7cb-102c1c7ef37a\" target=\"_top\" title=\"psysml:87bb354b-94c0-403b-b7cb-102c1c7ef37a\" xlink:actuate=\"onRequest\" xlink:href=\"psysml:87bb354b-94c0-403b-b7cb-102c1c7ef37a\" xlink:show=\"new\" xlink:title=\"psysml:87bb354b-94c0-403b-b7cb-102c1c7ef37a\" xlink:type=\"simple\"><rect fill=\"#FFFFFF\" filter=\"url(#f159ivdyba7qz9)\" height=\"87.72\" id=\"E1\" style=\"stroke: #A80036; stroke-width: 1.5;\" width=\"150\" x=\"7\" y=\"42.0986\"/><rect fill=\"#FEFECE\" height=\"37.9375\" style=\"stroke: #A80036; stroke-width: 1.5;\" width=\"150\" x=\"7\" y=\"42.0986\"/><text fill=\"#000000\" font-family=\"sans-serif\" font-size=\"12\" font-style=\"italic\" lengthAdjust=\"spacingAndGlyphs\" textLength=\"110\" x=\"27\" y=\"58.2373\">«calculation  def»</text><text fill=\"#000000\" font-family=\"sans-serif\" font-size=\"12\" lengthAdjust=\"spacingAndGlyphs\" textLength=\"7\" x=\"78.5\" y=\"72.2061\">F</text></a><text fill=\"#000000\" font-family=\"sans-serif\" font-size=\"14\" lengthAdjust=\"spacingAndGlyphs\" textLength=\"9\" x=\"20.5\" y=\"20.7969\">p</text><rect fill=\"#A80036\" height=\"12\" style=\"stroke: #FEFECE; stroke-width: 1.5;\" width=\"12\" x=\"19\" y=\"36.0986\"/><text fill=\"#000000\" font-family=\"sans-serif\" font-size=\"14\" lengthAdjust=\"spacingAndGlyphs\" textLength=\"9\" x=\"67.5\" y=\"20.7969\">q</text><rect fill=\"#A80036\" height=\"12\" style=\"stroke: #FEFECE; stroke-width: 1.5;\" width=\"12\" x=\"66\" y=\"36.0986\"/><text fill=\"#000000\" font-family=\"sans-serif\" font-size=\"14\" lengthAdjust=\"spacingAndGlyphs\" textLength=\"39\" x=\"52.5\" y=\"148.8138\">result</text><rect fill=\"#A80036\" height=\"12\" style=\"stroke: #FEFECE; stroke-width: 1.5;\" width=\"12\" x=\"66\" y=\"123.8186\"/><!--MD5=[de5753643a384e8e9de792ce0445cb72]\n",
       "@startuml\r\n",
       "skinparam ranksep 8\r\n",
       "skinparam wrapWidth 300\r\n",
       "hide circle\r\n",
       "\r\n",
       "rec def \"F\" as E1  <<(T,blue) calculation  def>> [[psysml:87bb354b-94c0-403b-b7cb-102c1c7ef37a ]] {\r\n",
       "portin \"p\" as E2  [[psysml:16f7e9d3-43d0-4287-8a70-cbe1c91459d8 ]] \r\n",
       "portin \"q\" as E3  [[psysml:b2699d44-082f-48d9-8fe4-b2b87d72af88 ]] \r\n",
       "portout \"result\" as E4  [[psysml:efe4aa1f-bd0b-42c7-877f-48fcbd913317 ]] \r\n",
       "}\r\n",
       "\r\n",
       "@enduml\r\n",
       "\n",
       "PlantUML version 1.2020.13(Sat Jun 13 12:26:38 UTC 2020)\n",
       "(EPL source distribution)\n",
       "Java Runtime: OpenJDK Runtime Environment\n",
       "JVM: OpenJDK 64-Bit Server VM\n",
       "Default Encoding: UTF-8\n",
       "Language: en\n",
       "Country: null\n",
       "--></g></svg>"
      ]
     },
     "execution_count": 27,
     "metadata": {},
     "output_type": "execute_result"
    }
   ],
   "source": [
    "%viz --style=\"STDCOLOR\" --view=\"Action\" \"ParameterTest\""
   ]
  },
  {
   "cell_type": "code",
   "execution_count": 28,
   "id": "bb77d2b1",
   "metadata": {
    "execution": {
     "iopub.execute_input": "2021-11-13T12:59:16.079897Z",
     "iopub.status.busy": "2021-11-13T12:59:16.079494Z",
     "iopub.status.idle": "2021-11-13T12:59:16.084734Z",
     "shell.execute_reply": "2021-11-13T12:59:16.085045Z"
    }
   },
   "outputs": [
    {
     "data": {
      "image/svg+xml": [
       "<?xml version=\"1.0\" encoding=\"UTF-8\" standalone=\"no\"?><svg xmlns=\"http://www.w3.org/2000/svg\" xmlns:xlink=\"http://www.w3.org/1999/xlink\" contentScriptType=\"application/ecmascript\" contentStyleType=\"text/css\" height=\"12px\" preserveAspectRatio=\"none\" style=\"width:12px;height:12px;\" version=\"1.1\" viewBox=\"0 0 12 12\" width=\"12px\" zoomAndPan=\"magnify\"><defs/><g><!--MD5=[6c4bca67b4d71758159a5a7f1f1e1fc2]\n",
       "@startuml\r\n",
       "skinparam roundcorner 20\r\n",
       "skinparam BoxPadding 20\r\n",
       "skinparam SequenceBoxBackgroundColor #white\r\n",
       "skinparam style strictuml\r\n",
       "skinparam maxMessageSize 100\r\n",
       "skinparam wrapWidth 300\r\n",
       "hide circle\r\n",
       "\r\n",
       "@enduml\r\n",
       "\n",
       "PlantUML version 1.2020.13(Sat Jun 13 12:26:38 UTC 2020)\n",
       "(EPL source distribution)\n",
       "Java Runtime: OpenJDK Runtime Environment\n",
       "JVM: OpenJDK 64-Bit Server VM\n",
       "Default Encoding: UTF-8\n",
       "Language: en\n",
       "Country: null\n",
       "--></g></svg>"
      ]
     },
     "execution_count": 28,
     "metadata": {},
     "output_type": "execute_result"
    }
   ],
   "source": [
    "%viz --style=\"STDCOLOR\" --view=\"Sequence\" \"ParameterTest\""
   ]
  },
  {
   "cell_type": "code",
   "execution_count": 29,
   "id": "0995a751",
   "metadata": {
    "execution": {
     "iopub.execute_input": "2021-11-13T12:59:16.134509Z",
     "iopub.status.busy": "2021-11-13T12:59:16.134115Z",
     "iopub.status.idle": "2021-11-13T12:59:16.178748Z",
     "shell.execute_reply": "2021-11-13T12:59:16.176977Z"
    }
   },
   "outputs": [
    {
     "data": {
      "image/svg+xml": [
       "<?xml version=\"1.0\" encoding=\"UTF-8\" standalone=\"no\"?><svg xmlns=\"http://www.w3.org/2000/svg\" xmlns:xlink=\"http://www.w3.org/1999/xlink\" contentScriptType=\"application/ecmascript\" contentStyleType=\"text/css\" height=\"403px\" preserveAspectRatio=\"none\" style=\"width:744px;height:403px;\" version=\"1.1\" viewBox=\"0 0 744 403\" width=\"744px\" zoomAndPan=\"magnify\"><defs><filter height=\"300%\" id=\"f1kmhexty08muz\" width=\"300%\" x=\"-1\" y=\"-1\"><feGaussianBlur result=\"blurOut\" stdDeviation=\"2.0\"/><feColorMatrix in=\"blurOut\" result=\"blurOut2\" type=\"matrix\" values=\"0 0 0 0 0 0 0 0 0 0 0 0 0 0 0 0 0 0 .4 0\"/><feOffset dx=\"4.0\" dy=\"4.0\" in=\"blurOut2\" result=\"blurOut3\"/><feBlend in=\"SourceGraphic\" in2=\"blurOut3\" mode=\"normal\"/></filter></defs><g><!--MD5=[fbc87193dbaf4d95561dea2c320d4a47]\n",
       "cluster E1--><a href=\"psysml:19b06251-fe6f-4e99-9afa-d6889eb7a18f\" target=\"_top\" title=\"psysml:19b06251-fe6f-4e99-9afa-d6889eb7a18f\" xlink:actuate=\"onRequest\" xlink:href=\"psysml:19b06251-fe6f-4e99-9afa-d6889eb7a18f\" xlink:show=\"new\" xlink:title=\"psysml:19b06251-fe6f-4e99-9afa-d6889eb7a18f\" xlink:type=\"simple\"><polygon fill=\"#FFFFFF\" filter=\"url(#f1kmhexty08muz)\" points=\"16,6,124,6,131,28.2969,722,28.2969,722,391.72,16,391.72,16,6\" style=\"stroke: #000000; stroke-width: 1.5;\"/><line style=\"stroke: #000000; stroke-width: 1.5;\" x1=\"16\" x2=\"131\" y1=\"28.2969\" y2=\"28.2969\"/><text fill=\"#000000\" font-family=\"sans-serif\" font-size=\"14\" font-weight=\"bold\" lengthAdjust=\"spacingAndGlyphs\" textLength=\"102\" x=\"20\" y=\"20.9951\">ParameterTest</text></a><!--MD5=[f6df4d0ebaf0b5dfb2ced0ae5af7c670]\n",
       "cluster E4--><a href=\"psysml:87bb354b-94c0-403b-b7cb-102c1c7ef37a\" target=\"_top\" title=\"psysml:87bb354b-94c0-403b-b7cb-102c1c7ef37a\" xlink:actuate=\"onRequest\" xlink:href=\"psysml:87bb354b-94c0-403b-b7cb-102c1c7ef37a\" xlink:show=\"new\" xlink:title=\"psysml:87bb354b-94c0-403b-b7cb-102c1c7ef37a\" xlink:type=\"simple\"><rect fill=\"#FFFFFF\" filter=\"url(#f1kmhexty08muz)\" height=\"297.72\" id=\"E4\" style=\"stroke: #A80036; stroke-width: 1.5;\" width=\"150\" x=\"556\" y=\"64\"/><rect fill=\"#FEFECE\" height=\"37.9375\" style=\"stroke: #A80036; stroke-width: 1.5;\" width=\"150\" x=\"556\" y=\"64\"/><text fill=\"#000000\" font-family=\"sans-serif\" font-size=\"12\" font-style=\"italic\" lengthAdjust=\"spacingAndGlyphs\" textLength=\"110\" x=\"576\" y=\"80.1387\">«calculation  def»</text><text fill=\"#000000\" font-family=\"sans-serif\" font-size=\"12\" lengthAdjust=\"spacingAndGlyphs\" textLength=\"7\" x=\"627.5\" y=\"94.1074\">F</text></a><!--MD5=[b4997ac47864f28c2f74865a473b2911]\n",
       "class E2--><a href=\"psysml:a687f627-404e-4522-a6e9-e30e4b3087b4\" target=\"_top\" title=\"psysml:a687f627-404e-4522-a6e9-e30e4b3087b4\" xlink:actuate=\"onRequest\" xlink:href=\"psysml:a687f627-404e-4522-a6e9-e30e4b3087b4\" xlink:show=\"new\" xlink:title=\"psysml:a687f627-404e-4522-a6e9-e30e4b3087b4\" xlink:type=\"simple\"><rect fill=\"#FEFECE\" filter=\"url(#f1kmhexty08muz)\" height=\"88.3516\" id=\"E2\" style=\"stroke: #A80036; stroke-width: 1.5;\" width=\"99\" x=\"418.5\" y=\"147\"/><text fill=\"#000000\" font-family=\"sans-serif\" font-size=\"12\" font-style=\"italic\" lengthAdjust=\"spacingAndGlyphs\" textLength=\"97\" x=\"419.5\" y=\"163.1387\">«attribute  def»</text><text fill=\"#000000\" font-family=\"sans-serif\" font-size=\"12\" lengthAdjust=\"spacingAndGlyphs\" textLength=\"8\" x=\"464\" y=\"177.1074\">A</text><line style=\"stroke: #A80036; stroke-width: 1.5;\" x1=\"419.5\" x2=\"516.5\" y1=\"184.9375\" y2=\"184.9375\"/><text fill=\"#000000\" font-family=\"sans-serif\" font-size=\"11\" lengthAdjust=\"spacingAndGlyphs\" textLength=\"48\" x=\"424.5\" y=\"215.9526\">x: String</text><text fill=\"#000000\" font-family=\"sans-serif\" font-size=\"11\" lengthAdjust=\"spacingAndGlyphs\" textLength=\"21\" x=\"424.5\" y=\"228.7573\">y: A</text><line style=\"stroke: #A80036; stroke-width: 1.0;\" x1=\"419.5\" x2=\"440.5\" y1=\"199.3398\" y2=\"199.3398\"/><text fill=\"#000000\" font-family=\"sans-serif\" font-size=\"11\" lengthAdjust=\"spacingAndGlyphs\" textLength=\"55\" x=\"440.5\" y=\"202.6479\">attributes</text><line style=\"stroke: #A80036; stroke-width: 1.0;\" x1=\"495.5\" x2=\"516.5\" y1=\"199.3398\" y2=\"199.3398\"/></a><!--MD5=[09b614a08d8cba4a07c9adeb5e0fee81]\n",
       "class E3--><a href=\"psysml:080a965c-bda9-42ef-b0e7-dadea2c4de7a\" target=\"_top\" title=\"psysml:080a965c-bda9-42ef-b0e7-dadea2c4de7a\" xlink:actuate=\"onRequest\" xlink:href=\"psysml:080a965c-bda9-42ef-b0e7-dadea2c4de7a\" xlink:show=\"new\" xlink:title=\"psysml:080a965c-bda9-42ef-b0e7-dadea2c4de7a\" xlink:type=\"simple\"><rect fill=\"#FEFECE\" filter=\"url(#f1kmhexty08muz)\" height=\"45.9375\" id=\"E3\" rx=\"10\" ry=\"10\" style=\"stroke: #A80036; stroke-width: 1.5;\" width=\"71\" x=\"456.5\" y=\"41\"/><text fill=\"#000000\" font-family=\"sans-serif\" font-size=\"12\" font-style=\"italic\" lengthAdjust=\"spacingAndGlyphs\" textLength=\"69\" x=\"457.5\" y=\"57.1387\">«attribute»</text><text fill=\"#000000\" font-family=\"sans-serif\" font-size=\"12\" lengthAdjust=\"spacingAndGlyphs\" textLength=\"24\" x=\"478\" y=\"71.1074\">a: A</text><line style=\"stroke: #A80036; stroke-width: 1.5;\" x1=\"457.5\" x2=\"526.5\" y1=\"78.9375\" y2=\"78.9375\"/></a><!--MD5=[b9389687b975829384b498ac4b7476b2]\n",
       "class E8--><a href=\"psysml:a95297bf-d64f-43ac-86b7-f9f55eba203a\" target=\"_top\" title=\"psysml:a95297bf-d64f-43ac-86b7-f9f55eba203a\" xlink:actuate=\"onRequest\" xlink:href=\"psysml:a95297bf-d64f-43ac-86b7-f9f55eba203a\" xlink:show=\"new\" xlink:title=\"psysml:a95297bf-d64f-43ac-86b7-f9f55eba203a\" xlink:type=\"simple\"><rect fill=\"#FEFECE\" filter=\"url(#f1kmhexty08muz)\" height=\"45.9375\" id=\"E8\" rx=\"10\" ry=\"10\" style=\"stroke: #A80036; stroke-width: 1.5;\" width=\"71\" x=\"350.5\" y=\"41\"/><text fill=\"#000000\" font-family=\"sans-serif\" font-size=\"12\" font-style=\"italic\" lengthAdjust=\"spacingAndGlyphs\" textLength=\"69\" x=\"351.5\" y=\"57.1387\">«attribute»</text><text fill=\"#000000\" font-family=\"sans-serif\" font-size=\"12\" lengthAdjust=\"spacingAndGlyphs\" textLength=\"4\" x=\"384\" y=\"71.1074\">f</text><line style=\"stroke: #A80036; stroke-width: 1.5;\" x1=\"351.5\" x2=\"420.5\" y1=\"78.9375\" y2=\"78.9375\"/></a><!--MD5=[fd4143e9d270a159db93a4ea2a975926]\n",
       "class E9--><a href=\"psysml:778a48ec-a539-4294-8634-0d41b068db9f\" target=\"_top\" title=\"psysml:778a48ec-a539-4294-8634-0d41b068db9f\" xlink:actuate=\"onRequest\" xlink:href=\"psysml:778a48ec-a539-4294-8634-0d41b068db9f\" xlink:show=\"new\" xlink:title=\"psysml:778a48ec-a539-4294-8634-0d41b068db9f\" xlink:type=\"simple\"><rect fill=\"#FEFECE\" filter=\"url(#f1kmhexty08muz)\" height=\"45.9375\" id=\"E9\" rx=\"10\" ry=\"10\" style=\"stroke: #A80036; stroke-width: 1.5;\" width=\"71\" x=\"244.5\" y=\"41\"/><text fill=\"#000000\" font-family=\"sans-serif\" font-size=\"12\" font-style=\"italic\" lengthAdjust=\"spacingAndGlyphs\" textLength=\"69\" x=\"245.5\" y=\"57.1387\">«attribute»</text><text fill=\"#000000\" font-family=\"sans-serif\" font-size=\"12\" lengthAdjust=\"spacingAndGlyphs\" textLength=\"8\" x=\"276\" y=\"71.1074\">g</text><line style=\"stroke: #A80036; stroke-width: 1.5;\" x1=\"245.5\" x2=\"314.5\" y1=\"78.9375\" y2=\"78.9375\"/></a><!--MD5=[96f4274e9e20536e775497830990834d]\n",
       "class E10--><a href=\"psysml:178fd1be-66b7-4b93-9f69-0783143b2542\" target=\"_top\" title=\"psysml:178fd1be-66b7-4b93-9f69-0783143b2542\" xlink:actuate=\"onRequest\" xlink:href=\"psysml:178fd1be-66b7-4b93-9f69-0783143b2542\" xlink:show=\"new\" xlink:title=\"psysml:178fd1be-66b7-4b93-9f69-0783143b2542\" xlink:type=\"simple\"><rect fill=\"#FEFECE\" filter=\"url(#f1kmhexty08muz)\" height=\"45.9375\" id=\"E10\" rx=\"10\" ry=\"10\" style=\"stroke: #A80036; stroke-width: 1.5;\" width=\"71\" x=\"138.5\" y=\"41\"/><text fill=\"#000000\" font-family=\"sans-serif\" font-size=\"12\" font-style=\"italic\" lengthAdjust=\"spacingAndGlyphs\" textLength=\"69\" x=\"139.5\" y=\"57.1387\">«attribute»</text><text fill=\"#000000\" font-family=\"sans-serif\" font-size=\"12\" lengthAdjust=\"spacingAndGlyphs\" textLength=\"8\" x=\"170\" y=\"71.1074\">b</text><line style=\"stroke: #A80036; stroke-width: 1.5;\" x1=\"139.5\" x2=\"208.5\" y1=\"78.9375\" y2=\"78.9375\"/></a><!--MD5=[1dd1bfd58a279cf63c5f349dbc8fc6a1]\n",
       "class E11--><a href=\"psysml:ce14b558-47dc-4a37-8f10-4afbd6cf7826\" target=\"_top\" title=\"psysml:ce14b558-47dc-4a37-8f10-4afbd6cf7826\" xlink:actuate=\"onRequest\" xlink:href=\"psysml:ce14b558-47dc-4a37-8f10-4afbd6cf7826\" xlink:show=\"new\" xlink:title=\"psysml:ce14b558-47dc-4a37-8f10-4afbd6cf7826\" xlink:type=\"simple\"><rect fill=\"#FEFECE\" filter=\"url(#f1kmhexty08muz)\" height=\"45.9375\" id=\"E11\" rx=\"10\" ry=\"10\" style=\"stroke: #A80036; stroke-width: 1.5;\" width=\"71\" x=\"32.5\" y=\"41\"/><text fill=\"#000000\" font-family=\"sans-serif\" font-size=\"12\" font-style=\"italic\" lengthAdjust=\"spacingAndGlyphs\" textLength=\"69\" x=\"33.5\" y=\"57.1387\">«attribute»</text><text fill=\"#000000\" font-family=\"sans-serif\" font-size=\"12\" lengthAdjust=\"spacingAndGlyphs\" textLength=\"7\" x=\"64.5\" y=\"71.1074\">c</text><line style=\"stroke: #A80036; stroke-width: 1.5;\" x1=\"33.5\" x2=\"102.5\" y1=\"78.9375\" y2=\"78.9375\"/></a><text fill=\"#000000\" font-family=\"sans-serif\" font-size=\"14\" lengthAdjust=\"spacingAndGlyphs\" textLength=\"9\" x=\"569.5\" y=\"42.6982\">p</text><rect fill=\"#A80036\" height=\"12\" style=\"stroke: #FEFECE; stroke-width: 1.5;\" width=\"12\" x=\"568\" y=\"58\"/><text fill=\"#000000\" font-family=\"sans-serif\" font-size=\"14\" lengthAdjust=\"spacingAndGlyphs\" textLength=\"9\" x=\"616.5\" y=\"42.6982\">q</text><rect fill=\"#A80036\" height=\"12\" style=\"stroke: #FEFECE; stroke-width: 1.5;\" width=\"12\" x=\"615\" y=\"58\"/><text fill=\"#000000\" font-family=\"sans-serif\" font-size=\"14\" lengthAdjust=\"spacingAndGlyphs\" textLength=\"39\" x=\"601.5\" y=\"380.7151\">result</text><rect fill=\"#A80036\" height=\"12\" style=\"stroke: #FEFECE; stroke-width: 1.5;\" width=\"12\" x=\"615\" y=\"355.72\"/><!--MD5=[05d275557350bfb9b23a4ef7222b4c39]\n",
       "link E3 to E2--><a href=\"psysml:f36357d4-9dbb-46b9-9535-0d41e0b85630\" target=\"_top\" title=\"psysml:f36357d4-9dbb-46b9-9535-0d41e0b85630\" xlink:actuate=\"onRequest\" xlink:href=\"psysml:f36357d4-9dbb-46b9-9535-0d41e0b85630\" xlink:show=\"new\" xlink:title=\"psysml:f36357d4-9dbb-46b9-9535-0d41e0b85630\" xlink:type=\"simple\"><path d=\"M487.76,87.06 C485.61,98.3 482.86,112.6 480.11,126.95 \" fill=\"none\" id=\"E3-&gt;E2\" style=\"stroke: #A80036; stroke-width: 1.0;\"/><polygon fill=\"#FFFFFF\" points=\"476.27,146.93,472.9781,126.9509,486.727,129.5907,476.27,146.93\" style=\"stroke: #A80036; stroke-width: 1.0;\"/><ellipse cx=\"476.017\" cy=\"121.7303\" fill=\"#A80036\" rx=\"2\" ry=\"2\" style=\"stroke: #A80036; stroke-width: 1.0;\"/><ellipse cx=\"485.8376\" cy=\"123.6158\" fill=\"#A80036\" rx=\"2\" ry=\"2\" style=\"stroke: #A80036; stroke-width: 1.0;\"/></a><!--MD5=[3a84a4f8a4a55f392ce847785b8a8fa9]\n",
       "@startuml\r\n",
       "skinparam wrapWidth 300\r\n",
       "hide circle\r\n",
       "\r\n",
       "package \"ParameterTest\" as E1  [[psysml:19b06251-fe6f-4e99-9afa-d6889eb7a18f ]]  {\r\n",
       "comp def \"A\" as E2  <<(T,blue) attribute  def>> [[psysml:a687f627-404e-4522-a6e9-e30e4b3087b4 ]] {\r\n",
       "- - attributes - -\r\n",
       "x: String\r\n",
       "y: A\r\n",
       "}\r\n",
       "comp usage \"a: A \" as E3  <<(T,blue) attribute>> [[psysml:080a965c-bda9-42ef-b0e7-dadea2c4de7a ]] {\r\n",
       "}\r\n",
       "rec def \"F\" as E4  <<(T,blue) calculation  def>> [[psysml:87bb354b-94c0-403b-b7cb-102c1c7ef37a ]] {\r\n",
       "portin \"p\" as E5  [[psysml:16f7e9d3-43d0-4287-8a70-cbe1c91459d8 ]] \r\n",
       "portin \"q\" as E6  [[psysml:b2699d44-082f-48d9-8fe4-b2b87d72af88 ]] \r\n",
       "portout \"result\" as E7  [[psysml:efe4aa1f-bd0b-42c7-877f-48fcbd913317 ]] \r\n",
       "}\r\n",
       "\r\n",
       "comp usage \"f\" as E8  <<(T,blue) attribute>> [[psysml:a95297bf-d64f-43ac-86b7-f9f55eba203a ]] {\r\n",
       "}\r\n",
       "comp usage \"g\" as E9  <<(T,blue) attribute>> [[psysml:778a48ec-a539-4294-8634-0d41b068db9f ]] {\r\n",
       "}\r\n",
       "comp usage \"b\" as E10  <<(T,blue) attribute>> [[psysml:178fd1be-66b7-4b93-9f69-0783143b2542 ]] {\r\n",
       "}\r\n",
       "comp usage \"c\" as E11  <<(T,blue) attribute>> [[psysml:ce14b558-47dc-4a37-8f10-4afbd6cf7826 ]] {\r\n",
       "}\r\n",
       "}\r\n",
       "E3 - -:|> E2 [[psysml:f36357d4-9dbb-46b9-9535-0d41e0b85630 ]] \r\n",
       "@enduml\r\n",
       "\n",
       "PlantUML version 1.2020.13(Sat Jun 13 12:26:38 UTC 2020)\n",
       "(EPL source distribution)\n",
       "Java Runtime: OpenJDK Runtime Environment\n",
       "JVM: OpenJDK 64-Bit Server VM\n",
       "Default Encoding: UTF-8\n",
       "Language: en\n",
       "Country: null\n",
       "--></g></svg>"
      ]
     },
     "execution_count": 29,
     "metadata": {},
     "output_type": "execute_result"
    }
   ],
   "source": [
    "%viz --style=\"STDCOLOR\" --view=\"MIXED\" \"ParameterTest\""
   ]
  },
  {
   "cell_type": "code",
   "execution_count": 30,
   "id": "13e19728",
   "metadata": {
    "execution": {
     "iopub.execute_input": "2021-11-13T12:59:16.227790Z",
     "iopub.status.busy": "2021-11-13T12:59:16.227380Z",
     "iopub.status.idle": "2021-11-13T12:59:16.304472Z",
     "shell.execute_reply": "2021-11-13T12:59:16.304111Z"
    }
   },
   "outputs": [
    {
     "data": {
      "image/svg+xml": [
       "<?xml version=\"1.0\" encoding=\"UTF-8\" standalone=\"no\"?><svg xmlns=\"http://www.w3.org/2000/svg\" xmlns:xlink=\"http://www.w3.org/1999/xlink\" contentScriptType=\"application/ecmascript\" contentStyleType=\"text/css\" height=\"403px\" preserveAspectRatio=\"none\" style=\"width:872px;height:403px;\" version=\"1.1\" viewBox=\"0 0 872 403\" width=\"872px\" zoomAndPan=\"magnify\"><defs><filter height=\"300%\" id=\"f1lnuxzq3n5xtb\" width=\"300%\" x=\"-1\" y=\"-1\"><feGaussianBlur result=\"blurOut\" stdDeviation=\"2.0\"/><feColorMatrix in=\"blurOut\" result=\"blurOut2\" type=\"matrix\" values=\"0 0 0 0 0 0 0 0 0 0 0 0 0 0 0 0 0 0 .4 0\"/><feOffset dx=\"4.0\" dy=\"4.0\" in=\"blurOut2\" result=\"blurOut3\"/><feBlend in=\"SourceGraphic\" in2=\"blurOut3\" mode=\"normal\"/></filter></defs><g><!--MD5=[fbc87193dbaf4d95561dea2c320d4a47]\n",
       "cluster E1--><a href=\"psysml:19b06251-fe6f-4e99-9afa-d6889eb7a18f\" target=\"_top\" title=\"psysml:19b06251-fe6f-4e99-9afa-d6889eb7a18f\" xlink:actuate=\"onRequest\" xlink:href=\"psysml:19b06251-fe6f-4e99-9afa-d6889eb7a18f\" xlink:show=\"new\" xlink:title=\"psysml:19b06251-fe6f-4e99-9afa-d6889eb7a18f\" xlink:type=\"simple\"><polygon fill=\"#FFFFFF\" filter=\"url(#f1lnuxzq3n5xtb)\" points=\"16,6,124,6,131,28.2969,850,28.2969,850,391.72,16,391.72,16,6\" style=\"stroke: #000000; stroke-width: 1.5;\"/><line style=\"stroke: #000000; stroke-width: 1.5;\" x1=\"16\" x2=\"131\" y1=\"28.2969\" y2=\"28.2969\"/><text fill=\"#000000\" font-family=\"sans-serif\" font-size=\"14\" font-weight=\"bold\" lengthAdjust=\"spacingAndGlyphs\" textLength=\"102\" x=\"20\" y=\"20.9951\">ParameterTest</text></a><!--MD5=[f6df4d0ebaf0b5dfb2ced0ae5af7c670]\n",
       "cluster E4--><a href=\"psysml:87bb354b-94c0-403b-b7cb-102c1c7ef37a\" target=\"_top\" title=\"psysml:87bb354b-94c0-403b-b7cb-102c1c7ef37a\" xlink:actuate=\"onRequest\" xlink:href=\"psysml:87bb354b-94c0-403b-b7cb-102c1c7ef37a\" xlink:show=\"new\" xlink:title=\"psysml:87bb354b-94c0-403b-b7cb-102c1c7ef37a\" xlink:type=\"simple\"><rect fill=\"#FFFFFF\" filter=\"url(#f1lnuxzq3n5xtb)\" height=\"297.72\" id=\"E4\" style=\"stroke: #A80036; stroke-width: 1.5;\" width=\"150\" x=\"684\" y=\"64\"/><rect fill=\"#FEFECE\" height=\"37.9375\" style=\"stroke: #A80036; stroke-width: 1.5;\" width=\"150\" x=\"684\" y=\"64\"/><text fill=\"#000000\" font-family=\"sans-serif\" font-size=\"12\" font-style=\"italic\" lengthAdjust=\"spacingAndGlyphs\" textLength=\"110\" x=\"704\" y=\"80.1387\">«calculation  def»</text><text fill=\"#000000\" font-family=\"sans-serif\" font-size=\"12\" lengthAdjust=\"spacingAndGlyphs\" textLength=\"7\" x=\"755.5\" y=\"94.1074\">F</text></a><!--MD5=[b4997ac47864f28c2f74865a473b2911]\n",
       "class E2--><a href=\"psysml:a687f627-404e-4522-a6e9-e30e4b3087b4\" target=\"_top\" title=\"psysml:a687f627-404e-4522-a6e9-e30e4b3087b4\" xlink:actuate=\"onRequest\" xlink:href=\"psysml:a687f627-404e-4522-a6e9-e30e4b3087b4\" xlink:show=\"new\" xlink:title=\"psysml:a687f627-404e-4522-a6e9-e30e4b3087b4\" xlink:type=\"simple\"><rect fill=\"#FEFECE\" filter=\"url(#f1lnuxzq3n5xtb)\" height=\"88.3516\" id=\"E2\" style=\"stroke: #A80036; stroke-width: 1.5;\" width=\"125\" x=\"520.5\" y=\"147\"/><ellipse cx=\"535.5\" cy=\"165.9688\" fill=\"#A52A2A\" rx=\"11\" ry=\"11\" style=\"stroke: #A80036; stroke-width: 1.0;\"/><path d=\"M532.7188,170.9688 L532.7188,160.375 L535.4531,160.375 Q536.8438,160.375 537.6094,160.7656 Q538.3906,161.1406 538.9219,161.8438 Q539.4531,162.5469 539.75,163.5469 Q540.0469,164.5313 540.0469,165.75 Q540,167.3438 539.5,168.5313 Q539.0156,169.7031 537.9688,170.3438 Q536.9375,170.9688 535.25,170.9688 L532.7188,170.9688 Z M534.5781,169.4688 L535.2031,169.4688 Q536.2813,169.4688 536.9375,169.0156 Q537.5938,168.5625 537.875,167.7344 Q538.1719,166.8906 538.1563,165.7656 Q538.1563,164.5938 537.9063,163.7344 Q537.6563,162.8594 537.0469,162.3906 Q536.4375,161.9063 535.3906,161.9063 L534.5781,161.9063 L534.5781,169.4688 Z \"/><text fill=\"#000000\" font-family=\"sans-serif\" font-size=\"12\" font-style=\"italic\" lengthAdjust=\"spacingAndGlyphs\" textLength=\"97\" x=\"547.5\" y=\"163.1387\">«attribute  def»</text><text fill=\"#000000\" font-family=\"sans-serif\" font-size=\"12\" lengthAdjust=\"spacingAndGlyphs\" textLength=\"8\" x=\"592\" y=\"177.1074\">A</text><line style=\"stroke: #A80036; stroke-width: 1.5;\" x1=\"521.5\" x2=\"644.5\" y1=\"184.9375\" y2=\"184.9375\"/><text fill=\"#000000\" font-family=\"sans-serif\" font-size=\"11\" lengthAdjust=\"spacingAndGlyphs\" textLength=\"48\" x=\"526.5\" y=\"215.9526\">x: String</text><text fill=\"#000000\" font-family=\"sans-serif\" font-size=\"11\" lengthAdjust=\"spacingAndGlyphs\" textLength=\"21\" x=\"526.5\" y=\"228.7573\">y: A</text><line style=\"stroke: #A80036; stroke-width: 1.0;\" x1=\"521.5\" x2=\"555.5\" y1=\"199.3398\" y2=\"199.3398\"/><text fill=\"#000000\" font-family=\"sans-serif\" font-size=\"11\" lengthAdjust=\"spacingAndGlyphs\" textLength=\"55\" x=\"555.5\" y=\"202.6479\">attributes</text><line style=\"stroke: #A80036; stroke-width: 1.0;\" x1=\"610.5\" x2=\"644.5\" y1=\"199.3398\" y2=\"199.3398\"/></a><!--MD5=[09b614a08d8cba4a07c9adeb5e0fee81]\n",
       "class E3--><a href=\"psysml:080a965c-bda9-42ef-b0e7-dadea2c4de7a\" target=\"_top\" title=\"psysml:080a965c-bda9-42ef-b0e7-dadea2c4de7a\" xlink:actuate=\"onRequest\" xlink:href=\"psysml:080a965c-bda9-42ef-b0e7-dadea2c4de7a\" xlink:show=\"new\" xlink:title=\"psysml:080a965c-bda9-42ef-b0e7-dadea2c4de7a\" xlink:type=\"simple\"><rect fill=\"#FEFECE\" filter=\"url(#f1lnuxzq3n5xtb)\" height=\"45.9375\" id=\"E3\" rx=\"10\" ry=\"10\" style=\"stroke: #A80036; stroke-width: 1.5;\" width=\"97\" x=\"559.5\" y=\"41\"/><ellipse cx=\"574.5\" cy=\"59.9688\" fill=\"#FFA500\" rx=\"11\" ry=\"11\" style=\"stroke: #A80036; stroke-width: 1.0;\"/><path d=\"M574.25,65.4375 Q572.5,65.4375 571.5469,64.4063 Q570.6094,63.3594 570.6094,61.5156 L570.6094,54.625 L572.6719,54.625 L572.6719,54.7813 Q572.5781,54.875 572.5469,55.0156 Q572.5313,55.1406 572.5313,55.4063 L572.5313,61.5313 Q572.5313,62.625 572.9063,63.25 Q573.2813,63.875 574.2656,63.875 Q575.25,63.875 575.6406,63.25 Q576.0313,62.625 576.0313,61.4844 L576.0313,54.625 L577.9063,54.625 L577.9063,61.4688 Q577.9063,63.5 576.875,64.4688 Q575.8594,65.4375 574.25,65.4375 Z \"/><text fill=\"#000000\" font-family=\"sans-serif\" font-size=\"12\" font-style=\"italic\" lengthAdjust=\"spacingAndGlyphs\" textLength=\"69\" x=\"586.5\" y=\"57.1387\">«attribute»</text><text fill=\"#000000\" font-family=\"sans-serif\" font-size=\"12\" lengthAdjust=\"spacingAndGlyphs\" textLength=\"24\" x=\"607\" y=\"71.1074\">a: A</text><line style=\"stroke: #A80036; stroke-width: 1.5;\" x1=\"560.5\" x2=\"655.5\" y1=\"78.9375\" y2=\"78.9375\"/></a><!--MD5=[b9389687b975829384b498ac4b7476b2]\n",
       "class E8--><a href=\"psysml:a95297bf-d64f-43ac-86b7-f9f55eba203a\" target=\"_top\" title=\"psysml:a95297bf-d64f-43ac-86b7-f9f55eba203a\" xlink:actuate=\"onRequest\" xlink:href=\"psysml:a95297bf-d64f-43ac-86b7-f9f55eba203a\" xlink:show=\"new\" xlink:title=\"psysml:a95297bf-d64f-43ac-86b7-f9f55eba203a\" xlink:type=\"simple\"><rect fill=\"#FEFECE\" filter=\"url(#f1lnuxzq3n5xtb)\" height=\"45.9375\" id=\"E8\" rx=\"10\" ry=\"10\" style=\"stroke: #A80036; stroke-width: 1.5;\" width=\"97\" x=\"427.5\" y=\"41\"/><ellipse cx=\"442.5\" cy=\"59.9688\" fill=\"#FFA500\" rx=\"11\" ry=\"11\" style=\"stroke: #A80036; stroke-width: 1.0;\"/><path d=\"M442.25,65.4375 Q440.5,65.4375 439.5469,64.4063 Q438.6094,63.3594 438.6094,61.5156 L438.6094,54.625 L440.6719,54.625 L440.6719,54.7813 Q440.5781,54.875 440.5469,55.0156 Q440.5313,55.1406 440.5313,55.4063 L440.5313,61.5313 Q440.5313,62.625 440.9063,63.25 Q441.2813,63.875 442.2656,63.875 Q443.25,63.875 443.6406,63.25 Q444.0313,62.625 444.0313,61.4844 L444.0313,54.625 L445.9063,54.625 L445.9063,61.4688 Q445.9063,63.5 444.875,64.4688 Q443.8594,65.4375 442.25,65.4375 Z \"/><text fill=\"#000000\" font-family=\"sans-serif\" font-size=\"12\" font-style=\"italic\" lengthAdjust=\"spacingAndGlyphs\" textLength=\"69\" x=\"454.5\" y=\"57.1387\">«attribute»</text><text fill=\"#000000\" font-family=\"sans-serif\" font-size=\"12\" lengthAdjust=\"spacingAndGlyphs\" textLength=\"4\" x=\"487\" y=\"71.1074\">f</text><line style=\"stroke: #A80036; stroke-width: 1.5;\" x1=\"428.5\" x2=\"523.5\" y1=\"78.9375\" y2=\"78.9375\"/></a><!--MD5=[fd4143e9d270a159db93a4ea2a975926]\n",
       "class E9--><a href=\"psysml:778a48ec-a539-4294-8634-0d41b068db9f\" target=\"_top\" title=\"psysml:778a48ec-a539-4294-8634-0d41b068db9f\" xlink:actuate=\"onRequest\" xlink:href=\"psysml:778a48ec-a539-4294-8634-0d41b068db9f\" xlink:show=\"new\" xlink:title=\"psysml:778a48ec-a539-4294-8634-0d41b068db9f\" xlink:type=\"simple\"><rect fill=\"#FEFECE\" filter=\"url(#f1lnuxzq3n5xtb)\" height=\"45.9375\" id=\"E9\" rx=\"10\" ry=\"10\" style=\"stroke: #A80036; stroke-width: 1.5;\" width=\"97\" x=\"295.5\" y=\"41\"/><ellipse cx=\"310.5\" cy=\"59.9688\" fill=\"#FFA500\" rx=\"11\" ry=\"11\" style=\"stroke: #A80036; stroke-width: 1.0;\"/><path d=\"M310.25,65.4375 Q308.5,65.4375 307.5469,64.4063 Q306.6094,63.3594 306.6094,61.5156 L306.6094,54.625 L308.6719,54.625 L308.6719,54.7813 Q308.5781,54.875 308.5469,55.0156 Q308.5313,55.1406 308.5313,55.4063 L308.5313,61.5313 Q308.5313,62.625 308.9063,63.25 Q309.2813,63.875 310.2656,63.875 Q311.25,63.875 311.6406,63.25 Q312.0313,62.625 312.0313,61.4844 L312.0313,54.625 L313.9063,54.625 L313.9063,61.4688 Q313.9063,63.5 312.875,64.4688 Q311.8594,65.4375 310.25,65.4375 Z \"/><text fill=\"#000000\" font-family=\"sans-serif\" font-size=\"12\" font-style=\"italic\" lengthAdjust=\"spacingAndGlyphs\" textLength=\"69\" x=\"322.5\" y=\"57.1387\">«attribute»</text><text fill=\"#000000\" font-family=\"sans-serif\" font-size=\"12\" lengthAdjust=\"spacingAndGlyphs\" textLength=\"8\" x=\"353\" y=\"71.1074\">g</text><line style=\"stroke: #A80036; stroke-width: 1.5;\" x1=\"296.5\" x2=\"391.5\" y1=\"78.9375\" y2=\"78.9375\"/></a><!--MD5=[96f4274e9e20536e775497830990834d]\n",
       "class E10--><a href=\"psysml:178fd1be-66b7-4b93-9f69-0783143b2542\" target=\"_top\" title=\"psysml:178fd1be-66b7-4b93-9f69-0783143b2542\" xlink:actuate=\"onRequest\" xlink:href=\"psysml:178fd1be-66b7-4b93-9f69-0783143b2542\" xlink:show=\"new\" xlink:title=\"psysml:178fd1be-66b7-4b93-9f69-0783143b2542\" xlink:type=\"simple\"><rect fill=\"#FEFECE\" filter=\"url(#f1lnuxzq3n5xtb)\" height=\"45.9375\" id=\"E10\" rx=\"10\" ry=\"10\" style=\"stroke: #A80036; stroke-width: 1.5;\" width=\"97\" x=\"163.5\" y=\"41\"/><ellipse cx=\"178.5\" cy=\"59.9688\" fill=\"#FFA500\" rx=\"11\" ry=\"11\" style=\"stroke: #A80036; stroke-width: 1.0;\"/><path d=\"M178.25,65.4375 Q176.5,65.4375 175.5469,64.4063 Q174.6094,63.3594 174.6094,61.5156 L174.6094,54.625 L176.6719,54.625 L176.6719,54.7813 Q176.5781,54.875 176.5469,55.0156 Q176.5313,55.1406 176.5313,55.4063 L176.5313,61.5313 Q176.5313,62.625 176.9063,63.25 Q177.2813,63.875 178.2656,63.875 Q179.25,63.875 179.6406,63.25 Q180.0313,62.625 180.0313,61.4844 L180.0313,54.625 L181.9063,54.625 L181.9063,61.4688 Q181.9063,63.5 180.875,64.4688 Q179.8594,65.4375 178.25,65.4375 Z \"/><text fill=\"#000000\" font-family=\"sans-serif\" font-size=\"12\" font-style=\"italic\" lengthAdjust=\"spacingAndGlyphs\" textLength=\"69\" x=\"190.5\" y=\"57.1387\">«attribute»</text><text fill=\"#000000\" font-family=\"sans-serif\" font-size=\"12\" lengthAdjust=\"spacingAndGlyphs\" textLength=\"8\" x=\"221\" y=\"71.1074\">b</text><line style=\"stroke: #A80036; stroke-width: 1.5;\" x1=\"164.5\" x2=\"259.5\" y1=\"78.9375\" y2=\"78.9375\"/></a><!--MD5=[1dd1bfd58a279cf63c5f349dbc8fc6a1]\n",
       "class E11--><a href=\"psysml:ce14b558-47dc-4a37-8f10-4afbd6cf7826\" target=\"_top\" title=\"psysml:ce14b558-47dc-4a37-8f10-4afbd6cf7826\" xlink:actuate=\"onRequest\" xlink:href=\"psysml:ce14b558-47dc-4a37-8f10-4afbd6cf7826\" xlink:show=\"new\" xlink:title=\"psysml:ce14b558-47dc-4a37-8f10-4afbd6cf7826\" xlink:type=\"simple\"><rect fill=\"#FEFECE\" filter=\"url(#f1lnuxzq3n5xtb)\" height=\"45.9375\" id=\"E11\" rx=\"10\" ry=\"10\" style=\"stroke: #A80036; stroke-width: 1.5;\" width=\"97\" x=\"31.5\" y=\"41\"/><ellipse cx=\"46.5\" cy=\"59.9688\" fill=\"#FFA500\" rx=\"11\" ry=\"11\" style=\"stroke: #A80036; stroke-width: 1.0;\"/><path d=\"M46.25,65.4375 Q44.5,65.4375 43.5469,64.4063 Q42.6094,63.3594 42.6094,61.5156 L42.6094,54.625 L44.6719,54.625 L44.6719,54.7813 Q44.5781,54.875 44.5469,55.0156 Q44.5313,55.1406 44.5313,55.4063 L44.5313,61.5313 Q44.5313,62.625 44.9063,63.25 Q45.2813,63.875 46.2656,63.875 Q47.25,63.875 47.6406,63.25 Q48.0313,62.625 48.0313,61.4844 L48.0313,54.625 L49.9063,54.625 L49.9063,61.4688 Q49.9063,63.5 48.875,64.4688 Q47.8594,65.4375 46.25,65.4375 Z \"/><text fill=\"#000000\" font-family=\"sans-serif\" font-size=\"12\" font-style=\"italic\" lengthAdjust=\"spacingAndGlyphs\" textLength=\"69\" x=\"58.5\" y=\"57.1387\">«attribute»</text><text fill=\"#000000\" font-family=\"sans-serif\" font-size=\"12\" lengthAdjust=\"spacingAndGlyphs\" textLength=\"7\" x=\"89.5\" y=\"71.1074\">c</text><line style=\"stroke: #A80036; stroke-width: 1.5;\" x1=\"32.5\" x2=\"127.5\" y1=\"78.9375\" y2=\"78.9375\"/></a><text fill=\"#000000\" font-family=\"sans-serif\" font-size=\"14\" lengthAdjust=\"spacingAndGlyphs\" textLength=\"9\" x=\"697.5\" y=\"42.6982\">p</text><rect fill=\"#A80036\" height=\"12\" style=\"stroke: #FEFECE; stroke-width: 1.5;\" width=\"12\" x=\"696\" y=\"58\"/><text fill=\"#000000\" font-family=\"sans-serif\" font-size=\"14\" lengthAdjust=\"spacingAndGlyphs\" textLength=\"9\" x=\"744.5\" y=\"42.6982\">q</text><rect fill=\"#A80036\" height=\"12\" style=\"stroke: #FEFECE; stroke-width: 1.5;\" width=\"12\" x=\"743\" y=\"58\"/><text fill=\"#000000\" font-family=\"sans-serif\" font-size=\"14\" lengthAdjust=\"spacingAndGlyphs\" textLength=\"39\" x=\"729.5\" y=\"380.7151\">result</text><rect fill=\"#A80036\" height=\"12\" style=\"stroke: #FEFECE; stroke-width: 1.5;\" width=\"12\" x=\"743\" y=\"355.72\"/><!--MD5=[05d275557350bfb9b23a4ef7222b4c39]\n",
       "link E3 to E2--><a href=\"psysml:f36357d4-9dbb-46b9-9535-0d41e0b85630\" target=\"_top\" title=\"psysml:f36357d4-9dbb-46b9-9535-0d41e0b85630\" xlink:actuate=\"onRequest\" xlink:href=\"psysml:f36357d4-9dbb-46b9-9535-0d41e0b85630\" xlink:show=\"new\" xlink:title=\"psysml:f36357d4-9dbb-46b9-9535-0d41e0b85630\" xlink:type=\"simple\"><path d=\"M603.59,87.06 C601.34,98.3 598.48,112.6 595.61,126.95 \" fill=\"none\" id=\"E3-&gt;E2\" style=\"stroke: #A80036; stroke-width: 1.0;\"/><polygon fill=\"#FFFFFF\" points=\"591.61,146.93,588.4637,126.9275,602.193,129.6673,591.61,146.93\" style=\"stroke: #A80036; stroke-width: 1.0;\"/><ellipse cx=\"591.5406\" cy=\"121.7291\" fill=\"#A80036\" rx=\"2\" ry=\"2\" style=\"stroke: #A80036; stroke-width: 1.0;\"/><ellipse cx=\"601.3472\" cy=\"123.6861\" fill=\"#A80036\" rx=\"2\" ry=\"2\" style=\"stroke: #A80036; stroke-width: 1.0;\"/></a><!--MD5=[3c1aa05e3a2a55b19a0acf605845495f]\n",
       "@startuml\r\n",
       " \r\n",
       "package \"ParameterTest\" as E1  [[psysml:19b06251-fe6f-4e99-9afa-d6889eb7a18f ]]  {\r\n",
       "comp def \"A\" as E2 << <<(D,brown) attribute  def>> [[psysml:a687f627-404e-4522-a6e9-e30e4b3087b4 ]] {\r\n",
       "- - attributes - -\r\n",
       "x: String\r\n",
       "y: A\r\n",
       "}\r\n",
       "comp usage \"a: A \" as E3 << <<(U,orange) attribute>> [[psysml:080a965c-bda9-42ef-b0e7-dadea2c4de7a ]] {\r\n",
       "}\r\n",
       "rec def \"F\" as E4 << <<(B,lemonchiffon) calculation  def>> [[psysml:87bb354b-94c0-403b-b7cb-102c1c7ef37a ]] {\r\n",
       "portin \"p\" as E5  [[psysml:16f7e9d3-43d0-4287-8a70-cbe1c91459d8 ]] \r\n",
       "portin \"q\" as E6  [[psysml:b2699d44-082f-48d9-8fe4-b2b87d72af88 ]] \r\n",
       "portout \"result\" as E7  [[psysml:efe4aa1f-bd0b-42c7-877f-48fcbd913317 ]] \r\n",
       "}\r\n",
       "\r\n",
       "comp usage \"f\" as E8 << <<(U,orange) attribute>> [[psysml:a95297bf-d64f-43ac-86b7-f9f55eba203a ]] {\r\n",
       "}\r\n",
       "comp usage \"g\" as E9 << <<(U,orange) attribute>> [[psysml:778a48ec-a539-4294-8634-0d41b068db9f ]] {\r\n",
       "}\r\n",
       "comp usage \"b\" as E10 << <<(U,orange) attribute>> [[psysml:178fd1be-66b7-4b93-9f69-0783143b2542 ]] {\r\n",
       "}\r\n",
       "comp usage \"c\" as E11 << <<(U,orange) attribute>> [[psysml:ce14b558-47dc-4a37-8f10-4afbd6cf7826 ]] {\r\n",
       "}\r\n",
       "}\r\n",
       "E3 - -:|> E2 [[psysml:f36357d4-9dbb-46b9-9535-0d41e0b85630 ]] \r\n",
       "@enduml\r\n",
       "\n",
       "PlantUML version 1.2020.13(Sat Jun 13 12:26:38 UTC 2020)\n",
       "(EPL source distribution)\n",
       "Java Runtime: OpenJDK Runtime Environment\n",
       "JVM: OpenJDK 64-Bit Server VM\n",
       "Default Encoding: UTF-8\n",
       "Language: en\n",
       "Country: null\n",
       "--></g></svg>"
      ]
     },
     "execution_count": 30,
     "metadata": {},
     "output_type": "execute_result"
    }
   ],
   "source": [
    "%viz --style=\"PLANTUML\" --view=\"Default\" \"ParameterTest\""
   ]
  },
  {
   "cell_type": "code",
   "execution_count": 31,
   "id": "74a9abd5",
   "metadata": {
    "execution": {
     "iopub.execute_input": "2021-11-13T12:59:16.353559Z",
     "iopub.status.busy": "2021-11-13T12:59:16.353146Z",
     "iopub.status.idle": "2021-11-13T12:59:16.432541Z",
     "shell.execute_reply": "2021-11-13T12:59:16.432195Z"
    }
   },
   "outputs": [
    {
     "data": {
      "image/svg+xml": [
       "<?xml version=\"1.0\" encoding=\"UTF-8\" standalone=\"no\"?><svg xmlns=\"http://www.w3.org/2000/svg\" xmlns:xlink=\"http://www.w3.org/1999/xlink\" contentScriptType=\"application/ecmascript\" contentStyleType=\"text/css\" height=\"322px\" preserveAspectRatio=\"none\" style=\"width:868px;height:322px;\" version=\"1.1\" viewBox=\"0 0 868 322\" width=\"868px\" zoomAndPan=\"magnify\"><defs><filter height=\"300%\" id=\"f1r95qu5rf9ak7\" width=\"300%\" x=\"-1\" y=\"-1\"><feGaussianBlur result=\"blurOut\" stdDeviation=\"2.0\"/><feColorMatrix in=\"blurOut\" result=\"blurOut2\" type=\"matrix\" values=\"0 0 0 0 0 0 0 0 0 0 0 0 0 0 0 0 0 0 .4 0\"/><feOffset dx=\"4.0\" dy=\"4.0\" in=\"blurOut2\" result=\"blurOut3\"/><feBlend in=\"SourceGraphic\" in2=\"blurOut3\" mode=\"normal\"/></filter></defs><g><!--MD5=[fbc87193dbaf4d95561dea2c320d4a47]\n",
       "cluster E1--><a href=\"psysml:19b06251-fe6f-4e99-9afa-d6889eb7a18f\" target=\"_top\" title=\"psysml:19b06251-fe6f-4e99-9afa-d6889eb7a18f\" xlink:actuate=\"onRequest\" xlink:href=\"psysml:19b06251-fe6f-4e99-9afa-d6889eb7a18f\" xlink:show=\"new\" xlink:title=\"psysml:19b06251-fe6f-4e99-9afa-d6889eb7a18f\" xlink:type=\"simple\"><polygon fill=\"#FFFFFF\" filter=\"url(#f1r95qu5rf9ak7)\" points=\"16,6,124,6,131,28.2969,846,28.2969,846,310,16,310,16,6\" style=\"stroke: #000000; stroke-width: 1.5;\"/><line style=\"stroke: #000000; stroke-width: 1.5;\" x1=\"16\" x2=\"131\" y1=\"28.2969\" y2=\"28.2969\"/><text fill=\"#000000\" font-family=\"sans-serif\" font-size=\"14\" font-weight=\"bold\" lengthAdjust=\"spacingAndGlyphs\" textLength=\"102\" x=\"20\" y=\"20.9951\">ParameterTest</text></a><!--MD5=[b4997ac47864f28c2f74865a473b2911]\n",
       "class E2--><a href=\"psysml:a687f627-404e-4522-a6e9-e30e4b3087b4\" target=\"_top\" title=\"psysml:a687f627-404e-4522-a6e9-e30e4b3087b4\" xlink:actuate=\"onRequest\" xlink:href=\"psysml:a687f627-404e-4522-a6e9-e30e4b3087b4\" xlink:show=\"new\" xlink:title=\"psysml:a687f627-404e-4522-a6e9-e30e4b3087b4\" xlink:type=\"simple\"><rect fill=\"#FEFECE\" filter=\"url(#f1r95qu5rf9ak7)\" height=\"88.3516\" id=\"E2\" style=\"stroke: #A80036; stroke-width: 1.5;\" width=\"125\" x=\"616.5\" y=\"206\"/><ellipse cx=\"631.5\" cy=\"224.9688\" fill=\"#A52A2A\" rx=\"11\" ry=\"11\" style=\"stroke: #A80036; stroke-width: 1.0;\"/><path d=\"M628.7188,229.9688 L628.7188,219.375 L631.4531,219.375 Q632.8438,219.375 633.6094,219.7656 Q634.3906,220.1406 634.9219,220.8438 Q635.4531,221.5469 635.75,222.5469 Q636.0469,223.5313 636.0469,224.75 Q636,226.3438 635.5,227.5313 Q635.0156,228.7031 633.9688,229.3438 Q632.9375,229.9688 631.25,229.9688 L628.7188,229.9688 Z M630.5781,228.4688 L631.2031,228.4688 Q632.2813,228.4688 632.9375,228.0156 Q633.5938,227.5625 633.875,226.7344 Q634.1719,225.8906 634.1563,224.7656 Q634.1563,223.5938 633.9063,222.7344 Q633.6563,221.8594 633.0469,221.3906 Q632.4375,220.9063 631.3906,220.9063 L630.5781,220.9063 L630.5781,228.4688 Z \"/><text fill=\"#000000\" font-family=\"sans-serif\" font-size=\"12\" font-style=\"italic\" lengthAdjust=\"spacingAndGlyphs\" textLength=\"97\" x=\"643.5\" y=\"222.1387\">«attribute  def»</text><text fill=\"#000000\" font-family=\"sans-serif\" font-size=\"12\" lengthAdjust=\"spacingAndGlyphs\" textLength=\"8\" x=\"688\" y=\"236.1074\">A</text><line style=\"stroke: #A80036; stroke-width: 1.5;\" x1=\"617.5\" x2=\"740.5\" y1=\"243.9375\" y2=\"243.9375\"/><text fill=\"#000000\" font-family=\"sans-serif\" font-size=\"11\" lengthAdjust=\"spacingAndGlyphs\" textLength=\"48\" x=\"622.5\" y=\"274.9526\">x: String</text><text fill=\"#000000\" font-family=\"sans-serif\" font-size=\"11\" lengthAdjust=\"spacingAndGlyphs\" textLength=\"21\" x=\"622.5\" y=\"287.7573\">y: A</text><line style=\"stroke: #A80036; stroke-width: 1.0;\" x1=\"617.5\" x2=\"651.5\" y1=\"258.3398\" y2=\"258.3398\"/><text fill=\"#000000\" font-family=\"sans-serif\" font-size=\"11\" lengthAdjust=\"spacingAndGlyphs\" textLength=\"55\" x=\"651.5\" y=\"261.6479\">attributes</text><line style=\"stroke: #A80036; stroke-width: 1.0;\" x1=\"706.5\" x2=\"740.5\" y1=\"258.3398\" y2=\"258.3398\"/></a><!--MD5=[09b614a08d8cba4a07c9adeb5e0fee81]\n",
       "class E3--><a href=\"psysml:080a965c-bda9-42ef-b0e7-dadea2c4de7a\" target=\"_top\" title=\"psysml:080a965c-bda9-42ef-b0e7-dadea2c4de7a\" xlink:actuate=\"onRequest\" xlink:href=\"psysml:080a965c-bda9-42ef-b0e7-dadea2c4de7a\" xlink:show=\"new\" xlink:title=\"psysml:080a965c-bda9-42ef-b0e7-dadea2c4de7a\" xlink:type=\"simple\"><rect fill=\"#FEFECE\" filter=\"url(#f1r95qu5rf9ak7)\" height=\"45.9375\" id=\"E3\" rx=\"10\" ry=\"10\" style=\"stroke: #A80036; stroke-width: 1.5;\" width=\"97\" x=\"733.5\" y=\"62\"/><ellipse cx=\"748.5\" cy=\"80.9688\" fill=\"#FFA500\" rx=\"11\" ry=\"11\" style=\"stroke: #A80036; stroke-width: 1.0;\"/><path d=\"M748.25,86.4375 Q746.5,86.4375 745.5469,85.4063 Q744.6094,84.3594 744.6094,82.5156 L744.6094,75.625 L746.6719,75.625 L746.6719,75.7813 Q746.5781,75.875 746.5469,76.0156 Q746.5313,76.1406 746.5313,76.4063 L746.5313,82.5313 Q746.5313,83.625 746.9063,84.25 Q747.2813,84.875 748.2656,84.875 Q749.25,84.875 749.6406,84.25 Q750.0313,83.625 750.0313,82.4844 L750.0313,75.625 L751.9063,75.625 L751.9063,82.4688 Q751.9063,84.5 750.875,85.4688 Q749.8594,86.4375 748.25,86.4375 Z \"/><text fill=\"#000000\" font-family=\"sans-serif\" font-size=\"12\" font-style=\"italic\" lengthAdjust=\"spacingAndGlyphs\" textLength=\"69\" x=\"760.5\" y=\"78.1387\">«attribute»</text><text fill=\"#000000\" font-family=\"sans-serif\" font-size=\"12\" lengthAdjust=\"spacingAndGlyphs\" textLength=\"24\" x=\"781\" y=\"92.1074\">a: A</text><line style=\"stroke: #A80036; stroke-width: 1.5;\" x1=\"734.5\" x2=\"829.5\" y1=\"99.9375\" y2=\"99.9375\"/></a><!--MD5=[ebbe1d658d1005bcc118a6aa81145e00]\n",
       "class E4--><a href=\"psysml:87bb354b-94c0-403b-b7cb-102c1c7ef37a\" target=\"_top\" title=\"psysml:87bb354b-94c0-403b-b7cb-102c1c7ef37a\" xlink:actuate=\"onRequest\" xlink:href=\"psysml:87bb354b-94c0-403b-b7cb-102c1c7ef37a\" xlink:show=\"new\" xlink:title=\"psysml:87bb354b-94c0-403b-b7cb-102c1c7ef37a\" xlink:type=\"simple\"><rect fill=\"#FEFECE\" filter=\"url(#f1r95qu5rf9ak7)\" height=\"88.3516\" id=\"E4\" style=\"stroke: #A80036; stroke-width: 1.5;\" width=\"138\" x=\"560\" y=\"41\"/><ellipse cx=\"575\" cy=\"59.9688\" fill=\"#FFFACD\" rx=\"11\" ry=\"11\" style=\"stroke: #A80036; stroke-width: 1.0;\"/><path d=\"M571.875,64.9688 L571.875,54.375 L575.1094,54.375 Q577.0156,54.375 577.9219,55.125 Q578.8438,55.875 578.8438,57.0469 Q578.8438,57.7344 578.4531,58.3906 Q578.0781,59.0469 577.3594,59.3438 Q578.2188,59.7188 578.7344,60.4063 Q579.25,61.0938 579.25,61.9063 Q579.25,63.2813 578.2188,64.125 Q577.2031,64.9688 575.0938,64.9688 L571.875,64.9688 Z M573.7969,58.6094 L574.9531,58.6094 Q576.0781,58.6094 576.4844,58.2344 Q576.9063,57.8438 576.9063,57.2188 Q576.9063,56.6406 576.4844,56.2813 Q576.0625,55.9219 575.125,55.9219 L573.7969,55.9219 L573.7969,58.6094 Z M573.7969,63.3906 L575.2969,63.3906 Q576.2031,63.3906 576.7344,63 Q577.2656,62.6094 577.2656,61.8594 Q577.2656,61.0938 576.7656,60.625 Q576.2656,60.1406 575,60.1406 L573.7969,60.1406 L573.7969,63.3906 Z \"/><text fill=\"#000000\" font-family=\"sans-serif\" font-size=\"12\" font-style=\"italic\" lengthAdjust=\"spacingAndGlyphs\" textLength=\"110\" x=\"587\" y=\"57.1387\">«calculation  def»</text><text fill=\"#000000\" font-family=\"sans-serif\" font-size=\"12\" lengthAdjust=\"spacingAndGlyphs\" textLength=\"7\" x=\"638.5\" y=\"71.1074\">F</text><line style=\"stroke: #A80036; stroke-width: 1.5;\" x1=\"561\" x2=\"697\" y1=\"78.9375\" y2=\"78.9375\"/><text fill=\"#000000\" font-family=\"sans-serif\" font-size=\"11\" font-weight=\"bold\" lengthAdjust=\"spacingAndGlyphs\" textLength=\"10\" x=\"566\" y=\"109.9526\">in</text><text fill=\"#000000\" font-family=\"sans-serif\" font-size=\"11\" lengthAdjust=\"spacingAndGlyphs\" textLength=\"22\" x=\"580\" y=\"109.9526\">p: A</text><text fill=\"#000000\" font-family=\"sans-serif\" font-size=\"11\" font-weight=\"bold\" lengthAdjust=\"spacingAndGlyphs\" textLength=\"10\" x=\"566\" y=\"122.7573\">in</text><text fill=\"#000000\" font-family=\"sans-serif\" font-size=\"11\" lengthAdjust=\"spacingAndGlyphs\" textLength=\"55\" x=\"580\" y=\"122.7573\">q: Integer</text><line style=\"stroke: #A80036; stroke-width: 1.0;\" x1=\"561\" x2=\"595.5\" y1=\"93.3398\" y2=\"93.3398\"/><text fill=\"#000000\" font-family=\"sans-serif\" font-size=\"11\" lengthAdjust=\"spacingAndGlyphs\" textLength=\"67\" x=\"595.5\" y=\"96.6479\">parameters</text><line style=\"stroke: #A80036; stroke-width: 1.0;\" x1=\"662.5\" x2=\"697\" y1=\"93.3398\" y2=\"93.3398\"/></a><!--MD5=[270fce915f116d4de14055a7c1d9a0f3]\n",
       "class E5--><a href=\"psysml:a95297bf-d64f-43ac-86b7-f9f55eba203a\" target=\"_top\" title=\"psysml:a95297bf-d64f-43ac-86b7-f9f55eba203a\" xlink:actuate=\"onRequest\" xlink:href=\"psysml:a95297bf-d64f-43ac-86b7-f9f55eba203a\" xlink:show=\"new\" xlink:title=\"psysml:a95297bf-d64f-43ac-86b7-f9f55eba203a\" xlink:type=\"simple\"><rect fill=\"#FEFECE\" filter=\"url(#f1r95qu5rf9ak7)\" height=\"45.9375\" id=\"E5\" rx=\"10\" ry=\"10\" style=\"stroke: #A80036; stroke-width: 1.5;\" width=\"97\" x=\"427.5\" y=\"62\"/><ellipse cx=\"442.5\" cy=\"80.9688\" fill=\"#FFA500\" rx=\"11\" ry=\"11\" style=\"stroke: #A80036; stroke-width: 1.0;\"/><path d=\"M442.25,86.4375 Q440.5,86.4375 439.5469,85.4063 Q438.6094,84.3594 438.6094,82.5156 L438.6094,75.625 L440.6719,75.625 L440.6719,75.7813 Q440.5781,75.875 440.5469,76.0156 Q440.5313,76.1406 440.5313,76.4063 L440.5313,82.5313 Q440.5313,83.625 440.9063,84.25 Q441.2813,84.875 442.2656,84.875 Q443.25,84.875 443.6406,84.25 Q444.0313,83.625 444.0313,82.4844 L444.0313,75.625 L445.9063,75.625 L445.9063,82.4688 Q445.9063,84.5 444.875,85.4688 Q443.8594,86.4375 442.25,86.4375 Z \"/><text fill=\"#000000\" font-family=\"sans-serif\" font-size=\"12\" font-style=\"italic\" lengthAdjust=\"spacingAndGlyphs\" textLength=\"69\" x=\"454.5\" y=\"78.1387\">«attribute»</text><text fill=\"#000000\" font-family=\"sans-serif\" font-size=\"12\" lengthAdjust=\"spacingAndGlyphs\" textLength=\"4\" x=\"487\" y=\"92.1074\">f</text><line style=\"stroke: #A80036; stroke-width: 1.5;\" x1=\"428.5\" x2=\"523.5\" y1=\"99.9375\" y2=\"99.9375\"/></a><!--MD5=[60a26617385b1d2d0262a64233df1f8d]\n",
       "class E6--><a href=\"psysml:778a48ec-a539-4294-8634-0d41b068db9f\" target=\"_top\" title=\"psysml:778a48ec-a539-4294-8634-0d41b068db9f\" xlink:actuate=\"onRequest\" xlink:href=\"psysml:778a48ec-a539-4294-8634-0d41b068db9f\" xlink:show=\"new\" xlink:title=\"psysml:778a48ec-a539-4294-8634-0d41b068db9f\" xlink:type=\"simple\"><rect fill=\"#FEFECE\" filter=\"url(#f1r95qu5rf9ak7)\" height=\"45.9375\" id=\"E6\" rx=\"10\" ry=\"10\" style=\"stroke: #A80036; stroke-width: 1.5;\" width=\"97\" x=\"295.5\" y=\"62\"/><ellipse cx=\"310.5\" cy=\"80.9688\" fill=\"#FFA500\" rx=\"11\" ry=\"11\" style=\"stroke: #A80036; stroke-width: 1.0;\"/><path d=\"M310.25,86.4375 Q308.5,86.4375 307.5469,85.4063 Q306.6094,84.3594 306.6094,82.5156 L306.6094,75.625 L308.6719,75.625 L308.6719,75.7813 Q308.5781,75.875 308.5469,76.0156 Q308.5313,76.1406 308.5313,76.4063 L308.5313,82.5313 Q308.5313,83.625 308.9063,84.25 Q309.2813,84.875 310.2656,84.875 Q311.25,84.875 311.6406,84.25 Q312.0313,83.625 312.0313,82.4844 L312.0313,75.625 L313.9063,75.625 L313.9063,82.4688 Q313.9063,84.5 312.875,85.4688 Q311.8594,86.4375 310.25,86.4375 Z \"/><text fill=\"#000000\" font-family=\"sans-serif\" font-size=\"12\" font-style=\"italic\" lengthAdjust=\"spacingAndGlyphs\" textLength=\"69\" x=\"322.5\" y=\"78.1387\">«attribute»</text><text fill=\"#000000\" font-family=\"sans-serif\" font-size=\"12\" lengthAdjust=\"spacingAndGlyphs\" textLength=\"8\" x=\"353\" y=\"92.1074\">g</text><line style=\"stroke: #A80036; stroke-width: 1.5;\" x1=\"296.5\" x2=\"391.5\" y1=\"99.9375\" y2=\"99.9375\"/></a><!--MD5=[2156ba9850f5573cc1fc38a6a4b2f02b]\n",
       "class E7--><a href=\"psysml:178fd1be-66b7-4b93-9f69-0783143b2542\" target=\"_top\" title=\"psysml:178fd1be-66b7-4b93-9f69-0783143b2542\" xlink:actuate=\"onRequest\" xlink:href=\"psysml:178fd1be-66b7-4b93-9f69-0783143b2542\" xlink:show=\"new\" xlink:title=\"psysml:178fd1be-66b7-4b93-9f69-0783143b2542\" xlink:type=\"simple\"><rect fill=\"#FEFECE\" filter=\"url(#f1r95qu5rf9ak7)\" height=\"45.9375\" id=\"E7\" rx=\"10\" ry=\"10\" style=\"stroke: #A80036; stroke-width: 1.5;\" width=\"97\" x=\"163.5\" y=\"62\"/><ellipse cx=\"178.5\" cy=\"80.9688\" fill=\"#FFA500\" rx=\"11\" ry=\"11\" style=\"stroke: #A80036; stroke-width: 1.0;\"/><path d=\"M178.25,86.4375 Q176.5,86.4375 175.5469,85.4063 Q174.6094,84.3594 174.6094,82.5156 L174.6094,75.625 L176.6719,75.625 L176.6719,75.7813 Q176.5781,75.875 176.5469,76.0156 Q176.5313,76.1406 176.5313,76.4063 L176.5313,82.5313 Q176.5313,83.625 176.9063,84.25 Q177.2813,84.875 178.2656,84.875 Q179.25,84.875 179.6406,84.25 Q180.0313,83.625 180.0313,82.4844 L180.0313,75.625 L181.9063,75.625 L181.9063,82.4688 Q181.9063,84.5 180.875,85.4688 Q179.8594,86.4375 178.25,86.4375 Z \"/><text fill=\"#000000\" font-family=\"sans-serif\" font-size=\"12\" font-style=\"italic\" lengthAdjust=\"spacingAndGlyphs\" textLength=\"69\" x=\"190.5\" y=\"78.1387\">«attribute»</text><text fill=\"#000000\" font-family=\"sans-serif\" font-size=\"12\" lengthAdjust=\"spacingAndGlyphs\" textLength=\"8\" x=\"221\" y=\"92.1074\">b</text><line style=\"stroke: #A80036; stroke-width: 1.5;\" x1=\"164.5\" x2=\"259.5\" y1=\"99.9375\" y2=\"99.9375\"/></a><!--MD5=[b9389687b975829384b498ac4b7476b2]\n",
       "class E8--><a href=\"psysml:ce14b558-47dc-4a37-8f10-4afbd6cf7826\" target=\"_top\" title=\"psysml:ce14b558-47dc-4a37-8f10-4afbd6cf7826\" xlink:actuate=\"onRequest\" xlink:href=\"psysml:ce14b558-47dc-4a37-8f10-4afbd6cf7826\" xlink:show=\"new\" xlink:title=\"psysml:ce14b558-47dc-4a37-8f10-4afbd6cf7826\" xlink:type=\"simple\"><rect fill=\"#FEFECE\" filter=\"url(#f1r95qu5rf9ak7)\" height=\"45.9375\" id=\"E8\" rx=\"10\" ry=\"10\" style=\"stroke: #A80036; stroke-width: 1.5;\" width=\"97\" x=\"31.5\" y=\"62\"/><ellipse cx=\"46.5\" cy=\"80.9688\" fill=\"#FFA500\" rx=\"11\" ry=\"11\" style=\"stroke: #A80036; stroke-width: 1.0;\"/><path d=\"M46.25,86.4375 Q44.5,86.4375 43.5469,85.4063 Q42.6094,84.3594 42.6094,82.5156 L42.6094,75.625 L44.6719,75.625 L44.6719,75.7813 Q44.5781,75.875 44.5469,76.0156 Q44.5313,76.1406 44.5313,76.4063 L44.5313,82.5313 Q44.5313,83.625 44.9063,84.25 Q45.2813,84.875 46.2656,84.875 Q47.25,84.875 47.6406,84.25 Q48.0313,83.625 48.0313,82.4844 L48.0313,75.625 L49.9063,75.625 L49.9063,82.4688 Q49.9063,84.5 48.875,85.4688 Q47.8594,86.4375 46.25,86.4375 Z \"/><text fill=\"#000000\" font-family=\"sans-serif\" font-size=\"12\" font-style=\"italic\" lengthAdjust=\"spacingAndGlyphs\" textLength=\"69\" x=\"58.5\" y=\"78.1387\">«attribute»</text><text fill=\"#000000\" font-family=\"sans-serif\" font-size=\"12\" lengthAdjust=\"spacingAndGlyphs\" textLength=\"7\" x=\"89.5\" y=\"92.1074\">c</text><line style=\"stroke: #A80036; stroke-width: 1.5;\" x1=\"32.5\" x2=\"127.5\" y1=\"99.9375\" y2=\"99.9375\"/></a><!--MD5=[05d275557350bfb9b23a4ef7222b4c39]\n",
       "link E3 to E2--><a href=\"psysml:f36357d4-9dbb-46b9-9535-0d41e0b85630\" target=\"_top\" title=\"psysml:f36357d4-9dbb-46b9-9535-0d41e0b85630\" xlink:actuate=\"onRequest\" xlink:href=\"psysml:f36357d4-9dbb-46b9-9535-0d41e0b85630\" xlink:show=\"new\" xlink:title=\"psysml:f36357d4-9dbb-46b9-9535-0d41e0b85630\" xlink:type=\"simple\"><path d=\"M767.89,108.32 C754.86,128.95 734.9,160.54 717.19,188.57 \" fill=\"none\" id=\"E3-&gt;E2\" style=\"stroke: #A80036; stroke-width: 1.0;\"/><polygon fill=\"#FFFFFF\" points=\"706.25,205.87,710.4756,186.0674,722.3131,193.5421,706.25,205.87\" style=\"stroke: #A80036; stroke-width: 1.0;\"/><ellipse cx=\"715.2099\" cy=\"182.3156\" fill=\"#A80036\" rx=\"2\" ry=\"2\" style=\"stroke: #A80036; stroke-width: 1.0;\"/><ellipse cx=\"723.6653\" cy=\"187.6547\" fill=\"#A80036\" rx=\"2\" ry=\"2\" style=\"stroke: #A80036; stroke-width: 1.0;\"/></a><!--MD5=[ddeed8deb2209213b62e6cfabaa108b2]\n",
       "reverse link E4 to E2--><a href=\"psysml:16f7e9d3-43d0-4287-8a70-cbe1c91459d8\" target=\"_top\" title=\"psysml:16f7e9d3-43d0-4287-8a70-cbe1c91459d8\" xlink:actuate=\"onRequest\" xlink:href=\"psysml:16f7e9d3-43d0-4287-8a70-cbe1c91459d8\" xlink:show=\"new\" xlink:title=\"psysml:16f7e9d3-43d0-4287-8a70-cbe1c91459d8\" xlink:type=\"simple\"><path d=\"M623.86,142.39 C624.25,153.71 625.71,165.38 629,176 C632.18,186.27 637.36,196.38 643.21,205.66 \" fill=\"none\" id=\"E4&lt;-E2\" style=\"stroke: #A80036; stroke-width: 1.0;\"/><polygon fill=\"#FFFFFF\" points=\"623.84,129.36,619.8466,135.3644,623.8532,141.36,627.8466,135.3556,623.84,129.36\" style=\"stroke: #A80036; stroke-width: 1.0;\"/><text fill=\"#000000\" font-family=\"sans-serif\" font-size=\"13\" lengthAdjust=\"spacingAndGlyphs\" textLength=\"8\" x=\"630\" y=\"172.0669\">p</text></a><!--MD5=[ddeed8deb2209213b62e6cfabaa108b2]\n",
       "reverse link E4 to E2--><a href=\"psysml:16f7e9d3-43d0-4287-8a70-cbe1c91459d8\" target=\"_top\" title=\"psysml:16f7e9d3-43d0-4287-8a70-cbe1c91459d8\" xlink:actuate=\"onRequest\" xlink:href=\"psysml:16f7e9d3-43d0-4287-8a70-cbe1c91459d8\" xlink:show=\"new\" xlink:title=\"psysml:16f7e9d3-43d0-4287-8a70-cbe1c91459d8\" xlink:type=\"simple\"><path d=\"M646.15,141.9 C652.56,162.81 659.75,186.23 665.76,205.83 \" fill=\"none\" id=\"E4&lt;-E2-1\" style=\"stroke: #A80036; stroke-width: 1.0;\"/><polygon fill=\"#FFFFFF\" points=\"642.27,129.25,640.2064,136.1595,645.7907,140.7219,647.8543,133.8124,642.27,129.25\" style=\"stroke: #A80036; stroke-width: 1.0;\"/><text fill=\"#000000\" font-family=\"sans-serif\" font-size=\"13\" lengthAdjust=\"spacingAndGlyphs\" textLength=\"8\" x=\"656\" y=\"172.0669\">p</text></a><!--MD5=[a2b646055db7c6bd11d2f8f6a8378350]\n",
       "@startuml\r\n",
       " \r\n",
       "package \"ParameterTest\" as E1  [[psysml:19b06251-fe6f-4e99-9afa-d6889eb7a18f ]]  {\r\n",
       "comp def \"A\" as E2 << <<(D,brown) attribute  def>> [[psysml:a687f627-404e-4522-a6e9-e30e4b3087b4 ]] {\r\n",
       "- - attributes - -\r\n",
       "x: String\r\n",
       "y: A\r\n",
       "}\r\n",
       "comp usage \"a: A \" as E3 << <<(U,orange) attribute>> [[psysml:080a965c-bda9-42ef-b0e7-dadea2c4de7a ]] {\r\n",
       "}\r\n",
       "comp def \"F\" as E4 << <<(B,lemonchiffon) calculation  def>> [[psysml:87bb354b-94c0-403b-b7cb-102c1c7ef37a ]] {\r\n",
       "- - parameters - -\r\n",
       "<b>in</b> p: A\r\n",
       "<b>in</b> q: Integer\r\n",
       "}\r\n",
       "comp usage \"f\" as E5 << <<(U,orange) attribute>> [[psysml:a95297bf-d64f-43ac-86b7-f9f55eba203a ]] {\r\n",
       "}\r\n",
       "comp usage \"g\" as E6 << <<(U,orange) attribute>> [[psysml:778a48ec-a539-4294-8634-0d41b068db9f ]] {\r\n",
       "}\r\n",
       "comp usage \"b\" as E7 << <<(U,orange) attribute>> [[psysml:178fd1be-66b7-4b93-9f69-0783143b2542 ]] {\r\n",
       "}\r\n",
       "comp usage \"c\" as E8 << <<(U,orange) attribute>> [[psysml:ce14b558-47dc-4a37-8f10-4afbd6cf7826 ]] {\r\n",
       "}\r\n",
       "}\r\n",
       "E3 - -:|> E2 [[psysml:f36357d4-9dbb-46b9-9535-0d41e0b85630 ]] \r\n",
       "E4 o- - E2 [[psysml:16f7e9d3-43d0-4287-8a70-cbe1c91459d8 ]] : p\r\n",
       "E4 o- - E2 [[psysml:16f7e9d3-43d0-4287-8a70-cbe1c91459d8 ]] : p\r\n",
       "@enduml\r\n",
       "\n",
       "PlantUML version 1.2020.13(Sat Jun 13 12:26:38 UTC 2020)\n",
       "(EPL source distribution)\n",
       "Java Runtime: OpenJDK Runtime Environment\n",
       "JVM: OpenJDK 64-Bit Server VM\n",
       "Default Encoding: UTF-8\n",
       "Language: en\n",
       "Country: null\n",
       "--></g></svg>"
      ]
     },
     "execution_count": 31,
     "metadata": {},
     "output_type": "execute_result"
    }
   ],
   "source": [
    "%viz --style=\"PLANTUML\" --view=\"Tree\" \"ParameterTest\""
   ]
  },
  {
   "cell_type": "code",
   "execution_count": 32,
   "id": "71370cc0",
   "metadata": {
    "execution": {
     "iopub.execute_input": "2021-11-13T12:59:16.481600Z",
     "iopub.status.busy": "2021-11-13T12:59:16.481201Z",
     "iopub.status.idle": "2021-11-13T12:59:16.561241Z",
     "shell.execute_reply": "2021-11-13T12:59:16.559645Z"
    }
   },
   "outputs": [
    {
     "data": {
      "image/svg+xml": [
       "<?xml version=\"1.0\" encoding=\"UTF-8\" standalone=\"no\"?><svg xmlns=\"http://www.w3.org/2000/svg\" xmlns:xlink=\"http://www.w3.org/1999/xlink\" contentScriptType=\"application/ecmascript\" contentStyleType=\"text/css\" height=\"300px\" preserveAspectRatio=\"none\" style=\"width:603px;height:300px;background:#000000;\" version=\"1.1\" viewBox=\"0 0 603 300\" width=\"603px\" zoomAndPan=\"magnify\"><defs/><g><rect fill=\"#25170A\" height=\"1\" style=\"stroke: #25170A; stroke-width: 1.0;\" width=\"1\" x=\"0\" y=\"0\"/><rect fill=\"#FFFFFF\" height=\"202.8012\" style=\"stroke: #FFFFFF; stroke-width: 1.0;\" width=\"602\" x=\"0\" y=\"0\"/><text fill=\"#000000\" font-family=\"sans-serif\" font-size=\"12\" font-weight=\"bold\" lengthAdjust=\"spacingAndGlyphs\" textLength=\"139\" x=\"5\" y=\"16.1387\">Welcome to PlantUML!</text><text fill=\"#000000\" font-family=\"sans-serif\" font-size=\"12\" lengthAdjust=\"spacingAndGlyphs\" textLength=\"0\" x=\"9\" y=\"30.1074\"/><text fill=\"#000000\" font-family=\"sans-serif\" font-size=\"12\" lengthAdjust=\"spacingAndGlyphs\" textLength=\"293\" x=\"5\" y=\"44.0762\">If you use this software, you accept its license.</text><text fill=\"#000000\" font-family=\"sans-serif\" font-size=\"12\" lengthAdjust=\"spacingAndGlyphs\" textLength=\"107\" x=\"5\" y=\"58.0449\">(details by typing</text><text fill=\"#000000\" font-family=\"monospace\" font-size=\"12\" lengthAdjust=\"spacingAndGlyphs\" textLength=\"42\" x=\"116\" y=\"58.595\">license</text><text fill=\"#000000\" font-family=\"sans-serif\" font-size=\"12\" lengthAdjust=\"spacingAndGlyphs\" textLength=\"56\" x=\"162\" y=\"58.0449\">keyword)</text><text fill=\"#000000\" font-family=\"sans-serif\" font-size=\"12\" lengthAdjust=\"spacingAndGlyphs\" textLength=\"0\" x=\"9\" y=\"72.0137\"/><text fill=\"#000000\" font-family=\"sans-serif\" font-size=\"12\" lengthAdjust=\"spacingAndGlyphs\" textLength=\"283\" x=\"5\" y=\"85.9824\">You can start with a simple UML Diagram like:</text><text fill=\"#000000\" font-family=\"sans-serif\" font-size=\"12\" lengthAdjust=\"spacingAndGlyphs\" textLength=\"0\" x=\"9\" y=\"99.9512\"/><text fill=\"#000000\" font-family=\"monospace\" font-size=\"12\" lengthAdjust=\"spacingAndGlyphs\" textLength=\"102\" x=\"5\" y=\"113.0893\">Bob-&gt;Alice: Hello</text><text fill=\"#000000\" font-family=\"sans-serif\" font-size=\"12\" lengthAdjust=\"spacingAndGlyphs\" textLength=\"0\" x=\"9\" y=\"126.508\"/><text fill=\"#000000\" font-family=\"sans-serif\" font-size=\"12\" lengthAdjust=\"spacingAndGlyphs\" textLength=\"14\" x=\"5\" y=\"140.4768\">Or</text><text fill=\"#000000\" font-family=\"sans-serif\" font-size=\"12\" lengthAdjust=\"spacingAndGlyphs\" textLength=\"0\" x=\"9\" y=\"154.4455\"/><text fill=\"#000000\" font-family=\"monospace\" font-size=\"12\" lengthAdjust=\"spacingAndGlyphs\" textLength=\"78\" x=\"5\" y=\"167.5837\">class Example</text><text fill=\"#000000\" font-family=\"sans-serif\" font-size=\"12\" lengthAdjust=\"spacingAndGlyphs\" textLength=\"0\" x=\"9\" y=\"181.0023\"/><text fill=\"#000000\" font-family=\"sans-serif\" font-size=\"12\" lengthAdjust=\"spacingAndGlyphs\" textLength=\"349\" x=\"5\" y=\"194.9711\">You will find more information about PlantUML syntax on</text><text fill=\"#000000\" font-family=\"sans-serif\" font-size=\"12\" lengthAdjust=\"spacingAndGlyphs\" text-decoration=\"underline\" textLength=\"129\" x=\"358\" y=\"194.9711\">https://plantuml.com</text><image height=\"71\" width=\"80\" x=\"516\" xlink:href=\"data:image/png;base64,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\" y=\"6\"/><rect fill=\"#000000\" height=\"96.4844\" style=\"stroke: #000000; stroke-width: 1.0;\" width=\"602\" x=\"0\" y=\"202.8012\"/><rect fill=\"#33FF02\" height=\"21.2969\" style=\"stroke: #33FF02; stroke-width: 1.0;\" width=\"145\" x=\"5\" y=\"207.8012\"/><text fill=\"#000000\" font-family=\"sans-serif\" font-size=\"14\" font-weight=\"bold\" lengthAdjust=\"spacingAndGlyphs\" textLength=\"143\" x=\"6\" y=\"222.8012\">[From string (line 2) ]</text><text fill=\"#33FF02\" font-family=\"sans-serif\" font-size=\"14\" font-weight=\"bold\" lengthAdjust=\"spacingAndGlyphs\" textLength=\"0\" x=\"9\" y=\"243.0981\"/><text fill=\"#33FF02\" font-family=\"sans-serif\" font-size=\"14\" font-weight=\"bold\" lengthAdjust=\"spacingAndGlyphs\" textLength=\"70\" x=\"5\" y=\"259.3949\">@startuml</text><text fill=\"#33FF02\" font-family=\"sans-serif\" font-size=\"14\" font-weight=\"bold\" lengthAdjust=\"spacingAndGlyphs\" textLength=\"0\" x=\"9\" y=\"275.6918\"/><text fill=\"#FF0000\" font-family=\"sans-serif\" font-size=\"14\" font-weight=\"bold\" lengthAdjust=\"spacingAndGlyphs\" textLength=\"124\" x=\"9\" y=\"291.9887\">Empty description</text><!--MD5=[f59edd8218d337f74d0c332fc6737304]\n",
       "@startuml\r\n",
       " \r\n",
       "@enduml\r\n",
       "\n",
       "PlantUML version 1.2020.13(Sat Jun 13 12:26:38 UTC 2020)\n",
       "(EPL source distribution)\n",
       "Java Runtime: OpenJDK Runtime Environment\n",
       "JVM: OpenJDK 64-Bit Server VM\n",
       "Default Encoding: UTF-8\n",
       "Language: en\n",
       "Country: null\n",
       "--></g></svg>"
      ]
     },
     "execution_count": 32,
     "metadata": {},
     "output_type": "execute_result"
    }
   ],
   "source": [
    "%viz --style=\"PLANTUML\" --view=\"State\" \"ParameterTest\""
   ]
  },
  {
   "cell_type": "code",
   "execution_count": 33,
   "id": "4a76a8ef",
   "metadata": {
    "execution": {
     "iopub.execute_input": "2021-11-13T12:59:16.610450Z",
     "iopub.status.busy": "2021-11-13T12:59:16.610051Z",
     "iopub.status.idle": "2021-11-13T12:59:16.643778Z",
     "shell.execute_reply": "2021-11-13T12:59:16.643370Z"
    }
   },
   "outputs": [
    {
     "data": {
      "image/svg+xml": [
       "<?xml version=\"1.0\" encoding=\"UTF-8\" standalone=\"no\"?><svg xmlns=\"http://www.w3.org/2000/svg\" xmlns:xlink=\"http://www.w3.org/1999/xlink\" contentScriptType=\"application/ecmascript\" contentStyleType=\"text/css\" height=\"216px\" preserveAspectRatio=\"none\" style=\"width:872px;height:216px;\" version=\"1.1\" viewBox=\"0 0 872 216\" width=\"872px\" zoomAndPan=\"magnify\"><defs><filter height=\"300%\" id=\"f1keakwczvuc1\" width=\"300%\" x=\"-1\" y=\"-1\"><feGaussianBlur result=\"blurOut\" stdDeviation=\"2.0\"/><feColorMatrix in=\"blurOut\" result=\"blurOut2\" type=\"matrix\" values=\"0 0 0 0 0 0 0 0 0 0 0 0 0 0 0 0 0 0 .4 0\"/><feOffset dx=\"4.0\" dy=\"4.0\" in=\"blurOut2\" result=\"blurOut3\"/><feBlend in=\"SourceGraphic\" in2=\"blurOut3\" mode=\"normal\"/></filter></defs><g><!--MD5=[fbc87193dbaf4d95561dea2c320d4a47]\n",
       "cluster E1--><a href=\"psysml:19b06251-fe6f-4e99-9afa-d6889eb7a18f\" target=\"_top\" title=\"psysml:19b06251-fe6f-4e99-9afa-d6889eb7a18f\" xlink:actuate=\"onRequest\" xlink:href=\"psysml:19b06251-fe6f-4e99-9afa-d6889eb7a18f\" xlink:show=\"new\" xlink:title=\"psysml:19b06251-fe6f-4e99-9afa-d6889eb7a18f\" xlink:type=\"simple\"><polygon fill=\"#FFFFFF\" filter=\"url(#f1keakwczvuc1)\" points=\"16,6,124,6,131,28.2969,850,28.2969,850,204.72,16,204.72,16,6\" style=\"stroke: #000000; stroke-width: 1.5;\"/><line style=\"stroke: #000000; stroke-width: 1.5;\" x1=\"16\" x2=\"131\" y1=\"28.2969\" y2=\"28.2969\"/><text fill=\"#000000\" font-family=\"sans-serif\" font-size=\"14\" font-weight=\"bold\" lengthAdjust=\"spacingAndGlyphs\" textLength=\"102\" x=\"20\" y=\"20.9951\">ParameterTest</text></a><!--MD5=[f6df4d0ebaf0b5dfb2ced0ae5af7c670]\n",
       "cluster E4--><a href=\"psysml:87bb354b-94c0-403b-b7cb-102c1c7ef37a\" target=\"_top\" title=\"psysml:87bb354b-94c0-403b-b7cb-102c1c7ef37a\" xlink:actuate=\"onRequest\" xlink:href=\"psysml:87bb354b-94c0-403b-b7cb-102c1c7ef37a\" xlink:show=\"new\" xlink:title=\"psysml:87bb354b-94c0-403b-b7cb-102c1c7ef37a\" xlink:type=\"simple\"><rect fill=\"#FFFFFF\" filter=\"url(#f1keakwczvuc1)\" height=\"110.72\" id=\"E4\" style=\"stroke: #A80036; stroke-width: 1.5;\" width=\"150\" x=\"684\" y=\"64\"/><rect fill=\"#FEFECE\" height=\"37.9375\" style=\"stroke: #A80036; stroke-width: 1.5;\" width=\"150\" x=\"684\" y=\"64\"/><text fill=\"#000000\" font-family=\"sans-serif\" font-size=\"12\" font-style=\"italic\" lengthAdjust=\"spacingAndGlyphs\" textLength=\"110\" x=\"704\" y=\"80.1387\">«calculation  def»</text><text fill=\"#000000\" font-family=\"sans-serif\" font-size=\"12\" lengthAdjust=\"spacingAndGlyphs\" textLength=\"7\" x=\"755.5\" y=\"94.1074\">F</text></a><g id=\"E1.E2\"><a href=\"psysml:a687f627-404e-4522-a6e9-e30e4b3087b4\" target=\"_top\" title=\"psysml:a687f627-404e-4522-a6e9-e30e4b3087b4\" xlink:actuate=\"onRequest\" xlink:href=\"psysml:a687f627-404e-4522-a6e9-e30e4b3087b4\" xlink:show=\"new\" xlink:title=\"psysml:a687f627-404e-4522-a6e9-e30e4b3087b4\" xlink:type=\"simple\"><rect fill=\"#FEFECE\" filter=\"url(#f1keakwczvuc1)\" height=\"42.9375\" id=\"E2\" style=\"stroke: #A80036; stroke-width: 1.5;\" width=\"130\" x=\"515\" y=\"99\"/><ellipse cx=\"532.25\" cy=\"117.9688\" fill=\"#A52A2A\" rx=\"11\" ry=\"11\" style=\"stroke: #A80036; stroke-width: 1.0;\"/><path d=\"M529.4688,122.9688 L529.4688,112.375 L532.2031,112.375 Q533.5938,112.375 534.3594,112.7656 Q535.1406,113.1406 535.6719,113.8438 Q536.2031,114.5469 536.5,115.5469 Q536.7969,116.5313 536.7969,117.75 Q536.75,119.3438 536.25,120.5313 Q535.7656,121.7031 534.7188,122.3438 Q533.6875,122.9688 532,122.9688 L529.4688,122.9688 Z M531.3281,121.4688 L531.9531,121.4688 Q533.0313,121.4688 533.6875,121.0156 Q534.3438,120.5625 534.625,119.7344 Q534.9219,118.8906 534.9063,117.7656 Q534.9063,116.5938 534.6563,115.7344 Q534.4063,114.8594 533.7969,114.3906 Q533.1875,113.9063 532.1406,113.9063 L531.3281,113.9063 L531.3281,121.4688 Z \"/><text fill=\"#000000\" font-family=\"sans-serif\" font-size=\"12\" font-style=\"italic\" lengthAdjust=\"spacingAndGlyphs\" textLength=\"97\" x=\"544.75\" y=\"115.1387\">«attribute  def»</text><text fill=\"#000000\" font-family=\"sans-serif\" font-size=\"12\" lengthAdjust=\"spacingAndGlyphs\" textLength=\"8\" x=\"589.25\" y=\"129.1074\">A</text></a></g><!--MD5=[09b614a08d8cba4a07c9adeb5e0fee81]\n",
       "class E3--><a href=\"psysml:080a965c-bda9-42ef-b0e7-dadea2c4de7a\" target=\"_top\" title=\"psysml:080a965c-bda9-42ef-b0e7-dadea2c4de7a\" xlink:actuate=\"onRequest\" xlink:href=\"psysml:080a965c-bda9-42ef-b0e7-dadea2c4de7a\" xlink:show=\"new\" xlink:title=\"psysml:080a965c-bda9-42ef-b0e7-dadea2c4de7a\" xlink:type=\"simple\"><rect fill=\"#FEFECE\" filter=\"url(#f1keakwczvuc1)\" height=\"45.9375\" id=\"E3\" rx=\"10\" ry=\"10\" style=\"stroke: #A80036; stroke-width: 1.5;\" width=\"97\" x=\"559.5\" y=\"41\"/><ellipse cx=\"574.5\" cy=\"59.9688\" fill=\"#FFA500\" rx=\"11\" ry=\"11\" style=\"stroke: #A80036; stroke-width: 1.0;\"/><path d=\"M574.25,65.4375 Q572.5,65.4375 571.5469,64.4063 Q570.6094,63.3594 570.6094,61.5156 L570.6094,54.625 L572.6719,54.625 L572.6719,54.7813 Q572.5781,54.875 572.5469,55.0156 Q572.5313,55.1406 572.5313,55.4063 L572.5313,61.5313 Q572.5313,62.625 572.9063,63.25 Q573.2813,63.875 574.2656,63.875 Q575.25,63.875 575.6406,63.25 Q576.0313,62.625 576.0313,61.4844 L576.0313,54.625 L577.9063,54.625 L577.9063,61.4688 Q577.9063,63.5 576.875,64.4688 Q575.8594,65.4375 574.25,65.4375 Z \"/><text fill=\"#000000\" font-family=\"sans-serif\" font-size=\"12\" font-style=\"italic\" lengthAdjust=\"spacingAndGlyphs\" textLength=\"69\" x=\"586.5\" y=\"57.1387\">«attribute»</text><text fill=\"#000000\" font-family=\"sans-serif\" font-size=\"12\" lengthAdjust=\"spacingAndGlyphs\" textLength=\"24\" x=\"607\" y=\"71.1074\">a: A</text><line style=\"stroke: #A80036; stroke-width: 1.5;\" x1=\"560.5\" x2=\"655.5\" y1=\"78.9375\" y2=\"78.9375\"/></a><!--MD5=[b9389687b975829384b498ac4b7476b2]\n",
       "class E8--><a href=\"psysml:a95297bf-d64f-43ac-86b7-f9f55eba203a\" target=\"_top\" title=\"psysml:a95297bf-d64f-43ac-86b7-f9f55eba203a\" xlink:actuate=\"onRequest\" xlink:href=\"psysml:a95297bf-d64f-43ac-86b7-f9f55eba203a\" xlink:show=\"new\" xlink:title=\"psysml:a95297bf-d64f-43ac-86b7-f9f55eba203a\" xlink:type=\"simple\"><rect fill=\"#FEFECE\" filter=\"url(#f1keakwczvuc1)\" height=\"45.9375\" id=\"E8\" rx=\"10\" ry=\"10\" style=\"stroke: #A80036; stroke-width: 1.5;\" width=\"97\" x=\"427.5\" y=\"41\"/><ellipse cx=\"442.5\" cy=\"59.9688\" fill=\"#FFA500\" rx=\"11\" ry=\"11\" style=\"stroke: #A80036; stroke-width: 1.0;\"/><path d=\"M442.25,65.4375 Q440.5,65.4375 439.5469,64.4063 Q438.6094,63.3594 438.6094,61.5156 L438.6094,54.625 L440.6719,54.625 L440.6719,54.7813 Q440.5781,54.875 440.5469,55.0156 Q440.5313,55.1406 440.5313,55.4063 L440.5313,61.5313 Q440.5313,62.625 440.9063,63.25 Q441.2813,63.875 442.2656,63.875 Q443.25,63.875 443.6406,63.25 Q444.0313,62.625 444.0313,61.4844 L444.0313,54.625 L445.9063,54.625 L445.9063,61.4688 Q445.9063,63.5 444.875,64.4688 Q443.8594,65.4375 442.25,65.4375 Z \"/><text fill=\"#000000\" font-family=\"sans-serif\" font-size=\"12\" font-style=\"italic\" lengthAdjust=\"spacingAndGlyphs\" textLength=\"69\" x=\"454.5\" y=\"57.1387\">«attribute»</text><text fill=\"#000000\" font-family=\"sans-serif\" font-size=\"12\" lengthAdjust=\"spacingAndGlyphs\" textLength=\"4\" x=\"487\" y=\"71.1074\">f</text><line style=\"stroke: #A80036; stroke-width: 1.5;\" x1=\"428.5\" x2=\"523.5\" y1=\"78.9375\" y2=\"78.9375\"/></a><!--MD5=[fd4143e9d270a159db93a4ea2a975926]\n",
       "class E9--><a href=\"psysml:778a48ec-a539-4294-8634-0d41b068db9f\" target=\"_top\" title=\"psysml:778a48ec-a539-4294-8634-0d41b068db9f\" xlink:actuate=\"onRequest\" xlink:href=\"psysml:778a48ec-a539-4294-8634-0d41b068db9f\" xlink:show=\"new\" xlink:title=\"psysml:778a48ec-a539-4294-8634-0d41b068db9f\" xlink:type=\"simple\"><rect fill=\"#FEFECE\" filter=\"url(#f1keakwczvuc1)\" height=\"45.9375\" id=\"E9\" rx=\"10\" ry=\"10\" style=\"stroke: #A80036; stroke-width: 1.5;\" width=\"97\" x=\"295.5\" y=\"41\"/><ellipse cx=\"310.5\" cy=\"59.9688\" fill=\"#FFA500\" rx=\"11\" ry=\"11\" style=\"stroke: #A80036; stroke-width: 1.0;\"/><path d=\"M310.25,65.4375 Q308.5,65.4375 307.5469,64.4063 Q306.6094,63.3594 306.6094,61.5156 L306.6094,54.625 L308.6719,54.625 L308.6719,54.7813 Q308.5781,54.875 308.5469,55.0156 Q308.5313,55.1406 308.5313,55.4063 L308.5313,61.5313 Q308.5313,62.625 308.9063,63.25 Q309.2813,63.875 310.2656,63.875 Q311.25,63.875 311.6406,63.25 Q312.0313,62.625 312.0313,61.4844 L312.0313,54.625 L313.9063,54.625 L313.9063,61.4688 Q313.9063,63.5 312.875,64.4688 Q311.8594,65.4375 310.25,65.4375 Z \"/><text fill=\"#000000\" font-family=\"sans-serif\" font-size=\"12\" font-style=\"italic\" lengthAdjust=\"spacingAndGlyphs\" textLength=\"69\" x=\"322.5\" y=\"57.1387\">«attribute»</text><text fill=\"#000000\" font-family=\"sans-serif\" font-size=\"12\" lengthAdjust=\"spacingAndGlyphs\" textLength=\"8\" x=\"353\" y=\"71.1074\">g</text><line style=\"stroke: #A80036; stroke-width: 1.5;\" x1=\"296.5\" x2=\"391.5\" y1=\"78.9375\" y2=\"78.9375\"/></a><!--MD5=[96f4274e9e20536e775497830990834d]\n",
       "class E10--><a href=\"psysml:178fd1be-66b7-4b93-9f69-0783143b2542\" target=\"_top\" title=\"psysml:178fd1be-66b7-4b93-9f69-0783143b2542\" xlink:actuate=\"onRequest\" xlink:href=\"psysml:178fd1be-66b7-4b93-9f69-0783143b2542\" xlink:show=\"new\" xlink:title=\"psysml:178fd1be-66b7-4b93-9f69-0783143b2542\" xlink:type=\"simple\"><rect fill=\"#FEFECE\" filter=\"url(#f1keakwczvuc1)\" height=\"45.9375\" id=\"E10\" rx=\"10\" ry=\"10\" style=\"stroke: #A80036; stroke-width: 1.5;\" width=\"97\" x=\"163.5\" y=\"41\"/><ellipse cx=\"178.5\" cy=\"59.9688\" fill=\"#FFA500\" rx=\"11\" ry=\"11\" style=\"stroke: #A80036; stroke-width: 1.0;\"/><path d=\"M178.25,65.4375 Q176.5,65.4375 175.5469,64.4063 Q174.6094,63.3594 174.6094,61.5156 L174.6094,54.625 L176.6719,54.625 L176.6719,54.7813 Q176.5781,54.875 176.5469,55.0156 Q176.5313,55.1406 176.5313,55.4063 L176.5313,61.5313 Q176.5313,62.625 176.9063,63.25 Q177.2813,63.875 178.2656,63.875 Q179.25,63.875 179.6406,63.25 Q180.0313,62.625 180.0313,61.4844 L180.0313,54.625 L181.9063,54.625 L181.9063,61.4688 Q181.9063,63.5 180.875,64.4688 Q179.8594,65.4375 178.25,65.4375 Z \"/><text fill=\"#000000\" font-family=\"sans-serif\" font-size=\"12\" font-style=\"italic\" lengthAdjust=\"spacingAndGlyphs\" textLength=\"69\" x=\"190.5\" y=\"57.1387\">«attribute»</text><text fill=\"#000000\" font-family=\"sans-serif\" font-size=\"12\" lengthAdjust=\"spacingAndGlyphs\" textLength=\"8\" x=\"221\" y=\"71.1074\">b</text><line style=\"stroke: #A80036; stroke-width: 1.5;\" x1=\"164.5\" x2=\"259.5\" y1=\"78.9375\" y2=\"78.9375\"/></a><!--MD5=[1dd1bfd58a279cf63c5f349dbc8fc6a1]\n",
       "class E11--><a href=\"psysml:ce14b558-47dc-4a37-8f10-4afbd6cf7826\" target=\"_top\" title=\"psysml:ce14b558-47dc-4a37-8f10-4afbd6cf7826\" xlink:actuate=\"onRequest\" xlink:href=\"psysml:ce14b558-47dc-4a37-8f10-4afbd6cf7826\" xlink:show=\"new\" xlink:title=\"psysml:ce14b558-47dc-4a37-8f10-4afbd6cf7826\" xlink:type=\"simple\"><rect fill=\"#FEFECE\" filter=\"url(#f1keakwczvuc1)\" height=\"45.9375\" id=\"E11\" rx=\"10\" ry=\"10\" style=\"stroke: #A80036; stroke-width: 1.5;\" width=\"97\" x=\"31.5\" y=\"41\"/><ellipse cx=\"46.5\" cy=\"59.9688\" fill=\"#FFA500\" rx=\"11\" ry=\"11\" style=\"stroke: #A80036; stroke-width: 1.0;\"/><path d=\"M46.25,65.4375 Q44.5,65.4375 43.5469,64.4063 Q42.6094,63.3594 42.6094,61.5156 L42.6094,54.625 L44.6719,54.625 L44.6719,54.7813 Q44.5781,54.875 44.5469,55.0156 Q44.5313,55.1406 44.5313,55.4063 L44.5313,61.5313 Q44.5313,62.625 44.9063,63.25 Q45.2813,63.875 46.2656,63.875 Q47.25,63.875 47.6406,63.25 Q48.0313,62.625 48.0313,61.4844 L48.0313,54.625 L49.9063,54.625 L49.9063,61.4688 Q49.9063,63.5 48.875,64.4688 Q47.8594,65.4375 46.25,65.4375 Z \"/><text fill=\"#000000\" font-family=\"sans-serif\" font-size=\"12\" font-style=\"italic\" lengthAdjust=\"spacingAndGlyphs\" textLength=\"69\" x=\"58.5\" y=\"57.1387\">«attribute»</text><text fill=\"#000000\" font-family=\"sans-serif\" font-size=\"12\" lengthAdjust=\"spacingAndGlyphs\" textLength=\"7\" x=\"89.5\" y=\"71.1074\">c</text><line style=\"stroke: #A80036; stroke-width: 1.5;\" x1=\"32.5\" x2=\"127.5\" y1=\"78.9375\" y2=\"78.9375\"/></a><text fill=\"#000000\" font-family=\"sans-serif\" font-size=\"14\" lengthAdjust=\"spacingAndGlyphs\" textLength=\"9\" x=\"697.5\" y=\"42.6982\">p</text><rect fill=\"#A80036\" height=\"12\" style=\"stroke: #FEFECE; stroke-width: 1.5;\" width=\"12\" x=\"696\" y=\"58\"/><text fill=\"#000000\" font-family=\"sans-serif\" font-size=\"14\" lengthAdjust=\"spacingAndGlyphs\" textLength=\"9\" x=\"744.5\" y=\"42.6982\">q</text><rect fill=\"#A80036\" height=\"12\" style=\"stroke: #FEFECE; stroke-width: 1.5;\" width=\"12\" x=\"743\" y=\"58\"/><text fill=\"#000000\" font-family=\"sans-serif\" font-size=\"14\" lengthAdjust=\"spacingAndGlyphs\" textLength=\"39\" x=\"729.5\" y=\"193.7151\">result</text><rect fill=\"#A80036\" height=\"12\" style=\"stroke: #FEFECE; stroke-width: 1.5;\" width=\"12\" x=\"743\" y=\"168.72\"/><!--MD5=[05d275557350bfb9b23a4ef7222b4c39]\n",
       "link E3 to E2--><a href=\"psysml:f36357d4-9dbb-46b9-9535-0d41e0b85630\" target=\"_top\" title=\"psysml:f36357d4-9dbb-46b9-9535-0d41e0b85630\" xlink:actuate=\"onRequest\" xlink:href=\"psysml:f36357d4-9dbb-46b9-9535-0d41e0b85630\" xlink:show=\"new\" xlink:title=\"psysml:f36357d4-9dbb-46b9-9535-0d41e0b85630\" xlink:type=\"simple\"><path d=\"M596.61,87.17 C596.55,87.29 596.49,87.41 596.42,87.53 \" fill=\"none\" id=\"E3-&gt;E2\" style=\"stroke: #A80036; stroke-width: 1.0;\"/><polygon fill=\"#FFFFFF\" points=\"590.57,98.93,593.0182,78.8301,605.4734,85.2228,590.57,98.93\" style=\"stroke: #A80036; stroke-width: 1.0;\"/><ellipse cx=\"597.4002\" cy=\"74.6723\" fill=\"#A80036\" rx=\"2\" ry=\"2\" style=\"stroke: #A80036; stroke-width: 1.0;\"/><ellipse cx=\"606.2969\" cy=\"79.2385\" fill=\"#A80036\" rx=\"2\" ry=\"2\" style=\"stroke: #A80036; stroke-width: 1.0;\"/></a><!--MD5=[2da3973fb60418df335e56b3e33b2917]\n",
       "@startuml\r\n",
       "skinparam ranksep 10\r\n",
       "skinparam rectangle {\r\n",
       " backgroundColor<<block>> LightGreen\r\n",
       "}\r\n",
       " \r\n",
       "package \"ParameterTest\" as E1  [[psysml:19b06251-fe6f-4e99-9afa-d6889eb7a18f ]]  {\r\n",
       "def \"A\" as E2 << <<(D,brown) attribute  def>> [[psysml:a687f627-404e-4522-a6e9-e30e4b3087b4 ]] \r\n",
       "comp usage \"a: A \" as E3 << <<(U,orange) attribute>> [[psysml:080a965c-bda9-42ef-b0e7-dadea2c4de7a ]] {\r\n",
       "}\r\n",
       "rec def \"F\" as E4 << <<(B,lemonchiffon) calculation  def>> [[psysml:87bb354b-94c0-403b-b7cb-102c1c7ef37a ]] {\r\n",
       "portin \"p\" as E5  [[psysml:16f7e9d3-43d0-4287-8a70-cbe1c91459d8 ]] \r\n",
       "portin \"q\" as E6  [[psysml:b2699d44-082f-48d9-8fe4-b2b87d72af88 ]] \r\n",
       "portout \"result\" as E7  [[psysml:efe4aa1f-bd0b-42c7-877f-48fcbd913317 ]] \r\n",
       "}\r\n",
       "\r\n",
       "comp usage \"f\" as E8 << <<(U,orange) attribute>> [[psysml:a95297bf-d64f-43ac-86b7-f9f55eba203a ]] {\r\n",
       "}\r\n",
       "comp usage \"g\" as E9 << <<(U,orange) attribute>> [[psysml:778a48ec-a539-4294-8634-0d41b068db9f ]] {\r\n",
       "}\r\n",
       "comp usage \"b\" as E10 << <<(U,orange) attribute>> [[psysml:178fd1be-66b7-4b93-9f69-0783143b2542 ]] {\r\n",
       "}\r\n",
       "comp usage \"c\" as E11 << <<(U,orange) attribute>> [[psysml:ce14b558-47dc-4a37-8f10-4afbd6cf7826 ]] {\r\n",
       "}\r\n",
       "}\r\n",
       "E3 - -:|> E2 [[psysml:f36357d4-9dbb-46b9-9535-0d41e0b85630 ]] \r\n",
       "@enduml\r\n",
       "\n",
       "PlantUML version 1.2020.13(Sat Jun 13 12:26:38 UTC 2020)\n",
       "(EPL source distribution)\n",
       "Java Runtime: OpenJDK Runtime Environment\n",
       "JVM: OpenJDK 64-Bit Server VM\n",
       "Default Encoding: UTF-8\n",
       "Language: en\n",
       "Country: null\n",
       "--></g></svg>"
      ]
     },
     "execution_count": 33,
     "metadata": {},
     "output_type": "execute_result"
    }
   ],
   "source": [
    "%viz --style=\"PLANTUML\" --view=\"Interconnection\" \"ParameterTest\""
   ]
  },
  {
   "cell_type": "code",
   "execution_count": 34,
   "id": "14fb435b",
   "metadata": {
    "execution": {
     "iopub.execute_input": "2021-11-13T12:59:16.692612Z",
     "iopub.status.busy": "2021-11-13T12:59:16.692214Z",
     "iopub.status.idle": "2021-11-13T12:59:16.712577Z",
     "shell.execute_reply": "2021-11-13T12:59:16.712228Z"
    }
   },
   "outputs": [
    {
     "data": {
      "image/svg+xml": [
       "<?xml version=\"1.0\" encoding=\"UTF-8\" standalone=\"no\"?><svg xmlns=\"http://www.w3.org/2000/svg\" xmlns:xlink=\"http://www.w3.org/1999/xlink\" contentScriptType=\"application/ecmascript\" contentStyleType=\"text/css\" height=\"162px\" preserveAspectRatio=\"none\" style=\"width:176px;height:162px;\" version=\"1.1\" viewBox=\"0 0 176 162\" width=\"176px\" zoomAndPan=\"magnify\"><defs><filter height=\"300%\" id=\"f1cqvxpakgb1ak\" width=\"300%\" x=\"-1\" y=\"-1\"><feGaussianBlur result=\"blurOut\" stdDeviation=\"2.0\"/><feColorMatrix in=\"blurOut\" result=\"blurOut2\" type=\"matrix\" values=\"0 0 0 0 0 0 0 0 0 0 0 0 0 0 0 0 0 0 .4 0\"/><feOffset dx=\"4.0\" dy=\"4.0\" in=\"blurOut2\" result=\"blurOut3\"/><feBlend in=\"SourceGraphic\" in2=\"blurOut3\" mode=\"normal\"/></filter></defs><g><!--MD5=[fbc87193dbaf4d95561dea2c320d4a47]\n",
       "cluster E1--><a href=\"psysml:87bb354b-94c0-403b-b7cb-102c1c7ef37a\" target=\"_top\" title=\"psysml:87bb354b-94c0-403b-b7cb-102c1c7ef37a\" xlink:actuate=\"onRequest\" xlink:href=\"psysml:87bb354b-94c0-403b-b7cb-102c1c7ef37a\" xlink:show=\"new\" xlink:title=\"psysml:87bb354b-94c0-403b-b7cb-102c1c7ef37a\" xlink:type=\"simple\"><rect fill=\"#FFFFFF\" filter=\"url(#f1cqvxpakgb1ak)\" height=\"87.72\" id=\"E1\" style=\"stroke: #A80036; stroke-width: 1.5;\" width=\"150\" x=\"7\" y=\"42.0986\"/><rect fill=\"#FEFECE\" height=\"37.9375\" style=\"stroke: #A80036; stroke-width: 1.5;\" width=\"150\" x=\"7\" y=\"42.0986\"/><text fill=\"#000000\" font-family=\"sans-serif\" font-size=\"12\" font-style=\"italic\" lengthAdjust=\"spacingAndGlyphs\" textLength=\"110\" x=\"27\" y=\"58.2373\">«calculation  def»</text><text fill=\"#000000\" font-family=\"sans-serif\" font-size=\"12\" lengthAdjust=\"spacingAndGlyphs\" textLength=\"7\" x=\"78.5\" y=\"72.2061\">F</text></a><text fill=\"#000000\" font-family=\"sans-serif\" font-size=\"14\" lengthAdjust=\"spacingAndGlyphs\" textLength=\"9\" x=\"20.5\" y=\"20.7969\">p</text><rect fill=\"#A80036\" height=\"12\" style=\"stroke: #FEFECE; stroke-width: 1.5;\" width=\"12\" x=\"19\" y=\"36.0986\"/><text fill=\"#000000\" font-family=\"sans-serif\" font-size=\"14\" lengthAdjust=\"spacingAndGlyphs\" textLength=\"9\" x=\"67.5\" y=\"20.7969\">q</text><rect fill=\"#A80036\" height=\"12\" style=\"stroke: #FEFECE; stroke-width: 1.5;\" width=\"12\" x=\"66\" y=\"36.0986\"/><text fill=\"#000000\" font-family=\"sans-serif\" font-size=\"14\" lengthAdjust=\"spacingAndGlyphs\" textLength=\"39\" x=\"52.5\" y=\"148.8138\">result</text><rect fill=\"#A80036\" height=\"12\" style=\"stroke: #FEFECE; stroke-width: 1.5;\" width=\"12\" x=\"66\" y=\"123.8186\"/><!--MD5=[d6c2b382f2a08c177ac6c1cfbf3215de]\n",
       "@startuml\r\n",
       "skinparam ranksep 8\r\n",
       " \r\n",
       "rec def \"F\" as E1 << <<(B,lemonchiffon) calculation  def>> [[psysml:87bb354b-94c0-403b-b7cb-102c1c7ef37a ]] {\r\n",
       "portin \"p\" as E2  [[psysml:16f7e9d3-43d0-4287-8a70-cbe1c91459d8 ]] \r\n",
       "portin \"q\" as E3  [[psysml:b2699d44-082f-48d9-8fe4-b2b87d72af88 ]] \r\n",
       "portout \"result\" as E4  [[psysml:efe4aa1f-bd0b-42c7-877f-48fcbd913317 ]] \r\n",
       "}\r\n",
       "\r\n",
       "@enduml\r\n",
       "\n",
       "PlantUML version 1.2020.13(Sat Jun 13 12:26:38 UTC 2020)\n",
       "(EPL source distribution)\n",
       "Java Runtime: OpenJDK Runtime Environment\n",
       "JVM: OpenJDK 64-Bit Server VM\n",
       "Default Encoding: UTF-8\n",
       "Language: en\n",
       "Country: null\n",
       "--></g></svg>"
      ]
     },
     "execution_count": 34,
     "metadata": {},
     "output_type": "execute_result"
    }
   ],
   "source": [
    "%viz --style=\"PLANTUML\" --view=\"Action\" \"ParameterTest\""
   ]
  },
  {
   "cell_type": "code",
   "execution_count": 35,
   "id": "6fb82982",
   "metadata": {
    "execution": {
     "iopub.execute_input": "2021-11-13T12:59:16.761832Z",
     "iopub.status.busy": "2021-11-13T12:59:16.761436Z",
     "iopub.status.idle": "2021-11-13T12:59:16.766185Z",
     "shell.execute_reply": "2021-11-13T12:59:16.765860Z"
    }
   },
   "outputs": [
    {
     "data": {
      "image/svg+xml": [
       "<?xml version=\"1.0\" encoding=\"UTF-8\" standalone=\"no\"?><svg xmlns=\"http://www.w3.org/2000/svg\" xmlns:xlink=\"http://www.w3.org/1999/xlink\" contentScriptType=\"application/ecmascript\" contentStyleType=\"text/css\" height=\"12px\" preserveAspectRatio=\"none\" style=\"width:12px;height:12px;\" version=\"1.1\" viewBox=\"0 0 12 12\" width=\"12px\" zoomAndPan=\"magnify\"><defs/><g><!--MD5=[ca4faa0b02def275ea33c14ea7a1a98d]\n",
       "@startuml\r\n",
       "skinparam roundcorner 20\r\n",
       "skinparam BoxPadding 20\r\n",
       "skinparam SequenceBoxBackgroundColor #white\r\n",
       "skinparam style strictuml\r\n",
       "skinparam maxMessageSize 100\r\n",
       " \r\n",
       "@enduml\r\n",
       "\n",
       "PlantUML version 1.2020.13(Sat Jun 13 12:26:38 UTC 2020)\n",
       "(EPL source distribution)\n",
       "Java Runtime: OpenJDK Runtime Environment\n",
       "JVM: OpenJDK 64-Bit Server VM\n",
       "Default Encoding: UTF-8\n",
       "Language: en\n",
       "Country: null\n",
       "--></g></svg>"
      ]
     },
     "execution_count": 35,
     "metadata": {},
     "output_type": "execute_result"
    }
   ],
   "source": [
    "%viz --style=\"PLANTUML\" --view=\"Sequence\" \"ParameterTest\""
   ]
  },
  {
   "cell_type": "code",
   "execution_count": 36,
   "id": "53c73758",
   "metadata": {
    "execution": {
     "iopub.execute_input": "2021-11-13T12:59:16.815704Z",
     "iopub.status.busy": "2021-11-13T12:59:16.815311Z",
     "iopub.status.idle": "2021-11-13T12:59:16.868385Z",
     "shell.execute_reply": "2021-11-13T12:59:16.868040Z"
    }
   },
   "outputs": [
    {
     "data": {
      "image/svg+xml": [
       "<?xml version=\"1.0\" encoding=\"UTF-8\" standalone=\"no\"?><svg xmlns=\"http://www.w3.org/2000/svg\" xmlns:xlink=\"http://www.w3.org/1999/xlink\" contentScriptType=\"application/ecmascript\" contentStyleType=\"text/css\" height=\"403px\" preserveAspectRatio=\"none\" style=\"width:872px;height:403px;\" version=\"1.1\" viewBox=\"0 0 872 403\" width=\"872px\" zoomAndPan=\"magnify\"><defs><filter height=\"300%\" id=\"f1lnuxzq3n5xtb\" width=\"300%\" x=\"-1\" y=\"-1\"><feGaussianBlur result=\"blurOut\" stdDeviation=\"2.0\"/><feColorMatrix in=\"blurOut\" result=\"blurOut2\" type=\"matrix\" values=\"0 0 0 0 0 0 0 0 0 0 0 0 0 0 0 0 0 0 .4 0\"/><feOffset dx=\"4.0\" dy=\"4.0\" in=\"blurOut2\" result=\"blurOut3\"/><feBlend in=\"SourceGraphic\" in2=\"blurOut3\" mode=\"normal\"/></filter></defs><g><!--MD5=[fbc87193dbaf4d95561dea2c320d4a47]\n",
       "cluster E1--><a href=\"psysml:19b06251-fe6f-4e99-9afa-d6889eb7a18f\" target=\"_top\" title=\"psysml:19b06251-fe6f-4e99-9afa-d6889eb7a18f\" xlink:actuate=\"onRequest\" xlink:href=\"psysml:19b06251-fe6f-4e99-9afa-d6889eb7a18f\" xlink:show=\"new\" xlink:title=\"psysml:19b06251-fe6f-4e99-9afa-d6889eb7a18f\" xlink:type=\"simple\"><polygon fill=\"#FFFFFF\" filter=\"url(#f1lnuxzq3n5xtb)\" points=\"16,6,124,6,131,28.2969,850,28.2969,850,391.72,16,391.72,16,6\" style=\"stroke: #000000; stroke-width: 1.5;\"/><line style=\"stroke: #000000; stroke-width: 1.5;\" x1=\"16\" x2=\"131\" y1=\"28.2969\" y2=\"28.2969\"/><text fill=\"#000000\" font-family=\"sans-serif\" font-size=\"14\" font-weight=\"bold\" lengthAdjust=\"spacingAndGlyphs\" textLength=\"102\" x=\"20\" y=\"20.9951\">ParameterTest</text></a><!--MD5=[f6df4d0ebaf0b5dfb2ced0ae5af7c670]\n",
       "cluster E4--><a href=\"psysml:87bb354b-94c0-403b-b7cb-102c1c7ef37a\" target=\"_top\" title=\"psysml:87bb354b-94c0-403b-b7cb-102c1c7ef37a\" xlink:actuate=\"onRequest\" xlink:href=\"psysml:87bb354b-94c0-403b-b7cb-102c1c7ef37a\" xlink:show=\"new\" xlink:title=\"psysml:87bb354b-94c0-403b-b7cb-102c1c7ef37a\" xlink:type=\"simple\"><rect fill=\"#FFFFFF\" filter=\"url(#f1lnuxzq3n5xtb)\" height=\"297.72\" id=\"E4\" style=\"stroke: #A80036; stroke-width: 1.5;\" width=\"150\" x=\"684\" y=\"64\"/><rect fill=\"#FEFECE\" height=\"37.9375\" style=\"stroke: #A80036; stroke-width: 1.5;\" width=\"150\" x=\"684\" y=\"64\"/><text fill=\"#000000\" font-family=\"sans-serif\" font-size=\"12\" font-style=\"italic\" lengthAdjust=\"spacingAndGlyphs\" textLength=\"110\" x=\"704\" y=\"80.1387\">«calculation  def»</text><text fill=\"#000000\" font-family=\"sans-serif\" font-size=\"12\" lengthAdjust=\"spacingAndGlyphs\" textLength=\"7\" x=\"755.5\" y=\"94.1074\">F</text></a><!--MD5=[b4997ac47864f28c2f74865a473b2911]\n",
       "class E2--><a href=\"psysml:a687f627-404e-4522-a6e9-e30e4b3087b4\" target=\"_top\" title=\"psysml:a687f627-404e-4522-a6e9-e30e4b3087b4\" xlink:actuate=\"onRequest\" xlink:href=\"psysml:a687f627-404e-4522-a6e9-e30e4b3087b4\" xlink:show=\"new\" xlink:title=\"psysml:a687f627-404e-4522-a6e9-e30e4b3087b4\" xlink:type=\"simple\"><rect fill=\"#FEFECE\" filter=\"url(#f1lnuxzq3n5xtb)\" height=\"88.3516\" id=\"E2\" style=\"stroke: #A80036; stroke-width: 1.5;\" width=\"125\" x=\"520.5\" y=\"147\"/><ellipse cx=\"535.5\" cy=\"165.9688\" fill=\"#A52A2A\" rx=\"11\" ry=\"11\" style=\"stroke: #A80036; stroke-width: 1.0;\"/><path d=\"M532.7188,170.9688 L532.7188,160.375 L535.4531,160.375 Q536.8438,160.375 537.6094,160.7656 Q538.3906,161.1406 538.9219,161.8438 Q539.4531,162.5469 539.75,163.5469 Q540.0469,164.5313 540.0469,165.75 Q540,167.3438 539.5,168.5313 Q539.0156,169.7031 537.9688,170.3438 Q536.9375,170.9688 535.25,170.9688 L532.7188,170.9688 Z M534.5781,169.4688 L535.2031,169.4688 Q536.2813,169.4688 536.9375,169.0156 Q537.5938,168.5625 537.875,167.7344 Q538.1719,166.8906 538.1563,165.7656 Q538.1563,164.5938 537.9063,163.7344 Q537.6563,162.8594 537.0469,162.3906 Q536.4375,161.9063 535.3906,161.9063 L534.5781,161.9063 L534.5781,169.4688 Z \"/><text fill=\"#000000\" font-family=\"sans-serif\" font-size=\"12\" font-style=\"italic\" lengthAdjust=\"spacingAndGlyphs\" textLength=\"97\" x=\"547.5\" y=\"163.1387\">«attribute  def»</text><text fill=\"#000000\" font-family=\"sans-serif\" font-size=\"12\" lengthAdjust=\"spacingAndGlyphs\" textLength=\"8\" x=\"592\" y=\"177.1074\">A</text><line style=\"stroke: #A80036; stroke-width: 1.5;\" x1=\"521.5\" x2=\"644.5\" y1=\"184.9375\" y2=\"184.9375\"/><text fill=\"#000000\" font-family=\"sans-serif\" font-size=\"11\" lengthAdjust=\"spacingAndGlyphs\" textLength=\"48\" x=\"526.5\" y=\"215.9526\">x: String</text><text fill=\"#000000\" font-family=\"sans-serif\" font-size=\"11\" lengthAdjust=\"spacingAndGlyphs\" textLength=\"21\" x=\"526.5\" y=\"228.7573\">y: A</text><line style=\"stroke: #A80036; stroke-width: 1.0;\" x1=\"521.5\" x2=\"555.5\" y1=\"199.3398\" y2=\"199.3398\"/><text fill=\"#000000\" font-family=\"sans-serif\" font-size=\"11\" lengthAdjust=\"spacingAndGlyphs\" textLength=\"55\" x=\"555.5\" y=\"202.6479\">attributes</text><line style=\"stroke: #A80036; stroke-width: 1.0;\" x1=\"610.5\" x2=\"644.5\" y1=\"199.3398\" y2=\"199.3398\"/></a><!--MD5=[09b614a08d8cba4a07c9adeb5e0fee81]\n",
       "class E3--><a href=\"psysml:080a965c-bda9-42ef-b0e7-dadea2c4de7a\" target=\"_top\" title=\"psysml:080a965c-bda9-42ef-b0e7-dadea2c4de7a\" xlink:actuate=\"onRequest\" xlink:href=\"psysml:080a965c-bda9-42ef-b0e7-dadea2c4de7a\" xlink:show=\"new\" xlink:title=\"psysml:080a965c-bda9-42ef-b0e7-dadea2c4de7a\" xlink:type=\"simple\"><rect fill=\"#FEFECE\" filter=\"url(#f1lnuxzq3n5xtb)\" height=\"45.9375\" id=\"E3\" rx=\"10\" ry=\"10\" style=\"stroke: #A80036; stroke-width: 1.5;\" width=\"97\" x=\"559.5\" y=\"41\"/><ellipse cx=\"574.5\" cy=\"59.9688\" fill=\"#FFA500\" rx=\"11\" ry=\"11\" style=\"stroke: #A80036; stroke-width: 1.0;\"/><path d=\"M574.25,65.4375 Q572.5,65.4375 571.5469,64.4063 Q570.6094,63.3594 570.6094,61.5156 L570.6094,54.625 L572.6719,54.625 L572.6719,54.7813 Q572.5781,54.875 572.5469,55.0156 Q572.5313,55.1406 572.5313,55.4063 L572.5313,61.5313 Q572.5313,62.625 572.9063,63.25 Q573.2813,63.875 574.2656,63.875 Q575.25,63.875 575.6406,63.25 Q576.0313,62.625 576.0313,61.4844 L576.0313,54.625 L577.9063,54.625 L577.9063,61.4688 Q577.9063,63.5 576.875,64.4688 Q575.8594,65.4375 574.25,65.4375 Z \"/><text fill=\"#000000\" font-family=\"sans-serif\" font-size=\"12\" font-style=\"italic\" lengthAdjust=\"spacingAndGlyphs\" textLength=\"69\" x=\"586.5\" y=\"57.1387\">«attribute»</text><text fill=\"#000000\" font-family=\"sans-serif\" font-size=\"12\" lengthAdjust=\"spacingAndGlyphs\" textLength=\"24\" x=\"607\" y=\"71.1074\">a: A</text><line style=\"stroke: #A80036; stroke-width: 1.5;\" x1=\"560.5\" x2=\"655.5\" y1=\"78.9375\" y2=\"78.9375\"/></a><!--MD5=[b9389687b975829384b498ac4b7476b2]\n",
       "class E8--><a href=\"psysml:a95297bf-d64f-43ac-86b7-f9f55eba203a\" target=\"_top\" title=\"psysml:a95297bf-d64f-43ac-86b7-f9f55eba203a\" xlink:actuate=\"onRequest\" xlink:href=\"psysml:a95297bf-d64f-43ac-86b7-f9f55eba203a\" xlink:show=\"new\" xlink:title=\"psysml:a95297bf-d64f-43ac-86b7-f9f55eba203a\" xlink:type=\"simple\"><rect fill=\"#FEFECE\" filter=\"url(#f1lnuxzq3n5xtb)\" height=\"45.9375\" id=\"E8\" rx=\"10\" ry=\"10\" style=\"stroke: #A80036; stroke-width: 1.5;\" width=\"97\" x=\"427.5\" y=\"41\"/><ellipse cx=\"442.5\" cy=\"59.9688\" fill=\"#FFA500\" rx=\"11\" ry=\"11\" style=\"stroke: #A80036; stroke-width: 1.0;\"/><path d=\"M442.25,65.4375 Q440.5,65.4375 439.5469,64.4063 Q438.6094,63.3594 438.6094,61.5156 L438.6094,54.625 L440.6719,54.625 L440.6719,54.7813 Q440.5781,54.875 440.5469,55.0156 Q440.5313,55.1406 440.5313,55.4063 L440.5313,61.5313 Q440.5313,62.625 440.9063,63.25 Q441.2813,63.875 442.2656,63.875 Q443.25,63.875 443.6406,63.25 Q444.0313,62.625 444.0313,61.4844 L444.0313,54.625 L445.9063,54.625 L445.9063,61.4688 Q445.9063,63.5 444.875,64.4688 Q443.8594,65.4375 442.25,65.4375 Z \"/><text fill=\"#000000\" font-family=\"sans-serif\" font-size=\"12\" font-style=\"italic\" lengthAdjust=\"spacingAndGlyphs\" textLength=\"69\" x=\"454.5\" y=\"57.1387\">«attribute»</text><text fill=\"#000000\" font-family=\"sans-serif\" font-size=\"12\" lengthAdjust=\"spacingAndGlyphs\" textLength=\"4\" x=\"487\" y=\"71.1074\">f</text><line style=\"stroke: #A80036; stroke-width: 1.5;\" x1=\"428.5\" x2=\"523.5\" y1=\"78.9375\" y2=\"78.9375\"/></a><!--MD5=[fd4143e9d270a159db93a4ea2a975926]\n",
       "class E9--><a href=\"psysml:778a48ec-a539-4294-8634-0d41b068db9f\" target=\"_top\" title=\"psysml:778a48ec-a539-4294-8634-0d41b068db9f\" xlink:actuate=\"onRequest\" xlink:href=\"psysml:778a48ec-a539-4294-8634-0d41b068db9f\" xlink:show=\"new\" xlink:title=\"psysml:778a48ec-a539-4294-8634-0d41b068db9f\" xlink:type=\"simple\"><rect fill=\"#FEFECE\" filter=\"url(#f1lnuxzq3n5xtb)\" height=\"45.9375\" id=\"E9\" rx=\"10\" ry=\"10\" style=\"stroke: #A80036; stroke-width: 1.5;\" width=\"97\" x=\"295.5\" y=\"41\"/><ellipse cx=\"310.5\" cy=\"59.9688\" fill=\"#FFA500\" rx=\"11\" ry=\"11\" style=\"stroke: #A80036; stroke-width: 1.0;\"/><path d=\"M310.25,65.4375 Q308.5,65.4375 307.5469,64.4063 Q306.6094,63.3594 306.6094,61.5156 L306.6094,54.625 L308.6719,54.625 L308.6719,54.7813 Q308.5781,54.875 308.5469,55.0156 Q308.5313,55.1406 308.5313,55.4063 L308.5313,61.5313 Q308.5313,62.625 308.9063,63.25 Q309.2813,63.875 310.2656,63.875 Q311.25,63.875 311.6406,63.25 Q312.0313,62.625 312.0313,61.4844 L312.0313,54.625 L313.9063,54.625 L313.9063,61.4688 Q313.9063,63.5 312.875,64.4688 Q311.8594,65.4375 310.25,65.4375 Z \"/><text fill=\"#000000\" font-family=\"sans-serif\" font-size=\"12\" font-style=\"italic\" lengthAdjust=\"spacingAndGlyphs\" textLength=\"69\" x=\"322.5\" y=\"57.1387\">«attribute»</text><text fill=\"#000000\" font-family=\"sans-serif\" font-size=\"12\" lengthAdjust=\"spacingAndGlyphs\" textLength=\"8\" x=\"353\" y=\"71.1074\">g</text><line style=\"stroke: #A80036; stroke-width: 1.5;\" x1=\"296.5\" x2=\"391.5\" y1=\"78.9375\" y2=\"78.9375\"/></a><!--MD5=[96f4274e9e20536e775497830990834d]\n",
       "class E10--><a href=\"psysml:178fd1be-66b7-4b93-9f69-0783143b2542\" target=\"_top\" title=\"psysml:178fd1be-66b7-4b93-9f69-0783143b2542\" xlink:actuate=\"onRequest\" xlink:href=\"psysml:178fd1be-66b7-4b93-9f69-0783143b2542\" xlink:show=\"new\" xlink:title=\"psysml:178fd1be-66b7-4b93-9f69-0783143b2542\" xlink:type=\"simple\"><rect fill=\"#FEFECE\" filter=\"url(#f1lnuxzq3n5xtb)\" height=\"45.9375\" id=\"E10\" rx=\"10\" ry=\"10\" style=\"stroke: #A80036; stroke-width: 1.5;\" width=\"97\" x=\"163.5\" y=\"41\"/><ellipse cx=\"178.5\" cy=\"59.9688\" fill=\"#FFA500\" rx=\"11\" ry=\"11\" style=\"stroke: #A80036; stroke-width: 1.0;\"/><path d=\"M178.25,65.4375 Q176.5,65.4375 175.5469,64.4063 Q174.6094,63.3594 174.6094,61.5156 L174.6094,54.625 L176.6719,54.625 L176.6719,54.7813 Q176.5781,54.875 176.5469,55.0156 Q176.5313,55.1406 176.5313,55.4063 L176.5313,61.5313 Q176.5313,62.625 176.9063,63.25 Q177.2813,63.875 178.2656,63.875 Q179.25,63.875 179.6406,63.25 Q180.0313,62.625 180.0313,61.4844 L180.0313,54.625 L181.9063,54.625 L181.9063,61.4688 Q181.9063,63.5 180.875,64.4688 Q179.8594,65.4375 178.25,65.4375 Z \"/><text fill=\"#000000\" font-family=\"sans-serif\" font-size=\"12\" font-style=\"italic\" lengthAdjust=\"spacingAndGlyphs\" textLength=\"69\" x=\"190.5\" y=\"57.1387\">«attribute»</text><text fill=\"#000000\" font-family=\"sans-serif\" font-size=\"12\" lengthAdjust=\"spacingAndGlyphs\" textLength=\"8\" x=\"221\" y=\"71.1074\">b</text><line style=\"stroke: #A80036; stroke-width: 1.5;\" x1=\"164.5\" x2=\"259.5\" y1=\"78.9375\" y2=\"78.9375\"/></a><!--MD5=[1dd1bfd58a279cf63c5f349dbc8fc6a1]\n",
       "class E11--><a href=\"psysml:ce14b558-47dc-4a37-8f10-4afbd6cf7826\" target=\"_top\" title=\"psysml:ce14b558-47dc-4a37-8f10-4afbd6cf7826\" xlink:actuate=\"onRequest\" xlink:href=\"psysml:ce14b558-47dc-4a37-8f10-4afbd6cf7826\" xlink:show=\"new\" xlink:title=\"psysml:ce14b558-47dc-4a37-8f10-4afbd6cf7826\" xlink:type=\"simple\"><rect fill=\"#FEFECE\" filter=\"url(#f1lnuxzq3n5xtb)\" height=\"45.9375\" id=\"E11\" rx=\"10\" ry=\"10\" style=\"stroke: #A80036; stroke-width: 1.5;\" width=\"97\" x=\"31.5\" y=\"41\"/><ellipse cx=\"46.5\" cy=\"59.9688\" fill=\"#FFA500\" rx=\"11\" ry=\"11\" style=\"stroke: #A80036; stroke-width: 1.0;\"/><path d=\"M46.25,65.4375 Q44.5,65.4375 43.5469,64.4063 Q42.6094,63.3594 42.6094,61.5156 L42.6094,54.625 L44.6719,54.625 L44.6719,54.7813 Q44.5781,54.875 44.5469,55.0156 Q44.5313,55.1406 44.5313,55.4063 L44.5313,61.5313 Q44.5313,62.625 44.9063,63.25 Q45.2813,63.875 46.2656,63.875 Q47.25,63.875 47.6406,63.25 Q48.0313,62.625 48.0313,61.4844 L48.0313,54.625 L49.9063,54.625 L49.9063,61.4688 Q49.9063,63.5 48.875,64.4688 Q47.8594,65.4375 46.25,65.4375 Z \"/><text fill=\"#000000\" font-family=\"sans-serif\" font-size=\"12\" font-style=\"italic\" lengthAdjust=\"spacingAndGlyphs\" textLength=\"69\" x=\"58.5\" y=\"57.1387\">«attribute»</text><text fill=\"#000000\" font-family=\"sans-serif\" font-size=\"12\" lengthAdjust=\"spacingAndGlyphs\" textLength=\"7\" x=\"89.5\" y=\"71.1074\">c</text><line style=\"stroke: #A80036; stroke-width: 1.5;\" x1=\"32.5\" x2=\"127.5\" y1=\"78.9375\" y2=\"78.9375\"/></a><text fill=\"#000000\" font-family=\"sans-serif\" font-size=\"14\" lengthAdjust=\"spacingAndGlyphs\" textLength=\"9\" x=\"697.5\" y=\"42.6982\">p</text><rect fill=\"#A80036\" height=\"12\" style=\"stroke: #FEFECE; stroke-width: 1.5;\" width=\"12\" x=\"696\" y=\"58\"/><text fill=\"#000000\" font-family=\"sans-serif\" font-size=\"14\" lengthAdjust=\"spacingAndGlyphs\" textLength=\"9\" x=\"744.5\" y=\"42.6982\">q</text><rect fill=\"#A80036\" height=\"12\" style=\"stroke: #FEFECE; stroke-width: 1.5;\" width=\"12\" x=\"743\" y=\"58\"/><text fill=\"#000000\" font-family=\"sans-serif\" font-size=\"14\" lengthAdjust=\"spacingAndGlyphs\" textLength=\"39\" x=\"729.5\" y=\"380.7151\">result</text><rect fill=\"#A80036\" height=\"12\" style=\"stroke: #FEFECE; stroke-width: 1.5;\" width=\"12\" x=\"743\" y=\"355.72\"/><!--MD5=[05d275557350bfb9b23a4ef7222b4c39]\n",
       "link E3 to E2--><a href=\"psysml:f36357d4-9dbb-46b9-9535-0d41e0b85630\" target=\"_top\" title=\"psysml:f36357d4-9dbb-46b9-9535-0d41e0b85630\" xlink:actuate=\"onRequest\" xlink:href=\"psysml:f36357d4-9dbb-46b9-9535-0d41e0b85630\" xlink:show=\"new\" xlink:title=\"psysml:f36357d4-9dbb-46b9-9535-0d41e0b85630\" xlink:type=\"simple\"><path d=\"M603.59,87.06 C601.34,98.3 598.48,112.6 595.61,126.95 \" fill=\"none\" id=\"E3-&gt;E2\" style=\"stroke: #A80036; stroke-width: 1.0;\"/><polygon fill=\"#FFFFFF\" points=\"591.61,146.93,588.4637,126.9275,602.193,129.6673,591.61,146.93\" style=\"stroke: #A80036; stroke-width: 1.0;\"/><ellipse cx=\"591.5406\" cy=\"121.7291\" fill=\"#A80036\" rx=\"2\" ry=\"2\" style=\"stroke: #A80036; stroke-width: 1.0;\"/><ellipse cx=\"601.3472\" cy=\"123.6861\" fill=\"#A80036\" rx=\"2\" ry=\"2\" style=\"stroke: #A80036; stroke-width: 1.0;\"/></a><!--MD5=[3c1aa05e3a2a55b19a0acf605845495f]\n",
       "@startuml\r\n",
       " \r\n",
       "package \"ParameterTest\" as E1  [[psysml:19b06251-fe6f-4e99-9afa-d6889eb7a18f ]]  {\r\n",
       "comp def \"A\" as E2 << <<(D,brown) attribute  def>> [[psysml:a687f627-404e-4522-a6e9-e30e4b3087b4 ]] {\r\n",
       "- - attributes - -\r\n",
       "x: String\r\n",
       "y: A\r\n",
       "}\r\n",
       "comp usage \"a: A \" as E3 << <<(U,orange) attribute>> [[psysml:080a965c-bda9-42ef-b0e7-dadea2c4de7a ]] {\r\n",
       "}\r\n",
       "rec def \"F\" as E4 << <<(B,lemonchiffon) calculation  def>> [[psysml:87bb354b-94c0-403b-b7cb-102c1c7ef37a ]] {\r\n",
       "portin \"p\" as E5  [[psysml:16f7e9d3-43d0-4287-8a70-cbe1c91459d8 ]] \r\n",
       "portin \"q\" as E6  [[psysml:b2699d44-082f-48d9-8fe4-b2b87d72af88 ]] \r\n",
       "portout \"result\" as E7  [[psysml:efe4aa1f-bd0b-42c7-877f-48fcbd913317 ]] \r\n",
       "}\r\n",
       "\r\n",
       "comp usage \"f\" as E8 << <<(U,orange) attribute>> [[psysml:a95297bf-d64f-43ac-86b7-f9f55eba203a ]] {\r\n",
       "}\r\n",
       "comp usage \"g\" as E9 << <<(U,orange) attribute>> [[psysml:778a48ec-a539-4294-8634-0d41b068db9f ]] {\r\n",
       "}\r\n",
       "comp usage \"b\" as E10 << <<(U,orange) attribute>> [[psysml:178fd1be-66b7-4b93-9f69-0783143b2542 ]] {\r\n",
       "}\r\n",
       "comp usage \"c\" as E11 << <<(U,orange) attribute>> [[psysml:ce14b558-47dc-4a37-8f10-4afbd6cf7826 ]] {\r\n",
       "}\r\n",
       "}\r\n",
       "E3 - -:|> E2 [[psysml:f36357d4-9dbb-46b9-9535-0d41e0b85630 ]] \r\n",
       "@enduml\r\n",
       "\n",
       "PlantUML version 1.2020.13(Sat Jun 13 12:26:38 UTC 2020)\n",
       "(EPL source distribution)\n",
       "Java Runtime: OpenJDK Runtime Environment\n",
       "JVM: OpenJDK 64-Bit Server VM\n",
       "Default Encoding: UTF-8\n",
       "Language: en\n",
       "Country: null\n",
       "--></g></svg>"
      ]
     },
     "execution_count": 36,
     "metadata": {},
     "output_type": "execute_result"
    }
   ],
   "source": [
    "%viz --style=\"PLANTUML\" --view=\"MIXED\" \"ParameterTest\""
   ]
  },
  {
   "cell_type": "code",
   "execution_count": 37,
   "id": "a8e5328f",
   "metadata": {
    "execution": {
     "iopub.execute_input": "2021-11-13T12:59:16.917346Z",
     "iopub.status.busy": "2021-11-13T12:59:16.916888Z",
     "iopub.status.idle": "2021-11-13T12:59:16.976505Z",
     "shell.execute_reply": "2021-11-13T12:59:16.976138Z"
    }
   },
   "outputs": [
    {
     "data": {
      "image/svg+xml": [
       "<?xml version=\"1.0\" encoding=\"UTF-8\" standalone=\"no\"?><svg xmlns=\"http://www.w3.org/2000/svg\" xmlns:xlink=\"http://www.w3.org/1999/xlink\" contentScriptType=\"application/ecmascript\" contentStyleType=\"text/css\" height=\"403px\" preserveAspectRatio=\"none\" style=\"width:744px;height:403px;\" version=\"1.1\" viewBox=\"0 0 744 403\" width=\"744px\" zoomAndPan=\"magnify\"><defs/><g><!--MD5=[fbc87193dbaf4d95561dea2c320d4a47]\n",
       "cluster E1--><a href=\"psysml:19b06251-fe6f-4e99-9afa-d6889eb7a18f\" target=\"_top\" title=\"psysml:19b06251-fe6f-4e99-9afa-d6889eb7a18f\" xlink:actuate=\"onRequest\" xlink:href=\"psysml:19b06251-fe6f-4e99-9afa-d6889eb7a18f\" xlink:show=\"new\" xlink:title=\"psysml:19b06251-fe6f-4e99-9afa-d6889eb7a18f\" xlink:type=\"simple\"><polygon fill=\"#FFFFFF\" points=\"16,6,124,6,131,28.2969,722,28.2969,722,391.72,16,391.72,16,6\" style=\"stroke: #000000; stroke-width: 1.5;\"/><line style=\"stroke: #000000; stroke-width: 1.5;\" x1=\"16\" x2=\"131\" y1=\"28.2969\" y2=\"28.2969\"/><text fill=\"#000000\" font-family=\"sans-serif\" font-size=\"14\" font-weight=\"bold\" lengthAdjust=\"spacingAndGlyphs\" textLength=\"102\" x=\"20\" y=\"20.9951\">ParameterTest</text></a><!--MD5=[f6df4d0ebaf0b5dfb2ced0ae5af7c670]\n",
       "cluster E4--><a href=\"psysml:87bb354b-94c0-403b-b7cb-102c1c7ef37a\" target=\"_top\" title=\"psysml:87bb354b-94c0-403b-b7cb-102c1c7ef37a\" xlink:actuate=\"onRequest\" xlink:href=\"psysml:87bb354b-94c0-403b-b7cb-102c1c7ef37a\" xlink:show=\"new\" xlink:title=\"psysml:87bb354b-94c0-403b-b7cb-102c1c7ef37a\" xlink:type=\"simple\"><rect fill=\"#FFFFFF\" height=\"297.72\" id=\"E4\" style=\"stroke: #383838; stroke-width: 1.5;\" width=\"150\" x=\"556\" y=\"64\"/><rect fill=\"#F8F8F8\" height=\"37.9375\" style=\"stroke: #383838; stroke-width: 1.5;\" width=\"150\" x=\"556\" y=\"64\"/><text fill=\"#000000\" font-family=\"sans-serif\" font-size=\"12\" font-style=\"italic\" lengthAdjust=\"spacingAndGlyphs\" textLength=\"110\" x=\"576\" y=\"80.1387\">«calculation  def»</text><text fill=\"#000000\" font-family=\"sans-serif\" font-size=\"12\" lengthAdjust=\"spacingAndGlyphs\" textLength=\"7\" x=\"627.5\" y=\"94.1074\">F</text></a><!--MD5=[b4997ac47864f28c2f74865a473b2911]\n",
       "class E2--><a href=\"psysml:a687f627-404e-4522-a6e9-e30e4b3087b4\" target=\"_top\" title=\"psysml:a687f627-404e-4522-a6e9-e30e4b3087b4\" xlink:actuate=\"onRequest\" xlink:href=\"psysml:a687f627-404e-4522-a6e9-e30e4b3087b4\" xlink:show=\"new\" xlink:title=\"psysml:a687f627-404e-4522-a6e9-e30e4b3087b4\" xlink:type=\"simple\"><rect fill=\"#FFFFFF\" height=\"88.3516\" id=\"E2\" style=\"stroke: #383838; stroke-width: 1.5;\" width=\"99\" x=\"418.5\" y=\"147\"/><text fill=\"#000000\" font-family=\"sans-serif\" font-size=\"12\" font-style=\"italic\" lengthAdjust=\"spacingAndGlyphs\" textLength=\"97\" x=\"419.5\" y=\"163.1387\">«attribute  def»</text><text fill=\"#000000\" font-family=\"sans-serif\" font-size=\"12\" lengthAdjust=\"spacingAndGlyphs\" textLength=\"8\" x=\"464\" y=\"177.1074\">A</text><line style=\"stroke: #383838; stroke-width: 1.5;\" x1=\"419.5\" x2=\"516.5\" y1=\"184.9375\" y2=\"184.9375\"/><text fill=\"#000000\" font-family=\"sans-serif\" font-size=\"11\" lengthAdjust=\"spacingAndGlyphs\" textLength=\"48\" x=\"424.5\" y=\"215.9526\">x: String</text><text fill=\"#000000\" font-family=\"sans-serif\" font-size=\"11\" lengthAdjust=\"spacingAndGlyphs\" textLength=\"21\" x=\"424.5\" y=\"228.7573\">y: A</text><line style=\"stroke: #383838; stroke-width: 1.0;\" x1=\"419.5\" x2=\"440.5\" y1=\"199.3398\" y2=\"199.3398\"/><text fill=\"#000000\" font-family=\"sans-serif\" font-size=\"11\" lengthAdjust=\"spacingAndGlyphs\" textLength=\"55\" x=\"440.5\" y=\"202.6479\">attributes</text><line style=\"stroke: #383838; stroke-width: 1.0;\" x1=\"495.5\" x2=\"516.5\" y1=\"199.3398\" y2=\"199.3398\"/></a><!--MD5=[09b614a08d8cba4a07c9adeb5e0fee81]\n",
       "class E3--><a href=\"psysml:080a965c-bda9-42ef-b0e7-dadea2c4de7a\" target=\"_top\" title=\"psysml:080a965c-bda9-42ef-b0e7-dadea2c4de7a\" xlink:actuate=\"onRequest\" xlink:href=\"psysml:080a965c-bda9-42ef-b0e7-dadea2c4de7a\" xlink:show=\"new\" xlink:title=\"psysml:080a965c-bda9-42ef-b0e7-dadea2c4de7a\" xlink:type=\"simple\"><rect fill=\"#FFFFFF\" height=\"45.9375\" id=\"E3\" rx=\"10\" ry=\"10\" style=\"stroke: #383838; stroke-width: 1.5;\" width=\"71\" x=\"456.5\" y=\"41\"/><text fill=\"#000000\" font-family=\"sans-serif\" font-size=\"12\" font-style=\"italic\" lengthAdjust=\"spacingAndGlyphs\" textLength=\"69\" x=\"457.5\" y=\"57.1387\">«attribute»</text><text fill=\"#000000\" font-family=\"sans-serif\" font-size=\"12\" lengthAdjust=\"spacingAndGlyphs\" textLength=\"24\" x=\"478\" y=\"71.1074\">a: A</text><line style=\"stroke: #383838; stroke-width: 1.5;\" x1=\"457.5\" x2=\"526.5\" y1=\"78.9375\" y2=\"78.9375\"/></a><!--MD5=[b9389687b975829384b498ac4b7476b2]\n",
       "class E8--><a href=\"psysml:a95297bf-d64f-43ac-86b7-f9f55eba203a\" target=\"_top\" title=\"psysml:a95297bf-d64f-43ac-86b7-f9f55eba203a\" xlink:actuate=\"onRequest\" xlink:href=\"psysml:a95297bf-d64f-43ac-86b7-f9f55eba203a\" xlink:show=\"new\" xlink:title=\"psysml:a95297bf-d64f-43ac-86b7-f9f55eba203a\" xlink:type=\"simple\"><rect fill=\"#FFFFFF\" height=\"45.9375\" id=\"E8\" rx=\"10\" ry=\"10\" style=\"stroke: #383838; stroke-width: 1.5;\" width=\"71\" x=\"350.5\" y=\"41\"/><text fill=\"#000000\" font-family=\"sans-serif\" font-size=\"12\" font-style=\"italic\" lengthAdjust=\"spacingAndGlyphs\" textLength=\"69\" x=\"351.5\" y=\"57.1387\">«attribute»</text><text fill=\"#000000\" font-family=\"sans-serif\" font-size=\"12\" lengthAdjust=\"spacingAndGlyphs\" textLength=\"4\" x=\"384\" y=\"71.1074\">f</text><line style=\"stroke: #383838; stroke-width: 1.5;\" x1=\"351.5\" x2=\"420.5\" y1=\"78.9375\" y2=\"78.9375\"/></a><!--MD5=[fd4143e9d270a159db93a4ea2a975926]\n",
       "class E9--><a href=\"psysml:778a48ec-a539-4294-8634-0d41b068db9f\" target=\"_top\" title=\"psysml:778a48ec-a539-4294-8634-0d41b068db9f\" xlink:actuate=\"onRequest\" xlink:href=\"psysml:778a48ec-a539-4294-8634-0d41b068db9f\" xlink:show=\"new\" xlink:title=\"psysml:778a48ec-a539-4294-8634-0d41b068db9f\" xlink:type=\"simple\"><rect fill=\"#FFFFFF\" height=\"45.9375\" id=\"E9\" rx=\"10\" ry=\"10\" style=\"stroke: #383838; stroke-width: 1.5;\" width=\"71\" x=\"244.5\" y=\"41\"/><text fill=\"#000000\" font-family=\"sans-serif\" font-size=\"12\" font-style=\"italic\" lengthAdjust=\"spacingAndGlyphs\" textLength=\"69\" x=\"245.5\" y=\"57.1387\">«attribute»</text><text fill=\"#000000\" font-family=\"sans-serif\" font-size=\"12\" lengthAdjust=\"spacingAndGlyphs\" textLength=\"8\" x=\"276\" y=\"71.1074\">g</text><line style=\"stroke: #383838; stroke-width: 1.5;\" x1=\"245.5\" x2=\"314.5\" y1=\"78.9375\" y2=\"78.9375\"/></a><!--MD5=[96f4274e9e20536e775497830990834d]\n",
       "class E10--><a href=\"psysml:178fd1be-66b7-4b93-9f69-0783143b2542\" target=\"_top\" title=\"psysml:178fd1be-66b7-4b93-9f69-0783143b2542\" xlink:actuate=\"onRequest\" xlink:href=\"psysml:178fd1be-66b7-4b93-9f69-0783143b2542\" xlink:show=\"new\" xlink:title=\"psysml:178fd1be-66b7-4b93-9f69-0783143b2542\" xlink:type=\"simple\"><rect fill=\"#FFFFFF\" height=\"45.9375\" id=\"E10\" rx=\"10\" ry=\"10\" style=\"stroke: #383838; stroke-width: 1.5;\" width=\"71\" x=\"138.5\" y=\"41\"/><text fill=\"#000000\" font-family=\"sans-serif\" font-size=\"12\" font-style=\"italic\" lengthAdjust=\"spacingAndGlyphs\" textLength=\"69\" x=\"139.5\" y=\"57.1387\">«attribute»</text><text fill=\"#000000\" font-family=\"sans-serif\" font-size=\"12\" lengthAdjust=\"spacingAndGlyphs\" textLength=\"8\" x=\"170\" y=\"71.1074\">b</text><line style=\"stroke: #383838; stroke-width: 1.5;\" x1=\"139.5\" x2=\"208.5\" y1=\"78.9375\" y2=\"78.9375\"/></a><!--MD5=[1dd1bfd58a279cf63c5f349dbc8fc6a1]\n",
       "class E11--><a href=\"psysml:ce14b558-47dc-4a37-8f10-4afbd6cf7826\" target=\"_top\" title=\"psysml:ce14b558-47dc-4a37-8f10-4afbd6cf7826\" xlink:actuate=\"onRequest\" xlink:href=\"psysml:ce14b558-47dc-4a37-8f10-4afbd6cf7826\" xlink:show=\"new\" xlink:title=\"psysml:ce14b558-47dc-4a37-8f10-4afbd6cf7826\" xlink:type=\"simple\"><rect fill=\"#FFFFFF\" height=\"45.9375\" id=\"E11\" rx=\"10\" ry=\"10\" style=\"stroke: #383838; stroke-width: 1.5;\" width=\"71\" x=\"32.5\" y=\"41\"/><text fill=\"#000000\" font-family=\"sans-serif\" font-size=\"12\" font-style=\"italic\" lengthAdjust=\"spacingAndGlyphs\" textLength=\"69\" x=\"33.5\" y=\"57.1387\">«attribute»</text><text fill=\"#000000\" font-family=\"sans-serif\" font-size=\"12\" lengthAdjust=\"spacingAndGlyphs\" textLength=\"7\" x=\"64.5\" y=\"71.1074\">c</text><line style=\"stroke: #383838; stroke-width: 1.5;\" x1=\"33.5\" x2=\"102.5\" y1=\"78.9375\" y2=\"78.9375\"/></a><text fill=\"#000000\" font-family=\"sans-serif\" font-size=\"14\" lengthAdjust=\"spacingAndGlyphs\" textLength=\"9\" x=\"569.5\" y=\"42.6982\">p</text><rect fill=\"#383838\" height=\"12\" style=\"stroke: #F8F8F8; stroke-width: 1.5;\" width=\"12\" x=\"568\" y=\"58\"/><text fill=\"#000000\" font-family=\"sans-serif\" font-size=\"14\" lengthAdjust=\"spacingAndGlyphs\" textLength=\"9\" x=\"616.5\" y=\"42.6982\">q</text><rect fill=\"#383838\" height=\"12\" style=\"stroke: #F8F8F8; stroke-width: 1.5;\" width=\"12\" x=\"615\" y=\"58\"/><text fill=\"#000000\" font-family=\"sans-serif\" font-size=\"14\" lengthAdjust=\"spacingAndGlyphs\" textLength=\"39\" x=\"601.5\" y=\"380.7151\">result</text><rect fill=\"#383838\" height=\"12\" style=\"stroke: #F8F8F8; stroke-width: 1.5;\" width=\"12\" x=\"615\" y=\"355.72\"/><!--MD5=[05d275557350bfb9b23a4ef7222b4c39]\n",
       "link E3 to E2--><a href=\"psysml:f36357d4-9dbb-46b9-9535-0d41e0b85630\" target=\"_top\" title=\"psysml:f36357d4-9dbb-46b9-9535-0d41e0b85630\" xlink:actuate=\"onRequest\" xlink:href=\"psysml:f36357d4-9dbb-46b9-9535-0d41e0b85630\" xlink:show=\"new\" xlink:title=\"psysml:f36357d4-9dbb-46b9-9535-0d41e0b85630\" xlink:type=\"simple\"><path d=\"M487.76,87.06 C485.61,98.3 482.86,112.6 480.11,126.95 \" fill=\"none\" id=\"E3-&gt;E2\" style=\"stroke: #383838; stroke-width: 1.0;\"/><polygon fill=\"#FFFFFF\" points=\"476.27,146.93,472.9781,126.9509,486.727,129.5907,476.27,146.93\" style=\"stroke: #383838; stroke-width: 1.0;\"/><ellipse cx=\"476.017\" cy=\"121.7303\" fill=\"#383838\" rx=\"2\" ry=\"2\" style=\"stroke: #383838; stroke-width: 1.0;\"/><ellipse cx=\"485.8376\" cy=\"123.6158\" fill=\"#383838\" rx=\"2\" ry=\"2\" style=\"stroke: #383838; stroke-width: 1.0;\"/></a><!--MD5=[8608b3e4c6635b7a39da41809338ace5]\n",
       "@startuml\r\n",
       "skinparam monochrome true\r\n",
       "skinparam classbackgroundcolor white\r\n",
       "skinparam shadowing false\r\n",
       "skinparam wrapWidth 300\r\n",
       "hide circle\r\n",
       "\r\n",
       "package \"ParameterTest\" as E1  [[psysml:19b06251-fe6f-4e99-9afa-d6889eb7a18f ]]  {\r\n",
       "comp def \"A\" as E2  <<(T,blue) attribute  def>> [[psysml:a687f627-404e-4522-a6e9-e30e4b3087b4 ]] {\r\n",
       "- - attributes - -\r\n",
       "x: String\r\n",
       "y: A\r\n",
       "}\r\n",
       "comp usage \"a: A \" as E3  <<(T,blue) attribute>> [[psysml:080a965c-bda9-42ef-b0e7-dadea2c4de7a ]] {\r\n",
       "}\r\n",
       "rec def \"F\" as E4  <<(T,blue) calculation  def>> [[psysml:87bb354b-94c0-403b-b7cb-102c1c7ef37a ]] {\r\n",
       "portin \"p\" as E5  [[psysml:16f7e9d3-43d0-4287-8a70-cbe1c91459d8 ]] \r\n",
       "portin \"q\" as E6  [[psysml:b2699d44-082f-48d9-8fe4-b2b87d72af88 ]] \r\n",
       "portout \"result\" as E7  [[psysml:efe4aa1f-bd0b-42c7-877f-48fcbd913317 ]] \r\n",
       "}\r\n",
       "\r\n",
       "comp usage \"f\" as E8  <<(T,blue) attribute>> [[psysml:a95297bf-d64f-43ac-86b7-f9f55eba203a ]] {\r\n",
       "}\r\n",
       "comp usage \"g\" as E9  <<(T,blue) attribute>> [[psysml:778a48ec-a539-4294-8634-0d41b068db9f ]] {\r\n",
       "}\r\n",
       "comp usage \"b\" as E10  <<(T,blue) attribute>> [[psysml:178fd1be-66b7-4b93-9f69-0783143b2542 ]] {\r\n",
       "}\r\n",
       "comp usage \"c\" as E11  <<(T,blue) attribute>> [[psysml:ce14b558-47dc-4a37-8f10-4afbd6cf7826 ]] {\r\n",
       "}\r\n",
       "}\r\n",
       "E3 - -:|> E2 [[psysml:f36357d4-9dbb-46b9-9535-0d41e0b85630 ]] \r\n",
       "@enduml\r\n",
       "\n",
       "PlantUML version 1.2020.13(Sat Jun 13 12:26:38 UTC 2020)\n",
       "(EPL source distribution)\n",
       "Java Runtime: OpenJDK Runtime Environment\n",
       "JVM: OpenJDK 64-Bit Server VM\n",
       "Default Encoding: UTF-8\n",
       "Language: en\n",
       "Country: null\n",
       "--></g></svg>"
      ]
     },
     "execution_count": 37,
     "metadata": {},
     "output_type": "execute_result"
    }
   ],
   "source": [
    "%viz --style=\"DEFAULT\" --view=\"Default\" \"ParameterTest\""
   ]
  },
  {
   "cell_type": "code",
   "execution_count": 38,
   "id": "e5dee059",
   "metadata": {
    "execution": {
     "iopub.execute_input": "2021-11-13T12:59:17.025388Z",
     "iopub.status.busy": "2021-11-13T12:59:17.024992Z",
     "iopub.status.idle": "2021-11-13T12:59:17.081960Z",
     "shell.execute_reply": "2021-11-13T12:59:17.080210Z"
    }
   },
   "outputs": [
    {
     "data": {
      "image/svg+xml": [
       "<?xml version=\"1.0\" encoding=\"UTF-8\" standalone=\"no\"?><svg xmlns=\"http://www.w3.org/2000/svg\" xmlns:xlink=\"http://www.w3.org/1999/xlink\" contentScriptType=\"application/ecmascript\" contentStyleType=\"text/css\" height=\"322px\" preserveAspectRatio=\"none\" style=\"width:714px;height:322px;\" version=\"1.1\" viewBox=\"0 0 714 322\" width=\"714px\" zoomAndPan=\"magnify\"><defs/><g><!--MD5=[fbc87193dbaf4d95561dea2c320d4a47]\n",
       "cluster E1--><a href=\"psysml:19b06251-fe6f-4e99-9afa-d6889eb7a18f\" target=\"_top\" title=\"psysml:19b06251-fe6f-4e99-9afa-d6889eb7a18f\" xlink:actuate=\"onRequest\" xlink:href=\"psysml:19b06251-fe6f-4e99-9afa-d6889eb7a18f\" xlink:show=\"new\" xlink:title=\"psysml:19b06251-fe6f-4e99-9afa-d6889eb7a18f\" xlink:type=\"simple\"><polygon fill=\"#FFFFFF\" points=\"16,6,124,6,131,28.2969,692,28.2969,692,310,16,310,16,6\" style=\"stroke: #000000; stroke-width: 1.5;\"/><line style=\"stroke: #000000; stroke-width: 1.5;\" x1=\"16\" x2=\"131\" y1=\"28.2969\" y2=\"28.2969\"/><text fill=\"#000000\" font-family=\"sans-serif\" font-size=\"14\" font-weight=\"bold\" lengthAdjust=\"spacingAndGlyphs\" textLength=\"102\" x=\"20\" y=\"20.9951\">ParameterTest</text></a><!--MD5=[b4997ac47864f28c2f74865a473b2911]\n",
       "class E2--><a href=\"psysml:a687f627-404e-4522-a6e9-e30e4b3087b4\" target=\"_top\" title=\"psysml:a687f627-404e-4522-a6e9-e30e4b3087b4\" xlink:actuate=\"onRequest\" xlink:href=\"psysml:a687f627-404e-4522-a6e9-e30e4b3087b4\" xlink:show=\"new\" xlink:title=\"psysml:a687f627-404e-4522-a6e9-e30e4b3087b4\" xlink:type=\"simple\"><rect fill=\"#FFFFFF\" height=\"88.3516\" id=\"E2\" style=\"stroke: #383838; stroke-width: 1.5;\" width=\"99\" x=\"513.5\" y=\"206\"/><text fill=\"#000000\" font-family=\"sans-serif\" font-size=\"12\" font-style=\"italic\" lengthAdjust=\"spacingAndGlyphs\" textLength=\"97\" x=\"514.5\" y=\"222.1387\">«attribute  def»</text><text fill=\"#000000\" font-family=\"sans-serif\" font-size=\"12\" lengthAdjust=\"spacingAndGlyphs\" textLength=\"8\" x=\"559\" y=\"236.1074\">A</text><line style=\"stroke: #383838; stroke-width: 1.5;\" x1=\"514.5\" x2=\"611.5\" y1=\"243.9375\" y2=\"243.9375\"/><text fill=\"#000000\" font-family=\"sans-serif\" font-size=\"11\" lengthAdjust=\"spacingAndGlyphs\" textLength=\"48\" x=\"519.5\" y=\"274.9526\">x: String</text><text fill=\"#000000\" font-family=\"sans-serif\" font-size=\"11\" lengthAdjust=\"spacingAndGlyphs\" textLength=\"21\" x=\"519.5\" y=\"287.7573\">y: A</text><line style=\"stroke: #383838; stroke-width: 1.0;\" x1=\"514.5\" x2=\"535.5\" y1=\"258.3398\" y2=\"258.3398\"/><text fill=\"#000000\" font-family=\"sans-serif\" font-size=\"11\" lengthAdjust=\"spacingAndGlyphs\" textLength=\"55\" x=\"535.5\" y=\"261.6479\">attributes</text><line style=\"stroke: #383838; stroke-width: 1.0;\" x1=\"590.5\" x2=\"611.5\" y1=\"258.3398\" y2=\"258.3398\"/></a><!--MD5=[09b614a08d8cba4a07c9adeb5e0fee81]\n",
       "class E3--><a href=\"psysml:080a965c-bda9-42ef-b0e7-dadea2c4de7a\" target=\"_top\" title=\"psysml:080a965c-bda9-42ef-b0e7-dadea2c4de7a\" xlink:actuate=\"onRequest\" xlink:href=\"psysml:080a965c-bda9-42ef-b0e7-dadea2c4de7a\" xlink:show=\"new\" xlink:title=\"psysml:080a965c-bda9-42ef-b0e7-dadea2c4de7a\" xlink:type=\"simple\"><rect fill=\"#FFFFFF\" height=\"45.9375\" id=\"E3\" rx=\"10\" ry=\"10\" style=\"stroke: #383838; stroke-width: 1.5;\" width=\"71\" x=\"604.5\" y=\"62\"/><text fill=\"#000000\" font-family=\"sans-serif\" font-size=\"12\" font-style=\"italic\" lengthAdjust=\"spacingAndGlyphs\" textLength=\"69\" x=\"605.5\" y=\"78.1387\">«attribute»</text><text fill=\"#000000\" font-family=\"sans-serif\" font-size=\"12\" lengthAdjust=\"spacingAndGlyphs\" textLength=\"24\" x=\"626\" y=\"92.1074\">a: A</text><line style=\"stroke: #383838; stroke-width: 1.5;\" x1=\"605.5\" x2=\"674.5\" y1=\"99.9375\" y2=\"99.9375\"/></a><!--MD5=[ebbe1d658d1005bcc118a6aa81145e00]\n",
       "class E4--><a href=\"psysml:87bb354b-94c0-403b-b7cb-102c1c7ef37a\" target=\"_top\" title=\"psysml:87bb354b-94c0-403b-b7cb-102c1c7ef37a\" xlink:actuate=\"onRequest\" xlink:href=\"psysml:87bb354b-94c0-403b-b7cb-102c1c7ef37a\" xlink:show=\"new\" xlink:title=\"psysml:87bb354b-94c0-403b-b7cb-102c1c7ef37a\" xlink:type=\"simple\"><rect fill=\"#FFFFFF\" height=\"88.3516\" id=\"E4\" style=\"stroke: #383838; stroke-width: 1.5;\" width=\"112\" x=\"457\" y=\"41\"/><text fill=\"#000000\" font-family=\"sans-serif\" font-size=\"12\" font-style=\"italic\" lengthAdjust=\"spacingAndGlyphs\" textLength=\"110\" x=\"458\" y=\"57.1387\">«calculation  def»</text><text fill=\"#000000\" font-family=\"sans-serif\" font-size=\"12\" lengthAdjust=\"spacingAndGlyphs\" textLength=\"7\" x=\"509.5\" y=\"71.1074\">F</text><line style=\"stroke: #383838; stroke-width: 1.5;\" x1=\"458\" x2=\"568\" y1=\"78.9375\" y2=\"78.9375\"/><text fill=\"#000000\" font-family=\"sans-serif\" font-size=\"11\" font-weight=\"bold\" lengthAdjust=\"spacingAndGlyphs\" textLength=\"10\" x=\"463\" y=\"109.9526\">in</text><text fill=\"#000000\" font-family=\"sans-serif\" font-size=\"11\" lengthAdjust=\"spacingAndGlyphs\" textLength=\"22\" x=\"477\" y=\"109.9526\">p: A</text><text fill=\"#000000\" font-family=\"sans-serif\" font-size=\"11\" font-weight=\"bold\" lengthAdjust=\"spacingAndGlyphs\" textLength=\"10\" x=\"463\" y=\"122.7573\">in</text><text fill=\"#000000\" font-family=\"sans-serif\" font-size=\"11\" lengthAdjust=\"spacingAndGlyphs\" textLength=\"55\" x=\"477\" y=\"122.7573\">q: Integer</text><line style=\"stroke: #383838; stroke-width: 1.0;\" x1=\"458\" x2=\"479.5\" y1=\"93.3398\" y2=\"93.3398\"/><text fill=\"#000000\" font-family=\"sans-serif\" font-size=\"11\" lengthAdjust=\"spacingAndGlyphs\" textLength=\"67\" x=\"479.5\" y=\"96.6479\">parameters</text><line style=\"stroke: #383838; stroke-width: 1.0;\" x1=\"546.5\" x2=\"568\" y1=\"93.3398\" y2=\"93.3398\"/></a><!--MD5=[270fce915f116d4de14055a7c1d9a0f3]\n",
       "class E5--><a href=\"psysml:a95297bf-d64f-43ac-86b7-f9f55eba203a\" target=\"_top\" title=\"psysml:a95297bf-d64f-43ac-86b7-f9f55eba203a\" xlink:actuate=\"onRequest\" xlink:href=\"psysml:a95297bf-d64f-43ac-86b7-f9f55eba203a\" xlink:show=\"new\" xlink:title=\"psysml:a95297bf-d64f-43ac-86b7-f9f55eba203a\" xlink:type=\"simple\"><rect fill=\"#FFFFFF\" height=\"45.9375\" id=\"E5\" rx=\"10\" ry=\"10\" style=\"stroke: #383838; stroke-width: 1.5;\" width=\"71\" x=\"350.5\" y=\"62\"/><text fill=\"#000000\" font-family=\"sans-serif\" font-size=\"12\" font-style=\"italic\" lengthAdjust=\"spacingAndGlyphs\" textLength=\"69\" x=\"351.5\" y=\"78.1387\">«attribute»</text><text fill=\"#000000\" font-family=\"sans-serif\" font-size=\"12\" lengthAdjust=\"spacingAndGlyphs\" textLength=\"4\" x=\"384\" y=\"92.1074\">f</text><line style=\"stroke: #383838; stroke-width: 1.5;\" x1=\"351.5\" x2=\"420.5\" y1=\"99.9375\" y2=\"99.9375\"/></a><!--MD5=[60a26617385b1d2d0262a64233df1f8d]\n",
       "class E6--><a href=\"psysml:778a48ec-a539-4294-8634-0d41b068db9f\" target=\"_top\" title=\"psysml:778a48ec-a539-4294-8634-0d41b068db9f\" xlink:actuate=\"onRequest\" xlink:href=\"psysml:778a48ec-a539-4294-8634-0d41b068db9f\" xlink:show=\"new\" xlink:title=\"psysml:778a48ec-a539-4294-8634-0d41b068db9f\" xlink:type=\"simple\"><rect fill=\"#FFFFFF\" height=\"45.9375\" id=\"E6\" rx=\"10\" ry=\"10\" style=\"stroke: #383838; stroke-width: 1.5;\" width=\"71\" x=\"244.5\" y=\"62\"/><text fill=\"#000000\" font-family=\"sans-serif\" font-size=\"12\" font-style=\"italic\" lengthAdjust=\"spacingAndGlyphs\" textLength=\"69\" x=\"245.5\" y=\"78.1387\">«attribute»</text><text fill=\"#000000\" font-family=\"sans-serif\" font-size=\"12\" lengthAdjust=\"spacingAndGlyphs\" textLength=\"8\" x=\"276\" y=\"92.1074\">g</text><line style=\"stroke: #383838; stroke-width: 1.5;\" x1=\"245.5\" x2=\"314.5\" y1=\"99.9375\" y2=\"99.9375\"/></a><!--MD5=[2156ba9850f5573cc1fc38a6a4b2f02b]\n",
       "class E7--><a href=\"psysml:178fd1be-66b7-4b93-9f69-0783143b2542\" target=\"_top\" title=\"psysml:178fd1be-66b7-4b93-9f69-0783143b2542\" xlink:actuate=\"onRequest\" xlink:href=\"psysml:178fd1be-66b7-4b93-9f69-0783143b2542\" xlink:show=\"new\" xlink:title=\"psysml:178fd1be-66b7-4b93-9f69-0783143b2542\" xlink:type=\"simple\"><rect fill=\"#FFFFFF\" height=\"45.9375\" id=\"E7\" rx=\"10\" ry=\"10\" style=\"stroke: #383838; stroke-width: 1.5;\" width=\"71\" x=\"138.5\" y=\"62\"/><text fill=\"#000000\" font-family=\"sans-serif\" font-size=\"12\" font-style=\"italic\" lengthAdjust=\"spacingAndGlyphs\" textLength=\"69\" x=\"139.5\" y=\"78.1387\">«attribute»</text><text fill=\"#000000\" font-family=\"sans-serif\" font-size=\"12\" lengthAdjust=\"spacingAndGlyphs\" textLength=\"8\" x=\"170\" y=\"92.1074\">b</text><line style=\"stroke: #383838; stroke-width: 1.5;\" x1=\"139.5\" x2=\"208.5\" y1=\"99.9375\" y2=\"99.9375\"/></a><!--MD5=[b9389687b975829384b498ac4b7476b2]\n",
       "class E8--><a href=\"psysml:ce14b558-47dc-4a37-8f10-4afbd6cf7826\" target=\"_top\" title=\"psysml:ce14b558-47dc-4a37-8f10-4afbd6cf7826\" xlink:actuate=\"onRequest\" xlink:href=\"psysml:ce14b558-47dc-4a37-8f10-4afbd6cf7826\" xlink:show=\"new\" xlink:title=\"psysml:ce14b558-47dc-4a37-8f10-4afbd6cf7826\" xlink:type=\"simple\"><rect fill=\"#FFFFFF\" height=\"45.9375\" id=\"E8\" rx=\"10\" ry=\"10\" style=\"stroke: #383838; stroke-width: 1.5;\" width=\"71\" x=\"32.5\" y=\"62\"/><text fill=\"#000000\" font-family=\"sans-serif\" font-size=\"12\" font-style=\"italic\" lengthAdjust=\"spacingAndGlyphs\" textLength=\"69\" x=\"33.5\" y=\"78.1387\">«attribute»</text><text fill=\"#000000\" font-family=\"sans-serif\" font-size=\"12\" lengthAdjust=\"spacingAndGlyphs\" textLength=\"7\" x=\"64.5\" y=\"92.1074\">c</text><line style=\"stroke: #383838; stroke-width: 1.5;\" x1=\"33.5\" x2=\"102.5\" y1=\"99.9375\" y2=\"99.9375\"/></a><!--MD5=[05d275557350bfb9b23a4ef7222b4c39]\n",
       "link E3 to E2--><a href=\"psysml:f36357d4-9dbb-46b9-9535-0d41e0b85630\" target=\"_top\" title=\"psysml:f36357d4-9dbb-46b9-9535-0d41e0b85630\" xlink:actuate=\"onRequest\" xlink:href=\"psysml:f36357d4-9dbb-46b9-9535-0d41e0b85630\" xlink:show=\"new\" xlink:title=\"psysml:f36357d4-9dbb-46b9-9535-0d41e0b85630\" xlink:type=\"simple\"><path d=\"M629.45,108.32 C619.8,128.75 605.07,159.95 591.92,187.77 \" fill=\"none\" id=\"E3-&gt;E2\" style=\"stroke: #383838; stroke-width: 1.0;\"/><polygon fill=\"#FFFFFF\" points=\"583.37,205.87,585.1617,185.701,597.8187,191.6843,583.37,205.87\" style=\"stroke: #383838; stroke-width: 1.0;\"/><ellipse cx=\"589.4059\" cy=\"181.4025\" fill=\"#383838\" rx=\"2\" ry=\"2\" style=\"stroke: #383838; stroke-width: 1.0;\"/><ellipse cx=\"598.4466\" cy=\"185.6763\" fill=\"#383838\" rx=\"2\" ry=\"2\" style=\"stroke: #383838; stroke-width: 1.0;\"/></a><!--MD5=[ddeed8deb2209213b62e6cfabaa108b2]\n",
       "reverse link E4 to E2--><a href=\"psysml:16f7e9d3-43d0-4287-8a70-cbe1c91459d8\" target=\"_top\" title=\"psysml:16f7e9d3-43d0-4287-8a70-cbe1c91459d8\" xlink:actuate=\"onRequest\" xlink:href=\"psysml:16f7e9d3-43d0-4287-8a70-cbe1c91459d8\" xlink:show=\"new\" xlink:title=\"psysml:16f7e9d3-43d0-4287-8a70-cbe1c91459d8\" xlink:type=\"simple\"><path d=\"M507.86,142.39 C508.25,153.71 509.71,165.38 513,176 C516.18,186.27 521.36,196.38 527.21,205.66 \" fill=\"none\" id=\"E4&lt;-E2\" style=\"stroke: #383838; stroke-width: 1.0;\"/><polygon fill=\"#FFFFFF\" points=\"507.84,129.36,503.8466,135.3644,507.8532,141.36,511.8466,135.3556,507.84,129.36\" style=\"stroke: #383838; stroke-width: 1.0;\"/><text fill=\"#000000\" font-family=\"sans-serif\" font-size=\"13\" lengthAdjust=\"spacingAndGlyphs\" textLength=\"8\" x=\"514\" y=\"172.0669\">p</text></a><!--MD5=[ddeed8deb2209213b62e6cfabaa108b2]\n",
       "reverse link E4 to E2--><a href=\"psysml:16f7e9d3-43d0-4287-8a70-cbe1c91459d8\" target=\"_top\" title=\"psysml:16f7e9d3-43d0-4287-8a70-cbe1c91459d8\" xlink:actuate=\"onRequest\" xlink:href=\"psysml:16f7e9d3-43d0-4287-8a70-cbe1c91459d8\" xlink:show=\"new\" xlink:title=\"psysml:16f7e9d3-43d0-4287-8a70-cbe1c91459d8\" xlink:type=\"simple\"><path d=\"M530.15,141.9 C536.56,162.81 543.75,186.23 549.76,205.83 \" fill=\"none\" id=\"E4&lt;-E2-1\" style=\"stroke: #383838; stroke-width: 1.0;\"/><polygon fill=\"#FFFFFF\" points=\"526.27,129.25,524.2064,136.1595,529.7907,140.7219,531.8543,133.8124,526.27,129.25\" style=\"stroke: #383838; stroke-width: 1.0;\"/><text fill=\"#000000\" font-family=\"sans-serif\" font-size=\"13\" lengthAdjust=\"spacingAndGlyphs\" textLength=\"8\" x=\"540\" y=\"172.0669\">p</text></a><!--MD5=[0540676d2bda59141dc10bd012fec072]\n",
       "@startuml\r\n",
       "skinparam monochrome true\r\n",
       "skinparam classbackgroundcolor white\r\n",
       "skinparam shadowing false\r\n",
       "skinparam wrapWidth 300\r\n",
       "hide circle\r\n",
       "\r\n",
       "package \"ParameterTest\" as E1  [[psysml:19b06251-fe6f-4e99-9afa-d6889eb7a18f ]]  {\r\n",
       "comp def \"A\" as E2  <<(T,blue) attribute  def>> [[psysml:a687f627-404e-4522-a6e9-e30e4b3087b4 ]] {\r\n",
       "- - attributes - -\r\n",
       "x: String\r\n",
       "y: A\r\n",
       "}\r\n",
       "comp usage \"a: A \" as E3  <<(T,blue) attribute>> [[psysml:080a965c-bda9-42ef-b0e7-dadea2c4de7a ]] {\r\n",
       "}\r\n",
       "comp def \"F\" as E4  <<(T,blue) calculation  def>> [[psysml:87bb354b-94c0-403b-b7cb-102c1c7ef37a ]] {\r\n",
       "- - parameters - -\r\n",
       "<b>in</b> p: A\r\n",
       "<b>in</b> q: Integer\r\n",
       "}\r\n",
       "comp usage \"f\" as E5  <<(T,blue) attribute>> [[psysml:a95297bf-d64f-43ac-86b7-f9f55eba203a ]] {\r\n",
       "}\r\n",
       "comp usage \"g\" as E6  <<(T,blue) attribute>> [[psysml:778a48ec-a539-4294-8634-0d41b068db9f ]] {\r\n",
       "}\r\n",
       "comp usage \"b\" as E7  <<(T,blue) attribute>> [[psysml:178fd1be-66b7-4b93-9f69-0783143b2542 ]] {\r\n",
       "}\r\n",
       "comp usage \"c\" as E8  <<(T,blue) attribute>> [[psysml:ce14b558-47dc-4a37-8f10-4afbd6cf7826 ]] {\r\n",
       "}\r\n",
       "}\r\n",
       "E3 - -:|> E2 [[psysml:f36357d4-9dbb-46b9-9535-0d41e0b85630 ]] \r\n",
       "E4 o- - E2 [[psysml:16f7e9d3-43d0-4287-8a70-cbe1c91459d8 ]] : p\r\n",
       "E4 o- - E2 [[psysml:16f7e9d3-43d0-4287-8a70-cbe1c91459d8 ]] : p\r\n",
       "@enduml\r\n",
       "\n",
       "PlantUML version 1.2020.13(Sat Jun 13 12:26:38 UTC 2020)\n",
       "(EPL source distribution)\n",
       "Java Runtime: OpenJDK Runtime Environment\n",
       "JVM: OpenJDK 64-Bit Server VM\n",
       "Default Encoding: UTF-8\n",
       "Language: en\n",
       "Country: null\n",
       "--></g></svg>"
      ]
     },
     "execution_count": 38,
     "metadata": {},
     "output_type": "execute_result"
    }
   ],
   "source": [
    "%viz --style=\"DEFAULT\" --view=\"Tree\" \"ParameterTest\""
   ]
  },
  {
   "cell_type": "code",
   "execution_count": 39,
   "id": "52148afe",
   "metadata": {
    "execution": {
     "iopub.execute_input": "2021-11-13T12:59:17.131009Z",
     "iopub.status.busy": "2021-11-13T12:59:17.130611Z",
     "iopub.status.idle": "2021-11-13T12:59:17.135244Z",
     "shell.execute_reply": "2021-11-13T12:59:17.134797Z"
    }
   },
   "outputs": [
    {
     "data": {
      "image/svg+xml": [
       "<?xml version=\"1.0\" encoding=\"UTF-8\" standalone=\"no\"?><svg xmlns=\"http://www.w3.org/2000/svg\" xmlns:xlink=\"http://www.w3.org/1999/xlink\" contentScriptType=\"application/ecmascript\" contentStyleType=\"text/css\" height=\"12px\" preserveAspectRatio=\"none\" style=\"width:12px;height:12px;\" version=\"1.1\" viewBox=\"0 0 12 12\" width=\"12px\" zoomAndPan=\"magnify\"><defs/><g><!--MD5=[c5f280e076d0d61ccf4b0f27871bda1d]\n",
       "@startuml\r\n",
       "skinparam monochrome true\r\n",
       "skinparam classbackgroundcolor white\r\n",
       "skinparam shadowing false\r\n",
       "skinparam wrapWidth 300\r\n",
       "hide circle\r\n",
       "\r\n",
       "@enduml\r\n",
       "\n",
       "PlantUML version 1.2020.13(Sat Jun 13 12:26:38 UTC 2020)\n",
       "(EPL source distribution)\n",
       "Java Runtime: OpenJDK Runtime Environment\n",
       "JVM: OpenJDK 64-Bit Server VM\n",
       "Default Encoding: UTF-8\n",
       "Language: en\n",
       "Country: null\n",
       "--></g></svg>"
      ]
     },
     "execution_count": 39,
     "metadata": {},
     "output_type": "execute_result"
    }
   ],
   "source": [
    "%viz --style=\"DEFAULT\" --view=\"State\" \"ParameterTest\""
   ]
  },
  {
   "cell_type": "code",
   "execution_count": 40,
   "id": "0f0dbe8b",
   "metadata": {
    "execution": {
     "iopub.execute_input": "2021-11-13T12:59:17.184221Z",
     "iopub.status.busy": "2021-11-13T12:59:17.183689Z",
     "iopub.status.idle": "2021-11-13T12:59:17.216328Z",
     "shell.execute_reply": "2021-11-13T12:59:17.214308Z"
    }
   },
   "outputs": [
    {
     "data": {
      "image/svg+xml": [
       "<?xml version=\"1.0\" encoding=\"UTF-8\" standalone=\"no\"?><svg xmlns=\"http://www.w3.org/2000/svg\" xmlns:xlink=\"http://www.w3.org/1999/xlink\" contentScriptType=\"application/ecmascript\" contentStyleType=\"text/css\" height=\"216px\" preserveAspectRatio=\"none\" style=\"width:744px;height:216px;\" version=\"1.1\" viewBox=\"0 0 744 216\" width=\"744px\" zoomAndPan=\"magnify\"><defs/><g><!--MD5=[fbc87193dbaf4d95561dea2c320d4a47]\n",
       "cluster E1--><a href=\"psysml:19b06251-fe6f-4e99-9afa-d6889eb7a18f\" target=\"_top\" title=\"psysml:19b06251-fe6f-4e99-9afa-d6889eb7a18f\" xlink:actuate=\"onRequest\" xlink:href=\"psysml:19b06251-fe6f-4e99-9afa-d6889eb7a18f\" xlink:show=\"new\" xlink:title=\"psysml:19b06251-fe6f-4e99-9afa-d6889eb7a18f\" xlink:type=\"simple\"><polygon fill=\"#FFFFFF\" points=\"16,6,124,6,131,28.2969,722,28.2969,722,204.72,16,204.72,16,6\" style=\"stroke: #000000; stroke-width: 1.5;\"/><line style=\"stroke: #000000; stroke-width: 1.5;\" x1=\"16\" x2=\"131\" y1=\"28.2969\" y2=\"28.2969\"/><text fill=\"#000000\" font-family=\"sans-serif\" font-size=\"14\" font-weight=\"bold\" lengthAdjust=\"spacingAndGlyphs\" textLength=\"102\" x=\"20\" y=\"20.9951\">ParameterTest</text></a><!--MD5=[f6df4d0ebaf0b5dfb2ced0ae5af7c670]\n",
       "cluster E4--><a href=\"psysml:87bb354b-94c0-403b-b7cb-102c1c7ef37a\" target=\"_top\" title=\"psysml:87bb354b-94c0-403b-b7cb-102c1c7ef37a\" xlink:actuate=\"onRequest\" xlink:href=\"psysml:87bb354b-94c0-403b-b7cb-102c1c7ef37a\" xlink:show=\"new\" xlink:title=\"psysml:87bb354b-94c0-403b-b7cb-102c1c7ef37a\" xlink:type=\"simple\"><rect fill=\"#FFFFFF\" height=\"110.72\" id=\"E4\" style=\"stroke: #383838; stroke-width: 1.5;\" width=\"150\" x=\"556\" y=\"64\"/><rect fill=\"#F8F8F8\" height=\"37.9375\" style=\"stroke: #383838; stroke-width: 1.5;\" width=\"150\" x=\"556\" y=\"64\"/><text fill=\"#000000\" font-family=\"sans-serif\" font-size=\"12\" font-style=\"italic\" lengthAdjust=\"spacingAndGlyphs\" textLength=\"110\" x=\"576\" y=\"80.1387\">«calculation  def»</text><text fill=\"#000000\" font-family=\"sans-serif\" font-size=\"12\" lengthAdjust=\"spacingAndGlyphs\" textLength=\"7\" x=\"627.5\" y=\"94.1074\">F</text></a><g id=\"E1.E2\"><a href=\"psysml:a687f627-404e-4522-a6e9-e30e4b3087b4\" target=\"_top\" title=\"psysml:a687f627-404e-4522-a6e9-e30e4b3087b4\" xlink:actuate=\"onRequest\" xlink:href=\"psysml:a687f627-404e-4522-a6e9-e30e4b3087b4\" xlink:show=\"new\" xlink:title=\"psysml:a687f627-404e-4522-a6e9-e30e4b3087b4\" xlink:type=\"simple\"><rect fill=\"#FFFFFF\" height=\"42.9375\" id=\"E2\" style=\"stroke: #383838; stroke-width: 1.5;\" width=\"104\" x=\"413\" y=\"99\"/><rect fill=\"#F8F8F8\" height=\"37.9375\" style=\"stroke: #383838; stroke-width: 1.5;\" width=\"104\" x=\"413\" y=\"99\"/><text fill=\"#000000\" font-family=\"sans-serif\" font-size=\"12\" font-style=\"italic\" lengthAdjust=\"spacingAndGlyphs\" textLength=\"97\" x=\"416.5\" y=\"115.1387\">«attribute  def»</text><text fill=\"#000000\" font-family=\"sans-serif\" font-size=\"12\" lengthAdjust=\"spacingAndGlyphs\" textLength=\"8\" x=\"461\" y=\"129.1074\">A</text></a></g><!--MD5=[09b614a08d8cba4a07c9adeb5e0fee81]\n",
       "class E3--><a href=\"psysml:080a965c-bda9-42ef-b0e7-dadea2c4de7a\" target=\"_top\" title=\"psysml:080a965c-bda9-42ef-b0e7-dadea2c4de7a\" xlink:actuate=\"onRequest\" xlink:href=\"psysml:080a965c-bda9-42ef-b0e7-dadea2c4de7a\" xlink:show=\"new\" xlink:title=\"psysml:080a965c-bda9-42ef-b0e7-dadea2c4de7a\" xlink:type=\"simple\"><rect fill=\"#FFFFFF\" height=\"45.9375\" id=\"E3\" rx=\"10\" ry=\"10\" style=\"stroke: #383838; stroke-width: 1.5;\" width=\"71\" x=\"456.5\" y=\"41\"/><text fill=\"#000000\" font-family=\"sans-serif\" font-size=\"12\" font-style=\"italic\" lengthAdjust=\"spacingAndGlyphs\" textLength=\"69\" x=\"457.5\" y=\"57.1387\">«attribute»</text><text fill=\"#000000\" font-family=\"sans-serif\" font-size=\"12\" lengthAdjust=\"spacingAndGlyphs\" textLength=\"24\" x=\"478\" y=\"71.1074\">a: A</text><line style=\"stroke: #383838; stroke-width: 1.5;\" x1=\"457.5\" x2=\"526.5\" y1=\"78.9375\" y2=\"78.9375\"/></a><!--MD5=[b9389687b975829384b498ac4b7476b2]\n",
       "class E8--><a href=\"psysml:a95297bf-d64f-43ac-86b7-f9f55eba203a\" target=\"_top\" title=\"psysml:a95297bf-d64f-43ac-86b7-f9f55eba203a\" xlink:actuate=\"onRequest\" xlink:href=\"psysml:a95297bf-d64f-43ac-86b7-f9f55eba203a\" xlink:show=\"new\" xlink:title=\"psysml:a95297bf-d64f-43ac-86b7-f9f55eba203a\" xlink:type=\"simple\"><rect fill=\"#FFFFFF\" height=\"45.9375\" id=\"E8\" rx=\"10\" ry=\"10\" style=\"stroke: #383838; stroke-width: 1.5;\" width=\"71\" x=\"350.5\" y=\"41\"/><text fill=\"#000000\" font-family=\"sans-serif\" font-size=\"12\" font-style=\"italic\" lengthAdjust=\"spacingAndGlyphs\" textLength=\"69\" x=\"351.5\" y=\"57.1387\">«attribute»</text><text fill=\"#000000\" font-family=\"sans-serif\" font-size=\"12\" lengthAdjust=\"spacingAndGlyphs\" textLength=\"4\" x=\"384\" y=\"71.1074\">f</text><line style=\"stroke: #383838; stroke-width: 1.5;\" x1=\"351.5\" x2=\"420.5\" y1=\"78.9375\" y2=\"78.9375\"/></a><!--MD5=[fd4143e9d270a159db93a4ea2a975926]\n",
       "class E9--><a href=\"psysml:778a48ec-a539-4294-8634-0d41b068db9f\" target=\"_top\" title=\"psysml:778a48ec-a539-4294-8634-0d41b068db9f\" xlink:actuate=\"onRequest\" xlink:href=\"psysml:778a48ec-a539-4294-8634-0d41b068db9f\" xlink:show=\"new\" xlink:title=\"psysml:778a48ec-a539-4294-8634-0d41b068db9f\" xlink:type=\"simple\"><rect fill=\"#FFFFFF\" height=\"45.9375\" id=\"E9\" rx=\"10\" ry=\"10\" style=\"stroke: #383838; stroke-width: 1.5;\" width=\"71\" x=\"244.5\" y=\"41\"/><text fill=\"#000000\" font-family=\"sans-serif\" font-size=\"12\" font-style=\"italic\" lengthAdjust=\"spacingAndGlyphs\" textLength=\"69\" x=\"245.5\" y=\"57.1387\">«attribute»</text><text fill=\"#000000\" font-family=\"sans-serif\" font-size=\"12\" lengthAdjust=\"spacingAndGlyphs\" textLength=\"8\" x=\"276\" y=\"71.1074\">g</text><line style=\"stroke: #383838; stroke-width: 1.5;\" x1=\"245.5\" x2=\"314.5\" y1=\"78.9375\" y2=\"78.9375\"/></a><!--MD5=[96f4274e9e20536e775497830990834d]\n",
       "class E10--><a href=\"psysml:178fd1be-66b7-4b93-9f69-0783143b2542\" target=\"_top\" title=\"psysml:178fd1be-66b7-4b93-9f69-0783143b2542\" xlink:actuate=\"onRequest\" xlink:href=\"psysml:178fd1be-66b7-4b93-9f69-0783143b2542\" xlink:show=\"new\" xlink:title=\"psysml:178fd1be-66b7-4b93-9f69-0783143b2542\" xlink:type=\"simple\"><rect fill=\"#FFFFFF\" height=\"45.9375\" id=\"E10\" rx=\"10\" ry=\"10\" style=\"stroke: #383838; stroke-width: 1.5;\" width=\"71\" x=\"138.5\" y=\"41\"/><text fill=\"#000000\" font-family=\"sans-serif\" font-size=\"12\" font-style=\"italic\" lengthAdjust=\"spacingAndGlyphs\" textLength=\"69\" x=\"139.5\" y=\"57.1387\">«attribute»</text><text fill=\"#000000\" font-family=\"sans-serif\" font-size=\"12\" lengthAdjust=\"spacingAndGlyphs\" textLength=\"8\" x=\"170\" y=\"71.1074\">b</text><line style=\"stroke: #383838; stroke-width: 1.5;\" x1=\"139.5\" x2=\"208.5\" y1=\"78.9375\" y2=\"78.9375\"/></a><!--MD5=[1dd1bfd58a279cf63c5f349dbc8fc6a1]\n",
       "class E11--><a href=\"psysml:ce14b558-47dc-4a37-8f10-4afbd6cf7826\" target=\"_top\" title=\"psysml:ce14b558-47dc-4a37-8f10-4afbd6cf7826\" xlink:actuate=\"onRequest\" xlink:href=\"psysml:ce14b558-47dc-4a37-8f10-4afbd6cf7826\" xlink:show=\"new\" xlink:title=\"psysml:ce14b558-47dc-4a37-8f10-4afbd6cf7826\" xlink:type=\"simple\"><rect fill=\"#FFFFFF\" height=\"45.9375\" id=\"E11\" rx=\"10\" ry=\"10\" style=\"stroke: #383838; stroke-width: 1.5;\" width=\"71\" x=\"32.5\" y=\"41\"/><text fill=\"#000000\" font-family=\"sans-serif\" font-size=\"12\" font-style=\"italic\" lengthAdjust=\"spacingAndGlyphs\" textLength=\"69\" x=\"33.5\" y=\"57.1387\">«attribute»</text><text fill=\"#000000\" font-family=\"sans-serif\" font-size=\"12\" lengthAdjust=\"spacingAndGlyphs\" textLength=\"7\" x=\"64.5\" y=\"71.1074\">c</text><line style=\"stroke: #383838; stroke-width: 1.5;\" x1=\"33.5\" x2=\"102.5\" y1=\"78.9375\" y2=\"78.9375\"/></a><text fill=\"#000000\" font-family=\"sans-serif\" font-size=\"14\" lengthAdjust=\"spacingAndGlyphs\" textLength=\"9\" x=\"569.5\" y=\"42.6982\">p</text><rect fill=\"#383838\" height=\"12\" style=\"stroke: #F8F8F8; stroke-width: 1.5;\" width=\"12\" x=\"568\" y=\"58\"/><text fill=\"#000000\" font-family=\"sans-serif\" font-size=\"14\" lengthAdjust=\"spacingAndGlyphs\" textLength=\"9\" x=\"616.5\" y=\"42.6982\">q</text><rect fill=\"#383838\" height=\"12\" style=\"stroke: #F8F8F8; stroke-width: 1.5;\" width=\"12\" x=\"615\" y=\"58\"/><text fill=\"#000000\" font-family=\"sans-serif\" font-size=\"14\" lengthAdjust=\"spacingAndGlyphs\" textLength=\"39\" x=\"601.5\" y=\"193.7151\">result</text><rect fill=\"#383838\" height=\"12\" style=\"stroke: #F8F8F8; stroke-width: 1.5;\" width=\"12\" x=\"615\" y=\"168.72\"/><!--MD5=[05d275557350bfb9b23a4ef7222b4c39]\n",
       "link E3 to E2--><a href=\"psysml:f36357d4-9dbb-46b9-9535-0d41e0b85630\" target=\"_top\" title=\"psysml:f36357d4-9dbb-46b9-9535-0d41e0b85630\" xlink:actuate=\"onRequest\" xlink:href=\"psysml:f36357d4-9dbb-46b9-9535-0d41e0b85630\" xlink:show=\"new\" xlink:title=\"psysml:f36357d4-9dbb-46b9-9535-0d41e0b85630\" xlink:type=\"simple\"><path d=\"M481.02,87.17 C480.96,87.29 480.9,87.41 480.84,87.53 \" fill=\"none\" id=\"E3-&gt;E2\" style=\"stroke: #383838; stroke-width: 1.0;\"/><polygon fill=\"#FFFFFF\" points=\"475.19,98.93,477.3425,78.7963,489.8904,85.0052,475.19,98.93\" style=\"stroke: #383838; stroke-width: 1.0;\"/><ellipse cx=\"481.663\" cy=\"74.5745\" fill=\"#383838\" rx=\"2\" ry=\"2\" style=\"stroke: #383838; stroke-width: 1.0;\"/><ellipse cx=\"490.6257\" cy=\"79.0095\" fill=\"#383838\" rx=\"2\" ry=\"2\" style=\"stroke: #383838; stroke-width: 1.0;\"/></a><!--MD5=[206e5d161dccce746f5d325da1f8e709]\n",
       "@startuml\r\n",
       "skinparam ranksep 10\r\n",
       "skinparam rectangle {\r\n",
       " backgroundColor<<block>> LightGreen\r\n",
       "}\r\n",
       "skinparam monochrome true\r\n",
       "skinparam classbackgroundcolor white\r\n",
       "skinparam shadowing false\r\n",
       "skinparam wrapWidth 300\r\n",
       "hide circle\r\n",
       "\r\n",
       "package \"ParameterTest\" as E1  [[psysml:19b06251-fe6f-4e99-9afa-d6889eb7a18f ]]  {\r\n",
       "def \"A\" as E2  <<(T,blue) attribute  def>> [[psysml:a687f627-404e-4522-a6e9-e30e4b3087b4 ]] \r\n",
       "comp usage \"a: A \" as E3  <<(T,blue) attribute>> [[psysml:080a965c-bda9-42ef-b0e7-dadea2c4de7a ]] {\r\n",
       "}\r\n",
       "rec def \"F\" as E4  <<(T,blue) calculation  def>> [[psysml:87bb354b-94c0-403b-b7cb-102c1c7ef37a ]] {\r\n",
       "portin \"p\" as E5  [[psysml:16f7e9d3-43d0-4287-8a70-cbe1c91459d8 ]] \r\n",
       "portin \"q\" as E6  [[psysml:b2699d44-082f-48d9-8fe4-b2b87d72af88 ]] \r\n",
       "portout \"result\" as E7  [[psysml:efe4aa1f-bd0b-42c7-877f-48fcbd913317 ]] \r\n",
       "}\r\n",
       "\r\n",
       "comp usage \"f\" as E8  <<(T,blue) attribute>> [[psysml:a95297bf-d64f-43ac-86b7-f9f55eba203a ]] {\r\n",
       "}\r\n",
       "comp usage \"g\" as E9  <<(T,blue) attribute>> [[psysml:778a48ec-a539-4294-8634-0d41b068db9f ]] {\r\n",
       "}\r\n",
       "comp usage \"b\" as E10  <<(T,blue) attribute>> [[psysml:178fd1be-66b7-4b93-9f69-0783143b2542 ]] {\r\n",
       "}\r\n",
       "comp usage \"c\" as E11  <<(T,blue) attribute>> [[psysml:ce14b558-47dc-4a37-8f10-4afbd6cf7826 ]] {\r\n",
       "}\r\n",
       "}\r\n",
       "E3 - -:|> E2 [[psysml:f36357d4-9dbb-46b9-9535-0d41e0b85630 ]] \r\n",
       "@enduml\r\n",
       "\n",
       "PlantUML version 1.2020.13(Sat Jun 13 12:26:38 UTC 2020)\n",
       "(EPL source distribution)\n",
       "Java Runtime: OpenJDK Runtime Environment\n",
       "JVM: OpenJDK 64-Bit Server VM\n",
       "Default Encoding: UTF-8\n",
       "Language: en\n",
       "Country: null\n",
       "--></g></svg>"
      ]
     },
     "execution_count": 40,
     "metadata": {},
     "output_type": "execute_result"
    }
   ],
   "source": [
    "%viz --style=\"DEFAULT\" --view=\"Interconnection\" \"ParameterTest\""
   ]
  },
  {
   "cell_type": "code",
   "execution_count": 41,
   "id": "368c88e9",
   "metadata": {
    "execution": {
     "iopub.execute_input": "2021-11-13T12:59:17.265232Z",
     "iopub.status.busy": "2021-11-13T12:59:17.264677Z",
     "iopub.status.idle": "2021-11-13T12:59:17.287018Z",
     "shell.execute_reply": "2021-11-13T12:59:17.286653Z"
    }
   },
   "outputs": [
    {
     "data": {
      "image/svg+xml": [
       "<?xml version=\"1.0\" encoding=\"UTF-8\" standalone=\"no\"?><svg xmlns=\"http://www.w3.org/2000/svg\" xmlns:xlink=\"http://www.w3.org/1999/xlink\" contentScriptType=\"application/ecmascript\" contentStyleType=\"text/css\" height=\"162px\" preserveAspectRatio=\"none\" style=\"width:168px;height:162px;\" version=\"1.1\" viewBox=\"0 0 168 162\" width=\"168px\" zoomAndPan=\"magnify\"><defs/><g><!--MD5=[fbc87193dbaf4d95561dea2c320d4a47]\n",
       "cluster E1--><a href=\"psysml:87bb354b-94c0-403b-b7cb-102c1c7ef37a\" target=\"_top\" title=\"psysml:87bb354b-94c0-403b-b7cb-102c1c7ef37a\" xlink:actuate=\"onRequest\" xlink:href=\"psysml:87bb354b-94c0-403b-b7cb-102c1c7ef37a\" xlink:show=\"new\" xlink:title=\"psysml:87bb354b-94c0-403b-b7cb-102c1c7ef37a\" xlink:type=\"simple\"><rect fill=\"#FFFFFF\" height=\"87.72\" id=\"E1\" style=\"stroke: #383838; stroke-width: 1.5;\" width=\"150\" x=\"7\" y=\"42.0986\"/><rect fill=\"#F8F8F8\" height=\"37.9375\" style=\"stroke: #383838; stroke-width: 1.5;\" width=\"150\" x=\"7\" y=\"42.0986\"/><text fill=\"#000000\" font-family=\"sans-serif\" font-size=\"12\" font-style=\"italic\" lengthAdjust=\"spacingAndGlyphs\" textLength=\"110\" x=\"27\" y=\"58.2373\">«calculation  def»</text><text fill=\"#000000\" font-family=\"sans-serif\" font-size=\"12\" lengthAdjust=\"spacingAndGlyphs\" textLength=\"7\" x=\"78.5\" y=\"72.2061\">F</text></a><text fill=\"#000000\" font-family=\"sans-serif\" font-size=\"14\" lengthAdjust=\"spacingAndGlyphs\" textLength=\"9\" x=\"20.5\" y=\"20.7969\">p</text><rect fill=\"#383838\" height=\"12\" style=\"stroke: #F8F8F8; stroke-width: 1.5;\" width=\"12\" x=\"19\" y=\"36.0986\"/><text fill=\"#000000\" font-family=\"sans-serif\" font-size=\"14\" lengthAdjust=\"spacingAndGlyphs\" textLength=\"9\" x=\"67.5\" y=\"20.7969\">q</text><rect fill=\"#383838\" height=\"12\" style=\"stroke: #F8F8F8; stroke-width: 1.5;\" width=\"12\" x=\"66\" y=\"36.0986\"/><text fill=\"#000000\" font-family=\"sans-serif\" font-size=\"14\" lengthAdjust=\"spacingAndGlyphs\" textLength=\"39\" x=\"52.5\" y=\"148.8138\">result</text><rect fill=\"#383838\" height=\"12\" style=\"stroke: #F8F8F8; stroke-width: 1.5;\" width=\"12\" x=\"66\" y=\"123.8186\"/><!--MD5=[ad65837f13575872f2c2daea1a0023f1]\n",
       "@startuml\r\n",
       "skinparam ranksep 8\r\n",
       "skinparam monochrome true\r\n",
       "skinparam classbackgroundcolor white\r\n",
       "skinparam shadowing false\r\n",
       "skinparam wrapWidth 300\r\n",
       "hide circle\r\n",
       "\r\n",
       "rec def \"F\" as E1  <<(T,blue) calculation  def>> [[psysml:87bb354b-94c0-403b-b7cb-102c1c7ef37a ]] {\r\n",
       "portin \"p\" as E2  [[psysml:16f7e9d3-43d0-4287-8a70-cbe1c91459d8 ]] \r\n",
       "portin \"q\" as E3  [[psysml:b2699d44-082f-48d9-8fe4-b2b87d72af88 ]] \r\n",
       "portout \"result\" as E4  [[psysml:efe4aa1f-bd0b-42c7-877f-48fcbd913317 ]] \r\n",
       "}\r\n",
       "\r\n",
       "@enduml\r\n",
       "\n",
       "PlantUML version 1.2020.13(Sat Jun 13 12:26:38 UTC 2020)\n",
       "(EPL source distribution)\n",
       "Java Runtime: OpenJDK Runtime Environment\n",
       "JVM: OpenJDK 64-Bit Server VM\n",
       "Default Encoding: UTF-8\n",
       "Language: en\n",
       "Country: null\n",
       "--></g></svg>"
      ]
     },
     "execution_count": 41,
     "metadata": {},
     "output_type": "execute_result"
    }
   ],
   "source": [
    "%viz --style=\"DEFAULT\" --view=\"Action\" \"ParameterTest\""
   ]
  },
  {
   "cell_type": "code",
   "execution_count": 42,
   "id": "d15ec476",
   "metadata": {
    "execution": {
     "iopub.execute_input": "2021-11-13T12:59:17.336407Z",
     "iopub.status.busy": "2021-11-13T12:59:17.335991Z",
     "iopub.status.idle": "2021-11-13T12:59:17.341319Z",
     "shell.execute_reply": "2021-11-13T12:59:17.340985Z"
    }
   },
   "outputs": [
    {
     "data": {
      "image/svg+xml": [
       "<?xml version=\"1.0\" encoding=\"UTF-8\" standalone=\"no\"?><svg xmlns=\"http://www.w3.org/2000/svg\" xmlns:xlink=\"http://www.w3.org/1999/xlink\" contentScriptType=\"application/ecmascript\" contentStyleType=\"text/css\" height=\"12px\" preserveAspectRatio=\"none\" style=\"width:12px;height:12px;\" version=\"1.1\" viewBox=\"0 0 12 12\" width=\"12px\" zoomAndPan=\"magnify\"><defs/><g><!--MD5=[0b72472770326784bf6c2b53246e1e64]\n",
       "@startuml\r\n",
       "skinparam roundcorner 20\r\n",
       "skinparam BoxPadding 20\r\n",
       "skinparam SequenceBoxBackgroundColor #white\r\n",
       "skinparam style strictuml\r\n",
       "skinparam maxMessageSize 100\r\n",
       "skinparam monochrome true\r\n",
       "skinparam classbackgroundcolor white\r\n",
       "skinparam shadowing false\r\n",
       "skinparam wrapWidth 300\r\n",
       "hide circle\r\n",
       "\r\n",
       "@enduml\r\n",
       "\n",
       "PlantUML version 1.2020.13(Sat Jun 13 12:26:38 UTC 2020)\n",
       "(EPL source distribution)\n",
       "Java Runtime: OpenJDK Runtime Environment\n",
       "JVM: OpenJDK 64-Bit Server VM\n",
       "Default Encoding: UTF-8\n",
       "Language: en\n",
       "Country: null\n",
       "--></g></svg>"
      ]
     },
     "execution_count": 42,
     "metadata": {},
     "output_type": "execute_result"
    }
   ],
   "source": [
    "%viz --style=\"DEFAULT\" --view=\"Sequence\" \"ParameterTest\""
   ]
  },
  {
   "cell_type": "code",
   "execution_count": 43,
   "id": "ac08b520",
   "metadata": {
    "execution": {
     "iopub.execute_input": "2021-11-13T12:59:17.390989Z",
     "iopub.status.busy": "2021-11-13T12:59:17.390586Z",
     "iopub.status.idle": "2021-11-13T12:59:17.436113Z",
     "shell.execute_reply": "2021-11-13T12:59:17.435659Z"
    }
   },
   "outputs": [
    {
     "data": {
      "image/svg+xml": [
       "<?xml version=\"1.0\" encoding=\"UTF-8\" standalone=\"no\"?><svg xmlns=\"http://www.w3.org/2000/svg\" xmlns:xlink=\"http://www.w3.org/1999/xlink\" contentScriptType=\"application/ecmascript\" contentStyleType=\"text/css\" height=\"403px\" preserveAspectRatio=\"none\" style=\"width:744px;height:403px;\" version=\"1.1\" viewBox=\"0 0 744 403\" width=\"744px\" zoomAndPan=\"magnify\"><defs/><g><!--MD5=[fbc87193dbaf4d95561dea2c320d4a47]\n",
       "cluster E1--><a href=\"psysml:19b06251-fe6f-4e99-9afa-d6889eb7a18f\" target=\"_top\" title=\"psysml:19b06251-fe6f-4e99-9afa-d6889eb7a18f\" xlink:actuate=\"onRequest\" xlink:href=\"psysml:19b06251-fe6f-4e99-9afa-d6889eb7a18f\" xlink:show=\"new\" xlink:title=\"psysml:19b06251-fe6f-4e99-9afa-d6889eb7a18f\" xlink:type=\"simple\"><polygon fill=\"#FFFFFF\" points=\"16,6,124,6,131,28.2969,722,28.2969,722,391.72,16,391.72,16,6\" style=\"stroke: #000000; stroke-width: 1.5;\"/><line style=\"stroke: #000000; stroke-width: 1.5;\" x1=\"16\" x2=\"131\" y1=\"28.2969\" y2=\"28.2969\"/><text fill=\"#000000\" font-family=\"sans-serif\" font-size=\"14\" font-weight=\"bold\" lengthAdjust=\"spacingAndGlyphs\" textLength=\"102\" x=\"20\" y=\"20.9951\">ParameterTest</text></a><!--MD5=[f6df4d0ebaf0b5dfb2ced0ae5af7c670]\n",
       "cluster E4--><a href=\"psysml:87bb354b-94c0-403b-b7cb-102c1c7ef37a\" target=\"_top\" title=\"psysml:87bb354b-94c0-403b-b7cb-102c1c7ef37a\" xlink:actuate=\"onRequest\" xlink:href=\"psysml:87bb354b-94c0-403b-b7cb-102c1c7ef37a\" xlink:show=\"new\" xlink:title=\"psysml:87bb354b-94c0-403b-b7cb-102c1c7ef37a\" xlink:type=\"simple\"><rect fill=\"#FFFFFF\" height=\"297.72\" id=\"E4\" style=\"stroke: #383838; stroke-width: 1.5;\" width=\"150\" x=\"556\" y=\"64\"/><rect fill=\"#F8F8F8\" height=\"37.9375\" style=\"stroke: #383838; stroke-width: 1.5;\" width=\"150\" x=\"556\" y=\"64\"/><text fill=\"#000000\" font-family=\"sans-serif\" font-size=\"12\" font-style=\"italic\" lengthAdjust=\"spacingAndGlyphs\" textLength=\"110\" x=\"576\" y=\"80.1387\">«calculation  def»</text><text fill=\"#000000\" font-family=\"sans-serif\" font-size=\"12\" lengthAdjust=\"spacingAndGlyphs\" textLength=\"7\" x=\"627.5\" y=\"94.1074\">F</text></a><!--MD5=[b4997ac47864f28c2f74865a473b2911]\n",
       "class E2--><a href=\"psysml:a687f627-404e-4522-a6e9-e30e4b3087b4\" target=\"_top\" title=\"psysml:a687f627-404e-4522-a6e9-e30e4b3087b4\" xlink:actuate=\"onRequest\" xlink:href=\"psysml:a687f627-404e-4522-a6e9-e30e4b3087b4\" xlink:show=\"new\" xlink:title=\"psysml:a687f627-404e-4522-a6e9-e30e4b3087b4\" xlink:type=\"simple\"><rect fill=\"#FFFFFF\" height=\"88.3516\" id=\"E2\" style=\"stroke: #383838; stroke-width: 1.5;\" width=\"99\" x=\"418.5\" y=\"147\"/><text fill=\"#000000\" font-family=\"sans-serif\" font-size=\"12\" font-style=\"italic\" lengthAdjust=\"spacingAndGlyphs\" textLength=\"97\" x=\"419.5\" y=\"163.1387\">«attribute  def»</text><text fill=\"#000000\" font-family=\"sans-serif\" font-size=\"12\" lengthAdjust=\"spacingAndGlyphs\" textLength=\"8\" x=\"464\" y=\"177.1074\">A</text><line style=\"stroke: #383838; stroke-width: 1.5;\" x1=\"419.5\" x2=\"516.5\" y1=\"184.9375\" y2=\"184.9375\"/><text fill=\"#000000\" font-family=\"sans-serif\" font-size=\"11\" lengthAdjust=\"spacingAndGlyphs\" textLength=\"48\" x=\"424.5\" y=\"215.9526\">x: String</text><text fill=\"#000000\" font-family=\"sans-serif\" font-size=\"11\" lengthAdjust=\"spacingAndGlyphs\" textLength=\"21\" x=\"424.5\" y=\"228.7573\">y: A</text><line style=\"stroke: #383838; stroke-width: 1.0;\" x1=\"419.5\" x2=\"440.5\" y1=\"199.3398\" y2=\"199.3398\"/><text fill=\"#000000\" font-family=\"sans-serif\" font-size=\"11\" lengthAdjust=\"spacingAndGlyphs\" textLength=\"55\" x=\"440.5\" y=\"202.6479\">attributes</text><line style=\"stroke: #383838; stroke-width: 1.0;\" x1=\"495.5\" x2=\"516.5\" y1=\"199.3398\" y2=\"199.3398\"/></a><!--MD5=[09b614a08d8cba4a07c9adeb5e0fee81]\n",
       "class E3--><a href=\"psysml:080a965c-bda9-42ef-b0e7-dadea2c4de7a\" target=\"_top\" title=\"psysml:080a965c-bda9-42ef-b0e7-dadea2c4de7a\" xlink:actuate=\"onRequest\" xlink:href=\"psysml:080a965c-bda9-42ef-b0e7-dadea2c4de7a\" xlink:show=\"new\" xlink:title=\"psysml:080a965c-bda9-42ef-b0e7-dadea2c4de7a\" xlink:type=\"simple\"><rect fill=\"#FFFFFF\" height=\"45.9375\" id=\"E3\" rx=\"10\" ry=\"10\" style=\"stroke: #383838; stroke-width: 1.5;\" width=\"71\" x=\"456.5\" y=\"41\"/><text fill=\"#000000\" font-family=\"sans-serif\" font-size=\"12\" font-style=\"italic\" lengthAdjust=\"spacingAndGlyphs\" textLength=\"69\" x=\"457.5\" y=\"57.1387\">«attribute»</text><text fill=\"#000000\" font-family=\"sans-serif\" font-size=\"12\" lengthAdjust=\"spacingAndGlyphs\" textLength=\"24\" x=\"478\" y=\"71.1074\">a: A</text><line style=\"stroke: #383838; stroke-width: 1.5;\" x1=\"457.5\" x2=\"526.5\" y1=\"78.9375\" y2=\"78.9375\"/></a><!--MD5=[b9389687b975829384b498ac4b7476b2]\n",
       "class E8--><a href=\"psysml:a95297bf-d64f-43ac-86b7-f9f55eba203a\" target=\"_top\" title=\"psysml:a95297bf-d64f-43ac-86b7-f9f55eba203a\" xlink:actuate=\"onRequest\" xlink:href=\"psysml:a95297bf-d64f-43ac-86b7-f9f55eba203a\" xlink:show=\"new\" xlink:title=\"psysml:a95297bf-d64f-43ac-86b7-f9f55eba203a\" xlink:type=\"simple\"><rect fill=\"#FFFFFF\" height=\"45.9375\" id=\"E8\" rx=\"10\" ry=\"10\" style=\"stroke: #383838; stroke-width: 1.5;\" width=\"71\" x=\"350.5\" y=\"41\"/><text fill=\"#000000\" font-family=\"sans-serif\" font-size=\"12\" font-style=\"italic\" lengthAdjust=\"spacingAndGlyphs\" textLength=\"69\" x=\"351.5\" y=\"57.1387\">«attribute»</text><text fill=\"#000000\" font-family=\"sans-serif\" font-size=\"12\" lengthAdjust=\"spacingAndGlyphs\" textLength=\"4\" x=\"384\" y=\"71.1074\">f</text><line style=\"stroke: #383838; stroke-width: 1.5;\" x1=\"351.5\" x2=\"420.5\" y1=\"78.9375\" y2=\"78.9375\"/></a><!--MD5=[fd4143e9d270a159db93a4ea2a975926]\n",
       "class E9--><a href=\"psysml:778a48ec-a539-4294-8634-0d41b068db9f\" target=\"_top\" title=\"psysml:778a48ec-a539-4294-8634-0d41b068db9f\" xlink:actuate=\"onRequest\" xlink:href=\"psysml:778a48ec-a539-4294-8634-0d41b068db9f\" xlink:show=\"new\" xlink:title=\"psysml:778a48ec-a539-4294-8634-0d41b068db9f\" xlink:type=\"simple\"><rect fill=\"#FFFFFF\" height=\"45.9375\" id=\"E9\" rx=\"10\" ry=\"10\" style=\"stroke: #383838; stroke-width: 1.5;\" width=\"71\" x=\"244.5\" y=\"41\"/><text fill=\"#000000\" font-family=\"sans-serif\" font-size=\"12\" font-style=\"italic\" lengthAdjust=\"spacingAndGlyphs\" textLength=\"69\" x=\"245.5\" y=\"57.1387\">«attribute»</text><text fill=\"#000000\" font-family=\"sans-serif\" font-size=\"12\" lengthAdjust=\"spacingAndGlyphs\" textLength=\"8\" x=\"276\" y=\"71.1074\">g</text><line style=\"stroke: #383838; stroke-width: 1.5;\" x1=\"245.5\" x2=\"314.5\" y1=\"78.9375\" y2=\"78.9375\"/></a><!--MD5=[96f4274e9e20536e775497830990834d]\n",
       "class E10--><a href=\"psysml:178fd1be-66b7-4b93-9f69-0783143b2542\" target=\"_top\" title=\"psysml:178fd1be-66b7-4b93-9f69-0783143b2542\" xlink:actuate=\"onRequest\" xlink:href=\"psysml:178fd1be-66b7-4b93-9f69-0783143b2542\" xlink:show=\"new\" xlink:title=\"psysml:178fd1be-66b7-4b93-9f69-0783143b2542\" xlink:type=\"simple\"><rect fill=\"#FFFFFF\" height=\"45.9375\" id=\"E10\" rx=\"10\" ry=\"10\" style=\"stroke: #383838; stroke-width: 1.5;\" width=\"71\" x=\"138.5\" y=\"41\"/><text fill=\"#000000\" font-family=\"sans-serif\" font-size=\"12\" font-style=\"italic\" lengthAdjust=\"spacingAndGlyphs\" textLength=\"69\" x=\"139.5\" y=\"57.1387\">«attribute»</text><text fill=\"#000000\" font-family=\"sans-serif\" font-size=\"12\" lengthAdjust=\"spacingAndGlyphs\" textLength=\"8\" x=\"170\" y=\"71.1074\">b</text><line style=\"stroke: #383838; stroke-width: 1.5;\" x1=\"139.5\" x2=\"208.5\" y1=\"78.9375\" y2=\"78.9375\"/></a><!--MD5=[1dd1bfd58a279cf63c5f349dbc8fc6a1]\n",
       "class E11--><a href=\"psysml:ce14b558-47dc-4a37-8f10-4afbd6cf7826\" target=\"_top\" title=\"psysml:ce14b558-47dc-4a37-8f10-4afbd6cf7826\" xlink:actuate=\"onRequest\" xlink:href=\"psysml:ce14b558-47dc-4a37-8f10-4afbd6cf7826\" xlink:show=\"new\" xlink:title=\"psysml:ce14b558-47dc-4a37-8f10-4afbd6cf7826\" xlink:type=\"simple\"><rect fill=\"#FFFFFF\" height=\"45.9375\" id=\"E11\" rx=\"10\" ry=\"10\" style=\"stroke: #383838; stroke-width: 1.5;\" width=\"71\" x=\"32.5\" y=\"41\"/><text fill=\"#000000\" font-family=\"sans-serif\" font-size=\"12\" font-style=\"italic\" lengthAdjust=\"spacingAndGlyphs\" textLength=\"69\" x=\"33.5\" y=\"57.1387\">«attribute»</text><text fill=\"#000000\" font-family=\"sans-serif\" font-size=\"12\" lengthAdjust=\"spacingAndGlyphs\" textLength=\"7\" x=\"64.5\" y=\"71.1074\">c</text><line style=\"stroke: #383838; stroke-width: 1.5;\" x1=\"33.5\" x2=\"102.5\" y1=\"78.9375\" y2=\"78.9375\"/></a><text fill=\"#000000\" font-family=\"sans-serif\" font-size=\"14\" lengthAdjust=\"spacingAndGlyphs\" textLength=\"9\" x=\"569.5\" y=\"42.6982\">p</text><rect fill=\"#383838\" height=\"12\" style=\"stroke: #F8F8F8; stroke-width: 1.5;\" width=\"12\" x=\"568\" y=\"58\"/><text fill=\"#000000\" font-family=\"sans-serif\" font-size=\"14\" lengthAdjust=\"spacingAndGlyphs\" textLength=\"9\" x=\"616.5\" y=\"42.6982\">q</text><rect fill=\"#383838\" height=\"12\" style=\"stroke: #F8F8F8; stroke-width: 1.5;\" width=\"12\" x=\"615\" y=\"58\"/><text fill=\"#000000\" font-family=\"sans-serif\" font-size=\"14\" lengthAdjust=\"spacingAndGlyphs\" textLength=\"39\" x=\"601.5\" y=\"380.7151\">result</text><rect fill=\"#383838\" height=\"12\" style=\"stroke: #F8F8F8; stroke-width: 1.5;\" width=\"12\" x=\"615\" y=\"355.72\"/><!--MD5=[05d275557350bfb9b23a4ef7222b4c39]\n",
       "link E3 to E2--><a href=\"psysml:f36357d4-9dbb-46b9-9535-0d41e0b85630\" target=\"_top\" title=\"psysml:f36357d4-9dbb-46b9-9535-0d41e0b85630\" xlink:actuate=\"onRequest\" xlink:href=\"psysml:f36357d4-9dbb-46b9-9535-0d41e0b85630\" xlink:show=\"new\" xlink:title=\"psysml:f36357d4-9dbb-46b9-9535-0d41e0b85630\" xlink:type=\"simple\"><path d=\"M487.76,87.06 C485.61,98.3 482.86,112.6 480.11,126.95 \" fill=\"none\" id=\"E3-&gt;E2\" style=\"stroke: #383838; stroke-width: 1.0;\"/><polygon fill=\"#FFFFFF\" points=\"476.27,146.93,472.9781,126.9509,486.727,129.5907,476.27,146.93\" style=\"stroke: #383838; stroke-width: 1.0;\"/><ellipse cx=\"476.017\" cy=\"121.7303\" fill=\"#383838\" rx=\"2\" ry=\"2\" style=\"stroke: #383838; stroke-width: 1.0;\"/><ellipse cx=\"485.8376\" cy=\"123.6158\" fill=\"#383838\" rx=\"2\" ry=\"2\" style=\"stroke: #383838; stroke-width: 1.0;\"/></a><!--MD5=[8608b3e4c6635b7a39da41809338ace5]\n",
       "@startuml\r\n",
       "skinparam monochrome true\r\n",
       "skinparam classbackgroundcolor white\r\n",
       "skinparam shadowing false\r\n",
       "skinparam wrapWidth 300\r\n",
       "hide circle\r\n",
       "\r\n",
       "package \"ParameterTest\" as E1  [[psysml:19b06251-fe6f-4e99-9afa-d6889eb7a18f ]]  {\r\n",
       "comp def \"A\" as E2  <<(T,blue) attribute  def>> [[psysml:a687f627-404e-4522-a6e9-e30e4b3087b4 ]] {\r\n",
       "- - attributes - -\r\n",
       "x: String\r\n",
       "y: A\r\n",
       "}\r\n",
       "comp usage \"a: A \" as E3  <<(T,blue) attribute>> [[psysml:080a965c-bda9-42ef-b0e7-dadea2c4de7a ]] {\r\n",
       "}\r\n",
       "rec def \"F\" as E4  <<(T,blue) calculation  def>> [[psysml:87bb354b-94c0-403b-b7cb-102c1c7ef37a ]] {\r\n",
       "portin \"p\" as E5  [[psysml:16f7e9d3-43d0-4287-8a70-cbe1c91459d8 ]] \r\n",
       "portin \"q\" as E6  [[psysml:b2699d44-082f-48d9-8fe4-b2b87d72af88 ]] \r\n",
       "portout \"result\" as E7  [[psysml:efe4aa1f-bd0b-42c7-877f-48fcbd913317 ]] \r\n",
       "}\r\n",
       "\r\n",
       "comp usage \"f\" as E8  <<(T,blue) attribute>> [[psysml:a95297bf-d64f-43ac-86b7-f9f55eba203a ]] {\r\n",
       "}\r\n",
       "comp usage \"g\" as E9  <<(T,blue) attribute>> [[psysml:778a48ec-a539-4294-8634-0d41b068db9f ]] {\r\n",
       "}\r\n",
       "comp usage \"b\" as E10  <<(T,blue) attribute>> [[psysml:178fd1be-66b7-4b93-9f69-0783143b2542 ]] {\r\n",
       "}\r\n",
       "comp usage \"c\" as E11  <<(T,blue) attribute>> [[psysml:ce14b558-47dc-4a37-8f10-4afbd6cf7826 ]] {\r\n",
       "}\r\n",
       "}\r\n",
       "E3 - -:|> E2 [[psysml:f36357d4-9dbb-46b9-9535-0d41e0b85630 ]] \r\n",
       "@enduml\r\n",
       "\n",
       "PlantUML version 1.2020.13(Sat Jun 13 12:26:38 UTC 2020)\n",
       "(EPL source distribution)\n",
       "Java Runtime: OpenJDK Runtime Environment\n",
       "JVM: OpenJDK 64-Bit Server VM\n",
       "Default Encoding: UTF-8\n",
       "Language: en\n",
       "Country: null\n",
       "--></g></svg>"
      ]
     },
     "execution_count": 43,
     "metadata": {},
     "output_type": "execute_result"
    }
   ],
   "source": [
    "%viz --style=\"DEFAULT\" --view=\"MIXED\" \"ParameterTest\""
   ]
  },
  {
   "cell_type": "code",
   "execution_count": 44,
   "id": "4fb2cbfd",
   "metadata": {
    "execution": {
     "iopub.execute_input": "2021-11-13T12:59:17.485311Z",
     "iopub.status.busy": "2021-11-13T12:59:17.484825Z",
     "iopub.status.idle": "2021-11-13T12:59:17.534815Z",
     "shell.execute_reply": "2021-11-13T12:59:17.534451Z"
    }
   },
   "outputs": [
    {
     "data": {
      "image/svg+xml": [
       "<?xml version=\"1.0\" encoding=\"UTF-8\" standalone=\"no\"?><svg xmlns=\"http://www.w3.org/2000/svg\" xmlns:xlink=\"http://www.w3.org/1999/xlink\" contentScriptType=\"application/ecmascript\" contentStyleType=\"text/css\" height=\"403px\" preserveAspectRatio=\"none\" style=\"width:744px;height:403px;\" version=\"1.1\" viewBox=\"0 0 744 403\" width=\"744px\" zoomAndPan=\"magnify\"><defs/><g><!--MD5=[fbc87193dbaf4d95561dea2c320d4a47]\n",
       "cluster E1--><a href=\"psysml:19b06251-fe6f-4e99-9afa-d6889eb7a18f\" target=\"_top\" title=\"psysml:19b06251-fe6f-4e99-9afa-d6889eb7a18f\" xlink:actuate=\"onRequest\" xlink:href=\"psysml:19b06251-fe6f-4e99-9afa-d6889eb7a18f\" xlink:show=\"new\" xlink:title=\"psysml:19b06251-fe6f-4e99-9afa-d6889eb7a18f\" xlink:type=\"simple\"><polygon fill=\"#FFFFFF\" points=\"16,6,124,6,131,28.2969,722,28.2969,722,391.72,16,391.72,16,6\" style=\"stroke: #000000; stroke-width: 1.5;\"/><line style=\"stroke: #000000; stroke-width: 1.5;\" x1=\"16\" x2=\"131\" y1=\"28.2969\" y2=\"28.2969\"/><text fill=\"#000000\" font-family=\"sans-serif\" font-size=\"14\" font-weight=\"bold\" lengthAdjust=\"spacingAndGlyphs\" textLength=\"102\" x=\"20\" y=\"20.9951\">ParameterTest</text></a><!--MD5=[f6df4d0ebaf0b5dfb2ced0ae5af7c670]\n",
       "cluster E4--><a href=\"psysml:87bb354b-94c0-403b-b7cb-102c1c7ef37a\" target=\"_top\" title=\"psysml:87bb354b-94c0-403b-b7cb-102c1c7ef37a\" xlink:actuate=\"onRequest\" xlink:href=\"psysml:87bb354b-94c0-403b-b7cb-102c1c7ef37a\" xlink:show=\"new\" xlink:title=\"psysml:87bb354b-94c0-403b-b7cb-102c1c7ef37a\" xlink:type=\"simple\"><rect fill=\"#FFFFFF\" height=\"297.72\" id=\"E4\" style=\"stroke: #383838; stroke-width: 1.5;\" width=\"150\" x=\"556\" y=\"64\"/><rect fill=\"#F8F8F8\" height=\"37.9375\" style=\"stroke: #383838; stroke-width: 1.5;\" width=\"150\" x=\"556\" y=\"64\"/><text fill=\"#000000\" font-family=\"sans-serif\" font-size=\"12\" font-style=\"italic\" lengthAdjust=\"spacingAndGlyphs\" textLength=\"110\" x=\"576\" y=\"80.1387\">«calculation  def»</text><text fill=\"#000000\" font-family=\"sans-serif\" font-size=\"12\" lengthAdjust=\"spacingAndGlyphs\" textLength=\"7\" x=\"627.5\" y=\"94.1074\">F</text></a><!--MD5=[b4997ac47864f28c2f74865a473b2911]\n",
       "class E2--><a href=\"psysml:a687f627-404e-4522-a6e9-e30e4b3087b4\" target=\"_top\" title=\"psysml:a687f627-404e-4522-a6e9-e30e4b3087b4\" xlink:actuate=\"onRequest\" xlink:href=\"psysml:a687f627-404e-4522-a6e9-e30e4b3087b4\" xlink:show=\"new\" xlink:title=\"psysml:a687f627-404e-4522-a6e9-e30e4b3087b4\" xlink:type=\"simple\"><rect fill=\"#FFFFFF\" height=\"88.3516\" id=\"E2\" style=\"stroke: #383838; stroke-width: 1.5;\" width=\"99\" x=\"418.5\" y=\"147\"/><text fill=\"#000000\" font-family=\"sans-serif\" font-size=\"12\" font-style=\"italic\" lengthAdjust=\"spacingAndGlyphs\" textLength=\"97\" x=\"419.5\" y=\"163.1387\">«attribute  def»</text><text fill=\"#000000\" font-family=\"sans-serif\" font-size=\"12\" lengthAdjust=\"spacingAndGlyphs\" textLength=\"8\" x=\"464\" y=\"177.1074\">A</text><line style=\"stroke: #383838; stroke-width: 1.5;\" x1=\"419.5\" x2=\"516.5\" y1=\"184.9375\" y2=\"184.9375\"/><text fill=\"#000000\" font-family=\"sans-serif\" font-size=\"11\" lengthAdjust=\"spacingAndGlyphs\" textLength=\"48\" x=\"424.5\" y=\"215.9526\">x: String</text><text fill=\"#000000\" font-family=\"sans-serif\" font-size=\"11\" lengthAdjust=\"spacingAndGlyphs\" textLength=\"21\" x=\"424.5\" y=\"228.7573\">y: A</text><line style=\"stroke: #383838; stroke-width: 1.0;\" x1=\"419.5\" x2=\"440.5\" y1=\"199.3398\" y2=\"199.3398\"/><text fill=\"#000000\" font-family=\"sans-serif\" font-size=\"11\" lengthAdjust=\"spacingAndGlyphs\" textLength=\"55\" x=\"440.5\" y=\"202.6479\">attributes</text><line style=\"stroke: #383838; stroke-width: 1.0;\" x1=\"495.5\" x2=\"516.5\" y1=\"199.3398\" y2=\"199.3398\"/></a><!--MD5=[09b614a08d8cba4a07c9adeb5e0fee81]\n",
       "class E3--><a href=\"psysml:080a965c-bda9-42ef-b0e7-dadea2c4de7a\" target=\"_top\" title=\"psysml:080a965c-bda9-42ef-b0e7-dadea2c4de7a\" xlink:actuate=\"onRequest\" xlink:href=\"psysml:080a965c-bda9-42ef-b0e7-dadea2c4de7a\" xlink:show=\"new\" xlink:title=\"psysml:080a965c-bda9-42ef-b0e7-dadea2c4de7a\" xlink:type=\"simple\"><rect fill=\"#FFFFFF\" height=\"45.9375\" id=\"E3\" rx=\"10\" ry=\"10\" style=\"stroke: #383838; stroke-width: 1.5;\" width=\"71\" x=\"456.5\" y=\"41\"/><text fill=\"#000000\" font-family=\"sans-serif\" font-size=\"12\" font-style=\"italic\" lengthAdjust=\"spacingAndGlyphs\" textLength=\"69\" x=\"457.5\" y=\"57.1387\">«attribute»</text><text fill=\"#000000\" font-family=\"sans-serif\" font-size=\"12\" lengthAdjust=\"spacingAndGlyphs\" textLength=\"24\" x=\"478\" y=\"71.1074\">a: A</text><line style=\"stroke: #383838; stroke-width: 1.5;\" x1=\"457.5\" x2=\"526.5\" y1=\"78.9375\" y2=\"78.9375\"/></a><!--MD5=[b9389687b975829384b498ac4b7476b2]\n",
       "class E8--><a href=\"psysml:a95297bf-d64f-43ac-86b7-f9f55eba203a\" target=\"_top\" title=\"psysml:a95297bf-d64f-43ac-86b7-f9f55eba203a\" xlink:actuate=\"onRequest\" xlink:href=\"psysml:a95297bf-d64f-43ac-86b7-f9f55eba203a\" xlink:show=\"new\" xlink:title=\"psysml:a95297bf-d64f-43ac-86b7-f9f55eba203a\" xlink:type=\"simple\"><rect fill=\"#FFFFFF\" height=\"45.9375\" id=\"E8\" rx=\"10\" ry=\"10\" style=\"stroke: #383838; stroke-width: 1.5;\" width=\"71\" x=\"350.5\" y=\"41\"/><text fill=\"#000000\" font-family=\"sans-serif\" font-size=\"12\" font-style=\"italic\" lengthAdjust=\"spacingAndGlyphs\" textLength=\"69\" x=\"351.5\" y=\"57.1387\">«attribute»</text><text fill=\"#000000\" font-family=\"sans-serif\" font-size=\"12\" lengthAdjust=\"spacingAndGlyphs\" textLength=\"4\" x=\"384\" y=\"71.1074\">f</text><line style=\"stroke: #383838; stroke-width: 1.5;\" x1=\"351.5\" x2=\"420.5\" y1=\"78.9375\" y2=\"78.9375\"/></a><!--MD5=[fd4143e9d270a159db93a4ea2a975926]\n",
       "class E9--><a href=\"psysml:778a48ec-a539-4294-8634-0d41b068db9f\" target=\"_top\" title=\"psysml:778a48ec-a539-4294-8634-0d41b068db9f\" xlink:actuate=\"onRequest\" xlink:href=\"psysml:778a48ec-a539-4294-8634-0d41b068db9f\" xlink:show=\"new\" xlink:title=\"psysml:778a48ec-a539-4294-8634-0d41b068db9f\" xlink:type=\"simple\"><rect fill=\"#FFFFFF\" height=\"45.9375\" id=\"E9\" rx=\"10\" ry=\"10\" style=\"stroke: #383838; stroke-width: 1.5;\" width=\"71\" x=\"244.5\" y=\"41\"/><text fill=\"#000000\" font-family=\"sans-serif\" font-size=\"12\" font-style=\"italic\" lengthAdjust=\"spacingAndGlyphs\" textLength=\"69\" x=\"245.5\" y=\"57.1387\">«attribute»</text><text fill=\"#000000\" font-family=\"sans-serif\" font-size=\"12\" lengthAdjust=\"spacingAndGlyphs\" textLength=\"8\" x=\"276\" y=\"71.1074\">g</text><line style=\"stroke: #383838; stroke-width: 1.5;\" x1=\"245.5\" x2=\"314.5\" y1=\"78.9375\" y2=\"78.9375\"/></a><!--MD5=[96f4274e9e20536e775497830990834d]\n",
       "class E10--><a href=\"psysml:178fd1be-66b7-4b93-9f69-0783143b2542\" target=\"_top\" title=\"psysml:178fd1be-66b7-4b93-9f69-0783143b2542\" xlink:actuate=\"onRequest\" xlink:href=\"psysml:178fd1be-66b7-4b93-9f69-0783143b2542\" xlink:show=\"new\" xlink:title=\"psysml:178fd1be-66b7-4b93-9f69-0783143b2542\" xlink:type=\"simple\"><rect fill=\"#FFFFFF\" height=\"45.9375\" id=\"E10\" rx=\"10\" ry=\"10\" style=\"stroke: #383838; stroke-width: 1.5;\" width=\"71\" x=\"138.5\" y=\"41\"/><text fill=\"#000000\" font-family=\"sans-serif\" font-size=\"12\" font-style=\"italic\" lengthAdjust=\"spacingAndGlyphs\" textLength=\"69\" x=\"139.5\" y=\"57.1387\">«attribute»</text><text fill=\"#000000\" font-family=\"sans-serif\" font-size=\"12\" lengthAdjust=\"spacingAndGlyphs\" textLength=\"8\" x=\"170\" y=\"71.1074\">b</text><line style=\"stroke: #383838; stroke-width: 1.5;\" x1=\"139.5\" x2=\"208.5\" y1=\"78.9375\" y2=\"78.9375\"/></a><!--MD5=[1dd1bfd58a279cf63c5f349dbc8fc6a1]\n",
       "class E11--><a href=\"psysml:ce14b558-47dc-4a37-8f10-4afbd6cf7826\" target=\"_top\" title=\"psysml:ce14b558-47dc-4a37-8f10-4afbd6cf7826\" xlink:actuate=\"onRequest\" xlink:href=\"psysml:ce14b558-47dc-4a37-8f10-4afbd6cf7826\" xlink:show=\"new\" xlink:title=\"psysml:ce14b558-47dc-4a37-8f10-4afbd6cf7826\" xlink:type=\"simple\"><rect fill=\"#FFFFFF\" height=\"45.9375\" id=\"E11\" rx=\"10\" ry=\"10\" style=\"stroke: #383838; stroke-width: 1.5;\" width=\"71\" x=\"32.5\" y=\"41\"/><text fill=\"#000000\" font-family=\"sans-serif\" font-size=\"12\" font-style=\"italic\" lengthAdjust=\"spacingAndGlyphs\" textLength=\"69\" x=\"33.5\" y=\"57.1387\">«attribute»</text><text fill=\"#000000\" font-family=\"sans-serif\" font-size=\"12\" lengthAdjust=\"spacingAndGlyphs\" textLength=\"7\" x=\"64.5\" y=\"71.1074\">c</text><line style=\"stroke: #383838; stroke-width: 1.5;\" x1=\"33.5\" x2=\"102.5\" y1=\"78.9375\" y2=\"78.9375\"/></a><text fill=\"#000000\" font-family=\"sans-serif\" font-size=\"14\" lengthAdjust=\"spacingAndGlyphs\" textLength=\"9\" x=\"569.5\" y=\"42.6982\">p</text><rect fill=\"#383838\" height=\"12\" style=\"stroke: #F8F8F8; stroke-width: 1.5;\" width=\"12\" x=\"568\" y=\"58\"/><text fill=\"#000000\" font-family=\"sans-serif\" font-size=\"14\" lengthAdjust=\"spacingAndGlyphs\" textLength=\"9\" x=\"616.5\" y=\"42.6982\">q</text><rect fill=\"#383838\" height=\"12\" style=\"stroke: #F8F8F8; stroke-width: 1.5;\" width=\"12\" x=\"615\" y=\"58\"/><text fill=\"#000000\" font-family=\"sans-serif\" font-size=\"14\" lengthAdjust=\"spacingAndGlyphs\" textLength=\"39\" x=\"601.5\" y=\"380.7151\">result</text><rect fill=\"#383838\" height=\"12\" style=\"stroke: #F8F8F8; stroke-width: 1.5;\" width=\"12\" x=\"615\" y=\"355.72\"/><!--MD5=[05d275557350bfb9b23a4ef7222b4c39]\n",
       "link E3 to E2--><a href=\"psysml:f36357d4-9dbb-46b9-9535-0d41e0b85630\" target=\"_top\" title=\"psysml:f36357d4-9dbb-46b9-9535-0d41e0b85630\" xlink:actuate=\"onRequest\" xlink:href=\"psysml:f36357d4-9dbb-46b9-9535-0d41e0b85630\" xlink:show=\"new\" xlink:title=\"psysml:f36357d4-9dbb-46b9-9535-0d41e0b85630\" xlink:type=\"simple\"><path d=\"M487.76,87.06 C485.61,98.3 482.86,112.6 480.11,126.95 \" fill=\"none\" id=\"E3-&gt;E2\" style=\"stroke: #383838; stroke-width: 1.0;\"/><polygon fill=\"#FFFFFF\" points=\"476.27,146.93,472.9781,126.9509,486.727,129.5907,476.27,146.93\" style=\"stroke: #383838; stroke-width: 1.0;\"/><ellipse cx=\"476.017\" cy=\"121.7303\" fill=\"#383838\" rx=\"2\" ry=\"2\" style=\"stroke: #383838; stroke-width: 1.0;\"/><ellipse cx=\"485.8376\" cy=\"123.6158\" fill=\"#383838\" rx=\"2\" ry=\"2\" style=\"stroke: #383838; stroke-width: 1.0;\"/></a><!--MD5=[e6eb9de183434dfe44e83dabe306c82f]\n",
       "@startuml\r\n",
       "top to bottom direction\r\n",
       "skinparam monochrome true\r\n",
       "skinparam classbackgroundcolor white\r\n",
       "skinparam shadowing false\r\n",
       "skinparam wrapWidth 300\r\n",
       "hide circle\r\n",
       "\r\n",
       "package \"ParameterTest\" as E1  [[psysml:19b06251-fe6f-4e99-9afa-d6889eb7a18f ]]  {\r\n",
       "comp def \"A\" as E2  <<(T,blue) attribute  def>> [[psysml:a687f627-404e-4522-a6e9-e30e4b3087b4 ]] {\r\n",
       "- - attributes - -\r\n",
       "x: String\r\n",
       "y: A\r\n",
       "}\r\n",
       "comp usage \"a: A \" as E3  <<(T,blue) attribute>> [[psysml:080a965c-bda9-42ef-b0e7-dadea2c4de7a ]] {\r\n",
       "}\r\n",
       "rec def \"F\" as E4  <<(T,blue) calculation  def>> [[psysml:87bb354b-94c0-403b-b7cb-102c1c7ef37a ]] {\r\n",
       "portin \"p\" as E5  [[psysml:16f7e9d3-43d0-4287-8a70-cbe1c91459d8 ]] \r\n",
       "portin \"q\" as E6  [[psysml:b2699d44-082f-48d9-8fe4-b2b87d72af88 ]] \r\n",
       "portout \"result\" as E7  [[psysml:efe4aa1f-bd0b-42c7-877f-48fcbd913317 ]] \r\n",
       "}\r\n",
       "\r\n",
       "comp usage \"f\" as E8  <<(T,blue) attribute>> [[psysml:a95297bf-d64f-43ac-86b7-f9f55eba203a ]] {\r\n",
       "}\r\n",
       "comp usage \"g\" as E9  <<(T,blue) attribute>> [[psysml:778a48ec-a539-4294-8634-0d41b068db9f ]] {\r\n",
       "}\r\n",
       "comp usage \"b\" as E10  <<(T,blue) attribute>> [[psysml:178fd1be-66b7-4b93-9f69-0783143b2542 ]] {\r\n",
       "}\r\n",
       "comp usage \"c\" as E11  <<(T,blue) attribute>> [[psysml:ce14b558-47dc-4a37-8f10-4afbd6cf7826 ]] {\r\n",
       "}\r\n",
       "}\r\n",
       "E3 - -:|> E2 [[psysml:f36357d4-9dbb-46b9-9535-0d41e0b85630 ]] \r\n",
       "@enduml\r\n",
       "\n",
       "PlantUML version 1.2020.13(Sat Jun 13 12:26:38 UTC 2020)\n",
       "(EPL source distribution)\n",
       "Java Runtime: OpenJDK Runtime Environment\n",
       "JVM: OpenJDK 64-Bit Server VM\n",
       "Default Encoding: UTF-8\n",
       "Language: en\n",
       "Country: null\n",
       "--></g></svg>"
      ]
     },
     "execution_count": 44,
     "metadata": {},
     "output_type": "execute_result"
    }
   ],
   "source": [
    "%viz --style=\"TB\" --view=\"Default\" \"ParameterTest\""
   ]
  },
  {
   "cell_type": "code",
   "execution_count": 45,
   "id": "9d6b026e",
   "metadata": {
    "execution": {
     "iopub.execute_input": "2021-11-13T12:59:17.584074Z",
     "iopub.status.busy": "2021-11-13T12:59:17.583484Z",
     "iopub.status.idle": "2021-11-13T12:59:17.656164Z",
     "shell.execute_reply": "2021-11-13T12:59:17.654322Z"
    }
   },
   "outputs": [
    {
     "data": {
      "image/svg+xml": [
       "<?xml version=\"1.0\" encoding=\"UTF-8\" standalone=\"no\"?><svg xmlns=\"http://www.w3.org/2000/svg\" xmlns:xlink=\"http://www.w3.org/1999/xlink\" contentScriptType=\"application/ecmascript\" contentStyleType=\"text/css\" height=\"322px\" preserveAspectRatio=\"none\" style=\"width:714px;height:322px;\" version=\"1.1\" viewBox=\"0 0 714 322\" width=\"714px\" zoomAndPan=\"magnify\"><defs/><g><!--MD5=[fbc87193dbaf4d95561dea2c320d4a47]\n",
       "cluster E1--><a href=\"psysml:19b06251-fe6f-4e99-9afa-d6889eb7a18f\" target=\"_top\" title=\"psysml:19b06251-fe6f-4e99-9afa-d6889eb7a18f\" xlink:actuate=\"onRequest\" xlink:href=\"psysml:19b06251-fe6f-4e99-9afa-d6889eb7a18f\" xlink:show=\"new\" xlink:title=\"psysml:19b06251-fe6f-4e99-9afa-d6889eb7a18f\" xlink:type=\"simple\"><polygon fill=\"#FFFFFF\" points=\"16,6,124,6,131,28.2969,692,28.2969,692,310,16,310,16,6\" style=\"stroke: #000000; stroke-width: 1.5;\"/><line style=\"stroke: #000000; stroke-width: 1.5;\" x1=\"16\" x2=\"131\" y1=\"28.2969\" y2=\"28.2969\"/><text fill=\"#000000\" font-family=\"sans-serif\" font-size=\"14\" font-weight=\"bold\" lengthAdjust=\"spacingAndGlyphs\" textLength=\"102\" x=\"20\" y=\"20.9951\">ParameterTest</text></a><!--MD5=[b4997ac47864f28c2f74865a473b2911]\n",
       "class E2--><a href=\"psysml:a687f627-404e-4522-a6e9-e30e4b3087b4\" target=\"_top\" title=\"psysml:a687f627-404e-4522-a6e9-e30e4b3087b4\" xlink:actuate=\"onRequest\" xlink:href=\"psysml:a687f627-404e-4522-a6e9-e30e4b3087b4\" xlink:show=\"new\" xlink:title=\"psysml:a687f627-404e-4522-a6e9-e30e4b3087b4\" xlink:type=\"simple\"><rect fill=\"#FFFFFF\" height=\"88.3516\" id=\"E2\" style=\"stroke: #383838; stroke-width: 1.5;\" width=\"99\" x=\"513.5\" y=\"206\"/><text fill=\"#000000\" font-family=\"sans-serif\" font-size=\"12\" font-style=\"italic\" lengthAdjust=\"spacingAndGlyphs\" textLength=\"97\" x=\"514.5\" y=\"222.1387\">«attribute  def»</text><text fill=\"#000000\" font-family=\"sans-serif\" font-size=\"12\" lengthAdjust=\"spacingAndGlyphs\" textLength=\"8\" x=\"559\" y=\"236.1074\">A</text><line style=\"stroke: #383838; stroke-width: 1.5;\" x1=\"514.5\" x2=\"611.5\" y1=\"243.9375\" y2=\"243.9375\"/><text fill=\"#000000\" font-family=\"sans-serif\" font-size=\"11\" lengthAdjust=\"spacingAndGlyphs\" textLength=\"48\" x=\"519.5\" y=\"274.9526\">x: String</text><text fill=\"#000000\" font-family=\"sans-serif\" font-size=\"11\" lengthAdjust=\"spacingAndGlyphs\" textLength=\"21\" x=\"519.5\" y=\"287.7573\">y: A</text><line style=\"stroke: #383838; stroke-width: 1.0;\" x1=\"514.5\" x2=\"535.5\" y1=\"258.3398\" y2=\"258.3398\"/><text fill=\"#000000\" font-family=\"sans-serif\" font-size=\"11\" lengthAdjust=\"spacingAndGlyphs\" textLength=\"55\" x=\"535.5\" y=\"261.6479\">attributes</text><line style=\"stroke: #383838; stroke-width: 1.0;\" x1=\"590.5\" x2=\"611.5\" y1=\"258.3398\" y2=\"258.3398\"/></a><!--MD5=[09b614a08d8cba4a07c9adeb5e0fee81]\n",
       "class E3--><a href=\"psysml:080a965c-bda9-42ef-b0e7-dadea2c4de7a\" target=\"_top\" title=\"psysml:080a965c-bda9-42ef-b0e7-dadea2c4de7a\" xlink:actuate=\"onRequest\" xlink:href=\"psysml:080a965c-bda9-42ef-b0e7-dadea2c4de7a\" xlink:show=\"new\" xlink:title=\"psysml:080a965c-bda9-42ef-b0e7-dadea2c4de7a\" xlink:type=\"simple\"><rect fill=\"#FFFFFF\" height=\"45.9375\" id=\"E3\" rx=\"10\" ry=\"10\" style=\"stroke: #383838; stroke-width: 1.5;\" width=\"71\" x=\"604.5\" y=\"62\"/><text fill=\"#000000\" font-family=\"sans-serif\" font-size=\"12\" font-style=\"italic\" lengthAdjust=\"spacingAndGlyphs\" textLength=\"69\" x=\"605.5\" y=\"78.1387\">«attribute»</text><text fill=\"#000000\" font-family=\"sans-serif\" font-size=\"12\" lengthAdjust=\"spacingAndGlyphs\" textLength=\"24\" x=\"626\" y=\"92.1074\">a: A</text><line style=\"stroke: #383838; stroke-width: 1.5;\" x1=\"605.5\" x2=\"674.5\" y1=\"99.9375\" y2=\"99.9375\"/></a><!--MD5=[ebbe1d658d1005bcc118a6aa81145e00]\n",
       "class E4--><a href=\"psysml:87bb354b-94c0-403b-b7cb-102c1c7ef37a\" target=\"_top\" title=\"psysml:87bb354b-94c0-403b-b7cb-102c1c7ef37a\" xlink:actuate=\"onRequest\" xlink:href=\"psysml:87bb354b-94c0-403b-b7cb-102c1c7ef37a\" xlink:show=\"new\" xlink:title=\"psysml:87bb354b-94c0-403b-b7cb-102c1c7ef37a\" xlink:type=\"simple\"><rect fill=\"#FFFFFF\" height=\"88.3516\" id=\"E4\" style=\"stroke: #383838; stroke-width: 1.5;\" width=\"112\" x=\"457\" y=\"41\"/><text fill=\"#000000\" font-family=\"sans-serif\" font-size=\"12\" font-style=\"italic\" lengthAdjust=\"spacingAndGlyphs\" textLength=\"110\" x=\"458\" y=\"57.1387\">«calculation  def»</text><text fill=\"#000000\" font-family=\"sans-serif\" font-size=\"12\" lengthAdjust=\"spacingAndGlyphs\" textLength=\"7\" x=\"509.5\" y=\"71.1074\">F</text><line style=\"stroke: #383838; stroke-width: 1.5;\" x1=\"458\" x2=\"568\" y1=\"78.9375\" y2=\"78.9375\"/><text fill=\"#000000\" font-family=\"sans-serif\" font-size=\"11\" font-weight=\"bold\" lengthAdjust=\"spacingAndGlyphs\" textLength=\"10\" x=\"463\" y=\"109.9526\">in</text><text fill=\"#000000\" font-family=\"sans-serif\" font-size=\"11\" lengthAdjust=\"spacingAndGlyphs\" textLength=\"22\" x=\"477\" y=\"109.9526\">p: A</text><text fill=\"#000000\" font-family=\"sans-serif\" font-size=\"11\" font-weight=\"bold\" lengthAdjust=\"spacingAndGlyphs\" textLength=\"10\" x=\"463\" y=\"122.7573\">in</text><text fill=\"#000000\" font-family=\"sans-serif\" font-size=\"11\" lengthAdjust=\"spacingAndGlyphs\" textLength=\"55\" x=\"477\" y=\"122.7573\">q: Integer</text><line style=\"stroke: #383838; stroke-width: 1.0;\" x1=\"458\" x2=\"479.5\" y1=\"93.3398\" y2=\"93.3398\"/><text fill=\"#000000\" font-family=\"sans-serif\" font-size=\"11\" lengthAdjust=\"spacingAndGlyphs\" textLength=\"67\" x=\"479.5\" y=\"96.6479\">parameters</text><line style=\"stroke: #383838; stroke-width: 1.0;\" x1=\"546.5\" x2=\"568\" y1=\"93.3398\" y2=\"93.3398\"/></a><!--MD5=[270fce915f116d4de14055a7c1d9a0f3]\n",
       "class E5--><a href=\"psysml:a95297bf-d64f-43ac-86b7-f9f55eba203a\" target=\"_top\" title=\"psysml:a95297bf-d64f-43ac-86b7-f9f55eba203a\" xlink:actuate=\"onRequest\" xlink:href=\"psysml:a95297bf-d64f-43ac-86b7-f9f55eba203a\" xlink:show=\"new\" xlink:title=\"psysml:a95297bf-d64f-43ac-86b7-f9f55eba203a\" xlink:type=\"simple\"><rect fill=\"#FFFFFF\" height=\"45.9375\" id=\"E5\" rx=\"10\" ry=\"10\" style=\"stroke: #383838; stroke-width: 1.5;\" width=\"71\" x=\"350.5\" y=\"62\"/><text fill=\"#000000\" font-family=\"sans-serif\" font-size=\"12\" font-style=\"italic\" lengthAdjust=\"spacingAndGlyphs\" textLength=\"69\" x=\"351.5\" y=\"78.1387\">«attribute»</text><text fill=\"#000000\" font-family=\"sans-serif\" font-size=\"12\" lengthAdjust=\"spacingAndGlyphs\" textLength=\"4\" x=\"384\" y=\"92.1074\">f</text><line style=\"stroke: #383838; stroke-width: 1.5;\" x1=\"351.5\" x2=\"420.5\" y1=\"99.9375\" y2=\"99.9375\"/></a><!--MD5=[60a26617385b1d2d0262a64233df1f8d]\n",
       "class E6--><a href=\"psysml:778a48ec-a539-4294-8634-0d41b068db9f\" target=\"_top\" title=\"psysml:778a48ec-a539-4294-8634-0d41b068db9f\" xlink:actuate=\"onRequest\" xlink:href=\"psysml:778a48ec-a539-4294-8634-0d41b068db9f\" xlink:show=\"new\" xlink:title=\"psysml:778a48ec-a539-4294-8634-0d41b068db9f\" xlink:type=\"simple\"><rect fill=\"#FFFFFF\" height=\"45.9375\" id=\"E6\" rx=\"10\" ry=\"10\" style=\"stroke: #383838; stroke-width: 1.5;\" width=\"71\" x=\"244.5\" y=\"62\"/><text fill=\"#000000\" font-family=\"sans-serif\" font-size=\"12\" font-style=\"italic\" lengthAdjust=\"spacingAndGlyphs\" textLength=\"69\" x=\"245.5\" y=\"78.1387\">«attribute»</text><text fill=\"#000000\" font-family=\"sans-serif\" font-size=\"12\" lengthAdjust=\"spacingAndGlyphs\" textLength=\"8\" x=\"276\" y=\"92.1074\">g</text><line style=\"stroke: #383838; stroke-width: 1.5;\" x1=\"245.5\" x2=\"314.5\" y1=\"99.9375\" y2=\"99.9375\"/></a><!--MD5=[2156ba9850f5573cc1fc38a6a4b2f02b]\n",
       "class E7--><a href=\"psysml:178fd1be-66b7-4b93-9f69-0783143b2542\" target=\"_top\" title=\"psysml:178fd1be-66b7-4b93-9f69-0783143b2542\" xlink:actuate=\"onRequest\" xlink:href=\"psysml:178fd1be-66b7-4b93-9f69-0783143b2542\" xlink:show=\"new\" xlink:title=\"psysml:178fd1be-66b7-4b93-9f69-0783143b2542\" xlink:type=\"simple\"><rect fill=\"#FFFFFF\" height=\"45.9375\" id=\"E7\" rx=\"10\" ry=\"10\" style=\"stroke: #383838; stroke-width: 1.5;\" width=\"71\" x=\"138.5\" y=\"62\"/><text fill=\"#000000\" font-family=\"sans-serif\" font-size=\"12\" font-style=\"italic\" lengthAdjust=\"spacingAndGlyphs\" textLength=\"69\" x=\"139.5\" y=\"78.1387\">«attribute»</text><text fill=\"#000000\" font-family=\"sans-serif\" font-size=\"12\" lengthAdjust=\"spacingAndGlyphs\" textLength=\"8\" x=\"170\" y=\"92.1074\">b</text><line style=\"stroke: #383838; stroke-width: 1.5;\" x1=\"139.5\" x2=\"208.5\" y1=\"99.9375\" y2=\"99.9375\"/></a><!--MD5=[b9389687b975829384b498ac4b7476b2]\n",
       "class E8--><a href=\"psysml:ce14b558-47dc-4a37-8f10-4afbd6cf7826\" target=\"_top\" title=\"psysml:ce14b558-47dc-4a37-8f10-4afbd6cf7826\" xlink:actuate=\"onRequest\" xlink:href=\"psysml:ce14b558-47dc-4a37-8f10-4afbd6cf7826\" xlink:show=\"new\" xlink:title=\"psysml:ce14b558-47dc-4a37-8f10-4afbd6cf7826\" xlink:type=\"simple\"><rect fill=\"#FFFFFF\" height=\"45.9375\" id=\"E8\" rx=\"10\" ry=\"10\" style=\"stroke: #383838; stroke-width: 1.5;\" width=\"71\" x=\"32.5\" y=\"62\"/><text fill=\"#000000\" font-family=\"sans-serif\" font-size=\"12\" font-style=\"italic\" lengthAdjust=\"spacingAndGlyphs\" textLength=\"69\" x=\"33.5\" y=\"78.1387\">«attribute»</text><text fill=\"#000000\" font-family=\"sans-serif\" font-size=\"12\" lengthAdjust=\"spacingAndGlyphs\" textLength=\"7\" x=\"64.5\" y=\"92.1074\">c</text><line style=\"stroke: #383838; stroke-width: 1.5;\" x1=\"33.5\" x2=\"102.5\" y1=\"99.9375\" y2=\"99.9375\"/></a><!--MD5=[05d275557350bfb9b23a4ef7222b4c39]\n",
       "link E3 to E2--><a href=\"psysml:f36357d4-9dbb-46b9-9535-0d41e0b85630\" target=\"_top\" title=\"psysml:f36357d4-9dbb-46b9-9535-0d41e0b85630\" xlink:actuate=\"onRequest\" xlink:href=\"psysml:f36357d4-9dbb-46b9-9535-0d41e0b85630\" xlink:show=\"new\" xlink:title=\"psysml:f36357d4-9dbb-46b9-9535-0d41e0b85630\" xlink:type=\"simple\"><path d=\"M629.45,108.32 C619.8,128.75 605.07,159.95 591.92,187.77 \" fill=\"none\" id=\"E3-&gt;E2\" style=\"stroke: #383838; stroke-width: 1.0;\"/><polygon fill=\"#FFFFFF\" points=\"583.37,205.87,585.1617,185.701,597.8187,191.6843,583.37,205.87\" style=\"stroke: #383838; stroke-width: 1.0;\"/><ellipse cx=\"589.4059\" cy=\"181.4025\" fill=\"#383838\" rx=\"2\" ry=\"2\" style=\"stroke: #383838; stroke-width: 1.0;\"/><ellipse cx=\"598.4466\" cy=\"185.6763\" fill=\"#383838\" rx=\"2\" ry=\"2\" style=\"stroke: #383838; stroke-width: 1.0;\"/></a><!--MD5=[ddeed8deb2209213b62e6cfabaa108b2]\n",
       "reverse link E4 to E2--><a href=\"psysml:16f7e9d3-43d0-4287-8a70-cbe1c91459d8\" target=\"_top\" title=\"psysml:16f7e9d3-43d0-4287-8a70-cbe1c91459d8\" xlink:actuate=\"onRequest\" xlink:href=\"psysml:16f7e9d3-43d0-4287-8a70-cbe1c91459d8\" xlink:show=\"new\" xlink:title=\"psysml:16f7e9d3-43d0-4287-8a70-cbe1c91459d8\" xlink:type=\"simple\"><path d=\"M507.86,142.39 C508.25,153.71 509.71,165.38 513,176 C516.18,186.27 521.36,196.38 527.21,205.66 \" fill=\"none\" id=\"E4&lt;-E2\" style=\"stroke: #383838; stroke-width: 1.0;\"/><polygon fill=\"#FFFFFF\" points=\"507.84,129.36,503.8466,135.3644,507.8532,141.36,511.8466,135.3556,507.84,129.36\" style=\"stroke: #383838; stroke-width: 1.0;\"/><text fill=\"#000000\" font-family=\"sans-serif\" font-size=\"13\" lengthAdjust=\"spacingAndGlyphs\" textLength=\"8\" x=\"514\" y=\"172.0669\">p</text></a><!--MD5=[ddeed8deb2209213b62e6cfabaa108b2]\n",
       "reverse link E4 to E2--><a href=\"psysml:16f7e9d3-43d0-4287-8a70-cbe1c91459d8\" target=\"_top\" title=\"psysml:16f7e9d3-43d0-4287-8a70-cbe1c91459d8\" xlink:actuate=\"onRequest\" xlink:href=\"psysml:16f7e9d3-43d0-4287-8a70-cbe1c91459d8\" xlink:show=\"new\" xlink:title=\"psysml:16f7e9d3-43d0-4287-8a70-cbe1c91459d8\" xlink:type=\"simple\"><path d=\"M530.15,141.9 C536.56,162.81 543.75,186.23 549.76,205.83 \" fill=\"none\" id=\"E4&lt;-E2-1\" style=\"stroke: #383838; stroke-width: 1.0;\"/><polygon fill=\"#FFFFFF\" points=\"526.27,129.25,524.2064,136.1595,529.7907,140.7219,531.8543,133.8124,526.27,129.25\" style=\"stroke: #383838; stroke-width: 1.0;\"/><text fill=\"#000000\" font-family=\"sans-serif\" font-size=\"13\" lengthAdjust=\"spacingAndGlyphs\" textLength=\"8\" x=\"540\" y=\"172.0669\">p</text></a><!--MD5=[0fd1cd1c89b0e95ab544d4d02c2466db]\n",
       "@startuml\r\n",
       "top to bottom direction\r\n",
       "skinparam monochrome true\r\n",
       "skinparam classbackgroundcolor white\r\n",
       "skinparam shadowing false\r\n",
       "skinparam wrapWidth 300\r\n",
       "hide circle\r\n",
       "\r\n",
       "package \"ParameterTest\" as E1  [[psysml:19b06251-fe6f-4e99-9afa-d6889eb7a18f ]]  {\r\n",
       "comp def \"A\" as E2  <<(T,blue) attribute  def>> [[psysml:a687f627-404e-4522-a6e9-e30e4b3087b4 ]] {\r\n",
       "- - attributes - -\r\n",
       "x: String\r\n",
       "y: A\r\n",
       "}\r\n",
       "comp usage \"a: A \" as E3  <<(T,blue) attribute>> [[psysml:080a965c-bda9-42ef-b0e7-dadea2c4de7a ]] {\r\n",
       "}\r\n",
       "comp def \"F\" as E4  <<(T,blue) calculation  def>> [[psysml:87bb354b-94c0-403b-b7cb-102c1c7ef37a ]] {\r\n",
       "- - parameters - -\r\n",
       "<b>in</b> p: A\r\n",
       "<b>in</b> q: Integer\r\n",
       "}\r\n",
       "comp usage \"f\" as E5  <<(T,blue) attribute>> [[psysml:a95297bf-d64f-43ac-86b7-f9f55eba203a ]] {\r\n",
       "}\r\n",
       "comp usage \"g\" as E6  <<(T,blue) attribute>> [[psysml:778a48ec-a539-4294-8634-0d41b068db9f ]] {\r\n",
       "}\r\n",
       "comp usage \"b\" as E7  <<(T,blue) attribute>> [[psysml:178fd1be-66b7-4b93-9f69-0783143b2542 ]] {\r\n",
       "}\r\n",
       "comp usage \"c\" as E8  <<(T,blue) attribute>> [[psysml:ce14b558-47dc-4a37-8f10-4afbd6cf7826 ]] {\r\n",
       "}\r\n",
       "}\r\n",
       "E3 - -:|> E2 [[psysml:f36357d4-9dbb-46b9-9535-0d41e0b85630 ]] \r\n",
       "E4 o- - E2 [[psysml:16f7e9d3-43d0-4287-8a70-cbe1c91459d8 ]] : p\r\n",
       "E4 o- - E2 [[psysml:16f7e9d3-43d0-4287-8a70-cbe1c91459d8 ]] : p\r\n",
       "@enduml\r\n",
       "\n",
       "PlantUML version 1.2020.13(Sat Jun 13 12:26:38 UTC 2020)\n",
       "(EPL source distribution)\n",
       "Java Runtime: OpenJDK Runtime Environment\n",
       "JVM: OpenJDK 64-Bit Server VM\n",
       "Default Encoding: UTF-8\n",
       "Language: en\n",
       "Country: null\n",
       "--></g></svg>"
      ]
     },
     "execution_count": 45,
     "metadata": {},
     "output_type": "execute_result"
    }
   ],
   "source": [
    "%viz --style=\"TB\" --view=\"Tree\" \"ParameterTest\""
   ]
  },
  {
   "cell_type": "code",
   "execution_count": 46,
   "id": "6c6e4d14",
   "metadata": {
    "execution": {
     "iopub.execute_input": "2021-11-13T12:59:17.705194Z",
     "iopub.status.busy": "2021-11-13T12:59:17.704744Z",
     "iopub.status.idle": "2021-11-13T12:59:17.709640Z",
     "shell.execute_reply": "2021-11-13T12:59:17.709281Z"
    }
   },
   "outputs": [
    {
     "data": {
      "image/svg+xml": [
       "<?xml version=\"1.0\" encoding=\"UTF-8\" standalone=\"no\"?><svg xmlns=\"http://www.w3.org/2000/svg\" xmlns:xlink=\"http://www.w3.org/1999/xlink\" contentScriptType=\"application/ecmascript\" contentStyleType=\"text/css\" height=\"12px\" preserveAspectRatio=\"none\" style=\"width:12px;height:12px;\" version=\"1.1\" viewBox=\"0 0 12 12\" width=\"12px\" zoomAndPan=\"magnify\"><defs/><g><!--MD5=[f4ee21bc66e489b5061b7c3e9601fdef]\n",
       "@startuml\r\n",
       "top to bottom direction\r\n",
       "skinparam monochrome true\r\n",
       "skinparam classbackgroundcolor white\r\n",
       "skinparam shadowing false\r\n",
       "skinparam wrapWidth 300\r\n",
       "hide circle\r\n",
       "\r\n",
       "@enduml\r\n",
       "\n",
       "PlantUML version 1.2020.13(Sat Jun 13 12:26:38 UTC 2020)\n",
       "(EPL source distribution)\n",
       "Java Runtime: OpenJDK Runtime Environment\n",
       "JVM: OpenJDK 64-Bit Server VM\n",
       "Default Encoding: UTF-8\n",
       "Language: en\n",
       "Country: null\n",
       "--></g></svg>"
      ]
     },
     "execution_count": 46,
     "metadata": {},
     "output_type": "execute_result"
    }
   ],
   "source": [
    "%viz --style=\"TB\" --view=\"State\" \"ParameterTest\""
   ]
  },
  {
   "cell_type": "code",
   "execution_count": 47,
   "id": "5025d7ee",
   "metadata": {
    "execution": {
     "iopub.execute_input": "2021-11-13T12:59:17.759018Z",
     "iopub.status.busy": "2021-11-13T12:59:17.758704Z",
     "iopub.status.idle": "2021-11-13T12:59:17.794144Z",
     "shell.execute_reply": "2021-11-13T12:59:17.793767Z"
    }
   },
   "outputs": [
    {
     "data": {
      "image/svg+xml": [
       "<?xml version=\"1.0\" encoding=\"UTF-8\" standalone=\"no\"?><svg xmlns=\"http://www.w3.org/2000/svg\" xmlns:xlink=\"http://www.w3.org/1999/xlink\" contentScriptType=\"application/ecmascript\" contentStyleType=\"text/css\" height=\"216px\" preserveAspectRatio=\"none\" style=\"width:744px;height:216px;\" version=\"1.1\" viewBox=\"0 0 744 216\" width=\"744px\" zoomAndPan=\"magnify\"><defs/><g><!--MD5=[fbc87193dbaf4d95561dea2c320d4a47]\n",
       "cluster E1--><a href=\"psysml:19b06251-fe6f-4e99-9afa-d6889eb7a18f\" target=\"_top\" title=\"psysml:19b06251-fe6f-4e99-9afa-d6889eb7a18f\" xlink:actuate=\"onRequest\" xlink:href=\"psysml:19b06251-fe6f-4e99-9afa-d6889eb7a18f\" xlink:show=\"new\" xlink:title=\"psysml:19b06251-fe6f-4e99-9afa-d6889eb7a18f\" xlink:type=\"simple\"><polygon fill=\"#FFFFFF\" points=\"16,6,124,6,131,28.2969,722,28.2969,722,204.72,16,204.72,16,6\" style=\"stroke: #000000; stroke-width: 1.5;\"/><line style=\"stroke: #000000; stroke-width: 1.5;\" x1=\"16\" x2=\"131\" y1=\"28.2969\" y2=\"28.2969\"/><text fill=\"#000000\" font-family=\"sans-serif\" font-size=\"14\" font-weight=\"bold\" lengthAdjust=\"spacingAndGlyphs\" textLength=\"102\" x=\"20\" y=\"20.9951\">ParameterTest</text></a><!--MD5=[f6df4d0ebaf0b5dfb2ced0ae5af7c670]\n",
       "cluster E4--><a href=\"psysml:87bb354b-94c0-403b-b7cb-102c1c7ef37a\" target=\"_top\" title=\"psysml:87bb354b-94c0-403b-b7cb-102c1c7ef37a\" xlink:actuate=\"onRequest\" xlink:href=\"psysml:87bb354b-94c0-403b-b7cb-102c1c7ef37a\" xlink:show=\"new\" xlink:title=\"psysml:87bb354b-94c0-403b-b7cb-102c1c7ef37a\" xlink:type=\"simple\"><rect fill=\"#FFFFFF\" height=\"110.72\" id=\"E4\" style=\"stroke: #383838; stroke-width: 1.5;\" width=\"150\" x=\"556\" y=\"64\"/><rect fill=\"#F8F8F8\" height=\"37.9375\" style=\"stroke: #383838; stroke-width: 1.5;\" width=\"150\" x=\"556\" y=\"64\"/><text fill=\"#000000\" font-family=\"sans-serif\" font-size=\"12\" font-style=\"italic\" lengthAdjust=\"spacingAndGlyphs\" textLength=\"110\" x=\"576\" y=\"80.1387\">«calculation  def»</text><text fill=\"#000000\" font-family=\"sans-serif\" font-size=\"12\" lengthAdjust=\"spacingAndGlyphs\" textLength=\"7\" x=\"627.5\" y=\"94.1074\">F</text></a><g id=\"E1.E2\"><a href=\"psysml:a687f627-404e-4522-a6e9-e30e4b3087b4\" target=\"_top\" title=\"psysml:a687f627-404e-4522-a6e9-e30e4b3087b4\" xlink:actuate=\"onRequest\" xlink:href=\"psysml:a687f627-404e-4522-a6e9-e30e4b3087b4\" xlink:show=\"new\" xlink:title=\"psysml:a687f627-404e-4522-a6e9-e30e4b3087b4\" xlink:type=\"simple\"><rect fill=\"#FFFFFF\" height=\"42.9375\" id=\"E2\" style=\"stroke: #383838; stroke-width: 1.5;\" width=\"104\" x=\"413\" y=\"99\"/><rect fill=\"#F8F8F8\" height=\"37.9375\" style=\"stroke: #383838; stroke-width: 1.5;\" width=\"104\" x=\"413\" y=\"99\"/><text fill=\"#000000\" font-family=\"sans-serif\" font-size=\"12\" font-style=\"italic\" lengthAdjust=\"spacingAndGlyphs\" textLength=\"97\" x=\"416.5\" y=\"115.1387\">«attribute  def»</text><text fill=\"#000000\" font-family=\"sans-serif\" font-size=\"12\" lengthAdjust=\"spacingAndGlyphs\" textLength=\"8\" x=\"461\" y=\"129.1074\">A</text></a></g><!--MD5=[09b614a08d8cba4a07c9adeb5e0fee81]\n",
       "class E3--><a href=\"psysml:080a965c-bda9-42ef-b0e7-dadea2c4de7a\" target=\"_top\" title=\"psysml:080a965c-bda9-42ef-b0e7-dadea2c4de7a\" xlink:actuate=\"onRequest\" xlink:href=\"psysml:080a965c-bda9-42ef-b0e7-dadea2c4de7a\" xlink:show=\"new\" xlink:title=\"psysml:080a965c-bda9-42ef-b0e7-dadea2c4de7a\" xlink:type=\"simple\"><rect fill=\"#FFFFFF\" height=\"45.9375\" id=\"E3\" rx=\"10\" ry=\"10\" style=\"stroke: #383838; stroke-width: 1.5;\" width=\"71\" x=\"456.5\" y=\"41\"/><text fill=\"#000000\" font-family=\"sans-serif\" font-size=\"12\" font-style=\"italic\" lengthAdjust=\"spacingAndGlyphs\" textLength=\"69\" x=\"457.5\" y=\"57.1387\">«attribute»</text><text fill=\"#000000\" font-family=\"sans-serif\" font-size=\"12\" lengthAdjust=\"spacingAndGlyphs\" textLength=\"24\" x=\"478\" y=\"71.1074\">a: A</text><line style=\"stroke: #383838; stroke-width: 1.5;\" x1=\"457.5\" x2=\"526.5\" y1=\"78.9375\" y2=\"78.9375\"/></a><!--MD5=[b9389687b975829384b498ac4b7476b2]\n",
       "class E8--><a href=\"psysml:a95297bf-d64f-43ac-86b7-f9f55eba203a\" target=\"_top\" title=\"psysml:a95297bf-d64f-43ac-86b7-f9f55eba203a\" xlink:actuate=\"onRequest\" xlink:href=\"psysml:a95297bf-d64f-43ac-86b7-f9f55eba203a\" xlink:show=\"new\" xlink:title=\"psysml:a95297bf-d64f-43ac-86b7-f9f55eba203a\" xlink:type=\"simple\"><rect fill=\"#FFFFFF\" height=\"45.9375\" id=\"E8\" rx=\"10\" ry=\"10\" style=\"stroke: #383838; stroke-width: 1.5;\" width=\"71\" x=\"350.5\" y=\"41\"/><text fill=\"#000000\" font-family=\"sans-serif\" font-size=\"12\" font-style=\"italic\" lengthAdjust=\"spacingAndGlyphs\" textLength=\"69\" x=\"351.5\" y=\"57.1387\">«attribute»</text><text fill=\"#000000\" font-family=\"sans-serif\" font-size=\"12\" lengthAdjust=\"spacingAndGlyphs\" textLength=\"4\" x=\"384\" y=\"71.1074\">f</text><line style=\"stroke: #383838; stroke-width: 1.5;\" x1=\"351.5\" x2=\"420.5\" y1=\"78.9375\" y2=\"78.9375\"/></a><!--MD5=[fd4143e9d270a159db93a4ea2a975926]\n",
       "class E9--><a href=\"psysml:778a48ec-a539-4294-8634-0d41b068db9f\" target=\"_top\" title=\"psysml:778a48ec-a539-4294-8634-0d41b068db9f\" xlink:actuate=\"onRequest\" xlink:href=\"psysml:778a48ec-a539-4294-8634-0d41b068db9f\" xlink:show=\"new\" xlink:title=\"psysml:778a48ec-a539-4294-8634-0d41b068db9f\" xlink:type=\"simple\"><rect fill=\"#FFFFFF\" height=\"45.9375\" id=\"E9\" rx=\"10\" ry=\"10\" style=\"stroke: #383838; stroke-width: 1.5;\" width=\"71\" x=\"244.5\" y=\"41\"/><text fill=\"#000000\" font-family=\"sans-serif\" font-size=\"12\" font-style=\"italic\" lengthAdjust=\"spacingAndGlyphs\" textLength=\"69\" x=\"245.5\" y=\"57.1387\">«attribute»</text><text fill=\"#000000\" font-family=\"sans-serif\" font-size=\"12\" lengthAdjust=\"spacingAndGlyphs\" textLength=\"8\" x=\"276\" y=\"71.1074\">g</text><line style=\"stroke: #383838; stroke-width: 1.5;\" x1=\"245.5\" x2=\"314.5\" y1=\"78.9375\" y2=\"78.9375\"/></a><!--MD5=[96f4274e9e20536e775497830990834d]\n",
       "class E10--><a href=\"psysml:178fd1be-66b7-4b93-9f69-0783143b2542\" target=\"_top\" title=\"psysml:178fd1be-66b7-4b93-9f69-0783143b2542\" xlink:actuate=\"onRequest\" xlink:href=\"psysml:178fd1be-66b7-4b93-9f69-0783143b2542\" xlink:show=\"new\" xlink:title=\"psysml:178fd1be-66b7-4b93-9f69-0783143b2542\" xlink:type=\"simple\"><rect fill=\"#FFFFFF\" height=\"45.9375\" id=\"E10\" rx=\"10\" ry=\"10\" style=\"stroke: #383838; stroke-width: 1.5;\" width=\"71\" x=\"138.5\" y=\"41\"/><text fill=\"#000000\" font-family=\"sans-serif\" font-size=\"12\" font-style=\"italic\" lengthAdjust=\"spacingAndGlyphs\" textLength=\"69\" x=\"139.5\" y=\"57.1387\">«attribute»</text><text fill=\"#000000\" font-family=\"sans-serif\" font-size=\"12\" lengthAdjust=\"spacingAndGlyphs\" textLength=\"8\" x=\"170\" y=\"71.1074\">b</text><line style=\"stroke: #383838; stroke-width: 1.5;\" x1=\"139.5\" x2=\"208.5\" y1=\"78.9375\" y2=\"78.9375\"/></a><!--MD5=[1dd1bfd58a279cf63c5f349dbc8fc6a1]\n",
       "class E11--><a href=\"psysml:ce14b558-47dc-4a37-8f10-4afbd6cf7826\" target=\"_top\" title=\"psysml:ce14b558-47dc-4a37-8f10-4afbd6cf7826\" xlink:actuate=\"onRequest\" xlink:href=\"psysml:ce14b558-47dc-4a37-8f10-4afbd6cf7826\" xlink:show=\"new\" xlink:title=\"psysml:ce14b558-47dc-4a37-8f10-4afbd6cf7826\" xlink:type=\"simple\"><rect fill=\"#FFFFFF\" height=\"45.9375\" id=\"E11\" rx=\"10\" ry=\"10\" style=\"stroke: #383838; stroke-width: 1.5;\" width=\"71\" x=\"32.5\" y=\"41\"/><text fill=\"#000000\" font-family=\"sans-serif\" font-size=\"12\" font-style=\"italic\" lengthAdjust=\"spacingAndGlyphs\" textLength=\"69\" x=\"33.5\" y=\"57.1387\">«attribute»</text><text fill=\"#000000\" font-family=\"sans-serif\" font-size=\"12\" lengthAdjust=\"spacingAndGlyphs\" textLength=\"7\" x=\"64.5\" y=\"71.1074\">c</text><line style=\"stroke: #383838; stroke-width: 1.5;\" x1=\"33.5\" x2=\"102.5\" y1=\"78.9375\" y2=\"78.9375\"/></a><text fill=\"#000000\" font-family=\"sans-serif\" font-size=\"14\" lengthAdjust=\"spacingAndGlyphs\" textLength=\"9\" x=\"569.5\" y=\"42.6982\">p</text><rect fill=\"#383838\" height=\"12\" style=\"stroke: #F8F8F8; stroke-width: 1.5;\" width=\"12\" x=\"568\" y=\"58\"/><text fill=\"#000000\" font-family=\"sans-serif\" font-size=\"14\" lengthAdjust=\"spacingAndGlyphs\" textLength=\"9\" x=\"616.5\" y=\"42.6982\">q</text><rect fill=\"#383838\" height=\"12\" style=\"stroke: #F8F8F8; stroke-width: 1.5;\" width=\"12\" x=\"615\" y=\"58\"/><text fill=\"#000000\" font-family=\"sans-serif\" font-size=\"14\" lengthAdjust=\"spacingAndGlyphs\" textLength=\"39\" x=\"601.5\" y=\"193.7151\">result</text><rect fill=\"#383838\" height=\"12\" style=\"stroke: #F8F8F8; stroke-width: 1.5;\" width=\"12\" x=\"615\" y=\"168.72\"/><!--MD5=[05d275557350bfb9b23a4ef7222b4c39]\n",
       "link E3 to E2--><a href=\"psysml:f36357d4-9dbb-46b9-9535-0d41e0b85630\" target=\"_top\" title=\"psysml:f36357d4-9dbb-46b9-9535-0d41e0b85630\" xlink:actuate=\"onRequest\" xlink:href=\"psysml:f36357d4-9dbb-46b9-9535-0d41e0b85630\" xlink:show=\"new\" xlink:title=\"psysml:f36357d4-9dbb-46b9-9535-0d41e0b85630\" xlink:type=\"simple\"><path d=\"M481.02,87.17 C480.96,87.29 480.9,87.41 480.84,87.53 \" fill=\"none\" id=\"E3-&gt;E2\" style=\"stroke: #383838; stroke-width: 1.0;\"/><polygon fill=\"#FFFFFF\" points=\"475.19,98.93,477.3425,78.7963,489.8904,85.0052,475.19,98.93\" style=\"stroke: #383838; stroke-width: 1.0;\"/><ellipse cx=\"481.663\" cy=\"74.5745\" fill=\"#383838\" rx=\"2\" ry=\"2\" style=\"stroke: #383838; stroke-width: 1.0;\"/><ellipse cx=\"490.6257\" cy=\"79.0095\" fill=\"#383838\" rx=\"2\" ry=\"2\" style=\"stroke: #383838; stroke-width: 1.0;\"/></a><!--MD5=[a0bbfee0c5b7be616ea9db9e9ebdccf8]\n",
       "@startuml\r\n",
       "skinparam ranksep 10\r\n",
       "skinparam rectangle {\r\n",
       " backgroundColor<<block>> LightGreen\r\n",
       "}\r\n",
       "top to bottom direction\r\n",
       "skinparam monochrome true\r\n",
       "skinparam classbackgroundcolor white\r\n",
       "skinparam shadowing false\r\n",
       "skinparam wrapWidth 300\r\n",
       "hide circle\r\n",
       "\r\n",
       "package \"ParameterTest\" as E1  [[psysml:19b06251-fe6f-4e99-9afa-d6889eb7a18f ]]  {\r\n",
       "def \"A\" as E2  <<(T,blue) attribute  def>> [[psysml:a687f627-404e-4522-a6e9-e30e4b3087b4 ]] \r\n",
       "comp usage \"a: A \" as E3  <<(T,blue) attribute>> [[psysml:080a965c-bda9-42ef-b0e7-dadea2c4de7a ]] {\r\n",
       "}\r\n",
       "rec def \"F\" as E4  <<(T,blue) calculation  def>> [[psysml:87bb354b-94c0-403b-b7cb-102c1c7ef37a ]] {\r\n",
       "portin \"p\" as E5  [[psysml:16f7e9d3-43d0-4287-8a70-cbe1c91459d8 ]] \r\n",
       "portin \"q\" as E6  [[psysml:b2699d44-082f-48d9-8fe4-b2b87d72af88 ]] \r\n",
       "portout \"result\" as E7  [[psysml:efe4aa1f-bd0b-42c7-877f-48fcbd913317 ]] \r\n",
       "}\r\n",
       "\r\n",
       "comp usage \"f\" as E8  <<(T,blue) attribute>> [[psysml:a95297bf-d64f-43ac-86b7-f9f55eba203a ]] {\r\n",
       "}\r\n",
       "comp usage \"g\" as E9  <<(T,blue) attribute>> [[psysml:778a48ec-a539-4294-8634-0d41b068db9f ]] {\r\n",
       "}\r\n",
       "comp usage \"b\" as E10  <<(T,blue) attribute>> [[psysml:178fd1be-66b7-4b93-9f69-0783143b2542 ]] {\r\n",
       "}\r\n",
       "comp usage \"c\" as E11  <<(T,blue) attribute>> [[psysml:ce14b558-47dc-4a37-8f10-4afbd6cf7826 ]] {\r\n",
       "}\r\n",
       "}\r\n",
       "E3 - -:|> E2 [[psysml:f36357d4-9dbb-46b9-9535-0d41e0b85630 ]] \r\n",
       "@enduml\r\n",
       "\n",
       "PlantUML version 1.2020.13(Sat Jun 13 12:26:38 UTC 2020)\n",
       "(EPL source distribution)\n",
       "Java Runtime: OpenJDK Runtime Environment\n",
       "JVM: OpenJDK 64-Bit Server VM\n",
       "Default Encoding: UTF-8\n",
       "Language: en\n",
       "Country: null\n",
       "--></g></svg>"
      ]
     },
     "execution_count": 47,
     "metadata": {},
     "output_type": "execute_result"
    }
   ],
   "source": [
    "%viz --style=\"TB\" --view=\"Interconnection\" \"ParameterTest\""
   ]
  },
  {
   "cell_type": "code",
   "execution_count": 48,
   "id": "4b7f6c2e",
   "metadata": {
    "execution": {
     "iopub.execute_input": "2021-11-13T12:59:17.843409Z",
     "iopub.status.busy": "2021-11-13T12:59:17.842940Z",
     "iopub.status.idle": "2021-11-13T12:59:17.865815Z",
     "shell.execute_reply": "2021-11-13T12:59:17.866148Z"
    }
   },
   "outputs": [
    {
     "data": {
      "image/svg+xml": [
       "<?xml version=\"1.0\" encoding=\"UTF-8\" standalone=\"no\"?><svg xmlns=\"http://www.w3.org/2000/svg\" xmlns:xlink=\"http://www.w3.org/1999/xlink\" contentScriptType=\"application/ecmascript\" contentStyleType=\"text/css\" height=\"162px\" preserveAspectRatio=\"none\" style=\"width:168px;height:162px;\" version=\"1.1\" viewBox=\"0 0 168 162\" width=\"168px\" zoomAndPan=\"magnify\"><defs/><g><!--MD5=[fbc87193dbaf4d95561dea2c320d4a47]\n",
       "cluster E1--><a href=\"psysml:87bb354b-94c0-403b-b7cb-102c1c7ef37a\" target=\"_top\" title=\"psysml:87bb354b-94c0-403b-b7cb-102c1c7ef37a\" xlink:actuate=\"onRequest\" xlink:href=\"psysml:87bb354b-94c0-403b-b7cb-102c1c7ef37a\" xlink:show=\"new\" xlink:title=\"psysml:87bb354b-94c0-403b-b7cb-102c1c7ef37a\" xlink:type=\"simple\"><rect fill=\"#FFFFFF\" height=\"87.72\" id=\"E1\" style=\"stroke: #383838; stroke-width: 1.5;\" width=\"150\" x=\"7\" y=\"42.0986\"/><rect fill=\"#F8F8F8\" height=\"37.9375\" style=\"stroke: #383838; stroke-width: 1.5;\" width=\"150\" x=\"7\" y=\"42.0986\"/><text fill=\"#000000\" font-family=\"sans-serif\" font-size=\"12\" font-style=\"italic\" lengthAdjust=\"spacingAndGlyphs\" textLength=\"110\" x=\"27\" y=\"58.2373\">«calculation  def»</text><text fill=\"#000000\" font-family=\"sans-serif\" font-size=\"12\" lengthAdjust=\"spacingAndGlyphs\" textLength=\"7\" x=\"78.5\" y=\"72.2061\">F</text></a><text fill=\"#000000\" font-family=\"sans-serif\" font-size=\"14\" lengthAdjust=\"spacingAndGlyphs\" textLength=\"9\" x=\"20.5\" y=\"20.7969\">p</text><rect fill=\"#383838\" height=\"12\" style=\"stroke: #F8F8F8; stroke-width: 1.5;\" width=\"12\" x=\"19\" y=\"36.0986\"/><text fill=\"#000000\" font-family=\"sans-serif\" font-size=\"14\" lengthAdjust=\"spacingAndGlyphs\" textLength=\"9\" x=\"67.5\" y=\"20.7969\">q</text><rect fill=\"#383838\" height=\"12\" style=\"stroke: #F8F8F8; stroke-width: 1.5;\" width=\"12\" x=\"66\" y=\"36.0986\"/><text fill=\"#000000\" font-family=\"sans-serif\" font-size=\"14\" lengthAdjust=\"spacingAndGlyphs\" textLength=\"39\" x=\"52.5\" y=\"148.8138\">result</text><rect fill=\"#383838\" height=\"12\" style=\"stroke: #F8F8F8; stroke-width: 1.5;\" width=\"12\" x=\"66\" y=\"123.8186\"/><!--MD5=[d7a931e3d987b33b2e17bfb81093760a]\n",
       "@startuml\r\n",
       "skinparam ranksep 8\r\n",
       "top to bottom direction\r\n",
       "skinparam monochrome true\r\n",
       "skinparam classbackgroundcolor white\r\n",
       "skinparam shadowing false\r\n",
       "skinparam wrapWidth 300\r\n",
       "hide circle\r\n",
       "\r\n",
       "rec def \"F\" as E1  <<(T,blue) calculation  def>> [[psysml:87bb354b-94c0-403b-b7cb-102c1c7ef37a ]] {\r\n",
       "portin \"p\" as E2  [[psysml:16f7e9d3-43d0-4287-8a70-cbe1c91459d8 ]] \r\n",
       "portin \"q\" as E3  [[psysml:b2699d44-082f-48d9-8fe4-b2b87d72af88 ]] \r\n",
       "portout \"result\" as E4  [[psysml:efe4aa1f-bd0b-42c7-877f-48fcbd913317 ]] \r\n",
       "}\r\n",
       "\r\n",
       "@enduml\r\n",
       "\n",
       "PlantUML version 1.2020.13(Sat Jun 13 12:26:38 UTC 2020)\n",
       "(EPL source distribution)\n",
       "Java Runtime: OpenJDK Runtime Environment\n",
       "JVM: OpenJDK 64-Bit Server VM\n",
       "Default Encoding: UTF-8\n",
       "Language: en\n",
       "Country: null\n",
       "--></g></svg>"
      ]
     },
     "execution_count": 48,
     "metadata": {},
     "output_type": "execute_result"
    }
   ],
   "source": [
    "%viz --style=\"TB\" --view=\"Action\" \"ParameterTest\""
   ]
  },
  {
   "cell_type": "code",
   "execution_count": 49,
   "id": "dc4984a3",
   "metadata": {
    "execution": {
     "iopub.execute_input": "2021-11-13T12:59:17.915378Z",
     "iopub.status.busy": "2021-11-13T12:59:17.914808Z",
     "iopub.status.idle": "2021-11-13T12:59:17.921207Z",
     "shell.execute_reply": "2021-11-13T12:59:17.920666Z"
    }
   },
   "outputs": [
    {
     "data": {
      "image/svg+xml": [
       "<?xml version=\"1.0\" encoding=\"UTF-8\" standalone=\"no\"?><svg xmlns=\"http://www.w3.org/2000/svg\" xmlns:xlink=\"http://www.w3.org/1999/xlink\" contentScriptType=\"application/ecmascript\" contentStyleType=\"text/css\" height=\"12px\" preserveAspectRatio=\"none\" style=\"width:12px;height:12px;\" version=\"1.1\" viewBox=\"0 0 12 12\" width=\"12px\" zoomAndPan=\"magnify\"><defs/><g><!--MD5=[e1ab0c84c44d2fef8bf5f140f2689906]\n",
       "@startuml\r\n",
       "skinparam roundcorner 20\r\n",
       "skinparam BoxPadding 20\r\n",
       "skinparam SequenceBoxBackgroundColor #white\r\n",
       "skinparam style strictuml\r\n",
       "skinparam maxMessageSize 100\r\n",
       "top to bottom direction\r\n",
       "skinparam monochrome true\r\n",
       "skinparam classbackgroundcolor white\r\n",
       "skinparam shadowing false\r\n",
       "skinparam wrapWidth 300\r\n",
       "hide circle\r\n",
       "\r\n",
       "@enduml\r\n",
       "\n",
       "PlantUML version 1.2020.13(Sat Jun 13 12:26:38 UTC 2020)\n",
       "(EPL source distribution)\n",
       "Java Runtime: OpenJDK Runtime Environment\n",
       "JVM: OpenJDK 64-Bit Server VM\n",
       "Default Encoding: UTF-8\n",
       "Language: en\n",
       "Country: null\n",
       "--></g></svg>"
      ]
     },
     "execution_count": 49,
     "metadata": {},
     "output_type": "execute_result"
    }
   ],
   "source": [
    "%viz --style=\"TB\" --view=\"Sequence\" \"ParameterTest\""
   ]
  },
  {
   "cell_type": "code",
   "execution_count": 50,
   "id": "530cd42e",
   "metadata": {
    "execution": {
     "iopub.execute_input": "2021-11-13T12:59:17.969953Z",
     "iopub.status.busy": "2021-11-13T12:59:17.969528Z",
     "iopub.status.idle": "2021-11-13T12:59:18.023427Z",
     "shell.execute_reply": "2021-11-13T12:59:18.023025Z"
    }
   },
   "outputs": [
    {
     "data": {
      "image/svg+xml": [
       "<?xml version=\"1.0\" encoding=\"UTF-8\" standalone=\"no\"?><svg xmlns=\"http://www.w3.org/2000/svg\" xmlns:xlink=\"http://www.w3.org/1999/xlink\" contentScriptType=\"application/ecmascript\" contentStyleType=\"text/css\" height=\"403px\" preserveAspectRatio=\"none\" style=\"width:744px;height:403px;\" version=\"1.1\" viewBox=\"0 0 744 403\" width=\"744px\" zoomAndPan=\"magnify\"><defs/><g><!--MD5=[fbc87193dbaf4d95561dea2c320d4a47]\n",
       "cluster E1--><a href=\"psysml:19b06251-fe6f-4e99-9afa-d6889eb7a18f\" target=\"_top\" title=\"psysml:19b06251-fe6f-4e99-9afa-d6889eb7a18f\" xlink:actuate=\"onRequest\" xlink:href=\"psysml:19b06251-fe6f-4e99-9afa-d6889eb7a18f\" xlink:show=\"new\" xlink:title=\"psysml:19b06251-fe6f-4e99-9afa-d6889eb7a18f\" xlink:type=\"simple\"><polygon fill=\"#FFFFFF\" points=\"16,6,124,6,131,28.2969,722,28.2969,722,391.72,16,391.72,16,6\" style=\"stroke: #000000; stroke-width: 1.5;\"/><line style=\"stroke: #000000; stroke-width: 1.5;\" x1=\"16\" x2=\"131\" y1=\"28.2969\" y2=\"28.2969\"/><text fill=\"#000000\" font-family=\"sans-serif\" font-size=\"14\" font-weight=\"bold\" lengthAdjust=\"spacingAndGlyphs\" textLength=\"102\" x=\"20\" y=\"20.9951\">ParameterTest</text></a><!--MD5=[f6df4d0ebaf0b5dfb2ced0ae5af7c670]\n",
       "cluster E4--><a href=\"psysml:87bb354b-94c0-403b-b7cb-102c1c7ef37a\" target=\"_top\" title=\"psysml:87bb354b-94c0-403b-b7cb-102c1c7ef37a\" xlink:actuate=\"onRequest\" xlink:href=\"psysml:87bb354b-94c0-403b-b7cb-102c1c7ef37a\" xlink:show=\"new\" xlink:title=\"psysml:87bb354b-94c0-403b-b7cb-102c1c7ef37a\" xlink:type=\"simple\"><rect fill=\"#FFFFFF\" height=\"297.72\" id=\"E4\" style=\"stroke: #383838; stroke-width: 1.5;\" width=\"150\" x=\"556\" y=\"64\"/><rect fill=\"#F8F8F8\" height=\"37.9375\" style=\"stroke: #383838; stroke-width: 1.5;\" width=\"150\" x=\"556\" y=\"64\"/><text fill=\"#000000\" font-family=\"sans-serif\" font-size=\"12\" font-style=\"italic\" lengthAdjust=\"spacingAndGlyphs\" textLength=\"110\" x=\"576\" y=\"80.1387\">«calculation  def»</text><text fill=\"#000000\" font-family=\"sans-serif\" font-size=\"12\" lengthAdjust=\"spacingAndGlyphs\" textLength=\"7\" x=\"627.5\" y=\"94.1074\">F</text></a><!--MD5=[b4997ac47864f28c2f74865a473b2911]\n",
       "class E2--><a href=\"psysml:a687f627-404e-4522-a6e9-e30e4b3087b4\" target=\"_top\" title=\"psysml:a687f627-404e-4522-a6e9-e30e4b3087b4\" xlink:actuate=\"onRequest\" xlink:href=\"psysml:a687f627-404e-4522-a6e9-e30e4b3087b4\" xlink:show=\"new\" xlink:title=\"psysml:a687f627-404e-4522-a6e9-e30e4b3087b4\" xlink:type=\"simple\"><rect fill=\"#FFFFFF\" height=\"88.3516\" id=\"E2\" style=\"stroke: #383838; stroke-width: 1.5;\" width=\"99\" x=\"418.5\" y=\"147\"/><text fill=\"#000000\" font-family=\"sans-serif\" font-size=\"12\" font-style=\"italic\" lengthAdjust=\"spacingAndGlyphs\" textLength=\"97\" x=\"419.5\" y=\"163.1387\">«attribute  def»</text><text fill=\"#000000\" font-family=\"sans-serif\" font-size=\"12\" lengthAdjust=\"spacingAndGlyphs\" textLength=\"8\" x=\"464\" y=\"177.1074\">A</text><line style=\"stroke: #383838; stroke-width: 1.5;\" x1=\"419.5\" x2=\"516.5\" y1=\"184.9375\" y2=\"184.9375\"/><text fill=\"#000000\" font-family=\"sans-serif\" font-size=\"11\" lengthAdjust=\"spacingAndGlyphs\" textLength=\"48\" x=\"424.5\" y=\"215.9526\">x: String</text><text fill=\"#000000\" font-family=\"sans-serif\" font-size=\"11\" lengthAdjust=\"spacingAndGlyphs\" textLength=\"21\" x=\"424.5\" y=\"228.7573\">y: A</text><line style=\"stroke: #383838; stroke-width: 1.0;\" x1=\"419.5\" x2=\"440.5\" y1=\"199.3398\" y2=\"199.3398\"/><text fill=\"#000000\" font-family=\"sans-serif\" font-size=\"11\" lengthAdjust=\"spacingAndGlyphs\" textLength=\"55\" x=\"440.5\" y=\"202.6479\">attributes</text><line style=\"stroke: #383838; stroke-width: 1.0;\" x1=\"495.5\" x2=\"516.5\" y1=\"199.3398\" y2=\"199.3398\"/></a><!--MD5=[09b614a08d8cba4a07c9adeb5e0fee81]\n",
       "class E3--><a href=\"psysml:080a965c-bda9-42ef-b0e7-dadea2c4de7a\" target=\"_top\" title=\"psysml:080a965c-bda9-42ef-b0e7-dadea2c4de7a\" xlink:actuate=\"onRequest\" xlink:href=\"psysml:080a965c-bda9-42ef-b0e7-dadea2c4de7a\" xlink:show=\"new\" xlink:title=\"psysml:080a965c-bda9-42ef-b0e7-dadea2c4de7a\" xlink:type=\"simple\"><rect fill=\"#FFFFFF\" height=\"45.9375\" id=\"E3\" rx=\"10\" ry=\"10\" style=\"stroke: #383838; stroke-width: 1.5;\" width=\"71\" x=\"456.5\" y=\"41\"/><text fill=\"#000000\" font-family=\"sans-serif\" font-size=\"12\" font-style=\"italic\" lengthAdjust=\"spacingAndGlyphs\" textLength=\"69\" x=\"457.5\" y=\"57.1387\">«attribute»</text><text fill=\"#000000\" font-family=\"sans-serif\" font-size=\"12\" lengthAdjust=\"spacingAndGlyphs\" textLength=\"24\" x=\"478\" y=\"71.1074\">a: A</text><line style=\"stroke: #383838; stroke-width: 1.5;\" x1=\"457.5\" x2=\"526.5\" y1=\"78.9375\" y2=\"78.9375\"/></a><!--MD5=[b9389687b975829384b498ac4b7476b2]\n",
       "class E8--><a href=\"psysml:a95297bf-d64f-43ac-86b7-f9f55eba203a\" target=\"_top\" title=\"psysml:a95297bf-d64f-43ac-86b7-f9f55eba203a\" xlink:actuate=\"onRequest\" xlink:href=\"psysml:a95297bf-d64f-43ac-86b7-f9f55eba203a\" xlink:show=\"new\" xlink:title=\"psysml:a95297bf-d64f-43ac-86b7-f9f55eba203a\" xlink:type=\"simple\"><rect fill=\"#FFFFFF\" height=\"45.9375\" id=\"E8\" rx=\"10\" ry=\"10\" style=\"stroke: #383838; stroke-width: 1.5;\" width=\"71\" x=\"350.5\" y=\"41\"/><text fill=\"#000000\" font-family=\"sans-serif\" font-size=\"12\" font-style=\"italic\" lengthAdjust=\"spacingAndGlyphs\" textLength=\"69\" x=\"351.5\" y=\"57.1387\">«attribute»</text><text fill=\"#000000\" font-family=\"sans-serif\" font-size=\"12\" lengthAdjust=\"spacingAndGlyphs\" textLength=\"4\" x=\"384\" y=\"71.1074\">f</text><line style=\"stroke: #383838; stroke-width: 1.5;\" x1=\"351.5\" x2=\"420.5\" y1=\"78.9375\" y2=\"78.9375\"/></a><!--MD5=[fd4143e9d270a159db93a4ea2a975926]\n",
       "class E9--><a href=\"psysml:778a48ec-a539-4294-8634-0d41b068db9f\" target=\"_top\" title=\"psysml:778a48ec-a539-4294-8634-0d41b068db9f\" xlink:actuate=\"onRequest\" xlink:href=\"psysml:778a48ec-a539-4294-8634-0d41b068db9f\" xlink:show=\"new\" xlink:title=\"psysml:778a48ec-a539-4294-8634-0d41b068db9f\" xlink:type=\"simple\"><rect fill=\"#FFFFFF\" height=\"45.9375\" id=\"E9\" rx=\"10\" ry=\"10\" style=\"stroke: #383838; stroke-width: 1.5;\" width=\"71\" x=\"244.5\" y=\"41\"/><text fill=\"#000000\" font-family=\"sans-serif\" font-size=\"12\" font-style=\"italic\" lengthAdjust=\"spacingAndGlyphs\" textLength=\"69\" x=\"245.5\" y=\"57.1387\">«attribute»</text><text fill=\"#000000\" font-family=\"sans-serif\" font-size=\"12\" lengthAdjust=\"spacingAndGlyphs\" textLength=\"8\" x=\"276\" y=\"71.1074\">g</text><line style=\"stroke: #383838; stroke-width: 1.5;\" x1=\"245.5\" x2=\"314.5\" y1=\"78.9375\" y2=\"78.9375\"/></a><!--MD5=[96f4274e9e20536e775497830990834d]\n",
       "class E10--><a href=\"psysml:178fd1be-66b7-4b93-9f69-0783143b2542\" target=\"_top\" title=\"psysml:178fd1be-66b7-4b93-9f69-0783143b2542\" xlink:actuate=\"onRequest\" xlink:href=\"psysml:178fd1be-66b7-4b93-9f69-0783143b2542\" xlink:show=\"new\" xlink:title=\"psysml:178fd1be-66b7-4b93-9f69-0783143b2542\" xlink:type=\"simple\"><rect fill=\"#FFFFFF\" height=\"45.9375\" id=\"E10\" rx=\"10\" ry=\"10\" style=\"stroke: #383838; stroke-width: 1.5;\" width=\"71\" x=\"138.5\" y=\"41\"/><text fill=\"#000000\" font-family=\"sans-serif\" font-size=\"12\" font-style=\"italic\" lengthAdjust=\"spacingAndGlyphs\" textLength=\"69\" x=\"139.5\" y=\"57.1387\">«attribute»</text><text fill=\"#000000\" font-family=\"sans-serif\" font-size=\"12\" lengthAdjust=\"spacingAndGlyphs\" textLength=\"8\" x=\"170\" y=\"71.1074\">b</text><line style=\"stroke: #383838; stroke-width: 1.5;\" x1=\"139.5\" x2=\"208.5\" y1=\"78.9375\" y2=\"78.9375\"/></a><!--MD5=[1dd1bfd58a279cf63c5f349dbc8fc6a1]\n",
       "class E11--><a href=\"psysml:ce14b558-47dc-4a37-8f10-4afbd6cf7826\" target=\"_top\" title=\"psysml:ce14b558-47dc-4a37-8f10-4afbd6cf7826\" xlink:actuate=\"onRequest\" xlink:href=\"psysml:ce14b558-47dc-4a37-8f10-4afbd6cf7826\" xlink:show=\"new\" xlink:title=\"psysml:ce14b558-47dc-4a37-8f10-4afbd6cf7826\" xlink:type=\"simple\"><rect fill=\"#FFFFFF\" height=\"45.9375\" id=\"E11\" rx=\"10\" ry=\"10\" style=\"stroke: #383838; stroke-width: 1.5;\" width=\"71\" x=\"32.5\" y=\"41\"/><text fill=\"#000000\" font-family=\"sans-serif\" font-size=\"12\" font-style=\"italic\" lengthAdjust=\"spacingAndGlyphs\" textLength=\"69\" x=\"33.5\" y=\"57.1387\">«attribute»</text><text fill=\"#000000\" font-family=\"sans-serif\" font-size=\"12\" lengthAdjust=\"spacingAndGlyphs\" textLength=\"7\" x=\"64.5\" y=\"71.1074\">c</text><line style=\"stroke: #383838; stroke-width: 1.5;\" x1=\"33.5\" x2=\"102.5\" y1=\"78.9375\" y2=\"78.9375\"/></a><text fill=\"#000000\" font-family=\"sans-serif\" font-size=\"14\" lengthAdjust=\"spacingAndGlyphs\" textLength=\"9\" x=\"569.5\" y=\"42.6982\">p</text><rect fill=\"#383838\" height=\"12\" style=\"stroke: #F8F8F8; stroke-width: 1.5;\" width=\"12\" x=\"568\" y=\"58\"/><text fill=\"#000000\" font-family=\"sans-serif\" font-size=\"14\" lengthAdjust=\"spacingAndGlyphs\" textLength=\"9\" x=\"616.5\" y=\"42.6982\">q</text><rect fill=\"#383838\" height=\"12\" style=\"stroke: #F8F8F8; stroke-width: 1.5;\" width=\"12\" x=\"615\" y=\"58\"/><text fill=\"#000000\" font-family=\"sans-serif\" font-size=\"14\" lengthAdjust=\"spacingAndGlyphs\" textLength=\"39\" x=\"601.5\" y=\"380.7151\">result</text><rect fill=\"#383838\" height=\"12\" style=\"stroke: #F8F8F8; stroke-width: 1.5;\" width=\"12\" x=\"615\" y=\"355.72\"/><!--MD5=[05d275557350bfb9b23a4ef7222b4c39]\n",
       "link E3 to E2--><a href=\"psysml:f36357d4-9dbb-46b9-9535-0d41e0b85630\" target=\"_top\" title=\"psysml:f36357d4-9dbb-46b9-9535-0d41e0b85630\" xlink:actuate=\"onRequest\" xlink:href=\"psysml:f36357d4-9dbb-46b9-9535-0d41e0b85630\" xlink:show=\"new\" xlink:title=\"psysml:f36357d4-9dbb-46b9-9535-0d41e0b85630\" xlink:type=\"simple\"><path d=\"M487.76,87.06 C485.61,98.3 482.86,112.6 480.11,126.95 \" fill=\"none\" id=\"E3-&gt;E2\" style=\"stroke: #383838; stroke-width: 1.0;\"/><polygon fill=\"#FFFFFF\" points=\"476.27,146.93,472.9781,126.9509,486.727,129.5907,476.27,146.93\" style=\"stroke: #383838; stroke-width: 1.0;\"/><ellipse cx=\"476.017\" cy=\"121.7303\" fill=\"#383838\" rx=\"2\" ry=\"2\" style=\"stroke: #383838; stroke-width: 1.0;\"/><ellipse cx=\"485.8376\" cy=\"123.6158\" fill=\"#383838\" rx=\"2\" ry=\"2\" style=\"stroke: #383838; stroke-width: 1.0;\"/></a><!--MD5=[e6eb9de183434dfe44e83dabe306c82f]\n",
       "@startuml\r\n",
       "top to bottom direction\r\n",
       "skinparam monochrome true\r\n",
       "skinparam classbackgroundcolor white\r\n",
       "skinparam shadowing false\r\n",
       "skinparam wrapWidth 300\r\n",
       "hide circle\r\n",
       "\r\n",
       "package \"ParameterTest\" as E1  [[psysml:19b06251-fe6f-4e99-9afa-d6889eb7a18f ]]  {\r\n",
       "comp def \"A\" as E2  <<(T,blue) attribute  def>> [[psysml:a687f627-404e-4522-a6e9-e30e4b3087b4 ]] {\r\n",
       "- - attributes - -\r\n",
       "x: String\r\n",
       "y: A\r\n",
       "}\r\n",
       "comp usage \"a: A \" as E3  <<(T,blue) attribute>> [[psysml:080a965c-bda9-42ef-b0e7-dadea2c4de7a ]] {\r\n",
       "}\r\n",
       "rec def \"F\" as E4  <<(T,blue) calculation  def>> [[psysml:87bb354b-94c0-403b-b7cb-102c1c7ef37a ]] {\r\n",
       "portin \"p\" as E5  [[psysml:16f7e9d3-43d0-4287-8a70-cbe1c91459d8 ]] \r\n",
       "portin \"q\" as E6  [[psysml:b2699d44-082f-48d9-8fe4-b2b87d72af88 ]] \r\n",
       "portout \"result\" as E7  [[psysml:efe4aa1f-bd0b-42c7-877f-48fcbd913317 ]] \r\n",
       "}\r\n",
       "\r\n",
       "comp usage \"f\" as E8  <<(T,blue) attribute>> [[psysml:a95297bf-d64f-43ac-86b7-f9f55eba203a ]] {\r\n",
       "}\r\n",
       "comp usage \"g\" as E9  <<(T,blue) attribute>> [[psysml:778a48ec-a539-4294-8634-0d41b068db9f ]] {\r\n",
       "}\r\n",
       "comp usage \"b\" as E10  <<(T,blue) attribute>> [[psysml:178fd1be-66b7-4b93-9f69-0783143b2542 ]] {\r\n",
       "}\r\n",
       "comp usage \"c\" as E11  <<(T,blue) attribute>> [[psysml:ce14b558-47dc-4a37-8f10-4afbd6cf7826 ]] {\r\n",
       "}\r\n",
       "}\r\n",
       "E3 - -:|> E2 [[psysml:f36357d4-9dbb-46b9-9535-0d41e0b85630 ]] \r\n",
       "@enduml\r\n",
       "\n",
       "PlantUML version 1.2020.13(Sat Jun 13 12:26:38 UTC 2020)\n",
       "(EPL source distribution)\n",
       "Java Runtime: OpenJDK Runtime Environment\n",
       "JVM: OpenJDK 64-Bit Server VM\n",
       "Default Encoding: UTF-8\n",
       "Language: en\n",
       "Country: null\n",
       "--></g></svg>"
      ]
     },
     "execution_count": 50,
     "metadata": {},
     "output_type": "execute_result"
    }
   ],
   "source": [
    "%viz --style=\"TB\" --view=\"MIXED\" \"ParameterTest\""
   ]
  },
  {
   "cell_type": "code",
   "execution_count": 51,
   "id": "0ad4295c",
   "metadata": {
    "execution": {
     "iopub.execute_input": "2021-11-13T12:59:18.072391Z",
     "iopub.status.busy": "2021-11-13T12:59:18.071981Z",
     "iopub.status.idle": "2021-11-13T12:59:18.127059Z",
     "shell.execute_reply": "2021-11-13T12:59:18.126659Z"
    }
   },
   "outputs": [
    {
     "data": {
      "image/svg+xml": [
       "<?xml version=\"1.0\" encoding=\"UTF-8\" standalone=\"no\"?><svg xmlns=\"http://www.w3.org/2000/svg\" xmlns:xlink=\"http://www.w3.org/1999/xlink\" contentScriptType=\"application/ecmascript\" contentStyleType=\"text/css\" height=\"403px\" preserveAspectRatio=\"none\" style=\"width:744px;height:403px;\" version=\"1.1\" viewBox=\"0 0 744 403\" width=\"744px\" zoomAndPan=\"magnify\"><defs/><g><!--MD5=[fbc87193dbaf4d95561dea2c320d4a47]\n",
       "cluster E1--><a href=\"psysml:19b06251-fe6f-4e99-9afa-d6889eb7a18f\" target=\"_top\" title=\"psysml:19b06251-fe6f-4e99-9afa-d6889eb7a18f\" xlink:actuate=\"onRequest\" xlink:href=\"psysml:19b06251-fe6f-4e99-9afa-d6889eb7a18f\" xlink:show=\"new\" xlink:title=\"psysml:19b06251-fe6f-4e99-9afa-d6889eb7a18f\" xlink:type=\"simple\"><polygon fill=\"#FFFFFF\" points=\"16,6,124,6,131,28.2969,722,28.2969,722,391.72,16,391.72,16,6\" style=\"stroke: #000000; stroke-width: 1.5;\"/><line style=\"stroke: #000000; stroke-width: 1.5;\" x1=\"16\" x2=\"131\" y1=\"28.2969\" y2=\"28.2969\"/><text fill=\"#000000\" font-family=\"sans-serif\" font-size=\"14\" font-weight=\"bold\" lengthAdjust=\"spacingAndGlyphs\" textLength=\"102\" x=\"20\" y=\"20.9951\">ParameterTest</text></a><!--MD5=[f6df4d0ebaf0b5dfb2ced0ae5af7c670]\n",
       "cluster E4--><a href=\"psysml:87bb354b-94c0-403b-b7cb-102c1c7ef37a\" target=\"_top\" title=\"psysml:87bb354b-94c0-403b-b7cb-102c1c7ef37a\" xlink:actuate=\"onRequest\" xlink:href=\"psysml:87bb354b-94c0-403b-b7cb-102c1c7ef37a\" xlink:show=\"new\" xlink:title=\"psysml:87bb354b-94c0-403b-b7cb-102c1c7ef37a\" xlink:type=\"simple\"><rect fill=\"#FFFFFF\" height=\"297.72\" id=\"E4\" style=\"stroke: #383838; stroke-width: 1.5;\" width=\"150\" x=\"556\" y=\"64\"/><rect fill=\"#F8F8F8\" height=\"37.9375\" style=\"stroke: #383838; stroke-width: 1.5;\" width=\"150\" x=\"556\" y=\"64\"/><text fill=\"#000000\" font-family=\"sans-serif\" font-size=\"12\" font-style=\"italic\" lengthAdjust=\"spacingAndGlyphs\" textLength=\"110\" x=\"576\" y=\"80.1387\">«calculation  def»</text><text fill=\"#000000\" font-family=\"sans-serif\" font-size=\"12\" lengthAdjust=\"spacingAndGlyphs\" textLength=\"7\" x=\"627.5\" y=\"94.1074\">F</text></a><!--MD5=[b4997ac47864f28c2f74865a473b2911]\n",
       "class E2--><a href=\"psysml:a687f627-404e-4522-a6e9-e30e4b3087b4\" target=\"_top\" title=\"psysml:a687f627-404e-4522-a6e9-e30e4b3087b4\" xlink:actuate=\"onRequest\" xlink:href=\"psysml:a687f627-404e-4522-a6e9-e30e4b3087b4\" xlink:show=\"new\" xlink:title=\"psysml:a687f627-404e-4522-a6e9-e30e4b3087b4\" xlink:type=\"simple\"><rect fill=\"#FFFFFF\" height=\"88.3516\" id=\"E2\" style=\"stroke: #383838; stroke-width: 1.5;\" width=\"99\" x=\"418.5\" y=\"147\"/><text fill=\"#000000\" font-family=\"sans-serif\" font-size=\"12\" font-style=\"italic\" lengthAdjust=\"spacingAndGlyphs\" textLength=\"97\" x=\"419.5\" y=\"163.1387\">«attribute  def»</text><text fill=\"#000000\" font-family=\"sans-serif\" font-size=\"12\" lengthAdjust=\"spacingAndGlyphs\" textLength=\"8\" x=\"464\" y=\"177.1074\">A</text><line style=\"stroke: #383838; stroke-width: 1.5;\" x1=\"419.5\" x2=\"516.5\" y1=\"184.9375\" y2=\"184.9375\"/><text fill=\"#000000\" font-family=\"sans-serif\" font-size=\"11\" lengthAdjust=\"spacingAndGlyphs\" textLength=\"48\" x=\"424.5\" y=\"215.9526\">x: String</text><text fill=\"#000000\" font-family=\"sans-serif\" font-size=\"11\" lengthAdjust=\"spacingAndGlyphs\" textLength=\"21\" x=\"424.5\" y=\"228.7573\">y: A</text><line style=\"stroke: #383838; stroke-width: 1.0;\" x1=\"419.5\" x2=\"440.5\" y1=\"199.3398\" y2=\"199.3398\"/><text fill=\"#000000\" font-family=\"sans-serif\" font-size=\"11\" lengthAdjust=\"spacingAndGlyphs\" textLength=\"55\" x=\"440.5\" y=\"202.6479\">attributes</text><line style=\"stroke: #383838; stroke-width: 1.0;\" x1=\"495.5\" x2=\"516.5\" y1=\"199.3398\" y2=\"199.3398\"/></a><!--MD5=[09b614a08d8cba4a07c9adeb5e0fee81]\n",
       "class E3--><a href=\"psysml:080a965c-bda9-42ef-b0e7-dadea2c4de7a\" target=\"_top\" title=\"psysml:080a965c-bda9-42ef-b0e7-dadea2c4de7a\" xlink:actuate=\"onRequest\" xlink:href=\"psysml:080a965c-bda9-42ef-b0e7-dadea2c4de7a\" xlink:show=\"new\" xlink:title=\"psysml:080a965c-bda9-42ef-b0e7-dadea2c4de7a\" xlink:type=\"simple\"><rect fill=\"#FFFFFF\" height=\"45.9375\" id=\"E3\" rx=\"10\" ry=\"10\" style=\"stroke: #383838; stroke-width: 1.5;\" width=\"71\" x=\"456.5\" y=\"41\"/><text fill=\"#000000\" font-family=\"sans-serif\" font-size=\"12\" font-style=\"italic\" lengthAdjust=\"spacingAndGlyphs\" textLength=\"69\" x=\"457.5\" y=\"57.1387\">«attribute»</text><text fill=\"#000000\" font-family=\"sans-serif\" font-size=\"12\" lengthAdjust=\"spacingAndGlyphs\" textLength=\"24\" x=\"478\" y=\"71.1074\">a: A</text><line style=\"stroke: #383838; stroke-width: 1.5;\" x1=\"457.5\" x2=\"526.5\" y1=\"78.9375\" y2=\"78.9375\"/></a><!--MD5=[b9389687b975829384b498ac4b7476b2]\n",
       "class E8--><a href=\"psysml:a95297bf-d64f-43ac-86b7-f9f55eba203a\" target=\"_top\" title=\"psysml:a95297bf-d64f-43ac-86b7-f9f55eba203a\" xlink:actuate=\"onRequest\" xlink:href=\"psysml:a95297bf-d64f-43ac-86b7-f9f55eba203a\" xlink:show=\"new\" xlink:title=\"psysml:a95297bf-d64f-43ac-86b7-f9f55eba203a\" xlink:type=\"simple\"><rect fill=\"#FFFFFF\" height=\"45.9375\" id=\"E8\" rx=\"10\" ry=\"10\" style=\"stroke: #383838; stroke-width: 1.5;\" width=\"71\" x=\"350.5\" y=\"41\"/><text fill=\"#000000\" font-family=\"sans-serif\" font-size=\"12\" font-style=\"italic\" lengthAdjust=\"spacingAndGlyphs\" textLength=\"69\" x=\"351.5\" y=\"57.1387\">«attribute»</text><text fill=\"#000000\" font-family=\"sans-serif\" font-size=\"12\" lengthAdjust=\"spacingAndGlyphs\" textLength=\"4\" x=\"384\" y=\"71.1074\">f</text><line style=\"stroke: #383838; stroke-width: 1.5;\" x1=\"351.5\" x2=\"420.5\" y1=\"78.9375\" y2=\"78.9375\"/></a><!--MD5=[fd4143e9d270a159db93a4ea2a975926]\n",
       "class E9--><a href=\"psysml:778a48ec-a539-4294-8634-0d41b068db9f\" target=\"_top\" title=\"psysml:778a48ec-a539-4294-8634-0d41b068db9f\" xlink:actuate=\"onRequest\" xlink:href=\"psysml:778a48ec-a539-4294-8634-0d41b068db9f\" xlink:show=\"new\" xlink:title=\"psysml:778a48ec-a539-4294-8634-0d41b068db9f\" xlink:type=\"simple\"><rect fill=\"#FFFFFF\" height=\"45.9375\" id=\"E9\" rx=\"10\" ry=\"10\" style=\"stroke: #383838; stroke-width: 1.5;\" width=\"71\" x=\"244.5\" y=\"41\"/><text fill=\"#000000\" font-family=\"sans-serif\" font-size=\"12\" font-style=\"italic\" lengthAdjust=\"spacingAndGlyphs\" textLength=\"69\" x=\"245.5\" y=\"57.1387\">«attribute»</text><text fill=\"#000000\" font-family=\"sans-serif\" font-size=\"12\" lengthAdjust=\"spacingAndGlyphs\" textLength=\"8\" x=\"276\" y=\"71.1074\">g</text><line style=\"stroke: #383838; stroke-width: 1.5;\" x1=\"245.5\" x2=\"314.5\" y1=\"78.9375\" y2=\"78.9375\"/></a><!--MD5=[96f4274e9e20536e775497830990834d]\n",
       "class E10--><a href=\"psysml:178fd1be-66b7-4b93-9f69-0783143b2542\" target=\"_top\" title=\"psysml:178fd1be-66b7-4b93-9f69-0783143b2542\" xlink:actuate=\"onRequest\" xlink:href=\"psysml:178fd1be-66b7-4b93-9f69-0783143b2542\" xlink:show=\"new\" xlink:title=\"psysml:178fd1be-66b7-4b93-9f69-0783143b2542\" xlink:type=\"simple\"><rect fill=\"#FFFFFF\" height=\"45.9375\" id=\"E10\" rx=\"10\" ry=\"10\" style=\"stroke: #383838; stroke-width: 1.5;\" width=\"71\" x=\"138.5\" y=\"41\"/><text fill=\"#000000\" font-family=\"sans-serif\" font-size=\"12\" font-style=\"italic\" lengthAdjust=\"spacingAndGlyphs\" textLength=\"69\" x=\"139.5\" y=\"57.1387\">«attribute»</text><text fill=\"#000000\" font-family=\"sans-serif\" font-size=\"12\" lengthAdjust=\"spacingAndGlyphs\" textLength=\"8\" x=\"170\" y=\"71.1074\">b</text><line style=\"stroke: #383838; stroke-width: 1.5;\" x1=\"139.5\" x2=\"208.5\" y1=\"78.9375\" y2=\"78.9375\"/></a><!--MD5=[1dd1bfd58a279cf63c5f349dbc8fc6a1]\n",
       "class E11--><a href=\"psysml:ce14b558-47dc-4a37-8f10-4afbd6cf7826\" target=\"_top\" title=\"psysml:ce14b558-47dc-4a37-8f10-4afbd6cf7826\" xlink:actuate=\"onRequest\" xlink:href=\"psysml:ce14b558-47dc-4a37-8f10-4afbd6cf7826\" xlink:show=\"new\" xlink:title=\"psysml:ce14b558-47dc-4a37-8f10-4afbd6cf7826\" xlink:type=\"simple\"><rect fill=\"#FFFFFF\" height=\"45.9375\" id=\"E11\" rx=\"10\" ry=\"10\" style=\"stroke: #383838; stroke-width: 1.5;\" width=\"71\" x=\"32.5\" y=\"41\"/><text fill=\"#000000\" font-family=\"sans-serif\" font-size=\"12\" font-style=\"italic\" lengthAdjust=\"spacingAndGlyphs\" textLength=\"69\" x=\"33.5\" y=\"57.1387\">«attribute»</text><text fill=\"#000000\" font-family=\"sans-serif\" font-size=\"12\" lengthAdjust=\"spacingAndGlyphs\" textLength=\"7\" x=\"64.5\" y=\"71.1074\">c</text><line style=\"stroke: #383838; stroke-width: 1.5;\" x1=\"33.5\" x2=\"102.5\" y1=\"78.9375\" y2=\"78.9375\"/></a><text fill=\"#000000\" font-family=\"sans-serif\" font-size=\"14\" lengthAdjust=\"spacingAndGlyphs\" textLength=\"9\" x=\"569.5\" y=\"42.6982\">p</text><rect fill=\"#383838\" height=\"12\" style=\"stroke: #F8F8F8; stroke-width: 1.5;\" width=\"12\" x=\"568\" y=\"58\"/><text fill=\"#000000\" font-family=\"sans-serif\" font-size=\"14\" lengthAdjust=\"spacingAndGlyphs\" textLength=\"9\" x=\"616.5\" y=\"42.6982\">q</text><rect fill=\"#383838\" height=\"12\" style=\"stroke: #F8F8F8; stroke-width: 1.5;\" width=\"12\" x=\"615\" y=\"58\"/><text fill=\"#000000\" font-family=\"sans-serif\" font-size=\"14\" lengthAdjust=\"spacingAndGlyphs\" textLength=\"39\" x=\"601.5\" y=\"380.7151\">result</text><rect fill=\"#383838\" height=\"12\" style=\"stroke: #F8F8F8; stroke-width: 1.5;\" width=\"12\" x=\"615\" y=\"355.72\"/><!--MD5=[05d275557350bfb9b23a4ef7222b4c39]\n",
       "link E3 to E2--><a href=\"psysml:f36357d4-9dbb-46b9-9535-0d41e0b85630\" target=\"_top\" title=\"psysml:f36357d4-9dbb-46b9-9535-0d41e0b85630\" xlink:actuate=\"onRequest\" xlink:href=\"psysml:f36357d4-9dbb-46b9-9535-0d41e0b85630\" xlink:show=\"new\" xlink:title=\"psysml:f36357d4-9dbb-46b9-9535-0d41e0b85630\" xlink:type=\"simple\"><path d=\"M487,87.29 C487,87.29 487,126.78 487,126.78 \" fill=\"none\" id=\"E3-&gt;E2\" style=\"stroke: #383838; stroke-width: 1.0;\"/><polygon fill=\"#FFFFFF\" points=\"487,146.78,480,127.78,494,127.78,487,146.78\" style=\"stroke: #383838; stroke-width: 1.0;\"/><ellipse cx=\"482\" cy=\"122.08\" fill=\"#383838\" rx=\"2\" ry=\"2\" style=\"stroke: #383838; stroke-width: 1.0;\"/><ellipse cx=\"492\" cy=\"122.08\" fill=\"#383838\" rx=\"2\" ry=\"2\" style=\"stroke: #383838; stroke-width: 1.0;\"/></a><!--MD5=[79974253856e361a905dc533b732d93a]\n",
       "@startuml\r\n",
       "skinparam linetype ortho\r\n",
       "skinparam monochrome true\r\n",
       "skinparam classbackgroundcolor white\r\n",
       "skinparam shadowing false\r\n",
       "skinparam wrapWidth 300\r\n",
       "hide circle\r\n",
       "\r\n",
       "package \"ParameterTest\" as E1  [[psysml:19b06251-fe6f-4e99-9afa-d6889eb7a18f ]]  {\r\n",
       "comp def \"A\" as E2  <<(T,blue) attribute  def>> [[psysml:a687f627-404e-4522-a6e9-e30e4b3087b4 ]] {\r\n",
       "- - attributes - -\r\n",
       "x: String\r\n",
       "y: A\r\n",
       "}\r\n",
       "comp usage \"a: A \" as E3  <<(T,blue) attribute>> [[psysml:080a965c-bda9-42ef-b0e7-dadea2c4de7a ]] {\r\n",
       "}\r\n",
       "rec def \"F\" as E4  <<(T,blue) calculation  def>> [[psysml:87bb354b-94c0-403b-b7cb-102c1c7ef37a ]] {\r\n",
       "portin \"p\" as E5  [[psysml:16f7e9d3-43d0-4287-8a70-cbe1c91459d8 ]] \r\n",
       "portin \"q\" as E6  [[psysml:b2699d44-082f-48d9-8fe4-b2b87d72af88 ]] \r\n",
       "portout \"result\" as E7  [[psysml:efe4aa1f-bd0b-42c7-877f-48fcbd913317 ]] \r\n",
       "}\r\n",
       "\r\n",
       "comp usage \"f\" as E8  <<(T,blue) attribute>> [[psysml:a95297bf-d64f-43ac-86b7-f9f55eba203a ]] {\r\n",
       "}\r\n",
       "comp usage \"g\" as E9  <<(T,blue) attribute>> [[psysml:778a48ec-a539-4294-8634-0d41b068db9f ]] {\r\n",
       "}\r\n",
       "comp usage \"b\" as E10  <<(T,blue) attribute>> [[psysml:178fd1be-66b7-4b93-9f69-0783143b2542 ]] {\r\n",
       "}\r\n",
       "comp usage \"c\" as E11  <<(T,blue) attribute>> [[psysml:ce14b558-47dc-4a37-8f10-4afbd6cf7826 ]] {\r\n",
       "}\r\n",
       "}\r\n",
       "E3 - -:|> E2 [[psysml:f36357d4-9dbb-46b9-9535-0d41e0b85630 ]] \r\n",
       "@enduml\r\n",
       "\n",
       "PlantUML version 1.2020.13(Sat Jun 13 12:26:38 UTC 2020)\n",
       "(EPL source distribution)\n",
       "Java Runtime: OpenJDK Runtime Environment\n",
       "JVM: OpenJDK 64-Bit Server VM\n",
       "Default Encoding: UTF-8\n",
       "Language: en\n",
       "Country: null\n",
       "--></g></svg>"
      ]
     },
     "execution_count": 51,
     "metadata": {},
     "output_type": "execute_result"
    }
   ],
   "source": [
    "%viz --style=\"ORTHOLINE\" --view=\"Default\" \"ParameterTest\""
   ]
  },
  {
   "cell_type": "code",
   "execution_count": 52,
   "id": "b41f5f36",
   "metadata": {
    "execution": {
     "iopub.execute_input": "2021-11-13T12:59:18.176032Z",
     "iopub.status.busy": "2021-11-13T12:59:18.175601Z",
     "iopub.status.idle": "2021-11-13T12:59:18.238602Z",
     "shell.execute_reply": "2021-11-13T12:59:18.238234Z"
    }
   },
   "outputs": [
    {
     "data": {
      "image/svg+xml": [
       "<?xml version=\"1.0\" encoding=\"UTF-8\" standalone=\"no\"?><svg xmlns=\"http://www.w3.org/2000/svg\" xmlns:xlink=\"http://www.w3.org/1999/xlink\" contentScriptType=\"application/ecmascript\" contentStyleType=\"text/css\" height=\"322px\" preserveAspectRatio=\"none\" style=\"width:714px;height:322px;\" version=\"1.1\" viewBox=\"0 0 714 322\" width=\"714px\" zoomAndPan=\"magnify\"><defs/><g><!--MD5=[fbc87193dbaf4d95561dea2c320d4a47]\n",
       "cluster E1--><a href=\"psysml:19b06251-fe6f-4e99-9afa-d6889eb7a18f\" target=\"_top\" title=\"psysml:19b06251-fe6f-4e99-9afa-d6889eb7a18f\" xlink:actuate=\"onRequest\" xlink:href=\"psysml:19b06251-fe6f-4e99-9afa-d6889eb7a18f\" xlink:show=\"new\" xlink:title=\"psysml:19b06251-fe6f-4e99-9afa-d6889eb7a18f\" xlink:type=\"simple\"><polygon fill=\"#FFFFFF\" points=\"16,6,124,6,131,28.2969,692,28.2969,692,310,16,310,16,6\" style=\"stroke: #000000; stroke-width: 1.5;\"/><line style=\"stroke: #000000; stroke-width: 1.5;\" x1=\"16\" x2=\"131\" y1=\"28.2969\" y2=\"28.2969\"/><text fill=\"#000000\" font-family=\"sans-serif\" font-size=\"14\" font-weight=\"bold\" lengthAdjust=\"spacingAndGlyphs\" textLength=\"102\" x=\"20\" y=\"20.9951\">ParameterTest</text></a><!--MD5=[b4997ac47864f28c2f74865a473b2911]\n",
       "class E2--><a href=\"psysml:a687f627-404e-4522-a6e9-e30e4b3087b4\" target=\"_top\" title=\"psysml:a687f627-404e-4522-a6e9-e30e4b3087b4\" xlink:actuate=\"onRequest\" xlink:href=\"psysml:a687f627-404e-4522-a6e9-e30e4b3087b4\" xlink:show=\"new\" xlink:title=\"psysml:a687f627-404e-4522-a6e9-e30e4b3087b4\" xlink:type=\"simple\"><rect fill=\"#FFFFFF\" height=\"88.3516\" id=\"E2\" style=\"stroke: #383838; stroke-width: 1.5;\" width=\"99\" x=\"513.5\" y=\"206\"/><text fill=\"#000000\" font-family=\"sans-serif\" font-size=\"12\" font-style=\"italic\" lengthAdjust=\"spacingAndGlyphs\" textLength=\"97\" x=\"514.5\" y=\"222.1387\">«attribute  def»</text><text fill=\"#000000\" font-family=\"sans-serif\" font-size=\"12\" lengthAdjust=\"spacingAndGlyphs\" textLength=\"8\" x=\"559\" y=\"236.1074\">A</text><line style=\"stroke: #383838; stroke-width: 1.5;\" x1=\"514.5\" x2=\"611.5\" y1=\"243.9375\" y2=\"243.9375\"/><text fill=\"#000000\" font-family=\"sans-serif\" font-size=\"11\" lengthAdjust=\"spacingAndGlyphs\" textLength=\"48\" x=\"519.5\" y=\"274.9526\">x: String</text><text fill=\"#000000\" font-family=\"sans-serif\" font-size=\"11\" lengthAdjust=\"spacingAndGlyphs\" textLength=\"21\" x=\"519.5\" y=\"287.7573\">y: A</text><line style=\"stroke: #383838; stroke-width: 1.0;\" x1=\"514.5\" x2=\"535.5\" y1=\"258.3398\" y2=\"258.3398\"/><text fill=\"#000000\" font-family=\"sans-serif\" font-size=\"11\" lengthAdjust=\"spacingAndGlyphs\" textLength=\"55\" x=\"535.5\" y=\"261.6479\">attributes</text><line style=\"stroke: #383838; stroke-width: 1.0;\" x1=\"590.5\" x2=\"611.5\" y1=\"258.3398\" y2=\"258.3398\"/></a><!--MD5=[09b614a08d8cba4a07c9adeb5e0fee81]\n",
       "class E3--><a href=\"psysml:080a965c-bda9-42ef-b0e7-dadea2c4de7a\" target=\"_top\" title=\"psysml:080a965c-bda9-42ef-b0e7-dadea2c4de7a\" xlink:actuate=\"onRequest\" xlink:href=\"psysml:080a965c-bda9-42ef-b0e7-dadea2c4de7a\" xlink:show=\"new\" xlink:title=\"psysml:080a965c-bda9-42ef-b0e7-dadea2c4de7a\" xlink:type=\"simple\"><rect fill=\"#FFFFFF\" height=\"45.9375\" id=\"E3\" rx=\"10\" ry=\"10\" style=\"stroke: #383838; stroke-width: 1.5;\" width=\"71\" x=\"604.5\" y=\"62\"/><text fill=\"#000000\" font-family=\"sans-serif\" font-size=\"12\" font-style=\"italic\" lengthAdjust=\"spacingAndGlyphs\" textLength=\"69\" x=\"605.5\" y=\"78.1387\">«attribute»</text><text fill=\"#000000\" font-family=\"sans-serif\" font-size=\"12\" lengthAdjust=\"spacingAndGlyphs\" textLength=\"24\" x=\"626\" y=\"92.1074\">a: A</text><line style=\"stroke: #383838; stroke-width: 1.5;\" x1=\"605.5\" x2=\"674.5\" y1=\"99.9375\" y2=\"99.9375\"/></a><!--MD5=[ebbe1d658d1005bcc118a6aa81145e00]\n",
       "class E4--><a href=\"psysml:87bb354b-94c0-403b-b7cb-102c1c7ef37a\" target=\"_top\" title=\"psysml:87bb354b-94c0-403b-b7cb-102c1c7ef37a\" xlink:actuate=\"onRequest\" xlink:href=\"psysml:87bb354b-94c0-403b-b7cb-102c1c7ef37a\" xlink:show=\"new\" xlink:title=\"psysml:87bb354b-94c0-403b-b7cb-102c1c7ef37a\" xlink:type=\"simple\"><rect fill=\"#FFFFFF\" height=\"88.3516\" id=\"E4\" style=\"stroke: #383838; stroke-width: 1.5;\" width=\"112\" x=\"457\" y=\"41\"/><text fill=\"#000000\" font-family=\"sans-serif\" font-size=\"12\" font-style=\"italic\" lengthAdjust=\"spacingAndGlyphs\" textLength=\"110\" x=\"458\" y=\"57.1387\">«calculation  def»</text><text fill=\"#000000\" font-family=\"sans-serif\" font-size=\"12\" lengthAdjust=\"spacingAndGlyphs\" textLength=\"7\" x=\"509.5\" y=\"71.1074\">F</text><line style=\"stroke: #383838; stroke-width: 1.5;\" x1=\"458\" x2=\"568\" y1=\"78.9375\" y2=\"78.9375\"/><text fill=\"#000000\" font-family=\"sans-serif\" font-size=\"11\" font-weight=\"bold\" lengthAdjust=\"spacingAndGlyphs\" textLength=\"10\" x=\"463\" y=\"109.9526\">in</text><text fill=\"#000000\" font-family=\"sans-serif\" font-size=\"11\" lengthAdjust=\"spacingAndGlyphs\" textLength=\"22\" x=\"477\" y=\"109.9526\">p: A</text><text fill=\"#000000\" font-family=\"sans-serif\" font-size=\"11\" font-weight=\"bold\" lengthAdjust=\"spacingAndGlyphs\" textLength=\"10\" x=\"463\" y=\"122.7573\">in</text><text fill=\"#000000\" font-family=\"sans-serif\" font-size=\"11\" lengthAdjust=\"spacingAndGlyphs\" textLength=\"55\" x=\"477\" y=\"122.7573\">q: Integer</text><line style=\"stroke: #383838; stroke-width: 1.0;\" x1=\"458\" x2=\"479.5\" y1=\"93.3398\" y2=\"93.3398\"/><text fill=\"#000000\" font-family=\"sans-serif\" font-size=\"11\" lengthAdjust=\"spacingAndGlyphs\" textLength=\"67\" x=\"479.5\" y=\"96.6479\">parameters</text><line style=\"stroke: #383838; stroke-width: 1.0;\" x1=\"546.5\" x2=\"568\" y1=\"93.3398\" y2=\"93.3398\"/></a><!--MD5=[270fce915f116d4de14055a7c1d9a0f3]\n",
       "class E5--><a href=\"psysml:a95297bf-d64f-43ac-86b7-f9f55eba203a\" target=\"_top\" title=\"psysml:a95297bf-d64f-43ac-86b7-f9f55eba203a\" xlink:actuate=\"onRequest\" xlink:href=\"psysml:a95297bf-d64f-43ac-86b7-f9f55eba203a\" xlink:show=\"new\" xlink:title=\"psysml:a95297bf-d64f-43ac-86b7-f9f55eba203a\" xlink:type=\"simple\"><rect fill=\"#FFFFFF\" height=\"45.9375\" id=\"E5\" rx=\"10\" ry=\"10\" style=\"stroke: #383838; stroke-width: 1.5;\" width=\"71\" x=\"350.5\" y=\"62\"/><text fill=\"#000000\" font-family=\"sans-serif\" font-size=\"12\" font-style=\"italic\" lengthAdjust=\"spacingAndGlyphs\" textLength=\"69\" x=\"351.5\" y=\"78.1387\">«attribute»</text><text fill=\"#000000\" font-family=\"sans-serif\" font-size=\"12\" lengthAdjust=\"spacingAndGlyphs\" textLength=\"4\" x=\"384\" y=\"92.1074\">f</text><line style=\"stroke: #383838; stroke-width: 1.5;\" x1=\"351.5\" x2=\"420.5\" y1=\"99.9375\" y2=\"99.9375\"/></a><!--MD5=[60a26617385b1d2d0262a64233df1f8d]\n",
       "class E6--><a href=\"psysml:778a48ec-a539-4294-8634-0d41b068db9f\" target=\"_top\" title=\"psysml:778a48ec-a539-4294-8634-0d41b068db9f\" xlink:actuate=\"onRequest\" xlink:href=\"psysml:778a48ec-a539-4294-8634-0d41b068db9f\" xlink:show=\"new\" xlink:title=\"psysml:778a48ec-a539-4294-8634-0d41b068db9f\" xlink:type=\"simple\"><rect fill=\"#FFFFFF\" height=\"45.9375\" id=\"E6\" rx=\"10\" ry=\"10\" style=\"stroke: #383838; stroke-width: 1.5;\" width=\"71\" x=\"244.5\" y=\"62\"/><text fill=\"#000000\" font-family=\"sans-serif\" font-size=\"12\" font-style=\"italic\" lengthAdjust=\"spacingAndGlyphs\" textLength=\"69\" x=\"245.5\" y=\"78.1387\">«attribute»</text><text fill=\"#000000\" font-family=\"sans-serif\" font-size=\"12\" lengthAdjust=\"spacingAndGlyphs\" textLength=\"8\" x=\"276\" y=\"92.1074\">g</text><line style=\"stroke: #383838; stroke-width: 1.5;\" x1=\"245.5\" x2=\"314.5\" y1=\"99.9375\" y2=\"99.9375\"/></a><!--MD5=[2156ba9850f5573cc1fc38a6a4b2f02b]\n",
       "class E7--><a href=\"psysml:178fd1be-66b7-4b93-9f69-0783143b2542\" target=\"_top\" title=\"psysml:178fd1be-66b7-4b93-9f69-0783143b2542\" xlink:actuate=\"onRequest\" xlink:href=\"psysml:178fd1be-66b7-4b93-9f69-0783143b2542\" xlink:show=\"new\" xlink:title=\"psysml:178fd1be-66b7-4b93-9f69-0783143b2542\" xlink:type=\"simple\"><rect fill=\"#FFFFFF\" height=\"45.9375\" id=\"E7\" rx=\"10\" ry=\"10\" style=\"stroke: #383838; stroke-width: 1.5;\" width=\"71\" x=\"138.5\" y=\"62\"/><text fill=\"#000000\" font-family=\"sans-serif\" font-size=\"12\" font-style=\"italic\" lengthAdjust=\"spacingAndGlyphs\" textLength=\"69\" x=\"139.5\" y=\"78.1387\">«attribute»</text><text fill=\"#000000\" font-family=\"sans-serif\" font-size=\"12\" lengthAdjust=\"spacingAndGlyphs\" textLength=\"8\" x=\"170\" y=\"92.1074\">b</text><line style=\"stroke: #383838; stroke-width: 1.5;\" x1=\"139.5\" x2=\"208.5\" y1=\"99.9375\" y2=\"99.9375\"/></a><!--MD5=[b9389687b975829384b498ac4b7476b2]\n",
       "class E8--><a href=\"psysml:ce14b558-47dc-4a37-8f10-4afbd6cf7826\" target=\"_top\" title=\"psysml:ce14b558-47dc-4a37-8f10-4afbd6cf7826\" xlink:actuate=\"onRequest\" xlink:href=\"psysml:ce14b558-47dc-4a37-8f10-4afbd6cf7826\" xlink:show=\"new\" xlink:title=\"psysml:ce14b558-47dc-4a37-8f10-4afbd6cf7826\" xlink:type=\"simple\"><rect fill=\"#FFFFFF\" height=\"45.9375\" id=\"E8\" rx=\"10\" ry=\"10\" style=\"stroke: #383838; stroke-width: 1.5;\" width=\"71\" x=\"32.5\" y=\"62\"/><text fill=\"#000000\" font-family=\"sans-serif\" font-size=\"12\" font-style=\"italic\" lengthAdjust=\"spacingAndGlyphs\" textLength=\"69\" x=\"33.5\" y=\"78.1387\">«attribute»</text><text fill=\"#000000\" font-family=\"sans-serif\" font-size=\"12\" lengthAdjust=\"spacingAndGlyphs\" textLength=\"7\" x=\"64.5\" y=\"92.1074\">c</text><line style=\"stroke: #383838; stroke-width: 1.5;\" x1=\"33.5\" x2=\"102.5\" y1=\"99.9375\" y2=\"99.9375\"/></a><!--MD5=[05d275557350bfb9b23a4ef7222b4c39]\n",
       "link E3 to E2--><a href=\"psysml:f36357d4-9dbb-46b9-9535-0d41e0b85630\" target=\"_top\" title=\"psysml:f36357d4-9dbb-46b9-9535-0d41e0b85630\" xlink:actuate=\"onRequest\" xlink:href=\"psysml:f36357d4-9dbb-46b9-9535-0d41e0b85630\" xlink:show=\"new\" xlink:title=\"psysml:f36357d4-9dbb-46b9-9535-0d41e0b85630\" xlink:type=\"simple\"><path d=\"M608.5,108.29 C608.5,108.29 608.5,185.73 608.5,185.73 \" fill=\"none\" id=\"E3-&gt;E2\" style=\"stroke: #383838; stroke-width: 1.0;\"/><polygon fill=\"#FFFFFF\" points=\"608.5,205.73,601.5,186.73,615.5,186.73,608.5,205.73\" style=\"stroke: #383838; stroke-width: 1.0;\"/><ellipse cx=\"603.5\" cy=\"181.03\" fill=\"#383838\" rx=\"2\" ry=\"2\" style=\"stroke: #383838; stroke-width: 1.0;\"/><ellipse cx=\"613.5\" cy=\"181.03\" fill=\"#383838\" rx=\"2\" ry=\"2\" style=\"stroke: #383838; stroke-width: 1.0;\"/></a><!--MD5=[ddeed8deb2209213b62e6cfabaa108b2]\n",
       "reverse link E4 to E2--><a href=\"psysml:16f7e9d3-43d0-4287-8a70-cbe1c91459d8\" target=\"_top\" title=\"psysml:16f7e9d3-43d0-4287-8a70-cbe1c91459d8\" xlink:actuate=\"onRequest\" xlink:href=\"psysml:16f7e9d3-43d0-4287-8a70-cbe1c91459d8\" xlink:show=\"new\" xlink:title=\"psysml:16f7e9d3-43d0-4287-8a70-cbe1c91459d8\" xlink:type=\"simple\"><path d=\"M532,142.22 C532,142.22 532,205.95 532,205.95 \" fill=\"none\" id=\"E4&lt;-E2\" style=\"stroke: #383838; stroke-width: 1.0;\"/><polygon fill=\"#FFFFFF\" points=\"532,129.22,528,135.22,532,141.22,536,135.22,532,129.22\" style=\"stroke: #383838; stroke-width: 1.0;\"/><text fill=\"#000000\" font-family=\"sans-serif\" font-size=\"13\" lengthAdjust=\"spacingAndGlyphs\" textLength=\"8\" x=\"514\" y=\"172.0669\">p</text></a><!--MD5=[ddeed8deb2209213b62e6cfabaa108b2]\n",
       "reverse link E4 to E2--><a href=\"psysml:16f7e9d3-43d0-4287-8a70-cbe1c91459d8\" target=\"_top\" title=\"psysml:16f7e9d3-43d0-4287-8a70-cbe1c91459d8\" xlink:actuate=\"onRequest\" xlink:href=\"psysml:16f7e9d3-43d0-4287-8a70-cbe1c91459d8\" xlink:show=\"new\" xlink:title=\"psysml:16f7e9d3-43d0-4287-8a70-cbe1c91459d8\" xlink:type=\"simple\"><path d=\"M550.5,142.22 C550.5,142.22 550.5,205.95 550.5,205.95 \" fill=\"none\" id=\"E4&lt;-E2-1\" style=\"stroke: #383838; stroke-width: 1.0;\"/><polygon fill=\"#FFFFFF\" points=\"550.5,129.22,546.5,135.22,550.5,141.22,554.5,135.22,550.5,129.22\" style=\"stroke: #383838; stroke-width: 1.0;\"/><text fill=\"#000000\" font-family=\"sans-serif\" font-size=\"13\" lengthAdjust=\"spacingAndGlyphs\" textLength=\"8\" x=\"564\" y=\"172.0669\">p</text></a><!--MD5=[8b89fdf6814ecc9e3f99ba84aac30a15]\n",
       "@startuml\r\n",
       "skinparam linetype ortho\r\n",
       "skinparam monochrome true\r\n",
       "skinparam classbackgroundcolor white\r\n",
       "skinparam shadowing false\r\n",
       "skinparam wrapWidth 300\r\n",
       "hide circle\r\n",
       "\r\n",
       "package \"ParameterTest\" as E1  [[psysml:19b06251-fe6f-4e99-9afa-d6889eb7a18f ]]  {\r\n",
       "comp def \"A\" as E2  <<(T,blue) attribute  def>> [[psysml:a687f627-404e-4522-a6e9-e30e4b3087b4 ]] {\r\n",
       "- - attributes - -\r\n",
       "x: String\r\n",
       "y: A\r\n",
       "}\r\n",
       "comp usage \"a: A \" as E3  <<(T,blue) attribute>> [[psysml:080a965c-bda9-42ef-b0e7-dadea2c4de7a ]] {\r\n",
       "}\r\n",
       "comp def \"F\" as E4  <<(T,blue) calculation  def>> [[psysml:87bb354b-94c0-403b-b7cb-102c1c7ef37a ]] {\r\n",
       "- - parameters - -\r\n",
       "<b>in</b> p: A\r\n",
       "<b>in</b> q: Integer\r\n",
       "}\r\n",
       "comp usage \"f\" as E5  <<(T,blue) attribute>> [[psysml:a95297bf-d64f-43ac-86b7-f9f55eba203a ]] {\r\n",
       "}\r\n",
       "comp usage \"g\" as E6  <<(T,blue) attribute>> [[psysml:778a48ec-a539-4294-8634-0d41b068db9f ]] {\r\n",
       "}\r\n",
       "comp usage \"b\" as E7  <<(T,blue) attribute>> [[psysml:178fd1be-66b7-4b93-9f69-0783143b2542 ]] {\r\n",
       "}\r\n",
       "comp usage \"c\" as E8  <<(T,blue) attribute>> [[psysml:ce14b558-47dc-4a37-8f10-4afbd6cf7826 ]] {\r\n",
       "}\r\n",
       "}\r\n",
       "E3 - -:|> E2 [[psysml:f36357d4-9dbb-46b9-9535-0d41e0b85630 ]] \r\n",
       "E4 o- - E2 [[psysml:16f7e9d3-43d0-4287-8a70-cbe1c91459d8 ]] : p\r\n",
       "E4 o- - E2 [[psysml:16f7e9d3-43d0-4287-8a70-cbe1c91459d8 ]] : p\r\n",
       "@enduml\r\n",
       "\n",
       "PlantUML version 1.2020.13(Sat Jun 13 12:26:38 UTC 2020)\n",
       "(EPL source distribution)\n",
       "Java Runtime: OpenJDK Runtime Environment\n",
       "JVM: OpenJDK 64-Bit Server VM\n",
       "Default Encoding: UTF-8\n",
       "Language: en\n",
       "Country: null\n",
       "--></g></svg>"
      ]
     },
     "execution_count": 52,
     "metadata": {},
     "output_type": "execute_result"
    }
   ],
   "source": [
    "%viz --style=\"ORTHOLINE\" --view=\"Tree\" \"ParameterTest\""
   ]
  },
  {
   "cell_type": "code",
   "execution_count": 53,
   "id": "2b0d19f8",
   "metadata": {
    "execution": {
     "iopub.execute_input": "2021-11-13T12:59:18.287958Z",
     "iopub.status.busy": "2021-11-13T12:59:18.287503Z",
     "iopub.status.idle": "2021-11-13T12:59:18.292794Z",
     "shell.execute_reply": "2021-11-13T12:59:18.292435Z"
    }
   },
   "outputs": [
    {
     "data": {
      "image/svg+xml": [
       "<?xml version=\"1.0\" encoding=\"UTF-8\" standalone=\"no\"?><svg xmlns=\"http://www.w3.org/2000/svg\" xmlns:xlink=\"http://www.w3.org/1999/xlink\" contentScriptType=\"application/ecmascript\" contentStyleType=\"text/css\" height=\"12px\" preserveAspectRatio=\"none\" style=\"width:12px;height:12px;\" version=\"1.1\" viewBox=\"0 0 12 12\" width=\"12px\" zoomAndPan=\"magnify\"><defs/><g><!--MD5=[97d6f38768b311333d388e66b2b27985]\n",
       "@startuml\r\n",
       "skinparam linetype ortho\r\n",
       "skinparam monochrome true\r\n",
       "skinparam classbackgroundcolor white\r\n",
       "skinparam shadowing false\r\n",
       "skinparam wrapWidth 300\r\n",
       "hide circle\r\n",
       "\r\n",
       "@enduml\r\n",
       "\n",
       "PlantUML version 1.2020.13(Sat Jun 13 12:26:38 UTC 2020)\n",
       "(EPL source distribution)\n",
       "Java Runtime: OpenJDK Runtime Environment\n",
       "JVM: OpenJDK 64-Bit Server VM\n",
       "Default Encoding: UTF-8\n",
       "Language: en\n",
       "Country: null\n",
       "--></g></svg>"
      ]
     },
     "execution_count": 53,
     "metadata": {},
     "output_type": "execute_result"
    }
   ],
   "source": [
    "%viz --style=\"ORTHOLINE\" --view=\"State\" \"ParameterTest\""
   ]
  },
  {
   "cell_type": "code",
   "execution_count": 54,
   "id": "ef2a9d16",
   "metadata": {
    "execution": {
     "iopub.execute_input": "2021-11-13T12:59:18.341676Z",
     "iopub.status.busy": "2021-11-13T12:59:18.341267Z",
     "iopub.status.idle": "2021-11-13T12:59:18.375662Z",
     "shell.execute_reply": "2021-11-13T12:59:18.373619Z"
    }
   },
   "outputs": [
    {
     "data": {
      "image/svg+xml": [
       "<?xml version=\"1.0\" encoding=\"UTF-8\" standalone=\"no\"?><svg xmlns=\"http://www.w3.org/2000/svg\" xmlns:xlink=\"http://www.w3.org/1999/xlink\" contentScriptType=\"application/ecmascript\" contentStyleType=\"text/css\" height=\"216px\" preserveAspectRatio=\"none\" style=\"width:744px;height:216px;\" version=\"1.1\" viewBox=\"0 0 744 216\" width=\"744px\" zoomAndPan=\"magnify\"><defs/><g><!--MD5=[fbc87193dbaf4d95561dea2c320d4a47]\n",
       "cluster E1--><a href=\"psysml:19b06251-fe6f-4e99-9afa-d6889eb7a18f\" target=\"_top\" title=\"psysml:19b06251-fe6f-4e99-9afa-d6889eb7a18f\" xlink:actuate=\"onRequest\" xlink:href=\"psysml:19b06251-fe6f-4e99-9afa-d6889eb7a18f\" xlink:show=\"new\" xlink:title=\"psysml:19b06251-fe6f-4e99-9afa-d6889eb7a18f\" xlink:type=\"simple\"><polygon fill=\"#FFFFFF\" points=\"16,6,124,6,131,28.2969,722,28.2969,722,204.72,16,204.72,16,6\" style=\"stroke: #000000; stroke-width: 1.5;\"/><line style=\"stroke: #000000; stroke-width: 1.5;\" x1=\"16\" x2=\"131\" y1=\"28.2969\" y2=\"28.2969\"/><text fill=\"#000000\" font-family=\"sans-serif\" font-size=\"14\" font-weight=\"bold\" lengthAdjust=\"spacingAndGlyphs\" textLength=\"102\" x=\"20\" y=\"20.9951\">ParameterTest</text></a><!--MD5=[f6df4d0ebaf0b5dfb2ced0ae5af7c670]\n",
       "cluster E4--><a href=\"psysml:87bb354b-94c0-403b-b7cb-102c1c7ef37a\" target=\"_top\" title=\"psysml:87bb354b-94c0-403b-b7cb-102c1c7ef37a\" xlink:actuate=\"onRequest\" xlink:href=\"psysml:87bb354b-94c0-403b-b7cb-102c1c7ef37a\" xlink:show=\"new\" xlink:title=\"psysml:87bb354b-94c0-403b-b7cb-102c1c7ef37a\" xlink:type=\"simple\"><rect fill=\"#FFFFFF\" height=\"110.72\" id=\"E4\" style=\"stroke: #383838; stroke-width: 1.5;\" width=\"150\" x=\"556\" y=\"64\"/><rect fill=\"#F8F8F8\" height=\"37.9375\" style=\"stroke: #383838; stroke-width: 1.5;\" width=\"150\" x=\"556\" y=\"64\"/><text fill=\"#000000\" font-family=\"sans-serif\" font-size=\"12\" font-style=\"italic\" lengthAdjust=\"spacingAndGlyphs\" textLength=\"110\" x=\"576\" y=\"80.1387\">«calculation  def»</text><text fill=\"#000000\" font-family=\"sans-serif\" font-size=\"12\" lengthAdjust=\"spacingAndGlyphs\" textLength=\"7\" x=\"627.5\" y=\"94.1074\">F</text></a><g id=\"E1.E2\"><a href=\"psysml:a687f627-404e-4522-a6e9-e30e4b3087b4\" target=\"_top\" title=\"psysml:a687f627-404e-4522-a6e9-e30e4b3087b4\" xlink:actuate=\"onRequest\" xlink:href=\"psysml:a687f627-404e-4522-a6e9-e30e4b3087b4\" xlink:show=\"new\" xlink:title=\"psysml:a687f627-404e-4522-a6e9-e30e4b3087b4\" xlink:type=\"simple\"><rect fill=\"#FFFFFF\" height=\"42.9375\" id=\"E2\" style=\"stroke: #383838; stroke-width: 1.5;\" width=\"104\" x=\"413\" y=\"99\"/><rect fill=\"#F8F8F8\" height=\"37.9375\" style=\"stroke: #383838; stroke-width: 1.5;\" width=\"104\" x=\"413\" y=\"99\"/><text fill=\"#000000\" font-family=\"sans-serif\" font-size=\"12\" font-style=\"italic\" lengthAdjust=\"spacingAndGlyphs\" textLength=\"97\" x=\"416.5\" y=\"115.1387\">«attribute  def»</text><text fill=\"#000000\" font-family=\"sans-serif\" font-size=\"12\" lengthAdjust=\"spacingAndGlyphs\" textLength=\"8\" x=\"461\" y=\"129.1074\">A</text></a></g><!--MD5=[09b614a08d8cba4a07c9adeb5e0fee81]\n",
       "class E3--><a href=\"psysml:080a965c-bda9-42ef-b0e7-dadea2c4de7a\" target=\"_top\" title=\"psysml:080a965c-bda9-42ef-b0e7-dadea2c4de7a\" xlink:actuate=\"onRequest\" xlink:href=\"psysml:080a965c-bda9-42ef-b0e7-dadea2c4de7a\" xlink:show=\"new\" xlink:title=\"psysml:080a965c-bda9-42ef-b0e7-dadea2c4de7a\" xlink:type=\"simple\"><rect fill=\"#FFFFFF\" height=\"45.9375\" id=\"E3\" rx=\"10\" ry=\"10\" style=\"stroke: #383838; stroke-width: 1.5;\" width=\"71\" x=\"456.5\" y=\"41\"/><text fill=\"#000000\" font-family=\"sans-serif\" font-size=\"12\" font-style=\"italic\" lengthAdjust=\"spacingAndGlyphs\" textLength=\"69\" x=\"457.5\" y=\"57.1387\">«attribute»</text><text fill=\"#000000\" font-family=\"sans-serif\" font-size=\"12\" lengthAdjust=\"spacingAndGlyphs\" textLength=\"24\" x=\"478\" y=\"71.1074\">a: A</text><line style=\"stroke: #383838; stroke-width: 1.5;\" x1=\"457.5\" x2=\"526.5\" y1=\"78.9375\" y2=\"78.9375\"/></a><!--MD5=[b9389687b975829384b498ac4b7476b2]\n",
       "class E8--><a href=\"psysml:a95297bf-d64f-43ac-86b7-f9f55eba203a\" target=\"_top\" title=\"psysml:a95297bf-d64f-43ac-86b7-f9f55eba203a\" xlink:actuate=\"onRequest\" xlink:href=\"psysml:a95297bf-d64f-43ac-86b7-f9f55eba203a\" xlink:show=\"new\" xlink:title=\"psysml:a95297bf-d64f-43ac-86b7-f9f55eba203a\" xlink:type=\"simple\"><rect fill=\"#FFFFFF\" height=\"45.9375\" id=\"E8\" rx=\"10\" ry=\"10\" style=\"stroke: #383838; stroke-width: 1.5;\" width=\"71\" x=\"350.5\" y=\"41\"/><text fill=\"#000000\" font-family=\"sans-serif\" font-size=\"12\" font-style=\"italic\" lengthAdjust=\"spacingAndGlyphs\" textLength=\"69\" x=\"351.5\" y=\"57.1387\">«attribute»</text><text fill=\"#000000\" font-family=\"sans-serif\" font-size=\"12\" lengthAdjust=\"spacingAndGlyphs\" textLength=\"4\" x=\"384\" y=\"71.1074\">f</text><line style=\"stroke: #383838; stroke-width: 1.5;\" x1=\"351.5\" x2=\"420.5\" y1=\"78.9375\" y2=\"78.9375\"/></a><!--MD5=[fd4143e9d270a159db93a4ea2a975926]\n",
       "class E9--><a href=\"psysml:778a48ec-a539-4294-8634-0d41b068db9f\" target=\"_top\" title=\"psysml:778a48ec-a539-4294-8634-0d41b068db9f\" xlink:actuate=\"onRequest\" xlink:href=\"psysml:778a48ec-a539-4294-8634-0d41b068db9f\" xlink:show=\"new\" xlink:title=\"psysml:778a48ec-a539-4294-8634-0d41b068db9f\" xlink:type=\"simple\"><rect fill=\"#FFFFFF\" height=\"45.9375\" id=\"E9\" rx=\"10\" ry=\"10\" style=\"stroke: #383838; stroke-width: 1.5;\" width=\"71\" x=\"244.5\" y=\"41\"/><text fill=\"#000000\" font-family=\"sans-serif\" font-size=\"12\" font-style=\"italic\" lengthAdjust=\"spacingAndGlyphs\" textLength=\"69\" x=\"245.5\" y=\"57.1387\">«attribute»</text><text fill=\"#000000\" font-family=\"sans-serif\" font-size=\"12\" lengthAdjust=\"spacingAndGlyphs\" textLength=\"8\" x=\"276\" y=\"71.1074\">g</text><line style=\"stroke: #383838; stroke-width: 1.5;\" x1=\"245.5\" x2=\"314.5\" y1=\"78.9375\" y2=\"78.9375\"/></a><!--MD5=[96f4274e9e20536e775497830990834d]\n",
       "class E10--><a href=\"psysml:178fd1be-66b7-4b93-9f69-0783143b2542\" target=\"_top\" title=\"psysml:178fd1be-66b7-4b93-9f69-0783143b2542\" xlink:actuate=\"onRequest\" xlink:href=\"psysml:178fd1be-66b7-4b93-9f69-0783143b2542\" xlink:show=\"new\" xlink:title=\"psysml:178fd1be-66b7-4b93-9f69-0783143b2542\" xlink:type=\"simple\"><rect fill=\"#FFFFFF\" height=\"45.9375\" id=\"E10\" rx=\"10\" ry=\"10\" style=\"stroke: #383838; stroke-width: 1.5;\" width=\"71\" x=\"138.5\" y=\"41\"/><text fill=\"#000000\" font-family=\"sans-serif\" font-size=\"12\" font-style=\"italic\" lengthAdjust=\"spacingAndGlyphs\" textLength=\"69\" x=\"139.5\" y=\"57.1387\">«attribute»</text><text fill=\"#000000\" font-family=\"sans-serif\" font-size=\"12\" lengthAdjust=\"spacingAndGlyphs\" textLength=\"8\" x=\"170\" y=\"71.1074\">b</text><line style=\"stroke: #383838; stroke-width: 1.5;\" x1=\"139.5\" x2=\"208.5\" y1=\"78.9375\" y2=\"78.9375\"/></a><!--MD5=[1dd1bfd58a279cf63c5f349dbc8fc6a1]\n",
       "class E11--><a href=\"psysml:ce14b558-47dc-4a37-8f10-4afbd6cf7826\" target=\"_top\" title=\"psysml:ce14b558-47dc-4a37-8f10-4afbd6cf7826\" xlink:actuate=\"onRequest\" xlink:href=\"psysml:ce14b558-47dc-4a37-8f10-4afbd6cf7826\" xlink:show=\"new\" xlink:title=\"psysml:ce14b558-47dc-4a37-8f10-4afbd6cf7826\" xlink:type=\"simple\"><rect fill=\"#FFFFFF\" height=\"45.9375\" id=\"E11\" rx=\"10\" ry=\"10\" style=\"stroke: #383838; stroke-width: 1.5;\" width=\"71\" x=\"32.5\" y=\"41\"/><text fill=\"#000000\" font-family=\"sans-serif\" font-size=\"12\" font-style=\"italic\" lengthAdjust=\"spacingAndGlyphs\" textLength=\"69\" x=\"33.5\" y=\"57.1387\">«attribute»</text><text fill=\"#000000\" font-family=\"sans-serif\" font-size=\"12\" lengthAdjust=\"spacingAndGlyphs\" textLength=\"7\" x=\"64.5\" y=\"71.1074\">c</text><line style=\"stroke: #383838; stroke-width: 1.5;\" x1=\"33.5\" x2=\"102.5\" y1=\"78.9375\" y2=\"78.9375\"/></a><text fill=\"#000000\" font-family=\"sans-serif\" font-size=\"14\" lengthAdjust=\"spacingAndGlyphs\" textLength=\"9\" x=\"569.5\" y=\"42.6982\">p</text><rect fill=\"#383838\" height=\"12\" style=\"stroke: #F8F8F8; stroke-width: 1.5;\" width=\"12\" x=\"568\" y=\"58\"/><text fill=\"#000000\" font-family=\"sans-serif\" font-size=\"14\" lengthAdjust=\"spacingAndGlyphs\" textLength=\"9\" x=\"616.5\" y=\"42.6982\">q</text><rect fill=\"#383838\" height=\"12\" style=\"stroke: #F8F8F8; stroke-width: 1.5;\" width=\"12\" x=\"615\" y=\"58\"/><text fill=\"#000000\" font-family=\"sans-serif\" font-size=\"14\" lengthAdjust=\"spacingAndGlyphs\" textLength=\"39\" x=\"601.5\" y=\"193.7151\">result</text><rect fill=\"#383838\" height=\"12\" style=\"stroke: #F8F8F8; stroke-width: 1.5;\" width=\"12\" x=\"615\" y=\"168.72\"/><!--MD5=[05d275557350bfb9b23a4ef7222b4c39]\n",
       "link E3 to E2--><a href=\"psysml:f36357d4-9dbb-46b9-9535-0d41e0b85630\" target=\"_top\" title=\"psysml:f36357d4-9dbb-46b9-9535-0d41e0b85630\" xlink:actuate=\"onRequest\" xlink:href=\"psysml:f36357d4-9dbb-46b9-9535-0d41e0b85630\" xlink:show=\"new\" xlink:title=\"psysml:f36357d4-9dbb-46b9-9535-0d41e0b85630\" xlink:type=\"simple\"><path d=\"M486.75,87.31 C486.75,87.31 486.75,88.45 486.75,88.45 \" fill=\"none\" id=\"E3-&gt;E2\" style=\"stroke: #383838; stroke-width: 1.0;\"/><polygon fill=\"#FFFFFF\" points=\"486.75,98.7,479.75,79.7,493.75,79.7,486.75,98.7\" style=\"stroke: #383838; stroke-width: 1.0;\"/><ellipse cx=\"481.75\" cy=\"74\" fill=\"#383838\" rx=\"2\" ry=\"2\" style=\"stroke: #383838; stroke-width: 1.0;\"/><ellipse cx=\"491.75\" cy=\"74\" fill=\"#383838\" rx=\"2\" ry=\"2\" style=\"stroke: #383838; stroke-width: 1.0;\"/></a><!--MD5=[7ab4bac3f489098aa859c22b4951f692]\n",
       "@startuml\r\n",
       "skinparam ranksep 10\r\n",
       "skinparam rectangle {\r\n",
       " backgroundColor<<block>> LightGreen\r\n",
       "}\r\n",
       "skinparam linetype ortho\r\n",
       "skinparam monochrome true\r\n",
       "skinparam classbackgroundcolor white\r\n",
       "skinparam shadowing false\r\n",
       "skinparam wrapWidth 300\r\n",
       "hide circle\r\n",
       "\r\n",
       "package \"ParameterTest\" as E1  [[psysml:19b06251-fe6f-4e99-9afa-d6889eb7a18f ]]  {\r\n",
       "def \"A\" as E2  <<(T,blue) attribute  def>> [[psysml:a687f627-404e-4522-a6e9-e30e4b3087b4 ]] \r\n",
       "comp usage \"a: A \" as E3  <<(T,blue) attribute>> [[psysml:080a965c-bda9-42ef-b0e7-dadea2c4de7a ]] {\r\n",
       "}\r\n",
       "rec def \"F\" as E4  <<(T,blue) calculation  def>> [[psysml:87bb354b-94c0-403b-b7cb-102c1c7ef37a ]] {\r\n",
       "portin \"p\" as E5  [[psysml:16f7e9d3-43d0-4287-8a70-cbe1c91459d8 ]] \r\n",
       "portin \"q\" as E6  [[psysml:b2699d44-082f-48d9-8fe4-b2b87d72af88 ]] \r\n",
       "portout \"result\" as E7  [[psysml:efe4aa1f-bd0b-42c7-877f-48fcbd913317 ]] \r\n",
       "}\r\n",
       "\r\n",
       "comp usage \"f\" as E8  <<(T,blue) attribute>> [[psysml:a95297bf-d64f-43ac-86b7-f9f55eba203a ]] {\r\n",
       "}\r\n",
       "comp usage \"g\" as E9  <<(T,blue) attribute>> [[psysml:778a48ec-a539-4294-8634-0d41b068db9f ]] {\r\n",
       "}\r\n",
       "comp usage \"b\" as E10  <<(T,blue) attribute>> [[psysml:178fd1be-66b7-4b93-9f69-0783143b2542 ]] {\r\n",
       "}\r\n",
       "comp usage \"c\" as E11  <<(T,blue) attribute>> [[psysml:ce14b558-47dc-4a37-8f10-4afbd6cf7826 ]] {\r\n",
       "}\r\n",
       "}\r\n",
       "E3 - -:|> E2 [[psysml:f36357d4-9dbb-46b9-9535-0d41e0b85630 ]] \r\n",
       "@enduml\r\n",
       "\n",
       "PlantUML version 1.2020.13(Sat Jun 13 12:26:38 UTC 2020)\n",
       "(EPL source distribution)\n",
       "Java Runtime: OpenJDK Runtime Environment\n",
       "JVM: OpenJDK 64-Bit Server VM\n",
       "Default Encoding: UTF-8\n",
       "Language: en\n",
       "Country: null\n",
       "--></g></svg>"
      ]
     },
     "execution_count": 54,
     "metadata": {},
     "output_type": "execute_result"
    }
   ],
   "source": [
    "%viz --style=\"ORTHOLINE\" --view=\"Interconnection\" \"ParameterTest\""
   ]
  },
  {
   "cell_type": "code",
   "execution_count": 55,
   "id": "11bf415f",
   "metadata": {
    "execution": {
     "iopub.execute_input": "2021-11-13T12:59:18.424474Z",
     "iopub.status.busy": "2021-11-13T12:59:18.424066Z",
     "iopub.status.idle": "2021-11-13T12:59:18.445812Z",
     "shell.execute_reply": "2021-11-13T12:59:18.445426Z"
    }
   },
   "outputs": [
    {
     "data": {
      "image/svg+xml": [
       "<?xml version=\"1.0\" encoding=\"UTF-8\" standalone=\"no\"?><svg xmlns=\"http://www.w3.org/2000/svg\" xmlns:xlink=\"http://www.w3.org/1999/xlink\" contentScriptType=\"application/ecmascript\" contentStyleType=\"text/css\" height=\"162px\" preserveAspectRatio=\"none\" style=\"width:168px;height:162px;\" version=\"1.1\" viewBox=\"0 0 168 162\" width=\"168px\" zoomAndPan=\"magnify\"><defs/><g><!--MD5=[fbc87193dbaf4d95561dea2c320d4a47]\n",
       "cluster E1--><a href=\"psysml:87bb354b-94c0-403b-b7cb-102c1c7ef37a\" target=\"_top\" title=\"psysml:87bb354b-94c0-403b-b7cb-102c1c7ef37a\" xlink:actuate=\"onRequest\" xlink:href=\"psysml:87bb354b-94c0-403b-b7cb-102c1c7ef37a\" xlink:show=\"new\" xlink:title=\"psysml:87bb354b-94c0-403b-b7cb-102c1c7ef37a\" xlink:type=\"simple\"><rect fill=\"#FFFFFF\" height=\"87.72\" id=\"E1\" style=\"stroke: #383838; stroke-width: 1.5;\" width=\"150\" x=\"7\" y=\"42.0986\"/><rect fill=\"#F8F8F8\" height=\"37.9375\" style=\"stroke: #383838; stroke-width: 1.5;\" width=\"150\" x=\"7\" y=\"42.0986\"/><text fill=\"#000000\" font-family=\"sans-serif\" font-size=\"12\" font-style=\"italic\" lengthAdjust=\"spacingAndGlyphs\" textLength=\"110\" x=\"27\" y=\"58.2373\">«calculation  def»</text><text fill=\"#000000\" font-family=\"sans-serif\" font-size=\"12\" lengthAdjust=\"spacingAndGlyphs\" textLength=\"7\" x=\"78.5\" y=\"72.2061\">F</text></a><text fill=\"#000000\" font-family=\"sans-serif\" font-size=\"14\" lengthAdjust=\"spacingAndGlyphs\" textLength=\"9\" x=\"20.5\" y=\"20.7969\">p</text><rect fill=\"#383838\" height=\"12\" style=\"stroke: #F8F8F8; stroke-width: 1.5;\" width=\"12\" x=\"19\" y=\"36.0986\"/><text fill=\"#000000\" font-family=\"sans-serif\" font-size=\"14\" lengthAdjust=\"spacingAndGlyphs\" textLength=\"9\" x=\"67.5\" y=\"20.7969\">q</text><rect fill=\"#383838\" height=\"12\" style=\"stroke: #F8F8F8; stroke-width: 1.5;\" width=\"12\" x=\"66\" y=\"36.0986\"/><text fill=\"#000000\" font-family=\"sans-serif\" font-size=\"14\" lengthAdjust=\"spacingAndGlyphs\" textLength=\"39\" x=\"52.5\" y=\"148.8138\">result</text><rect fill=\"#383838\" height=\"12\" style=\"stroke: #F8F8F8; stroke-width: 1.5;\" width=\"12\" x=\"66\" y=\"123.8186\"/><!--MD5=[bb4dc71648b0b6527399e36122255fb4]\n",
       "@startuml\r\n",
       "skinparam ranksep 8\r\n",
       "skinparam linetype ortho\r\n",
       "skinparam monochrome true\r\n",
       "skinparam classbackgroundcolor white\r\n",
       "skinparam shadowing false\r\n",
       "skinparam wrapWidth 300\r\n",
       "hide circle\r\n",
       "\r\n",
       "rec def \"F\" as E1  <<(T,blue) calculation  def>> [[psysml:87bb354b-94c0-403b-b7cb-102c1c7ef37a ]] {\r\n",
       "portin \"p\" as E2  [[psysml:16f7e9d3-43d0-4287-8a70-cbe1c91459d8 ]] \r\n",
       "portin \"q\" as E3  [[psysml:b2699d44-082f-48d9-8fe4-b2b87d72af88 ]] \r\n",
       "portout \"result\" as E4  [[psysml:efe4aa1f-bd0b-42c7-877f-48fcbd913317 ]] \r\n",
       "}\r\n",
       "\r\n",
       "@enduml\r\n",
       "\n",
       "PlantUML version 1.2020.13(Sat Jun 13 12:26:38 UTC 2020)\n",
       "(EPL source distribution)\n",
       "Java Runtime: OpenJDK Runtime Environment\n",
       "JVM: OpenJDK 64-Bit Server VM\n",
       "Default Encoding: UTF-8\n",
       "Language: en\n",
       "Country: null\n",
       "--></g></svg>"
      ]
     },
     "execution_count": 55,
     "metadata": {},
     "output_type": "execute_result"
    }
   ],
   "source": [
    "%viz --style=\"ORTHOLINE\" --view=\"Action\" \"ParameterTest\""
   ]
  },
  {
   "cell_type": "code",
   "execution_count": 56,
   "id": "0e4762b1",
   "metadata": {
    "execution": {
     "iopub.execute_input": "2021-11-13T12:59:18.495160Z",
     "iopub.status.busy": "2021-11-13T12:59:18.494760Z",
     "iopub.status.idle": "2021-11-13T12:59:18.499978Z",
     "shell.execute_reply": "2021-11-13T12:59:18.499615Z"
    }
   },
   "outputs": [
    {
     "data": {
      "image/svg+xml": [
       "<?xml version=\"1.0\" encoding=\"UTF-8\" standalone=\"no\"?><svg xmlns=\"http://www.w3.org/2000/svg\" xmlns:xlink=\"http://www.w3.org/1999/xlink\" contentScriptType=\"application/ecmascript\" contentStyleType=\"text/css\" height=\"12px\" preserveAspectRatio=\"none\" style=\"width:12px;height:12px;\" version=\"1.1\" viewBox=\"0 0 12 12\" width=\"12px\" zoomAndPan=\"magnify\"><defs/><g><!--MD5=[30fc1de5121c5abddedd55b44417fde8]\n",
       "@startuml\r\n",
       "skinparam roundcorner 20\r\n",
       "skinparam BoxPadding 20\r\n",
       "skinparam SequenceBoxBackgroundColor #white\r\n",
       "skinparam style strictuml\r\n",
       "skinparam maxMessageSize 100\r\n",
       "skinparam linetype ortho\r\n",
       "skinparam monochrome true\r\n",
       "skinparam classbackgroundcolor white\r\n",
       "skinparam shadowing false\r\n",
       "skinparam wrapWidth 300\r\n",
       "hide circle\r\n",
       "\r\n",
       "@enduml\r\n",
       "\n",
       "PlantUML version 1.2020.13(Sat Jun 13 12:26:38 UTC 2020)\n",
       "(EPL source distribution)\n",
       "Java Runtime: OpenJDK Runtime Environment\n",
       "JVM: OpenJDK 64-Bit Server VM\n",
       "Default Encoding: UTF-8\n",
       "Language: en\n",
       "Country: null\n",
       "--></g></svg>"
      ]
     },
     "execution_count": 56,
     "metadata": {},
     "output_type": "execute_result"
    }
   ],
   "source": [
    "%viz --style=\"ORTHOLINE\" --view=\"Sequence\" \"ParameterTest\""
   ]
  },
  {
   "cell_type": "code",
   "execution_count": 57,
   "id": "76941759",
   "metadata": {
    "execution": {
     "iopub.execute_input": "2021-11-13T12:59:18.549419Z",
     "iopub.status.busy": "2021-11-13T12:59:18.548972Z",
     "iopub.status.idle": "2021-11-13T12:59:18.598624Z",
     "shell.execute_reply": "2021-11-13T12:59:18.596917Z"
    }
   },
   "outputs": [
    {
     "data": {
      "image/svg+xml": [
       "<?xml version=\"1.0\" encoding=\"UTF-8\" standalone=\"no\"?><svg xmlns=\"http://www.w3.org/2000/svg\" xmlns:xlink=\"http://www.w3.org/1999/xlink\" contentScriptType=\"application/ecmascript\" contentStyleType=\"text/css\" height=\"403px\" preserveAspectRatio=\"none\" style=\"width:744px;height:403px;\" version=\"1.1\" viewBox=\"0 0 744 403\" width=\"744px\" zoomAndPan=\"magnify\"><defs/><g><!--MD5=[fbc87193dbaf4d95561dea2c320d4a47]\n",
       "cluster E1--><a href=\"psysml:19b06251-fe6f-4e99-9afa-d6889eb7a18f\" target=\"_top\" title=\"psysml:19b06251-fe6f-4e99-9afa-d6889eb7a18f\" xlink:actuate=\"onRequest\" xlink:href=\"psysml:19b06251-fe6f-4e99-9afa-d6889eb7a18f\" xlink:show=\"new\" xlink:title=\"psysml:19b06251-fe6f-4e99-9afa-d6889eb7a18f\" xlink:type=\"simple\"><polygon fill=\"#FFFFFF\" points=\"16,6,124,6,131,28.2969,722,28.2969,722,391.72,16,391.72,16,6\" style=\"stroke: #000000; stroke-width: 1.5;\"/><line style=\"stroke: #000000; stroke-width: 1.5;\" x1=\"16\" x2=\"131\" y1=\"28.2969\" y2=\"28.2969\"/><text fill=\"#000000\" font-family=\"sans-serif\" font-size=\"14\" font-weight=\"bold\" lengthAdjust=\"spacingAndGlyphs\" textLength=\"102\" x=\"20\" y=\"20.9951\">ParameterTest</text></a><!--MD5=[f6df4d0ebaf0b5dfb2ced0ae5af7c670]\n",
       "cluster E4--><a href=\"psysml:87bb354b-94c0-403b-b7cb-102c1c7ef37a\" target=\"_top\" title=\"psysml:87bb354b-94c0-403b-b7cb-102c1c7ef37a\" xlink:actuate=\"onRequest\" xlink:href=\"psysml:87bb354b-94c0-403b-b7cb-102c1c7ef37a\" xlink:show=\"new\" xlink:title=\"psysml:87bb354b-94c0-403b-b7cb-102c1c7ef37a\" xlink:type=\"simple\"><rect fill=\"#FFFFFF\" height=\"297.72\" id=\"E4\" style=\"stroke: #383838; stroke-width: 1.5;\" width=\"150\" x=\"556\" y=\"64\"/><rect fill=\"#F8F8F8\" height=\"37.9375\" style=\"stroke: #383838; stroke-width: 1.5;\" width=\"150\" x=\"556\" y=\"64\"/><text fill=\"#000000\" font-family=\"sans-serif\" font-size=\"12\" font-style=\"italic\" lengthAdjust=\"spacingAndGlyphs\" textLength=\"110\" x=\"576\" y=\"80.1387\">«calculation  def»</text><text fill=\"#000000\" font-family=\"sans-serif\" font-size=\"12\" lengthAdjust=\"spacingAndGlyphs\" textLength=\"7\" x=\"627.5\" y=\"94.1074\">F</text></a><!--MD5=[b4997ac47864f28c2f74865a473b2911]\n",
       "class E2--><a href=\"psysml:a687f627-404e-4522-a6e9-e30e4b3087b4\" target=\"_top\" title=\"psysml:a687f627-404e-4522-a6e9-e30e4b3087b4\" xlink:actuate=\"onRequest\" xlink:href=\"psysml:a687f627-404e-4522-a6e9-e30e4b3087b4\" xlink:show=\"new\" xlink:title=\"psysml:a687f627-404e-4522-a6e9-e30e4b3087b4\" xlink:type=\"simple\"><rect fill=\"#FFFFFF\" height=\"88.3516\" id=\"E2\" style=\"stroke: #383838; stroke-width: 1.5;\" width=\"99\" x=\"418.5\" y=\"147\"/><text fill=\"#000000\" font-family=\"sans-serif\" font-size=\"12\" font-style=\"italic\" lengthAdjust=\"spacingAndGlyphs\" textLength=\"97\" x=\"419.5\" y=\"163.1387\">«attribute  def»</text><text fill=\"#000000\" font-family=\"sans-serif\" font-size=\"12\" lengthAdjust=\"spacingAndGlyphs\" textLength=\"8\" x=\"464\" y=\"177.1074\">A</text><line style=\"stroke: #383838; stroke-width: 1.5;\" x1=\"419.5\" x2=\"516.5\" y1=\"184.9375\" y2=\"184.9375\"/><text fill=\"#000000\" font-family=\"sans-serif\" font-size=\"11\" lengthAdjust=\"spacingAndGlyphs\" textLength=\"48\" x=\"424.5\" y=\"215.9526\">x: String</text><text fill=\"#000000\" font-family=\"sans-serif\" font-size=\"11\" lengthAdjust=\"spacingAndGlyphs\" textLength=\"21\" x=\"424.5\" y=\"228.7573\">y: A</text><line style=\"stroke: #383838; stroke-width: 1.0;\" x1=\"419.5\" x2=\"440.5\" y1=\"199.3398\" y2=\"199.3398\"/><text fill=\"#000000\" font-family=\"sans-serif\" font-size=\"11\" lengthAdjust=\"spacingAndGlyphs\" textLength=\"55\" x=\"440.5\" y=\"202.6479\">attributes</text><line style=\"stroke: #383838; stroke-width: 1.0;\" x1=\"495.5\" x2=\"516.5\" y1=\"199.3398\" y2=\"199.3398\"/></a><!--MD5=[09b614a08d8cba4a07c9adeb5e0fee81]\n",
       "class E3--><a href=\"psysml:080a965c-bda9-42ef-b0e7-dadea2c4de7a\" target=\"_top\" title=\"psysml:080a965c-bda9-42ef-b0e7-dadea2c4de7a\" xlink:actuate=\"onRequest\" xlink:href=\"psysml:080a965c-bda9-42ef-b0e7-dadea2c4de7a\" xlink:show=\"new\" xlink:title=\"psysml:080a965c-bda9-42ef-b0e7-dadea2c4de7a\" xlink:type=\"simple\"><rect fill=\"#FFFFFF\" height=\"45.9375\" id=\"E3\" rx=\"10\" ry=\"10\" style=\"stroke: #383838; stroke-width: 1.5;\" width=\"71\" x=\"456.5\" y=\"41\"/><text fill=\"#000000\" font-family=\"sans-serif\" font-size=\"12\" font-style=\"italic\" lengthAdjust=\"spacingAndGlyphs\" textLength=\"69\" x=\"457.5\" y=\"57.1387\">«attribute»</text><text fill=\"#000000\" font-family=\"sans-serif\" font-size=\"12\" lengthAdjust=\"spacingAndGlyphs\" textLength=\"24\" x=\"478\" y=\"71.1074\">a: A</text><line style=\"stroke: #383838; stroke-width: 1.5;\" x1=\"457.5\" x2=\"526.5\" y1=\"78.9375\" y2=\"78.9375\"/></a><!--MD5=[b9389687b975829384b498ac4b7476b2]\n",
       "class E8--><a href=\"psysml:a95297bf-d64f-43ac-86b7-f9f55eba203a\" target=\"_top\" title=\"psysml:a95297bf-d64f-43ac-86b7-f9f55eba203a\" xlink:actuate=\"onRequest\" xlink:href=\"psysml:a95297bf-d64f-43ac-86b7-f9f55eba203a\" xlink:show=\"new\" xlink:title=\"psysml:a95297bf-d64f-43ac-86b7-f9f55eba203a\" xlink:type=\"simple\"><rect fill=\"#FFFFFF\" height=\"45.9375\" id=\"E8\" rx=\"10\" ry=\"10\" style=\"stroke: #383838; stroke-width: 1.5;\" width=\"71\" x=\"350.5\" y=\"41\"/><text fill=\"#000000\" font-family=\"sans-serif\" font-size=\"12\" font-style=\"italic\" lengthAdjust=\"spacingAndGlyphs\" textLength=\"69\" x=\"351.5\" y=\"57.1387\">«attribute»</text><text fill=\"#000000\" font-family=\"sans-serif\" font-size=\"12\" lengthAdjust=\"spacingAndGlyphs\" textLength=\"4\" x=\"384\" y=\"71.1074\">f</text><line style=\"stroke: #383838; stroke-width: 1.5;\" x1=\"351.5\" x2=\"420.5\" y1=\"78.9375\" y2=\"78.9375\"/></a><!--MD5=[fd4143e9d270a159db93a4ea2a975926]\n",
       "class E9--><a href=\"psysml:778a48ec-a539-4294-8634-0d41b068db9f\" target=\"_top\" title=\"psysml:778a48ec-a539-4294-8634-0d41b068db9f\" xlink:actuate=\"onRequest\" xlink:href=\"psysml:778a48ec-a539-4294-8634-0d41b068db9f\" xlink:show=\"new\" xlink:title=\"psysml:778a48ec-a539-4294-8634-0d41b068db9f\" xlink:type=\"simple\"><rect fill=\"#FFFFFF\" height=\"45.9375\" id=\"E9\" rx=\"10\" ry=\"10\" style=\"stroke: #383838; stroke-width: 1.5;\" width=\"71\" x=\"244.5\" y=\"41\"/><text fill=\"#000000\" font-family=\"sans-serif\" font-size=\"12\" font-style=\"italic\" lengthAdjust=\"spacingAndGlyphs\" textLength=\"69\" x=\"245.5\" y=\"57.1387\">«attribute»</text><text fill=\"#000000\" font-family=\"sans-serif\" font-size=\"12\" lengthAdjust=\"spacingAndGlyphs\" textLength=\"8\" x=\"276\" y=\"71.1074\">g</text><line style=\"stroke: #383838; stroke-width: 1.5;\" x1=\"245.5\" x2=\"314.5\" y1=\"78.9375\" y2=\"78.9375\"/></a><!--MD5=[96f4274e9e20536e775497830990834d]\n",
       "class E10--><a href=\"psysml:178fd1be-66b7-4b93-9f69-0783143b2542\" target=\"_top\" title=\"psysml:178fd1be-66b7-4b93-9f69-0783143b2542\" xlink:actuate=\"onRequest\" xlink:href=\"psysml:178fd1be-66b7-4b93-9f69-0783143b2542\" xlink:show=\"new\" xlink:title=\"psysml:178fd1be-66b7-4b93-9f69-0783143b2542\" xlink:type=\"simple\"><rect fill=\"#FFFFFF\" height=\"45.9375\" id=\"E10\" rx=\"10\" ry=\"10\" style=\"stroke: #383838; stroke-width: 1.5;\" width=\"71\" x=\"138.5\" y=\"41\"/><text fill=\"#000000\" font-family=\"sans-serif\" font-size=\"12\" font-style=\"italic\" lengthAdjust=\"spacingAndGlyphs\" textLength=\"69\" x=\"139.5\" y=\"57.1387\">«attribute»</text><text fill=\"#000000\" font-family=\"sans-serif\" font-size=\"12\" lengthAdjust=\"spacingAndGlyphs\" textLength=\"8\" x=\"170\" y=\"71.1074\">b</text><line style=\"stroke: #383838; stroke-width: 1.5;\" x1=\"139.5\" x2=\"208.5\" y1=\"78.9375\" y2=\"78.9375\"/></a><!--MD5=[1dd1bfd58a279cf63c5f349dbc8fc6a1]\n",
       "class E11--><a href=\"psysml:ce14b558-47dc-4a37-8f10-4afbd6cf7826\" target=\"_top\" title=\"psysml:ce14b558-47dc-4a37-8f10-4afbd6cf7826\" xlink:actuate=\"onRequest\" xlink:href=\"psysml:ce14b558-47dc-4a37-8f10-4afbd6cf7826\" xlink:show=\"new\" xlink:title=\"psysml:ce14b558-47dc-4a37-8f10-4afbd6cf7826\" xlink:type=\"simple\"><rect fill=\"#FFFFFF\" height=\"45.9375\" id=\"E11\" rx=\"10\" ry=\"10\" style=\"stroke: #383838; stroke-width: 1.5;\" width=\"71\" x=\"32.5\" y=\"41\"/><text fill=\"#000000\" font-family=\"sans-serif\" font-size=\"12\" font-style=\"italic\" lengthAdjust=\"spacingAndGlyphs\" textLength=\"69\" x=\"33.5\" y=\"57.1387\">«attribute»</text><text fill=\"#000000\" font-family=\"sans-serif\" font-size=\"12\" lengthAdjust=\"spacingAndGlyphs\" textLength=\"7\" x=\"64.5\" y=\"71.1074\">c</text><line style=\"stroke: #383838; stroke-width: 1.5;\" x1=\"33.5\" x2=\"102.5\" y1=\"78.9375\" y2=\"78.9375\"/></a><text fill=\"#000000\" font-family=\"sans-serif\" font-size=\"14\" lengthAdjust=\"spacingAndGlyphs\" textLength=\"9\" x=\"569.5\" y=\"42.6982\">p</text><rect fill=\"#383838\" height=\"12\" style=\"stroke: #F8F8F8; stroke-width: 1.5;\" width=\"12\" x=\"568\" y=\"58\"/><text fill=\"#000000\" font-family=\"sans-serif\" font-size=\"14\" lengthAdjust=\"spacingAndGlyphs\" textLength=\"9\" x=\"616.5\" y=\"42.6982\">q</text><rect fill=\"#383838\" height=\"12\" style=\"stroke: #F8F8F8; stroke-width: 1.5;\" width=\"12\" x=\"615\" y=\"58\"/><text fill=\"#000000\" font-family=\"sans-serif\" font-size=\"14\" lengthAdjust=\"spacingAndGlyphs\" textLength=\"39\" x=\"601.5\" y=\"380.7151\">result</text><rect fill=\"#383838\" height=\"12\" style=\"stroke: #F8F8F8; stroke-width: 1.5;\" width=\"12\" x=\"615\" y=\"355.72\"/><!--MD5=[05d275557350bfb9b23a4ef7222b4c39]\n",
       "link E3 to E2--><a href=\"psysml:f36357d4-9dbb-46b9-9535-0d41e0b85630\" target=\"_top\" title=\"psysml:f36357d4-9dbb-46b9-9535-0d41e0b85630\" xlink:actuate=\"onRequest\" xlink:href=\"psysml:f36357d4-9dbb-46b9-9535-0d41e0b85630\" xlink:show=\"new\" xlink:title=\"psysml:f36357d4-9dbb-46b9-9535-0d41e0b85630\" xlink:type=\"simple\"><path d=\"M487,87.29 C487,87.29 487,126.78 487,126.78 \" fill=\"none\" id=\"E3-&gt;E2\" style=\"stroke: #383838; stroke-width: 1.0;\"/><polygon fill=\"#FFFFFF\" points=\"487,146.78,480,127.78,494,127.78,487,146.78\" style=\"stroke: #383838; stroke-width: 1.0;\"/><ellipse cx=\"482\" cy=\"122.08\" fill=\"#383838\" rx=\"2\" ry=\"2\" style=\"stroke: #383838; stroke-width: 1.0;\"/><ellipse cx=\"492\" cy=\"122.08\" fill=\"#383838\" rx=\"2\" ry=\"2\" style=\"stroke: #383838; stroke-width: 1.0;\"/></a><!--MD5=[79974253856e361a905dc533b732d93a]\n",
       "@startuml\r\n",
       "skinparam linetype ortho\r\n",
       "skinparam monochrome true\r\n",
       "skinparam classbackgroundcolor white\r\n",
       "skinparam shadowing false\r\n",
       "skinparam wrapWidth 300\r\n",
       "hide circle\r\n",
       "\r\n",
       "package \"ParameterTest\" as E1  [[psysml:19b06251-fe6f-4e99-9afa-d6889eb7a18f ]]  {\r\n",
       "comp def \"A\" as E2  <<(T,blue) attribute  def>> [[psysml:a687f627-404e-4522-a6e9-e30e4b3087b4 ]] {\r\n",
       "- - attributes - -\r\n",
       "x: String\r\n",
       "y: A\r\n",
       "}\r\n",
       "comp usage \"a: A \" as E3  <<(T,blue) attribute>> [[psysml:080a965c-bda9-42ef-b0e7-dadea2c4de7a ]] {\r\n",
       "}\r\n",
       "rec def \"F\" as E4  <<(T,blue) calculation  def>> [[psysml:87bb354b-94c0-403b-b7cb-102c1c7ef37a ]] {\r\n",
       "portin \"p\" as E5  [[psysml:16f7e9d3-43d0-4287-8a70-cbe1c91459d8 ]] \r\n",
       "portin \"q\" as E6  [[psysml:b2699d44-082f-48d9-8fe4-b2b87d72af88 ]] \r\n",
       "portout \"result\" as E7  [[psysml:efe4aa1f-bd0b-42c7-877f-48fcbd913317 ]] \r\n",
       "}\r\n",
       "\r\n",
       "comp usage \"f\" as E8  <<(T,blue) attribute>> [[psysml:a95297bf-d64f-43ac-86b7-f9f55eba203a ]] {\r\n",
       "}\r\n",
       "comp usage \"g\" as E9  <<(T,blue) attribute>> [[psysml:778a48ec-a539-4294-8634-0d41b068db9f ]] {\r\n",
       "}\r\n",
       "comp usage \"b\" as E10  <<(T,blue) attribute>> [[psysml:178fd1be-66b7-4b93-9f69-0783143b2542 ]] {\r\n",
       "}\r\n",
       "comp usage \"c\" as E11  <<(T,blue) attribute>> [[psysml:ce14b558-47dc-4a37-8f10-4afbd6cf7826 ]] {\r\n",
       "}\r\n",
       "}\r\n",
       "E3 - -:|> E2 [[psysml:f36357d4-9dbb-46b9-9535-0d41e0b85630 ]] \r\n",
       "@enduml\r\n",
       "\n",
       "PlantUML version 1.2020.13(Sat Jun 13 12:26:38 UTC 2020)\n",
       "(EPL source distribution)\n",
       "Java Runtime: OpenJDK Runtime Environment\n",
       "JVM: OpenJDK 64-Bit Server VM\n",
       "Default Encoding: UTF-8\n",
       "Language: en\n",
       "Country: null\n",
       "--></g></svg>"
      ]
     },
     "execution_count": 57,
     "metadata": {},
     "output_type": "execute_result"
    }
   ],
   "source": [
    "%viz --style=\"ORTHOLINE\" --view=\"MIXED\" \"ParameterTest\""
   ]
  }
 ],
 "metadata": {
  "kernelspec": {
   "display_name": "SysML",
   "language": "sysml",
   "name": "sysml"
  },
  "language_info": {
   "codemirror_mode": "sysml",
   "file_extension": ".sysml",
   "mimetype": "text/x-sysml",
   "name": "SysML",
   "pygments_lexer": "java",
   "version": "1.0.0"
  }
 },
 "nbformat": 4,
 "nbformat_minor": 5
}
