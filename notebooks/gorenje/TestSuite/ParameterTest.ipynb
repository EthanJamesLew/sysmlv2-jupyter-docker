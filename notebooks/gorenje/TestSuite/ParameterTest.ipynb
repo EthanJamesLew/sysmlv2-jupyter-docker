{
 "cells": [
  {
   "cell_type": "markdown",
   "id": "b0cba5d2",
   "metadata": {},
   "source": [
    "# SysML v2 Test Suite\n",
    "\n",
    "This can notebook can be cleared using menu `Edit --> Clear All Outputs` and then all cells can be\n",
    "run using menu `Run --> Run All Cells`.\n",
    "\n",
    "**WARNING**: This file is generated, all modifications here will be ignored.\n"
   ]
  },
  {
   "cell_type": "markdown",
   "id": "e5554393",
   "metadata": {},
   "source": [
    "## File: ../../sysml/src/examples/Simple Tests/ParameterTest.sysml"
   ]
  },
  {
   "cell_type": "code",
   "execution_count": 1,
   "id": "d150bdb9",
   "metadata": {
    "execution": {
     "iopub.execute_input": "2021-10-03T08:28:23.001622Z",
     "iopub.status.busy": "2021-10-03T08:28:23.000546Z",
     "iopub.status.idle": "2021-10-03T08:28:23.285421Z",
     "shell.execute_reply": "2021-10-03T08:28:23.285606Z"
    }
   },
   "outputs": [
    {
     "data": {
      "text/plain": [
       "Package ParameterTest (40990780-20c9-4d05-aa2a-5d2faf329ed3)\n"
      ]
     },
     "execution_count": 1,
     "metadata": {},
     "output_type": "execute_result"
    }
   ],
   "source": [
    "package ParameterTest {\n",
    "\tattribute def A {\n",
    "\t\tattribute x : ScalarValues::String;\n",
    "\t\tattribute y : A;\n",
    "\t}\n",
    "\t\n",
    "\tattribute a : A;\n",
    "\t\n",
    "\tcalc def F (p : A, q : ScalarValues::Integer): ScalarValues::Integer;\n",
    "\t\n",
    "\tattribute f = F(a, 2);\n",
    "\tattribute g = F(q = 1, p = a);\n",
    "\t\n",
    "\tattribute b = A(y=a, x=\"\"); \n",
    "\tattribute c = A(\"test2\");\n",
    "}"
   ]
  },
  {
   "cell_type": "code",
   "execution_count": 2,
   "id": "013bbbfc",
   "metadata": {
    "execution": {
     "iopub.execute_input": "2021-10-03T08:28:23.336335Z",
     "iopub.status.busy": "2021-10-03T08:28:23.336107Z",
     "iopub.status.idle": "2021-10-03T08:28:23.811679Z",
     "shell.execute_reply": "2021-10-03T08:28:23.809652Z"
    }
   },
   "outputs": [
    {
     "data": {
      "image/svg+xml": [
       "<?xml version=\"1.0\" encoding=\"UTF-8\" standalone=\"no\"?><svg xmlns=\"http://www.w3.org/2000/svg\" xmlns:xlink=\"http://www.w3.org/1999/xlink\" contentScriptType=\"application/ecmascript\" contentStyleType=\"text/css\" height=\"403px\" preserveAspectRatio=\"none\" style=\"width:740px;height:403px;\" version=\"1.1\" viewBox=\"0 0 740 403\" width=\"740px\" zoomAndPan=\"magnify\"><defs/><g><!--MD5=[fbc87193dbaf4d95561dea2c320d4a47]\n",
       "cluster E1--><a href=\"psysml:a676bd1d-a902-490f-aa39-52389ae12c12\" target=\"_top\" title=\"psysml:a676bd1d-a902-490f-aa39-52389ae12c12\" xlink:actuate=\"onRequest\" xlink:href=\"psysml:a676bd1d-a902-490f-aa39-52389ae12c12\" xlink:show=\"new\" xlink:title=\"psysml:a676bd1d-a902-490f-aa39-52389ae12c12\" xlink:type=\"simple\"><polygon fill=\"#FFFFFF\" points=\"16,6,124,6,131,28.2969,718,28.2969,718,391.72,16,391.72,16,6\" style=\"stroke: #000000; stroke-width: 1.5;\"/><line style=\"stroke: #000000; stroke-width: 1.5;\" x1=\"16\" x2=\"131\" y1=\"28.2969\" y2=\"28.2969\"/><text fill=\"#000000\" font-family=\"sans-serif\" font-size=\"14\" font-weight=\"bold\" lengthAdjust=\"spacingAndGlyphs\" textLength=\"102\" x=\"20\" y=\"20.9951\">ParameterTest</text></a><!--MD5=[f6df4d0ebaf0b5dfb2ced0ae5af7c670]\n",
       "cluster E4--><a href=\"psysml:40a467ef-e18b-46ff-840a-6dc079db3448\" target=\"_top\" title=\"psysml:40a467ef-e18b-46ff-840a-6dc079db3448\" xlink:actuate=\"onRequest\" xlink:href=\"psysml:40a467ef-e18b-46ff-840a-6dc079db3448\" xlink:show=\"new\" xlink:title=\"psysml:40a467ef-e18b-46ff-840a-6dc079db3448\" xlink:type=\"simple\"><rect fill=\"#FFFFFF\" height=\"297.72\" id=\"E4\" style=\"stroke: #383838; stroke-width: 1.5;\" width=\"148\" x=\"554\" y=\"64\"/><rect fill=\"#F8F8F8\" height=\"37.9375\" style=\"stroke: #383838; stroke-width: 1.5;\" width=\"148\" x=\"554\" y=\"64\"/><text fill=\"#000000\" font-family=\"sans-serif\" font-size=\"12\" font-style=\"italic\" lengthAdjust=\"spacingAndGlyphs\" textLength=\"106\" x=\"575\" y=\"80.1387\">«calculation def»</text><text fill=\"#000000\" font-family=\"sans-serif\" font-size=\"12\" lengthAdjust=\"spacingAndGlyphs\" textLength=\"7\" x=\"624.5\" y=\"94.1074\">F</text></a><!--MD5=[b4997ac47864f28c2f74865a473b2911]\n",
       "class E2--><a href=\"psysml:da28d9c5-e66b-4d93-bbca-9dea65a864c0\" target=\"_top\" title=\"psysml:da28d9c5-e66b-4d93-bbca-9dea65a864c0\" xlink:actuate=\"onRequest\" xlink:href=\"psysml:da28d9c5-e66b-4d93-bbca-9dea65a864c0\" xlink:show=\"new\" xlink:title=\"psysml:da28d9c5-e66b-4d93-bbca-9dea65a864c0\" xlink:type=\"simple\"><rect fill=\"#FFFFFF\" height=\"88.3516\" id=\"E2\" style=\"stroke: #383838; stroke-width: 1.5;\" width=\"95\" x=\"422.5\" y=\"147\"/><text fill=\"#000000\" font-family=\"sans-serif\" font-size=\"12\" font-style=\"italic\" lengthAdjust=\"spacingAndGlyphs\" textLength=\"93\" x=\"423.5\" y=\"163.1387\">«attribute def»</text><text fill=\"#000000\" font-family=\"sans-serif\" font-size=\"12\" lengthAdjust=\"spacingAndGlyphs\" textLength=\"8\" x=\"466\" y=\"177.1074\">A</text><line style=\"stroke: #383838; stroke-width: 1.5;\" x1=\"423.5\" x2=\"516.5\" y1=\"184.9375\" y2=\"184.9375\"/><text fill=\"#000000\" font-family=\"sans-serif\" font-size=\"11\" lengthAdjust=\"spacingAndGlyphs\" textLength=\"48\" x=\"428.5\" y=\"215.9526\">x: String</text><text fill=\"#000000\" font-family=\"sans-serif\" font-size=\"11\" lengthAdjust=\"spacingAndGlyphs\" textLength=\"21\" x=\"428.5\" y=\"228.7573\">y: A</text><line style=\"stroke: #383838; stroke-width: 1.0;\" x1=\"423.5\" x2=\"442.5\" y1=\"199.3398\" y2=\"199.3398\"/><text fill=\"#000000\" font-family=\"sans-serif\" font-size=\"11\" lengthAdjust=\"spacingAndGlyphs\" textLength=\"55\" x=\"442.5\" y=\"202.6479\">attributes</text><line style=\"stroke: #383838; stroke-width: 1.0;\" x1=\"497.5\" x2=\"516.5\" y1=\"199.3398\" y2=\"199.3398\"/></a><!--MD5=[09b614a08d8cba4a07c9adeb5e0fee81]\n",
       "class E3--><a href=\"psysml:8df57e9c-49a1-414c-8fdd-827b36a310a4\" target=\"_top\" title=\"psysml:8df57e9c-49a1-414c-8fdd-827b36a310a4\" xlink:actuate=\"onRequest\" xlink:href=\"psysml:8df57e9c-49a1-414c-8fdd-827b36a310a4\" xlink:show=\"new\" xlink:title=\"psysml:8df57e9c-49a1-414c-8fdd-827b36a310a4\" xlink:type=\"simple\"><rect fill=\"#FFFFFF\" height=\"45.9375\" id=\"E3\" rx=\"10\" ry=\"10\" style=\"stroke: #383838; stroke-width: 1.5;\" width=\"71\" x=\"456.5\" y=\"41\"/><text fill=\"#000000\" font-family=\"sans-serif\" font-size=\"12\" font-style=\"italic\" lengthAdjust=\"spacingAndGlyphs\" textLength=\"69\" x=\"457.5\" y=\"57.1387\">«attribute»</text><text fill=\"#000000\" font-family=\"sans-serif\" font-size=\"12\" lengthAdjust=\"spacingAndGlyphs\" textLength=\"24\" x=\"480\" y=\"71.1074\">a: A</text><line style=\"stroke: #383838; stroke-width: 1.5;\" x1=\"457.5\" x2=\"526.5\" y1=\"78.9375\" y2=\"78.9375\"/></a><!--MD5=[b9389687b975829384b498ac4b7476b2]\n",
       "class E8--><a href=\"psysml:2237367a-6968-472a-8f6b-3570950aa6b8\" target=\"_top\" title=\"psysml:2237367a-6968-472a-8f6b-3570950aa6b8\" xlink:actuate=\"onRequest\" xlink:href=\"psysml:2237367a-6968-472a-8f6b-3570950aa6b8\" xlink:show=\"new\" xlink:title=\"psysml:2237367a-6968-472a-8f6b-3570950aa6b8\" xlink:type=\"simple\"><rect fill=\"#FFFFFF\" height=\"45.9375\" id=\"E8\" rx=\"10\" ry=\"10\" style=\"stroke: #383838; stroke-width: 1.5;\" width=\"71\" x=\"350.5\" y=\"41\"/><text fill=\"#000000\" font-family=\"sans-serif\" font-size=\"12\" font-style=\"italic\" lengthAdjust=\"spacingAndGlyphs\" textLength=\"69\" x=\"351.5\" y=\"57.1387\">«attribute»</text><text fill=\"#000000\" font-family=\"sans-serif\" font-size=\"12\" lengthAdjust=\"spacingAndGlyphs\" textLength=\"4\" x=\"384\" y=\"71.1074\">f</text><line style=\"stroke: #383838; stroke-width: 1.5;\" x1=\"351.5\" x2=\"420.5\" y1=\"78.9375\" y2=\"78.9375\"/></a><!--MD5=[fd4143e9d270a159db93a4ea2a975926]\n",
       "class E9--><a href=\"psysml:b8cf583e-a2e4-421e-986b-a2654bc5da1a\" target=\"_top\" title=\"psysml:b8cf583e-a2e4-421e-986b-a2654bc5da1a\" xlink:actuate=\"onRequest\" xlink:href=\"psysml:b8cf583e-a2e4-421e-986b-a2654bc5da1a\" xlink:show=\"new\" xlink:title=\"psysml:b8cf583e-a2e4-421e-986b-a2654bc5da1a\" xlink:type=\"simple\"><rect fill=\"#FFFFFF\" height=\"45.9375\" id=\"E9\" rx=\"10\" ry=\"10\" style=\"stroke: #383838; stroke-width: 1.5;\" width=\"71\" x=\"244.5\" y=\"41\"/><text fill=\"#000000\" font-family=\"sans-serif\" font-size=\"12\" font-style=\"italic\" lengthAdjust=\"spacingAndGlyphs\" textLength=\"69\" x=\"245.5\" y=\"57.1387\">«attribute»</text><text fill=\"#000000\" font-family=\"sans-serif\" font-size=\"12\" lengthAdjust=\"spacingAndGlyphs\" textLength=\"8\" x=\"276\" y=\"71.1074\">g</text><line style=\"stroke: #383838; stroke-width: 1.5;\" x1=\"245.5\" x2=\"314.5\" y1=\"78.9375\" y2=\"78.9375\"/></a><!--MD5=[96f4274e9e20536e775497830990834d]\n",
       "class E10--><a href=\"psysml:0aa11811-cac3-458e-8be5-17e4f08795b7\" target=\"_top\" title=\"psysml:0aa11811-cac3-458e-8be5-17e4f08795b7\" xlink:actuate=\"onRequest\" xlink:href=\"psysml:0aa11811-cac3-458e-8be5-17e4f08795b7\" xlink:show=\"new\" xlink:title=\"psysml:0aa11811-cac3-458e-8be5-17e4f08795b7\" xlink:type=\"simple\"><rect fill=\"#FFFFFF\" height=\"45.9375\" id=\"E10\" rx=\"10\" ry=\"10\" style=\"stroke: #383838; stroke-width: 1.5;\" width=\"71\" x=\"138.5\" y=\"41\"/><text fill=\"#000000\" font-family=\"sans-serif\" font-size=\"12\" font-style=\"italic\" lengthAdjust=\"spacingAndGlyphs\" textLength=\"69\" x=\"139.5\" y=\"57.1387\">«attribute»</text><text fill=\"#000000\" font-family=\"sans-serif\" font-size=\"12\" lengthAdjust=\"spacingAndGlyphs\" textLength=\"8\" x=\"170\" y=\"71.1074\">b</text><line style=\"stroke: #383838; stroke-width: 1.5;\" x1=\"139.5\" x2=\"208.5\" y1=\"78.9375\" y2=\"78.9375\"/></a><!--MD5=[1dd1bfd58a279cf63c5f349dbc8fc6a1]\n",
       "class E11--><a href=\"psysml:4713065a-36eb-4143-8ed6-c41cfc39d881\" target=\"_top\" title=\"psysml:4713065a-36eb-4143-8ed6-c41cfc39d881\" xlink:actuate=\"onRequest\" xlink:href=\"psysml:4713065a-36eb-4143-8ed6-c41cfc39d881\" xlink:show=\"new\" xlink:title=\"psysml:4713065a-36eb-4143-8ed6-c41cfc39d881\" xlink:type=\"simple\"><rect fill=\"#FFFFFF\" height=\"45.9375\" id=\"E11\" rx=\"10\" ry=\"10\" style=\"stroke: #383838; stroke-width: 1.5;\" width=\"71\" x=\"32.5\" y=\"41\"/><text fill=\"#000000\" font-family=\"sans-serif\" font-size=\"12\" font-style=\"italic\" lengthAdjust=\"spacingAndGlyphs\" textLength=\"69\" x=\"33.5\" y=\"57.1387\">«attribute»</text><text fill=\"#000000\" font-family=\"sans-serif\" font-size=\"12\" lengthAdjust=\"spacingAndGlyphs\" textLength=\"7\" x=\"64.5\" y=\"71.1074\">c</text><line style=\"stroke: #383838; stroke-width: 1.5;\" x1=\"33.5\" x2=\"102.5\" y1=\"78.9375\" y2=\"78.9375\"/></a><text fill=\"#000000\" font-family=\"sans-serif\" font-size=\"14\" lengthAdjust=\"spacingAndGlyphs\" textLength=\"9\" x=\"567.5\" y=\"42.6982\">p</text><rect fill=\"#383838\" height=\"12\" style=\"stroke: #F8F8F8; stroke-width: 1.5;\" width=\"12\" x=\"566\" y=\"58\"/><text fill=\"#000000\" font-family=\"sans-serif\" font-size=\"14\" lengthAdjust=\"spacingAndGlyphs\" textLength=\"9\" x=\"614.5\" y=\"42.6982\">q</text><rect fill=\"#383838\" height=\"12\" style=\"stroke: #F8F8F8; stroke-width: 1.5;\" width=\"12\" x=\"613\" y=\"58\"/><text fill=\"#000000\" font-family=\"sans-serif\" font-size=\"14\" lengthAdjust=\"spacingAndGlyphs\" textLength=\"39\" x=\"599.5\" y=\"380.7151\">result</text><rect fill=\"#383838\" height=\"12\" style=\"stroke: #F8F8F8; stroke-width: 1.5;\" width=\"12\" x=\"613\" y=\"355.72\"/><!--MD5=[05d275557350bfb9b23a4ef7222b4c39]\n",
       "link E3 to E2--><a href=\"psysml:0b532ab9-83c4-4e75-92c6-eb24823a8b5d\" target=\"_top\" title=\"psysml:0b532ab9-83c4-4e75-92c6-eb24823a8b5d\" xlink:actuate=\"onRequest\" xlink:href=\"psysml:0b532ab9-83c4-4e75-92c6-eb24823a8b5d\" xlink:show=\"new\" xlink:title=\"psysml:0b532ab9-83c4-4e75-92c6-eb24823a8b5d\" xlink:type=\"simple\"><path d=\"M488.12,87.06 C486.14,98.3 483.62,112.6 481.1,126.95 \" fill=\"none\" id=\"E3-&gt;E2\" style=\"stroke: #383838; stroke-width: 1.0;\"/><polygon fill=\"#FFFFFF\" points=\"477.58,146.93,473.9835,127.0035,487.7711,129.4331,477.58,146.93\" style=\"stroke: #383838; stroke-width: 1.0;\"/><ellipse cx=\"476.9423\" cy=\"121.7371\" fill=\"#383838\" rx=\"2\" ry=\"2\" style=\"stroke: #383838; stroke-width: 1.0;\"/><ellipse cx=\"486.7906\" cy=\"123.4725\" fill=\"#383838\" rx=\"2\" ry=\"2\" style=\"stroke: #383838; stroke-width: 1.0;\"/></a><!--MD5=[86ffe2bf33051f174f5d4ca79a2a065d]\n",
       "@startuml\r\n",
       " skinparam monochrome true\r\n",
       "skinparam classbackgroundcolor white\r\n",
       "skinparam shadowing false\r\n",
       "skinparam wrapWidth 300\r\n",
       "hide circle\r\n",
       "\r\n",
       "package \"ParameterTest\" as E1  [[psysml:a676bd1d-a902-490f-aa39-52389ae12c12 ]]  {\r\n",
       "comp def \"A\" as E2  <<(T,blue) attribute def>> [[psysml:da28d9c5-e66b-4d93-bbca-9dea65a864c0 ]] {\r\n",
       "- - attributes - -\r\n",
       "x: String\r\n",
       "y: A\r\n",
       "}\r\n",
       "comp usage \"a: A\" as E3  <<(T,blue) attribute>> [[psysml:8df57e9c-49a1-414c-8fdd-827b36a310a4 ]] {\r\n",
       "}\r\n",
       "rec def \"F\" as E4  <<(T,blue) calculation def>> [[psysml:40a467ef-e18b-46ff-840a-6dc079db3448 ]] {\r\n",
       "portin \"p\" as E5  [[psysml:5802290c-01bb-4d71-b710-026b61c78f11 ]] \r\n",
       "portin \"q\" as E6  [[psysml:197907df-8789-46a9-bbed-d5f940e1c2ab ]] \r\n",
       "portout \"result\" as E7  [[psysml:e7c52caa-c6a6-4daa-b328-953e2590a8bc ]] \r\n",
       "}\r\n",
       "\r\n",
       "comp usage \"f\" as E8  <<(T,blue) attribute>> [[psysml:2237367a-6968-472a-8f6b-3570950aa6b8 ]] {\r\n",
       "}\r\n",
       "comp usage \"g\" as E9  <<(T,blue) attribute>> [[psysml:b8cf583e-a2e4-421e-986b-a2654bc5da1a ]] {\r\n",
       "}\r\n",
       "comp usage \"b\" as E10  <<(T,blue) attribute>> [[psysml:0aa11811-cac3-458e-8be5-17e4f08795b7 ]] {\r\n",
       "}\r\n",
       "comp usage \"c\" as E11  <<(T,blue) attribute>> [[psysml:4713065a-36eb-4143-8ed6-c41cfc39d881 ]] {\r\n",
       "}\r\n",
       "}\r\n",
       "E3 - -:|> E2 [[psysml:0b532ab9-83c4-4e75-92c6-eb24823a8b5d ]] \r\n",
       "@enduml\r\n",
       "\n",
       "PlantUML version 1.2020.13(Sat Jun 13 12:26:38 UTC 2020)\n",
       "(EPL source distribution)\n",
       "Java Runtime: OpenJDK Runtime Environment\n",
       "JVM: OpenJDK 64-Bit Server VM\n",
       "Default Encoding: UTF-8\n",
       "Language: en\n",
       "Country: null\n",
       "--></g></svg>"
      ]
     },
     "execution_count": 2,
     "metadata": {},
     "output_type": "execute_result"
    }
   ],
   "source": [
    "%viz --style=\"COMPTREE\" --view=\"Default\" \"ParameterTest\""
   ]
  },
  {
   "cell_type": "code",
   "execution_count": 3,
   "id": "d1fd1775",
   "metadata": {
    "execution": {
     "iopub.execute_input": "2021-10-03T08:28:23.860739Z",
     "iopub.status.busy": "2021-10-03T08:28:23.860298Z",
     "iopub.status.idle": "2021-10-03T08:28:23.931509Z",
     "shell.execute_reply": "2021-10-03T08:28:23.931129Z"
    }
   },
   "outputs": [
    {
     "data": {
      "image/svg+xml": [
       "<?xml version=\"1.0\" encoding=\"UTF-8\" standalone=\"no\"?><svg xmlns=\"http://www.w3.org/2000/svg\" xmlns:xlink=\"http://www.w3.org/1999/xlink\" contentScriptType=\"application/ecmascript\" contentStyleType=\"text/css\" height=\"280px\" preserveAspectRatio=\"none\" style=\"width:710px;height:280px;\" version=\"1.1\" viewBox=\"0 0 710 280\" width=\"710px\" zoomAndPan=\"magnify\"><defs/><g><!--MD5=[fbc87193dbaf4d95561dea2c320d4a47]\n",
       "cluster E1--><a href=\"psysml:a676bd1d-a902-490f-aa39-52389ae12c12\" target=\"_top\" title=\"psysml:a676bd1d-a902-490f-aa39-52389ae12c12\" xlink:actuate=\"onRequest\" xlink:href=\"psysml:a676bd1d-a902-490f-aa39-52389ae12c12\" xlink:show=\"new\" xlink:title=\"psysml:a676bd1d-a902-490f-aa39-52389ae12c12\" xlink:type=\"simple\"><polygon fill=\"#FFFFFF\" points=\"16,6,124,6,131,28.2969,688,28.2969,688,268,16,268,16,6\" style=\"stroke: #000000; stroke-width: 1.5;\"/><line style=\"stroke: #000000; stroke-width: 1.5;\" x1=\"16\" x2=\"131\" y1=\"28.2969\" y2=\"28.2969\"/><text fill=\"#000000\" font-family=\"sans-serif\" font-size=\"14\" font-weight=\"bold\" lengthAdjust=\"spacingAndGlyphs\" textLength=\"102\" x=\"20\" y=\"20.9951\">ParameterTest</text></a><!--MD5=[b4997ac47864f28c2f74865a473b2911]\n",
       "class E2--><a href=\"psysml:da28d9c5-e66b-4d93-bbca-9dea65a864c0\" target=\"_top\" title=\"psysml:da28d9c5-e66b-4d93-bbca-9dea65a864c0\" xlink:actuate=\"onRequest\" xlink:href=\"psysml:da28d9c5-e66b-4d93-bbca-9dea65a864c0\" xlink:show=\"new\" xlink:title=\"psysml:da28d9c5-e66b-4d93-bbca-9dea65a864c0\" xlink:type=\"simple\"><rect fill=\"#FFFFFF\" height=\"88.3516\" id=\"E2\" style=\"stroke: #383838; stroke-width: 1.5;\" width=\"95\" x=\"498.5\" y=\"164\"/><text fill=\"#000000\" font-family=\"sans-serif\" font-size=\"12\" font-style=\"italic\" lengthAdjust=\"spacingAndGlyphs\" textLength=\"93\" x=\"499.5\" y=\"180.1387\">«attribute def»</text><text fill=\"#000000\" font-family=\"sans-serif\" font-size=\"12\" lengthAdjust=\"spacingAndGlyphs\" textLength=\"8\" x=\"542\" y=\"194.1074\">A</text><line style=\"stroke: #383838; stroke-width: 1.5;\" x1=\"499.5\" x2=\"592.5\" y1=\"201.9375\" y2=\"201.9375\"/><text fill=\"#000000\" font-family=\"sans-serif\" font-size=\"11\" lengthAdjust=\"spacingAndGlyphs\" textLength=\"48\" x=\"504.5\" y=\"232.9526\">x: String</text><text fill=\"#000000\" font-family=\"sans-serif\" font-size=\"11\" lengthAdjust=\"spacingAndGlyphs\" textLength=\"21\" x=\"504.5\" y=\"245.7573\">y: A</text><line style=\"stroke: #383838; stroke-width: 1.0;\" x1=\"499.5\" x2=\"518.5\" y1=\"216.3398\" y2=\"216.3398\"/><text fill=\"#000000\" font-family=\"sans-serif\" font-size=\"11\" lengthAdjust=\"spacingAndGlyphs\" textLength=\"55\" x=\"518.5\" y=\"219.6479\">attributes</text><line style=\"stroke: #383838; stroke-width: 1.0;\" x1=\"573.5\" x2=\"592.5\" y1=\"216.3398\" y2=\"216.3398\"/></a><!--MD5=[09b614a08d8cba4a07c9adeb5e0fee81]\n",
       "class E3--><a href=\"psysml:8df57e9c-49a1-414c-8fdd-827b36a310a4\" target=\"_top\" title=\"psysml:8df57e9c-49a1-414c-8fdd-827b36a310a4\" xlink:actuate=\"onRequest\" xlink:href=\"psysml:8df57e9c-49a1-414c-8fdd-827b36a310a4\" xlink:show=\"new\" xlink:title=\"psysml:8df57e9c-49a1-414c-8fdd-827b36a310a4\" xlink:type=\"simple\"><rect fill=\"#FFFFFF\" height=\"45.9375\" id=\"E3\" rx=\"10\" ry=\"10\" style=\"stroke: #383838; stroke-width: 1.5;\" width=\"71\" x=\"600.5\" y=\"41\"/><text fill=\"#000000\" font-family=\"sans-serif\" font-size=\"12\" font-style=\"italic\" lengthAdjust=\"spacingAndGlyphs\" textLength=\"69\" x=\"601.5\" y=\"57.1387\">«attribute»</text><text fill=\"#000000\" font-family=\"sans-serif\" font-size=\"12\" lengthAdjust=\"spacingAndGlyphs\" textLength=\"24\" x=\"624\" y=\"71.1074\">a: A</text><line style=\"stroke: #383838; stroke-width: 1.5;\" x1=\"601.5\" x2=\"670.5\" y1=\"78.9375\" y2=\"78.9375\"/></a><!--MD5=[ebbe1d658d1005bcc118a6aa81145e00]\n",
       "class E4--><a href=\"psysml:40a467ef-e18b-46ff-840a-6dc079db3448\" target=\"_top\" title=\"psysml:40a467ef-e18b-46ff-840a-6dc079db3448\" xlink:actuate=\"onRequest\" xlink:href=\"psysml:40a467ef-e18b-46ff-840a-6dc079db3448\" xlink:show=\"new\" xlink:title=\"psysml:40a467ef-e18b-46ff-840a-6dc079db3448\" xlink:type=\"simple\"><rect fill=\"#FFFFFF\" height=\"45.9375\" id=\"E4\" style=\"stroke: #383838; stroke-width: 1.5;\" width=\"108\" x=\"457\" y=\"41\"/><text fill=\"#000000\" font-family=\"sans-serif\" font-size=\"12\" font-style=\"italic\" lengthAdjust=\"spacingAndGlyphs\" textLength=\"106\" x=\"458\" y=\"57.1387\">«calculation def»</text><text fill=\"#000000\" font-family=\"sans-serif\" font-size=\"12\" lengthAdjust=\"spacingAndGlyphs\" textLength=\"7\" x=\"507.5\" y=\"71.1074\">F</text><line style=\"stroke: #383838; stroke-width: 1.5;\" x1=\"458\" x2=\"564\" y1=\"78.9375\" y2=\"78.9375\"/></a><!--MD5=[270fce915f116d4de14055a7c1d9a0f3]\n",
       "class E5--><a href=\"psysml:2237367a-6968-472a-8f6b-3570950aa6b8\" target=\"_top\" title=\"psysml:2237367a-6968-472a-8f6b-3570950aa6b8\" xlink:actuate=\"onRequest\" xlink:href=\"psysml:2237367a-6968-472a-8f6b-3570950aa6b8\" xlink:show=\"new\" xlink:title=\"psysml:2237367a-6968-472a-8f6b-3570950aa6b8\" xlink:type=\"simple\"><rect fill=\"#FFFFFF\" height=\"45.9375\" id=\"E5\" rx=\"10\" ry=\"10\" style=\"stroke: #383838; stroke-width: 1.5;\" width=\"71\" x=\"350.5\" y=\"41\"/><text fill=\"#000000\" font-family=\"sans-serif\" font-size=\"12\" font-style=\"italic\" lengthAdjust=\"spacingAndGlyphs\" textLength=\"69\" x=\"351.5\" y=\"57.1387\">«attribute»</text><text fill=\"#000000\" font-family=\"sans-serif\" font-size=\"12\" lengthAdjust=\"spacingAndGlyphs\" textLength=\"4\" x=\"384\" y=\"71.1074\">f</text><line style=\"stroke: #383838; stroke-width: 1.5;\" x1=\"351.5\" x2=\"420.5\" y1=\"78.9375\" y2=\"78.9375\"/></a><!--MD5=[60a26617385b1d2d0262a64233df1f8d]\n",
       "class E6--><a href=\"psysml:b8cf583e-a2e4-421e-986b-a2654bc5da1a\" target=\"_top\" title=\"psysml:b8cf583e-a2e4-421e-986b-a2654bc5da1a\" xlink:actuate=\"onRequest\" xlink:href=\"psysml:b8cf583e-a2e4-421e-986b-a2654bc5da1a\" xlink:show=\"new\" xlink:title=\"psysml:b8cf583e-a2e4-421e-986b-a2654bc5da1a\" xlink:type=\"simple\"><rect fill=\"#FFFFFF\" height=\"45.9375\" id=\"E6\" rx=\"10\" ry=\"10\" style=\"stroke: #383838; stroke-width: 1.5;\" width=\"71\" x=\"244.5\" y=\"41\"/><text fill=\"#000000\" font-family=\"sans-serif\" font-size=\"12\" font-style=\"italic\" lengthAdjust=\"spacingAndGlyphs\" textLength=\"69\" x=\"245.5\" y=\"57.1387\">«attribute»</text><text fill=\"#000000\" font-family=\"sans-serif\" font-size=\"12\" lengthAdjust=\"spacingAndGlyphs\" textLength=\"8\" x=\"276\" y=\"71.1074\">g</text><line style=\"stroke: #383838; stroke-width: 1.5;\" x1=\"245.5\" x2=\"314.5\" y1=\"78.9375\" y2=\"78.9375\"/></a><!--MD5=[2156ba9850f5573cc1fc38a6a4b2f02b]\n",
       "class E7--><a href=\"psysml:0aa11811-cac3-458e-8be5-17e4f08795b7\" target=\"_top\" title=\"psysml:0aa11811-cac3-458e-8be5-17e4f08795b7\" xlink:actuate=\"onRequest\" xlink:href=\"psysml:0aa11811-cac3-458e-8be5-17e4f08795b7\" xlink:show=\"new\" xlink:title=\"psysml:0aa11811-cac3-458e-8be5-17e4f08795b7\" xlink:type=\"simple\"><rect fill=\"#FFFFFF\" height=\"45.9375\" id=\"E7\" rx=\"10\" ry=\"10\" style=\"stroke: #383838; stroke-width: 1.5;\" width=\"71\" x=\"138.5\" y=\"41\"/><text fill=\"#000000\" font-family=\"sans-serif\" font-size=\"12\" font-style=\"italic\" lengthAdjust=\"spacingAndGlyphs\" textLength=\"69\" x=\"139.5\" y=\"57.1387\">«attribute»</text><text fill=\"#000000\" font-family=\"sans-serif\" font-size=\"12\" lengthAdjust=\"spacingAndGlyphs\" textLength=\"8\" x=\"170\" y=\"71.1074\">b</text><line style=\"stroke: #383838; stroke-width: 1.5;\" x1=\"139.5\" x2=\"208.5\" y1=\"78.9375\" y2=\"78.9375\"/></a><!--MD5=[b9389687b975829384b498ac4b7476b2]\n",
       "class E8--><a href=\"psysml:4713065a-36eb-4143-8ed6-c41cfc39d881\" target=\"_top\" title=\"psysml:4713065a-36eb-4143-8ed6-c41cfc39d881\" xlink:actuate=\"onRequest\" xlink:href=\"psysml:4713065a-36eb-4143-8ed6-c41cfc39d881\" xlink:show=\"new\" xlink:title=\"psysml:4713065a-36eb-4143-8ed6-c41cfc39d881\" xlink:type=\"simple\"><rect fill=\"#FFFFFF\" height=\"45.9375\" id=\"E8\" rx=\"10\" ry=\"10\" style=\"stroke: #383838; stroke-width: 1.5;\" width=\"71\" x=\"32.5\" y=\"41\"/><text fill=\"#000000\" font-family=\"sans-serif\" font-size=\"12\" font-style=\"italic\" lengthAdjust=\"spacingAndGlyphs\" textLength=\"69\" x=\"33.5\" y=\"57.1387\">«attribute»</text><text fill=\"#000000\" font-family=\"sans-serif\" font-size=\"12\" lengthAdjust=\"spacingAndGlyphs\" textLength=\"7\" x=\"64.5\" y=\"71.1074\">c</text><line style=\"stroke: #383838; stroke-width: 1.5;\" x1=\"33.5\" x2=\"102.5\" y1=\"78.9375\" y2=\"78.9375\"/></a><!--MD5=[05d275557350bfb9b23a4ef7222b4c39]\n",
       "link E3 to E2--><a href=\"psysml:0b532ab9-83c4-4e75-92c6-eb24823a8b5d\" target=\"_top\" title=\"psysml:0b532ab9-83c4-4e75-92c6-eb24823a8b5d\" xlink:actuate=\"onRequest\" xlink:href=\"psysml:0b532ab9-83c4-4e75-92c6-eb24823a8b5d\" xlink:show=\"new\" xlink:title=\"psysml:0b532ab9-83c4-4e75-92c6-eb24823a8b5d\" xlink:type=\"simple\"><path d=\"M621.94,87.19 C611.77,103.23 597.51,125.73 584.09,146.9 \" fill=\"none\" id=\"E3-&gt;E2\" style=\"stroke: #383838; stroke-width: 1.0;\"/><polygon fill=\"#FFFFFF\" points=\"573.37,163.82,577.6195,144.0225,589.448,151.5115,573.37,163.82\" style=\"stroke: #383838; stroke-width: 1.0;\"/><ellipse cx=\"582.3584\" cy=\"140.2764\" fill=\"#383838\" rx=\"2\" ry=\"2\" style=\"stroke: #383838; stroke-width: 1.0;\"/><ellipse cx=\"590.8073\" cy=\"145.6258\" fill=\"#383838\" rx=\"2\" ry=\"2\" style=\"stroke: #383838; stroke-width: 1.0;\"/></a><!--MD5=[ddeed8deb2209213b62e6cfabaa108b2]\n",
       "reverse link E4 to E2--><a href=\"psysml:5802290c-01bb-4d71-b710-026b61c78f11\" target=\"_top\" title=\"psysml:5802290c-01bb-4d71-b710-026b61c78f11\" xlink:actuate=\"onRequest\" xlink:href=\"psysml:5802290c-01bb-4d71-b710-026b61c78f11\" xlink:show=\"new\" xlink:title=\"psysml:5802290c-01bb-4d71-b710-026b61c78f11\" xlink:type=\"simple\"><path d=\"M519.62,99.96 C524.37,119.25 530.31,143.36 535.36,163.82 \" fill=\"none\" id=\"E4&lt;-E2\" style=\"stroke: #383838; stroke-width: 1.0;\"/><polygon fill=\"#FFFFFF\" points=\"516.47,87.19,514.0229,93.9732,519.3432,98.841,521.7903,92.0577,516.47,87.19\" style=\"stroke: #383838; stroke-width: 1.0;\"/><text fill=\"#000000\" font-family=\"sans-serif\" font-size=\"13\" lengthAdjust=\"spacingAndGlyphs\" textLength=\"8\" x=\"528\" y=\"130.0669\">p</text></a><!--MD5=[aeb89ed2a844de6e3da51d2aa4a560ed]\n",
       "@startuml\r\n",
       " skinparam monochrome true\r\n",
       "skinparam classbackgroundcolor white\r\n",
       "skinparam shadowing false\r\n",
       "skinparam wrapWidth 300\r\n",
       "hide circle\r\n",
       "\r\n",
       "package \"ParameterTest\" as E1  [[psysml:a676bd1d-a902-490f-aa39-52389ae12c12 ]]  {\r\n",
       "comp def \"A\" as E2  <<(T,blue) attribute def>> [[psysml:da28d9c5-e66b-4d93-bbca-9dea65a864c0 ]] {\r\n",
       "- - attributes - -\r\n",
       "x: String\r\n",
       "y: A\r\n",
       "}\r\n",
       "comp usage \"a: A\" as E3  <<(T,blue) attribute>> [[psysml:8df57e9c-49a1-414c-8fdd-827b36a310a4 ]] {\r\n",
       "}\r\n",
       "comp def \"F\" as E4  <<(T,blue) calculation def>> [[psysml:40a467ef-e18b-46ff-840a-6dc079db3448 ]] {\r\n",
       "}\r\n",
       "comp usage \"f\" as E5  <<(T,blue) attribute>> [[psysml:2237367a-6968-472a-8f6b-3570950aa6b8 ]] {\r\n",
       "}\r\n",
       "comp usage \"g\" as E6  <<(T,blue) attribute>> [[psysml:b8cf583e-a2e4-421e-986b-a2654bc5da1a ]] {\r\n",
       "}\r\n",
       "comp usage \"b\" as E7  <<(T,blue) attribute>> [[psysml:0aa11811-cac3-458e-8be5-17e4f08795b7 ]] {\r\n",
       "}\r\n",
       "comp usage \"c\" as E8  <<(T,blue) attribute>> [[psysml:4713065a-36eb-4143-8ed6-c41cfc39d881 ]] {\r\n",
       "}\r\n",
       "}\r\n",
       "E3 - -:|> E2 [[psysml:0b532ab9-83c4-4e75-92c6-eb24823a8b5d ]] \r\n",
       "E4 o- - E2 [[psysml:5802290c-01bb-4d71-b710-026b61c78f11 ]] : p\r\n",
       "@enduml\r\n",
       "\n",
       "PlantUML version 1.2020.13(Sat Jun 13 12:26:38 UTC 2020)\n",
       "(EPL source distribution)\n",
       "Java Runtime: OpenJDK Runtime Environment\n",
       "JVM: OpenJDK 64-Bit Server VM\n",
       "Default Encoding: UTF-8\n",
       "Language: en\n",
       "Country: null\n",
       "--></g></svg>"
      ]
     },
     "execution_count": 3,
     "metadata": {},
     "output_type": "execute_result"
    }
   ],
   "source": [
    "%viz --style=\"COMPTREE\" --view=\"Tree\" \"ParameterTest\""
   ]
  },
  {
   "cell_type": "code",
   "execution_count": 4,
   "id": "16913ee7",
   "metadata": {
    "execution": {
     "iopub.execute_input": "2021-10-03T08:28:23.980934Z",
     "iopub.status.busy": "2021-10-03T08:28:23.980462Z",
     "iopub.status.idle": "2021-10-03T08:28:23.988358Z",
     "shell.execute_reply": "2021-10-03T08:28:23.988679Z"
    }
   },
   "outputs": [
    {
     "data": {
      "image/svg+xml": [
       "<?xml version=\"1.0\" encoding=\"UTF-8\" standalone=\"no\"?><svg xmlns=\"http://www.w3.org/2000/svg\" xmlns:xlink=\"http://www.w3.org/1999/xlink\" contentScriptType=\"application/ecmascript\" contentStyleType=\"text/css\" height=\"12px\" preserveAspectRatio=\"none\" style=\"width:12px;height:12px;\" version=\"1.1\" viewBox=\"0 0 12 12\" width=\"12px\" zoomAndPan=\"magnify\"><defs/><g><!--MD5=[f19188ef49e11757b5c46753f95d9edc]\n",
       "@startuml\r\n",
       " skinparam monochrome true\r\n",
       "skinparam classbackgroundcolor white\r\n",
       "skinparam shadowing false\r\n",
       "skinparam wrapWidth 300\r\n",
       "hide circle\r\n",
       "\r\n",
       "@enduml\r\n",
       "\n",
       "PlantUML version 1.2020.13(Sat Jun 13 12:26:38 UTC 2020)\n",
       "(EPL source distribution)\n",
       "Java Runtime: OpenJDK Runtime Environment\n",
       "JVM: OpenJDK 64-Bit Server VM\n",
       "Default Encoding: UTF-8\n",
       "Language: en\n",
       "Country: null\n",
       "--></g></svg>"
      ]
     },
     "execution_count": 4,
     "metadata": {},
     "output_type": "execute_result"
    }
   ],
   "source": [
    "%viz --style=\"COMPTREE\" --view=\"State\" \"ParameterTest\""
   ]
  },
  {
   "cell_type": "code",
   "execution_count": 5,
   "id": "63404646",
   "metadata": {
    "execution": {
     "iopub.execute_input": "2021-10-03T08:28:24.038552Z",
     "iopub.status.busy": "2021-10-03T08:28:24.038147Z",
     "iopub.status.idle": "2021-10-03T08:28:24.094047Z",
     "shell.execute_reply": "2021-10-03T08:28:24.094366Z"
    }
   },
   "outputs": [
    {
     "data": {
      "image/svg+xml": [
       "<?xml version=\"1.0\" encoding=\"UTF-8\" standalone=\"no\"?><svg xmlns=\"http://www.w3.org/2000/svg\" xmlns:xlink=\"http://www.w3.org/1999/xlink\" contentScriptType=\"application/ecmascript\" contentStyleType=\"text/css\" height=\"216px\" preserveAspectRatio=\"none\" style=\"width:740px;height:216px;\" version=\"1.1\" viewBox=\"0 0 740 216\" width=\"740px\" zoomAndPan=\"magnify\"><defs/><g><!--MD5=[fbc87193dbaf4d95561dea2c320d4a47]\n",
       "cluster E1--><a href=\"psysml:a676bd1d-a902-490f-aa39-52389ae12c12\" target=\"_top\" title=\"psysml:a676bd1d-a902-490f-aa39-52389ae12c12\" xlink:actuate=\"onRequest\" xlink:href=\"psysml:a676bd1d-a902-490f-aa39-52389ae12c12\" xlink:show=\"new\" xlink:title=\"psysml:a676bd1d-a902-490f-aa39-52389ae12c12\" xlink:type=\"simple\"><polygon fill=\"#FFFFFF\" points=\"16,6,124,6,131,28.2969,718,28.2969,718,204.72,16,204.72,16,6\" style=\"stroke: #000000; stroke-width: 1.5;\"/><line style=\"stroke: #000000; stroke-width: 1.5;\" x1=\"16\" x2=\"131\" y1=\"28.2969\" y2=\"28.2969\"/><text fill=\"#000000\" font-family=\"sans-serif\" font-size=\"14\" font-weight=\"bold\" lengthAdjust=\"spacingAndGlyphs\" textLength=\"102\" x=\"20\" y=\"20.9951\">ParameterTest</text></a><!--MD5=[f6df4d0ebaf0b5dfb2ced0ae5af7c670]\n",
       "cluster E4--><a href=\"psysml:40a467ef-e18b-46ff-840a-6dc079db3448\" target=\"_top\" title=\"psysml:40a467ef-e18b-46ff-840a-6dc079db3448\" xlink:actuate=\"onRequest\" xlink:href=\"psysml:40a467ef-e18b-46ff-840a-6dc079db3448\" xlink:show=\"new\" xlink:title=\"psysml:40a467ef-e18b-46ff-840a-6dc079db3448\" xlink:type=\"simple\"><rect fill=\"#FFFFFF\" height=\"110.72\" id=\"E4\" style=\"stroke: #383838; stroke-width: 1.5;\" width=\"148\" x=\"554\" y=\"64\"/><rect fill=\"#F8F8F8\" height=\"37.9375\" style=\"stroke: #383838; stroke-width: 1.5;\" width=\"148\" x=\"554\" y=\"64\"/><text fill=\"#000000\" font-family=\"sans-serif\" font-size=\"12\" font-style=\"italic\" lengthAdjust=\"spacingAndGlyphs\" textLength=\"106\" x=\"575\" y=\"80.1387\">«calculation def»</text><text fill=\"#000000\" font-family=\"sans-serif\" font-size=\"12\" lengthAdjust=\"spacingAndGlyphs\" textLength=\"7\" x=\"624.5\" y=\"94.1074\">F</text></a><g id=\"E1.E2\"><a href=\"psysml:da28d9c5-e66b-4d93-bbca-9dea65a864c0\" target=\"_top\" title=\"psysml:da28d9c5-e66b-4d93-bbca-9dea65a864c0\" xlink:actuate=\"onRequest\" xlink:href=\"psysml:da28d9c5-e66b-4d93-bbca-9dea65a864c0\" xlink:show=\"new\" xlink:title=\"psysml:da28d9c5-e66b-4d93-bbca-9dea65a864c0\" xlink:type=\"simple\"><rect fill=\"#FFFFFF\" height=\"42.9375\" id=\"E2\" style=\"stroke: #383838; stroke-width: 1.5;\" width=\"100\" x=\"417\" y=\"99\"/><rect fill=\"#F8F8F8\" height=\"37.9375\" style=\"stroke: #383838; stroke-width: 1.5;\" width=\"100\" x=\"417\" y=\"99\"/><text fill=\"#000000\" font-family=\"sans-serif\" font-size=\"12\" font-style=\"italic\" lengthAdjust=\"spacingAndGlyphs\" textLength=\"93\" x=\"420.5\" y=\"115.1387\">«attribute def»</text><text fill=\"#000000\" font-family=\"sans-serif\" font-size=\"12\" lengthAdjust=\"spacingAndGlyphs\" textLength=\"8\" x=\"463\" y=\"129.1074\">A</text></a></g><!--MD5=[09b614a08d8cba4a07c9adeb5e0fee81]\n",
       "class E3--><a href=\"psysml:8df57e9c-49a1-414c-8fdd-827b36a310a4\" target=\"_top\" title=\"psysml:8df57e9c-49a1-414c-8fdd-827b36a310a4\" xlink:actuate=\"onRequest\" xlink:href=\"psysml:8df57e9c-49a1-414c-8fdd-827b36a310a4\" xlink:show=\"new\" xlink:title=\"psysml:8df57e9c-49a1-414c-8fdd-827b36a310a4\" xlink:type=\"simple\"><rect fill=\"#FFFFFF\" height=\"45.9375\" id=\"E3\" rx=\"10\" ry=\"10\" style=\"stroke: #383838; stroke-width: 1.5;\" width=\"71\" x=\"456.5\" y=\"41\"/><text fill=\"#000000\" font-family=\"sans-serif\" font-size=\"12\" font-style=\"italic\" lengthAdjust=\"spacingAndGlyphs\" textLength=\"69\" x=\"457.5\" y=\"57.1387\">«attribute»</text><text fill=\"#000000\" font-family=\"sans-serif\" font-size=\"12\" lengthAdjust=\"spacingAndGlyphs\" textLength=\"24\" x=\"480\" y=\"71.1074\">a: A</text><line style=\"stroke: #383838; stroke-width: 1.5;\" x1=\"457.5\" x2=\"526.5\" y1=\"78.9375\" y2=\"78.9375\"/></a><!--MD5=[b9389687b975829384b498ac4b7476b2]\n",
       "class E8--><a href=\"psysml:2237367a-6968-472a-8f6b-3570950aa6b8\" target=\"_top\" title=\"psysml:2237367a-6968-472a-8f6b-3570950aa6b8\" xlink:actuate=\"onRequest\" xlink:href=\"psysml:2237367a-6968-472a-8f6b-3570950aa6b8\" xlink:show=\"new\" xlink:title=\"psysml:2237367a-6968-472a-8f6b-3570950aa6b8\" xlink:type=\"simple\"><rect fill=\"#FFFFFF\" height=\"45.9375\" id=\"E8\" rx=\"10\" ry=\"10\" style=\"stroke: #383838; stroke-width: 1.5;\" width=\"71\" x=\"350.5\" y=\"41\"/><text fill=\"#000000\" font-family=\"sans-serif\" font-size=\"12\" font-style=\"italic\" lengthAdjust=\"spacingAndGlyphs\" textLength=\"69\" x=\"351.5\" y=\"57.1387\">«attribute»</text><text fill=\"#000000\" font-family=\"sans-serif\" font-size=\"12\" lengthAdjust=\"spacingAndGlyphs\" textLength=\"4\" x=\"384\" y=\"71.1074\">f</text><line style=\"stroke: #383838; stroke-width: 1.5;\" x1=\"351.5\" x2=\"420.5\" y1=\"78.9375\" y2=\"78.9375\"/></a><!--MD5=[fd4143e9d270a159db93a4ea2a975926]\n",
       "class E9--><a href=\"psysml:b8cf583e-a2e4-421e-986b-a2654bc5da1a\" target=\"_top\" title=\"psysml:b8cf583e-a2e4-421e-986b-a2654bc5da1a\" xlink:actuate=\"onRequest\" xlink:href=\"psysml:b8cf583e-a2e4-421e-986b-a2654bc5da1a\" xlink:show=\"new\" xlink:title=\"psysml:b8cf583e-a2e4-421e-986b-a2654bc5da1a\" xlink:type=\"simple\"><rect fill=\"#FFFFFF\" height=\"45.9375\" id=\"E9\" rx=\"10\" ry=\"10\" style=\"stroke: #383838; stroke-width: 1.5;\" width=\"71\" x=\"244.5\" y=\"41\"/><text fill=\"#000000\" font-family=\"sans-serif\" font-size=\"12\" font-style=\"italic\" lengthAdjust=\"spacingAndGlyphs\" textLength=\"69\" x=\"245.5\" y=\"57.1387\">«attribute»</text><text fill=\"#000000\" font-family=\"sans-serif\" font-size=\"12\" lengthAdjust=\"spacingAndGlyphs\" textLength=\"8\" x=\"276\" y=\"71.1074\">g</text><line style=\"stroke: #383838; stroke-width: 1.5;\" x1=\"245.5\" x2=\"314.5\" y1=\"78.9375\" y2=\"78.9375\"/></a><!--MD5=[96f4274e9e20536e775497830990834d]\n",
       "class E10--><a href=\"psysml:0aa11811-cac3-458e-8be5-17e4f08795b7\" target=\"_top\" title=\"psysml:0aa11811-cac3-458e-8be5-17e4f08795b7\" xlink:actuate=\"onRequest\" xlink:href=\"psysml:0aa11811-cac3-458e-8be5-17e4f08795b7\" xlink:show=\"new\" xlink:title=\"psysml:0aa11811-cac3-458e-8be5-17e4f08795b7\" xlink:type=\"simple\"><rect fill=\"#FFFFFF\" height=\"45.9375\" id=\"E10\" rx=\"10\" ry=\"10\" style=\"stroke: #383838; stroke-width: 1.5;\" width=\"71\" x=\"138.5\" y=\"41\"/><text fill=\"#000000\" font-family=\"sans-serif\" font-size=\"12\" font-style=\"italic\" lengthAdjust=\"spacingAndGlyphs\" textLength=\"69\" x=\"139.5\" y=\"57.1387\">«attribute»</text><text fill=\"#000000\" font-family=\"sans-serif\" font-size=\"12\" lengthAdjust=\"spacingAndGlyphs\" textLength=\"8\" x=\"170\" y=\"71.1074\">b</text><line style=\"stroke: #383838; stroke-width: 1.5;\" x1=\"139.5\" x2=\"208.5\" y1=\"78.9375\" y2=\"78.9375\"/></a><!--MD5=[1dd1bfd58a279cf63c5f349dbc8fc6a1]\n",
       "class E11--><a href=\"psysml:4713065a-36eb-4143-8ed6-c41cfc39d881\" target=\"_top\" title=\"psysml:4713065a-36eb-4143-8ed6-c41cfc39d881\" xlink:actuate=\"onRequest\" xlink:href=\"psysml:4713065a-36eb-4143-8ed6-c41cfc39d881\" xlink:show=\"new\" xlink:title=\"psysml:4713065a-36eb-4143-8ed6-c41cfc39d881\" xlink:type=\"simple\"><rect fill=\"#FFFFFF\" height=\"45.9375\" id=\"E11\" rx=\"10\" ry=\"10\" style=\"stroke: #383838; stroke-width: 1.5;\" width=\"71\" x=\"32.5\" y=\"41\"/><text fill=\"#000000\" font-family=\"sans-serif\" font-size=\"12\" font-style=\"italic\" lengthAdjust=\"spacingAndGlyphs\" textLength=\"69\" x=\"33.5\" y=\"57.1387\">«attribute»</text><text fill=\"#000000\" font-family=\"sans-serif\" font-size=\"12\" lengthAdjust=\"spacingAndGlyphs\" textLength=\"7\" x=\"64.5\" y=\"71.1074\">c</text><line style=\"stroke: #383838; stroke-width: 1.5;\" x1=\"33.5\" x2=\"102.5\" y1=\"78.9375\" y2=\"78.9375\"/></a><text fill=\"#000000\" font-family=\"sans-serif\" font-size=\"14\" lengthAdjust=\"spacingAndGlyphs\" textLength=\"9\" x=\"567.5\" y=\"42.6982\">p</text><rect fill=\"#383838\" height=\"12\" style=\"stroke: #F8F8F8; stroke-width: 1.5;\" width=\"12\" x=\"566\" y=\"58\"/><text fill=\"#000000\" font-family=\"sans-serif\" font-size=\"14\" lengthAdjust=\"spacingAndGlyphs\" textLength=\"9\" x=\"614.5\" y=\"42.6982\">q</text><rect fill=\"#383838\" height=\"12\" style=\"stroke: #F8F8F8; stroke-width: 1.5;\" width=\"12\" x=\"613\" y=\"58\"/><text fill=\"#000000\" font-family=\"sans-serif\" font-size=\"14\" lengthAdjust=\"spacingAndGlyphs\" textLength=\"39\" x=\"599.5\" y=\"193.7151\">result</text><rect fill=\"#383838\" height=\"12\" style=\"stroke: #F8F8F8; stroke-width: 1.5;\" width=\"12\" x=\"613\" y=\"168.72\"/><!--MD5=[05d275557350bfb9b23a4ef7222b4c39]\n",
       "link E3 to E2--><a href=\"psysml:0b532ab9-83c4-4e75-92c6-eb24823a8b5d\" target=\"_top\" title=\"psysml:0b532ab9-83c4-4e75-92c6-eb24823a8b5d\" xlink:actuate=\"onRequest\" xlink:href=\"psysml:0b532ab9-83c4-4e75-92c6-eb24823a8b5d\" xlink:show=\"new\" xlink:title=\"psysml:0b532ab9-83c4-4e75-92c6-eb24823a8b5d\" xlink:type=\"simple\"><path d=\"M481.83,87.17 C481.78,87.29 481.72,87.41 481.66,87.53 \" fill=\"none\" id=\"E3-&gt;E2\" style=\"stroke: #383838; stroke-width: 1.0;\"/><polygon fill=\"#FFFFFF\" points=\"476.43,98.93,477.977,78.7407,490.7056,84.5701,476.43,98.93\" style=\"stroke: #383838; stroke-width: 1.0;\"/><ellipse cx=\"482.1687\" cy=\"74.3911\" fill=\"#383838\" rx=\"2\" ry=\"2\" style=\"stroke: #383838; stroke-width: 1.0;\"/><ellipse cx=\"491.2606\" cy=\"78.555\" fill=\"#383838\" rx=\"2\" ry=\"2\" style=\"stroke: #383838; stroke-width: 1.0;\"/></a><!--MD5=[f171685aab26956214de6c4a1e046a5a]\n",
       "@startuml\r\n",
       "skinparam ranksep 10\r\n",
       "skinparam rectangle {\r\n",
       " backgroundColor<<block>> LightGreen\r\n",
       "}\r\n",
       " skinparam monochrome true\r\n",
       "skinparam classbackgroundcolor white\r\n",
       "skinparam shadowing false\r\n",
       "skinparam wrapWidth 300\r\n",
       "hide circle\r\n",
       "\r\n",
       "package \"ParameterTest\" as E1  [[psysml:a676bd1d-a902-490f-aa39-52389ae12c12 ]]  {\r\n",
       "def \"A\" as E2  <<(T,blue) attribute def>> [[psysml:da28d9c5-e66b-4d93-bbca-9dea65a864c0 ]] \r\n",
       "comp usage \"a: A\" as E3  <<(T,blue) attribute>> [[psysml:8df57e9c-49a1-414c-8fdd-827b36a310a4 ]] {\r\n",
       "}\r\n",
       "rec def \"F\" as E4  <<(T,blue) calculation def>> [[psysml:40a467ef-e18b-46ff-840a-6dc079db3448 ]] {\r\n",
       "portin \"p\" as E5  [[psysml:5802290c-01bb-4d71-b710-026b61c78f11 ]] \r\n",
       "portin \"q\" as E6  [[psysml:197907df-8789-46a9-bbed-d5f940e1c2ab ]] \r\n",
       "portout \"result\" as E7  [[psysml:e7c52caa-c6a6-4daa-b328-953e2590a8bc ]] \r\n",
       "}\r\n",
       "\r\n",
       "comp usage \"f\" as E8  <<(T,blue) attribute>> [[psysml:2237367a-6968-472a-8f6b-3570950aa6b8 ]] {\r\n",
       "}\r\n",
       "comp usage \"g\" as E9  <<(T,blue) attribute>> [[psysml:b8cf583e-a2e4-421e-986b-a2654bc5da1a ]] {\r\n",
       "}\r\n",
       "comp usage \"b\" as E10  <<(T,blue) attribute>> [[psysml:0aa11811-cac3-458e-8be5-17e4f08795b7 ]] {\r\n",
       "}\r\n",
       "comp usage \"c\" as E11  <<(T,blue) attribute>> [[psysml:4713065a-36eb-4143-8ed6-c41cfc39d881 ]] {\r\n",
       "}\r\n",
       "}\r\n",
       "E3 - -:|> E2 [[psysml:0b532ab9-83c4-4e75-92c6-eb24823a8b5d ]] \r\n",
       "@enduml\r\n",
       "\n",
       "PlantUML version 1.2020.13(Sat Jun 13 12:26:38 UTC 2020)\n",
       "(EPL source distribution)\n",
       "Java Runtime: OpenJDK Runtime Environment\n",
       "JVM: OpenJDK 64-Bit Server VM\n",
       "Default Encoding: UTF-8\n",
       "Language: en\n",
       "Country: null\n",
       "--></g></svg>"
      ]
     },
     "execution_count": 5,
     "metadata": {},
     "output_type": "execute_result"
    }
   ],
   "source": [
    "%viz --style=\"COMPTREE\" --view=\"Interconnection\" \"ParameterTest\""
   ]
  },
  {
   "cell_type": "code",
   "execution_count": 6,
   "id": "c6c29d2d",
   "metadata": {
    "execution": {
     "iopub.execute_input": "2021-10-03T08:28:24.144032Z",
     "iopub.status.busy": "2021-10-03T08:28:24.143611Z",
     "iopub.status.idle": "2021-10-03T08:28:24.176999Z",
     "shell.execute_reply": "2021-10-03T08:28:24.176624Z"
    }
   },
   "outputs": [
    {
     "data": {
      "image/svg+xml": [
       "<?xml version=\"1.0\" encoding=\"UTF-8\" standalone=\"no\"?><svg xmlns=\"http://www.w3.org/2000/svg\" xmlns:xlink=\"http://www.w3.org/1999/xlink\" contentScriptType=\"application/ecmascript\" contentStyleType=\"text/css\" height=\"162px\" preserveAspectRatio=\"none\" style=\"width:166px;height:162px;\" version=\"1.1\" viewBox=\"0 0 166 162\" width=\"166px\" zoomAndPan=\"magnify\"><defs/><g><!--MD5=[fbc87193dbaf4d95561dea2c320d4a47]\n",
       "cluster E1--><a href=\"psysml:40a467ef-e18b-46ff-840a-6dc079db3448\" target=\"_top\" title=\"psysml:40a467ef-e18b-46ff-840a-6dc079db3448\" xlink:actuate=\"onRequest\" xlink:href=\"psysml:40a467ef-e18b-46ff-840a-6dc079db3448\" xlink:show=\"new\" xlink:title=\"psysml:40a467ef-e18b-46ff-840a-6dc079db3448\" xlink:type=\"simple\"><rect fill=\"#FFFFFF\" height=\"87.72\" id=\"E1\" style=\"stroke: #383838; stroke-width: 1.5;\" width=\"148\" x=\"7\" y=\"42.0986\"/><rect fill=\"#F8F8F8\" height=\"37.9375\" style=\"stroke: #383838; stroke-width: 1.5;\" width=\"148\" x=\"7\" y=\"42.0986\"/><text fill=\"#000000\" font-family=\"sans-serif\" font-size=\"12\" font-style=\"italic\" lengthAdjust=\"spacingAndGlyphs\" textLength=\"106\" x=\"28\" y=\"58.2373\">«calculation def»</text><text fill=\"#000000\" font-family=\"sans-serif\" font-size=\"12\" lengthAdjust=\"spacingAndGlyphs\" textLength=\"7\" x=\"77.5\" y=\"72.2061\">F</text></a><text fill=\"#000000\" font-family=\"sans-serif\" font-size=\"14\" lengthAdjust=\"spacingAndGlyphs\" textLength=\"9\" x=\"20.5\" y=\"20.7969\">p</text><rect fill=\"#383838\" height=\"12\" style=\"stroke: #F8F8F8; stroke-width: 1.5;\" width=\"12\" x=\"19\" y=\"36.0986\"/><text fill=\"#000000\" font-family=\"sans-serif\" font-size=\"14\" lengthAdjust=\"spacingAndGlyphs\" textLength=\"9\" x=\"67.5\" y=\"20.7969\">q</text><rect fill=\"#383838\" height=\"12\" style=\"stroke: #F8F8F8; stroke-width: 1.5;\" width=\"12\" x=\"66\" y=\"36.0986\"/><text fill=\"#000000\" font-family=\"sans-serif\" font-size=\"14\" lengthAdjust=\"spacingAndGlyphs\" textLength=\"39\" x=\"52.5\" y=\"148.8138\">result</text><rect fill=\"#383838\" height=\"12\" style=\"stroke: #F8F8F8; stroke-width: 1.5;\" width=\"12\" x=\"66\" y=\"123.8186\"/><!--MD5=[f6e574fac30470d82e00af6a4d3878be]\n",
       "@startuml\r\n",
       "skinparam ranksep 8\r\n",
       " skinparam monochrome true\r\n",
       "skinparam classbackgroundcolor white\r\n",
       "skinparam shadowing false\r\n",
       "skinparam wrapWidth 300\r\n",
       "hide circle\r\n",
       "\r\n",
       "rec def \"F\" as E1  <<(T,blue) calculation def>> [[psysml:40a467ef-e18b-46ff-840a-6dc079db3448 ]] {\r\n",
       "portin \"p\" as E2  [[psysml:5802290c-01bb-4d71-b710-026b61c78f11 ]] \r\n",
       "portin \"q\" as E3  [[psysml:197907df-8789-46a9-bbed-d5f940e1c2ab ]] \r\n",
       "portout \"result\" as E4  [[psysml:e7c52caa-c6a6-4daa-b328-953e2590a8bc ]] \r\n",
       "}\r\n",
       "\r\n",
       "@enduml\r\n",
       "\n",
       "PlantUML version 1.2020.13(Sat Jun 13 12:26:38 UTC 2020)\n",
       "(EPL source distribution)\n",
       "Java Runtime: OpenJDK Runtime Environment\n",
       "JVM: OpenJDK 64-Bit Server VM\n",
       "Default Encoding: UTF-8\n",
       "Language: en\n",
       "Country: null\n",
       "--></g></svg>"
      ]
     },
     "execution_count": 6,
     "metadata": {},
     "output_type": "execute_result"
    }
   ],
   "source": [
    "%viz --style=\"COMPTREE\" --view=\"Action\" \"ParameterTest\""
   ]
  },
  {
   "cell_type": "code",
   "execution_count": 7,
   "id": "153ae80e",
   "metadata": {
    "execution": {
     "iopub.execute_input": "2021-10-03T08:28:24.226573Z",
     "iopub.status.busy": "2021-10-03T08:28:24.226180Z",
     "iopub.status.idle": "2021-10-03T08:28:24.238618Z",
     "shell.execute_reply": "2021-10-03T08:28:24.238932Z"
    }
   },
   "outputs": [
    {
     "data": {
      "image/svg+xml": [
       "<?xml version=\"1.0\" encoding=\"UTF-8\" standalone=\"no\"?><svg xmlns=\"http://www.w3.org/2000/svg\" xmlns:xlink=\"http://www.w3.org/1999/xlink\" contentScriptType=\"application/ecmascript\" contentStyleType=\"text/css\" height=\"12px\" preserveAspectRatio=\"none\" style=\"width:12px;height:12px;\" version=\"1.1\" viewBox=\"0 0 12 12\" width=\"12px\" zoomAndPan=\"magnify\"><defs/><g><!--MD5=[803fc46c337be7a5c8a9831e35356779]\n",
       "@startuml\r\n",
       "skinparam roundcorner 20\r\n",
       "skinparam BoxPadding 20\r\n",
       "skinparam SequenceBoxBackgroundColor #white\r\n",
       "skinparam style strictuml\r\n",
       "skinparam maxMessageSize 100\r\n",
       " skinparam monochrome true\r\n",
       "skinparam classbackgroundcolor white\r\n",
       "skinparam shadowing false\r\n",
       "skinparam wrapWidth 300\r\n",
       "hide circle\r\n",
       "\r\n",
       "@enduml\r\n",
       "\n",
       "PlantUML version 1.2020.13(Sat Jun 13 12:26:38 UTC 2020)\n",
       "(EPL source distribution)\n",
       "Java Runtime: OpenJDK Runtime Environment\n",
       "JVM: OpenJDK 64-Bit Server VM\n",
       "Default Encoding: UTF-8\n",
       "Language: en\n",
       "Country: null\n",
       "--></g></svg>"
      ]
     },
     "execution_count": 7,
     "metadata": {},
     "output_type": "execute_result"
    }
   ],
   "source": [
    "%viz --style=\"COMPTREE\" --view=\"Sequence\" \"ParameterTest\""
   ]
  },
  {
   "cell_type": "code",
   "execution_count": 8,
   "id": "226c90cc",
   "metadata": {
    "execution": {
     "iopub.execute_input": "2021-10-03T08:28:24.288949Z",
     "iopub.status.busy": "2021-10-03T08:28:24.288546Z",
     "iopub.status.idle": "2021-10-03T08:28:24.373157Z",
     "shell.execute_reply": "2021-10-03T08:28:24.372793Z"
    }
   },
   "outputs": [
    {
     "data": {
      "image/svg+xml": [
       "<?xml version=\"1.0\" encoding=\"UTF-8\" standalone=\"no\"?><svg xmlns=\"http://www.w3.org/2000/svg\" xmlns:xlink=\"http://www.w3.org/1999/xlink\" contentScriptType=\"application/ecmascript\" contentStyleType=\"text/css\" height=\"403px\" preserveAspectRatio=\"none\" style=\"width:740px;height:403px;\" version=\"1.1\" viewBox=\"0 0 740 403\" width=\"740px\" zoomAndPan=\"magnify\"><defs/><g><!--MD5=[fbc87193dbaf4d95561dea2c320d4a47]\n",
       "cluster E1--><a href=\"psysml:a676bd1d-a902-490f-aa39-52389ae12c12\" target=\"_top\" title=\"psysml:a676bd1d-a902-490f-aa39-52389ae12c12\" xlink:actuate=\"onRequest\" xlink:href=\"psysml:a676bd1d-a902-490f-aa39-52389ae12c12\" xlink:show=\"new\" xlink:title=\"psysml:a676bd1d-a902-490f-aa39-52389ae12c12\" xlink:type=\"simple\"><polygon fill=\"#FFFFFF\" points=\"16,6,124,6,131,28.2969,718,28.2969,718,391.72,16,391.72,16,6\" style=\"stroke: #000000; stroke-width: 1.5;\"/><line style=\"stroke: #000000; stroke-width: 1.5;\" x1=\"16\" x2=\"131\" y1=\"28.2969\" y2=\"28.2969\"/><text fill=\"#000000\" font-family=\"sans-serif\" font-size=\"14\" font-weight=\"bold\" lengthAdjust=\"spacingAndGlyphs\" textLength=\"102\" x=\"20\" y=\"20.9951\">ParameterTest</text></a><!--MD5=[f6df4d0ebaf0b5dfb2ced0ae5af7c670]\n",
       "cluster E4--><a href=\"psysml:40a467ef-e18b-46ff-840a-6dc079db3448\" target=\"_top\" title=\"psysml:40a467ef-e18b-46ff-840a-6dc079db3448\" xlink:actuate=\"onRequest\" xlink:href=\"psysml:40a467ef-e18b-46ff-840a-6dc079db3448\" xlink:show=\"new\" xlink:title=\"psysml:40a467ef-e18b-46ff-840a-6dc079db3448\" xlink:type=\"simple\"><rect fill=\"#FFFFFF\" height=\"297.72\" id=\"E4\" style=\"stroke: #383838; stroke-width: 1.5;\" width=\"148\" x=\"554\" y=\"64\"/><rect fill=\"#F8F8F8\" height=\"37.9375\" style=\"stroke: #383838; stroke-width: 1.5;\" width=\"148\" x=\"554\" y=\"64\"/><text fill=\"#000000\" font-family=\"sans-serif\" font-size=\"12\" font-style=\"italic\" lengthAdjust=\"spacingAndGlyphs\" textLength=\"106\" x=\"575\" y=\"80.1387\">«calculation def»</text><text fill=\"#000000\" font-family=\"sans-serif\" font-size=\"12\" lengthAdjust=\"spacingAndGlyphs\" textLength=\"7\" x=\"624.5\" y=\"94.1074\">F</text></a><!--MD5=[b4997ac47864f28c2f74865a473b2911]\n",
       "class E2--><a href=\"psysml:da28d9c5-e66b-4d93-bbca-9dea65a864c0\" target=\"_top\" title=\"psysml:da28d9c5-e66b-4d93-bbca-9dea65a864c0\" xlink:actuate=\"onRequest\" xlink:href=\"psysml:da28d9c5-e66b-4d93-bbca-9dea65a864c0\" xlink:show=\"new\" xlink:title=\"psysml:da28d9c5-e66b-4d93-bbca-9dea65a864c0\" xlink:type=\"simple\"><rect fill=\"#FFFFFF\" height=\"88.3516\" id=\"E2\" style=\"stroke: #383838; stroke-width: 1.5;\" width=\"95\" x=\"422.5\" y=\"147\"/><text fill=\"#000000\" font-family=\"sans-serif\" font-size=\"12\" font-style=\"italic\" lengthAdjust=\"spacingAndGlyphs\" textLength=\"93\" x=\"423.5\" y=\"163.1387\">«attribute def»</text><text fill=\"#000000\" font-family=\"sans-serif\" font-size=\"12\" lengthAdjust=\"spacingAndGlyphs\" textLength=\"8\" x=\"466\" y=\"177.1074\">A</text><line style=\"stroke: #383838; stroke-width: 1.5;\" x1=\"423.5\" x2=\"516.5\" y1=\"184.9375\" y2=\"184.9375\"/><text fill=\"#000000\" font-family=\"sans-serif\" font-size=\"11\" lengthAdjust=\"spacingAndGlyphs\" textLength=\"48\" x=\"428.5\" y=\"215.9526\">x: String</text><text fill=\"#000000\" font-family=\"sans-serif\" font-size=\"11\" lengthAdjust=\"spacingAndGlyphs\" textLength=\"21\" x=\"428.5\" y=\"228.7573\">y: A</text><line style=\"stroke: #383838; stroke-width: 1.0;\" x1=\"423.5\" x2=\"442.5\" y1=\"199.3398\" y2=\"199.3398\"/><text fill=\"#000000\" font-family=\"sans-serif\" font-size=\"11\" lengthAdjust=\"spacingAndGlyphs\" textLength=\"55\" x=\"442.5\" y=\"202.6479\">attributes</text><line style=\"stroke: #383838; stroke-width: 1.0;\" x1=\"497.5\" x2=\"516.5\" y1=\"199.3398\" y2=\"199.3398\"/></a><!--MD5=[09b614a08d8cba4a07c9adeb5e0fee81]\n",
       "class E3--><a href=\"psysml:8df57e9c-49a1-414c-8fdd-827b36a310a4\" target=\"_top\" title=\"psysml:8df57e9c-49a1-414c-8fdd-827b36a310a4\" xlink:actuate=\"onRequest\" xlink:href=\"psysml:8df57e9c-49a1-414c-8fdd-827b36a310a4\" xlink:show=\"new\" xlink:title=\"psysml:8df57e9c-49a1-414c-8fdd-827b36a310a4\" xlink:type=\"simple\"><rect fill=\"#FFFFFF\" height=\"45.9375\" id=\"E3\" rx=\"10\" ry=\"10\" style=\"stroke: #383838; stroke-width: 1.5;\" width=\"71\" x=\"456.5\" y=\"41\"/><text fill=\"#000000\" font-family=\"sans-serif\" font-size=\"12\" font-style=\"italic\" lengthAdjust=\"spacingAndGlyphs\" textLength=\"69\" x=\"457.5\" y=\"57.1387\">«attribute»</text><text fill=\"#000000\" font-family=\"sans-serif\" font-size=\"12\" lengthAdjust=\"spacingAndGlyphs\" textLength=\"24\" x=\"480\" y=\"71.1074\">a: A</text><line style=\"stroke: #383838; stroke-width: 1.5;\" x1=\"457.5\" x2=\"526.5\" y1=\"78.9375\" y2=\"78.9375\"/></a><!--MD5=[b9389687b975829384b498ac4b7476b2]\n",
       "class E8--><a href=\"psysml:2237367a-6968-472a-8f6b-3570950aa6b8\" target=\"_top\" title=\"psysml:2237367a-6968-472a-8f6b-3570950aa6b8\" xlink:actuate=\"onRequest\" xlink:href=\"psysml:2237367a-6968-472a-8f6b-3570950aa6b8\" xlink:show=\"new\" xlink:title=\"psysml:2237367a-6968-472a-8f6b-3570950aa6b8\" xlink:type=\"simple\"><rect fill=\"#FFFFFF\" height=\"45.9375\" id=\"E8\" rx=\"10\" ry=\"10\" style=\"stroke: #383838; stroke-width: 1.5;\" width=\"71\" x=\"350.5\" y=\"41\"/><text fill=\"#000000\" font-family=\"sans-serif\" font-size=\"12\" font-style=\"italic\" lengthAdjust=\"spacingAndGlyphs\" textLength=\"69\" x=\"351.5\" y=\"57.1387\">«attribute»</text><text fill=\"#000000\" font-family=\"sans-serif\" font-size=\"12\" lengthAdjust=\"spacingAndGlyphs\" textLength=\"4\" x=\"384\" y=\"71.1074\">f</text><line style=\"stroke: #383838; stroke-width: 1.5;\" x1=\"351.5\" x2=\"420.5\" y1=\"78.9375\" y2=\"78.9375\"/></a><!--MD5=[fd4143e9d270a159db93a4ea2a975926]\n",
       "class E9--><a href=\"psysml:b8cf583e-a2e4-421e-986b-a2654bc5da1a\" target=\"_top\" title=\"psysml:b8cf583e-a2e4-421e-986b-a2654bc5da1a\" xlink:actuate=\"onRequest\" xlink:href=\"psysml:b8cf583e-a2e4-421e-986b-a2654bc5da1a\" xlink:show=\"new\" xlink:title=\"psysml:b8cf583e-a2e4-421e-986b-a2654bc5da1a\" xlink:type=\"simple\"><rect fill=\"#FFFFFF\" height=\"45.9375\" id=\"E9\" rx=\"10\" ry=\"10\" style=\"stroke: #383838; stroke-width: 1.5;\" width=\"71\" x=\"244.5\" y=\"41\"/><text fill=\"#000000\" font-family=\"sans-serif\" font-size=\"12\" font-style=\"italic\" lengthAdjust=\"spacingAndGlyphs\" textLength=\"69\" x=\"245.5\" y=\"57.1387\">«attribute»</text><text fill=\"#000000\" font-family=\"sans-serif\" font-size=\"12\" lengthAdjust=\"spacingAndGlyphs\" textLength=\"8\" x=\"276\" y=\"71.1074\">g</text><line style=\"stroke: #383838; stroke-width: 1.5;\" x1=\"245.5\" x2=\"314.5\" y1=\"78.9375\" y2=\"78.9375\"/></a><!--MD5=[96f4274e9e20536e775497830990834d]\n",
       "class E10--><a href=\"psysml:0aa11811-cac3-458e-8be5-17e4f08795b7\" target=\"_top\" title=\"psysml:0aa11811-cac3-458e-8be5-17e4f08795b7\" xlink:actuate=\"onRequest\" xlink:href=\"psysml:0aa11811-cac3-458e-8be5-17e4f08795b7\" xlink:show=\"new\" xlink:title=\"psysml:0aa11811-cac3-458e-8be5-17e4f08795b7\" xlink:type=\"simple\"><rect fill=\"#FFFFFF\" height=\"45.9375\" id=\"E10\" rx=\"10\" ry=\"10\" style=\"stroke: #383838; stroke-width: 1.5;\" width=\"71\" x=\"138.5\" y=\"41\"/><text fill=\"#000000\" font-family=\"sans-serif\" font-size=\"12\" font-style=\"italic\" lengthAdjust=\"spacingAndGlyphs\" textLength=\"69\" x=\"139.5\" y=\"57.1387\">«attribute»</text><text fill=\"#000000\" font-family=\"sans-serif\" font-size=\"12\" lengthAdjust=\"spacingAndGlyphs\" textLength=\"8\" x=\"170\" y=\"71.1074\">b</text><line style=\"stroke: #383838; stroke-width: 1.5;\" x1=\"139.5\" x2=\"208.5\" y1=\"78.9375\" y2=\"78.9375\"/></a><!--MD5=[1dd1bfd58a279cf63c5f349dbc8fc6a1]\n",
       "class E11--><a href=\"psysml:4713065a-36eb-4143-8ed6-c41cfc39d881\" target=\"_top\" title=\"psysml:4713065a-36eb-4143-8ed6-c41cfc39d881\" xlink:actuate=\"onRequest\" xlink:href=\"psysml:4713065a-36eb-4143-8ed6-c41cfc39d881\" xlink:show=\"new\" xlink:title=\"psysml:4713065a-36eb-4143-8ed6-c41cfc39d881\" xlink:type=\"simple\"><rect fill=\"#FFFFFF\" height=\"45.9375\" id=\"E11\" rx=\"10\" ry=\"10\" style=\"stroke: #383838; stroke-width: 1.5;\" width=\"71\" x=\"32.5\" y=\"41\"/><text fill=\"#000000\" font-family=\"sans-serif\" font-size=\"12\" font-style=\"italic\" lengthAdjust=\"spacingAndGlyphs\" textLength=\"69\" x=\"33.5\" y=\"57.1387\">«attribute»</text><text fill=\"#000000\" font-family=\"sans-serif\" font-size=\"12\" lengthAdjust=\"spacingAndGlyphs\" textLength=\"7\" x=\"64.5\" y=\"71.1074\">c</text><line style=\"stroke: #383838; stroke-width: 1.5;\" x1=\"33.5\" x2=\"102.5\" y1=\"78.9375\" y2=\"78.9375\"/></a><text fill=\"#000000\" font-family=\"sans-serif\" font-size=\"14\" lengthAdjust=\"spacingAndGlyphs\" textLength=\"9\" x=\"567.5\" y=\"42.6982\">p</text><rect fill=\"#383838\" height=\"12\" style=\"stroke: #F8F8F8; stroke-width: 1.5;\" width=\"12\" x=\"566\" y=\"58\"/><text fill=\"#000000\" font-family=\"sans-serif\" font-size=\"14\" lengthAdjust=\"spacingAndGlyphs\" textLength=\"9\" x=\"614.5\" y=\"42.6982\">q</text><rect fill=\"#383838\" height=\"12\" style=\"stroke: #F8F8F8; stroke-width: 1.5;\" width=\"12\" x=\"613\" y=\"58\"/><text fill=\"#000000\" font-family=\"sans-serif\" font-size=\"14\" lengthAdjust=\"spacingAndGlyphs\" textLength=\"39\" x=\"599.5\" y=\"380.7151\">result</text><rect fill=\"#383838\" height=\"12\" style=\"stroke: #F8F8F8; stroke-width: 1.5;\" width=\"12\" x=\"613\" y=\"355.72\"/><!--MD5=[05d275557350bfb9b23a4ef7222b4c39]\n",
       "link E3 to E2--><a href=\"psysml:0b532ab9-83c4-4e75-92c6-eb24823a8b5d\" target=\"_top\" title=\"psysml:0b532ab9-83c4-4e75-92c6-eb24823a8b5d\" xlink:actuate=\"onRequest\" xlink:href=\"psysml:0b532ab9-83c4-4e75-92c6-eb24823a8b5d\" xlink:show=\"new\" xlink:title=\"psysml:0b532ab9-83c4-4e75-92c6-eb24823a8b5d\" xlink:type=\"simple\"><path d=\"M488.12,87.06 C486.14,98.3 483.62,112.6 481.1,126.95 \" fill=\"none\" id=\"E3-&gt;E2\" style=\"stroke: #383838; stroke-width: 1.0;\"/><polygon fill=\"#FFFFFF\" points=\"477.58,146.93,473.9835,127.0035,487.7711,129.4331,477.58,146.93\" style=\"stroke: #383838; stroke-width: 1.0;\"/><ellipse cx=\"476.9423\" cy=\"121.7371\" fill=\"#383838\" rx=\"2\" ry=\"2\" style=\"stroke: #383838; stroke-width: 1.0;\"/><ellipse cx=\"486.7906\" cy=\"123.4725\" fill=\"#383838\" rx=\"2\" ry=\"2\" style=\"stroke: #383838; stroke-width: 1.0;\"/></a><!--MD5=[86ffe2bf33051f174f5d4ca79a2a065d]\n",
       "@startuml\r\n",
       " skinparam monochrome true\r\n",
       "skinparam classbackgroundcolor white\r\n",
       "skinparam shadowing false\r\n",
       "skinparam wrapWidth 300\r\n",
       "hide circle\r\n",
       "\r\n",
       "package \"ParameterTest\" as E1  [[psysml:a676bd1d-a902-490f-aa39-52389ae12c12 ]]  {\r\n",
       "comp def \"A\" as E2  <<(T,blue) attribute def>> [[psysml:da28d9c5-e66b-4d93-bbca-9dea65a864c0 ]] {\r\n",
       "- - attributes - -\r\n",
       "x: String\r\n",
       "y: A\r\n",
       "}\r\n",
       "comp usage \"a: A\" as E3  <<(T,blue) attribute>> [[psysml:8df57e9c-49a1-414c-8fdd-827b36a310a4 ]] {\r\n",
       "}\r\n",
       "rec def \"F\" as E4  <<(T,blue) calculation def>> [[psysml:40a467ef-e18b-46ff-840a-6dc079db3448 ]] {\r\n",
       "portin \"p\" as E5  [[psysml:5802290c-01bb-4d71-b710-026b61c78f11 ]] \r\n",
       "portin \"q\" as E6  [[psysml:197907df-8789-46a9-bbed-d5f940e1c2ab ]] \r\n",
       "portout \"result\" as E7  [[psysml:e7c52caa-c6a6-4daa-b328-953e2590a8bc ]] \r\n",
       "}\r\n",
       "\r\n",
       "comp usage \"f\" as E8  <<(T,blue) attribute>> [[psysml:2237367a-6968-472a-8f6b-3570950aa6b8 ]] {\r\n",
       "}\r\n",
       "comp usage \"g\" as E9  <<(T,blue) attribute>> [[psysml:b8cf583e-a2e4-421e-986b-a2654bc5da1a ]] {\r\n",
       "}\r\n",
       "comp usage \"b\" as E10  <<(T,blue) attribute>> [[psysml:0aa11811-cac3-458e-8be5-17e4f08795b7 ]] {\r\n",
       "}\r\n",
       "comp usage \"c\" as E11  <<(T,blue) attribute>> [[psysml:4713065a-36eb-4143-8ed6-c41cfc39d881 ]] {\r\n",
       "}\r\n",
       "}\r\n",
       "E3 - -:|> E2 [[psysml:0b532ab9-83c4-4e75-92c6-eb24823a8b5d ]] \r\n",
       "@enduml\r\n",
       "\n",
       "PlantUML version 1.2020.13(Sat Jun 13 12:26:38 UTC 2020)\n",
       "(EPL source distribution)\n",
       "Java Runtime: OpenJDK Runtime Environment\n",
       "JVM: OpenJDK 64-Bit Server VM\n",
       "Default Encoding: UTF-8\n",
       "Language: en\n",
       "Country: null\n",
       "--></g></svg>"
      ]
     },
     "execution_count": 8,
     "metadata": {},
     "output_type": "execute_result"
    }
   ],
   "source": [
    "%viz --style=\"COMPTREE\" --view=\"MIXED\" \"ParameterTest\""
   ]
  },
  {
   "cell_type": "code",
   "execution_count": 9,
   "id": "0ece3f92",
   "metadata": {
    "execution": {
     "iopub.execute_input": "2021-10-03T08:28:24.422576Z",
     "iopub.status.busy": "2021-10-03T08:28:24.422146Z",
     "iopub.status.idle": "2021-10-03T08:28:24.520785Z",
     "shell.execute_reply": "2021-10-03T08:28:24.520388Z"
    }
   },
   "outputs": [
    {
     "data": {
      "image/svg+xml": [
       "<?xml version=\"1.0\" encoding=\"UTF-8\" standalone=\"no\"?><svg xmlns=\"http://www.w3.org/2000/svg\" xmlns:xlink=\"http://www.w3.org/1999/xlink\" contentScriptType=\"application/ecmascript\" contentStyleType=\"text/css\" height=\"403px\" preserveAspectRatio=\"none\" style=\"width:740px;height:403px;\" version=\"1.1\" viewBox=\"0 0 740 403\" width=\"740px\" zoomAndPan=\"magnify\"><defs/><g><!--MD5=[fbc87193dbaf4d95561dea2c320d4a47]\n",
       "cluster E1--><a href=\"psysml:a676bd1d-a902-490f-aa39-52389ae12c12\" target=\"_top\" title=\"psysml:a676bd1d-a902-490f-aa39-52389ae12c12\" xlink:actuate=\"onRequest\" xlink:href=\"psysml:a676bd1d-a902-490f-aa39-52389ae12c12\" xlink:show=\"new\" xlink:title=\"psysml:a676bd1d-a902-490f-aa39-52389ae12c12\" xlink:type=\"simple\"><polygon fill=\"#FFFFFF\" points=\"16,6,124,6,131,28.2969,718,28.2969,718,391.72,16,391.72,16,6\" style=\"stroke: #000000; stroke-width: 1.5;\"/><line style=\"stroke: #000000; stroke-width: 1.5;\" x1=\"16\" x2=\"131\" y1=\"28.2969\" y2=\"28.2969\"/><text fill=\"#000000\" font-family=\"sans-serif\" font-size=\"14\" font-weight=\"bold\" lengthAdjust=\"spacingAndGlyphs\" textLength=\"102\" x=\"20\" y=\"20.9951\">ParameterTest</text></a><!--MD5=[f6df4d0ebaf0b5dfb2ced0ae5af7c670]\n",
       "cluster E4--><a href=\"psysml:40a467ef-e18b-46ff-840a-6dc079db3448\" target=\"_top\" title=\"psysml:40a467ef-e18b-46ff-840a-6dc079db3448\" xlink:actuate=\"onRequest\" xlink:href=\"psysml:40a467ef-e18b-46ff-840a-6dc079db3448\" xlink:show=\"new\" xlink:title=\"psysml:40a467ef-e18b-46ff-840a-6dc079db3448\" xlink:type=\"simple\"><rect fill=\"#FFFFFF\" height=\"297.72\" id=\"E4\" style=\"stroke: #383838; stroke-width: 1.5;\" width=\"148\" x=\"554\" y=\"64\"/><rect fill=\"#F8F8F8\" height=\"37.9375\" style=\"stroke: #383838; stroke-width: 1.5;\" width=\"148\" x=\"554\" y=\"64\"/><text fill=\"#000000\" font-family=\"sans-serif\" font-size=\"12\" font-style=\"italic\" lengthAdjust=\"spacingAndGlyphs\" textLength=\"106\" x=\"575\" y=\"80.1387\">«calculation def»</text><text fill=\"#000000\" font-family=\"sans-serif\" font-size=\"12\" lengthAdjust=\"spacingAndGlyphs\" textLength=\"7\" x=\"624.5\" y=\"94.1074\">F</text></a><!--MD5=[b4997ac47864f28c2f74865a473b2911]\n",
       "class E2--><a href=\"psysml:da28d9c5-e66b-4d93-bbca-9dea65a864c0\" target=\"_top\" title=\"psysml:da28d9c5-e66b-4d93-bbca-9dea65a864c0\" xlink:actuate=\"onRequest\" xlink:href=\"psysml:da28d9c5-e66b-4d93-bbca-9dea65a864c0\" xlink:show=\"new\" xlink:title=\"psysml:da28d9c5-e66b-4d93-bbca-9dea65a864c0\" xlink:type=\"simple\"><rect fill=\"#FFFFFF\" height=\"88.3516\" id=\"E2\" style=\"stroke: #383838; stroke-width: 1.5;\" width=\"95\" x=\"422.5\" y=\"147\"/><text fill=\"#000000\" font-family=\"sans-serif\" font-size=\"12\" font-style=\"italic\" lengthAdjust=\"spacingAndGlyphs\" textLength=\"93\" x=\"423.5\" y=\"163.1387\">«attribute def»</text><text fill=\"#000000\" font-family=\"sans-serif\" font-size=\"12\" lengthAdjust=\"spacingAndGlyphs\" textLength=\"8\" x=\"466\" y=\"177.1074\">A</text><line style=\"stroke: #383838; stroke-width: 1.5;\" x1=\"423.5\" x2=\"516.5\" y1=\"184.9375\" y2=\"184.9375\"/><text fill=\"#000000\" font-family=\"sans-serif\" font-size=\"11\" lengthAdjust=\"spacingAndGlyphs\" textLength=\"48\" x=\"428.5\" y=\"215.9526\">x: String</text><text fill=\"#000000\" font-family=\"sans-serif\" font-size=\"11\" lengthAdjust=\"spacingAndGlyphs\" textLength=\"21\" x=\"428.5\" y=\"228.7573\">y: A</text><line style=\"stroke: #383838; stroke-width: 1.0;\" x1=\"423.5\" x2=\"442.5\" y1=\"199.3398\" y2=\"199.3398\"/><text fill=\"#000000\" font-family=\"sans-serif\" font-size=\"11\" lengthAdjust=\"spacingAndGlyphs\" textLength=\"55\" x=\"442.5\" y=\"202.6479\">attributes</text><line style=\"stroke: #383838; stroke-width: 1.0;\" x1=\"497.5\" x2=\"516.5\" y1=\"199.3398\" y2=\"199.3398\"/></a><!--MD5=[09b614a08d8cba4a07c9adeb5e0fee81]\n",
       "class E3--><a href=\"psysml:8df57e9c-49a1-414c-8fdd-827b36a310a4\" target=\"_top\" title=\"psysml:8df57e9c-49a1-414c-8fdd-827b36a310a4\" xlink:actuate=\"onRequest\" xlink:href=\"psysml:8df57e9c-49a1-414c-8fdd-827b36a310a4\" xlink:show=\"new\" xlink:title=\"psysml:8df57e9c-49a1-414c-8fdd-827b36a310a4\" xlink:type=\"simple\"><rect fill=\"#FFFFFF\" height=\"45.9375\" id=\"E3\" rx=\"10\" ry=\"10\" style=\"stroke: #383838; stroke-width: 1.5;\" width=\"71\" x=\"456.5\" y=\"41\"/><text fill=\"#000000\" font-family=\"sans-serif\" font-size=\"12\" font-style=\"italic\" lengthAdjust=\"spacingAndGlyphs\" textLength=\"69\" x=\"457.5\" y=\"57.1387\">«attribute»</text><text fill=\"#000000\" font-family=\"sans-serif\" font-size=\"12\" lengthAdjust=\"spacingAndGlyphs\" textLength=\"24\" x=\"480\" y=\"71.1074\">a: A</text><line style=\"stroke: #383838; stroke-width: 1.5;\" x1=\"457.5\" x2=\"526.5\" y1=\"78.9375\" y2=\"78.9375\"/></a><!--MD5=[b9389687b975829384b498ac4b7476b2]\n",
       "class E8--><a href=\"psysml:2237367a-6968-472a-8f6b-3570950aa6b8\" target=\"_top\" title=\"psysml:2237367a-6968-472a-8f6b-3570950aa6b8\" xlink:actuate=\"onRequest\" xlink:href=\"psysml:2237367a-6968-472a-8f6b-3570950aa6b8\" xlink:show=\"new\" xlink:title=\"psysml:2237367a-6968-472a-8f6b-3570950aa6b8\" xlink:type=\"simple\"><rect fill=\"#FFFFFF\" height=\"45.9375\" id=\"E8\" rx=\"10\" ry=\"10\" style=\"stroke: #383838; stroke-width: 1.5;\" width=\"71\" x=\"350.5\" y=\"41\"/><text fill=\"#000000\" font-family=\"sans-serif\" font-size=\"12\" font-style=\"italic\" lengthAdjust=\"spacingAndGlyphs\" textLength=\"69\" x=\"351.5\" y=\"57.1387\">«attribute»</text><text fill=\"#000000\" font-family=\"sans-serif\" font-size=\"12\" lengthAdjust=\"spacingAndGlyphs\" textLength=\"4\" x=\"384\" y=\"71.1074\">f</text><line style=\"stroke: #383838; stroke-width: 1.5;\" x1=\"351.5\" x2=\"420.5\" y1=\"78.9375\" y2=\"78.9375\"/></a><!--MD5=[fd4143e9d270a159db93a4ea2a975926]\n",
       "class E9--><a href=\"psysml:b8cf583e-a2e4-421e-986b-a2654bc5da1a\" target=\"_top\" title=\"psysml:b8cf583e-a2e4-421e-986b-a2654bc5da1a\" xlink:actuate=\"onRequest\" xlink:href=\"psysml:b8cf583e-a2e4-421e-986b-a2654bc5da1a\" xlink:show=\"new\" xlink:title=\"psysml:b8cf583e-a2e4-421e-986b-a2654bc5da1a\" xlink:type=\"simple\"><rect fill=\"#FFFFFF\" height=\"45.9375\" id=\"E9\" rx=\"10\" ry=\"10\" style=\"stroke: #383838; stroke-width: 1.5;\" width=\"71\" x=\"244.5\" y=\"41\"/><text fill=\"#000000\" font-family=\"sans-serif\" font-size=\"12\" font-style=\"italic\" lengthAdjust=\"spacingAndGlyphs\" textLength=\"69\" x=\"245.5\" y=\"57.1387\">«attribute»</text><text fill=\"#000000\" font-family=\"sans-serif\" font-size=\"12\" lengthAdjust=\"spacingAndGlyphs\" textLength=\"8\" x=\"276\" y=\"71.1074\">g</text><line style=\"stroke: #383838; stroke-width: 1.5;\" x1=\"245.5\" x2=\"314.5\" y1=\"78.9375\" y2=\"78.9375\"/></a><!--MD5=[96f4274e9e20536e775497830990834d]\n",
       "class E10--><a href=\"psysml:0aa11811-cac3-458e-8be5-17e4f08795b7\" target=\"_top\" title=\"psysml:0aa11811-cac3-458e-8be5-17e4f08795b7\" xlink:actuate=\"onRequest\" xlink:href=\"psysml:0aa11811-cac3-458e-8be5-17e4f08795b7\" xlink:show=\"new\" xlink:title=\"psysml:0aa11811-cac3-458e-8be5-17e4f08795b7\" xlink:type=\"simple\"><rect fill=\"#FFFFFF\" height=\"45.9375\" id=\"E10\" rx=\"10\" ry=\"10\" style=\"stroke: #383838; stroke-width: 1.5;\" width=\"71\" x=\"138.5\" y=\"41\"/><text fill=\"#000000\" font-family=\"sans-serif\" font-size=\"12\" font-style=\"italic\" lengthAdjust=\"spacingAndGlyphs\" textLength=\"69\" x=\"139.5\" y=\"57.1387\">«attribute»</text><text fill=\"#000000\" font-family=\"sans-serif\" font-size=\"12\" lengthAdjust=\"spacingAndGlyphs\" textLength=\"8\" x=\"170\" y=\"71.1074\">b</text><line style=\"stroke: #383838; stroke-width: 1.5;\" x1=\"139.5\" x2=\"208.5\" y1=\"78.9375\" y2=\"78.9375\"/></a><!--MD5=[1dd1bfd58a279cf63c5f349dbc8fc6a1]\n",
       "class E11--><a href=\"psysml:4713065a-36eb-4143-8ed6-c41cfc39d881\" target=\"_top\" title=\"psysml:4713065a-36eb-4143-8ed6-c41cfc39d881\" xlink:actuate=\"onRequest\" xlink:href=\"psysml:4713065a-36eb-4143-8ed6-c41cfc39d881\" xlink:show=\"new\" xlink:title=\"psysml:4713065a-36eb-4143-8ed6-c41cfc39d881\" xlink:type=\"simple\"><rect fill=\"#FFFFFF\" height=\"45.9375\" id=\"E11\" rx=\"10\" ry=\"10\" style=\"stroke: #383838; stroke-width: 1.5;\" width=\"71\" x=\"32.5\" y=\"41\"/><text fill=\"#000000\" font-family=\"sans-serif\" font-size=\"12\" font-style=\"italic\" lengthAdjust=\"spacingAndGlyphs\" textLength=\"69\" x=\"33.5\" y=\"57.1387\">«attribute»</text><text fill=\"#000000\" font-family=\"sans-serif\" font-size=\"12\" lengthAdjust=\"spacingAndGlyphs\" textLength=\"7\" x=\"64.5\" y=\"71.1074\">c</text><line style=\"stroke: #383838; stroke-width: 1.5;\" x1=\"33.5\" x2=\"102.5\" y1=\"78.9375\" y2=\"78.9375\"/></a><text fill=\"#000000\" font-family=\"sans-serif\" font-size=\"14\" lengthAdjust=\"spacingAndGlyphs\" textLength=\"9\" x=\"567.5\" y=\"42.6982\">p</text><rect fill=\"#383838\" height=\"12\" style=\"stroke: #F8F8F8; stroke-width: 1.5;\" width=\"12\" x=\"566\" y=\"58\"/><text fill=\"#000000\" font-family=\"sans-serif\" font-size=\"14\" lengthAdjust=\"spacingAndGlyphs\" textLength=\"9\" x=\"614.5\" y=\"42.6982\">q</text><rect fill=\"#383838\" height=\"12\" style=\"stroke: #F8F8F8; stroke-width: 1.5;\" width=\"12\" x=\"613\" y=\"58\"/><text fill=\"#000000\" font-family=\"sans-serif\" font-size=\"14\" lengthAdjust=\"spacingAndGlyphs\" textLength=\"39\" x=\"599.5\" y=\"380.7151\">result</text><rect fill=\"#383838\" height=\"12\" style=\"stroke: #F8F8F8; stroke-width: 1.5;\" width=\"12\" x=\"613\" y=\"355.72\"/><!--MD5=[05d275557350bfb9b23a4ef7222b4c39]\n",
       "link E3 to E2--><a href=\"psysml:0b532ab9-83c4-4e75-92c6-eb24823a8b5d\" target=\"_top\" title=\"psysml:0b532ab9-83c4-4e75-92c6-eb24823a8b5d\" xlink:actuate=\"onRequest\" xlink:href=\"psysml:0b532ab9-83c4-4e75-92c6-eb24823a8b5d\" xlink:show=\"new\" xlink:title=\"psysml:0b532ab9-83c4-4e75-92c6-eb24823a8b5d\" xlink:type=\"simple\"><path d=\"M488.12,87.06 C486.14,98.3 483.62,112.6 481.1,126.95 \" fill=\"none\" id=\"E3-&gt;E2\" style=\"stroke: #383838; stroke-width: 1.0;\"/><polygon fill=\"#FFFFFF\" points=\"477.58,146.93,473.9835,127.0035,487.7711,129.4331,477.58,146.93\" style=\"stroke: #383838; stroke-width: 1.0;\"/><ellipse cx=\"476.9423\" cy=\"121.7371\" fill=\"#383838\" rx=\"2\" ry=\"2\" style=\"stroke: #383838; stroke-width: 1.0;\"/><ellipse cx=\"486.7906\" cy=\"123.4725\" fill=\"#383838\" rx=\"2\" ry=\"2\" style=\"stroke: #383838; stroke-width: 1.0;\"/></a><!--MD5=[3c39de612d971e5bb7bd000ae4358710]\n",
       "@startuml\r\n",
       "skinparam linetype polyline\r\n",
       "skinparam monochrome true\r\n",
       "skinparam classbackgroundcolor white\r\n",
       "skinparam shadowing false\r\n",
       "skinparam wrapWidth 300\r\n",
       "hide circle\r\n",
       "\r\n",
       "package \"ParameterTest\" as E1  [[psysml:a676bd1d-a902-490f-aa39-52389ae12c12 ]]  {\r\n",
       "comp def \"A\" as E2  <<(T,blue) attribute def>> [[psysml:da28d9c5-e66b-4d93-bbca-9dea65a864c0 ]] {\r\n",
       "- - attributes - -\r\n",
       "x: String\r\n",
       "y: A\r\n",
       "}\r\n",
       "comp usage \"a: A\" as E3  <<(T,blue) attribute>> [[psysml:8df57e9c-49a1-414c-8fdd-827b36a310a4 ]] {\r\n",
       "}\r\n",
       "rec def \"F\" as E4  <<(T,blue) calculation def>> [[psysml:40a467ef-e18b-46ff-840a-6dc079db3448 ]] {\r\n",
       "portin \"p\" as E5  [[psysml:5802290c-01bb-4d71-b710-026b61c78f11 ]] \r\n",
       "portin \"q\" as E6  [[psysml:197907df-8789-46a9-bbed-d5f940e1c2ab ]] \r\n",
       "portout \"result\" as E7  [[psysml:e7c52caa-c6a6-4daa-b328-953e2590a8bc ]] \r\n",
       "}\r\n",
       "\r\n",
       "comp usage \"f\" as E8  <<(T,blue) attribute>> [[psysml:2237367a-6968-472a-8f6b-3570950aa6b8 ]] {\r\n",
       "}\r\n",
       "comp usage \"g\" as E9  <<(T,blue) attribute>> [[psysml:b8cf583e-a2e4-421e-986b-a2654bc5da1a ]] {\r\n",
       "}\r\n",
       "comp usage \"b\" as E10  <<(T,blue) attribute>> [[psysml:0aa11811-cac3-458e-8be5-17e4f08795b7 ]] {\r\n",
       "}\r\n",
       "comp usage \"c\" as E11  <<(T,blue) attribute>> [[psysml:4713065a-36eb-4143-8ed6-c41cfc39d881 ]] {\r\n",
       "}\r\n",
       "}\r\n",
       "E3 - -:|> E2 [[psysml:0b532ab9-83c4-4e75-92c6-eb24823a8b5d ]] \r\n",
       "@enduml\r\n",
       "\n",
       "PlantUML version 1.2020.13(Sat Jun 13 12:26:38 UTC 2020)\n",
       "(EPL source distribution)\n",
       "Java Runtime: OpenJDK Runtime Environment\n",
       "JVM: OpenJDK 64-Bit Server VM\n",
       "Default Encoding: UTF-8\n",
       "Language: en\n",
       "Country: null\n",
       "--></g></svg>"
      ]
     },
     "execution_count": 9,
     "metadata": {},
     "output_type": "execute_result"
    }
   ],
   "source": [
    "%viz --style=\"POLYLINE\" --view=\"Default\" \"ParameterTest\""
   ]
  },
  {
   "cell_type": "code",
   "execution_count": 10,
   "id": "05347ac6",
   "metadata": {
    "execution": {
     "iopub.execute_input": "2021-10-03T08:28:24.570211Z",
     "iopub.status.busy": "2021-10-03T08:28:24.569742Z",
     "iopub.status.idle": "2021-10-03T08:28:24.631666Z",
     "shell.execute_reply": "2021-10-03T08:28:24.631304Z"
    }
   },
   "outputs": [
    {
     "data": {
      "image/svg+xml": [
       "<?xml version=\"1.0\" encoding=\"UTF-8\" standalone=\"no\"?><svg xmlns=\"http://www.w3.org/2000/svg\" xmlns:xlink=\"http://www.w3.org/1999/xlink\" contentScriptType=\"application/ecmascript\" contentStyleType=\"text/css\" height=\"280px\" preserveAspectRatio=\"none\" style=\"width:710px;height:280px;\" version=\"1.1\" viewBox=\"0 0 710 280\" width=\"710px\" zoomAndPan=\"magnify\"><defs/><g><!--MD5=[fbc87193dbaf4d95561dea2c320d4a47]\n",
       "cluster E1--><a href=\"psysml:a676bd1d-a902-490f-aa39-52389ae12c12\" target=\"_top\" title=\"psysml:a676bd1d-a902-490f-aa39-52389ae12c12\" xlink:actuate=\"onRequest\" xlink:href=\"psysml:a676bd1d-a902-490f-aa39-52389ae12c12\" xlink:show=\"new\" xlink:title=\"psysml:a676bd1d-a902-490f-aa39-52389ae12c12\" xlink:type=\"simple\"><polygon fill=\"#FFFFFF\" points=\"16,6,124,6,131,28.2969,688,28.2969,688,268,16,268,16,6\" style=\"stroke: #000000; stroke-width: 1.5;\"/><line style=\"stroke: #000000; stroke-width: 1.5;\" x1=\"16\" x2=\"131\" y1=\"28.2969\" y2=\"28.2969\"/><text fill=\"#000000\" font-family=\"sans-serif\" font-size=\"14\" font-weight=\"bold\" lengthAdjust=\"spacingAndGlyphs\" textLength=\"102\" x=\"20\" y=\"20.9951\">ParameterTest</text></a><!--MD5=[b4997ac47864f28c2f74865a473b2911]\n",
       "class E2--><a href=\"psysml:da28d9c5-e66b-4d93-bbca-9dea65a864c0\" target=\"_top\" title=\"psysml:da28d9c5-e66b-4d93-bbca-9dea65a864c0\" xlink:actuate=\"onRequest\" xlink:href=\"psysml:da28d9c5-e66b-4d93-bbca-9dea65a864c0\" xlink:show=\"new\" xlink:title=\"psysml:da28d9c5-e66b-4d93-bbca-9dea65a864c0\" xlink:type=\"simple\"><rect fill=\"#FFFFFF\" height=\"88.3516\" id=\"E2\" style=\"stroke: #383838; stroke-width: 1.5;\" width=\"95\" x=\"498.5\" y=\"164\"/><text fill=\"#000000\" font-family=\"sans-serif\" font-size=\"12\" font-style=\"italic\" lengthAdjust=\"spacingAndGlyphs\" textLength=\"93\" x=\"499.5\" y=\"180.1387\">«attribute def»</text><text fill=\"#000000\" font-family=\"sans-serif\" font-size=\"12\" lengthAdjust=\"spacingAndGlyphs\" textLength=\"8\" x=\"542\" y=\"194.1074\">A</text><line style=\"stroke: #383838; stroke-width: 1.5;\" x1=\"499.5\" x2=\"592.5\" y1=\"201.9375\" y2=\"201.9375\"/><text fill=\"#000000\" font-family=\"sans-serif\" font-size=\"11\" lengthAdjust=\"spacingAndGlyphs\" textLength=\"48\" x=\"504.5\" y=\"232.9526\">x: String</text><text fill=\"#000000\" font-family=\"sans-serif\" font-size=\"11\" lengthAdjust=\"spacingAndGlyphs\" textLength=\"21\" x=\"504.5\" y=\"245.7573\">y: A</text><line style=\"stroke: #383838; stroke-width: 1.0;\" x1=\"499.5\" x2=\"518.5\" y1=\"216.3398\" y2=\"216.3398\"/><text fill=\"#000000\" font-family=\"sans-serif\" font-size=\"11\" lengthAdjust=\"spacingAndGlyphs\" textLength=\"55\" x=\"518.5\" y=\"219.6479\">attributes</text><line style=\"stroke: #383838; stroke-width: 1.0;\" x1=\"573.5\" x2=\"592.5\" y1=\"216.3398\" y2=\"216.3398\"/></a><!--MD5=[09b614a08d8cba4a07c9adeb5e0fee81]\n",
       "class E3--><a href=\"psysml:8df57e9c-49a1-414c-8fdd-827b36a310a4\" target=\"_top\" title=\"psysml:8df57e9c-49a1-414c-8fdd-827b36a310a4\" xlink:actuate=\"onRequest\" xlink:href=\"psysml:8df57e9c-49a1-414c-8fdd-827b36a310a4\" xlink:show=\"new\" xlink:title=\"psysml:8df57e9c-49a1-414c-8fdd-827b36a310a4\" xlink:type=\"simple\"><rect fill=\"#FFFFFF\" height=\"45.9375\" id=\"E3\" rx=\"10\" ry=\"10\" style=\"stroke: #383838; stroke-width: 1.5;\" width=\"71\" x=\"600.5\" y=\"41\"/><text fill=\"#000000\" font-family=\"sans-serif\" font-size=\"12\" font-style=\"italic\" lengthAdjust=\"spacingAndGlyphs\" textLength=\"69\" x=\"601.5\" y=\"57.1387\">«attribute»</text><text fill=\"#000000\" font-family=\"sans-serif\" font-size=\"12\" lengthAdjust=\"spacingAndGlyphs\" textLength=\"24\" x=\"624\" y=\"71.1074\">a: A</text><line style=\"stroke: #383838; stroke-width: 1.5;\" x1=\"601.5\" x2=\"670.5\" y1=\"78.9375\" y2=\"78.9375\"/></a><!--MD5=[ebbe1d658d1005bcc118a6aa81145e00]\n",
       "class E4--><a href=\"psysml:40a467ef-e18b-46ff-840a-6dc079db3448\" target=\"_top\" title=\"psysml:40a467ef-e18b-46ff-840a-6dc079db3448\" xlink:actuate=\"onRequest\" xlink:href=\"psysml:40a467ef-e18b-46ff-840a-6dc079db3448\" xlink:show=\"new\" xlink:title=\"psysml:40a467ef-e18b-46ff-840a-6dc079db3448\" xlink:type=\"simple\"><rect fill=\"#FFFFFF\" height=\"45.9375\" id=\"E4\" style=\"stroke: #383838; stroke-width: 1.5;\" width=\"108\" x=\"457\" y=\"41\"/><text fill=\"#000000\" font-family=\"sans-serif\" font-size=\"12\" font-style=\"italic\" lengthAdjust=\"spacingAndGlyphs\" textLength=\"106\" x=\"458\" y=\"57.1387\">«calculation def»</text><text fill=\"#000000\" font-family=\"sans-serif\" font-size=\"12\" lengthAdjust=\"spacingAndGlyphs\" textLength=\"7\" x=\"507.5\" y=\"71.1074\">F</text><line style=\"stroke: #383838; stroke-width: 1.5;\" x1=\"458\" x2=\"564\" y1=\"78.9375\" y2=\"78.9375\"/></a><!--MD5=[270fce915f116d4de14055a7c1d9a0f3]\n",
       "class E5--><a href=\"psysml:2237367a-6968-472a-8f6b-3570950aa6b8\" target=\"_top\" title=\"psysml:2237367a-6968-472a-8f6b-3570950aa6b8\" xlink:actuate=\"onRequest\" xlink:href=\"psysml:2237367a-6968-472a-8f6b-3570950aa6b8\" xlink:show=\"new\" xlink:title=\"psysml:2237367a-6968-472a-8f6b-3570950aa6b8\" xlink:type=\"simple\"><rect fill=\"#FFFFFF\" height=\"45.9375\" id=\"E5\" rx=\"10\" ry=\"10\" style=\"stroke: #383838; stroke-width: 1.5;\" width=\"71\" x=\"350.5\" y=\"41\"/><text fill=\"#000000\" font-family=\"sans-serif\" font-size=\"12\" font-style=\"italic\" lengthAdjust=\"spacingAndGlyphs\" textLength=\"69\" x=\"351.5\" y=\"57.1387\">«attribute»</text><text fill=\"#000000\" font-family=\"sans-serif\" font-size=\"12\" lengthAdjust=\"spacingAndGlyphs\" textLength=\"4\" x=\"384\" y=\"71.1074\">f</text><line style=\"stroke: #383838; stroke-width: 1.5;\" x1=\"351.5\" x2=\"420.5\" y1=\"78.9375\" y2=\"78.9375\"/></a><!--MD5=[60a26617385b1d2d0262a64233df1f8d]\n",
       "class E6--><a href=\"psysml:b8cf583e-a2e4-421e-986b-a2654bc5da1a\" target=\"_top\" title=\"psysml:b8cf583e-a2e4-421e-986b-a2654bc5da1a\" xlink:actuate=\"onRequest\" xlink:href=\"psysml:b8cf583e-a2e4-421e-986b-a2654bc5da1a\" xlink:show=\"new\" xlink:title=\"psysml:b8cf583e-a2e4-421e-986b-a2654bc5da1a\" xlink:type=\"simple\"><rect fill=\"#FFFFFF\" height=\"45.9375\" id=\"E6\" rx=\"10\" ry=\"10\" style=\"stroke: #383838; stroke-width: 1.5;\" width=\"71\" x=\"244.5\" y=\"41\"/><text fill=\"#000000\" font-family=\"sans-serif\" font-size=\"12\" font-style=\"italic\" lengthAdjust=\"spacingAndGlyphs\" textLength=\"69\" x=\"245.5\" y=\"57.1387\">«attribute»</text><text fill=\"#000000\" font-family=\"sans-serif\" font-size=\"12\" lengthAdjust=\"spacingAndGlyphs\" textLength=\"8\" x=\"276\" y=\"71.1074\">g</text><line style=\"stroke: #383838; stroke-width: 1.5;\" x1=\"245.5\" x2=\"314.5\" y1=\"78.9375\" y2=\"78.9375\"/></a><!--MD5=[2156ba9850f5573cc1fc38a6a4b2f02b]\n",
       "class E7--><a href=\"psysml:0aa11811-cac3-458e-8be5-17e4f08795b7\" target=\"_top\" title=\"psysml:0aa11811-cac3-458e-8be5-17e4f08795b7\" xlink:actuate=\"onRequest\" xlink:href=\"psysml:0aa11811-cac3-458e-8be5-17e4f08795b7\" xlink:show=\"new\" xlink:title=\"psysml:0aa11811-cac3-458e-8be5-17e4f08795b7\" xlink:type=\"simple\"><rect fill=\"#FFFFFF\" height=\"45.9375\" id=\"E7\" rx=\"10\" ry=\"10\" style=\"stroke: #383838; stroke-width: 1.5;\" width=\"71\" x=\"138.5\" y=\"41\"/><text fill=\"#000000\" font-family=\"sans-serif\" font-size=\"12\" font-style=\"italic\" lengthAdjust=\"spacingAndGlyphs\" textLength=\"69\" x=\"139.5\" y=\"57.1387\">«attribute»</text><text fill=\"#000000\" font-family=\"sans-serif\" font-size=\"12\" lengthAdjust=\"spacingAndGlyphs\" textLength=\"8\" x=\"170\" y=\"71.1074\">b</text><line style=\"stroke: #383838; stroke-width: 1.5;\" x1=\"139.5\" x2=\"208.5\" y1=\"78.9375\" y2=\"78.9375\"/></a><!--MD5=[b9389687b975829384b498ac4b7476b2]\n",
       "class E8--><a href=\"psysml:4713065a-36eb-4143-8ed6-c41cfc39d881\" target=\"_top\" title=\"psysml:4713065a-36eb-4143-8ed6-c41cfc39d881\" xlink:actuate=\"onRequest\" xlink:href=\"psysml:4713065a-36eb-4143-8ed6-c41cfc39d881\" xlink:show=\"new\" xlink:title=\"psysml:4713065a-36eb-4143-8ed6-c41cfc39d881\" xlink:type=\"simple\"><rect fill=\"#FFFFFF\" height=\"45.9375\" id=\"E8\" rx=\"10\" ry=\"10\" style=\"stroke: #383838; stroke-width: 1.5;\" width=\"71\" x=\"32.5\" y=\"41\"/><text fill=\"#000000\" font-family=\"sans-serif\" font-size=\"12\" font-style=\"italic\" lengthAdjust=\"spacingAndGlyphs\" textLength=\"69\" x=\"33.5\" y=\"57.1387\">«attribute»</text><text fill=\"#000000\" font-family=\"sans-serif\" font-size=\"12\" lengthAdjust=\"spacingAndGlyphs\" textLength=\"7\" x=\"64.5\" y=\"71.1074\">c</text><line style=\"stroke: #383838; stroke-width: 1.5;\" x1=\"33.5\" x2=\"102.5\" y1=\"78.9375\" y2=\"78.9375\"/></a><!--MD5=[05d275557350bfb9b23a4ef7222b4c39]\n",
       "link E3 to E2--><a href=\"psysml:0b532ab9-83c4-4e75-92c6-eb24823a8b5d\" target=\"_top\" title=\"psysml:0b532ab9-83c4-4e75-92c6-eb24823a8b5d\" xlink:actuate=\"onRequest\" xlink:href=\"psysml:0b532ab9-83c4-4e75-92c6-eb24823a8b5d\" xlink:show=\"new\" xlink:title=\"psysml:0b532ab9-83c4-4e75-92c6-eb24823a8b5d\" xlink:type=\"simple\"><path d=\"M621.94,87.19 C611.77,103.23 597.51,125.73 584.09,146.9 \" fill=\"none\" id=\"E3-&gt;E2\" style=\"stroke: #383838; stroke-width: 1.0;\"/><polygon fill=\"#FFFFFF\" points=\"573.37,163.82,577.6195,144.0225,589.448,151.5115,573.37,163.82\" style=\"stroke: #383838; stroke-width: 1.0;\"/><ellipse cx=\"582.3584\" cy=\"140.2764\" fill=\"#383838\" rx=\"2\" ry=\"2\" style=\"stroke: #383838; stroke-width: 1.0;\"/><ellipse cx=\"590.8073\" cy=\"145.6258\" fill=\"#383838\" rx=\"2\" ry=\"2\" style=\"stroke: #383838; stroke-width: 1.0;\"/></a><!--MD5=[ddeed8deb2209213b62e6cfabaa108b2]\n",
       "reverse link E4 to E2--><a href=\"psysml:5802290c-01bb-4d71-b710-026b61c78f11\" target=\"_top\" title=\"psysml:5802290c-01bb-4d71-b710-026b61c78f11\" xlink:actuate=\"onRequest\" xlink:href=\"psysml:5802290c-01bb-4d71-b710-026b61c78f11\" xlink:show=\"new\" xlink:title=\"psysml:5802290c-01bb-4d71-b710-026b61c78f11\" xlink:type=\"simple\"><path d=\"M519.62,99.96 C524.37,119.25 530.31,143.36 535.36,163.82 \" fill=\"none\" id=\"E4&lt;-E2\" style=\"stroke: #383838; stroke-width: 1.0;\"/><polygon fill=\"#FFFFFF\" points=\"516.47,87.19,514.0229,93.9732,519.3432,98.841,521.7903,92.0577,516.47,87.19\" style=\"stroke: #383838; stroke-width: 1.0;\"/><text fill=\"#000000\" font-family=\"sans-serif\" font-size=\"13\" lengthAdjust=\"spacingAndGlyphs\" textLength=\"8\" x=\"528\" y=\"130.0669\">p</text></a><!--MD5=[48364552db674fff5a516e6cce9b8457]\n",
       "@startuml\r\n",
       "skinparam linetype polyline\r\n",
       "skinparam monochrome true\r\n",
       "skinparam classbackgroundcolor white\r\n",
       "skinparam shadowing false\r\n",
       "skinparam wrapWidth 300\r\n",
       "hide circle\r\n",
       "\r\n",
       "package \"ParameterTest\" as E1  [[psysml:a676bd1d-a902-490f-aa39-52389ae12c12 ]]  {\r\n",
       "comp def \"A\" as E2  <<(T,blue) attribute def>> [[psysml:da28d9c5-e66b-4d93-bbca-9dea65a864c0 ]] {\r\n",
       "- - attributes - -\r\n",
       "x: String\r\n",
       "y: A\r\n",
       "}\r\n",
       "comp usage \"a: A\" as E3  <<(T,blue) attribute>> [[psysml:8df57e9c-49a1-414c-8fdd-827b36a310a4 ]] {\r\n",
       "}\r\n",
       "comp def \"F\" as E4  <<(T,blue) calculation def>> [[psysml:40a467ef-e18b-46ff-840a-6dc079db3448 ]] {\r\n",
       "}\r\n",
       "comp usage \"f\" as E5  <<(T,blue) attribute>> [[psysml:2237367a-6968-472a-8f6b-3570950aa6b8 ]] {\r\n",
       "}\r\n",
       "comp usage \"g\" as E6  <<(T,blue) attribute>> [[psysml:b8cf583e-a2e4-421e-986b-a2654bc5da1a ]] {\r\n",
       "}\r\n",
       "comp usage \"b\" as E7  <<(T,blue) attribute>> [[psysml:0aa11811-cac3-458e-8be5-17e4f08795b7 ]] {\r\n",
       "}\r\n",
       "comp usage \"c\" as E8  <<(T,blue) attribute>> [[psysml:4713065a-36eb-4143-8ed6-c41cfc39d881 ]] {\r\n",
       "}\r\n",
       "}\r\n",
       "E3 - -:|> E2 [[psysml:0b532ab9-83c4-4e75-92c6-eb24823a8b5d ]] \r\n",
       "E4 o- - E2 [[psysml:5802290c-01bb-4d71-b710-026b61c78f11 ]] : p\r\n",
       "@enduml\r\n",
       "\n",
       "PlantUML version 1.2020.13(Sat Jun 13 12:26:38 UTC 2020)\n",
       "(EPL source distribution)\n",
       "Java Runtime: OpenJDK Runtime Environment\n",
       "JVM: OpenJDK 64-Bit Server VM\n",
       "Default Encoding: UTF-8\n",
       "Language: en\n",
       "Country: null\n",
       "--></g></svg>"
      ]
     },
     "execution_count": 10,
     "metadata": {},
     "output_type": "execute_result"
    }
   ],
   "source": [
    "%viz --style=\"POLYLINE\" --view=\"Tree\" \"ParameterTest\""
   ]
  },
  {
   "cell_type": "code",
   "execution_count": 11,
   "id": "1f5a9c81",
   "metadata": {
    "execution": {
     "iopub.execute_input": "2021-10-03T08:28:24.681047Z",
     "iopub.status.busy": "2021-10-03T08:28:24.680644Z",
     "iopub.status.idle": "2021-10-03T08:28:24.686815Z",
     "shell.execute_reply": "2021-10-03T08:28:24.687125Z"
    }
   },
   "outputs": [
    {
     "data": {
      "image/svg+xml": [
       "<?xml version=\"1.0\" encoding=\"UTF-8\" standalone=\"no\"?><svg xmlns=\"http://www.w3.org/2000/svg\" xmlns:xlink=\"http://www.w3.org/1999/xlink\" contentScriptType=\"application/ecmascript\" contentStyleType=\"text/css\" height=\"12px\" preserveAspectRatio=\"none\" style=\"width:12px;height:12px;\" version=\"1.1\" viewBox=\"0 0 12 12\" width=\"12px\" zoomAndPan=\"magnify\"><defs/><g><!--MD5=[896ac0e7a515d8dd7765a661cb4ee08b]\n",
       "@startuml\r\n",
       "skinparam linetype polyline\r\n",
       "skinparam monochrome true\r\n",
       "skinparam classbackgroundcolor white\r\n",
       "skinparam shadowing false\r\n",
       "skinparam wrapWidth 300\r\n",
       "hide circle\r\n",
       "\r\n",
       "@enduml\r\n",
       "\n",
       "PlantUML version 1.2020.13(Sat Jun 13 12:26:38 UTC 2020)\n",
       "(EPL source distribution)\n",
       "Java Runtime: OpenJDK Runtime Environment\n",
       "JVM: OpenJDK 64-Bit Server VM\n",
       "Default Encoding: UTF-8\n",
       "Language: en\n",
       "Country: null\n",
       "--></g></svg>"
      ]
     },
     "execution_count": 11,
     "metadata": {},
     "output_type": "execute_result"
    }
   ],
   "source": [
    "%viz --style=\"POLYLINE\" --view=\"State\" \"ParameterTest\""
   ]
  },
  {
   "cell_type": "code",
   "execution_count": 12,
   "id": "7848ee11",
   "metadata": {
    "execution": {
     "iopub.execute_input": "2021-10-03T08:28:24.736996Z",
     "iopub.status.busy": "2021-10-03T08:28:24.736590Z",
     "iopub.status.idle": "2021-10-03T08:28:24.779070Z",
     "shell.execute_reply": "2021-10-03T08:28:24.778736Z"
    }
   },
   "outputs": [
    {
     "data": {
      "image/svg+xml": [
       "<?xml version=\"1.0\" encoding=\"UTF-8\" standalone=\"no\"?><svg xmlns=\"http://www.w3.org/2000/svg\" xmlns:xlink=\"http://www.w3.org/1999/xlink\" contentScriptType=\"application/ecmascript\" contentStyleType=\"text/css\" height=\"216px\" preserveAspectRatio=\"none\" style=\"width:740px;height:216px;\" version=\"1.1\" viewBox=\"0 0 740 216\" width=\"740px\" zoomAndPan=\"magnify\"><defs/><g><!--MD5=[fbc87193dbaf4d95561dea2c320d4a47]\n",
       "cluster E1--><a href=\"psysml:a676bd1d-a902-490f-aa39-52389ae12c12\" target=\"_top\" title=\"psysml:a676bd1d-a902-490f-aa39-52389ae12c12\" xlink:actuate=\"onRequest\" xlink:href=\"psysml:a676bd1d-a902-490f-aa39-52389ae12c12\" xlink:show=\"new\" xlink:title=\"psysml:a676bd1d-a902-490f-aa39-52389ae12c12\" xlink:type=\"simple\"><polygon fill=\"#FFFFFF\" points=\"16,6,124,6,131,28.2969,718,28.2969,718,204.72,16,204.72,16,6\" style=\"stroke: #000000; stroke-width: 1.5;\"/><line style=\"stroke: #000000; stroke-width: 1.5;\" x1=\"16\" x2=\"131\" y1=\"28.2969\" y2=\"28.2969\"/><text fill=\"#000000\" font-family=\"sans-serif\" font-size=\"14\" font-weight=\"bold\" lengthAdjust=\"spacingAndGlyphs\" textLength=\"102\" x=\"20\" y=\"20.9951\">ParameterTest</text></a><!--MD5=[f6df4d0ebaf0b5dfb2ced0ae5af7c670]\n",
       "cluster E4--><a href=\"psysml:40a467ef-e18b-46ff-840a-6dc079db3448\" target=\"_top\" title=\"psysml:40a467ef-e18b-46ff-840a-6dc079db3448\" xlink:actuate=\"onRequest\" xlink:href=\"psysml:40a467ef-e18b-46ff-840a-6dc079db3448\" xlink:show=\"new\" xlink:title=\"psysml:40a467ef-e18b-46ff-840a-6dc079db3448\" xlink:type=\"simple\"><rect fill=\"#FFFFFF\" height=\"110.72\" id=\"E4\" style=\"stroke: #383838; stroke-width: 1.5;\" width=\"148\" x=\"554\" y=\"64\"/><rect fill=\"#F8F8F8\" height=\"37.9375\" style=\"stroke: #383838; stroke-width: 1.5;\" width=\"148\" x=\"554\" y=\"64\"/><text fill=\"#000000\" font-family=\"sans-serif\" font-size=\"12\" font-style=\"italic\" lengthAdjust=\"spacingAndGlyphs\" textLength=\"106\" x=\"575\" y=\"80.1387\">«calculation def»</text><text fill=\"#000000\" font-family=\"sans-serif\" font-size=\"12\" lengthAdjust=\"spacingAndGlyphs\" textLength=\"7\" x=\"624.5\" y=\"94.1074\">F</text></a><g id=\"E1.E2\"><a href=\"psysml:da28d9c5-e66b-4d93-bbca-9dea65a864c0\" target=\"_top\" title=\"psysml:da28d9c5-e66b-4d93-bbca-9dea65a864c0\" xlink:actuate=\"onRequest\" xlink:href=\"psysml:da28d9c5-e66b-4d93-bbca-9dea65a864c0\" xlink:show=\"new\" xlink:title=\"psysml:da28d9c5-e66b-4d93-bbca-9dea65a864c0\" xlink:type=\"simple\"><rect fill=\"#FFFFFF\" height=\"42.9375\" id=\"E2\" style=\"stroke: #383838; stroke-width: 1.5;\" width=\"100\" x=\"417\" y=\"99\"/><rect fill=\"#F8F8F8\" height=\"37.9375\" style=\"stroke: #383838; stroke-width: 1.5;\" width=\"100\" x=\"417\" y=\"99\"/><text fill=\"#000000\" font-family=\"sans-serif\" font-size=\"12\" font-style=\"italic\" lengthAdjust=\"spacingAndGlyphs\" textLength=\"93\" x=\"420.5\" y=\"115.1387\">«attribute def»</text><text fill=\"#000000\" font-family=\"sans-serif\" font-size=\"12\" lengthAdjust=\"spacingAndGlyphs\" textLength=\"8\" x=\"463\" y=\"129.1074\">A</text></a></g><!--MD5=[09b614a08d8cba4a07c9adeb5e0fee81]\n",
       "class E3--><a href=\"psysml:8df57e9c-49a1-414c-8fdd-827b36a310a4\" target=\"_top\" title=\"psysml:8df57e9c-49a1-414c-8fdd-827b36a310a4\" xlink:actuate=\"onRequest\" xlink:href=\"psysml:8df57e9c-49a1-414c-8fdd-827b36a310a4\" xlink:show=\"new\" xlink:title=\"psysml:8df57e9c-49a1-414c-8fdd-827b36a310a4\" xlink:type=\"simple\"><rect fill=\"#FFFFFF\" height=\"45.9375\" id=\"E3\" rx=\"10\" ry=\"10\" style=\"stroke: #383838; stroke-width: 1.5;\" width=\"71\" x=\"456.5\" y=\"41\"/><text fill=\"#000000\" font-family=\"sans-serif\" font-size=\"12\" font-style=\"italic\" lengthAdjust=\"spacingAndGlyphs\" textLength=\"69\" x=\"457.5\" y=\"57.1387\">«attribute»</text><text fill=\"#000000\" font-family=\"sans-serif\" font-size=\"12\" lengthAdjust=\"spacingAndGlyphs\" textLength=\"24\" x=\"480\" y=\"71.1074\">a: A</text><line style=\"stroke: #383838; stroke-width: 1.5;\" x1=\"457.5\" x2=\"526.5\" y1=\"78.9375\" y2=\"78.9375\"/></a><!--MD5=[b9389687b975829384b498ac4b7476b2]\n",
       "class E8--><a href=\"psysml:2237367a-6968-472a-8f6b-3570950aa6b8\" target=\"_top\" title=\"psysml:2237367a-6968-472a-8f6b-3570950aa6b8\" xlink:actuate=\"onRequest\" xlink:href=\"psysml:2237367a-6968-472a-8f6b-3570950aa6b8\" xlink:show=\"new\" xlink:title=\"psysml:2237367a-6968-472a-8f6b-3570950aa6b8\" xlink:type=\"simple\"><rect fill=\"#FFFFFF\" height=\"45.9375\" id=\"E8\" rx=\"10\" ry=\"10\" style=\"stroke: #383838; stroke-width: 1.5;\" width=\"71\" x=\"350.5\" y=\"41\"/><text fill=\"#000000\" font-family=\"sans-serif\" font-size=\"12\" font-style=\"italic\" lengthAdjust=\"spacingAndGlyphs\" textLength=\"69\" x=\"351.5\" y=\"57.1387\">«attribute»</text><text fill=\"#000000\" font-family=\"sans-serif\" font-size=\"12\" lengthAdjust=\"spacingAndGlyphs\" textLength=\"4\" x=\"384\" y=\"71.1074\">f</text><line style=\"stroke: #383838; stroke-width: 1.5;\" x1=\"351.5\" x2=\"420.5\" y1=\"78.9375\" y2=\"78.9375\"/></a><!--MD5=[fd4143e9d270a159db93a4ea2a975926]\n",
       "class E9--><a href=\"psysml:b8cf583e-a2e4-421e-986b-a2654bc5da1a\" target=\"_top\" title=\"psysml:b8cf583e-a2e4-421e-986b-a2654bc5da1a\" xlink:actuate=\"onRequest\" xlink:href=\"psysml:b8cf583e-a2e4-421e-986b-a2654bc5da1a\" xlink:show=\"new\" xlink:title=\"psysml:b8cf583e-a2e4-421e-986b-a2654bc5da1a\" xlink:type=\"simple\"><rect fill=\"#FFFFFF\" height=\"45.9375\" id=\"E9\" rx=\"10\" ry=\"10\" style=\"stroke: #383838; stroke-width: 1.5;\" width=\"71\" x=\"244.5\" y=\"41\"/><text fill=\"#000000\" font-family=\"sans-serif\" font-size=\"12\" font-style=\"italic\" lengthAdjust=\"spacingAndGlyphs\" textLength=\"69\" x=\"245.5\" y=\"57.1387\">«attribute»</text><text fill=\"#000000\" font-family=\"sans-serif\" font-size=\"12\" lengthAdjust=\"spacingAndGlyphs\" textLength=\"8\" x=\"276\" y=\"71.1074\">g</text><line style=\"stroke: #383838; stroke-width: 1.5;\" x1=\"245.5\" x2=\"314.5\" y1=\"78.9375\" y2=\"78.9375\"/></a><!--MD5=[96f4274e9e20536e775497830990834d]\n",
       "class E10--><a href=\"psysml:0aa11811-cac3-458e-8be5-17e4f08795b7\" target=\"_top\" title=\"psysml:0aa11811-cac3-458e-8be5-17e4f08795b7\" xlink:actuate=\"onRequest\" xlink:href=\"psysml:0aa11811-cac3-458e-8be5-17e4f08795b7\" xlink:show=\"new\" xlink:title=\"psysml:0aa11811-cac3-458e-8be5-17e4f08795b7\" xlink:type=\"simple\"><rect fill=\"#FFFFFF\" height=\"45.9375\" id=\"E10\" rx=\"10\" ry=\"10\" style=\"stroke: #383838; stroke-width: 1.5;\" width=\"71\" x=\"138.5\" y=\"41\"/><text fill=\"#000000\" font-family=\"sans-serif\" font-size=\"12\" font-style=\"italic\" lengthAdjust=\"spacingAndGlyphs\" textLength=\"69\" x=\"139.5\" y=\"57.1387\">«attribute»</text><text fill=\"#000000\" font-family=\"sans-serif\" font-size=\"12\" lengthAdjust=\"spacingAndGlyphs\" textLength=\"8\" x=\"170\" y=\"71.1074\">b</text><line style=\"stroke: #383838; stroke-width: 1.5;\" x1=\"139.5\" x2=\"208.5\" y1=\"78.9375\" y2=\"78.9375\"/></a><!--MD5=[1dd1bfd58a279cf63c5f349dbc8fc6a1]\n",
       "class E11--><a href=\"psysml:4713065a-36eb-4143-8ed6-c41cfc39d881\" target=\"_top\" title=\"psysml:4713065a-36eb-4143-8ed6-c41cfc39d881\" xlink:actuate=\"onRequest\" xlink:href=\"psysml:4713065a-36eb-4143-8ed6-c41cfc39d881\" xlink:show=\"new\" xlink:title=\"psysml:4713065a-36eb-4143-8ed6-c41cfc39d881\" xlink:type=\"simple\"><rect fill=\"#FFFFFF\" height=\"45.9375\" id=\"E11\" rx=\"10\" ry=\"10\" style=\"stroke: #383838; stroke-width: 1.5;\" width=\"71\" x=\"32.5\" y=\"41\"/><text fill=\"#000000\" font-family=\"sans-serif\" font-size=\"12\" font-style=\"italic\" lengthAdjust=\"spacingAndGlyphs\" textLength=\"69\" x=\"33.5\" y=\"57.1387\">«attribute»</text><text fill=\"#000000\" font-family=\"sans-serif\" font-size=\"12\" lengthAdjust=\"spacingAndGlyphs\" textLength=\"7\" x=\"64.5\" y=\"71.1074\">c</text><line style=\"stroke: #383838; stroke-width: 1.5;\" x1=\"33.5\" x2=\"102.5\" y1=\"78.9375\" y2=\"78.9375\"/></a><text fill=\"#000000\" font-family=\"sans-serif\" font-size=\"14\" lengthAdjust=\"spacingAndGlyphs\" textLength=\"9\" x=\"567.5\" y=\"42.6982\">p</text><rect fill=\"#383838\" height=\"12\" style=\"stroke: #F8F8F8; stroke-width: 1.5;\" width=\"12\" x=\"566\" y=\"58\"/><text fill=\"#000000\" font-family=\"sans-serif\" font-size=\"14\" lengthAdjust=\"spacingAndGlyphs\" textLength=\"9\" x=\"614.5\" y=\"42.6982\">q</text><rect fill=\"#383838\" height=\"12\" style=\"stroke: #F8F8F8; stroke-width: 1.5;\" width=\"12\" x=\"613\" y=\"58\"/><text fill=\"#000000\" font-family=\"sans-serif\" font-size=\"14\" lengthAdjust=\"spacingAndGlyphs\" textLength=\"39\" x=\"599.5\" y=\"193.7151\">result</text><rect fill=\"#383838\" height=\"12\" style=\"stroke: #F8F8F8; stroke-width: 1.5;\" width=\"12\" x=\"613\" y=\"168.72\"/><!--MD5=[05d275557350bfb9b23a4ef7222b4c39]\n",
       "link E3 to E2--><a href=\"psysml:0b532ab9-83c4-4e75-92c6-eb24823a8b5d\" target=\"_top\" title=\"psysml:0b532ab9-83c4-4e75-92c6-eb24823a8b5d\" xlink:actuate=\"onRequest\" xlink:href=\"psysml:0b532ab9-83c4-4e75-92c6-eb24823a8b5d\" xlink:show=\"new\" xlink:title=\"psysml:0b532ab9-83c4-4e75-92c6-eb24823a8b5d\" xlink:type=\"simple\"><path d=\"M481.83,87.17 C481.78,87.29 481.72,87.41 481.66,87.53 \" fill=\"none\" id=\"E3-&gt;E2\" style=\"stroke: #383838; stroke-width: 1.0;\"/><polygon fill=\"#FFFFFF\" points=\"476.43,98.93,477.977,78.7407,490.7056,84.5701,476.43,98.93\" style=\"stroke: #383838; stroke-width: 1.0;\"/><ellipse cx=\"482.1687\" cy=\"74.3911\" fill=\"#383838\" rx=\"2\" ry=\"2\" style=\"stroke: #383838; stroke-width: 1.0;\"/><ellipse cx=\"491.2606\" cy=\"78.555\" fill=\"#383838\" rx=\"2\" ry=\"2\" style=\"stroke: #383838; stroke-width: 1.0;\"/></a><!--MD5=[0ee9ebd337c67b848963f67edc1319d7]\n",
       "@startuml\r\n",
       "skinparam ranksep 10\r\n",
       "skinparam rectangle {\r\n",
       " backgroundColor<<block>> LightGreen\r\n",
       "}\r\n",
       "skinparam linetype polyline\r\n",
       "skinparam monochrome true\r\n",
       "skinparam classbackgroundcolor white\r\n",
       "skinparam shadowing false\r\n",
       "skinparam wrapWidth 300\r\n",
       "hide circle\r\n",
       "\r\n",
       "package \"ParameterTest\" as E1  [[psysml:a676bd1d-a902-490f-aa39-52389ae12c12 ]]  {\r\n",
       "def \"A\" as E2  <<(T,blue) attribute def>> [[psysml:da28d9c5-e66b-4d93-bbca-9dea65a864c0 ]] \r\n",
       "comp usage \"a: A\" as E3  <<(T,blue) attribute>> [[psysml:8df57e9c-49a1-414c-8fdd-827b36a310a4 ]] {\r\n",
       "}\r\n",
       "rec def \"F\" as E4  <<(T,blue) calculation def>> [[psysml:40a467ef-e18b-46ff-840a-6dc079db3448 ]] {\r\n",
       "portin \"p\" as E5  [[psysml:5802290c-01bb-4d71-b710-026b61c78f11 ]] \r\n",
       "portin \"q\" as E6  [[psysml:197907df-8789-46a9-bbed-d5f940e1c2ab ]] \r\n",
       "portout \"result\" as E7  [[psysml:e7c52caa-c6a6-4daa-b328-953e2590a8bc ]] \r\n",
       "}\r\n",
       "\r\n",
       "comp usage \"f\" as E8  <<(T,blue) attribute>> [[psysml:2237367a-6968-472a-8f6b-3570950aa6b8 ]] {\r\n",
       "}\r\n",
       "comp usage \"g\" as E9  <<(T,blue) attribute>> [[psysml:b8cf583e-a2e4-421e-986b-a2654bc5da1a ]] {\r\n",
       "}\r\n",
       "comp usage \"b\" as E10  <<(T,blue) attribute>> [[psysml:0aa11811-cac3-458e-8be5-17e4f08795b7 ]] {\r\n",
       "}\r\n",
       "comp usage \"c\" as E11  <<(T,blue) attribute>> [[psysml:4713065a-36eb-4143-8ed6-c41cfc39d881 ]] {\r\n",
       "}\r\n",
       "}\r\n",
       "E3 - -:|> E2 [[psysml:0b532ab9-83c4-4e75-92c6-eb24823a8b5d ]] \r\n",
       "@enduml\r\n",
       "\n",
       "PlantUML version 1.2020.13(Sat Jun 13 12:26:38 UTC 2020)\n",
       "(EPL source distribution)\n",
       "Java Runtime: OpenJDK Runtime Environment\n",
       "JVM: OpenJDK 64-Bit Server VM\n",
       "Default Encoding: UTF-8\n",
       "Language: en\n",
       "Country: null\n",
       "--></g></svg>"
      ]
     },
     "execution_count": 12,
     "metadata": {},
     "output_type": "execute_result"
    }
   ],
   "source": [
    "%viz --style=\"POLYLINE\" --view=\"Interconnection\" \"ParameterTest\""
   ]
  },
  {
   "cell_type": "code",
   "execution_count": 13,
   "id": "4a445eaa",
   "metadata": {
    "execution": {
     "iopub.execute_input": "2021-10-03T08:28:24.828594Z",
     "iopub.status.busy": "2021-10-03T08:28:24.828185Z",
     "iopub.status.idle": "2021-10-03T08:28:24.854649Z",
     "shell.execute_reply": "2021-10-03T08:28:24.855083Z"
    }
   },
   "outputs": [
    {
     "data": {
      "image/svg+xml": [
       "<?xml version=\"1.0\" encoding=\"UTF-8\" standalone=\"no\"?><svg xmlns=\"http://www.w3.org/2000/svg\" xmlns:xlink=\"http://www.w3.org/1999/xlink\" contentScriptType=\"application/ecmascript\" contentStyleType=\"text/css\" height=\"162px\" preserveAspectRatio=\"none\" style=\"width:166px;height:162px;\" version=\"1.1\" viewBox=\"0 0 166 162\" width=\"166px\" zoomAndPan=\"magnify\"><defs/><g><!--MD5=[fbc87193dbaf4d95561dea2c320d4a47]\n",
       "cluster E1--><a href=\"psysml:40a467ef-e18b-46ff-840a-6dc079db3448\" target=\"_top\" title=\"psysml:40a467ef-e18b-46ff-840a-6dc079db3448\" xlink:actuate=\"onRequest\" xlink:href=\"psysml:40a467ef-e18b-46ff-840a-6dc079db3448\" xlink:show=\"new\" xlink:title=\"psysml:40a467ef-e18b-46ff-840a-6dc079db3448\" xlink:type=\"simple\"><rect fill=\"#FFFFFF\" height=\"87.72\" id=\"E1\" style=\"stroke: #383838; stroke-width: 1.5;\" width=\"148\" x=\"7\" y=\"42.0986\"/><rect fill=\"#F8F8F8\" height=\"37.9375\" style=\"stroke: #383838; stroke-width: 1.5;\" width=\"148\" x=\"7\" y=\"42.0986\"/><text fill=\"#000000\" font-family=\"sans-serif\" font-size=\"12\" font-style=\"italic\" lengthAdjust=\"spacingAndGlyphs\" textLength=\"106\" x=\"28\" y=\"58.2373\">«calculation def»</text><text fill=\"#000000\" font-family=\"sans-serif\" font-size=\"12\" lengthAdjust=\"spacingAndGlyphs\" textLength=\"7\" x=\"77.5\" y=\"72.2061\">F</text></a><text fill=\"#000000\" font-family=\"sans-serif\" font-size=\"14\" lengthAdjust=\"spacingAndGlyphs\" textLength=\"9\" x=\"20.5\" y=\"20.7969\">p</text><rect fill=\"#383838\" height=\"12\" style=\"stroke: #F8F8F8; stroke-width: 1.5;\" width=\"12\" x=\"19\" y=\"36.0986\"/><text fill=\"#000000\" font-family=\"sans-serif\" font-size=\"14\" lengthAdjust=\"spacingAndGlyphs\" textLength=\"9\" x=\"67.5\" y=\"20.7969\">q</text><rect fill=\"#383838\" height=\"12\" style=\"stroke: #F8F8F8; stroke-width: 1.5;\" width=\"12\" x=\"66\" y=\"36.0986\"/><text fill=\"#000000\" font-family=\"sans-serif\" font-size=\"14\" lengthAdjust=\"spacingAndGlyphs\" textLength=\"39\" x=\"52.5\" y=\"148.8138\">result</text><rect fill=\"#383838\" height=\"12\" style=\"stroke: #F8F8F8; stroke-width: 1.5;\" width=\"12\" x=\"66\" y=\"123.8186\"/><!--MD5=[f1fdae422d826f08fe86e107adf6d191]\n",
       "@startuml\r\n",
       "skinparam ranksep 8\r\n",
       "skinparam linetype polyline\r\n",
       "skinparam monochrome true\r\n",
       "skinparam classbackgroundcolor white\r\n",
       "skinparam shadowing false\r\n",
       "skinparam wrapWidth 300\r\n",
       "hide circle\r\n",
       "\r\n",
       "rec def \"F\" as E1  <<(T,blue) calculation def>> [[psysml:40a467ef-e18b-46ff-840a-6dc079db3448 ]] {\r\n",
       "portin \"p\" as E2  [[psysml:5802290c-01bb-4d71-b710-026b61c78f11 ]] \r\n",
       "portin \"q\" as E3  [[psysml:197907df-8789-46a9-bbed-d5f940e1c2ab ]] \r\n",
       "portout \"result\" as E4  [[psysml:e7c52caa-c6a6-4daa-b328-953e2590a8bc ]] \r\n",
       "}\r\n",
       "\r\n",
       "@enduml\r\n",
       "\n",
       "PlantUML version 1.2020.13(Sat Jun 13 12:26:38 UTC 2020)\n",
       "(EPL source distribution)\n",
       "Java Runtime: OpenJDK Runtime Environment\n",
       "JVM: OpenJDK 64-Bit Server VM\n",
       "Default Encoding: UTF-8\n",
       "Language: en\n",
       "Country: null\n",
       "--></g></svg>"
      ]
     },
     "execution_count": 13,
     "metadata": {},
     "output_type": "execute_result"
    }
   ],
   "source": [
    "%viz --style=\"POLYLINE\" --view=\"Action\" \"ParameterTest\""
   ]
  },
  {
   "cell_type": "code",
   "execution_count": 14,
   "id": "6ade6a91",
   "metadata": {
    "execution": {
     "iopub.execute_input": "2021-10-03T08:28:24.904583Z",
     "iopub.status.busy": "2021-10-03T08:28:24.904162Z",
     "iopub.status.idle": "2021-10-03T08:28:24.912262Z",
     "shell.execute_reply": "2021-10-03T08:28:24.912575Z"
    }
   },
   "outputs": [
    {
     "data": {
      "image/svg+xml": [
       "<?xml version=\"1.0\" encoding=\"UTF-8\" standalone=\"no\"?><svg xmlns=\"http://www.w3.org/2000/svg\" xmlns:xlink=\"http://www.w3.org/1999/xlink\" contentScriptType=\"application/ecmascript\" contentStyleType=\"text/css\" height=\"12px\" preserveAspectRatio=\"none\" style=\"width:12px;height:12px;\" version=\"1.1\" viewBox=\"0 0 12 12\" width=\"12px\" zoomAndPan=\"magnify\"><defs/><g><!--MD5=[dc938048236c351797870c36b62f92ad]\n",
       "@startuml\r\n",
       "skinparam roundcorner 20\r\n",
       "skinparam BoxPadding 20\r\n",
       "skinparam SequenceBoxBackgroundColor #white\r\n",
       "skinparam style strictuml\r\n",
       "skinparam maxMessageSize 100\r\n",
       "skinparam linetype polyline\r\n",
       "skinparam monochrome true\r\n",
       "skinparam classbackgroundcolor white\r\n",
       "skinparam shadowing false\r\n",
       "skinparam wrapWidth 300\r\n",
       "hide circle\r\n",
       "\r\n",
       "@enduml\r\n",
       "\n",
       "PlantUML version 1.2020.13(Sat Jun 13 12:26:38 UTC 2020)\n",
       "(EPL source distribution)\n",
       "Java Runtime: OpenJDK Runtime Environment\n",
       "JVM: OpenJDK 64-Bit Server VM\n",
       "Default Encoding: UTF-8\n",
       "Language: en\n",
       "Country: null\n",
       "--></g></svg>"
      ]
     },
     "execution_count": 14,
     "metadata": {},
     "output_type": "execute_result"
    }
   ],
   "source": [
    "%viz --style=\"POLYLINE\" --view=\"Sequence\" \"ParameterTest\""
   ]
  },
  {
   "cell_type": "code",
   "execution_count": 15,
   "id": "c724e624",
   "metadata": {
    "execution": {
     "iopub.execute_input": "2021-10-03T08:28:24.962356Z",
     "iopub.status.busy": "2021-10-03T08:28:24.961964Z",
     "iopub.status.idle": "2021-10-03T08:28:25.023351Z",
     "shell.execute_reply": "2021-10-03T08:28:25.022998Z"
    }
   },
   "outputs": [
    {
     "data": {
      "image/svg+xml": [
       "<?xml version=\"1.0\" encoding=\"UTF-8\" standalone=\"no\"?><svg xmlns=\"http://www.w3.org/2000/svg\" xmlns:xlink=\"http://www.w3.org/1999/xlink\" contentScriptType=\"application/ecmascript\" contentStyleType=\"text/css\" height=\"403px\" preserveAspectRatio=\"none\" style=\"width:740px;height:403px;\" version=\"1.1\" viewBox=\"0 0 740 403\" width=\"740px\" zoomAndPan=\"magnify\"><defs/><g><!--MD5=[fbc87193dbaf4d95561dea2c320d4a47]\n",
       "cluster E1--><a href=\"psysml:a676bd1d-a902-490f-aa39-52389ae12c12\" target=\"_top\" title=\"psysml:a676bd1d-a902-490f-aa39-52389ae12c12\" xlink:actuate=\"onRequest\" xlink:href=\"psysml:a676bd1d-a902-490f-aa39-52389ae12c12\" xlink:show=\"new\" xlink:title=\"psysml:a676bd1d-a902-490f-aa39-52389ae12c12\" xlink:type=\"simple\"><polygon fill=\"#FFFFFF\" points=\"16,6,124,6,131,28.2969,718,28.2969,718,391.72,16,391.72,16,6\" style=\"stroke: #000000; stroke-width: 1.5;\"/><line style=\"stroke: #000000; stroke-width: 1.5;\" x1=\"16\" x2=\"131\" y1=\"28.2969\" y2=\"28.2969\"/><text fill=\"#000000\" font-family=\"sans-serif\" font-size=\"14\" font-weight=\"bold\" lengthAdjust=\"spacingAndGlyphs\" textLength=\"102\" x=\"20\" y=\"20.9951\">ParameterTest</text></a><!--MD5=[f6df4d0ebaf0b5dfb2ced0ae5af7c670]\n",
       "cluster E4--><a href=\"psysml:40a467ef-e18b-46ff-840a-6dc079db3448\" target=\"_top\" title=\"psysml:40a467ef-e18b-46ff-840a-6dc079db3448\" xlink:actuate=\"onRequest\" xlink:href=\"psysml:40a467ef-e18b-46ff-840a-6dc079db3448\" xlink:show=\"new\" xlink:title=\"psysml:40a467ef-e18b-46ff-840a-6dc079db3448\" xlink:type=\"simple\"><rect fill=\"#FFFFFF\" height=\"297.72\" id=\"E4\" style=\"stroke: #383838; stroke-width: 1.5;\" width=\"148\" x=\"554\" y=\"64\"/><rect fill=\"#F8F8F8\" height=\"37.9375\" style=\"stroke: #383838; stroke-width: 1.5;\" width=\"148\" x=\"554\" y=\"64\"/><text fill=\"#000000\" font-family=\"sans-serif\" font-size=\"12\" font-style=\"italic\" lengthAdjust=\"spacingAndGlyphs\" textLength=\"106\" x=\"575\" y=\"80.1387\">«calculation def»</text><text fill=\"#000000\" font-family=\"sans-serif\" font-size=\"12\" lengthAdjust=\"spacingAndGlyphs\" textLength=\"7\" x=\"624.5\" y=\"94.1074\">F</text></a><!--MD5=[b4997ac47864f28c2f74865a473b2911]\n",
       "class E2--><a href=\"psysml:da28d9c5-e66b-4d93-bbca-9dea65a864c0\" target=\"_top\" title=\"psysml:da28d9c5-e66b-4d93-bbca-9dea65a864c0\" xlink:actuate=\"onRequest\" xlink:href=\"psysml:da28d9c5-e66b-4d93-bbca-9dea65a864c0\" xlink:show=\"new\" xlink:title=\"psysml:da28d9c5-e66b-4d93-bbca-9dea65a864c0\" xlink:type=\"simple\"><rect fill=\"#FFFFFF\" height=\"88.3516\" id=\"E2\" style=\"stroke: #383838; stroke-width: 1.5;\" width=\"95\" x=\"422.5\" y=\"147\"/><text fill=\"#000000\" font-family=\"sans-serif\" font-size=\"12\" font-style=\"italic\" lengthAdjust=\"spacingAndGlyphs\" textLength=\"93\" x=\"423.5\" y=\"163.1387\">«attribute def»</text><text fill=\"#000000\" font-family=\"sans-serif\" font-size=\"12\" lengthAdjust=\"spacingAndGlyphs\" textLength=\"8\" x=\"466\" y=\"177.1074\">A</text><line style=\"stroke: #383838; stroke-width: 1.5;\" x1=\"423.5\" x2=\"516.5\" y1=\"184.9375\" y2=\"184.9375\"/><text fill=\"#000000\" font-family=\"sans-serif\" font-size=\"11\" lengthAdjust=\"spacingAndGlyphs\" textLength=\"48\" x=\"428.5\" y=\"215.9526\">x: String</text><text fill=\"#000000\" font-family=\"sans-serif\" font-size=\"11\" lengthAdjust=\"spacingAndGlyphs\" textLength=\"21\" x=\"428.5\" y=\"228.7573\">y: A</text><line style=\"stroke: #383838; stroke-width: 1.0;\" x1=\"423.5\" x2=\"442.5\" y1=\"199.3398\" y2=\"199.3398\"/><text fill=\"#000000\" font-family=\"sans-serif\" font-size=\"11\" lengthAdjust=\"spacingAndGlyphs\" textLength=\"55\" x=\"442.5\" y=\"202.6479\">attributes</text><line style=\"stroke: #383838; stroke-width: 1.0;\" x1=\"497.5\" x2=\"516.5\" y1=\"199.3398\" y2=\"199.3398\"/></a><!--MD5=[09b614a08d8cba4a07c9adeb5e0fee81]\n",
       "class E3--><a href=\"psysml:8df57e9c-49a1-414c-8fdd-827b36a310a4\" target=\"_top\" title=\"psysml:8df57e9c-49a1-414c-8fdd-827b36a310a4\" xlink:actuate=\"onRequest\" xlink:href=\"psysml:8df57e9c-49a1-414c-8fdd-827b36a310a4\" xlink:show=\"new\" xlink:title=\"psysml:8df57e9c-49a1-414c-8fdd-827b36a310a4\" xlink:type=\"simple\"><rect fill=\"#FFFFFF\" height=\"45.9375\" id=\"E3\" rx=\"10\" ry=\"10\" style=\"stroke: #383838; stroke-width: 1.5;\" width=\"71\" x=\"456.5\" y=\"41\"/><text fill=\"#000000\" font-family=\"sans-serif\" font-size=\"12\" font-style=\"italic\" lengthAdjust=\"spacingAndGlyphs\" textLength=\"69\" x=\"457.5\" y=\"57.1387\">«attribute»</text><text fill=\"#000000\" font-family=\"sans-serif\" font-size=\"12\" lengthAdjust=\"spacingAndGlyphs\" textLength=\"24\" x=\"480\" y=\"71.1074\">a: A</text><line style=\"stroke: #383838; stroke-width: 1.5;\" x1=\"457.5\" x2=\"526.5\" y1=\"78.9375\" y2=\"78.9375\"/></a><!--MD5=[b9389687b975829384b498ac4b7476b2]\n",
       "class E8--><a href=\"psysml:2237367a-6968-472a-8f6b-3570950aa6b8\" target=\"_top\" title=\"psysml:2237367a-6968-472a-8f6b-3570950aa6b8\" xlink:actuate=\"onRequest\" xlink:href=\"psysml:2237367a-6968-472a-8f6b-3570950aa6b8\" xlink:show=\"new\" xlink:title=\"psysml:2237367a-6968-472a-8f6b-3570950aa6b8\" xlink:type=\"simple\"><rect fill=\"#FFFFFF\" height=\"45.9375\" id=\"E8\" rx=\"10\" ry=\"10\" style=\"stroke: #383838; stroke-width: 1.5;\" width=\"71\" x=\"350.5\" y=\"41\"/><text fill=\"#000000\" font-family=\"sans-serif\" font-size=\"12\" font-style=\"italic\" lengthAdjust=\"spacingAndGlyphs\" textLength=\"69\" x=\"351.5\" y=\"57.1387\">«attribute»</text><text fill=\"#000000\" font-family=\"sans-serif\" font-size=\"12\" lengthAdjust=\"spacingAndGlyphs\" textLength=\"4\" x=\"384\" y=\"71.1074\">f</text><line style=\"stroke: #383838; stroke-width: 1.5;\" x1=\"351.5\" x2=\"420.5\" y1=\"78.9375\" y2=\"78.9375\"/></a><!--MD5=[fd4143e9d270a159db93a4ea2a975926]\n",
       "class E9--><a href=\"psysml:b8cf583e-a2e4-421e-986b-a2654bc5da1a\" target=\"_top\" title=\"psysml:b8cf583e-a2e4-421e-986b-a2654bc5da1a\" xlink:actuate=\"onRequest\" xlink:href=\"psysml:b8cf583e-a2e4-421e-986b-a2654bc5da1a\" xlink:show=\"new\" xlink:title=\"psysml:b8cf583e-a2e4-421e-986b-a2654bc5da1a\" xlink:type=\"simple\"><rect fill=\"#FFFFFF\" height=\"45.9375\" id=\"E9\" rx=\"10\" ry=\"10\" style=\"stroke: #383838; stroke-width: 1.5;\" width=\"71\" x=\"244.5\" y=\"41\"/><text fill=\"#000000\" font-family=\"sans-serif\" font-size=\"12\" font-style=\"italic\" lengthAdjust=\"spacingAndGlyphs\" textLength=\"69\" x=\"245.5\" y=\"57.1387\">«attribute»</text><text fill=\"#000000\" font-family=\"sans-serif\" font-size=\"12\" lengthAdjust=\"spacingAndGlyphs\" textLength=\"8\" x=\"276\" y=\"71.1074\">g</text><line style=\"stroke: #383838; stroke-width: 1.5;\" x1=\"245.5\" x2=\"314.5\" y1=\"78.9375\" y2=\"78.9375\"/></a><!--MD5=[96f4274e9e20536e775497830990834d]\n",
       "class E10--><a href=\"psysml:0aa11811-cac3-458e-8be5-17e4f08795b7\" target=\"_top\" title=\"psysml:0aa11811-cac3-458e-8be5-17e4f08795b7\" xlink:actuate=\"onRequest\" xlink:href=\"psysml:0aa11811-cac3-458e-8be5-17e4f08795b7\" xlink:show=\"new\" xlink:title=\"psysml:0aa11811-cac3-458e-8be5-17e4f08795b7\" xlink:type=\"simple\"><rect fill=\"#FFFFFF\" height=\"45.9375\" id=\"E10\" rx=\"10\" ry=\"10\" style=\"stroke: #383838; stroke-width: 1.5;\" width=\"71\" x=\"138.5\" y=\"41\"/><text fill=\"#000000\" font-family=\"sans-serif\" font-size=\"12\" font-style=\"italic\" lengthAdjust=\"spacingAndGlyphs\" textLength=\"69\" x=\"139.5\" y=\"57.1387\">«attribute»</text><text fill=\"#000000\" font-family=\"sans-serif\" font-size=\"12\" lengthAdjust=\"spacingAndGlyphs\" textLength=\"8\" x=\"170\" y=\"71.1074\">b</text><line style=\"stroke: #383838; stroke-width: 1.5;\" x1=\"139.5\" x2=\"208.5\" y1=\"78.9375\" y2=\"78.9375\"/></a><!--MD5=[1dd1bfd58a279cf63c5f349dbc8fc6a1]\n",
       "class E11--><a href=\"psysml:4713065a-36eb-4143-8ed6-c41cfc39d881\" target=\"_top\" title=\"psysml:4713065a-36eb-4143-8ed6-c41cfc39d881\" xlink:actuate=\"onRequest\" xlink:href=\"psysml:4713065a-36eb-4143-8ed6-c41cfc39d881\" xlink:show=\"new\" xlink:title=\"psysml:4713065a-36eb-4143-8ed6-c41cfc39d881\" xlink:type=\"simple\"><rect fill=\"#FFFFFF\" height=\"45.9375\" id=\"E11\" rx=\"10\" ry=\"10\" style=\"stroke: #383838; stroke-width: 1.5;\" width=\"71\" x=\"32.5\" y=\"41\"/><text fill=\"#000000\" font-family=\"sans-serif\" font-size=\"12\" font-style=\"italic\" lengthAdjust=\"spacingAndGlyphs\" textLength=\"69\" x=\"33.5\" y=\"57.1387\">«attribute»</text><text fill=\"#000000\" font-family=\"sans-serif\" font-size=\"12\" lengthAdjust=\"spacingAndGlyphs\" textLength=\"7\" x=\"64.5\" y=\"71.1074\">c</text><line style=\"stroke: #383838; stroke-width: 1.5;\" x1=\"33.5\" x2=\"102.5\" y1=\"78.9375\" y2=\"78.9375\"/></a><text fill=\"#000000\" font-family=\"sans-serif\" font-size=\"14\" lengthAdjust=\"spacingAndGlyphs\" textLength=\"9\" x=\"567.5\" y=\"42.6982\">p</text><rect fill=\"#383838\" height=\"12\" style=\"stroke: #F8F8F8; stroke-width: 1.5;\" width=\"12\" x=\"566\" y=\"58\"/><text fill=\"#000000\" font-family=\"sans-serif\" font-size=\"14\" lengthAdjust=\"spacingAndGlyphs\" textLength=\"9\" x=\"614.5\" y=\"42.6982\">q</text><rect fill=\"#383838\" height=\"12\" style=\"stroke: #F8F8F8; stroke-width: 1.5;\" width=\"12\" x=\"613\" y=\"58\"/><text fill=\"#000000\" font-family=\"sans-serif\" font-size=\"14\" lengthAdjust=\"spacingAndGlyphs\" textLength=\"39\" x=\"599.5\" y=\"380.7151\">result</text><rect fill=\"#383838\" height=\"12\" style=\"stroke: #F8F8F8; stroke-width: 1.5;\" width=\"12\" x=\"613\" y=\"355.72\"/><!--MD5=[05d275557350bfb9b23a4ef7222b4c39]\n",
       "link E3 to E2--><a href=\"psysml:0b532ab9-83c4-4e75-92c6-eb24823a8b5d\" target=\"_top\" title=\"psysml:0b532ab9-83c4-4e75-92c6-eb24823a8b5d\" xlink:actuate=\"onRequest\" xlink:href=\"psysml:0b532ab9-83c4-4e75-92c6-eb24823a8b5d\" xlink:show=\"new\" xlink:title=\"psysml:0b532ab9-83c4-4e75-92c6-eb24823a8b5d\" xlink:type=\"simple\"><path d=\"M488.12,87.06 C486.14,98.3 483.62,112.6 481.1,126.95 \" fill=\"none\" id=\"E3-&gt;E2\" style=\"stroke: #383838; stroke-width: 1.0;\"/><polygon fill=\"#FFFFFF\" points=\"477.58,146.93,473.9835,127.0035,487.7711,129.4331,477.58,146.93\" style=\"stroke: #383838; stroke-width: 1.0;\"/><ellipse cx=\"476.9423\" cy=\"121.7371\" fill=\"#383838\" rx=\"2\" ry=\"2\" style=\"stroke: #383838; stroke-width: 1.0;\"/><ellipse cx=\"486.7906\" cy=\"123.4725\" fill=\"#383838\" rx=\"2\" ry=\"2\" style=\"stroke: #383838; stroke-width: 1.0;\"/></a><!--MD5=[3c39de612d971e5bb7bd000ae4358710]\n",
       "@startuml\r\n",
       "skinparam linetype polyline\r\n",
       "skinparam monochrome true\r\n",
       "skinparam classbackgroundcolor white\r\n",
       "skinparam shadowing false\r\n",
       "skinparam wrapWidth 300\r\n",
       "hide circle\r\n",
       "\r\n",
       "package \"ParameterTest\" as E1  [[psysml:a676bd1d-a902-490f-aa39-52389ae12c12 ]]  {\r\n",
       "comp def \"A\" as E2  <<(T,blue) attribute def>> [[psysml:da28d9c5-e66b-4d93-bbca-9dea65a864c0 ]] {\r\n",
       "- - attributes - -\r\n",
       "x: String\r\n",
       "y: A\r\n",
       "}\r\n",
       "comp usage \"a: A\" as E3  <<(T,blue) attribute>> [[psysml:8df57e9c-49a1-414c-8fdd-827b36a310a4 ]] {\r\n",
       "}\r\n",
       "rec def \"F\" as E4  <<(T,blue) calculation def>> [[psysml:40a467ef-e18b-46ff-840a-6dc079db3448 ]] {\r\n",
       "portin \"p\" as E5  [[psysml:5802290c-01bb-4d71-b710-026b61c78f11 ]] \r\n",
       "portin \"q\" as E6  [[psysml:197907df-8789-46a9-bbed-d5f940e1c2ab ]] \r\n",
       "portout \"result\" as E7  [[psysml:e7c52caa-c6a6-4daa-b328-953e2590a8bc ]] \r\n",
       "}\r\n",
       "\r\n",
       "comp usage \"f\" as E8  <<(T,blue) attribute>> [[psysml:2237367a-6968-472a-8f6b-3570950aa6b8 ]] {\r\n",
       "}\r\n",
       "comp usage \"g\" as E9  <<(T,blue) attribute>> [[psysml:b8cf583e-a2e4-421e-986b-a2654bc5da1a ]] {\r\n",
       "}\r\n",
       "comp usage \"b\" as E10  <<(T,blue) attribute>> [[psysml:0aa11811-cac3-458e-8be5-17e4f08795b7 ]] {\r\n",
       "}\r\n",
       "comp usage \"c\" as E11  <<(T,blue) attribute>> [[psysml:4713065a-36eb-4143-8ed6-c41cfc39d881 ]] {\r\n",
       "}\r\n",
       "}\r\n",
       "E3 - -:|> E2 [[psysml:0b532ab9-83c4-4e75-92c6-eb24823a8b5d ]] \r\n",
       "@enduml\r\n",
       "\n",
       "PlantUML version 1.2020.13(Sat Jun 13 12:26:38 UTC 2020)\n",
       "(EPL source distribution)\n",
       "Java Runtime: OpenJDK Runtime Environment\n",
       "JVM: OpenJDK 64-Bit Server VM\n",
       "Default Encoding: UTF-8\n",
       "Language: en\n",
       "Country: null\n",
       "--></g></svg>"
      ]
     },
     "execution_count": 15,
     "metadata": {},
     "output_type": "execute_result"
    }
   ],
   "source": [
    "%viz --style=\"POLYLINE\" --view=\"MIXED\" \"ParameterTest\""
   ]
  },
  {
   "cell_type": "code",
   "execution_count": 16,
   "id": "b4c3c11c",
   "metadata": {
    "execution": {
     "iopub.execute_input": "2021-10-03T08:28:25.073007Z",
     "iopub.status.busy": "2021-10-03T08:28:25.072605Z",
     "iopub.status.idle": "2021-10-03T08:28:25.132300Z",
     "shell.execute_reply": "2021-10-03T08:28:25.131924Z"
    }
   },
   "outputs": [
    {
     "data": {
      "image/svg+xml": [
       "<?xml version=\"1.0\" encoding=\"UTF-8\" standalone=\"no\"?><svg xmlns=\"http://www.w3.org/2000/svg\" xmlns:xlink=\"http://www.w3.org/1999/xlink\" contentScriptType=\"application/ecmascript\" contentStyleType=\"text/css\" height=\"541px\" preserveAspectRatio=\"none\" style=\"width:474px;height:541px;\" version=\"1.1\" viewBox=\"0 0 474 541\" width=\"474px\" zoomAndPan=\"magnify\"><defs/><g><!--MD5=[fbc87193dbaf4d95561dea2c320d4a47]\n",
       "cluster E1--><a href=\"psysml:a676bd1d-a902-490f-aa39-52389ae12c12\" target=\"_top\" title=\"psysml:a676bd1d-a902-490f-aa39-52389ae12c12\" xlink:actuate=\"onRequest\" xlink:href=\"psysml:a676bd1d-a902-490f-aa39-52389ae12c12\" xlink:show=\"new\" xlink:title=\"psysml:a676bd1d-a902-490f-aa39-52389ae12c12\" xlink:type=\"simple\"><polygon fill=\"#FFFFFF\" points=\"16,6,124,6,131,28.2969,452.72,28.2969,452.72,529,16,529,16,6\" style=\"stroke: #000000; stroke-width: 1.5;\"/><line style=\"stroke: #000000; stroke-width: 1.5;\" x1=\"16\" x2=\"131\" y1=\"28.2969\" y2=\"28.2969\"/><text fill=\"#000000\" font-family=\"sans-serif\" font-size=\"14\" font-weight=\"bold\" lengthAdjust=\"spacingAndGlyphs\" textLength=\"102\" x=\"20\" y=\"20.9951\">ParameterTest</text></a><!--MD5=[f6df4d0ebaf0b5dfb2ced0ae5af7c670]\n",
       "cluster E4--><a href=\"psysml:40a467ef-e18b-46ff-840a-6dc079db3448\" target=\"_top\" title=\"psysml:40a467ef-e18b-46ff-840a-6dc079db3448\" xlink:actuate=\"onRequest\" xlink:href=\"psysml:40a467ef-e18b-46ff-840a-6dc079db3448\" xlink:show=\"new\" xlink:title=\"psysml:40a467ef-e18b-46ff-840a-6dc079db3448\" xlink:type=\"simple\"><rect fill=\"#FFFFFF\" height=\"47\" id=\"E4\" style=\"stroke: #383838; stroke-width: 1.5;\" width=\"373.22\" x=\"49.5\" y=\"55\"/><rect fill=\"#F8F8F8\" height=\"37.9375\" style=\"stroke: #383838; stroke-width: 1.5;\" width=\"373.22\" x=\"49.5\" y=\"55\"/><text fill=\"#000000\" font-family=\"sans-serif\" font-size=\"12\" font-style=\"italic\" lengthAdjust=\"spacingAndGlyphs\" textLength=\"106\" x=\"183.11\" y=\"71.1387\">«calculation def»</text><text fill=\"#000000\" font-family=\"sans-serif\" font-size=\"12\" lengthAdjust=\"spacingAndGlyphs\" textLength=\"7\" x=\"232.61\" y=\"85.1074\">F</text></a><!--MD5=[b4997ac47864f28c2f74865a473b2911]\n",
       "class E2--><a href=\"psysml:da28d9c5-e66b-4d93-bbca-9dea65a864c0\" target=\"_top\" title=\"psysml:da28d9c5-e66b-4d93-bbca-9dea65a864c0\" xlink:actuate=\"onRequest\" xlink:href=\"psysml:da28d9c5-e66b-4d93-bbca-9dea65a864c0\" xlink:show=\"new\" xlink:title=\"psysml:da28d9c5-e66b-4d93-bbca-9dea65a864c0\" xlink:type=\"simple\"><rect fill=\"#FFFFFF\" height=\"88.3516\" id=\"E2\" style=\"stroke: #383838; stroke-width: 1.5;\" width=\"95\" x=\"182\" y=\"128\"/><text fill=\"#000000\" font-family=\"sans-serif\" font-size=\"12\" font-style=\"italic\" lengthAdjust=\"spacingAndGlyphs\" textLength=\"93\" x=\"183\" y=\"144.1387\">«attribute def»</text><text fill=\"#000000\" font-family=\"sans-serif\" font-size=\"12\" lengthAdjust=\"spacingAndGlyphs\" textLength=\"8\" x=\"225.5\" y=\"158.1074\">A</text><line style=\"stroke: #383838; stroke-width: 1.5;\" x1=\"183\" x2=\"276\" y1=\"165.9375\" y2=\"165.9375\"/><text fill=\"#000000\" font-family=\"sans-serif\" font-size=\"11\" lengthAdjust=\"spacingAndGlyphs\" textLength=\"48\" x=\"188\" y=\"196.9526\">x: String</text><text fill=\"#000000\" font-family=\"sans-serif\" font-size=\"11\" lengthAdjust=\"spacingAndGlyphs\" textLength=\"21\" x=\"188\" y=\"209.7573\">y: A</text><line style=\"stroke: #383838; stroke-width: 1.0;\" x1=\"183\" x2=\"202\" y1=\"180.3398\" y2=\"180.3398\"/><text fill=\"#000000\" font-family=\"sans-serif\" font-size=\"11\" lengthAdjust=\"spacingAndGlyphs\" textLength=\"55\" x=\"202\" y=\"183.6479\">attributes</text><line style=\"stroke: #383838; stroke-width: 1.0;\" x1=\"257\" x2=\"276\" y1=\"180.3398\" y2=\"180.3398\"/></a><!--MD5=[09b614a08d8cba4a07c9adeb5e0fee81]\n",
       "class E3--><a href=\"psysml:8df57e9c-49a1-414c-8fdd-827b36a310a4\" target=\"_top\" title=\"psysml:8df57e9c-49a1-414c-8fdd-827b36a310a4\" xlink:actuate=\"onRequest\" xlink:href=\"psysml:8df57e9c-49a1-414c-8fdd-827b36a310a4\" xlink:show=\"new\" xlink:title=\"psysml:8df57e9c-49a1-414c-8fdd-827b36a310a4\" xlink:type=\"simple\"><rect fill=\"#FFFFFF\" height=\"45.9375\" id=\"E3\" rx=\"10\" ry=\"10\" style=\"stroke: #383838; stroke-width: 1.5;\" width=\"71\" x=\"32\" y=\"143\"/><text fill=\"#000000\" font-family=\"sans-serif\" font-size=\"12\" font-style=\"italic\" lengthAdjust=\"spacingAndGlyphs\" textLength=\"69\" x=\"33\" y=\"159.1387\">«attribute»</text><text fill=\"#000000\" font-family=\"sans-serif\" font-size=\"12\" lengthAdjust=\"spacingAndGlyphs\" textLength=\"24\" x=\"55.5\" y=\"173.1074\">a: A</text><line style=\"stroke: #383838; stroke-width: 1.5;\" x1=\"33\" x2=\"102\" y1=\"180.9375\" y2=\"180.9375\"/></a><!--MD5=[b9389687b975829384b498ac4b7476b2]\n",
       "class E8--><a href=\"psysml:2237367a-6968-472a-8f6b-3570950aa6b8\" target=\"_top\" title=\"psysml:2237367a-6968-472a-8f6b-3570950aa6b8\" xlink:actuate=\"onRequest\" xlink:href=\"psysml:2237367a-6968-472a-8f6b-3570950aa6b8\" xlink:show=\"new\" xlink:title=\"psysml:2237367a-6968-472a-8f6b-3570950aa6b8\" xlink:type=\"simple\"><rect fill=\"#FFFFFF\" height=\"45.9375\" id=\"E8\" rx=\"10\" ry=\"10\" style=\"stroke: #383838; stroke-width: 1.5;\" width=\"71\" x=\"32\" y=\"224\"/><text fill=\"#000000\" font-family=\"sans-serif\" font-size=\"12\" font-style=\"italic\" lengthAdjust=\"spacingAndGlyphs\" textLength=\"69\" x=\"33\" y=\"240.1387\">«attribute»</text><text fill=\"#000000\" font-family=\"sans-serif\" font-size=\"12\" lengthAdjust=\"spacingAndGlyphs\" textLength=\"4\" x=\"65.5\" y=\"254.1074\">f</text><line style=\"stroke: #383838; stroke-width: 1.5;\" x1=\"33\" x2=\"102\" y1=\"261.9375\" y2=\"261.9375\"/></a><!--MD5=[fd4143e9d270a159db93a4ea2a975926]\n",
       "class E9--><a href=\"psysml:b8cf583e-a2e4-421e-986b-a2654bc5da1a\" target=\"_top\" title=\"psysml:b8cf583e-a2e4-421e-986b-a2654bc5da1a\" xlink:actuate=\"onRequest\" xlink:href=\"psysml:b8cf583e-a2e4-421e-986b-a2654bc5da1a\" xlink:show=\"new\" xlink:title=\"psysml:b8cf583e-a2e4-421e-986b-a2654bc5da1a\" xlink:type=\"simple\"><rect fill=\"#FFFFFF\" height=\"45.9375\" id=\"E9\" rx=\"10\" ry=\"10\" style=\"stroke: #383838; stroke-width: 1.5;\" width=\"71\" x=\"32\" y=\"305\"/><text fill=\"#000000\" font-family=\"sans-serif\" font-size=\"12\" font-style=\"italic\" lengthAdjust=\"spacingAndGlyphs\" textLength=\"69\" x=\"33\" y=\"321.1387\">«attribute»</text><text fill=\"#000000\" font-family=\"sans-serif\" font-size=\"12\" lengthAdjust=\"spacingAndGlyphs\" textLength=\"8\" x=\"63.5\" y=\"335.1074\">g</text><line style=\"stroke: #383838; stroke-width: 1.5;\" x1=\"33\" x2=\"102\" y1=\"342.9375\" y2=\"342.9375\"/></a><!--MD5=[96f4274e9e20536e775497830990834d]\n",
       "class E10--><a href=\"psysml:0aa11811-cac3-458e-8be5-17e4f08795b7\" target=\"_top\" title=\"psysml:0aa11811-cac3-458e-8be5-17e4f08795b7\" xlink:actuate=\"onRequest\" xlink:href=\"psysml:0aa11811-cac3-458e-8be5-17e4f08795b7\" xlink:show=\"new\" xlink:title=\"psysml:0aa11811-cac3-458e-8be5-17e4f08795b7\" xlink:type=\"simple\"><rect fill=\"#FFFFFF\" height=\"45.9375\" id=\"E10\" rx=\"10\" ry=\"10\" style=\"stroke: #383838; stroke-width: 1.5;\" width=\"71\" x=\"32\" y=\"386\"/><text fill=\"#000000\" font-family=\"sans-serif\" font-size=\"12\" font-style=\"italic\" lengthAdjust=\"spacingAndGlyphs\" textLength=\"69\" x=\"33\" y=\"402.1387\">«attribute»</text><text fill=\"#000000\" font-family=\"sans-serif\" font-size=\"12\" lengthAdjust=\"spacingAndGlyphs\" textLength=\"8\" x=\"63.5\" y=\"416.1074\">b</text><line style=\"stroke: #383838; stroke-width: 1.5;\" x1=\"33\" x2=\"102\" y1=\"423.9375\" y2=\"423.9375\"/></a><!--MD5=[1dd1bfd58a279cf63c5f349dbc8fc6a1]\n",
       "class E11--><a href=\"psysml:4713065a-36eb-4143-8ed6-c41cfc39d881\" target=\"_top\" title=\"psysml:4713065a-36eb-4143-8ed6-c41cfc39d881\" xlink:actuate=\"onRequest\" xlink:href=\"psysml:4713065a-36eb-4143-8ed6-c41cfc39d881\" xlink:show=\"new\" xlink:title=\"psysml:4713065a-36eb-4143-8ed6-c41cfc39d881\" xlink:type=\"simple\"><rect fill=\"#FFFFFF\" height=\"45.9375\" id=\"E11\" rx=\"10\" ry=\"10\" style=\"stroke: #383838; stroke-width: 1.5;\" width=\"71\" x=\"32\" y=\"467\"/><text fill=\"#000000\" font-family=\"sans-serif\" font-size=\"12\" font-style=\"italic\" lengthAdjust=\"spacingAndGlyphs\" textLength=\"69\" x=\"33\" y=\"483.1387\">«attribute»</text><text fill=\"#000000\" font-family=\"sans-serif\" font-size=\"12\" lengthAdjust=\"spacingAndGlyphs\" textLength=\"7\" x=\"64\" y=\"497.1074\">c</text><line style=\"stroke: #383838; stroke-width: 1.5;\" x1=\"33\" x2=\"102\" y1=\"504.9375\" y2=\"504.9375\"/></a><text fill=\"#000000\" font-family=\"sans-serif\" font-size=\"14\" lengthAdjust=\"spacingAndGlyphs\" textLength=\"9\" x=\"63\" y=\"120.9951\">p</text><rect fill=\"#383838\" height=\"12\" style=\"stroke: #F8F8F8; stroke-width: 1.5;\" width=\"12\" x=\"61.5\" y=\"96\"/><text fill=\"#000000\" font-family=\"sans-serif\" font-size=\"14\" lengthAdjust=\"spacingAndGlyphs\" textLength=\"9\" x=\"63\" y=\"33.6982\">q</text><rect fill=\"#383838\" height=\"12\" style=\"stroke: #F8F8F8; stroke-width: 1.5;\" width=\"12\" x=\"61.5\" y=\"49\"/><text fill=\"#000000\" font-family=\"sans-serif\" font-size=\"14\" lengthAdjust=\"spacingAndGlyphs\" textLength=\"39\" x=\"403.22\" y=\"53.6982\">result</text><rect fill=\"#383838\" height=\"12\" style=\"stroke: #F8F8F8; stroke-width: 1.5;\" width=\"12\" x=\"416.72\" y=\"69\"/><!--MD5=[05d275557350bfb9b23a4ef7222b4c39]\n",
       "link E3 to E2--><a href=\"psysml:0b532ab9-83c4-4e75-92c6-eb24823a8b5d\" target=\"_top\" title=\"psysml:0b532ab9-83c4-4e75-92c6-eb24823a8b5d\" xlink:actuate=\"onRequest\" xlink:href=\"psysml:0b532ab9-83c4-4e75-92c6-eb24823a8b5d\" xlink:show=\"new\" xlink:title=\"psysml:0b532ab9-83c4-4e75-92c6-eb24823a8b5d\" xlink:type=\"simple\"><path d=\"M103.22,167.3 C120.27,167.94 141.42,168.73 161.45,169.49 \" fill=\"none\" id=\"E3-&gt;E2\" style=\"stroke: #383838; stroke-width: 1.0;\"/><polygon fill=\"#FFFFFF\" points=\"181.71,170.25,162.4631,176.5394,162.9831,162.5491,181.71,170.25\" style=\"stroke: #383838; stroke-width: 1.0;\"/><ellipse cx=\"156.8413\" cy=\"174.3291\" fill=\"#383838\" rx=\"2\" ry=\"2\" style=\"stroke: #383838; stroke-width: 1.0;\"/><ellipse cx=\"157.2128\" cy=\"164.336\" fill=\"#383838\" rx=\"2\" ry=\"2\" style=\"stroke: #383838; stroke-width: 1.0;\"/></a><!--MD5=[3528226537802662e9fe83d9b139e066]\n",
       "@startuml\r\n",
       "left to right direction\r\n",
       "skinparam monochrome true\r\n",
       "skinparam classbackgroundcolor white\r\n",
       "skinparam shadowing false\r\n",
       "skinparam wrapWidth 300\r\n",
       "hide circle\r\n",
       "\r\n",
       "package \"ParameterTest\" as E1  [[psysml:a676bd1d-a902-490f-aa39-52389ae12c12 ]]  {\r\n",
       "comp def \"A\" as E2  <<(T,blue) attribute def>> [[psysml:da28d9c5-e66b-4d93-bbca-9dea65a864c0 ]] {\r\n",
       "- - attributes - -\r\n",
       "x: String\r\n",
       "y: A\r\n",
       "}\r\n",
       "comp usage \"a: A\" as E3  <<(T,blue) attribute>> [[psysml:8df57e9c-49a1-414c-8fdd-827b36a310a4 ]] {\r\n",
       "}\r\n",
       "rec def \"F\" as E4  <<(T,blue) calculation def>> [[psysml:40a467ef-e18b-46ff-840a-6dc079db3448 ]] {\r\n",
       "portin \"p\" as E5  [[psysml:5802290c-01bb-4d71-b710-026b61c78f11 ]] \r\n",
       "portin \"q\" as E6  [[psysml:197907df-8789-46a9-bbed-d5f940e1c2ab ]] \r\n",
       "portout \"result\" as E7  [[psysml:e7c52caa-c6a6-4daa-b328-953e2590a8bc ]] \r\n",
       "}\r\n",
       "\r\n",
       "comp usage \"f\" as E8  <<(T,blue) attribute>> [[psysml:2237367a-6968-472a-8f6b-3570950aa6b8 ]] {\r\n",
       "}\r\n",
       "comp usage \"g\" as E9  <<(T,blue) attribute>> [[psysml:b8cf583e-a2e4-421e-986b-a2654bc5da1a ]] {\r\n",
       "}\r\n",
       "comp usage \"b\" as E10  <<(T,blue) attribute>> [[psysml:0aa11811-cac3-458e-8be5-17e4f08795b7 ]] {\r\n",
       "}\r\n",
       "comp usage \"c\" as E11  <<(T,blue) attribute>> [[psysml:4713065a-36eb-4143-8ed6-c41cfc39d881 ]] {\r\n",
       "}\r\n",
       "}\r\n",
       "E3 - -:|> E2 [[psysml:0b532ab9-83c4-4e75-92c6-eb24823a8b5d ]] \r\n",
       "@enduml\r\n",
       "\n",
       "PlantUML version 1.2020.13(Sat Jun 13 12:26:38 UTC 2020)\n",
       "(EPL source distribution)\n",
       "Java Runtime: OpenJDK Runtime Environment\n",
       "JVM: OpenJDK 64-Bit Server VM\n",
       "Default Encoding: UTF-8\n",
       "Language: en\n",
       "Country: null\n",
       "--></g></svg>"
      ]
     },
     "execution_count": 16,
     "metadata": {},
     "output_type": "execute_result"
    }
   ],
   "source": [
    "%viz --style=\"LR\" --view=\"Default\" \"ParameterTest\""
   ]
  },
  {
   "cell_type": "code",
   "execution_count": 17,
   "id": "e960ef76",
   "metadata": {
    "execution": {
     "iopub.execute_input": "2021-10-03T08:28:25.181649Z",
     "iopub.status.busy": "2021-10-03T08:28:25.181218Z",
     "iopub.status.idle": "2021-10-03T08:28:25.238498Z",
     "shell.execute_reply": "2021-10-03T08:28:25.238829Z"
    }
   },
   "outputs": [
    {
     "data": {
      "image/svg+xml": [
       "<?xml version=\"1.0\" encoding=\"UTF-8\" standalone=\"no\"?><svg xmlns=\"http://www.w3.org/2000/svg\" xmlns:xlink=\"http://www.w3.org/1999/xlink\" contentScriptType=\"application/ecmascript\" contentStyleType=\"text/css\" height=\"520px\" preserveAspectRatio=\"none\" style=\"width:343px;height:520px;\" version=\"1.1\" viewBox=\"0 0 343 520\" width=\"343px\" zoomAndPan=\"magnify\"><defs/><g><!--MD5=[fbc87193dbaf4d95561dea2c320d4a47]\n",
       "cluster E1--><a href=\"psysml:a676bd1d-a902-490f-aa39-52389ae12c12\" target=\"_top\" title=\"psysml:a676bd1d-a902-490f-aa39-52389ae12c12\" xlink:actuate=\"onRequest\" xlink:href=\"psysml:a676bd1d-a902-490f-aa39-52389ae12c12\" xlink:show=\"new\" xlink:title=\"psysml:a676bd1d-a902-490f-aa39-52389ae12c12\" xlink:type=\"simple\"><polygon fill=\"#FFFFFF\" points=\"16,6,124,6,131,28.2969,321,28.2969,321,508,16,508,16,6\" style=\"stroke: #000000; stroke-width: 1.5;\"/><line style=\"stroke: #000000; stroke-width: 1.5;\" x1=\"16\" x2=\"131\" y1=\"28.2969\" y2=\"28.2969\"/><text fill=\"#000000\" font-family=\"sans-serif\" font-size=\"14\" font-weight=\"bold\" lengthAdjust=\"spacingAndGlyphs\" textLength=\"102\" x=\"20\" y=\"20.9951\">ParameterTest</text></a><!--MD5=[b4997ac47864f28c2f74865a473b2911]\n",
       "class E2--><a href=\"psysml:da28d9c5-e66b-4d93-bbca-9dea65a864c0\" target=\"_top\" title=\"psysml:da28d9c5-e66b-4d93-bbca-9dea65a864c0\" xlink:actuate=\"onRequest\" xlink:href=\"psysml:da28d9c5-e66b-4d93-bbca-9dea65a864c0\" xlink:show=\"new\" xlink:title=\"psysml:da28d9c5-e66b-4d93-bbca-9dea65a864c0\" xlink:type=\"simple\"><rect fill=\"#FFFFFF\" height=\"88.3516\" id=\"E2\" style=\"stroke: #383838; stroke-width: 1.5;\" width=\"95\" x=\"210\" y=\"76\"/><text fill=\"#000000\" font-family=\"sans-serif\" font-size=\"12\" font-style=\"italic\" lengthAdjust=\"spacingAndGlyphs\" textLength=\"93\" x=\"211\" y=\"92.1387\">«attribute def»</text><text fill=\"#000000\" font-family=\"sans-serif\" font-size=\"12\" lengthAdjust=\"spacingAndGlyphs\" textLength=\"8\" x=\"253.5\" y=\"106.1074\">A</text><line style=\"stroke: #383838; stroke-width: 1.5;\" x1=\"211\" x2=\"304\" y1=\"113.9375\" y2=\"113.9375\"/><text fill=\"#000000\" font-family=\"sans-serif\" font-size=\"11\" lengthAdjust=\"spacingAndGlyphs\" textLength=\"48\" x=\"216\" y=\"144.9526\">x: String</text><text fill=\"#000000\" font-family=\"sans-serif\" font-size=\"11\" lengthAdjust=\"spacingAndGlyphs\" textLength=\"21\" x=\"216\" y=\"157.7573\">y: A</text><line style=\"stroke: #383838; stroke-width: 1.0;\" x1=\"211\" x2=\"230\" y1=\"128.3398\" y2=\"128.3398\"/><text fill=\"#000000\" font-family=\"sans-serif\" font-size=\"11\" lengthAdjust=\"spacingAndGlyphs\" textLength=\"55\" x=\"230\" y=\"131.6479\">attributes</text><line style=\"stroke: #383838; stroke-width: 1.0;\" x1=\"285\" x2=\"304\" y1=\"128.3398\" y2=\"128.3398\"/></a><!--MD5=[09b614a08d8cba4a07c9adeb5e0fee81]\n",
       "class E3--><a href=\"psysml:8df57e9c-49a1-414c-8fdd-827b36a310a4\" target=\"_top\" title=\"psysml:8df57e9c-49a1-414c-8fdd-827b36a310a4\" xlink:actuate=\"onRequest\" xlink:href=\"psysml:8df57e9c-49a1-414c-8fdd-827b36a310a4\" xlink:show=\"new\" xlink:title=\"psysml:8df57e9c-49a1-414c-8fdd-827b36a310a4\" xlink:type=\"simple\"><rect fill=\"#FFFFFF\" height=\"45.9375\" id=\"E3\" rx=\"10\" ry=\"10\" style=\"stroke: #383838; stroke-width: 1.5;\" width=\"71\" x=\"50.5\" y=\"41\"/><text fill=\"#000000\" font-family=\"sans-serif\" font-size=\"12\" font-style=\"italic\" lengthAdjust=\"spacingAndGlyphs\" textLength=\"69\" x=\"51.5\" y=\"57.1387\">«attribute»</text><text fill=\"#000000\" font-family=\"sans-serif\" font-size=\"12\" lengthAdjust=\"spacingAndGlyphs\" textLength=\"24\" x=\"74\" y=\"71.1074\">a: A</text><line style=\"stroke: #383838; stroke-width: 1.5;\" x1=\"51.5\" x2=\"120.5\" y1=\"78.9375\" y2=\"78.9375\"/></a><!--MD5=[ebbe1d658d1005bcc118a6aa81145e00]\n",
       "class E4--><a href=\"psysml:40a467ef-e18b-46ff-840a-6dc079db3448\" target=\"_top\" title=\"psysml:40a467ef-e18b-46ff-840a-6dc079db3448\" xlink:actuate=\"onRequest\" xlink:href=\"psysml:40a467ef-e18b-46ff-840a-6dc079db3448\" xlink:show=\"new\" xlink:title=\"psysml:40a467ef-e18b-46ff-840a-6dc079db3448\" xlink:type=\"simple\"><rect fill=\"#FFFFFF\" height=\"45.9375\" id=\"E4\" style=\"stroke: #383838; stroke-width: 1.5;\" width=\"108\" x=\"32\" y=\"122\"/><text fill=\"#000000\" font-family=\"sans-serif\" font-size=\"12\" font-style=\"italic\" lengthAdjust=\"spacingAndGlyphs\" textLength=\"106\" x=\"33\" y=\"138.1387\">«calculation def»</text><text fill=\"#000000\" font-family=\"sans-serif\" font-size=\"12\" lengthAdjust=\"spacingAndGlyphs\" textLength=\"7\" x=\"82.5\" y=\"152.1074\">F</text><line style=\"stroke: #383838; stroke-width: 1.5;\" x1=\"33\" x2=\"139\" y1=\"159.9375\" y2=\"159.9375\"/></a><!--MD5=[270fce915f116d4de14055a7c1d9a0f3]\n",
       "class E5--><a href=\"psysml:2237367a-6968-472a-8f6b-3570950aa6b8\" target=\"_top\" title=\"psysml:2237367a-6968-472a-8f6b-3570950aa6b8\" xlink:actuate=\"onRequest\" xlink:href=\"psysml:2237367a-6968-472a-8f6b-3570950aa6b8\" xlink:show=\"new\" xlink:title=\"psysml:2237367a-6968-472a-8f6b-3570950aa6b8\" xlink:type=\"simple\"><rect fill=\"#FFFFFF\" height=\"45.9375\" id=\"E5\" rx=\"10\" ry=\"10\" style=\"stroke: #383838; stroke-width: 1.5;\" width=\"71\" x=\"50.5\" y=\"203\"/><text fill=\"#000000\" font-family=\"sans-serif\" font-size=\"12\" font-style=\"italic\" lengthAdjust=\"spacingAndGlyphs\" textLength=\"69\" x=\"51.5\" y=\"219.1387\">«attribute»</text><text fill=\"#000000\" font-family=\"sans-serif\" font-size=\"12\" lengthAdjust=\"spacingAndGlyphs\" textLength=\"4\" x=\"84\" y=\"233.1074\">f</text><line style=\"stroke: #383838; stroke-width: 1.5;\" x1=\"51.5\" x2=\"120.5\" y1=\"240.9375\" y2=\"240.9375\"/></a><!--MD5=[60a26617385b1d2d0262a64233df1f8d]\n",
       "class E6--><a href=\"psysml:b8cf583e-a2e4-421e-986b-a2654bc5da1a\" target=\"_top\" title=\"psysml:b8cf583e-a2e4-421e-986b-a2654bc5da1a\" xlink:actuate=\"onRequest\" xlink:href=\"psysml:b8cf583e-a2e4-421e-986b-a2654bc5da1a\" xlink:show=\"new\" xlink:title=\"psysml:b8cf583e-a2e4-421e-986b-a2654bc5da1a\" xlink:type=\"simple\"><rect fill=\"#FFFFFF\" height=\"45.9375\" id=\"E6\" rx=\"10\" ry=\"10\" style=\"stroke: #383838; stroke-width: 1.5;\" width=\"71\" x=\"50.5\" y=\"284\"/><text fill=\"#000000\" font-family=\"sans-serif\" font-size=\"12\" font-style=\"italic\" lengthAdjust=\"spacingAndGlyphs\" textLength=\"69\" x=\"51.5\" y=\"300.1387\">«attribute»</text><text fill=\"#000000\" font-family=\"sans-serif\" font-size=\"12\" lengthAdjust=\"spacingAndGlyphs\" textLength=\"8\" x=\"82\" y=\"314.1074\">g</text><line style=\"stroke: #383838; stroke-width: 1.5;\" x1=\"51.5\" x2=\"120.5\" y1=\"321.9375\" y2=\"321.9375\"/></a><!--MD5=[2156ba9850f5573cc1fc38a6a4b2f02b]\n",
       "class E7--><a href=\"psysml:0aa11811-cac3-458e-8be5-17e4f08795b7\" target=\"_top\" title=\"psysml:0aa11811-cac3-458e-8be5-17e4f08795b7\" xlink:actuate=\"onRequest\" xlink:href=\"psysml:0aa11811-cac3-458e-8be5-17e4f08795b7\" xlink:show=\"new\" xlink:title=\"psysml:0aa11811-cac3-458e-8be5-17e4f08795b7\" xlink:type=\"simple\"><rect fill=\"#FFFFFF\" height=\"45.9375\" id=\"E7\" rx=\"10\" ry=\"10\" style=\"stroke: #383838; stroke-width: 1.5;\" width=\"71\" x=\"50.5\" y=\"365\"/><text fill=\"#000000\" font-family=\"sans-serif\" font-size=\"12\" font-style=\"italic\" lengthAdjust=\"spacingAndGlyphs\" textLength=\"69\" x=\"51.5\" y=\"381.1387\">«attribute»</text><text fill=\"#000000\" font-family=\"sans-serif\" font-size=\"12\" lengthAdjust=\"spacingAndGlyphs\" textLength=\"8\" x=\"82\" y=\"395.1074\">b</text><line style=\"stroke: #383838; stroke-width: 1.5;\" x1=\"51.5\" x2=\"120.5\" y1=\"402.9375\" y2=\"402.9375\"/></a><!--MD5=[b9389687b975829384b498ac4b7476b2]\n",
       "class E8--><a href=\"psysml:4713065a-36eb-4143-8ed6-c41cfc39d881\" target=\"_top\" title=\"psysml:4713065a-36eb-4143-8ed6-c41cfc39d881\" xlink:actuate=\"onRequest\" xlink:href=\"psysml:4713065a-36eb-4143-8ed6-c41cfc39d881\" xlink:show=\"new\" xlink:title=\"psysml:4713065a-36eb-4143-8ed6-c41cfc39d881\" xlink:type=\"simple\"><rect fill=\"#FFFFFF\" height=\"45.9375\" id=\"E8\" rx=\"10\" ry=\"10\" style=\"stroke: #383838; stroke-width: 1.5;\" width=\"71\" x=\"50.5\" y=\"446\"/><text fill=\"#000000\" font-family=\"sans-serif\" font-size=\"12\" font-style=\"italic\" lengthAdjust=\"spacingAndGlyphs\" textLength=\"69\" x=\"51.5\" y=\"462.1387\">«attribute»</text><text fill=\"#000000\" font-family=\"sans-serif\" font-size=\"12\" lengthAdjust=\"spacingAndGlyphs\" textLength=\"7\" x=\"82.5\" y=\"476.1074\">c</text><line style=\"stroke: #383838; stroke-width: 1.5;\" x1=\"51.5\" x2=\"120.5\" y1=\"483.9375\" y2=\"483.9375\"/></a><!--MD5=[05d275557350bfb9b23a4ef7222b4c39]\n",
       "link E3 to E2--><a href=\"psysml:0b532ab9-83c4-4e75-92c6-eb24823a8b5d\" target=\"_top\" title=\"psysml:0b532ab9-83c4-4e75-92c6-eb24823a8b5d\" xlink:actuate=\"onRequest\" xlink:href=\"psysml:0b532ab9-83c4-4e75-92c6-eb24823a8b5d\" xlink:show=\"new\" xlink:title=\"psysml:0b532ab9-83c4-4e75-92c6-eb24823a8b5d\" xlink:type=\"simple\"><path d=\"M121.71,75.47 C141.61,82.04 167.25,90.51 190.81,98.3 \" fill=\"none\" id=\"E3-&gt;E2\" style=\"stroke: #383838; stroke-width: 1.0;\"/><polygon fill=\"#FFFFFF\" points=\"209.94,104.62,189.7032,105.3073,194.0944,92.0138,209.94,104.62\" style=\"stroke: #383838; stroke-width: 1.0;\"/><ellipse cx=\"184.9182\" cy=\"101.6204\" fill=\"#383838\" rx=\"2\" ry=\"2\" style=\"stroke: #383838; stroke-width: 1.0;\"/><ellipse cx=\"188.0547\" cy=\"92.125\" fill=\"#383838\" rx=\"2\" ry=\"2\" style=\"stroke: #383838; stroke-width: 1.0;\"/></a><!--MD5=[ddeed8deb2209213b62e6cfabaa108b2]\n",
       "reverse link E4 to E2--><a href=\"psysml:5802290c-01bb-4d71-b710-026b61c78f11\" target=\"_top\" title=\"psysml:5802290c-01bb-4d71-b710-026b61c78f11\" xlink:actuate=\"onRequest\" xlink:href=\"psysml:5802290c-01bb-4d71-b710-026b61c78f11\" xlink:show=\"new\" xlink:title=\"psysml:5802290c-01bb-4d71-b710-026b61c78f11\" xlink:type=\"simple\"><path d=\"M153.04,135.26 C172,132.46 192.29,129.47 209.82,126.88 \" fill=\"none\" id=\"E4&lt;-E2\" style=\"stroke: #383838; stroke-width: 1.0;\"/><polygon fill=\"#FFFFFF\" points=\"140.17,137.16,146.6903,140.2399,152.0411,135.4057,145.5208,132.3258,140.17,137.16\" style=\"stroke: #383838; stroke-width: 1.0;\"/><text fill=\"#000000\" font-family=\"sans-serif\" font-size=\"13\" lengthAdjust=\"spacingAndGlyphs\" textLength=\"8\" x=\"171\" y=\"128.0669\">p</text></a><!--MD5=[a944ec4500dfc47ea4c384bbad9e196b]\n",
       "@startuml\r\n",
       "left to right direction\r\n",
       "skinparam monochrome true\r\n",
       "skinparam classbackgroundcolor white\r\n",
       "skinparam shadowing false\r\n",
       "skinparam wrapWidth 300\r\n",
       "hide circle\r\n",
       "\r\n",
       "package \"ParameterTest\" as E1  [[psysml:a676bd1d-a902-490f-aa39-52389ae12c12 ]]  {\r\n",
       "comp def \"A\" as E2  <<(T,blue) attribute def>> [[psysml:da28d9c5-e66b-4d93-bbca-9dea65a864c0 ]] {\r\n",
       "- - attributes - -\r\n",
       "x: String\r\n",
       "y: A\r\n",
       "}\r\n",
       "comp usage \"a: A\" as E3  <<(T,blue) attribute>> [[psysml:8df57e9c-49a1-414c-8fdd-827b36a310a4 ]] {\r\n",
       "}\r\n",
       "comp def \"F\" as E4  <<(T,blue) calculation def>> [[psysml:40a467ef-e18b-46ff-840a-6dc079db3448 ]] {\r\n",
       "}\r\n",
       "comp usage \"f\" as E5  <<(T,blue) attribute>> [[psysml:2237367a-6968-472a-8f6b-3570950aa6b8 ]] {\r\n",
       "}\r\n",
       "comp usage \"g\" as E6  <<(T,blue) attribute>> [[psysml:b8cf583e-a2e4-421e-986b-a2654bc5da1a ]] {\r\n",
       "}\r\n",
       "comp usage \"b\" as E7  <<(T,blue) attribute>> [[psysml:0aa11811-cac3-458e-8be5-17e4f08795b7 ]] {\r\n",
       "}\r\n",
       "comp usage \"c\" as E8  <<(T,blue) attribute>> [[psysml:4713065a-36eb-4143-8ed6-c41cfc39d881 ]] {\r\n",
       "}\r\n",
       "}\r\n",
       "E3 - -:|> E2 [[psysml:0b532ab9-83c4-4e75-92c6-eb24823a8b5d ]] \r\n",
       "E4 o- - E2 [[psysml:5802290c-01bb-4d71-b710-026b61c78f11 ]] : p\r\n",
       "@enduml\r\n",
       "\n",
       "PlantUML version 1.2020.13(Sat Jun 13 12:26:38 UTC 2020)\n",
       "(EPL source distribution)\n",
       "Java Runtime: OpenJDK Runtime Environment\n",
       "JVM: OpenJDK 64-Bit Server VM\n",
       "Default Encoding: UTF-8\n",
       "Language: en\n",
       "Country: null\n",
       "--></g></svg>"
      ]
     },
     "execution_count": 17,
     "metadata": {},
     "output_type": "execute_result"
    }
   ],
   "source": [
    "%viz --style=\"LR\" --view=\"Tree\" \"ParameterTest\""
   ]
  },
  {
   "cell_type": "code",
   "execution_count": 18,
   "id": "b6b66750",
   "metadata": {
    "execution": {
     "iopub.execute_input": "2021-10-03T08:28:25.288085Z",
     "iopub.status.busy": "2021-10-03T08:28:25.287652Z",
     "iopub.status.idle": "2021-10-03T08:28:25.293256Z",
     "shell.execute_reply": "2021-10-03T08:28:25.293577Z"
    }
   },
   "outputs": [
    {
     "data": {
      "image/svg+xml": [
       "<?xml version=\"1.0\" encoding=\"UTF-8\" standalone=\"no\"?><svg xmlns=\"http://www.w3.org/2000/svg\" xmlns:xlink=\"http://www.w3.org/1999/xlink\" contentScriptType=\"application/ecmascript\" contentStyleType=\"text/css\" height=\"12px\" preserveAspectRatio=\"none\" style=\"width:12px;height:12px;\" version=\"1.1\" viewBox=\"0 0 12 12\" width=\"12px\" zoomAndPan=\"magnify\"><defs/><g><!--MD5=[19d285c9d72a204eba4e2cd117d745e8]\n",
       "@startuml\r\n",
       "left to right direction\r\n",
       "skinparam monochrome true\r\n",
       "skinparam classbackgroundcolor white\r\n",
       "skinparam shadowing false\r\n",
       "skinparam wrapWidth 300\r\n",
       "hide circle\r\n",
       "\r\n",
       "@enduml\r\n",
       "\n",
       "PlantUML version 1.2020.13(Sat Jun 13 12:26:38 UTC 2020)\n",
       "(EPL source distribution)\n",
       "Java Runtime: OpenJDK Runtime Environment\n",
       "JVM: OpenJDK 64-Bit Server VM\n",
       "Default Encoding: UTF-8\n",
       "Language: en\n",
       "Country: null\n",
       "--></g></svg>"
      ]
     },
     "execution_count": 18,
     "metadata": {},
     "output_type": "execute_result"
    }
   ],
   "source": [
    "%viz --style=\"LR\" --view=\"State\" \"ParameterTest\""
   ]
  },
  {
   "cell_type": "code",
   "execution_count": 19,
   "id": "7bca486f",
   "metadata": {
    "execution": {
     "iopub.execute_input": "2021-10-03T08:28:25.343403Z",
     "iopub.status.busy": "2021-10-03T08:28:25.342989Z",
     "iopub.status.idle": "2021-10-03T08:28:25.382452Z",
     "shell.execute_reply": "2021-10-03T08:28:25.382105Z"
    }
   },
   "outputs": [
    {
     "data": {
      "image/svg+xml": [
       "<?xml version=\"1.0\" encoding=\"UTF-8\" standalone=\"no\"?><svg xmlns=\"http://www.w3.org/2000/svg\" xmlns:xlink=\"http://www.w3.org/1999/xlink\" contentScriptType=\"application/ecmascript\" contentStyleType=\"text/css\" height=\"541px\" preserveAspectRatio=\"none\" style=\"width:336px;height:541px;\" version=\"1.1\" viewBox=\"0 0 336 541\" width=\"336px\" zoomAndPan=\"magnify\"><defs/><g><!--MD5=[fbc87193dbaf4d95561dea2c320d4a47]\n",
       "cluster E1--><a href=\"psysml:a676bd1d-a902-490f-aa39-52389ae12c12\" target=\"_top\" title=\"psysml:a676bd1d-a902-490f-aa39-52389ae12c12\" xlink:actuate=\"onRequest\" xlink:href=\"psysml:a676bd1d-a902-490f-aa39-52389ae12c12\" xlink:show=\"new\" xlink:title=\"psysml:a676bd1d-a902-490f-aa39-52389ae12c12\" xlink:type=\"simple\"><polygon fill=\"#FFFFFF\" points=\"16,6,124,6,131,28.2969,314.72,28.2969,314.72,529,16,529,16,6\" style=\"stroke: #000000; stroke-width: 1.5;\"/><line style=\"stroke: #000000; stroke-width: 1.5;\" x1=\"16\" x2=\"131\" y1=\"28.2969\" y2=\"28.2969\"/><text fill=\"#000000\" font-family=\"sans-serif\" font-size=\"14\" font-weight=\"bold\" lengthAdjust=\"spacingAndGlyphs\" textLength=\"102\" x=\"20\" y=\"20.9951\">ParameterTest</text></a><!--MD5=[f6df4d0ebaf0b5dfb2ced0ae5af7c670]\n",
       "cluster E4--><a href=\"psysml:40a467ef-e18b-46ff-840a-6dc079db3448\" target=\"_top\" title=\"psysml:40a467ef-e18b-46ff-840a-6dc079db3448\" xlink:actuate=\"onRequest\" xlink:href=\"psysml:40a467ef-e18b-46ff-840a-6dc079db3448\" xlink:show=\"new\" xlink:title=\"psysml:40a467ef-e18b-46ff-840a-6dc079db3448\" xlink:type=\"simple\"><rect fill=\"#FFFFFF\" height=\"47\" id=\"E4\" style=\"stroke: #383838; stroke-width: 1.5;\" width=\"235.22\" x=\"49.5\" y=\"55\"/><rect fill=\"#F8F8F8\" height=\"37.9375\" style=\"stroke: #383838; stroke-width: 1.5;\" width=\"235.22\" x=\"49.5\" y=\"55\"/><text fill=\"#000000\" font-family=\"sans-serif\" font-size=\"12\" font-style=\"italic\" lengthAdjust=\"spacingAndGlyphs\" textLength=\"106\" x=\"114.11\" y=\"71.1387\">«calculation def»</text><text fill=\"#000000\" font-family=\"sans-serif\" font-size=\"12\" lengthAdjust=\"spacingAndGlyphs\" textLength=\"7\" x=\"163.61\" y=\"85.1074\">F</text></a><g id=\"E1.E2\"><a href=\"psysml:da28d9c5-e66b-4d93-bbca-9dea65a864c0\" target=\"_top\" title=\"psysml:da28d9c5-e66b-4d93-bbca-9dea65a864c0\" xlink:actuate=\"onRequest\" xlink:href=\"psysml:da28d9c5-e66b-4d93-bbca-9dea65a864c0\" xlink:show=\"new\" xlink:title=\"psysml:da28d9c5-e66b-4d93-bbca-9dea65a864c0\" xlink:type=\"simple\"><rect fill=\"#FFFFFF\" height=\"42.9375\" id=\"E2\" style=\"stroke: #383838; stroke-width: 1.5;\" width=\"100\" x=\"135.5\" y=\"144.5\"/><rect fill=\"#F8F8F8\" height=\"37.9375\" style=\"stroke: #383838; stroke-width: 1.5;\" width=\"100\" x=\"135.5\" y=\"144.5\"/><text fill=\"#000000\" font-family=\"sans-serif\" font-size=\"12\" font-style=\"italic\" lengthAdjust=\"spacingAndGlyphs\" textLength=\"93\" x=\"139\" y=\"160.6387\">«attribute def»</text><text fill=\"#000000\" font-family=\"sans-serif\" font-size=\"12\" lengthAdjust=\"spacingAndGlyphs\" textLength=\"8\" x=\"181.5\" y=\"174.6074\">A</text></a></g><!--MD5=[09b614a08d8cba4a07c9adeb5e0fee81]\n",
       "class E3--><a href=\"psysml:8df57e9c-49a1-414c-8fdd-827b36a310a4\" target=\"_top\" title=\"psysml:8df57e9c-49a1-414c-8fdd-827b36a310a4\" xlink:actuate=\"onRequest\" xlink:href=\"psysml:8df57e9c-49a1-414c-8fdd-827b36a310a4\" xlink:show=\"new\" xlink:title=\"psysml:8df57e9c-49a1-414c-8fdd-827b36a310a4\" xlink:type=\"simple\"><rect fill=\"#FFFFFF\" height=\"45.9375\" id=\"E3\" rx=\"10\" ry=\"10\" style=\"stroke: #383838; stroke-width: 1.5;\" width=\"71\" x=\"32\" y=\"143\"/><text fill=\"#000000\" font-family=\"sans-serif\" font-size=\"12\" font-style=\"italic\" lengthAdjust=\"spacingAndGlyphs\" textLength=\"69\" x=\"33\" y=\"159.1387\">«attribute»</text><text fill=\"#000000\" font-family=\"sans-serif\" font-size=\"12\" lengthAdjust=\"spacingAndGlyphs\" textLength=\"24\" x=\"55.5\" y=\"173.1074\">a: A</text><line style=\"stroke: #383838; stroke-width: 1.5;\" x1=\"33\" x2=\"102\" y1=\"180.9375\" y2=\"180.9375\"/></a><!--MD5=[b9389687b975829384b498ac4b7476b2]\n",
       "class E8--><a href=\"psysml:2237367a-6968-472a-8f6b-3570950aa6b8\" target=\"_top\" title=\"psysml:2237367a-6968-472a-8f6b-3570950aa6b8\" xlink:actuate=\"onRequest\" xlink:href=\"psysml:2237367a-6968-472a-8f6b-3570950aa6b8\" xlink:show=\"new\" xlink:title=\"psysml:2237367a-6968-472a-8f6b-3570950aa6b8\" xlink:type=\"simple\"><rect fill=\"#FFFFFF\" height=\"45.9375\" id=\"E8\" rx=\"10\" ry=\"10\" style=\"stroke: #383838; stroke-width: 1.5;\" width=\"71\" x=\"32\" y=\"224\"/><text fill=\"#000000\" font-family=\"sans-serif\" font-size=\"12\" font-style=\"italic\" lengthAdjust=\"spacingAndGlyphs\" textLength=\"69\" x=\"33\" y=\"240.1387\">«attribute»</text><text fill=\"#000000\" font-family=\"sans-serif\" font-size=\"12\" lengthAdjust=\"spacingAndGlyphs\" textLength=\"4\" x=\"65.5\" y=\"254.1074\">f</text><line style=\"stroke: #383838; stroke-width: 1.5;\" x1=\"33\" x2=\"102\" y1=\"261.9375\" y2=\"261.9375\"/></a><!--MD5=[fd4143e9d270a159db93a4ea2a975926]\n",
       "class E9--><a href=\"psysml:b8cf583e-a2e4-421e-986b-a2654bc5da1a\" target=\"_top\" title=\"psysml:b8cf583e-a2e4-421e-986b-a2654bc5da1a\" xlink:actuate=\"onRequest\" xlink:href=\"psysml:b8cf583e-a2e4-421e-986b-a2654bc5da1a\" xlink:show=\"new\" xlink:title=\"psysml:b8cf583e-a2e4-421e-986b-a2654bc5da1a\" xlink:type=\"simple\"><rect fill=\"#FFFFFF\" height=\"45.9375\" id=\"E9\" rx=\"10\" ry=\"10\" style=\"stroke: #383838; stroke-width: 1.5;\" width=\"71\" x=\"32\" y=\"305\"/><text fill=\"#000000\" font-family=\"sans-serif\" font-size=\"12\" font-style=\"italic\" lengthAdjust=\"spacingAndGlyphs\" textLength=\"69\" x=\"33\" y=\"321.1387\">«attribute»</text><text fill=\"#000000\" font-family=\"sans-serif\" font-size=\"12\" lengthAdjust=\"spacingAndGlyphs\" textLength=\"8\" x=\"63.5\" y=\"335.1074\">g</text><line style=\"stroke: #383838; stroke-width: 1.5;\" x1=\"33\" x2=\"102\" y1=\"342.9375\" y2=\"342.9375\"/></a><!--MD5=[96f4274e9e20536e775497830990834d]\n",
       "class E10--><a href=\"psysml:0aa11811-cac3-458e-8be5-17e4f08795b7\" target=\"_top\" title=\"psysml:0aa11811-cac3-458e-8be5-17e4f08795b7\" xlink:actuate=\"onRequest\" xlink:href=\"psysml:0aa11811-cac3-458e-8be5-17e4f08795b7\" xlink:show=\"new\" xlink:title=\"psysml:0aa11811-cac3-458e-8be5-17e4f08795b7\" xlink:type=\"simple\"><rect fill=\"#FFFFFF\" height=\"45.9375\" id=\"E10\" rx=\"10\" ry=\"10\" style=\"stroke: #383838; stroke-width: 1.5;\" width=\"71\" x=\"32\" y=\"386\"/><text fill=\"#000000\" font-family=\"sans-serif\" font-size=\"12\" font-style=\"italic\" lengthAdjust=\"spacingAndGlyphs\" textLength=\"69\" x=\"33\" y=\"402.1387\">«attribute»</text><text fill=\"#000000\" font-family=\"sans-serif\" font-size=\"12\" lengthAdjust=\"spacingAndGlyphs\" textLength=\"8\" x=\"63.5\" y=\"416.1074\">b</text><line style=\"stroke: #383838; stroke-width: 1.5;\" x1=\"33\" x2=\"102\" y1=\"423.9375\" y2=\"423.9375\"/></a><!--MD5=[1dd1bfd58a279cf63c5f349dbc8fc6a1]\n",
       "class E11--><a href=\"psysml:4713065a-36eb-4143-8ed6-c41cfc39d881\" target=\"_top\" title=\"psysml:4713065a-36eb-4143-8ed6-c41cfc39d881\" xlink:actuate=\"onRequest\" xlink:href=\"psysml:4713065a-36eb-4143-8ed6-c41cfc39d881\" xlink:show=\"new\" xlink:title=\"psysml:4713065a-36eb-4143-8ed6-c41cfc39d881\" xlink:type=\"simple\"><rect fill=\"#FFFFFF\" height=\"45.9375\" id=\"E11\" rx=\"10\" ry=\"10\" style=\"stroke: #383838; stroke-width: 1.5;\" width=\"71\" x=\"32\" y=\"467\"/><text fill=\"#000000\" font-family=\"sans-serif\" font-size=\"12\" font-style=\"italic\" lengthAdjust=\"spacingAndGlyphs\" textLength=\"69\" x=\"33\" y=\"483.1387\">«attribute»</text><text fill=\"#000000\" font-family=\"sans-serif\" font-size=\"12\" lengthAdjust=\"spacingAndGlyphs\" textLength=\"7\" x=\"64\" y=\"497.1074\">c</text><line style=\"stroke: #383838; stroke-width: 1.5;\" x1=\"33\" x2=\"102\" y1=\"504.9375\" y2=\"504.9375\"/></a><text fill=\"#000000\" font-family=\"sans-serif\" font-size=\"14\" lengthAdjust=\"spacingAndGlyphs\" textLength=\"9\" x=\"63\" y=\"120.9951\">p</text><rect fill=\"#383838\" height=\"12\" style=\"stroke: #F8F8F8; stroke-width: 1.5;\" width=\"12\" x=\"61.5\" y=\"96\"/><text fill=\"#000000\" font-family=\"sans-serif\" font-size=\"14\" lengthAdjust=\"spacingAndGlyphs\" textLength=\"9\" x=\"63\" y=\"33.6982\">q</text><rect fill=\"#383838\" height=\"12\" style=\"stroke: #F8F8F8; stroke-width: 1.5;\" width=\"12\" x=\"61.5\" y=\"49\"/><text fill=\"#000000\" font-family=\"sans-serif\" font-size=\"14\" lengthAdjust=\"spacingAndGlyphs\" textLength=\"39\" x=\"265.22\" y=\"53.6982\">result</text><rect fill=\"#383838\" height=\"12\" style=\"stroke: #F8F8F8; stroke-width: 1.5;\" width=\"12\" x=\"278.72\" y=\"69\"/><!--MD5=[05d275557350bfb9b23a4ef7222b4c39]\n",
       "link E3 to E2--><a href=\"psysml:0b532ab9-83c4-4e75-92c6-eb24823a8b5d\" target=\"_top\" title=\"psysml:0b532ab9-83c4-4e75-92c6-eb24823a8b5d\" xlink:actuate=\"onRequest\" xlink:href=\"psysml:0b532ab9-83c4-4e75-92c6-eb24823a8b5d\" xlink:show=\"new\" xlink:title=\"psysml:0b532ab9-83c4-4e75-92c6-eb24823a8b5d\" xlink:type=\"simple\"><path d=\"M103.3,166 C107.06,166 110.97,166 114.95,166 \" fill=\"none\" id=\"E3-&gt;E2\" style=\"stroke: #383838; stroke-width: 1.0;\"/><polygon fill=\"#FFFFFF\" points=\"135.14,166,116.14,173,116.14,159,135.14,166\" style=\"stroke: #383838; stroke-width: 1.0;\"/><ellipse cx=\"110.44\" cy=\"171\" fill=\"#383838\" rx=\"2\" ry=\"2\" style=\"stroke: #383838; stroke-width: 1.0;\"/><ellipse cx=\"110.44\" cy=\"161\" fill=\"#383838\" rx=\"2\" ry=\"2\" style=\"stroke: #383838; stroke-width: 1.0;\"/></a><!--MD5=[b37d4974f4083bb837f6f4ffc370fca9]\n",
       "@startuml\r\n",
       "skinparam ranksep 10\r\n",
       "skinparam rectangle {\r\n",
       " backgroundColor<<block>> LightGreen\r\n",
       "}\r\n",
       "left to right direction\r\n",
       "skinparam monochrome true\r\n",
       "skinparam classbackgroundcolor white\r\n",
       "skinparam shadowing false\r\n",
       "skinparam wrapWidth 300\r\n",
       "hide circle\r\n",
       "\r\n",
       "package \"ParameterTest\" as E1  [[psysml:a676bd1d-a902-490f-aa39-52389ae12c12 ]]  {\r\n",
       "def \"A\" as E2  <<(T,blue) attribute def>> [[psysml:da28d9c5-e66b-4d93-bbca-9dea65a864c0 ]] \r\n",
       "comp usage \"a: A\" as E3  <<(T,blue) attribute>> [[psysml:8df57e9c-49a1-414c-8fdd-827b36a310a4 ]] {\r\n",
       "}\r\n",
       "rec def \"F\" as E4  <<(T,blue) calculation def>> [[psysml:40a467ef-e18b-46ff-840a-6dc079db3448 ]] {\r\n",
       "portin \"p\" as E5  [[psysml:5802290c-01bb-4d71-b710-026b61c78f11 ]] \r\n",
       "portin \"q\" as E6  [[psysml:197907df-8789-46a9-bbed-d5f940e1c2ab ]] \r\n",
       "portout \"result\" as E7  [[psysml:e7c52caa-c6a6-4daa-b328-953e2590a8bc ]] \r\n",
       "}\r\n",
       "\r\n",
       "comp usage \"f\" as E8  <<(T,blue) attribute>> [[psysml:2237367a-6968-472a-8f6b-3570950aa6b8 ]] {\r\n",
       "}\r\n",
       "comp usage \"g\" as E9  <<(T,blue) attribute>> [[psysml:b8cf583e-a2e4-421e-986b-a2654bc5da1a ]] {\r\n",
       "}\r\n",
       "comp usage \"b\" as E10  <<(T,blue) attribute>> [[psysml:0aa11811-cac3-458e-8be5-17e4f08795b7 ]] {\r\n",
       "}\r\n",
       "comp usage \"c\" as E11  <<(T,blue) attribute>> [[psysml:4713065a-36eb-4143-8ed6-c41cfc39d881 ]] {\r\n",
       "}\r\n",
       "}\r\n",
       "E3 - -:|> E2 [[psysml:0b532ab9-83c4-4e75-92c6-eb24823a8b5d ]] \r\n",
       "@enduml\r\n",
       "\n",
       "PlantUML version 1.2020.13(Sat Jun 13 12:26:38 UTC 2020)\n",
       "(EPL source distribution)\n",
       "Java Runtime: OpenJDK Runtime Environment\n",
       "JVM: OpenJDK 64-Bit Server VM\n",
       "Default Encoding: UTF-8\n",
       "Language: en\n",
       "Country: null\n",
       "--></g></svg>"
      ]
     },
     "execution_count": 19,
     "metadata": {},
     "output_type": "execute_result"
    }
   ],
   "source": [
    "%viz --style=\"LR\" --view=\"Interconnection\" \"ParameterTest\""
   ]
  },
  {
   "cell_type": "code",
   "execution_count": 20,
   "id": "d086949e",
   "metadata": {
    "execution": {
     "iopub.execute_input": "2021-10-03T08:28:25.431797Z",
     "iopub.status.busy": "2021-10-03T08:28:25.431390Z",
     "iopub.status.idle": "2021-10-03T08:28:25.455967Z",
     "shell.execute_reply": "2021-10-03T08:28:25.455609Z"
    }
   },
   "outputs": [
    {
     "data": {
      "image/svg+xml": [
       "<?xml version=\"1.0\" encoding=\"UTF-8\" standalone=\"no\"?><svg xmlns=\"http://www.w3.org/2000/svg\" xmlns:xlink=\"http://www.w3.org/1999/xlink\" contentScriptType=\"application/ecmascript\" contentStyleType=\"text/css\" height=\"121px\" preserveAspectRatio=\"none\" style=\"width:242px;height:121px;\" version=\"1.1\" viewBox=\"0 0 242 121\" width=\"242px\" zoomAndPan=\"magnify\"><defs/><g><!--MD5=[fbc87193dbaf4d95561dea2c320d4a47]\n",
       "cluster E1--><a href=\"psysml:40a467ef-e18b-46ff-840a-6dc079db3448\" target=\"_top\" title=\"psysml:40a467ef-e18b-46ff-840a-6dc079db3448\" xlink:actuate=\"onRequest\" xlink:href=\"psysml:40a467ef-e18b-46ff-840a-6dc079db3448\" xlink:show=\"new\" xlink:title=\"psysml:40a467ef-e18b-46ff-840a-6dc079db3448\" xlink:type=\"simple\"><rect fill=\"#FFFFFF\" height=\"47\" id=\"E1\" style=\"stroke: #383838; stroke-width: 1.5;\" width=\"203.72\" x=\"7\" y=\"42.0986\"/><rect fill=\"#F8F8F8\" height=\"37.9375\" style=\"stroke: #383838; stroke-width: 1.5;\" width=\"203.72\" x=\"7\" y=\"42.0986\"/><text fill=\"#000000\" font-family=\"sans-serif\" font-size=\"12\" font-style=\"italic\" lengthAdjust=\"spacingAndGlyphs\" textLength=\"106\" x=\"55.86\" y=\"58.2373\">«calculation def»</text><text fill=\"#000000\" font-family=\"sans-serif\" font-size=\"12\" lengthAdjust=\"spacingAndGlyphs\" textLength=\"7\" x=\"105.36\" y=\"72.2061\">F</text></a><text fill=\"#000000\" font-family=\"sans-serif\" font-size=\"14\" lengthAdjust=\"spacingAndGlyphs\" textLength=\"9\" x=\"20.5\" y=\"108.0938\">p</text><rect fill=\"#383838\" height=\"12\" style=\"stroke: #F8F8F8; stroke-width: 1.5;\" width=\"12\" x=\"19\" y=\"83.0986\"/><text fill=\"#000000\" font-family=\"sans-serif\" font-size=\"14\" lengthAdjust=\"spacingAndGlyphs\" textLength=\"9\" x=\"20.5\" y=\"20.7969\">q</text><rect fill=\"#383838\" height=\"12\" style=\"stroke: #F8F8F8; stroke-width: 1.5;\" width=\"12\" x=\"19\" y=\"36.0986\"/><text fill=\"#000000\" font-family=\"sans-serif\" font-size=\"14\" lengthAdjust=\"spacingAndGlyphs\" textLength=\"39\" x=\"191.22\" y=\"40.7969\">result</text><rect fill=\"#383838\" height=\"12\" style=\"stroke: #F8F8F8; stroke-width: 1.5;\" width=\"12\" x=\"204.72\" y=\"56.0986\"/><!--MD5=[63f9139ed60bc78b8a6287109a830d1c]\n",
       "@startuml\r\n",
       "skinparam ranksep 8\r\n",
       "left to right direction\r\n",
       "skinparam monochrome true\r\n",
       "skinparam classbackgroundcolor white\r\n",
       "skinparam shadowing false\r\n",
       "skinparam wrapWidth 300\r\n",
       "hide circle\r\n",
       "\r\n",
       "rec def \"F\" as E1  <<(T,blue) calculation def>> [[psysml:40a467ef-e18b-46ff-840a-6dc079db3448 ]] {\r\n",
       "portin \"p\" as E2  [[psysml:5802290c-01bb-4d71-b710-026b61c78f11 ]] \r\n",
       "portin \"q\" as E3  [[psysml:197907df-8789-46a9-bbed-d5f940e1c2ab ]] \r\n",
       "portout \"result\" as E4  [[psysml:e7c52caa-c6a6-4daa-b328-953e2590a8bc ]] \r\n",
       "}\r\n",
       "\r\n",
       "@enduml\r\n",
       "\n",
       "PlantUML version 1.2020.13(Sat Jun 13 12:26:38 UTC 2020)\n",
       "(EPL source distribution)\n",
       "Java Runtime: OpenJDK Runtime Environment\n",
       "JVM: OpenJDK 64-Bit Server VM\n",
       "Default Encoding: UTF-8\n",
       "Language: en\n",
       "Country: null\n",
       "--></g></svg>"
      ]
     },
     "execution_count": 20,
     "metadata": {},
     "output_type": "execute_result"
    }
   ],
   "source": [
    "%viz --style=\"LR\" --view=\"Action\" \"ParameterTest\""
   ]
  },
  {
   "cell_type": "code",
   "execution_count": 21,
   "id": "5a445e17",
   "metadata": {
    "execution": {
     "iopub.execute_input": "2021-10-03T08:28:25.505374Z",
     "iopub.status.busy": "2021-10-03T08:28:25.504969Z",
     "iopub.status.idle": "2021-10-03T08:28:25.510659Z",
     "shell.execute_reply": "2021-10-03T08:28:25.510973Z"
    }
   },
   "outputs": [
    {
     "data": {
      "image/svg+xml": [
       "<?xml version=\"1.0\" encoding=\"UTF-8\" standalone=\"no\"?><svg xmlns=\"http://www.w3.org/2000/svg\" xmlns:xlink=\"http://www.w3.org/1999/xlink\" contentScriptType=\"application/ecmascript\" contentStyleType=\"text/css\" height=\"12px\" preserveAspectRatio=\"none\" style=\"width:12px;height:12px;\" version=\"1.1\" viewBox=\"0 0 12 12\" width=\"12px\" zoomAndPan=\"magnify\"><defs/><g><!--MD5=[238c11ea2002f03115ad6b49a457d50e]\n",
       "@startuml\r\n",
       "skinparam roundcorner 20\r\n",
       "skinparam BoxPadding 20\r\n",
       "skinparam SequenceBoxBackgroundColor #white\r\n",
       "skinparam style strictuml\r\n",
       "skinparam maxMessageSize 100\r\n",
       "left to right direction\r\n",
       "skinparam monochrome true\r\n",
       "skinparam classbackgroundcolor white\r\n",
       "skinparam shadowing false\r\n",
       "skinparam wrapWidth 300\r\n",
       "hide circle\r\n",
       "\r\n",
       "@enduml\r\n",
       "\n",
       "PlantUML version 1.2020.13(Sat Jun 13 12:26:38 UTC 2020)\n",
       "(EPL source distribution)\n",
       "Java Runtime: OpenJDK Runtime Environment\n",
       "JVM: OpenJDK 64-Bit Server VM\n",
       "Default Encoding: UTF-8\n",
       "Language: en\n",
       "Country: null\n",
       "--></g></svg>"
      ]
     },
     "execution_count": 21,
     "metadata": {},
     "output_type": "execute_result"
    }
   ],
   "source": [
    "%viz --style=\"LR\" --view=\"Sequence\" \"ParameterTest\""
   ]
  },
  {
   "cell_type": "code",
   "execution_count": 22,
   "id": "a859bafc",
   "metadata": {
    "execution": {
     "iopub.execute_input": "2021-10-03T08:28:25.560713Z",
     "iopub.status.busy": "2021-10-03T08:28:25.560312Z",
     "iopub.status.idle": "2021-10-03T08:28:25.620066Z",
     "shell.execute_reply": "2021-10-03T08:28:25.619689Z"
    }
   },
   "outputs": [
    {
     "data": {
      "image/svg+xml": [
       "<?xml version=\"1.0\" encoding=\"UTF-8\" standalone=\"no\"?><svg xmlns=\"http://www.w3.org/2000/svg\" xmlns:xlink=\"http://www.w3.org/1999/xlink\" contentScriptType=\"application/ecmascript\" contentStyleType=\"text/css\" height=\"541px\" preserveAspectRatio=\"none\" style=\"width:474px;height:541px;\" version=\"1.1\" viewBox=\"0 0 474 541\" width=\"474px\" zoomAndPan=\"magnify\"><defs/><g><!--MD5=[fbc87193dbaf4d95561dea2c320d4a47]\n",
       "cluster E1--><a href=\"psysml:a676bd1d-a902-490f-aa39-52389ae12c12\" target=\"_top\" title=\"psysml:a676bd1d-a902-490f-aa39-52389ae12c12\" xlink:actuate=\"onRequest\" xlink:href=\"psysml:a676bd1d-a902-490f-aa39-52389ae12c12\" xlink:show=\"new\" xlink:title=\"psysml:a676bd1d-a902-490f-aa39-52389ae12c12\" xlink:type=\"simple\"><polygon fill=\"#FFFFFF\" points=\"16,6,124,6,131,28.2969,452.72,28.2969,452.72,529,16,529,16,6\" style=\"stroke: #000000; stroke-width: 1.5;\"/><line style=\"stroke: #000000; stroke-width: 1.5;\" x1=\"16\" x2=\"131\" y1=\"28.2969\" y2=\"28.2969\"/><text fill=\"#000000\" font-family=\"sans-serif\" font-size=\"14\" font-weight=\"bold\" lengthAdjust=\"spacingAndGlyphs\" textLength=\"102\" x=\"20\" y=\"20.9951\">ParameterTest</text></a><!--MD5=[f6df4d0ebaf0b5dfb2ced0ae5af7c670]\n",
       "cluster E4--><a href=\"psysml:40a467ef-e18b-46ff-840a-6dc079db3448\" target=\"_top\" title=\"psysml:40a467ef-e18b-46ff-840a-6dc079db3448\" xlink:actuate=\"onRequest\" xlink:href=\"psysml:40a467ef-e18b-46ff-840a-6dc079db3448\" xlink:show=\"new\" xlink:title=\"psysml:40a467ef-e18b-46ff-840a-6dc079db3448\" xlink:type=\"simple\"><rect fill=\"#FFFFFF\" height=\"47\" id=\"E4\" style=\"stroke: #383838; stroke-width: 1.5;\" width=\"373.22\" x=\"49.5\" y=\"55\"/><rect fill=\"#F8F8F8\" height=\"37.9375\" style=\"stroke: #383838; stroke-width: 1.5;\" width=\"373.22\" x=\"49.5\" y=\"55\"/><text fill=\"#000000\" font-family=\"sans-serif\" font-size=\"12\" font-style=\"italic\" lengthAdjust=\"spacingAndGlyphs\" textLength=\"106\" x=\"183.11\" y=\"71.1387\">«calculation def»</text><text fill=\"#000000\" font-family=\"sans-serif\" font-size=\"12\" lengthAdjust=\"spacingAndGlyphs\" textLength=\"7\" x=\"232.61\" y=\"85.1074\">F</text></a><!--MD5=[b4997ac47864f28c2f74865a473b2911]\n",
       "class E2--><a href=\"psysml:da28d9c5-e66b-4d93-bbca-9dea65a864c0\" target=\"_top\" title=\"psysml:da28d9c5-e66b-4d93-bbca-9dea65a864c0\" xlink:actuate=\"onRequest\" xlink:href=\"psysml:da28d9c5-e66b-4d93-bbca-9dea65a864c0\" xlink:show=\"new\" xlink:title=\"psysml:da28d9c5-e66b-4d93-bbca-9dea65a864c0\" xlink:type=\"simple\"><rect fill=\"#FFFFFF\" height=\"88.3516\" id=\"E2\" style=\"stroke: #383838; stroke-width: 1.5;\" width=\"95\" x=\"182\" y=\"128\"/><text fill=\"#000000\" font-family=\"sans-serif\" font-size=\"12\" font-style=\"italic\" lengthAdjust=\"spacingAndGlyphs\" textLength=\"93\" x=\"183\" y=\"144.1387\">«attribute def»</text><text fill=\"#000000\" font-family=\"sans-serif\" font-size=\"12\" lengthAdjust=\"spacingAndGlyphs\" textLength=\"8\" x=\"225.5\" y=\"158.1074\">A</text><line style=\"stroke: #383838; stroke-width: 1.5;\" x1=\"183\" x2=\"276\" y1=\"165.9375\" y2=\"165.9375\"/><text fill=\"#000000\" font-family=\"sans-serif\" font-size=\"11\" lengthAdjust=\"spacingAndGlyphs\" textLength=\"48\" x=\"188\" y=\"196.9526\">x: String</text><text fill=\"#000000\" font-family=\"sans-serif\" font-size=\"11\" lengthAdjust=\"spacingAndGlyphs\" textLength=\"21\" x=\"188\" y=\"209.7573\">y: A</text><line style=\"stroke: #383838; stroke-width: 1.0;\" x1=\"183\" x2=\"202\" y1=\"180.3398\" y2=\"180.3398\"/><text fill=\"#000000\" font-family=\"sans-serif\" font-size=\"11\" lengthAdjust=\"spacingAndGlyphs\" textLength=\"55\" x=\"202\" y=\"183.6479\">attributes</text><line style=\"stroke: #383838; stroke-width: 1.0;\" x1=\"257\" x2=\"276\" y1=\"180.3398\" y2=\"180.3398\"/></a><!--MD5=[09b614a08d8cba4a07c9adeb5e0fee81]\n",
       "class E3--><a href=\"psysml:8df57e9c-49a1-414c-8fdd-827b36a310a4\" target=\"_top\" title=\"psysml:8df57e9c-49a1-414c-8fdd-827b36a310a4\" xlink:actuate=\"onRequest\" xlink:href=\"psysml:8df57e9c-49a1-414c-8fdd-827b36a310a4\" xlink:show=\"new\" xlink:title=\"psysml:8df57e9c-49a1-414c-8fdd-827b36a310a4\" xlink:type=\"simple\"><rect fill=\"#FFFFFF\" height=\"45.9375\" id=\"E3\" rx=\"10\" ry=\"10\" style=\"stroke: #383838; stroke-width: 1.5;\" width=\"71\" x=\"32\" y=\"143\"/><text fill=\"#000000\" font-family=\"sans-serif\" font-size=\"12\" font-style=\"italic\" lengthAdjust=\"spacingAndGlyphs\" textLength=\"69\" x=\"33\" y=\"159.1387\">«attribute»</text><text fill=\"#000000\" font-family=\"sans-serif\" font-size=\"12\" lengthAdjust=\"spacingAndGlyphs\" textLength=\"24\" x=\"55.5\" y=\"173.1074\">a: A</text><line style=\"stroke: #383838; stroke-width: 1.5;\" x1=\"33\" x2=\"102\" y1=\"180.9375\" y2=\"180.9375\"/></a><!--MD5=[b9389687b975829384b498ac4b7476b2]\n",
       "class E8--><a href=\"psysml:2237367a-6968-472a-8f6b-3570950aa6b8\" target=\"_top\" title=\"psysml:2237367a-6968-472a-8f6b-3570950aa6b8\" xlink:actuate=\"onRequest\" xlink:href=\"psysml:2237367a-6968-472a-8f6b-3570950aa6b8\" xlink:show=\"new\" xlink:title=\"psysml:2237367a-6968-472a-8f6b-3570950aa6b8\" xlink:type=\"simple\"><rect fill=\"#FFFFFF\" height=\"45.9375\" id=\"E8\" rx=\"10\" ry=\"10\" style=\"stroke: #383838; stroke-width: 1.5;\" width=\"71\" x=\"32\" y=\"224\"/><text fill=\"#000000\" font-family=\"sans-serif\" font-size=\"12\" font-style=\"italic\" lengthAdjust=\"spacingAndGlyphs\" textLength=\"69\" x=\"33\" y=\"240.1387\">«attribute»</text><text fill=\"#000000\" font-family=\"sans-serif\" font-size=\"12\" lengthAdjust=\"spacingAndGlyphs\" textLength=\"4\" x=\"65.5\" y=\"254.1074\">f</text><line style=\"stroke: #383838; stroke-width: 1.5;\" x1=\"33\" x2=\"102\" y1=\"261.9375\" y2=\"261.9375\"/></a><!--MD5=[fd4143e9d270a159db93a4ea2a975926]\n",
       "class E9--><a href=\"psysml:b8cf583e-a2e4-421e-986b-a2654bc5da1a\" target=\"_top\" title=\"psysml:b8cf583e-a2e4-421e-986b-a2654bc5da1a\" xlink:actuate=\"onRequest\" xlink:href=\"psysml:b8cf583e-a2e4-421e-986b-a2654bc5da1a\" xlink:show=\"new\" xlink:title=\"psysml:b8cf583e-a2e4-421e-986b-a2654bc5da1a\" xlink:type=\"simple\"><rect fill=\"#FFFFFF\" height=\"45.9375\" id=\"E9\" rx=\"10\" ry=\"10\" style=\"stroke: #383838; stroke-width: 1.5;\" width=\"71\" x=\"32\" y=\"305\"/><text fill=\"#000000\" font-family=\"sans-serif\" font-size=\"12\" font-style=\"italic\" lengthAdjust=\"spacingAndGlyphs\" textLength=\"69\" x=\"33\" y=\"321.1387\">«attribute»</text><text fill=\"#000000\" font-family=\"sans-serif\" font-size=\"12\" lengthAdjust=\"spacingAndGlyphs\" textLength=\"8\" x=\"63.5\" y=\"335.1074\">g</text><line style=\"stroke: #383838; stroke-width: 1.5;\" x1=\"33\" x2=\"102\" y1=\"342.9375\" y2=\"342.9375\"/></a><!--MD5=[96f4274e9e20536e775497830990834d]\n",
       "class E10--><a href=\"psysml:0aa11811-cac3-458e-8be5-17e4f08795b7\" target=\"_top\" title=\"psysml:0aa11811-cac3-458e-8be5-17e4f08795b7\" xlink:actuate=\"onRequest\" xlink:href=\"psysml:0aa11811-cac3-458e-8be5-17e4f08795b7\" xlink:show=\"new\" xlink:title=\"psysml:0aa11811-cac3-458e-8be5-17e4f08795b7\" xlink:type=\"simple\"><rect fill=\"#FFFFFF\" height=\"45.9375\" id=\"E10\" rx=\"10\" ry=\"10\" style=\"stroke: #383838; stroke-width: 1.5;\" width=\"71\" x=\"32\" y=\"386\"/><text fill=\"#000000\" font-family=\"sans-serif\" font-size=\"12\" font-style=\"italic\" lengthAdjust=\"spacingAndGlyphs\" textLength=\"69\" x=\"33\" y=\"402.1387\">«attribute»</text><text fill=\"#000000\" font-family=\"sans-serif\" font-size=\"12\" lengthAdjust=\"spacingAndGlyphs\" textLength=\"8\" x=\"63.5\" y=\"416.1074\">b</text><line style=\"stroke: #383838; stroke-width: 1.5;\" x1=\"33\" x2=\"102\" y1=\"423.9375\" y2=\"423.9375\"/></a><!--MD5=[1dd1bfd58a279cf63c5f349dbc8fc6a1]\n",
       "class E11--><a href=\"psysml:4713065a-36eb-4143-8ed6-c41cfc39d881\" target=\"_top\" title=\"psysml:4713065a-36eb-4143-8ed6-c41cfc39d881\" xlink:actuate=\"onRequest\" xlink:href=\"psysml:4713065a-36eb-4143-8ed6-c41cfc39d881\" xlink:show=\"new\" xlink:title=\"psysml:4713065a-36eb-4143-8ed6-c41cfc39d881\" xlink:type=\"simple\"><rect fill=\"#FFFFFF\" height=\"45.9375\" id=\"E11\" rx=\"10\" ry=\"10\" style=\"stroke: #383838; stroke-width: 1.5;\" width=\"71\" x=\"32\" y=\"467\"/><text fill=\"#000000\" font-family=\"sans-serif\" font-size=\"12\" font-style=\"italic\" lengthAdjust=\"spacingAndGlyphs\" textLength=\"69\" x=\"33\" y=\"483.1387\">«attribute»</text><text fill=\"#000000\" font-family=\"sans-serif\" font-size=\"12\" lengthAdjust=\"spacingAndGlyphs\" textLength=\"7\" x=\"64\" y=\"497.1074\">c</text><line style=\"stroke: #383838; stroke-width: 1.5;\" x1=\"33\" x2=\"102\" y1=\"504.9375\" y2=\"504.9375\"/></a><text fill=\"#000000\" font-family=\"sans-serif\" font-size=\"14\" lengthAdjust=\"spacingAndGlyphs\" textLength=\"9\" x=\"63\" y=\"120.9951\">p</text><rect fill=\"#383838\" height=\"12\" style=\"stroke: #F8F8F8; stroke-width: 1.5;\" width=\"12\" x=\"61.5\" y=\"96\"/><text fill=\"#000000\" font-family=\"sans-serif\" font-size=\"14\" lengthAdjust=\"spacingAndGlyphs\" textLength=\"9\" x=\"63\" y=\"33.6982\">q</text><rect fill=\"#383838\" height=\"12\" style=\"stroke: #F8F8F8; stroke-width: 1.5;\" width=\"12\" x=\"61.5\" y=\"49\"/><text fill=\"#000000\" font-family=\"sans-serif\" font-size=\"14\" lengthAdjust=\"spacingAndGlyphs\" textLength=\"39\" x=\"403.22\" y=\"53.6982\">result</text><rect fill=\"#383838\" height=\"12\" style=\"stroke: #F8F8F8; stroke-width: 1.5;\" width=\"12\" x=\"416.72\" y=\"69\"/><!--MD5=[05d275557350bfb9b23a4ef7222b4c39]\n",
       "link E3 to E2--><a href=\"psysml:0b532ab9-83c4-4e75-92c6-eb24823a8b5d\" target=\"_top\" title=\"psysml:0b532ab9-83c4-4e75-92c6-eb24823a8b5d\" xlink:actuate=\"onRequest\" xlink:href=\"psysml:0b532ab9-83c4-4e75-92c6-eb24823a8b5d\" xlink:show=\"new\" xlink:title=\"psysml:0b532ab9-83c4-4e75-92c6-eb24823a8b5d\" xlink:type=\"simple\"><path d=\"M103.22,167.3 C120.27,167.94 141.42,168.73 161.45,169.49 \" fill=\"none\" id=\"E3-&gt;E2\" style=\"stroke: #383838; stroke-width: 1.0;\"/><polygon fill=\"#FFFFFF\" points=\"181.71,170.25,162.4631,176.5394,162.9831,162.5491,181.71,170.25\" style=\"stroke: #383838; stroke-width: 1.0;\"/><ellipse cx=\"156.8413\" cy=\"174.3291\" fill=\"#383838\" rx=\"2\" ry=\"2\" style=\"stroke: #383838; stroke-width: 1.0;\"/><ellipse cx=\"157.2128\" cy=\"164.336\" fill=\"#383838\" rx=\"2\" ry=\"2\" style=\"stroke: #383838; stroke-width: 1.0;\"/></a><!--MD5=[3528226537802662e9fe83d9b139e066]\n",
       "@startuml\r\n",
       "left to right direction\r\n",
       "skinparam monochrome true\r\n",
       "skinparam classbackgroundcolor white\r\n",
       "skinparam shadowing false\r\n",
       "skinparam wrapWidth 300\r\n",
       "hide circle\r\n",
       "\r\n",
       "package \"ParameterTest\" as E1  [[psysml:a676bd1d-a902-490f-aa39-52389ae12c12 ]]  {\r\n",
       "comp def \"A\" as E2  <<(T,blue) attribute def>> [[psysml:da28d9c5-e66b-4d93-bbca-9dea65a864c0 ]] {\r\n",
       "- - attributes - -\r\n",
       "x: String\r\n",
       "y: A\r\n",
       "}\r\n",
       "comp usage \"a: A\" as E3  <<(T,blue) attribute>> [[psysml:8df57e9c-49a1-414c-8fdd-827b36a310a4 ]] {\r\n",
       "}\r\n",
       "rec def \"F\" as E4  <<(T,blue) calculation def>> [[psysml:40a467ef-e18b-46ff-840a-6dc079db3448 ]] {\r\n",
       "portin \"p\" as E5  [[psysml:5802290c-01bb-4d71-b710-026b61c78f11 ]] \r\n",
       "portin \"q\" as E6  [[psysml:197907df-8789-46a9-bbed-d5f940e1c2ab ]] \r\n",
       "portout \"result\" as E7  [[psysml:e7c52caa-c6a6-4daa-b328-953e2590a8bc ]] \r\n",
       "}\r\n",
       "\r\n",
       "comp usage \"f\" as E8  <<(T,blue) attribute>> [[psysml:2237367a-6968-472a-8f6b-3570950aa6b8 ]] {\r\n",
       "}\r\n",
       "comp usage \"g\" as E9  <<(T,blue) attribute>> [[psysml:b8cf583e-a2e4-421e-986b-a2654bc5da1a ]] {\r\n",
       "}\r\n",
       "comp usage \"b\" as E10  <<(T,blue) attribute>> [[psysml:0aa11811-cac3-458e-8be5-17e4f08795b7 ]] {\r\n",
       "}\r\n",
       "comp usage \"c\" as E11  <<(T,blue) attribute>> [[psysml:4713065a-36eb-4143-8ed6-c41cfc39d881 ]] {\r\n",
       "}\r\n",
       "}\r\n",
       "E3 - -:|> E2 [[psysml:0b532ab9-83c4-4e75-92c6-eb24823a8b5d ]] \r\n",
       "@enduml\r\n",
       "\n",
       "PlantUML version 1.2020.13(Sat Jun 13 12:26:38 UTC 2020)\n",
       "(EPL source distribution)\n",
       "Java Runtime: OpenJDK Runtime Environment\n",
       "JVM: OpenJDK 64-Bit Server VM\n",
       "Default Encoding: UTF-8\n",
       "Language: en\n",
       "Country: null\n",
       "--></g></svg>"
      ]
     },
     "execution_count": 22,
     "metadata": {},
     "output_type": "execute_result"
    }
   ],
   "source": [
    "%viz --style=\"LR\" --view=\"MIXED\" \"ParameterTest\""
   ]
  },
  {
   "cell_type": "code",
   "execution_count": 23,
   "id": "e058e5d6",
   "metadata": {
    "execution": {
     "iopub.execute_input": "2021-10-03T08:28:25.669304Z",
     "iopub.status.busy": "2021-10-03T08:28:25.668905Z",
     "iopub.status.idle": "2021-10-03T08:28:25.719629Z",
     "shell.execute_reply": "2021-10-03T08:28:25.717792Z"
    }
   },
   "outputs": [
    {
     "data": {
      "image/svg+xml": [
       "<?xml version=\"1.0\" encoding=\"UTF-8\" standalone=\"no\"?><svg xmlns=\"http://www.w3.org/2000/svg\" xmlns:xlink=\"http://www.w3.org/1999/xlink\" contentScriptType=\"application/ecmascript\" contentStyleType=\"text/css\" height=\"387px\" preserveAspectRatio=\"none\" style=\"width:740px;height:387px;\" version=\"1.1\" viewBox=\"0 0 740 387\" width=\"740px\" zoomAndPan=\"magnify\"><defs><filter height=\"300%\" id=\"fja1y46vyo4w6\" width=\"300%\" x=\"-1\" y=\"-1\"><feGaussianBlur result=\"blurOut\" stdDeviation=\"2.0\"/><feColorMatrix in=\"blurOut\" result=\"blurOut2\" type=\"matrix\" values=\"0 0 0 0 0 0 0 0 0 0 0 0 0 0 0 0 0 0 .4 0\"/><feOffset dx=\"4.0\" dy=\"4.0\" in=\"blurOut2\" result=\"blurOut3\"/><feBlend in=\"SourceGraphic\" in2=\"blurOut3\" mode=\"normal\"/></filter></defs><g><!--MD5=[fbc87193dbaf4d95561dea2c320d4a47]\n",
       "cluster E1--><a href=\"psysml:a676bd1d-a902-490f-aa39-52389ae12c12\" target=\"_top\" title=\"psysml:a676bd1d-a902-490f-aa39-52389ae12c12\" xlink:actuate=\"onRequest\" xlink:href=\"psysml:a676bd1d-a902-490f-aa39-52389ae12c12\" xlink:show=\"new\" xlink:title=\"psysml:a676bd1d-a902-490f-aa39-52389ae12c12\" xlink:type=\"simple\"><polygon fill=\"#FFFFFF\" filter=\"url(#fja1y46vyo4w6)\" points=\"16,6,124,6,131,28.2969,718,28.2969,718,375.72,16,375.72,16,6\" style=\"stroke: #000000; stroke-width: 1.5;\"/><line style=\"stroke: #000000; stroke-width: 1.5;\" x1=\"16\" x2=\"131\" y1=\"28.2969\" y2=\"28.2969\"/><text fill=\"#000000\" font-family=\"sans-serif\" font-size=\"14\" font-weight=\"bold\" lengthAdjust=\"spacingAndGlyphs\" textLength=\"102\" x=\"20\" y=\"20.9951\">ParameterTest</text></a><!--MD5=[f6df4d0ebaf0b5dfb2ced0ae5af7c670]\n",
       "cluster E4--><a href=\"psysml:40a467ef-e18b-46ff-840a-6dc079db3448\" target=\"_top\" title=\"psysml:40a467ef-e18b-46ff-840a-6dc079db3448\" xlink:actuate=\"onRequest\" xlink:href=\"psysml:40a467ef-e18b-46ff-840a-6dc079db3448\" xlink:show=\"new\" xlink:title=\"psysml:40a467ef-e18b-46ff-840a-6dc079db3448\" xlink:type=\"simple\"><rect fill=\"#FFFFFF\" filter=\"url(#fja1y46vyo4w6)\" height=\"281.72\" id=\"E4\" style=\"stroke: #A80036; stroke-width: 1.5;\" width=\"148\" x=\"554\" y=\"64\"/><rect fill=\"#FEFECE\" height=\"37.9375\" style=\"stroke: #A80036; stroke-width: 1.5;\" width=\"148\" x=\"554\" y=\"64\"/><text fill=\"#000000\" font-family=\"sans-serif\" font-size=\"12\" font-style=\"italic\" lengthAdjust=\"spacingAndGlyphs\" textLength=\"106\" x=\"575\" y=\"80.1387\">«calculation def»</text><text fill=\"#000000\" font-family=\"sans-serif\" font-size=\"12\" lengthAdjust=\"spacingAndGlyphs\" textLength=\"7\" x=\"624.5\" y=\"94.1074\">F</text></a><!--MD5=[b4997ac47864f28c2f74865a473b2911]\n",
       "class E2--><a href=\"psysml:da28d9c5-e66b-4d93-bbca-9dea65a864c0\" target=\"_top\" title=\"psysml:da28d9c5-e66b-4d93-bbca-9dea65a864c0\" xlink:actuate=\"onRequest\" xlink:href=\"psysml:da28d9c5-e66b-4d93-bbca-9dea65a864c0\" xlink:show=\"new\" xlink:title=\"psysml:da28d9c5-e66b-4d93-bbca-9dea65a864c0\" xlink:type=\"simple\"><rect fill=\"#FEFECE\" filter=\"url(#fja1y46vyo4w6)\" height=\"71.5469\" id=\"E2\" style=\"stroke: #A80036; stroke-width: 1.5;\" width=\"95\" x=\"422.5\" y=\"147\"/><text fill=\"#000000\" font-family=\"sans-serif\" font-size=\"12\" font-style=\"italic\" lengthAdjust=\"spacingAndGlyphs\" textLength=\"93\" x=\"423.5\" y=\"163.1387\">«attribute def»</text><text fill=\"#000000\" font-family=\"sans-serif\" font-size=\"12\" lengthAdjust=\"spacingAndGlyphs\" textLength=\"8\" x=\"466\" y=\"177.1074\">A</text><line style=\"stroke: #A80036; stroke-width: 1.5;\" x1=\"423.5\" x2=\"516.5\" y1=\"184.9375\" y2=\"184.9375\"/><text fill=\"#000000\" font-family=\"sans-serif\" font-size=\"11\" lengthAdjust=\"spacingAndGlyphs\" textLength=\"48\" x=\"428.5\" y=\"199.1479\">x: String</text><text fill=\"#000000\" font-family=\"sans-serif\" font-size=\"11\" lengthAdjust=\"spacingAndGlyphs\" textLength=\"21\" x=\"428.5\" y=\"211.9526\">y: A</text></a><!--MD5=[09b614a08d8cba4a07c9adeb5e0fee81]\n",
       "class E3--><a href=\"psysml:8df57e9c-49a1-414c-8fdd-827b36a310a4\" target=\"_top\" title=\"psysml:8df57e9c-49a1-414c-8fdd-827b36a310a4\" xlink:actuate=\"onRequest\" xlink:href=\"psysml:8df57e9c-49a1-414c-8fdd-827b36a310a4\" xlink:show=\"new\" xlink:title=\"psysml:8df57e9c-49a1-414c-8fdd-827b36a310a4\" xlink:type=\"simple\"><rect fill=\"#FEFECE\" filter=\"url(#fja1y46vyo4w6)\" height=\"45.9375\" id=\"E3\" rx=\"10\" ry=\"10\" style=\"stroke: #A80036; stroke-width: 1.5;\" width=\"71\" x=\"456.5\" y=\"41\"/><text fill=\"#000000\" font-family=\"sans-serif\" font-size=\"12\" font-style=\"italic\" lengthAdjust=\"spacingAndGlyphs\" textLength=\"69\" x=\"457.5\" y=\"57.1387\">«attribute»</text><text fill=\"#000000\" font-family=\"sans-serif\" font-size=\"12\" lengthAdjust=\"spacingAndGlyphs\" textLength=\"24\" x=\"480\" y=\"71.1074\">a: A</text><line style=\"stroke: #A80036; stroke-width: 1.5;\" x1=\"457.5\" x2=\"526.5\" y1=\"78.9375\" y2=\"78.9375\"/></a><!--MD5=[b9389687b975829384b498ac4b7476b2]\n",
       "class E8--><a href=\"psysml:2237367a-6968-472a-8f6b-3570950aa6b8\" target=\"_top\" title=\"psysml:2237367a-6968-472a-8f6b-3570950aa6b8\" xlink:actuate=\"onRequest\" xlink:href=\"psysml:2237367a-6968-472a-8f6b-3570950aa6b8\" xlink:show=\"new\" xlink:title=\"psysml:2237367a-6968-472a-8f6b-3570950aa6b8\" xlink:type=\"simple\"><rect fill=\"#FEFECE\" filter=\"url(#fja1y46vyo4w6)\" height=\"45.9375\" id=\"E8\" rx=\"10\" ry=\"10\" style=\"stroke: #A80036; stroke-width: 1.5;\" width=\"71\" x=\"350.5\" y=\"41\"/><text fill=\"#000000\" font-family=\"sans-serif\" font-size=\"12\" font-style=\"italic\" lengthAdjust=\"spacingAndGlyphs\" textLength=\"69\" x=\"351.5\" y=\"57.1387\">«attribute»</text><text fill=\"#000000\" font-family=\"sans-serif\" font-size=\"12\" lengthAdjust=\"spacingAndGlyphs\" textLength=\"4\" x=\"384\" y=\"71.1074\">f</text><line style=\"stroke: #A80036; stroke-width: 1.5;\" x1=\"351.5\" x2=\"420.5\" y1=\"78.9375\" y2=\"78.9375\"/></a><!--MD5=[fd4143e9d270a159db93a4ea2a975926]\n",
       "class E9--><a href=\"psysml:b8cf583e-a2e4-421e-986b-a2654bc5da1a\" target=\"_top\" title=\"psysml:b8cf583e-a2e4-421e-986b-a2654bc5da1a\" xlink:actuate=\"onRequest\" xlink:href=\"psysml:b8cf583e-a2e4-421e-986b-a2654bc5da1a\" xlink:show=\"new\" xlink:title=\"psysml:b8cf583e-a2e4-421e-986b-a2654bc5da1a\" xlink:type=\"simple\"><rect fill=\"#FEFECE\" filter=\"url(#fja1y46vyo4w6)\" height=\"45.9375\" id=\"E9\" rx=\"10\" ry=\"10\" style=\"stroke: #A80036; stroke-width: 1.5;\" width=\"71\" x=\"244.5\" y=\"41\"/><text fill=\"#000000\" font-family=\"sans-serif\" font-size=\"12\" font-style=\"italic\" lengthAdjust=\"spacingAndGlyphs\" textLength=\"69\" x=\"245.5\" y=\"57.1387\">«attribute»</text><text fill=\"#000000\" font-family=\"sans-serif\" font-size=\"12\" lengthAdjust=\"spacingAndGlyphs\" textLength=\"8\" x=\"276\" y=\"71.1074\">g</text><line style=\"stroke: #A80036; stroke-width: 1.5;\" x1=\"245.5\" x2=\"314.5\" y1=\"78.9375\" y2=\"78.9375\"/></a><!--MD5=[96f4274e9e20536e775497830990834d]\n",
       "class E10--><a href=\"psysml:0aa11811-cac3-458e-8be5-17e4f08795b7\" target=\"_top\" title=\"psysml:0aa11811-cac3-458e-8be5-17e4f08795b7\" xlink:actuate=\"onRequest\" xlink:href=\"psysml:0aa11811-cac3-458e-8be5-17e4f08795b7\" xlink:show=\"new\" xlink:title=\"psysml:0aa11811-cac3-458e-8be5-17e4f08795b7\" xlink:type=\"simple\"><rect fill=\"#FEFECE\" filter=\"url(#fja1y46vyo4w6)\" height=\"45.9375\" id=\"E10\" rx=\"10\" ry=\"10\" style=\"stroke: #A80036; stroke-width: 1.5;\" width=\"71\" x=\"138.5\" y=\"41\"/><text fill=\"#000000\" font-family=\"sans-serif\" font-size=\"12\" font-style=\"italic\" lengthAdjust=\"spacingAndGlyphs\" textLength=\"69\" x=\"139.5\" y=\"57.1387\">«attribute»</text><text fill=\"#000000\" font-family=\"sans-serif\" font-size=\"12\" lengthAdjust=\"spacingAndGlyphs\" textLength=\"8\" x=\"170\" y=\"71.1074\">b</text><line style=\"stroke: #A80036; stroke-width: 1.5;\" x1=\"139.5\" x2=\"208.5\" y1=\"78.9375\" y2=\"78.9375\"/></a><!--MD5=[1dd1bfd58a279cf63c5f349dbc8fc6a1]\n",
       "class E11--><a href=\"psysml:4713065a-36eb-4143-8ed6-c41cfc39d881\" target=\"_top\" title=\"psysml:4713065a-36eb-4143-8ed6-c41cfc39d881\" xlink:actuate=\"onRequest\" xlink:href=\"psysml:4713065a-36eb-4143-8ed6-c41cfc39d881\" xlink:show=\"new\" xlink:title=\"psysml:4713065a-36eb-4143-8ed6-c41cfc39d881\" xlink:type=\"simple\"><rect fill=\"#FEFECE\" filter=\"url(#fja1y46vyo4w6)\" height=\"45.9375\" id=\"E11\" rx=\"10\" ry=\"10\" style=\"stroke: #A80036; stroke-width: 1.5;\" width=\"71\" x=\"32.5\" y=\"41\"/><text fill=\"#000000\" font-family=\"sans-serif\" font-size=\"12\" font-style=\"italic\" lengthAdjust=\"spacingAndGlyphs\" textLength=\"69\" x=\"33.5\" y=\"57.1387\">«attribute»</text><text fill=\"#000000\" font-family=\"sans-serif\" font-size=\"12\" lengthAdjust=\"spacingAndGlyphs\" textLength=\"7\" x=\"64.5\" y=\"71.1074\">c</text><line style=\"stroke: #A80036; stroke-width: 1.5;\" x1=\"33.5\" x2=\"102.5\" y1=\"78.9375\" y2=\"78.9375\"/></a><text fill=\"#000000\" font-family=\"sans-serif\" font-size=\"14\" lengthAdjust=\"spacingAndGlyphs\" textLength=\"9\" x=\"567.5\" y=\"42.6982\">p</text><rect fill=\"#A80036\" height=\"12\" style=\"stroke: #FEFECE; stroke-width: 1.5;\" width=\"12\" x=\"566\" y=\"58\"/><text fill=\"#000000\" font-family=\"sans-serif\" font-size=\"14\" lengthAdjust=\"spacingAndGlyphs\" textLength=\"9\" x=\"614.5\" y=\"42.6982\">q</text><rect fill=\"#A80036\" height=\"12\" style=\"stroke: #FEFECE; stroke-width: 1.5;\" width=\"12\" x=\"613\" y=\"58\"/><text fill=\"#000000\" font-family=\"sans-serif\" font-size=\"14\" lengthAdjust=\"spacingAndGlyphs\" textLength=\"39\" x=\"599.5\" y=\"364.7151\">result</text><rect fill=\"#A80036\" height=\"12\" style=\"stroke: #FEFECE; stroke-width: 1.5;\" width=\"12\" x=\"613\" y=\"339.72\"/><!--MD5=[05d275557350bfb9b23a4ef7222b4c39]\n",
       "link E3 to E2--><a href=\"psysml:0b532ab9-83c4-4e75-92c6-eb24823a8b5d\" target=\"_top\" title=\"psysml:0b532ab9-83c4-4e75-92c6-eb24823a8b5d\" xlink:actuate=\"onRequest\" xlink:href=\"psysml:0b532ab9-83c4-4e75-92c6-eb24823a8b5d\" xlink:show=\"new\" xlink:title=\"psysml:0b532ab9-83c4-4e75-92c6-eb24823a8b5d\" xlink:type=\"simple\"><path d=\"M487.86,87.01 C485.74,98.3 483.05,112.62 480.4,126.7 \" fill=\"none\" id=\"E3-&gt;E2\" style=\"stroke: #A80036; stroke-width: 1.0;\"/><polygon fill=\"#FFFFFF\" points=\"476.63,146.75,473.2514,126.7854,487.0116,129.3654,476.63,146.75\" style=\"stroke: #A80036; stroke-width: 1.0;\"/><ellipse cx=\"476.2676\" cy=\"121.5516\" fill=\"#A80036\" rx=\"2\" ry=\"2\" style=\"stroke: #A80036; stroke-width: 1.0;\"/><ellipse cx=\"486.0963\" cy=\"123.3945\" fill=\"#A80036\" rx=\"2\" ry=\"2\" style=\"stroke: #A80036; stroke-width: 1.0;\"/></a><!--MD5=[72dc998297c1e8717fe73a93c791f2ca]\n",
       "@startuml\r\n",
       "skinparam wrapWidth 300\r\n",
       "hide circle\r\n",
       "\r\n",
       "package \"ParameterTest\" as E1  [[psysml:a676bd1d-a902-490f-aa39-52389ae12c12 ]]  {\r\n",
       "comp def \"A\" as E2  <<(T,blue) attribute def>> [[psysml:da28d9c5-e66b-4d93-bbca-9dea65a864c0 ]] {\r\n",
       "x: String\r\n",
       "y: A\r\n",
       "}\r\n",
       "comp usage \"a: A\" as E3  <<(T,blue) attribute>> [[psysml:8df57e9c-49a1-414c-8fdd-827b36a310a4 ]] {\r\n",
       "}\r\n",
       "rec def \"F\" as E4  <<(T,blue) calculation def>> [[psysml:40a467ef-e18b-46ff-840a-6dc079db3448 ]] {\r\n",
       "portin \"p\" as E5  [[psysml:5802290c-01bb-4d71-b710-026b61c78f11 ]] \r\n",
       "portin \"q\" as E6  [[psysml:197907df-8789-46a9-bbed-d5f940e1c2ab ]] \r\n",
       "portout \"result\" as E7  [[psysml:e7c52caa-c6a6-4daa-b328-953e2590a8bc ]] \r\n",
       "}\r\n",
       "\r\n",
       "comp usage \"f\" as E8  <<(T,blue) attribute>> [[psysml:2237367a-6968-472a-8f6b-3570950aa6b8 ]] {\r\n",
       "}\r\n",
       "comp usage \"g\" as E9  <<(T,blue) attribute>> [[psysml:b8cf583e-a2e4-421e-986b-a2654bc5da1a ]] {\r\n",
       "}\r\n",
       "comp usage \"b\" as E10  <<(T,blue) attribute>> [[psysml:0aa11811-cac3-458e-8be5-17e4f08795b7 ]] {\r\n",
       "}\r\n",
       "comp usage \"c\" as E11  <<(T,blue) attribute>> [[psysml:4713065a-36eb-4143-8ed6-c41cfc39d881 ]] {\r\n",
       "}\r\n",
       "}\r\n",
       "E3 - -:|> E2 [[psysml:0b532ab9-83c4-4e75-92c6-eb24823a8b5d ]] \r\n",
       "@enduml\r\n",
       "\n",
       "PlantUML version 1.2020.13(Sat Jun 13 12:26:38 UTC 2020)\n",
       "(EPL source distribution)\n",
       "Java Runtime: OpenJDK Runtime Environment\n",
       "JVM: OpenJDK 64-Bit Server VM\n",
       "Default Encoding: UTF-8\n",
       "Language: en\n",
       "Country: null\n",
       "--></g></svg>"
      ]
     },
     "execution_count": 23,
     "metadata": {},
     "output_type": "execute_result"
    }
   ],
   "source": [
    "%viz --style=\"STDCOLOR\" --view=\"Default\" \"ParameterTest\""
   ]
  },
  {
   "cell_type": "code",
   "execution_count": 24,
   "id": "4e409c5e",
   "metadata": {
    "execution": {
     "iopub.execute_input": "2021-10-03T08:28:25.768804Z",
     "iopub.status.busy": "2021-10-03T08:28:25.768398Z",
     "iopub.status.idle": "2021-10-03T08:28:25.808507Z",
     "shell.execute_reply": "2021-10-03T08:28:25.808152Z"
    }
   },
   "outputs": [
    {
     "data": {
      "image/svg+xml": [
       "<?xml version=\"1.0\" encoding=\"UTF-8\" standalone=\"no\"?><svg xmlns=\"http://www.w3.org/2000/svg\" xmlns:xlink=\"http://www.w3.org/1999/xlink\" contentScriptType=\"application/ecmascript\" contentStyleType=\"text/css\" height=\"264px\" preserveAspectRatio=\"none\" style=\"width:710px;height:264px;\" version=\"1.1\" viewBox=\"0 0 710 264\" width=\"710px\" zoomAndPan=\"magnify\"><defs><filter height=\"300%\" id=\"fqgqvsdvjnet1\" width=\"300%\" x=\"-1\" y=\"-1\"><feGaussianBlur result=\"blurOut\" stdDeviation=\"2.0\"/><feColorMatrix in=\"blurOut\" result=\"blurOut2\" type=\"matrix\" values=\"0 0 0 0 0 0 0 0 0 0 0 0 0 0 0 0 0 0 .4 0\"/><feOffset dx=\"4.0\" dy=\"4.0\" in=\"blurOut2\" result=\"blurOut3\"/><feBlend in=\"SourceGraphic\" in2=\"blurOut3\" mode=\"normal\"/></filter></defs><g><!--MD5=[fbc87193dbaf4d95561dea2c320d4a47]\n",
       "cluster E1--><a href=\"psysml:a676bd1d-a902-490f-aa39-52389ae12c12\" target=\"_top\" title=\"psysml:a676bd1d-a902-490f-aa39-52389ae12c12\" xlink:actuate=\"onRequest\" xlink:href=\"psysml:a676bd1d-a902-490f-aa39-52389ae12c12\" xlink:show=\"new\" xlink:title=\"psysml:a676bd1d-a902-490f-aa39-52389ae12c12\" xlink:type=\"simple\"><polygon fill=\"#FFFFFF\" filter=\"url(#fqgqvsdvjnet1)\" points=\"16,6,124,6,131,28.2969,688,28.2969,688,252,16,252,16,6\" style=\"stroke: #000000; stroke-width: 1.5;\"/><line style=\"stroke: #000000; stroke-width: 1.5;\" x1=\"16\" x2=\"131\" y1=\"28.2969\" y2=\"28.2969\"/><text fill=\"#000000\" font-family=\"sans-serif\" font-size=\"14\" font-weight=\"bold\" lengthAdjust=\"spacingAndGlyphs\" textLength=\"102\" x=\"20\" y=\"20.9951\">ParameterTest</text></a><!--MD5=[b4997ac47864f28c2f74865a473b2911]\n",
       "class E2--><a href=\"psysml:da28d9c5-e66b-4d93-bbca-9dea65a864c0\" target=\"_top\" title=\"psysml:da28d9c5-e66b-4d93-bbca-9dea65a864c0\" xlink:actuate=\"onRequest\" xlink:href=\"psysml:da28d9c5-e66b-4d93-bbca-9dea65a864c0\" xlink:show=\"new\" xlink:title=\"psysml:da28d9c5-e66b-4d93-bbca-9dea65a864c0\" xlink:type=\"simple\"><rect fill=\"#FEFECE\" filter=\"url(#fqgqvsdvjnet1)\" height=\"71.5469\" id=\"E2\" style=\"stroke: #A80036; stroke-width: 1.5;\" width=\"95\" x=\"498.5\" y=\"164\"/><text fill=\"#000000\" font-family=\"sans-serif\" font-size=\"12\" font-style=\"italic\" lengthAdjust=\"spacingAndGlyphs\" textLength=\"93\" x=\"499.5\" y=\"180.1387\">«attribute def»</text><text fill=\"#000000\" font-family=\"sans-serif\" font-size=\"12\" lengthAdjust=\"spacingAndGlyphs\" textLength=\"8\" x=\"542\" y=\"194.1074\">A</text><line style=\"stroke: #A80036; stroke-width: 1.5;\" x1=\"499.5\" x2=\"592.5\" y1=\"201.9375\" y2=\"201.9375\"/><text fill=\"#000000\" font-family=\"sans-serif\" font-size=\"11\" lengthAdjust=\"spacingAndGlyphs\" textLength=\"48\" x=\"504.5\" y=\"216.1479\">x: String</text><text fill=\"#000000\" font-family=\"sans-serif\" font-size=\"11\" lengthAdjust=\"spacingAndGlyphs\" textLength=\"21\" x=\"504.5\" y=\"228.9526\">y: A</text></a><!--MD5=[09b614a08d8cba4a07c9adeb5e0fee81]\n",
       "class E3--><a href=\"psysml:8df57e9c-49a1-414c-8fdd-827b36a310a4\" target=\"_top\" title=\"psysml:8df57e9c-49a1-414c-8fdd-827b36a310a4\" xlink:actuate=\"onRequest\" xlink:href=\"psysml:8df57e9c-49a1-414c-8fdd-827b36a310a4\" xlink:show=\"new\" xlink:title=\"psysml:8df57e9c-49a1-414c-8fdd-827b36a310a4\" xlink:type=\"simple\"><rect fill=\"#FEFECE\" filter=\"url(#fqgqvsdvjnet1)\" height=\"45.9375\" id=\"E3\" rx=\"10\" ry=\"10\" style=\"stroke: #A80036; stroke-width: 1.5;\" width=\"71\" x=\"600.5\" y=\"41\"/><text fill=\"#000000\" font-family=\"sans-serif\" font-size=\"12\" font-style=\"italic\" lengthAdjust=\"spacingAndGlyphs\" textLength=\"69\" x=\"601.5\" y=\"57.1387\">«attribute»</text><text fill=\"#000000\" font-family=\"sans-serif\" font-size=\"12\" lengthAdjust=\"spacingAndGlyphs\" textLength=\"24\" x=\"624\" y=\"71.1074\">a: A</text><line style=\"stroke: #A80036; stroke-width: 1.5;\" x1=\"601.5\" x2=\"670.5\" y1=\"78.9375\" y2=\"78.9375\"/></a><!--MD5=[ebbe1d658d1005bcc118a6aa81145e00]\n",
       "class E4--><a href=\"psysml:40a467ef-e18b-46ff-840a-6dc079db3448\" target=\"_top\" title=\"psysml:40a467ef-e18b-46ff-840a-6dc079db3448\" xlink:actuate=\"onRequest\" xlink:href=\"psysml:40a467ef-e18b-46ff-840a-6dc079db3448\" xlink:show=\"new\" xlink:title=\"psysml:40a467ef-e18b-46ff-840a-6dc079db3448\" xlink:type=\"simple\"><rect fill=\"#FEFECE\" filter=\"url(#fqgqvsdvjnet1)\" height=\"45.9375\" id=\"E4\" style=\"stroke: #A80036; stroke-width: 1.5;\" width=\"108\" x=\"457\" y=\"41\"/><text fill=\"#000000\" font-family=\"sans-serif\" font-size=\"12\" font-style=\"italic\" lengthAdjust=\"spacingAndGlyphs\" textLength=\"106\" x=\"458\" y=\"57.1387\">«calculation def»</text><text fill=\"#000000\" font-family=\"sans-serif\" font-size=\"12\" lengthAdjust=\"spacingAndGlyphs\" textLength=\"7\" x=\"507.5\" y=\"71.1074\">F</text><line style=\"stroke: #A80036; stroke-width: 1.5;\" x1=\"458\" x2=\"564\" y1=\"78.9375\" y2=\"78.9375\"/></a><!--MD5=[270fce915f116d4de14055a7c1d9a0f3]\n",
       "class E5--><a href=\"psysml:2237367a-6968-472a-8f6b-3570950aa6b8\" target=\"_top\" title=\"psysml:2237367a-6968-472a-8f6b-3570950aa6b8\" xlink:actuate=\"onRequest\" xlink:href=\"psysml:2237367a-6968-472a-8f6b-3570950aa6b8\" xlink:show=\"new\" xlink:title=\"psysml:2237367a-6968-472a-8f6b-3570950aa6b8\" xlink:type=\"simple\"><rect fill=\"#FEFECE\" filter=\"url(#fqgqvsdvjnet1)\" height=\"45.9375\" id=\"E5\" rx=\"10\" ry=\"10\" style=\"stroke: #A80036; stroke-width: 1.5;\" width=\"71\" x=\"350.5\" y=\"41\"/><text fill=\"#000000\" font-family=\"sans-serif\" font-size=\"12\" font-style=\"italic\" lengthAdjust=\"spacingAndGlyphs\" textLength=\"69\" x=\"351.5\" y=\"57.1387\">«attribute»</text><text fill=\"#000000\" font-family=\"sans-serif\" font-size=\"12\" lengthAdjust=\"spacingAndGlyphs\" textLength=\"4\" x=\"384\" y=\"71.1074\">f</text><line style=\"stroke: #A80036; stroke-width: 1.5;\" x1=\"351.5\" x2=\"420.5\" y1=\"78.9375\" y2=\"78.9375\"/></a><!--MD5=[60a26617385b1d2d0262a64233df1f8d]\n",
       "class E6--><a href=\"psysml:b8cf583e-a2e4-421e-986b-a2654bc5da1a\" target=\"_top\" title=\"psysml:b8cf583e-a2e4-421e-986b-a2654bc5da1a\" xlink:actuate=\"onRequest\" xlink:href=\"psysml:b8cf583e-a2e4-421e-986b-a2654bc5da1a\" xlink:show=\"new\" xlink:title=\"psysml:b8cf583e-a2e4-421e-986b-a2654bc5da1a\" xlink:type=\"simple\"><rect fill=\"#FEFECE\" filter=\"url(#fqgqvsdvjnet1)\" height=\"45.9375\" id=\"E6\" rx=\"10\" ry=\"10\" style=\"stroke: #A80036; stroke-width: 1.5;\" width=\"71\" x=\"244.5\" y=\"41\"/><text fill=\"#000000\" font-family=\"sans-serif\" font-size=\"12\" font-style=\"italic\" lengthAdjust=\"spacingAndGlyphs\" textLength=\"69\" x=\"245.5\" y=\"57.1387\">«attribute»</text><text fill=\"#000000\" font-family=\"sans-serif\" font-size=\"12\" lengthAdjust=\"spacingAndGlyphs\" textLength=\"8\" x=\"276\" y=\"71.1074\">g</text><line style=\"stroke: #A80036; stroke-width: 1.5;\" x1=\"245.5\" x2=\"314.5\" y1=\"78.9375\" y2=\"78.9375\"/></a><!--MD5=[2156ba9850f5573cc1fc38a6a4b2f02b]\n",
       "class E7--><a href=\"psysml:0aa11811-cac3-458e-8be5-17e4f08795b7\" target=\"_top\" title=\"psysml:0aa11811-cac3-458e-8be5-17e4f08795b7\" xlink:actuate=\"onRequest\" xlink:href=\"psysml:0aa11811-cac3-458e-8be5-17e4f08795b7\" xlink:show=\"new\" xlink:title=\"psysml:0aa11811-cac3-458e-8be5-17e4f08795b7\" xlink:type=\"simple\"><rect fill=\"#FEFECE\" filter=\"url(#fqgqvsdvjnet1)\" height=\"45.9375\" id=\"E7\" rx=\"10\" ry=\"10\" style=\"stroke: #A80036; stroke-width: 1.5;\" width=\"71\" x=\"138.5\" y=\"41\"/><text fill=\"#000000\" font-family=\"sans-serif\" font-size=\"12\" font-style=\"italic\" lengthAdjust=\"spacingAndGlyphs\" textLength=\"69\" x=\"139.5\" y=\"57.1387\">«attribute»</text><text fill=\"#000000\" font-family=\"sans-serif\" font-size=\"12\" lengthAdjust=\"spacingAndGlyphs\" textLength=\"8\" x=\"170\" y=\"71.1074\">b</text><line style=\"stroke: #A80036; stroke-width: 1.5;\" x1=\"139.5\" x2=\"208.5\" y1=\"78.9375\" y2=\"78.9375\"/></a><!--MD5=[b9389687b975829384b498ac4b7476b2]\n",
       "class E8--><a href=\"psysml:4713065a-36eb-4143-8ed6-c41cfc39d881\" target=\"_top\" title=\"psysml:4713065a-36eb-4143-8ed6-c41cfc39d881\" xlink:actuate=\"onRequest\" xlink:href=\"psysml:4713065a-36eb-4143-8ed6-c41cfc39d881\" xlink:show=\"new\" xlink:title=\"psysml:4713065a-36eb-4143-8ed6-c41cfc39d881\" xlink:type=\"simple\"><rect fill=\"#FEFECE\" filter=\"url(#fqgqvsdvjnet1)\" height=\"45.9375\" id=\"E8\" rx=\"10\" ry=\"10\" style=\"stroke: #A80036; stroke-width: 1.5;\" width=\"71\" x=\"32.5\" y=\"41\"/><text fill=\"#000000\" font-family=\"sans-serif\" font-size=\"12\" font-style=\"italic\" lengthAdjust=\"spacingAndGlyphs\" textLength=\"69\" x=\"33.5\" y=\"57.1387\">«attribute»</text><text fill=\"#000000\" font-family=\"sans-serif\" font-size=\"12\" lengthAdjust=\"spacingAndGlyphs\" textLength=\"7\" x=\"64.5\" y=\"71.1074\">c</text><line style=\"stroke: #A80036; stroke-width: 1.5;\" x1=\"33.5\" x2=\"102.5\" y1=\"78.9375\" y2=\"78.9375\"/></a><!--MD5=[05d275557350bfb9b23a4ef7222b4c39]\n",
       "link E3 to E2--><a href=\"psysml:0b532ab9-83c4-4e75-92c6-eb24823a8b5d\" target=\"_top\" title=\"psysml:0b532ab9-83c4-4e75-92c6-eb24823a8b5d\" xlink:actuate=\"onRequest\" xlink:href=\"psysml:0b532ab9-83c4-4e75-92c6-eb24823a8b5d\" xlink:show=\"new\" xlink:title=\"psysml:0b532ab9-83c4-4e75-92c6-eb24823a8b5d\" xlink:type=\"simple\"><path d=\"M621.14,87.13 C610.18,103.45 594.8,126.34 580.81,147.17 \" fill=\"none\" id=\"E3-&gt;E2\" style=\"stroke: #A80036; stroke-width: 1.0;\"/><polygon fill=\"#FFFFFF\" points=\"569.52,163.99,574.309,144.316,585.9284,152.1256,569.52,163.99\" style=\"stroke: #A80036; stroke-width: 1.0;\"/><ellipse cx=\"579.1486\" cy=\"140.7009\" fill=\"#A80036\" rx=\"2\" ry=\"2\" style=\"stroke: #A80036; stroke-width: 1.0;\"/><ellipse cx=\"587.4481\" cy=\"146.2792\" fill=\"#A80036\" rx=\"2\" ry=\"2\" style=\"stroke: #A80036; stroke-width: 1.0;\"/></a><!--MD5=[ddeed8deb2209213b62e6cfabaa108b2]\n",
       "reverse link E4 to E2--><a href=\"psysml:5802290c-01bb-4d71-b710-026b61c78f11\" target=\"_top\" title=\"psysml:5802290c-01bb-4d71-b710-026b61c78f11\" xlink:actuate=\"onRequest\" xlink:href=\"psysml:5802290c-01bb-4d71-b710-026b61c78f11\" xlink:show=\"new\" xlink:title=\"psysml:5802290c-01bb-4d71-b710-026b61c78f11\" xlink:type=\"simple\"><path d=\"M520.11,99.89 C525.27,119.63 531.69,144.23 536.85,163.99 \" fill=\"none\" id=\"E4&lt;-E2\" style=\"stroke: #A80036; stroke-width: 1.0;\"/><polygon fill=\"#FFFFFF\" points=\"516.78,87.13,514.4253,93.9458,519.8112,98.7408,522.1659,91.925,516.78,87.13\" style=\"stroke: #A80036; stroke-width: 1.0;\"/><text fill=\"#000000\" font-family=\"sans-serif\" font-size=\"13\" lengthAdjust=\"spacingAndGlyphs\" textLength=\"8\" x=\"529\" y=\"130.0669\">p</text></a><!--MD5=[d5f16a1b2181800cf471f3867941dc71]\n",
       "@startuml\r\n",
       "skinparam wrapWidth 300\r\n",
       "hide circle\r\n",
       "\r\n",
       "package \"ParameterTest\" as E1  [[psysml:a676bd1d-a902-490f-aa39-52389ae12c12 ]]  {\r\n",
       "comp def \"A\" as E2  <<(T,blue) attribute def>> [[psysml:da28d9c5-e66b-4d93-bbca-9dea65a864c0 ]] {\r\n",
       "x: String\r\n",
       "y: A\r\n",
       "}\r\n",
       "comp usage \"a: A\" as E3  <<(T,blue) attribute>> [[psysml:8df57e9c-49a1-414c-8fdd-827b36a310a4 ]] {\r\n",
       "}\r\n",
       "comp def \"F\" as E4  <<(T,blue) calculation def>> [[psysml:40a467ef-e18b-46ff-840a-6dc079db3448 ]] {\r\n",
       "}\r\n",
       "comp usage \"f\" as E5  <<(T,blue) attribute>> [[psysml:2237367a-6968-472a-8f6b-3570950aa6b8 ]] {\r\n",
       "}\r\n",
       "comp usage \"g\" as E6  <<(T,blue) attribute>> [[psysml:b8cf583e-a2e4-421e-986b-a2654bc5da1a ]] {\r\n",
       "}\r\n",
       "comp usage \"b\" as E7  <<(T,blue) attribute>> [[psysml:0aa11811-cac3-458e-8be5-17e4f08795b7 ]] {\r\n",
       "}\r\n",
       "comp usage \"c\" as E8  <<(T,blue) attribute>> [[psysml:4713065a-36eb-4143-8ed6-c41cfc39d881 ]] {\r\n",
       "}\r\n",
       "}\r\n",
       "E3 - -:|> E2 [[psysml:0b532ab9-83c4-4e75-92c6-eb24823a8b5d ]] \r\n",
       "E4 o- - E2 [[psysml:5802290c-01bb-4d71-b710-026b61c78f11 ]] : p\r\n",
       "@enduml\r\n",
       "\n",
       "PlantUML version 1.2020.13(Sat Jun 13 12:26:38 UTC 2020)\n",
       "(EPL source distribution)\n",
       "Java Runtime: OpenJDK Runtime Environment\n",
       "JVM: OpenJDK 64-Bit Server VM\n",
       "Default Encoding: UTF-8\n",
       "Language: en\n",
       "Country: null\n",
       "--></g></svg>"
      ]
     },
     "execution_count": 24,
     "metadata": {},
     "output_type": "execute_result"
    }
   ],
   "source": [
    "%viz --style=\"STDCOLOR\" --view=\"Tree\" \"ParameterTest\""
   ]
  },
  {
   "cell_type": "code",
   "execution_count": 25,
   "id": "aa00c5a7",
   "metadata": {
    "execution": {
     "iopub.execute_input": "2021-10-03T08:28:25.857832Z",
     "iopub.status.busy": "2021-10-03T08:28:25.857434Z",
     "iopub.status.idle": "2021-10-03T08:28:25.862145Z",
     "shell.execute_reply": "2021-10-03T08:28:25.862454Z"
    }
   },
   "outputs": [
    {
     "data": {
      "image/svg+xml": [
       "<?xml version=\"1.0\" encoding=\"UTF-8\" standalone=\"no\"?><svg xmlns=\"http://www.w3.org/2000/svg\" xmlns:xlink=\"http://www.w3.org/1999/xlink\" contentScriptType=\"application/ecmascript\" contentStyleType=\"text/css\" height=\"12px\" preserveAspectRatio=\"none\" style=\"width:12px;height:12px;\" version=\"1.1\" viewBox=\"0 0 12 12\" width=\"12px\" zoomAndPan=\"magnify\"><defs/><g><!--MD5=[aeeef50f102b80d730deb6443d14f702]\n",
       "@startuml\r\n",
       "skinparam wrapWidth 300\r\n",
       "hide circle\r\n",
       "\r\n",
       "@enduml\r\n",
       "\n",
       "PlantUML version 1.2020.13(Sat Jun 13 12:26:38 UTC 2020)\n",
       "(EPL source distribution)\n",
       "Java Runtime: OpenJDK Runtime Environment\n",
       "JVM: OpenJDK 64-Bit Server VM\n",
       "Default Encoding: UTF-8\n",
       "Language: en\n",
       "Country: null\n",
       "--></g></svg>"
      ]
     },
     "execution_count": 25,
     "metadata": {},
     "output_type": "execute_result"
    }
   ],
   "source": [
    "%viz --style=\"STDCOLOR\" --view=\"State\" \"ParameterTest\""
   ]
  },
  {
   "cell_type": "code",
   "execution_count": 26,
   "id": "49e79b24",
   "metadata": {
    "execution": {
     "iopub.execute_input": "2021-10-03T08:28:25.912133Z",
     "iopub.status.busy": "2021-10-03T08:28:25.911730Z",
     "iopub.status.idle": "2021-10-03T08:28:25.947940Z",
     "shell.execute_reply": "2021-10-03T08:28:25.947579Z"
    }
   },
   "outputs": [
    {
     "data": {
      "image/svg+xml": [
       "<?xml version=\"1.0\" encoding=\"UTF-8\" standalone=\"no\"?><svg xmlns=\"http://www.w3.org/2000/svg\" xmlns:xlink=\"http://www.w3.org/1999/xlink\" contentScriptType=\"application/ecmascript\" contentStyleType=\"text/css\" height=\"216px\" preserveAspectRatio=\"none\" style=\"width:740px;height:216px;\" version=\"1.1\" viewBox=\"0 0 740 216\" width=\"740px\" zoomAndPan=\"magnify\"><defs><filter height=\"300%\" id=\"f113jti2diqars\" width=\"300%\" x=\"-1\" y=\"-1\"><feGaussianBlur result=\"blurOut\" stdDeviation=\"2.0\"/><feColorMatrix in=\"blurOut\" result=\"blurOut2\" type=\"matrix\" values=\"0 0 0 0 0 0 0 0 0 0 0 0 0 0 0 0 0 0 .4 0\"/><feOffset dx=\"4.0\" dy=\"4.0\" in=\"blurOut2\" result=\"blurOut3\"/><feBlend in=\"SourceGraphic\" in2=\"blurOut3\" mode=\"normal\"/></filter></defs><g><!--MD5=[fbc87193dbaf4d95561dea2c320d4a47]\n",
       "cluster E1--><a href=\"psysml:a676bd1d-a902-490f-aa39-52389ae12c12\" target=\"_top\" title=\"psysml:a676bd1d-a902-490f-aa39-52389ae12c12\" xlink:actuate=\"onRequest\" xlink:href=\"psysml:a676bd1d-a902-490f-aa39-52389ae12c12\" xlink:show=\"new\" xlink:title=\"psysml:a676bd1d-a902-490f-aa39-52389ae12c12\" xlink:type=\"simple\"><polygon fill=\"#FFFFFF\" filter=\"url(#f113jti2diqars)\" points=\"16,6,124,6,131,28.2969,718,28.2969,718,204.72,16,204.72,16,6\" style=\"stroke: #000000; stroke-width: 1.5;\"/><line style=\"stroke: #000000; stroke-width: 1.5;\" x1=\"16\" x2=\"131\" y1=\"28.2969\" y2=\"28.2969\"/><text fill=\"#000000\" font-family=\"sans-serif\" font-size=\"14\" font-weight=\"bold\" lengthAdjust=\"spacingAndGlyphs\" textLength=\"102\" x=\"20\" y=\"20.9951\">ParameterTest</text></a><!--MD5=[f6df4d0ebaf0b5dfb2ced0ae5af7c670]\n",
       "cluster E4--><a href=\"psysml:40a467ef-e18b-46ff-840a-6dc079db3448\" target=\"_top\" title=\"psysml:40a467ef-e18b-46ff-840a-6dc079db3448\" xlink:actuate=\"onRequest\" xlink:href=\"psysml:40a467ef-e18b-46ff-840a-6dc079db3448\" xlink:show=\"new\" xlink:title=\"psysml:40a467ef-e18b-46ff-840a-6dc079db3448\" xlink:type=\"simple\"><rect fill=\"#FFFFFF\" filter=\"url(#f113jti2diqars)\" height=\"110.72\" id=\"E4\" style=\"stroke: #A80036; stroke-width: 1.5;\" width=\"148\" x=\"554\" y=\"64\"/><rect fill=\"#FEFECE\" height=\"37.9375\" style=\"stroke: #A80036; stroke-width: 1.5;\" width=\"148\" x=\"554\" y=\"64\"/><text fill=\"#000000\" font-family=\"sans-serif\" font-size=\"12\" font-style=\"italic\" lengthAdjust=\"spacingAndGlyphs\" textLength=\"106\" x=\"575\" y=\"80.1387\">«calculation def»</text><text fill=\"#000000\" font-family=\"sans-serif\" font-size=\"12\" lengthAdjust=\"spacingAndGlyphs\" textLength=\"7\" x=\"624.5\" y=\"94.1074\">F</text></a><g id=\"E1.E2\"><a href=\"psysml:da28d9c5-e66b-4d93-bbca-9dea65a864c0\" target=\"_top\" title=\"psysml:da28d9c5-e66b-4d93-bbca-9dea65a864c0\" xlink:actuate=\"onRequest\" xlink:href=\"psysml:da28d9c5-e66b-4d93-bbca-9dea65a864c0\" xlink:show=\"new\" xlink:title=\"psysml:da28d9c5-e66b-4d93-bbca-9dea65a864c0\" xlink:type=\"simple\"><rect fill=\"#FEFECE\" filter=\"url(#f113jti2diqars)\" height=\"42.9375\" id=\"E2\" style=\"stroke: #A80036; stroke-width: 1.5;\" width=\"100\" x=\"417\" y=\"99\"/><text fill=\"#000000\" font-family=\"sans-serif\" font-size=\"12\" font-style=\"italic\" lengthAdjust=\"spacingAndGlyphs\" textLength=\"93\" x=\"420.5\" y=\"115.1387\">«attribute def»</text><text fill=\"#000000\" font-family=\"sans-serif\" font-size=\"12\" lengthAdjust=\"spacingAndGlyphs\" textLength=\"8\" x=\"463\" y=\"129.1074\">A</text></a></g><!--MD5=[09b614a08d8cba4a07c9adeb5e0fee81]\n",
       "class E3--><a href=\"psysml:8df57e9c-49a1-414c-8fdd-827b36a310a4\" target=\"_top\" title=\"psysml:8df57e9c-49a1-414c-8fdd-827b36a310a4\" xlink:actuate=\"onRequest\" xlink:href=\"psysml:8df57e9c-49a1-414c-8fdd-827b36a310a4\" xlink:show=\"new\" xlink:title=\"psysml:8df57e9c-49a1-414c-8fdd-827b36a310a4\" xlink:type=\"simple\"><rect fill=\"#FEFECE\" filter=\"url(#f113jti2diqars)\" height=\"45.9375\" id=\"E3\" rx=\"10\" ry=\"10\" style=\"stroke: #A80036; stroke-width: 1.5;\" width=\"71\" x=\"456.5\" y=\"41\"/><text fill=\"#000000\" font-family=\"sans-serif\" font-size=\"12\" font-style=\"italic\" lengthAdjust=\"spacingAndGlyphs\" textLength=\"69\" x=\"457.5\" y=\"57.1387\">«attribute»</text><text fill=\"#000000\" font-family=\"sans-serif\" font-size=\"12\" lengthAdjust=\"spacingAndGlyphs\" textLength=\"24\" x=\"480\" y=\"71.1074\">a: A</text><line style=\"stroke: #A80036; stroke-width: 1.5;\" x1=\"457.5\" x2=\"526.5\" y1=\"78.9375\" y2=\"78.9375\"/></a><!--MD5=[b9389687b975829384b498ac4b7476b2]\n",
       "class E8--><a href=\"psysml:2237367a-6968-472a-8f6b-3570950aa6b8\" target=\"_top\" title=\"psysml:2237367a-6968-472a-8f6b-3570950aa6b8\" xlink:actuate=\"onRequest\" xlink:href=\"psysml:2237367a-6968-472a-8f6b-3570950aa6b8\" xlink:show=\"new\" xlink:title=\"psysml:2237367a-6968-472a-8f6b-3570950aa6b8\" xlink:type=\"simple\"><rect fill=\"#FEFECE\" filter=\"url(#f113jti2diqars)\" height=\"45.9375\" id=\"E8\" rx=\"10\" ry=\"10\" style=\"stroke: #A80036; stroke-width: 1.5;\" width=\"71\" x=\"350.5\" y=\"41\"/><text fill=\"#000000\" font-family=\"sans-serif\" font-size=\"12\" font-style=\"italic\" lengthAdjust=\"spacingAndGlyphs\" textLength=\"69\" x=\"351.5\" y=\"57.1387\">«attribute»</text><text fill=\"#000000\" font-family=\"sans-serif\" font-size=\"12\" lengthAdjust=\"spacingAndGlyphs\" textLength=\"4\" x=\"384\" y=\"71.1074\">f</text><line style=\"stroke: #A80036; stroke-width: 1.5;\" x1=\"351.5\" x2=\"420.5\" y1=\"78.9375\" y2=\"78.9375\"/></a><!--MD5=[fd4143e9d270a159db93a4ea2a975926]\n",
       "class E9--><a href=\"psysml:b8cf583e-a2e4-421e-986b-a2654bc5da1a\" target=\"_top\" title=\"psysml:b8cf583e-a2e4-421e-986b-a2654bc5da1a\" xlink:actuate=\"onRequest\" xlink:href=\"psysml:b8cf583e-a2e4-421e-986b-a2654bc5da1a\" xlink:show=\"new\" xlink:title=\"psysml:b8cf583e-a2e4-421e-986b-a2654bc5da1a\" xlink:type=\"simple\"><rect fill=\"#FEFECE\" filter=\"url(#f113jti2diqars)\" height=\"45.9375\" id=\"E9\" rx=\"10\" ry=\"10\" style=\"stroke: #A80036; stroke-width: 1.5;\" width=\"71\" x=\"244.5\" y=\"41\"/><text fill=\"#000000\" font-family=\"sans-serif\" font-size=\"12\" font-style=\"italic\" lengthAdjust=\"spacingAndGlyphs\" textLength=\"69\" x=\"245.5\" y=\"57.1387\">«attribute»</text><text fill=\"#000000\" font-family=\"sans-serif\" font-size=\"12\" lengthAdjust=\"spacingAndGlyphs\" textLength=\"8\" x=\"276\" y=\"71.1074\">g</text><line style=\"stroke: #A80036; stroke-width: 1.5;\" x1=\"245.5\" x2=\"314.5\" y1=\"78.9375\" y2=\"78.9375\"/></a><!--MD5=[96f4274e9e20536e775497830990834d]\n",
       "class E10--><a href=\"psysml:0aa11811-cac3-458e-8be5-17e4f08795b7\" target=\"_top\" title=\"psysml:0aa11811-cac3-458e-8be5-17e4f08795b7\" xlink:actuate=\"onRequest\" xlink:href=\"psysml:0aa11811-cac3-458e-8be5-17e4f08795b7\" xlink:show=\"new\" xlink:title=\"psysml:0aa11811-cac3-458e-8be5-17e4f08795b7\" xlink:type=\"simple\"><rect fill=\"#FEFECE\" filter=\"url(#f113jti2diqars)\" height=\"45.9375\" id=\"E10\" rx=\"10\" ry=\"10\" style=\"stroke: #A80036; stroke-width: 1.5;\" width=\"71\" x=\"138.5\" y=\"41\"/><text fill=\"#000000\" font-family=\"sans-serif\" font-size=\"12\" font-style=\"italic\" lengthAdjust=\"spacingAndGlyphs\" textLength=\"69\" x=\"139.5\" y=\"57.1387\">«attribute»</text><text fill=\"#000000\" font-family=\"sans-serif\" font-size=\"12\" lengthAdjust=\"spacingAndGlyphs\" textLength=\"8\" x=\"170\" y=\"71.1074\">b</text><line style=\"stroke: #A80036; stroke-width: 1.5;\" x1=\"139.5\" x2=\"208.5\" y1=\"78.9375\" y2=\"78.9375\"/></a><!--MD5=[1dd1bfd58a279cf63c5f349dbc8fc6a1]\n",
       "class E11--><a href=\"psysml:4713065a-36eb-4143-8ed6-c41cfc39d881\" target=\"_top\" title=\"psysml:4713065a-36eb-4143-8ed6-c41cfc39d881\" xlink:actuate=\"onRequest\" xlink:href=\"psysml:4713065a-36eb-4143-8ed6-c41cfc39d881\" xlink:show=\"new\" xlink:title=\"psysml:4713065a-36eb-4143-8ed6-c41cfc39d881\" xlink:type=\"simple\"><rect fill=\"#FEFECE\" filter=\"url(#f113jti2diqars)\" height=\"45.9375\" id=\"E11\" rx=\"10\" ry=\"10\" style=\"stroke: #A80036; stroke-width: 1.5;\" width=\"71\" x=\"32.5\" y=\"41\"/><text fill=\"#000000\" font-family=\"sans-serif\" font-size=\"12\" font-style=\"italic\" lengthAdjust=\"spacingAndGlyphs\" textLength=\"69\" x=\"33.5\" y=\"57.1387\">«attribute»</text><text fill=\"#000000\" font-family=\"sans-serif\" font-size=\"12\" lengthAdjust=\"spacingAndGlyphs\" textLength=\"7\" x=\"64.5\" y=\"71.1074\">c</text><line style=\"stroke: #A80036; stroke-width: 1.5;\" x1=\"33.5\" x2=\"102.5\" y1=\"78.9375\" y2=\"78.9375\"/></a><text fill=\"#000000\" font-family=\"sans-serif\" font-size=\"14\" lengthAdjust=\"spacingAndGlyphs\" textLength=\"9\" x=\"567.5\" y=\"42.6982\">p</text><rect fill=\"#A80036\" height=\"12\" style=\"stroke: #FEFECE; stroke-width: 1.5;\" width=\"12\" x=\"566\" y=\"58\"/><text fill=\"#000000\" font-family=\"sans-serif\" font-size=\"14\" lengthAdjust=\"spacingAndGlyphs\" textLength=\"9\" x=\"614.5\" y=\"42.6982\">q</text><rect fill=\"#A80036\" height=\"12\" style=\"stroke: #FEFECE; stroke-width: 1.5;\" width=\"12\" x=\"613\" y=\"58\"/><text fill=\"#000000\" font-family=\"sans-serif\" font-size=\"14\" lengthAdjust=\"spacingAndGlyphs\" textLength=\"39\" x=\"599.5\" y=\"193.7151\">result</text><rect fill=\"#A80036\" height=\"12\" style=\"stroke: #FEFECE; stroke-width: 1.5;\" width=\"12\" x=\"613\" y=\"168.72\"/><!--MD5=[05d275557350bfb9b23a4ef7222b4c39]\n",
       "link E3 to E2--><a href=\"psysml:0b532ab9-83c4-4e75-92c6-eb24823a8b5d\" target=\"_top\" title=\"psysml:0b532ab9-83c4-4e75-92c6-eb24823a8b5d\" xlink:actuate=\"onRequest\" xlink:href=\"psysml:0b532ab9-83c4-4e75-92c6-eb24823a8b5d\" xlink:show=\"new\" xlink:title=\"psysml:0b532ab9-83c4-4e75-92c6-eb24823a8b5d\" xlink:type=\"simple\"><path d=\"M481.83,87.17 C481.78,87.29 481.72,87.41 481.66,87.53 \" fill=\"none\" id=\"E3-&gt;E2\" style=\"stroke: #A80036; stroke-width: 1.0;\"/><polygon fill=\"#FFFFFF\" points=\"476.43,98.93,477.977,78.7407,490.7056,84.5701,476.43,98.93\" style=\"stroke: #A80036; stroke-width: 1.0;\"/><ellipse cx=\"482.1687\" cy=\"74.3911\" fill=\"#A80036\" rx=\"2\" ry=\"2\" style=\"stroke: #A80036; stroke-width: 1.0;\"/><ellipse cx=\"491.2606\" cy=\"78.555\" fill=\"#A80036\" rx=\"2\" ry=\"2\" style=\"stroke: #A80036; stroke-width: 1.0;\"/></a><!--MD5=[29635e4e1463209db01cd7037c89488a]\n",
       "@startuml\r\n",
       "skinparam ranksep 10\r\n",
       "skinparam rectangle {\r\n",
       " backgroundColor<<block>> LightGreen\r\n",
       "}\r\n",
       "skinparam wrapWidth 300\r\n",
       "hide circle\r\n",
       "\r\n",
       "package \"ParameterTest\" as E1  [[psysml:a676bd1d-a902-490f-aa39-52389ae12c12 ]]  {\r\n",
       "def \"A\" as E2  <<(T,blue) attribute def>> [[psysml:da28d9c5-e66b-4d93-bbca-9dea65a864c0 ]] \r\n",
       "comp usage \"a: A\" as E3  <<(T,blue) attribute>> [[psysml:8df57e9c-49a1-414c-8fdd-827b36a310a4 ]] {\r\n",
       "}\r\n",
       "rec def \"F\" as E4  <<(T,blue) calculation def>> [[psysml:40a467ef-e18b-46ff-840a-6dc079db3448 ]] {\r\n",
       "portin \"p\" as E5  [[psysml:5802290c-01bb-4d71-b710-026b61c78f11 ]] \r\n",
       "portin \"q\" as E6  [[psysml:197907df-8789-46a9-bbed-d5f940e1c2ab ]] \r\n",
       "portout \"result\" as E7  [[psysml:e7c52caa-c6a6-4daa-b328-953e2590a8bc ]] \r\n",
       "}\r\n",
       "\r\n",
       "comp usage \"f\" as E8  <<(T,blue) attribute>> [[psysml:2237367a-6968-472a-8f6b-3570950aa6b8 ]] {\r\n",
       "}\r\n",
       "comp usage \"g\" as E9  <<(T,blue) attribute>> [[psysml:b8cf583e-a2e4-421e-986b-a2654bc5da1a ]] {\r\n",
       "}\r\n",
       "comp usage \"b\" as E10  <<(T,blue) attribute>> [[psysml:0aa11811-cac3-458e-8be5-17e4f08795b7 ]] {\r\n",
       "}\r\n",
       "comp usage \"c\" as E11  <<(T,blue) attribute>> [[psysml:4713065a-36eb-4143-8ed6-c41cfc39d881 ]] {\r\n",
       "}\r\n",
       "}\r\n",
       "E3 - -:|> E2 [[psysml:0b532ab9-83c4-4e75-92c6-eb24823a8b5d ]] \r\n",
       "@enduml\r\n",
       "\n",
       "PlantUML version 1.2020.13(Sat Jun 13 12:26:38 UTC 2020)\n",
       "(EPL source distribution)\n",
       "Java Runtime: OpenJDK Runtime Environment\n",
       "JVM: OpenJDK 64-Bit Server VM\n",
       "Default Encoding: UTF-8\n",
       "Language: en\n",
       "Country: null\n",
       "--></g></svg>"
      ]
     },
     "execution_count": 26,
     "metadata": {},
     "output_type": "execute_result"
    }
   ],
   "source": [
    "%viz --style=\"STDCOLOR\" --view=\"Interconnection\" \"ParameterTest\""
   ]
  },
  {
   "cell_type": "code",
   "execution_count": 27,
   "id": "53fcfae5",
   "metadata": {
    "execution": {
     "iopub.execute_input": "2021-10-03T08:28:25.997456Z",
     "iopub.status.busy": "2021-10-03T08:28:25.997054Z",
     "iopub.status.idle": "2021-10-03T08:28:26.021198Z",
     "shell.execute_reply": "2021-10-03T08:28:26.020862Z"
    }
   },
   "outputs": [
    {
     "data": {
      "image/svg+xml": [
       "<?xml version=\"1.0\" encoding=\"UTF-8\" standalone=\"no\"?><svg xmlns=\"http://www.w3.org/2000/svg\" xmlns:xlink=\"http://www.w3.org/1999/xlink\" contentScriptType=\"application/ecmascript\" contentStyleType=\"text/css\" height=\"162px\" preserveAspectRatio=\"none\" style=\"width:174px;height:162px;\" version=\"1.1\" viewBox=\"0 0 174 162\" width=\"174px\" zoomAndPan=\"magnify\"><defs><filter height=\"300%\" id=\"f1patc8r8e2yev\" width=\"300%\" x=\"-1\" y=\"-1\"><feGaussianBlur result=\"blurOut\" stdDeviation=\"2.0\"/><feColorMatrix in=\"blurOut\" result=\"blurOut2\" type=\"matrix\" values=\"0 0 0 0 0 0 0 0 0 0 0 0 0 0 0 0 0 0 .4 0\"/><feOffset dx=\"4.0\" dy=\"4.0\" in=\"blurOut2\" result=\"blurOut3\"/><feBlend in=\"SourceGraphic\" in2=\"blurOut3\" mode=\"normal\"/></filter></defs><g><!--MD5=[fbc87193dbaf4d95561dea2c320d4a47]\n",
       "cluster E1--><a href=\"psysml:40a467ef-e18b-46ff-840a-6dc079db3448\" target=\"_top\" title=\"psysml:40a467ef-e18b-46ff-840a-6dc079db3448\" xlink:actuate=\"onRequest\" xlink:href=\"psysml:40a467ef-e18b-46ff-840a-6dc079db3448\" xlink:show=\"new\" xlink:title=\"psysml:40a467ef-e18b-46ff-840a-6dc079db3448\" xlink:type=\"simple\"><rect fill=\"#FFFFFF\" filter=\"url(#f1patc8r8e2yev)\" height=\"87.72\" id=\"E1\" style=\"stroke: #A80036; stroke-width: 1.5;\" width=\"148\" x=\"7\" y=\"42.0986\"/><rect fill=\"#FEFECE\" height=\"37.9375\" style=\"stroke: #A80036; stroke-width: 1.5;\" width=\"148\" x=\"7\" y=\"42.0986\"/><text fill=\"#000000\" font-family=\"sans-serif\" font-size=\"12\" font-style=\"italic\" lengthAdjust=\"spacingAndGlyphs\" textLength=\"106\" x=\"28\" y=\"58.2373\">«calculation def»</text><text fill=\"#000000\" font-family=\"sans-serif\" font-size=\"12\" lengthAdjust=\"spacingAndGlyphs\" textLength=\"7\" x=\"77.5\" y=\"72.2061\">F</text></a><text fill=\"#000000\" font-family=\"sans-serif\" font-size=\"14\" lengthAdjust=\"spacingAndGlyphs\" textLength=\"9\" x=\"20.5\" y=\"20.7969\">p</text><rect fill=\"#A80036\" height=\"12\" style=\"stroke: #FEFECE; stroke-width: 1.5;\" width=\"12\" x=\"19\" y=\"36.0986\"/><text fill=\"#000000\" font-family=\"sans-serif\" font-size=\"14\" lengthAdjust=\"spacingAndGlyphs\" textLength=\"9\" x=\"67.5\" y=\"20.7969\">q</text><rect fill=\"#A80036\" height=\"12\" style=\"stroke: #FEFECE; stroke-width: 1.5;\" width=\"12\" x=\"66\" y=\"36.0986\"/><text fill=\"#000000\" font-family=\"sans-serif\" font-size=\"14\" lengthAdjust=\"spacingAndGlyphs\" textLength=\"39\" x=\"52.5\" y=\"148.8138\">result</text><rect fill=\"#A80036\" height=\"12\" style=\"stroke: #FEFECE; stroke-width: 1.5;\" width=\"12\" x=\"66\" y=\"123.8186\"/><!--MD5=[9742e6b1b8c4ba42d9bb81aa5d9e2a43]\n",
       "@startuml\r\n",
       "skinparam ranksep 8\r\n",
       "skinparam wrapWidth 300\r\n",
       "hide circle\r\n",
       "\r\n",
       "rec def \"F\" as E1  <<(T,blue) calculation def>> [[psysml:40a467ef-e18b-46ff-840a-6dc079db3448 ]] {\r\n",
       "portin \"p\" as E2  [[psysml:5802290c-01bb-4d71-b710-026b61c78f11 ]] \r\n",
       "portin \"q\" as E3  [[psysml:197907df-8789-46a9-bbed-d5f940e1c2ab ]] \r\n",
       "portout \"result\" as E4  [[psysml:e7c52caa-c6a6-4daa-b328-953e2590a8bc ]] \r\n",
       "}\r\n",
       "\r\n",
       "@enduml\r\n",
       "\n",
       "PlantUML version 1.2020.13(Sat Jun 13 12:26:38 UTC 2020)\n",
       "(EPL source distribution)\n",
       "Java Runtime: OpenJDK Runtime Environment\n",
       "JVM: OpenJDK 64-Bit Server VM\n",
       "Default Encoding: UTF-8\n",
       "Language: en\n",
       "Country: null\n",
       "--></g></svg>"
      ]
     },
     "execution_count": 27,
     "metadata": {},
     "output_type": "execute_result"
    }
   ],
   "source": [
    "%viz --style=\"STDCOLOR\" --view=\"Action\" \"ParameterTest\""
   ]
  },
  {
   "cell_type": "code",
   "execution_count": 28,
   "id": "01421186",
   "metadata": {
    "execution": {
     "iopub.execute_input": "2021-10-03T08:28:26.070711Z",
     "iopub.status.busy": "2021-10-03T08:28:26.070313Z",
     "iopub.status.idle": "2021-10-03T08:28:26.075755Z",
     "shell.execute_reply": "2021-10-03T08:28:26.076058Z"
    }
   },
   "outputs": [
    {
     "data": {
      "image/svg+xml": [
       "<?xml version=\"1.0\" encoding=\"UTF-8\" standalone=\"no\"?><svg xmlns=\"http://www.w3.org/2000/svg\" xmlns:xlink=\"http://www.w3.org/1999/xlink\" contentScriptType=\"application/ecmascript\" contentStyleType=\"text/css\" height=\"12px\" preserveAspectRatio=\"none\" style=\"width:12px;height:12px;\" version=\"1.1\" viewBox=\"0 0 12 12\" width=\"12px\" zoomAndPan=\"magnify\"><defs/><g><!--MD5=[6c4bca67b4d71758159a5a7f1f1e1fc2]\n",
       "@startuml\r\n",
       "skinparam roundcorner 20\r\n",
       "skinparam BoxPadding 20\r\n",
       "skinparam SequenceBoxBackgroundColor #white\r\n",
       "skinparam style strictuml\r\n",
       "skinparam maxMessageSize 100\r\n",
       "skinparam wrapWidth 300\r\n",
       "hide circle\r\n",
       "\r\n",
       "@enduml\r\n",
       "\n",
       "PlantUML version 1.2020.13(Sat Jun 13 12:26:38 UTC 2020)\n",
       "(EPL source distribution)\n",
       "Java Runtime: OpenJDK Runtime Environment\n",
       "JVM: OpenJDK 64-Bit Server VM\n",
       "Default Encoding: UTF-8\n",
       "Language: en\n",
       "Country: null\n",
       "--></g></svg>"
      ]
     },
     "execution_count": 28,
     "metadata": {},
     "output_type": "execute_result"
    }
   ],
   "source": [
    "%viz --style=\"STDCOLOR\" --view=\"Sequence\" \"ParameterTest\""
   ]
  },
  {
   "cell_type": "code",
   "execution_count": 29,
   "id": "04a11def",
   "metadata": {
    "execution": {
     "iopub.execute_input": "2021-10-03T08:28:26.125612Z",
     "iopub.status.busy": "2021-10-03T08:28:26.125202Z",
     "iopub.status.idle": "2021-10-03T08:28:26.168596Z",
     "shell.execute_reply": "2021-10-03T08:28:26.168174Z"
    }
   },
   "outputs": [
    {
     "data": {
      "image/svg+xml": [
       "<?xml version=\"1.0\" encoding=\"UTF-8\" standalone=\"no\"?><svg xmlns=\"http://www.w3.org/2000/svg\" xmlns:xlink=\"http://www.w3.org/1999/xlink\" contentScriptType=\"application/ecmascript\" contentStyleType=\"text/css\" height=\"387px\" preserveAspectRatio=\"none\" style=\"width:740px;height:387px;\" version=\"1.1\" viewBox=\"0 0 740 387\" width=\"740px\" zoomAndPan=\"magnify\"><defs><filter height=\"300%\" id=\"fja1y46vyo4w6\" width=\"300%\" x=\"-1\" y=\"-1\"><feGaussianBlur result=\"blurOut\" stdDeviation=\"2.0\"/><feColorMatrix in=\"blurOut\" result=\"blurOut2\" type=\"matrix\" values=\"0 0 0 0 0 0 0 0 0 0 0 0 0 0 0 0 0 0 .4 0\"/><feOffset dx=\"4.0\" dy=\"4.0\" in=\"blurOut2\" result=\"blurOut3\"/><feBlend in=\"SourceGraphic\" in2=\"blurOut3\" mode=\"normal\"/></filter></defs><g><!--MD5=[fbc87193dbaf4d95561dea2c320d4a47]\n",
       "cluster E1--><a href=\"psysml:a676bd1d-a902-490f-aa39-52389ae12c12\" target=\"_top\" title=\"psysml:a676bd1d-a902-490f-aa39-52389ae12c12\" xlink:actuate=\"onRequest\" xlink:href=\"psysml:a676bd1d-a902-490f-aa39-52389ae12c12\" xlink:show=\"new\" xlink:title=\"psysml:a676bd1d-a902-490f-aa39-52389ae12c12\" xlink:type=\"simple\"><polygon fill=\"#FFFFFF\" filter=\"url(#fja1y46vyo4w6)\" points=\"16,6,124,6,131,28.2969,718,28.2969,718,375.72,16,375.72,16,6\" style=\"stroke: #000000; stroke-width: 1.5;\"/><line style=\"stroke: #000000; stroke-width: 1.5;\" x1=\"16\" x2=\"131\" y1=\"28.2969\" y2=\"28.2969\"/><text fill=\"#000000\" font-family=\"sans-serif\" font-size=\"14\" font-weight=\"bold\" lengthAdjust=\"spacingAndGlyphs\" textLength=\"102\" x=\"20\" y=\"20.9951\">ParameterTest</text></a><!--MD5=[f6df4d0ebaf0b5dfb2ced0ae5af7c670]\n",
       "cluster E4--><a href=\"psysml:40a467ef-e18b-46ff-840a-6dc079db3448\" target=\"_top\" title=\"psysml:40a467ef-e18b-46ff-840a-6dc079db3448\" xlink:actuate=\"onRequest\" xlink:href=\"psysml:40a467ef-e18b-46ff-840a-6dc079db3448\" xlink:show=\"new\" xlink:title=\"psysml:40a467ef-e18b-46ff-840a-6dc079db3448\" xlink:type=\"simple\"><rect fill=\"#FFFFFF\" filter=\"url(#fja1y46vyo4w6)\" height=\"281.72\" id=\"E4\" style=\"stroke: #A80036; stroke-width: 1.5;\" width=\"148\" x=\"554\" y=\"64\"/><rect fill=\"#FEFECE\" height=\"37.9375\" style=\"stroke: #A80036; stroke-width: 1.5;\" width=\"148\" x=\"554\" y=\"64\"/><text fill=\"#000000\" font-family=\"sans-serif\" font-size=\"12\" font-style=\"italic\" lengthAdjust=\"spacingAndGlyphs\" textLength=\"106\" x=\"575\" y=\"80.1387\">«calculation def»</text><text fill=\"#000000\" font-family=\"sans-serif\" font-size=\"12\" lengthAdjust=\"spacingAndGlyphs\" textLength=\"7\" x=\"624.5\" y=\"94.1074\">F</text></a><!--MD5=[b4997ac47864f28c2f74865a473b2911]\n",
       "class E2--><a href=\"psysml:da28d9c5-e66b-4d93-bbca-9dea65a864c0\" target=\"_top\" title=\"psysml:da28d9c5-e66b-4d93-bbca-9dea65a864c0\" xlink:actuate=\"onRequest\" xlink:href=\"psysml:da28d9c5-e66b-4d93-bbca-9dea65a864c0\" xlink:show=\"new\" xlink:title=\"psysml:da28d9c5-e66b-4d93-bbca-9dea65a864c0\" xlink:type=\"simple\"><rect fill=\"#FEFECE\" filter=\"url(#fja1y46vyo4w6)\" height=\"71.5469\" id=\"E2\" style=\"stroke: #A80036; stroke-width: 1.5;\" width=\"95\" x=\"422.5\" y=\"147\"/><text fill=\"#000000\" font-family=\"sans-serif\" font-size=\"12\" font-style=\"italic\" lengthAdjust=\"spacingAndGlyphs\" textLength=\"93\" x=\"423.5\" y=\"163.1387\">«attribute def»</text><text fill=\"#000000\" font-family=\"sans-serif\" font-size=\"12\" lengthAdjust=\"spacingAndGlyphs\" textLength=\"8\" x=\"466\" y=\"177.1074\">A</text><line style=\"stroke: #A80036; stroke-width: 1.5;\" x1=\"423.5\" x2=\"516.5\" y1=\"184.9375\" y2=\"184.9375\"/><text fill=\"#000000\" font-family=\"sans-serif\" font-size=\"11\" lengthAdjust=\"spacingAndGlyphs\" textLength=\"48\" x=\"428.5\" y=\"199.1479\">x: String</text><text fill=\"#000000\" font-family=\"sans-serif\" font-size=\"11\" lengthAdjust=\"spacingAndGlyphs\" textLength=\"21\" x=\"428.5\" y=\"211.9526\">y: A</text></a><!--MD5=[09b614a08d8cba4a07c9adeb5e0fee81]\n",
       "class E3--><a href=\"psysml:8df57e9c-49a1-414c-8fdd-827b36a310a4\" target=\"_top\" title=\"psysml:8df57e9c-49a1-414c-8fdd-827b36a310a4\" xlink:actuate=\"onRequest\" xlink:href=\"psysml:8df57e9c-49a1-414c-8fdd-827b36a310a4\" xlink:show=\"new\" xlink:title=\"psysml:8df57e9c-49a1-414c-8fdd-827b36a310a4\" xlink:type=\"simple\"><rect fill=\"#FEFECE\" filter=\"url(#fja1y46vyo4w6)\" height=\"45.9375\" id=\"E3\" rx=\"10\" ry=\"10\" style=\"stroke: #A80036; stroke-width: 1.5;\" width=\"71\" x=\"456.5\" y=\"41\"/><text fill=\"#000000\" font-family=\"sans-serif\" font-size=\"12\" font-style=\"italic\" lengthAdjust=\"spacingAndGlyphs\" textLength=\"69\" x=\"457.5\" y=\"57.1387\">«attribute»</text><text fill=\"#000000\" font-family=\"sans-serif\" font-size=\"12\" lengthAdjust=\"spacingAndGlyphs\" textLength=\"24\" x=\"480\" y=\"71.1074\">a: A</text><line style=\"stroke: #A80036; stroke-width: 1.5;\" x1=\"457.5\" x2=\"526.5\" y1=\"78.9375\" y2=\"78.9375\"/></a><!--MD5=[b9389687b975829384b498ac4b7476b2]\n",
       "class E8--><a href=\"psysml:2237367a-6968-472a-8f6b-3570950aa6b8\" target=\"_top\" title=\"psysml:2237367a-6968-472a-8f6b-3570950aa6b8\" xlink:actuate=\"onRequest\" xlink:href=\"psysml:2237367a-6968-472a-8f6b-3570950aa6b8\" xlink:show=\"new\" xlink:title=\"psysml:2237367a-6968-472a-8f6b-3570950aa6b8\" xlink:type=\"simple\"><rect fill=\"#FEFECE\" filter=\"url(#fja1y46vyo4w6)\" height=\"45.9375\" id=\"E8\" rx=\"10\" ry=\"10\" style=\"stroke: #A80036; stroke-width: 1.5;\" width=\"71\" x=\"350.5\" y=\"41\"/><text fill=\"#000000\" font-family=\"sans-serif\" font-size=\"12\" font-style=\"italic\" lengthAdjust=\"spacingAndGlyphs\" textLength=\"69\" x=\"351.5\" y=\"57.1387\">«attribute»</text><text fill=\"#000000\" font-family=\"sans-serif\" font-size=\"12\" lengthAdjust=\"spacingAndGlyphs\" textLength=\"4\" x=\"384\" y=\"71.1074\">f</text><line style=\"stroke: #A80036; stroke-width: 1.5;\" x1=\"351.5\" x2=\"420.5\" y1=\"78.9375\" y2=\"78.9375\"/></a><!--MD5=[fd4143e9d270a159db93a4ea2a975926]\n",
       "class E9--><a href=\"psysml:b8cf583e-a2e4-421e-986b-a2654bc5da1a\" target=\"_top\" title=\"psysml:b8cf583e-a2e4-421e-986b-a2654bc5da1a\" xlink:actuate=\"onRequest\" xlink:href=\"psysml:b8cf583e-a2e4-421e-986b-a2654bc5da1a\" xlink:show=\"new\" xlink:title=\"psysml:b8cf583e-a2e4-421e-986b-a2654bc5da1a\" xlink:type=\"simple\"><rect fill=\"#FEFECE\" filter=\"url(#fja1y46vyo4w6)\" height=\"45.9375\" id=\"E9\" rx=\"10\" ry=\"10\" style=\"stroke: #A80036; stroke-width: 1.5;\" width=\"71\" x=\"244.5\" y=\"41\"/><text fill=\"#000000\" font-family=\"sans-serif\" font-size=\"12\" font-style=\"italic\" lengthAdjust=\"spacingAndGlyphs\" textLength=\"69\" x=\"245.5\" y=\"57.1387\">«attribute»</text><text fill=\"#000000\" font-family=\"sans-serif\" font-size=\"12\" lengthAdjust=\"spacingAndGlyphs\" textLength=\"8\" x=\"276\" y=\"71.1074\">g</text><line style=\"stroke: #A80036; stroke-width: 1.5;\" x1=\"245.5\" x2=\"314.5\" y1=\"78.9375\" y2=\"78.9375\"/></a><!--MD5=[96f4274e9e20536e775497830990834d]\n",
       "class E10--><a href=\"psysml:0aa11811-cac3-458e-8be5-17e4f08795b7\" target=\"_top\" title=\"psysml:0aa11811-cac3-458e-8be5-17e4f08795b7\" xlink:actuate=\"onRequest\" xlink:href=\"psysml:0aa11811-cac3-458e-8be5-17e4f08795b7\" xlink:show=\"new\" xlink:title=\"psysml:0aa11811-cac3-458e-8be5-17e4f08795b7\" xlink:type=\"simple\"><rect fill=\"#FEFECE\" filter=\"url(#fja1y46vyo4w6)\" height=\"45.9375\" id=\"E10\" rx=\"10\" ry=\"10\" style=\"stroke: #A80036; stroke-width: 1.5;\" width=\"71\" x=\"138.5\" y=\"41\"/><text fill=\"#000000\" font-family=\"sans-serif\" font-size=\"12\" font-style=\"italic\" lengthAdjust=\"spacingAndGlyphs\" textLength=\"69\" x=\"139.5\" y=\"57.1387\">«attribute»</text><text fill=\"#000000\" font-family=\"sans-serif\" font-size=\"12\" lengthAdjust=\"spacingAndGlyphs\" textLength=\"8\" x=\"170\" y=\"71.1074\">b</text><line style=\"stroke: #A80036; stroke-width: 1.5;\" x1=\"139.5\" x2=\"208.5\" y1=\"78.9375\" y2=\"78.9375\"/></a><!--MD5=[1dd1bfd58a279cf63c5f349dbc8fc6a1]\n",
       "class E11--><a href=\"psysml:4713065a-36eb-4143-8ed6-c41cfc39d881\" target=\"_top\" title=\"psysml:4713065a-36eb-4143-8ed6-c41cfc39d881\" xlink:actuate=\"onRequest\" xlink:href=\"psysml:4713065a-36eb-4143-8ed6-c41cfc39d881\" xlink:show=\"new\" xlink:title=\"psysml:4713065a-36eb-4143-8ed6-c41cfc39d881\" xlink:type=\"simple\"><rect fill=\"#FEFECE\" filter=\"url(#fja1y46vyo4w6)\" height=\"45.9375\" id=\"E11\" rx=\"10\" ry=\"10\" style=\"stroke: #A80036; stroke-width: 1.5;\" width=\"71\" x=\"32.5\" y=\"41\"/><text fill=\"#000000\" font-family=\"sans-serif\" font-size=\"12\" font-style=\"italic\" lengthAdjust=\"spacingAndGlyphs\" textLength=\"69\" x=\"33.5\" y=\"57.1387\">«attribute»</text><text fill=\"#000000\" font-family=\"sans-serif\" font-size=\"12\" lengthAdjust=\"spacingAndGlyphs\" textLength=\"7\" x=\"64.5\" y=\"71.1074\">c</text><line style=\"stroke: #A80036; stroke-width: 1.5;\" x1=\"33.5\" x2=\"102.5\" y1=\"78.9375\" y2=\"78.9375\"/></a><text fill=\"#000000\" font-family=\"sans-serif\" font-size=\"14\" lengthAdjust=\"spacingAndGlyphs\" textLength=\"9\" x=\"567.5\" y=\"42.6982\">p</text><rect fill=\"#A80036\" height=\"12\" style=\"stroke: #FEFECE; stroke-width: 1.5;\" width=\"12\" x=\"566\" y=\"58\"/><text fill=\"#000000\" font-family=\"sans-serif\" font-size=\"14\" lengthAdjust=\"spacingAndGlyphs\" textLength=\"9\" x=\"614.5\" y=\"42.6982\">q</text><rect fill=\"#A80036\" height=\"12\" style=\"stroke: #FEFECE; stroke-width: 1.5;\" width=\"12\" x=\"613\" y=\"58\"/><text fill=\"#000000\" font-family=\"sans-serif\" font-size=\"14\" lengthAdjust=\"spacingAndGlyphs\" textLength=\"39\" x=\"599.5\" y=\"364.7151\">result</text><rect fill=\"#A80036\" height=\"12\" style=\"stroke: #FEFECE; stroke-width: 1.5;\" width=\"12\" x=\"613\" y=\"339.72\"/><!--MD5=[05d275557350bfb9b23a4ef7222b4c39]\n",
       "link E3 to E2--><a href=\"psysml:0b532ab9-83c4-4e75-92c6-eb24823a8b5d\" target=\"_top\" title=\"psysml:0b532ab9-83c4-4e75-92c6-eb24823a8b5d\" xlink:actuate=\"onRequest\" xlink:href=\"psysml:0b532ab9-83c4-4e75-92c6-eb24823a8b5d\" xlink:show=\"new\" xlink:title=\"psysml:0b532ab9-83c4-4e75-92c6-eb24823a8b5d\" xlink:type=\"simple\"><path d=\"M487.86,87.01 C485.74,98.3 483.05,112.62 480.4,126.7 \" fill=\"none\" id=\"E3-&gt;E2\" style=\"stroke: #A80036; stroke-width: 1.0;\"/><polygon fill=\"#FFFFFF\" points=\"476.63,146.75,473.2514,126.7854,487.0116,129.3654,476.63,146.75\" style=\"stroke: #A80036; stroke-width: 1.0;\"/><ellipse cx=\"476.2676\" cy=\"121.5516\" fill=\"#A80036\" rx=\"2\" ry=\"2\" style=\"stroke: #A80036; stroke-width: 1.0;\"/><ellipse cx=\"486.0963\" cy=\"123.3945\" fill=\"#A80036\" rx=\"2\" ry=\"2\" style=\"stroke: #A80036; stroke-width: 1.0;\"/></a><!--MD5=[72dc998297c1e8717fe73a93c791f2ca]\n",
       "@startuml\r\n",
       "skinparam wrapWidth 300\r\n",
       "hide circle\r\n",
       "\r\n",
       "package \"ParameterTest\" as E1  [[psysml:a676bd1d-a902-490f-aa39-52389ae12c12 ]]  {\r\n",
       "comp def \"A\" as E2  <<(T,blue) attribute def>> [[psysml:da28d9c5-e66b-4d93-bbca-9dea65a864c0 ]] {\r\n",
       "x: String\r\n",
       "y: A\r\n",
       "}\r\n",
       "comp usage \"a: A\" as E3  <<(T,blue) attribute>> [[psysml:8df57e9c-49a1-414c-8fdd-827b36a310a4 ]] {\r\n",
       "}\r\n",
       "rec def \"F\" as E4  <<(T,blue) calculation def>> [[psysml:40a467ef-e18b-46ff-840a-6dc079db3448 ]] {\r\n",
       "portin \"p\" as E5  [[psysml:5802290c-01bb-4d71-b710-026b61c78f11 ]] \r\n",
       "portin \"q\" as E6  [[psysml:197907df-8789-46a9-bbed-d5f940e1c2ab ]] \r\n",
       "portout \"result\" as E7  [[psysml:e7c52caa-c6a6-4daa-b328-953e2590a8bc ]] \r\n",
       "}\r\n",
       "\r\n",
       "comp usage \"f\" as E8  <<(T,blue) attribute>> [[psysml:2237367a-6968-472a-8f6b-3570950aa6b8 ]] {\r\n",
       "}\r\n",
       "comp usage \"g\" as E9  <<(T,blue) attribute>> [[psysml:b8cf583e-a2e4-421e-986b-a2654bc5da1a ]] {\r\n",
       "}\r\n",
       "comp usage \"b\" as E10  <<(T,blue) attribute>> [[psysml:0aa11811-cac3-458e-8be5-17e4f08795b7 ]] {\r\n",
       "}\r\n",
       "comp usage \"c\" as E11  <<(T,blue) attribute>> [[psysml:4713065a-36eb-4143-8ed6-c41cfc39d881 ]] {\r\n",
       "}\r\n",
       "}\r\n",
       "E3 - -:|> E2 [[psysml:0b532ab9-83c4-4e75-92c6-eb24823a8b5d ]] \r\n",
       "@enduml\r\n",
       "\n",
       "PlantUML version 1.2020.13(Sat Jun 13 12:26:38 UTC 2020)\n",
       "(EPL source distribution)\n",
       "Java Runtime: OpenJDK Runtime Environment\n",
       "JVM: OpenJDK 64-Bit Server VM\n",
       "Default Encoding: UTF-8\n",
       "Language: en\n",
       "Country: null\n",
       "--></g></svg>"
      ]
     },
     "execution_count": 29,
     "metadata": {},
     "output_type": "execute_result"
    }
   ],
   "source": [
    "%viz --style=\"STDCOLOR\" --view=\"MIXED\" \"ParameterTest\""
   ]
  },
  {
   "cell_type": "code",
   "execution_count": 30,
   "id": "40c7aa86",
   "metadata": {
    "execution": {
     "iopub.execute_input": "2021-10-03T08:28:26.217450Z",
     "iopub.status.busy": "2021-10-03T08:28:26.217051Z",
     "iopub.status.idle": "2021-10-03T08:28:26.283458Z",
     "shell.execute_reply": "2021-10-03T08:28:26.283104Z"
    }
   },
   "outputs": [
    {
     "data": {
      "image/svg+xml": [
       "<?xml version=\"1.0\" encoding=\"UTF-8\" standalone=\"no\"?><svg xmlns=\"http://www.w3.org/2000/svg\" xmlns:xlink=\"http://www.w3.org/1999/xlink\" contentScriptType=\"application/ecmascript\" contentStyleType=\"text/css\" height=\"387px\" preserveAspectRatio=\"none\" style=\"width:868px;height:387px;\" version=\"1.1\" viewBox=\"0 0 868 387\" width=\"868px\" zoomAndPan=\"magnify\"><defs><filter height=\"300%\" id=\"f8tv71l99axey\" width=\"300%\" x=\"-1\" y=\"-1\"><feGaussianBlur result=\"blurOut\" stdDeviation=\"2.0\"/><feColorMatrix in=\"blurOut\" result=\"blurOut2\" type=\"matrix\" values=\"0 0 0 0 0 0 0 0 0 0 0 0 0 0 0 0 0 0 .4 0\"/><feOffset dx=\"4.0\" dy=\"4.0\" in=\"blurOut2\" result=\"blurOut3\"/><feBlend in=\"SourceGraphic\" in2=\"blurOut3\" mode=\"normal\"/></filter></defs><g><!--MD5=[fbc87193dbaf4d95561dea2c320d4a47]\n",
       "cluster E1--><a href=\"psysml:a676bd1d-a902-490f-aa39-52389ae12c12\" target=\"_top\" title=\"psysml:a676bd1d-a902-490f-aa39-52389ae12c12\" xlink:actuate=\"onRequest\" xlink:href=\"psysml:a676bd1d-a902-490f-aa39-52389ae12c12\" xlink:show=\"new\" xlink:title=\"psysml:a676bd1d-a902-490f-aa39-52389ae12c12\" xlink:type=\"simple\"><polygon fill=\"#FFFFFF\" filter=\"url(#f8tv71l99axey)\" points=\"16,6,124,6,131,28.2969,846,28.2969,846,375.72,16,375.72,16,6\" style=\"stroke: #000000; stroke-width: 1.5;\"/><line style=\"stroke: #000000; stroke-width: 1.5;\" x1=\"16\" x2=\"131\" y1=\"28.2969\" y2=\"28.2969\"/><text fill=\"#000000\" font-family=\"sans-serif\" font-size=\"14\" font-weight=\"bold\" lengthAdjust=\"spacingAndGlyphs\" textLength=\"102\" x=\"20\" y=\"20.9951\">ParameterTest</text></a><!--MD5=[f6df4d0ebaf0b5dfb2ced0ae5af7c670]\n",
       "cluster E4--><a href=\"psysml:40a467ef-e18b-46ff-840a-6dc079db3448\" target=\"_top\" title=\"psysml:40a467ef-e18b-46ff-840a-6dc079db3448\" xlink:actuate=\"onRequest\" xlink:href=\"psysml:40a467ef-e18b-46ff-840a-6dc079db3448\" xlink:show=\"new\" xlink:title=\"psysml:40a467ef-e18b-46ff-840a-6dc079db3448\" xlink:type=\"simple\"><rect fill=\"#FFFFFF\" filter=\"url(#f8tv71l99axey)\" height=\"281.72\" id=\"E4\" style=\"stroke: #A80036; stroke-width: 1.5;\" width=\"148\" x=\"682\" y=\"64\"/><rect fill=\"#FEFECE\" height=\"37.9375\" style=\"stroke: #A80036; stroke-width: 1.5;\" width=\"148\" x=\"682\" y=\"64\"/><text fill=\"#000000\" font-family=\"sans-serif\" font-size=\"12\" font-style=\"italic\" lengthAdjust=\"spacingAndGlyphs\" textLength=\"106\" x=\"703\" y=\"80.1387\">«calculation def»</text><text fill=\"#000000\" font-family=\"sans-serif\" font-size=\"12\" lengthAdjust=\"spacingAndGlyphs\" textLength=\"7\" x=\"752.5\" y=\"94.1074\">F</text></a><!--MD5=[b4997ac47864f28c2f74865a473b2911]\n",
       "class E2--><a href=\"psysml:da28d9c5-e66b-4d93-bbca-9dea65a864c0\" target=\"_top\" title=\"psysml:da28d9c5-e66b-4d93-bbca-9dea65a864c0\" xlink:actuate=\"onRequest\" xlink:href=\"psysml:da28d9c5-e66b-4d93-bbca-9dea65a864c0\" xlink:show=\"new\" xlink:title=\"psysml:da28d9c5-e66b-4d93-bbca-9dea65a864c0\" xlink:type=\"simple\"><rect fill=\"#FEFECE\" filter=\"url(#f8tv71l99axey)\" height=\"71.5469\" id=\"E2\" style=\"stroke: #A80036; stroke-width: 1.5;\" width=\"121\" x=\"524.5\" y=\"147\"/><ellipse cx=\"539.5\" cy=\"165.9688\" fill=\"#A52A2A\" rx=\"11\" ry=\"11\" style=\"stroke: #A80036; stroke-width: 1.0;\"/><path d=\"M536.7188,170.9688 L536.7188,160.375 L539.4531,160.375 Q540.8438,160.375 541.6094,160.7656 Q542.3906,161.1406 542.9219,161.8438 Q543.4531,162.5469 543.75,163.5469 Q544.0469,164.5313 544.0469,165.75 Q544,167.3438 543.5,168.5313 Q543.0156,169.7031 541.9688,170.3438 Q540.9375,170.9688 539.25,170.9688 L536.7188,170.9688 Z M538.5781,169.4688 L539.2031,169.4688 Q540.2813,169.4688 540.9375,169.0156 Q541.5938,168.5625 541.875,167.7344 Q542.1719,166.8906 542.1563,165.7656 Q542.1563,164.5938 541.9063,163.7344 Q541.6563,162.8594 541.0469,162.3906 Q540.4375,161.9063 539.3906,161.9063 L538.5781,161.9063 L538.5781,169.4688 Z \"/><text fill=\"#000000\" font-family=\"sans-serif\" font-size=\"12\" font-style=\"italic\" lengthAdjust=\"spacingAndGlyphs\" textLength=\"93\" x=\"551.5\" y=\"163.1387\">«attribute def»</text><text fill=\"#000000\" font-family=\"sans-serif\" font-size=\"12\" lengthAdjust=\"spacingAndGlyphs\" textLength=\"8\" x=\"594\" y=\"177.1074\">A</text><line style=\"stroke: #A80036; stroke-width: 1.5;\" x1=\"525.5\" x2=\"644.5\" y1=\"184.9375\" y2=\"184.9375\"/><text fill=\"#000000\" font-family=\"sans-serif\" font-size=\"11\" lengthAdjust=\"spacingAndGlyphs\" textLength=\"48\" x=\"530.5\" y=\"199.1479\">x: String</text><text fill=\"#000000\" font-family=\"sans-serif\" font-size=\"11\" lengthAdjust=\"spacingAndGlyphs\" textLength=\"21\" x=\"530.5\" y=\"211.9526\">y: A</text></a><!--MD5=[09b614a08d8cba4a07c9adeb5e0fee81]\n",
       "class E3--><a href=\"psysml:8df57e9c-49a1-414c-8fdd-827b36a310a4\" target=\"_top\" title=\"psysml:8df57e9c-49a1-414c-8fdd-827b36a310a4\" xlink:actuate=\"onRequest\" xlink:href=\"psysml:8df57e9c-49a1-414c-8fdd-827b36a310a4\" xlink:show=\"new\" xlink:title=\"psysml:8df57e9c-49a1-414c-8fdd-827b36a310a4\" xlink:type=\"simple\"><rect fill=\"#FEFECE\" filter=\"url(#f8tv71l99axey)\" height=\"45.9375\" id=\"E3\" rx=\"10\" ry=\"10\" style=\"stroke: #A80036; stroke-width: 1.5;\" width=\"97\" x=\"559.5\" y=\"41\"/><ellipse cx=\"574.5\" cy=\"59.9688\" fill=\"#FFA500\" rx=\"11\" ry=\"11\" style=\"stroke: #A80036; stroke-width: 1.0;\"/><path d=\"M574.25,65.4375 Q572.5,65.4375 571.5469,64.4063 Q570.6094,63.3594 570.6094,61.5156 L570.6094,54.625 L572.6719,54.625 L572.6719,54.7813 Q572.5781,54.875 572.5469,55.0156 Q572.5313,55.1406 572.5313,55.4063 L572.5313,61.5313 Q572.5313,62.625 572.9063,63.25 Q573.2813,63.875 574.2656,63.875 Q575.25,63.875 575.6406,63.25 Q576.0313,62.625 576.0313,61.4844 L576.0313,54.625 L577.9063,54.625 L577.9063,61.4688 Q577.9063,63.5 576.875,64.4688 Q575.8594,65.4375 574.25,65.4375 Z \"/><text fill=\"#000000\" font-family=\"sans-serif\" font-size=\"12\" font-style=\"italic\" lengthAdjust=\"spacingAndGlyphs\" textLength=\"69\" x=\"586.5\" y=\"57.1387\">«attribute»</text><text fill=\"#000000\" font-family=\"sans-serif\" font-size=\"12\" lengthAdjust=\"spacingAndGlyphs\" textLength=\"24\" x=\"609\" y=\"71.1074\">a: A</text><line style=\"stroke: #A80036; stroke-width: 1.5;\" x1=\"560.5\" x2=\"655.5\" y1=\"78.9375\" y2=\"78.9375\"/></a><!--MD5=[b9389687b975829384b498ac4b7476b2]\n",
       "class E8--><a href=\"psysml:2237367a-6968-472a-8f6b-3570950aa6b8\" target=\"_top\" title=\"psysml:2237367a-6968-472a-8f6b-3570950aa6b8\" xlink:actuate=\"onRequest\" xlink:href=\"psysml:2237367a-6968-472a-8f6b-3570950aa6b8\" xlink:show=\"new\" xlink:title=\"psysml:2237367a-6968-472a-8f6b-3570950aa6b8\" xlink:type=\"simple\"><rect fill=\"#FEFECE\" filter=\"url(#f8tv71l99axey)\" height=\"45.9375\" id=\"E8\" rx=\"10\" ry=\"10\" style=\"stroke: #A80036; stroke-width: 1.5;\" width=\"97\" x=\"427.5\" y=\"41\"/><ellipse cx=\"442.5\" cy=\"59.9688\" fill=\"#FFA500\" rx=\"11\" ry=\"11\" style=\"stroke: #A80036; stroke-width: 1.0;\"/><path d=\"M442.25,65.4375 Q440.5,65.4375 439.5469,64.4063 Q438.6094,63.3594 438.6094,61.5156 L438.6094,54.625 L440.6719,54.625 L440.6719,54.7813 Q440.5781,54.875 440.5469,55.0156 Q440.5313,55.1406 440.5313,55.4063 L440.5313,61.5313 Q440.5313,62.625 440.9063,63.25 Q441.2813,63.875 442.2656,63.875 Q443.25,63.875 443.6406,63.25 Q444.0313,62.625 444.0313,61.4844 L444.0313,54.625 L445.9063,54.625 L445.9063,61.4688 Q445.9063,63.5 444.875,64.4688 Q443.8594,65.4375 442.25,65.4375 Z \"/><text fill=\"#000000\" font-family=\"sans-serif\" font-size=\"12\" font-style=\"italic\" lengthAdjust=\"spacingAndGlyphs\" textLength=\"69\" x=\"454.5\" y=\"57.1387\">«attribute»</text><text fill=\"#000000\" font-family=\"sans-serif\" font-size=\"12\" lengthAdjust=\"spacingAndGlyphs\" textLength=\"4\" x=\"487\" y=\"71.1074\">f</text><line style=\"stroke: #A80036; stroke-width: 1.5;\" x1=\"428.5\" x2=\"523.5\" y1=\"78.9375\" y2=\"78.9375\"/></a><!--MD5=[fd4143e9d270a159db93a4ea2a975926]\n",
       "class E9--><a href=\"psysml:b8cf583e-a2e4-421e-986b-a2654bc5da1a\" target=\"_top\" title=\"psysml:b8cf583e-a2e4-421e-986b-a2654bc5da1a\" xlink:actuate=\"onRequest\" xlink:href=\"psysml:b8cf583e-a2e4-421e-986b-a2654bc5da1a\" xlink:show=\"new\" xlink:title=\"psysml:b8cf583e-a2e4-421e-986b-a2654bc5da1a\" xlink:type=\"simple\"><rect fill=\"#FEFECE\" filter=\"url(#f8tv71l99axey)\" height=\"45.9375\" id=\"E9\" rx=\"10\" ry=\"10\" style=\"stroke: #A80036; stroke-width: 1.5;\" width=\"97\" x=\"295.5\" y=\"41\"/><ellipse cx=\"310.5\" cy=\"59.9688\" fill=\"#FFA500\" rx=\"11\" ry=\"11\" style=\"stroke: #A80036; stroke-width: 1.0;\"/><path d=\"M310.25,65.4375 Q308.5,65.4375 307.5469,64.4063 Q306.6094,63.3594 306.6094,61.5156 L306.6094,54.625 L308.6719,54.625 L308.6719,54.7813 Q308.5781,54.875 308.5469,55.0156 Q308.5313,55.1406 308.5313,55.4063 L308.5313,61.5313 Q308.5313,62.625 308.9063,63.25 Q309.2813,63.875 310.2656,63.875 Q311.25,63.875 311.6406,63.25 Q312.0313,62.625 312.0313,61.4844 L312.0313,54.625 L313.9063,54.625 L313.9063,61.4688 Q313.9063,63.5 312.875,64.4688 Q311.8594,65.4375 310.25,65.4375 Z \"/><text fill=\"#000000\" font-family=\"sans-serif\" font-size=\"12\" font-style=\"italic\" lengthAdjust=\"spacingAndGlyphs\" textLength=\"69\" x=\"322.5\" y=\"57.1387\">«attribute»</text><text fill=\"#000000\" font-family=\"sans-serif\" font-size=\"12\" lengthAdjust=\"spacingAndGlyphs\" textLength=\"8\" x=\"353\" y=\"71.1074\">g</text><line style=\"stroke: #A80036; stroke-width: 1.5;\" x1=\"296.5\" x2=\"391.5\" y1=\"78.9375\" y2=\"78.9375\"/></a><!--MD5=[96f4274e9e20536e775497830990834d]\n",
       "class E10--><a href=\"psysml:0aa11811-cac3-458e-8be5-17e4f08795b7\" target=\"_top\" title=\"psysml:0aa11811-cac3-458e-8be5-17e4f08795b7\" xlink:actuate=\"onRequest\" xlink:href=\"psysml:0aa11811-cac3-458e-8be5-17e4f08795b7\" xlink:show=\"new\" xlink:title=\"psysml:0aa11811-cac3-458e-8be5-17e4f08795b7\" xlink:type=\"simple\"><rect fill=\"#FEFECE\" filter=\"url(#f8tv71l99axey)\" height=\"45.9375\" id=\"E10\" rx=\"10\" ry=\"10\" style=\"stroke: #A80036; stroke-width: 1.5;\" width=\"97\" x=\"163.5\" y=\"41\"/><ellipse cx=\"178.5\" cy=\"59.9688\" fill=\"#FFA500\" rx=\"11\" ry=\"11\" style=\"stroke: #A80036; stroke-width: 1.0;\"/><path d=\"M178.25,65.4375 Q176.5,65.4375 175.5469,64.4063 Q174.6094,63.3594 174.6094,61.5156 L174.6094,54.625 L176.6719,54.625 L176.6719,54.7813 Q176.5781,54.875 176.5469,55.0156 Q176.5313,55.1406 176.5313,55.4063 L176.5313,61.5313 Q176.5313,62.625 176.9063,63.25 Q177.2813,63.875 178.2656,63.875 Q179.25,63.875 179.6406,63.25 Q180.0313,62.625 180.0313,61.4844 L180.0313,54.625 L181.9063,54.625 L181.9063,61.4688 Q181.9063,63.5 180.875,64.4688 Q179.8594,65.4375 178.25,65.4375 Z \"/><text fill=\"#000000\" font-family=\"sans-serif\" font-size=\"12\" font-style=\"italic\" lengthAdjust=\"spacingAndGlyphs\" textLength=\"69\" x=\"190.5\" y=\"57.1387\">«attribute»</text><text fill=\"#000000\" font-family=\"sans-serif\" font-size=\"12\" lengthAdjust=\"spacingAndGlyphs\" textLength=\"8\" x=\"221\" y=\"71.1074\">b</text><line style=\"stroke: #A80036; stroke-width: 1.5;\" x1=\"164.5\" x2=\"259.5\" y1=\"78.9375\" y2=\"78.9375\"/></a><!--MD5=[1dd1bfd58a279cf63c5f349dbc8fc6a1]\n",
       "class E11--><a href=\"psysml:4713065a-36eb-4143-8ed6-c41cfc39d881\" target=\"_top\" title=\"psysml:4713065a-36eb-4143-8ed6-c41cfc39d881\" xlink:actuate=\"onRequest\" xlink:href=\"psysml:4713065a-36eb-4143-8ed6-c41cfc39d881\" xlink:show=\"new\" xlink:title=\"psysml:4713065a-36eb-4143-8ed6-c41cfc39d881\" xlink:type=\"simple\"><rect fill=\"#FEFECE\" filter=\"url(#f8tv71l99axey)\" height=\"45.9375\" id=\"E11\" rx=\"10\" ry=\"10\" style=\"stroke: #A80036; stroke-width: 1.5;\" width=\"97\" x=\"31.5\" y=\"41\"/><ellipse cx=\"46.5\" cy=\"59.9688\" fill=\"#FFA500\" rx=\"11\" ry=\"11\" style=\"stroke: #A80036; stroke-width: 1.0;\"/><path d=\"M46.25,65.4375 Q44.5,65.4375 43.5469,64.4063 Q42.6094,63.3594 42.6094,61.5156 L42.6094,54.625 L44.6719,54.625 L44.6719,54.7813 Q44.5781,54.875 44.5469,55.0156 Q44.5313,55.1406 44.5313,55.4063 L44.5313,61.5313 Q44.5313,62.625 44.9063,63.25 Q45.2813,63.875 46.2656,63.875 Q47.25,63.875 47.6406,63.25 Q48.0313,62.625 48.0313,61.4844 L48.0313,54.625 L49.9063,54.625 L49.9063,61.4688 Q49.9063,63.5 48.875,64.4688 Q47.8594,65.4375 46.25,65.4375 Z \"/><text fill=\"#000000\" font-family=\"sans-serif\" font-size=\"12\" font-style=\"italic\" lengthAdjust=\"spacingAndGlyphs\" textLength=\"69\" x=\"58.5\" y=\"57.1387\">«attribute»</text><text fill=\"#000000\" font-family=\"sans-serif\" font-size=\"12\" lengthAdjust=\"spacingAndGlyphs\" textLength=\"7\" x=\"89.5\" y=\"71.1074\">c</text><line style=\"stroke: #A80036; stroke-width: 1.5;\" x1=\"32.5\" x2=\"127.5\" y1=\"78.9375\" y2=\"78.9375\"/></a><text fill=\"#000000\" font-family=\"sans-serif\" font-size=\"14\" lengthAdjust=\"spacingAndGlyphs\" textLength=\"9\" x=\"695.5\" y=\"42.6982\">p</text><rect fill=\"#A80036\" height=\"12\" style=\"stroke: #FEFECE; stroke-width: 1.5;\" width=\"12\" x=\"694\" y=\"58\"/><text fill=\"#000000\" font-family=\"sans-serif\" font-size=\"14\" lengthAdjust=\"spacingAndGlyphs\" textLength=\"9\" x=\"742.5\" y=\"42.6982\">q</text><rect fill=\"#A80036\" height=\"12\" style=\"stroke: #FEFECE; stroke-width: 1.5;\" width=\"12\" x=\"741\" y=\"58\"/><text fill=\"#000000\" font-family=\"sans-serif\" font-size=\"14\" lengthAdjust=\"spacingAndGlyphs\" textLength=\"39\" x=\"727.5\" y=\"364.7151\">result</text><rect fill=\"#A80036\" height=\"12\" style=\"stroke: #FEFECE; stroke-width: 1.5;\" width=\"12\" x=\"741\" y=\"339.72\"/><!--MD5=[05d275557350bfb9b23a4ef7222b4c39]\n",
       "link E3 to E2--><a href=\"psysml:0b532ab9-83c4-4e75-92c6-eb24823a8b5d\" target=\"_top\" title=\"psysml:0b532ab9-83c4-4e75-92c6-eb24823a8b5d\" xlink:actuate=\"onRequest\" xlink:href=\"psysml:0b532ab9-83c4-4e75-92c6-eb24823a8b5d\" xlink:show=\"new\" xlink:title=\"psysml:0b532ab9-83c4-4e75-92c6-eb24823a8b5d\" xlink:type=\"simple\"><path d=\"M603.67,87.01 C601.45,98.3 598.64,112.62 595.87,126.7 \" fill=\"none\" id=\"E3-&gt;E2\" style=\"stroke: #A80036; stroke-width: 1.0;\"/><polygon fill=\"#FFFFFF\" points=\"591.93,146.75,588.7277,126.7564,602.4646,129.4577,591.93,146.75\" style=\"stroke: #A80036; stroke-width: 1.0;\"/><ellipse cx=\"591.7899\" cy=\"121.5494\" fill=\"#A80036\" rx=\"2\" ry=\"2\" style=\"stroke: #A80036; stroke-width: 1.0;\"/><ellipse cx=\"601.602\" cy=\"123.4789\" fill=\"#A80036\" rx=\"2\" ry=\"2\" style=\"stroke: #A80036; stroke-width: 1.0;\"/></a><!--MD5=[95a9d48fe49a704e5ad827a3895b22ab]\n",
       "@startuml\r\n",
       " \r\n",
       "package \"ParameterTest\" as E1  [[psysml:a676bd1d-a902-490f-aa39-52389ae12c12 ]]  {\r\n",
       "comp def \"A\" as E2 << <<(D,brown) attribute def>> [[psysml:da28d9c5-e66b-4d93-bbca-9dea65a864c0 ]] {\r\n",
       "x: String\r\n",
       "y: A\r\n",
       "}\r\n",
       "comp usage \"a: A\" as E3 << <<(U,orange) attribute>> [[psysml:8df57e9c-49a1-414c-8fdd-827b36a310a4 ]] {\r\n",
       "}\r\n",
       "rec def \"F\" as E4 << <<(B,lemonchiffon) calculation def>> [[psysml:40a467ef-e18b-46ff-840a-6dc079db3448 ]] {\r\n",
       "portin \"p\" as E5  [[psysml:5802290c-01bb-4d71-b710-026b61c78f11 ]] \r\n",
       "portin \"q\" as E6  [[psysml:197907df-8789-46a9-bbed-d5f940e1c2ab ]] \r\n",
       "portout \"result\" as E7  [[psysml:e7c52caa-c6a6-4daa-b328-953e2590a8bc ]] \r\n",
       "}\r\n",
       "\r\n",
       "comp usage \"f\" as E8 << <<(U,orange) attribute>> [[psysml:2237367a-6968-472a-8f6b-3570950aa6b8 ]] {\r\n",
       "}\r\n",
       "comp usage \"g\" as E9 << <<(U,orange) attribute>> [[psysml:b8cf583e-a2e4-421e-986b-a2654bc5da1a ]] {\r\n",
       "}\r\n",
       "comp usage \"b\" as E10 << <<(U,orange) attribute>> [[psysml:0aa11811-cac3-458e-8be5-17e4f08795b7 ]] {\r\n",
       "}\r\n",
       "comp usage \"c\" as E11 << <<(U,orange) attribute>> [[psysml:4713065a-36eb-4143-8ed6-c41cfc39d881 ]] {\r\n",
       "}\r\n",
       "}\r\n",
       "E3 - -:|> E2 [[psysml:0b532ab9-83c4-4e75-92c6-eb24823a8b5d ]] \r\n",
       "@enduml\r\n",
       "\n",
       "PlantUML version 1.2020.13(Sat Jun 13 12:26:38 UTC 2020)\n",
       "(EPL source distribution)\n",
       "Java Runtime: OpenJDK Runtime Environment\n",
       "JVM: OpenJDK 64-Bit Server VM\n",
       "Default Encoding: UTF-8\n",
       "Language: en\n",
       "Country: null\n",
       "--></g></svg>"
      ]
     },
     "execution_count": 30,
     "metadata": {},
     "output_type": "execute_result"
    }
   ],
   "source": [
    "%viz --style=\"PLANTUML\" --view=\"Default\" \"ParameterTest\""
   ]
  },
  {
   "cell_type": "code",
   "execution_count": 31,
   "id": "c3a6a055",
   "metadata": {
    "execution": {
     "iopub.execute_input": "2021-10-03T08:28:26.332805Z",
     "iopub.status.busy": "2021-10-03T08:28:26.332404Z",
     "iopub.status.idle": "2021-10-03T08:28:26.376108Z",
     "shell.execute_reply": "2021-10-03T08:28:26.375729Z"
    }
   },
   "outputs": [
    {
     "data": {
      "image/svg+xml": [
       "<?xml version=\"1.0\" encoding=\"UTF-8\" standalone=\"no\"?><svg xmlns=\"http://www.w3.org/2000/svg\" xmlns:xlink=\"http://www.w3.org/1999/xlink\" contentScriptType=\"application/ecmascript\" contentStyleType=\"text/css\" height=\"264px\" preserveAspectRatio=\"none\" style=\"width:864px;height:264px;\" version=\"1.1\" viewBox=\"0 0 864 264\" width=\"864px\" zoomAndPan=\"magnify\"><defs><filter height=\"300%\" id=\"flnamjz96t2pv\" width=\"300%\" x=\"-1\" y=\"-1\"><feGaussianBlur result=\"blurOut\" stdDeviation=\"2.0\"/><feColorMatrix in=\"blurOut\" result=\"blurOut2\" type=\"matrix\" values=\"0 0 0 0 0 0 0 0 0 0 0 0 0 0 0 0 0 0 .4 0\"/><feOffset dx=\"4.0\" dy=\"4.0\" in=\"blurOut2\" result=\"blurOut3\"/><feBlend in=\"SourceGraphic\" in2=\"blurOut3\" mode=\"normal\"/></filter></defs><g><!--MD5=[fbc87193dbaf4d95561dea2c320d4a47]\n",
       "cluster E1--><a href=\"psysml:a676bd1d-a902-490f-aa39-52389ae12c12\" target=\"_top\" title=\"psysml:a676bd1d-a902-490f-aa39-52389ae12c12\" xlink:actuate=\"onRequest\" xlink:href=\"psysml:a676bd1d-a902-490f-aa39-52389ae12c12\" xlink:show=\"new\" xlink:title=\"psysml:a676bd1d-a902-490f-aa39-52389ae12c12\" xlink:type=\"simple\"><polygon fill=\"#FFFFFF\" filter=\"url(#flnamjz96t2pv)\" points=\"16,6,124,6,131,28.2969,842,28.2969,842,252,16,252,16,6\" style=\"stroke: #000000; stroke-width: 1.5;\"/><line style=\"stroke: #000000; stroke-width: 1.5;\" x1=\"16\" x2=\"131\" y1=\"28.2969\" y2=\"28.2969\"/><text fill=\"#000000\" font-family=\"sans-serif\" font-size=\"14\" font-weight=\"bold\" lengthAdjust=\"spacingAndGlyphs\" textLength=\"102\" x=\"20\" y=\"20.9951\">ParameterTest</text></a><!--MD5=[b4997ac47864f28c2f74865a473b2911]\n",
       "class E2--><a href=\"psysml:da28d9c5-e66b-4d93-bbca-9dea65a864c0\" target=\"_top\" title=\"psysml:da28d9c5-e66b-4d93-bbca-9dea65a864c0\" xlink:actuate=\"onRequest\" xlink:href=\"psysml:da28d9c5-e66b-4d93-bbca-9dea65a864c0\" xlink:show=\"new\" xlink:title=\"psysml:da28d9c5-e66b-4d93-bbca-9dea65a864c0\" xlink:type=\"simple\"><rect fill=\"#FEFECE\" filter=\"url(#flnamjz96t2pv)\" height=\"71.5469\" id=\"E2\" style=\"stroke: #A80036; stroke-width: 1.5;\" width=\"121\" x=\"642.5\" y=\"164\"/><ellipse cx=\"657.5\" cy=\"182.9688\" fill=\"#A52A2A\" rx=\"11\" ry=\"11\" style=\"stroke: #A80036; stroke-width: 1.0;\"/><path d=\"M654.7188,187.9688 L654.7188,177.375 L657.4531,177.375 Q658.8438,177.375 659.6094,177.7656 Q660.3906,178.1406 660.9219,178.8438 Q661.4531,179.5469 661.75,180.5469 Q662.0469,181.5313 662.0469,182.75 Q662,184.3438 661.5,185.5313 Q661.0156,186.7031 659.9688,187.3438 Q658.9375,187.9688 657.25,187.9688 L654.7188,187.9688 Z M656.5781,186.4688 L657.2031,186.4688 Q658.2813,186.4688 658.9375,186.0156 Q659.5938,185.5625 659.875,184.7344 Q660.1719,183.8906 660.1563,182.7656 Q660.1563,181.5938 659.9063,180.7344 Q659.6563,179.8594 659.0469,179.3906 Q658.4375,178.9063 657.3906,178.9063 L656.5781,178.9063 L656.5781,186.4688 Z \"/><text fill=\"#000000\" font-family=\"sans-serif\" font-size=\"12\" font-style=\"italic\" lengthAdjust=\"spacingAndGlyphs\" textLength=\"93\" x=\"669.5\" y=\"180.1387\">«attribute def»</text><text fill=\"#000000\" font-family=\"sans-serif\" font-size=\"12\" lengthAdjust=\"spacingAndGlyphs\" textLength=\"8\" x=\"712\" y=\"194.1074\">A</text><line style=\"stroke: #A80036; stroke-width: 1.5;\" x1=\"643.5\" x2=\"762.5\" y1=\"201.9375\" y2=\"201.9375\"/><text fill=\"#000000\" font-family=\"sans-serif\" font-size=\"11\" lengthAdjust=\"spacingAndGlyphs\" textLength=\"48\" x=\"648.5\" y=\"216.1479\">x: String</text><text fill=\"#000000\" font-family=\"sans-serif\" font-size=\"11\" lengthAdjust=\"spacingAndGlyphs\" textLength=\"21\" x=\"648.5\" y=\"228.9526\">y: A</text></a><!--MD5=[09b614a08d8cba4a07c9adeb5e0fee81]\n",
       "class E3--><a href=\"psysml:8df57e9c-49a1-414c-8fdd-827b36a310a4\" target=\"_top\" title=\"psysml:8df57e9c-49a1-414c-8fdd-827b36a310a4\" xlink:actuate=\"onRequest\" xlink:href=\"psysml:8df57e9c-49a1-414c-8fdd-827b36a310a4\" xlink:show=\"new\" xlink:title=\"psysml:8df57e9c-49a1-414c-8fdd-827b36a310a4\" xlink:type=\"simple\"><rect fill=\"#FEFECE\" filter=\"url(#flnamjz96t2pv)\" height=\"45.9375\" id=\"E3\" rx=\"10\" ry=\"10\" style=\"stroke: #A80036; stroke-width: 1.5;\" width=\"97\" x=\"729.5\" y=\"41\"/><ellipse cx=\"744.5\" cy=\"59.9688\" fill=\"#FFA500\" rx=\"11\" ry=\"11\" style=\"stroke: #A80036; stroke-width: 1.0;\"/><path d=\"M744.25,65.4375 Q742.5,65.4375 741.5469,64.4063 Q740.6094,63.3594 740.6094,61.5156 L740.6094,54.625 L742.6719,54.625 L742.6719,54.7813 Q742.5781,54.875 742.5469,55.0156 Q742.5313,55.1406 742.5313,55.4063 L742.5313,61.5313 Q742.5313,62.625 742.9063,63.25 Q743.2813,63.875 744.2656,63.875 Q745.25,63.875 745.6406,63.25 Q746.0313,62.625 746.0313,61.4844 L746.0313,54.625 L747.9063,54.625 L747.9063,61.4688 Q747.9063,63.5 746.875,64.4688 Q745.8594,65.4375 744.25,65.4375 Z \"/><text fill=\"#000000\" font-family=\"sans-serif\" font-size=\"12\" font-style=\"italic\" lengthAdjust=\"spacingAndGlyphs\" textLength=\"69\" x=\"756.5\" y=\"57.1387\">«attribute»</text><text fill=\"#000000\" font-family=\"sans-serif\" font-size=\"12\" lengthAdjust=\"spacingAndGlyphs\" textLength=\"24\" x=\"779\" y=\"71.1074\">a: A</text><line style=\"stroke: #A80036; stroke-width: 1.5;\" x1=\"730.5\" x2=\"825.5\" y1=\"78.9375\" y2=\"78.9375\"/></a><!--MD5=[ebbe1d658d1005bcc118a6aa81145e00]\n",
       "class E4--><a href=\"psysml:40a467ef-e18b-46ff-840a-6dc079db3448\" target=\"_top\" title=\"psysml:40a467ef-e18b-46ff-840a-6dc079db3448\" xlink:actuate=\"onRequest\" xlink:href=\"psysml:40a467ef-e18b-46ff-840a-6dc079db3448\" xlink:show=\"new\" xlink:title=\"psysml:40a467ef-e18b-46ff-840a-6dc079db3448\" xlink:type=\"simple\"><rect fill=\"#FEFECE\" filter=\"url(#flnamjz96t2pv)\" height=\"45.9375\" id=\"E4\" style=\"stroke: #A80036; stroke-width: 1.5;\" width=\"134\" x=\"560\" y=\"41\"/><ellipse cx=\"575\" cy=\"59.9688\" fill=\"#FFFACD\" rx=\"11\" ry=\"11\" style=\"stroke: #A80036; stroke-width: 1.0;\"/><path d=\"M571.875,64.9688 L571.875,54.375 L575.1094,54.375 Q577.0156,54.375 577.9219,55.125 Q578.8438,55.875 578.8438,57.0469 Q578.8438,57.7344 578.4531,58.3906 Q578.0781,59.0469 577.3594,59.3438 Q578.2188,59.7188 578.7344,60.4063 Q579.25,61.0938 579.25,61.9063 Q579.25,63.2813 578.2188,64.125 Q577.2031,64.9688 575.0938,64.9688 L571.875,64.9688 Z M573.7969,58.6094 L574.9531,58.6094 Q576.0781,58.6094 576.4844,58.2344 Q576.9063,57.8438 576.9063,57.2188 Q576.9063,56.6406 576.4844,56.2813 Q576.0625,55.9219 575.125,55.9219 L573.7969,55.9219 L573.7969,58.6094 Z M573.7969,63.3906 L575.2969,63.3906 Q576.2031,63.3906 576.7344,63 Q577.2656,62.6094 577.2656,61.8594 Q577.2656,61.0938 576.7656,60.625 Q576.2656,60.1406 575,60.1406 L573.7969,60.1406 L573.7969,63.3906 Z \"/><text fill=\"#000000\" font-family=\"sans-serif\" font-size=\"12\" font-style=\"italic\" lengthAdjust=\"spacingAndGlyphs\" textLength=\"106\" x=\"587\" y=\"57.1387\">«calculation def»</text><text fill=\"#000000\" font-family=\"sans-serif\" font-size=\"12\" lengthAdjust=\"spacingAndGlyphs\" textLength=\"7\" x=\"636.5\" y=\"71.1074\">F</text><line style=\"stroke: #A80036; stroke-width: 1.5;\" x1=\"561\" x2=\"693\" y1=\"78.9375\" y2=\"78.9375\"/></a><!--MD5=[270fce915f116d4de14055a7c1d9a0f3]\n",
       "class E5--><a href=\"psysml:2237367a-6968-472a-8f6b-3570950aa6b8\" target=\"_top\" title=\"psysml:2237367a-6968-472a-8f6b-3570950aa6b8\" xlink:actuate=\"onRequest\" xlink:href=\"psysml:2237367a-6968-472a-8f6b-3570950aa6b8\" xlink:show=\"new\" xlink:title=\"psysml:2237367a-6968-472a-8f6b-3570950aa6b8\" xlink:type=\"simple\"><rect fill=\"#FEFECE\" filter=\"url(#flnamjz96t2pv)\" height=\"45.9375\" id=\"E5\" rx=\"10\" ry=\"10\" style=\"stroke: #A80036; stroke-width: 1.5;\" width=\"97\" x=\"427.5\" y=\"41\"/><ellipse cx=\"442.5\" cy=\"59.9688\" fill=\"#FFA500\" rx=\"11\" ry=\"11\" style=\"stroke: #A80036; stroke-width: 1.0;\"/><path d=\"M442.25,65.4375 Q440.5,65.4375 439.5469,64.4063 Q438.6094,63.3594 438.6094,61.5156 L438.6094,54.625 L440.6719,54.625 L440.6719,54.7813 Q440.5781,54.875 440.5469,55.0156 Q440.5313,55.1406 440.5313,55.4063 L440.5313,61.5313 Q440.5313,62.625 440.9063,63.25 Q441.2813,63.875 442.2656,63.875 Q443.25,63.875 443.6406,63.25 Q444.0313,62.625 444.0313,61.4844 L444.0313,54.625 L445.9063,54.625 L445.9063,61.4688 Q445.9063,63.5 444.875,64.4688 Q443.8594,65.4375 442.25,65.4375 Z \"/><text fill=\"#000000\" font-family=\"sans-serif\" font-size=\"12\" font-style=\"italic\" lengthAdjust=\"spacingAndGlyphs\" textLength=\"69\" x=\"454.5\" y=\"57.1387\">«attribute»</text><text fill=\"#000000\" font-family=\"sans-serif\" font-size=\"12\" lengthAdjust=\"spacingAndGlyphs\" textLength=\"4\" x=\"487\" y=\"71.1074\">f</text><line style=\"stroke: #A80036; stroke-width: 1.5;\" x1=\"428.5\" x2=\"523.5\" y1=\"78.9375\" y2=\"78.9375\"/></a><!--MD5=[60a26617385b1d2d0262a64233df1f8d]\n",
       "class E6--><a href=\"psysml:b8cf583e-a2e4-421e-986b-a2654bc5da1a\" target=\"_top\" title=\"psysml:b8cf583e-a2e4-421e-986b-a2654bc5da1a\" xlink:actuate=\"onRequest\" xlink:href=\"psysml:b8cf583e-a2e4-421e-986b-a2654bc5da1a\" xlink:show=\"new\" xlink:title=\"psysml:b8cf583e-a2e4-421e-986b-a2654bc5da1a\" xlink:type=\"simple\"><rect fill=\"#FEFECE\" filter=\"url(#flnamjz96t2pv)\" height=\"45.9375\" id=\"E6\" rx=\"10\" ry=\"10\" style=\"stroke: #A80036; stroke-width: 1.5;\" width=\"97\" x=\"295.5\" y=\"41\"/><ellipse cx=\"310.5\" cy=\"59.9688\" fill=\"#FFA500\" rx=\"11\" ry=\"11\" style=\"stroke: #A80036; stroke-width: 1.0;\"/><path d=\"M310.25,65.4375 Q308.5,65.4375 307.5469,64.4063 Q306.6094,63.3594 306.6094,61.5156 L306.6094,54.625 L308.6719,54.625 L308.6719,54.7813 Q308.5781,54.875 308.5469,55.0156 Q308.5313,55.1406 308.5313,55.4063 L308.5313,61.5313 Q308.5313,62.625 308.9063,63.25 Q309.2813,63.875 310.2656,63.875 Q311.25,63.875 311.6406,63.25 Q312.0313,62.625 312.0313,61.4844 L312.0313,54.625 L313.9063,54.625 L313.9063,61.4688 Q313.9063,63.5 312.875,64.4688 Q311.8594,65.4375 310.25,65.4375 Z \"/><text fill=\"#000000\" font-family=\"sans-serif\" font-size=\"12\" font-style=\"italic\" lengthAdjust=\"spacingAndGlyphs\" textLength=\"69\" x=\"322.5\" y=\"57.1387\">«attribute»</text><text fill=\"#000000\" font-family=\"sans-serif\" font-size=\"12\" lengthAdjust=\"spacingAndGlyphs\" textLength=\"8\" x=\"353\" y=\"71.1074\">g</text><line style=\"stroke: #A80036; stroke-width: 1.5;\" x1=\"296.5\" x2=\"391.5\" y1=\"78.9375\" y2=\"78.9375\"/></a><!--MD5=[2156ba9850f5573cc1fc38a6a4b2f02b]\n",
       "class E7--><a href=\"psysml:0aa11811-cac3-458e-8be5-17e4f08795b7\" target=\"_top\" title=\"psysml:0aa11811-cac3-458e-8be5-17e4f08795b7\" xlink:actuate=\"onRequest\" xlink:href=\"psysml:0aa11811-cac3-458e-8be5-17e4f08795b7\" xlink:show=\"new\" xlink:title=\"psysml:0aa11811-cac3-458e-8be5-17e4f08795b7\" xlink:type=\"simple\"><rect fill=\"#FEFECE\" filter=\"url(#flnamjz96t2pv)\" height=\"45.9375\" id=\"E7\" rx=\"10\" ry=\"10\" style=\"stroke: #A80036; stroke-width: 1.5;\" width=\"97\" x=\"163.5\" y=\"41\"/><ellipse cx=\"178.5\" cy=\"59.9688\" fill=\"#FFA500\" rx=\"11\" ry=\"11\" style=\"stroke: #A80036; stroke-width: 1.0;\"/><path d=\"M178.25,65.4375 Q176.5,65.4375 175.5469,64.4063 Q174.6094,63.3594 174.6094,61.5156 L174.6094,54.625 L176.6719,54.625 L176.6719,54.7813 Q176.5781,54.875 176.5469,55.0156 Q176.5313,55.1406 176.5313,55.4063 L176.5313,61.5313 Q176.5313,62.625 176.9063,63.25 Q177.2813,63.875 178.2656,63.875 Q179.25,63.875 179.6406,63.25 Q180.0313,62.625 180.0313,61.4844 L180.0313,54.625 L181.9063,54.625 L181.9063,61.4688 Q181.9063,63.5 180.875,64.4688 Q179.8594,65.4375 178.25,65.4375 Z \"/><text fill=\"#000000\" font-family=\"sans-serif\" font-size=\"12\" font-style=\"italic\" lengthAdjust=\"spacingAndGlyphs\" textLength=\"69\" x=\"190.5\" y=\"57.1387\">«attribute»</text><text fill=\"#000000\" font-family=\"sans-serif\" font-size=\"12\" lengthAdjust=\"spacingAndGlyphs\" textLength=\"8\" x=\"221\" y=\"71.1074\">b</text><line style=\"stroke: #A80036; stroke-width: 1.5;\" x1=\"164.5\" x2=\"259.5\" y1=\"78.9375\" y2=\"78.9375\"/></a><!--MD5=[b9389687b975829384b498ac4b7476b2]\n",
       "class E8--><a href=\"psysml:4713065a-36eb-4143-8ed6-c41cfc39d881\" target=\"_top\" title=\"psysml:4713065a-36eb-4143-8ed6-c41cfc39d881\" xlink:actuate=\"onRequest\" xlink:href=\"psysml:4713065a-36eb-4143-8ed6-c41cfc39d881\" xlink:show=\"new\" xlink:title=\"psysml:4713065a-36eb-4143-8ed6-c41cfc39d881\" xlink:type=\"simple\"><rect fill=\"#FEFECE\" filter=\"url(#flnamjz96t2pv)\" height=\"45.9375\" id=\"E8\" rx=\"10\" ry=\"10\" style=\"stroke: #A80036; stroke-width: 1.5;\" width=\"97\" x=\"31.5\" y=\"41\"/><ellipse cx=\"46.5\" cy=\"59.9688\" fill=\"#FFA500\" rx=\"11\" ry=\"11\" style=\"stroke: #A80036; stroke-width: 1.0;\"/><path d=\"M46.25,65.4375 Q44.5,65.4375 43.5469,64.4063 Q42.6094,63.3594 42.6094,61.5156 L42.6094,54.625 L44.6719,54.625 L44.6719,54.7813 Q44.5781,54.875 44.5469,55.0156 Q44.5313,55.1406 44.5313,55.4063 L44.5313,61.5313 Q44.5313,62.625 44.9063,63.25 Q45.2813,63.875 46.2656,63.875 Q47.25,63.875 47.6406,63.25 Q48.0313,62.625 48.0313,61.4844 L48.0313,54.625 L49.9063,54.625 L49.9063,61.4688 Q49.9063,63.5 48.875,64.4688 Q47.8594,65.4375 46.25,65.4375 Z \"/><text fill=\"#000000\" font-family=\"sans-serif\" font-size=\"12\" font-style=\"italic\" lengthAdjust=\"spacingAndGlyphs\" textLength=\"69\" x=\"58.5\" y=\"57.1387\">«attribute»</text><text fill=\"#000000\" font-family=\"sans-serif\" font-size=\"12\" lengthAdjust=\"spacingAndGlyphs\" textLength=\"7\" x=\"89.5\" y=\"71.1074\">c</text><line style=\"stroke: #A80036; stroke-width: 1.5;\" x1=\"32.5\" x2=\"127.5\" y1=\"78.9375\" y2=\"78.9375\"/></a><!--MD5=[05d275557350bfb9b23a4ef7222b4c39]\n",
       "link E3 to E2--><a href=\"psysml:0b532ab9-83c4-4e75-92c6-eb24823a8b5d\" target=\"_top\" title=\"psysml:0b532ab9-83c4-4e75-92c6-eb24823a8b5d\" xlink:actuate=\"onRequest\" xlink:href=\"psysml:0b532ab9-83c4-4e75-92c6-eb24823a8b5d\" xlink:show=\"new\" xlink:title=\"psysml:0b532ab9-83c4-4e75-92c6-eb24823a8b5d\" xlink:type=\"simple\"><path d=\"M765.62,87.13 C756.62,103.2 744.05,125.65 732.54,146.23 \" fill=\"none\" id=\"E3-&gt;E2\" style=\"stroke: #A80036; stroke-width: 1.0;\"/><polygon fill=\"#FFFFFF\" points=\"722.6,163.99,725.7664,143.9907,737.9848,150.8253,722.6,163.99\" style=\"stroke: #A80036; stroke-width: 1.0;\"/><ellipse cx=\"730.2946\" cy=\"139.9924\" fill=\"#A80036\" rx=\"2\" ry=\"2\" style=\"stroke: #A80036; stroke-width: 1.0;\"/><ellipse cx=\"739.022\" cy=\"144.8743\" fill=\"#A80036\" rx=\"2\" ry=\"2\" style=\"stroke: #A80036; stroke-width: 1.0;\"/></a><!--MD5=[ddeed8deb2209213b62e6cfabaa108b2]\n",
       "reverse link E4 to E2--><a href=\"psysml:5802290c-01bb-4d71-b710-026b61c78f11\" target=\"_top\" title=\"psysml:5802290c-01bb-4d71-b710-026b61c78f11\" xlink:actuate=\"onRequest\" xlink:href=\"psysml:5802290c-01bb-4d71-b710-026b61c78f11\" xlink:show=\"new\" xlink:title=\"psysml:5802290c-01bb-4d71-b710-026b61c78f11\" xlink:type=\"simple\"><path d=\"M645.99,98.48 C657.31,118.44 671.67,143.76 683.14,163.99 \" fill=\"none\" id=\"E4&lt;-E2\" style=\"stroke: #A80036; stroke-width: 1.0;\"/><polygon fill=\"#FFFFFF\" points=\"639.55,87.13,639.0333,94.3226,645.4738,97.5659,645.9905,90.3734,639.55,87.13\" style=\"stroke: #A80036; stroke-width: 1.0;\"/><text fill=\"#000000\" font-family=\"sans-serif\" font-size=\"13\" lengthAdjust=\"spacingAndGlyphs\" textLength=\"8\" x=\"666\" y=\"130.0669\">p</text></a><!--MD5=[91efbfd12d51e99a9aaccc4bbb768809]\n",
       "@startuml\r\n",
       " \r\n",
       "package \"ParameterTest\" as E1  [[psysml:a676bd1d-a902-490f-aa39-52389ae12c12 ]]  {\r\n",
       "comp def \"A\" as E2 << <<(D,brown) attribute def>> [[psysml:da28d9c5-e66b-4d93-bbca-9dea65a864c0 ]] {\r\n",
       "x: String\r\n",
       "y: A\r\n",
       "}\r\n",
       "comp usage \"a: A\" as E3 << <<(U,orange) attribute>> [[psysml:8df57e9c-49a1-414c-8fdd-827b36a310a4 ]] {\r\n",
       "}\r\n",
       "comp def \"F\" as E4 << <<(B,lemonchiffon) calculation def>> [[psysml:40a467ef-e18b-46ff-840a-6dc079db3448 ]] {\r\n",
       "}\r\n",
       "comp usage \"f\" as E5 << <<(U,orange) attribute>> [[psysml:2237367a-6968-472a-8f6b-3570950aa6b8 ]] {\r\n",
       "}\r\n",
       "comp usage \"g\" as E6 << <<(U,orange) attribute>> [[psysml:b8cf583e-a2e4-421e-986b-a2654bc5da1a ]] {\r\n",
       "}\r\n",
       "comp usage \"b\" as E7 << <<(U,orange) attribute>> [[psysml:0aa11811-cac3-458e-8be5-17e4f08795b7 ]] {\r\n",
       "}\r\n",
       "comp usage \"c\" as E8 << <<(U,orange) attribute>> [[psysml:4713065a-36eb-4143-8ed6-c41cfc39d881 ]] {\r\n",
       "}\r\n",
       "}\r\n",
       "E3 - -:|> E2 [[psysml:0b532ab9-83c4-4e75-92c6-eb24823a8b5d ]] \r\n",
       "E4 o- - E2 [[psysml:5802290c-01bb-4d71-b710-026b61c78f11 ]] : p\r\n",
       "@enduml\r\n",
       "\n",
       "PlantUML version 1.2020.13(Sat Jun 13 12:26:38 UTC 2020)\n",
       "(EPL source distribution)\n",
       "Java Runtime: OpenJDK Runtime Environment\n",
       "JVM: OpenJDK 64-Bit Server VM\n",
       "Default Encoding: UTF-8\n",
       "Language: en\n",
       "Country: null\n",
       "--></g></svg>"
      ]
     },
     "execution_count": 31,
     "metadata": {},
     "output_type": "execute_result"
    }
   ],
   "source": [
    "%viz --style=\"PLANTUML\" --view=\"Tree\" \"ParameterTest\""
   ]
  },
  {
   "cell_type": "code",
   "execution_count": 32,
   "id": "af35a8cb",
   "metadata": {
    "execution": {
     "iopub.execute_input": "2021-10-03T08:28:26.425443Z",
     "iopub.status.busy": "2021-10-03T08:28:26.425043Z",
     "iopub.status.idle": "2021-10-03T08:28:26.509633Z",
     "shell.execute_reply": "2021-10-03T08:28:26.508035Z"
    }
   },
   "outputs": [
    {
     "data": {
      "image/svg+xml": [
       "<?xml version=\"1.0\" encoding=\"UTF-8\" standalone=\"no\"?><svg xmlns=\"http://www.w3.org/2000/svg\" xmlns:xlink=\"http://www.w3.org/1999/xlink\" contentScriptType=\"application/ecmascript\" contentStyleType=\"text/css\" height=\"300px\" preserveAspectRatio=\"none\" style=\"width:603px;height:300px;background:#000000;\" version=\"1.1\" viewBox=\"0 0 603 300\" width=\"603px\" zoomAndPan=\"magnify\"><defs/><g><rect fill=\"#11180D\" height=\"1\" style=\"stroke: #11180D; stroke-width: 1.0;\" width=\"1\" x=\"0\" y=\"0\"/><rect fill=\"#FFFFFF\" height=\"202.8012\" style=\"stroke: #FFFFFF; stroke-width: 1.0;\" width=\"602\" x=\"0\" y=\"0\"/><text fill=\"#000000\" font-family=\"sans-serif\" font-size=\"12\" font-weight=\"bold\" lengthAdjust=\"spacingAndGlyphs\" textLength=\"139\" x=\"5\" y=\"16.1387\">Welcome to PlantUML!</text><text fill=\"#000000\" font-family=\"sans-serif\" font-size=\"12\" lengthAdjust=\"spacingAndGlyphs\" textLength=\"0\" x=\"9\" y=\"30.1074\"/><text fill=\"#000000\" font-family=\"sans-serif\" font-size=\"12\" lengthAdjust=\"spacingAndGlyphs\" textLength=\"293\" x=\"5\" y=\"44.0762\">If you use this software, you accept its license.</text><text fill=\"#000000\" font-family=\"sans-serif\" font-size=\"12\" lengthAdjust=\"spacingAndGlyphs\" textLength=\"107\" x=\"5\" y=\"58.0449\">(details by typing</text><text fill=\"#000000\" font-family=\"monospace\" font-size=\"12\" lengthAdjust=\"spacingAndGlyphs\" textLength=\"42\" x=\"116\" y=\"58.595\">license</text><text fill=\"#000000\" font-family=\"sans-serif\" font-size=\"12\" lengthAdjust=\"spacingAndGlyphs\" textLength=\"56\" x=\"162\" y=\"58.0449\">keyword)</text><text fill=\"#000000\" font-family=\"sans-serif\" font-size=\"12\" lengthAdjust=\"spacingAndGlyphs\" textLength=\"0\" x=\"9\" y=\"72.0137\"/><text fill=\"#000000\" font-family=\"sans-serif\" font-size=\"12\" lengthAdjust=\"spacingAndGlyphs\" textLength=\"283\" x=\"5\" y=\"85.9824\">You can start with a simple UML Diagram like:</text><text fill=\"#000000\" font-family=\"sans-serif\" font-size=\"12\" lengthAdjust=\"spacingAndGlyphs\" textLength=\"0\" x=\"9\" y=\"99.9512\"/><text fill=\"#000000\" font-family=\"monospace\" font-size=\"12\" lengthAdjust=\"spacingAndGlyphs\" textLength=\"102\" x=\"5\" y=\"113.0893\">Bob-&gt;Alice: Hello</text><text fill=\"#000000\" font-family=\"sans-serif\" font-size=\"12\" lengthAdjust=\"spacingAndGlyphs\" textLength=\"0\" x=\"9\" y=\"126.508\"/><text fill=\"#000000\" font-family=\"sans-serif\" font-size=\"12\" lengthAdjust=\"spacingAndGlyphs\" textLength=\"14\" x=\"5\" y=\"140.4768\">Or</text><text fill=\"#000000\" font-family=\"sans-serif\" font-size=\"12\" lengthAdjust=\"spacingAndGlyphs\" textLength=\"0\" x=\"9\" y=\"154.4455\"/><text fill=\"#000000\" font-family=\"monospace\" font-size=\"12\" lengthAdjust=\"spacingAndGlyphs\" textLength=\"78\" x=\"5\" y=\"167.5837\">class Example</text><text fill=\"#000000\" font-family=\"sans-serif\" font-size=\"12\" lengthAdjust=\"spacingAndGlyphs\" textLength=\"0\" x=\"9\" y=\"181.0023\"/><text fill=\"#000000\" font-family=\"sans-serif\" font-size=\"12\" lengthAdjust=\"spacingAndGlyphs\" textLength=\"349\" x=\"5\" y=\"194.9711\">You will find more information about PlantUML syntax on</text><text fill=\"#000000\" font-family=\"sans-serif\" font-size=\"12\" lengthAdjust=\"spacingAndGlyphs\" text-decoration=\"underline\" textLength=\"129\" x=\"358\" y=\"194.9711\">https://plantuml.com</text><image height=\"71\" width=\"80\" x=\"516\" xlink:href=\"data:image/png;base64,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\" y=\"6\"/><rect fill=\"#000000\" height=\"96.4844\" style=\"stroke: #000000; stroke-width: 1.0;\" width=\"602\" x=\"0\" y=\"202.8012\"/><rect fill=\"#33FF02\" height=\"21.2969\" style=\"stroke: #33FF02; stroke-width: 1.0;\" width=\"145\" x=\"5\" y=\"207.8012\"/><text fill=\"#000000\" font-family=\"sans-serif\" font-size=\"14\" font-weight=\"bold\" lengthAdjust=\"spacingAndGlyphs\" textLength=\"143\" x=\"6\" y=\"222.8012\">[From string (line 2) ]</text><text fill=\"#33FF02\" font-family=\"sans-serif\" font-size=\"14\" font-weight=\"bold\" lengthAdjust=\"spacingAndGlyphs\" textLength=\"0\" x=\"9\" y=\"243.0981\"/><text fill=\"#33FF02\" font-family=\"sans-serif\" font-size=\"14\" font-weight=\"bold\" lengthAdjust=\"spacingAndGlyphs\" textLength=\"70\" x=\"5\" y=\"259.3949\">@startuml</text><text fill=\"#33FF02\" font-family=\"sans-serif\" font-size=\"14\" font-weight=\"bold\" lengthAdjust=\"spacingAndGlyphs\" textLength=\"0\" x=\"9\" y=\"275.6918\"/><text fill=\"#FF0000\" font-family=\"sans-serif\" font-size=\"14\" font-weight=\"bold\" lengthAdjust=\"spacingAndGlyphs\" textLength=\"124\" x=\"9\" y=\"291.9887\">Empty description</text><!--MD5=[f59edd8218d337f74d0c332fc6737304]\n",
       "@startuml\r\n",
       " \r\n",
       "@enduml\r\n",
       "\n",
       "PlantUML version 1.2020.13(Sat Jun 13 12:26:38 UTC 2020)\n",
       "(EPL source distribution)\n",
       "Java Runtime: OpenJDK Runtime Environment\n",
       "JVM: OpenJDK 64-Bit Server VM\n",
       "Default Encoding: UTF-8\n",
       "Language: en\n",
       "Country: null\n",
       "--></g></svg>"
      ]
     },
     "execution_count": 32,
     "metadata": {},
     "output_type": "execute_result"
    }
   ],
   "source": [
    "%viz --style=\"PLANTUML\" --view=\"State\" \"ParameterTest\""
   ]
  },
  {
   "cell_type": "code",
   "execution_count": 33,
   "id": "1e8e43ef",
   "metadata": {
    "execution": {
     "iopub.execute_input": "2021-10-03T08:28:26.558816Z",
     "iopub.status.busy": "2021-10-03T08:28:26.558417Z",
     "iopub.status.idle": "2021-10-03T08:28:26.590114Z",
     "shell.execute_reply": "2021-10-03T08:28:26.589756Z"
    }
   },
   "outputs": [
    {
     "data": {
      "image/svg+xml": [
       "<?xml version=\"1.0\" encoding=\"UTF-8\" standalone=\"no\"?><svg xmlns=\"http://www.w3.org/2000/svg\" xmlns:xlink=\"http://www.w3.org/1999/xlink\" contentScriptType=\"application/ecmascript\" contentStyleType=\"text/css\" height=\"216px\" preserveAspectRatio=\"none\" style=\"width:868px;height:216px;\" version=\"1.1\" viewBox=\"0 0 868 216\" width=\"868px\" zoomAndPan=\"magnify\"><defs><filter height=\"300%\" id=\"fj4n5rzvgry7m\" width=\"300%\" x=\"-1\" y=\"-1\"><feGaussianBlur result=\"blurOut\" stdDeviation=\"2.0\"/><feColorMatrix in=\"blurOut\" result=\"blurOut2\" type=\"matrix\" values=\"0 0 0 0 0 0 0 0 0 0 0 0 0 0 0 0 0 0 .4 0\"/><feOffset dx=\"4.0\" dy=\"4.0\" in=\"blurOut2\" result=\"blurOut3\"/><feBlend in=\"SourceGraphic\" in2=\"blurOut3\" mode=\"normal\"/></filter></defs><g><!--MD5=[fbc87193dbaf4d95561dea2c320d4a47]\n",
       "cluster E1--><a href=\"psysml:a676bd1d-a902-490f-aa39-52389ae12c12\" target=\"_top\" title=\"psysml:a676bd1d-a902-490f-aa39-52389ae12c12\" xlink:actuate=\"onRequest\" xlink:href=\"psysml:a676bd1d-a902-490f-aa39-52389ae12c12\" xlink:show=\"new\" xlink:title=\"psysml:a676bd1d-a902-490f-aa39-52389ae12c12\" xlink:type=\"simple\"><polygon fill=\"#FFFFFF\" filter=\"url(#fj4n5rzvgry7m)\" points=\"16,6,124,6,131,28.2969,846,28.2969,846,204.72,16,204.72,16,6\" style=\"stroke: #000000; stroke-width: 1.5;\"/><line style=\"stroke: #000000; stroke-width: 1.5;\" x1=\"16\" x2=\"131\" y1=\"28.2969\" y2=\"28.2969\"/><text fill=\"#000000\" font-family=\"sans-serif\" font-size=\"14\" font-weight=\"bold\" lengthAdjust=\"spacingAndGlyphs\" textLength=\"102\" x=\"20\" y=\"20.9951\">ParameterTest</text></a><!--MD5=[f6df4d0ebaf0b5dfb2ced0ae5af7c670]\n",
       "cluster E4--><a href=\"psysml:40a467ef-e18b-46ff-840a-6dc079db3448\" target=\"_top\" title=\"psysml:40a467ef-e18b-46ff-840a-6dc079db3448\" xlink:actuate=\"onRequest\" xlink:href=\"psysml:40a467ef-e18b-46ff-840a-6dc079db3448\" xlink:show=\"new\" xlink:title=\"psysml:40a467ef-e18b-46ff-840a-6dc079db3448\" xlink:type=\"simple\"><rect fill=\"#FFFFFF\" filter=\"url(#fj4n5rzvgry7m)\" height=\"110.72\" id=\"E4\" style=\"stroke: #A80036; stroke-width: 1.5;\" width=\"148\" x=\"682\" y=\"64\"/><rect fill=\"#FEFECE\" height=\"37.9375\" style=\"stroke: #A80036; stroke-width: 1.5;\" width=\"148\" x=\"682\" y=\"64\"/><text fill=\"#000000\" font-family=\"sans-serif\" font-size=\"12\" font-style=\"italic\" lengthAdjust=\"spacingAndGlyphs\" textLength=\"106\" x=\"703\" y=\"80.1387\">«calculation def»</text><text fill=\"#000000\" font-family=\"sans-serif\" font-size=\"12\" lengthAdjust=\"spacingAndGlyphs\" textLength=\"7\" x=\"752.5\" y=\"94.1074\">F</text></a><g id=\"E1.E2\"><a href=\"psysml:da28d9c5-e66b-4d93-bbca-9dea65a864c0\" target=\"_top\" title=\"psysml:da28d9c5-e66b-4d93-bbca-9dea65a864c0\" xlink:actuate=\"onRequest\" xlink:href=\"psysml:da28d9c5-e66b-4d93-bbca-9dea65a864c0\" xlink:show=\"new\" xlink:title=\"psysml:da28d9c5-e66b-4d93-bbca-9dea65a864c0\" xlink:type=\"simple\"><rect fill=\"#FEFECE\" filter=\"url(#fj4n5rzvgry7m)\" height=\"42.9375\" id=\"E2\" style=\"stroke: #A80036; stroke-width: 1.5;\" width=\"126\" x=\"519\" y=\"99\"/><ellipse cx=\"536.25\" cy=\"117.9688\" fill=\"#A52A2A\" rx=\"11\" ry=\"11\" style=\"stroke: #A80036; stroke-width: 1.0;\"/><path d=\"M533.4688,122.9688 L533.4688,112.375 L536.2031,112.375 Q537.5938,112.375 538.3594,112.7656 Q539.1406,113.1406 539.6719,113.8438 Q540.2031,114.5469 540.5,115.5469 Q540.7969,116.5313 540.7969,117.75 Q540.75,119.3438 540.25,120.5313 Q539.7656,121.7031 538.7188,122.3438 Q537.6875,122.9688 536,122.9688 L533.4688,122.9688 Z M535.3281,121.4688 L535.9531,121.4688 Q537.0313,121.4688 537.6875,121.0156 Q538.3438,120.5625 538.625,119.7344 Q538.9219,118.8906 538.9063,117.7656 Q538.9063,116.5938 538.6563,115.7344 Q538.4063,114.8594 537.7969,114.3906 Q537.1875,113.9063 536.1406,113.9063 L535.3281,113.9063 L535.3281,121.4688 Z \"/><text fill=\"#000000\" font-family=\"sans-serif\" font-size=\"12\" font-style=\"italic\" lengthAdjust=\"spacingAndGlyphs\" textLength=\"93\" x=\"548.75\" y=\"115.1387\">«attribute def»</text><text fill=\"#000000\" font-family=\"sans-serif\" font-size=\"12\" lengthAdjust=\"spacingAndGlyphs\" textLength=\"8\" x=\"591.25\" y=\"129.1074\">A</text></a></g><!--MD5=[09b614a08d8cba4a07c9adeb5e0fee81]\n",
       "class E3--><a href=\"psysml:8df57e9c-49a1-414c-8fdd-827b36a310a4\" target=\"_top\" title=\"psysml:8df57e9c-49a1-414c-8fdd-827b36a310a4\" xlink:actuate=\"onRequest\" xlink:href=\"psysml:8df57e9c-49a1-414c-8fdd-827b36a310a4\" xlink:show=\"new\" xlink:title=\"psysml:8df57e9c-49a1-414c-8fdd-827b36a310a4\" xlink:type=\"simple\"><rect fill=\"#FEFECE\" filter=\"url(#fj4n5rzvgry7m)\" height=\"45.9375\" id=\"E3\" rx=\"10\" ry=\"10\" style=\"stroke: #A80036; stroke-width: 1.5;\" width=\"97\" x=\"559.5\" y=\"41\"/><ellipse cx=\"574.5\" cy=\"59.9688\" fill=\"#FFA500\" rx=\"11\" ry=\"11\" style=\"stroke: #A80036; stroke-width: 1.0;\"/><path d=\"M574.25,65.4375 Q572.5,65.4375 571.5469,64.4063 Q570.6094,63.3594 570.6094,61.5156 L570.6094,54.625 L572.6719,54.625 L572.6719,54.7813 Q572.5781,54.875 572.5469,55.0156 Q572.5313,55.1406 572.5313,55.4063 L572.5313,61.5313 Q572.5313,62.625 572.9063,63.25 Q573.2813,63.875 574.2656,63.875 Q575.25,63.875 575.6406,63.25 Q576.0313,62.625 576.0313,61.4844 L576.0313,54.625 L577.9063,54.625 L577.9063,61.4688 Q577.9063,63.5 576.875,64.4688 Q575.8594,65.4375 574.25,65.4375 Z \"/><text fill=\"#000000\" font-family=\"sans-serif\" font-size=\"12\" font-style=\"italic\" lengthAdjust=\"spacingAndGlyphs\" textLength=\"69\" x=\"586.5\" y=\"57.1387\">«attribute»</text><text fill=\"#000000\" font-family=\"sans-serif\" font-size=\"12\" lengthAdjust=\"spacingAndGlyphs\" textLength=\"24\" x=\"609\" y=\"71.1074\">a: A</text><line style=\"stroke: #A80036; stroke-width: 1.5;\" x1=\"560.5\" x2=\"655.5\" y1=\"78.9375\" y2=\"78.9375\"/></a><!--MD5=[b9389687b975829384b498ac4b7476b2]\n",
       "class E8--><a href=\"psysml:2237367a-6968-472a-8f6b-3570950aa6b8\" target=\"_top\" title=\"psysml:2237367a-6968-472a-8f6b-3570950aa6b8\" xlink:actuate=\"onRequest\" xlink:href=\"psysml:2237367a-6968-472a-8f6b-3570950aa6b8\" xlink:show=\"new\" xlink:title=\"psysml:2237367a-6968-472a-8f6b-3570950aa6b8\" xlink:type=\"simple\"><rect fill=\"#FEFECE\" filter=\"url(#fj4n5rzvgry7m)\" height=\"45.9375\" id=\"E8\" rx=\"10\" ry=\"10\" style=\"stroke: #A80036; stroke-width: 1.5;\" width=\"97\" x=\"427.5\" y=\"41\"/><ellipse cx=\"442.5\" cy=\"59.9688\" fill=\"#FFA500\" rx=\"11\" ry=\"11\" style=\"stroke: #A80036; stroke-width: 1.0;\"/><path d=\"M442.25,65.4375 Q440.5,65.4375 439.5469,64.4063 Q438.6094,63.3594 438.6094,61.5156 L438.6094,54.625 L440.6719,54.625 L440.6719,54.7813 Q440.5781,54.875 440.5469,55.0156 Q440.5313,55.1406 440.5313,55.4063 L440.5313,61.5313 Q440.5313,62.625 440.9063,63.25 Q441.2813,63.875 442.2656,63.875 Q443.25,63.875 443.6406,63.25 Q444.0313,62.625 444.0313,61.4844 L444.0313,54.625 L445.9063,54.625 L445.9063,61.4688 Q445.9063,63.5 444.875,64.4688 Q443.8594,65.4375 442.25,65.4375 Z \"/><text fill=\"#000000\" font-family=\"sans-serif\" font-size=\"12\" font-style=\"italic\" lengthAdjust=\"spacingAndGlyphs\" textLength=\"69\" x=\"454.5\" y=\"57.1387\">«attribute»</text><text fill=\"#000000\" font-family=\"sans-serif\" font-size=\"12\" lengthAdjust=\"spacingAndGlyphs\" textLength=\"4\" x=\"487\" y=\"71.1074\">f</text><line style=\"stroke: #A80036; stroke-width: 1.5;\" x1=\"428.5\" x2=\"523.5\" y1=\"78.9375\" y2=\"78.9375\"/></a><!--MD5=[fd4143e9d270a159db93a4ea2a975926]\n",
       "class E9--><a href=\"psysml:b8cf583e-a2e4-421e-986b-a2654bc5da1a\" target=\"_top\" title=\"psysml:b8cf583e-a2e4-421e-986b-a2654bc5da1a\" xlink:actuate=\"onRequest\" xlink:href=\"psysml:b8cf583e-a2e4-421e-986b-a2654bc5da1a\" xlink:show=\"new\" xlink:title=\"psysml:b8cf583e-a2e4-421e-986b-a2654bc5da1a\" xlink:type=\"simple\"><rect fill=\"#FEFECE\" filter=\"url(#fj4n5rzvgry7m)\" height=\"45.9375\" id=\"E9\" rx=\"10\" ry=\"10\" style=\"stroke: #A80036; stroke-width: 1.5;\" width=\"97\" x=\"295.5\" y=\"41\"/><ellipse cx=\"310.5\" cy=\"59.9688\" fill=\"#FFA500\" rx=\"11\" ry=\"11\" style=\"stroke: #A80036; stroke-width: 1.0;\"/><path d=\"M310.25,65.4375 Q308.5,65.4375 307.5469,64.4063 Q306.6094,63.3594 306.6094,61.5156 L306.6094,54.625 L308.6719,54.625 L308.6719,54.7813 Q308.5781,54.875 308.5469,55.0156 Q308.5313,55.1406 308.5313,55.4063 L308.5313,61.5313 Q308.5313,62.625 308.9063,63.25 Q309.2813,63.875 310.2656,63.875 Q311.25,63.875 311.6406,63.25 Q312.0313,62.625 312.0313,61.4844 L312.0313,54.625 L313.9063,54.625 L313.9063,61.4688 Q313.9063,63.5 312.875,64.4688 Q311.8594,65.4375 310.25,65.4375 Z \"/><text fill=\"#000000\" font-family=\"sans-serif\" font-size=\"12\" font-style=\"italic\" lengthAdjust=\"spacingAndGlyphs\" textLength=\"69\" x=\"322.5\" y=\"57.1387\">«attribute»</text><text fill=\"#000000\" font-family=\"sans-serif\" font-size=\"12\" lengthAdjust=\"spacingAndGlyphs\" textLength=\"8\" x=\"353\" y=\"71.1074\">g</text><line style=\"stroke: #A80036; stroke-width: 1.5;\" x1=\"296.5\" x2=\"391.5\" y1=\"78.9375\" y2=\"78.9375\"/></a><!--MD5=[96f4274e9e20536e775497830990834d]\n",
       "class E10--><a href=\"psysml:0aa11811-cac3-458e-8be5-17e4f08795b7\" target=\"_top\" title=\"psysml:0aa11811-cac3-458e-8be5-17e4f08795b7\" xlink:actuate=\"onRequest\" xlink:href=\"psysml:0aa11811-cac3-458e-8be5-17e4f08795b7\" xlink:show=\"new\" xlink:title=\"psysml:0aa11811-cac3-458e-8be5-17e4f08795b7\" xlink:type=\"simple\"><rect fill=\"#FEFECE\" filter=\"url(#fj4n5rzvgry7m)\" height=\"45.9375\" id=\"E10\" rx=\"10\" ry=\"10\" style=\"stroke: #A80036; stroke-width: 1.5;\" width=\"97\" x=\"163.5\" y=\"41\"/><ellipse cx=\"178.5\" cy=\"59.9688\" fill=\"#FFA500\" rx=\"11\" ry=\"11\" style=\"stroke: #A80036; stroke-width: 1.0;\"/><path d=\"M178.25,65.4375 Q176.5,65.4375 175.5469,64.4063 Q174.6094,63.3594 174.6094,61.5156 L174.6094,54.625 L176.6719,54.625 L176.6719,54.7813 Q176.5781,54.875 176.5469,55.0156 Q176.5313,55.1406 176.5313,55.4063 L176.5313,61.5313 Q176.5313,62.625 176.9063,63.25 Q177.2813,63.875 178.2656,63.875 Q179.25,63.875 179.6406,63.25 Q180.0313,62.625 180.0313,61.4844 L180.0313,54.625 L181.9063,54.625 L181.9063,61.4688 Q181.9063,63.5 180.875,64.4688 Q179.8594,65.4375 178.25,65.4375 Z \"/><text fill=\"#000000\" font-family=\"sans-serif\" font-size=\"12\" font-style=\"italic\" lengthAdjust=\"spacingAndGlyphs\" textLength=\"69\" x=\"190.5\" y=\"57.1387\">«attribute»</text><text fill=\"#000000\" font-family=\"sans-serif\" font-size=\"12\" lengthAdjust=\"spacingAndGlyphs\" textLength=\"8\" x=\"221\" y=\"71.1074\">b</text><line style=\"stroke: #A80036; stroke-width: 1.5;\" x1=\"164.5\" x2=\"259.5\" y1=\"78.9375\" y2=\"78.9375\"/></a><!--MD5=[1dd1bfd58a279cf63c5f349dbc8fc6a1]\n",
       "class E11--><a href=\"psysml:4713065a-36eb-4143-8ed6-c41cfc39d881\" target=\"_top\" title=\"psysml:4713065a-36eb-4143-8ed6-c41cfc39d881\" xlink:actuate=\"onRequest\" xlink:href=\"psysml:4713065a-36eb-4143-8ed6-c41cfc39d881\" xlink:show=\"new\" xlink:title=\"psysml:4713065a-36eb-4143-8ed6-c41cfc39d881\" xlink:type=\"simple\"><rect fill=\"#FEFECE\" filter=\"url(#fj4n5rzvgry7m)\" height=\"45.9375\" id=\"E11\" rx=\"10\" ry=\"10\" style=\"stroke: #A80036; stroke-width: 1.5;\" width=\"97\" x=\"31.5\" y=\"41\"/><ellipse cx=\"46.5\" cy=\"59.9688\" fill=\"#FFA500\" rx=\"11\" ry=\"11\" style=\"stroke: #A80036; stroke-width: 1.0;\"/><path d=\"M46.25,65.4375 Q44.5,65.4375 43.5469,64.4063 Q42.6094,63.3594 42.6094,61.5156 L42.6094,54.625 L44.6719,54.625 L44.6719,54.7813 Q44.5781,54.875 44.5469,55.0156 Q44.5313,55.1406 44.5313,55.4063 L44.5313,61.5313 Q44.5313,62.625 44.9063,63.25 Q45.2813,63.875 46.2656,63.875 Q47.25,63.875 47.6406,63.25 Q48.0313,62.625 48.0313,61.4844 L48.0313,54.625 L49.9063,54.625 L49.9063,61.4688 Q49.9063,63.5 48.875,64.4688 Q47.8594,65.4375 46.25,65.4375 Z \"/><text fill=\"#000000\" font-family=\"sans-serif\" font-size=\"12\" font-style=\"italic\" lengthAdjust=\"spacingAndGlyphs\" textLength=\"69\" x=\"58.5\" y=\"57.1387\">«attribute»</text><text fill=\"#000000\" font-family=\"sans-serif\" font-size=\"12\" lengthAdjust=\"spacingAndGlyphs\" textLength=\"7\" x=\"89.5\" y=\"71.1074\">c</text><line style=\"stroke: #A80036; stroke-width: 1.5;\" x1=\"32.5\" x2=\"127.5\" y1=\"78.9375\" y2=\"78.9375\"/></a><text fill=\"#000000\" font-family=\"sans-serif\" font-size=\"14\" lengthAdjust=\"spacingAndGlyphs\" textLength=\"9\" x=\"695.5\" y=\"42.6982\">p</text><rect fill=\"#A80036\" height=\"12\" style=\"stroke: #FEFECE; stroke-width: 1.5;\" width=\"12\" x=\"694\" y=\"58\"/><text fill=\"#000000\" font-family=\"sans-serif\" font-size=\"14\" lengthAdjust=\"spacingAndGlyphs\" textLength=\"9\" x=\"742.5\" y=\"42.6982\">q</text><rect fill=\"#A80036\" height=\"12\" style=\"stroke: #FEFECE; stroke-width: 1.5;\" width=\"12\" x=\"741\" y=\"58\"/><text fill=\"#000000\" font-family=\"sans-serif\" font-size=\"14\" lengthAdjust=\"spacingAndGlyphs\" textLength=\"39\" x=\"727.5\" y=\"193.7151\">result</text><rect fill=\"#A80036\" height=\"12\" style=\"stroke: #FEFECE; stroke-width: 1.5;\" width=\"12\" x=\"741\" y=\"168.72\"/><!--MD5=[05d275557350bfb9b23a4ef7222b4c39]\n",
       "link E3 to E2--><a href=\"psysml:0b532ab9-83c4-4e75-92c6-eb24823a8b5d\" target=\"_top\" title=\"psysml:0b532ab9-83c4-4e75-92c6-eb24823a8b5d\" xlink:actuate=\"onRequest\" xlink:href=\"psysml:0b532ab9-83c4-4e75-92c6-eb24823a8b5d\" xlink:show=\"new\" xlink:title=\"psysml:0b532ab9-83c4-4e75-92c6-eb24823a8b5d\" xlink:type=\"simple\"><path d=\"M597.42,87.17 C597.37,87.29 597.31,87.41 597.25,87.53 \" fill=\"none\" id=\"E3-&gt;E2\" style=\"stroke: #A80036; stroke-width: 1.0;\"/><polygon fill=\"#FFFFFF\" points=\"591.81,98.93,593.673,78.7674,606.3087,84.7954,591.81,98.93\" style=\"stroke: #A80036; stroke-width: 1.0;\"/><ellipse cx=\"597.9323\" cy=\"74.484\" fill=\"#A80036\" rx=\"2\" ry=\"2\" style=\"stroke: #A80036; stroke-width: 1.0;\"/><ellipse cx=\"606.9579\" cy=\"78.7897\" fill=\"#A80036\" rx=\"2\" ry=\"2\" style=\"stroke: #A80036; stroke-width: 1.0;\"/></a><!--MD5=[bc37af8f35c1e01c5b4db2075b08bf7f]\n",
       "@startuml\r\n",
       "skinparam ranksep 10\r\n",
       "skinparam rectangle {\r\n",
       " backgroundColor<<block>> LightGreen\r\n",
       "}\r\n",
       " \r\n",
       "package \"ParameterTest\" as E1  [[psysml:a676bd1d-a902-490f-aa39-52389ae12c12 ]]  {\r\n",
       "def \"A\" as E2 << <<(D,brown) attribute def>> [[psysml:da28d9c5-e66b-4d93-bbca-9dea65a864c0 ]] \r\n",
       "comp usage \"a: A\" as E3 << <<(U,orange) attribute>> [[psysml:8df57e9c-49a1-414c-8fdd-827b36a310a4 ]] {\r\n",
       "}\r\n",
       "rec def \"F\" as E4 << <<(B,lemonchiffon) calculation def>> [[psysml:40a467ef-e18b-46ff-840a-6dc079db3448 ]] {\r\n",
       "portin \"p\" as E5  [[psysml:5802290c-01bb-4d71-b710-026b61c78f11 ]] \r\n",
       "portin \"q\" as E6  [[psysml:197907df-8789-46a9-bbed-d5f940e1c2ab ]] \r\n",
       "portout \"result\" as E7  [[psysml:e7c52caa-c6a6-4daa-b328-953e2590a8bc ]] \r\n",
       "}\r\n",
       "\r\n",
       "comp usage \"f\" as E8 << <<(U,orange) attribute>> [[psysml:2237367a-6968-472a-8f6b-3570950aa6b8 ]] {\r\n",
       "}\r\n",
       "comp usage \"g\" as E9 << <<(U,orange) attribute>> [[psysml:b8cf583e-a2e4-421e-986b-a2654bc5da1a ]] {\r\n",
       "}\r\n",
       "comp usage \"b\" as E10 << <<(U,orange) attribute>> [[psysml:0aa11811-cac3-458e-8be5-17e4f08795b7 ]] {\r\n",
       "}\r\n",
       "comp usage \"c\" as E11 << <<(U,orange) attribute>> [[psysml:4713065a-36eb-4143-8ed6-c41cfc39d881 ]] {\r\n",
       "}\r\n",
       "}\r\n",
       "E3 - -:|> E2 [[psysml:0b532ab9-83c4-4e75-92c6-eb24823a8b5d ]] \r\n",
       "@enduml\r\n",
       "\n",
       "PlantUML version 1.2020.13(Sat Jun 13 12:26:38 UTC 2020)\n",
       "(EPL source distribution)\n",
       "Java Runtime: OpenJDK Runtime Environment\n",
       "JVM: OpenJDK 64-Bit Server VM\n",
       "Default Encoding: UTF-8\n",
       "Language: en\n",
       "Country: null\n",
       "--></g></svg>"
      ]
     },
     "execution_count": 33,
     "metadata": {},
     "output_type": "execute_result"
    }
   ],
   "source": [
    "%viz --style=\"PLANTUML\" --view=\"Interconnection\" \"ParameterTest\""
   ]
  },
  {
   "cell_type": "code",
   "execution_count": 34,
   "id": "7e063943",
   "metadata": {
    "execution": {
     "iopub.execute_input": "2021-10-03T08:28:26.639355Z",
     "iopub.status.busy": "2021-10-03T08:28:26.638958Z",
     "iopub.status.idle": "2021-10-03T08:28:26.661357Z",
     "shell.execute_reply": "2021-10-03T08:28:26.661017Z"
    }
   },
   "outputs": [
    {
     "data": {
      "image/svg+xml": [
       "<?xml version=\"1.0\" encoding=\"UTF-8\" standalone=\"no\"?><svg xmlns=\"http://www.w3.org/2000/svg\" xmlns:xlink=\"http://www.w3.org/1999/xlink\" contentScriptType=\"application/ecmascript\" contentStyleType=\"text/css\" height=\"162px\" preserveAspectRatio=\"none\" style=\"width:174px;height:162px;\" version=\"1.1\" viewBox=\"0 0 174 162\" width=\"174px\" zoomAndPan=\"magnify\"><defs><filter height=\"300%\" id=\"f1ctinncjx1z4a\" width=\"300%\" x=\"-1\" y=\"-1\"><feGaussianBlur result=\"blurOut\" stdDeviation=\"2.0\"/><feColorMatrix in=\"blurOut\" result=\"blurOut2\" type=\"matrix\" values=\"0 0 0 0 0 0 0 0 0 0 0 0 0 0 0 0 0 0 .4 0\"/><feOffset dx=\"4.0\" dy=\"4.0\" in=\"blurOut2\" result=\"blurOut3\"/><feBlend in=\"SourceGraphic\" in2=\"blurOut3\" mode=\"normal\"/></filter></defs><g><!--MD5=[fbc87193dbaf4d95561dea2c320d4a47]\n",
       "cluster E1--><a href=\"psysml:40a467ef-e18b-46ff-840a-6dc079db3448\" target=\"_top\" title=\"psysml:40a467ef-e18b-46ff-840a-6dc079db3448\" xlink:actuate=\"onRequest\" xlink:href=\"psysml:40a467ef-e18b-46ff-840a-6dc079db3448\" xlink:show=\"new\" xlink:title=\"psysml:40a467ef-e18b-46ff-840a-6dc079db3448\" xlink:type=\"simple\"><rect fill=\"#FFFFFF\" filter=\"url(#f1ctinncjx1z4a)\" height=\"87.72\" id=\"E1\" style=\"stroke: #A80036; stroke-width: 1.5;\" width=\"148\" x=\"7\" y=\"42.0986\"/><rect fill=\"#FEFECE\" height=\"37.9375\" style=\"stroke: #A80036; stroke-width: 1.5;\" width=\"148\" x=\"7\" y=\"42.0986\"/><text fill=\"#000000\" font-family=\"sans-serif\" font-size=\"12\" font-style=\"italic\" lengthAdjust=\"spacingAndGlyphs\" textLength=\"106\" x=\"28\" y=\"58.2373\">«calculation def»</text><text fill=\"#000000\" font-family=\"sans-serif\" font-size=\"12\" lengthAdjust=\"spacingAndGlyphs\" textLength=\"7\" x=\"77.5\" y=\"72.2061\">F</text></a><text fill=\"#000000\" font-family=\"sans-serif\" font-size=\"14\" lengthAdjust=\"spacingAndGlyphs\" textLength=\"9\" x=\"20.5\" y=\"20.7969\">p</text><rect fill=\"#A80036\" height=\"12\" style=\"stroke: #FEFECE; stroke-width: 1.5;\" width=\"12\" x=\"19\" y=\"36.0986\"/><text fill=\"#000000\" font-family=\"sans-serif\" font-size=\"14\" lengthAdjust=\"spacingAndGlyphs\" textLength=\"9\" x=\"67.5\" y=\"20.7969\">q</text><rect fill=\"#A80036\" height=\"12\" style=\"stroke: #FEFECE; stroke-width: 1.5;\" width=\"12\" x=\"66\" y=\"36.0986\"/><text fill=\"#000000\" font-family=\"sans-serif\" font-size=\"14\" lengthAdjust=\"spacingAndGlyphs\" textLength=\"39\" x=\"52.5\" y=\"148.8138\">result</text><rect fill=\"#A80036\" height=\"12\" style=\"stroke: #FEFECE; stroke-width: 1.5;\" width=\"12\" x=\"66\" y=\"123.8186\"/><!--MD5=[40df9e1ec9d724294decdb46fca95e59]\n",
       "@startuml\r\n",
       "skinparam ranksep 8\r\n",
       " \r\n",
       "rec def \"F\" as E1 << <<(B,lemonchiffon) calculation def>> [[psysml:40a467ef-e18b-46ff-840a-6dc079db3448 ]] {\r\n",
       "portin \"p\" as E2  [[psysml:5802290c-01bb-4d71-b710-026b61c78f11 ]] \r\n",
       "portin \"q\" as E3  [[psysml:197907df-8789-46a9-bbed-d5f940e1c2ab ]] \r\n",
       "portout \"result\" as E4  [[psysml:e7c52caa-c6a6-4daa-b328-953e2590a8bc ]] \r\n",
       "}\r\n",
       "\r\n",
       "@enduml\r\n",
       "\n",
       "PlantUML version 1.2020.13(Sat Jun 13 12:26:38 UTC 2020)\n",
       "(EPL source distribution)\n",
       "Java Runtime: OpenJDK Runtime Environment\n",
       "JVM: OpenJDK 64-Bit Server VM\n",
       "Default Encoding: UTF-8\n",
       "Language: en\n",
       "Country: null\n",
       "--></g></svg>"
      ]
     },
     "execution_count": 34,
     "metadata": {},
     "output_type": "execute_result"
    }
   ],
   "source": [
    "%viz --style=\"PLANTUML\" --view=\"Action\" \"ParameterTest\""
   ]
  },
  {
   "cell_type": "code",
   "execution_count": 35,
   "id": "597144c3",
   "metadata": {
    "execution": {
     "iopub.execute_input": "2021-10-03T08:28:26.710618Z",
     "iopub.status.busy": "2021-10-03T08:28:26.710222Z",
     "iopub.status.idle": "2021-10-03T08:28:26.715110Z",
     "shell.execute_reply": "2021-10-03T08:28:26.715422Z"
    }
   },
   "outputs": [
    {
     "data": {
      "image/svg+xml": [
       "<?xml version=\"1.0\" encoding=\"UTF-8\" standalone=\"no\"?><svg xmlns=\"http://www.w3.org/2000/svg\" xmlns:xlink=\"http://www.w3.org/1999/xlink\" contentScriptType=\"application/ecmascript\" contentStyleType=\"text/css\" height=\"12px\" preserveAspectRatio=\"none\" style=\"width:12px;height:12px;\" version=\"1.1\" viewBox=\"0 0 12 12\" width=\"12px\" zoomAndPan=\"magnify\"><defs/><g><!--MD5=[ca4faa0b02def275ea33c14ea7a1a98d]\n",
       "@startuml\r\n",
       "skinparam roundcorner 20\r\n",
       "skinparam BoxPadding 20\r\n",
       "skinparam SequenceBoxBackgroundColor #white\r\n",
       "skinparam style strictuml\r\n",
       "skinparam maxMessageSize 100\r\n",
       " \r\n",
       "@enduml\r\n",
       "\n",
       "PlantUML version 1.2020.13(Sat Jun 13 12:26:38 UTC 2020)\n",
       "(EPL source distribution)\n",
       "Java Runtime: OpenJDK Runtime Environment\n",
       "JVM: OpenJDK 64-Bit Server VM\n",
       "Default Encoding: UTF-8\n",
       "Language: en\n",
       "Country: null\n",
       "--></g></svg>"
      ]
     },
     "execution_count": 35,
     "metadata": {},
     "output_type": "execute_result"
    }
   ],
   "source": [
    "%viz --style=\"PLANTUML\" --view=\"Sequence\" \"ParameterTest\""
   ]
  },
  {
   "cell_type": "code",
   "execution_count": 36,
   "id": "66742817",
   "metadata": {
    "execution": {
     "iopub.execute_input": "2021-10-03T08:28:26.764760Z",
     "iopub.status.busy": "2021-10-03T08:28:26.764358Z",
     "iopub.status.idle": "2021-10-03T08:28:26.809234Z",
     "shell.execute_reply": "2021-10-03T08:28:26.807354Z"
    }
   },
   "outputs": [
    {
     "data": {
      "image/svg+xml": [
       "<?xml version=\"1.0\" encoding=\"UTF-8\" standalone=\"no\"?><svg xmlns=\"http://www.w3.org/2000/svg\" xmlns:xlink=\"http://www.w3.org/1999/xlink\" contentScriptType=\"application/ecmascript\" contentStyleType=\"text/css\" height=\"387px\" preserveAspectRatio=\"none\" style=\"width:868px;height:387px;\" version=\"1.1\" viewBox=\"0 0 868 387\" width=\"868px\" zoomAndPan=\"magnify\"><defs><filter height=\"300%\" id=\"f8tv71l99axey\" width=\"300%\" x=\"-1\" y=\"-1\"><feGaussianBlur result=\"blurOut\" stdDeviation=\"2.0\"/><feColorMatrix in=\"blurOut\" result=\"blurOut2\" type=\"matrix\" values=\"0 0 0 0 0 0 0 0 0 0 0 0 0 0 0 0 0 0 .4 0\"/><feOffset dx=\"4.0\" dy=\"4.0\" in=\"blurOut2\" result=\"blurOut3\"/><feBlend in=\"SourceGraphic\" in2=\"blurOut3\" mode=\"normal\"/></filter></defs><g><!--MD5=[fbc87193dbaf4d95561dea2c320d4a47]\n",
       "cluster E1--><a href=\"psysml:a676bd1d-a902-490f-aa39-52389ae12c12\" target=\"_top\" title=\"psysml:a676bd1d-a902-490f-aa39-52389ae12c12\" xlink:actuate=\"onRequest\" xlink:href=\"psysml:a676bd1d-a902-490f-aa39-52389ae12c12\" xlink:show=\"new\" xlink:title=\"psysml:a676bd1d-a902-490f-aa39-52389ae12c12\" xlink:type=\"simple\"><polygon fill=\"#FFFFFF\" filter=\"url(#f8tv71l99axey)\" points=\"16,6,124,6,131,28.2969,846,28.2969,846,375.72,16,375.72,16,6\" style=\"stroke: #000000; stroke-width: 1.5;\"/><line style=\"stroke: #000000; stroke-width: 1.5;\" x1=\"16\" x2=\"131\" y1=\"28.2969\" y2=\"28.2969\"/><text fill=\"#000000\" font-family=\"sans-serif\" font-size=\"14\" font-weight=\"bold\" lengthAdjust=\"spacingAndGlyphs\" textLength=\"102\" x=\"20\" y=\"20.9951\">ParameterTest</text></a><!--MD5=[f6df4d0ebaf0b5dfb2ced0ae5af7c670]\n",
       "cluster E4--><a href=\"psysml:40a467ef-e18b-46ff-840a-6dc079db3448\" target=\"_top\" title=\"psysml:40a467ef-e18b-46ff-840a-6dc079db3448\" xlink:actuate=\"onRequest\" xlink:href=\"psysml:40a467ef-e18b-46ff-840a-6dc079db3448\" xlink:show=\"new\" xlink:title=\"psysml:40a467ef-e18b-46ff-840a-6dc079db3448\" xlink:type=\"simple\"><rect fill=\"#FFFFFF\" filter=\"url(#f8tv71l99axey)\" height=\"281.72\" id=\"E4\" style=\"stroke: #A80036; stroke-width: 1.5;\" width=\"148\" x=\"682\" y=\"64\"/><rect fill=\"#FEFECE\" height=\"37.9375\" style=\"stroke: #A80036; stroke-width: 1.5;\" width=\"148\" x=\"682\" y=\"64\"/><text fill=\"#000000\" font-family=\"sans-serif\" font-size=\"12\" font-style=\"italic\" lengthAdjust=\"spacingAndGlyphs\" textLength=\"106\" x=\"703\" y=\"80.1387\">«calculation def»</text><text fill=\"#000000\" font-family=\"sans-serif\" font-size=\"12\" lengthAdjust=\"spacingAndGlyphs\" textLength=\"7\" x=\"752.5\" y=\"94.1074\">F</text></a><!--MD5=[b4997ac47864f28c2f74865a473b2911]\n",
       "class E2--><a href=\"psysml:da28d9c5-e66b-4d93-bbca-9dea65a864c0\" target=\"_top\" title=\"psysml:da28d9c5-e66b-4d93-bbca-9dea65a864c0\" xlink:actuate=\"onRequest\" xlink:href=\"psysml:da28d9c5-e66b-4d93-bbca-9dea65a864c0\" xlink:show=\"new\" xlink:title=\"psysml:da28d9c5-e66b-4d93-bbca-9dea65a864c0\" xlink:type=\"simple\"><rect fill=\"#FEFECE\" filter=\"url(#f8tv71l99axey)\" height=\"71.5469\" id=\"E2\" style=\"stroke: #A80036; stroke-width: 1.5;\" width=\"121\" x=\"524.5\" y=\"147\"/><ellipse cx=\"539.5\" cy=\"165.9688\" fill=\"#A52A2A\" rx=\"11\" ry=\"11\" style=\"stroke: #A80036; stroke-width: 1.0;\"/><path d=\"M536.7188,170.9688 L536.7188,160.375 L539.4531,160.375 Q540.8438,160.375 541.6094,160.7656 Q542.3906,161.1406 542.9219,161.8438 Q543.4531,162.5469 543.75,163.5469 Q544.0469,164.5313 544.0469,165.75 Q544,167.3438 543.5,168.5313 Q543.0156,169.7031 541.9688,170.3438 Q540.9375,170.9688 539.25,170.9688 L536.7188,170.9688 Z M538.5781,169.4688 L539.2031,169.4688 Q540.2813,169.4688 540.9375,169.0156 Q541.5938,168.5625 541.875,167.7344 Q542.1719,166.8906 542.1563,165.7656 Q542.1563,164.5938 541.9063,163.7344 Q541.6563,162.8594 541.0469,162.3906 Q540.4375,161.9063 539.3906,161.9063 L538.5781,161.9063 L538.5781,169.4688 Z \"/><text fill=\"#000000\" font-family=\"sans-serif\" font-size=\"12\" font-style=\"italic\" lengthAdjust=\"spacingAndGlyphs\" textLength=\"93\" x=\"551.5\" y=\"163.1387\">«attribute def»</text><text fill=\"#000000\" font-family=\"sans-serif\" font-size=\"12\" lengthAdjust=\"spacingAndGlyphs\" textLength=\"8\" x=\"594\" y=\"177.1074\">A</text><line style=\"stroke: #A80036; stroke-width: 1.5;\" x1=\"525.5\" x2=\"644.5\" y1=\"184.9375\" y2=\"184.9375\"/><text fill=\"#000000\" font-family=\"sans-serif\" font-size=\"11\" lengthAdjust=\"spacingAndGlyphs\" textLength=\"48\" x=\"530.5\" y=\"199.1479\">x: String</text><text fill=\"#000000\" font-family=\"sans-serif\" font-size=\"11\" lengthAdjust=\"spacingAndGlyphs\" textLength=\"21\" x=\"530.5\" y=\"211.9526\">y: A</text></a><!--MD5=[09b614a08d8cba4a07c9adeb5e0fee81]\n",
       "class E3--><a href=\"psysml:8df57e9c-49a1-414c-8fdd-827b36a310a4\" target=\"_top\" title=\"psysml:8df57e9c-49a1-414c-8fdd-827b36a310a4\" xlink:actuate=\"onRequest\" xlink:href=\"psysml:8df57e9c-49a1-414c-8fdd-827b36a310a4\" xlink:show=\"new\" xlink:title=\"psysml:8df57e9c-49a1-414c-8fdd-827b36a310a4\" xlink:type=\"simple\"><rect fill=\"#FEFECE\" filter=\"url(#f8tv71l99axey)\" height=\"45.9375\" id=\"E3\" rx=\"10\" ry=\"10\" style=\"stroke: #A80036; stroke-width: 1.5;\" width=\"97\" x=\"559.5\" y=\"41\"/><ellipse cx=\"574.5\" cy=\"59.9688\" fill=\"#FFA500\" rx=\"11\" ry=\"11\" style=\"stroke: #A80036; stroke-width: 1.0;\"/><path d=\"M574.25,65.4375 Q572.5,65.4375 571.5469,64.4063 Q570.6094,63.3594 570.6094,61.5156 L570.6094,54.625 L572.6719,54.625 L572.6719,54.7813 Q572.5781,54.875 572.5469,55.0156 Q572.5313,55.1406 572.5313,55.4063 L572.5313,61.5313 Q572.5313,62.625 572.9063,63.25 Q573.2813,63.875 574.2656,63.875 Q575.25,63.875 575.6406,63.25 Q576.0313,62.625 576.0313,61.4844 L576.0313,54.625 L577.9063,54.625 L577.9063,61.4688 Q577.9063,63.5 576.875,64.4688 Q575.8594,65.4375 574.25,65.4375 Z \"/><text fill=\"#000000\" font-family=\"sans-serif\" font-size=\"12\" font-style=\"italic\" lengthAdjust=\"spacingAndGlyphs\" textLength=\"69\" x=\"586.5\" y=\"57.1387\">«attribute»</text><text fill=\"#000000\" font-family=\"sans-serif\" font-size=\"12\" lengthAdjust=\"spacingAndGlyphs\" textLength=\"24\" x=\"609\" y=\"71.1074\">a: A</text><line style=\"stroke: #A80036; stroke-width: 1.5;\" x1=\"560.5\" x2=\"655.5\" y1=\"78.9375\" y2=\"78.9375\"/></a><!--MD5=[b9389687b975829384b498ac4b7476b2]\n",
       "class E8--><a href=\"psysml:2237367a-6968-472a-8f6b-3570950aa6b8\" target=\"_top\" title=\"psysml:2237367a-6968-472a-8f6b-3570950aa6b8\" xlink:actuate=\"onRequest\" xlink:href=\"psysml:2237367a-6968-472a-8f6b-3570950aa6b8\" xlink:show=\"new\" xlink:title=\"psysml:2237367a-6968-472a-8f6b-3570950aa6b8\" xlink:type=\"simple\"><rect fill=\"#FEFECE\" filter=\"url(#f8tv71l99axey)\" height=\"45.9375\" id=\"E8\" rx=\"10\" ry=\"10\" style=\"stroke: #A80036; stroke-width: 1.5;\" width=\"97\" x=\"427.5\" y=\"41\"/><ellipse cx=\"442.5\" cy=\"59.9688\" fill=\"#FFA500\" rx=\"11\" ry=\"11\" style=\"stroke: #A80036; stroke-width: 1.0;\"/><path d=\"M442.25,65.4375 Q440.5,65.4375 439.5469,64.4063 Q438.6094,63.3594 438.6094,61.5156 L438.6094,54.625 L440.6719,54.625 L440.6719,54.7813 Q440.5781,54.875 440.5469,55.0156 Q440.5313,55.1406 440.5313,55.4063 L440.5313,61.5313 Q440.5313,62.625 440.9063,63.25 Q441.2813,63.875 442.2656,63.875 Q443.25,63.875 443.6406,63.25 Q444.0313,62.625 444.0313,61.4844 L444.0313,54.625 L445.9063,54.625 L445.9063,61.4688 Q445.9063,63.5 444.875,64.4688 Q443.8594,65.4375 442.25,65.4375 Z \"/><text fill=\"#000000\" font-family=\"sans-serif\" font-size=\"12\" font-style=\"italic\" lengthAdjust=\"spacingAndGlyphs\" textLength=\"69\" x=\"454.5\" y=\"57.1387\">«attribute»</text><text fill=\"#000000\" font-family=\"sans-serif\" font-size=\"12\" lengthAdjust=\"spacingAndGlyphs\" textLength=\"4\" x=\"487\" y=\"71.1074\">f</text><line style=\"stroke: #A80036; stroke-width: 1.5;\" x1=\"428.5\" x2=\"523.5\" y1=\"78.9375\" y2=\"78.9375\"/></a><!--MD5=[fd4143e9d270a159db93a4ea2a975926]\n",
       "class E9--><a href=\"psysml:b8cf583e-a2e4-421e-986b-a2654bc5da1a\" target=\"_top\" title=\"psysml:b8cf583e-a2e4-421e-986b-a2654bc5da1a\" xlink:actuate=\"onRequest\" xlink:href=\"psysml:b8cf583e-a2e4-421e-986b-a2654bc5da1a\" xlink:show=\"new\" xlink:title=\"psysml:b8cf583e-a2e4-421e-986b-a2654bc5da1a\" xlink:type=\"simple\"><rect fill=\"#FEFECE\" filter=\"url(#f8tv71l99axey)\" height=\"45.9375\" id=\"E9\" rx=\"10\" ry=\"10\" style=\"stroke: #A80036; stroke-width: 1.5;\" width=\"97\" x=\"295.5\" y=\"41\"/><ellipse cx=\"310.5\" cy=\"59.9688\" fill=\"#FFA500\" rx=\"11\" ry=\"11\" style=\"stroke: #A80036; stroke-width: 1.0;\"/><path d=\"M310.25,65.4375 Q308.5,65.4375 307.5469,64.4063 Q306.6094,63.3594 306.6094,61.5156 L306.6094,54.625 L308.6719,54.625 L308.6719,54.7813 Q308.5781,54.875 308.5469,55.0156 Q308.5313,55.1406 308.5313,55.4063 L308.5313,61.5313 Q308.5313,62.625 308.9063,63.25 Q309.2813,63.875 310.2656,63.875 Q311.25,63.875 311.6406,63.25 Q312.0313,62.625 312.0313,61.4844 L312.0313,54.625 L313.9063,54.625 L313.9063,61.4688 Q313.9063,63.5 312.875,64.4688 Q311.8594,65.4375 310.25,65.4375 Z \"/><text fill=\"#000000\" font-family=\"sans-serif\" font-size=\"12\" font-style=\"italic\" lengthAdjust=\"spacingAndGlyphs\" textLength=\"69\" x=\"322.5\" y=\"57.1387\">«attribute»</text><text fill=\"#000000\" font-family=\"sans-serif\" font-size=\"12\" lengthAdjust=\"spacingAndGlyphs\" textLength=\"8\" x=\"353\" y=\"71.1074\">g</text><line style=\"stroke: #A80036; stroke-width: 1.5;\" x1=\"296.5\" x2=\"391.5\" y1=\"78.9375\" y2=\"78.9375\"/></a><!--MD5=[96f4274e9e20536e775497830990834d]\n",
       "class E10--><a href=\"psysml:0aa11811-cac3-458e-8be5-17e4f08795b7\" target=\"_top\" title=\"psysml:0aa11811-cac3-458e-8be5-17e4f08795b7\" xlink:actuate=\"onRequest\" xlink:href=\"psysml:0aa11811-cac3-458e-8be5-17e4f08795b7\" xlink:show=\"new\" xlink:title=\"psysml:0aa11811-cac3-458e-8be5-17e4f08795b7\" xlink:type=\"simple\"><rect fill=\"#FEFECE\" filter=\"url(#f8tv71l99axey)\" height=\"45.9375\" id=\"E10\" rx=\"10\" ry=\"10\" style=\"stroke: #A80036; stroke-width: 1.5;\" width=\"97\" x=\"163.5\" y=\"41\"/><ellipse cx=\"178.5\" cy=\"59.9688\" fill=\"#FFA500\" rx=\"11\" ry=\"11\" style=\"stroke: #A80036; stroke-width: 1.0;\"/><path d=\"M178.25,65.4375 Q176.5,65.4375 175.5469,64.4063 Q174.6094,63.3594 174.6094,61.5156 L174.6094,54.625 L176.6719,54.625 L176.6719,54.7813 Q176.5781,54.875 176.5469,55.0156 Q176.5313,55.1406 176.5313,55.4063 L176.5313,61.5313 Q176.5313,62.625 176.9063,63.25 Q177.2813,63.875 178.2656,63.875 Q179.25,63.875 179.6406,63.25 Q180.0313,62.625 180.0313,61.4844 L180.0313,54.625 L181.9063,54.625 L181.9063,61.4688 Q181.9063,63.5 180.875,64.4688 Q179.8594,65.4375 178.25,65.4375 Z \"/><text fill=\"#000000\" font-family=\"sans-serif\" font-size=\"12\" font-style=\"italic\" lengthAdjust=\"spacingAndGlyphs\" textLength=\"69\" x=\"190.5\" y=\"57.1387\">«attribute»</text><text fill=\"#000000\" font-family=\"sans-serif\" font-size=\"12\" lengthAdjust=\"spacingAndGlyphs\" textLength=\"8\" x=\"221\" y=\"71.1074\">b</text><line style=\"stroke: #A80036; stroke-width: 1.5;\" x1=\"164.5\" x2=\"259.5\" y1=\"78.9375\" y2=\"78.9375\"/></a><!--MD5=[1dd1bfd58a279cf63c5f349dbc8fc6a1]\n",
       "class E11--><a href=\"psysml:4713065a-36eb-4143-8ed6-c41cfc39d881\" target=\"_top\" title=\"psysml:4713065a-36eb-4143-8ed6-c41cfc39d881\" xlink:actuate=\"onRequest\" xlink:href=\"psysml:4713065a-36eb-4143-8ed6-c41cfc39d881\" xlink:show=\"new\" xlink:title=\"psysml:4713065a-36eb-4143-8ed6-c41cfc39d881\" xlink:type=\"simple\"><rect fill=\"#FEFECE\" filter=\"url(#f8tv71l99axey)\" height=\"45.9375\" id=\"E11\" rx=\"10\" ry=\"10\" style=\"stroke: #A80036; stroke-width: 1.5;\" width=\"97\" x=\"31.5\" y=\"41\"/><ellipse cx=\"46.5\" cy=\"59.9688\" fill=\"#FFA500\" rx=\"11\" ry=\"11\" style=\"stroke: #A80036; stroke-width: 1.0;\"/><path d=\"M46.25,65.4375 Q44.5,65.4375 43.5469,64.4063 Q42.6094,63.3594 42.6094,61.5156 L42.6094,54.625 L44.6719,54.625 L44.6719,54.7813 Q44.5781,54.875 44.5469,55.0156 Q44.5313,55.1406 44.5313,55.4063 L44.5313,61.5313 Q44.5313,62.625 44.9063,63.25 Q45.2813,63.875 46.2656,63.875 Q47.25,63.875 47.6406,63.25 Q48.0313,62.625 48.0313,61.4844 L48.0313,54.625 L49.9063,54.625 L49.9063,61.4688 Q49.9063,63.5 48.875,64.4688 Q47.8594,65.4375 46.25,65.4375 Z \"/><text fill=\"#000000\" font-family=\"sans-serif\" font-size=\"12\" font-style=\"italic\" lengthAdjust=\"spacingAndGlyphs\" textLength=\"69\" x=\"58.5\" y=\"57.1387\">«attribute»</text><text fill=\"#000000\" font-family=\"sans-serif\" font-size=\"12\" lengthAdjust=\"spacingAndGlyphs\" textLength=\"7\" x=\"89.5\" y=\"71.1074\">c</text><line style=\"stroke: #A80036; stroke-width: 1.5;\" x1=\"32.5\" x2=\"127.5\" y1=\"78.9375\" y2=\"78.9375\"/></a><text fill=\"#000000\" font-family=\"sans-serif\" font-size=\"14\" lengthAdjust=\"spacingAndGlyphs\" textLength=\"9\" x=\"695.5\" y=\"42.6982\">p</text><rect fill=\"#A80036\" height=\"12\" style=\"stroke: #FEFECE; stroke-width: 1.5;\" width=\"12\" x=\"694\" y=\"58\"/><text fill=\"#000000\" font-family=\"sans-serif\" font-size=\"14\" lengthAdjust=\"spacingAndGlyphs\" textLength=\"9\" x=\"742.5\" y=\"42.6982\">q</text><rect fill=\"#A80036\" height=\"12\" style=\"stroke: #FEFECE; stroke-width: 1.5;\" width=\"12\" x=\"741\" y=\"58\"/><text fill=\"#000000\" font-family=\"sans-serif\" font-size=\"14\" lengthAdjust=\"spacingAndGlyphs\" textLength=\"39\" x=\"727.5\" y=\"364.7151\">result</text><rect fill=\"#A80036\" height=\"12\" style=\"stroke: #FEFECE; stroke-width: 1.5;\" width=\"12\" x=\"741\" y=\"339.72\"/><!--MD5=[05d275557350bfb9b23a4ef7222b4c39]\n",
       "link E3 to E2--><a href=\"psysml:0b532ab9-83c4-4e75-92c6-eb24823a8b5d\" target=\"_top\" title=\"psysml:0b532ab9-83c4-4e75-92c6-eb24823a8b5d\" xlink:actuate=\"onRequest\" xlink:href=\"psysml:0b532ab9-83c4-4e75-92c6-eb24823a8b5d\" xlink:show=\"new\" xlink:title=\"psysml:0b532ab9-83c4-4e75-92c6-eb24823a8b5d\" xlink:type=\"simple\"><path d=\"M603.67,87.01 C601.45,98.3 598.64,112.62 595.87,126.7 \" fill=\"none\" id=\"E3-&gt;E2\" style=\"stroke: #A80036; stroke-width: 1.0;\"/><polygon fill=\"#FFFFFF\" points=\"591.93,146.75,588.7277,126.7564,602.4646,129.4577,591.93,146.75\" style=\"stroke: #A80036; stroke-width: 1.0;\"/><ellipse cx=\"591.7899\" cy=\"121.5494\" fill=\"#A80036\" rx=\"2\" ry=\"2\" style=\"stroke: #A80036; stroke-width: 1.0;\"/><ellipse cx=\"601.602\" cy=\"123.4789\" fill=\"#A80036\" rx=\"2\" ry=\"2\" style=\"stroke: #A80036; stroke-width: 1.0;\"/></a><!--MD5=[95a9d48fe49a704e5ad827a3895b22ab]\n",
       "@startuml\r\n",
       " \r\n",
       "package \"ParameterTest\" as E1  [[psysml:a676bd1d-a902-490f-aa39-52389ae12c12 ]]  {\r\n",
       "comp def \"A\" as E2 << <<(D,brown) attribute def>> [[psysml:da28d9c5-e66b-4d93-bbca-9dea65a864c0 ]] {\r\n",
       "x: String\r\n",
       "y: A\r\n",
       "}\r\n",
       "comp usage \"a: A\" as E3 << <<(U,orange) attribute>> [[psysml:8df57e9c-49a1-414c-8fdd-827b36a310a4 ]] {\r\n",
       "}\r\n",
       "rec def \"F\" as E4 << <<(B,lemonchiffon) calculation def>> [[psysml:40a467ef-e18b-46ff-840a-6dc079db3448 ]] {\r\n",
       "portin \"p\" as E5  [[psysml:5802290c-01bb-4d71-b710-026b61c78f11 ]] \r\n",
       "portin \"q\" as E6  [[psysml:197907df-8789-46a9-bbed-d5f940e1c2ab ]] \r\n",
       "portout \"result\" as E7  [[psysml:e7c52caa-c6a6-4daa-b328-953e2590a8bc ]] \r\n",
       "}\r\n",
       "\r\n",
       "comp usage \"f\" as E8 << <<(U,orange) attribute>> [[psysml:2237367a-6968-472a-8f6b-3570950aa6b8 ]] {\r\n",
       "}\r\n",
       "comp usage \"g\" as E9 << <<(U,orange) attribute>> [[psysml:b8cf583e-a2e4-421e-986b-a2654bc5da1a ]] {\r\n",
       "}\r\n",
       "comp usage \"b\" as E10 << <<(U,orange) attribute>> [[psysml:0aa11811-cac3-458e-8be5-17e4f08795b7 ]] {\r\n",
       "}\r\n",
       "comp usage \"c\" as E11 << <<(U,orange) attribute>> [[psysml:4713065a-36eb-4143-8ed6-c41cfc39d881 ]] {\r\n",
       "}\r\n",
       "}\r\n",
       "E3 - -:|> E2 [[psysml:0b532ab9-83c4-4e75-92c6-eb24823a8b5d ]] \r\n",
       "@enduml\r\n",
       "\n",
       "PlantUML version 1.2020.13(Sat Jun 13 12:26:38 UTC 2020)\n",
       "(EPL source distribution)\n",
       "Java Runtime: OpenJDK Runtime Environment\n",
       "JVM: OpenJDK 64-Bit Server VM\n",
       "Default Encoding: UTF-8\n",
       "Language: en\n",
       "Country: null\n",
       "--></g></svg>"
      ]
     },
     "execution_count": 36,
     "metadata": {},
     "output_type": "execute_result"
    }
   ],
   "source": [
    "%viz --style=\"PLANTUML\" --view=\"MIXED\" \"ParameterTest\""
   ]
  },
  {
   "cell_type": "code",
   "execution_count": 37,
   "id": "b60315a6",
   "metadata": {
    "execution": {
     "iopub.execute_input": "2021-10-03T08:28:26.858098Z",
     "iopub.status.busy": "2021-10-03T08:28:26.857697Z",
     "iopub.status.idle": "2021-10-03T08:28:26.911524Z",
     "shell.execute_reply": "2021-10-03T08:28:26.909722Z"
    }
   },
   "outputs": [
    {
     "data": {
      "image/svg+xml": [
       "<?xml version=\"1.0\" encoding=\"UTF-8\" standalone=\"no\"?><svg xmlns=\"http://www.w3.org/2000/svg\" xmlns:xlink=\"http://www.w3.org/1999/xlink\" contentScriptType=\"application/ecmascript\" contentStyleType=\"text/css\" height=\"403px\" preserveAspectRatio=\"none\" style=\"width:740px;height:403px;\" version=\"1.1\" viewBox=\"0 0 740 403\" width=\"740px\" zoomAndPan=\"magnify\"><defs/><g><!--MD5=[fbc87193dbaf4d95561dea2c320d4a47]\n",
       "cluster E1--><a href=\"psysml:a676bd1d-a902-490f-aa39-52389ae12c12\" target=\"_top\" title=\"psysml:a676bd1d-a902-490f-aa39-52389ae12c12\" xlink:actuate=\"onRequest\" xlink:href=\"psysml:a676bd1d-a902-490f-aa39-52389ae12c12\" xlink:show=\"new\" xlink:title=\"psysml:a676bd1d-a902-490f-aa39-52389ae12c12\" xlink:type=\"simple\"><polygon fill=\"#FFFFFF\" points=\"16,6,124,6,131,28.2969,718,28.2969,718,391.72,16,391.72,16,6\" style=\"stroke: #000000; stroke-width: 1.5;\"/><line style=\"stroke: #000000; stroke-width: 1.5;\" x1=\"16\" x2=\"131\" y1=\"28.2969\" y2=\"28.2969\"/><text fill=\"#000000\" font-family=\"sans-serif\" font-size=\"14\" font-weight=\"bold\" lengthAdjust=\"spacingAndGlyphs\" textLength=\"102\" x=\"20\" y=\"20.9951\">ParameterTest</text></a><!--MD5=[f6df4d0ebaf0b5dfb2ced0ae5af7c670]\n",
       "cluster E4--><a href=\"psysml:40a467ef-e18b-46ff-840a-6dc079db3448\" target=\"_top\" title=\"psysml:40a467ef-e18b-46ff-840a-6dc079db3448\" xlink:actuate=\"onRequest\" xlink:href=\"psysml:40a467ef-e18b-46ff-840a-6dc079db3448\" xlink:show=\"new\" xlink:title=\"psysml:40a467ef-e18b-46ff-840a-6dc079db3448\" xlink:type=\"simple\"><rect fill=\"#FFFFFF\" height=\"297.72\" id=\"E4\" style=\"stroke: #383838; stroke-width: 1.5;\" width=\"148\" x=\"554\" y=\"64\"/><rect fill=\"#F8F8F8\" height=\"37.9375\" style=\"stroke: #383838; stroke-width: 1.5;\" width=\"148\" x=\"554\" y=\"64\"/><text fill=\"#000000\" font-family=\"sans-serif\" font-size=\"12\" font-style=\"italic\" lengthAdjust=\"spacingAndGlyphs\" textLength=\"106\" x=\"575\" y=\"80.1387\">«calculation def»</text><text fill=\"#000000\" font-family=\"sans-serif\" font-size=\"12\" lengthAdjust=\"spacingAndGlyphs\" textLength=\"7\" x=\"624.5\" y=\"94.1074\">F</text></a><!--MD5=[b4997ac47864f28c2f74865a473b2911]\n",
       "class E2--><a href=\"psysml:da28d9c5-e66b-4d93-bbca-9dea65a864c0\" target=\"_top\" title=\"psysml:da28d9c5-e66b-4d93-bbca-9dea65a864c0\" xlink:actuate=\"onRequest\" xlink:href=\"psysml:da28d9c5-e66b-4d93-bbca-9dea65a864c0\" xlink:show=\"new\" xlink:title=\"psysml:da28d9c5-e66b-4d93-bbca-9dea65a864c0\" xlink:type=\"simple\"><rect fill=\"#FFFFFF\" height=\"88.3516\" id=\"E2\" style=\"stroke: #383838; stroke-width: 1.5;\" width=\"95\" x=\"422.5\" y=\"147\"/><text fill=\"#000000\" font-family=\"sans-serif\" font-size=\"12\" font-style=\"italic\" lengthAdjust=\"spacingAndGlyphs\" textLength=\"93\" x=\"423.5\" y=\"163.1387\">«attribute def»</text><text fill=\"#000000\" font-family=\"sans-serif\" font-size=\"12\" lengthAdjust=\"spacingAndGlyphs\" textLength=\"8\" x=\"466\" y=\"177.1074\">A</text><line style=\"stroke: #383838; stroke-width: 1.5;\" x1=\"423.5\" x2=\"516.5\" y1=\"184.9375\" y2=\"184.9375\"/><text fill=\"#000000\" font-family=\"sans-serif\" font-size=\"11\" lengthAdjust=\"spacingAndGlyphs\" textLength=\"48\" x=\"428.5\" y=\"215.9526\">x: String</text><text fill=\"#000000\" font-family=\"sans-serif\" font-size=\"11\" lengthAdjust=\"spacingAndGlyphs\" textLength=\"21\" x=\"428.5\" y=\"228.7573\">y: A</text><line style=\"stroke: #383838; stroke-width: 1.0;\" x1=\"423.5\" x2=\"442.5\" y1=\"199.3398\" y2=\"199.3398\"/><text fill=\"#000000\" font-family=\"sans-serif\" font-size=\"11\" lengthAdjust=\"spacingAndGlyphs\" textLength=\"55\" x=\"442.5\" y=\"202.6479\">attributes</text><line style=\"stroke: #383838; stroke-width: 1.0;\" x1=\"497.5\" x2=\"516.5\" y1=\"199.3398\" y2=\"199.3398\"/></a><!--MD5=[09b614a08d8cba4a07c9adeb5e0fee81]\n",
       "class E3--><a href=\"psysml:8df57e9c-49a1-414c-8fdd-827b36a310a4\" target=\"_top\" title=\"psysml:8df57e9c-49a1-414c-8fdd-827b36a310a4\" xlink:actuate=\"onRequest\" xlink:href=\"psysml:8df57e9c-49a1-414c-8fdd-827b36a310a4\" xlink:show=\"new\" xlink:title=\"psysml:8df57e9c-49a1-414c-8fdd-827b36a310a4\" xlink:type=\"simple\"><rect fill=\"#FFFFFF\" height=\"45.9375\" id=\"E3\" rx=\"10\" ry=\"10\" style=\"stroke: #383838; stroke-width: 1.5;\" width=\"71\" x=\"456.5\" y=\"41\"/><text fill=\"#000000\" font-family=\"sans-serif\" font-size=\"12\" font-style=\"italic\" lengthAdjust=\"spacingAndGlyphs\" textLength=\"69\" x=\"457.5\" y=\"57.1387\">«attribute»</text><text fill=\"#000000\" font-family=\"sans-serif\" font-size=\"12\" lengthAdjust=\"spacingAndGlyphs\" textLength=\"24\" x=\"480\" y=\"71.1074\">a: A</text><line style=\"stroke: #383838; stroke-width: 1.5;\" x1=\"457.5\" x2=\"526.5\" y1=\"78.9375\" y2=\"78.9375\"/></a><!--MD5=[b9389687b975829384b498ac4b7476b2]\n",
       "class E8--><a href=\"psysml:2237367a-6968-472a-8f6b-3570950aa6b8\" target=\"_top\" title=\"psysml:2237367a-6968-472a-8f6b-3570950aa6b8\" xlink:actuate=\"onRequest\" xlink:href=\"psysml:2237367a-6968-472a-8f6b-3570950aa6b8\" xlink:show=\"new\" xlink:title=\"psysml:2237367a-6968-472a-8f6b-3570950aa6b8\" xlink:type=\"simple\"><rect fill=\"#FFFFFF\" height=\"45.9375\" id=\"E8\" rx=\"10\" ry=\"10\" style=\"stroke: #383838; stroke-width: 1.5;\" width=\"71\" x=\"350.5\" y=\"41\"/><text fill=\"#000000\" font-family=\"sans-serif\" font-size=\"12\" font-style=\"italic\" lengthAdjust=\"spacingAndGlyphs\" textLength=\"69\" x=\"351.5\" y=\"57.1387\">«attribute»</text><text fill=\"#000000\" font-family=\"sans-serif\" font-size=\"12\" lengthAdjust=\"spacingAndGlyphs\" textLength=\"4\" x=\"384\" y=\"71.1074\">f</text><line style=\"stroke: #383838; stroke-width: 1.5;\" x1=\"351.5\" x2=\"420.5\" y1=\"78.9375\" y2=\"78.9375\"/></a><!--MD5=[fd4143e9d270a159db93a4ea2a975926]\n",
       "class E9--><a href=\"psysml:b8cf583e-a2e4-421e-986b-a2654bc5da1a\" target=\"_top\" title=\"psysml:b8cf583e-a2e4-421e-986b-a2654bc5da1a\" xlink:actuate=\"onRequest\" xlink:href=\"psysml:b8cf583e-a2e4-421e-986b-a2654bc5da1a\" xlink:show=\"new\" xlink:title=\"psysml:b8cf583e-a2e4-421e-986b-a2654bc5da1a\" xlink:type=\"simple\"><rect fill=\"#FFFFFF\" height=\"45.9375\" id=\"E9\" rx=\"10\" ry=\"10\" style=\"stroke: #383838; stroke-width: 1.5;\" width=\"71\" x=\"244.5\" y=\"41\"/><text fill=\"#000000\" font-family=\"sans-serif\" font-size=\"12\" font-style=\"italic\" lengthAdjust=\"spacingAndGlyphs\" textLength=\"69\" x=\"245.5\" y=\"57.1387\">«attribute»</text><text fill=\"#000000\" font-family=\"sans-serif\" font-size=\"12\" lengthAdjust=\"spacingAndGlyphs\" textLength=\"8\" x=\"276\" y=\"71.1074\">g</text><line style=\"stroke: #383838; stroke-width: 1.5;\" x1=\"245.5\" x2=\"314.5\" y1=\"78.9375\" y2=\"78.9375\"/></a><!--MD5=[96f4274e9e20536e775497830990834d]\n",
       "class E10--><a href=\"psysml:0aa11811-cac3-458e-8be5-17e4f08795b7\" target=\"_top\" title=\"psysml:0aa11811-cac3-458e-8be5-17e4f08795b7\" xlink:actuate=\"onRequest\" xlink:href=\"psysml:0aa11811-cac3-458e-8be5-17e4f08795b7\" xlink:show=\"new\" xlink:title=\"psysml:0aa11811-cac3-458e-8be5-17e4f08795b7\" xlink:type=\"simple\"><rect fill=\"#FFFFFF\" height=\"45.9375\" id=\"E10\" rx=\"10\" ry=\"10\" style=\"stroke: #383838; stroke-width: 1.5;\" width=\"71\" x=\"138.5\" y=\"41\"/><text fill=\"#000000\" font-family=\"sans-serif\" font-size=\"12\" font-style=\"italic\" lengthAdjust=\"spacingAndGlyphs\" textLength=\"69\" x=\"139.5\" y=\"57.1387\">«attribute»</text><text fill=\"#000000\" font-family=\"sans-serif\" font-size=\"12\" lengthAdjust=\"spacingAndGlyphs\" textLength=\"8\" x=\"170\" y=\"71.1074\">b</text><line style=\"stroke: #383838; stroke-width: 1.5;\" x1=\"139.5\" x2=\"208.5\" y1=\"78.9375\" y2=\"78.9375\"/></a><!--MD5=[1dd1bfd58a279cf63c5f349dbc8fc6a1]\n",
       "class E11--><a href=\"psysml:4713065a-36eb-4143-8ed6-c41cfc39d881\" target=\"_top\" title=\"psysml:4713065a-36eb-4143-8ed6-c41cfc39d881\" xlink:actuate=\"onRequest\" xlink:href=\"psysml:4713065a-36eb-4143-8ed6-c41cfc39d881\" xlink:show=\"new\" xlink:title=\"psysml:4713065a-36eb-4143-8ed6-c41cfc39d881\" xlink:type=\"simple\"><rect fill=\"#FFFFFF\" height=\"45.9375\" id=\"E11\" rx=\"10\" ry=\"10\" style=\"stroke: #383838; stroke-width: 1.5;\" width=\"71\" x=\"32.5\" y=\"41\"/><text fill=\"#000000\" font-family=\"sans-serif\" font-size=\"12\" font-style=\"italic\" lengthAdjust=\"spacingAndGlyphs\" textLength=\"69\" x=\"33.5\" y=\"57.1387\">«attribute»</text><text fill=\"#000000\" font-family=\"sans-serif\" font-size=\"12\" lengthAdjust=\"spacingAndGlyphs\" textLength=\"7\" x=\"64.5\" y=\"71.1074\">c</text><line style=\"stroke: #383838; stroke-width: 1.5;\" x1=\"33.5\" x2=\"102.5\" y1=\"78.9375\" y2=\"78.9375\"/></a><text fill=\"#000000\" font-family=\"sans-serif\" font-size=\"14\" lengthAdjust=\"spacingAndGlyphs\" textLength=\"9\" x=\"567.5\" y=\"42.6982\">p</text><rect fill=\"#383838\" height=\"12\" style=\"stroke: #F8F8F8; stroke-width: 1.5;\" width=\"12\" x=\"566\" y=\"58\"/><text fill=\"#000000\" font-family=\"sans-serif\" font-size=\"14\" lengthAdjust=\"spacingAndGlyphs\" textLength=\"9\" x=\"614.5\" y=\"42.6982\">q</text><rect fill=\"#383838\" height=\"12\" style=\"stroke: #F8F8F8; stroke-width: 1.5;\" width=\"12\" x=\"613\" y=\"58\"/><text fill=\"#000000\" font-family=\"sans-serif\" font-size=\"14\" lengthAdjust=\"spacingAndGlyphs\" textLength=\"39\" x=\"599.5\" y=\"380.7151\">result</text><rect fill=\"#383838\" height=\"12\" style=\"stroke: #F8F8F8; stroke-width: 1.5;\" width=\"12\" x=\"613\" y=\"355.72\"/><!--MD5=[05d275557350bfb9b23a4ef7222b4c39]\n",
       "link E3 to E2--><a href=\"psysml:0b532ab9-83c4-4e75-92c6-eb24823a8b5d\" target=\"_top\" title=\"psysml:0b532ab9-83c4-4e75-92c6-eb24823a8b5d\" xlink:actuate=\"onRequest\" xlink:href=\"psysml:0b532ab9-83c4-4e75-92c6-eb24823a8b5d\" xlink:show=\"new\" xlink:title=\"psysml:0b532ab9-83c4-4e75-92c6-eb24823a8b5d\" xlink:type=\"simple\"><path d=\"M488.12,87.06 C486.14,98.3 483.62,112.6 481.1,126.95 \" fill=\"none\" id=\"E3-&gt;E2\" style=\"stroke: #383838; stroke-width: 1.0;\"/><polygon fill=\"#FFFFFF\" points=\"477.58,146.93,473.9835,127.0035,487.7711,129.4331,477.58,146.93\" style=\"stroke: #383838; stroke-width: 1.0;\"/><ellipse cx=\"476.9423\" cy=\"121.7371\" fill=\"#383838\" rx=\"2\" ry=\"2\" style=\"stroke: #383838; stroke-width: 1.0;\"/><ellipse cx=\"486.7906\" cy=\"123.4725\" fill=\"#383838\" rx=\"2\" ry=\"2\" style=\"stroke: #383838; stroke-width: 1.0;\"/></a><!--MD5=[d64e35e214d98307dd48f06b3f9a6c64]\n",
       "@startuml\r\n",
       "skinparam monochrome true\r\n",
       "skinparam classbackgroundcolor white\r\n",
       "skinparam shadowing false\r\n",
       "skinparam wrapWidth 300\r\n",
       "hide circle\r\n",
       "\r\n",
       "package \"ParameterTest\" as E1  [[psysml:a676bd1d-a902-490f-aa39-52389ae12c12 ]]  {\r\n",
       "comp def \"A\" as E2  <<(T,blue) attribute def>> [[psysml:da28d9c5-e66b-4d93-bbca-9dea65a864c0 ]] {\r\n",
       "- - attributes - -\r\n",
       "x: String\r\n",
       "y: A\r\n",
       "}\r\n",
       "comp usage \"a: A\" as E3  <<(T,blue) attribute>> [[psysml:8df57e9c-49a1-414c-8fdd-827b36a310a4 ]] {\r\n",
       "}\r\n",
       "rec def \"F\" as E4  <<(T,blue) calculation def>> [[psysml:40a467ef-e18b-46ff-840a-6dc079db3448 ]] {\r\n",
       "portin \"p\" as E5  [[psysml:5802290c-01bb-4d71-b710-026b61c78f11 ]] \r\n",
       "portin \"q\" as E6  [[psysml:197907df-8789-46a9-bbed-d5f940e1c2ab ]] \r\n",
       "portout \"result\" as E7  [[psysml:e7c52caa-c6a6-4daa-b328-953e2590a8bc ]] \r\n",
       "}\r\n",
       "\r\n",
       "comp usage \"f\" as E8  <<(T,blue) attribute>> [[psysml:2237367a-6968-472a-8f6b-3570950aa6b8 ]] {\r\n",
       "}\r\n",
       "comp usage \"g\" as E9  <<(T,blue) attribute>> [[psysml:b8cf583e-a2e4-421e-986b-a2654bc5da1a ]] {\r\n",
       "}\r\n",
       "comp usage \"b\" as E10  <<(T,blue) attribute>> [[psysml:0aa11811-cac3-458e-8be5-17e4f08795b7 ]] {\r\n",
       "}\r\n",
       "comp usage \"c\" as E11  <<(T,blue) attribute>> [[psysml:4713065a-36eb-4143-8ed6-c41cfc39d881 ]] {\r\n",
       "}\r\n",
       "}\r\n",
       "E3 - -:|> E2 [[psysml:0b532ab9-83c4-4e75-92c6-eb24823a8b5d ]] \r\n",
       "@enduml\r\n",
       "\n",
       "PlantUML version 1.2020.13(Sat Jun 13 12:26:38 UTC 2020)\n",
       "(EPL source distribution)\n",
       "Java Runtime: OpenJDK Runtime Environment\n",
       "JVM: OpenJDK 64-Bit Server VM\n",
       "Default Encoding: UTF-8\n",
       "Language: en\n",
       "Country: null\n",
       "--></g></svg>"
      ]
     },
     "execution_count": 37,
     "metadata": {},
     "output_type": "execute_result"
    }
   ],
   "source": [
    "%viz --style=\"DEFAULT\" --view=\"Default\" \"ParameterTest\""
   ]
  },
  {
   "cell_type": "code",
   "execution_count": 38,
   "id": "fa666359",
   "metadata": {
    "execution": {
     "iopub.execute_input": "2021-10-03T08:28:26.960543Z",
     "iopub.status.busy": "2021-10-03T08:28:26.960145Z",
     "iopub.status.idle": "2021-10-03T08:28:27.010024Z",
     "shell.execute_reply": "2021-10-03T08:28:27.009659Z"
    }
   },
   "outputs": [
    {
     "data": {
      "image/svg+xml": [
       "<?xml version=\"1.0\" encoding=\"UTF-8\" standalone=\"no\"?><svg xmlns=\"http://www.w3.org/2000/svg\" xmlns:xlink=\"http://www.w3.org/1999/xlink\" contentScriptType=\"application/ecmascript\" contentStyleType=\"text/css\" height=\"280px\" preserveAspectRatio=\"none\" style=\"width:710px;height:280px;\" version=\"1.1\" viewBox=\"0 0 710 280\" width=\"710px\" zoomAndPan=\"magnify\"><defs/><g><!--MD5=[fbc87193dbaf4d95561dea2c320d4a47]\n",
       "cluster E1--><a href=\"psysml:a676bd1d-a902-490f-aa39-52389ae12c12\" target=\"_top\" title=\"psysml:a676bd1d-a902-490f-aa39-52389ae12c12\" xlink:actuate=\"onRequest\" xlink:href=\"psysml:a676bd1d-a902-490f-aa39-52389ae12c12\" xlink:show=\"new\" xlink:title=\"psysml:a676bd1d-a902-490f-aa39-52389ae12c12\" xlink:type=\"simple\"><polygon fill=\"#FFFFFF\" points=\"16,6,124,6,131,28.2969,688,28.2969,688,268,16,268,16,6\" style=\"stroke: #000000; stroke-width: 1.5;\"/><line style=\"stroke: #000000; stroke-width: 1.5;\" x1=\"16\" x2=\"131\" y1=\"28.2969\" y2=\"28.2969\"/><text fill=\"#000000\" font-family=\"sans-serif\" font-size=\"14\" font-weight=\"bold\" lengthAdjust=\"spacingAndGlyphs\" textLength=\"102\" x=\"20\" y=\"20.9951\">ParameterTest</text></a><!--MD5=[b4997ac47864f28c2f74865a473b2911]\n",
       "class E2--><a href=\"psysml:da28d9c5-e66b-4d93-bbca-9dea65a864c0\" target=\"_top\" title=\"psysml:da28d9c5-e66b-4d93-bbca-9dea65a864c0\" xlink:actuate=\"onRequest\" xlink:href=\"psysml:da28d9c5-e66b-4d93-bbca-9dea65a864c0\" xlink:show=\"new\" xlink:title=\"psysml:da28d9c5-e66b-4d93-bbca-9dea65a864c0\" xlink:type=\"simple\"><rect fill=\"#FFFFFF\" height=\"88.3516\" id=\"E2\" style=\"stroke: #383838; stroke-width: 1.5;\" width=\"95\" x=\"498.5\" y=\"164\"/><text fill=\"#000000\" font-family=\"sans-serif\" font-size=\"12\" font-style=\"italic\" lengthAdjust=\"spacingAndGlyphs\" textLength=\"93\" x=\"499.5\" y=\"180.1387\">«attribute def»</text><text fill=\"#000000\" font-family=\"sans-serif\" font-size=\"12\" lengthAdjust=\"spacingAndGlyphs\" textLength=\"8\" x=\"542\" y=\"194.1074\">A</text><line style=\"stroke: #383838; stroke-width: 1.5;\" x1=\"499.5\" x2=\"592.5\" y1=\"201.9375\" y2=\"201.9375\"/><text fill=\"#000000\" font-family=\"sans-serif\" font-size=\"11\" lengthAdjust=\"spacingAndGlyphs\" textLength=\"48\" x=\"504.5\" y=\"232.9526\">x: String</text><text fill=\"#000000\" font-family=\"sans-serif\" font-size=\"11\" lengthAdjust=\"spacingAndGlyphs\" textLength=\"21\" x=\"504.5\" y=\"245.7573\">y: A</text><line style=\"stroke: #383838; stroke-width: 1.0;\" x1=\"499.5\" x2=\"518.5\" y1=\"216.3398\" y2=\"216.3398\"/><text fill=\"#000000\" font-family=\"sans-serif\" font-size=\"11\" lengthAdjust=\"spacingAndGlyphs\" textLength=\"55\" x=\"518.5\" y=\"219.6479\">attributes</text><line style=\"stroke: #383838; stroke-width: 1.0;\" x1=\"573.5\" x2=\"592.5\" y1=\"216.3398\" y2=\"216.3398\"/></a><!--MD5=[09b614a08d8cba4a07c9adeb5e0fee81]\n",
       "class E3--><a href=\"psysml:8df57e9c-49a1-414c-8fdd-827b36a310a4\" target=\"_top\" title=\"psysml:8df57e9c-49a1-414c-8fdd-827b36a310a4\" xlink:actuate=\"onRequest\" xlink:href=\"psysml:8df57e9c-49a1-414c-8fdd-827b36a310a4\" xlink:show=\"new\" xlink:title=\"psysml:8df57e9c-49a1-414c-8fdd-827b36a310a4\" xlink:type=\"simple\"><rect fill=\"#FFFFFF\" height=\"45.9375\" id=\"E3\" rx=\"10\" ry=\"10\" style=\"stroke: #383838; stroke-width: 1.5;\" width=\"71\" x=\"600.5\" y=\"41\"/><text fill=\"#000000\" font-family=\"sans-serif\" font-size=\"12\" font-style=\"italic\" lengthAdjust=\"spacingAndGlyphs\" textLength=\"69\" x=\"601.5\" y=\"57.1387\">«attribute»</text><text fill=\"#000000\" font-family=\"sans-serif\" font-size=\"12\" lengthAdjust=\"spacingAndGlyphs\" textLength=\"24\" x=\"624\" y=\"71.1074\">a: A</text><line style=\"stroke: #383838; stroke-width: 1.5;\" x1=\"601.5\" x2=\"670.5\" y1=\"78.9375\" y2=\"78.9375\"/></a><!--MD5=[ebbe1d658d1005bcc118a6aa81145e00]\n",
       "class E4--><a href=\"psysml:40a467ef-e18b-46ff-840a-6dc079db3448\" target=\"_top\" title=\"psysml:40a467ef-e18b-46ff-840a-6dc079db3448\" xlink:actuate=\"onRequest\" xlink:href=\"psysml:40a467ef-e18b-46ff-840a-6dc079db3448\" xlink:show=\"new\" xlink:title=\"psysml:40a467ef-e18b-46ff-840a-6dc079db3448\" xlink:type=\"simple\"><rect fill=\"#FFFFFF\" height=\"45.9375\" id=\"E4\" style=\"stroke: #383838; stroke-width: 1.5;\" width=\"108\" x=\"457\" y=\"41\"/><text fill=\"#000000\" font-family=\"sans-serif\" font-size=\"12\" font-style=\"italic\" lengthAdjust=\"spacingAndGlyphs\" textLength=\"106\" x=\"458\" y=\"57.1387\">«calculation def»</text><text fill=\"#000000\" font-family=\"sans-serif\" font-size=\"12\" lengthAdjust=\"spacingAndGlyphs\" textLength=\"7\" x=\"507.5\" y=\"71.1074\">F</text><line style=\"stroke: #383838; stroke-width: 1.5;\" x1=\"458\" x2=\"564\" y1=\"78.9375\" y2=\"78.9375\"/></a><!--MD5=[270fce915f116d4de14055a7c1d9a0f3]\n",
       "class E5--><a href=\"psysml:2237367a-6968-472a-8f6b-3570950aa6b8\" target=\"_top\" title=\"psysml:2237367a-6968-472a-8f6b-3570950aa6b8\" xlink:actuate=\"onRequest\" xlink:href=\"psysml:2237367a-6968-472a-8f6b-3570950aa6b8\" xlink:show=\"new\" xlink:title=\"psysml:2237367a-6968-472a-8f6b-3570950aa6b8\" xlink:type=\"simple\"><rect fill=\"#FFFFFF\" height=\"45.9375\" id=\"E5\" rx=\"10\" ry=\"10\" style=\"stroke: #383838; stroke-width: 1.5;\" width=\"71\" x=\"350.5\" y=\"41\"/><text fill=\"#000000\" font-family=\"sans-serif\" font-size=\"12\" font-style=\"italic\" lengthAdjust=\"spacingAndGlyphs\" textLength=\"69\" x=\"351.5\" y=\"57.1387\">«attribute»</text><text fill=\"#000000\" font-family=\"sans-serif\" font-size=\"12\" lengthAdjust=\"spacingAndGlyphs\" textLength=\"4\" x=\"384\" y=\"71.1074\">f</text><line style=\"stroke: #383838; stroke-width: 1.5;\" x1=\"351.5\" x2=\"420.5\" y1=\"78.9375\" y2=\"78.9375\"/></a><!--MD5=[60a26617385b1d2d0262a64233df1f8d]\n",
       "class E6--><a href=\"psysml:b8cf583e-a2e4-421e-986b-a2654bc5da1a\" target=\"_top\" title=\"psysml:b8cf583e-a2e4-421e-986b-a2654bc5da1a\" xlink:actuate=\"onRequest\" xlink:href=\"psysml:b8cf583e-a2e4-421e-986b-a2654bc5da1a\" xlink:show=\"new\" xlink:title=\"psysml:b8cf583e-a2e4-421e-986b-a2654bc5da1a\" xlink:type=\"simple\"><rect fill=\"#FFFFFF\" height=\"45.9375\" id=\"E6\" rx=\"10\" ry=\"10\" style=\"stroke: #383838; stroke-width: 1.5;\" width=\"71\" x=\"244.5\" y=\"41\"/><text fill=\"#000000\" font-family=\"sans-serif\" font-size=\"12\" font-style=\"italic\" lengthAdjust=\"spacingAndGlyphs\" textLength=\"69\" x=\"245.5\" y=\"57.1387\">«attribute»</text><text fill=\"#000000\" font-family=\"sans-serif\" font-size=\"12\" lengthAdjust=\"spacingAndGlyphs\" textLength=\"8\" x=\"276\" y=\"71.1074\">g</text><line style=\"stroke: #383838; stroke-width: 1.5;\" x1=\"245.5\" x2=\"314.5\" y1=\"78.9375\" y2=\"78.9375\"/></a><!--MD5=[2156ba9850f5573cc1fc38a6a4b2f02b]\n",
       "class E7--><a href=\"psysml:0aa11811-cac3-458e-8be5-17e4f08795b7\" target=\"_top\" title=\"psysml:0aa11811-cac3-458e-8be5-17e4f08795b7\" xlink:actuate=\"onRequest\" xlink:href=\"psysml:0aa11811-cac3-458e-8be5-17e4f08795b7\" xlink:show=\"new\" xlink:title=\"psysml:0aa11811-cac3-458e-8be5-17e4f08795b7\" xlink:type=\"simple\"><rect fill=\"#FFFFFF\" height=\"45.9375\" id=\"E7\" rx=\"10\" ry=\"10\" style=\"stroke: #383838; stroke-width: 1.5;\" width=\"71\" x=\"138.5\" y=\"41\"/><text fill=\"#000000\" font-family=\"sans-serif\" font-size=\"12\" font-style=\"italic\" lengthAdjust=\"spacingAndGlyphs\" textLength=\"69\" x=\"139.5\" y=\"57.1387\">«attribute»</text><text fill=\"#000000\" font-family=\"sans-serif\" font-size=\"12\" lengthAdjust=\"spacingAndGlyphs\" textLength=\"8\" x=\"170\" y=\"71.1074\">b</text><line style=\"stroke: #383838; stroke-width: 1.5;\" x1=\"139.5\" x2=\"208.5\" y1=\"78.9375\" y2=\"78.9375\"/></a><!--MD5=[b9389687b975829384b498ac4b7476b2]\n",
       "class E8--><a href=\"psysml:4713065a-36eb-4143-8ed6-c41cfc39d881\" target=\"_top\" title=\"psysml:4713065a-36eb-4143-8ed6-c41cfc39d881\" xlink:actuate=\"onRequest\" xlink:href=\"psysml:4713065a-36eb-4143-8ed6-c41cfc39d881\" xlink:show=\"new\" xlink:title=\"psysml:4713065a-36eb-4143-8ed6-c41cfc39d881\" xlink:type=\"simple\"><rect fill=\"#FFFFFF\" height=\"45.9375\" id=\"E8\" rx=\"10\" ry=\"10\" style=\"stroke: #383838; stroke-width: 1.5;\" width=\"71\" x=\"32.5\" y=\"41\"/><text fill=\"#000000\" font-family=\"sans-serif\" font-size=\"12\" font-style=\"italic\" lengthAdjust=\"spacingAndGlyphs\" textLength=\"69\" x=\"33.5\" y=\"57.1387\">«attribute»</text><text fill=\"#000000\" font-family=\"sans-serif\" font-size=\"12\" lengthAdjust=\"spacingAndGlyphs\" textLength=\"7\" x=\"64.5\" y=\"71.1074\">c</text><line style=\"stroke: #383838; stroke-width: 1.5;\" x1=\"33.5\" x2=\"102.5\" y1=\"78.9375\" y2=\"78.9375\"/></a><!--MD5=[05d275557350bfb9b23a4ef7222b4c39]\n",
       "link E3 to E2--><a href=\"psysml:0b532ab9-83c4-4e75-92c6-eb24823a8b5d\" target=\"_top\" title=\"psysml:0b532ab9-83c4-4e75-92c6-eb24823a8b5d\" xlink:actuate=\"onRequest\" xlink:href=\"psysml:0b532ab9-83c4-4e75-92c6-eb24823a8b5d\" xlink:show=\"new\" xlink:title=\"psysml:0b532ab9-83c4-4e75-92c6-eb24823a8b5d\" xlink:type=\"simple\"><path d=\"M621.94,87.19 C611.77,103.23 597.51,125.73 584.09,146.9 \" fill=\"none\" id=\"E3-&gt;E2\" style=\"stroke: #383838; stroke-width: 1.0;\"/><polygon fill=\"#FFFFFF\" points=\"573.37,163.82,577.6195,144.0225,589.448,151.5115,573.37,163.82\" style=\"stroke: #383838; stroke-width: 1.0;\"/><ellipse cx=\"582.3584\" cy=\"140.2764\" fill=\"#383838\" rx=\"2\" ry=\"2\" style=\"stroke: #383838; stroke-width: 1.0;\"/><ellipse cx=\"590.8073\" cy=\"145.6258\" fill=\"#383838\" rx=\"2\" ry=\"2\" style=\"stroke: #383838; stroke-width: 1.0;\"/></a><!--MD5=[ddeed8deb2209213b62e6cfabaa108b2]\n",
       "reverse link E4 to E2--><a href=\"psysml:5802290c-01bb-4d71-b710-026b61c78f11\" target=\"_top\" title=\"psysml:5802290c-01bb-4d71-b710-026b61c78f11\" xlink:actuate=\"onRequest\" xlink:href=\"psysml:5802290c-01bb-4d71-b710-026b61c78f11\" xlink:show=\"new\" xlink:title=\"psysml:5802290c-01bb-4d71-b710-026b61c78f11\" xlink:type=\"simple\"><path d=\"M519.62,99.96 C524.37,119.25 530.31,143.36 535.36,163.82 \" fill=\"none\" id=\"E4&lt;-E2\" style=\"stroke: #383838; stroke-width: 1.0;\"/><polygon fill=\"#FFFFFF\" points=\"516.47,87.19,514.0229,93.9732,519.3432,98.841,521.7903,92.0577,516.47,87.19\" style=\"stroke: #383838; stroke-width: 1.0;\"/><text fill=\"#000000\" font-family=\"sans-serif\" font-size=\"13\" lengthAdjust=\"spacingAndGlyphs\" textLength=\"8\" x=\"528\" y=\"130.0669\">p</text></a><!--MD5=[a629baf88faa93f07a131afb768ff6a6]\n",
       "@startuml\r\n",
       "skinparam monochrome true\r\n",
       "skinparam classbackgroundcolor white\r\n",
       "skinparam shadowing false\r\n",
       "skinparam wrapWidth 300\r\n",
       "hide circle\r\n",
       "\r\n",
       "package \"ParameterTest\" as E1  [[psysml:a676bd1d-a902-490f-aa39-52389ae12c12 ]]  {\r\n",
       "comp def \"A\" as E2  <<(T,blue) attribute def>> [[psysml:da28d9c5-e66b-4d93-bbca-9dea65a864c0 ]] {\r\n",
       "- - attributes - -\r\n",
       "x: String\r\n",
       "y: A\r\n",
       "}\r\n",
       "comp usage \"a: A\" as E3  <<(T,blue) attribute>> [[psysml:8df57e9c-49a1-414c-8fdd-827b36a310a4 ]] {\r\n",
       "}\r\n",
       "comp def \"F\" as E4  <<(T,blue) calculation def>> [[psysml:40a467ef-e18b-46ff-840a-6dc079db3448 ]] {\r\n",
       "}\r\n",
       "comp usage \"f\" as E5  <<(T,blue) attribute>> [[psysml:2237367a-6968-472a-8f6b-3570950aa6b8 ]] {\r\n",
       "}\r\n",
       "comp usage \"g\" as E6  <<(T,blue) attribute>> [[psysml:b8cf583e-a2e4-421e-986b-a2654bc5da1a ]] {\r\n",
       "}\r\n",
       "comp usage \"b\" as E7  <<(T,blue) attribute>> [[psysml:0aa11811-cac3-458e-8be5-17e4f08795b7 ]] {\r\n",
       "}\r\n",
       "comp usage \"c\" as E8  <<(T,blue) attribute>> [[psysml:4713065a-36eb-4143-8ed6-c41cfc39d881 ]] {\r\n",
       "}\r\n",
       "}\r\n",
       "E3 - -:|> E2 [[psysml:0b532ab9-83c4-4e75-92c6-eb24823a8b5d ]] \r\n",
       "E4 o- - E2 [[psysml:5802290c-01bb-4d71-b710-026b61c78f11 ]] : p\r\n",
       "@enduml\r\n",
       "\n",
       "PlantUML version 1.2020.13(Sat Jun 13 12:26:38 UTC 2020)\n",
       "(EPL source distribution)\n",
       "Java Runtime: OpenJDK Runtime Environment\n",
       "JVM: OpenJDK 64-Bit Server VM\n",
       "Default Encoding: UTF-8\n",
       "Language: en\n",
       "Country: null\n",
       "--></g></svg>"
      ]
     },
     "execution_count": 38,
     "metadata": {},
     "output_type": "execute_result"
    }
   ],
   "source": [
    "%viz --style=\"DEFAULT\" --view=\"Tree\" \"ParameterTest\""
   ]
  },
  {
   "cell_type": "code",
   "execution_count": 39,
   "id": "2a03e378",
   "metadata": {
    "execution": {
     "iopub.execute_input": "2021-10-03T08:28:27.059033Z",
     "iopub.status.busy": "2021-10-03T08:28:27.058631Z",
     "iopub.status.idle": "2021-10-03T08:28:27.063678Z",
     "shell.execute_reply": "2021-10-03T08:28:27.064009Z"
    }
   },
   "outputs": [
    {
     "data": {
      "image/svg+xml": [
       "<?xml version=\"1.0\" encoding=\"UTF-8\" standalone=\"no\"?><svg xmlns=\"http://www.w3.org/2000/svg\" xmlns:xlink=\"http://www.w3.org/1999/xlink\" contentScriptType=\"application/ecmascript\" contentStyleType=\"text/css\" height=\"12px\" preserveAspectRatio=\"none\" style=\"width:12px;height:12px;\" version=\"1.1\" viewBox=\"0 0 12 12\" width=\"12px\" zoomAndPan=\"magnify\"><defs/><g><!--MD5=[c5f280e076d0d61ccf4b0f27871bda1d]\n",
       "@startuml\r\n",
       "skinparam monochrome true\r\n",
       "skinparam classbackgroundcolor white\r\n",
       "skinparam shadowing false\r\n",
       "skinparam wrapWidth 300\r\n",
       "hide circle\r\n",
       "\r\n",
       "@enduml\r\n",
       "\n",
       "PlantUML version 1.2020.13(Sat Jun 13 12:26:38 UTC 2020)\n",
       "(EPL source distribution)\n",
       "Java Runtime: OpenJDK Runtime Environment\n",
       "JVM: OpenJDK 64-Bit Server VM\n",
       "Default Encoding: UTF-8\n",
       "Language: en\n",
       "Country: null\n",
       "--></g></svg>"
      ]
     },
     "execution_count": 39,
     "metadata": {},
     "output_type": "execute_result"
    }
   ],
   "source": [
    "%viz --style=\"DEFAULT\" --view=\"State\" \"ParameterTest\""
   ]
  },
  {
   "cell_type": "code",
   "execution_count": 40,
   "id": "032e876b",
   "metadata": {
    "execution": {
     "iopub.execute_input": "2021-10-03T08:28:27.113488Z",
     "iopub.status.busy": "2021-10-03T08:28:27.113086Z",
     "iopub.status.idle": "2021-10-03T08:28:27.148494Z",
     "shell.execute_reply": "2021-10-03T08:28:27.148135Z"
    }
   },
   "outputs": [
    {
     "data": {
      "image/svg+xml": [
       "<?xml version=\"1.0\" encoding=\"UTF-8\" standalone=\"no\"?><svg xmlns=\"http://www.w3.org/2000/svg\" xmlns:xlink=\"http://www.w3.org/1999/xlink\" contentScriptType=\"application/ecmascript\" contentStyleType=\"text/css\" height=\"216px\" preserveAspectRatio=\"none\" style=\"width:740px;height:216px;\" version=\"1.1\" viewBox=\"0 0 740 216\" width=\"740px\" zoomAndPan=\"magnify\"><defs/><g><!--MD5=[fbc87193dbaf4d95561dea2c320d4a47]\n",
       "cluster E1--><a href=\"psysml:a676bd1d-a902-490f-aa39-52389ae12c12\" target=\"_top\" title=\"psysml:a676bd1d-a902-490f-aa39-52389ae12c12\" xlink:actuate=\"onRequest\" xlink:href=\"psysml:a676bd1d-a902-490f-aa39-52389ae12c12\" xlink:show=\"new\" xlink:title=\"psysml:a676bd1d-a902-490f-aa39-52389ae12c12\" xlink:type=\"simple\"><polygon fill=\"#FFFFFF\" points=\"16,6,124,6,131,28.2969,718,28.2969,718,204.72,16,204.72,16,6\" style=\"stroke: #000000; stroke-width: 1.5;\"/><line style=\"stroke: #000000; stroke-width: 1.5;\" x1=\"16\" x2=\"131\" y1=\"28.2969\" y2=\"28.2969\"/><text fill=\"#000000\" font-family=\"sans-serif\" font-size=\"14\" font-weight=\"bold\" lengthAdjust=\"spacingAndGlyphs\" textLength=\"102\" x=\"20\" y=\"20.9951\">ParameterTest</text></a><!--MD5=[f6df4d0ebaf0b5dfb2ced0ae5af7c670]\n",
       "cluster E4--><a href=\"psysml:40a467ef-e18b-46ff-840a-6dc079db3448\" target=\"_top\" title=\"psysml:40a467ef-e18b-46ff-840a-6dc079db3448\" xlink:actuate=\"onRequest\" xlink:href=\"psysml:40a467ef-e18b-46ff-840a-6dc079db3448\" xlink:show=\"new\" xlink:title=\"psysml:40a467ef-e18b-46ff-840a-6dc079db3448\" xlink:type=\"simple\"><rect fill=\"#FFFFFF\" height=\"110.72\" id=\"E4\" style=\"stroke: #383838; stroke-width: 1.5;\" width=\"148\" x=\"554\" y=\"64\"/><rect fill=\"#F8F8F8\" height=\"37.9375\" style=\"stroke: #383838; stroke-width: 1.5;\" width=\"148\" x=\"554\" y=\"64\"/><text fill=\"#000000\" font-family=\"sans-serif\" font-size=\"12\" font-style=\"italic\" lengthAdjust=\"spacingAndGlyphs\" textLength=\"106\" x=\"575\" y=\"80.1387\">«calculation def»</text><text fill=\"#000000\" font-family=\"sans-serif\" font-size=\"12\" lengthAdjust=\"spacingAndGlyphs\" textLength=\"7\" x=\"624.5\" y=\"94.1074\">F</text></a><g id=\"E1.E2\"><a href=\"psysml:da28d9c5-e66b-4d93-bbca-9dea65a864c0\" target=\"_top\" title=\"psysml:da28d9c5-e66b-4d93-bbca-9dea65a864c0\" xlink:actuate=\"onRequest\" xlink:href=\"psysml:da28d9c5-e66b-4d93-bbca-9dea65a864c0\" xlink:show=\"new\" xlink:title=\"psysml:da28d9c5-e66b-4d93-bbca-9dea65a864c0\" xlink:type=\"simple\"><rect fill=\"#FFFFFF\" height=\"42.9375\" id=\"E2\" style=\"stroke: #383838; stroke-width: 1.5;\" width=\"100\" x=\"417\" y=\"99\"/><rect fill=\"#F8F8F8\" height=\"37.9375\" style=\"stroke: #383838; stroke-width: 1.5;\" width=\"100\" x=\"417\" y=\"99\"/><text fill=\"#000000\" font-family=\"sans-serif\" font-size=\"12\" font-style=\"italic\" lengthAdjust=\"spacingAndGlyphs\" textLength=\"93\" x=\"420.5\" y=\"115.1387\">«attribute def»</text><text fill=\"#000000\" font-family=\"sans-serif\" font-size=\"12\" lengthAdjust=\"spacingAndGlyphs\" textLength=\"8\" x=\"463\" y=\"129.1074\">A</text></a></g><!--MD5=[09b614a08d8cba4a07c9adeb5e0fee81]\n",
       "class E3--><a href=\"psysml:8df57e9c-49a1-414c-8fdd-827b36a310a4\" target=\"_top\" title=\"psysml:8df57e9c-49a1-414c-8fdd-827b36a310a4\" xlink:actuate=\"onRequest\" xlink:href=\"psysml:8df57e9c-49a1-414c-8fdd-827b36a310a4\" xlink:show=\"new\" xlink:title=\"psysml:8df57e9c-49a1-414c-8fdd-827b36a310a4\" xlink:type=\"simple\"><rect fill=\"#FFFFFF\" height=\"45.9375\" id=\"E3\" rx=\"10\" ry=\"10\" style=\"stroke: #383838; stroke-width: 1.5;\" width=\"71\" x=\"456.5\" y=\"41\"/><text fill=\"#000000\" font-family=\"sans-serif\" font-size=\"12\" font-style=\"italic\" lengthAdjust=\"spacingAndGlyphs\" textLength=\"69\" x=\"457.5\" y=\"57.1387\">«attribute»</text><text fill=\"#000000\" font-family=\"sans-serif\" font-size=\"12\" lengthAdjust=\"spacingAndGlyphs\" textLength=\"24\" x=\"480\" y=\"71.1074\">a: A</text><line style=\"stroke: #383838; stroke-width: 1.5;\" x1=\"457.5\" x2=\"526.5\" y1=\"78.9375\" y2=\"78.9375\"/></a><!--MD5=[b9389687b975829384b498ac4b7476b2]\n",
       "class E8--><a href=\"psysml:2237367a-6968-472a-8f6b-3570950aa6b8\" target=\"_top\" title=\"psysml:2237367a-6968-472a-8f6b-3570950aa6b8\" xlink:actuate=\"onRequest\" xlink:href=\"psysml:2237367a-6968-472a-8f6b-3570950aa6b8\" xlink:show=\"new\" xlink:title=\"psysml:2237367a-6968-472a-8f6b-3570950aa6b8\" xlink:type=\"simple\"><rect fill=\"#FFFFFF\" height=\"45.9375\" id=\"E8\" rx=\"10\" ry=\"10\" style=\"stroke: #383838; stroke-width: 1.5;\" width=\"71\" x=\"350.5\" y=\"41\"/><text fill=\"#000000\" font-family=\"sans-serif\" font-size=\"12\" font-style=\"italic\" lengthAdjust=\"spacingAndGlyphs\" textLength=\"69\" x=\"351.5\" y=\"57.1387\">«attribute»</text><text fill=\"#000000\" font-family=\"sans-serif\" font-size=\"12\" lengthAdjust=\"spacingAndGlyphs\" textLength=\"4\" x=\"384\" y=\"71.1074\">f</text><line style=\"stroke: #383838; stroke-width: 1.5;\" x1=\"351.5\" x2=\"420.5\" y1=\"78.9375\" y2=\"78.9375\"/></a><!--MD5=[fd4143e9d270a159db93a4ea2a975926]\n",
       "class E9--><a href=\"psysml:b8cf583e-a2e4-421e-986b-a2654bc5da1a\" target=\"_top\" title=\"psysml:b8cf583e-a2e4-421e-986b-a2654bc5da1a\" xlink:actuate=\"onRequest\" xlink:href=\"psysml:b8cf583e-a2e4-421e-986b-a2654bc5da1a\" xlink:show=\"new\" xlink:title=\"psysml:b8cf583e-a2e4-421e-986b-a2654bc5da1a\" xlink:type=\"simple\"><rect fill=\"#FFFFFF\" height=\"45.9375\" id=\"E9\" rx=\"10\" ry=\"10\" style=\"stroke: #383838; stroke-width: 1.5;\" width=\"71\" x=\"244.5\" y=\"41\"/><text fill=\"#000000\" font-family=\"sans-serif\" font-size=\"12\" font-style=\"italic\" lengthAdjust=\"spacingAndGlyphs\" textLength=\"69\" x=\"245.5\" y=\"57.1387\">«attribute»</text><text fill=\"#000000\" font-family=\"sans-serif\" font-size=\"12\" lengthAdjust=\"spacingAndGlyphs\" textLength=\"8\" x=\"276\" y=\"71.1074\">g</text><line style=\"stroke: #383838; stroke-width: 1.5;\" x1=\"245.5\" x2=\"314.5\" y1=\"78.9375\" y2=\"78.9375\"/></a><!--MD5=[96f4274e9e20536e775497830990834d]\n",
       "class E10--><a href=\"psysml:0aa11811-cac3-458e-8be5-17e4f08795b7\" target=\"_top\" title=\"psysml:0aa11811-cac3-458e-8be5-17e4f08795b7\" xlink:actuate=\"onRequest\" xlink:href=\"psysml:0aa11811-cac3-458e-8be5-17e4f08795b7\" xlink:show=\"new\" xlink:title=\"psysml:0aa11811-cac3-458e-8be5-17e4f08795b7\" xlink:type=\"simple\"><rect fill=\"#FFFFFF\" height=\"45.9375\" id=\"E10\" rx=\"10\" ry=\"10\" style=\"stroke: #383838; stroke-width: 1.5;\" width=\"71\" x=\"138.5\" y=\"41\"/><text fill=\"#000000\" font-family=\"sans-serif\" font-size=\"12\" font-style=\"italic\" lengthAdjust=\"spacingAndGlyphs\" textLength=\"69\" x=\"139.5\" y=\"57.1387\">«attribute»</text><text fill=\"#000000\" font-family=\"sans-serif\" font-size=\"12\" lengthAdjust=\"spacingAndGlyphs\" textLength=\"8\" x=\"170\" y=\"71.1074\">b</text><line style=\"stroke: #383838; stroke-width: 1.5;\" x1=\"139.5\" x2=\"208.5\" y1=\"78.9375\" y2=\"78.9375\"/></a><!--MD5=[1dd1bfd58a279cf63c5f349dbc8fc6a1]\n",
       "class E11--><a href=\"psysml:4713065a-36eb-4143-8ed6-c41cfc39d881\" target=\"_top\" title=\"psysml:4713065a-36eb-4143-8ed6-c41cfc39d881\" xlink:actuate=\"onRequest\" xlink:href=\"psysml:4713065a-36eb-4143-8ed6-c41cfc39d881\" xlink:show=\"new\" xlink:title=\"psysml:4713065a-36eb-4143-8ed6-c41cfc39d881\" xlink:type=\"simple\"><rect fill=\"#FFFFFF\" height=\"45.9375\" id=\"E11\" rx=\"10\" ry=\"10\" style=\"stroke: #383838; stroke-width: 1.5;\" width=\"71\" x=\"32.5\" y=\"41\"/><text fill=\"#000000\" font-family=\"sans-serif\" font-size=\"12\" font-style=\"italic\" lengthAdjust=\"spacingAndGlyphs\" textLength=\"69\" x=\"33.5\" y=\"57.1387\">«attribute»</text><text fill=\"#000000\" font-family=\"sans-serif\" font-size=\"12\" lengthAdjust=\"spacingAndGlyphs\" textLength=\"7\" x=\"64.5\" y=\"71.1074\">c</text><line style=\"stroke: #383838; stroke-width: 1.5;\" x1=\"33.5\" x2=\"102.5\" y1=\"78.9375\" y2=\"78.9375\"/></a><text fill=\"#000000\" font-family=\"sans-serif\" font-size=\"14\" lengthAdjust=\"spacingAndGlyphs\" textLength=\"9\" x=\"567.5\" y=\"42.6982\">p</text><rect fill=\"#383838\" height=\"12\" style=\"stroke: #F8F8F8; stroke-width: 1.5;\" width=\"12\" x=\"566\" y=\"58\"/><text fill=\"#000000\" font-family=\"sans-serif\" font-size=\"14\" lengthAdjust=\"spacingAndGlyphs\" textLength=\"9\" x=\"614.5\" y=\"42.6982\">q</text><rect fill=\"#383838\" height=\"12\" style=\"stroke: #F8F8F8; stroke-width: 1.5;\" width=\"12\" x=\"613\" y=\"58\"/><text fill=\"#000000\" font-family=\"sans-serif\" font-size=\"14\" lengthAdjust=\"spacingAndGlyphs\" textLength=\"39\" x=\"599.5\" y=\"193.7151\">result</text><rect fill=\"#383838\" height=\"12\" style=\"stroke: #F8F8F8; stroke-width: 1.5;\" width=\"12\" x=\"613\" y=\"168.72\"/><!--MD5=[05d275557350bfb9b23a4ef7222b4c39]\n",
       "link E3 to E2--><a href=\"psysml:0b532ab9-83c4-4e75-92c6-eb24823a8b5d\" target=\"_top\" title=\"psysml:0b532ab9-83c4-4e75-92c6-eb24823a8b5d\" xlink:actuate=\"onRequest\" xlink:href=\"psysml:0b532ab9-83c4-4e75-92c6-eb24823a8b5d\" xlink:show=\"new\" xlink:title=\"psysml:0b532ab9-83c4-4e75-92c6-eb24823a8b5d\" xlink:type=\"simple\"><path d=\"M481.83,87.17 C481.78,87.29 481.72,87.41 481.66,87.53 \" fill=\"none\" id=\"E3-&gt;E2\" style=\"stroke: #383838; stroke-width: 1.0;\"/><polygon fill=\"#FFFFFF\" points=\"476.43,98.93,477.977,78.7407,490.7056,84.5701,476.43,98.93\" style=\"stroke: #383838; stroke-width: 1.0;\"/><ellipse cx=\"482.1687\" cy=\"74.3911\" fill=\"#383838\" rx=\"2\" ry=\"2\" style=\"stroke: #383838; stroke-width: 1.0;\"/><ellipse cx=\"491.2606\" cy=\"78.555\" fill=\"#383838\" rx=\"2\" ry=\"2\" style=\"stroke: #383838; stroke-width: 1.0;\"/></a><!--MD5=[971335bbc423d60e278ec0d32aa8da42]\n",
       "@startuml\r\n",
       "skinparam ranksep 10\r\n",
       "skinparam rectangle {\r\n",
       " backgroundColor<<block>> LightGreen\r\n",
       "}\r\n",
       "skinparam monochrome true\r\n",
       "skinparam classbackgroundcolor white\r\n",
       "skinparam shadowing false\r\n",
       "skinparam wrapWidth 300\r\n",
       "hide circle\r\n",
       "\r\n",
       "package \"ParameterTest\" as E1  [[psysml:a676bd1d-a902-490f-aa39-52389ae12c12 ]]  {\r\n",
       "def \"A\" as E2  <<(T,blue) attribute def>> [[psysml:da28d9c5-e66b-4d93-bbca-9dea65a864c0 ]] \r\n",
       "comp usage \"a: A\" as E3  <<(T,blue) attribute>> [[psysml:8df57e9c-49a1-414c-8fdd-827b36a310a4 ]] {\r\n",
       "}\r\n",
       "rec def \"F\" as E4  <<(T,blue) calculation def>> [[psysml:40a467ef-e18b-46ff-840a-6dc079db3448 ]] {\r\n",
       "portin \"p\" as E5  [[psysml:5802290c-01bb-4d71-b710-026b61c78f11 ]] \r\n",
       "portin \"q\" as E6  [[psysml:197907df-8789-46a9-bbed-d5f940e1c2ab ]] \r\n",
       "portout \"result\" as E7  [[psysml:e7c52caa-c6a6-4daa-b328-953e2590a8bc ]] \r\n",
       "}\r\n",
       "\r\n",
       "comp usage \"f\" as E8  <<(T,blue) attribute>> [[psysml:2237367a-6968-472a-8f6b-3570950aa6b8 ]] {\r\n",
       "}\r\n",
       "comp usage \"g\" as E9  <<(T,blue) attribute>> [[psysml:b8cf583e-a2e4-421e-986b-a2654bc5da1a ]] {\r\n",
       "}\r\n",
       "comp usage \"b\" as E10  <<(T,blue) attribute>> [[psysml:0aa11811-cac3-458e-8be5-17e4f08795b7 ]] {\r\n",
       "}\r\n",
       "comp usage \"c\" as E11  <<(T,blue) attribute>> [[psysml:4713065a-36eb-4143-8ed6-c41cfc39d881 ]] {\r\n",
       "}\r\n",
       "}\r\n",
       "E3 - -:|> E2 [[psysml:0b532ab9-83c4-4e75-92c6-eb24823a8b5d ]] \r\n",
       "@enduml\r\n",
       "\n",
       "PlantUML version 1.2020.13(Sat Jun 13 12:26:38 UTC 2020)\n",
       "(EPL source distribution)\n",
       "Java Runtime: OpenJDK Runtime Environment\n",
       "JVM: OpenJDK 64-Bit Server VM\n",
       "Default Encoding: UTF-8\n",
       "Language: en\n",
       "Country: null\n",
       "--></g></svg>"
      ]
     },
     "execution_count": 40,
     "metadata": {},
     "output_type": "execute_result"
    }
   ],
   "source": [
    "%viz --style=\"DEFAULT\" --view=\"Interconnection\" \"ParameterTest\""
   ]
  },
  {
   "cell_type": "code",
   "execution_count": 41,
   "id": "68d4bbd3",
   "metadata": {
    "execution": {
     "iopub.execute_input": "2021-10-03T08:28:27.197460Z",
     "iopub.status.busy": "2021-10-03T08:28:27.197062Z",
     "iopub.status.idle": "2021-10-03T08:28:27.219860Z",
     "shell.execute_reply": "2021-10-03T08:28:27.219491Z"
    }
   },
   "outputs": [
    {
     "data": {
      "image/svg+xml": [
       "<?xml version=\"1.0\" encoding=\"UTF-8\" standalone=\"no\"?><svg xmlns=\"http://www.w3.org/2000/svg\" xmlns:xlink=\"http://www.w3.org/1999/xlink\" contentScriptType=\"application/ecmascript\" contentStyleType=\"text/css\" height=\"162px\" preserveAspectRatio=\"none\" style=\"width:166px;height:162px;\" version=\"1.1\" viewBox=\"0 0 166 162\" width=\"166px\" zoomAndPan=\"magnify\"><defs/><g><!--MD5=[fbc87193dbaf4d95561dea2c320d4a47]\n",
       "cluster E1--><a href=\"psysml:40a467ef-e18b-46ff-840a-6dc079db3448\" target=\"_top\" title=\"psysml:40a467ef-e18b-46ff-840a-6dc079db3448\" xlink:actuate=\"onRequest\" xlink:href=\"psysml:40a467ef-e18b-46ff-840a-6dc079db3448\" xlink:show=\"new\" xlink:title=\"psysml:40a467ef-e18b-46ff-840a-6dc079db3448\" xlink:type=\"simple\"><rect fill=\"#FFFFFF\" height=\"87.72\" id=\"E1\" style=\"stroke: #383838; stroke-width: 1.5;\" width=\"148\" x=\"7\" y=\"42.0986\"/><rect fill=\"#F8F8F8\" height=\"37.9375\" style=\"stroke: #383838; stroke-width: 1.5;\" width=\"148\" x=\"7\" y=\"42.0986\"/><text fill=\"#000000\" font-family=\"sans-serif\" font-size=\"12\" font-style=\"italic\" lengthAdjust=\"spacingAndGlyphs\" textLength=\"106\" x=\"28\" y=\"58.2373\">«calculation def»</text><text fill=\"#000000\" font-family=\"sans-serif\" font-size=\"12\" lengthAdjust=\"spacingAndGlyphs\" textLength=\"7\" x=\"77.5\" y=\"72.2061\">F</text></a><text fill=\"#000000\" font-family=\"sans-serif\" font-size=\"14\" lengthAdjust=\"spacingAndGlyphs\" textLength=\"9\" x=\"20.5\" y=\"20.7969\">p</text><rect fill=\"#383838\" height=\"12\" style=\"stroke: #F8F8F8; stroke-width: 1.5;\" width=\"12\" x=\"19\" y=\"36.0986\"/><text fill=\"#000000\" font-family=\"sans-serif\" font-size=\"14\" lengthAdjust=\"spacingAndGlyphs\" textLength=\"9\" x=\"67.5\" y=\"20.7969\">q</text><rect fill=\"#383838\" height=\"12\" style=\"stroke: #F8F8F8; stroke-width: 1.5;\" width=\"12\" x=\"66\" y=\"36.0986\"/><text fill=\"#000000\" font-family=\"sans-serif\" font-size=\"14\" lengthAdjust=\"spacingAndGlyphs\" textLength=\"39\" x=\"52.5\" y=\"148.8138\">result</text><rect fill=\"#383838\" height=\"12\" style=\"stroke: #F8F8F8; stroke-width: 1.5;\" width=\"12\" x=\"66\" y=\"123.8186\"/><!--MD5=[b764592b34ce7d56ec34f674e113da08]\n",
       "@startuml\r\n",
       "skinparam ranksep 8\r\n",
       "skinparam monochrome true\r\n",
       "skinparam classbackgroundcolor white\r\n",
       "skinparam shadowing false\r\n",
       "skinparam wrapWidth 300\r\n",
       "hide circle\r\n",
       "\r\n",
       "rec def \"F\" as E1  <<(T,blue) calculation def>> [[psysml:40a467ef-e18b-46ff-840a-6dc079db3448 ]] {\r\n",
       "portin \"p\" as E2  [[psysml:5802290c-01bb-4d71-b710-026b61c78f11 ]] \r\n",
       "portin \"q\" as E3  [[psysml:197907df-8789-46a9-bbed-d5f940e1c2ab ]] \r\n",
       "portout \"result\" as E4  [[psysml:e7c52caa-c6a6-4daa-b328-953e2590a8bc ]] \r\n",
       "}\r\n",
       "\r\n",
       "@enduml\r\n",
       "\n",
       "PlantUML version 1.2020.13(Sat Jun 13 12:26:38 UTC 2020)\n",
       "(EPL source distribution)\n",
       "Java Runtime: OpenJDK Runtime Environment\n",
       "JVM: OpenJDK 64-Bit Server VM\n",
       "Default Encoding: UTF-8\n",
       "Language: en\n",
       "Country: null\n",
       "--></g></svg>"
      ]
     },
     "execution_count": 41,
     "metadata": {},
     "output_type": "execute_result"
    }
   ],
   "source": [
    "%viz --style=\"DEFAULT\" --view=\"Action\" \"ParameterTest\""
   ]
  },
  {
   "cell_type": "code",
   "execution_count": 42,
   "id": "10413c31",
   "metadata": {
    "execution": {
     "iopub.execute_input": "2021-10-03T08:28:27.269047Z",
     "iopub.status.busy": "2021-10-03T08:28:27.268647Z",
     "iopub.status.idle": "2021-10-03T08:28:27.274251Z",
     "shell.execute_reply": "2021-10-03T08:28:27.273902Z"
    }
   },
   "outputs": [
    {
     "data": {
      "image/svg+xml": [
       "<?xml version=\"1.0\" encoding=\"UTF-8\" standalone=\"no\"?><svg xmlns=\"http://www.w3.org/2000/svg\" xmlns:xlink=\"http://www.w3.org/1999/xlink\" contentScriptType=\"application/ecmascript\" contentStyleType=\"text/css\" height=\"12px\" preserveAspectRatio=\"none\" style=\"width:12px;height:12px;\" version=\"1.1\" viewBox=\"0 0 12 12\" width=\"12px\" zoomAndPan=\"magnify\"><defs/><g><!--MD5=[0b72472770326784bf6c2b53246e1e64]\n",
       "@startuml\r\n",
       "skinparam roundcorner 20\r\n",
       "skinparam BoxPadding 20\r\n",
       "skinparam SequenceBoxBackgroundColor #white\r\n",
       "skinparam style strictuml\r\n",
       "skinparam maxMessageSize 100\r\n",
       "skinparam monochrome true\r\n",
       "skinparam classbackgroundcolor white\r\n",
       "skinparam shadowing false\r\n",
       "skinparam wrapWidth 300\r\n",
       "hide circle\r\n",
       "\r\n",
       "@enduml\r\n",
       "\n",
       "PlantUML version 1.2020.13(Sat Jun 13 12:26:38 UTC 2020)\n",
       "(EPL source distribution)\n",
       "Java Runtime: OpenJDK Runtime Environment\n",
       "JVM: OpenJDK 64-Bit Server VM\n",
       "Default Encoding: UTF-8\n",
       "Language: en\n",
       "Country: null\n",
       "--></g></svg>"
      ]
     },
     "execution_count": 42,
     "metadata": {},
     "output_type": "execute_result"
    }
   ],
   "source": [
    "%viz --style=\"DEFAULT\" --view=\"Sequence\" \"ParameterTest\""
   ]
  },
  {
   "cell_type": "code",
   "execution_count": 43,
   "id": "98a50e8e",
   "metadata": {
    "execution": {
     "iopub.execute_input": "2021-10-03T08:28:27.323681Z",
     "iopub.status.busy": "2021-10-03T08:28:27.323282Z",
     "iopub.status.idle": "2021-10-03T08:28:27.380412Z",
     "shell.execute_reply": "2021-10-03T08:28:27.378567Z"
    }
   },
   "outputs": [
    {
     "data": {
      "image/svg+xml": [
       "<?xml version=\"1.0\" encoding=\"UTF-8\" standalone=\"no\"?><svg xmlns=\"http://www.w3.org/2000/svg\" xmlns:xlink=\"http://www.w3.org/1999/xlink\" contentScriptType=\"application/ecmascript\" contentStyleType=\"text/css\" height=\"403px\" preserveAspectRatio=\"none\" style=\"width:740px;height:403px;\" version=\"1.1\" viewBox=\"0 0 740 403\" width=\"740px\" zoomAndPan=\"magnify\"><defs/><g><!--MD5=[fbc87193dbaf4d95561dea2c320d4a47]\n",
       "cluster E1--><a href=\"psysml:a676bd1d-a902-490f-aa39-52389ae12c12\" target=\"_top\" title=\"psysml:a676bd1d-a902-490f-aa39-52389ae12c12\" xlink:actuate=\"onRequest\" xlink:href=\"psysml:a676bd1d-a902-490f-aa39-52389ae12c12\" xlink:show=\"new\" xlink:title=\"psysml:a676bd1d-a902-490f-aa39-52389ae12c12\" xlink:type=\"simple\"><polygon fill=\"#FFFFFF\" points=\"16,6,124,6,131,28.2969,718,28.2969,718,391.72,16,391.72,16,6\" style=\"stroke: #000000; stroke-width: 1.5;\"/><line style=\"stroke: #000000; stroke-width: 1.5;\" x1=\"16\" x2=\"131\" y1=\"28.2969\" y2=\"28.2969\"/><text fill=\"#000000\" font-family=\"sans-serif\" font-size=\"14\" font-weight=\"bold\" lengthAdjust=\"spacingAndGlyphs\" textLength=\"102\" x=\"20\" y=\"20.9951\">ParameterTest</text></a><!--MD5=[f6df4d0ebaf0b5dfb2ced0ae5af7c670]\n",
       "cluster E4--><a href=\"psysml:40a467ef-e18b-46ff-840a-6dc079db3448\" target=\"_top\" title=\"psysml:40a467ef-e18b-46ff-840a-6dc079db3448\" xlink:actuate=\"onRequest\" xlink:href=\"psysml:40a467ef-e18b-46ff-840a-6dc079db3448\" xlink:show=\"new\" xlink:title=\"psysml:40a467ef-e18b-46ff-840a-6dc079db3448\" xlink:type=\"simple\"><rect fill=\"#FFFFFF\" height=\"297.72\" id=\"E4\" style=\"stroke: #383838; stroke-width: 1.5;\" width=\"148\" x=\"554\" y=\"64\"/><rect fill=\"#F8F8F8\" height=\"37.9375\" style=\"stroke: #383838; stroke-width: 1.5;\" width=\"148\" x=\"554\" y=\"64\"/><text fill=\"#000000\" font-family=\"sans-serif\" font-size=\"12\" font-style=\"italic\" lengthAdjust=\"spacingAndGlyphs\" textLength=\"106\" x=\"575\" y=\"80.1387\">«calculation def»</text><text fill=\"#000000\" font-family=\"sans-serif\" font-size=\"12\" lengthAdjust=\"spacingAndGlyphs\" textLength=\"7\" x=\"624.5\" y=\"94.1074\">F</text></a><!--MD5=[b4997ac47864f28c2f74865a473b2911]\n",
       "class E2--><a href=\"psysml:da28d9c5-e66b-4d93-bbca-9dea65a864c0\" target=\"_top\" title=\"psysml:da28d9c5-e66b-4d93-bbca-9dea65a864c0\" xlink:actuate=\"onRequest\" xlink:href=\"psysml:da28d9c5-e66b-4d93-bbca-9dea65a864c0\" xlink:show=\"new\" xlink:title=\"psysml:da28d9c5-e66b-4d93-bbca-9dea65a864c0\" xlink:type=\"simple\"><rect fill=\"#FFFFFF\" height=\"88.3516\" id=\"E2\" style=\"stroke: #383838; stroke-width: 1.5;\" width=\"95\" x=\"422.5\" y=\"147\"/><text fill=\"#000000\" font-family=\"sans-serif\" font-size=\"12\" font-style=\"italic\" lengthAdjust=\"spacingAndGlyphs\" textLength=\"93\" x=\"423.5\" y=\"163.1387\">«attribute def»</text><text fill=\"#000000\" font-family=\"sans-serif\" font-size=\"12\" lengthAdjust=\"spacingAndGlyphs\" textLength=\"8\" x=\"466\" y=\"177.1074\">A</text><line style=\"stroke: #383838; stroke-width: 1.5;\" x1=\"423.5\" x2=\"516.5\" y1=\"184.9375\" y2=\"184.9375\"/><text fill=\"#000000\" font-family=\"sans-serif\" font-size=\"11\" lengthAdjust=\"spacingAndGlyphs\" textLength=\"48\" x=\"428.5\" y=\"215.9526\">x: String</text><text fill=\"#000000\" font-family=\"sans-serif\" font-size=\"11\" lengthAdjust=\"spacingAndGlyphs\" textLength=\"21\" x=\"428.5\" y=\"228.7573\">y: A</text><line style=\"stroke: #383838; stroke-width: 1.0;\" x1=\"423.5\" x2=\"442.5\" y1=\"199.3398\" y2=\"199.3398\"/><text fill=\"#000000\" font-family=\"sans-serif\" font-size=\"11\" lengthAdjust=\"spacingAndGlyphs\" textLength=\"55\" x=\"442.5\" y=\"202.6479\">attributes</text><line style=\"stroke: #383838; stroke-width: 1.0;\" x1=\"497.5\" x2=\"516.5\" y1=\"199.3398\" y2=\"199.3398\"/></a><!--MD5=[09b614a08d8cba4a07c9adeb5e0fee81]\n",
       "class E3--><a href=\"psysml:8df57e9c-49a1-414c-8fdd-827b36a310a4\" target=\"_top\" title=\"psysml:8df57e9c-49a1-414c-8fdd-827b36a310a4\" xlink:actuate=\"onRequest\" xlink:href=\"psysml:8df57e9c-49a1-414c-8fdd-827b36a310a4\" xlink:show=\"new\" xlink:title=\"psysml:8df57e9c-49a1-414c-8fdd-827b36a310a4\" xlink:type=\"simple\"><rect fill=\"#FFFFFF\" height=\"45.9375\" id=\"E3\" rx=\"10\" ry=\"10\" style=\"stroke: #383838; stroke-width: 1.5;\" width=\"71\" x=\"456.5\" y=\"41\"/><text fill=\"#000000\" font-family=\"sans-serif\" font-size=\"12\" font-style=\"italic\" lengthAdjust=\"spacingAndGlyphs\" textLength=\"69\" x=\"457.5\" y=\"57.1387\">«attribute»</text><text fill=\"#000000\" font-family=\"sans-serif\" font-size=\"12\" lengthAdjust=\"spacingAndGlyphs\" textLength=\"24\" x=\"480\" y=\"71.1074\">a: A</text><line style=\"stroke: #383838; stroke-width: 1.5;\" x1=\"457.5\" x2=\"526.5\" y1=\"78.9375\" y2=\"78.9375\"/></a><!--MD5=[b9389687b975829384b498ac4b7476b2]\n",
       "class E8--><a href=\"psysml:2237367a-6968-472a-8f6b-3570950aa6b8\" target=\"_top\" title=\"psysml:2237367a-6968-472a-8f6b-3570950aa6b8\" xlink:actuate=\"onRequest\" xlink:href=\"psysml:2237367a-6968-472a-8f6b-3570950aa6b8\" xlink:show=\"new\" xlink:title=\"psysml:2237367a-6968-472a-8f6b-3570950aa6b8\" xlink:type=\"simple\"><rect fill=\"#FFFFFF\" height=\"45.9375\" id=\"E8\" rx=\"10\" ry=\"10\" style=\"stroke: #383838; stroke-width: 1.5;\" width=\"71\" x=\"350.5\" y=\"41\"/><text fill=\"#000000\" font-family=\"sans-serif\" font-size=\"12\" font-style=\"italic\" lengthAdjust=\"spacingAndGlyphs\" textLength=\"69\" x=\"351.5\" y=\"57.1387\">«attribute»</text><text fill=\"#000000\" font-family=\"sans-serif\" font-size=\"12\" lengthAdjust=\"spacingAndGlyphs\" textLength=\"4\" x=\"384\" y=\"71.1074\">f</text><line style=\"stroke: #383838; stroke-width: 1.5;\" x1=\"351.5\" x2=\"420.5\" y1=\"78.9375\" y2=\"78.9375\"/></a><!--MD5=[fd4143e9d270a159db93a4ea2a975926]\n",
       "class E9--><a href=\"psysml:b8cf583e-a2e4-421e-986b-a2654bc5da1a\" target=\"_top\" title=\"psysml:b8cf583e-a2e4-421e-986b-a2654bc5da1a\" xlink:actuate=\"onRequest\" xlink:href=\"psysml:b8cf583e-a2e4-421e-986b-a2654bc5da1a\" xlink:show=\"new\" xlink:title=\"psysml:b8cf583e-a2e4-421e-986b-a2654bc5da1a\" xlink:type=\"simple\"><rect fill=\"#FFFFFF\" height=\"45.9375\" id=\"E9\" rx=\"10\" ry=\"10\" style=\"stroke: #383838; stroke-width: 1.5;\" width=\"71\" x=\"244.5\" y=\"41\"/><text fill=\"#000000\" font-family=\"sans-serif\" font-size=\"12\" font-style=\"italic\" lengthAdjust=\"spacingAndGlyphs\" textLength=\"69\" x=\"245.5\" y=\"57.1387\">«attribute»</text><text fill=\"#000000\" font-family=\"sans-serif\" font-size=\"12\" lengthAdjust=\"spacingAndGlyphs\" textLength=\"8\" x=\"276\" y=\"71.1074\">g</text><line style=\"stroke: #383838; stroke-width: 1.5;\" x1=\"245.5\" x2=\"314.5\" y1=\"78.9375\" y2=\"78.9375\"/></a><!--MD5=[96f4274e9e20536e775497830990834d]\n",
       "class E10--><a href=\"psysml:0aa11811-cac3-458e-8be5-17e4f08795b7\" target=\"_top\" title=\"psysml:0aa11811-cac3-458e-8be5-17e4f08795b7\" xlink:actuate=\"onRequest\" xlink:href=\"psysml:0aa11811-cac3-458e-8be5-17e4f08795b7\" xlink:show=\"new\" xlink:title=\"psysml:0aa11811-cac3-458e-8be5-17e4f08795b7\" xlink:type=\"simple\"><rect fill=\"#FFFFFF\" height=\"45.9375\" id=\"E10\" rx=\"10\" ry=\"10\" style=\"stroke: #383838; stroke-width: 1.5;\" width=\"71\" x=\"138.5\" y=\"41\"/><text fill=\"#000000\" font-family=\"sans-serif\" font-size=\"12\" font-style=\"italic\" lengthAdjust=\"spacingAndGlyphs\" textLength=\"69\" x=\"139.5\" y=\"57.1387\">«attribute»</text><text fill=\"#000000\" font-family=\"sans-serif\" font-size=\"12\" lengthAdjust=\"spacingAndGlyphs\" textLength=\"8\" x=\"170\" y=\"71.1074\">b</text><line style=\"stroke: #383838; stroke-width: 1.5;\" x1=\"139.5\" x2=\"208.5\" y1=\"78.9375\" y2=\"78.9375\"/></a><!--MD5=[1dd1bfd58a279cf63c5f349dbc8fc6a1]\n",
       "class E11--><a href=\"psysml:4713065a-36eb-4143-8ed6-c41cfc39d881\" target=\"_top\" title=\"psysml:4713065a-36eb-4143-8ed6-c41cfc39d881\" xlink:actuate=\"onRequest\" xlink:href=\"psysml:4713065a-36eb-4143-8ed6-c41cfc39d881\" xlink:show=\"new\" xlink:title=\"psysml:4713065a-36eb-4143-8ed6-c41cfc39d881\" xlink:type=\"simple\"><rect fill=\"#FFFFFF\" height=\"45.9375\" id=\"E11\" rx=\"10\" ry=\"10\" style=\"stroke: #383838; stroke-width: 1.5;\" width=\"71\" x=\"32.5\" y=\"41\"/><text fill=\"#000000\" font-family=\"sans-serif\" font-size=\"12\" font-style=\"italic\" lengthAdjust=\"spacingAndGlyphs\" textLength=\"69\" x=\"33.5\" y=\"57.1387\">«attribute»</text><text fill=\"#000000\" font-family=\"sans-serif\" font-size=\"12\" lengthAdjust=\"spacingAndGlyphs\" textLength=\"7\" x=\"64.5\" y=\"71.1074\">c</text><line style=\"stroke: #383838; stroke-width: 1.5;\" x1=\"33.5\" x2=\"102.5\" y1=\"78.9375\" y2=\"78.9375\"/></a><text fill=\"#000000\" font-family=\"sans-serif\" font-size=\"14\" lengthAdjust=\"spacingAndGlyphs\" textLength=\"9\" x=\"567.5\" y=\"42.6982\">p</text><rect fill=\"#383838\" height=\"12\" style=\"stroke: #F8F8F8; stroke-width: 1.5;\" width=\"12\" x=\"566\" y=\"58\"/><text fill=\"#000000\" font-family=\"sans-serif\" font-size=\"14\" lengthAdjust=\"spacingAndGlyphs\" textLength=\"9\" x=\"614.5\" y=\"42.6982\">q</text><rect fill=\"#383838\" height=\"12\" style=\"stroke: #F8F8F8; stroke-width: 1.5;\" width=\"12\" x=\"613\" y=\"58\"/><text fill=\"#000000\" font-family=\"sans-serif\" font-size=\"14\" lengthAdjust=\"spacingAndGlyphs\" textLength=\"39\" x=\"599.5\" y=\"380.7151\">result</text><rect fill=\"#383838\" height=\"12\" style=\"stroke: #F8F8F8; stroke-width: 1.5;\" width=\"12\" x=\"613\" y=\"355.72\"/><!--MD5=[05d275557350bfb9b23a4ef7222b4c39]\n",
       "link E3 to E2--><a href=\"psysml:0b532ab9-83c4-4e75-92c6-eb24823a8b5d\" target=\"_top\" title=\"psysml:0b532ab9-83c4-4e75-92c6-eb24823a8b5d\" xlink:actuate=\"onRequest\" xlink:href=\"psysml:0b532ab9-83c4-4e75-92c6-eb24823a8b5d\" xlink:show=\"new\" xlink:title=\"psysml:0b532ab9-83c4-4e75-92c6-eb24823a8b5d\" xlink:type=\"simple\"><path d=\"M488.12,87.06 C486.14,98.3 483.62,112.6 481.1,126.95 \" fill=\"none\" id=\"E3-&gt;E2\" style=\"stroke: #383838; stroke-width: 1.0;\"/><polygon fill=\"#FFFFFF\" points=\"477.58,146.93,473.9835,127.0035,487.7711,129.4331,477.58,146.93\" style=\"stroke: #383838; stroke-width: 1.0;\"/><ellipse cx=\"476.9423\" cy=\"121.7371\" fill=\"#383838\" rx=\"2\" ry=\"2\" style=\"stroke: #383838; stroke-width: 1.0;\"/><ellipse cx=\"486.7906\" cy=\"123.4725\" fill=\"#383838\" rx=\"2\" ry=\"2\" style=\"stroke: #383838; stroke-width: 1.0;\"/></a><!--MD5=[d64e35e214d98307dd48f06b3f9a6c64]\n",
       "@startuml\r\n",
       "skinparam monochrome true\r\n",
       "skinparam classbackgroundcolor white\r\n",
       "skinparam shadowing false\r\n",
       "skinparam wrapWidth 300\r\n",
       "hide circle\r\n",
       "\r\n",
       "package \"ParameterTest\" as E1  [[psysml:a676bd1d-a902-490f-aa39-52389ae12c12 ]]  {\r\n",
       "comp def \"A\" as E2  <<(T,blue) attribute def>> [[psysml:da28d9c5-e66b-4d93-bbca-9dea65a864c0 ]] {\r\n",
       "- - attributes - -\r\n",
       "x: String\r\n",
       "y: A\r\n",
       "}\r\n",
       "comp usage \"a: A\" as E3  <<(T,blue) attribute>> [[psysml:8df57e9c-49a1-414c-8fdd-827b36a310a4 ]] {\r\n",
       "}\r\n",
       "rec def \"F\" as E4  <<(T,blue) calculation def>> [[psysml:40a467ef-e18b-46ff-840a-6dc079db3448 ]] {\r\n",
       "portin \"p\" as E5  [[psysml:5802290c-01bb-4d71-b710-026b61c78f11 ]] \r\n",
       "portin \"q\" as E6  [[psysml:197907df-8789-46a9-bbed-d5f940e1c2ab ]] \r\n",
       "portout \"result\" as E7  [[psysml:e7c52caa-c6a6-4daa-b328-953e2590a8bc ]] \r\n",
       "}\r\n",
       "\r\n",
       "comp usage \"f\" as E8  <<(T,blue) attribute>> [[psysml:2237367a-6968-472a-8f6b-3570950aa6b8 ]] {\r\n",
       "}\r\n",
       "comp usage \"g\" as E9  <<(T,blue) attribute>> [[psysml:b8cf583e-a2e4-421e-986b-a2654bc5da1a ]] {\r\n",
       "}\r\n",
       "comp usage \"b\" as E10  <<(T,blue) attribute>> [[psysml:0aa11811-cac3-458e-8be5-17e4f08795b7 ]] {\r\n",
       "}\r\n",
       "comp usage \"c\" as E11  <<(T,blue) attribute>> [[psysml:4713065a-36eb-4143-8ed6-c41cfc39d881 ]] {\r\n",
       "}\r\n",
       "}\r\n",
       "E3 - -:|> E2 [[psysml:0b532ab9-83c4-4e75-92c6-eb24823a8b5d ]] \r\n",
       "@enduml\r\n",
       "\n",
       "PlantUML version 1.2020.13(Sat Jun 13 12:26:38 UTC 2020)\n",
       "(EPL source distribution)\n",
       "Java Runtime: OpenJDK Runtime Environment\n",
       "JVM: OpenJDK 64-Bit Server VM\n",
       "Default Encoding: UTF-8\n",
       "Language: en\n",
       "Country: null\n",
       "--></g></svg>"
      ]
     },
     "execution_count": 43,
     "metadata": {},
     "output_type": "execute_result"
    }
   ],
   "source": [
    "%viz --style=\"DEFAULT\" --view=\"MIXED\" \"ParameterTest\""
   ]
  },
  {
   "cell_type": "code",
   "execution_count": 44,
   "id": "92b23dca",
   "metadata": {
    "execution": {
     "iopub.execute_input": "2021-10-03T08:28:27.429202Z",
     "iopub.status.busy": "2021-10-03T08:28:27.428804Z",
     "iopub.status.idle": "2021-10-03T08:28:27.481240Z",
     "shell.execute_reply": "2021-10-03T08:28:27.480831Z"
    }
   },
   "outputs": [
    {
     "data": {
      "image/svg+xml": [
       "<?xml version=\"1.0\" encoding=\"UTF-8\" standalone=\"no\"?><svg xmlns=\"http://www.w3.org/2000/svg\" xmlns:xlink=\"http://www.w3.org/1999/xlink\" contentScriptType=\"application/ecmascript\" contentStyleType=\"text/css\" height=\"403px\" preserveAspectRatio=\"none\" style=\"width:740px;height:403px;\" version=\"1.1\" viewBox=\"0 0 740 403\" width=\"740px\" zoomAndPan=\"magnify\"><defs/><g><!--MD5=[fbc87193dbaf4d95561dea2c320d4a47]\n",
       "cluster E1--><a href=\"psysml:a676bd1d-a902-490f-aa39-52389ae12c12\" target=\"_top\" title=\"psysml:a676bd1d-a902-490f-aa39-52389ae12c12\" xlink:actuate=\"onRequest\" xlink:href=\"psysml:a676bd1d-a902-490f-aa39-52389ae12c12\" xlink:show=\"new\" xlink:title=\"psysml:a676bd1d-a902-490f-aa39-52389ae12c12\" xlink:type=\"simple\"><polygon fill=\"#FFFFFF\" points=\"16,6,124,6,131,28.2969,718,28.2969,718,391.72,16,391.72,16,6\" style=\"stroke: #000000; stroke-width: 1.5;\"/><line style=\"stroke: #000000; stroke-width: 1.5;\" x1=\"16\" x2=\"131\" y1=\"28.2969\" y2=\"28.2969\"/><text fill=\"#000000\" font-family=\"sans-serif\" font-size=\"14\" font-weight=\"bold\" lengthAdjust=\"spacingAndGlyphs\" textLength=\"102\" x=\"20\" y=\"20.9951\">ParameterTest</text></a><!--MD5=[f6df4d0ebaf0b5dfb2ced0ae5af7c670]\n",
       "cluster E4--><a href=\"psysml:40a467ef-e18b-46ff-840a-6dc079db3448\" target=\"_top\" title=\"psysml:40a467ef-e18b-46ff-840a-6dc079db3448\" xlink:actuate=\"onRequest\" xlink:href=\"psysml:40a467ef-e18b-46ff-840a-6dc079db3448\" xlink:show=\"new\" xlink:title=\"psysml:40a467ef-e18b-46ff-840a-6dc079db3448\" xlink:type=\"simple\"><rect fill=\"#FFFFFF\" height=\"297.72\" id=\"E4\" style=\"stroke: #383838; stroke-width: 1.5;\" width=\"148\" x=\"554\" y=\"64\"/><rect fill=\"#F8F8F8\" height=\"37.9375\" style=\"stroke: #383838; stroke-width: 1.5;\" width=\"148\" x=\"554\" y=\"64\"/><text fill=\"#000000\" font-family=\"sans-serif\" font-size=\"12\" font-style=\"italic\" lengthAdjust=\"spacingAndGlyphs\" textLength=\"106\" x=\"575\" y=\"80.1387\">«calculation def»</text><text fill=\"#000000\" font-family=\"sans-serif\" font-size=\"12\" lengthAdjust=\"spacingAndGlyphs\" textLength=\"7\" x=\"624.5\" y=\"94.1074\">F</text></a><!--MD5=[b4997ac47864f28c2f74865a473b2911]\n",
       "class E2--><a href=\"psysml:da28d9c5-e66b-4d93-bbca-9dea65a864c0\" target=\"_top\" title=\"psysml:da28d9c5-e66b-4d93-bbca-9dea65a864c0\" xlink:actuate=\"onRequest\" xlink:href=\"psysml:da28d9c5-e66b-4d93-bbca-9dea65a864c0\" xlink:show=\"new\" xlink:title=\"psysml:da28d9c5-e66b-4d93-bbca-9dea65a864c0\" xlink:type=\"simple\"><rect fill=\"#FFFFFF\" height=\"88.3516\" id=\"E2\" style=\"stroke: #383838; stroke-width: 1.5;\" width=\"95\" x=\"422.5\" y=\"147\"/><text fill=\"#000000\" font-family=\"sans-serif\" font-size=\"12\" font-style=\"italic\" lengthAdjust=\"spacingAndGlyphs\" textLength=\"93\" x=\"423.5\" y=\"163.1387\">«attribute def»</text><text fill=\"#000000\" font-family=\"sans-serif\" font-size=\"12\" lengthAdjust=\"spacingAndGlyphs\" textLength=\"8\" x=\"466\" y=\"177.1074\">A</text><line style=\"stroke: #383838; stroke-width: 1.5;\" x1=\"423.5\" x2=\"516.5\" y1=\"184.9375\" y2=\"184.9375\"/><text fill=\"#000000\" font-family=\"sans-serif\" font-size=\"11\" lengthAdjust=\"spacingAndGlyphs\" textLength=\"48\" x=\"428.5\" y=\"215.9526\">x: String</text><text fill=\"#000000\" font-family=\"sans-serif\" font-size=\"11\" lengthAdjust=\"spacingAndGlyphs\" textLength=\"21\" x=\"428.5\" y=\"228.7573\">y: A</text><line style=\"stroke: #383838; stroke-width: 1.0;\" x1=\"423.5\" x2=\"442.5\" y1=\"199.3398\" y2=\"199.3398\"/><text fill=\"#000000\" font-family=\"sans-serif\" font-size=\"11\" lengthAdjust=\"spacingAndGlyphs\" textLength=\"55\" x=\"442.5\" y=\"202.6479\">attributes</text><line style=\"stroke: #383838; stroke-width: 1.0;\" x1=\"497.5\" x2=\"516.5\" y1=\"199.3398\" y2=\"199.3398\"/></a><!--MD5=[09b614a08d8cba4a07c9adeb5e0fee81]\n",
       "class E3--><a href=\"psysml:8df57e9c-49a1-414c-8fdd-827b36a310a4\" target=\"_top\" title=\"psysml:8df57e9c-49a1-414c-8fdd-827b36a310a4\" xlink:actuate=\"onRequest\" xlink:href=\"psysml:8df57e9c-49a1-414c-8fdd-827b36a310a4\" xlink:show=\"new\" xlink:title=\"psysml:8df57e9c-49a1-414c-8fdd-827b36a310a4\" xlink:type=\"simple\"><rect fill=\"#FFFFFF\" height=\"45.9375\" id=\"E3\" rx=\"10\" ry=\"10\" style=\"stroke: #383838; stroke-width: 1.5;\" width=\"71\" x=\"456.5\" y=\"41\"/><text fill=\"#000000\" font-family=\"sans-serif\" font-size=\"12\" font-style=\"italic\" lengthAdjust=\"spacingAndGlyphs\" textLength=\"69\" x=\"457.5\" y=\"57.1387\">«attribute»</text><text fill=\"#000000\" font-family=\"sans-serif\" font-size=\"12\" lengthAdjust=\"spacingAndGlyphs\" textLength=\"24\" x=\"480\" y=\"71.1074\">a: A</text><line style=\"stroke: #383838; stroke-width: 1.5;\" x1=\"457.5\" x2=\"526.5\" y1=\"78.9375\" y2=\"78.9375\"/></a><!--MD5=[b9389687b975829384b498ac4b7476b2]\n",
       "class E8--><a href=\"psysml:2237367a-6968-472a-8f6b-3570950aa6b8\" target=\"_top\" title=\"psysml:2237367a-6968-472a-8f6b-3570950aa6b8\" xlink:actuate=\"onRequest\" xlink:href=\"psysml:2237367a-6968-472a-8f6b-3570950aa6b8\" xlink:show=\"new\" xlink:title=\"psysml:2237367a-6968-472a-8f6b-3570950aa6b8\" xlink:type=\"simple\"><rect fill=\"#FFFFFF\" height=\"45.9375\" id=\"E8\" rx=\"10\" ry=\"10\" style=\"stroke: #383838; stroke-width: 1.5;\" width=\"71\" x=\"350.5\" y=\"41\"/><text fill=\"#000000\" font-family=\"sans-serif\" font-size=\"12\" font-style=\"italic\" lengthAdjust=\"spacingAndGlyphs\" textLength=\"69\" x=\"351.5\" y=\"57.1387\">«attribute»</text><text fill=\"#000000\" font-family=\"sans-serif\" font-size=\"12\" lengthAdjust=\"spacingAndGlyphs\" textLength=\"4\" x=\"384\" y=\"71.1074\">f</text><line style=\"stroke: #383838; stroke-width: 1.5;\" x1=\"351.5\" x2=\"420.5\" y1=\"78.9375\" y2=\"78.9375\"/></a><!--MD5=[fd4143e9d270a159db93a4ea2a975926]\n",
       "class E9--><a href=\"psysml:b8cf583e-a2e4-421e-986b-a2654bc5da1a\" target=\"_top\" title=\"psysml:b8cf583e-a2e4-421e-986b-a2654bc5da1a\" xlink:actuate=\"onRequest\" xlink:href=\"psysml:b8cf583e-a2e4-421e-986b-a2654bc5da1a\" xlink:show=\"new\" xlink:title=\"psysml:b8cf583e-a2e4-421e-986b-a2654bc5da1a\" xlink:type=\"simple\"><rect fill=\"#FFFFFF\" height=\"45.9375\" id=\"E9\" rx=\"10\" ry=\"10\" style=\"stroke: #383838; stroke-width: 1.5;\" width=\"71\" x=\"244.5\" y=\"41\"/><text fill=\"#000000\" font-family=\"sans-serif\" font-size=\"12\" font-style=\"italic\" lengthAdjust=\"spacingAndGlyphs\" textLength=\"69\" x=\"245.5\" y=\"57.1387\">«attribute»</text><text fill=\"#000000\" font-family=\"sans-serif\" font-size=\"12\" lengthAdjust=\"spacingAndGlyphs\" textLength=\"8\" x=\"276\" y=\"71.1074\">g</text><line style=\"stroke: #383838; stroke-width: 1.5;\" x1=\"245.5\" x2=\"314.5\" y1=\"78.9375\" y2=\"78.9375\"/></a><!--MD5=[96f4274e9e20536e775497830990834d]\n",
       "class E10--><a href=\"psysml:0aa11811-cac3-458e-8be5-17e4f08795b7\" target=\"_top\" title=\"psysml:0aa11811-cac3-458e-8be5-17e4f08795b7\" xlink:actuate=\"onRequest\" xlink:href=\"psysml:0aa11811-cac3-458e-8be5-17e4f08795b7\" xlink:show=\"new\" xlink:title=\"psysml:0aa11811-cac3-458e-8be5-17e4f08795b7\" xlink:type=\"simple\"><rect fill=\"#FFFFFF\" height=\"45.9375\" id=\"E10\" rx=\"10\" ry=\"10\" style=\"stroke: #383838; stroke-width: 1.5;\" width=\"71\" x=\"138.5\" y=\"41\"/><text fill=\"#000000\" font-family=\"sans-serif\" font-size=\"12\" font-style=\"italic\" lengthAdjust=\"spacingAndGlyphs\" textLength=\"69\" x=\"139.5\" y=\"57.1387\">«attribute»</text><text fill=\"#000000\" font-family=\"sans-serif\" font-size=\"12\" lengthAdjust=\"spacingAndGlyphs\" textLength=\"8\" x=\"170\" y=\"71.1074\">b</text><line style=\"stroke: #383838; stroke-width: 1.5;\" x1=\"139.5\" x2=\"208.5\" y1=\"78.9375\" y2=\"78.9375\"/></a><!--MD5=[1dd1bfd58a279cf63c5f349dbc8fc6a1]\n",
       "class E11--><a href=\"psysml:4713065a-36eb-4143-8ed6-c41cfc39d881\" target=\"_top\" title=\"psysml:4713065a-36eb-4143-8ed6-c41cfc39d881\" xlink:actuate=\"onRequest\" xlink:href=\"psysml:4713065a-36eb-4143-8ed6-c41cfc39d881\" xlink:show=\"new\" xlink:title=\"psysml:4713065a-36eb-4143-8ed6-c41cfc39d881\" xlink:type=\"simple\"><rect fill=\"#FFFFFF\" height=\"45.9375\" id=\"E11\" rx=\"10\" ry=\"10\" style=\"stroke: #383838; stroke-width: 1.5;\" width=\"71\" x=\"32.5\" y=\"41\"/><text fill=\"#000000\" font-family=\"sans-serif\" font-size=\"12\" font-style=\"italic\" lengthAdjust=\"spacingAndGlyphs\" textLength=\"69\" x=\"33.5\" y=\"57.1387\">«attribute»</text><text fill=\"#000000\" font-family=\"sans-serif\" font-size=\"12\" lengthAdjust=\"spacingAndGlyphs\" textLength=\"7\" x=\"64.5\" y=\"71.1074\">c</text><line style=\"stroke: #383838; stroke-width: 1.5;\" x1=\"33.5\" x2=\"102.5\" y1=\"78.9375\" y2=\"78.9375\"/></a><text fill=\"#000000\" font-family=\"sans-serif\" font-size=\"14\" lengthAdjust=\"spacingAndGlyphs\" textLength=\"9\" x=\"567.5\" y=\"42.6982\">p</text><rect fill=\"#383838\" height=\"12\" style=\"stroke: #F8F8F8; stroke-width: 1.5;\" width=\"12\" x=\"566\" y=\"58\"/><text fill=\"#000000\" font-family=\"sans-serif\" font-size=\"14\" lengthAdjust=\"spacingAndGlyphs\" textLength=\"9\" x=\"614.5\" y=\"42.6982\">q</text><rect fill=\"#383838\" height=\"12\" style=\"stroke: #F8F8F8; stroke-width: 1.5;\" width=\"12\" x=\"613\" y=\"58\"/><text fill=\"#000000\" font-family=\"sans-serif\" font-size=\"14\" lengthAdjust=\"spacingAndGlyphs\" textLength=\"39\" x=\"599.5\" y=\"380.7151\">result</text><rect fill=\"#383838\" height=\"12\" style=\"stroke: #F8F8F8; stroke-width: 1.5;\" width=\"12\" x=\"613\" y=\"355.72\"/><!--MD5=[05d275557350bfb9b23a4ef7222b4c39]\n",
       "link E3 to E2--><a href=\"psysml:0b532ab9-83c4-4e75-92c6-eb24823a8b5d\" target=\"_top\" title=\"psysml:0b532ab9-83c4-4e75-92c6-eb24823a8b5d\" xlink:actuate=\"onRequest\" xlink:href=\"psysml:0b532ab9-83c4-4e75-92c6-eb24823a8b5d\" xlink:show=\"new\" xlink:title=\"psysml:0b532ab9-83c4-4e75-92c6-eb24823a8b5d\" xlink:type=\"simple\"><path d=\"M488.12,87.06 C486.14,98.3 483.62,112.6 481.1,126.95 \" fill=\"none\" id=\"E3-&gt;E2\" style=\"stroke: #383838; stroke-width: 1.0;\"/><polygon fill=\"#FFFFFF\" points=\"477.58,146.93,473.9835,127.0035,487.7711,129.4331,477.58,146.93\" style=\"stroke: #383838; stroke-width: 1.0;\"/><ellipse cx=\"476.9423\" cy=\"121.7371\" fill=\"#383838\" rx=\"2\" ry=\"2\" style=\"stroke: #383838; stroke-width: 1.0;\"/><ellipse cx=\"486.7906\" cy=\"123.4725\" fill=\"#383838\" rx=\"2\" ry=\"2\" style=\"stroke: #383838; stroke-width: 1.0;\"/></a><!--MD5=[528db4c27e22e4e428cfb6e5f96b5d45]\n",
       "@startuml\r\n",
       "top to bottom direction\r\n",
       "skinparam monochrome true\r\n",
       "skinparam classbackgroundcolor white\r\n",
       "skinparam shadowing false\r\n",
       "skinparam wrapWidth 300\r\n",
       "hide circle\r\n",
       "\r\n",
       "package \"ParameterTest\" as E1  [[psysml:a676bd1d-a902-490f-aa39-52389ae12c12 ]]  {\r\n",
       "comp def \"A\" as E2  <<(T,blue) attribute def>> [[psysml:da28d9c5-e66b-4d93-bbca-9dea65a864c0 ]] {\r\n",
       "- - attributes - -\r\n",
       "x: String\r\n",
       "y: A\r\n",
       "}\r\n",
       "comp usage \"a: A\" as E3  <<(T,blue) attribute>> [[psysml:8df57e9c-49a1-414c-8fdd-827b36a310a4 ]] {\r\n",
       "}\r\n",
       "rec def \"F\" as E4  <<(T,blue) calculation def>> [[psysml:40a467ef-e18b-46ff-840a-6dc079db3448 ]] {\r\n",
       "portin \"p\" as E5  [[psysml:5802290c-01bb-4d71-b710-026b61c78f11 ]] \r\n",
       "portin \"q\" as E6  [[psysml:197907df-8789-46a9-bbed-d5f940e1c2ab ]] \r\n",
       "portout \"result\" as E7  [[psysml:e7c52caa-c6a6-4daa-b328-953e2590a8bc ]] \r\n",
       "}\r\n",
       "\r\n",
       "comp usage \"f\" as E8  <<(T,blue) attribute>> [[psysml:2237367a-6968-472a-8f6b-3570950aa6b8 ]] {\r\n",
       "}\r\n",
       "comp usage \"g\" as E9  <<(T,blue) attribute>> [[psysml:b8cf583e-a2e4-421e-986b-a2654bc5da1a ]] {\r\n",
       "}\r\n",
       "comp usage \"b\" as E10  <<(T,blue) attribute>> [[psysml:0aa11811-cac3-458e-8be5-17e4f08795b7 ]] {\r\n",
       "}\r\n",
       "comp usage \"c\" as E11  <<(T,blue) attribute>> [[psysml:4713065a-36eb-4143-8ed6-c41cfc39d881 ]] {\r\n",
       "}\r\n",
       "}\r\n",
       "E3 - -:|> E2 [[psysml:0b532ab9-83c4-4e75-92c6-eb24823a8b5d ]] \r\n",
       "@enduml\r\n",
       "\n",
       "PlantUML version 1.2020.13(Sat Jun 13 12:26:38 UTC 2020)\n",
       "(EPL source distribution)\n",
       "Java Runtime: OpenJDK Runtime Environment\n",
       "JVM: OpenJDK 64-Bit Server VM\n",
       "Default Encoding: UTF-8\n",
       "Language: en\n",
       "Country: null\n",
       "--></g></svg>"
      ]
     },
     "execution_count": 44,
     "metadata": {},
     "output_type": "execute_result"
    }
   ],
   "source": [
    "%viz --style=\"TB\" --view=\"Default\" \"ParameterTest\""
   ]
  },
  {
   "cell_type": "code",
   "execution_count": 45,
   "id": "ac0a9db3",
   "metadata": {
    "execution": {
     "iopub.execute_input": "2021-10-03T08:28:27.530043Z",
     "iopub.status.busy": "2021-10-03T08:28:27.529644Z",
     "iopub.status.idle": "2021-10-03T08:28:27.578984Z",
     "shell.execute_reply": "2021-10-03T08:28:27.578619Z"
    }
   },
   "outputs": [
    {
     "data": {
      "image/svg+xml": [
       "<?xml version=\"1.0\" encoding=\"UTF-8\" standalone=\"no\"?><svg xmlns=\"http://www.w3.org/2000/svg\" xmlns:xlink=\"http://www.w3.org/1999/xlink\" contentScriptType=\"application/ecmascript\" contentStyleType=\"text/css\" height=\"280px\" preserveAspectRatio=\"none\" style=\"width:710px;height:280px;\" version=\"1.1\" viewBox=\"0 0 710 280\" width=\"710px\" zoomAndPan=\"magnify\"><defs/><g><!--MD5=[fbc87193dbaf4d95561dea2c320d4a47]\n",
       "cluster E1--><a href=\"psysml:a676bd1d-a902-490f-aa39-52389ae12c12\" target=\"_top\" title=\"psysml:a676bd1d-a902-490f-aa39-52389ae12c12\" xlink:actuate=\"onRequest\" xlink:href=\"psysml:a676bd1d-a902-490f-aa39-52389ae12c12\" xlink:show=\"new\" xlink:title=\"psysml:a676bd1d-a902-490f-aa39-52389ae12c12\" xlink:type=\"simple\"><polygon fill=\"#FFFFFF\" points=\"16,6,124,6,131,28.2969,688,28.2969,688,268,16,268,16,6\" style=\"stroke: #000000; stroke-width: 1.5;\"/><line style=\"stroke: #000000; stroke-width: 1.5;\" x1=\"16\" x2=\"131\" y1=\"28.2969\" y2=\"28.2969\"/><text fill=\"#000000\" font-family=\"sans-serif\" font-size=\"14\" font-weight=\"bold\" lengthAdjust=\"spacingAndGlyphs\" textLength=\"102\" x=\"20\" y=\"20.9951\">ParameterTest</text></a><!--MD5=[b4997ac47864f28c2f74865a473b2911]\n",
       "class E2--><a href=\"psysml:da28d9c5-e66b-4d93-bbca-9dea65a864c0\" target=\"_top\" title=\"psysml:da28d9c5-e66b-4d93-bbca-9dea65a864c0\" xlink:actuate=\"onRequest\" xlink:href=\"psysml:da28d9c5-e66b-4d93-bbca-9dea65a864c0\" xlink:show=\"new\" xlink:title=\"psysml:da28d9c5-e66b-4d93-bbca-9dea65a864c0\" xlink:type=\"simple\"><rect fill=\"#FFFFFF\" height=\"88.3516\" id=\"E2\" style=\"stroke: #383838; stroke-width: 1.5;\" width=\"95\" x=\"498.5\" y=\"164\"/><text fill=\"#000000\" font-family=\"sans-serif\" font-size=\"12\" font-style=\"italic\" lengthAdjust=\"spacingAndGlyphs\" textLength=\"93\" x=\"499.5\" y=\"180.1387\">«attribute def»</text><text fill=\"#000000\" font-family=\"sans-serif\" font-size=\"12\" lengthAdjust=\"spacingAndGlyphs\" textLength=\"8\" x=\"542\" y=\"194.1074\">A</text><line style=\"stroke: #383838; stroke-width: 1.5;\" x1=\"499.5\" x2=\"592.5\" y1=\"201.9375\" y2=\"201.9375\"/><text fill=\"#000000\" font-family=\"sans-serif\" font-size=\"11\" lengthAdjust=\"spacingAndGlyphs\" textLength=\"48\" x=\"504.5\" y=\"232.9526\">x: String</text><text fill=\"#000000\" font-family=\"sans-serif\" font-size=\"11\" lengthAdjust=\"spacingAndGlyphs\" textLength=\"21\" x=\"504.5\" y=\"245.7573\">y: A</text><line style=\"stroke: #383838; stroke-width: 1.0;\" x1=\"499.5\" x2=\"518.5\" y1=\"216.3398\" y2=\"216.3398\"/><text fill=\"#000000\" font-family=\"sans-serif\" font-size=\"11\" lengthAdjust=\"spacingAndGlyphs\" textLength=\"55\" x=\"518.5\" y=\"219.6479\">attributes</text><line style=\"stroke: #383838; stroke-width: 1.0;\" x1=\"573.5\" x2=\"592.5\" y1=\"216.3398\" y2=\"216.3398\"/></a><!--MD5=[09b614a08d8cba4a07c9adeb5e0fee81]\n",
       "class E3--><a href=\"psysml:8df57e9c-49a1-414c-8fdd-827b36a310a4\" target=\"_top\" title=\"psysml:8df57e9c-49a1-414c-8fdd-827b36a310a4\" xlink:actuate=\"onRequest\" xlink:href=\"psysml:8df57e9c-49a1-414c-8fdd-827b36a310a4\" xlink:show=\"new\" xlink:title=\"psysml:8df57e9c-49a1-414c-8fdd-827b36a310a4\" xlink:type=\"simple\"><rect fill=\"#FFFFFF\" height=\"45.9375\" id=\"E3\" rx=\"10\" ry=\"10\" style=\"stroke: #383838; stroke-width: 1.5;\" width=\"71\" x=\"600.5\" y=\"41\"/><text fill=\"#000000\" font-family=\"sans-serif\" font-size=\"12\" font-style=\"italic\" lengthAdjust=\"spacingAndGlyphs\" textLength=\"69\" x=\"601.5\" y=\"57.1387\">«attribute»</text><text fill=\"#000000\" font-family=\"sans-serif\" font-size=\"12\" lengthAdjust=\"spacingAndGlyphs\" textLength=\"24\" x=\"624\" y=\"71.1074\">a: A</text><line style=\"stroke: #383838; stroke-width: 1.5;\" x1=\"601.5\" x2=\"670.5\" y1=\"78.9375\" y2=\"78.9375\"/></a><!--MD5=[ebbe1d658d1005bcc118a6aa81145e00]\n",
       "class E4--><a href=\"psysml:40a467ef-e18b-46ff-840a-6dc079db3448\" target=\"_top\" title=\"psysml:40a467ef-e18b-46ff-840a-6dc079db3448\" xlink:actuate=\"onRequest\" xlink:href=\"psysml:40a467ef-e18b-46ff-840a-6dc079db3448\" xlink:show=\"new\" xlink:title=\"psysml:40a467ef-e18b-46ff-840a-6dc079db3448\" xlink:type=\"simple\"><rect fill=\"#FFFFFF\" height=\"45.9375\" id=\"E4\" style=\"stroke: #383838; stroke-width: 1.5;\" width=\"108\" x=\"457\" y=\"41\"/><text fill=\"#000000\" font-family=\"sans-serif\" font-size=\"12\" font-style=\"italic\" lengthAdjust=\"spacingAndGlyphs\" textLength=\"106\" x=\"458\" y=\"57.1387\">«calculation def»</text><text fill=\"#000000\" font-family=\"sans-serif\" font-size=\"12\" lengthAdjust=\"spacingAndGlyphs\" textLength=\"7\" x=\"507.5\" y=\"71.1074\">F</text><line style=\"stroke: #383838; stroke-width: 1.5;\" x1=\"458\" x2=\"564\" y1=\"78.9375\" y2=\"78.9375\"/></a><!--MD5=[270fce915f116d4de14055a7c1d9a0f3]\n",
       "class E5--><a href=\"psysml:2237367a-6968-472a-8f6b-3570950aa6b8\" target=\"_top\" title=\"psysml:2237367a-6968-472a-8f6b-3570950aa6b8\" xlink:actuate=\"onRequest\" xlink:href=\"psysml:2237367a-6968-472a-8f6b-3570950aa6b8\" xlink:show=\"new\" xlink:title=\"psysml:2237367a-6968-472a-8f6b-3570950aa6b8\" xlink:type=\"simple\"><rect fill=\"#FFFFFF\" height=\"45.9375\" id=\"E5\" rx=\"10\" ry=\"10\" style=\"stroke: #383838; stroke-width: 1.5;\" width=\"71\" x=\"350.5\" y=\"41\"/><text fill=\"#000000\" font-family=\"sans-serif\" font-size=\"12\" font-style=\"italic\" lengthAdjust=\"spacingAndGlyphs\" textLength=\"69\" x=\"351.5\" y=\"57.1387\">«attribute»</text><text fill=\"#000000\" font-family=\"sans-serif\" font-size=\"12\" lengthAdjust=\"spacingAndGlyphs\" textLength=\"4\" x=\"384\" y=\"71.1074\">f</text><line style=\"stroke: #383838; stroke-width: 1.5;\" x1=\"351.5\" x2=\"420.5\" y1=\"78.9375\" y2=\"78.9375\"/></a><!--MD5=[60a26617385b1d2d0262a64233df1f8d]\n",
       "class E6--><a href=\"psysml:b8cf583e-a2e4-421e-986b-a2654bc5da1a\" target=\"_top\" title=\"psysml:b8cf583e-a2e4-421e-986b-a2654bc5da1a\" xlink:actuate=\"onRequest\" xlink:href=\"psysml:b8cf583e-a2e4-421e-986b-a2654bc5da1a\" xlink:show=\"new\" xlink:title=\"psysml:b8cf583e-a2e4-421e-986b-a2654bc5da1a\" xlink:type=\"simple\"><rect fill=\"#FFFFFF\" height=\"45.9375\" id=\"E6\" rx=\"10\" ry=\"10\" style=\"stroke: #383838; stroke-width: 1.5;\" width=\"71\" x=\"244.5\" y=\"41\"/><text fill=\"#000000\" font-family=\"sans-serif\" font-size=\"12\" font-style=\"italic\" lengthAdjust=\"spacingAndGlyphs\" textLength=\"69\" x=\"245.5\" y=\"57.1387\">«attribute»</text><text fill=\"#000000\" font-family=\"sans-serif\" font-size=\"12\" lengthAdjust=\"spacingAndGlyphs\" textLength=\"8\" x=\"276\" y=\"71.1074\">g</text><line style=\"stroke: #383838; stroke-width: 1.5;\" x1=\"245.5\" x2=\"314.5\" y1=\"78.9375\" y2=\"78.9375\"/></a><!--MD5=[2156ba9850f5573cc1fc38a6a4b2f02b]\n",
       "class E7--><a href=\"psysml:0aa11811-cac3-458e-8be5-17e4f08795b7\" target=\"_top\" title=\"psysml:0aa11811-cac3-458e-8be5-17e4f08795b7\" xlink:actuate=\"onRequest\" xlink:href=\"psysml:0aa11811-cac3-458e-8be5-17e4f08795b7\" xlink:show=\"new\" xlink:title=\"psysml:0aa11811-cac3-458e-8be5-17e4f08795b7\" xlink:type=\"simple\"><rect fill=\"#FFFFFF\" height=\"45.9375\" id=\"E7\" rx=\"10\" ry=\"10\" style=\"stroke: #383838; stroke-width: 1.5;\" width=\"71\" x=\"138.5\" y=\"41\"/><text fill=\"#000000\" font-family=\"sans-serif\" font-size=\"12\" font-style=\"italic\" lengthAdjust=\"spacingAndGlyphs\" textLength=\"69\" x=\"139.5\" y=\"57.1387\">«attribute»</text><text fill=\"#000000\" font-family=\"sans-serif\" font-size=\"12\" lengthAdjust=\"spacingAndGlyphs\" textLength=\"8\" x=\"170\" y=\"71.1074\">b</text><line style=\"stroke: #383838; stroke-width: 1.5;\" x1=\"139.5\" x2=\"208.5\" y1=\"78.9375\" y2=\"78.9375\"/></a><!--MD5=[b9389687b975829384b498ac4b7476b2]\n",
       "class E8--><a href=\"psysml:4713065a-36eb-4143-8ed6-c41cfc39d881\" target=\"_top\" title=\"psysml:4713065a-36eb-4143-8ed6-c41cfc39d881\" xlink:actuate=\"onRequest\" xlink:href=\"psysml:4713065a-36eb-4143-8ed6-c41cfc39d881\" xlink:show=\"new\" xlink:title=\"psysml:4713065a-36eb-4143-8ed6-c41cfc39d881\" xlink:type=\"simple\"><rect fill=\"#FFFFFF\" height=\"45.9375\" id=\"E8\" rx=\"10\" ry=\"10\" style=\"stroke: #383838; stroke-width: 1.5;\" width=\"71\" x=\"32.5\" y=\"41\"/><text fill=\"#000000\" font-family=\"sans-serif\" font-size=\"12\" font-style=\"italic\" lengthAdjust=\"spacingAndGlyphs\" textLength=\"69\" x=\"33.5\" y=\"57.1387\">«attribute»</text><text fill=\"#000000\" font-family=\"sans-serif\" font-size=\"12\" lengthAdjust=\"spacingAndGlyphs\" textLength=\"7\" x=\"64.5\" y=\"71.1074\">c</text><line style=\"stroke: #383838; stroke-width: 1.5;\" x1=\"33.5\" x2=\"102.5\" y1=\"78.9375\" y2=\"78.9375\"/></a><!--MD5=[05d275557350bfb9b23a4ef7222b4c39]\n",
       "link E3 to E2--><a href=\"psysml:0b532ab9-83c4-4e75-92c6-eb24823a8b5d\" target=\"_top\" title=\"psysml:0b532ab9-83c4-4e75-92c6-eb24823a8b5d\" xlink:actuate=\"onRequest\" xlink:href=\"psysml:0b532ab9-83c4-4e75-92c6-eb24823a8b5d\" xlink:show=\"new\" xlink:title=\"psysml:0b532ab9-83c4-4e75-92c6-eb24823a8b5d\" xlink:type=\"simple\"><path d=\"M621.94,87.19 C611.77,103.23 597.51,125.73 584.09,146.9 \" fill=\"none\" id=\"E3-&gt;E2\" style=\"stroke: #383838; stroke-width: 1.0;\"/><polygon fill=\"#FFFFFF\" points=\"573.37,163.82,577.6195,144.0225,589.448,151.5115,573.37,163.82\" style=\"stroke: #383838; stroke-width: 1.0;\"/><ellipse cx=\"582.3584\" cy=\"140.2764\" fill=\"#383838\" rx=\"2\" ry=\"2\" style=\"stroke: #383838; stroke-width: 1.0;\"/><ellipse cx=\"590.8073\" cy=\"145.6258\" fill=\"#383838\" rx=\"2\" ry=\"2\" style=\"stroke: #383838; stroke-width: 1.0;\"/></a><!--MD5=[ddeed8deb2209213b62e6cfabaa108b2]\n",
       "reverse link E4 to E2--><a href=\"psysml:5802290c-01bb-4d71-b710-026b61c78f11\" target=\"_top\" title=\"psysml:5802290c-01bb-4d71-b710-026b61c78f11\" xlink:actuate=\"onRequest\" xlink:href=\"psysml:5802290c-01bb-4d71-b710-026b61c78f11\" xlink:show=\"new\" xlink:title=\"psysml:5802290c-01bb-4d71-b710-026b61c78f11\" xlink:type=\"simple\"><path d=\"M519.62,99.96 C524.37,119.25 530.31,143.36 535.36,163.82 \" fill=\"none\" id=\"E4&lt;-E2\" style=\"stroke: #383838; stroke-width: 1.0;\"/><polygon fill=\"#FFFFFF\" points=\"516.47,87.19,514.0229,93.9732,519.3432,98.841,521.7903,92.0577,516.47,87.19\" style=\"stroke: #383838; stroke-width: 1.0;\"/><text fill=\"#000000\" font-family=\"sans-serif\" font-size=\"13\" lengthAdjust=\"spacingAndGlyphs\" textLength=\"8\" x=\"528\" y=\"130.0669\">p</text></a><!--MD5=[b96f5c39e677a1bcd1473fb4245ec901]\n",
       "@startuml\r\n",
       "top to bottom direction\r\n",
       "skinparam monochrome true\r\n",
       "skinparam classbackgroundcolor white\r\n",
       "skinparam shadowing false\r\n",
       "skinparam wrapWidth 300\r\n",
       "hide circle\r\n",
       "\r\n",
       "package \"ParameterTest\" as E1  [[psysml:a676bd1d-a902-490f-aa39-52389ae12c12 ]]  {\r\n",
       "comp def \"A\" as E2  <<(T,blue) attribute def>> [[psysml:da28d9c5-e66b-4d93-bbca-9dea65a864c0 ]] {\r\n",
       "- - attributes - -\r\n",
       "x: String\r\n",
       "y: A\r\n",
       "}\r\n",
       "comp usage \"a: A\" as E3  <<(T,blue) attribute>> [[psysml:8df57e9c-49a1-414c-8fdd-827b36a310a4 ]] {\r\n",
       "}\r\n",
       "comp def \"F\" as E4  <<(T,blue) calculation def>> [[psysml:40a467ef-e18b-46ff-840a-6dc079db3448 ]] {\r\n",
       "}\r\n",
       "comp usage \"f\" as E5  <<(T,blue) attribute>> [[psysml:2237367a-6968-472a-8f6b-3570950aa6b8 ]] {\r\n",
       "}\r\n",
       "comp usage \"g\" as E6  <<(T,blue) attribute>> [[psysml:b8cf583e-a2e4-421e-986b-a2654bc5da1a ]] {\r\n",
       "}\r\n",
       "comp usage \"b\" as E7  <<(T,blue) attribute>> [[psysml:0aa11811-cac3-458e-8be5-17e4f08795b7 ]] {\r\n",
       "}\r\n",
       "comp usage \"c\" as E8  <<(T,blue) attribute>> [[psysml:4713065a-36eb-4143-8ed6-c41cfc39d881 ]] {\r\n",
       "}\r\n",
       "}\r\n",
       "E3 - -:|> E2 [[psysml:0b532ab9-83c4-4e75-92c6-eb24823a8b5d ]] \r\n",
       "E4 o- - E2 [[psysml:5802290c-01bb-4d71-b710-026b61c78f11 ]] : p\r\n",
       "@enduml\r\n",
       "\n",
       "PlantUML version 1.2020.13(Sat Jun 13 12:26:38 UTC 2020)\n",
       "(EPL source distribution)\n",
       "Java Runtime: OpenJDK Runtime Environment\n",
       "JVM: OpenJDK 64-Bit Server VM\n",
       "Default Encoding: UTF-8\n",
       "Language: en\n",
       "Country: null\n",
       "--></g></svg>"
      ]
     },
     "execution_count": 45,
     "metadata": {},
     "output_type": "execute_result"
    }
   ],
   "source": [
    "%viz --style=\"TB\" --view=\"Tree\" \"ParameterTest\""
   ]
  },
  {
   "cell_type": "code",
   "execution_count": 46,
   "id": "9d452546",
   "metadata": {
    "execution": {
     "iopub.execute_input": "2021-10-03T08:28:27.627839Z",
     "iopub.status.busy": "2021-10-03T08:28:27.627424Z",
     "iopub.status.idle": "2021-10-03T08:28:27.632614Z",
     "shell.execute_reply": "2021-10-03T08:28:27.632245Z"
    }
   },
   "outputs": [
    {
     "data": {
      "image/svg+xml": [
       "<?xml version=\"1.0\" encoding=\"UTF-8\" standalone=\"no\"?><svg xmlns=\"http://www.w3.org/2000/svg\" xmlns:xlink=\"http://www.w3.org/1999/xlink\" contentScriptType=\"application/ecmascript\" contentStyleType=\"text/css\" height=\"12px\" preserveAspectRatio=\"none\" style=\"width:12px;height:12px;\" version=\"1.1\" viewBox=\"0 0 12 12\" width=\"12px\" zoomAndPan=\"magnify\"><defs/><g><!--MD5=[f4ee21bc66e489b5061b7c3e9601fdef]\n",
       "@startuml\r\n",
       "top to bottom direction\r\n",
       "skinparam monochrome true\r\n",
       "skinparam classbackgroundcolor white\r\n",
       "skinparam shadowing false\r\n",
       "skinparam wrapWidth 300\r\n",
       "hide circle\r\n",
       "\r\n",
       "@enduml\r\n",
       "\n",
       "PlantUML version 1.2020.13(Sat Jun 13 12:26:38 UTC 2020)\n",
       "(EPL source distribution)\n",
       "Java Runtime: OpenJDK Runtime Environment\n",
       "JVM: OpenJDK 64-Bit Server VM\n",
       "Default Encoding: UTF-8\n",
       "Language: en\n",
       "Country: null\n",
       "--></g></svg>"
      ]
     },
     "execution_count": 46,
     "metadata": {},
     "output_type": "execute_result"
    }
   ],
   "source": [
    "%viz --style=\"TB\" --view=\"State\" \"ParameterTest\""
   ]
  },
  {
   "cell_type": "code",
   "execution_count": 47,
   "id": "09e758d8",
   "metadata": {
    "execution": {
     "iopub.execute_input": "2021-10-03T08:28:27.681944Z",
     "iopub.status.busy": "2021-10-03T08:28:27.681546Z",
     "iopub.status.idle": "2021-10-03T08:28:27.716640Z",
     "shell.execute_reply": "2021-10-03T08:28:27.716223Z"
    }
   },
   "outputs": [
    {
     "data": {
      "image/svg+xml": [
       "<?xml version=\"1.0\" encoding=\"UTF-8\" standalone=\"no\"?><svg xmlns=\"http://www.w3.org/2000/svg\" xmlns:xlink=\"http://www.w3.org/1999/xlink\" contentScriptType=\"application/ecmascript\" contentStyleType=\"text/css\" height=\"216px\" preserveAspectRatio=\"none\" style=\"width:740px;height:216px;\" version=\"1.1\" viewBox=\"0 0 740 216\" width=\"740px\" zoomAndPan=\"magnify\"><defs/><g><!--MD5=[fbc87193dbaf4d95561dea2c320d4a47]\n",
       "cluster E1--><a href=\"psysml:a676bd1d-a902-490f-aa39-52389ae12c12\" target=\"_top\" title=\"psysml:a676bd1d-a902-490f-aa39-52389ae12c12\" xlink:actuate=\"onRequest\" xlink:href=\"psysml:a676bd1d-a902-490f-aa39-52389ae12c12\" xlink:show=\"new\" xlink:title=\"psysml:a676bd1d-a902-490f-aa39-52389ae12c12\" xlink:type=\"simple\"><polygon fill=\"#FFFFFF\" points=\"16,6,124,6,131,28.2969,718,28.2969,718,204.72,16,204.72,16,6\" style=\"stroke: #000000; stroke-width: 1.5;\"/><line style=\"stroke: #000000; stroke-width: 1.5;\" x1=\"16\" x2=\"131\" y1=\"28.2969\" y2=\"28.2969\"/><text fill=\"#000000\" font-family=\"sans-serif\" font-size=\"14\" font-weight=\"bold\" lengthAdjust=\"spacingAndGlyphs\" textLength=\"102\" x=\"20\" y=\"20.9951\">ParameterTest</text></a><!--MD5=[f6df4d0ebaf0b5dfb2ced0ae5af7c670]\n",
       "cluster E4--><a href=\"psysml:40a467ef-e18b-46ff-840a-6dc079db3448\" target=\"_top\" title=\"psysml:40a467ef-e18b-46ff-840a-6dc079db3448\" xlink:actuate=\"onRequest\" xlink:href=\"psysml:40a467ef-e18b-46ff-840a-6dc079db3448\" xlink:show=\"new\" xlink:title=\"psysml:40a467ef-e18b-46ff-840a-6dc079db3448\" xlink:type=\"simple\"><rect fill=\"#FFFFFF\" height=\"110.72\" id=\"E4\" style=\"stroke: #383838; stroke-width: 1.5;\" width=\"148\" x=\"554\" y=\"64\"/><rect fill=\"#F8F8F8\" height=\"37.9375\" style=\"stroke: #383838; stroke-width: 1.5;\" width=\"148\" x=\"554\" y=\"64\"/><text fill=\"#000000\" font-family=\"sans-serif\" font-size=\"12\" font-style=\"italic\" lengthAdjust=\"spacingAndGlyphs\" textLength=\"106\" x=\"575\" y=\"80.1387\">«calculation def»</text><text fill=\"#000000\" font-family=\"sans-serif\" font-size=\"12\" lengthAdjust=\"spacingAndGlyphs\" textLength=\"7\" x=\"624.5\" y=\"94.1074\">F</text></a><g id=\"E1.E2\"><a href=\"psysml:da28d9c5-e66b-4d93-bbca-9dea65a864c0\" target=\"_top\" title=\"psysml:da28d9c5-e66b-4d93-bbca-9dea65a864c0\" xlink:actuate=\"onRequest\" xlink:href=\"psysml:da28d9c5-e66b-4d93-bbca-9dea65a864c0\" xlink:show=\"new\" xlink:title=\"psysml:da28d9c5-e66b-4d93-bbca-9dea65a864c0\" xlink:type=\"simple\"><rect fill=\"#FFFFFF\" height=\"42.9375\" id=\"E2\" style=\"stroke: #383838; stroke-width: 1.5;\" width=\"100\" x=\"417\" y=\"99\"/><rect fill=\"#F8F8F8\" height=\"37.9375\" style=\"stroke: #383838; stroke-width: 1.5;\" width=\"100\" x=\"417\" y=\"99\"/><text fill=\"#000000\" font-family=\"sans-serif\" font-size=\"12\" font-style=\"italic\" lengthAdjust=\"spacingAndGlyphs\" textLength=\"93\" x=\"420.5\" y=\"115.1387\">«attribute def»</text><text fill=\"#000000\" font-family=\"sans-serif\" font-size=\"12\" lengthAdjust=\"spacingAndGlyphs\" textLength=\"8\" x=\"463\" y=\"129.1074\">A</text></a></g><!--MD5=[09b614a08d8cba4a07c9adeb5e0fee81]\n",
       "class E3--><a href=\"psysml:8df57e9c-49a1-414c-8fdd-827b36a310a4\" target=\"_top\" title=\"psysml:8df57e9c-49a1-414c-8fdd-827b36a310a4\" xlink:actuate=\"onRequest\" xlink:href=\"psysml:8df57e9c-49a1-414c-8fdd-827b36a310a4\" xlink:show=\"new\" xlink:title=\"psysml:8df57e9c-49a1-414c-8fdd-827b36a310a4\" xlink:type=\"simple\"><rect fill=\"#FFFFFF\" height=\"45.9375\" id=\"E3\" rx=\"10\" ry=\"10\" style=\"stroke: #383838; stroke-width: 1.5;\" width=\"71\" x=\"456.5\" y=\"41\"/><text fill=\"#000000\" font-family=\"sans-serif\" font-size=\"12\" font-style=\"italic\" lengthAdjust=\"spacingAndGlyphs\" textLength=\"69\" x=\"457.5\" y=\"57.1387\">«attribute»</text><text fill=\"#000000\" font-family=\"sans-serif\" font-size=\"12\" lengthAdjust=\"spacingAndGlyphs\" textLength=\"24\" x=\"480\" y=\"71.1074\">a: A</text><line style=\"stroke: #383838; stroke-width: 1.5;\" x1=\"457.5\" x2=\"526.5\" y1=\"78.9375\" y2=\"78.9375\"/></a><!--MD5=[b9389687b975829384b498ac4b7476b2]\n",
       "class E8--><a href=\"psysml:2237367a-6968-472a-8f6b-3570950aa6b8\" target=\"_top\" title=\"psysml:2237367a-6968-472a-8f6b-3570950aa6b8\" xlink:actuate=\"onRequest\" xlink:href=\"psysml:2237367a-6968-472a-8f6b-3570950aa6b8\" xlink:show=\"new\" xlink:title=\"psysml:2237367a-6968-472a-8f6b-3570950aa6b8\" xlink:type=\"simple\"><rect fill=\"#FFFFFF\" height=\"45.9375\" id=\"E8\" rx=\"10\" ry=\"10\" style=\"stroke: #383838; stroke-width: 1.5;\" width=\"71\" x=\"350.5\" y=\"41\"/><text fill=\"#000000\" font-family=\"sans-serif\" font-size=\"12\" font-style=\"italic\" lengthAdjust=\"spacingAndGlyphs\" textLength=\"69\" x=\"351.5\" y=\"57.1387\">«attribute»</text><text fill=\"#000000\" font-family=\"sans-serif\" font-size=\"12\" lengthAdjust=\"spacingAndGlyphs\" textLength=\"4\" x=\"384\" y=\"71.1074\">f</text><line style=\"stroke: #383838; stroke-width: 1.5;\" x1=\"351.5\" x2=\"420.5\" y1=\"78.9375\" y2=\"78.9375\"/></a><!--MD5=[fd4143e9d270a159db93a4ea2a975926]\n",
       "class E9--><a href=\"psysml:b8cf583e-a2e4-421e-986b-a2654bc5da1a\" target=\"_top\" title=\"psysml:b8cf583e-a2e4-421e-986b-a2654bc5da1a\" xlink:actuate=\"onRequest\" xlink:href=\"psysml:b8cf583e-a2e4-421e-986b-a2654bc5da1a\" xlink:show=\"new\" xlink:title=\"psysml:b8cf583e-a2e4-421e-986b-a2654bc5da1a\" xlink:type=\"simple\"><rect fill=\"#FFFFFF\" height=\"45.9375\" id=\"E9\" rx=\"10\" ry=\"10\" style=\"stroke: #383838; stroke-width: 1.5;\" width=\"71\" x=\"244.5\" y=\"41\"/><text fill=\"#000000\" font-family=\"sans-serif\" font-size=\"12\" font-style=\"italic\" lengthAdjust=\"spacingAndGlyphs\" textLength=\"69\" x=\"245.5\" y=\"57.1387\">«attribute»</text><text fill=\"#000000\" font-family=\"sans-serif\" font-size=\"12\" lengthAdjust=\"spacingAndGlyphs\" textLength=\"8\" x=\"276\" y=\"71.1074\">g</text><line style=\"stroke: #383838; stroke-width: 1.5;\" x1=\"245.5\" x2=\"314.5\" y1=\"78.9375\" y2=\"78.9375\"/></a><!--MD5=[96f4274e9e20536e775497830990834d]\n",
       "class E10--><a href=\"psysml:0aa11811-cac3-458e-8be5-17e4f08795b7\" target=\"_top\" title=\"psysml:0aa11811-cac3-458e-8be5-17e4f08795b7\" xlink:actuate=\"onRequest\" xlink:href=\"psysml:0aa11811-cac3-458e-8be5-17e4f08795b7\" xlink:show=\"new\" xlink:title=\"psysml:0aa11811-cac3-458e-8be5-17e4f08795b7\" xlink:type=\"simple\"><rect fill=\"#FFFFFF\" height=\"45.9375\" id=\"E10\" rx=\"10\" ry=\"10\" style=\"stroke: #383838; stroke-width: 1.5;\" width=\"71\" x=\"138.5\" y=\"41\"/><text fill=\"#000000\" font-family=\"sans-serif\" font-size=\"12\" font-style=\"italic\" lengthAdjust=\"spacingAndGlyphs\" textLength=\"69\" x=\"139.5\" y=\"57.1387\">«attribute»</text><text fill=\"#000000\" font-family=\"sans-serif\" font-size=\"12\" lengthAdjust=\"spacingAndGlyphs\" textLength=\"8\" x=\"170\" y=\"71.1074\">b</text><line style=\"stroke: #383838; stroke-width: 1.5;\" x1=\"139.5\" x2=\"208.5\" y1=\"78.9375\" y2=\"78.9375\"/></a><!--MD5=[1dd1bfd58a279cf63c5f349dbc8fc6a1]\n",
       "class E11--><a href=\"psysml:4713065a-36eb-4143-8ed6-c41cfc39d881\" target=\"_top\" title=\"psysml:4713065a-36eb-4143-8ed6-c41cfc39d881\" xlink:actuate=\"onRequest\" xlink:href=\"psysml:4713065a-36eb-4143-8ed6-c41cfc39d881\" xlink:show=\"new\" xlink:title=\"psysml:4713065a-36eb-4143-8ed6-c41cfc39d881\" xlink:type=\"simple\"><rect fill=\"#FFFFFF\" height=\"45.9375\" id=\"E11\" rx=\"10\" ry=\"10\" style=\"stroke: #383838; stroke-width: 1.5;\" width=\"71\" x=\"32.5\" y=\"41\"/><text fill=\"#000000\" font-family=\"sans-serif\" font-size=\"12\" font-style=\"italic\" lengthAdjust=\"spacingAndGlyphs\" textLength=\"69\" x=\"33.5\" y=\"57.1387\">«attribute»</text><text fill=\"#000000\" font-family=\"sans-serif\" font-size=\"12\" lengthAdjust=\"spacingAndGlyphs\" textLength=\"7\" x=\"64.5\" y=\"71.1074\">c</text><line style=\"stroke: #383838; stroke-width: 1.5;\" x1=\"33.5\" x2=\"102.5\" y1=\"78.9375\" y2=\"78.9375\"/></a><text fill=\"#000000\" font-family=\"sans-serif\" font-size=\"14\" lengthAdjust=\"spacingAndGlyphs\" textLength=\"9\" x=\"567.5\" y=\"42.6982\">p</text><rect fill=\"#383838\" height=\"12\" style=\"stroke: #F8F8F8; stroke-width: 1.5;\" width=\"12\" x=\"566\" y=\"58\"/><text fill=\"#000000\" font-family=\"sans-serif\" font-size=\"14\" lengthAdjust=\"spacingAndGlyphs\" textLength=\"9\" x=\"614.5\" y=\"42.6982\">q</text><rect fill=\"#383838\" height=\"12\" style=\"stroke: #F8F8F8; stroke-width: 1.5;\" width=\"12\" x=\"613\" y=\"58\"/><text fill=\"#000000\" font-family=\"sans-serif\" font-size=\"14\" lengthAdjust=\"spacingAndGlyphs\" textLength=\"39\" x=\"599.5\" y=\"193.7151\">result</text><rect fill=\"#383838\" height=\"12\" style=\"stroke: #F8F8F8; stroke-width: 1.5;\" width=\"12\" x=\"613\" y=\"168.72\"/><!--MD5=[05d275557350bfb9b23a4ef7222b4c39]\n",
       "link E3 to E2--><a href=\"psysml:0b532ab9-83c4-4e75-92c6-eb24823a8b5d\" target=\"_top\" title=\"psysml:0b532ab9-83c4-4e75-92c6-eb24823a8b5d\" xlink:actuate=\"onRequest\" xlink:href=\"psysml:0b532ab9-83c4-4e75-92c6-eb24823a8b5d\" xlink:show=\"new\" xlink:title=\"psysml:0b532ab9-83c4-4e75-92c6-eb24823a8b5d\" xlink:type=\"simple\"><path d=\"M481.83,87.17 C481.78,87.29 481.72,87.41 481.66,87.53 \" fill=\"none\" id=\"E3-&gt;E2\" style=\"stroke: #383838; stroke-width: 1.0;\"/><polygon fill=\"#FFFFFF\" points=\"476.43,98.93,477.977,78.7407,490.7056,84.5701,476.43,98.93\" style=\"stroke: #383838; stroke-width: 1.0;\"/><ellipse cx=\"482.1687\" cy=\"74.3911\" fill=\"#383838\" rx=\"2\" ry=\"2\" style=\"stroke: #383838; stroke-width: 1.0;\"/><ellipse cx=\"491.2606\" cy=\"78.555\" fill=\"#383838\" rx=\"2\" ry=\"2\" style=\"stroke: #383838; stroke-width: 1.0;\"/></a><!--MD5=[91babf478e08b21788aecc199eba4479]\n",
       "@startuml\r\n",
       "skinparam ranksep 10\r\n",
       "skinparam rectangle {\r\n",
       " backgroundColor<<block>> LightGreen\r\n",
       "}\r\n",
       "top to bottom direction\r\n",
       "skinparam monochrome true\r\n",
       "skinparam classbackgroundcolor white\r\n",
       "skinparam shadowing false\r\n",
       "skinparam wrapWidth 300\r\n",
       "hide circle\r\n",
       "\r\n",
       "package \"ParameterTest\" as E1  [[psysml:a676bd1d-a902-490f-aa39-52389ae12c12 ]]  {\r\n",
       "def \"A\" as E2  <<(T,blue) attribute def>> [[psysml:da28d9c5-e66b-4d93-bbca-9dea65a864c0 ]] \r\n",
       "comp usage \"a: A\" as E3  <<(T,blue) attribute>> [[psysml:8df57e9c-49a1-414c-8fdd-827b36a310a4 ]] {\r\n",
       "}\r\n",
       "rec def \"F\" as E4  <<(T,blue) calculation def>> [[psysml:40a467ef-e18b-46ff-840a-6dc079db3448 ]] {\r\n",
       "portin \"p\" as E5  [[psysml:5802290c-01bb-4d71-b710-026b61c78f11 ]] \r\n",
       "portin \"q\" as E6  [[psysml:197907df-8789-46a9-bbed-d5f940e1c2ab ]] \r\n",
       "portout \"result\" as E7  [[psysml:e7c52caa-c6a6-4daa-b328-953e2590a8bc ]] \r\n",
       "}\r\n",
       "\r\n",
       "comp usage \"f\" as E8  <<(T,blue) attribute>> [[psysml:2237367a-6968-472a-8f6b-3570950aa6b8 ]] {\r\n",
       "}\r\n",
       "comp usage \"g\" as E9  <<(T,blue) attribute>> [[psysml:b8cf583e-a2e4-421e-986b-a2654bc5da1a ]] {\r\n",
       "}\r\n",
       "comp usage \"b\" as E10  <<(T,blue) attribute>> [[psysml:0aa11811-cac3-458e-8be5-17e4f08795b7 ]] {\r\n",
       "}\r\n",
       "comp usage \"c\" as E11  <<(T,blue) attribute>> [[psysml:4713065a-36eb-4143-8ed6-c41cfc39d881 ]] {\r\n",
       "}\r\n",
       "}\r\n",
       "E3 - -:|> E2 [[psysml:0b532ab9-83c4-4e75-92c6-eb24823a8b5d ]] \r\n",
       "@enduml\r\n",
       "\n",
       "PlantUML version 1.2020.13(Sat Jun 13 12:26:38 UTC 2020)\n",
       "(EPL source distribution)\n",
       "Java Runtime: OpenJDK Runtime Environment\n",
       "JVM: OpenJDK 64-Bit Server VM\n",
       "Default Encoding: UTF-8\n",
       "Language: en\n",
       "Country: null\n",
       "--></g></svg>"
      ]
     },
     "execution_count": 47,
     "metadata": {},
     "output_type": "execute_result"
    }
   ],
   "source": [
    "%viz --style=\"TB\" --view=\"Interconnection\" \"ParameterTest\""
   ]
  },
  {
   "cell_type": "code",
   "execution_count": 48,
   "id": "78344baf",
   "metadata": {
    "execution": {
     "iopub.execute_input": "2021-10-03T08:28:27.765414Z",
     "iopub.status.busy": "2021-10-03T08:28:27.765019Z",
     "iopub.status.idle": "2021-10-03T08:28:27.787445Z",
     "shell.execute_reply": "2021-10-03T08:28:27.787061Z"
    }
   },
   "outputs": [
    {
     "data": {
      "image/svg+xml": [
       "<?xml version=\"1.0\" encoding=\"UTF-8\" standalone=\"no\"?><svg xmlns=\"http://www.w3.org/2000/svg\" xmlns:xlink=\"http://www.w3.org/1999/xlink\" contentScriptType=\"application/ecmascript\" contentStyleType=\"text/css\" height=\"162px\" preserveAspectRatio=\"none\" style=\"width:166px;height:162px;\" version=\"1.1\" viewBox=\"0 0 166 162\" width=\"166px\" zoomAndPan=\"magnify\"><defs/><g><!--MD5=[fbc87193dbaf4d95561dea2c320d4a47]\n",
       "cluster E1--><a href=\"psysml:40a467ef-e18b-46ff-840a-6dc079db3448\" target=\"_top\" title=\"psysml:40a467ef-e18b-46ff-840a-6dc079db3448\" xlink:actuate=\"onRequest\" xlink:href=\"psysml:40a467ef-e18b-46ff-840a-6dc079db3448\" xlink:show=\"new\" xlink:title=\"psysml:40a467ef-e18b-46ff-840a-6dc079db3448\" xlink:type=\"simple\"><rect fill=\"#FFFFFF\" height=\"87.72\" id=\"E1\" style=\"stroke: #383838; stroke-width: 1.5;\" width=\"148\" x=\"7\" y=\"42.0986\"/><rect fill=\"#F8F8F8\" height=\"37.9375\" style=\"stroke: #383838; stroke-width: 1.5;\" width=\"148\" x=\"7\" y=\"42.0986\"/><text fill=\"#000000\" font-family=\"sans-serif\" font-size=\"12\" font-style=\"italic\" lengthAdjust=\"spacingAndGlyphs\" textLength=\"106\" x=\"28\" y=\"58.2373\">«calculation def»</text><text fill=\"#000000\" font-family=\"sans-serif\" font-size=\"12\" lengthAdjust=\"spacingAndGlyphs\" textLength=\"7\" x=\"77.5\" y=\"72.2061\">F</text></a><text fill=\"#000000\" font-family=\"sans-serif\" font-size=\"14\" lengthAdjust=\"spacingAndGlyphs\" textLength=\"9\" x=\"20.5\" y=\"20.7969\">p</text><rect fill=\"#383838\" height=\"12\" style=\"stroke: #F8F8F8; stroke-width: 1.5;\" width=\"12\" x=\"19\" y=\"36.0986\"/><text fill=\"#000000\" font-family=\"sans-serif\" font-size=\"14\" lengthAdjust=\"spacingAndGlyphs\" textLength=\"9\" x=\"67.5\" y=\"20.7969\">q</text><rect fill=\"#383838\" height=\"12\" style=\"stroke: #F8F8F8; stroke-width: 1.5;\" width=\"12\" x=\"66\" y=\"36.0986\"/><text fill=\"#000000\" font-family=\"sans-serif\" font-size=\"14\" lengthAdjust=\"spacingAndGlyphs\" textLength=\"39\" x=\"52.5\" y=\"148.8138\">result</text><rect fill=\"#383838\" height=\"12\" style=\"stroke: #F8F8F8; stroke-width: 1.5;\" width=\"12\" x=\"66\" y=\"123.8186\"/><!--MD5=[1179415648430216449d859dbdfb2b35]\n",
       "@startuml\r\n",
       "skinparam ranksep 8\r\n",
       "top to bottom direction\r\n",
       "skinparam monochrome true\r\n",
       "skinparam classbackgroundcolor white\r\n",
       "skinparam shadowing false\r\n",
       "skinparam wrapWidth 300\r\n",
       "hide circle\r\n",
       "\r\n",
       "rec def \"F\" as E1  <<(T,blue) calculation def>> [[psysml:40a467ef-e18b-46ff-840a-6dc079db3448 ]] {\r\n",
       "portin \"p\" as E2  [[psysml:5802290c-01bb-4d71-b710-026b61c78f11 ]] \r\n",
       "portin \"q\" as E3  [[psysml:197907df-8789-46a9-bbed-d5f940e1c2ab ]] \r\n",
       "portout \"result\" as E4  [[psysml:e7c52caa-c6a6-4daa-b328-953e2590a8bc ]] \r\n",
       "}\r\n",
       "\r\n",
       "@enduml\r\n",
       "\n",
       "PlantUML version 1.2020.13(Sat Jun 13 12:26:38 UTC 2020)\n",
       "(EPL source distribution)\n",
       "Java Runtime: OpenJDK Runtime Environment\n",
       "JVM: OpenJDK 64-Bit Server VM\n",
       "Default Encoding: UTF-8\n",
       "Language: en\n",
       "Country: null\n",
       "--></g></svg>"
      ]
     },
     "execution_count": 48,
     "metadata": {},
     "output_type": "execute_result"
    }
   ],
   "source": [
    "%viz --style=\"TB\" --view=\"Action\" \"ParameterTest\""
   ]
  },
  {
   "cell_type": "code",
   "execution_count": 49,
   "id": "fdf2ca0e",
   "metadata": {
    "execution": {
     "iopub.execute_input": "2021-10-03T08:28:27.836714Z",
     "iopub.status.busy": "2021-10-03T08:28:27.836313Z",
     "iopub.status.idle": "2021-10-03T08:28:27.841400Z",
     "shell.execute_reply": "2021-10-03T08:28:27.841711Z"
    }
   },
   "outputs": [
    {
     "data": {
      "image/svg+xml": [
       "<?xml version=\"1.0\" encoding=\"UTF-8\" standalone=\"no\"?><svg xmlns=\"http://www.w3.org/2000/svg\" xmlns:xlink=\"http://www.w3.org/1999/xlink\" contentScriptType=\"application/ecmascript\" contentStyleType=\"text/css\" height=\"12px\" preserveAspectRatio=\"none\" style=\"width:12px;height:12px;\" version=\"1.1\" viewBox=\"0 0 12 12\" width=\"12px\" zoomAndPan=\"magnify\"><defs/><g><!--MD5=[e1ab0c84c44d2fef8bf5f140f2689906]\n",
       "@startuml\r\n",
       "skinparam roundcorner 20\r\n",
       "skinparam BoxPadding 20\r\n",
       "skinparam SequenceBoxBackgroundColor #white\r\n",
       "skinparam style strictuml\r\n",
       "skinparam maxMessageSize 100\r\n",
       "top to bottom direction\r\n",
       "skinparam monochrome true\r\n",
       "skinparam classbackgroundcolor white\r\n",
       "skinparam shadowing false\r\n",
       "skinparam wrapWidth 300\r\n",
       "hide circle\r\n",
       "\r\n",
       "@enduml\r\n",
       "\n",
       "PlantUML version 1.2020.13(Sat Jun 13 12:26:38 UTC 2020)\n",
       "(EPL source distribution)\n",
       "Java Runtime: OpenJDK Runtime Environment\n",
       "JVM: OpenJDK 64-Bit Server VM\n",
       "Default Encoding: UTF-8\n",
       "Language: en\n",
       "Country: null\n",
       "--></g></svg>"
      ]
     },
     "execution_count": 49,
     "metadata": {},
     "output_type": "execute_result"
    }
   ],
   "source": [
    "%viz --style=\"TB\" --view=\"Sequence\" \"ParameterTest\""
   ]
  },
  {
   "cell_type": "code",
   "execution_count": 50,
   "id": "34856120",
   "metadata": {
    "execution": {
     "iopub.execute_input": "2021-10-03T08:28:27.891446Z",
     "iopub.status.busy": "2021-10-03T08:28:27.891050Z",
     "iopub.status.idle": "2021-10-03T08:28:27.940952Z",
     "shell.execute_reply": "2021-10-03T08:28:27.940587Z"
    }
   },
   "outputs": [
    {
     "data": {
      "image/svg+xml": [
       "<?xml version=\"1.0\" encoding=\"UTF-8\" standalone=\"no\"?><svg xmlns=\"http://www.w3.org/2000/svg\" xmlns:xlink=\"http://www.w3.org/1999/xlink\" contentScriptType=\"application/ecmascript\" contentStyleType=\"text/css\" height=\"403px\" preserveAspectRatio=\"none\" style=\"width:740px;height:403px;\" version=\"1.1\" viewBox=\"0 0 740 403\" width=\"740px\" zoomAndPan=\"magnify\"><defs/><g><!--MD5=[fbc87193dbaf4d95561dea2c320d4a47]\n",
       "cluster E1--><a href=\"psysml:a676bd1d-a902-490f-aa39-52389ae12c12\" target=\"_top\" title=\"psysml:a676bd1d-a902-490f-aa39-52389ae12c12\" xlink:actuate=\"onRequest\" xlink:href=\"psysml:a676bd1d-a902-490f-aa39-52389ae12c12\" xlink:show=\"new\" xlink:title=\"psysml:a676bd1d-a902-490f-aa39-52389ae12c12\" xlink:type=\"simple\"><polygon fill=\"#FFFFFF\" points=\"16,6,124,6,131,28.2969,718,28.2969,718,391.72,16,391.72,16,6\" style=\"stroke: #000000; stroke-width: 1.5;\"/><line style=\"stroke: #000000; stroke-width: 1.5;\" x1=\"16\" x2=\"131\" y1=\"28.2969\" y2=\"28.2969\"/><text fill=\"#000000\" font-family=\"sans-serif\" font-size=\"14\" font-weight=\"bold\" lengthAdjust=\"spacingAndGlyphs\" textLength=\"102\" x=\"20\" y=\"20.9951\">ParameterTest</text></a><!--MD5=[f6df4d0ebaf0b5dfb2ced0ae5af7c670]\n",
       "cluster E4--><a href=\"psysml:40a467ef-e18b-46ff-840a-6dc079db3448\" target=\"_top\" title=\"psysml:40a467ef-e18b-46ff-840a-6dc079db3448\" xlink:actuate=\"onRequest\" xlink:href=\"psysml:40a467ef-e18b-46ff-840a-6dc079db3448\" xlink:show=\"new\" xlink:title=\"psysml:40a467ef-e18b-46ff-840a-6dc079db3448\" xlink:type=\"simple\"><rect fill=\"#FFFFFF\" height=\"297.72\" id=\"E4\" style=\"stroke: #383838; stroke-width: 1.5;\" width=\"148\" x=\"554\" y=\"64\"/><rect fill=\"#F8F8F8\" height=\"37.9375\" style=\"stroke: #383838; stroke-width: 1.5;\" width=\"148\" x=\"554\" y=\"64\"/><text fill=\"#000000\" font-family=\"sans-serif\" font-size=\"12\" font-style=\"italic\" lengthAdjust=\"spacingAndGlyphs\" textLength=\"106\" x=\"575\" y=\"80.1387\">«calculation def»</text><text fill=\"#000000\" font-family=\"sans-serif\" font-size=\"12\" lengthAdjust=\"spacingAndGlyphs\" textLength=\"7\" x=\"624.5\" y=\"94.1074\">F</text></a><!--MD5=[b4997ac47864f28c2f74865a473b2911]\n",
       "class E2--><a href=\"psysml:da28d9c5-e66b-4d93-bbca-9dea65a864c0\" target=\"_top\" title=\"psysml:da28d9c5-e66b-4d93-bbca-9dea65a864c0\" xlink:actuate=\"onRequest\" xlink:href=\"psysml:da28d9c5-e66b-4d93-bbca-9dea65a864c0\" xlink:show=\"new\" xlink:title=\"psysml:da28d9c5-e66b-4d93-bbca-9dea65a864c0\" xlink:type=\"simple\"><rect fill=\"#FFFFFF\" height=\"88.3516\" id=\"E2\" style=\"stroke: #383838; stroke-width: 1.5;\" width=\"95\" x=\"422.5\" y=\"147\"/><text fill=\"#000000\" font-family=\"sans-serif\" font-size=\"12\" font-style=\"italic\" lengthAdjust=\"spacingAndGlyphs\" textLength=\"93\" x=\"423.5\" y=\"163.1387\">«attribute def»</text><text fill=\"#000000\" font-family=\"sans-serif\" font-size=\"12\" lengthAdjust=\"spacingAndGlyphs\" textLength=\"8\" x=\"466\" y=\"177.1074\">A</text><line style=\"stroke: #383838; stroke-width: 1.5;\" x1=\"423.5\" x2=\"516.5\" y1=\"184.9375\" y2=\"184.9375\"/><text fill=\"#000000\" font-family=\"sans-serif\" font-size=\"11\" lengthAdjust=\"spacingAndGlyphs\" textLength=\"48\" x=\"428.5\" y=\"215.9526\">x: String</text><text fill=\"#000000\" font-family=\"sans-serif\" font-size=\"11\" lengthAdjust=\"spacingAndGlyphs\" textLength=\"21\" x=\"428.5\" y=\"228.7573\">y: A</text><line style=\"stroke: #383838; stroke-width: 1.0;\" x1=\"423.5\" x2=\"442.5\" y1=\"199.3398\" y2=\"199.3398\"/><text fill=\"#000000\" font-family=\"sans-serif\" font-size=\"11\" lengthAdjust=\"spacingAndGlyphs\" textLength=\"55\" x=\"442.5\" y=\"202.6479\">attributes</text><line style=\"stroke: #383838; stroke-width: 1.0;\" x1=\"497.5\" x2=\"516.5\" y1=\"199.3398\" y2=\"199.3398\"/></a><!--MD5=[09b614a08d8cba4a07c9adeb5e0fee81]\n",
       "class E3--><a href=\"psysml:8df57e9c-49a1-414c-8fdd-827b36a310a4\" target=\"_top\" title=\"psysml:8df57e9c-49a1-414c-8fdd-827b36a310a4\" xlink:actuate=\"onRequest\" xlink:href=\"psysml:8df57e9c-49a1-414c-8fdd-827b36a310a4\" xlink:show=\"new\" xlink:title=\"psysml:8df57e9c-49a1-414c-8fdd-827b36a310a4\" xlink:type=\"simple\"><rect fill=\"#FFFFFF\" height=\"45.9375\" id=\"E3\" rx=\"10\" ry=\"10\" style=\"stroke: #383838; stroke-width: 1.5;\" width=\"71\" x=\"456.5\" y=\"41\"/><text fill=\"#000000\" font-family=\"sans-serif\" font-size=\"12\" font-style=\"italic\" lengthAdjust=\"spacingAndGlyphs\" textLength=\"69\" x=\"457.5\" y=\"57.1387\">«attribute»</text><text fill=\"#000000\" font-family=\"sans-serif\" font-size=\"12\" lengthAdjust=\"spacingAndGlyphs\" textLength=\"24\" x=\"480\" y=\"71.1074\">a: A</text><line style=\"stroke: #383838; stroke-width: 1.5;\" x1=\"457.5\" x2=\"526.5\" y1=\"78.9375\" y2=\"78.9375\"/></a><!--MD5=[b9389687b975829384b498ac4b7476b2]\n",
       "class E8--><a href=\"psysml:2237367a-6968-472a-8f6b-3570950aa6b8\" target=\"_top\" title=\"psysml:2237367a-6968-472a-8f6b-3570950aa6b8\" xlink:actuate=\"onRequest\" xlink:href=\"psysml:2237367a-6968-472a-8f6b-3570950aa6b8\" xlink:show=\"new\" xlink:title=\"psysml:2237367a-6968-472a-8f6b-3570950aa6b8\" xlink:type=\"simple\"><rect fill=\"#FFFFFF\" height=\"45.9375\" id=\"E8\" rx=\"10\" ry=\"10\" style=\"stroke: #383838; stroke-width: 1.5;\" width=\"71\" x=\"350.5\" y=\"41\"/><text fill=\"#000000\" font-family=\"sans-serif\" font-size=\"12\" font-style=\"italic\" lengthAdjust=\"spacingAndGlyphs\" textLength=\"69\" x=\"351.5\" y=\"57.1387\">«attribute»</text><text fill=\"#000000\" font-family=\"sans-serif\" font-size=\"12\" lengthAdjust=\"spacingAndGlyphs\" textLength=\"4\" x=\"384\" y=\"71.1074\">f</text><line style=\"stroke: #383838; stroke-width: 1.5;\" x1=\"351.5\" x2=\"420.5\" y1=\"78.9375\" y2=\"78.9375\"/></a><!--MD5=[fd4143e9d270a159db93a4ea2a975926]\n",
       "class E9--><a href=\"psysml:b8cf583e-a2e4-421e-986b-a2654bc5da1a\" target=\"_top\" title=\"psysml:b8cf583e-a2e4-421e-986b-a2654bc5da1a\" xlink:actuate=\"onRequest\" xlink:href=\"psysml:b8cf583e-a2e4-421e-986b-a2654bc5da1a\" xlink:show=\"new\" xlink:title=\"psysml:b8cf583e-a2e4-421e-986b-a2654bc5da1a\" xlink:type=\"simple\"><rect fill=\"#FFFFFF\" height=\"45.9375\" id=\"E9\" rx=\"10\" ry=\"10\" style=\"stroke: #383838; stroke-width: 1.5;\" width=\"71\" x=\"244.5\" y=\"41\"/><text fill=\"#000000\" font-family=\"sans-serif\" font-size=\"12\" font-style=\"italic\" lengthAdjust=\"spacingAndGlyphs\" textLength=\"69\" x=\"245.5\" y=\"57.1387\">«attribute»</text><text fill=\"#000000\" font-family=\"sans-serif\" font-size=\"12\" lengthAdjust=\"spacingAndGlyphs\" textLength=\"8\" x=\"276\" y=\"71.1074\">g</text><line style=\"stroke: #383838; stroke-width: 1.5;\" x1=\"245.5\" x2=\"314.5\" y1=\"78.9375\" y2=\"78.9375\"/></a><!--MD5=[96f4274e9e20536e775497830990834d]\n",
       "class E10--><a href=\"psysml:0aa11811-cac3-458e-8be5-17e4f08795b7\" target=\"_top\" title=\"psysml:0aa11811-cac3-458e-8be5-17e4f08795b7\" xlink:actuate=\"onRequest\" xlink:href=\"psysml:0aa11811-cac3-458e-8be5-17e4f08795b7\" xlink:show=\"new\" xlink:title=\"psysml:0aa11811-cac3-458e-8be5-17e4f08795b7\" xlink:type=\"simple\"><rect fill=\"#FFFFFF\" height=\"45.9375\" id=\"E10\" rx=\"10\" ry=\"10\" style=\"stroke: #383838; stroke-width: 1.5;\" width=\"71\" x=\"138.5\" y=\"41\"/><text fill=\"#000000\" font-family=\"sans-serif\" font-size=\"12\" font-style=\"italic\" lengthAdjust=\"spacingAndGlyphs\" textLength=\"69\" x=\"139.5\" y=\"57.1387\">«attribute»</text><text fill=\"#000000\" font-family=\"sans-serif\" font-size=\"12\" lengthAdjust=\"spacingAndGlyphs\" textLength=\"8\" x=\"170\" y=\"71.1074\">b</text><line style=\"stroke: #383838; stroke-width: 1.5;\" x1=\"139.5\" x2=\"208.5\" y1=\"78.9375\" y2=\"78.9375\"/></a><!--MD5=[1dd1bfd58a279cf63c5f349dbc8fc6a1]\n",
       "class E11--><a href=\"psysml:4713065a-36eb-4143-8ed6-c41cfc39d881\" target=\"_top\" title=\"psysml:4713065a-36eb-4143-8ed6-c41cfc39d881\" xlink:actuate=\"onRequest\" xlink:href=\"psysml:4713065a-36eb-4143-8ed6-c41cfc39d881\" xlink:show=\"new\" xlink:title=\"psysml:4713065a-36eb-4143-8ed6-c41cfc39d881\" xlink:type=\"simple\"><rect fill=\"#FFFFFF\" height=\"45.9375\" id=\"E11\" rx=\"10\" ry=\"10\" style=\"stroke: #383838; stroke-width: 1.5;\" width=\"71\" x=\"32.5\" y=\"41\"/><text fill=\"#000000\" font-family=\"sans-serif\" font-size=\"12\" font-style=\"italic\" lengthAdjust=\"spacingAndGlyphs\" textLength=\"69\" x=\"33.5\" y=\"57.1387\">«attribute»</text><text fill=\"#000000\" font-family=\"sans-serif\" font-size=\"12\" lengthAdjust=\"spacingAndGlyphs\" textLength=\"7\" x=\"64.5\" y=\"71.1074\">c</text><line style=\"stroke: #383838; stroke-width: 1.5;\" x1=\"33.5\" x2=\"102.5\" y1=\"78.9375\" y2=\"78.9375\"/></a><text fill=\"#000000\" font-family=\"sans-serif\" font-size=\"14\" lengthAdjust=\"spacingAndGlyphs\" textLength=\"9\" x=\"567.5\" y=\"42.6982\">p</text><rect fill=\"#383838\" height=\"12\" style=\"stroke: #F8F8F8; stroke-width: 1.5;\" width=\"12\" x=\"566\" y=\"58\"/><text fill=\"#000000\" font-family=\"sans-serif\" font-size=\"14\" lengthAdjust=\"spacingAndGlyphs\" textLength=\"9\" x=\"614.5\" y=\"42.6982\">q</text><rect fill=\"#383838\" height=\"12\" style=\"stroke: #F8F8F8; stroke-width: 1.5;\" width=\"12\" x=\"613\" y=\"58\"/><text fill=\"#000000\" font-family=\"sans-serif\" font-size=\"14\" lengthAdjust=\"spacingAndGlyphs\" textLength=\"39\" x=\"599.5\" y=\"380.7151\">result</text><rect fill=\"#383838\" height=\"12\" style=\"stroke: #F8F8F8; stroke-width: 1.5;\" width=\"12\" x=\"613\" y=\"355.72\"/><!--MD5=[05d275557350bfb9b23a4ef7222b4c39]\n",
       "link E3 to E2--><a href=\"psysml:0b532ab9-83c4-4e75-92c6-eb24823a8b5d\" target=\"_top\" title=\"psysml:0b532ab9-83c4-4e75-92c6-eb24823a8b5d\" xlink:actuate=\"onRequest\" xlink:href=\"psysml:0b532ab9-83c4-4e75-92c6-eb24823a8b5d\" xlink:show=\"new\" xlink:title=\"psysml:0b532ab9-83c4-4e75-92c6-eb24823a8b5d\" xlink:type=\"simple\"><path d=\"M488.12,87.06 C486.14,98.3 483.62,112.6 481.1,126.95 \" fill=\"none\" id=\"E3-&gt;E2\" style=\"stroke: #383838; stroke-width: 1.0;\"/><polygon fill=\"#FFFFFF\" points=\"477.58,146.93,473.9835,127.0035,487.7711,129.4331,477.58,146.93\" style=\"stroke: #383838; stroke-width: 1.0;\"/><ellipse cx=\"476.9423\" cy=\"121.7371\" fill=\"#383838\" rx=\"2\" ry=\"2\" style=\"stroke: #383838; stroke-width: 1.0;\"/><ellipse cx=\"486.7906\" cy=\"123.4725\" fill=\"#383838\" rx=\"2\" ry=\"2\" style=\"stroke: #383838; stroke-width: 1.0;\"/></a><!--MD5=[528db4c27e22e4e428cfb6e5f96b5d45]\n",
       "@startuml\r\n",
       "top to bottom direction\r\n",
       "skinparam monochrome true\r\n",
       "skinparam classbackgroundcolor white\r\n",
       "skinparam shadowing false\r\n",
       "skinparam wrapWidth 300\r\n",
       "hide circle\r\n",
       "\r\n",
       "package \"ParameterTest\" as E1  [[psysml:a676bd1d-a902-490f-aa39-52389ae12c12 ]]  {\r\n",
       "comp def \"A\" as E2  <<(T,blue) attribute def>> [[psysml:da28d9c5-e66b-4d93-bbca-9dea65a864c0 ]] {\r\n",
       "- - attributes - -\r\n",
       "x: String\r\n",
       "y: A\r\n",
       "}\r\n",
       "comp usage \"a: A\" as E3  <<(T,blue) attribute>> [[psysml:8df57e9c-49a1-414c-8fdd-827b36a310a4 ]] {\r\n",
       "}\r\n",
       "rec def \"F\" as E4  <<(T,blue) calculation def>> [[psysml:40a467ef-e18b-46ff-840a-6dc079db3448 ]] {\r\n",
       "portin \"p\" as E5  [[psysml:5802290c-01bb-4d71-b710-026b61c78f11 ]] \r\n",
       "portin \"q\" as E6  [[psysml:197907df-8789-46a9-bbed-d5f940e1c2ab ]] \r\n",
       "portout \"result\" as E7  [[psysml:e7c52caa-c6a6-4daa-b328-953e2590a8bc ]] \r\n",
       "}\r\n",
       "\r\n",
       "comp usage \"f\" as E8  <<(T,blue) attribute>> [[psysml:2237367a-6968-472a-8f6b-3570950aa6b8 ]] {\r\n",
       "}\r\n",
       "comp usage \"g\" as E9  <<(T,blue) attribute>> [[psysml:b8cf583e-a2e4-421e-986b-a2654bc5da1a ]] {\r\n",
       "}\r\n",
       "comp usage \"b\" as E10  <<(T,blue) attribute>> [[psysml:0aa11811-cac3-458e-8be5-17e4f08795b7 ]] {\r\n",
       "}\r\n",
       "comp usage \"c\" as E11  <<(T,blue) attribute>> [[psysml:4713065a-36eb-4143-8ed6-c41cfc39d881 ]] {\r\n",
       "}\r\n",
       "}\r\n",
       "E3 - -:|> E2 [[psysml:0b532ab9-83c4-4e75-92c6-eb24823a8b5d ]] \r\n",
       "@enduml\r\n",
       "\n",
       "PlantUML version 1.2020.13(Sat Jun 13 12:26:38 UTC 2020)\n",
       "(EPL source distribution)\n",
       "Java Runtime: OpenJDK Runtime Environment\n",
       "JVM: OpenJDK 64-Bit Server VM\n",
       "Default Encoding: UTF-8\n",
       "Language: en\n",
       "Country: null\n",
       "--></g></svg>"
      ]
     },
     "execution_count": 50,
     "metadata": {},
     "output_type": "execute_result"
    }
   ],
   "source": [
    "%viz --style=\"TB\" --view=\"MIXED\" \"ParameterTest\""
   ]
  },
  {
   "cell_type": "code",
   "execution_count": 51,
   "id": "c3d05b55",
   "metadata": {
    "execution": {
     "iopub.execute_input": "2021-10-03T08:28:27.989841Z",
     "iopub.status.busy": "2021-10-03T08:28:27.989447Z",
     "iopub.status.idle": "2021-10-03T08:28:28.041166Z",
     "shell.execute_reply": "2021-10-03T08:28:28.040777Z"
    }
   },
   "outputs": [
    {
     "data": {
      "image/svg+xml": [
       "<?xml version=\"1.0\" encoding=\"UTF-8\" standalone=\"no\"?><svg xmlns=\"http://www.w3.org/2000/svg\" xmlns:xlink=\"http://www.w3.org/1999/xlink\" contentScriptType=\"application/ecmascript\" contentStyleType=\"text/css\" height=\"403px\" preserveAspectRatio=\"none\" style=\"width:740px;height:403px;\" version=\"1.1\" viewBox=\"0 0 740 403\" width=\"740px\" zoomAndPan=\"magnify\"><defs/><g><!--MD5=[fbc87193dbaf4d95561dea2c320d4a47]\n",
       "cluster E1--><a href=\"psysml:a676bd1d-a902-490f-aa39-52389ae12c12\" target=\"_top\" title=\"psysml:a676bd1d-a902-490f-aa39-52389ae12c12\" xlink:actuate=\"onRequest\" xlink:href=\"psysml:a676bd1d-a902-490f-aa39-52389ae12c12\" xlink:show=\"new\" xlink:title=\"psysml:a676bd1d-a902-490f-aa39-52389ae12c12\" xlink:type=\"simple\"><polygon fill=\"#FFFFFF\" points=\"16,6,124,6,131,28.2969,718,28.2969,718,391.72,16,391.72,16,6\" style=\"stroke: #000000; stroke-width: 1.5;\"/><line style=\"stroke: #000000; stroke-width: 1.5;\" x1=\"16\" x2=\"131\" y1=\"28.2969\" y2=\"28.2969\"/><text fill=\"#000000\" font-family=\"sans-serif\" font-size=\"14\" font-weight=\"bold\" lengthAdjust=\"spacingAndGlyphs\" textLength=\"102\" x=\"20\" y=\"20.9951\">ParameterTest</text></a><!--MD5=[f6df4d0ebaf0b5dfb2ced0ae5af7c670]\n",
       "cluster E4--><a href=\"psysml:40a467ef-e18b-46ff-840a-6dc079db3448\" target=\"_top\" title=\"psysml:40a467ef-e18b-46ff-840a-6dc079db3448\" xlink:actuate=\"onRequest\" xlink:href=\"psysml:40a467ef-e18b-46ff-840a-6dc079db3448\" xlink:show=\"new\" xlink:title=\"psysml:40a467ef-e18b-46ff-840a-6dc079db3448\" xlink:type=\"simple\"><rect fill=\"#FFFFFF\" height=\"297.72\" id=\"E4\" style=\"stroke: #383838; stroke-width: 1.5;\" width=\"148\" x=\"554\" y=\"64\"/><rect fill=\"#F8F8F8\" height=\"37.9375\" style=\"stroke: #383838; stroke-width: 1.5;\" width=\"148\" x=\"554\" y=\"64\"/><text fill=\"#000000\" font-family=\"sans-serif\" font-size=\"12\" font-style=\"italic\" lengthAdjust=\"spacingAndGlyphs\" textLength=\"106\" x=\"575\" y=\"80.1387\">«calculation def»</text><text fill=\"#000000\" font-family=\"sans-serif\" font-size=\"12\" lengthAdjust=\"spacingAndGlyphs\" textLength=\"7\" x=\"624.5\" y=\"94.1074\">F</text></a><!--MD5=[b4997ac47864f28c2f74865a473b2911]\n",
       "class E2--><a href=\"psysml:da28d9c5-e66b-4d93-bbca-9dea65a864c0\" target=\"_top\" title=\"psysml:da28d9c5-e66b-4d93-bbca-9dea65a864c0\" xlink:actuate=\"onRequest\" xlink:href=\"psysml:da28d9c5-e66b-4d93-bbca-9dea65a864c0\" xlink:show=\"new\" xlink:title=\"psysml:da28d9c5-e66b-4d93-bbca-9dea65a864c0\" xlink:type=\"simple\"><rect fill=\"#FFFFFF\" height=\"88.3516\" id=\"E2\" style=\"stroke: #383838; stroke-width: 1.5;\" width=\"95\" x=\"422.5\" y=\"147\"/><text fill=\"#000000\" font-family=\"sans-serif\" font-size=\"12\" font-style=\"italic\" lengthAdjust=\"spacingAndGlyphs\" textLength=\"93\" x=\"423.5\" y=\"163.1387\">«attribute def»</text><text fill=\"#000000\" font-family=\"sans-serif\" font-size=\"12\" lengthAdjust=\"spacingAndGlyphs\" textLength=\"8\" x=\"466\" y=\"177.1074\">A</text><line style=\"stroke: #383838; stroke-width: 1.5;\" x1=\"423.5\" x2=\"516.5\" y1=\"184.9375\" y2=\"184.9375\"/><text fill=\"#000000\" font-family=\"sans-serif\" font-size=\"11\" lengthAdjust=\"spacingAndGlyphs\" textLength=\"48\" x=\"428.5\" y=\"215.9526\">x: String</text><text fill=\"#000000\" font-family=\"sans-serif\" font-size=\"11\" lengthAdjust=\"spacingAndGlyphs\" textLength=\"21\" x=\"428.5\" y=\"228.7573\">y: A</text><line style=\"stroke: #383838; stroke-width: 1.0;\" x1=\"423.5\" x2=\"442.5\" y1=\"199.3398\" y2=\"199.3398\"/><text fill=\"#000000\" font-family=\"sans-serif\" font-size=\"11\" lengthAdjust=\"spacingAndGlyphs\" textLength=\"55\" x=\"442.5\" y=\"202.6479\">attributes</text><line style=\"stroke: #383838; stroke-width: 1.0;\" x1=\"497.5\" x2=\"516.5\" y1=\"199.3398\" y2=\"199.3398\"/></a><!--MD5=[09b614a08d8cba4a07c9adeb5e0fee81]\n",
       "class E3--><a href=\"psysml:8df57e9c-49a1-414c-8fdd-827b36a310a4\" target=\"_top\" title=\"psysml:8df57e9c-49a1-414c-8fdd-827b36a310a4\" xlink:actuate=\"onRequest\" xlink:href=\"psysml:8df57e9c-49a1-414c-8fdd-827b36a310a4\" xlink:show=\"new\" xlink:title=\"psysml:8df57e9c-49a1-414c-8fdd-827b36a310a4\" xlink:type=\"simple\"><rect fill=\"#FFFFFF\" height=\"45.9375\" id=\"E3\" rx=\"10\" ry=\"10\" style=\"stroke: #383838; stroke-width: 1.5;\" width=\"71\" x=\"456.5\" y=\"41\"/><text fill=\"#000000\" font-family=\"sans-serif\" font-size=\"12\" font-style=\"italic\" lengthAdjust=\"spacingAndGlyphs\" textLength=\"69\" x=\"457.5\" y=\"57.1387\">«attribute»</text><text fill=\"#000000\" font-family=\"sans-serif\" font-size=\"12\" lengthAdjust=\"spacingAndGlyphs\" textLength=\"24\" x=\"480\" y=\"71.1074\">a: A</text><line style=\"stroke: #383838; stroke-width: 1.5;\" x1=\"457.5\" x2=\"526.5\" y1=\"78.9375\" y2=\"78.9375\"/></a><!--MD5=[b9389687b975829384b498ac4b7476b2]\n",
       "class E8--><a href=\"psysml:2237367a-6968-472a-8f6b-3570950aa6b8\" target=\"_top\" title=\"psysml:2237367a-6968-472a-8f6b-3570950aa6b8\" xlink:actuate=\"onRequest\" xlink:href=\"psysml:2237367a-6968-472a-8f6b-3570950aa6b8\" xlink:show=\"new\" xlink:title=\"psysml:2237367a-6968-472a-8f6b-3570950aa6b8\" xlink:type=\"simple\"><rect fill=\"#FFFFFF\" height=\"45.9375\" id=\"E8\" rx=\"10\" ry=\"10\" style=\"stroke: #383838; stroke-width: 1.5;\" width=\"71\" x=\"350.5\" y=\"41\"/><text fill=\"#000000\" font-family=\"sans-serif\" font-size=\"12\" font-style=\"italic\" lengthAdjust=\"spacingAndGlyphs\" textLength=\"69\" x=\"351.5\" y=\"57.1387\">«attribute»</text><text fill=\"#000000\" font-family=\"sans-serif\" font-size=\"12\" lengthAdjust=\"spacingAndGlyphs\" textLength=\"4\" x=\"384\" y=\"71.1074\">f</text><line style=\"stroke: #383838; stroke-width: 1.5;\" x1=\"351.5\" x2=\"420.5\" y1=\"78.9375\" y2=\"78.9375\"/></a><!--MD5=[fd4143e9d270a159db93a4ea2a975926]\n",
       "class E9--><a href=\"psysml:b8cf583e-a2e4-421e-986b-a2654bc5da1a\" target=\"_top\" title=\"psysml:b8cf583e-a2e4-421e-986b-a2654bc5da1a\" xlink:actuate=\"onRequest\" xlink:href=\"psysml:b8cf583e-a2e4-421e-986b-a2654bc5da1a\" xlink:show=\"new\" xlink:title=\"psysml:b8cf583e-a2e4-421e-986b-a2654bc5da1a\" xlink:type=\"simple\"><rect fill=\"#FFFFFF\" height=\"45.9375\" id=\"E9\" rx=\"10\" ry=\"10\" style=\"stroke: #383838; stroke-width: 1.5;\" width=\"71\" x=\"244.5\" y=\"41\"/><text fill=\"#000000\" font-family=\"sans-serif\" font-size=\"12\" font-style=\"italic\" lengthAdjust=\"spacingAndGlyphs\" textLength=\"69\" x=\"245.5\" y=\"57.1387\">«attribute»</text><text fill=\"#000000\" font-family=\"sans-serif\" font-size=\"12\" lengthAdjust=\"spacingAndGlyphs\" textLength=\"8\" x=\"276\" y=\"71.1074\">g</text><line style=\"stroke: #383838; stroke-width: 1.5;\" x1=\"245.5\" x2=\"314.5\" y1=\"78.9375\" y2=\"78.9375\"/></a><!--MD5=[96f4274e9e20536e775497830990834d]\n",
       "class E10--><a href=\"psysml:0aa11811-cac3-458e-8be5-17e4f08795b7\" target=\"_top\" title=\"psysml:0aa11811-cac3-458e-8be5-17e4f08795b7\" xlink:actuate=\"onRequest\" xlink:href=\"psysml:0aa11811-cac3-458e-8be5-17e4f08795b7\" xlink:show=\"new\" xlink:title=\"psysml:0aa11811-cac3-458e-8be5-17e4f08795b7\" xlink:type=\"simple\"><rect fill=\"#FFFFFF\" height=\"45.9375\" id=\"E10\" rx=\"10\" ry=\"10\" style=\"stroke: #383838; stroke-width: 1.5;\" width=\"71\" x=\"138.5\" y=\"41\"/><text fill=\"#000000\" font-family=\"sans-serif\" font-size=\"12\" font-style=\"italic\" lengthAdjust=\"spacingAndGlyphs\" textLength=\"69\" x=\"139.5\" y=\"57.1387\">«attribute»</text><text fill=\"#000000\" font-family=\"sans-serif\" font-size=\"12\" lengthAdjust=\"spacingAndGlyphs\" textLength=\"8\" x=\"170\" y=\"71.1074\">b</text><line style=\"stroke: #383838; stroke-width: 1.5;\" x1=\"139.5\" x2=\"208.5\" y1=\"78.9375\" y2=\"78.9375\"/></a><!--MD5=[1dd1bfd58a279cf63c5f349dbc8fc6a1]\n",
       "class E11--><a href=\"psysml:4713065a-36eb-4143-8ed6-c41cfc39d881\" target=\"_top\" title=\"psysml:4713065a-36eb-4143-8ed6-c41cfc39d881\" xlink:actuate=\"onRequest\" xlink:href=\"psysml:4713065a-36eb-4143-8ed6-c41cfc39d881\" xlink:show=\"new\" xlink:title=\"psysml:4713065a-36eb-4143-8ed6-c41cfc39d881\" xlink:type=\"simple\"><rect fill=\"#FFFFFF\" height=\"45.9375\" id=\"E11\" rx=\"10\" ry=\"10\" style=\"stroke: #383838; stroke-width: 1.5;\" width=\"71\" x=\"32.5\" y=\"41\"/><text fill=\"#000000\" font-family=\"sans-serif\" font-size=\"12\" font-style=\"italic\" lengthAdjust=\"spacingAndGlyphs\" textLength=\"69\" x=\"33.5\" y=\"57.1387\">«attribute»</text><text fill=\"#000000\" font-family=\"sans-serif\" font-size=\"12\" lengthAdjust=\"spacingAndGlyphs\" textLength=\"7\" x=\"64.5\" y=\"71.1074\">c</text><line style=\"stroke: #383838; stroke-width: 1.5;\" x1=\"33.5\" x2=\"102.5\" y1=\"78.9375\" y2=\"78.9375\"/></a><text fill=\"#000000\" font-family=\"sans-serif\" font-size=\"14\" lengthAdjust=\"spacingAndGlyphs\" textLength=\"9\" x=\"567.5\" y=\"42.6982\">p</text><rect fill=\"#383838\" height=\"12\" style=\"stroke: #F8F8F8; stroke-width: 1.5;\" width=\"12\" x=\"566\" y=\"58\"/><text fill=\"#000000\" font-family=\"sans-serif\" font-size=\"14\" lengthAdjust=\"spacingAndGlyphs\" textLength=\"9\" x=\"614.5\" y=\"42.6982\">q</text><rect fill=\"#383838\" height=\"12\" style=\"stroke: #F8F8F8; stroke-width: 1.5;\" width=\"12\" x=\"613\" y=\"58\"/><text fill=\"#000000\" font-family=\"sans-serif\" font-size=\"14\" lengthAdjust=\"spacingAndGlyphs\" textLength=\"39\" x=\"599.5\" y=\"380.7151\">result</text><rect fill=\"#383838\" height=\"12\" style=\"stroke: #F8F8F8; stroke-width: 1.5;\" width=\"12\" x=\"613\" y=\"355.72\"/><!--MD5=[05d275557350bfb9b23a4ef7222b4c39]\n",
       "link E3 to E2--><a href=\"psysml:0b532ab9-83c4-4e75-92c6-eb24823a8b5d\" target=\"_top\" title=\"psysml:0b532ab9-83c4-4e75-92c6-eb24823a8b5d\" xlink:actuate=\"onRequest\" xlink:href=\"psysml:0b532ab9-83c4-4e75-92c6-eb24823a8b5d\" xlink:show=\"new\" xlink:title=\"psysml:0b532ab9-83c4-4e75-92c6-eb24823a8b5d\" xlink:type=\"simple\"><path d=\"M487,87.29 C487,87.29 487,126.78 487,126.78 \" fill=\"none\" id=\"E3-&gt;E2\" style=\"stroke: #383838; stroke-width: 1.0;\"/><polygon fill=\"#FFFFFF\" points=\"487,146.78,480,127.78,494,127.78,487,146.78\" style=\"stroke: #383838; stroke-width: 1.0;\"/><ellipse cx=\"482\" cy=\"122.08\" fill=\"#383838\" rx=\"2\" ry=\"2\" style=\"stroke: #383838; stroke-width: 1.0;\"/><ellipse cx=\"492\" cy=\"122.08\" fill=\"#383838\" rx=\"2\" ry=\"2\" style=\"stroke: #383838; stroke-width: 1.0;\"/></a><!--MD5=[ede42307f6f576623be7d56a0b5c4159]\n",
       "@startuml\r\n",
       "skinparam linetype ortho\r\n",
       "skinparam monochrome true\r\n",
       "skinparam classbackgroundcolor white\r\n",
       "skinparam shadowing false\r\n",
       "skinparam wrapWidth 300\r\n",
       "hide circle\r\n",
       "\r\n",
       "package \"ParameterTest\" as E1  [[psysml:a676bd1d-a902-490f-aa39-52389ae12c12 ]]  {\r\n",
       "comp def \"A\" as E2  <<(T,blue) attribute def>> [[psysml:da28d9c5-e66b-4d93-bbca-9dea65a864c0 ]] {\r\n",
       "- - attributes - -\r\n",
       "x: String\r\n",
       "y: A\r\n",
       "}\r\n",
       "comp usage \"a: A\" as E3  <<(T,blue) attribute>> [[psysml:8df57e9c-49a1-414c-8fdd-827b36a310a4 ]] {\r\n",
       "}\r\n",
       "rec def \"F\" as E4  <<(T,blue) calculation def>> [[psysml:40a467ef-e18b-46ff-840a-6dc079db3448 ]] {\r\n",
       "portin \"p\" as E5  [[psysml:5802290c-01bb-4d71-b710-026b61c78f11 ]] \r\n",
       "portin \"q\" as E6  [[psysml:197907df-8789-46a9-bbed-d5f940e1c2ab ]] \r\n",
       "portout \"result\" as E7  [[psysml:e7c52caa-c6a6-4daa-b328-953e2590a8bc ]] \r\n",
       "}\r\n",
       "\r\n",
       "comp usage \"f\" as E8  <<(T,blue) attribute>> [[psysml:2237367a-6968-472a-8f6b-3570950aa6b8 ]] {\r\n",
       "}\r\n",
       "comp usage \"g\" as E9  <<(T,blue) attribute>> [[psysml:b8cf583e-a2e4-421e-986b-a2654bc5da1a ]] {\r\n",
       "}\r\n",
       "comp usage \"b\" as E10  <<(T,blue) attribute>> [[psysml:0aa11811-cac3-458e-8be5-17e4f08795b7 ]] {\r\n",
       "}\r\n",
       "comp usage \"c\" as E11  <<(T,blue) attribute>> [[psysml:4713065a-36eb-4143-8ed6-c41cfc39d881 ]] {\r\n",
       "}\r\n",
       "}\r\n",
       "E3 - -:|> E2 [[psysml:0b532ab9-83c4-4e75-92c6-eb24823a8b5d ]] \r\n",
       "@enduml\r\n",
       "\n",
       "PlantUML version 1.2020.13(Sat Jun 13 12:26:38 UTC 2020)\n",
       "(EPL source distribution)\n",
       "Java Runtime: OpenJDK Runtime Environment\n",
       "JVM: OpenJDK 64-Bit Server VM\n",
       "Default Encoding: UTF-8\n",
       "Language: en\n",
       "Country: null\n",
       "--></g></svg>"
      ]
     },
     "execution_count": 51,
     "metadata": {},
     "output_type": "execute_result"
    }
   ],
   "source": [
    "%viz --style=\"ORTHOLINE\" --view=\"Default\" \"ParameterTest\""
   ]
  },
  {
   "cell_type": "code",
   "execution_count": 52,
   "id": "3f5c1f45",
   "metadata": {
    "execution": {
     "iopub.execute_input": "2021-10-03T08:28:28.089996Z",
     "iopub.status.busy": "2021-10-03T08:28:28.089599Z",
     "iopub.status.idle": "2021-10-03T08:28:28.138221Z",
     "shell.execute_reply": "2021-10-03T08:28:28.136440Z"
    }
   },
   "outputs": [
    {
     "data": {
      "image/svg+xml": [
       "<?xml version=\"1.0\" encoding=\"UTF-8\" standalone=\"no\"?><svg xmlns=\"http://www.w3.org/2000/svg\" xmlns:xlink=\"http://www.w3.org/1999/xlink\" contentScriptType=\"application/ecmascript\" contentStyleType=\"text/css\" height=\"280px\" preserveAspectRatio=\"none\" style=\"width:710px;height:280px;\" version=\"1.1\" viewBox=\"0 0 710 280\" width=\"710px\" zoomAndPan=\"magnify\"><defs/><g><!--MD5=[fbc87193dbaf4d95561dea2c320d4a47]\n",
       "cluster E1--><a href=\"psysml:a676bd1d-a902-490f-aa39-52389ae12c12\" target=\"_top\" title=\"psysml:a676bd1d-a902-490f-aa39-52389ae12c12\" xlink:actuate=\"onRequest\" xlink:href=\"psysml:a676bd1d-a902-490f-aa39-52389ae12c12\" xlink:show=\"new\" xlink:title=\"psysml:a676bd1d-a902-490f-aa39-52389ae12c12\" xlink:type=\"simple\"><polygon fill=\"#FFFFFF\" points=\"16,6,124,6,131,28.2969,688,28.2969,688,268,16,268,16,6\" style=\"stroke: #000000; stroke-width: 1.5;\"/><line style=\"stroke: #000000; stroke-width: 1.5;\" x1=\"16\" x2=\"131\" y1=\"28.2969\" y2=\"28.2969\"/><text fill=\"#000000\" font-family=\"sans-serif\" font-size=\"14\" font-weight=\"bold\" lengthAdjust=\"spacingAndGlyphs\" textLength=\"102\" x=\"20\" y=\"20.9951\">ParameterTest</text></a><!--MD5=[b4997ac47864f28c2f74865a473b2911]\n",
       "class E2--><a href=\"psysml:da28d9c5-e66b-4d93-bbca-9dea65a864c0\" target=\"_top\" title=\"psysml:da28d9c5-e66b-4d93-bbca-9dea65a864c0\" xlink:actuate=\"onRequest\" xlink:href=\"psysml:da28d9c5-e66b-4d93-bbca-9dea65a864c0\" xlink:show=\"new\" xlink:title=\"psysml:da28d9c5-e66b-4d93-bbca-9dea65a864c0\" xlink:type=\"simple\"><rect fill=\"#FFFFFF\" height=\"88.3516\" id=\"E2\" style=\"stroke: #383838; stroke-width: 1.5;\" width=\"95\" x=\"498.5\" y=\"164\"/><text fill=\"#000000\" font-family=\"sans-serif\" font-size=\"12\" font-style=\"italic\" lengthAdjust=\"spacingAndGlyphs\" textLength=\"93\" x=\"499.5\" y=\"180.1387\">«attribute def»</text><text fill=\"#000000\" font-family=\"sans-serif\" font-size=\"12\" lengthAdjust=\"spacingAndGlyphs\" textLength=\"8\" x=\"542\" y=\"194.1074\">A</text><line style=\"stroke: #383838; stroke-width: 1.5;\" x1=\"499.5\" x2=\"592.5\" y1=\"201.9375\" y2=\"201.9375\"/><text fill=\"#000000\" font-family=\"sans-serif\" font-size=\"11\" lengthAdjust=\"spacingAndGlyphs\" textLength=\"48\" x=\"504.5\" y=\"232.9526\">x: String</text><text fill=\"#000000\" font-family=\"sans-serif\" font-size=\"11\" lengthAdjust=\"spacingAndGlyphs\" textLength=\"21\" x=\"504.5\" y=\"245.7573\">y: A</text><line style=\"stroke: #383838; stroke-width: 1.0;\" x1=\"499.5\" x2=\"518.5\" y1=\"216.3398\" y2=\"216.3398\"/><text fill=\"#000000\" font-family=\"sans-serif\" font-size=\"11\" lengthAdjust=\"spacingAndGlyphs\" textLength=\"55\" x=\"518.5\" y=\"219.6479\">attributes</text><line style=\"stroke: #383838; stroke-width: 1.0;\" x1=\"573.5\" x2=\"592.5\" y1=\"216.3398\" y2=\"216.3398\"/></a><!--MD5=[09b614a08d8cba4a07c9adeb5e0fee81]\n",
       "class E3--><a href=\"psysml:8df57e9c-49a1-414c-8fdd-827b36a310a4\" target=\"_top\" title=\"psysml:8df57e9c-49a1-414c-8fdd-827b36a310a4\" xlink:actuate=\"onRequest\" xlink:href=\"psysml:8df57e9c-49a1-414c-8fdd-827b36a310a4\" xlink:show=\"new\" xlink:title=\"psysml:8df57e9c-49a1-414c-8fdd-827b36a310a4\" xlink:type=\"simple\"><rect fill=\"#FFFFFF\" height=\"45.9375\" id=\"E3\" rx=\"10\" ry=\"10\" style=\"stroke: #383838; stroke-width: 1.5;\" width=\"71\" x=\"600.5\" y=\"41\"/><text fill=\"#000000\" font-family=\"sans-serif\" font-size=\"12\" font-style=\"italic\" lengthAdjust=\"spacingAndGlyphs\" textLength=\"69\" x=\"601.5\" y=\"57.1387\">«attribute»</text><text fill=\"#000000\" font-family=\"sans-serif\" font-size=\"12\" lengthAdjust=\"spacingAndGlyphs\" textLength=\"24\" x=\"624\" y=\"71.1074\">a: A</text><line style=\"stroke: #383838; stroke-width: 1.5;\" x1=\"601.5\" x2=\"670.5\" y1=\"78.9375\" y2=\"78.9375\"/></a><!--MD5=[ebbe1d658d1005bcc118a6aa81145e00]\n",
       "class E4--><a href=\"psysml:40a467ef-e18b-46ff-840a-6dc079db3448\" target=\"_top\" title=\"psysml:40a467ef-e18b-46ff-840a-6dc079db3448\" xlink:actuate=\"onRequest\" xlink:href=\"psysml:40a467ef-e18b-46ff-840a-6dc079db3448\" xlink:show=\"new\" xlink:title=\"psysml:40a467ef-e18b-46ff-840a-6dc079db3448\" xlink:type=\"simple\"><rect fill=\"#FFFFFF\" height=\"45.9375\" id=\"E4\" style=\"stroke: #383838; stroke-width: 1.5;\" width=\"108\" x=\"457\" y=\"41\"/><text fill=\"#000000\" font-family=\"sans-serif\" font-size=\"12\" font-style=\"italic\" lengthAdjust=\"spacingAndGlyphs\" textLength=\"106\" x=\"458\" y=\"57.1387\">«calculation def»</text><text fill=\"#000000\" font-family=\"sans-serif\" font-size=\"12\" lengthAdjust=\"spacingAndGlyphs\" textLength=\"7\" x=\"507.5\" y=\"71.1074\">F</text><line style=\"stroke: #383838; stroke-width: 1.5;\" x1=\"458\" x2=\"564\" y1=\"78.9375\" y2=\"78.9375\"/></a><!--MD5=[270fce915f116d4de14055a7c1d9a0f3]\n",
       "class E5--><a href=\"psysml:2237367a-6968-472a-8f6b-3570950aa6b8\" target=\"_top\" title=\"psysml:2237367a-6968-472a-8f6b-3570950aa6b8\" xlink:actuate=\"onRequest\" xlink:href=\"psysml:2237367a-6968-472a-8f6b-3570950aa6b8\" xlink:show=\"new\" xlink:title=\"psysml:2237367a-6968-472a-8f6b-3570950aa6b8\" xlink:type=\"simple\"><rect fill=\"#FFFFFF\" height=\"45.9375\" id=\"E5\" rx=\"10\" ry=\"10\" style=\"stroke: #383838; stroke-width: 1.5;\" width=\"71\" x=\"350.5\" y=\"41\"/><text fill=\"#000000\" font-family=\"sans-serif\" font-size=\"12\" font-style=\"italic\" lengthAdjust=\"spacingAndGlyphs\" textLength=\"69\" x=\"351.5\" y=\"57.1387\">«attribute»</text><text fill=\"#000000\" font-family=\"sans-serif\" font-size=\"12\" lengthAdjust=\"spacingAndGlyphs\" textLength=\"4\" x=\"384\" y=\"71.1074\">f</text><line style=\"stroke: #383838; stroke-width: 1.5;\" x1=\"351.5\" x2=\"420.5\" y1=\"78.9375\" y2=\"78.9375\"/></a><!--MD5=[60a26617385b1d2d0262a64233df1f8d]\n",
       "class E6--><a href=\"psysml:b8cf583e-a2e4-421e-986b-a2654bc5da1a\" target=\"_top\" title=\"psysml:b8cf583e-a2e4-421e-986b-a2654bc5da1a\" xlink:actuate=\"onRequest\" xlink:href=\"psysml:b8cf583e-a2e4-421e-986b-a2654bc5da1a\" xlink:show=\"new\" xlink:title=\"psysml:b8cf583e-a2e4-421e-986b-a2654bc5da1a\" xlink:type=\"simple\"><rect fill=\"#FFFFFF\" height=\"45.9375\" id=\"E6\" rx=\"10\" ry=\"10\" style=\"stroke: #383838; stroke-width: 1.5;\" width=\"71\" x=\"244.5\" y=\"41\"/><text fill=\"#000000\" font-family=\"sans-serif\" font-size=\"12\" font-style=\"italic\" lengthAdjust=\"spacingAndGlyphs\" textLength=\"69\" x=\"245.5\" y=\"57.1387\">«attribute»</text><text fill=\"#000000\" font-family=\"sans-serif\" font-size=\"12\" lengthAdjust=\"spacingAndGlyphs\" textLength=\"8\" x=\"276\" y=\"71.1074\">g</text><line style=\"stroke: #383838; stroke-width: 1.5;\" x1=\"245.5\" x2=\"314.5\" y1=\"78.9375\" y2=\"78.9375\"/></a><!--MD5=[2156ba9850f5573cc1fc38a6a4b2f02b]\n",
       "class E7--><a href=\"psysml:0aa11811-cac3-458e-8be5-17e4f08795b7\" target=\"_top\" title=\"psysml:0aa11811-cac3-458e-8be5-17e4f08795b7\" xlink:actuate=\"onRequest\" xlink:href=\"psysml:0aa11811-cac3-458e-8be5-17e4f08795b7\" xlink:show=\"new\" xlink:title=\"psysml:0aa11811-cac3-458e-8be5-17e4f08795b7\" xlink:type=\"simple\"><rect fill=\"#FFFFFF\" height=\"45.9375\" id=\"E7\" rx=\"10\" ry=\"10\" style=\"stroke: #383838; stroke-width: 1.5;\" width=\"71\" x=\"138.5\" y=\"41\"/><text fill=\"#000000\" font-family=\"sans-serif\" font-size=\"12\" font-style=\"italic\" lengthAdjust=\"spacingAndGlyphs\" textLength=\"69\" x=\"139.5\" y=\"57.1387\">«attribute»</text><text fill=\"#000000\" font-family=\"sans-serif\" font-size=\"12\" lengthAdjust=\"spacingAndGlyphs\" textLength=\"8\" x=\"170\" y=\"71.1074\">b</text><line style=\"stroke: #383838; stroke-width: 1.5;\" x1=\"139.5\" x2=\"208.5\" y1=\"78.9375\" y2=\"78.9375\"/></a><!--MD5=[b9389687b975829384b498ac4b7476b2]\n",
       "class E8--><a href=\"psysml:4713065a-36eb-4143-8ed6-c41cfc39d881\" target=\"_top\" title=\"psysml:4713065a-36eb-4143-8ed6-c41cfc39d881\" xlink:actuate=\"onRequest\" xlink:href=\"psysml:4713065a-36eb-4143-8ed6-c41cfc39d881\" xlink:show=\"new\" xlink:title=\"psysml:4713065a-36eb-4143-8ed6-c41cfc39d881\" xlink:type=\"simple\"><rect fill=\"#FFFFFF\" height=\"45.9375\" id=\"E8\" rx=\"10\" ry=\"10\" style=\"stroke: #383838; stroke-width: 1.5;\" width=\"71\" x=\"32.5\" y=\"41\"/><text fill=\"#000000\" font-family=\"sans-serif\" font-size=\"12\" font-style=\"italic\" lengthAdjust=\"spacingAndGlyphs\" textLength=\"69\" x=\"33.5\" y=\"57.1387\">«attribute»</text><text fill=\"#000000\" font-family=\"sans-serif\" font-size=\"12\" lengthAdjust=\"spacingAndGlyphs\" textLength=\"7\" x=\"64.5\" y=\"71.1074\">c</text><line style=\"stroke: #383838; stroke-width: 1.5;\" x1=\"33.5\" x2=\"102.5\" y1=\"78.9375\" y2=\"78.9375\"/></a><!--MD5=[05d275557350bfb9b23a4ef7222b4c39]\n",
       "link E3 to E2--><a href=\"psysml:0b532ab9-83c4-4e75-92c6-eb24823a8b5d\" target=\"_top\" title=\"psysml:0b532ab9-83c4-4e75-92c6-eb24823a8b5d\" xlink:actuate=\"onRequest\" xlink:href=\"psysml:0b532ab9-83c4-4e75-92c6-eb24823a8b5d\" xlink:show=\"new\" xlink:title=\"psysml:0b532ab9-83c4-4e75-92c6-eb24823a8b5d\" xlink:type=\"simple\"><path d=\"M600.38,64 C588.98,64 579.25,64 579.25,64 C579.25,64 579.25,143.62 579.25,143.62 \" fill=\"none\" id=\"E3-&gt;E2\" style=\"stroke: #383838; stroke-width: 1.0;\"/><polygon fill=\"#FFFFFF\" points=\"579.25,163.62,572.25,144.62,586.25,144.62,579.25,163.62\" style=\"stroke: #383838; stroke-width: 1.0;\"/><ellipse cx=\"574.25\" cy=\"138.92\" fill=\"#383838\" rx=\"2\" ry=\"2\" style=\"stroke: #383838; stroke-width: 1.0;\"/><ellipse cx=\"584.25\" cy=\"138.92\" fill=\"#383838\" rx=\"2\" ry=\"2\" style=\"stroke: #383838; stroke-width: 1.0;\"/></a><!--MD5=[ddeed8deb2209213b62e6cfabaa108b2]\n",
       "reverse link E4 to E2--><a href=\"psysml:5802290c-01bb-4d71-b710-026b61c78f11\" target=\"_top\" title=\"psysml:5802290c-01bb-4d71-b710-026b61c78f11\" xlink:actuate=\"onRequest\" xlink:href=\"psysml:5802290c-01bb-4d71-b710-026b61c78f11\" xlink:show=\"new\" xlink:title=\"psysml:5802290c-01bb-4d71-b710-026b61c78f11\" xlink:type=\"simple\"><path d=\"M531.75,100.14 C531.75,100.14 531.75,163.71 531.75,163.71 \" fill=\"none\" id=\"E4&lt;-E2\" style=\"stroke: #383838; stroke-width: 1.0;\"/><polygon fill=\"#FFFFFF\" points=\"531.75,87.14,527.75,93.14,531.75,99.14,535.75,93.14,531.75,87.14\" style=\"stroke: #383838; stroke-width: 1.0;\"/><text fill=\"#000000\" font-family=\"sans-serif\" font-size=\"13\" lengthAdjust=\"spacingAndGlyphs\" textLength=\"8\" x=\"539\" y=\"130.0669\">p</text></a><!--MD5=[102825761527609aee49b179837b47cf]\n",
       "@startuml\r\n",
       "skinparam linetype ortho\r\n",
       "skinparam monochrome true\r\n",
       "skinparam classbackgroundcolor white\r\n",
       "skinparam shadowing false\r\n",
       "skinparam wrapWidth 300\r\n",
       "hide circle\r\n",
       "\r\n",
       "package \"ParameterTest\" as E1  [[psysml:a676bd1d-a902-490f-aa39-52389ae12c12 ]]  {\r\n",
       "comp def \"A\" as E2  <<(T,blue) attribute def>> [[psysml:da28d9c5-e66b-4d93-bbca-9dea65a864c0 ]] {\r\n",
       "- - attributes - -\r\n",
       "x: String\r\n",
       "y: A\r\n",
       "}\r\n",
       "comp usage \"a: A\" as E3  <<(T,blue) attribute>> [[psysml:8df57e9c-49a1-414c-8fdd-827b36a310a4 ]] {\r\n",
       "}\r\n",
       "comp def \"F\" as E4  <<(T,blue) calculation def>> [[psysml:40a467ef-e18b-46ff-840a-6dc079db3448 ]] {\r\n",
       "}\r\n",
       "comp usage \"f\" as E5  <<(T,blue) attribute>> [[psysml:2237367a-6968-472a-8f6b-3570950aa6b8 ]] {\r\n",
       "}\r\n",
       "comp usage \"g\" as E6  <<(T,blue) attribute>> [[psysml:b8cf583e-a2e4-421e-986b-a2654bc5da1a ]] {\r\n",
       "}\r\n",
       "comp usage \"b\" as E7  <<(T,blue) attribute>> [[psysml:0aa11811-cac3-458e-8be5-17e4f08795b7 ]] {\r\n",
       "}\r\n",
       "comp usage \"c\" as E8  <<(T,blue) attribute>> [[psysml:4713065a-36eb-4143-8ed6-c41cfc39d881 ]] {\r\n",
       "}\r\n",
       "}\r\n",
       "E3 - -:|> E2 [[psysml:0b532ab9-83c4-4e75-92c6-eb24823a8b5d ]] \r\n",
       "E4 o- - E2 [[psysml:5802290c-01bb-4d71-b710-026b61c78f11 ]] : p\r\n",
       "@enduml\r\n",
       "\n",
       "PlantUML version 1.2020.13(Sat Jun 13 12:26:38 UTC 2020)\n",
       "(EPL source distribution)\n",
       "Java Runtime: OpenJDK Runtime Environment\n",
       "JVM: OpenJDK 64-Bit Server VM\n",
       "Default Encoding: UTF-8\n",
       "Language: en\n",
       "Country: null\n",
       "--></g></svg>"
      ]
     },
     "execution_count": 52,
     "metadata": {},
     "output_type": "execute_result"
    }
   ],
   "source": [
    "%viz --style=\"ORTHOLINE\" --view=\"Tree\" \"ParameterTest\""
   ]
  },
  {
   "cell_type": "code",
   "execution_count": 53,
   "id": "8688a962",
   "metadata": {
    "execution": {
     "iopub.execute_input": "2021-10-03T08:28:28.187025Z",
     "iopub.status.busy": "2021-10-03T08:28:28.186631Z",
     "iopub.status.idle": "2021-10-03T08:28:28.192512Z",
     "shell.execute_reply": "2021-10-03T08:28:28.192801Z"
    }
   },
   "outputs": [
    {
     "data": {
      "image/svg+xml": [
       "<?xml version=\"1.0\" encoding=\"UTF-8\" standalone=\"no\"?><svg xmlns=\"http://www.w3.org/2000/svg\" xmlns:xlink=\"http://www.w3.org/1999/xlink\" contentScriptType=\"application/ecmascript\" contentStyleType=\"text/css\" height=\"12px\" preserveAspectRatio=\"none\" style=\"width:12px;height:12px;\" version=\"1.1\" viewBox=\"0 0 12 12\" width=\"12px\" zoomAndPan=\"magnify\"><defs/><g><!--MD5=[97d6f38768b311333d388e66b2b27985]\n",
       "@startuml\r\n",
       "skinparam linetype ortho\r\n",
       "skinparam monochrome true\r\n",
       "skinparam classbackgroundcolor white\r\n",
       "skinparam shadowing false\r\n",
       "skinparam wrapWidth 300\r\n",
       "hide circle\r\n",
       "\r\n",
       "@enduml\r\n",
       "\n",
       "PlantUML version 1.2020.13(Sat Jun 13 12:26:38 UTC 2020)\n",
       "(EPL source distribution)\n",
       "Java Runtime: OpenJDK Runtime Environment\n",
       "JVM: OpenJDK 64-Bit Server VM\n",
       "Default Encoding: UTF-8\n",
       "Language: en\n",
       "Country: null\n",
       "--></g></svg>"
      ]
     },
     "execution_count": 53,
     "metadata": {},
     "output_type": "execute_result"
    }
   ],
   "source": [
    "%viz --style=\"ORTHOLINE\" --view=\"State\" \"ParameterTest\""
   ]
  },
  {
   "cell_type": "code",
   "execution_count": 54,
   "id": "04d02967",
   "metadata": {
    "execution": {
     "iopub.execute_input": "2021-10-03T08:28:28.241855Z",
     "iopub.status.busy": "2021-10-03T08:28:28.241460Z",
     "iopub.status.idle": "2021-10-03T08:28:28.275367Z",
     "shell.execute_reply": "2021-10-03T08:28:28.273600Z"
    }
   },
   "outputs": [
    {
     "data": {
      "image/svg+xml": [
       "<?xml version=\"1.0\" encoding=\"UTF-8\" standalone=\"no\"?><svg xmlns=\"http://www.w3.org/2000/svg\" xmlns:xlink=\"http://www.w3.org/1999/xlink\" contentScriptType=\"application/ecmascript\" contentStyleType=\"text/css\" height=\"216px\" preserveAspectRatio=\"none\" style=\"width:740px;height:216px;\" version=\"1.1\" viewBox=\"0 0 740 216\" width=\"740px\" zoomAndPan=\"magnify\"><defs/><g><!--MD5=[fbc87193dbaf4d95561dea2c320d4a47]\n",
       "cluster E1--><a href=\"psysml:a676bd1d-a902-490f-aa39-52389ae12c12\" target=\"_top\" title=\"psysml:a676bd1d-a902-490f-aa39-52389ae12c12\" xlink:actuate=\"onRequest\" xlink:href=\"psysml:a676bd1d-a902-490f-aa39-52389ae12c12\" xlink:show=\"new\" xlink:title=\"psysml:a676bd1d-a902-490f-aa39-52389ae12c12\" xlink:type=\"simple\"><polygon fill=\"#FFFFFF\" points=\"16,6,124,6,131,28.2969,718,28.2969,718,204.72,16,204.72,16,6\" style=\"stroke: #000000; stroke-width: 1.5;\"/><line style=\"stroke: #000000; stroke-width: 1.5;\" x1=\"16\" x2=\"131\" y1=\"28.2969\" y2=\"28.2969\"/><text fill=\"#000000\" font-family=\"sans-serif\" font-size=\"14\" font-weight=\"bold\" lengthAdjust=\"spacingAndGlyphs\" textLength=\"102\" x=\"20\" y=\"20.9951\">ParameterTest</text></a><!--MD5=[f6df4d0ebaf0b5dfb2ced0ae5af7c670]\n",
       "cluster E4--><a href=\"psysml:40a467ef-e18b-46ff-840a-6dc079db3448\" target=\"_top\" title=\"psysml:40a467ef-e18b-46ff-840a-6dc079db3448\" xlink:actuate=\"onRequest\" xlink:href=\"psysml:40a467ef-e18b-46ff-840a-6dc079db3448\" xlink:show=\"new\" xlink:title=\"psysml:40a467ef-e18b-46ff-840a-6dc079db3448\" xlink:type=\"simple\"><rect fill=\"#FFFFFF\" height=\"110.72\" id=\"E4\" style=\"stroke: #383838; stroke-width: 1.5;\" width=\"148\" x=\"554\" y=\"64\"/><rect fill=\"#F8F8F8\" height=\"37.9375\" style=\"stroke: #383838; stroke-width: 1.5;\" width=\"148\" x=\"554\" y=\"64\"/><text fill=\"#000000\" font-family=\"sans-serif\" font-size=\"12\" font-style=\"italic\" lengthAdjust=\"spacingAndGlyphs\" textLength=\"106\" x=\"575\" y=\"80.1387\">«calculation def»</text><text fill=\"#000000\" font-family=\"sans-serif\" font-size=\"12\" lengthAdjust=\"spacingAndGlyphs\" textLength=\"7\" x=\"624.5\" y=\"94.1074\">F</text></a><g id=\"E1.E2\"><a href=\"psysml:da28d9c5-e66b-4d93-bbca-9dea65a864c0\" target=\"_top\" title=\"psysml:da28d9c5-e66b-4d93-bbca-9dea65a864c0\" xlink:actuate=\"onRequest\" xlink:href=\"psysml:da28d9c5-e66b-4d93-bbca-9dea65a864c0\" xlink:show=\"new\" xlink:title=\"psysml:da28d9c5-e66b-4d93-bbca-9dea65a864c0\" xlink:type=\"simple\"><rect fill=\"#FFFFFF\" height=\"42.9375\" id=\"E2\" style=\"stroke: #383838; stroke-width: 1.5;\" width=\"100\" x=\"417\" y=\"99\"/><rect fill=\"#F8F8F8\" height=\"37.9375\" style=\"stroke: #383838; stroke-width: 1.5;\" width=\"100\" x=\"417\" y=\"99\"/><text fill=\"#000000\" font-family=\"sans-serif\" font-size=\"12\" font-style=\"italic\" lengthAdjust=\"spacingAndGlyphs\" textLength=\"93\" x=\"420.5\" y=\"115.1387\">«attribute def»</text><text fill=\"#000000\" font-family=\"sans-serif\" font-size=\"12\" lengthAdjust=\"spacingAndGlyphs\" textLength=\"8\" x=\"463\" y=\"129.1074\">A</text></a></g><!--MD5=[09b614a08d8cba4a07c9adeb5e0fee81]\n",
       "class E3--><a href=\"psysml:8df57e9c-49a1-414c-8fdd-827b36a310a4\" target=\"_top\" title=\"psysml:8df57e9c-49a1-414c-8fdd-827b36a310a4\" xlink:actuate=\"onRequest\" xlink:href=\"psysml:8df57e9c-49a1-414c-8fdd-827b36a310a4\" xlink:show=\"new\" xlink:title=\"psysml:8df57e9c-49a1-414c-8fdd-827b36a310a4\" xlink:type=\"simple\"><rect fill=\"#FFFFFF\" height=\"45.9375\" id=\"E3\" rx=\"10\" ry=\"10\" style=\"stroke: #383838; stroke-width: 1.5;\" width=\"71\" x=\"456.5\" y=\"41\"/><text fill=\"#000000\" font-family=\"sans-serif\" font-size=\"12\" font-style=\"italic\" lengthAdjust=\"spacingAndGlyphs\" textLength=\"69\" x=\"457.5\" y=\"57.1387\">«attribute»</text><text fill=\"#000000\" font-family=\"sans-serif\" font-size=\"12\" lengthAdjust=\"spacingAndGlyphs\" textLength=\"24\" x=\"480\" y=\"71.1074\">a: A</text><line style=\"stroke: #383838; stroke-width: 1.5;\" x1=\"457.5\" x2=\"526.5\" y1=\"78.9375\" y2=\"78.9375\"/></a><!--MD5=[b9389687b975829384b498ac4b7476b2]\n",
       "class E8--><a href=\"psysml:2237367a-6968-472a-8f6b-3570950aa6b8\" target=\"_top\" title=\"psysml:2237367a-6968-472a-8f6b-3570950aa6b8\" xlink:actuate=\"onRequest\" xlink:href=\"psysml:2237367a-6968-472a-8f6b-3570950aa6b8\" xlink:show=\"new\" xlink:title=\"psysml:2237367a-6968-472a-8f6b-3570950aa6b8\" xlink:type=\"simple\"><rect fill=\"#FFFFFF\" height=\"45.9375\" id=\"E8\" rx=\"10\" ry=\"10\" style=\"stroke: #383838; stroke-width: 1.5;\" width=\"71\" x=\"350.5\" y=\"41\"/><text fill=\"#000000\" font-family=\"sans-serif\" font-size=\"12\" font-style=\"italic\" lengthAdjust=\"spacingAndGlyphs\" textLength=\"69\" x=\"351.5\" y=\"57.1387\">«attribute»</text><text fill=\"#000000\" font-family=\"sans-serif\" font-size=\"12\" lengthAdjust=\"spacingAndGlyphs\" textLength=\"4\" x=\"384\" y=\"71.1074\">f</text><line style=\"stroke: #383838; stroke-width: 1.5;\" x1=\"351.5\" x2=\"420.5\" y1=\"78.9375\" y2=\"78.9375\"/></a><!--MD5=[fd4143e9d270a159db93a4ea2a975926]\n",
       "class E9--><a href=\"psysml:b8cf583e-a2e4-421e-986b-a2654bc5da1a\" target=\"_top\" title=\"psysml:b8cf583e-a2e4-421e-986b-a2654bc5da1a\" xlink:actuate=\"onRequest\" xlink:href=\"psysml:b8cf583e-a2e4-421e-986b-a2654bc5da1a\" xlink:show=\"new\" xlink:title=\"psysml:b8cf583e-a2e4-421e-986b-a2654bc5da1a\" xlink:type=\"simple\"><rect fill=\"#FFFFFF\" height=\"45.9375\" id=\"E9\" rx=\"10\" ry=\"10\" style=\"stroke: #383838; stroke-width: 1.5;\" width=\"71\" x=\"244.5\" y=\"41\"/><text fill=\"#000000\" font-family=\"sans-serif\" font-size=\"12\" font-style=\"italic\" lengthAdjust=\"spacingAndGlyphs\" textLength=\"69\" x=\"245.5\" y=\"57.1387\">«attribute»</text><text fill=\"#000000\" font-family=\"sans-serif\" font-size=\"12\" lengthAdjust=\"spacingAndGlyphs\" textLength=\"8\" x=\"276\" y=\"71.1074\">g</text><line style=\"stroke: #383838; stroke-width: 1.5;\" x1=\"245.5\" x2=\"314.5\" y1=\"78.9375\" y2=\"78.9375\"/></a><!--MD5=[96f4274e9e20536e775497830990834d]\n",
       "class E10--><a href=\"psysml:0aa11811-cac3-458e-8be5-17e4f08795b7\" target=\"_top\" title=\"psysml:0aa11811-cac3-458e-8be5-17e4f08795b7\" xlink:actuate=\"onRequest\" xlink:href=\"psysml:0aa11811-cac3-458e-8be5-17e4f08795b7\" xlink:show=\"new\" xlink:title=\"psysml:0aa11811-cac3-458e-8be5-17e4f08795b7\" xlink:type=\"simple\"><rect fill=\"#FFFFFF\" height=\"45.9375\" id=\"E10\" rx=\"10\" ry=\"10\" style=\"stroke: #383838; stroke-width: 1.5;\" width=\"71\" x=\"138.5\" y=\"41\"/><text fill=\"#000000\" font-family=\"sans-serif\" font-size=\"12\" font-style=\"italic\" lengthAdjust=\"spacingAndGlyphs\" textLength=\"69\" x=\"139.5\" y=\"57.1387\">«attribute»</text><text fill=\"#000000\" font-family=\"sans-serif\" font-size=\"12\" lengthAdjust=\"spacingAndGlyphs\" textLength=\"8\" x=\"170\" y=\"71.1074\">b</text><line style=\"stroke: #383838; stroke-width: 1.5;\" x1=\"139.5\" x2=\"208.5\" y1=\"78.9375\" y2=\"78.9375\"/></a><!--MD5=[1dd1bfd58a279cf63c5f349dbc8fc6a1]\n",
       "class E11--><a href=\"psysml:4713065a-36eb-4143-8ed6-c41cfc39d881\" target=\"_top\" title=\"psysml:4713065a-36eb-4143-8ed6-c41cfc39d881\" xlink:actuate=\"onRequest\" xlink:href=\"psysml:4713065a-36eb-4143-8ed6-c41cfc39d881\" xlink:show=\"new\" xlink:title=\"psysml:4713065a-36eb-4143-8ed6-c41cfc39d881\" xlink:type=\"simple\"><rect fill=\"#FFFFFF\" height=\"45.9375\" id=\"E11\" rx=\"10\" ry=\"10\" style=\"stroke: #383838; stroke-width: 1.5;\" width=\"71\" x=\"32.5\" y=\"41\"/><text fill=\"#000000\" font-family=\"sans-serif\" font-size=\"12\" font-style=\"italic\" lengthAdjust=\"spacingAndGlyphs\" textLength=\"69\" x=\"33.5\" y=\"57.1387\">«attribute»</text><text fill=\"#000000\" font-family=\"sans-serif\" font-size=\"12\" lengthAdjust=\"spacingAndGlyphs\" textLength=\"7\" x=\"64.5\" y=\"71.1074\">c</text><line style=\"stroke: #383838; stroke-width: 1.5;\" x1=\"33.5\" x2=\"102.5\" y1=\"78.9375\" y2=\"78.9375\"/></a><text fill=\"#000000\" font-family=\"sans-serif\" font-size=\"14\" lengthAdjust=\"spacingAndGlyphs\" textLength=\"9\" x=\"567.5\" y=\"42.6982\">p</text><rect fill=\"#383838\" height=\"12\" style=\"stroke: #F8F8F8; stroke-width: 1.5;\" width=\"12\" x=\"566\" y=\"58\"/><text fill=\"#000000\" font-family=\"sans-serif\" font-size=\"14\" lengthAdjust=\"spacingAndGlyphs\" textLength=\"9\" x=\"614.5\" y=\"42.6982\">q</text><rect fill=\"#383838\" height=\"12\" style=\"stroke: #F8F8F8; stroke-width: 1.5;\" width=\"12\" x=\"613\" y=\"58\"/><text fill=\"#000000\" font-family=\"sans-serif\" font-size=\"14\" lengthAdjust=\"spacingAndGlyphs\" textLength=\"39\" x=\"599.5\" y=\"193.7151\">result</text><rect fill=\"#383838\" height=\"12\" style=\"stroke: #F8F8F8; stroke-width: 1.5;\" width=\"12\" x=\"613\" y=\"168.72\"/><!--MD5=[05d275557350bfb9b23a4ef7222b4c39]\n",
       "link E3 to E2--><a href=\"psysml:0b532ab9-83c4-4e75-92c6-eb24823a8b5d\" target=\"_top\" title=\"psysml:0b532ab9-83c4-4e75-92c6-eb24823a8b5d\" xlink:actuate=\"onRequest\" xlink:href=\"psysml:0b532ab9-83c4-4e75-92c6-eb24823a8b5d\" xlink:show=\"new\" xlink:title=\"psysml:0b532ab9-83c4-4e75-92c6-eb24823a8b5d\" xlink:type=\"simple\"><path d=\"M486.75,87.31 C486.75,87.31 486.75,88.45 486.75,88.45 \" fill=\"none\" id=\"E3-&gt;E2\" style=\"stroke: #383838; stroke-width: 1.0;\"/><polygon fill=\"#FFFFFF\" points=\"486.75,98.7,479.75,79.7,493.75,79.7,486.75,98.7\" style=\"stroke: #383838; stroke-width: 1.0;\"/><ellipse cx=\"481.75\" cy=\"74\" fill=\"#383838\" rx=\"2\" ry=\"2\" style=\"stroke: #383838; stroke-width: 1.0;\"/><ellipse cx=\"491.75\" cy=\"74\" fill=\"#383838\" rx=\"2\" ry=\"2\" style=\"stroke: #383838; stroke-width: 1.0;\"/></a><!--MD5=[9c826ac3a2a8df47bc6fbdf43d06a966]\n",
       "@startuml\r\n",
       "skinparam ranksep 10\r\n",
       "skinparam rectangle {\r\n",
       " backgroundColor<<block>> LightGreen\r\n",
       "}\r\n",
       "skinparam linetype ortho\r\n",
       "skinparam monochrome true\r\n",
       "skinparam classbackgroundcolor white\r\n",
       "skinparam shadowing false\r\n",
       "skinparam wrapWidth 300\r\n",
       "hide circle\r\n",
       "\r\n",
       "package \"ParameterTest\" as E1  [[psysml:a676bd1d-a902-490f-aa39-52389ae12c12 ]]  {\r\n",
       "def \"A\" as E2  <<(T,blue) attribute def>> [[psysml:da28d9c5-e66b-4d93-bbca-9dea65a864c0 ]] \r\n",
       "comp usage \"a: A\" as E3  <<(T,blue) attribute>> [[psysml:8df57e9c-49a1-414c-8fdd-827b36a310a4 ]] {\r\n",
       "}\r\n",
       "rec def \"F\" as E4  <<(T,blue) calculation def>> [[psysml:40a467ef-e18b-46ff-840a-6dc079db3448 ]] {\r\n",
       "portin \"p\" as E5  [[psysml:5802290c-01bb-4d71-b710-026b61c78f11 ]] \r\n",
       "portin \"q\" as E6  [[psysml:197907df-8789-46a9-bbed-d5f940e1c2ab ]] \r\n",
       "portout \"result\" as E7  [[psysml:e7c52caa-c6a6-4daa-b328-953e2590a8bc ]] \r\n",
       "}\r\n",
       "\r\n",
       "comp usage \"f\" as E8  <<(T,blue) attribute>> [[psysml:2237367a-6968-472a-8f6b-3570950aa6b8 ]] {\r\n",
       "}\r\n",
       "comp usage \"g\" as E9  <<(T,blue) attribute>> [[psysml:b8cf583e-a2e4-421e-986b-a2654bc5da1a ]] {\r\n",
       "}\r\n",
       "comp usage \"b\" as E10  <<(T,blue) attribute>> [[psysml:0aa11811-cac3-458e-8be5-17e4f08795b7 ]] {\r\n",
       "}\r\n",
       "comp usage \"c\" as E11  <<(T,blue) attribute>> [[psysml:4713065a-36eb-4143-8ed6-c41cfc39d881 ]] {\r\n",
       "}\r\n",
       "}\r\n",
       "E3 - -:|> E2 [[psysml:0b532ab9-83c4-4e75-92c6-eb24823a8b5d ]] \r\n",
       "@enduml\r\n",
       "\n",
       "PlantUML version 1.2020.13(Sat Jun 13 12:26:38 UTC 2020)\n",
       "(EPL source distribution)\n",
       "Java Runtime: OpenJDK Runtime Environment\n",
       "JVM: OpenJDK 64-Bit Server VM\n",
       "Default Encoding: UTF-8\n",
       "Language: en\n",
       "Country: null\n",
       "--></g></svg>"
      ]
     },
     "execution_count": 54,
     "metadata": {},
     "output_type": "execute_result"
    }
   ],
   "source": [
    "%viz --style=\"ORTHOLINE\" --view=\"Interconnection\" \"ParameterTest\""
   ]
  },
  {
   "cell_type": "code",
   "execution_count": 55,
   "id": "fb3750e6",
   "metadata": {
    "execution": {
     "iopub.execute_input": "2021-10-03T08:28:28.324261Z",
     "iopub.status.busy": "2021-10-03T08:28:28.323862Z",
     "iopub.status.idle": "2021-10-03T08:28:28.346556Z",
     "shell.execute_reply": "2021-10-03T08:28:28.346180Z"
    }
   },
   "outputs": [
    {
     "data": {
      "image/svg+xml": [
       "<?xml version=\"1.0\" encoding=\"UTF-8\" standalone=\"no\"?><svg xmlns=\"http://www.w3.org/2000/svg\" xmlns:xlink=\"http://www.w3.org/1999/xlink\" contentScriptType=\"application/ecmascript\" contentStyleType=\"text/css\" height=\"162px\" preserveAspectRatio=\"none\" style=\"width:166px;height:162px;\" version=\"1.1\" viewBox=\"0 0 166 162\" width=\"166px\" zoomAndPan=\"magnify\"><defs/><g><!--MD5=[fbc87193dbaf4d95561dea2c320d4a47]\n",
       "cluster E1--><a href=\"psysml:40a467ef-e18b-46ff-840a-6dc079db3448\" target=\"_top\" title=\"psysml:40a467ef-e18b-46ff-840a-6dc079db3448\" xlink:actuate=\"onRequest\" xlink:href=\"psysml:40a467ef-e18b-46ff-840a-6dc079db3448\" xlink:show=\"new\" xlink:title=\"psysml:40a467ef-e18b-46ff-840a-6dc079db3448\" xlink:type=\"simple\"><rect fill=\"#FFFFFF\" height=\"87.72\" id=\"E1\" style=\"stroke: #383838; stroke-width: 1.5;\" width=\"148\" x=\"7\" y=\"42.0986\"/><rect fill=\"#F8F8F8\" height=\"37.9375\" style=\"stroke: #383838; stroke-width: 1.5;\" width=\"148\" x=\"7\" y=\"42.0986\"/><text fill=\"#000000\" font-family=\"sans-serif\" font-size=\"12\" font-style=\"italic\" lengthAdjust=\"spacingAndGlyphs\" textLength=\"106\" x=\"28\" y=\"58.2373\">«calculation def»</text><text fill=\"#000000\" font-family=\"sans-serif\" font-size=\"12\" lengthAdjust=\"spacingAndGlyphs\" textLength=\"7\" x=\"77.5\" y=\"72.2061\">F</text></a><text fill=\"#000000\" font-family=\"sans-serif\" font-size=\"14\" lengthAdjust=\"spacingAndGlyphs\" textLength=\"9\" x=\"20.5\" y=\"20.7969\">p</text><rect fill=\"#383838\" height=\"12\" style=\"stroke: #F8F8F8; stroke-width: 1.5;\" width=\"12\" x=\"19\" y=\"36.0986\"/><text fill=\"#000000\" font-family=\"sans-serif\" font-size=\"14\" lengthAdjust=\"spacingAndGlyphs\" textLength=\"9\" x=\"67.5\" y=\"20.7969\">q</text><rect fill=\"#383838\" height=\"12\" style=\"stroke: #F8F8F8; stroke-width: 1.5;\" width=\"12\" x=\"66\" y=\"36.0986\"/><text fill=\"#000000\" font-family=\"sans-serif\" font-size=\"14\" lengthAdjust=\"spacingAndGlyphs\" textLength=\"39\" x=\"52.5\" y=\"148.8138\">result</text><rect fill=\"#383838\" height=\"12\" style=\"stroke: #F8F8F8; stroke-width: 1.5;\" width=\"12\" x=\"66\" y=\"123.8186\"/><!--MD5=[4ede43d2a458da6f2df203f55f333333]\n",
       "@startuml\r\n",
       "skinparam ranksep 8\r\n",
       "skinparam linetype ortho\r\n",
       "skinparam monochrome true\r\n",
       "skinparam classbackgroundcolor white\r\n",
       "skinparam shadowing false\r\n",
       "skinparam wrapWidth 300\r\n",
       "hide circle\r\n",
       "\r\n",
       "rec def \"F\" as E1  <<(T,blue) calculation def>> [[psysml:40a467ef-e18b-46ff-840a-6dc079db3448 ]] {\r\n",
       "portin \"p\" as E2  [[psysml:5802290c-01bb-4d71-b710-026b61c78f11 ]] \r\n",
       "portin \"q\" as E3  [[psysml:197907df-8789-46a9-bbed-d5f940e1c2ab ]] \r\n",
       "portout \"result\" as E4  [[psysml:e7c52caa-c6a6-4daa-b328-953e2590a8bc ]] \r\n",
       "}\r\n",
       "\r\n",
       "@enduml\r\n",
       "\n",
       "PlantUML version 1.2020.13(Sat Jun 13 12:26:38 UTC 2020)\n",
       "(EPL source distribution)\n",
       "Java Runtime: OpenJDK Runtime Environment\n",
       "JVM: OpenJDK 64-Bit Server VM\n",
       "Default Encoding: UTF-8\n",
       "Language: en\n",
       "Country: null\n",
       "--></g></svg>"
      ]
     },
     "execution_count": 55,
     "metadata": {},
     "output_type": "execute_result"
    }
   ],
   "source": [
    "%viz --style=\"ORTHOLINE\" --view=\"Action\" \"ParameterTest\""
   ]
  },
  {
   "cell_type": "code",
   "execution_count": 56,
   "id": "ee6ad5e2",
   "metadata": {
    "execution": {
     "iopub.execute_input": "2021-10-03T08:28:28.395785Z",
     "iopub.status.busy": "2021-10-03T08:28:28.395387Z",
     "iopub.status.idle": "2021-10-03T08:28:28.400754Z",
     "shell.execute_reply": "2021-10-03T08:28:28.400407Z"
    }
   },
   "outputs": [
    {
     "data": {
      "image/svg+xml": [
       "<?xml version=\"1.0\" encoding=\"UTF-8\" standalone=\"no\"?><svg xmlns=\"http://www.w3.org/2000/svg\" xmlns:xlink=\"http://www.w3.org/1999/xlink\" contentScriptType=\"application/ecmascript\" contentStyleType=\"text/css\" height=\"12px\" preserveAspectRatio=\"none\" style=\"width:12px;height:12px;\" version=\"1.1\" viewBox=\"0 0 12 12\" width=\"12px\" zoomAndPan=\"magnify\"><defs/><g><!--MD5=[30fc1de5121c5abddedd55b44417fde8]\n",
       "@startuml\r\n",
       "skinparam roundcorner 20\r\n",
       "skinparam BoxPadding 20\r\n",
       "skinparam SequenceBoxBackgroundColor #white\r\n",
       "skinparam style strictuml\r\n",
       "skinparam maxMessageSize 100\r\n",
       "skinparam linetype ortho\r\n",
       "skinparam monochrome true\r\n",
       "skinparam classbackgroundcolor white\r\n",
       "skinparam shadowing false\r\n",
       "skinparam wrapWidth 300\r\n",
       "hide circle\r\n",
       "\r\n",
       "@enduml\r\n",
       "\n",
       "PlantUML version 1.2020.13(Sat Jun 13 12:26:38 UTC 2020)\n",
       "(EPL source distribution)\n",
       "Java Runtime: OpenJDK Runtime Environment\n",
       "JVM: OpenJDK 64-Bit Server VM\n",
       "Default Encoding: UTF-8\n",
       "Language: en\n",
       "Country: null\n",
       "--></g></svg>"
      ]
     },
     "execution_count": 56,
     "metadata": {},
     "output_type": "execute_result"
    }
   ],
   "source": [
    "%viz --style=\"ORTHOLINE\" --view=\"Sequence\" \"ParameterTest\""
   ]
  },
  {
   "cell_type": "code",
   "execution_count": 57,
   "id": "9f75c1a6",
   "metadata": {
    "execution": {
     "iopub.execute_input": "2021-10-03T08:28:28.450075Z",
     "iopub.status.busy": "2021-10-03T08:28:28.449678Z",
     "iopub.status.idle": "2021-10-03T08:28:28.500652Z",
     "shell.execute_reply": "2021-10-03T08:28:28.500297Z"
    }
   },
   "outputs": [
    {
     "data": {
      "image/svg+xml": [
       "<?xml version=\"1.0\" encoding=\"UTF-8\" standalone=\"no\"?><svg xmlns=\"http://www.w3.org/2000/svg\" xmlns:xlink=\"http://www.w3.org/1999/xlink\" contentScriptType=\"application/ecmascript\" contentStyleType=\"text/css\" height=\"403px\" preserveAspectRatio=\"none\" style=\"width:740px;height:403px;\" version=\"1.1\" viewBox=\"0 0 740 403\" width=\"740px\" zoomAndPan=\"magnify\"><defs/><g><!--MD5=[fbc87193dbaf4d95561dea2c320d4a47]\n",
       "cluster E1--><a href=\"psysml:a676bd1d-a902-490f-aa39-52389ae12c12\" target=\"_top\" title=\"psysml:a676bd1d-a902-490f-aa39-52389ae12c12\" xlink:actuate=\"onRequest\" xlink:href=\"psysml:a676bd1d-a902-490f-aa39-52389ae12c12\" xlink:show=\"new\" xlink:title=\"psysml:a676bd1d-a902-490f-aa39-52389ae12c12\" xlink:type=\"simple\"><polygon fill=\"#FFFFFF\" points=\"16,6,124,6,131,28.2969,718,28.2969,718,391.72,16,391.72,16,6\" style=\"stroke: #000000; stroke-width: 1.5;\"/><line style=\"stroke: #000000; stroke-width: 1.5;\" x1=\"16\" x2=\"131\" y1=\"28.2969\" y2=\"28.2969\"/><text fill=\"#000000\" font-family=\"sans-serif\" font-size=\"14\" font-weight=\"bold\" lengthAdjust=\"spacingAndGlyphs\" textLength=\"102\" x=\"20\" y=\"20.9951\">ParameterTest</text></a><!--MD5=[f6df4d0ebaf0b5dfb2ced0ae5af7c670]\n",
       "cluster E4--><a href=\"psysml:40a467ef-e18b-46ff-840a-6dc079db3448\" target=\"_top\" title=\"psysml:40a467ef-e18b-46ff-840a-6dc079db3448\" xlink:actuate=\"onRequest\" xlink:href=\"psysml:40a467ef-e18b-46ff-840a-6dc079db3448\" xlink:show=\"new\" xlink:title=\"psysml:40a467ef-e18b-46ff-840a-6dc079db3448\" xlink:type=\"simple\"><rect fill=\"#FFFFFF\" height=\"297.72\" id=\"E4\" style=\"stroke: #383838; stroke-width: 1.5;\" width=\"148\" x=\"554\" y=\"64\"/><rect fill=\"#F8F8F8\" height=\"37.9375\" style=\"stroke: #383838; stroke-width: 1.5;\" width=\"148\" x=\"554\" y=\"64\"/><text fill=\"#000000\" font-family=\"sans-serif\" font-size=\"12\" font-style=\"italic\" lengthAdjust=\"spacingAndGlyphs\" textLength=\"106\" x=\"575\" y=\"80.1387\">«calculation def»</text><text fill=\"#000000\" font-family=\"sans-serif\" font-size=\"12\" lengthAdjust=\"spacingAndGlyphs\" textLength=\"7\" x=\"624.5\" y=\"94.1074\">F</text></a><!--MD5=[b4997ac47864f28c2f74865a473b2911]\n",
       "class E2--><a href=\"psysml:da28d9c5-e66b-4d93-bbca-9dea65a864c0\" target=\"_top\" title=\"psysml:da28d9c5-e66b-4d93-bbca-9dea65a864c0\" xlink:actuate=\"onRequest\" xlink:href=\"psysml:da28d9c5-e66b-4d93-bbca-9dea65a864c0\" xlink:show=\"new\" xlink:title=\"psysml:da28d9c5-e66b-4d93-bbca-9dea65a864c0\" xlink:type=\"simple\"><rect fill=\"#FFFFFF\" height=\"88.3516\" id=\"E2\" style=\"stroke: #383838; stroke-width: 1.5;\" width=\"95\" x=\"422.5\" y=\"147\"/><text fill=\"#000000\" font-family=\"sans-serif\" font-size=\"12\" font-style=\"italic\" lengthAdjust=\"spacingAndGlyphs\" textLength=\"93\" x=\"423.5\" y=\"163.1387\">«attribute def»</text><text fill=\"#000000\" font-family=\"sans-serif\" font-size=\"12\" lengthAdjust=\"spacingAndGlyphs\" textLength=\"8\" x=\"466\" y=\"177.1074\">A</text><line style=\"stroke: #383838; stroke-width: 1.5;\" x1=\"423.5\" x2=\"516.5\" y1=\"184.9375\" y2=\"184.9375\"/><text fill=\"#000000\" font-family=\"sans-serif\" font-size=\"11\" lengthAdjust=\"spacingAndGlyphs\" textLength=\"48\" x=\"428.5\" y=\"215.9526\">x: String</text><text fill=\"#000000\" font-family=\"sans-serif\" font-size=\"11\" lengthAdjust=\"spacingAndGlyphs\" textLength=\"21\" x=\"428.5\" y=\"228.7573\">y: A</text><line style=\"stroke: #383838; stroke-width: 1.0;\" x1=\"423.5\" x2=\"442.5\" y1=\"199.3398\" y2=\"199.3398\"/><text fill=\"#000000\" font-family=\"sans-serif\" font-size=\"11\" lengthAdjust=\"spacingAndGlyphs\" textLength=\"55\" x=\"442.5\" y=\"202.6479\">attributes</text><line style=\"stroke: #383838; stroke-width: 1.0;\" x1=\"497.5\" x2=\"516.5\" y1=\"199.3398\" y2=\"199.3398\"/></a><!--MD5=[09b614a08d8cba4a07c9adeb5e0fee81]\n",
       "class E3--><a href=\"psysml:8df57e9c-49a1-414c-8fdd-827b36a310a4\" target=\"_top\" title=\"psysml:8df57e9c-49a1-414c-8fdd-827b36a310a4\" xlink:actuate=\"onRequest\" xlink:href=\"psysml:8df57e9c-49a1-414c-8fdd-827b36a310a4\" xlink:show=\"new\" xlink:title=\"psysml:8df57e9c-49a1-414c-8fdd-827b36a310a4\" xlink:type=\"simple\"><rect fill=\"#FFFFFF\" height=\"45.9375\" id=\"E3\" rx=\"10\" ry=\"10\" style=\"stroke: #383838; stroke-width: 1.5;\" width=\"71\" x=\"456.5\" y=\"41\"/><text fill=\"#000000\" font-family=\"sans-serif\" font-size=\"12\" font-style=\"italic\" lengthAdjust=\"spacingAndGlyphs\" textLength=\"69\" x=\"457.5\" y=\"57.1387\">«attribute»</text><text fill=\"#000000\" font-family=\"sans-serif\" font-size=\"12\" lengthAdjust=\"spacingAndGlyphs\" textLength=\"24\" x=\"480\" y=\"71.1074\">a: A</text><line style=\"stroke: #383838; stroke-width: 1.5;\" x1=\"457.5\" x2=\"526.5\" y1=\"78.9375\" y2=\"78.9375\"/></a><!--MD5=[b9389687b975829384b498ac4b7476b2]\n",
       "class E8--><a href=\"psysml:2237367a-6968-472a-8f6b-3570950aa6b8\" target=\"_top\" title=\"psysml:2237367a-6968-472a-8f6b-3570950aa6b8\" xlink:actuate=\"onRequest\" xlink:href=\"psysml:2237367a-6968-472a-8f6b-3570950aa6b8\" xlink:show=\"new\" xlink:title=\"psysml:2237367a-6968-472a-8f6b-3570950aa6b8\" xlink:type=\"simple\"><rect fill=\"#FFFFFF\" height=\"45.9375\" id=\"E8\" rx=\"10\" ry=\"10\" style=\"stroke: #383838; stroke-width: 1.5;\" width=\"71\" x=\"350.5\" y=\"41\"/><text fill=\"#000000\" font-family=\"sans-serif\" font-size=\"12\" font-style=\"italic\" lengthAdjust=\"spacingAndGlyphs\" textLength=\"69\" x=\"351.5\" y=\"57.1387\">«attribute»</text><text fill=\"#000000\" font-family=\"sans-serif\" font-size=\"12\" lengthAdjust=\"spacingAndGlyphs\" textLength=\"4\" x=\"384\" y=\"71.1074\">f</text><line style=\"stroke: #383838; stroke-width: 1.5;\" x1=\"351.5\" x2=\"420.5\" y1=\"78.9375\" y2=\"78.9375\"/></a><!--MD5=[fd4143e9d270a159db93a4ea2a975926]\n",
       "class E9--><a href=\"psysml:b8cf583e-a2e4-421e-986b-a2654bc5da1a\" target=\"_top\" title=\"psysml:b8cf583e-a2e4-421e-986b-a2654bc5da1a\" xlink:actuate=\"onRequest\" xlink:href=\"psysml:b8cf583e-a2e4-421e-986b-a2654bc5da1a\" xlink:show=\"new\" xlink:title=\"psysml:b8cf583e-a2e4-421e-986b-a2654bc5da1a\" xlink:type=\"simple\"><rect fill=\"#FFFFFF\" height=\"45.9375\" id=\"E9\" rx=\"10\" ry=\"10\" style=\"stroke: #383838; stroke-width: 1.5;\" width=\"71\" x=\"244.5\" y=\"41\"/><text fill=\"#000000\" font-family=\"sans-serif\" font-size=\"12\" font-style=\"italic\" lengthAdjust=\"spacingAndGlyphs\" textLength=\"69\" x=\"245.5\" y=\"57.1387\">«attribute»</text><text fill=\"#000000\" font-family=\"sans-serif\" font-size=\"12\" lengthAdjust=\"spacingAndGlyphs\" textLength=\"8\" x=\"276\" y=\"71.1074\">g</text><line style=\"stroke: #383838; stroke-width: 1.5;\" x1=\"245.5\" x2=\"314.5\" y1=\"78.9375\" y2=\"78.9375\"/></a><!--MD5=[96f4274e9e20536e775497830990834d]\n",
       "class E10--><a href=\"psysml:0aa11811-cac3-458e-8be5-17e4f08795b7\" target=\"_top\" title=\"psysml:0aa11811-cac3-458e-8be5-17e4f08795b7\" xlink:actuate=\"onRequest\" xlink:href=\"psysml:0aa11811-cac3-458e-8be5-17e4f08795b7\" xlink:show=\"new\" xlink:title=\"psysml:0aa11811-cac3-458e-8be5-17e4f08795b7\" xlink:type=\"simple\"><rect fill=\"#FFFFFF\" height=\"45.9375\" id=\"E10\" rx=\"10\" ry=\"10\" style=\"stroke: #383838; stroke-width: 1.5;\" width=\"71\" x=\"138.5\" y=\"41\"/><text fill=\"#000000\" font-family=\"sans-serif\" font-size=\"12\" font-style=\"italic\" lengthAdjust=\"spacingAndGlyphs\" textLength=\"69\" x=\"139.5\" y=\"57.1387\">«attribute»</text><text fill=\"#000000\" font-family=\"sans-serif\" font-size=\"12\" lengthAdjust=\"spacingAndGlyphs\" textLength=\"8\" x=\"170\" y=\"71.1074\">b</text><line style=\"stroke: #383838; stroke-width: 1.5;\" x1=\"139.5\" x2=\"208.5\" y1=\"78.9375\" y2=\"78.9375\"/></a><!--MD5=[1dd1bfd58a279cf63c5f349dbc8fc6a1]\n",
       "class E11--><a href=\"psysml:4713065a-36eb-4143-8ed6-c41cfc39d881\" target=\"_top\" title=\"psysml:4713065a-36eb-4143-8ed6-c41cfc39d881\" xlink:actuate=\"onRequest\" xlink:href=\"psysml:4713065a-36eb-4143-8ed6-c41cfc39d881\" xlink:show=\"new\" xlink:title=\"psysml:4713065a-36eb-4143-8ed6-c41cfc39d881\" xlink:type=\"simple\"><rect fill=\"#FFFFFF\" height=\"45.9375\" id=\"E11\" rx=\"10\" ry=\"10\" style=\"stroke: #383838; stroke-width: 1.5;\" width=\"71\" x=\"32.5\" y=\"41\"/><text fill=\"#000000\" font-family=\"sans-serif\" font-size=\"12\" font-style=\"italic\" lengthAdjust=\"spacingAndGlyphs\" textLength=\"69\" x=\"33.5\" y=\"57.1387\">«attribute»</text><text fill=\"#000000\" font-family=\"sans-serif\" font-size=\"12\" lengthAdjust=\"spacingAndGlyphs\" textLength=\"7\" x=\"64.5\" y=\"71.1074\">c</text><line style=\"stroke: #383838; stroke-width: 1.5;\" x1=\"33.5\" x2=\"102.5\" y1=\"78.9375\" y2=\"78.9375\"/></a><text fill=\"#000000\" font-family=\"sans-serif\" font-size=\"14\" lengthAdjust=\"spacingAndGlyphs\" textLength=\"9\" x=\"567.5\" y=\"42.6982\">p</text><rect fill=\"#383838\" height=\"12\" style=\"stroke: #F8F8F8; stroke-width: 1.5;\" width=\"12\" x=\"566\" y=\"58\"/><text fill=\"#000000\" font-family=\"sans-serif\" font-size=\"14\" lengthAdjust=\"spacingAndGlyphs\" textLength=\"9\" x=\"614.5\" y=\"42.6982\">q</text><rect fill=\"#383838\" height=\"12\" style=\"stroke: #F8F8F8; stroke-width: 1.5;\" width=\"12\" x=\"613\" y=\"58\"/><text fill=\"#000000\" font-family=\"sans-serif\" font-size=\"14\" lengthAdjust=\"spacingAndGlyphs\" textLength=\"39\" x=\"599.5\" y=\"380.7151\">result</text><rect fill=\"#383838\" height=\"12\" style=\"stroke: #F8F8F8; stroke-width: 1.5;\" width=\"12\" x=\"613\" y=\"355.72\"/><!--MD5=[05d275557350bfb9b23a4ef7222b4c39]\n",
       "link E3 to E2--><a href=\"psysml:0b532ab9-83c4-4e75-92c6-eb24823a8b5d\" target=\"_top\" title=\"psysml:0b532ab9-83c4-4e75-92c6-eb24823a8b5d\" xlink:actuate=\"onRequest\" xlink:href=\"psysml:0b532ab9-83c4-4e75-92c6-eb24823a8b5d\" xlink:show=\"new\" xlink:title=\"psysml:0b532ab9-83c4-4e75-92c6-eb24823a8b5d\" xlink:type=\"simple\"><path d=\"M487,87.29 C487,87.29 487,126.78 487,126.78 \" fill=\"none\" id=\"E3-&gt;E2\" style=\"stroke: #383838; stroke-width: 1.0;\"/><polygon fill=\"#FFFFFF\" points=\"487,146.78,480,127.78,494,127.78,487,146.78\" style=\"stroke: #383838; stroke-width: 1.0;\"/><ellipse cx=\"482\" cy=\"122.08\" fill=\"#383838\" rx=\"2\" ry=\"2\" style=\"stroke: #383838; stroke-width: 1.0;\"/><ellipse cx=\"492\" cy=\"122.08\" fill=\"#383838\" rx=\"2\" ry=\"2\" style=\"stroke: #383838; stroke-width: 1.0;\"/></a><!--MD5=[ede42307f6f576623be7d56a0b5c4159]\n",
       "@startuml\r\n",
       "skinparam linetype ortho\r\n",
       "skinparam monochrome true\r\n",
       "skinparam classbackgroundcolor white\r\n",
       "skinparam shadowing false\r\n",
       "skinparam wrapWidth 300\r\n",
       "hide circle\r\n",
       "\r\n",
       "package \"ParameterTest\" as E1  [[psysml:a676bd1d-a902-490f-aa39-52389ae12c12 ]]  {\r\n",
       "comp def \"A\" as E2  <<(T,blue) attribute def>> [[psysml:da28d9c5-e66b-4d93-bbca-9dea65a864c0 ]] {\r\n",
       "- - attributes - -\r\n",
       "x: String\r\n",
       "y: A\r\n",
       "}\r\n",
       "comp usage \"a: A\" as E3  <<(T,blue) attribute>> [[psysml:8df57e9c-49a1-414c-8fdd-827b36a310a4 ]] {\r\n",
       "}\r\n",
       "rec def \"F\" as E4  <<(T,blue) calculation def>> [[psysml:40a467ef-e18b-46ff-840a-6dc079db3448 ]] {\r\n",
       "portin \"p\" as E5  [[psysml:5802290c-01bb-4d71-b710-026b61c78f11 ]] \r\n",
       "portin \"q\" as E6  [[psysml:197907df-8789-46a9-bbed-d5f940e1c2ab ]] \r\n",
       "portout \"result\" as E7  [[psysml:e7c52caa-c6a6-4daa-b328-953e2590a8bc ]] \r\n",
       "}\r\n",
       "\r\n",
       "comp usage \"f\" as E8  <<(T,blue) attribute>> [[psysml:2237367a-6968-472a-8f6b-3570950aa6b8 ]] {\r\n",
       "}\r\n",
       "comp usage \"g\" as E9  <<(T,blue) attribute>> [[psysml:b8cf583e-a2e4-421e-986b-a2654bc5da1a ]] {\r\n",
       "}\r\n",
       "comp usage \"b\" as E10  <<(T,blue) attribute>> [[psysml:0aa11811-cac3-458e-8be5-17e4f08795b7 ]] {\r\n",
       "}\r\n",
       "comp usage \"c\" as E11  <<(T,blue) attribute>> [[psysml:4713065a-36eb-4143-8ed6-c41cfc39d881 ]] {\r\n",
       "}\r\n",
       "}\r\n",
       "E3 - -:|> E2 [[psysml:0b532ab9-83c4-4e75-92c6-eb24823a8b5d ]] \r\n",
       "@enduml\r\n",
       "\n",
       "PlantUML version 1.2020.13(Sat Jun 13 12:26:38 UTC 2020)\n",
       "(EPL source distribution)\n",
       "Java Runtime: OpenJDK Runtime Environment\n",
       "JVM: OpenJDK 64-Bit Server VM\n",
       "Default Encoding: UTF-8\n",
       "Language: en\n",
       "Country: null\n",
       "--></g></svg>"
      ]
     },
     "execution_count": 57,
     "metadata": {},
     "output_type": "execute_result"
    }
   ],
   "source": [
    "%viz --style=\"ORTHOLINE\" --view=\"MIXED\" \"ParameterTest\""
   ]
  }
 ],
 "metadata": {
  "kernelspec": {
   "display_name": "SysML",
   "language": "sysml",
   "name": "sysml"
  },
  "language_info": {
   "codemirror_mode": "sysml",
   "file_extension": ".sysml",
   "mimetype": "text/x-sysml",
   "name": "SysML",
   "pygments_lexer": "java",
   "version": "1.0.0"
  }
 },
 "nbformat": 4,
 "nbformat_minor": 5
}
