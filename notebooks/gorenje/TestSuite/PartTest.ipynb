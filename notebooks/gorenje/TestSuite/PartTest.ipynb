{
 "cells": [
  {
   "cell_type": "markdown",
   "id": "05f70625",
   "metadata": {},
   "source": [
    "# SysML v2 Test Suite\n",
    "\n",
    "This can notebook can be cleared using menu `Edit --> Clear All Outputs` and then all cells can be\n",
    "run using menu `Run --> Run All Cells`.\n",
    "\n",
    "**WARNING**: This file is generated, all modifications here will be ignored.\n"
   ]
  },
  {
   "cell_type": "markdown",
   "id": "8edb0e93",
   "metadata": {},
   "source": [
    "## File: ../../sysml/src/examples/Simple Tests/PartTest.sysml"
   ]
  },
  {
   "cell_type": "code",
   "execution_count": 1,
   "id": "a63e1c17",
   "metadata": {
    "execution": {
     "iopub.execute_input": "2022-05-19T08:45:09.817251Z",
     "iopub.status.busy": "2022-05-19T08:45:09.816140Z",
     "iopub.status.idle": "2022-05-19T08:45:10.072950Z",
     "shell.execute_reply": "2022-05-19T08:45:10.072518Z"
    }
   },
   "outputs": [
    {
     "data": {
      "text/plain": [
       "Package PartTest (538b1265-15ae-4afd-8dd2-ef0f57b41a53)\n"
      ]
     },
     "execution_count": 1,
     "metadata": {},
     "output_type": "execute_result"
    }
   ],
   "source": [
    "package PartTest {\n",
    "\t\n",
    "\tpart f: A;\n",
    "\n",
    "\tpublic part def A {\n",
    "\t\tpart <'1'> b: B;\n",
    "\t\tprotected port c: C;\n",
    "\t\treadonly attribute x[0..2];\n",
    "\t\tderived ref attribute y :> x;\n",
    "\t}\n",
    "\t\n",
    "\tabstract part def <xx> B {\n",
    "\t\tpublic abstract part a: A;\n",
    "\t\tport x: ~C;\n",
    "\t\tpackage P { }\n",
    "\t}\n",
    "\t\n",
    "\tprivate port def C {\n",
    "\t\tprivate in ref y: A, B;\n",
    "\t\talias z1 for y;\n",
    "\t\talias z2 for y;\n",
    "\t}\n",
    "\t\n",
    "}"
   ]
  },
  {
   "cell_type": "code",
   "execution_count": 2,
   "id": "1c32871d",
   "metadata": {
    "execution": {
     "iopub.execute_input": "2022-05-19T08:45:10.124544Z",
     "iopub.status.busy": "2022-05-19T08:45:10.124003Z",
     "iopub.status.idle": "2022-05-19T08:45:10.812813Z",
     "shell.execute_reply": "2022-05-19T08:45:10.811066Z"
    }
   },
   "outputs": [
    {
     "data": {
      "image/svg+xml": [
       "<?xml version=\"1.0\" encoding=\"UTF-8\" standalone=\"no\"?><svg xmlns=\"http://www.w3.org/2000/svg\" xmlns:xlink=\"http://www.w3.org/1999/xlink\" contentScriptType=\"application/ecmascript\" contentStyleType=\"text/css\" height=\"751px\" preserveAspectRatio=\"none\" style=\"width:257px;height:751px;\" version=\"1.1\" viewBox=\"0 0 257 751\" width=\"257px\" zoomAndPan=\"magnify\"><defs/><g><!--MD5=[fbc87193dbaf4d95561dea2c320d4a47]\n",
       "cluster E1--><a href=\"psysml:538b1265-15ae-4afd-8dd2-ef0f57b41a53\" target=\"_top\" title=\"psysml:538b1265-15ae-4afd-8dd2-ef0f57b41a53\" xlink:actuate=\"onRequest\" xlink:href=\"psysml:538b1265-15ae-4afd-8dd2-ef0f57b41a53\" xlink:show=\"new\" xlink:title=\"psysml:538b1265-15ae-4afd-8dd2-ef0f57b41a53\" xlink:type=\"simple\"><polygon fill=\"#FFFFFF\" points=\"16,6,80,6,87,28.2969,235,28.2969,235,739,16,739,16,6\" style=\"stroke: #000000; stroke-width: 1.5;\"/><line style=\"stroke: #000000; stroke-width: 1.5;\" x1=\"16\" x2=\"87\" y1=\"28.2969\" y2=\"28.2969\"/><text fill=\"#000000\" font-family=\"sans-serif\" font-size=\"14\" font-weight=\"bold\" lengthAdjust=\"spacingAndGlyphs\" textLength=\"58\" x=\"20\" y=\"20.9951\">PartTest</text></a><!--MD5=[b4997ac47864f28c2f74865a473b2911]\n",
       "class E2--><a href=\"psysml:2c090466-3d5c-4444-ba17-090921dc2443\" target=\"_top\" title=\"psysml:2c090466-3d5c-4444-ba17-090921dc2443\" xlink:actuate=\"onRequest\" xlink:href=\"psysml:2c090466-3d5c-4444-ba17-090921dc2443\" xlink:show=\"new\" xlink:title=\"psysml:2c090466-3d5c-4444-ba17-090921dc2443\" xlink:type=\"simple\"><rect fill=\"#FFFFFF\" height=\"45.9375\" id=\"E2\" rx=\"10\" ry=\"10\" style=\"stroke: #383838; stroke-width: 1.5;\" width=\"42\" x=\"177\" y=\"56\"/><text fill=\"#000000\" font-family=\"sans-serif\" font-size=\"12\" font-style=\"italic\" lengthAdjust=\"spacingAndGlyphs\" textLength=\"40\" x=\"178\" y=\"72.1387\">«part»</text><text fill=\"#000000\" font-family=\"sans-serif\" font-size=\"12\" lengthAdjust=\"spacingAndGlyphs\" textLength=\"20\" x=\"186\" y=\"86.1074\">f: A</text><line style=\"stroke: #383838; stroke-width: 1.5;\" x1=\"178\" x2=\"218\" y1=\"93.9375\" y2=\"93.9375\"/></a><!--MD5=[09b614a08d8cba4a07c9adeb5e0fee81]\n",
       "class E3--><a href=\"psysml:d1b7cfcb-f6eb-4e6c-b82e-69976e6757f6\" target=\"_top\" title=\"psysml:d1b7cfcb-f6eb-4e6c-b82e-69976e6757f6\" xlink:actuate=\"onRequest\" xlink:href=\"psysml:d1b7cfcb-f6eb-4e6c-b82e-69976e6757f6\" xlink:show=\"new\" xlink:title=\"psysml:d1b7cfcb-f6eb-4e6c-b82e-69976e6757f6\" xlink:type=\"simple\"><rect fill=\"#FFFFFF\" height=\"136.7656\" id=\"E3\" style=\"stroke: #383838; stroke-width: 1.5;\" width=\"70\" x=\"136\" y=\"194\"/><text fill=\"#000000\" font-family=\"sans-serif\" font-size=\"12\" font-style=\"italic\" lengthAdjust=\"spacingAndGlyphs\" textLength=\"68\" x=\"137\" y=\"210.1387\">«part  def»</text><text fill=\"#000000\" font-family=\"sans-serif\" font-size=\"12\" lengthAdjust=\"spacingAndGlyphs\" textLength=\"8\" x=\"167\" y=\"224.1074\">A</text><line style=\"stroke: #383838; stroke-width: 1.5;\" x1=\"137\" x2=\"205\" y1=\"231.9375\" y2=\"231.9375\"/><text fill=\"#000000\" font-family=\"sans-serif\" font-size=\"11\" lengthAdjust=\"spacingAndGlyphs\" textLength=\"6\" x=\"142\" y=\"262.9526\">x</text><text fill=\"#000000\" font-family=\"sans-serif\" font-size=\"11\" lengthAdjust=\"spacingAndGlyphs\" textLength=\"44\" x=\"142\" y=\"275.7573\">y:&gt; A::x</text><line style=\"stroke: #383838; stroke-width: 1.0;\" x1=\"137\" x2=\"143.5\" y1=\"246.3398\" y2=\"246.3398\"/><text fill=\"#000000\" font-family=\"sans-serif\" font-size=\"11\" lengthAdjust=\"spacingAndGlyphs\" textLength=\"55\" x=\"143.5\" y=\"249.6479\">attributes</text><line style=\"stroke: #383838; stroke-width: 1.0;\" x1=\"198.5\" x2=\"205\" y1=\"246.3398\" y2=\"246.3398\"/><text fill=\"#000000\" font-family=\"sans-serif\" font-size=\"11\" lengthAdjust=\"spacingAndGlyphs\" textLength=\"22\" x=\"142\" y=\"305.3667\">c: C</text><line style=\"stroke: #383838; stroke-width: 1.0;\" x1=\"137\" x2=\"156\" y1=\"288.7539\" y2=\"288.7539\"/><text fill=\"#000000\" font-family=\"sans-serif\" font-size=\"11\" lengthAdjust=\"spacingAndGlyphs\" textLength=\"30\" x=\"156\" y=\"292.062\">ports</text><line style=\"stroke: #383838; stroke-width: 1.0;\" x1=\"186\" x2=\"205\" y1=\"288.7539\" y2=\"288.7539\"/><text fill=\"#000000\" font-family=\"sans-serif\" font-size=\"11\" lengthAdjust=\"spacingAndGlyphs\" textLength=\"0\" x=\"158\" y=\"324.1714\"/><rect fill=\"#FFFFFF\" height=\"2\" style=\"stroke: #000000; stroke-width: 1.0;\" width=\"2\" x=\"151\" y=\"319.3633\"/><line style=\"stroke: #000000; stroke-width: 1.0;\" x1=\"144\" x2=\"152\" y1=\"320.3633\" y2=\"320.3633\"/><line style=\"stroke: #000000; stroke-width: 1.0;\" x1=\"144\" x2=\"144\" y1=\"313.9609\" y2=\"320.3633\"/></a><!--MD5=[ebbe1d658d1005bcc118a6aa81145e00]\n",
       "class E4--><a href=\"psysml:1aa2f075-dfbc-4c28-975e-f9b78ce76d6b\" target=\"_top\" title=\"psysml:1aa2f075-dfbc-4c28-975e-f9b78ce76d6b\" xlink:actuate=\"onRequest\" xlink:href=\"psysml:1aa2f075-dfbc-4c28-975e-f9b78ce76d6b\" xlink:show=\"new\" xlink:title=\"psysml:1aa2f075-dfbc-4c28-975e-f9b78ce76d6b\" xlink:type=\"simple\"><rect fill=\"#FFFFFF\" height=\"45.9375\" id=\"E4\" rx=\"10\" ry=\"10\" style=\"stroke: #383838; stroke-width: 1.5;\" width=\"42\" x=\"122\" y=\"408\"/><text fill=\"#000000\" font-family=\"sans-serif\" font-size=\"12\" font-style=\"italic\" lengthAdjust=\"spacingAndGlyphs\" textLength=\"40\" x=\"123\" y=\"424.1387\">«part»</text><text fill=\"#000000\" font-family=\"sans-serif\" font-size=\"12\" lengthAdjust=\"spacingAndGlyphs\" textLength=\"24\" x=\"129\" y=\"438.1074\">b: B</text><line style=\"stroke: #383838; stroke-width: 1.5;\" x1=\"123\" x2=\"163\" y1=\"445.9375\" y2=\"445.9375\"/></a><!--MD5=[270fce915f116d4de14055a7c1d9a0f3]\n",
       "class E5--><a href=\"psysml:286e6ef4-92d4-4c1b-a17d-09881da7698b\" target=\"_top\" title=\"psysml:286e6ef4-92d4-4c1b-a17d-09881da7698b\" xlink:actuate=\"onRequest\" xlink:href=\"psysml:286e6ef4-92d4-4c1b-a17d-09881da7698b\" xlink:show=\"new\" xlink:title=\"psysml:286e6ef4-92d4-4c1b-a17d-09881da7698b\" xlink:type=\"simple\"><rect fill=\"#FFFFFF\" height=\"94.3516\" id=\"E5\" style=\"stroke: #383838; stroke-width: 1.5;\" width=\"70\" x=\"93\" y=\"515\"/><text fill=\"#000000\" font-family=\"sans-serif\" font-size=\"12\" font-style=\"italic\" lengthAdjust=\"spacingAndGlyphs\" textLength=\"68\" x=\"94\" y=\"531.1387\">«part  def»</text><text fill=\"#000000\" font-family=\"sans-serif\" font-size=\"12\" font-style=\"italic\" lengthAdjust=\"spacingAndGlyphs\" textLength=\"8\" x=\"124\" y=\"545.1074\">B</text><line style=\"stroke: #383838; stroke-width: 1.5;\" x1=\"94\" x2=\"162\" y1=\"552.9375\" y2=\"552.9375\"/><text fill=\"#000000\" font-family=\"sans-serif\" font-size=\"11\" lengthAdjust=\"spacingAndGlyphs\" textLength=\"31\" x=\"99\" y=\"583.9526\">x: ~C</text><line style=\"stroke: #383838; stroke-width: 1.0;\" x1=\"94\" x2=\"113\" y1=\"567.3398\" y2=\"567.3398\"/><text fill=\"#000000\" font-family=\"sans-serif\" font-size=\"11\" lengthAdjust=\"spacingAndGlyphs\" textLength=\"30\" x=\"113\" y=\"570.6479\">ports</text><line style=\"stroke: #383838; stroke-width: 1.0;\" x1=\"143\" x2=\"162\" y1=\"567.3398\" y2=\"567.3398\"/><text fill=\"#000000\" font-family=\"sans-serif\" font-size=\"11\" lengthAdjust=\"spacingAndGlyphs\" textLength=\"0\" x=\"115\" y=\"602.7573\"/><rect fill=\"#FFFFFF\" height=\"2\" style=\"stroke: #000000; stroke-width: 1.0;\" width=\"2\" x=\"108\" y=\"597.9492\"/><line style=\"stroke: #000000; stroke-width: 1.0;\" x1=\"101\" x2=\"109\" y1=\"598.9492\" y2=\"598.9492\"/><line style=\"stroke: #000000; stroke-width: 1.0;\" x1=\"101\" x2=\"101\" y1=\"592.5469\" y2=\"598.9492\"/></a><!--MD5=[60a26617385b1d2d0262a64233df1f8d]\n",
       "class E6--><a href=\"psysml:215e87e2-ee75-46c7-98ea-4ce8794cdbad\" target=\"_top\" title=\"psysml:215e87e2-ee75-46c7-98ea-4ce8794cdbad\" xlink:actuate=\"onRequest\" xlink:href=\"psysml:215e87e2-ee75-46c7-98ea-4ce8794cdbad\" xlink:show=\"new\" xlink:title=\"psysml:215e87e2-ee75-46c7-98ea-4ce8794cdbad\" xlink:type=\"simple\"><rect fill=\"#FFFFFF\" height=\"45.9375\" id=\"E6\" rx=\"10\" ry=\"10\" style=\"stroke: #383838; stroke-width: 1.5;\" width=\"42\" x=\"177\" y=\"673.5\"/><text fill=\"#000000\" font-family=\"sans-serif\" font-size=\"12\" font-style=\"italic\" lengthAdjust=\"spacingAndGlyphs\" textLength=\"40\" x=\"178\" y=\"689.6387\">«part»</text><text fill=\"#000000\" font-family=\"sans-serif\" font-size=\"12\" font-style=\"italic\" lengthAdjust=\"spacingAndGlyphs\" textLength=\"8\" x=\"184\" y=\"703.6074\">a</text><text fill=\"#000000\" font-family=\"sans-serif\" font-size=\"12\" lengthAdjust=\"spacingAndGlyphs\" textLength=\"16\" x=\"192\" y=\"703.6074\">: A</text><line style=\"stroke: #383838; stroke-width: 1.5;\" x1=\"178\" x2=\"218\" y1=\"711.4375\" y2=\"711.4375\"/></a><!--MD5=[b9389687b975829384b498ac4b7476b2]\n",
       "class E8--><a href=\"psysml:3d6805d2-0d33-47df-af88-6771a9177656\" target=\"_top\" title=\"psysml:3d6805d2-0d33-47df-af88-6771a9177656\" xlink:actuate=\"onRequest\" xlink:href=\"psysml:3d6805d2-0d33-47df-af88-6771a9177656\" xlink:show=\"new\" xlink:title=\"psysml:3d6805d2-0d33-47df-af88-6771a9177656\" xlink:type=\"simple\"><rect fill=\"#FFFFFF\" height=\"75.5469\" id=\"E8\" style=\"stroke: #383838; stroke-width: 1.5;\" width=\"110\" x=\"32\" y=\"41\"/><text fill=\"#000000\" font-family=\"sans-serif\" font-size=\"12\" font-style=\"italic\" lengthAdjust=\"spacingAndGlyphs\" textLength=\"68\" x=\"53\" y=\"57.1387\">«port  def»</text><text fill=\"#000000\" font-family=\"sans-serif\" font-size=\"12\" lengthAdjust=\"spacingAndGlyphs\" textLength=\"8\" x=\"83\" y=\"71.1074\">C</text><line style=\"stroke: #383838; stroke-width: 1.5;\" x1=\"33\" x2=\"141\" y1=\"78.9375\" y2=\"78.9375\"/><text fill=\"#000000\" font-family=\"sans-serif\" font-size=\"11\" font-weight=\"bold\" lengthAdjust=\"spacingAndGlyphs\" textLength=\"10\" x=\"38\" y=\"109.9526\">in</text><text fill=\"#000000\" font-family=\"sans-serif\" font-size=\"11\" lengthAdjust=\"spacingAndGlyphs\" textLength=\"37\" x=\"52\" y=\"109.9526\">y: A, B</text><text fill=\"#000000\" font-family=\"sans-serif\" font-size=\"11\" font-weight=\"bold\" lengthAdjust=\"spacingAndGlyphs\" textLength=\"27\" x=\"93\" y=\"109.9526\">alias</text><text fill=\"#000000\" font-family=\"sans-serif\" font-size=\"11\" lengthAdjust=\"spacingAndGlyphs\" textLength=\"12\" x=\"124\" y=\"109.9526\">z2</text><line style=\"stroke: #383838; stroke-width: 1.0;\" x1=\"33\" x2=\"53.5\" y1=\"93.3398\" y2=\"93.3398\"/><text fill=\"#000000\" font-family=\"sans-serif\" font-size=\"11\" lengthAdjust=\"spacingAndGlyphs\" textLength=\"67\" x=\"53.5\" y=\"96.6479\">parameters</text><line style=\"stroke: #383838; stroke-width: 1.0;\" x1=\"120.5\" x2=\"141\" y1=\"93.3398\" y2=\"93.3398\"/></a><a href=\"psysml:e555f4d2-547d-4756-8b33-5fda3be7b359\" target=\"_top\" title=\"psysml:e555f4d2-547d-4756-8b33-5fda3be7b359\" xlink:actuate=\"onRequest\" xlink:href=\"psysml:e555f4d2-547d-4756-8b33-5fda3be7b359\" xlink:show=\"new\" xlink:title=\"psysml:e555f4d2-547d-4756-8b33-5fda3be7b359\" xlink:type=\"simple\"><polygon fill=\"#FFFFFF\" points=\"112.5,670,127.5,670,134.5,692.2969,141.5,692.2969,141.5,722.5938,112.5,722.5938,112.5,670\" style=\"stroke: #000000; stroke-width: 1.5;\"/><line style=\"stroke: #000000; stroke-width: 1.5;\" x1=\"112.5\" x2=\"134.5\" y1=\"692.2969\" y2=\"692.2969\"/><text fill=\"#000000\" font-family=\"sans-serif\" font-size=\"14\" font-weight=\"bold\" lengthAdjust=\"spacingAndGlyphs\" textLength=\"9\" x=\"116.5\" y=\"684.9951\">P</text></a><!--MD5=[2720a5a1f2c3fca2055b230370638851]\n",
       "link E2 to E3--><a href=\"psysml:02703352-f69e-4a4b-893d-89c09588fdfd\" target=\"_top\" title=\"psysml:02703352-f69e-4a4b-893d-89c09588fdfd\" xlink:actuate=\"onRequest\" xlink:href=\"psysml:02703352-f69e-4a4b-893d-89c09588fdfd\" xlink:show=\"new\" xlink:title=\"psysml:02703352-f69e-4a4b-893d-89c09588fdfd\" xlink:type=\"simple\"><path d=\"M194.69,102.26 C192,120.36 188.01,147.16 184.07,173.63 \" fill=\"none\" id=\"E2-&gt;E3\" style=\"stroke: #383838; stroke-width: 1.0;\"/><polygon fill=\"#FFFFFF\" points=\"181.09,193.66,176.9614,173.8369,190.8091,175.8966,181.09,193.66\" style=\"stroke: #383838; stroke-width: 1.0;\"/><ellipse cx=\"179.7782\" cy=\"168.4932\" fill=\"#383838\" rx=\"2\" ry=\"2\" style=\"stroke: #383838; stroke-width: 1.0;\"/><ellipse cx=\"189.6694\" cy=\"169.9644\" fill=\"#383838\" rx=\"2\" ry=\"2\" style=\"stroke: #383838; stroke-width: 1.0;\"/></a><!--MD5=[4672eba38e49728da53d11aeb285b987]\n",
       "reverse link E3 to E4--><a href=\"psysml:e82a868e-a957-4308-9aca-5f2e1a046a10\" target=\"_top\" title=\"psysml:e82a868e-a957-4308-9aca-5f2e1a046a10\" xlink:actuate=\"onRequest\" xlink:href=\"psysml:e82a868e-a957-4308-9aca-5f2e1a046a10\" xlink:show=\"new\" xlink:title=\"psysml:e82a868e-a957-4308-9aca-5f2e1a046a10\" xlink:type=\"simple\"><path d=\"M157.43,344.17 C153.49,367.62 149.5,391.35 146.72,407.89 \" fill=\"none\" id=\"E3&lt;-E4\" style=\"stroke: #383838; stroke-width: 1.0;\"/><polygon fill=\"#383838\" points=\"159.61,331.22,154.6695,336.4727,157.618,343.0535,162.5585,337.8008,159.61,331.22\" style=\"stroke: #383838; stroke-width: 1.0;\"/><text fill=\"#000000\" font-family=\"sans-serif\" font-size=\"13\" lengthAdjust=\"spacingAndGlyphs\" textLength=\"8\" x=\"138.6448\" y=\"396.7567\">1</text></a><!--MD5=[1b7591eae5389033d8d09a9d6721a717]\n",
       "link E4 to E5--><a href=\"psysml:6f8c5931-99ab-4f3d-9640-f9d86b709835\" target=\"_top\" title=\"psysml:6f8c5931-99ab-4f3d-9640-f9d86b709835\" xlink:actuate=\"onRequest\" xlink:href=\"psysml:6f8c5931-99ab-4f3d-9640-f9d86b709835\" xlink:show=\"new\" xlink:title=\"psysml:6f8c5931-99ab-4f3d-9640-f9d86b709835\" xlink:type=\"simple\"><path d=\"M140.42,454.18 C139.1,465.55 137.41,480.07 135.71,494.71 \" fill=\"none\" id=\"E4-&gt;E5\" style=\"stroke: #383838; stroke-width: 1.0;\"/><polygon fill=\"#FFFFFF\" points=\"133.37,514.83,128.6166,495.1474,142.5224,496.7681,133.37,514.83\" style=\"stroke: #383838; stroke-width: 1.0;\"/><ellipse cx=\"131.263\" cy=\"489.7172\" fill=\"#383838\" rx=\"2\" ry=\"2\" style=\"stroke: #383838; stroke-width: 1.0;\"/><ellipse cx=\"141.1957\" cy=\"490.8749\" fill=\"#383838\" rx=\"2\" ry=\"2\" style=\"stroke: #383838; stroke-width: 1.0;\"/></a><!--MD5=[85d356282659285ab4b2cfe2f634dd2b]\n",
       "reverse link E5 to E6--><a href=\"psysml:ef71999d-b74e-4e5c-b2f7-aebb94a9d32a\" target=\"_top\" title=\"psysml:ef71999d-b74e-4e5c-b2f7-aebb94a9d32a\" xlink:actuate=\"onRequest\" xlink:href=\"psysml:ef71999d-b74e-4e5c-b2f7-aebb94a9d32a\" xlink:show=\"new\" xlink:title=\"psysml:ef71999d-b74e-4e5c-b2f7-aebb94a9d32a\" xlink:type=\"simple\"><path d=\"M158.63,620.99 C168.4,639.46 178.62,658.81 186.2,673.16 \" fill=\"none\" id=\"E5&lt;-E6\" style=\"stroke: #383838; stroke-width: 1.0;\"/><polygon fill=\"#383838\" points=\"152.48,609.34,151.744,616.5134,158.0825,619.9519,158.8186,612.7784,152.48,609.34\" style=\"stroke: #383838; stroke-width: 1.0;\"/><text fill=\"#000000\" font-family=\"sans-serif\" font-size=\"13\" lengthAdjust=\"spacingAndGlyphs\" textLength=\"8\" x=\"174.1512\" y=\"662.3492\">1</text></a><!--MD5=[a717450b82c80b9240a525fa862496af]\n",
       "link E6 to E3--><a href=\"psysml:d4047a87-2764-4bb9-9711-6fad77bbdb97\" target=\"_top\" title=\"psysml:d4047a87-2764-4bb9-9711-6fad77bbdb97\" xlink:actuate=\"onRequest\" xlink:href=\"psysml:d4047a87-2764-4bb9-9711-6fad77bbdb97\" xlink:show=\"new\" xlink:title=\"psysml:d4047a87-2764-4bb9-9711-6fad77bbdb97\" xlink:type=\"simple\"><path d=\"M196.93,673.49 C194.55,625.33 188.52,507.02 182,408 C180.79,389.66 179.38,370.02 177.97,351.32 \" fill=\"none\" id=\"E6-&gt;E3\" style=\"stroke: #383838; stroke-width: 1.0;\"/><polygon fill=\"#FFFFFF\" points=\"176.43,331.11,184.8616,349.5195,170.9025,350.5894,176.43,331.11\" style=\"stroke: #383838; stroke-width: 1.0;\"/><ellipse cx=\"183.303\" cy=\"355.3556\" fill=\"#383838\" rx=\"2\" ry=\"2\" style=\"stroke: #383838; stroke-width: 1.0;\"/><ellipse cx=\"173.3323\" cy=\"356.1199\" fill=\"#383838\" rx=\"2\" ry=\"2\" style=\"stroke: #383838; stroke-width: 1.0;\"/></a><!--MD5=[452b418e7f8a40397a49b8c0a78acc5b]\n",
       "reverse link E5 to E7--><a href=\"psysml:ab2aae6d-159f-4d7a-a99e-78671a533366\" target=\"_top\" title=\"psysml:ab2aae6d-159f-4d7a-a99e-78671a533366\" xlink:actuate=\"onRequest\" xlink:href=\"psysml:ab2aae6d-159f-4d7a-a99e-78671a533366\" xlink:show=\"new\" xlink:title=\"psysml:ab2aae6d-159f-4d7a-a99e-78671a533366\" xlink:type=\"simple\"><path d=\"M127.54,624.45 C127.42,640.46 127.29,656.84 127.19,669.83 \" fill=\"none\" id=\"E5&lt;-E7\" style=\"stroke: #383838; stroke-width: 1.0;\"/><ellipse cx=\"127.589\" cy=\"617.3398\" fill=\"#FFFFFF\" rx=\"8\" ry=\"8\" style=\"stroke: #383838; stroke-width: 1.0;\"/><line style=\"stroke: #383838; stroke-width: 1.0;\" x1=\"127.5281\" x2=\"127.65\" y1=\"625.3395\" y2=\"609.34\"/><line style=\"stroke: #383838; stroke-width: 1.0;\" x1=\"119.5893\" x2=\"135.5888\" y1=\"617.2788\" y2=\"617.4007\"/></a><!--MD5=[03c8294790d3c57651a1993cecff665f]\n",
       "reverse link E8 to E3--><a href=\"psysml:75696b56-911c-4e7f-a413-6399c7af4d3a\" target=\"_top\" title=\"psysml:75696b56-911c-4e7f-a413-6399c7af4d3a\" xlink:actuate=\"onRequest\" xlink:href=\"psysml:75696b56-911c-4e7f-a413-6399c7af4d3a\" xlink:show=\"new\" xlink:title=\"psysml:75696b56-911c-4e7f-a413-6399c7af4d3a\" xlink:type=\"simple\"><path d=\"M109.72,129.1 C118.95,149.04 129.77,172.41 139.72,193.92 \" fill=\"none\" id=\"E8&lt;-E3\" style=\"stroke: #383838; stroke-width: 1.0;\"/><polygon fill=\"#FFFFFF\" points=\"104.2,117.17,103.0951,124.2959,109.2479,128.0566,110.3528,120.9307,104.2,117.17\" style=\"stroke: #383838; stroke-width: 1.0;\"/><text fill=\"#000000\" font-family=\"sans-serif\" font-size=\"13\" lengthAdjust=\"spacingAndGlyphs\" textLength=\"7\" x=\"124\" y=\"160.0669\">y</text></a><!--MD5=[049ab558815ccadc2a7a6ffdb8f4a5ba]\n",
       "reverse link E8 to E5--><a href=\"psysml:75696b56-911c-4e7f-a413-6399c7af4d3a\" target=\"_top\" title=\"psysml:75696b56-911c-4e7f-a413-6399c7af4d3a\" xlink:actuate=\"onRequest\" xlink:href=\"psysml:75696b56-911c-4e7f-a413-6399c7af4d3a\" xlink:show=\"new\" xlink:title=\"psysml:75696b56-911c-4e7f-a413-6399c7af4d3a\" xlink:type=\"simple\"><path d=\"M86.82,130.16 C87.14,202.15 89.95,338.79 105,454 C107.63,474.16 112.08,496.16 116.37,514.94 \" fill=\"none\" id=\"E8&lt;-E5\" style=\"stroke: #383838; stroke-width: 1.0;\"/><polygon fill=\"#FFFFFF\" points=\"86.78,117.07,82.7932,123.0788,86.8064,129.07,90.7932,123.0612,86.78,117.07\" style=\"stroke: #383838; stroke-width: 1.0;\"/><text fill=\"#000000\" font-family=\"sans-serif\" font-size=\"13\" lengthAdjust=\"spacingAndGlyphs\" textLength=\"7\" x=\"97\" y=\"374.0669\">y</text></a><!--MD5=[74fa30ac3193f4dfa5cb8dfe853fd100]\n",
       "@startuml\r\n",
       " skinparam monochrome true\r\n",
       "skinparam classbackgroundcolor white\r\n",
       "skinparam shadowing false\r\n",
       "skinparam wrapWidth 300\r\n",
       "hide circle\r\n",
       "\r\n",
       "package \"PartTest\" as E1  [[psysml:538b1265-15ae-4afd-8dd2-ef0f57b41a53 ]]  {\r\n",
       "comp usage \"f: A \" as E2  <<(T,blue) part>> [[psysml:2c090466-3d5c-4444-ba17-090921dc2443 ]] {\r\n",
       "}\r\n",
       "comp def \"A\" as E3  <<(T,blue) part  def>> [[psysml:d1b7cfcb-f6eb-4e6c-b82e-69976e6757f6 ]] {\r\n",
       "- - attributes - -\r\n",
       "x\r\n",
       "y:> A::x\r\n",
       "- - ports - -\r\n",
       "c: C\r\n",
       "|_ \r\n",
       "}\r\n",
       "comp usage \"b: B \" as E4  <<(T,blue) part>> [[psysml:1aa2f075-dfbc-4c28-975e-f9b78ce76d6b ]] {\r\n",
       "}\r\n",
       "comp def \"<i>B</i>\" as E5  <<(T,blue) part  def>> [[psysml:286e6ef4-92d4-4c1b-a17d-09881da7698b ]] {\r\n",
       "- - ports - -\r\n",
       "x: ~C\r\n",
       "|_ \r\n",
       "}\r\n",
       "comp usage \"<i>a</i>: A \" as E6  <<(T,blue) part>> [[psysml:215e87e2-ee75-46c7-98ea-4ce8794cdbad ]] {\r\n",
       "}\r\n",
       "package \"P\" as E7  [[psysml:e555f4d2-547d-4756-8b33-5fda3be7b359 ]]  {\r\n",
       "}\r\n",
       "comp def \"C\" as E8  <<(T,blue) port  def>> [[psysml:3d6805d2-0d33-47df-af88-6771a9177656 ]] {\r\n",
       "- - parameters - -\r\n",
       "<b>in</b> y: A, B <b>alias</b> z2 \r\n",
       "}\r\n",
       "}\r\n",
       "E2 - -:|> E3 [[psysml:02703352-f69e-4a4b-893d-89c09588fdfd ]] \r\n",
       "E3 *- - \"1\"E4 [[psysml:e82a868e-a957-4308-9aca-5f2e1a046a10 ]] \r\n",
       "E4 - -:|> E5 [[psysml:6f8c5931-99ab-4f3d-9640-f9d86b709835 ]] \r\n",
       "E5 *- - \"1\"E6 [[psysml:ef71999d-b74e-4e5c-b2f7-aebb94a9d32a ]] \r\n",
       "E6 - -:|> E3 [[psysml:d4047a87-2764-4bb9-9711-6fad77bbdb97 ]] \r\n",
       "E5 +- - E7 [[psysml:ab2aae6d-159f-4d7a-a99e-78671a533366 ]] \r\n",
       "E8 o- - E3 [[psysml:75696b56-911c-4e7f-a413-6399c7af4d3a ]] : y\r\n",
       "E8 o- - E5 [[psysml:75696b56-911c-4e7f-a413-6399c7af4d3a ]] : y\r\n",
       "@enduml\r\n",
       "\n",
       "PlantUML version 1.2020.13(Sat Jun 13 12:26:38 UTC 2020)\n",
       "(EPL source distribution)\n",
       "Java Runtime: OpenJDK Runtime Environment\n",
       "JVM: OpenJDK 64-Bit Server VM\n",
       "Default Encoding: UTF-8\n",
       "Language: en\n",
       "Country: null\n",
       "--></g></svg>"
      ]
     },
     "execution_count": 2,
     "metadata": {},
     "output_type": "execute_result"
    }
   ],
   "source": [
    "%viz --style=\"COMPTREE\" --view=\"Default\" \"PartTest\""
   ]
  },
  {
   "cell_type": "code",
   "execution_count": 3,
   "id": "9e353a85",
   "metadata": {
    "execution": {
     "iopub.execute_input": "2022-05-19T08:45:10.862382Z",
     "iopub.status.busy": "2022-05-19T08:45:10.861880Z",
     "iopub.status.idle": "2022-05-19T08:45:10.980139Z",
     "shell.execute_reply": "2022-05-19T08:45:10.978456Z"
    }
   },
   "outputs": [
    {
     "data": {
      "image/svg+xml": [
       "<?xml version=\"1.0\" encoding=\"UTF-8\" standalone=\"no\"?><svg xmlns=\"http://www.w3.org/2000/svg\" xmlns:xlink=\"http://www.w3.org/1999/xlink\" contentScriptType=\"application/ecmascript\" contentStyleType=\"text/css\" height=\"751px\" preserveAspectRatio=\"none\" style=\"width:257px;height:751px;\" version=\"1.1\" viewBox=\"0 0 257 751\" width=\"257px\" zoomAndPan=\"magnify\"><defs/><g><!--MD5=[fbc87193dbaf4d95561dea2c320d4a47]\n",
       "cluster E1--><a href=\"psysml:538b1265-15ae-4afd-8dd2-ef0f57b41a53\" target=\"_top\" title=\"psysml:538b1265-15ae-4afd-8dd2-ef0f57b41a53\" xlink:actuate=\"onRequest\" xlink:href=\"psysml:538b1265-15ae-4afd-8dd2-ef0f57b41a53\" xlink:show=\"new\" xlink:title=\"psysml:538b1265-15ae-4afd-8dd2-ef0f57b41a53\" xlink:type=\"simple\"><polygon fill=\"#FFFFFF\" points=\"16,6,80,6,87,28.2969,235,28.2969,235,739,16,739,16,6\" style=\"stroke: #000000; stroke-width: 1.5;\"/><line style=\"stroke: #000000; stroke-width: 1.5;\" x1=\"16\" x2=\"87\" y1=\"28.2969\" y2=\"28.2969\"/><text fill=\"#000000\" font-family=\"sans-serif\" font-size=\"14\" font-weight=\"bold\" lengthAdjust=\"spacingAndGlyphs\" textLength=\"58\" x=\"20\" y=\"20.9951\">PartTest</text></a><!--MD5=[b4997ac47864f28c2f74865a473b2911]\n",
       "class E2--><a href=\"psysml:2c090466-3d5c-4444-ba17-090921dc2443\" target=\"_top\" title=\"psysml:2c090466-3d5c-4444-ba17-090921dc2443\" xlink:actuate=\"onRequest\" xlink:href=\"psysml:2c090466-3d5c-4444-ba17-090921dc2443\" xlink:show=\"new\" xlink:title=\"psysml:2c090466-3d5c-4444-ba17-090921dc2443\" xlink:type=\"simple\"><rect fill=\"#FFFFFF\" height=\"45.9375\" id=\"E2\" rx=\"10\" ry=\"10\" style=\"stroke: #383838; stroke-width: 1.5;\" width=\"42\" x=\"177\" y=\"56\"/><text fill=\"#000000\" font-family=\"sans-serif\" font-size=\"12\" font-style=\"italic\" lengthAdjust=\"spacingAndGlyphs\" textLength=\"40\" x=\"178\" y=\"72.1387\">«part»</text><text fill=\"#000000\" font-family=\"sans-serif\" font-size=\"12\" lengthAdjust=\"spacingAndGlyphs\" textLength=\"20\" x=\"186\" y=\"86.1074\">f: A</text><line style=\"stroke: #383838; stroke-width: 1.5;\" x1=\"178\" x2=\"218\" y1=\"93.9375\" y2=\"93.9375\"/></a><!--MD5=[09b614a08d8cba4a07c9adeb5e0fee81]\n",
       "class E3--><a href=\"psysml:d1b7cfcb-f6eb-4e6c-b82e-69976e6757f6\" target=\"_top\" title=\"psysml:d1b7cfcb-f6eb-4e6c-b82e-69976e6757f6\" xlink:actuate=\"onRequest\" xlink:href=\"psysml:d1b7cfcb-f6eb-4e6c-b82e-69976e6757f6\" xlink:show=\"new\" xlink:title=\"psysml:d1b7cfcb-f6eb-4e6c-b82e-69976e6757f6\" xlink:type=\"simple\"><rect fill=\"#FFFFFF\" height=\"136.7656\" id=\"E3\" style=\"stroke: #383838; stroke-width: 1.5;\" width=\"70\" x=\"136\" y=\"194\"/><text fill=\"#000000\" font-family=\"sans-serif\" font-size=\"12\" font-style=\"italic\" lengthAdjust=\"spacingAndGlyphs\" textLength=\"68\" x=\"137\" y=\"210.1387\">«part  def»</text><text fill=\"#000000\" font-family=\"sans-serif\" font-size=\"12\" lengthAdjust=\"spacingAndGlyphs\" textLength=\"8\" x=\"167\" y=\"224.1074\">A</text><line style=\"stroke: #383838; stroke-width: 1.5;\" x1=\"137\" x2=\"205\" y1=\"231.9375\" y2=\"231.9375\"/><text fill=\"#000000\" font-family=\"sans-serif\" font-size=\"11\" lengthAdjust=\"spacingAndGlyphs\" textLength=\"6\" x=\"142\" y=\"262.9526\">x</text><text fill=\"#000000\" font-family=\"sans-serif\" font-size=\"11\" lengthAdjust=\"spacingAndGlyphs\" textLength=\"44\" x=\"142\" y=\"275.7573\">y:&gt; A::x</text><line style=\"stroke: #383838; stroke-width: 1.0;\" x1=\"137\" x2=\"143.5\" y1=\"246.3398\" y2=\"246.3398\"/><text fill=\"#000000\" font-family=\"sans-serif\" font-size=\"11\" lengthAdjust=\"spacingAndGlyphs\" textLength=\"55\" x=\"143.5\" y=\"249.6479\">attributes</text><line style=\"stroke: #383838; stroke-width: 1.0;\" x1=\"198.5\" x2=\"205\" y1=\"246.3398\" y2=\"246.3398\"/><text fill=\"#000000\" font-family=\"sans-serif\" font-size=\"11\" lengthAdjust=\"spacingAndGlyphs\" textLength=\"22\" x=\"142\" y=\"305.3667\">c: C</text><line style=\"stroke: #383838; stroke-width: 1.0;\" x1=\"137\" x2=\"156\" y1=\"288.7539\" y2=\"288.7539\"/><text fill=\"#000000\" font-family=\"sans-serif\" font-size=\"11\" lengthAdjust=\"spacingAndGlyphs\" textLength=\"30\" x=\"156\" y=\"292.062\">ports</text><line style=\"stroke: #383838; stroke-width: 1.0;\" x1=\"186\" x2=\"205\" y1=\"288.7539\" y2=\"288.7539\"/><text fill=\"#000000\" font-family=\"sans-serif\" font-size=\"11\" lengthAdjust=\"spacingAndGlyphs\" textLength=\"0\" x=\"158\" y=\"324.1714\"/><rect fill=\"#FFFFFF\" height=\"2\" style=\"stroke: #000000; stroke-width: 1.0;\" width=\"2\" x=\"151\" y=\"319.3633\"/><line style=\"stroke: #000000; stroke-width: 1.0;\" x1=\"144\" x2=\"152\" y1=\"320.3633\" y2=\"320.3633\"/><line style=\"stroke: #000000; stroke-width: 1.0;\" x1=\"144\" x2=\"144\" y1=\"313.9609\" y2=\"320.3633\"/></a><!--MD5=[ebbe1d658d1005bcc118a6aa81145e00]\n",
       "class E4--><a href=\"psysml:1aa2f075-dfbc-4c28-975e-f9b78ce76d6b\" target=\"_top\" title=\"psysml:1aa2f075-dfbc-4c28-975e-f9b78ce76d6b\" xlink:actuate=\"onRequest\" xlink:href=\"psysml:1aa2f075-dfbc-4c28-975e-f9b78ce76d6b\" xlink:show=\"new\" xlink:title=\"psysml:1aa2f075-dfbc-4c28-975e-f9b78ce76d6b\" xlink:type=\"simple\"><rect fill=\"#FFFFFF\" height=\"45.9375\" id=\"E4\" rx=\"10\" ry=\"10\" style=\"stroke: #383838; stroke-width: 1.5;\" width=\"42\" x=\"122\" y=\"408\"/><text fill=\"#000000\" font-family=\"sans-serif\" font-size=\"12\" font-style=\"italic\" lengthAdjust=\"spacingAndGlyphs\" textLength=\"40\" x=\"123\" y=\"424.1387\">«part»</text><text fill=\"#000000\" font-family=\"sans-serif\" font-size=\"12\" lengthAdjust=\"spacingAndGlyphs\" textLength=\"24\" x=\"129\" y=\"438.1074\">b: B</text><line style=\"stroke: #383838; stroke-width: 1.5;\" x1=\"123\" x2=\"163\" y1=\"445.9375\" y2=\"445.9375\"/></a><!--MD5=[270fce915f116d4de14055a7c1d9a0f3]\n",
       "class E5--><a href=\"psysml:286e6ef4-92d4-4c1b-a17d-09881da7698b\" target=\"_top\" title=\"psysml:286e6ef4-92d4-4c1b-a17d-09881da7698b\" xlink:actuate=\"onRequest\" xlink:href=\"psysml:286e6ef4-92d4-4c1b-a17d-09881da7698b\" xlink:show=\"new\" xlink:title=\"psysml:286e6ef4-92d4-4c1b-a17d-09881da7698b\" xlink:type=\"simple\"><rect fill=\"#FFFFFF\" height=\"94.3516\" id=\"E5\" style=\"stroke: #383838; stroke-width: 1.5;\" width=\"70\" x=\"93\" y=\"515\"/><text fill=\"#000000\" font-family=\"sans-serif\" font-size=\"12\" font-style=\"italic\" lengthAdjust=\"spacingAndGlyphs\" textLength=\"68\" x=\"94\" y=\"531.1387\">«part  def»</text><text fill=\"#000000\" font-family=\"sans-serif\" font-size=\"12\" font-style=\"italic\" lengthAdjust=\"spacingAndGlyphs\" textLength=\"8\" x=\"124\" y=\"545.1074\">B</text><line style=\"stroke: #383838; stroke-width: 1.5;\" x1=\"94\" x2=\"162\" y1=\"552.9375\" y2=\"552.9375\"/><text fill=\"#000000\" font-family=\"sans-serif\" font-size=\"11\" lengthAdjust=\"spacingAndGlyphs\" textLength=\"31\" x=\"99\" y=\"583.9526\">x: ~C</text><line style=\"stroke: #383838; stroke-width: 1.0;\" x1=\"94\" x2=\"113\" y1=\"567.3398\" y2=\"567.3398\"/><text fill=\"#000000\" font-family=\"sans-serif\" font-size=\"11\" lengthAdjust=\"spacingAndGlyphs\" textLength=\"30\" x=\"113\" y=\"570.6479\">ports</text><line style=\"stroke: #383838; stroke-width: 1.0;\" x1=\"143\" x2=\"162\" y1=\"567.3398\" y2=\"567.3398\"/><text fill=\"#000000\" font-family=\"sans-serif\" font-size=\"11\" lengthAdjust=\"spacingAndGlyphs\" textLength=\"0\" x=\"115\" y=\"602.7573\"/><rect fill=\"#FFFFFF\" height=\"2\" style=\"stroke: #000000; stroke-width: 1.0;\" width=\"2\" x=\"108\" y=\"597.9492\"/><line style=\"stroke: #000000; stroke-width: 1.0;\" x1=\"101\" x2=\"109\" y1=\"598.9492\" y2=\"598.9492\"/><line style=\"stroke: #000000; stroke-width: 1.0;\" x1=\"101\" x2=\"101\" y1=\"592.5469\" y2=\"598.9492\"/></a><!--MD5=[60a26617385b1d2d0262a64233df1f8d]\n",
       "class E6--><a href=\"psysml:215e87e2-ee75-46c7-98ea-4ce8794cdbad\" target=\"_top\" title=\"psysml:215e87e2-ee75-46c7-98ea-4ce8794cdbad\" xlink:actuate=\"onRequest\" xlink:href=\"psysml:215e87e2-ee75-46c7-98ea-4ce8794cdbad\" xlink:show=\"new\" xlink:title=\"psysml:215e87e2-ee75-46c7-98ea-4ce8794cdbad\" xlink:type=\"simple\"><rect fill=\"#FFFFFF\" height=\"45.9375\" id=\"E6\" rx=\"10\" ry=\"10\" style=\"stroke: #383838; stroke-width: 1.5;\" width=\"42\" x=\"177\" y=\"673.5\"/><text fill=\"#000000\" font-family=\"sans-serif\" font-size=\"12\" font-style=\"italic\" lengthAdjust=\"spacingAndGlyphs\" textLength=\"40\" x=\"178\" y=\"689.6387\">«part»</text><text fill=\"#000000\" font-family=\"sans-serif\" font-size=\"12\" font-style=\"italic\" lengthAdjust=\"spacingAndGlyphs\" textLength=\"8\" x=\"184\" y=\"703.6074\">a</text><text fill=\"#000000\" font-family=\"sans-serif\" font-size=\"12\" lengthAdjust=\"spacingAndGlyphs\" textLength=\"16\" x=\"192\" y=\"703.6074\">: A</text><line style=\"stroke: #383838; stroke-width: 1.5;\" x1=\"178\" x2=\"218\" y1=\"711.4375\" y2=\"711.4375\"/></a><!--MD5=[b9389687b975829384b498ac4b7476b2]\n",
       "class E8--><a href=\"psysml:3d6805d2-0d33-47df-af88-6771a9177656\" target=\"_top\" title=\"psysml:3d6805d2-0d33-47df-af88-6771a9177656\" xlink:actuate=\"onRequest\" xlink:href=\"psysml:3d6805d2-0d33-47df-af88-6771a9177656\" xlink:show=\"new\" xlink:title=\"psysml:3d6805d2-0d33-47df-af88-6771a9177656\" xlink:type=\"simple\"><rect fill=\"#FFFFFF\" height=\"75.5469\" id=\"E8\" style=\"stroke: #383838; stroke-width: 1.5;\" width=\"110\" x=\"32\" y=\"41\"/><text fill=\"#000000\" font-family=\"sans-serif\" font-size=\"12\" font-style=\"italic\" lengthAdjust=\"spacingAndGlyphs\" textLength=\"68\" x=\"53\" y=\"57.1387\">«port  def»</text><text fill=\"#000000\" font-family=\"sans-serif\" font-size=\"12\" lengthAdjust=\"spacingAndGlyphs\" textLength=\"8\" x=\"83\" y=\"71.1074\">C</text><line style=\"stroke: #383838; stroke-width: 1.5;\" x1=\"33\" x2=\"141\" y1=\"78.9375\" y2=\"78.9375\"/><text fill=\"#000000\" font-family=\"sans-serif\" font-size=\"11\" font-weight=\"bold\" lengthAdjust=\"spacingAndGlyphs\" textLength=\"10\" x=\"38\" y=\"109.9526\">in</text><text fill=\"#000000\" font-family=\"sans-serif\" font-size=\"11\" lengthAdjust=\"spacingAndGlyphs\" textLength=\"37\" x=\"52\" y=\"109.9526\">y: A, B</text><text fill=\"#000000\" font-family=\"sans-serif\" font-size=\"11\" font-weight=\"bold\" lengthAdjust=\"spacingAndGlyphs\" textLength=\"27\" x=\"93\" y=\"109.9526\">alias</text><text fill=\"#000000\" font-family=\"sans-serif\" font-size=\"11\" lengthAdjust=\"spacingAndGlyphs\" textLength=\"12\" x=\"124\" y=\"109.9526\">z2</text><line style=\"stroke: #383838; stroke-width: 1.0;\" x1=\"33\" x2=\"53.5\" y1=\"93.3398\" y2=\"93.3398\"/><text fill=\"#000000\" font-family=\"sans-serif\" font-size=\"11\" lengthAdjust=\"spacingAndGlyphs\" textLength=\"67\" x=\"53.5\" y=\"96.6479\">parameters</text><line style=\"stroke: #383838; stroke-width: 1.0;\" x1=\"120.5\" x2=\"141\" y1=\"93.3398\" y2=\"93.3398\"/></a><a href=\"psysml:e555f4d2-547d-4756-8b33-5fda3be7b359\" target=\"_top\" title=\"psysml:e555f4d2-547d-4756-8b33-5fda3be7b359\" xlink:actuate=\"onRequest\" xlink:href=\"psysml:e555f4d2-547d-4756-8b33-5fda3be7b359\" xlink:show=\"new\" xlink:title=\"psysml:e555f4d2-547d-4756-8b33-5fda3be7b359\" xlink:type=\"simple\"><polygon fill=\"#FFFFFF\" points=\"112.5,670,127.5,670,134.5,692.2969,141.5,692.2969,141.5,722.5938,112.5,722.5938,112.5,670\" style=\"stroke: #000000; stroke-width: 1.5;\"/><line style=\"stroke: #000000; stroke-width: 1.5;\" x1=\"112.5\" x2=\"134.5\" y1=\"692.2969\" y2=\"692.2969\"/><text fill=\"#000000\" font-family=\"sans-serif\" font-size=\"14\" font-weight=\"bold\" lengthAdjust=\"spacingAndGlyphs\" textLength=\"9\" x=\"116.5\" y=\"684.9951\">P</text></a><!--MD5=[2720a5a1f2c3fca2055b230370638851]\n",
       "link E2 to E3--><a href=\"psysml:02703352-f69e-4a4b-893d-89c09588fdfd\" target=\"_top\" title=\"psysml:02703352-f69e-4a4b-893d-89c09588fdfd\" xlink:actuate=\"onRequest\" xlink:href=\"psysml:02703352-f69e-4a4b-893d-89c09588fdfd\" xlink:show=\"new\" xlink:title=\"psysml:02703352-f69e-4a4b-893d-89c09588fdfd\" xlink:type=\"simple\"><path d=\"M194.69,102.26 C192,120.36 188.01,147.16 184.07,173.63 \" fill=\"none\" id=\"E2-&gt;E3\" style=\"stroke: #383838; stroke-width: 1.0;\"/><polygon fill=\"#FFFFFF\" points=\"181.09,193.66,176.9614,173.8369,190.8091,175.8966,181.09,193.66\" style=\"stroke: #383838; stroke-width: 1.0;\"/><ellipse cx=\"179.7782\" cy=\"168.4932\" fill=\"#383838\" rx=\"2\" ry=\"2\" style=\"stroke: #383838; stroke-width: 1.0;\"/><ellipse cx=\"189.6694\" cy=\"169.9644\" fill=\"#383838\" rx=\"2\" ry=\"2\" style=\"stroke: #383838; stroke-width: 1.0;\"/></a><!--MD5=[4672eba38e49728da53d11aeb285b987]\n",
       "reverse link E3 to E4--><a href=\"psysml:e82a868e-a957-4308-9aca-5f2e1a046a10\" target=\"_top\" title=\"psysml:e82a868e-a957-4308-9aca-5f2e1a046a10\" xlink:actuate=\"onRequest\" xlink:href=\"psysml:e82a868e-a957-4308-9aca-5f2e1a046a10\" xlink:show=\"new\" xlink:title=\"psysml:e82a868e-a957-4308-9aca-5f2e1a046a10\" xlink:type=\"simple\"><path d=\"M157.43,344.17 C153.49,367.62 149.5,391.35 146.72,407.89 \" fill=\"none\" id=\"E3&lt;-E4\" style=\"stroke: #383838; stroke-width: 1.0;\"/><polygon fill=\"#383838\" points=\"159.61,331.22,154.6695,336.4727,157.618,343.0535,162.5585,337.8008,159.61,331.22\" style=\"stroke: #383838; stroke-width: 1.0;\"/><text fill=\"#000000\" font-family=\"sans-serif\" font-size=\"13\" lengthAdjust=\"spacingAndGlyphs\" textLength=\"8\" x=\"138.6448\" y=\"396.7567\">1</text></a><!--MD5=[1b7591eae5389033d8d09a9d6721a717]\n",
       "link E4 to E5--><a href=\"psysml:6f8c5931-99ab-4f3d-9640-f9d86b709835\" target=\"_top\" title=\"psysml:6f8c5931-99ab-4f3d-9640-f9d86b709835\" xlink:actuate=\"onRequest\" xlink:href=\"psysml:6f8c5931-99ab-4f3d-9640-f9d86b709835\" xlink:show=\"new\" xlink:title=\"psysml:6f8c5931-99ab-4f3d-9640-f9d86b709835\" xlink:type=\"simple\"><path d=\"M140.42,454.18 C139.1,465.55 137.41,480.07 135.71,494.71 \" fill=\"none\" id=\"E4-&gt;E5\" style=\"stroke: #383838; stroke-width: 1.0;\"/><polygon fill=\"#FFFFFF\" points=\"133.37,514.83,128.6166,495.1474,142.5224,496.7681,133.37,514.83\" style=\"stroke: #383838; stroke-width: 1.0;\"/><ellipse cx=\"131.263\" cy=\"489.7172\" fill=\"#383838\" rx=\"2\" ry=\"2\" style=\"stroke: #383838; stroke-width: 1.0;\"/><ellipse cx=\"141.1957\" cy=\"490.8749\" fill=\"#383838\" rx=\"2\" ry=\"2\" style=\"stroke: #383838; stroke-width: 1.0;\"/></a><!--MD5=[85d356282659285ab4b2cfe2f634dd2b]\n",
       "reverse link E5 to E6--><a href=\"psysml:ef71999d-b74e-4e5c-b2f7-aebb94a9d32a\" target=\"_top\" title=\"psysml:ef71999d-b74e-4e5c-b2f7-aebb94a9d32a\" xlink:actuate=\"onRequest\" xlink:href=\"psysml:ef71999d-b74e-4e5c-b2f7-aebb94a9d32a\" xlink:show=\"new\" xlink:title=\"psysml:ef71999d-b74e-4e5c-b2f7-aebb94a9d32a\" xlink:type=\"simple\"><path d=\"M158.63,620.99 C168.4,639.46 178.62,658.81 186.2,673.16 \" fill=\"none\" id=\"E5&lt;-E6\" style=\"stroke: #383838; stroke-width: 1.0;\"/><polygon fill=\"#383838\" points=\"152.48,609.34,151.744,616.5134,158.0825,619.9519,158.8186,612.7784,152.48,609.34\" style=\"stroke: #383838; stroke-width: 1.0;\"/><text fill=\"#000000\" font-family=\"sans-serif\" font-size=\"13\" lengthAdjust=\"spacingAndGlyphs\" textLength=\"8\" x=\"174.1512\" y=\"662.3492\">1</text></a><!--MD5=[a717450b82c80b9240a525fa862496af]\n",
       "link E6 to E3--><a href=\"psysml:d4047a87-2764-4bb9-9711-6fad77bbdb97\" target=\"_top\" title=\"psysml:d4047a87-2764-4bb9-9711-6fad77bbdb97\" xlink:actuate=\"onRequest\" xlink:href=\"psysml:d4047a87-2764-4bb9-9711-6fad77bbdb97\" xlink:show=\"new\" xlink:title=\"psysml:d4047a87-2764-4bb9-9711-6fad77bbdb97\" xlink:type=\"simple\"><path d=\"M196.93,673.49 C194.55,625.33 188.52,507.02 182,408 C180.79,389.66 179.38,370.02 177.97,351.32 \" fill=\"none\" id=\"E6-&gt;E3\" style=\"stroke: #383838; stroke-width: 1.0;\"/><polygon fill=\"#FFFFFF\" points=\"176.43,331.11,184.8616,349.5195,170.9025,350.5894,176.43,331.11\" style=\"stroke: #383838; stroke-width: 1.0;\"/><ellipse cx=\"183.303\" cy=\"355.3556\" fill=\"#383838\" rx=\"2\" ry=\"2\" style=\"stroke: #383838; stroke-width: 1.0;\"/><ellipse cx=\"173.3323\" cy=\"356.1199\" fill=\"#383838\" rx=\"2\" ry=\"2\" style=\"stroke: #383838; stroke-width: 1.0;\"/></a><!--MD5=[452b418e7f8a40397a49b8c0a78acc5b]\n",
       "reverse link E5 to E7--><a href=\"psysml:ab2aae6d-159f-4d7a-a99e-78671a533366\" target=\"_top\" title=\"psysml:ab2aae6d-159f-4d7a-a99e-78671a533366\" xlink:actuate=\"onRequest\" xlink:href=\"psysml:ab2aae6d-159f-4d7a-a99e-78671a533366\" xlink:show=\"new\" xlink:title=\"psysml:ab2aae6d-159f-4d7a-a99e-78671a533366\" xlink:type=\"simple\"><path d=\"M127.54,624.45 C127.42,640.46 127.29,656.84 127.19,669.83 \" fill=\"none\" id=\"E5&lt;-E7\" style=\"stroke: #383838; stroke-width: 1.0;\"/><ellipse cx=\"127.589\" cy=\"617.3398\" fill=\"#FFFFFF\" rx=\"8\" ry=\"8\" style=\"stroke: #383838; stroke-width: 1.0;\"/><line style=\"stroke: #383838; stroke-width: 1.0;\" x1=\"127.5281\" x2=\"127.65\" y1=\"625.3395\" y2=\"609.34\"/><line style=\"stroke: #383838; stroke-width: 1.0;\" x1=\"119.5893\" x2=\"135.5888\" y1=\"617.2788\" y2=\"617.4007\"/></a><!--MD5=[03c8294790d3c57651a1993cecff665f]\n",
       "reverse link E8 to E3--><a href=\"psysml:75696b56-911c-4e7f-a413-6399c7af4d3a\" target=\"_top\" title=\"psysml:75696b56-911c-4e7f-a413-6399c7af4d3a\" xlink:actuate=\"onRequest\" xlink:href=\"psysml:75696b56-911c-4e7f-a413-6399c7af4d3a\" xlink:show=\"new\" xlink:title=\"psysml:75696b56-911c-4e7f-a413-6399c7af4d3a\" xlink:type=\"simple\"><path d=\"M109.72,129.1 C118.95,149.04 129.77,172.41 139.72,193.92 \" fill=\"none\" id=\"E8&lt;-E3\" style=\"stroke: #383838; stroke-width: 1.0;\"/><polygon fill=\"#FFFFFF\" points=\"104.2,117.17,103.0951,124.2959,109.2479,128.0566,110.3528,120.9307,104.2,117.17\" style=\"stroke: #383838; stroke-width: 1.0;\"/><text fill=\"#000000\" font-family=\"sans-serif\" font-size=\"13\" lengthAdjust=\"spacingAndGlyphs\" textLength=\"7\" x=\"124\" y=\"160.0669\">y</text></a><!--MD5=[049ab558815ccadc2a7a6ffdb8f4a5ba]\n",
       "reverse link E8 to E5--><a href=\"psysml:75696b56-911c-4e7f-a413-6399c7af4d3a\" target=\"_top\" title=\"psysml:75696b56-911c-4e7f-a413-6399c7af4d3a\" xlink:actuate=\"onRequest\" xlink:href=\"psysml:75696b56-911c-4e7f-a413-6399c7af4d3a\" xlink:show=\"new\" xlink:title=\"psysml:75696b56-911c-4e7f-a413-6399c7af4d3a\" xlink:type=\"simple\"><path d=\"M86.82,130.16 C87.14,202.15 89.95,338.79 105,454 C107.63,474.16 112.08,496.16 116.37,514.94 \" fill=\"none\" id=\"E8&lt;-E5\" style=\"stroke: #383838; stroke-width: 1.0;\"/><polygon fill=\"#FFFFFF\" points=\"86.78,117.07,82.7932,123.0788,86.8064,129.07,90.7932,123.0612,86.78,117.07\" style=\"stroke: #383838; stroke-width: 1.0;\"/><text fill=\"#000000\" font-family=\"sans-serif\" font-size=\"13\" lengthAdjust=\"spacingAndGlyphs\" textLength=\"7\" x=\"97\" y=\"374.0669\">y</text></a><!--MD5=[74fa30ac3193f4dfa5cb8dfe853fd100]\n",
       "@startuml\r\n",
       " skinparam monochrome true\r\n",
       "skinparam classbackgroundcolor white\r\n",
       "skinparam shadowing false\r\n",
       "skinparam wrapWidth 300\r\n",
       "hide circle\r\n",
       "\r\n",
       "package \"PartTest\" as E1  [[psysml:538b1265-15ae-4afd-8dd2-ef0f57b41a53 ]]  {\r\n",
       "comp usage \"f: A \" as E2  <<(T,blue) part>> [[psysml:2c090466-3d5c-4444-ba17-090921dc2443 ]] {\r\n",
       "}\r\n",
       "comp def \"A\" as E3  <<(T,blue) part  def>> [[psysml:d1b7cfcb-f6eb-4e6c-b82e-69976e6757f6 ]] {\r\n",
       "- - attributes - -\r\n",
       "x\r\n",
       "y:> A::x\r\n",
       "- - ports - -\r\n",
       "c: C\r\n",
       "|_ \r\n",
       "}\r\n",
       "comp usage \"b: B \" as E4  <<(T,blue) part>> [[psysml:1aa2f075-dfbc-4c28-975e-f9b78ce76d6b ]] {\r\n",
       "}\r\n",
       "comp def \"<i>B</i>\" as E5  <<(T,blue) part  def>> [[psysml:286e6ef4-92d4-4c1b-a17d-09881da7698b ]] {\r\n",
       "- - ports - -\r\n",
       "x: ~C\r\n",
       "|_ \r\n",
       "}\r\n",
       "comp usage \"<i>a</i>: A \" as E6  <<(T,blue) part>> [[psysml:215e87e2-ee75-46c7-98ea-4ce8794cdbad ]] {\r\n",
       "}\r\n",
       "package \"P\" as E7  [[psysml:e555f4d2-547d-4756-8b33-5fda3be7b359 ]]  {\r\n",
       "}\r\n",
       "comp def \"C\" as E8  <<(T,blue) port  def>> [[psysml:3d6805d2-0d33-47df-af88-6771a9177656 ]] {\r\n",
       "- - parameters - -\r\n",
       "<b>in</b> y: A, B <b>alias</b> z2 \r\n",
       "}\r\n",
       "}\r\n",
       "E2 - -:|> E3 [[psysml:02703352-f69e-4a4b-893d-89c09588fdfd ]] \r\n",
       "E3 *- - \"1\"E4 [[psysml:e82a868e-a957-4308-9aca-5f2e1a046a10 ]] \r\n",
       "E4 - -:|> E5 [[psysml:6f8c5931-99ab-4f3d-9640-f9d86b709835 ]] \r\n",
       "E5 *- - \"1\"E6 [[psysml:ef71999d-b74e-4e5c-b2f7-aebb94a9d32a ]] \r\n",
       "E6 - -:|> E3 [[psysml:d4047a87-2764-4bb9-9711-6fad77bbdb97 ]] \r\n",
       "E5 +- - E7 [[psysml:ab2aae6d-159f-4d7a-a99e-78671a533366 ]] \r\n",
       "E8 o- - E3 [[psysml:75696b56-911c-4e7f-a413-6399c7af4d3a ]] : y\r\n",
       "E8 o- - E5 [[psysml:75696b56-911c-4e7f-a413-6399c7af4d3a ]] : y\r\n",
       "@enduml\r\n",
       "\n",
       "PlantUML version 1.2020.13(Sat Jun 13 12:26:38 UTC 2020)\n",
       "(EPL source distribution)\n",
       "Java Runtime: OpenJDK Runtime Environment\n",
       "JVM: OpenJDK 64-Bit Server VM\n",
       "Default Encoding: UTF-8\n",
       "Language: en\n",
       "Country: null\n",
       "--></g></svg>"
      ]
     },
     "execution_count": 3,
     "metadata": {},
     "output_type": "execute_result"
    }
   ],
   "source": [
    "%viz --style=\"COMPTREE\" --view=\"Tree\" \"PartTest\""
   ]
  },
  {
   "cell_type": "code",
   "execution_count": 4,
   "id": "4179a36d",
   "metadata": {
    "execution": {
     "iopub.execute_input": "2022-05-19T08:45:11.029187Z",
     "iopub.status.busy": "2022-05-19T08:45:11.028923Z",
     "iopub.status.idle": "2022-05-19T08:45:11.035837Z",
     "shell.execute_reply": "2022-05-19T08:45:11.036094Z"
    }
   },
   "outputs": [
    {
     "data": {
      "image/svg+xml": [
       "<?xml version=\"1.0\" encoding=\"UTF-8\" standalone=\"no\"?><svg xmlns=\"http://www.w3.org/2000/svg\" xmlns:xlink=\"http://www.w3.org/1999/xlink\" contentScriptType=\"application/ecmascript\" contentStyleType=\"text/css\" height=\"12px\" preserveAspectRatio=\"none\" style=\"width:12px;height:12px;\" version=\"1.1\" viewBox=\"0 0 12 12\" width=\"12px\" zoomAndPan=\"magnify\"><defs/><g><!--MD5=[f19188ef49e11757b5c46753f95d9edc]\n",
       "@startuml\r\n",
       " skinparam monochrome true\r\n",
       "skinparam classbackgroundcolor white\r\n",
       "skinparam shadowing false\r\n",
       "skinparam wrapWidth 300\r\n",
       "hide circle\r\n",
       "\r\n",
       "@enduml\r\n",
       "\n",
       "PlantUML version 1.2020.13(Sat Jun 13 12:26:38 UTC 2020)\n",
       "(EPL source distribution)\n",
       "Java Runtime: OpenJDK Runtime Environment\n",
       "JVM: OpenJDK 64-Bit Server VM\n",
       "Default Encoding: UTF-8\n",
       "Language: en\n",
       "Country: null\n",
       "--></g></svg>"
      ]
     },
     "execution_count": 4,
     "metadata": {},
     "output_type": "execute_result"
    }
   ],
   "source": [
    "%viz --style=\"COMPTREE\" --view=\"State\" \"PartTest\""
   ]
  },
  {
   "cell_type": "code",
   "execution_count": 5,
   "id": "bf6cf684",
   "metadata": {
    "execution": {
     "iopub.execute_input": "2022-05-19T08:45:11.086836Z",
     "iopub.status.busy": "2022-05-19T08:45:11.086368Z",
     "iopub.status.idle": "2022-05-19T08:45:11.158339Z",
     "shell.execute_reply": "2022-05-19T08:45:11.158768Z"
    }
   },
   "outputs": [
    {
     "data": {
      "image/svg+xml": [
       "<?xml version=\"1.0\" encoding=\"UTF-8\" standalone=\"no\"?><svg xmlns=\"http://www.w3.org/2000/svg\" xmlns:xlink=\"http://www.w3.org/1999/xlink\" contentScriptType=\"application/ecmascript\" contentStyleType=\"text/css\" height=\"429px\" preserveAspectRatio=\"none\" style=\"width:639px;height:429px;\" version=\"1.1\" viewBox=\"0 0 639 429\" width=\"639px\" zoomAndPan=\"magnify\"><defs/><g><!--MD5=[fbc87193dbaf4d95561dea2c320d4a47]\n",
       "cluster E1--><a href=\"psysml:538b1265-15ae-4afd-8dd2-ef0f57b41a53\" target=\"_top\" title=\"psysml:538b1265-15ae-4afd-8dd2-ef0f57b41a53\" xlink:actuate=\"onRequest\" xlink:href=\"psysml:538b1265-15ae-4afd-8dd2-ef0f57b41a53\" xlink:show=\"new\" xlink:title=\"psysml:538b1265-15ae-4afd-8dd2-ef0f57b41a53\" xlink:type=\"simple\"><polygon fill=\"#FFFFFF\" points=\"16,6,80,6,87,28.2969,617,28.2969,617,417.5,16,417.5,16,6\" style=\"stroke: #000000; stroke-width: 1.5;\"/><line style=\"stroke: #000000; stroke-width: 1.5;\" x1=\"16\" x2=\"87\" y1=\"28.2969\" y2=\"28.2969\"/><text fill=\"#000000\" font-family=\"sans-serif\" font-size=\"14\" font-weight=\"bold\" lengthAdjust=\"spacingAndGlyphs\" textLength=\"58\" x=\"20\" y=\"20.9951\">PartTest</text></a><!--MD5=[d5e69f78d87373223dbae638b30a9c99]\n",
       "cluster E3--><a href=\"psysml:d1b7cfcb-f6eb-4e6c-b82e-69976e6757f6\" target=\"_top\" title=\"psysml:d1b7cfcb-f6eb-4e6c-b82e-69976e6757f6\" xlink:actuate=\"onRequest\" xlink:href=\"psysml:d1b7cfcb-f6eb-4e6c-b82e-69976e6757f6\" xlink:show=\"new\" xlink:title=\"psysml:d1b7cfcb-f6eb-4e6c-b82e-69976e6757f6\" xlink:type=\"simple\"><rect fill=\"#FFFFFF\" height=\"171.5\" id=\"E3\" style=\"stroke: #383838; stroke-width: 1.5;\" width=\"246\" x=\"98\" y=\"63\"/><rect fill=\"#F8F8F8\" height=\"37.9375\" style=\"stroke: #383838; stroke-width: 1.5;\" width=\"246\" x=\"98\" y=\"63\"/><text fill=\"#000000\" font-family=\"sans-serif\" font-size=\"12\" font-style=\"italic\" lengthAdjust=\"spacingAndGlyphs\" textLength=\"68\" x=\"187\" y=\"79.1387\">«part  def»</text><text fill=\"#000000\" font-family=\"sans-serif\" font-size=\"12\" lengthAdjust=\"spacingAndGlyphs\" textLength=\"8\" x=\"217\" y=\"93.1074\">A</text></a><!--MD5=[55dfccfc6c49c2d10cd1bd2211a6c90c]\n",
       "cluster E8--><a href=\"psysml:286e6ef4-92d4-4c1b-a17d-09881da7698b\" target=\"_top\" title=\"psysml:286e6ef4-92d4-4c1b-a17d-09881da7698b\" xlink:actuate=\"onRequest\" xlink:href=\"psysml:286e6ef4-92d4-4c1b-a17d-09881da7698b\" xlink:show=\"new\" xlink:title=\"psysml:286e6ef4-92d4-4c1b-a17d-09881da7698b\" xlink:type=\"simple\"><rect fill=\"#FFFFFF\" height=\"206\" id=\"E8\" style=\"stroke: #383838; stroke-width: 1.5;\" width=\"225\" x=\"368\" y=\"187.5\"/><rect fill=\"#F8F8F8\" height=\"37.9375\" style=\"stroke: #383838; stroke-width: 1.5;\" width=\"225\" x=\"368\" y=\"187.5\"/><text fill=\"#000000\" font-family=\"sans-serif\" font-size=\"12\" font-style=\"italic\" lengthAdjust=\"spacingAndGlyphs\" textLength=\"68\" x=\"446.5\" y=\"203.6387\">«part  def»</text><text fill=\"#000000\" font-family=\"sans-serif\" font-size=\"12\" font-style=\"italic\" lengthAdjust=\"spacingAndGlyphs\" textLength=\"8\" x=\"476.5\" y=\"217.6074\">B</text></a><g id=\"E1.E12\"><a href=\"psysml:3d6805d2-0d33-47df-af88-6771a9177656\" target=\"_top\" title=\"psysml:3d6805d2-0d33-47df-af88-6771a9177656\" xlink:actuate=\"onRequest\" xlink:href=\"psysml:3d6805d2-0d33-47df-af88-6771a9177656\" xlink:show=\"new\" xlink:title=\"psysml:3d6805d2-0d33-47df-af88-6771a9177656\" xlink:type=\"simple\"><rect fill=\"#FFFFFF\" height=\"42.9375\" id=\"E12\" style=\"stroke: #383838; stroke-width: 1.5;\" width=\"75\" x=\"442.5\" y=\"41.5\"/><rect fill=\"#F8F8F8\" height=\"37.9375\" style=\"stroke: #383838; stroke-width: 1.5;\" width=\"75\" x=\"442.5\" y=\"41.5\"/><text fill=\"#000000\" font-family=\"sans-serif\" font-size=\"12\" font-style=\"italic\" lengthAdjust=\"spacingAndGlyphs\" textLength=\"68\" x=\"446\" y=\"57.6387\">«port  def»</text><text fill=\"#000000\" font-family=\"sans-serif\" font-size=\"12\" lengthAdjust=\"spacingAndGlyphs\" textLength=\"8\" x=\"476\" y=\"71.6074\">C</text></a></g><g id=\"E1.E2\"><a href=\"psysml:2c090466-3d5c-4444-ba17-090921dc2443\" target=\"_top\" title=\"psysml:2c090466-3d5c-4444-ba17-090921dc2443\" xlink:actuate=\"onRequest\" xlink:href=\"psysml:2c090466-3d5c-4444-ba17-090921dc2443\" xlink:show=\"new\" xlink:title=\"psysml:2c090466-3d5c-4444-ba17-090921dc2443\" xlink:type=\"simple\"><rect fill=\"#FFFFFF\" height=\"40\" id=\"E2\" rx=\"10\" ry=\"10\" style=\"stroke: #383838; stroke-width: 1.5;\" width=\"50\" x=\"32\" y=\"43\"/><rect fill=\"#F8F8F8\" height=\"23.9688\" rx=\"10\" ry=\"10\" style=\"stroke: #F8F8F8; stroke-width: 1.5;\" width=\"50\" x=\"32\" y=\"43\"/><rect fill=\"#F8F8F8\" height=\"10\" style=\"stroke: #F8F8F8; stroke-width: 1.5;\" width=\"50\" x=\"32\" y=\"56.9688\"/><rect fill=\"none\" height=\"40\" id=\"E2\" rx=\"10\" ry=\"10\" style=\"stroke: #383838; stroke-width: 1.5;\" width=\"50\" x=\"32\" y=\"43\"/><text fill=\"#000000\" font-family=\"sans-serif\" font-size=\"12\" lengthAdjust=\"spacingAndGlyphs\" textLength=\"20\" x=\"47\" y=\"59.1387\">f: A</text></a></g><text fill=\"#000000\" font-family=\"sans-serif\" font-size=\"14\" lengthAdjust=\"spacingAndGlyphs\" textLength=\"27\" x=\"258.5\" y=\"41.6982\">c: C</text><rect fill=\"#383838\" height=\"12\" style=\"stroke: #F8F8F8; stroke-width: 1.5;\" width=\"12\" x=\"268\" y=\"57\"/><!--MD5=[60a26617385b1d2d0262a64233df1f8d]\n",
       "class E6--><a href=\"psysml:06f02a55-455e-4cd3-969d-a4f55ea12e51\" target=\"_top\" title=\"psysml:06f02a55-455e-4cd3-969d-a4f55ea12e51\" xlink:actuate=\"onRequest\" xlink:href=\"psysml:06f02a55-455e-4cd3-969d-a4f55ea12e51\" xlink:show=\"new\" xlink:title=\"psysml:06f02a55-455e-4cd3-969d-a4f55ea12e51\" xlink:type=\"simple\"><rect fill=\"#FFFFFF\" height=\"45.9375\" id=\"E6\" rx=\"10\" ry=\"10\" style=\"stroke: #383838; stroke-width: 1.5;\" width=\"71\" x=\"122.5\" y=\"164.5\"/><text fill=\"#000000\" font-family=\"sans-serif\" font-size=\"12\" font-style=\"italic\" lengthAdjust=\"spacingAndGlyphs\" textLength=\"69\" x=\"123.5\" y=\"180.6387\">«attribute»</text><text fill=\"#000000\" font-family=\"sans-serif\" font-size=\"12\" lengthAdjust=\"spacingAndGlyphs\" textLength=\"6\" x=\"153\" y=\"194.6074\">x</text><line style=\"stroke: #383838; stroke-width: 1.5;\" x1=\"123.5\" x2=\"192.5\" y1=\"202.4375\" y2=\"202.4375\"/></a><!--MD5=[2156ba9850f5573cc1fc38a6a4b2f02b]\n",
       "class E7--><a href=\"psysml:76b35b38-8c6d-4280-8e5f-8b677c2aa039\" target=\"_top\" title=\"psysml:76b35b38-8c6d-4280-8e5f-8b677c2aa039\" xlink:actuate=\"onRequest\" xlink:href=\"psysml:76b35b38-8c6d-4280-8e5f-8b677c2aa039\" xlink:show=\"new\" xlink:title=\"psysml:76b35b38-8c6d-4280-8e5f-8b677c2aa039\" xlink:type=\"simple\"><rect fill=\"#FFFFFF\" height=\"45.9375\" id=\"E7\" rx=\"10\" ry=\"10\" style=\"stroke: #383838; stroke-width: 1.5;\" width=\"71\" x=\"122.5\" y=\"108.5\"/><text fill=\"#000000\" font-family=\"sans-serif\" font-size=\"12\" font-style=\"italic\" lengthAdjust=\"spacingAndGlyphs\" textLength=\"69\" x=\"123.5\" y=\"124.6387\">«attribute»</text><text fill=\"#000000\" font-family=\"sans-serif\" font-size=\"12\" lengthAdjust=\"spacingAndGlyphs\" textLength=\"50\" x=\"133\" y=\"138.6074\">y :&gt; A::x</text><line style=\"stroke: #383838; stroke-width: 1.5;\" x1=\"123.5\" x2=\"192.5\" y1=\"146.4375\" y2=\"146.4375\"/></a><g id=\"E1.E3.E4\"><a href=\"psysml:1aa2f075-dfbc-4c28-975e-f9b78ce76d6b\" target=\"_top\" title=\"psysml:1aa2f075-dfbc-4c28-975e-f9b78ce76d6b\" xlink:actuate=\"onRequest\" xlink:href=\"psysml:1aa2f075-dfbc-4c28-975e-f9b78ce76d6b\" xlink:show=\"new\" xlink:title=\"psysml:1aa2f075-dfbc-4c28-975e-f9b78ce76d6b\" xlink:type=\"simple\"><rect fill=\"#FFFFFF\" height=\"40\" id=\"E4\" rx=\"10\" ry=\"10\" style=\"stroke: #383838; stroke-width: 1.5;\" width=\"50\" x=\"259\" y=\"167.5\"/><rect fill=\"#F8F8F8\" height=\"23.9688\" rx=\"10\" ry=\"10\" style=\"stroke: #F8F8F8; stroke-width: 1.5;\" width=\"50\" x=\"259\" y=\"167.5\"/><rect fill=\"#F8F8F8\" height=\"10\" style=\"stroke: #F8F8F8; stroke-width: 1.5;\" width=\"50\" x=\"259\" y=\"181.4688\"/><rect fill=\"none\" height=\"40\" id=\"E4\" rx=\"10\" ry=\"10\" style=\"stroke: #383838; stroke-width: 1.5;\" width=\"50\" x=\"259\" y=\"167.5\"/><text fill=\"#000000\" font-family=\"sans-serif\" font-size=\"12\" lengthAdjust=\"spacingAndGlyphs\" textLength=\"24\" x=\"272\" y=\"183.6387\">b: B</text></a></g><text fill=\"#000000\" font-family=\"sans-serif\" font-size=\"14\" lengthAdjust=\"spacingAndGlyphs\" textLength=\"38\" x=\"502\" y=\"166.1982\">x: ~C</text><rect fill=\"#383838\" height=\"12\" style=\"stroke: #F8F8F8; stroke-width: 1.5;\" width=\"12\" x=\"517\" y=\"181.5\"/><g id=\"E1.E8.E9\"><a href=\"psysml:215e87e2-ee75-46c7-98ea-4ce8794cdbad\" target=\"_top\" title=\"psysml:215e87e2-ee75-46c7-98ea-4ce8794cdbad\" xlink:actuate=\"onRequest\" xlink:href=\"psysml:215e87e2-ee75-46c7-98ea-4ce8794cdbad\" xlink:show=\"new\" xlink:title=\"psysml:215e87e2-ee75-46c7-98ea-4ce8794cdbad\" xlink:type=\"simple\"><rect fill=\"#FFFFFF\" height=\"40\" id=\"E9\" rx=\"10\" ry=\"10\" style=\"stroke: #383838; stroke-width: 1.5;\" width=\"50\" x=\"392\" y=\"266.5\"/><rect fill=\"#F8F8F8\" height=\"23.9688\" rx=\"10\" ry=\"10\" style=\"stroke: #F8F8F8; stroke-width: 1.5;\" width=\"50\" x=\"392\" y=\"266.5\"/><rect fill=\"#F8F8F8\" height=\"10\" style=\"stroke: #F8F8F8; stroke-width: 1.5;\" width=\"50\" x=\"392\" y=\"280.4688\"/><rect fill=\"none\" height=\"40\" id=\"E9\" rx=\"10\" ry=\"10\" style=\"stroke: #383838; stroke-width: 1.5;\" width=\"50\" x=\"392\" y=\"266.5\"/><text fill=\"#000000\" font-family=\"sans-serif\" font-size=\"12\" lengthAdjust=\"spacingAndGlyphs\" textLength=\"24\" x=\"405\" y=\"282.6387\">a: A</text></a></g><a href=\"psysml:e555f4d2-547d-4756-8b33-5fda3be7b359\" target=\"_top\" title=\"psysml:e555f4d2-547d-4756-8b33-5fda3be7b359\" xlink:actuate=\"onRequest\" xlink:href=\"psysml:e555f4d2-547d-4756-8b33-5fda3be7b359\" xlink:show=\"new\" xlink:title=\"psysml:e555f4d2-547d-4756-8b33-5fda3be7b359\" xlink:type=\"simple\"><polygon fill=\"#FFFFFF\" points=\"508.5,316.5,523.5,316.5,530.5,338.7969,537.5,338.7969,537.5,369.0938,508.5,369.0938,508.5,316.5\" style=\"stroke: #000000; stroke-width: 1.5;\"/><line style=\"stroke: #000000; stroke-width: 1.5;\" x1=\"508.5\" x2=\"530.5\" y1=\"338.7969\" y2=\"338.7969\"/><text fill=\"#000000\" font-family=\"sans-serif\" font-size=\"14\" font-weight=\"bold\" lengthAdjust=\"spacingAndGlyphs\" textLength=\"9\" x=\"512.5\" y=\"331.4951\">P</text></a><!--MD5=[2720a5a1f2c3fca2055b230370638851]\n",
       "link E2 to E3--><a href=\"psysml:02703352-f69e-4a4b-893d-89c09588fdfd\" target=\"_top\" title=\"psysml:02703352-f69e-4a4b-893d-89c09588fdfd\" xlink:actuate=\"onRequest\" xlink:href=\"psysml:02703352-f69e-4a4b-893d-89c09588fdfd\" xlink:show=\"new\" xlink:title=\"psysml:02703352-f69e-4a4b-893d-89c09588fdfd\" xlink:type=\"simple\"><path d=\"M82.35,81.39 C84.86,82.61 87.43,83.67 90,84.5 C91.6034,85.0153 93.1746,85.4905 94.7155,85.9279 C95.486,86.1467 96.2489,86.356 97.0045,86.5562 C97.1934,86.6063 97.3818,86.6558 97.5698,86.7047 \" fill=\"none\" id=\"E2-&gt;E3\" style=\"stroke: #383838; stroke-width: 1.0;\"/><polygon fill=\"#FFFFFF\" points=\"97.5698,86.7047,77.4193,88.6939,80.9452,75.1452,97.5698,86.7047\" style=\"stroke: #383838; stroke-width: 1.0;\"/><ellipse cx=\"72.4067\" cy=\"85.3228\" fill=\"#383838\" rx=\"2\" ry=\"2\" style=\"stroke: #383838; stroke-width: 1.0;\"/><ellipse cx=\"74.9252\" cy=\"75.6452\" fill=\"#383838\" rx=\"2\" ry=\"2\" style=\"stroke: #383838; stroke-width: 1.0;\"/></a><!--MD5=[353cdda3e1e05fc02373f055b6f604ae]\n",
       "link E4 to E8--><a href=\"psysml:6f8c5931-99ab-4f3d-9640-f9d86b709835\" target=\"_top\" title=\"psysml:6f8c5931-99ab-4f3d-9640-f9d86b709835\" xlink:actuate=\"onRequest\" xlink:href=\"psysml:6f8c5931-99ab-4f3d-9640-f9d86b709835\" xlink:show=\"new\" xlink:title=\"psysml:6f8c5931-99ab-4f3d-9640-f9d86b709835\" xlink:type=\"simple\"><path d=\"M304.49,207.74 C318.86,219.99 339.16,234.92 360,242.5 C362.6188,243.4525 365.1341,244.2668 367.5591,244.9596 \" fill=\"none\" id=\"E4-&gt;E8\" style=\"stroke: #383838; stroke-width: 1.0;\"/><polygon fill=\"#FFFFFF\" points=\"367.5591,244.9596,347.3671,246.471,351.2129,233.0096,367.5591,244.9596\" style=\"stroke: #383838; stroke-width: 1.0;\"/><ellipse cx=\"342.4358\" cy=\"242.9822\" fill=\"#383838\" rx=\"2\" ry=\"2\" style=\"stroke: #383838; stroke-width: 1.0;\"/><ellipse cx=\"345.1828\" cy=\"233.3669\" fill=\"#383838\" rx=\"2\" ry=\"2\" style=\"stroke: #383838; stroke-width: 1.0;\"/></a><!--MD5=[fbb449814971db3a0b8220cf225b9e01]\n",
       "link E7 to E6--><a href=\"psysml:ae54614b-4129-4b1b-b401-8ec489119004\" target=\"_top\" title=\"psysml:ae54614b-4129-4b1b-b401-8ec489119004\" xlink:actuate=\"onRequest\" xlink:href=\"psysml:ae54614b-4129-4b1b-b401-8ec489119004\" xlink:show=\"new\" xlink:title=\"psysml:ae54614b-4129-4b1b-b401-8ec489119004\" xlink:type=\"simple\"><path d=\"M158,154.78 C158,154.87 158,154.97 158,155.07 \" fill=\"none\" id=\"E7-&gt;E6\" style=\"stroke: #383838; stroke-width: 1.0;\"/><polygon fill=\"none\" points=\"165,144.28,158,164.28,151,144.28,165,144.28\" style=\"stroke: #383838; stroke-width: 1.0;\"/></a><!--MD5=[92a97fc68b0cf8efbbf01f4f6b4ceef7]\n",
       "link E9 to E3--><a href=\"psysml:d4047a87-2764-4bb9-9711-6fad77bbdb97\" target=\"_top\" title=\"psysml:d4047a87-2764-4bb9-9711-6fad77bbdb97\" xlink:actuate=\"onRequest\" xlink:href=\"psysml:d4047a87-2764-4bb9-9711-6fad77bbdb97\" xlink:show=\"new\" xlink:title=\"psysml:d4047a87-2764-4bb9-9711-6fad77bbdb97\" xlink:type=\"simple\"><path d=\"M405.86,266.08 C398.19,253.305 386.955,235.61 373.3975,217.2588 C366.6188,208.0831 359.2594,198.7434 351.4747,189.7727 C349.5285,187.53 347.5558,185.3103 345.5589,183.1221 C345.0596,182.575 344.5589,182.0299 344.0567,181.4869 \" fill=\"none\" id=\"E9-&gt;E3\" style=\"stroke: #383838; stroke-width: 1.0;\"/><polygon fill=\"#FFFFFF\" points=\"344.0567,181.4869,362.0965,190.6828,351.8184,200.1887,344.0567,181.4869\" style=\"stroke: #383838; stroke-width: 1.0;\"/><ellipse cx=\"364.4984\" cy=\"196.2255\" fill=\"#383838\" rx=\"2\" ry=\"2\" style=\"stroke: #383838; stroke-width: 1.0;\"/><ellipse cx=\"357.1569\" cy=\"203.0153\" fill=\"#383838\" rx=\"2\" ry=\"2\" style=\"stroke: #383838; stroke-width: 1.0;\"/></a><!--MD5=[0328fbb3a01c8c4460d5a9db04100e89]\n",
       "@startuml\r\n",
       "skinparam ranksep 10\r\n",
       "skinparam rectangle {\r\n",
       " backgroundColor<<block>> LightGreen\r\n",
       "}\r\n",
       " skinparam monochrome true\r\n",
       "skinparam classbackgroundcolor white\r\n",
       "skinparam shadowing false\r\n",
       "skinparam wrapWidth 300\r\n",
       "hide circle\r\n",
       "\r\n",
       "package \"PartTest\" as E1  [[psysml:538b1265-15ae-4afd-8dd2-ef0f57b41a53 ]]  {\r\n",
       "rec usage \"f: A\" as E2  [[psysml:2c090466-3d5c-4444-ba17-090921dc2443 ]] {\r\n",
       "}\r\n",
       "rec def \"A\" as E3  <<(T,blue) part  def>> [[psysml:d1b7cfcb-f6eb-4e6c-b82e-69976e6757f6 ]] {\r\n",
       "rec usage \"b: B\" as E4  [[psysml:1aa2f075-dfbc-4c28-975e-f9b78ce76d6b ]] {\r\n",
       "}\r\n",
       "portin \"c: C \" as E5  <<(T,blue) port>> [[psysml:6b6fc427-035b-4f92-af2f-ae5f46ec13e5 ]] \r\n",
       "comp usage \"x \" as E6  <<(T,blue) attribute>> [[psysml:06f02a55-455e-4cd3-969d-a4f55ea12e51 ]] {\r\n",
       "}\r\n",
       "comp usage \"y :> A::x\" as E7  <<(T,blue) attribute>> [[psysml:76b35b38-8c6d-4280-8e5f-8b677c2aa039 ]] {\r\n",
       "}\r\n",
       "}\r\n",
       "rec def \"<i>B</i>\" as E8  <<(T,blue) part  def>> [[psysml:286e6ef4-92d4-4c1b-a17d-09881da7698b ]] {\r\n",
       "rec usage \"a: A\" as E9  [[psysml:215e87e2-ee75-46c7-98ea-4ce8794cdbad ]] {\r\n",
       "}\r\n",
       "portin \"x: ~C \" as E10  <<(T,blue) port>> [[psysml:27d37788-2b75-4a5c-b4fe-9553c2483e93 ]] \r\n",
       "package \"P\" as E11  [[psysml:e555f4d2-547d-4756-8b33-5fda3be7b359 ]]  {\r\n",
       "}\r\n",
       "}\r\n",
       "def \"C\" as E12  <<(T,blue) port  def>> [[psysml:3d6805d2-0d33-47df-af88-6771a9177656 ]] \r\n",
       "}\r\n",
       "E2 - -:|> E3 [[psysml:02703352-f69e-4a4b-893d-89c09588fdfd ]] \r\n",
       "E4 - -:|> E8 [[psysml:6f8c5931-99ab-4f3d-9640-f9d86b709835 ]] \r\n",
       "E7 - -|> E6 [[psysml:ae54614b-4129-4b1b-b401-8ec489119004 ]] \r\n",
       "E9 - -:|> E3 [[psysml:d4047a87-2764-4bb9-9711-6fad77bbdb97 ]] \r\n",
       "@enduml\r\n",
       "\n",
       "PlantUML version 1.2020.13(Sat Jun 13 12:26:38 UTC 2020)\n",
       "(EPL source distribution)\n",
       "Java Runtime: OpenJDK Runtime Environment\n",
       "JVM: OpenJDK 64-Bit Server VM\n",
       "Default Encoding: UTF-8\n",
       "Language: en\n",
       "Country: null\n",
       "--></g></svg>"
      ]
     },
     "execution_count": 5,
     "metadata": {},
     "output_type": "execute_result"
    }
   ],
   "source": [
    "%viz --style=\"COMPTREE\" --view=\"Interconnection\" \"PartTest\""
   ]
  },
  {
   "cell_type": "code",
   "execution_count": 6,
   "id": "9caef49c",
   "metadata": {
    "execution": {
     "iopub.execute_input": "2022-05-19T08:45:11.208141Z",
     "iopub.status.busy": "2022-05-19T08:45:11.207661Z",
     "iopub.status.idle": "2022-05-19T08:45:11.214648Z",
     "shell.execute_reply": "2022-05-19T08:45:11.215018Z"
    }
   },
   "outputs": [
    {
     "data": {
      "image/svg+xml": [
       "<?xml version=\"1.0\" encoding=\"UTF-8\" standalone=\"no\"?><svg xmlns=\"http://www.w3.org/2000/svg\" xmlns:xlink=\"http://www.w3.org/1999/xlink\" contentScriptType=\"application/ecmascript\" contentStyleType=\"text/css\" height=\"12px\" preserveAspectRatio=\"none\" style=\"width:12px;height:12px;\" version=\"1.1\" viewBox=\"0 0 12 12\" width=\"12px\" zoomAndPan=\"magnify\"><defs/><g><!--MD5=[655b888544ca4751ea36af1068543f84]\n",
       "@startuml\r\n",
       "skinparam ranksep 8\r\n",
       " skinparam monochrome true\r\n",
       "skinparam classbackgroundcolor white\r\n",
       "skinparam shadowing false\r\n",
       "skinparam wrapWidth 300\r\n",
       "hide circle\r\n",
       "\r\n",
       "@enduml\r\n",
       "\n",
       "PlantUML version 1.2020.13(Sat Jun 13 12:26:38 UTC 2020)\n",
       "(EPL source distribution)\n",
       "Java Runtime: OpenJDK Runtime Environment\n",
       "JVM: OpenJDK 64-Bit Server VM\n",
       "Default Encoding: UTF-8\n",
       "Language: en\n",
       "Country: null\n",
       "--></g></svg>"
      ]
     },
     "execution_count": 6,
     "metadata": {},
     "output_type": "execute_result"
    }
   ],
   "source": [
    "%viz --style=\"COMPTREE\" --view=\"Action\" \"PartTest\""
   ]
  },
  {
   "cell_type": "code",
   "execution_count": 7,
   "id": "9d3f7f9c",
   "metadata": {
    "execution": {
     "iopub.execute_input": "2022-05-19T08:45:11.265283Z",
     "iopub.status.busy": "2022-05-19T08:45:11.264802Z",
     "iopub.status.idle": "2022-05-19T08:45:11.276682Z",
     "shell.execute_reply": "2022-05-19T08:45:11.277008Z"
    }
   },
   "outputs": [
    {
     "data": {
      "image/svg+xml": [
       "<?xml version=\"1.0\" encoding=\"UTF-8\" standalone=\"no\"?><svg xmlns=\"http://www.w3.org/2000/svg\" xmlns:xlink=\"http://www.w3.org/1999/xlink\" contentScriptType=\"application/ecmascript\" contentStyleType=\"text/css\" height=\"12px\" preserveAspectRatio=\"none\" style=\"width:12px;height:12px;\" version=\"1.1\" viewBox=\"0 0 12 12\" width=\"12px\" zoomAndPan=\"magnify\"><defs/><g><!--MD5=[803fc46c337be7a5c8a9831e35356779]\n",
       "@startuml\r\n",
       "skinparam roundcorner 20\r\n",
       "skinparam BoxPadding 20\r\n",
       "skinparam SequenceBoxBackgroundColor #white\r\n",
       "skinparam style strictuml\r\n",
       "skinparam maxMessageSize 100\r\n",
       " skinparam monochrome true\r\n",
       "skinparam classbackgroundcolor white\r\n",
       "skinparam shadowing false\r\n",
       "skinparam wrapWidth 300\r\n",
       "hide circle\r\n",
       "\r\n",
       "@enduml\r\n",
       "\n",
       "PlantUML version 1.2020.13(Sat Jun 13 12:26:38 UTC 2020)\n",
       "(EPL source distribution)\n",
       "Java Runtime: OpenJDK Runtime Environment\n",
       "JVM: OpenJDK 64-Bit Server VM\n",
       "Default Encoding: UTF-8\n",
       "Language: en\n",
       "Country: null\n",
       "--></g></svg>"
      ]
     },
     "execution_count": 7,
     "metadata": {},
     "output_type": "execute_result"
    }
   ],
   "source": [
    "%viz --style=\"COMPTREE\" --view=\"Sequence\" \"PartTest\""
   ]
  },
  {
   "cell_type": "code",
   "execution_count": 8,
   "id": "710345d6",
   "metadata": {
    "execution": {
     "iopub.execute_input": "2022-05-19T08:45:11.327316Z",
     "iopub.status.busy": "2022-05-19T08:45:11.326828Z",
     "iopub.status.idle": "2022-05-19T08:45:11.442178Z",
     "shell.execute_reply": "2022-05-19T08:45:11.439892Z"
    }
   },
   "outputs": [
    {
     "data": {
      "image/svg+xml": [
       "<?xml version=\"1.0\" encoding=\"UTF-8\" standalone=\"no\"?><svg xmlns=\"http://www.w3.org/2000/svg\" xmlns:xlink=\"http://www.w3.org/1999/xlink\" contentScriptType=\"application/ecmascript\" contentStyleType=\"text/css\" height=\"751px\" preserveAspectRatio=\"none\" style=\"width:257px;height:751px;\" version=\"1.1\" viewBox=\"0 0 257 751\" width=\"257px\" zoomAndPan=\"magnify\"><defs/><g><!--MD5=[fbc87193dbaf4d95561dea2c320d4a47]\n",
       "cluster E1--><a href=\"psysml:538b1265-15ae-4afd-8dd2-ef0f57b41a53\" target=\"_top\" title=\"psysml:538b1265-15ae-4afd-8dd2-ef0f57b41a53\" xlink:actuate=\"onRequest\" xlink:href=\"psysml:538b1265-15ae-4afd-8dd2-ef0f57b41a53\" xlink:show=\"new\" xlink:title=\"psysml:538b1265-15ae-4afd-8dd2-ef0f57b41a53\" xlink:type=\"simple\"><polygon fill=\"#FFFFFF\" points=\"16,6,80,6,87,28.2969,235,28.2969,235,739,16,739,16,6\" style=\"stroke: #000000; stroke-width: 1.5;\"/><line style=\"stroke: #000000; stroke-width: 1.5;\" x1=\"16\" x2=\"87\" y1=\"28.2969\" y2=\"28.2969\"/><text fill=\"#000000\" font-family=\"sans-serif\" font-size=\"14\" font-weight=\"bold\" lengthAdjust=\"spacingAndGlyphs\" textLength=\"58\" x=\"20\" y=\"20.9951\">PartTest</text></a><!--MD5=[b4997ac47864f28c2f74865a473b2911]\n",
       "class E2--><a href=\"psysml:2c090466-3d5c-4444-ba17-090921dc2443\" target=\"_top\" title=\"psysml:2c090466-3d5c-4444-ba17-090921dc2443\" xlink:actuate=\"onRequest\" xlink:href=\"psysml:2c090466-3d5c-4444-ba17-090921dc2443\" xlink:show=\"new\" xlink:title=\"psysml:2c090466-3d5c-4444-ba17-090921dc2443\" xlink:type=\"simple\"><rect fill=\"#FFFFFF\" height=\"45.9375\" id=\"E2\" rx=\"10\" ry=\"10\" style=\"stroke: #383838; stroke-width: 1.5;\" width=\"42\" x=\"177\" y=\"56\"/><text fill=\"#000000\" font-family=\"sans-serif\" font-size=\"12\" font-style=\"italic\" lengthAdjust=\"spacingAndGlyphs\" textLength=\"40\" x=\"178\" y=\"72.1387\">«part»</text><text fill=\"#000000\" font-family=\"sans-serif\" font-size=\"12\" lengthAdjust=\"spacingAndGlyphs\" textLength=\"20\" x=\"186\" y=\"86.1074\">f: A</text><line style=\"stroke: #383838; stroke-width: 1.5;\" x1=\"178\" x2=\"218\" y1=\"93.9375\" y2=\"93.9375\"/></a><!--MD5=[09b614a08d8cba4a07c9adeb5e0fee81]\n",
       "class E3--><a href=\"psysml:d1b7cfcb-f6eb-4e6c-b82e-69976e6757f6\" target=\"_top\" title=\"psysml:d1b7cfcb-f6eb-4e6c-b82e-69976e6757f6\" xlink:actuate=\"onRequest\" xlink:href=\"psysml:d1b7cfcb-f6eb-4e6c-b82e-69976e6757f6\" xlink:show=\"new\" xlink:title=\"psysml:d1b7cfcb-f6eb-4e6c-b82e-69976e6757f6\" xlink:type=\"simple\"><rect fill=\"#FFFFFF\" height=\"136.7656\" id=\"E3\" style=\"stroke: #383838; stroke-width: 1.5;\" width=\"70\" x=\"136\" y=\"194\"/><text fill=\"#000000\" font-family=\"sans-serif\" font-size=\"12\" font-style=\"italic\" lengthAdjust=\"spacingAndGlyphs\" textLength=\"68\" x=\"137\" y=\"210.1387\">«part  def»</text><text fill=\"#000000\" font-family=\"sans-serif\" font-size=\"12\" lengthAdjust=\"spacingAndGlyphs\" textLength=\"8\" x=\"167\" y=\"224.1074\">A</text><line style=\"stroke: #383838; stroke-width: 1.5;\" x1=\"137\" x2=\"205\" y1=\"231.9375\" y2=\"231.9375\"/><text fill=\"#000000\" font-family=\"sans-serif\" font-size=\"11\" lengthAdjust=\"spacingAndGlyphs\" textLength=\"6\" x=\"142\" y=\"262.9526\">x</text><text fill=\"#000000\" font-family=\"sans-serif\" font-size=\"11\" lengthAdjust=\"spacingAndGlyphs\" textLength=\"44\" x=\"142\" y=\"275.7573\">y:&gt; A::x</text><line style=\"stroke: #383838; stroke-width: 1.0;\" x1=\"137\" x2=\"143.5\" y1=\"246.3398\" y2=\"246.3398\"/><text fill=\"#000000\" font-family=\"sans-serif\" font-size=\"11\" lengthAdjust=\"spacingAndGlyphs\" textLength=\"55\" x=\"143.5\" y=\"249.6479\">attributes</text><line style=\"stroke: #383838; stroke-width: 1.0;\" x1=\"198.5\" x2=\"205\" y1=\"246.3398\" y2=\"246.3398\"/><text fill=\"#000000\" font-family=\"sans-serif\" font-size=\"11\" lengthAdjust=\"spacingAndGlyphs\" textLength=\"22\" x=\"142\" y=\"305.3667\">c: C</text><line style=\"stroke: #383838; stroke-width: 1.0;\" x1=\"137\" x2=\"156\" y1=\"288.7539\" y2=\"288.7539\"/><text fill=\"#000000\" font-family=\"sans-serif\" font-size=\"11\" lengthAdjust=\"spacingAndGlyphs\" textLength=\"30\" x=\"156\" y=\"292.062\">ports</text><line style=\"stroke: #383838; stroke-width: 1.0;\" x1=\"186\" x2=\"205\" y1=\"288.7539\" y2=\"288.7539\"/><text fill=\"#000000\" font-family=\"sans-serif\" font-size=\"11\" lengthAdjust=\"spacingAndGlyphs\" textLength=\"0\" x=\"158\" y=\"324.1714\"/><rect fill=\"#FFFFFF\" height=\"2\" style=\"stroke: #000000; stroke-width: 1.0;\" width=\"2\" x=\"151\" y=\"319.3633\"/><line style=\"stroke: #000000; stroke-width: 1.0;\" x1=\"144\" x2=\"152\" y1=\"320.3633\" y2=\"320.3633\"/><line style=\"stroke: #000000; stroke-width: 1.0;\" x1=\"144\" x2=\"144\" y1=\"313.9609\" y2=\"320.3633\"/></a><!--MD5=[ebbe1d658d1005bcc118a6aa81145e00]\n",
       "class E4--><a href=\"psysml:1aa2f075-dfbc-4c28-975e-f9b78ce76d6b\" target=\"_top\" title=\"psysml:1aa2f075-dfbc-4c28-975e-f9b78ce76d6b\" xlink:actuate=\"onRequest\" xlink:href=\"psysml:1aa2f075-dfbc-4c28-975e-f9b78ce76d6b\" xlink:show=\"new\" xlink:title=\"psysml:1aa2f075-dfbc-4c28-975e-f9b78ce76d6b\" xlink:type=\"simple\"><rect fill=\"#FFFFFF\" height=\"45.9375\" id=\"E4\" rx=\"10\" ry=\"10\" style=\"stroke: #383838; stroke-width: 1.5;\" width=\"42\" x=\"122\" y=\"408\"/><text fill=\"#000000\" font-family=\"sans-serif\" font-size=\"12\" font-style=\"italic\" lengthAdjust=\"spacingAndGlyphs\" textLength=\"40\" x=\"123\" y=\"424.1387\">«part»</text><text fill=\"#000000\" font-family=\"sans-serif\" font-size=\"12\" lengthAdjust=\"spacingAndGlyphs\" textLength=\"24\" x=\"129\" y=\"438.1074\">b: B</text><line style=\"stroke: #383838; stroke-width: 1.5;\" x1=\"123\" x2=\"163\" y1=\"445.9375\" y2=\"445.9375\"/></a><!--MD5=[270fce915f116d4de14055a7c1d9a0f3]\n",
       "class E5--><a href=\"psysml:286e6ef4-92d4-4c1b-a17d-09881da7698b\" target=\"_top\" title=\"psysml:286e6ef4-92d4-4c1b-a17d-09881da7698b\" xlink:actuate=\"onRequest\" xlink:href=\"psysml:286e6ef4-92d4-4c1b-a17d-09881da7698b\" xlink:show=\"new\" xlink:title=\"psysml:286e6ef4-92d4-4c1b-a17d-09881da7698b\" xlink:type=\"simple\"><rect fill=\"#FFFFFF\" height=\"94.3516\" id=\"E5\" style=\"stroke: #383838; stroke-width: 1.5;\" width=\"70\" x=\"93\" y=\"515\"/><text fill=\"#000000\" font-family=\"sans-serif\" font-size=\"12\" font-style=\"italic\" lengthAdjust=\"spacingAndGlyphs\" textLength=\"68\" x=\"94\" y=\"531.1387\">«part  def»</text><text fill=\"#000000\" font-family=\"sans-serif\" font-size=\"12\" font-style=\"italic\" lengthAdjust=\"spacingAndGlyphs\" textLength=\"8\" x=\"124\" y=\"545.1074\">B</text><line style=\"stroke: #383838; stroke-width: 1.5;\" x1=\"94\" x2=\"162\" y1=\"552.9375\" y2=\"552.9375\"/><text fill=\"#000000\" font-family=\"sans-serif\" font-size=\"11\" lengthAdjust=\"spacingAndGlyphs\" textLength=\"31\" x=\"99\" y=\"583.9526\">x: ~C</text><line style=\"stroke: #383838; stroke-width: 1.0;\" x1=\"94\" x2=\"113\" y1=\"567.3398\" y2=\"567.3398\"/><text fill=\"#000000\" font-family=\"sans-serif\" font-size=\"11\" lengthAdjust=\"spacingAndGlyphs\" textLength=\"30\" x=\"113\" y=\"570.6479\">ports</text><line style=\"stroke: #383838; stroke-width: 1.0;\" x1=\"143\" x2=\"162\" y1=\"567.3398\" y2=\"567.3398\"/><text fill=\"#000000\" font-family=\"sans-serif\" font-size=\"11\" lengthAdjust=\"spacingAndGlyphs\" textLength=\"0\" x=\"115\" y=\"602.7573\"/><rect fill=\"#FFFFFF\" height=\"2\" style=\"stroke: #000000; stroke-width: 1.0;\" width=\"2\" x=\"108\" y=\"597.9492\"/><line style=\"stroke: #000000; stroke-width: 1.0;\" x1=\"101\" x2=\"109\" y1=\"598.9492\" y2=\"598.9492\"/><line style=\"stroke: #000000; stroke-width: 1.0;\" x1=\"101\" x2=\"101\" y1=\"592.5469\" y2=\"598.9492\"/></a><!--MD5=[60a26617385b1d2d0262a64233df1f8d]\n",
       "class E6--><a href=\"psysml:215e87e2-ee75-46c7-98ea-4ce8794cdbad\" target=\"_top\" title=\"psysml:215e87e2-ee75-46c7-98ea-4ce8794cdbad\" xlink:actuate=\"onRequest\" xlink:href=\"psysml:215e87e2-ee75-46c7-98ea-4ce8794cdbad\" xlink:show=\"new\" xlink:title=\"psysml:215e87e2-ee75-46c7-98ea-4ce8794cdbad\" xlink:type=\"simple\"><rect fill=\"#FFFFFF\" height=\"45.9375\" id=\"E6\" rx=\"10\" ry=\"10\" style=\"stroke: #383838; stroke-width: 1.5;\" width=\"42\" x=\"177\" y=\"673.5\"/><text fill=\"#000000\" font-family=\"sans-serif\" font-size=\"12\" font-style=\"italic\" lengthAdjust=\"spacingAndGlyphs\" textLength=\"40\" x=\"178\" y=\"689.6387\">«part»</text><text fill=\"#000000\" font-family=\"sans-serif\" font-size=\"12\" font-style=\"italic\" lengthAdjust=\"spacingAndGlyphs\" textLength=\"8\" x=\"184\" y=\"703.6074\">a</text><text fill=\"#000000\" font-family=\"sans-serif\" font-size=\"12\" lengthAdjust=\"spacingAndGlyphs\" textLength=\"16\" x=\"192\" y=\"703.6074\">: A</text><line style=\"stroke: #383838; stroke-width: 1.5;\" x1=\"178\" x2=\"218\" y1=\"711.4375\" y2=\"711.4375\"/></a><!--MD5=[b9389687b975829384b498ac4b7476b2]\n",
       "class E8--><a href=\"psysml:3d6805d2-0d33-47df-af88-6771a9177656\" target=\"_top\" title=\"psysml:3d6805d2-0d33-47df-af88-6771a9177656\" xlink:actuate=\"onRequest\" xlink:href=\"psysml:3d6805d2-0d33-47df-af88-6771a9177656\" xlink:show=\"new\" xlink:title=\"psysml:3d6805d2-0d33-47df-af88-6771a9177656\" xlink:type=\"simple\"><rect fill=\"#FFFFFF\" height=\"75.5469\" id=\"E8\" style=\"stroke: #383838; stroke-width: 1.5;\" width=\"110\" x=\"32\" y=\"41\"/><text fill=\"#000000\" font-family=\"sans-serif\" font-size=\"12\" font-style=\"italic\" lengthAdjust=\"spacingAndGlyphs\" textLength=\"68\" x=\"53\" y=\"57.1387\">«port  def»</text><text fill=\"#000000\" font-family=\"sans-serif\" font-size=\"12\" lengthAdjust=\"spacingAndGlyphs\" textLength=\"8\" x=\"83\" y=\"71.1074\">C</text><line style=\"stroke: #383838; stroke-width: 1.5;\" x1=\"33\" x2=\"141\" y1=\"78.9375\" y2=\"78.9375\"/><text fill=\"#000000\" font-family=\"sans-serif\" font-size=\"11\" font-weight=\"bold\" lengthAdjust=\"spacingAndGlyphs\" textLength=\"10\" x=\"38\" y=\"109.9526\">in</text><text fill=\"#000000\" font-family=\"sans-serif\" font-size=\"11\" lengthAdjust=\"spacingAndGlyphs\" textLength=\"37\" x=\"52\" y=\"109.9526\">y: A, B</text><text fill=\"#000000\" font-family=\"sans-serif\" font-size=\"11\" font-weight=\"bold\" lengthAdjust=\"spacingAndGlyphs\" textLength=\"27\" x=\"93\" y=\"109.9526\">alias</text><text fill=\"#000000\" font-family=\"sans-serif\" font-size=\"11\" lengthAdjust=\"spacingAndGlyphs\" textLength=\"12\" x=\"124\" y=\"109.9526\">z2</text><line style=\"stroke: #383838; stroke-width: 1.0;\" x1=\"33\" x2=\"53.5\" y1=\"93.3398\" y2=\"93.3398\"/><text fill=\"#000000\" font-family=\"sans-serif\" font-size=\"11\" lengthAdjust=\"spacingAndGlyphs\" textLength=\"67\" x=\"53.5\" y=\"96.6479\">parameters</text><line style=\"stroke: #383838; stroke-width: 1.0;\" x1=\"120.5\" x2=\"141\" y1=\"93.3398\" y2=\"93.3398\"/></a><a href=\"psysml:e555f4d2-547d-4756-8b33-5fda3be7b359\" target=\"_top\" title=\"psysml:e555f4d2-547d-4756-8b33-5fda3be7b359\" xlink:actuate=\"onRequest\" xlink:href=\"psysml:e555f4d2-547d-4756-8b33-5fda3be7b359\" xlink:show=\"new\" xlink:title=\"psysml:e555f4d2-547d-4756-8b33-5fda3be7b359\" xlink:type=\"simple\"><polygon fill=\"#FFFFFF\" points=\"112.5,670,127.5,670,134.5,692.2969,141.5,692.2969,141.5,722.5938,112.5,722.5938,112.5,670\" style=\"stroke: #000000; stroke-width: 1.5;\"/><line style=\"stroke: #000000; stroke-width: 1.5;\" x1=\"112.5\" x2=\"134.5\" y1=\"692.2969\" y2=\"692.2969\"/><text fill=\"#000000\" font-family=\"sans-serif\" font-size=\"14\" font-weight=\"bold\" lengthAdjust=\"spacingAndGlyphs\" textLength=\"9\" x=\"116.5\" y=\"684.9951\">P</text></a><!--MD5=[2720a5a1f2c3fca2055b230370638851]\n",
       "link E2 to E3--><a href=\"psysml:02703352-f69e-4a4b-893d-89c09588fdfd\" target=\"_top\" title=\"psysml:02703352-f69e-4a4b-893d-89c09588fdfd\" xlink:actuate=\"onRequest\" xlink:href=\"psysml:02703352-f69e-4a4b-893d-89c09588fdfd\" xlink:show=\"new\" xlink:title=\"psysml:02703352-f69e-4a4b-893d-89c09588fdfd\" xlink:type=\"simple\"><path d=\"M194.69,102.26 C192,120.36 188.01,147.16 184.07,173.63 \" fill=\"none\" id=\"E2-&gt;E3\" style=\"stroke: #383838; stroke-width: 1.0;\"/><polygon fill=\"#FFFFFF\" points=\"181.09,193.66,176.9614,173.8369,190.8091,175.8966,181.09,193.66\" style=\"stroke: #383838; stroke-width: 1.0;\"/><ellipse cx=\"179.7782\" cy=\"168.4932\" fill=\"#383838\" rx=\"2\" ry=\"2\" style=\"stroke: #383838; stroke-width: 1.0;\"/><ellipse cx=\"189.6694\" cy=\"169.9644\" fill=\"#383838\" rx=\"2\" ry=\"2\" style=\"stroke: #383838; stroke-width: 1.0;\"/></a><!--MD5=[4672eba38e49728da53d11aeb285b987]\n",
       "reverse link E3 to E4--><a href=\"psysml:e82a868e-a957-4308-9aca-5f2e1a046a10\" target=\"_top\" title=\"psysml:e82a868e-a957-4308-9aca-5f2e1a046a10\" xlink:actuate=\"onRequest\" xlink:href=\"psysml:e82a868e-a957-4308-9aca-5f2e1a046a10\" xlink:show=\"new\" xlink:title=\"psysml:e82a868e-a957-4308-9aca-5f2e1a046a10\" xlink:type=\"simple\"><path d=\"M157.43,344.17 C153.49,367.62 149.5,391.35 146.72,407.89 \" fill=\"none\" id=\"E3&lt;-E4\" style=\"stroke: #383838; stroke-width: 1.0;\"/><polygon fill=\"#383838\" points=\"159.61,331.22,154.6695,336.4727,157.618,343.0535,162.5585,337.8008,159.61,331.22\" style=\"stroke: #383838; stroke-width: 1.0;\"/><text fill=\"#000000\" font-family=\"sans-serif\" font-size=\"13\" lengthAdjust=\"spacingAndGlyphs\" textLength=\"8\" x=\"138.6448\" y=\"396.7567\">1</text></a><!--MD5=[1b7591eae5389033d8d09a9d6721a717]\n",
       "link E4 to E5--><a href=\"psysml:6f8c5931-99ab-4f3d-9640-f9d86b709835\" target=\"_top\" title=\"psysml:6f8c5931-99ab-4f3d-9640-f9d86b709835\" xlink:actuate=\"onRequest\" xlink:href=\"psysml:6f8c5931-99ab-4f3d-9640-f9d86b709835\" xlink:show=\"new\" xlink:title=\"psysml:6f8c5931-99ab-4f3d-9640-f9d86b709835\" xlink:type=\"simple\"><path d=\"M140.42,454.18 C139.1,465.55 137.41,480.07 135.71,494.71 \" fill=\"none\" id=\"E4-&gt;E5\" style=\"stroke: #383838; stroke-width: 1.0;\"/><polygon fill=\"#FFFFFF\" points=\"133.37,514.83,128.6166,495.1474,142.5224,496.7681,133.37,514.83\" style=\"stroke: #383838; stroke-width: 1.0;\"/><ellipse cx=\"131.263\" cy=\"489.7172\" fill=\"#383838\" rx=\"2\" ry=\"2\" style=\"stroke: #383838; stroke-width: 1.0;\"/><ellipse cx=\"141.1957\" cy=\"490.8749\" fill=\"#383838\" rx=\"2\" ry=\"2\" style=\"stroke: #383838; stroke-width: 1.0;\"/></a><!--MD5=[85d356282659285ab4b2cfe2f634dd2b]\n",
       "reverse link E5 to E6--><a href=\"psysml:ef71999d-b74e-4e5c-b2f7-aebb94a9d32a\" target=\"_top\" title=\"psysml:ef71999d-b74e-4e5c-b2f7-aebb94a9d32a\" xlink:actuate=\"onRequest\" xlink:href=\"psysml:ef71999d-b74e-4e5c-b2f7-aebb94a9d32a\" xlink:show=\"new\" xlink:title=\"psysml:ef71999d-b74e-4e5c-b2f7-aebb94a9d32a\" xlink:type=\"simple\"><path d=\"M158.63,620.99 C168.4,639.46 178.62,658.81 186.2,673.16 \" fill=\"none\" id=\"E5&lt;-E6\" style=\"stroke: #383838; stroke-width: 1.0;\"/><polygon fill=\"#383838\" points=\"152.48,609.34,151.744,616.5134,158.0825,619.9519,158.8186,612.7784,152.48,609.34\" style=\"stroke: #383838; stroke-width: 1.0;\"/><text fill=\"#000000\" font-family=\"sans-serif\" font-size=\"13\" lengthAdjust=\"spacingAndGlyphs\" textLength=\"8\" x=\"174.1512\" y=\"662.3492\">1</text></a><!--MD5=[a717450b82c80b9240a525fa862496af]\n",
       "link E6 to E3--><a href=\"psysml:d4047a87-2764-4bb9-9711-6fad77bbdb97\" target=\"_top\" title=\"psysml:d4047a87-2764-4bb9-9711-6fad77bbdb97\" xlink:actuate=\"onRequest\" xlink:href=\"psysml:d4047a87-2764-4bb9-9711-6fad77bbdb97\" xlink:show=\"new\" xlink:title=\"psysml:d4047a87-2764-4bb9-9711-6fad77bbdb97\" xlink:type=\"simple\"><path d=\"M196.93,673.49 C194.55,625.33 188.52,507.02 182,408 C180.79,389.66 179.38,370.02 177.97,351.32 \" fill=\"none\" id=\"E6-&gt;E3\" style=\"stroke: #383838; stroke-width: 1.0;\"/><polygon fill=\"#FFFFFF\" points=\"176.43,331.11,184.8616,349.5195,170.9025,350.5894,176.43,331.11\" style=\"stroke: #383838; stroke-width: 1.0;\"/><ellipse cx=\"183.303\" cy=\"355.3556\" fill=\"#383838\" rx=\"2\" ry=\"2\" style=\"stroke: #383838; stroke-width: 1.0;\"/><ellipse cx=\"173.3323\" cy=\"356.1199\" fill=\"#383838\" rx=\"2\" ry=\"2\" style=\"stroke: #383838; stroke-width: 1.0;\"/></a><!--MD5=[452b418e7f8a40397a49b8c0a78acc5b]\n",
       "reverse link E5 to E7--><a href=\"psysml:ab2aae6d-159f-4d7a-a99e-78671a533366\" target=\"_top\" title=\"psysml:ab2aae6d-159f-4d7a-a99e-78671a533366\" xlink:actuate=\"onRequest\" xlink:href=\"psysml:ab2aae6d-159f-4d7a-a99e-78671a533366\" xlink:show=\"new\" xlink:title=\"psysml:ab2aae6d-159f-4d7a-a99e-78671a533366\" xlink:type=\"simple\"><path d=\"M127.54,624.45 C127.42,640.46 127.29,656.84 127.19,669.83 \" fill=\"none\" id=\"E5&lt;-E7\" style=\"stroke: #383838; stroke-width: 1.0;\"/><ellipse cx=\"127.589\" cy=\"617.3398\" fill=\"#FFFFFF\" rx=\"8\" ry=\"8\" style=\"stroke: #383838; stroke-width: 1.0;\"/><line style=\"stroke: #383838; stroke-width: 1.0;\" x1=\"127.5281\" x2=\"127.65\" y1=\"625.3395\" y2=\"609.34\"/><line style=\"stroke: #383838; stroke-width: 1.0;\" x1=\"119.5893\" x2=\"135.5888\" y1=\"617.2788\" y2=\"617.4007\"/></a><!--MD5=[03c8294790d3c57651a1993cecff665f]\n",
       "reverse link E8 to E3--><a href=\"psysml:75696b56-911c-4e7f-a413-6399c7af4d3a\" target=\"_top\" title=\"psysml:75696b56-911c-4e7f-a413-6399c7af4d3a\" xlink:actuate=\"onRequest\" xlink:href=\"psysml:75696b56-911c-4e7f-a413-6399c7af4d3a\" xlink:show=\"new\" xlink:title=\"psysml:75696b56-911c-4e7f-a413-6399c7af4d3a\" xlink:type=\"simple\"><path d=\"M109.72,129.1 C118.95,149.04 129.77,172.41 139.72,193.92 \" fill=\"none\" id=\"E8&lt;-E3\" style=\"stroke: #383838; stroke-width: 1.0;\"/><polygon fill=\"#FFFFFF\" points=\"104.2,117.17,103.0951,124.2959,109.2479,128.0566,110.3528,120.9307,104.2,117.17\" style=\"stroke: #383838; stroke-width: 1.0;\"/><text fill=\"#000000\" font-family=\"sans-serif\" font-size=\"13\" lengthAdjust=\"spacingAndGlyphs\" textLength=\"7\" x=\"124\" y=\"160.0669\">y</text></a><!--MD5=[049ab558815ccadc2a7a6ffdb8f4a5ba]\n",
       "reverse link E8 to E5--><a href=\"psysml:75696b56-911c-4e7f-a413-6399c7af4d3a\" target=\"_top\" title=\"psysml:75696b56-911c-4e7f-a413-6399c7af4d3a\" xlink:actuate=\"onRequest\" xlink:href=\"psysml:75696b56-911c-4e7f-a413-6399c7af4d3a\" xlink:show=\"new\" xlink:title=\"psysml:75696b56-911c-4e7f-a413-6399c7af4d3a\" xlink:type=\"simple\"><path d=\"M86.82,130.16 C87.14,202.15 89.95,338.79 105,454 C107.63,474.16 112.08,496.16 116.37,514.94 \" fill=\"none\" id=\"E8&lt;-E5\" style=\"stroke: #383838; stroke-width: 1.0;\"/><polygon fill=\"#FFFFFF\" points=\"86.78,117.07,82.7932,123.0788,86.8064,129.07,90.7932,123.0612,86.78,117.07\" style=\"stroke: #383838; stroke-width: 1.0;\"/><text fill=\"#000000\" font-family=\"sans-serif\" font-size=\"13\" lengthAdjust=\"spacingAndGlyphs\" textLength=\"7\" x=\"97\" y=\"374.0669\">y</text></a><!--MD5=[74fa30ac3193f4dfa5cb8dfe853fd100]\n",
       "@startuml\r\n",
       " skinparam monochrome true\r\n",
       "skinparam classbackgroundcolor white\r\n",
       "skinparam shadowing false\r\n",
       "skinparam wrapWidth 300\r\n",
       "hide circle\r\n",
       "\r\n",
       "package \"PartTest\" as E1  [[psysml:538b1265-15ae-4afd-8dd2-ef0f57b41a53 ]]  {\r\n",
       "comp usage \"f: A \" as E2  <<(T,blue) part>> [[psysml:2c090466-3d5c-4444-ba17-090921dc2443 ]] {\r\n",
       "}\r\n",
       "comp def \"A\" as E3  <<(T,blue) part  def>> [[psysml:d1b7cfcb-f6eb-4e6c-b82e-69976e6757f6 ]] {\r\n",
       "- - attributes - -\r\n",
       "x\r\n",
       "y:> A::x\r\n",
       "- - ports - -\r\n",
       "c: C\r\n",
       "|_ \r\n",
       "}\r\n",
       "comp usage \"b: B \" as E4  <<(T,blue) part>> [[psysml:1aa2f075-dfbc-4c28-975e-f9b78ce76d6b ]] {\r\n",
       "}\r\n",
       "comp def \"<i>B</i>\" as E5  <<(T,blue) part  def>> [[psysml:286e6ef4-92d4-4c1b-a17d-09881da7698b ]] {\r\n",
       "- - ports - -\r\n",
       "x: ~C\r\n",
       "|_ \r\n",
       "}\r\n",
       "comp usage \"<i>a</i>: A \" as E6  <<(T,blue) part>> [[psysml:215e87e2-ee75-46c7-98ea-4ce8794cdbad ]] {\r\n",
       "}\r\n",
       "package \"P\" as E7  [[psysml:e555f4d2-547d-4756-8b33-5fda3be7b359 ]]  {\r\n",
       "}\r\n",
       "comp def \"C\" as E8  <<(T,blue) port  def>> [[psysml:3d6805d2-0d33-47df-af88-6771a9177656 ]] {\r\n",
       "- - parameters - -\r\n",
       "<b>in</b> y: A, B <b>alias</b> z2 \r\n",
       "}\r\n",
       "}\r\n",
       "E2 - -:|> E3 [[psysml:02703352-f69e-4a4b-893d-89c09588fdfd ]] \r\n",
       "E3 *- - \"1\"E4 [[psysml:e82a868e-a957-4308-9aca-5f2e1a046a10 ]] \r\n",
       "E4 - -:|> E5 [[psysml:6f8c5931-99ab-4f3d-9640-f9d86b709835 ]] \r\n",
       "E5 *- - \"1\"E6 [[psysml:ef71999d-b74e-4e5c-b2f7-aebb94a9d32a ]] \r\n",
       "E6 - -:|> E3 [[psysml:d4047a87-2764-4bb9-9711-6fad77bbdb97 ]] \r\n",
       "E5 +- - E7 [[psysml:ab2aae6d-159f-4d7a-a99e-78671a533366 ]] \r\n",
       "E8 o- - E3 [[psysml:75696b56-911c-4e7f-a413-6399c7af4d3a ]] : y\r\n",
       "E8 o- - E5 [[psysml:75696b56-911c-4e7f-a413-6399c7af4d3a ]] : y\r\n",
       "@enduml\r\n",
       "\n",
       "PlantUML version 1.2020.13(Sat Jun 13 12:26:38 UTC 2020)\n",
       "(EPL source distribution)\n",
       "Java Runtime: OpenJDK Runtime Environment\n",
       "JVM: OpenJDK 64-Bit Server VM\n",
       "Default Encoding: UTF-8\n",
       "Language: en\n",
       "Country: null\n",
       "--></g></svg>"
      ]
     },
     "execution_count": 8,
     "metadata": {},
     "output_type": "execute_result"
    }
   ],
   "source": [
    "%viz --style=\"COMPTREE\" --view=\"MIXED\" \"PartTest\""
   ]
  },
  {
   "cell_type": "code",
   "execution_count": 9,
   "id": "ff50f9ca",
   "metadata": {
    "execution": {
     "iopub.execute_input": "2022-05-19T08:45:11.490669Z",
     "iopub.status.busy": "2022-05-19T08:45:11.490174Z",
     "iopub.status.idle": "2022-05-19T08:45:11.552772Z",
     "shell.execute_reply": "2022-05-19T08:45:11.551001Z"
    }
   },
   "outputs": [
    {
     "data": {
      "image/svg+xml": [
       "<?xml version=\"1.0\" encoding=\"UTF-8\" standalone=\"no\"?><svg xmlns=\"http://www.w3.org/2000/svg\" xmlns:xlink=\"http://www.w3.org/1999/xlink\" contentScriptType=\"application/ecmascript\" contentStyleType=\"text/css\" height=\"790px\" preserveAspectRatio=\"none\" style=\"width:265px;height:790px;\" version=\"1.1\" viewBox=\"0 0 265 790\" width=\"265px\" zoomAndPan=\"magnify\"><defs/><g><!--MD5=[fbc87193dbaf4d95561dea2c320d4a47]\n",
       "cluster E1--><a href=\"psysml:538b1265-15ae-4afd-8dd2-ef0f57b41a53\" target=\"_top\" title=\"psysml:538b1265-15ae-4afd-8dd2-ef0f57b41a53\" xlink:actuate=\"onRequest\" xlink:href=\"psysml:538b1265-15ae-4afd-8dd2-ef0f57b41a53\" xlink:show=\"new\" xlink:title=\"psysml:538b1265-15ae-4afd-8dd2-ef0f57b41a53\" xlink:type=\"simple\"><polygon fill=\"#FFFFFF\" points=\"16,6,80,6,87,28.2969,243,28.2969,243,778,16,778,16,6\" style=\"stroke: #000000; stroke-width: 1.5;\"/><line style=\"stroke: #000000; stroke-width: 1.5;\" x1=\"16\" x2=\"87\" y1=\"28.2969\" y2=\"28.2969\"/><text fill=\"#000000\" font-family=\"sans-serif\" font-size=\"14\" font-weight=\"bold\" lengthAdjust=\"spacingAndGlyphs\" textLength=\"58\" x=\"20\" y=\"20.9951\">PartTest</text></a><!--MD5=[b4997ac47864f28c2f74865a473b2911]\n",
       "class E2--><a href=\"psysml:2c090466-3d5c-4444-ba17-090921dc2443\" target=\"_top\" title=\"psysml:2c090466-3d5c-4444-ba17-090921dc2443\" xlink:actuate=\"onRequest\" xlink:href=\"psysml:2c090466-3d5c-4444-ba17-090921dc2443\" xlink:show=\"new\" xlink:title=\"psysml:2c090466-3d5c-4444-ba17-090921dc2443\" xlink:type=\"simple\"><rect fill=\"#FFFFFF\" height=\"45.9375\" id=\"E2\" rx=\"10\" ry=\"10\" style=\"stroke: #383838; stroke-width: 1.5;\" width=\"42\" x=\"101\" y=\"41\"/><text fill=\"#000000\" font-family=\"sans-serif\" font-size=\"12\" font-style=\"italic\" lengthAdjust=\"spacingAndGlyphs\" textLength=\"40\" x=\"102\" y=\"57.1387\">«part»</text><text fill=\"#000000\" font-family=\"sans-serif\" font-size=\"12\" lengthAdjust=\"spacingAndGlyphs\" textLength=\"20\" x=\"110\" y=\"71.1074\">f: A</text><line style=\"stroke: #383838; stroke-width: 1.5;\" x1=\"102\" x2=\"142\" y1=\"78.9375\" y2=\"78.9375\"/></a><!--MD5=[09b614a08d8cba4a07c9adeb5e0fee81]\n",
       "class E3--><a href=\"psysml:d1b7cfcb-f6eb-4e6c-b82e-69976e6757f6\" target=\"_top\" title=\"psysml:d1b7cfcb-f6eb-4e6c-b82e-69976e6757f6\" xlink:actuate=\"onRequest\" xlink:href=\"psysml:d1b7cfcb-f6eb-4e6c-b82e-69976e6757f6\" xlink:show=\"new\" xlink:title=\"psysml:d1b7cfcb-f6eb-4e6c-b82e-69976e6757f6\" xlink:type=\"simple\"><rect fill=\"#FFFFFF\" height=\"88.3516\" id=\"E3\" style=\"stroke: #383838; stroke-width: 1.5;\" width=\"70\" x=\"87\" y=\"148\"/><text fill=\"#000000\" font-family=\"sans-serif\" font-size=\"12\" font-style=\"italic\" lengthAdjust=\"spacingAndGlyphs\" textLength=\"68\" x=\"88\" y=\"164.1387\">«part  def»</text><text fill=\"#000000\" font-family=\"sans-serif\" font-size=\"12\" lengthAdjust=\"spacingAndGlyphs\" textLength=\"8\" x=\"118\" y=\"178.1074\">A</text><line style=\"stroke: #383838; stroke-width: 1.5;\" x1=\"88\" x2=\"156\" y1=\"185.9375\" y2=\"185.9375\"/><text fill=\"#000000\" font-family=\"sans-serif\" font-size=\"11\" lengthAdjust=\"spacingAndGlyphs\" textLength=\"6\" x=\"93\" y=\"216.9526\">x</text><text fill=\"#000000\" font-family=\"sans-serif\" font-size=\"11\" lengthAdjust=\"spacingAndGlyphs\" textLength=\"44\" x=\"93\" y=\"229.7573\">y:&gt; A::x</text><line style=\"stroke: #383838; stroke-width: 1.0;\" x1=\"88\" x2=\"94.5\" y1=\"200.3398\" y2=\"200.3398\"/><text fill=\"#000000\" font-family=\"sans-serif\" font-size=\"11\" lengthAdjust=\"spacingAndGlyphs\" textLength=\"55\" x=\"94.5\" y=\"203.6479\">attributes</text><line style=\"stroke: #383838; stroke-width: 1.0;\" x1=\"149.5\" x2=\"156\" y1=\"200.3398\" y2=\"200.3398\"/></a><!--MD5=[ebbe1d658d1005bcc118a6aa81145e00]\n",
       "class E4--><a href=\"psysml:1aa2f075-dfbc-4c28-975e-f9b78ce76d6b\" target=\"_top\" title=\"psysml:1aa2f075-dfbc-4c28-975e-f9b78ce76d6b\" xlink:actuate=\"onRequest\" xlink:href=\"psysml:1aa2f075-dfbc-4c28-975e-f9b78ce76d6b\" xlink:show=\"new\" xlink:title=\"psysml:1aa2f075-dfbc-4c28-975e-f9b78ce76d6b\" xlink:type=\"simple\"><rect fill=\"#FFFFFF\" height=\"45.9375\" id=\"E4\" rx=\"10\" ry=\"10\" style=\"stroke: #383838; stroke-width: 1.5;\" width=\"42\" x=\"32\" y=\"373\"/><text fill=\"#000000\" font-family=\"sans-serif\" font-size=\"12\" font-style=\"italic\" lengthAdjust=\"spacingAndGlyphs\" textLength=\"40\" x=\"33\" y=\"389.1387\">«part»</text><text fill=\"#000000\" font-family=\"sans-serif\" font-size=\"12\" lengthAdjust=\"spacingAndGlyphs\" textLength=\"24\" x=\"39\" y=\"403.1074\">b: B</text><line style=\"stroke: #383838; stroke-width: 1.5;\" x1=\"33\" x2=\"73\" y1=\"410.9375\" y2=\"410.9375\"/></a><!--MD5=[270fce915f116d4de14055a7c1d9a0f3]\n",
       "class E5--><a href=\"psysml:6b6fc427-035b-4f92-af2f-ae5f46ec13e5\" target=\"_top\" title=\"psysml:6b6fc427-035b-4f92-af2f-ae5f46ec13e5\" xlink:actuate=\"onRequest\" xlink:href=\"psysml:6b6fc427-035b-4f92-af2f-ae5f46ec13e5\" xlink:show=\"new\" xlink:title=\"psysml:6b6fc427-035b-4f92-af2f-ae5f46ec13e5\" xlink:type=\"simple\"><rect fill=\"#FFFFFF\" height=\"45.9375\" id=\"E5\" rx=\"10\" ry=\"10\" style=\"stroke: #383838; stroke-width: 1.5;\" width=\"42\" x=\"148\" y=\"297\"/><text fill=\"#000000\" font-family=\"sans-serif\" font-size=\"12\" font-style=\"italic\" lengthAdjust=\"spacingAndGlyphs\" textLength=\"40\" x=\"149\" y=\"313.1387\">«port»</text><text fill=\"#000000\" font-family=\"sans-serif\" font-size=\"12\" lengthAdjust=\"spacingAndGlyphs\" textLength=\"23\" x=\"155.5\" y=\"327.1074\">c: C</text><line style=\"stroke: #383838; stroke-width: 1.5;\" x1=\"149\" x2=\"189\" y1=\"334.9375\" y2=\"334.9375\"/></a><!--MD5=[60a26617385b1d2d0262a64233df1f8d]\n",
       "class E6--><a href=\"psysml:286e6ef4-92d4-4c1b-a17d-09881da7698b\" target=\"_top\" title=\"psysml:286e6ef4-92d4-4c1b-a17d-09881da7698b\" xlink:actuate=\"onRequest\" xlink:href=\"psysml:286e6ef4-92d4-4c1b-a17d-09881da7698b\" xlink:show=\"new\" xlink:title=\"psysml:286e6ef4-92d4-4c1b-a17d-09881da7698b\" xlink:type=\"simple\"><rect fill=\"#FFFFFF\" height=\"45.9375\" id=\"E6\" style=\"stroke: #383838; stroke-width: 1.5;\" width=\"70\" x=\"100\" y=\"602\"/><text fill=\"#000000\" font-family=\"sans-serif\" font-size=\"12\" font-style=\"italic\" lengthAdjust=\"spacingAndGlyphs\" textLength=\"68\" x=\"101\" y=\"618.1387\">«part  def»</text><text fill=\"#000000\" font-family=\"sans-serif\" font-size=\"12\" font-style=\"italic\" lengthAdjust=\"spacingAndGlyphs\" textLength=\"8\" x=\"131\" y=\"632.1074\">B</text><line style=\"stroke: #383838; stroke-width: 1.5;\" x1=\"101\" x2=\"169\" y1=\"639.9375\" y2=\"639.9375\"/></a><!--MD5=[2156ba9850f5573cc1fc38a6a4b2f02b]\n",
       "class E7--><a href=\"psysml:215e87e2-ee75-46c7-98ea-4ce8794cdbad\" target=\"_top\" title=\"psysml:215e87e2-ee75-46c7-98ea-4ce8794cdbad\" xlink:actuate=\"onRequest\" xlink:href=\"psysml:215e87e2-ee75-46c7-98ea-4ce8794cdbad\" xlink:show=\"new\" xlink:title=\"psysml:215e87e2-ee75-46c7-98ea-4ce8794cdbad\" xlink:type=\"simple\"><rect fill=\"#FFFFFF\" height=\"45.9375\" id=\"E7\" rx=\"10\" ry=\"10\" style=\"stroke: #383838; stroke-width: 1.5;\" width=\"42\" x=\"185\" y=\"712.5\"/><text fill=\"#000000\" font-family=\"sans-serif\" font-size=\"12\" font-style=\"italic\" lengthAdjust=\"spacingAndGlyphs\" textLength=\"40\" x=\"186\" y=\"728.6387\">«part»</text><text fill=\"#000000\" font-family=\"sans-serif\" font-size=\"12\" font-style=\"italic\" lengthAdjust=\"spacingAndGlyphs\" textLength=\"8\" x=\"192\" y=\"742.6074\">a</text><text fill=\"#000000\" font-family=\"sans-serif\" font-size=\"12\" lengthAdjust=\"spacingAndGlyphs\" textLength=\"16\" x=\"200\" y=\"742.6074\">: A</text><line style=\"stroke: #383838; stroke-width: 1.5;\" x1=\"186\" x2=\"226\" y1=\"750.4375\" y2=\"750.4375\"/></a><!--MD5=[b9389687b975829384b498ac4b7476b2]\n",
       "class E8--><a href=\"psysml:27d37788-2b75-4a5c-b4fe-9553c2483e93\" target=\"_top\" title=\"psysml:27d37788-2b75-4a5c-b4fe-9553c2483e93\" xlink:actuate=\"onRequest\" xlink:href=\"psysml:27d37788-2b75-4a5c-b4fe-9553c2483e93\" xlink:show=\"new\" xlink:title=\"psysml:27d37788-2b75-4a5c-b4fe-9553c2483e93\" xlink:type=\"simple\"><rect fill=\"#FFFFFF\" height=\"45.9375\" id=\"E8\" rx=\"10\" ry=\"10\" style=\"stroke: #383838; stroke-width: 1.5;\" width=\"42\" x=\"43\" y=\"712.5\"/><text fill=\"#000000\" font-family=\"sans-serif\" font-size=\"12\" font-style=\"italic\" lengthAdjust=\"spacingAndGlyphs\" textLength=\"40\" x=\"44\" y=\"728.6387\">«port»</text><text fill=\"#000000\" font-family=\"sans-serif\" font-size=\"12\" lengthAdjust=\"spacingAndGlyphs\" textLength=\"32\" x=\"46\" y=\"742.6074\">x: ~C</text><line style=\"stroke: #383838; stroke-width: 1.5;\" x1=\"44\" x2=\"84\" y1=\"750.4375\" y2=\"750.4375\"/></a><!--MD5=[96f4274e9e20536e775497830990834d]\n",
       "class E10--><a href=\"psysml:3d6805d2-0d33-47df-af88-6771a9177656\" target=\"_top\" title=\"psysml:3d6805d2-0d33-47df-af88-6771a9177656\" xlink:actuate=\"onRequest\" xlink:href=\"psysml:3d6805d2-0d33-47df-af88-6771a9177656\" xlink:show=\"new\" xlink:title=\"psysml:3d6805d2-0d33-47df-af88-6771a9177656\" xlink:type=\"simple\"><rect fill=\"#FFFFFF\" height=\"75.5469\" id=\"E10\" style=\"stroke: #383838; stroke-width: 1.5;\" width=\"110\" x=\"80\" y=\"449\"/><text fill=\"#000000\" font-family=\"sans-serif\" font-size=\"12\" font-style=\"italic\" lengthAdjust=\"spacingAndGlyphs\" textLength=\"68\" x=\"101\" y=\"465.1387\">«port  def»</text><text fill=\"#000000\" font-family=\"sans-serif\" font-size=\"12\" lengthAdjust=\"spacingAndGlyphs\" textLength=\"8\" x=\"131\" y=\"479.1074\">C</text><line style=\"stroke: #383838; stroke-width: 1.5;\" x1=\"81\" x2=\"189\" y1=\"486.9375\" y2=\"486.9375\"/><text fill=\"#000000\" font-family=\"sans-serif\" font-size=\"11\" font-weight=\"bold\" lengthAdjust=\"spacingAndGlyphs\" textLength=\"10\" x=\"86\" y=\"517.9526\">in</text><text fill=\"#000000\" font-family=\"sans-serif\" font-size=\"11\" lengthAdjust=\"spacingAndGlyphs\" textLength=\"37\" x=\"100\" y=\"517.9526\">y: A, B</text><text fill=\"#000000\" font-family=\"sans-serif\" font-size=\"11\" font-weight=\"bold\" lengthAdjust=\"spacingAndGlyphs\" textLength=\"27\" x=\"141\" y=\"517.9526\">alias</text><text fill=\"#000000\" font-family=\"sans-serif\" font-size=\"11\" lengthAdjust=\"spacingAndGlyphs\" textLength=\"12\" x=\"172\" y=\"517.9526\">z2</text><line style=\"stroke: #383838; stroke-width: 1.0;\" x1=\"81\" x2=\"101.5\" y1=\"501.3398\" y2=\"501.3398\"/><text fill=\"#000000\" font-family=\"sans-serif\" font-size=\"11\" lengthAdjust=\"spacingAndGlyphs\" textLength=\"67\" x=\"101.5\" y=\"504.6479\">parameters</text><line style=\"stroke: #383838; stroke-width: 1.0;\" x1=\"168.5\" x2=\"189\" y1=\"501.3398\" y2=\"501.3398\"/></a><a href=\"psysml:e555f4d2-547d-4756-8b33-5fda3be7b359\" target=\"_top\" title=\"psysml:e555f4d2-547d-4756-8b33-5fda3be7b359\" xlink:actuate=\"onRequest\" xlink:href=\"psysml:e555f4d2-547d-4756-8b33-5fda3be7b359\" xlink:show=\"new\" xlink:title=\"psysml:e555f4d2-547d-4756-8b33-5fda3be7b359\" xlink:type=\"simple\"><polygon fill=\"#FFFFFF\" points=\"120.5,709,135.5,709,142.5,731.2969,149.5,731.2969,149.5,761.5938,120.5,761.5938,120.5,709\" style=\"stroke: #000000; stroke-width: 1.5;\"/><line style=\"stroke: #000000; stroke-width: 1.5;\" x1=\"120.5\" x2=\"142.5\" y1=\"731.2969\" y2=\"731.2969\"/><text fill=\"#000000\" font-family=\"sans-serif\" font-size=\"14\" font-weight=\"bold\" lengthAdjust=\"spacingAndGlyphs\" textLength=\"9\" x=\"124.5\" y=\"723.9951\">P</text></a><!--MD5=[2720a5a1f2c3fca2055b230370638851]\n",
       "link E2 to E3--><a href=\"psysml:02703352-f69e-4a4b-893d-89c09588fdfd\" target=\"_top\" title=\"psysml:02703352-f69e-4a4b-893d-89c09588fdfd\" xlink:actuate=\"onRequest\" xlink:href=\"psysml:02703352-f69e-4a4b-893d-89c09588fdfd\" xlink:show=\"new\" xlink:title=\"psysml:02703352-f69e-4a4b-893d-89c09588fdfd\" xlink:type=\"simple\"><path d=\"M122,87.24 C122,98.62 122,113.11 122,127.62 \" fill=\"none\" id=\"E2-&gt;E3\" style=\"stroke: #383838; stroke-width: 1.0;\"/><polygon fill=\"#FFFFFF\" points=\"122,147.84,115,128.84,129,128.84,122,147.84\" style=\"stroke: #383838; stroke-width: 1.0;\"/><ellipse cx=\"117\" cy=\"123.14\" fill=\"#383838\" rx=\"2\" ry=\"2\" style=\"stroke: #383838; stroke-width: 1.0;\"/><ellipse cx=\"127\" cy=\"123.14\" fill=\"#383838\" rx=\"2\" ry=\"2\" style=\"stroke: #383838; stroke-width: 1.0;\"/></a><!--MD5=[4672eba38e49728da53d11aeb285b987]\n",
       "reverse link E3 to E4--><a href=\"psysml:e82a868e-a957-4308-9aca-5f2e1a046a10\" target=\"_top\" title=\"psysml:e82a868e-a957-4308-9aca-5f2e1a046a10\" xlink:actuate=\"onRequest\" xlink:href=\"psysml:e82a868e-a957-4308-9aca-5f2e1a046a10\" xlink:show=\"new\" xlink:title=\"psysml:e82a868e-a957-4308-9aca-5f2e1a046a10\" xlink:type=\"simple\"><path d=\"M89.92,247.7 C75.21,272.77 61,297 61,297 C61,297 57.18,343.85 54.82,372.76 \" fill=\"none\" id=\"E3&lt;-E4\" style=\"stroke: #383838; stroke-width: 1.0;\"/><polygon fill=\"#383838\" points=\"96.66,236.2,90.1724,239.3482,90.5832,246.5476,97.0708,243.3994,96.66,236.2\" style=\"stroke: #383838; stroke-width: 1.0;\"/><text fill=\"#000000\" font-family=\"sans-serif\" font-size=\"13\" lengthAdjust=\"spacingAndGlyphs\" textLength=\"8\" x=\"46.2614\" y=\"361.9748\">1</text></a><!--MD5=[191cde3d490a3f6d7bb551fe3ddca469]\n",
       "reverse link E3 to E5--><a href=\"psysml:01f43deb-5863-4903-863e-c9a23e0a1180\" target=\"_top\" title=\"psysml:01f43deb-5863-4903-863e-c9a23e0a1180\" xlink:actuate=\"onRequest\" xlink:href=\"psysml:01f43deb-5863-4903-863e-c9a23e0a1180\" xlink:show=\"new\" xlink:title=\"psysml:01f43deb-5863-4903-863e-c9a23e0a1180\" xlink:type=\"simple\"><path d=\"M142.61,248.24 C148.98,265.32 155.64,283.18 160.68,296.68 \" fill=\"none\" id=\"E3&lt;-E5\" style=\"stroke: #383838; stroke-width: 1.0;\"/><polygon fill=\"#FFFFFF\" points=\"138.04,236.01,136.3879,243.0293,142.2318,247.2541,143.8839,240.2348,138.04,236.01\" style=\"stroke: #383838; stroke-width: 1.0;\"/><text fill=\"#000000\" font-family=\"sans-serif\" font-size=\"13\" lengthAdjust=\"spacingAndGlyphs\" textLength=\"8\" x=\"149.523\" y=\"285.8743\">1</text></a><!--MD5=[79568f1e445c3877b6a54524624ccc7d]\n",
       "link E4 to E6--><a href=\"psysml:6f8c5931-99ab-4f3d-9640-f9d86b709835\" target=\"_top\" title=\"psysml:6f8c5931-99ab-4f3d-9640-f9d86b709835\" xlink:actuate=\"onRequest\" xlink:href=\"psysml:6f8c5931-99ab-4f3d-9640-f9d86b709835\" xlink:show=\"new\" xlink:title=\"psysml:6f8c5931-99ab-4f3d-9640-f9d86b709835\" xlink:type=\"simple\"><path d=\"M54.72,419 C57.58,455.6 63,525 63,525 C63,525 86.6,557.46 106.78,585.2 \" fill=\"none\" id=\"E4-&gt;E6\" style=\"stroke: #383838; stroke-width: 1.0;\"/><polygon fill=\"#FFFFFF\" points=\"118.66,601.54,101.8189,590.2983,113.1377,582.0591,118.66,601.54\" style=\"stroke: #383838; stroke-width: 1.0;\"/><ellipse cx=\"100.0813\" cy=\"584.5129\" fill=\"#383838\" rx=\"2\" ry=\"2\" style=\"stroke: #383838; stroke-width: 1.0;\"/><ellipse cx=\"108.1662\" cy=\"578.6278\" fill=\"#383838\" rx=\"2\" ry=\"2\" style=\"stroke: #383838; stroke-width: 1.0;\"/></a><!--MD5=[3f50a3473f1dfb74d3f76443e03635af]\n",
       "reverse link E6 to E7--><a href=\"psysml:ef71999d-b74e-4e5c-b2f7-aebb94a9d32a\" target=\"_top\" title=\"psysml:ef71999d-b74e-4e5c-b2f7-aebb94a9d32a\" xlink:actuate=\"onRequest\" xlink:href=\"psysml:ef71999d-b74e-4e5c-b2f7-aebb94a9d32a\" xlink:show=\"new\" xlink:title=\"psysml:ef71999d-b74e-4e5c-b2f7-aebb94a9d32a\" xlink:type=\"simple\"><path d=\"M156.91,659.48 C168.15,676.66 181.53,697.11 191.48,712.31 \" fill=\"none\" id=\"E6&lt;-E7\" style=\"stroke: #383838; stroke-width: 1.0;\"/><polygon fill=\"#383838\" points=\"149.54,648.22,149.4851,655.4309,156.1201,658.255,156.1751,651.0441,149.54,648.22\" style=\"stroke: #383838; stroke-width: 1.0;\"/><text fill=\"#000000\" font-family=\"sans-serif\" font-size=\"13\" lengthAdjust=\"spacingAndGlyphs\" textLength=\"8\" x=\"178.7342\" y=\"701.5376\">1</text></a><!--MD5=[14ccda38c055a5c0da953d572bc50960]\n",
       "link E7 to E3--><a href=\"psysml:d4047a87-2764-4bb9-9711-6fad77bbdb97\" target=\"_top\" title=\"psysml:d4047a87-2764-4bb9-9711-6fad77bbdb97\" xlink:actuate=\"onRequest\" xlink:href=\"psysml:d4047a87-2764-4bb9-9711-6fad77bbdb97\" xlink:show=\"new\" xlink:title=\"psysml:d4047a87-2764-4bb9-9711-6fad77bbdb97\" xlink:type=\"simple\"><path d=\"M210.1,712.28 C215.95,680.54 226,626 226,626 C226,319 226,319 226,319 C226,319 208,297 208,297 C208,297 189.82,275.01 170.17,251.25 \" fill=\"none\" id=\"E7-&gt;E3\" style=\"stroke: #383838; stroke-width: 1.0;\"/><polygon fill=\"#FFFFFF\" points=\"157.23,235.6,174.7311,245.7838,163.9409,254.704,157.23,235.6\" style=\"stroke: #383838; stroke-width: 1.0;\"/><ellipse cx=\"176.8215\" cy=\"251.4513\" fill=\"#383838\" rx=\"2\" ry=\"2\" style=\"stroke: #383838; stroke-width: 1.0;\"/><ellipse cx=\"169.1141\" cy=\"257.8229\" fill=\"#383838\" rx=\"2\" ry=\"2\" style=\"stroke: #383838; stroke-width: 1.0;\"/></a><!--MD5=[f4cf0736d43fd73c4ef68817c49d37d5]\n",
       "reverse link E6 to E8--><a href=\"psysml:e9c4c173-85e4-4370-85e4-1c8f2eb4171b\" target=\"_top\" title=\"psysml:e9c4c173-85e4-4370-85e4-1c8f2eb4171b\" xlink:actuate=\"onRequest\" xlink:href=\"psysml:e9c4c173-85e4-4370-85e4-1c8f2eb4171b\" xlink:show=\"new\" xlink:title=\"psysml:e9c4c173-85e4-4370-85e4-1c8f2eb4171b\" xlink:type=\"simple\"><path d=\"M113.09,659.48 C101.85,676.66 88.47,697.11 78.52,712.31 \" fill=\"none\" id=\"E6&lt;-E8\" style=\"stroke: #383838; stroke-width: 1.0;\"/><polygon fill=\"#FFFFFF\" points=\"120.46,648.22,113.8249,651.0441,113.8799,658.255,120.5149,655.4309,120.46,648.22\" style=\"stroke: #383838; stroke-width: 1.0;\"/><text fill=\"#000000\" font-family=\"sans-serif\" font-size=\"13\" lengthAdjust=\"spacingAndGlyphs\" textLength=\"8\" x=\"73.2158\" y=\"701.5376\">1</text></a><!--MD5=[e88d06e5a652d73a6b19930eefe025a8]\n",
       "reverse link E6 to E9--><a href=\"psysml:ab2aae6d-159f-4d7a-a99e-78671a533366\" target=\"_top\" title=\"psysml:ab2aae6d-159f-4d7a-a99e-78671a533366\" xlink:actuate=\"onRequest\" xlink:href=\"psysml:ab2aae6d-159f-4d7a-a99e-78671a533366\" xlink:show=\"new\" xlink:title=\"psysml:ab2aae6d-159f-4d7a-a99e-78671a533366\" xlink:type=\"simple\"><path d=\"M135,663.49 C135,678.47 135,695.34 135,708.88 \" fill=\"none\" id=\"E6&lt;-E9\" style=\"stroke: #383838; stroke-width: 1.0;\"/><ellipse cx=\"135\" cy=\"656.22\" fill=\"#FFFFFF\" rx=\"8\" ry=\"8\" style=\"stroke: #383838; stroke-width: 1.0;\"/><line style=\"stroke: #383838; stroke-width: 1.0;\" x1=\"135\" x2=\"135\" y1=\"664.22\" y2=\"648.22\"/><line style=\"stroke: #383838; stroke-width: 1.0;\" x1=\"127\" x2=\"143\" y1=\"656.22\" y2=\"656.22\"/></a><!--MD5=[f78a29d5932556fa1060671a2a6507d8]\n",
       "link E5 to E10--><a href=\"psysml:09169cbe-938d-4307-a584-0b24a5ad62ce\" target=\"_top\" title=\"psysml:09169cbe-938d-4307-a584-0b24a5ad62ce\" xlink:actuate=\"onRequest\" xlink:href=\"psysml:09169cbe-938d-4307-a584-0b24a5ad62ce\" xlink:show=\"new\" xlink:title=\"psysml:09169cbe-938d-4307-a584-0b24a5ad62ce\" xlink:type=\"simple\"><path d=\"M164.41,343.25 C159.9,365.16 152.82,399.53 146.73,429.05 \" fill=\"none\" id=\"E5-&gt;E10\" style=\"stroke: #383838; stroke-width: 1.0;\"/><polygon fill=\"#FFFFFF\" points=\"142.63,448.98,139.6015,428.9593,153.3144,431.7799,142.63,448.98\" style=\"stroke: #383838; stroke-width: 1.0;\"/><ellipse cx=\"142.7089\" cy=\"423.7791\" fill=\"#383838\" rx=\"2\" ry=\"2\" style=\"stroke: #383838; stroke-width: 1.0;\"/><ellipse cx=\"152.5038\" cy=\"425.7938\" fill=\"#383838\" rx=\"2\" ry=\"2\" style=\"stroke: #383838; stroke-width: 1.0;\"/></a><!--MD5=[8e04057e7b3cbc0dca4fc78ea351e2da]\n",
       "reverse link E10 to E3--><a href=\"psysml:75696b56-911c-4e7f-a413-6399c7af4d3a\" target=\"_top\" title=\"psysml:75696b56-911c-4e7f-a413-6399c7af4d3a\" xlink:actuate=\"onRequest\" xlink:href=\"psysml:75696b56-911c-4e7f-a413-6399c7af4d3a\" xlink:show=\"new\" xlink:title=\"psysml:75696b56-911c-4e7f-a413-6399c7af4d3a\" xlink:type=\"simple\"><path d=\"M130.42,435.6 C126.67,394.42 122,343 122,343 C122,343 122,280.69 122,236.39 \" fill=\"none\" id=\"E10&lt;-E3\" style=\"stroke: #383838; stroke-width: 1.0;\"/><polygon fill=\"#FFFFFF\" points=\"131.62,448.8,135.0559,442.4601,130.5252,436.85,127.0893,443.1899,131.62,448.8\" style=\"stroke: #383838; stroke-width: 1.0;\"/><text fill=\"#000000\" font-family=\"sans-serif\" font-size=\"13\" lengthAdjust=\"spacingAndGlyphs\" textLength=\"7\" x=\"123\" y=\"324.5669\">y</text></a><!--MD5=[604cbf994c02b74b117f728a71673cea]\n",
       "reverse link E10 to E6--><a href=\"psysml:75696b56-911c-4e7f-a413-6399c7af4d3a\" target=\"_top\" title=\"psysml:75696b56-911c-4e7f-a413-6399c7af4d3a\" xlink:actuate=\"onRequest\" xlink:href=\"psysml:75696b56-911c-4e7f-a413-6399c7af4d3a\" xlink:show=\"new\" xlink:title=\"psysml:75696b56-911c-4e7f-a413-6399c7af4d3a\" xlink:type=\"simple\"><path d=\"M135,538.33 C135,560.16 135,584.6 135,601.77 \" fill=\"none\" id=\"E10&lt;-E6\" style=\"stroke: #383838; stroke-width: 1.0;\"/><polygon fill=\"#FFFFFF\" points=\"135,525.16,131,531.16,135,537.16,139,531.16,135,525.16\" style=\"stroke: #383838; stroke-width: 1.0;\"/><text fill=\"#000000\" font-family=\"sans-serif\" font-size=\"13\" lengthAdjust=\"spacingAndGlyphs\" textLength=\"7\" x=\"136\" y=\"568.0669\">y</text></a><!--MD5=[676b25701a9ed1fa2f175402cd8cc7c0]\n",
       "@startuml\r\n",
       "skinparam linetype polyline\r\n",
       "skinparam monochrome true\r\n",
       "skinparam classbackgroundcolor white\r\n",
       "skinparam shadowing false\r\n",
       "skinparam wrapWidth 300\r\n",
       "hide circle\r\n",
       "\r\n",
       "package \"PartTest\" as E1  [[psysml:538b1265-15ae-4afd-8dd2-ef0f57b41a53 ]]  {\r\n",
       "comp usage \"f: A \" as E2  <<(T,blue) part>> [[psysml:2c090466-3d5c-4444-ba17-090921dc2443 ]] {\r\n",
       "}\r\n",
       "comp def \"A\" as E3  <<(T,blue) part  def>> [[psysml:d1b7cfcb-f6eb-4e6c-b82e-69976e6757f6 ]] {\r\n",
       "- - attributes - -\r\n",
       "x\r\n",
       "y:> A::x\r\n",
       "}\r\n",
       "comp usage \"b: B \" as E4  <<(T,blue) part>> [[psysml:1aa2f075-dfbc-4c28-975e-f9b78ce76d6b ]] {\r\n",
       "}\r\n",
       "comp usage \"c: C \" as E5  <<(T,blue) port>> [[psysml:6b6fc427-035b-4f92-af2f-ae5f46ec13e5 ]] {\r\n",
       "}\r\n",
       "comp def \"<i>B</i>\" as E6  <<(T,blue) part  def>> [[psysml:286e6ef4-92d4-4c1b-a17d-09881da7698b ]] {\r\n",
       "}\r\n",
       "comp usage \"<i>a</i>: A \" as E7  <<(T,blue) part>> [[psysml:215e87e2-ee75-46c7-98ea-4ce8794cdbad ]] {\r\n",
       "}\r\n",
       "comp usage \"x: ~C \" as E8  <<(T,blue) port>> [[psysml:27d37788-2b75-4a5c-b4fe-9553c2483e93 ]] {\r\n",
       "}\r\n",
       "package \"P\" as E9  [[psysml:e555f4d2-547d-4756-8b33-5fda3be7b359 ]]  {\r\n",
       "}\r\n",
       "comp def \"C\" as E10  <<(T,blue) port  def>> [[psysml:3d6805d2-0d33-47df-af88-6771a9177656 ]] {\r\n",
       "- - parameters - -\r\n",
       "<b>in</b> y: A, B <b>alias</b> z2 \r\n",
       "}\r\n",
       "}\r\n",
       "E2 - -:|> E3 [[psysml:02703352-f69e-4a4b-893d-89c09588fdfd ]] \r\n",
       "E3 *- - \"1\"E4 [[psysml:e82a868e-a957-4308-9aca-5f2e1a046a10 ]] \r\n",
       "E3 o- - \"1\"E5 [[psysml:01f43deb-5863-4903-863e-c9a23e0a1180 ]] \r\n",
       "E4 - -:|> E6 [[psysml:6f8c5931-99ab-4f3d-9640-f9d86b709835 ]] \r\n",
       "E6 *- - \"1\"E7 [[psysml:ef71999d-b74e-4e5c-b2f7-aebb94a9d32a ]] \r\n",
       "E7 - -:|> E3 [[psysml:d4047a87-2764-4bb9-9711-6fad77bbdb97 ]] \r\n",
       "E6 o- - \"1\"E8 [[psysml:e9c4c173-85e4-4370-85e4-1c8f2eb4171b ]] \r\n",
       "E6 +- - E9 [[psysml:ab2aae6d-159f-4d7a-a99e-78671a533366 ]] \r\n",
       "E5 - -:|> E10 [[psysml:09169cbe-938d-4307-a584-0b24a5ad62ce ]] \r\n",
       "E10 o- - E3 [[psysml:75696b56-911c-4e7f-a413-6399c7af4d3a ]] : y\r\n",
       "E10 o- - E6 [[psysml:75696b56-911c-4e7f-a413-6399c7af4d3a ]] : y\r\n",
       "@enduml\r\n",
       "\n",
       "PlantUML version 1.2020.13(Sat Jun 13 12:26:38 UTC 2020)\n",
       "(EPL source distribution)\n",
       "Java Runtime: OpenJDK Runtime Environment\n",
       "JVM: OpenJDK 64-Bit Server VM\n",
       "Default Encoding: UTF-8\n",
       "Language: en\n",
       "Country: null\n",
       "--></g></svg>"
      ]
     },
     "execution_count": 9,
     "metadata": {},
     "output_type": "execute_result"
    }
   ],
   "source": [
    "%viz --style=\"POLYLINE\" --view=\"Default\" \"PartTest\""
   ]
  },
  {
   "cell_type": "code",
   "execution_count": 10,
   "id": "96576271",
   "metadata": {
    "execution": {
     "iopub.execute_input": "2022-05-19T08:45:11.601647Z",
     "iopub.status.busy": "2022-05-19T08:45:11.601176Z",
     "iopub.status.idle": "2022-05-19T08:45:11.680125Z",
     "shell.execute_reply": "2022-05-19T08:45:11.677863Z"
    }
   },
   "outputs": [
    {
     "data": {
      "image/svg+xml": [
       "<?xml version=\"1.0\" encoding=\"UTF-8\" standalone=\"no\"?><svg xmlns=\"http://www.w3.org/2000/svg\" xmlns:xlink=\"http://www.w3.org/1999/xlink\" contentScriptType=\"application/ecmascript\" contentStyleType=\"text/css\" height=\"790px\" preserveAspectRatio=\"none\" style=\"width:265px;height:790px;\" version=\"1.1\" viewBox=\"0 0 265 790\" width=\"265px\" zoomAndPan=\"magnify\"><defs/><g><!--MD5=[fbc87193dbaf4d95561dea2c320d4a47]\n",
       "cluster E1--><a href=\"psysml:538b1265-15ae-4afd-8dd2-ef0f57b41a53\" target=\"_top\" title=\"psysml:538b1265-15ae-4afd-8dd2-ef0f57b41a53\" xlink:actuate=\"onRequest\" xlink:href=\"psysml:538b1265-15ae-4afd-8dd2-ef0f57b41a53\" xlink:show=\"new\" xlink:title=\"psysml:538b1265-15ae-4afd-8dd2-ef0f57b41a53\" xlink:type=\"simple\"><polygon fill=\"#FFFFFF\" points=\"16,6,80,6,87,28.2969,243,28.2969,243,778,16,778,16,6\" style=\"stroke: #000000; stroke-width: 1.5;\"/><line style=\"stroke: #000000; stroke-width: 1.5;\" x1=\"16\" x2=\"87\" y1=\"28.2969\" y2=\"28.2969\"/><text fill=\"#000000\" font-family=\"sans-serif\" font-size=\"14\" font-weight=\"bold\" lengthAdjust=\"spacingAndGlyphs\" textLength=\"58\" x=\"20\" y=\"20.9951\">PartTest</text></a><!--MD5=[b4997ac47864f28c2f74865a473b2911]\n",
       "class E2--><a href=\"psysml:2c090466-3d5c-4444-ba17-090921dc2443\" target=\"_top\" title=\"psysml:2c090466-3d5c-4444-ba17-090921dc2443\" xlink:actuate=\"onRequest\" xlink:href=\"psysml:2c090466-3d5c-4444-ba17-090921dc2443\" xlink:show=\"new\" xlink:title=\"psysml:2c090466-3d5c-4444-ba17-090921dc2443\" xlink:type=\"simple\"><rect fill=\"#FFFFFF\" height=\"45.9375\" id=\"E2\" rx=\"10\" ry=\"10\" style=\"stroke: #383838; stroke-width: 1.5;\" width=\"42\" x=\"101\" y=\"41\"/><text fill=\"#000000\" font-family=\"sans-serif\" font-size=\"12\" font-style=\"italic\" lengthAdjust=\"spacingAndGlyphs\" textLength=\"40\" x=\"102\" y=\"57.1387\">«part»</text><text fill=\"#000000\" font-family=\"sans-serif\" font-size=\"12\" lengthAdjust=\"spacingAndGlyphs\" textLength=\"20\" x=\"110\" y=\"71.1074\">f: A</text><line style=\"stroke: #383838; stroke-width: 1.5;\" x1=\"102\" x2=\"142\" y1=\"78.9375\" y2=\"78.9375\"/></a><!--MD5=[09b614a08d8cba4a07c9adeb5e0fee81]\n",
       "class E3--><a href=\"psysml:d1b7cfcb-f6eb-4e6c-b82e-69976e6757f6\" target=\"_top\" title=\"psysml:d1b7cfcb-f6eb-4e6c-b82e-69976e6757f6\" xlink:actuate=\"onRequest\" xlink:href=\"psysml:d1b7cfcb-f6eb-4e6c-b82e-69976e6757f6\" xlink:show=\"new\" xlink:title=\"psysml:d1b7cfcb-f6eb-4e6c-b82e-69976e6757f6\" xlink:type=\"simple\"><rect fill=\"#FFFFFF\" height=\"88.3516\" id=\"E3\" style=\"stroke: #383838; stroke-width: 1.5;\" width=\"70\" x=\"87\" y=\"148\"/><text fill=\"#000000\" font-family=\"sans-serif\" font-size=\"12\" font-style=\"italic\" lengthAdjust=\"spacingAndGlyphs\" textLength=\"68\" x=\"88\" y=\"164.1387\">«part  def»</text><text fill=\"#000000\" font-family=\"sans-serif\" font-size=\"12\" lengthAdjust=\"spacingAndGlyphs\" textLength=\"8\" x=\"118\" y=\"178.1074\">A</text><line style=\"stroke: #383838; stroke-width: 1.5;\" x1=\"88\" x2=\"156\" y1=\"185.9375\" y2=\"185.9375\"/><text fill=\"#000000\" font-family=\"sans-serif\" font-size=\"11\" lengthAdjust=\"spacingAndGlyphs\" textLength=\"6\" x=\"93\" y=\"216.9526\">x</text><text fill=\"#000000\" font-family=\"sans-serif\" font-size=\"11\" lengthAdjust=\"spacingAndGlyphs\" textLength=\"44\" x=\"93\" y=\"229.7573\">y:&gt; A::x</text><line style=\"stroke: #383838; stroke-width: 1.0;\" x1=\"88\" x2=\"94.5\" y1=\"200.3398\" y2=\"200.3398\"/><text fill=\"#000000\" font-family=\"sans-serif\" font-size=\"11\" lengthAdjust=\"spacingAndGlyphs\" textLength=\"55\" x=\"94.5\" y=\"203.6479\">attributes</text><line style=\"stroke: #383838; stroke-width: 1.0;\" x1=\"149.5\" x2=\"156\" y1=\"200.3398\" y2=\"200.3398\"/></a><!--MD5=[ebbe1d658d1005bcc118a6aa81145e00]\n",
       "class E4--><a href=\"psysml:1aa2f075-dfbc-4c28-975e-f9b78ce76d6b\" target=\"_top\" title=\"psysml:1aa2f075-dfbc-4c28-975e-f9b78ce76d6b\" xlink:actuate=\"onRequest\" xlink:href=\"psysml:1aa2f075-dfbc-4c28-975e-f9b78ce76d6b\" xlink:show=\"new\" xlink:title=\"psysml:1aa2f075-dfbc-4c28-975e-f9b78ce76d6b\" xlink:type=\"simple\"><rect fill=\"#FFFFFF\" height=\"45.9375\" id=\"E4\" rx=\"10\" ry=\"10\" style=\"stroke: #383838; stroke-width: 1.5;\" width=\"42\" x=\"32\" y=\"373\"/><text fill=\"#000000\" font-family=\"sans-serif\" font-size=\"12\" font-style=\"italic\" lengthAdjust=\"spacingAndGlyphs\" textLength=\"40\" x=\"33\" y=\"389.1387\">«part»</text><text fill=\"#000000\" font-family=\"sans-serif\" font-size=\"12\" lengthAdjust=\"spacingAndGlyphs\" textLength=\"24\" x=\"39\" y=\"403.1074\">b: B</text><line style=\"stroke: #383838; stroke-width: 1.5;\" x1=\"33\" x2=\"73\" y1=\"410.9375\" y2=\"410.9375\"/></a><!--MD5=[270fce915f116d4de14055a7c1d9a0f3]\n",
       "class E5--><a href=\"psysml:6b6fc427-035b-4f92-af2f-ae5f46ec13e5\" target=\"_top\" title=\"psysml:6b6fc427-035b-4f92-af2f-ae5f46ec13e5\" xlink:actuate=\"onRequest\" xlink:href=\"psysml:6b6fc427-035b-4f92-af2f-ae5f46ec13e5\" xlink:show=\"new\" xlink:title=\"psysml:6b6fc427-035b-4f92-af2f-ae5f46ec13e5\" xlink:type=\"simple\"><rect fill=\"#FFFFFF\" height=\"45.9375\" id=\"E5\" rx=\"10\" ry=\"10\" style=\"stroke: #383838; stroke-width: 1.5;\" width=\"42\" x=\"148\" y=\"297\"/><text fill=\"#000000\" font-family=\"sans-serif\" font-size=\"12\" font-style=\"italic\" lengthAdjust=\"spacingAndGlyphs\" textLength=\"40\" x=\"149\" y=\"313.1387\">«port»</text><text fill=\"#000000\" font-family=\"sans-serif\" font-size=\"12\" lengthAdjust=\"spacingAndGlyphs\" textLength=\"23\" x=\"155.5\" y=\"327.1074\">c: C</text><line style=\"stroke: #383838; stroke-width: 1.5;\" x1=\"149\" x2=\"189\" y1=\"334.9375\" y2=\"334.9375\"/></a><!--MD5=[60a26617385b1d2d0262a64233df1f8d]\n",
       "class E6--><a href=\"psysml:286e6ef4-92d4-4c1b-a17d-09881da7698b\" target=\"_top\" title=\"psysml:286e6ef4-92d4-4c1b-a17d-09881da7698b\" xlink:actuate=\"onRequest\" xlink:href=\"psysml:286e6ef4-92d4-4c1b-a17d-09881da7698b\" xlink:show=\"new\" xlink:title=\"psysml:286e6ef4-92d4-4c1b-a17d-09881da7698b\" xlink:type=\"simple\"><rect fill=\"#FFFFFF\" height=\"45.9375\" id=\"E6\" style=\"stroke: #383838; stroke-width: 1.5;\" width=\"70\" x=\"100\" y=\"602\"/><text fill=\"#000000\" font-family=\"sans-serif\" font-size=\"12\" font-style=\"italic\" lengthAdjust=\"spacingAndGlyphs\" textLength=\"68\" x=\"101\" y=\"618.1387\">«part  def»</text><text fill=\"#000000\" font-family=\"sans-serif\" font-size=\"12\" font-style=\"italic\" lengthAdjust=\"spacingAndGlyphs\" textLength=\"8\" x=\"131\" y=\"632.1074\">B</text><line style=\"stroke: #383838; stroke-width: 1.5;\" x1=\"101\" x2=\"169\" y1=\"639.9375\" y2=\"639.9375\"/></a><!--MD5=[2156ba9850f5573cc1fc38a6a4b2f02b]\n",
       "class E7--><a href=\"psysml:215e87e2-ee75-46c7-98ea-4ce8794cdbad\" target=\"_top\" title=\"psysml:215e87e2-ee75-46c7-98ea-4ce8794cdbad\" xlink:actuate=\"onRequest\" xlink:href=\"psysml:215e87e2-ee75-46c7-98ea-4ce8794cdbad\" xlink:show=\"new\" xlink:title=\"psysml:215e87e2-ee75-46c7-98ea-4ce8794cdbad\" xlink:type=\"simple\"><rect fill=\"#FFFFFF\" height=\"45.9375\" id=\"E7\" rx=\"10\" ry=\"10\" style=\"stroke: #383838; stroke-width: 1.5;\" width=\"42\" x=\"185\" y=\"712.5\"/><text fill=\"#000000\" font-family=\"sans-serif\" font-size=\"12\" font-style=\"italic\" lengthAdjust=\"spacingAndGlyphs\" textLength=\"40\" x=\"186\" y=\"728.6387\">«part»</text><text fill=\"#000000\" font-family=\"sans-serif\" font-size=\"12\" font-style=\"italic\" lengthAdjust=\"spacingAndGlyphs\" textLength=\"8\" x=\"192\" y=\"742.6074\">a</text><text fill=\"#000000\" font-family=\"sans-serif\" font-size=\"12\" lengthAdjust=\"spacingAndGlyphs\" textLength=\"16\" x=\"200\" y=\"742.6074\">: A</text><line style=\"stroke: #383838; stroke-width: 1.5;\" x1=\"186\" x2=\"226\" y1=\"750.4375\" y2=\"750.4375\"/></a><!--MD5=[b9389687b975829384b498ac4b7476b2]\n",
       "class E8--><a href=\"psysml:27d37788-2b75-4a5c-b4fe-9553c2483e93\" target=\"_top\" title=\"psysml:27d37788-2b75-4a5c-b4fe-9553c2483e93\" xlink:actuate=\"onRequest\" xlink:href=\"psysml:27d37788-2b75-4a5c-b4fe-9553c2483e93\" xlink:show=\"new\" xlink:title=\"psysml:27d37788-2b75-4a5c-b4fe-9553c2483e93\" xlink:type=\"simple\"><rect fill=\"#FFFFFF\" height=\"45.9375\" id=\"E8\" rx=\"10\" ry=\"10\" style=\"stroke: #383838; stroke-width: 1.5;\" width=\"42\" x=\"43\" y=\"712.5\"/><text fill=\"#000000\" font-family=\"sans-serif\" font-size=\"12\" font-style=\"italic\" lengthAdjust=\"spacingAndGlyphs\" textLength=\"40\" x=\"44\" y=\"728.6387\">«port»</text><text fill=\"#000000\" font-family=\"sans-serif\" font-size=\"12\" lengthAdjust=\"spacingAndGlyphs\" textLength=\"32\" x=\"46\" y=\"742.6074\">x: ~C</text><line style=\"stroke: #383838; stroke-width: 1.5;\" x1=\"44\" x2=\"84\" y1=\"750.4375\" y2=\"750.4375\"/></a><!--MD5=[96f4274e9e20536e775497830990834d]\n",
       "class E10--><a href=\"psysml:3d6805d2-0d33-47df-af88-6771a9177656\" target=\"_top\" title=\"psysml:3d6805d2-0d33-47df-af88-6771a9177656\" xlink:actuate=\"onRequest\" xlink:href=\"psysml:3d6805d2-0d33-47df-af88-6771a9177656\" xlink:show=\"new\" xlink:title=\"psysml:3d6805d2-0d33-47df-af88-6771a9177656\" xlink:type=\"simple\"><rect fill=\"#FFFFFF\" height=\"75.5469\" id=\"E10\" style=\"stroke: #383838; stroke-width: 1.5;\" width=\"110\" x=\"80\" y=\"449\"/><text fill=\"#000000\" font-family=\"sans-serif\" font-size=\"12\" font-style=\"italic\" lengthAdjust=\"spacingAndGlyphs\" textLength=\"68\" x=\"101\" y=\"465.1387\">«port  def»</text><text fill=\"#000000\" font-family=\"sans-serif\" font-size=\"12\" lengthAdjust=\"spacingAndGlyphs\" textLength=\"8\" x=\"131\" y=\"479.1074\">C</text><line style=\"stroke: #383838; stroke-width: 1.5;\" x1=\"81\" x2=\"189\" y1=\"486.9375\" y2=\"486.9375\"/><text fill=\"#000000\" font-family=\"sans-serif\" font-size=\"11\" font-weight=\"bold\" lengthAdjust=\"spacingAndGlyphs\" textLength=\"10\" x=\"86\" y=\"517.9526\">in</text><text fill=\"#000000\" font-family=\"sans-serif\" font-size=\"11\" lengthAdjust=\"spacingAndGlyphs\" textLength=\"37\" x=\"100\" y=\"517.9526\">y: A, B</text><text fill=\"#000000\" font-family=\"sans-serif\" font-size=\"11\" font-weight=\"bold\" lengthAdjust=\"spacingAndGlyphs\" textLength=\"27\" x=\"141\" y=\"517.9526\">alias</text><text fill=\"#000000\" font-family=\"sans-serif\" font-size=\"11\" lengthAdjust=\"spacingAndGlyphs\" textLength=\"12\" x=\"172\" y=\"517.9526\">z2</text><line style=\"stroke: #383838; stroke-width: 1.0;\" x1=\"81\" x2=\"101.5\" y1=\"501.3398\" y2=\"501.3398\"/><text fill=\"#000000\" font-family=\"sans-serif\" font-size=\"11\" lengthAdjust=\"spacingAndGlyphs\" textLength=\"67\" x=\"101.5\" y=\"504.6479\">parameters</text><line style=\"stroke: #383838; stroke-width: 1.0;\" x1=\"168.5\" x2=\"189\" y1=\"501.3398\" y2=\"501.3398\"/></a><a href=\"psysml:e555f4d2-547d-4756-8b33-5fda3be7b359\" target=\"_top\" title=\"psysml:e555f4d2-547d-4756-8b33-5fda3be7b359\" xlink:actuate=\"onRequest\" xlink:href=\"psysml:e555f4d2-547d-4756-8b33-5fda3be7b359\" xlink:show=\"new\" xlink:title=\"psysml:e555f4d2-547d-4756-8b33-5fda3be7b359\" xlink:type=\"simple\"><polygon fill=\"#FFFFFF\" points=\"120.5,709,135.5,709,142.5,731.2969,149.5,731.2969,149.5,761.5938,120.5,761.5938,120.5,709\" style=\"stroke: #000000; stroke-width: 1.5;\"/><line style=\"stroke: #000000; stroke-width: 1.5;\" x1=\"120.5\" x2=\"142.5\" y1=\"731.2969\" y2=\"731.2969\"/><text fill=\"#000000\" font-family=\"sans-serif\" font-size=\"14\" font-weight=\"bold\" lengthAdjust=\"spacingAndGlyphs\" textLength=\"9\" x=\"124.5\" y=\"723.9951\">P</text></a><!--MD5=[2720a5a1f2c3fca2055b230370638851]\n",
       "link E2 to E3--><a href=\"psysml:02703352-f69e-4a4b-893d-89c09588fdfd\" target=\"_top\" title=\"psysml:02703352-f69e-4a4b-893d-89c09588fdfd\" xlink:actuate=\"onRequest\" xlink:href=\"psysml:02703352-f69e-4a4b-893d-89c09588fdfd\" xlink:show=\"new\" xlink:title=\"psysml:02703352-f69e-4a4b-893d-89c09588fdfd\" xlink:type=\"simple\"><path d=\"M122,87.24 C122,98.62 122,113.11 122,127.62 \" fill=\"none\" id=\"E2-&gt;E3\" style=\"stroke: #383838; stroke-width: 1.0;\"/><polygon fill=\"#FFFFFF\" points=\"122,147.84,115,128.84,129,128.84,122,147.84\" style=\"stroke: #383838; stroke-width: 1.0;\"/><ellipse cx=\"117\" cy=\"123.14\" fill=\"#383838\" rx=\"2\" ry=\"2\" style=\"stroke: #383838; stroke-width: 1.0;\"/><ellipse cx=\"127\" cy=\"123.14\" fill=\"#383838\" rx=\"2\" ry=\"2\" style=\"stroke: #383838; stroke-width: 1.0;\"/></a><!--MD5=[4672eba38e49728da53d11aeb285b987]\n",
       "reverse link E3 to E4--><a href=\"psysml:e82a868e-a957-4308-9aca-5f2e1a046a10\" target=\"_top\" title=\"psysml:e82a868e-a957-4308-9aca-5f2e1a046a10\" xlink:actuate=\"onRequest\" xlink:href=\"psysml:e82a868e-a957-4308-9aca-5f2e1a046a10\" xlink:show=\"new\" xlink:title=\"psysml:e82a868e-a957-4308-9aca-5f2e1a046a10\" xlink:type=\"simple\"><path d=\"M89.92,247.7 C75.21,272.77 61,297 61,297 C61,297 57.18,343.85 54.82,372.76 \" fill=\"none\" id=\"E3&lt;-E4\" style=\"stroke: #383838; stroke-width: 1.0;\"/><polygon fill=\"#383838\" points=\"96.66,236.2,90.1724,239.3482,90.5832,246.5476,97.0708,243.3994,96.66,236.2\" style=\"stroke: #383838; stroke-width: 1.0;\"/><text fill=\"#000000\" font-family=\"sans-serif\" font-size=\"13\" lengthAdjust=\"spacingAndGlyphs\" textLength=\"8\" x=\"46.2614\" y=\"361.9748\">1</text></a><!--MD5=[191cde3d490a3f6d7bb551fe3ddca469]\n",
       "reverse link E3 to E5--><a href=\"psysml:01f43deb-5863-4903-863e-c9a23e0a1180\" target=\"_top\" title=\"psysml:01f43deb-5863-4903-863e-c9a23e0a1180\" xlink:actuate=\"onRequest\" xlink:href=\"psysml:01f43deb-5863-4903-863e-c9a23e0a1180\" xlink:show=\"new\" xlink:title=\"psysml:01f43deb-5863-4903-863e-c9a23e0a1180\" xlink:type=\"simple\"><path d=\"M142.61,248.24 C148.98,265.32 155.64,283.18 160.68,296.68 \" fill=\"none\" id=\"E3&lt;-E5\" style=\"stroke: #383838; stroke-width: 1.0;\"/><polygon fill=\"#FFFFFF\" points=\"138.04,236.01,136.3879,243.0293,142.2318,247.2541,143.8839,240.2348,138.04,236.01\" style=\"stroke: #383838; stroke-width: 1.0;\"/><text fill=\"#000000\" font-family=\"sans-serif\" font-size=\"13\" lengthAdjust=\"spacingAndGlyphs\" textLength=\"8\" x=\"149.523\" y=\"285.8743\">1</text></a><!--MD5=[79568f1e445c3877b6a54524624ccc7d]\n",
       "link E4 to E6--><a href=\"psysml:6f8c5931-99ab-4f3d-9640-f9d86b709835\" target=\"_top\" title=\"psysml:6f8c5931-99ab-4f3d-9640-f9d86b709835\" xlink:actuate=\"onRequest\" xlink:href=\"psysml:6f8c5931-99ab-4f3d-9640-f9d86b709835\" xlink:show=\"new\" xlink:title=\"psysml:6f8c5931-99ab-4f3d-9640-f9d86b709835\" xlink:type=\"simple\"><path d=\"M54.72,419 C57.58,455.6 63,525 63,525 C63,525 86.6,557.46 106.78,585.2 \" fill=\"none\" id=\"E4-&gt;E6\" style=\"stroke: #383838; stroke-width: 1.0;\"/><polygon fill=\"#FFFFFF\" points=\"118.66,601.54,101.8189,590.2983,113.1377,582.0591,118.66,601.54\" style=\"stroke: #383838; stroke-width: 1.0;\"/><ellipse cx=\"100.0813\" cy=\"584.5129\" fill=\"#383838\" rx=\"2\" ry=\"2\" style=\"stroke: #383838; stroke-width: 1.0;\"/><ellipse cx=\"108.1662\" cy=\"578.6278\" fill=\"#383838\" rx=\"2\" ry=\"2\" style=\"stroke: #383838; stroke-width: 1.0;\"/></a><!--MD5=[3f50a3473f1dfb74d3f76443e03635af]\n",
       "reverse link E6 to E7--><a href=\"psysml:ef71999d-b74e-4e5c-b2f7-aebb94a9d32a\" target=\"_top\" title=\"psysml:ef71999d-b74e-4e5c-b2f7-aebb94a9d32a\" xlink:actuate=\"onRequest\" xlink:href=\"psysml:ef71999d-b74e-4e5c-b2f7-aebb94a9d32a\" xlink:show=\"new\" xlink:title=\"psysml:ef71999d-b74e-4e5c-b2f7-aebb94a9d32a\" xlink:type=\"simple\"><path d=\"M156.91,659.48 C168.15,676.66 181.53,697.11 191.48,712.31 \" fill=\"none\" id=\"E6&lt;-E7\" style=\"stroke: #383838; stroke-width: 1.0;\"/><polygon fill=\"#383838\" points=\"149.54,648.22,149.4851,655.4309,156.1201,658.255,156.1751,651.0441,149.54,648.22\" style=\"stroke: #383838; stroke-width: 1.0;\"/><text fill=\"#000000\" font-family=\"sans-serif\" font-size=\"13\" lengthAdjust=\"spacingAndGlyphs\" textLength=\"8\" x=\"178.7342\" y=\"701.5376\">1</text></a><!--MD5=[14ccda38c055a5c0da953d572bc50960]\n",
       "link E7 to E3--><a href=\"psysml:d4047a87-2764-4bb9-9711-6fad77bbdb97\" target=\"_top\" title=\"psysml:d4047a87-2764-4bb9-9711-6fad77bbdb97\" xlink:actuate=\"onRequest\" xlink:href=\"psysml:d4047a87-2764-4bb9-9711-6fad77bbdb97\" xlink:show=\"new\" xlink:title=\"psysml:d4047a87-2764-4bb9-9711-6fad77bbdb97\" xlink:type=\"simple\"><path d=\"M210.1,712.28 C215.95,680.54 226,626 226,626 C226,319 226,319 226,319 C226,319 208,297 208,297 C208,297 189.82,275.01 170.17,251.25 \" fill=\"none\" id=\"E7-&gt;E3\" style=\"stroke: #383838; stroke-width: 1.0;\"/><polygon fill=\"#FFFFFF\" points=\"157.23,235.6,174.7311,245.7838,163.9409,254.704,157.23,235.6\" style=\"stroke: #383838; stroke-width: 1.0;\"/><ellipse cx=\"176.8215\" cy=\"251.4513\" fill=\"#383838\" rx=\"2\" ry=\"2\" style=\"stroke: #383838; stroke-width: 1.0;\"/><ellipse cx=\"169.1141\" cy=\"257.8229\" fill=\"#383838\" rx=\"2\" ry=\"2\" style=\"stroke: #383838; stroke-width: 1.0;\"/></a><!--MD5=[f4cf0736d43fd73c4ef68817c49d37d5]\n",
       "reverse link E6 to E8--><a href=\"psysml:e9c4c173-85e4-4370-85e4-1c8f2eb4171b\" target=\"_top\" title=\"psysml:e9c4c173-85e4-4370-85e4-1c8f2eb4171b\" xlink:actuate=\"onRequest\" xlink:href=\"psysml:e9c4c173-85e4-4370-85e4-1c8f2eb4171b\" xlink:show=\"new\" xlink:title=\"psysml:e9c4c173-85e4-4370-85e4-1c8f2eb4171b\" xlink:type=\"simple\"><path d=\"M113.09,659.48 C101.85,676.66 88.47,697.11 78.52,712.31 \" fill=\"none\" id=\"E6&lt;-E8\" style=\"stroke: #383838; stroke-width: 1.0;\"/><polygon fill=\"#FFFFFF\" points=\"120.46,648.22,113.8249,651.0441,113.8799,658.255,120.5149,655.4309,120.46,648.22\" style=\"stroke: #383838; stroke-width: 1.0;\"/><text fill=\"#000000\" font-family=\"sans-serif\" font-size=\"13\" lengthAdjust=\"spacingAndGlyphs\" textLength=\"8\" x=\"73.2158\" y=\"701.5376\">1</text></a><!--MD5=[e88d06e5a652d73a6b19930eefe025a8]\n",
       "reverse link E6 to E9--><a href=\"psysml:ab2aae6d-159f-4d7a-a99e-78671a533366\" target=\"_top\" title=\"psysml:ab2aae6d-159f-4d7a-a99e-78671a533366\" xlink:actuate=\"onRequest\" xlink:href=\"psysml:ab2aae6d-159f-4d7a-a99e-78671a533366\" xlink:show=\"new\" xlink:title=\"psysml:ab2aae6d-159f-4d7a-a99e-78671a533366\" xlink:type=\"simple\"><path d=\"M135,663.49 C135,678.47 135,695.34 135,708.88 \" fill=\"none\" id=\"E6&lt;-E9\" style=\"stroke: #383838; stroke-width: 1.0;\"/><ellipse cx=\"135\" cy=\"656.22\" fill=\"#FFFFFF\" rx=\"8\" ry=\"8\" style=\"stroke: #383838; stroke-width: 1.0;\"/><line style=\"stroke: #383838; stroke-width: 1.0;\" x1=\"135\" x2=\"135\" y1=\"664.22\" y2=\"648.22\"/><line style=\"stroke: #383838; stroke-width: 1.0;\" x1=\"127\" x2=\"143\" y1=\"656.22\" y2=\"656.22\"/></a><!--MD5=[f78a29d5932556fa1060671a2a6507d8]\n",
       "link E5 to E10--><a href=\"psysml:09169cbe-938d-4307-a584-0b24a5ad62ce\" target=\"_top\" title=\"psysml:09169cbe-938d-4307-a584-0b24a5ad62ce\" xlink:actuate=\"onRequest\" xlink:href=\"psysml:09169cbe-938d-4307-a584-0b24a5ad62ce\" xlink:show=\"new\" xlink:title=\"psysml:09169cbe-938d-4307-a584-0b24a5ad62ce\" xlink:type=\"simple\"><path d=\"M164.41,343.25 C159.9,365.16 152.82,399.53 146.73,429.05 \" fill=\"none\" id=\"E5-&gt;E10\" style=\"stroke: #383838; stroke-width: 1.0;\"/><polygon fill=\"#FFFFFF\" points=\"142.63,448.98,139.6015,428.9593,153.3144,431.7799,142.63,448.98\" style=\"stroke: #383838; stroke-width: 1.0;\"/><ellipse cx=\"142.7089\" cy=\"423.7791\" fill=\"#383838\" rx=\"2\" ry=\"2\" style=\"stroke: #383838; stroke-width: 1.0;\"/><ellipse cx=\"152.5038\" cy=\"425.7938\" fill=\"#383838\" rx=\"2\" ry=\"2\" style=\"stroke: #383838; stroke-width: 1.0;\"/></a><!--MD5=[8e04057e7b3cbc0dca4fc78ea351e2da]\n",
       "reverse link E10 to E3--><a href=\"psysml:75696b56-911c-4e7f-a413-6399c7af4d3a\" target=\"_top\" title=\"psysml:75696b56-911c-4e7f-a413-6399c7af4d3a\" xlink:actuate=\"onRequest\" xlink:href=\"psysml:75696b56-911c-4e7f-a413-6399c7af4d3a\" xlink:show=\"new\" xlink:title=\"psysml:75696b56-911c-4e7f-a413-6399c7af4d3a\" xlink:type=\"simple\"><path d=\"M130.42,435.6 C126.67,394.42 122,343 122,343 C122,343 122,280.69 122,236.39 \" fill=\"none\" id=\"E10&lt;-E3\" style=\"stroke: #383838; stroke-width: 1.0;\"/><polygon fill=\"#FFFFFF\" points=\"131.62,448.8,135.0559,442.4601,130.5252,436.85,127.0893,443.1899,131.62,448.8\" style=\"stroke: #383838; stroke-width: 1.0;\"/><text fill=\"#000000\" font-family=\"sans-serif\" font-size=\"13\" lengthAdjust=\"spacingAndGlyphs\" textLength=\"7\" x=\"123\" y=\"324.5669\">y</text></a><!--MD5=[604cbf994c02b74b117f728a71673cea]\n",
       "reverse link E10 to E6--><a href=\"psysml:75696b56-911c-4e7f-a413-6399c7af4d3a\" target=\"_top\" title=\"psysml:75696b56-911c-4e7f-a413-6399c7af4d3a\" xlink:actuate=\"onRequest\" xlink:href=\"psysml:75696b56-911c-4e7f-a413-6399c7af4d3a\" xlink:show=\"new\" xlink:title=\"psysml:75696b56-911c-4e7f-a413-6399c7af4d3a\" xlink:type=\"simple\"><path d=\"M135,538.33 C135,560.16 135,584.6 135,601.77 \" fill=\"none\" id=\"E10&lt;-E6\" style=\"stroke: #383838; stroke-width: 1.0;\"/><polygon fill=\"#FFFFFF\" points=\"135,525.16,131,531.16,135,537.16,139,531.16,135,525.16\" style=\"stroke: #383838; stroke-width: 1.0;\"/><text fill=\"#000000\" font-family=\"sans-serif\" font-size=\"13\" lengthAdjust=\"spacingAndGlyphs\" textLength=\"7\" x=\"136\" y=\"568.0669\">y</text></a><!--MD5=[676b25701a9ed1fa2f175402cd8cc7c0]\n",
       "@startuml\r\n",
       "skinparam linetype polyline\r\n",
       "skinparam monochrome true\r\n",
       "skinparam classbackgroundcolor white\r\n",
       "skinparam shadowing false\r\n",
       "skinparam wrapWidth 300\r\n",
       "hide circle\r\n",
       "\r\n",
       "package \"PartTest\" as E1  [[psysml:538b1265-15ae-4afd-8dd2-ef0f57b41a53 ]]  {\r\n",
       "comp usage \"f: A \" as E2  <<(T,blue) part>> [[psysml:2c090466-3d5c-4444-ba17-090921dc2443 ]] {\r\n",
       "}\r\n",
       "comp def \"A\" as E3  <<(T,blue) part  def>> [[psysml:d1b7cfcb-f6eb-4e6c-b82e-69976e6757f6 ]] {\r\n",
       "- - attributes - -\r\n",
       "x\r\n",
       "y:> A::x\r\n",
       "}\r\n",
       "comp usage \"b: B \" as E4  <<(T,blue) part>> [[psysml:1aa2f075-dfbc-4c28-975e-f9b78ce76d6b ]] {\r\n",
       "}\r\n",
       "comp usage \"c: C \" as E5  <<(T,blue) port>> [[psysml:6b6fc427-035b-4f92-af2f-ae5f46ec13e5 ]] {\r\n",
       "}\r\n",
       "comp def \"<i>B</i>\" as E6  <<(T,blue) part  def>> [[psysml:286e6ef4-92d4-4c1b-a17d-09881da7698b ]] {\r\n",
       "}\r\n",
       "comp usage \"<i>a</i>: A \" as E7  <<(T,blue) part>> [[psysml:215e87e2-ee75-46c7-98ea-4ce8794cdbad ]] {\r\n",
       "}\r\n",
       "comp usage \"x: ~C \" as E8  <<(T,blue) port>> [[psysml:27d37788-2b75-4a5c-b4fe-9553c2483e93 ]] {\r\n",
       "}\r\n",
       "package \"P\" as E9  [[psysml:e555f4d2-547d-4756-8b33-5fda3be7b359 ]]  {\r\n",
       "}\r\n",
       "comp def \"C\" as E10  <<(T,blue) port  def>> [[psysml:3d6805d2-0d33-47df-af88-6771a9177656 ]] {\r\n",
       "- - parameters - -\r\n",
       "<b>in</b> y: A, B <b>alias</b> z2 \r\n",
       "}\r\n",
       "}\r\n",
       "E2 - -:|> E3 [[psysml:02703352-f69e-4a4b-893d-89c09588fdfd ]] \r\n",
       "E3 *- - \"1\"E4 [[psysml:e82a868e-a957-4308-9aca-5f2e1a046a10 ]] \r\n",
       "E3 o- - \"1\"E5 [[psysml:01f43deb-5863-4903-863e-c9a23e0a1180 ]] \r\n",
       "E4 - -:|> E6 [[psysml:6f8c5931-99ab-4f3d-9640-f9d86b709835 ]] \r\n",
       "E6 *- - \"1\"E7 [[psysml:ef71999d-b74e-4e5c-b2f7-aebb94a9d32a ]] \r\n",
       "E7 - -:|> E3 [[psysml:d4047a87-2764-4bb9-9711-6fad77bbdb97 ]] \r\n",
       "E6 o- - \"1\"E8 [[psysml:e9c4c173-85e4-4370-85e4-1c8f2eb4171b ]] \r\n",
       "E6 +- - E9 [[psysml:ab2aae6d-159f-4d7a-a99e-78671a533366 ]] \r\n",
       "E5 - -:|> E10 [[psysml:09169cbe-938d-4307-a584-0b24a5ad62ce ]] \r\n",
       "E10 o- - E3 [[psysml:75696b56-911c-4e7f-a413-6399c7af4d3a ]] : y\r\n",
       "E10 o- - E6 [[psysml:75696b56-911c-4e7f-a413-6399c7af4d3a ]] : y\r\n",
       "@enduml\r\n",
       "\n",
       "PlantUML version 1.2020.13(Sat Jun 13 12:26:38 UTC 2020)\n",
       "(EPL source distribution)\n",
       "Java Runtime: OpenJDK Runtime Environment\n",
       "JVM: OpenJDK 64-Bit Server VM\n",
       "Default Encoding: UTF-8\n",
       "Language: en\n",
       "Country: null\n",
       "--></g></svg>"
      ]
     },
     "execution_count": 10,
     "metadata": {},
     "output_type": "execute_result"
    }
   ],
   "source": [
    "%viz --style=\"POLYLINE\" --view=\"Tree\" \"PartTest\""
   ]
  },
  {
   "cell_type": "code",
   "execution_count": 11,
   "id": "c5638302",
   "metadata": {
    "execution": {
     "iopub.execute_input": "2022-05-19T08:45:11.728771Z",
     "iopub.status.busy": "2022-05-19T08:45:11.728274Z",
     "iopub.status.idle": "2022-05-19T08:45:11.734541Z",
     "shell.execute_reply": "2022-05-19T08:45:11.734863Z"
    }
   },
   "outputs": [
    {
     "data": {
      "image/svg+xml": [
       "<?xml version=\"1.0\" encoding=\"UTF-8\" standalone=\"no\"?><svg xmlns=\"http://www.w3.org/2000/svg\" xmlns:xlink=\"http://www.w3.org/1999/xlink\" contentScriptType=\"application/ecmascript\" contentStyleType=\"text/css\" height=\"12px\" preserveAspectRatio=\"none\" style=\"width:12px;height:12px;\" version=\"1.1\" viewBox=\"0 0 12 12\" width=\"12px\" zoomAndPan=\"magnify\"><defs/><g><!--MD5=[896ac0e7a515d8dd7765a661cb4ee08b]\n",
       "@startuml\r\n",
       "skinparam linetype polyline\r\n",
       "skinparam monochrome true\r\n",
       "skinparam classbackgroundcolor white\r\n",
       "skinparam shadowing false\r\n",
       "skinparam wrapWidth 300\r\n",
       "hide circle\r\n",
       "\r\n",
       "@enduml\r\n",
       "\n",
       "PlantUML version 1.2020.13(Sat Jun 13 12:26:38 UTC 2020)\n",
       "(EPL source distribution)\n",
       "Java Runtime: OpenJDK Runtime Environment\n",
       "JVM: OpenJDK 64-Bit Server VM\n",
       "Default Encoding: UTF-8\n",
       "Language: en\n",
       "Country: null\n",
       "--></g></svg>"
      ]
     },
     "execution_count": 11,
     "metadata": {},
     "output_type": "execute_result"
    }
   ],
   "source": [
    "%viz --style=\"POLYLINE\" --view=\"State\" \"PartTest\""
   ]
  },
  {
   "cell_type": "code",
   "execution_count": 12,
   "id": "796f3abe",
   "metadata": {
    "execution": {
     "iopub.execute_input": "2022-05-19T08:45:11.785121Z",
     "iopub.status.busy": "2022-05-19T08:45:11.784651Z",
     "iopub.status.idle": "2022-05-19T08:45:11.832810Z",
     "shell.execute_reply": "2022-05-19T08:45:11.832156Z"
    }
   },
   "outputs": [
    {
     "data": {
      "image/svg+xml": [
       "<?xml version=\"1.0\" encoding=\"UTF-8\" standalone=\"no\"?><svg xmlns=\"http://www.w3.org/2000/svg\" xmlns:xlink=\"http://www.w3.org/1999/xlink\" contentScriptType=\"application/ecmascript\" contentStyleType=\"text/css\" height=\"429px\" preserveAspectRatio=\"none\" style=\"width:639px;height:429px;\" version=\"1.1\" viewBox=\"0 0 639 429\" width=\"639px\" zoomAndPan=\"magnify\"><defs/><g><!--MD5=[fbc87193dbaf4d95561dea2c320d4a47]\n",
       "cluster E1--><a href=\"psysml:538b1265-15ae-4afd-8dd2-ef0f57b41a53\" target=\"_top\" title=\"psysml:538b1265-15ae-4afd-8dd2-ef0f57b41a53\" xlink:actuate=\"onRequest\" xlink:href=\"psysml:538b1265-15ae-4afd-8dd2-ef0f57b41a53\" xlink:show=\"new\" xlink:title=\"psysml:538b1265-15ae-4afd-8dd2-ef0f57b41a53\" xlink:type=\"simple\"><polygon fill=\"#FFFFFF\" points=\"16,6,80,6,87,28.2969,617,28.2969,617,417.5,16,417.5,16,6\" style=\"stroke: #000000; stroke-width: 1.5;\"/><line style=\"stroke: #000000; stroke-width: 1.5;\" x1=\"16\" x2=\"87\" y1=\"28.2969\" y2=\"28.2969\"/><text fill=\"#000000\" font-family=\"sans-serif\" font-size=\"14\" font-weight=\"bold\" lengthAdjust=\"spacingAndGlyphs\" textLength=\"58\" x=\"20\" y=\"20.9951\">PartTest</text></a><!--MD5=[d5e69f78d87373223dbae638b30a9c99]\n",
       "cluster E3--><a href=\"psysml:d1b7cfcb-f6eb-4e6c-b82e-69976e6757f6\" target=\"_top\" title=\"psysml:d1b7cfcb-f6eb-4e6c-b82e-69976e6757f6\" xlink:actuate=\"onRequest\" xlink:href=\"psysml:d1b7cfcb-f6eb-4e6c-b82e-69976e6757f6\" xlink:show=\"new\" xlink:title=\"psysml:d1b7cfcb-f6eb-4e6c-b82e-69976e6757f6\" xlink:type=\"simple\"><rect fill=\"#FFFFFF\" height=\"171.5\" id=\"E3\" style=\"stroke: #383838; stroke-width: 1.5;\" width=\"246\" x=\"98\" y=\"63\"/><rect fill=\"#F8F8F8\" height=\"37.9375\" style=\"stroke: #383838; stroke-width: 1.5;\" width=\"246\" x=\"98\" y=\"63\"/><text fill=\"#000000\" font-family=\"sans-serif\" font-size=\"12\" font-style=\"italic\" lengthAdjust=\"spacingAndGlyphs\" textLength=\"68\" x=\"187\" y=\"79.1387\">«part  def»</text><text fill=\"#000000\" font-family=\"sans-serif\" font-size=\"12\" lengthAdjust=\"spacingAndGlyphs\" textLength=\"8\" x=\"217\" y=\"93.1074\">A</text></a><!--MD5=[55dfccfc6c49c2d10cd1bd2211a6c90c]\n",
       "cluster E8--><a href=\"psysml:286e6ef4-92d4-4c1b-a17d-09881da7698b\" target=\"_top\" title=\"psysml:286e6ef4-92d4-4c1b-a17d-09881da7698b\" xlink:actuate=\"onRequest\" xlink:href=\"psysml:286e6ef4-92d4-4c1b-a17d-09881da7698b\" xlink:show=\"new\" xlink:title=\"psysml:286e6ef4-92d4-4c1b-a17d-09881da7698b\" xlink:type=\"simple\"><rect fill=\"#FFFFFF\" height=\"206\" id=\"E8\" style=\"stroke: #383838; stroke-width: 1.5;\" width=\"225\" x=\"368\" y=\"187.5\"/><rect fill=\"#F8F8F8\" height=\"37.9375\" style=\"stroke: #383838; stroke-width: 1.5;\" width=\"225\" x=\"368\" y=\"187.5\"/><text fill=\"#000000\" font-family=\"sans-serif\" font-size=\"12\" font-style=\"italic\" lengthAdjust=\"spacingAndGlyphs\" textLength=\"68\" x=\"446.5\" y=\"203.6387\">«part  def»</text><text fill=\"#000000\" font-family=\"sans-serif\" font-size=\"12\" font-style=\"italic\" lengthAdjust=\"spacingAndGlyphs\" textLength=\"8\" x=\"476.5\" y=\"217.6074\">B</text></a><g id=\"E1.E12\"><a href=\"psysml:3d6805d2-0d33-47df-af88-6771a9177656\" target=\"_top\" title=\"psysml:3d6805d2-0d33-47df-af88-6771a9177656\" xlink:actuate=\"onRequest\" xlink:href=\"psysml:3d6805d2-0d33-47df-af88-6771a9177656\" xlink:show=\"new\" xlink:title=\"psysml:3d6805d2-0d33-47df-af88-6771a9177656\" xlink:type=\"simple\"><rect fill=\"#FFFFFF\" height=\"42.9375\" id=\"E12\" style=\"stroke: #383838; stroke-width: 1.5;\" width=\"75\" x=\"442.5\" y=\"41.5\"/><rect fill=\"#F8F8F8\" height=\"37.9375\" style=\"stroke: #383838; stroke-width: 1.5;\" width=\"75\" x=\"442.5\" y=\"41.5\"/><text fill=\"#000000\" font-family=\"sans-serif\" font-size=\"12\" font-style=\"italic\" lengthAdjust=\"spacingAndGlyphs\" textLength=\"68\" x=\"446\" y=\"57.6387\">«port  def»</text><text fill=\"#000000\" font-family=\"sans-serif\" font-size=\"12\" lengthAdjust=\"spacingAndGlyphs\" textLength=\"8\" x=\"476\" y=\"71.6074\">C</text></a></g><g id=\"E1.E2\"><a href=\"psysml:2c090466-3d5c-4444-ba17-090921dc2443\" target=\"_top\" title=\"psysml:2c090466-3d5c-4444-ba17-090921dc2443\" xlink:actuate=\"onRequest\" xlink:href=\"psysml:2c090466-3d5c-4444-ba17-090921dc2443\" xlink:show=\"new\" xlink:title=\"psysml:2c090466-3d5c-4444-ba17-090921dc2443\" xlink:type=\"simple\"><rect fill=\"#FFFFFF\" height=\"40\" id=\"E2\" rx=\"10\" ry=\"10\" style=\"stroke: #383838; stroke-width: 1.5;\" width=\"50\" x=\"32\" y=\"43\"/><rect fill=\"#F8F8F8\" height=\"23.9688\" rx=\"10\" ry=\"10\" style=\"stroke: #F8F8F8; stroke-width: 1.5;\" width=\"50\" x=\"32\" y=\"43\"/><rect fill=\"#F8F8F8\" height=\"10\" style=\"stroke: #F8F8F8; stroke-width: 1.5;\" width=\"50\" x=\"32\" y=\"56.9688\"/><rect fill=\"none\" height=\"40\" id=\"E2\" rx=\"10\" ry=\"10\" style=\"stroke: #383838; stroke-width: 1.5;\" width=\"50\" x=\"32\" y=\"43\"/><text fill=\"#000000\" font-family=\"sans-serif\" font-size=\"12\" lengthAdjust=\"spacingAndGlyphs\" textLength=\"20\" x=\"47\" y=\"59.1387\">f: A</text></a></g><text fill=\"#000000\" font-family=\"sans-serif\" font-size=\"14\" lengthAdjust=\"spacingAndGlyphs\" textLength=\"27\" x=\"258.5\" y=\"41.6982\">c: C</text><rect fill=\"#383838\" height=\"12\" style=\"stroke: #F8F8F8; stroke-width: 1.5;\" width=\"12\" x=\"268\" y=\"57\"/><!--MD5=[60a26617385b1d2d0262a64233df1f8d]\n",
       "class E6--><a href=\"psysml:06f02a55-455e-4cd3-969d-a4f55ea12e51\" target=\"_top\" title=\"psysml:06f02a55-455e-4cd3-969d-a4f55ea12e51\" xlink:actuate=\"onRequest\" xlink:href=\"psysml:06f02a55-455e-4cd3-969d-a4f55ea12e51\" xlink:show=\"new\" xlink:title=\"psysml:06f02a55-455e-4cd3-969d-a4f55ea12e51\" xlink:type=\"simple\"><rect fill=\"#FFFFFF\" height=\"45.9375\" id=\"E6\" rx=\"10\" ry=\"10\" style=\"stroke: #383838; stroke-width: 1.5;\" width=\"71\" x=\"122.5\" y=\"164.5\"/><text fill=\"#000000\" font-family=\"sans-serif\" font-size=\"12\" font-style=\"italic\" lengthAdjust=\"spacingAndGlyphs\" textLength=\"69\" x=\"123.5\" y=\"180.6387\">«attribute»</text><text fill=\"#000000\" font-family=\"sans-serif\" font-size=\"12\" lengthAdjust=\"spacingAndGlyphs\" textLength=\"6\" x=\"153\" y=\"194.6074\">x</text><line style=\"stroke: #383838; stroke-width: 1.5;\" x1=\"123.5\" x2=\"192.5\" y1=\"202.4375\" y2=\"202.4375\"/></a><!--MD5=[2156ba9850f5573cc1fc38a6a4b2f02b]\n",
       "class E7--><a href=\"psysml:76b35b38-8c6d-4280-8e5f-8b677c2aa039\" target=\"_top\" title=\"psysml:76b35b38-8c6d-4280-8e5f-8b677c2aa039\" xlink:actuate=\"onRequest\" xlink:href=\"psysml:76b35b38-8c6d-4280-8e5f-8b677c2aa039\" xlink:show=\"new\" xlink:title=\"psysml:76b35b38-8c6d-4280-8e5f-8b677c2aa039\" xlink:type=\"simple\"><rect fill=\"#FFFFFF\" height=\"45.9375\" id=\"E7\" rx=\"10\" ry=\"10\" style=\"stroke: #383838; stroke-width: 1.5;\" width=\"71\" x=\"122.5\" y=\"108.5\"/><text fill=\"#000000\" font-family=\"sans-serif\" font-size=\"12\" font-style=\"italic\" lengthAdjust=\"spacingAndGlyphs\" textLength=\"69\" x=\"123.5\" y=\"124.6387\">«attribute»</text><text fill=\"#000000\" font-family=\"sans-serif\" font-size=\"12\" lengthAdjust=\"spacingAndGlyphs\" textLength=\"50\" x=\"133\" y=\"138.6074\">y :&gt; A::x</text><line style=\"stroke: #383838; stroke-width: 1.5;\" x1=\"123.5\" x2=\"192.5\" y1=\"146.4375\" y2=\"146.4375\"/></a><g id=\"E1.E3.E4\"><a href=\"psysml:1aa2f075-dfbc-4c28-975e-f9b78ce76d6b\" target=\"_top\" title=\"psysml:1aa2f075-dfbc-4c28-975e-f9b78ce76d6b\" xlink:actuate=\"onRequest\" xlink:href=\"psysml:1aa2f075-dfbc-4c28-975e-f9b78ce76d6b\" xlink:show=\"new\" xlink:title=\"psysml:1aa2f075-dfbc-4c28-975e-f9b78ce76d6b\" xlink:type=\"simple\"><rect fill=\"#FFFFFF\" height=\"40\" id=\"E4\" rx=\"10\" ry=\"10\" style=\"stroke: #383838; stroke-width: 1.5;\" width=\"50\" x=\"259\" y=\"167.5\"/><rect fill=\"#F8F8F8\" height=\"23.9688\" rx=\"10\" ry=\"10\" style=\"stroke: #F8F8F8; stroke-width: 1.5;\" width=\"50\" x=\"259\" y=\"167.5\"/><rect fill=\"#F8F8F8\" height=\"10\" style=\"stroke: #F8F8F8; stroke-width: 1.5;\" width=\"50\" x=\"259\" y=\"181.4688\"/><rect fill=\"none\" height=\"40\" id=\"E4\" rx=\"10\" ry=\"10\" style=\"stroke: #383838; stroke-width: 1.5;\" width=\"50\" x=\"259\" y=\"167.5\"/><text fill=\"#000000\" font-family=\"sans-serif\" font-size=\"12\" lengthAdjust=\"spacingAndGlyphs\" textLength=\"24\" x=\"272\" y=\"183.6387\">b: B</text></a></g><text fill=\"#000000\" font-family=\"sans-serif\" font-size=\"14\" lengthAdjust=\"spacingAndGlyphs\" textLength=\"38\" x=\"502\" y=\"166.1982\">x: ~C</text><rect fill=\"#383838\" height=\"12\" style=\"stroke: #F8F8F8; stroke-width: 1.5;\" width=\"12\" x=\"517\" y=\"181.5\"/><g id=\"E1.E8.E9\"><a href=\"psysml:215e87e2-ee75-46c7-98ea-4ce8794cdbad\" target=\"_top\" title=\"psysml:215e87e2-ee75-46c7-98ea-4ce8794cdbad\" xlink:actuate=\"onRequest\" xlink:href=\"psysml:215e87e2-ee75-46c7-98ea-4ce8794cdbad\" xlink:show=\"new\" xlink:title=\"psysml:215e87e2-ee75-46c7-98ea-4ce8794cdbad\" xlink:type=\"simple\"><rect fill=\"#FFFFFF\" height=\"40\" id=\"E9\" rx=\"10\" ry=\"10\" style=\"stroke: #383838; stroke-width: 1.5;\" width=\"50\" x=\"392\" y=\"266.5\"/><rect fill=\"#F8F8F8\" height=\"23.9688\" rx=\"10\" ry=\"10\" style=\"stroke: #F8F8F8; stroke-width: 1.5;\" width=\"50\" x=\"392\" y=\"266.5\"/><rect fill=\"#F8F8F8\" height=\"10\" style=\"stroke: #F8F8F8; stroke-width: 1.5;\" width=\"50\" x=\"392\" y=\"280.4688\"/><rect fill=\"none\" height=\"40\" id=\"E9\" rx=\"10\" ry=\"10\" style=\"stroke: #383838; stroke-width: 1.5;\" width=\"50\" x=\"392\" y=\"266.5\"/><text fill=\"#000000\" font-family=\"sans-serif\" font-size=\"12\" lengthAdjust=\"spacingAndGlyphs\" textLength=\"24\" x=\"405\" y=\"282.6387\">a: A</text></a></g><a href=\"psysml:e555f4d2-547d-4756-8b33-5fda3be7b359\" target=\"_top\" title=\"psysml:e555f4d2-547d-4756-8b33-5fda3be7b359\" xlink:actuate=\"onRequest\" xlink:href=\"psysml:e555f4d2-547d-4756-8b33-5fda3be7b359\" xlink:show=\"new\" xlink:title=\"psysml:e555f4d2-547d-4756-8b33-5fda3be7b359\" xlink:type=\"simple\"><polygon fill=\"#FFFFFF\" points=\"508.5,316.5,523.5,316.5,530.5,338.7969,537.5,338.7969,537.5,369.0938,508.5,369.0938,508.5,316.5\" style=\"stroke: #000000; stroke-width: 1.5;\"/><line style=\"stroke: #000000; stroke-width: 1.5;\" x1=\"508.5\" x2=\"530.5\" y1=\"338.7969\" y2=\"338.7969\"/><text fill=\"#000000\" font-family=\"sans-serif\" font-size=\"14\" font-weight=\"bold\" lengthAdjust=\"spacingAndGlyphs\" textLength=\"9\" x=\"512.5\" y=\"331.4951\">P</text></a><!--MD5=[2720a5a1f2c3fca2055b230370638851]\n",
       "link E2 to E3--><a href=\"psysml:02703352-f69e-4a4b-893d-89c09588fdfd\" target=\"_top\" title=\"psysml:02703352-f69e-4a4b-893d-89c09588fdfd\" xlink:actuate=\"onRequest\" xlink:href=\"psysml:02703352-f69e-4a4b-893d-89c09588fdfd\" xlink:show=\"new\" xlink:title=\"psysml:02703352-f69e-4a4b-893d-89c09588fdfd\" xlink:type=\"simple\"><path d=\"M82.01,79.54 C86.61,82.4 90,84.5 90,84.5 C90,84.5 91.8906,84.625 95.1992,84.8438 C96.0264,84.8984 96.9421,84.959 97.9391,85.0249 \" fill=\"none\" id=\"E2-&gt;E3\" style=\"stroke: #383838; stroke-width: 1.0;\"/><polygon fill=\"#FFFFFF\" points=\"97.9391,85.0249,78.5187,90.7562,79.4423,76.7867,97.9391,85.0249\" style=\"stroke: #383838; stroke-width: 1.0;\"/><ellipse cx=\"72.9631\" cy=\"88.3845\" fill=\"#383838\" rx=\"2\" ry=\"2\" style=\"stroke: #383838; stroke-width: 1.0;\"/><ellipse cx=\"73.6228\" cy=\"78.4063\" fill=\"#383838\" rx=\"2\" ry=\"2\" style=\"stroke: #383838; stroke-width: 1.0;\"/></a><!--MD5=[353cdda3e1e05fc02373f055b6f604ae]\n",
       "link E4 to E8--><a href=\"psysml:6f8c5931-99ab-4f3d-9640-f9d86b709835\" target=\"_top\" title=\"psysml:6f8c5931-99ab-4f3d-9640-f9d86b709835\" xlink:actuate=\"onRequest\" xlink:href=\"psysml:6f8c5931-99ab-4f3d-9640-f9d86b709835\" xlink:show=\"new\" xlink:title=\"psysml:6f8c5931-99ab-4f3d-9640-f9d86b709835\" xlink:type=\"simple\"><path d=\"M309.31,206.48 C331.42,222.19 360,242.5 360,242.5 C360,242.5 361.5625,242.625 364.2969,242.8438 C364.9805,242.8984 365.7373,242.959 366.5613,243.0249 C366.9733,243.0579 367.402,243.0922 367.8468,243.1277 \" fill=\"none\" id=\"E4-&gt;E8\" style=\"stroke: #383838; stroke-width: 1.0;\"/><polygon fill=\"#FFFFFF\" points=\"367.8468,243.1277,348.3491,248.5903,349.4656,234.6349,367.8468,243.1277\" style=\"stroke: #383838; stroke-width: 1.0;\"/><ellipse cx=\"342.8268\" cy=\"246.1421\" fill=\"#383838\" rx=\"2\" ry=\"2\" style=\"stroke: #383838; stroke-width: 1.0;\"/><ellipse cx=\"343.6242\" cy=\"236.174\" fill=\"#383838\" rx=\"2\" ry=\"2\" style=\"stroke: #383838; stroke-width: 1.0;\"/></a><!--MD5=[fbb449814971db3a0b8220cf225b9e01]\n",
       "link E7 to E6--><a href=\"psysml:ae54614b-4129-4b1b-b401-8ec489119004\" target=\"_top\" title=\"psysml:ae54614b-4129-4b1b-b401-8ec489119004\" xlink:actuate=\"onRequest\" xlink:href=\"psysml:ae54614b-4129-4b1b-b401-8ec489119004\" xlink:show=\"new\" xlink:title=\"psysml:ae54614b-4129-4b1b-b401-8ec489119004\" xlink:type=\"simple\"><path d=\"M158,154.78 C158,154.87 158,154.97 158,155.07 \" fill=\"none\" id=\"E7-&gt;E6\" style=\"stroke: #383838; stroke-width: 1.0;\"/><polygon fill=\"none\" points=\"165,144.28,158,164.28,151,144.28,165,144.28\" style=\"stroke: #383838; stroke-width: 1.0;\"/></a><!--MD5=[92a97fc68b0cf8efbbf01f4f6b4ceef7]\n",
       "link E9 to E3--><a href=\"psysml:d4047a87-2764-4bb9-9711-6fad77bbdb97\" target=\"_top\" title=\"psysml:d4047a87-2764-4bb9-9711-6fad77bbdb97\" xlink:actuate=\"onRequest\" xlink:href=\"psysml:d4047a87-2764-4bb9-9711-6fad77bbdb97\" xlink:show=\"new\" xlink:title=\"psysml:d4047a87-2764-4bb9-9711-6fad77bbdb97\" xlink:type=\"simple\"><path d=\"M402.74,266.33 C390.05,249.27 371.115,223.8125 355.3525,202.62 C351.4119,197.3219 347.6695,192.2903 344.2726,187.7232 \" fill=\"none\" id=\"E9-&gt;E3\" style=\"stroke: #383838; stroke-width: 1.0;\"/><polygon fill=\"#FFFFFF\" points=\"344.2726,187.7232,361.2285,198.791,349.995,207.1462,344.2726,187.7232\" style=\"stroke: #383838; stroke-width: 1.0;\"/><ellipse cx=\"363.0255\" cy=\"204.5583\" fill=\"#383838\" rx=\"2\" ry=\"2\" style=\"stroke: #383838; stroke-width: 1.0;\"/><ellipse cx=\"355.0015\" cy=\"210.5262\" fill=\"#383838\" rx=\"2\" ry=\"2\" style=\"stroke: #383838; stroke-width: 1.0;\"/></a><!--MD5=[b6e57bad3f5ebfcec7d25bb5b38fb912]\n",
       "@startuml\r\n",
       "skinparam ranksep 10\r\n",
       "skinparam rectangle {\r\n",
       " backgroundColor<<block>> LightGreen\r\n",
       "}\r\n",
       "skinparam linetype polyline\r\n",
       "skinparam monochrome true\r\n",
       "skinparam classbackgroundcolor white\r\n",
       "skinparam shadowing false\r\n",
       "skinparam wrapWidth 300\r\n",
       "hide circle\r\n",
       "\r\n",
       "package \"PartTest\" as E1  [[psysml:538b1265-15ae-4afd-8dd2-ef0f57b41a53 ]]  {\r\n",
       "rec usage \"f: A\" as E2  [[psysml:2c090466-3d5c-4444-ba17-090921dc2443 ]] {\r\n",
       "}\r\n",
       "rec def \"A\" as E3  <<(T,blue) part  def>> [[psysml:d1b7cfcb-f6eb-4e6c-b82e-69976e6757f6 ]] {\r\n",
       "rec usage \"b: B\" as E4  [[psysml:1aa2f075-dfbc-4c28-975e-f9b78ce76d6b ]] {\r\n",
       "}\r\n",
       "portin \"c: C \" as E5  <<(T,blue) port>> [[psysml:6b6fc427-035b-4f92-af2f-ae5f46ec13e5 ]] \r\n",
       "comp usage \"x \" as E6  <<(T,blue) attribute>> [[psysml:06f02a55-455e-4cd3-969d-a4f55ea12e51 ]] {\r\n",
       "}\r\n",
       "comp usage \"y :> A::x\" as E7  <<(T,blue) attribute>> [[psysml:76b35b38-8c6d-4280-8e5f-8b677c2aa039 ]] {\r\n",
       "}\r\n",
       "}\r\n",
       "rec def \"<i>B</i>\" as E8  <<(T,blue) part  def>> [[psysml:286e6ef4-92d4-4c1b-a17d-09881da7698b ]] {\r\n",
       "rec usage \"a: A\" as E9  [[psysml:215e87e2-ee75-46c7-98ea-4ce8794cdbad ]] {\r\n",
       "}\r\n",
       "portin \"x: ~C \" as E10  <<(T,blue) port>> [[psysml:27d37788-2b75-4a5c-b4fe-9553c2483e93 ]] \r\n",
       "package \"P\" as E11  [[psysml:e555f4d2-547d-4756-8b33-5fda3be7b359 ]]  {\r\n",
       "}\r\n",
       "}\r\n",
       "def \"C\" as E12  <<(T,blue) port  def>> [[psysml:3d6805d2-0d33-47df-af88-6771a9177656 ]] \r\n",
       "}\r\n",
       "E2 - -:|> E3 [[psysml:02703352-f69e-4a4b-893d-89c09588fdfd ]] \r\n",
       "E4 - -:|> E8 [[psysml:6f8c5931-99ab-4f3d-9640-f9d86b709835 ]] \r\n",
       "E7 - -|> E6 [[psysml:ae54614b-4129-4b1b-b401-8ec489119004 ]] \r\n",
       "E9 - -:|> E3 [[psysml:d4047a87-2764-4bb9-9711-6fad77bbdb97 ]] \r\n",
       "@enduml\r\n",
       "\n",
       "PlantUML version 1.2020.13(Sat Jun 13 12:26:38 UTC 2020)\n",
       "(EPL source distribution)\n",
       "Java Runtime: OpenJDK Runtime Environment\n",
       "JVM: OpenJDK 64-Bit Server VM\n",
       "Default Encoding: UTF-8\n",
       "Language: en\n",
       "Country: null\n",
       "--></g></svg>"
      ]
     },
     "execution_count": 12,
     "metadata": {},
     "output_type": "execute_result"
    }
   ],
   "source": [
    "%viz --style=\"POLYLINE\" --view=\"Interconnection\" \"PartTest\""
   ]
  },
  {
   "cell_type": "code",
   "execution_count": 13,
   "id": "83aa233c",
   "metadata": {
    "execution": {
     "iopub.execute_input": "2022-05-19T08:45:11.881435Z",
     "iopub.status.busy": "2022-05-19T08:45:11.881140Z",
     "iopub.status.idle": "2022-05-19T08:45:11.886361Z",
     "shell.execute_reply": "2022-05-19T08:45:11.886531Z"
    }
   },
   "outputs": [
    {
     "data": {
      "image/svg+xml": [
       "<?xml version=\"1.0\" encoding=\"UTF-8\" standalone=\"no\"?><svg xmlns=\"http://www.w3.org/2000/svg\" xmlns:xlink=\"http://www.w3.org/1999/xlink\" contentScriptType=\"application/ecmascript\" contentStyleType=\"text/css\" height=\"12px\" preserveAspectRatio=\"none\" style=\"width:12px;height:12px;\" version=\"1.1\" viewBox=\"0 0 12 12\" width=\"12px\" zoomAndPan=\"magnify\"><defs/><g><!--MD5=[97bbf32f66ccd50cbc40d92ea8f5a65e]\n",
       "@startuml\r\n",
       "skinparam ranksep 8\r\n",
       "skinparam linetype polyline\r\n",
       "skinparam monochrome true\r\n",
       "skinparam classbackgroundcolor white\r\n",
       "skinparam shadowing false\r\n",
       "skinparam wrapWidth 300\r\n",
       "hide circle\r\n",
       "\r\n",
       "@enduml\r\n",
       "\n",
       "PlantUML version 1.2020.13(Sat Jun 13 12:26:38 UTC 2020)\n",
       "(EPL source distribution)\n",
       "Java Runtime: OpenJDK Runtime Environment\n",
       "JVM: OpenJDK 64-Bit Server VM\n",
       "Default Encoding: UTF-8\n",
       "Language: en\n",
       "Country: null\n",
       "--></g></svg>"
      ]
     },
     "execution_count": 13,
     "metadata": {},
     "output_type": "execute_result"
    }
   ],
   "source": [
    "%viz --style=\"POLYLINE\" --view=\"Action\" \"PartTest\""
   ]
  },
  {
   "cell_type": "code",
   "execution_count": 14,
   "id": "d09a71ed",
   "metadata": {
    "execution": {
     "iopub.execute_input": "2022-05-19T08:45:11.937431Z",
     "iopub.status.busy": "2022-05-19T08:45:11.936962Z",
     "iopub.status.idle": "2022-05-19T08:45:11.942649Z",
     "shell.execute_reply": "2022-05-19T08:45:11.943018Z"
    }
   },
   "outputs": [
    {
     "data": {
      "image/svg+xml": [
       "<?xml version=\"1.0\" encoding=\"UTF-8\" standalone=\"no\"?><svg xmlns=\"http://www.w3.org/2000/svg\" xmlns:xlink=\"http://www.w3.org/1999/xlink\" contentScriptType=\"application/ecmascript\" contentStyleType=\"text/css\" height=\"12px\" preserveAspectRatio=\"none\" style=\"width:12px;height:12px;\" version=\"1.1\" viewBox=\"0 0 12 12\" width=\"12px\" zoomAndPan=\"magnify\"><defs/><g><!--MD5=[dc938048236c351797870c36b62f92ad]\n",
       "@startuml\r\n",
       "skinparam roundcorner 20\r\n",
       "skinparam BoxPadding 20\r\n",
       "skinparam SequenceBoxBackgroundColor #white\r\n",
       "skinparam style strictuml\r\n",
       "skinparam maxMessageSize 100\r\n",
       "skinparam linetype polyline\r\n",
       "skinparam monochrome true\r\n",
       "skinparam classbackgroundcolor white\r\n",
       "skinparam shadowing false\r\n",
       "skinparam wrapWidth 300\r\n",
       "hide circle\r\n",
       "\r\n",
       "@enduml\r\n",
       "\n",
       "PlantUML version 1.2020.13(Sat Jun 13 12:26:38 UTC 2020)\n",
       "(EPL source distribution)\n",
       "Java Runtime: OpenJDK Runtime Environment\n",
       "JVM: OpenJDK 64-Bit Server VM\n",
       "Default Encoding: UTF-8\n",
       "Language: en\n",
       "Country: null\n",
       "--></g></svg>"
      ]
     },
     "execution_count": 14,
     "metadata": {},
     "output_type": "execute_result"
    }
   ],
   "source": [
    "%viz --style=\"POLYLINE\" --view=\"Sequence\" \"PartTest\""
   ]
  },
  {
   "cell_type": "code",
   "execution_count": 15,
   "id": "e0b68de6",
   "metadata": {
    "execution": {
     "iopub.execute_input": "2022-05-19T08:45:11.993099Z",
     "iopub.status.busy": "2022-05-19T08:45:11.992592Z",
     "iopub.status.idle": "2022-05-19T08:45:12.075714Z",
     "shell.execute_reply": "2022-05-19T08:45:12.075308Z"
    }
   },
   "outputs": [
    {
     "data": {
      "image/svg+xml": [
       "<?xml version=\"1.0\" encoding=\"UTF-8\" standalone=\"no\"?><svg xmlns=\"http://www.w3.org/2000/svg\" xmlns:xlink=\"http://www.w3.org/1999/xlink\" contentScriptType=\"application/ecmascript\" contentStyleType=\"text/css\" height=\"790px\" preserveAspectRatio=\"none\" style=\"width:265px;height:790px;\" version=\"1.1\" viewBox=\"0 0 265 790\" width=\"265px\" zoomAndPan=\"magnify\"><defs/><g><!--MD5=[fbc87193dbaf4d95561dea2c320d4a47]\n",
       "cluster E1--><a href=\"psysml:538b1265-15ae-4afd-8dd2-ef0f57b41a53\" target=\"_top\" title=\"psysml:538b1265-15ae-4afd-8dd2-ef0f57b41a53\" xlink:actuate=\"onRequest\" xlink:href=\"psysml:538b1265-15ae-4afd-8dd2-ef0f57b41a53\" xlink:show=\"new\" xlink:title=\"psysml:538b1265-15ae-4afd-8dd2-ef0f57b41a53\" xlink:type=\"simple\"><polygon fill=\"#FFFFFF\" points=\"16,6,80,6,87,28.2969,243,28.2969,243,778,16,778,16,6\" style=\"stroke: #000000; stroke-width: 1.5;\"/><line style=\"stroke: #000000; stroke-width: 1.5;\" x1=\"16\" x2=\"87\" y1=\"28.2969\" y2=\"28.2969\"/><text fill=\"#000000\" font-family=\"sans-serif\" font-size=\"14\" font-weight=\"bold\" lengthAdjust=\"spacingAndGlyphs\" textLength=\"58\" x=\"20\" y=\"20.9951\">PartTest</text></a><!--MD5=[b4997ac47864f28c2f74865a473b2911]\n",
       "class E2--><a href=\"psysml:2c090466-3d5c-4444-ba17-090921dc2443\" target=\"_top\" title=\"psysml:2c090466-3d5c-4444-ba17-090921dc2443\" xlink:actuate=\"onRequest\" xlink:href=\"psysml:2c090466-3d5c-4444-ba17-090921dc2443\" xlink:show=\"new\" xlink:title=\"psysml:2c090466-3d5c-4444-ba17-090921dc2443\" xlink:type=\"simple\"><rect fill=\"#FFFFFF\" height=\"45.9375\" id=\"E2\" rx=\"10\" ry=\"10\" style=\"stroke: #383838; stroke-width: 1.5;\" width=\"42\" x=\"101\" y=\"41\"/><text fill=\"#000000\" font-family=\"sans-serif\" font-size=\"12\" font-style=\"italic\" lengthAdjust=\"spacingAndGlyphs\" textLength=\"40\" x=\"102\" y=\"57.1387\">«part»</text><text fill=\"#000000\" font-family=\"sans-serif\" font-size=\"12\" lengthAdjust=\"spacingAndGlyphs\" textLength=\"20\" x=\"110\" y=\"71.1074\">f: A</text><line style=\"stroke: #383838; stroke-width: 1.5;\" x1=\"102\" x2=\"142\" y1=\"78.9375\" y2=\"78.9375\"/></a><!--MD5=[09b614a08d8cba4a07c9adeb5e0fee81]\n",
       "class E3--><a href=\"psysml:d1b7cfcb-f6eb-4e6c-b82e-69976e6757f6\" target=\"_top\" title=\"psysml:d1b7cfcb-f6eb-4e6c-b82e-69976e6757f6\" xlink:actuate=\"onRequest\" xlink:href=\"psysml:d1b7cfcb-f6eb-4e6c-b82e-69976e6757f6\" xlink:show=\"new\" xlink:title=\"psysml:d1b7cfcb-f6eb-4e6c-b82e-69976e6757f6\" xlink:type=\"simple\"><rect fill=\"#FFFFFF\" height=\"88.3516\" id=\"E3\" style=\"stroke: #383838; stroke-width: 1.5;\" width=\"70\" x=\"87\" y=\"148\"/><text fill=\"#000000\" font-family=\"sans-serif\" font-size=\"12\" font-style=\"italic\" lengthAdjust=\"spacingAndGlyphs\" textLength=\"68\" x=\"88\" y=\"164.1387\">«part  def»</text><text fill=\"#000000\" font-family=\"sans-serif\" font-size=\"12\" lengthAdjust=\"spacingAndGlyphs\" textLength=\"8\" x=\"118\" y=\"178.1074\">A</text><line style=\"stroke: #383838; stroke-width: 1.5;\" x1=\"88\" x2=\"156\" y1=\"185.9375\" y2=\"185.9375\"/><text fill=\"#000000\" font-family=\"sans-serif\" font-size=\"11\" lengthAdjust=\"spacingAndGlyphs\" textLength=\"6\" x=\"93\" y=\"216.9526\">x</text><text fill=\"#000000\" font-family=\"sans-serif\" font-size=\"11\" lengthAdjust=\"spacingAndGlyphs\" textLength=\"44\" x=\"93\" y=\"229.7573\">y:&gt; A::x</text><line style=\"stroke: #383838; stroke-width: 1.0;\" x1=\"88\" x2=\"94.5\" y1=\"200.3398\" y2=\"200.3398\"/><text fill=\"#000000\" font-family=\"sans-serif\" font-size=\"11\" lengthAdjust=\"spacingAndGlyphs\" textLength=\"55\" x=\"94.5\" y=\"203.6479\">attributes</text><line style=\"stroke: #383838; stroke-width: 1.0;\" x1=\"149.5\" x2=\"156\" y1=\"200.3398\" y2=\"200.3398\"/></a><!--MD5=[ebbe1d658d1005bcc118a6aa81145e00]\n",
       "class E4--><a href=\"psysml:1aa2f075-dfbc-4c28-975e-f9b78ce76d6b\" target=\"_top\" title=\"psysml:1aa2f075-dfbc-4c28-975e-f9b78ce76d6b\" xlink:actuate=\"onRequest\" xlink:href=\"psysml:1aa2f075-dfbc-4c28-975e-f9b78ce76d6b\" xlink:show=\"new\" xlink:title=\"psysml:1aa2f075-dfbc-4c28-975e-f9b78ce76d6b\" xlink:type=\"simple\"><rect fill=\"#FFFFFF\" height=\"45.9375\" id=\"E4\" rx=\"10\" ry=\"10\" style=\"stroke: #383838; stroke-width: 1.5;\" width=\"42\" x=\"32\" y=\"373\"/><text fill=\"#000000\" font-family=\"sans-serif\" font-size=\"12\" font-style=\"italic\" lengthAdjust=\"spacingAndGlyphs\" textLength=\"40\" x=\"33\" y=\"389.1387\">«part»</text><text fill=\"#000000\" font-family=\"sans-serif\" font-size=\"12\" lengthAdjust=\"spacingAndGlyphs\" textLength=\"24\" x=\"39\" y=\"403.1074\">b: B</text><line style=\"stroke: #383838; stroke-width: 1.5;\" x1=\"33\" x2=\"73\" y1=\"410.9375\" y2=\"410.9375\"/></a><!--MD5=[270fce915f116d4de14055a7c1d9a0f3]\n",
       "class E5--><a href=\"psysml:6b6fc427-035b-4f92-af2f-ae5f46ec13e5\" target=\"_top\" title=\"psysml:6b6fc427-035b-4f92-af2f-ae5f46ec13e5\" xlink:actuate=\"onRequest\" xlink:href=\"psysml:6b6fc427-035b-4f92-af2f-ae5f46ec13e5\" xlink:show=\"new\" xlink:title=\"psysml:6b6fc427-035b-4f92-af2f-ae5f46ec13e5\" xlink:type=\"simple\"><rect fill=\"#FFFFFF\" height=\"45.9375\" id=\"E5\" rx=\"10\" ry=\"10\" style=\"stroke: #383838; stroke-width: 1.5;\" width=\"42\" x=\"148\" y=\"297\"/><text fill=\"#000000\" font-family=\"sans-serif\" font-size=\"12\" font-style=\"italic\" lengthAdjust=\"spacingAndGlyphs\" textLength=\"40\" x=\"149\" y=\"313.1387\">«port»</text><text fill=\"#000000\" font-family=\"sans-serif\" font-size=\"12\" lengthAdjust=\"spacingAndGlyphs\" textLength=\"23\" x=\"155.5\" y=\"327.1074\">c: C</text><line style=\"stroke: #383838; stroke-width: 1.5;\" x1=\"149\" x2=\"189\" y1=\"334.9375\" y2=\"334.9375\"/></a><!--MD5=[60a26617385b1d2d0262a64233df1f8d]\n",
       "class E6--><a href=\"psysml:286e6ef4-92d4-4c1b-a17d-09881da7698b\" target=\"_top\" title=\"psysml:286e6ef4-92d4-4c1b-a17d-09881da7698b\" xlink:actuate=\"onRequest\" xlink:href=\"psysml:286e6ef4-92d4-4c1b-a17d-09881da7698b\" xlink:show=\"new\" xlink:title=\"psysml:286e6ef4-92d4-4c1b-a17d-09881da7698b\" xlink:type=\"simple\"><rect fill=\"#FFFFFF\" height=\"45.9375\" id=\"E6\" style=\"stroke: #383838; stroke-width: 1.5;\" width=\"70\" x=\"100\" y=\"602\"/><text fill=\"#000000\" font-family=\"sans-serif\" font-size=\"12\" font-style=\"italic\" lengthAdjust=\"spacingAndGlyphs\" textLength=\"68\" x=\"101\" y=\"618.1387\">«part  def»</text><text fill=\"#000000\" font-family=\"sans-serif\" font-size=\"12\" font-style=\"italic\" lengthAdjust=\"spacingAndGlyphs\" textLength=\"8\" x=\"131\" y=\"632.1074\">B</text><line style=\"stroke: #383838; stroke-width: 1.5;\" x1=\"101\" x2=\"169\" y1=\"639.9375\" y2=\"639.9375\"/></a><!--MD5=[2156ba9850f5573cc1fc38a6a4b2f02b]\n",
       "class E7--><a href=\"psysml:215e87e2-ee75-46c7-98ea-4ce8794cdbad\" target=\"_top\" title=\"psysml:215e87e2-ee75-46c7-98ea-4ce8794cdbad\" xlink:actuate=\"onRequest\" xlink:href=\"psysml:215e87e2-ee75-46c7-98ea-4ce8794cdbad\" xlink:show=\"new\" xlink:title=\"psysml:215e87e2-ee75-46c7-98ea-4ce8794cdbad\" xlink:type=\"simple\"><rect fill=\"#FFFFFF\" height=\"45.9375\" id=\"E7\" rx=\"10\" ry=\"10\" style=\"stroke: #383838; stroke-width: 1.5;\" width=\"42\" x=\"185\" y=\"712.5\"/><text fill=\"#000000\" font-family=\"sans-serif\" font-size=\"12\" font-style=\"italic\" lengthAdjust=\"spacingAndGlyphs\" textLength=\"40\" x=\"186\" y=\"728.6387\">«part»</text><text fill=\"#000000\" font-family=\"sans-serif\" font-size=\"12\" font-style=\"italic\" lengthAdjust=\"spacingAndGlyphs\" textLength=\"8\" x=\"192\" y=\"742.6074\">a</text><text fill=\"#000000\" font-family=\"sans-serif\" font-size=\"12\" lengthAdjust=\"spacingAndGlyphs\" textLength=\"16\" x=\"200\" y=\"742.6074\">: A</text><line style=\"stroke: #383838; stroke-width: 1.5;\" x1=\"186\" x2=\"226\" y1=\"750.4375\" y2=\"750.4375\"/></a><!--MD5=[b9389687b975829384b498ac4b7476b2]\n",
       "class E8--><a href=\"psysml:27d37788-2b75-4a5c-b4fe-9553c2483e93\" target=\"_top\" title=\"psysml:27d37788-2b75-4a5c-b4fe-9553c2483e93\" xlink:actuate=\"onRequest\" xlink:href=\"psysml:27d37788-2b75-4a5c-b4fe-9553c2483e93\" xlink:show=\"new\" xlink:title=\"psysml:27d37788-2b75-4a5c-b4fe-9553c2483e93\" xlink:type=\"simple\"><rect fill=\"#FFFFFF\" height=\"45.9375\" id=\"E8\" rx=\"10\" ry=\"10\" style=\"stroke: #383838; stroke-width: 1.5;\" width=\"42\" x=\"43\" y=\"712.5\"/><text fill=\"#000000\" font-family=\"sans-serif\" font-size=\"12\" font-style=\"italic\" lengthAdjust=\"spacingAndGlyphs\" textLength=\"40\" x=\"44\" y=\"728.6387\">«port»</text><text fill=\"#000000\" font-family=\"sans-serif\" font-size=\"12\" lengthAdjust=\"spacingAndGlyphs\" textLength=\"32\" x=\"46\" y=\"742.6074\">x: ~C</text><line style=\"stroke: #383838; stroke-width: 1.5;\" x1=\"44\" x2=\"84\" y1=\"750.4375\" y2=\"750.4375\"/></a><!--MD5=[96f4274e9e20536e775497830990834d]\n",
       "class E10--><a href=\"psysml:3d6805d2-0d33-47df-af88-6771a9177656\" target=\"_top\" title=\"psysml:3d6805d2-0d33-47df-af88-6771a9177656\" xlink:actuate=\"onRequest\" xlink:href=\"psysml:3d6805d2-0d33-47df-af88-6771a9177656\" xlink:show=\"new\" xlink:title=\"psysml:3d6805d2-0d33-47df-af88-6771a9177656\" xlink:type=\"simple\"><rect fill=\"#FFFFFF\" height=\"75.5469\" id=\"E10\" style=\"stroke: #383838; stroke-width: 1.5;\" width=\"110\" x=\"80\" y=\"449\"/><text fill=\"#000000\" font-family=\"sans-serif\" font-size=\"12\" font-style=\"italic\" lengthAdjust=\"spacingAndGlyphs\" textLength=\"68\" x=\"101\" y=\"465.1387\">«port  def»</text><text fill=\"#000000\" font-family=\"sans-serif\" font-size=\"12\" lengthAdjust=\"spacingAndGlyphs\" textLength=\"8\" x=\"131\" y=\"479.1074\">C</text><line style=\"stroke: #383838; stroke-width: 1.5;\" x1=\"81\" x2=\"189\" y1=\"486.9375\" y2=\"486.9375\"/><text fill=\"#000000\" font-family=\"sans-serif\" font-size=\"11\" font-weight=\"bold\" lengthAdjust=\"spacingAndGlyphs\" textLength=\"10\" x=\"86\" y=\"517.9526\">in</text><text fill=\"#000000\" font-family=\"sans-serif\" font-size=\"11\" lengthAdjust=\"spacingAndGlyphs\" textLength=\"37\" x=\"100\" y=\"517.9526\">y: A, B</text><text fill=\"#000000\" font-family=\"sans-serif\" font-size=\"11\" font-weight=\"bold\" lengthAdjust=\"spacingAndGlyphs\" textLength=\"27\" x=\"141\" y=\"517.9526\">alias</text><text fill=\"#000000\" font-family=\"sans-serif\" font-size=\"11\" lengthAdjust=\"spacingAndGlyphs\" textLength=\"12\" x=\"172\" y=\"517.9526\">z2</text><line style=\"stroke: #383838; stroke-width: 1.0;\" x1=\"81\" x2=\"101.5\" y1=\"501.3398\" y2=\"501.3398\"/><text fill=\"#000000\" font-family=\"sans-serif\" font-size=\"11\" lengthAdjust=\"spacingAndGlyphs\" textLength=\"67\" x=\"101.5\" y=\"504.6479\">parameters</text><line style=\"stroke: #383838; stroke-width: 1.0;\" x1=\"168.5\" x2=\"189\" y1=\"501.3398\" y2=\"501.3398\"/></a><a href=\"psysml:e555f4d2-547d-4756-8b33-5fda3be7b359\" target=\"_top\" title=\"psysml:e555f4d2-547d-4756-8b33-5fda3be7b359\" xlink:actuate=\"onRequest\" xlink:href=\"psysml:e555f4d2-547d-4756-8b33-5fda3be7b359\" xlink:show=\"new\" xlink:title=\"psysml:e555f4d2-547d-4756-8b33-5fda3be7b359\" xlink:type=\"simple\"><polygon fill=\"#FFFFFF\" points=\"120.5,709,135.5,709,142.5,731.2969,149.5,731.2969,149.5,761.5938,120.5,761.5938,120.5,709\" style=\"stroke: #000000; stroke-width: 1.5;\"/><line style=\"stroke: #000000; stroke-width: 1.5;\" x1=\"120.5\" x2=\"142.5\" y1=\"731.2969\" y2=\"731.2969\"/><text fill=\"#000000\" font-family=\"sans-serif\" font-size=\"14\" font-weight=\"bold\" lengthAdjust=\"spacingAndGlyphs\" textLength=\"9\" x=\"124.5\" y=\"723.9951\">P</text></a><!--MD5=[2720a5a1f2c3fca2055b230370638851]\n",
       "link E2 to E3--><a href=\"psysml:02703352-f69e-4a4b-893d-89c09588fdfd\" target=\"_top\" title=\"psysml:02703352-f69e-4a4b-893d-89c09588fdfd\" xlink:actuate=\"onRequest\" xlink:href=\"psysml:02703352-f69e-4a4b-893d-89c09588fdfd\" xlink:show=\"new\" xlink:title=\"psysml:02703352-f69e-4a4b-893d-89c09588fdfd\" xlink:type=\"simple\"><path d=\"M122,87.24 C122,98.62 122,113.11 122,127.62 \" fill=\"none\" id=\"E2-&gt;E3\" style=\"stroke: #383838; stroke-width: 1.0;\"/><polygon fill=\"#FFFFFF\" points=\"122,147.84,115,128.84,129,128.84,122,147.84\" style=\"stroke: #383838; stroke-width: 1.0;\"/><ellipse cx=\"117\" cy=\"123.14\" fill=\"#383838\" rx=\"2\" ry=\"2\" style=\"stroke: #383838; stroke-width: 1.0;\"/><ellipse cx=\"127\" cy=\"123.14\" fill=\"#383838\" rx=\"2\" ry=\"2\" style=\"stroke: #383838; stroke-width: 1.0;\"/></a><!--MD5=[4672eba38e49728da53d11aeb285b987]\n",
       "reverse link E3 to E4--><a href=\"psysml:e82a868e-a957-4308-9aca-5f2e1a046a10\" target=\"_top\" title=\"psysml:e82a868e-a957-4308-9aca-5f2e1a046a10\" xlink:actuate=\"onRequest\" xlink:href=\"psysml:e82a868e-a957-4308-9aca-5f2e1a046a10\" xlink:show=\"new\" xlink:title=\"psysml:e82a868e-a957-4308-9aca-5f2e1a046a10\" xlink:type=\"simple\"><path d=\"M89.92,247.7 C75.21,272.77 61,297 61,297 C61,297 57.18,343.85 54.82,372.76 \" fill=\"none\" id=\"E3&lt;-E4\" style=\"stroke: #383838; stroke-width: 1.0;\"/><polygon fill=\"#383838\" points=\"96.66,236.2,90.1724,239.3482,90.5832,246.5476,97.0708,243.3994,96.66,236.2\" style=\"stroke: #383838; stroke-width: 1.0;\"/><text fill=\"#000000\" font-family=\"sans-serif\" font-size=\"13\" lengthAdjust=\"spacingAndGlyphs\" textLength=\"8\" x=\"46.2614\" y=\"361.9748\">1</text></a><!--MD5=[191cde3d490a3f6d7bb551fe3ddca469]\n",
       "reverse link E3 to E5--><a href=\"psysml:01f43deb-5863-4903-863e-c9a23e0a1180\" target=\"_top\" title=\"psysml:01f43deb-5863-4903-863e-c9a23e0a1180\" xlink:actuate=\"onRequest\" xlink:href=\"psysml:01f43deb-5863-4903-863e-c9a23e0a1180\" xlink:show=\"new\" xlink:title=\"psysml:01f43deb-5863-4903-863e-c9a23e0a1180\" xlink:type=\"simple\"><path d=\"M142.61,248.24 C148.98,265.32 155.64,283.18 160.68,296.68 \" fill=\"none\" id=\"E3&lt;-E5\" style=\"stroke: #383838; stroke-width: 1.0;\"/><polygon fill=\"#FFFFFF\" points=\"138.04,236.01,136.3879,243.0293,142.2318,247.2541,143.8839,240.2348,138.04,236.01\" style=\"stroke: #383838; stroke-width: 1.0;\"/><text fill=\"#000000\" font-family=\"sans-serif\" font-size=\"13\" lengthAdjust=\"spacingAndGlyphs\" textLength=\"8\" x=\"149.523\" y=\"285.8743\">1</text></a><!--MD5=[79568f1e445c3877b6a54524624ccc7d]\n",
       "link E4 to E6--><a href=\"psysml:6f8c5931-99ab-4f3d-9640-f9d86b709835\" target=\"_top\" title=\"psysml:6f8c5931-99ab-4f3d-9640-f9d86b709835\" xlink:actuate=\"onRequest\" xlink:href=\"psysml:6f8c5931-99ab-4f3d-9640-f9d86b709835\" xlink:show=\"new\" xlink:title=\"psysml:6f8c5931-99ab-4f3d-9640-f9d86b709835\" xlink:type=\"simple\"><path d=\"M54.72,419 C57.58,455.6 63,525 63,525 C63,525 86.6,557.46 106.78,585.2 \" fill=\"none\" id=\"E4-&gt;E6\" style=\"stroke: #383838; stroke-width: 1.0;\"/><polygon fill=\"#FFFFFF\" points=\"118.66,601.54,101.8189,590.2983,113.1377,582.0591,118.66,601.54\" style=\"stroke: #383838; stroke-width: 1.0;\"/><ellipse cx=\"100.0813\" cy=\"584.5129\" fill=\"#383838\" rx=\"2\" ry=\"2\" style=\"stroke: #383838; stroke-width: 1.0;\"/><ellipse cx=\"108.1662\" cy=\"578.6278\" fill=\"#383838\" rx=\"2\" ry=\"2\" style=\"stroke: #383838; stroke-width: 1.0;\"/></a><!--MD5=[3f50a3473f1dfb74d3f76443e03635af]\n",
       "reverse link E6 to E7--><a href=\"psysml:ef71999d-b74e-4e5c-b2f7-aebb94a9d32a\" target=\"_top\" title=\"psysml:ef71999d-b74e-4e5c-b2f7-aebb94a9d32a\" xlink:actuate=\"onRequest\" xlink:href=\"psysml:ef71999d-b74e-4e5c-b2f7-aebb94a9d32a\" xlink:show=\"new\" xlink:title=\"psysml:ef71999d-b74e-4e5c-b2f7-aebb94a9d32a\" xlink:type=\"simple\"><path d=\"M156.91,659.48 C168.15,676.66 181.53,697.11 191.48,712.31 \" fill=\"none\" id=\"E6&lt;-E7\" style=\"stroke: #383838; stroke-width: 1.0;\"/><polygon fill=\"#383838\" points=\"149.54,648.22,149.4851,655.4309,156.1201,658.255,156.1751,651.0441,149.54,648.22\" style=\"stroke: #383838; stroke-width: 1.0;\"/><text fill=\"#000000\" font-family=\"sans-serif\" font-size=\"13\" lengthAdjust=\"spacingAndGlyphs\" textLength=\"8\" x=\"178.7342\" y=\"701.5376\">1</text></a><!--MD5=[14ccda38c055a5c0da953d572bc50960]\n",
       "link E7 to E3--><a href=\"psysml:d4047a87-2764-4bb9-9711-6fad77bbdb97\" target=\"_top\" title=\"psysml:d4047a87-2764-4bb9-9711-6fad77bbdb97\" xlink:actuate=\"onRequest\" xlink:href=\"psysml:d4047a87-2764-4bb9-9711-6fad77bbdb97\" xlink:show=\"new\" xlink:title=\"psysml:d4047a87-2764-4bb9-9711-6fad77bbdb97\" xlink:type=\"simple\"><path d=\"M210.1,712.28 C215.95,680.54 226,626 226,626 C226,319 226,319 226,319 C226,319 208,297 208,297 C208,297 189.82,275.01 170.17,251.25 \" fill=\"none\" id=\"E7-&gt;E3\" style=\"stroke: #383838; stroke-width: 1.0;\"/><polygon fill=\"#FFFFFF\" points=\"157.23,235.6,174.7311,245.7838,163.9409,254.704,157.23,235.6\" style=\"stroke: #383838; stroke-width: 1.0;\"/><ellipse cx=\"176.8215\" cy=\"251.4513\" fill=\"#383838\" rx=\"2\" ry=\"2\" style=\"stroke: #383838; stroke-width: 1.0;\"/><ellipse cx=\"169.1141\" cy=\"257.8229\" fill=\"#383838\" rx=\"2\" ry=\"2\" style=\"stroke: #383838; stroke-width: 1.0;\"/></a><!--MD5=[f4cf0736d43fd73c4ef68817c49d37d5]\n",
       "reverse link E6 to E8--><a href=\"psysml:e9c4c173-85e4-4370-85e4-1c8f2eb4171b\" target=\"_top\" title=\"psysml:e9c4c173-85e4-4370-85e4-1c8f2eb4171b\" xlink:actuate=\"onRequest\" xlink:href=\"psysml:e9c4c173-85e4-4370-85e4-1c8f2eb4171b\" xlink:show=\"new\" xlink:title=\"psysml:e9c4c173-85e4-4370-85e4-1c8f2eb4171b\" xlink:type=\"simple\"><path d=\"M113.09,659.48 C101.85,676.66 88.47,697.11 78.52,712.31 \" fill=\"none\" id=\"E6&lt;-E8\" style=\"stroke: #383838; stroke-width: 1.0;\"/><polygon fill=\"#FFFFFF\" points=\"120.46,648.22,113.8249,651.0441,113.8799,658.255,120.5149,655.4309,120.46,648.22\" style=\"stroke: #383838; stroke-width: 1.0;\"/><text fill=\"#000000\" font-family=\"sans-serif\" font-size=\"13\" lengthAdjust=\"spacingAndGlyphs\" textLength=\"8\" x=\"73.2158\" y=\"701.5376\">1</text></a><!--MD5=[e88d06e5a652d73a6b19930eefe025a8]\n",
       "reverse link E6 to E9--><a href=\"psysml:ab2aae6d-159f-4d7a-a99e-78671a533366\" target=\"_top\" title=\"psysml:ab2aae6d-159f-4d7a-a99e-78671a533366\" xlink:actuate=\"onRequest\" xlink:href=\"psysml:ab2aae6d-159f-4d7a-a99e-78671a533366\" xlink:show=\"new\" xlink:title=\"psysml:ab2aae6d-159f-4d7a-a99e-78671a533366\" xlink:type=\"simple\"><path d=\"M135,663.49 C135,678.47 135,695.34 135,708.88 \" fill=\"none\" id=\"E6&lt;-E9\" style=\"stroke: #383838; stroke-width: 1.0;\"/><ellipse cx=\"135\" cy=\"656.22\" fill=\"#FFFFFF\" rx=\"8\" ry=\"8\" style=\"stroke: #383838; stroke-width: 1.0;\"/><line style=\"stroke: #383838; stroke-width: 1.0;\" x1=\"135\" x2=\"135\" y1=\"664.22\" y2=\"648.22\"/><line style=\"stroke: #383838; stroke-width: 1.0;\" x1=\"127\" x2=\"143\" y1=\"656.22\" y2=\"656.22\"/></a><!--MD5=[f78a29d5932556fa1060671a2a6507d8]\n",
       "link E5 to E10--><a href=\"psysml:09169cbe-938d-4307-a584-0b24a5ad62ce\" target=\"_top\" title=\"psysml:09169cbe-938d-4307-a584-0b24a5ad62ce\" xlink:actuate=\"onRequest\" xlink:href=\"psysml:09169cbe-938d-4307-a584-0b24a5ad62ce\" xlink:show=\"new\" xlink:title=\"psysml:09169cbe-938d-4307-a584-0b24a5ad62ce\" xlink:type=\"simple\"><path d=\"M164.41,343.25 C159.9,365.16 152.82,399.53 146.73,429.05 \" fill=\"none\" id=\"E5-&gt;E10\" style=\"stroke: #383838; stroke-width: 1.0;\"/><polygon fill=\"#FFFFFF\" points=\"142.63,448.98,139.6015,428.9593,153.3144,431.7799,142.63,448.98\" style=\"stroke: #383838; stroke-width: 1.0;\"/><ellipse cx=\"142.7089\" cy=\"423.7791\" fill=\"#383838\" rx=\"2\" ry=\"2\" style=\"stroke: #383838; stroke-width: 1.0;\"/><ellipse cx=\"152.5038\" cy=\"425.7938\" fill=\"#383838\" rx=\"2\" ry=\"2\" style=\"stroke: #383838; stroke-width: 1.0;\"/></a><!--MD5=[8e04057e7b3cbc0dca4fc78ea351e2da]\n",
       "reverse link E10 to E3--><a href=\"psysml:75696b56-911c-4e7f-a413-6399c7af4d3a\" target=\"_top\" title=\"psysml:75696b56-911c-4e7f-a413-6399c7af4d3a\" xlink:actuate=\"onRequest\" xlink:href=\"psysml:75696b56-911c-4e7f-a413-6399c7af4d3a\" xlink:show=\"new\" xlink:title=\"psysml:75696b56-911c-4e7f-a413-6399c7af4d3a\" xlink:type=\"simple\"><path d=\"M130.42,435.6 C126.67,394.42 122,343 122,343 C122,343 122,280.69 122,236.39 \" fill=\"none\" id=\"E10&lt;-E3\" style=\"stroke: #383838; stroke-width: 1.0;\"/><polygon fill=\"#FFFFFF\" points=\"131.62,448.8,135.0559,442.4601,130.5252,436.85,127.0893,443.1899,131.62,448.8\" style=\"stroke: #383838; stroke-width: 1.0;\"/><text fill=\"#000000\" font-family=\"sans-serif\" font-size=\"13\" lengthAdjust=\"spacingAndGlyphs\" textLength=\"7\" x=\"123\" y=\"324.5669\">y</text></a><!--MD5=[604cbf994c02b74b117f728a71673cea]\n",
       "reverse link E10 to E6--><a href=\"psysml:75696b56-911c-4e7f-a413-6399c7af4d3a\" target=\"_top\" title=\"psysml:75696b56-911c-4e7f-a413-6399c7af4d3a\" xlink:actuate=\"onRequest\" xlink:href=\"psysml:75696b56-911c-4e7f-a413-6399c7af4d3a\" xlink:show=\"new\" xlink:title=\"psysml:75696b56-911c-4e7f-a413-6399c7af4d3a\" xlink:type=\"simple\"><path d=\"M135,538.33 C135,560.16 135,584.6 135,601.77 \" fill=\"none\" id=\"E10&lt;-E6\" style=\"stroke: #383838; stroke-width: 1.0;\"/><polygon fill=\"#FFFFFF\" points=\"135,525.16,131,531.16,135,537.16,139,531.16,135,525.16\" style=\"stroke: #383838; stroke-width: 1.0;\"/><text fill=\"#000000\" font-family=\"sans-serif\" font-size=\"13\" lengthAdjust=\"spacingAndGlyphs\" textLength=\"7\" x=\"136\" y=\"568.0669\">y</text></a><!--MD5=[676b25701a9ed1fa2f175402cd8cc7c0]\n",
       "@startuml\r\n",
       "skinparam linetype polyline\r\n",
       "skinparam monochrome true\r\n",
       "skinparam classbackgroundcolor white\r\n",
       "skinparam shadowing false\r\n",
       "skinparam wrapWidth 300\r\n",
       "hide circle\r\n",
       "\r\n",
       "package \"PartTest\" as E1  [[psysml:538b1265-15ae-4afd-8dd2-ef0f57b41a53 ]]  {\r\n",
       "comp usage \"f: A \" as E2  <<(T,blue) part>> [[psysml:2c090466-3d5c-4444-ba17-090921dc2443 ]] {\r\n",
       "}\r\n",
       "comp def \"A\" as E3  <<(T,blue) part  def>> [[psysml:d1b7cfcb-f6eb-4e6c-b82e-69976e6757f6 ]] {\r\n",
       "- - attributes - -\r\n",
       "x\r\n",
       "y:> A::x\r\n",
       "}\r\n",
       "comp usage \"b: B \" as E4  <<(T,blue) part>> [[psysml:1aa2f075-dfbc-4c28-975e-f9b78ce76d6b ]] {\r\n",
       "}\r\n",
       "comp usage \"c: C \" as E5  <<(T,blue) port>> [[psysml:6b6fc427-035b-4f92-af2f-ae5f46ec13e5 ]] {\r\n",
       "}\r\n",
       "comp def \"<i>B</i>\" as E6  <<(T,blue) part  def>> [[psysml:286e6ef4-92d4-4c1b-a17d-09881da7698b ]] {\r\n",
       "}\r\n",
       "comp usage \"<i>a</i>: A \" as E7  <<(T,blue) part>> [[psysml:215e87e2-ee75-46c7-98ea-4ce8794cdbad ]] {\r\n",
       "}\r\n",
       "comp usage \"x: ~C \" as E8  <<(T,blue) port>> [[psysml:27d37788-2b75-4a5c-b4fe-9553c2483e93 ]] {\r\n",
       "}\r\n",
       "package \"P\" as E9  [[psysml:e555f4d2-547d-4756-8b33-5fda3be7b359 ]]  {\r\n",
       "}\r\n",
       "comp def \"C\" as E10  <<(T,blue) port  def>> [[psysml:3d6805d2-0d33-47df-af88-6771a9177656 ]] {\r\n",
       "- - parameters - -\r\n",
       "<b>in</b> y: A, B <b>alias</b> z2 \r\n",
       "}\r\n",
       "}\r\n",
       "E2 - -:|> E3 [[psysml:02703352-f69e-4a4b-893d-89c09588fdfd ]] \r\n",
       "E3 *- - \"1\"E4 [[psysml:e82a868e-a957-4308-9aca-5f2e1a046a10 ]] \r\n",
       "E3 o- - \"1\"E5 [[psysml:01f43deb-5863-4903-863e-c9a23e0a1180 ]] \r\n",
       "E4 - -:|> E6 [[psysml:6f8c5931-99ab-4f3d-9640-f9d86b709835 ]] \r\n",
       "E6 *- - \"1\"E7 [[psysml:ef71999d-b74e-4e5c-b2f7-aebb94a9d32a ]] \r\n",
       "E7 - -:|> E3 [[psysml:d4047a87-2764-4bb9-9711-6fad77bbdb97 ]] \r\n",
       "E6 o- - \"1\"E8 [[psysml:e9c4c173-85e4-4370-85e4-1c8f2eb4171b ]] \r\n",
       "E6 +- - E9 [[psysml:ab2aae6d-159f-4d7a-a99e-78671a533366 ]] \r\n",
       "E5 - -:|> E10 [[psysml:09169cbe-938d-4307-a584-0b24a5ad62ce ]] \r\n",
       "E10 o- - E3 [[psysml:75696b56-911c-4e7f-a413-6399c7af4d3a ]] : y\r\n",
       "E10 o- - E6 [[psysml:75696b56-911c-4e7f-a413-6399c7af4d3a ]] : y\r\n",
       "@enduml\r\n",
       "\n",
       "PlantUML version 1.2020.13(Sat Jun 13 12:26:38 UTC 2020)\n",
       "(EPL source distribution)\n",
       "Java Runtime: OpenJDK Runtime Environment\n",
       "JVM: OpenJDK 64-Bit Server VM\n",
       "Default Encoding: UTF-8\n",
       "Language: en\n",
       "Country: null\n",
       "--></g></svg>"
      ]
     },
     "execution_count": 15,
     "metadata": {},
     "output_type": "execute_result"
    }
   ],
   "source": [
    "%viz --style=\"POLYLINE\" --view=\"MIXED\" \"PartTest\""
   ]
  },
  {
   "cell_type": "code",
   "execution_count": 16,
   "id": "f059607e",
   "metadata": {
    "execution": {
     "iopub.execute_input": "2022-05-19T08:45:12.125758Z",
     "iopub.status.busy": "2022-05-19T08:45:12.125309Z",
     "iopub.status.idle": "2022-05-19T08:45:12.201015Z",
     "shell.execute_reply": "2022-05-19T08:45:12.199495Z"
    }
   },
   "outputs": [
    {
     "data": {
      "image/svg+xml": [
       "<?xml version=\"1.0\" encoding=\"UTF-8\" standalone=\"no\"?><svg xmlns=\"http://www.w3.org/2000/svg\" xmlns:xlink=\"http://www.w3.org/1999/xlink\" contentScriptType=\"application/ecmascript\" contentStyleType=\"text/css\" height=\"285px\" preserveAspectRatio=\"none\" style=\"width:800px;height:285px;\" version=\"1.1\" viewBox=\"0 0 800 285\" width=\"800px\" zoomAndPan=\"magnify\"><defs/><g><!--MD5=[fbc87193dbaf4d95561dea2c320d4a47]\n",
       "cluster E1--><a href=\"psysml:538b1265-15ae-4afd-8dd2-ef0f57b41a53\" target=\"_top\" title=\"psysml:538b1265-15ae-4afd-8dd2-ef0f57b41a53\" xlink:actuate=\"onRequest\" xlink:href=\"psysml:538b1265-15ae-4afd-8dd2-ef0f57b41a53\" xlink:show=\"new\" xlink:title=\"psysml:538b1265-15ae-4afd-8dd2-ef0f57b41a53\" xlink:type=\"simple\"><polygon fill=\"#FFFFFF\" points=\"16,6,80,6,87,28.2969,778,28.2969,778,273,16,273,16,6\" style=\"stroke: #000000; stroke-width: 1.5;\"/><line style=\"stroke: #000000; stroke-width: 1.5;\" x1=\"16\" x2=\"87\" y1=\"28.2969\" y2=\"28.2969\"/><text fill=\"#000000\" font-family=\"sans-serif\" font-size=\"14\" font-weight=\"bold\" lengthAdjust=\"spacingAndGlyphs\" textLength=\"58\" x=\"20\" y=\"20.9951\">PartTest</text></a><!--MD5=[b4997ac47864f28c2f74865a473b2911]\n",
       "class E2--><a href=\"psysml:2c090466-3d5c-4444-ba17-090921dc2443\" target=\"_top\" title=\"psysml:2c090466-3d5c-4444-ba17-090921dc2443\" xlink:actuate=\"onRequest\" xlink:href=\"psysml:2c090466-3d5c-4444-ba17-090921dc2443\" xlink:show=\"new\" xlink:title=\"psysml:2c090466-3d5c-4444-ba17-090921dc2443\" xlink:type=\"simple\"><rect fill=\"#FFFFFF\" height=\"45.9375\" id=\"E2\" rx=\"10\" ry=\"10\" style=\"stroke: #383838; stroke-width: 1.5;\" width=\"42\" x=\"32\" y=\"138\"/><text fill=\"#000000\" font-family=\"sans-serif\" font-size=\"12\" font-style=\"italic\" lengthAdjust=\"spacingAndGlyphs\" textLength=\"40\" x=\"33\" y=\"154.1387\">«part»</text><text fill=\"#000000\" font-family=\"sans-serif\" font-size=\"12\" lengthAdjust=\"spacingAndGlyphs\" textLength=\"20\" x=\"41\" y=\"168.1074\">f: A</text><line style=\"stroke: #383838; stroke-width: 1.5;\" x1=\"33\" x2=\"73\" y1=\"175.9375\" y2=\"175.9375\"/></a><!--MD5=[09b614a08d8cba4a07c9adeb5e0fee81]\n",
       "class E3--><a href=\"psysml:d1b7cfcb-f6eb-4e6c-b82e-69976e6757f6\" target=\"_top\" title=\"psysml:d1b7cfcb-f6eb-4e6c-b82e-69976e6757f6\" xlink:actuate=\"onRequest\" xlink:href=\"psysml:d1b7cfcb-f6eb-4e6c-b82e-69976e6757f6\" xlink:show=\"new\" xlink:title=\"psysml:d1b7cfcb-f6eb-4e6c-b82e-69976e6757f6\" xlink:type=\"simple\"><rect fill=\"#FFFFFF\" height=\"88.3516\" id=\"E3\" style=\"stroke: #383838; stroke-width: 1.5;\" width=\"70\" x=\"135\" y=\"117\"/><text fill=\"#000000\" font-family=\"sans-serif\" font-size=\"12\" font-style=\"italic\" lengthAdjust=\"spacingAndGlyphs\" textLength=\"68\" x=\"136\" y=\"133.1387\">«part  def»</text><text fill=\"#000000\" font-family=\"sans-serif\" font-size=\"12\" lengthAdjust=\"spacingAndGlyphs\" textLength=\"8\" x=\"166\" y=\"147.1074\">A</text><line style=\"stroke: #383838; stroke-width: 1.5;\" x1=\"136\" x2=\"204\" y1=\"154.9375\" y2=\"154.9375\"/><text fill=\"#000000\" font-family=\"sans-serif\" font-size=\"11\" lengthAdjust=\"spacingAndGlyphs\" textLength=\"6\" x=\"141\" y=\"185.9526\">x</text><text fill=\"#000000\" font-family=\"sans-serif\" font-size=\"11\" lengthAdjust=\"spacingAndGlyphs\" textLength=\"44\" x=\"141\" y=\"198.7573\">y:&gt; A::x</text><line style=\"stroke: #383838; stroke-width: 1.0;\" x1=\"136\" x2=\"142.5\" y1=\"169.3398\" y2=\"169.3398\"/><text fill=\"#000000\" font-family=\"sans-serif\" font-size=\"11\" lengthAdjust=\"spacingAndGlyphs\" textLength=\"55\" x=\"142.5\" y=\"172.6479\">attributes</text><line style=\"stroke: #383838; stroke-width: 1.0;\" x1=\"197.5\" x2=\"204\" y1=\"169.3398\" y2=\"169.3398\"/></a><!--MD5=[ebbe1d658d1005bcc118a6aa81145e00]\n",
       "class E4--><a href=\"psysml:1aa2f075-dfbc-4c28-975e-f9b78ce76d6b\" target=\"_top\" title=\"psysml:1aa2f075-dfbc-4c28-975e-f9b78ce76d6b\" xlink:actuate=\"onRequest\" xlink:href=\"psysml:1aa2f075-dfbc-4c28-975e-f9b78ce76d6b\" xlink:show=\"new\" xlink:title=\"psysml:1aa2f075-dfbc-4c28-975e-f9b78ce76d6b\" xlink:type=\"simple\"><rect fill=\"#FFFFFF\" height=\"45.9375\" id=\"E4\" rx=\"10\" ry=\"10\" style=\"stroke: #383838; stroke-width: 1.5;\" width=\"42\" x=\"338\" y=\"210\"/><text fill=\"#000000\" font-family=\"sans-serif\" font-size=\"12\" font-style=\"italic\" lengthAdjust=\"spacingAndGlyphs\" textLength=\"40\" x=\"339\" y=\"226.1387\">«part»</text><text fill=\"#000000\" font-family=\"sans-serif\" font-size=\"12\" lengthAdjust=\"spacingAndGlyphs\" textLength=\"24\" x=\"345\" y=\"240.1074\">b: B</text><line style=\"stroke: #383838; stroke-width: 1.5;\" x1=\"339\" x2=\"379\" y1=\"247.9375\" y2=\"247.9375\"/></a><!--MD5=[270fce915f116d4de14055a7c1d9a0f3]\n",
       "class E5--><a href=\"psysml:6b6fc427-035b-4f92-af2f-ae5f46ec13e5\" target=\"_top\" title=\"psysml:6b6fc427-035b-4f92-af2f-ae5f46ec13e5\" xlink:actuate=\"onRequest\" xlink:href=\"psysml:6b6fc427-035b-4f92-af2f-ae5f46ec13e5\" xlink:show=\"new\" xlink:title=\"psysml:6b6fc427-035b-4f92-af2f-ae5f46ec13e5\" xlink:type=\"simple\"><rect fill=\"#FFFFFF\" height=\"45.9375\" id=\"E5\" rx=\"10\" ry=\"10\" style=\"stroke: #383838; stroke-width: 1.5;\" width=\"42\" x=\"266\" y=\"83\"/><text fill=\"#000000\" font-family=\"sans-serif\" font-size=\"12\" font-style=\"italic\" lengthAdjust=\"spacingAndGlyphs\" textLength=\"40\" x=\"267\" y=\"99.1387\">«port»</text><text fill=\"#000000\" font-family=\"sans-serif\" font-size=\"12\" lengthAdjust=\"spacingAndGlyphs\" textLength=\"23\" x=\"273.5\" y=\"113.1074\">c: C</text><line style=\"stroke: #383838; stroke-width: 1.5;\" x1=\"267\" x2=\"307\" y1=\"120.9375\" y2=\"120.9375\"/></a><!--MD5=[60a26617385b1d2d0262a64233df1f8d]\n",
       "class E6--><a href=\"psysml:286e6ef4-92d4-4c1b-a17d-09881da7698b\" target=\"_top\" title=\"psysml:286e6ef4-92d4-4c1b-a17d-09881da7698b\" xlink:actuate=\"onRequest\" xlink:href=\"psysml:286e6ef4-92d4-4c1b-a17d-09881da7698b\" xlink:show=\"new\" xlink:title=\"psysml:286e6ef4-92d4-4c1b-a17d-09881da7698b\" xlink:type=\"simple\"><rect fill=\"#FFFFFF\" height=\"45.9375\" id=\"E6\" style=\"stroke: #383838; stroke-width: 1.5;\" width=\"70\" x=\"589\" y=\"132\"/><text fill=\"#000000\" font-family=\"sans-serif\" font-size=\"12\" font-style=\"italic\" lengthAdjust=\"spacingAndGlyphs\" textLength=\"68\" x=\"590\" y=\"148.1387\">«part  def»</text><text fill=\"#000000\" font-family=\"sans-serif\" font-size=\"12\" font-style=\"italic\" lengthAdjust=\"spacingAndGlyphs\" textLength=\"8\" x=\"620\" y=\"162.1074\">B</text><line style=\"stroke: #383838; stroke-width: 1.5;\" x1=\"590\" x2=\"658\" y1=\"169.9375\" y2=\"169.9375\"/></a><!--MD5=[2156ba9850f5573cc1fc38a6a4b2f02b]\n",
       "class E7--><a href=\"psysml:215e87e2-ee75-46c7-98ea-4ce8794cdbad\" target=\"_top\" title=\"psysml:215e87e2-ee75-46c7-98ea-4ce8794cdbad\" xlink:actuate=\"onRequest\" xlink:href=\"psysml:215e87e2-ee75-46c7-98ea-4ce8794cdbad\" xlink:show=\"new\" xlink:title=\"psysml:215e87e2-ee75-46c7-98ea-4ce8794cdbad\" xlink:type=\"simple\"><rect fill=\"#FFFFFF\" height=\"45.9375\" id=\"E7\" rx=\"10\" ry=\"10\" style=\"stroke: #383838; stroke-width: 1.5;\" width=\"42\" x=\"720\" y=\"41\"/><text fill=\"#000000\" font-family=\"sans-serif\" font-size=\"12\" font-style=\"italic\" lengthAdjust=\"spacingAndGlyphs\" textLength=\"40\" x=\"721\" y=\"57.1387\">«part»</text><text fill=\"#000000\" font-family=\"sans-serif\" font-size=\"12\" font-style=\"italic\" lengthAdjust=\"spacingAndGlyphs\" textLength=\"8\" x=\"727\" y=\"71.1074\">a</text><text fill=\"#000000\" font-family=\"sans-serif\" font-size=\"12\" lengthAdjust=\"spacingAndGlyphs\" textLength=\"16\" x=\"735\" y=\"71.1074\">: A</text><line style=\"stroke: #383838; stroke-width: 1.5;\" x1=\"721\" x2=\"761\" y1=\"78.9375\" y2=\"78.9375\"/></a><!--MD5=[b9389687b975829384b498ac4b7476b2]\n",
       "class E8--><a href=\"psysml:27d37788-2b75-4a5c-b4fe-9553c2483e93\" target=\"_top\" title=\"psysml:27d37788-2b75-4a5c-b4fe-9553c2483e93\" xlink:actuate=\"onRequest\" xlink:href=\"psysml:27d37788-2b75-4a5c-b4fe-9553c2483e93\" xlink:show=\"new\" xlink:title=\"psysml:27d37788-2b75-4a5c-b4fe-9553c2483e93\" xlink:type=\"simple\"><rect fill=\"#FFFFFF\" height=\"45.9375\" id=\"E8\" rx=\"10\" ry=\"10\" style=\"stroke: #383838; stroke-width: 1.5;\" width=\"42\" x=\"720\" y=\"211\"/><text fill=\"#000000\" font-family=\"sans-serif\" font-size=\"12\" font-style=\"italic\" lengthAdjust=\"spacingAndGlyphs\" textLength=\"40\" x=\"721\" y=\"227.1387\">«port»</text><text fill=\"#000000\" font-family=\"sans-serif\" font-size=\"12\" lengthAdjust=\"spacingAndGlyphs\" textLength=\"32\" x=\"723\" y=\"241.1074\">x: ~C</text><line style=\"stroke: #383838; stroke-width: 1.5;\" x1=\"721\" x2=\"761\" y1=\"248.9375\" y2=\"248.9375\"/></a><!--MD5=[96f4274e9e20536e775497830990834d]\n",
       "class E10--><a href=\"psysml:3d6805d2-0d33-47df-af88-6771a9177656\" target=\"_top\" title=\"psysml:3d6805d2-0d33-47df-af88-6771a9177656\" xlink:actuate=\"onRequest\" xlink:href=\"psysml:3d6805d2-0d33-47df-af88-6771a9177656\" xlink:show=\"new\" xlink:title=\"psysml:3d6805d2-0d33-47df-af88-6771a9177656\" xlink:type=\"simple\"><rect fill=\"#FFFFFF\" height=\"75.5469\" id=\"E10\" style=\"stroke: #383838; stroke-width: 1.5;\" width=\"110\" x=\"410\" y=\"117\"/><text fill=\"#000000\" font-family=\"sans-serif\" font-size=\"12\" font-style=\"italic\" lengthAdjust=\"spacingAndGlyphs\" textLength=\"68\" x=\"431\" y=\"133.1387\">«port  def»</text><text fill=\"#000000\" font-family=\"sans-serif\" font-size=\"12\" lengthAdjust=\"spacingAndGlyphs\" textLength=\"8\" x=\"461\" y=\"147.1074\">C</text><line style=\"stroke: #383838; stroke-width: 1.5;\" x1=\"411\" x2=\"519\" y1=\"154.9375\" y2=\"154.9375\"/><text fill=\"#000000\" font-family=\"sans-serif\" font-size=\"11\" font-weight=\"bold\" lengthAdjust=\"spacingAndGlyphs\" textLength=\"10\" x=\"416\" y=\"185.9526\">in</text><text fill=\"#000000\" font-family=\"sans-serif\" font-size=\"11\" lengthAdjust=\"spacingAndGlyphs\" textLength=\"37\" x=\"430\" y=\"185.9526\">y: A, B</text><text fill=\"#000000\" font-family=\"sans-serif\" font-size=\"11\" font-weight=\"bold\" lengthAdjust=\"spacingAndGlyphs\" textLength=\"27\" x=\"471\" y=\"185.9526\">alias</text><text fill=\"#000000\" font-family=\"sans-serif\" font-size=\"11\" lengthAdjust=\"spacingAndGlyphs\" textLength=\"12\" x=\"502\" y=\"185.9526\">z2</text><line style=\"stroke: #383838; stroke-width: 1.0;\" x1=\"411\" x2=\"431.5\" y1=\"169.3398\" y2=\"169.3398\"/><text fill=\"#000000\" font-family=\"sans-serif\" font-size=\"11\" lengthAdjust=\"spacingAndGlyphs\" textLength=\"67\" x=\"431.5\" y=\"172.6479\">parameters</text><line style=\"stroke: #383838; stroke-width: 1.0;\" x1=\"498.5\" x2=\"519\" y1=\"169.3398\" y2=\"169.3398\"/></a><a href=\"psysml:e555f4d2-547d-4756-8b33-5fda3be7b359\" target=\"_top\" title=\"psysml:e555f4d2-547d-4756-8b33-5fda3be7b359\" xlink:actuate=\"onRequest\" xlink:href=\"psysml:e555f4d2-547d-4756-8b33-5fda3be7b359\" xlink:show=\"new\" xlink:title=\"psysml:e555f4d2-547d-4756-8b33-5fda3be7b359\" xlink:type=\"simple\"><polygon fill=\"#FFFFFF\" points=\"726.5,122.5,741.5,122.5,748.5,144.7969,755.5,144.7969,755.5,175.0938,726.5,175.0938,726.5,122.5\" style=\"stroke: #000000; stroke-width: 1.5;\"/><line style=\"stroke: #000000; stroke-width: 1.5;\" x1=\"726.5\" x2=\"748.5\" y1=\"144.7969\" y2=\"144.7969\"/><text fill=\"#000000\" font-family=\"sans-serif\" font-size=\"14\" font-weight=\"bold\" lengthAdjust=\"spacingAndGlyphs\" textLength=\"9\" x=\"730.5\" y=\"137.4951\">P</text></a><!--MD5=[2720a5a1f2c3fca2055b230370638851]\n",
       "link E2 to E3--><a href=\"psysml:02703352-f69e-4a4b-893d-89c09588fdfd\" target=\"_top\" title=\"psysml:02703352-f69e-4a4b-893d-89c09588fdfd\" xlink:actuate=\"onRequest\" xlink:href=\"psysml:02703352-f69e-4a4b-893d-89c09588fdfd\" xlink:show=\"new\" xlink:title=\"psysml:02703352-f69e-4a4b-893d-89c09588fdfd\" xlink:type=\"simple\"><path d=\"M74.03,161 C85.34,161 100.07,161 114.54,161 \" fill=\"none\" id=\"E2-&gt;E3\" style=\"stroke: #383838; stroke-width: 1.0;\"/><polygon fill=\"#FFFFFF\" points=\"134.79,161,115.79,168,115.79,154,134.79,161\" style=\"stroke: #383838; stroke-width: 1.0;\"/><ellipse cx=\"110.09\" cy=\"166\" fill=\"#383838\" rx=\"2\" ry=\"2\" style=\"stroke: #383838; stroke-width: 1.0;\"/><ellipse cx=\"110.09\" cy=\"156\" fill=\"#383838\" rx=\"2\" ry=\"2\" style=\"stroke: #383838; stroke-width: 1.0;\"/></a><!--MD5=[4672eba38e49728da53d11aeb285b987]\n",
       "reverse link E3 to E4--><a href=\"psysml:e82a868e-a957-4308-9aca-5f2e1a046a10\" target=\"_top\" title=\"psysml:e82a868e-a957-4308-9aca-5f2e1a046a10\" xlink:actuate=\"onRequest\" xlink:href=\"psysml:e82a868e-a957-4308-9aca-5f2e1a046a10\" xlink:show=\"new\" xlink:title=\"psysml:e82a868e-a957-4308-9aca-5f2e1a046a10\" xlink:type=\"simple\"><path d=\"M216.29,197.52 C231.29,207.79 248.61,217.82 266,224 C289.59,232.39 318.59,233.89 337.65,233.79 \" fill=\"none\" id=\"E3&lt;-E4\" style=\"stroke: #383838; stroke-width: 1.0;\"/><polygon fill=\"#383838\" points=\"205.31,189.69,207.8649,196.4333,215.0721,196.6686,212.5173,189.9253,205.31,189.69\" style=\"stroke: #383838; stroke-width: 1.0;\"/><text fill=\"#000000\" font-family=\"sans-serif\" font-size=\"13\" lengthAdjust=\"spacingAndGlyphs\" textLength=\"8\" x=\"321.8866\" y=\"248.4256\">1</text></a><!--MD5=[191cde3d490a3f6d7bb551fe3ddca469]\n",
       "reverse link E3 to E5--><a href=\"psysml:01f43deb-5863-4903-863e-c9a23e0a1180\" target=\"_top\" title=\"psysml:01f43deb-5863-4903-863e-c9a23e0a1180\" xlink:actuate=\"onRequest\" xlink:href=\"psysml:01f43deb-5863-4903-863e-c9a23e0a1180\" xlink:show=\"new\" xlink:title=\"psysml:01f43deb-5863-4903-863e-c9a23e0a1180\" xlink:type=\"simple\"><path d=\"M217.17,138.92 C234.07,130.84 252.33,122.1 265.79,115.67 \" fill=\"none\" id=\"E3&lt;-E5\" style=\"stroke: #383838; stroke-width: 1.0;\"/><polygon fill=\"#FFFFFF\" points=\"205.19,144.65,212.328,145.6744,216.019,139.4795,208.881,138.4551,205.19,144.65\" style=\"stroke: #383838; stroke-width: 1.0;\"/><text fill=\"#000000\" font-family=\"sans-serif\" font-size=\"13\" lengthAdjust=\"spacingAndGlyphs\" textLength=\"8\" x=\"250.0694\" y=\"133.0251\">1</text></a><!--MD5=[79568f1e445c3877b6a54524624ccc7d]\n",
       "link E4 to E6--><a href=\"psysml:6f8c5931-99ab-4f3d-9640-f9d86b709835\" target=\"_top\" title=\"psysml:6f8c5931-99ab-4f3d-9640-f9d86b709835\" xlink:actuate=\"onRequest\" xlink:href=\"psysml:6f8c5931-99ab-4f3d-9640-f9d86b709835\" xlink:show=\"new\" xlink:title=\"psysml:6f8c5931-99ab-4f3d-9640-f9d86b709835\" xlink:type=\"simple\"><path d=\"M380.21,232.33 C411.07,230.82 471.46,225.9 520,210 C537.31,204.33 555.15,195.86 571.03,187.27 \" fill=\"none\" id=\"E4-&gt;E6\" style=\"stroke: #383838; stroke-width: 1.0;\"/><polygon fill=\"#FFFFFF\" points=\"588.61,177.27,575.5534,192.7466,568.6333,180.5765,588.61,177.27\" style=\"stroke: #383838; stroke-width: 1.0;\"/><ellipse cx=\"569.6098\" cy=\"193.8255\" fill=\"#383838\" rx=\"2\" ry=\"2\" style=\"stroke: #383838; stroke-width: 1.0;\"/><ellipse cx=\"564.6669\" cy=\"185.1325\" fill=\"#383838\" rx=\"2\" ry=\"2\" style=\"stroke: #383838; stroke-width: 1.0;\"/></a><!--MD5=[3f50a3473f1dfb74d3f76443e03635af]\n",
       "reverse link E6 to E7--><a href=\"psysml:ef71999d-b74e-4e5c-b2f7-aebb94a9d32a\" target=\"_top\" title=\"psysml:ef71999d-b74e-4e5c-b2f7-aebb94a9d32a\" xlink:actuate=\"onRequest\" xlink:href=\"psysml:ef71999d-b74e-4e5c-b2f7-aebb94a9d32a\" xlink:show=\"new\" xlink:title=\"psysml:ef71999d-b74e-4e5c-b2f7-aebb94a9d32a\" xlink:type=\"simple\"><path d=\"M664.59,123.67 C683.19,108.96 704.56,92.04 719.79,79.99 \" fill=\"none\" id=\"E6&lt;-E7\" style=\"stroke: #383838; stroke-width: 1.0;\"/><polygon fill=\"#383838\" points=\"654.32,131.8,661.5073,131.2148,663.7315,124.3553,656.5442,124.9405,654.32,131.8\" style=\"stroke: #383838; stroke-width: 1.0;\"/><text fill=\"#000000\" font-family=\"sans-serif\" font-size=\"13\" lengthAdjust=\"spacingAndGlyphs\" textLength=\"8\" x=\"704.0694\" y=\"99.2806\">1</text></a><!--MD5=[14ccda38c055a5c0da953d572bc50960]\n",
       "link E7 to E3--><a href=\"psysml:d4047a87-2764-4bb9-9711-6fad77bbdb97\" target=\"_top\" title=\"psysml:d4047a87-2764-4bb9-9711-6fad77bbdb97\" xlink:actuate=\"onRequest\" xlink:href=\"psysml:d4047a87-2764-4bb9-9711-6fad77bbdb97\" xlink:show=\"new\" xlink:title=\"psysml:d4047a87-2764-4bb9-9711-6fad77bbdb97\" xlink:type=\"simple\"><path d=\"M719.78,59.17 C696.91,54.15 658.5,47 625,47 C286,47 286,47 286,47 C251.66,47 223.91,72.95 204.28,100.09 \" fill=\"none\" id=\"E7-&gt;E3\" style=\"stroke: #383838; stroke-width: 1.0;\"/><polygon fill=\"#FFFFFF\" points=\"193.12,116.92,197.7959,97.2188,209.46,104.9615,193.12,116.92\" style=\"stroke: #383838; stroke-width: 1.0;\"/><ellipse cx=\"202.6146\" cy=\"93.576\" fill=\"#383838\" rx=\"2\" ry=\"2\" style=\"stroke: #383838; stroke-width: 1.0;\"/><ellipse cx=\"210.9461\" cy=\"99.1065\" fill=\"#383838\" rx=\"2\" ry=\"2\" style=\"stroke: #383838; stroke-width: 1.0;\"/></a><!--MD5=[f4cf0736d43fd73c4ef68817c49d37d5]\n",
       "reverse link E6 to E8--><a href=\"psysml:e9c4c173-85e4-4370-85e4-1c8f2eb4171b\" target=\"_top\" title=\"psysml:e9c4c173-85e4-4370-85e4-1c8f2eb4171b\" xlink:actuate=\"onRequest\" xlink:href=\"psysml:e9c4c173-85e4-4370-85e4-1c8f2eb4171b\" xlink:show=\"new\" xlink:title=\"psysml:e9c4c173-85e4-4370-85e4-1c8f2eb4171b\" xlink:type=\"simple\"><path d=\"M669.67,185.69 C687.03,197.61 706.04,210.67 719.91,220.2 \" fill=\"none\" id=\"E6&lt;-E8\" style=\"stroke: #383838; stroke-width: 1.0;\"/><polygon fill=\"#FFFFFF\" points=\"658.57,178.06,661.2519,184.7538,668.4623,184.8527,665.7804,178.1589,658.57,178.06\" style=\"stroke: #383838; stroke-width: 1.0;\"/><text fill=\"#000000\" font-family=\"sans-serif\" font-size=\"13\" lengthAdjust=\"spacingAndGlyphs\" textLength=\"8\" x=\"703.9126\" y=\"230.2899\">1</text></a><!--MD5=[e88d06e5a652d73a6b19930eefe025a8]\n",
       "reverse link E6 to E9--><a href=\"psysml:ab2aae6d-159f-4d7a-a99e-78671a533366\" target=\"_top\" title=\"psysml:ab2aae6d-159f-4d7a-a99e-78671a533366\" xlink:actuate=\"onRequest\" xlink:href=\"psysml:ab2aae6d-159f-4d7a-a99e-78671a533366\" xlink:show=\"new\" xlink:title=\"psysml:ab2aae6d-159f-4d7a-a99e-78671a533366\" xlink:type=\"simple\"><path d=\"M674.32,152.43 C693.3,151.44 713.48,150.38 726.39,149.71 \" fill=\"none\" id=\"E6&lt;-E9\" style=\"stroke: #383838; stroke-width: 1.0;\"/><ellipse cx=\"667.179\" cy=\"152.8011\" fill=\"#FFFFFF\" rx=\"8\" ry=\"8\" style=\"stroke: #383838; stroke-width: 1.0;\"/><line style=\"stroke: #383838; stroke-width: 1.0;\" x1=\"675.1681\" x2=\"659.19\" y1=\"152.3823\" y2=\"153.22\"/><line style=\"stroke: #383838; stroke-width: 1.0;\" x1=\"667.5979\" x2=\"666.7602\" y1=\"160.7902\" y2=\"144.8121\"/></a><!--MD5=[f78a29d5932556fa1060671a2a6507d8]\n",
       "link E5 to E10--><a href=\"psysml:09169cbe-938d-4307-a584-0b24a5ad62ce\" target=\"_top\" title=\"psysml:09169cbe-938d-4307-a584-0b24a5ad62ce\" xlink:actuate=\"onRequest\" xlink:href=\"psysml:09169cbe-938d-4307-a584-0b24a5ad62ce\" xlink:show=\"new\" xlink:title=\"psysml:09169cbe-938d-4307-a584-0b24a5ad62ce\" xlink:type=\"simple\"><path d=\"M308.19,111.62 C328.31,117.22 360.44,126.17 390.31,134.48 \" fill=\"none\" id=\"E5-&gt;E10\" style=\"stroke: #383838; stroke-width: 1.0;\"/><polygon fill=\"#FFFFFF\" points=\"409.96,139.95,389.7779,141.5878,393.5393,128.1025,409.96,139.95\" style=\"stroke: #383838; stroke-width: 1.0;\"/><ellipse cx=\"384.8248\" cy=\"138.1299\" fill=\"#383838\" rx=\"2\" ry=\"2\" style=\"stroke: #383838; stroke-width: 1.0;\"/><ellipse cx=\"387.5116\" cy=\"128.4976\" fill=\"#383838\" rx=\"2\" ry=\"2\" style=\"stroke: #383838; stroke-width: 1.0;\"/></a><!--MD5=[8e04057e7b3cbc0dca4fc78ea351e2da]\n",
       "reverse link E10 to E3--><a href=\"psysml:75696b56-911c-4e7f-a413-6399c7af4d3a\" target=\"_top\" title=\"psysml:75696b56-911c-4e7f-a413-6399c7af4d3a\" xlink:actuate=\"onRequest\" xlink:href=\"psysml:75696b56-911c-4e7f-a413-6399c7af4d3a\" xlink:show=\"new\" xlink:title=\"psysml:75696b56-911c-4e7f-a413-6399c7af4d3a\" xlink:type=\"simple\"><path d=\"M396.78,159.2 C369.27,160.73 337.12,162.25 308,163 C289.34,163.48 284.67,163.2 266,163 C245.88,162.79 223.36,162.32 205.3,161.9 \" fill=\"none\" id=\"E10&lt;-E3\" style=\"stroke: #383838; stroke-width: 1.0;\"/><polygon fill=\"#FFFFFF\" points=\"409.88,158.46,403.6613,154.8092,397.8996,159.1453,404.1182,162.7961,409.88,158.46\" style=\"stroke: #383838; stroke-width: 1.0;\"/><text fill=\"#000000\" font-family=\"sans-serif\" font-size=\"13\" lengthAdjust=\"spacingAndGlyphs\" textLength=\"7\" x=\"283.5\" y=\"159.0669\">y</text></a><!--MD5=[604cbf994c02b74b117f728a71673cea]\n",
       "reverse link E10 to E6--><a href=\"psysml:75696b56-911c-4e7f-a413-6399c7af4d3a\" target=\"_top\" title=\"psysml:75696b56-911c-4e7f-a413-6399c7af4d3a\" xlink:actuate=\"onRequest\" xlink:href=\"psysml:75696b56-911c-4e7f-a413-6399c7af4d3a\" xlink:show=\"new\" xlink:title=\"psysml:75696b56-911c-4e7f-a413-6399c7af4d3a\" xlink:type=\"simple\"><path d=\"M533.07,155 C552.19,155 572.24,155 588.55,155 \" fill=\"none\" id=\"E10&lt;-E6\" style=\"stroke: #383838; stroke-width: 1.0;\"/><polygon fill=\"#FFFFFF\" points=\"520.03,155,526.03,159,532.03,155,526.03,151,520.03,155\" style=\"stroke: #383838; stroke-width: 1.0;\"/><text fill=\"#000000\" font-family=\"sans-serif\" font-size=\"13\" lengthAdjust=\"spacingAndGlyphs\" textLength=\"7\" x=\"551\" y=\"151.0669\">y</text></a><!--MD5=[e50d0ddd3647680b5e9f42d0229afe4a]\n",
       "@startuml\r\n",
       "left to right direction\r\n",
       "skinparam monochrome true\r\n",
       "skinparam classbackgroundcolor white\r\n",
       "skinparam shadowing false\r\n",
       "skinparam wrapWidth 300\r\n",
       "hide circle\r\n",
       "\r\n",
       "package \"PartTest\" as E1  [[psysml:538b1265-15ae-4afd-8dd2-ef0f57b41a53 ]]  {\r\n",
       "comp usage \"f: A \" as E2  <<(T,blue) part>> [[psysml:2c090466-3d5c-4444-ba17-090921dc2443 ]] {\r\n",
       "}\r\n",
       "comp def \"A\" as E3  <<(T,blue) part  def>> [[psysml:d1b7cfcb-f6eb-4e6c-b82e-69976e6757f6 ]] {\r\n",
       "- - attributes - -\r\n",
       "x\r\n",
       "y:> A::x\r\n",
       "}\r\n",
       "comp usage \"b: B \" as E4  <<(T,blue) part>> [[psysml:1aa2f075-dfbc-4c28-975e-f9b78ce76d6b ]] {\r\n",
       "}\r\n",
       "comp usage \"c: C \" as E5  <<(T,blue) port>> [[psysml:6b6fc427-035b-4f92-af2f-ae5f46ec13e5 ]] {\r\n",
       "}\r\n",
       "comp def \"<i>B</i>\" as E6  <<(T,blue) part  def>> [[psysml:286e6ef4-92d4-4c1b-a17d-09881da7698b ]] {\r\n",
       "}\r\n",
       "comp usage \"<i>a</i>: A \" as E7  <<(T,blue) part>> [[psysml:215e87e2-ee75-46c7-98ea-4ce8794cdbad ]] {\r\n",
       "}\r\n",
       "comp usage \"x: ~C \" as E8  <<(T,blue) port>> [[psysml:27d37788-2b75-4a5c-b4fe-9553c2483e93 ]] {\r\n",
       "}\r\n",
       "package \"P\" as E9  [[psysml:e555f4d2-547d-4756-8b33-5fda3be7b359 ]]  {\r\n",
       "}\r\n",
       "comp def \"C\" as E10  <<(T,blue) port  def>> [[psysml:3d6805d2-0d33-47df-af88-6771a9177656 ]] {\r\n",
       "- - parameters - -\r\n",
       "<b>in</b> y: A, B <b>alias</b> z2 \r\n",
       "}\r\n",
       "}\r\n",
       "E2 - -:|> E3 [[psysml:02703352-f69e-4a4b-893d-89c09588fdfd ]] \r\n",
       "E3 *- - \"1\"E4 [[psysml:e82a868e-a957-4308-9aca-5f2e1a046a10 ]] \r\n",
       "E3 o- - \"1\"E5 [[psysml:01f43deb-5863-4903-863e-c9a23e0a1180 ]] \r\n",
       "E4 - -:|> E6 [[psysml:6f8c5931-99ab-4f3d-9640-f9d86b709835 ]] \r\n",
       "E6 *- - \"1\"E7 [[psysml:ef71999d-b74e-4e5c-b2f7-aebb94a9d32a ]] \r\n",
       "E7 - -:|> E3 [[psysml:d4047a87-2764-4bb9-9711-6fad77bbdb97 ]] \r\n",
       "E6 o- - \"1\"E8 [[psysml:e9c4c173-85e4-4370-85e4-1c8f2eb4171b ]] \r\n",
       "E6 +- - E9 [[psysml:ab2aae6d-159f-4d7a-a99e-78671a533366 ]] \r\n",
       "E5 - -:|> E10 [[psysml:09169cbe-938d-4307-a584-0b24a5ad62ce ]] \r\n",
       "E10 o- - E3 [[psysml:75696b56-911c-4e7f-a413-6399c7af4d3a ]] : y\r\n",
       "E10 o- - E6 [[psysml:75696b56-911c-4e7f-a413-6399c7af4d3a ]] : y\r\n",
       "@enduml\r\n",
       "\n",
       "PlantUML version 1.2020.13(Sat Jun 13 12:26:38 UTC 2020)\n",
       "(EPL source distribution)\n",
       "Java Runtime: OpenJDK Runtime Environment\n",
       "JVM: OpenJDK 64-Bit Server VM\n",
       "Default Encoding: UTF-8\n",
       "Language: en\n",
       "Country: null\n",
       "--></g></svg>"
      ]
     },
     "execution_count": 16,
     "metadata": {},
     "output_type": "execute_result"
    }
   ],
   "source": [
    "%viz --style=\"LR\" --view=\"Default\" \"PartTest\""
   ]
  },
  {
   "cell_type": "code",
   "execution_count": 17,
   "id": "cd192e78",
   "metadata": {
    "execution": {
     "iopub.execute_input": "2022-05-19T08:45:12.250879Z",
     "iopub.status.busy": "2022-05-19T08:45:12.250421Z",
     "iopub.status.idle": "2022-05-19T08:45:12.336018Z",
     "shell.execute_reply": "2022-05-19T08:45:12.335627Z"
    }
   },
   "outputs": [
    {
     "data": {
      "image/svg+xml": [
       "<?xml version=\"1.0\" encoding=\"UTF-8\" standalone=\"no\"?><svg xmlns=\"http://www.w3.org/2000/svg\" xmlns:xlink=\"http://www.w3.org/1999/xlink\" contentScriptType=\"application/ecmascript\" contentStyleType=\"text/css\" height=\"285px\" preserveAspectRatio=\"none\" style=\"width:800px;height:285px;\" version=\"1.1\" viewBox=\"0 0 800 285\" width=\"800px\" zoomAndPan=\"magnify\"><defs/><g><!--MD5=[fbc87193dbaf4d95561dea2c320d4a47]\n",
       "cluster E1--><a href=\"psysml:538b1265-15ae-4afd-8dd2-ef0f57b41a53\" target=\"_top\" title=\"psysml:538b1265-15ae-4afd-8dd2-ef0f57b41a53\" xlink:actuate=\"onRequest\" xlink:href=\"psysml:538b1265-15ae-4afd-8dd2-ef0f57b41a53\" xlink:show=\"new\" xlink:title=\"psysml:538b1265-15ae-4afd-8dd2-ef0f57b41a53\" xlink:type=\"simple\"><polygon fill=\"#FFFFFF\" points=\"16,6,80,6,87,28.2969,778,28.2969,778,273,16,273,16,6\" style=\"stroke: #000000; stroke-width: 1.5;\"/><line style=\"stroke: #000000; stroke-width: 1.5;\" x1=\"16\" x2=\"87\" y1=\"28.2969\" y2=\"28.2969\"/><text fill=\"#000000\" font-family=\"sans-serif\" font-size=\"14\" font-weight=\"bold\" lengthAdjust=\"spacingAndGlyphs\" textLength=\"58\" x=\"20\" y=\"20.9951\">PartTest</text></a><!--MD5=[b4997ac47864f28c2f74865a473b2911]\n",
       "class E2--><a href=\"psysml:2c090466-3d5c-4444-ba17-090921dc2443\" target=\"_top\" title=\"psysml:2c090466-3d5c-4444-ba17-090921dc2443\" xlink:actuate=\"onRequest\" xlink:href=\"psysml:2c090466-3d5c-4444-ba17-090921dc2443\" xlink:show=\"new\" xlink:title=\"psysml:2c090466-3d5c-4444-ba17-090921dc2443\" xlink:type=\"simple\"><rect fill=\"#FFFFFF\" height=\"45.9375\" id=\"E2\" rx=\"10\" ry=\"10\" style=\"stroke: #383838; stroke-width: 1.5;\" width=\"42\" x=\"32\" y=\"138\"/><text fill=\"#000000\" font-family=\"sans-serif\" font-size=\"12\" font-style=\"italic\" lengthAdjust=\"spacingAndGlyphs\" textLength=\"40\" x=\"33\" y=\"154.1387\">«part»</text><text fill=\"#000000\" font-family=\"sans-serif\" font-size=\"12\" lengthAdjust=\"spacingAndGlyphs\" textLength=\"20\" x=\"41\" y=\"168.1074\">f: A</text><line style=\"stroke: #383838; stroke-width: 1.5;\" x1=\"33\" x2=\"73\" y1=\"175.9375\" y2=\"175.9375\"/></a><!--MD5=[09b614a08d8cba4a07c9adeb5e0fee81]\n",
       "class E3--><a href=\"psysml:d1b7cfcb-f6eb-4e6c-b82e-69976e6757f6\" target=\"_top\" title=\"psysml:d1b7cfcb-f6eb-4e6c-b82e-69976e6757f6\" xlink:actuate=\"onRequest\" xlink:href=\"psysml:d1b7cfcb-f6eb-4e6c-b82e-69976e6757f6\" xlink:show=\"new\" xlink:title=\"psysml:d1b7cfcb-f6eb-4e6c-b82e-69976e6757f6\" xlink:type=\"simple\"><rect fill=\"#FFFFFF\" height=\"88.3516\" id=\"E3\" style=\"stroke: #383838; stroke-width: 1.5;\" width=\"70\" x=\"135\" y=\"117\"/><text fill=\"#000000\" font-family=\"sans-serif\" font-size=\"12\" font-style=\"italic\" lengthAdjust=\"spacingAndGlyphs\" textLength=\"68\" x=\"136\" y=\"133.1387\">«part  def»</text><text fill=\"#000000\" font-family=\"sans-serif\" font-size=\"12\" lengthAdjust=\"spacingAndGlyphs\" textLength=\"8\" x=\"166\" y=\"147.1074\">A</text><line style=\"stroke: #383838; stroke-width: 1.5;\" x1=\"136\" x2=\"204\" y1=\"154.9375\" y2=\"154.9375\"/><text fill=\"#000000\" font-family=\"sans-serif\" font-size=\"11\" lengthAdjust=\"spacingAndGlyphs\" textLength=\"6\" x=\"141\" y=\"185.9526\">x</text><text fill=\"#000000\" font-family=\"sans-serif\" font-size=\"11\" lengthAdjust=\"spacingAndGlyphs\" textLength=\"44\" x=\"141\" y=\"198.7573\">y:&gt; A::x</text><line style=\"stroke: #383838; stroke-width: 1.0;\" x1=\"136\" x2=\"142.5\" y1=\"169.3398\" y2=\"169.3398\"/><text fill=\"#000000\" font-family=\"sans-serif\" font-size=\"11\" lengthAdjust=\"spacingAndGlyphs\" textLength=\"55\" x=\"142.5\" y=\"172.6479\">attributes</text><line style=\"stroke: #383838; stroke-width: 1.0;\" x1=\"197.5\" x2=\"204\" y1=\"169.3398\" y2=\"169.3398\"/></a><!--MD5=[ebbe1d658d1005bcc118a6aa81145e00]\n",
       "class E4--><a href=\"psysml:1aa2f075-dfbc-4c28-975e-f9b78ce76d6b\" target=\"_top\" title=\"psysml:1aa2f075-dfbc-4c28-975e-f9b78ce76d6b\" xlink:actuate=\"onRequest\" xlink:href=\"psysml:1aa2f075-dfbc-4c28-975e-f9b78ce76d6b\" xlink:show=\"new\" xlink:title=\"psysml:1aa2f075-dfbc-4c28-975e-f9b78ce76d6b\" xlink:type=\"simple\"><rect fill=\"#FFFFFF\" height=\"45.9375\" id=\"E4\" rx=\"10\" ry=\"10\" style=\"stroke: #383838; stroke-width: 1.5;\" width=\"42\" x=\"338\" y=\"210\"/><text fill=\"#000000\" font-family=\"sans-serif\" font-size=\"12\" font-style=\"italic\" lengthAdjust=\"spacingAndGlyphs\" textLength=\"40\" x=\"339\" y=\"226.1387\">«part»</text><text fill=\"#000000\" font-family=\"sans-serif\" font-size=\"12\" lengthAdjust=\"spacingAndGlyphs\" textLength=\"24\" x=\"345\" y=\"240.1074\">b: B</text><line style=\"stroke: #383838; stroke-width: 1.5;\" x1=\"339\" x2=\"379\" y1=\"247.9375\" y2=\"247.9375\"/></a><!--MD5=[270fce915f116d4de14055a7c1d9a0f3]\n",
       "class E5--><a href=\"psysml:6b6fc427-035b-4f92-af2f-ae5f46ec13e5\" target=\"_top\" title=\"psysml:6b6fc427-035b-4f92-af2f-ae5f46ec13e5\" xlink:actuate=\"onRequest\" xlink:href=\"psysml:6b6fc427-035b-4f92-af2f-ae5f46ec13e5\" xlink:show=\"new\" xlink:title=\"psysml:6b6fc427-035b-4f92-af2f-ae5f46ec13e5\" xlink:type=\"simple\"><rect fill=\"#FFFFFF\" height=\"45.9375\" id=\"E5\" rx=\"10\" ry=\"10\" style=\"stroke: #383838; stroke-width: 1.5;\" width=\"42\" x=\"266\" y=\"83\"/><text fill=\"#000000\" font-family=\"sans-serif\" font-size=\"12\" font-style=\"italic\" lengthAdjust=\"spacingAndGlyphs\" textLength=\"40\" x=\"267\" y=\"99.1387\">«port»</text><text fill=\"#000000\" font-family=\"sans-serif\" font-size=\"12\" lengthAdjust=\"spacingAndGlyphs\" textLength=\"23\" x=\"273.5\" y=\"113.1074\">c: C</text><line style=\"stroke: #383838; stroke-width: 1.5;\" x1=\"267\" x2=\"307\" y1=\"120.9375\" y2=\"120.9375\"/></a><!--MD5=[60a26617385b1d2d0262a64233df1f8d]\n",
       "class E6--><a href=\"psysml:286e6ef4-92d4-4c1b-a17d-09881da7698b\" target=\"_top\" title=\"psysml:286e6ef4-92d4-4c1b-a17d-09881da7698b\" xlink:actuate=\"onRequest\" xlink:href=\"psysml:286e6ef4-92d4-4c1b-a17d-09881da7698b\" xlink:show=\"new\" xlink:title=\"psysml:286e6ef4-92d4-4c1b-a17d-09881da7698b\" xlink:type=\"simple\"><rect fill=\"#FFFFFF\" height=\"45.9375\" id=\"E6\" style=\"stroke: #383838; stroke-width: 1.5;\" width=\"70\" x=\"589\" y=\"132\"/><text fill=\"#000000\" font-family=\"sans-serif\" font-size=\"12\" font-style=\"italic\" lengthAdjust=\"spacingAndGlyphs\" textLength=\"68\" x=\"590\" y=\"148.1387\">«part  def»</text><text fill=\"#000000\" font-family=\"sans-serif\" font-size=\"12\" font-style=\"italic\" lengthAdjust=\"spacingAndGlyphs\" textLength=\"8\" x=\"620\" y=\"162.1074\">B</text><line style=\"stroke: #383838; stroke-width: 1.5;\" x1=\"590\" x2=\"658\" y1=\"169.9375\" y2=\"169.9375\"/></a><!--MD5=[2156ba9850f5573cc1fc38a6a4b2f02b]\n",
       "class E7--><a href=\"psysml:215e87e2-ee75-46c7-98ea-4ce8794cdbad\" target=\"_top\" title=\"psysml:215e87e2-ee75-46c7-98ea-4ce8794cdbad\" xlink:actuate=\"onRequest\" xlink:href=\"psysml:215e87e2-ee75-46c7-98ea-4ce8794cdbad\" xlink:show=\"new\" xlink:title=\"psysml:215e87e2-ee75-46c7-98ea-4ce8794cdbad\" xlink:type=\"simple\"><rect fill=\"#FFFFFF\" height=\"45.9375\" id=\"E7\" rx=\"10\" ry=\"10\" style=\"stroke: #383838; stroke-width: 1.5;\" width=\"42\" x=\"720\" y=\"41\"/><text fill=\"#000000\" font-family=\"sans-serif\" font-size=\"12\" font-style=\"italic\" lengthAdjust=\"spacingAndGlyphs\" textLength=\"40\" x=\"721\" y=\"57.1387\">«part»</text><text fill=\"#000000\" font-family=\"sans-serif\" font-size=\"12\" font-style=\"italic\" lengthAdjust=\"spacingAndGlyphs\" textLength=\"8\" x=\"727\" y=\"71.1074\">a</text><text fill=\"#000000\" font-family=\"sans-serif\" font-size=\"12\" lengthAdjust=\"spacingAndGlyphs\" textLength=\"16\" x=\"735\" y=\"71.1074\">: A</text><line style=\"stroke: #383838; stroke-width: 1.5;\" x1=\"721\" x2=\"761\" y1=\"78.9375\" y2=\"78.9375\"/></a><!--MD5=[b9389687b975829384b498ac4b7476b2]\n",
       "class E8--><a href=\"psysml:27d37788-2b75-4a5c-b4fe-9553c2483e93\" target=\"_top\" title=\"psysml:27d37788-2b75-4a5c-b4fe-9553c2483e93\" xlink:actuate=\"onRequest\" xlink:href=\"psysml:27d37788-2b75-4a5c-b4fe-9553c2483e93\" xlink:show=\"new\" xlink:title=\"psysml:27d37788-2b75-4a5c-b4fe-9553c2483e93\" xlink:type=\"simple\"><rect fill=\"#FFFFFF\" height=\"45.9375\" id=\"E8\" rx=\"10\" ry=\"10\" style=\"stroke: #383838; stroke-width: 1.5;\" width=\"42\" x=\"720\" y=\"211\"/><text fill=\"#000000\" font-family=\"sans-serif\" font-size=\"12\" font-style=\"italic\" lengthAdjust=\"spacingAndGlyphs\" textLength=\"40\" x=\"721\" y=\"227.1387\">«port»</text><text fill=\"#000000\" font-family=\"sans-serif\" font-size=\"12\" lengthAdjust=\"spacingAndGlyphs\" textLength=\"32\" x=\"723\" y=\"241.1074\">x: ~C</text><line style=\"stroke: #383838; stroke-width: 1.5;\" x1=\"721\" x2=\"761\" y1=\"248.9375\" y2=\"248.9375\"/></a><!--MD5=[96f4274e9e20536e775497830990834d]\n",
       "class E10--><a href=\"psysml:3d6805d2-0d33-47df-af88-6771a9177656\" target=\"_top\" title=\"psysml:3d6805d2-0d33-47df-af88-6771a9177656\" xlink:actuate=\"onRequest\" xlink:href=\"psysml:3d6805d2-0d33-47df-af88-6771a9177656\" xlink:show=\"new\" xlink:title=\"psysml:3d6805d2-0d33-47df-af88-6771a9177656\" xlink:type=\"simple\"><rect fill=\"#FFFFFF\" height=\"75.5469\" id=\"E10\" style=\"stroke: #383838; stroke-width: 1.5;\" width=\"110\" x=\"410\" y=\"117\"/><text fill=\"#000000\" font-family=\"sans-serif\" font-size=\"12\" font-style=\"italic\" lengthAdjust=\"spacingAndGlyphs\" textLength=\"68\" x=\"431\" y=\"133.1387\">«port  def»</text><text fill=\"#000000\" font-family=\"sans-serif\" font-size=\"12\" lengthAdjust=\"spacingAndGlyphs\" textLength=\"8\" x=\"461\" y=\"147.1074\">C</text><line style=\"stroke: #383838; stroke-width: 1.5;\" x1=\"411\" x2=\"519\" y1=\"154.9375\" y2=\"154.9375\"/><text fill=\"#000000\" font-family=\"sans-serif\" font-size=\"11\" font-weight=\"bold\" lengthAdjust=\"spacingAndGlyphs\" textLength=\"10\" x=\"416\" y=\"185.9526\">in</text><text fill=\"#000000\" font-family=\"sans-serif\" font-size=\"11\" lengthAdjust=\"spacingAndGlyphs\" textLength=\"37\" x=\"430\" y=\"185.9526\">y: A, B</text><text fill=\"#000000\" font-family=\"sans-serif\" font-size=\"11\" font-weight=\"bold\" lengthAdjust=\"spacingAndGlyphs\" textLength=\"27\" x=\"471\" y=\"185.9526\">alias</text><text fill=\"#000000\" font-family=\"sans-serif\" font-size=\"11\" lengthAdjust=\"spacingAndGlyphs\" textLength=\"12\" x=\"502\" y=\"185.9526\">z2</text><line style=\"stroke: #383838; stroke-width: 1.0;\" x1=\"411\" x2=\"431.5\" y1=\"169.3398\" y2=\"169.3398\"/><text fill=\"#000000\" font-family=\"sans-serif\" font-size=\"11\" lengthAdjust=\"spacingAndGlyphs\" textLength=\"67\" x=\"431.5\" y=\"172.6479\">parameters</text><line style=\"stroke: #383838; stroke-width: 1.0;\" x1=\"498.5\" x2=\"519\" y1=\"169.3398\" y2=\"169.3398\"/></a><a href=\"psysml:e555f4d2-547d-4756-8b33-5fda3be7b359\" target=\"_top\" title=\"psysml:e555f4d2-547d-4756-8b33-5fda3be7b359\" xlink:actuate=\"onRequest\" xlink:href=\"psysml:e555f4d2-547d-4756-8b33-5fda3be7b359\" xlink:show=\"new\" xlink:title=\"psysml:e555f4d2-547d-4756-8b33-5fda3be7b359\" xlink:type=\"simple\"><polygon fill=\"#FFFFFF\" points=\"726.5,122.5,741.5,122.5,748.5,144.7969,755.5,144.7969,755.5,175.0938,726.5,175.0938,726.5,122.5\" style=\"stroke: #000000; stroke-width: 1.5;\"/><line style=\"stroke: #000000; stroke-width: 1.5;\" x1=\"726.5\" x2=\"748.5\" y1=\"144.7969\" y2=\"144.7969\"/><text fill=\"#000000\" font-family=\"sans-serif\" font-size=\"14\" font-weight=\"bold\" lengthAdjust=\"spacingAndGlyphs\" textLength=\"9\" x=\"730.5\" y=\"137.4951\">P</text></a><!--MD5=[2720a5a1f2c3fca2055b230370638851]\n",
       "link E2 to E3--><a href=\"psysml:02703352-f69e-4a4b-893d-89c09588fdfd\" target=\"_top\" title=\"psysml:02703352-f69e-4a4b-893d-89c09588fdfd\" xlink:actuate=\"onRequest\" xlink:href=\"psysml:02703352-f69e-4a4b-893d-89c09588fdfd\" xlink:show=\"new\" xlink:title=\"psysml:02703352-f69e-4a4b-893d-89c09588fdfd\" xlink:type=\"simple\"><path d=\"M74.03,161 C85.34,161 100.07,161 114.54,161 \" fill=\"none\" id=\"E2-&gt;E3\" style=\"stroke: #383838; stroke-width: 1.0;\"/><polygon fill=\"#FFFFFF\" points=\"134.79,161,115.79,168,115.79,154,134.79,161\" style=\"stroke: #383838; stroke-width: 1.0;\"/><ellipse cx=\"110.09\" cy=\"166\" fill=\"#383838\" rx=\"2\" ry=\"2\" style=\"stroke: #383838; stroke-width: 1.0;\"/><ellipse cx=\"110.09\" cy=\"156\" fill=\"#383838\" rx=\"2\" ry=\"2\" style=\"stroke: #383838; stroke-width: 1.0;\"/></a><!--MD5=[4672eba38e49728da53d11aeb285b987]\n",
       "reverse link E3 to E4--><a href=\"psysml:e82a868e-a957-4308-9aca-5f2e1a046a10\" target=\"_top\" title=\"psysml:e82a868e-a957-4308-9aca-5f2e1a046a10\" xlink:actuate=\"onRequest\" xlink:href=\"psysml:e82a868e-a957-4308-9aca-5f2e1a046a10\" xlink:show=\"new\" xlink:title=\"psysml:e82a868e-a957-4308-9aca-5f2e1a046a10\" xlink:type=\"simple\"><path d=\"M216.29,197.52 C231.29,207.79 248.61,217.82 266,224 C289.59,232.39 318.59,233.89 337.65,233.79 \" fill=\"none\" id=\"E3&lt;-E4\" style=\"stroke: #383838; stroke-width: 1.0;\"/><polygon fill=\"#383838\" points=\"205.31,189.69,207.8649,196.4333,215.0721,196.6686,212.5173,189.9253,205.31,189.69\" style=\"stroke: #383838; stroke-width: 1.0;\"/><text fill=\"#000000\" font-family=\"sans-serif\" font-size=\"13\" lengthAdjust=\"spacingAndGlyphs\" textLength=\"8\" x=\"321.8866\" y=\"248.4256\">1</text></a><!--MD5=[191cde3d490a3f6d7bb551fe3ddca469]\n",
       "reverse link E3 to E5--><a href=\"psysml:01f43deb-5863-4903-863e-c9a23e0a1180\" target=\"_top\" title=\"psysml:01f43deb-5863-4903-863e-c9a23e0a1180\" xlink:actuate=\"onRequest\" xlink:href=\"psysml:01f43deb-5863-4903-863e-c9a23e0a1180\" xlink:show=\"new\" xlink:title=\"psysml:01f43deb-5863-4903-863e-c9a23e0a1180\" xlink:type=\"simple\"><path d=\"M217.17,138.92 C234.07,130.84 252.33,122.1 265.79,115.67 \" fill=\"none\" id=\"E3&lt;-E5\" style=\"stroke: #383838; stroke-width: 1.0;\"/><polygon fill=\"#FFFFFF\" points=\"205.19,144.65,212.328,145.6744,216.019,139.4795,208.881,138.4551,205.19,144.65\" style=\"stroke: #383838; stroke-width: 1.0;\"/><text fill=\"#000000\" font-family=\"sans-serif\" font-size=\"13\" lengthAdjust=\"spacingAndGlyphs\" textLength=\"8\" x=\"250.0694\" y=\"133.0251\">1</text></a><!--MD5=[79568f1e445c3877b6a54524624ccc7d]\n",
       "link E4 to E6--><a href=\"psysml:6f8c5931-99ab-4f3d-9640-f9d86b709835\" target=\"_top\" title=\"psysml:6f8c5931-99ab-4f3d-9640-f9d86b709835\" xlink:actuate=\"onRequest\" xlink:href=\"psysml:6f8c5931-99ab-4f3d-9640-f9d86b709835\" xlink:show=\"new\" xlink:title=\"psysml:6f8c5931-99ab-4f3d-9640-f9d86b709835\" xlink:type=\"simple\"><path d=\"M380.21,232.33 C411.07,230.82 471.46,225.9 520,210 C537.31,204.33 555.15,195.86 571.03,187.27 \" fill=\"none\" id=\"E4-&gt;E6\" style=\"stroke: #383838; stroke-width: 1.0;\"/><polygon fill=\"#FFFFFF\" points=\"588.61,177.27,575.5534,192.7466,568.6333,180.5765,588.61,177.27\" style=\"stroke: #383838; stroke-width: 1.0;\"/><ellipse cx=\"569.6098\" cy=\"193.8255\" fill=\"#383838\" rx=\"2\" ry=\"2\" style=\"stroke: #383838; stroke-width: 1.0;\"/><ellipse cx=\"564.6669\" cy=\"185.1325\" fill=\"#383838\" rx=\"2\" ry=\"2\" style=\"stroke: #383838; stroke-width: 1.0;\"/></a><!--MD5=[3f50a3473f1dfb74d3f76443e03635af]\n",
       "reverse link E6 to E7--><a href=\"psysml:ef71999d-b74e-4e5c-b2f7-aebb94a9d32a\" target=\"_top\" title=\"psysml:ef71999d-b74e-4e5c-b2f7-aebb94a9d32a\" xlink:actuate=\"onRequest\" xlink:href=\"psysml:ef71999d-b74e-4e5c-b2f7-aebb94a9d32a\" xlink:show=\"new\" xlink:title=\"psysml:ef71999d-b74e-4e5c-b2f7-aebb94a9d32a\" xlink:type=\"simple\"><path d=\"M664.59,123.67 C683.19,108.96 704.56,92.04 719.79,79.99 \" fill=\"none\" id=\"E6&lt;-E7\" style=\"stroke: #383838; stroke-width: 1.0;\"/><polygon fill=\"#383838\" points=\"654.32,131.8,661.5073,131.2148,663.7315,124.3553,656.5442,124.9405,654.32,131.8\" style=\"stroke: #383838; stroke-width: 1.0;\"/><text fill=\"#000000\" font-family=\"sans-serif\" font-size=\"13\" lengthAdjust=\"spacingAndGlyphs\" textLength=\"8\" x=\"704.0694\" y=\"99.2806\">1</text></a><!--MD5=[14ccda38c055a5c0da953d572bc50960]\n",
       "link E7 to E3--><a href=\"psysml:d4047a87-2764-4bb9-9711-6fad77bbdb97\" target=\"_top\" title=\"psysml:d4047a87-2764-4bb9-9711-6fad77bbdb97\" xlink:actuate=\"onRequest\" xlink:href=\"psysml:d4047a87-2764-4bb9-9711-6fad77bbdb97\" xlink:show=\"new\" xlink:title=\"psysml:d4047a87-2764-4bb9-9711-6fad77bbdb97\" xlink:type=\"simple\"><path d=\"M719.78,59.17 C696.91,54.15 658.5,47 625,47 C286,47 286,47 286,47 C251.66,47 223.91,72.95 204.28,100.09 \" fill=\"none\" id=\"E7-&gt;E3\" style=\"stroke: #383838; stroke-width: 1.0;\"/><polygon fill=\"#FFFFFF\" points=\"193.12,116.92,197.7959,97.2188,209.46,104.9615,193.12,116.92\" style=\"stroke: #383838; stroke-width: 1.0;\"/><ellipse cx=\"202.6146\" cy=\"93.576\" fill=\"#383838\" rx=\"2\" ry=\"2\" style=\"stroke: #383838; stroke-width: 1.0;\"/><ellipse cx=\"210.9461\" cy=\"99.1065\" fill=\"#383838\" rx=\"2\" ry=\"2\" style=\"stroke: #383838; stroke-width: 1.0;\"/></a><!--MD5=[f4cf0736d43fd73c4ef68817c49d37d5]\n",
       "reverse link E6 to E8--><a href=\"psysml:e9c4c173-85e4-4370-85e4-1c8f2eb4171b\" target=\"_top\" title=\"psysml:e9c4c173-85e4-4370-85e4-1c8f2eb4171b\" xlink:actuate=\"onRequest\" xlink:href=\"psysml:e9c4c173-85e4-4370-85e4-1c8f2eb4171b\" xlink:show=\"new\" xlink:title=\"psysml:e9c4c173-85e4-4370-85e4-1c8f2eb4171b\" xlink:type=\"simple\"><path d=\"M669.67,185.69 C687.03,197.61 706.04,210.67 719.91,220.2 \" fill=\"none\" id=\"E6&lt;-E8\" style=\"stroke: #383838; stroke-width: 1.0;\"/><polygon fill=\"#FFFFFF\" points=\"658.57,178.06,661.2519,184.7538,668.4623,184.8527,665.7804,178.1589,658.57,178.06\" style=\"stroke: #383838; stroke-width: 1.0;\"/><text fill=\"#000000\" font-family=\"sans-serif\" font-size=\"13\" lengthAdjust=\"spacingAndGlyphs\" textLength=\"8\" x=\"703.9126\" y=\"230.2899\">1</text></a><!--MD5=[e88d06e5a652d73a6b19930eefe025a8]\n",
       "reverse link E6 to E9--><a href=\"psysml:ab2aae6d-159f-4d7a-a99e-78671a533366\" target=\"_top\" title=\"psysml:ab2aae6d-159f-4d7a-a99e-78671a533366\" xlink:actuate=\"onRequest\" xlink:href=\"psysml:ab2aae6d-159f-4d7a-a99e-78671a533366\" xlink:show=\"new\" xlink:title=\"psysml:ab2aae6d-159f-4d7a-a99e-78671a533366\" xlink:type=\"simple\"><path d=\"M674.32,152.43 C693.3,151.44 713.48,150.38 726.39,149.71 \" fill=\"none\" id=\"E6&lt;-E9\" style=\"stroke: #383838; stroke-width: 1.0;\"/><ellipse cx=\"667.179\" cy=\"152.8011\" fill=\"#FFFFFF\" rx=\"8\" ry=\"8\" style=\"stroke: #383838; stroke-width: 1.0;\"/><line style=\"stroke: #383838; stroke-width: 1.0;\" x1=\"675.1681\" x2=\"659.19\" y1=\"152.3823\" y2=\"153.22\"/><line style=\"stroke: #383838; stroke-width: 1.0;\" x1=\"667.5979\" x2=\"666.7602\" y1=\"160.7902\" y2=\"144.8121\"/></a><!--MD5=[f78a29d5932556fa1060671a2a6507d8]\n",
       "link E5 to E10--><a href=\"psysml:09169cbe-938d-4307-a584-0b24a5ad62ce\" target=\"_top\" title=\"psysml:09169cbe-938d-4307-a584-0b24a5ad62ce\" xlink:actuate=\"onRequest\" xlink:href=\"psysml:09169cbe-938d-4307-a584-0b24a5ad62ce\" xlink:show=\"new\" xlink:title=\"psysml:09169cbe-938d-4307-a584-0b24a5ad62ce\" xlink:type=\"simple\"><path d=\"M308.19,111.62 C328.31,117.22 360.44,126.17 390.31,134.48 \" fill=\"none\" id=\"E5-&gt;E10\" style=\"stroke: #383838; stroke-width: 1.0;\"/><polygon fill=\"#FFFFFF\" points=\"409.96,139.95,389.7779,141.5878,393.5393,128.1025,409.96,139.95\" style=\"stroke: #383838; stroke-width: 1.0;\"/><ellipse cx=\"384.8248\" cy=\"138.1299\" fill=\"#383838\" rx=\"2\" ry=\"2\" style=\"stroke: #383838; stroke-width: 1.0;\"/><ellipse cx=\"387.5116\" cy=\"128.4976\" fill=\"#383838\" rx=\"2\" ry=\"2\" style=\"stroke: #383838; stroke-width: 1.0;\"/></a><!--MD5=[8e04057e7b3cbc0dca4fc78ea351e2da]\n",
       "reverse link E10 to E3--><a href=\"psysml:75696b56-911c-4e7f-a413-6399c7af4d3a\" target=\"_top\" title=\"psysml:75696b56-911c-4e7f-a413-6399c7af4d3a\" xlink:actuate=\"onRequest\" xlink:href=\"psysml:75696b56-911c-4e7f-a413-6399c7af4d3a\" xlink:show=\"new\" xlink:title=\"psysml:75696b56-911c-4e7f-a413-6399c7af4d3a\" xlink:type=\"simple\"><path d=\"M396.78,159.2 C369.27,160.73 337.12,162.25 308,163 C289.34,163.48 284.67,163.2 266,163 C245.88,162.79 223.36,162.32 205.3,161.9 \" fill=\"none\" id=\"E10&lt;-E3\" style=\"stroke: #383838; stroke-width: 1.0;\"/><polygon fill=\"#FFFFFF\" points=\"409.88,158.46,403.6613,154.8092,397.8996,159.1453,404.1182,162.7961,409.88,158.46\" style=\"stroke: #383838; stroke-width: 1.0;\"/><text fill=\"#000000\" font-family=\"sans-serif\" font-size=\"13\" lengthAdjust=\"spacingAndGlyphs\" textLength=\"7\" x=\"283.5\" y=\"159.0669\">y</text></a><!--MD5=[604cbf994c02b74b117f728a71673cea]\n",
       "reverse link E10 to E6--><a href=\"psysml:75696b56-911c-4e7f-a413-6399c7af4d3a\" target=\"_top\" title=\"psysml:75696b56-911c-4e7f-a413-6399c7af4d3a\" xlink:actuate=\"onRequest\" xlink:href=\"psysml:75696b56-911c-4e7f-a413-6399c7af4d3a\" xlink:show=\"new\" xlink:title=\"psysml:75696b56-911c-4e7f-a413-6399c7af4d3a\" xlink:type=\"simple\"><path d=\"M533.07,155 C552.19,155 572.24,155 588.55,155 \" fill=\"none\" id=\"E10&lt;-E6\" style=\"stroke: #383838; stroke-width: 1.0;\"/><polygon fill=\"#FFFFFF\" points=\"520.03,155,526.03,159,532.03,155,526.03,151,520.03,155\" style=\"stroke: #383838; stroke-width: 1.0;\"/><text fill=\"#000000\" font-family=\"sans-serif\" font-size=\"13\" lengthAdjust=\"spacingAndGlyphs\" textLength=\"7\" x=\"551\" y=\"151.0669\">y</text></a><!--MD5=[e50d0ddd3647680b5e9f42d0229afe4a]\n",
       "@startuml\r\n",
       "left to right direction\r\n",
       "skinparam monochrome true\r\n",
       "skinparam classbackgroundcolor white\r\n",
       "skinparam shadowing false\r\n",
       "skinparam wrapWidth 300\r\n",
       "hide circle\r\n",
       "\r\n",
       "package \"PartTest\" as E1  [[psysml:538b1265-15ae-4afd-8dd2-ef0f57b41a53 ]]  {\r\n",
       "comp usage \"f: A \" as E2  <<(T,blue) part>> [[psysml:2c090466-3d5c-4444-ba17-090921dc2443 ]] {\r\n",
       "}\r\n",
       "comp def \"A\" as E3  <<(T,blue) part  def>> [[psysml:d1b7cfcb-f6eb-4e6c-b82e-69976e6757f6 ]] {\r\n",
       "- - attributes - -\r\n",
       "x\r\n",
       "y:> A::x\r\n",
       "}\r\n",
       "comp usage \"b: B \" as E4  <<(T,blue) part>> [[psysml:1aa2f075-dfbc-4c28-975e-f9b78ce76d6b ]] {\r\n",
       "}\r\n",
       "comp usage \"c: C \" as E5  <<(T,blue) port>> [[psysml:6b6fc427-035b-4f92-af2f-ae5f46ec13e5 ]] {\r\n",
       "}\r\n",
       "comp def \"<i>B</i>\" as E6  <<(T,blue) part  def>> [[psysml:286e6ef4-92d4-4c1b-a17d-09881da7698b ]] {\r\n",
       "}\r\n",
       "comp usage \"<i>a</i>: A \" as E7  <<(T,blue) part>> [[psysml:215e87e2-ee75-46c7-98ea-4ce8794cdbad ]] {\r\n",
       "}\r\n",
       "comp usage \"x: ~C \" as E8  <<(T,blue) port>> [[psysml:27d37788-2b75-4a5c-b4fe-9553c2483e93 ]] {\r\n",
       "}\r\n",
       "package \"P\" as E9  [[psysml:e555f4d2-547d-4756-8b33-5fda3be7b359 ]]  {\r\n",
       "}\r\n",
       "comp def \"C\" as E10  <<(T,blue) port  def>> [[psysml:3d6805d2-0d33-47df-af88-6771a9177656 ]] {\r\n",
       "- - parameters - -\r\n",
       "<b>in</b> y: A, B <b>alias</b> z2 \r\n",
       "}\r\n",
       "}\r\n",
       "E2 - -:|> E3 [[psysml:02703352-f69e-4a4b-893d-89c09588fdfd ]] \r\n",
       "E3 *- - \"1\"E4 [[psysml:e82a868e-a957-4308-9aca-5f2e1a046a10 ]] \r\n",
       "E3 o- - \"1\"E5 [[psysml:01f43deb-5863-4903-863e-c9a23e0a1180 ]] \r\n",
       "E4 - -:|> E6 [[psysml:6f8c5931-99ab-4f3d-9640-f9d86b709835 ]] \r\n",
       "E6 *- - \"1\"E7 [[psysml:ef71999d-b74e-4e5c-b2f7-aebb94a9d32a ]] \r\n",
       "E7 - -:|> E3 [[psysml:d4047a87-2764-4bb9-9711-6fad77bbdb97 ]] \r\n",
       "E6 o- - \"1\"E8 [[psysml:e9c4c173-85e4-4370-85e4-1c8f2eb4171b ]] \r\n",
       "E6 +- - E9 [[psysml:ab2aae6d-159f-4d7a-a99e-78671a533366 ]] \r\n",
       "E5 - -:|> E10 [[psysml:09169cbe-938d-4307-a584-0b24a5ad62ce ]] \r\n",
       "E10 o- - E3 [[psysml:75696b56-911c-4e7f-a413-6399c7af4d3a ]] : y\r\n",
       "E10 o- - E6 [[psysml:75696b56-911c-4e7f-a413-6399c7af4d3a ]] : y\r\n",
       "@enduml\r\n",
       "\n",
       "PlantUML version 1.2020.13(Sat Jun 13 12:26:38 UTC 2020)\n",
       "(EPL source distribution)\n",
       "Java Runtime: OpenJDK Runtime Environment\n",
       "JVM: OpenJDK 64-Bit Server VM\n",
       "Default Encoding: UTF-8\n",
       "Language: en\n",
       "Country: null\n",
       "--></g></svg>"
      ]
     },
     "execution_count": 17,
     "metadata": {},
     "output_type": "execute_result"
    }
   ],
   "source": [
    "%viz --style=\"LR\" --view=\"Tree\" \"PartTest\""
   ]
  },
  {
   "cell_type": "code",
   "execution_count": 18,
   "id": "c7086ca6",
   "metadata": {
    "execution": {
     "iopub.execute_input": "2022-05-19T08:45:12.383683Z",
     "iopub.status.busy": "2022-05-19T08:45:12.383192Z",
     "iopub.status.idle": "2022-05-19T08:45:12.388591Z",
     "shell.execute_reply": "2022-05-19T08:45:12.388206Z"
    }
   },
   "outputs": [
    {
     "data": {
      "image/svg+xml": [
       "<?xml version=\"1.0\" encoding=\"UTF-8\" standalone=\"no\"?><svg xmlns=\"http://www.w3.org/2000/svg\" xmlns:xlink=\"http://www.w3.org/1999/xlink\" contentScriptType=\"application/ecmascript\" contentStyleType=\"text/css\" height=\"12px\" preserveAspectRatio=\"none\" style=\"width:12px;height:12px;\" version=\"1.1\" viewBox=\"0 0 12 12\" width=\"12px\" zoomAndPan=\"magnify\"><defs/><g><!--MD5=[19d285c9d72a204eba4e2cd117d745e8]\n",
       "@startuml\r\n",
       "left to right direction\r\n",
       "skinparam monochrome true\r\n",
       "skinparam classbackgroundcolor white\r\n",
       "skinparam shadowing false\r\n",
       "skinparam wrapWidth 300\r\n",
       "hide circle\r\n",
       "\r\n",
       "@enduml\r\n",
       "\n",
       "PlantUML version 1.2020.13(Sat Jun 13 12:26:38 UTC 2020)\n",
       "(EPL source distribution)\n",
       "Java Runtime: OpenJDK Runtime Environment\n",
       "JVM: OpenJDK 64-Bit Server VM\n",
       "Default Encoding: UTF-8\n",
       "Language: en\n",
       "Country: null\n",
       "--></g></svg>"
      ]
     },
     "execution_count": 18,
     "metadata": {},
     "output_type": "execute_result"
    }
   ],
   "source": [
    "%viz --style=\"LR\" --view=\"State\" \"PartTest\""
   ]
  },
  {
   "cell_type": "code",
   "execution_count": 19,
   "id": "7904b0a2",
   "metadata": {
    "execution": {
     "iopub.execute_input": "2022-05-19T08:45:12.438691Z",
     "iopub.status.busy": "2022-05-19T08:45:12.438246Z",
     "iopub.status.idle": "2022-05-19T08:45:12.483865Z",
     "shell.execute_reply": "2022-05-19T08:45:12.482300Z"
    }
   },
   "outputs": [
    {
     "data": {
      "image/svg+xml": [
       "<?xml version=\"1.0\" encoding=\"UTF-8\" standalone=\"no\"?><svg xmlns=\"http://www.w3.org/2000/svg\" xmlns:xlink=\"http://www.w3.org/1999/xlink\" contentScriptType=\"application/ecmascript\" contentStyleType=\"text/css\" height=\"485px\" preserveAspectRatio=\"none\" style=\"width:559px;height:485px;\" version=\"1.1\" viewBox=\"0 0 559 485\" width=\"559px\" zoomAndPan=\"magnify\"><defs/><g><!--MD5=[fbc87193dbaf4d95561dea2c320d4a47]\n",
       "cluster E1--><a href=\"psysml:538b1265-15ae-4afd-8dd2-ef0f57b41a53\" target=\"_top\" title=\"psysml:538b1265-15ae-4afd-8dd2-ef0f57b41a53\" xlink:actuate=\"onRequest\" xlink:href=\"psysml:538b1265-15ae-4afd-8dd2-ef0f57b41a53\" xlink:show=\"new\" xlink:title=\"psysml:538b1265-15ae-4afd-8dd2-ef0f57b41a53\" xlink:type=\"simple\"><polygon fill=\"#FFFFFF\" points=\"16,6,80,6,87,28.2969,537,28.2969,537,473,16,473,16,6\" style=\"stroke: #000000; stroke-width: 1.5;\"/><line style=\"stroke: #000000; stroke-width: 1.5;\" x1=\"16\" x2=\"87\" y1=\"28.2969\" y2=\"28.2969\"/><text fill=\"#000000\" font-family=\"sans-serif\" font-size=\"14\" font-weight=\"bold\" lengthAdjust=\"spacingAndGlyphs\" textLength=\"58\" x=\"20\" y=\"20.9951\">PartTest</text></a><!--MD5=[d5e69f78d87373223dbae638b30a9c99]\n",
       "cluster E3--><a href=\"psysml:d1b7cfcb-f6eb-4e6c-b82e-69976e6757f6\" target=\"_top\" title=\"psysml:d1b7cfcb-f6eb-4e6c-b82e-69976e6757f6\" xlink:actuate=\"onRequest\" xlink:href=\"psysml:d1b7cfcb-f6eb-4e6c-b82e-69976e6757f6\" xlink:show=\"new\" xlink:title=\"psysml:d1b7cfcb-f6eb-4e6c-b82e-69976e6757f6\" xlink:type=\"simple\"><rect fill=\"#FFFFFF\" height=\"169\" id=\"E3\" style=\"stroke: #383838; stroke-width: 1.5;\" width=\"257.5\" x=\"69.5\" y=\"232\"/><rect fill=\"#F8F8F8\" height=\"37.9375\" style=\"stroke: #383838; stroke-width: 1.5;\" width=\"257.5\" x=\"69.5\" y=\"232\"/><text fill=\"#000000\" font-family=\"sans-serif\" font-size=\"12\" font-style=\"italic\" lengthAdjust=\"spacingAndGlyphs\" textLength=\"68\" x=\"164.25\" y=\"248.1387\">«part  def»</text><text fill=\"#000000\" font-family=\"sans-serif\" font-size=\"12\" lengthAdjust=\"spacingAndGlyphs\" textLength=\"8\" x=\"194.25\" y=\"262.1074\">A</text></a><!--MD5=[55dfccfc6c49c2d10cd1bd2211a6c90c]\n",
       "cluster E8--><a href=\"psysml:286e6ef4-92d4-4c1b-a17d-09881da7698b\" target=\"_top\" title=\"psysml:286e6ef4-92d4-4c1b-a17d-09881da7698b\" xlink:actuate=\"onRequest\" xlink:href=\"psysml:286e6ef4-92d4-4c1b-a17d-09881da7698b\" xlink:show=\"new\" xlink:title=\"psysml:286e6ef4-92d4-4c1b-a17d-09881da7698b\" xlink:type=\"simple\"><rect fill=\"#FFFFFF\" height=\"159\" id=\"E8\" style=\"stroke: #383838; stroke-width: 1.5;\" width=\"245.5\" x=\"267.5\" y=\"49\"/><rect fill=\"#F8F8F8\" height=\"37.9375\" style=\"stroke: #383838; stroke-width: 1.5;\" width=\"245.5\" x=\"267.5\" y=\"49\"/><text fill=\"#000000\" font-family=\"sans-serif\" font-size=\"12\" font-style=\"italic\" lengthAdjust=\"spacingAndGlyphs\" textLength=\"68\" x=\"356.25\" y=\"65.1387\">«part  def»</text><text fill=\"#000000\" font-family=\"sans-serif\" font-size=\"12\" font-style=\"italic\" lengthAdjust=\"spacingAndGlyphs\" textLength=\"8\" x=\"386.25\" y=\"79.1074\">B</text></a><g id=\"E1.E12\"><a href=\"psysml:3d6805d2-0d33-47df-af88-6771a9177656\" target=\"_top\" title=\"psysml:3d6805d2-0d33-47df-af88-6771a9177656\" xlink:actuate=\"onRequest\" xlink:href=\"psysml:3d6805d2-0d33-47df-af88-6771a9177656\" xlink:show=\"new\" xlink:title=\"psysml:3d6805d2-0d33-47df-af88-6771a9177656\" xlink:type=\"simple\"><rect fill=\"#FFFFFF\" height=\"42.9375\" id=\"E12\" style=\"stroke: #383838; stroke-width: 1.5;\" width=\"75\" x=\"32\" y=\"107.5\"/><rect fill=\"#F8F8F8\" height=\"37.9375\" style=\"stroke: #383838; stroke-width: 1.5;\" width=\"75\" x=\"32\" y=\"107.5\"/><text fill=\"#000000\" font-family=\"sans-serif\" font-size=\"12\" font-style=\"italic\" lengthAdjust=\"spacingAndGlyphs\" textLength=\"68\" x=\"35.5\" y=\"123.6387\">«port  def»</text><text fill=\"#000000\" font-family=\"sans-serif\" font-size=\"12\" lengthAdjust=\"spacingAndGlyphs\" textLength=\"8\" x=\"65.5\" y=\"137.6074\">C</text></a></g><g id=\"E1.E2\"><a href=\"psysml:2c090466-3d5c-4444-ba17-090921dc2443\" target=\"_top\" title=\"psysml:2c090466-3d5c-4444-ba17-090921dc2443\" xlink:actuate=\"onRequest\" xlink:href=\"psysml:2c090466-3d5c-4444-ba17-090921dc2443\" xlink:show=\"new\" xlink:title=\"psysml:2c090466-3d5c-4444-ba17-090921dc2443\" xlink:type=\"simple\"><rect fill=\"#FFFFFF\" height=\"40\" id=\"E2\" rx=\"10\" ry=\"10\" style=\"stroke: #383838; stroke-width: 1.5;\" width=\"50\" x=\"44.5\" y=\"417\"/><rect fill=\"#F8F8F8\" height=\"23.9688\" rx=\"10\" ry=\"10\" style=\"stroke: #F8F8F8; stroke-width: 1.5;\" width=\"50\" x=\"44.5\" y=\"417\"/><rect fill=\"#F8F8F8\" height=\"10\" style=\"stroke: #F8F8F8; stroke-width: 1.5;\" width=\"50\" x=\"44.5\" y=\"430.9688\"/><rect fill=\"none\" height=\"40\" id=\"E2\" rx=\"10\" ry=\"10\" style=\"stroke: #383838; stroke-width: 1.5;\" width=\"50\" x=\"44.5\" y=\"417\"/><text fill=\"#000000\" font-family=\"sans-serif\" font-size=\"12\" lengthAdjust=\"spacingAndGlyphs\" textLength=\"20\" x=\"59.5\" y=\"433.1387\">f: A</text></a></g><text fill=\"#000000\" font-family=\"sans-serif\" font-size=\"14\" lengthAdjust=\"spacingAndGlyphs\" textLength=\"27\" x=\"54\" y=\"254.6982\">c: C</text><rect fill=\"#383838\" height=\"12\" style=\"stroke: #F8F8F8; stroke-width: 1.5;\" width=\"12\" x=\"63.5\" y=\"270\"/><!--MD5=[60a26617385b1d2d0262a64233df1f8d]\n",
       "class E6--><a href=\"psysml:06f02a55-455e-4cd3-969d-a4f55ea12e51\" target=\"_top\" title=\"psysml:06f02a55-455e-4cd3-969d-a4f55ea12e51\" xlink:actuate=\"onRequest\" xlink:href=\"psysml:06f02a55-455e-4cd3-969d-a4f55ea12e51\" xlink:show=\"new\" xlink:title=\"psysml:06f02a55-455e-4cd3-969d-a4f55ea12e51\" xlink:type=\"simple\"><rect fill=\"#FFFFFF\" height=\"45.9375\" id=\"E6\" rx=\"10\" ry=\"10\" style=\"stroke: #383838; stroke-width: 1.5;\" width=\"71\" x=\"232\" y=\"331\"/><text fill=\"#000000\" font-family=\"sans-serif\" font-size=\"12\" font-style=\"italic\" lengthAdjust=\"spacingAndGlyphs\" textLength=\"69\" x=\"233\" y=\"347.1387\">«attribute»</text><text fill=\"#000000\" font-family=\"sans-serif\" font-size=\"12\" lengthAdjust=\"spacingAndGlyphs\" textLength=\"6\" x=\"262.5\" y=\"361.1074\">x</text><line style=\"stroke: #383838; stroke-width: 1.5;\" x1=\"233\" x2=\"302\" y1=\"368.9375\" y2=\"368.9375\"/></a><!--MD5=[2156ba9850f5573cc1fc38a6a4b2f02b]\n",
       "class E7--><a href=\"psysml:76b35b38-8c6d-4280-8e5f-8b677c2aa039\" target=\"_top\" title=\"psysml:76b35b38-8c6d-4280-8e5f-8b677c2aa039\" xlink:actuate=\"onRequest\" xlink:href=\"psysml:76b35b38-8c6d-4280-8e5f-8b677c2aa039\" xlink:show=\"new\" xlink:title=\"psysml:76b35b38-8c6d-4280-8e5f-8b677c2aa039\" xlink:type=\"simple\"><rect fill=\"#FFFFFF\" height=\"45.9375\" id=\"E7\" rx=\"10\" ry=\"10\" style=\"stroke: #383838; stroke-width: 1.5;\" width=\"71\" x=\"141\" y=\"331\"/><text fill=\"#000000\" font-family=\"sans-serif\" font-size=\"12\" font-style=\"italic\" lengthAdjust=\"spacingAndGlyphs\" textLength=\"69\" x=\"142\" y=\"347.1387\">«attribute»</text><text fill=\"#000000\" font-family=\"sans-serif\" font-size=\"12\" lengthAdjust=\"spacingAndGlyphs\" textLength=\"50\" x=\"151.5\" y=\"361.1074\">y :&gt; A::x</text><line style=\"stroke: #383838; stroke-width: 1.5;\" x1=\"142\" x2=\"211\" y1=\"368.9375\" y2=\"368.9375\"/></a><g id=\"E1.E3.E4\"><a href=\"psysml:1aa2f075-dfbc-4c28-975e-f9b78ce76d6b\" target=\"_top\" title=\"psysml:1aa2f075-dfbc-4c28-975e-f9b78ce76d6b\" xlink:actuate=\"onRequest\" xlink:href=\"psysml:1aa2f075-dfbc-4c28-975e-f9b78ce76d6b\" xlink:show=\"new\" xlink:title=\"psysml:1aa2f075-dfbc-4c28-975e-f9b78ce76d6b\" xlink:type=\"simple\"><rect fill=\"#FFFFFF\" height=\"40\" id=\"E4\" rx=\"10\" ry=\"10\" style=\"stroke: #383838; stroke-width: 1.5;\" width=\"50\" x=\"242.5\" y=\"256\"/><rect fill=\"#F8F8F8\" height=\"23.9688\" rx=\"10\" ry=\"10\" style=\"stroke: #F8F8F8; stroke-width: 1.5;\" width=\"50\" x=\"242.5\" y=\"256\"/><rect fill=\"#F8F8F8\" height=\"10\" style=\"stroke: #F8F8F8; stroke-width: 1.5;\" width=\"50\" x=\"242.5\" y=\"269.9688\"/><rect fill=\"none\" height=\"40\" id=\"E4\" rx=\"10\" ry=\"10\" style=\"stroke: #383838; stroke-width: 1.5;\" width=\"50\" x=\"242.5\" y=\"256\"/><text fill=\"#000000\" font-family=\"sans-serif\" font-size=\"12\" lengthAdjust=\"spacingAndGlyphs\" textLength=\"24\" x=\"255.5\" y=\"272.1387\">b: B</text></a></g><text fill=\"#000000\" font-family=\"sans-serif\" font-size=\"14\" lengthAdjust=\"spacingAndGlyphs\" textLength=\"38\" x=\"246.5\" y=\"69.6982\">x: ~C</text><rect fill=\"#383838\" height=\"12\" style=\"stroke: #F8F8F8; stroke-width: 1.5;\" width=\"12\" x=\"261.5\" y=\"85\"/><g id=\"E1.E8.E9\"><a href=\"psysml:215e87e2-ee75-46c7-98ea-4ce8794cdbad\" target=\"_top\" title=\"psysml:215e87e2-ee75-46c7-98ea-4ce8794cdbad\" xlink:actuate=\"onRequest\" xlink:href=\"psysml:215e87e2-ee75-46c7-98ea-4ce8794cdbad\" xlink:show=\"new\" xlink:title=\"psysml:215e87e2-ee75-46c7-98ea-4ce8794cdbad\" xlink:type=\"simple\"><rect fill=\"#FFFFFF\" height=\"40\" id=\"E9\" rx=\"10\" ry=\"10\" style=\"stroke: #383838; stroke-width: 1.5;\" width=\"50\" x=\"379.5\" y=\"144\"/><rect fill=\"#F8F8F8\" height=\"23.9688\" rx=\"10\" ry=\"10\" style=\"stroke: #F8F8F8; stroke-width: 1.5;\" width=\"50\" x=\"379.5\" y=\"144\"/><rect fill=\"#F8F8F8\" height=\"10\" style=\"stroke: #F8F8F8; stroke-width: 1.5;\" width=\"50\" x=\"379.5\" y=\"157.9688\"/><rect fill=\"none\" height=\"40\" id=\"E9\" rx=\"10\" ry=\"10\" style=\"stroke: #383838; stroke-width: 1.5;\" width=\"50\" x=\"379.5\" y=\"144\"/><text fill=\"#000000\" font-family=\"sans-serif\" font-size=\"12\" lengthAdjust=\"spacingAndGlyphs\" textLength=\"24\" x=\"392.5\" y=\"160.1387\">a: A</text></a></g><a href=\"psysml:e555f4d2-547d-4756-8b33-5fda3be7b359\" target=\"_top\" title=\"psysml:e555f4d2-547d-4756-8b33-5fda3be7b359\" xlink:actuate=\"onRequest\" xlink:href=\"psysml:e555f4d2-547d-4756-8b33-5fda3be7b359\" xlink:show=\"new\" xlink:title=\"psysml:e555f4d2-547d-4756-8b33-5fda3be7b359\" xlink:type=\"simple\"><polygon fill=\"#FFFFFF\" points=\"460,73.5,475,73.5,482,95.7969,489,95.7969,489,126.0938,460,126.0938,460,73.5\" style=\"stroke: #000000; stroke-width: 1.5;\"/><line style=\"stroke: #000000; stroke-width: 1.5;\" x1=\"460\" x2=\"482\" y1=\"95.7969\" y2=\"95.7969\"/><text fill=\"#000000\" font-family=\"sans-serif\" font-size=\"14\" font-weight=\"bold\" lengthAdjust=\"spacingAndGlyphs\" textLength=\"9\" x=\"464\" y=\"88.4951\">P</text></a><!--MD5=[2720a5a1f2c3fca2055b230370638851]\n",
       "link E2 to E3--><a href=\"psysml:02703352-f69e-4a4b-893d-89c09588fdfd\" target=\"_top\" title=\"psysml:02703352-f69e-4a4b-893d-89c09588fdfd\" xlink:actuate=\"onRequest\" xlink:href=\"psysml:02703352-f69e-4a4b-893d-89c09588fdfd\" xlink:show=\"new\" xlink:title=\"psysml:02703352-f69e-4a4b-893d-89c09588fdfd\" xlink:type=\"simple\"><path d=\"M94.57,423.14 C99.46,419.2 104.01,414.47 107,409 C108.2825,406.6513 109.3482,404.3634 110.2246,402.1292 C110.3341,401.8499 110.4407,401.5715 110.5444,401.2939 \" fill=\"none\" id=\"E2-&gt;E3\" style=\"stroke: #383838; stroke-width: 1.0;\"/><polygon fill=\"#FFFFFF\" points=\"110.5444,401.2939,110.4539,421.5421,97.3389,416.6436,110.5444,401.2939\" style=\"stroke: #383838; stroke-width: 1.0;\"/><ellipse cx=\"106.586\" cy=\"426.1821\" fill=\"#383838\" rx=\"2\" ry=\"2\" style=\"stroke: #383838; stroke-width: 1.0;\"/><ellipse cx=\"97.2181\" cy=\"422.6831\" fill=\"#383838\" rx=\"2\" ry=\"2\" style=\"stroke: #383838; stroke-width: 1.0;\"/></a><!--MD5=[353cdda3e1e05fc02373f055b6f604ae]\n",
       "link E4 to E8--><a href=\"psysml:6f8c5931-99ab-4f3d-9640-f9d86b709835\" target=\"_top\" title=\"psysml:6f8c5931-99ab-4f3d-9640-f9d86b709835\" xlink:actuate=\"onRequest\" xlink:href=\"psysml:6f8c5931-99ab-4f3d-9640-f9d86b709835\" xlink:show=\"new\" xlink:title=\"psysml:6f8c5931-99ab-4f3d-9640-f9d86b709835\" xlink:type=\"simple\"><path d=\"M292.75,261.05 C307.65,250.44 325.63,234.78 335,216 C336.12,213.7538 337.0469,211.569 337.8058,209.4385 C337.9006,209.1722 337.9929,208.9068 338.0825,208.6421 C338.1273,208.5098 338.1715,208.3777 338.2151,208.2458 \" fill=\"none\" id=\"E4-&gt;E8\" style=\"stroke: #383838; stroke-width: 1.0;\"/><polygon fill=\"#FFFFFF\" points=\"338.2151,208.2458,338.9057,228.4825,325.6114,224.0935,338.2151,208.2458\" style=\"stroke: #383838; stroke-width: 1.0;\"/><ellipse cx=\"335.2195\" cy=\"233.2681\" fill=\"#383838\" rx=\"2\" ry=\"2\" style=\"stroke: #383838; stroke-width: 1.0;\"/><ellipse cx=\"325.7237\" cy=\"230.1331\" fill=\"#383838\" rx=\"2\" ry=\"2\" style=\"stroke: #383838; stroke-width: 1.0;\"/></a><!--MD5=[fbb449814971db3a0b8220cf225b9e01]\n",
       "link E7 to E6--><a href=\"psysml:ae54614b-4129-4b1b-b401-8ec489119004\" target=\"_top\" title=\"psysml:ae54614b-4129-4b1b-b401-8ec489119004\" xlink:actuate=\"onRequest\" xlink:href=\"psysml:ae54614b-4129-4b1b-b401-8ec489119004\" xlink:show=\"new\" xlink:title=\"psysml:ae54614b-4129-4b1b-b401-8ec489119004\" xlink:type=\"simple\"><path d=\"M212.16,354 C212.27,354 212.37,354 212.47,354 \" fill=\"none\" id=\"E7-&gt;E6\" style=\"stroke: #383838; stroke-width: 1.0;\"/><polygon fill=\"none\" points=\"211.78,347,231.78,354,211.78,361,211.78,347\" style=\"stroke: #383838; stroke-width: 1.0;\"/><line style=\"stroke: #383838; stroke-width: 1.0;\" x1=\"212.16\" x2=\"231.78\" y1=\"354\" y2=\"354\"/></a><!--MD5=[92a97fc68b0cf8efbbf01f4f6b4ceef7]\n",
       "link E9 to E3--><a href=\"psysml:d4047a87-2764-4bb9-9711-6fad77bbdb97\" target=\"_top\" title=\"psysml:d4047a87-2764-4bb9-9711-6fad77bbdb97\" xlink:actuate=\"onRequest\" xlink:href=\"psysml:d4047a87-2764-4bb9-9711-6fad77bbdb97\" xlink:show=\"new\" xlink:title=\"psysml:d4047a87-2764-4bb9-9711-6fad77bbdb97\" xlink:type=\"simple\"><path d=\"M379.48,172.6 C362.56,178.855 338.2975,188.185 311.9613,199.4613 C298.7931,205.0994 285.1066,211.2241 271.5602,217.6942 C264.787,220.9293 258.0488,224.2507 251.428,227.6409 C249.7728,228.4885 248.1249,229.3403 246.4857,230.1962 C245.6661,230.6241 244.8486,231.053 244.0334,231.4829 C243.8297,231.5904 243.626,231.6979 243.4225,231.8055 \" fill=\"none\" id=\"E9-&gt;E3\" style=\"stroke: #383838; stroke-width: 1.0;\"/><polygon fill=\"#FFFFFF\" points=\"243.4225,231.8055,256.9471,216.7362,263.4911,229.1127,243.4225,231.8055\" style=\"stroke: #383838; stroke-width: 1.0;\"/><ellipse cx=\"262.921\" cy=\"215.8399\" fill=\"#383838\" rx=\"2\" ry=\"2\" style=\"stroke: #383838; stroke-width: 1.0;\"/><ellipse cx=\"267.5952\" cy=\"224.6803\" fill=\"#383838\" rx=\"2\" ry=\"2\" style=\"stroke: #383838; stroke-width: 1.0;\"/></a><!--MD5=[32c9e2a1b9c3425b739057cf56d6b2fb]\n",
       "@startuml\r\n",
       "skinparam ranksep 10\r\n",
       "skinparam rectangle {\r\n",
       " backgroundColor<<block>> LightGreen\r\n",
       "}\r\n",
       "left to right direction\r\n",
       "skinparam monochrome true\r\n",
       "skinparam classbackgroundcolor white\r\n",
       "skinparam shadowing false\r\n",
       "skinparam wrapWidth 300\r\n",
       "hide circle\r\n",
       "\r\n",
       "package \"PartTest\" as E1  [[psysml:538b1265-15ae-4afd-8dd2-ef0f57b41a53 ]]  {\r\n",
       "rec usage \"f: A\" as E2  [[psysml:2c090466-3d5c-4444-ba17-090921dc2443 ]] {\r\n",
       "}\r\n",
       "rec def \"A\" as E3  <<(T,blue) part  def>> [[psysml:d1b7cfcb-f6eb-4e6c-b82e-69976e6757f6 ]] {\r\n",
       "rec usage \"b: B\" as E4  [[psysml:1aa2f075-dfbc-4c28-975e-f9b78ce76d6b ]] {\r\n",
       "}\r\n",
       "portin \"c: C \" as E5  <<(T,blue) port>> [[psysml:6b6fc427-035b-4f92-af2f-ae5f46ec13e5 ]] \r\n",
       "comp usage \"x \" as E6  <<(T,blue) attribute>> [[psysml:06f02a55-455e-4cd3-969d-a4f55ea12e51 ]] {\r\n",
       "}\r\n",
       "comp usage \"y :> A::x\" as E7  <<(T,blue) attribute>> [[psysml:76b35b38-8c6d-4280-8e5f-8b677c2aa039 ]] {\r\n",
       "}\r\n",
       "}\r\n",
       "rec def \"<i>B</i>\" as E8  <<(T,blue) part  def>> [[psysml:286e6ef4-92d4-4c1b-a17d-09881da7698b ]] {\r\n",
       "rec usage \"a: A\" as E9  [[psysml:215e87e2-ee75-46c7-98ea-4ce8794cdbad ]] {\r\n",
       "}\r\n",
       "portin \"x: ~C \" as E10  <<(T,blue) port>> [[psysml:27d37788-2b75-4a5c-b4fe-9553c2483e93 ]] \r\n",
       "package \"P\" as E11  [[psysml:e555f4d2-547d-4756-8b33-5fda3be7b359 ]]  {\r\n",
       "}\r\n",
       "}\r\n",
       "def \"C\" as E12  <<(T,blue) port  def>> [[psysml:3d6805d2-0d33-47df-af88-6771a9177656 ]] \r\n",
       "}\r\n",
       "E2 - -:|> E3 [[psysml:02703352-f69e-4a4b-893d-89c09588fdfd ]] \r\n",
       "E4 - -:|> E8 [[psysml:6f8c5931-99ab-4f3d-9640-f9d86b709835 ]] \r\n",
       "E7 - -|> E6 [[psysml:ae54614b-4129-4b1b-b401-8ec489119004 ]] \r\n",
       "E9 - -:|> E3 [[psysml:d4047a87-2764-4bb9-9711-6fad77bbdb97 ]] \r\n",
       "@enduml\r\n",
       "\n",
       "PlantUML version 1.2020.13(Sat Jun 13 12:26:38 UTC 2020)\n",
       "(EPL source distribution)\n",
       "Java Runtime: OpenJDK Runtime Environment\n",
       "JVM: OpenJDK 64-Bit Server VM\n",
       "Default Encoding: UTF-8\n",
       "Language: en\n",
       "Country: null\n",
       "--></g></svg>"
      ]
     },
     "execution_count": 19,
     "metadata": {},
     "output_type": "execute_result"
    }
   ],
   "source": [
    "%viz --style=\"LR\" --view=\"Interconnection\" \"PartTest\""
   ]
  },
  {
   "cell_type": "code",
   "execution_count": 20,
   "id": "356229b0",
   "metadata": {
    "execution": {
     "iopub.execute_input": "2022-05-19T08:45:12.533707Z",
     "iopub.status.busy": "2022-05-19T08:45:12.533160Z",
     "iopub.status.idle": "2022-05-19T08:45:12.538316Z",
     "shell.execute_reply": "2022-05-19T08:45:12.537890Z"
    }
   },
   "outputs": [
    {
     "data": {
      "image/svg+xml": [
       "<?xml version=\"1.0\" encoding=\"UTF-8\" standalone=\"no\"?><svg xmlns=\"http://www.w3.org/2000/svg\" xmlns:xlink=\"http://www.w3.org/1999/xlink\" contentScriptType=\"application/ecmascript\" contentStyleType=\"text/css\" height=\"12px\" preserveAspectRatio=\"none\" style=\"width:12px;height:12px;\" version=\"1.1\" viewBox=\"0 0 12 12\" width=\"12px\" zoomAndPan=\"magnify\"><defs/><g><!--MD5=[7aeb398939421629f6affaa4a1a7b125]\n",
       "@startuml\r\n",
       "skinparam ranksep 8\r\n",
       "left to right direction\r\n",
       "skinparam monochrome true\r\n",
       "skinparam classbackgroundcolor white\r\n",
       "skinparam shadowing false\r\n",
       "skinparam wrapWidth 300\r\n",
       "hide circle\r\n",
       "\r\n",
       "@enduml\r\n",
       "\n",
       "PlantUML version 1.2020.13(Sat Jun 13 12:26:38 UTC 2020)\n",
       "(EPL source distribution)\n",
       "Java Runtime: OpenJDK Runtime Environment\n",
       "JVM: OpenJDK 64-Bit Server VM\n",
       "Default Encoding: UTF-8\n",
       "Language: en\n",
       "Country: null\n",
       "--></g></svg>"
      ]
     },
     "execution_count": 20,
     "metadata": {},
     "output_type": "execute_result"
    }
   ],
   "source": [
    "%viz --style=\"LR\" --view=\"Action\" \"PartTest\""
   ]
  },
  {
   "cell_type": "code",
   "execution_count": 21,
   "id": "b2faea0f",
   "metadata": {
    "execution": {
     "iopub.execute_input": "2022-05-19T08:45:12.588435Z",
     "iopub.status.busy": "2022-05-19T08:45:12.587855Z",
     "iopub.status.idle": "2022-05-19T08:45:12.591725Z",
     "shell.execute_reply": "2022-05-19T08:45:12.591328Z"
    }
   },
   "outputs": [
    {
     "data": {
      "image/svg+xml": [
       "<?xml version=\"1.0\" encoding=\"UTF-8\" standalone=\"no\"?><svg xmlns=\"http://www.w3.org/2000/svg\" xmlns:xlink=\"http://www.w3.org/1999/xlink\" contentScriptType=\"application/ecmascript\" contentStyleType=\"text/css\" height=\"12px\" preserveAspectRatio=\"none\" style=\"width:12px;height:12px;\" version=\"1.1\" viewBox=\"0 0 12 12\" width=\"12px\" zoomAndPan=\"magnify\"><defs/><g><!--MD5=[238c11ea2002f03115ad6b49a457d50e]\n",
       "@startuml\r\n",
       "skinparam roundcorner 20\r\n",
       "skinparam BoxPadding 20\r\n",
       "skinparam SequenceBoxBackgroundColor #white\r\n",
       "skinparam style strictuml\r\n",
       "skinparam maxMessageSize 100\r\n",
       "left to right direction\r\n",
       "skinparam monochrome true\r\n",
       "skinparam classbackgroundcolor white\r\n",
       "skinparam shadowing false\r\n",
       "skinparam wrapWidth 300\r\n",
       "hide circle\r\n",
       "\r\n",
       "@enduml\r\n",
       "\n",
       "PlantUML version 1.2020.13(Sat Jun 13 12:26:38 UTC 2020)\n",
       "(EPL source distribution)\n",
       "Java Runtime: OpenJDK Runtime Environment\n",
       "JVM: OpenJDK 64-Bit Server VM\n",
       "Default Encoding: UTF-8\n",
       "Language: en\n",
       "Country: null\n",
       "--></g></svg>"
      ]
     },
     "execution_count": 21,
     "metadata": {},
     "output_type": "execute_result"
    }
   ],
   "source": [
    "%viz --style=\"LR\" --view=\"Sequence\" \"PartTest\""
   ]
  },
  {
   "cell_type": "code",
   "execution_count": 22,
   "id": "8c283054",
   "metadata": {
    "execution": {
     "iopub.execute_input": "2022-05-19T08:45:12.642000Z",
     "iopub.status.busy": "2022-05-19T08:45:12.641414Z",
     "iopub.status.idle": "2022-05-19T08:45:12.725568Z",
     "shell.execute_reply": "2022-05-19T08:45:12.724238Z"
    }
   },
   "outputs": [
    {
     "data": {
      "image/svg+xml": [
       "<?xml version=\"1.0\" encoding=\"UTF-8\" standalone=\"no\"?><svg xmlns=\"http://www.w3.org/2000/svg\" xmlns:xlink=\"http://www.w3.org/1999/xlink\" contentScriptType=\"application/ecmascript\" contentStyleType=\"text/css\" height=\"285px\" preserveAspectRatio=\"none\" style=\"width:800px;height:285px;\" version=\"1.1\" viewBox=\"0 0 800 285\" width=\"800px\" zoomAndPan=\"magnify\"><defs/><g><!--MD5=[fbc87193dbaf4d95561dea2c320d4a47]\n",
       "cluster E1--><a href=\"psysml:538b1265-15ae-4afd-8dd2-ef0f57b41a53\" target=\"_top\" title=\"psysml:538b1265-15ae-4afd-8dd2-ef0f57b41a53\" xlink:actuate=\"onRequest\" xlink:href=\"psysml:538b1265-15ae-4afd-8dd2-ef0f57b41a53\" xlink:show=\"new\" xlink:title=\"psysml:538b1265-15ae-4afd-8dd2-ef0f57b41a53\" xlink:type=\"simple\"><polygon fill=\"#FFFFFF\" points=\"16,6,80,6,87,28.2969,778,28.2969,778,273,16,273,16,6\" style=\"stroke: #000000; stroke-width: 1.5;\"/><line style=\"stroke: #000000; stroke-width: 1.5;\" x1=\"16\" x2=\"87\" y1=\"28.2969\" y2=\"28.2969\"/><text fill=\"#000000\" font-family=\"sans-serif\" font-size=\"14\" font-weight=\"bold\" lengthAdjust=\"spacingAndGlyphs\" textLength=\"58\" x=\"20\" y=\"20.9951\">PartTest</text></a><!--MD5=[b4997ac47864f28c2f74865a473b2911]\n",
       "class E2--><a href=\"psysml:2c090466-3d5c-4444-ba17-090921dc2443\" target=\"_top\" title=\"psysml:2c090466-3d5c-4444-ba17-090921dc2443\" xlink:actuate=\"onRequest\" xlink:href=\"psysml:2c090466-3d5c-4444-ba17-090921dc2443\" xlink:show=\"new\" xlink:title=\"psysml:2c090466-3d5c-4444-ba17-090921dc2443\" xlink:type=\"simple\"><rect fill=\"#FFFFFF\" height=\"45.9375\" id=\"E2\" rx=\"10\" ry=\"10\" style=\"stroke: #383838; stroke-width: 1.5;\" width=\"42\" x=\"32\" y=\"138\"/><text fill=\"#000000\" font-family=\"sans-serif\" font-size=\"12\" font-style=\"italic\" lengthAdjust=\"spacingAndGlyphs\" textLength=\"40\" x=\"33\" y=\"154.1387\">«part»</text><text fill=\"#000000\" font-family=\"sans-serif\" font-size=\"12\" lengthAdjust=\"spacingAndGlyphs\" textLength=\"20\" x=\"41\" y=\"168.1074\">f: A</text><line style=\"stroke: #383838; stroke-width: 1.5;\" x1=\"33\" x2=\"73\" y1=\"175.9375\" y2=\"175.9375\"/></a><!--MD5=[09b614a08d8cba4a07c9adeb5e0fee81]\n",
       "class E3--><a href=\"psysml:d1b7cfcb-f6eb-4e6c-b82e-69976e6757f6\" target=\"_top\" title=\"psysml:d1b7cfcb-f6eb-4e6c-b82e-69976e6757f6\" xlink:actuate=\"onRequest\" xlink:href=\"psysml:d1b7cfcb-f6eb-4e6c-b82e-69976e6757f6\" xlink:show=\"new\" xlink:title=\"psysml:d1b7cfcb-f6eb-4e6c-b82e-69976e6757f6\" xlink:type=\"simple\"><rect fill=\"#FFFFFF\" height=\"88.3516\" id=\"E3\" style=\"stroke: #383838; stroke-width: 1.5;\" width=\"70\" x=\"135\" y=\"117\"/><text fill=\"#000000\" font-family=\"sans-serif\" font-size=\"12\" font-style=\"italic\" lengthAdjust=\"spacingAndGlyphs\" textLength=\"68\" x=\"136\" y=\"133.1387\">«part  def»</text><text fill=\"#000000\" font-family=\"sans-serif\" font-size=\"12\" lengthAdjust=\"spacingAndGlyphs\" textLength=\"8\" x=\"166\" y=\"147.1074\">A</text><line style=\"stroke: #383838; stroke-width: 1.5;\" x1=\"136\" x2=\"204\" y1=\"154.9375\" y2=\"154.9375\"/><text fill=\"#000000\" font-family=\"sans-serif\" font-size=\"11\" lengthAdjust=\"spacingAndGlyphs\" textLength=\"6\" x=\"141\" y=\"185.9526\">x</text><text fill=\"#000000\" font-family=\"sans-serif\" font-size=\"11\" lengthAdjust=\"spacingAndGlyphs\" textLength=\"44\" x=\"141\" y=\"198.7573\">y:&gt; A::x</text><line style=\"stroke: #383838; stroke-width: 1.0;\" x1=\"136\" x2=\"142.5\" y1=\"169.3398\" y2=\"169.3398\"/><text fill=\"#000000\" font-family=\"sans-serif\" font-size=\"11\" lengthAdjust=\"spacingAndGlyphs\" textLength=\"55\" x=\"142.5\" y=\"172.6479\">attributes</text><line style=\"stroke: #383838; stroke-width: 1.0;\" x1=\"197.5\" x2=\"204\" y1=\"169.3398\" y2=\"169.3398\"/></a><!--MD5=[ebbe1d658d1005bcc118a6aa81145e00]\n",
       "class E4--><a href=\"psysml:1aa2f075-dfbc-4c28-975e-f9b78ce76d6b\" target=\"_top\" title=\"psysml:1aa2f075-dfbc-4c28-975e-f9b78ce76d6b\" xlink:actuate=\"onRequest\" xlink:href=\"psysml:1aa2f075-dfbc-4c28-975e-f9b78ce76d6b\" xlink:show=\"new\" xlink:title=\"psysml:1aa2f075-dfbc-4c28-975e-f9b78ce76d6b\" xlink:type=\"simple\"><rect fill=\"#FFFFFF\" height=\"45.9375\" id=\"E4\" rx=\"10\" ry=\"10\" style=\"stroke: #383838; stroke-width: 1.5;\" width=\"42\" x=\"338\" y=\"210\"/><text fill=\"#000000\" font-family=\"sans-serif\" font-size=\"12\" font-style=\"italic\" lengthAdjust=\"spacingAndGlyphs\" textLength=\"40\" x=\"339\" y=\"226.1387\">«part»</text><text fill=\"#000000\" font-family=\"sans-serif\" font-size=\"12\" lengthAdjust=\"spacingAndGlyphs\" textLength=\"24\" x=\"345\" y=\"240.1074\">b: B</text><line style=\"stroke: #383838; stroke-width: 1.5;\" x1=\"339\" x2=\"379\" y1=\"247.9375\" y2=\"247.9375\"/></a><!--MD5=[270fce915f116d4de14055a7c1d9a0f3]\n",
       "class E5--><a href=\"psysml:6b6fc427-035b-4f92-af2f-ae5f46ec13e5\" target=\"_top\" title=\"psysml:6b6fc427-035b-4f92-af2f-ae5f46ec13e5\" xlink:actuate=\"onRequest\" xlink:href=\"psysml:6b6fc427-035b-4f92-af2f-ae5f46ec13e5\" xlink:show=\"new\" xlink:title=\"psysml:6b6fc427-035b-4f92-af2f-ae5f46ec13e5\" xlink:type=\"simple\"><rect fill=\"#FFFFFF\" height=\"45.9375\" id=\"E5\" rx=\"10\" ry=\"10\" style=\"stroke: #383838; stroke-width: 1.5;\" width=\"42\" x=\"266\" y=\"83\"/><text fill=\"#000000\" font-family=\"sans-serif\" font-size=\"12\" font-style=\"italic\" lengthAdjust=\"spacingAndGlyphs\" textLength=\"40\" x=\"267\" y=\"99.1387\">«port»</text><text fill=\"#000000\" font-family=\"sans-serif\" font-size=\"12\" lengthAdjust=\"spacingAndGlyphs\" textLength=\"23\" x=\"273.5\" y=\"113.1074\">c: C</text><line style=\"stroke: #383838; stroke-width: 1.5;\" x1=\"267\" x2=\"307\" y1=\"120.9375\" y2=\"120.9375\"/></a><!--MD5=[60a26617385b1d2d0262a64233df1f8d]\n",
       "class E6--><a href=\"psysml:286e6ef4-92d4-4c1b-a17d-09881da7698b\" target=\"_top\" title=\"psysml:286e6ef4-92d4-4c1b-a17d-09881da7698b\" xlink:actuate=\"onRequest\" xlink:href=\"psysml:286e6ef4-92d4-4c1b-a17d-09881da7698b\" xlink:show=\"new\" xlink:title=\"psysml:286e6ef4-92d4-4c1b-a17d-09881da7698b\" xlink:type=\"simple\"><rect fill=\"#FFFFFF\" height=\"45.9375\" id=\"E6\" style=\"stroke: #383838; stroke-width: 1.5;\" width=\"70\" x=\"589\" y=\"132\"/><text fill=\"#000000\" font-family=\"sans-serif\" font-size=\"12\" font-style=\"italic\" lengthAdjust=\"spacingAndGlyphs\" textLength=\"68\" x=\"590\" y=\"148.1387\">«part  def»</text><text fill=\"#000000\" font-family=\"sans-serif\" font-size=\"12\" font-style=\"italic\" lengthAdjust=\"spacingAndGlyphs\" textLength=\"8\" x=\"620\" y=\"162.1074\">B</text><line style=\"stroke: #383838; stroke-width: 1.5;\" x1=\"590\" x2=\"658\" y1=\"169.9375\" y2=\"169.9375\"/></a><!--MD5=[2156ba9850f5573cc1fc38a6a4b2f02b]\n",
       "class E7--><a href=\"psysml:215e87e2-ee75-46c7-98ea-4ce8794cdbad\" target=\"_top\" title=\"psysml:215e87e2-ee75-46c7-98ea-4ce8794cdbad\" xlink:actuate=\"onRequest\" xlink:href=\"psysml:215e87e2-ee75-46c7-98ea-4ce8794cdbad\" xlink:show=\"new\" xlink:title=\"psysml:215e87e2-ee75-46c7-98ea-4ce8794cdbad\" xlink:type=\"simple\"><rect fill=\"#FFFFFF\" height=\"45.9375\" id=\"E7\" rx=\"10\" ry=\"10\" style=\"stroke: #383838; stroke-width: 1.5;\" width=\"42\" x=\"720\" y=\"41\"/><text fill=\"#000000\" font-family=\"sans-serif\" font-size=\"12\" font-style=\"italic\" lengthAdjust=\"spacingAndGlyphs\" textLength=\"40\" x=\"721\" y=\"57.1387\">«part»</text><text fill=\"#000000\" font-family=\"sans-serif\" font-size=\"12\" font-style=\"italic\" lengthAdjust=\"spacingAndGlyphs\" textLength=\"8\" x=\"727\" y=\"71.1074\">a</text><text fill=\"#000000\" font-family=\"sans-serif\" font-size=\"12\" lengthAdjust=\"spacingAndGlyphs\" textLength=\"16\" x=\"735\" y=\"71.1074\">: A</text><line style=\"stroke: #383838; stroke-width: 1.5;\" x1=\"721\" x2=\"761\" y1=\"78.9375\" y2=\"78.9375\"/></a><!--MD5=[b9389687b975829384b498ac4b7476b2]\n",
       "class E8--><a href=\"psysml:27d37788-2b75-4a5c-b4fe-9553c2483e93\" target=\"_top\" title=\"psysml:27d37788-2b75-4a5c-b4fe-9553c2483e93\" xlink:actuate=\"onRequest\" xlink:href=\"psysml:27d37788-2b75-4a5c-b4fe-9553c2483e93\" xlink:show=\"new\" xlink:title=\"psysml:27d37788-2b75-4a5c-b4fe-9553c2483e93\" xlink:type=\"simple\"><rect fill=\"#FFFFFF\" height=\"45.9375\" id=\"E8\" rx=\"10\" ry=\"10\" style=\"stroke: #383838; stroke-width: 1.5;\" width=\"42\" x=\"720\" y=\"211\"/><text fill=\"#000000\" font-family=\"sans-serif\" font-size=\"12\" font-style=\"italic\" lengthAdjust=\"spacingAndGlyphs\" textLength=\"40\" x=\"721\" y=\"227.1387\">«port»</text><text fill=\"#000000\" font-family=\"sans-serif\" font-size=\"12\" lengthAdjust=\"spacingAndGlyphs\" textLength=\"32\" x=\"723\" y=\"241.1074\">x: ~C</text><line style=\"stroke: #383838; stroke-width: 1.5;\" x1=\"721\" x2=\"761\" y1=\"248.9375\" y2=\"248.9375\"/></a><!--MD5=[96f4274e9e20536e775497830990834d]\n",
       "class E10--><a href=\"psysml:3d6805d2-0d33-47df-af88-6771a9177656\" target=\"_top\" title=\"psysml:3d6805d2-0d33-47df-af88-6771a9177656\" xlink:actuate=\"onRequest\" xlink:href=\"psysml:3d6805d2-0d33-47df-af88-6771a9177656\" xlink:show=\"new\" xlink:title=\"psysml:3d6805d2-0d33-47df-af88-6771a9177656\" xlink:type=\"simple\"><rect fill=\"#FFFFFF\" height=\"75.5469\" id=\"E10\" style=\"stroke: #383838; stroke-width: 1.5;\" width=\"110\" x=\"410\" y=\"117\"/><text fill=\"#000000\" font-family=\"sans-serif\" font-size=\"12\" font-style=\"italic\" lengthAdjust=\"spacingAndGlyphs\" textLength=\"68\" x=\"431\" y=\"133.1387\">«port  def»</text><text fill=\"#000000\" font-family=\"sans-serif\" font-size=\"12\" lengthAdjust=\"spacingAndGlyphs\" textLength=\"8\" x=\"461\" y=\"147.1074\">C</text><line style=\"stroke: #383838; stroke-width: 1.5;\" x1=\"411\" x2=\"519\" y1=\"154.9375\" y2=\"154.9375\"/><text fill=\"#000000\" font-family=\"sans-serif\" font-size=\"11\" font-weight=\"bold\" lengthAdjust=\"spacingAndGlyphs\" textLength=\"10\" x=\"416\" y=\"185.9526\">in</text><text fill=\"#000000\" font-family=\"sans-serif\" font-size=\"11\" lengthAdjust=\"spacingAndGlyphs\" textLength=\"37\" x=\"430\" y=\"185.9526\">y: A, B</text><text fill=\"#000000\" font-family=\"sans-serif\" font-size=\"11\" font-weight=\"bold\" lengthAdjust=\"spacingAndGlyphs\" textLength=\"27\" x=\"471\" y=\"185.9526\">alias</text><text fill=\"#000000\" font-family=\"sans-serif\" font-size=\"11\" lengthAdjust=\"spacingAndGlyphs\" textLength=\"12\" x=\"502\" y=\"185.9526\">z2</text><line style=\"stroke: #383838; stroke-width: 1.0;\" x1=\"411\" x2=\"431.5\" y1=\"169.3398\" y2=\"169.3398\"/><text fill=\"#000000\" font-family=\"sans-serif\" font-size=\"11\" lengthAdjust=\"spacingAndGlyphs\" textLength=\"67\" x=\"431.5\" y=\"172.6479\">parameters</text><line style=\"stroke: #383838; stroke-width: 1.0;\" x1=\"498.5\" x2=\"519\" y1=\"169.3398\" y2=\"169.3398\"/></a><a href=\"psysml:e555f4d2-547d-4756-8b33-5fda3be7b359\" target=\"_top\" title=\"psysml:e555f4d2-547d-4756-8b33-5fda3be7b359\" xlink:actuate=\"onRequest\" xlink:href=\"psysml:e555f4d2-547d-4756-8b33-5fda3be7b359\" xlink:show=\"new\" xlink:title=\"psysml:e555f4d2-547d-4756-8b33-5fda3be7b359\" xlink:type=\"simple\"><polygon fill=\"#FFFFFF\" points=\"726.5,122.5,741.5,122.5,748.5,144.7969,755.5,144.7969,755.5,175.0938,726.5,175.0938,726.5,122.5\" style=\"stroke: #000000; stroke-width: 1.5;\"/><line style=\"stroke: #000000; stroke-width: 1.5;\" x1=\"726.5\" x2=\"748.5\" y1=\"144.7969\" y2=\"144.7969\"/><text fill=\"#000000\" font-family=\"sans-serif\" font-size=\"14\" font-weight=\"bold\" lengthAdjust=\"spacingAndGlyphs\" textLength=\"9\" x=\"730.5\" y=\"137.4951\">P</text></a><!--MD5=[2720a5a1f2c3fca2055b230370638851]\n",
       "link E2 to E3--><a href=\"psysml:02703352-f69e-4a4b-893d-89c09588fdfd\" target=\"_top\" title=\"psysml:02703352-f69e-4a4b-893d-89c09588fdfd\" xlink:actuate=\"onRequest\" xlink:href=\"psysml:02703352-f69e-4a4b-893d-89c09588fdfd\" xlink:show=\"new\" xlink:title=\"psysml:02703352-f69e-4a4b-893d-89c09588fdfd\" xlink:type=\"simple\"><path d=\"M74.03,161 C85.34,161 100.07,161 114.54,161 \" fill=\"none\" id=\"E2-&gt;E3\" style=\"stroke: #383838; stroke-width: 1.0;\"/><polygon fill=\"#FFFFFF\" points=\"134.79,161,115.79,168,115.79,154,134.79,161\" style=\"stroke: #383838; stroke-width: 1.0;\"/><ellipse cx=\"110.09\" cy=\"166\" fill=\"#383838\" rx=\"2\" ry=\"2\" style=\"stroke: #383838; stroke-width: 1.0;\"/><ellipse cx=\"110.09\" cy=\"156\" fill=\"#383838\" rx=\"2\" ry=\"2\" style=\"stroke: #383838; stroke-width: 1.0;\"/></a><!--MD5=[4672eba38e49728da53d11aeb285b987]\n",
       "reverse link E3 to E4--><a href=\"psysml:e82a868e-a957-4308-9aca-5f2e1a046a10\" target=\"_top\" title=\"psysml:e82a868e-a957-4308-9aca-5f2e1a046a10\" xlink:actuate=\"onRequest\" xlink:href=\"psysml:e82a868e-a957-4308-9aca-5f2e1a046a10\" xlink:show=\"new\" xlink:title=\"psysml:e82a868e-a957-4308-9aca-5f2e1a046a10\" xlink:type=\"simple\"><path d=\"M216.29,197.52 C231.29,207.79 248.61,217.82 266,224 C289.59,232.39 318.59,233.89 337.65,233.79 \" fill=\"none\" id=\"E3&lt;-E4\" style=\"stroke: #383838; stroke-width: 1.0;\"/><polygon fill=\"#383838\" points=\"205.31,189.69,207.8649,196.4333,215.0721,196.6686,212.5173,189.9253,205.31,189.69\" style=\"stroke: #383838; stroke-width: 1.0;\"/><text fill=\"#000000\" font-family=\"sans-serif\" font-size=\"13\" lengthAdjust=\"spacingAndGlyphs\" textLength=\"8\" x=\"321.8866\" y=\"248.4256\">1</text></a><!--MD5=[191cde3d490a3f6d7bb551fe3ddca469]\n",
       "reverse link E3 to E5--><a href=\"psysml:01f43deb-5863-4903-863e-c9a23e0a1180\" target=\"_top\" title=\"psysml:01f43deb-5863-4903-863e-c9a23e0a1180\" xlink:actuate=\"onRequest\" xlink:href=\"psysml:01f43deb-5863-4903-863e-c9a23e0a1180\" xlink:show=\"new\" xlink:title=\"psysml:01f43deb-5863-4903-863e-c9a23e0a1180\" xlink:type=\"simple\"><path d=\"M217.17,138.92 C234.07,130.84 252.33,122.1 265.79,115.67 \" fill=\"none\" id=\"E3&lt;-E5\" style=\"stroke: #383838; stroke-width: 1.0;\"/><polygon fill=\"#FFFFFF\" points=\"205.19,144.65,212.328,145.6744,216.019,139.4795,208.881,138.4551,205.19,144.65\" style=\"stroke: #383838; stroke-width: 1.0;\"/><text fill=\"#000000\" font-family=\"sans-serif\" font-size=\"13\" lengthAdjust=\"spacingAndGlyphs\" textLength=\"8\" x=\"250.0694\" y=\"133.0251\">1</text></a><!--MD5=[79568f1e445c3877b6a54524624ccc7d]\n",
       "link E4 to E6--><a href=\"psysml:6f8c5931-99ab-4f3d-9640-f9d86b709835\" target=\"_top\" title=\"psysml:6f8c5931-99ab-4f3d-9640-f9d86b709835\" xlink:actuate=\"onRequest\" xlink:href=\"psysml:6f8c5931-99ab-4f3d-9640-f9d86b709835\" xlink:show=\"new\" xlink:title=\"psysml:6f8c5931-99ab-4f3d-9640-f9d86b709835\" xlink:type=\"simple\"><path d=\"M380.21,232.33 C411.07,230.82 471.46,225.9 520,210 C537.31,204.33 555.15,195.86 571.03,187.27 \" fill=\"none\" id=\"E4-&gt;E6\" style=\"stroke: #383838; stroke-width: 1.0;\"/><polygon fill=\"#FFFFFF\" points=\"588.61,177.27,575.5534,192.7466,568.6333,180.5765,588.61,177.27\" style=\"stroke: #383838; stroke-width: 1.0;\"/><ellipse cx=\"569.6098\" cy=\"193.8255\" fill=\"#383838\" rx=\"2\" ry=\"2\" style=\"stroke: #383838; stroke-width: 1.0;\"/><ellipse cx=\"564.6669\" cy=\"185.1325\" fill=\"#383838\" rx=\"2\" ry=\"2\" style=\"stroke: #383838; stroke-width: 1.0;\"/></a><!--MD5=[3f50a3473f1dfb74d3f76443e03635af]\n",
       "reverse link E6 to E7--><a href=\"psysml:ef71999d-b74e-4e5c-b2f7-aebb94a9d32a\" target=\"_top\" title=\"psysml:ef71999d-b74e-4e5c-b2f7-aebb94a9d32a\" xlink:actuate=\"onRequest\" xlink:href=\"psysml:ef71999d-b74e-4e5c-b2f7-aebb94a9d32a\" xlink:show=\"new\" xlink:title=\"psysml:ef71999d-b74e-4e5c-b2f7-aebb94a9d32a\" xlink:type=\"simple\"><path d=\"M664.59,123.67 C683.19,108.96 704.56,92.04 719.79,79.99 \" fill=\"none\" id=\"E6&lt;-E7\" style=\"stroke: #383838; stroke-width: 1.0;\"/><polygon fill=\"#383838\" points=\"654.32,131.8,661.5073,131.2148,663.7315,124.3553,656.5442,124.9405,654.32,131.8\" style=\"stroke: #383838; stroke-width: 1.0;\"/><text fill=\"#000000\" font-family=\"sans-serif\" font-size=\"13\" lengthAdjust=\"spacingAndGlyphs\" textLength=\"8\" x=\"704.0694\" y=\"99.2806\">1</text></a><!--MD5=[14ccda38c055a5c0da953d572bc50960]\n",
       "link E7 to E3--><a href=\"psysml:d4047a87-2764-4bb9-9711-6fad77bbdb97\" target=\"_top\" title=\"psysml:d4047a87-2764-4bb9-9711-6fad77bbdb97\" xlink:actuate=\"onRequest\" xlink:href=\"psysml:d4047a87-2764-4bb9-9711-6fad77bbdb97\" xlink:show=\"new\" xlink:title=\"psysml:d4047a87-2764-4bb9-9711-6fad77bbdb97\" xlink:type=\"simple\"><path d=\"M719.78,59.17 C696.91,54.15 658.5,47 625,47 C286,47 286,47 286,47 C251.66,47 223.91,72.95 204.28,100.09 \" fill=\"none\" id=\"E7-&gt;E3\" style=\"stroke: #383838; stroke-width: 1.0;\"/><polygon fill=\"#FFFFFF\" points=\"193.12,116.92,197.7959,97.2188,209.46,104.9615,193.12,116.92\" style=\"stroke: #383838; stroke-width: 1.0;\"/><ellipse cx=\"202.6146\" cy=\"93.576\" fill=\"#383838\" rx=\"2\" ry=\"2\" style=\"stroke: #383838; stroke-width: 1.0;\"/><ellipse cx=\"210.9461\" cy=\"99.1065\" fill=\"#383838\" rx=\"2\" ry=\"2\" style=\"stroke: #383838; stroke-width: 1.0;\"/></a><!--MD5=[f4cf0736d43fd73c4ef68817c49d37d5]\n",
       "reverse link E6 to E8--><a href=\"psysml:e9c4c173-85e4-4370-85e4-1c8f2eb4171b\" target=\"_top\" title=\"psysml:e9c4c173-85e4-4370-85e4-1c8f2eb4171b\" xlink:actuate=\"onRequest\" xlink:href=\"psysml:e9c4c173-85e4-4370-85e4-1c8f2eb4171b\" xlink:show=\"new\" xlink:title=\"psysml:e9c4c173-85e4-4370-85e4-1c8f2eb4171b\" xlink:type=\"simple\"><path d=\"M669.67,185.69 C687.03,197.61 706.04,210.67 719.91,220.2 \" fill=\"none\" id=\"E6&lt;-E8\" style=\"stroke: #383838; stroke-width: 1.0;\"/><polygon fill=\"#FFFFFF\" points=\"658.57,178.06,661.2519,184.7538,668.4623,184.8527,665.7804,178.1589,658.57,178.06\" style=\"stroke: #383838; stroke-width: 1.0;\"/><text fill=\"#000000\" font-family=\"sans-serif\" font-size=\"13\" lengthAdjust=\"spacingAndGlyphs\" textLength=\"8\" x=\"703.9126\" y=\"230.2899\">1</text></a><!--MD5=[e88d06e5a652d73a6b19930eefe025a8]\n",
       "reverse link E6 to E9--><a href=\"psysml:ab2aae6d-159f-4d7a-a99e-78671a533366\" target=\"_top\" title=\"psysml:ab2aae6d-159f-4d7a-a99e-78671a533366\" xlink:actuate=\"onRequest\" xlink:href=\"psysml:ab2aae6d-159f-4d7a-a99e-78671a533366\" xlink:show=\"new\" xlink:title=\"psysml:ab2aae6d-159f-4d7a-a99e-78671a533366\" xlink:type=\"simple\"><path d=\"M674.32,152.43 C693.3,151.44 713.48,150.38 726.39,149.71 \" fill=\"none\" id=\"E6&lt;-E9\" style=\"stroke: #383838; stroke-width: 1.0;\"/><ellipse cx=\"667.179\" cy=\"152.8011\" fill=\"#FFFFFF\" rx=\"8\" ry=\"8\" style=\"stroke: #383838; stroke-width: 1.0;\"/><line style=\"stroke: #383838; stroke-width: 1.0;\" x1=\"675.1681\" x2=\"659.19\" y1=\"152.3823\" y2=\"153.22\"/><line style=\"stroke: #383838; stroke-width: 1.0;\" x1=\"667.5979\" x2=\"666.7602\" y1=\"160.7902\" y2=\"144.8121\"/></a><!--MD5=[f78a29d5932556fa1060671a2a6507d8]\n",
       "link E5 to E10--><a href=\"psysml:09169cbe-938d-4307-a584-0b24a5ad62ce\" target=\"_top\" title=\"psysml:09169cbe-938d-4307-a584-0b24a5ad62ce\" xlink:actuate=\"onRequest\" xlink:href=\"psysml:09169cbe-938d-4307-a584-0b24a5ad62ce\" xlink:show=\"new\" xlink:title=\"psysml:09169cbe-938d-4307-a584-0b24a5ad62ce\" xlink:type=\"simple\"><path d=\"M308.19,111.62 C328.31,117.22 360.44,126.17 390.31,134.48 \" fill=\"none\" id=\"E5-&gt;E10\" style=\"stroke: #383838; stroke-width: 1.0;\"/><polygon fill=\"#FFFFFF\" points=\"409.96,139.95,389.7779,141.5878,393.5393,128.1025,409.96,139.95\" style=\"stroke: #383838; stroke-width: 1.0;\"/><ellipse cx=\"384.8248\" cy=\"138.1299\" fill=\"#383838\" rx=\"2\" ry=\"2\" style=\"stroke: #383838; stroke-width: 1.0;\"/><ellipse cx=\"387.5116\" cy=\"128.4976\" fill=\"#383838\" rx=\"2\" ry=\"2\" style=\"stroke: #383838; stroke-width: 1.0;\"/></a><!--MD5=[8e04057e7b3cbc0dca4fc78ea351e2da]\n",
       "reverse link E10 to E3--><a href=\"psysml:75696b56-911c-4e7f-a413-6399c7af4d3a\" target=\"_top\" title=\"psysml:75696b56-911c-4e7f-a413-6399c7af4d3a\" xlink:actuate=\"onRequest\" xlink:href=\"psysml:75696b56-911c-4e7f-a413-6399c7af4d3a\" xlink:show=\"new\" xlink:title=\"psysml:75696b56-911c-4e7f-a413-6399c7af4d3a\" xlink:type=\"simple\"><path d=\"M396.78,159.2 C369.27,160.73 337.12,162.25 308,163 C289.34,163.48 284.67,163.2 266,163 C245.88,162.79 223.36,162.32 205.3,161.9 \" fill=\"none\" id=\"E10&lt;-E3\" style=\"stroke: #383838; stroke-width: 1.0;\"/><polygon fill=\"#FFFFFF\" points=\"409.88,158.46,403.6613,154.8092,397.8996,159.1453,404.1182,162.7961,409.88,158.46\" style=\"stroke: #383838; stroke-width: 1.0;\"/><text fill=\"#000000\" font-family=\"sans-serif\" font-size=\"13\" lengthAdjust=\"spacingAndGlyphs\" textLength=\"7\" x=\"283.5\" y=\"159.0669\">y</text></a><!--MD5=[604cbf994c02b74b117f728a71673cea]\n",
       "reverse link E10 to E6--><a href=\"psysml:75696b56-911c-4e7f-a413-6399c7af4d3a\" target=\"_top\" title=\"psysml:75696b56-911c-4e7f-a413-6399c7af4d3a\" xlink:actuate=\"onRequest\" xlink:href=\"psysml:75696b56-911c-4e7f-a413-6399c7af4d3a\" xlink:show=\"new\" xlink:title=\"psysml:75696b56-911c-4e7f-a413-6399c7af4d3a\" xlink:type=\"simple\"><path d=\"M533.07,155 C552.19,155 572.24,155 588.55,155 \" fill=\"none\" id=\"E10&lt;-E6\" style=\"stroke: #383838; stroke-width: 1.0;\"/><polygon fill=\"#FFFFFF\" points=\"520.03,155,526.03,159,532.03,155,526.03,151,520.03,155\" style=\"stroke: #383838; stroke-width: 1.0;\"/><text fill=\"#000000\" font-family=\"sans-serif\" font-size=\"13\" lengthAdjust=\"spacingAndGlyphs\" textLength=\"7\" x=\"551\" y=\"151.0669\">y</text></a><!--MD5=[e50d0ddd3647680b5e9f42d0229afe4a]\n",
       "@startuml\r\n",
       "left to right direction\r\n",
       "skinparam monochrome true\r\n",
       "skinparam classbackgroundcolor white\r\n",
       "skinparam shadowing false\r\n",
       "skinparam wrapWidth 300\r\n",
       "hide circle\r\n",
       "\r\n",
       "package \"PartTest\" as E1  [[psysml:538b1265-15ae-4afd-8dd2-ef0f57b41a53 ]]  {\r\n",
       "comp usage \"f: A \" as E2  <<(T,blue) part>> [[psysml:2c090466-3d5c-4444-ba17-090921dc2443 ]] {\r\n",
       "}\r\n",
       "comp def \"A\" as E3  <<(T,blue) part  def>> [[psysml:d1b7cfcb-f6eb-4e6c-b82e-69976e6757f6 ]] {\r\n",
       "- - attributes - -\r\n",
       "x\r\n",
       "y:> A::x\r\n",
       "}\r\n",
       "comp usage \"b: B \" as E4  <<(T,blue) part>> [[psysml:1aa2f075-dfbc-4c28-975e-f9b78ce76d6b ]] {\r\n",
       "}\r\n",
       "comp usage \"c: C \" as E5  <<(T,blue) port>> [[psysml:6b6fc427-035b-4f92-af2f-ae5f46ec13e5 ]] {\r\n",
       "}\r\n",
       "comp def \"<i>B</i>\" as E6  <<(T,blue) part  def>> [[psysml:286e6ef4-92d4-4c1b-a17d-09881da7698b ]] {\r\n",
       "}\r\n",
       "comp usage \"<i>a</i>: A \" as E7  <<(T,blue) part>> [[psysml:215e87e2-ee75-46c7-98ea-4ce8794cdbad ]] {\r\n",
       "}\r\n",
       "comp usage \"x: ~C \" as E8  <<(T,blue) port>> [[psysml:27d37788-2b75-4a5c-b4fe-9553c2483e93 ]] {\r\n",
       "}\r\n",
       "package \"P\" as E9  [[psysml:e555f4d2-547d-4756-8b33-5fda3be7b359 ]]  {\r\n",
       "}\r\n",
       "comp def \"C\" as E10  <<(T,blue) port  def>> [[psysml:3d6805d2-0d33-47df-af88-6771a9177656 ]] {\r\n",
       "- - parameters - -\r\n",
       "<b>in</b> y: A, B <b>alias</b> z2 \r\n",
       "}\r\n",
       "}\r\n",
       "E2 - -:|> E3 [[psysml:02703352-f69e-4a4b-893d-89c09588fdfd ]] \r\n",
       "E3 *- - \"1\"E4 [[psysml:e82a868e-a957-4308-9aca-5f2e1a046a10 ]] \r\n",
       "E3 o- - \"1\"E5 [[psysml:01f43deb-5863-4903-863e-c9a23e0a1180 ]] \r\n",
       "E4 - -:|> E6 [[psysml:6f8c5931-99ab-4f3d-9640-f9d86b709835 ]] \r\n",
       "E6 *- - \"1\"E7 [[psysml:ef71999d-b74e-4e5c-b2f7-aebb94a9d32a ]] \r\n",
       "E7 - -:|> E3 [[psysml:d4047a87-2764-4bb9-9711-6fad77bbdb97 ]] \r\n",
       "E6 o- - \"1\"E8 [[psysml:e9c4c173-85e4-4370-85e4-1c8f2eb4171b ]] \r\n",
       "E6 +- - E9 [[psysml:ab2aae6d-159f-4d7a-a99e-78671a533366 ]] \r\n",
       "E5 - -:|> E10 [[psysml:09169cbe-938d-4307-a584-0b24a5ad62ce ]] \r\n",
       "E10 o- - E3 [[psysml:75696b56-911c-4e7f-a413-6399c7af4d3a ]] : y\r\n",
       "E10 o- - E6 [[psysml:75696b56-911c-4e7f-a413-6399c7af4d3a ]] : y\r\n",
       "@enduml\r\n",
       "\n",
       "PlantUML version 1.2020.13(Sat Jun 13 12:26:38 UTC 2020)\n",
       "(EPL source distribution)\n",
       "Java Runtime: OpenJDK Runtime Environment\n",
       "JVM: OpenJDK 64-Bit Server VM\n",
       "Default Encoding: UTF-8\n",
       "Language: en\n",
       "Country: null\n",
       "--></g></svg>"
      ]
     },
     "execution_count": 22,
     "metadata": {},
     "output_type": "execute_result"
    }
   ],
   "source": [
    "%viz --style=\"LR\" --view=\"MIXED\" \"PartTest\""
   ]
  },
  {
   "cell_type": "code",
   "execution_count": 23,
   "id": "f0bc1b4c",
   "metadata": {
    "execution": {
     "iopub.execute_input": "2022-05-19T08:45:12.775202Z",
     "iopub.status.busy": "2022-05-19T08:45:12.774855Z",
     "iopub.status.idle": "2022-05-19T08:45:12.842314Z",
     "shell.execute_reply": "2022-05-19T08:45:12.841003Z"
    }
   },
   "outputs": [
    {
     "data": {
      "image/svg+xml": [
       "<?xml version=\"1.0\" encoding=\"UTF-8\" standalone=\"no\"?><svg xmlns=\"http://www.w3.org/2000/svg\" xmlns:xlink=\"http://www.w3.org/1999/xlink\" contentScriptType=\"application/ecmascript\" contentStyleType=\"text/css\" height=\"790px\" preserveAspectRatio=\"none\" style=\"width:265px;height:790px;\" version=\"1.1\" viewBox=\"0 0 265 790\" width=\"265px\" zoomAndPan=\"magnify\"><defs><filter height=\"300%\" id=\"f17pdoym4hj4no\" width=\"300%\" x=\"-1\" y=\"-1\"><feGaussianBlur result=\"blurOut\" stdDeviation=\"2.0\"/><feColorMatrix in=\"blurOut\" result=\"blurOut2\" type=\"matrix\" values=\"0 0 0 0 0 0 0 0 0 0 0 0 0 0 0 0 0 0 .4 0\"/><feOffset dx=\"4.0\" dy=\"4.0\" in=\"blurOut2\" result=\"blurOut3\"/><feBlend in=\"SourceGraphic\" in2=\"blurOut3\" mode=\"normal\"/></filter></defs><g><!--MD5=[fbc87193dbaf4d95561dea2c320d4a47]\n",
       "cluster E1--><a href=\"psysml:538b1265-15ae-4afd-8dd2-ef0f57b41a53\" target=\"_top\" title=\"psysml:538b1265-15ae-4afd-8dd2-ef0f57b41a53\" xlink:actuate=\"onRequest\" xlink:href=\"psysml:538b1265-15ae-4afd-8dd2-ef0f57b41a53\" xlink:show=\"new\" xlink:title=\"psysml:538b1265-15ae-4afd-8dd2-ef0f57b41a53\" xlink:type=\"simple\"><polygon fill=\"#FFFFFF\" filter=\"url(#f17pdoym4hj4no)\" points=\"16,6,80,6,87,28.2969,243,28.2969,243,778,16,778,16,6\" style=\"stroke: #000000; stroke-width: 1.5;\"/><line style=\"stroke: #000000; stroke-width: 1.5;\" x1=\"16\" x2=\"87\" y1=\"28.2969\" y2=\"28.2969\"/><text fill=\"#000000\" font-family=\"sans-serif\" font-size=\"14\" font-weight=\"bold\" lengthAdjust=\"spacingAndGlyphs\" textLength=\"58\" x=\"20\" y=\"20.9951\">PartTest</text></a><!--MD5=[b4997ac47864f28c2f74865a473b2911]\n",
       "class E2--><a href=\"psysml:2c090466-3d5c-4444-ba17-090921dc2443\" target=\"_top\" title=\"psysml:2c090466-3d5c-4444-ba17-090921dc2443\" xlink:actuate=\"onRequest\" xlink:href=\"psysml:2c090466-3d5c-4444-ba17-090921dc2443\" xlink:show=\"new\" xlink:title=\"psysml:2c090466-3d5c-4444-ba17-090921dc2443\" xlink:type=\"simple\"><rect fill=\"#FEFECE\" filter=\"url(#f17pdoym4hj4no)\" height=\"45.9375\" id=\"E2\" rx=\"10\" ry=\"10\" style=\"stroke: #A80036; stroke-width: 1.5;\" width=\"42\" x=\"101\" y=\"41\"/><text fill=\"#000000\" font-family=\"sans-serif\" font-size=\"12\" font-style=\"italic\" lengthAdjust=\"spacingAndGlyphs\" textLength=\"40\" x=\"102\" y=\"57.1387\">«part»</text><text fill=\"#000000\" font-family=\"sans-serif\" font-size=\"12\" lengthAdjust=\"spacingAndGlyphs\" textLength=\"20\" x=\"110\" y=\"71.1074\">f: A</text><line style=\"stroke: #A80036; stroke-width: 1.5;\" x1=\"102\" x2=\"142\" y1=\"78.9375\" y2=\"78.9375\"/></a><!--MD5=[09b614a08d8cba4a07c9adeb5e0fee81]\n",
       "class E3--><a href=\"psysml:d1b7cfcb-f6eb-4e6c-b82e-69976e6757f6\" target=\"_top\" title=\"psysml:d1b7cfcb-f6eb-4e6c-b82e-69976e6757f6\" xlink:actuate=\"onRequest\" xlink:href=\"psysml:d1b7cfcb-f6eb-4e6c-b82e-69976e6757f6\" xlink:show=\"new\" xlink:title=\"psysml:d1b7cfcb-f6eb-4e6c-b82e-69976e6757f6\" xlink:type=\"simple\"><rect fill=\"#FEFECE\" filter=\"url(#f17pdoym4hj4no)\" height=\"88.3516\" id=\"E3\" style=\"stroke: #A80036; stroke-width: 1.5;\" width=\"70\" x=\"87\" y=\"148\"/><text fill=\"#000000\" font-family=\"sans-serif\" font-size=\"12\" font-style=\"italic\" lengthAdjust=\"spacingAndGlyphs\" textLength=\"68\" x=\"88\" y=\"164.1387\">«part  def»</text><text fill=\"#000000\" font-family=\"sans-serif\" font-size=\"12\" lengthAdjust=\"spacingAndGlyphs\" textLength=\"8\" x=\"118\" y=\"178.1074\">A</text><line style=\"stroke: #A80036; stroke-width: 1.5;\" x1=\"88\" x2=\"156\" y1=\"185.9375\" y2=\"185.9375\"/><text fill=\"#000000\" font-family=\"sans-serif\" font-size=\"11\" lengthAdjust=\"spacingAndGlyphs\" textLength=\"6\" x=\"93\" y=\"216.9526\">x</text><text fill=\"#000000\" font-family=\"sans-serif\" font-size=\"11\" lengthAdjust=\"spacingAndGlyphs\" textLength=\"44\" x=\"93\" y=\"229.7573\">y:&gt; A::x</text><line style=\"stroke: #A80036; stroke-width: 1.0;\" x1=\"88\" x2=\"94.5\" y1=\"200.3398\" y2=\"200.3398\"/><text fill=\"#000000\" font-family=\"sans-serif\" font-size=\"11\" lengthAdjust=\"spacingAndGlyphs\" textLength=\"55\" x=\"94.5\" y=\"203.6479\">attributes</text><line style=\"stroke: #A80036; stroke-width: 1.0;\" x1=\"149.5\" x2=\"156\" y1=\"200.3398\" y2=\"200.3398\"/></a><!--MD5=[ebbe1d658d1005bcc118a6aa81145e00]\n",
       "class E4--><a href=\"psysml:1aa2f075-dfbc-4c28-975e-f9b78ce76d6b\" target=\"_top\" title=\"psysml:1aa2f075-dfbc-4c28-975e-f9b78ce76d6b\" xlink:actuate=\"onRequest\" xlink:href=\"psysml:1aa2f075-dfbc-4c28-975e-f9b78ce76d6b\" xlink:show=\"new\" xlink:title=\"psysml:1aa2f075-dfbc-4c28-975e-f9b78ce76d6b\" xlink:type=\"simple\"><rect fill=\"#FEFECE\" filter=\"url(#f17pdoym4hj4no)\" height=\"45.9375\" id=\"E4\" rx=\"10\" ry=\"10\" style=\"stroke: #A80036; stroke-width: 1.5;\" width=\"42\" x=\"32\" y=\"373\"/><text fill=\"#000000\" font-family=\"sans-serif\" font-size=\"12\" font-style=\"italic\" lengthAdjust=\"spacingAndGlyphs\" textLength=\"40\" x=\"33\" y=\"389.1387\">«part»</text><text fill=\"#000000\" font-family=\"sans-serif\" font-size=\"12\" lengthAdjust=\"spacingAndGlyphs\" textLength=\"24\" x=\"39\" y=\"403.1074\">b: B</text><line style=\"stroke: #A80036; stroke-width: 1.5;\" x1=\"33\" x2=\"73\" y1=\"410.9375\" y2=\"410.9375\"/></a><!--MD5=[270fce915f116d4de14055a7c1d9a0f3]\n",
       "class E5--><a href=\"psysml:6b6fc427-035b-4f92-af2f-ae5f46ec13e5\" target=\"_top\" title=\"psysml:6b6fc427-035b-4f92-af2f-ae5f46ec13e5\" xlink:actuate=\"onRequest\" xlink:href=\"psysml:6b6fc427-035b-4f92-af2f-ae5f46ec13e5\" xlink:show=\"new\" xlink:title=\"psysml:6b6fc427-035b-4f92-af2f-ae5f46ec13e5\" xlink:type=\"simple\"><rect fill=\"#FEFECE\" filter=\"url(#f17pdoym4hj4no)\" height=\"45.9375\" id=\"E5\" rx=\"10\" ry=\"10\" style=\"stroke: #A80036; stroke-width: 1.5;\" width=\"42\" x=\"148\" y=\"297\"/><text fill=\"#000000\" font-family=\"sans-serif\" font-size=\"12\" font-style=\"italic\" lengthAdjust=\"spacingAndGlyphs\" textLength=\"40\" x=\"149\" y=\"313.1387\">«port»</text><text fill=\"#000000\" font-family=\"sans-serif\" font-size=\"12\" lengthAdjust=\"spacingAndGlyphs\" textLength=\"23\" x=\"155.5\" y=\"327.1074\">c: C</text><line style=\"stroke: #A80036; stroke-width: 1.5;\" x1=\"149\" x2=\"189\" y1=\"334.9375\" y2=\"334.9375\"/></a><!--MD5=[60a26617385b1d2d0262a64233df1f8d]\n",
       "class E6--><a href=\"psysml:286e6ef4-92d4-4c1b-a17d-09881da7698b\" target=\"_top\" title=\"psysml:286e6ef4-92d4-4c1b-a17d-09881da7698b\" xlink:actuate=\"onRequest\" xlink:href=\"psysml:286e6ef4-92d4-4c1b-a17d-09881da7698b\" xlink:show=\"new\" xlink:title=\"psysml:286e6ef4-92d4-4c1b-a17d-09881da7698b\" xlink:type=\"simple\"><rect fill=\"#FEFECE\" filter=\"url(#f17pdoym4hj4no)\" height=\"45.9375\" id=\"E6\" style=\"stroke: #A80036; stroke-width: 1.5;\" width=\"70\" x=\"100\" y=\"602\"/><text fill=\"#000000\" font-family=\"sans-serif\" font-size=\"12\" font-style=\"italic\" lengthAdjust=\"spacingAndGlyphs\" textLength=\"68\" x=\"101\" y=\"618.1387\">«part  def»</text><text fill=\"#000000\" font-family=\"sans-serif\" font-size=\"12\" font-style=\"italic\" lengthAdjust=\"spacingAndGlyphs\" textLength=\"8\" x=\"131\" y=\"632.1074\">B</text><line style=\"stroke: #A80036; stroke-width: 1.5;\" x1=\"101\" x2=\"169\" y1=\"639.9375\" y2=\"639.9375\"/></a><!--MD5=[2156ba9850f5573cc1fc38a6a4b2f02b]\n",
       "class E7--><a href=\"psysml:215e87e2-ee75-46c7-98ea-4ce8794cdbad\" target=\"_top\" title=\"psysml:215e87e2-ee75-46c7-98ea-4ce8794cdbad\" xlink:actuate=\"onRequest\" xlink:href=\"psysml:215e87e2-ee75-46c7-98ea-4ce8794cdbad\" xlink:show=\"new\" xlink:title=\"psysml:215e87e2-ee75-46c7-98ea-4ce8794cdbad\" xlink:type=\"simple\"><rect fill=\"#FEFECE\" filter=\"url(#f17pdoym4hj4no)\" height=\"45.9375\" id=\"E7\" rx=\"10\" ry=\"10\" style=\"stroke: #A80036; stroke-width: 1.5;\" width=\"42\" x=\"185\" y=\"712.5\"/><text fill=\"#000000\" font-family=\"sans-serif\" font-size=\"12\" font-style=\"italic\" lengthAdjust=\"spacingAndGlyphs\" textLength=\"40\" x=\"186\" y=\"728.6387\">«part»</text><text fill=\"#000000\" font-family=\"sans-serif\" font-size=\"12\" font-style=\"italic\" lengthAdjust=\"spacingAndGlyphs\" textLength=\"8\" x=\"192\" y=\"742.6074\">a</text><text fill=\"#000000\" font-family=\"sans-serif\" font-size=\"12\" lengthAdjust=\"spacingAndGlyphs\" textLength=\"16\" x=\"200\" y=\"742.6074\">: A</text><line style=\"stroke: #A80036; stroke-width: 1.5;\" x1=\"186\" x2=\"226\" y1=\"750.4375\" y2=\"750.4375\"/></a><!--MD5=[b9389687b975829384b498ac4b7476b2]\n",
       "class E8--><a href=\"psysml:27d37788-2b75-4a5c-b4fe-9553c2483e93\" target=\"_top\" title=\"psysml:27d37788-2b75-4a5c-b4fe-9553c2483e93\" xlink:actuate=\"onRequest\" xlink:href=\"psysml:27d37788-2b75-4a5c-b4fe-9553c2483e93\" xlink:show=\"new\" xlink:title=\"psysml:27d37788-2b75-4a5c-b4fe-9553c2483e93\" xlink:type=\"simple\"><rect fill=\"#FEFECE\" filter=\"url(#f17pdoym4hj4no)\" height=\"45.9375\" id=\"E8\" rx=\"10\" ry=\"10\" style=\"stroke: #A80036; stroke-width: 1.5;\" width=\"42\" x=\"43\" y=\"712.5\"/><text fill=\"#000000\" font-family=\"sans-serif\" font-size=\"12\" font-style=\"italic\" lengthAdjust=\"spacingAndGlyphs\" textLength=\"40\" x=\"44\" y=\"728.6387\">«port»</text><text fill=\"#000000\" font-family=\"sans-serif\" font-size=\"12\" lengthAdjust=\"spacingAndGlyphs\" textLength=\"32\" x=\"46\" y=\"742.6074\">x: ~C</text><line style=\"stroke: #A80036; stroke-width: 1.5;\" x1=\"44\" x2=\"84\" y1=\"750.4375\" y2=\"750.4375\"/></a><!--MD5=[96f4274e9e20536e775497830990834d]\n",
       "class E10--><a href=\"psysml:3d6805d2-0d33-47df-af88-6771a9177656\" target=\"_top\" title=\"psysml:3d6805d2-0d33-47df-af88-6771a9177656\" xlink:actuate=\"onRequest\" xlink:href=\"psysml:3d6805d2-0d33-47df-af88-6771a9177656\" xlink:show=\"new\" xlink:title=\"psysml:3d6805d2-0d33-47df-af88-6771a9177656\" xlink:type=\"simple\"><rect fill=\"#FEFECE\" filter=\"url(#f17pdoym4hj4no)\" height=\"75.5469\" id=\"E10\" style=\"stroke: #A80036; stroke-width: 1.5;\" width=\"110\" x=\"80\" y=\"449\"/><text fill=\"#000000\" font-family=\"sans-serif\" font-size=\"12\" font-style=\"italic\" lengthAdjust=\"spacingAndGlyphs\" textLength=\"68\" x=\"101\" y=\"465.1387\">«port  def»</text><text fill=\"#000000\" font-family=\"sans-serif\" font-size=\"12\" lengthAdjust=\"spacingAndGlyphs\" textLength=\"8\" x=\"131\" y=\"479.1074\">C</text><line style=\"stroke: #A80036; stroke-width: 1.5;\" x1=\"81\" x2=\"189\" y1=\"486.9375\" y2=\"486.9375\"/><text fill=\"#000000\" font-family=\"sans-serif\" font-size=\"11\" font-weight=\"bold\" lengthAdjust=\"spacingAndGlyphs\" textLength=\"10\" x=\"86\" y=\"517.9526\">in</text><text fill=\"#000000\" font-family=\"sans-serif\" font-size=\"11\" lengthAdjust=\"spacingAndGlyphs\" textLength=\"37\" x=\"100\" y=\"517.9526\">y: A, B</text><text fill=\"#000000\" font-family=\"sans-serif\" font-size=\"11\" font-weight=\"bold\" lengthAdjust=\"spacingAndGlyphs\" textLength=\"27\" x=\"141\" y=\"517.9526\">alias</text><text fill=\"#000000\" font-family=\"sans-serif\" font-size=\"11\" lengthAdjust=\"spacingAndGlyphs\" textLength=\"12\" x=\"172\" y=\"517.9526\">z2</text><line style=\"stroke: #A80036; stroke-width: 1.0;\" x1=\"81\" x2=\"101.5\" y1=\"501.3398\" y2=\"501.3398\"/><text fill=\"#000000\" font-family=\"sans-serif\" font-size=\"11\" lengthAdjust=\"spacingAndGlyphs\" textLength=\"67\" x=\"101.5\" y=\"504.6479\">parameters</text><line style=\"stroke: #A80036; stroke-width: 1.0;\" x1=\"168.5\" x2=\"189\" y1=\"501.3398\" y2=\"501.3398\"/></a><a href=\"psysml:e555f4d2-547d-4756-8b33-5fda3be7b359\" target=\"_top\" title=\"psysml:e555f4d2-547d-4756-8b33-5fda3be7b359\" xlink:actuate=\"onRequest\" xlink:href=\"psysml:e555f4d2-547d-4756-8b33-5fda3be7b359\" xlink:show=\"new\" xlink:title=\"psysml:e555f4d2-547d-4756-8b33-5fda3be7b359\" xlink:type=\"simple\"><polygon fill=\"#FFFFFF\" filter=\"url(#f17pdoym4hj4no)\" points=\"120.5,709,135.5,709,142.5,731.2969,149.5,731.2969,149.5,761.5938,120.5,761.5938,120.5,709\" style=\"stroke: #000000; stroke-width: 1.5;\"/><line style=\"stroke: #000000; stroke-width: 1.5;\" x1=\"120.5\" x2=\"142.5\" y1=\"731.2969\" y2=\"731.2969\"/><text fill=\"#000000\" font-family=\"sans-serif\" font-size=\"14\" font-weight=\"bold\" lengthAdjust=\"spacingAndGlyphs\" textLength=\"9\" x=\"124.5\" y=\"723.9951\">P</text></a><!--MD5=[2720a5a1f2c3fca2055b230370638851]\n",
       "link E2 to E3--><a href=\"psysml:02703352-f69e-4a4b-893d-89c09588fdfd\" target=\"_top\" title=\"psysml:02703352-f69e-4a4b-893d-89c09588fdfd\" xlink:actuate=\"onRequest\" xlink:href=\"psysml:02703352-f69e-4a4b-893d-89c09588fdfd\" xlink:show=\"new\" xlink:title=\"psysml:02703352-f69e-4a4b-893d-89c09588fdfd\" xlink:type=\"simple\"><path d=\"M122,87.24 C122,98.62 122,113.11 122,127.62 \" fill=\"none\" id=\"E2-&gt;E3\" style=\"stroke: #A80036; stroke-width: 1.0;\"/><polygon fill=\"#FFFFFF\" points=\"122,147.84,115,128.84,129,128.84,122,147.84\" style=\"stroke: #A80036; stroke-width: 1.0;\"/><ellipse cx=\"117\" cy=\"123.14\" fill=\"#A80036\" rx=\"2\" ry=\"2\" style=\"stroke: #A80036; stroke-width: 1.0;\"/><ellipse cx=\"127\" cy=\"123.14\" fill=\"#A80036\" rx=\"2\" ry=\"2\" style=\"stroke: #A80036; stroke-width: 1.0;\"/></a><!--MD5=[4672eba38e49728da53d11aeb285b987]\n",
       "reverse link E3 to E4--><a href=\"psysml:e82a868e-a957-4308-9aca-5f2e1a046a10\" target=\"_top\" title=\"psysml:e82a868e-a957-4308-9aca-5f2e1a046a10\" xlink:actuate=\"onRequest\" xlink:href=\"psysml:e82a868e-a957-4308-9aca-5f2e1a046a10\" xlink:show=\"new\" xlink:title=\"psysml:e82a868e-a957-4308-9aca-5f2e1a046a10\" xlink:type=\"simple\"><path d=\"M83.84,247.58 C74.86,262.92 66.35,280.06 61,297 C53.08,322.07 51.8,352.44 52.03,372.66 \" fill=\"none\" id=\"E3&lt;-E4\" style=\"stroke: #A80036; stroke-width: 1.0;\"/><polygon fill=\"#A80036\" points=\"90.76,236.23,84.2205,239.269,84.5106,246.4743,91.0501,243.4353,90.76,236.23\" style=\"stroke: #A80036; stroke-width: 1.0;\"/><text fill=\"#000000\" font-family=\"sans-serif\" font-size=\"13\" lengthAdjust=\"spacingAndGlyphs\" textLength=\"8\" x=\"42.7564\" y=\"361.8492\">1</text></a><!--MD5=[191cde3d490a3f6d7bb551fe3ddca469]\n",
       "reverse link E3 to E5--><a href=\"psysml:01f43deb-5863-4903-863e-c9a23e0a1180\" target=\"_top\" title=\"psysml:01f43deb-5863-4903-863e-c9a23e0a1180\" xlink:actuate=\"onRequest\" xlink:href=\"psysml:01f43deb-5863-4903-863e-c9a23e0a1180\" xlink:show=\"new\" xlink:title=\"psysml:01f43deb-5863-4903-863e-c9a23e0a1180\" xlink:type=\"simple\"><path d=\"M142.61,248.24 C148.98,265.32 155.64,283.18 160.68,296.68 \" fill=\"none\" id=\"E3&lt;-E5\" style=\"stroke: #A80036; stroke-width: 1.0;\"/><polygon fill=\"#FFFFFF\" points=\"138.04,236.01,136.3879,243.0293,142.2318,247.2541,143.8839,240.2348,138.04,236.01\" style=\"stroke: #A80036; stroke-width: 1.0;\"/><text fill=\"#000000\" font-family=\"sans-serif\" font-size=\"13\" lengthAdjust=\"spacingAndGlyphs\" textLength=\"8\" x=\"149.523\" y=\"285.8743\">1</text></a><!--MD5=[79568f1e445c3877b6a54524624ccc7d]\n",
       "link E4 to E6--><a href=\"psysml:6f8c5931-99ab-4f3d-9640-f9d86b709835\" target=\"_top\" title=\"psysml:6f8c5931-99ab-4f3d-9640-f9d86b709835\" xlink:actuate=\"onRequest\" xlink:href=\"psysml:6f8c5931-99ab-4f3d-9640-f9d86b709835\" xlink:show=\"new\" xlink:title=\"psysml:6f8c5931-99ab-4f3d-9640-f9d86b709835\" xlink:type=\"simple\"><path d=\"M51.16,419.06 C49.78,445.2 49.96,489.66 63,525 C71.25,547.36 86.09,569.13 100.16,586.54 \" fill=\"none\" id=\"E4-&gt;E6\" style=\"stroke: #A80036; stroke-width: 1.0;\"/><polygon fill=\"#FFFFFF\" points=\"113.18,601.76,95.5109,591.8705,106.1504,582.7709,113.18,601.76\" style=\"stroke: #A80036; stroke-width: 1.0;\"/><ellipse cx=\"93.326\" cy=\"586.2388\" fill=\"#A80036\" rx=\"2\" ry=\"2\" style=\"stroke: #A80036; stroke-width: 1.0;\"/><ellipse cx=\"100.9256\" cy=\"579.7391\" fill=\"#A80036\" rx=\"2\" ry=\"2\" style=\"stroke: #A80036; stroke-width: 1.0;\"/></a><!--MD5=[3f50a3473f1dfb74d3f76443e03635af]\n",
       "reverse link E6 to E7--><a href=\"psysml:ef71999d-b74e-4e5c-b2f7-aebb94a9d32a\" target=\"_top\" title=\"psysml:ef71999d-b74e-4e5c-b2f7-aebb94a9d32a\" xlink:actuate=\"onRequest\" xlink:href=\"psysml:ef71999d-b74e-4e5c-b2f7-aebb94a9d32a\" xlink:show=\"new\" xlink:title=\"psysml:ef71999d-b74e-4e5c-b2f7-aebb94a9d32a\" xlink:type=\"simple\"><path d=\"M156.91,659.48 C168.15,676.66 181.53,697.11 191.48,712.31 \" fill=\"none\" id=\"E6&lt;-E7\" style=\"stroke: #A80036; stroke-width: 1.0;\"/><polygon fill=\"#A80036\" points=\"149.54,648.22,149.4851,655.4309,156.1201,658.255,156.1751,651.0441,149.54,648.22\" style=\"stroke: #A80036; stroke-width: 1.0;\"/><text fill=\"#000000\" font-family=\"sans-serif\" font-size=\"13\" lengthAdjust=\"spacingAndGlyphs\" textLength=\"8\" x=\"178.7342\" y=\"701.5376\">1</text></a><!--MD5=[14ccda38c055a5c0da953d572bc50960]\n",
       "link E7 to E3--><a href=\"psysml:d4047a87-2764-4bb9-9711-6fad77bbdb97\" target=\"_top\" title=\"psysml:d4047a87-2764-4bb9-9711-6fad77bbdb97\" xlink:actuate=\"onRequest\" xlink:href=\"psysml:d4047a87-2764-4bb9-9711-6fad77bbdb97\" xlink:show=\"new\" xlink:title=\"psysml:d4047a87-2764-4bb9-9711-6fad77bbdb97\" xlink:type=\"simple\"><path d=\"M212.55,712.28 C218.38,690.5 226,656.26 226,626 C226,319 226,319 226,319 C226,282.18 199.26,250.31 172.91,227.83 \" fill=\"none\" id=\"E7-&gt;E3\" style=\"stroke: #A80036; stroke-width: 1.0;\"/><polygon fill=\"#FFFFFF\" points=\"157.21,215.4,176.4527,221.7023,167.7644,232.6802,157.21,215.4\" style=\"stroke: #A80036; stroke-width: 1.0;\"/><ellipse cx=\"179.681\" cy=\"226.808\" fill=\"#A80036\" rx=\"2\" ry=\"2\" style=\"stroke: #A80036; stroke-width: 1.0;\"/><ellipse cx=\"173.4751\" cy=\"234.6493\" fill=\"#A80036\" rx=\"2\" ry=\"2\" style=\"stroke: #A80036; stroke-width: 1.0;\"/></a><!--MD5=[f4cf0736d43fd73c4ef68817c49d37d5]\n",
       "reverse link E6 to E8--><a href=\"psysml:e9c4c173-85e4-4370-85e4-1c8f2eb4171b\" target=\"_top\" title=\"psysml:e9c4c173-85e4-4370-85e4-1c8f2eb4171b\" xlink:actuate=\"onRequest\" xlink:href=\"psysml:e9c4c173-85e4-4370-85e4-1c8f2eb4171b\" xlink:show=\"new\" xlink:title=\"psysml:e9c4c173-85e4-4370-85e4-1c8f2eb4171b\" xlink:type=\"simple\"><path d=\"M113.09,659.48 C101.85,676.66 88.47,697.11 78.52,712.31 \" fill=\"none\" id=\"E6&lt;-E8\" style=\"stroke: #A80036; stroke-width: 1.0;\"/><polygon fill=\"#FFFFFF\" points=\"120.46,648.22,113.8249,651.0441,113.8799,658.255,120.5149,655.4309,120.46,648.22\" style=\"stroke: #A80036; stroke-width: 1.0;\"/><text fill=\"#000000\" font-family=\"sans-serif\" font-size=\"13\" lengthAdjust=\"spacingAndGlyphs\" textLength=\"8\" x=\"73.2158\" y=\"701.5376\">1</text></a><!--MD5=[e88d06e5a652d73a6b19930eefe025a8]\n",
       "reverse link E6 to E9--><a href=\"psysml:ab2aae6d-159f-4d7a-a99e-78671a533366\" target=\"_top\" title=\"psysml:ab2aae6d-159f-4d7a-a99e-78671a533366\" xlink:actuate=\"onRequest\" xlink:href=\"psysml:ab2aae6d-159f-4d7a-a99e-78671a533366\" xlink:show=\"new\" xlink:title=\"psysml:ab2aae6d-159f-4d7a-a99e-78671a533366\" xlink:type=\"simple\"><path d=\"M135,663.49 C135,678.47 135,695.34 135,708.88 \" fill=\"none\" id=\"E6&lt;-E9\" style=\"stroke: #A80036; stroke-width: 1.0;\"/><ellipse cx=\"135\" cy=\"656.22\" fill=\"#FFFFFF\" rx=\"8\" ry=\"8\" style=\"stroke: #A80036; stroke-width: 1.0;\"/><line style=\"stroke: #A80036; stroke-width: 1.0;\" x1=\"135\" x2=\"135\" y1=\"664.22\" y2=\"648.22\"/><line style=\"stroke: #A80036; stroke-width: 1.0;\" x1=\"127\" x2=\"143\" y1=\"656.22\" y2=\"656.22\"/></a><!--MD5=[f78a29d5932556fa1060671a2a6507d8]\n",
       "link E5 to E10--><a href=\"psysml:09169cbe-938d-4307-a584-0b24a5ad62ce\" target=\"_top\" title=\"psysml:09169cbe-938d-4307-a584-0b24a5ad62ce\" xlink:actuate=\"onRequest\" xlink:href=\"psysml:09169cbe-938d-4307-a584-0b24a5ad62ce\" xlink:show=\"new\" xlink:title=\"psysml:09169cbe-938d-4307-a584-0b24a5ad62ce\" xlink:type=\"simple\"><path d=\"M164.41,343.25 C159.9,365.16 152.82,399.53 146.73,429.05 \" fill=\"none\" id=\"E5-&gt;E10\" style=\"stroke: #A80036; stroke-width: 1.0;\"/><polygon fill=\"#FFFFFF\" points=\"142.63,448.98,139.6015,428.9593,153.3144,431.7799,142.63,448.98\" style=\"stroke: #A80036; stroke-width: 1.0;\"/><ellipse cx=\"142.7089\" cy=\"423.7791\" fill=\"#A80036\" rx=\"2\" ry=\"2\" style=\"stroke: #A80036; stroke-width: 1.0;\"/><ellipse cx=\"152.5038\" cy=\"425.7938\" fill=\"#A80036\" rx=\"2\" ry=\"2\" style=\"stroke: #A80036; stroke-width: 1.0;\"/></a><!--MD5=[8e04057e7b3cbc0dca4fc78ea351e2da]\n",
       "reverse link E10 to E3--><a href=\"psysml:75696b56-911c-4e7f-a413-6399c7af4d3a\" target=\"_top\" title=\"psysml:75696b56-911c-4e7f-a413-6399c7af4d3a\" xlink:actuate=\"onRequest\" xlink:href=\"psysml:75696b56-911c-4e7f-a413-6399c7af4d3a\" xlink:show=\"new\" xlink:title=\"psysml:75696b56-911c-4e7f-a413-6399c7af4d3a\" xlink:type=\"simple\"><path d=\"M129.29,435.52 C126.48,408.18 123.4,373.78 122,343 C120.37,306.97 120.5,266.02 120.97,236.02 \" fill=\"none\" id=\"E10&lt;-E3\" style=\"stroke: #A80036; stroke-width: 1.0;\"/><polygon fill=\"#FFFFFF\" points=\"130.68,448.73,134.0248,442.3415,129.4142,436.7969,126.0694,443.1854,130.68,448.73\" style=\"stroke: #A80036; stroke-width: 1.0;\"/><text fill=\"#000000\" font-family=\"sans-serif\" font-size=\"13\" lengthAdjust=\"spacingAndGlyphs\" textLength=\"7\" x=\"123\" y=\"324.5669\">y</text></a><!--MD5=[604cbf994c02b74b117f728a71673cea]\n",
       "reverse link E10 to E6--><a href=\"psysml:75696b56-911c-4e7f-a413-6399c7af4d3a\" target=\"_top\" title=\"psysml:75696b56-911c-4e7f-a413-6399c7af4d3a\" xlink:actuate=\"onRequest\" xlink:href=\"psysml:75696b56-911c-4e7f-a413-6399c7af4d3a\" xlink:show=\"new\" xlink:title=\"psysml:75696b56-911c-4e7f-a413-6399c7af4d3a\" xlink:type=\"simple\"><path d=\"M135,538.33 C135,560.16 135,584.6 135,601.77 \" fill=\"none\" id=\"E10&lt;-E6\" style=\"stroke: #A80036; stroke-width: 1.0;\"/><polygon fill=\"#FFFFFF\" points=\"135,525.16,131,531.16,135,537.16,139,531.16,135,525.16\" style=\"stroke: #A80036; stroke-width: 1.0;\"/><text fill=\"#000000\" font-family=\"sans-serif\" font-size=\"13\" lengthAdjust=\"spacingAndGlyphs\" textLength=\"7\" x=\"136\" y=\"568.0669\">y</text></a><!--MD5=[60546aa08b1e819fac568e499879775d]\n",
       "@startuml\r\n",
       "skinparam wrapWidth 300\r\n",
       "hide circle\r\n",
       "\r\n",
       "package \"PartTest\" as E1  [[psysml:538b1265-15ae-4afd-8dd2-ef0f57b41a53 ]]  {\r\n",
       "comp usage \"f: A \" as E2  <<(T,blue) part>> [[psysml:2c090466-3d5c-4444-ba17-090921dc2443 ]] {\r\n",
       "}\r\n",
       "comp def \"A\" as E3  <<(T,blue) part  def>> [[psysml:d1b7cfcb-f6eb-4e6c-b82e-69976e6757f6 ]] {\r\n",
       "- - attributes - -\r\n",
       "x\r\n",
       "y:> A::x\r\n",
       "}\r\n",
       "comp usage \"b: B \" as E4  <<(T,blue) part>> [[psysml:1aa2f075-dfbc-4c28-975e-f9b78ce76d6b ]] {\r\n",
       "}\r\n",
       "comp usage \"c: C \" as E5  <<(T,blue) port>> [[psysml:6b6fc427-035b-4f92-af2f-ae5f46ec13e5 ]] {\r\n",
       "}\r\n",
       "comp def \"<i>B</i>\" as E6  <<(T,blue) part  def>> [[psysml:286e6ef4-92d4-4c1b-a17d-09881da7698b ]] {\r\n",
       "}\r\n",
       "comp usage \"<i>a</i>: A \" as E7  <<(T,blue) part>> [[psysml:215e87e2-ee75-46c7-98ea-4ce8794cdbad ]] {\r\n",
       "}\r\n",
       "comp usage \"x: ~C \" as E8  <<(T,blue) port>> [[psysml:27d37788-2b75-4a5c-b4fe-9553c2483e93 ]] {\r\n",
       "}\r\n",
       "package \"P\" as E9  [[psysml:e555f4d2-547d-4756-8b33-5fda3be7b359 ]]  {\r\n",
       "}\r\n",
       "comp def \"C\" as E10  <<(T,blue) port  def>> [[psysml:3d6805d2-0d33-47df-af88-6771a9177656 ]] {\r\n",
       "- - parameters - -\r\n",
       "<b>in</b> y: A, B <b>alias</b> z2 \r\n",
       "}\r\n",
       "}\r\n",
       "E2 - -:|> E3 [[psysml:02703352-f69e-4a4b-893d-89c09588fdfd ]] \r\n",
       "E3 *- - \"1\"E4 [[psysml:e82a868e-a957-4308-9aca-5f2e1a046a10 ]] \r\n",
       "E3 o- - \"1\"E5 [[psysml:01f43deb-5863-4903-863e-c9a23e0a1180 ]] \r\n",
       "E4 - -:|> E6 [[psysml:6f8c5931-99ab-4f3d-9640-f9d86b709835 ]] \r\n",
       "E6 *- - \"1\"E7 [[psysml:ef71999d-b74e-4e5c-b2f7-aebb94a9d32a ]] \r\n",
       "E7 - -:|> E3 [[psysml:d4047a87-2764-4bb9-9711-6fad77bbdb97 ]] \r\n",
       "E6 o- - \"1\"E8 [[psysml:e9c4c173-85e4-4370-85e4-1c8f2eb4171b ]] \r\n",
       "E6 +- - E9 [[psysml:ab2aae6d-159f-4d7a-a99e-78671a533366 ]] \r\n",
       "E5 - -:|> E10 [[psysml:09169cbe-938d-4307-a584-0b24a5ad62ce ]] \r\n",
       "E10 o- - E3 [[psysml:75696b56-911c-4e7f-a413-6399c7af4d3a ]] : y\r\n",
       "E10 o- - E6 [[psysml:75696b56-911c-4e7f-a413-6399c7af4d3a ]] : y\r\n",
       "@enduml\r\n",
       "\n",
       "PlantUML version 1.2020.13(Sat Jun 13 12:26:38 UTC 2020)\n",
       "(EPL source distribution)\n",
       "Java Runtime: OpenJDK Runtime Environment\n",
       "JVM: OpenJDK 64-Bit Server VM\n",
       "Default Encoding: UTF-8\n",
       "Language: en\n",
       "Country: null\n",
       "--></g></svg>"
      ]
     },
     "execution_count": 23,
     "metadata": {},
     "output_type": "execute_result"
    }
   ],
   "source": [
    "%viz --style=\"STDCOLOR\" --view=\"Default\" \"PartTest\""
   ]
  },
  {
   "cell_type": "code",
   "execution_count": 24,
   "id": "6d44e7c8",
   "metadata": {
    "execution": {
     "iopub.execute_input": "2022-05-19T08:45:12.891643Z",
     "iopub.status.busy": "2022-05-19T08:45:12.891361Z",
     "iopub.status.idle": "2022-05-19T08:45:12.983455Z",
     "shell.execute_reply": "2022-05-19T08:45:12.983036Z"
    }
   },
   "outputs": [
    {
     "data": {
      "image/svg+xml": [
       "<?xml version=\"1.0\" encoding=\"UTF-8\" standalone=\"no\"?><svg xmlns=\"http://www.w3.org/2000/svg\" xmlns:xlink=\"http://www.w3.org/1999/xlink\" contentScriptType=\"application/ecmascript\" contentStyleType=\"text/css\" height=\"790px\" preserveAspectRatio=\"none\" style=\"width:265px;height:790px;\" version=\"1.1\" viewBox=\"0 0 265 790\" width=\"265px\" zoomAndPan=\"magnify\"><defs><filter height=\"300%\" id=\"f17pdoym4hj4no\" width=\"300%\" x=\"-1\" y=\"-1\"><feGaussianBlur result=\"blurOut\" stdDeviation=\"2.0\"/><feColorMatrix in=\"blurOut\" result=\"blurOut2\" type=\"matrix\" values=\"0 0 0 0 0 0 0 0 0 0 0 0 0 0 0 0 0 0 .4 0\"/><feOffset dx=\"4.0\" dy=\"4.0\" in=\"blurOut2\" result=\"blurOut3\"/><feBlend in=\"SourceGraphic\" in2=\"blurOut3\" mode=\"normal\"/></filter></defs><g><!--MD5=[fbc87193dbaf4d95561dea2c320d4a47]\n",
       "cluster E1--><a href=\"psysml:538b1265-15ae-4afd-8dd2-ef0f57b41a53\" target=\"_top\" title=\"psysml:538b1265-15ae-4afd-8dd2-ef0f57b41a53\" xlink:actuate=\"onRequest\" xlink:href=\"psysml:538b1265-15ae-4afd-8dd2-ef0f57b41a53\" xlink:show=\"new\" xlink:title=\"psysml:538b1265-15ae-4afd-8dd2-ef0f57b41a53\" xlink:type=\"simple\"><polygon fill=\"#FFFFFF\" filter=\"url(#f17pdoym4hj4no)\" points=\"16,6,80,6,87,28.2969,243,28.2969,243,778,16,778,16,6\" style=\"stroke: #000000; stroke-width: 1.5;\"/><line style=\"stroke: #000000; stroke-width: 1.5;\" x1=\"16\" x2=\"87\" y1=\"28.2969\" y2=\"28.2969\"/><text fill=\"#000000\" font-family=\"sans-serif\" font-size=\"14\" font-weight=\"bold\" lengthAdjust=\"spacingAndGlyphs\" textLength=\"58\" x=\"20\" y=\"20.9951\">PartTest</text></a><!--MD5=[b4997ac47864f28c2f74865a473b2911]\n",
       "class E2--><a href=\"psysml:2c090466-3d5c-4444-ba17-090921dc2443\" target=\"_top\" title=\"psysml:2c090466-3d5c-4444-ba17-090921dc2443\" xlink:actuate=\"onRequest\" xlink:href=\"psysml:2c090466-3d5c-4444-ba17-090921dc2443\" xlink:show=\"new\" xlink:title=\"psysml:2c090466-3d5c-4444-ba17-090921dc2443\" xlink:type=\"simple\"><rect fill=\"#FEFECE\" filter=\"url(#f17pdoym4hj4no)\" height=\"45.9375\" id=\"E2\" rx=\"10\" ry=\"10\" style=\"stroke: #A80036; stroke-width: 1.5;\" width=\"42\" x=\"101\" y=\"41\"/><text fill=\"#000000\" font-family=\"sans-serif\" font-size=\"12\" font-style=\"italic\" lengthAdjust=\"spacingAndGlyphs\" textLength=\"40\" x=\"102\" y=\"57.1387\">«part»</text><text fill=\"#000000\" font-family=\"sans-serif\" font-size=\"12\" lengthAdjust=\"spacingAndGlyphs\" textLength=\"20\" x=\"110\" y=\"71.1074\">f: A</text><line style=\"stroke: #A80036; stroke-width: 1.5;\" x1=\"102\" x2=\"142\" y1=\"78.9375\" y2=\"78.9375\"/></a><!--MD5=[09b614a08d8cba4a07c9adeb5e0fee81]\n",
       "class E3--><a href=\"psysml:d1b7cfcb-f6eb-4e6c-b82e-69976e6757f6\" target=\"_top\" title=\"psysml:d1b7cfcb-f6eb-4e6c-b82e-69976e6757f6\" xlink:actuate=\"onRequest\" xlink:href=\"psysml:d1b7cfcb-f6eb-4e6c-b82e-69976e6757f6\" xlink:show=\"new\" xlink:title=\"psysml:d1b7cfcb-f6eb-4e6c-b82e-69976e6757f6\" xlink:type=\"simple\"><rect fill=\"#FEFECE\" filter=\"url(#f17pdoym4hj4no)\" height=\"88.3516\" id=\"E3\" style=\"stroke: #A80036; stroke-width: 1.5;\" width=\"70\" x=\"87\" y=\"148\"/><text fill=\"#000000\" font-family=\"sans-serif\" font-size=\"12\" font-style=\"italic\" lengthAdjust=\"spacingAndGlyphs\" textLength=\"68\" x=\"88\" y=\"164.1387\">«part  def»</text><text fill=\"#000000\" font-family=\"sans-serif\" font-size=\"12\" lengthAdjust=\"spacingAndGlyphs\" textLength=\"8\" x=\"118\" y=\"178.1074\">A</text><line style=\"stroke: #A80036; stroke-width: 1.5;\" x1=\"88\" x2=\"156\" y1=\"185.9375\" y2=\"185.9375\"/><text fill=\"#000000\" font-family=\"sans-serif\" font-size=\"11\" lengthAdjust=\"spacingAndGlyphs\" textLength=\"6\" x=\"93\" y=\"216.9526\">x</text><text fill=\"#000000\" font-family=\"sans-serif\" font-size=\"11\" lengthAdjust=\"spacingAndGlyphs\" textLength=\"44\" x=\"93\" y=\"229.7573\">y:&gt; A::x</text><line style=\"stroke: #A80036; stroke-width: 1.0;\" x1=\"88\" x2=\"94.5\" y1=\"200.3398\" y2=\"200.3398\"/><text fill=\"#000000\" font-family=\"sans-serif\" font-size=\"11\" lengthAdjust=\"spacingAndGlyphs\" textLength=\"55\" x=\"94.5\" y=\"203.6479\">attributes</text><line style=\"stroke: #A80036; stroke-width: 1.0;\" x1=\"149.5\" x2=\"156\" y1=\"200.3398\" y2=\"200.3398\"/></a><!--MD5=[ebbe1d658d1005bcc118a6aa81145e00]\n",
       "class E4--><a href=\"psysml:1aa2f075-dfbc-4c28-975e-f9b78ce76d6b\" target=\"_top\" title=\"psysml:1aa2f075-dfbc-4c28-975e-f9b78ce76d6b\" xlink:actuate=\"onRequest\" xlink:href=\"psysml:1aa2f075-dfbc-4c28-975e-f9b78ce76d6b\" xlink:show=\"new\" xlink:title=\"psysml:1aa2f075-dfbc-4c28-975e-f9b78ce76d6b\" xlink:type=\"simple\"><rect fill=\"#FEFECE\" filter=\"url(#f17pdoym4hj4no)\" height=\"45.9375\" id=\"E4\" rx=\"10\" ry=\"10\" style=\"stroke: #A80036; stroke-width: 1.5;\" width=\"42\" x=\"32\" y=\"373\"/><text fill=\"#000000\" font-family=\"sans-serif\" font-size=\"12\" font-style=\"italic\" lengthAdjust=\"spacingAndGlyphs\" textLength=\"40\" x=\"33\" y=\"389.1387\">«part»</text><text fill=\"#000000\" font-family=\"sans-serif\" font-size=\"12\" lengthAdjust=\"spacingAndGlyphs\" textLength=\"24\" x=\"39\" y=\"403.1074\">b: B</text><line style=\"stroke: #A80036; stroke-width: 1.5;\" x1=\"33\" x2=\"73\" y1=\"410.9375\" y2=\"410.9375\"/></a><!--MD5=[270fce915f116d4de14055a7c1d9a0f3]\n",
       "class E5--><a href=\"psysml:6b6fc427-035b-4f92-af2f-ae5f46ec13e5\" target=\"_top\" title=\"psysml:6b6fc427-035b-4f92-af2f-ae5f46ec13e5\" xlink:actuate=\"onRequest\" xlink:href=\"psysml:6b6fc427-035b-4f92-af2f-ae5f46ec13e5\" xlink:show=\"new\" xlink:title=\"psysml:6b6fc427-035b-4f92-af2f-ae5f46ec13e5\" xlink:type=\"simple\"><rect fill=\"#FEFECE\" filter=\"url(#f17pdoym4hj4no)\" height=\"45.9375\" id=\"E5\" rx=\"10\" ry=\"10\" style=\"stroke: #A80036; stroke-width: 1.5;\" width=\"42\" x=\"148\" y=\"297\"/><text fill=\"#000000\" font-family=\"sans-serif\" font-size=\"12\" font-style=\"italic\" lengthAdjust=\"spacingAndGlyphs\" textLength=\"40\" x=\"149\" y=\"313.1387\">«port»</text><text fill=\"#000000\" font-family=\"sans-serif\" font-size=\"12\" lengthAdjust=\"spacingAndGlyphs\" textLength=\"23\" x=\"155.5\" y=\"327.1074\">c: C</text><line style=\"stroke: #A80036; stroke-width: 1.5;\" x1=\"149\" x2=\"189\" y1=\"334.9375\" y2=\"334.9375\"/></a><!--MD5=[60a26617385b1d2d0262a64233df1f8d]\n",
       "class E6--><a href=\"psysml:286e6ef4-92d4-4c1b-a17d-09881da7698b\" target=\"_top\" title=\"psysml:286e6ef4-92d4-4c1b-a17d-09881da7698b\" xlink:actuate=\"onRequest\" xlink:href=\"psysml:286e6ef4-92d4-4c1b-a17d-09881da7698b\" xlink:show=\"new\" xlink:title=\"psysml:286e6ef4-92d4-4c1b-a17d-09881da7698b\" xlink:type=\"simple\"><rect fill=\"#FEFECE\" filter=\"url(#f17pdoym4hj4no)\" height=\"45.9375\" id=\"E6\" style=\"stroke: #A80036; stroke-width: 1.5;\" width=\"70\" x=\"100\" y=\"602\"/><text fill=\"#000000\" font-family=\"sans-serif\" font-size=\"12\" font-style=\"italic\" lengthAdjust=\"spacingAndGlyphs\" textLength=\"68\" x=\"101\" y=\"618.1387\">«part  def»</text><text fill=\"#000000\" font-family=\"sans-serif\" font-size=\"12\" font-style=\"italic\" lengthAdjust=\"spacingAndGlyphs\" textLength=\"8\" x=\"131\" y=\"632.1074\">B</text><line style=\"stroke: #A80036; stroke-width: 1.5;\" x1=\"101\" x2=\"169\" y1=\"639.9375\" y2=\"639.9375\"/></a><!--MD5=[2156ba9850f5573cc1fc38a6a4b2f02b]\n",
       "class E7--><a href=\"psysml:215e87e2-ee75-46c7-98ea-4ce8794cdbad\" target=\"_top\" title=\"psysml:215e87e2-ee75-46c7-98ea-4ce8794cdbad\" xlink:actuate=\"onRequest\" xlink:href=\"psysml:215e87e2-ee75-46c7-98ea-4ce8794cdbad\" xlink:show=\"new\" xlink:title=\"psysml:215e87e2-ee75-46c7-98ea-4ce8794cdbad\" xlink:type=\"simple\"><rect fill=\"#FEFECE\" filter=\"url(#f17pdoym4hj4no)\" height=\"45.9375\" id=\"E7\" rx=\"10\" ry=\"10\" style=\"stroke: #A80036; stroke-width: 1.5;\" width=\"42\" x=\"185\" y=\"712.5\"/><text fill=\"#000000\" font-family=\"sans-serif\" font-size=\"12\" font-style=\"italic\" lengthAdjust=\"spacingAndGlyphs\" textLength=\"40\" x=\"186\" y=\"728.6387\">«part»</text><text fill=\"#000000\" font-family=\"sans-serif\" font-size=\"12\" font-style=\"italic\" lengthAdjust=\"spacingAndGlyphs\" textLength=\"8\" x=\"192\" y=\"742.6074\">a</text><text fill=\"#000000\" font-family=\"sans-serif\" font-size=\"12\" lengthAdjust=\"spacingAndGlyphs\" textLength=\"16\" x=\"200\" y=\"742.6074\">: A</text><line style=\"stroke: #A80036; stroke-width: 1.5;\" x1=\"186\" x2=\"226\" y1=\"750.4375\" y2=\"750.4375\"/></a><!--MD5=[b9389687b975829384b498ac4b7476b2]\n",
       "class E8--><a href=\"psysml:27d37788-2b75-4a5c-b4fe-9553c2483e93\" target=\"_top\" title=\"psysml:27d37788-2b75-4a5c-b4fe-9553c2483e93\" xlink:actuate=\"onRequest\" xlink:href=\"psysml:27d37788-2b75-4a5c-b4fe-9553c2483e93\" xlink:show=\"new\" xlink:title=\"psysml:27d37788-2b75-4a5c-b4fe-9553c2483e93\" xlink:type=\"simple\"><rect fill=\"#FEFECE\" filter=\"url(#f17pdoym4hj4no)\" height=\"45.9375\" id=\"E8\" rx=\"10\" ry=\"10\" style=\"stroke: #A80036; stroke-width: 1.5;\" width=\"42\" x=\"43\" y=\"712.5\"/><text fill=\"#000000\" font-family=\"sans-serif\" font-size=\"12\" font-style=\"italic\" lengthAdjust=\"spacingAndGlyphs\" textLength=\"40\" x=\"44\" y=\"728.6387\">«port»</text><text fill=\"#000000\" font-family=\"sans-serif\" font-size=\"12\" lengthAdjust=\"spacingAndGlyphs\" textLength=\"32\" x=\"46\" y=\"742.6074\">x: ~C</text><line style=\"stroke: #A80036; stroke-width: 1.5;\" x1=\"44\" x2=\"84\" y1=\"750.4375\" y2=\"750.4375\"/></a><!--MD5=[96f4274e9e20536e775497830990834d]\n",
       "class E10--><a href=\"psysml:3d6805d2-0d33-47df-af88-6771a9177656\" target=\"_top\" title=\"psysml:3d6805d2-0d33-47df-af88-6771a9177656\" xlink:actuate=\"onRequest\" xlink:href=\"psysml:3d6805d2-0d33-47df-af88-6771a9177656\" xlink:show=\"new\" xlink:title=\"psysml:3d6805d2-0d33-47df-af88-6771a9177656\" xlink:type=\"simple\"><rect fill=\"#FEFECE\" filter=\"url(#f17pdoym4hj4no)\" height=\"75.5469\" id=\"E10\" style=\"stroke: #A80036; stroke-width: 1.5;\" width=\"110\" x=\"80\" y=\"449\"/><text fill=\"#000000\" font-family=\"sans-serif\" font-size=\"12\" font-style=\"italic\" lengthAdjust=\"spacingAndGlyphs\" textLength=\"68\" x=\"101\" y=\"465.1387\">«port  def»</text><text fill=\"#000000\" font-family=\"sans-serif\" font-size=\"12\" lengthAdjust=\"spacingAndGlyphs\" textLength=\"8\" x=\"131\" y=\"479.1074\">C</text><line style=\"stroke: #A80036; stroke-width: 1.5;\" x1=\"81\" x2=\"189\" y1=\"486.9375\" y2=\"486.9375\"/><text fill=\"#000000\" font-family=\"sans-serif\" font-size=\"11\" font-weight=\"bold\" lengthAdjust=\"spacingAndGlyphs\" textLength=\"10\" x=\"86\" y=\"517.9526\">in</text><text fill=\"#000000\" font-family=\"sans-serif\" font-size=\"11\" lengthAdjust=\"spacingAndGlyphs\" textLength=\"37\" x=\"100\" y=\"517.9526\">y: A, B</text><text fill=\"#000000\" font-family=\"sans-serif\" font-size=\"11\" font-weight=\"bold\" lengthAdjust=\"spacingAndGlyphs\" textLength=\"27\" x=\"141\" y=\"517.9526\">alias</text><text fill=\"#000000\" font-family=\"sans-serif\" font-size=\"11\" lengthAdjust=\"spacingAndGlyphs\" textLength=\"12\" x=\"172\" y=\"517.9526\">z2</text><line style=\"stroke: #A80036; stroke-width: 1.0;\" x1=\"81\" x2=\"101.5\" y1=\"501.3398\" y2=\"501.3398\"/><text fill=\"#000000\" font-family=\"sans-serif\" font-size=\"11\" lengthAdjust=\"spacingAndGlyphs\" textLength=\"67\" x=\"101.5\" y=\"504.6479\">parameters</text><line style=\"stroke: #A80036; stroke-width: 1.0;\" x1=\"168.5\" x2=\"189\" y1=\"501.3398\" y2=\"501.3398\"/></a><a href=\"psysml:e555f4d2-547d-4756-8b33-5fda3be7b359\" target=\"_top\" title=\"psysml:e555f4d2-547d-4756-8b33-5fda3be7b359\" xlink:actuate=\"onRequest\" xlink:href=\"psysml:e555f4d2-547d-4756-8b33-5fda3be7b359\" xlink:show=\"new\" xlink:title=\"psysml:e555f4d2-547d-4756-8b33-5fda3be7b359\" xlink:type=\"simple\"><polygon fill=\"#FFFFFF\" filter=\"url(#f17pdoym4hj4no)\" points=\"120.5,709,135.5,709,142.5,731.2969,149.5,731.2969,149.5,761.5938,120.5,761.5938,120.5,709\" style=\"stroke: #000000; stroke-width: 1.5;\"/><line style=\"stroke: #000000; stroke-width: 1.5;\" x1=\"120.5\" x2=\"142.5\" y1=\"731.2969\" y2=\"731.2969\"/><text fill=\"#000000\" font-family=\"sans-serif\" font-size=\"14\" font-weight=\"bold\" lengthAdjust=\"spacingAndGlyphs\" textLength=\"9\" x=\"124.5\" y=\"723.9951\">P</text></a><!--MD5=[2720a5a1f2c3fca2055b230370638851]\n",
       "link E2 to E3--><a href=\"psysml:02703352-f69e-4a4b-893d-89c09588fdfd\" target=\"_top\" title=\"psysml:02703352-f69e-4a4b-893d-89c09588fdfd\" xlink:actuate=\"onRequest\" xlink:href=\"psysml:02703352-f69e-4a4b-893d-89c09588fdfd\" xlink:show=\"new\" xlink:title=\"psysml:02703352-f69e-4a4b-893d-89c09588fdfd\" xlink:type=\"simple\"><path d=\"M122,87.24 C122,98.62 122,113.11 122,127.62 \" fill=\"none\" id=\"E2-&gt;E3\" style=\"stroke: #A80036; stroke-width: 1.0;\"/><polygon fill=\"#FFFFFF\" points=\"122,147.84,115,128.84,129,128.84,122,147.84\" style=\"stroke: #A80036; stroke-width: 1.0;\"/><ellipse cx=\"117\" cy=\"123.14\" fill=\"#A80036\" rx=\"2\" ry=\"2\" style=\"stroke: #A80036; stroke-width: 1.0;\"/><ellipse cx=\"127\" cy=\"123.14\" fill=\"#A80036\" rx=\"2\" ry=\"2\" style=\"stroke: #A80036; stroke-width: 1.0;\"/></a><!--MD5=[4672eba38e49728da53d11aeb285b987]\n",
       "reverse link E3 to E4--><a href=\"psysml:e82a868e-a957-4308-9aca-5f2e1a046a10\" target=\"_top\" title=\"psysml:e82a868e-a957-4308-9aca-5f2e1a046a10\" xlink:actuate=\"onRequest\" xlink:href=\"psysml:e82a868e-a957-4308-9aca-5f2e1a046a10\" xlink:show=\"new\" xlink:title=\"psysml:e82a868e-a957-4308-9aca-5f2e1a046a10\" xlink:type=\"simple\"><path d=\"M83.84,247.58 C74.86,262.92 66.35,280.06 61,297 C53.08,322.07 51.8,352.44 52.03,372.66 \" fill=\"none\" id=\"E3&lt;-E4\" style=\"stroke: #A80036; stroke-width: 1.0;\"/><polygon fill=\"#A80036\" points=\"90.76,236.23,84.2205,239.269,84.5106,246.4743,91.0501,243.4353,90.76,236.23\" style=\"stroke: #A80036; stroke-width: 1.0;\"/><text fill=\"#000000\" font-family=\"sans-serif\" font-size=\"13\" lengthAdjust=\"spacingAndGlyphs\" textLength=\"8\" x=\"42.7564\" y=\"361.8492\">1</text></a><!--MD5=[191cde3d490a3f6d7bb551fe3ddca469]\n",
       "reverse link E3 to E5--><a href=\"psysml:01f43deb-5863-4903-863e-c9a23e0a1180\" target=\"_top\" title=\"psysml:01f43deb-5863-4903-863e-c9a23e0a1180\" xlink:actuate=\"onRequest\" xlink:href=\"psysml:01f43deb-5863-4903-863e-c9a23e0a1180\" xlink:show=\"new\" xlink:title=\"psysml:01f43deb-5863-4903-863e-c9a23e0a1180\" xlink:type=\"simple\"><path d=\"M142.61,248.24 C148.98,265.32 155.64,283.18 160.68,296.68 \" fill=\"none\" id=\"E3&lt;-E5\" style=\"stroke: #A80036; stroke-width: 1.0;\"/><polygon fill=\"#FFFFFF\" points=\"138.04,236.01,136.3879,243.0293,142.2318,247.2541,143.8839,240.2348,138.04,236.01\" style=\"stroke: #A80036; stroke-width: 1.0;\"/><text fill=\"#000000\" font-family=\"sans-serif\" font-size=\"13\" lengthAdjust=\"spacingAndGlyphs\" textLength=\"8\" x=\"149.523\" y=\"285.8743\">1</text></a><!--MD5=[79568f1e445c3877b6a54524624ccc7d]\n",
       "link E4 to E6--><a href=\"psysml:6f8c5931-99ab-4f3d-9640-f9d86b709835\" target=\"_top\" title=\"psysml:6f8c5931-99ab-4f3d-9640-f9d86b709835\" xlink:actuate=\"onRequest\" xlink:href=\"psysml:6f8c5931-99ab-4f3d-9640-f9d86b709835\" xlink:show=\"new\" xlink:title=\"psysml:6f8c5931-99ab-4f3d-9640-f9d86b709835\" xlink:type=\"simple\"><path d=\"M51.16,419.06 C49.78,445.2 49.96,489.66 63,525 C71.25,547.36 86.09,569.13 100.16,586.54 \" fill=\"none\" id=\"E4-&gt;E6\" style=\"stroke: #A80036; stroke-width: 1.0;\"/><polygon fill=\"#FFFFFF\" points=\"113.18,601.76,95.5109,591.8705,106.1504,582.7709,113.18,601.76\" style=\"stroke: #A80036; stroke-width: 1.0;\"/><ellipse cx=\"93.326\" cy=\"586.2388\" fill=\"#A80036\" rx=\"2\" ry=\"2\" style=\"stroke: #A80036; stroke-width: 1.0;\"/><ellipse cx=\"100.9256\" cy=\"579.7391\" fill=\"#A80036\" rx=\"2\" ry=\"2\" style=\"stroke: #A80036; stroke-width: 1.0;\"/></a><!--MD5=[3f50a3473f1dfb74d3f76443e03635af]\n",
       "reverse link E6 to E7--><a href=\"psysml:ef71999d-b74e-4e5c-b2f7-aebb94a9d32a\" target=\"_top\" title=\"psysml:ef71999d-b74e-4e5c-b2f7-aebb94a9d32a\" xlink:actuate=\"onRequest\" xlink:href=\"psysml:ef71999d-b74e-4e5c-b2f7-aebb94a9d32a\" xlink:show=\"new\" xlink:title=\"psysml:ef71999d-b74e-4e5c-b2f7-aebb94a9d32a\" xlink:type=\"simple\"><path d=\"M156.91,659.48 C168.15,676.66 181.53,697.11 191.48,712.31 \" fill=\"none\" id=\"E6&lt;-E7\" style=\"stroke: #A80036; stroke-width: 1.0;\"/><polygon fill=\"#A80036\" points=\"149.54,648.22,149.4851,655.4309,156.1201,658.255,156.1751,651.0441,149.54,648.22\" style=\"stroke: #A80036; stroke-width: 1.0;\"/><text fill=\"#000000\" font-family=\"sans-serif\" font-size=\"13\" lengthAdjust=\"spacingAndGlyphs\" textLength=\"8\" x=\"178.7342\" y=\"701.5376\">1</text></a><!--MD5=[14ccda38c055a5c0da953d572bc50960]\n",
       "link E7 to E3--><a href=\"psysml:d4047a87-2764-4bb9-9711-6fad77bbdb97\" target=\"_top\" title=\"psysml:d4047a87-2764-4bb9-9711-6fad77bbdb97\" xlink:actuate=\"onRequest\" xlink:href=\"psysml:d4047a87-2764-4bb9-9711-6fad77bbdb97\" xlink:show=\"new\" xlink:title=\"psysml:d4047a87-2764-4bb9-9711-6fad77bbdb97\" xlink:type=\"simple\"><path d=\"M212.55,712.28 C218.38,690.5 226,656.26 226,626 C226,319 226,319 226,319 C226,282.18 199.26,250.31 172.91,227.83 \" fill=\"none\" id=\"E7-&gt;E3\" style=\"stroke: #A80036; stroke-width: 1.0;\"/><polygon fill=\"#FFFFFF\" points=\"157.21,215.4,176.4527,221.7023,167.7644,232.6802,157.21,215.4\" style=\"stroke: #A80036; stroke-width: 1.0;\"/><ellipse cx=\"179.681\" cy=\"226.808\" fill=\"#A80036\" rx=\"2\" ry=\"2\" style=\"stroke: #A80036; stroke-width: 1.0;\"/><ellipse cx=\"173.4751\" cy=\"234.6493\" fill=\"#A80036\" rx=\"2\" ry=\"2\" style=\"stroke: #A80036; stroke-width: 1.0;\"/></a><!--MD5=[f4cf0736d43fd73c4ef68817c49d37d5]\n",
       "reverse link E6 to E8--><a href=\"psysml:e9c4c173-85e4-4370-85e4-1c8f2eb4171b\" target=\"_top\" title=\"psysml:e9c4c173-85e4-4370-85e4-1c8f2eb4171b\" xlink:actuate=\"onRequest\" xlink:href=\"psysml:e9c4c173-85e4-4370-85e4-1c8f2eb4171b\" xlink:show=\"new\" xlink:title=\"psysml:e9c4c173-85e4-4370-85e4-1c8f2eb4171b\" xlink:type=\"simple\"><path d=\"M113.09,659.48 C101.85,676.66 88.47,697.11 78.52,712.31 \" fill=\"none\" id=\"E6&lt;-E8\" style=\"stroke: #A80036; stroke-width: 1.0;\"/><polygon fill=\"#FFFFFF\" points=\"120.46,648.22,113.8249,651.0441,113.8799,658.255,120.5149,655.4309,120.46,648.22\" style=\"stroke: #A80036; stroke-width: 1.0;\"/><text fill=\"#000000\" font-family=\"sans-serif\" font-size=\"13\" lengthAdjust=\"spacingAndGlyphs\" textLength=\"8\" x=\"73.2158\" y=\"701.5376\">1</text></a><!--MD5=[e88d06e5a652d73a6b19930eefe025a8]\n",
       "reverse link E6 to E9--><a href=\"psysml:ab2aae6d-159f-4d7a-a99e-78671a533366\" target=\"_top\" title=\"psysml:ab2aae6d-159f-4d7a-a99e-78671a533366\" xlink:actuate=\"onRequest\" xlink:href=\"psysml:ab2aae6d-159f-4d7a-a99e-78671a533366\" xlink:show=\"new\" xlink:title=\"psysml:ab2aae6d-159f-4d7a-a99e-78671a533366\" xlink:type=\"simple\"><path d=\"M135,663.49 C135,678.47 135,695.34 135,708.88 \" fill=\"none\" id=\"E6&lt;-E9\" style=\"stroke: #A80036; stroke-width: 1.0;\"/><ellipse cx=\"135\" cy=\"656.22\" fill=\"#FFFFFF\" rx=\"8\" ry=\"8\" style=\"stroke: #A80036; stroke-width: 1.0;\"/><line style=\"stroke: #A80036; stroke-width: 1.0;\" x1=\"135\" x2=\"135\" y1=\"664.22\" y2=\"648.22\"/><line style=\"stroke: #A80036; stroke-width: 1.0;\" x1=\"127\" x2=\"143\" y1=\"656.22\" y2=\"656.22\"/></a><!--MD5=[f78a29d5932556fa1060671a2a6507d8]\n",
       "link E5 to E10--><a href=\"psysml:09169cbe-938d-4307-a584-0b24a5ad62ce\" target=\"_top\" title=\"psysml:09169cbe-938d-4307-a584-0b24a5ad62ce\" xlink:actuate=\"onRequest\" xlink:href=\"psysml:09169cbe-938d-4307-a584-0b24a5ad62ce\" xlink:show=\"new\" xlink:title=\"psysml:09169cbe-938d-4307-a584-0b24a5ad62ce\" xlink:type=\"simple\"><path d=\"M164.41,343.25 C159.9,365.16 152.82,399.53 146.73,429.05 \" fill=\"none\" id=\"E5-&gt;E10\" style=\"stroke: #A80036; stroke-width: 1.0;\"/><polygon fill=\"#FFFFFF\" points=\"142.63,448.98,139.6015,428.9593,153.3144,431.7799,142.63,448.98\" style=\"stroke: #A80036; stroke-width: 1.0;\"/><ellipse cx=\"142.7089\" cy=\"423.7791\" fill=\"#A80036\" rx=\"2\" ry=\"2\" style=\"stroke: #A80036; stroke-width: 1.0;\"/><ellipse cx=\"152.5038\" cy=\"425.7938\" fill=\"#A80036\" rx=\"2\" ry=\"2\" style=\"stroke: #A80036; stroke-width: 1.0;\"/></a><!--MD5=[8e04057e7b3cbc0dca4fc78ea351e2da]\n",
       "reverse link E10 to E3--><a href=\"psysml:75696b56-911c-4e7f-a413-6399c7af4d3a\" target=\"_top\" title=\"psysml:75696b56-911c-4e7f-a413-6399c7af4d3a\" xlink:actuate=\"onRequest\" xlink:href=\"psysml:75696b56-911c-4e7f-a413-6399c7af4d3a\" xlink:show=\"new\" xlink:title=\"psysml:75696b56-911c-4e7f-a413-6399c7af4d3a\" xlink:type=\"simple\"><path d=\"M129.29,435.52 C126.48,408.18 123.4,373.78 122,343 C120.37,306.97 120.5,266.02 120.97,236.02 \" fill=\"none\" id=\"E10&lt;-E3\" style=\"stroke: #A80036; stroke-width: 1.0;\"/><polygon fill=\"#FFFFFF\" points=\"130.68,448.73,134.0248,442.3415,129.4142,436.7969,126.0694,443.1854,130.68,448.73\" style=\"stroke: #A80036; stroke-width: 1.0;\"/><text fill=\"#000000\" font-family=\"sans-serif\" font-size=\"13\" lengthAdjust=\"spacingAndGlyphs\" textLength=\"7\" x=\"123\" y=\"324.5669\">y</text></a><!--MD5=[604cbf994c02b74b117f728a71673cea]\n",
       "reverse link E10 to E6--><a href=\"psysml:75696b56-911c-4e7f-a413-6399c7af4d3a\" target=\"_top\" title=\"psysml:75696b56-911c-4e7f-a413-6399c7af4d3a\" xlink:actuate=\"onRequest\" xlink:href=\"psysml:75696b56-911c-4e7f-a413-6399c7af4d3a\" xlink:show=\"new\" xlink:title=\"psysml:75696b56-911c-4e7f-a413-6399c7af4d3a\" xlink:type=\"simple\"><path d=\"M135,538.33 C135,560.16 135,584.6 135,601.77 \" fill=\"none\" id=\"E10&lt;-E6\" style=\"stroke: #A80036; stroke-width: 1.0;\"/><polygon fill=\"#FFFFFF\" points=\"135,525.16,131,531.16,135,537.16,139,531.16,135,525.16\" style=\"stroke: #A80036; stroke-width: 1.0;\"/><text fill=\"#000000\" font-family=\"sans-serif\" font-size=\"13\" lengthAdjust=\"spacingAndGlyphs\" textLength=\"7\" x=\"136\" y=\"568.0669\">y</text></a><!--MD5=[60546aa08b1e819fac568e499879775d]\n",
       "@startuml\r\n",
       "skinparam wrapWidth 300\r\n",
       "hide circle\r\n",
       "\r\n",
       "package \"PartTest\" as E1  [[psysml:538b1265-15ae-4afd-8dd2-ef0f57b41a53 ]]  {\r\n",
       "comp usage \"f: A \" as E2  <<(T,blue) part>> [[psysml:2c090466-3d5c-4444-ba17-090921dc2443 ]] {\r\n",
       "}\r\n",
       "comp def \"A\" as E3  <<(T,blue) part  def>> [[psysml:d1b7cfcb-f6eb-4e6c-b82e-69976e6757f6 ]] {\r\n",
       "- - attributes - -\r\n",
       "x\r\n",
       "y:> A::x\r\n",
       "}\r\n",
       "comp usage \"b: B \" as E4  <<(T,blue) part>> [[psysml:1aa2f075-dfbc-4c28-975e-f9b78ce76d6b ]] {\r\n",
       "}\r\n",
       "comp usage \"c: C \" as E5  <<(T,blue) port>> [[psysml:6b6fc427-035b-4f92-af2f-ae5f46ec13e5 ]] {\r\n",
       "}\r\n",
       "comp def \"<i>B</i>\" as E6  <<(T,blue) part  def>> [[psysml:286e6ef4-92d4-4c1b-a17d-09881da7698b ]] {\r\n",
       "}\r\n",
       "comp usage \"<i>a</i>: A \" as E7  <<(T,blue) part>> [[psysml:215e87e2-ee75-46c7-98ea-4ce8794cdbad ]] {\r\n",
       "}\r\n",
       "comp usage \"x: ~C \" as E8  <<(T,blue) port>> [[psysml:27d37788-2b75-4a5c-b4fe-9553c2483e93 ]] {\r\n",
       "}\r\n",
       "package \"P\" as E9  [[psysml:e555f4d2-547d-4756-8b33-5fda3be7b359 ]]  {\r\n",
       "}\r\n",
       "comp def \"C\" as E10  <<(T,blue) port  def>> [[psysml:3d6805d2-0d33-47df-af88-6771a9177656 ]] {\r\n",
       "- - parameters - -\r\n",
       "<b>in</b> y: A, B <b>alias</b> z2 \r\n",
       "}\r\n",
       "}\r\n",
       "E2 - -:|> E3 [[psysml:02703352-f69e-4a4b-893d-89c09588fdfd ]] \r\n",
       "E3 *- - \"1\"E4 [[psysml:e82a868e-a957-4308-9aca-5f2e1a046a10 ]] \r\n",
       "E3 o- - \"1\"E5 [[psysml:01f43deb-5863-4903-863e-c9a23e0a1180 ]] \r\n",
       "E4 - -:|> E6 [[psysml:6f8c5931-99ab-4f3d-9640-f9d86b709835 ]] \r\n",
       "E6 *- - \"1\"E7 [[psysml:ef71999d-b74e-4e5c-b2f7-aebb94a9d32a ]] \r\n",
       "E7 - -:|> E3 [[psysml:d4047a87-2764-4bb9-9711-6fad77bbdb97 ]] \r\n",
       "E6 o- - \"1\"E8 [[psysml:e9c4c173-85e4-4370-85e4-1c8f2eb4171b ]] \r\n",
       "E6 +- - E9 [[psysml:ab2aae6d-159f-4d7a-a99e-78671a533366 ]] \r\n",
       "E5 - -:|> E10 [[psysml:09169cbe-938d-4307-a584-0b24a5ad62ce ]] \r\n",
       "E10 o- - E3 [[psysml:75696b56-911c-4e7f-a413-6399c7af4d3a ]] : y\r\n",
       "E10 o- - E6 [[psysml:75696b56-911c-4e7f-a413-6399c7af4d3a ]] : y\r\n",
       "@enduml\r\n",
       "\n",
       "PlantUML version 1.2020.13(Sat Jun 13 12:26:38 UTC 2020)\n",
       "(EPL source distribution)\n",
       "Java Runtime: OpenJDK Runtime Environment\n",
       "JVM: OpenJDK 64-Bit Server VM\n",
       "Default Encoding: UTF-8\n",
       "Language: en\n",
       "Country: null\n",
       "--></g></svg>"
      ]
     },
     "execution_count": 24,
     "metadata": {},
     "output_type": "execute_result"
    }
   ],
   "source": [
    "%viz --style=\"STDCOLOR\" --view=\"Tree\" \"PartTest\""
   ]
  },
  {
   "cell_type": "code",
   "execution_count": 25,
   "id": "30298ca5",
   "metadata": {
    "execution": {
     "iopub.execute_input": "2022-05-19T08:45:13.032875Z",
     "iopub.status.busy": "2022-05-19T08:45:13.032412Z",
     "iopub.status.idle": "2022-05-19T08:45:13.036375Z",
     "shell.execute_reply": "2022-05-19T08:45:13.036704Z"
    }
   },
   "outputs": [
    {
     "data": {
      "image/svg+xml": [
       "<?xml version=\"1.0\" encoding=\"UTF-8\" standalone=\"no\"?><svg xmlns=\"http://www.w3.org/2000/svg\" xmlns:xlink=\"http://www.w3.org/1999/xlink\" contentScriptType=\"application/ecmascript\" contentStyleType=\"text/css\" height=\"12px\" preserveAspectRatio=\"none\" style=\"width:12px;height:12px;\" version=\"1.1\" viewBox=\"0 0 12 12\" width=\"12px\" zoomAndPan=\"magnify\"><defs/><g><!--MD5=[aeeef50f102b80d730deb6443d14f702]\n",
       "@startuml\r\n",
       "skinparam wrapWidth 300\r\n",
       "hide circle\r\n",
       "\r\n",
       "@enduml\r\n",
       "\n",
       "PlantUML version 1.2020.13(Sat Jun 13 12:26:38 UTC 2020)\n",
       "(EPL source distribution)\n",
       "Java Runtime: OpenJDK Runtime Environment\n",
       "JVM: OpenJDK 64-Bit Server VM\n",
       "Default Encoding: UTF-8\n",
       "Language: en\n",
       "Country: null\n",
       "--></g></svg>"
      ]
     },
     "execution_count": 25,
     "metadata": {},
     "output_type": "execute_result"
    }
   ],
   "source": [
    "%viz --style=\"STDCOLOR\" --view=\"State\" \"PartTest\""
   ]
  },
  {
   "cell_type": "code",
   "execution_count": 26,
   "id": "f2966255",
   "metadata": {
    "execution": {
     "iopub.execute_input": "2022-05-19T08:45:13.086780Z",
     "iopub.status.busy": "2022-05-19T08:45:13.086333Z",
     "iopub.status.idle": "2022-05-19T08:45:13.116102Z",
     "shell.execute_reply": "2022-05-19T08:45:13.114504Z"
    }
   },
   "outputs": [
    {
     "data": {
      "image/svg+xml": [
       "<?xml version=\"1.0\" encoding=\"UTF-8\" standalone=\"no\"?><svg xmlns=\"http://www.w3.org/2000/svg\" xmlns:xlink=\"http://www.w3.org/1999/xlink\" contentScriptType=\"application/ecmascript\" contentStyleType=\"text/css\" height=\"429px\" preserveAspectRatio=\"none\" style=\"width:639px;height:429px;\" version=\"1.1\" viewBox=\"0 0 639 429\" width=\"639px\" zoomAndPan=\"magnify\"><defs><filter height=\"300%\" id=\"f162zc38qeye41\" width=\"300%\" x=\"-1\" y=\"-1\"><feGaussianBlur result=\"blurOut\" stdDeviation=\"2.0\"/><feColorMatrix in=\"blurOut\" result=\"blurOut2\" type=\"matrix\" values=\"0 0 0 0 0 0 0 0 0 0 0 0 0 0 0 0 0 0 .4 0\"/><feOffset dx=\"4.0\" dy=\"4.0\" in=\"blurOut2\" result=\"blurOut3\"/><feBlend in=\"SourceGraphic\" in2=\"blurOut3\" mode=\"normal\"/></filter></defs><g><!--MD5=[fbc87193dbaf4d95561dea2c320d4a47]\n",
       "cluster E1--><a href=\"psysml:538b1265-15ae-4afd-8dd2-ef0f57b41a53\" target=\"_top\" title=\"psysml:538b1265-15ae-4afd-8dd2-ef0f57b41a53\" xlink:actuate=\"onRequest\" xlink:href=\"psysml:538b1265-15ae-4afd-8dd2-ef0f57b41a53\" xlink:show=\"new\" xlink:title=\"psysml:538b1265-15ae-4afd-8dd2-ef0f57b41a53\" xlink:type=\"simple\"><polygon fill=\"#FFFFFF\" filter=\"url(#f162zc38qeye41)\" points=\"16,6,80,6,87,28.2969,617,28.2969,617,417.5,16,417.5,16,6\" style=\"stroke: #000000; stroke-width: 1.5;\"/><line style=\"stroke: #000000; stroke-width: 1.5;\" x1=\"16\" x2=\"87\" y1=\"28.2969\" y2=\"28.2969\"/><text fill=\"#000000\" font-family=\"sans-serif\" font-size=\"14\" font-weight=\"bold\" lengthAdjust=\"spacingAndGlyphs\" textLength=\"58\" x=\"20\" y=\"20.9951\">PartTest</text></a><!--MD5=[d5e69f78d87373223dbae638b30a9c99]\n",
       "cluster E3--><a href=\"psysml:d1b7cfcb-f6eb-4e6c-b82e-69976e6757f6\" target=\"_top\" title=\"psysml:d1b7cfcb-f6eb-4e6c-b82e-69976e6757f6\" xlink:actuate=\"onRequest\" xlink:href=\"psysml:d1b7cfcb-f6eb-4e6c-b82e-69976e6757f6\" xlink:show=\"new\" xlink:title=\"psysml:d1b7cfcb-f6eb-4e6c-b82e-69976e6757f6\" xlink:type=\"simple\"><rect fill=\"#FFFFFF\" filter=\"url(#f162zc38qeye41)\" height=\"171.5\" id=\"E3\" style=\"stroke: #A80036; stroke-width: 1.5;\" width=\"246\" x=\"98\" y=\"63\"/><rect fill=\"#FEFECE\" height=\"37.9375\" style=\"stroke: #A80036; stroke-width: 1.5;\" width=\"246\" x=\"98\" y=\"63\"/><text fill=\"#000000\" font-family=\"sans-serif\" font-size=\"12\" font-style=\"italic\" lengthAdjust=\"spacingAndGlyphs\" textLength=\"68\" x=\"187\" y=\"79.1387\">«part  def»</text><text fill=\"#000000\" font-family=\"sans-serif\" font-size=\"12\" lengthAdjust=\"spacingAndGlyphs\" textLength=\"8\" x=\"217\" y=\"93.1074\">A</text></a><!--MD5=[55dfccfc6c49c2d10cd1bd2211a6c90c]\n",
       "cluster E8--><a href=\"psysml:286e6ef4-92d4-4c1b-a17d-09881da7698b\" target=\"_top\" title=\"psysml:286e6ef4-92d4-4c1b-a17d-09881da7698b\" xlink:actuate=\"onRequest\" xlink:href=\"psysml:286e6ef4-92d4-4c1b-a17d-09881da7698b\" xlink:show=\"new\" xlink:title=\"psysml:286e6ef4-92d4-4c1b-a17d-09881da7698b\" xlink:type=\"simple\"><rect fill=\"#FFFFFF\" filter=\"url(#f162zc38qeye41)\" height=\"206\" id=\"E8\" style=\"stroke: #A80036; stroke-width: 1.5;\" width=\"225\" x=\"368\" y=\"187.5\"/><rect fill=\"#FEFECE\" height=\"37.9375\" style=\"stroke: #A80036; stroke-width: 1.5;\" width=\"225\" x=\"368\" y=\"187.5\"/><text fill=\"#000000\" font-family=\"sans-serif\" font-size=\"12\" font-style=\"italic\" lengthAdjust=\"spacingAndGlyphs\" textLength=\"68\" x=\"446.5\" y=\"203.6387\">«part  def»</text><text fill=\"#000000\" font-family=\"sans-serif\" font-size=\"12\" font-style=\"italic\" lengthAdjust=\"spacingAndGlyphs\" textLength=\"8\" x=\"476.5\" y=\"217.6074\">B</text></a><g id=\"E1.E12\"><a href=\"psysml:3d6805d2-0d33-47df-af88-6771a9177656\" target=\"_top\" title=\"psysml:3d6805d2-0d33-47df-af88-6771a9177656\" xlink:actuate=\"onRequest\" xlink:href=\"psysml:3d6805d2-0d33-47df-af88-6771a9177656\" xlink:show=\"new\" xlink:title=\"psysml:3d6805d2-0d33-47df-af88-6771a9177656\" xlink:type=\"simple\"><rect fill=\"#FEFECE\" filter=\"url(#f162zc38qeye41)\" height=\"42.9375\" id=\"E12\" style=\"stroke: #A80036; stroke-width: 1.5;\" width=\"75\" x=\"442.5\" y=\"41.5\"/><text fill=\"#000000\" font-family=\"sans-serif\" font-size=\"12\" font-style=\"italic\" lengthAdjust=\"spacingAndGlyphs\" textLength=\"68\" x=\"446\" y=\"57.6387\">«port  def»</text><text fill=\"#000000\" font-family=\"sans-serif\" font-size=\"12\" lengthAdjust=\"spacingAndGlyphs\" textLength=\"8\" x=\"476\" y=\"71.6074\">C</text></a></g><g id=\"E1.E2\"><a href=\"psysml:2c090466-3d5c-4444-ba17-090921dc2443\" target=\"_top\" title=\"psysml:2c090466-3d5c-4444-ba17-090921dc2443\" xlink:actuate=\"onRequest\" xlink:href=\"psysml:2c090466-3d5c-4444-ba17-090921dc2443\" xlink:show=\"new\" xlink:title=\"psysml:2c090466-3d5c-4444-ba17-090921dc2443\" xlink:type=\"simple\"><rect fill=\"#FEFECE\" filter=\"url(#f162zc38qeye41)\" height=\"40\" id=\"E2\" rx=\"10\" ry=\"10\" style=\"stroke: #A80036; stroke-width: 1.5;\" width=\"50\" x=\"32\" y=\"43\"/><text fill=\"#000000\" font-family=\"sans-serif\" font-size=\"12\" lengthAdjust=\"spacingAndGlyphs\" textLength=\"20\" x=\"47\" y=\"59.1387\">f: A</text></a></g><text fill=\"#000000\" font-family=\"sans-serif\" font-size=\"14\" lengthAdjust=\"spacingAndGlyphs\" textLength=\"27\" x=\"258.5\" y=\"41.6982\">c: C</text><rect fill=\"#A80036\" height=\"12\" style=\"stroke: #FEFECE; stroke-width: 1.5;\" width=\"12\" x=\"268\" y=\"57\"/><!--MD5=[60a26617385b1d2d0262a64233df1f8d]\n",
       "class E6--><a href=\"psysml:06f02a55-455e-4cd3-969d-a4f55ea12e51\" target=\"_top\" title=\"psysml:06f02a55-455e-4cd3-969d-a4f55ea12e51\" xlink:actuate=\"onRequest\" xlink:href=\"psysml:06f02a55-455e-4cd3-969d-a4f55ea12e51\" xlink:show=\"new\" xlink:title=\"psysml:06f02a55-455e-4cd3-969d-a4f55ea12e51\" xlink:type=\"simple\"><rect fill=\"#FEFECE\" filter=\"url(#f162zc38qeye41)\" height=\"45.9375\" id=\"E6\" rx=\"10\" ry=\"10\" style=\"stroke: #A80036; stroke-width: 1.5;\" width=\"71\" x=\"122.5\" y=\"164.5\"/><text fill=\"#000000\" font-family=\"sans-serif\" font-size=\"12\" font-style=\"italic\" lengthAdjust=\"spacingAndGlyphs\" textLength=\"69\" x=\"123.5\" y=\"180.6387\">«attribute»</text><text fill=\"#000000\" font-family=\"sans-serif\" font-size=\"12\" lengthAdjust=\"spacingAndGlyphs\" textLength=\"6\" x=\"153\" y=\"194.6074\">x</text><line style=\"stroke: #A80036; stroke-width: 1.5;\" x1=\"123.5\" x2=\"192.5\" y1=\"202.4375\" y2=\"202.4375\"/></a><!--MD5=[2156ba9850f5573cc1fc38a6a4b2f02b]\n",
       "class E7--><a href=\"psysml:76b35b38-8c6d-4280-8e5f-8b677c2aa039\" target=\"_top\" title=\"psysml:76b35b38-8c6d-4280-8e5f-8b677c2aa039\" xlink:actuate=\"onRequest\" xlink:href=\"psysml:76b35b38-8c6d-4280-8e5f-8b677c2aa039\" xlink:show=\"new\" xlink:title=\"psysml:76b35b38-8c6d-4280-8e5f-8b677c2aa039\" xlink:type=\"simple\"><rect fill=\"#FEFECE\" filter=\"url(#f162zc38qeye41)\" height=\"45.9375\" id=\"E7\" rx=\"10\" ry=\"10\" style=\"stroke: #A80036; stroke-width: 1.5;\" width=\"71\" x=\"122.5\" y=\"108.5\"/><text fill=\"#000000\" font-family=\"sans-serif\" font-size=\"12\" font-style=\"italic\" lengthAdjust=\"spacingAndGlyphs\" textLength=\"69\" x=\"123.5\" y=\"124.6387\">«attribute»</text><text fill=\"#000000\" font-family=\"sans-serif\" font-size=\"12\" lengthAdjust=\"spacingAndGlyphs\" textLength=\"50\" x=\"133\" y=\"138.6074\">y :&gt; A::x</text><line style=\"stroke: #A80036; stroke-width: 1.5;\" x1=\"123.5\" x2=\"192.5\" y1=\"146.4375\" y2=\"146.4375\"/></a><g id=\"E1.E3.E4\"><a href=\"psysml:1aa2f075-dfbc-4c28-975e-f9b78ce76d6b\" target=\"_top\" title=\"psysml:1aa2f075-dfbc-4c28-975e-f9b78ce76d6b\" xlink:actuate=\"onRequest\" xlink:href=\"psysml:1aa2f075-dfbc-4c28-975e-f9b78ce76d6b\" xlink:show=\"new\" xlink:title=\"psysml:1aa2f075-dfbc-4c28-975e-f9b78ce76d6b\" xlink:type=\"simple\"><rect fill=\"#FEFECE\" filter=\"url(#f162zc38qeye41)\" height=\"40\" id=\"E4\" rx=\"10\" ry=\"10\" style=\"stroke: #A80036; stroke-width: 1.5;\" width=\"50\" x=\"259\" y=\"167.5\"/><text fill=\"#000000\" font-family=\"sans-serif\" font-size=\"12\" lengthAdjust=\"spacingAndGlyphs\" textLength=\"24\" x=\"272\" y=\"183.6387\">b: B</text></a></g><text fill=\"#000000\" font-family=\"sans-serif\" font-size=\"14\" lengthAdjust=\"spacingAndGlyphs\" textLength=\"38\" x=\"502\" y=\"166.1982\">x: ~C</text><rect fill=\"#A80036\" height=\"12\" style=\"stroke: #FEFECE; stroke-width: 1.5;\" width=\"12\" x=\"517\" y=\"181.5\"/><g id=\"E1.E8.E9\"><a href=\"psysml:215e87e2-ee75-46c7-98ea-4ce8794cdbad\" target=\"_top\" title=\"psysml:215e87e2-ee75-46c7-98ea-4ce8794cdbad\" xlink:actuate=\"onRequest\" xlink:href=\"psysml:215e87e2-ee75-46c7-98ea-4ce8794cdbad\" xlink:show=\"new\" xlink:title=\"psysml:215e87e2-ee75-46c7-98ea-4ce8794cdbad\" xlink:type=\"simple\"><rect fill=\"#FEFECE\" filter=\"url(#f162zc38qeye41)\" height=\"40\" id=\"E9\" rx=\"10\" ry=\"10\" style=\"stroke: #A80036; stroke-width: 1.5;\" width=\"50\" x=\"392\" y=\"266.5\"/><text fill=\"#000000\" font-family=\"sans-serif\" font-size=\"12\" lengthAdjust=\"spacingAndGlyphs\" textLength=\"24\" x=\"405\" y=\"282.6387\">a: A</text></a></g><a href=\"psysml:e555f4d2-547d-4756-8b33-5fda3be7b359\" target=\"_top\" title=\"psysml:e555f4d2-547d-4756-8b33-5fda3be7b359\" xlink:actuate=\"onRequest\" xlink:href=\"psysml:e555f4d2-547d-4756-8b33-5fda3be7b359\" xlink:show=\"new\" xlink:title=\"psysml:e555f4d2-547d-4756-8b33-5fda3be7b359\" xlink:type=\"simple\"><polygon fill=\"#FFFFFF\" filter=\"url(#f162zc38qeye41)\" points=\"508.5,316.5,523.5,316.5,530.5,338.7969,537.5,338.7969,537.5,369.0938,508.5,369.0938,508.5,316.5\" style=\"stroke: #000000; stroke-width: 1.5;\"/><line style=\"stroke: #000000; stroke-width: 1.5;\" x1=\"508.5\" x2=\"530.5\" y1=\"338.7969\" y2=\"338.7969\"/><text fill=\"#000000\" font-family=\"sans-serif\" font-size=\"14\" font-weight=\"bold\" lengthAdjust=\"spacingAndGlyphs\" textLength=\"9\" x=\"512.5\" y=\"331.4951\">P</text></a><!--MD5=[2720a5a1f2c3fca2055b230370638851]\n",
       "link E2 to E3--><a href=\"psysml:02703352-f69e-4a4b-893d-89c09588fdfd\" target=\"_top\" title=\"psysml:02703352-f69e-4a4b-893d-89c09588fdfd\" xlink:actuate=\"onRequest\" xlink:href=\"psysml:02703352-f69e-4a4b-893d-89c09588fdfd\" xlink:show=\"new\" xlink:title=\"psysml:02703352-f69e-4a4b-893d-89c09588fdfd\" xlink:type=\"simple\"><path d=\"M82.35,81.39 C84.86,82.61 87.43,83.67 90,84.5 C91.6034,85.0153 93.1746,85.4905 94.7155,85.9279 C95.486,86.1467 96.2489,86.356 97.0045,86.5562 C97.1934,86.6063 97.3818,86.6558 97.5698,86.7047 \" fill=\"none\" id=\"E2-&gt;E3\" style=\"stroke: #A80036; stroke-width: 1.0;\"/><polygon fill=\"#FFFFFF\" points=\"97.5698,86.7047,77.4193,88.6939,80.9452,75.1452,97.5698,86.7047\" style=\"stroke: #A80036; stroke-width: 1.0;\"/><ellipse cx=\"72.4067\" cy=\"85.3228\" fill=\"#A80036\" rx=\"2\" ry=\"2\" style=\"stroke: #A80036; stroke-width: 1.0;\"/><ellipse cx=\"74.9252\" cy=\"75.6452\" fill=\"#A80036\" rx=\"2\" ry=\"2\" style=\"stroke: #A80036; stroke-width: 1.0;\"/></a><!--MD5=[353cdda3e1e05fc02373f055b6f604ae]\n",
       "link E4 to E8--><a href=\"psysml:6f8c5931-99ab-4f3d-9640-f9d86b709835\" target=\"_top\" title=\"psysml:6f8c5931-99ab-4f3d-9640-f9d86b709835\" xlink:actuate=\"onRequest\" xlink:href=\"psysml:6f8c5931-99ab-4f3d-9640-f9d86b709835\" xlink:show=\"new\" xlink:title=\"psysml:6f8c5931-99ab-4f3d-9640-f9d86b709835\" xlink:type=\"simple\"><path d=\"M304.49,207.74 C318.86,219.99 339.16,234.92 360,242.5 C362.6188,243.4525 365.1341,244.2668 367.5591,244.9596 \" fill=\"none\" id=\"E4-&gt;E8\" style=\"stroke: #A80036; stroke-width: 1.0;\"/><polygon fill=\"#FFFFFF\" points=\"367.5591,244.9596,347.3671,246.471,351.2129,233.0096,367.5591,244.9596\" style=\"stroke: #A80036; stroke-width: 1.0;\"/><ellipse cx=\"342.4358\" cy=\"242.9822\" fill=\"#A80036\" rx=\"2\" ry=\"2\" style=\"stroke: #A80036; stroke-width: 1.0;\"/><ellipse cx=\"345.1828\" cy=\"233.3669\" fill=\"#A80036\" rx=\"2\" ry=\"2\" style=\"stroke: #A80036; stroke-width: 1.0;\"/></a><!--MD5=[fbb449814971db3a0b8220cf225b9e01]\n",
       "link E7 to E6--><a href=\"psysml:ae54614b-4129-4b1b-b401-8ec489119004\" target=\"_top\" title=\"psysml:ae54614b-4129-4b1b-b401-8ec489119004\" xlink:actuate=\"onRequest\" xlink:href=\"psysml:ae54614b-4129-4b1b-b401-8ec489119004\" xlink:show=\"new\" xlink:title=\"psysml:ae54614b-4129-4b1b-b401-8ec489119004\" xlink:type=\"simple\"><path d=\"M158,154.78 C158,154.87 158,154.97 158,155.07 \" fill=\"none\" id=\"E7-&gt;E6\" style=\"stroke: #A80036; stroke-width: 1.0;\"/><polygon fill=\"none\" points=\"165,144.28,158,164.28,151,144.28,165,144.28\" style=\"stroke: #A80036; stroke-width: 1.0;\"/></a><!--MD5=[92a97fc68b0cf8efbbf01f4f6b4ceef7]\n",
       "link E9 to E3--><a href=\"psysml:d4047a87-2764-4bb9-9711-6fad77bbdb97\" target=\"_top\" title=\"psysml:d4047a87-2764-4bb9-9711-6fad77bbdb97\" xlink:actuate=\"onRequest\" xlink:href=\"psysml:d4047a87-2764-4bb9-9711-6fad77bbdb97\" xlink:show=\"new\" xlink:title=\"psysml:d4047a87-2764-4bb9-9711-6fad77bbdb97\" xlink:type=\"simple\"><path d=\"M405.86,266.08 C398.19,253.305 386.955,235.61 373.3975,217.2588 C366.6188,208.0831 359.2594,198.7434 351.4747,189.7727 C349.5285,187.53 347.5558,185.3103 345.5589,183.1221 C345.0596,182.575 344.5589,182.0299 344.0567,181.4869 \" fill=\"none\" id=\"E9-&gt;E3\" style=\"stroke: #A80036; stroke-width: 1.0;\"/><polygon fill=\"#FFFFFF\" points=\"344.0567,181.4869,362.0965,190.6828,351.8184,200.1887,344.0567,181.4869\" style=\"stroke: #A80036; stroke-width: 1.0;\"/><ellipse cx=\"364.4984\" cy=\"196.2255\" fill=\"#A80036\" rx=\"2\" ry=\"2\" style=\"stroke: #A80036; stroke-width: 1.0;\"/><ellipse cx=\"357.1569\" cy=\"203.0153\" fill=\"#A80036\" rx=\"2\" ry=\"2\" style=\"stroke: #A80036; stroke-width: 1.0;\"/></a><!--MD5=[4c44eaa0f99e44769e08739264339bbe]\n",
       "@startuml\r\n",
       "skinparam ranksep 10\r\n",
       "skinparam rectangle {\r\n",
       " backgroundColor<<block>> LightGreen\r\n",
       "}\r\n",
       "skinparam wrapWidth 300\r\n",
       "hide circle\r\n",
       "\r\n",
       "package \"PartTest\" as E1  [[psysml:538b1265-15ae-4afd-8dd2-ef0f57b41a53 ]]  {\r\n",
       "rec usage \"f: A\" as E2  [[psysml:2c090466-3d5c-4444-ba17-090921dc2443 ]] {\r\n",
       "}\r\n",
       "rec def \"A\" as E3  <<(T,blue) part  def>> [[psysml:d1b7cfcb-f6eb-4e6c-b82e-69976e6757f6 ]] {\r\n",
       "rec usage \"b: B\" as E4  [[psysml:1aa2f075-dfbc-4c28-975e-f9b78ce76d6b ]] {\r\n",
       "}\r\n",
       "portin \"c: C \" as E5  <<(T,blue) port>> [[psysml:6b6fc427-035b-4f92-af2f-ae5f46ec13e5 ]] \r\n",
       "comp usage \"x \" as E6  <<(T,blue) attribute>> [[psysml:06f02a55-455e-4cd3-969d-a4f55ea12e51 ]] {\r\n",
       "}\r\n",
       "comp usage \"y :> A::x\" as E7  <<(T,blue) attribute>> [[psysml:76b35b38-8c6d-4280-8e5f-8b677c2aa039 ]] {\r\n",
       "}\r\n",
       "}\r\n",
       "rec def \"<i>B</i>\" as E8  <<(T,blue) part  def>> [[psysml:286e6ef4-92d4-4c1b-a17d-09881da7698b ]] {\r\n",
       "rec usage \"a: A\" as E9  [[psysml:215e87e2-ee75-46c7-98ea-4ce8794cdbad ]] {\r\n",
       "}\r\n",
       "portin \"x: ~C \" as E10  <<(T,blue) port>> [[psysml:27d37788-2b75-4a5c-b4fe-9553c2483e93 ]] \r\n",
       "package \"P\" as E11  [[psysml:e555f4d2-547d-4756-8b33-5fda3be7b359 ]]  {\r\n",
       "}\r\n",
       "}\r\n",
       "def \"C\" as E12  <<(T,blue) port  def>> [[psysml:3d6805d2-0d33-47df-af88-6771a9177656 ]] \r\n",
       "}\r\n",
       "E2 - -:|> E3 [[psysml:02703352-f69e-4a4b-893d-89c09588fdfd ]] \r\n",
       "E4 - -:|> E8 [[psysml:6f8c5931-99ab-4f3d-9640-f9d86b709835 ]] \r\n",
       "E7 - -|> E6 [[psysml:ae54614b-4129-4b1b-b401-8ec489119004 ]] \r\n",
       "E9 - -:|> E3 [[psysml:d4047a87-2764-4bb9-9711-6fad77bbdb97 ]] \r\n",
       "@enduml\r\n",
       "\n",
       "PlantUML version 1.2020.13(Sat Jun 13 12:26:38 UTC 2020)\n",
       "(EPL source distribution)\n",
       "Java Runtime: OpenJDK Runtime Environment\n",
       "JVM: OpenJDK 64-Bit Server VM\n",
       "Default Encoding: UTF-8\n",
       "Language: en\n",
       "Country: null\n",
       "--></g></svg>"
      ]
     },
     "execution_count": 26,
     "metadata": {},
     "output_type": "execute_result"
    }
   ],
   "source": [
    "%viz --style=\"STDCOLOR\" --view=\"Interconnection\" \"PartTest\""
   ]
  },
  {
   "cell_type": "code",
   "execution_count": 27,
   "id": "d1d04ea4",
   "metadata": {
    "execution": {
     "iopub.execute_input": "2022-05-19T08:45:13.165422Z",
     "iopub.status.busy": "2022-05-19T08:45:13.164973Z",
     "iopub.status.idle": "2022-05-19T08:45:13.169646Z",
     "shell.execute_reply": "2022-05-19T08:45:13.169962Z"
    }
   },
   "outputs": [
    {
     "data": {
      "image/svg+xml": [
       "<?xml version=\"1.0\" encoding=\"UTF-8\" standalone=\"no\"?><svg xmlns=\"http://www.w3.org/2000/svg\" xmlns:xlink=\"http://www.w3.org/1999/xlink\" contentScriptType=\"application/ecmascript\" contentStyleType=\"text/css\" height=\"12px\" preserveAspectRatio=\"none\" style=\"width:12px;height:12px;\" version=\"1.1\" viewBox=\"0 0 12 12\" width=\"12px\" zoomAndPan=\"magnify\"><defs/><g><!--MD5=[9863325348a96a77dacc89509d8ee65e]\n",
       "@startuml\r\n",
       "skinparam ranksep 8\r\n",
       "skinparam wrapWidth 300\r\n",
       "hide circle\r\n",
       "\r\n",
       "@enduml\r\n",
       "\n",
       "PlantUML version 1.2020.13(Sat Jun 13 12:26:38 UTC 2020)\n",
       "(EPL source distribution)\n",
       "Java Runtime: OpenJDK Runtime Environment\n",
       "JVM: OpenJDK 64-Bit Server VM\n",
       "Default Encoding: UTF-8\n",
       "Language: en\n",
       "Country: null\n",
       "--></g></svg>"
      ]
     },
     "execution_count": 27,
     "metadata": {},
     "output_type": "execute_result"
    }
   ],
   "source": [
    "%viz --style=\"STDCOLOR\" --view=\"Action\" \"PartTest\""
   ]
  },
  {
   "cell_type": "code",
   "execution_count": 28,
   "id": "37884330",
   "metadata": {
    "execution": {
     "iopub.execute_input": "2022-05-19T08:45:13.220223Z",
     "iopub.status.busy": "2022-05-19T08:45:13.219781Z",
     "iopub.status.idle": "2022-05-19T08:45:13.224580Z",
     "shell.execute_reply": "2022-05-19T08:45:13.224893Z"
    }
   },
   "outputs": [
    {
     "data": {
      "image/svg+xml": [
       "<?xml version=\"1.0\" encoding=\"UTF-8\" standalone=\"no\"?><svg xmlns=\"http://www.w3.org/2000/svg\" xmlns:xlink=\"http://www.w3.org/1999/xlink\" contentScriptType=\"application/ecmascript\" contentStyleType=\"text/css\" height=\"12px\" preserveAspectRatio=\"none\" style=\"width:12px;height:12px;\" version=\"1.1\" viewBox=\"0 0 12 12\" width=\"12px\" zoomAndPan=\"magnify\"><defs/><g><!--MD5=[6c4bca67b4d71758159a5a7f1f1e1fc2]\n",
       "@startuml\r\n",
       "skinparam roundcorner 20\r\n",
       "skinparam BoxPadding 20\r\n",
       "skinparam SequenceBoxBackgroundColor #white\r\n",
       "skinparam style strictuml\r\n",
       "skinparam maxMessageSize 100\r\n",
       "skinparam wrapWidth 300\r\n",
       "hide circle\r\n",
       "\r\n",
       "@enduml\r\n",
       "\n",
       "PlantUML version 1.2020.13(Sat Jun 13 12:26:38 UTC 2020)\n",
       "(EPL source distribution)\n",
       "Java Runtime: OpenJDK Runtime Environment\n",
       "JVM: OpenJDK 64-Bit Server VM\n",
       "Default Encoding: UTF-8\n",
       "Language: en\n",
       "Country: null\n",
       "--></g></svg>"
      ]
     },
     "execution_count": 28,
     "metadata": {},
     "output_type": "execute_result"
    }
   ],
   "source": [
    "%viz --style=\"STDCOLOR\" --view=\"Sequence\" \"PartTest\""
   ]
  },
  {
   "cell_type": "code",
   "execution_count": 29,
   "id": "af9cc746",
   "metadata": {
    "execution": {
     "iopub.execute_input": "2022-05-19T08:45:13.275043Z",
     "iopub.status.busy": "2022-05-19T08:45:13.274604Z",
     "iopub.status.idle": "2022-05-19T08:45:13.348008Z",
     "shell.execute_reply": "2022-05-19T08:45:13.347689Z"
    }
   },
   "outputs": [
    {
     "data": {
      "image/svg+xml": [
       "<?xml version=\"1.0\" encoding=\"UTF-8\" standalone=\"no\"?><svg xmlns=\"http://www.w3.org/2000/svg\" xmlns:xlink=\"http://www.w3.org/1999/xlink\" contentScriptType=\"application/ecmascript\" contentStyleType=\"text/css\" height=\"790px\" preserveAspectRatio=\"none\" style=\"width:265px;height:790px;\" version=\"1.1\" viewBox=\"0 0 265 790\" width=\"265px\" zoomAndPan=\"magnify\"><defs><filter height=\"300%\" id=\"f17pdoym4hj4no\" width=\"300%\" x=\"-1\" y=\"-1\"><feGaussianBlur result=\"blurOut\" stdDeviation=\"2.0\"/><feColorMatrix in=\"blurOut\" result=\"blurOut2\" type=\"matrix\" values=\"0 0 0 0 0 0 0 0 0 0 0 0 0 0 0 0 0 0 .4 0\"/><feOffset dx=\"4.0\" dy=\"4.0\" in=\"blurOut2\" result=\"blurOut3\"/><feBlend in=\"SourceGraphic\" in2=\"blurOut3\" mode=\"normal\"/></filter></defs><g><!--MD5=[fbc87193dbaf4d95561dea2c320d4a47]\n",
       "cluster E1--><a href=\"psysml:538b1265-15ae-4afd-8dd2-ef0f57b41a53\" target=\"_top\" title=\"psysml:538b1265-15ae-4afd-8dd2-ef0f57b41a53\" xlink:actuate=\"onRequest\" xlink:href=\"psysml:538b1265-15ae-4afd-8dd2-ef0f57b41a53\" xlink:show=\"new\" xlink:title=\"psysml:538b1265-15ae-4afd-8dd2-ef0f57b41a53\" xlink:type=\"simple\"><polygon fill=\"#FFFFFF\" filter=\"url(#f17pdoym4hj4no)\" points=\"16,6,80,6,87,28.2969,243,28.2969,243,778,16,778,16,6\" style=\"stroke: #000000; stroke-width: 1.5;\"/><line style=\"stroke: #000000; stroke-width: 1.5;\" x1=\"16\" x2=\"87\" y1=\"28.2969\" y2=\"28.2969\"/><text fill=\"#000000\" font-family=\"sans-serif\" font-size=\"14\" font-weight=\"bold\" lengthAdjust=\"spacingAndGlyphs\" textLength=\"58\" x=\"20\" y=\"20.9951\">PartTest</text></a><!--MD5=[b4997ac47864f28c2f74865a473b2911]\n",
       "class E2--><a href=\"psysml:2c090466-3d5c-4444-ba17-090921dc2443\" target=\"_top\" title=\"psysml:2c090466-3d5c-4444-ba17-090921dc2443\" xlink:actuate=\"onRequest\" xlink:href=\"psysml:2c090466-3d5c-4444-ba17-090921dc2443\" xlink:show=\"new\" xlink:title=\"psysml:2c090466-3d5c-4444-ba17-090921dc2443\" xlink:type=\"simple\"><rect fill=\"#FEFECE\" filter=\"url(#f17pdoym4hj4no)\" height=\"45.9375\" id=\"E2\" rx=\"10\" ry=\"10\" style=\"stroke: #A80036; stroke-width: 1.5;\" width=\"42\" x=\"101\" y=\"41\"/><text fill=\"#000000\" font-family=\"sans-serif\" font-size=\"12\" font-style=\"italic\" lengthAdjust=\"spacingAndGlyphs\" textLength=\"40\" x=\"102\" y=\"57.1387\">«part»</text><text fill=\"#000000\" font-family=\"sans-serif\" font-size=\"12\" lengthAdjust=\"spacingAndGlyphs\" textLength=\"20\" x=\"110\" y=\"71.1074\">f: A</text><line style=\"stroke: #A80036; stroke-width: 1.5;\" x1=\"102\" x2=\"142\" y1=\"78.9375\" y2=\"78.9375\"/></a><!--MD5=[09b614a08d8cba4a07c9adeb5e0fee81]\n",
       "class E3--><a href=\"psysml:d1b7cfcb-f6eb-4e6c-b82e-69976e6757f6\" target=\"_top\" title=\"psysml:d1b7cfcb-f6eb-4e6c-b82e-69976e6757f6\" xlink:actuate=\"onRequest\" xlink:href=\"psysml:d1b7cfcb-f6eb-4e6c-b82e-69976e6757f6\" xlink:show=\"new\" xlink:title=\"psysml:d1b7cfcb-f6eb-4e6c-b82e-69976e6757f6\" xlink:type=\"simple\"><rect fill=\"#FEFECE\" filter=\"url(#f17pdoym4hj4no)\" height=\"88.3516\" id=\"E3\" style=\"stroke: #A80036; stroke-width: 1.5;\" width=\"70\" x=\"87\" y=\"148\"/><text fill=\"#000000\" font-family=\"sans-serif\" font-size=\"12\" font-style=\"italic\" lengthAdjust=\"spacingAndGlyphs\" textLength=\"68\" x=\"88\" y=\"164.1387\">«part  def»</text><text fill=\"#000000\" font-family=\"sans-serif\" font-size=\"12\" lengthAdjust=\"spacingAndGlyphs\" textLength=\"8\" x=\"118\" y=\"178.1074\">A</text><line style=\"stroke: #A80036; stroke-width: 1.5;\" x1=\"88\" x2=\"156\" y1=\"185.9375\" y2=\"185.9375\"/><text fill=\"#000000\" font-family=\"sans-serif\" font-size=\"11\" lengthAdjust=\"spacingAndGlyphs\" textLength=\"6\" x=\"93\" y=\"216.9526\">x</text><text fill=\"#000000\" font-family=\"sans-serif\" font-size=\"11\" lengthAdjust=\"spacingAndGlyphs\" textLength=\"44\" x=\"93\" y=\"229.7573\">y:&gt; A::x</text><line style=\"stroke: #A80036; stroke-width: 1.0;\" x1=\"88\" x2=\"94.5\" y1=\"200.3398\" y2=\"200.3398\"/><text fill=\"#000000\" font-family=\"sans-serif\" font-size=\"11\" lengthAdjust=\"spacingAndGlyphs\" textLength=\"55\" x=\"94.5\" y=\"203.6479\">attributes</text><line style=\"stroke: #A80036; stroke-width: 1.0;\" x1=\"149.5\" x2=\"156\" y1=\"200.3398\" y2=\"200.3398\"/></a><!--MD5=[ebbe1d658d1005bcc118a6aa81145e00]\n",
       "class E4--><a href=\"psysml:1aa2f075-dfbc-4c28-975e-f9b78ce76d6b\" target=\"_top\" title=\"psysml:1aa2f075-dfbc-4c28-975e-f9b78ce76d6b\" xlink:actuate=\"onRequest\" xlink:href=\"psysml:1aa2f075-dfbc-4c28-975e-f9b78ce76d6b\" xlink:show=\"new\" xlink:title=\"psysml:1aa2f075-dfbc-4c28-975e-f9b78ce76d6b\" xlink:type=\"simple\"><rect fill=\"#FEFECE\" filter=\"url(#f17pdoym4hj4no)\" height=\"45.9375\" id=\"E4\" rx=\"10\" ry=\"10\" style=\"stroke: #A80036; stroke-width: 1.5;\" width=\"42\" x=\"32\" y=\"373\"/><text fill=\"#000000\" font-family=\"sans-serif\" font-size=\"12\" font-style=\"italic\" lengthAdjust=\"spacingAndGlyphs\" textLength=\"40\" x=\"33\" y=\"389.1387\">«part»</text><text fill=\"#000000\" font-family=\"sans-serif\" font-size=\"12\" lengthAdjust=\"spacingAndGlyphs\" textLength=\"24\" x=\"39\" y=\"403.1074\">b: B</text><line style=\"stroke: #A80036; stroke-width: 1.5;\" x1=\"33\" x2=\"73\" y1=\"410.9375\" y2=\"410.9375\"/></a><!--MD5=[270fce915f116d4de14055a7c1d9a0f3]\n",
       "class E5--><a href=\"psysml:6b6fc427-035b-4f92-af2f-ae5f46ec13e5\" target=\"_top\" title=\"psysml:6b6fc427-035b-4f92-af2f-ae5f46ec13e5\" xlink:actuate=\"onRequest\" xlink:href=\"psysml:6b6fc427-035b-4f92-af2f-ae5f46ec13e5\" xlink:show=\"new\" xlink:title=\"psysml:6b6fc427-035b-4f92-af2f-ae5f46ec13e5\" xlink:type=\"simple\"><rect fill=\"#FEFECE\" filter=\"url(#f17pdoym4hj4no)\" height=\"45.9375\" id=\"E5\" rx=\"10\" ry=\"10\" style=\"stroke: #A80036; stroke-width: 1.5;\" width=\"42\" x=\"148\" y=\"297\"/><text fill=\"#000000\" font-family=\"sans-serif\" font-size=\"12\" font-style=\"italic\" lengthAdjust=\"spacingAndGlyphs\" textLength=\"40\" x=\"149\" y=\"313.1387\">«port»</text><text fill=\"#000000\" font-family=\"sans-serif\" font-size=\"12\" lengthAdjust=\"spacingAndGlyphs\" textLength=\"23\" x=\"155.5\" y=\"327.1074\">c: C</text><line style=\"stroke: #A80036; stroke-width: 1.5;\" x1=\"149\" x2=\"189\" y1=\"334.9375\" y2=\"334.9375\"/></a><!--MD5=[60a26617385b1d2d0262a64233df1f8d]\n",
       "class E6--><a href=\"psysml:286e6ef4-92d4-4c1b-a17d-09881da7698b\" target=\"_top\" title=\"psysml:286e6ef4-92d4-4c1b-a17d-09881da7698b\" xlink:actuate=\"onRequest\" xlink:href=\"psysml:286e6ef4-92d4-4c1b-a17d-09881da7698b\" xlink:show=\"new\" xlink:title=\"psysml:286e6ef4-92d4-4c1b-a17d-09881da7698b\" xlink:type=\"simple\"><rect fill=\"#FEFECE\" filter=\"url(#f17pdoym4hj4no)\" height=\"45.9375\" id=\"E6\" style=\"stroke: #A80036; stroke-width: 1.5;\" width=\"70\" x=\"100\" y=\"602\"/><text fill=\"#000000\" font-family=\"sans-serif\" font-size=\"12\" font-style=\"italic\" lengthAdjust=\"spacingAndGlyphs\" textLength=\"68\" x=\"101\" y=\"618.1387\">«part  def»</text><text fill=\"#000000\" font-family=\"sans-serif\" font-size=\"12\" font-style=\"italic\" lengthAdjust=\"spacingAndGlyphs\" textLength=\"8\" x=\"131\" y=\"632.1074\">B</text><line style=\"stroke: #A80036; stroke-width: 1.5;\" x1=\"101\" x2=\"169\" y1=\"639.9375\" y2=\"639.9375\"/></a><!--MD5=[2156ba9850f5573cc1fc38a6a4b2f02b]\n",
       "class E7--><a href=\"psysml:215e87e2-ee75-46c7-98ea-4ce8794cdbad\" target=\"_top\" title=\"psysml:215e87e2-ee75-46c7-98ea-4ce8794cdbad\" xlink:actuate=\"onRequest\" xlink:href=\"psysml:215e87e2-ee75-46c7-98ea-4ce8794cdbad\" xlink:show=\"new\" xlink:title=\"psysml:215e87e2-ee75-46c7-98ea-4ce8794cdbad\" xlink:type=\"simple\"><rect fill=\"#FEFECE\" filter=\"url(#f17pdoym4hj4no)\" height=\"45.9375\" id=\"E7\" rx=\"10\" ry=\"10\" style=\"stroke: #A80036; stroke-width: 1.5;\" width=\"42\" x=\"185\" y=\"712.5\"/><text fill=\"#000000\" font-family=\"sans-serif\" font-size=\"12\" font-style=\"italic\" lengthAdjust=\"spacingAndGlyphs\" textLength=\"40\" x=\"186\" y=\"728.6387\">«part»</text><text fill=\"#000000\" font-family=\"sans-serif\" font-size=\"12\" font-style=\"italic\" lengthAdjust=\"spacingAndGlyphs\" textLength=\"8\" x=\"192\" y=\"742.6074\">a</text><text fill=\"#000000\" font-family=\"sans-serif\" font-size=\"12\" lengthAdjust=\"spacingAndGlyphs\" textLength=\"16\" x=\"200\" y=\"742.6074\">: A</text><line style=\"stroke: #A80036; stroke-width: 1.5;\" x1=\"186\" x2=\"226\" y1=\"750.4375\" y2=\"750.4375\"/></a><!--MD5=[b9389687b975829384b498ac4b7476b2]\n",
       "class E8--><a href=\"psysml:27d37788-2b75-4a5c-b4fe-9553c2483e93\" target=\"_top\" title=\"psysml:27d37788-2b75-4a5c-b4fe-9553c2483e93\" xlink:actuate=\"onRequest\" xlink:href=\"psysml:27d37788-2b75-4a5c-b4fe-9553c2483e93\" xlink:show=\"new\" xlink:title=\"psysml:27d37788-2b75-4a5c-b4fe-9553c2483e93\" xlink:type=\"simple\"><rect fill=\"#FEFECE\" filter=\"url(#f17pdoym4hj4no)\" height=\"45.9375\" id=\"E8\" rx=\"10\" ry=\"10\" style=\"stroke: #A80036; stroke-width: 1.5;\" width=\"42\" x=\"43\" y=\"712.5\"/><text fill=\"#000000\" font-family=\"sans-serif\" font-size=\"12\" font-style=\"italic\" lengthAdjust=\"spacingAndGlyphs\" textLength=\"40\" x=\"44\" y=\"728.6387\">«port»</text><text fill=\"#000000\" font-family=\"sans-serif\" font-size=\"12\" lengthAdjust=\"spacingAndGlyphs\" textLength=\"32\" x=\"46\" y=\"742.6074\">x: ~C</text><line style=\"stroke: #A80036; stroke-width: 1.5;\" x1=\"44\" x2=\"84\" y1=\"750.4375\" y2=\"750.4375\"/></a><!--MD5=[96f4274e9e20536e775497830990834d]\n",
       "class E10--><a href=\"psysml:3d6805d2-0d33-47df-af88-6771a9177656\" target=\"_top\" title=\"psysml:3d6805d2-0d33-47df-af88-6771a9177656\" xlink:actuate=\"onRequest\" xlink:href=\"psysml:3d6805d2-0d33-47df-af88-6771a9177656\" xlink:show=\"new\" xlink:title=\"psysml:3d6805d2-0d33-47df-af88-6771a9177656\" xlink:type=\"simple\"><rect fill=\"#FEFECE\" filter=\"url(#f17pdoym4hj4no)\" height=\"75.5469\" id=\"E10\" style=\"stroke: #A80036; stroke-width: 1.5;\" width=\"110\" x=\"80\" y=\"449\"/><text fill=\"#000000\" font-family=\"sans-serif\" font-size=\"12\" font-style=\"italic\" lengthAdjust=\"spacingAndGlyphs\" textLength=\"68\" x=\"101\" y=\"465.1387\">«port  def»</text><text fill=\"#000000\" font-family=\"sans-serif\" font-size=\"12\" lengthAdjust=\"spacingAndGlyphs\" textLength=\"8\" x=\"131\" y=\"479.1074\">C</text><line style=\"stroke: #A80036; stroke-width: 1.5;\" x1=\"81\" x2=\"189\" y1=\"486.9375\" y2=\"486.9375\"/><text fill=\"#000000\" font-family=\"sans-serif\" font-size=\"11\" font-weight=\"bold\" lengthAdjust=\"spacingAndGlyphs\" textLength=\"10\" x=\"86\" y=\"517.9526\">in</text><text fill=\"#000000\" font-family=\"sans-serif\" font-size=\"11\" lengthAdjust=\"spacingAndGlyphs\" textLength=\"37\" x=\"100\" y=\"517.9526\">y: A, B</text><text fill=\"#000000\" font-family=\"sans-serif\" font-size=\"11\" font-weight=\"bold\" lengthAdjust=\"spacingAndGlyphs\" textLength=\"27\" x=\"141\" y=\"517.9526\">alias</text><text fill=\"#000000\" font-family=\"sans-serif\" font-size=\"11\" lengthAdjust=\"spacingAndGlyphs\" textLength=\"12\" x=\"172\" y=\"517.9526\">z2</text><line style=\"stroke: #A80036; stroke-width: 1.0;\" x1=\"81\" x2=\"101.5\" y1=\"501.3398\" y2=\"501.3398\"/><text fill=\"#000000\" font-family=\"sans-serif\" font-size=\"11\" lengthAdjust=\"spacingAndGlyphs\" textLength=\"67\" x=\"101.5\" y=\"504.6479\">parameters</text><line style=\"stroke: #A80036; stroke-width: 1.0;\" x1=\"168.5\" x2=\"189\" y1=\"501.3398\" y2=\"501.3398\"/></a><a href=\"psysml:e555f4d2-547d-4756-8b33-5fda3be7b359\" target=\"_top\" title=\"psysml:e555f4d2-547d-4756-8b33-5fda3be7b359\" xlink:actuate=\"onRequest\" xlink:href=\"psysml:e555f4d2-547d-4756-8b33-5fda3be7b359\" xlink:show=\"new\" xlink:title=\"psysml:e555f4d2-547d-4756-8b33-5fda3be7b359\" xlink:type=\"simple\"><polygon fill=\"#FFFFFF\" filter=\"url(#f17pdoym4hj4no)\" points=\"120.5,709,135.5,709,142.5,731.2969,149.5,731.2969,149.5,761.5938,120.5,761.5938,120.5,709\" style=\"stroke: #000000; stroke-width: 1.5;\"/><line style=\"stroke: #000000; stroke-width: 1.5;\" x1=\"120.5\" x2=\"142.5\" y1=\"731.2969\" y2=\"731.2969\"/><text fill=\"#000000\" font-family=\"sans-serif\" font-size=\"14\" font-weight=\"bold\" lengthAdjust=\"spacingAndGlyphs\" textLength=\"9\" x=\"124.5\" y=\"723.9951\">P</text></a><!--MD5=[2720a5a1f2c3fca2055b230370638851]\n",
       "link E2 to E3--><a href=\"psysml:02703352-f69e-4a4b-893d-89c09588fdfd\" target=\"_top\" title=\"psysml:02703352-f69e-4a4b-893d-89c09588fdfd\" xlink:actuate=\"onRequest\" xlink:href=\"psysml:02703352-f69e-4a4b-893d-89c09588fdfd\" xlink:show=\"new\" xlink:title=\"psysml:02703352-f69e-4a4b-893d-89c09588fdfd\" xlink:type=\"simple\"><path d=\"M122,87.24 C122,98.62 122,113.11 122,127.62 \" fill=\"none\" id=\"E2-&gt;E3\" style=\"stroke: #A80036; stroke-width: 1.0;\"/><polygon fill=\"#FFFFFF\" points=\"122,147.84,115,128.84,129,128.84,122,147.84\" style=\"stroke: #A80036; stroke-width: 1.0;\"/><ellipse cx=\"117\" cy=\"123.14\" fill=\"#A80036\" rx=\"2\" ry=\"2\" style=\"stroke: #A80036; stroke-width: 1.0;\"/><ellipse cx=\"127\" cy=\"123.14\" fill=\"#A80036\" rx=\"2\" ry=\"2\" style=\"stroke: #A80036; stroke-width: 1.0;\"/></a><!--MD5=[4672eba38e49728da53d11aeb285b987]\n",
       "reverse link E3 to E4--><a href=\"psysml:e82a868e-a957-4308-9aca-5f2e1a046a10\" target=\"_top\" title=\"psysml:e82a868e-a957-4308-9aca-5f2e1a046a10\" xlink:actuate=\"onRequest\" xlink:href=\"psysml:e82a868e-a957-4308-9aca-5f2e1a046a10\" xlink:show=\"new\" xlink:title=\"psysml:e82a868e-a957-4308-9aca-5f2e1a046a10\" xlink:type=\"simple\"><path d=\"M83.84,247.58 C74.86,262.92 66.35,280.06 61,297 C53.08,322.07 51.8,352.44 52.03,372.66 \" fill=\"none\" id=\"E3&lt;-E4\" style=\"stroke: #A80036; stroke-width: 1.0;\"/><polygon fill=\"#A80036\" points=\"90.76,236.23,84.2205,239.269,84.5106,246.4743,91.0501,243.4353,90.76,236.23\" style=\"stroke: #A80036; stroke-width: 1.0;\"/><text fill=\"#000000\" font-family=\"sans-serif\" font-size=\"13\" lengthAdjust=\"spacingAndGlyphs\" textLength=\"8\" x=\"42.7564\" y=\"361.8492\">1</text></a><!--MD5=[191cde3d490a3f6d7bb551fe3ddca469]\n",
       "reverse link E3 to E5--><a href=\"psysml:01f43deb-5863-4903-863e-c9a23e0a1180\" target=\"_top\" title=\"psysml:01f43deb-5863-4903-863e-c9a23e0a1180\" xlink:actuate=\"onRequest\" xlink:href=\"psysml:01f43deb-5863-4903-863e-c9a23e0a1180\" xlink:show=\"new\" xlink:title=\"psysml:01f43deb-5863-4903-863e-c9a23e0a1180\" xlink:type=\"simple\"><path d=\"M142.61,248.24 C148.98,265.32 155.64,283.18 160.68,296.68 \" fill=\"none\" id=\"E3&lt;-E5\" style=\"stroke: #A80036; stroke-width: 1.0;\"/><polygon fill=\"#FFFFFF\" points=\"138.04,236.01,136.3879,243.0293,142.2318,247.2541,143.8839,240.2348,138.04,236.01\" style=\"stroke: #A80036; stroke-width: 1.0;\"/><text fill=\"#000000\" font-family=\"sans-serif\" font-size=\"13\" lengthAdjust=\"spacingAndGlyphs\" textLength=\"8\" x=\"149.523\" y=\"285.8743\">1</text></a><!--MD5=[79568f1e445c3877b6a54524624ccc7d]\n",
       "link E4 to E6--><a href=\"psysml:6f8c5931-99ab-4f3d-9640-f9d86b709835\" target=\"_top\" title=\"psysml:6f8c5931-99ab-4f3d-9640-f9d86b709835\" xlink:actuate=\"onRequest\" xlink:href=\"psysml:6f8c5931-99ab-4f3d-9640-f9d86b709835\" xlink:show=\"new\" xlink:title=\"psysml:6f8c5931-99ab-4f3d-9640-f9d86b709835\" xlink:type=\"simple\"><path d=\"M51.16,419.06 C49.78,445.2 49.96,489.66 63,525 C71.25,547.36 86.09,569.13 100.16,586.54 \" fill=\"none\" id=\"E4-&gt;E6\" style=\"stroke: #A80036; stroke-width: 1.0;\"/><polygon fill=\"#FFFFFF\" points=\"113.18,601.76,95.5109,591.8705,106.1504,582.7709,113.18,601.76\" style=\"stroke: #A80036; stroke-width: 1.0;\"/><ellipse cx=\"93.326\" cy=\"586.2388\" fill=\"#A80036\" rx=\"2\" ry=\"2\" style=\"stroke: #A80036; stroke-width: 1.0;\"/><ellipse cx=\"100.9256\" cy=\"579.7391\" fill=\"#A80036\" rx=\"2\" ry=\"2\" style=\"stroke: #A80036; stroke-width: 1.0;\"/></a><!--MD5=[3f50a3473f1dfb74d3f76443e03635af]\n",
       "reverse link E6 to E7--><a href=\"psysml:ef71999d-b74e-4e5c-b2f7-aebb94a9d32a\" target=\"_top\" title=\"psysml:ef71999d-b74e-4e5c-b2f7-aebb94a9d32a\" xlink:actuate=\"onRequest\" xlink:href=\"psysml:ef71999d-b74e-4e5c-b2f7-aebb94a9d32a\" xlink:show=\"new\" xlink:title=\"psysml:ef71999d-b74e-4e5c-b2f7-aebb94a9d32a\" xlink:type=\"simple\"><path d=\"M156.91,659.48 C168.15,676.66 181.53,697.11 191.48,712.31 \" fill=\"none\" id=\"E6&lt;-E7\" style=\"stroke: #A80036; stroke-width: 1.0;\"/><polygon fill=\"#A80036\" points=\"149.54,648.22,149.4851,655.4309,156.1201,658.255,156.1751,651.0441,149.54,648.22\" style=\"stroke: #A80036; stroke-width: 1.0;\"/><text fill=\"#000000\" font-family=\"sans-serif\" font-size=\"13\" lengthAdjust=\"spacingAndGlyphs\" textLength=\"8\" x=\"178.7342\" y=\"701.5376\">1</text></a><!--MD5=[14ccda38c055a5c0da953d572bc50960]\n",
       "link E7 to E3--><a href=\"psysml:d4047a87-2764-4bb9-9711-6fad77bbdb97\" target=\"_top\" title=\"psysml:d4047a87-2764-4bb9-9711-6fad77bbdb97\" xlink:actuate=\"onRequest\" xlink:href=\"psysml:d4047a87-2764-4bb9-9711-6fad77bbdb97\" xlink:show=\"new\" xlink:title=\"psysml:d4047a87-2764-4bb9-9711-6fad77bbdb97\" xlink:type=\"simple\"><path d=\"M212.55,712.28 C218.38,690.5 226,656.26 226,626 C226,319 226,319 226,319 C226,282.18 199.26,250.31 172.91,227.83 \" fill=\"none\" id=\"E7-&gt;E3\" style=\"stroke: #A80036; stroke-width: 1.0;\"/><polygon fill=\"#FFFFFF\" points=\"157.21,215.4,176.4527,221.7023,167.7644,232.6802,157.21,215.4\" style=\"stroke: #A80036; stroke-width: 1.0;\"/><ellipse cx=\"179.681\" cy=\"226.808\" fill=\"#A80036\" rx=\"2\" ry=\"2\" style=\"stroke: #A80036; stroke-width: 1.0;\"/><ellipse cx=\"173.4751\" cy=\"234.6493\" fill=\"#A80036\" rx=\"2\" ry=\"2\" style=\"stroke: #A80036; stroke-width: 1.0;\"/></a><!--MD5=[f4cf0736d43fd73c4ef68817c49d37d5]\n",
       "reverse link E6 to E8--><a href=\"psysml:e9c4c173-85e4-4370-85e4-1c8f2eb4171b\" target=\"_top\" title=\"psysml:e9c4c173-85e4-4370-85e4-1c8f2eb4171b\" xlink:actuate=\"onRequest\" xlink:href=\"psysml:e9c4c173-85e4-4370-85e4-1c8f2eb4171b\" xlink:show=\"new\" xlink:title=\"psysml:e9c4c173-85e4-4370-85e4-1c8f2eb4171b\" xlink:type=\"simple\"><path d=\"M113.09,659.48 C101.85,676.66 88.47,697.11 78.52,712.31 \" fill=\"none\" id=\"E6&lt;-E8\" style=\"stroke: #A80036; stroke-width: 1.0;\"/><polygon fill=\"#FFFFFF\" points=\"120.46,648.22,113.8249,651.0441,113.8799,658.255,120.5149,655.4309,120.46,648.22\" style=\"stroke: #A80036; stroke-width: 1.0;\"/><text fill=\"#000000\" font-family=\"sans-serif\" font-size=\"13\" lengthAdjust=\"spacingAndGlyphs\" textLength=\"8\" x=\"73.2158\" y=\"701.5376\">1</text></a><!--MD5=[e88d06e5a652d73a6b19930eefe025a8]\n",
       "reverse link E6 to E9--><a href=\"psysml:ab2aae6d-159f-4d7a-a99e-78671a533366\" target=\"_top\" title=\"psysml:ab2aae6d-159f-4d7a-a99e-78671a533366\" xlink:actuate=\"onRequest\" xlink:href=\"psysml:ab2aae6d-159f-4d7a-a99e-78671a533366\" xlink:show=\"new\" xlink:title=\"psysml:ab2aae6d-159f-4d7a-a99e-78671a533366\" xlink:type=\"simple\"><path d=\"M135,663.49 C135,678.47 135,695.34 135,708.88 \" fill=\"none\" id=\"E6&lt;-E9\" style=\"stroke: #A80036; stroke-width: 1.0;\"/><ellipse cx=\"135\" cy=\"656.22\" fill=\"#FFFFFF\" rx=\"8\" ry=\"8\" style=\"stroke: #A80036; stroke-width: 1.0;\"/><line style=\"stroke: #A80036; stroke-width: 1.0;\" x1=\"135\" x2=\"135\" y1=\"664.22\" y2=\"648.22\"/><line style=\"stroke: #A80036; stroke-width: 1.0;\" x1=\"127\" x2=\"143\" y1=\"656.22\" y2=\"656.22\"/></a><!--MD5=[f78a29d5932556fa1060671a2a6507d8]\n",
       "link E5 to E10--><a href=\"psysml:09169cbe-938d-4307-a584-0b24a5ad62ce\" target=\"_top\" title=\"psysml:09169cbe-938d-4307-a584-0b24a5ad62ce\" xlink:actuate=\"onRequest\" xlink:href=\"psysml:09169cbe-938d-4307-a584-0b24a5ad62ce\" xlink:show=\"new\" xlink:title=\"psysml:09169cbe-938d-4307-a584-0b24a5ad62ce\" xlink:type=\"simple\"><path d=\"M164.41,343.25 C159.9,365.16 152.82,399.53 146.73,429.05 \" fill=\"none\" id=\"E5-&gt;E10\" style=\"stroke: #A80036; stroke-width: 1.0;\"/><polygon fill=\"#FFFFFF\" points=\"142.63,448.98,139.6015,428.9593,153.3144,431.7799,142.63,448.98\" style=\"stroke: #A80036; stroke-width: 1.0;\"/><ellipse cx=\"142.7089\" cy=\"423.7791\" fill=\"#A80036\" rx=\"2\" ry=\"2\" style=\"stroke: #A80036; stroke-width: 1.0;\"/><ellipse cx=\"152.5038\" cy=\"425.7938\" fill=\"#A80036\" rx=\"2\" ry=\"2\" style=\"stroke: #A80036; stroke-width: 1.0;\"/></a><!--MD5=[8e04057e7b3cbc0dca4fc78ea351e2da]\n",
       "reverse link E10 to E3--><a href=\"psysml:75696b56-911c-4e7f-a413-6399c7af4d3a\" target=\"_top\" title=\"psysml:75696b56-911c-4e7f-a413-6399c7af4d3a\" xlink:actuate=\"onRequest\" xlink:href=\"psysml:75696b56-911c-4e7f-a413-6399c7af4d3a\" xlink:show=\"new\" xlink:title=\"psysml:75696b56-911c-4e7f-a413-6399c7af4d3a\" xlink:type=\"simple\"><path d=\"M129.29,435.52 C126.48,408.18 123.4,373.78 122,343 C120.37,306.97 120.5,266.02 120.97,236.02 \" fill=\"none\" id=\"E10&lt;-E3\" style=\"stroke: #A80036; stroke-width: 1.0;\"/><polygon fill=\"#FFFFFF\" points=\"130.68,448.73,134.0248,442.3415,129.4142,436.7969,126.0694,443.1854,130.68,448.73\" style=\"stroke: #A80036; stroke-width: 1.0;\"/><text fill=\"#000000\" font-family=\"sans-serif\" font-size=\"13\" lengthAdjust=\"spacingAndGlyphs\" textLength=\"7\" x=\"123\" y=\"324.5669\">y</text></a><!--MD5=[604cbf994c02b74b117f728a71673cea]\n",
       "reverse link E10 to E6--><a href=\"psysml:75696b56-911c-4e7f-a413-6399c7af4d3a\" target=\"_top\" title=\"psysml:75696b56-911c-4e7f-a413-6399c7af4d3a\" xlink:actuate=\"onRequest\" xlink:href=\"psysml:75696b56-911c-4e7f-a413-6399c7af4d3a\" xlink:show=\"new\" xlink:title=\"psysml:75696b56-911c-4e7f-a413-6399c7af4d3a\" xlink:type=\"simple\"><path d=\"M135,538.33 C135,560.16 135,584.6 135,601.77 \" fill=\"none\" id=\"E10&lt;-E6\" style=\"stroke: #A80036; stroke-width: 1.0;\"/><polygon fill=\"#FFFFFF\" points=\"135,525.16,131,531.16,135,537.16,139,531.16,135,525.16\" style=\"stroke: #A80036; stroke-width: 1.0;\"/><text fill=\"#000000\" font-family=\"sans-serif\" font-size=\"13\" lengthAdjust=\"spacingAndGlyphs\" textLength=\"7\" x=\"136\" y=\"568.0669\">y</text></a><!--MD5=[60546aa08b1e819fac568e499879775d]\n",
       "@startuml\r\n",
       "skinparam wrapWidth 300\r\n",
       "hide circle\r\n",
       "\r\n",
       "package \"PartTest\" as E1  [[psysml:538b1265-15ae-4afd-8dd2-ef0f57b41a53 ]]  {\r\n",
       "comp usage \"f: A \" as E2  <<(T,blue) part>> [[psysml:2c090466-3d5c-4444-ba17-090921dc2443 ]] {\r\n",
       "}\r\n",
       "comp def \"A\" as E3  <<(T,blue) part  def>> [[psysml:d1b7cfcb-f6eb-4e6c-b82e-69976e6757f6 ]] {\r\n",
       "- - attributes - -\r\n",
       "x\r\n",
       "y:> A::x\r\n",
       "}\r\n",
       "comp usage \"b: B \" as E4  <<(T,blue) part>> [[psysml:1aa2f075-dfbc-4c28-975e-f9b78ce76d6b ]] {\r\n",
       "}\r\n",
       "comp usage \"c: C \" as E5  <<(T,blue) port>> [[psysml:6b6fc427-035b-4f92-af2f-ae5f46ec13e5 ]] {\r\n",
       "}\r\n",
       "comp def \"<i>B</i>\" as E6  <<(T,blue) part  def>> [[psysml:286e6ef4-92d4-4c1b-a17d-09881da7698b ]] {\r\n",
       "}\r\n",
       "comp usage \"<i>a</i>: A \" as E7  <<(T,blue) part>> [[psysml:215e87e2-ee75-46c7-98ea-4ce8794cdbad ]] {\r\n",
       "}\r\n",
       "comp usage \"x: ~C \" as E8  <<(T,blue) port>> [[psysml:27d37788-2b75-4a5c-b4fe-9553c2483e93 ]] {\r\n",
       "}\r\n",
       "package \"P\" as E9  [[psysml:e555f4d2-547d-4756-8b33-5fda3be7b359 ]]  {\r\n",
       "}\r\n",
       "comp def \"C\" as E10  <<(T,blue) port  def>> [[psysml:3d6805d2-0d33-47df-af88-6771a9177656 ]] {\r\n",
       "- - parameters - -\r\n",
       "<b>in</b> y: A, B <b>alias</b> z2 \r\n",
       "}\r\n",
       "}\r\n",
       "E2 - -:|> E3 [[psysml:02703352-f69e-4a4b-893d-89c09588fdfd ]] \r\n",
       "E3 *- - \"1\"E4 [[psysml:e82a868e-a957-4308-9aca-5f2e1a046a10 ]] \r\n",
       "E3 o- - \"1\"E5 [[psysml:01f43deb-5863-4903-863e-c9a23e0a1180 ]] \r\n",
       "E4 - -:|> E6 [[psysml:6f8c5931-99ab-4f3d-9640-f9d86b709835 ]] \r\n",
       "E6 *- - \"1\"E7 [[psysml:ef71999d-b74e-4e5c-b2f7-aebb94a9d32a ]] \r\n",
       "E7 - -:|> E3 [[psysml:d4047a87-2764-4bb9-9711-6fad77bbdb97 ]] \r\n",
       "E6 o- - \"1\"E8 [[psysml:e9c4c173-85e4-4370-85e4-1c8f2eb4171b ]] \r\n",
       "E6 +- - E9 [[psysml:ab2aae6d-159f-4d7a-a99e-78671a533366 ]] \r\n",
       "E5 - -:|> E10 [[psysml:09169cbe-938d-4307-a584-0b24a5ad62ce ]] \r\n",
       "E10 o- - E3 [[psysml:75696b56-911c-4e7f-a413-6399c7af4d3a ]] : y\r\n",
       "E10 o- - E6 [[psysml:75696b56-911c-4e7f-a413-6399c7af4d3a ]] : y\r\n",
       "@enduml\r\n",
       "\n",
       "PlantUML version 1.2020.13(Sat Jun 13 12:26:38 UTC 2020)\n",
       "(EPL source distribution)\n",
       "Java Runtime: OpenJDK Runtime Environment\n",
       "JVM: OpenJDK 64-Bit Server VM\n",
       "Default Encoding: UTF-8\n",
       "Language: en\n",
       "Country: null\n",
       "--></g></svg>"
      ]
     },
     "execution_count": 29,
     "metadata": {},
     "output_type": "execute_result"
    }
   ],
   "source": [
    "%viz --style=\"STDCOLOR\" --view=\"MIXED\" \"PartTest\""
   ]
  },
  {
   "cell_type": "code",
   "execution_count": 30,
   "id": "49ad368c",
   "metadata": {
    "execution": {
     "iopub.execute_input": "2022-05-19T08:45:13.397871Z",
     "iopub.status.busy": "2022-05-19T08:45:13.397428Z",
     "iopub.status.idle": "2022-05-19T08:45:13.493094Z",
     "shell.execute_reply": "2022-05-19T08:45:13.492684Z"
    }
   },
   "outputs": [
    {
     "data": {
      "image/svg+xml": [
       "<?xml version=\"1.0\" encoding=\"UTF-8\" standalone=\"no\"?><svg xmlns=\"http://www.w3.org/2000/svg\" xmlns:xlink=\"http://www.w3.org/1999/xlink\" contentScriptType=\"application/ecmascript\" contentStyleType=\"text/css\" height=\"778px\" preserveAspectRatio=\"none\" style=\"width:306px;height:778px;\" version=\"1.1\" viewBox=\"0 0 306 778\" width=\"306px\" zoomAndPan=\"magnify\"><defs><filter height=\"300%\" id=\"f13pvk41ej3g2t\" width=\"300%\" x=\"-1\" y=\"-1\"><feGaussianBlur result=\"blurOut\" stdDeviation=\"2.0\"/><feColorMatrix in=\"blurOut\" result=\"blurOut2\" type=\"matrix\" values=\"0 0 0 0 0 0 0 0 0 0 0 0 0 0 0 0 0 0 .4 0\"/><feOffset dx=\"4.0\" dy=\"4.0\" in=\"blurOut2\" result=\"blurOut3\"/><feBlend in=\"SourceGraphic\" in2=\"blurOut3\" mode=\"normal\"/></filter></defs><g><!--MD5=[fbc87193dbaf4d95561dea2c320d4a47]\n",
       "cluster E1--><a href=\"psysml:538b1265-15ae-4afd-8dd2-ef0f57b41a53\" target=\"_top\" title=\"psysml:538b1265-15ae-4afd-8dd2-ef0f57b41a53\" xlink:actuate=\"onRequest\" xlink:href=\"psysml:538b1265-15ae-4afd-8dd2-ef0f57b41a53\" xlink:show=\"new\" xlink:title=\"psysml:538b1265-15ae-4afd-8dd2-ef0f57b41a53\" xlink:type=\"simple\"><polygon fill=\"#FFFFFF\" filter=\"url(#f13pvk41ej3g2t)\" points=\"16,6,80,6,87,28.2969,284,28.2969,284,766,16,766,16,6\" style=\"stroke: #000000; stroke-width: 1.5;\"/><line style=\"stroke: #000000; stroke-width: 1.5;\" x1=\"16\" x2=\"87\" y1=\"28.2969\" y2=\"28.2969\"/><text fill=\"#000000\" font-family=\"sans-serif\" font-size=\"14\" font-weight=\"bold\" lengthAdjust=\"spacingAndGlyphs\" textLength=\"58\" x=\"20\" y=\"20.9951\">PartTest</text></a><!--MD5=[b4997ac47864f28c2f74865a473b2911]\n",
       "class E2--><a href=\"psysml:2c090466-3d5c-4444-ba17-090921dc2443\" target=\"_top\" title=\"psysml:2c090466-3d5c-4444-ba17-090921dc2443\" xlink:actuate=\"onRequest\" xlink:href=\"psysml:2c090466-3d5c-4444-ba17-090921dc2443\" xlink:show=\"new\" xlink:title=\"psysml:2c090466-3d5c-4444-ba17-090921dc2443\" xlink:type=\"simple\"><rect fill=\"#FEFECE\" filter=\"url(#f13pvk41ej3g2t)\" height=\"45.9375\" id=\"E2\" rx=\"10\" ry=\"10\" style=\"stroke: #A80036; stroke-width: 1.5;\" width=\"68\" x=\"99\" y=\"41\"/><ellipse cx=\"114\" cy=\"59.9688\" fill=\"#32CD32\" rx=\"11\" ry=\"11\" style=\"stroke: #A80036; stroke-width: 1.0;\"/><path d=\"M110.8125,64.9688 L110.8125,54.375 L114.4219,54.375 Q115.6406,54.375 116.4375,54.8125 Q117.2344,55.2344 117.6094,55.9375 Q118,56.6406 118,57.4844 Q118,58.3281 117.625,59.0156 Q117.2656,59.7031 116.4688,60.125 Q115.6875,60.5313 114.5,60.5313 L112.7656,60.5313 L112.7656,64.9688 L110.8125,64.9688 Z M112.7656,58.9375 L114.375,58.9375 Q115.1875,58.9375 115.6094,58.5313 Q116.0313,58.125 116.0313,57.4844 Q116.0313,56.8594 115.6094,56.4531 Q115.1875,56.0469 114.3906,56.0469 L112.7656,56.0469 L112.7656,58.9375 Z \"/><text fill=\"#000000\" font-family=\"sans-serif\" font-size=\"12\" font-style=\"italic\" lengthAdjust=\"spacingAndGlyphs\" textLength=\"40\" x=\"126\" y=\"57.1387\">«part»</text><text fill=\"#000000\" font-family=\"sans-serif\" font-size=\"12\" lengthAdjust=\"spacingAndGlyphs\" textLength=\"20\" x=\"134\" y=\"71.1074\">f: A</text><line style=\"stroke: #A80036; stroke-width: 1.5;\" x1=\"100\" x2=\"166\" y1=\"78.9375\" y2=\"78.9375\"/></a><!--MD5=[09b614a08d8cba4a07c9adeb5e0fee81]\n",
       "class E3--><a href=\"psysml:d1b7cfcb-f6eb-4e6c-b82e-69976e6757f6\" target=\"_top\" title=\"psysml:d1b7cfcb-f6eb-4e6c-b82e-69976e6757f6\" xlink:actuate=\"onRequest\" xlink:href=\"psysml:d1b7cfcb-f6eb-4e6c-b82e-69976e6757f6\" xlink:show=\"new\" xlink:title=\"psysml:d1b7cfcb-f6eb-4e6c-b82e-69976e6757f6\" xlink:type=\"simple\"><rect fill=\"#FEFECE\" filter=\"url(#f13pvk41ej3g2t)\" height=\"82.4141\" id=\"E3\" style=\"stroke: #A80036; stroke-width: 1.5;\" width=\"63\" x=\"101.5\" y=\"148\"/><ellipse cx=\"126.85\" cy=\"164\" fill=\"#008000\" rx=\"11\" ry=\"11\" style=\"stroke: #A80036; stroke-width: 1.0;\"/><path d=\"M123.725,169 L123.725,158.4063 L126.9594,158.4063 Q128.8656,158.4063 129.7719,159.1563 Q130.6938,159.9063 130.6938,161.0781 Q130.6938,161.7656 130.3031,162.4219 Q129.9281,163.0781 129.2094,163.375 Q130.0688,163.75 130.5844,164.4375 Q131.1,165.125 131.1,165.9375 Q131.1,167.3125 130.0688,168.1563 Q129.0531,169 126.9438,169 L123.725,169 Z M125.6469,162.6406 L126.8031,162.6406 Q127.9281,162.6406 128.3344,162.2656 Q128.7563,161.875 128.7563,161.25 Q128.7563,160.6719 128.3344,160.3125 Q127.9125,159.9531 126.975,159.9531 L125.6469,159.9531 L125.6469,162.6406 Z M125.6469,167.4219 L127.1469,167.4219 Q128.0531,167.4219 128.5844,167.0313 Q129.1156,166.6406 129.1156,165.8906 Q129.1156,165.125 128.6156,164.6563 Q128.1156,164.1719 126.85,164.1719 L125.6469,164.1719 L125.6469,167.4219 Z \"/><text fill=\"#000000\" font-family=\"sans-serif\" font-size=\"12\" lengthAdjust=\"spacingAndGlyphs\" textLength=\"8\" x=\"143.15\" y=\"168.1543\">A</text><line style=\"stroke: #A80036; stroke-width: 1.5;\" x1=\"102.5\" x2=\"163.5\" y1=\"180\" y2=\"180\"/><text fill=\"#000000\" font-family=\"sans-serif\" font-size=\"11\" lengthAdjust=\"spacingAndGlyphs\" textLength=\"6\" x=\"107.5\" y=\"211.0151\">x</text><text fill=\"#000000\" font-family=\"sans-serif\" font-size=\"11\" lengthAdjust=\"spacingAndGlyphs\" textLength=\"44\" x=\"107.5\" y=\"223.8198\">y:&gt; A::x</text><line style=\"stroke: #A80036; stroke-width: 1.0;\" x1=\"102.5\" x2=\"105.5\" y1=\"194.4023\" y2=\"194.4023\"/><text fill=\"#000000\" font-family=\"sans-serif\" font-size=\"11\" lengthAdjust=\"spacingAndGlyphs\" textLength=\"55\" x=\"105.5\" y=\"197.7104\">attributes</text><line style=\"stroke: #A80036; stroke-width: 1.0;\" x1=\"160.5\" x2=\"163.5\" y1=\"194.4023\" y2=\"194.4023\"/></a><!--MD5=[ebbe1d658d1005bcc118a6aa81145e00]\n",
       "class E4--><a href=\"psysml:1aa2f075-dfbc-4c28-975e-f9b78ce76d6b\" target=\"_top\" title=\"psysml:1aa2f075-dfbc-4c28-975e-f9b78ce76d6b\" xlink:actuate=\"onRequest\" xlink:href=\"psysml:1aa2f075-dfbc-4c28-975e-f9b78ce76d6b\" xlink:show=\"new\" xlink:title=\"psysml:1aa2f075-dfbc-4c28-975e-f9b78ce76d6b\" xlink:type=\"simple\"><rect fill=\"#FEFECE\" filter=\"url(#f13pvk41ej3g2t)\" height=\"45.9375\" id=\"E4\" rx=\"10\" ry=\"10\" style=\"stroke: #A80036; stroke-width: 1.5;\" width=\"68\" x=\"32\" y=\"367\"/><ellipse cx=\"47\" cy=\"385.9688\" fill=\"#32CD32\" rx=\"11\" ry=\"11\" style=\"stroke: #A80036; stroke-width: 1.0;\"/><path d=\"M43.8125,390.9688 L43.8125,380.375 L47.4219,380.375 Q48.6406,380.375 49.4375,380.8125 Q50.2344,381.2344 50.6094,381.9375 Q51,382.6406 51,383.4844 Q51,384.3281 50.625,385.0156 Q50.2656,385.7031 49.4688,386.125 Q48.6875,386.5313 47.5,386.5313 L45.7656,386.5313 L45.7656,390.9688 L43.8125,390.9688 Z M45.7656,384.9375 L47.375,384.9375 Q48.1875,384.9375 48.6094,384.5313 Q49.0313,384.125 49.0313,383.4844 Q49.0313,382.8594 48.6094,382.4531 Q48.1875,382.0469 47.3906,382.0469 L45.7656,382.0469 L45.7656,384.9375 Z \"/><text fill=\"#000000\" font-family=\"sans-serif\" font-size=\"12\" font-style=\"italic\" lengthAdjust=\"spacingAndGlyphs\" textLength=\"40\" x=\"59\" y=\"383.1387\">«part»</text><text fill=\"#000000\" font-family=\"sans-serif\" font-size=\"12\" lengthAdjust=\"spacingAndGlyphs\" textLength=\"24\" x=\"65\" y=\"397.1074\">b: B</text><line style=\"stroke: #A80036; stroke-width: 1.5;\" x1=\"33\" x2=\"99\" y1=\"404.9375\" y2=\"404.9375\"/></a><!--MD5=[270fce915f116d4de14055a7c1d9a0f3]\n",
       "class E5--><a href=\"psysml:6b6fc427-035b-4f92-af2f-ae5f46ec13e5\" target=\"_top\" title=\"psysml:6b6fc427-035b-4f92-af2f-ae5f46ec13e5\" xlink:actuate=\"onRequest\" xlink:href=\"psysml:6b6fc427-035b-4f92-af2f-ae5f46ec13e5\" xlink:show=\"new\" xlink:title=\"psysml:6b6fc427-035b-4f92-af2f-ae5f46ec13e5\" xlink:type=\"simple\"><rect fill=\"#FEFECE\" filter=\"url(#f13pvk41ej3g2t)\" height=\"45.9375\" id=\"E5\" rx=\"10\" ry=\"10\" style=\"stroke: #A80036; stroke-width: 1.5;\" width=\"68\" x=\"156\" y=\"291\"/><ellipse cx=\"171\" cy=\"309.9688\" fill=\"#0000FF\" rx=\"11\" ry=\"11\" style=\"stroke: #A80036; stroke-width: 1.0;\"/><path d=\"M167.8125,314.9688 L167.8125,304.375 L171.4219,304.375 Q172.6406,304.375 173.4375,304.8125 Q174.2344,305.2344 174.6094,305.9375 Q175,306.6406 175,307.4844 Q175,308.3281 174.625,309.0156 Q174.2656,309.7031 173.4688,310.125 Q172.6875,310.5313 171.5,310.5313 L169.7656,310.5313 L169.7656,314.9688 L167.8125,314.9688 Z M169.7656,308.9375 L171.375,308.9375 Q172.1875,308.9375 172.6094,308.5313 Q173.0313,308.125 173.0313,307.4844 Q173.0313,306.8594 172.6094,306.4531 Q172.1875,306.0469 171.3906,306.0469 L169.7656,306.0469 L169.7656,308.9375 Z \"/><text fill=\"#000000\" font-family=\"sans-serif\" font-size=\"12\" font-style=\"italic\" lengthAdjust=\"spacingAndGlyphs\" textLength=\"40\" x=\"183\" y=\"307.1387\">«port»</text><text fill=\"#000000\" font-family=\"sans-serif\" font-size=\"12\" lengthAdjust=\"spacingAndGlyphs\" textLength=\"23\" x=\"189.5\" y=\"321.1074\">c: C</text><line style=\"stroke: #A80036; stroke-width: 1.5;\" x1=\"157\" x2=\"223\" y1=\"328.9375\" y2=\"328.9375\"/></a><!--MD5=[60a26617385b1d2d0262a64233df1f8d]\n",
       "class E6--><a href=\"psysml:286e6ef4-92d4-4c1b-a17d-09881da7698b\" target=\"_top\" title=\"psysml:286e6ef4-92d4-4c1b-a17d-09881da7698b\" xlink:actuate=\"onRequest\" xlink:href=\"psysml:286e6ef4-92d4-4c1b-a17d-09881da7698b\" xlink:show=\"new\" xlink:title=\"psysml:286e6ef4-92d4-4c1b-a17d-09881da7698b\" xlink:type=\"simple\"><rect fill=\"#FEFECE\" filter=\"url(#f13pvk41ej3g2t)\" height=\"40\" id=\"E6\" style=\"stroke: #A80036; stroke-width: 1.5;\" width=\"40\" x=\"130\" y=\"596\"/><ellipse cx=\"145\" cy=\"612\" fill=\"#008000\" rx=\"11\" ry=\"11\" style=\"stroke: #A80036; stroke-width: 1.0;\"/><path d=\"M141.875,617 L141.875,606.4063 L145.1094,606.4063 Q147.0156,606.4063 147.9219,607.1563 Q148.8438,607.9063 148.8438,609.0781 Q148.8438,609.7656 148.4531,610.4219 Q148.0781,611.0781 147.3594,611.375 Q148.2188,611.75 148.7344,612.4375 Q149.25,613.125 149.25,613.9375 Q149.25,615.3125 148.2188,616.1563 Q147.2031,617 145.0938,617 L141.875,617 Z M143.7969,610.6406 L144.9531,610.6406 Q146.0781,610.6406 146.4844,610.2656 Q146.9063,609.875 146.9063,609.25 Q146.9063,608.6719 146.4844,608.3125 Q146.0625,607.9531 145.125,607.9531 L143.7969,607.9531 L143.7969,610.6406 Z M143.7969,615.4219 L145.2969,615.4219 Q146.2031,615.4219 146.7344,615.0313 Q147.2656,614.6406 147.2656,613.8906 Q147.2656,613.125 146.7656,612.6563 Q146.2656,612.1719 145,612.1719 L143.7969,612.1719 L143.7969,615.4219 Z \"/><text fill=\"#000000\" font-family=\"sans-serif\" font-size=\"12\" font-style=\"italic\" lengthAdjust=\"spacingAndGlyphs\" textLength=\"8\" x=\"159\" y=\"616.1543\">B</text><line style=\"stroke: #A80036; stroke-width: 1.5;\" x1=\"131\" x2=\"169\" y1=\"628\" y2=\"628\"/></a><!--MD5=[2156ba9850f5573cc1fc38a6a4b2f02b]\n",
       "class E7--><a href=\"psysml:215e87e2-ee75-46c7-98ea-4ce8794cdbad\" target=\"_top\" title=\"psysml:215e87e2-ee75-46c7-98ea-4ce8794cdbad\" xlink:actuate=\"onRequest\" xlink:href=\"psysml:215e87e2-ee75-46c7-98ea-4ce8794cdbad\" xlink:show=\"new\" xlink:title=\"psysml:215e87e2-ee75-46c7-98ea-4ce8794cdbad\" xlink:type=\"simple\"><rect fill=\"#FEFECE\" filter=\"url(#f13pvk41ej3g2t)\" height=\"45.9375\" id=\"E7\" rx=\"10\" ry=\"10\" style=\"stroke: #A80036; stroke-width: 1.5;\" width=\"68\" x=\"200\" y=\"700.5\"/><ellipse cx=\"215\" cy=\"719.4688\" fill=\"#32CD32\" rx=\"11\" ry=\"11\" style=\"stroke: #A80036; stroke-width: 1.0;\"/><path d=\"M211.8125,724.4688 L211.8125,713.875 L215.4219,713.875 Q216.6406,713.875 217.4375,714.3125 Q218.2344,714.7344 218.6094,715.4375 Q219,716.1406 219,716.9844 Q219,717.8281 218.625,718.5156 Q218.2656,719.2031 217.4688,719.625 Q216.6875,720.0313 215.5,720.0313 L213.7656,720.0313 L213.7656,724.4688 L211.8125,724.4688 Z M213.7656,718.4375 L215.375,718.4375 Q216.1875,718.4375 216.6094,718.0313 Q217.0313,717.625 217.0313,716.9844 Q217.0313,716.3594 216.6094,715.9531 Q216.1875,715.5469 215.3906,715.5469 L213.7656,715.5469 L213.7656,718.4375 Z \"/><text fill=\"#000000\" font-family=\"sans-serif\" font-size=\"12\" font-style=\"italic\" lengthAdjust=\"spacingAndGlyphs\" textLength=\"40\" x=\"227\" y=\"716.6387\">«part»</text><text fill=\"#000000\" font-family=\"sans-serif\" font-size=\"12\" font-style=\"italic\" lengthAdjust=\"spacingAndGlyphs\" textLength=\"8\" x=\"233\" y=\"730.6074\">a</text><text fill=\"#000000\" font-family=\"sans-serif\" font-size=\"12\" lengthAdjust=\"spacingAndGlyphs\" textLength=\"16\" x=\"241\" y=\"730.6074\">: A</text><line style=\"stroke: #A80036; stroke-width: 1.5;\" x1=\"201\" x2=\"267\" y1=\"738.4375\" y2=\"738.4375\"/></a><!--MD5=[b9389687b975829384b498ac4b7476b2]\n",
       "class E8--><a href=\"psysml:27d37788-2b75-4a5c-b4fe-9553c2483e93\" target=\"_top\" title=\"psysml:27d37788-2b75-4a5c-b4fe-9553c2483e93\" xlink:actuate=\"onRequest\" xlink:href=\"psysml:27d37788-2b75-4a5c-b4fe-9553c2483e93\" xlink:show=\"new\" xlink:title=\"psysml:27d37788-2b75-4a5c-b4fe-9553c2483e93\" xlink:type=\"simple\"><rect fill=\"#FEFECE\" filter=\"url(#f13pvk41ej3g2t)\" height=\"45.9375\" id=\"E8\" rx=\"10\" ry=\"10\" style=\"stroke: #A80036; stroke-width: 1.5;\" width=\"68\" x=\"32\" y=\"700.5\"/><ellipse cx=\"47\" cy=\"719.4688\" fill=\"#0000FF\" rx=\"11\" ry=\"11\" style=\"stroke: #A80036; stroke-width: 1.0;\"/><path d=\"M43.8125,724.4688 L43.8125,713.875 L47.4219,713.875 Q48.6406,713.875 49.4375,714.3125 Q50.2344,714.7344 50.6094,715.4375 Q51,716.1406 51,716.9844 Q51,717.8281 50.625,718.5156 Q50.2656,719.2031 49.4688,719.625 Q48.6875,720.0313 47.5,720.0313 L45.7656,720.0313 L45.7656,724.4688 L43.8125,724.4688 Z M45.7656,718.4375 L47.375,718.4375 Q48.1875,718.4375 48.6094,718.0313 Q49.0313,717.625 49.0313,716.9844 Q49.0313,716.3594 48.6094,715.9531 Q48.1875,715.5469 47.3906,715.5469 L45.7656,715.5469 L45.7656,718.4375 Z \"/><text fill=\"#000000\" font-family=\"sans-serif\" font-size=\"12\" font-style=\"italic\" lengthAdjust=\"spacingAndGlyphs\" textLength=\"40\" x=\"59\" y=\"716.6387\">«port»</text><text fill=\"#000000\" font-family=\"sans-serif\" font-size=\"12\" lengthAdjust=\"spacingAndGlyphs\" textLength=\"32\" x=\"61\" y=\"730.6074\">x: ~C</text><line style=\"stroke: #A80036; stroke-width: 1.5;\" x1=\"33\" x2=\"99\" y1=\"738.4375\" y2=\"738.4375\"/></a><!--MD5=[96f4274e9e20536e775497830990834d]\n",
       "class E10--><a href=\"psysml:3d6805d2-0d33-47df-af88-6771a9177656\" target=\"_top\" title=\"psysml:3d6805d2-0d33-47df-af88-6771a9177656\" xlink:actuate=\"onRequest\" xlink:href=\"psysml:3d6805d2-0d33-47df-af88-6771a9177656\" xlink:show=\"new\" xlink:title=\"psysml:3d6805d2-0d33-47df-af88-6771a9177656\" xlink:type=\"simple\"><rect fill=\"#FEFECE\" filter=\"url(#f13pvk41ej3g2t)\" height=\"75.5469\" id=\"E10\" style=\"stroke: #A80036; stroke-width: 1.5;\" width=\"110\" x=\"102\" y=\"443\"/><ellipse cx=\"123.3\" cy=\"461.9688\" fill=\"#A52A2A\" rx=\"11\" ry=\"11\" style=\"stroke: #A80036; stroke-width: 1.0;\"/><path d=\"M120.5188,466.9688 L120.5188,456.375 L123.2531,456.375 Q124.6438,456.375 125.4094,456.7656 Q126.1906,457.1406 126.7219,457.8438 Q127.2531,458.5469 127.55,459.5469 Q127.8469,460.5313 127.8469,461.75 Q127.8,463.3438 127.3,464.5313 Q126.8156,465.7031 125.7688,466.3438 Q124.7375,466.9688 123.05,466.9688 L120.5188,466.9688 Z M122.3781,465.4688 L123.0031,465.4688 Q124.0813,465.4688 124.7375,465.0156 Q125.3938,464.5625 125.675,463.7344 Q125.9719,462.8906 125.9563,461.7656 Q125.9563,460.5938 125.7063,459.7344 Q125.4563,458.8594 124.8469,458.3906 Q124.2375,457.9063 123.1906,457.9063 L122.3781,457.9063 L122.3781,465.4688 Z \"/><text fill=\"#000000\" font-family=\"sans-serif\" font-size=\"12\" font-style=\"italic\" lengthAdjust=\"spacingAndGlyphs\" textLength=\"68\" x=\"136.7\" y=\"459.1387\">«port  def»</text><text fill=\"#000000\" font-family=\"sans-serif\" font-size=\"12\" lengthAdjust=\"spacingAndGlyphs\" textLength=\"8\" x=\"166.7\" y=\"473.1074\">C</text><line style=\"stroke: #A80036; stroke-width: 1.5;\" x1=\"103\" x2=\"211\" y1=\"480.9375\" y2=\"480.9375\"/><text fill=\"#000000\" font-family=\"sans-serif\" font-size=\"11\" font-weight=\"bold\" lengthAdjust=\"spacingAndGlyphs\" textLength=\"10\" x=\"108\" y=\"511.9526\">in</text><text fill=\"#000000\" font-family=\"sans-serif\" font-size=\"11\" lengthAdjust=\"spacingAndGlyphs\" textLength=\"37\" x=\"122\" y=\"511.9526\">y: A, B</text><text fill=\"#000000\" font-family=\"sans-serif\" font-size=\"11\" font-weight=\"bold\" lengthAdjust=\"spacingAndGlyphs\" textLength=\"27\" x=\"163\" y=\"511.9526\">alias</text><text fill=\"#000000\" font-family=\"sans-serif\" font-size=\"11\" lengthAdjust=\"spacingAndGlyphs\" textLength=\"12\" x=\"194\" y=\"511.9526\">z2</text><line style=\"stroke: #A80036; stroke-width: 1.0;\" x1=\"103\" x2=\"123.5\" y1=\"495.3398\" y2=\"495.3398\"/><text fill=\"#000000\" font-family=\"sans-serif\" font-size=\"11\" lengthAdjust=\"spacingAndGlyphs\" textLength=\"67\" x=\"123.5\" y=\"498.6479\">parameters</text><line style=\"stroke: #A80036; stroke-width: 1.0;\" x1=\"190.5\" x2=\"211\" y1=\"495.3398\" y2=\"495.3398\"/></a><a href=\"psysml:e555f4d2-547d-4756-8b33-5fda3be7b359\" target=\"_top\" title=\"psysml:e555f4d2-547d-4756-8b33-5fda3be7b359\" xlink:actuate=\"onRequest\" xlink:href=\"psysml:e555f4d2-547d-4756-8b33-5fda3be7b359\" xlink:show=\"new\" xlink:title=\"psysml:e555f4d2-547d-4756-8b33-5fda3be7b359\" xlink:type=\"simple\"><polygon fill=\"#FFFFFF\" filter=\"url(#f13pvk41ej3g2t)\" points=\"135.5,697,150.5,697,157.5,719.2969,164.5,719.2969,164.5,749.5938,135.5,749.5938,135.5,697\" style=\"stroke: #000000; stroke-width: 1.5;\"/><line style=\"stroke: #000000; stroke-width: 1.5;\" x1=\"135.5\" x2=\"157.5\" y1=\"719.2969\" y2=\"719.2969\"/><text fill=\"#000000\" font-family=\"sans-serif\" font-size=\"14\" font-weight=\"bold\" lengthAdjust=\"spacingAndGlyphs\" textLength=\"9\" x=\"139.5\" y=\"711.9951\">P</text></a><!--MD5=[2720a5a1f2c3fca2055b230370638851]\n",
       "link E2 to E3--><a href=\"psysml:02703352-f69e-4a4b-893d-89c09588fdfd\" target=\"_top\" title=\"psysml:02703352-f69e-4a4b-893d-89c09588fdfd\" xlink:actuate=\"onRequest\" xlink:href=\"psysml:02703352-f69e-4a4b-893d-89c09588fdfd\" xlink:show=\"new\" xlink:title=\"psysml:02703352-f69e-4a4b-893d-89c09588fdfd\" xlink:type=\"simple\"><path d=\"M133,87.27 C133,98.76 133,113.37 133,127.88 \" fill=\"none\" id=\"E2-&gt;E3\" style=\"stroke: #A80036; stroke-width: 1.0;\"/><polygon fill=\"#FFFFFF\" points=\"133,147.98,126,128.98,140,128.98,133,147.98\" style=\"stroke: #A80036; stroke-width: 1.0;\"/><ellipse cx=\"128\" cy=\"123.28\" fill=\"#A80036\" rx=\"2\" ry=\"2\" style=\"stroke: #A80036; stroke-width: 1.0;\"/><ellipse cx=\"138\" cy=\"123.28\" fill=\"#A80036\" rx=\"2\" ry=\"2\" style=\"stroke: #A80036; stroke-width: 1.0;\"/></a><!--MD5=[4672eba38e49728da53d11aeb285b987]\n",
       "reverse link E3 to E4--><a href=\"psysml:e82a868e-a957-4308-9aca-5f2e1a046a10\" target=\"_top\" title=\"psysml:e82a868e-a957-4308-9aca-5f2e1a046a10\" xlink:actuate=\"onRequest\" xlink:href=\"psysml:e82a868e-a957-4308-9aca-5f2e1a046a10\" xlink:show=\"new\" xlink:title=\"psysml:e82a868e-a957-4308-9aca-5f2e1a046a10\" xlink:type=\"simple\"><path d=\"M93.85,240.15 C83.87,255.62 74.44,273.27 69,291 C61.31,316.06 61.79,346.43 63.39,366.66 \" fill=\"none\" id=\"E3&lt;-E4\" style=\"stroke: #A80036; stroke-width: 1.0;\"/><polygon fill=\"#A80036\" points=\"101.17,229.3,94.5001,232.041,94.4649,239.252,101.1348,236.511,101.17,229.3\" style=\"stroke: #A80036; stroke-width: 1.0;\"/><text fill=\"#000000\" font-family=\"sans-serif\" font-size=\"13\" lengthAdjust=\"spacingAndGlyphs\" textLength=\"8\" x=\"53.6962\" y=\"355.8492\">1</text></a><!--MD5=[191cde3d490a3f6d7bb551fe3ddca469]\n",
       "reverse link E3 to E5--><a href=\"psysml:01f43deb-5863-4903-863e-c9a23e0a1180\" target=\"_top\" title=\"psysml:01f43deb-5863-4903-863e-c9a23e0a1180\" xlink:actuate=\"onRequest\" xlink:href=\"psysml:01f43deb-5863-4903-863e-c9a23e0a1180\" xlink:show=\"new\" xlink:title=\"psysml:01f43deb-5863-4903-863e-c9a23e0a1180\" xlink:type=\"simple\"><path d=\"M157.29,242.42 C165.18,259.43 173.5,277.39 179.78,290.94 \" fill=\"none\" id=\"E3&lt;-E5\" style=\"stroke: #A80036; stroke-width: 1.0;\"/><polygon fill=\"#FFFFFF\" points=\"151.66,230.27,150.548,237.3948,156.6971,241.1617,157.8091,234.0368,151.66,230.27\" style=\"stroke: #A80036; stroke-width: 1.0;\"/><text fill=\"#000000\" font-family=\"sans-serif\" font-size=\"13\" lengthAdjust=\"spacingAndGlyphs\" textLength=\"8\" x=\"167.9584\" y=\"279.8201\">1</text></a><!--MD5=[79568f1e445c3877b6a54524624ccc7d]\n",
       "link E4 to E6--><a href=\"psysml:6f8c5931-99ab-4f3d-9640-f9d86b709835\" target=\"_top\" title=\"psysml:6f8c5931-99ab-4f3d-9640-f9d86b709835\" xlink:actuate=\"onRequest\" xlink:href=\"psysml:6f8c5931-99ab-4f3d-9640-f9d86b709835\" xlink:show=\"new\" xlink:title=\"psysml:6f8c5931-99ab-4f3d-9640-f9d86b709835\" xlink:type=\"simple\"><path d=\"M66.32,413.04 C67.36,439.17 71.23,483.62 85,519 C93.5,540.83 107.71,562.65 120.67,579.97 \" fill=\"none\" id=\"E4-&gt;E6\" style=\"stroke: #A80036; stroke-width: 1.0;\"/><polygon fill=\"#FFFFFF\" points=\"133.21,595.89,115.9569,585.2913,126.9571,576.6312,133.21,595.89\" style=\"stroke: #A80036; stroke-width: 1.0;\"/><ellipse cx=\"114.0025\" cy=\"579.5755\" fill=\"#A80036\" rx=\"2\" ry=\"2\" style=\"stroke: #A80036; stroke-width: 1.0;\"/><ellipse cx=\"121.8597\" cy=\"573.3897\" fill=\"#A80036\" rx=\"2\" ry=\"2\" style=\"stroke: #A80036; stroke-width: 1.0;\"/></a><!--MD5=[3f50a3473f1dfb74d3f76443e03635af]\n",
       "reverse link E6 to E7--><a href=\"psysml:ef71999d-b74e-4e5c-b2f7-aebb94a9d32a\" target=\"_top\" title=\"psysml:ef71999d-b74e-4e5c-b2f7-aebb94a9d32a\" xlink:actuate=\"onRequest\" xlink:href=\"psysml:ef71999d-b74e-4e5c-b2f7-aebb94a9d32a\" xlink:show=\"new\" xlink:title=\"psysml:ef71999d-b74e-4e5c-b2f7-aebb94a9d32a\" xlink:type=\"simple\"><path d=\"M173.78,646.86 C187.32,663.87 204,684.82 216.37,700.35 \" fill=\"none\" id=\"E6&lt;-E7\" style=\"stroke: #A80036; stroke-width: 1.0;\"/><polygon fill=\"#A80036\" points=\"165.41,636.35,166.0125,643.5359,172.8773,645.7435,172.2749,638.5577,165.41,636.35\" style=\"stroke: #A80036; stroke-width: 1.0;\"/><text fill=\"#000000\" font-family=\"sans-serif\" font-size=\"13\" lengthAdjust=\"spacingAndGlyphs\" textLength=\"8\" x=\"202.8273\" y=\"689.5879\">1</text></a><!--MD5=[14ccda38c055a5c0da953d572bc50960]\n",
       "link E7 to E3--><a href=\"psysml:d4047a87-2764-4bb9-9711-6fad77bbdb97\" target=\"_top\" title=\"psysml:d4047a87-2764-4bb9-9711-6fad77bbdb97\" xlink:actuate=\"onRequest\" xlink:href=\"psysml:d4047a87-2764-4bb9-9711-6fad77bbdb97\" xlink:show=\"new\" xlink:title=\"psysml:d4047a87-2764-4bb9-9711-6fad77bbdb97\" xlink:type=\"simple\"><path d=\"M242.8,700.25 C250.35,679.17 260,646.43 260,617 C260,313 260,313 260,313 C260,267.91 218.18,234.07 182.54,213.41 \" fill=\"none\" id=\"E7-&gt;E3\" style=\"stroke: #A80036; stroke-width: 1.0;\"/><polygon fill=\"#FFFFFF\" points=\"164.72,203.82,184.7675,206.6656,178.1295,218.9918,164.72,203.82\" style=\"stroke: #A80036; stroke-width: 1.0;\"/><ellipse cx=\"188.8378\" cy=\"211.1291\" fill=\"#A80036\" rx=\"2\" ry=\"2\" style=\"stroke: #A80036; stroke-width: 1.0;\"/><ellipse cx=\"184.0964\" cy=\"219.9336\" fill=\"#A80036\" rx=\"2\" ry=\"2\" style=\"stroke: #A80036; stroke-width: 1.0;\"/></a><!--MD5=[f4cf0736d43fd73c4ef68817c49d37d5]\n",
       "reverse link E6 to E8--><a href=\"psysml:e9c4c173-85e4-4370-85e4-1c8f2eb4171b\" target=\"_top\" title=\"psysml:e9c4c173-85e4-4370-85e4-1c8f2eb4171b\" xlink:actuate=\"onRequest\" xlink:href=\"psysml:e9c4c173-85e4-4370-85e4-1c8f2eb4171b\" xlink:show=\"new\" xlink:title=\"psysml:e9c4c173-85e4-4370-85e4-1c8f2eb4171b\" xlink:type=\"simple\"><path d=\"M126.22,646.86 C112.68,663.87 96,684.82 83.63,700.35 \" fill=\"none\" id=\"E6&lt;-E8\" style=\"stroke: #A80036; stroke-width: 1.0;\"/><polygon fill=\"#FFFFFF\" points=\"134.59,636.35,127.7251,638.5577,127.1227,645.7435,133.9875,643.5359,134.59,636.35\" style=\"stroke: #A80036; stroke-width: 1.0;\"/><text fill=\"#000000\" font-family=\"sans-serif\" font-size=\"13\" lengthAdjust=\"spacingAndGlyphs\" textLength=\"8\" x=\"79.1227\" y=\"689.5879\">1</text></a><!--MD5=[e88d06e5a652d73a6b19930eefe025a8]\n",
       "reverse link E6 to E9--><a href=\"psysml:ab2aae6d-159f-4d7a-a99e-78671a533366\" target=\"_top\" title=\"psysml:ab2aae6d-159f-4d7a-a99e-78671a533366\" xlink:actuate=\"onRequest\" xlink:href=\"psysml:ab2aae6d-159f-4d7a-a99e-78671a533366\" xlink:show=\"new\" xlink:title=\"psysml:ab2aae6d-159f-4d7a-a99e-78671a533366\" xlink:type=\"simple\"><path d=\"M150,651.78 C150,666.51 150,683.35 150,696.91 \" fill=\"none\" id=\"E6&lt;-E9\" style=\"stroke: #A80036; stroke-width: 1.0;\"/><ellipse cx=\"150\" cy=\"644.35\" fill=\"#FFFFFF\" rx=\"8\" ry=\"8\" style=\"stroke: #A80036; stroke-width: 1.0;\"/><line style=\"stroke: #A80036; stroke-width: 1.0;\" x1=\"150\" x2=\"150\" y1=\"652.35\" y2=\"636.35\"/><line style=\"stroke: #A80036; stroke-width: 1.0;\" x1=\"142\" x2=\"158\" y1=\"644.35\" y2=\"644.35\"/></a><!--MD5=[f78a29d5932556fa1060671a2a6507d8]\n",
       "link E5 to E10--><a href=\"psysml:09169cbe-938d-4307-a584-0b24a5ad62ce\" target=\"_top\" title=\"psysml:09169cbe-938d-4307-a584-0b24a5ad62ce\" xlink:actuate=\"onRequest\" xlink:href=\"psysml:09169cbe-938d-4307-a584-0b24a5ad62ce\" xlink:show=\"new\" xlink:title=\"psysml:09169cbe-938d-4307-a584-0b24a5ad62ce\" xlink:type=\"simple\"><path d=\"M185.55,337.25 C181.17,359.16 174.29,393.53 168.39,423.05 \" fill=\"none\" id=\"E5-&gt;E10\" style=\"stroke: #A80036; stroke-width: 1.0;\"/><polygon fill=\"#FFFFFF\" points=\"164.4,442.98,161.2677,422.9753,174.9951,425.7247,164.4,442.98\" style=\"stroke: #A80036; stroke-width: 1.0;\"/><ellipse cx=\"164.3482\" cy=\"417.7791\" fill=\"#A80036\" rx=\"2\" ry=\"2\" style=\"stroke: #A80036; stroke-width: 1.0;\"/><ellipse cx=\"174.1535\" cy=\"419.743\" fill=\"#A80036\" rx=\"2\" ry=\"2\" style=\"stroke: #A80036; stroke-width: 1.0;\"/></a><!--MD5=[8e04057e7b3cbc0dca4fc78ea351e2da]\n",
       "reverse link E10 to E3--><a href=\"psysml:75696b56-911c-4e7f-a413-6399c7af4d3a\" target=\"_top\" title=\"psysml:75696b56-911c-4e7f-a413-6399c7af4d3a\" xlink:actuate=\"onRequest\" xlink:href=\"psysml:75696b56-911c-4e7f-a413-6399c7af4d3a\" xlink:show=\"new\" xlink:title=\"psysml:75696b56-911c-4e7f-a413-6399c7af4d3a\" xlink:type=\"simple\"><path d=\"M145.22,430.15 C139.36,402.82 132.92,368.24 130,337 C128.1,316.64 129.7,311.44 130,291 C130.3,271 130.92,248.79 131.53,230.29 \" fill=\"none\" id=\"E10&lt;-E3\" style=\"stroke: #A80036; stroke-width: 1.0;\"/><polygon fill=\"#FFFFFF\" points=\"148.03,442.94,150.65,436.2217,145.4562,431.2193,142.8362,437.9376,148.03,442.94\" style=\"stroke: #A80036; stroke-width: 1.0;\"/><text fill=\"#000000\" font-family=\"sans-serif\" font-size=\"13\" lengthAdjust=\"spacingAndGlyphs\" textLength=\"7\" x=\"131\" y=\"318.5669\">y</text></a><!--MD5=[604cbf994c02b74b117f728a71673cea]\n",
       "reverse link E10 to E6--><a href=\"psysml:75696b56-911c-4e7f-a413-6399c7af4d3a\" target=\"_top\" title=\"psysml:75696b56-911c-4e7f-a413-6399c7af4d3a\" xlink:actuate=\"onRequest\" xlink:href=\"psysml:75696b56-911c-4e7f-a413-6399c7af4d3a\" xlink:show=\"new\" xlink:title=\"psysml:75696b56-911c-4e7f-a413-6399c7af4d3a\" xlink:type=\"simple\"><path d=\"M154.36,532.09 C153.19,554.3 151.89,579.12 151.01,595.76 \" fill=\"none\" id=\"E10&lt;-E6\" style=\"stroke: #A80036; stroke-width: 1.0;\"/><polygon fill=\"#FFFFFF\" points=\"155.05,519.05,150.7392,524.8307,154.4172,531.0333,158.728,525.2526,155.05,519.05\" style=\"stroke: #A80036; stroke-width: 1.0;\"/><text fill=\"#000000\" font-family=\"sans-serif\" font-size=\"13\" lengthAdjust=\"spacingAndGlyphs\" textLength=\"7\" x=\"154\" y=\"562.0669\">y</text></a><!--MD5=[d6e2541dbc7704c13afe0f7e4c67c7ba]\n",
       "@startuml\r\n",
       " \r\n",
       "package \"PartTest\" as E1  [[psysml:538b1265-15ae-4afd-8dd2-ef0f57b41a53 ]]  {\r\n",
       "comp usage \"f: A \" as E2 << << (P,limegreen) part>> [[psysml:2c090466-3d5c-4444-ba17-090921dc2443 ]] {\r\n",
       "}\r\n",
       "comp def \"A\" as E3 << << (B,green) >> [[psysml:d1b7cfcb-f6eb-4e6c-b82e-69976e6757f6 ]] {\r\n",
       "- - attributes - -\r\n",
       "x\r\n",
       "y:> A::x\r\n",
       "}\r\n",
       "comp usage \"b: B \" as E4 << << (P,limegreen) part>> [[psysml:1aa2f075-dfbc-4c28-975e-f9b78ce76d6b ]] {\r\n",
       "}\r\n",
       "comp usage \"c: C \" as E5 << << (P,blue) port>> [[psysml:6b6fc427-035b-4f92-af2f-ae5f46ec13e5 ]] {\r\n",
       "}\r\n",
       "comp def \"<i>B</i>\" as E6 << << (B,green) >> [[psysml:286e6ef4-92d4-4c1b-a17d-09881da7698b ]] {\r\n",
       "}\r\n",
       "comp usage \"<i>a</i>: A \" as E7 << << (P,limegreen) part>> [[psysml:215e87e2-ee75-46c7-98ea-4ce8794cdbad ]] {\r\n",
       "}\r\n",
       "comp usage \"x: ~C \" as E8 << << (P,blue) port>> [[psysml:27d37788-2b75-4a5c-b4fe-9553c2483e93 ]] {\r\n",
       "}\r\n",
       "package \"P\" as E9  [[psysml:e555f4d2-547d-4756-8b33-5fda3be7b359 ]]  {\r\n",
       "}\r\n",
       "comp def \"C\" as E10 << <<(D,brown) port  def>> [[psysml:3d6805d2-0d33-47df-af88-6771a9177656 ]] {\r\n",
       "- - parameters - -\r\n",
       "<b>in</b> y: A, B <b>alias</b> z2 \r\n",
       "}\r\n",
       "}\r\n",
       "E2 - -:|> E3 [[psysml:02703352-f69e-4a4b-893d-89c09588fdfd ]] \r\n",
       "E3 *- - \"1\"E4 [[psysml:e82a868e-a957-4308-9aca-5f2e1a046a10 ]] \r\n",
       "E3 o- - \"1\"E5 [[psysml:01f43deb-5863-4903-863e-c9a23e0a1180 ]] \r\n",
       "E4 - -:|> E6 [[psysml:6f8c5931-99ab-4f3d-9640-f9d86b709835 ]] \r\n",
       "E6 *- - \"1\"E7 [[psysml:ef71999d-b74e-4e5c-b2f7-aebb94a9d32a ]] \r\n",
       "E7 - -:|> E3 [[psysml:d4047a87-2764-4bb9-9711-6fad77bbdb97 ]] \r\n",
       "E6 o- - \"1\"E8 [[psysml:e9c4c173-85e4-4370-85e4-1c8f2eb4171b ]] \r\n",
       "E6 +- - E9 [[psysml:ab2aae6d-159f-4d7a-a99e-78671a533366 ]] \r\n",
       "E5 - -:|> E10 [[psysml:09169cbe-938d-4307-a584-0b24a5ad62ce ]] \r\n",
       "E10 o- - E3 [[psysml:75696b56-911c-4e7f-a413-6399c7af4d3a ]] : y\r\n",
       "E10 o- - E6 [[psysml:75696b56-911c-4e7f-a413-6399c7af4d3a ]] : y\r\n",
       "@enduml\r\n",
       "\n",
       "PlantUML version 1.2020.13(Sat Jun 13 12:26:38 UTC 2020)\n",
       "(EPL source distribution)\n",
       "Java Runtime: OpenJDK Runtime Environment\n",
       "JVM: OpenJDK 64-Bit Server VM\n",
       "Default Encoding: UTF-8\n",
       "Language: en\n",
       "Country: null\n",
       "--></g></svg>"
      ]
     },
     "execution_count": 30,
     "metadata": {},
     "output_type": "execute_result"
    }
   ],
   "source": [
    "%viz --style=\"PLANTUML\" --view=\"Default\" \"PartTest\""
   ]
  },
  {
   "cell_type": "code",
   "execution_count": 31,
   "id": "23d97aa5",
   "metadata": {
    "execution": {
     "iopub.execute_input": "2022-05-19T08:45:13.542320Z",
     "iopub.status.busy": "2022-05-19T08:45:13.541877Z",
     "iopub.status.idle": "2022-05-19T08:45:13.601881Z",
     "shell.execute_reply": "2022-05-19T08:45:13.600213Z"
    }
   },
   "outputs": [
    {
     "data": {
      "image/svg+xml": [
       "<?xml version=\"1.0\" encoding=\"UTF-8\" standalone=\"no\"?><svg xmlns=\"http://www.w3.org/2000/svg\" xmlns:xlink=\"http://www.w3.org/1999/xlink\" contentScriptType=\"application/ecmascript\" contentStyleType=\"text/css\" height=\"778px\" preserveAspectRatio=\"none\" style=\"width:306px;height:778px;\" version=\"1.1\" viewBox=\"0 0 306 778\" width=\"306px\" zoomAndPan=\"magnify\"><defs><filter height=\"300%\" id=\"f13pvk41ej3g2t\" width=\"300%\" x=\"-1\" y=\"-1\"><feGaussianBlur result=\"blurOut\" stdDeviation=\"2.0\"/><feColorMatrix in=\"blurOut\" result=\"blurOut2\" type=\"matrix\" values=\"0 0 0 0 0 0 0 0 0 0 0 0 0 0 0 0 0 0 .4 0\"/><feOffset dx=\"4.0\" dy=\"4.0\" in=\"blurOut2\" result=\"blurOut3\"/><feBlend in=\"SourceGraphic\" in2=\"blurOut3\" mode=\"normal\"/></filter></defs><g><!--MD5=[fbc87193dbaf4d95561dea2c320d4a47]\n",
       "cluster E1--><a href=\"psysml:538b1265-15ae-4afd-8dd2-ef0f57b41a53\" target=\"_top\" title=\"psysml:538b1265-15ae-4afd-8dd2-ef0f57b41a53\" xlink:actuate=\"onRequest\" xlink:href=\"psysml:538b1265-15ae-4afd-8dd2-ef0f57b41a53\" xlink:show=\"new\" xlink:title=\"psysml:538b1265-15ae-4afd-8dd2-ef0f57b41a53\" xlink:type=\"simple\"><polygon fill=\"#FFFFFF\" filter=\"url(#f13pvk41ej3g2t)\" points=\"16,6,80,6,87,28.2969,284,28.2969,284,766,16,766,16,6\" style=\"stroke: #000000; stroke-width: 1.5;\"/><line style=\"stroke: #000000; stroke-width: 1.5;\" x1=\"16\" x2=\"87\" y1=\"28.2969\" y2=\"28.2969\"/><text fill=\"#000000\" font-family=\"sans-serif\" font-size=\"14\" font-weight=\"bold\" lengthAdjust=\"spacingAndGlyphs\" textLength=\"58\" x=\"20\" y=\"20.9951\">PartTest</text></a><!--MD5=[b4997ac47864f28c2f74865a473b2911]\n",
       "class E2--><a href=\"psysml:2c090466-3d5c-4444-ba17-090921dc2443\" target=\"_top\" title=\"psysml:2c090466-3d5c-4444-ba17-090921dc2443\" xlink:actuate=\"onRequest\" xlink:href=\"psysml:2c090466-3d5c-4444-ba17-090921dc2443\" xlink:show=\"new\" xlink:title=\"psysml:2c090466-3d5c-4444-ba17-090921dc2443\" xlink:type=\"simple\"><rect fill=\"#FEFECE\" filter=\"url(#f13pvk41ej3g2t)\" height=\"45.9375\" id=\"E2\" rx=\"10\" ry=\"10\" style=\"stroke: #A80036; stroke-width: 1.5;\" width=\"68\" x=\"99\" y=\"41\"/><ellipse cx=\"114\" cy=\"59.9688\" fill=\"#32CD32\" rx=\"11\" ry=\"11\" style=\"stroke: #A80036; stroke-width: 1.0;\"/><path d=\"M110.8125,64.9688 L110.8125,54.375 L114.4219,54.375 Q115.6406,54.375 116.4375,54.8125 Q117.2344,55.2344 117.6094,55.9375 Q118,56.6406 118,57.4844 Q118,58.3281 117.625,59.0156 Q117.2656,59.7031 116.4688,60.125 Q115.6875,60.5313 114.5,60.5313 L112.7656,60.5313 L112.7656,64.9688 L110.8125,64.9688 Z M112.7656,58.9375 L114.375,58.9375 Q115.1875,58.9375 115.6094,58.5313 Q116.0313,58.125 116.0313,57.4844 Q116.0313,56.8594 115.6094,56.4531 Q115.1875,56.0469 114.3906,56.0469 L112.7656,56.0469 L112.7656,58.9375 Z \"/><text fill=\"#000000\" font-family=\"sans-serif\" font-size=\"12\" font-style=\"italic\" lengthAdjust=\"spacingAndGlyphs\" textLength=\"40\" x=\"126\" y=\"57.1387\">«part»</text><text fill=\"#000000\" font-family=\"sans-serif\" font-size=\"12\" lengthAdjust=\"spacingAndGlyphs\" textLength=\"20\" x=\"134\" y=\"71.1074\">f: A</text><line style=\"stroke: #A80036; stroke-width: 1.5;\" x1=\"100\" x2=\"166\" y1=\"78.9375\" y2=\"78.9375\"/></a><!--MD5=[09b614a08d8cba4a07c9adeb5e0fee81]\n",
       "class E3--><a href=\"psysml:d1b7cfcb-f6eb-4e6c-b82e-69976e6757f6\" target=\"_top\" title=\"psysml:d1b7cfcb-f6eb-4e6c-b82e-69976e6757f6\" xlink:actuate=\"onRequest\" xlink:href=\"psysml:d1b7cfcb-f6eb-4e6c-b82e-69976e6757f6\" xlink:show=\"new\" xlink:title=\"psysml:d1b7cfcb-f6eb-4e6c-b82e-69976e6757f6\" xlink:type=\"simple\"><rect fill=\"#FEFECE\" filter=\"url(#f13pvk41ej3g2t)\" height=\"82.4141\" id=\"E3\" style=\"stroke: #A80036; stroke-width: 1.5;\" width=\"63\" x=\"101.5\" y=\"148\"/><ellipse cx=\"126.85\" cy=\"164\" fill=\"#008000\" rx=\"11\" ry=\"11\" style=\"stroke: #A80036; stroke-width: 1.0;\"/><path d=\"M123.725,169 L123.725,158.4063 L126.9594,158.4063 Q128.8656,158.4063 129.7719,159.1563 Q130.6938,159.9063 130.6938,161.0781 Q130.6938,161.7656 130.3031,162.4219 Q129.9281,163.0781 129.2094,163.375 Q130.0688,163.75 130.5844,164.4375 Q131.1,165.125 131.1,165.9375 Q131.1,167.3125 130.0688,168.1563 Q129.0531,169 126.9438,169 L123.725,169 Z M125.6469,162.6406 L126.8031,162.6406 Q127.9281,162.6406 128.3344,162.2656 Q128.7563,161.875 128.7563,161.25 Q128.7563,160.6719 128.3344,160.3125 Q127.9125,159.9531 126.975,159.9531 L125.6469,159.9531 L125.6469,162.6406 Z M125.6469,167.4219 L127.1469,167.4219 Q128.0531,167.4219 128.5844,167.0313 Q129.1156,166.6406 129.1156,165.8906 Q129.1156,165.125 128.6156,164.6563 Q128.1156,164.1719 126.85,164.1719 L125.6469,164.1719 L125.6469,167.4219 Z \"/><text fill=\"#000000\" font-family=\"sans-serif\" font-size=\"12\" lengthAdjust=\"spacingAndGlyphs\" textLength=\"8\" x=\"143.15\" y=\"168.1543\">A</text><line style=\"stroke: #A80036; stroke-width: 1.5;\" x1=\"102.5\" x2=\"163.5\" y1=\"180\" y2=\"180\"/><text fill=\"#000000\" font-family=\"sans-serif\" font-size=\"11\" lengthAdjust=\"spacingAndGlyphs\" textLength=\"6\" x=\"107.5\" y=\"211.0151\">x</text><text fill=\"#000000\" font-family=\"sans-serif\" font-size=\"11\" lengthAdjust=\"spacingAndGlyphs\" textLength=\"44\" x=\"107.5\" y=\"223.8198\">y:&gt; A::x</text><line style=\"stroke: #A80036; stroke-width: 1.0;\" x1=\"102.5\" x2=\"105.5\" y1=\"194.4023\" y2=\"194.4023\"/><text fill=\"#000000\" font-family=\"sans-serif\" font-size=\"11\" lengthAdjust=\"spacingAndGlyphs\" textLength=\"55\" x=\"105.5\" y=\"197.7104\">attributes</text><line style=\"stroke: #A80036; stroke-width: 1.0;\" x1=\"160.5\" x2=\"163.5\" y1=\"194.4023\" y2=\"194.4023\"/></a><!--MD5=[ebbe1d658d1005bcc118a6aa81145e00]\n",
       "class E4--><a href=\"psysml:1aa2f075-dfbc-4c28-975e-f9b78ce76d6b\" target=\"_top\" title=\"psysml:1aa2f075-dfbc-4c28-975e-f9b78ce76d6b\" xlink:actuate=\"onRequest\" xlink:href=\"psysml:1aa2f075-dfbc-4c28-975e-f9b78ce76d6b\" xlink:show=\"new\" xlink:title=\"psysml:1aa2f075-dfbc-4c28-975e-f9b78ce76d6b\" xlink:type=\"simple\"><rect fill=\"#FEFECE\" filter=\"url(#f13pvk41ej3g2t)\" height=\"45.9375\" id=\"E4\" rx=\"10\" ry=\"10\" style=\"stroke: #A80036; stroke-width: 1.5;\" width=\"68\" x=\"32\" y=\"367\"/><ellipse cx=\"47\" cy=\"385.9688\" fill=\"#32CD32\" rx=\"11\" ry=\"11\" style=\"stroke: #A80036; stroke-width: 1.0;\"/><path d=\"M43.8125,390.9688 L43.8125,380.375 L47.4219,380.375 Q48.6406,380.375 49.4375,380.8125 Q50.2344,381.2344 50.6094,381.9375 Q51,382.6406 51,383.4844 Q51,384.3281 50.625,385.0156 Q50.2656,385.7031 49.4688,386.125 Q48.6875,386.5313 47.5,386.5313 L45.7656,386.5313 L45.7656,390.9688 L43.8125,390.9688 Z M45.7656,384.9375 L47.375,384.9375 Q48.1875,384.9375 48.6094,384.5313 Q49.0313,384.125 49.0313,383.4844 Q49.0313,382.8594 48.6094,382.4531 Q48.1875,382.0469 47.3906,382.0469 L45.7656,382.0469 L45.7656,384.9375 Z \"/><text fill=\"#000000\" font-family=\"sans-serif\" font-size=\"12\" font-style=\"italic\" lengthAdjust=\"spacingAndGlyphs\" textLength=\"40\" x=\"59\" y=\"383.1387\">«part»</text><text fill=\"#000000\" font-family=\"sans-serif\" font-size=\"12\" lengthAdjust=\"spacingAndGlyphs\" textLength=\"24\" x=\"65\" y=\"397.1074\">b: B</text><line style=\"stroke: #A80036; stroke-width: 1.5;\" x1=\"33\" x2=\"99\" y1=\"404.9375\" y2=\"404.9375\"/></a><!--MD5=[270fce915f116d4de14055a7c1d9a0f3]\n",
       "class E5--><a href=\"psysml:6b6fc427-035b-4f92-af2f-ae5f46ec13e5\" target=\"_top\" title=\"psysml:6b6fc427-035b-4f92-af2f-ae5f46ec13e5\" xlink:actuate=\"onRequest\" xlink:href=\"psysml:6b6fc427-035b-4f92-af2f-ae5f46ec13e5\" xlink:show=\"new\" xlink:title=\"psysml:6b6fc427-035b-4f92-af2f-ae5f46ec13e5\" xlink:type=\"simple\"><rect fill=\"#FEFECE\" filter=\"url(#f13pvk41ej3g2t)\" height=\"45.9375\" id=\"E5\" rx=\"10\" ry=\"10\" style=\"stroke: #A80036; stroke-width: 1.5;\" width=\"68\" x=\"156\" y=\"291\"/><ellipse cx=\"171\" cy=\"309.9688\" fill=\"#0000FF\" rx=\"11\" ry=\"11\" style=\"stroke: #A80036; stroke-width: 1.0;\"/><path d=\"M167.8125,314.9688 L167.8125,304.375 L171.4219,304.375 Q172.6406,304.375 173.4375,304.8125 Q174.2344,305.2344 174.6094,305.9375 Q175,306.6406 175,307.4844 Q175,308.3281 174.625,309.0156 Q174.2656,309.7031 173.4688,310.125 Q172.6875,310.5313 171.5,310.5313 L169.7656,310.5313 L169.7656,314.9688 L167.8125,314.9688 Z M169.7656,308.9375 L171.375,308.9375 Q172.1875,308.9375 172.6094,308.5313 Q173.0313,308.125 173.0313,307.4844 Q173.0313,306.8594 172.6094,306.4531 Q172.1875,306.0469 171.3906,306.0469 L169.7656,306.0469 L169.7656,308.9375 Z \"/><text fill=\"#000000\" font-family=\"sans-serif\" font-size=\"12\" font-style=\"italic\" lengthAdjust=\"spacingAndGlyphs\" textLength=\"40\" x=\"183\" y=\"307.1387\">«port»</text><text fill=\"#000000\" font-family=\"sans-serif\" font-size=\"12\" lengthAdjust=\"spacingAndGlyphs\" textLength=\"23\" x=\"189.5\" y=\"321.1074\">c: C</text><line style=\"stroke: #A80036; stroke-width: 1.5;\" x1=\"157\" x2=\"223\" y1=\"328.9375\" y2=\"328.9375\"/></a><!--MD5=[60a26617385b1d2d0262a64233df1f8d]\n",
       "class E6--><a href=\"psysml:286e6ef4-92d4-4c1b-a17d-09881da7698b\" target=\"_top\" title=\"psysml:286e6ef4-92d4-4c1b-a17d-09881da7698b\" xlink:actuate=\"onRequest\" xlink:href=\"psysml:286e6ef4-92d4-4c1b-a17d-09881da7698b\" xlink:show=\"new\" xlink:title=\"psysml:286e6ef4-92d4-4c1b-a17d-09881da7698b\" xlink:type=\"simple\"><rect fill=\"#FEFECE\" filter=\"url(#f13pvk41ej3g2t)\" height=\"40\" id=\"E6\" style=\"stroke: #A80036; stroke-width: 1.5;\" width=\"40\" x=\"130\" y=\"596\"/><ellipse cx=\"145\" cy=\"612\" fill=\"#008000\" rx=\"11\" ry=\"11\" style=\"stroke: #A80036; stroke-width: 1.0;\"/><path d=\"M141.875,617 L141.875,606.4063 L145.1094,606.4063 Q147.0156,606.4063 147.9219,607.1563 Q148.8438,607.9063 148.8438,609.0781 Q148.8438,609.7656 148.4531,610.4219 Q148.0781,611.0781 147.3594,611.375 Q148.2188,611.75 148.7344,612.4375 Q149.25,613.125 149.25,613.9375 Q149.25,615.3125 148.2188,616.1563 Q147.2031,617 145.0938,617 L141.875,617 Z M143.7969,610.6406 L144.9531,610.6406 Q146.0781,610.6406 146.4844,610.2656 Q146.9063,609.875 146.9063,609.25 Q146.9063,608.6719 146.4844,608.3125 Q146.0625,607.9531 145.125,607.9531 L143.7969,607.9531 L143.7969,610.6406 Z M143.7969,615.4219 L145.2969,615.4219 Q146.2031,615.4219 146.7344,615.0313 Q147.2656,614.6406 147.2656,613.8906 Q147.2656,613.125 146.7656,612.6563 Q146.2656,612.1719 145,612.1719 L143.7969,612.1719 L143.7969,615.4219 Z \"/><text fill=\"#000000\" font-family=\"sans-serif\" font-size=\"12\" font-style=\"italic\" lengthAdjust=\"spacingAndGlyphs\" textLength=\"8\" x=\"159\" y=\"616.1543\">B</text><line style=\"stroke: #A80036; stroke-width: 1.5;\" x1=\"131\" x2=\"169\" y1=\"628\" y2=\"628\"/></a><!--MD5=[2156ba9850f5573cc1fc38a6a4b2f02b]\n",
       "class E7--><a href=\"psysml:215e87e2-ee75-46c7-98ea-4ce8794cdbad\" target=\"_top\" title=\"psysml:215e87e2-ee75-46c7-98ea-4ce8794cdbad\" xlink:actuate=\"onRequest\" xlink:href=\"psysml:215e87e2-ee75-46c7-98ea-4ce8794cdbad\" xlink:show=\"new\" xlink:title=\"psysml:215e87e2-ee75-46c7-98ea-4ce8794cdbad\" xlink:type=\"simple\"><rect fill=\"#FEFECE\" filter=\"url(#f13pvk41ej3g2t)\" height=\"45.9375\" id=\"E7\" rx=\"10\" ry=\"10\" style=\"stroke: #A80036; stroke-width: 1.5;\" width=\"68\" x=\"200\" y=\"700.5\"/><ellipse cx=\"215\" cy=\"719.4688\" fill=\"#32CD32\" rx=\"11\" ry=\"11\" style=\"stroke: #A80036; stroke-width: 1.0;\"/><path d=\"M211.8125,724.4688 L211.8125,713.875 L215.4219,713.875 Q216.6406,713.875 217.4375,714.3125 Q218.2344,714.7344 218.6094,715.4375 Q219,716.1406 219,716.9844 Q219,717.8281 218.625,718.5156 Q218.2656,719.2031 217.4688,719.625 Q216.6875,720.0313 215.5,720.0313 L213.7656,720.0313 L213.7656,724.4688 L211.8125,724.4688 Z M213.7656,718.4375 L215.375,718.4375 Q216.1875,718.4375 216.6094,718.0313 Q217.0313,717.625 217.0313,716.9844 Q217.0313,716.3594 216.6094,715.9531 Q216.1875,715.5469 215.3906,715.5469 L213.7656,715.5469 L213.7656,718.4375 Z \"/><text fill=\"#000000\" font-family=\"sans-serif\" font-size=\"12\" font-style=\"italic\" lengthAdjust=\"spacingAndGlyphs\" textLength=\"40\" x=\"227\" y=\"716.6387\">«part»</text><text fill=\"#000000\" font-family=\"sans-serif\" font-size=\"12\" font-style=\"italic\" lengthAdjust=\"spacingAndGlyphs\" textLength=\"8\" x=\"233\" y=\"730.6074\">a</text><text fill=\"#000000\" font-family=\"sans-serif\" font-size=\"12\" lengthAdjust=\"spacingAndGlyphs\" textLength=\"16\" x=\"241\" y=\"730.6074\">: A</text><line style=\"stroke: #A80036; stroke-width: 1.5;\" x1=\"201\" x2=\"267\" y1=\"738.4375\" y2=\"738.4375\"/></a><!--MD5=[b9389687b975829384b498ac4b7476b2]\n",
       "class E8--><a href=\"psysml:27d37788-2b75-4a5c-b4fe-9553c2483e93\" target=\"_top\" title=\"psysml:27d37788-2b75-4a5c-b4fe-9553c2483e93\" xlink:actuate=\"onRequest\" xlink:href=\"psysml:27d37788-2b75-4a5c-b4fe-9553c2483e93\" xlink:show=\"new\" xlink:title=\"psysml:27d37788-2b75-4a5c-b4fe-9553c2483e93\" xlink:type=\"simple\"><rect fill=\"#FEFECE\" filter=\"url(#f13pvk41ej3g2t)\" height=\"45.9375\" id=\"E8\" rx=\"10\" ry=\"10\" style=\"stroke: #A80036; stroke-width: 1.5;\" width=\"68\" x=\"32\" y=\"700.5\"/><ellipse cx=\"47\" cy=\"719.4688\" fill=\"#0000FF\" rx=\"11\" ry=\"11\" style=\"stroke: #A80036; stroke-width: 1.0;\"/><path d=\"M43.8125,724.4688 L43.8125,713.875 L47.4219,713.875 Q48.6406,713.875 49.4375,714.3125 Q50.2344,714.7344 50.6094,715.4375 Q51,716.1406 51,716.9844 Q51,717.8281 50.625,718.5156 Q50.2656,719.2031 49.4688,719.625 Q48.6875,720.0313 47.5,720.0313 L45.7656,720.0313 L45.7656,724.4688 L43.8125,724.4688 Z M45.7656,718.4375 L47.375,718.4375 Q48.1875,718.4375 48.6094,718.0313 Q49.0313,717.625 49.0313,716.9844 Q49.0313,716.3594 48.6094,715.9531 Q48.1875,715.5469 47.3906,715.5469 L45.7656,715.5469 L45.7656,718.4375 Z \"/><text fill=\"#000000\" font-family=\"sans-serif\" font-size=\"12\" font-style=\"italic\" lengthAdjust=\"spacingAndGlyphs\" textLength=\"40\" x=\"59\" y=\"716.6387\">«port»</text><text fill=\"#000000\" font-family=\"sans-serif\" font-size=\"12\" lengthAdjust=\"spacingAndGlyphs\" textLength=\"32\" x=\"61\" y=\"730.6074\">x: ~C</text><line style=\"stroke: #A80036; stroke-width: 1.5;\" x1=\"33\" x2=\"99\" y1=\"738.4375\" y2=\"738.4375\"/></a><!--MD5=[96f4274e9e20536e775497830990834d]\n",
       "class E10--><a href=\"psysml:3d6805d2-0d33-47df-af88-6771a9177656\" target=\"_top\" title=\"psysml:3d6805d2-0d33-47df-af88-6771a9177656\" xlink:actuate=\"onRequest\" xlink:href=\"psysml:3d6805d2-0d33-47df-af88-6771a9177656\" xlink:show=\"new\" xlink:title=\"psysml:3d6805d2-0d33-47df-af88-6771a9177656\" xlink:type=\"simple\"><rect fill=\"#FEFECE\" filter=\"url(#f13pvk41ej3g2t)\" height=\"75.5469\" id=\"E10\" style=\"stroke: #A80036; stroke-width: 1.5;\" width=\"110\" x=\"102\" y=\"443\"/><ellipse cx=\"123.3\" cy=\"461.9688\" fill=\"#A52A2A\" rx=\"11\" ry=\"11\" style=\"stroke: #A80036; stroke-width: 1.0;\"/><path d=\"M120.5188,466.9688 L120.5188,456.375 L123.2531,456.375 Q124.6438,456.375 125.4094,456.7656 Q126.1906,457.1406 126.7219,457.8438 Q127.2531,458.5469 127.55,459.5469 Q127.8469,460.5313 127.8469,461.75 Q127.8,463.3438 127.3,464.5313 Q126.8156,465.7031 125.7688,466.3438 Q124.7375,466.9688 123.05,466.9688 L120.5188,466.9688 Z M122.3781,465.4688 L123.0031,465.4688 Q124.0813,465.4688 124.7375,465.0156 Q125.3938,464.5625 125.675,463.7344 Q125.9719,462.8906 125.9563,461.7656 Q125.9563,460.5938 125.7063,459.7344 Q125.4563,458.8594 124.8469,458.3906 Q124.2375,457.9063 123.1906,457.9063 L122.3781,457.9063 L122.3781,465.4688 Z \"/><text fill=\"#000000\" font-family=\"sans-serif\" font-size=\"12\" font-style=\"italic\" lengthAdjust=\"spacingAndGlyphs\" textLength=\"68\" x=\"136.7\" y=\"459.1387\">«port  def»</text><text fill=\"#000000\" font-family=\"sans-serif\" font-size=\"12\" lengthAdjust=\"spacingAndGlyphs\" textLength=\"8\" x=\"166.7\" y=\"473.1074\">C</text><line style=\"stroke: #A80036; stroke-width: 1.5;\" x1=\"103\" x2=\"211\" y1=\"480.9375\" y2=\"480.9375\"/><text fill=\"#000000\" font-family=\"sans-serif\" font-size=\"11\" font-weight=\"bold\" lengthAdjust=\"spacingAndGlyphs\" textLength=\"10\" x=\"108\" y=\"511.9526\">in</text><text fill=\"#000000\" font-family=\"sans-serif\" font-size=\"11\" lengthAdjust=\"spacingAndGlyphs\" textLength=\"37\" x=\"122\" y=\"511.9526\">y: A, B</text><text fill=\"#000000\" font-family=\"sans-serif\" font-size=\"11\" font-weight=\"bold\" lengthAdjust=\"spacingAndGlyphs\" textLength=\"27\" x=\"163\" y=\"511.9526\">alias</text><text fill=\"#000000\" font-family=\"sans-serif\" font-size=\"11\" lengthAdjust=\"spacingAndGlyphs\" textLength=\"12\" x=\"194\" y=\"511.9526\">z2</text><line style=\"stroke: #A80036; stroke-width: 1.0;\" x1=\"103\" x2=\"123.5\" y1=\"495.3398\" y2=\"495.3398\"/><text fill=\"#000000\" font-family=\"sans-serif\" font-size=\"11\" lengthAdjust=\"spacingAndGlyphs\" textLength=\"67\" x=\"123.5\" y=\"498.6479\">parameters</text><line style=\"stroke: #A80036; stroke-width: 1.0;\" x1=\"190.5\" x2=\"211\" y1=\"495.3398\" y2=\"495.3398\"/></a><a href=\"psysml:e555f4d2-547d-4756-8b33-5fda3be7b359\" target=\"_top\" title=\"psysml:e555f4d2-547d-4756-8b33-5fda3be7b359\" xlink:actuate=\"onRequest\" xlink:href=\"psysml:e555f4d2-547d-4756-8b33-5fda3be7b359\" xlink:show=\"new\" xlink:title=\"psysml:e555f4d2-547d-4756-8b33-5fda3be7b359\" xlink:type=\"simple\"><polygon fill=\"#FFFFFF\" filter=\"url(#f13pvk41ej3g2t)\" points=\"135.5,697,150.5,697,157.5,719.2969,164.5,719.2969,164.5,749.5938,135.5,749.5938,135.5,697\" style=\"stroke: #000000; stroke-width: 1.5;\"/><line style=\"stroke: #000000; stroke-width: 1.5;\" x1=\"135.5\" x2=\"157.5\" y1=\"719.2969\" y2=\"719.2969\"/><text fill=\"#000000\" font-family=\"sans-serif\" font-size=\"14\" font-weight=\"bold\" lengthAdjust=\"spacingAndGlyphs\" textLength=\"9\" x=\"139.5\" y=\"711.9951\">P</text></a><!--MD5=[2720a5a1f2c3fca2055b230370638851]\n",
       "link E2 to E3--><a href=\"psysml:02703352-f69e-4a4b-893d-89c09588fdfd\" target=\"_top\" title=\"psysml:02703352-f69e-4a4b-893d-89c09588fdfd\" xlink:actuate=\"onRequest\" xlink:href=\"psysml:02703352-f69e-4a4b-893d-89c09588fdfd\" xlink:show=\"new\" xlink:title=\"psysml:02703352-f69e-4a4b-893d-89c09588fdfd\" xlink:type=\"simple\"><path d=\"M133,87.27 C133,98.76 133,113.37 133,127.88 \" fill=\"none\" id=\"E2-&gt;E3\" style=\"stroke: #A80036; stroke-width: 1.0;\"/><polygon fill=\"#FFFFFF\" points=\"133,147.98,126,128.98,140,128.98,133,147.98\" style=\"stroke: #A80036; stroke-width: 1.0;\"/><ellipse cx=\"128\" cy=\"123.28\" fill=\"#A80036\" rx=\"2\" ry=\"2\" style=\"stroke: #A80036; stroke-width: 1.0;\"/><ellipse cx=\"138\" cy=\"123.28\" fill=\"#A80036\" rx=\"2\" ry=\"2\" style=\"stroke: #A80036; stroke-width: 1.0;\"/></a><!--MD5=[4672eba38e49728da53d11aeb285b987]\n",
       "reverse link E3 to E4--><a href=\"psysml:e82a868e-a957-4308-9aca-5f2e1a046a10\" target=\"_top\" title=\"psysml:e82a868e-a957-4308-9aca-5f2e1a046a10\" xlink:actuate=\"onRequest\" xlink:href=\"psysml:e82a868e-a957-4308-9aca-5f2e1a046a10\" xlink:show=\"new\" xlink:title=\"psysml:e82a868e-a957-4308-9aca-5f2e1a046a10\" xlink:type=\"simple\"><path d=\"M93.85,240.15 C83.87,255.62 74.44,273.27 69,291 C61.31,316.06 61.79,346.43 63.39,366.66 \" fill=\"none\" id=\"E3&lt;-E4\" style=\"stroke: #A80036; stroke-width: 1.0;\"/><polygon fill=\"#A80036\" points=\"101.17,229.3,94.5001,232.041,94.4649,239.252,101.1348,236.511,101.17,229.3\" style=\"stroke: #A80036; stroke-width: 1.0;\"/><text fill=\"#000000\" font-family=\"sans-serif\" font-size=\"13\" lengthAdjust=\"spacingAndGlyphs\" textLength=\"8\" x=\"53.6962\" y=\"355.8492\">1</text></a><!--MD5=[191cde3d490a3f6d7bb551fe3ddca469]\n",
       "reverse link E3 to E5--><a href=\"psysml:01f43deb-5863-4903-863e-c9a23e0a1180\" target=\"_top\" title=\"psysml:01f43deb-5863-4903-863e-c9a23e0a1180\" xlink:actuate=\"onRequest\" xlink:href=\"psysml:01f43deb-5863-4903-863e-c9a23e0a1180\" xlink:show=\"new\" xlink:title=\"psysml:01f43deb-5863-4903-863e-c9a23e0a1180\" xlink:type=\"simple\"><path d=\"M157.29,242.42 C165.18,259.43 173.5,277.39 179.78,290.94 \" fill=\"none\" id=\"E3&lt;-E5\" style=\"stroke: #A80036; stroke-width: 1.0;\"/><polygon fill=\"#FFFFFF\" points=\"151.66,230.27,150.548,237.3948,156.6971,241.1617,157.8091,234.0368,151.66,230.27\" style=\"stroke: #A80036; stroke-width: 1.0;\"/><text fill=\"#000000\" font-family=\"sans-serif\" font-size=\"13\" lengthAdjust=\"spacingAndGlyphs\" textLength=\"8\" x=\"167.9584\" y=\"279.8201\">1</text></a><!--MD5=[79568f1e445c3877b6a54524624ccc7d]\n",
       "link E4 to E6--><a href=\"psysml:6f8c5931-99ab-4f3d-9640-f9d86b709835\" target=\"_top\" title=\"psysml:6f8c5931-99ab-4f3d-9640-f9d86b709835\" xlink:actuate=\"onRequest\" xlink:href=\"psysml:6f8c5931-99ab-4f3d-9640-f9d86b709835\" xlink:show=\"new\" xlink:title=\"psysml:6f8c5931-99ab-4f3d-9640-f9d86b709835\" xlink:type=\"simple\"><path d=\"M66.32,413.04 C67.36,439.17 71.23,483.62 85,519 C93.5,540.83 107.71,562.65 120.67,579.97 \" fill=\"none\" id=\"E4-&gt;E6\" style=\"stroke: #A80036; stroke-width: 1.0;\"/><polygon fill=\"#FFFFFF\" points=\"133.21,595.89,115.9569,585.2913,126.9571,576.6312,133.21,595.89\" style=\"stroke: #A80036; stroke-width: 1.0;\"/><ellipse cx=\"114.0025\" cy=\"579.5755\" fill=\"#A80036\" rx=\"2\" ry=\"2\" style=\"stroke: #A80036; stroke-width: 1.0;\"/><ellipse cx=\"121.8597\" cy=\"573.3897\" fill=\"#A80036\" rx=\"2\" ry=\"2\" style=\"stroke: #A80036; stroke-width: 1.0;\"/></a><!--MD5=[3f50a3473f1dfb74d3f76443e03635af]\n",
       "reverse link E6 to E7--><a href=\"psysml:ef71999d-b74e-4e5c-b2f7-aebb94a9d32a\" target=\"_top\" title=\"psysml:ef71999d-b74e-4e5c-b2f7-aebb94a9d32a\" xlink:actuate=\"onRequest\" xlink:href=\"psysml:ef71999d-b74e-4e5c-b2f7-aebb94a9d32a\" xlink:show=\"new\" xlink:title=\"psysml:ef71999d-b74e-4e5c-b2f7-aebb94a9d32a\" xlink:type=\"simple\"><path d=\"M173.78,646.86 C187.32,663.87 204,684.82 216.37,700.35 \" fill=\"none\" id=\"E6&lt;-E7\" style=\"stroke: #A80036; stroke-width: 1.0;\"/><polygon fill=\"#A80036\" points=\"165.41,636.35,166.0125,643.5359,172.8773,645.7435,172.2749,638.5577,165.41,636.35\" style=\"stroke: #A80036; stroke-width: 1.0;\"/><text fill=\"#000000\" font-family=\"sans-serif\" font-size=\"13\" lengthAdjust=\"spacingAndGlyphs\" textLength=\"8\" x=\"202.8273\" y=\"689.5879\">1</text></a><!--MD5=[14ccda38c055a5c0da953d572bc50960]\n",
       "link E7 to E3--><a href=\"psysml:d4047a87-2764-4bb9-9711-6fad77bbdb97\" target=\"_top\" title=\"psysml:d4047a87-2764-4bb9-9711-6fad77bbdb97\" xlink:actuate=\"onRequest\" xlink:href=\"psysml:d4047a87-2764-4bb9-9711-6fad77bbdb97\" xlink:show=\"new\" xlink:title=\"psysml:d4047a87-2764-4bb9-9711-6fad77bbdb97\" xlink:type=\"simple\"><path d=\"M242.8,700.25 C250.35,679.17 260,646.43 260,617 C260,313 260,313 260,313 C260,267.91 218.18,234.07 182.54,213.41 \" fill=\"none\" id=\"E7-&gt;E3\" style=\"stroke: #A80036; stroke-width: 1.0;\"/><polygon fill=\"#FFFFFF\" points=\"164.72,203.82,184.7675,206.6656,178.1295,218.9918,164.72,203.82\" style=\"stroke: #A80036; stroke-width: 1.0;\"/><ellipse cx=\"188.8378\" cy=\"211.1291\" fill=\"#A80036\" rx=\"2\" ry=\"2\" style=\"stroke: #A80036; stroke-width: 1.0;\"/><ellipse cx=\"184.0964\" cy=\"219.9336\" fill=\"#A80036\" rx=\"2\" ry=\"2\" style=\"stroke: #A80036; stroke-width: 1.0;\"/></a><!--MD5=[f4cf0736d43fd73c4ef68817c49d37d5]\n",
       "reverse link E6 to E8--><a href=\"psysml:e9c4c173-85e4-4370-85e4-1c8f2eb4171b\" target=\"_top\" title=\"psysml:e9c4c173-85e4-4370-85e4-1c8f2eb4171b\" xlink:actuate=\"onRequest\" xlink:href=\"psysml:e9c4c173-85e4-4370-85e4-1c8f2eb4171b\" xlink:show=\"new\" xlink:title=\"psysml:e9c4c173-85e4-4370-85e4-1c8f2eb4171b\" xlink:type=\"simple\"><path d=\"M126.22,646.86 C112.68,663.87 96,684.82 83.63,700.35 \" fill=\"none\" id=\"E6&lt;-E8\" style=\"stroke: #A80036; stroke-width: 1.0;\"/><polygon fill=\"#FFFFFF\" points=\"134.59,636.35,127.7251,638.5577,127.1227,645.7435,133.9875,643.5359,134.59,636.35\" style=\"stroke: #A80036; stroke-width: 1.0;\"/><text fill=\"#000000\" font-family=\"sans-serif\" font-size=\"13\" lengthAdjust=\"spacingAndGlyphs\" textLength=\"8\" x=\"79.1227\" y=\"689.5879\">1</text></a><!--MD5=[e88d06e5a652d73a6b19930eefe025a8]\n",
       "reverse link E6 to E9--><a href=\"psysml:ab2aae6d-159f-4d7a-a99e-78671a533366\" target=\"_top\" title=\"psysml:ab2aae6d-159f-4d7a-a99e-78671a533366\" xlink:actuate=\"onRequest\" xlink:href=\"psysml:ab2aae6d-159f-4d7a-a99e-78671a533366\" xlink:show=\"new\" xlink:title=\"psysml:ab2aae6d-159f-4d7a-a99e-78671a533366\" xlink:type=\"simple\"><path d=\"M150,651.78 C150,666.51 150,683.35 150,696.91 \" fill=\"none\" id=\"E6&lt;-E9\" style=\"stroke: #A80036; stroke-width: 1.0;\"/><ellipse cx=\"150\" cy=\"644.35\" fill=\"#FFFFFF\" rx=\"8\" ry=\"8\" style=\"stroke: #A80036; stroke-width: 1.0;\"/><line style=\"stroke: #A80036; stroke-width: 1.0;\" x1=\"150\" x2=\"150\" y1=\"652.35\" y2=\"636.35\"/><line style=\"stroke: #A80036; stroke-width: 1.0;\" x1=\"142\" x2=\"158\" y1=\"644.35\" y2=\"644.35\"/></a><!--MD5=[f78a29d5932556fa1060671a2a6507d8]\n",
       "link E5 to E10--><a href=\"psysml:09169cbe-938d-4307-a584-0b24a5ad62ce\" target=\"_top\" title=\"psysml:09169cbe-938d-4307-a584-0b24a5ad62ce\" xlink:actuate=\"onRequest\" xlink:href=\"psysml:09169cbe-938d-4307-a584-0b24a5ad62ce\" xlink:show=\"new\" xlink:title=\"psysml:09169cbe-938d-4307-a584-0b24a5ad62ce\" xlink:type=\"simple\"><path d=\"M185.55,337.25 C181.17,359.16 174.29,393.53 168.39,423.05 \" fill=\"none\" id=\"E5-&gt;E10\" style=\"stroke: #A80036; stroke-width: 1.0;\"/><polygon fill=\"#FFFFFF\" points=\"164.4,442.98,161.2677,422.9753,174.9951,425.7247,164.4,442.98\" style=\"stroke: #A80036; stroke-width: 1.0;\"/><ellipse cx=\"164.3482\" cy=\"417.7791\" fill=\"#A80036\" rx=\"2\" ry=\"2\" style=\"stroke: #A80036; stroke-width: 1.0;\"/><ellipse cx=\"174.1535\" cy=\"419.743\" fill=\"#A80036\" rx=\"2\" ry=\"2\" style=\"stroke: #A80036; stroke-width: 1.0;\"/></a><!--MD5=[8e04057e7b3cbc0dca4fc78ea351e2da]\n",
       "reverse link E10 to E3--><a href=\"psysml:75696b56-911c-4e7f-a413-6399c7af4d3a\" target=\"_top\" title=\"psysml:75696b56-911c-4e7f-a413-6399c7af4d3a\" xlink:actuate=\"onRequest\" xlink:href=\"psysml:75696b56-911c-4e7f-a413-6399c7af4d3a\" xlink:show=\"new\" xlink:title=\"psysml:75696b56-911c-4e7f-a413-6399c7af4d3a\" xlink:type=\"simple\"><path d=\"M145.22,430.15 C139.36,402.82 132.92,368.24 130,337 C128.1,316.64 129.7,311.44 130,291 C130.3,271 130.92,248.79 131.53,230.29 \" fill=\"none\" id=\"E10&lt;-E3\" style=\"stroke: #A80036; stroke-width: 1.0;\"/><polygon fill=\"#FFFFFF\" points=\"148.03,442.94,150.65,436.2217,145.4562,431.2193,142.8362,437.9376,148.03,442.94\" style=\"stroke: #A80036; stroke-width: 1.0;\"/><text fill=\"#000000\" font-family=\"sans-serif\" font-size=\"13\" lengthAdjust=\"spacingAndGlyphs\" textLength=\"7\" x=\"131\" y=\"318.5669\">y</text></a><!--MD5=[604cbf994c02b74b117f728a71673cea]\n",
       "reverse link E10 to E6--><a href=\"psysml:75696b56-911c-4e7f-a413-6399c7af4d3a\" target=\"_top\" title=\"psysml:75696b56-911c-4e7f-a413-6399c7af4d3a\" xlink:actuate=\"onRequest\" xlink:href=\"psysml:75696b56-911c-4e7f-a413-6399c7af4d3a\" xlink:show=\"new\" xlink:title=\"psysml:75696b56-911c-4e7f-a413-6399c7af4d3a\" xlink:type=\"simple\"><path d=\"M154.36,532.09 C153.19,554.3 151.89,579.12 151.01,595.76 \" fill=\"none\" id=\"E10&lt;-E6\" style=\"stroke: #A80036; stroke-width: 1.0;\"/><polygon fill=\"#FFFFFF\" points=\"155.05,519.05,150.7392,524.8307,154.4172,531.0333,158.728,525.2526,155.05,519.05\" style=\"stroke: #A80036; stroke-width: 1.0;\"/><text fill=\"#000000\" font-family=\"sans-serif\" font-size=\"13\" lengthAdjust=\"spacingAndGlyphs\" textLength=\"7\" x=\"154\" y=\"562.0669\">y</text></a><!--MD5=[d6e2541dbc7704c13afe0f7e4c67c7ba]\n",
       "@startuml\r\n",
       " \r\n",
       "package \"PartTest\" as E1  [[psysml:538b1265-15ae-4afd-8dd2-ef0f57b41a53 ]]  {\r\n",
       "comp usage \"f: A \" as E2 << << (P,limegreen) part>> [[psysml:2c090466-3d5c-4444-ba17-090921dc2443 ]] {\r\n",
       "}\r\n",
       "comp def \"A\" as E3 << << (B,green) >> [[psysml:d1b7cfcb-f6eb-4e6c-b82e-69976e6757f6 ]] {\r\n",
       "- - attributes - -\r\n",
       "x\r\n",
       "y:> A::x\r\n",
       "}\r\n",
       "comp usage \"b: B \" as E4 << << (P,limegreen) part>> [[psysml:1aa2f075-dfbc-4c28-975e-f9b78ce76d6b ]] {\r\n",
       "}\r\n",
       "comp usage \"c: C \" as E5 << << (P,blue) port>> [[psysml:6b6fc427-035b-4f92-af2f-ae5f46ec13e5 ]] {\r\n",
       "}\r\n",
       "comp def \"<i>B</i>\" as E6 << << (B,green) >> [[psysml:286e6ef4-92d4-4c1b-a17d-09881da7698b ]] {\r\n",
       "}\r\n",
       "comp usage \"<i>a</i>: A \" as E7 << << (P,limegreen) part>> [[psysml:215e87e2-ee75-46c7-98ea-4ce8794cdbad ]] {\r\n",
       "}\r\n",
       "comp usage \"x: ~C \" as E8 << << (P,blue) port>> [[psysml:27d37788-2b75-4a5c-b4fe-9553c2483e93 ]] {\r\n",
       "}\r\n",
       "package \"P\" as E9  [[psysml:e555f4d2-547d-4756-8b33-5fda3be7b359 ]]  {\r\n",
       "}\r\n",
       "comp def \"C\" as E10 << <<(D,brown) port  def>> [[psysml:3d6805d2-0d33-47df-af88-6771a9177656 ]] {\r\n",
       "- - parameters - -\r\n",
       "<b>in</b> y: A, B <b>alias</b> z2 \r\n",
       "}\r\n",
       "}\r\n",
       "E2 - -:|> E3 [[psysml:02703352-f69e-4a4b-893d-89c09588fdfd ]] \r\n",
       "E3 *- - \"1\"E4 [[psysml:e82a868e-a957-4308-9aca-5f2e1a046a10 ]] \r\n",
       "E3 o- - \"1\"E5 [[psysml:01f43deb-5863-4903-863e-c9a23e0a1180 ]] \r\n",
       "E4 - -:|> E6 [[psysml:6f8c5931-99ab-4f3d-9640-f9d86b709835 ]] \r\n",
       "E6 *- - \"1\"E7 [[psysml:ef71999d-b74e-4e5c-b2f7-aebb94a9d32a ]] \r\n",
       "E7 - -:|> E3 [[psysml:d4047a87-2764-4bb9-9711-6fad77bbdb97 ]] \r\n",
       "E6 o- - \"1\"E8 [[psysml:e9c4c173-85e4-4370-85e4-1c8f2eb4171b ]] \r\n",
       "E6 +- - E9 [[psysml:ab2aae6d-159f-4d7a-a99e-78671a533366 ]] \r\n",
       "E5 - -:|> E10 [[psysml:09169cbe-938d-4307-a584-0b24a5ad62ce ]] \r\n",
       "E10 o- - E3 [[psysml:75696b56-911c-4e7f-a413-6399c7af4d3a ]] : y\r\n",
       "E10 o- - E6 [[psysml:75696b56-911c-4e7f-a413-6399c7af4d3a ]] : y\r\n",
       "@enduml\r\n",
       "\n",
       "PlantUML version 1.2020.13(Sat Jun 13 12:26:38 UTC 2020)\n",
       "(EPL source distribution)\n",
       "Java Runtime: OpenJDK Runtime Environment\n",
       "JVM: OpenJDK 64-Bit Server VM\n",
       "Default Encoding: UTF-8\n",
       "Language: en\n",
       "Country: null\n",
       "--></g></svg>"
      ]
     },
     "execution_count": 31,
     "metadata": {},
     "output_type": "execute_result"
    }
   ],
   "source": [
    "%viz --style=\"PLANTUML\" --view=\"Tree\" \"PartTest\""
   ]
  },
  {
   "cell_type": "code",
   "execution_count": 32,
   "id": "74f5db02",
   "metadata": {
    "execution": {
     "iopub.execute_input": "2022-05-19T08:45:13.651189Z",
     "iopub.status.busy": "2022-05-19T08:45:13.650746Z",
     "iopub.status.idle": "2022-05-19T08:45:13.734002Z",
     "shell.execute_reply": "2022-05-19T08:45:13.732726Z"
    }
   },
   "outputs": [
    {
     "data": {
      "image/svg+xml": [
       "<?xml version=\"1.0\" encoding=\"UTF-8\" standalone=\"no\"?><svg xmlns=\"http://www.w3.org/2000/svg\" xmlns:xlink=\"http://www.w3.org/1999/xlink\" contentScriptType=\"application/ecmascript\" contentStyleType=\"text/css\" height=\"300px\" preserveAspectRatio=\"none\" style=\"width:603px;height:300px;background:#000000;\" version=\"1.1\" viewBox=\"0 0 603 300\" width=\"603px\" zoomAndPan=\"magnify\"><defs/><g><rect fill=\"#140614\" height=\"1\" style=\"stroke: #140614; stroke-width: 1.0;\" width=\"1\" x=\"0\" y=\"0\"/><rect fill=\"#FFFFFF\" height=\"202.8012\" style=\"stroke: #FFFFFF; stroke-width: 1.0;\" width=\"602\" x=\"0\" y=\"0\"/><text fill=\"#000000\" font-family=\"sans-serif\" font-size=\"12\" font-weight=\"bold\" lengthAdjust=\"spacingAndGlyphs\" textLength=\"139\" x=\"5\" y=\"16.1387\">Welcome to PlantUML!</text><text fill=\"#000000\" font-family=\"sans-serif\" font-size=\"12\" lengthAdjust=\"spacingAndGlyphs\" textLength=\"0\" x=\"9\" y=\"30.1074\"/><text fill=\"#000000\" font-family=\"sans-serif\" font-size=\"12\" lengthAdjust=\"spacingAndGlyphs\" textLength=\"293\" x=\"5\" y=\"44.0762\">If you use this software, you accept its license.</text><text fill=\"#000000\" font-family=\"sans-serif\" font-size=\"12\" lengthAdjust=\"spacingAndGlyphs\" textLength=\"107\" x=\"5\" y=\"58.0449\">(details by typing</text><text fill=\"#000000\" font-family=\"monospace\" font-size=\"12\" lengthAdjust=\"spacingAndGlyphs\" textLength=\"42\" x=\"116\" y=\"58.595\">license</text><text fill=\"#000000\" font-family=\"sans-serif\" font-size=\"12\" lengthAdjust=\"spacingAndGlyphs\" textLength=\"56\" x=\"162\" y=\"58.0449\">keyword)</text><text fill=\"#000000\" font-family=\"sans-serif\" font-size=\"12\" lengthAdjust=\"spacingAndGlyphs\" textLength=\"0\" x=\"9\" y=\"72.0137\"/><text fill=\"#000000\" font-family=\"sans-serif\" font-size=\"12\" lengthAdjust=\"spacingAndGlyphs\" textLength=\"283\" x=\"5\" y=\"85.9824\">You can start with a simple UML Diagram like:</text><text fill=\"#000000\" font-family=\"sans-serif\" font-size=\"12\" lengthAdjust=\"spacingAndGlyphs\" textLength=\"0\" x=\"9\" y=\"99.9512\"/><text fill=\"#000000\" font-family=\"monospace\" font-size=\"12\" lengthAdjust=\"spacingAndGlyphs\" textLength=\"102\" x=\"5\" y=\"113.0893\">Bob-&gt;Alice: Hello</text><text fill=\"#000000\" font-family=\"sans-serif\" font-size=\"12\" lengthAdjust=\"spacingAndGlyphs\" textLength=\"0\" x=\"9\" y=\"126.508\"/><text fill=\"#000000\" font-family=\"sans-serif\" font-size=\"12\" lengthAdjust=\"spacingAndGlyphs\" textLength=\"14\" x=\"5\" y=\"140.4768\">Or</text><text fill=\"#000000\" font-family=\"sans-serif\" font-size=\"12\" lengthAdjust=\"spacingAndGlyphs\" textLength=\"0\" x=\"9\" y=\"154.4455\"/><text fill=\"#000000\" font-family=\"monospace\" font-size=\"12\" lengthAdjust=\"spacingAndGlyphs\" textLength=\"78\" x=\"5\" y=\"167.5837\">class Example</text><text fill=\"#000000\" font-family=\"sans-serif\" font-size=\"12\" lengthAdjust=\"spacingAndGlyphs\" textLength=\"0\" x=\"9\" y=\"181.0023\"/><text fill=\"#000000\" font-family=\"sans-serif\" font-size=\"12\" lengthAdjust=\"spacingAndGlyphs\" textLength=\"349\" x=\"5\" y=\"194.9711\">You will find more information about PlantUML syntax on</text><text fill=\"#000000\" font-family=\"sans-serif\" font-size=\"12\" lengthAdjust=\"spacingAndGlyphs\" text-decoration=\"underline\" textLength=\"129\" x=\"358\" y=\"194.9711\">https://plantuml.com</text><image height=\"71\" width=\"80\" x=\"516\" xlink:href=\"data:image/png;base64,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\" y=\"6\"/><rect fill=\"#000000\" height=\"96.4844\" style=\"stroke: #000000; stroke-width: 1.0;\" width=\"602\" x=\"0\" y=\"202.8012\"/><rect fill=\"#33FF02\" height=\"21.2969\" style=\"stroke: #33FF02; stroke-width: 1.0;\" width=\"145\" x=\"5\" y=\"207.8012\"/><text fill=\"#000000\" font-family=\"sans-serif\" font-size=\"14\" font-weight=\"bold\" lengthAdjust=\"spacingAndGlyphs\" textLength=\"143\" x=\"6\" y=\"222.8012\">[From string (line 2) ]</text><text fill=\"#33FF02\" font-family=\"sans-serif\" font-size=\"14\" font-weight=\"bold\" lengthAdjust=\"spacingAndGlyphs\" textLength=\"0\" x=\"9\" y=\"243.0981\"/><text fill=\"#33FF02\" font-family=\"sans-serif\" font-size=\"14\" font-weight=\"bold\" lengthAdjust=\"spacingAndGlyphs\" textLength=\"70\" x=\"5\" y=\"259.3949\">@startuml</text><text fill=\"#33FF02\" font-family=\"sans-serif\" font-size=\"14\" font-weight=\"bold\" lengthAdjust=\"spacingAndGlyphs\" textLength=\"0\" x=\"9\" y=\"275.6918\"/><text fill=\"#FF0000\" font-family=\"sans-serif\" font-size=\"14\" font-weight=\"bold\" lengthAdjust=\"spacingAndGlyphs\" textLength=\"124\" x=\"9\" y=\"291.9887\">Empty description</text><!--MD5=[f59edd8218d337f74d0c332fc6737304]\n",
       "@startuml\r\n",
       " \r\n",
       "@enduml\r\n",
       "\n",
       "PlantUML version 1.2020.13(Sat Jun 13 12:26:38 UTC 2020)\n",
       "(EPL source distribution)\n",
       "Java Runtime: OpenJDK Runtime Environment\n",
       "JVM: OpenJDK 64-Bit Server VM\n",
       "Default Encoding: UTF-8\n",
       "Language: en\n",
       "Country: null\n",
       "--></g></svg>"
      ]
     },
     "execution_count": 32,
     "metadata": {},
     "output_type": "execute_result"
    }
   ],
   "source": [
    "%viz --style=\"PLANTUML\" --view=\"State\" \"PartTest\""
   ]
  },
  {
   "cell_type": "code",
   "execution_count": 33,
   "id": "2a27e99f",
   "metadata": {
    "execution": {
     "iopub.execute_input": "2022-05-19T08:45:13.783625Z",
     "iopub.status.busy": "2022-05-19T08:45:13.783186Z",
     "iopub.status.idle": "2022-05-19T08:45:13.813394Z",
     "shell.execute_reply": "2022-05-19T08:45:13.811880Z"
    }
   },
   "outputs": [
    {
     "data": {
      "image/svg+xml": [
       "<?xml version=\"1.0\" encoding=\"UTF-8\" standalone=\"no\"?><svg xmlns=\"http://www.w3.org/2000/svg\" xmlns:xlink=\"http://www.w3.org/1999/xlink\" contentScriptType=\"application/ecmascript\" contentStyleType=\"text/css\" height=\"429px\" preserveAspectRatio=\"none\" style=\"width:588px;height:429px;\" version=\"1.1\" viewBox=\"0 0 588 429\" width=\"588px\" zoomAndPan=\"magnify\"><defs><filter height=\"300%\" id=\"f8n0tkyterx6a\" width=\"300%\" x=\"-1\" y=\"-1\"><feGaussianBlur result=\"blurOut\" stdDeviation=\"2.0\"/><feColorMatrix in=\"blurOut\" result=\"blurOut2\" type=\"matrix\" values=\"0 0 0 0 0 0 0 0 0 0 0 0 0 0 0 0 0 0 .4 0\"/><feOffset dx=\"4.0\" dy=\"4.0\" in=\"blurOut2\" result=\"blurOut3\"/><feBlend in=\"SourceGraphic\" in2=\"blurOut3\" mode=\"normal\"/></filter></defs><g><!--MD5=[fbc87193dbaf4d95561dea2c320d4a47]\n",
       "cluster E1--><a href=\"psysml:538b1265-15ae-4afd-8dd2-ef0f57b41a53\" target=\"_top\" title=\"psysml:538b1265-15ae-4afd-8dd2-ef0f57b41a53\" xlink:actuate=\"onRequest\" xlink:href=\"psysml:538b1265-15ae-4afd-8dd2-ef0f57b41a53\" xlink:show=\"new\" xlink:title=\"psysml:538b1265-15ae-4afd-8dd2-ef0f57b41a53\" xlink:type=\"simple\"><polygon fill=\"#FFFFFF\" filter=\"url(#f8n0tkyterx6a)\" points=\"16,6,80,6,87,28.2969,566,28.2969,566,417.5,16,417.5,16,6\" style=\"stroke: #000000; stroke-width: 1.5;\"/><line style=\"stroke: #000000; stroke-width: 1.5;\" x1=\"16\" x2=\"87\" y1=\"28.2969\" y2=\"28.2969\"/><text fill=\"#000000\" font-family=\"sans-serif\" font-size=\"14\" font-weight=\"bold\" lengthAdjust=\"spacingAndGlyphs\" textLength=\"58\" x=\"20\" y=\"20.9951\">PartTest</text></a><!--MD5=[d5e69f78d87373223dbae638b30a9c99]\n",
       "cluster E3--><a href=\"psysml:d1b7cfcb-f6eb-4e6c-b82e-69976e6757f6\" target=\"_top\" title=\"psysml:d1b7cfcb-f6eb-4e6c-b82e-69976e6757f6\" xlink:actuate=\"onRequest\" xlink:href=\"psysml:d1b7cfcb-f6eb-4e6c-b82e-69976e6757f6\" xlink:show=\"new\" xlink:title=\"psysml:d1b7cfcb-f6eb-4e6c-b82e-69976e6757f6\" xlink:type=\"simple\"><rect fill=\"#FFFFFF\" filter=\"url(#f8n0tkyterx6a)\" height=\"171.5\" id=\"E3\" style=\"stroke: #A80036; stroke-width: 1.5;\" width=\"241\" x=\"106\" y=\"63\"/><rect fill=\"#FEFECE\" height=\"23.9688\" style=\"stroke: #A80036; stroke-width: 1.5;\" width=\"241\" x=\"106\" y=\"63\"/><text fill=\"#000000\" font-family=\"sans-serif\" font-size=\"12\" lengthAdjust=\"spacingAndGlyphs\" textLength=\"8\" x=\"222.5\" y=\"79.1387\">A</text></a><!--MD5=[55dfccfc6c49c2d10cd1bd2211a6c90c]\n",
       "cluster E8--><a href=\"psysml:286e6ef4-92d4-4c1b-a17d-09881da7698b\" target=\"_top\" title=\"psysml:286e6ef4-92d4-4c1b-a17d-09881da7698b\" xlink:actuate=\"onRequest\" xlink:href=\"psysml:286e6ef4-92d4-4c1b-a17d-09881da7698b\" xlink:show=\"new\" xlink:title=\"psysml:286e6ef4-92d4-4c1b-a17d-09881da7698b\" xlink:type=\"simple\"><rect fill=\"#FFFFFF\" filter=\"url(#f8n0tkyterx6a)\" height=\"206\" id=\"E8\" style=\"stroke: #A80036; stroke-width: 1.5;\" width=\"171\" x=\"371\" y=\"187.5\"/><rect fill=\"#FEFECE\" height=\"23.9688\" style=\"stroke: #A80036; stroke-width: 1.5;\" width=\"171\" x=\"371\" y=\"187.5\"/><text fill=\"#000000\" font-family=\"sans-serif\" font-size=\"12\" font-style=\"italic\" lengthAdjust=\"spacingAndGlyphs\" textLength=\"8\" x=\"452.5\" y=\"203.6387\">B</text></a><g id=\"E1.E12\"><a href=\"psysml:3d6805d2-0d33-47df-af88-6771a9177656\" target=\"_top\" title=\"psysml:3d6805d2-0d33-47df-af88-6771a9177656\" xlink:actuate=\"onRequest\" xlink:href=\"psysml:3d6805d2-0d33-47df-af88-6771a9177656\" xlink:show=\"new\" xlink:title=\"psysml:3d6805d2-0d33-47df-af88-6771a9177656\" xlink:type=\"simple\"><rect fill=\"#FEFECE\" filter=\"url(#f8n0tkyterx6a)\" height=\"42.9375\" id=\"E12\" style=\"stroke: #A80036; stroke-width: 1.5;\" width=\"101\" x=\"405.5\" y=\"41.5\"/><ellipse cx=\"422.75\" cy=\"60.4688\" fill=\"#A52A2A\" rx=\"11\" ry=\"11\" style=\"stroke: #A80036; stroke-width: 1.0;\"/><path d=\"M419.9688,65.4688 L419.9688,54.875 L422.7031,54.875 Q424.0938,54.875 424.8594,55.2656 Q425.6406,55.6406 426.1719,56.3438 Q426.7031,57.0469 427,58.0469 Q427.2969,59.0313 427.2969,60.25 Q427.25,61.8438 426.75,63.0313 Q426.2656,64.2031 425.2188,64.8438 Q424.1875,65.4688 422.5,65.4688 L419.9688,65.4688 Z M421.8281,63.9688 L422.4531,63.9688 Q423.5313,63.9688 424.1875,63.5156 Q424.8438,63.0625 425.125,62.2344 Q425.4219,61.3906 425.4063,60.2656 Q425.4063,59.0938 425.1563,58.2344 Q424.9063,57.3594 424.2969,56.8906 Q423.6875,56.4063 422.6406,56.4063 L421.8281,56.4063 L421.8281,63.9688 Z \"/><text fill=\"#000000\" font-family=\"sans-serif\" font-size=\"12\" font-style=\"italic\" lengthAdjust=\"spacingAndGlyphs\" textLength=\"68\" x=\"435.25\" y=\"57.6387\">«port  def»</text><text fill=\"#000000\" font-family=\"sans-serif\" font-size=\"12\" lengthAdjust=\"spacingAndGlyphs\" textLength=\"8\" x=\"465.25\" y=\"71.6074\">C</text></a></g><g id=\"E1.E2\"><a href=\"psysml:2c090466-3d5c-4444-ba17-090921dc2443\" target=\"_top\" title=\"psysml:2c090466-3d5c-4444-ba17-090921dc2443\" xlink:actuate=\"onRequest\" xlink:href=\"psysml:2c090466-3d5c-4444-ba17-090921dc2443\" xlink:show=\"new\" xlink:title=\"psysml:2c090466-3d5c-4444-ba17-090921dc2443\" xlink:type=\"simple\"><rect fill=\"#FEFECE\" filter=\"url(#f8n0tkyterx6a)\" height=\"40\" id=\"E2\" rx=\"10\" ry=\"10\" style=\"stroke: #A80036; stroke-width: 1.5;\" width=\"57\" x=\"32.5\" y=\"43\"/><ellipse cx=\"49.75\" cy=\"59\" fill=\"#B6DBBB\" rx=\"11\" ry=\"11\" style=\"stroke: #A80036; stroke-width: 1.0;\"/><path d=\"M49.5,64.4688 Q47.75,64.4688 46.7969,63.4375 Q45.8594,62.3906 45.8594,60.5469 L45.8594,53.6563 L47.9219,53.6563 L47.9219,53.8125 Q47.8281,53.9063 47.7969,54.0469 Q47.7813,54.1719 47.7813,54.4375 L47.7813,60.5625 Q47.7813,61.6563 48.1563,62.2813 Q48.5313,62.9063 49.5156,62.9063 Q50.5,62.9063 50.8906,62.2813 Q51.2813,61.6563 51.2813,60.5156 L51.2813,53.6563 L53.1563,53.6563 L53.1563,60.5 Q53.1563,62.5313 52.125,63.5 Q51.1094,64.4688 49.5,64.4688 Z \"/><text fill=\"#000000\" font-family=\"sans-serif\" font-size=\"12\" lengthAdjust=\"spacingAndGlyphs\" textLength=\"20\" x=\"64.25\" y=\"63.1543\">f: A</text></a></g><text fill=\"#000000\" font-family=\"sans-serif\" font-size=\"14\" lengthAdjust=\"spacingAndGlyphs\" textLength=\"27\" x=\"276.5\" y=\"41.6982\">c: C</text><rect fill=\"#A80036\" height=\"12\" style=\"stroke: #FEFECE; stroke-width: 1.5;\" width=\"12\" x=\"286\" y=\"57\"/><!--MD5=[60a26617385b1d2d0262a64233df1f8d]\n",
       "class E6--><a href=\"psysml:06f02a55-455e-4cd3-969d-a4f55ea12e51\" target=\"_top\" title=\"psysml:06f02a55-455e-4cd3-969d-a4f55ea12e51\" xlink:actuate=\"onRequest\" xlink:href=\"psysml:06f02a55-455e-4cd3-969d-a4f55ea12e51\" xlink:show=\"new\" xlink:title=\"psysml:06f02a55-455e-4cd3-969d-a4f55ea12e51\" xlink:type=\"simple\"><rect fill=\"#FEFECE\" filter=\"url(#f8n0tkyterx6a)\" height=\"45.9375\" id=\"E6\" rx=\"10\" ry=\"10\" style=\"stroke: #A80036; stroke-width: 1.5;\" width=\"97\" x=\"129.5\" y=\"164.5\"/><ellipse cx=\"144.5\" cy=\"183.4688\" fill=\"#FFA500\" rx=\"11\" ry=\"11\" style=\"stroke: #A80036; stroke-width: 1.0;\"/><path d=\"M144.25,188.9375 Q142.5,188.9375 141.5469,187.9063 Q140.6094,186.8594 140.6094,185.0156 L140.6094,178.125 L142.6719,178.125 L142.6719,178.2813 Q142.5781,178.375 142.5469,178.5156 Q142.5313,178.6406 142.5313,178.9063 L142.5313,185.0313 Q142.5313,186.125 142.9063,186.75 Q143.2813,187.375 144.2656,187.375 Q145.25,187.375 145.6406,186.75 Q146.0313,186.125 146.0313,184.9844 L146.0313,178.125 L147.9063,178.125 L147.9063,184.9688 Q147.9063,187 146.875,187.9688 Q145.8594,188.9375 144.25,188.9375 Z \"/><text fill=\"#000000\" font-family=\"sans-serif\" font-size=\"12\" font-style=\"italic\" lengthAdjust=\"spacingAndGlyphs\" textLength=\"69\" x=\"156.5\" y=\"180.6387\">«attribute»</text><text fill=\"#000000\" font-family=\"sans-serif\" font-size=\"12\" lengthAdjust=\"spacingAndGlyphs\" textLength=\"6\" x=\"186\" y=\"194.6074\">x</text><line style=\"stroke: #A80036; stroke-width: 1.5;\" x1=\"130.5\" x2=\"225.5\" y1=\"202.4375\" y2=\"202.4375\"/></a><!--MD5=[2156ba9850f5573cc1fc38a6a4b2f02b]\n",
       "class E7--><a href=\"psysml:76b35b38-8c6d-4280-8e5f-8b677c2aa039\" target=\"_top\" title=\"psysml:76b35b38-8c6d-4280-8e5f-8b677c2aa039\" xlink:actuate=\"onRequest\" xlink:href=\"psysml:76b35b38-8c6d-4280-8e5f-8b677c2aa039\" xlink:show=\"new\" xlink:title=\"psysml:76b35b38-8c6d-4280-8e5f-8b677c2aa039\" xlink:type=\"simple\"><rect fill=\"#FEFECE\" filter=\"url(#f8n0tkyterx6a)\" height=\"45.9375\" id=\"E7\" rx=\"10\" ry=\"10\" style=\"stroke: #A80036; stroke-width: 1.5;\" width=\"97\" x=\"129.5\" y=\"108.5\"/><ellipse cx=\"144.5\" cy=\"127.4688\" fill=\"#FFA500\" rx=\"11\" ry=\"11\" style=\"stroke: #A80036; stroke-width: 1.0;\"/><path d=\"M144.25,132.9375 Q142.5,132.9375 141.5469,131.9063 Q140.6094,130.8594 140.6094,129.0156 L140.6094,122.125 L142.6719,122.125 L142.6719,122.2813 Q142.5781,122.375 142.5469,122.5156 Q142.5313,122.6406 142.5313,122.9063 L142.5313,129.0313 Q142.5313,130.125 142.9063,130.75 Q143.2813,131.375 144.2656,131.375 Q145.25,131.375 145.6406,130.75 Q146.0313,130.125 146.0313,128.9844 L146.0313,122.125 L147.9063,122.125 L147.9063,128.9688 Q147.9063,131 146.875,131.9688 Q145.8594,132.9375 144.25,132.9375 Z \"/><text fill=\"#000000\" font-family=\"sans-serif\" font-size=\"12\" font-style=\"italic\" lengthAdjust=\"spacingAndGlyphs\" textLength=\"69\" x=\"156.5\" y=\"124.6387\">«attribute»</text><text fill=\"#000000\" font-family=\"sans-serif\" font-size=\"12\" lengthAdjust=\"spacingAndGlyphs\" textLength=\"50\" x=\"166\" y=\"138.6074\">y :&gt; A::x</text><line style=\"stroke: #A80036; stroke-width: 1.5;\" x1=\"130.5\" x2=\"225.5\" y1=\"146.4375\" y2=\"146.4375\"/></a><g id=\"E1.E3.E4\"><a href=\"psysml:1aa2f075-dfbc-4c28-975e-f9b78ce76d6b\" target=\"_top\" title=\"psysml:1aa2f075-dfbc-4c28-975e-f9b78ce76d6b\" xlink:actuate=\"onRequest\" xlink:href=\"psysml:1aa2f075-dfbc-4c28-975e-f9b78ce76d6b\" xlink:show=\"new\" xlink:title=\"psysml:1aa2f075-dfbc-4c28-975e-f9b78ce76d6b\" xlink:type=\"simple\"><rect fill=\"#FEFECE\" filter=\"url(#f8n0tkyterx6a)\" height=\"40\" id=\"E4\" rx=\"10\" ry=\"10\" style=\"stroke: #A80036; stroke-width: 1.5;\" width=\"61\" x=\"261.5\" y=\"167.5\"/><ellipse cx=\"278.75\" cy=\"183.5\" fill=\"#B6DBBB\" rx=\"11\" ry=\"11\" style=\"stroke: #A80036; stroke-width: 1.0;\"/><path d=\"M278.5,188.9688 Q276.75,188.9688 275.7969,187.9375 Q274.8594,186.8906 274.8594,185.0469 L274.8594,178.1563 L276.9219,178.1563 L276.9219,178.3125 Q276.8281,178.4063 276.7969,178.5469 Q276.7813,178.6719 276.7813,178.9375 L276.7813,185.0625 Q276.7813,186.1563 277.1563,186.7813 Q277.5313,187.4063 278.5156,187.4063 Q279.5,187.4063 279.8906,186.7813 Q280.2813,186.1563 280.2813,185.0156 L280.2813,178.1563 L282.1563,178.1563 L282.1563,185 Q282.1563,187.0313 281.125,188 Q280.1094,188.9688 278.5,188.9688 Z \"/><text fill=\"#000000\" font-family=\"sans-serif\" font-size=\"12\" lengthAdjust=\"spacingAndGlyphs\" textLength=\"24\" x=\"293.25\" y=\"187.6543\">b: B</text></a></g><text fill=\"#000000\" font-family=\"sans-serif\" font-size=\"14\" lengthAdjust=\"spacingAndGlyphs\" textLength=\"38\" x=\"484\" y=\"166.1982\">x: ~C</text><rect fill=\"#A80036\" height=\"12\" style=\"stroke: #FEFECE; stroke-width: 1.5;\" width=\"12\" x=\"499\" y=\"181.5\"/><g id=\"E1.E8.E9\"><a href=\"psysml:215e87e2-ee75-46c7-98ea-4ce8794cdbad\" target=\"_top\" title=\"psysml:215e87e2-ee75-46c7-98ea-4ce8794cdbad\" xlink:actuate=\"onRequest\" xlink:href=\"psysml:215e87e2-ee75-46c7-98ea-4ce8794cdbad\" xlink:show=\"new\" xlink:title=\"psysml:215e87e2-ee75-46c7-98ea-4ce8794cdbad\" xlink:type=\"simple\"><rect fill=\"#FEFECE\" filter=\"url(#f8n0tkyterx6a)\" height=\"40\" id=\"E9\" rx=\"10\" ry=\"10\" style=\"stroke: #A80036; stroke-width: 1.5;\" width=\"61\" x=\"395.5\" y=\"266.5\"/><ellipse cx=\"412.75\" cy=\"282.5\" fill=\"#B6DBBB\" rx=\"11\" ry=\"11\" style=\"stroke: #A80036; stroke-width: 1.0;\"/><path d=\"M412.5,287.9688 Q410.75,287.9688 409.7969,286.9375 Q408.8594,285.8906 408.8594,284.0469 L408.8594,277.1563 L410.9219,277.1563 L410.9219,277.3125 Q410.8281,277.4063 410.7969,277.5469 Q410.7813,277.6719 410.7813,277.9375 L410.7813,284.0625 Q410.7813,285.1563 411.1563,285.7813 Q411.5313,286.4063 412.5156,286.4063 Q413.5,286.4063 413.8906,285.7813 Q414.2813,285.1563 414.2813,284.0156 L414.2813,277.1563 L416.1563,277.1563 L416.1563,284 Q416.1563,286.0313 415.125,287 Q414.1094,287.9688 412.5,287.9688 Z \"/><text fill=\"#000000\" font-family=\"sans-serif\" font-size=\"12\" lengthAdjust=\"spacingAndGlyphs\" textLength=\"24\" x=\"427.25\" y=\"286.6543\">a: A</text></a></g><a href=\"psysml:e555f4d2-547d-4756-8b33-5fda3be7b359\" target=\"_top\" title=\"psysml:e555f4d2-547d-4756-8b33-5fda3be7b359\" xlink:actuate=\"onRequest\" xlink:href=\"psysml:e555f4d2-547d-4756-8b33-5fda3be7b359\" xlink:show=\"new\" xlink:title=\"psysml:e555f4d2-547d-4756-8b33-5fda3be7b359\" xlink:type=\"simple\"><polygon fill=\"#FFFFFF\" filter=\"url(#f8n0tkyterx6a)\" points=\"488.5,316.5,503.5,316.5,510.5,338.7969,517.5,338.7969,517.5,369.0938,488.5,369.0938,488.5,316.5\" style=\"stroke: #000000; stroke-width: 1.5;\"/><line style=\"stroke: #000000; stroke-width: 1.5;\" x1=\"488.5\" x2=\"510.5\" y1=\"338.7969\" y2=\"338.7969\"/><text fill=\"#000000\" font-family=\"sans-serif\" font-size=\"14\" font-weight=\"bold\" lengthAdjust=\"spacingAndGlyphs\" textLength=\"9\" x=\"492.5\" y=\"331.4951\">P</text></a><!--MD5=[2720a5a1f2c3fca2055b230370638851]\n",
       "link E2 to E3--><a href=\"psysml:02703352-f69e-4a4b-893d-89c09588fdfd\" target=\"_top\" title=\"psysml:02703352-f69e-4a4b-893d-89c09588fdfd\" xlink:actuate=\"onRequest\" xlink:href=\"psysml:02703352-f69e-4a4b-893d-89c09588fdfd\" xlink:show=\"new\" xlink:title=\"psysml:02703352-f69e-4a4b-893d-89c09588fdfd\" xlink:type=\"simple\"><path d=\"M89.54,81.42 C92.33,82.63 95.18,83.69 98,84.5 C99.9513,85.0619 102.1102,85.5398 104.4507,85.9449 C104.7432,85.9955 105.0386,86.045 105.3368,86.0934 C105.4859,86.1176 105.6357,86.1415 105.7862,86.1652 \" fill=\"none\" id=\"E2-&gt;E3\" style=\"stroke: #A80036; stroke-width: 1.0;\"/><polygon fill=\"#FFFFFF\" points=\"105.7862,86.1652,85.9301,90.1322,88.1025,76.3017,105.7862,86.1652\" style=\"stroke: #A80036; stroke-width: 1.0;\"/><ellipse cx=\"80.6095\" cy=\"87.2719\" fill=\"#A80036\" rx=\"2\" ry=\"2\" style=\"stroke: #A80036; stroke-width: 1.0;\"/><ellipse cx=\"82.1612\" cy=\"77.393\" fill=\"#A80036\" rx=\"2\" ry=\"2\" style=\"stroke: #A80036; stroke-width: 1.0;\"/></a><!--MD5=[353cdda3e1e05fc02373f055b6f604ae]\n",
       "link E4 to E8--><a href=\"psysml:6f8c5931-99ab-4f3d-9640-f9d86b709835\" target=\"_top\" title=\"psysml:6f8c5931-99ab-4f3d-9640-f9d86b709835\" xlink:actuate=\"onRequest\" xlink:href=\"psysml:6f8c5931-99ab-4f3d-9640-f9d86b709835\" xlink:show=\"new\" xlink:title=\"psysml:6f8c5931-99ab-4f3d-9640-f9d86b709835\" xlink:type=\"simple\"><path d=\"M310.6,207.53 C323.94,219.85 343.01,234.95 363,242.5 C364.4462,243.0463 366.0587,243.5127 367.8164,243.9097 C368.6952,244.1083 369.6103,244.2895 370.5591,244.4547 C370.6777,244.4753 370.7969,244.4957 370.9165,244.5159 \" fill=\"none\" id=\"E4-&gt;E8\" style=\"stroke: #A80036; stroke-width: 1.0;\"/><polygon fill=\"#FFFFFF\" points=\"370.9165,244.5159,351.0178,248.263,353.343,234.4575,370.9165,244.5159\" style=\"stroke: #A80036; stroke-width: 1.0;\"/><ellipse cx=\"345.7291\" cy=\"245.3441\" fill=\"#A80036\" rx=\"2\" ry=\"2\" style=\"stroke: #A80036; stroke-width: 1.0;\"/><ellipse cx=\"347.39\" cy=\"235.483\" fill=\"#A80036\" rx=\"2\" ry=\"2\" style=\"stroke: #A80036; stroke-width: 1.0;\"/></a><!--MD5=[fbb449814971db3a0b8220cf225b9e01]\n",
       "link E7 to E6--><a href=\"psysml:ae54614b-4129-4b1b-b401-8ec489119004\" target=\"_top\" title=\"psysml:ae54614b-4129-4b1b-b401-8ec489119004\" xlink:actuate=\"onRequest\" xlink:href=\"psysml:ae54614b-4129-4b1b-b401-8ec489119004\" xlink:show=\"new\" xlink:title=\"psysml:ae54614b-4129-4b1b-b401-8ec489119004\" xlink:type=\"simple\"><path d=\"M178,154.78 C178,154.87 178,154.97 178,155.07 \" fill=\"none\" id=\"E7-&gt;E6\" style=\"stroke: #A80036; stroke-width: 1.0;\"/><polygon fill=\"none\" points=\"185,144.28,178,164.28,171,144.28,185,144.28\" style=\"stroke: #A80036; stroke-width: 1.0;\"/></a><!--MD5=[92a97fc68b0cf8efbbf01f4f6b4ceef7]\n",
       "link E9 to E3--><a href=\"psysml:d4047a87-2764-4bb9-9711-6fad77bbdb97\" target=\"_top\" title=\"psysml:d4047a87-2764-4bb9-9711-6fad77bbdb97\" xlink:actuate=\"onRequest\" xlink:href=\"psysml:d4047a87-2764-4bb9-9711-6fad77bbdb97\" xlink:show=\"new\" xlink:title=\"psysml:d4047a87-2764-4bb9-9711-6fad77bbdb97\" xlink:type=\"simple\"><path d=\"M413.46,266.09 C403.73,251.195 389.6175,229.925 375.8113,210.315 C368.9081,200.51 362.0816,191.12 355.9177,183.1494 C352.8357,179.1641 349.9194,175.5336 347.2421,172.3835 \" fill=\"none\" id=\"E9-&gt;E3\" style=\"stroke: #A80036; stroke-width: 1.0;\"/><polygon fill=\"#FFFFFF\" points=\"347.2421,172.3835,364.8806,182.3275,354.2131,191.3942,347.2421,172.3835\" style=\"stroke: #A80036; stroke-width: 1.0;\"/><ellipse cx=\"367.0481\" cy=\"187.9659\" fill=\"#A80036\" rx=\"2\" ry=\"2\" style=\"stroke: #A80036; stroke-width: 1.0;\"/><ellipse cx=\"359.4284\" cy=\"194.4421\" fill=\"#A80036\" rx=\"2\" ry=\"2\" style=\"stroke: #A80036; stroke-width: 1.0;\"/></a><!--MD5=[abd51f18be4a33b98251ea6182bcb868]\n",
       "@startuml\r\n",
       "skinparam ranksep 10\r\n",
       "skinparam rectangle {\r\n",
       " backgroundColor<<block>> LightGreen\r\n",
       "}\r\n",
       " \r\n",
       "package \"PartTest\" as E1  [[psysml:538b1265-15ae-4afd-8dd2-ef0f57b41a53 ]]  {\r\n",
       "rec usage \"f: A\" as E2  [[psysml:2c090466-3d5c-4444-ba17-090921dc2443 ]] {\r\n",
       "}\r\n",
       "rec def \"A\" as E3 << << (B,green) >> [[psysml:d1b7cfcb-f6eb-4e6c-b82e-69976e6757f6 ]] {\r\n",
       "rec usage \"b: B\" as E4  [[psysml:1aa2f075-dfbc-4c28-975e-f9b78ce76d6b ]] {\r\n",
       "}\r\n",
       "portin \"c: C \" as E5 << << (P,blue) port>> [[psysml:6b6fc427-035b-4f92-af2f-ae5f46ec13e5 ]] \r\n",
       "comp usage \"x \" as E6 << <<(U,orange) attribute>> [[psysml:06f02a55-455e-4cd3-969d-a4f55ea12e51 ]] {\r\n",
       "}\r\n",
       "comp usage \"y :> A::x\" as E7 << <<(U,orange) attribute>> [[psysml:76b35b38-8c6d-4280-8e5f-8b677c2aa039 ]] {\r\n",
       "}\r\n",
       "}\r\n",
       "rec def \"<i>B</i>\" as E8 << << (B,green) >> [[psysml:286e6ef4-92d4-4c1b-a17d-09881da7698b ]] {\r\n",
       "rec usage \"a: A\" as E9  [[psysml:215e87e2-ee75-46c7-98ea-4ce8794cdbad ]] {\r\n",
       "}\r\n",
       "portin \"x: ~C \" as E10 << << (P,blue) port>> [[psysml:27d37788-2b75-4a5c-b4fe-9553c2483e93 ]] \r\n",
       "package \"P\" as E11  [[psysml:e555f4d2-547d-4756-8b33-5fda3be7b359 ]]  {\r\n",
       "}\r\n",
       "}\r\n",
       "def \"C\" as E12 << <<(D,brown) port  def>> [[psysml:3d6805d2-0d33-47df-af88-6771a9177656 ]] \r\n",
       "}\r\n",
       "E2 - -:|> E3 [[psysml:02703352-f69e-4a4b-893d-89c09588fdfd ]] \r\n",
       "E4 - -:|> E8 [[psysml:6f8c5931-99ab-4f3d-9640-f9d86b709835 ]] \r\n",
       "E7 - -|> E6 [[psysml:ae54614b-4129-4b1b-b401-8ec489119004 ]] \r\n",
       "E9 - -:|> E3 [[psysml:d4047a87-2764-4bb9-9711-6fad77bbdb97 ]] \r\n",
       "@enduml\r\n",
       "\n",
       "PlantUML version 1.2020.13(Sat Jun 13 12:26:38 UTC 2020)\n",
       "(EPL source distribution)\n",
       "Java Runtime: OpenJDK Runtime Environment\n",
       "JVM: OpenJDK 64-Bit Server VM\n",
       "Default Encoding: UTF-8\n",
       "Language: en\n",
       "Country: null\n",
       "--></g></svg>"
      ]
     },
     "execution_count": 33,
     "metadata": {},
     "output_type": "execute_result"
    }
   ],
   "source": [
    "%viz --style=\"PLANTUML\" --view=\"Interconnection\" \"PartTest\""
   ]
  },
  {
   "cell_type": "code",
   "execution_count": 34,
   "id": "8ae9b4d6",
   "metadata": {
    "execution": {
     "iopub.execute_input": "2022-05-19T08:45:13.862845Z",
     "iopub.status.busy": "2022-05-19T08:45:13.862384Z",
     "iopub.status.idle": "2022-05-19T08:45:13.866773Z",
     "shell.execute_reply": "2022-05-19T08:45:13.866397Z"
    }
   },
   "outputs": [
    {
     "data": {
      "image/svg+xml": [
       "<?xml version=\"1.0\" encoding=\"UTF-8\" standalone=\"no\"?><svg xmlns=\"http://www.w3.org/2000/svg\" xmlns:xlink=\"http://www.w3.org/1999/xlink\" contentScriptType=\"application/ecmascript\" contentStyleType=\"text/css\" height=\"12px\" preserveAspectRatio=\"none\" style=\"width:12px;height:12px;\" version=\"1.1\" viewBox=\"0 0 12 12\" width=\"12px\" zoomAndPan=\"magnify\"><defs/><g><!--MD5=[6a4cb978cab31700e1ce5529f947a75d]\n",
       "@startuml\r\n",
       "skinparam ranksep 8\r\n",
       " \r\n",
       "@enduml\r\n",
       "\n",
       "PlantUML version 1.2020.13(Sat Jun 13 12:26:38 UTC 2020)\n",
       "(EPL source distribution)\n",
       "Java Runtime: OpenJDK Runtime Environment\n",
       "JVM: OpenJDK 64-Bit Server VM\n",
       "Default Encoding: UTF-8\n",
       "Language: en\n",
       "Country: null\n",
       "--></g></svg>"
      ]
     },
     "execution_count": 34,
     "metadata": {},
     "output_type": "execute_result"
    }
   ],
   "source": [
    "%viz --style=\"PLANTUML\" --view=\"Action\" \"PartTest\""
   ]
  },
  {
   "cell_type": "code",
   "execution_count": 35,
   "id": "db183254",
   "metadata": {
    "execution": {
     "iopub.execute_input": "2022-05-19T08:45:13.916765Z",
     "iopub.status.busy": "2022-05-19T08:45:13.916309Z",
     "iopub.status.idle": "2022-05-19T08:45:13.920808Z",
     "shell.execute_reply": "2022-05-19T08:45:13.921131Z"
    }
   },
   "outputs": [
    {
     "data": {
      "image/svg+xml": [
       "<?xml version=\"1.0\" encoding=\"UTF-8\" standalone=\"no\"?><svg xmlns=\"http://www.w3.org/2000/svg\" xmlns:xlink=\"http://www.w3.org/1999/xlink\" contentScriptType=\"application/ecmascript\" contentStyleType=\"text/css\" height=\"12px\" preserveAspectRatio=\"none\" style=\"width:12px;height:12px;\" version=\"1.1\" viewBox=\"0 0 12 12\" width=\"12px\" zoomAndPan=\"magnify\"><defs/><g><!--MD5=[ca4faa0b02def275ea33c14ea7a1a98d]\n",
       "@startuml\r\n",
       "skinparam roundcorner 20\r\n",
       "skinparam BoxPadding 20\r\n",
       "skinparam SequenceBoxBackgroundColor #white\r\n",
       "skinparam style strictuml\r\n",
       "skinparam maxMessageSize 100\r\n",
       " \r\n",
       "@enduml\r\n",
       "\n",
       "PlantUML version 1.2020.13(Sat Jun 13 12:26:38 UTC 2020)\n",
       "(EPL source distribution)\n",
       "Java Runtime: OpenJDK Runtime Environment\n",
       "JVM: OpenJDK 64-Bit Server VM\n",
       "Default Encoding: UTF-8\n",
       "Language: en\n",
       "Country: null\n",
       "--></g></svg>"
      ]
     },
     "execution_count": 35,
     "metadata": {},
     "output_type": "execute_result"
    }
   ],
   "source": [
    "%viz --style=\"PLANTUML\" --view=\"Sequence\" \"PartTest\""
   ]
  },
  {
   "cell_type": "code",
   "execution_count": 36,
   "id": "479d9925",
   "metadata": {
    "execution": {
     "iopub.execute_input": "2022-05-19T08:45:13.970852Z",
     "iopub.status.busy": "2022-05-19T08:45:13.970403Z",
     "iopub.status.idle": "2022-05-19T08:45:14.043458Z",
     "shell.execute_reply": "2022-05-19T08:45:14.041747Z"
    }
   },
   "outputs": [
    {
     "data": {
      "image/svg+xml": [
       "<?xml version=\"1.0\" encoding=\"UTF-8\" standalone=\"no\"?><svg xmlns=\"http://www.w3.org/2000/svg\" xmlns:xlink=\"http://www.w3.org/1999/xlink\" contentScriptType=\"application/ecmascript\" contentStyleType=\"text/css\" height=\"778px\" preserveAspectRatio=\"none\" style=\"width:306px;height:778px;\" version=\"1.1\" viewBox=\"0 0 306 778\" width=\"306px\" zoomAndPan=\"magnify\"><defs><filter height=\"300%\" id=\"f13pvk41ej3g2t\" width=\"300%\" x=\"-1\" y=\"-1\"><feGaussianBlur result=\"blurOut\" stdDeviation=\"2.0\"/><feColorMatrix in=\"blurOut\" result=\"blurOut2\" type=\"matrix\" values=\"0 0 0 0 0 0 0 0 0 0 0 0 0 0 0 0 0 0 .4 0\"/><feOffset dx=\"4.0\" dy=\"4.0\" in=\"blurOut2\" result=\"blurOut3\"/><feBlend in=\"SourceGraphic\" in2=\"blurOut3\" mode=\"normal\"/></filter></defs><g><!--MD5=[fbc87193dbaf4d95561dea2c320d4a47]\n",
       "cluster E1--><a href=\"psysml:538b1265-15ae-4afd-8dd2-ef0f57b41a53\" target=\"_top\" title=\"psysml:538b1265-15ae-4afd-8dd2-ef0f57b41a53\" xlink:actuate=\"onRequest\" xlink:href=\"psysml:538b1265-15ae-4afd-8dd2-ef0f57b41a53\" xlink:show=\"new\" xlink:title=\"psysml:538b1265-15ae-4afd-8dd2-ef0f57b41a53\" xlink:type=\"simple\"><polygon fill=\"#FFFFFF\" filter=\"url(#f13pvk41ej3g2t)\" points=\"16,6,80,6,87,28.2969,284,28.2969,284,766,16,766,16,6\" style=\"stroke: #000000; stroke-width: 1.5;\"/><line style=\"stroke: #000000; stroke-width: 1.5;\" x1=\"16\" x2=\"87\" y1=\"28.2969\" y2=\"28.2969\"/><text fill=\"#000000\" font-family=\"sans-serif\" font-size=\"14\" font-weight=\"bold\" lengthAdjust=\"spacingAndGlyphs\" textLength=\"58\" x=\"20\" y=\"20.9951\">PartTest</text></a><!--MD5=[b4997ac47864f28c2f74865a473b2911]\n",
       "class E2--><a href=\"psysml:2c090466-3d5c-4444-ba17-090921dc2443\" target=\"_top\" title=\"psysml:2c090466-3d5c-4444-ba17-090921dc2443\" xlink:actuate=\"onRequest\" xlink:href=\"psysml:2c090466-3d5c-4444-ba17-090921dc2443\" xlink:show=\"new\" xlink:title=\"psysml:2c090466-3d5c-4444-ba17-090921dc2443\" xlink:type=\"simple\"><rect fill=\"#FEFECE\" filter=\"url(#f13pvk41ej3g2t)\" height=\"45.9375\" id=\"E2\" rx=\"10\" ry=\"10\" style=\"stroke: #A80036; stroke-width: 1.5;\" width=\"68\" x=\"99\" y=\"41\"/><ellipse cx=\"114\" cy=\"59.9688\" fill=\"#32CD32\" rx=\"11\" ry=\"11\" style=\"stroke: #A80036; stroke-width: 1.0;\"/><path d=\"M110.8125,64.9688 L110.8125,54.375 L114.4219,54.375 Q115.6406,54.375 116.4375,54.8125 Q117.2344,55.2344 117.6094,55.9375 Q118,56.6406 118,57.4844 Q118,58.3281 117.625,59.0156 Q117.2656,59.7031 116.4688,60.125 Q115.6875,60.5313 114.5,60.5313 L112.7656,60.5313 L112.7656,64.9688 L110.8125,64.9688 Z M112.7656,58.9375 L114.375,58.9375 Q115.1875,58.9375 115.6094,58.5313 Q116.0313,58.125 116.0313,57.4844 Q116.0313,56.8594 115.6094,56.4531 Q115.1875,56.0469 114.3906,56.0469 L112.7656,56.0469 L112.7656,58.9375 Z \"/><text fill=\"#000000\" font-family=\"sans-serif\" font-size=\"12\" font-style=\"italic\" lengthAdjust=\"spacingAndGlyphs\" textLength=\"40\" x=\"126\" y=\"57.1387\">«part»</text><text fill=\"#000000\" font-family=\"sans-serif\" font-size=\"12\" lengthAdjust=\"spacingAndGlyphs\" textLength=\"20\" x=\"134\" y=\"71.1074\">f: A</text><line style=\"stroke: #A80036; stroke-width: 1.5;\" x1=\"100\" x2=\"166\" y1=\"78.9375\" y2=\"78.9375\"/></a><!--MD5=[09b614a08d8cba4a07c9adeb5e0fee81]\n",
       "class E3--><a href=\"psysml:d1b7cfcb-f6eb-4e6c-b82e-69976e6757f6\" target=\"_top\" title=\"psysml:d1b7cfcb-f6eb-4e6c-b82e-69976e6757f6\" xlink:actuate=\"onRequest\" xlink:href=\"psysml:d1b7cfcb-f6eb-4e6c-b82e-69976e6757f6\" xlink:show=\"new\" xlink:title=\"psysml:d1b7cfcb-f6eb-4e6c-b82e-69976e6757f6\" xlink:type=\"simple\"><rect fill=\"#FEFECE\" filter=\"url(#f13pvk41ej3g2t)\" height=\"82.4141\" id=\"E3\" style=\"stroke: #A80036; stroke-width: 1.5;\" width=\"63\" x=\"101.5\" y=\"148\"/><ellipse cx=\"126.85\" cy=\"164\" fill=\"#008000\" rx=\"11\" ry=\"11\" style=\"stroke: #A80036; stroke-width: 1.0;\"/><path d=\"M123.725,169 L123.725,158.4063 L126.9594,158.4063 Q128.8656,158.4063 129.7719,159.1563 Q130.6938,159.9063 130.6938,161.0781 Q130.6938,161.7656 130.3031,162.4219 Q129.9281,163.0781 129.2094,163.375 Q130.0688,163.75 130.5844,164.4375 Q131.1,165.125 131.1,165.9375 Q131.1,167.3125 130.0688,168.1563 Q129.0531,169 126.9438,169 L123.725,169 Z M125.6469,162.6406 L126.8031,162.6406 Q127.9281,162.6406 128.3344,162.2656 Q128.7563,161.875 128.7563,161.25 Q128.7563,160.6719 128.3344,160.3125 Q127.9125,159.9531 126.975,159.9531 L125.6469,159.9531 L125.6469,162.6406 Z M125.6469,167.4219 L127.1469,167.4219 Q128.0531,167.4219 128.5844,167.0313 Q129.1156,166.6406 129.1156,165.8906 Q129.1156,165.125 128.6156,164.6563 Q128.1156,164.1719 126.85,164.1719 L125.6469,164.1719 L125.6469,167.4219 Z \"/><text fill=\"#000000\" font-family=\"sans-serif\" font-size=\"12\" lengthAdjust=\"spacingAndGlyphs\" textLength=\"8\" x=\"143.15\" y=\"168.1543\">A</text><line style=\"stroke: #A80036; stroke-width: 1.5;\" x1=\"102.5\" x2=\"163.5\" y1=\"180\" y2=\"180\"/><text fill=\"#000000\" font-family=\"sans-serif\" font-size=\"11\" lengthAdjust=\"spacingAndGlyphs\" textLength=\"6\" x=\"107.5\" y=\"211.0151\">x</text><text fill=\"#000000\" font-family=\"sans-serif\" font-size=\"11\" lengthAdjust=\"spacingAndGlyphs\" textLength=\"44\" x=\"107.5\" y=\"223.8198\">y:&gt; A::x</text><line style=\"stroke: #A80036; stroke-width: 1.0;\" x1=\"102.5\" x2=\"105.5\" y1=\"194.4023\" y2=\"194.4023\"/><text fill=\"#000000\" font-family=\"sans-serif\" font-size=\"11\" lengthAdjust=\"spacingAndGlyphs\" textLength=\"55\" x=\"105.5\" y=\"197.7104\">attributes</text><line style=\"stroke: #A80036; stroke-width: 1.0;\" x1=\"160.5\" x2=\"163.5\" y1=\"194.4023\" y2=\"194.4023\"/></a><!--MD5=[ebbe1d658d1005bcc118a6aa81145e00]\n",
       "class E4--><a href=\"psysml:1aa2f075-dfbc-4c28-975e-f9b78ce76d6b\" target=\"_top\" title=\"psysml:1aa2f075-dfbc-4c28-975e-f9b78ce76d6b\" xlink:actuate=\"onRequest\" xlink:href=\"psysml:1aa2f075-dfbc-4c28-975e-f9b78ce76d6b\" xlink:show=\"new\" xlink:title=\"psysml:1aa2f075-dfbc-4c28-975e-f9b78ce76d6b\" xlink:type=\"simple\"><rect fill=\"#FEFECE\" filter=\"url(#f13pvk41ej3g2t)\" height=\"45.9375\" id=\"E4\" rx=\"10\" ry=\"10\" style=\"stroke: #A80036; stroke-width: 1.5;\" width=\"68\" x=\"32\" y=\"367\"/><ellipse cx=\"47\" cy=\"385.9688\" fill=\"#32CD32\" rx=\"11\" ry=\"11\" style=\"stroke: #A80036; stroke-width: 1.0;\"/><path d=\"M43.8125,390.9688 L43.8125,380.375 L47.4219,380.375 Q48.6406,380.375 49.4375,380.8125 Q50.2344,381.2344 50.6094,381.9375 Q51,382.6406 51,383.4844 Q51,384.3281 50.625,385.0156 Q50.2656,385.7031 49.4688,386.125 Q48.6875,386.5313 47.5,386.5313 L45.7656,386.5313 L45.7656,390.9688 L43.8125,390.9688 Z M45.7656,384.9375 L47.375,384.9375 Q48.1875,384.9375 48.6094,384.5313 Q49.0313,384.125 49.0313,383.4844 Q49.0313,382.8594 48.6094,382.4531 Q48.1875,382.0469 47.3906,382.0469 L45.7656,382.0469 L45.7656,384.9375 Z \"/><text fill=\"#000000\" font-family=\"sans-serif\" font-size=\"12\" font-style=\"italic\" lengthAdjust=\"spacingAndGlyphs\" textLength=\"40\" x=\"59\" y=\"383.1387\">«part»</text><text fill=\"#000000\" font-family=\"sans-serif\" font-size=\"12\" lengthAdjust=\"spacingAndGlyphs\" textLength=\"24\" x=\"65\" y=\"397.1074\">b: B</text><line style=\"stroke: #A80036; stroke-width: 1.5;\" x1=\"33\" x2=\"99\" y1=\"404.9375\" y2=\"404.9375\"/></a><!--MD5=[270fce915f116d4de14055a7c1d9a0f3]\n",
       "class E5--><a href=\"psysml:6b6fc427-035b-4f92-af2f-ae5f46ec13e5\" target=\"_top\" title=\"psysml:6b6fc427-035b-4f92-af2f-ae5f46ec13e5\" xlink:actuate=\"onRequest\" xlink:href=\"psysml:6b6fc427-035b-4f92-af2f-ae5f46ec13e5\" xlink:show=\"new\" xlink:title=\"psysml:6b6fc427-035b-4f92-af2f-ae5f46ec13e5\" xlink:type=\"simple\"><rect fill=\"#FEFECE\" filter=\"url(#f13pvk41ej3g2t)\" height=\"45.9375\" id=\"E5\" rx=\"10\" ry=\"10\" style=\"stroke: #A80036; stroke-width: 1.5;\" width=\"68\" x=\"156\" y=\"291\"/><ellipse cx=\"171\" cy=\"309.9688\" fill=\"#0000FF\" rx=\"11\" ry=\"11\" style=\"stroke: #A80036; stroke-width: 1.0;\"/><path d=\"M167.8125,314.9688 L167.8125,304.375 L171.4219,304.375 Q172.6406,304.375 173.4375,304.8125 Q174.2344,305.2344 174.6094,305.9375 Q175,306.6406 175,307.4844 Q175,308.3281 174.625,309.0156 Q174.2656,309.7031 173.4688,310.125 Q172.6875,310.5313 171.5,310.5313 L169.7656,310.5313 L169.7656,314.9688 L167.8125,314.9688 Z M169.7656,308.9375 L171.375,308.9375 Q172.1875,308.9375 172.6094,308.5313 Q173.0313,308.125 173.0313,307.4844 Q173.0313,306.8594 172.6094,306.4531 Q172.1875,306.0469 171.3906,306.0469 L169.7656,306.0469 L169.7656,308.9375 Z \"/><text fill=\"#000000\" font-family=\"sans-serif\" font-size=\"12\" font-style=\"italic\" lengthAdjust=\"spacingAndGlyphs\" textLength=\"40\" x=\"183\" y=\"307.1387\">«port»</text><text fill=\"#000000\" font-family=\"sans-serif\" font-size=\"12\" lengthAdjust=\"spacingAndGlyphs\" textLength=\"23\" x=\"189.5\" y=\"321.1074\">c: C</text><line style=\"stroke: #A80036; stroke-width: 1.5;\" x1=\"157\" x2=\"223\" y1=\"328.9375\" y2=\"328.9375\"/></a><!--MD5=[60a26617385b1d2d0262a64233df1f8d]\n",
       "class E6--><a href=\"psysml:286e6ef4-92d4-4c1b-a17d-09881da7698b\" target=\"_top\" title=\"psysml:286e6ef4-92d4-4c1b-a17d-09881da7698b\" xlink:actuate=\"onRequest\" xlink:href=\"psysml:286e6ef4-92d4-4c1b-a17d-09881da7698b\" xlink:show=\"new\" xlink:title=\"psysml:286e6ef4-92d4-4c1b-a17d-09881da7698b\" xlink:type=\"simple\"><rect fill=\"#FEFECE\" filter=\"url(#f13pvk41ej3g2t)\" height=\"40\" id=\"E6\" style=\"stroke: #A80036; stroke-width: 1.5;\" width=\"40\" x=\"130\" y=\"596\"/><ellipse cx=\"145\" cy=\"612\" fill=\"#008000\" rx=\"11\" ry=\"11\" style=\"stroke: #A80036; stroke-width: 1.0;\"/><path d=\"M141.875,617 L141.875,606.4063 L145.1094,606.4063 Q147.0156,606.4063 147.9219,607.1563 Q148.8438,607.9063 148.8438,609.0781 Q148.8438,609.7656 148.4531,610.4219 Q148.0781,611.0781 147.3594,611.375 Q148.2188,611.75 148.7344,612.4375 Q149.25,613.125 149.25,613.9375 Q149.25,615.3125 148.2188,616.1563 Q147.2031,617 145.0938,617 L141.875,617 Z M143.7969,610.6406 L144.9531,610.6406 Q146.0781,610.6406 146.4844,610.2656 Q146.9063,609.875 146.9063,609.25 Q146.9063,608.6719 146.4844,608.3125 Q146.0625,607.9531 145.125,607.9531 L143.7969,607.9531 L143.7969,610.6406 Z M143.7969,615.4219 L145.2969,615.4219 Q146.2031,615.4219 146.7344,615.0313 Q147.2656,614.6406 147.2656,613.8906 Q147.2656,613.125 146.7656,612.6563 Q146.2656,612.1719 145,612.1719 L143.7969,612.1719 L143.7969,615.4219 Z \"/><text fill=\"#000000\" font-family=\"sans-serif\" font-size=\"12\" font-style=\"italic\" lengthAdjust=\"spacingAndGlyphs\" textLength=\"8\" x=\"159\" y=\"616.1543\">B</text><line style=\"stroke: #A80036; stroke-width: 1.5;\" x1=\"131\" x2=\"169\" y1=\"628\" y2=\"628\"/></a><!--MD5=[2156ba9850f5573cc1fc38a6a4b2f02b]\n",
       "class E7--><a href=\"psysml:215e87e2-ee75-46c7-98ea-4ce8794cdbad\" target=\"_top\" title=\"psysml:215e87e2-ee75-46c7-98ea-4ce8794cdbad\" xlink:actuate=\"onRequest\" xlink:href=\"psysml:215e87e2-ee75-46c7-98ea-4ce8794cdbad\" xlink:show=\"new\" xlink:title=\"psysml:215e87e2-ee75-46c7-98ea-4ce8794cdbad\" xlink:type=\"simple\"><rect fill=\"#FEFECE\" filter=\"url(#f13pvk41ej3g2t)\" height=\"45.9375\" id=\"E7\" rx=\"10\" ry=\"10\" style=\"stroke: #A80036; stroke-width: 1.5;\" width=\"68\" x=\"200\" y=\"700.5\"/><ellipse cx=\"215\" cy=\"719.4688\" fill=\"#32CD32\" rx=\"11\" ry=\"11\" style=\"stroke: #A80036; stroke-width: 1.0;\"/><path d=\"M211.8125,724.4688 L211.8125,713.875 L215.4219,713.875 Q216.6406,713.875 217.4375,714.3125 Q218.2344,714.7344 218.6094,715.4375 Q219,716.1406 219,716.9844 Q219,717.8281 218.625,718.5156 Q218.2656,719.2031 217.4688,719.625 Q216.6875,720.0313 215.5,720.0313 L213.7656,720.0313 L213.7656,724.4688 L211.8125,724.4688 Z M213.7656,718.4375 L215.375,718.4375 Q216.1875,718.4375 216.6094,718.0313 Q217.0313,717.625 217.0313,716.9844 Q217.0313,716.3594 216.6094,715.9531 Q216.1875,715.5469 215.3906,715.5469 L213.7656,715.5469 L213.7656,718.4375 Z \"/><text fill=\"#000000\" font-family=\"sans-serif\" font-size=\"12\" font-style=\"italic\" lengthAdjust=\"spacingAndGlyphs\" textLength=\"40\" x=\"227\" y=\"716.6387\">«part»</text><text fill=\"#000000\" font-family=\"sans-serif\" font-size=\"12\" font-style=\"italic\" lengthAdjust=\"spacingAndGlyphs\" textLength=\"8\" x=\"233\" y=\"730.6074\">a</text><text fill=\"#000000\" font-family=\"sans-serif\" font-size=\"12\" lengthAdjust=\"spacingAndGlyphs\" textLength=\"16\" x=\"241\" y=\"730.6074\">: A</text><line style=\"stroke: #A80036; stroke-width: 1.5;\" x1=\"201\" x2=\"267\" y1=\"738.4375\" y2=\"738.4375\"/></a><!--MD5=[b9389687b975829384b498ac4b7476b2]\n",
       "class E8--><a href=\"psysml:27d37788-2b75-4a5c-b4fe-9553c2483e93\" target=\"_top\" title=\"psysml:27d37788-2b75-4a5c-b4fe-9553c2483e93\" xlink:actuate=\"onRequest\" xlink:href=\"psysml:27d37788-2b75-4a5c-b4fe-9553c2483e93\" xlink:show=\"new\" xlink:title=\"psysml:27d37788-2b75-4a5c-b4fe-9553c2483e93\" xlink:type=\"simple\"><rect fill=\"#FEFECE\" filter=\"url(#f13pvk41ej3g2t)\" height=\"45.9375\" id=\"E8\" rx=\"10\" ry=\"10\" style=\"stroke: #A80036; stroke-width: 1.5;\" width=\"68\" x=\"32\" y=\"700.5\"/><ellipse cx=\"47\" cy=\"719.4688\" fill=\"#0000FF\" rx=\"11\" ry=\"11\" style=\"stroke: #A80036; stroke-width: 1.0;\"/><path d=\"M43.8125,724.4688 L43.8125,713.875 L47.4219,713.875 Q48.6406,713.875 49.4375,714.3125 Q50.2344,714.7344 50.6094,715.4375 Q51,716.1406 51,716.9844 Q51,717.8281 50.625,718.5156 Q50.2656,719.2031 49.4688,719.625 Q48.6875,720.0313 47.5,720.0313 L45.7656,720.0313 L45.7656,724.4688 L43.8125,724.4688 Z M45.7656,718.4375 L47.375,718.4375 Q48.1875,718.4375 48.6094,718.0313 Q49.0313,717.625 49.0313,716.9844 Q49.0313,716.3594 48.6094,715.9531 Q48.1875,715.5469 47.3906,715.5469 L45.7656,715.5469 L45.7656,718.4375 Z \"/><text fill=\"#000000\" font-family=\"sans-serif\" font-size=\"12\" font-style=\"italic\" lengthAdjust=\"spacingAndGlyphs\" textLength=\"40\" x=\"59\" y=\"716.6387\">«port»</text><text fill=\"#000000\" font-family=\"sans-serif\" font-size=\"12\" lengthAdjust=\"spacingAndGlyphs\" textLength=\"32\" x=\"61\" y=\"730.6074\">x: ~C</text><line style=\"stroke: #A80036; stroke-width: 1.5;\" x1=\"33\" x2=\"99\" y1=\"738.4375\" y2=\"738.4375\"/></a><!--MD5=[96f4274e9e20536e775497830990834d]\n",
       "class E10--><a href=\"psysml:3d6805d2-0d33-47df-af88-6771a9177656\" target=\"_top\" title=\"psysml:3d6805d2-0d33-47df-af88-6771a9177656\" xlink:actuate=\"onRequest\" xlink:href=\"psysml:3d6805d2-0d33-47df-af88-6771a9177656\" xlink:show=\"new\" xlink:title=\"psysml:3d6805d2-0d33-47df-af88-6771a9177656\" xlink:type=\"simple\"><rect fill=\"#FEFECE\" filter=\"url(#f13pvk41ej3g2t)\" height=\"75.5469\" id=\"E10\" style=\"stroke: #A80036; stroke-width: 1.5;\" width=\"110\" x=\"102\" y=\"443\"/><ellipse cx=\"123.3\" cy=\"461.9688\" fill=\"#A52A2A\" rx=\"11\" ry=\"11\" style=\"stroke: #A80036; stroke-width: 1.0;\"/><path d=\"M120.5188,466.9688 L120.5188,456.375 L123.2531,456.375 Q124.6438,456.375 125.4094,456.7656 Q126.1906,457.1406 126.7219,457.8438 Q127.2531,458.5469 127.55,459.5469 Q127.8469,460.5313 127.8469,461.75 Q127.8,463.3438 127.3,464.5313 Q126.8156,465.7031 125.7688,466.3438 Q124.7375,466.9688 123.05,466.9688 L120.5188,466.9688 Z M122.3781,465.4688 L123.0031,465.4688 Q124.0813,465.4688 124.7375,465.0156 Q125.3938,464.5625 125.675,463.7344 Q125.9719,462.8906 125.9563,461.7656 Q125.9563,460.5938 125.7063,459.7344 Q125.4563,458.8594 124.8469,458.3906 Q124.2375,457.9063 123.1906,457.9063 L122.3781,457.9063 L122.3781,465.4688 Z \"/><text fill=\"#000000\" font-family=\"sans-serif\" font-size=\"12\" font-style=\"italic\" lengthAdjust=\"spacingAndGlyphs\" textLength=\"68\" x=\"136.7\" y=\"459.1387\">«port  def»</text><text fill=\"#000000\" font-family=\"sans-serif\" font-size=\"12\" lengthAdjust=\"spacingAndGlyphs\" textLength=\"8\" x=\"166.7\" y=\"473.1074\">C</text><line style=\"stroke: #A80036; stroke-width: 1.5;\" x1=\"103\" x2=\"211\" y1=\"480.9375\" y2=\"480.9375\"/><text fill=\"#000000\" font-family=\"sans-serif\" font-size=\"11\" font-weight=\"bold\" lengthAdjust=\"spacingAndGlyphs\" textLength=\"10\" x=\"108\" y=\"511.9526\">in</text><text fill=\"#000000\" font-family=\"sans-serif\" font-size=\"11\" lengthAdjust=\"spacingAndGlyphs\" textLength=\"37\" x=\"122\" y=\"511.9526\">y: A, B</text><text fill=\"#000000\" font-family=\"sans-serif\" font-size=\"11\" font-weight=\"bold\" lengthAdjust=\"spacingAndGlyphs\" textLength=\"27\" x=\"163\" y=\"511.9526\">alias</text><text fill=\"#000000\" font-family=\"sans-serif\" font-size=\"11\" lengthAdjust=\"spacingAndGlyphs\" textLength=\"12\" x=\"194\" y=\"511.9526\">z2</text><line style=\"stroke: #A80036; stroke-width: 1.0;\" x1=\"103\" x2=\"123.5\" y1=\"495.3398\" y2=\"495.3398\"/><text fill=\"#000000\" font-family=\"sans-serif\" font-size=\"11\" lengthAdjust=\"spacingAndGlyphs\" textLength=\"67\" x=\"123.5\" y=\"498.6479\">parameters</text><line style=\"stroke: #A80036; stroke-width: 1.0;\" x1=\"190.5\" x2=\"211\" y1=\"495.3398\" y2=\"495.3398\"/></a><a href=\"psysml:e555f4d2-547d-4756-8b33-5fda3be7b359\" target=\"_top\" title=\"psysml:e555f4d2-547d-4756-8b33-5fda3be7b359\" xlink:actuate=\"onRequest\" xlink:href=\"psysml:e555f4d2-547d-4756-8b33-5fda3be7b359\" xlink:show=\"new\" xlink:title=\"psysml:e555f4d2-547d-4756-8b33-5fda3be7b359\" xlink:type=\"simple\"><polygon fill=\"#FFFFFF\" filter=\"url(#f13pvk41ej3g2t)\" points=\"135.5,697,150.5,697,157.5,719.2969,164.5,719.2969,164.5,749.5938,135.5,749.5938,135.5,697\" style=\"stroke: #000000; stroke-width: 1.5;\"/><line style=\"stroke: #000000; stroke-width: 1.5;\" x1=\"135.5\" x2=\"157.5\" y1=\"719.2969\" y2=\"719.2969\"/><text fill=\"#000000\" font-family=\"sans-serif\" font-size=\"14\" font-weight=\"bold\" lengthAdjust=\"spacingAndGlyphs\" textLength=\"9\" x=\"139.5\" y=\"711.9951\">P</text></a><!--MD5=[2720a5a1f2c3fca2055b230370638851]\n",
       "link E2 to E3--><a href=\"psysml:02703352-f69e-4a4b-893d-89c09588fdfd\" target=\"_top\" title=\"psysml:02703352-f69e-4a4b-893d-89c09588fdfd\" xlink:actuate=\"onRequest\" xlink:href=\"psysml:02703352-f69e-4a4b-893d-89c09588fdfd\" xlink:show=\"new\" xlink:title=\"psysml:02703352-f69e-4a4b-893d-89c09588fdfd\" xlink:type=\"simple\"><path d=\"M133,87.27 C133,98.76 133,113.37 133,127.88 \" fill=\"none\" id=\"E2-&gt;E3\" style=\"stroke: #A80036; stroke-width: 1.0;\"/><polygon fill=\"#FFFFFF\" points=\"133,147.98,126,128.98,140,128.98,133,147.98\" style=\"stroke: #A80036; stroke-width: 1.0;\"/><ellipse cx=\"128\" cy=\"123.28\" fill=\"#A80036\" rx=\"2\" ry=\"2\" style=\"stroke: #A80036; stroke-width: 1.0;\"/><ellipse cx=\"138\" cy=\"123.28\" fill=\"#A80036\" rx=\"2\" ry=\"2\" style=\"stroke: #A80036; stroke-width: 1.0;\"/></a><!--MD5=[4672eba38e49728da53d11aeb285b987]\n",
       "reverse link E3 to E4--><a href=\"psysml:e82a868e-a957-4308-9aca-5f2e1a046a10\" target=\"_top\" title=\"psysml:e82a868e-a957-4308-9aca-5f2e1a046a10\" xlink:actuate=\"onRequest\" xlink:href=\"psysml:e82a868e-a957-4308-9aca-5f2e1a046a10\" xlink:show=\"new\" xlink:title=\"psysml:e82a868e-a957-4308-9aca-5f2e1a046a10\" xlink:type=\"simple\"><path d=\"M93.85,240.15 C83.87,255.62 74.44,273.27 69,291 C61.31,316.06 61.79,346.43 63.39,366.66 \" fill=\"none\" id=\"E3&lt;-E4\" style=\"stroke: #A80036; stroke-width: 1.0;\"/><polygon fill=\"#A80036\" points=\"101.17,229.3,94.5001,232.041,94.4649,239.252,101.1348,236.511,101.17,229.3\" style=\"stroke: #A80036; stroke-width: 1.0;\"/><text fill=\"#000000\" font-family=\"sans-serif\" font-size=\"13\" lengthAdjust=\"spacingAndGlyphs\" textLength=\"8\" x=\"53.6962\" y=\"355.8492\">1</text></a><!--MD5=[191cde3d490a3f6d7bb551fe3ddca469]\n",
       "reverse link E3 to E5--><a href=\"psysml:01f43deb-5863-4903-863e-c9a23e0a1180\" target=\"_top\" title=\"psysml:01f43deb-5863-4903-863e-c9a23e0a1180\" xlink:actuate=\"onRequest\" xlink:href=\"psysml:01f43deb-5863-4903-863e-c9a23e0a1180\" xlink:show=\"new\" xlink:title=\"psysml:01f43deb-5863-4903-863e-c9a23e0a1180\" xlink:type=\"simple\"><path d=\"M157.29,242.42 C165.18,259.43 173.5,277.39 179.78,290.94 \" fill=\"none\" id=\"E3&lt;-E5\" style=\"stroke: #A80036; stroke-width: 1.0;\"/><polygon fill=\"#FFFFFF\" points=\"151.66,230.27,150.548,237.3948,156.6971,241.1617,157.8091,234.0368,151.66,230.27\" style=\"stroke: #A80036; stroke-width: 1.0;\"/><text fill=\"#000000\" font-family=\"sans-serif\" font-size=\"13\" lengthAdjust=\"spacingAndGlyphs\" textLength=\"8\" x=\"167.9584\" y=\"279.8201\">1</text></a><!--MD5=[79568f1e445c3877b6a54524624ccc7d]\n",
       "link E4 to E6--><a href=\"psysml:6f8c5931-99ab-4f3d-9640-f9d86b709835\" target=\"_top\" title=\"psysml:6f8c5931-99ab-4f3d-9640-f9d86b709835\" xlink:actuate=\"onRequest\" xlink:href=\"psysml:6f8c5931-99ab-4f3d-9640-f9d86b709835\" xlink:show=\"new\" xlink:title=\"psysml:6f8c5931-99ab-4f3d-9640-f9d86b709835\" xlink:type=\"simple\"><path d=\"M66.32,413.04 C67.36,439.17 71.23,483.62 85,519 C93.5,540.83 107.71,562.65 120.67,579.97 \" fill=\"none\" id=\"E4-&gt;E6\" style=\"stroke: #A80036; stroke-width: 1.0;\"/><polygon fill=\"#FFFFFF\" points=\"133.21,595.89,115.9569,585.2913,126.9571,576.6312,133.21,595.89\" style=\"stroke: #A80036; stroke-width: 1.0;\"/><ellipse cx=\"114.0025\" cy=\"579.5755\" fill=\"#A80036\" rx=\"2\" ry=\"2\" style=\"stroke: #A80036; stroke-width: 1.0;\"/><ellipse cx=\"121.8597\" cy=\"573.3897\" fill=\"#A80036\" rx=\"2\" ry=\"2\" style=\"stroke: #A80036; stroke-width: 1.0;\"/></a><!--MD5=[3f50a3473f1dfb74d3f76443e03635af]\n",
       "reverse link E6 to E7--><a href=\"psysml:ef71999d-b74e-4e5c-b2f7-aebb94a9d32a\" target=\"_top\" title=\"psysml:ef71999d-b74e-4e5c-b2f7-aebb94a9d32a\" xlink:actuate=\"onRequest\" xlink:href=\"psysml:ef71999d-b74e-4e5c-b2f7-aebb94a9d32a\" xlink:show=\"new\" xlink:title=\"psysml:ef71999d-b74e-4e5c-b2f7-aebb94a9d32a\" xlink:type=\"simple\"><path d=\"M173.78,646.86 C187.32,663.87 204,684.82 216.37,700.35 \" fill=\"none\" id=\"E6&lt;-E7\" style=\"stroke: #A80036; stroke-width: 1.0;\"/><polygon fill=\"#A80036\" points=\"165.41,636.35,166.0125,643.5359,172.8773,645.7435,172.2749,638.5577,165.41,636.35\" style=\"stroke: #A80036; stroke-width: 1.0;\"/><text fill=\"#000000\" font-family=\"sans-serif\" font-size=\"13\" lengthAdjust=\"spacingAndGlyphs\" textLength=\"8\" x=\"202.8273\" y=\"689.5879\">1</text></a><!--MD5=[14ccda38c055a5c0da953d572bc50960]\n",
       "link E7 to E3--><a href=\"psysml:d4047a87-2764-4bb9-9711-6fad77bbdb97\" target=\"_top\" title=\"psysml:d4047a87-2764-4bb9-9711-6fad77bbdb97\" xlink:actuate=\"onRequest\" xlink:href=\"psysml:d4047a87-2764-4bb9-9711-6fad77bbdb97\" xlink:show=\"new\" xlink:title=\"psysml:d4047a87-2764-4bb9-9711-6fad77bbdb97\" xlink:type=\"simple\"><path d=\"M242.8,700.25 C250.35,679.17 260,646.43 260,617 C260,313 260,313 260,313 C260,267.91 218.18,234.07 182.54,213.41 \" fill=\"none\" id=\"E7-&gt;E3\" style=\"stroke: #A80036; stroke-width: 1.0;\"/><polygon fill=\"#FFFFFF\" points=\"164.72,203.82,184.7675,206.6656,178.1295,218.9918,164.72,203.82\" style=\"stroke: #A80036; stroke-width: 1.0;\"/><ellipse cx=\"188.8378\" cy=\"211.1291\" fill=\"#A80036\" rx=\"2\" ry=\"2\" style=\"stroke: #A80036; stroke-width: 1.0;\"/><ellipse cx=\"184.0964\" cy=\"219.9336\" fill=\"#A80036\" rx=\"2\" ry=\"2\" style=\"stroke: #A80036; stroke-width: 1.0;\"/></a><!--MD5=[f4cf0736d43fd73c4ef68817c49d37d5]\n",
       "reverse link E6 to E8--><a href=\"psysml:e9c4c173-85e4-4370-85e4-1c8f2eb4171b\" target=\"_top\" title=\"psysml:e9c4c173-85e4-4370-85e4-1c8f2eb4171b\" xlink:actuate=\"onRequest\" xlink:href=\"psysml:e9c4c173-85e4-4370-85e4-1c8f2eb4171b\" xlink:show=\"new\" xlink:title=\"psysml:e9c4c173-85e4-4370-85e4-1c8f2eb4171b\" xlink:type=\"simple\"><path d=\"M126.22,646.86 C112.68,663.87 96,684.82 83.63,700.35 \" fill=\"none\" id=\"E6&lt;-E8\" style=\"stroke: #A80036; stroke-width: 1.0;\"/><polygon fill=\"#FFFFFF\" points=\"134.59,636.35,127.7251,638.5577,127.1227,645.7435,133.9875,643.5359,134.59,636.35\" style=\"stroke: #A80036; stroke-width: 1.0;\"/><text fill=\"#000000\" font-family=\"sans-serif\" font-size=\"13\" lengthAdjust=\"spacingAndGlyphs\" textLength=\"8\" x=\"79.1227\" y=\"689.5879\">1</text></a><!--MD5=[e88d06e5a652d73a6b19930eefe025a8]\n",
       "reverse link E6 to E9--><a href=\"psysml:ab2aae6d-159f-4d7a-a99e-78671a533366\" target=\"_top\" title=\"psysml:ab2aae6d-159f-4d7a-a99e-78671a533366\" xlink:actuate=\"onRequest\" xlink:href=\"psysml:ab2aae6d-159f-4d7a-a99e-78671a533366\" xlink:show=\"new\" xlink:title=\"psysml:ab2aae6d-159f-4d7a-a99e-78671a533366\" xlink:type=\"simple\"><path d=\"M150,651.78 C150,666.51 150,683.35 150,696.91 \" fill=\"none\" id=\"E6&lt;-E9\" style=\"stroke: #A80036; stroke-width: 1.0;\"/><ellipse cx=\"150\" cy=\"644.35\" fill=\"#FFFFFF\" rx=\"8\" ry=\"8\" style=\"stroke: #A80036; stroke-width: 1.0;\"/><line style=\"stroke: #A80036; stroke-width: 1.0;\" x1=\"150\" x2=\"150\" y1=\"652.35\" y2=\"636.35\"/><line style=\"stroke: #A80036; stroke-width: 1.0;\" x1=\"142\" x2=\"158\" y1=\"644.35\" y2=\"644.35\"/></a><!--MD5=[f78a29d5932556fa1060671a2a6507d8]\n",
       "link E5 to E10--><a href=\"psysml:09169cbe-938d-4307-a584-0b24a5ad62ce\" target=\"_top\" title=\"psysml:09169cbe-938d-4307-a584-0b24a5ad62ce\" xlink:actuate=\"onRequest\" xlink:href=\"psysml:09169cbe-938d-4307-a584-0b24a5ad62ce\" xlink:show=\"new\" xlink:title=\"psysml:09169cbe-938d-4307-a584-0b24a5ad62ce\" xlink:type=\"simple\"><path d=\"M185.55,337.25 C181.17,359.16 174.29,393.53 168.39,423.05 \" fill=\"none\" id=\"E5-&gt;E10\" style=\"stroke: #A80036; stroke-width: 1.0;\"/><polygon fill=\"#FFFFFF\" points=\"164.4,442.98,161.2677,422.9753,174.9951,425.7247,164.4,442.98\" style=\"stroke: #A80036; stroke-width: 1.0;\"/><ellipse cx=\"164.3482\" cy=\"417.7791\" fill=\"#A80036\" rx=\"2\" ry=\"2\" style=\"stroke: #A80036; stroke-width: 1.0;\"/><ellipse cx=\"174.1535\" cy=\"419.743\" fill=\"#A80036\" rx=\"2\" ry=\"2\" style=\"stroke: #A80036; stroke-width: 1.0;\"/></a><!--MD5=[8e04057e7b3cbc0dca4fc78ea351e2da]\n",
       "reverse link E10 to E3--><a href=\"psysml:75696b56-911c-4e7f-a413-6399c7af4d3a\" target=\"_top\" title=\"psysml:75696b56-911c-4e7f-a413-6399c7af4d3a\" xlink:actuate=\"onRequest\" xlink:href=\"psysml:75696b56-911c-4e7f-a413-6399c7af4d3a\" xlink:show=\"new\" xlink:title=\"psysml:75696b56-911c-4e7f-a413-6399c7af4d3a\" xlink:type=\"simple\"><path d=\"M145.22,430.15 C139.36,402.82 132.92,368.24 130,337 C128.1,316.64 129.7,311.44 130,291 C130.3,271 130.92,248.79 131.53,230.29 \" fill=\"none\" id=\"E10&lt;-E3\" style=\"stroke: #A80036; stroke-width: 1.0;\"/><polygon fill=\"#FFFFFF\" points=\"148.03,442.94,150.65,436.2217,145.4562,431.2193,142.8362,437.9376,148.03,442.94\" style=\"stroke: #A80036; stroke-width: 1.0;\"/><text fill=\"#000000\" font-family=\"sans-serif\" font-size=\"13\" lengthAdjust=\"spacingAndGlyphs\" textLength=\"7\" x=\"131\" y=\"318.5669\">y</text></a><!--MD5=[604cbf994c02b74b117f728a71673cea]\n",
       "reverse link E10 to E6--><a href=\"psysml:75696b56-911c-4e7f-a413-6399c7af4d3a\" target=\"_top\" title=\"psysml:75696b56-911c-4e7f-a413-6399c7af4d3a\" xlink:actuate=\"onRequest\" xlink:href=\"psysml:75696b56-911c-4e7f-a413-6399c7af4d3a\" xlink:show=\"new\" xlink:title=\"psysml:75696b56-911c-4e7f-a413-6399c7af4d3a\" xlink:type=\"simple\"><path d=\"M154.36,532.09 C153.19,554.3 151.89,579.12 151.01,595.76 \" fill=\"none\" id=\"E10&lt;-E6\" style=\"stroke: #A80036; stroke-width: 1.0;\"/><polygon fill=\"#FFFFFF\" points=\"155.05,519.05,150.7392,524.8307,154.4172,531.0333,158.728,525.2526,155.05,519.05\" style=\"stroke: #A80036; stroke-width: 1.0;\"/><text fill=\"#000000\" font-family=\"sans-serif\" font-size=\"13\" lengthAdjust=\"spacingAndGlyphs\" textLength=\"7\" x=\"154\" y=\"562.0669\">y</text></a><!--MD5=[d6e2541dbc7704c13afe0f7e4c67c7ba]\n",
       "@startuml\r\n",
       " \r\n",
       "package \"PartTest\" as E1  [[psysml:538b1265-15ae-4afd-8dd2-ef0f57b41a53 ]]  {\r\n",
       "comp usage \"f: A \" as E2 << << (P,limegreen) part>> [[psysml:2c090466-3d5c-4444-ba17-090921dc2443 ]] {\r\n",
       "}\r\n",
       "comp def \"A\" as E3 << << (B,green) >> [[psysml:d1b7cfcb-f6eb-4e6c-b82e-69976e6757f6 ]] {\r\n",
       "- - attributes - -\r\n",
       "x\r\n",
       "y:> A::x\r\n",
       "}\r\n",
       "comp usage \"b: B \" as E4 << << (P,limegreen) part>> [[psysml:1aa2f075-dfbc-4c28-975e-f9b78ce76d6b ]] {\r\n",
       "}\r\n",
       "comp usage \"c: C \" as E5 << << (P,blue) port>> [[psysml:6b6fc427-035b-4f92-af2f-ae5f46ec13e5 ]] {\r\n",
       "}\r\n",
       "comp def \"<i>B</i>\" as E6 << << (B,green) >> [[psysml:286e6ef4-92d4-4c1b-a17d-09881da7698b ]] {\r\n",
       "}\r\n",
       "comp usage \"<i>a</i>: A \" as E7 << << (P,limegreen) part>> [[psysml:215e87e2-ee75-46c7-98ea-4ce8794cdbad ]] {\r\n",
       "}\r\n",
       "comp usage \"x: ~C \" as E8 << << (P,blue) port>> [[psysml:27d37788-2b75-4a5c-b4fe-9553c2483e93 ]] {\r\n",
       "}\r\n",
       "package \"P\" as E9  [[psysml:e555f4d2-547d-4756-8b33-5fda3be7b359 ]]  {\r\n",
       "}\r\n",
       "comp def \"C\" as E10 << <<(D,brown) port  def>> [[psysml:3d6805d2-0d33-47df-af88-6771a9177656 ]] {\r\n",
       "- - parameters - -\r\n",
       "<b>in</b> y: A, B <b>alias</b> z2 \r\n",
       "}\r\n",
       "}\r\n",
       "E2 - -:|> E3 [[psysml:02703352-f69e-4a4b-893d-89c09588fdfd ]] \r\n",
       "E3 *- - \"1\"E4 [[psysml:e82a868e-a957-4308-9aca-5f2e1a046a10 ]] \r\n",
       "E3 o- - \"1\"E5 [[psysml:01f43deb-5863-4903-863e-c9a23e0a1180 ]] \r\n",
       "E4 - -:|> E6 [[psysml:6f8c5931-99ab-4f3d-9640-f9d86b709835 ]] \r\n",
       "E6 *- - \"1\"E7 [[psysml:ef71999d-b74e-4e5c-b2f7-aebb94a9d32a ]] \r\n",
       "E7 - -:|> E3 [[psysml:d4047a87-2764-4bb9-9711-6fad77bbdb97 ]] \r\n",
       "E6 o- - \"1\"E8 [[psysml:e9c4c173-85e4-4370-85e4-1c8f2eb4171b ]] \r\n",
       "E6 +- - E9 [[psysml:ab2aae6d-159f-4d7a-a99e-78671a533366 ]] \r\n",
       "E5 - -:|> E10 [[psysml:09169cbe-938d-4307-a584-0b24a5ad62ce ]] \r\n",
       "E10 o- - E3 [[psysml:75696b56-911c-4e7f-a413-6399c7af4d3a ]] : y\r\n",
       "E10 o- - E6 [[psysml:75696b56-911c-4e7f-a413-6399c7af4d3a ]] : y\r\n",
       "@enduml\r\n",
       "\n",
       "PlantUML version 1.2020.13(Sat Jun 13 12:26:38 UTC 2020)\n",
       "(EPL source distribution)\n",
       "Java Runtime: OpenJDK Runtime Environment\n",
       "JVM: OpenJDK 64-Bit Server VM\n",
       "Default Encoding: UTF-8\n",
       "Language: en\n",
       "Country: null\n",
       "--></g></svg>"
      ]
     },
     "execution_count": 36,
     "metadata": {},
     "output_type": "execute_result"
    }
   ],
   "source": [
    "%viz --style=\"PLANTUML\" --view=\"MIXED\" \"PartTest\""
   ]
  },
  {
   "cell_type": "code",
   "execution_count": 37,
   "id": "7c2dbf31",
   "metadata": {
    "execution": {
     "iopub.execute_input": "2022-05-19T08:45:14.092931Z",
     "iopub.status.busy": "2022-05-19T08:45:14.092388Z",
     "iopub.status.idle": "2022-05-19T08:45:14.164378Z",
     "shell.execute_reply": "2022-05-19T08:45:14.162683Z"
    }
   },
   "outputs": [
    {
     "data": {
      "image/svg+xml": [
       "<?xml version=\"1.0\" encoding=\"UTF-8\" standalone=\"no\"?><svg xmlns=\"http://www.w3.org/2000/svg\" xmlns:xlink=\"http://www.w3.org/1999/xlink\" contentScriptType=\"application/ecmascript\" contentStyleType=\"text/css\" height=\"790px\" preserveAspectRatio=\"none\" style=\"width:265px;height:790px;\" version=\"1.1\" viewBox=\"0 0 265 790\" width=\"265px\" zoomAndPan=\"magnify\"><defs/><g><!--MD5=[fbc87193dbaf4d95561dea2c320d4a47]\n",
       "cluster E1--><a href=\"psysml:538b1265-15ae-4afd-8dd2-ef0f57b41a53\" target=\"_top\" title=\"psysml:538b1265-15ae-4afd-8dd2-ef0f57b41a53\" xlink:actuate=\"onRequest\" xlink:href=\"psysml:538b1265-15ae-4afd-8dd2-ef0f57b41a53\" xlink:show=\"new\" xlink:title=\"psysml:538b1265-15ae-4afd-8dd2-ef0f57b41a53\" xlink:type=\"simple\"><polygon fill=\"#FFFFFF\" points=\"16,6,80,6,87,28.2969,243,28.2969,243,778,16,778,16,6\" style=\"stroke: #000000; stroke-width: 1.5;\"/><line style=\"stroke: #000000; stroke-width: 1.5;\" x1=\"16\" x2=\"87\" y1=\"28.2969\" y2=\"28.2969\"/><text fill=\"#000000\" font-family=\"sans-serif\" font-size=\"14\" font-weight=\"bold\" lengthAdjust=\"spacingAndGlyphs\" textLength=\"58\" x=\"20\" y=\"20.9951\">PartTest</text></a><!--MD5=[b4997ac47864f28c2f74865a473b2911]\n",
       "class E2--><a href=\"psysml:2c090466-3d5c-4444-ba17-090921dc2443\" target=\"_top\" title=\"psysml:2c090466-3d5c-4444-ba17-090921dc2443\" xlink:actuate=\"onRequest\" xlink:href=\"psysml:2c090466-3d5c-4444-ba17-090921dc2443\" xlink:show=\"new\" xlink:title=\"psysml:2c090466-3d5c-4444-ba17-090921dc2443\" xlink:type=\"simple\"><rect fill=\"#FFFFFF\" height=\"45.9375\" id=\"E2\" rx=\"10\" ry=\"10\" style=\"stroke: #383838; stroke-width: 1.5;\" width=\"42\" x=\"101\" y=\"41\"/><text fill=\"#000000\" font-family=\"sans-serif\" font-size=\"12\" font-style=\"italic\" lengthAdjust=\"spacingAndGlyphs\" textLength=\"40\" x=\"102\" y=\"57.1387\">«part»</text><text fill=\"#000000\" font-family=\"sans-serif\" font-size=\"12\" lengthAdjust=\"spacingAndGlyphs\" textLength=\"20\" x=\"110\" y=\"71.1074\">f: A</text><line style=\"stroke: #383838; stroke-width: 1.5;\" x1=\"102\" x2=\"142\" y1=\"78.9375\" y2=\"78.9375\"/></a><!--MD5=[09b614a08d8cba4a07c9adeb5e0fee81]\n",
       "class E3--><a href=\"psysml:d1b7cfcb-f6eb-4e6c-b82e-69976e6757f6\" target=\"_top\" title=\"psysml:d1b7cfcb-f6eb-4e6c-b82e-69976e6757f6\" xlink:actuate=\"onRequest\" xlink:href=\"psysml:d1b7cfcb-f6eb-4e6c-b82e-69976e6757f6\" xlink:show=\"new\" xlink:title=\"psysml:d1b7cfcb-f6eb-4e6c-b82e-69976e6757f6\" xlink:type=\"simple\"><rect fill=\"#FFFFFF\" height=\"88.3516\" id=\"E3\" style=\"stroke: #383838; stroke-width: 1.5;\" width=\"70\" x=\"87\" y=\"148\"/><text fill=\"#000000\" font-family=\"sans-serif\" font-size=\"12\" font-style=\"italic\" lengthAdjust=\"spacingAndGlyphs\" textLength=\"68\" x=\"88\" y=\"164.1387\">«part  def»</text><text fill=\"#000000\" font-family=\"sans-serif\" font-size=\"12\" lengthAdjust=\"spacingAndGlyphs\" textLength=\"8\" x=\"118\" y=\"178.1074\">A</text><line style=\"stroke: #383838; stroke-width: 1.5;\" x1=\"88\" x2=\"156\" y1=\"185.9375\" y2=\"185.9375\"/><text fill=\"#000000\" font-family=\"sans-serif\" font-size=\"11\" lengthAdjust=\"spacingAndGlyphs\" textLength=\"6\" x=\"93\" y=\"216.9526\">x</text><text fill=\"#000000\" font-family=\"sans-serif\" font-size=\"11\" lengthAdjust=\"spacingAndGlyphs\" textLength=\"44\" x=\"93\" y=\"229.7573\">y:&gt; A::x</text><line style=\"stroke: #383838; stroke-width: 1.0;\" x1=\"88\" x2=\"94.5\" y1=\"200.3398\" y2=\"200.3398\"/><text fill=\"#000000\" font-family=\"sans-serif\" font-size=\"11\" lengthAdjust=\"spacingAndGlyphs\" textLength=\"55\" x=\"94.5\" y=\"203.6479\">attributes</text><line style=\"stroke: #383838; stroke-width: 1.0;\" x1=\"149.5\" x2=\"156\" y1=\"200.3398\" y2=\"200.3398\"/></a><!--MD5=[ebbe1d658d1005bcc118a6aa81145e00]\n",
       "class E4--><a href=\"psysml:1aa2f075-dfbc-4c28-975e-f9b78ce76d6b\" target=\"_top\" title=\"psysml:1aa2f075-dfbc-4c28-975e-f9b78ce76d6b\" xlink:actuate=\"onRequest\" xlink:href=\"psysml:1aa2f075-dfbc-4c28-975e-f9b78ce76d6b\" xlink:show=\"new\" xlink:title=\"psysml:1aa2f075-dfbc-4c28-975e-f9b78ce76d6b\" xlink:type=\"simple\"><rect fill=\"#FFFFFF\" height=\"45.9375\" id=\"E4\" rx=\"10\" ry=\"10\" style=\"stroke: #383838; stroke-width: 1.5;\" width=\"42\" x=\"32\" y=\"373\"/><text fill=\"#000000\" font-family=\"sans-serif\" font-size=\"12\" font-style=\"italic\" lengthAdjust=\"spacingAndGlyphs\" textLength=\"40\" x=\"33\" y=\"389.1387\">«part»</text><text fill=\"#000000\" font-family=\"sans-serif\" font-size=\"12\" lengthAdjust=\"spacingAndGlyphs\" textLength=\"24\" x=\"39\" y=\"403.1074\">b: B</text><line style=\"stroke: #383838; stroke-width: 1.5;\" x1=\"33\" x2=\"73\" y1=\"410.9375\" y2=\"410.9375\"/></a><!--MD5=[270fce915f116d4de14055a7c1d9a0f3]\n",
       "class E5--><a href=\"psysml:6b6fc427-035b-4f92-af2f-ae5f46ec13e5\" target=\"_top\" title=\"psysml:6b6fc427-035b-4f92-af2f-ae5f46ec13e5\" xlink:actuate=\"onRequest\" xlink:href=\"psysml:6b6fc427-035b-4f92-af2f-ae5f46ec13e5\" xlink:show=\"new\" xlink:title=\"psysml:6b6fc427-035b-4f92-af2f-ae5f46ec13e5\" xlink:type=\"simple\"><rect fill=\"#FFFFFF\" height=\"45.9375\" id=\"E5\" rx=\"10\" ry=\"10\" style=\"stroke: #383838; stroke-width: 1.5;\" width=\"42\" x=\"148\" y=\"297\"/><text fill=\"#000000\" font-family=\"sans-serif\" font-size=\"12\" font-style=\"italic\" lengthAdjust=\"spacingAndGlyphs\" textLength=\"40\" x=\"149\" y=\"313.1387\">«port»</text><text fill=\"#000000\" font-family=\"sans-serif\" font-size=\"12\" lengthAdjust=\"spacingAndGlyphs\" textLength=\"23\" x=\"155.5\" y=\"327.1074\">c: C</text><line style=\"stroke: #383838; stroke-width: 1.5;\" x1=\"149\" x2=\"189\" y1=\"334.9375\" y2=\"334.9375\"/></a><!--MD5=[60a26617385b1d2d0262a64233df1f8d]\n",
       "class E6--><a href=\"psysml:286e6ef4-92d4-4c1b-a17d-09881da7698b\" target=\"_top\" title=\"psysml:286e6ef4-92d4-4c1b-a17d-09881da7698b\" xlink:actuate=\"onRequest\" xlink:href=\"psysml:286e6ef4-92d4-4c1b-a17d-09881da7698b\" xlink:show=\"new\" xlink:title=\"psysml:286e6ef4-92d4-4c1b-a17d-09881da7698b\" xlink:type=\"simple\"><rect fill=\"#FFFFFF\" height=\"45.9375\" id=\"E6\" style=\"stroke: #383838; stroke-width: 1.5;\" width=\"70\" x=\"100\" y=\"602\"/><text fill=\"#000000\" font-family=\"sans-serif\" font-size=\"12\" font-style=\"italic\" lengthAdjust=\"spacingAndGlyphs\" textLength=\"68\" x=\"101\" y=\"618.1387\">«part  def»</text><text fill=\"#000000\" font-family=\"sans-serif\" font-size=\"12\" font-style=\"italic\" lengthAdjust=\"spacingAndGlyphs\" textLength=\"8\" x=\"131\" y=\"632.1074\">B</text><line style=\"stroke: #383838; stroke-width: 1.5;\" x1=\"101\" x2=\"169\" y1=\"639.9375\" y2=\"639.9375\"/></a><!--MD5=[2156ba9850f5573cc1fc38a6a4b2f02b]\n",
       "class E7--><a href=\"psysml:215e87e2-ee75-46c7-98ea-4ce8794cdbad\" target=\"_top\" title=\"psysml:215e87e2-ee75-46c7-98ea-4ce8794cdbad\" xlink:actuate=\"onRequest\" xlink:href=\"psysml:215e87e2-ee75-46c7-98ea-4ce8794cdbad\" xlink:show=\"new\" xlink:title=\"psysml:215e87e2-ee75-46c7-98ea-4ce8794cdbad\" xlink:type=\"simple\"><rect fill=\"#FFFFFF\" height=\"45.9375\" id=\"E7\" rx=\"10\" ry=\"10\" style=\"stroke: #383838; stroke-width: 1.5;\" width=\"42\" x=\"185\" y=\"712.5\"/><text fill=\"#000000\" font-family=\"sans-serif\" font-size=\"12\" font-style=\"italic\" lengthAdjust=\"spacingAndGlyphs\" textLength=\"40\" x=\"186\" y=\"728.6387\">«part»</text><text fill=\"#000000\" font-family=\"sans-serif\" font-size=\"12\" font-style=\"italic\" lengthAdjust=\"spacingAndGlyphs\" textLength=\"8\" x=\"192\" y=\"742.6074\">a</text><text fill=\"#000000\" font-family=\"sans-serif\" font-size=\"12\" lengthAdjust=\"spacingAndGlyphs\" textLength=\"16\" x=\"200\" y=\"742.6074\">: A</text><line style=\"stroke: #383838; stroke-width: 1.5;\" x1=\"186\" x2=\"226\" y1=\"750.4375\" y2=\"750.4375\"/></a><!--MD5=[b9389687b975829384b498ac4b7476b2]\n",
       "class E8--><a href=\"psysml:27d37788-2b75-4a5c-b4fe-9553c2483e93\" target=\"_top\" title=\"psysml:27d37788-2b75-4a5c-b4fe-9553c2483e93\" xlink:actuate=\"onRequest\" xlink:href=\"psysml:27d37788-2b75-4a5c-b4fe-9553c2483e93\" xlink:show=\"new\" xlink:title=\"psysml:27d37788-2b75-4a5c-b4fe-9553c2483e93\" xlink:type=\"simple\"><rect fill=\"#FFFFFF\" height=\"45.9375\" id=\"E8\" rx=\"10\" ry=\"10\" style=\"stroke: #383838; stroke-width: 1.5;\" width=\"42\" x=\"43\" y=\"712.5\"/><text fill=\"#000000\" font-family=\"sans-serif\" font-size=\"12\" font-style=\"italic\" lengthAdjust=\"spacingAndGlyphs\" textLength=\"40\" x=\"44\" y=\"728.6387\">«port»</text><text fill=\"#000000\" font-family=\"sans-serif\" font-size=\"12\" lengthAdjust=\"spacingAndGlyphs\" textLength=\"32\" x=\"46\" y=\"742.6074\">x: ~C</text><line style=\"stroke: #383838; stroke-width: 1.5;\" x1=\"44\" x2=\"84\" y1=\"750.4375\" y2=\"750.4375\"/></a><!--MD5=[96f4274e9e20536e775497830990834d]\n",
       "class E10--><a href=\"psysml:3d6805d2-0d33-47df-af88-6771a9177656\" target=\"_top\" title=\"psysml:3d6805d2-0d33-47df-af88-6771a9177656\" xlink:actuate=\"onRequest\" xlink:href=\"psysml:3d6805d2-0d33-47df-af88-6771a9177656\" xlink:show=\"new\" xlink:title=\"psysml:3d6805d2-0d33-47df-af88-6771a9177656\" xlink:type=\"simple\"><rect fill=\"#FFFFFF\" height=\"75.5469\" id=\"E10\" style=\"stroke: #383838; stroke-width: 1.5;\" width=\"110\" x=\"80\" y=\"449\"/><text fill=\"#000000\" font-family=\"sans-serif\" font-size=\"12\" font-style=\"italic\" lengthAdjust=\"spacingAndGlyphs\" textLength=\"68\" x=\"101\" y=\"465.1387\">«port  def»</text><text fill=\"#000000\" font-family=\"sans-serif\" font-size=\"12\" lengthAdjust=\"spacingAndGlyphs\" textLength=\"8\" x=\"131\" y=\"479.1074\">C</text><line style=\"stroke: #383838; stroke-width: 1.5;\" x1=\"81\" x2=\"189\" y1=\"486.9375\" y2=\"486.9375\"/><text fill=\"#000000\" font-family=\"sans-serif\" font-size=\"11\" font-weight=\"bold\" lengthAdjust=\"spacingAndGlyphs\" textLength=\"10\" x=\"86\" y=\"517.9526\">in</text><text fill=\"#000000\" font-family=\"sans-serif\" font-size=\"11\" lengthAdjust=\"spacingAndGlyphs\" textLength=\"37\" x=\"100\" y=\"517.9526\">y: A, B</text><text fill=\"#000000\" font-family=\"sans-serif\" font-size=\"11\" font-weight=\"bold\" lengthAdjust=\"spacingAndGlyphs\" textLength=\"27\" x=\"141\" y=\"517.9526\">alias</text><text fill=\"#000000\" font-family=\"sans-serif\" font-size=\"11\" lengthAdjust=\"spacingAndGlyphs\" textLength=\"12\" x=\"172\" y=\"517.9526\">z2</text><line style=\"stroke: #383838; stroke-width: 1.0;\" x1=\"81\" x2=\"101.5\" y1=\"501.3398\" y2=\"501.3398\"/><text fill=\"#000000\" font-family=\"sans-serif\" font-size=\"11\" lengthAdjust=\"spacingAndGlyphs\" textLength=\"67\" x=\"101.5\" y=\"504.6479\">parameters</text><line style=\"stroke: #383838; stroke-width: 1.0;\" x1=\"168.5\" x2=\"189\" y1=\"501.3398\" y2=\"501.3398\"/></a><a href=\"psysml:e555f4d2-547d-4756-8b33-5fda3be7b359\" target=\"_top\" title=\"psysml:e555f4d2-547d-4756-8b33-5fda3be7b359\" xlink:actuate=\"onRequest\" xlink:href=\"psysml:e555f4d2-547d-4756-8b33-5fda3be7b359\" xlink:show=\"new\" xlink:title=\"psysml:e555f4d2-547d-4756-8b33-5fda3be7b359\" xlink:type=\"simple\"><polygon fill=\"#FFFFFF\" points=\"120.5,709,135.5,709,142.5,731.2969,149.5,731.2969,149.5,761.5938,120.5,761.5938,120.5,709\" style=\"stroke: #000000; stroke-width: 1.5;\"/><line style=\"stroke: #000000; stroke-width: 1.5;\" x1=\"120.5\" x2=\"142.5\" y1=\"731.2969\" y2=\"731.2969\"/><text fill=\"#000000\" font-family=\"sans-serif\" font-size=\"14\" font-weight=\"bold\" lengthAdjust=\"spacingAndGlyphs\" textLength=\"9\" x=\"124.5\" y=\"723.9951\">P</text></a><!--MD5=[2720a5a1f2c3fca2055b230370638851]\n",
       "link E2 to E3--><a href=\"psysml:02703352-f69e-4a4b-893d-89c09588fdfd\" target=\"_top\" title=\"psysml:02703352-f69e-4a4b-893d-89c09588fdfd\" xlink:actuate=\"onRequest\" xlink:href=\"psysml:02703352-f69e-4a4b-893d-89c09588fdfd\" xlink:show=\"new\" xlink:title=\"psysml:02703352-f69e-4a4b-893d-89c09588fdfd\" xlink:type=\"simple\"><path d=\"M122,87.24 C122,98.62 122,113.11 122,127.62 \" fill=\"none\" id=\"E2-&gt;E3\" style=\"stroke: #383838; stroke-width: 1.0;\"/><polygon fill=\"#FFFFFF\" points=\"122,147.84,115,128.84,129,128.84,122,147.84\" style=\"stroke: #383838; stroke-width: 1.0;\"/><ellipse cx=\"117\" cy=\"123.14\" fill=\"#383838\" rx=\"2\" ry=\"2\" style=\"stroke: #383838; stroke-width: 1.0;\"/><ellipse cx=\"127\" cy=\"123.14\" fill=\"#383838\" rx=\"2\" ry=\"2\" style=\"stroke: #383838; stroke-width: 1.0;\"/></a><!--MD5=[4672eba38e49728da53d11aeb285b987]\n",
       "reverse link E3 to E4--><a href=\"psysml:e82a868e-a957-4308-9aca-5f2e1a046a10\" target=\"_top\" title=\"psysml:e82a868e-a957-4308-9aca-5f2e1a046a10\" xlink:actuate=\"onRequest\" xlink:href=\"psysml:e82a868e-a957-4308-9aca-5f2e1a046a10\" xlink:show=\"new\" xlink:title=\"psysml:e82a868e-a957-4308-9aca-5f2e1a046a10\" xlink:type=\"simple\"><path d=\"M83.84,247.58 C74.86,262.92 66.35,280.06 61,297 C53.08,322.07 51.8,352.44 52.03,372.66 \" fill=\"none\" id=\"E3&lt;-E4\" style=\"stroke: #383838; stroke-width: 1.0;\"/><polygon fill=\"#383838\" points=\"90.76,236.23,84.2205,239.269,84.5106,246.4743,91.0501,243.4353,90.76,236.23\" style=\"stroke: #383838; stroke-width: 1.0;\"/><text fill=\"#000000\" font-family=\"sans-serif\" font-size=\"13\" lengthAdjust=\"spacingAndGlyphs\" textLength=\"8\" x=\"42.7564\" y=\"361.8492\">1</text></a><!--MD5=[191cde3d490a3f6d7bb551fe3ddca469]\n",
       "reverse link E3 to E5--><a href=\"psysml:01f43deb-5863-4903-863e-c9a23e0a1180\" target=\"_top\" title=\"psysml:01f43deb-5863-4903-863e-c9a23e0a1180\" xlink:actuate=\"onRequest\" xlink:href=\"psysml:01f43deb-5863-4903-863e-c9a23e0a1180\" xlink:show=\"new\" xlink:title=\"psysml:01f43deb-5863-4903-863e-c9a23e0a1180\" xlink:type=\"simple\"><path d=\"M142.61,248.24 C148.98,265.32 155.64,283.18 160.68,296.68 \" fill=\"none\" id=\"E3&lt;-E5\" style=\"stroke: #383838; stroke-width: 1.0;\"/><polygon fill=\"#FFFFFF\" points=\"138.04,236.01,136.3879,243.0293,142.2318,247.2541,143.8839,240.2348,138.04,236.01\" style=\"stroke: #383838; stroke-width: 1.0;\"/><text fill=\"#000000\" font-family=\"sans-serif\" font-size=\"13\" lengthAdjust=\"spacingAndGlyphs\" textLength=\"8\" x=\"149.523\" y=\"285.8743\">1</text></a><!--MD5=[79568f1e445c3877b6a54524624ccc7d]\n",
       "link E4 to E6--><a href=\"psysml:6f8c5931-99ab-4f3d-9640-f9d86b709835\" target=\"_top\" title=\"psysml:6f8c5931-99ab-4f3d-9640-f9d86b709835\" xlink:actuate=\"onRequest\" xlink:href=\"psysml:6f8c5931-99ab-4f3d-9640-f9d86b709835\" xlink:show=\"new\" xlink:title=\"psysml:6f8c5931-99ab-4f3d-9640-f9d86b709835\" xlink:type=\"simple\"><path d=\"M51.16,419.06 C49.78,445.2 49.96,489.66 63,525 C71.25,547.36 86.09,569.13 100.16,586.54 \" fill=\"none\" id=\"E4-&gt;E6\" style=\"stroke: #383838; stroke-width: 1.0;\"/><polygon fill=\"#FFFFFF\" points=\"113.18,601.76,95.5109,591.8705,106.1504,582.7709,113.18,601.76\" style=\"stroke: #383838; stroke-width: 1.0;\"/><ellipse cx=\"93.326\" cy=\"586.2388\" fill=\"#383838\" rx=\"2\" ry=\"2\" style=\"stroke: #383838; stroke-width: 1.0;\"/><ellipse cx=\"100.9256\" cy=\"579.7391\" fill=\"#383838\" rx=\"2\" ry=\"2\" style=\"stroke: #383838; stroke-width: 1.0;\"/></a><!--MD5=[3f50a3473f1dfb74d3f76443e03635af]\n",
       "reverse link E6 to E7--><a href=\"psysml:ef71999d-b74e-4e5c-b2f7-aebb94a9d32a\" target=\"_top\" title=\"psysml:ef71999d-b74e-4e5c-b2f7-aebb94a9d32a\" xlink:actuate=\"onRequest\" xlink:href=\"psysml:ef71999d-b74e-4e5c-b2f7-aebb94a9d32a\" xlink:show=\"new\" xlink:title=\"psysml:ef71999d-b74e-4e5c-b2f7-aebb94a9d32a\" xlink:type=\"simple\"><path d=\"M156.91,659.48 C168.15,676.66 181.53,697.11 191.48,712.31 \" fill=\"none\" id=\"E6&lt;-E7\" style=\"stroke: #383838; stroke-width: 1.0;\"/><polygon fill=\"#383838\" points=\"149.54,648.22,149.4851,655.4309,156.1201,658.255,156.1751,651.0441,149.54,648.22\" style=\"stroke: #383838; stroke-width: 1.0;\"/><text fill=\"#000000\" font-family=\"sans-serif\" font-size=\"13\" lengthAdjust=\"spacingAndGlyphs\" textLength=\"8\" x=\"178.7342\" y=\"701.5376\">1</text></a><!--MD5=[14ccda38c055a5c0da953d572bc50960]\n",
       "link E7 to E3--><a href=\"psysml:d4047a87-2764-4bb9-9711-6fad77bbdb97\" target=\"_top\" title=\"psysml:d4047a87-2764-4bb9-9711-6fad77bbdb97\" xlink:actuate=\"onRequest\" xlink:href=\"psysml:d4047a87-2764-4bb9-9711-6fad77bbdb97\" xlink:show=\"new\" xlink:title=\"psysml:d4047a87-2764-4bb9-9711-6fad77bbdb97\" xlink:type=\"simple\"><path d=\"M212.55,712.28 C218.38,690.5 226,656.26 226,626 C226,319 226,319 226,319 C226,282.18 199.26,250.31 172.91,227.83 \" fill=\"none\" id=\"E7-&gt;E3\" style=\"stroke: #383838; stroke-width: 1.0;\"/><polygon fill=\"#FFFFFF\" points=\"157.21,215.4,176.4527,221.7023,167.7644,232.6802,157.21,215.4\" style=\"stroke: #383838; stroke-width: 1.0;\"/><ellipse cx=\"179.681\" cy=\"226.808\" fill=\"#383838\" rx=\"2\" ry=\"2\" style=\"stroke: #383838; stroke-width: 1.0;\"/><ellipse cx=\"173.4751\" cy=\"234.6493\" fill=\"#383838\" rx=\"2\" ry=\"2\" style=\"stroke: #383838; stroke-width: 1.0;\"/></a><!--MD5=[f4cf0736d43fd73c4ef68817c49d37d5]\n",
       "reverse link E6 to E8--><a href=\"psysml:e9c4c173-85e4-4370-85e4-1c8f2eb4171b\" target=\"_top\" title=\"psysml:e9c4c173-85e4-4370-85e4-1c8f2eb4171b\" xlink:actuate=\"onRequest\" xlink:href=\"psysml:e9c4c173-85e4-4370-85e4-1c8f2eb4171b\" xlink:show=\"new\" xlink:title=\"psysml:e9c4c173-85e4-4370-85e4-1c8f2eb4171b\" xlink:type=\"simple\"><path d=\"M113.09,659.48 C101.85,676.66 88.47,697.11 78.52,712.31 \" fill=\"none\" id=\"E6&lt;-E8\" style=\"stroke: #383838; stroke-width: 1.0;\"/><polygon fill=\"#FFFFFF\" points=\"120.46,648.22,113.8249,651.0441,113.8799,658.255,120.5149,655.4309,120.46,648.22\" style=\"stroke: #383838; stroke-width: 1.0;\"/><text fill=\"#000000\" font-family=\"sans-serif\" font-size=\"13\" lengthAdjust=\"spacingAndGlyphs\" textLength=\"8\" x=\"73.2158\" y=\"701.5376\">1</text></a><!--MD5=[e88d06e5a652d73a6b19930eefe025a8]\n",
       "reverse link E6 to E9--><a href=\"psysml:ab2aae6d-159f-4d7a-a99e-78671a533366\" target=\"_top\" title=\"psysml:ab2aae6d-159f-4d7a-a99e-78671a533366\" xlink:actuate=\"onRequest\" xlink:href=\"psysml:ab2aae6d-159f-4d7a-a99e-78671a533366\" xlink:show=\"new\" xlink:title=\"psysml:ab2aae6d-159f-4d7a-a99e-78671a533366\" xlink:type=\"simple\"><path d=\"M135,663.49 C135,678.47 135,695.34 135,708.88 \" fill=\"none\" id=\"E6&lt;-E9\" style=\"stroke: #383838; stroke-width: 1.0;\"/><ellipse cx=\"135\" cy=\"656.22\" fill=\"#FFFFFF\" rx=\"8\" ry=\"8\" style=\"stroke: #383838; stroke-width: 1.0;\"/><line style=\"stroke: #383838; stroke-width: 1.0;\" x1=\"135\" x2=\"135\" y1=\"664.22\" y2=\"648.22\"/><line style=\"stroke: #383838; stroke-width: 1.0;\" x1=\"127\" x2=\"143\" y1=\"656.22\" y2=\"656.22\"/></a><!--MD5=[f78a29d5932556fa1060671a2a6507d8]\n",
       "link E5 to E10--><a href=\"psysml:09169cbe-938d-4307-a584-0b24a5ad62ce\" target=\"_top\" title=\"psysml:09169cbe-938d-4307-a584-0b24a5ad62ce\" xlink:actuate=\"onRequest\" xlink:href=\"psysml:09169cbe-938d-4307-a584-0b24a5ad62ce\" xlink:show=\"new\" xlink:title=\"psysml:09169cbe-938d-4307-a584-0b24a5ad62ce\" xlink:type=\"simple\"><path d=\"M164.41,343.25 C159.9,365.16 152.82,399.53 146.73,429.05 \" fill=\"none\" id=\"E5-&gt;E10\" style=\"stroke: #383838; stroke-width: 1.0;\"/><polygon fill=\"#FFFFFF\" points=\"142.63,448.98,139.6015,428.9593,153.3144,431.7799,142.63,448.98\" style=\"stroke: #383838; stroke-width: 1.0;\"/><ellipse cx=\"142.7089\" cy=\"423.7791\" fill=\"#383838\" rx=\"2\" ry=\"2\" style=\"stroke: #383838; stroke-width: 1.0;\"/><ellipse cx=\"152.5038\" cy=\"425.7938\" fill=\"#383838\" rx=\"2\" ry=\"2\" style=\"stroke: #383838; stroke-width: 1.0;\"/></a><!--MD5=[8e04057e7b3cbc0dca4fc78ea351e2da]\n",
       "reverse link E10 to E3--><a href=\"psysml:75696b56-911c-4e7f-a413-6399c7af4d3a\" target=\"_top\" title=\"psysml:75696b56-911c-4e7f-a413-6399c7af4d3a\" xlink:actuate=\"onRequest\" xlink:href=\"psysml:75696b56-911c-4e7f-a413-6399c7af4d3a\" xlink:show=\"new\" xlink:title=\"psysml:75696b56-911c-4e7f-a413-6399c7af4d3a\" xlink:type=\"simple\"><path d=\"M129.29,435.52 C126.48,408.18 123.4,373.78 122,343 C120.37,306.97 120.5,266.02 120.97,236.02 \" fill=\"none\" id=\"E10&lt;-E3\" style=\"stroke: #383838; stroke-width: 1.0;\"/><polygon fill=\"#FFFFFF\" points=\"130.68,448.73,134.0248,442.3415,129.4142,436.7969,126.0694,443.1854,130.68,448.73\" style=\"stroke: #383838; stroke-width: 1.0;\"/><text fill=\"#000000\" font-family=\"sans-serif\" font-size=\"13\" lengthAdjust=\"spacingAndGlyphs\" textLength=\"7\" x=\"123\" y=\"324.5669\">y</text></a><!--MD5=[604cbf994c02b74b117f728a71673cea]\n",
       "reverse link E10 to E6--><a href=\"psysml:75696b56-911c-4e7f-a413-6399c7af4d3a\" target=\"_top\" title=\"psysml:75696b56-911c-4e7f-a413-6399c7af4d3a\" xlink:actuate=\"onRequest\" xlink:href=\"psysml:75696b56-911c-4e7f-a413-6399c7af4d3a\" xlink:show=\"new\" xlink:title=\"psysml:75696b56-911c-4e7f-a413-6399c7af4d3a\" xlink:type=\"simple\"><path d=\"M135,538.33 C135,560.16 135,584.6 135,601.77 \" fill=\"none\" id=\"E10&lt;-E6\" style=\"stroke: #383838; stroke-width: 1.0;\"/><polygon fill=\"#FFFFFF\" points=\"135,525.16,131,531.16,135,537.16,139,531.16,135,525.16\" style=\"stroke: #383838; stroke-width: 1.0;\"/><text fill=\"#000000\" font-family=\"sans-serif\" font-size=\"13\" lengthAdjust=\"spacingAndGlyphs\" textLength=\"7\" x=\"136\" y=\"568.0669\">y</text></a><!--MD5=[e2edd5a4ce031f6bdd9b92ac0f41d6c9]\n",
       "@startuml\r\n",
       "skinparam monochrome true\r\n",
       "skinparam classbackgroundcolor white\r\n",
       "skinparam shadowing false\r\n",
       "skinparam wrapWidth 300\r\n",
       "hide circle\r\n",
       "\r\n",
       "package \"PartTest\" as E1  [[psysml:538b1265-15ae-4afd-8dd2-ef0f57b41a53 ]]  {\r\n",
       "comp usage \"f: A \" as E2  <<(T,blue) part>> [[psysml:2c090466-3d5c-4444-ba17-090921dc2443 ]] {\r\n",
       "}\r\n",
       "comp def \"A\" as E3  <<(T,blue) part  def>> [[psysml:d1b7cfcb-f6eb-4e6c-b82e-69976e6757f6 ]] {\r\n",
       "- - attributes - -\r\n",
       "x\r\n",
       "y:> A::x\r\n",
       "}\r\n",
       "comp usage \"b: B \" as E4  <<(T,blue) part>> [[psysml:1aa2f075-dfbc-4c28-975e-f9b78ce76d6b ]] {\r\n",
       "}\r\n",
       "comp usage \"c: C \" as E5  <<(T,blue) port>> [[psysml:6b6fc427-035b-4f92-af2f-ae5f46ec13e5 ]] {\r\n",
       "}\r\n",
       "comp def \"<i>B</i>\" as E6  <<(T,blue) part  def>> [[psysml:286e6ef4-92d4-4c1b-a17d-09881da7698b ]] {\r\n",
       "}\r\n",
       "comp usage \"<i>a</i>: A \" as E7  <<(T,blue) part>> [[psysml:215e87e2-ee75-46c7-98ea-4ce8794cdbad ]] {\r\n",
       "}\r\n",
       "comp usage \"x: ~C \" as E8  <<(T,blue) port>> [[psysml:27d37788-2b75-4a5c-b4fe-9553c2483e93 ]] {\r\n",
       "}\r\n",
       "package \"P\" as E9  [[psysml:e555f4d2-547d-4756-8b33-5fda3be7b359 ]]  {\r\n",
       "}\r\n",
       "comp def \"C\" as E10  <<(T,blue) port  def>> [[psysml:3d6805d2-0d33-47df-af88-6771a9177656 ]] {\r\n",
       "- - parameters - -\r\n",
       "<b>in</b> y: A, B <b>alias</b> z2 \r\n",
       "}\r\n",
       "}\r\n",
       "E2 - -:|> E3 [[psysml:02703352-f69e-4a4b-893d-89c09588fdfd ]] \r\n",
       "E3 *- - \"1\"E4 [[psysml:e82a868e-a957-4308-9aca-5f2e1a046a10 ]] \r\n",
       "E3 o- - \"1\"E5 [[psysml:01f43deb-5863-4903-863e-c9a23e0a1180 ]] \r\n",
       "E4 - -:|> E6 [[psysml:6f8c5931-99ab-4f3d-9640-f9d86b709835 ]] \r\n",
       "E6 *- - \"1\"E7 [[psysml:ef71999d-b74e-4e5c-b2f7-aebb94a9d32a ]] \r\n",
       "E7 - -:|> E3 [[psysml:d4047a87-2764-4bb9-9711-6fad77bbdb97 ]] \r\n",
       "E6 o- - \"1\"E8 [[psysml:e9c4c173-85e4-4370-85e4-1c8f2eb4171b ]] \r\n",
       "E6 +- - E9 [[psysml:ab2aae6d-159f-4d7a-a99e-78671a533366 ]] \r\n",
       "E5 - -:|> E10 [[psysml:09169cbe-938d-4307-a584-0b24a5ad62ce ]] \r\n",
       "E10 o- - E3 [[psysml:75696b56-911c-4e7f-a413-6399c7af4d3a ]] : y\r\n",
       "E10 o- - E6 [[psysml:75696b56-911c-4e7f-a413-6399c7af4d3a ]] : y\r\n",
       "@enduml\r\n",
       "\n",
       "PlantUML version 1.2020.13(Sat Jun 13 12:26:38 UTC 2020)\n",
       "(EPL source distribution)\n",
       "Java Runtime: OpenJDK Runtime Environment\n",
       "JVM: OpenJDK 64-Bit Server VM\n",
       "Default Encoding: UTF-8\n",
       "Language: en\n",
       "Country: null\n",
       "--></g></svg>"
      ]
     },
     "execution_count": 37,
     "metadata": {},
     "output_type": "execute_result"
    }
   ],
   "source": [
    "%viz --style=\"DEFAULT\" --view=\"Default\" \"PartTest\""
   ]
  },
  {
   "cell_type": "code",
   "execution_count": 38,
   "id": "6b0b8136",
   "metadata": {
    "execution": {
     "iopub.execute_input": "2022-05-19T08:45:14.213423Z",
     "iopub.status.busy": "2022-05-19T08:45:14.213143Z",
     "iopub.status.idle": "2022-05-19T08:45:14.285016Z",
     "shell.execute_reply": "2022-05-19T08:45:14.284682Z"
    }
   },
   "outputs": [
    {
     "data": {
      "image/svg+xml": [
       "<?xml version=\"1.0\" encoding=\"UTF-8\" standalone=\"no\"?><svg xmlns=\"http://www.w3.org/2000/svg\" xmlns:xlink=\"http://www.w3.org/1999/xlink\" contentScriptType=\"application/ecmascript\" contentStyleType=\"text/css\" height=\"790px\" preserveAspectRatio=\"none\" style=\"width:265px;height:790px;\" version=\"1.1\" viewBox=\"0 0 265 790\" width=\"265px\" zoomAndPan=\"magnify\"><defs/><g><!--MD5=[fbc87193dbaf4d95561dea2c320d4a47]\n",
       "cluster E1--><a href=\"psysml:538b1265-15ae-4afd-8dd2-ef0f57b41a53\" target=\"_top\" title=\"psysml:538b1265-15ae-4afd-8dd2-ef0f57b41a53\" xlink:actuate=\"onRequest\" xlink:href=\"psysml:538b1265-15ae-4afd-8dd2-ef0f57b41a53\" xlink:show=\"new\" xlink:title=\"psysml:538b1265-15ae-4afd-8dd2-ef0f57b41a53\" xlink:type=\"simple\"><polygon fill=\"#FFFFFF\" points=\"16,6,80,6,87,28.2969,243,28.2969,243,778,16,778,16,6\" style=\"stroke: #000000; stroke-width: 1.5;\"/><line style=\"stroke: #000000; stroke-width: 1.5;\" x1=\"16\" x2=\"87\" y1=\"28.2969\" y2=\"28.2969\"/><text fill=\"#000000\" font-family=\"sans-serif\" font-size=\"14\" font-weight=\"bold\" lengthAdjust=\"spacingAndGlyphs\" textLength=\"58\" x=\"20\" y=\"20.9951\">PartTest</text></a><!--MD5=[b4997ac47864f28c2f74865a473b2911]\n",
       "class E2--><a href=\"psysml:2c090466-3d5c-4444-ba17-090921dc2443\" target=\"_top\" title=\"psysml:2c090466-3d5c-4444-ba17-090921dc2443\" xlink:actuate=\"onRequest\" xlink:href=\"psysml:2c090466-3d5c-4444-ba17-090921dc2443\" xlink:show=\"new\" xlink:title=\"psysml:2c090466-3d5c-4444-ba17-090921dc2443\" xlink:type=\"simple\"><rect fill=\"#FFFFFF\" height=\"45.9375\" id=\"E2\" rx=\"10\" ry=\"10\" style=\"stroke: #383838; stroke-width: 1.5;\" width=\"42\" x=\"101\" y=\"41\"/><text fill=\"#000000\" font-family=\"sans-serif\" font-size=\"12\" font-style=\"italic\" lengthAdjust=\"spacingAndGlyphs\" textLength=\"40\" x=\"102\" y=\"57.1387\">«part»</text><text fill=\"#000000\" font-family=\"sans-serif\" font-size=\"12\" lengthAdjust=\"spacingAndGlyphs\" textLength=\"20\" x=\"110\" y=\"71.1074\">f: A</text><line style=\"stroke: #383838; stroke-width: 1.5;\" x1=\"102\" x2=\"142\" y1=\"78.9375\" y2=\"78.9375\"/></a><!--MD5=[09b614a08d8cba4a07c9adeb5e0fee81]\n",
       "class E3--><a href=\"psysml:d1b7cfcb-f6eb-4e6c-b82e-69976e6757f6\" target=\"_top\" title=\"psysml:d1b7cfcb-f6eb-4e6c-b82e-69976e6757f6\" xlink:actuate=\"onRequest\" xlink:href=\"psysml:d1b7cfcb-f6eb-4e6c-b82e-69976e6757f6\" xlink:show=\"new\" xlink:title=\"psysml:d1b7cfcb-f6eb-4e6c-b82e-69976e6757f6\" xlink:type=\"simple\"><rect fill=\"#FFFFFF\" height=\"88.3516\" id=\"E3\" style=\"stroke: #383838; stroke-width: 1.5;\" width=\"70\" x=\"87\" y=\"148\"/><text fill=\"#000000\" font-family=\"sans-serif\" font-size=\"12\" font-style=\"italic\" lengthAdjust=\"spacingAndGlyphs\" textLength=\"68\" x=\"88\" y=\"164.1387\">«part  def»</text><text fill=\"#000000\" font-family=\"sans-serif\" font-size=\"12\" lengthAdjust=\"spacingAndGlyphs\" textLength=\"8\" x=\"118\" y=\"178.1074\">A</text><line style=\"stroke: #383838; stroke-width: 1.5;\" x1=\"88\" x2=\"156\" y1=\"185.9375\" y2=\"185.9375\"/><text fill=\"#000000\" font-family=\"sans-serif\" font-size=\"11\" lengthAdjust=\"spacingAndGlyphs\" textLength=\"6\" x=\"93\" y=\"216.9526\">x</text><text fill=\"#000000\" font-family=\"sans-serif\" font-size=\"11\" lengthAdjust=\"spacingAndGlyphs\" textLength=\"44\" x=\"93\" y=\"229.7573\">y:&gt; A::x</text><line style=\"stroke: #383838; stroke-width: 1.0;\" x1=\"88\" x2=\"94.5\" y1=\"200.3398\" y2=\"200.3398\"/><text fill=\"#000000\" font-family=\"sans-serif\" font-size=\"11\" lengthAdjust=\"spacingAndGlyphs\" textLength=\"55\" x=\"94.5\" y=\"203.6479\">attributes</text><line style=\"stroke: #383838; stroke-width: 1.0;\" x1=\"149.5\" x2=\"156\" y1=\"200.3398\" y2=\"200.3398\"/></a><!--MD5=[ebbe1d658d1005bcc118a6aa81145e00]\n",
       "class E4--><a href=\"psysml:1aa2f075-dfbc-4c28-975e-f9b78ce76d6b\" target=\"_top\" title=\"psysml:1aa2f075-dfbc-4c28-975e-f9b78ce76d6b\" xlink:actuate=\"onRequest\" xlink:href=\"psysml:1aa2f075-dfbc-4c28-975e-f9b78ce76d6b\" xlink:show=\"new\" xlink:title=\"psysml:1aa2f075-dfbc-4c28-975e-f9b78ce76d6b\" xlink:type=\"simple\"><rect fill=\"#FFFFFF\" height=\"45.9375\" id=\"E4\" rx=\"10\" ry=\"10\" style=\"stroke: #383838; stroke-width: 1.5;\" width=\"42\" x=\"32\" y=\"373\"/><text fill=\"#000000\" font-family=\"sans-serif\" font-size=\"12\" font-style=\"italic\" lengthAdjust=\"spacingAndGlyphs\" textLength=\"40\" x=\"33\" y=\"389.1387\">«part»</text><text fill=\"#000000\" font-family=\"sans-serif\" font-size=\"12\" lengthAdjust=\"spacingAndGlyphs\" textLength=\"24\" x=\"39\" y=\"403.1074\">b: B</text><line style=\"stroke: #383838; stroke-width: 1.5;\" x1=\"33\" x2=\"73\" y1=\"410.9375\" y2=\"410.9375\"/></a><!--MD5=[270fce915f116d4de14055a7c1d9a0f3]\n",
       "class E5--><a href=\"psysml:6b6fc427-035b-4f92-af2f-ae5f46ec13e5\" target=\"_top\" title=\"psysml:6b6fc427-035b-4f92-af2f-ae5f46ec13e5\" xlink:actuate=\"onRequest\" xlink:href=\"psysml:6b6fc427-035b-4f92-af2f-ae5f46ec13e5\" xlink:show=\"new\" xlink:title=\"psysml:6b6fc427-035b-4f92-af2f-ae5f46ec13e5\" xlink:type=\"simple\"><rect fill=\"#FFFFFF\" height=\"45.9375\" id=\"E5\" rx=\"10\" ry=\"10\" style=\"stroke: #383838; stroke-width: 1.5;\" width=\"42\" x=\"148\" y=\"297\"/><text fill=\"#000000\" font-family=\"sans-serif\" font-size=\"12\" font-style=\"italic\" lengthAdjust=\"spacingAndGlyphs\" textLength=\"40\" x=\"149\" y=\"313.1387\">«port»</text><text fill=\"#000000\" font-family=\"sans-serif\" font-size=\"12\" lengthAdjust=\"spacingAndGlyphs\" textLength=\"23\" x=\"155.5\" y=\"327.1074\">c: C</text><line style=\"stroke: #383838; stroke-width: 1.5;\" x1=\"149\" x2=\"189\" y1=\"334.9375\" y2=\"334.9375\"/></a><!--MD5=[60a26617385b1d2d0262a64233df1f8d]\n",
       "class E6--><a href=\"psysml:286e6ef4-92d4-4c1b-a17d-09881da7698b\" target=\"_top\" title=\"psysml:286e6ef4-92d4-4c1b-a17d-09881da7698b\" xlink:actuate=\"onRequest\" xlink:href=\"psysml:286e6ef4-92d4-4c1b-a17d-09881da7698b\" xlink:show=\"new\" xlink:title=\"psysml:286e6ef4-92d4-4c1b-a17d-09881da7698b\" xlink:type=\"simple\"><rect fill=\"#FFFFFF\" height=\"45.9375\" id=\"E6\" style=\"stroke: #383838; stroke-width: 1.5;\" width=\"70\" x=\"100\" y=\"602\"/><text fill=\"#000000\" font-family=\"sans-serif\" font-size=\"12\" font-style=\"italic\" lengthAdjust=\"spacingAndGlyphs\" textLength=\"68\" x=\"101\" y=\"618.1387\">«part  def»</text><text fill=\"#000000\" font-family=\"sans-serif\" font-size=\"12\" font-style=\"italic\" lengthAdjust=\"spacingAndGlyphs\" textLength=\"8\" x=\"131\" y=\"632.1074\">B</text><line style=\"stroke: #383838; stroke-width: 1.5;\" x1=\"101\" x2=\"169\" y1=\"639.9375\" y2=\"639.9375\"/></a><!--MD5=[2156ba9850f5573cc1fc38a6a4b2f02b]\n",
       "class E7--><a href=\"psysml:215e87e2-ee75-46c7-98ea-4ce8794cdbad\" target=\"_top\" title=\"psysml:215e87e2-ee75-46c7-98ea-4ce8794cdbad\" xlink:actuate=\"onRequest\" xlink:href=\"psysml:215e87e2-ee75-46c7-98ea-4ce8794cdbad\" xlink:show=\"new\" xlink:title=\"psysml:215e87e2-ee75-46c7-98ea-4ce8794cdbad\" xlink:type=\"simple\"><rect fill=\"#FFFFFF\" height=\"45.9375\" id=\"E7\" rx=\"10\" ry=\"10\" style=\"stroke: #383838; stroke-width: 1.5;\" width=\"42\" x=\"185\" y=\"712.5\"/><text fill=\"#000000\" font-family=\"sans-serif\" font-size=\"12\" font-style=\"italic\" lengthAdjust=\"spacingAndGlyphs\" textLength=\"40\" x=\"186\" y=\"728.6387\">«part»</text><text fill=\"#000000\" font-family=\"sans-serif\" font-size=\"12\" font-style=\"italic\" lengthAdjust=\"spacingAndGlyphs\" textLength=\"8\" x=\"192\" y=\"742.6074\">a</text><text fill=\"#000000\" font-family=\"sans-serif\" font-size=\"12\" lengthAdjust=\"spacingAndGlyphs\" textLength=\"16\" x=\"200\" y=\"742.6074\">: A</text><line style=\"stroke: #383838; stroke-width: 1.5;\" x1=\"186\" x2=\"226\" y1=\"750.4375\" y2=\"750.4375\"/></a><!--MD5=[b9389687b975829384b498ac4b7476b2]\n",
       "class E8--><a href=\"psysml:27d37788-2b75-4a5c-b4fe-9553c2483e93\" target=\"_top\" title=\"psysml:27d37788-2b75-4a5c-b4fe-9553c2483e93\" xlink:actuate=\"onRequest\" xlink:href=\"psysml:27d37788-2b75-4a5c-b4fe-9553c2483e93\" xlink:show=\"new\" xlink:title=\"psysml:27d37788-2b75-4a5c-b4fe-9553c2483e93\" xlink:type=\"simple\"><rect fill=\"#FFFFFF\" height=\"45.9375\" id=\"E8\" rx=\"10\" ry=\"10\" style=\"stroke: #383838; stroke-width: 1.5;\" width=\"42\" x=\"43\" y=\"712.5\"/><text fill=\"#000000\" font-family=\"sans-serif\" font-size=\"12\" font-style=\"italic\" lengthAdjust=\"spacingAndGlyphs\" textLength=\"40\" x=\"44\" y=\"728.6387\">«port»</text><text fill=\"#000000\" font-family=\"sans-serif\" font-size=\"12\" lengthAdjust=\"spacingAndGlyphs\" textLength=\"32\" x=\"46\" y=\"742.6074\">x: ~C</text><line style=\"stroke: #383838; stroke-width: 1.5;\" x1=\"44\" x2=\"84\" y1=\"750.4375\" y2=\"750.4375\"/></a><!--MD5=[96f4274e9e20536e775497830990834d]\n",
       "class E10--><a href=\"psysml:3d6805d2-0d33-47df-af88-6771a9177656\" target=\"_top\" title=\"psysml:3d6805d2-0d33-47df-af88-6771a9177656\" xlink:actuate=\"onRequest\" xlink:href=\"psysml:3d6805d2-0d33-47df-af88-6771a9177656\" xlink:show=\"new\" xlink:title=\"psysml:3d6805d2-0d33-47df-af88-6771a9177656\" xlink:type=\"simple\"><rect fill=\"#FFFFFF\" height=\"75.5469\" id=\"E10\" style=\"stroke: #383838; stroke-width: 1.5;\" width=\"110\" x=\"80\" y=\"449\"/><text fill=\"#000000\" font-family=\"sans-serif\" font-size=\"12\" font-style=\"italic\" lengthAdjust=\"spacingAndGlyphs\" textLength=\"68\" x=\"101\" y=\"465.1387\">«port  def»</text><text fill=\"#000000\" font-family=\"sans-serif\" font-size=\"12\" lengthAdjust=\"spacingAndGlyphs\" textLength=\"8\" x=\"131\" y=\"479.1074\">C</text><line style=\"stroke: #383838; stroke-width: 1.5;\" x1=\"81\" x2=\"189\" y1=\"486.9375\" y2=\"486.9375\"/><text fill=\"#000000\" font-family=\"sans-serif\" font-size=\"11\" font-weight=\"bold\" lengthAdjust=\"spacingAndGlyphs\" textLength=\"10\" x=\"86\" y=\"517.9526\">in</text><text fill=\"#000000\" font-family=\"sans-serif\" font-size=\"11\" lengthAdjust=\"spacingAndGlyphs\" textLength=\"37\" x=\"100\" y=\"517.9526\">y: A, B</text><text fill=\"#000000\" font-family=\"sans-serif\" font-size=\"11\" font-weight=\"bold\" lengthAdjust=\"spacingAndGlyphs\" textLength=\"27\" x=\"141\" y=\"517.9526\">alias</text><text fill=\"#000000\" font-family=\"sans-serif\" font-size=\"11\" lengthAdjust=\"spacingAndGlyphs\" textLength=\"12\" x=\"172\" y=\"517.9526\">z2</text><line style=\"stroke: #383838; stroke-width: 1.0;\" x1=\"81\" x2=\"101.5\" y1=\"501.3398\" y2=\"501.3398\"/><text fill=\"#000000\" font-family=\"sans-serif\" font-size=\"11\" lengthAdjust=\"spacingAndGlyphs\" textLength=\"67\" x=\"101.5\" y=\"504.6479\">parameters</text><line style=\"stroke: #383838; stroke-width: 1.0;\" x1=\"168.5\" x2=\"189\" y1=\"501.3398\" y2=\"501.3398\"/></a><a href=\"psysml:e555f4d2-547d-4756-8b33-5fda3be7b359\" target=\"_top\" title=\"psysml:e555f4d2-547d-4756-8b33-5fda3be7b359\" xlink:actuate=\"onRequest\" xlink:href=\"psysml:e555f4d2-547d-4756-8b33-5fda3be7b359\" xlink:show=\"new\" xlink:title=\"psysml:e555f4d2-547d-4756-8b33-5fda3be7b359\" xlink:type=\"simple\"><polygon fill=\"#FFFFFF\" points=\"120.5,709,135.5,709,142.5,731.2969,149.5,731.2969,149.5,761.5938,120.5,761.5938,120.5,709\" style=\"stroke: #000000; stroke-width: 1.5;\"/><line style=\"stroke: #000000; stroke-width: 1.5;\" x1=\"120.5\" x2=\"142.5\" y1=\"731.2969\" y2=\"731.2969\"/><text fill=\"#000000\" font-family=\"sans-serif\" font-size=\"14\" font-weight=\"bold\" lengthAdjust=\"spacingAndGlyphs\" textLength=\"9\" x=\"124.5\" y=\"723.9951\">P</text></a><!--MD5=[2720a5a1f2c3fca2055b230370638851]\n",
       "link E2 to E3--><a href=\"psysml:02703352-f69e-4a4b-893d-89c09588fdfd\" target=\"_top\" title=\"psysml:02703352-f69e-4a4b-893d-89c09588fdfd\" xlink:actuate=\"onRequest\" xlink:href=\"psysml:02703352-f69e-4a4b-893d-89c09588fdfd\" xlink:show=\"new\" xlink:title=\"psysml:02703352-f69e-4a4b-893d-89c09588fdfd\" xlink:type=\"simple\"><path d=\"M122,87.24 C122,98.62 122,113.11 122,127.62 \" fill=\"none\" id=\"E2-&gt;E3\" style=\"stroke: #383838; stroke-width: 1.0;\"/><polygon fill=\"#FFFFFF\" points=\"122,147.84,115,128.84,129,128.84,122,147.84\" style=\"stroke: #383838; stroke-width: 1.0;\"/><ellipse cx=\"117\" cy=\"123.14\" fill=\"#383838\" rx=\"2\" ry=\"2\" style=\"stroke: #383838; stroke-width: 1.0;\"/><ellipse cx=\"127\" cy=\"123.14\" fill=\"#383838\" rx=\"2\" ry=\"2\" style=\"stroke: #383838; stroke-width: 1.0;\"/></a><!--MD5=[4672eba38e49728da53d11aeb285b987]\n",
       "reverse link E3 to E4--><a href=\"psysml:e82a868e-a957-4308-9aca-5f2e1a046a10\" target=\"_top\" title=\"psysml:e82a868e-a957-4308-9aca-5f2e1a046a10\" xlink:actuate=\"onRequest\" xlink:href=\"psysml:e82a868e-a957-4308-9aca-5f2e1a046a10\" xlink:show=\"new\" xlink:title=\"psysml:e82a868e-a957-4308-9aca-5f2e1a046a10\" xlink:type=\"simple\"><path d=\"M83.84,247.58 C74.86,262.92 66.35,280.06 61,297 C53.08,322.07 51.8,352.44 52.03,372.66 \" fill=\"none\" id=\"E3&lt;-E4\" style=\"stroke: #383838; stroke-width: 1.0;\"/><polygon fill=\"#383838\" points=\"90.76,236.23,84.2205,239.269,84.5106,246.4743,91.0501,243.4353,90.76,236.23\" style=\"stroke: #383838; stroke-width: 1.0;\"/><text fill=\"#000000\" font-family=\"sans-serif\" font-size=\"13\" lengthAdjust=\"spacingAndGlyphs\" textLength=\"8\" x=\"42.7564\" y=\"361.8492\">1</text></a><!--MD5=[191cde3d490a3f6d7bb551fe3ddca469]\n",
       "reverse link E3 to E5--><a href=\"psysml:01f43deb-5863-4903-863e-c9a23e0a1180\" target=\"_top\" title=\"psysml:01f43deb-5863-4903-863e-c9a23e0a1180\" xlink:actuate=\"onRequest\" xlink:href=\"psysml:01f43deb-5863-4903-863e-c9a23e0a1180\" xlink:show=\"new\" xlink:title=\"psysml:01f43deb-5863-4903-863e-c9a23e0a1180\" xlink:type=\"simple\"><path d=\"M142.61,248.24 C148.98,265.32 155.64,283.18 160.68,296.68 \" fill=\"none\" id=\"E3&lt;-E5\" style=\"stroke: #383838; stroke-width: 1.0;\"/><polygon fill=\"#FFFFFF\" points=\"138.04,236.01,136.3879,243.0293,142.2318,247.2541,143.8839,240.2348,138.04,236.01\" style=\"stroke: #383838; stroke-width: 1.0;\"/><text fill=\"#000000\" font-family=\"sans-serif\" font-size=\"13\" lengthAdjust=\"spacingAndGlyphs\" textLength=\"8\" x=\"149.523\" y=\"285.8743\">1</text></a><!--MD5=[79568f1e445c3877b6a54524624ccc7d]\n",
       "link E4 to E6--><a href=\"psysml:6f8c5931-99ab-4f3d-9640-f9d86b709835\" target=\"_top\" title=\"psysml:6f8c5931-99ab-4f3d-9640-f9d86b709835\" xlink:actuate=\"onRequest\" xlink:href=\"psysml:6f8c5931-99ab-4f3d-9640-f9d86b709835\" xlink:show=\"new\" xlink:title=\"psysml:6f8c5931-99ab-4f3d-9640-f9d86b709835\" xlink:type=\"simple\"><path d=\"M51.16,419.06 C49.78,445.2 49.96,489.66 63,525 C71.25,547.36 86.09,569.13 100.16,586.54 \" fill=\"none\" id=\"E4-&gt;E6\" style=\"stroke: #383838; stroke-width: 1.0;\"/><polygon fill=\"#FFFFFF\" points=\"113.18,601.76,95.5109,591.8705,106.1504,582.7709,113.18,601.76\" style=\"stroke: #383838; stroke-width: 1.0;\"/><ellipse cx=\"93.326\" cy=\"586.2388\" fill=\"#383838\" rx=\"2\" ry=\"2\" style=\"stroke: #383838; stroke-width: 1.0;\"/><ellipse cx=\"100.9256\" cy=\"579.7391\" fill=\"#383838\" rx=\"2\" ry=\"2\" style=\"stroke: #383838; stroke-width: 1.0;\"/></a><!--MD5=[3f50a3473f1dfb74d3f76443e03635af]\n",
       "reverse link E6 to E7--><a href=\"psysml:ef71999d-b74e-4e5c-b2f7-aebb94a9d32a\" target=\"_top\" title=\"psysml:ef71999d-b74e-4e5c-b2f7-aebb94a9d32a\" xlink:actuate=\"onRequest\" xlink:href=\"psysml:ef71999d-b74e-4e5c-b2f7-aebb94a9d32a\" xlink:show=\"new\" xlink:title=\"psysml:ef71999d-b74e-4e5c-b2f7-aebb94a9d32a\" xlink:type=\"simple\"><path d=\"M156.91,659.48 C168.15,676.66 181.53,697.11 191.48,712.31 \" fill=\"none\" id=\"E6&lt;-E7\" style=\"stroke: #383838; stroke-width: 1.0;\"/><polygon fill=\"#383838\" points=\"149.54,648.22,149.4851,655.4309,156.1201,658.255,156.1751,651.0441,149.54,648.22\" style=\"stroke: #383838; stroke-width: 1.0;\"/><text fill=\"#000000\" font-family=\"sans-serif\" font-size=\"13\" lengthAdjust=\"spacingAndGlyphs\" textLength=\"8\" x=\"178.7342\" y=\"701.5376\">1</text></a><!--MD5=[14ccda38c055a5c0da953d572bc50960]\n",
       "link E7 to E3--><a href=\"psysml:d4047a87-2764-4bb9-9711-6fad77bbdb97\" target=\"_top\" title=\"psysml:d4047a87-2764-4bb9-9711-6fad77bbdb97\" xlink:actuate=\"onRequest\" xlink:href=\"psysml:d4047a87-2764-4bb9-9711-6fad77bbdb97\" xlink:show=\"new\" xlink:title=\"psysml:d4047a87-2764-4bb9-9711-6fad77bbdb97\" xlink:type=\"simple\"><path d=\"M212.55,712.28 C218.38,690.5 226,656.26 226,626 C226,319 226,319 226,319 C226,282.18 199.26,250.31 172.91,227.83 \" fill=\"none\" id=\"E7-&gt;E3\" style=\"stroke: #383838; stroke-width: 1.0;\"/><polygon fill=\"#FFFFFF\" points=\"157.21,215.4,176.4527,221.7023,167.7644,232.6802,157.21,215.4\" style=\"stroke: #383838; stroke-width: 1.0;\"/><ellipse cx=\"179.681\" cy=\"226.808\" fill=\"#383838\" rx=\"2\" ry=\"2\" style=\"stroke: #383838; stroke-width: 1.0;\"/><ellipse cx=\"173.4751\" cy=\"234.6493\" fill=\"#383838\" rx=\"2\" ry=\"2\" style=\"stroke: #383838; stroke-width: 1.0;\"/></a><!--MD5=[f4cf0736d43fd73c4ef68817c49d37d5]\n",
       "reverse link E6 to E8--><a href=\"psysml:e9c4c173-85e4-4370-85e4-1c8f2eb4171b\" target=\"_top\" title=\"psysml:e9c4c173-85e4-4370-85e4-1c8f2eb4171b\" xlink:actuate=\"onRequest\" xlink:href=\"psysml:e9c4c173-85e4-4370-85e4-1c8f2eb4171b\" xlink:show=\"new\" xlink:title=\"psysml:e9c4c173-85e4-4370-85e4-1c8f2eb4171b\" xlink:type=\"simple\"><path d=\"M113.09,659.48 C101.85,676.66 88.47,697.11 78.52,712.31 \" fill=\"none\" id=\"E6&lt;-E8\" style=\"stroke: #383838; stroke-width: 1.0;\"/><polygon fill=\"#FFFFFF\" points=\"120.46,648.22,113.8249,651.0441,113.8799,658.255,120.5149,655.4309,120.46,648.22\" style=\"stroke: #383838; stroke-width: 1.0;\"/><text fill=\"#000000\" font-family=\"sans-serif\" font-size=\"13\" lengthAdjust=\"spacingAndGlyphs\" textLength=\"8\" x=\"73.2158\" y=\"701.5376\">1</text></a><!--MD5=[e88d06e5a652d73a6b19930eefe025a8]\n",
       "reverse link E6 to E9--><a href=\"psysml:ab2aae6d-159f-4d7a-a99e-78671a533366\" target=\"_top\" title=\"psysml:ab2aae6d-159f-4d7a-a99e-78671a533366\" xlink:actuate=\"onRequest\" xlink:href=\"psysml:ab2aae6d-159f-4d7a-a99e-78671a533366\" xlink:show=\"new\" xlink:title=\"psysml:ab2aae6d-159f-4d7a-a99e-78671a533366\" xlink:type=\"simple\"><path d=\"M135,663.49 C135,678.47 135,695.34 135,708.88 \" fill=\"none\" id=\"E6&lt;-E9\" style=\"stroke: #383838; stroke-width: 1.0;\"/><ellipse cx=\"135\" cy=\"656.22\" fill=\"#FFFFFF\" rx=\"8\" ry=\"8\" style=\"stroke: #383838; stroke-width: 1.0;\"/><line style=\"stroke: #383838; stroke-width: 1.0;\" x1=\"135\" x2=\"135\" y1=\"664.22\" y2=\"648.22\"/><line style=\"stroke: #383838; stroke-width: 1.0;\" x1=\"127\" x2=\"143\" y1=\"656.22\" y2=\"656.22\"/></a><!--MD5=[f78a29d5932556fa1060671a2a6507d8]\n",
       "link E5 to E10--><a href=\"psysml:09169cbe-938d-4307-a584-0b24a5ad62ce\" target=\"_top\" title=\"psysml:09169cbe-938d-4307-a584-0b24a5ad62ce\" xlink:actuate=\"onRequest\" xlink:href=\"psysml:09169cbe-938d-4307-a584-0b24a5ad62ce\" xlink:show=\"new\" xlink:title=\"psysml:09169cbe-938d-4307-a584-0b24a5ad62ce\" xlink:type=\"simple\"><path d=\"M164.41,343.25 C159.9,365.16 152.82,399.53 146.73,429.05 \" fill=\"none\" id=\"E5-&gt;E10\" style=\"stroke: #383838; stroke-width: 1.0;\"/><polygon fill=\"#FFFFFF\" points=\"142.63,448.98,139.6015,428.9593,153.3144,431.7799,142.63,448.98\" style=\"stroke: #383838; stroke-width: 1.0;\"/><ellipse cx=\"142.7089\" cy=\"423.7791\" fill=\"#383838\" rx=\"2\" ry=\"2\" style=\"stroke: #383838; stroke-width: 1.0;\"/><ellipse cx=\"152.5038\" cy=\"425.7938\" fill=\"#383838\" rx=\"2\" ry=\"2\" style=\"stroke: #383838; stroke-width: 1.0;\"/></a><!--MD5=[8e04057e7b3cbc0dca4fc78ea351e2da]\n",
       "reverse link E10 to E3--><a href=\"psysml:75696b56-911c-4e7f-a413-6399c7af4d3a\" target=\"_top\" title=\"psysml:75696b56-911c-4e7f-a413-6399c7af4d3a\" xlink:actuate=\"onRequest\" xlink:href=\"psysml:75696b56-911c-4e7f-a413-6399c7af4d3a\" xlink:show=\"new\" xlink:title=\"psysml:75696b56-911c-4e7f-a413-6399c7af4d3a\" xlink:type=\"simple\"><path d=\"M129.29,435.52 C126.48,408.18 123.4,373.78 122,343 C120.37,306.97 120.5,266.02 120.97,236.02 \" fill=\"none\" id=\"E10&lt;-E3\" style=\"stroke: #383838; stroke-width: 1.0;\"/><polygon fill=\"#FFFFFF\" points=\"130.68,448.73,134.0248,442.3415,129.4142,436.7969,126.0694,443.1854,130.68,448.73\" style=\"stroke: #383838; stroke-width: 1.0;\"/><text fill=\"#000000\" font-family=\"sans-serif\" font-size=\"13\" lengthAdjust=\"spacingAndGlyphs\" textLength=\"7\" x=\"123\" y=\"324.5669\">y</text></a><!--MD5=[604cbf994c02b74b117f728a71673cea]\n",
       "reverse link E10 to E6--><a href=\"psysml:75696b56-911c-4e7f-a413-6399c7af4d3a\" target=\"_top\" title=\"psysml:75696b56-911c-4e7f-a413-6399c7af4d3a\" xlink:actuate=\"onRequest\" xlink:href=\"psysml:75696b56-911c-4e7f-a413-6399c7af4d3a\" xlink:show=\"new\" xlink:title=\"psysml:75696b56-911c-4e7f-a413-6399c7af4d3a\" xlink:type=\"simple\"><path d=\"M135,538.33 C135,560.16 135,584.6 135,601.77 \" fill=\"none\" id=\"E10&lt;-E6\" style=\"stroke: #383838; stroke-width: 1.0;\"/><polygon fill=\"#FFFFFF\" points=\"135,525.16,131,531.16,135,537.16,139,531.16,135,525.16\" style=\"stroke: #383838; stroke-width: 1.0;\"/><text fill=\"#000000\" font-family=\"sans-serif\" font-size=\"13\" lengthAdjust=\"spacingAndGlyphs\" textLength=\"7\" x=\"136\" y=\"568.0669\">y</text></a><!--MD5=[e2edd5a4ce031f6bdd9b92ac0f41d6c9]\n",
       "@startuml\r\n",
       "skinparam monochrome true\r\n",
       "skinparam classbackgroundcolor white\r\n",
       "skinparam shadowing false\r\n",
       "skinparam wrapWidth 300\r\n",
       "hide circle\r\n",
       "\r\n",
       "package \"PartTest\" as E1  [[psysml:538b1265-15ae-4afd-8dd2-ef0f57b41a53 ]]  {\r\n",
       "comp usage \"f: A \" as E2  <<(T,blue) part>> [[psysml:2c090466-3d5c-4444-ba17-090921dc2443 ]] {\r\n",
       "}\r\n",
       "comp def \"A\" as E3  <<(T,blue) part  def>> [[psysml:d1b7cfcb-f6eb-4e6c-b82e-69976e6757f6 ]] {\r\n",
       "- - attributes - -\r\n",
       "x\r\n",
       "y:> A::x\r\n",
       "}\r\n",
       "comp usage \"b: B \" as E4  <<(T,blue) part>> [[psysml:1aa2f075-dfbc-4c28-975e-f9b78ce76d6b ]] {\r\n",
       "}\r\n",
       "comp usage \"c: C \" as E5  <<(T,blue) port>> [[psysml:6b6fc427-035b-4f92-af2f-ae5f46ec13e5 ]] {\r\n",
       "}\r\n",
       "comp def \"<i>B</i>\" as E6  <<(T,blue) part  def>> [[psysml:286e6ef4-92d4-4c1b-a17d-09881da7698b ]] {\r\n",
       "}\r\n",
       "comp usage \"<i>a</i>: A \" as E7  <<(T,blue) part>> [[psysml:215e87e2-ee75-46c7-98ea-4ce8794cdbad ]] {\r\n",
       "}\r\n",
       "comp usage \"x: ~C \" as E8  <<(T,blue) port>> [[psysml:27d37788-2b75-4a5c-b4fe-9553c2483e93 ]] {\r\n",
       "}\r\n",
       "package \"P\" as E9  [[psysml:e555f4d2-547d-4756-8b33-5fda3be7b359 ]]  {\r\n",
       "}\r\n",
       "comp def \"C\" as E10  <<(T,blue) port  def>> [[psysml:3d6805d2-0d33-47df-af88-6771a9177656 ]] {\r\n",
       "- - parameters - -\r\n",
       "<b>in</b> y: A, B <b>alias</b> z2 \r\n",
       "}\r\n",
       "}\r\n",
       "E2 - -:|> E3 [[psysml:02703352-f69e-4a4b-893d-89c09588fdfd ]] \r\n",
       "E3 *- - \"1\"E4 [[psysml:e82a868e-a957-4308-9aca-5f2e1a046a10 ]] \r\n",
       "E3 o- - \"1\"E5 [[psysml:01f43deb-5863-4903-863e-c9a23e0a1180 ]] \r\n",
       "E4 - -:|> E6 [[psysml:6f8c5931-99ab-4f3d-9640-f9d86b709835 ]] \r\n",
       "E6 *- - \"1\"E7 [[psysml:ef71999d-b74e-4e5c-b2f7-aebb94a9d32a ]] \r\n",
       "E7 - -:|> E3 [[psysml:d4047a87-2764-4bb9-9711-6fad77bbdb97 ]] \r\n",
       "E6 o- - \"1\"E8 [[psysml:e9c4c173-85e4-4370-85e4-1c8f2eb4171b ]] \r\n",
       "E6 +- - E9 [[psysml:ab2aae6d-159f-4d7a-a99e-78671a533366 ]] \r\n",
       "E5 - -:|> E10 [[psysml:09169cbe-938d-4307-a584-0b24a5ad62ce ]] \r\n",
       "E10 o- - E3 [[psysml:75696b56-911c-4e7f-a413-6399c7af4d3a ]] : y\r\n",
       "E10 o- - E6 [[psysml:75696b56-911c-4e7f-a413-6399c7af4d3a ]] : y\r\n",
       "@enduml\r\n",
       "\n",
       "PlantUML version 1.2020.13(Sat Jun 13 12:26:38 UTC 2020)\n",
       "(EPL source distribution)\n",
       "Java Runtime: OpenJDK Runtime Environment\n",
       "JVM: OpenJDK 64-Bit Server VM\n",
       "Default Encoding: UTF-8\n",
       "Language: en\n",
       "Country: null\n",
       "--></g></svg>"
      ]
     },
     "execution_count": 38,
     "metadata": {},
     "output_type": "execute_result"
    }
   ],
   "source": [
    "%viz --style=\"DEFAULT\" --view=\"Tree\" \"PartTest\""
   ]
  },
  {
   "cell_type": "code",
   "execution_count": 39,
   "id": "b5aa085f",
   "metadata": {
    "execution": {
     "iopub.execute_input": "2022-05-19T08:45:14.334677Z",
     "iopub.status.busy": "2022-05-19T08:45:14.334218Z",
     "iopub.status.idle": "2022-05-19T08:45:14.339119Z",
     "shell.execute_reply": "2022-05-19T08:45:14.338739Z"
    }
   },
   "outputs": [
    {
     "data": {
      "image/svg+xml": [
       "<?xml version=\"1.0\" encoding=\"UTF-8\" standalone=\"no\"?><svg xmlns=\"http://www.w3.org/2000/svg\" xmlns:xlink=\"http://www.w3.org/1999/xlink\" contentScriptType=\"application/ecmascript\" contentStyleType=\"text/css\" height=\"12px\" preserveAspectRatio=\"none\" style=\"width:12px;height:12px;\" version=\"1.1\" viewBox=\"0 0 12 12\" width=\"12px\" zoomAndPan=\"magnify\"><defs/><g><!--MD5=[c5f280e076d0d61ccf4b0f27871bda1d]\n",
       "@startuml\r\n",
       "skinparam monochrome true\r\n",
       "skinparam classbackgroundcolor white\r\n",
       "skinparam shadowing false\r\n",
       "skinparam wrapWidth 300\r\n",
       "hide circle\r\n",
       "\r\n",
       "@enduml\r\n",
       "\n",
       "PlantUML version 1.2020.13(Sat Jun 13 12:26:38 UTC 2020)\n",
       "(EPL source distribution)\n",
       "Java Runtime: OpenJDK Runtime Environment\n",
       "JVM: OpenJDK 64-Bit Server VM\n",
       "Default Encoding: UTF-8\n",
       "Language: en\n",
       "Country: null\n",
       "--></g></svg>"
      ]
     },
     "execution_count": 39,
     "metadata": {},
     "output_type": "execute_result"
    }
   ],
   "source": [
    "%viz --style=\"DEFAULT\" --view=\"State\" \"PartTest\""
   ]
  },
  {
   "cell_type": "code",
   "execution_count": 40,
   "id": "ca962cfd",
   "metadata": {
    "execution": {
     "iopub.execute_input": "2022-05-19T08:45:14.389097Z",
     "iopub.status.busy": "2022-05-19T08:45:14.388640Z",
     "iopub.status.idle": "2022-05-19T08:45:14.435029Z",
     "shell.execute_reply": "2022-05-19T08:45:14.433458Z"
    }
   },
   "outputs": [
    {
     "data": {
      "image/svg+xml": [
       "<?xml version=\"1.0\" encoding=\"UTF-8\" standalone=\"no\"?><svg xmlns=\"http://www.w3.org/2000/svg\" xmlns:xlink=\"http://www.w3.org/1999/xlink\" contentScriptType=\"application/ecmascript\" contentStyleType=\"text/css\" height=\"429px\" preserveAspectRatio=\"none\" style=\"width:639px;height:429px;\" version=\"1.1\" viewBox=\"0 0 639 429\" width=\"639px\" zoomAndPan=\"magnify\"><defs/><g><!--MD5=[fbc87193dbaf4d95561dea2c320d4a47]\n",
       "cluster E1--><a href=\"psysml:538b1265-15ae-4afd-8dd2-ef0f57b41a53\" target=\"_top\" title=\"psysml:538b1265-15ae-4afd-8dd2-ef0f57b41a53\" xlink:actuate=\"onRequest\" xlink:href=\"psysml:538b1265-15ae-4afd-8dd2-ef0f57b41a53\" xlink:show=\"new\" xlink:title=\"psysml:538b1265-15ae-4afd-8dd2-ef0f57b41a53\" xlink:type=\"simple\"><polygon fill=\"#FFFFFF\" points=\"16,6,80,6,87,28.2969,617,28.2969,617,417.5,16,417.5,16,6\" style=\"stroke: #000000; stroke-width: 1.5;\"/><line style=\"stroke: #000000; stroke-width: 1.5;\" x1=\"16\" x2=\"87\" y1=\"28.2969\" y2=\"28.2969\"/><text fill=\"#000000\" font-family=\"sans-serif\" font-size=\"14\" font-weight=\"bold\" lengthAdjust=\"spacingAndGlyphs\" textLength=\"58\" x=\"20\" y=\"20.9951\">PartTest</text></a><!--MD5=[d5e69f78d87373223dbae638b30a9c99]\n",
       "cluster E3--><a href=\"psysml:d1b7cfcb-f6eb-4e6c-b82e-69976e6757f6\" target=\"_top\" title=\"psysml:d1b7cfcb-f6eb-4e6c-b82e-69976e6757f6\" xlink:actuate=\"onRequest\" xlink:href=\"psysml:d1b7cfcb-f6eb-4e6c-b82e-69976e6757f6\" xlink:show=\"new\" xlink:title=\"psysml:d1b7cfcb-f6eb-4e6c-b82e-69976e6757f6\" xlink:type=\"simple\"><rect fill=\"#FFFFFF\" height=\"171.5\" id=\"E3\" style=\"stroke: #383838; stroke-width: 1.5;\" width=\"246\" x=\"98\" y=\"63\"/><rect fill=\"#F8F8F8\" height=\"37.9375\" style=\"stroke: #383838; stroke-width: 1.5;\" width=\"246\" x=\"98\" y=\"63\"/><text fill=\"#000000\" font-family=\"sans-serif\" font-size=\"12\" font-style=\"italic\" lengthAdjust=\"spacingAndGlyphs\" textLength=\"68\" x=\"187\" y=\"79.1387\">«part  def»</text><text fill=\"#000000\" font-family=\"sans-serif\" font-size=\"12\" lengthAdjust=\"spacingAndGlyphs\" textLength=\"8\" x=\"217\" y=\"93.1074\">A</text></a><!--MD5=[55dfccfc6c49c2d10cd1bd2211a6c90c]\n",
       "cluster E8--><a href=\"psysml:286e6ef4-92d4-4c1b-a17d-09881da7698b\" target=\"_top\" title=\"psysml:286e6ef4-92d4-4c1b-a17d-09881da7698b\" xlink:actuate=\"onRequest\" xlink:href=\"psysml:286e6ef4-92d4-4c1b-a17d-09881da7698b\" xlink:show=\"new\" xlink:title=\"psysml:286e6ef4-92d4-4c1b-a17d-09881da7698b\" xlink:type=\"simple\"><rect fill=\"#FFFFFF\" height=\"206\" id=\"E8\" style=\"stroke: #383838; stroke-width: 1.5;\" width=\"225\" x=\"368\" y=\"187.5\"/><rect fill=\"#F8F8F8\" height=\"37.9375\" style=\"stroke: #383838; stroke-width: 1.5;\" width=\"225\" x=\"368\" y=\"187.5\"/><text fill=\"#000000\" font-family=\"sans-serif\" font-size=\"12\" font-style=\"italic\" lengthAdjust=\"spacingAndGlyphs\" textLength=\"68\" x=\"446.5\" y=\"203.6387\">«part  def»</text><text fill=\"#000000\" font-family=\"sans-serif\" font-size=\"12\" font-style=\"italic\" lengthAdjust=\"spacingAndGlyphs\" textLength=\"8\" x=\"476.5\" y=\"217.6074\">B</text></a><g id=\"E1.E12\"><a href=\"psysml:3d6805d2-0d33-47df-af88-6771a9177656\" target=\"_top\" title=\"psysml:3d6805d2-0d33-47df-af88-6771a9177656\" xlink:actuate=\"onRequest\" xlink:href=\"psysml:3d6805d2-0d33-47df-af88-6771a9177656\" xlink:show=\"new\" xlink:title=\"psysml:3d6805d2-0d33-47df-af88-6771a9177656\" xlink:type=\"simple\"><rect fill=\"#FFFFFF\" height=\"42.9375\" id=\"E12\" style=\"stroke: #383838; stroke-width: 1.5;\" width=\"75\" x=\"442.5\" y=\"41.5\"/><rect fill=\"#F8F8F8\" height=\"37.9375\" style=\"stroke: #383838; stroke-width: 1.5;\" width=\"75\" x=\"442.5\" y=\"41.5\"/><text fill=\"#000000\" font-family=\"sans-serif\" font-size=\"12\" font-style=\"italic\" lengthAdjust=\"spacingAndGlyphs\" textLength=\"68\" x=\"446\" y=\"57.6387\">«port  def»</text><text fill=\"#000000\" font-family=\"sans-serif\" font-size=\"12\" lengthAdjust=\"spacingAndGlyphs\" textLength=\"8\" x=\"476\" y=\"71.6074\">C</text></a></g><g id=\"E1.E2\"><a href=\"psysml:2c090466-3d5c-4444-ba17-090921dc2443\" target=\"_top\" title=\"psysml:2c090466-3d5c-4444-ba17-090921dc2443\" xlink:actuate=\"onRequest\" xlink:href=\"psysml:2c090466-3d5c-4444-ba17-090921dc2443\" xlink:show=\"new\" xlink:title=\"psysml:2c090466-3d5c-4444-ba17-090921dc2443\" xlink:type=\"simple\"><rect fill=\"#FFFFFF\" height=\"40\" id=\"E2\" rx=\"10\" ry=\"10\" style=\"stroke: #383838; stroke-width: 1.5;\" width=\"50\" x=\"32\" y=\"43\"/><rect fill=\"#F8F8F8\" height=\"23.9688\" rx=\"10\" ry=\"10\" style=\"stroke: #F8F8F8; stroke-width: 1.5;\" width=\"50\" x=\"32\" y=\"43\"/><rect fill=\"#F8F8F8\" height=\"10\" style=\"stroke: #F8F8F8; stroke-width: 1.5;\" width=\"50\" x=\"32\" y=\"56.9688\"/><rect fill=\"none\" height=\"40\" id=\"E2\" rx=\"10\" ry=\"10\" style=\"stroke: #383838; stroke-width: 1.5;\" width=\"50\" x=\"32\" y=\"43\"/><text fill=\"#000000\" font-family=\"sans-serif\" font-size=\"12\" lengthAdjust=\"spacingAndGlyphs\" textLength=\"20\" x=\"47\" y=\"59.1387\">f: A</text></a></g><text fill=\"#000000\" font-family=\"sans-serif\" font-size=\"14\" lengthAdjust=\"spacingAndGlyphs\" textLength=\"27\" x=\"258.5\" y=\"41.6982\">c: C</text><rect fill=\"#383838\" height=\"12\" style=\"stroke: #F8F8F8; stroke-width: 1.5;\" width=\"12\" x=\"268\" y=\"57\"/><!--MD5=[60a26617385b1d2d0262a64233df1f8d]\n",
       "class E6--><a href=\"psysml:06f02a55-455e-4cd3-969d-a4f55ea12e51\" target=\"_top\" title=\"psysml:06f02a55-455e-4cd3-969d-a4f55ea12e51\" xlink:actuate=\"onRequest\" xlink:href=\"psysml:06f02a55-455e-4cd3-969d-a4f55ea12e51\" xlink:show=\"new\" xlink:title=\"psysml:06f02a55-455e-4cd3-969d-a4f55ea12e51\" xlink:type=\"simple\"><rect fill=\"#FFFFFF\" height=\"45.9375\" id=\"E6\" rx=\"10\" ry=\"10\" style=\"stroke: #383838; stroke-width: 1.5;\" width=\"71\" x=\"122.5\" y=\"164.5\"/><text fill=\"#000000\" font-family=\"sans-serif\" font-size=\"12\" font-style=\"italic\" lengthAdjust=\"spacingAndGlyphs\" textLength=\"69\" x=\"123.5\" y=\"180.6387\">«attribute»</text><text fill=\"#000000\" font-family=\"sans-serif\" font-size=\"12\" lengthAdjust=\"spacingAndGlyphs\" textLength=\"6\" x=\"153\" y=\"194.6074\">x</text><line style=\"stroke: #383838; stroke-width: 1.5;\" x1=\"123.5\" x2=\"192.5\" y1=\"202.4375\" y2=\"202.4375\"/></a><!--MD5=[2156ba9850f5573cc1fc38a6a4b2f02b]\n",
       "class E7--><a href=\"psysml:76b35b38-8c6d-4280-8e5f-8b677c2aa039\" target=\"_top\" title=\"psysml:76b35b38-8c6d-4280-8e5f-8b677c2aa039\" xlink:actuate=\"onRequest\" xlink:href=\"psysml:76b35b38-8c6d-4280-8e5f-8b677c2aa039\" xlink:show=\"new\" xlink:title=\"psysml:76b35b38-8c6d-4280-8e5f-8b677c2aa039\" xlink:type=\"simple\"><rect fill=\"#FFFFFF\" height=\"45.9375\" id=\"E7\" rx=\"10\" ry=\"10\" style=\"stroke: #383838; stroke-width: 1.5;\" width=\"71\" x=\"122.5\" y=\"108.5\"/><text fill=\"#000000\" font-family=\"sans-serif\" font-size=\"12\" font-style=\"italic\" lengthAdjust=\"spacingAndGlyphs\" textLength=\"69\" x=\"123.5\" y=\"124.6387\">«attribute»</text><text fill=\"#000000\" font-family=\"sans-serif\" font-size=\"12\" lengthAdjust=\"spacingAndGlyphs\" textLength=\"50\" x=\"133\" y=\"138.6074\">y :&gt; A::x</text><line style=\"stroke: #383838; stroke-width: 1.5;\" x1=\"123.5\" x2=\"192.5\" y1=\"146.4375\" y2=\"146.4375\"/></a><g id=\"E1.E3.E4\"><a href=\"psysml:1aa2f075-dfbc-4c28-975e-f9b78ce76d6b\" target=\"_top\" title=\"psysml:1aa2f075-dfbc-4c28-975e-f9b78ce76d6b\" xlink:actuate=\"onRequest\" xlink:href=\"psysml:1aa2f075-dfbc-4c28-975e-f9b78ce76d6b\" xlink:show=\"new\" xlink:title=\"psysml:1aa2f075-dfbc-4c28-975e-f9b78ce76d6b\" xlink:type=\"simple\"><rect fill=\"#FFFFFF\" height=\"40\" id=\"E4\" rx=\"10\" ry=\"10\" style=\"stroke: #383838; stroke-width: 1.5;\" width=\"50\" x=\"259\" y=\"167.5\"/><rect fill=\"#F8F8F8\" height=\"23.9688\" rx=\"10\" ry=\"10\" style=\"stroke: #F8F8F8; stroke-width: 1.5;\" width=\"50\" x=\"259\" y=\"167.5\"/><rect fill=\"#F8F8F8\" height=\"10\" style=\"stroke: #F8F8F8; stroke-width: 1.5;\" width=\"50\" x=\"259\" y=\"181.4688\"/><rect fill=\"none\" height=\"40\" id=\"E4\" rx=\"10\" ry=\"10\" style=\"stroke: #383838; stroke-width: 1.5;\" width=\"50\" x=\"259\" y=\"167.5\"/><text fill=\"#000000\" font-family=\"sans-serif\" font-size=\"12\" lengthAdjust=\"spacingAndGlyphs\" textLength=\"24\" x=\"272\" y=\"183.6387\">b: B</text></a></g><text fill=\"#000000\" font-family=\"sans-serif\" font-size=\"14\" lengthAdjust=\"spacingAndGlyphs\" textLength=\"38\" x=\"502\" y=\"166.1982\">x: ~C</text><rect fill=\"#383838\" height=\"12\" style=\"stroke: #F8F8F8; stroke-width: 1.5;\" width=\"12\" x=\"517\" y=\"181.5\"/><g id=\"E1.E8.E9\"><a href=\"psysml:215e87e2-ee75-46c7-98ea-4ce8794cdbad\" target=\"_top\" title=\"psysml:215e87e2-ee75-46c7-98ea-4ce8794cdbad\" xlink:actuate=\"onRequest\" xlink:href=\"psysml:215e87e2-ee75-46c7-98ea-4ce8794cdbad\" xlink:show=\"new\" xlink:title=\"psysml:215e87e2-ee75-46c7-98ea-4ce8794cdbad\" xlink:type=\"simple\"><rect fill=\"#FFFFFF\" height=\"40\" id=\"E9\" rx=\"10\" ry=\"10\" style=\"stroke: #383838; stroke-width: 1.5;\" width=\"50\" x=\"392\" y=\"266.5\"/><rect fill=\"#F8F8F8\" height=\"23.9688\" rx=\"10\" ry=\"10\" style=\"stroke: #F8F8F8; stroke-width: 1.5;\" width=\"50\" x=\"392\" y=\"266.5\"/><rect fill=\"#F8F8F8\" height=\"10\" style=\"stroke: #F8F8F8; stroke-width: 1.5;\" width=\"50\" x=\"392\" y=\"280.4688\"/><rect fill=\"none\" height=\"40\" id=\"E9\" rx=\"10\" ry=\"10\" style=\"stroke: #383838; stroke-width: 1.5;\" width=\"50\" x=\"392\" y=\"266.5\"/><text fill=\"#000000\" font-family=\"sans-serif\" font-size=\"12\" lengthAdjust=\"spacingAndGlyphs\" textLength=\"24\" x=\"405\" y=\"282.6387\">a: A</text></a></g><a href=\"psysml:e555f4d2-547d-4756-8b33-5fda3be7b359\" target=\"_top\" title=\"psysml:e555f4d2-547d-4756-8b33-5fda3be7b359\" xlink:actuate=\"onRequest\" xlink:href=\"psysml:e555f4d2-547d-4756-8b33-5fda3be7b359\" xlink:show=\"new\" xlink:title=\"psysml:e555f4d2-547d-4756-8b33-5fda3be7b359\" xlink:type=\"simple\"><polygon fill=\"#FFFFFF\" points=\"508.5,316.5,523.5,316.5,530.5,338.7969,537.5,338.7969,537.5,369.0938,508.5,369.0938,508.5,316.5\" style=\"stroke: #000000; stroke-width: 1.5;\"/><line style=\"stroke: #000000; stroke-width: 1.5;\" x1=\"508.5\" x2=\"530.5\" y1=\"338.7969\" y2=\"338.7969\"/><text fill=\"#000000\" font-family=\"sans-serif\" font-size=\"14\" font-weight=\"bold\" lengthAdjust=\"spacingAndGlyphs\" textLength=\"9\" x=\"512.5\" y=\"331.4951\">P</text></a><!--MD5=[2720a5a1f2c3fca2055b230370638851]\n",
       "link E2 to E3--><a href=\"psysml:02703352-f69e-4a4b-893d-89c09588fdfd\" target=\"_top\" title=\"psysml:02703352-f69e-4a4b-893d-89c09588fdfd\" xlink:actuate=\"onRequest\" xlink:href=\"psysml:02703352-f69e-4a4b-893d-89c09588fdfd\" xlink:show=\"new\" xlink:title=\"psysml:02703352-f69e-4a4b-893d-89c09588fdfd\" xlink:type=\"simple\"><path d=\"M82.35,81.39 C84.86,82.61 87.43,83.67 90,84.5 C91.6034,85.0153 93.1746,85.4905 94.7155,85.9279 C95.486,86.1467 96.2489,86.356 97.0045,86.5562 C97.1934,86.6063 97.3818,86.6558 97.5698,86.7047 \" fill=\"none\" id=\"E2-&gt;E3\" style=\"stroke: #383838; stroke-width: 1.0;\"/><polygon fill=\"#FFFFFF\" points=\"97.5698,86.7047,77.4193,88.6939,80.9452,75.1452,97.5698,86.7047\" style=\"stroke: #383838; stroke-width: 1.0;\"/><ellipse cx=\"72.4067\" cy=\"85.3228\" fill=\"#383838\" rx=\"2\" ry=\"2\" style=\"stroke: #383838; stroke-width: 1.0;\"/><ellipse cx=\"74.9252\" cy=\"75.6452\" fill=\"#383838\" rx=\"2\" ry=\"2\" style=\"stroke: #383838; stroke-width: 1.0;\"/></a><!--MD5=[353cdda3e1e05fc02373f055b6f604ae]\n",
       "link E4 to E8--><a href=\"psysml:6f8c5931-99ab-4f3d-9640-f9d86b709835\" target=\"_top\" title=\"psysml:6f8c5931-99ab-4f3d-9640-f9d86b709835\" xlink:actuate=\"onRequest\" xlink:href=\"psysml:6f8c5931-99ab-4f3d-9640-f9d86b709835\" xlink:show=\"new\" xlink:title=\"psysml:6f8c5931-99ab-4f3d-9640-f9d86b709835\" xlink:type=\"simple\"><path d=\"M304.49,207.74 C318.86,219.99 339.16,234.92 360,242.5 C362.6188,243.4525 365.1341,244.2668 367.5591,244.9596 \" fill=\"none\" id=\"E4-&gt;E8\" style=\"stroke: #383838; stroke-width: 1.0;\"/><polygon fill=\"#FFFFFF\" points=\"367.5591,244.9596,347.3671,246.471,351.2129,233.0096,367.5591,244.9596\" style=\"stroke: #383838; stroke-width: 1.0;\"/><ellipse cx=\"342.4358\" cy=\"242.9822\" fill=\"#383838\" rx=\"2\" ry=\"2\" style=\"stroke: #383838; stroke-width: 1.0;\"/><ellipse cx=\"345.1828\" cy=\"233.3669\" fill=\"#383838\" rx=\"2\" ry=\"2\" style=\"stroke: #383838; stroke-width: 1.0;\"/></a><!--MD5=[fbb449814971db3a0b8220cf225b9e01]\n",
       "link E7 to E6--><a href=\"psysml:ae54614b-4129-4b1b-b401-8ec489119004\" target=\"_top\" title=\"psysml:ae54614b-4129-4b1b-b401-8ec489119004\" xlink:actuate=\"onRequest\" xlink:href=\"psysml:ae54614b-4129-4b1b-b401-8ec489119004\" xlink:show=\"new\" xlink:title=\"psysml:ae54614b-4129-4b1b-b401-8ec489119004\" xlink:type=\"simple\"><path d=\"M158,154.78 C158,154.87 158,154.97 158,155.07 \" fill=\"none\" id=\"E7-&gt;E6\" style=\"stroke: #383838; stroke-width: 1.0;\"/><polygon fill=\"none\" points=\"165,144.28,158,164.28,151,144.28,165,144.28\" style=\"stroke: #383838; stroke-width: 1.0;\"/></a><!--MD5=[92a97fc68b0cf8efbbf01f4f6b4ceef7]\n",
       "link E9 to E3--><a href=\"psysml:d4047a87-2764-4bb9-9711-6fad77bbdb97\" target=\"_top\" title=\"psysml:d4047a87-2764-4bb9-9711-6fad77bbdb97\" xlink:actuate=\"onRequest\" xlink:href=\"psysml:d4047a87-2764-4bb9-9711-6fad77bbdb97\" xlink:show=\"new\" xlink:title=\"psysml:d4047a87-2764-4bb9-9711-6fad77bbdb97\" xlink:type=\"simple\"><path d=\"M405.86,266.08 C398.19,253.305 386.955,235.61 373.3975,217.2588 C366.6188,208.0831 359.2594,198.7434 351.4747,189.7727 C349.5285,187.53 347.5558,185.3103 345.5589,183.1221 C345.0596,182.575 344.5589,182.0299 344.0567,181.4869 \" fill=\"none\" id=\"E9-&gt;E3\" style=\"stroke: #383838; stroke-width: 1.0;\"/><polygon fill=\"#FFFFFF\" points=\"344.0567,181.4869,362.0965,190.6828,351.8184,200.1887,344.0567,181.4869\" style=\"stroke: #383838; stroke-width: 1.0;\"/><ellipse cx=\"364.4984\" cy=\"196.2255\" fill=\"#383838\" rx=\"2\" ry=\"2\" style=\"stroke: #383838; stroke-width: 1.0;\"/><ellipse cx=\"357.1569\" cy=\"203.0153\" fill=\"#383838\" rx=\"2\" ry=\"2\" style=\"stroke: #383838; stroke-width: 1.0;\"/></a><!--MD5=[f5824ce08184b57cfdac7e1f466277b3]\n",
       "@startuml\r\n",
       "skinparam ranksep 10\r\n",
       "skinparam rectangle {\r\n",
       " backgroundColor<<block>> LightGreen\r\n",
       "}\r\n",
       "skinparam monochrome true\r\n",
       "skinparam classbackgroundcolor white\r\n",
       "skinparam shadowing false\r\n",
       "skinparam wrapWidth 300\r\n",
       "hide circle\r\n",
       "\r\n",
       "package \"PartTest\" as E1  [[psysml:538b1265-15ae-4afd-8dd2-ef0f57b41a53 ]]  {\r\n",
       "rec usage \"f: A\" as E2  [[psysml:2c090466-3d5c-4444-ba17-090921dc2443 ]] {\r\n",
       "}\r\n",
       "rec def \"A\" as E3  <<(T,blue) part  def>> [[psysml:d1b7cfcb-f6eb-4e6c-b82e-69976e6757f6 ]] {\r\n",
       "rec usage \"b: B\" as E4  [[psysml:1aa2f075-dfbc-4c28-975e-f9b78ce76d6b ]] {\r\n",
       "}\r\n",
       "portin \"c: C \" as E5  <<(T,blue) port>> [[psysml:6b6fc427-035b-4f92-af2f-ae5f46ec13e5 ]] \r\n",
       "comp usage \"x \" as E6  <<(T,blue) attribute>> [[psysml:06f02a55-455e-4cd3-969d-a4f55ea12e51 ]] {\r\n",
       "}\r\n",
       "comp usage \"y :> A::x\" as E7  <<(T,blue) attribute>> [[psysml:76b35b38-8c6d-4280-8e5f-8b677c2aa039 ]] {\r\n",
       "}\r\n",
       "}\r\n",
       "rec def \"<i>B</i>\" as E8  <<(T,blue) part  def>> [[psysml:286e6ef4-92d4-4c1b-a17d-09881da7698b ]] {\r\n",
       "rec usage \"a: A\" as E9  [[psysml:215e87e2-ee75-46c7-98ea-4ce8794cdbad ]] {\r\n",
       "}\r\n",
       "portin \"x: ~C \" as E10  <<(T,blue) port>> [[psysml:27d37788-2b75-4a5c-b4fe-9553c2483e93 ]] \r\n",
       "package \"P\" as E11  [[psysml:e555f4d2-547d-4756-8b33-5fda3be7b359 ]]  {\r\n",
       "}\r\n",
       "}\r\n",
       "def \"C\" as E12  <<(T,blue) port  def>> [[psysml:3d6805d2-0d33-47df-af88-6771a9177656 ]] \r\n",
       "}\r\n",
       "E2 - -:|> E3 [[psysml:02703352-f69e-4a4b-893d-89c09588fdfd ]] \r\n",
       "E4 - -:|> E8 [[psysml:6f8c5931-99ab-4f3d-9640-f9d86b709835 ]] \r\n",
       "E7 - -|> E6 [[psysml:ae54614b-4129-4b1b-b401-8ec489119004 ]] \r\n",
       "E9 - -:|> E3 [[psysml:d4047a87-2764-4bb9-9711-6fad77bbdb97 ]] \r\n",
       "@enduml\r\n",
       "\n",
       "PlantUML version 1.2020.13(Sat Jun 13 12:26:38 UTC 2020)\n",
       "(EPL source distribution)\n",
       "Java Runtime: OpenJDK Runtime Environment\n",
       "JVM: OpenJDK 64-Bit Server VM\n",
       "Default Encoding: UTF-8\n",
       "Language: en\n",
       "Country: null\n",
       "--></g></svg>"
      ]
     },
     "execution_count": 40,
     "metadata": {},
     "output_type": "execute_result"
    }
   ],
   "source": [
    "%viz --style=\"DEFAULT\" --view=\"Interconnection\" \"PartTest\""
   ]
  },
  {
   "cell_type": "code",
   "execution_count": 41,
   "id": "cedbec2c",
   "metadata": {
    "execution": {
     "iopub.execute_input": "2022-05-19T08:45:14.484340Z",
     "iopub.status.busy": "2022-05-19T08:45:14.483885Z",
     "iopub.status.idle": "2022-05-19T08:45:14.488589Z",
     "shell.execute_reply": "2022-05-19T08:45:14.488195Z"
    }
   },
   "outputs": [
    {
     "data": {
      "image/svg+xml": [
       "<?xml version=\"1.0\" encoding=\"UTF-8\" standalone=\"no\"?><svg xmlns=\"http://www.w3.org/2000/svg\" xmlns:xlink=\"http://www.w3.org/1999/xlink\" contentScriptType=\"application/ecmascript\" contentStyleType=\"text/css\" height=\"12px\" preserveAspectRatio=\"none\" style=\"width:12px;height:12px;\" version=\"1.1\" viewBox=\"0 0 12 12\" width=\"12px\" zoomAndPan=\"magnify\"><defs/><g><!--MD5=[388f21188e31bfdd97050473b19af356]\n",
       "@startuml\r\n",
       "skinparam ranksep 8\r\n",
       "skinparam monochrome true\r\n",
       "skinparam classbackgroundcolor white\r\n",
       "skinparam shadowing false\r\n",
       "skinparam wrapWidth 300\r\n",
       "hide circle\r\n",
       "\r\n",
       "@enduml\r\n",
       "\n",
       "PlantUML version 1.2020.13(Sat Jun 13 12:26:38 UTC 2020)\n",
       "(EPL source distribution)\n",
       "Java Runtime: OpenJDK Runtime Environment\n",
       "JVM: OpenJDK 64-Bit Server VM\n",
       "Default Encoding: UTF-8\n",
       "Language: en\n",
       "Country: null\n",
       "--></g></svg>"
      ]
     },
     "execution_count": 41,
     "metadata": {},
     "output_type": "execute_result"
    }
   ],
   "source": [
    "%viz --style=\"DEFAULT\" --view=\"Action\" \"PartTest\""
   ]
  },
  {
   "cell_type": "code",
   "execution_count": 42,
   "id": "c4781f13",
   "metadata": {
    "execution": {
     "iopub.execute_input": "2022-05-19T08:45:14.538423Z",
     "iopub.status.busy": "2022-05-19T08:45:14.537970Z",
     "iopub.status.idle": "2022-05-19T08:45:14.543044Z",
     "shell.execute_reply": "2022-05-19T08:45:14.542669Z"
    }
   },
   "outputs": [
    {
     "data": {
      "image/svg+xml": [
       "<?xml version=\"1.0\" encoding=\"UTF-8\" standalone=\"no\"?><svg xmlns=\"http://www.w3.org/2000/svg\" xmlns:xlink=\"http://www.w3.org/1999/xlink\" contentScriptType=\"application/ecmascript\" contentStyleType=\"text/css\" height=\"12px\" preserveAspectRatio=\"none\" style=\"width:12px;height:12px;\" version=\"1.1\" viewBox=\"0 0 12 12\" width=\"12px\" zoomAndPan=\"magnify\"><defs/><g><!--MD5=[0b72472770326784bf6c2b53246e1e64]\n",
       "@startuml\r\n",
       "skinparam roundcorner 20\r\n",
       "skinparam BoxPadding 20\r\n",
       "skinparam SequenceBoxBackgroundColor #white\r\n",
       "skinparam style strictuml\r\n",
       "skinparam maxMessageSize 100\r\n",
       "skinparam monochrome true\r\n",
       "skinparam classbackgroundcolor white\r\n",
       "skinparam shadowing false\r\n",
       "skinparam wrapWidth 300\r\n",
       "hide circle\r\n",
       "\r\n",
       "@enduml\r\n",
       "\n",
       "PlantUML version 1.2020.13(Sat Jun 13 12:26:38 UTC 2020)\n",
       "(EPL source distribution)\n",
       "Java Runtime: OpenJDK Runtime Environment\n",
       "JVM: OpenJDK 64-Bit Server VM\n",
       "Default Encoding: UTF-8\n",
       "Language: en\n",
       "Country: null\n",
       "--></g></svg>"
      ]
     },
     "execution_count": 42,
     "metadata": {},
     "output_type": "execute_result"
    }
   ],
   "source": [
    "%viz --style=\"DEFAULT\" --view=\"Sequence\" \"PartTest\""
   ]
  },
  {
   "cell_type": "code",
   "execution_count": 43,
   "id": "66d7e7ab",
   "metadata": {
    "execution": {
     "iopub.execute_input": "2022-05-19T08:45:14.592997Z",
     "iopub.status.busy": "2022-05-19T08:45:14.592549Z",
     "iopub.status.idle": "2022-05-19T08:45:14.666397Z",
     "shell.execute_reply": "2022-05-19T08:45:14.664746Z"
    }
   },
   "outputs": [
    {
     "data": {
      "image/svg+xml": [
       "<?xml version=\"1.0\" encoding=\"UTF-8\" standalone=\"no\"?><svg xmlns=\"http://www.w3.org/2000/svg\" xmlns:xlink=\"http://www.w3.org/1999/xlink\" contentScriptType=\"application/ecmascript\" contentStyleType=\"text/css\" height=\"790px\" preserveAspectRatio=\"none\" style=\"width:265px;height:790px;\" version=\"1.1\" viewBox=\"0 0 265 790\" width=\"265px\" zoomAndPan=\"magnify\"><defs/><g><!--MD5=[fbc87193dbaf4d95561dea2c320d4a47]\n",
       "cluster E1--><a href=\"psysml:538b1265-15ae-4afd-8dd2-ef0f57b41a53\" target=\"_top\" title=\"psysml:538b1265-15ae-4afd-8dd2-ef0f57b41a53\" xlink:actuate=\"onRequest\" xlink:href=\"psysml:538b1265-15ae-4afd-8dd2-ef0f57b41a53\" xlink:show=\"new\" xlink:title=\"psysml:538b1265-15ae-4afd-8dd2-ef0f57b41a53\" xlink:type=\"simple\"><polygon fill=\"#FFFFFF\" points=\"16,6,80,6,87,28.2969,243,28.2969,243,778,16,778,16,6\" style=\"stroke: #000000; stroke-width: 1.5;\"/><line style=\"stroke: #000000; stroke-width: 1.5;\" x1=\"16\" x2=\"87\" y1=\"28.2969\" y2=\"28.2969\"/><text fill=\"#000000\" font-family=\"sans-serif\" font-size=\"14\" font-weight=\"bold\" lengthAdjust=\"spacingAndGlyphs\" textLength=\"58\" x=\"20\" y=\"20.9951\">PartTest</text></a><!--MD5=[b4997ac47864f28c2f74865a473b2911]\n",
       "class E2--><a href=\"psysml:2c090466-3d5c-4444-ba17-090921dc2443\" target=\"_top\" title=\"psysml:2c090466-3d5c-4444-ba17-090921dc2443\" xlink:actuate=\"onRequest\" xlink:href=\"psysml:2c090466-3d5c-4444-ba17-090921dc2443\" xlink:show=\"new\" xlink:title=\"psysml:2c090466-3d5c-4444-ba17-090921dc2443\" xlink:type=\"simple\"><rect fill=\"#FFFFFF\" height=\"45.9375\" id=\"E2\" rx=\"10\" ry=\"10\" style=\"stroke: #383838; stroke-width: 1.5;\" width=\"42\" x=\"101\" y=\"41\"/><text fill=\"#000000\" font-family=\"sans-serif\" font-size=\"12\" font-style=\"italic\" lengthAdjust=\"spacingAndGlyphs\" textLength=\"40\" x=\"102\" y=\"57.1387\">«part»</text><text fill=\"#000000\" font-family=\"sans-serif\" font-size=\"12\" lengthAdjust=\"spacingAndGlyphs\" textLength=\"20\" x=\"110\" y=\"71.1074\">f: A</text><line style=\"stroke: #383838; stroke-width: 1.5;\" x1=\"102\" x2=\"142\" y1=\"78.9375\" y2=\"78.9375\"/></a><!--MD5=[09b614a08d8cba4a07c9adeb5e0fee81]\n",
       "class E3--><a href=\"psysml:d1b7cfcb-f6eb-4e6c-b82e-69976e6757f6\" target=\"_top\" title=\"psysml:d1b7cfcb-f6eb-4e6c-b82e-69976e6757f6\" xlink:actuate=\"onRequest\" xlink:href=\"psysml:d1b7cfcb-f6eb-4e6c-b82e-69976e6757f6\" xlink:show=\"new\" xlink:title=\"psysml:d1b7cfcb-f6eb-4e6c-b82e-69976e6757f6\" xlink:type=\"simple\"><rect fill=\"#FFFFFF\" height=\"88.3516\" id=\"E3\" style=\"stroke: #383838; stroke-width: 1.5;\" width=\"70\" x=\"87\" y=\"148\"/><text fill=\"#000000\" font-family=\"sans-serif\" font-size=\"12\" font-style=\"italic\" lengthAdjust=\"spacingAndGlyphs\" textLength=\"68\" x=\"88\" y=\"164.1387\">«part  def»</text><text fill=\"#000000\" font-family=\"sans-serif\" font-size=\"12\" lengthAdjust=\"spacingAndGlyphs\" textLength=\"8\" x=\"118\" y=\"178.1074\">A</text><line style=\"stroke: #383838; stroke-width: 1.5;\" x1=\"88\" x2=\"156\" y1=\"185.9375\" y2=\"185.9375\"/><text fill=\"#000000\" font-family=\"sans-serif\" font-size=\"11\" lengthAdjust=\"spacingAndGlyphs\" textLength=\"6\" x=\"93\" y=\"216.9526\">x</text><text fill=\"#000000\" font-family=\"sans-serif\" font-size=\"11\" lengthAdjust=\"spacingAndGlyphs\" textLength=\"44\" x=\"93\" y=\"229.7573\">y:&gt; A::x</text><line style=\"stroke: #383838; stroke-width: 1.0;\" x1=\"88\" x2=\"94.5\" y1=\"200.3398\" y2=\"200.3398\"/><text fill=\"#000000\" font-family=\"sans-serif\" font-size=\"11\" lengthAdjust=\"spacingAndGlyphs\" textLength=\"55\" x=\"94.5\" y=\"203.6479\">attributes</text><line style=\"stroke: #383838; stroke-width: 1.0;\" x1=\"149.5\" x2=\"156\" y1=\"200.3398\" y2=\"200.3398\"/></a><!--MD5=[ebbe1d658d1005bcc118a6aa81145e00]\n",
       "class E4--><a href=\"psysml:1aa2f075-dfbc-4c28-975e-f9b78ce76d6b\" target=\"_top\" title=\"psysml:1aa2f075-dfbc-4c28-975e-f9b78ce76d6b\" xlink:actuate=\"onRequest\" xlink:href=\"psysml:1aa2f075-dfbc-4c28-975e-f9b78ce76d6b\" xlink:show=\"new\" xlink:title=\"psysml:1aa2f075-dfbc-4c28-975e-f9b78ce76d6b\" xlink:type=\"simple\"><rect fill=\"#FFFFFF\" height=\"45.9375\" id=\"E4\" rx=\"10\" ry=\"10\" style=\"stroke: #383838; stroke-width: 1.5;\" width=\"42\" x=\"32\" y=\"373\"/><text fill=\"#000000\" font-family=\"sans-serif\" font-size=\"12\" font-style=\"italic\" lengthAdjust=\"spacingAndGlyphs\" textLength=\"40\" x=\"33\" y=\"389.1387\">«part»</text><text fill=\"#000000\" font-family=\"sans-serif\" font-size=\"12\" lengthAdjust=\"spacingAndGlyphs\" textLength=\"24\" x=\"39\" y=\"403.1074\">b: B</text><line style=\"stroke: #383838; stroke-width: 1.5;\" x1=\"33\" x2=\"73\" y1=\"410.9375\" y2=\"410.9375\"/></a><!--MD5=[270fce915f116d4de14055a7c1d9a0f3]\n",
       "class E5--><a href=\"psysml:6b6fc427-035b-4f92-af2f-ae5f46ec13e5\" target=\"_top\" title=\"psysml:6b6fc427-035b-4f92-af2f-ae5f46ec13e5\" xlink:actuate=\"onRequest\" xlink:href=\"psysml:6b6fc427-035b-4f92-af2f-ae5f46ec13e5\" xlink:show=\"new\" xlink:title=\"psysml:6b6fc427-035b-4f92-af2f-ae5f46ec13e5\" xlink:type=\"simple\"><rect fill=\"#FFFFFF\" height=\"45.9375\" id=\"E5\" rx=\"10\" ry=\"10\" style=\"stroke: #383838; stroke-width: 1.5;\" width=\"42\" x=\"148\" y=\"297\"/><text fill=\"#000000\" font-family=\"sans-serif\" font-size=\"12\" font-style=\"italic\" lengthAdjust=\"spacingAndGlyphs\" textLength=\"40\" x=\"149\" y=\"313.1387\">«port»</text><text fill=\"#000000\" font-family=\"sans-serif\" font-size=\"12\" lengthAdjust=\"spacingAndGlyphs\" textLength=\"23\" x=\"155.5\" y=\"327.1074\">c: C</text><line style=\"stroke: #383838; stroke-width: 1.5;\" x1=\"149\" x2=\"189\" y1=\"334.9375\" y2=\"334.9375\"/></a><!--MD5=[60a26617385b1d2d0262a64233df1f8d]\n",
       "class E6--><a href=\"psysml:286e6ef4-92d4-4c1b-a17d-09881da7698b\" target=\"_top\" title=\"psysml:286e6ef4-92d4-4c1b-a17d-09881da7698b\" xlink:actuate=\"onRequest\" xlink:href=\"psysml:286e6ef4-92d4-4c1b-a17d-09881da7698b\" xlink:show=\"new\" xlink:title=\"psysml:286e6ef4-92d4-4c1b-a17d-09881da7698b\" xlink:type=\"simple\"><rect fill=\"#FFFFFF\" height=\"45.9375\" id=\"E6\" style=\"stroke: #383838; stroke-width: 1.5;\" width=\"70\" x=\"100\" y=\"602\"/><text fill=\"#000000\" font-family=\"sans-serif\" font-size=\"12\" font-style=\"italic\" lengthAdjust=\"spacingAndGlyphs\" textLength=\"68\" x=\"101\" y=\"618.1387\">«part  def»</text><text fill=\"#000000\" font-family=\"sans-serif\" font-size=\"12\" font-style=\"italic\" lengthAdjust=\"spacingAndGlyphs\" textLength=\"8\" x=\"131\" y=\"632.1074\">B</text><line style=\"stroke: #383838; stroke-width: 1.5;\" x1=\"101\" x2=\"169\" y1=\"639.9375\" y2=\"639.9375\"/></a><!--MD5=[2156ba9850f5573cc1fc38a6a4b2f02b]\n",
       "class E7--><a href=\"psysml:215e87e2-ee75-46c7-98ea-4ce8794cdbad\" target=\"_top\" title=\"psysml:215e87e2-ee75-46c7-98ea-4ce8794cdbad\" xlink:actuate=\"onRequest\" xlink:href=\"psysml:215e87e2-ee75-46c7-98ea-4ce8794cdbad\" xlink:show=\"new\" xlink:title=\"psysml:215e87e2-ee75-46c7-98ea-4ce8794cdbad\" xlink:type=\"simple\"><rect fill=\"#FFFFFF\" height=\"45.9375\" id=\"E7\" rx=\"10\" ry=\"10\" style=\"stroke: #383838; stroke-width: 1.5;\" width=\"42\" x=\"185\" y=\"712.5\"/><text fill=\"#000000\" font-family=\"sans-serif\" font-size=\"12\" font-style=\"italic\" lengthAdjust=\"spacingAndGlyphs\" textLength=\"40\" x=\"186\" y=\"728.6387\">«part»</text><text fill=\"#000000\" font-family=\"sans-serif\" font-size=\"12\" font-style=\"italic\" lengthAdjust=\"spacingAndGlyphs\" textLength=\"8\" x=\"192\" y=\"742.6074\">a</text><text fill=\"#000000\" font-family=\"sans-serif\" font-size=\"12\" lengthAdjust=\"spacingAndGlyphs\" textLength=\"16\" x=\"200\" y=\"742.6074\">: A</text><line style=\"stroke: #383838; stroke-width: 1.5;\" x1=\"186\" x2=\"226\" y1=\"750.4375\" y2=\"750.4375\"/></a><!--MD5=[b9389687b975829384b498ac4b7476b2]\n",
       "class E8--><a href=\"psysml:27d37788-2b75-4a5c-b4fe-9553c2483e93\" target=\"_top\" title=\"psysml:27d37788-2b75-4a5c-b4fe-9553c2483e93\" xlink:actuate=\"onRequest\" xlink:href=\"psysml:27d37788-2b75-4a5c-b4fe-9553c2483e93\" xlink:show=\"new\" xlink:title=\"psysml:27d37788-2b75-4a5c-b4fe-9553c2483e93\" xlink:type=\"simple\"><rect fill=\"#FFFFFF\" height=\"45.9375\" id=\"E8\" rx=\"10\" ry=\"10\" style=\"stroke: #383838; stroke-width: 1.5;\" width=\"42\" x=\"43\" y=\"712.5\"/><text fill=\"#000000\" font-family=\"sans-serif\" font-size=\"12\" font-style=\"italic\" lengthAdjust=\"spacingAndGlyphs\" textLength=\"40\" x=\"44\" y=\"728.6387\">«port»</text><text fill=\"#000000\" font-family=\"sans-serif\" font-size=\"12\" lengthAdjust=\"spacingAndGlyphs\" textLength=\"32\" x=\"46\" y=\"742.6074\">x: ~C</text><line style=\"stroke: #383838; stroke-width: 1.5;\" x1=\"44\" x2=\"84\" y1=\"750.4375\" y2=\"750.4375\"/></a><!--MD5=[96f4274e9e20536e775497830990834d]\n",
       "class E10--><a href=\"psysml:3d6805d2-0d33-47df-af88-6771a9177656\" target=\"_top\" title=\"psysml:3d6805d2-0d33-47df-af88-6771a9177656\" xlink:actuate=\"onRequest\" xlink:href=\"psysml:3d6805d2-0d33-47df-af88-6771a9177656\" xlink:show=\"new\" xlink:title=\"psysml:3d6805d2-0d33-47df-af88-6771a9177656\" xlink:type=\"simple\"><rect fill=\"#FFFFFF\" height=\"75.5469\" id=\"E10\" style=\"stroke: #383838; stroke-width: 1.5;\" width=\"110\" x=\"80\" y=\"449\"/><text fill=\"#000000\" font-family=\"sans-serif\" font-size=\"12\" font-style=\"italic\" lengthAdjust=\"spacingAndGlyphs\" textLength=\"68\" x=\"101\" y=\"465.1387\">«port  def»</text><text fill=\"#000000\" font-family=\"sans-serif\" font-size=\"12\" lengthAdjust=\"spacingAndGlyphs\" textLength=\"8\" x=\"131\" y=\"479.1074\">C</text><line style=\"stroke: #383838; stroke-width: 1.5;\" x1=\"81\" x2=\"189\" y1=\"486.9375\" y2=\"486.9375\"/><text fill=\"#000000\" font-family=\"sans-serif\" font-size=\"11\" font-weight=\"bold\" lengthAdjust=\"spacingAndGlyphs\" textLength=\"10\" x=\"86\" y=\"517.9526\">in</text><text fill=\"#000000\" font-family=\"sans-serif\" font-size=\"11\" lengthAdjust=\"spacingAndGlyphs\" textLength=\"37\" x=\"100\" y=\"517.9526\">y: A, B</text><text fill=\"#000000\" font-family=\"sans-serif\" font-size=\"11\" font-weight=\"bold\" lengthAdjust=\"spacingAndGlyphs\" textLength=\"27\" x=\"141\" y=\"517.9526\">alias</text><text fill=\"#000000\" font-family=\"sans-serif\" font-size=\"11\" lengthAdjust=\"spacingAndGlyphs\" textLength=\"12\" x=\"172\" y=\"517.9526\">z2</text><line style=\"stroke: #383838; stroke-width: 1.0;\" x1=\"81\" x2=\"101.5\" y1=\"501.3398\" y2=\"501.3398\"/><text fill=\"#000000\" font-family=\"sans-serif\" font-size=\"11\" lengthAdjust=\"spacingAndGlyphs\" textLength=\"67\" x=\"101.5\" y=\"504.6479\">parameters</text><line style=\"stroke: #383838; stroke-width: 1.0;\" x1=\"168.5\" x2=\"189\" y1=\"501.3398\" y2=\"501.3398\"/></a><a href=\"psysml:e555f4d2-547d-4756-8b33-5fda3be7b359\" target=\"_top\" title=\"psysml:e555f4d2-547d-4756-8b33-5fda3be7b359\" xlink:actuate=\"onRequest\" xlink:href=\"psysml:e555f4d2-547d-4756-8b33-5fda3be7b359\" xlink:show=\"new\" xlink:title=\"psysml:e555f4d2-547d-4756-8b33-5fda3be7b359\" xlink:type=\"simple\"><polygon fill=\"#FFFFFF\" points=\"120.5,709,135.5,709,142.5,731.2969,149.5,731.2969,149.5,761.5938,120.5,761.5938,120.5,709\" style=\"stroke: #000000; stroke-width: 1.5;\"/><line style=\"stroke: #000000; stroke-width: 1.5;\" x1=\"120.5\" x2=\"142.5\" y1=\"731.2969\" y2=\"731.2969\"/><text fill=\"#000000\" font-family=\"sans-serif\" font-size=\"14\" font-weight=\"bold\" lengthAdjust=\"spacingAndGlyphs\" textLength=\"9\" x=\"124.5\" y=\"723.9951\">P</text></a><!--MD5=[2720a5a1f2c3fca2055b230370638851]\n",
       "link E2 to E3--><a href=\"psysml:02703352-f69e-4a4b-893d-89c09588fdfd\" target=\"_top\" title=\"psysml:02703352-f69e-4a4b-893d-89c09588fdfd\" xlink:actuate=\"onRequest\" xlink:href=\"psysml:02703352-f69e-4a4b-893d-89c09588fdfd\" xlink:show=\"new\" xlink:title=\"psysml:02703352-f69e-4a4b-893d-89c09588fdfd\" xlink:type=\"simple\"><path d=\"M122,87.24 C122,98.62 122,113.11 122,127.62 \" fill=\"none\" id=\"E2-&gt;E3\" style=\"stroke: #383838; stroke-width: 1.0;\"/><polygon fill=\"#FFFFFF\" points=\"122,147.84,115,128.84,129,128.84,122,147.84\" style=\"stroke: #383838; stroke-width: 1.0;\"/><ellipse cx=\"117\" cy=\"123.14\" fill=\"#383838\" rx=\"2\" ry=\"2\" style=\"stroke: #383838; stroke-width: 1.0;\"/><ellipse cx=\"127\" cy=\"123.14\" fill=\"#383838\" rx=\"2\" ry=\"2\" style=\"stroke: #383838; stroke-width: 1.0;\"/></a><!--MD5=[4672eba38e49728da53d11aeb285b987]\n",
       "reverse link E3 to E4--><a href=\"psysml:e82a868e-a957-4308-9aca-5f2e1a046a10\" target=\"_top\" title=\"psysml:e82a868e-a957-4308-9aca-5f2e1a046a10\" xlink:actuate=\"onRequest\" xlink:href=\"psysml:e82a868e-a957-4308-9aca-5f2e1a046a10\" xlink:show=\"new\" xlink:title=\"psysml:e82a868e-a957-4308-9aca-5f2e1a046a10\" xlink:type=\"simple\"><path d=\"M83.84,247.58 C74.86,262.92 66.35,280.06 61,297 C53.08,322.07 51.8,352.44 52.03,372.66 \" fill=\"none\" id=\"E3&lt;-E4\" style=\"stroke: #383838; stroke-width: 1.0;\"/><polygon fill=\"#383838\" points=\"90.76,236.23,84.2205,239.269,84.5106,246.4743,91.0501,243.4353,90.76,236.23\" style=\"stroke: #383838; stroke-width: 1.0;\"/><text fill=\"#000000\" font-family=\"sans-serif\" font-size=\"13\" lengthAdjust=\"spacingAndGlyphs\" textLength=\"8\" x=\"42.7564\" y=\"361.8492\">1</text></a><!--MD5=[191cde3d490a3f6d7bb551fe3ddca469]\n",
       "reverse link E3 to E5--><a href=\"psysml:01f43deb-5863-4903-863e-c9a23e0a1180\" target=\"_top\" title=\"psysml:01f43deb-5863-4903-863e-c9a23e0a1180\" xlink:actuate=\"onRequest\" xlink:href=\"psysml:01f43deb-5863-4903-863e-c9a23e0a1180\" xlink:show=\"new\" xlink:title=\"psysml:01f43deb-5863-4903-863e-c9a23e0a1180\" xlink:type=\"simple\"><path d=\"M142.61,248.24 C148.98,265.32 155.64,283.18 160.68,296.68 \" fill=\"none\" id=\"E3&lt;-E5\" style=\"stroke: #383838; stroke-width: 1.0;\"/><polygon fill=\"#FFFFFF\" points=\"138.04,236.01,136.3879,243.0293,142.2318,247.2541,143.8839,240.2348,138.04,236.01\" style=\"stroke: #383838; stroke-width: 1.0;\"/><text fill=\"#000000\" font-family=\"sans-serif\" font-size=\"13\" lengthAdjust=\"spacingAndGlyphs\" textLength=\"8\" x=\"149.523\" y=\"285.8743\">1</text></a><!--MD5=[79568f1e445c3877b6a54524624ccc7d]\n",
       "link E4 to E6--><a href=\"psysml:6f8c5931-99ab-4f3d-9640-f9d86b709835\" target=\"_top\" title=\"psysml:6f8c5931-99ab-4f3d-9640-f9d86b709835\" xlink:actuate=\"onRequest\" xlink:href=\"psysml:6f8c5931-99ab-4f3d-9640-f9d86b709835\" xlink:show=\"new\" xlink:title=\"psysml:6f8c5931-99ab-4f3d-9640-f9d86b709835\" xlink:type=\"simple\"><path d=\"M51.16,419.06 C49.78,445.2 49.96,489.66 63,525 C71.25,547.36 86.09,569.13 100.16,586.54 \" fill=\"none\" id=\"E4-&gt;E6\" style=\"stroke: #383838; stroke-width: 1.0;\"/><polygon fill=\"#FFFFFF\" points=\"113.18,601.76,95.5109,591.8705,106.1504,582.7709,113.18,601.76\" style=\"stroke: #383838; stroke-width: 1.0;\"/><ellipse cx=\"93.326\" cy=\"586.2388\" fill=\"#383838\" rx=\"2\" ry=\"2\" style=\"stroke: #383838; stroke-width: 1.0;\"/><ellipse cx=\"100.9256\" cy=\"579.7391\" fill=\"#383838\" rx=\"2\" ry=\"2\" style=\"stroke: #383838; stroke-width: 1.0;\"/></a><!--MD5=[3f50a3473f1dfb74d3f76443e03635af]\n",
       "reverse link E6 to E7--><a href=\"psysml:ef71999d-b74e-4e5c-b2f7-aebb94a9d32a\" target=\"_top\" title=\"psysml:ef71999d-b74e-4e5c-b2f7-aebb94a9d32a\" xlink:actuate=\"onRequest\" xlink:href=\"psysml:ef71999d-b74e-4e5c-b2f7-aebb94a9d32a\" xlink:show=\"new\" xlink:title=\"psysml:ef71999d-b74e-4e5c-b2f7-aebb94a9d32a\" xlink:type=\"simple\"><path d=\"M156.91,659.48 C168.15,676.66 181.53,697.11 191.48,712.31 \" fill=\"none\" id=\"E6&lt;-E7\" style=\"stroke: #383838; stroke-width: 1.0;\"/><polygon fill=\"#383838\" points=\"149.54,648.22,149.4851,655.4309,156.1201,658.255,156.1751,651.0441,149.54,648.22\" style=\"stroke: #383838; stroke-width: 1.0;\"/><text fill=\"#000000\" font-family=\"sans-serif\" font-size=\"13\" lengthAdjust=\"spacingAndGlyphs\" textLength=\"8\" x=\"178.7342\" y=\"701.5376\">1</text></a><!--MD5=[14ccda38c055a5c0da953d572bc50960]\n",
       "link E7 to E3--><a href=\"psysml:d4047a87-2764-4bb9-9711-6fad77bbdb97\" target=\"_top\" title=\"psysml:d4047a87-2764-4bb9-9711-6fad77bbdb97\" xlink:actuate=\"onRequest\" xlink:href=\"psysml:d4047a87-2764-4bb9-9711-6fad77bbdb97\" xlink:show=\"new\" xlink:title=\"psysml:d4047a87-2764-4bb9-9711-6fad77bbdb97\" xlink:type=\"simple\"><path d=\"M212.55,712.28 C218.38,690.5 226,656.26 226,626 C226,319 226,319 226,319 C226,282.18 199.26,250.31 172.91,227.83 \" fill=\"none\" id=\"E7-&gt;E3\" style=\"stroke: #383838; stroke-width: 1.0;\"/><polygon fill=\"#FFFFFF\" points=\"157.21,215.4,176.4527,221.7023,167.7644,232.6802,157.21,215.4\" style=\"stroke: #383838; stroke-width: 1.0;\"/><ellipse cx=\"179.681\" cy=\"226.808\" fill=\"#383838\" rx=\"2\" ry=\"2\" style=\"stroke: #383838; stroke-width: 1.0;\"/><ellipse cx=\"173.4751\" cy=\"234.6493\" fill=\"#383838\" rx=\"2\" ry=\"2\" style=\"stroke: #383838; stroke-width: 1.0;\"/></a><!--MD5=[f4cf0736d43fd73c4ef68817c49d37d5]\n",
       "reverse link E6 to E8--><a href=\"psysml:e9c4c173-85e4-4370-85e4-1c8f2eb4171b\" target=\"_top\" title=\"psysml:e9c4c173-85e4-4370-85e4-1c8f2eb4171b\" xlink:actuate=\"onRequest\" xlink:href=\"psysml:e9c4c173-85e4-4370-85e4-1c8f2eb4171b\" xlink:show=\"new\" xlink:title=\"psysml:e9c4c173-85e4-4370-85e4-1c8f2eb4171b\" xlink:type=\"simple\"><path d=\"M113.09,659.48 C101.85,676.66 88.47,697.11 78.52,712.31 \" fill=\"none\" id=\"E6&lt;-E8\" style=\"stroke: #383838; stroke-width: 1.0;\"/><polygon fill=\"#FFFFFF\" points=\"120.46,648.22,113.8249,651.0441,113.8799,658.255,120.5149,655.4309,120.46,648.22\" style=\"stroke: #383838; stroke-width: 1.0;\"/><text fill=\"#000000\" font-family=\"sans-serif\" font-size=\"13\" lengthAdjust=\"spacingAndGlyphs\" textLength=\"8\" x=\"73.2158\" y=\"701.5376\">1</text></a><!--MD5=[e88d06e5a652d73a6b19930eefe025a8]\n",
       "reverse link E6 to E9--><a href=\"psysml:ab2aae6d-159f-4d7a-a99e-78671a533366\" target=\"_top\" title=\"psysml:ab2aae6d-159f-4d7a-a99e-78671a533366\" xlink:actuate=\"onRequest\" xlink:href=\"psysml:ab2aae6d-159f-4d7a-a99e-78671a533366\" xlink:show=\"new\" xlink:title=\"psysml:ab2aae6d-159f-4d7a-a99e-78671a533366\" xlink:type=\"simple\"><path d=\"M135,663.49 C135,678.47 135,695.34 135,708.88 \" fill=\"none\" id=\"E6&lt;-E9\" style=\"stroke: #383838; stroke-width: 1.0;\"/><ellipse cx=\"135\" cy=\"656.22\" fill=\"#FFFFFF\" rx=\"8\" ry=\"8\" style=\"stroke: #383838; stroke-width: 1.0;\"/><line style=\"stroke: #383838; stroke-width: 1.0;\" x1=\"135\" x2=\"135\" y1=\"664.22\" y2=\"648.22\"/><line style=\"stroke: #383838; stroke-width: 1.0;\" x1=\"127\" x2=\"143\" y1=\"656.22\" y2=\"656.22\"/></a><!--MD5=[f78a29d5932556fa1060671a2a6507d8]\n",
       "link E5 to E10--><a href=\"psysml:09169cbe-938d-4307-a584-0b24a5ad62ce\" target=\"_top\" title=\"psysml:09169cbe-938d-4307-a584-0b24a5ad62ce\" xlink:actuate=\"onRequest\" xlink:href=\"psysml:09169cbe-938d-4307-a584-0b24a5ad62ce\" xlink:show=\"new\" xlink:title=\"psysml:09169cbe-938d-4307-a584-0b24a5ad62ce\" xlink:type=\"simple\"><path d=\"M164.41,343.25 C159.9,365.16 152.82,399.53 146.73,429.05 \" fill=\"none\" id=\"E5-&gt;E10\" style=\"stroke: #383838; stroke-width: 1.0;\"/><polygon fill=\"#FFFFFF\" points=\"142.63,448.98,139.6015,428.9593,153.3144,431.7799,142.63,448.98\" style=\"stroke: #383838; stroke-width: 1.0;\"/><ellipse cx=\"142.7089\" cy=\"423.7791\" fill=\"#383838\" rx=\"2\" ry=\"2\" style=\"stroke: #383838; stroke-width: 1.0;\"/><ellipse cx=\"152.5038\" cy=\"425.7938\" fill=\"#383838\" rx=\"2\" ry=\"2\" style=\"stroke: #383838; stroke-width: 1.0;\"/></a><!--MD5=[8e04057e7b3cbc0dca4fc78ea351e2da]\n",
       "reverse link E10 to E3--><a href=\"psysml:75696b56-911c-4e7f-a413-6399c7af4d3a\" target=\"_top\" title=\"psysml:75696b56-911c-4e7f-a413-6399c7af4d3a\" xlink:actuate=\"onRequest\" xlink:href=\"psysml:75696b56-911c-4e7f-a413-6399c7af4d3a\" xlink:show=\"new\" xlink:title=\"psysml:75696b56-911c-4e7f-a413-6399c7af4d3a\" xlink:type=\"simple\"><path d=\"M129.29,435.52 C126.48,408.18 123.4,373.78 122,343 C120.37,306.97 120.5,266.02 120.97,236.02 \" fill=\"none\" id=\"E10&lt;-E3\" style=\"stroke: #383838; stroke-width: 1.0;\"/><polygon fill=\"#FFFFFF\" points=\"130.68,448.73,134.0248,442.3415,129.4142,436.7969,126.0694,443.1854,130.68,448.73\" style=\"stroke: #383838; stroke-width: 1.0;\"/><text fill=\"#000000\" font-family=\"sans-serif\" font-size=\"13\" lengthAdjust=\"spacingAndGlyphs\" textLength=\"7\" x=\"123\" y=\"324.5669\">y</text></a><!--MD5=[604cbf994c02b74b117f728a71673cea]\n",
       "reverse link E10 to E6--><a href=\"psysml:75696b56-911c-4e7f-a413-6399c7af4d3a\" target=\"_top\" title=\"psysml:75696b56-911c-4e7f-a413-6399c7af4d3a\" xlink:actuate=\"onRequest\" xlink:href=\"psysml:75696b56-911c-4e7f-a413-6399c7af4d3a\" xlink:show=\"new\" xlink:title=\"psysml:75696b56-911c-4e7f-a413-6399c7af4d3a\" xlink:type=\"simple\"><path d=\"M135,538.33 C135,560.16 135,584.6 135,601.77 \" fill=\"none\" id=\"E10&lt;-E6\" style=\"stroke: #383838; stroke-width: 1.0;\"/><polygon fill=\"#FFFFFF\" points=\"135,525.16,131,531.16,135,537.16,139,531.16,135,525.16\" style=\"stroke: #383838; stroke-width: 1.0;\"/><text fill=\"#000000\" font-family=\"sans-serif\" font-size=\"13\" lengthAdjust=\"spacingAndGlyphs\" textLength=\"7\" x=\"136\" y=\"568.0669\">y</text></a><!--MD5=[e2edd5a4ce031f6bdd9b92ac0f41d6c9]\n",
       "@startuml\r\n",
       "skinparam monochrome true\r\n",
       "skinparam classbackgroundcolor white\r\n",
       "skinparam shadowing false\r\n",
       "skinparam wrapWidth 300\r\n",
       "hide circle\r\n",
       "\r\n",
       "package \"PartTest\" as E1  [[psysml:538b1265-15ae-4afd-8dd2-ef0f57b41a53 ]]  {\r\n",
       "comp usage \"f: A \" as E2  <<(T,blue) part>> [[psysml:2c090466-3d5c-4444-ba17-090921dc2443 ]] {\r\n",
       "}\r\n",
       "comp def \"A\" as E3  <<(T,blue) part  def>> [[psysml:d1b7cfcb-f6eb-4e6c-b82e-69976e6757f6 ]] {\r\n",
       "- - attributes - -\r\n",
       "x\r\n",
       "y:> A::x\r\n",
       "}\r\n",
       "comp usage \"b: B \" as E4  <<(T,blue) part>> [[psysml:1aa2f075-dfbc-4c28-975e-f9b78ce76d6b ]] {\r\n",
       "}\r\n",
       "comp usage \"c: C \" as E5  <<(T,blue) port>> [[psysml:6b6fc427-035b-4f92-af2f-ae5f46ec13e5 ]] {\r\n",
       "}\r\n",
       "comp def \"<i>B</i>\" as E6  <<(T,blue) part  def>> [[psysml:286e6ef4-92d4-4c1b-a17d-09881da7698b ]] {\r\n",
       "}\r\n",
       "comp usage \"<i>a</i>: A \" as E7  <<(T,blue) part>> [[psysml:215e87e2-ee75-46c7-98ea-4ce8794cdbad ]] {\r\n",
       "}\r\n",
       "comp usage \"x: ~C \" as E8  <<(T,blue) port>> [[psysml:27d37788-2b75-4a5c-b4fe-9553c2483e93 ]] {\r\n",
       "}\r\n",
       "package \"P\" as E9  [[psysml:e555f4d2-547d-4756-8b33-5fda3be7b359 ]]  {\r\n",
       "}\r\n",
       "comp def \"C\" as E10  <<(T,blue) port  def>> [[psysml:3d6805d2-0d33-47df-af88-6771a9177656 ]] {\r\n",
       "- - parameters - -\r\n",
       "<b>in</b> y: A, B <b>alias</b> z2 \r\n",
       "}\r\n",
       "}\r\n",
       "E2 - -:|> E3 [[psysml:02703352-f69e-4a4b-893d-89c09588fdfd ]] \r\n",
       "E3 *- - \"1\"E4 [[psysml:e82a868e-a957-4308-9aca-5f2e1a046a10 ]] \r\n",
       "E3 o- - \"1\"E5 [[psysml:01f43deb-5863-4903-863e-c9a23e0a1180 ]] \r\n",
       "E4 - -:|> E6 [[psysml:6f8c5931-99ab-4f3d-9640-f9d86b709835 ]] \r\n",
       "E6 *- - \"1\"E7 [[psysml:ef71999d-b74e-4e5c-b2f7-aebb94a9d32a ]] \r\n",
       "E7 - -:|> E3 [[psysml:d4047a87-2764-4bb9-9711-6fad77bbdb97 ]] \r\n",
       "E6 o- - \"1\"E8 [[psysml:e9c4c173-85e4-4370-85e4-1c8f2eb4171b ]] \r\n",
       "E6 +- - E9 [[psysml:ab2aae6d-159f-4d7a-a99e-78671a533366 ]] \r\n",
       "E5 - -:|> E10 [[psysml:09169cbe-938d-4307-a584-0b24a5ad62ce ]] \r\n",
       "E10 o- - E3 [[psysml:75696b56-911c-4e7f-a413-6399c7af4d3a ]] : y\r\n",
       "E10 o- - E6 [[psysml:75696b56-911c-4e7f-a413-6399c7af4d3a ]] : y\r\n",
       "@enduml\r\n",
       "\n",
       "PlantUML version 1.2020.13(Sat Jun 13 12:26:38 UTC 2020)\n",
       "(EPL source distribution)\n",
       "Java Runtime: OpenJDK Runtime Environment\n",
       "JVM: OpenJDK 64-Bit Server VM\n",
       "Default Encoding: UTF-8\n",
       "Language: en\n",
       "Country: null\n",
       "--></g></svg>"
      ]
     },
     "execution_count": 43,
     "metadata": {},
     "output_type": "execute_result"
    }
   ],
   "source": [
    "%viz --style=\"DEFAULT\" --view=\"MIXED\" \"PartTest\""
   ]
  },
  {
   "cell_type": "code",
   "execution_count": 44,
   "id": "b8d233b7",
   "metadata": {
    "execution": {
     "iopub.execute_input": "2022-05-19T08:45:14.715622Z",
     "iopub.status.busy": "2022-05-19T08:45:14.715136Z",
     "iopub.status.idle": "2022-05-19T08:45:14.774867Z",
     "shell.execute_reply": "2022-05-19T08:45:14.773215Z"
    }
   },
   "outputs": [
    {
     "data": {
      "image/svg+xml": [
       "<?xml version=\"1.0\" encoding=\"UTF-8\" standalone=\"no\"?><svg xmlns=\"http://www.w3.org/2000/svg\" xmlns:xlink=\"http://www.w3.org/1999/xlink\" contentScriptType=\"application/ecmascript\" contentStyleType=\"text/css\" height=\"790px\" preserveAspectRatio=\"none\" style=\"width:265px;height:790px;\" version=\"1.1\" viewBox=\"0 0 265 790\" width=\"265px\" zoomAndPan=\"magnify\"><defs/><g><!--MD5=[fbc87193dbaf4d95561dea2c320d4a47]\n",
       "cluster E1--><a href=\"psysml:538b1265-15ae-4afd-8dd2-ef0f57b41a53\" target=\"_top\" title=\"psysml:538b1265-15ae-4afd-8dd2-ef0f57b41a53\" xlink:actuate=\"onRequest\" xlink:href=\"psysml:538b1265-15ae-4afd-8dd2-ef0f57b41a53\" xlink:show=\"new\" xlink:title=\"psysml:538b1265-15ae-4afd-8dd2-ef0f57b41a53\" xlink:type=\"simple\"><polygon fill=\"#FFFFFF\" points=\"16,6,80,6,87,28.2969,243,28.2969,243,778,16,778,16,6\" style=\"stroke: #000000; stroke-width: 1.5;\"/><line style=\"stroke: #000000; stroke-width: 1.5;\" x1=\"16\" x2=\"87\" y1=\"28.2969\" y2=\"28.2969\"/><text fill=\"#000000\" font-family=\"sans-serif\" font-size=\"14\" font-weight=\"bold\" lengthAdjust=\"spacingAndGlyphs\" textLength=\"58\" x=\"20\" y=\"20.9951\">PartTest</text></a><!--MD5=[b4997ac47864f28c2f74865a473b2911]\n",
       "class E2--><a href=\"psysml:2c090466-3d5c-4444-ba17-090921dc2443\" target=\"_top\" title=\"psysml:2c090466-3d5c-4444-ba17-090921dc2443\" xlink:actuate=\"onRequest\" xlink:href=\"psysml:2c090466-3d5c-4444-ba17-090921dc2443\" xlink:show=\"new\" xlink:title=\"psysml:2c090466-3d5c-4444-ba17-090921dc2443\" xlink:type=\"simple\"><rect fill=\"#FFFFFF\" height=\"45.9375\" id=\"E2\" rx=\"10\" ry=\"10\" style=\"stroke: #383838; stroke-width: 1.5;\" width=\"42\" x=\"101\" y=\"41\"/><text fill=\"#000000\" font-family=\"sans-serif\" font-size=\"12\" font-style=\"italic\" lengthAdjust=\"spacingAndGlyphs\" textLength=\"40\" x=\"102\" y=\"57.1387\">«part»</text><text fill=\"#000000\" font-family=\"sans-serif\" font-size=\"12\" lengthAdjust=\"spacingAndGlyphs\" textLength=\"20\" x=\"110\" y=\"71.1074\">f: A</text><line style=\"stroke: #383838; stroke-width: 1.5;\" x1=\"102\" x2=\"142\" y1=\"78.9375\" y2=\"78.9375\"/></a><!--MD5=[09b614a08d8cba4a07c9adeb5e0fee81]\n",
       "class E3--><a href=\"psysml:d1b7cfcb-f6eb-4e6c-b82e-69976e6757f6\" target=\"_top\" title=\"psysml:d1b7cfcb-f6eb-4e6c-b82e-69976e6757f6\" xlink:actuate=\"onRequest\" xlink:href=\"psysml:d1b7cfcb-f6eb-4e6c-b82e-69976e6757f6\" xlink:show=\"new\" xlink:title=\"psysml:d1b7cfcb-f6eb-4e6c-b82e-69976e6757f6\" xlink:type=\"simple\"><rect fill=\"#FFFFFF\" height=\"88.3516\" id=\"E3\" style=\"stroke: #383838; stroke-width: 1.5;\" width=\"70\" x=\"87\" y=\"148\"/><text fill=\"#000000\" font-family=\"sans-serif\" font-size=\"12\" font-style=\"italic\" lengthAdjust=\"spacingAndGlyphs\" textLength=\"68\" x=\"88\" y=\"164.1387\">«part  def»</text><text fill=\"#000000\" font-family=\"sans-serif\" font-size=\"12\" lengthAdjust=\"spacingAndGlyphs\" textLength=\"8\" x=\"118\" y=\"178.1074\">A</text><line style=\"stroke: #383838; stroke-width: 1.5;\" x1=\"88\" x2=\"156\" y1=\"185.9375\" y2=\"185.9375\"/><text fill=\"#000000\" font-family=\"sans-serif\" font-size=\"11\" lengthAdjust=\"spacingAndGlyphs\" textLength=\"6\" x=\"93\" y=\"216.9526\">x</text><text fill=\"#000000\" font-family=\"sans-serif\" font-size=\"11\" lengthAdjust=\"spacingAndGlyphs\" textLength=\"44\" x=\"93\" y=\"229.7573\">y:&gt; A::x</text><line style=\"stroke: #383838; stroke-width: 1.0;\" x1=\"88\" x2=\"94.5\" y1=\"200.3398\" y2=\"200.3398\"/><text fill=\"#000000\" font-family=\"sans-serif\" font-size=\"11\" lengthAdjust=\"spacingAndGlyphs\" textLength=\"55\" x=\"94.5\" y=\"203.6479\">attributes</text><line style=\"stroke: #383838; stroke-width: 1.0;\" x1=\"149.5\" x2=\"156\" y1=\"200.3398\" y2=\"200.3398\"/></a><!--MD5=[ebbe1d658d1005bcc118a6aa81145e00]\n",
       "class E4--><a href=\"psysml:1aa2f075-dfbc-4c28-975e-f9b78ce76d6b\" target=\"_top\" title=\"psysml:1aa2f075-dfbc-4c28-975e-f9b78ce76d6b\" xlink:actuate=\"onRequest\" xlink:href=\"psysml:1aa2f075-dfbc-4c28-975e-f9b78ce76d6b\" xlink:show=\"new\" xlink:title=\"psysml:1aa2f075-dfbc-4c28-975e-f9b78ce76d6b\" xlink:type=\"simple\"><rect fill=\"#FFFFFF\" height=\"45.9375\" id=\"E4\" rx=\"10\" ry=\"10\" style=\"stroke: #383838; stroke-width: 1.5;\" width=\"42\" x=\"32\" y=\"373\"/><text fill=\"#000000\" font-family=\"sans-serif\" font-size=\"12\" font-style=\"italic\" lengthAdjust=\"spacingAndGlyphs\" textLength=\"40\" x=\"33\" y=\"389.1387\">«part»</text><text fill=\"#000000\" font-family=\"sans-serif\" font-size=\"12\" lengthAdjust=\"spacingAndGlyphs\" textLength=\"24\" x=\"39\" y=\"403.1074\">b: B</text><line style=\"stroke: #383838; stroke-width: 1.5;\" x1=\"33\" x2=\"73\" y1=\"410.9375\" y2=\"410.9375\"/></a><!--MD5=[270fce915f116d4de14055a7c1d9a0f3]\n",
       "class E5--><a href=\"psysml:6b6fc427-035b-4f92-af2f-ae5f46ec13e5\" target=\"_top\" title=\"psysml:6b6fc427-035b-4f92-af2f-ae5f46ec13e5\" xlink:actuate=\"onRequest\" xlink:href=\"psysml:6b6fc427-035b-4f92-af2f-ae5f46ec13e5\" xlink:show=\"new\" xlink:title=\"psysml:6b6fc427-035b-4f92-af2f-ae5f46ec13e5\" xlink:type=\"simple\"><rect fill=\"#FFFFFF\" height=\"45.9375\" id=\"E5\" rx=\"10\" ry=\"10\" style=\"stroke: #383838; stroke-width: 1.5;\" width=\"42\" x=\"148\" y=\"297\"/><text fill=\"#000000\" font-family=\"sans-serif\" font-size=\"12\" font-style=\"italic\" lengthAdjust=\"spacingAndGlyphs\" textLength=\"40\" x=\"149\" y=\"313.1387\">«port»</text><text fill=\"#000000\" font-family=\"sans-serif\" font-size=\"12\" lengthAdjust=\"spacingAndGlyphs\" textLength=\"23\" x=\"155.5\" y=\"327.1074\">c: C</text><line style=\"stroke: #383838; stroke-width: 1.5;\" x1=\"149\" x2=\"189\" y1=\"334.9375\" y2=\"334.9375\"/></a><!--MD5=[60a26617385b1d2d0262a64233df1f8d]\n",
       "class E6--><a href=\"psysml:286e6ef4-92d4-4c1b-a17d-09881da7698b\" target=\"_top\" title=\"psysml:286e6ef4-92d4-4c1b-a17d-09881da7698b\" xlink:actuate=\"onRequest\" xlink:href=\"psysml:286e6ef4-92d4-4c1b-a17d-09881da7698b\" xlink:show=\"new\" xlink:title=\"psysml:286e6ef4-92d4-4c1b-a17d-09881da7698b\" xlink:type=\"simple\"><rect fill=\"#FFFFFF\" height=\"45.9375\" id=\"E6\" style=\"stroke: #383838; stroke-width: 1.5;\" width=\"70\" x=\"100\" y=\"602\"/><text fill=\"#000000\" font-family=\"sans-serif\" font-size=\"12\" font-style=\"italic\" lengthAdjust=\"spacingAndGlyphs\" textLength=\"68\" x=\"101\" y=\"618.1387\">«part  def»</text><text fill=\"#000000\" font-family=\"sans-serif\" font-size=\"12\" font-style=\"italic\" lengthAdjust=\"spacingAndGlyphs\" textLength=\"8\" x=\"131\" y=\"632.1074\">B</text><line style=\"stroke: #383838; stroke-width: 1.5;\" x1=\"101\" x2=\"169\" y1=\"639.9375\" y2=\"639.9375\"/></a><!--MD5=[2156ba9850f5573cc1fc38a6a4b2f02b]\n",
       "class E7--><a href=\"psysml:215e87e2-ee75-46c7-98ea-4ce8794cdbad\" target=\"_top\" title=\"psysml:215e87e2-ee75-46c7-98ea-4ce8794cdbad\" xlink:actuate=\"onRequest\" xlink:href=\"psysml:215e87e2-ee75-46c7-98ea-4ce8794cdbad\" xlink:show=\"new\" xlink:title=\"psysml:215e87e2-ee75-46c7-98ea-4ce8794cdbad\" xlink:type=\"simple\"><rect fill=\"#FFFFFF\" height=\"45.9375\" id=\"E7\" rx=\"10\" ry=\"10\" style=\"stroke: #383838; stroke-width: 1.5;\" width=\"42\" x=\"185\" y=\"712.5\"/><text fill=\"#000000\" font-family=\"sans-serif\" font-size=\"12\" font-style=\"italic\" lengthAdjust=\"spacingAndGlyphs\" textLength=\"40\" x=\"186\" y=\"728.6387\">«part»</text><text fill=\"#000000\" font-family=\"sans-serif\" font-size=\"12\" font-style=\"italic\" lengthAdjust=\"spacingAndGlyphs\" textLength=\"8\" x=\"192\" y=\"742.6074\">a</text><text fill=\"#000000\" font-family=\"sans-serif\" font-size=\"12\" lengthAdjust=\"spacingAndGlyphs\" textLength=\"16\" x=\"200\" y=\"742.6074\">: A</text><line style=\"stroke: #383838; stroke-width: 1.5;\" x1=\"186\" x2=\"226\" y1=\"750.4375\" y2=\"750.4375\"/></a><!--MD5=[b9389687b975829384b498ac4b7476b2]\n",
       "class E8--><a href=\"psysml:27d37788-2b75-4a5c-b4fe-9553c2483e93\" target=\"_top\" title=\"psysml:27d37788-2b75-4a5c-b4fe-9553c2483e93\" xlink:actuate=\"onRequest\" xlink:href=\"psysml:27d37788-2b75-4a5c-b4fe-9553c2483e93\" xlink:show=\"new\" xlink:title=\"psysml:27d37788-2b75-4a5c-b4fe-9553c2483e93\" xlink:type=\"simple\"><rect fill=\"#FFFFFF\" height=\"45.9375\" id=\"E8\" rx=\"10\" ry=\"10\" style=\"stroke: #383838; stroke-width: 1.5;\" width=\"42\" x=\"43\" y=\"712.5\"/><text fill=\"#000000\" font-family=\"sans-serif\" font-size=\"12\" font-style=\"italic\" lengthAdjust=\"spacingAndGlyphs\" textLength=\"40\" x=\"44\" y=\"728.6387\">«port»</text><text fill=\"#000000\" font-family=\"sans-serif\" font-size=\"12\" lengthAdjust=\"spacingAndGlyphs\" textLength=\"32\" x=\"46\" y=\"742.6074\">x: ~C</text><line style=\"stroke: #383838; stroke-width: 1.5;\" x1=\"44\" x2=\"84\" y1=\"750.4375\" y2=\"750.4375\"/></a><!--MD5=[96f4274e9e20536e775497830990834d]\n",
       "class E10--><a href=\"psysml:3d6805d2-0d33-47df-af88-6771a9177656\" target=\"_top\" title=\"psysml:3d6805d2-0d33-47df-af88-6771a9177656\" xlink:actuate=\"onRequest\" xlink:href=\"psysml:3d6805d2-0d33-47df-af88-6771a9177656\" xlink:show=\"new\" xlink:title=\"psysml:3d6805d2-0d33-47df-af88-6771a9177656\" xlink:type=\"simple\"><rect fill=\"#FFFFFF\" height=\"75.5469\" id=\"E10\" style=\"stroke: #383838; stroke-width: 1.5;\" width=\"110\" x=\"80\" y=\"449\"/><text fill=\"#000000\" font-family=\"sans-serif\" font-size=\"12\" font-style=\"italic\" lengthAdjust=\"spacingAndGlyphs\" textLength=\"68\" x=\"101\" y=\"465.1387\">«port  def»</text><text fill=\"#000000\" font-family=\"sans-serif\" font-size=\"12\" lengthAdjust=\"spacingAndGlyphs\" textLength=\"8\" x=\"131\" y=\"479.1074\">C</text><line style=\"stroke: #383838; stroke-width: 1.5;\" x1=\"81\" x2=\"189\" y1=\"486.9375\" y2=\"486.9375\"/><text fill=\"#000000\" font-family=\"sans-serif\" font-size=\"11\" font-weight=\"bold\" lengthAdjust=\"spacingAndGlyphs\" textLength=\"10\" x=\"86\" y=\"517.9526\">in</text><text fill=\"#000000\" font-family=\"sans-serif\" font-size=\"11\" lengthAdjust=\"spacingAndGlyphs\" textLength=\"37\" x=\"100\" y=\"517.9526\">y: A, B</text><text fill=\"#000000\" font-family=\"sans-serif\" font-size=\"11\" font-weight=\"bold\" lengthAdjust=\"spacingAndGlyphs\" textLength=\"27\" x=\"141\" y=\"517.9526\">alias</text><text fill=\"#000000\" font-family=\"sans-serif\" font-size=\"11\" lengthAdjust=\"spacingAndGlyphs\" textLength=\"12\" x=\"172\" y=\"517.9526\">z2</text><line style=\"stroke: #383838; stroke-width: 1.0;\" x1=\"81\" x2=\"101.5\" y1=\"501.3398\" y2=\"501.3398\"/><text fill=\"#000000\" font-family=\"sans-serif\" font-size=\"11\" lengthAdjust=\"spacingAndGlyphs\" textLength=\"67\" x=\"101.5\" y=\"504.6479\">parameters</text><line style=\"stroke: #383838; stroke-width: 1.0;\" x1=\"168.5\" x2=\"189\" y1=\"501.3398\" y2=\"501.3398\"/></a><a href=\"psysml:e555f4d2-547d-4756-8b33-5fda3be7b359\" target=\"_top\" title=\"psysml:e555f4d2-547d-4756-8b33-5fda3be7b359\" xlink:actuate=\"onRequest\" xlink:href=\"psysml:e555f4d2-547d-4756-8b33-5fda3be7b359\" xlink:show=\"new\" xlink:title=\"psysml:e555f4d2-547d-4756-8b33-5fda3be7b359\" xlink:type=\"simple\"><polygon fill=\"#FFFFFF\" points=\"120.5,709,135.5,709,142.5,731.2969,149.5,731.2969,149.5,761.5938,120.5,761.5938,120.5,709\" style=\"stroke: #000000; stroke-width: 1.5;\"/><line style=\"stroke: #000000; stroke-width: 1.5;\" x1=\"120.5\" x2=\"142.5\" y1=\"731.2969\" y2=\"731.2969\"/><text fill=\"#000000\" font-family=\"sans-serif\" font-size=\"14\" font-weight=\"bold\" lengthAdjust=\"spacingAndGlyphs\" textLength=\"9\" x=\"124.5\" y=\"723.9951\">P</text></a><!--MD5=[2720a5a1f2c3fca2055b230370638851]\n",
       "link E2 to E3--><a href=\"psysml:02703352-f69e-4a4b-893d-89c09588fdfd\" target=\"_top\" title=\"psysml:02703352-f69e-4a4b-893d-89c09588fdfd\" xlink:actuate=\"onRequest\" xlink:href=\"psysml:02703352-f69e-4a4b-893d-89c09588fdfd\" xlink:show=\"new\" xlink:title=\"psysml:02703352-f69e-4a4b-893d-89c09588fdfd\" xlink:type=\"simple\"><path d=\"M122,87.24 C122,98.62 122,113.11 122,127.62 \" fill=\"none\" id=\"E2-&gt;E3\" style=\"stroke: #383838; stroke-width: 1.0;\"/><polygon fill=\"#FFFFFF\" points=\"122,147.84,115,128.84,129,128.84,122,147.84\" style=\"stroke: #383838; stroke-width: 1.0;\"/><ellipse cx=\"117\" cy=\"123.14\" fill=\"#383838\" rx=\"2\" ry=\"2\" style=\"stroke: #383838; stroke-width: 1.0;\"/><ellipse cx=\"127\" cy=\"123.14\" fill=\"#383838\" rx=\"2\" ry=\"2\" style=\"stroke: #383838; stroke-width: 1.0;\"/></a><!--MD5=[4672eba38e49728da53d11aeb285b987]\n",
       "reverse link E3 to E4--><a href=\"psysml:e82a868e-a957-4308-9aca-5f2e1a046a10\" target=\"_top\" title=\"psysml:e82a868e-a957-4308-9aca-5f2e1a046a10\" xlink:actuate=\"onRequest\" xlink:href=\"psysml:e82a868e-a957-4308-9aca-5f2e1a046a10\" xlink:show=\"new\" xlink:title=\"psysml:e82a868e-a957-4308-9aca-5f2e1a046a10\" xlink:type=\"simple\"><path d=\"M83.84,247.58 C74.86,262.92 66.35,280.06 61,297 C53.08,322.07 51.8,352.44 52.03,372.66 \" fill=\"none\" id=\"E3&lt;-E4\" style=\"stroke: #383838; stroke-width: 1.0;\"/><polygon fill=\"#383838\" points=\"90.76,236.23,84.2205,239.269,84.5106,246.4743,91.0501,243.4353,90.76,236.23\" style=\"stroke: #383838; stroke-width: 1.0;\"/><text fill=\"#000000\" font-family=\"sans-serif\" font-size=\"13\" lengthAdjust=\"spacingAndGlyphs\" textLength=\"8\" x=\"42.7564\" y=\"361.8492\">1</text></a><!--MD5=[191cde3d490a3f6d7bb551fe3ddca469]\n",
       "reverse link E3 to E5--><a href=\"psysml:01f43deb-5863-4903-863e-c9a23e0a1180\" target=\"_top\" title=\"psysml:01f43deb-5863-4903-863e-c9a23e0a1180\" xlink:actuate=\"onRequest\" xlink:href=\"psysml:01f43deb-5863-4903-863e-c9a23e0a1180\" xlink:show=\"new\" xlink:title=\"psysml:01f43deb-5863-4903-863e-c9a23e0a1180\" xlink:type=\"simple\"><path d=\"M142.61,248.24 C148.98,265.32 155.64,283.18 160.68,296.68 \" fill=\"none\" id=\"E3&lt;-E5\" style=\"stroke: #383838; stroke-width: 1.0;\"/><polygon fill=\"#FFFFFF\" points=\"138.04,236.01,136.3879,243.0293,142.2318,247.2541,143.8839,240.2348,138.04,236.01\" style=\"stroke: #383838; stroke-width: 1.0;\"/><text fill=\"#000000\" font-family=\"sans-serif\" font-size=\"13\" lengthAdjust=\"spacingAndGlyphs\" textLength=\"8\" x=\"149.523\" y=\"285.8743\">1</text></a><!--MD5=[79568f1e445c3877b6a54524624ccc7d]\n",
       "link E4 to E6--><a href=\"psysml:6f8c5931-99ab-4f3d-9640-f9d86b709835\" target=\"_top\" title=\"psysml:6f8c5931-99ab-4f3d-9640-f9d86b709835\" xlink:actuate=\"onRequest\" xlink:href=\"psysml:6f8c5931-99ab-4f3d-9640-f9d86b709835\" xlink:show=\"new\" xlink:title=\"psysml:6f8c5931-99ab-4f3d-9640-f9d86b709835\" xlink:type=\"simple\"><path d=\"M51.16,419.06 C49.78,445.2 49.96,489.66 63,525 C71.25,547.36 86.09,569.13 100.16,586.54 \" fill=\"none\" id=\"E4-&gt;E6\" style=\"stroke: #383838; stroke-width: 1.0;\"/><polygon fill=\"#FFFFFF\" points=\"113.18,601.76,95.5109,591.8705,106.1504,582.7709,113.18,601.76\" style=\"stroke: #383838; stroke-width: 1.0;\"/><ellipse cx=\"93.326\" cy=\"586.2388\" fill=\"#383838\" rx=\"2\" ry=\"2\" style=\"stroke: #383838; stroke-width: 1.0;\"/><ellipse cx=\"100.9256\" cy=\"579.7391\" fill=\"#383838\" rx=\"2\" ry=\"2\" style=\"stroke: #383838; stroke-width: 1.0;\"/></a><!--MD5=[3f50a3473f1dfb74d3f76443e03635af]\n",
       "reverse link E6 to E7--><a href=\"psysml:ef71999d-b74e-4e5c-b2f7-aebb94a9d32a\" target=\"_top\" title=\"psysml:ef71999d-b74e-4e5c-b2f7-aebb94a9d32a\" xlink:actuate=\"onRequest\" xlink:href=\"psysml:ef71999d-b74e-4e5c-b2f7-aebb94a9d32a\" xlink:show=\"new\" xlink:title=\"psysml:ef71999d-b74e-4e5c-b2f7-aebb94a9d32a\" xlink:type=\"simple\"><path d=\"M156.91,659.48 C168.15,676.66 181.53,697.11 191.48,712.31 \" fill=\"none\" id=\"E6&lt;-E7\" style=\"stroke: #383838; stroke-width: 1.0;\"/><polygon fill=\"#383838\" points=\"149.54,648.22,149.4851,655.4309,156.1201,658.255,156.1751,651.0441,149.54,648.22\" style=\"stroke: #383838; stroke-width: 1.0;\"/><text fill=\"#000000\" font-family=\"sans-serif\" font-size=\"13\" lengthAdjust=\"spacingAndGlyphs\" textLength=\"8\" x=\"178.7342\" y=\"701.5376\">1</text></a><!--MD5=[14ccda38c055a5c0da953d572bc50960]\n",
       "link E7 to E3--><a href=\"psysml:d4047a87-2764-4bb9-9711-6fad77bbdb97\" target=\"_top\" title=\"psysml:d4047a87-2764-4bb9-9711-6fad77bbdb97\" xlink:actuate=\"onRequest\" xlink:href=\"psysml:d4047a87-2764-4bb9-9711-6fad77bbdb97\" xlink:show=\"new\" xlink:title=\"psysml:d4047a87-2764-4bb9-9711-6fad77bbdb97\" xlink:type=\"simple\"><path d=\"M212.55,712.28 C218.38,690.5 226,656.26 226,626 C226,319 226,319 226,319 C226,282.18 199.26,250.31 172.91,227.83 \" fill=\"none\" id=\"E7-&gt;E3\" style=\"stroke: #383838; stroke-width: 1.0;\"/><polygon fill=\"#FFFFFF\" points=\"157.21,215.4,176.4527,221.7023,167.7644,232.6802,157.21,215.4\" style=\"stroke: #383838; stroke-width: 1.0;\"/><ellipse cx=\"179.681\" cy=\"226.808\" fill=\"#383838\" rx=\"2\" ry=\"2\" style=\"stroke: #383838; stroke-width: 1.0;\"/><ellipse cx=\"173.4751\" cy=\"234.6493\" fill=\"#383838\" rx=\"2\" ry=\"2\" style=\"stroke: #383838; stroke-width: 1.0;\"/></a><!--MD5=[f4cf0736d43fd73c4ef68817c49d37d5]\n",
       "reverse link E6 to E8--><a href=\"psysml:e9c4c173-85e4-4370-85e4-1c8f2eb4171b\" target=\"_top\" title=\"psysml:e9c4c173-85e4-4370-85e4-1c8f2eb4171b\" xlink:actuate=\"onRequest\" xlink:href=\"psysml:e9c4c173-85e4-4370-85e4-1c8f2eb4171b\" xlink:show=\"new\" xlink:title=\"psysml:e9c4c173-85e4-4370-85e4-1c8f2eb4171b\" xlink:type=\"simple\"><path d=\"M113.09,659.48 C101.85,676.66 88.47,697.11 78.52,712.31 \" fill=\"none\" id=\"E6&lt;-E8\" style=\"stroke: #383838; stroke-width: 1.0;\"/><polygon fill=\"#FFFFFF\" points=\"120.46,648.22,113.8249,651.0441,113.8799,658.255,120.5149,655.4309,120.46,648.22\" style=\"stroke: #383838; stroke-width: 1.0;\"/><text fill=\"#000000\" font-family=\"sans-serif\" font-size=\"13\" lengthAdjust=\"spacingAndGlyphs\" textLength=\"8\" x=\"73.2158\" y=\"701.5376\">1</text></a><!--MD5=[e88d06e5a652d73a6b19930eefe025a8]\n",
       "reverse link E6 to E9--><a href=\"psysml:ab2aae6d-159f-4d7a-a99e-78671a533366\" target=\"_top\" title=\"psysml:ab2aae6d-159f-4d7a-a99e-78671a533366\" xlink:actuate=\"onRequest\" xlink:href=\"psysml:ab2aae6d-159f-4d7a-a99e-78671a533366\" xlink:show=\"new\" xlink:title=\"psysml:ab2aae6d-159f-4d7a-a99e-78671a533366\" xlink:type=\"simple\"><path d=\"M135,663.49 C135,678.47 135,695.34 135,708.88 \" fill=\"none\" id=\"E6&lt;-E9\" style=\"stroke: #383838; stroke-width: 1.0;\"/><ellipse cx=\"135\" cy=\"656.22\" fill=\"#FFFFFF\" rx=\"8\" ry=\"8\" style=\"stroke: #383838; stroke-width: 1.0;\"/><line style=\"stroke: #383838; stroke-width: 1.0;\" x1=\"135\" x2=\"135\" y1=\"664.22\" y2=\"648.22\"/><line style=\"stroke: #383838; stroke-width: 1.0;\" x1=\"127\" x2=\"143\" y1=\"656.22\" y2=\"656.22\"/></a><!--MD5=[f78a29d5932556fa1060671a2a6507d8]\n",
       "link E5 to E10--><a href=\"psysml:09169cbe-938d-4307-a584-0b24a5ad62ce\" target=\"_top\" title=\"psysml:09169cbe-938d-4307-a584-0b24a5ad62ce\" xlink:actuate=\"onRequest\" xlink:href=\"psysml:09169cbe-938d-4307-a584-0b24a5ad62ce\" xlink:show=\"new\" xlink:title=\"psysml:09169cbe-938d-4307-a584-0b24a5ad62ce\" xlink:type=\"simple\"><path d=\"M164.41,343.25 C159.9,365.16 152.82,399.53 146.73,429.05 \" fill=\"none\" id=\"E5-&gt;E10\" style=\"stroke: #383838; stroke-width: 1.0;\"/><polygon fill=\"#FFFFFF\" points=\"142.63,448.98,139.6015,428.9593,153.3144,431.7799,142.63,448.98\" style=\"stroke: #383838; stroke-width: 1.0;\"/><ellipse cx=\"142.7089\" cy=\"423.7791\" fill=\"#383838\" rx=\"2\" ry=\"2\" style=\"stroke: #383838; stroke-width: 1.0;\"/><ellipse cx=\"152.5038\" cy=\"425.7938\" fill=\"#383838\" rx=\"2\" ry=\"2\" style=\"stroke: #383838; stroke-width: 1.0;\"/></a><!--MD5=[8e04057e7b3cbc0dca4fc78ea351e2da]\n",
       "reverse link E10 to E3--><a href=\"psysml:75696b56-911c-4e7f-a413-6399c7af4d3a\" target=\"_top\" title=\"psysml:75696b56-911c-4e7f-a413-6399c7af4d3a\" xlink:actuate=\"onRequest\" xlink:href=\"psysml:75696b56-911c-4e7f-a413-6399c7af4d3a\" xlink:show=\"new\" xlink:title=\"psysml:75696b56-911c-4e7f-a413-6399c7af4d3a\" xlink:type=\"simple\"><path d=\"M129.29,435.52 C126.48,408.18 123.4,373.78 122,343 C120.37,306.97 120.5,266.02 120.97,236.02 \" fill=\"none\" id=\"E10&lt;-E3\" style=\"stroke: #383838; stroke-width: 1.0;\"/><polygon fill=\"#FFFFFF\" points=\"130.68,448.73,134.0248,442.3415,129.4142,436.7969,126.0694,443.1854,130.68,448.73\" style=\"stroke: #383838; stroke-width: 1.0;\"/><text fill=\"#000000\" font-family=\"sans-serif\" font-size=\"13\" lengthAdjust=\"spacingAndGlyphs\" textLength=\"7\" x=\"123\" y=\"324.5669\">y</text></a><!--MD5=[604cbf994c02b74b117f728a71673cea]\n",
       "reverse link E10 to E6--><a href=\"psysml:75696b56-911c-4e7f-a413-6399c7af4d3a\" target=\"_top\" title=\"psysml:75696b56-911c-4e7f-a413-6399c7af4d3a\" xlink:actuate=\"onRequest\" xlink:href=\"psysml:75696b56-911c-4e7f-a413-6399c7af4d3a\" xlink:show=\"new\" xlink:title=\"psysml:75696b56-911c-4e7f-a413-6399c7af4d3a\" xlink:type=\"simple\"><path d=\"M135,538.33 C135,560.16 135,584.6 135,601.77 \" fill=\"none\" id=\"E10&lt;-E6\" style=\"stroke: #383838; stroke-width: 1.0;\"/><polygon fill=\"#FFFFFF\" points=\"135,525.16,131,531.16,135,537.16,139,531.16,135,525.16\" style=\"stroke: #383838; stroke-width: 1.0;\"/><text fill=\"#000000\" font-family=\"sans-serif\" font-size=\"13\" lengthAdjust=\"spacingAndGlyphs\" textLength=\"7\" x=\"136\" y=\"568.0669\">y</text></a><!--MD5=[2e82103d626bbd66db294063a37093f7]\n",
       "@startuml\r\n",
       "top to bottom direction\r\n",
       "skinparam monochrome true\r\n",
       "skinparam classbackgroundcolor white\r\n",
       "skinparam shadowing false\r\n",
       "skinparam wrapWidth 300\r\n",
       "hide circle\r\n",
       "\r\n",
       "package \"PartTest\" as E1  [[psysml:538b1265-15ae-4afd-8dd2-ef0f57b41a53 ]]  {\r\n",
       "comp usage \"f: A \" as E2  <<(T,blue) part>> [[psysml:2c090466-3d5c-4444-ba17-090921dc2443 ]] {\r\n",
       "}\r\n",
       "comp def \"A\" as E3  <<(T,blue) part  def>> [[psysml:d1b7cfcb-f6eb-4e6c-b82e-69976e6757f6 ]] {\r\n",
       "- - attributes - -\r\n",
       "x\r\n",
       "y:> A::x\r\n",
       "}\r\n",
       "comp usage \"b: B \" as E4  <<(T,blue) part>> [[psysml:1aa2f075-dfbc-4c28-975e-f9b78ce76d6b ]] {\r\n",
       "}\r\n",
       "comp usage \"c: C \" as E5  <<(T,blue) port>> [[psysml:6b6fc427-035b-4f92-af2f-ae5f46ec13e5 ]] {\r\n",
       "}\r\n",
       "comp def \"<i>B</i>\" as E6  <<(T,blue) part  def>> [[psysml:286e6ef4-92d4-4c1b-a17d-09881da7698b ]] {\r\n",
       "}\r\n",
       "comp usage \"<i>a</i>: A \" as E7  <<(T,blue) part>> [[psysml:215e87e2-ee75-46c7-98ea-4ce8794cdbad ]] {\r\n",
       "}\r\n",
       "comp usage \"x: ~C \" as E8  <<(T,blue) port>> [[psysml:27d37788-2b75-4a5c-b4fe-9553c2483e93 ]] {\r\n",
       "}\r\n",
       "package \"P\" as E9  [[psysml:e555f4d2-547d-4756-8b33-5fda3be7b359 ]]  {\r\n",
       "}\r\n",
       "comp def \"C\" as E10  <<(T,blue) port  def>> [[psysml:3d6805d2-0d33-47df-af88-6771a9177656 ]] {\r\n",
       "- - parameters - -\r\n",
       "<b>in</b> y: A, B <b>alias</b> z2 \r\n",
       "}\r\n",
       "}\r\n",
       "E2 - -:|> E3 [[psysml:02703352-f69e-4a4b-893d-89c09588fdfd ]] \r\n",
       "E3 *- - \"1\"E4 [[psysml:e82a868e-a957-4308-9aca-5f2e1a046a10 ]] \r\n",
       "E3 o- - \"1\"E5 [[psysml:01f43deb-5863-4903-863e-c9a23e0a1180 ]] \r\n",
       "E4 - -:|> E6 [[psysml:6f8c5931-99ab-4f3d-9640-f9d86b709835 ]] \r\n",
       "E6 *- - \"1\"E7 [[psysml:ef71999d-b74e-4e5c-b2f7-aebb94a9d32a ]] \r\n",
       "E7 - -:|> E3 [[psysml:d4047a87-2764-4bb9-9711-6fad77bbdb97 ]] \r\n",
       "E6 o- - \"1\"E8 [[psysml:e9c4c173-85e4-4370-85e4-1c8f2eb4171b ]] \r\n",
       "E6 +- - E9 [[psysml:ab2aae6d-159f-4d7a-a99e-78671a533366 ]] \r\n",
       "E5 - -:|> E10 [[psysml:09169cbe-938d-4307-a584-0b24a5ad62ce ]] \r\n",
       "E10 o- - E3 [[psysml:75696b56-911c-4e7f-a413-6399c7af4d3a ]] : y\r\n",
       "E10 o- - E6 [[psysml:75696b56-911c-4e7f-a413-6399c7af4d3a ]] : y\r\n",
       "@enduml\r\n",
       "\n",
       "PlantUML version 1.2020.13(Sat Jun 13 12:26:38 UTC 2020)\n",
       "(EPL source distribution)\n",
       "Java Runtime: OpenJDK Runtime Environment\n",
       "JVM: OpenJDK 64-Bit Server VM\n",
       "Default Encoding: UTF-8\n",
       "Language: en\n",
       "Country: null\n",
       "--></g></svg>"
      ]
     },
     "execution_count": 44,
     "metadata": {},
     "output_type": "execute_result"
    }
   ],
   "source": [
    "%viz --style=\"TB\" --view=\"Default\" \"PartTest\""
   ]
  },
  {
   "cell_type": "code",
   "execution_count": 45,
   "id": "1ebf9f18",
   "metadata": {
    "execution": {
     "iopub.execute_input": "2022-05-19T08:45:14.824096Z",
     "iopub.status.busy": "2022-05-19T08:45:14.823627Z",
     "iopub.status.idle": "2022-05-19T08:45:14.898192Z",
     "shell.execute_reply": "2022-05-19T08:45:14.896579Z"
    }
   },
   "outputs": [
    {
     "data": {
      "image/svg+xml": [
       "<?xml version=\"1.0\" encoding=\"UTF-8\" standalone=\"no\"?><svg xmlns=\"http://www.w3.org/2000/svg\" xmlns:xlink=\"http://www.w3.org/1999/xlink\" contentScriptType=\"application/ecmascript\" contentStyleType=\"text/css\" height=\"790px\" preserveAspectRatio=\"none\" style=\"width:265px;height:790px;\" version=\"1.1\" viewBox=\"0 0 265 790\" width=\"265px\" zoomAndPan=\"magnify\"><defs/><g><!--MD5=[fbc87193dbaf4d95561dea2c320d4a47]\n",
       "cluster E1--><a href=\"psysml:538b1265-15ae-4afd-8dd2-ef0f57b41a53\" target=\"_top\" title=\"psysml:538b1265-15ae-4afd-8dd2-ef0f57b41a53\" xlink:actuate=\"onRequest\" xlink:href=\"psysml:538b1265-15ae-4afd-8dd2-ef0f57b41a53\" xlink:show=\"new\" xlink:title=\"psysml:538b1265-15ae-4afd-8dd2-ef0f57b41a53\" xlink:type=\"simple\"><polygon fill=\"#FFFFFF\" points=\"16,6,80,6,87,28.2969,243,28.2969,243,778,16,778,16,6\" style=\"stroke: #000000; stroke-width: 1.5;\"/><line style=\"stroke: #000000; stroke-width: 1.5;\" x1=\"16\" x2=\"87\" y1=\"28.2969\" y2=\"28.2969\"/><text fill=\"#000000\" font-family=\"sans-serif\" font-size=\"14\" font-weight=\"bold\" lengthAdjust=\"spacingAndGlyphs\" textLength=\"58\" x=\"20\" y=\"20.9951\">PartTest</text></a><!--MD5=[b4997ac47864f28c2f74865a473b2911]\n",
       "class E2--><a href=\"psysml:2c090466-3d5c-4444-ba17-090921dc2443\" target=\"_top\" title=\"psysml:2c090466-3d5c-4444-ba17-090921dc2443\" xlink:actuate=\"onRequest\" xlink:href=\"psysml:2c090466-3d5c-4444-ba17-090921dc2443\" xlink:show=\"new\" xlink:title=\"psysml:2c090466-3d5c-4444-ba17-090921dc2443\" xlink:type=\"simple\"><rect fill=\"#FFFFFF\" height=\"45.9375\" id=\"E2\" rx=\"10\" ry=\"10\" style=\"stroke: #383838; stroke-width: 1.5;\" width=\"42\" x=\"101\" y=\"41\"/><text fill=\"#000000\" font-family=\"sans-serif\" font-size=\"12\" font-style=\"italic\" lengthAdjust=\"spacingAndGlyphs\" textLength=\"40\" x=\"102\" y=\"57.1387\">«part»</text><text fill=\"#000000\" font-family=\"sans-serif\" font-size=\"12\" lengthAdjust=\"spacingAndGlyphs\" textLength=\"20\" x=\"110\" y=\"71.1074\">f: A</text><line style=\"stroke: #383838; stroke-width: 1.5;\" x1=\"102\" x2=\"142\" y1=\"78.9375\" y2=\"78.9375\"/></a><!--MD5=[09b614a08d8cba4a07c9adeb5e0fee81]\n",
       "class E3--><a href=\"psysml:d1b7cfcb-f6eb-4e6c-b82e-69976e6757f6\" target=\"_top\" title=\"psysml:d1b7cfcb-f6eb-4e6c-b82e-69976e6757f6\" xlink:actuate=\"onRequest\" xlink:href=\"psysml:d1b7cfcb-f6eb-4e6c-b82e-69976e6757f6\" xlink:show=\"new\" xlink:title=\"psysml:d1b7cfcb-f6eb-4e6c-b82e-69976e6757f6\" xlink:type=\"simple\"><rect fill=\"#FFFFFF\" height=\"88.3516\" id=\"E3\" style=\"stroke: #383838; stroke-width: 1.5;\" width=\"70\" x=\"87\" y=\"148\"/><text fill=\"#000000\" font-family=\"sans-serif\" font-size=\"12\" font-style=\"italic\" lengthAdjust=\"spacingAndGlyphs\" textLength=\"68\" x=\"88\" y=\"164.1387\">«part  def»</text><text fill=\"#000000\" font-family=\"sans-serif\" font-size=\"12\" lengthAdjust=\"spacingAndGlyphs\" textLength=\"8\" x=\"118\" y=\"178.1074\">A</text><line style=\"stroke: #383838; stroke-width: 1.5;\" x1=\"88\" x2=\"156\" y1=\"185.9375\" y2=\"185.9375\"/><text fill=\"#000000\" font-family=\"sans-serif\" font-size=\"11\" lengthAdjust=\"spacingAndGlyphs\" textLength=\"6\" x=\"93\" y=\"216.9526\">x</text><text fill=\"#000000\" font-family=\"sans-serif\" font-size=\"11\" lengthAdjust=\"spacingAndGlyphs\" textLength=\"44\" x=\"93\" y=\"229.7573\">y:&gt; A::x</text><line style=\"stroke: #383838; stroke-width: 1.0;\" x1=\"88\" x2=\"94.5\" y1=\"200.3398\" y2=\"200.3398\"/><text fill=\"#000000\" font-family=\"sans-serif\" font-size=\"11\" lengthAdjust=\"spacingAndGlyphs\" textLength=\"55\" x=\"94.5\" y=\"203.6479\">attributes</text><line style=\"stroke: #383838; stroke-width: 1.0;\" x1=\"149.5\" x2=\"156\" y1=\"200.3398\" y2=\"200.3398\"/></a><!--MD5=[ebbe1d658d1005bcc118a6aa81145e00]\n",
       "class E4--><a href=\"psysml:1aa2f075-dfbc-4c28-975e-f9b78ce76d6b\" target=\"_top\" title=\"psysml:1aa2f075-dfbc-4c28-975e-f9b78ce76d6b\" xlink:actuate=\"onRequest\" xlink:href=\"psysml:1aa2f075-dfbc-4c28-975e-f9b78ce76d6b\" xlink:show=\"new\" xlink:title=\"psysml:1aa2f075-dfbc-4c28-975e-f9b78ce76d6b\" xlink:type=\"simple\"><rect fill=\"#FFFFFF\" height=\"45.9375\" id=\"E4\" rx=\"10\" ry=\"10\" style=\"stroke: #383838; stroke-width: 1.5;\" width=\"42\" x=\"32\" y=\"373\"/><text fill=\"#000000\" font-family=\"sans-serif\" font-size=\"12\" font-style=\"italic\" lengthAdjust=\"spacingAndGlyphs\" textLength=\"40\" x=\"33\" y=\"389.1387\">«part»</text><text fill=\"#000000\" font-family=\"sans-serif\" font-size=\"12\" lengthAdjust=\"spacingAndGlyphs\" textLength=\"24\" x=\"39\" y=\"403.1074\">b: B</text><line style=\"stroke: #383838; stroke-width: 1.5;\" x1=\"33\" x2=\"73\" y1=\"410.9375\" y2=\"410.9375\"/></a><!--MD5=[270fce915f116d4de14055a7c1d9a0f3]\n",
       "class E5--><a href=\"psysml:6b6fc427-035b-4f92-af2f-ae5f46ec13e5\" target=\"_top\" title=\"psysml:6b6fc427-035b-4f92-af2f-ae5f46ec13e5\" xlink:actuate=\"onRequest\" xlink:href=\"psysml:6b6fc427-035b-4f92-af2f-ae5f46ec13e5\" xlink:show=\"new\" xlink:title=\"psysml:6b6fc427-035b-4f92-af2f-ae5f46ec13e5\" xlink:type=\"simple\"><rect fill=\"#FFFFFF\" height=\"45.9375\" id=\"E5\" rx=\"10\" ry=\"10\" style=\"stroke: #383838; stroke-width: 1.5;\" width=\"42\" x=\"148\" y=\"297\"/><text fill=\"#000000\" font-family=\"sans-serif\" font-size=\"12\" font-style=\"italic\" lengthAdjust=\"spacingAndGlyphs\" textLength=\"40\" x=\"149\" y=\"313.1387\">«port»</text><text fill=\"#000000\" font-family=\"sans-serif\" font-size=\"12\" lengthAdjust=\"spacingAndGlyphs\" textLength=\"23\" x=\"155.5\" y=\"327.1074\">c: C</text><line style=\"stroke: #383838; stroke-width: 1.5;\" x1=\"149\" x2=\"189\" y1=\"334.9375\" y2=\"334.9375\"/></a><!--MD5=[60a26617385b1d2d0262a64233df1f8d]\n",
       "class E6--><a href=\"psysml:286e6ef4-92d4-4c1b-a17d-09881da7698b\" target=\"_top\" title=\"psysml:286e6ef4-92d4-4c1b-a17d-09881da7698b\" xlink:actuate=\"onRequest\" xlink:href=\"psysml:286e6ef4-92d4-4c1b-a17d-09881da7698b\" xlink:show=\"new\" xlink:title=\"psysml:286e6ef4-92d4-4c1b-a17d-09881da7698b\" xlink:type=\"simple\"><rect fill=\"#FFFFFF\" height=\"45.9375\" id=\"E6\" style=\"stroke: #383838; stroke-width: 1.5;\" width=\"70\" x=\"100\" y=\"602\"/><text fill=\"#000000\" font-family=\"sans-serif\" font-size=\"12\" font-style=\"italic\" lengthAdjust=\"spacingAndGlyphs\" textLength=\"68\" x=\"101\" y=\"618.1387\">«part  def»</text><text fill=\"#000000\" font-family=\"sans-serif\" font-size=\"12\" font-style=\"italic\" lengthAdjust=\"spacingAndGlyphs\" textLength=\"8\" x=\"131\" y=\"632.1074\">B</text><line style=\"stroke: #383838; stroke-width: 1.5;\" x1=\"101\" x2=\"169\" y1=\"639.9375\" y2=\"639.9375\"/></a><!--MD5=[2156ba9850f5573cc1fc38a6a4b2f02b]\n",
       "class E7--><a href=\"psysml:215e87e2-ee75-46c7-98ea-4ce8794cdbad\" target=\"_top\" title=\"psysml:215e87e2-ee75-46c7-98ea-4ce8794cdbad\" xlink:actuate=\"onRequest\" xlink:href=\"psysml:215e87e2-ee75-46c7-98ea-4ce8794cdbad\" xlink:show=\"new\" xlink:title=\"psysml:215e87e2-ee75-46c7-98ea-4ce8794cdbad\" xlink:type=\"simple\"><rect fill=\"#FFFFFF\" height=\"45.9375\" id=\"E7\" rx=\"10\" ry=\"10\" style=\"stroke: #383838; stroke-width: 1.5;\" width=\"42\" x=\"185\" y=\"712.5\"/><text fill=\"#000000\" font-family=\"sans-serif\" font-size=\"12\" font-style=\"italic\" lengthAdjust=\"spacingAndGlyphs\" textLength=\"40\" x=\"186\" y=\"728.6387\">«part»</text><text fill=\"#000000\" font-family=\"sans-serif\" font-size=\"12\" font-style=\"italic\" lengthAdjust=\"spacingAndGlyphs\" textLength=\"8\" x=\"192\" y=\"742.6074\">a</text><text fill=\"#000000\" font-family=\"sans-serif\" font-size=\"12\" lengthAdjust=\"spacingAndGlyphs\" textLength=\"16\" x=\"200\" y=\"742.6074\">: A</text><line style=\"stroke: #383838; stroke-width: 1.5;\" x1=\"186\" x2=\"226\" y1=\"750.4375\" y2=\"750.4375\"/></a><!--MD5=[b9389687b975829384b498ac4b7476b2]\n",
       "class E8--><a href=\"psysml:27d37788-2b75-4a5c-b4fe-9553c2483e93\" target=\"_top\" title=\"psysml:27d37788-2b75-4a5c-b4fe-9553c2483e93\" xlink:actuate=\"onRequest\" xlink:href=\"psysml:27d37788-2b75-4a5c-b4fe-9553c2483e93\" xlink:show=\"new\" xlink:title=\"psysml:27d37788-2b75-4a5c-b4fe-9553c2483e93\" xlink:type=\"simple\"><rect fill=\"#FFFFFF\" height=\"45.9375\" id=\"E8\" rx=\"10\" ry=\"10\" style=\"stroke: #383838; stroke-width: 1.5;\" width=\"42\" x=\"43\" y=\"712.5\"/><text fill=\"#000000\" font-family=\"sans-serif\" font-size=\"12\" font-style=\"italic\" lengthAdjust=\"spacingAndGlyphs\" textLength=\"40\" x=\"44\" y=\"728.6387\">«port»</text><text fill=\"#000000\" font-family=\"sans-serif\" font-size=\"12\" lengthAdjust=\"spacingAndGlyphs\" textLength=\"32\" x=\"46\" y=\"742.6074\">x: ~C</text><line style=\"stroke: #383838; stroke-width: 1.5;\" x1=\"44\" x2=\"84\" y1=\"750.4375\" y2=\"750.4375\"/></a><!--MD5=[96f4274e9e20536e775497830990834d]\n",
       "class E10--><a href=\"psysml:3d6805d2-0d33-47df-af88-6771a9177656\" target=\"_top\" title=\"psysml:3d6805d2-0d33-47df-af88-6771a9177656\" xlink:actuate=\"onRequest\" xlink:href=\"psysml:3d6805d2-0d33-47df-af88-6771a9177656\" xlink:show=\"new\" xlink:title=\"psysml:3d6805d2-0d33-47df-af88-6771a9177656\" xlink:type=\"simple\"><rect fill=\"#FFFFFF\" height=\"75.5469\" id=\"E10\" style=\"stroke: #383838; stroke-width: 1.5;\" width=\"110\" x=\"80\" y=\"449\"/><text fill=\"#000000\" font-family=\"sans-serif\" font-size=\"12\" font-style=\"italic\" lengthAdjust=\"spacingAndGlyphs\" textLength=\"68\" x=\"101\" y=\"465.1387\">«port  def»</text><text fill=\"#000000\" font-family=\"sans-serif\" font-size=\"12\" lengthAdjust=\"spacingAndGlyphs\" textLength=\"8\" x=\"131\" y=\"479.1074\">C</text><line style=\"stroke: #383838; stroke-width: 1.5;\" x1=\"81\" x2=\"189\" y1=\"486.9375\" y2=\"486.9375\"/><text fill=\"#000000\" font-family=\"sans-serif\" font-size=\"11\" font-weight=\"bold\" lengthAdjust=\"spacingAndGlyphs\" textLength=\"10\" x=\"86\" y=\"517.9526\">in</text><text fill=\"#000000\" font-family=\"sans-serif\" font-size=\"11\" lengthAdjust=\"spacingAndGlyphs\" textLength=\"37\" x=\"100\" y=\"517.9526\">y: A, B</text><text fill=\"#000000\" font-family=\"sans-serif\" font-size=\"11\" font-weight=\"bold\" lengthAdjust=\"spacingAndGlyphs\" textLength=\"27\" x=\"141\" y=\"517.9526\">alias</text><text fill=\"#000000\" font-family=\"sans-serif\" font-size=\"11\" lengthAdjust=\"spacingAndGlyphs\" textLength=\"12\" x=\"172\" y=\"517.9526\">z2</text><line style=\"stroke: #383838; stroke-width: 1.0;\" x1=\"81\" x2=\"101.5\" y1=\"501.3398\" y2=\"501.3398\"/><text fill=\"#000000\" font-family=\"sans-serif\" font-size=\"11\" lengthAdjust=\"spacingAndGlyphs\" textLength=\"67\" x=\"101.5\" y=\"504.6479\">parameters</text><line style=\"stroke: #383838; stroke-width: 1.0;\" x1=\"168.5\" x2=\"189\" y1=\"501.3398\" y2=\"501.3398\"/></a><a href=\"psysml:e555f4d2-547d-4756-8b33-5fda3be7b359\" target=\"_top\" title=\"psysml:e555f4d2-547d-4756-8b33-5fda3be7b359\" xlink:actuate=\"onRequest\" xlink:href=\"psysml:e555f4d2-547d-4756-8b33-5fda3be7b359\" xlink:show=\"new\" xlink:title=\"psysml:e555f4d2-547d-4756-8b33-5fda3be7b359\" xlink:type=\"simple\"><polygon fill=\"#FFFFFF\" points=\"120.5,709,135.5,709,142.5,731.2969,149.5,731.2969,149.5,761.5938,120.5,761.5938,120.5,709\" style=\"stroke: #000000; stroke-width: 1.5;\"/><line style=\"stroke: #000000; stroke-width: 1.5;\" x1=\"120.5\" x2=\"142.5\" y1=\"731.2969\" y2=\"731.2969\"/><text fill=\"#000000\" font-family=\"sans-serif\" font-size=\"14\" font-weight=\"bold\" lengthAdjust=\"spacingAndGlyphs\" textLength=\"9\" x=\"124.5\" y=\"723.9951\">P</text></a><!--MD5=[2720a5a1f2c3fca2055b230370638851]\n",
       "link E2 to E3--><a href=\"psysml:02703352-f69e-4a4b-893d-89c09588fdfd\" target=\"_top\" title=\"psysml:02703352-f69e-4a4b-893d-89c09588fdfd\" xlink:actuate=\"onRequest\" xlink:href=\"psysml:02703352-f69e-4a4b-893d-89c09588fdfd\" xlink:show=\"new\" xlink:title=\"psysml:02703352-f69e-4a4b-893d-89c09588fdfd\" xlink:type=\"simple\"><path d=\"M122,87.24 C122,98.62 122,113.11 122,127.62 \" fill=\"none\" id=\"E2-&gt;E3\" style=\"stroke: #383838; stroke-width: 1.0;\"/><polygon fill=\"#FFFFFF\" points=\"122,147.84,115,128.84,129,128.84,122,147.84\" style=\"stroke: #383838; stroke-width: 1.0;\"/><ellipse cx=\"117\" cy=\"123.14\" fill=\"#383838\" rx=\"2\" ry=\"2\" style=\"stroke: #383838; stroke-width: 1.0;\"/><ellipse cx=\"127\" cy=\"123.14\" fill=\"#383838\" rx=\"2\" ry=\"2\" style=\"stroke: #383838; stroke-width: 1.0;\"/></a><!--MD5=[4672eba38e49728da53d11aeb285b987]\n",
       "reverse link E3 to E4--><a href=\"psysml:e82a868e-a957-4308-9aca-5f2e1a046a10\" target=\"_top\" title=\"psysml:e82a868e-a957-4308-9aca-5f2e1a046a10\" xlink:actuate=\"onRequest\" xlink:href=\"psysml:e82a868e-a957-4308-9aca-5f2e1a046a10\" xlink:show=\"new\" xlink:title=\"psysml:e82a868e-a957-4308-9aca-5f2e1a046a10\" xlink:type=\"simple\"><path d=\"M83.84,247.58 C74.86,262.92 66.35,280.06 61,297 C53.08,322.07 51.8,352.44 52.03,372.66 \" fill=\"none\" id=\"E3&lt;-E4\" style=\"stroke: #383838; stroke-width: 1.0;\"/><polygon fill=\"#383838\" points=\"90.76,236.23,84.2205,239.269,84.5106,246.4743,91.0501,243.4353,90.76,236.23\" style=\"stroke: #383838; stroke-width: 1.0;\"/><text fill=\"#000000\" font-family=\"sans-serif\" font-size=\"13\" lengthAdjust=\"spacingAndGlyphs\" textLength=\"8\" x=\"42.7564\" y=\"361.8492\">1</text></a><!--MD5=[191cde3d490a3f6d7bb551fe3ddca469]\n",
       "reverse link E3 to E5--><a href=\"psysml:01f43deb-5863-4903-863e-c9a23e0a1180\" target=\"_top\" title=\"psysml:01f43deb-5863-4903-863e-c9a23e0a1180\" xlink:actuate=\"onRequest\" xlink:href=\"psysml:01f43deb-5863-4903-863e-c9a23e0a1180\" xlink:show=\"new\" xlink:title=\"psysml:01f43deb-5863-4903-863e-c9a23e0a1180\" xlink:type=\"simple\"><path d=\"M142.61,248.24 C148.98,265.32 155.64,283.18 160.68,296.68 \" fill=\"none\" id=\"E3&lt;-E5\" style=\"stroke: #383838; stroke-width: 1.0;\"/><polygon fill=\"#FFFFFF\" points=\"138.04,236.01,136.3879,243.0293,142.2318,247.2541,143.8839,240.2348,138.04,236.01\" style=\"stroke: #383838; stroke-width: 1.0;\"/><text fill=\"#000000\" font-family=\"sans-serif\" font-size=\"13\" lengthAdjust=\"spacingAndGlyphs\" textLength=\"8\" x=\"149.523\" y=\"285.8743\">1</text></a><!--MD5=[79568f1e445c3877b6a54524624ccc7d]\n",
       "link E4 to E6--><a href=\"psysml:6f8c5931-99ab-4f3d-9640-f9d86b709835\" target=\"_top\" title=\"psysml:6f8c5931-99ab-4f3d-9640-f9d86b709835\" xlink:actuate=\"onRequest\" xlink:href=\"psysml:6f8c5931-99ab-4f3d-9640-f9d86b709835\" xlink:show=\"new\" xlink:title=\"psysml:6f8c5931-99ab-4f3d-9640-f9d86b709835\" xlink:type=\"simple\"><path d=\"M51.16,419.06 C49.78,445.2 49.96,489.66 63,525 C71.25,547.36 86.09,569.13 100.16,586.54 \" fill=\"none\" id=\"E4-&gt;E6\" style=\"stroke: #383838; stroke-width: 1.0;\"/><polygon fill=\"#FFFFFF\" points=\"113.18,601.76,95.5109,591.8705,106.1504,582.7709,113.18,601.76\" style=\"stroke: #383838; stroke-width: 1.0;\"/><ellipse cx=\"93.326\" cy=\"586.2388\" fill=\"#383838\" rx=\"2\" ry=\"2\" style=\"stroke: #383838; stroke-width: 1.0;\"/><ellipse cx=\"100.9256\" cy=\"579.7391\" fill=\"#383838\" rx=\"2\" ry=\"2\" style=\"stroke: #383838; stroke-width: 1.0;\"/></a><!--MD5=[3f50a3473f1dfb74d3f76443e03635af]\n",
       "reverse link E6 to E7--><a href=\"psysml:ef71999d-b74e-4e5c-b2f7-aebb94a9d32a\" target=\"_top\" title=\"psysml:ef71999d-b74e-4e5c-b2f7-aebb94a9d32a\" xlink:actuate=\"onRequest\" xlink:href=\"psysml:ef71999d-b74e-4e5c-b2f7-aebb94a9d32a\" xlink:show=\"new\" xlink:title=\"psysml:ef71999d-b74e-4e5c-b2f7-aebb94a9d32a\" xlink:type=\"simple\"><path d=\"M156.91,659.48 C168.15,676.66 181.53,697.11 191.48,712.31 \" fill=\"none\" id=\"E6&lt;-E7\" style=\"stroke: #383838; stroke-width: 1.0;\"/><polygon fill=\"#383838\" points=\"149.54,648.22,149.4851,655.4309,156.1201,658.255,156.1751,651.0441,149.54,648.22\" style=\"stroke: #383838; stroke-width: 1.0;\"/><text fill=\"#000000\" font-family=\"sans-serif\" font-size=\"13\" lengthAdjust=\"spacingAndGlyphs\" textLength=\"8\" x=\"178.7342\" y=\"701.5376\">1</text></a><!--MD5=[14ccda38c055a5c0da953d572bc50960]\n",
       "link E7 to E3--><a href=\"psysml:d4047a87-2764-4bb9-9711-6fad77bbdb97\" target=\"_top\" title=\"psysml:d4047a87-2764-4bb9-9711-6fad77bbdb97\" xlink:actuate=\"onRequest\" xlink:href=\"psysml:d4047a87-2764-4bb9-9711-6fad77bbdb97\" xlink:show=\"new\" xlink:title=\"psysml:d4047a87-2764-4bb9-9711-6fad77bbdb97\" xlink:type=\"simple\"><path d=\"M212.55,712.28 C218.38,690.5 226,656.26 226,626 C226,319 226,319 226,319 C226,282.18 199.26,250.31 172.91,227.83 \" fill=\"none\" id=\"E7-&gt;E3\" style=\"stroke: #383838; stroke-width: 1.0;\"/><polygon fill=\"#FFFFFF\" points=\"157.21,215.4,176.4527,221.7023,167.7644,232.6802,157.21,215.4\" style=\"stroke: #383838; stroke-width: 1.0;\"/><ellipse cx=\"179.681\" cy=\"226.808\" fill=\"#383838\" rx=\"2\" ry=\"2\" style=\"stroke: #383838; stroke-width: 1.0;\"/><ellipse cx=\"173.4751\" cy=\"234.6493\" fill=\"#383838\" rx=\"2\" ry=\"2\" style=\"stroke: #383838; stroke-width: 1.0;\"/></a><!--MD5=[f4cf0736d43fd73c4ef68817c49d37d5]\n",
       "reverse link E6 to E8--><a href=\"psysml:e9c4c173-85e4-4370-85e4-1c8f2eb4171b\" target=\"_top\" title=\"psysml:e9c4c173-85e4-4370-85e4-1c8f2eb4171b\" xlink:actuate=\"onRequest\" xlink:href=\"psysml:e9c4c173-85e4-4370-85e4-1c8f2eb4171b\" xlink:show=\"new\" xlink:title=\"psysml:e9c4c173-85e4-4370-85e4-1c8f2eb4171b\" xlink:type=\"simple\"><path d=\"M113.09,659.48 C101.85,676.66 88.47,697.11 78.52,712.31 \" fill=\"none\" id=\"E6&lt;-E8\" style=\"stroke: #383838; stroke-width: 1.0;\"/><polygon fill=\"#FFFFFF\" points=\"120.46,648.22,113.8249,651.0441,113.8799,658.255,120.5149,655.4309,120.46,648.22\" style=\"stroke: #383838; stroke-width: 1.0;\"/><text fill=\"#000000\" font-family=\"sans-serif\" font-size=\"13\" lengthAdjust=\"spacingAndGlyphs\" textLength=\"8\" x=\"73.2158\" y=\"701.5376\">1</text></a><!--MD5=[e88d06e5a652d73a6b19930eefe025a8]\n",
       "reverse link E6 to E9--><a href=\"psysml:ab2aae6d-159f-4d7a-a99e-78671a533366\" target=\"_top\" title=\"psysml:ab2aae6d-159f-4d7a-a99e-78671a533366\" xlink:actuate=\"onRequest\" xlink:href=\"psysml:ab2aae6d-159f-4d7a-a99e-78671a533366\" xlink:show=\"new\" xlink:title=\"psysml:ab2aae6d-159f-4d7a-a99e-78671a533366\" xlink:type=\"simple\"><path d=\"M135,663.49 C135,678.47 135,695.34 135,708.88 \" fill=\"none\" id=\"E6&lt;-E9\" style=\"stroke: #383838; stroke-width: 1.0;\"/><ellipse cx=\"135\" cy=\"656.22\" fill=\"#FFFFFF\" rx=\"8\" ry=\"8\" style=\"stroke: #383838; stroke-width: 1.0;\"/><line style=\"stroke: #383838; stroke-width: 1.0;\" x1=\"135\" x2=\"135\" y1=\"664.22\" y2=\"648.22\"/><line style=\"stroke: #383838; stroke-width: 1.0;\" x1=\"127\" x2=\"143\" y1=\"656.22\" y2=\"656.22\"/></a><!--MD5=[f78a29d5932556fa1060671a2a6507d8]\n",
       "link E5 to E10--><a href=\"psysml:09169cbe-938d-4307-a584-0b24a5ad62ce\" target=\"_top\" title=\"psysml:09169cbe-938d-4307-a584-0b24a5ad62ce\" xlink:actuate=\"onRequest\" xlink:href=\"psysml:09169cbe-938d-4307-a584-0b24a5ad62ce\" xlink:show=\"new\" xlink:title=\"psysml:09169cbe-938d-4307-a584-0b24a5ad62ce\" xlink:type=\"simple\"><path d=\"M164.41,343.25 C159.9,365.16 152.82,399.53 146.73,429.05 \" fill=\"none\" id=\"E5-&gt;E10\" style=\"stroke: #383838; stroke-width: 1.0;\"/><polygon fill=\"#FFFFFF\" points=\"142.63,448.98,139.6015,428.9593,153.3144,431.7799,142.63,448.98\" style=\"stroke: #383838; stroke-width: 1.0;\"/><ellipse cx=\"142.7089\" cy=\"423.7791\" fill=\"#383838\" rx=\"2\" ry=\"2\" style=\"stroke: #383838; stroke-width: 1.0;\"/><ellipse cx=\"152.5038\" cy=\"425.7938\" fill=\"#383838\" rx=\"2\" ry=\"2\" style=\"stroke: #383838; stroke-width: 1.0;\"/></a><!--MD5=[8e04057e7b3cbc0dca4fc78ea351e2da]\n",
       "reverse link E10 to E3--><a href=\"psysml:75696b56-911c-4e7f-a413-6399c7af4d3a\" target=\"_top\" title=\"psysml:75696b56-911c-4e7f-a413-6399c7af4d3a\" xlink:actuate=\"onRequest\" xlink:href=\"psysml:75696b56-911c-4e7f-a413-6399c7af4d3a\" xlink:show=\"new\" xlink:title=\"psysml:75696b56-911c-4e7f-a413-6399c7af4d3a\" xlink:type=\"simple\"><path d=\"M129.29,435.52 C126.48,408.18 123.4,373.78 122,343 C120.37,306.97 120.5,266.02 120.97,236.02 \" fill=\"none\" id=\"E10&lt;-E3\" style=\"stroke: #383838; stroke-width: 1.0;\"/><polygon fill=\"#FFFFFF\" points=\"130.68,448.73,134.0248,442.3415,129.4142,436.7969,126.0694,443.1854,130.68,448.73\" style=\"stroke: #383838; stroke-width: 1.0;\"/><text fill=\"#000000\" font-family=\"sans-serif\" font-size=\"13\" lengthAdjust=\"spacingAndGlyphs\" textLength=\"7\" x=\"123\" y=\"324.5669\">y</text></a><!--MD5=[604cbf994c02b74b117f728a71673cea]\n",
       "reverse link E10 to E6--><a href=\"psysml:75696b56-911c-4e7f-a413-6399c7af4d3a\" target=\"_top\" title=\"psysml:75696b56-911c-4e7f-a413-6399c7af4d3a\" xlink:actuate=\"onRequest\" xlink:href=\"psysml:75696b56-911c-4e7f-a413-6399c7af4d3a\" xlink:show=\"new\" xlink:title=\"psysml:75696b56-911c-4e7f-a413-6399c7af4d3a\" xlink:type=\"simple\"><path d=\"M135,538.33 C135,560.16 135,584.6 135,601.77 \" fill=\"none\" id=\"E10&lt;-E6\" style=\"stroke: #383838; stroke-width: 1.0;\"/><polygon fill=\"#FFFFFF\" points=\"135,525.16,131,531.16,135,537.16,139,531.16,135,525.16\" style=\"stroke: #383838; stroke-width: 1.0;\"/><text fill=\"#000000\" font-family=\"sans-serif\" font-size=\"13\" lengthAdjust=\"spacingAndGlyphs\" textLength=\"7\" x=\"136\" y=\"568.0669\">y</text></a><!--MD5=[2e82103d626bbd66db294063a37093f7]\n",
       "@startuml\r\n",
       "top to bottom direction\r\n",
       "skinparam monochrome true\r\n",
       "skinparam classbackgroundcolor white\r\n",
       "skinparam shadowing false\r\n",
       "skinparam wrapWidth 300\r\n",
       "hide circle\r\n",
       "\r\n",
       "package \"PartTest\" as E1  [[psysml:538b1265-15ae-4afd-8dd2-ef0f57b41a53 ]]  {\r\n",
       "comp usage \"f: A \" as E2  <<(T,blue) part>> [[psysml:2c090466-3d5c-4444-ba17-090921dc2443 ]] {\r\n",
       "}\r\n",
       "comp def \"A\" as E3  <<(T,blue) part  def>> [[psysml:d1b7cfcb-f6eb-4e6c-b82e-69976e6757f6 ]] {\r\n",
       "- - attributes - -\r\n",
       "x\r\n",
       "y:> A::x\r\n",
       "}\r\n",
       "comp usage \"b: B \" as E4  <<(T,blue) part>> [[psysml:1aa2f075-dfbc-4c28-975e-f9b78ce76d6b ]] {\r\n",
       "}\r\n",
       "comp usage \"c: C \" as E5  <<(T,blue) port>> [[psysml:6b6fc427-035b-4f92-af2f-ae5f46ec13e5 ]] {\r\n",
       "}\r\n",
       "comp def \"<i>B</i>\" as E6  <<(T,blue) part  def>> [[psysml:286e6ef4-92d4-4c1b-a17d-09881da7698b ]] {\r\n",
       "}\r\n",
       "comp usage \"<i>a</i>: A \" as E7  <<(T,blue) part>> [[psysml:215e87e2-ee75-46c7-98ea-4ce8794cdbad ]] {\r\n",
       "}\r\n",
       "comp usage \"x: ~C \" as E8  <<(T,blue) port>> [[psysml:27d37788-2b75-4a5c-b4fe-9553c2483e93 ]] {\r\n",
       "}\r\n",
       "package \"P\" as E9  [[psysml:e555f4d2-547d-4756-8b33-5fda3be7b359 ]]  {\r\n",
       "}\r\n",
       "comp def \"C\" as E10  <<(T,blue) port  def>> [[psysml:3d6805d2-0d33-47df-af88-6771a9177656 ]] {\r\n",
       "- - parameters - -\r\n",
       "<b>in</b> y: A, B <b>alias</b> z2 \r\n",
       "}\r\n",
       "}\r\n",
       "E2 - -:|> E3 [[psysml:02703352-f69e-4a4b-893d-89c09588fdfd ]] \r\n",
       "E3 *- - \"1\"E4 [[psysml:e82a868e-a957-4308-9aca-5f2e1a046a10 ]] \r\n",
       "E3 o- - \"1\"E5 [[psysml:01f43deb-5863-4903-863e-c9a23e0a1180 ]] \r\n",
       "E4 - -:|> E6 [[psysml:6f8c5931-99ab-4f3d-9640-f9d86b709835 ]] \r\n",
       "E6 *- - \"1\"E7 [[psysml:ef71999d-b74e-4e5c-b2f7-aebb94a9d32a ]] \r\n",
       "E7 - -:|> E3 [[psysml:d4047a87-2764-4bb9-9711-6fad77bbdb97 ]] \r\n",
       "E6 o- - \"1\"E8 [[psysml:e9c4c173-85e4-4370-85e4-1c8f2eb4171b ]] \r\n",
       "E6 +- - E9 [[psysml:ab2aae6d-159f-4d7a-a99e-78671a533366 ]] \r\n",
       "E5 - -:|> E10 [[psysml:09169cbe-938d-4307-a584-0b24a5ad62ce ]] \r\n",
       "E10 o- - E3 [[psysml:75696b56-911c-4e7f-a413-6399c7af4d3a ]] : y\r\n",
       "E10 o- - E6 [[psysml:75696b56-911c-4e7f-a413-6399c7af4d3a ]] : y\r\n",
       "@enduml\r\n",
       "\n",
       "PlantUML version 1.2020.13(Sat Jun 13 12:26:38 UTC 2020)\n",
       "(EPL source distribution)\n",
       "Java Runtime: OpenJDK Runtime Environment\n",
       "JVM: OpenJDK 64-Bit Server VM\n",
       "Default Encoding: UTF-8\n",
       "Language: en\n",
       "Country: null\n",
       "--></g></svg>"
      ]
     },
     "execution_count": 45,
     "metadata": {},
     "output_type": "execute_result"
    }
   ],
   "source": [
    "%viz --style=\"TB\" --view=\"Tree\" \"PartTest\""
   ]
  },
  {
   "cell_type": "code",
   "execution_count": 46,
   "id": "af771739",
   "metadata": {
    "execution": {
     "iopub.execute_input": "2022-05-19T08:45:14.947531Z",
     "iopub.status.busy": "2022-05-19T08:45:14.947049Z",
     "iopub.status.idle": "2022-05-19T08:45:14.951987Z",
     "shell.execute_reply": "2022-05-19T08:45:14.951600Z"
    }
   },
   "outputs": [
    {
     "data": {
      "image/svg+xml": [
       "<?xml version=\"1.0\" encoding=\"UTF-8\" standalone=\"no\"?><svg xmlns=\"http://www.w3.org/2000/svg\" xmlns:xlink=\"http://www.w3.org/1999/xlink\" contentScriptType=\"application/ecmascript\" contentStyleType=\"text/css\" height=\"12px\" preserveAspectRatio=\"none\" style=\"width:12px;height:12px;\" version=\"1.1\" viewBox=\"0 0 12 12\" width=\"12px\" zoomAndPan=\"magnify\"><defs/><g><!--MD5=[f4ee21bc66e489b5061b7c3e9601fdef]\n",
       "@startuml\r\n",
       "top to bottom direction\r\n",
       "skinparam monochrome true\r\n",
       "skinparam classbackgroundcolor white\r\n",
       "skinparam shadowing false\r\n",
       "skinparam wrapWidth 300\r\n",
       "hide circle\r\n",
       "\r\n",
       "@enduml\r\n",
       "\n",
       "PlantUML version 1.2020.13(Sat Jun 13 12:26:38 UTC 2020)\n",
       "(EPL source distribution)\n",
       "Java Runtime: OpenJDK Runtime Environment\n",
       "JVM: OpenJDK 64-Bit Server VM\n",
       "Default Encoding: UTF-8\n",
       "Language: en\n",
       "Country: null\n",
       "--></g></svg>"
      ]
     },
     "execution_count": 46,
     "metadata": {},
     "output_type": "execute_result"
    }
   ],
   "source": [
    "%viz --style=\"TB\" --view=\"State\" \"PartTest\""
   ]
  },
  {
   "cell_type": "code",
   "execution_count": 47,
   "id": "6369efe8",
   "metadata": {
    "execution": {
     "iopub.execute_input": "2022-05-19T08:45:15.001971Z",
     "iopub.status.busy": "2022-05-19T08:45:15.001483Z",
     "iopub.status.idle": "2022-05-19T08:45:15.039897Z",
     "shell.execute_reply": "2022-05-19T08:45:15.038384Z"
    }
   },
   "outputs": [
    {
     "data": {
      "image/svg+xml": [
       "<?xml version=\"1.0\" encoding=\"UTF-8\" standalone=\"no\"?><svg xmlns=\"http://www.w3.org/2000/svg\" xmlns:xlink=\"http://www.w3.org/1999/xlink\" contentScriptType=\"application/ecmascript\" contentStyleType=\"text/css\" height=\"429px\" preserveAspectRatio=\"none\" style=\"width:639px;height:429px;\" version=\"1.1\" viewBox=\"0 0 639 429\" width=\"639px\" zoomAndPan=\"magnify\"><defs/><g><!--MD5=[fbc87193dbaf4d95561dea2c320d4a47]\n",
       "cluster E1--><a href=\"psysml:538b1265-15ae-4afd-8dd2-ef0f57b41a53\" target=\"_top\" title=\"psysml:538b1265-15ae-4afd-8dd2-ef0f57b41a53\" xlink:actuate=\"onRequest\" xlink:href=\"psysml:538b1265-15ae-4afd-8dd2-ef0f57b41a53\" xlink:show=\"new\" xlink:title=\"psysml:538b1265-15ae-4afd-8dd2-ef0f57b41a53\" xlink:type=\"simple\"><polygon fill=\"#FFFFFF\" points=\"16,6,80,6,87,28.2969,617,28.2969,617,417.5,16,417.5,16,6\" style=\"stroke: #000000; stroke-width: 1.5;\"/><line style=\"stroke: #000000; stroke-width: 1.5;\" x1=\"16\" x2=\"87\" y1=\"28.2969\" y2=\"28.2969\"/><text fill=\"#000000\" font-family=\"sans-serif\" font-size=\"14\" font-weight=\"bold\" lengthAdjust=\"spacingAndGlyphs\" textLength=\"58\" x=\"20\" y=\"20.9951\">PartTest</text></a><!--MD5=[d5e69f78d87373223dbae638b30a9c99]\n",
       "cluster E3--><a href=\"psysml:d1b7cfcb-f6eb-4e6c-b82e-69976e6757f6\" target=\"_top\" title=\"psysml:d1b7cfcb-f6eb-4e6c-b82e-69976e6757f6\" xlink:actuate=\"onRequest\" xlink:href=\"psysml:d1b7cfcb-f6eb-4e6c-b82e-69976e6757f6\" xlink:show=\"new\" xlink:title=\"psysml:d1b7cfcb-f6eb-4e6c-b82e-69976e6757f6\" xlink:type=\"simple\"><rect fill=\"#FFFFFF\" height=\"171.5\" id=\"E3\" style=\"stroke: #383838; stroke-width: 1.5;\" width=\"246\" x=\"98\" y=\"63\"/><rect fill=\"#F8F8F8\" height=\"37.9375\" style=\"stroke: #383838; stroke-width: 1.5;\" width=\"246\" x=\"98\" y=\"63\"/><text fill=\"#000000\" font-family=\"sans-serif\" font-size=\"12\" font-style=\"italic\" lengthAdjust=\"spacingAndGlyphs\" textLength=\"68\" x=\"187\" y=\"79.1387\">«part  def»</text><text fill=\"#000000\" font-family=\"sans-serif\" font-size=\"12\" lengthAdjust=\"spacingAndGlyphs\" textLength=\"8\" x=\"217\" y=\"93.1074\">A</text></a><!--MD5=[55dfccfc6c49c2d10cd1bd2211a6c90c]\n",
       "cluster E8--><a href=\"psysml:286e6ef4-92d4-4c1b-a17d-09881da7698b\" target=\"_top\" title=\"psysml:286e6ef4-92d4-4c1b-a17d-09881da7698b\" xlink:actuate=\"onRequest\" xlink:href=\"psysml:286e6ef4-92d4-4c1b-a17d-09881da7698b\" xlink:show=\"new\" xlink:title=\"psysml:286e6ef4-92d4-4c1b-a17d-09881da7698b\" xlink:type=\"simple\"><rect fill=\"#FFFFFF\" height=\"206\" id=\"E8\" style=\"stroke: #383838; stroke-width: 1.5;\" width=\"225\" x=\"368\" y=\"187.5\"/><rect fill=\"#F8F8F8\" height=\"37.9375\" style=\"stroke: #383838; stroke-width: 1.5;\" width=\"225\" x=\"368\" y=\"187.5\"/><text fill=\"#000000\" font-family=\"sans-serif\" font-size=\"12\" font-style=\"italic\" lengthAdjust=\"spacingAndGlyphs\" textLength=\"68\" x=\"446.5\" y=\"203.6387\">«part  def»</text><text fill=\"#000000\" font-family=\"sans-serif\" font-size=\"12\" font-style=\"italic\" lengthAdjust=\"spacingAndGlyphs\" textLength=\"8\" x=\"476.5\" y=\"217.6074\">B</text></a><g id=\"E1.E12\"><a href=\"psysml:3d6805d2-0d33-47df-af88-6771a9177656\" target=\"_top\" title=\"psysml:3d6805d2-0d33-47df-af88-6771a9177656\" xlink:actuate=\"onRequest\" xlink:href=\"psysml:3d6805d2-0d33-47df-af88-6771a9177656\" xlink:show=\"new\" xlink:title=\"psysml:3d6805d2-0d33-47df-af88-6771a9177656\" xlink:type=\"simple\"><rect fill=\"#FFFFFF\" height=\"42.9375\" id=\"E12\" style=\"stroke: #383838; stroke-width: 1.5;\" width=\"75\" x=\"442.5\" y=\"41.5\"/><rect fill=\"#F8F8F8\" height=\"37.9375\" style=\"stroke: #383838; stroke-width: 1.5;\" width=\"75\" x=\"442.5\" y=\"41.5\"/><text fill=\"#000000\" font-family=\"sans-serif\" font-size=\"12\" font-style=\"italic\" lengthAdjust=\"spacingAndGlyphs\" textLength=\"68\" x=\"446\" y=\"57.6387\">«port  def»</text><text fill=\"#000000\" font-family=\"sans-serif\" font-size=\"12\" lengthAdjust=\"spacingAndGlyphs\" textLength=\"8\" x=\"476\" y=\"71.6074\">C</text></a></g><g id=\"E1.E2\"><a href=\"psysml:2c090466-3d5c-4444-ba17-090921dc2443\" target=\"_top\" title=\"psysml:2c090466-3d5c-4444-ba17-090921dc2443\" xlink:actuate=\"onRequest\" xlink:href=\"psysml:2c090466-3d5c-4444-ba17-090921dc2443\" xlink:show=\"new\" xlink:title=\"psysml:2c090466-3d5c-4444-ba17-090921dc2443\" xlink:type=\"simple\"><rect fill=\"#FFFFFF\" height=\"40\" id=\"E2\" rx=\"10\" ry=\"10\" style=\"stroke: #383838; stroke-width: 1.5;\" width=\"50\" x=\"32\" y=\"43\"/><rect fill=\"#F8F8F8\" height=\"23.9688\" rx=\"10\" ry=\"10\" style=\"stroke: #F8F8F8; stroke-width: 1.5;\" width=\"50\" x=\"32\" y=\"43\"/><rect fill=\"#F8F8F8\" height=\"10\" style=\"stroke: #F8F8F8; stroke-width: 1.5;\" width=\"50\" x=\"32\" y=\"56.9688\"/><rect fill=\"none\" height=\"40\" id=\"E2\" rx=\"10\" ry=\"10\" style=\"stroke: #383838; stroke-width: 1.5;\" width=\"50\" x=\"32\" y=\"43\"/><text fill=\"#000000\" font-family=\"sans-serif\" font-size=\"12\" lengthAdjust=\"spacingAndGlyphs\" textLength=\"20\" x=\"47\" y=\"59.1387\">f: A</text></a></g><text fill=\"#000000\" font-family=\"sans-serif\" font-size=\"14\" lengthAdjust=\"spacingAndGlyphs\" textLength=\"27\" x=\"258.5\" y=\"41.6982\">c: C</text><rect fill=\"#383838\" height=\"12\" style=\"stroke: #F8F8F8; stroke-width: 1.5;\" width=\"12\" x=\"268\" y=\"57\"/><!--MD5=[60a26617385b1d2d0262a64233df1f8d]\n",
       "class E6--><a href=\"psysml:06f02a55-455e-4cd3-969d-a4f55ea12e51\" target=\"_top\" title=\"psysml:06f02a55-455e-4cd3-969d-a4f55ea12e51\" xlink:actuate=\"onRequest\" xlink:href=\"psysml:06f02a55-455e-4cd3-969d-a4f55ea12e51\" xlink:show=\"new\" xlink:title=\"psysml:06f02a55-455e-4cd3-969d-a4f55ea12e51\" xlink:type=\"simple\"><rect fill=\"#FFFFFF\" height=\"45.9375\" id=\"E6\" rx=\"10\" ry=\"10\" style=\"stroke: #383838; stroke-width: 1.5;\" width=\"71\" x=\"122.5\" y=\"164.5\"/><text fill=\"#000000\" font-family=\"sans-serif\" font-size=\"12\" font-style=\"italic\" lengthAdjust=\"spacingAndGlyphs\" textLength=\"69\" x=\"123.5\" y=\"180.6387\">«attribute»</text><text fill=\"#000000\" font-family=\"sans-serif\" font-size=\"12\" lengthAdjust=\"spacingAndGlyphs\" textLength=\"6\" x=\"153\" y=\"194.6074\">x</text><line style=\"stroke: #383838; stroke-width: 1.5;\" x1=\"123.5\" x2=\"192.5\" y1=\"202.4375\" y2=\"202.4375\"/></a><!--MD5=[2156ba9850f5573cc1fc38a6a4b2f02b]\n",
       "class E7--><a href=\"psysml:76b35b38-8c6d-4280-8e5f-8b677c2aa039\" target=\"_top\" title=\"psysml:76b35b38-8c6d-4280-8e5f-8b677c2aa039\" xlink:actuate=\"onRequest\" xlink:href=\"psysml:76b35b38-8c6d-4280-8e5f-8b677c2aa039\" xlink:show=\"new\" xlink:title=\"psysml:76b35b38-8c6d-4280-8e5f-8b677c2aa039\" xlink:type=\"simple\"><rect fill=\"#FFFFFF\" height=\"45.9375\" id=\"E7\" rx=\"10\" ry=\"10\" style=\"stroke: #383838; stroke-width: 1.5;\" width=\"71\" x=\"122.5\" y=\"108.5\"/><text fill=\"#000000\" font-family=\"sans-serif\" font-size=\"12\" font-style=\"italic\" lengthAdjust=\"spacingAndGlyphs\" textLength=\"69\" x=\"123.5\" y=\"124.6387\">«attribute»</text><text fill=\"#000000\" font-family=\"sans-serif\" font-size=\"12\" lengthAdjust=\"spacingAndGlyphs\" textLength=\"50\" x=\"133\" y=\"138.6074\">y :&gt; A::x</text><line style=\"stroke: #383838; stroke-width: 1.5;\" x1=\"123.5\" x2=\"192.5\" y1=\"146.4375\" y2=\"146.4375\"/></a><g id=\"E1.E3.E4\"><a href=\"psysml:1aa2f075-dfbc-4c28-975e-f9b78ce76d6b\" target=\"_top\" title=\"psysml:1aa2f075-dfbc-4c28-975e-f9b78ce76d6b\" xlink:actuate=\"onRequest\" xlink:href=\"psysml:1aa2f075-dfbc-4c28-975e-f9b78ce76d6b\" xlink:show=\"new\" xlink:title=\"psysml:1aa2f075-dfbc-4c28-975e-f9b78ce76d6b\" xlink:type=\"simple\"><rect fill=\"#FFFFFF\" height=\"40\" id=\"E4\" rx=\"10\" ry=\"10\" style=\"stroke: #383838; stroke-width: 1.5;\" width=\"50\" x=\"259\" y=\"167.5\"/><rect fill=\"#F8F8F8\" height=\"23.9688\" rx=\"10\" ry=\"10\" style=\"stroke: #F8F8F8; stroke-width: 1.5;\" width=\"50\" x=\"259\" y=\"167.5\"/><rect fill=\"#F8F8F8\" height=\"10\" style=\"stroke: #F8F8F8; stroke-width: 1.5;\" width=\"50\" x=\"259\" y=\"181.4688\"/><rect fill=\"none\" height=\"40\" id=\"E4\" rx=\"10\" ry=\"10\" style=\"stroke: #383838; stroke-width: 1.5;\" width=\"50\" x=\"259\" y=\"167.5\"/><text fill=\"#000000\" font-family=\"sans-serif\" font-size=\"12\" lengthAdjust=\"spacingAndGlyphs\" textLength=\"24\" x=\"272\" y=\"183.6387\">b: B</text></a></g><text fill=\"#000000\" font-family=\"sans-serif\" font-size=\"14\" lengthAdjust=\"spacingAndGlyphs\" textLength=\"38\" x=\"502\" y=\"166.1982\">x: ~C</text><rect fill=\"#383838\" height=\"12\" style=\"stroke: #F8F8F8; stroke-width: 1.5;\" width=\"12\" x=\"517\" y=\"181.5\"/><g id=\"E1.E8.E9\"><a href=\"psysml:215e87e2-ee75-46c7-98ea-4ce8794cdbad\" target=\"_top\" title=\"psysml:215e87e2-ee75-46c7-98ea-4ce8794cdbad\" xlink:actuate=\"onRequest\" xlink:href=\"psysml:215e87e2-ee75-46c7-98ea-4ce8794cdbad\" xlink:show=\"new\" xlink:title=\"psysml:215e87e2-ee75-46c7-98ea-4ce8794cdbad\" xlink:type=\"simple\"><rect fill=\"#FFFFFF\" height=\"40\" id=\"E9\" rx=\"10\" ry=\"10\" style=\"stroke: #383838; stroke-width: 1.5;\" width=\"50\" x=\"392\" y=\"266.5\"/><rect fill=\"#F8F8F8\" height=\"23.9688\" rx=\"10\" ry=\"10\" style=\"stroke: #F8F8F8; stroke-width: 1.5;\" width=\"50\" x=\"392\" y=\"266.5\"/><rect fill=\"#F8F8F8\" height=\"10\" style=\"stroke: #F8F8F8; stroke-width: 1.5;\" width=\"50\" x=\"392\" y=\"280.4688\"/><rect fill=\"none\" height=\"40\" id=\"E9\" rx=\"10\" ry=\"10\" style=\"stroke: #383838; stroke-width: 1.5;\" width=\"50\" x=\"392\" y=\"266.5\"/><text fill=\"#000000\" font-family=\"sans-serif\" font-size=\"12\" lengthAdjust=\"spacingAndGlyphs\" textLength=\"24\" x=\"405\" y=\"282.6387\">a: A</text></a></g><a href=\"psysml:e555f4d2-547d-4756-8b33-5fda3be7b359\" target=\"_top\" title=\"psysml:e555f4d2-547d-4756-8b33-5fda3be7b359\" xlink:actuate=\"onRequest\" xlink:href=\"psysml:e555f4d2-547d-4756-8b33-5fda3be7b359\" xlink:show=\"new\" xlink:title=\"psysml:e555f4d2-547d-4756-8b33-5fda3be7b359\" xlink:type=\"simple\"><polygon fill=\"#FFFFFF\" points=\"508.5,316.5,523.5,316.5,530.5,338.7969,537.5,338.7969,537.5,369.0938,508.5,369.0938,508.5,316.5\" style=\"stroke: #000000; stroke-width: 1.5;\"/><line style=\"stroke: #000000; stroke-width: 1.5;\" x1=\"508.5\" x2=\"530.5\" y1=\"338.7969\" y2=\"338.7969\"/><text fill=\"#000000\" font-family=\"sans-serif\" font-size=\"14\" font-weight=\"bold\" lengthAdjust=\"spacingAndGlyphs\" textLength=\"9\" x=\"512.5\" y=\"331.4951\">P</text></a><!--MD5=[2720a5a1f2c3fca2055b230370638851]\n",
       "link E2 to E3--><a href=\"psysml:02703352-f69e-4a4b-893d-89c09588fdfd\" target=\"_top\" title=\"psysml:02703352-f69e-4a4b-893d-89c09588fdfd\" xlink:actuate=\"onRequest\" xlink:href=\"psysml:02703352-f69e-4a4b-893d-89c09588fdfd\" xlink:show=\"new\" xlink:title=\"psysml:02703352-f69e-4a4b-893d-89c09588fdfd\" xlink:type=\"simple\"><path d=\"M82.35,81.39 C84.86,82.61 87.43,83.67 90,84.5 C91.6034,85.0153 93.1746,85.4905 94.7155,85.9279 C95.486,86.1467 96.2489,86.356 97.0045,86.5562 C97.1934,86.6063 97.3818,86.6558 97.5698,86.7047 \" fill=\"none\" id=\"E2-&gt;E3\" style=\"stroke: #383838; stroke-width: 1.0;\"/><polygon fill=\"#FFFFFF\" points=\"97.5698,86.7047,77.4193,88.6939,80.9452,75.1452,97.5698,86.7047\" style=\"stroke: #383838; stroke-width: 1.0;\"/><ellipse cx=\"72.4067\" cy=\"85.3228\" fill=\"#383838\" rx=\"2\" ry=\"2\" style=\"stroke: #383838; stroke-width: 1.0;\"/><ellipse cx=\"74.9252\" cy=\"75.6452\" fill=\"#383838\" rx=\"2\" ry=\"2\" style=\"stroke: #383838; stroke-width: 1.0;\"/></a><!--MD5=[353cdda3e1e05fc02373f055b6f604ae]\n",
       "link E4 to E8--><a href=\"psysml:6f8c5931-99ab-4f3d-9640-f9d86b709835\" target=\"_top\" title=\"psysml:6f8c5931-99ab-4f3d-9640-f9d86b709835\" xlink:actuate=\"onRequest\" xlink:href=\"psysml:6f8c5931-99ab-4f3d-9640-f9d86b709835\" xlink:show=\"new\" xlink:title=\"psysml:6f8c5931-99ab-4f3d-9640-f9d86b709835\" xlink:type=\"simple\"><path d=\"M304.49,207.74 C318.86,219.99 339.16,234.92 360,242.5 C362.6188,243.4525 365.1341,244.2668 367.5591,244.9596 \" fill=\"none\" id=\"E4-&gt;E8\" style=\"stroke: #383838; stroke-width: 1.0;\"/><polygon fill=\"#FFFFFF\" points=\"367.5591,244.9596,347.3671,246.471,351.2129,233.0096,367.5591,244.9596\" style=\"stroke: #383838; stroke-width: 1.0;\"/><ellipse cx=\"342.4358\" cy=\"242.9822\" fill=\"#383838\" rx=\"2\" ry=\"2\" style=\"stroke: #383838; stroke-width: 1.0;\"/><ellipse cx=\"345.1828\" cy=\"233.3669\" fill=\"#383838\" rx=\"2\" ry=\"2\" style=\"stroke: #383838; stroke-width: 1.0;\"/></a><!--MD5=[fbb449814971db3a0b8220cf225b9e01]\n",
       "link E7 to E6--><a href=\"psysml:ae54614b-4129-4b1b-b401-8ec489119004\" target=\"_top\" title=\"psysml:ae54614b-4129-4b1b-b401-8ec489119004\" xlink:actuate=\"onRequest\" xlink:href=\"psysml:ae54614b-4129-4b1b-b401-8ec489119004\" xlink:show=\"new\" xlink:title=\"psysml:ae54614b-4129-4b1b-b401-8ec489119004\" xlink:type=\"simple\"><path d=\"M158,154.78 C158,154.87 158,154.97 158,155.07 \" fill=\"none\" id=\"E7-&gt;E6\" style=\"stroke: #383838; stroke-width: 1.0;\"/><polygon fill=\"none\" points=\"165,144.28,158,164.28,151,144.28,165,144.28\" style=\"stroke: #383838; stroke-width: 1.0;\"/></a><!--MD5=[92a97fc68b0cf8efbbf01f4f6b4ceef7]\n",
       "link E9 to E3--><a href=\"psysml:d4047a87-2764-4bb9-9711-6fad77bbdb97\" target=\"_top\" title=\"psysml:d4047a87-2764-4bb9-9711-6fad77bbdb97\" xlink:actuate=\"onRequest\" xlink:href=\"psysml:d4047a87-2764-4bb9-9711-6fad77bbdb97\" xlink:show=\"new\" xlink:title=\"psysml:d4047a87-2764-4bb9-9711-6fad77bbdb97\" xlink:type=\"simple\"><path d=\"M405.86,266.08 C398.19,253.305 386.955,235.61 373.3975,217.2588 C366.6188,208.0831 359.2594,198.7434 351.4747,189.7727 C349.5285,187.53 347.5558,185.3103 345.5589,183.1221 C345.0596,182.575 344.5589,182.0299 344.0567,181.4869 \" fill=\"none\" id=\"E9-&gt;E3\" style=\"stroke: #383838; stroke-width: 1.0;\"/><polygon fill=\"#FFFFFF\" points=\"344.0567,181.4869,362.0965,190.6828,351.8184,200.1887,344.0567,181.4869\" style=\"stroke: #383838; stroke-width: 1.0;\"/><ellipse cx=\"364.4984\" cy=\"196.2255\" fill=\"#383838\" rx=\"2\" ry=\"2\" style=\"stroke: #383838; stroke-width: 1.0;\"/><ellipse cx=\"357.1569\" cy=\"203.0153\" fill=\"#383838\" rx=\"2\" ry=\"2\" style=\"stroke: #383838; stroke-width: 1.0;\"/></a><!--MD5=[8945943cb55400e3ccd91fb109f6f00c]\n",
       "@startuml\r\n",
       "skinparam ranksep 10\r\n",
       "skinparam rectangle {\r\n",
       " backgroundColor<<block>> LightGreen\r\n",
       "}\r\n",
       "top to bottom direction\r\n",
       "skinparam monochrome true\r\n",
       "skinparam classbackgroundcolor white\r\n",
       "skinparam shadowing false\r\n",
       "skinparam wrapWidth 300\r\n",
       "hide circle\r\n",
       "\r\n",
       "package \"PartTest\" as E1  [[psysml:538b1265-15ae-4afd-8dd2-ef0f57b41a53 ]]  {\r\n",
       "rec usage \"f: A\" as E2  [[psysml:2c090466-3d5c-4444-ba17-090921dc2443 ]] {\r\n",
       "}\r\n",
       "rec def \"A\" as E3  <<(T,blue) part  def>> [[psysml:d1b7cfcb-f6eb-4e6c-b82e-69976e6757f6 ]] {\r\n",
       "rec usage \"b: B\" as E4  [[psysml:1aa2f075-dfbc-4c28-975e-f9b78ce76d6b ]] {\r\n",
       "}\r\n",
       "portin \"c: C \" as E5  <<(T,blue) port>> [[psysml:6b6fc427-035b-4f92-af2f-ae5f46ec13e5 ]] \r\n",
       "comp usage \"x \" as E6  <<(T,blue) attribute>> [[psysml:06f02a55-455e-4cd3-969d-a4f55ea12e51 ]] {\r\n",
       "}\r\n",
       "comp usage \"y :> A::x\" as E7  <<(T,blue) attribute>> [[psysml:76b35b38-8c6d-4280-8e5f-8b677c2aa039 ]] {\r\n",
       "}\r\n",
       "}\r\n",
       "rec def \"<i>B</i>\" as E8  <<(T,blue) part  def>> [[psysml:286e6ef4-92d4-4c1b-a17d-09881da7698b ]] {\r\n",
       "rec usage \"a: A\" as E9  [[psysml:215e87e2-ee75-46c7-98ea-4ce8794cdbad ]] {\r\n",
       "}\r\n",
       "portin \"x: ~C \" as E10  <<(T,blue) port>> [[psysml:27d37788-2b75-4a5c-b4fe-9553c2483e93 ]] \r\n",
       "package \"P\" as E11  [[psysml:e555f4d2-547d-4756-8b33-5fda3be7b359 ]]  {\r\n",
       "}\r\n",
       "}\r\n",
       "def \"C\" as E12  <<(T,blue) port  def>> [[psysml:3d6805d2-0d33-47df-af88-6771a9177656 ]] \r\n",
       "}\r\n",
       "E2 - -:|> E3 [[psysml:02703352-f69e-4a4b-893d-89c09588fdfd ]] \r\n",
       "E4 - -:|> E8 [[psysml:6f8c5931-99ab-4f3d-9640-f9d86b709835 ]] \r\n",
       "E7 - -|> E6 [[psysml:ae54614b-4129-4b1b-b401-8ec489119004 ]] \r\n",
       "E9 - -:|> E3 [[psysml:d4047a87-2764-4bb9-9711-6fad77bbdb97 ]] \r\n",
       "@enduml\r\n",
       "\n",
       "PlantUML version 1.2020.13(Sat Jun 13 12:26:38 UTC 2020)\n",
       "(EPL source distribution)\n",
       "Java Runtime: OpenJDK Runtime Environment\n",
       "JVM: OpenJDK 64-Bit Server VM\n",
       "Default Encoding: UTF-8\n",
       "Language: en\n",
       "Country: null\n",
       "--></g></svg>"
      ]
     },
     "execution_count": 47,
     "metadata": {},
     "output_type": "execute_result"
    }
   ],
   "source": [
    "%viz --style=\"TB\" --view=\"Interconnection\" \"PartTest\""
   ]
  },
  {
   "cell_type": "code",
   "execution_count": 48,
   "id": "68d1e9e8",
   "metadata": {
    "execution": {
     "iopub.execute_input": "2022-05-19T08:45:15.089433Z",
     "iopub.status.busy": "2022-05-19T08:45:15.088970Z",
     "iopub.status.idle": "2022-05-19T08:45:15.093804Z",
     "shell.execute_reply": "2022-05-19T08:45:15.094124Z"
    }
   },
   "outputs": [
    {
     "data": {
      "image/svg+xml": [
       "<?xml version=\"1.0\" encoding=\"UTF-8\" standalone=\"no\"?><svg xmlns=\"http://www.w3.org/2000/svg\" xmlns:xlink=\"http://www.w3.org/1999/xlink\" contentScriptType=\"application/ecmascript\" contentStyleType=\"text/css\" height=\"12px\" preserveAspectRatio=\"none\" style=\"width:12px;height:12px;\" version=\"1.1\" viewBox=\"0 0 12 12\" width=\"12px\" zoomAndPan=\"magnify\"><defs/><g><!--MD5=[06afc254b03ac5e9d9fb7773b07d0800]\n",
       "@startuml\r\n",
       "skinparam ranksep 8\r\n",
       "top to bottom direction\r\n",
       "skinparam monochrome true\r\n",
       "skinparam classbackgroundcolor white\r\n",
       "skinparam shadowing false\r\n",
       "skinparam wrapWidth 300\r\n",
       "hide circle\r\n",
       "\r\n",
       "@enduml\r\n",
       "\n",
       "PlantUML version 1.2020.13(Sat Jun 13 12:26:38 UTC 2020)\n",
       "(EPL source distribution)\n",
       "Java Runtime: OpenJDK Runtime Environment\n",
       "JVM: OpenJDK 64-Bit Server VM\n",
       "Default Encoding: UTF-8\n",
       "Language: en\n",
       "Country: null\n",
       "--></g></svg>"
      ]
     },
     "execution_count": 48,
     "metadata": {},
     "output_type": "execute_result"
    }
   ],
   "source": [
    "%viz --style=\"TB\" --view=\"Action\" \"PartTest\""
   ]
  },
  {
   "cell_type": "code",
   "execution_count": 49,
   "id": "449b8fe2",
   "metadata": {
    "execution": {
     "iopub.execute_input": "2022-05-19T08:45:15.144463Z",
     "iopub.status.busy": "2022-05-19T08:45:15.144016Z",
     "iopub.status.idle": "2022-05-19T08:45:15.148988Z",
     "shell.execute_reply": "2022-05-19T08:45:15.149309Z"
    }
   },
   "outputs": [
    {
     "data": {
      "image/svg+xml": [
       "<?xml version=\"1.0\" encoding=\"UTF-8\" standalone=\"no\"?><svg xmlns=\"http://www.w3.org/2000/svg\" xmlns:xlink=\"http://www.w3.org/1999/xlink\" contentScriptType=\"application/ecmascript\" contentStyleType=\"text/css\" height=\"12px\" preserveAspectRatio=\"none\" style=\"width:12px;height:12px;\" version=\"1.1\" viewBox=\"0 0 12 12\" width=\"12px\" zoomAndPan=\"magnify\"><defs/><g><!--MD5=[e1ab0c84c44d2fef8bf5f140f2689906]\n",
       "@startuml\r\n",
       "skinparam roundcorner 20\r\n",
       "skinparam BoxPadding 20\r\n",
       "skinparam SequenceBoxBackgroundColor #white\r\n",
       "skinparam style strictuml\r\n",
       "skinparam maxMessageSize 100\r\n",
       "top to bottom direction\r\n",
       "skinparam monochrome true\r\n",
       "skinparam classbackgroundcolor white\r\n",
       "skinparam shadowing false\r\n",
       "skinparam wrapWidth 300\r\n",
       "hide circle\r\n",
       "\r\n",
       "@enduml\r\n",
       "\n",
       "PlantUML version 1.2020.13(Sat Jun 13 12:26:38 UTC 2020)\n",
       "(EPL source distribution)\n",
       "Java Runtime: OpenJDK Runtime Environment\n",
       "JVM: OpenJDK 64-Bit Server VM\n",
       "Default Encoding: UTF-8\n",
       "Language: en\n",
       "Country: null\n",
       "--></g></svg>"
      ]
     },
     "execution_count": 49,
     "metadata": {},
     "output_type": "execute_result"
    }
   ],
   "source": [
    "%viz --style=\"TB\" --view=\"Sequence\" \"PartTest\""
   ]
  },
  {
   "cell_type": "code",
   "execution_count": 50,
   "id": "3dcf3ebf",
   "metadata": {
    "execution": {
     "iopub.execute_input": "2022-05-19T08:45:15.199199Z",
     "iopub.status.busy": "2022-05-19T08:45:15.198745Z",
     "iopub.status.idle": "2022-05-19T08:45:15.272174Z",
     "shell.execute_reply": "2022-05-19T08:45:15.270568Z"
    }
   },
   "outputs": [
    {
     "data": {
      "image/svg+xml": [
       "<?xml version=\"1.0\" encoding=\"UTF-8\" standalone=\"no\"?><svg xmlns=\"http://www.w3.org/2000/svg\" xmlns:xlink=\"http://www.w3.org/1999/xlink\" contentScriptType=\"application/ecmascript\" contentStyleType=\"text/css\" height=\"790px\" preserveAspectRatio=\"none\" style=\"width:265px;height:790px;\" version=\"1.1\" viewBox=\"0 0 265 790\" width=\"265px\" zoomAndPan=\"magnify\"><defs/><g><!--MD5=[fbc87193dbaf4d95561dea2c320d4a47]\n",
       "cluster E1--><a href=\"psysml:538b1265-15ae-4afd-8dd2-ef0f57b41a53\" target=\"_top\" title=\"psysml:538b1265-15ae-4afd-8dd2-ef0f57b41a53\" xlink:actuate=\"onRequest\" xlink:href=\"psysml:538b1265-15ae-4afd-8dd2-ef0f57b41a53\" xlink:show=\"new\" xlink:title=\"psysml:538b1265-15ae-4afd-8dd2-ef0f57b41a53\" xlink:type=\"simple\"><polygon fill=\"#FFFFFF\" points=\"16,6,80,6,87,28.2969,243,28.2969,243,778,16,778,16,6\" style=\"stroke: #000000; stroke-width: 1.5;\"/><line style=\"stroke: #000000; stroke-width: 1.5;\" x1=\"16\" x2=\"87\" y1=\"28.2969\" y2=\"28.2969\"/><text fill=\"#000000\" font-family=\"sans-serif\" font-size=\"14\" font-weight=\"bold\" lengthAdjust=\"spacingAndGlyphs\" textLength=\"58\" x=\"20\" y=\"20.9951\">PartTest</text></a><!--MD5=[b4997ac47864f28c2f74865a473b2911]\n",
       "class E2--><a href=\"psysml:2c090466-3d5c-4444-ba17-090921dc2443\" target=\"_top\" title=\"psysml:2c090466-3d5c-4444-ba17-090921dc2443\" xlink:actuate=\"onRequest\" xlink:href=\"psysml:2c090466-3d5c-4444-ba17-090921dc2443\" xlink:show=\"new\" xlink:title=\"psysml:2c090466-3d5c-4444-ba17-090921dc2443\" xlink:type=\"simple\"><rect fill=\"#FFFFFF\" height=\"45.9375\" id=\"E2\" rx=\"10\" ry=\"10\" style=\"stroke: #383838; stroke-width: 1.5;\" width=\"42\" x=\"101\" y=\"41\"/><text fill=\"#000000\" font-family=\"sans-serif\" font-size=\"12\" font-style=\"italic\" lengthAdjust=\"spacingAndGlyphs\" textLength=\"40\" x=\"102\" y=\"57.1387\">«part»</text><text fill=\"#000000\" font-family=\"sans-serif\" font-size=\"12\" lengthAdjust=\"spacingAndGlyphs\" textLength=\"20\" x=\"110\" y=\"71.1074\">f: A</text><line style=\"stroke: #383838; stroke-width: 1.5;\" x1=\"102\" x2=\"142\" y1=\"78.9375\" y2=\"78.9375\"/></a><!--MD5=[09b614a08d8cba4a07c9adeb5e0fee81]\n",
       "class E3--><a href=\"psysml:d1b7cfcb-f6eb-4e6c-b82e-69976e6757f6\" target=\"_top\" title=\"psysml:d1b7cfcb-f6eb-4e6c-b82e-69976e6757f6\" xlink:actuate=\"onRequest\" xlink:href=\"psysml:d1b7cfcb-f6eb-4e6c-b82e-69976e6757f6\" xlink:show=\"new\" xlink:title=\"psysml:d1b7cfcb-f6eb-4e6c-b82e-69976e6757f6\" xlink:type=\"simple\"><rect fill=\"#FFFFFF\" height=\"88.3516\" id=\"E3\" style=\"stroke: #383838; stroke-width: 1.5;\" width=\"70\" x=\"87\" y=\"148\"/><text fill=\"#000000\" font-family=\"sans-serif\" font-size=\"12\" font-style=\"italic\" lengthAdjust=\"spacingAndGlyphs\" textLength=\"68\" x=\"88\" y=\"164.1387\">«part  def»</text><text fill=\"#000000\" font-family=\"sans-serif\" font-size=\"12\" lengthAdjust=\"spacingAndGlyphs\" textLength=\"8\" x=\"118\" y=\"178.1074\">A</text><line style=\"stroke: #383838; stroke-width: 1.5;\" x1=\"88\" x2=\"156\" y1=\"185.9375\" y2=\"185.9375\"/><text fill=\"#000000\" font-family=\"sans-serif\" font-size=\"11\" lengthAdjust=\"spacingAndGlyphs\" textLength=\"6\" x=\"93\" y=\"216.9526\">x</text><text fill=\"#000000\" font-family=\"sans-serif\" font-size=\"11\" lengthAdjust=\"spacingAndGlyphs\" textLength=\"44\" x=\"93\" y=\"229.7573\">y:&gt; A::x</text><line style=\"stroke: #383838; stroke-width: 1.0;\" x1=\"88\" x2=\"94.5\" y1=\"200.3398\" y2=\"200.3398\"/><text fill=\"#000000\" font-family=\"sans-serif\" font-size=\"11\" lengthAdjust=\"spacingAndGlyphs\" textLength=\"55\" x=\"94.5\" y=\"203.6479\">attributes</text><line style=\"stroke: #383838; stroke-width: 1.0;\" x1=\"149.5\" x2=\"156\" y1=\"200.3398\" y2=\"200.3398\"/></a><!--MD5=[ebbe1d658d1005bcc118a6aa81145e00]\n",
       "class E4--><a href=\"psysml:1aa2f075-dfbc-4c28-975e-f9b78ce76d6b\" target=\"_top\" title=\"psysml:1aa2f075-dfbc-4c28-975e-f9b78ce76d6b\" xlink:actuate=\"onRequest\" xlink:href=\"psysml:1aa2f075-dfbc-4c28-975e-f9b78ce76d6b\" xlink:show=\"new\" xlink:title=\"psysml:1aa2f075-dfbc-4c28-975e-f9b78ce76d6b\" xlink:type=\"simple\"><rect fill=\"#FFFFFF\" height=\"45.9375\" id=\"E4\" rx=\"10\" ry=\"10\" style=\"stroke: #383838; stroke-width: 1.5;\" width=\"42\" x=\"32\" y=\"373\"/><text fill=\"#000000\" font-family=\"sans-serif\" font-size=\"12\" font-style=\"italic\" lengthAdjust=\"spacingAndGlyphs\" textLength=\"40\" x=\"33\" y=\"389.1387\">«part»</text><text fill=\"#000000\" font-family=\"sans-serif\" font-size=\"12\" lengthAdjust=\"spacingAndGlyphs\" textLength=\"24\" x=\"39\" y=\"403.1074\">b: B</text><line style=\"stroke: #383838; stroke-width: 1.5;\" x1=\"33\" x2=\"73\" y1=\"410.9375\" y2=\"410.9375\"/></a><!--MD5=[270fce915f116d4de14055a7c1d9a0f3]\n",
       "class E5--><a href=\"psysml:6b6fc427-035b-4f92-af2f-ae5f46ec13e5\" target=\"_top\" title=\"psysml:6b6fc427-035b-4f92-af2f-ae5f46ec13e5\" xlink:actuate=\"onRequest\" xlink:href=\"psysml:6b6fc427-035b-4f92-af2f-ae5f46ec13e5\" xlink:show=\"new\" xlink:title=\"psysml:6b6fc427-035b-4f92-af2f-ae5f46ec13e5\" xlink:type=\"simple\"><rect fill=\"#FFFFFF\" height=\"45.9375\" id=\"E5\" rx=\"10\" ry=\"10\" style=\"stroke: #383838; stroke-width: 1.5;\" width=\"42\" x=\"148\" y=\"297\"/><text fill=\"#000000\" font-family=\"sans-serif\" font-size=\"12\" font-style=\"italic\" lengthAdjust=\"spacingAndGlyphs\" textLength=\"40\" x=\"149\" y=\"313.1387\">«port»</text><text fill=\"#000000\" font-family=\"sans-serif\" font-size=\"12\" lengthAdjust=\"spacingAndGlyphs\" textLength=\"23\" x=\"155.5\" y=\"327.1074\">c: C</text><line style=\"stroke: #383838; stroke-width: 1.5;\" x1=\"149\" x2=\"189\" y1=\"334.9375\" y2=\"334.9375\"/></a><!--MD5=[60a26617385b1d2d0262a64233df1f8d]\n",
       "class E6--><a href=\"psysml:286e6ef4-92d4-4c1b-a17d-09881da7698b\" target=\"_top\" title=\"psysml:286e6ef4-92d4-4c1b-a17d-09881da7698b\" xlink:actuate=\"onRequest\" xlink:href=\"psysml:286e6ef4-92d4-4c1b-a17d-09881da7698b\" xlink:show=\"new\" xlink:title=\"psysml:286e6ef4-92d4-4c1b-a17d-09881da7698b\" xlink:type=\"simple\"><rect fill=\"#FFFFFF\" height=\"45.9375\" id=\"E6\" style=\"stroke: #383838; stroke-width: 1.5;\" width=\"70\" x=\"100\" y=\"602\"/><text fill=\"#000000\" font-family=\"sans-serif\" font-size=\"12\" font-style=\"italic\" lengthAdjust=\"spacingAndGlyphs\" textLength=\"68\" x=\"101\" y=\"618.1387\">«part  def»</text><text fill=\"#000000\" font-family=\"sans-serif\" font-size=\"12\" font-style=\"italic\" lengthAdjust=\"spacingAndGlyphs\" textLength=\"8\" x=\"131\" y=\"632.1074\">B</text><line style=\"stroke: #383838; stroke-width: 1.5;\" x1=\"101\" x2=\"169\" y1=\"639.9375\" y2=\"639.9375\"/></a><!--MD5=[2156ba9850f5573cc1fc38a6a4b2f02b]\n",
       "class E7--><a href=\"psysml:215e87e2-ee75-46c7-98ea-4ce8794cdbad\" target=\"_top\" title=\"psysml:215e87e2-ee75-46c7-98ea-4ce8794cdbad\" xlink:actuate=\"onRequest\" xlink:href=\"psysml:215e87e2-ee75-46c7-98ea-4ce8794cdbad\" xlink:show=\"new\" xlink:title=\"psysml:215e87e2-ee75-46c7-98ea-4ce8794cdbad\" xlink:type=\"simple\"><rect fill=\"#FFFFFF\" height=\"45.9375\" id=\"E7\" rx=\"10\" ry=\"10\" style=\"stroke: #383838; stroke-width: 1.5;\" width=\"42\" x=\"185\" y=\"712.5\"/><text fill=\"#000000\" font-family=\"sans-serif\" font-size=\"12\" font-style=\"italic\" lengthAdjust=\"spacingAndGlyphs\" textLength=\"40\" x=\"186\" y=\"728.6387\">«part»</text><text fill=\"#000000\" font-family=\"sans-serif\" font-size=\"12\" font-style=\"italic\" lengthAdjust=\"spacingAndGlyphs\" textLength=\"8\" x=\"192\" y=\"742.6074\">a</text><text fill=\"#000000\" font-family=\"sans-serif\" font-size=\"12\" lengthAdjust=\"spacingAndGlyphs\" textLength=\"16\" x=\"200\" y=\"742.6074\">: A</text><line style=\"stroke: #383838; stroke-width: 1.5;\" x1=\"186\" x2=\"226\" y1=\"750.4375\" y2=\"750.4375\"/></a><!--MD5=[b9389687b975829384b498ac4b7476b2]\n",
       "class E8--><a href=\"psysml:27d37788-2b75-4a5c-b4fe-9553c2483e93\" target=\"_top\" title=\"psysml:27d37788-2b75-4a5c-b4fe-9553c2483e93\" xlink:actuate=\"onRequest\" xlink:href=\"psysml:27d37788-2b75-4a5c-b4fe-9553c2483e93\" xlink:show=\"new\" xlink:title=\"psysml:27d37788-2b75-4a5c-b4fe-9553c2483e93\" xlink:type=\"simple\"><rect fill=\"#FFFFFF\" height=\"45.9375\" id=\"E8\" rx=\"10\" ry=\"10\" style=\"stroke: #383838; stroke-width: 1.5;\" width=\"42\" x=\"43\" y=\"712.5\"/><text fill=\"#000000\" font-family=\"sans-serif\" font-size=\"12\" font-style=\"italic\" lengthAdjust=\"spacingAndGlyphs\" textLength=\"40\" x=\"44\" y=\"728.6387\">«port»</text><text fill=\"#000000\" font-family=\"sans-serif\" font-size=\"12\" lengthAdjust=\"spacingAndGlyphs\" textLength=\"32\" x=\"46\" y=\"742.6074\">x: ~C</text><line style=\"stroke: #383838; stroke-width: 1.5;\" x1=\"44\" x2=\"84\" y1=\"750.4375\" y2=\"750.4375\"/></a><!--MD5=[96f4274e9e20536e775497830990834d]\n",
       "class E10--><a href=\"psysml:3d6805d2-0d33-47df-af88-6771a9177656\" target=\"_top\" title=\"psysml:3d6805d2-0d33-47df-af88-6771a9177656\" xlink:actuate=\"onRequest\" xlink:href=\"psysml:3d6805d2-0d33-47df-af88-6771a9177656\" xlink:show=\"new\" xlink:title=\"psysml:3d6805d2-0d33-47df-af88-6771a9177656\" xlink:type=\"simple\"><rect fill=\"#FFFFFF\" height=\"75.5469\" id=\"E10\" style=\"stroke: #383838; stroke-width: 1.5;\" width=\"110\" x=\"80\" y=\"449\"/><text fill=\"#000000\" font-family=\"sans-serif\" font-size=\"12\" font-style=\"italic\" lengthAdjust=\"spacingAndGlyphs\" textLength=\"68\" x=\"101\" y=\"465.1387\">«port  def»</text><text fill=\"#000000\" font-family=\"sans-serif\" font-size=\"12\" lengthAdjust=\"spacingAndGlyphs\" textLength=\"8\" x=\"131\" y=\"479.1074\">C</text><line style=\"stroke: #383838; stroke-width: 1.5;\" x1=\"81\" x2=\"189\" y1=\"486.9375\" y2=\"486.9375\"/><text fill=\"#000000\" font-family=\"sans-serif\" font-size=\"11\" font-weight=\"bold\" lengthAdjust=\"spacingAndGlyphs\" textLength=\"10\" x=\"86\" y=\"517.9526\">in</text><text fill=\"#000000\" font-family=\"sans-serif\" font-size=\"11\" lengthAdjust=\"spacingAndGlyphs\" textLength=\"37\" x=\"100\" y=\"517.9526\">y: A, B</text><text fill=\"#000000\" font-family=\"sans-serif\" font-size=\"11\" font-weight=\"bold\" lengthAdjust=\"spacingAndGlyphs\" textLength=\"27\" x=\"141\" y=\"517.9526\">alias</text><text fill=\"#000000\" font-family=\"sans-serif\" font-size=\"11\" lengthAdjust=\"spacingAndGlyphs\" textLength=\"12\" x=\"172\" y=\"517.9526\">z2</text><line style=\"stroke: #383838; stroke-width: 1.0;\" x1=\"81\" x2=\"101.5\" y1=\"501.3398\" y2=\"501.3398\"/><text fill=\"#000000\" font-family=\"sans-serif\" font-size=\"11\" lengthAdjust=\"spacingAndGlyphs\" textLength=\"67\" x=\"101.5\" y=\"504.6479\">parameters</text><line style=\"stroke: #383838; stroke-width: 1.0;\" x1=\"168.5\" x2=\"189\" y1=\"501.3398\" y2=\"501.3398\"/></a><a href=\"psysml:e555f4d2-547d-4756-8b33-5fda3be7b359\" target=\"_top\" title=\"psysml:e555f4d2-547d-4756-8b33-5fda3be7b359\" xlink:actuate=\"onRequest\" xlink:href=\"psysml:e555f4d2-547d-4756-8b33-5fda3be7b359\" xlink:show=\"new\" xlink:title=\"psysml:e555f4d2-547d-4756-8b33-5fda3be7b359\" xlink:type=\"simple\"><polygon fill=\"#FFFFFF\" points=\"120.5,709,135.5,709,142.5,731.2969,149.5,731.2969,149.5,761.5938,120.5,761.5938,120.5,709\" style=\"stroke: #000000; stroke-width: 1.5;\"/><line style=\"stroke: #000000; stroke-width: 1.5;\" x1=\"120.5\" x2=\"142.5\" y1=\"731.2969\" y2=\"731.2969\"/><text fill=\"#000000\" font-family=\"sans-serif\" font-size=\"14\" font-weight=\"bold\" lengthAdjust=\"spacingAndGlyphs\" textLength=\"9\" x=\"124.5\" y=\"723.9951\">P</text></a><!--MD5=[2720a5a1f2c3fca2055b230370638851]\n",
       "link E2 to E3--><a href=\"psysml:02703352-f69e-4a4b-893d-89c09588fdfd\" target=\"_top\" title=\"psysml:02703352-f69e-4a4b-893d-89c09588fdfd\" xlink:actuate=\"onRequest\" xlink:href=\"psysml:02703352-f69e-4a4b-893d-89c09588fdfd\" xlink:show=\"new\" xlink:title=\"psysml:02703352-f69e-4a4b-893d-89c09588fdfd\" xlink:type=\"simple\"><path d=\"M122,87.24 C122,98.62 122,113.11 122,127.62 \" fill=\"none\" id=\"E2-&gt;E3\" style=\"stroke: #383838; stroke-width: 1.0;\"/><polygon fill=\"#FFFFFF\" points=\"122,147.84,115,128.84,129,128.84,122,147.84\" style=\"stroke: #383838; stroke-width: 1.0;\"/><ellipse cx=\"117\" cy=\"123.14\" fill=\"#383838\" rx=\"2\" ry=\"2\" style=\"stroke: #383838; stroke-width: 1.0;\"/><ellipse cx=\"127\" cy=\"123.14\" fill=\"#383838\" rx=\"2\" ry=\"2\" style=\"stroke: #383838; stroke-width: 1.0;\"/></a><!--MD5=[4672eba38e49728da53d11aeb285b987]\n",
       "reverse link E3 to E4--><a href=\"psysml:e82a868e-a957-4308-9aca-5f2e1a046a10\" target=\"_top\" title=\"psysml:e82a868e-a957-4308-9aca-5f2e1a046a10\" xlink:actuate=\"onRequest\" xlink:href=\"psysml:e82a868e-a957-4308-9aca-5f2e1a046a10\" xlink:show=\"new\" xlink:title=\"psysml:e82a868e-a957-4308-9aca-5f2e1a046a10\" xlink:type=\"simple\"><path d=\"M83.84,247.58 C74.86,262.92 66.35,280.06 61,297 C53.08,322.07 51.8,352.44 52.03,372.66 \" fill=\"none\" id=\"E3&lt;-E4\" style=\"stroke: #383838; stroke-width: 1.0;\"/><polygon fill=\"#383838\" points=\"90.76,236.23,84.2205,239.269,84.5106,246.4743,91.0501,243.4353,90.76,236.23\" style=\"stroke: #383838; stroke-width: 1.0;\"/><text fill=\"#000000\" font-family=\"sans-serif\" font-size=\"13\" lengthAdjust=\"spacingAndGlyphs\" textLength=\"8\" x=\"42.7564\" y=\"361.8492\">1</text></a><!--MD5=[191cde3d490a3f6d7bb551fe3ddca469]\n",
       "reverse link E3 to E5--><a href=\"psysml:01f43deb-5863-4903-863e-c9a23e0a1180\" target=\"_top\" title=\"psysml:01f43deb-5863-4903-863e-c9a23e0a1180\" xlink:actuate=\"onRequest\" xlink:href=\"psysml:01f43deb-5863-4903-863e-c9a23e0a1180\" xlink:show=\"new\" xlink:title=\"psysml:01f43deb-5863-4903-863e-c9a23e0a1180\" xlink:type=\"simple\"><path d=\"M142.61,248.24 C148.98,265.32 155.64,283.18 160.68,296.68 \" fill=\"none\" id=\"E3&lt;-E5\" style=\"stroke: #383838; stroke-width: 1.0;\"/><polygon fill=\"#FFFFFF\" points=\"138.04,236.01,136.3879,243.0293,142.2318,247.2541,143.8839,240.2348,138.04,236.01\" style=\"stroke: #383838; stroke-width: 1.0;\"/><text fill=\"#000000\" font-family=\"sans-serif\" font-size=\"13\" lengthAdjust=\"spacingAndGlyphs\" textLength=\"8\" x=\"149.523\" y=\"285.8743\">1</text></a><!--MD5=[79568f1e445c3877b6a54524624ccc7d]\n",
       "link E4 to E6--><a href=\"psysml:6f8c5931-99ab-4f3d-9640-f9d86b709835\" target=\"_top\" title=\"psysml:6f8c5931-99ab-4f3d-9640-f9d86b709835\" xlink:actuate=\"onRequest\" xlink:href=\"psysml:6f8c5931-99ab-4f3d-9640-f9d86b709835\" xlink:show=\"new\" xlink:title=\"psysml:6f8c5931-99ab-4f3d-9640-f9d86b709835\" xlink:type=\"simple\"><path d=\"M51.16,419.06 C49.78,445.2 49.96,489.66 63,525 C71.25,547.36 86.09,569.13 100.16,586.54 \" fill=\"none\" id=\"E4-&gt;E6\" style=\"stroke: #383838; stroke-width: 1.0;\"/><polygon fill=\"#FFFFFF\" points=\"113.18,601.76,95.5109,591.8705,106.1504,582.7709,113.18,601.76\" style=\"stroke: #383838; stroke-width: 1.0;\"/><ellipse cx=\"93.326\" cy=\"586.2388\" fill=\"#383838\" rx=\"2\" ry=\"2\" style=\"stroke: #383838; stroke-width: 1.0;\"/><ellipse cx=\"100.9256\" cy=\"579.7391\" fill=\"#383838\" rx=\"2\" ry=\"2\" style=\"stroke: #383838; stroke-width: 1.0;\"/></a><!--MD5=[3f50a3473f1dfb74d3f76443e03635af]\n",
       "reverse link E6 to E7--><a href=\"psysml:ef71999d-b74e-4e5c-b2f7-aebb94a9d32a\" target=\"_top\" title=\"psysml:ef71999d-b74e-4e5c-b2f7-aebb94a9d32a\" xlink:actuate=\"onRequest\" xlink:href=\"psysml:ef71999d-b74e-4e5c-b2f7-aebb94a9d32a\" xlink:show=\"new\" xlink:title=\"psysml:ef71999d-b74e-4e5c-b2f7-aebb94a9d32a\" xlink:type=\"simple\"><path d=\"M156.91,659.48 C168.15,676.66 181.53,697.11 191.48,712.31 \" fill=\"none\" id=\"E6&lt;-E7\" style=\"stroke: #383838; stroke-width: 1.0;\"/><polygon fill=\"#383838\" points=\"149.54,648.22,149.4851,655.4309,156.1201,658.255,156.1751,651.0441,149.54,648.22\" style=\"stroke: #383838; stroke-width: 1.0;\"/><text fill=\"#000000\" font-family=\"sans-serif\" font-size=\"13\" lengthAdjust=\"spacingAndGlyphs\" textLength=\"8\" x=\"178.7342\" y=\"701.5376\">1</text></a><!--MD5=[14ccda38c055a5c0da953d572bc50960]\n",
       "link E7 to E3--><a href=\"psysml:d4047a87-2764-4bb9-9711-6fad77bbdb97\" target=\"_top\" title=\"psysml:d4047a87-2764-4bb9-9711-6fad77bbdb97\" xlink:actuate=\"onRequest\" xlink:href=\"psysml:d4047a87-2764-4bb9-9711-6fad77bbdb97\" xlink:show=\"new\" xlink:title=\"psysml:d4047a87-2764-4bb9-9711-6fad77bbdb97\" xlink:type=\"simple\"><path d=\"M212.55,712.28 C218.38,690.5 226,656.26 226,626 C226,319 226,319 226,319 C226,282.18 199.26,250.31 172.91,227.83 \" fill=\"none\" id=\"E7-&gt;E3\" style=\"stroke: #383838; stroke-width: 1.0;\"/><polygon fill=\"#FFFFFF\" points=\"157.21,215.4,176.4527,221.7023,167.7644,232.6802,157.21,215.4\" style=\"stroke: #383838; stroke-width: 1.0;\"/><ellipse cx=\"179.681\" cy=\"226.808\" fill=\"#383838\" rx=\"2\" ry=\"2\" style=\"stroke: #383838; stroke-width: 1.0;\"/><ellipse cx=\"173.4751\" cy=\"234.6493\" fill=\"#383838\" rx=\"2\" ry=\"2\" style=\"stroke: #383838; stroke-width: 1.0;\"/></a><!--MD5=[f4cf0736d43fd73c4ef68817c49d37d5]\n",
       "reverse link E6 to E8--><a href=\"psysml:e9c4c173-85e4-4370-85e4-1c8f2eb4171b\" target=\"_top\" title=\"psysml:e9c4c173-85e4-4370-85e4-1c8f2eb4171b\" xlink:actuate=\"onRequest\" xlink:href=\"psysml:e9c4c173-85e4-4370-85e4-1c8f2eb4171b\" xlink:show=\"new\" xlink:title=\"psysml:e9c4c173-85e4-4370-85e4-1c8f2eb4171b\" xlink:type=\"simple\"><path d=\"M113.09,659.48 C101.85,676.66 88.47,697.11 78.52,712.31 \" fill=\"none\" id=\"E6&lt;-E8\" style=\"stroke: #383838; stroke-width: 1.0;\"/><polygon fill=\"#FFFFFF\" points=\"120.46,648.22,113.8249,651.0441,113.8799,658.255,120.5149,655.4309,120.46,648.22\" style=\"stroke: #383838; stroke-width: 1.0;\"/><text fill=\"#000000\" font-family=\"sans-serif\" font-size=\"13\" lengthAdjust=\"spacingAndGlyphs\" textLength=\"8\" x=\"73.2158\" y=\"701.5376\">1</text></a><!--MD5=[e88d06e5a652d73a6b19930eefe025a8]\n",
       "reverse link E6 to E9--><a href=\"psysml:ab2aae6d-159f-4d7a-a99e-78671a533366\" target=\"_top\" title=\"psysml:ab2aae6d-159f-4d7a-a99e-78671a533366\" xlink:actuate=\"onRequest\" xlink:href=\"psysml:ab2aae6d-159f-4d7a-a99e-78671a533366\" xlink:show=\"new\" xlink:title=\"psysml:ab2aae6d-159f-4d7a-a99e-78671a533366\" xlink:type=\"simple\"><path d=\"M135,663.49 C135,678.47 135,695.34 135,708.88 \" fill=\"none\" id=\"E6&lt;-E9\" style=\"stroke: #383838; stroke-width: 1.0;\"/><ellipse cx=\"135\" cy=\"656.22\" fill=\"#FFFFFF\" rx=\"8\" ry=\"8\" style=\"stroke: #383838; stroke-width: 1.0;\"/><line style=\"stroke: #383838; stroke-width: 1.0;\" x1=\"135\" x2=\"135\" y1=\"664.22\" y2=\"648.22\"/><line style=\"stroke: #383838; stroke-width: 1.0;\" x1=\"127\" x2=\"143\" y1=\"656.22\" y2=\"656.22\"/></a><!--MD5=[f78a29d5932556fa1060671a2a6507d8]\n",
       "link E5 to E10--><a href=\"psysml:09169cbe-938d-4307-a584-0b24a5ad62ce\" target=\"_top\" title=\"psysml:09169cbe-938d-4307-a584-0b24a5ad62ce\" xlink:actuate=\"onRequest\" xlink:href=\"psysml:09169cbe-938d-4307-a584-0b24a5ad62ce\" xlink:show=\"new\" xlink:title=\"psysml:09169cbe-938d-4307-a584-0b24a5ad62ce\" xlink:type=\"simple\"><path d=\"M164.41,343.25 C159.9,365.16 152.82,399.53 146.73,429.05 \" fill=\"none\" id=\"E5-&gt;E10\" style=\"stroke: #383838; stroke-width: 1.0;\"/><polygon fill=\"#FFFFFF\" points=\"142.63,448.98,139.6015,428.9593,153.3144,431.7799,142.63,448.98\" style=\"stroke: #383838; stroke-width: 1.0;\"/><ellipse cx=\"142.7089\" cy=\"423.7791\" fill=\"#383838\" rx=\"2\" ry=\"2\" style=\"stroke: #383838; stroke-width: 1.0;\"/><ellipse cx=\"152.5038\" cy=\"425.7938\" fill=\"#383838\" rx=\"2\" ry=\"2\" style=\"stroke: #383838; stroke-width: 1.0;\"/></a><!--MD5=[8e04057e7b3cbc0dca4fc78ea351e2da]\n",
       "reverse link E10 to E3--><a href=\"psysml:75696b56-911c-4e7f-a413-6399c7af4d3a\" target=\"_top\" title=\"psysml:75696b56-911c-4e7f-a413-6399c7af4d3a\" xlink:actuate=\"onRequest\" xlink:href=\"psysml:75696b56-911c-4e7f-a413-6399c7af4d3a\" xlink:show=\"new\" xlink:title=\"psysml:75696b56-911c-4e7f-a413-6399c7af4d3a\" xlink:type=\"simple\"><path d=\"M129.29,435.52 C126.48,408.18 123.4,373.78 122,343 C120.37,306.97 120.5,266.02 120.97,236.02 \" fill=\"none\" id=\"E10&lt;-E3\" style=\"stroke: #383838; stroke-width: 1.0;\"/><polygon fill=\"#FFFFFF\" points=\"130.68,448.73,134.0248,442.3415,129.4142,436.7969,126.0694,443.1854,130.68,448.73\" style=\"stroke: #383838; stroke-width: 1.0;\"/><text fill=\"#000000\" font-family=\"sans-serif\" font-size=\"13\" lengthAdjust=\"spacingAndGlyphs\" textLength=\"7\" x=\"123\" y=\"324.5669\">y</text></a><!--MD5=[604cbf994c02b74b117f728a71673cea]\n",
       "reverse link E10 to E6--><a href=\"psysml:75696b56-911c-4e7f-a413-6399c7af4d3a\" target=\"_top\" title=\"psysml:75696b56-911c-4e7f-a413-6399c7af4d3a\" xlink:actuate=\"onRequest\" xlink:href=\"psysml:75696b56-911c-4e7f-a413-6399c7af4d3a\" xlink:show=\"new\" xlink:title=\"psysml:75696b56-911c-4e7f-a413-6399c7af4d3a\" xlink:type=\"simple\"><path d=\"M135,538.33 C135,560.16 135,584.6 135,601.77 \" fill=\"none\" id=\"E10&lt;-E6\" style=\"stroke: #383838; stroke-width: 1.0;\"/><polygon fill=\"#FFFFFF\" points=\"135,525.16,131,531.16,135,537.16,139,531.16,135,525.16\" style=\"stroke: #383838; stroke-width: 1.0;\"/><text fill=\"#000000\" font-family=\"sans-serif\" font-size=\"13\" lengthAdjust=\"spacingAndGlyphs\" textLength=\"7\" x=\"136\" y=\"568.0669\">y</text></a><!--MD5=[2e82103d626bbd66db294063a37093f7]\n",
       "@startuml\r\n",
       "top to bottom direction\r\n",
       "skinparam monochrome true\r\n",
       "skinparam classbackgroundcolor white\r\n",
       "skinparam shadowing false\r\n",
       "skinparam wrapWidth 300\r\n",
       "hide circle\r\n",
       "\r\n",
       "package \"PartTest\" as E1  [[psysml:538b1265-15ae-4afd-8dd2-ef0f57b41a53 ]]  {\r\n",
       "comp usage \"f: A \" as E2  <<(T,blue) part>> [[psysml:2c090466-3d5c-4444-ba17-090921dc2443 ]] {\r\n",
       "}\r\n",
       "comp def \"A\" as E3  <<(T,blue) part  def>> [[psysml:d1b7cfcb-f6eb-4e6c-b82e-69976e6757f6 ]] {\r\n",
       "- - attributes - -\r\n",
       "x\r\n",
       "y:> A::x\r\n",
       "}\r\n",
       "comp usage \"b: B \" as E4  <<(T,blue) part>> [[psysml:1aa2f075-dfbc-4c28-975e-f9b78ce76d6b ]] {\r\n",
       "}\r\n",
       "comp usage \"c: C \" as E5  <<(T,blue) port>> [[psysml:6b6fc427-035b-4f92-af2f-ae5f46ec13e5 ]] {\r\n",
       "}\r\n",
       "comp def \"<i>B</i>\" as E6  <<(T,blue) part  def>> [[psysml:286e6ef4-92d4-4c1b-a17d-09881da7698b ]] {\r\n",
       "}\r\n",
       "comp usage \"<i>a</i>: A \" as E7  <<(T,blue) part>> [[psysml:215e87e2-ee75-46c7-98ea-4ce8794cdbad ]] {\r\n",
       "}\r\n",
       "comp usage \"x: ~C \" as E8  <<(T,blue) port>> [[psysml:27d37788-2b75-4a5c-b4fe-9553c2483e93 ]] {\r\n",
       "}\r\n",
       "package \"P\" as E9  [[psysml:e555f4d2-547d-4756-8b33-5fda3be7b359 ]]  {\r\n",
       "}\r\n",
       "comp def \"C\" as E10  <<(T,blue) port  def>> [[psysml:3d6805d2-0d33-47df-af88-6771a9177656 ]] {\r\n",
       "- - parameters - -\r\n",
       "<b>in</b> y: A, B <b>alias</b> z2 \r\n",
       "}\r\n",
       "}\r\n",
       "E2 - -:|> E3 [[psysml:02703352-f69e-4a4b-893d-89c09588fdfd ]] \r\n",
       "E3 *- - \"1\"E4 [[psysml:e82a868e-a957-4308-9aca-5f2e1a046a10 ]] \r\n",
       "E3 o- - \"1\"E5 [[psysml:01f43deb-5863-4903-863e-c9a23e0a1180 ]] \r\n",
       "E4 - -:|> E6 [[psysml:6f8c5931-99ab-4f3d-9640-f9d86b709835 ]] \r\n",
       "E6 *- - \"1\"E7 [[psysml:ef71999d-b74e-4e5c-b2f7-aebb94a9d32a ]] \r\n",
       "E7 - -:|> E3 [[psysml:d4047a87-2764-4bb9-9711-6fad77bbdb97 ]] \r\n",
       "E6 o- - \"1\"E8 [[psysml:e9c4c173-85e4-4370-85e4-1c8f2eb4171b ]] \r\n",
       "E6 +- - E9 [[psysml:ab2aae6d-159f-4d7a-a99e-78671a533366 ]] \r\n",
       "E5 - -:|> E10 [[psysml:09169cbe-938d-4307-a584-0b24a5ad62ce ]] \r\n",
       "E10 o- - E3 [[psysml:75696b56-911c-4e7f-a413-6399c7af4d3a ]] : y\r\n",
       "E10 o- - E6 [[psysml:75696b56-911c-4e7f-a413-6399c7af4d3a ]] : y\r\n",
       "@enduml\r\n",
       "\n",
       "PlantUML version 1.2020.13(Sat Jun 13 12:26:38 UTC 2020)\n",
       "(EPL source distribution)\n",
       "Java Runtime: OpenJDK Runtime Environment\n",
       "JVM: OpenJDK 64-Bit Server VM\n",
       "Default Encoding: UTF-8\n",
       "Language: en\n",
       "Country: null\n",
       "--></g></svg>"
      ]
     },
     "execution_count": 50,
     "metadata": {},
     "output_type": "execute_result"
    }
   ],
   "source": [
    "%viz --style=\"TB\" --view=\"MIXED\" \"PartTest\""
   ]
  },
  {
   "cell_type": "code",
   "execution_count": 51,
   "id": "b16595d3",
   "metadata": {
    "execution": {
     "iopub.execute_input": "2022-05-19T08:45:15.321583Z",
     "iopub.status.busy": "2022-05-19T08:45:15.321120Z",
     "iopub.status.idle": "2022-05-19T08:45:15.381979Z",
     "shell.execute_reply": "2022-05-19T08:45:15.380101Z"
    }
   },
   "outputs": [
    {
     "data": {
      "image/svg+xml": [
       "<?xml version=\"1.0\" encoding=\"UTF-8\" standalone=\"no\"?><svg xmlns=\"http://www.w3.org/2000/svg\" xmlns:xlink=\"http://www.w3.org/1999/xlink\" contentScriptType=\"application/ecmascript\" contentStyleType=\"text/css\" height=\"790px\" preserveAspectRatio=\"none\" style=\"width:265px;height:790px;\" version=\"1.1\" viewBox=\"0 0 265 790\" width=\"265px\" zoomAndPan=\"magnify\"><defs/><g><!--MD5=[fbc87193dbaf4d95561dea2c320d4a47]\n",
       "cluster E1--><a href=\"psysml:538b1265-15ae-4afd-8dd2-ef0f57b41a53\" target=\"_top\" title=\"psysml:538b1265-15ae-4afd-8dd2-ef0f57b41a53\" xlink:actuate=\"onRequest\" xlink:href=\"psysml:538b1265-15ae-4afd-8dd2-ef0f57b41a53\" xlink:show=\"new\" xlink:title=\"psysml:538b1265-15ae-4afd-8dd2-ef0f57b41a53\" xlink:type=\"simple\"><polygon fill=\"#FFFFFF\" points=\"16,6,80,6,87,28.2969,243,28.2969,243,778,16,778,16,6\" style=\"stroke: #000000; stroke-width: 1.5;\"/><line style=\"stroke: #000000; stroke-width: 1.5;\" x1=\"16\" x2=\"87\" y1=\"28.2969\" y2=\"28.2969\"/><text fill=\"#000000\" font-family=\"sans-serif\" font-size=\"14\" font-weight=\"bold\" lengthAdjust=\"spacingAndGlyphs\" textLength=\"58\" x=\"20\" y=\"20.9951\">PartTest</text></a><!--MD5=[b4997ac47864f28c2f74865a473b2911]\n",
       "class E2--><a href=\"psysml:2c090466-3d5c-4444-ba17-090921dc2443\" target=\"_top\" title=\"psysml:2c090466-3d5c-4444-ba17-090921dc2443\" xlink:actuate=\"onRequest\" xlink:href=\"psysml:2c090466-3d5c-4444-ba17-090921dc2443\" xlink:show=\"new\" xlink:title=\"psysml:2c090466-3d5c-4444-ba17-090921dc2443\" xlink:type=\"simple\"><rect fill=\"#FFFFFF\" height=\"45.9375\" id=\"E2\" rx=\"10\" ry=\"10\" style=\"stroke: #383838; stroke-width: 1.5;\" width=\"42\" x=\"101\" y=\"41\"/><text fill=\"#000000\" font-family=\"sans-serif\" font-size=\"12\" font-style=\"italic\" lengthAdjust=\"spacingAndGlyphs\" textLength=\"40\" x=\"102\" y=\"57.1387\">«part»</text><text fill=\"#000000\" font-family=\"sans-serif\" font-size=\"12\" lengthAdjust=\"spacingAndGlyphs\" textLength=\"20\" x=\"110\" y=\"71.1074\">f: A</text><line style=\"stroke: #383838; stroke-width: 1.5;\" x1=\"102\" x2=\"142\" y1=\"78.9375\" y2=\"78.9375\"/></a><!--MD5=[09b614a08d8cba4a07c9adeb5e0fee81]\n",
       "class E3--><a href=\"psysml:d1b7cfcb-f6eb-4e6c-b82e-69976e6757f6\" target=\"_top\" title=\"psysml:d1b7cfcb-f6eb-4e6c-b82e-69976e6757f6\" xlink:actuate=\"onRequest\" xlink:href=\"psysml:d1b7cfcb-f6eb-4e6c-b82e-69976e6757f6\" xlink:show=\"new\" xlink:title=\"psysml:d1b7cfcb-f6eb-4e6c-b82e-69976e6757f6\" xlink:type=\"simple\"><rect fill=\"#FFFFFF\" height=\"88.3516\" id=\"E3\" style=\"stroke: #383838; stroke-width: 1.5;\" width=\"70\" x=\"87\" y=\"148\"/><text fill=\"#000000\" font-family=\"sans-serif\" font-size=\"12\" font-style=\"italic\" lengthAdjust=\"spacingAndGlyphs\" textLength=\"68\" x=\"88\" y=\"164.1387\">«part  def»</text><text fill=\"#000000\" font-family=\"sans-serif\" font-size=\"12\" lengthAdjust=\"spacingAndGlyphs\" textLength=\"8\" x=\"118\" y=\"178.1074\">A</text><line style=\"stroke: #383838; stroke-width: 1.5;\" x1=\"88\" x2=\"156\" y1=\"185.9375\" y2=\"185.9375\"/><text fill=\"#000000\" font-family=\"sans-serif\" font-size=\"11\" lengthAdjust=\"spacingAndGlyphs\" textLength=\"6\" x=\"93\" y=\"216.9526\">x</text><text fill=\"#000000\" font-family=\"sans-serif\" font-size=\"11\" lengthAdjust=\"spacingAndGlyphs\" textLength=\"44\" x=\"93\" y=\"229.7573\">y:&gt; A::x</text><line style=\"stroke: #383838; stroke-width: 1.0;\" x1=\"88\" x2=\"94.5\" y1=\"200.3398\" y2=\"200.3398\"/><text fill=\"#000000\" font-family=\"sans-serif\" font-size=\"11\" lengthAdjust=\"spacingAndGlyphs\" textLength=\"55\" x=\"94.5\" y=\"203.6479\">attributes</text><line style=\"stroke: #383838; stroke-width: 1.0;\" x1=\"149.5\" x2=\"156\" y1=\"200.3398\" y2=\"200.3398\"/></a><!--MD5=[ebbe1d658d1005bcc118a6aa81145e00]\n",
       "class E4--><a href=\"psysml:1aa2f075-dfbc-4c28-975e-f9b78ce76d6b\" target=\"_top\" title=\"psysml:1aa2f075-dfbc-4c28-975e-f9b78ce76d6b\" xlink:actuate=\"onRequest\" xlink:href=\"psysml:1aa2f075-dfbc-4c28-975e-f9b78ce76d6b\" xlink:show=\"new\" xlink:title=\"psysml:1aa2f075-dfbc-4c28-975e-f9b78ce76d6b\" xlink:type=\"simple\"><rect fill=\"#FFFFFF\" height=\"45.9375\" id=\"E4\" rx=\"10\" ry=\"10\" style=\"stroke: #383838; stroke-width: 1.5;\" width=\"42\" x=\"32\" y=\"373\"/><text fill=\"#000000\" font-family=\"sans-serif\" font-size=\"12\" font-style=\"italic\" lengthAdjust=\"spacingAndGlyphs\" textLength=\"40\" x=\"33\" y=\"389.1387\">«part»</text><text fill=\"#000000\" font-family=\"sans-serif\" font-size=\"12\" lengthAdjust=\"spacingAndGlyphs\" textLength=\"24\" x=\"39\" y=\"403.1074\">b: B</text><line style=\"stroke: #383838; stroke-width: 1.5;\" x1=\"33\" x2=\"73\" y1=\"410.9375\" y2=\"410.9375\"/></a><!--MD5=[270fce915f116d4de14055a7c1d9a0f3]\n",
       "class E5--><a href=\"psysml:6b6fc427-035b-4f92-af2f-ae5f46ec13e5\" target=\"_top\" title=\"psysml:6b6fc427-035b-4f92-af2f-ae5f46ec13e5\" xlink:actuate=\"onRequest\" xlink:href=\"psysml:6b6fc427-035b-4f92-af2f-ae5f46ec13e5\" xlink:show=\"new\" xlink:title=\"psysml:6b6fc427-035b-4f92-af2f-ae5f46ec13e5\" xlink:type=\"simple\"><rect fill=\"#FFFFFF\" height=\"45.9375\" id=\"E5\" rx=\"10\" ry=\"10\" style=\"stroke: #383838; stroke-width: 1.5;\" width=\"42\" x=\"148\" y=\"297\"/><text fill=\"#000000\" font-family=\"sans-serif\" font-size=\"12\" font-style=\"italic\" lengthAdjust=\"spacingAndGlyphs\" textLength=\"40\" x=\"149\" y=\"313.1387\">«port»</text><text fill=\"#000000\" font-family=\"sans-serif\" font-size=\"12\" lengthAdjust=\"spacingAndGlyphs\" textLength=\"23\" x=\"155.5\" y=\"327.1074\">c: C</text><line style=\"stroke: #383838; stroke-width: 1.5;\" x1=\"149\" x2=\"189\" y1=\"334.9375\" y2=\"334.9375\"/></a><!--MD5=[60a26617385b1d2d0262a64233df1f8d]\n",
       "class E6--><a href=\"psysml:286e6ef4-92d4-4c1b-a17d-09881da7698b\" target=\"_top\" title=\"psysml:286e6ef4-92d4-4c1b-a17d-09881da7698b\" xlink:actuate=\"onRequest\" xlink:href=\"psysml:286e6ef4-92d4-4c1b-a17d-09881da7698b\" xlink:show=\"new\" xlink:title=\"psysml:286e6ef4-92d4-4c1b-a17d-09881da7698b\" xlink:type=\"simple\"><rect fill=\"#FFFFFF\" height=\"45.9375\" id=\"E6\" style=\"stroke: #383838; stroke-width: 1.5;\" width=\"70\" x=\"100\" y=\"602\"/><text fill=\"#000000\" font-family=\"sans-serif\" font-size=\"12\" font-style=\"italic\" lengthAdjust=\"spacingAndGlyphs\" textLength=\"68\" x=\"101\" y=\"618.1387\">«part  def»</text><text fill=\"#000000\" font-family=\"sans-serif\" font-size=\"12\" font-style=\"italic\" lengthAdjust=\"spacingAndGlyphs\" textLength=\"8\" x=\"131\" y=\"632.1074\">B</text><line style=\"stroke: #383838; stroke-width: 1.5;\" x1=\"101\" x2=\"169\" y1=\"639.9375\" y2=\"639.9375\"/></a><!--MD5=[2156ba9850f5573cc1fc38a6a4b2f02b]\n",
       "class E7--><a href=\"psysml:215e87e2-ee75-46c7-98ea-4ce8794cdbad\" target=\"_top\" title=\"psysml:215e87e2-ee75-46c7-98ea-4ce8794cdbad\" xlink:actuate=\"onRequest\" xlink:href=\"psysml:215e87e2-ee75-46c7-98ea-4ce8794cdbad\" xlink:show=\"new\" xlink:title=\"psysml:215e87e2-ee75-46c7-98ea-4ce8794cdbad\" xlink:type=\"simple\"><rect fill=\"#FFFFFF\" height=\"45.9375\" id=\"E7\" rx=\"10\" ry=\"10\" style=\"stroke: #383838; stroke-width: 1.5;\" width=\"42\" x=\"185\" y=\"712.5\"/><text fill=\"#000000\" font-family=\"sans-serif\" font-size=\"12\" font-style=\"italic\" lengthAdjust=\"spacingAndGlyphs\" textLength=\"40\" x=\"186\" y=\"728.6387\">«part»</text><text fill=\"#000000\" font-family=\"sans-serif\" font-size=\"12\" font-style=\"italic\" lengthAdjust=\"spacingAndGlyphs\" textLength=\"8\" x=\"192\" y=\"742.6074\">a</text><text fill=\"#000000\" font-family=\"sans-serif\" font-size=\"12\" lengthAdjust=\"spacingAndGlyphs\" textLength=\"16\" x=\"200\" y=\"742.6074\">: A</text><line style=\"stroke: #383838; stroke-width: 1.5;\" x1=\"186\" x2=\"226\" y1=\"750.4375\" y2=\"750.4375\"/></a><!--MD5=[b9389687b975829384b498ac4b7476b2]\n",
       "class E8--><a href=\"psysml:27d37788-2b75-4a5c-b4fe-9553c2483e93\" target=\"_top\" title=\"psysml:27d37788-2b75-4a5c-b4fe-9553c2483e93\" xlink:actuate=\"onRequest\" xlink:href=\"psysml:27d37788-2b75-4a5c-b4fe-9553c2483e93\" xlink:show=\"new\" xlink:title=\"psysml:27d37788-2b75-4a5c-b4fe-9553c2483e93\" xlink:type=\"simple\"><rect fill=\"#FFFFFF\" height=\"45.9375\" id=\"E8\" rx=\"10\" ry=\"10\" style=\"stroke: #383838; stroke-width: 1.5;\" width=\"42\" x=\"43\" y=\"712.5\"/><text fill=\"#000000\" font-family=\"sans-serif\" font-size=\"12\" font-style=\"italic\" lengthAdjust=\"spacingAndGlyphs\" textLength=\"40\" x=\"44\" y=\"728.6387\">«port»</text><text fill=\"#000000\" font-family=\"sans-serif\" font-size=\"12\" lengthAdjust=\"spacingAndGlyphs\" textLength=\"32\" x=\"46\" y=\"742.6074\">x: ~C</text><line style=\"stroke: #383838; stroke-width: 1.5;\" x1=\"44\" x2=\"84\" y1=\"750.4375\" y2=\"750.4375\"/></a><!--MD5=[96f4274e9e20536e775497830990834d]\n",
       "class E10--><a href=\"psysml:3d6805d2-0d33-47df-af88-6771a9177656\" target=\"_top\" title=\"psysml:3d6805d2-0d33-47df-af88-6771a9177656\" xlink:actuate=\"onRequest\" xlink:href=\"psysml:3d6805d2-0d33-47df-af88-6771a9177656\" xlink:show=\"new\" xlink:title=\"psysml:3d6805d2-0d33-47df-af88-6771a9177656\" xlink:type=\"simple\"><rect fill=\"#FFFFFF\" height=\"75.5469\" id=\"E10\" style=\"stroke: #383838; stroke-width: 1.5;\" width=\"110\" x=\"80\" y=\"449\"/><text fill=\"#000000\" font-family=\"sans-serif\" font-size=\"12\" font-style=\"italic\" lengthAdjust=\"spacingAndGlyphs\" textLength=\"68\" x=\"101\" y=\"465.1387\">«port  def»</text><text fill=\"#000000\" font-family=\"sans-serif\" font-size=\"12\" lengthAdjust=\"spacingAndGlyphs\" textLength=\"8\" x=\"131\" y=\"479.1074\">C</text><line style=\"stroke: #383838; stroke-width: 1.5;\" x1=\"81\" x2=\"189\" y1=\"486.9375\" y2=\"486.9375\"/><text fill=\"#000000\" font-family=\"sans-serif\" font-size=\"11\" font-weight=\"bold\" lengthAdjust=\"spacingAndGlyphs\" textLength=\"10\" x=\"86\" y=\"517.9526\">in</text><text fill=\"#000000\" font-family=\"sans-serif\" font-size=\"11\" lengthAdjust=\"spacingAndGlyphs\" textLength=\"37\" x=\"100\" y=\"517.9526\">y: A, B</text><text fill=\"#000000\" font-family=\"sans-serif\" font-size=\"11\" font-weight=\"bold\" lengthAdjust=\"spacingAndGlyphs\" textLength=\"27\" x=\"141\" y=\"517.9526\">alias</text><text fill=\"#000000\" font-family=\"sans-serif\" font-size=\"11\" lengthAdjust=\"spacingAndGlyphs\" textLength=\"12\" x=\"172\" y=\"517.9526\">z2</text><line style=\"stroke: #383838; stroke-width: 1.0;\" x1=\"81\" x2=\"101.5\" y1=\"501.3398\" y2=\"501.3398\"/><text fill=\"#000000\" font-family=\"sans-serif\" font-size=\"11\" lengthAdjust=\"spacingAndGlyphs\" textLength=\"67\" x=\"101.5\" y=\"504.6479\">parameters</text><line style=\"stroke: #383838; stroke-width: 1.0;\" x1=\"168.5\" x2=\"189\" y1=\"501.3398\" y2=\"501.3398\"/></a><a href=\"psysml:e555f4d2-547d-4756-8b33-5fda3be7b359\" target=\"_top\" title=\"psysml:e555f4d2-547d-4756-8b33-5fda3be7b359\" xlink:actuate=\"onRequest\" xlink:href=\"psysml:e555f4d2-547d-4756-8b33-5fda3be7b359\" xlink:show=\"new\" xlink:title=\"psysml:e555f4d2-547d-4756-8b33-5fda3be7b359\" xlink:type=\"simple\"><polygon fill=\"#FFFFFF\" points=\"120.5,709,135.5,709,142.5,731.2969,149.5,731.2969,149.5,761.5938,120.5,761.5938,120.5,709\" style=\"stroke: #000000; stroke-width: 1.5;\"/><line style=\"stroke: #000000; stroke-width: 1.5;\" x1=\"120.5\" x2=\"142.5\" y1=\"731.2969\" y2=\"731.2969\"/><text fill=\"#000000\" font-family=\"sans-serif\" font-size=\"14\" font-weight=\"bold\" lengthAdjust=\"spacingAndGlyphs\" textLength=\"9\" x=\"124.5\" y=\"723.9951\">P</text></a><!--MD5=[2720a5a1f2c3fca2055b230370638851]\n",
       "link E2 to E3--><a href=\"psysml:02703352-f69e-4a4b-893d-89c09588fdfd\" target=\"_top\" title=\"psysml:02703352-f69e-4a4b-893d-89c09588fdfd\" xlink:actuate=\"onRequest\" xlink:href=\"psysml:02703352-f69e-4a4b-893d-89c09588fdfd\" xlink:show=\"new\" xlink:title=\"psysml:02703352-f69e-4a4b-893d-89c09588fdfd\" xlink:type=\"simple\"><path d=\"M122,87.18 C122,87.18 122,127.76 122,127.76 \" fill=\"none\" id=\"E2-&gt;E3\" style=\"stroke: #383838; stroke-width: 1.0;\"/><polygon fill=\"#FFFFFF\" points=\"122,147.76,115,128.76,129,128.76,122,147.76\" style=\"stroke: #383838; stroke-width: 1.0;\"/><ellipse cx=\"117\" cy=\"123.06\" fill=\"#383838\" rx=\"2\" ry=\"2\" style=\"stroke: #383838; stroke-width: 1.0;\"/><ellipse cx=\"127\" cy=\"123.06\" fill=\"#383838\" rx=\"2\" ry=\"2\" style=\"stroke: #383838; stroke-width: 1.0;\"/></a><!--MD5=[4672eba38e49728da53d11aeb285b987]\n",
       "reverse link E3 to E4--><a href=\"psysml:e82a868e-a957-4308-9aca-5f2e1a046a10\" target=\"_top\" title=\"psysml:e82a868e-a957-4308-9aca-5f2e1a046a10\" xlink:actuate=\"onRequest\" xlink:href=\"psysml:e82a868e-a957-4308-9aca-5f2e1a046a10\" xlink:show=\"new\" xlink:title=\"psysml:e82a868e-a957-4308-9aca-5f2e1a046a10\" xlink:type=\"simple\"><path d=\"M107.33,249.01 C107.33,249.01 107.33,396 107.33,396 C107.33,396 89.42,396 74.16,396 \" fill=\"none\" id=\"E3&lt;-E4\" style=\"stroke: #383838; stroke-width: 1.0;\"/><polygon fill=\"#383838\" points=\"107.33,236.01,103.33,242.01,107.33,248.01,111.33,242.01,107.33,236.01\" style=\"stroke: #383838; stroke-width: 1.0;\"/><text fill=\"#000000\" font-family=\"sans-serif\" font-size=\"13\" lengthAdjust=\"spacingAndGlyphs\" textLength=\"8\" x=\"81.8653\" y=\"390.7999\">1</text></a><!--MD5=[191cde3d490a3f6d7bb551fe3ddca469]\n",
       "reverse link E3 to E5--><a href=\"psysml:01f43deb-5863-4903-863e-c9a23e0a1180\" target=\"_top\" title=\"psysml:01f43deb-5863-4903-863e-c9a23e0a1180\" xlink:actuate=\"onRequest\" xlink:href=\"psysml:01f43deb-5863-4903-863e-c9a23e0a1180\" xlink:show=\"new\" xlink:title=\"psysml:01f43deb-5863-4903-863e-c9a23e0a1180\" xlink:type=\"simple\"><path d=\"M152.5,249.05 C152.5,249.05 152.5,296.74 152.5,296.74 \" fill=\"none\" id=\"E3&lt;-E5\" style=\"stroke: #383838; stroke-width: 1.0;\"/><polygon fill=\"#FFFFFF\" points=\"152.5,236.05,148.5,242.05,152.5,248.05,156.5,242.05,152.5,236.05\" style=\"stroke: #383838; stroke-width: 1.0;\"/><text fill=\"#000000\" font-family=\"sans-serif\" font-size=\"13\" lengthAdjust=\"spacingAndGlyphs\" textLength=\"8\" x=\"139.2469\" y=\"285.9497\">1</text></a><!--MD5=[79568f1e445c3877b6a54524624ccc7d]\n",
       "link E4 to E6--><a href=\"psysml:6f8c5931-99ab-4f3d-9640-f9d86b709835\" target=\"_top\" title=\"psysml:6f8c5931-99ab-4f3d-9640-f9d86b709835\" xlink:actuate=\"onRequest\" xlink:href=\"psysml:6f8c5931-99ab-4f3d-9640-f9d86b709835\" xlink:show=\"new\" xlink:title=\"psysml:6f8c5931-99ab-4f3d-9640-f9d86b709835\" xlink:type=\"simple\"><path d=\"M58.5,419.22 C58.5,477.44 58.5,625 58.5,625 C58.5,625 79.88,625 79.88,625 \" fill=\"none\" id=\"E4-&gt;E6\" style=\"stroke: #383838; stroke-width: 1.0;\"/><polygon fill=\"#FFFFFF\" points=\"99.88,625,80.88,632,80.88,618,99.88,625\" style=\"stroke: #383838; stroke-width: 1.0;\"/><ellipse cx=\"75.18\" cy=\"630\" fill=\"#383838\" rx=\"2\" ry=\"2\" style=\"stroke: #383838; stroke-width: 1.0;\"/><ellipse cx=\"75.18\" cy=\"620\" fill=\"#383838\" rx=\"2\" ry=\"2\" style=\"stroke: #383838; stroke-width: 1.0;\"/></a><!--MD5=[3f50a3473f1dfb74d3f76443e03635af]\n",
       "reverse link E6 to E7--><a href=\"psysml:ef71999d-b74e-4e5c-b2f7-aebb94a9d32a\" target=\"_top\" title=\"psysml:ef71999d-b74e-4e5c-b2f7-aebb94a9d32a\" xlink:actuate=\"onRequest\" xlink:href=\"psysml:ef71999d-b74e-4e5c-b2f7-aebb94a9d32a\" xlink:show=\"new\" xlink:title=\"psysml:ef71999d-b74e-4e5c-b2f7-aebb94a9d32a\" xlink:type=\"simple\"><path d=\"M159.75,661.27 C159.75,661.27 159.75,736 159.75,736 C159.75,736 172.61,736 184.77,736 \" fill=\"none\" id=\"E6&lt;-E7\" style=\"stroke: #383838; stroke-width: 1.0;\"/><polygon fill=\"#383838\" points=\"159.75,648.27,155.75,654.27,159.75,660.27,163.75,654.27,159.75,648.27\" style=\"stroke: #383838; stroke-width: 1.0;\"/><text fill=\"#000000\" font-family=\"sans-serif\" font-size=\"13\" lengthAdjust=\"spacingAndGlyphs\" textLength=\"8\" x=\"169.0433\" y=\"730.9531\">1</text></a><!--MD5=[14ccda38c055a5c0da953d572bc50960]\n",
       "link E7 to E3--><a href=\"psysml:d4047a87-2764-4bb9-9711-6fad77bbdb97\" target=\"_top\" title=\"psysml:d4047a87-2764-4bb9-9711-6fad77bbdb97\" xlink:actuate=\"onRequest\" xlink:href=\"psysml:d4047a87-2764-4bb9-9711-6fad77bbdb97\" xlink:show=\"new\" xlink:title=\"psysml:d4047a87-2764-4bb9-9711-6fad77bbdb97\" xlink:type=\"simple\"><path d=\"M208.5,712.49 C208.5,609.05 208.5,192 208.5,192 C208.5,192 177.18,192 177.18,192 \" fill=\"none\" id=\"E7-&gt;E3\" style=\"stroke: #383838; stroke-width: 1.0;\"/><polygon fill=\"#FFFFFF\" points=\"157.18,192,176.18,185,176.18,199,157.18,192\" style=\"stroke: #383838; stroke-width: 1.0;\"/><ellipse cx=\"181.88\" cy=\"187\" fill=\"#383838\" rx=\"2\" ry=\"2\" style=\"stroke: #383838; stroke-width: 1.0;\"/><ellipse cx=\"181.88\" cy=\"197\" fill=\"#383838\" rx=\"2\" ry=\"2\" style=\"stroke: #383838; stroke-width: 1.0;\"/></a><!--MD5=[f4cf0736d43fd73c4ef68817c49d37d5]\n",
       "reverse link E6 to E8--><a href=\"psysml:e9c4c173-85e4-4370-85e4-1c8f2eb4171b\" target=\"_top\" title=\"psysml:e9c4c173-85e4-4370-85e4-1c8f2eb4171b\" xlink:actuate=\"onRequest\" xlink:href=\"psysml:e9c4c173-85e4-4370-85e4-1c8f2eb4171b\" xlink:show=\"new\" xlink:title=\"psysml:e9c4c173-85e4-4370-85e4-1c8f2eb4171b\" xlink:type=\"simple\"><path d=\"M110.25,661.27 C110.25,661.27 110.25,736 110.25,736 C110.25,736 97.39,736 85.23,736 \" fill=\"none\" id=\"E6&lt;-E8\" style=\"stroke: #383838; stroke-width: 1.0;\"/><polygon fill=\"#FFFFFF\" points=\"110.25,648.27,106.25,654.27,110.25,660.27,114.25,654.27,110.25,648.27\" style=\"stroke: #383838; stroke-width: 1.0;\"/><text fill=\"#000000\" font-family=\"sans-serif\" font-size=\"13\" lengthAdjust=\"spacingAndGlyphs\" textLength=\"8\" x=\"92.9567\" y=\"730.9531\">1</text></a><!--MD5=[e88d06e5a652d73a6b19930eefe025a8]\n",
       "reverse link E6 to E9--><a href=\"psysml:ab2aae6d-159f-4d7a-a99e-78671a533366\" target=\"_top\" title=\"psysml:ab2aae6d-159f-4d7a-a99e-78671a533366\" xlink:actuate=\"onRequest\" xlink:href=\"psysml:ab2aae6d-159f-4d7a-a99e-78671a533366\" xlink:show=\"new\" xlink:title=\"psysml:ab2aae6d-159f-4d7a-a99e-78671a533366\" xlink:type=\"simple\"><path d=\"M135,663.16 C135,663.16 135,708.87 135,708.87 \" fill=\"none\" id=\"E6&lt;-E9\" style=\"stroke: #383838; stroke-width: 1.0;\"/><ellipse cx=\"135\" cy=\"656.16\" fill=\"#FFFFFF\" rx=\"8\" ry=\"8\" style=\"stroke: #383838; stroke-width: 1.0;\"/><line style=\"stroke: #383838; stroke-width: 1.0;\" x1=\"135\" x2=\"135\" y1=\"664.16\" y2=\"648.16\"/><line style=\"stroke: #383838; stroke-width: 1.0;\" x1=\"127\" x2=\"143\" y1=\"656.16\" y2=\"656.16\"/></a><!--MD5=[f78a29d5932556fa1060671a2a6507d8]\n",
       "link E5 to E10--><a href=\"psysml:09169cbe-938d-4307-a584-0b24a5ad62ce\" target=\"_top\" title=\"psysml:09169cbe-938d-4307-a584-0b24a5ad62ce\" xlink:actuate=\"onRequest\" xlink:href=\"psysml:09169cbe-938d-4307-a584-0b24a5ad62ce\" xlink:show=\"new\" xlink:title=\"psysml:09169cbe-938d-4307-a584-0b24a5ad62ce\" xlink:type=\"simple\"><path d=\"M169,343.22 C169,343.22 169,428.9 169,428.9 \" fill=\"none\" id=\"E5-&gt;E10\" style=\"stroke: #383838; stroke-width: 1.0;\"/><polygon fill=\"#FFFFFF\" points=\"169,448.9,162,429.9,176,429.9,169,448.9\" style=\"stroke: #383838; stroke-width: 1.0;\"/><ellipse cx=\"164\" cy=\"424.2\" fill=\"#383838\" rx=\"2\" ry=\"2\" style=\"stroke: #383838; stroke-width: 1.0;\"/><ellipse cx=\"174\" cy=\"424.2\" fill=\"#383838\" rx=\"2\" ry=\"2\" style=\"stroke: #383838; stroke-width: 1.0;\"/></a><!--MD5=[8e04057e7b3cbc0dca4fc78ea351e2da]\n",
       "reverse link E10 to E3--><a href=\"psysml:75696b56-911c-4e7f-a413-6399c7af4d3a\" target=\"_top\" title=\"psysml:75696b56-911c-4e7f-a413-6399c7af4d3a\" xlink:actuate=\"onRequest\" xlink:href=\"psysml:75696b56-911c-4e7f-a413-6399c7af4d3a\" xlink:show=\"new\" xlink:title=\"psysml:75696b56-911c-4e7f-a413-6399c7af4d3a\" xlink:type=\"simple\"><path d=\"M127.67,435.74 C127.67,435.74 127.67,236.46 127.67,236.46 \" fill=\"none\" id=\"E10&lt;-E3\" style=\"stroke: #383838; stroke-width: 1.0;\"/><polygon fill=\"#FFFFFF\" points=\"127.67,448.74,131.67,442.74,127.67,436.74,123.67,442.74,127.67,448.74\" style=\"stroke: #383838; stroke-width: 1.0;\"/><text fill=\"#000000\" font-family=\"sans-serif\" font-size=\"13\" lengthAdjust=\"spacingAndGlyphs\" textLength=\"7\" x=\"105\" y=\"324.5669\">y</text></a><!--MD5=[604cbf994c02b74b117f728a71673cea]\n",
       "reverse link E10 to E6--><a href=\"psysml:75696b56-911c-4e7f-a413-6399c7af4d3a\" target=\"_top\" title=\"psysml:75696b56-911c-4e7f-a413-6399c7af4d3a\" xlink:actuate=\"onRequest\" xlink:href=\"psysml:75696b56-911c-4e7f-a413-6399c7af4d3a\" xlink:show=\"new\" xlink:title=\"psysml:75696b56-911c-4e7f-a413-6399c7af4d3a\" xlink:type=\"simple\"><path d=\"M135,538.07 C135,538.07 135,601.75 135,601.75 \" fill=\"none\" id=\"E10&lt;-E6\" style=\"stroke: #383838; stroke-width: 1.0;\"/><polygon fill=\"#FFFFFF\" points=\"135,525.07,131,531.07,135,537.07,139,531.07,135,525.07\" style=\"stroke: #383838; stroke-width: 1.0;\"/><text fill=\"#000000\" font-family=\"sans-serif\" font-size=\"13\" lengthAdjust=\"spacingAndGlyphs\" textLength=\"7\" x=\"136\" y=\"568.0669\">y</text></a><!--MD5=[4a24ffa50132d509ca6c4abd9819a0da]\n",
       "@startuml\r\n",
       "skinparam linetype ortho\r\n",
       "skinparam monochrome true\r\n",
       "skinparam classbackgroundcolor white\r\n",
       "skinparam shadowing false\r\n",
       "skinparam wrapWidth 300\r\n",
       "hide circle\r\n",
       "\r\n",
       "package \"PartTest\" as E1  [[psysml:538b1265-15ae-4afd-8dd2-ef0f57b41a53 ]]  {\r\n",
       "comp usage \"f: A \" as E2  <<(T,blue) part>> [[psysml:2c090466-3d5c-4444-ba17-090921dc2443 ]] {\r\n",
       "}\r\n",
       "comp def \"A\" as E3  <<(T,blue) part  def>> [[psysml:d1b7cfcb-f6eb-4e6c-b82e-69976e6757f6 ]] {\r\n",
       "- - attributes - -\r\n",
       "x\r\n",
       "y:> A::x\r\n",
       "}\r\n",
       "comp usage \"b: B \" as E4  <<(T,blue) part>> [[psysml:1aa2f075-dfbc-4c28-975e-f9b78ce76d6b ]] {\r\n",
       "}\r\n",
       "comp usage \"c: C \" as E5  <<(T,blue) port>> [[psysml:6b6fc427-035b-4f92-af2f-ae5f46ec13e5 ]] {\r\n",
       "}\r\n",
       "comp def \"<i>B</i>\" as E6  <<(T,blue) part  def>> [[psysml:286e6ef4-92d4-4c1b-a17d-09881da7698b ]] {\r\n",
       "}\r\n",
       "comp usage \"<i>a</i>: A \" as E7  <<(T,blue) part>> [[psysml:215e87e2-ee75-46c7-98ea-4ce8794cdbad ]] {\r\n",
       "}\r\n",
       "comp usage \"x: ~C \" as E8  <<(T,blue) port>> [[psysml:27d37788-2b75-4a5c-b4fe-9553c2483e93 ]] {\r\n",
       "}\r\n",
       "package \"P\" as E9  [[psysml:e555f4d2-547d-4756-8b33-5fda3be7b359 ]]  {\r\n",
       "}\r\n",
       "comp def \"C\" as E10  <<(T,blue) port  def>> [[psysml:3d6805d2-0d33-47df-af88-6771a9177656 ]] {\r\n",
       "- - parameters - -\r\n",
       "<b>in</b> y: A, B <b>alias</b> z2 \r\n",
       "}\r\n",
       "}\r\n",
       "E2 - -:|> E3 [[psysml:02703352-f69e-4a4b-893d-89c09588fdfd ]] \r\n",
       "E3 *- - \"1\"E4 [[psysml:e82a868e-a957-4308-9aca-5f2e1a046a10 ]] \r\n",
       "E3 o- - \"1\"E5 [[psysml:01f43deb-5863-4903-863e-c9a23e0a1180 ]] \r\n",
       "E4 - -:|> E6 [[psysml:6f8c5931-99ab-4f3d-9640-f9d86b709835 ]] \r\n",
       "E6 *- - \"1\"E7 [[psysml:ef71999d-b74e-4e5c-b2f7-aebb94a9d32a ]] \r\n",
       "E7 - -:|> E3 [[psysml:d4047a87-2764-4bb9-9711-6fad77bbdb97 ]] \r\n",
       "E6 o- - \"1\"E8 [[psysml:e9c4c173-85e4-4370-85e4-1c8f2eb4171b ]] \r\n",
       "E6 +- - E9 [[psysml:ab2aae6d-159f-4d7a-a99e-78671a533366 ]] \r\n",
       "E5 - -:|> E10 [[psysml:09169cbe-938d-4307-a584-0b24a5ad62ce ]] \r\n",
       "E10 o- - E3 [[psysml:75696b56-911c-4e7f-a413-6399c7af4d3a ]] : y\r\n",
       "E10 o- - E6 [[psysml:75696b56-911c-4e7f-a413-6399c7af4d3a ]] : y\r\n",
       "@enduml\r\n",
       "\n",
       "PlantUML version 1.2020.13(Sat Jun 13 12:26:38 UTC 2020)\n",
       "(EPL source distribution)\n",
       "Java Runtime: OpenJDK Runtime Environment\n",
       "JVM: OpenJDK 64-Bit Server VM\n",
       "Default Encoding: UTF-8\n",
       "Language: en\n",
       "Country: null\n",
       "--></g></svg>"
      ]
     },
     "execution_count": 51,
     "metadata": {},
     "output_type": "execute_result"
    }
   ],
   "source": [
    "%viz --style=\"ORTHOLINE\" --view=\"Default\" \"PartTest\""
   ]
  },
  {
   "cell_type": "code",
   "execution_count": 52,
   "id": "9f91b5ef",
   "metadata": {
    "execution": {
     "iopub.execute_input": "2022-05-19T08:45:15.430543Z",
     "iopub.status.busy": "2022-05-19T08:45:15.430078Z",
     "iopub.status.idle": "2022-05-19T08:45:15.495322Z",
     "shell.execute_reply": "2022-05-19T08:45:15.493709Z"
    }
   },
   "outputs": [
    {
     "data": {
      "image/svg+xml": [
       "<?xml version=\"1.0\" encoding=\"UTF-8\" standalone=\"no\"?><svg xmlns=\"http://www.w3.org/2000/svg\" xmlns:xlink=\"http://www.w3.org/1999/xlink\" contentScriptType=\"application/ecmascript\" contentStyleType=\"text/css\" height=\"790px\" preserveAspectRatio=\"none\" style=\"width:265px;height:790px;\" version=\"1.1\" viewBox=\"0 0 265 790\" width=\"265px\" zoomAndPan=\"magnify\"><defs/><g><!--MD5=[fbc87193dbaf4d95561dea2c320d4a47]\n",
       "cluster E1--><a href=\"psysml:538b1265-15ae-4afd-8dd2-ef0f57b41a53\" target=\"_top\" title=\"psysml:538b1265-15ae-4afd-8dd2-ef0f57b41a53\" xlink:actuate=\"onRequest\" xlink:href=\"psysml:538b1265-15ae-4afd-8dd2-ef0f57b41a53\" xlink:show=\"new\" xlink:title=\"psysml:538b1265-15ae-4afd-8dd2-ef0f57b41a53\" xlink:type=\"simple\"><polygon fill=\"#FFFFFF\" points=\"16,6,80,6,87,28.2969,243,28.2969,243,778,16,778,16,6\" style=\"stroke: #000000; stroke-width: 1.5;\"/><line style=\"stroke: #000000; stroke-width: 1.5;\" x1=\"16\" x2=\"87\" y1=\"28.2969\" y2=\"28.2969\"/><text fill=\"#000000\" font-family=\"sans-serif\" font-size=\"14\" font-weight=\"bold\" lengthAdjust=\"spacingAndGlyphs\" textLength=\"58\" x=\"20\" y=\"20.9951\">PartTest</text></a><!--MD5=[b4997ac47864f28c2f74865a473b2911]\n",
       "class E2--><a href=\"psysml:2c090466-3d5c-4444-ba17-090921dc2443\" target=\"_top\" title=\"psysml:2c090466-3d5c-4444-ba17-090921dc2443\" xlink:actuate=\"onRequest\" xlink:href=\"psysml:2c090466-3d5c-4444-ba17-090921dc2443\" xlink:show=\"new\" xlink:title=\"psysml:2c090466-3d5c-4444-ba17-090921dc2443\" xlink:type=\"simple\"><rect fill=\"#FFFFFF\" height=\"45.9375\" id=\"E2\" rx=\"10\" ry=\"10\" style=\"stroke: #383838; stroke-width: 1.5;\" width=\"42\" x=\"101\" y=\"41\"/><text fill=\"#000000\" font-family=\"sans-serif\" font-size=\"12\" font-style=\"italic\" lengthAdjust=\"spacingAndGlyphs\" textLength=\"40\" x=\"102\" y=\"57.1387\">«part»</text><text fill=\"#000000\" font-family=\"sans-serif\" font-size=\"12\" lengthAdjust=\"spacingAndGlyphs\" textLength=\"20\" x=\"110\" y=\"71.1074\">f: A</text><line style=\"stroke: #383838; stroke-width: 1.5;\" x1=\"102\" x2=\"142\" y1=\"78.9375\" y2=\"78.9375\"/></a><!--MD5=[09b614a08d8cba4a07c9adeb5e0fee81]\n",
       "class E3--><a href=\"psysml:d1b7cfcb-f6eb-4e6c-b82e-69976e6757f6\" target=\"_top\" title=\"psysml:d1b7cfcb-f6eb-4e6c-b82e-69976e6757f6\" xlink:actuate=\"onRequest\" xlink:href=\"psysml:d1b7cfcb-f6eb-4e6c-b82e-69976e6757f6\" xlink:show=\"new\" xlink:title=\"psysml:d1b7cfcb-f6eb-4e6c-b82e-69976e6757f6\" xlink:type=\"simple\"><rect fill=\"#FFFFFF\" height=\"88.3516\" id=\"E3\" style=\"stroke: #383838; stroke-width: 1.5;\" width=\"70\" x=\"87\" y=\"148\"/><text fill=\"#000000\" font-family=\"sans-serif\" font-size=\"12\" font-style=\"italic\" lengthAdjust=\"spacingAndGlyphs\" textLength=\"68\" x=\"88\" y=\"164.1387\">«part  def»</text><text fill=\"#000000\" font-family=\"sans-serif\" font-size=\"12\" lengthAdjust=\"spacingAndGlyphs\" textLength=\"8\" x=\"118\" y=\"178.1074\">A</text><line style=\"stroke: #383838; stroke-width: 1.5;\" x1=\"88\" x2=\"156\" y1=\"185.9375\" y2=\"185.9375\"/><text fill=\"#000000\" font-family=\"sans-serif\" font-size=\"11\" lengthAdjust=\"spacingAndGlyphs\" textLength=\"6\" x=\"93\" y=\"216.9526\">x</text><text fill=\"#000000\" font-family=\"sans-serif\" font-size=\"11\" lengthAdjust=\"spacingAndGlyphs\" textLength=\"44\" x=\"93\" y=\"229.7573\">y:&gt; A::x</text><line style=\"stroke: #383838; stroke-width: 1.0;\" x1=\"88\" x2=\"94.5\" y1=\"200.3398\" y2=\"200.3398\"/><text fill=\"#000000\" font-family=\"sans-serif\" font-size=\"11\" lengthAdjust=\"spacingAndGlyphs\" textLength=\"55\" x=\"94.5\" y=\"203.6479\">attributes</text><line style=\"stroke: #383838; stroke-width: 1.0;\" x1=\"149.5\" x2=\"156\" y1=\"200.3398\" y2=\"200.3398\"/></a><!--MD5=[ebbe1d658d1005bcc118a6aa81145e00]\n",
       "class E4--><a href=\"psysml:1aa2f075-dfbc-4c28-975e-f9b78ce76d6b\" target=\"_top\" title=\"psysml:1aa2f075-dfbc-4c28-975e-f9b78ce76d6b\" xlink:actuate=\"onRequest\" xlink:href=\"psysml:1aa2f075-dfbc-4c28-975e-f9b78ce76d6b\" xlink:show=\"new\" xlink:title=\"psysml:1aa2f075-dfbc-4c28-975e-f9b78ce76d6b\" xlink:type=\"simple\"><rect fill=\"#FFFFFF\" height=\"45.9375\" id=\"E4\" rx=\"10\" ry=\"10\" style=\"stroke: #383838; stroke-width: 1.5;\" width=\"42\" x=\"32\" y=\"373\"/><text fill=\"#000000\" font-family=\"sans-serif\" font-size=\"12\" font-style=\"italic\" lengthAdjust=\"spacingAndGlyphs\" textLength=\"40\" x=\"33\" y=\"389.1387\">«part»</text><text fill=\"#000000\" font-family=\"sans-serif\" font-size=\"12\" lengthAdjust=\"spacingAndGlyphs\" textLength=\"24\" x=\"39\" y=\"403.1074\">b: B</text><line style=\"stroke: #383838; stroke-width: 1.5;\" x1=\"33\" x2=\"73\" y1=\"410.9375\" y2=\"410.9375\"/></a><!--MD5=[270fce915f116d4de14055a7c1d9a0f3]\n",
       "class E5--><a href=\"psysml:6b6fc427-035b-4f92-af2f-ae5f46ec13e5\" target=\"_top\" title=\"psysml:6b6fc427-035b-4f92-af2f-ae5f46ec13e5\" xlink:actuate=\"onRequest\" xlink:href=\"psysml:6b6fc427-035b-4f92-af2f-ae5f46ec13e5\" xlink:show=\"new\" xlink:title=\"psysml:6b6fc427-035b-4f92-af2f-ae5f46ec13e5\" xlink:type=\"simple\"><rect fill=\"#FFFFFF\" height=\"45.9375\" id=\"E5\" rx=\"10\" ry=\"10\" style=\"stroke: #383838; stroke-width: 1.5;\" width=\"42\" x=\"148\" y=\"297\"/><text fill=\"#000000\" font-family=\"sans-serif\" font-size=\"12\" font-style=\"italic\" lengthAdjust=\"spacingAndGlyphs\" textLength=\"40\" x=\"149\" y=\"313.1387\">«port»</text><text fill=\"#000000\" font-family=\"sans-serif\" font-size=\"12\" lengthAdjust=\"spacingAndGlyphs\" textLength=\"23\" x=\"155.5\" y=\"327.1074\">c: C</text><line style=\"stroke: #383838; stroke-width: 1.5;\" x1=\"149\" x2=\"189\" y1=\"334.9375\" y2=\"334.9375\"/></a><!--MD5=[60a26617385b1d2d0262a64233df1f8d]\n",
       "class E6--><a href=\"psysml:286e6ef4-92d4-4c1b-a17d-09881da7698b\" target=\"_top\" title=\"psysml:286e6ef4-92d4-4c1b-a17d-09881da7698b\" xlink:actuate=\"onRequest\" xlink:href=\"psysml:286e6ef4-92d4-4c1b-a17d-09881da7698b\" xlink:show=\"new\" xlink:title=\"psysml:286e6ef4-92d4-4c1b-a17d-09881da7698b\" xlink:type=\"simple\"><rect fill=\"#FFFFFF\" height=\"45.9375\" id=\"E6\" style=\"stroke: #383838; stroke-width: 1.5;\" width=\"70\" x=\"100\" y=\"602\"/><text fill=\"#000000\" font-family=\"sans-serif\" font-size=\"12\" font-style=\"italic\" lengthAdjust=\"spacingAndGlyphs\" textLength=\"68\" x=\"101\" y=\"618.1387\">«part  def»</text><text fill=\"#000000\" font-family=\"sans-serif\" font-size=\"12\" font-style=\"italic\" lengthAdjust=\"spacingAndGlyphs\" textLength=\"8\" x=\"131\" y=\"632.1074\">B</text><line style=\"stroke: #383838; stroke-width: 1.5;\" x1=\"101\" x2=\"169\" y1=\"639.9375\" y2=\"639.9375\"/></a><!--MD5=[2156ba9850f5573cc1fc38a6a4b2f02b]\n",
       "class E7--><a href=\"psysml:215e87e2-ee75-46c7-98ea-4ce8794cdbad\" target=\"_top\" title=\"psysml:215e87e2-ee75-46c7-98ea-4ce8794cdbad\" xlink:actuate=\"onRequest\" xlink:href=\"psysml:215e87e2-ee75-46c7-98ea-4ce8794cdbad\" xlink:show=\"new\" xlink:title=\"psysml:215e87e2-ee75-46c7-98ea-4ce8794cdbad\" xlink:type=\"simple\"><rect fill=\"#FFFFFF\" height=\"45.9375\" id=\"E7\" rx=\"10\" ry=\"10\" style=\"stroke: #383838; stroke-width: 1.5;\" width=\"42\" x=\"185\" y=\"712.5\"/><text fill=\"#000000\" font-family=\"sans-serif\" font-size=\"12\" font-style=\"italic\" lengthAdjust=\"spacingAndGlyphs\" textLength=\"40\" x=\"186\" y=\"728.6387\">«part»</text><text fill=\"#000000\" font-family=\"sans-serif\" font-size=\"12\" font-style=\"italic\" lengthAdjust=\"spacingAndGlyphs\" textLength=\"8\" x=\"192\" y=\"742.6074\">a</text><text fill=\"#000000\" font-family=\"sans-serif\" font-size=\"12\" lengthAdjust=\"spacingAndGlyphs\" textLength=\"16\" x=\"200\" y=\"742.6074\">: A</text><line style=\"stroke: #383838; stroke-width: 1.5;\" x1=\"186\" x2=\"226\" y1=\"750.4375\" y2=\"750.4375\"/></a><!--MD5=[b9389687b975829384b498ac4b7476b2]\n",
       "class E8--><a href=\"psysml:27d37788-2b75-4a5c-b4fe-9553c2483e93\" target=\"_top\" title=\"psysml:27d37788-2b75-4a5c-b4fe-9553c2483e93\" xlink:actuate=\"onRequest\" xlink:href=\"psysml:27d37788-2b75-4a5c-b4fe-9553c2483e93\" xlink:show=\"new\" xlink:title=\"psysml:27d37788-2b75-4a5c-b4fe-9553c2483e93\" xlink:type=\"simple\"><rect fill=\"#FFFFFF\" height=\"45.9375\" id=\"E8\" rx=\"10\" ry=\"10\" style=\"stroke: #383838; stroke-width: 1.5;\" width=\"42\" x=\"43\" y=\"712.5\"/><text fill=\"#000000\" font-family=\"sans-serif\" font-size=\"12\" font-style=\"italic\" lengthAdjust=\"spacingAndGlyphs\" textLength=\"40\" x=\"44\" y=\"728.6387\">«port»</text><text fill=\"#000000\" font-family=\"sans-serif\" font-size=\"12\" lengthAdjust=\"spacingAndGlyphs\" textLength=\"32\" x=\"46\" y=\"742.6074\">x: ~C</text><line style=\"stroke: #383838; stroke-width: 1.5;\" x1=\"44\" x2=\"84\" y1=\"750.4375\" y2=\"750.4375\"/></a><!--MD5=[96f4274e9e20536e775497830990834d]\n",
       "class E10--><a href=\"psysml:3d6805d2-0d33-47df-af88-6771a9177656\" target=\"_top\" title=\"psysml:3d6805d2-0d33-47df-af88-6771a9177656\" xlink:actuate=\"onRequest\" xlink:href=\"psysml:3d6805d2-0d33-47df-af88-6771a9177656\" xlink:show=\"new\" xlink:title=\"psysml:3d6805d2-0d33-47df-af88-6771a9177656\" xlink:type=\"simple\"><rect fill=\"#FFFFFF\" height=\"75.5469\" id=\"E10\" style=\"stroke: #383838; stroke-width: 1.5;\" width=\"110\" x=\"80\" y=\"449\"/><text fill=\"#000000\" font-family=\"sans-serif\" font-size=\"12\" font-style=\"italic\" lengthAdjust=\"spacingAndGlyphs\" textLength=\"68\" x=\"101\" y=\"465.1387\">«port  def»</text><text fill=\"#000000\" font-family=\"sans-serif\" font-size=\"12\" lengthAdjust=\"spacingAndGlyphs\" textLength=\"8\" x=\"131\" y=\"479.1074\">C</text><line style=\"stroke: #383838; stroke-width: 1.5;\" x1=\"81\" x2=\"189\" y1=\"486.9375\" y2=\"486.9375\"/><text fill=\"#000000\" font-family=\"sans-serif\" font-size=\"11\" font-weight=\"bold\" lengthAdjust=\"spacingAndGlyphs\" textLength=\"10\" x=\"86\" y=\"517.9526\">in</text><text fill=\"#000000\" font-family=\"sans-serif\" font-size=\"11\" lengthAdjust=\"spacingAndGlyphs\" textLength=\"37\" x=\"100\" y=\"517.9526\">y: A, B</text><text fill=\"#000000\" font-family=\"sans-serif\" font-size=\"11\" font-weight=\"bold\" lengthAdjust=\"spacingAndGlyphs\" textLength=\"27\" x=\"141\" y=\"517.9526\">alias</text><text fill=\"#000000\" font-family=\"sans-serif\" font-size=\"11\" lengthAdjust=\"spacingAndGlyphs\" textLength=\"12\" x=\"172\" y=\"517.9526\">z2</text><line style=\"stroke: #383838; stroke-width: 1.0;\" x1=\"81\" x2=\"101.5\" y1=\"501.3398\" y2=\"501.3398\"/><text fill=\"#000000\" font-family=\"sans-serif\" font-size=\"11\" lengthAdjust=\"spacingAndGlyphs\" textLength=\"67\" x=\"101.5\" y=\"504.6479\">parameters</text><line style=\"stroke: #383838; stroke-width: 1.0;\" x1=\"168.5\" x2=\"189\" y1=\"501.3398\" y2=\"501.3398\"/></a><a href=\"psysml:e555f4d2-547d-4756-8b33-5fda3be7b359\" target=\"_top\" title=\"psysml:e555f4d2-547d-4756-8b33-5fda3be7b359\" xlink:actuate=\"onRequest\" xlink:href=\"psysml:e555f4d2-547d-4756-8b33-5fda3be7b359\" xlink:show=\"new\" xlink:title=\"psysml:e555f4d2-547d-4756-8b33-5fda3be7b359\" xlink:type=\"simple\"><polygon fill=\"#FFFFFF\" points=\"120.5,709,135.5,709,142.5,731.2969,149.5,731.2969,149.5,761.5938,120.5,761.5938,120.5,709\" style=\"stroke: #000000; stroke-width: 1.5;\"/><line style=\"stroke: #000000; stroke-width: 1.5;\" x1=\"120.5\" x2=\"142.5\" y1=\"731.2969\" y2=\"731.2969\"/><text fill=\"#000000\" font-family=\"sans-serif\" font-size=\"14\" font-weight=\"bold\" lengthAdjust=\"spacingAndGlyphs\" textLength=\"9\" x=\"124.5\" y=\"723.9951\">P</text></a><!--MD5=[2720a5a1f2c3fca2055b230370638851]\n",
       "link E2 to E3--><a href=\"psysml:02703352-f69e-4a4b-893d-89c09588fdfd\" target=\"_top\" title=\"psysml:02703352-f69e-4a4b-893d-89c09588fdfd\" xlink:actuate=\"onRequest\" xlink:href=\"psysml:02703352-f69e-4a4b-893d-89c09588fdfd\" xlink:show=\"new\" xlink:title=\"psysml:02703352-f69e-4a4b-893d-89c09588fdfd\" xlink:type=\"simple\"><path d=\"M122,87.18 C122,87.18 122,127.76 122,127.76 \" fill=\"none\" id=\"E2-&gt;E3\" style=\"stroke: #383838; stroke-width: 1.0;\"/><polygon fill=\"#FFFFFF\" points=\"122,147.76,115,128.76,129,128.76,122,147.76\" style=\"stroke: #383838; stroke-width: 1.0;\"/><ellipse cx=\"117\" cy=\"123.06\" fill=\"#383838\" rx=\"2\" ry=\"2\" style=\"stroke: #383838; stroke-width: 1.0;\"/><ellipse cx=\"127\" cy=\"123.06\" fill=\"#383838\" rx=\"2\" ry=\"2\" style=\"stroke: #383838; stroke-width: 1.0;\"/></a><!--MD5=[4672eba38e49728da53d11aeb285b987]\n",
       "reverse link E3 to E4--><a href=\"psysml:e82a868e-a957-4308-9aca-5f2e1a046a10\" target=\"_top\" title=\"psysml:e82a868e-a957-4308-9aca-5f2e1a046a10\" xlink:actuate=\"onRequest\" xlink:href=\"psysml:e82a868e-a957-4308-9aca-5f2e1a046a10\" xlink:show=\"new\" xlink:title=\"psysml:e82a868e-a957-4308-9aca-5f2e1a046a10\" xlink:type=\"simple\"><path d=\"M107.33,249.01 C107.33,249.01 107.33,396 107.33,396 C107.33,396 89.42,396 74.16,396 \" fill=\"none\" id=\"E3&lt;-E4\" style=\"stroke: #383838; stroke-width: 1.0;\"/><polygon fill=\"#383838\" points=\"107.33,236.01,103.33,242.01,107.33,248.01,111.33,242.01,107.33,236.01\" style=\"stroke: #383838; stroke-width: 1.0;\"/><text fill=\"#000000\" font-family=\"sans-serif\" font-size=\"13\" lengthAdjust=\"spacingAndGlyphs\" textLength=\"8\" x=\"81.8653\" y=\"390.7999\">1</text></a><!--MD5=[191cde3d490a3f6d7bb551fe3ddca469]\n",
       "reverse link E3 to E5--><a href=\"psysml:01f43deb-5863-4903-863e-c9a23e0a1180\" target=\"_top\" title=\"psysml:01f43deb-5863-4903-863e-c9a23e0a1180\" xlink:actuate=\"onRequest\" xlink:href=\"psysml:01f43deb-5863-4903-863e-c9a23e0a1180\" xlink:show=\"new\" xlink:title=\"psysml:01f43deb-5863-4903-863e-c9a23e0a1180\" xlink:type=\"simple\"><path d=\"M152.5,249.05 C152.5,249.05 152.5,296.74 152.5,296.74 \" fill=\"none\" id=\"E3&lt;-E5\" style=\"stroke: #383838; stroke-width: 1.0;\"/><polygon fill=\"#FFFFFF\" points=\"152.5,236.05,148.5,242.05,152.5,248.05,156.5,242.05,152.5,236.05\" style=\"stroke: #383838; stroke-width: 1.0;\"/><text fill=\"#000000\" font-family=\"sans-serif\" font-size=\"13\" lengthAdjust=\"spacingAndGlyphs\" textLength=\"8\" x=\"139.2469\" y=\"285.9497\">1</text></a><!--MD5=[79568f1e445c3877b6a54524624ccc7d]\n",
       "link E4 to E6--><a href=\"psysml:6f8c5931-99ab-4f3d-9640-f9d86b709835\" target=\"_top\" title=\"psysml:6f8c5931-99ab-4f3d-9640-f9d86b709835\" xlink:actuate=\"onRequest\" xlink:href=\"psysml:6f8c5931-99ab-4f3d-9640-f9d86b709835\" xlink:show=\"new\" xlink:title=\"psysml:6f8c5931-99ab-4f3d-9640-f9d86b709835\" xlink:type=\"simple\"><path d=\"M58.5,419.22 C58.5,477.44 58.5,625 58.5,625 C58.5,625 79.88,625 79.88,625 \" fill=\"none\" id=\"E4-&gt;E6\" style=\"stroke: #383838; stroke-width: 1.0;\"/><polygon fill=\"#FFFFFF\" points=\"99.88,625,80.88,632,80.88,618,99.88,625\" style=\"stroke: #383838; stroke-width: 1.0;\"/><ellipse cx=\"75.18\" cy=\"630\" fill=\"#383838\" rx=\"2\" ry=\"2\" style=\"stroke: #383838; stroke-width: 1.0;\"/><ellipse cx=\"75.18\" cy=\"620\" fill=\"#383838\" rx=\"2\" ry=\"2\" style=\"stroke: #383838; stroke-width: 1.0;\"/></a><!--MD5=[3f50a3473f1dfb74d3f76443e03635af]\n",
       "reverse link E6 to E7--><a href=\"psysml:ef71999d-b74e-4e5c-b2f7-aebb94a9d32a\" target=\"_top\" title=\"psysml:ef71999d-b74e-4e5c-b2f7-aebb94a9d32a\" xlink:actuate=\"onRequest\" xlink:href=\"psysml:ef71999d-b74e-4e5c-b2f7-aebb94a9d32a\" xlink:show=\"new\" xlink:title=\"psysml:ef71999d-b74e-4e5c-b2f7-aebb94a9d32a\" xlink:type=\"simple\"><path d=\"M159.75,661.27 C159.75,661.27 159.75,736 159.75,736 C159.75,736 172.61,736 184.77,736 \" fill=\"none\" id=\"E6&lt;-E7\" style=\"stroke: #383838; stroke-width: 1.0;\"/><polygon fill=\"#383838\" points=\"159.75,648.27,155.75,654.27,159.75,660.27,163.75,654.27,159.75,648.27\" style=\"stroke: #383838; stroke-width: 1.0;\"/><text fill=\"#000000\" font-family=\"sans-serif\" font-size=\"13\" lengthAdjust=\"spacingAndGlyphs\" textLength=\"8\" x=\"169.0433\" y=\"730.9531\">1</text></a><!--MD5=[14ccda38c055a5c0da953d572bc50960]\n",
       "link E7 to E3--><a href=\"psysml:d4047a87-2764-4bb9-9711-6fad77bbdb97\" target=\"_top\" title=\"psysml:d4047a87-2764-4bb9-9711-6fad77bbdb97\" xlink:actuate=\"onRequest\" xlink:href=\"psysml:d4047a87-2764-4bb9-9711-6fad77bbdb97\" xlink:show=\"new\" xlink:title=\"psysml:d4047a87-2764-4bb9-9711-6fad77bbdb97\" xlink:type=\"simple\"><path d=\"M208.5,712.49 C208.5,609.05 208.5,192 208.5,192 C208.5,192 177.18,192 177.18,192 \" fill=\"none\" id=\"E7-&gt;E3\" style=\"stroke: #383838; stroke-width: 1.0;\"/><polygon fill=\"#FFFFFF\" points=\"157.18,192,176.18,185,176.18,199,157.18,192\" style=\"stroke: #383838; stroke-width: 1.0;\"/><ellipse cx=\"181.88\" cy=\"187\" fill=\"#383838\" rx=\"2\" ry=\"2\" style=\"stroke: #383838; stroke-width: 1.0;\"/><ellipse cx=\"181.88\" cy=\"197\" fill=\"#383838\" rx=\"2\" ry=\"2\" style=\"stroke: #383838; stroke-width: 1.0;\"/></a><!--MD5=[f4cf0736d43fd73c4ef68817c49d37d5]\n",
       "reverse link E6 to E8--><a href=\"psysml:e9c4c173-85e4-4370-85e4-1c8f2eb4171b\" target=\"_top\" title=\"psysml:e9c4c173-85e4-4370-85e4-1c8f2eb4171b\" xlink:actuate=\"onRequest\" xlink:href=\"psysml:e9c4c173-85e4-4370-85e4-1c8f2eb4171b\" xlink:show=\"new\" xlink:title=\"psysml:e9c4c173-85e4-4370-85e4-1c8f2eb4171b\" xlink:type=\"simple\"><path d=\"M110.25,661.27 C110.25,661.27 110.25,736 110.25,736 C110.25,736 97.39,736 85.23,736 \" fill=\"none\" id=\"E6&lt;-E8\" style=\"stroke: #383838; stroke-width: 1.0;\"/><polygon fill=\"#FFFFFF\" points=\"110.25,648.27,106.25,654.27,110.25,660.27,114.25,654.27,110.25,648.27\" style=\"stroke: #383838; stroke-width: 1.0;\"/><text fill=\"#000000\" font-family=\"sans-serif\" font-size=\"13\" lengthAdjust=\"spacingAndGlyphs\" textLength=\"8\" x=\"92.9567\" y=\"730.9531\">1</text></a><!--MD5=[e88d06e5a652d73a6b19930eefe025a8]\n",
       "reverse link E6 to E9--><a href=\"psysml:ab2aae6d-159f-4d7a-a99e-78671a533366\" target=\"_top\" title=\"psysml:ab2aae6d-159f-4d7a-a99e-78671a533366\" xlink:actuate=\"onRequest\" xlink:href=\"psysml:ab2aae6d-159f-4d7a-a99e-78671a533366\" xlink:show=\"new\" xlink:title=\"psysml:ab2aae6d-159f-4d7a-a99e-78671a533366\" xlink:type=\"simple\"><path d=\"M135,663.16 C135,663.16 135,708.87 135,708.87 \" fill=\"none\" id=\"E6&lt;-E9\" style=\"stroke: #383838; stroke-width: 1.0;\"/><ellipse cx=\"135\" cy=\"656.16\" fill=\"#FFFFFF\" rx=\"8\" ry=\"8\" style=\"stroke: #383838; stroke-width: 1.0;\"/><line style=\"stroke: #383838; stroke-width: 1.0;\" x1=\"135\" x2=\"135\" y1=\"664.16\" y2=\"648.16\"/><line style=\"stroke: #383838; stroke-width: 1.0;\" x1=\"127\" x2=\"143\" y1=\"656.16\" y2=\"656.16\"/></a><!--MD5=[f78a29d5932556fa1060671a2a6507d8]\n",
       "link E5 to E10--><a href=\"psysml:09169cbe-938d-4307-a584-0b24a5ad62ce\" target=\"_top\" title=\"psysml:09169cbe-938d-4307-a584-0b24a5ad62ce\" xlink:actuate=\"onRequest\" xlink:href=\"psysml:09169cbe-938d-4307-a584-0b24a5ad62ce\" xlink:show=\"new\" xlink:title=\"psysml:09169cbe-938d-4307-a584-0b24a5ad62ce\" xlink:type=\"simple\"><path d=\"M169,343.22 C169,343.22 169,428.9 169,428.9 \" fill=\"none\" id=\"E5-&gt;E10\" style=\"stroke: #383838; stroke-width: 1.0;\"/><polygon fill=\"#FFFFFF\" points=\"169,448.9,162,429.9,176,429.9,169,448.9\" style=\"stroke: #383838; stroke-width: 1.0;\"/><ellipse cx=\"164\" cy=\"424.2\" fill=\"#383838\" rx=\"2\" ry=\"2\" style=\"stroke: #383838; stroke-width: 1.0;\"/><ellipse cx=\"174\" cy=\"424.2\" fill=\"#383838\" rx=\"2\" ry=\"2\" style=\"stroke: #383838; stroke-width: 1.0;\"/></a><!--MD5=[8e04057e7b3cbc0dca4fc78ea351e2da]\n",
       "reverse link E10 to E3--><a href=\"psysml:75696b56-911c-4e7f-a413-6399c7af4d3a\" target=\"_top\" title=\"psysml:75696b56-911c-4e7f-a413-6399c7af4d3a\" xlink:actuate=\"onRequest\" xlink:href=\"psysml:75696b56-911c-4e7f-a413-6399c7af4d3a\" xlink:show=\"new\" xlink:title=\"psysml:75696b56-911c-4e7f-a413-6399c7af4d3a\" xlink:type=\"simple\"><path d=\"M127.67,435.74 C127.67,435.74 127.67,236.46 127.67,236.46 \" fill=\"none\" id=\"E10&lt;-E3\" style=\"stroke: #383838; stroke-width: 1.0;\"/><polygon fill=\"#FFFFFF\" points=\"127.67,448.74,131.67,442.74,127.67,436.74,123.67,442.74,127.67,448.74\" style=\"stroke: #383838; stroke-width: 1.0;\"/><text fill=\"#000000\" font-family=\"sans-serif\" font-size=\"13\" lengthAdjust=\"spacingAndGlyphs\" textLength=\"7\" x=\"105\" y=\"324.5669\">y</text></a><!--MD5=[604cbf994c02b74b117f728a71673cea]\n",
       "reverse link E10 to E6--><a href=\"psysml:75696b56-911c-4e7f-a413-6399c7af4d3a\" target=\"_top\" title=\"psysml:75696b56-911c-4e7f-a413-6399c7af4d3a\" xlink:actuate=\"onRequest\" xlink:href=\"psysml:75696b56-911c-4e7f-a413-6399c7af4d3a\" xlink:show=\"new\" xlink:title=\"psysml:75696b56-911c-4e7f-a413-6399c7af4d3a\" xlink:type=\"simple\"><path d=\"M135,538.07 C135,538.07 135,601.75 135,601.75 \" fill=\"none\" id=\"E10&lt;-E6\" style=\"stroke: #383838; stroke-width: 1.0;\"/><polygon fill=\"#FFFFFF\" points=\"135,525.07,131,531.07,135,537.07,139,531.07,135,525.07\" style=\"stroke: #383838; stroke-width: 1.0;\"/><text fill=\"#000000\" font-family=\"sans-serif\" font-size=\"13\" lengthAdjust=\"spacingAndGlyphs\" textLength=\"7\" x=\"136\" y=\"568.0669\">y</text></a><!--MD5=[4a24ffa50132d509ca6c4abd9819a0da]\n",
       "@startuml\r\n",
       "skinparam linetype ortho\r\n",
       "skinparam monochrome true\r\n",
       "skinparam classbackgroundcolor white\r\n",
       "skinparam shadowing false\r\n",
       "skinparam wrapWidth 300\r\n",
       "hide circle\r\n",
       "\r\n",
       "package \"PartTest\" as E1  [[psysml:538b1265-15ae-4afd-8dd2-ef0f57b41a53 ]]  {\r\n",
       "comp usage \"f: A \" as E2  <<(T,blue) part>> [[psysml:2c090466-3d5c-4444-ba17-090921dc2443 ]] {\r\n",
       "}\r\n",
       "comp def \"A\" as E3  <<(T,blue) part  def>> [[psysml:d1b7cfcb-f6eb-4e6c-b82e-69976e6757f6 ]] {\r\n",
       "- - attributes - -\r\n",
       "x\r\n",
       "y:> A::x\r\n",
       "}\r\n",
       "comp usage \"b: B \" as E4  <<(T,blue) part>> [[psysml:1aa2f075-dfbc-4c28-975e-f9b78ce76d6b ]] {\r\n",
       "}\r\n",
       "comp usage \"c: C \" as E5  <<(T,blue) port>> [[psysml:6b6fc427-035b-4f92-af2f-ae5f46ec13e5 ]] {\r\n",
       "}\r\n",
       "comp def \"<i>B</i>\" as E6  <<(T,blue) part  def>> [[psysml:286e6ef4-92d4-4c1b-a17d-09881da7698b ]] {\r\n",
       "}\r\n",
       "comp usage \"<i>a</i>: A \" as E7  <<(T,blue) part>> [[psysml:215e87e2-ee75-46c7-98ea-4ce8794cdbad ]] {\r\n",
       "}\r\n",
       "comp usage \"x: ~C \" as E8  <<(T,blue) port>> [[psysml:27d37788-2b75-4a5c-b4fe-9553c2483e93 ]] {\r\n",
       "}\r\n",
       "package \"P\" as E9  [[psysml:e555f4d2-547d-4756-8b33-5fda3be7b359 ]]  {\r\n",
       "}\r\n",
       "comp def \"C\" as E10  <<(T,blue) port  def>> [[psysml:3d6805d2-0d33-47df-af88-6771a9177656 ]] {\r\n",
       "- - parameters - -\r\n",
       "<b>in</b> y: A, B <b>alias</b> z2 \r\n",
       "}\r\n",
       "}\r\n",
       "E2 - -:|> E3 [[psysml:02703352-f69e-4a4b-893d-89c09588fdfd ]] \r\n",
       "E3 *- - \"1\"E4 [[psysml:e82a868e-a957-4308-9aca-5f2e1a046a10 ]] \r\n",
       "E3 o- - \"1\"E5 [[psysml:01f43deb-5863-4903-863e-c9a23e0a1180 ]] \r\n",
       "E4 - -:|> E6 [[psysml:6f8c5931-99ab-4f3d-9640-f9d86b709835 ]] \r\n",
       "E6 *- - \"1\"E7 [[psysml:ef71999d-b74e-4e5c-b2f7-aebb94a9d32a ]] \r\n",
       "E7 - -:|> E3 [[psysml:d4047a87-2764-4bb9-9711-6fad77bbdb97 ]] \r\n",
       "E6 o- - \"1\"E8 [[psysml:e9c4c173-85e4-4370-85e4-1c8f2eb4171b ]] \r\n",
       "E6 +- - E9 [[psysml:ab2aae6d-159f-4d7a-a99e-78671a533366 ]] \r\n",
       "E5 - -:|> E10 [[psysml:09169cbe-938d-4307-a584-0b24a5ad62ce ]] \r\n",
       "E10 o- - E3 [[psysml:75696b56-911c-4e7f-a413-6399c7af4d3a ]] : y\r\n",
       "E10 o- - E6 [[psysml:75696b56-911c-4e7f-a413-6399c7af4d3a ]] : y\r\n",
       "@enduml\r\n",
       "\n",
       "PlantUML version 1.2020.13(Sat Jun 13 12:26:38 UTC 2020)\n",
       "(EPL source distribution)\n",
       "Java Runtime: OpenJDK Runtime Environment\n",
       "JVM: OpenJDK 64-Bit Server VM\n",
       "Default Encoding: UTF-8\n",
       "Language: en\n",
       "Country: null\n",
       "--></g></svg>"
      ]
     },
     "execution_count": 52,
     "metadata": {},
     "output_type": "execute_result"
    }
   ],
   "source": [
    "%viz --style=\"ORTHOLINE\" --view=\"Tree\" \"PartTest\""
   ]
  },
  {
   "cell_type": "code",
   "execution_count": 53,
   "id": "5304edb5",
   "metadata": {
    "execution": {
     "iopub.execute_input": "2022-05-19T08:45:15.544696Z",
     "iopub.status.busy": "2022-05-19T08:45:15.544066Z",
     "iopub.status.idle": "2022-05-19T08:45:15.548993Z",
     "shell.execute_reply": "2022-05-19T08:45:15.548586Z"
    }
   },
   "outputs": [
    {
     "data": {
      "image/svg+xml": [
       "<?xml version=\"1.0\" encoding=\"UTF-8\" standalone=\"no\"?><svg xmlns=\"http://www.w3.org/2000/svg\" xmlns:xlink=\"http://www.w3.org/1999/xlink\" contentScriptType=\"application/ecmascript\" contentStyleType=\"text/css\" height=\"12px\" preserveAspectRatio=\"none\" style=\"width:12px;height:12px;\" version=\"1.1\" viewBox=\"0 0 12 12\" width=\"12px\" zoomAndPan=\"magnify\"><defs/><g><!--MD5=[97d6f38768b311333d388e66b2b27985]\n",
       "@startuml\r\n",
       "skinparam linetype ortho\r\n",
       "skinparam monochrome true\r\n",
       "skinparam classbackgroundcolor white\r\n",
       "skinparam shadowing false\r\n",
       "skinparam wrapWidth 300\r\n",
       "hide circle\r\n",
       "\r\n",
       "@enduml\r\n",
       "\n",
       "PlantUML version 1.2020.13(Sat Jun 13 12:26:38 UTC 2020)\n",
       "(EPL source distribution)\n",
       "Java Runtime: OpenJDK Runtime Environment\n",
       "JVM: OpenJDK 64-Bit Server VM\n",
       "Default Encoding: UTF-8\n",
       "Language: en\n",
       "Country: null\n",
       "--></g></svg>"
      ]
     },
     "execution_count": 53,
     "metadata": {},
     "output_type": "execute_result"
    }
   ],
   "source": [
    "%viz --style=\"ORTHOLINE\" --view=\"State\" \"PartTest\""
   ]
  },
  {
   "cell_type": "code",
   "execution_count": 54,
   "id": "175a198b",
   "metadata": {
    "execution": {
     "iopub.execute_input": "2022-05-19T08:45:15.598209Z",
     "iopub.status.busy": "2022-05-19T08:45:15.597588Z",
     "iopub.status.idle": "2022-05-19T08:45:15.626410Z",
     "shell.execute_reply": "2022-05-19T08:45:15.624972Z"
    }
   },
   "outputs": [
    {
     "data": {
      "image/svg+xml": [
       "<?xml version=\"1.0\" encoding=\"UTF-8\" standalone=\"no\"?><svg xmlns=\"http://www.w3.org/2000/svg\" xmlns:xlink=\"http://www.w3.org/1999/xlink\" contentScriptType=\"application/ecmascript\" contentStyleType=\"text/css\" height=\"429px\" preserveAspectRatio=\"none\" style=\"width:639px;height:429px;\" version=\"1.1\" viewBox=\"0 0 639 429\" width=\"639px\" zoomAndPan=\"magnify\"><defs/><g><!--MD5=[fbc87193dbaf4d95561dea2c320d4a47]\n",
       "cluster E1--><a href=\"psysml:538b1265-15ae-4afd-8dd2-ef0f57b41a53\" target=\"_top\" title=\"psysml:538b1265-15ae-4afd-8dd2-ef0f57b41a53\" xlink:actuate=\"onRequest\" xlink:href=\"psysml:538b1265-15ae-4afd-8dd2-ef0f57b41a53\" xlink:show=\"new\" xlink:title=\"psysml:538b1265-15ae-4afd-8dd2-ef0f57b41a53\" xlink:type=\"simple\"><polygon fill=\"#FFFFFF\" points=\"16,6,80,6,87,28.2969,617,28.2969,617,417.5,16,417.5,16,6\" style=\"stroke: #000000; stroke-width: 1.5;\"/><line style=\"stroke: #000000; stroke-width: 1.5;\" x1=\"16\" x2=\"87\" y1=\"28.2969\" y2=\"28.2969\"/><text fill=\"#000000\" font-family=\"sans-serif\" font-size=\"14\" font-weight=\"bold\" lengthAdjust=\"spacingAndGlyphs\" textLength=\"58\" x=\"20\" y=\"20.9951\">PartTest</text></a><!--MD5=[d5e69f78d87373223dbae638b30a9c99]\n",
       "cluster E3--><a href=\"psysml:d1b7cfcb-f6eb-4e6c-b82e-69976e6757f6\" target=\"_top\" title=\"psysml:d1b7cfcb-f6eb-4e6c-b82e-69976e6757f6\" xlink:actuate=\"onRequest\" xlink:href=\"psysml:d1b7cfcb-f6eb-4e6c-b82e-69976e6757f6\" xlink:show=\"new\" xlink:title=\"psysml:d1b7cfcb-f6eb-4e6c-b82e-69976e6757f6\" xlink:type=\"simple\"><rect fill=\"#FFFFFF\" height=\"171.5\" id=\"E3\" style=\"stroke: #383838; stroke-width: 1.5;\" width=\"246\" x=\"98\" y=\"63\"/><rect fill=\"#F8F8F8\" height=\"37.9375\" style=\"stroke: #383838; stroke-width: 1.5;\" width=\"246\" x=\"98\" y=\"63\"/><text fill=\"#000000\" font-family=\"sans-serif\" font-size=\"12\" font-style=\"italic\" lengthAdjust=\"spacingAndGlyphs\" textLength=\"68\" x=\"187\" y=\"79.1387\">«part  def»</text><text fill=\"#000000\" font-family=\"sans-serif\" font-size=\"12\" lengthAdjust=\"spacingAndGlyphs\" textLength=\"8\" x=\"217\" y=\"93.1074\">A</text></a><!--MD5=[55dfccfc6c49c2d10cd1bd2211a6c90c]\n",
       "cluster E8--><a href=\"psysml:286e6ef4-92d4-4c1b-a17d-09881da7698b\" target=\"_top\" title=\"psysml:286e6ef4-92d4-4c1b-a17d-09881da7698b\" xlink:actuate=\"onRequest\" xlink:href=\"psysml:286e6ef4-92d4-4c1b-a17d-09881da7698b\" xlink:show=\"new\" xlink:title=\"psysml:286e6ef4-92d4-4c1b-a17d-09881da7698b\" xlink:type=\"simple\"><rect fill=\"#FFFFFF\" height=\"206\" id=\"E8\" style=\"stroke: #383838; stroke-width: 1.5;\" width=\"225\" x=\"368\" y=\"187.5\"/><rect fill=\"#F8F8F8\" height=\"37.9375\" style=\"stroke: #383838; stroke-width: 1.5;\" width=\"225\" x=\"368\" y=\"187.5\"/><text fill=\"#000000\" font-family=\"sans-serif\" font-size=\"12\" font-style=\"italic\" lengthAdjust=\"spacingAndGlyphs\" textLength=\"68\" x=\"446.5\" y=\"203.6387\">«part  def»</text><text fill=\"#000000\" font-family=\"sans-serif\" font-size=\"12\" font-style=\"italic\" lengthAdjust=\"spacingAndGlyphs\" textLength=\"8\" x=\"476.5\" y=\"217.6074\">B</text></a><g id=\"E1.E12\"><a href=\"psysml:3d6805d2-0d33-47df-af88-6771a9177656\" target=\"_top\" title=\"psysml:3d6805d2-0d33-47df-af88-6771a9177656\" xlink:actuate=\"onRequest\" xlink:href=\"psysml:3d6805d2-0d33-47df-af88-6771a9177656\" xlink:show=\"new\" xlink:title=\"psysml:3d6805d2-0d33-47df-af88-6771a9177656\" xlink:type=\"simple\"><rect fill=\"#FFFFFF\" height=\"42.9375\" id=\"E12\" style=\"stroke: #383838; stroke-width: 1.5;\" width=\"75\" x=\"442.5\" y=\"41.5\"/><rect fill=\"#F8F8F8\" height=\"37.9375\" style=\"stroke: #383838; stroke-width: 1.5;\" width=\"75\" x=\"442.5\" y=\"41.5\"/><text fill=\"#000000\" font-family=\"sans-serif\" font-size=\"12\" font-style=\"italic\" lengthAdjust=\"spacingAndGlyphs\" textLength=\"68\" x=\"446\" y=\"57.6387\">«port  def»</text><text fill=\"#000000\" font-family=\"sans-serif\" font-size=\"12\" lengthAdjust=\"spacingAndGlyphs\" textLength=\"8\" x=\"476\" y=\"71.6074\">C</text></a></g><g id=\"E1.E2\"><a href=\"psysml:2c090466-3d5c-4444-ba17-090921dc2443\" target=\"_top\" title=\"psysml:2c090466-3d5c-4444-ba17-090921dc2443\" xlink:actuate=\"onRequest\" xlink:href=\"psysml:2c090466-3d5c-4444-ba17-090921dc2443\" xlink:show=\"new\" xlink:title=\"psysml:2c090466-3d5c-4444-ba17-090921dc2443\" xlink:type=\"simple\"><rect fill=\"#FFFFFF\" height=\"40\" id=\"E2\" rx=\"10\" ry=\"10\" style=\"stroke: #383838; stroke-width: 1.5;\" width=\"50\" x=\"32\" y=\"43\"/><rect fill=\"#F8F8F8\" height=\"23.9688\" rx=\"10\" ry=\"10\" style=\"stroke: #F8F8F8; stroke-width: 1.5;\" width=\"50\" x=\"32\" y=\"43\"/><rect fill=\"#F8F8F8\" height=\"10\" style=\"stroke: #F8F8F8; stroke-width: 1.5;\" width=\"50\" x=\"32\" y=\"56.9688\"/><rect fill=\"none\" height=\"40\" id=\"E2\" rx=\"10\" ry=\"10\" style=\"stroke: #383838; stroke-width: 1.5;\" width=\"50\" x=\"32\" y=\"43\"/><text fill=\"#000000\" font-family=\"sans-serif\" font-size=\"12\" lengthAdjust=\"spacingAndGlyphs\" textLength=\"20\" x=\"47\" y=\"59.1387\">f: A</text></a></g><text fill=\"#000000\" font-family=\"sans-serif\" font-size=\"14\" lengthAdjust=\"spacingAndGlyphs\" textLength=\"27\" x=\"258.5\" y=\"41.6982\">c: C</text><rect fill=\"#383838\" height=\"12\" style=\"stroke: #F8F8F8; stroke-width: 1.5;\" width=\"12\" x=\"268\" y=\"57\"/><!--MD5=[60a26617385b1d2d0262a64233df1f8d]\n",
       "class E6--><a href=\"psysml:06f02a55-455e-4cd3-969d-a4f55ea12e51\" target=\"_top\" title=\"psysml:06f02a55-455e-4cd3-969d-a4f55ea12e51\" xlink:actuate=\"onRequest\" xlink:href=\"psysml:06f02a55-455e-4cd3-969d-a4f55ea12e51\" xlink:show=\"new\" xlink:title=\"psysml:06f02a55-455e-4cd3-969d-a4f55ea12e51\" xlink:type=\"simple\"><rect fill=\"#FFFFFF\" height=\"45.9375\" id=\"E6\" rx=\"10\" ry=\"10\" style=\"stroke: #383838; stroke-width: 1.5;\" width=\"71\" x=\"122.5\" y=\"164.5\"/><text fill=\"#000000\" font-family=\"sans-serif\" font-size=\"12\" font-style=\"italic\" lengthAdjust=\"spacingAndGlyphs\" textLength=\"69\" x=\"123.5\" y=\"180.6387\">«attribute»</text><text fill=\"#000000\" font-family=\"sans-serif\" font-size=\"12\" lengthAdjust=\"spacingAndGlyphs\" textLength=\"6\" x=\"153\" y=\"194.6074\">x</text><line style=\"stroke: #383838; stroke-width: 1.5;\" x1=\"123.5\" x2=\"192.5\" y1=\"202.4375\" y2=\"202.4375\"/></a><!--MD5=[2156ba9850f5573cc1fc38a6a4b2f02b]\n",
       "class E7--><a href=\"psysml:76b35b38-8c6d-4280-8e5f-8b677c2aa039\" target=\"_top\" title=\"psysml:76b35b38-8c6d-4280-8e5f-8b677c2aa039\" xlink:actuate=\"onRequest\" xlink:href=\"psysml:76b35b38-8c6d-4280-8e5f-8b677c2aa039\" xlink:show=\"new\" xlink:title=\"psysml:76b35b38-8c6d-4280-8e5f-8b677c2aa039\" xlink:type=\"simple\"><rect fill=\"#FFFFFF\" height=\"45.9375\" id=\"E7\" rx=\"10\" ry=\"10\" style=\"stroke: #383838; stroke-width: 1.5;\" width=\"71\" x=\"122.5\" y=\"108.5\"/><text fill=\"#000000\" font-family=\"sans-serif\" font-size=\"12\" font-style=\"italic\" lengthAdjust=\"spacingAndGlyphs\" textLength=\"69\" x=\"123.5\" y=\"124.6387\">«attribute»</text><text fill=\"#000000\" font-family=\"sans-serif\" font-size=\"12\" lengthAdjust=\"spacingAndGlyphs\" textLength=\"50\" x=\"133\" y=\"138.6074\">y :&gt; A::x</text><line style=\"stroke: #383838; stroke-width: 1.5;\" x1=\"123.5\" x2=\"192.5\" y1=\"146.4375\" y2=\"146.4375\"/></a><g id=\"E1.E3.E4\"><a href=\"psysml:1aa2f075-dfbc-4c28-975e-f9b78ce76d6b\" target=\"_top\" title=\"psysml:1aa2f075-dfbc-4c28-975e-f9b78ce76d6b\" xlink:actuate=\"onRequest\" xlink:href=\"psysml:1aa2f075-dfbc-4c28-975e-f9b78ce76d6b\" xlink:show=\"new\" xlink:title=\"psysml:1aa2f075-dfbc-4c28-975e-f9b78ce76d6b\" xlink:type=\"simple\"><rect fill=\"#FFFFFF\" height=\"40\" id=\"E4\" rx=\"10\" ry=\"10\" style=\"stroke: #383838; stroke-width: 1.5;\" width=\"50\" x=\"259\" y=\"167.5\"/><rect fill=\"#F8F8F8\" height=\"23.9688\" rx=\"10\" ry=\"10\" style=\"stroke: #F8F8F8; stroke-width: 1.5;\" width=\"50\" x=\"259\" y=\"167.5\"/><rect fill=\"#F8F8F8\" height=\"10\" style=\"stroke: #F8F8F8; stroke-width: 1.5;\" width=\"50\" x=\"259\" y=\"181.4688\"/><rect fill=\"none\" height=\"40\" id=\"E4\" rx=\"10\" ry=\"10\" style=\"stroke: #383838; stroke-width: 1.5;\" width=\"50\" x=\"259\" y=\"167.5\"/><text fill=\"#000000\" font-family=\"sans-serif\" font-size=\"12\" lengthAdjust=\"spacingAndGlyphs\" textLength=\"24\" x=\"272\" y=\"183.6387\">b: B</text></a></g><text fill=\"#000000\" font-family=\"sans-serif\" font-size=\"14\" lengthAdjust=\"spacingAndGlyphs\" textLength=\"38\" x=\"502\" y=\"166.1982\">x: ~C</text><rect fill=\"#383838\" height=\"12\" style=\"stroke: #F8F8F8; stroke-width: 1.5;\" width=\"12\" x=\"517\" y=\"181.5\"/><g id=\"E1.E8.E9\"><a href=\"psysml:215e87e2-ee75-46c7-98ea-4ce8794cdbad\" target=\"_top\" title=\"psysml:215e87e2-ee75-46c7-98ea-4ce8794cdbad\" xlink:actuate=\"onRequest\" xlink:href=\"psysml:215e87e2-ee75-46c7-98ea-4ce8794cdbad\" xlink:show=\"new\" xlink:title=\"psysml:215e87e2-ee75-46c7-98ea-4ce8794cdbad\" xlink:type=\"simple\"><rect fill=\"#FFFFFF\" height=\"40\" id=\"E9\" rx=\"10\" ry=\"10\" style=\"stroke: #383838; stroke-width: 1.5;\" width=\"50\" x=\"392\" y=\"266.5\"/><rect fill=\"#F8F8F8\" height=\"23.9688\" rx=\"10\" ry=\"10\" style=\"stroke: #F8F8F8; stroke-width: 1.5;\" width=\"50\" x=\"392\" y=\"266.5\"/><rect fill=\"#F8F8F8\" height=\"10\" style=\"stroke: #F8F8F8; stroke-width: 1.5;\" width=\"50\" x=\"392\" y=\"280.4688\"/><rect fill=\"none\" height=\"40\" id=\"E9\" rx=\"10\" ry=\"10\" style=\"stroke: #383838; stroke-width: 1.5;\" width=\"50\" x=\"392\" y=\"266.5\"/><text fill=\"#000000\" font-family=\"sans-serif\" font-size=\"12\" lengthAdjust=\"spacingAndGlyphs\" textLength=\"24\" x=\"405\" y=\"282.6387\">a: A</text></a></g><a href=\"psysml:e555f4d2-547d-4756-8b33-5fda3be7b359\" target=\"_top\" title=\"psysml:e555f4d2-547d-4756-8b33-5fda3be7b359\" xlink:actuate=\"onRequest\" xlink:href=\"psysml:e555f4d2-547d-4756-8b33-5fda3be7b359\" xlink:show=\"new\" xlink:title=\"psysml:e555f4d2-547d-4756-8b33-5fda3be7b359\" xlink:type=\"simple\"><polygon fill=\"#FFFFFF\" points=\"508.5,316.5,523.5,316.5,530.5,338.7969,537.5,338.7969,537.5,369.0938,508.5,369.0938,508.5,316.5\" style=\"stroke: #000000; stroke-width: 1.5;\"/><line style=\"stroke: #000000; stroke-width: 1.5;\" x1=\"508.5\" x2=\"530.5\" y1=\"338.7969\" y2=\"338.7969\"/><text fill=\"#000000\" font-family=\"sans-serif\" font-size=\"14\" font-weight=\"bold\" lengthAdjust=\"spacingAndGlyphs\" textLength=\"9\" x=\"512.5\" y=\"331.4951\">P</text></a><!--MD5=[2720a5a1f2c3fca2055b230370638851]\n",
       "link E2 to E3--><a href=\"psysml:02703352-f69e-4a4b-893d-89c09588fdfd\" target=\"_top\" title=\"psysml:02703352-f69e-4a4b-893d-89c09588fdfd\" xlink:actuate=\"onRequest\" xlink:href=\"psysml:02703352-f69e-4a4b-893d-89c09588fdfd\" xlink:show=\"new\" xlink:title=\"psysml:02703352-f69e-4a4b-893d-89c09588fdfd\" xlink:type=\"simple\"><path d=\"M82,76.5 C85.24,76.5 88.7244,76.5 92.41,76.5 C93.3314,76.5 94.2654,76.5 95.2113,76.5 C95.6842,76.5 96.1602,76.5 96.639,76.5 C96.8784,76.5 97.1185,76.5 97.3593,76.5 \" fill=\"none\" id=\"E2-&gt;E3\" style=\"stroke: #383838; stroke-width: 1.0;\"/><polygon fill=\"#FFFFFF\" points=\"97.3593,76.5,78.3593,83.5,78.3593,69.5,97.3593,76.5\" style=\"stroke: #383838; stroke-width: 1.0;\"/><ellipse cx=\"72.6593\" cy=\"81.5\" fill=\"#383838\" rx=\"2\" ry=\"2\" style=\"stroke: #383838; stroke-width: 1.0;\"/><ellipse cx=\"72.6593\" cy=\"71.5\" fill=\"#383838\" rx=\"2\" ry=\"2\" style=\"stroke: #383838; stroke-width: 1.0;\"/></a><!--MD5=[353cdda3e1e05fc02373f055b6f604ae]\n",
       "link E4 to E8--><a href=\"psysml:6f8c5931-99ab-4f3d-9640-f9d86b709835\" target=\"_top\" title=\"psysml:6f8c5931-99ab-4f3d-9640-f9d86b709835\" xlink:actuate=\"onRequest\" xlink:href=\"psysml:6f8c5931-99ab-4f3d-9640-f9d86b709835\" xlink:show=\"new\" xlink:title=\"psysml:6f8c5931-99ab-4f3d-9640-f9d86b709835\" xlink:type=\"simple\"><path d=\"M309.3,200.5 C323.4225,200.5 342.2306,200.5 362.4989,200.5 C363.7657,200.5 365.0381,200.5 366.3155,200.5 C366.6349,200.5 366.9545,200.5 367.2745,200.5 \" fill=\"none\" id=\"E4-&gt;E8\" style=\"stroke: #383838; stroke-width: 1.0;\"/><polygon fill=\"#FFFFFF\" points=\"367.2745,200.5,348.2745,207.5,348.2745,193.5,367.2745,200.5\" style=\"stroke: #383838; stroke-width: 1.0;\"/><ellipse cx=\"342.5745\" cy=\"205.5\" fill=\"#383838\" rx=\"2\" ry=\"2\" style=\"stroke: #383838; stroke-width: 1.0;\"/><ellipse cx=\"342.5745\" cy=\"195.5\" fill=\"#383838\" rx=\"2\" ry=\"2\" style=\"stroke: #383838; stroke-width: 1.0;\"/></a><!--MD5=[fbb449814971db3a0b8220cf225b9e01]\n",
       "link E7 to E6--><a href=\"psysml:ae54614b-4129-4b1b-b401-8ec489119004\" target=\"_top\" title=\"psysml:ae54614b-4129-4b1b-b401-8ec489119004\" xlink:actuate=\"onRequest\" xlink:href=\"psysml:ae54614b-4129-4b1b-b401-8ec489119004\" xlink:show=\"new\" xlink:title=\"psysml:ae54614b-4129-4b1b-b401-8ec489119004\" xlink:type=\"simple\"><path d=\"M158,154.6 C158,154.6 158,155.59 158,155.59 \" fill=\"none\" id=\"E7-&gt;E6\" style=\"stroke: #383838; stroke-width: 1.0;\"/><polygon fill=\"none\" points=\"165,144.45,158,164.45,151,144.45,165,144.45\" style=\"stroke: #383838; stroke-width: 1.0;\"/></a><!--MD5=[92a97fc68b0cf8efbbf01f4f6b4ceef7]\n",
       "link E9 to E3--><a href=\"psysml:d4047a87-2764-4bb9-9711-6fad77bbdb97\" target=\"_top\" title=\"psysml:d4047a87-2764-4bb9-9711-6fad77bbdb97\" xlink:actuate=\"onRequest\" xlink:href=\"psysml:d4047a87-2764-4bb9-9711-6fad77bbdb97\" xlink:show=\"new\" xlink:title=\"psysml:d4047a87-2764-4bb9-9711-6fad77bbdb97\" xlink:type=\"simple\"><path d=\"M391.86,286.5 C361.45,286.5 314.25,286.5 314.25,286.5 C314.25,286.5 314.25,280.4681 314.25,270.7842 C314.25,265.9423 314.25,260.1873 314.25,253.8168 C314.25,250.6316 314.25,247.2924 314.25,243.8366 C314.25,242.1087 314.25,240.3516 314.25,238.57 C314.25,237.6792 314.25,236.7823 314.25,235.8798 C314.25,235.4285 314.25,234.9759 314.25,234.522 \" fill=\"none\" id=\"E9-&gt;E3\" style=\"stroke: #383838; stroke-width: 1.0;\"/><polygon fill=\"#FFFFFF\" points=\"314.25,234.522,321.25,253.522,307.25,253.522,314.25,234.522\" style=\"stroke: #383838; stroke-width: 1.0;\"/><ellipse cx=\"319.25\" cy=\"259.222\" fill=\"#383838\" rx=\"2\" ry=\"2\" style=\"stroke: #383838; stroke-width: 1.0;\"/><ellipse cx=\"309.25\" cy=\"259.222\" fill=\"#383838\" rx=\"2\" ry=\"2\" style=\"stroke: #383838; stroke-width: 1.0;\"/></a><!--MD5=[a90ab51abdff06cc2859665955720970]\n",
       "@startuml\r\n",
       "skinparam ranksep 10\r\n",
       "skinparam rectangle {\r\n",
       " backgroundColor<<block>> LightGreen\r\n",
       "}\r\n",
       "skinparam linetype ortho\r\n",
       "skinparam monochrome true\r\n",
       "skinparam classbackgroundcolor white\r\n",
       "skinparam shadowing false\r\n",
       "skinparam wrapWidth 300\r\n",
       "hide circle\r\n",
       "\r\n",
       "package \"PartTest\" as E1  [[psysml:538b1265-15ae-4afd-8dd2-ef0f57b41a53 ]]  {\r\n",
       "rec usage \"f: A\" as E2  [[psysml:2c090466-3d5c-4444-ba17-090921dc2443 ]] {\r\n",
       "}\r\n",
       "rec def \"A\" as E3  <<(T,blue) part  def>> [[psysml:d1b7cfcb-f6eb-4e6c-b82e-69976e6757f6 ]] {\r\n",
       "rec usage \"b: B\" as E4  [[psysml:1aa2f075-dfbc-4c28-975e-f9b78ce76d6b ]] {\r\n",
       "}\r\n",
       "portin \"c: C \" as E5  <<(T,blue) port>> [[psysml:6b6fc427-035b-4f92-af2f-ae5f46ec13e5 ]] \r\n",
       "comp usage \"x \" as E6  <<(T,blue) attribute>> [[psysml:06f02a55-455e-4cd3-969d-a4f55ea12e51 ]] {\r\n",
       "}\r\n",
       "comp usage \"y :> A::x\" as E7  <<(T,blue) attribute>> [[psysml:76b35b38-8c6d-4280-8e5f-8b677c2aa039 ]] {\r\n",
       "}\r\n",
       "}\r\n",
       "rec def \"<i>B</i>\" as E8  <<(T,blue) part  def>> [[psysml:286e6ef4-92d4-4c1b-a17d-09881da7698b ]] {\r\n",
       "rec usage \"a: A\" as E9  [[psysml:215e87e2-ee75-46c7-98ea-4ce8794cdbad ]] {\r\n",
       "}\r\n",
       "portin \"x: ~C \" as E10  <<(T,blue) port>> [[psysml:27d37788-2b75-4a5c-b4fe-9553c2483e93 ]] \r\n",
       "package \"P\" as E11  [[psysml:e555f4d2-547d-4756-8b33-5fda3be7b359 ]]  {\r\n",
       "}\r\n",
       "}\r\n",
       "def \"C\" as E12  <<(T,blue) port  def>> [[psysml:3d6805d2-0d33-47df-af88-6771a9177656 ]] \r\n",
       "}\r\n",
       "E2 - -:|> E3 [[psysml:02703352-f69e-4a4b-893d-89c09588fdfd ]] \r\n",
       "E4 - -:|> E8 [[psysml:6f8c5931-99ab-4f3d-9640-f9d86b709835 ]] \r\n",
       "E7 - -|> E6 [[psysml:ae54614b-4129-4b1b-b401-8ec489119004 ]] \r\n",
       "E9 - -:|> E3 [[psysml:d4047a87-2764-4bb9-9711-6fad77bbdb97 ]] \r\n",
       "@enduml\r\n",
       "\n",
       "PlantUML version 1.2020.13(Sat Jun 13 12:26:38 UTC 2020)\n",
       "(EPL source distribution)\n",
       "Java Runtime: OpenJDK Runtime Environment\n",
       "JVM: OpenJDK 64-Bit Server VM\n",
       "Default Encoding: UTF-8\n",
       "Language: en\n",
       "Country: null\n",
       "--></g></svg>"
      ]
     },
     "execution_count": 54,
     "metadata": {},
     "output_type": "execute_result"
    }
   ],
   "source": [
    "%viz --style=\"ORTHOLINE\" --view=\"Interconnection\" \"PartTest\""
   ]
  },
  {
   "cell_type": "code",
   "execution_count": 55,
   "id": "c4ea9fcc",
   "metadata": {
    "execution": {
     "iopub.execute_input": "2022-05-19T08:45:15.675923Z",
     "iopub.status.busy": "2022-05-19T08:45:15.675459Z",
     "iopub.status.idle": "2022-05-19T08:45:15.678462Z",
     "shell.execute_reply": "2022-05-19T08:45:15.678031Z"
    }
   },
   "outputs": [
    {
     "data": {
      "image/svg+xml": [
       "<?xml version=\"1.0\" encoding=\"UTF-8\" standalone=\"no\"?><svg xmlns=\"http://www.w3.org/2000/svg\" xmlns:xlink=\"http://www.w3.org/1999/xlink\" contentScriptType=\"application/ecmascript\" contentStyleType=\"text/css\" height=\"12px\" preserveAspectRatio=\"none\" style=\"width:12px;height:12px;\" version=\"1.1\" viewBox=\"0 0 12 12\" width=\"12px\" zoomAndPan=\"magnify\"><defs/><g><!--MD5=[72934c63077099a26744516a776b4749]\n",
       "@startuml\r\n",
       "skinparam ranksep 8\r\n",
       "skinparam linetype ortho\r\n",
       "skinparam monochrome true\r\n",
       "skinparam classbackgroundcolor white\r\n",
       "skinparam shadowing false\r\n",
       "skinparam wrapWidth 300\r\n",
       "hide circle\r\n",
       "\r\n",
       "@enduml\r\n",
       "\n",
       "PlantUML version 1.2020.13(Sat Jun 13 12:26:38 UTC 2020)\n",
       "(EPL source distribution)\n",
       "Java Runtime: OpenJDK Runtime Environment\n",
       "JVM: OpenJDK 64-Bit Server VM\n",
       "Default Encoding: UTF-8\n",
       "Language: en\n",
       "Country: null\n",
       "--></g></svg>"
      ]
     },
     "execution_count": 55,
     "metadata": {},
     "output_type": "execute_result"
    }
   ],
   "source": [
    "%viz --style=\"ORTHOLINE\" --view=\"Action\" \"PartTest\""
   ]
  },
  {
   "cell_type": "code",
   "execution_count": 56,
   "id": "55f2dcbb",
   "metadata": {
    "execution": {
     "iopub.execute_input": "2022-05-19T08:45:15.728167Z",
     "iopub.status.busy": "2022-05-19T08:45:15.727685Z",
     "iopub.status.idle": "2022-05-19T08:45:15.731464Z",
     "shell.execute_reply": "2022-05-19T08:45:15.731045Z"
    }
   },
   "outputs": [
    {
     "data": {
      "image/svg+xml": [
       "<?xml version=\"1.0\" encoding=\"UTF-8\" standalone=\"no\"?><svg xmlns=\"http://www.w3.org/2000/svg\" xmlns:xlink=\"http://www.w3.org/1999/xlink\" contentScriptType=\"application/ecmascript\" contentStyleType=\"text/css\" height=\"12px\" preserveAspectRatio=\"none\" style=\"width:12px;height:12px;\" version=\"1.1\" viewBox=\"0 0 12 12\" width=\"12px\" zoomAndPan=\"magnify\"><defs/><g><!--MD5=[30fc1de5121c5abddedd55b44417fde8]\n",
       "@startuml\r\n",
       "skinparam roundcorner 20\r\n",
       "skinparam BoxPadding 20\r\n",
       "skinparam SequenceBoxBackgroundColor #white\r\n",
       "skinparam style strictuml\r\n",
       "skinparam maxMessageSize 100\r\n",
       "skinparam linetype ortho\r\n",
       "skinparam monochrome true\r\n",
       "skinparam classbackgroundcolor white\r\n",
       "skinparam shadowing false\r\n",
       "skinparam wrapWidth 300\r\n",
       "hide circle\r\n",
       "\r\n",
       "@enduml\r\n",
       "\n",
       "PlantUML version 1.2020.13(Sat Jun 13 12:26:38 UTC 2020)\n",
       "(EPL source distribution)\n",
       "Java Runtime: OpenJDK Runtime Environment\n",
       "JVM: OpenJDK 64-Bit Server VM\n",
       "Default Encoding: UTF-8\n",
       "Language: en\n",
       "Country: null\n",
       "--></g></svg>"
      ]
     },
     "execution_count": 56,
     "metadata": {},
     "output_type": "execute_result"
    }
   ],
   "source": [
    "%viz --style=\"ORTHOLINE\" --view=\"Sequence\" \"PartTest\""
   ]
  },
  {
   "cell_type": "code",
   "execution_count": 57,
   "id": "a1d72a77",
   "metadata": {
    "execution": {
     "iopub.execute_input": "2022-05-19T08:45:15.781318Z",
     "iopub.status.busy": "2022-05-19T08:45:15.780751Z",
     "iopub.status.idle": "2022-05-19T08:45:15.840987Z",
     "shell.execute_reply": "2022-05-19T08:45:15.839350Z"
    }
   },
   "outputs": [
    {
     "data": {
      "image/svg+xml": [
       "<?xml version=\"1.0\" encoding=\"UTF-8\" standalone=\"no\"?><svg xmlns=\"http://www.w3.org/2000/svg\" xmlns:xlink=\"http://www.w3.org/1999/xlink\" contentScriptType=\"application/ecmascript\" contentStyleType=\"text/css\" height=\"790px\" preserveAspectRatio=\"none\" style=\"width:265px;height:790px;\" version=\"1.1\" viewBox=\"0 0 265 790\" width=\"265px\" zoomAndPan=\"magnify\"><defs/><g><!--MD5=[fbc87193dbaf4d95561dea2c320d4a47]\n",
       "cluster E1--><a href=\"psysml:538b1265-15ae-4afd-8dd2-ef0f57b41a53\" target=\"_top\" title=\"psysml:538b1265-15ae-4afd-8dd2-ef0f57b41a53\" xlink:actuate=\"onRequest\" xlink:href=\"psysml:538b1265-15ae-4afd-8dd2-ef0f57b41a53\" xlink:show=\"new\" xlink:title=\"psysml:538b1265-15ae-4afd-8dd2-ef0f57b41a53\" xlink:type=\"simple\"><polygon fill=\"#FFFFFF\" points=\"16,6,80,6,87,28.2969,243,28.2969,243,778,16,778,16,6\" style=\"stroke: #000000; stroke-width: 1.5;\"/><line style=\"stroke: #000000; stroke-width: 1.5;\" x1=\"16\" x2=\"87\" y1=\"28.2969\" y2=\"28.2969\"/><text fill=\"#000000\" font-family=\"sans-serif\" font-size=\"14\" font-weight=\"bold\" lengthAdjust=\"spacingAndGlyphs\" textLength=\"58\" x=\"20\" y=\"20.9951\">PartTest</text></a><!--MD5=[b4997ac47864f28c2f74865a473b2911]\n",
       "class E2--><a href=\"psysml:2c090466-3d5c-4444-ba17-090921dc2443\" target=\"_top\" title=\"psysml:2c090466-3d5c-4444-ba17-090921dc2443\" xlink:actuate=\"onRequest\" xlink:href=\"psysml:2c090466-3d5c-4444-ba17-090921dc2443\" xlink:show=\"new\" xlink:title=\"psysml:2c090466-3d5c-4444-ba17-090921dc2443\" xlink:type=\"simple\"><rect fill=\"#FFFFFF\" height=\"45.9375\" id=\"E2\" rx=\"10\" ry=\"10\" style=\"stroke: #383838; stroke-width: 1.5;\" width=\"42\" x=\"101\" y=\"41\"/><text fill=\"#000000\" font-family=\"sans-serif\" font-size=\"12\" font-style=\"italic\" lengthAdjust=\"spacingAndGlyphs\" textLength=\"40\" x=\"102\" y=\"57.1387\">«part»</text><text fill=\"#000000\" font-family=\"sans-serif\" font-size=\"12\" lengthAdjust=\"spacingAndGlyphs\" textLength=\"20\" x=\"110\" y=\"71.1074\">f: A</text><line style=\"stroke: #383838; stroke-width: 1.5;\" x1=\"102\" x2=\"142\" y1=\"78.9375\" y2=\"78.9375\"/></a><!--MD5=[09b614a08d8cba4a07c9adeb5e0fee81]\n",
       "class E3--><a href=\"psysml:d1b7cfcb-f6eb-4e6c-b82e-69976e6757f6\" target=\"_top\" title=\"psysml:d1b7cfcb-f6eb-4e6c-b82e-69976e6757f6\" xlink:actuate=\"onRequest\" xlink:href=\"psysml:d1b7cfcb-f6eb-4e6c-b82e-69976e6757f6\" xlink:show=\"new\" xlink:title=\"psysml:d1b7cfcb-f6eb-4e6c-b82e-69976e6757f6\" xlink:type=\"simple\"><rect fill=\"#FFFFFF\" height=\"88.3516\" id=\"E3\" style=\"stroke: #383838; stroke-width: 1.5;\" width=\"70\" x=\"87\" y=\"148\"/><text fill=\"#000000\" font-family=\"sans-serif\" font-size=\"12\" font-style=\"italic\" lengthAdjust=\"spacingAndGlyphs\" textLength=\"68\" x=\"88\" y=\"164.1387\">«part  def»</text><text fill=\"#000000\" font-family=\"sans-serif\" font-size=\"12\" lengthAdjust=\"spacingAndGlyphs\" textLength=\"8\" x=\"118\" y=\"178.1074\">A</text><line style=\"stroke: #383838; stroke-width: 1.5;\" x1=\"88\" x2=\"156\" y1=\"185.9375\" y2=\"185.9375\"/><text fill=\"#000000\" font-family=\"sans-serif\" font-size=\"11\" lengthAdjust=\"spacingAndGlyphs\" textLength=\"6\" x=\"93\" y=\"216.9526\">x</text><text fill=\"#000000\" font-family=\"sans-serif\" font-size=\"11\" lengthAdjust=\"spacingAndGlyphs\" textLength=\"44\" x=\"93\" y=\"229.7573\">y:&gt; A::x</text><line style=\"stroke: #383838; stroke-width: 1.0;\" x1=\"88\" x2=\"94.5\" y1=\"200.3398\" y2=\"200.3398\"/><text fill=\"#000000\" font-family=\"sans-serif\" font-size=\"11\" lengthAdjust=\"spacingAndGlyphs\" textLength=\"55\" x=\"94.5\" y=\"203.6479\">attributes</text><line style=\"stroke: #383838; stroke-width: 1.0;\" x1=\"149.5\" x2=\"156\" y1=\"200.3398\" y2=\"200.3398\"/></a><!--MD5=[ebbe1d658d1005bcc118a6aa81145e00]\n",
       "class E4--><a href=\"psysml:1aa2f075-dfbc-4c28-975e-f9b78ce76d6b\" target=\"_top\" title=\"psysml:1aa2f075-dfbc-4c28-975e-f9b78ce76d6b\" xlink:actuate=\"onRequest\" xlink:href=\"psysml:1aa2f075-dfbc-4c28-975e-f9b78ce76d6b\" xlink:show=\"new\" xlink:title=\"psysml:1aa2f075-dfbc-4c28-975e-f9b78ce76d6b\" xlink:type=\"simple\"><rect fill=\"#FFFFFF\" height=\"45.9375\" id=\"E4\" rx=\"10\" ry=\"10\" style=\"stroke: #383838; stroke-width: 1.5;\" width=\"42\" x=\"32\" y=\"373\"/><text fill=\"#000000\" font-family=\"sans-serif\" font-size=\"12\" font-style=\"italic\" lengthAdjust=\"spacingAndGlyphs\" textLength=\"40\" x=\"33\" y=\"389.1387\">«part»</text><text fill=\"#000000\" font-family=\"sans-serif\" font-size=\"12\" lengthAdjust=\"spacingAndGlyphs\" textLength=\"24\" x=\"39\" y=\"403.1074\">b: B</text><line style=\"stroke: #383838; stroke-width: 1.5;\" x1=\"33\" x2=\"73\" y1=\"410.9375\" y2=\"410.9375\"/></a><!--MD5=[270fce915f116d4de14055a7c1d9a0f3]\n",
       "class E5--><a href=\"psysml:6b6fc427-035b-4f92-af2f-ae5f46ec13e5\" target=\"_top\" title=\"psysml:6b6fc427-035b-4f92-af2f-ae5f46ec13e5\" xlink:actuate=\"onRequest\" xlink:href=\"psysml:6b6fc427-035b-4f92-af2f-ae5f46ec13e5\" xlink:show=\"new\" xlink:title=\"psysml:6b6fc427-035b-4f92-af2f-ae5f46ec13e5\" xlink:type=\"simple\"><rect fill=\"#FFFFFF\" height=\"45.9375\" id=\"E5\" rx=\"10\" ry=\"10\" style=\"stroke: #383838; stroke-width: 1.5;\" width=\"42\" x=\"148\" y=\"297\"/><text fill=\"#000000\" font-family=\"sans-serif\" font-size=\"12\" font-style=\"italic\" lengthAdjust=\"spacingAndGlyphs\" textLength=\"40\" x=\"149\" y=\"313.1387\">«port»</text><text fill=\"#000000\" font-family=\"sans-serif\" font-size=\"12\" lengthAdjust=\"spacingAndGlyphs\" textLength=\"23\" x=\"155.5\" y=\"327.1074\">c: C</text><line style=\"stroke: #383838; stroke-width: 1.5;\" x1=\"149\" x2=\"189\" y1=\"334.9375\" y2=\"334.9375\"/></a><!--MD5=[60a26617385b1d2d0262a64233df1f8d]\n",
       "class E6--><a href=\"psysml:286e6ef4-92d4-4c1b-a17d-09881da7698b\" target=\"_top\" title=\"psysml:286e6ef4-92d4-4c1b-a17d-09881da7698b\" xlink:actuate=\"onRequest\" xlink:href=\"psysml:286e6ef4-92d4-4c1b-a17d-09881da7698b\" xlink:show=\"new\" xlink:title=\"psysml:286e6ef4-92d4-4c1b-a17d-09881da7698b\" xlink:type=\"simple\"><rect fill=\"#FFFFFF\" height=\"45.9375\" id=\"E6\" style=\"stroke: #383838; stroke-width: 1.5;\" width=\"70\" x=\"100\" y=\"602\"/><text fill=\"#000000\" font-family=\"sans-serif\" font-size=\"12\" font-style=\"italic\" lengthAdjust=\"spacingAndGlyphs\" textLength=\"68\" x=\"101\" y=\"618.1387\">«part  def»</text><text fill=\"#000000\" font-family=\"sans-serif\" font-size=\"12\" font-style=\"italic\" lengthAdjust=\"spacingAndGlyphs\" textLength=\"8\" x=\"131\" y=\"632.1074\">B</text><line style=\"stroke: #383838; stroke-width: 1.5;\" x1=\"101\" x2=\"169\" y1=\"639.9375\" y2=\"639.9375\"/></a><!--MD5=[2156ba9850f5573cc1fc38a6a4b2f02b]\n",
       "class E7--><a href=\"psysml:215e87e2-ee75-46c7-98ea-4ce8794cdbad\" target=\"_top\" title=\"psysml:215e87e2-ee75-46c7-98ea-4ce8794cdbad\" xlink:actuate=\"onRequest\" xlink:href=\"psysml:215e87e2-ee75-46c7-98ea-4ce8794cdbad\" xlink:show=\"new\" xlink:title=\"psysml:215e87e2-ee75-46c7-98ea-4ce8794cdbad\" xlink:type=\"simple\"><rect fill=\"#FFFFFF\" height=\"45.9375\" id=\"E7\" rx=\"10\" ry=\"10\" style=\"stroke: #383838; stroke-width: 1.5;\" width=\"42\" x=\"185\" y=\"712.5\"/><text fill=\"#000000\" font-family=\"sans-serif\" font-size=\"12\" font-style=\"italic\" lengthAdjust=\"spacingAndGlyphs\" textLength=\"40\" x=\"186\" y=\"728.6387\">«part»</text><text fill=\"#000000\" font-family=\"sans-serif\" font-size=\"12\" font-style=\"italic\" lengthAdjust=\"spacingAndGlyphs\" textLength=\"8\" x=\"192\" y=\"742.6074\">a</text><text fill=\"#000000\" font-family=\"sans-serif\" font-size=\"12\" lengthAdjust=\"spacingAndGlyphs\" textLength=\"16\" x=\"200\" y=\"742.6074\">: A</text><line style=\"stroke: #383838; stroke-width: 1.5;\" x1=\"186\" x2=\"226\" y1=\"750.4375\" y2=\"750.4375\"/></a><!--MD5=[b9389687b975829384b498ac4b7476b2]\n",
       "class E8--><a href=\"psysml:27d37788-2b75-4a5c-b4fe-9553c2483e93\" target=\"_top\" title=\"psysml:27d37788-2b75-4a5c-b4fe-9553c2483e93\" xlink:actuate=\"onRequest\" xlink:href=\"psysml:27d37788-2b75-4a5c-b4fe-9553c2483e93\" xlink:show=\"new\" xlink:title=\"psysml:27d37788-2b75-4a5c-b4fe-9553c2483e93\" xlink:type=\"simple\"><rect fill=\"#FFFFFF\" height=\"45.9375\" id=\"E8\" rx=\"10\" ry=\"10\" style=\"stroke: #383838; stroke-width: 1.5;\" width=\"42\" x=\"43\" y=\"712.5\"/><text fill=\"#000000\" font-family=\"sans-serif\" font-size=\"12\" font-style=\"italic\" lengthAdjust=\"spacingAndGlyphs\" textLength=\"40\" x=\"44\" y=\"728.6387\">«port»</text><text fill=\"#000000\" font-family=\"sans-serif\" font-size=\"12\" lengthAdjust=\"spacingAndGlyphs\" textLength=\"32\" x=\"46\" y=\"742.6074\">x: ~C</text><line style=\"stroke: #383838; stroke-width: 1.5;\" x1=\"44\" x2=\"84\" y1=\"750.4375\" y2=\"750.4375\"/></a><!--MD5=[96f4274e9e20536e775497830990834d]\n",
       "class E10--><a href=\"psysml:3d6805d2-0d33-47df-af88-6771a9177656\" target=\"_top\" title=\"psysml:3d6805d2-0d33-47df-af88-6771a9177656\" xlink:actuate=\"onRequest\" xlink:href=\"psysml:3d6805d2-0d33-47df-af88-6771a9177656\" xlink:show=\"new\" xlink:title=\"psysml:3d6805d2-0d33-47df-af88-6771a9177656\" xlink:type=\"simple\"><rect fill=\"#FFFFFF\" height=\"75.5469\" id=\"E10\" style=\"stroke: #383838; stroke-width: 1.5;\" width=\"110\" x=\"80\" y=\"449\"/><text fill=\"#000000\" font-family=\"sans-serif\" font-size=\"12\" font-style=\"italic\" lengthAdjust=\"spacingAndGlyphs\" textLength=\"68\" x=\"101\" y=\"465.1387\">«port  def»</text><text fill=\"#000000\" font-family=\"sans-serif\" font-size=\"12\" lengthAdjust=\"spacingAndGlyphs\" textLength=\"8\" x=\"131\" y=\"479.1074\">C</text><line style=\"stroke: #383838; stroke-width: 1.5;\" x1=\"81\" x2=\"189\" y1=\"486.9375\" y2=\"486.9375\"/><text fill=\"#000000\" font-family=\"sans-serif\" font-size=\"11\" font-weight=\"bold\" lengthAdjust=\"spacingAndGlyphs\" textLength=\"10\" x=\"86\" y=\"517.9526\">in</text><text fill=\"#000000\" font-family=\"sans-serif\" font-size=\"11\" lengthAdjust=\"spacingAndGlyphs\" textLength=\"37\" x=\"100\" y=\"517.9526\">y: A, B</text><text fill=\"#000000\" font-family=\"sans-serif\" font-size=\"11\" font-weight=\"bold\" lengthAdjust=\"spacingAndGlyphs\" textLength=\"27\" x=\"141\" y=\"517.9526\">alias</text><text fill=\"#000000\" font-family=\"sans-serif\" font-size=\"11\" lengthAdjust=\"spacingAndGlyphs\" textLength=\"12\" x=\"172\" y=\"517.9526\">z2</text><line style=\"stroke: #383838; stroke-width: 1.0;\" x1=\"81\" x2=\"101.5\" y1=\"501.3398\" y2=\"501.3398\"/><text fill=\"#000000\" font-family=\"sans-serif\" font-size=\"11\" lengthAdjust=\"spacingAndGlyphs\" textLength=\"67\" x=\"101.5\" y=\"504.6479\">parameters</text><line style=\"stroke: #383838; stroke-width: 1.0;\" x1=\"168.5\" x2=\"189\" y1=\"501.3398\" y2=\"501.3398\"/></a><a href=\"psysml:e555f4d2-547d-4756-8b33-5fda3be7b359\" target=\"_top\" title=\"psysml:e555f4d2-547d-4756-8b33-5fda3be7b359\" xlink:actuate=\"onRequest\" xlink:href=\"psysml:e555f4d2-547d-4756-8b33-5fda3be7b359\" xlink:show=\"new\" xlink:title=\"psysml:e555f4d2-547d-4756-8b33-5fda3be7b359\" xlink:type=\"simple\"><polygon fill=\"#FFFFFF\" points=\"120.5,709,135.5,709,142.5,731.2969,149.5,731.2969,149.5,761.5938,120.5,761.5938,120.5,709\" style=\"stroke: #000000; stroke-width: 1.5;\"/><line style=\"stroke: #000000; stroke-width: 1.5;\" x1=\"120.5\" x2=\"142.5\" y1=\"731.2969\" y2=\"731.2969\"/><text fill=\"#000000\" font-family=\"sans-serif\" font-size=\"14\" font-weight=\"bold\" lengthAdjust=\"spacingAndGlyphs\" textLength=\"9\" x=\"124.5\" y=\"723.9951\">P</text></a><!--MD5=[2720a5a1f2c3fca2055b230370638851]\n",
       "link E2 to E3--><a href=\"psysml:02703352-f69e-4a4b-893d-89c09588fdfd\" target=\"_top\" title=\"psysml:02703352-f69e-4a4b-893d-89c09588fdfd\" xlink:actuate=\"onRequest\" xlink:href=\"psysml:02703352-f69e-4a4b-893d-89c09588fdfd\" xlink:show=\"new\" xlink:title=\"psysml:02703352-f69e-4a4b-893d-89c09588fdfd\" xlink:type=\"simple\"><path d=\"M122,87.18 C122,87.18 122,127.76 122,127.76 \" fill=\"none\" id=\"E2-&gt;E3\" style=\"stroke: #383838; stroke-width: 1.0;\"/><polygon fill=\"#FFFFFF\" points=\"122,147.76,115,128.76,129,128.76,122,147.76\" style=\"stroke: #383838; stroke-width: 1.0;\"/><ellipse cx=\"117\" cy=\"123.06\" fill=\"#383838\" rx=\"2\" ry=\"2\" style=\"stroke: #383838; stroke-width: 1.0;\"/><ellipse cx=\"127\" cy=\"123.06\" fill=\"#383838\" rx=\"2\" ry=\"2\" style=\"stroke: #383838; stroke-width: 1.0;\"/></a><!--MD5=[4672eba38e49728da53d11aeb285b987]\n",
       "reverse link E3 to E4--><a href=\"psysml:e82a868e-a957-4308-9aca-5f2e1a046a10\" target=\"_top\" title=\"psysml:e82a868e-a957-4308-9aca-5f2e1a046a10\" xlink:actuate=\"onRequest\" xlink:href=\"psysml:e82a868e-a957-4308-9aca-5f2e1a046a10\" xlink:show=\"new\" xlink:title=\"psysml:e82a868e-a957-4308-9aca-5f2e1a046a10\" xlink:type=\"simple\"><path d=\"M107.33,249.01 C107.33,249.01 107.33,396 107.33,396 C107.33,396 89.42,396 74.16,396 \" fill=\"none\" id=\"E3&lt;-E4\" style=\"stroke: #383838; stroke-width: 1.0;\"/><polygon fill=\"#383838\" points=\"107.33,236.01,103.33,242.01,107.33,248.01,111.33,242.01,107.33,236.01\" style=\"stroke: #383838; stroke-width: 1.0;\"/><text fill=\"#000000\" font-family=\"sans-serif\" font-size=\"13\" lengthAdjust=\"spacingAndGlyphs\" textLength=\"8\" x=\"81.8653\" y=\"390.7999\">1</text></a><!--MD5=[191cde3d490a3f6d7bb551fe3ddca469]\n",
       "reverse link E3 to E5--><a href=\"psysml:01f43deb-5863-4903-863e-c9a23e0a1180\" target=\"_top\" title=\"psysml:01f43deb-5863-4903-863e-c9a23e0a1180\" xlink:actuate=\"onRequest\" xlink:href=\"psysml:01f43deb-5863-4903-863e-c9a23e0a1180\" xlink:show=\"new\" xlink:title=\"psysml:01f43deb-5863-4903-863e-c9a23e0a1180\" xlink:type=\"simple\"><path d=\"M152.5,249.05 C152.5,249.05 152.5,296.74 152.5,296.74 \" fill=\"none\" id=\"E3&lt;-E5\" style=\"stroke: #383838; stroke-width: 1.0;\"/><polygon fill=\"#FFFFFF\" points=\"152.5,236.05,148.5,242.05,152.5,248.05,156.5,242.05,152.5,236.05\" style=\"stroke: #383838; stroke-width: 1.0;\"/><text fill=\"#000000\" font-family=\"sans-serif\" font-size=\"13\" lengthAdjust=\"spacingAndGlyphs\" textLength=\"8\" x=\"139.2469\" y=\"285.9497\">1</text></a><!--MD5=[79568f1e445c3877b6a54524624ccc7d]\n",
       "link E4 to E6--><a href=\"psysml:6f8c5931-99ab-4f3d-9640-f9d86b709835\" target=\"_top\" title=\"psysml:6f8c5931-99ab-4f3d-9640-f9d86b709835\" xlink:actuate=\"onRequest\" xlink:href=\"psysml:6f8c5931-99ab-4f3d-9640-f9d86b709835\" xlink:show=\"new\" xlink:title=\"psysml:6f8c5931-99ab-4f3d-9640-f9d86b709835\" xlink:type=\"simple\"><path d=\"M58.5,419.22 C58.5,477.44 58.5,625 58.5,625 C58.5,625 79.88,625 79.88,625 \" fill=\"none\" id=\"E4-&gt;E6\" style=\"stroke: #383838; stroke-width: 1.0;\"/><polygon fill=\"#FFFFFF\" points=\"99.88,625,80.88,632,80.88,618,99.88,625\" style=\"stroke: #383838; stroke-width: 1.0;\"/><ellipse cx=\"75.18\" cy=\"630\" fill=\"#383838\" rx=\"2\" ry=\"2\" style=\"stroke: #383838; stroke-width: 1.0;\"/><ellipse cx=\"75.18\" cy=\"620\" fill=\"#383838\" rx=\"2\" ry=\"2\" style=\"stroke: #383838; stroke-width: 1.0;\"/></a><!--MD5=[3f50a3473f1dfb74d3f76443e03635af]\n",
       "reverse link E6 to E7--><a href=\"psysml:ef71999d-b74e-4e5c-b2f7-aebb94a9d32a\" target=\"_top\" title=\"psysml:ef71999d-b74e-4e5c-b2f7-aebb94a9d32a\" xlink:actuate=\"onRequest\" xlink:href=\"psysml:ef71999d-b74e-4e5c-b2f7-aebb94a9d32a\" xlink:show=\"new\" xlink:title=\"psysml:ef71999d-b74e-4e5c-b2f7-aebb94a9d32a\" xlink:type=\"simple\"><path d=\"M159.75,661.27 C159.75,661.27 159.75,736 159.75,736 C159.75,736 172.61,736 184.77,736 \" fill=\"none\" id=\"E6&lt;-E7\" style=\"stroke: #383838; stroke-width: 1.0;\"/><polygon fill=\"#383838\" points=\"159.75,648.27,155.75,654.27,159.75,660.27,163.75,654.27,159.75,648.27\" style=\"stroke: #383838; stroke-width: 1.0;\"/><text fill=\"#000000\" font-family=\"sans-serif\" font-size=\"13\" lengthAdjust=\"spacingAndGlyphs\" textLength=\"8\" x=\"169.0433\" y=\"730.9531\">1</text></a><!--MD5=[14ccda38c055a5c0da953d572bc50960]\n",
       "link E7 to E3--><a href=\"psysml:d4047a87-2764-4bb9-9711-6fad77bbdb97\" target=\"_top\" title=\"psysml:d4047a87-2764-4bb9-9711-6fad77bbdb97\" xlink:actuate=\"onRequest\" xlink:href=\"psysml:d4047a87-2764-4bb9-9711-6fad77bbdb97\" xlink:show=\"new\" xlink:title=\"psysml:d4047a87-2764-4bb9-9711-6fad77bbdb97\" xlink:type=\"simple\"><path d=\"M208.5,712.49 C208.5,609.05 208.5,192 208.5,192 C208.5,192 177.18,192 177.18,192 \" fill=\"none\" id=\"E7-&gt;E3\" style=\"stroke: #383838; stroke-width: 1.0;\"/><polygon fill=\"#FFFFFF\" points=\"157.18,192,176.18,185,176.18,199,157.18,192\" style=\"stroke: #383838; stroke-width: 1.0;\"/><ellipse cx=\"181.88\" cy=\"187\" fill=\"#383838\" rx=\"2\" ry=\"2\" style=\"stroke: #383838; stroke-width: 1.0;\"/><ellipse cx=\"181.88\" cy=\"197\" fill=\"#383838\" rx=\"2\" ry=\"2\" style=\"stroke: #383838; stroke-width: 1.0;\"/></a><!--MD5=[f4cf0736d43fd73c4ef68817c49d37d5]\n",
       "reverse link E6 to E8--><a href=\"psysml:e9c4c173-85e4-4370-85e4-1c8f2eb4171b\" target=\"_top\" title=\"psysml:e9c4c173-85e4-4370-85e4-1c8f2eb4171b\" xlink:actuate=\"onRequest\" xlink:href=\"psysml:e9c4c173-85e4-4370-85e4-1c8f2eb4171b\" xlink:show=\"new\" xlink:title=\"psysml:e9c4c173-85e4-4370-85e4-1c8f2eb4171b\" xlink:type=\"simple\"><path d=\"M110.25,661.27 C110.25,661.27 110.25,736 110.25,736 C110.25,736 97.39,736 85.23,736 \" fill=\"none\" id=\"E6&lt;-E8\" style=\"stroke: #383838; stroke-width: 1.0;\"/><polygon fill=\"#FFFFFF\" points=\"110.25,648.27,106.25,654.27,110.25,660.27,114.25,654.27,110.25,648.27\" style=\"stroke: #383838; stroke-width: 1.0;\"/><text fill=\"#000000\" font-family=\"sans-serif\" font-size=\"13\" lengthAdjust=\"spacingAndGlyphs\" textLength=\"8\" x=\"92.9567\" y=\"730.9531\">1</text></a><!--MD5=[e88d06e5a652d73a6b19930eefe025a8]\n",
       "reverse link E6 to E9--><a href=\"psysml:ab2aae6d-159f-4d7a-a99e-78671a533366\" target=\"_top\" title=\"psysml:ab2aae6d-159f-4d7a-a99e-78671a533366\" xlink:actuate=\"onRequest\" xlink:href=\"psysml:ab2aae6d-159f-4d7a-a99e-78671a533366\" xlink:show=\"new\" xlink:title=\"psysml:ab2aae6d-159f-4d7a-a99e-78671a533366\" xlink:type=\"simple\"><path d=\"M135,663.16 C135,663.16 135,708.87 135,708.87 \" fill=\"none\" id=\"E6&lt;-E9\" style=\"stroke: #383838; stroke-width: 1.0;\"/><ellipse cx=\"135\" cy=\"656.16\" fill=\"#FFFFFF\" rx=\"8\" ry=\"8\" style=\"stroke: #383838; stroke-width: 1.0;\"/><line style=\"stroke: #383838; stroke-width: 1.0;\" x1=\"135\" x2=\"135\" y1=\"664.16\" y2=\"648.16\"/><line style=\"stroke: #383838; stroke-width: 1.0;\" x1=\"127\" x2=\"143\" y1=\"656.16\" y2=\"656.16\"/></a><!--MD5=[f78a29d5932556fa1060671a2a6507d8]\n",
       "link E5 to E10--><a href=\"psysml:09169cbe-938d-4307-a584-0b24a5ad62ce\" target=\"_top\" title=\"psysml:09169cbe-938d-4307-a584-0b24a5ad62ce\" xlink:actuate=\"onRequest\" xlink:href=\"psysml:09169cbe-938d-4307-a584-0b24a5ad62ce\" xlink:show=\"new\" xlink:title=\"psysml:09169cbe-938d-4307-a584-0b24a5ad62ce\" xlink:type=\"simple\"><path d=\"M169,343.22 C169,343.22 169,428.9 169,428.9 \" fill=\"none\" id=\"E5-&gt;E10\" style=\"stroke: #383838; stroke-width: 1.0;\"/><polygon fill=\"#FFFFFF\" points=\"169,448.9,162,429.9,176,429.9,169,448.9\" style=\"stroke: #383838; stroke-width: 1.0;\"/><ellipse cx=\"164\" cy=\"424.2\" fill=\"#383838\" rx=\"2\" ry=\"2\" style=\"stroke: #383838; stroke-width: 1.0;\"/><ellipse cx=\"174\" cy=\"424.2\" fill=\"#383838\" rx=\"2\" ry=\"2\" style=\"stroke: #383838; stroke-width: 1.0;\"/></a><!--MD5=[8e04057e7b3cbc0dca4fc78ea351e2da]\n",
       "reverse link E10 to E3--><a href=\"psysml:75696b56-911c-4e7f-a413-6399c7af4d3a\" target=\"_top\" title=\"psysml:75696b56-911c-4e7f-a413-6399c7af4d3a\" xlink:actuate=\"onRequest\" xlink:href=\"psysml:75696b56-911c-4e7f-a413-6399c7af4d3a\" xlink:show=\"new\" xlink:title=\"psysml:75696b56-911c-4e7f-a413-6399c7af4d3a\" xlink:type=\"simple\"><path d=\"M127.67,435.74 C127.67,435.74 127.67,236.46 127.67,236.46 \" fill=\"none\" id=\"E10&lt;-E3\" style=\"stroke: #383838; stroke-width: 1.0;\"/><polygon fill=\"#FFFFFF\" points=\"127.67,448.74,131.67,442.74,127.67,436.74,123.67,442.74,127.67,448.74\" style=\"stroke: #383838; stroke-width: 1.0;\"/><text fill=\"#000000\" font-family=\"sans-serif\" font-size=\"13\" lengthAdjust=\"spacingAndGlyphs\" textLength=\"7\" x=\"105\" y=\"324.5669\">y</text></a><!--MD5=[604cbf994c02b74b117f728a71673cea]\n",
       "reverse link E10 to E6--><a href=\"psysml:75696b56-911c-4e7f-a413-6399c7af4d3a\" target=\"_top\" title=\"psysml:75696b56-911c-4e7f-a413-6399c7af4d3a\" xlink:actuate=\"onRequest\" xlink:href=\"psysml:75696b56-911c-4e7f-a413-6399c7af4d3a\" xlink:show=\"new\" xlink:title=\"psysml:75696b56-911c-4e7f-a413-6399c7af4d3a\" xlink:type=\"simple\"><path d=\"M135,538.07 C135,538.07 135,601.75 135,601.75 \" fill=\"none\" id=\"E10&lt;-E6\" style=\"stroke: #383838; stroke-width: 1.0;\"/><polygon fill=\"#FFFFFF\" points=\"135,525.07,131,531.07,135,537.07,139,531.07,135,525.07\" style=\"stroke: #383838; stroke-width: 1.0;\"/><text fill=\"#000000\" font-family=\"sans-serif\" font-size=\"13\" lengthAdjust=\"spacingAndGlyphs\" textLength=\"7\" x=\"136\" y=\"568.0669\">y</text></a><!--MD5=[4a24ffa50132d509ca6c4abd9819a0da]\n",
       "@startuml\r\n",
       "skinparam linetype ortho\r\n",
       "skinparam monochrome true\r\n",
       "skinparam classbackgroundcolor white\r\n",
       "skinparam shadowing false\r\n",
       "skinparam wrapWidth 300\r\n",
       "hide circle\r\n",
       "\r\n",
       "package \"PartTest\" as E1  [[psysml:538b1265-15ae-4afd-8dd2-ef0f57b41a53 ]]  {\r\n",
       "comp usage \"f: A \" as E2  <<(T,blue) part>> [[psysml:2c090466-3d5c-4444-ba17-090921dc2443 ]] {\r\n",
       "}\r\n",
       "comp def \"A\" as E3  <<(T,blue) part  def>> [[psysml:d1b7cfcb-f6eb-4e6c-b82e-69976e6757f6 ]] {\r\n",
       "- - attributes - -\r\n",
       "x\r\n",
       "y:> A::x\r\n",
       "}\r\n",
       "comp usage \"b: B \" as E4  <<(T,blue) part>> [[psysml:1aa2f075-dfbc-4c28-975e-f9b78ce76d6b ]] {\r\n",
       "}\r\n",
       "comp usage \"c: C \" as E5  <<(T,blue) port>> [[psysml:6b6fc427-035b-4f92-af2f-ae5f46ec13e5 ]] {\r\n",
       "}\r\n",
       "comp def \"<i>B</i>\" as E6  <<(T,blue) part  def>> [[psysml:286e6ef4-92d4-4c1b-a17d-09881da7698b ]] {\r\n",
       "}\r\n",
       "comp usage \"<i>a</i>: A \" as E7  <<(T,blue) part>> [[psysml:215e87e2-ee75-46c7-98ea-4ce8794cdbad ]] {\r\n",
       "}\r\n",
       "comp usage \"x: ~C \" as E8  <<(T,blue) port>> [[psysml:27d37788-2b75-4a5c-b4fe-9553c2483e93 ]] {\r\n",
       "}\r\n",
       "package \"P\" as E9  [[psysml:e555f4d2-547d-4756-8b33-5fda3be7b359 ]]  {\r\n",
       "}\r\n",
       "comp def \"C\" as E10  <<(T,blue) port  def>> [[psysml:3d6805d2-0d33-47df-af88-6771a9177656 ]] {\r\n",
       "- - parameters - -\r\n",
       "<b>in</b> y: A, B <b>alias</b> z2 \r\n",
       "}\r\n",
       "}\r\n",
       "E2 - -:|> E3 [[psysml:02703352-f69e-4a4b-893d-89c09588fdfd ]] \r\n",
       "E3 *- - \"1\"E4 [[psysml:e82a868e-a957-4308-9aca-5f2e1a046a10 ]] \r\n",
       "E3 o- - \"1\"E5 [[psysml:01f43deb-5863-4903-863e-c9a23e0a1180 ]] \r\n",
       "E4 - -:|> E6 [[psysml:6f8c5931-99ab-4f3d-9640-f9d86b709835 ]] \r\n",
       "E6 *- - \"1\"E7 [[psysml:ef71999d-b74e-4e5c-b2f7-aebb94a9d32a ]] \r\n",
       "E7 - -:|> E3 [[psysml:d4047a87-2764-4bb9-9711-6fad77bbdb97 ]] \r\n",
       "E6 o- - \"1\"E8 [[psysml:e9c4c173-85e4-4370-85e4-1c8f2eb4171b ]] \r\n",
       "E6 +- - E9 [[psysml:ab2aae6d-159f-4d7a-a99e-78671a533366 ]] \r\n",
       "E5 - -:|> E10 [[psysml:09169cbe-938d-4307-a584-0b24a5ad62ce ]] \r\n",
       "E10 o- - E3 [[psysml:75696b56-911c-4e7f-a413-6399c7af4d3a ]] : y\r\n",
       "E10 o- - E6 [[psysml:75696b56-911c-4e7f-a413-6399c7af4d3a ]] : y\r\n",
       "@enduml\r\n",
       "\n",
       "PlantUML version 1.2020.13(Sat Jun 13 12:26:38 UTC 2020)\n",
       "(EPL source distribution)\n",
       "Java Runtime: OpenJDK Runtime Environment\n",
       "JVM: OpenJDK 64-Bit Server VM\n",
       "Default Encoding: UTF-8\n",
       "Language: en\n",
       "Country: null\n",
       "--></g></svg>"
      ]
     },
     "execution_count": 57,
     "metadata": {},
     "output_type": "execute_result"
    }
   ],
   "source": [
    "%viz --style=\"ORTHOLINE\" --view=\"MIXED\" \"PartTest\""
   ]
  }
 ],
 "metadata": {
  "kernelspec": {
   "display_name": "SysML",
   "language": "sysml",
   "name": "sysml"
  },
  "language_info": {
   "codemirror_mode": "sysml",
   "file_extension": ".sysml",
   "mimetype": "text/x-sysml",
   "name": "SysML",
   "pygments_lexer": "java",
   "version": "1.0.0"
  }
 },
 "nbformat": 4,
 "nbformat_minor": 5
}
