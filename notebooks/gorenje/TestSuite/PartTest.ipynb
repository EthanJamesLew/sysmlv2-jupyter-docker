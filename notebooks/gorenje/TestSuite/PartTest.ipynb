{
 "cells": [
  {
   "cell_type": "markdown",
   "id": "45de8bdf",
   "metadata": {},
   "source": [
    "# SysML v2 Test Suite\n",
    "\n",
    "This can notebook can be cleared using menu `Edit --> Clear All Outputs` and then all cells can be\n",
    "run using menu `Run --> Run All Cells`.\n",
    "\n",
    "**WARNING**: This file is generated, all modifications here will be ignored.\n"
   ]
  },
  {
   "cell_type": "markdown",
   "id": "79c1e6a5",
   "metadata": {},
   "source": [
    "## File: ../../sysml/src/examples/Simple Tests/PartTest.sysml"
   ]
  },
  {
   "cell_type": "code",
   "execution_count": 1,
   "id": "0a958a48",
   "metadata": {
    "execution": {
     "iopub.execute_input": "2022-02-05T16:55:41.197169Z",
     "iopub.status.busy": "2022-02-05T16:55:41.196138Z",
     "iopub.status.idle": "2022-02-05T16:55:41.397196Z",
     "shell.execute_reply": "2022-02-05T16:55:41.396896Z"
    }
   },
   "outputs": [
    {
     "data": {
      "text/plain": [
       "Package PartTest (cfe99c84-7fa8-4a9c-9bb4-e0c62499625a)\n"
      ]
     },
     "execution_count": 1,
     "metadata": {},
     "output_type": "execute_result"
    }
   ],
   "source": [
    "package PartTest {\n",
    "\t\n",
    "\tpart f: A;\n",
    "\n",
    "\tpublic part def A {\n",
    "\t\tpart <'1'> b: B;\n",
    "\t\tprotected port c: C;\n",
    "\t\treadonly attribute x[0..2];\n",
    "\t\tderived ref attribute y :> x;\n",
    "\t}\n",
    "\t\n",
    "\tabstract part def <xx> B {\n",
    "\t\tpublic abstract part a: A;\n",
    "\t\tport x: ~C;\n",
    "\t\tpackage P { }\n",
    "\t}\n",
    "\t\n",
    "\tprivate port def C {\n",
    "\t\tprivate in ref y: A, B;\n",
    "\t\talias z1 for y;\n",
    "\t\talias z2 for y;\n",
    "\t}\n",
    "\t\n",
    "}"
   ]
  },
  {
   "cell_type": "code",
   "execution_count": 2,
   "id": "935ad791",
   "metadata": {
    "execution": {
     "iopub.execute_input": "2022-02-05T16:55:41.448166Z",
     "iopub.status.busy": "2022-02-05T16:55:41.447936Z",
     "iopub.status.idle": "2022-02-05T16:55:42.025353Z",
     "shell.execute_reply": "2022-02-05T16:55:42.023495Z"
    }
   },
   "outputs": [
    {
     "data": {
      "image/svg+xml": [
       "<?xml version=\"1.0\" encoding=\"UTF-8\" standalone=\"no\"?><svg xmlns=\"http://www.w3.org/2000/svg\" xmlns:xlink=\"http://www.w3.org/1999/xlink\" contentScriptType=\"application/ecmascript\" contentStyleType=\"text/css\" height=\"721px\" preserveAspectRatio=\"none\" style=\"width:260px;height:721px;\" version=\"1.1\" viewBox=\"0 0 260 721\" width=\"260px\" zoomAndPan=\"magnify\"><defs/><g><!--MD5=[fbc87193dbaf4d95561dea2c320d4a47]\n",
       "cluster E1--><a href=\"psysml:c38775ed-c195-45a3-878f-69446059ff99\" target=\"_top\" title=\"psysml:c38775ed-c195-45a3-878f-69446059ff99\" xlink:actuate=\"onRequest\" xlink:href=\"psysml:c38775ed-c195-45a3-878f-69446059ff99\" xlink:show=\"new\" xlink:title=\"psysml:c38775ed-c195-45a3-878f-69446059ff99\" xlink:type=\"simple\"><polygon fill=\"#FFFFFF\" points=\"16,6,80,6,87,28.2969,238,28.2969,238,709,16,709,16,6\" style=\"stroke: #000000; stroke-width: 1.5;\"/><line style=\"stroke: #000000; stroke-width: 1.5;\" x1=\"16\" x2=\"87\" y1=\"28.2969\" y2=\"28.2969\"/><text fill=\"#000000\" font-family=\"sans-serif\" font-size=\"14\" font-weight=\"bold\" lengthAdjust=\"spacingAndGlyphs\" textLength=\"58\" x=\"20\" y=\"20.9951\">PartTest</text></a><!--MD5=[b4997ac47864f28c2f74865a473b2911]\n",
       "class E2--><a href=\"psysml:133b9857-5562-4f09-a022-80109f8d4a7d\" target=\"_top\" title=\"psysml:133b9857-5562-4f09-a022-80109f8d4a7d\" xlink:actuate=\"onRequest\" xlink:href=\"psysml:133b9857-5562-4f09-a022-80109f8d4a7d\" xlink:show=\"new\" xlink:title=\"psysml:133b9857-5562-4f09-a022-80109f8d4a7d\" xlink:type=\"simple\"><rect fill=\"#FFFFFF\" height=\"45.9375\" id=\"E2\" rx=\"10\" ry=\"10\" style=\"stroke: #383838; stroke-width: 1.5;\" width=\"42\" x=\"32\" y=\"41\"/><text fill=\"#000000\" font-family=\"sans-serif\" font-size=\"12\" font-style=\"italic\" lengthAdjust=\"spacingAndGlyphs\" textLength=\"40\" x=\"33\" y=\"57.1387\">«part»</text><text fill=\"#000000\" font-family=\"sans-serif\" font-size=\"12\" lengthAdjust=\"spacingAndGlyphs\" textLength=\"20\" x=\"41\" y=\"71.1074\">f: A</text><line style=\"stroke: #383838; stroke-width: 1.5;\" x1=\"33\" x2=\"73\" y1=\"78.9375\" y2=\"78.9375\"/></a><!--MD5=[09b614a08d8cba4a07c9adeb5e0fee81]\n",
       "class E3--><a href=\"psysml:41a43e73-47d4-427d-aa17-f57a90b2778c\" target=\"_top\" title=\"psysml:41a43e73-47d4-427d-aa17-f57a90b2778c\" xlink:actuate=\"onRequest\" xlink:href=\"psysml:41a43e73-47d4-427d-aa17-f57a90b2778c\" xlink:show=\"new\" xlink:title=\"psysml:41a43e73-47d4-427d-aa17-f57a90b2778c\" xlink:type=\"simple\"><rect fill=\"#FFFFFF\" height=\"136.7656\" id=\"E3\" style=\"stroke: #383838; stroke-width: 1.5;\" width=\"70\" x=\"33\" y=\"164\"/><text fill=\"#000000\" font-family=\"sans-serif\" font-size=\"12\" font-style=\"italic\" lengthAdjust=\"spacingAndGlyphs\" textLength=\"68\" x=\"34\" y=\"180.1387\">«part  def»</text><text fill=\"#000000\" font-family=\"sans-serif\" font-size=\"12\" lengthAdjust=\"spacingAndGlyphs\" textLength=\"8\" x=\"64\" y=\"194.1074\">A</text><line style=\"stroke: #383838; stroke-width: 1.5;\" x1=\"34\" x2=\"102\" y1=\"201.9375\" y2=\"201.9375\"/><text fill=\"#000000\" font-family=\"sans-serif\" font-size=\"11\" lengthAdjust=\"spacingAndGlyphs\" textLength=\"6\" x=\"39\" y=\"232.9526\">x</text><text fill=\"#000000\" font-family=\"sans-serif\" font-size=\"11\" lengthAdjust=\"spacingAndGlyphs\" textLength=\"44\" x=\"39\" y=\"245.7573\">y:&gt; A::x</text><line style=\"stroke: #383838; stroke-width: 1.0;\" x1=\"34\" x2=\"40.5\" y1=\"216.3398\" y2=\"216.3398\"/><text fill=\"#000000\" font-family=\"sans-serif\" font-size=\"11\" lengthAdjust=\"spacingAndGlyphs\" textLength=\"55\" x=\"40.5\" y=\"219.6479\">attributes</text><line style=\"stroke: #383838; stroke-width: 1.0;\" x1=\"95.5\" x2=\"102\" y1=\"216.3398\" y2=\"216.3398\"/><text fill=\"#000000\" font-family=\"sans-serif\" font-size=\"11\" lengthAdjust=\"spacingAndGlyphs\" textLength=\"22\" x=\"39\" y=\"275.3667\">c: C</text><line style=\"stroke: #383838; stroke-width: 1.0;\" x1=\"34\" x2=\"53\" y1=\"258.7539\" y2=\"258.7539\"/><text fill=\"#000000\" font-family=\"sans-serif\" font-size=\"11\" lengthAdjust=\"spacingAndGlyphs\" textLength=\"30\" x=\"53\" y=\"262.062\">ports</text><line style=\"stroke: #383838; stroke-width: 1.0;\" x1=\"83\" x2=\"102\" y1=\"258.7539\" y2=\"258.7539\"/><text fill=\"#000000\" font-family=\"sans-serif\" font-size=\"11\" lengthAdjust=\"spacingAndGlyphs\" textLength=\"0\" x=\"55\" y=\"294.1714\"/><rect fill=\"#FFFFFF\" height=\"2\" style=\"stroke: #000000; stroke-width: 1.0;\" width=\"2\" x=\"48\" y=\"289.3633\"/><line style=\"stroke: #000000; stroke-width: 1.0;\" x1=\"41\" x2=\"49\" y1=\"290.3633\" y2=\"290.3633\"/><line style=\"stroke: #000000; stroke-width: 1.0;\" x1=\"41\" x2=\"41\" y1=\"283.9609\" y2=\"290.3633\"/></a><!--MD5=[ebbe1d658d1005bcc118a6aa81145e00]\n",
       "class E4--><a href=\"psysml:23a90af0-4107-4bf0-84ea-ac7115753c4e\" target=\"_top\" title=\"psysml:23a90af0-4107-4bf0-84ea-ac7115753c4e\" xlink:actuate=\"onRequest\" xlink:href=\"psysml:23a90af0-4107-4bf0-84ea-ac7115753c4e\" xlink:show=\"new\" xlink:title=\"psysml:23a90af0-4107-4bf0-84ea-ac7115753c4e\" xlink:type=\"simple\"><rect fill=\"#FFFFFF\" height=\"45.9375\" id=\"E4\" rx=\"10\" ry=\"10\" style=\"stroke: #383838; stroke-width: 1.5;\" width=\"42\" x=\"69\" y=\"378\"/><text fill=\"#000000\" font-family=\"sans-serif\" font-size=\"12\" font-style=\"italic\" lengthAdjust=\"spacingAndGlyphs\" textLength=\"40\" x=\"70\" y=\"394.1387\">«part»</text><text fill=\"#000000\" font-family=\"sans-serif\" font-size=\"12\" lengthAdjust=\"spacingAndGlyphs\" textLength=\"24\" x=\"76\" y=\"408.1074\">b: B</text><line style=\"stroke: #383838; stroke-width: 1.5;\" x1=\"70\" x2=\"110\" y1=\"415.9375\" y2=\"415.9375\"/></a><!--MD5=[270fce915f116d4de14055a7c1d9a0f3]\n",
       "class E5--><a href=\"psysml:c17c630d-59e9-4f7e-a520-276041a9c800\" target=\"_top\" title=\"psysml:c17c630d-59e9-4f7e-a520-276041a9c800\" xlink:actuate=\"onRequest\" xlink:href=\"psysml:c17c630d-59e9-4f7e-a520-276041a9c800\" xlink:show=\"new\" xlink:title=\"psysml:c17c630d-59e9-4f7e-a520-276041a9c800\" xlink:type=\"simple\"><rect fill=\"#FFFFFF\" height=\"94.3516\" id=\"E5\" style=\"stroke: #383838; stroke-width: 1.5;\" width=\"70\" x=\"112\" y=\"485\"/><text fill=\"#000000\" font-family=\"sans-serif\" font-size=\"12\" font-style=\"italic\" lengthAdjust=\"spacingAndGlyphs\" textLength=\"68\" x=\"113\" y=\"501.1387\">«part  def»</text><text fill=\"#000000\" font-family=\"sans-serif\" font-size=\"12\" font-style=\"italic\" lengthAdjust=\"spacingAndGlyphs\" textLength=\"8\" x=\"143\" y=\"515.1074\">B</text><line style=\"stroke: #383838; stroke-width: 1.5;\" x1=\"113\" x2=\"181\" y1=\"522.9375\" y2=\"522.9375\"/><text fill=\"#000000\" font-family=\"sans-serif\" font-size=\"11\" lengthAdjust=\"spacingAndGlyphs\" textLength=\"31\" x=\"118\" y=\"553.9526\">x: ~C</text><line style=\"stroke: #383838; stroke-width: 1.0;\" x1=\"113\" x2=\"132\" y1=\"537.3398\" y2=\"537.3398\"/><text fill=\"#000000\" font-family=\"sans-serif\" font-size=\"11\" lengthAdjust=\"spacingAndGlyphs\" textLength=\"30\" x=\"132\" y=\"540.6479\">ports</text><line style=\"stroke: #383838; stroke-width: 1.0;\" x1=\"162\" x2=\"181\" y1=\"537.3398\" y2=\"537.3398\"/><text fill=\"#000000\" font-family=\"sans-serif\" font-size=\"11\" lengthAdjust=\"spacingAndGlyphs\" textLength=\"0\" x=\"134\" y=\"572.7573\"/><rect fill=\"#FFFFFF\" height=\"2\" style=\"stroke: #000000; stroke-width: 1.0;\" width=\"2\" x=\"127\" y=\"567.9492\"/><line style=\"stroke: #000000; stroke-width: 1.0;\" x1=\"120\" x2=\"128\" y1=\"568.9492\" y2=\"568.9492\"/><line style=\"stroke: #000000; stroke-width: 1.0;\" x1=\"120\" x2=\"120\" y1=\"562.5469\" y2=\"568.9492\"/></a><!--MD5=[60a26617385b1d2d0262a64233df1f8d]\n",
       "class E6--><a href=\"psysml:4ea01713-b83a-4578-95eb-e0c0377cf261\" target=\"_top\" title=\"psysml:4ea01713-b83a-4578-95eb-e0c0377cf261\" xlink:actuate=\"onRequest\" xlink:href=\"psysml:4ea01713-b83a-4578-95eb-e0c0377cf261\" xlink:show=\"new\" xlink:title=\"psysml:4ea01713-b83a-4578-95eb-e0c0377cf261\" xlink:type=\"simple\"><rect fill=\"#FFFFFF\" height=\"45.9375\" id=\"E6\" rx=\"10\" ry=\"10\" style=\"stroke: #383838; stroke-width: 1.5;\" width=\"42\" x=\"44\" y=\"643.5\"/><text fill=\"#000000\" font-family=\"sans-serif\" font-size=\"12\" font-style=\"italic\" lengthAdjust=\"spacingAndGlyphs\" textLength=\"40\" x=\"45\" y=\"659.6387\">«part»</text><text fill=\"#000000\" font-family=\"sans-serif\" font-size=\"12\" font-style=\"italic\" lengthAdjust=\"spacingAndGlyphs\" textLength=\"8\" x=\"51\" y=\"673.6074\">a</text><text fill=\"#000000\" font-family=\"sans-serif\" font-size=\"12\" lengthAdjust=\"spacingAndGlyphs\" textLength=\"16\" x=\"59\" y=\"673.6074\">: A</text><line style=\"stroke: #383838; stroke-width: 1.5;\" x1=\"45\" x2=\"85\" y1=\"681.4375\" y2=\"681.4375\"/></a><!--MD5=[b9389687b975829384b498ac4b7476b2]\n",
       "class E8--><a href=\"psysml:e209a1f3-de72-4850-a45f-7036acf7c094\" target=\"_top\" title=\"psysml:e209a1f3-de72-4850-a45f-7036acf7c094\" xlink:actuate=\"onRequest\" xlink:href=\"psysml:e209a1f3-de72-4850-a45f-7036acf7c094\" xlink:show=\"new\" xlink:title=\"psysml:e209a1f3-de72-4850-a45f-7036acf7c094\" xlink:type=\"simple\"><rect fill=\"#FFFFFF\" height=\"45.9375\" id=\"E8\" style=\"stroke: #383838; stroke-width: 1.5;\" width=\"70\" x=\"144\" y=\"41\"/><text fill=\"#000000\" font-family=\"sans-serif\" font-size=\"12\" font-style=\"italic\" lengthAdjust=\"spacingAndGlyphs\" textLength=\"68\" x=\"145\" y=\"57.1387\">«port  def»</text><text fill=\"#000000\" font-family=\"sans-serif\" font-size=\"12\" lengthAdjust=\"spacingAndGlyphs\" textLength=\"8\" x=\"175\" y=\"71.1074\">C</text><line style=\"stroke: #383838; stroke-width: 1.5;\" x1=\"145\" x2=\"213\" y1=\"78.9375\" y2=\"78.9375\"/></a><a href=\"psysml:78dea323-2f70-496c-aa91-db5f05f12a10\" target=\"_top\" title=\"psysml:78dea323-2f70-496c-aa91-db5f05f12a10\" xlink:actuate=\"onRequest\" xlink:href=\"psysml:78dea323-2f70-496c-aa91-db5f05f12a10\" xlink:show=\"new\" xlink:title=\"psysml:78dea323-2f70-496c-aa91-db5f05f12a10\" xlink:type=\"simple\"><polygon fill=\"#FFFFFF\" points=\"132.5,640,147.5,640,154.5,662.2969,161.5,662.2969,161.5,692.5938,132.5,692.5938,132.5,640\" style=\"stroke: #000000; stroke-width: 1.5;\"/><line style=\"stroke: #000000; stroke-width: 1.5;\" x1=\"132.5\" x2=\"154.5\" y1=\"662.2969\" y2=\"662.2969\"/><text fill=\"#000000\" font-family=\"sans-serif\" font-size=\"14\" font-weight=\"bold\" lengthAdjust=\"spacingAndGlyphs\" textLength=\"9\" x=\"136.5\" y=\"654.9951\">P</text></a><!--MD5=[2720a5a1f2c3fca2055b230370638851]\n",
       "link E2 to E3--><a href=\"psysml:de99b855-827b-4779-9c99-7b4326eef43f\" target=\"_top\" title=\"psysml:de99b855-827b-4779-9c99-7b4326eef43f\" xlink:actuate=\"onRequest\" xlink:href=\"psysml:de99b855-827b-4779-9c99-7b4326eef43f\" xlink:show=\"new\" xlink:title=\"psysml:de99b855-827b-4779-9c99-7b4326eef43f\" xlink:type=\"simple\"><path d=\"M45.1,87.22 C42.26,96.33 39.41,107.05 38,117 C36.74,125.88 36.79,135.06 37.73,144.18 \" fill=\"none\" id=\"E2-&gt;E3\" style=\"stroke: #383838; stroke-width: 1.0;\"/><polygon fill=\"#FFFFFF\" points=\"41.05,163.91,30.9969,146.3335,44.8031,144.0124,41.05,163.91\" style=\"stroke: #383838; stroke-width: 1.0;\"/><ellipse cx=\"32.0242\" cy=\"140.3808\" fill=\"#383838\" rx=\"2\" ry=\"2\" style=\"stroke: #383838; stroke-width: 1.0;\"/><ellipse cx=\"41.8858\" cy=\"138.7229\" fill=\"#383838\" rx=\"2\" ry=\"2\" style=\"stroke: #383838; stroke-width: 1.0;\"/></a><!--MD5=[4672eba38e49728da53d11aeb285b987]\n",
       "reverse link E3 to E4--><a href=\"psysml:7d143534-3389-4013-881e-42b16664757f\" target=\"_top\" title=\"psysml:7d143534-3389-4013-881e-42b16664757f\" xlink:actuate=\"onRequest\" xlink:href=\"psysml:7d143534-3389-4013-881e-42b16664757f\" xlink:show=\"new\" xlink:title=\"psysml:7d143534-3389-4013-881e-42b16664757f\" xlink:type=\"simple\"><path d=\"M71.7,314.44 C72.78,325.75 74.19,337.19 76,348 C77.67,357.96 80.43,368.77 83.05,377.94 \" fill=\"none\" id=\"E3&lt;-E4\" style=\"stroke: #383838; stroke-width: 1.0;\"/><polygon fill=\"#383838\" points=\"70.56,301.26,67.0957,307.5845,71.6013,313.2147,75.0655,306.8903,70.56,301.26\" style=\"stroke: #383838; stroke-width: 1.0;\"/><text fill=\"#000000\" font-family=\"sans-serif\" font-size=\"13\" lengthAdjust=\"spacingAndGlyphs\" textLength=\"8\" x=\"72.1072\" y=\"366.8201\">1</text></a><!--MD5=[1b7591eae5389033d8d09a9d6721a717]\n",
       "link E4 to E5--><a href=\"psysml:8d11eaae-af32-434c-8c3d-32f92418f4c8\" target=\"_top\" title=\"psysml:8d11eaae-af32-434c-8c3d-32f92418f4c8\" xlink:actuate=\"onRequest\" xlink:href=\"psysml:8d11eaae-af32-434c-8c3d-32f92418f4c8\" xlink:show=\"new\" xlink:title=\"psysml:8d11eaae-af32-434c-8c3d-32f92418f4c8\" xlink:type=\"simple\"><path d=\"M99.8,424.18 C105.03,436.01 111.76,451.24 118.49,466.47 \" fill=\"none\" id=\"E4-&gt;E5\" style=\"stroke: #383838; stroke-width: 1.0;\"/><polygon fill=\"#FFFFFF\" points=\"126.6,484.83,112.5183,470.2799,125.324,464.6218,126.6,484.83\" style=\"stroke: #383838; stroke-width: 1.0;\"/><ellipse cx=\"112.044\" cy=\"464.2578\" fill=\"#383838\" rx=\"2\" ry=\"2\" style=\"stroke: #383838; stroke-width: 1.0;\"/><ellipse cx=\"121.191\" cy=\"460.2163\" fill=\"#383838\" rx=\"2\" ry=\"2\" style=\"stroke: #383838; stroke-width: 1.0;\"/></a><!--MD5=[85d356282659285ab4b2cfe2f634dd2b]\n",
       "reverse link E5 to E6--><a href=\"psysml:7466bf8a-1e84-4b05-9901-ce46ee446fa5\" target=\"_top\" title=\"psysml:7466bf8a-1e84-4b05-9901-ce46ee446fa5\" xlink:actuate=\"onRequest\" xlink:href=\"psysml:7466bf8a-1e84-4b05-9901-ce46ee446fa5\" xlink:show=\"new\" xlink:title=\"psysml:7466bf8a-1e84-4b05-9901-ce46ee446fa5\" xlink:type=\"simple\"><path d=\"M111.44,590.46 C99.91,609.1 87.79,628.67 78.83,643.16 \" fill=\"none\" id=\"E5&lt;-E6\" style=\"stroke: #383838; stroke-width: 1.0;\"/><polygon fill=\"#383838\" points=\"118.32,579.34,111.7612,582.337,112.0051,589.544,118.5639,586.547,118.32,579.34\" style=\"stroke: #383838; stroke-width: 1.0;\"/><text fill=\"#000000\" font-family=\"sans-serif\" font-size=\"13\" lengthAdjust=\"spacingAndGlyphs\" textLength=\"8\" x=\"73.3489\" y=\"632.3492\">1</text></a><!--MD5=[a717450b82c80b9240a525fa862496af]\n",
       "link E6 to E3--><a href=\"psysml:3c280f0c-0d5e-48e6-b009-cbd7db9e9beb\" target=\"_top\" title=\"psysml:3c280f0c-0d5e-48e6-b009-cbd7db9e9beb\" xlink:actuate=\"onRequest\" xlink:href=\"psysml:3c280f0c-0d5e-48e6-b009-cbd7db9e9beb\" xlink:show=\"new\" xlink:title=\"psysml:3c280f0c-0d5e-48e6-b009-cbd7db9e9beb\" xlink:type=\"simple\"><path d=\"M62.32,643.49 C56.81,595.34 45.2,477.03 51,378 C52.07,359.67 53.91,340.1 55.99,321.48 \" fill=\"none\" id=\"E6-&gt;E3\" style=\"stroke: #383838; stroke-width: 1.0;\"/><polygon fill=\"#FFFFFF\" points=\"58.36,301.35,63.0871,321.0389,49.1834,319.3997,58.36,301.35\" style=\"stroke: #383838; stroke-width: 1.0;\"/><ellipse cx=\"60.4335\" cy=\"326.4655\" fill=\"#383838\" rx=\"2\" ry=\"2\" style=\"stroke: #383838; stroke-width: 1.0;\"/><ellipse cx=\"50.5023\" cy=\"325.2946\" fill=\"#383838\" rx=\"2\" ry=\"2\" style=\"stroke: #383838; stroke-width: 1.0;\"/></a><!--MD5=[452b418e7f8a40397a49b8c0a78acc5b]\n",
       "reverse link E5 to E7--><a href=\"psysml:08766104-19a0-4aca-bf35-b4c81b8c6dcb\" target=\"_top\" title=\"psysml:08766104-19a0-4aca-bf35-b4c81b8c6dcb\" xlink:actuate=\"onRequest\" xlink:href=\"psysml:08766104-19a0-4aca-bf35-b4c81b8c6dcb\" xlink:show=\"new\" xlink:title=\"psysml:08766104-19a0-4aca-bf35-b4c81b8c6dcb\" xlink:type=\"simple\"><path d=\"M147,594.45 C147,610.46 147,626.84 147,639.83 \" fill=\"none\" id=\"E5&lt;-E7\" style=\"stroke: #383838; stroke-width: 1.0;\"/><ellipse cx=\"147\" cy=\"587.34\" fill=\"#FFFFFF\" rx=\"8\" ry=\"8\" style=\"stroke: #383838; stroke-width: 1.0;\"/><line style=\"stroke: #383838; stroke-width: 1.0;\" x1=\"147\" x2=\"147\" y1=\"595.34\" y2=\"579.34\"/><line style=\"stroke: #383838; stroke-width: 1.0;\" x1=\"139\" x2=\"155\" y1=\"587.34\" y2=\"587.34\"/></a><!--MD5=[03c8294790d3c57651a1993cecff665f]\n",
       "reverse link E8 to E3--><a href=\"psysml:f2bac2b1-68d1-4631-bf1f-fa6cff2f703f\" target=\"_top\" title=\"psysml:f2bac2b1-68d1-4631-bf1f-fa6cff2f703f\" xlink:actuate=\"onRequest\" xlink:href=\"psysml:f2bac2b1-68d1-4631-bf1f-fa6cff2f703f\" xlink:show=\"new\" xlink:title=\"psysml:f2bac2b1-68d1-4631-bf1f-fa6cff2f703f\" xlink:type=\"simple\"><path d=\"M131.56,77.02 C110.67,84.85 87.97,97.38 75,117 C65.94,130.71 61.99,147.47 60.8,163.9 \" fill=\"none\" id=\"E8&lt;-E3\" style=\"stroke: #383838; stroke-width: 1.0;\"/><polygon fill=\"#FFFFFF\" points=\"143.89,72.83,136.9238,70.9665,132.5244,76.6801,139.4906,78.5436,143.89,72.83\" style=\"stroke: #383838; stroke-width: 1.0;\"/><text fill=\"#000000\" font-family=\"sans-serif\" font-size=\"13\" lengthAdjust=\"spacingAndGlyphs\" textLength=\"7\" x=\"76\" y=\"130.0669\">y</text></a><!--MD5=[03c8294790d3c57651a1993cecff665f]\n",
       "reverse link E8 to E3--><a href=\"psysml:f2bac2b1-68d1-4631-bf1f-fa6cff2f703f\" target=\"_top\" title=\"psysml:f2bac2b1-68d1-4631-bf1f-fa6cff2f703f\" xlink:actuate=\"onRequest\" xlink:href=\"psysml:f2bac2b1-68d1-4631-bf1f-fa6cff2f703f\" xlink:show=\"new\" xlink:title=\"psysml:f2bac2b1-68d1-4631-bf1f-fa6cff2f703f\" xlink:type=\"simple\"><path d=\"M142.3,96.14 C135.76,102.65 129.34,109.75 124,117 C113.51,131.26 104.11,147.79 96.14,163.78 \" fill=\"none\" id=\"E8&lt;-E3-1\" style=\"stroke: #383838; stroke-width: 1.0;\"/><polygon fill=\"#FFFFFF\" points=\"151.86,87.09,144.754,88.3168,143.1534,95.3481,150.2594,94.1212,151.86,87.09\" style=\"stroke: #383838; stroke-width: 1.0;\"/><text fill=\"#000000\" font-family=\"sans-serif\" font-size=\"13\" lengthAdjust=\"spacingAndGlyphs\" textLength=\"7\" x=\"125\" y=\"130.0669\">y</text></a><!--MD5=[03c8294790d3c57651a1993cecff665f]\n",
       "reverse link E8 to E3--><a href=\"psysml:f2bac2b1-68d1-4631-bf1f-fa6cff2f703f\" target=\"_top\" title=\"psysml:f2bac2b1-68d1-4631-bf1f-fa6cff2f703f\" xlink:actuate=\"onRequest\" xlink:href=\"psysml:f2bac2b1-68d1-4631-bf1f-fa6cff2f703f\" xlink:show=\"new\" xlink:title=\"psysml:f2bac2b1-68d1-4631-bf1f-fa6cff2f703f\" xlink:type=\"simple\"><path d=\"M156.98,98.02 C141.62,121.07 120.79,152.31 103.15,178.77 \" fill=\"none\" id=\"E8&lt;-E3-2\" style=\"stroke: #383838; stroke-width: 1.0;\"/><polygon fill=\"#FFFFFF\" points=\"164.26,87.11,157.6028,89.8815,157.6006,97.0926,164.2578,94.3211,164.26,87.11\" style=\"stroke: #383838; stroke-width: 1.0;\"/><text fill=\"#000000\" font-family=\"sans-serif\" font-size=\"13\" lengthAdjust=\"spacingAndGlyphs\" textLength=\"7\" x=\"144\" y=\"130.0669\">y</text></a><!--MD5=[049ab558815ccadc2a7a6ffdb8f4a5ba]\n",
       "reverse link E8 to E5--><a href=\"psysml:f2bac2b1-68d1-4631-bf1f-fa6cff2f703f\" target=\"_top\" title=\"psysml:f2bac2b1-68d1-4631-bf1f-fa6cff2f703f\" xlink:actuate=\"onRequest\" xlink:href=\"psysml:f2bac2b1-68d1-4631-bf1f-fa6cff2f703f\" xlink:show=\"new\" xlink:title=\"psysml:f2bac2b1-68d1-4631-bf1f-fa6cff2f703f\" xlink:type=\"simple\"><path d=\"M197.26,99.16 C199.64,104.97 201.69,111.05 203,117 C204.62,124.38 203.12,126.45 203,134 C200.78,276.72 233.5,318.13 193,455 C189.98,465.2 185.25,475.43 179.94,484.92 \" fill=\"none\" id=\"E8&lt;-E5\" style=\"stroke: #383838; stroke-width: 1.0;\"/><polygon fill=\"#FFFFFF\" points=\"191.73,87.03,190.583,94.1493,196.7135,97.9463,197.8605,90.827,191.73,87.03\" style=\"stroke: #383838; stroke-width: 1.0;\"/><text fill=\"#000000\" font-family=\"sans-serif\" font-size=\"13\" lengthAdjust=\"spacingAndGlyphs\" textLength=\"7\" x=\"214\" y=\"344.0669\">y</text></a><!--MD5=[049ab558815ccadc2a7a6ffdb8f4a5ba]\n",
       "reverse link E8 to E5--><a href=\"psysml:f2bac2b1-68d1-4631-bf1f-fa6cff2f703f\" target=\"_top\" title=\"psysml:f2bac2b1-68d1-4631-bf1f-fa6cff2f703f\" xlink:actuate=\"onRequest\" xlink:href=\"psysml:f2bac2b1-68d1-4631-bf1f-fa6cff2f703f\" xlink:show=\"new\" xlink:title=\"psysml:f2bac2b1-68d1-4631-bf1f-fa6cff2f703f\" xlink:type=\"simple\"><path d=\"M169.67,99.88 C153.44,161.23 121.23,286.19 116,331 C115.12,338.5 114.57,340.58 116,348 C118.72,362.1 124.42,364.09 128,378 C137.08,413.25 141.87,454.23 144.37,484.9 \" fill=\"none\" id=\"E8&lt;-E5-1\" style=\"stroke: #383838; stroke-width: 1.0;\"/><polygon fill=\"#FFFFFF\" points=\"173.06,87.11,167.6562,91.8848,169.9853,98.7094,175.3891,93.9346,173.06,87.11\" style=\"stroke: #383838; stroke-width: 1.0;\"/><text fill=\"#000000\" font-family=\"sans-serif\" font-size=\"13\" lengthAdjust=\"spacingAndGlyphs\" textLength=\"7\" x=\"117\" y=\"344.0669\">y</text></a><!--MD5=[049ab558815ccadc2a7a6ffdb8f4a5ba]\n",
       "reverse link E8 to E5--><a href=\"psysml:f2bac2b1-68d1-4631-bf1f-fa6cff2f703f\" target=\"_top\" title=\"psysml:f2bac2b1-68d1-4631-bf1f-fa6cff2f703f\" xlink:actuate=\"onRequest\" xlink:href=\"psysml:f2bac2b1-68d1-4631-bf1f-fa6cff2f703f\" xlink:show=\"new\" xlink:title=\"psysml:f2bac2b1-68d1-4631-bf1f-fa6cff2f703f\" xlink:type=\"simple\"><path d=\"M176.58,100.29 C170.87,183.45 156.57,391.65 150.18,484.75 \" fill=\"none\" id=\"E8&lt;-E5-2\" style=\"stroke: #383838; stroke-width: 1.0;\"/><polygon fill=\"#FFFFFF\" points=\"177.48,87.16,173.0806,92.8736,176.6625,99.1321,181.062,93.4186,177.48,87.16\" style=\"stroke: #383838; stroke-width: 1.0;\"/><text fill=\"#000000\" font-family=\"sans-serif\" font-size=\"13\" lengthAdjust=\"spacingAndGlyphs\" textLength=\"7\" x=\"161\" y=\"344.0669\">y</text></a><!--MD5=[7b913fd455d557984e3bb7df2f72c0eb]\n",
       "@startuml\r\n",
       " skinparam monochrome true\r\n",
       "skinparam classbackgroundcolor white\r\n",
       "skinparam shadowing false\r\n",
       "skinparam wrapWidth 300\r\n",
       "hide circle\r\n",
       "\r\n",
       "package \"PartTest\" as E1  [[psysml:c38775ed-c195-45a3-878f-69446059ff99 ]]  {\r\n",
       "comp usage \"f: A \" as E2  <<(T,blue) part>> [[psysml:133b9857-5562-4f09-a022-80109f8d4a7d ]] {\r\n",
       "}\r\n",
       "comp def \"A\" as E3  <<(T,blue) part  def>> [[psysml:41a43e73-47d4-427d-aa17-f57a90b2778c ]] {\r\n",
       "- - attributes - -\r\n",
       "x\r\n",
       "y:> A::x\r\n",
       "- - ports - -\r\n",
       "c: C\r\n",
       "|_ \r\n",
       "}\r\n",
       "comp usage \"b: B \" as E4  <<(T,blue) part>> [[psysml:23a90af0-4107-4bf0-84ea-ac7115753c4e ]] {\r\n",
       "}\r\n",
       "comp def \"<i>B</i>\" as E5  <<(T,blue) part  def>> [[psysml:c17c630d-59e9-4f7e-a520-276041a9c800 ]] {\r\n",
       "- - ports - -\r\n",
       "x: ~C\r\n",
       "|_ \r\n",
       "}\r\n",
       "comp usage \"<i>a</i>: A \" as E6  <<(T,blue) part>> [[psysml:4ea01713-b83a-4578-95eb-e0c0377cf261 ]] {\r\n",
       "}\r\n",
       "package \"P\" as E7  [[psysml:78dea323-2f70-496c-aa91-db5f05f12a10 ]]  {\r\n",
       "}\r\n",
       "comp def \"C\" as E8  <<(T,blue) port  def>> [[psysml:e209a1f3-de72-4850-a45f-7036acf7c094 ]] {\r\n",
       "}\r\n",
       "}\r\n",
       "E2 - -:|> E3 [[psysml:de99b855-827b-4779-9c99-7b4326eef43f ]] \r\n",
       "E3 *- - \"1\"E4 [[psysml:7d143534-3389-4013-881e-42b16664757f ]] \r\n",
       "E4 - -:|> E5 [[psysml:8d11eaae-af32-434c-8c3d-32f92418f4c8 ]] \r\n",
       "E5 *- - \"1\"E6 [[psysml:7466bf8a-1e84-4b05-9901-ce46ee446fa5 ]] \r\n",
       "E6 - -:|> E3 [[psysml:3c280f0c-0d5e-48e6-b009-cbd7db9e9beb ]] \r\n",
       "E5 +- - E7 [[psysml:08766104-19a0-4aca-bf35-b4c81b8c6dcb ]] \r\n",
       "E8 o- - E3 [[psysml:f2bac2b1-68d1-4631-bf1f-fa6cff2f703f ]] : y\r\n",
       "E8 o- - E5 [[psysml:f2bac2b1-68d1-4631-bf1f-fa6cff2f703f ]] : y\r\n",
       "E8 o- - E3 [[psysml:f2bac2b1-68d1-4631-bf1f-fa6cff2f703f ]] : y\r\n",
       "E8 o- - E5 [[psysml:f2bac2b1-68d1-4631-bf1f-fa6cff2f703f ]] : y\r\n",
       "E8 o- - E3 [[psysml:f2bac2b1-68d1-4631-bf1f-fa6cff2f703f ]] : y\r\n",
       "E8 o- - E5 [[psysml:f2bac2b1-68d1-4631-bf1f-fa6cff2f703f ]] : y\r\n",
       "@enduml\r\n",
       "\n",
       "PlantUML version 1.2020.13(Sat Jun 13 12:26:38 UTC 2020)\n",
       "(EPL source distribution)\n",
       "Java Runtime: OpenJDK Runtime Environment\n",
       "JVM: OpenJDK 64-Bit Server VM\n",
       "Default Encoding: UTF-8\n",
       "Language: en\n",
       "Country: null\n",
       "--></g></svg>"
      ]
     },
     "execution_count": 2,
     "metadata": {},
     "output_type": "execute_result"
    }
   ],
   "source": [
    "%viz --style=\"COMPTREE\" --view=\"Default\" \"PartTest\""
   ]
  },
  {
   "cell_type": "code",
   "execution_count": 3,
   "id": "b1a93c95",
   "metadata": {
    "execution": {
     "iopub.execute_input": "2022-02-05T16:55:42.074208Z",
     "iopub.status.busy": "2022-02-05T16:55:42.073971Z",
     "iopub.status.idle": "2022-02-05T16:55:42.189067Z",
     "shell.execute_reply": "2022-02-05T16:55:42.188865Z"
    }
   },
   "outputs": [
    {
     "data": {
      "image/svg+xml": [
       "<?xml version=\"1.0\" encoding=\"UTF-8\" standalone=\"no\"?><svg xmlns=\"http://www.w3.org/2000/svg\" xmlns:xlink=\"http://www.w3.org/1999/xlink\" contentScriptType=\"application/ecmascript\" contentStyleType=\"text/css\" height=\"721px\" preserveAspectRatio=\"none\" style=\"width:260px;height:721px;\" version=\"1.1\" viewBox=\"0 0 260 721\" width=\"260px\" zoomAndPan=\"magnify\"><defs/><g><!--MD5=[fbc87193dbaf4d95561dea2c320d4a47]\n",
       "cluster E1--><a href=\"psysml:c38775ed-c195-45a3-878f-69446059ff99\" target=\"_top\" title=\"psysml:c38775ed-c195-45a3-878f-69446059ff99\" xlink:actuate=\"onRequest\" xlink:href=\"psysml:c38775ed-c195-45a3-878f-69446059ff99\" xlink:show=\"new\" xlink:title=\"psysml:c38775ed-c195-45a3-878f-69446059ff99\" xlink:type=\"simple\"><polygon fill=\"#FFFFFF\" points=\"16,6,80,6,87,28.2969,238,28.2969,238,709,16,709,16,6\" style=\"stroke: #000000; stroke-width: 1.5;\"/><line style=\"stroke: #000000; stroke-width: 1.5;\" x1=\"16\" x2=\"87\" y1=\"28.2969\" y2=\"28.2969\"/><text fill=\"#000000\" font-family=\"sans-serif\" font-size=\"14\" font-weight=\"bold\" lengthAdjust=\"spacingAndGlyphs\" textLength=\"58\" x=\"20\" y=\"20.9951\">PartTest</text></a><!--MD5=[b4997ac47864f28c2f74865a473b2911]\n",
       "class E2--><a href=\"psysml:133b9857-5562-4f09-a022-80109f8d4a7d\" target=\"_top\" title=\"psysml:133b9857-5562-4f09-a022-80109f8d4a7d\" xlink:actuate=\"onRequest\" xlink:href=\"psysml:133b9857-5562-4f09-a022-80109f8d4a7d\" xlink:show=\"new\" xlink:title=\"psysml:133b9857-5562-4f09-a022-80109f8d4a7d\" xlink:type=\"simple\"><rect fill=\"#FFFFFF\" height=\"45.9375\" id=\"E2\" rx=\"10\" ry=\"10\" style=\"stroke: #383838; stroke-width: 1.5;\" width=\"42\" x=\"32\" y=\"41\"/><text fill=\"#000000\" font-family=\"sans-serif\" font-size=\"12\" font-style=\"italic\" lengthAdjust=\"spacingAndGlyphs\" textLength=\"40\" x=\"33\" y=\"57.1387\">«part»</text><text fill=\"#000000\" font-family=\"sans-serif\" font-size=\"12\" lengthAdjust=\"spacingAndGlyphs\" textLength=\"20\" x=\"41\" y=\"71.1074\">f: A</text><line style=\"stroke: #383838; stroke-width: 1.5;\" x1=\"33\" x2=\"73\" y1=\"78.9375\" y2=\"78.9375\"/></a><!--MD5=[09b614a08d8cba4a07c9adeb5e0fee81]\n",
       "class E3--><a href=\"psysml:41a43e73-47d4-427d-aa17-f57a90b2778c\" target=\"_top\" title=\"psysml:41a43e73-47d4-427d-aa17-f57a90b2778c\" xlink:actuate=\"onRequest\" xlink:href=\"psysml:41a43e73-47d4-427d-aa17-f57a90b2778c\" xlink:show=\"new\" xlink:title=\"psysml:41a43e73-47d4-427d-aa17-f57a90b2778c\" xlink:type=\"simple\"><rect fill=\"#FFFFFF\" height=\"136.7656\" id=\"E3\" style=\"stroke: #383838; stroke-width: 1.5;\" width=\"70\" x=\"33\" y=\"164\"/><text fill=\"#000000\" font-family=\"sans-serif\" font-size=\"12\" font-style=\"italic\" lengthAdjust=\"spacingAndGlyphs\" textLength=\"68\" x=\"34\" y=\"180.1387\">«part  def»</text><text fill=\"#000000\" font-family=\"sans-serif\" font-size=\"12\" lengthAdjust=\"spacingAndGlyphs\" textLength=\"8\" x=\"64\" y=\"194.1074\">A</text><line style=\"stroke: #383838; stroke-width: 1.5;\" x1=\"34\" x2=\"102\" y1=\"201.9375\" y2=\"201.9375\"/><text fill=\"#000000\" font-family=\"sans-serif\" font-size=\"11\" lengthAdjust=\"spacingAndGlyphs\" textLength=\"6\" x=\"39\" y=\"232.9526\">x</text><text fill=\"#000000\" font-family=\"sans-serif\" font-size=\"11\" lengthAdjust=\"spacingAndGlyphs\" textLength=\"44\" x=\"39\" y=\"245.7573\">y:&gt; A::x</text><line style=\"stroke: #383838; stroke-width: 1.0;\" x1=\"34\" x2=\"40.5\" y1=\"216.3398\" y2=\"216.3398\"/><text fill=\"#000000\" font-family=\"sans-serif\" font-size=\"11\" lengthAdjust=\"spacingAndGlyphs\" textLength=\"55\" x=\"40.5\" y=\"219.6479\">attributes</text><line style=\"stroke: #383838; stroke-width: 1.0;\" x1=\"95.5\" x2=\"102\" y1=\"216.3398\" y2=\"216.3398\"/><text fill=\"#000000\" font-family=\"sans-serif\" font-size=\"11\" lengthAdjust=\"spacingAndGlyphs\" textLength=\"22\" x=\"39\" y=\"275.3667\">c: C</text><line style=\"stroke: #383838; stroke-width: 1.0;\" x1=\"34\" x2=\"53\" y1=\"258.7539\" y2=\"258.7539\"/><text fill=\"#000000\" font-family=\"sans-serif\" font-size=\"11\" lengthAdjust=\"spacingAndGlyphs\" textLength=\"30\" x=\"53\" y=\"262.062\">ports</text><line style=\"stroke: #383838; stroke-width: 1.0;\" x1=\"83\" x2=\"102\" y1=\"258.7539\" y2=\"258.7539\"/><text fill=\"#000000\" font-family=\"sans-serif\" font-size=\"11\" lengthAdjust=\"spacingAndGlyphs\" textLength=\"0\" x=\"55\" y=\"294.1714\"/><rect fill=\"#FFFFFF\" height=\"2\" style=\"stroke: #000000; stroke-width: 1.0;\" width=\"2\" x=\"48\" y=\"289.3633\"/><line style=\"stroke: #000000; stroke-width: 1.0;\" x1=\"41\" x2=\"49\" y1=\"290.3633\" y2=\"290.3633\"/><line style=\"stroke: #000000; stroke-width: 1.0;\" x1=\"41\" x2=\"41\" y1=\"283.9609\" y2=\"290.3633\"/></a><!--MD5=[ebbe1d658d1005bcc118a6aa81145e00]\n",
       "class E4--><a href=\"psysml:23a90af0-4107-4bf0-84ea-ac7115753c4e\" target=\"_top\" title=\"psysml:23a90af0-4107-4bf0-84ea-ac7115753c4e\" xlink:actuate=\"onRequest\" xlink:href=\"psysml:23a90af0-4107-4bf0-84ea-ac7115753c4e\" xlink:show=\"new\" xlink:title=\"psysml:23a90af0-4107-4bf0-84ea-ac7115753c4e\" xlink:type=\"simple\"><rect fill=\"#FFFFFF\" height=\"45.9375\" id=\"E4\" rx=\"10\" ry=\"10\" style=\"stroke: #383838; stroke-width: 1.5;\" width=\"42\" x=\"69\" y=\"378\"/><text fill=\"#000000\" font-family=\"sans-serif\" font-size=\"12\" font-style=\"italic\" lengthAdjust=\"spacingAndGlyphs\" textLength=\"40\" x=\"70\" y=\"394.1387\">«part»</text><text fill=\"#000000\" font-family=\"sans-serif\" font-size=\"12\" lengthAdjust=\"spacingAndGlyphs\" textLength=\"24\" x=\"76\" y=\"408.1074\">b: B</text><line style=\"stroke: #383838; stroke-width: 1.5;\" x1=\"70\" x2=\"110\" y1=\"415.9375\" y2=\"415.9375\"/></a><!--MD5=[270fce915f116d4de14055a7c1d9a0f3]\n",
       "class E5--><a href=\"psysml:c17c630d-59e9-4f7e-a520-276041a9c800\" target=\"_top\" title=\"psysml:c17c630d-59e9-4f7e-a520-276041a9c800\" xlink:actuate=\"onRequest\" xlink:href=\"psysml:c17c630d-59e9-4f7e-a520-276041a9c800\" xlink:show=\"new\" xlink:title=\"psysml:c17c630d-59e9-4f7e-a520-276041a9c800\" xlink:type=\"simple\"><rect fill=\"#FFFFFF\" height=\"94.3516\" id=\"E5\" style=\"stroke: #383838; stroke-width: 1.5;\" width=\"70\" x=\"112\" y=\"485\"/><text fill=\"#000000\" font-family=\"sans-serif\" font-size=\"12\" font-style=\"italic\" lengthAdjust=\"spacingAndGlyphs\" textLength=\"68\" x=\"113\" y=\"501.1387\">«part  def»</text><text fill=\"#000000\" font-family=\"sans-serif\" font-size=\"12\" font-style=\"italic\" lengthAdjust=\"spacingAndGlyphs\" textLength=\"8\" x=\"143\" y=\"515.1074\">B</text><line style=\"stroke: #383838; stroke-width: 1.5;\" x1=\"113\" x2=\"181\" y1=\"522.9375\" y2=\"522.9375\"/><text fill=\"#000000\" font-family=\"sans-serif\" font-size=\"11\" lengthAdjust=\"spacingAndGlyphs\" textLength=\"31\" x=\"118\" y=\"553.9526\">x: ~C</text><line style=\"stroke: #383838; stroke-width: 1.0;\" x1=\"113\" x2=\"132\" y1=\"537.3398\" y2=\"537.3398\"/><text fill=\"#000000\" font-family=\"sans-serif\" font-size=\"11\" lengthAdjust=\"spacingAndGlyphs\" textLength=\"30\" x=\"132\" y=\"540.6479\">ports</text><line style=\"stroke: #383838; stroke-width: 1.0;\" x1=\"162\" x2=\"181\" y1=\"537.3398\" y2=\"537.3398\"/><text fill=\"#000000\" font-family=\"sans-serif\" font-size=\"11\" lengthAdjust=\"spacingAndGlyphs\" textLength=\"0\" x=\"134\" y=\"572.7573\"/><rect fill=\"#FFFFFF\" height=\"2\" style=\"stroke: #000000; stroke-width: 1.0;\" width=\"2\" x=\"127\" y=\"567.9492\"/><line style=\"stroke: #000000; stroke-width: 1.0;\" x1=\"120\" x2=\"128\" y1=\"568.9492\" y2=\"568.9492\"/><line style=\"stroke: #000000; stroke-width: 1.0;\" x1=\"120\" x2=\"120\" y1=\"562.5469\" y2=\"568.9492\"/></a><!--MD5=[60a26617385b1d2d0262a64233df1f8d]\n",
       "class E6--><a href=\"psysml:4ea01713-b83a-4578-95eb-e0c0377cf261\" target=\"_top\" title=\"psysml:4ea01713-b83a-4578-95eb-e0c0377cf261\" xlink:actuate=\"onRequest\" xlink:href=\"psysml:4ea01713-b83a-4578-95eb-e0c0377cf261\" xlink:show=\"new\" xlink:title=\"psysml:4ea01713-b83a-4578-95eb-e0c0377cf261\" xlink:type=\"simple\"><rect fill=\"#FFFFFF\" height=\"45.9375\" id=\"E6\" rx=\"10\" ry=\"10\" style=\"stroke: #383838; stroke-width: 1.5;\" width=\"42\" x=\"44\" y=\"643.5\"/><text fill=\"#000000\" font-family=\"sans-serif\" font-size=\"12\" font-style=\"italic\" lengthAdjust=\"spacingAndGlyphs\" textLength=\"40\" x=\"45\" y=\"659.6387\">«part»</text><text fill=\"#000000\" font-family=\"sans-serif\" font-size=\"12\" font-style=\"italic\" lengthAdjust=\"spacingAndGlyphs\" textLength=\"8\" x=\"51\" y=\"673.6074\">a</text><text fill=\"#000000\" font-family=\"sans-serif\" font-size=\"12\" lengthAdjust=\"spacingAndGlyphs\" textLength=\"16\" x=\"59\" y=\"673.6074\">: A</text><line style=\"stroke: #383838; stroke-width: 1.5;\" x1=\"45\" x2=\"85\" y1=\"681.4375\" y2=\"681.4375\"/></a><!--MD5=[b9389687b975829384b498ac4b7476b2]\n",
       "class E8--><a href=\"psysml:e209a1f3-de72-4850-a45f-7036acf7c094\" target=\"_top\" title=\"psysml:e209a1f3-de72-4850-a45f-7036acf7c094\" xlink:actuate=\"onRequest\" xlink:href=\"psysml:e209a1f3-de72-4850-a45f-7036acf7c094\" xlink:show=\"new\" xlink:title=\"psysml:e209a1f3-de72-4850-a45f-7036acf7c094\" xlink:type=\"simple\"><rect fill=\"#FFFFFF\" height=\"45.9375\" id=\"E8\" style=\"stroke: #383838; stroke-width: 1.5;\" width=\"70\" x=\"144\" y=\"41\"/><text fill=\"#000000\" font-family=\"sans-serif\" font-size=\"12\" font-style=\"italic\" lengthAdjust=\"spacingAndGlyphs\" textLength=\"68\" x=\"145\" y=\"57.1387\">«port  def»</text><text fill=\"#000000\" font-family=\"sans-serif\" font-size=\"12\" lengthAdjust=\"spacingAndGlyphs\" textLength=\"8\" x=\"175\" y=\"71.1074\">C</text><line style=\"stroke: #383838; stroke-width: 1.5;\" x1=\"145\" x2=\"213\" y1=\"78.9375\" y2=\"78.9375\"/></a><a href=\"psysml:78dea323-2f70-496c-aa91-db5f05f12a10\" target=\"_top\" title=\"psysml:78dea323-2f70-496c-aa91-db5f05f12a10\" xlink:actuate=\"onRequest\" xlink:href=\"psysml:78dea323-2f70-496c-aa91-db5f05f12a10\" xlink:show=\"new\" xlink:title=\"psysml:78dea323-2f70-496c-aa91-db5f05f12a10\" xlink:type=\"simple\"><polygon fill=\"#FFFFFF\" points=\"132.5,640,147.5,640,154.5,662.2969,161.5,662.2969,161.5,692.5938,132.5,692.5938,132.5,640\" style=\"stroke: #000000; stroke-width: 1.5;\"/><line style=\"stroke: #000000; stroke-width: 1.5;\" x1=\"132.5\" x2=\"154.5\" y1=\"662.2969\" y2=\"662.2969\"/><text fill=\"#000000\" font-family=\"sans-serif\" font-size=\"14\" font-weight=\"bold\" lengthAdjust=\"spacingAndGlyphs\" textLength=\"9\" x=\"136.5\" y=\"654.9951\">P</text></a><!--MD5=[2720a5a1f2c3fca2055b230370638851]\n",
       "link E2 to E3--><a href=\"psysml:de99b855-827b-4779-9c99-7b4326eef43f\" target=\"_top\" title=\"psysml:de99b855-827b-4779-9c99-7b4326eef43f\" xlink:actuate=\"onRequest\" xlink:href=\"psysml:de99b855-827b-4779-9c99-7b4326eef43f\" xlink:show=\"new\" xlink:title=\"psysml:de99b855-827b-4779-9c99-7b4326eef43f\" xlink:type=\"simple\"><path d=\"M45.1,87.22 C42.26,96.33 39.41,107.05 38,117 C36.74,125.88 36.79,135.06 37.73,144.18 \" fill=\"none\" id=\"E2-&gt;E3\" style=\"stroke: #383838; stroke-width: 1.0;\"/><polygon fill=\"#FFFFFF\" points=\"41.05,163.91,30.9969,146.3335,44.8031,144.0124,41.05,163.91\" style=\"stroke: #383838; stroke-width: 1.0;\"/><ellipse cx=\"32.0242\" cy=\"140.3808\" fill=\"#383838\" rx=\"2\" ry=\"2\" style=\"stroke: #383838; stroke-width: 1.0;\"/><ellipse cx=\"41.8858\" cy=\"138.7229\" fill=\"#383838\" rx=\"2\" ry=\"2\" style=\"stroke: #383838; stroke-width: 1.0;\"/></a><!--MD5=[4672eba38e49728da53d11aeb285b987]\n",
       "reverse link E3 to E4--><a href=\"psysml:7d143534-3389-4013-881e-42b16664757f\" target=\"_top\" title=\"psysml:7d143534-3389-4013-881e-42b16664757f\" xlink:actuate=\"onRequest\" xlink:href=\"psysml:7d143534-3389-4013-881e-42b16664757f\" xlink:show=\"new\" xlink:title=\"psysml:7d143534-3389-4013-881e-42b16664757f\" xlink:type=\"simple\"><path d=\"M71.7,314.44 C72.78,325.75 74.19,337.19 76,348 C77.67,357.96 80.43,368.77 83.05,377.94 \" fill=\"none\" id=\"E3&lt;-E4\" style=\"stroke: #383838; stroke-width: 1.0;\"/><polygon fill=\"#383838\" points=\"70.56,301.26,67.0957,307.5845,71.6013,313.2147,75.0655,306.8903,70.56,301.26\" style=\"stroke: #383838; stroke-width: 1.0;\"/><text fill=\"#000000\" font-family=\"sans-serif\" font-size=\"13\" lengthAdjust=\"spacingAndGlyphs\" textLength=\"8\" x=\"72.1072\" y=\"366.8201\">1</text></a><!--MD5=[1b7591eae5389033d8d09a9d6721a717]\n",
       "link E4 to E5--><a href=\"psysml:8d11eaae-af32-434c-8c3d-32f92418f4c8\" target=\"_top\" title=\"psysml:8d11eaae-af32-434c-8c3d-32f92418f4c8\" xlink:actuate=\"onRequest\" xlink:href=\"psysml:8d11eaae-af32-434c-8c3d-32f92418f4c8\" xlink:show=\"new\" xlink:title=\"psysml:8d11eaae-af32-434c-8c3d-32f92418f4c8\" xlink:type=\"simple\"><path d=\"M99.8,424.18 C105.03,436.01 111.76,451.24 118.49,466.47 \" fill=\"none\" id=\"E4-&gt;E5\" style=\"stroke: #383838; stroke-width: 1.0;\"/><polygon fill=\"#FFFFFF\" points=\"126.6,484.83,112.5183,470.2799,125.324,464.6218,126.6,484.83\" style=\"stroke: #383838; stroke-width: 1.0;\"/><ellipse cx=\"112.044\" cy=\"464.2578\" fill=\"#383838\" rx=\"2\" ry=\"2\" style=\"stroke: #383838; stroke-width: 1.0;\"/><ellipse cx=\"121.191\" cy=\"460.2163\" fill=\"#383838\" rx=\"2\" ry=\"2\" style=\"stroke: #383838; stroke-width: 1.0;\"/></a><!--MD5=[85d356282659285ab4b2cfe2f634dd2b]\n",
       "reverse link E5 to E6--><a href=\"psysml:7466bf8a-1e84-4b05-9901-ce46ee446fa5\" target=\"_top\" title=\"psysml:7466bf8a-1e84-4b05-9901-ce46ee446fa5\" xlink:actuate=\"onRequest\" xlink:href=\"psysml:7466bf8a-1e84-4b05-9901-ce46ee446fa5\" xlink:show=\"new\" xlink:title=\"psysml:7466bf8a-1e84-4b05-9901-ce46ee446fa5\" xlink:type=\"simple\"><path d=\"M111.44,590.46 C99.91,609.1 87.79,628.67 78.83,643.16 \" fill=\"none\" id=\"E5&lt;-E6\" style=\"stroke: #383838; stroke-width: 1.0;\"/><polygon fill=\"#383838\" points=\"118.32,579.34,111.7612,582.337,112.0051,589.544,118.5639,586.547,118.32,579.34\" style=\"stroke: #383838; stroke-width: 1.0;\"/><text fill=\"#000000\" font-family=\"sans-serif\" font-size=\"13\" lengthAdjust=\"spacingAndGlyphs\" textLength=\"8\" x=\"73.3489\" y=\"632.3492\">1</text></a><!--MD5=[a717450b82c80b9240a525fa862496af]\n",
       "link E6 to E3--><a href=\"psysml:3c280f0c-0d5e-48e6-b009-cbd7db9e9beb\" target=\"_top\" title=\"psysml:3c280f0c-0d5e-48e6-b009-cbd7db9e9beb\" xlink:actuate=\"onRequest\" xlink:href=\"psysml:3c280f0c-0d5e-48e6-b009-cbd7db9e9beb\" xlink:show=\"new\" xlink:title=\"psysml:3c280f0c-0d5e-48e6-b009-cbd7db9e9beb\" xlink:type=\"simple\"><path d=\"M62.32,643.49 C56.81,595.34 45.2,477.03 51,378 C52.07,359.67 53.91,340.1 55.99,321.48 \" fill=\"none\" id=\"E6-&gt;E3\" style=\"stroke: #383838; stroke-width: 1.0;\"/><polygon fill=\"#FFFFFF\" points=\"58.36,301.35,63.0871,321.0389,49.1834,319.3997,58.36,301.35\" style=\"stroke: #383838; stroke-width: 1.0;\"/><ellipse cx=\"60.4335\" cy=\"326.4655\" fill=\"#383838\" rx=\"2\" ry=\"2\" style=\"stroke: #383838; stroke-width: 1.0;\"/><ellipse cx=\"50.5023\" cy=\"325.2946\" fill=\"#383838\" rx=\"2\" ry=\"2\" style=\"stroke: #383838; stroke-width: 1.0;\"/></a><!--MD5=[452b418e7f8a40397a49b8c0a78acc5b]\n",
       "reverse link E5 to E7--><a href=\"psysml:08766104-19a0-4aca-bf35-b4c81b8c6dcb\" target=\"_top\" title=\"psysml:08766104-19a0-4aca-bf35-b4c81b8c6dcb\" xlink:actuate=\"onRequest\" xlink:href=\"psysml:08766104-19a0-4aca-bf35-b4c81b8c6dcb\" xlink:show=\"new\" xlink:title=\"psysml:08766104-19a0-4aca-bf35-b4c81b8c6dcb\" xlink:type=\"simple\"><path d=\"M147,594.45 C147,610.46 147,626.84 147,639.83 \" fill=\"none\" id=\"E5&lt;-E7\" style=\"stroke: #383838; stroke-width: 1.0;\"/><ellipse cx=\"147\" cy=\"587.34\" fill=\"#FFFFFF\" rx=\"8\" ry=\"8\" style=\"stroke: #383838; stroke-width: 1.0;\"/><line style=\"stroke: #383838; stroke-width: 1.0;\" x1=\"147\" x2=\"147\" y1=\"595.34\" y2=\"579.34\"/><line style=\"stroke: #383838; stroke-width: 1.0;\" x1=\"139\" x2=\"155\" y1=\"587.34\" y2=\"587.34\"/></a><!--MD5=[03c8294790d3c57651a1993cecff665f]\n",
       "reverse link E8 to E3--><a href=\"psysml:f2bac2b1-68d1-4631-bf1f-fa6cff2f703f\" target=\"_top\" title=\"psysml:f2bac2b1-68d1-4631-bf1f-fa6cff2f703f\" xlink:actuate=\"onRequest\" xlink:href=\"psysml:f2bac2b1-68d1-4631-bf1f-fa6cff2f703f\" xlink:show=\"new\" xlink:title=\"psysml:f2bac2b1-68d1-4631-bf1f-fa6cff2f703f\" xlink:type=\"simple\"><path d=\"M131.56,77.02 C110.67,84.85 87.97,97.38 75,117 C65.94,130.71 61.99,147.47 60.8,163.9 \" fill=\"none\" id=\"E8&lt;-E3\" style=\"stroke: #383838; stroke-width: 1.0;\"/><polygon fill=\"#FFFFFF\" points=\"143.89,72.83,136.9238,70.9665,132.5244,76.6801,139.4906,78.5436,143.89,72.83\" style=\"stroke: #383838; stroke-width: 1.0;\"/><text fill=\"#000000\" font-family=\"sans-serif\" font-size=\"13\" lengthAdjust=\"spacingAndGlyphs\" textLength=\"7\" x=\"76\" y=\"130.0669\">y</text></a><!--MD5=[03c8294790d3c57651a1993cecff665f]\n",
       "reverse link E8 to E3--><a href=\"psysml:f2bac2b1-68d1-4631-bf1f-fa6cff2f703f\" target=\"_top\" title=\"psysml:f2bac2b1-68d1-4631-bf1f-fa6cff2f703f\" xlink:actuate=\"onRequest\" xlink:href=\"psysml:f2bac2b1-68d1-4631-bf1f-fa6cff2f703f\" xlink:show=\"new\" xlink:title=\"psysml:f2bac2b1-68d1-4631-bf1f-fa6cff2f703f\" xlink:type=\"simple\"><path d=\"M142.3,96.14 C135.76,102.65 129.34,109.75 124,117 C113.51,131.26 104.11,147.79 96.14,163.78 \" fill=\"none\" id=\"E8&lt;-E3-1\" style=\"stroke: #383838; stroke-width: 1.0;\"/><polygon fill=\"#FFFFFF\" points=\"151.86,87.09,144.754,88.3168,143.1534,95.3481,150.2594,94.1212,151.86,87.09\" style=\"stroke: #383838; stroke-width: 1.0;\"/><text fill=\"#000000\" font-family=\"sans-serif\" font-size=\"13\" lengthAdjust=\"spacingAndGlyphs\" textLength=\"7\" x=\"125\" y=\"130.0669\">y</text></a><!--MD5=[03c8294790d3c57651a1993cecff665f]\n",
       "reverse link E8 to E3--><a href=\"psysml:f2bac2b1-68d1-4631-bf1f-fa6cff2f703f\" target=\"_top\" title=\"psysml:f2bac2b1-68d1-4631-bf1f-fa6cff2f703f\" xlink:actuate=\"onRequest\" xlink:href=\"psysml:f2bac2b1-68d1-4631-bf1f-fa6cff2f703f\" xlink:show=\"new\" xlink:title=\"psysml:f2bac2b1-68d1-4631-bf1f-fa6cff2f703f\" xlink:type=\"simple\"><path d=\"M156.98,98.02 C141.62,121.07 120.79,152.31 103.15,178.77 \" fill=\"none\" id=\"E8&lt;-E3-2\" style=\"stroke: #383838; stroke-width: 1.0;\"/><polygon fill=\"#FFFFFF\" points=\"164.26,87.11,157.6028,89.8815,157.6006,97.0926,164.2578,94.3211,164.26,87.11\" style=\"stroke: #383838; stroke-width: 1.0;\"/><text fill=\"#000000\" font-family=\"sans-serif\" font-size=\"13\" lengthAdjust=\"spacingAndGlyphs\" textLength=\"7\" x=\"144\" y=\"130.0669\">y</text></a><!--MD5=[049ab558815ccadc2a7a6ffdb8f4a5ba]\n",
       "reverse link E8 to E5--><a href=\"psysml:f2bac2b1-68d1-4631-bf1f-fa6cff2f703f\" target=\"_top\" title=\"psysml:f2bac2b1-68d1-4631-bf1f-fa6cff2f703f\" xlink:actuate=\"onRequest\" xlink:href=\"psysml:f2bac2b1-68d1-4631-bf1f-fa6cff2f703f\" xlink:show=\"new\" xlink:title=\"psysml:f2bac2b1-68d1-4631-bf1f-fa6cff2f703f\" xlink:type=\"simple\"><path d=\"M197.26,99.16 C199.64,104.97 201.69,111.05 203,117 C204.62,124.38 203.12,126.45 203,134 C200.78,276.72 233.5,318.13 193,455 C189.98,465.2 185.25,475.43 179.94,484.92 \" fill=\"none\" id=\"E8&lt;-E5\" style=\"stroke: #383838; stroke-width: 1.0;\"/><polygon fill=\"#FFFFFF\" points=\"191.73,87.03,190.583,94.1493,196.7135,97.9463,197.8605,90.827,191.73,87.03\" style=\"stroke: #383838; stroke-width: 1.0;\"/><text fill=\"#000000\" font-family=\"sans-serif\" font-size=\"13\" lengthAdjust=\"spacingAndGlyphs\" textLength=\"7\" x=\"214\" y=\"344.0669\">y</text></a><!--MD5=[049ab558815ccadc2a7a6ffdb8f4a5ba]\n",
       "reverse link E8 to E5--><a href=\"psysml:f2bac2b1-68d1-4631-bf1f-fa6cff2f703f\" target=\"_top\" title=\"psysml:f2bac2b1-68d1-4631-bf1f-fa6cff2f703f\" xlink:actuate=\"onRequest\" xlink:href=\"psysml:f2bac2b1-68d1-4631-bf1f-fa6cff2f703f\" xlink:show=\"new\" xlink:title=\"psysml:f2bac2b1-68d1-4631-bf1f-fa6cff2f703f\" xlink:type=\"simple\"><path d=\"M169.67,99.88 C153.44,161.23 121.23,286.19 116,331 C115.12,338.5 114.57,340.58 116,348 C118.72,362.1 124.42,364.09 128,378 C137.08,413.25 141.87,454.23 144.37,484.9 \" fill=\"none\" id=\"E8&lt;-E5-1\" style=\"stroke: #383838; stroke-width: 1.0;\"/><polygon fill=\"#FFFFFF\" points=\"173.06,87.11,167.6562,91.8848,169.9853,98.7094,175.3891,93.9346,173.06,87.11\" style=\"stroke: #383838; stroke-width: 1.0;\"/><text fill=\"#000000\" font-family=\"sans-serif\" font-size=\"13\" lengthAdjust=\"spacingAndGlyphs\" textLength=\"7\" x=\"117\" y=\"344.0669\">y</text></a><!--MD5=[049ab558815ccadc2a7a6ffdb8f4a5ba]\n",
       "reverse link E8 to E5--><a href=\"psysml:f2bac2b1-68d1-4631-bf1f-fa6cff2f703f\" target=\"_top\" title=\"psysml:f2bac2b1-68d1-4631-bf1f-fa6cff2f703f\" xlink:actuate=\"onRequest\" xlink:href=\"psysml:f2bac2b1-68d1-4631-bf1f-fa6cff2f703f\" xlink:show=\"new\" xlink:title=\"psysml:f2bac2b1-68d1-4631-bf1f-fa6cff2f703f\" xlink:type=\"simple\"><path d=\"M176.58,100.29 C170.87,183.45 156.57,391.65 150.18,484.75 \" fill=\"none\" id=\"E8&lt;-E5-2\" style=\"stroke: #383838; stroke-width: 1.0;\"/><polygon fill=\"#FFFFFF\" points=\"177.48,87.16,173.0806,92.8736,176.6625,99.1321,181.062,93.4186,177.48,87.16\" style=\"stroke: #383838; stroke-width: 1.0;\"/><text fill=\"#000000\" font-family=\"sans-serif\" font-size=\"13\" lengthAdjust=\"spacingAndGlyphs\" textLength=\"7\" x=\"161\" y=\"344.0669\">y</text></a><!--MD5=[7b913fd455d557984e3bb7df2f72c0eb]\n",
       "@startuml\r\n",
       " skinparam monochrome true\r\n",
       "skinparam classbackgroundcolor white\r\n",
       "skinparam shadowing false\r\n",
       "skinparam wrapWidth 300\r\n",
       "hide circle\r\n",
       "\r\n",
       "package \"PartTest\" as E1  [[psysml:c38775ed-c195-45a3-878f-69446059ff99 ]]  {\r\n",
       "comp usage \"f: A \" as E2  <<(T,blue) part>> [[psysml:133b9857-5562-4f09-a022-80109f8d4a7d ]] {\r\n",
       "}\r\n",
       "comp def \"A\" as E3  <<(T,blue) part  def>> [[psysml:41a43e73-47d4-427d-aa17-f57a90b2778c ]] {\r\n",
       "- - attributes - -\r\n",
       "x\r\n",
       "y:> A::x\r\n",
       "- - ports - -\r\n",
       "c: C\r\n",
       "|_ \r\n",
       "}\r\n",
       "comp usage \"b: B \" as E4  <<(T,blue) part>> [[psysml:23a90af0-4107-4bf0-84ea-ac7115753c4e ]] {\r\n",
       "}\r\n",
       "comp def \"<i>B</i>\" as E5  <<(T,blue) part  def>> [[psysml:c17c630d-59e9-4f7e-a520-276041a9c800 ]] {\r\n",
       "- - ports - -\r\n",
       "x: ~C\r\n",
       "|_ \r\n",
       "}\r\n",
       "comp usage \"<i>a</i>: A \" as E6  <<(T,blue) part>> [[psysml:4ea01713-b83a-4578-95eb-e0c0377cf261 ]] {\r\n",
       "}\r\n",
       "package \"P\" as E7  [[psysml:78dea323-2f70-496c-aa91-db5f05f12a10 ]]  {\r\n",
       "}\r\n",
       "comp def \"C\" as E8  <<(T,blue) port  def>> [[psysml:e209a1f3-de72-4850-a45f-7036acf7c094 ]] {\r\n",
       "}\r\n",
       "}\r\n",
       "E2 - -:|> E3 [[psysml:de99b855-827b-4779-9c99-7b4326eef43f ]] \r\n",
       "E3 *- - \"1\"E4 [[psysml:7d143534-3389-4013-881e-42b16664757f ]] \r\n",
       "E4 - -:|> E5 [[psysml:8d11eaae-af32-434c-8c3d-32f92418f4c8 ]] \r\n",
       "E5 *- - \"1\"E6 [[psysml:7466bf8a-1e84-4b05-9901-ce46ee446fa5 ]] \r\n",
       "E6 - -:|> E3 [[psysml:3c280f0c-0d5e-48e6-b009-cbd7db9e9beb ]] \r\n",
       "E5 +- - E7 [[psysml:08766104-19a0-4aca-bf35-b4c81b8c6dcb ]] \r\n",
       "E8 o- - E3 [[psysml:f2bac2b1-68d1-4631-bf1f-fa6cff2f703f ]] : y\r\n",
       "E8 o- - E5 [[psysml:f2bac2b1-68d1-4631-bf1f-fa6cff2f703f ]] : y\r\n",
       "E8 o- - E3 [[psysml:f2bac2b1-68d1-4631-bf1f-fa6cff2f703f ]] : y\r\n",
       "E8 o- - E5 [[psysml:f2bac2b1-68d1-4631-bf1f-fa6cff2f703f ]] : y\r\n",
       "E8 o- - E3 [[psysml:f2bac2b1-68d1-4631-bf1f-fa6cff2f703f ]] : y\r\n",
       "E8 o- - E5 [[psysml:f2bac2b1-68d1-4631-bf1f-fa6cff2f703f ]] : y\r\n",
       "@enduml\r\n",
       "\n",
       "PlantUML version 1.2020.13(Sat Jun 13 12:26:38 UTC 2020)\n",
       "(EPL source distribution)\n",
       "Java Runtime: OpenJDK Runtime Environment\n",
       "JVM: OpenJDK 64-Bit Server VM\n",
       "Default Encoding: UTF-8\n",
       "Language: en\n",
       "Country: null\n",
       "--></g></svg>"
      ]
     },
     "execution_count": 3,
     "metadata": {},
     "output_type": "execute_result"
    }
   ],
   "source": [
    "%viz --style=\"COMPTREE\" --view=\"Tree\" \"PartTest\""
   ]
  },
  {
   "cell_type": "code",
   "execution_count": 4,
   "id": "ead5bb5b",
   "metadata": {
    "execution": {
     "iopub.execute_input": "2022-02-05T16:55:42.239223Z",
     "iopub.status.busy": "2022-02-05T16:55:42.238862Z",
     "iopub.status.idle": "2022-02-05T16:55:42.243970Z",
     "shell.execute_reply": "2022-02-05T16:55:42.244211Z"
    }
   },
   "outputs": [
    {
     "data": {
      "image/svg+xml": [
       "<?xml version=\"1.0\" encoding=\"UTF-8\" standalone=\"no\"?><svg xmlns=\"http://www.w3.org/2000/svg\" xmlns:xlink=\"http://www.w3.org/1999/xlink\" contentScriptType=\"application/ecmascript\" contentStyleType=\"text/css\" height=\"12px\" preserveAspectRatio=\"none\" style=\"width:12px;height:12px;\" version=\"1.1\" viewBox=\"0 0 12 12\" width=\"12px\" zoomAndPan=\"magnify\"><defs/><g><!--MD5=[f19188ef49e11757b5c46753f95d9edc]\n",
       "@startuml\r\n",
       " skinparam monochrome true\r\n",
       "skinparam classbackgroundcolor white\r\n",
       "skinparam shadowing false\r\n",
       "skinparam wrapWidth 300\r\n",
       "hide circle\r\n",
       "\r\n",
       "@enduml\r\n",
       "\n",
       "PlantUML version 1.2020.13(Sat Jun 13 12:26:38 UTC 2020)\n",
       "(EPL source distribution)\n",
       "Java Runtime: OpenJDK Runtime Environment\n",
       "JVM: OpenJDK 64-Bit Server VM\n",
       "Default Encoding: UTF-8\n",
       "Language: en\n",
       "Country: null\n",
       "--></g></svg>"
      ]
     },
     "execution_count": 4,
     "metadata": {},
     "output_type": "execute_result"
    }
   ],
   "source": [
    "%viz --style=\"COMPTREE\" --view=\"State\" \"PartTest\""
   ]
  },
  {
   "cell_type": "code",
   "execution_count": 5,
   "id": "14738fb5",
   "metadata": {
    "execution": {
     "iopub.execute_input": "2022-02-05T16:55:42.294180Z",
     "iopub.status.busy": "2022-02-05T16:55:42.293901Z",
     "iopub.status.idle": "2022-02-05T16:55:42.333737Z",
     "shell.execute_reply": "2022-02-05T16:55:42.333365Z"
    }
   },
   "outputs": [
    {
     "data": {
      "image/svg+xml": [
       "<?xml version=\"1.0\" encoding=\"UTF-8\" standalone=\"no\"?><svg xmlns=\"http://www.w3.org/2000/svg\" xmlns:xlink=\"http://www.w3.org/1999/xlink\" contentScriptType=\"application/ecmascript\" contentStyleType=\"text/css\" height=\"253px\" preserveAspectRatio=\"none\" style=\"width:685px;height:253px;\" version=\"1.1\" viewBox=\"0 0 685 253\" width=\"685px\" zoomAndPan=\"magnify\"><defs/><g><!--MD5=[fbc87193dbaf4d95561dea2c320d4a47]\n",
       "cluster E1--><a href=\"psysml:c38775ed-c195-45a3-878f-69446059ff99\" target=\"_top\" title=\"psysml:c38775ed-c195-45a3-878f-69446059ff99\" xlink:actuate=\"onRequest\" xlink:href=\"psysml:c38775ed-c195-45a3-878f-69446059ff99\" xlink:show=\"new\" xlink:title=\"psysml:c38775ed-c195-45a3-878f-69446059ff99\" xlink:type=\"simple\"><polygon fill=\"#FFFFFF\" points=\"16,6,80,6,87,28.2969,663,28.2969,663,241,16,241,16,6\" style=\"stroke: #000000; stroke-width: 1.5;\"/><line style=\"stroke: #000000; stroke-width: 1.5;\" x1=\"16\" x2=\"87\" y1=\"28.2969\" y2=\"28.2969\"/><text fill=\"#000000\" font-family=\"sans-serif\" font-size=\"14\" font-weight=\"bold\" lengthAdjust=\"spacingAndGlyphs\" textLength=\"58\" x=\"20\" y=\"20.9951\">PartTest</text></a><!--MD5=[d5e69f78d87373223dbae638b30a9c99]\n",
       "cluster E3--><a href=\"psysml:41a43e73-47d4-427d-aa17-f57a90b2778c\" target=\"_top\" title=\"psysml:41a43e73-47d4-427d-aa17-f57a90b2778c\" xlink:actuate=\"onRequest\" xlink:href=\"psysml:41a43e73-47d4-427d-aa17-f57a90b2778c\" xlink:show=\"new\" xlink:title=\"psysml:41a43e73-47d4-427d-aa17-f57a90b2778c\" xlink:type=\"simple\"><rect fill=\"#FFFFFF\" height=\"159\" id=\"E3\" style=\"stroke: #383838; stroke-width: 1.5;\" width=\"230\" x=\"417\" y=\"62.5\"/><rect fill=\"#F8F8F8\" height=\"37.9375\" style=\"stroke: #383838; stroke-width: 1.5;\" width=\"230\" x=\"417\" y=\"62.5\"/><text fill=\"#000000\" font-family=\"sans-serif\" font-size=\"12\" font-style=\"italic\" lengthAdjust=\"spacingAndGlyphs\" textLength=\"68\" x=\"498\" y=\"78.6387\">«part  def»</text><text fill=\"#000000\" font-family=\"sans-serif\" font-size=\"12\" lengthAdjust=\"spacingAndGlyphs\" textLength=\"8\" x=\"528\" y=\"92.6074\">A</text></a><!--MD5=[55dfccfc6c49c2d10cd1bd2211a6c90c]\n",
       "cluster E8--><a href=\"psysml:c17c630d-59e9-4f7e-a520-276041a9c800\" target=\"_top\" title=\"psysml:c17c630d-59e9-4f7e-a520-276041a9c800\" xlink:actuate=\"onRequest\" xlink:href=\"psysml:c17c630d-59e9-4f7e-a520-276041a9c800\" xlink:show=\"new\" xlink:title=\"psysml:c17c630d-59e9-4f7e-a520-276041a9c800\" xlink:type=\"simple\"><rect fill=\"#FFFFFF\" height=\"162.5\" id=\"E8\" style=\"stroke: #383838; stroke-width: 1.5;\" width=\"209\" x=\"200\" y=\"62.5\"/><rect fill=\"#F8F8F8\" height=\"37.9375\" style=\"stroke: #383838; stroke-width: 1.5;\" width=\"209\" x=\"200\" y=\"62.5\"/><text fill=\"#000000\" font-family=\"sans-serif\" font-size=\"12\" font-style=\"italic\" lengthAdjust=\"spacingAndGlyphs\" textLength=\"68\" x=\"270.5\" y=\"78.6387\">«part  def»</text><text fill=\"#000000\" font-family=\"sans-serif\" font-size=\"12\" font-style=\"italic\" lengthAdjust=\"spacingAndGlyphs\" textLength=\"8\" x=\"300.5\" y=\"92.6074\">B</text></a><g id=\"E1.E12\"><a href=\"psysml:e209a1f3-de72-4850-a45f-7036acf7c094\" target=\"_top\" title=\"psysml:e209a1f3-de72-4850-a45f-7036acf7c094\" xlink:actuate=\"onRequest\" xlink:href=\"psysml:e209a1f3-de72-4850-a45f-7036acf7c094\" xlink:show=\"new\" xlink:title=\"psysml:e209a1f3-de72-4850-a45f-7036acf7c094\" xlink:type=\"simple\"><rect fill=\"#FFFFFF\" height=\"42.9375\" id=\"E12\" style=\"stroke: #383838; stroke-width: 1.5;\" width=\"75\" x=\"117.5\" y=\"41\"/><rect fill=\"#F8F8F8\" height=\"37.9375\" style=\"stroke: #383838; stroke-width: 1.5;\" width=\"75\" x=\"117.5\" y=\"41\"/><text fill=\"#000000\" font-family=\"sans-serif\" font-size=\"12\" font-style=\"italic\" lengthAdjust=\"spacingAndGlyphs\" textLength=\"68\" x=\"121\" y=\"57.1387\">«port  def»</text><text fill=\"#000000\" font-family=\"sans-serif\" font-size=\"12\" lengthAdjust=\"spacingAndGlyphs\" textLength=\"8\" x=\"151\" y=\"71.1074\">C</text></a></g><g id=\"E1.E2\"><a href=\"psysml:133b9857-5562-4f09-a022-80109f8d4a7d\" target=\"_top\" title=\"psysml:133b9857-5562-4f09-a022-80109f8d4a7d\" xlink:actuate=\"onRequest\" xlink:href=\"psysml:133b9857-5562-4f09-a022-80109f8d4a7d\" xlink:show=\"new\" xlink:title=\"psysml:133b9857-5562-4f09-a022-80109f8d4a7d\" xlink:type=\"simple\"><rect fill=\"#FFFFFF\" height=\"40\" id=\"E2\" rx=\"10\" ry=\"10\" style=\"stroke: #383838; stroke-width: 1.5;\" width=\"50\" x=\"32\" y=\"42.5\"/><rect fill=\"#F8F8F8\" height=\"23.9688\" rx=\"10\" ry=\"10\" style=\"stroke: #F8F8F8; stroke-width: 1.5;\" width=\"50\" x=\"32\" y=\"42.5\"/><rect fill=\"#F8F8F8\" height=\"10\" style=\"stroke: #F8F8F8; stroke-width: 1.5;\" width=\"50\" x=\"32\" y=\"56.4688\"/><rect fill=\"none\" height=\"40\" id=\"E2\" rx=\"10\" ry=\"10\" style=\"stroke: #383838; stroke-width: 1.5;\" width=\"50\" x=\"32\" y=\"42.5\"/><text fill=\"#000000\" font-family=\"sans-serif\" font-size=\"12\" lengthAdjust=\"spacingAndGlyphs\" textLength=\"20\" x=\"47\" y=\"58.6387\">f: A</text></a></g><text fill=\"#000000\" font-family=\"sans-serif\" font-size=\"14\" lengthAdjust=\"spacingAndGlyphs\" textLength=\"27\" x=\"569.5\" y=\"41.1982\">c: C</text><rect fill=\"#383838\" height=\"12\" style=\"stroke: #F8F8F8; stroke-width: 1.5;\" width=\"12\" x=\"579\" y=\"56.5\"/><!--MD5=[60a26617385b1d2d0262a64233df1f8d]\n",
       "class E6--><a href=\"psysml:445f494e-a94c-4fdf-9cc7-f31ccfeaa97f\" target=\"_top\" title=\"psysml:445f494e-a94c-4fdf-9cc7-f31ccfeaa97f\" xlink:actuate=\"onRequest\" xlink:href=\"psysml:445f494e-a94c-4fdf-9cc7-f31ccfeaa97f\" xlink:show=\"new\" xlink:title=\"psysml:445f494e-a94c-4fdf-9cc7-f31ccfeaa97f\" xlink:type=\"simple\"><rect fill=\"#FFFFFF\" height=\"45.9375\" id=\"E6\" rx=\"10\" ry=\"10\" style=\"stroke: #383838; stroke-width: 1.5;\" width=\"71\" x=\"433.5\" y=\"159.5\"/><text fill=\"#000000\" font-family=\"sans-serif\" font-size=\"12\" font-style=\"italic\" lengthAdjust=\"spacingAndGlyphs\" textLength=\"69\" x=\"434.5\" y=\"175.6387\">«attribute»</text><text fill=\"#000000\" font-family=\"sans-serif\" font-size=\"12\" lengthAdjust=\"spacingAndGlyphs\" textLength=\"6\" x=\"464\" y=\"189.6074\">x</text><line style=\"stroke: #383838; stroke-width: 1.5;\" x1=\"434.5\" x2=\"503.5\" y1=\"197.4375\" y2=\"197.4375\"/></a><!--MD5=[2156ba9850f5573cc1fc38a6a4b2f02b]\n",
       "class E7--><a href=\"psysml:83189ed0-8892-41b6-b657-b7e16a6a2eeb\" target=\"_top\" title=\"psysml:83189ed0-8892-41b6-b657-b7e16a6a2eeb\" xlink:actuate=\"onRequest\" xlink:href=\"psysml:83189ed0-8892-41b6-b657-b7e16a6a2eeb\" xlink:show=\"new\" xlink:title=\"psysml:83189ed0-8892-41b6-b657-b7e16a6a2eeb\" xlink:type=\"simple\"><rect fill=\"#FFFFFF\" height=\"45.9375\" id=\"E7\" rx=\"10\" ry=\"10\" style=\"stroke: #383838; stroke-width: 1.5;\" width=\"71\" x=\"433.5\" y=\"100\"/><text fill=\"#000000\" font-family=\"sans-serif\" font-size=\"12\" font-style=\"italic\" lengthAdjust=\"spacingAndGlyphs\" textLength=\"69\" x=\"434.5\" y=\"116.1387\">«attribute»</text><text fill=\"#000000\" font-family=\"sans-serif\" font-size=\"12\" lengthAdjust=\"spacingAndGlyphs\" textLength=\"50\" x=\"444\" y=\"130.1074\">y :&gt; A::x</text><line style=\"stroke: #383838; stroke-width: 1.5;\" x1=\"434.5\" x2=\"503.5\" y1=\"137.9375\" y2=\"137.9375\"/></a><g id=\"E1.E3.E4\"><a href=\"psysml:23a90af0-4107-4bf0-84ea-ac7115753c4e\" target=\"_top\" title=\"psysml:23a90af0-4107-4bf0-84ea-ac7115753c4e\" xlink:actuate=\"onRequest\" xlink:href=\"psysml:23a90af0-4107-4bf0-84ea-ac7115753c4e\" xlink:show=\"new\" xlink:title=\"psysml:23a90af0-4107-4bf0-84ea-ac7115753c4e\" xlink:type=\"simple\"><rect fill=\"#FFFFFF\" height=\"40\" id=\"E4\" rx=\"10\" ry=\"10\" style=\"stroke: #383838; stroke-width: 1.5;\" width=\"50\" x=\"560\" y=\"162.5\"/><rect fill=\"#F8F8F8\" height=\"23.9688\" rx=\"10\" ry=\"10\" style=\"stroke: #F8F8F8; stroke-width: 1.5;\" width=\"50\" x=\"560\" y=\"162.5\"/><rect fill=\"#F8F8F8\" height=\"10\" style=\"stroke: #F8F8F8; stroke-width: 1.5;\" width=\"50\" x=\"560\" y=\"176.4688\"/><rect fill=\"none\" height=\"40\" id=\"E4\" rx=\"10\" ry=\"10\" style=\"stroke: #383838; stroke-width: 1.5;\" width=\"50\" x=\"560\" y=\"162.5\"/><text fill=\"#000000\" font-family=\"sans-serif\" font-size=\"12\" lengthAdjust=\"spacingAndGlyphs\" textLength=\"24\" x=\"573\" y=\"178.6387\">b: B</text></a></g><text fill=\"#000000\" font-family=\"sans-serif\" font-size=\"14\" lengthAdjust=\"spacingAndGlyphs\" textLength=\"38\" x=\"326\" y=\"41.1982\">x: ~C</text><rect fill=\"#383838\" height=\"12\" style=\"stroke: #F8F8F8; stroke-width: 1.5;\" width=\"12\" x=\"341\" y=\"56.5\"/><g id=\"E1.E8.E9\"><a href=\"psysml:4ea01713-b83a-4578-95eb-e0c0377cf261\" target=\"_top\" title=\"psysml:4ea01713-b83a-4578-95eb-e0c0377cf261\" xlink:actuate=\"onRequest\" xlink:href=\"psysml:4ea01713-b83a-4578-95eb-e0c0377cf261\" xlink:show=\"new\" xlink:title=\"psysml:4ea01713-b83a-4578-95eb-e0c0377cf261\" xlink:type=\"simple\"><rect fill=\"#FFFFFF\" height=\"40\" id=\"E9\" rx=\"10\" ry=\"10\" style=\"stroke: #383838; stroke-width: 1.5;\" width=\"50\" x=\"216\" y=\"103\"/><rect fill=\"#F8F8F8\" height=\"23.9688\" rx=\"10\" ry=\"10\" style=\"stroke: #F8F8F8; stroke-width: 1.5;\" width=\"50\" x=\"216\" y=\"103\"/><rect fill=\"#F8F8F8\" height=\"10\" style=\"stroke: #F8F8F8; stroke-width: 1.5;\" width=\"50\" x=\"216\" y=\"116.9688\"/><rect fill=\"none\" height=\"40\" id=\"E9\" rx=\"10\" ry=\"10\" style=\"stroke: #383838; stroke-width: 1.5;\" width=\"50\" x=\"216\" y=\"103\"/><text fill=\"#000000\" font-family=\"sans-serif\" font-size=\"12\" lengthAdjust=\"spacingAndGlyphs\" textLength=\"24\" x=\"229\" y=\"119.1387\">a: A</text></a></g><a href=\"psysml:78dea323-2f70-496c-aa91-db5f05f12a10\" target=\"_top\" title=\"psysml:78dea323-2f70-496c-aa91-db5f05f12a10\" xlink:actuate=\"onRequest\" xlink:href=\"psysml:78dea323-2f70-496c-aa91-db5f05f12a10\" xlink:show=\"new\" xlink:title=\"psysml:78dea323-2f70-496c-aa91-db5f05f12a10\" xlink:type=\"simple\"><polygon fill=\"#FFFFFF\" points=\"332.5,156,347.5,156,354.5,178.2969,361.5,178.2969,361.5,208.5938,332.5,208.5938,332.5,156\" style=\"stroke: #000000; stroke-width: 1.5;\"/><line style=\"stroke: #000000; stroke-width: 1.5;\" x1=\"332.5\" x2=\"354.5\" y1=\"178.2969\" y2=\"178.2969\"/><text fill=\"#000000\" font-family=\"sans-serif\" font-size=\"14\" font-weight=\"bold\" lengthAdjust=\"spacingAndGlyphs\" textLength=\"9\" x=\"336.5\" y=\"170.9951\">P</text></a><!--MD5=[fbb449814971db3a0b8220cf225b9e01]\n",
       "link E7 to E6--><a href=\"psysml:2104b8b7-83c3-4383-b55d-abdf660b6842\" target=\"_top\" title=\"psysml:2104b8b7-83c3-4383-b55d-abdf660b6842\" xlink:actuate=\"onRequest\" xlink:href=\"psysml:2104b8b7-83c3-4383-b55d-abdf660b6842\" xlink:show=\"new\" xlink:title=\"psysml:2104b8b7-83c3-4383-b55d-abdf660b6842\" xlink:type=\"simple\"><path d=\"M469,146.07 C469,146.2 469,146.34 469,146.47 \" fill=\"none\" id=\"E7-&gt;E6\" style=\"stroke: #383838; stroke-width: 1.0;\"/><polygon fill=\"none\" points=\"476,139.21,469,159.21,462,139.21,476,139.21\" style=\"stroke: #383838; stroke-width: 1.0;\"/></a><!--MD5=[fd0d12750e4b3ef97e22f28c418429af]\n",
       "@startuml\r\n",
       "skinparam ranksep 10\r\n",
       "skinparam rectangle {\r\n",
       " backgroundColor<<block>> LightGreen\r\n",
       "}\r\n",
       " skinparam monochrome true\r\n",
       "skinparam classbackgroundcolor white\r\n",
       "skinparam shadowing false\r\n",
       "skinparam wrapWidth 300\r\n",
       "hide circle\r\n",
       "\r\n",
       "package \"PartTest\" as E1  [[psysml:c38775ed-c195-45a3-878f-69446059ff99 ]]  {\r\n",
       "rec usage \"f: A\" as E2  [[psysml:133b9857-5562-4f09-a022-80109f8d4a7d ]] {\r\n",
       "}\r\n",
       "rec def \"A\" as E3  <<(T,blue) part  def>> [[psysml:41a43e73-47d4-427d-aa17-f57a90b2778c ]] {\r\n",
       "rec usage \"b: B\" as E4  [[psysml:23a90af0-4107-4bf0-84ea-ac7115753c4e ]] {\r\n",
       "}\r\n",
       "portin \"c: C \" as E5  <<(T,blue) port>> [[psysml:3bde4e3d-0323-4342-8ecc-6f2c3dab5224 ]] \r\n",
       "comp usage \"x \" as E6  <<(T,blue) attribute>> [[psysml:445f494e-a94c-4fdf-9cc7-f31ccfeaa97f ]] {\r\n",
       "}\r\n",
       "comp usage \"y :> A::x\" as E7  <<(T,blue) attribute>> [[psysml:83189ed0-8892-41b6-b657-b7e16a6a2eeb ]] {\r\n",
       "}\r\n",
       "}\r\n",
       "rec def \"<i>B</i>\" as E8  <<(T,blue) part  def>> [[psysml:c17c630d-59e9-4f7e-a520-276041a9c800 ]] {\r\n",
       "rec usage \"a: A\" as E9  [[psysml:4ea01713-b83a-4578-95eb-e0c0377cf261 ]] {\r\n",
       "}\r\n",
       "portin \"x: ~C \" as E10  <<(T,blue) port>> [[psysml:c9f90055-486d-4326-9691-bfe47f710c68 ]] \r\n",
       "package \"P\" as E11  [[psysml:78dea323-2f70-496c-aa91-db5f05f12a10 ]]  {\r\n",
       "}\r\n",
       "}\r\n",
       "def \"C\" as E12  <<(T,blue) port  def>> [[psysml:e209a1f3-de72-4850-a45f-7036acf7c094 ]] \r\n",
       "}\r\n",
       "E7 - -|> E6 [[psysml:2104b8b7-83c3-4383-b55d-abdf660b6842 ]] \r\n",
       "@enduml\r\n",
       "\n",
       "PlantUML version 1.2020.13(Sat Jun 13 12:26:38 UTC 2020)\n",
       "(EPL source distribution)\n",
       "Java Runtime: OpenJDK Runtime Environment\n",
       "JVM: OpenJDK 64-Bit Server VM\n",
       "Default Encoding: UTF-8\n",
       "Language: en\n",
       "Country: null\n",
       "--></g></svg>"
      ]
     },
     "execution_count": 5,
     "metadata": {},
     "output_type": "execute_result"
    }
   ],
   "source": [
    "%viz --style=\"COMPTREE\" --view=\"Interconnection\" \"PartTest\""
   ]
  },
  {
   "cell_type": "code",
   "execution_count": 6,
   "id": "cacc6ddc",
   "metadata": {
    "execution": {
     "iopub.execute_input": "2022-02-05T16:55:42.383371Z",
     "iopub.status.busy": "2022-02-05T16:55:42.382903Z",
     "iopub.status.idle": "2022-02-05T16:55:42.387933Z",
     "shell.execute_reply": "2022-02-05T16:55:42.387545Z"
    }
   },
   "outputs": [
    {
     "data": {
      "image/svg+xml": [
       "<?xml version=\"1.0\" encoding=\"UTF-8\" standalone=\"no\"?><svg xmlns=\"http://www.w3.org/2000/svg\" xmlns:xlink=\"http://www.w3.org/1999/xlink\" contentScriptType=\"application/ecmascript\" contentStyleType=\"text/css\" height=\"12px\" preserveAspectRatio=\"none\" style=\"width:12px;height:12px;\" version=\"1.1\" viewBox=\"0 0 12 12\" width=\"12px\" zoomAndPan=\"magnify\"><defs/><g><!--MD5=[655b888544ca4751ea36af1068543f84]\n",
       "@startuml\r\n",
       "skinparam ranksep 8\r\n",
       " skinparam monochrome true\r\n",
       "skinparam classbackgroundcolor white\r\n",
       "skinparam shadowing false\r\n",
       "skinparam wrapWidth 300\r\n",
       "hide circle\r\n",
       "\r\n",
       "@enduml\r\n",
       "\n",
       "PlantUML version 1.2020.13(Sat Jun 13 12:26:38 UTC 2020)\n",
       "(EPL source distribution)\n",
       "Java Runtime: OpenJDK Runtime Environment\n",
       "JVM: OpenJDK 64-Bit Server VM\n",
       "Default Encoding: UTF-8\n",
       "Language: en\n",
       "Country: null\n",
       "--></g></svg>"
      ]
     },
     "execution_count": 6,
     "metadata": {},
     "output_type": "execute_result"
    }
   ],
   "source": [
    "%viz --style=\"COMPTREE\" --view=\"Action\" \"PartTest\""
   ]
  },
  {
   "cell_type": "code",
   "execution_count": 7,
   "id": "4b379319",
   "metadata": {
    "execution": {
     "iopub.execute_input": "2022-02-05T16:55:42.437829Z",
     "iopub.status.busy": "2022-02-05T16:55:42.437332Z",
     "iopub.status.idle": "2022-02-05T16:55:42.448075Z",
     "shell.execute_reply": "2022-02-05T16:55:42.448442Z"
    }
   },
   "outputs": [
    {
     "data": {
      "image/svg+xml": [
       "<?xml version=\"1.0\" encoding=\"UTF-8\" standalone=\"no\"?><svg xmlns=\"http://www.w3.org/2000/svg\" xmlns:xlink=\"http://www.w3.org/1999/xlink\" contentScriptType=\"application/ecmascript\" contentStyleType=\"text/css\" height=\"12px\" preserveAspectRatio=\"none\" style=\"width:12px;height:12px;\" version=\"1.1\" viewBox=\"0 0 12 12\" width=\"12px\" zoomAndPan=\"magnify\"><defs/><g><!--MD5=[803fc46c337be7a5c8a9831e35356779]\n",
       "@startuml\r\n",
       "skinparam roundcorner 20\r\n",
       "skinparam BoxPadding 20\r\n",
       "skinparam SequenceBoxBackgroundColor #white\r\n",
       "skinparam style strictuml\r\n",
       "skinparam maxMessageSize 100\r\n",
       " skinparam monochrome true\r\n",
       "skinparam classbackgroundcolor white\r\n",
       "skinparam shadowing false\r\n",
       "skinparam wrapWidth 300\r\n",
       "hide circle\r\n",
       "\r\n",
       "@enduml\r\n",
       "\n",
       "PlantUML version 1.2020.13(Sat Jun 13 12:26:38 UTC 2020)\n",
       "(EPL source distribution)\n",
       "Java Runtime: OpenJDK Runtime Environment\n",
       "JVM: OpenJDK 64-Bit Server VM\n",
       "Default Encoding: UTF-8\n",
       "Language: en\n",
       "Country: null\n",
       "--></g></svg>"
      ]
     },
     "execution_count": 7,
     "metadata": {},
     "output_type": "execute_result"
    }
   ],
   "source": [
    "%viz --style=\"COMPTREE\" --view=\"Sequence\" \"PartTest\""
   ]
  },
  {
   "cell_type": "code",
   "execution_count": 8,
   "id": "71e70d28",
   "metadata": {
    "execution": {
     "iopub.execute_input": "2022-02-05T16:55:42.498621Z",
     "iopub.status.busy": "2022-02-05T16:55:42.498170Z",
     "iopub.status.idle": "2022-02-05T16:55:42.612605Z",
     "shell.execute_reply": "2022-02-05T16:55:42.610912Z"
    }
   },
   "outputs": [
    {
     "data": {
      "image/svg+xml": [
       "<?xml version=\"1.0\" encoding=\"UTF-8\" standalone=\"no\"?><svg xmlns=\"http://www.w3.org/2000/svg\" xmlns:xlink=\"http://www.w3.org/1999/xlink\" contentScriptType=\"application/ecmascript\" contentStyleType=\"text/css\" height=\"721px\" preserveAspectRatio=\"none\" style=\"width:260px;height:721px;\" version=\"1.1\" viewBox=\"0 0 260 721\" width=\"260px\" zoomAndPan=\"magnify\"><defs/><g><!--MD5=[fbc87193dbaf4d95561dea2c320d4a47]\n",
       "cluster E1--><a href=\"psysml:c38775ed-c195-45a3-878f-69446059ff99\" target=\"_top\" title=\"psysml:c38775ed-c195-45a3-878f-69446059ff99\" xlink:actuate=\"onRequest\" xlink:href=\"psysml:c38775ed-c195-45a3-878f-69446059ff99\" xlink:show=\"new\" xlink:title=\"psysml:c38775ed-c195-45a3-878f-69446059ff99\" xlink:type=\"simple\"><polygon fill=\"#FFFFFF\" points=\"16,6,80,6,87,28.2969,238,28.2969,238,709,16,709,16,6\" style=\"stroke: #000000; stroke-width: 1.5;\"/><line style=\"stroke: #000000; stroke-width: 1.5;\" x1=\"16\" x2=\"87\" y1=\"28.2969\" y2=\"28.2969\"/><text fill=\"#000000\" font-family=\"sans-serif\" font-size=\"14\" font-weight=\"bold\" lengthAdjust=\"spacingAndGlyphs\" textLength=\"58\" x=\"20\" y=\"20.9951\">PartTest</text></a><!--MD5=[b4997ac47864f28c2f74865a473b2911]\n",
       "class E2--><a href=\"psysml:133b9857-5562-4f09-a022-80109f8d4a7d\" target=\"_top\" title=\"psysml:133b9857-5562-4f09-a022-80109f8d4a7d\" xlink:actuate=\"onRequest\" xlink:href=\"psysml:133b9857-5562-4f09-a022-80109f8d4a7d\" xlink:show=\"new\" xlink:title=\"psysml:133b9857-5562-4f09-a022-80109f8d4a7d\" xlink:type=\"simple\"><rect fill=\"#FFFFFF\" height=\"45.9375\" id=\"E2\" rx=\"10\" ry=\"10\" style=\"stroke: #383838; stroke-width: 1.5;\" width=\"42\" x=\"32\" y=\"41\"/><text fill=\"#000000\" font-family=\"sans-serif\" font-size=\"12\" font-style=\"italic\" lengthAdjust=\"spacingAndGlyphs\" textLength=\"40\" x=\"33\" y=\"57.1387\">«part»</text><text fill=\"#000000\" font-family=\"sans-serif\" font-size=\"12\" lengthAdjust=\"spacingAndGlyphs\" textLength=\"20\" x=\"41\" y=\"71.1074\">f: A</text><line style=\"stroke: #383838; stroke-width: 1.5;\" x1=\"33\" x2=\"73\" y1=\"78.9375\" y2=\"78.9375\"/></a><!--MD5=[09b614a08d8cba4a07c9adeb5e0fee81]\n",
       "class E3--><a href=\"psysml:41a43e73-47d4-427d-aa17-f57a90b2778c\" target=\"_top\" title=\"psysml:41a43e73-47d4-427d-aa17-f57a90b2778c\" xlink:actuate=\"onRequest\" xlink:href=\"psysml:41a43e73-47d4-427d-aa17-f57a90b2778c\" xlink:show=\"new\" xlink:title=\"psysml:41a43e73-47d4-427d-aa17-f57a90b2778c\" xlink:type=\"simple\"><rect fill=\"#FFFFFF\" height=\"136.7656\" id=\"E3\" style=\"stroke: #383838; stroke-width: 1.5;\" width=\"70\" x=\"33\" y=\"164\"/><text fill=\"#000000\" font-family=\"sans-serif\" font-size=\"12\" font-style=\"italic\" lengthAdjust=\"spacingAndGlyphs\" textLength=\"68\" x=\"34\" y=\"180.1387\">«part  def»</text><text fill=\"#000000\" font-family=\"sans-serif\" font-size=\"12\" lengthAdjust=\"spacingAndGlyphs\" textLength=\"8\" x=\"64\" y=\"194.1074\">A</text><line style=\"stroke: #383838; stroke-width: 1.5;\" x1=\"34\" x2=\"102\" y1=\"201.9375\" y2=\"201.9375\"/><text fill=\"#000000\" font-family=\"sans-serif\" font-size=\"11\" lengthAdjust=\"spacingAndGlyphs\" textLength=\"6\" x=\"39\" y=\"232.9526\">x</text><text fill=\"#000000\" font-family=\"sans-serif\" font-size=\"11\" lengthAdjust=\"spacingAndGlyphs\" textLength=\"44\" x=\"39\" y=\"245.7573\">y:&gt; A::x</text><line style=\"stroke: #383838; stroke-width: 1.0;\" x1=\"34\" x2=\"40.5\" y1=\"216.3398\" y2=\"216.3398\"/><text fill=\"#000000\" font-family=\"sans-serif\" font-size=\"11\" lengthAdjust=\"spacingAndGlyphs\" textLength=\"55\" x=\"40.5\" y=\"219.6479\">attributes</text><line style=\"stroke: #383838; stroke-width: 1.0;\" x1=\"95.5\" x2=\"102\" y1=\"216.3398\" y2=\"216.3398\"/><text fill=\"#000000\" font-family=\"sans-serif\" font-size=\"11\" lengthAdjust=\"spacingAndGlyphs\" textLength=\"22\" x=\"39\" y=\"275.3667\">c: C</text><line style=\"stroke: #383838; stroke-width: 1.0;\" x1=\"34\" x2=\"53\" y1=\"258.7539\" y2=\"258.7539\"/><text fill=\"#000000\" font-family=\"sans-serif\" font-size=\"11\" lengthAdjust=\"spacingAndGlyphs\" textLength=\"30\" x=\"53\" y=\"262.062\">ports</text><line style=\"stroke: #383838; stroke-width: 1.0;\" x1=\"83\" x2=\"102\" y1=\"258.7539\" y2=\"258.7539\"/><text fill=\"#000000\" font-family=\"sans-serif\" font-size=\"11\" lengthAdjust=\"spacingAndGlyphs\" textLength=\"0\" x=\"55\" y=\"294.1714\"/><rect fill=\"#FFFFFF\" height=\"2\" style=\"stroke: #000000; stroke-width: 1.0;\" width=\"2\" x=\"48\" y=\"289.3633\"/><line style=\"stroke: #000000; stroke-width: 1.0;\" x1=\"41\" x2=\"49\" y1=\"290.3633\" y2=\"290.3633\"/><line style=\"stroke: #000000; stroke-width: 1.0;\" x1=\"41\" x2=\"41\" y1=\"283.9609\" y2=\"290.3633\"/></a><!--MD5=[ebbe1d658d1005bcc118a6aa81145e00]\n",
       "class E4--><a href=\"psysml:23a90af0-4107-4bf0-84ea-ac7115753c4e\" target=\"_top\" title=\"psysml:23a90af0-4107-4bf0-84ea-ac7115753c4e\" xlink:actuate=\"onRequest\" xlink:href=\"psysml:23a90af0-4107-4bf0-84ea-ac7115753c4e\" xlink:show=\"new\" xlink:title=\"psysml:23a90af0-4107-4bf0-84ea-ac7115753c4e\" xlink:type=\"simple\"><rect fill=\"#FFFFFF\" height=\"45.9375\" id=\"E4\" rx=\"10\" ry=\"10\" style=\"stroke: #383838; stroke-width: 1.5;\" width=\"42\" x=\"69\" y=\"378\"/><text fill=\"#000000\" font-family=\"sans-serif\" font-size=\"12\" font-style=\"italic\" lengthAdjust=\"spacingAndGlyphs\" textLength=\"40\" x=\"70\" y=\"394.1387\">«part»</text><text fill=\"#000000\" font-family=\"sans-serif\" font-size=\"12\" lengthAdjust=\"spacingAndGlyphs\" textLength=\"24\" x=\"76\" y=\"408.1074\">b: B</text><line style=\"stroke: #383838; stroke-width: 1.5;\" x1=\"70\" x2=\"110\" y1=\"415.9375\" y2=\"415.9375\"/></a><!--MD5=[270fce915f116d4de14055a7c1d9a0f3]\n",
       "class E5--><a href=\"psysml:c17c630d-59e9-4f7e-a520-276041a9c800\" target=\"_top\" title=\"psysml:c17c630d-59e9-4f7e-a520-276041a9c800\" xlink:actuate=\"onRequest\" xlink:href=\"psysml:c17c630d-59e9-4f7e-a520-276041a9c800\" xlink:show=\"new\" xlink:title=\"psysml:c17c630d-59e9-4f7e-a520-276041a9c800\" xlink:type=\"simple\"><rect fill=\"#FFFFFF\" height=\"94.3516\" id=\"E5\" style=\"stroke: #383838; stroke-width: 1.5;\" width=\"70\" x=\"112\" y=\"485\"/><text fill=\"#000000\" font-family=\"sans-serif\" font-size=\"12\" font-style=\"italic\" lengthAdjust=\"spacingAndGlyphs\" textLength=\"68\" x=\"113\" y=\"501.1387\">«part  def»</text><text fill=\"#000000\" font-family=\"sans-serif\" font-size=\"12\" font-style=\"italic\" lengthAdjust=\"spacingAndGlyphs\" textLength=\"8\" x=\"143\" y=\"515.1074\">B</text><line style=\"stroke: #383838; stroke-width: 1.5;\" x1=\"113\" x2=\"181\" y1=\"522.9375\" y2=\"522.9375\"/><text fill=\"#000000\" font-family=\"sans-serif\" font-size=\"11\" lengthAdjust=\"spacingAndGlyphs\" textLength=\"31\" x=\"118\" y=\"553.9526\">x: ~C</text><line style=\"stroke: #383838; stroke-width: 1.0;\" x1=\"113\" x2=\"132\" y1=\"537.3398\" y2=\"537.3398\"/><text fill=\"#000000\" font-family=\"sans-serif\" font-size=\"11\" lengthAdjust=\"spacingAndGlyphs\" textLength=\"30\" x=\"132\" y=\"540.6479\">ports</text><line style=\"stroke: #383838; stroke-width: 1.0;\" x1=\"162\" x2=\"181\" y1=\"537.3398\" y2=\"537.3398\"/><text fill=\"#000000\" font-family=\"sans-serif\" font-size=\"11\" lengthAdjust=\"spacingAndGlyphs\" textLength=\"0\" x=\"134\" y=\"572.7573\"/><rect fill=\"#FFFFFF\" height=\"2\" style=\"stroke: #000000; stroke-width: 1.0;\" width=\"2\" x=\"127\" y=\"567.9492\"/><line style=\"stroke: #000000; stroke-width: 1.0;\" x1=\"120\" x2=\"128\" y1=\"568.9492\" y2=\"568.9492\"/><line style=\"stroke: #000000; stroke-width: 1.0;\" x1=\"120\" x2=\"120\" y1=\"562.5469\" y2=\"568.9492\"/></a><!--MD5=[60a26617385b1d2d0262a64233df1f8d]\n",
       "class E6--><a href=\"psysml:4ea01713-b83a-4578-95eb-e0c0377cf261\" target=\"_top\" title=\"psysml:4ea01713-b83a-4578-95eb-e0c0377cf261\" xlink:actuate=\"onRequest\" xlink:href=\"psysml:4ea01713-b83a-4578-95eb-e0c0377cf261\" xlink:show=\"new\" xlink:title=\"psysml:4ea01713-b83a-4578-95eb-e0c0377cf261\" xlink:type=\"simple\"><rect fill=\"#FFFFFF\" height=\"45.9375\" id=\"E6\" rx=\"10\" ry=\"10\" style=\"stroke: #383838; stroke-width: 1.5;\" width=\"42\" x=\"44\" y=\"643.5\"/><text fill=\"#000000\" font-family=\"sans-serif\" font-size=\"12\" font-style=\"italic\" lengthAdjust=\"spacingAndGlyphs\" textLength=\"40\" x=\"45\" y=\"659.6387\">«part»</text><text fill=\"#000000\" font-family=\"sans-serif\" font-size=\"12\" font-style=\"italic\" lengthAdjust=\"spacingAndGlyphs\" textLength=\"8\" x=\"51\" y=\"673.6074\">a</text><text fill=\"#000000\" font-family=\"sans-serif\" font-size=\"12\" lengthAdjust=\"spacingAndGlyphs\" textLength=\"16\" x=\"59\" y=\"673.6074\">: A</text><line style=\"stroke: #383838; stroke-width: 1.5;\" x1=\"45\" x2=\"85\" y1=\"681.4375\" y2=\"681.4375\"/></a><!--MD5=[b9389687b975829384b498ac4b7476b2]\n",
       "class E8--><a href=\"psysml:e209a1f3-de72-4850-a45f-7036acf7c094\" target=\"_top\" title=\"psysml:e209a1f3-de72-4850-a45f-7036acf7c094\" xlink:actuate=\"onRequest\" xlink:href=\"psysml:e209a1f3-de72-4850-a45f-7036acf7c094\" xlink:show=\"new\" xlink:title=\"psysml:e209a1f3-de72-4850-a45f-7036acf7c094\" xlink:type=\"simple\"><rect fill=\"#FFFFFF\" height=\"45.9375\" id=\"E8\" style=\"stroke: #383838; stroke-width: 1.5;\" width=\"70\" x=\"144\" y=\"41\"/><text fill=\"#000000\" font-family=\"sans-serif\" font-size=\"12\" font-style=\"italic\" lengthAdjust=\"spacingAndGlyphs\" textLength=\"68\" x=\"145\" y=\"57.1387\">«port  def»</text><text fill=\"#000000\" font-family=\"sans-serif\" font-size=\"12\" lengthAdjust=\"spacingAndGlyphs\" textLength=\"8\" x=\"175\" y=\"71.1074\">C</text><line style=\"stroke: #383838; stroke-width: 1.5;\" x1=\"145\" x2=\"213\" y1=\"78.9375\" y2=\"78.9375\"/></a><a href=\"psysml:78dea323-2f70-496c-aa91-db5f05f12a10\" target=\"_top\" title=\"psysml:78dea323-2f70-496c-aa91-db5f05f12a10\" xlink:actuate=\"onRequest\" xlink:href=\"psysml:78dea323-2f70-496c-aa91-db5f05f12a10\" xlink:show=\"new\" xlink:title=\"psysml:78dea323-2f70-496c-aa91-db5f05f12a10\" xlink:type=\"simple\"><polygon fill=\"#FFFFFF\" points=\"132.5,640,147.5,640,154.5,662.2969,161.5,662.2969,161.5,692.5938,132.5,692.5938,132.5,640\" style=\"stroke: #000000; stroke-width: 1.5;\"/><line style=\"stroke: #000000; stroke-width: 1.5;\" x1=\"132.5\" x2=\"154.5\" y1=\"662.2969\" y2=\"662.2969\"/><text fill=\"#000000\" font-family=\"sans-serif\" font-size=\"14\" font-weight=\"bold\" lengthAdjust=\"spacingAndGlyphs\" textLength=\"9\" x=\"136.5\" y=\"654.9951\">P</text></a><!--MD5=[2720a5a1f2c3fca2055b230370638851]\n",
       "link E2 to E3--><a href=\"psysml:de99b855-827b-4779-9c99-7b4326eef43f\" target=\"_top\" title=\"psysml:de99b855-827b-4779-9c99-7b4326eef43f\" xlink:actuate=\"onRequest\" xlink:href=\"psysml:de99b855-827b-4779-9c99-7b4326eef43f\" xlink:show=\"new\" xlink:title=\"psysml:de99b855-827b-4779-9c99-7b4326eef43f\" xlink:type=\"simple\"><path d=\"M45.1,87.22 C42.26,96.33 39.41,107.05 38,117 C36.74,125.88 36.79,135.06 37.73,144.18 \" fill=\"none\" id=\"E2-&gt;E3\" style=\"stroke: #383838; stroke-width: 1.0;\"/><polygon fill=\"#FFFFFF\" points=\"41.05,163.91,30.9969,146.3335,44.8031,144.0124,41.05,163.91\" style=\"stroke: #383838; stroke-width: 1.0;\"/><ellipse cx=\"32.0242\" cy=\"140.3808\" fill=\"#383838\" rx=\"2\" ry=\"2\" style=\"stroke: #383838; stroke-width: 1.0;\"/><ellipse cx=\"41.8858\" cy=\"138.7229\" fill=\"#383838\" rx=\"2\" ry=\"2\" style=\"stroke: #383838; stroke-width: 1.0;\"/></a><!--MD5=[4672eba38e49728da53d11aeb285b987]\n",
       "reverse link E3 to E4--><a href=\"psysml:7d143534-3389-4013-881e-42b16664757f\" target=\"_top\" title=\"psysml:7d143534-3389-4013-881e-42b16664757f\" xlink:actuate=\"onRequest\" xlink:href=\"psysml:7d143534-3389-4013-881e-42b16664757f\" xlink:show=\"new\" xlink:title=\"psysml:7d143534-3389-4013-881e-42b16664757f\" xlink:type=\"simple\"><path d=\"M71.7,314.44 C72.78,325.75 74.19,337.19 76,348 C77.67,357.96 80.43,368.77 83.05,377.94 \" fill=\"none\" id=\"E3&lt;-E4\" style=\"stroke: #383838; stroke-width: 1.0;\"/><polygon fill=\"#383838\" points=\"70.56,301.26,67.0957,307.5845,71.6013,313.2147,75.0655,306.8903,70.56,301.26\" style=\"stroke: #383838; stroke-width: 1.0;\"/><text fill=\"#000000\" font-family=\"sans-serif\" font-size=\"13\" lengthAdjust=\"spacingAndGlyphs\" textLength=\"8\" x=\"72.1072\" y=\"366.8201\">1</text></a><!--MD5=[1b7591eae5389033d8d09a9d6721a717]\n",
       "link E4 to E5--><a href=\"psysml:8d11eaae-af32-434c-8c3d-32f92418f4c8\" target=\"_top\" title=\"psysml:8d11eaae-af32-434c-8c3d-32f92418f4c8\" xlink:actuate=\"onRequest\" xlink:href=\"psysml:8d11eaae-af32-434c-8c3d-32f92418f4c8\" xlink:show=\"new\" xlink:title=\"psysml:8d11eaae-af32-434c-8c3d-32f92418f4c8\" xlink:type=\"simple\"><path d=\"M99.8,424.18 C105.03,436.01 111.76,451.24 118.49,466.47 \" fill=\"none\" id=\"E4-&gt;E5\" style=\"stroke: #383838; stroke-width: 1.0;\"/><polygon fill=\"#FFFFFF\" points=\"126.6,484.83,112.5183,470.2799,125.324,464.6218,126.6,484.83\" style=\"stroke: #383838; stroke-width: 1.0;\"/><ellipse cx=\"112.044\" cy=\"464.2578\" fill=\"#383838\" rx=\"2\" ry=\"2\" style=\"stroke: #383838; stroke-width: 1.0;\"/><ellipse cx=\"121.191\" cy=\"460.2163\" fill=\"#383838\" rx=\"2\" ry=\"2\" style=\"stroke: #383838; stroke-width: 1.0;\"/></a><!--MD5=[85d356282659285ab4b2cfe2f634dd2b]\n",
       "reverse link E5 to E6--><a href=\"psysml:7466bf8a-1e84-4b05-9901-ce46ee446fa5\" target=\"_top\" title=\"psysml:7466bf8a-1e84-4b05-9901-ce46ee446fa5\" xlink:actuate=\"onRequest\" xlink:href=\"psysml:7466bf8a-1e84-4b05-9901-ce46ee446fa5\" xlink:show=\"new\" xlink:title=\"psysml:7466bf8a-1e84-4b05-9901-ce46ee446fa5\" xlink:type=\"simple\"><path d=\"M111.44,590.46 C99.91,609.1 87.79,628.67 78.83,643.16 \" fill=\"none\" id=\"E5&lt;-E6\" style=\"stroke: #383838; stroke-width: 1.0;\"/><polygon fill=\"#383838\" points=\"118.32,579.34,111.7612,582.337,112.0051,589.544,118.5639,586.547,118.32,579.34\" style=\"stroke: #383838; stroke-width: 1.0;\"/><text fill=\"#000000\" font-family=\"sans-serif\" font-size=\"13\" lengthAdjust=\"spacingAndGlyphs\" textLength=\"8\" x=\"73.3489\" y=\"632.3492\">1</text></a><!--MD5=[a717450b82c80b9240a525fa862496af]\n",
       "link E6 to E3--><a href=\"psysml:3c280f0c-0d5e-48e6-b009-cbd7db9e9beb\" target=\"_top\" title=\"psysml:3c280f0c-0d5e-48e6-b009-cbd7db9e9beb\" xlink:actuate=\"onRequest\" xlink:href=\"psysml:3c280f0c-0d5e-48e6-b009-cbd7db9e9beb\" xlink:show=\"new\" xlink:title=\"psysml:3c280f0c-0d5e-48e6-b009-cbd7db9e9beb\" xlink:type=\"simple\"><path d=\"M62.32,643.49 C56.81,595.34 45.2,477.03 51,378 C52.07,359.67 53.91,340.1 55.99,321.48 \" fill=\"none\" id=\"E6-&gt;E3\" style=\"stroke: #383838; stroke-width: 1.0;\"/><polygon fill=\"#FFFFFF\" points=\"58.36,301.35,63.0871,321.0389,49.1834,319.3997,58.36,301.35\" style=\"stroke: #383838; stroke-width: 1.0;\"/><ellipse cx=\"60.4335\" cy=\"326.4655\" fill=\"#383838\" rx=\"2\" ry=\"2\" style=\"stroke: #383838; stroke-width: 1.0;\"/><ellipse cx=\"50.5023\" cy=\"325.2946\" fill=\"#383838\" rx=\"2\" ry=\"2\" style=\"stroke: #383838; stroke-width: 1.0;\"/></a><!--MD5=[452b418e7f8a40397a49b8c0a78acc5b]\n",
       "reverse link E5 to E7--><a href=\"psysml:08766104-19a0-4aca-bf35-b4c81b8c6dcb\" target=\"_top\" title=\"psysml:08766104-19a0-4aca-bf35-b4c81b8c6dcb\" xlink:actuate=\"onRequest\" xlink:href=\"psysml:08766104-19a0-4aca-bf35-b4c81b8c6dcb\" xlink:show=\"new\" xlink:title=\"psysml:08766104-19a0-4aca-bf35-b4c81b8c6dcb\" xlink:type=\"simple\"><path d=\"M147,594.45 C147,610.46 147,626.84 147,639.83 \" fill=\"none\" id=\"E5&lt;-E7\" style=\"stroke: #383838; stroke-width: 1.0;\"/><ellipse cx=\"147\" cy=\"587.34\" fill=\"#FFFFFF\" rx=\"8\" ry=\"8\" style=\"stroke: #383838; stroke-width: 1.0;\"/><line style=\"stroke: #383838; stroke-width: 1.0;\" x1=\"147\" x2=\"147\" y1=\"595.34\" y2=\"579.34\"/><line style=\"stroke: #383838; stroke-width: 1.0;\" x1=\"139\" x2=\"155\" y1=\"587.34\" y2=\"587.34\"/></a><!--MD5=[03c8294790d3c57651a1993cecff665f]\n",
       "reverse link E8 to E3--><a href=\"psysml:f2bac2b1-68d1-4631-bf1f-fa6cff2f703f\" target=\"_top\" title=\"psysml:f2bac2b1-68d1-4631-bf1f-fa6cff2f703f\" xlink:actuate=\"onRequest\" xlink:href=\"psysml:f2bac2b1-68d1-4631-bf1f-fa6cff2f703f\" xlink:show=\"new\" xlink:title=\"psysml:f2bac2b1-68d1-4631-bf1f-fa6cff2f703f\" xlink:type=\"simple\"><path d=\"M131.56,77.02 C110.67,84.85 87.97,97.38 75,117 C65.94,130.71 61.99,147.47 60.8,163.9 \" fill=\"none\" id=\"E8&lt;-E3\" style=\"stroke: #383838; stroke-width: 1.0;\"/><polygon fill=\"#FFFFFF\" points=\"143.89,72.83,136.9238,70.9665,132.5244,76.6801,139.4906,78.5436,143.89,72.83\" style=\"stroke: #383838; stroke-width: 1.0;\"/><text fill=\"#000000\" font-family=\"sans-serif\" font-size=\"13\" lengthAdjust=\"spacingAndGlyphs\" textLength=\"7\" x=\"76\" y=\"130.0669\">y</text></a><!--MD5=[03c8294790d3c57651a1993cecff665f]\n",
       "reverse link E8 to E3--><a href=\"psysml:f2bac2b1-68d1-4631-bf1f-fa6cff2f703f\" target=\"_top\" title=\"psysml:f2bac2b1-68d1-4631-bf1f-fa6cff2f703f\" xlink:actuate=\"onRequest\" xlink:href=\"psysml:f2bac2b1-68d1-4631-bf1f-fa6cff2f703f\" xlink:show=\"new\" xlink:title=\"psysml:f2bac2b1-68d1-4631-bf1f-fa6cff2f703f\" xlink:type=\"simple\"><path d=\"M142.3,96.14 C135.76,102.65 129.34,109.75 124,117 C113.51,131.26 104.11,147.79 96.14,163.78 \" fill=\"none\" id=\"E8&lt;-E3-1\" style=\"stroke: #383838; stroke-width: 1.0;\"/><polygon fill=\"#FFFFFF\" points=\"151.86,87.09,144.754,88.3168,143.1534,95.3481,150.2594,94.1212,151.86,87.09\" style=\"stroke: #383838; stroke-width: 1.0;\"/><text fill=\"#000000\" font-family=\"sans-serif\" font-size=\"13\" lengthAdjust=\"spacingAndGlyphs\" textLength=\"7\" x=\"125\" y=\"130.0669\">y</text></a><!--MD5=[03c8294790d3c57651a1993cecff665f]\n",
       "reverse link E8 to E3--><a href=\"psysml:f2bac2b1-68d1-4631-bf1f-fa6cff2f703f\" target=\"_top\" title=\"psysml:f2bac2b1-68d1-4631-bf1f-fa6cff2f703f\" xlink:actuate=\"onRequest\" xlink:href=\"psysml:f2bac2b1-68d1-4631-bf1f-fa6cff2f703f\" xlink:show=\"new\" xlink:title=\"psysml:f2bac2b1-68d1-4631-bf1f-fa6cff2f703f\" xlink:type=\"simple\"><path d=\"M156.98,98.02 C141.62,121.07 120.79,152.31 103.15,178.77 \" fill=\"none\" id=\"E8&lt;-E3-2\" style=\"stroke: #383838; stroke-width: 1.0;\"/><polygon fill=\"#FFFFFF\" points=\"164.26,87.11,157.6028,89.8815,157.6006,97.0926,164.2578,94.3211,164.26,87.11\" style=\"stroke: #383838; stroke-width: 1.0;\"/><text fill=\"#000000\" font-family=\"sans-serif\" font-size=\"13\" lengthAdjust=\"spacingAndGlyphs\" textLength=\"7\" x=\"144\" y=\"130.0669\">y</text></a><!--MD5=[049ab558815ccadc2a7a6ffdb8f4a5ba]\n",
       "reverse link E8 to E5--><a href=\"psysml:f2bac2b1-68d1-4631-bf1f-fa6cff2f703f\" target=\"_top\" title=\"psysml:f2bac2b1-68d1-4631-bf1f-fa6cff2f703f\" xlink:actuate=\"onRequest\" xlink:href=\"psysml:f2bac2b1-68d1-4631-bf1f-fa6cff2f703f\" xlink:show=\"new\" xlink:title=\"psysml:f2bac2b1-68d1-4631-bf1f-fa6cff2f703f\" xlink:type=\"simple\"><path d=\"M197.26,99.16 C199.64,104.97 201.69,111.05 203,117 C204.62,124.38 203.12,126.45 203,134 C200.78,276.72 233.5,318.13 193,455 C189.98,465.2 185.25,475.43 179.94,484.92 \" fill=\"none\" id=\"E8&lt;-E5\" style=\"stroke: #383838; stroke-width: 1.0;\"/><polygon fill=\"#FFFFFF\" points=\"191.73,87.03,190.583,94.1493,196.7135,97.9463,197.8605,90.827,191.73,87.03\" style=\"stroke: #383838; stroke-width: 1.0;\"/><text fill=\"#000000\" font-family=\"sans-serif\" font-size=\"13\" lengthAdjust=\"spacingAndGlyphs\" textLength=\"7\" x=\"214\" y=\"344.0669\">y</text></a><!--MD5=[049ab558815ccadc2a7a6ffdb8f4a5ba]\n",
       "reverse link E8 to E5--><a href=\"psysml:f2bac2b1-68d1-4631-bf1f-fa6cff2f703f\" target=\"_top\" title=\"psysml:f2bac2b1-68d1-4631-bf1f-fa6cff2f703f\" xlink:actuate=\"onRequest\" xlink:href=\"psysml:f2bac2b1-68d1-4631-bf1f-fa6cff2f703f\" xlink:show=\"new\" xlink:title=\"psysml:f2bac2b1-68d1-4631-bf1f-fa6cff2f703f\" xlink:type=\"simple\"><path d=\"M169.67,99.88 C153.44,161.23 121.23,286.19 116,331 C115.12,338.5 114.57,340.58 116,348 C118.72,362.1 124.42,364.09 128,378 C137.08,413.25 141.87,454.23 144.37,484.9 \" fill=\"none\" id=\"E8&lt;-E5-1\" style=\"stroke: #383838; stroke-width: 1.0;\"/><polygon fill=\"#FFFFFF\" points=\"173.06,87.11,167.6562,91.8848,169.9853,98.7094,175.3891,93.9346,173.06,87.11\" style=\"stroke: #383838; stroke-width: 1.0;\"/><text fill=\"#000000\" font-family=\"sans-serif\" font-size=\"13\" lengthAdjust=\"spacingAndGlyphs\" textLength=\"7\" x=\"117\" y=\"344.0669\">y</text></a><!--MD5=[049ab558815ccadc2a7a6ffdb8f4a5ba]\n",
       "reverse link E8 to E5--><a href=\"psysml:f2bac2b1-68d1-4631-bf1f-fa6cff2f703f\" target=\"_top\" title=\"psysml:f2bac2b1-68d1-4631-bf1f-fa6cff2f703f\" xlink:actuate=\"onRequest\" xlink:href=\"psysml:f2bac2b1-68d1-4631-bf1f-fa6cff2f703f\" xlink:show=\"new\" xlink:title=\"psysml:f2bac2b1-68d1-4631-bf1f-fa6cff2f703f\" xlink:type=\"simple\"><path d=\"M176.58,100.29 C170.87,183.45 156.57,391.65 150.18,484.75 \" fill=\"none\" id=\"E8&lt;-E5-2\" style=\"stroke: #383838; stroke-width: 1.0;\"/><polygon fill=\"#FFFFFF\" points=\"177.48,87.16,173.0806,92.8736,176.6625,99.1321,181.062,93.4186,177.48,87.16\" style=\"stroke: #383838; stroke-width: 1.0;\"/><text fill=\"#000000\" font-family=\"sans-serif\" font-size=\"13\" lengthAdjust=\"spacingAndGlyphs\" textLength=\"7\" x=\"161\" y=\"344.0669\">y</text></a><!--MD5=[7b913fd455d557984e3bb7df2f72c0eb]\n",
       "@startuml\r\n",
       " skinparam monochrome true\r\n",
       "skinparam classbackgroundcolor white\r\n",
       "skinparam shadowing false\r\n",
       "skinparam wrapWidth 300\r\n",
       "hide circle\r\n",
       "\r\n",
       "package \"PartTest\" as E1  [[psysml:c38775ed-c195-45a3-878f-69446059ff99 ]]  {\r\n",
       "comp usage \"f: A \" as E2  <<(T,blue) part>> [[psysml:133b9857-5562-4f09-a022-80109f8d4a7d ]] {\r\n",
       "}\r\n",
       "comp def \"A\" as E3  <<(T,blue) part  def>> [[psysml:41a43e73-47d4-427d-aa17-f57a90b2778c ]] {\r\n",
       "- - attributes - -\r\n",
       "x\r\n",
       "y:> A::x\r\n",
       "- - ports - -\r\n",
       "c: C\r\n",
       "|_ \r\n",
       "}\r\n",
       "comp usage \"b: B \" as E4  <<(T,blue) part>> [[psysml:23a90af0-4107-4bf0-84ea-ac7115753c4e ]] {\r\n",
       "}\r\n",
       "comp def \"<i>B</i>\" as E5  <<(T,blue) part  def>> [[psysml:c17c630d-59e9-4f7e-a520-276041a9c800 ]] {\r\n",
       "- - ports - -\r\n",
       "x: ~C\r\n",
       "|_ \r\n",
       "}\r\n",
       "comp usage \"<i>a</i>: A \" as E6  <<(T,blue) part>> [[psysml:4ea01713-b83a-4578-95eb-e0c0377cf261 ]] {\r\n",
       "}\r\n",
       "package \"P\" as E7  [[psysml:78dea323-2f70-496c-aa91-db5f05f12a10 ]]  {\r\n",
       "}\r\n",
       "comp def \"C\" as E8  <<(T,blue) port  def>> [[psysml:e209a1f3-de72-4850-a45f-7036acf7c094 ]] {\r\n",
       "}\r\n",
       "}\r\n",
       "E2 - -:|> E3 [[psysml:de99b855-827b-4779-9c99-7b4326eef43f ]] \r\n",
       "E3 *- - \"1\"E4 [[psysml:7d143534-3389-4013-881e-42b16664757f ]] \r\n",
       "E4 - -:|> E5 [[psysml:8d11eaae-af32-434c-8c3d-32f92418f4c8 ]] \r\n",
       "E5 *- - \"1\"E6 [[psysml:7466bf8a-1e84-4b05-9901-ce46ee446fa5 ]] \r\n",
       "E6 - -:|> E3 [[psysml:3c280f0c-0d5e-48e6-b009-cbd7db9e9beb ]] \r\n",
       "E5 +- - E7 [[psysml:08766104-19a0-4aca-bf35-b4c81b8c6dcb ]] \r\n",
       "E8 o- - E3 [[psysml:f2bac2b1-68d1-4631-bf1f-fa6cff2f703f ]] : y\r\n",
       "E8 o- - E5 [[psysml:f2bac2b1-68d1-4631-bf1f-fa6cff2f703f ]] : y\r\n",
       "E8 o- - E3 [[psysml:f2bac2b1-68d1-4631-bf1f-fa6cff2f703f ]] : y\r\n",
       "E8 o- - E5 [[psysml:f2bac2b1-68d1-4631-bf1f-fa6cff2f703f ]] : y\r\n",
       "E8 o- - E3 [[psysml:f2bac2b1-68d1-4631-bf1f-fa6cff2f703f ]] : y\r\n",
       "E8 o- - E5 [[psysml:f2bac2b1-68d1-4631-bf1f-fa6cff2f703f ]] : y\r\n",
       "@enduml\r\n",
       "\n",
       "PlantUML version 1.2020.13(Sat Jun 13 12:26:38 UTC 2020)\n",
       "(EPL source distribution)\n",
       "Java Runtime: OpenJDK Runtime Environment\n",
       "JVM: OpenJDK 64-Bit Server VM\n",
       "Default Encoding: UTF-8\n",
       "Language: en\n",
       "Country: null\n",
       "--></g></svg>"
      ]
     },
     "execution_count": 8,
     "metadata": {},
     "output_type": "execute_result"
    }
   ],
   "source": [
    "%viz --style=\"COMPTREE\" --view=\"MIXED\" \"PartTest\""
   ]
  },
  {
   "cell_type": "code",
   "execution_count": 9,
   "id": "b82d9da8",
   "metadata": {
    "execution": {
     "iopub.execute_input": "2022-02-05T16:55:42.661623Z",
     "iopub.status.busy": "2022-02-05T16:55:42.661194Z",
     "iopub.status.idle": "2022-02-05T16:55:42.739300Z",
     "shell.execute_reply": "2022-02-05T16:55:42.738898Z"
    }
   },
   "outputs": [
    {
     "data": {
      "image/svg+xml": [
       "<?xml version=\"1.0\" encoding=\"UTF-8\" standalone=\"no\"?><svg xmlns=\"http://www.w3.org/2000/svg\" xmlns:xlink=\"http://www.w3.org/1999/xlink\" contentScriptType=\"application/ecmascript\" contentStyleType=\"text/css\" height=\"760px\" preserveAspectRatio=\"none\" style=\"width:423px;height:760px;\" version=\"1.1\" viewBox=\"0 0 423 760\" width=\"423px\" zoomAndPan=\"magnify\"><defs/><g><!--MD5=[fbc87193dbaf4d95561dea2c320d4a47]\n",
       "cluster E1--><a href=\"psysml:c38775ed-c195-45a3-878f-69446059ff99\" target=\"_top\" title=\"psysml:c38775ed-c195-45a3-878f-69446059ff99\" xlink:actuate=\"onRequest\" xlink:href=\"psysml:c38775ed-c195-45a3-878f-69446059ff99\" xlink:show=\"new\" xlink:title=\"psysml:c38775ed-c195-45a3-878f-69446059ff99\" xlink:type=\"simple\"><polygon fill=\"#FFFFFF\" points=\"16,6,80,6,87,28.2969,401,28.2969,401,748,16,748,16,6\" style=\"stroke: #000000; stroke-width: 1.5;\"/><line style=\"stroke: #000000; stroke-width: 1.5;\" x1=\"16\" x2=\"87\" y1=\"28.2969\" y2=\"28.2969\"/><text fill=\"#000000\" font-family=\"sans-serif\" font-size=\"14\" font-weight=\"bold\" lengthAdjust=\"spacingAndGlyphs\" textLength=\"58\" x=\"20\" y=\"20.9951\">PartTest</text></a><!--MD5=[b4997ac47864f28c2f74865a473b2911]\n",
       "class E2--><a href=\"psysml:133b9857-5562-4f09-a022-80109f8d4a7d\" target=\"_top\" title=\"psysml:133b9857-5562-4f09-a022-80109f8d4a7d\" xlink:actuate=\"onRequest\" xlink:href=\"psysml:133b9857-5562-4f09-a022-80109f8d4a7d\" xlink:show=\"new\" xlink:title=\"psysml:133b9857-5562-4f09-a022-80109f8d4a7d\" xlink:type=\"simple\"><rect fill=\"#FFFFFF\" height=\"45.9375\" id=\"E2\" rx=\"10\" ry=\"10\" style=\"stroke: #383838; stroke-width: 1.5;\" width=\"42\" x=\"201\" y=\"41\"/><text fill=\"#000000\" font-family=\"sans-serif\" font-size=\"12\" font-style=\"italic\" lengthAdjust=\"spacingAndGlyphs\" textLength=\"40\" x=\"202\" y=\"57.1387\">«part»</text><text fill=\"#000000\" font-family=\"sans-serif\" font-size=\"12\" lengthAdjust=\"spacingAndGlyphs\" textLength=\"20\" x=\"210\" y=\"71.1074\">f: A</text><line style=\"stroke: #383838; stroke-width: 1.5;\" x1=\"202\" x2=\"242\" y1=\"78.9375\" y2=\"78.9375\"/></a><!--MD5=[09b614a08d8cba4a07c9adeb5e0fee81]\n",
       "class E3--><a href=\"psysml:41a43e73-47d4-427d-aa17-f57a90b2778c\" target=\"_top\" title=\"psysml:41a43e73-47d4-427d-aa17-f57a90b2778c\" xlink:actuate=\"onRequest\" xlink:href=\"psysml:41a43e73-47d4-427d-aa17-f57a90b2778c\" xlink:show=\"new\" xlink:title=\"psysml:41a43e73-47d4-427d-aa17-f57a90b2778c\" xlink:type=\"simple\"><rect fill=\"#FFFFFF\" height=\"88.3516\" id=\"E3\" style=\"stroke: #383838; stroke-width: 1.5;\" width=\"70\" x=\"187\" y=\"148\"/><text fill=\"#000000\" font-family=\"sans-serif\" font-size=\"12\" font-style=\"italic\" lengthAdjust=\"spacingAndGlyphs\" textLength=\"68\" x=\"188\" y=\"164.1387\">«part  def»</text><text fill=\"#000000\" font-family=\"sans-serif\" font-size=\"12\" lengthAdjust=\"spacingAndGlyphs\" textLength=\"8\" x=\"218\" y=\"178.1074\">A</text><line style=\"stroke: #383838; stroke-width: 1.5;\" x1=\"188\" x2=\"256\" y1=\"185.9375\" y2=\"185.9375\"/><text fill=\"#000000\" font-family=\"sans-serif\" font-size=\"11\" lengthAdjust=\"spacingAndGlyphs\" textLength=\"6\" x=\"193\" y=\"216.9526\">x</text><text fill=\"#000000\" font-family=\"sans-serif\" font-size=\"11\" lengthAdjust=\"spacingAndGlyphs\" textLength=\"44\" x=\"193\" y=\"229.7573\">y:&gt; A::x</text><line style=\"stroke: #383838; stroke-width: 1.0;\" x1=\"188\" x2=\"194.5\" y1=\"200.3398\" y2=\"200.3398\"/><text fill=\"#000000\" font-family=\"sans-serif\" font-size=\"11\" lengthAdjust=\"spacingAndGlyphs\" textLength=\"55\" x=\"194.5\" y=\"203.6479\">attributes</text><line style=\"stroke: #383838; stroke-width: 1.0;\" x1=\"249.5\" x2=\"256\" y1=\"200.3398\" y2=\"200.3398\"/></a><!--MD5=[ebbe1d658d1005bcc118a6aa81145e00]\n",
       "class E4--><a href=\"psysml:23a90af0-4107-4bf0-84ea-ac7115753c4e\" target=\"_top\" title=\"psysml:23a90af0-4107-4bf0-84ea-ac7115753c4e\" xlink:actuate=\"onRequest\" xlink:href=\"psysml:23a90af0-4107-4bf0-84ea-ac7115753c4e\" xlink:show=\"new\" xlink:title=\"psysml:23a90af0-4107-4bf0-84ea-ac7115753c4e\" xlink:type=\"simple\"><rect fill=\"#FFFFFF\" height=\"45.9375\" id=\"E4\" rx=\"10\" ry=\"10\" style=\"stroke: #383838; stroke-width: 1.5;\" width=\"42\" x=\"323\" y=\"373\"/><text fill=\"#000000\" font-family=\"sans-serif\" font-size=\"12\" font-style=\"italic\" lengthAdjust=\"spacingAndGlyphs\" textLength=\"40\" x=\"324\" y=\"389.1387\">«part»</text><text fill=\"#000000\" font-family=\"sans-serif\" font-size=\"12\" lengthAdjust=\"spacingAndGlyphs\" textLength=\"24\" x=\"330\" y=\"403.1074\">b: B</text><line style=\"stroke: #383838; stroke-width: 1.5;\" x1=\"324\" x2=\"364\" y1=\"410.9375\" y2=\"410.9375\"/></a><!--MD5=[270fce915f116d4de14055a7c1d9a0f3]\n",
       "class E5--><a href=\"psysml:3bde4e3d-0323-4342-8ecc-6f2c3dab5224\" target=\"_top\" title=\"psysml:3bde4e3d-0323-4342-8ecc-6f2c3dab5224\" xlink:actuate=\"onRequest\" xlink:href=\"psysml:3bde4e3d-0323-4342-8ecc-6f2c3dab5224\" xlink:show=\"new\" xlink:title=\"psysml:3bde4e3d-0323-4342-8ecc-6f2c3dab5224\" xlink:type=\"simple\"><rect fill=\"#FFFFFF\" height=\"45.9375\" id=\"E5\" rx=\"10\" ry=\"10\" style=\"stroke: #383838; stroke-width: 1.5;\" width=\"42\" x=\"306\" y=\"297\"/><text fill=\"#000000\" font-family=\"sans-serif\" font-size=\"12\" font-style=\"italic\" lengthAdjust=\"spacingAndGlyphs\" textLength=\"40\" x=\"307\" y=\"313.1387\">«port»</text><text fill=\"#000000\" font-family=\"sans-serif\" font-size=\"12\" lengthAdjust=\"spacingAndGlyphs\" textLength=\"23\" x=\"313.5\" y=\"327.1074\">c: C</text><line style=\"stroke: #383838; stroke-width: 1.5;\" x1=\"307\" x2=\"347\" y1=\"334.9375\" y2=\"334.9375\"/></a><!--MD5=[60a26617385b1d2d0262a64233df1f8d]\n",
       "class E6--><a href=\"psysml:c17c630d-59e9-4f7e-a520-276041a9c800\" target=\"_top\" title=\"psysml:c17c630d-59e9-4f7e-a520-276041a9c800\" xlink:actuate=\"onRequest\" xlink:href=\"psysml:c17c630d-59e9-4f7e-a520-276041a9c800\" xlink:show=\"new\" xlink:title=\"psysml:c17c630d-59e9-4f7e-a520-276041a9c800\" xlink:type=\"simple\"><rect fill=\"#FFFFFF\" height=\"45.9375\" id=\"E6\" style=\"stroke: #383838; stroke-width: 1.5;\" width=\"70\" x=\"190\" y=\"572\"/><text fill=\"#000000\" font-family=\"sans-serif\" font-size=\"12\" font-style=\"italic\" lengthAdjust=\"spacingAndGlyphs\" textLength=\"68\" x=\"191\" y=\"588.1387\">«part  def»</text><text fill=\"#000000\" font-family=\"sans-serif\" font-size=\"12\" font-style=\"italic\" lengthAdjust=\"spacingAndGlyphs\" textLength=\"8\" x=\"221\" y=\"602.1074\">B</text><line style=\"stroke: #383838; stroke-width: 1.5;\" x1=\"191\" x2=\"259\" y1=\"609.9375\" y2=\"609.9375\"/></a><!--MD5=[2156ba9850f5573cc1fc38a6a4b2f02b]\n",
       "class E7--><a href=\"psysml:4ea01713-b83a-4578-95eb-e0c0377cf261\" target=\"_top\" title=\"psysml:4ea01713-b83a-4578-95eb-e0c0377cf261\" xlink:actuate=\"onRequest\" xlink:href=\"psysml:4ea01713-b83a-4578-95eb-e0c0377cf261\" xlink:show=\"new\" xlink:title=\"psysml:4ea01713-b83a-4578-95eb-e0c0377cf261\" xlink:type=\"simple\"><rect fill=\"#FFFFFF\" height=\"45.9375\" id=\"E7\" rx=\"10\" ry=\"10\" style=\"stroke: #383838; stroke-width: 1.5;\" width=\"42\" x=\"68\" y=\"682.5\"/><text fill=\"#000000\" font-family=\"sans-serif\" font-size=\"12\" font-style=\"italic\" lengthAdjust=\"spacingAndGlyphs\" textLength=\"40\" x=\"69\" y=\"698.6387\">«part»</text><text fill=\"#000000\" font-family=\"sans-serif\" font-size=\"12\" font-style=\"italic\" lengthAdjust=\"spacingAndGlyphs\" textLength=\"8\" x=\"75\" y=\"712.6074\">a</text><text fill=\"#000000\" font-family=\"sans-serif\" font-size=\"12\" lengthAdjust=\"spacingAndGlyphs\" textLength=\"16\" x=\"83\" y=\"712.6074\">: A</text><line style=\"stroke: #383838; stroke-width: 1.5;\" x1=\"69\" x2=\"109\" y1=\"720.4375\" y2=\"720.4375\"/></a><!--MD5=[b9389687b975829384b498ac4b7476b2]\n",
       "class E8--><a href=\"psysml:c9f90055-486d-4326-9691-bfe47f710c68\" target=\"_top\" title=\"psysml:c9f90055-486d-4326-9691-bfe47f710c68\" xlink:actuate=\"onRequest\" xlink:href=\"psysml:c9f90055-486d-4326-9691-bfe47f710c68\" xlink:show=\"new\" xlink:title=\"psysml:c9f90055-486d-4326-9691-bfe47f710c68\" xlink:type=\"simple\"><rect fill=\"#FFFFFF\" height=\"45.9375\" id=\"E8\" rx=\"10\" ry=\"10\" style=\"stroke: #383838; stroke-width: 1.5;\" width=\"42\" x=\"228\" y=\"682.5\"/><text fill=\"#000000\" font-family=\"sans-serif\" font-size=\"12\" font-style=\"italic\" lengthAdjust=\"spacingAndGlyphs\" textLength=\"40\" x=\"229\" y=\"698.6387\">«port»</text><text fill=\"#000000\" font-family=\"sans-serif\" font-size=\"12\" lengthAdjust=\"spacingAndGlyphs\" textLength=\"32\" x=\"231\" y=\"712.6074\">x: ~C</text><line style=\"stroke: #383838; stroke-width: 1.5;\" x1=\"229\" x2=\"269\" y1=\"720.4375\" y2=\"720.4375\"/></a><!--MD5=[96f4274e9e20536e775497830990834d]\n",
       "class E10--><a href=\"psysml:e209a1f3-de72-4850-a45f-7036acf7c094\" target=\"_top\" title=\"psysml:e209a1f3-de72-4850-a45f-7036acf7c094\" xlink:actuate=\"onRequest\" xlink:href=\"psysml:e209a1f3-de72-4850-a45f-7036acf7c094\" xlink:show=\"new\" xlink:title=\"psysml:e209a1f3-de72-4850-a45f-7036acf7c094\" xlink:type=\"simple\"><rect fill=\"#FFFFFF\" height=\"45.9375\" id=\"E10\" style=\"stroke: #383838; stroke-width: 1.5;\" width=\"70\" x=\"190\" y=\"449\"/><text fill=\"#000000\" font-family=\"sans-serif\" font-size=\"12\" font-style=\"italic\" lengthAdjust=\"spacingAndGlyphs\" textLength=\"68\" x=\"191\" y=\"465.1387\">«port  def»</text><text fill=\"#000000\" font-family=\"sans-serif\" font-size=\"12\" lengthAdjust=\"spacingAndGlyphs\" textLength=\"8\" x=\"221\" y=\"479.1074\">C</text><line style=\"stroke: #383838; stroke-width: 1.5;\" x1=\"191\" x2=\"259\" y1=\"486.9375\" y2=\"486.9375\"/></a><a href=\"psysml:78dea323-2f70-496c-aa91-db5f05f12a10\" target=\"_top\" title=\"psysml:78dea323-2f70-496c-aa91-db5f05f12a10\" xlink:actuate=\"onRequest\" xlink:href=\"psysml:78dea323-2f70-496c-aa91-db5f05f12a10\" xlink:show=\"new\" xlink:title=\"psysml:78dea323-2f70-496c-aa91-db5f05f12a10\" xlink:type=\"simple\"><polygon fill=\"#FFFFFF\" points=\"163.5,679,178.5,679,185.5,701.2969,192.5,701.2969,192.5,731.5938,163.5,731.5938,163.5,679\" style=\"stroke: #000000; stroke-width: 1.5;\"/><line style=\"stroke: #000000; stroke-width: 1.5;\" x1=\"163.5\" x2=\"185.5\" y1=\"701.2969\" y2=\"701.2969\"/><text fill=\"#000000\" font-family=\"sans-serif\" font-size=\"14\" font-weight=\"bold\" lengthAdjust=\"spacingAndGlyphs\" textLength=\"9\" x=\"167.5\" y=\"693.9951\">P</text></a><!--MD5=[2720a5a1f2c3fca2055b230370638851]\n",
       "link E2 to E3--><a href=\"psysml:de99b855-827b-4779-9c99-7b4326eef43f\" target=\"_top\" title=\"psysml:de99b855-827b-4779-9c99-7b4326eef43f\" xlink:actuate=\"onRequest\" xlink:href=\"psysml:de99b855-827b-4779-9c99-7b4326eef43f\" xlink:show=\"new\" xlink:title=\"psysml:de99b855-827b-4779-9c99-7b4326eef43f\" xlink:type=\"simple\"><path d=\"M222,87.24 C222,98.62 222,113.11 222,127.62 \" fill=\"none\" id=\"E2-&gt;E3\" style=\"stroke: #383838; stroke-width: 1.0;\"/><polygon fill=\"#FFFFFF\" points=\"222,147.84,215,128.84,229,128.84,222,147.84\" style=\"stroke: #383838; stroke-width: 1.0;\"/><ellipse cx=\"217\" cy=\"123.14\" fill=\"#383838\" rx=\"2\" ry=\"2\" style=\"stroke: #383838; stroke-width: 1.0;\"/><ellipse cx=\"227\" cy=\"123.14\" fill=\"#383838\" rx=\"2\" ry=\"2\" style=\"stroke: #383838; stroke-width: 1.0;\"/></a><!--MD5=[4672eba38e49728da53d11aeb285b987]\n",
       "reverse link E3 to E4--><a href=\"psysml:7d143534-3389-4013-881e-42b16664757f\" target=\"_top\" title=\"psysml:7d143534-3389-4013-881e-42b16664757f\" xlink:actuate=\"onRequest\" xlink:href=\"psysml:7d143534-3389-4013-881e-42b16664757f\" xlink:show=\"new\" xlink:title=\"psysml:7d143534-3389-4013-881e-42b16664757f\" xlink:type=\"simple\"><path d=\"M267.87,226.13 C310.03,256.57 366,297 366,297 C366,297 366,343 366,343 C366,343 359.33,358.77 353.33,372.95 \" fill=\"none\" id=\"E3&lt;-E4\" style=\"stroke: #383838; stroke-width: 1.0;\"/><polygon fill=\"#383838\" points=\"257.23,218.44,259.7521,225.1957,266.9582,225.4659,264.436,218.7102,257.23,218.44\" style=\"stroke: #383838; stroke-width: 1.0;\"/><text fill=\"#000000\" font-family=\"sans-serif\" font-size=\"13\" lengthAdjust=\"spacingAndGlyphs\" textLength=\"8\" x=\"347.5421\" y=\"363.0588\">1</text></a><!--MD5=[191cde3d490a3f6d7bb551fe3ddca469]\n",
       "reverse link E3 to E5--><a href=\"psysml:01061be5-5fdc-439c-afe5-881fb8746c83\" target=\"_top\" title=\"psysml:01061be5-5fdc-439c-afe5-881fb8746c83\" xlink:actuate=\"onRequest\" xlink:href=\"psysml:01061be5-5fdc-439c-afe5-881fb8746c83\" xlink:show=\"new\" xlink:title=\"psysml:01061be5-5fdc-439c-afe5-881fb8746c83\" xlink:type=\"simple\"><path d=\"M265.68,245.41 C280.65,263.38 296.6,282.52 308.48,296.78 \" fill=\"none\" id=\"E3&lt;-E5\" style=\"stroke: #383838; stroke-width: 1.0;\"/><polygon fill=\"#FFFFFF\" points=\"257.26,235.31,258.0312,242.4797,264.9461,244.5254,264.1749,237.3557,257.26,235.31\" style=\"stroke: #383838; stroke-width: 1.0;\"/><text fill=\"#000000\" font-family=\"sans-serif\" font-size=\"13\" lengthAdjust=\"spacingAndGlyphs\" textLength=\"8\" x=\"294.7093\" y=\"285.9999\">1</text></a><!--MD5=[79568f1e445c3877b6a54524624ccc7d]\n",
       "link E4 to E6--><a href=\"psysml:8d11eaae-af32-434c-8c3d-32f92418f4c8\" target=\"_top\" title=\"psysml:8d11eaae-af32-434c-8c3d-32f92418f4c8\" xlink:actuate=\"onRequest\" xlink:href=\"psysml:8d11eaae-af32-434c-8c3d-32f92418f4c8\" xlink:show=\"new\" xlink:title=\"psysml:8d11eaae-af32-434c-8c3d-32f92418f4c8\" xlink:type=\"simple\"><path d=\"M330.58,419.22 C310.75,452.04 273.34,513.98 248.79,554.62 \" fill=\"none\" id=\"E4-&gt;E6\" style=\"stroke: #383838; stroke-width: 1.0;\"/><polygon fill=\"#FFFFFF\" points=\"238.37,571.87,242.2063,551.9883,254.1882,559.2294,238.37,571.87\" style=\"stroke: #383838; stroke-width: 1.0;\"/><ellipse cx=\"246.8662\" cy=\"548.1444\" fill=\"#383838\" rx=\"2\" ry=\"2\" style=\"stroke: #383838; stroke-width: 1.0;\"/><ellipse cx=\"255.4247\" cy=\"553.3166\" fill=\"#383838\" rx=\"2\" ry=\"2\" style=\"stroke: #383838; stroke-width: 1.0;\"/></a><!--MD5=[3f50a3473f1dfb74d3f76443e03635af]\n",
       "reverse link E6 to E7--><a href=\"psysml:7466bf8a-1e84-4b05-9901-ce46ee446fa5\" target=\"_top\" title=\"psysml:7466bf8a-1e84-4b05-9901-ce46ee446fa5\" xlink:actuate=\"onRequest\" xlink:href=\"psysml:7466bf8a-1e84-4b05-9901-ce46ee446fa5\" xlink:show=\"new\" xlink:title=\"psysml:7466bf8a-1e84-4b05-9901-ce46ee446fa5\" xlink:type=\"simple\"><path d=\"M186.96,626.35 C162.12,646.16 130.61,671.3 110.14,687.64 \" fill=\"none\" id=\"E6&lt;-E7\" style=\"stroke: #383838; stroke-width: 1.0;\"/><polygon fill=\"#383838\" points=\"197.15,618.22,189.9656,618.8398,187.7744,625.7099,194.9589,625.0901,197.15,618.22\" style=\"stroke: #383838; stroke-width: 1.0;\"/><text fill=\"#000000\" font-family=\"sans-serif\" font-size=\"13\" lengthAdjust=\"spacingAndGlyphs\" textLength=\"8\" x=\"118.1534\" y=\"676.6545\">1</text></a><!--MD5=[14ccda38c055a5c0da953d572bc50960]\n",
       "link E7 to E3--><a href=\"psysml:3c280f0c-0d5e-48e6-b009-cbd7db9e9beb\" target=\"_top\" title=\"psysml:3c280f0c-0d5e-48e6-b009-cbd7db9e9beb\" xlink:actuate=\"onRequest\" xlink:href=\"psysml:3c280f0c-0d5e-48e6-b009-cbd7db9e9beb\" xlink:show=\"new\" xlink:title=\"psysml:3c280f0c-0d5e-48e6-b009-cbd7db9e9beb\" xlink:type=\"simple\"><path d=\"M77.53,682.28 C61.15,650.54 33,596 33,596 C33,319 33,319 33,319 C33,319 114.15,264.9 170.1,227.6 \" fill=\"none\" id=\"E7-&gt;E3\" style=\"stroke: #383838; stroke-width: 1.0;\"/><polygon fill=\"#FFFFFF\" points=\"186.89,216.4,174.9672,232.766,167.1991,221.1189,186.89,216.4\" style=\"stroke: #383838; stroke-width: 1.0;\"/><ellipse cx=\"169.1154\" cy=\"234.2649\" fill=\"#383838\" rx=\"2\" ry=\"2\" style=\"stroke: #383838; stroke-width: 1.0;\"/><ellipse cx=\"163.5667\" cy=\"225.9455\" fill=\"#383838\" rx=\"2\" ry=\"2\" style=\"stroke: #383838; stroke-width: 1.0;\"/></a><!--MD5=[f4cf0736d43fd73c4ef68817c49d37d5]\n",
       "reverse link E6 to E8--><a href=\"psysml:dcb35f57-14cb-4e2c-8543-9245438ead5d\" target=\"_top\" title=\"psysml:dcb35f57-14cb-4e2c-8543-9245438ead5d\" xlink:actuate=\"onRequest\" xlink:href=\"psysml:dcb35f57-14cb-4e2c-8543-9245438ead5d\" xlink:show=\"new\" xlink:title=\"psysml:dcb35f57-14cb-4e2c-8543-9245438ead5d\" xlink:type=\"simple\"><path d=\"M232.74,630.98 C236.47,647.83 240.83,667.54 244.09,682.31 \" fill=\"none\" id=\"E6&lt;-E8\" style=\"stroke: #383838; stroke-width: 1.0;\"/><polygon fill=\"#FFFFFF\" points=\"229.91,618.22,227.2956,624.9405,232.4936,629.9386,235.108,623.2181,229.91,618.22\" style=\"stroke: #383838; stroke-width: 1.0;\"/><text fill=\"#000000\" font-family=\"sans-serif\" font-size=\"13\" lengthAdjust=\"spacingAndGlyphs\" textLength=\"8\" x=\"233.8068\" y=\"671.5376\">1</text></a><!--MD5=[e88d06e5a652d73a6b19930eefe025a8]\n",
       "reverse link E6 to E9--><a href=\"psysml:08766104-19a0-4aca-bf35-b4c81b8c6dcb\" target=\"_top\" title=\"psysml:08766104-19a0-4aca-bf35-b4c81b8c6dcb\" xlink:actuate=\"onRequest\" xlink:href=\"psysml:08766104-19a0-4aca-bf35-b4c81b8c6dcb\" xlink:show=\"new\" xlink:title=\"psysml:08766104-19a0-4aca-bf35-b4c81b8c6dcb\" xlink:type=\"simple\"><path d=\"M209.38,632.06 C202.74,647.39 195.15,664.91 189.1,678.88 \" fill=\"none\" id=\"E6&lt;-E9\" style=\"stroke: #383838; stroke-width: 1.0;\"/><ellipse cx=\"212.2011\" cy=\"625.5613\" fill=\"#FFFFFF\" rx=\"8\" ry=\"8\" style=\"stroke: #383838; stroke-width: 1.0;\"/><line style=\"stroke: #383838; stroke-width: 1.0;\" x1=\"209.0221\" x2=\"215.38\" y1=\"632.9026\" y2=\"618.22\"/><line style=\"stroke: #383838; stroke-width: 1.0;\" x1=\"204.8598\" x2=\"219.5423\" y1=\"622.3823\" y2=\"628.7402\"/></a><!--MD5=[f78a29d5932556fa1060671a2a6507d8]\n",
       "link E5 to E10--><a href=\"psysml:568ef262-b92a-4cba-8a4b-19f4a197db7e\" target=\"_top\" title=\"psysml:568ef262-b92a-4cba-8a4b-19f4a197db7e\" xlink:actuate=\"onRequest\" xlink:href=\"psysml:568ef262-b92a-4cba-8a4b-19f4a197db7e\" xlink:show=\"new\" xlink:title=\"psysml:568ef262-b92a-4cba-8a4b-19f4a197db7e\" xlink:type=\"simple\"><path d=\"M314.29,343.24 C297.77,372.15 271,419 271,419 C271,419 265.27,425.47 257.86,433.85 \" fill=\"none\" id=\"E5-&gt;E10\" style=\"stroke: #383838; stroke-width: 1.0;\"/><polygon fill=\"#FFFFFF\" points=\"244.51,448.95,251.8652,430.0847,262.3466,439.3659,244.51,448.95\" style=\"stroke: #383838; stroke-width: 1.0;\"/><ellipse cx=\"257.1414\" cy=\"427.1432\" fill=\"#383838\" rx=\"2\" ry=\"2\" style=\"stroke: #383838; stroke-width: 1.0;\"/><ellipse cx=\"264.6281\" cy=\"433.7726\" fill=\"#383838\" rx=\"2\" ry=\"2\" style=\"stroke: #383838; stroke-width: 1.0;\"/></a><!--MD5=[8e04057e7b3cbc0dca4fc78ea351e2da]\n",
       "reverse link E10 to E3--><a href=\"psysml:f2bac2b1-68d1-4631-bf1f-fa6cff2f703f\" target=\"_top\" title=\"psysml:f2bac2b1-68d1-4631-bf1f-fa6cff2f703f\" xlink:actuate=\"onRequest\" xlink:href=\"psysml:f2bac2b1-68d1-4631-bf1f-fa6cff2f703f\" xlink:show=\"new\" xlink:title=\"psysml:f2bac2b1-68d1-4631-bf1f-fa6cff2f703f\" xlink:type=\"simple\"><path d=\"M194.2,439.6 C183.44,428.63 174,419 174,419 C174,419 131,343 131,343 C131,343 131,297 131,297 C131,297 161.21,262.47 186.82,233.21 \" fill=\"none\" id=\"E10&lt;-E3\" style=\"stroke: #383838; stroke-width: 1.0;\"/><polygon fill=\"#FFFFFF\" points=\"203.37,448.95,202.0273,441.865,194.9709,440.3794,196.3136,447.4644,203.37,448.95\" style=\"stroke: #383838; stroke-width: 1.0;\"/><text fill=\"#000000\" font-family=\"sans-serif\" font-size=\"13\" lengthAdjust=\"spacingAndGlyphs\" textLength=\"7\" x=\"132\" y=\"324.5669\">y</text></a><!--MD5=[8e04057e7b3cbc0dca4fc78ea351e2da]\n",
       "reverse link E10 to E3--><a href=\"psysml:f2bac2b1-68d1-4631-bf1f-fa6cff2f703f\" target=\"_top\" title=\"psysml:f2bac2b1-68d1-4631-bf1f-fa6cff2f703f\" xlink:actuate=\"onRequest\" xlink:href=\"psysml:f2bac2b1-68d1-4631-bf1f-fa6cff2f703f\" xlink:show=\"new\" xlink:title=\"psysml:f2bac2b1-68d1-4631-bf1f-fa6cff2f703f\" xlink:type=\"simple\"><path d=\"M220.89,435.94 C216.45,398.05 210,343 210,343 C210,343 210,297 210,297 C210,297 213.72,264.78 217.02,236.2 \" fill=\"none\" id=\"E10&lt;-E3-1\" style=\"stroke: #383838; stroke-width: 1.0;\"/><polygon fill=\"#FFFFFF\" points=\"222.42,449,225.694,442.575,221.0225,437.0817,217.7485,443.5067,222.42,449\" style=\"stroke: #383838; stroke-width: 1.0;\"/><text fill=\"#000000\" font-family=\"sans-serif\" font-size=\"13\" lengthAdjust=\"spacingAndGlyphs\" textLength=\"7\" x=\"211\" y=\"324.5669\">y</text></a><!--MD5=[8e04057e7b3cbc0dca4fc78ea351e2da]\n",
       "reverse link E10 to E3--><a href=\"psysml:f2bac2b1-68d1-4631-bf1f-fa6cff2f703f\" target=\"_top\" title=\"psysml:f2bac2b1-68d1-4631-bf1f-fa6cff2f703f\" xlink:actuate=\"onRequest\" xlink:href=\"psysml:f2bac2b1-68d1-4631-bf1f-fa6cff2f703f\" xlink:show=\"new\" xlink:title=\"psysml:f2bac2b1-68d1-4631-bf1f-fa6cff2f703f\" xlink:type=\"simple\"><path d=\"M225,435.68 C225,407.6 225,373 225,373 C225,373 223.61,289.37 222.72,236.11 \" fill=\"none\" id=\"E10&lt;-E3-2\" style=\"stroke: #383838; stroke-width: 1.0;\"/><polygon fill=\"#FFFFFF\" points=\"225,448.76,229,442.76,225,436.76,221,442.76,225,448.76\" style=\"stroke: #383838; stroke-width: 1.0;\"/><text fill=\"#000000\" font-family=\"sans-serif\" font-size=\"13\" lengthAdjust=\"spacingAndGlyphs\" textLength=\"7\" x=\"225\" y=\"324.5669\">y</text></a><!--MD5=[604cbf994c02b74b117f728a71673cea]\n",
       "reverse link E10 to E6--><a href=\"psysml:f2bac2b1-68d1-4631-bf1f-fa6cff2f703f\" target=\"_top\" title=\"psysml:f2bac2b1-68d1-4631-bf1f-fa6cff2f703f\" xlink:actuate=\"onRequest\" xlink:href=\"psysml:f2bac2b1-68d1-4631-bf1f-fa6cff2f703f\" xlink:show=\"new\" xlink:title=\"psysml:f2bac2b1-68d1-4631-bf1f-fa6cff2f703f\" xlink:type=\"simple\"><path d=\"M231.72,507.96 C233.53,517.37 235,525 235,525 C235,525 235,542 235,542 C235,542 231.97,557.77 229.24,571.95 \" fill=\"none\" id=\"E10&lt;-E6\" style=\"stroke: #383838; stroke-width: 1.0;\"/><polygon fill=\"#FFFFFF\" points=\"229.24,495.05,226.447,501.6982,231.5096,506.8334,234.3026,500.1852,229.24,495.05\" style=\"stroke: #383838; stroke-width: 1.0;\"/><text fill=\"#000000\" font-family=\"sans-serif\" font-size=\"13\" lengthAdjust=\"spacingAndGlyphs\" textLength=\"7\" x=\"236\" y=\"538.0669\">y</text></a><!--MD5=[604cbf994c02b74b117f728a71673cea]\n",
       "reverse link E10 to E6--><a href=\"psysml:f2bac2b1-68d1-4631-bf1f-fa6cff2f703f\" target=\"_top\" title=\"psysml:f2bac2b1-68d1-4631-bf1f-fa6cff2f703f\" xlink:actuate=\"onRequest\" xlink:href=\"psysml:f2bac2b1-68d1-4631-bf1f-fa6cff2f703f\" xlink:show=\"new\" xlink:title=\"psysml:f2bac2b1-68d1-4631-bf1f-fa6cff2f703f\" xlink:type=\"simple\"><path d=\"M195.71,504.73 C185.71,515.56 177,525 177,525 C177,525 177,542 177,542 C177,542 191.56,557.77 204.64,571.95 \" fill=\"none\" id=\"E10&lt;-E6-1\" style=\"stroke: #383838; stroke-width: 1.0;\"/><polygon fill=\"#FFFFFF\" points=\"204.64,495.05,197.6318,496.7487,196.5045,503.8712,203.5126,502.1724,204.64,495.05\" style=\"stroke: #383838; stroke-width: 1.0;\"/><text fill=\"#000000\" font-family=\"sans-serif\" font-size=\"13\" lengthAdjust=\"spacingAndGlyphs\" textLength=\"7\" x=\"178\" y=\"538.0669\">y</text></a><!--MD5=[604cbf994c02b74b117f728a71673cea]\n",
       "reverse link E10 to E6--><a href=\"psysml:f2bac2b1-68d1-4631-bf1f-fa6cff2f703f\" target=\"_top\" title=\"psysml:f2bac2b1-68d1-4631-bf1f-fa6cff2f703f\" xlink:actuate=\"onRequest\" xlink:href=\"psysml:f2bac2b1-68d1-4631-bf1f-fa6cff2f703f\" xlink:show=\"new\" xlink:title=\"psysml:f2bac2b1-68d1-4631-bf1f-fa6cff2f703f\" xlink:type=\"simple\"><path d=\"M225,508.22 C225,528.81 225,554.16 225,571.95 \" fill=\"none\" id=\"E10&lt;-E6-2\" style=\"stroke: #383838; stroke-width: 1.0;\"/><polygon fill=\"#FFFFFF\" points=\"225,495.19,221,501.19,225,507.19,229,501.19,225,495.19\" style=\"stroke: #383838; stroke-width: 1.0;\"/><text fill=\"#000000\" font-family=\"sans-serif\" font-size=\"13\" lengthAdjust=\"spacingAndGlyphs\" textLength=\"7\" x=\"226\" y=\"538.0669\">y</text></a><!--MD5=[523b23d2c0861e00c5ef14b4b589ca71]\n",
       "@startuml\r\n",
       "skinparam linetype polyline\r\n",
       "skinparam monochrome true\r\n",
       "skinparam classbackgroundcolor white\r\n",
       "skinparam shadowing false\r\n",
       "skinparam wrapWidth 300\r\n",
       "hide circle\r\n",
       "\r\n",
       "package \"PartTest\" as E1  [[psysml:c38775ed-c195-45a3-878f-69446059ff99 ]]  {\r\n",
       "comp usage \"f: A \" as E2  <<(T,blue) part>> [[psysml:133b9857-5562-4f09-a022-80109f8d4a7d ]] {\r\n",
       "}\r\n",
       "comp def \"A\" as E3  <<(T,blue) part  def>> [[psysml:41a43e73-47d4-427d-aa17-f57a90b2778c ]] {\r\n",
       "- - attributes - -\r\n",
       "x\r\n",
       "y:> A::x\r\n",
       "}\r\n",
       "comp usage \"b: B \" as E4  <<(T,blue) part>> [[psysml:23a90af0-4107-4bf0-84ea-ac7115753c4e ]] {\r\n",
       "}\r\n",
       "comp usage \"c: C \" as E5  <<(T,blue) port>> [[psysml:3bde4e3d-0323-4342-8ecc-6f2c3dab5224 ]] {\r\n",
       "}\r\n",
       "comp def \"<i>B</i>\" as E6  <<(T,blue) part  def>> [[psysml:c17c630d-59e9-4f7e-a520-276041a9c800 ]] {\r\n",
       "}\r\n",
       "comp usage \"<i>a</i>: A \" as E7  <<(T,blue) part>> [[psysml:4ea01713-b83a-4578-95eb-e0c0377cf261 ]] {\r\n",
       "}\r\n",
       "comp usage \"x: ~C \" as E8  <<(T,blue) port>> [[psysml:c9f90055-486d-4326-9691-bfe47f710c68 ]] {\r\n",
       "}\r\n",
       "package \"P\" as E9  [[psysml:78dea323-2f70-496c-aa91-db5f05f12a10 ]]  {\r\n",
       "}\r\n",
       "comp def \"C\" as E10  <<(T,blue) port  def>> [[psysml:e209a1f3-de72-4850-a45f-7036acf7c094 ]] {\r\n",
       "}\r\n",
       "}\r\n",
       "E2 - -:|> E3 [[psysml:de99b855-827b-4779-9c99-7b4326eef43f ]] \r\n",
       "E3 *- - \"1\"E4 [[psysml:7d143534-3389-4013-881e-42b16664757f ]] \r\n",
       "E3 o- - \"1\"E5 [[psysml:01061be5-5fdc-439c-afe5-881fb8746c83 ]] \r\n",
       "E4 - -:|> E6 [[psysml:8d11eaae-af32-434c-8c3d-32f92418f4c8 ]] \r\n",
       "E6 *- - \"1\"E7 [[psysml:7466bf8a-1e84-4b05-9901-ce46ee446fa5 ]] \r\n",
       "E7 - -:|> E3 [[psysml:3c280f0c-0d5e-48e6-b009-cbd7db9e9beb ]] \r\n",
       "E6 o- - \"1\"E8 [[psysml:dcb35f57-14cb-4e2c-8543-9245438ead5d ]] \r\n",
       "E6 +- - E9 [[psysml:08766104-19a0-4aca-bf35-b4c81b8c6dcb ]] \r\n",
       "E5 - -:|> E10 [[psysml:568ef262-b92a-4cba-8a4b-19f4a197db7e ]] \r\n",
       "E10 o- - E3 [[psysml:f2bac2b1-68d1-4631-bf1f-fa6cff2f703f ]] : y\r\n",
       "E10 o- - E6 [[psysml:f2bac2b1-68d1-4631-bf1f-fa6cff2f703f ]] : y\r\n",
       "E10 o- - E3 [[psysml:f2bac2b1-68d1-4631-bf1f-fa6cff2f703f ]] : y\r\n",
       "E10 o- - E6 [[psysml:f2bac2b1-68d1-4631-bf1f-fa6cff2f703f ]] : y\r\n",
       "E10 o- - E3 [[psysml:f2bac2b1-68d1-4631-bf1f-fa6cff2f703f ]] : y\r\n",
       "E10 o- - E6 [[psysml:f2bac2b1-68d1-4631-bf1f-fa6cff2f703f ]] : y\r\n",
       "@enduml\r\n",
       "\n",
       "PlantUML version 1.2020.13(Sat Jun 13 12:26:38 UTC 2020)\n",
       "(EPL source distribution)\n",
       "Java Runtime: OpenJDK Runtime Environment\n",
       "JVM: OpenJDK 64-Bit Server VM\n",
       "Default Encoding: UTF-8\n",
       "Language: en\n",
       "Country: null\n",
       "--></g></svg>"
      ]
     },
     "execution_count": 9,
     "metadata": {},
     "output_type": "execute_result"
    }
   ],
   "source": [
    "%viz --style=\"POLYLINE\" --view=\"Default\" \"PartTest\""
   ]
  },
  {
   "cell_type": "code",
   "execution_count": 10,
   "id": "80bf261c",
   "metadata": {
    "execution": {
     "iopub.execute_input": "2022-02-05T16:55:42.788986Z",
     "iopub.status.busy": "2022-02-05T16:55:42.788528Z",
     "iopub.status.idle": "2022-02-05T16:55:42.870266Z",
     "shell.execute_reply": "2022-02-05T16:55:42.868121Z"
    }
   },
   "outputs": [
    {
     "data": {
      "image/svg+xml": [
       "<?xml version=\"1.0\" encoding=\"UTF-8\" standalone=\"no\"?><svg xmlns=\"http://www.w3.org/2000/svg\" xmlns:xlink=\"http://www.w3.org/1999/xlink\" contentScriptType=\"application/ecmascript\" contentStyleType=\"text/css\" height=\"760px\" preserveAspectRatio=\"none\" style=\"width:423px;height:760px;\" version=\"1.1\" viewBox=\"0 0 423 760\" width=\"423px\" zoomAndPan=\"magnify\"><defs/><g><!--MD5=[fbc87193dbaf4d95561dea2c320d4a47]\n",
       "cluster E1--><a href=\"psysml:c38775ed-c195-45a3-878f-69446059ff99\" target=\"_top\" title=\"psysml:c38775ed-c195-45a3-878f-69446059ff99\" xlink:actuate=\"onRequest\" xlink:href=\"psysml:c38775ed-c195-45a3-878f-69446059ff99\" xlink:show=\"new\" xlink:title=\"psysml:c38775ed-c195-45a3-878f-69446059ff99\" xlink:type=\"simple\"><polygon fill=\"#FFFFFF\" points=\"16,6,80,6,87,28.2969,401,28.2969,401,748,16,748,16,6\" style=\"stroke: #000000; stroke-width: 1.5;\"/><line style=\"stroke: #000000; stroke-width: 1.5;\" x1=\"16\" x2=\"87\" y1=\"28.2969\" y2=\"28.2969\"/><text fill=\"#000000\" font-family=\"sans-serif\" font-size=\"14\" font-weight=\"bold\" lengthAdjust=\"spacingAndGlyphs\" textLength=\"58\" x=\"20\" y=\"20.9951\">PartTest</text></a><!--MD5=[b4997ac47864f28c2f74865a473b2911]\n",
       "class E2--><a href=\"psysml:133b9857-5562-4f09-a022-80109f8d4a7d\" target=\"_top\" title=\"psysml:133b9857-5562-4f09-a022-80109f8d4a7d\" xlink:actuate=\"onRequest\" xlink:href=\"psysml:133b9857-5562-4f09-a022-80109f8d4a7d\" xlink:show=\"new\" xlink:title=\"psysml:133b9857-5562-4f09-a022-80109f8d4a7d\" xlink:type=\"simple\"><rect fill=\"#FFFFFF\" height=\"45.9375\" id=\"E2\" rx=\"10\" ry=\"10\" style=\"stroke: #383838; stroke-width: 1.5;\" width=\"42\" x=\"201\" y=\"41\"/><text fill=\"#000000\" font-family=\"sans-serif\" font-size=\"12\" font-style=\"italic\" lengthAdjust=\"spacingAndGlyphs\" textLength=\"40\" x=\"202\" y=\"57.1387\">«part»</text><text fill=\"#000000\" font-family=\"sans-serif\" font-size=\"12\" lengthAdjust=\"spacingAndGlyphs\" textLength=\"20\" x=\"210\" y=\"71.1074\">f: A</text><line style=\"stroke: #383838; stroke-width: 1.5;\" x1=\"202\" x2=\"242\" y1=\"78.9375\" y2=\"78.9375\"/></a><!--MD5=[09b614a08d8cba4a07c9adeb5e0fee81]\n",
       "class E3--><a href=\"psysml:41a43e73-47d4-427d-aa17-f57a90b2778c\" target=\"_top\" title=\"psysml:41a43e73-47d4-427d-aa17-f57a90b2778c\" xlink:actuate=\"onRequest\" xlink:href=\"psysml:41a43e73-47d4-427d-aa17-f57a90b2778c\" xlink:show=\"new\" xlink:title=\"psysml:41a43e73-47d4-427d-aa17-f57a90b2778c\" xlink:type=\"simple\"><rect fill=\"#FFFFFF\" height=\"88.3516\" id=\"E3\" style=\"stroke: #383838; stroke-width: 1.5;\" width=\"70\" x=\"187\" y=\"148\"/><text fill=\"#000000\" font-family=\"sans-serif\" font-size=\"12\" font-style=\"italic\" lengthAdjust=\"spacingAndGlyphs\" textLength=\"68\" x=\"188\" y=\"164.1387\">«part  def»</text><text fill=\"#000000\" font-family=\"sans-serif\" font-size=\"12\" lengthAdjust=\"spacingAndGlyphs\" textLength=\"8\" x=\"218\" y=\"178.1074\">A</text><line style=\"stroke: #383838; stroke-width: 1.5;\" x1=\"188\" x2=\"256\" y1=\"185.9375\" y2=\"185.9375\"/><text fill=\"#000000\" font-family=\"sans-serif\" font-size=\"11\" lengthAdjust=\"spacingAndGlyphs\" textLength=\"6\" x=\"193\" y=\"216.9526\">x</text><text fill=\"#000000\" font-family=\"sans-serif\" font-size=\"11\" lengthAdjust=\"spacingAndGlyphs\" textLength=\"44\" x=\"193\" y=\"229.7573\">y:&gt; A::x</text><line style=\"stroke: #383838; stroke-width: 1.0;\" x1=\"188\" x2=\"194.5\" y1=\"200.3398\" y2=\"200.3398\"/><text fill=\"#000000\" font-family=\"sans-serif\" font-size=\"11\" lengthAdjust=\"spacingAndGlyphs\" textLength=\"55\" x=\"194.5\" y=\"203.6479\">attributes</text><line style=\"stroke: #383838; stroke-width: 1.0;\" x1=\"249.5\" x2=\"256\" y1=\"200.3398\" y2=\"200.3398\"/></a><!--MD5=[ebbe1d658d1005bcc118a6aa81145e00]\n",
       "class E4--><a href=\"psysml:23a90af0-4107-4bf0-84ea-ac7115753c4e\" target=\"_top\" title=\"psysml:23a90af0-4107-4bf0-84ea-ac7115753c4e\" xlink:actuate=\"onRequest\" xlink:href=\"psysml:23a90af0-4107-4bf0-84ea-ac7115753c4e\" xlink:show=\"new\" xlink:title=\"psysml:23a90af0-4107-4bf0-84ea-ac7115753c4e\" xlink:type=\"simple\"><rect fill=\"#FFFFFF\" height=\"45.9375\" id=\"E4\" rx=\"10\" ry=\"10\" style=\"stroke: #383838; stroke-width: 1.5;\" width=\"42\" x=\"323\" y=\"373\"/><text fill=\"#000000\" font-family=\"sans-serif\" font-size=\"12\" font-style=\"italic\" lengthAdjust=\"spacingAndGlyphs\" textLength=\"40\" x=\"324\" y=\"389.1387\">«part»</text><text fill=\"#000000\" font-family=\"sans-serif\" font-size=\"12\" lengthAdjust=\"spacingAndGlyphs\" textLength=\"24\" x=\"330\" y=\"403.1074\">b: B</text><line style=\"stroke: #383838; stroke-width: 1.5;\" x1=\"324\" x2=\"364\" y1=\"410.9375\" y2=\"410.9375\"/></a><!--MD5=[270fce915f116d4de14055a7c1d9a0f3]\n",
       "class E5--><a href=\"psysml:3bde4e3d-0323-4342-8ecc-6f2c3dab5224\" target=\"_top\" title=\"psysml:3bde4e3d-0323-4342-8ecc-6f2c3dab5224\" xlink:actuate=\"onRequest\" xlink:href=\"psysml:3bde4e3d-0323-4342-8ecc-6f2c3dab5224\" xlink:show=\"new\" xlink:title=\"psysml:3bde4e3d-0323-4342-8ecc-6f2c3dab5224\" xlink:type=\"simple\"><rect fill=\"#FFFFFF\" height=\"45.9375\" id=\"E5\" rx=\"10\" ry=\"10\" style=\"stroke: #383838; stroke-width: 1.5;\" width=\"42\" x=\"306\" y=\"297\"/><text fill=\"#000000\" font-family=\"sans-serif\" font-size=\"12\" font-style=\"italic\" lengthAdjust=\"spacingAndGlyphs\" textLength=\"40\" x=\"307\" y=\"313.1387\">«port»</text><text fill=\"#000000\" font-family=\"sans-serif\" font-size=\"12\" lengthAdjust=\"spacingAndGlyphs\" textLength=\"23\" x=\"313.5\" y=\"327.1074\">c: C</text><line style=\"stroke: #383838; stroke-width: 1.5;\" x1=\"307\" x2=\"347\" y1=\"334.9375\" y2=\"334.9375\"/></a><!--MD5=[60a26617385b1d2d0262a64233df1f8d]\n",
       "class E6--><a href=\"psysml:c17c630d-59e9-4f7e-a520-276041a9c800\" target=\"_top\" title=\"psysml:c17c630d-59e9-4f7e-a520-276041a9c800\" xlink:actuate=\"onRequest\" xlink:href=\"psysml:c17c630d-59e9-4f7e-a520-276041a9c800\" xlink:show=\"new\" xlink:title=\"psysml:c17c630d-59e9-4f7e-a520-276041a9c800\" xlink:type=\"simple\"><rect fill=\"#FFFFFF\" height=\"45.9375\" id=\"E6\" style=\"stroke: #383838; stroke-width: 1.5;\" width=\"70\" x=\"190\" y=\"572\"/><text fill=\"#000000\" font-family=\"sans-serif\" font-size=\"12\" font-style=\"italic\" lengthAdjust=\"spacingAndGlyphs\" textLength=\"68\" x=\"191\" y=\"588.1387\">«part  def»</text><text fill=\"#000000\" font-family=\"sans-serif\" font-size=\"12\" font-style=\"italic\" lengthAdjust=\"spacingAndGlyphs\" textLength=\"8\" x=\"221\" y=\"602.1074\">B</text><line style=\"stroke: #383838; stroke-width: 1.5;\" x1=\"191\" x2=\"259\" y1=\"609.9375\" y2=\"609.9375\"/></a><!--MD5=[2156ba9850f5573cc1fc38a6a4b2f02b]\n",
       "class E7--><a href=\"psysml:4ea01713-b83a-4578-95eb-e0c0377cf261\" target=\"_top\" title=\"psysml:4ea01713-b83a-4578-95eb-e0c0377cf261\" xlink:actuate=\"onRequest\" xlink:href=\"psysml:4ea01713-b83a-4578-95eb-e0c0377cf261\" xlink:show=\"new\" xlink:title=\"psysml:4ea01713-b83a-4578-95eb-e0c0377cf261\" xlink:type=\"simple\"><rect fill=\"#FFFFFF\" height=\"45.9375\" id=\"E7\" rx=\"10\" ry=\"10\" style=\"stroke: #383838; stroke-width: 1.5;\" width=\"42\" x=\"68\" y=\"682.5\"/><text fill=\"#000000\" font-family=\"sans-serif\" font-size=\"12\" font-style=\"italic\" lengthAdjust=\"spacingAndGlyphs\" textLength=\"40\" x=\"69\" y=\"698.6387\">«part»</text><text fill=\"#000000\" font-family=\"sans-serif\" font-size=\"12\" font-style=\"italic\" lengthAdjust=\"spacingAndGlyphs\" textLength=\"8\" x=\"75\" y=\"712.6074\">a</text><text fill=\"#000000\" font-family=\"sans-serif\" font-size=\"12\" lengthAdjust=\"spacingAndGlyphs\" textLength=\"16\" x=\"83\" y=\"712.6074\">: A</text><line style=\"stroke: #383838; stroke-width: 1.5;\" x1=\"69\" x2=\"109\" y1=\"720.4375\" y2=\"720.4375\"/></a><!--MD5=[b9389687b975829384b498ac4b7476b2]\n",
       "class E8--><a href=\"psysml:c9f90055-486d-4326-9691-bfe47f710c68\" target=\"_top\" title=\"psysml:c9f90055-486d-4326-9691-bfe47f710c68\" xlink:actuate=\"onRequest\" xlink:href=\"psysml:c9f90055-486d-4326-9691-bfe47f710c68\" xlink:show=\"new\" xlink:title=\"psysml:c9f90055-486d-4326-9691-bfe47f710c68\" xlink:type=\"simple\"><rect fill=\"#FFFFFF\" height=\"45.9375\" id=\"E8\" rx=\"10\" ry=\"10\" style=\"stroke: #383838; stroke-width: 1.5;\" width=\"42\" x=\"228\" y=\"682.5\"/><text fill=\"#000000\" font-family=\"sans-serif\" font-size=\"12\" font-style=\"italic\" lengthAdjust=\"spacingAndGlyphs\" textLength=\"40\" x=\"229\" y=\"698.6387\">«port»</text><text fill=\"#000000\" font-family=\"sans-serif\" font-size=\"12\" lengthAdjust=\"spacingAndGlyphs\" textLength=\"32\" x=\"231\" y=\"712.6074\">x: ~C</text><line style=\"stroke: #383838; stroke-width: 1.5;\" x1=\"229\" x2=\"269\" y1=\"720.4375\" y2=\"720.4375\"/></a><!--MD5=[96f4274e9e20536e775497830990834d]\n",
       "class E10--><a href=\"psysml:e209a1f3-de72-4850-a45f-7036acf7c094\" target=\"_top\" title=\"psysml:e209a1f3-de72-4850-a45f-7036acf7c094\" xlink:actuate=\"onRequest\" xlink:href=\"psysml:e209a1f3-de72-4850-a45f-7036acf7c094\" xlink:show=\"new\" xlink:title=\"psysml:e209a1f3-de72-4850-a45f-7036acf7c094\" xlink:type=\"simple\"><rect fill=\"#FFFFFF\" height=\"45.9375\" id=\"E10\" style=\"stroke: #383838; stroke-width: 1.5;\" width=\"70\" x=\"190\" y=\"449\"/><text fill=\"#000000\" font-family=\"sans-serif\" font-size=\"12\" font-style=\"italic\" lengthAdjust=\"spacingAndGlyphs\" textLength=\"68\" x=\"191\" y=\"465.1387\">«port  def»</text><text fill=\"#000000\" font-family=\"sans-serif\" font-size=\"12\" lengthAdjust=\"spacingAndGlyphs\" textLength=\"8\" x=\"221\" y=\"479.1074\">C</text><line style=\"stroke: #383838; stroke-width: 1.5;\" x1=\"191\" x2=\"259\" y1=\"486.9375\" y2=\"486.9375\"/></a><a href=\"psysml:78dea323-2f70-496c-aa91-db5f05f12a10\" target=\"_top\" title=\"psysml:78dea323-2f70-496c-aa91-db5f05f12a10\" xlink:actuate=\"onRequest\" xlink:href=\"psysml:78dea323-2f70-496c-aa91-db5f05f12a10\" xlink:show=\"new\" xlink:title=\"psysml:78dea323-2f70-496c-aa91-db5f05f12a10\" xlink:type=\"simple\"><polygon fill=\"#FFFFFF\" points=\"163.5,679,178.5,679,185.5,701.2969,192.5,701.2969,192.5,731.5938,163.5,731.5938,163.5,679\" style=\"stroke: #000000; stroke-width: 1.5;\"/><line style=\"stroke: #000000; stroke-width: 1.5;\" x1=\"163.5\" x2=\"185.5\" y1=\"701.2969\" y2=\"701.2969\"/><text fill=\"#000000\" font-family=\"sans-serif\" font-size=\"14\" font-weight=\"bold\" lengthAdjust=\"spacingAndGlyphs\" textLength=\"9\" x=\"167.5\" y=\"693.9951\">P</text></a><!--MD5=[2720a5a1f2c3fca2055b230370638851]\n",
       "link E2 to E3--><a href=\"psysml:de99b855-827b-4779-9c99-7b4326eef43f\" target=\"_top\" title=\"psysml:de99b855-827b-4779-9c99-7b4326eef43f\" xlink:actuate=\"onRequest\" xlink:href=\"psysml:de99b855-827b-4779-9c99-7b4326eef43f\" xlink:show=\"new\" xlink:title=\"psysml:de99b855-827b-4779-9c99-7b4326eef43f\" xlink:type=\"simple\"><path d=\"M222,87.24 C222,98.62 222,113.11 222,127.62 \" fill=\"none\" id=\"E2-&gt;E3\" style=\"stroke: #383838; stroke-width: 1.0;\"/><polygon fill=\"#FFFFFF\" points=\"222,147.84,215,128.84,229,128.84,222,147.84\" style=\"stroke: #383838; stroke-width: 1.0;\"/><ellipse cx=\"217\" cy=\"123.14\" fill=\"#383838\" rx=\"2\" ry=\"2\" style=\"stroke: #383838; stroke-width: 1.0;\"/><ellipse cx=\"227\" cy=\"123.14\" fill=\"#383838\" rx=\"2\" ry=\"2\" style=\"stroke: #383838; stroke-width: 1.0;\"/></a><!--MD5=[4672eba38e49728da53d11aeb285b987]\n",
       "reverse link E3 to E4--><a href=\"psysml:7d143534-3389-4013-881e-42b16664757f\" target=\"_top\" title=\"psysml:7d143534-3389-4013-881e-42b16664757f\" xlink:actuate=\"onRequest\" xlink:href=\"psysml:7d143534-3389-4013-881e-42b16664757f\" xlink:show=\"new\" xlink:title=\"psysml:7d143534-3389-4013-881e-42b16664757f\" xlink:type=\"simple\"><path d=\"M267.87,226.13 C310.03,256.57 366,297 366,297 C366,297 366,343 366,343 C366,343 359.33,358.77 353.33,372.95 \" fill=\"none\" id=\"E3&lt;-E4\" style=\"stroke: #383838; stroke-width: 1.0;\"/><polygon fill=\"#383838\" points=\"257.23,218.44,259.7521,225.1957,266.9582,225.4659,264.436,218.7102,257.23,218.44\" style=\"stroke: #383838; stroke-width: 1.0;\"/><text fill=\"#000000\" font-family=\"sans-serif\" font-size=\"13\" lengthAdjust=\"spacingAndGlyphs\" textLength=\"8\" x=\"347.5421\" y=\"363.0588\">1</text></a><!--MD5=[191cde3d490a3f6d7bb551fe3ddca469]\n",
       "reverse link E3 to E5--><a href=\"psysml:01061be5-5fdc-439c-afe5-881fb8746c83\" target=\"_top\" title=\"psysml:01061be5-5fdc-439c-afe5-881fb8746c83\" xlink:actuate=\"onRequest\" xlink:href=\"psysml:01061be5-5fdc-439c-afe5-881fb8746c83\" xlink:show=\"new\" xlink:title=\"psysml:01061be5-5fdc-439c-afe5-881fb8746c83\" xlink:type=\"simple\"><path d=\"M265.68,245.41 C280.65,263.38 296.6,282.52 308.48,296.78 \" fill=\"none\" id=\"E3&lt;-E5\" style=\"stroke: #383838; stroke-width: 1.0;\"/><polygon fill=\"#FFFFFF\" points=\"257.26,235.31,258.0312,242.4797,264.9461,244.5254,264.1749,237.3557,257.26,235.31\" style=\"stroke: #383838; stroke-width: 1.0;\"/><text fill=\"#000000\" font-family=\"sans-serif\" font-size=\"13\" lengthAdjust=\"spacingAndGlyphs\" textLength=\"8\" x=\"294.7093\" y=\"285.9999\">1</text></a><!--MD5=[79568f1e445c3877b6a54524624ccc7d]\n",
       "link E4 to E6--><a href=\"psysml:8d11eaae-af32-434c-8c3d-32f92418f4c8\" target=\"_top\" title=\"psysml:8d11eaae-af32-434c-8c3d-32f92418f4c8\" xlink:actuate=\"onRequest\" xlink:href=\"psysml:8d11eaae-af32-434c-8c3d-32f92418f4c8\" xlink:show=\"new\" xlink:title=\"psysml:8d11eaae-af32-434c-8c3d-32f92418f4c8\" xlink:type=\"simple\"><path d=\"M330.58,419.22 C310.75,452.04 273.34,513.98 248.79,554.62 \" fill=\"none\" id=\"E4-&gt;E6\" style=\"stroke: #383838; stroke-width: 1.0;\"/><polygon fill=\"#FFFFFF\" points=\"238.37,571.87,242.2063,551.9883,254.1882,559.2294,238.37,571.87\" style=\"stroke: #383838; stroke-width: 1.0;\"/><ellipse cx=\"246.8662\" cy=\"548.1444\" fill=\"#383838\" rx=\"2\" ry=\"2\" style=\"stroke: #383838; stroke-width: 1.0;\"/><ellipse cx=\"255.4247\" cy=\"553.3166\" fill=\"#383838\" rx=\"2\" ry=\"2\" style=\"stroke: #383838; stroke-width: 1.0;\"/></a><!--MD5=[3f50a3473f1dfb74d3f76443e03635af]\n",
       "reverse link E6 to E7--><a href=\"psysml:7466bf8a-1e84-4b05-9901-ce46ee446fa5\" target=\"_top\" title=\"psysml:7466bf8a-1e84-4b05-9901-ce46ee446fa5\" xlink:actuate=\"onRequest\" xlink:href=\"psysml:7466bf8a-1e84-4b05-9901-ce46ee446fa5\" xlink:show=\"new\" xlink:title=\"psysml:7466bf8a-1e84-4b05-9901-ce46ee446fa5\" xlink:type=\"simple\"><path d=\"M186.96,626.35 C162.12,646.16 130.61,671.3 110.14,687.64 \" fill=\"none\" id=\"E6&lt;-E7\" style=\"stroke: #383838; stroke-width: 1.0;\"/><polygon fill=\"#383838\" points=\"197.15,618.22,189.9656,618.8398,187.7744,625.7099,194.9589,625.0901,197.15,618.22\" style=\"stroke: #383838; stroke-width: 1.0;\"/><text fill=\"#000000\" font-family=\"sans-serif\" font-size=\"13\" lengthAdjust=\"spacingAndGlyphs\" textLength=\"8\" x=\"118.1534\" y=\"676.6545\">1</text></a><!--MD5=[14ccda38c055a5c0da953d572bc50960]\n",
       "link E7 to E3--><a href=\"psysml:3c280f0c-0d5e-48e6-b009-cbd7db9e9beb\" target=\"_top\" title=\"psysml:3c280f0c-0d5e-48e6-b009-cbd7db9e9beb\" xlink:actuate=\"onRequest\" xlink:href=\"psysml:3c280f0c-0d5e-48e6-b009-cbd7db9e9beb\" xlink:show=\"new\" xlink:title=\"psysml:3c280f0c-0d5e-48e6-b009-cbd7db9e9beb\" xlink:type=\"simple\"><path d=\"M77.53,682.28 C61.15,650.54 33,596 33,596 C33,319 33,319 33,319 C33,319 114.15,264.9 170.1,227.6 \" fill=\"none\" id=\"E7-&gt;E3\" style=\"stroke: #383838; stroke-width: 1.0;\"/><polygon fill=\"#FFFFFF\" points=\"186.89,216.4,174.9672,232.766,167.1991,221.1189,186.89,216.4\" style=\"stroke: #383838; stroke-width: 1.0;\"/><ellipse cx=\"169.1154\" cy=\"234.2649\" fill=\"#383838\" rx=\"2\" ry=\"2\" style=\"stroke: #383838; stroke-width: 1.0;\"/><ellipse cx=\"163.5667\" cy=\"225.9455\" fill=\"#383838\" rx=\"2\" ry=\"2\" style=\"stroke: #383838; stroke-width: 1.0;\"/></a><!--MD5=[f4cf0736d43fd73c4ef68817c49d37d5]\n",
       "reverse link E6 to E8--><a href=\"psysml:dcb35f57-14cb-4e2c-8543-9245438ead5d\" target=\"_top\" title=\"psysml:dcb35f57-14cb-4e2c-8543-9245438ead5d\" xlink:actuate=\"onRequest\" xlink:href=\"psysml:dcb35f57-14cb-4e2c-8543-9245438ead5d\" xlink:show=\"new\" xlink:title=\"psysml:dcb35f57-14cb-4e2c-8543-9245438ead5d\" xlink:type=\"simple\"><path d=\"M232.74,630.98 C236.47,647.83 240.83,667.54 244.09,682.31 \" fill=\"none\" id=\"E6&lt;-E8\" style=\"stroke: #383838; stroke-width: 1.0;\"/><polygon fill=\"#FFFFFF\" points=\"229.91,618.22,227.2956,624.9405,232.4936,629.9386,235.108,623.2181,229.91,618.22\" style=\"stroke: #383838; stroke-width: 1.0;\"/><text fill=\"#000000\" font-family=\"sans-serif\" font-size=\"13\" lengthAdjust=\"spacingAndGlyphs\" textLength=\"8\" x=\"233.8068\" y=\"671.5376\">1</text></a><!--MD5=[e88d06e5a652d73a6b19930eefe025a8]\n",
       "reverse link E6 to E9--><a href=\"psysml:08766104-19a0-4aca-bf35-b4c81b8c6dcb\" target=\"_top\" title=\"psysml:08766104-19a0-4aca-bf35-b4c81b8c6dcb\" xlink:actuate=\"onRequest\" xlink:href=\"psysml:08766104-19a0-4aca-bf35-b4c81b8c6dcb\" xlink:show=\"new\" xlink:title=\"psysml:08766104-19a0-4aca-bf35-b4c81b8c6dcb\" xlink:type=\"simple\"><path d=\"M209.38,632.06 C202.74,647.39 195.15,664.91 189.1,678.88 \" fill=\"none\" id=\"E6&lt;-E9\" style=\"stroke: #383838; stroke-width: 1.0;\"/><ellipse cx=\"212.2011\" cy=\"625.5613\" fill=\"#FFFFFF\" rx=\"8\" ry=\"8\" style=\"stroke: #383838; stroke-width: 1.0;\"/><line style=\"stroke: #383838; stroke-width: 1.0;\" x1=\"209.0221\" x2=\"215.38\" y1=\"632.9026\" y2=\"618.22\"/><line style=\"stroke: #383838; stroke-width: 1.0;\" x1=\"204.8598\" x2=\"219.5423\" y1=\"622.3823\" y2=\"628.7402\"/></a><!--MD5=[f78a29d5932556fa1060671a2a6507d8]\n",
       "link E5 to E10--><a href=\"psysml:568ef262-b92a-4cba-8a4b-19f4a197db7e\" target=\"_top\" title=\"psysml:568ef262-b92a-4cba-8a4b-19f4a197db7e\" xlink:actuate=\"onRequest\" xlink:href=\"psysml:568ef262-b92a-4cba-8a4b-19f4a197db7e\" xlink:show=\"new\" xlink:title=\"psysml:568ef262-b92a-4cba-8a4b-19f4a197db7e\" xlink:type=\"simple\"><path d=\"M314.29,343.24 C297.77,372.15 271,419 271,419 C271,419 265.27,425.47 257.86,433.85 \" fill=\"none\" id=\"E5-&gt;E10\" style=\"stroke: #383838; stroke-width: 1.0;\"/><polygon fill=\"#FFFFFF\" points=\"244.51,448.95,251.8652,430.0847,262.3466,439.3659,244.51,448.95\" style=\"stroke: #383838; stroke-width: 1.0;\"/><ellipse cx=\"257.1414\" cy=\"427.1432\" fill=\"#383838\" rx=\"2\" ry=\"2\" style=\"stroke: #383838; stroke-width: 1.0;\"/><ellipse cx=\"264.6281\" cy=\"433.7726\" fill=\"#383838\" rx=\"2\" ry=\"2\" style=\"stroke: #383838; stroke-width: 1.0;\"/></a><!--MD5=[8e04057e7b3cbc0dca4fc78ea351e2da]\n",
       "reverse link E10 to E3--><a href=\"psysml:f2bac2b1-68d1-4631-bf1f-fa6cff2f703f\" target=\"_top\" title=\"psysml:f2bac2b1-68d1-4631-bf1f-fa6cff2f703f\" xlink:actuate=\"onRequest\" xlink:href=\"psysml:f2bac2b1-68d1-4631-bf1f-fa6cff2f703f\" xlink:show=\"new\" xlink:title=\"psysml:f2bac2b1-68d1-4631-bf1f-fa6cff2f703f\" xlink:type=\"simple\"><path d=\"M194.2,439.6 C183.44,428.63 174,419 174,419 C174,419 131,343 131,343 C131,343 131,297 131,297 C131,297 161.21,262.47 186.82,233.21 \" fill=\"none\" id=\"E10&lt;-E3\" style=\"stroke: #383838; stroke-width: 1.0;\"/><polygon fill=\"#FFFFFF\" points=\"203.37,448.95,202.0273,441.865,194.9709,440.3794,196.3136,447.4644,203.37,448.95\" style=\"stroke: #383838; stroke-width: 1.0;\"/><text fill=\"#000000\" font-family=\"sans-serif\" font-size=\"13\" lengthAdjust=\"spacingAndGlyphs\" textLength=\"7\" x=\"132\" y=\"324.5669\">y</text></a><!--MD5=[8e04057e7b3cbc0dca4fc78ea351e2da]\n",
       "reverse link E10 to E3--><a href=\"psysml:f2bac2b1-68d1-4631-bf1f-fa6cff2f703f\" target=\"_top\" title=\"psysml:f2bac2b1-68d1-4631-bf1f-fa6cff2f703f\" xlink:actuate=\"onRequest\" xlink:href=\"psysml:f2bac2b1-68d1-4631-bf1f-fa6cff2f703f\" xlink:show=\"new\" xlink:title=\"psysml:f2bac2b1-68d1-4631-bf1f-fa6cff2f703f\" xlink:type=\"simple\"><path d=\"M220.89,435.94 C216.45,398.05 210,343 210,343 C210,343 210,297 210,297 C210,297 213.72,264.78 217.02,236.2 \" fill=\"none\" id=\"E10&lt;-E3-1\" style=\"stroke: #383838; stroke-width: 1.0;\"/><polygon fill=\"#FFFFFF\" points=\"222.42,449,225.694,442.575,221.0225,437.0817,217.7485,443.5067,222.42,449\" style=\"stroke: #383838; stroke-width: 1.0;\"/><text fill=\"#000000\" font-family=\"sans-serif\" font-size=\"13\" lengthAdjust=\"spacingAndGlyphs\" textLength=\"7\" x=\"211\" y=\"324.5669\">y</text></a><!--MD5=[8e04057e7b3cbc0dca4fc78ea351e2da]\n",
       "reverse link E10 to E3--><a href=\"psysml:f2bac2b1-68d1-4631-bf1f-fa6cff2f703f\" target=\"_top\" title=\"psysml:f2bac2b1-68d1-4631-bf1f-fa6cff2f703f\" xlink:actuate=\"onRequest\" xlink:href=\"psysml:f2bac2b1-68d1-4631-bf1f-fa6cff2f703f\" xlink:show=\"new\" xlink:title=\"psysml:f2bac2b1-68d1-4631-bf1f-fa6cff2f703f\" xlink:type=\"simple\"><path d=\"M225,435.68 C225,407.6 225,373 225,373 C225,373 223.61,289.37 222.72,236.11 \" fill=\"none\" id=\"E10&lt;-E3-2\" style=\"stroke: #383838; stroke-width: 1.0;\"/><polygon fill=\"#FFFFFF\" points=\"225,448.76,229,442.76,225,436.76,221,442.76,225,448.76\" style=\"stroke: #383838; stroke-width: 1.0;\"/><text fill=\"#000000\" font-family=\"sans-serif\" font-size=\"13\" lengthAdjust=\"spacingAndGlyphs\" textLength=\"7\" x=\"225\" y=\"324.5669\">y</text></a><!--MD5=[604cbf994c02b74b117f728a71673cea]\n",
       "reverse link E10 to E6--><a href=\"psysml:f2bac2b1-68d1-4631-bf1f-fa6cff2f703f\" target=\"_top\" title=\"psysml:f2bac2b1-68d1-4631-bf1f-fa6cff2f703f\" xlink:actuate=\"onRequest\" xlink:href=\"psysml:f2bac2b1-68d1-4631-bf1f-fa6cff2f703f\" xlink:show=\"new\" xlink:title=\"psysml:f2bac2b1-68d1-4631-bf1f-fa6cff2f703f\" xlink:type=\"simple\"><path d=\"M231.72,507.96 C233.53,517.37 235,525 235,525 C235,525 235,542 235,542 C235,542 231.97,557.77 229.24,571.95 \" fill=\"none\" id=\"E10&lt;-E6\" style=\"stroke: #383838; stroke-width: 1.0;\"/><polygon fill=\"#FFFFFF\" points=\"229.24,495.05,226.447,501.6982,231.5096,506.8334,234.3026,500.1852,229.24,495.05\" style=\"stroke: #383838; stroke-width: 1.0;\"/><text fill=\"#000000\" font-family=\"sans-serif\" font-size=\"13\" lengthAdjust=\"spacingAndGlyphs\" textLength=\"7\" x=\"236\" y=\"538.0669\">y</text></a><!--MD5=[604cbf994c02b74b117f728a71673cea]\n",
       "reverse link E10 to E6--><a href=\"psysml:f2bac2b1-68d1-4631-bf1f-fa6cff2f703f\" target=\"_top\" title=\"psysml:f2bac2b1-68d1-4631-bf1f-fa6cff2f703f\" xlink:actuate=\"onRequest\" xlink:href=\"psysml:f2bac2b1-68d1-4631-bf1f-fa6cff2f703f\" xlink:show=\"new\" xlink:title=\"psysml:f2bac2b1-68d1-4631-bf1f-fa6cff2f703f\" xlink:type=\"simple\"><path d=\"M195.71,504.73 C185.71,515.56 177,525 177,525 C177,525 177,542 177,542 C177,542 191.56,557.77 204.64,571.95 \" fill=\"none\" id=\"E10&lt;-E6-1\" style=\"stroke: #383838; stroke-width: 1.0;\"/><polygon fill=\"#FFFFFF\" points=\"204.64,495.05,197.6318,496.7487,196.5045,503.8712,203.5126,502.1724,204.64,495.05\" style=\"stroke: #383838; stroke-width: 1.0;\"/><text fill=\"#000000\" font-family=\"sans-serif\" font-size=\"13\" lengthAdjust=\"spacingAndGlyphs\" textLength=\"7\" x=\"178\" y=\"538.0669\">y</text></a><!--MD5=[604cbf994c02b74b117f728a71673cea]\n",
       "reverse link E10 to E6--><a href=\"psysml:f2bac2b1-68d1-4631-bf1f-fa6cff2f703f\" target=\"_top\" title=\"psysml:f2bac2b1-68d1-4631-bf1f-fa6cff2f703f\" xlink:actuate=\"onRequest\" xlink:href=\"psysml:f2bac2b1-68d1-4631-bf1f-fa6cff2f703f\" xlink:show=\"new\" xlink:title=\"psysml:f2bac2b1-68d1-4631-bf1f-fa6cff2f703f\" xlink:type=\"simple\"><path d=\"M225,508.22 C225,528.81 225,554.16 225,571.95 \" fill=\"none\" id=\"E10&lt;-E6-2\" style=\"stroke: #383838; stroke-width: 1.0;\"/><polygon fill=\"#FFFFFF\" points=\"225,495.19,221,501.19,225,507.19,229,501.19,225,495.19\" style=\"stroke: #383838; stroke-width: 1.0;\"/><text fill=\"#000000\" font-family=\"sans-serif\" font-size=\"13\" lengthAdjust=\"spacingAndGlyphs\" textLength=\"7\" x=\"226\" y=\"538.0669\">y</text></a><!--MD5=[523b23d2c0861e00c5ef14b4b589ca71]\n",
       "@startuml\r\n",
       "skinparam linetype polyline\r\n",
       "skinparam monochrome true\r\n",
       "skinparam classbackgroundcolor white\r\n",
       "skinparam shadowing false\r\n",
       "skinparam wrapWidth 300\r\n",
       "hide circle\r\n",
       "\r\n",
       "package \"PartTest\" as E1  [[psysml:c38775ed-c195-45a3-878f-69446059ff99 ]]  {\r\n",
       "comp usage \"f: A \" as E2  <<(T,blue) part>> [[psysml:133b9857-5562-4f09-a022-80109f8d4a7d ]] {\r\n",
       "}\r\n",
       "comp def \"A\" as E3  <<(T,blue) part  def>> [[psysml:41a43e73-47d4-427d-aa17-f57a90b2778c ]] {\r\n",
       "- - attributes - -\r\n",
       "x\r\n",
       "y:> A::x\r\n",
       "}\r\n",
       "comp usage \"b: B \" as E4  <<(T,blue) part>> [[psysml:23a90af0-4107-4bf0-84ea-ac7115753c4e ]] {\r\n",
       "}\r\n",
       "comp usage \"c: C \" as E5  <<(T,blue) port>> [[psysml:3bde4e3d-0323-4342-8ecc-6f2c3dab5224 ]] {\r\n",
       "}\r\n",
       "comp def \"<i>B</i>\" as E6  <<(T,blue) part  def>> [[psysml:c17c630d-59e9-4f7e-a520-276041a9c800 ]] {\r\n",
       "}\r\n",
       "comp usage \"<i>a</i>: A \" as E7  <<(T,blue) part>> [[psysml:4ea01713-b83a-4578-95eb-e0c0377cf261 ]] {\r\n",
       "}\r\n",
       "comp usage \"x: ~C \" as E8  <<(T,blue) port>> [[psysml:c9f90055-486d-4326-9691-bfe47f710c68 ]] {\r\n",
       "}\r\n",
       "package \"P\" as E9  [[psysml:78dea323-2f70-496c-aa91-db5f05f12a10 ]]  {\r\n",
       "}\r\n",
       "comp def \"C\" as E10  <<(T,blue) port  def>> [[psysml:e209a1f3-de72-4850-a45f-7036acf7c094 ]] {\r\n",
       "}\r\n",
       "}\r\n",
       "E2 - -:|> E3 [[psysml:de99b855-827b-4779-9c99-7b4326eef43f ]] \r\n",
       "E3 *- - \"1\"E4 [[psysml:7d143534-3389-4013-881e-42b16664757f ]] \r\n",
       "E3 o- - \"1\"E5 [[psysml:01061be5-5fdc-439c-afe5-881fb8746c83 ]] \r\n",
       "E4 - -:|> E6 [[psysml:8d11eaae-af32-434c-8c3d-32f92418f4c8 ]] \r\n",
       "E6 *- - \"1\"E7 [[psysml:7466bf8a-1e84-4b05-9901-ce46ee446fa5 ]] \r\n",
       "E7 - -:|> E3 [[psysml:3c280f0c-0d5e-48e6-b009-cbd7db9e9beb ]] \r\n",
       "E6 o- - \"1\"E8 [[psysml:dcb35f57-14cb-4e2c-8543-9245438ead5d ]] \r\n",
       "E6 +- - E9 [[psysml:08766104-19a0-4aca-bf35-b4c81b8c6dcb ]] \r\n",
       "E5 - -:|> E10 [[psysml:568ef262-b92a-4cba-8a4b-19f4a197db7e ]] \r\n",
       "E10 o- - E3 [[psysml:f2bac2b1-68d1-4631-bf1f-fa6cff2f703f ]] : y\r\n",
       "E10 o- - E6 [[psysml:f2bac2b1-68d1-4631-bf1f-fa6cff2f703f ]] : y\r\n",
       "E10 o- - E3 [[psysml:f2bac2b1-68d1-4631-bf1f-fa6cff2f703f ]] : y\r\n",
       "E10 o- - E6 [[psysml:f2bac2b1-68d1-4631-bf1f-fa6cff2f703f ]] : y\r\n",
       "E10 o- - E3 [[psysml:f2bac2b1-68d1-4631-bf1f-fa6cff2f703f ]] : y\r\n",
       "E10 o- - E6 [[psysml:f2bac2b1-68d1-4631-bf1f-fa6cff2f703f ]] : y\r\n",
       "@enduml\r\n",
       "\n",
       "PlantUML version 1.2020.13(Sat Jun 13 12:26:38 UTC 2020)\n",
       "(EPL source distribution)\n",
       "Java Runtime: OpenJDK Runtime Environment\n",
       "JVM: OpenJDK 64-Bit Server VM\n",
       "Default Encoding: UTF-8\n",
       "Language: en\n",
       "Country: null\n",
       "--></g></svg>"
      ]
     },
     "execution_count": 10,
     "metadata": {},
     "output_type": "execute_result"
    }
   ],
   "source": [
    "%viz --style=\"POLYLINE\" --view=\"Tree\" \"PartTest\""
   ]
  },
  {
   "cell_type": "code",
   "execution_count": 11,
   "id": "fa05b1fe",
   "metadata": {
    "execution": {
     "iopub.execute_input": "2022-02-05T16:55:42.919072Z",
     "iopub.status.busy": "2022-02-05T16:55:42.918633Z",
     "iopub.status.idle": "2022-02-05T16:55:42.924938Z",
     "shell.execute_reply": "2022-02-05T16:55:42.925260Z"
    }
   },
   "outputs": [
    {
     "data": {
      "image/svg+xml": [
       "<?xml version=\"1.0\" encoding=\"UTF-8\" standalone=\"no\"?><svg xmlns=\"http://www.w3.org/2000/svg\" xmlns:xlink=\"http://www.w3.org/1999/xlink\" contentScriptType=\"application/ecmascript\" contentStyleType=\"text/css\" height=\"12px\" preserveAspectRatio=\"none\" style=\"width:12px;height:12px;\" version=\"1.1\" viewBox=\"0 0 12 12\" width=\"12px\" zoomAndPan=\"magnify\"><defs/><g><!--MD5=[896ac0e7a515d8dd7765a661cb4ee08b]\n",
       "@startuml\r\n",
       "skinparam linetype polyline\r\n",
       "skinparam monochrome true\r\n",
       "skinparam classbackgroundcolor white\r\n",
       "skinparam shadowing false\r\n",
       "skinparam wrapWidth 300\r\n",
       "hide circle\r\n",
       "\r\n",
       "@enduml\r\n",
       "\n",
       "PlantUML version 1.2020.13(Sat Jun 13 12:26:38 UTC 2020)\n",
       "(EPL source distribution)\n",
       "Java Runtime: OpenJDK Runtime Environment\n",
       "JVM: OpenJDK 64-Bit Server VM\n",
       "Default Encoding: UTF-8\n",
       "Language: en\n",
       "Country: null\n",
       "--></g></svg>"
      ]
     },
     "execution_count": 11,
     "metadata": {},
     "output_type": "execute_result"
    }
   ],
   "source": [
    "%viz --style=\"POLYLINE\" --view=\"State\" \"PartTest\""
   ]
  },
  {
   "cell_type": "code",
   "execution_count": 12,
   "id": "c19a8fc3",
   "metadata": {
    "execution": {
     "iopub.execute_input": "2022-02-05T16:55:42.975761Z",
     "iopub.status.busy": "2022-02-05T16:55:42.975329Z",
     "iopub.status.idle": "2022-02-05T16:55:43.020804Z",
     "shell.execute_reply": "2022-02-05T16:55:43.021125Z"
    }
   },
   "outputs": [
    {
     "data": {
      "image/svg+xml": [
       "<?xml version=\"1.0\" encoding=\"UTF-8\" standalone=\"no\"?><svg xmlns=\"http://www.w3.org/2000/svg\" xmlns:xlink=\"http://www.w3.org/1999/xlink\" contentScriptType=\"application/ecmascript\" contentStyleType=\"text/css\" height=\"253px\" preserveAspectRatio=\"none\" style=\"width:685px;height:253px;\" version=\"1.1\" viewBox=\"0 0 685 253\" width=\"685px\" zoomAndPan=\"magnify\"><defs/><g><!--MD5=[fbc87193dbaf4d95561dea2c320d4a47]\n",
       "cluster E1--><a href=\"psysml:c38775ed-c195-45a3-878f-69446059ff99\" target=\"_top\" title=\"psysml:c38775ed-c195-45a3-878f-69446059ff99\" xlink:actuate=\"onRequest\" xlink:href=\"psysml:c38775ed-c195-45a3-878f-69446059ff99\" xlink:show=\"new\" xlink:title=\"psysml:c38775ed-c195-45a3-878f-69446059ff99\" xlink:type=\"simple\"><polygon fill=\"#FFFFFF\" points=\"16,6,80,6,87,28.2969,663,28.2969,663,241,16,241,16,6\" style=\"stroke: #000000; stroke-width: 1.5;\"/><line style=\"stroke: #000000; stroke-width: 1.5;\" x1=\"16\" x2=\"87\" y1=\"28.2969\" y2=\"28.2969\"/><text fill=\"#000000\" font-family=\"sans-serif\" font-size=\"14\" font-weight=\"bold\" lengthAdjust=\"spacingAndGlyphs\" textLength=\"58\" x=\"20\" y=\"20.9951\">PartTest</text></a><!--MD5=[d5e69f78d87373223dbae638b30a9c99]\n",
       "cluster E3--><a href=\"psysml:41a43e73-47d4-427d-aa17-f57a90b2778c\" target=\"_top\" title=\"psysml:41a43e73-47d4-427d-aa17-f57a90b2778c\" xlink:actuate=\"onRequest\" xlink:href=\"psysml:41a43e73-47d4-427d-aa17-f57a90b2778c\" xlink:show=\"new\" xlink:title=\"psysml:41a43e73-47d4-427d-aa17-f57a90b2778c\" xlink:type=\"simple\"><rect fill=\"#FFFFFF\" height=\"159\" id=\"E3\" style=\"stroke: #383838; stroke-width: 1.5;\" width=\"230\" x=\"417\" y=\"62.5\"/><rect fill=\"#F8F8F8\" height=\"37.9375\" style=\"stroke: #383838; stroke-width: 1.5;\" width=\"230\" x=\"417\" y=\"62.5\"/><text fill=\"#000000\" font-family=\"sans-serif\" font-size=\"12\" font-style=\"italic\" lengthAdjust=\"spacingAndGlyphs\" textLength=\"68\" x=\"498\" y=\"78.6387\">«part  def»</text><text fill=\"#000000\" font-family=\"sans-serif\" font-size=\"12\" lengthAdjust=\"spacingAndGlyphs\" textLength=\"8\" x=\"528\" y=\"92.6074\">A</text></a><!--MD5=[55dfccfc6c49c2d10cd1bd2211a6c90c]\n",
       "cluster E8--><a href=\"psysml:c17c630d-59e9-4f7e-a520-276041a9c800\" target=\"_top\" title=\"psysml:c17c630d-59e9-4f7e-a520-276041a9c800\" xlink:actuate=\"onRequest\" xlink:href=\"psysml:c17c630d-59e9-4f7e-a520-276041a9c800\" xlink:show=\"new\" xlink:title=\"psysml:c17c630d-59e9-4f7e-a520-276041a9c800\" xlink:type=\"simple\"><rect fill=\"#FFFFFF\" height=\"162.5\" id=\"E8\" style=\"stroke: #383838; stroke-width: 1.5;\" width=\"209\" x=\"200\" y=\"62.5\"/><rect fill=\"#F8F8F8\" height=\"37.9375\" style=\"stroke: #383838; stroke-width: 1.5;\" width=\"209\" x=\"200\" y=\"62.5\"/><text fill=\"#000000\" font-family=\"sans-serif\" font-size=\"12\" font-style=\"italic\" lengthAdjust=\"spacingAndGlyphs\" textLength=\"68\" x=\"270.5\" y=\"78.6387\">«part  def»</text><text fill=\"#000000\" font-family=\"sans-serif\" font-size=\"12\" font-style=\"italic\" lengthAdjust=\"spacingAndGlyphs\" textLength=\"8\" x=\"300.5\" y=\"92.6074\">B</text></a><g id=\"E1.E12\"><a href=\"psysml:e209a1f3-de72-4850-a45f-7036acf7c094\" target=\"_top\" title=\"psysml:e209a1f3-de72-4850-a45f-7036acf7c094\" xlink:actuate=\"onRequest\" xlink:href=\"psysml:e209a1f3-de72-4850-a45f-7036acf7c094\" xlink:show=\"new\" xlink:title=\"psysml:e209a1f3-de72-4850-a45f-7036acf7c094\" xlink:type=\"simple\"><rect fill=\"#FFFFFF\" height=\"42.9375\" id=\"E12\" style=\"stroke: #383838; stroke-width: 1.5;\" width=\"75\" x=\"117.5\" y=\"41\"/><rect fill=\"#F8F8F8\" height=\"37.9375\" style=\"stroke: #383838; stroke-width: 1.5;\" width=\"75\" x=\"117.5\" y=\"41\"/><text fill=\"#000000\" font-family=\"sans-serif\" font-size=\"12\" font-style=\"italic\" lengthAdjust=\"spacingAndGlyphs\" textLength=\"68\" x=\"121\" y=\"57.1387\">«port  def»</text><text fill=\"#000000\" font-family=\"sans-serif\" font-size=\"12\" lengthAdjust=\"spacingAndGlyphs\" textLength=\"8\" x=\"151\" y=\"71.1074\">C</text></a></g><g id=\"E1.E2\"><a href=\"psysml:133b9857-5562-4f09-a022-80109f8d4a7d\" target=\"_top\" title=\"psysml:133b9857-5562-4f09-a022-80109f8d4a7d\" xlink:actuate=\"onRequest\" xlink:href=\"psysml:133b9857-5562-4f09-a022-80109f8d4a7d\" xlink:show=\"new\" xlink:title=\"psysml:133b9857-5562-4f09-a022-80109f8d4a7d\" xlink:type=\"simple\"><rect fill=\"#FFFFFF\" height=\"40\" id=\"E2\" rx=\"10\" ry=\"10\" style=\"stroke: #383838; stroke-width: 1.5;\" width=\"50\" x=\"32\" y=\"42.5\"/><rect fill=\"#F8F8F8\" height=\"23.9688\" rx=\"10\" ry=\"10\" style=\"stroke: #F8F8F8; stroke-width: 1.5;\" width=\"50\" x=\"32\" y=\"42.5\"/><rect fill=\"#F8F8F8\" height=\"10\" style=\"stroke: #F8F8F8; stroke-width: 1.5;\" width=\"50\" x=\"32\" y=\"56.4688\"/><rect fill=\"none\" height=\"40\" id=\"E2\" rx=\"10\" ry=\"10\" style=\"stroke: #383838; stroke-width: 1.5;\" width=\"50\" x=\"32\" y=\"42.5\"/><text fill=\"#000000\" font-family=\"sans-serif\" font-size=\"12\" lengthAdjust=\"spacingAndGlyphs\" textLength=\"20\" x=\"47\" y=\"58.6387\">f: A</text></a></g><text fill=\"#000000\" font-family=\"sans-serif\" font-size=\"14\" lengthAdjust=\"spacingAndGlyphs\" textLength=\"27\" x=\"569.5\" y=\"41.1982\">c: C</text><rect fill=\"#383838\" height=\"12\" style=\"stroke: #F8F8F8; stroke-width: 1.5;\" width=\"12\" x=\"579\" y=\"56.5\"/><!--MD5=[60a26617385b1d2d0262a64233df1f8d]\n",
       "class E6--><a href=\"psysml:445f494e-a94c-4fdf-9cc7-f31ccfeaa97f\" target=\"_top\" title=\"psysml:445f494e-a94c-4fdf-9cc7-f31ccfeaa97f\" xlink:actuate=\"onRequest\" xlink:href=\"psysml:445f494e-a94c-4fdf-9cc7-f31ccfeaa97f\" xlink:show=\"new\" xlink:title=\"psysml:445f494e-a94c-4fdf-9cc7-f31ccfeaa97f\" xlink:type=\"simple\"><rect fill=\"#FFFFFF\" height=\"45.9375\" id=\"E6\" rx=\"10\" ry=\"10\" style=\"stroke: #383838; stroke-width: 1.5;\" width=\"71\" x=\"433.5\" y=\"159.5\"/><text fill=\"#000000\" font-family=\"sans-serif\" font-size=\"12\" font-style=\"italic\" lengthAdjust=\"spacingAndGlyphs\" textLength=\"69\" x=\"434.5\" y=\"175.6387\">«attribute»</text><text fill=\"#000000\" font-family=\"sans-serif\" font-size=\"12\" lengthAdjust=\"spacingAndGlyphs\" textLength=\"6\" x=\"464\" y=\"189.6074\">x</text><line style=\"stroke: #383838; stroke-width: 1.5;\" x1=\"434.5\" x2=\"503.5\" y1=\"197.4375\" y2=\"197.4375\"/></a><!--MD5=[2156ba9850f5573cc1fc38a6a4b2f02b]\n",
       "class E7--><a href=\"psysml:83189ed0-8892-41b6-b657-b7e16a6a2eeb\" target=\"_top\" title=\"psysml:83189ed0-8892-41b6-b657-b7e16a6a2eeb\" xlink:actuate=\"onRequest\" xlink:href=\"psysml:83189ed0-8892-41b6-b657-b7e16a6a2eeb\" xlink:show=\"new\" xlink:title=\"psysml:83189ed0-8892-41b6-b657-b7e16a6a2eeb\" xlink:type=\"simple\"><rect fill=\"#FFFFFF\" height=\"45.9375\" id=\"E7\" rx=\"10\" ry=\"10\" style=\"stroke: #383838; stroke-width: 1.5;\" width=\"71\" x=\"433.5\" y=\"100\"/><text fill=\"#000000\" font-family=\"sans-serif\" font-size=\"12\" font-style=\"italic\" lengthAdjust=\"spacingAndGlyphs\" textLength=\"69\" x=\"434.5\" y=\"116.1387\">«attribute»</text><text fill=\"#000000\" font-family=\"sans-serif\" font-size=\"12\" lengthAdjust=\"spacingAndGlyphs\" textLength=\"50\" x=\"444\" y=\"130.1074\">y :&gt; A::x</text><line style=\"stroke: #383838; stroke-width: 1.5;\" x1=\"434.5\" x2=\"503.5\" y1=\"137.9375\" y2=\"137.9375\"/></a><g id=\"E1.E3.E4\"><a href=\"psysml:23a90af0-4107-4bf0-84ea-ac7115753c4e\" target=\"_top\" title=\"psysml:23a90af0-4107-4bf0-84ea-ac7115753c4e\" xlink:actuate=\"onRequest\" xlink:href=\"psysml:23a90af0-4107-4bf0-84ea-ac7115753c4e\" xlink:show=\"new\" xlink:title=\"psysml:23a90af0-4107-4bf0-84ea-ac7115753c4e\" xlink:type=\"simple\"><rect fill=\"#FFFFFF\" height=\"40\" id=\"E4\" rx=\"10\" ry=\"10\" style=\"stroke: #383838; stroke-width: 1.5;\" width=\"50\" x=\"560\" y=\"162.5\"/><rect fill=\"#F8F8F8\" height=\"23.9688\" rx=\"10\" ry=\"10\" style=\"stroke: #F8F8F8; stroke-width: 1.5;\" width=\"50\" x=\"560\" y=\"162.5\"/><rect fill=\"#F8F8F8\" height=\"10\" style=\"stroke: #F8F8F8; stroke-width: 1.5;\" width=\"50\" x=\"560\" y=\"176.4688\"/><rect fill=\"none\" height=\"40\" id=\"E4\" rx=\"10\" ry=\"10\" style=\"stroke: #383838; stroke-width: 1.5;\" width=\"50\" x=\"560\" y=\"162.5\"/><text fill=\"#000000\" font-family=\"sans-serif\" font-size=\"12\" lengthAdjust=\"spacingAndGlyphs\" textLength=\"24\" x=\"573\" y=\"178.6387\">b: B</text></a></g><text fill=\"#000000\" font-family=\"sans-serif\" font-size=\"14\" lengthAdjust=\"spacingAndGlyphs\" textLength=\"38\" x=\"326\" y=\"41.1982\">x: ~C</text><rect fill=\"#383838\" height=\"12\" style=\"stroke: #F8F8F8; stroke-width: 1.5;\" width=\"12\" x=\"341\" y=\"56.5\"/><g id=\"E1.E8.E9\"><a href=\"psysml:4ea01713-b83a-4578-95eb-e0c0377cf261\" target=\"_top\" title=\"psysml:4ea01713-b83a-4578-95eb-e0c0377cf261\" xlink:actuate=\"onRequest\" xlink:href=\"psysml:4ea01713-b83a-4578-95eb-e0c0377cf261\" xlink:show=\"new\" xlink:title=\"psysml:4ea01713-b83a-4578-95eb-e0c0377cf261\" xlink:type=\"simple\"><rect fill=\"#FFFFFF\" height=\"40\" id=\"E9\" rx=\"10\" ry=\"10\" style=\"stroke: #383838; stroke-width: 1.5;\" width=\"50\" x=\"216\" y=\"103\"/><rect fill=\"#F8F8F8\" height=\"23.9688\" rx=\"10\" ry=\"10\" style=\"stroke: #F8F8F8; stroke-width: 1.5;\" width=\"50\" x=\"216\" y=\"103\"/><rect fill=\"#F8F8F8\" height=\"10\" style=\"stroke: #F8F8F8; stroke-width: 1.5;\" width=\"50\" x=\"216\" y=\"116.9688\"/><rect fill=\"none\" height=\"40\" id=\"E9\" rx=\"10\" ry=\"10\" style=\"stroke: #383838; stroke-width: 1.5;\" width=\"50\" x=\"216\" y=\"103\"/><text fill=\"#000000\" font-family=\"sans-serif\" font-size=\"12\" lengthAdjust=\"spacingAndGlyphs\" textLength=\"24\" x=\"229\" y=\"119.1387\">a: A</text></a></g><a href=\"psysml:78dea323-2f70-496c-aa91-db5f05f12a10\" target=\"_top\" title=\"psysml:78dea323-2f70-496c-aa91-db5f05f12a10\" xlink:actuate=\"onRequest\" xlink:href=\"psysml:78dea323-2f70-496c-aa91-db5f05f12a10\" xlink:show=\"new\" xlink:title=\"psysml:78dea323-2f70-496c-aa91-db5f05f12a10\" xlink:type=\"simple\"><polygon fill=\"#FFFFFF\" points=\"332.5,156,347.5,156,354.5,178.2969,361.5,178.2969,361.5,208.5938,332.5,208.5938,332.5,156\" style=\"stroke: #000000; stroke-width: 1.5;\"/><line style=\"stroke: #000000; stroke-width: 1.5;\" x1=\"332.5\" x2=\"354.5\" y1=\"178.2969\" y2=\"178.2969\"/><text fill=\"#000000\" font-family=\"sans-serif\" font-size=\"14\" font-weight=\"bold\" lengthAdjust=\"spacingAndGlyphs\" textLength=\"9\" x=\"336.5\" y=\"170.9951\">P</text></a><!--MD5=[fbb449814971db3a0b8220cf225b9e01]\n",
       "link E7 to E6--><a href=\"psysml:2104b8b7-83c3-4383-b55d-abdf660b6842\" target=\"_top\" title=\"psysml:2104b8b7-83c3-4383-b55d-abdf660b6842\" xlink:actuate=\"onRequest\" xlink:href=\"psysml:2104b8b7-83c3-4383-b55d-abdf660b6842\" xlink:show=\"new\" xlink:title=\"psysml:2104b8b7-83c3-4383-b55d-abdf660b6842\" xlink:type=\"simple\"><path d=\"M469,146.07 C469,146.2 469,146.34 469,146.47 \" fill=\"none\" id=\"E7-&gt;E6\" style=\"stroke: #383838; stroke-width: 1.0;\"/><polygon fill=\"none\" points=\"476,139.21,469,159.21,462,139.21,476,139.21\" style=\"stroke: #383838; stroke-width: 1.0;\"/></a><!--MD5=[efa20d54edbd9b09de4bd5add49d1b19]\n",
       "@startuml\r\n",
       "skinparam ranksep 10\r\n",
       "skinparam rectangle {\r\n",
       " backgroundColor<<block>> LightGreen\r\n",
       "}\r\n",
       "skinparam linetype polyline\r\n",
       "skinparam monochrome true\r\n",
       "skinparam classbackgroundcolor white\r\n",
       "skinparam shadowing false\r\n",
       "skinparam wrapWidth 300\r\n",
       "hide circle\r\n",
       "\r\n",
       "package \"PartTest\" as E1  [[psysml:c38775ed-c195-45a3-878f-69446059ff99 ]]  {\r\n",
       "rec usage \"f: A\" as E2  [[psysml:133b9857-5562-4f09-a022-80109f8d4a7d ]] {\r\n",
       "}\r\n",
       "rec def \"A\" as E3  <<(T,blue) part  def>> [[psysml:41a43e73-47d4-427d-aa17-f57a90b2778c ]] {\r\n",
       "rec usage \"b: B\" as E4  [[psysml:23a90af0-4107-4bf0-84ea-ac7115753c4e ]] {\r\n",
       "}\r\n",
       "portin \"c: C \" as E5  <<(T,blue) port>> [[psysml:3bde4e3d-0323-4342-8ecc-6f2c3dab5224 ]] \r\n",
       "comp usage \"x \" as E6  <<(T,blue) attribute>> [[psysml:445f494e-a94c-4fdf-9cc7-f31ccfeaa97f ]] {\r\n",
       "}\r\n",
       "comp usage \"y :> A::x\" as E7  <<(T,blue) attribute>> [[psysml:83189ed0-8892-41b6-b657-b7e16a6a2eeb ]] {\r\n",
       "}\r\n",
       "}\r\n",
       "rec def \"<i>B</i>\" as E8  <<(T,blue) part  def>> [[psysml:c17c630d-59e9-4f7e-a520-276041a9c800 ]] {\r\n",
       "rec usage \"a: A\" as E9  [[psysml:4ea01713-b83a-4578-95eb-e0c0377cf261 ]] {\r\n",
       "}\r\n",
       "portin \"x: ~C \" as E10  <<(T,blue) port>> [[psysml:c9f90055-486d-4326-9691-bfe47f710c68 ]] \r\n",
       "package \"P\" as E11  [[psysml:78dea323-2f70-496c-aa91-db5f05f12a10 ]]  {\r\n",
       "}\r\n",
       "}\r\n",
       "def \"C\" as E12  <<(T,blue) port  def>> [[psysml:e209a1f3-de72-4850-a45f-7036acf7c094 ]] \r\n",
       "}\r\n",
       "E7 - -|> E6 [[psysml:2104b8b7-83c3-4383-b55d-abdf660b6842 ]] \r\n",
       "@enduml\r\n",
       "\n",
       "PlantUML version 1.2020.13(Sat Jun 13 12:26:38 UTC 2020)\n",
       "(EPL source distribution)\n",
       "Java Runtime: OpenJDK Runtime Environment\n",
       "JVM: OpenJDK 64-Bit Server VM\n",
       "Default Encoding: UTF-8\n",
       "Language: en\n",
       "Country: null\n",
       "--></g></svg>"
      ]
     },
     "execution_count": 12,
     "metadata": {},
     "output_type": "execute_result"
    }
   ],
   "source": [
    "%viz --style=\"POLYLINE\" --view=\"Interconnection\" \"PartTest\""
   ]
  },
  {
   "cell_type": "code",
   "execution_count": 13,
   "id": "a9d4fe4b",
   "metadata": {
    "execution": {
     "iopub.execute_input": "2022-02-05T16:55:43.071332Z",
     "iopub.status.busy": "2022-02-05T16:55:43.070866Z",
     "iopub.status.idle": "2022-02-05T16:55:43.075935Z",
     "shell.execute_reply": "2022-02-05T16:55:43.076250Z"
    }
   },
   "outputs": [
    {
     "data": {
      "image/svg+xml": [
       "<?xml version=\"1.0\" encoding=\"UTF-8\" standalone=\"no\"?><svg xmlns=\"http://www.w3.org/2000/svg\" xmlns:xlink=\"http://www.w3.org/1999/xlink\" contentScriptType=\"application/ecmascript\" contentStyleType=\"text/css\" height=\"12px\" preserveAspectRatio=\"none\" style=\"width:12px;height:12px;\" version=\"1.1\" viewBox=\"0 0 12 12\" width=\"12px\" zoomAndPan=\"magnify\"><defs/><g><!--MD5=[97bbf32f66ccd50cbc40d92ea8f5a65e]\n",
       "@startuml\r\n",
       "skinparam ranksep 8\r\n",
       "skinparam linetype polyline\r\n",
       "skinparam monochrome true\r\n",
       "skinparam classbackgroundcolor white\r\n",
       "skinparam shadowing false\r\n",
       "skinparam wrapWidth 300\r\n",
       "hide circle\r\n",
       "\r\n",
       "@enduml\r\n",
       "\n",
       "PlantUML version 1.2020.13(Sat Jun 13 12:26:38 UTC 2020)\n",
       "(EPL source distribution)\n",
       "Java Runtime: OpenJDK Runtime Environment\n",
       "JVM: OpenJDK 64-Bit Server VM\n",
       "Default Encoding: UTF-8\n",
       "Language: en\n",
       "Country: null\n",
       "--></g></svg>"
      ]
     },
     "execution_count": 13,
     "metadata": {},
     "output_type": "execute_result"
    }
   ],
   "source": [
    "%viz --style=\"POLYLINE\" --view=\"Action\" \"PartTest\""
   ]
  },
  {
   "cell_type": "code",
   "execution_count": 14,
   "id": "f3554d16",
   "metadata": {
    "execution": {
     "iopub.execute_input": "2022-02-05T16:55:43.126417Z",
     "iopub.status.busy": "2022-02-05T16:55:43.126002Z",
     "iopub.status.idle": "2022-02-05T16:55:43.131293Z",
     "shell.execute_reply": "2022-02-05T16:55:43.131615Z"
    }
   },
   "outputs": [
    {
     "data": {
      "image/svg+xml": [
       "<?xml version=\"1.0\" encoding=\"UTF-8\" standalone=\"no\"?><svg xmlns=\"http://www.w3.org/2000/svg\" xmlns:xlink=\"http://www.w3.org/1999/xlink\" contentScriptType=\"application/ecmascript\" contentStyleType=\"text/css\" height=\"12px\" preserveAspectRatio=\"none\" style=\"width:12px;height:12px;\" version=\"1.1\" viewBox=\"0 0 12 12\" width=\"12px\" zoomAndPan=\"magnify\"><defs/><g><!--MD5=[dc938048236c351797870c36b62f92ad]\n",
       "@startuml\r\n",
       "skinparam roundcorner 20\r\n",
       "skinparam BoxPadding 20\r\n",
       "skinparam SequenceBoxBackgroundColor #white\r\n",
       "skinparam style strictuml\r\n",
       "skinparam maxMessageSize 100\r\n",
       "skinparam linetype polyline\r\n",
       "skinparam monochrome true\r\n",
       "skinparam classbackgroundcolor white\r\n",
       "skinparam shadowing false\r\n",
       "skinparam wrapWidth 300\r\n",
       "hide circle\r\n",
       "\r\n",
       "@enduml\r\n",
       "\n",
       "PlantUML version 1.2020.13(Sat Jun 13 12:26:38 UTC 2020)\n",
       "(EPL source distribution)\n",
       "Java Runtime: OpenJDK Runtime Environment\n",
       "JVM: OpenJDK 64-Bit Server VM\n",
       "Default Encoding: UTF-8\n",
       "Language: en\n",
       "Country: null\n",
       "--></g></svg>"
      ]
     },
     "execution_count": 14,
     "metadata": {},
     "output_type": "execute_result"
    }
   ],
   "source": [
    "%viz --style=\"POLYLINE\" --view=\"Sequence\" \"PartTest\""
   ]
  },
  {
   "cell_type": "code",
   "execution_count": 15,
   "id": "8151cafe",
   "metadata": {
    "execution": {
     "iopub.execute_input": "2022-02-05T16:55:43.181841Z",
     "iopub.status.busy": "2022-02-05T16:55:43.181406Z",
     "iopub.status.idle": "2022-02-05T16:55:43.253511Z",
     "shell.execute_reply": "2022-02-05T16:55:43.253122Z"
    }
   },
   "outputs": [
    {
     "data": {
      "image/svg+xml": [
       "<?xml version=\"1.0\" encoding=\"UTF-8\" standalone=\"no\"?><svg xmlns=\"http://www.w3.org/2000/svg\" xmlns:xlink=\"http://www.w3.org/1999/xlink\" contentScriptType=\"application/ecmascript\" contentStyleType=\"text/css\" height=\"760px\" preserveAspectRatio=\"none\" style=\"width:423px;height:760px;\" version=\"1.1\" viewBox=\"0 0 423 760\" width=\"423px\" zoomAndPan=\"magnify\"><defs/><g><!--MD5=[fbc87193dbaf4d95561dea2c320d4a47]\n",
       "cluster E1--><a href=\"psysml:c38775ed-c195-45a3-878f-69446059ff99\" target=\"_top\" title=\"psysml:c38775ed-c195-45a3-878f-69446059ff99\" xlink:actuate=\"onRequest\" xlink:href=\"psysml:c38775ed-c195-45a3-878f-69446059ff99\" xlink:show=\"new\" xlink:title=\"psysml:c38775ed-c195-45a3-878f-69446059ff99\" xlink:type=\"simple\"><polygon fill=\"#FFFFFF\" points=\"16,6,80,6,87,28.2969,401,28.2969,401,748,16,748,16,6\" style=\"stroke: #000000; stroke-width: 1.5;\"/><line style=\"stroke: #000000; stroke-width: 1.5;\" x1=\"16\" x2=\"87\" y1=\"28.2969\" y2=\"28.2969\"/><text fill=\"#000000\" font-family=\"sans-serif\" font-size=\"14\" font-weight=\"bold\" lengthAdjust=\"spacingAndGlyphs\" textLength=\"58\" x=\"20\" y=\"20.9951\">PartTest</text></a><!--MD5=[b4997ac47864f28c2f74865a473b2911]\n",
       "class E2--><a href=\"psysml:133b9857-5562-4f09-a022-80109f8d4a7d\" target=\"_top\" title=\"psysml:133b9857-5562-4f09-a022-80109f8d4a7d\" xlink:actuate=\"onRequest\" xlink:href=\"psysml:133b9857-5562-4f09-a022-80109f8d4a7d\" xlink:show=\"new\" xlink:title=\"psysml:133b9857-5562-4f09-a022-80109f8d4a7d\" xlink:type=\"simple\"><rect fill=\"#FFFFFF\" height=\"45.9375\" id=\"E2\" rx=\"10\" ry=\"10\" style=\"stroke: #383838; stroke-width: 1.5;\" width=\"42\" x=\"201\" y=\"41\"/><text fill=\"#000000\" font-family=\"sans-serif\" font-size=\"12\" font-style=\"italic\" lengthAdjust=\"spacingAndGlyphs\" textLength=\"40\" x=\"202\" y=\"57.1387\">«part»</text><text fill=\"#000000\" font-family=\"sans-serif\" font-size=\"12\" lengthAdjust=\"spacingAndGlyphs\" textLength=\"20\" x=\"210\" y=\"71.1074\">f: A</text><line style=\"stroke: #383838; stroke-width: 1.5;\" x1=\"202\" x2=\"242\" y1=\"78.9375\" y2=\"78.9375\"/></a><!--MD5=[09b614a08d8cba4a07c9adeb5e0fee81]\n",
       "class E3--><a href=\"psysml:41a43e73-47d4-427d-aa17-f57a90b2778c\" target=\"_top\" title=\"psysml:41a43e73-47d4-427d-aa17-f57a90b2778c\" xlink:actuate=\"onRequest\" xlink:href=\"psysml:41a43e73-47d4-427d-aa17-f57a90b2778c\" xlink:show=\"new\" xlink:title=\"psysml:41a43e73-47d4-427d-aa17-f57a90b2778c\" xlink:type=\"simple\"><rect fill=\"#FFFFFF\" height=\"88.3516\" id=\"E3\" style=\"stroke: #383838; stroke-width: 1.5;\" width=\"70\" x=\"187\" y=\"148\"/><text fill=\"#000000\" font-family=\"sans-serif\" font-size=\"12\" font-style=\"italic\" lengthAdjust=\"spacingAndGlyphs\" textLength=\"68\" x=\"188\" y=\"164.1387\">«part  def»</text><text fill=\"#000000\" font-family=\"sans-serif\" font-size=\"12\" lengthAdjust=\"spacingAndGlyphs\" textLength=\"8\" x=\"218\" y=\"178.1074\">A</text><line style=\"stroke: #383838; stroke-width: 1.5;\" x1=\"188\" x2=\"256\" y1=\"185.9375\" y2=\"185.9375\"/><text fill=\"#000000\" font-family=\"sans-serif\" font-size=\"11\" lengthAdjust=\"spacingAndGlyphs\" textLength=\"6\" x=\"193\" y=\"216.9526\">x</text><text fill=\"#000000\" font-family=\"sans-serif\" font-size=\"11\" lengthAdjust=\"spacingAndGlyphs\" textLength=\"44\" x=\"193\" y=\"229.7573\">y:&gt; A::x</text><line style=\"stroke: #383838; stroke-width: 1.0;\" x1=\"188\" x2=\"194.5\" y1=\"200.3398\" y2=\"200.3398\"/><text fill=\"#000000\" font-family=\"sans-serif\" font-size=\"11\" lengthAdjust=\"spacingAndGlyphs\" textLength=\"55\" x=\"194.5\" y=\"203.6479\">attributes</text><line style=\"stroke: #383838; stroke-width: 1.0;\" x1=\"249.5\" x2=\"256\" y1=\"200.3398\" y2=\"200.3398\"/></a><!--MD5=[ebbe1d658d1005bcc118a6aa81145e00]\n",
       "class E4--><a href=\"psysml:23a90af0-4107-4bf0-84ea-ac7115753c4e\" target=\"_top\" title=\"psysml:23a90af0-4107-4bf0-84ea-ac7115753c4e\" xlink:actuate=\"onRequest\" xlink:href=\"psysml:23a90af0-4107-4bf0-84ea-ac7115753c4e\" xlink:show=\"new\" xlink:title=\"psysml:23a90af0-4107-4bf0-84ea-ac7115753c4e\" xlink:type=\"simple\"><rect fill=\"#FFFFFF\" height=\"45.9375\" id=\"E4\" rx=\"10\" ry=\"10\" style=\"stroke: #383838; stroke-width: 1.5;\" width=\"42\" x=\"323\" y=\"373\"/><text fill=\"#000000\" font-family=\"sans-serif\" font-size=\"12\" font-style=\"italic\" lengthAdjust=\"spacingAndGlyphs\" textLength=\"40\" x=\"324\" y=\"389.1387\">«part»</text><text fill=\"#000000\" font-family=\"sans-serif\" font-size=\"12\" lengthAdjust=\"spacingAndGlyphs\" textLength=\"24\" x=\"330\" y=\"403.1074\">b: B</text><line style=\"stroke: #383838; stroke-width: 1.5;\" x1=\"324\" x2=\"364\" y1=\"410.9375\" y2=\"410.9375\"/></a><!--MD5=[270fce915f116d4de14055a7c1d9a0f3]\n",
       "class E5--><a href=\"psysml:3bde4e3d-0323-4342-8ecc-6f2c3dab5224\" target=\"_top\" title=\"psysml:3bde4e3d-0323-4342-8ecc-6f2c3dab5224\" xlink:actuate=\"onRequest\" xlink:href=\"psysml:3bde4e3d-0323-4342-8ecc-6f2c3dab5224\" xlink:show=\"new\" xlink:title=\"psysml:3bde4e3d-0323-4342-8ecc-6f2c3dab5224\" xlink:type=\"simple\"><rect fill=\"#FFFFFF\" height=\"45.9375\" id=\"E5\" rx=\"10\" ry=\"10\" style=\"stroke: #383838; stroke-width: 1.5;\" width=\"42\" x=\"306\" y=\"297\"/><text fill=\"#000000\" font-family=\"sans-serif\" font-size=\"12\" font-style=\"italic\" lengthAdjust=\"spacingAndGlyphs\" textLength=\"40\" x=\"307\" y=\"313.1387\">«port»</text><text fill=\"#000000\" font-family=\"sans-serif\" font-size=\"12\" lengthAdjust=\"spacingAndGlyphs\" textLength=\"23\" x=\"313.5\" y=\"327.1074\">c: C</text><line style=\"stroke: #383838; stroke-width: 1.5;\" x1=\"307\" x2=\"347\" y1=\"334.9375\" y2=\"334.9375\"/></a><!--MD5=[60a26617385b1d2d0262a64233df1f8d]\n",
       "class E6--><a href=\"psysml:c17c630d-59e9-4f7e-a520-276041a9c800\" target=\"_top\" title=\"psysml:c17c630d-59e9-4f7e-a520-276041a9c800\" xlink:actuate=\"onRequest\" xlink:href=\"psysml:c17c630d-59e9-4f7e-a520-276041a9c800\" xlink:show=\"new\" xlink:title=\"psysml:c17c630d-59e9-4f7e-a520-276041a9c800\" xlink:type=\"simple\"><rect fill=\"#FFFFFF\" height=\"45.9375\" id=\"E6\" style=\"stroke: #383838; stroke-width: 1.5;\" width=\"70\" x=\"190\" y=\"572\"/><text fill=\"#000000\" font-family=\"sans-serif\" font-size=\"12\" font-style=\"italic\" lengthAdjust=\"spacingAndGlyphs\" textLength=\"68\" x=\"191\" y=\"588.1387\">«part  def»</text><text fill=\"#000000\" font-family=\"sans-serif\" font-size=\"12\" font-style=\"italic\" lengthAdjust=\"spacingAndGlyphs\" textLength=\"8\" x=\"221\" y=\"602.1074\">B</text><line style=\"stroke: #383838; stroke-width: 1.5;\" x1=\"191\" x2=\"259\" y1=\"609.9375\" y2=\"609.9375\"/></a><!--MD5=[2156ba9850f5573cc1fc38a6a4b2f02b]\n",
       "class E7--><a href=\"psysml:4ea01713-b83a-4578-95eb-e0c0377cf261\" target=\"_top\" title=\"psysml:4ea01713-b83a-4578-95eb-e0c0377cf261\" xlink:actuate=\"onRequest\" xlink:href=\"psysml:4ea01713-b83a-4578-95eb-e0c0377cf261\" xlink:show=\"new\" xlink:title=\"psysml:4ea01713-b83a-4578-95eb-e0c0377cf261\" xlink:type=\"simple\"><rect fill=\"#FFFFFF\" height=\"45.9375\" id=\"E7\" rx=\"10\" ry=\"10\" style=\"stroke: #383838; stroke-width: 1.5;\" width=\"42\" x=\"68\" y=\"682.5\"/><text fill=\"#000000\" font-family=\"sans-serif\" font-size=\"12\" font-style=\"italic\" lengthAdjust=\"spacingAndGlyphs\" textLength=\"40\" x=\"69\" y=\"698.6387\">«part»</text><text fill=\"#000000\" font-family=\"sans-serif\" font-size=\"12\" font-style=\"italic\" lengthAdjust=\"spacingAndGlyphs\" textLength=\"8\" x=\"75\" y=\"712.6074\">a</text><text fill=\"#000000\" font-family=\"sans-serif\" font-size=\"12\" lengthAdjust=\"spacingAndGlyphs\" textLength=\"16\" x=\"83\" y=\"712.6074\">: A</text><line style=\"stroke: #383838; stroke-width: 1.5;\" x1=\"69\" x2=\"109\" y1=\"720.4375\" y2=\"720.4375\"/></a><!--MD5=[b9389687b975829384b498ac4b7476b2]\n",
       "class E8--><a href=\"psysml:c9f90055-486d-4326-9691-bfe47f710c68\" target=\"_top\" title=\"psysml:c9f90055-486d-4326-9691-bfe47f710c68\" xlink:actuate=\"onRequest\" xlink:href=\"psysml:c9f90055-486d-4326-9691-bfe47f710c68\" xlink:show=\"new\" xlink:title=\"psysml:c9f90055-486d-4326-9691-bfe47f710c68\" xlink:type=\"simple\"><rect fill=\"#FFFFFF\" height=\"45.9375\" id=\"E8\" rx=\"10\" ry=\"10\" style=\"stroke: #383838; stroke-width: 1.5;\" width=\"42\" x=\"228\" y=\"682.5\"/><text fill=\"#000000\" font-family=\"sans-serif\" font-size=\"12\" font-style=\"italic\" lengthAdjust=\"spacingAndGlyphs\" textLength=\"40\" x=\"229\" y=\"698.6387\">«port»</text><text fill=\"#000000\" font-family=\"sans-serif\" font-size=\"12\" lengthAdjust=\"spacingAndGlyphs\" textLength=\"32\" x=\"231\" y=\"712.6074\">x: ~C</text><line style=\"stroke: #383838; stroke-width: 1.5;\" x1=\"229\" x2=\"269\" y1=\"720.4375\" y2=\"720.4375\"/></a><!--MD5=[96f4274e9e20536e775497830990834d]\n",
       "class E10--><a href=\"psysml:e209a1f3-de72-4850-a45f-7036acf7c094\" target=\"_top\" title=\"psysml:e209a1f3-de72-4850-a45f-7036acf7c094\" xlink:actuate=\"onRequest\" xlink:href=\"psysml:e209a1f3-de72-4850-a45f-7036acf7c094\" xlink:show=\"new\" xlink:title=\"psysml:e209a1f3-de72-4850-a45f-7036acf7c094\" xlink:type=\"simple\"><rect fill=\"#FFFFFF\" height=\"45.9375\" id=\"E10\" style=\"stroke: #383838; stroke-width: 1.5;\" width=\"70\" x=\"190\" y=\"449\"/><text fill=\"#000000\" font-family=\"sans-serif\" font-size=\"12\" font-style=\"italic\" lengthAdjust=\"spacingAndGlyphs\" textLength=\"68\" x=\"191\" y=\"465.1387\">«port  def»</text><text fill=\"#000000\" font-family=\"sans-serif\" font-size=\"12\" lengthAdjust=\"spacingAndGlyphs\" textLength=\"8\" x=\"221\" y=\"479.1074\">C</text><line style=\"stroke: #383838; stroke-width: 1.5;\" x1=\"191\" x2=\"259\" y1=\"486.9375\" y2=\"486.9375\"/></a><a href=\"psysml:78dea323-2f70-496c-aa91-db5f05f12a10\" target=\"_top\" title=\"psysml:78dea323-2f70-496c-aa91-db5f05f12a10\" xlink:actuate=\"onRequest\" xlink:href=\"psysml:78dea323-2f70-496c-aa91-db5f05f12a10\" xlink:show=\"new\" xlink:title=\"psysml:78dea323-2f70-496c-aa91-db5f05f12a10\" xlink:type=\"simple\"><polygon fill=\"#FFFFFF\" points=\"163.5,679,178.5,679,185.5,701.2969,192.5,701.2969,192.5,731.5938,163.5,731.5938,163.5,679\" style=\"stroke: #000000; stroke-width: 1.5;\"/><line style=\"stroke: #000000; stroke-width: 1.5;\" x1=\"163.5\" x2=\"185.5\" y1=\"701.2969\" y2=\"701.2969\"/><text fill=\"#000000\" font-family=\"sans-serif\" font-size=\"14\" font-weight=\"bold\" lengthAdjust=\"spacingAndGlyphs\" textLength=\"9\" x=\"167.5\" y=\"693.9951\">P</text></a><!--MD5=[2720a5a1f2c3fca2055b230370638851]\n",
       "link E2 to E3--><a href=\"psysml:de99b855-827b-4779-9c99-7b4326eef43f\" target=\"_top\" title=\"psysml:de99b855-827b-4779-9c99-7b4326eef43f\" xlink:actuate=\"onRequest\" xlink:href=\"psysml:de99b855-827b-4779-9c99-7b4326eef43f\" xlink:show=\"new\" xlink:title=\"psysml:de99b855-827b-4779-9c99-7b4326eef43f\" xlink:type=\"simple\"><path d=\"M222,87.24 C222,98.62 222,113.11 222,127.62 \" fill=\"none\" id=\"E2-&gt;E3\" style=\"stroke: #383838; stroke-width: 1.0;\"/><polygon fill=\"#FFFFFF\" points=\"222,147.84,215,128.84,229,128.84,222,147.84\" style=\"stroke: #383838; stroke-width: 1.0;\"/><ellipse cx=\"217\" cy=\"123.14\" fill=\"#383838\" rx=\"2\" ry=\"2\" style=\"stroke: #383838; stroke-width: 1.0;\"/><ellipse cx=\"227\" cy=\"123.14\" fill=\"#383838\" rx=\"2\" ry=\"2\" style=\"stroke: #383838; stroke-width: 1.0;\"/></a><!--MD5=[4672eba38e49728da53d11aeb285b987]\n",
       "reverse link E3 to E4--><a href=\"psysml:7d143534-3389-4013-881e-42b16664757f\" target=\"_top\" title=\"psysml:7d143534-3389-4013-881e-42b16664757f\" xlink:actuate=\"onRequest\" xlink:href=\"psysml:7d143534-3389-4013-881e-42b16664757f\" xlink:show=\"new\" xlink:title=\"psysml:7d143534-3389-4013-881e-42b16664757f\" xlink:type=\"simple\"><path d=\"M267.87,226.13 C310.03,256.57 366,297 366,297 C366,297 366,343 366,343 C366,343 359.33,358.77 353.33,372.95 \" fill=\"none\" id=\"E3&lt;-E4\" style=\"stroke: #383838; stroke-width: 1.0;\"/><polygon fill=\"#383838\" points=\"257.23,218.44,259.7521,225.1957,266.9582,225.4659,264.436,218.7102,257.23,218.44\" style=\"stroke: #383838; stroke-width: 1.0;\"/><text fill=\"#000000\" font-family=\"sans-serif\" font-size=\"13\" lengthAdjust=\"spacingAndGlyphs\" textLength=\"8\" x=\"347.5421\" y=\"363.0588\">1</text></a><!--MD5=[191cde3d490a3f6d7bb551fe3ddca469]\n",
       "reverse link E3 to E5--><a href=\"psysml:01061be5-5fdc-439c-afe5-881fb8746c83\" target=\"_top\" title=\"psysml:01061be5-5fdc-439c-afe5-881fb8746c83\" xlink:actuate=\"onRequest\" xlink:href=\"psysml:01061be5-5fdc-439c-afe5-881fb8746c83\" xlink:show=\"new\" xlink:title=\"psysml:01061be5-5fdc-439c-afe5-881fb8746c83\" xlink:type=\"simple\"><path d=\"M265.68,245.41 C280.65,263.38 296.6,282.52 308.48,296.78 \" fill=\"none\" id=\"E3&lt;-E5\" style=\"stroke: #383838; stroke-width: 1.0;\"/><polygon fill=\"#FFFFFF\" points=\"257.26,235.31,258.0312,242.4797,264.9461,244.5254,264.1749,237.3557,257.26,235.31\" style=\"stroke: #383838; stroke-width: 1.0;\"/><text fill=\"#000000\" font-family=\"sans-serif\" font-size=\"13\" lengthAdjust=\"spacingAndGlyphs\" textLength=\"8\" x=\"294.7093\" y=\"285.9999\">1</text></a><!--MD5=[79568f1e445c3877b6a54524624ccc7d]\n",
       "link E4 to E6--><a href=\"psysml:8d11eaae-af32-434c-8c3d-32f92418f4c8\" target=\"_top\" title=\"psysml:8d11eaae-af32-434c-8c3d-32f92418f4c8\" xlink:actuate=\"onRequest\" xlink:href=\"psysml:8d11eaae-af32-434c-8c3d-32f92418f4c8\" xlink:show=\"new\" xlink:title=\"psysml:8d11eaae-af32-434c-8c3d-32f92418f4c8\" xlink:type=\"simple\"><path d=\"M330.58,419.22 C310.75,452.04 273.34,513.98 248.79,554.62 \" fill=\"none\" id=\"E4-&gt;E6\" style=\"stroke: #383838; stroke-width: 1.0;\"/><polygon fill=\"#FFFFFF\" points=\"238.37,571.87,242.2063,551.9883,254.1882,559.2294,238.37,571.87\" style=\"stroke: #383838; stroke-width: 1.0;\"/><ellipse cx=\"246.8662\" cy=\"548.1444\" fill=\"#383838\" rx=\"2\" ry=\"2\" style=\"stroke: #383838; stroke-width: 1.0;\"/><ellipse cx=\"255.4247\" cy=\"553.3166\" fill=\"#383838\" rx=\"2\" ry=\"2\" style=\"stroke: #383838; stroke-width: 1.0;\"/></a><!--MD5=[3f50a3473f1dfb74d3f76443e03635af]\n",
       "reverse link E6 to E7--><a href=\"psysml:7466bf8a-1e84-4b05-9901-ce46ee446fa5\" target=\"_top\" title=\"psysml:7466bf8a-1e84-4b05-9901-ce46ee446fa5\" xlink:actuate=\"onRequest\" xlink:href=\"psysml:7466bf8a-1e84-4b05-9901-ce46ee446fa5\" xlink:show=\"new\" xlink:title=\"psysml:7466bf8a-1e84-4b05-9901-ce46ee446fa5\" xlink:type=\"simple\"><path d=\"M186.96,626.35 C162.12,646.16 130.61,671.3 110.14,687.64 \" fill=\"none\" id=\"E6&lt;-E7\" style=\"stroke: #383838; stroke-width: 1.0;\"/><polygon fill=\"#383838\" points=\"197.15,618.22,189.9656,618.8398,187.7744,625.7099,194.9589,625.0901,197.15,618.22\" style=\"stroke: #383838; stroke-width: 1.0;\"/><text fill=\"#000000\" font-family=\"sans-serif\" font-size=\"13\" lengthAdjust=\"spacingAndGlyphs\" textLength=\"8\" x=\"118.1534\" y=\"676.6545\">1</text></a><!--MD5=[14ccda38c055a5c0da953d572bc50960]\n",
       "link E7 to E3--><a href=\"psysml:3c280f0c-0d5e-48e6-b009-cbd7db9e9beb\" target=\"_top\" title=\"psysml:3c280f0c-0d5e-48e6-b009-cbd7db9e9beb\" xlink:actuate=\"onRequest\" xlink:href=\"psysml:3c280f0c-0d5e-48e6-b009-cbd7db9e9beb\" xlink:show=\"new\" xlink:title=\"psysml:3c280f0c-0d5e-48e6-b009-cbd7db9e9beb\" xlink:type=\"simple\"><path d=\"M77.53,682.28 C61.15,650.54 33,596 33,596 C33,319 33,319 33,319 C33,319 114.15,264.9 170.1,227.6 \" fill=\"none\" id=\"E7-&gt;E3\" style=\"stroke: #383838; stroke-width: 1.0;\"/><polygon fill=\"#FFFFFF\" points=\"186.89,216.4,174.9672,232.766,167.1991,221.1189,186.89,216.4\" style=\"stroke: #383838; stroke-width: 1.0;\"/><ellipse cx=\"169.1154\" cy=\"234.2649\" fill=\"#383838\" rx=\"2\" ry=\"2\" style=\"stroke: #383838; stroke-width: 1.0;\"/><ellipse cx=\"163.5667\" cy=\"225.9455\" fill=\"#383838\" rx=\"2\" ry=\"2\" style=\"stroke: #383838; stroke-width: 1.0;\"/></a><!--MD5=[f4cf0736d43fd73c4ef68817c49d37d5]\n",
       "reverse link E6 to E8--><a href=\"psysml:dcb35f57-14cb-4e2c-8543-9245438ead5d\" target=\"_top\" title=\"psysml:dcb35f57-14cb-4e2c-8543-9245438ead5d\" xlink:actuate=\"onRequest\" xlink:href=\"psysml:dcb35f57-14cb-4e2c-8543-9245438ead5d\" xlink:show=\"new\" xlink:title=\"psysml:dcb35f57-14cb-4e2c-8543-9245438ead5d\" xlink:type=\"simple\"><path d=\"M232.74,630.98 C236.47,647.83 240.83,667.54 244.09,682.31 \" fill=\"none\" id=\"E6&lt;-E8\" style=\"stroke: #383838; stroke-width: 1.0;\"/><polygon fill=\"#FFFFFF\" points=\"229.91,618.22,227.2956,624.9405,232.4936,629.9386,235.108,623.2181,229.91,618.22\" style=\"stroke: #383838; stroke-width: 1.0;\"/><text fill=\"#000000\" font-family=\"sans-serif\" font-size=\"13\" lengthAdjust=\"spacingAndGlyphs\" textLength=\"8\" x=\"233.8068\" y=\"671.5376\">1</text></a><!--MD5=[e88d06e5a652d73a6b19930eefe025a8]\n",
       "reverse link E6 to E9--><a href=\"psysml:08766104-19a0-4aca-bf35-b4c81b8c6dcb\" target=\"_top\" title=\"psysml:08766104-19a0-4aca-bf35-b4c81b8c6dcb\" xlink:actuate=\"onRequest\" xlink:href=\"psysml:08766104-19a0-4aca-bf35-b4c81b8c6dcb\" xlink:show=\"new\" xlink:title=\"psysml:08766104-19a0-4aca-bf35-b4c81b8c6dcb\" xlink:type=\"simple\"><path d=\"M209.38,632.06 C202.74,647.39 195.15,664.91 189.1,678.88 \" fill=\"none\" id=\"E6&lt;-E9\" style=\"stroke: #383838; stroke-width: 1.0;\"/><ellipse cx=\"212.2011\" cy=\"625.5613\" fill=\"#FFFFFF\" rx=\"8\" ry=\"8\" style=\"stroke: #383838; stroke-width: 1.0;\"/><line style=\"stroke: #383838; stroke-width: 1.0;\" x1=\"209.0221\" x2=\"215.38\" y1=\"632.9026\" y2=\"618.22\"/><line style=\"stroke: #383838; stroke-width: 1.0;\" x1=\"204.8598\" x2=\"219.5423\" y1=\"622.3823\" y2=\"628.7402\"/></a><!--MD5=[f78a29d5932556fa1060671a2a6507d8]\n",
       "link E5 to E10--><a href=\"psysml:568ef262-b92a-4cba-8a4b-19f4a197db7e\" target=\"_top\" title=\"psysml:568ef262-b92a-4cba-8a4b-19f4a197db7e\" xlink:actuate=\"onRequest\" xlink:href=\"psysml:568ef262-b92a-4cba-8a4b-19f4a197db7e\" xlink:show=\"new\" xlink:title=\"psysml:568ef262-b92a-4cba-8a4b-19f4a197db7e\" xlink:type=\"simple\"><path d=\"M314.29,343.24 C297.77,372.15 271,419 271,419 C271,419 265.27,425.47 257.86,433.85 \" fill=\"none\" id=\"E5-&gt;E10\" style=\"stroke: #383838; stroke-width: 1.0;\"/><polygon fill=\"#FFFFFF\" points=\"244.51,448.95,251.8652,430.0847,262.3466,439.3659,244.51,448.95\" style=\"stroke: #383838; stroke-width: 1.0;\"/><ellipse cx=\"257.1414\" cy=\"427.1432\" fill=\"#383838\" rx=\"2\" ry=\"2\" style=\"stroke: #383838; stroke-width: 1.0;\"/><ellipse cx=\"264.6281\" cy=\"433.7726\" fill=\"#383838\" rx=\"2\" ry=\"2\" style=\"stroke: #383838; stroke-width: 1.0;\"/></a><!--MD5=[8e04057e7b3cbc0dca4fc78ea351e2da]\n",
       "reverse link E10 to E3--><a href=\"psysml:f2bac2b1-68d1-4631-bf1f-fa6cff2f703f\" target=\"_top\" title=\"psysml:f2bac2b1-68d1-4631-bf1f-fa6cff2f703f\" xlink:actuate=\"onRequest\" xlink:href=\"psysml:f2bac2b1-68d1-4631-bf1f-fa6cff2f703f\" xlink:show=\"new\" xlink:title=\"psysml:f2bac2b1-68d1-4631-bf1f-fa6cff2f703f\" xlink:type=\"simple\"><path d=\"M194.2,439.6 C183.44,428.63 174,419 174,419 C174,419 131,343 131,343 C131,343 131,297 131,297 C131,297 161.21,262.47 186.82,233.21 \" fill=\"none\" id=\"E10&lt;-E3\" style=\"stroke: #383838; stroke-width: 1.0;\"/><polygon fill=\"#FFFFFF\" points=\"203.37,448.95,202.0273,441.865,194.9709,440.3794,196.3136,447.4644,203.37,448.95\" style=\"stroke: #383838; stroke-width: 1.0;\"/><text fill=\"#000000\" font-family=\"sans-serif\" font-size=\"13\" lengthAdjust=\"spacingAndGlyphs\" textLength=\"7\" x=\"132\" y=\"324.5669\">y</text></a><!--MD5=[8e04057e7b3cbc0dca4fc78ea351e2da]\n",
       "reverse link E10 to E3--><a href=\"psysml:f2bac2b1-68d1-4631-bf1f-fa6cff2f703f\" target=\"_top\" title=\"psysml:f2bac2b1-68d1-4631-bf1f-fa6cff2f703f\" xlink:actuate=\"onRequest\" xlink:href=\"psysml:f2bac2b1-68d1-4631-bf1f-fa6cff2f703f\" xlink:show=\"new\" xlink:title=\"psysml:f2bac2b1-68d1-4631-bf1f-fa6cff2f703f\" xlink:type=\"simple\"><path d=\"M220.89,435.94 C216.45,398.05 210,343 210,343 C210,343 210,297 210,297 C210,297 213.72,264.78 217.02,236.2 \" fill=\"none\" id=\"E10&lt;-E3-1\" style=\"stroke: #383838; stroke-width: 1.0;\"/><polygon fill=\"#FFFFFF\" points=\"222.42,449,225.694,442.575,221.0225,437.0817,217.7485,443.5067,222.42,449\" style=\"stroke: #383838; stroke-width: 1.0;\"/><text fill=\"#000000\" font-family=\"sans-serif\" font-size=\"13\" lengthAdjust=\"spacingAndGlyphs\" textLength=\"7\" x=\"211\" y=\"324.5669\">y</text></a><!--MD5=[8e04057e7b3cbc0dca4fc78ea351e2da]\n",
       "reverse link E10 to E3--><a href=\"psysml:f2bac2b1-68d1-4631-bf1f-fa6cff2f703f\" target=\"_top\" title=\"psysml:f2bac2b1-68d1-4631-bf1f-fa6cff2f703f\" xlink:actuate=\"onRequest\" xlink:href=\"psysml:f2bac2b1-68d1-4631-bf1f-fa6cff2f703f\" xlink:show=\"new\" xlink:title=\"psysml:f2bac2b1-68d1-4631-bf1f-fa6cff2f703f\" xlink:type=\"simple\"><path d=\"M225,435.68 C225,407.6 225,373 225,373 C225,373 223.61,289.37 222.72,236.11 \" fill=\"none\" id=\"E10&lt;-E3-2\" style=\"stroke: #383838; stroke-width: 1.0;\"/><polygon fill=\"#FFFFFF\" points=\"225,448.76,229,442.76,225,436.76,221,442.76,225,448.76\" style=\"stroke: #383838; stroke-width: 1.0;\"/><text fill=\"#000000\" font-family=\"sans-serif\" font-size=\"13\" lengthAdjust=\"spacingAndGlyphs\" textLength=\"7\" x=\"225\" y=\"324.5669\">y</text></a><!--MD5=[604cbf994c02b74b117f728a71673cea]\n",
       "reverse link E10 to E6--><a href=\"psysml:f2bac2b1-68d1-4631-bf1f-fa6cff2f703f\" target=\"_top\" title=\"psysml:f2bac2b1-68d1-4631-bf1f-fa6cff2f703f\" xlink:actuate=\"onRequest\" xlink:href=\"psysml:f2bac2b1-68d1-4631-bf1f-fa6cff2f703f\" xlink:show=\"new\" xlink:title=\"psysml:f2bac2b1-68d1-4631-bf1f-fa6cff2f703f\" xlink:type=\"simple\"><path d=\"M231.72,507.96 C233.53,517.37 235,525 235,525 C235,525 235,542 235,542 C235,542 231.97,557.77 229.24,571.95 \" fill=\"none\" id=\"E10&lt;-E6\" style=\"stroke: #383838; stroke-width: 1.0;\"/><polygon fill=\"#FFFFFF\" points=\"229.24,495.05,226.447,501.6982,231.5096,506.8334,234.3026,500.1852,229.24,495.05\" style=\"stroke: #383838; stroke-width: 1.0;\"/><text fill=\"#000000\" font-family=\"sans-serif\" font-size=\"13\" lengthAdjust=\"spacingAndGlyphs\" textLength=\"7\" x=\"236\" y=\"538.0669\">y</text></a><!--MD5=[604cbf994c02b74b117f728a71673cea]\n",
       "reverse link E10 to E6--><a href=\"psysml:f2bac2b1-68d1-4631-bf1f-fa6cff2f703f\" target=\"_top\" title=\"psysml:f2bac2b1-68d1-4631-bf1f-fa6cff2f703f\" xlink:actuate=\"onRequest\" xlink:href=\"psysml:f2bac2b1-68d1-4631-bf1f-fa6cff2f703f\" xlink:show=\"new\" xlink:title=\"psysml:f2bac2b1-68d1-4631-bf1f-fa6cff2f703f\" xlink:type=\"simple\"><path d=\"M195.71,504.73 C185.71,515.56 177,525 177,525 C177,525 177,542 177,542 C177,542 191.56,557.77 204.64,571.95 \" fill=\"none\" id=\"E10&lt;-E6-1\" style=\"stroke: #383838; stroke-width: 1.0;\"/><polygon fill=\"#FFFFFF\" points=\"204.64,495.05,197.6318,496.7487,196.5045,503.8712,203.5126,502.1724,204.64,495.05\" style=\"stroke: #383838; stroke-width: 1.0;\"/><text fill=\"#000000\" font-family=\"sans-serif\" font-size=\"13\" lengthAdjust=\"spacingAndGlyphs\" textLength=\"7\" x=\"178\" y=\"538.0669\">y</text></a><!--MD5=[604cbf994c02b74b117f728a71673cea]\n",
       "reverse link E10 to E6--><a href=\"psysml:f2bac2b1-68d1-4631-bf1f-fa6cff2f703f\" target=\"_top\" title=\"psysml:f2bac2b1-68d1-4631-bf1f-fa6cff2f703f\" xlink:actuate=\"onRequest\" xlink:href=\"psysml:f2bac2b1-68d1-4631-bf1f-fa6cff2f703f\" xlink:show=\"new\" xlink:title=\"psysml:f2bac2b1-68d1-4631-bf1f-fa6cff2f703f\" xlink:type=\"simple\"><path d=\"M225,508.22 C225,528.81 225,554.16 225,571.95 \" fill=\"none\" id=\"E10&lt;-E6-2\" style=\"stroke: #383838; stroke-width: 1.0;\"/><polygon fill=\"#FFFFFF\" points=\"225,495.19,221,501.19,225,507.19,229,501.19,225,495.19\" style=\"stroke: #383838; stroke-width: 1.0;\"/><text fill=\"#000000\" font-family=\"sans-serif\" font-size=\"13\" lengthAdjust=\"spacingAndGlyphs\" textLength=\"7\" x=\"226\" y=\"538.0669\">y</text></a><!--MD5=[523b23d2c0861e00c5ef14b4b589ca71]\n",
       "@startuml\r\n",
       "skinparam linetype polyline\r\n",
       "skinparam monochrome true\r\n",
       "skinparam classbackgroundcolor white\r\n",
       "skinparam shadowing false\r\n",
       "skinparam wrapWidth 300\r\n",
       "hide circle\r\n",
       "\r\n",
       "package \"PartTest\" as E1  [[psysml:c38775ed-c195-45a3-878f-69446059ff99 ]]  {\r\n",
       "comp usage \"f: A \" as E2  <<(T,blue) part>> [[psysml:133b9857-5562-4f09-a022-80109f8d4a7d ]] {\r\n",
       "}\r\n",
       "comp def \"A\" as E3  <<(T,blue) part  def>> [[psysml:41a43e73-47d4-427d-aa17-f57a90b2778c ]] {\r\n",
       "- - attributes - -\r\n",
       "x\r\n",
       "y:> A::x\r\n",
       "}\r\n",
       "comp usage \"b: B \" as E4  <<(T,blue) part>> [[psysml:23a90af0-4107-4bf0-84ea-ac7115753c4e ]] {\r\n",
       "}\r\n",
       "comp usage \"c: C \" as E5  <<(T,blue) port>> [[psysml:3bde4e3d-0323-4342-8ecc-6f2c3dab5224 ]] {\r\n",
       "}\r\n",
       "comp def \"<i>B</i>\" as E6  <<(T,blue) part  def>> [[psysml:c17c630d-59e9-4f7e-a520-276041a9c800 ]] {\r\n",
       "}\r\n",
       "comp usage \"<i>a</i>: A \" as E7  <<(T,blue) part>> [[psysml:4ea01713-b83a-4578-95eb-e0c0377cf261 ]] {\r\n",
       "}\r\n",
       "comp usage \"x: ~C \" as E8  <<(T,blue) port>> [[psysml:c9f90055-486d-4326-9691-bfe47f710c68 ]] {\r\n",
       "}\r\n",
       "package \"P\" as E9  [[psysml:78dea323-2f70-496c-aa91-db5f05f12a10 ]]  {\r\n",
       "}\r\n",
       "comp def \"C\" as E10  <<(T,blue) port  def>> [[psysml:e209a1f3-de72-4850-a45f-7036acf7c094 ]] {\r\n",
       "}\r\n",
       "}\r\n",
       "E2 - -:|> E3 [[psysml:de99b855-827b-4779-9c99-7b4326eef43f ]] \r\n",
       "E3 *- - \"1\"E4 [[psysml:7d143534-3389-4013-881e-42b16664757f ]] \r\n",
       "E3 o- - \"1\"E5 [[psysml:01061be5-5fdc-439c-afe5-881fb8746c83 ]] \r\n",
       "E4 - -:|> E6 [[psysml:8d11eaae-af32-434c-8c3d-32f92418f4c8 ]] \r\n",
       "E6 *- - \"1\"E7 [[psysml:7466bf8a-1e84-4b05-9901-ce46ee446fa5 ]] \r\n",
       "E7 - -:|> E3 [[psysml:3c280f0c-0d5e-48e6-b009-cbd7db9e9beb ]] \r\n",
       "E6 o- - \"1\"E8 [[psysml:dcb35f57-14cb-4e2c-8543-9245438ead5d ]] \r\n",
       "E6 +- - E9 [[psysml:08766104-19a0-4aca-bf35-b4c81b8c6dcb ]] \r\n",
       "E5 - -:|> E10 [[psysml:568ef262-b92a-4cba-8a4b-19f4a197db7e ]] \r\n",
       "E10 o- - E3 [[psysml:f2bac2b1-68d1-4631-bf1f-fa6cff2f703f ]] : y\r\n",
       "E10 o- - E6 [[psysml:f2bac2b1-68d1-4631-bf1f-fa6cff2f703f ]] : y\r\n",
       "E10 o- - E3 [[psysml:f2bac2b1-68d1-4631-bf1f-fa6cff2f703f ]] : y\r\n",
       "E10 o- - E6 [[psysml:f2bac2b1-68d1-4631-bf1f-fa6cff2f703f ]] : y\r\n",
       "E10 o- - E3 [[psysml:f2bac2b1-68d1-4631-bf1f-fa6cff2f703f ]] : y\r\n",
       "E10 o- - E6 [[psysml:f2bac2b1-68d1-4631-bf1f-fa6cff2f703f ]] : y\r\n",
       "@enduml\r\n",
       "\n",
       "PlantUML version 1.2020.13(Sat Jun 13 12:26:38 UTC 2020)\n",
       "(EPL source distribution)\n",
       "Java Runtime: OpenJDK Runtime Environment\n",
       "JVM: OpenJDK 64-Bit Server VM\n",
       "Default Encoding: UTF-8\n",
       "Language: en\n",
       "Country: null\n",
       "--></g></svg>"
      ]
     },
     "execution_count": 15,
     "metadata": {},
     "output_type": "execute_result"
    }
   ],
   "source": [
    "%viz --style=\"POLYLINE\" --view=\"MIXED\" \"PartTest\""
   ]
  },
  {
   "cell_type": "code",
   "execution_count": 16,
   "id": "530b7576",
   "metadata": {
    "execution": {
     "iopub.execute_input": "2022-02-05T16:55:43.303466Z",
     "iopub.status.busy": "2022-02-05T16:55:43.302983Z",
     "iopub.status.idle": "2022-02-05T16:55:43.376157Z",
     "shell.execute_reply": "2022-02-05T16:55:43.375792Z"
    }
   },
   "outputs": [
    {
     "data": {
      "image/svg+xml": [
       "<?xml version=\"1.0\" encoding=\"UTF-8\" standalone=\"no\"?><svg xmlns=\"http://www.w3.org/2000/svg\" xmlns:xlink=\"http://www.w3.org/1999/xlink\" contentScriptType=\"application/ecmascript\" contentStyleType=\"text/css\" height=\"450px\" preserveAspectRatio=\"none\" style=\"width:760px;height:450px;\" version=\"1.1\" viewBox=\"0 0 760 450\" width=\"760px\" zoomAndPan=\"magnify\"><defs/><g><!--MD5=[fbc87193dbaf4d95561dea2c320d4a47]\n",
       "cluster E1--><a href=\"psysml:c38775ed-c195-45a3-878f-69446059ff99\" target=\"_top\" title=\"psysml:c38775ed-c195-45a3-878f-69446059ff99\" xlink:actuate=\"onRequest\" xlink:href=\"psysml:c38775ed-c195-45a3-878f-69446059ff99\" xlink:show=\"new\" xlink:title=\"psysml:c38775ed-c195-45a3-878f-69446059ff99\" xlink:type=\"simple\"><polygon fill=\"#FFFFFF\" points=\"16,6,80,6,87,28.2969,738,28.2969,738,438,16,438,16,6\" style=\"stroke: #000000; stroke-width: 1.5;\"/><line style=\"stroke: #000000; stroke-width: 1.5;\" x1=\"16\" x2=\"87\" y1=\"28.2969\" y2=\"28.2969\"/><text fill=\"#000000\" font-family=\"sans-serif\" font-size=\"14\" font-weight=\"bold\" lengthAdjust=\"spacingAndGlyphs\" textLength=\"58\" x=\"20\" y=\"20.9951\">PartTest</text></a><!--MD5=[b4997ac47864f28c2f74865a473b2911]\n",
       "class E2--><a href=\"psysml:133b9857-5562-4f09-a022-80109f8d4a7d\" target=\"_top\" title=\"psysml:133b9857-5562-4f09-a022-80109f8d4a7d\" xlink:actuate=\"onRequest\" xlink:href=\"psysml:133b9857-5562-4f09-a022-80109f8d4a7d\" xlink:show=\"new\" xlink:title=\"psysml:133b9857-5562-4f09-a022-80109f8d4a7d\" xlink:type=\"simple\"><rect fill=\"#FFFFFF\" height=\"45.9375\" id=\"E2\" rx=\"10\" ry=\"10\" style=\"stroke: #383838; stroke-width: 1.5;\" width=\"42\" x=\"32\" y=\"197\"/><text fill=\"#000000\" font-family=\"sans-serif\" font-size=\"12\" font-style=\"italic\" lengthAdjust=\"spacingAndGlyphs\" textLength=\"40\" x=\"33\" y=\"213.1387\">«part»</text><text fill=\"#000000\" font-family=\"sans-serif\" font-size=\"12\" lengthAdjust=\"spacingAndGlyphs\" textLength=\"20\" x=\"41\" y=\"227.1074\">f: A</text><line style=\"stroke: #383838; stroke-width: 1.5;\" x1=\"33\" x2=\"73\" y1=\"234.9375\" y2=\"234.9375\"/></a><!--MD5=[09b614a08d8cba4a07c9adeb5e0fee81]\n",
       "class E3--><a href=\"psysml:41a43e73-47d4-427d-aa17-f57a90b2778c\" target=\"_top\" title=\"psysml:41a43e73-47d4-427d-aa17-f57a90b2778c\" xlink:actuate=\"onRequest\" xlink:href=\"psysml:41a43e73-47d4-427d-aa17-f57a90b2778c\" xlink:show=\"new\" xlink:title=\"psysml:41a43e73-47d4-427d-aa17-f57a90b2778c\" xlink:type=\"simple\"><rect fill=\"#FFFFFF\" height=\"88.3516\" id=\"E3\" style=\"stroke: #383838; stroke-width: 1.5;\" width=\"70\" x=\"135\" y=\"176\"/><text fill=\"#000000\" font-family=\"sans-serif\" font-size=\"12\" font-style=\"italic\" lengthAdjust=\"spacingAndGlyphs\" textLength=\"68\" x=\"136\" y=\"192.1387\">«part  def»</text><text fill=\"#000000\" font-family=\"sans-serif\" font-size=\"12\" lengthAdjust=\"spacingAndGlyphs\" textLength=\"8\" x=\"166\" y=\"206.1074\">A</text><line style=\"stroke: #383838; stroke-width: 1.5;\" x1=\"136\" x2=\"204\" y1=\"213.9375\" y2=\"213.9375\"/><text fill=\"#000000\" font-family=\"sans-serif\" font-size=\"11\" lengthAdjust=\"spacingAndGlyphs\" textLength=\"6\" x=\"141\" y=\"244.9526\">x</text><text fill=\"#000000\" font-family=\"sans-serif\" font-size=\"11\" lengthAdjust=\"spacingAndGlyphs\" textLength=\"44\" x=\"141\" y=\"257.7573\">y:&gt; A::x</text><line style=\"stroke: #383838; stroke-width: 1.0;\" x1=\"136\" x2=\"142.5\" y1=\"228.3398\" y2=\"228.3398\"/><text fill=\"#000000\" font-family=\"sans-serif\" font-size=\"11\" lengthAdjust=\"spacingAndGlyphs\" textLength=\"55\" x=\"142.5\" y=\"231.6479\">attributes</text><line style=\"stroke: #383838; stroke-width: 1.0;\" x1=\"197.5\" x2=\"204\" y1=\"228.3398\" y2=\"228.3398\"/></a><!--MD5=[ebbe1d658d1005bcc118a6aa81145e00]\n",
       "class E4--><a href=\"psysml:23a90af0-4107-4bf0-84ea-ac7115753c4e\" target=\"_top\" title=\"psysml:23a90af0-4107-4bf0-84ea-ac7115753c4e\" xlink:actuate=\"onRequest\" xlink:href=\"psysml:23a90af0-4107-4bf0-84ea-ac7115753c4e\" xlink:show=\"new\" xlink:title=\"psysml:23a90af0-4107-4bf0-84ea-ac7115753c4e\" xlink:type=\"simple\"><rect fill=\"#FFFFFF\" height=\"45.9375\" id=\"E4\" rx=\"10\" ry=\"10\" style=\"stroke: #383838; stroke-width: 1.5;\" width=\"42\" x=\"338\" y=\"62\"/><text fill=\"#000000\" font-family=\"sans-serif\" font-size=\"12\" font-style=\"italic\" lengthAdjust=\"spacingAndGlyphs\" textLength=\"40\" x=\"339\" y=\"78.1387\">«part»</text><text fill=\"#000000\" font-family=\"sans-serif\" font-size=\"12\" lengthAdjust=\"spacingAndGlyphs\" textLength=\"24\" x=\"345\" y=\"92.1074\">b: B</text><line style=\"stroke: #383838; stroke-width: 1.5;\" x1=\"339\" x2=\"379\" y1=\"99.9375\" y2=\"99.9375\"/></a><!--MD5=[270fce915f116d4de14055a7c1d9a0f3]\n",
       "class E5--><a href=\"psysml:3bde4e3d-0323-4342-8ecc-6f2c3dab5224\" target=\"_top\" title=\"psysml:3bde4e3d-0323-4342-8ecc-6f2c3dab5224\" xlink:actuate=\"onRequest\" xlink:href=\"psysml:3bde4e3d-0323-4342-8ecc-6f2c3dab5224\" xlink:show=\"new\" xlink:title=\"psysml:3bde4e3d-0323-4342-8ecc-6f2c3dab5224\" xlink:type=\"simple\"><rect fill=\"#FFFFFF\" height=\"45.9375\" id=\"E5\" rx=\"10\" ry=\"10\" style=\"stroke: #383838; stroke-width: 1.5;\" width=\"42\" x=\"266\" y=\"78\"/><text fill=\"#000000\" font-family=\"sans-serif\" font-size=\"12\" font-style=\"italic\" lengthAdjust=\"spacingAndGlyphs\" textLength=\"40\" x=\"267\" y=\"94.1387\">«port»</text><text fill=\"#000000\" font-family=\"sans-serif\" font-size=\"12\" lengthAdjust=\"spacingAndGlyphs\" textLength=\"23\" x=\"273.5\" y=\"108.1074\">c: C</text><line style=\"stroke: #383838; stroke-width: 1.5;\" x1=\"267\" x2=\"307\" y1=\"115.9375\" y2=\"115.9375\"/></a><!--MD5=[60a26617385b1d2d0262a64233df1f8d]\n",
       "class E6--><a href=\"psysml:c17c630d-59e9-4f7e-a520-276041a9c800\" target=\"_top\" title=\"psysml:c17c630d-59e9-4f7e-a520-276041a9c800\" xlink:actuate=\"onRequest\" xlink:href=\"psysml:c17c630d-59e9-4f7e-a520-276041a9c800\" xlink:show=\"new\" xlink:title=\"psysml:c17c630d-59e9-4f7e-a520-276041a9c800\" xlink:type=\"simple\"><rect fill=\"#FFFFFF\" height=\"45.9375\" id=\"E6\" style=\"stroke: #383838; stroke-width: 1.5;\" width=\"70\" x=\"549\" y=\"223\"/><text fill=\"#000000\" font-family=\"sans-serif\" font-size=\"12\" font-style=\"italic\" lengthAdjust=\"spacingAndGlyphs\" textLength=\"68\" x=\"550\" y=\"239.1387\">«part  def»</text><text fill=\"#000000\" font-family=\"sans-serif\" font-size=\"12\" font-style=\"italic\" lengthAdjust=\"spacingAndGlyphs\" textLength=\"8\" x=\"580\" y=\"253.1074\">B</text><line style=\"stroke: #383838; stroke-width: 1.5;\" x1=\"550\" x2=\"618\" y1=\"260.9375\" y2=\"260.9375\"/></a><!--MD5=[2156ba9850f5573cc1fc38a6a4b2f02b]\n",
       "class E7--><a href=\"psysml:4ea01713-b83a-4578-95eb-e0c0377cf261\" target=\"_top\" title=\"psysml:4ea01713-b83a-4578-95eb-e0c0377cf261\" xlink:actuate=\"onRequest\" xlink:href=\"psysml:4ea01713-b83a-4578-95eb-e0c0377cf261\" xlink:show=\"new\" xlink:title=\"psysml:4ea01713-b83a-4578-95eb-e0c0377cf261\" xlink:type=\"simple\"><rect fill=\"#FFFFFF\" height=\"45.9375\" id=\"E7\" rx=\"10\" ry=\"10\" style=\"stroke: #383838; stroke-width: 1.5;\" width=\"42\" x=\"680\" y=\"354\"/><text fill=\"#000000\" font-family=\"sans-serif\" font-size=\"12\" font-style=\"italic\" lengthAdjust=\"spacingAndGlyphs\" textLength=\"40\" x=\"681\" y=\"370.1387\">«part»</text><text fill=\"#000000\" font-family=\"sans-serif\" font-size=\"12\" font-style=\"italic\" lengthAdjust=\"spacingAndGlyphs\" textLength=\"8\" x=\"687\" y=\"384.1074\">a</text><text fill=\"#000000\" font-family=\"sans-serif\" font-size=\"12\" lengthAdjust=\"spacingAndGlyphs\" textLength=\"16\" x=\"695\" y=\"384.1074\">: A</text><line style=\"stroke: #383838; stroke-width: 1.5;\" x1=\"681\" x2=\"721\" y1=\"391.9375\" y2=\"391.9375\"/></a><!--MD5=[b9389687b975829384b498ac4b7476b2]\n",
       "class E8--><a href=\"psysml:c9f90055-486d-4326-9691-bfe47f710c68\" target=\"_top\" title=\"psysml:c9f90055-486d-4326-9691-bfe47f710c68\" xlink:actuate=\"onRequest\" xlink:href=\"psysml:c9f90055-486d-4326-9691-bfe47f710c68\" xlink:show=\"new\" xlink:title=\"psysml:c9f90055-486d-4326-9691-bfe47f710c68\" xlink:type=\"simple\"><rect fill=\"#FFFFFF\" height=\"45.9375\" id=\"E8\" rx=\"10\" ry=\"10\" style=\"stroke: #383838; stroke-width: 1.5;\" width=\"42\" x=\"680\" y=\"173\"/><text fill=\"#000000\" font-family=\"sans-serif\" font-size=\"12\" font-style=\"italic\" lengthAdjust=\"spacingAndGlyphs\" textLength=\"40\" x=\"681\" y=\"189.1387\">«port»</text><text fill=\"#000000\" font-family=\"sans-serif\" font-size=\"12\" lengthAdjust=\"spacingAndGlyphs\" textLength=\"32\" x=\"683\" y=\"203.1074\">x: ~C</text><line style=\"stroke: #383838; stroke-width: 1.5;\" x1=\"681\" x2=\"721\" y1=\"210.9375\" y2=\"210.9375\"/></a><!--MD5=[96f4274e9e20536e775497830990834d]\n",
       "class E10--><a href=\"psysml:e209a1f3-de72-4850-a45f-7036acf7c094\" target=\"_top\" title=\"psysml:e209a1f3-de72-4850-a45f-7036acf7c094\" xlink:actuate=\"onRequest\" xlink:href=\"psysml:e209a1f3-de72-4850-a45f-7036acf7c094\" xlink:show=\"new\" xlink:title=\"psysml:e209a1f3-de72-4850-a45f-7036acf7c094\" xlink:type=\"simple\"><rect fill=\"#FFFFFF\" height=\"45.9375\" id=\"E10\" style=\"stroke: #383838; stroke-width: 1.5;\" width=\"70\" x=\"410\" y=\"223\"/><text fill=\"#000000\" font-family=\"sans-serif\" font-size=\"12\" font-style=\"italic\" lengthAdjust=\"spacingAndGlyphs\" textLength=\"68\" x=\"411\" y=\"239.1387\">«port  def»</text><text fill=\"#000000\" font-family=\"sans-serif\" font-size=\"12\" lengthAdjust=\"spacingAndGlyphs\" textLength=\"8\" x=\"441\" y=\"253.1074\">C</text><line style=\"stroke: #383838; stroke-width: 1.5;\" x1=\"411\" x2=\"479\" y1=\"260.9375\" y2=\"260.9375\"/></a><a href=\"psysml:78dea323-2f70-496c-aa91-db5f05f12a10\" target=\"_top\" title=\"psysml:78dea323-2f70-496c-aa91-db5f05f12a10\" xlink:actuate=\"onRequest\" xlink:href=\"psysml:78dea323-2f70-496c-aa91-db5f05f12a10\" xlink:show=\"new\" xlink:title=\"psysml:78dea323-2f70-496c-aa91-db5f05f12a10\" xlink:type=\"simple\"><polygon fill=\"#FFFFFF\" points=\"686.5,254.5,701.5,254.5,708.5,276.7969,715.5,276.7969,715.5,307.0938,686.5,307.0938,686.5,254.5\" style=\"stroke: #000000; stroke-width: 1.5;\"/><line style=\"stroke: #000000; stroke-width: 1.5;\" x1=\"686.5\" x2=\"708.5\" y1=\"276.7969\" y2=\"276.7969\"/><text fill=\"#000000\" font-family=\"sans-serif\" font-size=\"14\" font-weight=\"bold\" lengthAdjust=\"spacingAndGlyphs\" textLength=\"9\" x=\"690.5\" y=\"269.4951\">P</text></a><!--MD5=[2720a5a1f2c3fca2055b230370638851]\n",
       "link E2 to E3--><a href=\"psysml:de99b855-827b-4779-9c99-7b4326eef43f\" target=\"_top\" title=\"psysml:de99b855-827b-4779-9c99-7b4326eef43f\" xlink:actuate=\"onRequest\" xlink:href=\"psysml:de99b855-827b-4779-9c99-7b4326eef43f\" xlink:show=\"new\" xlink:title=\"psysml:de99b855-827b-4779-9c99-7b4326eef43f\" xlink:type=\"simple\"><path d=\"M74.03,220 C85.34,220 100.07,220 114.54,220 \" fill=\"none\" id=\"E2-&gt;E3\" style=\"stroke: #383838; stroke-width: 1.0;\"/><polygon fill=\"#FFFFFF\" points=\"134.79,220,115.79,227,115.79,213,134.79,220\" style=\"stroke: #383838; stroke-width: 1.0;\"/><ellipse cx=\"110.09\" cy=\"225\" fill=\"#383838\" rx=\"2\" ry=\"2\" style=\"stroke: #383838; stroke-width: 1.0;\"/><ellipse cx=\"110.09\" cy=\"215\" fill=\"#383838\" rx=\"2\" ry=\"2\" style=\"stroke: #383838; stroke-width: 1.0;\"/></a><!--MD5=[4672eba38e49728da53d11aeb285b987]\n",
       "reverse link E3 to E4--><a href=\"psysml:7d143534-3389-4013-881e-42b16664757f\" target=\"_top\" title=\"psysml:7d143534-3389-4013-881e-42b16664757f\" xlink:actuate=\"onRequest\" xlink:href=\"psysml:7d143534-3389-4013-881e-42b16664757f\" xlink:show=\"new\" xlink:title=\"psysml:7d143534-3389-4013-881e-42b16664757f\" xlink:type=\"simple\"><path d=\"M188.33,163.22 C202.76,126.67 227.32,82.02 266,60 C288.73,47.06 318.45,59.62 337.87,71.13 \" fill=\"none\" id=\"E3&lt;-E4\" style=\"stroke: #383838; stroke-width: 1.0;\"/><polygon fill=\"#383838\" points=\"183.63,175.76,189.4799,171.5435,187.8377,164.5219,181.9878,168.7384,183.63,175.76\" style=\"stroke: #383838; stroke-width: 1.0;\"/><text fill=\"#000000\" font-family=\"sans-serif\" font-size=\"13\" lengthAdjust=\"spacingAndGlyphs\" textLength=\"8\" x=\"321.8598\" y=\"81.1976\">1</text></a><!--MD5=[191cde3d490a3f6d7bb551fe3ddca469]\n",
       "reverse link E3 to E5--><a href=\"psysml:01061be5-5fdc-439c-afe5-881fb8746c83\" target=\"_top\" title=\"psysml:01061be5-5fdc-439c-afe5-881fb8746c83\" xlink:actuate=\"onRequest\" xlink:href=\"psysml:01061be5-5fdc-439c-afe5-881fb8746c83\" xlink:show=\"new\" xlink:title=\"psysml:01061be5-5fdc-439c-afe5-881fb8746c83\" xlink:type=\"simple\"><path d=\"M214.23,175.27 C231.93,156.96 251.54,136.65 265.79,121.91 \" fill=\"none\" id=\"E3&lt;-E5\" style=\"stroke: #383838; stroke-width: 1.0;\"/><polygon fill=\"#FFFFFF\" points=\"205.19,184.62,212.2347,183.0797,213.5223,175.9845,206.4776,177.5248,205.19,184.62\" style=\"stroke: #383838; stroke-width: 1.0;\"/><text fill=\"#000000\" font-family=\"sans-serif\" font-size=\"13\" lengthAdjust=\"spacingAndGlyphs\" textLength=\"8\" x=\"250.0694\" y=\"142.7074\">1</text></a><!--MD5=[79568f1e445c3877b6a54524624ccc7d]\n",
       "link E4 to E6--><a href=\"psysml:8d11eaae-af32-434c-8c3d-32f92418f4c8\" target=\"_top\" title=\"psysml:8d11eaae-af32-434c-8c3d-32f92418f4c8\" xlink:actuate=\"onRequest\" xlink:href=\"psysml:8d11eaae-af32-434c-8c3d-32f92418f4c8\" xlink:show=\"new\" xlink:title=\"psysml:8d11eaae-af32-434c-8c3d-32f92418f4c8\" xlink:type=\"simple\"><path d=\"M380.18,99.57 C414.83,124.58 486.52,176.34 534.7,211.13 \" fill=\"none\" id=\"E4-&gt;E6\" style=\"stroke: #383838; stroke-width: 1.0;\"/><polygon fill=\"#FFFFFF\" points=\"550.97,222.88,531.4664,217.4386,539.6585,206.0857,550.97,222.88\" style=\"stroke: #383838; stroke-width: 1.0;\"/><ellipse cx=\"528.0144\" cy=\"212.4814\" fill=\"#383838\" rx=\"2\" ry=\"2\" style=\"stroke: #383838; stroke-width: 1.0;\"/><ellipse cx=\"533.8659\" cy=\"204.3721\" fill=\"#383838\" rx=\"2\" ry=\"2\" style=\"stroke: #383838; stroke-width: 1.0;\"/></a><!--MD5=[3f50a3473f1dfb74d3f76443e03635af]\n",
       "reverse link E6 to E7--><a href=\"psysml:7466bf8a-1e84-4b05-9901-ce46ee446fa5\" target=\"_top\" title=\"psysml:7466bf8a-1e84-4b05-9901-ce46ee446fa5\" xlink:actuate=\"onRequest\" xlink:href=\"psysml:7466bf8a-1e84-4b05-9901-ce46ee446fa5\" xlink:show=\"new\" xlink:title=\"psysml:7466bf8a-1e84-4b05-9901-ce46ee446fa5\" xlink:type=\"simple\"><path d=\"M613.95,278.98 C634.54,302.43 661.66,333.33 679.91,354.11 \" fill=\"none\" id=\"E6&lt;-E7\" style=\"stroke: #383838; stroke-width: 1.0;\"/><polygon fill=\"#383838\" points=\"605.29,269.12,606.2396,276.2683,613.2033,278.1411,612.2537,270.9928,605.29,269.12\" style=\"stroke: #383838; stroke-width: 1.0;\"/><text fill=\"#000000\" font-family=\"sans-serif\" font-size=\"13\" lengthAdjust=\"spacingAndGlyphs\" textLength=\"8\" x=\"663.9126\" y=\"361.3025\">1</text></a><!--MD5=[14ccda38c055a5c0da953d572bc50960]\n",
       "link E7 to E3--><a href=\"psysml:3c280f0c-0d5e-48e6-b009-cbd7db9e9beb\" target=\"_top\" title=\"psysml:3c280f0c-0d5e-48e6-b009-cbd7db9e9beb\" xlink:actuate=\"onRequest\" xlink:href=\"psysml:3c280f0c-0d5e-48e6-b009-cbd7db9e9beb\" xlink:show=\"new\" xlink:title=\"psysml:3c280f0c-0d5e-48e6-b009-cbd7db9e9beb\" xlink:type=\"simple\"><path d=\"M679.7,389.96 C657.39,402.94 620.06,421 585,421 C286,421 286,421 286,421 C221.81,421 192.95,342.8 180.33,283.96 \" fill=\"none\" id=\"E7-&gt;E3\" style=\"stroke: #383838; stroke-width: 1.0;\"/><polygon fill=\"#FFFFFF\" points=\"176.51,264.11,186.967,281.4493,173.2181,284.0891,176.51,264.11\" style=\"stroke: #383838; stroke-width: 1.0;\"/><ellipse cx=\"186.0776\" cy=\"287.4242\" fill=\"#383838\" rx=\"2\" ry=\"2\" style=\"stroke: #383838; stroke-width: 1.0;\"/><ellipse cx=\"176.257\" cy=\"289.3097\" fill=\"#383838\" rx=\"2\" ry=\"2\" style=\"stroke: #383838; stroke-width: 1.0;\"/></a><!--MD5=[f4cf0736d43fd73c4ef68817c49d37d5]\n",
       "reverse link E6 to E8--><a href=\"psysml:dcb35f57-14cb-4e2c-8543-9245438ead5d\" target=\"_top\" title=\"psysml:dcb35f57-14cb-4e2c-8543-9245438ead5d\" xlink:actuate=\"onRequest\" xlink:href=\"psysml:dcb35f57-14cb-4e2c-8543-9245438ead5d\" xlink:show=\"new\" xlink:title=\"psysml:dcb35f57-14cb-4e2c-8543-9245438ead5d\" xlink:type=\"simple\"><path d=\"M631.17,225.93 C648.07,218.58 666.33,210.64 679.79,204.79 \" fill=\"none\" id=\"E6&lt;-E8\" style=\"stroke: #383838; stroke-width: 1.0;\"/><polygon fill=\"#FFFFFF\" points=\"619.19,231.13,626.2878,232.4031,630.193,226.3409,623.0951,225.0678,619.19,231.13\" style=\"stroke: #383838; stroke-width: 1.0;\"/><text fill=\"#000000\" font-family=\"sans-serif\" font-size=\"13\" lengthAdjust=\"spacingAndGlyphs\" textLength=\"8\" x=\"664.0694\" y=\"221.8756\">1</text></a><!--MD5=[e88d06e5a652d73a6b19930eefe025a8]\n",
       "reverse link E6 to E9--><a href=\"psysml:08766104-19a0-4aca-bf35-b4c81b8c6dcb\" target=\"_top\" title=\"psysml:08766104-19a0-4aca-bf35-b4c81b8c6dcb\" xlink:actuate=\"onRequest\" xlink:href=\"psysml:08766104-19a0-4aca-bf35-b4c81b8c6dcb\" xlink:show=\"new\" xlink:title=\"psysml:08766104-19a0-4aca-bf35-b4c81b8c6dcb\" xlink:type=\"simple\"><path d=\"M633.76,260.84 C652.89,266.66 673.35,272.89 686.39,276.86 \" fill=\"none\" id=\"E6&lt;-E9\" style=\"stroke: #383838; stroke-width: 1.0;\"/><ellipse cx=\"626.8431\" cy=\"258.7402\" fill=\"#FFFFFF\" rx=\"8\" ry=\"8\" style=\"stroke: #383838; stroke-width: 1.0;\"/><line style=\"stroke: #383838; stroke-width: 1.0;\" x1=\"634.4962\" x2=\"619.19\" y1=\"261.0704\" y2=\"256.41\"/><line style=\"stroke: #383838; stroke-width: 1.0;\" x1=\"624.5129\" x2=\"629.1733\" y1=\"266.3933\" y2=\"251.0871\"/></a><!--MD5=[f78a29d5932556fa1060671a2a6507d8]\n",
       "link E5 to E10--><a href=\"psysml:568ef262-b92a-4cba-8a4b-19f4a197db7e\" target=\"_top\" title=\"psysml:568ef262-b92a-4cba-8a4b-19f4a197db7e\" xlink:actuate=\"onRequest\" xlink:href=\"psysml:568ef262-b92a-4cba-8a4b-19f4a197db7e\" xlink:show=\"new\" xlink:title=\"psysml:568ef262-b92a-4cba-8a4b-19f4a197db7e\" xlink:type=\"simple\"><path d=\"M308.19,113.24 C327.66,125.54 357.4,145.69 380,167 C392.73,179.01 405.2,193.56 415.7,206.89 \" fill=\"none\" id=\"E5-&gt;E10\" style=\"stroke: #383838; stroke-width: 1.0;\"/><polygon fill=\"#FFFFFF\" points=\"427.82,222.83,410.7528,211.9346,421.901,203.466,427.82,222.83\" style=\"stroke: #383838; stroke-width: 1.0;\"/><ellipse cx=\"408.8974\" cy=\"206.1859\" fill=\"#383838\" rx=\"2\" ry=\"2\" style=\"stroke: #383838; stroke-width: 1.0;\"/><ellipse cx=\"416.8604\" cy=\"200.1369\" fill=\"#383838\" rx=\"2\" ry=\"2\" style=\"stroke: #383838; stroke-width: 1.0;\"/></a><!--MD5=[8e04057e7b3cbc0dca4fc78ea351e2da]\n",
       "reverse link E10 to E3--><a href=\"psysml:f2bac2b1-68d1-4631-bf1f-fa6cff2f703f\" target=\"_top\" title=\"psysml:f2bac2b1-68d1-4631-bf1f-fa6cff2f703f\" xlink:actuate=\"onRequest\" xlink:href=\"psysml:f2bac2b1-68d1-4631-bf1f-fa6cff2f703f\" xlink:show=\"new\" xlink:title=\"psysml:f2bac2b1-68d1-4631-bf1f-fa6cff2f703f\" xlink:type=\"simple\"><path d=\"M410.74,277.62 C374.96,307.61 316.39,345.07 266,323 C238.37,310.9 215.22,286.35 198.69,264.26 \" fill=\"none\" id=\"E10&lt;-E3\" style=\"stroke: #383838; stroke-width: 1.0;\"/><polygon fill=\"#FFFFFF\" points=\"420.64,269.02,413.4859,269.9252,411.57,276.8772,418.724,275.9719,420.64,269.02\" style=\"stroke: #383838; stroke-width: 1.0;\"/><text fill=\"#000000\" font-family=\"sans-serif\" font-size=\"13\" lengthAdjust=\"spacingAndGlyphs\" textLength=\"7\" x=\"283.5\" y=\"319.0669\">y</text></a><!--MD5=[8e04057e7b3cbc0dca4fc78ea351e2da]\n",
       "reverse link E10 to E3--><a href=\"psysml:f2bac2b1-68d1-4631-bf1f-fa6cff2f703f\" target=\"_top\" title=\"psysml:f2bac2b1-68d1-4631-bf1f-fa6cff2f703f\" xlink:actuate=\"onRequest\" xlink:href=\"psysml:f2bac2b1-68d1-4631-bf1f-fa6cff2f703f\" xlink:show=\"new\" xlink:title=\"psysml:f2bac2b1-68d1-4631-bf1f-fa6cff2f703f\" xlink:type=\"simple\"><path d=\"M396.77,244.77 C360.83,243.49 310.19,240.95 266,236 C245.72,233.73 223.2,229.99 205.17,226.7 \" fill=\"none\" id=\"E10&lt;-E3-1\" style=\"stroke: #383838; stroke-width: 1.0;\"/><polygon fill=\"#FFFFFF\" points=\"409.78,245.2,403.9151,241.0045,397.7865,244.8046,403.6515,249.0001,409.78,245.2\" style=\"stroke: #383838; stroke-width: 1.0;\"/><text fill=\"#000000\" font-family=\"sans-serif\" font-size=\"13\" lengthAdjust=\"spacingAndGlyphs\" textLength=\"7\" x=\"283.5\" y=\"232.0669\">y</text></a><!--MD5=[8e04057e7b3cbc0dca4fc78ea351e2da]\n",
       "reverse link E10 to E3--><a href=\"psysml:f2bac2b1-68d1-4631-bf1f-fa6cff2f703f\" target=\"_top\" title=\"psysml:f2bac2b1-68d1-4631-bf1f-fa6cff2f703f\" xlink:actuate=\"onRequest\" xlink:href=\"psysml:f2bac2b1-68d1-4631-bf1f-fa6cff2f703f\" xlink:show=\"new\" xlink:title=\"psysml:f2bac2b1-68d1-4631-bf1f-fa6cff2f703f\" xlink:type=\"simple\"><path d=\"M397.09,232.57 C371.08,225.83 338.02,218.38 308,215 C289.45,212.91 284.66,214.51 266,215 C245.86,215.53 223.34,216.69 205.28,217.76 \" fill=\"none\" id=\"E10&lt;-E3-2\" style=\"stroke: #383838; stroke-width: 1.0;\"/><polygon fill=\"#FFFFFF\" points=\"409.99,236.01,405.2209,230.6011,398.3939,232.923,403.1629,238.3319,409.99,236.01\" style=\"stroke: #383838; stroke-width: 1.0;\"/><text fill=\"#000000\" font-family=\"sans-serif\" font-size=\"13\" lengthAdjust=\"spacingAndGlyphs\" textLength=\"7\" x=\"283.5\" y=\"210.0669\">y</text></a><!--MD5=[604cbf994c02b74b117f728a71673cea]\n",
       "reverse link E10 to E6--><a href=\"psysml:f2bac2b1-68d1-4631-bf1f-fa6cff2f703f\" target=\"_top\" title=\"psysml:f2bac2b1-68d1-4631-bf1f-fa6cff2f703f\" xlink:actuate=\"onRequest\" xlink:href=\"psysml:f2bac2b1-68d1-4631-bf1f-fa6cff2f703f\" xlink:show=\"new\" xlink:title=\"psysml:f2bac2b1-68d1-4631-bf1f-fa6cff2f703f\" xlink:type=\"simple\"><path d=\"M493.09,231.19 C498.74,229.88 504.47,228.76 510,228 C522.8,226.23 536.62,228.53 548.75,232 \" fill=\"none\" id=\"E10&lt;-E6\" style=\"stroke: #383838; stroke-width: 1.0;\"/><polygon fill=\"#FFFFFF\" points=\"480.18,234.52,486.9883,236.8964,491.8005,231.5259,484.9922,229.1494,480.18,234.52\" style=\"stroke: #383838; stroke-width: 1.0;\"/><text fill=\"#000000\" font-family=\"sans-serif\" font-size=\"13\" lengthAdjust=\"spacingAndGlyphs\" textLength=\"7\" x=\"511\" y=\"224.0669\">y</text></a><!--MD5=[604cbf994c02b74b117f728a71673cea]\n",
       "reverse link E10 to E6--><a href=\"psysml:f2bac2b1-68d1-4631-bf1f-fa6cff2f703f\" target=\"_top\" title=\"psysml:f2bac2b1-68d1-4631-bf1f-fa6cff2f703f\" xlink:actuate=\"onRequest\" xlink:href=\"psysml:f2bac2b1-68d1-4631-bf1f-fa6cff2f703f\" xlink:show=\"new\" xlink:title=\"psysml:f2bac2b1-68d1-4631-bf1f-fa6cff2f703f\" xlink:type=\"simple\"><path d=\"M471.99,278.87 C482.5,289.64 495.58,300.3 510,306 C534.41,315.65 556.82,289.8 570.2,269.06 \" fill=\"none\" id=\"E10&lt;-E6-1\" style=\"stroke: #383838; stroke-width: 1.0;\"/><polygon fill=\"#FFFFFF\" points=\"463.08,269.08,464.1573,276.2102,471.1534,277.9581,470.0761,270.8279,463.08,269.08\" style=\"stroke: #383838; stroke-width: 1.0;\"/><text fill=\"#000000\" font-family=\"sans-serif\" font-size=\"13\" lengthAdjust=\"spacingAndGlyphs\" textLength=\"7\" x=\"511\" y=\"302.0669\">y</text></a><!--MD5=[604cbf994c02b74b117f728a71673cea]\n",
       "reverse link E10 to E6--><a href=\"psysml:f2bac2b1-68d1-4631-bf1f-fa6cff2f703f\" target=\"_top\" title=\"psysml:f2bac2b1-68d1-4631-bf1f-fa6cff2f703f\" xlink:actuate=\"onRequest\" xlink:href=\"psysml:f2bac2b1-68d1-4631-bf1f-fa6cff2f703f\" xlink:show=\"new\" xlink:title=\"psysml:f2bac2b1-68d1-4631-bf1f-fa6cff2f703f\" xlink:type=\"simple\"><path d=\"M493.16,251.75 C498.83,252.26 504.54,252.7 510,253 C522.71,253.69 536.63,252.78 548.88,251.4 \" fill=\"none\" id=\"E10&lt;-E6-2\" style=\"stroke: #383838; stroke-width: 1.0;\"/><polygon fill=\"#FFFFFF\" points=\"480.15,250.43,485.7152,255.0157,492.0886,251.6423,486.5234,247.0566,480.15,250.43\" style=\"stroke: #383838; stroke-width: 1.0;\"/><text fill=\"#000000\" font-family=\"sans-serif\" font-size=\"13\" lengthAdjust=\"spacingAndGlyphs\" textLength=\"7\" x=\"511\" y=\"249.0669\">y</text></a><!--MD5=[16f74089fd7e4106dbfdfd10e4d23669]\n",
       "@startuml\r\n",
       "left to right direction\r\n",
       "skinparam monochrome true\r\n",
       "skinparam classbackgroundcolor white\r\n",
       "skinparam shadowing false\r\n",
       "skinparam wrapWidth 300\r\n",
       "hide circle\r\n",
       "\r\n",
       "package \"PartTest\" as E1  [[psysml:c38775ed-c195-45a3-878f-69446059ff99 ]]  {\r\n",
       "comp usage \"f: A \" as E2  <<(T,blue) part>> [[psysml:133b9857-5562-4f09-a022-80109f8d4a7d ]] {\r\n",
       "}\r\n",
       "comp def \"A\" as E3  <<(T,blue) part  def>> [[psysml:41a43e73-47d4-427d-aa17-f57a90b2778c ]] {\r\n",
       "- - attributes - -\r\n",
       "x\r\n",
       "y:> A::x\r\n",
       "}\r\n",
       "comp usage \"b: B \" as E4  <<(T,blue) part>> [[psysml:23a90af0-4107-4bf0-84ea-ac7115753c4e ]] {\r\n",
       "}\r\n",
       "comp usage \"c: C \" as E5  <<(T,blue) port>> [[psysml:3bde4e3d-0323-4342-8ecc-6f2c3dab5224 ]] {\r\n",
       "}\r\n",
       "comp def \"<i>B</i>\" as E6  <<(T,blue) part  def>> [[psysml:c17c630d-59e9-4f7e-a520-276041a9c800 ]] {\r\n",
       "}\r\n",
       "comp usage \"<i>a</i>: A \" as E7  <<(T,blue) part>> [[psysml:4ea01713-b83a-4578-95eb-e0c0377cf261 ]] {\r\n",
       "}\r\n",
       "comp usage \"x: ~C \" as E8  <<(T,blue) port>> [[psysml:c9f90055-486d-4326-9691-bfe47f710c68 ]] {\r\n",
       "}\r\n",
       "package \"P\" as E9  [[psysml:78dea323-2f70-496c-aa91-db5f05f12a10 ]]  {\r\n",
       "}\r\n",
       "comp def \"C\" as E10  <<(T,blue) port  def>> [[psysml:e209a1f3-de72-4850-a45f-7036acf7c094 ]] {\r\n",
       "}\r\n",
       "}\r\n",
       "E2 - -:|> E3 [[psysml:de99b855-827b-4779-9c99-7b4326eef43f ]] \r\n",
       "E3 *- - \"1\"E4 [[psysml:7d143534-3389-4013-881e-42b16664757f ]] \r\n",
       "E3 o- - \"1\"E5 [[psysml:01061be5-5fdc-439c-afe5-881fb8746c83 ]] \r\n",
       "E4 - -:|> E6 [[psysml:8d11eaae-af32-434c-8c3d-32f92418f4c8 ]] \r\n",
       "E6 *- - \"1\"E7 [[psysml:7466bf8a-1e84-4b05-9901-ce46ee446fa5 ]] \r\n",
       "E7 - -:|> E3 [[psysml:3c280f0c-0d5e-48e6-b009-cbd7db9e9beb ]] \r\n",
       "E6 o- - \"1\"E8 [[psysml:dcb35f57-14cb-4e2c-8543-9245438ead5d ]] \r\n",
       "E6 +- - E9 [[psysml:08766104-19a0-4aca-bf35-b4c81b8c6dcb ]] \r\n",
       "E5 - -:|> E10 [[psysml:568ef262-b92a-4cba-8a4b-19f4a197db7e ]] \r\n",
       "E10 o- - E3 [[psysml:f2bac2b1-68d1-4631-bf1f-fa6cff2f703f ]] : y\r\n",
       "E10 o- - E6 [[psysml:f2bac2b1-68d1-4631-bf1f-fa6cff2f703f ]] : y\r\n",
       "E10 o- - E3 [[psysml:f2bac2b1-68d1-4631-bf1f-fa6cff2f703f ]] : y\r\n",
       "E10 o- - E6 [[psysml:f2bac2b1-68d1-4631-bf1f-fa6cff2f703f ]] : y\r\n",
       "E10 o- - E3 [[psysml:f2bac2b1-68d1-4631-bf1f-fa6cff2f703f ]] : y\r\n",
       "E10 o- - E6 [[psysml:f2bac2b1-68d1-4631-bf1f-fa6cff2f703f ]] : y\r\n",
       "@enduml\r\n",
       "\n",
       "PlantUML version 1.2020.13(Sat Jun 13 12:26:38 UTC 2020)\n",
       "(EPL source distribution)\n",
       "Java Runtime: OpenJDK Runtime Environment\n",
       "JVM: OpenJDK 64-Bit Server VM\n",
       "Default Encoding: UTF-8\n",
       "Language: en\n",
       "Country: null\n",
       "--></g></svg>"
      ]
     },
     "execution_count": 16,
     "metadata": {},
     "output_type": "execute_result"
    }
   ],
   "source": [
    "%viz --style=\"LR\" --view=\"Default\" \"PartTest\""
   ]
  },
  {
   "cell_type": "code",
   "execution_count": 17,
   "id": "9465be4c",
   "metadata": {
    "execution": {
     "iopub.execute_input": "2022-02-05T16:55:43.425591Z",
     "iopub.status.busy": "2022-02-05T16:55:43.425117Z",
     "iopub.status.idle": "2022-02-05T16:55:43.505115Z",
     "shell.execute_reply": "2022-02-05T16:55:43.504747Z"
    }
   },
   "outputs": [
    {
     "data": {
      "image/svg+xml": [
       "<?xml version=\"1.0\" encoding=\"UTF-8\" standalone=\"no\"?><svg xmlns=\"http://www.w3.org/2000/svg\" xmlns:xlink=\"http://www.w3.org/1999/xlink\" contentScriptType=\"application/ecmascript\" contentStyleType=\"text/css\" height=\"450px\" preserveAspectRatio=\"none\" style=\"width:760px;height:450px;\" version=\"1.1\" viewBox=\"0 0 760 450\" width=\"760px\" zoomAndPan=\"magnify\"><defs/><g><!--MD5=[fbc87193dbaf4d95561dea2c320d4a47]\n",
       "cluster E1--><a href=\"psysml:c38775ed-c195-45a3-878f-69446059ff99\" target=\"_top\" title=\"psysml:c38775ed-c195-45a3-878f-69446059ff99\" xlink:actuate=\"onRequest\" xlink:href=\"psysml:c38775ed-c195-45a3-878f-69446059ff99\" xlink:show=\"new\" xlink:title=\"psysml:c38775ed-c195-45a3-878f-69446059ff99\" xlink:type=\"simple\"><polygon fill=\"#FFFFFF\" points=\"16,6,80,6,87,28.2969,738,28.2969,738,438,16,438,16,6\" style=\"stroke: #000000; stroke-width: 1.5;\"/><line style=\"stroke: #000000; stroke-width: 1.5;\" x1=\"16\" x2=\"87\" y1=\"28.2969\" y2=\"28.2969\"/><text fill=\"#000000\" font-family=\"sans-serif\" font-size=\"14\" font-weight=\"bold\" lengthAdjust=\"spacingAndGlyphs\" textLength=\"58\" x=\"20\" y=\"20.9951\">PartTest</text></a><!--MD5=[b4997ac47864f28c2f74865a473b2911]\n",
       "class E2--><a href=\"psysml:133b9857-5562-4f09-a022-80109f8d4a7d\" target=\"_top\" title=\"psysml:133b9857-5562-4f09-a022-80109f8d4a7d\" xlink:actuate=\"onRequest\" xlink:href=\"psysml:133b9857-5562-4f09-a022-80109f8d4a7d\" xlink:show=\"new\" xlink:title=\"psysml:133b9857-5562-4f09-a022-80109f8d4a7d\" xlink:type=\"simple\"><rect fill=\"#FFFFFF\" height=\"45.9375\" id=\"E2\" rx=\"10\" ry=\"10\" style=\"stroke: #383838; stroke-width: 1.5;\" width=\"42\" x=\"32\" y=\"197\"/><text fill=\"#000000\" font-family=\"sans-serif\" font-size=\"12\" font-style=\"italic\" lengthAdjust=\"spacingAndGlyphs\" textLength=\"40\" x=\"33\" y=\"213.1387\">«part»</text><text fill=\"#000000\" font-family=\"sans-serif\" font-size=\"12\" lengthAdjust=\"spacingAndGlyphs\" textLength=\"20\" x=\"41\" y=\"227.1074\">f: A</text><line style=\"stroke: #383838; stroke-width: 1.5;\" x1=\"33\" x2=\"73\" y1=\"234.9375\" y2=\"234.9375\"/></a><!--MD5=[09b614a08d8cba4a07c9adeb5e0fee81]\n",
       "class E3--><a href=\"psysml:41a43e73-47d4-427d-aa17-f57a90b2778c\" target=\"_top\" title=\"psysml:41a43e73-47d4-427d-aa17-f57a90b2778c\" xlink:actuate=\"onRequest\" xlink:href=\"psysml:41a43e73-47d4-427d-aa17-f57a90b2778c\" xlink:show=\"new\" xlink:title=\"psysml:41a43e73-47d4-427d-aa17-f57a90b2778c\" xlink:type=\"simple\"><rect fill=\"#FFFFFF\" height=\"88.3516\" id=\"E3\" style=\"stroke: #383838; stroke-width: 1.5;\" width=\"70\" x=\"135\" y=\"176\"/><text fill=\"#000000\" font-family=\"sans-serif\" font-size=\"12\" font-style=\"italic\" lengthAdjust=\"spacingAndGlyphs\" textLength=\"68\" x=\"136\" y=\"192.1387\">«part  def»</text><text fill=\"#000000\" font-family=\"sans-serif\" font-size=\"12\" lengthAdjust=\"spacingAndGlyphs\" textLength=\"8\" x=\"166\" y=\"206.1074\">A</text><line style=\"stroke: #383838; stroke-width: 1.5;\" x1=\"136\" x2=\"204\" y1=\"213.9375\" y2=\"213.9375\"/><text fill=\"#000000\" font-family=\"sans-serif\" font-size=\"11\" lengthAdjust=\"spacingAndGlyphs\" textLength=\"6\" x=\"141\" y=\"244.9526\">x</text><text fill=\"#000000\" font-family=\"sans-serif\" font-size=\"11\" lengthAdjust=\"spacingAndGlyphs\" textLength=\"44\" x=\"141\" y=\"257.7573\">y:&gt; A::x</text><line style=\"stroke: #383838; stroke-width: 1.0;\" x1=\"136\" x2=\"142.5\" y1=\"228.3398\" y2=\"228.3398\"/><text fill=\"#000000\" font-family=\"sans-serif\" font-size=\"11\" lengthAdjust=\"spacingAndGlyphs\" textLength=\"55\" x=\"142.5\" y=\"231.6479\">attributes</text><line style=\"stroke: #383838; stroke-width: 1.0;\" x1=\"197.5\" x2=\"204\" y1=\"228.3398\" y2=\"228.3398\"/></a><!--MD5=[ebbe1d658d1005bcc118a6aa81145e00]\n",
       "class E4--><a href=\"psysml:23a90af0-4107-4bf0-84ea-ac7115753c4e\" target=\"_top\" title=\"psysml:23a90af0-4107-4bf0-84ea-ac7115753c4e\" xlink:actuate=\"onRequest\" xlink:href=\"psysml:23a90af0-4107-4bf0-84ea-ac7115753c4e\" xlink:show=\"new\" xlink:title=\"psysml:23a90af0-4107-4bf0-84ea-ac7115753c4e\" xlink:type=\"simple\"><rect fill=\"#FFFFFF\" height=\"45.9375\" id=\"E4\" rx=\"10\" ry=\"10\" style=\"stroke: #383838; stroke-width: 1.5;\" width=\"42\" x=\"338\" y=\"62\"/><text fill=\"#000000\" font-family=\"sans-serif\" font-size=\"12\" font-style=\"italic\" lengthAdjust=\"spacingAndGlyphs\" textLength=\"40\" x=\"339\" y=\"78.1387\">«part»</text><text fill=\"#000000\" font-family=\"sans-serif\" font-size=\"12\" lengthAdjust=\"spacingAndGlyphs\" textLength=\"24\" x=\"345\" y=\"92.1074\">b: B</text><line style=\"stroke: #383838; stroke-width: 1.5;\" x1=\"339\" x2=\"379\" y1=\"99.9375\" y2=\"99.9375\"/></a><!--MD5=[270fce915f116d4de14055a7c1d9a0f3]\n",
       "class E5--><a href=\"psysml:3bde4e3d-0323-4342-8ecc-6f2c3dab5224\" target=\"_top\" title=\"psysml:3bde4e3d-0323-4342-8ecc-6f2c3dab5224\" xlink:actuate=\"onRequest\" xlink:href=\"psysml:3bde4e3d-0323-4342-8ecc-6f2c3dab5224\" xlink:show=\"new\" xlink:title=\"psysml:3bde4e3d-0323-4342-8ecc-6f2c3dab5224\" xlink:type=\"simple\"><rect fill=\"#FFFFFF\" height=\"45.9375\" id=\"E5\" rx=\"10\" ry=\"10\" style=\"stroke: #383838; stroke-width: 1.5;\" width=\"42\" x=\"266\" y=\"78\"/><text fill=\"#000000\" font-family=\"sans-serif\" font-size=\"12\" font-style=\"italic\" lengthAdjust=\"spacingAndGlyphs\" textLength=\"40\" x=\"267\" y=\"94.1387\">«port»</text><text fill=\"#000000\" font-family=\"sans-serif\" font-size=\"12\" lengthAdjust=\"spacingAndGlyphs\" textLength=\"23\" x=\"273.5\" y=\"108.1074\">c: C</text><line style=\"stroke: #383838; stroke-width: 1.5;\" x1=\"267\" x2=\"307\" y1=\"115.9375\" y2=\"115.9375\"/></a><!--MD5=[60a26617385b1d2d0262a64233df1f8d]\n",
       "class E6--><a href=\"psysml:c17c630d-59e9-4f7e-a520-276041a9c800\" target=\"_top\" title=\"psysml:c17c630d-59e9-4f7e-a520-276041a9c800\" xlink:actuate=\"onRequest\" xlink:href=\"psysml:c17c630d-59e9-4f7e-a520-276041a9c800\" xlink:show=\"new\" xlink:title=\"psysml:c17c630d-59e9-4f7e-a520-276041a9c800\" xlink:type=\"simple\"><rect fill=\"#FFFFFF\" height=\"45.9375\" id=\"E6\" style=\"stroke: #383838; stroke-width: 1.5;\" width=\"70\" x=\"549\" y=\"223\"/><text fill=\"#000000\" font-family=\"sans-serif\" font-size=\"12\" font-style=\"italic\" lengthAdjust=\"spacingAndGlyphs\" textLength=\"68\" x=\"550\" y=\"239.1387\">«part  def»</text><text fill=\"#000000\" font-family=\"sans-serif\" font-size=\"12\" font-style=\"italic\" lengthAdjust=\"spacingAndGlyphs\" textLength=\"8\" x=\"580\" y=\"253.1074\">B</text><line style=\"stroke: #383838; stroke-width: 1.5;\" x1=\"550\" x2=\"618\" y1=\"260.9375\" y2=\"260.9375\"/></a><!--MD5=[2156ba9850f5573cc1fc38a6a4b2f02b]\n",
       "class E7--><a href=\"psysml:4ea01713-b83a-4578-95eb-e0c0377cf261\" target=\"_top\" title=\"psysml:4ea01713-b83a-4578-95eb-e0c0377cf261\" xlink:actuate=\"onRequest\" xlink:href=\"psysml:4ea01713-b83a-4578-95eb-e0c0377cf261\" xlink:show=\"new\" xlink:title=\"psysml:4ea01713-b83a-4578-95eb-e0c0377cf261\" xlink:type=\"simple\"><rect fill=\"#FFFFFF\" height=\"45.9375\" id=\"E7\" rx=\"10\" ry=\"10\" style=\"stroke: #383838; stroke-width: 1.5;\" width=\"42\" x=\"680\" y=\"354\"/><text fill=\"#000000\" font-family=\"sans-serif\" font-size=\"12\" font-style=\"italic\" lengthAdjust=\"spacingAndGlyphs\" textLength=\"40\" x=\"681\" y=\"370.1387\">«part»</text><text fill=\"#000000\" font-family=\"sans-serif\" font-size=\"12\" font-style=\"italic\" lengthAdjust=\"spacingAndGlyphs\" textLength=\"8\" x=\"687\" y=\"384.1074\">a</text><text fill=\"#000000\" font-family=\"sans-serif\" font-size=\"12\" lengthAdjust=\"spacingAndGlyphs\" textLength=\"16\" x=\"695\" y=\"384.1074\">: A</text><line style=\"stroke: #383838; stroke-width: 1.5;\" x1=\"681\" x2=\"721\" y1=\"391.9375\" y2=\"391.9375\"/></a><!--MD5=[b9389687b975829384b498ac4b7476b2]\n",
       "class E8--><a href=\"psysml:c9f90055-486d-4326-9691-bfe47f710c68\" target=\"_top\" title=\"psysml:c9f90055-486d-4326-9691-bfe47f710c68\" xlink:actuate=\"onRequest\" xlink:href=\"psysml:c9f90055-486d-4326-9691-bfe47f710c68\" xlink:show=\"new\" xlink:title=\"psysml:c9f90055-486d-4326-9691-bfe47f710c68\" xlink:type=\"simple\"><rect fill=\"#FFFFFF\" height=\"45.9375\" id=\"E8\" rx=\"10\" ry=\"10\" style=\"stroke: #383838; stroke-width: 1.5;\" width=\"42\" x=\"680\" y=\"173\"/><text fill=\"#000000\" font-family=\"sans-serif\" font-size=\"12\" font-style=\"italic\" lengthAdjust=\"spacingAndGlyphs\" textLength=\"40\" x=\"681\" y=\"189.1387\">«port»</text><text fill=\"#000000\" font-family=\"sans-serif\" font-size=\"12\" lengthAdjust=\"spacingAndGlyphs\" textLength=\"32\" x=\"683\" y=\"203.1074\">x: ~C</text><line style=\"stroke: #383838; stroke-width: 1.5;\" x1=\"681\" x2=\"721\" y1=\"210.9375\" y2=\"210.9375\"/></a><!--MD5=[96f4274e9e20536e775497830990834d]\n",
       "class E10--><a href=\"psysml:e209a1f3-de72-4850-a45f-7036acf7c094\" target=\"_top\" title=\"psysml:e209a1f3-de72-4850-a45f-7036acf7c094\" xlink:actuate=\"onRequest\" xlink:href=\"psysml:e209a1f3-de72-4850-a45f-7036acf7c094\" xlink:show=\"new\" xlink:title=\"psysml:e209a1f3-de72-4850-a45f-7036acf7c094\" xlink:type=\"simple\"><rect fill=\"#FFFFFF\" height=\"45.9375\" id=\"E10\" style=\"stroke: #383838; stroke-width: 1.5;\" width=\"70\" x=\"410\" y=\"223\"/><text fill=\"#000000\" font-family=\"sans-serif\" font-size=\"12\" font-style=\"italic\" lengthAdjust=\"spacingAndGlyphs\" textLength=\"68\" x=\"411\" y=\"239.1387\">«port  def»</text><text fill=\"#000000\" font-family=\"sans-serif\" font-size=\"12\" lengthAdjust=\"spacingAndGlyphs\" textLength=\"8\" x=\"441\" y=\"253.1074\">C</text><line style=\"stroke: #383838; stroke-width: 1.5;\" x1=\"411\" x2=\"479\" y1=\"260.9375\" y2=\"260.9375\"/></a><a href=\"psysml:78dea323-2f70-496c-aa91-db5f05f12a10\" target=\"_top\" title=\"psysml:78dea323-2f70-496c-aa91-db5f05f12a10\" xlink:actuate=\"onRequest\" xlink:href=\"psysml:78dea323-2f70-496c-aa91-db5f05f12a10\" xlink:show=\"new\" xlink:title=\"psysml:78dea323-2f70-496c-aa91-db5f05f12a10\" xlink:type=\"simple\"><polygon fill=\"#FFFFFF\" points=\"686.5,254.5,701.5,254.5,708.5,276.7969,715.5,276.7969,715.5,307.0938,686.5,307.0938,686.5,254.5\" style=\"stroke: #000000; stroke-width: 1.5;\"/><line style=\"stroke: #000000; stroke-width: 1.5;\" x1=\"686.5\" x2=\"708.5\" y1=\"276.7969\" y2=\"276.7969\"/><text fill=\"#000000\" font-family=\"sans-serif\" font-size=\"14\" font-weight=\"bold\" lengthAdjust=\"spacingAndGlyphs\" textLength=\"9\" x=\"690.5\" y=\"269.4951\">P</text></a><!--MD5=[2720a5a1f2c3fca2055b230370638851]\n",
       "link E2 to E3--><a href=\"psysml:de99b855-827b-4779-9c99-7b4326eef43f\" target=\"_top\" title=\"psysml:de99b855-827b-4779-9c99-7b4326eef43f\" xlink:actuate=\"onRequest\" xlink:href=\"psysml:de99b855-827b-4779-9c99-7b4326eef43f\" xlink:show=\"new\" xlink:title=\"psysml:de99b855-827b-4779-9c99-7b4326eef43f\" xlink:type=\"simple\"><path d=\"M74.03,220 C85.34,220 100.07,220 114.54,220 \" fill=\"none\" id=\"E2-&gt;E3\" style=\"stroke: #383838; stroke-width: 1.0;\"/><polygon fill=\"#FFFFFF\" points=\"134.79,220,115.79,227,115.79,213,134.79,220\" style=\"stroke: #383838; stroke-width: 1.0;\"/><ellipse cx=\"110.09\" cy=\"225\" fill=\"#383838\" rx=\"2\" ry=\"2\" style=\"stroke: #383838; stroke-width: 1.0;\"/><ellipse cx=\"110.09\" cy=\"215\" fill=\"#383838\" rx=\"2\" ry=\"2\" style=\"stroke: #383838; stroke-width: 1.0;\"/></a><!--MD5=[4672eba38e49728da53d11aeb285b987]\n",
       "reverse link E3 to E4--><a href=\"psysml:7d143534-3389-4013-881e-42b16664757f\" target=\"_top\" title=\"psysml:7d143534-3389-4013-881e-42b16664757f\" xlink:actuate=\"onRequest\" xlink:href=\"psysml:7d143534-3389-4013-881e-42b16664757f\" xlink:show=\"new\" xlink:title=\"psysml:7d143534-3389-4013-881e-42b16664757f\" xlink:type=\"simple\"><path d=\"M188.33,163.22 C202.76,126.67 227.32,82.02 266,60 C288.73,47.06 318.45,59.62 337.87,71.13 \" fill=\"none\" id=\"E3&lt;-E4\" style=\"stroke: #383838; stroke-width: 1.0;\"/><polygon fill=\"#383838\" points=\"183.63,175.76,189.4799,171.5435,187.8377,164.5219,181.9878,168.7384,183.63,175.76\" style=\"stroke: #383838; stroke-width: 1.0;\"/><text fill=\"#000000\" font-family=\"sans-serif\" font-size=\"13\" lengthAdjust=\"spacingAndGlyphs\" textLength=\"8\" x=\"321.8598\" y=\"81.1976\">1</text></a><!--MD5=[191cde3d490a3f6d7bb551fe3ddca469]\n",
       "reverse link E3 to E5--><a href=\"psysml:01061be5-5fdc-439c-afe5-881fb8746c83\" target=\"_top\" title=\"psysml:01061be5-5fdc-439c-afe5-881fb8746c83\" xlink:actuate=\"onRequest\" xlink:href=\"psysml:01061be5-5fdc-439c-afe5-881fb8746c83\" xlink:show=\"new\" xlink:title=\"psysml:01061be5-5fdc-439c-afe5-881fb8746c83\" xlink:type=\"simple\"><path d=\"M214.23,175.27 C231.93,156.96 251.54,136.65 265.79,121.91 \" fill=\"none\" id=\"E3&lt;-E5\" style=\"stroke: #383838; stroke-width: 1.0;\"/><polygon fill=\"#FFFFFF\" points=\"205.19,184.62,212.2347,183.0797,213.5223,175.9845,206.4776,177.5248,205.19,184.62\" style=\"stroke: #383838; stroke-width: 1.0;\"/><text fill=\"#000000\" font-family=\"sans-serif\" font-size=\"13\" lengthAdjust=\"spacingAndGlyphs\" textLength=\"8\" x=\"250.0694\" y=\"142.7074\">1</text></a><!--MD5=[79568f1e445c3877b6a54524624ccc7d]\n",
       "link E4 to E6--><a href=\"psysml:8d11eaae-af32-434c-8c3d-32f92418f4c8\" target=\"_top\" title=\"psysml:8d11eaae-af32-434c-8c3d-32f92418f4c8\" xlink:actuate=\"onRequest\" xlink:href=\"psysml:8d11eaae-af32-434c-8c3d-32f92418f4c8\" xlink:show=\"new\" xlink:title=\"psysml:8d11eaae-af32-434c-8c3d-32f92418f4c8\" xlink:type=\"simple\"><path d=\"M380.18,99.57 C414.83,124.58 486.52,176.34 534.7,211.13 \" fill=\"none\" id=\"E4-&gt;E6\" style=\"stroke: #383838; stroke-width: 1.0;\"/><polygon fill=\"#FFFFFF\" points=\"550.97,222.88,531.4664,217.4386,539.6585,206.0857,550.97,222.88\" style=\"stroke: #383838; stroke-width: 1.0;\"/><ellipse cx=\"528.0144\" cy=\"212.4814\" fill=\"#383838\" rx=\"2\" ry=\"2\" style=\"stroke: #383838; stroke-width: 1.0;\"/><ellipse cx=\"533.8659\" cy=\"204.3721\" fill=\"#383838\" rx=\"2\" ry=\"2\" style=\"stroke: #383838; stroke-width: 1.0;\"/></a><!--MD5=[3f50a3473f1dfb74d3f76443e03635af]\n",
       "reverse link E6 to E7--><a href=\"psysml:7466bf8a-1e84-4b05-9901-ce46ee446fa5\" target=\"_top\" title=\"psysml:7466bf8a-1e84-4b05-9901-ce46ee446fa5\" xlink:actuate=\"onRequest\" xlink:href=\"psysml:7466bf8a-1e84-4b05-9901-ce46ee446fa5\" xlink:show=\"new\" xlink:title=\"psysml:7466bf8a-1e84-4b05-9901-ce46ee446fa5\" xlink:type=\"simple\"><path d=\"M613.95,278.98 C634.54,302.43 661.66,333.33 679.91,354.11 \" fill=\"none\" id=\"E6&lt;-E7\" style=\"stroke: #383838; stroke-width: 1.0;\"/><polygon fill=\"#383838\" points=\"605.29,269.12,606.2396,276.2683,613.2033,278.1411,612.2537,270.9928,605.29,269.12\" style=\"stroke: #383838; stroke-width: 1.0;\"/><text fill=\"#000000\" font-family=\"sans-serif\" font-size=\"13\" lengthAdjust=\"spacingAndGlyphs\" textLength=\"8\" x=\"663.9126\" y=\"361.3025\">1</text></a><!--MD5=[14ccda38c055a5c0da953d572bc50960]\n",
       "link E7 to E3--><a href=\"psysml:3c280f0c-0d5e-48e6-b009-cbd7db9e9beb\" target=\"_top\" title=\"psysml:3c280f0c-0d5e-48e6-b009-cbd7db9e9beb\" xlink:actuate=\"onRequest\" xlink:href=\"psysml:3c280f0c-0d5e-48e6-b009-cbd7db9e9beb\" xlink:show=\"new\" xlink:title=\"psysml:3c280f0c-0d5e-48e6-b009-cbd7db9e9beb\" xlink:type=\"simple\"><path d=\"M679.7,389.96 C657.39,402.94 620.06,421 585,421 C286,421 286,421 286,421 C221.81,421 192.95,342.8 180.33,283.96 \" fill=\"none\" id=\"E7-&gt;E3\" style=\"stroke: #383838; stroke-width: 1.0;\"/><polygon fill=\"#FFFFFF\" points=\"176.51,264.11,186.967,281.4493,173.2181,284.0891,176.51,264.11\" style=\"stroke: #383838; stroke-width: 1.0;\"/><ellipse cx=\"186.0776\" cy=\"287.4242\" fill=\"#383838\" rx=\"2\" ry=\"2\" style=\"stroke: #383838; stroke-width: 1.0;\"/><ellipse cx=\"176.257\" cy=\"289.3097\" fill=\"#383838\" rx=\"2\" ry=\"2\" style=\"stroke: #383838; stroke-width: 1.0;\"/></a><!--MD5=[f4cf0736d43fd73c4ef68817c49d37d5]\n",
       "reverse link E6 to E8--><a href=\"psysml:dcb35f57-14cb-4e2c-8543-9245438ead5d\" target=\"_top\" title=\"psysml:dcb35f57-14cb-4e2c-8543-9245438ead5d\" xlink:actuate=\"onRequest\" xlink:href=\"psysml:dcb35f57-14cb-4e2c-8543-9245438ead5d\" xlink:show=\"new\" xlink:title=\"psysml:dcb35f57-14cb-4e2c-8543-9245438ead5d\" xlink:type=\"simple\"><path d=\"M631.17,225.93 C648.07,218.58 666.33,210.64 679.79,204.79 \" fill=\"none\" id=\"E6&lt;-E8\" style=\"stroke: #383838; stroke-width: 1.0;\"/><polygon fill=\"#FFFFFF\" points=\"619.19,231.13,626.2878,232.4031,630.193,226.3409,623.0951,225.0678,619.19,231.13\" style=\"stroke: #383838; stroke-width: 1.0;\"/><text fill=\"#000000\" font-family=\"sans-serif\" font-size=\"13\" lengthAdjust=\"spacingAndGlyphs\" textLength=\"8\" x=\"664.0694\" y=\"221.8756\">1</text></a><!--MD5=[e88d06e5a652d73a6b19930eefe025a8]\n",
       "reverse link E6 to E9--><a href=\"psysml:08766104-19a0-4aca-bf35-b4c81b8c6dcb\" target=\"_top\" title=\"psysml:08766104-19a0-4aca-bf35-b4c81b8c6dcb\" xlink:actuate=\"onRequest\" xlink:href=\"psysml:08766104-19a0-4aca-bf35-b4c81b8c6dcb\" xlink:show=\"new\" xlink:title=\"psysml:08766104-19a0-4aca-bf35-b4c81b8c6dcb\" xlink:type=\"simple\"><path d=\"M633.76,260.84 C652.89,266.66 673.35,272.89 686.39,276.86 \" fill=\"none\" id=\"E6&lt;-E9\" style=\"stroke: #383838; stroke-width: 1.0;\"/><ellipse cx=\"626.8431\" cy=\"258.7402\" fill=\"#FFFFFF\" rx=\"8\" ry=\"8\" style=\"stroke: #383838; stroke-width: 1.0;\"/><line style=\"stroke: #383838; stroke-width: 1.0;\" x1=\"634.4962\" x2=\"619.19\" y1=\"261.0704\" y2=\"256.41\"/><line style=\"stroke: #383838; stroke-width: 1.0;\" x1=\"624.5129\" x2=\"629.1733\" y1=\"266.3933\" y2=\"251.0871\"/></a><!--MD5=[f78a29d5932556fa1060671a2a6507d8]\n",
       "link E5 to E10--><a href=\"psysml:568ef262-b92a-4cba-8a4b-19f4a197db7e\" target=\"_top\" title=\"psysml:568ef262-b92a-4cba-8a4b-19f4a197db7e\" xlink:actuate=\"onRequest\" xlink:href=\"psysml:568ef262-b92a-4cba-8a4b-19f4a197db7e\" xlink:show=\"new\" xlink:title=\"psysml:568ef262-b92a-4cba-8a4b-19f4a197db7e\" xlink:type=\"simple\"><path d=\"M308.19,113.24 C327.66,125.54 357.4,145.69 380,167 C392.73,179.01 405.2,193.56 415.7,206.89 \" fill=\"none\" id=\"E5-&gt;E10\" style=\"stroke: #383838; stroke-width: 1.0;\"/><polygon fill=\"#FFFFFF\" points=\"427.82,222.83,410.7528,211.9346,421.901,203.466,427.82,222.83\" style=\"stroke: #383838; stroke-width: 1.0;\"/><ellipse cx=\"408.8974\" cy=\"206.1859\" fill=\"#383838\" rx=\"2\" ry=\"2\" style=\"stroke: #383838; stroke-width: 1.0;\"/><ellipse cx=\"416.8604\" cy=\"200.1369\" fill=\"#383838\" rx=\"2\" ry=\"2\" style=\"stroke: #383838; stroke-width: 1.0;\"/></a><!--MD5=[8e04057e7b3cbc0dca4fc78ea351e2da]\n",
       "reverse link E10 to E3--><a href=\"psysml:f2bac2b1-68d1-4631-bf1f-fa6cff2f703f\" target=\"_top\" title=\"psysml:f2bac2b1-68d1-4631-bf1f-fa6cff2f703f\" xlink:actuate=\"onRequest\" xlink:href=\"psysml:f2bac2b1-68d1-4631-bf1f-fa6cff2f703f\" xlink:show=\"new\" xlink:title=\"psysml:f2bac2b1-68d1-4631-bf1f-fa6cff2f703f\" xlink:type=\"simple\"><path d=\"M410.74,277.62 C374.96,307.61 316.39,345.07 266,323 C238.37,310.9 215.22,286.35 198.69,264.26 \" fill=\"none\" id=\"E10&lt;-E3\" style=\"stroke: #383838; stroke-width: 1.0;\"/><polygon fill=\"#FFFFFF\" points=\"420.64,269.02,413.4859,269.9252,411.57,276.8772,418.724,275.9719,420.64,269.02\" style=\"stroke: #383838; stroke-width: 1.0;\"/><text fill=\"#000000\" font-family=\"sans-serif\" font-size=\"13\" lengthAdjust=\"spacingAndGlyphs\" textLength=\"7\" x=\"283.5\" y=\"319.0669\">y</text></a><!--MD5=[8e04057e7b3cbc0dca4fc78ea351e2da]\n",
       "reverse link E10 to E3--><a href=\"psysml:f2bac2b1-68d1-4631-bf1f-fa6cff2f703f\" target=\"_top\" title=\"psysml:f2bac2b1-68d1-4631-bf1f-fa6cff2f703f\" xlink:actuate=\"onRequest\" xlink:href=\"psysml:f2bac2b1-68d1-4631-bf1f-fa6cff2f703f\" xlink:show=\"new\" xlink:title=\"psysml:f2bac2b1-68d1-4631-bf1f-fa6cff2f703f\" xlink:type=\"simple\"><path d=\"M396.77,244.77 C360.83,243.49 310.19,240.95 266,236 C245.72,233.73 223.2,229.99 205.17,226.7 \" fill=\"none\" id=\"E10&lt;-E3-1\" style=\"stroke: #383838; stroke-width: 1.0;\"/><polygon fill=\"#FFFFFF\" points=\"409.78,245.2,403.9151,241.0045,397.7865,244.8046,403.6515,249.0001,409.78,245.2\" style=\"stroke: #383838; stroke-width: 1.0;\"/><text fill=\"#000000\" font-family=\"sans-serif\" font-size=\"13\" lengthAdjust=\"spacingAndGlyphs\" textLength=\"7\" x=\"283.5\" y=\"232.0669\">y</text></a><!--MD5=[8e04057e7b3cbc0dca4fc78ea351e2da]\n",
       "reverse link E10 to E3--><a href=\"psysml:f2bac2b1-68d1-4631-bf1f-fa6cff2f703f\" target=\"_top\" title=\"psysml:f2bac2b1-68d1-4631-bf1f-fa6cff2f703f\" xlink:actuate=\"onRequest\" xlink:href=\"psysml:f2bac2b1-68d1-4631-bf1f-fa6cff2f703f\" xlink:show=\"new\" xlink:title=\"psysml:f2bac2b1-68d1-4631-bf1f-fa6cff2f703f\" xlink:type=\"simple\"><path d=\"M397.09,232.57 C371.08,225.83 338.02,218.38 308,215 C289.45,212.91 284.66,214.51 266,215 C245.86,215.53 223.34,216.69 205.28,217.76 \" fill=\"none\" id=\"E10&lt;-E3-2\" style=\"stroke: #383838; stroke-width: 1.0;\"/><polygon fill=\"#FFFFFF\" points=\"409.99,236.01,405.2209,230.6011,398.3939,232.923,403.1629,238.3319,409.99,236.01\" style=\"stroke: #383838; stroke-width: 1.0;\"/><text fill=\"#000000\" font-family=\"sans-serif\" font-size=\"13\" lengthAdjust=\"spacingAndGlyphs\" textLength=\"7\" x=\"283.5\" y=\"210.0669\">y</text></a><!--MD5=[604cbf994c02b74b117f728a71673cea]\n",
       "reverse link E10 to E6--><a href=\"psysml:f2bac2b1-68d1-4631-bf1f-fa6cff2f703f\" target=\"_top\" title=\"psysml:f2bac2b1-68d1-4631-bf1f-fa6cff2f703f\" xlink:actuate=\"onRequest\" xlink:href=\"psysml:f2bac2b1-68d1-4631-bf1f-fa6cff2f703f\" xlink:show=\"new\" xlink:title=\"psysml:f2bac2b1-68d1-4631-bf1f-fa6cff2f703f\" xlink:type=\"simple\"><path d=\"M493.09,231.19 C498.74,229.88 504.47,228.76 510,228 C522.8,226.23 536.62,228.53 548.75,232 \" fill=\"none\" id=\"E10&lt;-E6\" style=\"stroke: #383838; stroke-width: 1.0;\"/><polygon fill=\"#FFFFFF\" points=\"480.18,234.52,486.9883,236.8964,491.8005,231.5259,484.9922,229.1494,480.18,234.52\" style=\"stroke: #383838; stroke-width: 1.0;\"/><text fill=\"#000000\" font-family=\"sans-serif\" font-size=\"13\" lengthAdjust=\"spacingAndGlyphs\" textLength=\"7\" x=\"511\" y=\"224.0669\">y</text></a><!--MD5=[604cbf994c02b74b117f728a71673cea]\n",
       "reverse link E10 to E6--><a href=\"psysml:f2bac2b1-68d1-4631-bf1f-fa6cff2f703f\" target=\"_top\" title=\"psysml:f2bac2b1-68d1-4631-bf1f-fa6cff2f703f\" xlink:actuate=\"onRequest\" xlink:href=\"psysml:f2bac2b1-68d1-4631-bf1f-fa6cff2f703f\" xlink:show=\"new\" xlink:title=\"psysml:f2bac2b1-68d1-4631-bf1f-fa6cff2f703f\" xlink:type=\"simple\"><path d=\"M471.99,278.87 C482.5,289.64 495.58,300.3 510,306 C534.41,315.65 556.82,289.8 570.2,269.06 \" fill=\"none\" id=\"E10&lt;-E6-1\" style=\"stroke: #383838; stroke-width: 1.0;\"/><polygon fill=\"#FFFFFF\" points=\"463.08,269.08,464.1573,276.2102,471.1534,277.9581,470.0761,270.8279,463.08,269.08\" style=\"stroke: #383838; stroke-width: 1.0;\"/><text fill=\"#000000\" font-family=\"sans-serif\" font-size=\"13\" lengthAdjust=\"spacingAndGlyphs\" textLength=\"7\" x=\"511\" y=\"302.0669\">y</text></a><!--MD5=[604cbf994c02b74b117f728a71673cea]\n",
       "reverse link E10 to E6--><a href=\"psysml:f2bac2b1-68d1-4631-bf1f-fa6cff2f703f\" target=\"_top\" title=\"psysml:f2bac2b1-68d1-4631-bf1f-fa6cff2f703f\" xlink:actuate=\"onRequest\" xlink:href=\"psysml:f2bac2b1-68d1-4631-bf1f-fa6cff2f703f\" xlink:show=\"new\" xlink:title=\"psysml:f2bac2b1-68d1-4631-bf1f-fa6cff2f703f\" xlink:type=\"simple\"><path d=\"M493.16,251.75 C498.83,252.26 504.54,252.7 510,253 C522.71,253.69 536.63,252.78 548.88,251.4 \" fill=\"none\" id=\"E10&lt;-E6-2\" style=\"stroke: #383838; stroke-width: 1.0;\"/><polygon fill=\"#FFFFFF\" points=\"480.15,250.43,485.7152,255.0157,492.0886,251.6423,486.5234,247.0566,480.15,250.43\" style=\"stroke: #383838; stroke-width: 1.0;\"/><text fill=\"#000000\" font-family=\"sans-serif\" font-size=\"13\" lengthAdjust=\"spacingAndGlyphs\" textLength=\"7\" x=\"511\" y=\"249.0669\">y</text></a><!--MD5=[16f74089fd7e4106dbfdfd10e4d23669]\n",
       "@startuml\r\n",
       "left to right direction\r\n",
       "skinparam monochrome true\r\n",
       "skinparam classbackgroundcolor white\r\n",
       "skinparam shadowing false\r\n",
       "skinparam wrapWidth 300\r\n",
       "hide circle\r\n",
       "\r\n",
       "package \"PartTest\" as E1  [[psysml:c38775ed-c195-45a3-878f-69446059ff99 ]]  {\r\n",
       "comp usage \"f: A \" as E2  <<(T,blue) part>> [[psysml:133b9857-5562-4f09-a022-80109f8d4a7d ]] {\r\n",
       "}\r\n",
       "comp def \"A\" as E3  <<(T,blue) part  def>> [[psysml:41a43e73-47d4-427d-aa17-f57a90b2778c ]] {\r\n",
       "- - attributes - -\r\n",
       "x\r\n",
       "y:> A::x\r\n",
       "}\r\n",
       "comp usage \"b: B \" as E4  <<(T,blue) part>> [[psysml:23a90af0-4107-4bf0-84ea-ac7115753c4e ]] {\r\n",
       "}\r\n",
       "comp usage \"c: C \" as E5  <<(T,blue) port>> [[psysml:3bde4e3d-0323-4342-8ecc-6f2c3dab5224 ]] {\r\n",
       "}\r\n",
       "comp def \"<i>B</i>\" as E6  <<(T,blue) part  def>> [[psysml:c17c630d-59e9-4f7e-a520-276041a9c800 ]] {\r\n",
       "}\r\n",
       "comp usage \"<i>a</i>: A \" as E7  <<(T,blue) part>> [[psysml:4ea01713-b83a-4578-95eb-e0c0377cf261 ]] {\r\n",
       "}\r\n",
       "comp usage \"x: ~C \" as E8  <<(T,blue) port>> [[psysml:c9f90055-486d-4326-9691-bfe47f710c68 ]] {\r\n",
       "}\r\n",
       "package \"P\" as E9  [[psysml:78dea323-2f70-496c-aa91-db5f05f12a10 ]]  {\r\n",
       "}\r\n",
       "comp def \"C\" as E10  <<(T,blue) port  def>> [[psysml:e209a1f3-de72-4850-a45f-7036acf7c094 ]] {\r\n",
       "}\r\n",
       "}\r\n",
       "E2 - -:|> E3 [[psysml:de99b855-827b-4779-9c99-7b4326eef43f ]] \r\n",
       "E3 *- - \"1\"E4 [[psysml:7d143534-3389-4013-881e-42b16664757f ]] \r\n",
       "E3 o- - \"1\"E5 [[psysml:01061be5-5fdc-439c-afe5-881fb8746c83 ]] \r\n",
       "E4 - -:|> E6 [[psysml:8d11eaae-af32-434c-8c3d-32f92418f4c8 ]] \r\n",
       "E6 *- - \"1\"E7 [[psysml:7466bf8a-1e84-4b05-9901-ce46ee446fa5 ]] \r\n",
       "E7 - -:|> E3 [[psysml:3c280f0c-0d5e-48e6-b009-cbd7db9e9beb ]] \r\n",
       "E6 o- - \"1\"E8 [[psysml:dcb35f57-14cb-4e2c-8543-9245438ead5d ]] \r\n",
       "E6 +- - E9 [[psysml:08766104-19a0-4aca-bf35-b4c81b8c6dcb ]] \r\n",
       "E5 - -:|> E10 [[psysml:568ef262-b92a-4cba-8a4b-19f4a197db7e ]] \r\n",
       "E10 o- - E3 [[psysml:f2bac2b1-68d1-4631-bf1f-fa6cff2f703f ]] : y\r\n",
       "E10 o- - E6 [[psysml:f2bac2b1-68d1-4631-bf1f-fa6cff2f703f ]] : y\r\n",
       "E10 o- - E3 [[psysml:f2bac2b1-68d1-4631-bf1f-fa6cff2f703f ]] : y\r\n",
       "E10 o- - E6 [[psysml:f2bac2b1-68d1-4631-bf1f-fa6cff2f703f ]] : y\r\n",
       "E10 o- - E3 [[psysml:f2bac2b1-68d1-4631-bf1f-fa6cff2f703f ]] : y\r\n",
       "E10 o- - E6 [[psysml:f2bac2b1-68d1-4631-bf1f-fa6cff2f703f ]] : y\r\n",
       "@enduml\r\n",
       "\n",
       "PlantUML version 1.2020.13(Sat Jun 13 12:26:38 UTC 2020)\n",
       "(EPL source distribution)\n",
       "Java Runtime: OpenJDK Runtime Environment\n",
       "JVM: OpenJDK 64-Bit Server VM\n",
       "Default Encoding: UTF-8\n",
       "Language: en\n",
       "Country: null\n",
       "--></g></svg>"
      ]
     },
     "execution_count": 17,
     "metadata": {},
     "output_type": "execute_result"
    }
   ],
   "source": [
    "%viz --style=\"LR\" --view=\"Tree\" \"PartTest\""
   ]
  },
  {
   "cell_type": "code",
   "execution_count": 18,
   "id": "b03e3ebb",
   "metadata": {
    "execution": {
     "iopub.execute_input": "2022-02-05T16:55:43.554103Z",
     "iopub.status.busy": "2022-02-05T16:55:43.553663Z",
     "iopub.status.idle": "2022-02-05T16:55:43.558880Z",
     "shell.execute_reply": "2022-02-05T16:55:43.559201Z"
    }
   },
   "outputs": [
    {
     "data": {
      "image/svg+xml": [
       "<?xml version=\"1.0\" encoding=\"UTF-8\" standalone=\"no\"?><svg xmlns=\"http://www.w3.org/2000/svg\" xmlns:xlink=\"http://www.w3.org/1999/xlink\" contentScriptType=\"application/ecmascript\" contentStyleType=\"text/css\" height=\"12px\" preserveAspectRatio=\"none\" style=\"width:12px;height:12px;\" version=\"1.1\" viewBox=\"0 0 12 12\" width=\"12px\" zoomAndPan=\"magnify\"><defs/><g><!--MD5=[19d285c9d72a204eba4e2cd117d745e8]\n",
       "@startuml\r\n",
       "left to right direction\r\n",
       "skinparam monochrome true\r\n",
       "skinparam classbackgroundcolor white\r\n",
       "skinparam shadowing false\r\n",
       "skinparam wrapWidth 300\r\n",
       "hide circle\r\n",
       "\r\n",
       "@enduml\r\n",
       "\n",
       "PlantUML version 1.2020.13(Sat Jun 13 12:26:38 UTC 2020)\n",
       "(EPL source distribution)\n",
       "Java Runtime: OpenJDK Runtime Environment\n",
       "JVM: OpenJDK 64-Bit Server VM\n",
       "Default Encoding: UTF-8\n",
       "Language: en\n",
       "Country: null\n",
       "--></g></svg>"
      ]
     },
     "execution_count": 18,
     "metadata": {},
     "output_type": "execute_result"
    }
   ],
   "source": [
    "%viz --style=\"LR\" --view=\"State\" \"PartTest\""
   ]
  },
  {
   "cell_type": "code",
   "execution_count": 19,
   "id": "49e06cf3",
   "metadata": {
    "execution": {
     "iopub.execute_input": "2022-02-05T16:55:43.609482Z",
     "iopub.status.busy": "2022-02-05T16:55:43.609069Z",
     "iopub.status.idle": "2022-02-05T16:55:43.649242Z",
     "shell.execute_reply": "2022-02-05T16:55:43.647320Z"
    }
   },
   "outputs": [
    {
     "data": {
      "image/svg+xml": [
       "<?xml version=\"1.0\" encoding=\"UTF-8\" standalone=\"no\"?><svg xmlns=\"http://www.w3.org/2000/svg\" xmlns:xlink=\"http://www.w3.org/1999/xlink\" contentScriptType=\"application/ecmascript\" contentStyleType=\"text/css\" height=\"500px\" preserveAspectRatio=\"none\" style=\"width:349px;height:500px;\" version=\"1.1\" viewBox=\"0 0 349 500\" width=\"349px\" zoomAndPan=\"magnify\"><defs/><g><!--MD5=[fbc87193dbaf4d95561dea2c320d4a47]\n",
       "cluster E1--><a href=\"psysml:c38775ed-c195-45a3-878f-69446059ff99\" target=\"_top\" title=\"psysml:c38775ed-c195-45a3-878f-69446059ff99\" xlink:actuate=\"onRequest\" xlink:href=\"psysml:c38775ed-c195-45a3-878f-69446059ff99\" xlink:show=\"new\" xlink:title=\"psysml:c38775ed-c195-45a3-878f-69446059ff99\" xlink:type=\"simple\"><polygon fill=\"#FFFFFF\" points=\"16,6,80,6,87,28.2969,327,28.2969,327,488,16,488,16,6\" style=\"stroke: #000000; stroke-width: 1.5;\"/><line style=\"stroke: #000000; stroke-width: 1.5;\" x1=\"16\" x2=\"87\" y1=\"28.2969\" y2=\"28.2969\"/><text fill=\"#000000\" font-family=\"sans-serif\" font-size=\"14\" font-weight=\"bold\" lengthAdjust=\"spacingAndGlyphs\" textLength=\"58\" x=\"20\" y=\"20.9951\">PartTest</text></a><!--MD5=[d5e69f78d87373223dbae638b30a9c99]\n",
       "cluster E3--><a href=\"psysml:41a43e73-47d4-427d-aa17-f57a90b2778c\" target=\"_top\" title=\"psysml:41a43e73-47d4-427d-aa17-f57a90b2778c\" xlink:actuate=\"onRequest\" xlink:href=\"psysml:41a43e73-47d4-427d-aa17-f57a90b2778c\" xlink:show=\"new\" xlink:title=\"psysml:41a43e73-47d4-427d-aa17-f57a90b2778c\" xlink:type=\"simple\"><rect fill=\"#FFFFFF\" height=\"153\" id=\"E3\" style=\"stroke: #383838; stroke-width: 1.5;\" width=\"241.5\" x=\"69.5\" y=\"41\"/><rect fill=\"#F8F8F8\" height=\"37.9375\" style=\"stroke: #383838; stroke-width: 1.5;\" width=\"241.5\" x=\"69.5\" y=\"41\"/><text fill=\"#000000\" font-family=\"sans-serif\" font-size=\"12\" font-style=\"italic\" lengthAdjust=\"spacingAndGlyphs\" textLength=\"68\" x=\"156.25\" y=\"57.1387\">«part  def»</text><text fill=\"#000000\" font-family=\"sans-serif\" font-size=\"12\" lengthAdjust=\"spacingAndGlyphs\" textLength=\"8\" x=\"186.25\" y=\"71.1074\">A</text></a><!--MD5=[55dfccfc6c49c2d10cd1bd2211a6c90c]\n",
       "cluster E8--><a href=\"psysml:c17c630d-59e9-4f7e-a520-276041a9c800\" target=\"_top\" title=\"psysml:c17c630d-59e9-4f7e-a520-276041a9c800\" xlink:actuate=\"onRequest\" xlink:href=\"psysml:c17c630d-59e9-4f7e-a520-276041a9c800\" xlink:show=\"new\" xlink:title=\"psysml:c17c630d-59e9-4f7e-a520-276041a9c800\" xlink:type=\"simple\"><rect fill=\"#FFFFFF\" height=\"143\" id=\"E8\" style=\"stroke: #383838; stroke-width: 1.5;\" width=\"220.5\" x=\"69.5\" y=\"202\"/><rect fill=\"#F8F8F8\" height=\"37.9375\" style=\"stroke: #383838; stroke-width: 1.5;\" width=\"220.5\" x=\"69.5\" y=\"202\"/><text fill=\"#000000\" font-family=\"sans-serif\" font-size=\"12\" font-style=\"italic\" lengthAdjust=\"spacingAndGlyphs\" textLength=\"68\" x=\"145.75\" y=\"218.1387\">«part  def»</text><text fill=\"#000000\" font-family=\"sans-serif\" font-size=\"12\" font-style=\"italic\" lengthAdjust=\"spacingAndGlyphs\" textLength=\"8\" x=\"175.75\" y=\"232.1074\">B</text></a><g id=\"E1.E12\"><a href=\"psysml:e209a1f3-de72-4850-a45f-7036acf7c094\" target=\"_top\" title=\"psysml:e209a1f3-de72-4850-a45f-7036acf7c094\" xlink:actuate=\"onRequest\" xlink:href=\"psysml:e209a1f3-de72-4850-a45f-7036acf7c094\" xlink:show=\"new\" xlink:title=\"psysml:e209a1f3-de72-4850-a45f-7036acf7c094\" xlink:type=\"simple\"><rect fill=\"#FFFFFF\" height=\"42.9375\" id=\"E12\" style=\"stroke: #383838; stroke-width: 1.5;\" width=\"75\" x=\"32\" y=\"353.5\"/><rect fill=\"#F8F8F8\" height=\"37.9375\" style=\"stroke: #383838; stroke-width: 1.5;\" width=\"75\" x=\"32\" y=\"353.5\"/><text fill=\"#000000\" font-family=\"sans-serif\" font-size=\"12\" font-style=\"italic\" lengthAdjust=\"spacingAndGlyphs\" textLength=\"68\" x=\"35.5\" y=\"369.6387\">«port  def»</text><text fill=\"#000000\" font-family=\"sans-serif\" font-size=\"12\" lengthAdjust=\"spacingAndGlyphs\" textLength=\"8\" x=\"65.5\" y=\"383.6074\">C</text></a></g><g id=\"E1.E2\"><a href=\"psysml:133b9857-5562-4f09-a022-80109f8d4a7d\" target=\"_top\" title=\"psysml:133b9857-5562-4f09-a022-80109f8d4a7d\" xlink:actuate=\"onRequest\" xlink:href=\"psysml:133b9857-5562-4f09-a022-80109f8d4a7d\" xlink:show=\"new\" xlink:title=\"psysml:133b9857-5562-4f09-a022-80109f8d4a7d\" xlink:type=\"simple\"><rect fill=\"#FFFFFF\" height=\"40\" id=\"E2\" rx=\"10\" ry=\"10\" style=\"stroke: #383838; stroke-width: 1.5;\" width=\"50\" x=\"44.5\" y=\"432\"/><rect fill=\"#F8F8F8\" height=\"23.9688\" rx=\"10\" ry=\"10\" style=\"stroke: #F8F8F8; stroke-width: 1.5;\" width=\"50\" x=\"44.5\" y=\"432\"/><rect fill=\"#F8F8F8\" height=\"10\" style=\"stroke: #F8F8F8; stroke-width: 1.5;\" width=\"50\" x=\"44.5\" y=\"445.9688\"/><rect fill=\"none\" height=\"40\" id=\"E2\" rx=\"10\" ry=\"10\" style=\"stroke: #383838; stroke-width: 1.5;\" width=\"50\" x=\"44.5\" y=\"432\"/><text fill=\"#000000\" font-family=\"sans-serif\" font-size=\"12\" lengthAdjust=\"spacingAndGlyphs\" textLength=\"20\" x=\"59.5\" y=\"448.1387\">f: A</text></a></g><text fill=\"#000000\" font-family=\"sans-serif\" font-size=\"14\" lengthAdjust=\"spacingAndGlyphs\" textLength=\"27\" x=\"54\" y=\"55.6982\">c: C</text><rect fill=\"#383838\" height=\"12\" style=\"stroke: #F8F8F8; stroke-width: 1.5;\" width=\"12\" x=\"63.5\" y=\"71\"/><!--MD5=[60a26617385b1d2d0262a64233df1f8d]\n",
       "class E6--><a href=\"psysml:445f494e-a94c-4fdf-9cc7-f31ccfeaa97f\" target=\"_top\" title=\"psysml:445f494e-a94c-4fdf-9cc7-f31ccfeaa97f\" xlink:actuate=\"onRequest\" xlink:href=\"psysml:445f494e-a94c-4fdf-9cc7-f31ccfeaa97f\" xlink:show=\"new\" xlink:title=\"psysml:445f494e-a94c-4fdf-9cc7-f31ccfeaa97f\" xlink:type=\"simple\"><rect fill=\"#FFFFFF\" height=\"45.9375\" id=\"E6\" rx=\"10\" ry=\"10\" style=\"stroke: #383838; stroke-width: 1.5;\" width=\"71\" x=\"224\" y=\"132\"/><text fill=\"#000000\" font-family=\"sans-serif\" font-size=\"12\" font-style=\"italic\" lengthAdjust=\"spacingAndGlyphs\" textLength=\"69\" x=\"225\" y=\"148.1387\">«attribute»</text><text fill=\"#000000\" font-family=\"sans-serif\" font-size=\"12\" lengthAdjust=\"spacingAndGlyphs\" textLength=\"6\" x=\"254.5\" y=\"162.1074\">x</text><line style=\"stroke: #383838; stroke-width: 1.5;\" x1=\"225\" x2=\"294\" y1=\"169.9375\" y2=\"169.9375\"/></a><!--MD5=[2156ba9850f5573cc1fc38a6a4b2f02b]\n",
       "class E7--><a href=\"psysml:83189ed0-8892-41b6-b657-b7e16a6a2eeb\" target=\"_top\" title=\"psysml:83189ed0-8892-41b6-b657-b7e16a6a2eeb\" xlink:actuate=\"onRequest\" xlink:href=\"psysml:83189ed0-8892-41b6-b657-b7e16a6a2eeb\" xlink:show=\"new\" xlink:title=\"psysml:83189ed0-8892-41b6-b657-b7e16a6a2eeb\" xlink:type=\"simple\"><rect fill=\"#FFFFFF\" height=\"45.9375\" id=\"E7\" rx=\"10\" ry=\"10\" style=\"stroke: #383838; stroke-width: 1.5;\" width=\"71\" x=\"133\" y=\"132\"/><text fill=\"#000000\" font-family=\"sans-serif\" font-size=\"12\" font-style=\"italic\" lengthAdjust=\"spacingAndGlyphs\" textLength=\"69\" x=\"134\" y=\"148.1387\">«attribute»</text><text fill=\"#000000\" font-family=\"sans-serif\" font-size=\"12\" lengthAdjust=\"spacingAndGlyphs\" textLength=\"50\" x=\"143.5\" y=\"162.1074\">y :&gt; A::x</text><line style=\"stroke: #383838; stroke-width: 1.5;\" x1=\"134\" x2=\"203\" y1=\"169.9375\" y2=\"169.9375\"/></a><g id=\"E1.E3.E4\"><a href=\"psysml:23a90af0-4107-4bf0-84ea-ac7115753c4e\" target=\"_top\" title=\"psysml:23a90af0-4107-4bf0-84ea-ac7115753c4e\" xlink:actuate=\"onRequest\" xlink:href=\"psysml:23a90af0-4107-4bf0-84ea-ac7115753c4e\" xlink:show=\"new\" xlink:title=\"psysml:23a90af0-4107-4bf0-84ea-ac7115753c4e\" xlink:type=\"simple\"><rect fill=\"#FFFFFF\" height=\"40\" id=\"E4\" rx=\"10\" ry=\"10\" style=\"stroke: #383838; stroke-width: 1.5;\" width=\"50\" x=\"234.5\" y=\"57\"/><rect fill=\"#F8F8F8\" height=\"23.9688\" rx=\"10\" ry=\"10\" style=\"stroke: #F8F8F8; stroke-width: 1.5;\" width=\"50\" x=\"234.5\" y=\"57\"/><rect fill=\"#F8F8F8\" height=\"10\" style=\"stroke: #F8F8F8; stroke-width: 1.5;\" width=\"50\" x=\"234.5\" y=\"70.9688\"/><rect fill=\"none\" height=\"40\" id=\"E4\" rx=\"10\" ry=\"10\" style=\"stroke: #383838; stroke-width: 1.5;\" width=\"50\" x=\"234.5\" y=\"57\"/><text fill=\"#000000\" font-family=\"sans-serif\" font-size=\"12\" lengthAdjust=\"spacingAndGlyphs\" textLength=\"24\" x=\"247.5\" y=\"73.1387\">b: B</text></a></g><text fill=\"#000000\" font-family=\"sans-serif\" font-size=\"14\" lengthAdjust=\"spacingAndGlyphs\" textLength=\"38\" x=\"48.5\" y=\"214.6982\">x: ~C</text><rect fill=\"#383838\" height=\"12\" style=\"stroke: #F8F8F8; stroke-width: 1.5;\" width=\"12\" x=\"63.5\" y=\"230\"/><g id=\"E1.E8.E9\"><a href=\"psysml:4ea01713-b83a-4578-95eb-e0c0377cf261\" target=\"_top\" title=\"psysml:4ea01713-b83a-4578-95eb-e0c0377cf261\" xlink:actuate=\"onRequest\" xlink:href=\"psysml:4ea01713-b83a-4578-95eb-e0c0377cf261\" xlink:show=\"new\" xlink:title=\"psysml:4ea01713-b83a-4578-95eb-e0c0377cf261\" xlink:type=\"simple\"><rect fill=\"#FFFFFF\" height=\"40\" id=\"E9\" rx=\"10\" ry=\"10\" style=\"stroke: #383838; stroke-width: 1.5;\" width=\"50\" x=\"143.5\" y=\"289\"/><rect fill=\"#F8F8F8\" height=\"23.9688\" rx=\"10\" ry=\"10\" style=\"stroke: #F8F8F8; stroke-width: 1.5;\" width=\"50\" x=\"143.5\" y=\"289\"/><rect fill=\"#F8F8F8\" height=\"10\" style=\"stroke: #F8F8F8; stroke-width: 1.5;\" width=\"50\" x=\"143.5\" y=\"302.9688\"/><rect fill=\"none\" height=\"40\" id=\"E9\" rx=\"10\" ry=\"10\" style=\"stroke: #383838; stroke-width: 1.5;\" width=\"50\" x=\"143.5\" y=\"289\"/><text fill=\"#000000\" font-family=\"sans-serif\" font-size=\"12\" lengthAdjust=\"spacingAndGlyphs\" textLength=\"24\" x=\"156.5\" y=\"305.1387\">a: A</text></a></g><a href=\"psysml:78dea323-2f70-496c-aa91-db5f05f12a10\" target=\"_top\" title=\"psysml:78dea323-2f70-496c-aa91-db5f05f12a10\" xlink:actuate=\"onRequest\" xlink:href=\"psysml:78dea323-2f70-496c-aa91-db5f05f12a10\" xlink:show=\"new\" xlink:title=\"psysml:78dea323-2f70-496c-aa91-db5f05f12a10\" xlink:type=\"simple\"><polygon fill=\"#FFFFFF\" points=\"245,218.5,260,218.5,267,240.7969,274,240.7969,274,271.0938,245,271.0938,245,218.5\" style=\"stroke: #000000; stroke-width: 1.5;\"/><line style=\"stroke: #000000; stroke-width: 1.5;\" x1=\"245\" x2=\"267\" y1=\"240.7969\" y2=\"240.7969\"/><text fill=\"#000000\" font-family=\"sans-serif\" font-size=\"14\" font-weight=\"bold\" lengthAdjust=\"spacingAndGlyphs\" textLength=\"9\" x=\"249\" y=\"233.4951\">P</text></a><!--MD5=[fbb449814971db3a0b8220cf225b9e01]\n",
       "link E7 to E6--><a href=\"psysml:2104b8b7-83c3-4383-b55d-abdf660b6842\" target=\"_top\" title=\"psysml:2104b8b7-83c3-4383-b55d-abdf660b6842\" xlink:actuate=\"onRequest\" xlink:href=\"psysml:2104b8b7-83c3-4383-b55d-abdf660b6842\" xlink:show=\"new\" xlink:title=\"psysml:2104b8b7-83c3-4383-b55d-abdf660b6842\" xlink:type=\"simple\"><path d=\"M204.16,155 C204.27,155 204.37,155 204.47,155 \" fill=\"none\" id=\"E7-&gt;E6\" style=\"stroke: #383838; stroke-width: 1.0;\"/><polygon fill=\"none\" points=\"203.78,148,223.78,155,203.78,162,203.78,148\" style=\"stroke: #383838; stroke-width: 1.0;\"/><line style=\"stroke: #383838; stroke-width: 1.0;\" x1=\"204.16\" x2=\"223.78\" y1=\"155\" y2=\"155\"/></a><!--MD5=[2b26caad4929d87b3e99f48ebdb6d673]\n",
       "@startuml\r\n",
       "skinparam ranksep 10\r\n",
       "skinparam rectangle {\r\n",
       " backgroundColor<<block>> LightGreen\r\n",
       "}\r\n",
       "left to right direction\r\n",
       "skinparam monochrome true\r\n",
       "skinparam classbackgroundcolor white\r\n",
       "skinparam shadowing false\r\n",
       "skinparam wrapWidth 300\r\n",
       "hide circle\r\n",
       "\r\n",
       "package \"PartTest\" as E1  [[psysml:c38775ed-c195-45a3-878f-69446059ff99 ]]  {\r\n",
       "rec usage \"f: A\" as E2  [[psysml:133b9857-5562-4f09-a022-80109f8d4a7d ]] {\r\n",
       "}\r\n",
       "rec def \"A\" as E3  <<(T,blue) part  def>> [[psysml:41a43e73-47d4-427d-aa17-f57a90b2778c ]] {\r\n",
       "rec usage \"b: B\" as E4  [[psysml:23a90af0-4107-4bf0-84ea-ac7115753c4e ]] {\r\n",
       "}\r\n",
       "portin \"c: C \" as E5  <<(T,blue) port>> [[psysml:3bde4e3d-0323-4342-8ecc-6f2c3dab5224 ]] \r\n",
       "comp usage \"x \" as E6  <<(T,blue) attribute>> [[psysml:445f494e-a94c-4fdf-9cc7-f31ccfeaa97f ]] {\r\n",
       "}\r\n",
       "comp usage \"y :> A::x\" as E7  <<(T,blue) attribute>> [[psysml:83189ed0-8892-41b6-b657-b7e16a6a2eeb ]] {\r\n",
       "}\r\n",
       "}\r\n",
       "rec def \"<i>B</i>\" as E8  <<(T,blue) part  def>> [[psysml:c17c630d-59e9-4f7e-a520-276041a9c800 ]] {\r\n",
       "rec usage \"a: A\" as E9  [[psysml:4ea01713-b83a-4578-95eb-e0c0377cf261 ]] {\r\n",
       "}\r\n",
       "portin \"x: ~C \" as E10  <<(T,blue) port>> [[psysml:c9f90055-486d-4326-9691-bfe47f710c68 ]] \r\n",
       "package \"P\" as E11  [[psysml:78dea323-2f70-496c-aa91-db5f05f12a10 ]]  {\r\n",
       "}\r\n",
       "}\r\n",
       "def \"C\" as E12  <<(T,blue) port  def>> [[psysml:e209a1f3-de72-4850-a45f-7036acf7c094 ]] \r\n",
       "}\r\n",
       "E7 - -|> E6 [[psysml:2104b8b7-83c3-4383-b55d-abdf660b6842 ]] \r\n",
       "@enduml\r\n",
       "\n",
       "PlantUML version 1.2020.13(Sat Jun 13 12:26:38 UTC 2020)\n",
       "(EPL source distribution)\n",
       "Java Runtime: OpenJDK Runtime Environment\n",
       "JVM: OpenJDK 64-Bit Server VM\n",
       "Default Encoding: UTF-8\n",
       "Language: en\n",
       "Country: null\n",
       "--></g></svg>"
      ]
     },
     "execution_count": 19,
     "metadata": {},
     "output_type": "execute_result"
    }
   ],
   "source": [
    "%viz --style=\"LR\" --view=\"Interconnection\" \"PartTest\""
   ]
  },
  {
   "cell_type": "code",
   "execution_count": 20,
   "id": "d6a7930f",
   "metadata": {
    "execution": {
     "iopub.execute_input": "2022-02-05T16:55:43.697821Z",
     "iopub.status.busy": "2022-02-05T16:55:43.697530Z",
     "iopub.status.idle": "2022-02-05T16:55:43.703125Z",
     "shell.execute_reply": "2022-02-05T16:55:43.703634Z"
    }
   },
   "outputs": [
    {
     "data": {
      "image/svg+xml": [
       "<?xml version=\"1.0\" encoding=\"UTF-8\" standalone=\"no\"?><svg xmlns=\"http://www.w3.org/2000/svg\" xmlns:xlink=\"http://www.w3.org/1999/xlink\" contentScriptType=\"application/ecmascript\" contentStyleType=\"text/css\" height=\"12px\" preserveAspectRatio=\"none\" style=\"width:12px;height:12px;\" version=\"1.1\" viewBox=\"0 0 12 12\" width=\"12px\" zoomAndPan=\"magnify\"><defs/><g><!--MD5=[7aeb398939421629f6affaa4a1a7b125]\n",
       "@startuml\r\n",
       "skinparam ranksep 8\r\n",
       "left to right direction\r\n",
       "skinparam monochrome true\r\n",
       "skinparam classbackgroundcolor white\r\n",
       "skinparam shadowing false\r\n",
       "skinparam wrapWidth 300\r\n",
       "hide circle\r\n",
       "\r\n",
       "@enduml\r\n",
       "\n",
       "PlantUML version 1.2020.13(Sat Jun 13 12:26:38 UTC 2020)\n",
       "(EPL source distribution)\n",
       "Java Runtime: OpenJDK Runtime Environment\n",
       "JVM: OpenJDK 64-Bit Server VM\n",
       "Default Encoding: UTF-8\n",
       "Language: en\n",
       "Country: null\n",
       "--></g></svg>"
      ]
     },
     "execution_count": 20,
     "metadata": {},
     "output_type": "execute_result"
    }
   ],
   "source": [
    "%viz --style=\"LR\" --view=\"Action\" \"PartTest\""
   ]
  },
  {
   "cell_type": "code",
   "execution_count": 21,
   "id": "8a2334b5",
   "metadata": {
    "execution": {
     "iopub.execute_input": "2022-02-05T16:55:43.752756Z",
     "iopub.status.busy": "2022-02-05T16:55:43.752536Z",
     "iopub.status.idle": "2022-02-05T16:55:43.756976Z",
     "shell.execute_reply": "2022-02-05T16:55:43.757138Z"
    }
   },
   "outputs": [
    {
     "data": {
      "image/svg+xml": [
       "<?xml version=\"1.0\" encoding=\"UTF-8\" standalone=\"no\"?><svg xmlns=\"http://www.w3.org/2000/svg\" xmlns:xlink=\"http://www.w3.org/1999/xlink\" contentScriptType=\"application/ecmascript\" contentStyleType=\"text/css\" height=\"12px\" preserveAspectRatio=\"none\" style=\"width:12px;height:12px;\" version=\"1.1\" viewBox=\"0 0 12 12\" width=\"12px\" zoomAndPan=\"magnify\"><defs/><g><!--MD5=[238c11ea2002f03115ad6b49a457d50e]\n",
       "@startuml\r\n",
       "skinparam roundcorner 20\r\n",
       "skinparam BoxPadding 20\r\n",
       "skinparam SequenceBoxBackgroundColor #white\r\n",
       "skinparam style strictuml\r\n",
       "skinparam maxMessageSize 100\r\n",
       "left to right direction\r\n",
       "skinparam monochrome true\r\n",
       "skinparam classbackgroundcolor white\r\n",
       "skinparam shadowing false\r\n",
       "skinparam wrapWidth 300\r\n",
       "hide circle\r\n",
       "\r\n",
       "@enduml\r\n",
       "\n",
       "PlantUML version 1.2020.13(Sat Jun 13 12:26:38 UTC 2020)\n",
       "(EPL source distribution)\n",
       "Java Runtime: OpenJDK Runtime Environment\n",
       "JVM: OpenJDK 64-Bit Server VM\n",
       "Default Encoding: UTF-8\n",
       "Language: en\n",
       "Country: null\n",
       "--></g></svg>"
      ]
     },
     "execution_count": 21,
     "metadata": {},
     "output_type": "execute_result"
    }
   ],
   "source": [
    "%viz --style=\"LR\" --view=\"Sequence\" \"PartTest\""
   ]
  },
  {
   "cell_type": "code",
   "execution_count": 22,
   "id": "e29eb516",
   "metadata": {
    "execution": {
     "iopub.execute_input": "2022-02-05T16:55:43.807733Z",
     "iopub.status.busy": "2022-02-05T16:55:43.807401Z",
     "iopub.status.idle": "2022-02-05T16:55:43.873746Z",
     "shell.execute_reply": "2022-02-05T16:55:43.872883Z"
    }
   },
   "outputs": [
    {
     "data": {
      "image/svg+xml": [
       "<?xml version=\"1.0\" encoding=\"UTF-8\" standalone=\"no\"?><svg xmlns=\"http://www.w3.org/2000/svg\" xmlns:xlink=\"http://www.w3.org/1999/xlink\" contentScriptType=\"application/ecmascript\" contentStyleType=\"text/css\" height=\"450px\" preserveAspectRatio=\"none\" style=\"width:760px;height:450px;\" version=\"1.1\" viewBox=\"0 0 760 450\" width=\"760px\" zoomAndPan=\"magnify\"><defs/><g><!--MD5=[fbc87193dbaf4d95561dea2c320d4a47]\n",
       "cluster E1--><a href=\"psysml:c38775ed-c195-45a3-878f-69446059ff99\" target=\"_top\" title=\"psysml:c38775ed-c195-45a3-878f-69446059ff99\" xlink:actuate=\"onRequest\" xlink:href=\"psysml:c38775ed-c195-45a3-878f-69446059ff99\" xlink:show=\"new\" xlink:title=\"psysml:c38775ed-c195-45a3-878f-69446059ff99\" xlink:type=\"simple\"><polygon fill=\"#FFFFFF\" points=\"16,6,80,6,87,28.2969,738,28.2969,738,438,16,438,16,6\" style=\"stroke: #000000; stroke-width: 1.5;\"/><line style=\"stroke: #000000; stroke-width: 1.5;\" x1=\"16\" x2=\"87\" y1=\"28.2969\" y2=\"28.2969\"/><text fill=\"#000000\" font-family=\"sans-serif\" font-size=\"14\" font-weight=\"bold\" lengthAdjust=\"spacingAndGlyphs\" textLength=\"58\" x=\"20\" y=\"20.9951\">PartTest</text></a><!--MD5=[b4997ac47864f28c2f74865a473b2911]\n",
       "class E2--><a href=\"psysml:133b9857-5562-4f09-a022-80109f8d4a7d\" target=\"_top\" title=\"psysml:133b9857-5562-4f09-a022-80109f8d4a7d\" xlink:actuate=\"onRequest\" xlink:href=\"psysml:133b9857-5562-4f09-a022-80109f8d4a7d\" xlink:show=\"new\" xlink:title=\"psysml:133b9857-5562-4f09-a022-80109f8d4a7d\" xlink:type=\"simple\"><rect fill=\"#FFFFFF\" height=\"45.9375\" id=\"E2\" rx=\"10\" ry=\"10\" style=\"stroke: #383838; stroke-width: 1.5;\" width=\"42\" x=\"32\" y=\"197\"/><text fill=\"#000000\" font-family=\"sans-serif\" font-size=\"12\" font-style=\"italic\" lengthAdjust=\"spacingAndGlyphs\" textLength=\"40\" x=\"33\" y=\"213.1387\">«part»</text><text fill=\"#000000\" font-family=\"sans-serif\" font-size=\"12\" lengthAdjust=\"spacingAndGlyphs\" textLength=\"20\" x=\"41\" y=\"227.1074\">f: A</text><line style=\"stroke: #383838; stroke-width: 1.5;\" x1=\"33\" x2=\"73\" y1=\"234.9375\" y2=\"234.9375\"/></a><!--MD5=[09b614a08d8cba4a07c9adeb5e0fee81]\n",
       "class E3--><a href=\"psysml:41a43e73-47d4-427d-aa17-f57a90b2778c\" target=\"_top\" title=\"psysml:41a43e73-47d4-427d-aa17-f57a90b2778c\" xlink:actuate=\"onRequest\" xlink:href=\"psysml:41a43e73-47d4-427d-aa17-f57a90b2778c\" xlink:show=\"new\" xlink:title=\"psysml:41a43e73-47d4-427d-aa17-f57a90b2778c\" xlink:type=\"simple\"><rect fill=\"#FFFFFF\" height=\"88.3516\" id=\"E3\" style=\"stroke: #383838; stroke-width: 1.5;\" width=\"70\" x=\"135\" y=\"176\"/><text fill=\"#000000\" font-family=\"sans-serif\" font-size=\"12\" font-style=\"italic\" lengthAdjust=\"spacingAndGlyphs\" textLength=\"68\" x=\"136\" y=\"192.1387\">«part  def»</text><text fill=\"#000000\" font-family=\"sans-serif\" font-size=\"12\" lengthAdjust=\"spacingAndGlyphs\" textLength=\"8\" x=\"166\" y=\"206.1074\">A</text><line style=\"stroke: #383838; stroke-width: 1.5;\" x1=\"136\" x2=\"204\" y1=\"213.9375\" y2=\"213.9375\"/><text fill=\"#000000\" font-family=\"sans-serif\" font-size=\"11\" lengthAdjust=\"spacingAndGlyphs\" textLength=\"6\" x=\"141\" y=\"244.9526\">x</text><text fill=\"#000000\" font-family=\"sans-serif\" font-size=\"11\" lengthAdjust=\"spacingAndGlyphs\" textLength=\"44\" x=\"141\" y=\"257.7573\">y:&gt; A::x</text><line style=\"stroke: #383838; stroke-width: 1.0;\" x1=\"136\" x2=\"142.5\" y1=\"228.3398\" y2=\"228.3398\"/><text fill=\"#000000\" font-family=\"sans-serif\" font-size=\"11\" lengthAdjust=\"spacingAndGlyphs\" textLength=\"55\" x=\"142.5\" y=\"231.6479\">attributes</text><line style=\"stroke: #383838; stroke-width: 1.0;\" x1=\"197.5\" x2=\"204\" y1=\"228.3398\" y2=\"228.3398\"/></a><!--MD5=[ebbe1d658d1005bcc118a6aa81145e00]\n",
       "class E4--><a href=\"psysml:23a90af0-4107-4bf0-84ea-ac7115753c4e\" target=\"_top\" title=\"psysml:23a90af0-4107-4bf0-84ea-ac7115753c4e\" xlink:actuate=\"onRequest\" xlink:href=\"psysml:23a90af0-4107-4bf0-84ea-ac7115753c4e\" xlink:show=\"new\" xlink:title=\"psysml:23a90af0-4107-4bf0-84ea-ac7115753c4e\" xlink:type=\"simple\"><rect fill=\"#FFFFFF\" height=\"45.9375\" id=\"E4\" rx=\"10\" ry=\"10\" style=\"stroke: #383838; stroke-width: 1.5;\" width=\"42\" x=\"338\" y=\"62\"/><text fill=\"#000000\" font-family=\"sans-serif\" font-size=\"12\" font-style=\"italic\" lengthAdjust=\"spacingAndGlyphs\" textLength=\"40\" x=\"339\" y=\"78.1387\">«part»</text><text fill=\"#000000\" font-family=\"sans-serif\" font-size=\"12\" lengthAdjust=\"spacingAndGlyphs\" textLength=\"24\" x=\"345\" y=\"92.1074\">b: B</text><line style=\"stroke: #383838; stroke-width: 1.5;\" x1=\"339\" x2=\"379\" y1=\"99.9375\" y2=\"99.9375\"/></a><!--MD5=[270fce915f116d4de14055a7c1d9a0f3]\n",
       "class E5--><a href=\"psysml:3bde4e3d-0323-4342-8ecc-6f2c3dab5224\" target=\"_top\" title=\"psysml:3bde4e3d-0323-4342-8ecc-6f2c3dab5224\" xlink:actuate=\"onRequest\" xlink:href=\"psysml:3bde4e3d-0323-4342-8ecc-6f2c3dab5224\" xlink:show=\"new\" xlink:title=\"psysml:3bde4e3d-0323-4342-8ecc-6f2c3dab5224\" xlink:type=\"simple\"><rect fill=\"#FFFFFF\" height=\"45.9375\" id=\"E5\" rx=\"10\" ry=\"10\" style=\"stroke: #383838; stroke-width: 1.5;\" width=\"42\" x=\"266\" y=\"78\"/><text fill=\"#000000\" font-family=\"sans-serif\" font-size=\"12\" font-style=\"italic\" lengthAdjust=\"spacingAndGlyphs\" textLength=\"40\" x=\"267\" y=\"94.1387\">«port»</text><text fill=\"#000000\" font-family=\"sans-serif\" font-size=\"12\" lengthAdjust=\"spacingAndGlyphs\" textLength=\"23\" x=\"273.5\" y=\"108.1074\">c: C</text><line style=\"stroke: #383838; stroke-width: 1.5;\" x1=\"267\" x2=\"307\" y1=\"115.9375\" y2=\"115.9375\"/></a><!--MD5=[60a26617385b1d2d0262a64233df1f8d]\n",
       "class E6--><a href=\"psysml:c17c630d-59e9-4f7e-a520-276041a9c800\" target=\"_top\" title=\"psysml:c17c630d-59e9-4f7e-a520-276041a9c800\" xlink:actuate=\"onRequest\" xlink:href=\"psysml:c17c630d-59e9-4f7e-a520-276041a9c800\" xlink:show=\"new\" xlink:title=\"psysml:c17c630d-59e9-4f7e-a520-276041a9c800\" xlink:type=\"simple\"><rect fill=\"#FFFFFF\" height=\"45.9375\" id=\"E6\" style=\"stroke: #383838; stroke-width: 1.5;\" width=\"70\" x=\"549\" y=\"223\"/><text fill=\"#000000\" font-family=\"sans-serif\" font-size=\"12\" font-style=\"italic\" lengthAdjust=\"spacingAndGlyphs\" textLength=\"68\" x=\"550\" y=\"239.1387\">«part  def»</text><text fill=\"#000000\" font-family=\"sans-serif\" font-size=\"12\" font-style=\"italic\" lengthAdjust=\"spacingAndGlyphs\" textLength=\"8\" x=\"580\" y=\"253.1074\">B</text><line style=\"stroke: #383838; stroke-width: 1.5;\" x1=\"550\" x2=\"618\" y1=\"260.9375\" y2=\"260.9375\"/></a><!--MD5=[2156ba9850f5573cc1fc38a6a4b2f02b]\n",
       "class E7--><a href=\"psysml:4ea01713-b83a-4578-95eb-e0c0377cf261\" target=\"_top\" title=\"psysml:4ea01713-b83a-4578-95eb-e0c0377cf261\" xlink:actuate=\"onRequest\" xlink:href=\"psysml:4ea01713-b83a-4578-95eb-e0c0377cf261\" xlink:show=\"new\" xlink:title=\"psysml:4ea01713-b83a-4578-95eb-e0c0377cf261\" xlink:type=\"simple\"><rect fill=\"#FFFFFF\" height=\"45.9375\" id=\"E7\" rx=\"10\" ry=\"10\" style=\"stroke: #383838; stroke-width: 1.5;\" width=\"42\" x=\"680\" y=\"354\"/><text fill=\"#000000\" font-family=\"sans-serif\" font-size=\"12\" font-style=\"italic\" lengthAdjust=\"spacingAndGlyphs\" textLength=\"40\" x=\"681\" y=\"370.1387\">«part»</text><text fill=\"#000000\" font-family=\"sans-serif\" font-size=\"12\" font-style=\"italic\" lengthAdjust=\"spacingAndGlyphs\" textLength=\"8\" x=\"687\" y=\"384.1074\">a</text><text fill=\"#000000\" font-family=\"sans-serif\" font-size=\"12\" lengthAdjust=\"spacingAndGlyphs\" textLength=\"16\" x=\"695\" y=\"384.1074\">: A</text><line style=\"stroke: #383838; stroke-width: 1.5;\" x1=\"681\" x2=\"721\" y1=\"391.9375\" y2=\"391.9375\"/></a><!--MD5=[b9389687b975829384b498ac4b7476b2]\n",
       "class E8--><a href=\"psysml:c9f90055-486d-4326-9691-bfe47f710c68\" target=\"_top\" title=\"psysml:c9f90055-486d-4326-9691-bfe47f710c68\" xlink:actuate=\"onRequest\" xlink:href=\"psysml:c9f90055-486d-4326-9691-bfe47f710c68\" xlink:show=\"new\" xlink:title=\"psysml:c9f90055-486d-4326-9691-bfe47f710c68\" xlink:type=\"simple\"><rect fill=\"#FFFFFF\" height=\"45.9375\" id=\"E8\" rx=\"10\" ry=\"10\" style=\"stroke: #383838; stroke-width: 1.5;\" width=\"42\" x=\"680\" y=\"173\"/><text fill=\"#000000\" font-family=\"sans-serif\" font-size=\"12\" font-style=\"italic\" lengthAdjust=\"spacingAndGlyphs\" textLength=\"40\" x=\"681\" y=\"189.1387\">«port»</text><text fill=\"#000000\" font-family=\"sans-serif\" font-size=\"12\" lengthAdjust=\"spacingAndGlyphs\" textLength=\"32\" x=\"683\" y=\"203.1074\">x: ~C</text><line style=\"stroke: #383838; stroke-width: 1.5;\" x1=\"681\" x2=\"721\" y1=\"210.9375\" y2=\"210.9375\"/></a><!--MD5=[96f4274e9e20536e775497830990834d]\n",
       "class E10--><a href=\"psysml:e209a1f3-de72-4850-a45f-7036acf7c094\" target=\"_top\" title=\"psysml:e209a1f3-de72-4850-a45f-7036acf7c094\" xlink:actuate=\"onRequest\" xlink:href=\"psysml:e209a1f3-de72-4850-a45f-7036acf7c094\" xlink:show=\"new\" xlink:title=\"psysml:e209a1f3-de72-4850-a45f-7036acf7c094\" xlink:type=\"simple\"><rect fill=\"#FFFFFF\" height=\"45.9375\" id=\"E10\" style=\"stroke: #383838; stroke-width: 1.5;\" width=\"70\" x=\"410\" y=\"223\"/><text fill=\"#000000\" font-family=\"sans-serif\" font-size=\"12\" font-style=\"italic\" lengthAdjust=\"spacingAndGlyphs\" textLength=\"68\" x=\"411\" y=\"239.1387\">«port  def»</text><text fill=\"#000000\" font-family=\"sans-serif\" font-size=\"12\" lengthAdjust=\"spacingAndGlyphs\" textLength=\"8\" x=\"441\" y=\"253.1074\">C</text><line style=\"stroke: #383838; stroke-width: 1.5;\" x1=\"411\" x2=\"479\" y1=\"260.9375\" y2=\"260.9375\"/></a><a href=\"psysml:78dea323-2f70-496c-aa91-db5f05f12a10\" target=\"_top\" title=\"psysml:78dea323-2f70-496c-aa91-db5f05f12a10\" xlink:actuate=\"onRequest\" xlink:href=\"psysml:78dea323-2f70-496c-aa91-db5f05f12a10\" xlink:show=\"new\" xlink:title=\"psysml:78dea323-2f70-496c-aa91-db5f05f12a10\" xlink:type=\"simple\"><polygon fill=\"#FFFFFF\" points=\"686.5,254.5,701.5,254.5,708.5,276.7969,715.5,276.7969,715.5,307.0938,686.5,307.0938,686.5,254.5\" style=\"stroke: #000000; stroke-width: 1.5;\"/><line style=\"stroke: #000000; stroke-width: 1.5;\" x1=\"686.5\" x2=\"708.5\" y1=\"276.7969\" y2=\"276.7969\"/><text fill=\"#000000\" font-family=\"sans-serif\" font-size=\"14\" font-weight=\"bold\" lengthAdjust=\"spacingAndGlyphs\" textLength=\"9\" x=\"690.5\" y=\"269.4951\">P</text></a><!--MD5=[2720a5a1f2c3fca2055b230370638851]\n",
       "link E2 to E3--><a href=\"psysml:de99b855-827b-4779-9c99-7b4326eef43f\" target=\"_top\" title=\"psysml:de99b855-827b-4779-9c99-7b4326eef43f\" xlink:actuate=\"onRequest\" xlink:href=\"psysml:de99b855-827b-4779-9c99-7b4326eef43f\" xlink:show=\"new\" xlink:title=\"psysml:de99b855-827b-4779-9c99-7b4326eef43f\" xlink:type=\"simple\"><path d=\"M74.03,220 C85.34,220 100.07,220 114.54,220 \" fill=\"none\" id=\"E2-&gt;E3\" style=\"stroke: #383838; stroke-width: 1.0;\"/><polygon fill=\"#FFFFFF\" points=\"134.79,220,115.79,227,115.79,213,134.79,220\" style=\"stroke: #383838; stroke-width: 1.0;\"/><ellipse cx=\"110.09\" cy=\"225\" fill=\"#383838\" rx=\"2\" ry=\"2\" style=\"stroke: #383838; stroke-width: 1.0;\"/><ellipse cx=\"110.09\" cy=\"215\" fill=\"#383838\" rx=\"2\" ry=\"2\" style=\"stroke: #383838; stroke-width: 1.0;\"/></a><!--MD5=[4672eba38e49728da53d11aeb285b987]\n",
       "reverse link E3 to E4--><a href=\"psysml:7d143534-3389-4013-881e-42b16664757f\" target=\"_top\" title=\"psysml:7d143534-3389-4013-881e-42b16664757f\" xlink:actuate=\"onRequest\" xlink:href=\"psysml:7d143534-3389-4013-881e-42b16664757f\" xlink:show=\"new\" xlink:title=\"psysml:7d143534-3389-4013-881e-42b16664757f\" xlink:type=\"simple\"><path d=\"M188.33,163.22 C202.76,126.67 227.32,82.02 266,60 C288.73,47.06 318.45,59.62 337.87,71.13 \" fill=\"none\" id=\"E3&lt;-E4\" style=\"stroke: #383838; stroke-width: 1.0;\"/><polygon fill=\"#383838\" points=\"183.63,175.76,189.4799,171.5435,187.8377,164.5219,181.9878,168.7384,183.63,175.76\" style=\"stroke: #383838; stroke-width: 1.0;\"/><text fill=\"#000000\" font-family=\"sans-serif\" font-size=\"13\" lengthAdjust=\"spacingAndGlyphs\" textLength=\"8\" x=\"321.8598\" y=\"81.1976\">1</text></a><!--MD5=[191cde3d490a3f6d7bb551fe3ddca469]\n",
       "reverse link E3 to E5--><a href=\"psysml:01061be5-5fdc-439c-afe5-881fb8746c83\" target=\"_top\" title=\"psysml:01061be5-5fdc-439c-afe5-881fb8746c83\" xlink:actuate=\"onRequest\" xlink:href=\"psysml:01061be5-5fdc-439c-afe5-881fb8746c83\" xlink:show=\"new\" xlink:title=\"psysml:01061be5-5fdc-439c-afe5-881fb8746c83\" xlink:type=\"simple\"><path d=\"M214.23,175.27 C231.93,156.96 251.54,136.65 265.79,121.91 \" fill=\"none\" id=\"E3&lt;-E5\" style=\"stroke: #383838; stroke-width: 1.0;\"/><polygon fill=\"#FFFFFF\" points=\"205.19,184.62,212.2347,183.0797,213.5223,175.9845,206.4776,177.5248,205.19,184.62\" style=\"stroke: #383838; stroke-width: 1.0;\"/><text fill=\"#000000\" font-family=\"sans-serif\" font-size=\"13\" lengthAdjust=\"spacingAndGlyphs\" textLength=\"8\" x=\"250.0694\" y=\"142.7074\">1</text></a><!--MD5=[79568f1e445c3877b6a54524624ccc7d]\n",
       "link E4 to E6--><a href=\"psysml:8d11eaae-af32-434c-8c3d-32f92418f4c8\" target=\"_top\" title=\"psysml:8d11eaae-af32-434c-8c3d-32f92418f4c8\" xlink:actuate=\"onRequest\" xlink:href=\"psysml:8d11eaae-af32-434c-8c3d-32f92418f4c8\" xlink:show=\"new\" xlink:title=\"psysml:8d11eaae-af32-434c-8c3d-32f92418f4c8\" xlink:type=\"simple\"><path d=\"M380.18,99.57 C414.83,124.58 486.52,176.34 534.7,211.13 \" fill=\"none\" id=\"E4-&gt;E6\" style=\"stroke: #383838; stroke-width: 1.0;\"/><polygon fill=\"#FFFFFF\" points=\"550.97,222.88,531.4664,217.4386,539.6585,206.0857,550.97,222.88\" style=\"stroke: #383838; stroke-width: 1.0;\"/><ellipse cx=\"528.0144\" cy=\"212.4814\" fill=\"#383838\" rx=\"2\" ry=\"2\" style=\"stroke: #383838; stroke-width: 1.0;\"/><ellipse cx=\"533.8659\" cy=\"204.3721\" fill=\"#383838\" rx=\"2\" ry=\"2\" style=\"stroke: #383838; stroke-width: 1.0;\"/></a><!--MD5=[3f50a3473f1dfb74d3f76443e03635af]\n",
       "reverse link E6 to E7--><a href=\"psysml:7466bf8a-1e84-4b05-9901-ce46ee446fa5\" target=\"_top\" title=\"psysml:7466bf8a-1e84-4b05-9901-ce46ee446fa5\" xlink:actuate=\"onRequest\" xlink:href=\"psysml:7466bf8a-1e84-4b05-9901-ce46ee446fa5\" xlink:show=\"new\" xlink:title=\"psysml:7466bf8a-1e84-4b05-9901-ce46ee446fa5\" xlink:type=\"simple\"><path d=\"M613.95,278.98 C634.54,302.43 661.66,333.33 679.91,354.11 \" fill=\"none\" id=\"E6&lt;-E7\" style=\"stroke: #383838; stroke-width: 1.0;\"/><polygon fill=\"#383838\" points=\"605.29,269.12,606.2396,276.2683,613.2033,278.1411,612.2537,270.9928,605.29,269.12\" style=\"stroke: #383838; stroke-width: 1.0;\"/><text fill=\"#000000\" font-family=\"sans-serif\" font-size=\"13\" lengthAdjust=\"spacingAndGlyphs\" textLength=\"8\" x=\"663.9126\" y=\"361.3025\">1</text></a><!--MD5=[14ccda38c055a5c0da953d572bc50960]\n",
       "link E7 to E3--><a href=\"psysml:3c280f0c-0d5e-48e6-b009-cbd7db9e9beb\" target=\"_top\" title=\"psysml:3c280f0c-0d5e-48e6-b009-cbd7db9e9beb\" xlink:actuate=\"onRequest\" xlink:href=\"psysml:3c280f0c-0d5e-48e6-b009-cbd7db9e9beb\" xlink:show=\"new\" xlink:title=\"psysml:3c280f0c-0d5e-48e6-b009-cbd7db9e9beb\" xlink:type=\"simple\"><path d=\"M679.7,389.96 C657.39,402.94 620.06,421 585,421 C286,421 286,421 286,421 C221.81,421 192.95,342.8 180.33,283.96 \" fill=\"none\" id=\"E7-&gt;E3\" style=\"stroke: #383838; stroke-width: 1.0;\"/><polygon fill=\"#FFFFFF\" points=\"176.51,264.11,186.967,281.4493,173.2181,284.0891,176.51,264.11\" style=\"stroke: #383838; stroke-width: 1.0;\"/><ellipse cx=\"186.0776\" cy=\"287.4242\" fill=\"#383838\" rx=\"2\" ry=\"2\" style=\"stroke: #383838; stroke-width: 1.0;\"/><ellipse cx=\"176.257\" cy=\"289.3097\" fill=\"#383838\" rx=\"2\" ry=\"2\" style=\"stroke: #383838; stroke-width: 1.0;\"/></a><!--MD5=[f4cf0736d43fd73c4ef68817c49d37d5]\n",
       "reverse link E6 to E8--><a href=\"psysml:dcb35f57-14cb-4e2c-8543-9245438ead5d\" target=\"_top\" title=\"psysml:dcb35f57-14cb-4e2c-8543-9245438ead5d\" xlink:actuate=\"onRequest\" xlink:href=\"psysml:dcb35f57-14cb-4e2c-8543-9245438ead5d\" xlink:show=\"new\" xlink:title=\"psysml:dcb35f57-14cb-4e2c-8543-9245438ead5d\" xlink:type=\"simple\"><path d=\"M631.17,225.93 C648.07,218.58 666.33,210.64 679.79,204.79 \" fill=\"none\" id=\"E6&lt;-E8\" style=\"stroke: #383838; stroke-width: 1.0;\"/><polygon fill=\"#FFFFFF\" points=\"619.19,231.13,626.2878,232.4031,630.193,226.3409,623.0951,225.0678,619.19,231.13\" style=\"stroke: #383838; stroke-width: 1.0;\"/><text fill=\"#000000\" font-family=\"sans-serif\" font-size=\"13\" lengthAdjust=\"spacingAndGlyphs\" textLength=\"8\" x=\"664.0694\" y=\"221.8756\">1</text></a><!--MD5=[e88d06e5a652d73a6b19930eefe025a8]\n",
       "reverse link E6 to E9--><a href=\"psysml:08766104-19a0-4aca-bf35-b4c81b8c6dcb\" target=\"_top\" title=\"psysml:08766104-19a0-4aca-bf35-b4c81b8c6dcb\" xlink:actuate=\"onRequest\" xlink:href=\"psysml:08766104-19a0-4aca-bf35-b4c81b8c6dcb\" xlink:show=\"new\" xlink:title=\"psysml:08766104-19a0-4aca-bf35-b4c81b8c6dcb\" xlink:type=\"simple\"><path d=\"M633.76,260.84 C652.89,266.66 673.35,272.89 686.39,276.86 \" fill=\"none\" id=\"E6&lt;-E9\" style=\"stroke: #383838; stroke-width: 1.0;\"/><ellipse cx=\"626.8431\" cy=\"258.7402\" fill=\"#FFFFFF\" rx=\"8\" ry=\"8\" style=\"stroke: #383838; stroke-width: 1.0;\"/><line style=\"stroke: #383838; stroke-width: 1.0;\" x1=\"634.4962\" x2=\"619.19\" y1=\"261.0704\" y2=\"256.41\"/><line style=\"stroke: #383838; stroke-width: 1.0;\" x1=\"624.5129\" x2=\"629.1733\" y1=\"266.3933\" y2=\"251.0871\"/></a><!--MD5=[f78a29d5932556fa1060671a2a6507d8]\n",
       "link E5 to E10--><a href=\"psysml:568ef262-b92a-4cba-8a4b-19f4a197db7e\" target=\"_top\" title=\"psysml:568ef262-b92a-4cba-8a4b-19f4a197db7e\" xlink:actuate=\"onRequest\" xlink:href=\"psysml:568ef262-b92a-4cba-8a4b-19f4a197db7e\" xlink:show=\"new\" xlink:title=\"psysml:568ef262-b92a-4cba-8a4b-19f4a197db7e\" xlink:type=\"simple\"><path d=\"M308.19,113.24 C327.66,125.54 357.4,145.69 380,167 C392.73,179.01 405.2,193.56 415.7,206.89 \" fill=\"none\" id=\"E5-&gt;E10\" style=\"stroke: #383838; stroke-width: 1.0;\"/><polygon fill=\"#FFFFFF\" points=\"427.82,222.83,410.7528,211.9346,421.901,203.466,427.82,222.83\" style=\"stroke: #383838; stroke-width: 1.0;\"/><ellipse cx=\"408.8974\" cy=\"206.1859\" fill=\"#383838\" rx=\"2\" ry=\"2\" style=\"stroke: #383838; stroke-width: 1.0;\"/><ellipse cx=\"416.8604\" cy=\"200.1369\" fill=\"#383838\" rx=\"2\" ry=\"2\" style=\"stroke: #383838; stroke-width: 1.0;\"/></a><!--MD5=[8e04057e7b3cbc0dca4fc78ea351e2da]\n",
       "reverse link E10 to E3--><a href=\"psysml:f2bac2b1-68d1-4631-bf1f-fa6cff2f703f\" target=\"_top\" title=\"psysml:f2bac2b1-68d1-4631-bf1f-fa6cff2f703f\" xlink:actuate=\"onRequest\" xlink:href=\"psysml:f2bac2b1-68d1-4631-bf1f-fa6cff2f703f\" xlink:show=\"new\" xlink:title=\"psysml:f2bac2b1-68d1-4631-bf1f-fa6cff2f703f\" xlink:type=\"simple\"><path d=\"M410.74,277.62 C374.96,307.61 316.39,345.07 266,323 C238.37,310.9 215.22,286.35 198.69,264.26 \" fill=\"none\" id=\"E10&lt;-E3\" style=\"stroke: #383838; stroke-width: 1.0;\"/><polygon fill=\"#FFFFFF\" points=\"420.64,269.02,413.4859,269.9252,411.57,276.8772,418.724,275.9719,420.64,269.02\" style=\"stroke: #383838; stroke-width: 1.0;\"/><text fill=\"#000000\" font-family=\"sans-serif\" font-size=\"13\" lengthAdjust=\"spacingAndGlyphs\" textLength=\"7\" x=\"283.5\" y=\"319.0669\">y</text></a><!--MD5=[8e04057e7b3cbc0dca4fc78ea351e2da]\n",
       "reverse link E10 to E3--><a href=\"psysml:f2bac2b1-68d1-4631-bf1f-fa6cff2f703f\" target=\"_top\" title=\"psysml:f2bac2b1-68d1-4631-bf1f-fa6cff2f703f\" xlink:actuate=\"onRequest\" xlink:href=\"psysml:f2bac2b1-68d1-4631-bf1f-fa6cff2f703f\" xlink:show=\"new\" xlink:title=\"psysml:f2bac2b1-68d1-4631-bf1f-fa6cff2f703f\" xlink:type=\"simple\"><path d=\"M396.77,244.77 C360.83,243.49 310.19,240.95 266,236 C245.72,233.73 223.2,229.99 205.17,226.7 \" fill=\"none\" id=\"E10&lt;-E3-1\" style=\"stroke: #383838; stroke-width: 1.0;\"/><polygon fill=\"#FFFFFF\" points=\"409.78,245.2,403.9151,241.0045,397.7865,244.8046,403.6515,249.0001,409.78,245.2\" style=\"stroke: #383838; stroke-width: 1.0;\"/><text fill=\"#000000\" font-family=\"sans-serif\" font-size=\"13\" lengthAdjust=\"spacingAndGlyphs\" textLength=\"7\" x=\"283.5\" y=\"232.0669\">y</text></a><!--MD5=[8e04057e7b3cbc0dca4fc78ea351e2da]\n",
       "reverse link E10 to E3--><a href=\"psysml:f2bac2b1-68d1-4631-bf1f-fa6cff2f703f\" target=\"_top\" title=\"psysml:f2bac2b1-68d1-4631-bf1f-fa6cff2f703f\" xlink:actuate=\"onRequest\" xlink:href=\"psysml:f2bac2b1-68d1-4631-bf1f-fa6cff2f703f\" xlink:show=\"new\" xlink:title=\"psysml:f2bac2b1-68d1-4631-bf1f-fa6cff2f703f\" xlink:type=\"simple\"><path d=\"M397.09,232.57 C371.08,225.83 338.02,218.38 308,215 C289.45,212.91 284.66,214.51 266,215 C245.86,215.53 223.34,216.69 205.28,217.76 \" fill=\"none\" id=\"E10&lt;-E3-2\" style=\"stroke: #383838; stroke-width: 1.0;\"/><polygon fill=\"#FFFFFF\" points=\"409.99,236.01,405.2209,230.6011,398.3939,232.923,403.1629,238.3319,409.99,236.01\" style=\"stroke: #383838; stroke-width: 1.0;\"/><text fill=\"#000000\" font-family=\"sans-serif\" font-size=\"13\" lengthAdjust=\"spacingAndGlyphs\" textLength=\"7\" x=\"283.5\" y=\"210.0669\">y</text></a><!--MD5=[604cbf994c02b74b117f728a71673cea]\n",
       "reverse link E10 to E6--><a href=\"psysml:f2bac2b1-68d1-4631-bf1f-fa6cff2f703f\" target=\"_top\" title=\"psysml:f2bac2b1-68d1-4631-bf1f-fa6cff2f703f\" xlink:actuate=\"onRequest\" xlink:href=\"psysml:f2bac2b1-68d1-4631-bf1f-fa6cff2f703f\" xlink:show=\"new\" xlink:title=\"psysml:f2bac2b1-68d1-4631-bf1f-fa6cff2f703f\" xlink:type=\"simple\"><path d=\"M493.09,231.19 C498.74,229.88 504.47,228.76 510,228 C522.8,226.23 536.62,228.53 548.75,232 \" fill=\"none\" id=\"E10&lt;-E6\" style=\"stroke: #383838; stroke-width: 1.0;\"/><polygon fill=\"#FFFFFF\" points=\"480.18,234.52,486.9883,236.8964,491.8005,231.5259,484.9922,229.1494,480.18,234.52\" style=\"stroke: #383838; stroke-width: 1.0;\"/><text fill=\"#000000\" font-family=\"sans-serif\" font-size=\"13\" lengthAdjust=\"spacingAndGlyphs\" textLength=\"7\" x=\"511\" y=\"224.0669\">y</text></a><!--MD5=[604cbf994c02b74b117f728a71673cea]\n",
       "reverse link E10 to E6--><a href=\"psysml:f2bac2b1-68d1-4631-bf1f-fa6cff2f703f\" target=\"_top\" title=\"psysml:f2bac2b1-68d1-4631-bf1f-fa6cff2f703f\" xlink:actuate=\"onRequest\" xlink:href=\"psysml:f2bac2b1-68d1-4631-bf1f-fa6cff2f703f\" xlink:show=\"new\" xlink:title=\"psysml:f2bac2b1-68d1-4631-bf1f-fa6cff2f703f\" xlink:type=\"simple\"><path d=\"M471.99,278.87 C482.5,289.64 495.58,300.3 510,306 C534.41,315.65 556.82,289.8 570.2,269.06 \" fill=\"none\" id=\"E10&lt;-E6-1\" style=\"stroke: #383838; stroke-width: 1.0;\"/><polygon fill=\"#FFFFFF\" points=\"463.08,269.08,464.1573,276.2102,471.1534,277.9581,470.0761,270.8279,463.08,269.08\" style=\"stroke: #383838; stroke-width: 1.0;\"/><text fill=\"#000000\" font-family=\"sans-serif\" font-size=\"13\" lengthAdjust=\"spacingAndGlyphs\" textLength=\"7\" x=\"511\" y=\"302.0669\">y</text></a><!--MD5=[604cbf994c02b74b117f728a71673cea]\n",
       "reverse link E10 to E6--><a href=\"psysml:f2bac2b1-68d1-4631-bf1f-fa6cff2f703f\" target=\"_top\" title=\"psysml:f2bac2b1-68d1-4631-bf1f-fa6cff2f703f\" xlink:actuate=\"onRequest\" xlink:href=\"psysml:f2bac2b1-68d1-4631-bf1f-fa6cff2f703f\" xlink:show=\"new\" xlink:title=\"psysml:f2bac2b1-68d1-4631-bf1f-fa6cff2f703f\" xlink:type=\"simple\"><path d=\"M493.16,251.75 C498.83,252.26 504.54,252.7 510,253 C522.71,253.69 536.63,252.78 548.88,251.4 \" fill=\"none\" id=\"E10&lt;-E6-2\" style=\"stroke: #383838; stroke-width: 1.0;\"/><polygon fill=\"#FFFFFF\" points=\"480.15,250.43,485.7152,255.0157,492.0886,251.6423,486.5234,247.0566,480.15,250.43\" style=\"stroke: #383838; stroke-width: 1.0;\"/><text fill=\"#000000\" font-family=\"sans-serif\" font-size=\"13\" lengthAdjust=\"spacingAndGlyphs\" textLength=\"7\" x=\"511\" y=\"249.0669\">y</text></a><!--MD5=[16f74089fd7e4106dbfdfd10e4d23669]\n",
       "@startuml\r\n",
       "left to right direction\r\n",
       "skinparam monochrome true\r\n",
       "skinparam classbackgroundcolor white\r\n",
       "skinparam shadowing false\r\n",
       "skinparam wrapWidth 300\r\n",
       "hide circle\r\n",
       "\r\n",
       "package \"PartTest\" as E1  [[psysml:c38775ed-c195-45a3-878f-69446059ff99 ]]  {\r\n",
       "comp usage \"f: A \" as E2  <<(T,blue) part>> [[psysml:133b9857-5562-4f09-a022-80109f8d4a7d ]] {\r\n",
       "}\r\n",
       "comp def \"A\" as E3  <<(T,blue) part  def>> [[psysml:41a43e73-47d4-427d-aa17-f57a90b2778c ]] {\r\n",
       "- - attributes - -\r\n",
       "x\r\n",
       "y:> A::x\r\n",
       "}\r\n",
       "comp usage \"b: B \" as E4  <<(T,blue) part>> [[psysml:23a90af0-4107-4bf0-84ea-ac7115753c4e ]] {\r\n",
       "}\r\n",
       "comp usage \"c: C \" as E5  <<(T,blue) port>> [[psysml:3bde4e3d-0323-4342-8ecc-6f2c3dab5224 ]] {\r\n",
       "}\r\n",
       "comp def \"<i>B</i>\" as E6  <<(T,blue) part  def>> [[psysml:c17c630d-59e9-4f7e-a520-276041a9c800 ]] {\r\n",
       "}\r\n",
       "comp usage \"<i>a</i>: A \" as E7  <<(T,blue) part>> [[psysml:4ea01713-b83a-4578-95eb-e0c0377cf261 ]] {\r\n",
       "}\r\n",
       "comp usage \"x: ~C \" as E8  <<(T,blue) port>> [[psysml:c9f90055-486d-4326-9691-bfe47f710c68 ]] {\r\n",
       "}\r\n",
       "package \"P\" as E9  [[psysml:78dea323-2f70-496c-aa91-db5f05f12a10 ]]  {\r\n",
       "}\r\n",
       "comp def \"C\" as E10  <<(T,blue) port  def>> [[psysml:e209a1f3-de72-4850-a45f-7036acf7c094 ]] {\r\n",
       "}\r\n",
       "}\r\n",
       "E2 - -:|> E3 [[psysml:de99b855-827b-4779-9c99-7b4326eef43f ]] \r\n",
       "E3 *- - \"1\"E4 [[psysml:7d143534-3389-4013-881e-42b16664757f ]] \r\n",
       "E3 o- - \"1\"E5 [[psysml:01061be5-5fdc-439c-afe5-881fb8746c83 ]] \r\n",
       "E4 - -:|> E6 [[psysml:8d11eaae-af32-434c-8c3d-32f92418f4c8 ]] \r\n",
       "E6 *- - \"1\"E7 [[psysml:7466bf8a-1e84-4b05-9901-ce46ee446fa5 ]] \r\n",
       "E7 - -:|> E3 [[psysml:3c280f0c-0d5e-48e6-b009-cbd7db9e9beb ]] \r\n",
       "E6 o- - \"1\"E8 [[psysml:dcb35f57-14cb-4e2c-8543-9245438ead5d ]] \r\n",
       "E6 +- - E9 [[psysml:08766104-19a0-4aca-bf35-b4c81b8c6dcb ]] \r\n",
       "E5 - -:|> E10 [[psysml:568ef262-b92a-4cba-8a4b-19f4a197db7e ]] \r\n",
       "E10 o- - E3 [[psysml:f2bac2b1-68d1-4631-bf1f-fa6cff2f703f ]] : y\r\n",
       "E10 o- - E6 [[psysml:f2bac2b1-68d1-4631-bf1f-fa6cff2f703f ]] : y\r\n",
       "E10 o- - E3 [[psysml:f2bac2b1-68d1-4631-bf1f-fa6cff2f703f ]] : y\r\n",
       "E10 o- - E6 [[psysml:f2bac2b1-68d1-4631-bf1f-fa6cff2f703f ]] : y\r\n",
       "E10 o- - E3 [[psysml:f2bac2b1-68d1-4631-bf1f-fa6cff2f703f ]] : y\r\n",
       "E10 o- - E6 [[psysml:f2bac2b1-68d1-4631-bf1f-fa6cff2f703f ]] : y\r\n",
       "@enduml\r\n",
       "\n",
       "PlantUML version 1.2020.13(Sat Jun 13 12:26:38 UTC 2020)\n",
       "(EPL source distribution)\n",
       "Java Runtime: OpenJDK Runtime Environment\n",
       "JVM: OpenJDK 64-Bit Server VM\n",
       "Default Encoding: UTF-8\n",
       "Language: en\n",
       "Country: null\n",
       "--></g></svg>"
      ]
     },
     "execution_count": 22,
     "metadata": {},
     "output_type": "execute_result"
    }
   ],
   "source": [
    "%viz --style=\"LR\" --view=\"MIXED\" \"PartTest\""
   ]
  },
  {
   "cell_type": "code",
   "execution_count": 23,
   "id": "31aed7d4",
   "metadata": {
    "execution": {
     "iopub.execute_input": "2022-02-05T16:55:43.923999Z",
     "iopub.status.busy": "2022-02-05T16:55:43.923618Z",
     "iopub.status.idle": "2022-02-05T16:55:43.988969Z",
     "shell.execute_reply": "2022-02-05T16:55:43.987401Z"
    }
   },
   "outputs": [
    {
     "data": {
      "image/svg+xml": [
       "<?xml version=\"1.0\" encoding=\"UTF-8\" standalone=\"no\"?><svg xmlns=\"http://www.w3.org/2000/svg\" xmlns:xlink=\"http://www.w3.org/1999/xlink\" contentScriptType=\"application/ecmascript\" contentStyleType=\"text/css\" height=\"760px\" preserveAspectRatio=\"none\" style=\"width:423px;height:760px;\" version=\"1.1\" viewBox=\"0 0 423 760\" width=\"423px\" zoomAndPan=\"magnify\"><defs><filter height=\"300%\" id=\"f1tx61omi20xol\" width=\"300%\" x=\"-1\" y=\"-1\"><feGaussianBlur result=\"blurOut\" stdDeviation=\"2.0\"/><feColorMatrix in=\"blurOut\" result=\"blurOut2\" type=\"matrix\" values=\"0 0 0 0 0 0 0 0 0 0 0 0 0 0 0 0 0 0 .4 0\"/><feOffset dx=\"4.0\" dy=\"4.0\" in=\"blurOut2\" result=\"blurOut3\"/><feBlend in=\"SourceGraphic\" in2=\"blurOut3\" mode=\"normal\"/></filter></defs><g><!--MD5=[fbc87193dbaf4d95561dea2c320d4a47]\n",
       "cluster E1--><a href=\"psysml:c38775ed-c195-45a3-878f-69446059ff99\" target=\"_top\" title=\"psysml:c38775ed-c195-45a3-878f-69446059ff99\" xlink:actuate=\"onRequest\" xlink:href=\"psysml:c38775ed-c195-45a3-878f-69446059ff99\" xlink:show=\"new\" xlink:title=\"psysml:c38775ed-c195-45a3-878f-69446059ff99\" xlink:type=\"simple\"><polygon fill=\"#FFFFFF\" filter=\"url(#f1tx61omi20xol)\" points=\"16,6,80,6,87,28.2969,401,28.2969,401,748,16,748,16,6\" style=\"stroke: #000000; stroke-width: 1.5;\"/><line style=\"stroke: #000000; stroke-width: 1.5;\" x1=\"16\" x2=\"87\" y1=\"28.2969\" y2=\"28.2969\"/><text fill=\"#000000\" font-family=\"sans-serif\" font-size=\"14\" font-weight=\"bold\" lengthAdjust=\"spacingAndGlyphs\" textLength=\"58\" x=\"20\" y=\"20.9951\">PartTest</text></a><!--MD5=[b4997ac47864f28c2f74865a473b2911]\n",
       "class E2--><a href=\"psysml:133b9857-5562-4f09-a022-80109f8d4a7d\" target=\"_top\" title=\"psysml:133b9857-5562-4f09-a022-80109f8d4a7d\" xlink:actuate=\"onRequest\" xlink:href=\"psysml:133b9857-5562-4f09-a022-80109f8d4a7d\" xlink:show=\"new\" xlink:title=\"psysml:133b9857-5562-4f09-a022-80109f8d4a7d\" xlink:type=\"simple\"><rect fill=\"#FEFECE\" filter=\"url(#f1tx61omi20xol)\" height=\"45.9375\" id=\"E2\" rx=\"10\" ry=\"10\" style=\"stroke: #A80036; stroke-width: 1.5;\" width=\"42\" x=\"201\" y=\"41\"/><text fill=\"#000000\" font-family=\"sans-serif\" font-size=\"12\" font-style=\"italic\" lengthAdjust=\"spacingAndGlyphs\" textLength=\"40\" x=\"202\" y=\"57.1387\">«part»</text><text fill=\"#000000\" font-family=\"sans-serif\" font-size=\"12\" lengthAdjust=\"spacingAndGlyphs\" textLength=\"20\" x=\"210\" y=\"71.1074\">f: A</text><line style=\"stroke: #A80036; stroke-width: 1.5;\" x1=\"202\" x2=\"242\" y1=\"78.9375\" y2=\"78.9375\"/></a><!--MD5=[09b614a08d8cba4a07c9adeb5e0fee81]\n",
       "class E3--><a href=\"psysml:41a43e73-47d4-427d-aa17-f57a90b2778c\" target=\"_top\" title=\"psysml:41a43e73-47d4-427d-aa17-f57a90b2778c\" xlink:actuate=\"onRequest\" xlink:href=\"psysml:41a43e73-47d4-427d-aa17-f57a90b2778c\" xlink:show=\"new\" xlink:title=\"psysml:41a43e73-47d4-427d-aa17-f57a90b2778c\" xlink:type=\"simple\"><rect fill=\"#FEFECE\" filter=\"url(#f1tx61omi20xol)\" height=\"88.3516\" id=\"E3\" style=\"stroke: #A80036; stroke-width: 1.5;\" width=\"70\" x=\"187\" y=\"148\"/><text fill=\"#000000\" font-family=\"sans-serif\" font-size=\"12\" font-style=\"italic\" lengthAdjust=\"spacingAndGlyphs\" textLength=\"68\" x=\"188\" y=\"164.1387\">«part  def»</text><text fill=\"#000000\" font-family=\"sans-serif\" font-size=\"12\" lengthAdjust=\"spacingAndGlyphs\" textLength=\"8\" x=\"218\" y=\"178.1074\">A</text><line style=\"stroke: #A80036; stroke-width: 1.5;\" x1=\"188\" x2=\"256\" y1=\"185.9375\" y2=\"185.9375\"/><text fill=\"#000000\" font-family=\"sans-serif\" font-size=\"11\" lengthAdjust=\"spacingAndGlyphs\" textLength=\"6\" x=\"193\" y=\"216.9526\">x</text><text fill=\"#000000\" font-family=\"sans-serif\" font-size=\"11\" lengthAdjust=\"spacingAndGlyphs\" textLength=\"44\" x=\"193\" y=\"229.7573\">y:&gt; A::x</text><line style=\"stroke: #A80036; stroke-width: 1.0;\" x1=\"188\" x2=\"194.5\" y1=\"200.3398\" y2=\"200.3398\"/><text fill=\"#000000\" font-family=\"sans-serif\" font-size=\"11\" lengthAdjust=\"spacingAndGlyphs\" textLength=\"55\" x=\"194.5\" y=\"203.6479\">attributes</text><line style=\"stroke: #A80036; stroke-width: 1.0;\" x1=\"249.5\" x2=\"256\" y1=\"200.3398\" y2=\"200.3398\"/></a><!--MD5=[ebbe1d658d1005bcc118a6aa81145e00]\n",
       "class E4--><a href=\"psysml:23a90af0-4107-4bf0-84ea-ac7115753c4e\" target=\"_top\" title=\"psysml:23a90af0-4107-4bf0-84ea-ac7115753c4e\" xlink:actuate=\"onRequest\" xlink:href=\"psysml:23a90af0-4107-4bf0-84ea-ac7115753c4e\" xlink:show=\"new\" xlink:title=\"psysml:23a90af0-4107-4bf0-84ea-ac7115753c4e\" xlink:type=\"simple\"><rect fill=\"#FEFECE\" filter=\"url(#f1tx61omi20xol)\" height=\"45.9375\" id=\"E4\" rx=\"10\" ry=\"10\" style=\"stroke: #A80036; stroke-width: 1.5;\" width=\"42\" x=\"323\" y=\"373\"/><text fill=\"#000000\" font-family=\"sans-serif\" font-size=\"12\" font-style=\"italic\" lengthAdjust=\"spacingAndGlyphs\" textLength=\"40\" x=\"324\" y=\"389.1387\">«part»</text><text fill=\"#000000\" font-family=\"sans-serif\" font-size=\"12\" lengthAdjust=\"spacingAndGlyphs\" textLength=\"24\" x=\"330\" y=\"403.1074\">b: B</text><line style=\"stroke: #A80036; stroke-width: 1.5;\" x1=\"324\" x2=\"364\" y1=\"410.9375\" y2=\"410.9375\"/></a><!--MD5=[270fce915f116d4de14055a7c1d9a0f3]\n",
       "class E5--><a href=\"psysml:3bde4e3d-0323-4342-8ecc-6f2c3dab5224\" target=\"_top\" title=\"psysml:3bde4e3d-0323-4342-8ecc-6f2c3dab5224\" xlink:actuate=\"onRequest\" xlink:href=\"psysml:3bde4e3d-0323-4342-8ecc-6f2c3dab5224\" xlink:show=\"new\" xlink:title=\"psysml:3bde4e3d-0323-4342-8ecc-6f2c3dab5224\" xlink:type=\"simple\"><rect fill=\"#FEFECE\" filter=\"url(#f1tx61omi20xol)\" height=\"45.9375\" id=\"E5\" rx=\"10\" ry=\"10\" style=\"stroke: #A80036; stroke-width: 1.5;\" width=\"42\" x=\"306\" y=\"297\"/><text fill=\"#000000\" font-family=\"sans-serif\" font-size=\"12\" font-style=\"italic\" lengthAdjust=\"spacingAndGlyphs\" textLength=\"40\" x=\"307\" y=\"313.1387\">«port»</text><text fill=\"#000000\" font-family=\"sans-serif\" font-size=\"12\" lengthAdjust=\"spacingAndGlyphs\" textLength=\"23\" x=\"313.5\" y=\"327.1074\">c: C</text><line style=\"stroke: #A80036; stroke-width: 1.5;\" x1=\"307\" x2=\"347\" y1=\"334.9375\" y2=\"334.9375\"/></a><!--MD5=[60a26617385b1d2d0262a64233df1f8d]\n",
       "class E6--><a href=\"psysml:c17c630d-59e9-4f7e-a520-276041a9c800\" target=\"_top\" title=\"psysml:c17c630d-59e9-4f7e-a520-276041a9c800\" xlink:actuate=\"onRequest\" xlink:href=\"psysml:c17c630d-59e9-4f7e-a520-276041a9c800\" xlink:show=\"new\" xlink:title=\"psysml:c17c630d-59e9-4f7e-a520-276041a9c800\" xlink:type=\"simple\"><rect fill=\"#FEFECE\" filter=\"url(#f1tx61omi20xol)\" height=\"45.9375\" id=\"E6\" style=\"stroke: #A80036; stroke-width: 1.5;\" width=\"70\" x=\"190\" y=\"572\"/><text fill=\"#000000\" font-family=\"sans-serif\" font-size=\"12\" font-style=\"italic\" lengthAdjust=\"spacingAndGlyphs\" textLength=\"68\" x=\"191\" y=\"588.1387\">«part  def»</text><text fill=\"#000000\" font-family=\"sans-serif\" font-size=\"12\" font-style=\"italic\" lengthAdjust=\"spacingAndGlyphs\" textLength=\"8\" x=\"221\" y=\"602.1074\">B</text><line style=\"stroke: #A80036; stroke-width: 1.5;\" x1=\"191\" x2=\"259\" y1=\"609.9375\" y2=\"609.9375\"/></a><!--MD5=[2156ba9850f5573cc1fc38a6a4b2f02b]\n",
       "class E7--><a href=\"psysml:4ea01713-b83a-4578-95eb-e0c0377cf261\" target=\"_top\" title=\"psysml:4ea01713-b83a-4578-95eb-e0c0377cf261\" xlink:actuate=\"onRequest\" xlink:href=\"psysml:4ea01713-b83a-4578-95eb-e0c0377cf261\" xlink:show=\"new\" xlink:title=\"psysml:4ea01713-b83a-4578-95eb-e0c0377cf261\" xlink:type=\"simple\"><rect fill=\"#FEFECE\" filter=\"url(#f1tx61omi20xol)\" height=\"45.9375\" id=\"E7\" rx=\"10\" ry=\"10\" style=\"stroke: #A80036; stroke-width: 1.5;\" width=\"42\" x=\"68\" y=\"682.5\"/><text fill=\"#000000\" font-family=\"sans-serif\" font-size=\"12\" font-style=\"italic\" lengthAdjust=\"spacingAndGlyphs\" textLength=\"40\" x=\"69\" y=\"698.6387\">«part»</text><text fill=\"#000000\" font-family=\"sans-serif\" font-size=\"12\" font-style=\"italic\" lengthAdjust=\"spacingAndGlyphs\" textLength=\"8\" x=\"75\" y=\"712.6074\">a</text><text fill=\"#000000\" font-family=\"sans-serif\" font-size=\"12\" lengthAdjust=\"spacingAndGlyphs\" textLength=\"16\" x=\"83\" y=\"712.6074\">: A</text><line style=\"stroke: #A80036; stroke-width: 1.5;\" x1=\"69\" x2=\"109\" y1=\"720.4375\" y2=\"720.4375\"/></a><!--MD5=[b9389687b975829384b498ac4b7476b2]\n",
       "class E8--><a href=\"psysml:c9f90055-486d-4326-9691-bfe47f710c68\" target=\"_top\" title=\"psysml:c9f90055-486d-4326-9691-bfe47f710c68\" xlink:actuate=\"onRequest\" xlink:href=\"psysml:c9f90055-486d-4326-9691-bfe47f710c68\" xlink:show=\"new\" xlink:title=\"psysml:c9f90055-486d-4326-9691-bfe47f710c68\" xlink:type=\"simple\"><rect fill=\"#FEFECE\" filter=\"url(#f1tx61omi20xol)\" height=\"45.9375\" id=\"E8\" rx=\"10\" ry=\"10\" style=\"stroke: #A80036; stroke-width: 1.5;\" width=\"42\" x=\"228\" y=\"682.5\"/><text fill=\"#000000\" font-family=\"sans-serif\" font-size=\"12\" font-style=\"italic\" lengthAdjust=\"spacingAndGlyphs\" textLength=\"40\" x=\"229\" y=\"698.6387\">«port»</text><text fill=\"#000000\" font-family=\"sans-serif\" font-size=\"12\" lengthAdjust=\"spacingAndGlyphs\" textLength=\"32\" x=\"231\" y=\"712.6074\">x: ~C</text><line style=\"stroke: #A80036; stroke-width: 1.5;\" x1=\"229\" x2=\"269\" y1=\"720.4375\" y2=\"720.4375\"/></a><!--MD5=[96f4274e9e20536e775497830990834d]\n",
       "class E10--><a href=\"psysml:e209a1f3-de72-4850-a45f-7036acf7c094\" target=\"_top\" title=\"psysml:e209a1f3-de72-4850-a45f-7036acf7c094\" xlink:actuate=\"onRequest\" xlink:href=\"psysml:e209a1f3-de72-4850-a45f-7036acf7c094\" xlink:show=\"new\" xlink:title=\"psysml:e209a1f3-de72-4850-a45f-7036acf7c094\" xlink:type=\"simple\"><rect fill=\"#FEFECE\" filter=\"url(#f1tx61omi20xol)\" height=\"45.9375\" id=\"E10\" style=\"stroke: #A80036; stroke-width: 1.5;\" width=\"70\" x=\"190\" y=\"449\"/><text fill=\"#000000\" font-family=\"sans-serif\" font-size=\"12\" font-style=\"italic\" lengthAdjust=\"spacingAndGlyphs\" textLength=\"68\" x=\"191\" y=\"465.1387\">«port  def»</text><text fill=\"#000000\" font-family=\"sans-serif\" font-size=\"12\" lengthAdjust=\"spacingAndGlyphs\" textLength=\"8\" x=\"221\" y=\"479.1074\">C</text><line style=\"stroke: #A80036; stroke-width: 1.5;\" x1=\"191\" x2=\"259\" y1=\"486.9375\" y2=\"486.9375\"/></a><a href=\"psysml:78dea323-2f70-496c-aa91-db5f05f12a10\" target=\"_top\" title=\"psysml:78dea323-2f70-496c-aa91-db5f05f12a10\" xlink:actuate=\"onRequest\" xlink:href=\"psysml:78dea323-2f70-496c-aa91-db5f05f12a10\" xlink:show=\"new\" xlink:title=\"psysml:78dea323-2f70-496c-aa91-db5f05f12a10\" xlink:type=\"simple\"><polygon fill=\"#FFFFFF\" filter=\"url(#f1tx61omi20xol)\" points=\"163.5,679,178.5,679,185.5,701.2969,192.5,701.2969,192.5,731.5938,163.5,731.5938,163.5,679\" style=\"stroke: #000000; stroke-width: 1.5;\"/><line style=\"stroke: #000000; stroke-width: 1.5;\" x1=\"163.5\" x2=\"185.5\" y1=\"701.2969\" y2=\"701.2969\"/><text fill=\"#000000\" font-family=\"sans-serif\" font-size=\"14\" font-weight=\"bold\" lengthAdjust=\"spacingAndGlyphs\" textLength=\"9\" x=\"167.5\" y=\"693.9951\">P</text></a><!--MD5=[2720a5a1f2c3fca2055b230370638851]\n",
       "link E2 to E3--><a href=\"psysml:de99b855-827b-4779-9c99-7b4326eef43f\" target=\"_top\" title=\"psysml:de99b855-827b-4779-9c99-7b4326eef43f\" xlink:actuate=\"onRequest\" xlink:href=\"psysml:de99b855-827b-4779-9c99-7b4326eef43f\" xlink:show=\"new\" xlink:title=\"psysml:de99b855-827b-4779-9c99-7b4326eef43f\" xlink:type=\"simple\"><path d=\"M222,87.24 C222,98.62 222,113.11 222,127.62 \" fill=\"none\" id=\"E2-&gt;E3\" style=\"stroke: #A80036; stroke-width: 1.0;\"/><polygon fill=\"#FFFFFF\" points=\"222,147.84,215,128.84,229,128.84,222,147.84\" style=\"stroke: #A80036; stroke-width: 1.0;\"/><ellipse cx=\"217\" cy=\"123.14\" fill=\"#A80036\" rx=\"2\" ry=\"2\" style=\"stroke: #A80036; stroke-width: 1.0;\"/><ellipse cx=\"227\" cy=\"123.14\" fill=\"#A80036\" rx=\"2\" ry=\"2\" style=\"stroke: #A80036; stroke-width: 1.0;\"/></a><!--MD5=[4672eba38e49728da53d11aeb285b987]\n",
       "reverse link E3 to E4--><a href=\"psysml:7d143534-3389-4013-881e-42b16664757f\" target=\"_top\" title=\"psysml:7d143534-3389-4013-881e-42b16664757f\" xlink:actuate=\"onRequest\" xlink:href=\"psysml:7d143534-3389-4013-881e-42b16664757f\" xlink:show=\"new\" xlink:title=\"psysml:7d143534-3389-4013-881e-42b16664757f\" xlink:type=\"simple\"><path d=\"M269.08,212.65 C302.85,229.56 345.81,257.51 366,297 C378.38,321.22 367.51,352.31 357.12,372.91 \" fill=\"none\" id=\"E3&lt;-E4\" style=\"stroke: #A80036; stroke-width: 1.0;\"/><polygon fill=\"#A80036\" points=\"257.11,206.92,260.7919,213.1203,267.9314,212.1063,264.2495,205.906,257.11,206.92\" style=\"stroke: #A80036; stroke-width: 1.0;\"/><text fill=\"#000000\" font-family=\"sans-serif\" font-size=\"13\" lengthAdjust=\"spacingAndGlyphs\" textLength=\"8\" x=\"352.5085\" y=\"363.0064\">1</text></a><!--MD5=[191cde3d490a3f6d7bb551fe3ddca469]\n",
       "reverse link E3 to E5--><a href=\"psysml:01061be5-5fdc-439c-afe5-881fb8746c83\" target=\"_top\" title=\"psysml:01061be5-5fdc-439c-afe5-881fb8746c83\" xlink:actuate=\"onRequest\" xlink:href=\"psysml:01061be5-5fdc-439c-afe5-881fb8746c83\" xlink:show=\"new\" xlink:title=\"psysml:01061be5-5fdc-439c-afe5-881fb8746c83\" xlink:type=\"simple\"><path d=\"M265.68,245.41 C280.65,263.38 296.6,282.52 308.48,296.78 \" fill=\"none\" id=\"E3&lt;-E5\" style=\"stroke: #A80036; stroke-width: 1.0;\"/><polygon fill=\"#FFFFFF\" points=\"257.26,235.31,258.0312,242.4797,264.9461,244.5254,264.1749,237.3557,257.26,235.31\" style=\"stroke: #A80036; stroke-width: 1.0;\"/><text fill=\"#000000\" font-family=\"sans-serif\" font-size=\"13\" lengthAdjust=\"spacingAndGlyphs\" textLength=\"8\" x=\"294.7093\" y=\"285.9999\">1</text></a><!--MD5=[79568f1e445c3877b6a54524624ccc7d]\n",
       "link E4 to E6--><a href=\"psysml:8d11eaae-af32-434c-8c3d-32f92418f4c8\" target=\"_top\" title=\"psysml:8d11eaae-af32-434c-8c3d-32f92418f4c8\" xlink:actuate=\"onRequest\" xlink:href=\"psysml:8d11eaae-af32-434c-8c3d-32f92418f4c8\" xlink:show=\"new\" xlink:title=\"psysml:8d11eaae-af32-434c-8c3d-32f92418f4c8\" xlink:type=\"simple\"><path d=\"M330.58,419.22 C310.75,452.04 273.34,513.98 248.79,554.62 \" fill=\"none\" id=\"E4-&gt;E6\" style=\"stroke: #A80036; stroke-width: 1.0;\"/><polygon fill=\"#FFFFFF\" points=\"238.37,571.87,242.2063,551.9883,254.1882,559.2294,238.37,571.87\" style=\"stroke: #A80036; stroke-width: 1.0;\"/><ellipse cx=\"246.8662\" cy=\"548.1444\" fill=\"#A80036\" rx=\"2\" ry=\"2\" style=\"stroke: #A80036; stroke-width: 1.0;\"/><ellipse cx=\"255.4247\" cy=\"553.3166\" fill=\"#A80036\" rx=\"2\" ry=\"2\" style=\"stroke: #A80036; stroke-width: 1.0;\"/></a><!--MD5=[3f50a3473f1dfb74d3f76443e03635af]\n",
       "reverse link E6 to E7--><a href=\"psysml:7466bf8a-1e84-4b05-9901-ce46ee446fa5\" target=\"_top\" title=\"psysml:7466bf8a-1e84-4b05-9901-ce46ee446fa5\" xlink:actuate=\"onRequest\" xlink:href=\"psysml:7466bf8a-1e84-4b05-9901-ce46ee446fa5\" xlink:show=\"new\" xlink:title=\"psysml:7466bf8a-1e84-4b05-9901-ce46ee446fa5\" xlink:type=\"simple\"><path d=\"M186.96,626.35 C162.12,646.16 130.61,671.3 110.14,687.64 \" fill=\"none\" id=\"E6&lt;-E7\" style=\"stroke: #A80036; stroke-width: 1.0;\"/><polygon fill=\"#A80036\" points=\"197.15,618.22,189.9656,618.8398,187.7744,625.7099,194.9589,625.0901,197.15,618.22\" style=\"stroke: #A80036; stroke-width: 1.0;\"/><text fill=\"#000000\" font-family=\"sans-serif\" font-size=\"13\" lengthAdjust=\"spacingAndGlyphs\" textLength=\"8\" x=\"118.1534\" y=\"676.6545\">1</text></a><!--MD5=[14ccda38c055a5c0da953d572bc50960]\n",
       "link E7 to E3--><a href=\"psysml:3c280f0c-0d5e-48e6-b009-cbd7db9e9beb\" target=\"_top\" title=\"psysml:3c280f0c-0d5e-48e6-b009-cbd7db9e9beb\" xlink:actuate=\"onRequest\" xlink:href=\"psysml:3c280f0c-0d5e-48e6-b009-cbd7db9e9beb\" xlink:show=\"new\" xlink:title=\"psysml:3c280f0c-0d5e-48e6-b009-cbd7db9e9beb\" xlink:type=\"simple\"><path d=\"M69.41,682.1 C53.27,661.28 33,628.64 33,596 C33,319 33,319 33,319 C33,253.99 111.37,220.46 167.18,204.82 \" fill=\"none\" id=\"E7-&gt;E3\" style=\"stroke: #A80036; stroke-width: 1.0;\"/><polygon fill=\"#FFFFFF\" points=\"186.89,199.76,170.2265,211.2633,166.7463,197.7028,186.89,199.76\" style=\"stroke: #A80036; stroke-width: 1.0;\"/><ellipse cx=\"164.2082\" cy=\"210.743\" fill=\"#A80036\" rx=\"2\" ry=\"2\" style=\"stroke: #A80036; stroke-width: 1.0;\"/><ellipse cx=\"161.7224\" cy=\"201.0569\" fill=\"#A80036\" rx=\"2\" ry=\"2\" style=\"stroke: #A80036; stroke-width: 1.0;\"/></a><!--MD5=[f4cf0736d43fd73c4ef68817c49d37d5]\n",
       "reverse link E6 to E8--><a href=\"psysml:dcb35f57-14cb-4e2c-8543-9245438ead5d\" target=\"_top\" title=\"psysml:dcb35f57-14cb-4e2c-8543-9245438ead5d\" xlink:actuate=\"onRequest\" xlink:href=\"psysml:dcb35f57-14cb-4e2c-8543-9245438ead5d\" xlink:show=\"new\" xlink:title=\"psysml:dcb35f57-14cb-4e2c-8543-9245438ead5d\" xlink:type=\"simple\"><path d=\"M232.74,630.98 C236.47,647.83 240.83,667.54 244.09,682.31 \" fill=\"none\" id=\"E6&lt;-E8\" style=\"stroke: #A80036; stroke-width: 1.0;\"/><polygon fill=\"#FFFFFF\" points=\"229.91,618.22,227.2956,624.9405,232.4936,629.9386,235.108,623.2181,229.91,618.22\" style=\"stroke: #A80036; stroke-width: 1.0;\"/><text fill=\"#000000\" font-family=\"sans-serif\" font-size=\"13\" lengthAdjust=\"spacingAndGlyphs\" textLength=\"8\" x=\"233.8068\" y=\"671.5376\">1</text></a><!--MD5=[e88d06e5a652d73a6b19930eefe025a8]\n",
       "reverse link E6 to E9--><a href=\"psysml:08766104-19a0-4aca-bf35-b4c81b8c6dcb\" target=\"_top\" title=\"psysml:08766104-19a0-4aca-bf35-b4c81b8c6dcb\" xlink:actuate=\"onRequest\" xlink:href=\"psysml:08766104-19a0-4aca-bf35-b4c81b8c6dcb\" xlink:show=\"new\" xlink:title=\"psysml:08766104-19a0-4aca-bf35-b4c81b8c6dcb\" xlink:type=\"simple\"><path d=\"M209.38,632.06 C202.74,647.39 195.15,664.91 189.1,678.88 \" fill=\"none\" id=\"E6&lt;-E9\" style=\"stroke: #A80036; stroke-width: 1.0;\"/><ellipse cx=\"212.2011\" cy=\"625.5613\" fill=\"#FFFFFF\" rx=\"8\" ry=\"8\" style=\"stroke: #A80036; stroke-width: 1.0;\"/><line style=\"stroke: #A80036; stroke-width: 1.0;\" x1=\"209.0221\" x2=\"215.38\" y1=\"632.9026\" y2=\"618.22\"/><line style=\"stroke: #A80036; stroke-width: 1.0;\" x1=\"204.8598\" x2=\"219.5423\" y1=\"622.3823\" y2=\"628.7402\"/></a><!--MD5=[f78a29d5932556fa1060671a2a6507d8]\n",
       "link E5 to E10--><a href=\"psysml:568ef262-b92a-4cba-8a4b-19f4a197db7e\" target=\"_top\" title=\"psysml:568ef262-b92a-4cba-8a4b-19f4a197db7e\" xlink:actuate=\"onRequest\" xlink:href=\"psysml:568ef262-b92a-4cba-8a4b-19f4a197db7e\" xlink:show=\"new\" xlink:title=\"psysml:568ef262-b92a-4cba-8a4b-19f4a197db7e\" xlink:type=\"simple\"><path d=\"M315.99,343.2 C305.49,363.59 288.69,394.31 271,419 C267.54,423.82 263.72,428.71 259.79,433.47 \" fill=\"none\" id=\"E5-&gt;E10\" style=\"stroke: #A80036; stroke-width: 1.0;\"/><polygon fill=\"#FFFFFF\" points=\"246.44,448.81,253.6429,429.886,264.1988,439.0824,246.44,448.81\" style=\"stroke: #A80036; stroke-width: 1.0;\"/><ellipse cx=\"258.8951\" cy=\"426.902\" fill=\"#A80036\" rx=\"2\" ry=\"2\" style=\"stroke: #A80036; stroke-width: 1.0;\"/><ellipse cx=\"266.435\" cy=\"433.4709\" fill=\"#A80036\" rx=\"2\" ry=\"2\" style=\"stroke: #A80036; stroke-width: 1.0;\"/></a><!--MD5=[8e04057e7b3cbc0dca4fc78ea351e2da]\n",
       "reverse link E10 to E3--><a href=\"psysml:f2bac2b1-68d1-4631-bf1f-fa6cff2f703f\" target=\"_top\" title=\"psysml:f2bac2b1-68d1-4631-bf1f-fa6cff2f703f\" xlink:actuate=\"onRequest\" xlink:href=\"psysml:f2bac2b1-68d1-4631-bf1f-fa6cff2f703f\" xlink:show=\"new\" xlink:title=\"psysml:f2bac2b1-68d1-4631-bf1f-fa6cff2f703f\" xlink:type=\"simple\"><path d=\"M191.07,439.41 C168.36,415.54 140.89,380.56 131,343 C125.79,323.23 123.81,316.14 131,297 C142.22,267.13 166.35,240.23 186.94,221.27 \" fill=\"none\" id=\"E10&lt;-E3\" style=\"stroke: #A80036; stroke-width: 1.0;\"/><polygon fill=\"#FFFFFF\" points=\"200.44,448.94,199.0863,441.8571,192.0275,440.3825,193.3813,447.4654,200.44,448.94\" style=\"stroke: #A80036; stroke-width: 1.0;\"/><text fill=\"#000000\" font-family=\"sans-serif\" font-size=\"13\" lengthAdjust=\"spacingAndGlyphs\" textLength=\"7\" x=\"132\" y=\"324.5669\">y</text></a><!--MD5=[8e04057e7b3cbc0dca4fc78ea351e2da]\n",
       "reverse link E10 to E3--><a href=\"psysml:f2bac2b1-68d1-4631-bf1f-fa6cff2f703f\" target=\"_top\" title=\"psysml:f2bac2b1-68d1-4631-bf1f-fa6cff2f703f\" xlink:actuate=\"onRequest\" xlink:href=\"psysml:f2bac2b1-68d1-4631-bf1f-fa6cff2f703f\" xlink:show=\"new\" xlink:title=\"psysml:f2bac2b1-68d1-4631-bf1f-fa6cff2f703f\" xlink:type=\"simple\"><path d=\"M218.94,435.48 C213.66,400.35 207.24,345.02 210,297 C211.15,276.95 213.55,254.83 215.89,236.17 \" fill=\"none\" id=\"E10&lt;-E3-1\" style=\"stroke: #A80036; stroke-width: 1.0;\"/><polygon fill=\"#FFFFFF\" points=\"221.04,448.78,224.0549,442.2294,219.1678,436.927,216.1529,443.4776,221.04,448.78\" style=\"stroke: #A80036; stroke-width: 1.0;\"/><text fill=\"#000000\" font-family=\"sans-serif\" font-size=\"13\" lengthAdjust=\"spacingAndGlyphs\" textLength=\"7\" x=\"211\" y=\"324.5669\">y</text></a><!--MD5=[8e04057e7b3cbc0dca4fc78ea351e2da]\n",
       "reverse link E10 to E3--><a href=\"psysml:f2bac2b1-68d1-4631-bf1f-fa6cff2f703f\" target=\"_top\" title=\"psysml:f2bac2b1-68d1-4631-bf1f-fa6cff2f703f\" xlink:actuate=\"onRequest\" xlink:href=\"psysml:f2bac2b1-68d1-4631-bf1f-fa6cff2f703f\" xlink:show=\"new\" xlink:title=\"psysml:f2bac2b1-68d1-4631-bf1f-fa6cff2f703f\" xlink:type=\"simple\"><path d=\"M224.62,435.77 C224.07,384.92 223.06,291.06 222.47,236.13 \" fill=\"none\" id=\"E10&lt;-E3-2\" style=\"stroke: #A80036; stroke-width: 1.0;\"/><polygon fill=\"#FFFFFF\" points=\"224.76,448.9,228.6938,442.8564,224.6281,436.9007,220.6943,442.9443,224.76,448.9\" style=\"stroke: #A80036; stroke-width: 1.0;\"/><text fill=\"#000000\" font-family=\"sans-serif\" font-size=\"13\" lengthAdjust=\"spacingAndGlyphs\" textLength=\"7\" x=\"224\" y=\"324.5669\">y</text></a><!--MD5=[604cbf994c02b74b117f728a71673cea]\n",
       "reverse link E10 to E6--><a href=\"psysml:f2bac2b1-68d1-4631-bf1f-fa6cff2f703f\" target=\"_top\" title=\"psysml:f2bac2b1-68d1-4631-bf1f-fa6cff2f703f\" xlink:actuate=\"onRequest\" xlink:href=\"psysml:f2bac2b1-68d1-4631-bf1f-fa6cff2f703f\" xlink:show=\"new\" xlink:title=\"psysml:f2bac2b1-68d1-4631-bf1f-fa6cff2f703f\" xlink:type=\"simple\"><path d=\"M233.39,508.23 C235.07,519.04 236.05,530.99 235,542 C234.06,551.88 232.13,562.68 230.22,571.87 \" fill=\"none\" id=\"E10&lt;-E6\" style=\"stroke: #A80036; stroke-width: 1.0;\"/><polygon fill=\"#FFFFFF\" points=\"230.97,495.31,228.1398,501.9425,233.1735,507.106,236.0037,500.4735,230.97,495.31\" style=\"stroke: #A80036; stroke-width: 1.0;\"/><text fill=\"#000000\" font-family=\"sans-serif\" font-size=\"13\" lengthAdjust=\"spacingAndGlyphs\" textLength=\"7\" x=\"236\" y=\"538.0669\">y</text></a><!--MD5=[604cbf994c02b74b117f728a71673cea]\n",
       "reverse link E10 to E6--><a href=\"psysml:f2bac2b1-68d1-4631-bf1f-fa6cff2f703f\" target=\"_top\" title=\"psysml:f2bac2b1-68d1-4631-bf1f-fa6cff2f703f\" xlink:actuate=\"onRequest\" xlink:href=\"psysml:f2bac2b1-68d1-4631-bf1f-fa6cff2f703f\" xlink:show=\"new\" xlink:title=\"psysml:f2bac2b1-68d1-4631-bf1f-fa6cff2f703f\" xlink:type=\"simple\"><path d=\"M189.04,504.87 C184.13,511.03 179.81,517.82 177,525 C170.3,542.12 181.83,559.11 195.26,571.94 \" fill=\"none\" id=\"E10&lt;-E6-1\" style=\"stroke: #A80036; stroke-width: 1.0;\"/><polygon fill=\"#FFFFFF\" points=\"197.73,495.16,190.7505,496.973,189.7396,504.1129,196.7191,502.2999,197.73,495.16\" style=\"stroke: #A80036; stroke-width: 1.0;\"/><text fill=\"#000000\" font-family=\"sans-serif\" font-size=\"13\" lengthAdjust=\"spacingAndGlyphs\" textLength=\"7\" x=\"178\" y=\"538.0669\">y</text></a><!--MD5=[604cbf994c02b74b117f728a71673cea]\n",
       "reverse link E10 to E6--><a href=\"psysml:f2bac2b1-68d1-4631-bf1f-fa6cff2f703f\" target=\"_top\" title=\"psysml:f2bac2b1-68d1-4631-bf1f-fa6cff2f703f\" xlink:actuate=\"onRequest\" xlink:href=\"psysml:f2bac2b1-68d1-4631-bf1f-fa6cff2f703f\" xlink:show=\"new\" xlink:title=\"psysml:f2bac2b1-68d1-4631-bf1f-fa6cff2f703f\" xlink:type=\"simple\"><path d=\"M225,508.22 C225,528.81 225,554.16 225,571.95 \" fill=\"none\" id=\"E10&lt;-E6-2\" style=\"stroke: #A80036; stroke-width: 1.0;\"/><polygon fill=\"#FFFFFF\" points=\"225,495.19,221,501.19,225,507.19,229,501.19,225,495.19\" style=\"stroke: #A80036; stroke-width: 1.0;\"/><text fill=\"#000000\" font-family=\"sans-serif\" font-size=\"13\" lengthAdjust=\"spacingAndGlyphs\" textLength=\"7\" x=\"226\" y=\"538.0669\">y</text></a><!--MD5=[a67e951686c2ed47c45369429a44b0e0]\n",
       "@startuml\r\n",
       "skinparam wrapWidth 300\r\n",
       "hide circle\r\n",
       "\r\n",
       "package \"PartTest\" as E1  [[psysml:c38775ed-c195-45a3-878f-69446059ff99 ]]  {\r\n",
       "comp usage \"f: A \" as E2  <<(T,blue) part>> [[psysml:133b9857-5562-4f09-a022-80109f8d4a7d ]] {\r\n",
       "}\r\n",
       "comp def \"A\" as E3  <<(T,blue) part  def>> [[psysml:41a43e73-47d4-427d-aa17-f57a90b2778c ]] {\r\n",
       "- - attributes - -\r\n",
       "x\r\n",
       "y:> A::x\r\n",
       "}\r\n",
       "comp usage \"b: B \" as E4  <<(T,blue) part>> [[psysml:23a90af0-4107-4bf0-84ea-ac7115753c4e ]] {\r\n",
       "}\r\n",
       "comp usage \"c: C \" as E5  <<(T,blue) port>> [[psysml:3bde4e3d-0323-4342-8ecc-6f2c3dab5224 ]] {\r\n",
       "}\r\n",
       "comp def \"<i>B</i>\" as E6  <<(T,blue) part  def>> [[psysml:c17c630d-59e9-4f7e-a520-276041a9c800 ]] {\r\n",
       "}\r\n",
       "comp usage \"<i>a</i>: A \" as E7  <<(T,blue) part>> [[psysml:4ea01713-b83a-4578-95eb-e0c0377cf261 ]] {\r\n",
       "}\r\n",
       "comp usage \"x: ~C \" as E8  <<(T,blue) port>> [[psysml:c9f90055-486d-4326-9691-bfe47f710c68 ]] {\r\n",
       "}\r\n",
       "package \"P\" as E9  [[psysml:78dea323-2f70-496c-aa91-db5f05f12a10 ]]  {\r\n",
       "}\r\n",
       "comp def \"C\" as E10  <<(T,blue) port  def>> [[psysml:e209a1f3-de72-4850-a45f-7036acf7c094 ]] {\r\n",
       "}\r\n",
       "}\r\n",
       "E2 - -:|> E3 [[psysml:de99b855-827b-4779-9c99-7b4326eef43f ]] \r\n",
       "E3 *- - \"1\"E4 [[psysml:7d143534-3389-4013-881e-42b16664757f ]] \r\n",
       "E3 o- - \"1\"E5 [[psysml:01061be5-5fdc-439c-afe5-881fb8746c83 ]] \r\n",
       "E4 - -:|> E6 [[psysml:8d11eaae-af32-434c-8c3d-32f92418f4c8 ]] \r\n",
       "E6 *- - \"1\"E7 [[psysml:7466bf8a-1e84-4b05-9901-ce46ee446fa5 ]] \r\n",
       "E7 - -:|> E3 [[psysml:3c280f0c-0d5e-48e6-b009-cbd7db9e9beb ]] \r\n",
       "E6 o- - \"1\"E8 [[psysml:dcb35f57-14cb-4e2c-8543-9245438ead5d ]] \r\n",
       "E6 +- - E9 [[psysml:08766104-19a0-4aca-bf35-b4c81b8c6dcb ]] \r\n",
       "E5 - -:|> E10 [[psysml:568ef262-b92a-4cba-8a4b-19f4a197db7e ]] \r\n",
       "E10 o- - E3 [[psysml:f2bac2b1-68d1-4631-bf1f-fa6cff2f703f ]] : y\r\n",
       "E10 o- - E6 [[psysml:f2bac2b1-68d1-4631-bf1f-fa6cff2f703f ]] : y\r\n",
       "E10 o- - E3 [[psysml:f2bac2b1-68d1-4631-bf1f-fa6cff2f703f ]] : y\r\n",
       "E10 o- - E6 [[psysml:f2bac2b1-68d1-4631-bf1f-fa6cff2f703f ]] : y\r\n",
       "E10 o- - E3 [[psysml:f2bac2b1-68d1-4631-bf1f-fa6cff2f703f ]] : y\r\n",
       "E10 o- - E6 [[psysml:f2bac2b1-68d1-4631-bf1f-fa6cff2f703f ]] : y\r\n",
       "@enduml\r\n",
       "\n",
       "PlantUML version 1.2020.13(Sat Jun 13 12:26:38 UTC 2020)\n",
       "(EPL source distribution)\n",
       "Java Runtime: OpenJDK Runtime Environment\n",
       "JVM: OpenJDK 64-Bit Server VM\n",
       "Default Encoding: UTF-8\n",
       "Language: en\n",
       "Country: null\n",
       "--></g></svg>"
      ]
     },
     "execution_count": 23,
     "metadata": {},
     "output_type": "execute_result"
    }
   ],
   "source": [
    "%viz --style=\"STDCOLOR\" --view=\"Default\" \"PartTest\""
   ]
  },
  {
   "cell_type": "code",
   "execution_count": 24,
   "id": "f455e896",
   "metadata": {
    "execution": {
     "iopub.execute_input": "2022-02-05T16:55:44.038582Z",
     "iopub.status.busy": "2022-02-05T16:55:44.038115Z",
     "iopub.status.idle": "2022-02-05T16:55:44.101079Z",
     "shell.execute_reply": "2022-02-05T16:55:44.099702Z"
    }
   },
   "outputs": [
    {
     "data": {
      "image/svg+xml": [
       "<?xml version=\"1.0\" encoding=\"UTF-8\" standalone=\"no\"?><svg xmlns=\"http://www.w3.org/2000/svg\" xmlns:xlink=\"http://www.w3.org/1999/xlink\" contentScriptType=\"application/ecmascript\" contentStyleType=\"text/css\" height=\"760px\" preserveAspectRatio=\"none\" style=\"width:423px;height:760px;\" version=\"1.1\" viewBox=\"0 0 423 760\" width=\"423px\" zoomAndPan=\"magnify\"><defs><filter height=\"300%\" id=\"f1tx61omi20xol\" width=\"300%\" x=\"-1\" y=\"-1\"><feGaussianBlur result=\"blurOut\" stdDeviation=\"2.0\"/><feColorMatrix in=\"blurOut\" result=\"blurOut2\" type=\"matrix\" values=\"0 0 0 0 0 0 0 0 0 0 0 0 0 0 0 0 0 0 .4 0\"/><feOffset dx=\"4.0\" dy=\"4.0\" in=\"blurOut2\" result=\"blurOut3\"/><feBlend in=\"SourceGraphic\" in2=\"blurOut3\" mode=\"normal\"/></filter></defs><g><!--MD5=[fbc87193dbaf4d95561dea2c320d4a47]\n",
       "cluster E1--><a href=\"psysml:c38775ed-c195-45a3-878f-69446059ff99\" target=\"_top\" title=\"psysml:c38775ed-c195-45a3-878f-69446059ff99\" xlink:actuate=\"onRequest\" xlink:href=\"psysml:c38775ed-c195-45a3-878f-69446059ff99\" xlink:show=\"new\" xlink:title=\"psysml:c38775ed-c195-45a3-878f-69446059ff99\" xlink:type=\"simple\"><polygon fill=\"#FFFFFF\" filter=\"url(#f1tx61omi20xol)\" points=\"16,6,80,6,87,28.2969,401,28.2969,401,748,16,748,16,6\" style=\"stroke: #000000; stroke-width: 1.5;\"/><line style=\"stroke: #000000; stroke-width: 1.5;\" x1=\"16\" x2=\"87\" y1=\"28.2969\" y2=\"28.2969\"/><text fill=\"#000000\" font-family=\"sans-serif\" font-size=\"14\" font-weight=\"bold\" lengthAdjust=\"spacingAndGlyphs\" textLength=\"58\" x=\"20\" y=\"20.9951\">PartTest</text></a><!--MD5=[b4997ac47864f28c2f74865a473b2911]\n",
       "class E2--><a href=\"psysml:133b9857-5562-4f09-a022-80109f8d4a7d\" target=\"_top\" title=\"psysml:133b9857-5562-4f09-a022-80109f8d4a7d\" xlink:actuate=\"onRequest\" xlink:href=\"psysml:133b9857-5562-4f09-a022-80109f8d4a7d\" xlink:show=\"new\" xlink:title=\"psysml:133b9857-5562-4f09-a022-80109f8d4a7d\" xlink:type=\"simple\"><rect fill=\"#FEFECE\" filter=\"url(#f1tx61omi20xol)\" height=\"45.9375\" id=\"E2\" rx=\"10\" ry=\"10\" style=\"stroke: #A80036; stroke-width: 1.5;\" width=\"42\" x=\"201\" y=\"41\"/><text fill=\"#000000\" font-family=\"sans-serif\" font-size=\"12\" font-style=\"italic\" lengthAdjust=\"spacingAndGlyphs\" textLength=\"40\" x=\"202\" y=\"57.1387\">«part»</text><text fill=\"#000000\" font-family=\"sans-serif\" font-size=\"12\" lengthAdjust=\"spacingAndGlyphs\" textLength=\"20\" x=\"210\" y=\"71.1074\">f: A</text><line style=\"stroke: #A80036; stroke-width: 1.5;\" x1=\"202\" x2=\"242\" y1=\"78.9375\" y2=\"78.9375\"/></a><!--MD5=[09b614a08d8cba4a07c9adeb5e0fee81]\n",
       "class E3--><a href=\"psysml:41a43e73-47d4-427d-aa17-f57a90b2778c\" target=\"_top\" title=\"psysml:41a43e73-47d4-427d-aa17-f57a90b2778c\" xlink:actuate=\"onRequest\" xlink:href=\"psysml:41a43e73-47d4-427d-aa17-f57a90b2778c\" xlink:show=\"new\" xlink:title=\"psysml:41a43e73-47d4-427d-aa17-f57a90b2778c\" xlink:type=\"simple\"><rect fill=\"#FEFECE\" filter=\"url(#f1tx61omi20xol)\" height=\"88.3516\" id=\"E3\" style=\"stroke: #A80036; stroke-width: 1.5;\" width=\"70\" x=\"187\" y=\"148\"/><text fill=\"#000000\" font-family=\"sans-serif\" font-size=\"12\" font-style=\"italic\" lengthAdjust=\"spacingAndGlyphs\" textLength=\"68\" x=\"188\" y=\"164.1387\">«part  def»</text><text fill=\"#000000\" font-family=\"sans-serif\" font-size=\"12\" lengthAdjust=\"spacingAndGlyphs\" textLength=\"8\" x=\"218\" y=\"178.1074\">A</text><line style=\"stroke: #A80036; stroke-width: 1.5;\" x1=\"188\" x2=\"256\" y1=\"185.9375\" y2=\"185.9375\"/><text fill=\"#000000\" font-family=\"sans-serif\" font-size=\"11\" lengthAdjust=\"spacingAndGlyphs\" textLength=\"6\" x=\"193\" y=\"216.9526\">x</text><text fill=\"#000000\" font-family=\"sans-serif\" font-size=\"11\" lengthAdjust=\"spacingAndGlyphs\" textLength=\"44\" x=\"193\" y=\"229.7573\">y:&gt; A::x</text><line style=\"stroke: #A80036; stroke-width: 1.0;\" x1=\"188\" x2=\"194.5\" y1=\"200.3398\" y2=\"200.3398\"/><text fill=\"#000000\" font-family=\"sans-serif\" font-size=\"11\" lengthAdjust=\"spacingAndGlyphs\" textLength=\"55\" x=\"194.5\" y=\"203.6479\">attributes</text><line style=\"stroke: #A80036; stroke-width: 1.0;\" x1=\"249.5\" x2=\"256\" y1=\"200.3398\" y2=\"200.3398\"/></a><!--MD5=[ebbe1d658d1005bcc118a6aa81145e00]\n",
       "class E4--><a href=\"psysml:23a90af0-4107-4bf0-84ea-ac7115753c4e\" target=\"_top\" title=\"psysml:23a90af0-4107-4bf0-84ea-ac7115753c4e\" xlink:actuate=\"onRequest\" xlink:href=\"psysml:23a90af0-4107-4bf0-84ea-ac7115753c4e\" xlink:show=\"new\" xlink:title=\"psysml:23a90af0-4107-4bf0-84ea-ac7115753c4e\" xlink:type=\"simple\"><rect fill=\"#FEFECE\" filter=\"url(#f1tx61omi20xol)\" height=\"45.9375\" id=\"E4\" rx=\"10\" ry=\"10\" style=\"stroke: #A80036; stroke-width: 1.5;\" width=\"42\" x=\"323\" y=\"373\"/><text fill=\"#000000\" font-family=\"sans-serif\" font-size=\"12\" font-style=\"italic\" lengthAdjust=\"spacingAndGlyphs\" textLength=\"40\" x=\"324\" y=\"389.1387\">«part»</text><text fill=\"#000000\" font-family=\"sans-serif\" font-size=\"12\" lengthAdjust=\"spacingAndGlyphs\" textLength=\"24\" x=\"330\" y=\"403.1074\">b: B</text><line style=\"stroke: #A80036; stroke-width: 1.5;\" x1=\"324\" x2=\"364\" y1=\"410.9375\" y2=\"410.9375\"/></a><!--MD5=[270fce915f116d4de14055a7c1d9a0f3]\n",
       "class E5--><a href=\"psysml:3bde4e3d-0323-4342-8ecc-6f2c3dab5224\" target=\"_top\" title=\"psysml:3bde4e3d-0323-4342-8ecc-6f2c3dab5224\" xlink:actuate=\"onRequest\" xlink:href=\"psysml:3bde4e3d-0323-4342-8ecc-6f2c3dab5224\" xlink:show=\"new\" xlink:title=\"psysml:3bde4e3d-0323-4342-8ecc-6f2c3dab5224\" xlink:type=\"simple\"><rect fill=\"#FEFECE\" filter=\"url(#f1tx61omi20xol)\" height=\"45.9375\" id=\"E5\" rx=\"10\" ry=\"10\" style=\"stroke: #A80036; stroke-width: 1.5;\" width=\"42\" x=\"306\" y=\"297\"/><text fill=\"#000000\" font-family=\"sans-serif\" font-size=\"12\" font-style=\"italic\" lengthAdjust=\"spacingAndGlyphs\" textLength=\"40\" x=\"307\" y=\"313.1387\">«port»</text><text fill=\"#000000\" font-family=\"sans-serif\" font-size=\"12\" lengthAdjust=\"spacingAndGlyphs\" textLength=\"23\" x=\"313.5\" y=\"327.1074\">c: C</text><line style=\"stroke: #A80036; stroke-width: 1.5;\" x1=\"307\" x2=\"347\" y1=\"334.9375\" y2=\"334.9375\"/></a><!--MD5=[60a26617385b1d2d0262a64233df1f8d]\n",
       "class E6--><a href=\"psysml:c17c630d-59e9-4f7e-a520-276041a9c800\" target=\"_top\" title=\"psysml:c17c630d-59e9-4f7e-a520-276041a9c800\" xlink:actuate=\"onRequest\" xlink:href=\"psysml:c17c630d-59e9-4f7e-a520-276041a9c800\" xlink:show=\"new\" xlink:title=\"psysml:c17c630d-59e9-4f7e-a520-276041a9c800\" xlink:type=\"simple\"><rect fill=\"#FEFECE\" filter=\"url(#f1tx61omi20xol)\" height=\"45.9375\" id=\"E6\" style=\"stroke: #A80036; stroke-width: 1.5;\" width=\"70\" x=\"190\" y=\"572\"/><text fill=\"#000000\" font-family=\"sans-serif\" font-size=\"12\" font-style=\"italic\" lengthAdjust=\"spacingAndGlyphs\" textLength=\"68\" x=\"191\" y=\"588.1387\">«part  def»</text><text fill=\"#000000\" font-family=\"sans-serif\" font-size=\"12\" font-style=\"italic\" lengthAdjust=\"spacingAndGlyphs\" textLength=\"8\" x=\"221\" y=\"602.1074\">B</text><line style=\"stroke: #A80036; stroke-width: 1.5;\" x1=\"191\" x2=\"259\" y1=\"609.9375\" y2=\"609.9375\"/></a><!--MD5=[2156ba9850f5573cc1fc38a6a4b2f02b]\n",
       "class E7--><a href=\"psysml:4ea01713-b83a-4578-95eb-e0c0377cf261\" target=\"_top\" title=\"psysml:4ea01713-b83a-4578-95eb-e0c0377cf261\" xlink:actuate=\"onRequest\" xlink:href=\"psysml:4ea01713-b83a-4578-95eb-e0c0377cf261\" xlink:show=\"new\" xlink:title=\"psysml:4ea01713-b83a-4578-95eb-e0c0377cf261\" xlink:type=\"simple\"><rect fill=\"#FEFECE\" filter=\"url(#f1tx61omi20xol)\" height=\"45.9375\" id=\"E7\" rx=\"10\" ry=\"10\" style=\"stroke: #A80036; stroke-width: 1.5;\" width=\"42\" x=\"68\" y=\"682.5\"/><text fill=\"#000000\" font-family=\"sans-serif\" font-size=\"12\" font-style=\"italic\" lengthAdjust=\"spacingAndGlyphs\" textLength=\"40\" x=\"69\" y=\"698.6387\">«part»</text><text fill=\"#000000\" font-family=\"sans-serif\" font-size=\"12\" font-style=\"italic\" lengthAdjust=\"spacingAndGlyphs\" textLength=\"8\" x=\"75\" y=\"712.6074\">a</text><text fill=\"#000000\" font-family=\"sans-serif\" font-size=\"12\" lengthAdjust=\"spacingAndGlyphs\" textLength=\"16\" x=\"83\" y=\"712.6074\">: A</text><line style=\"stroke: #A80036; stroke-width: 1.5;\" x1=\"69\" x2=\"109\" y1=\"720.4375\" y2=\"720.4375\"/></a><!--MD5=[b9389687b975829384b498ac4b7476b2]\n",
       "class E8--><a href=\"psysml:c9f90055-486d-4326-9691-bfe47f710c68\" target=\"_top\" title=\"psysml:c9f90055-486d-4326-9691-bfe47f710c68\" xlink:actuate=\"onRequest\" xlink:href=\"psysml:c9f90055-486d-4326-9691-bfe47f710c68\" xlink:show=\"new\" xlink:title=\"psysml:c9f90055-486d-4326-9691-bfe47f710c68\" xlink:type=\"simple\"><rect fill=\"#FEFECE\" filter=\"url(#f1tx61omi20xol)\" height=\"45.9375\" id=\"E8\" rx=\"10\" ry=\"10\" style=\"stroke: #A80036; stroke-width: 1.5;\" width=\"42\" x=\"228\" y=\"682.5\"/><text fill=\"#000000\" font-family=\"sans-serif\" font-size=\"12\" font-style=\"italic\" lengthAdjust=\"spacingAndGlyphs\" textLength=\"40\" x=\"229\" y=\"698.6387\">«port»</text><text fill=\"#000000\" font-family=\"sans-serif\" font-size=\"12\" lengthAdjust=\"spacingAndGlyphs\" textLength=\"32\" x=\"231\" y=\"712.6074\">x: ~C</text><line style=\"stroke: #A80036; stroke-width: 1.5;\" x1=\"229\" x2=\"269\" y1=\"720.4375\" y2=\"720.4375\"/></a><!--MD5=[96f4274e9e20536e775497830990834d]\n",
       "class E10--><a href=\"psysml:e209a1f3-de72-4850-a45f-7036acf7c094\" target=\"_top\" title=\"psysml:e209a1f3-de72-4850-a45f-7036acf7c094\" xlink:actuate=\"onRequest\" xlink:href=\"psysml:e209a1f3-de72-4850-a45f-7036acf7c094\" xlink:show=\"new\" xlink:title=\"psysml:e209a1f3-de72-4850-a45f-7036acf7c094\" xlink:type=\"simple\"><rect fill=\"#FEFECE\" filter=\"url(#f1tx61omi20xol)\" height=\"45.9375\" id=\"E10\" style=\"stroke: #A80036; stroke-width: 1.5;\" width=\"70\" x=\"190\" y=\"449\"/><text fill=\"#000000\" font-family=\"sans-serif\" font-size=\"12\" font-style=\"italic\" lengthAdjust=\"spacingAndGlyphs\" textLength=\"68\" x=\"191\" y=\"465.1387\">«port  def»</text><text fill=\"#000000\" font-family=\"sans-serif\" font-size=\"12\" lengthAdjust=\"spacingAndGlyphs\" textLength=\"8\" x=\"221\" y=\"479.1074\">C</text><line style=\"stroke: #A80036; stroke-width: 1.5;\" x1=\"191\" x2=\"259\" y1=\"486.9375\" y2=\"486.9375\"/></a><a href=\"psysml:78dea323-2f70-496c-aa91-db5f05f12a10\" target=\"_top\" title=\"psysml:78dea323-2f70-496c-aa91-db5f05f12a10\" xlink:actuate=\"onRequest\" xlink:href=\"psysml:78dea323-2f70-496c-aa91-db5f05f12a10\" xlink:show=\"new\" xlink:title=\"psysml:78dea323-2f70-496c-aa91-db5f05f12a10\" xlink:type=\"simple\"><polygon fill=\"#FFFFFF\" filter=\"url(#f1tx61omi20xol)\" points=\"163.5,679,178.5,679,185.5,701.2969,192.5,701.2969,192.5,731.5938,163.5,731.5938,163.5,679\" style=\"stroke: #000000; stroke-width: 1.5;\"/><line style=\"stroke: #000000; stroke-width: 1.5;\" x1=\"163.5\" x2=\"185.5\" y1=\"701.2969\" y2=\"701.2969\"/><text fill=\"#000000\" font-family=\"sans-serif\" font-size=\"14\" font-weight=\"bold\" lengthAdjust=\"spacingAndGlyphs\" textLength=\"9\" x=\"167.5\" y=\"693.9951\">P</text></a><!--MD5=[2720a5a1f2c3fca2055b230370638851]\n",
       "link E2 to E3--><a href=\"psysml:de99b855-827b-4779-9c99-7b4326eef43f\" target=\"_top\" title=\"psysml:de99b855-827b-4779-9c99-7b4326eef43f\" xlink:actuate=\"onRequest\" xlink:href=\"psysml:de99b855-827b-4779-9c99-7b4326eef43f\" xlink:show=\"new\" xlink:title=\"psysml:de99b855-827b-4779-9c99-7b4326eef43f\" xlink:type=\"simple\"><path d=\"M222,87.24 C222,98.62 222,113.11 222,127.62 \" fill=\"none\" id=\"E2-&gt;E3\" style=\"stroke: #A80036; stroke-width: 1.0;\"/><polygon fill=\"#FFFFFF\" points=\"222,147.84,215,128.84,229,128.84,222,147.84\" style=\"stroke: #A80036; stroke-width: 1.0;\"/><ellipse cx=\"217\" cy=\"123.14\" fill=\"#A80036\" rx=\"2\" ry=\"2\" style=\"stroke: #A80036; stroke-width: 1.0;\"/><ellipse cx=\"227\" cy=\"123.14\" fill=\"#A80036\" rx=\"2\" ry=\"2\" style=\"stroke: #A80036; stroke-width: 1.0;\"/></a><!--MD5=[4672eba38e49728da53d11aeb285b987]\n",
       "reverse link E3 to E4--><a href=\"psysml:7d143534-3389-4013-881e-42b16664757f\" target=\"_top\" title=\"psysml:7d143534-3389-4013-881e-42b16664757f\" xlink:actuate=\"onRequest\" xlink:href=\"psysml:7d143534-3389-4013-881e-42b16664757f\" xlink:show=\"new\" xlink:title=\"psysml:7d143534-3389-4013-881e-42b16664757f\" xlink:type=\"simple\"><path d=\"M269.08,212.65 C302.85,229.56 345.81,257.51 366,297 C378.38,321.22 367.51,352.31 357.12,372.91 \" fill=\"none\" id=\"E3&lt;-E4\" style=\"stroke: #A80036; stroke-width: 1.0;\"/><polygon fill=\"#A80036\" points=\"257.11,206.92,260.7919,213.1203,267.9314,212.1063,264.2495,205.906,257.11,206.92\" style=\"stroke: #A80036; stroke-width: 1.0;\"/><text fill=\"#000000\" font-family=\"sans-serif\" font-size=\"13\" lengthAdjust=\"spacingAndGlyphs\" textLength=\"8\" x=\"352.5085\" y=\"363.0064\">1</text></a><!--MD5=[191cde3d490a3f6d7bb551fe3ddca469]\n",
       "reverse link E3 to E5--><a href=\"psysml:01061be5-5fdc-439c-afe5-881fb8746c83\" target=\"_top\" title=\"psysml:01061be5-5fdc-439c-afe5-881fb8746c83\" xlink:actuate=\"onRequest\" xlink:href=\"psysml:01061be5-5fdc-439c-afe5-881fb8746c83\" xlink:show=\"new\" xlink:title=\"psysml:01061be5-5fdc-439c-afe5-881fb8746c83\" xlink:type=\"simple\"><path d=\"M265.68,245.41 C280.65,263.38 296.6,282.52 308.48,296.78 \" fill=\"none\" id=\"E3&lt;-E5\" style=\"stroke: #A80036; stroke-width: 1.0;\"/><polygon fill=\"#FFFFFF\" points=\"257.26,235.31,258.0312,242.4797,264.9461,244.5254,264.1749,237.3557,257.26,235.31\" style=\"stroke: #A80036; stroke-width: 1.0;\"/><text fill=\"#000000\" font-family=\"sans-serif\" font-size=\"13\" lengthAdjust=\"spacingAndGlyphs\" textLength=\"8\" x=\"294.7093\" y=\"285.9999\">1</text></a><!--MD5=[79568f1e445c3877b6a54524624ccc7d]\n",
       "link E4 to E6--><a href=\"psysml:8d11eaae-af32-434c-8c3d-32f92418f4c8\" target=\"_top\" title=\"psysml:8d11eaae-af32-434c-8c3d-32f92418f4c8\" xlink:actuate=\"onRequest\" xlink:href=\"psysml:8d11eaae-af32-434c-8c3d-32f92418f4c8\" xlink:show=\"new\" xlink:title=\"psysml:8d11eaae-af32-434c-8c3d-32f92418f4c8\" xlink:type=\"simple\"><path d=\"M330.58,419.22 C310.75,452.04 273.34,513.98 248.79,554.62 \" fill=\"none\" id=\"E4-&gt;E6\" style=\"stroke: #A80036; stroke-width: 1.0;\"/><polygon fill=\"#FFFFFF\" points=\"238.37,571.87,242.2063,551.9883,254.1882,559.2294,238.37,571.87\" style=\"stroke: #A80036; stroke-width: 1.0;\"/><ellipse cx=\"246.8662\" cy=\"548.1444\" fill=\"#A80036\" rx=\"2\" ry=\"2\" style=\"stroke: #A80036; stroke-width: 1.0;\"/><ellipse cx=\"255.4247\" cy=\"553.3166\" fill=\"#A80036\" rx=\"2\" ry=\"2\" style=\"stroke: #A80036; stroke-width: 1.0;\"/></a><!--MD5=[3f50a3473f1dfb74d3f76443e03635af]\n",
       "reverse link E6 to E7--><a href=\"psysml:7466bf8a-1e84-4b05-9901-ce46ee446fa5\" target=\"_top\" title=\"psysml:7466bf8a-1e84-4b05-9901-ce46ee446fa5\" xlink:actuate=\"onRequest\" xlink:href=\"psysml:7466bf8a-1e84-4b05-9901-ce46ee446fa5\" xlink:show=\"new\" xlink:title=\"psysml:7466bf8a-1e84-4b05-9901-ce46ee446fa5\" xlink:type=\"simple\"><path d=\"M186.96,626.35 C162.12,646.16 130.61,671.3 110.14,687.64 \" fill=\"none\" id=\"E6&lt;-E7\" style=\"stroke: #A80036; stroke-width: 1.0;\"/><polygon fill=\"#A80036\" points=\"197.15,618.22,189.9656,618.8398,187.7744,625.7099,194.9589,625.0901,197.15,618.22\" style=\"stroke: #A80036; stroke-width: 1.0;\"/><text fill=\"#000000\" font-family=\"sans-serif\" font-size=\"13\" lengthAdjust=\"spacingAndGlyphs\" textLength=\"8\" x=\"118.1534\" y=\"676.6545\">1</text></a><!--MD5=[14ccda38c055a5c0da953d572bc50960]\n",
       "link E7 to E3--><a href=\"psysml:3c280f0c-0d5e-48e6-b009-cbd7db9e9beb\" target=\"_top\" title=\"psysml:3c280f0c-0d5e-48e6-b009-cbd7db9e9beb\" xlink:actuate=\"onRequest\" xlink:href=\"psysml:3c280f0c-0d5e-48e6-b009-cbd7db9e9beb\" xlink:show=\"new\" xlink:title=\"psysml:3c280f0c-0d5e-48e6-b009-cbd7db9e9beb\" xlink:type=\"simple\"><path d=\"M69.41,682.1 C53.27,661.28 33,628.64 33,596 C33,319 33,319 33,319 C33,253.99 111.37,220.46 167.18,204.82 \" fill=\"none\" id=\"E7-&gt;E3\" style=\"stroke: #A80036; stroke-width: 1.0;\"/><polygon fill=\"#FFFFFF\" points=\"186.89,199.76,170.2265,211.2633,166.7463,197.7028,186.89,199.76\" style=\"stroke: #A80036; stroke-width: 1.0;\"/><ellipse cx=\"164.2082\" cy=\"210.743\" fill=\"#A80036\" rx=\"2\" ry=\"2\" style=\"stroke: #A80036; stroke-width: 1.0;\"/><ellipse cx=\"161.7224\" cy=\"201.0569\" fill=\"#A80036\" rx=\"2\" ry=\"2\" style=\"stroke: #A80036; stroke-width: 1.0;\"/></a><!--MD5=[f4cf0736d43fd73c4ef68817c49d37d5]\n",
       "reverse link E6 to E8--><a href=\"psysml:dcb35f57-14cb-4e2c-8543-9245438ead5d\" target=\"_top\" title=\"psysml:dcb35f57-14cb-4e2c-8543-9245438ead5d\" xlink:actuate=\"onRequest\" xlink:href=\"psysml:dcb35f57-14cb-4e2c-8543-9245438ead5d\" xlink:show=\"new\" xlink:title=\"psysml:dcb35f57-14cb-4e2c-8543-9245438ead5d\" xlink:type=\"simple\"><path d=\"M232.74,630.98 C236.47,647.83 240.83,667.54 244.09,682.31 \" fill=\"none\" id=\"E6&lt;-E8\" style=\"stroke: #A80036; stroke-width: 1.0;\"/><polygon fill=\"#FFFFFF\" points=\"229.91,618.22,227.2956,624.9405,232.4936,629.9386,235.108,623.2181,229.91,618.22\" style=\"stroke: #A80036; stroke-width: 1.0;\"/><text fill=\"#000000\" font-family=\"sans-serif\" font-size=\"13\" lengthAdjust=\"spacingAndGlyphs\" textLength=\"8\" x=\"233.8068\" y=\"671.5376\">1</text></a><!--MD5=[e88d06e5a652d73a6b19930eefe025a8]\n",
       "reverse link E6 to E9--><a href=\"psysml:08766104-19a0-4aca-bf35-b4c81b8c6dcb\" target=\"_top\" title=\"psysml:08766104-19a0-4aca-bf35-b4c81b8c6dcb\" xlink:actuate=\"onRequest\" xlink:href=\"psysml:08766104-19a0-4aca-bf35-b4c81b8c6dcb\" xlink:show=\"new\" xlink:title=\"psysml:08766104-19a0-4aca-bf35-b4c81b8c6dcb\" xlink:type=\"simple\"><path d=\"M209.38,632.06 C202.74,647.39 195.15,664.91 189.1,678.88 \" fill=\"none\" id=\"E6&lt;-E9\" style=\"stroke: #A80036; stroke-width: 1.0;\"/><ellipse cx=\"212.2011\" cy=\"625.5613\" fill=\"#FFFFFF\" rx=\"8\" ry=\"8\" style=\"stroke: #A80036; stroke-width: 1.0;\"/><line style=\"stroke: #A80036; stroke-width: 1.0;\" x1=\"209.0221\" x2=\"215.38\" y1=\"632.9026\" y2=\"618.22\"/><line style=\"stroke: #A80036; stroke-width: 1.0;\" x1=\"204.8598\" x2=\"219.5423\" y1=\"622.3823\" y2=\"628.7402\"/></a><!--MD5=[f78a29d5932556fa1060671a2a6507d8]\n",
       "link E5 to E10--><a href=\"psysml:568ef262-b92a-4cba-8a4b-19f4a197db7e\" target=\"_top\" title=\"psysml:568ef262-b92a-4cba-8a4b-19f4a197db7e\" xlink:actuate=\"onRequest\" xlink:href=\"psysml:568ef262-b92a-4cba-8a4b-19f4a197db7e\" xlink:show=\"new\" xlink:title=\"psysml:568ef262-b92a-4cba-8a4b-19f4a197db7e\" xlink:type=\"simple\"><path d=\"M315.99,343.2 C305.49,363.59 288.69,394.31 271,419 C267.54,423.82 263.72,428.71 259.79,433.47 \" fill=\"none\" id=\"E5-&gt;E10\" style=\"stroke: #A80036; stroke-width: 1.0;\"/><polygon fill=\"#FFFFFF\" points=\"246.44,448.81,253.6429,429.886,264.1988,439.0824,246.44,448.81\" style=\"stroke: #A80036; stroke-width: 1.0;\"/><ellipse cx=\"258.8951\" cy=\"426.902\" fill=\"#A80036\" rx=\"2\" ry=\"2\" style=\"stroke: #A80036; stroke-width: 1.0;\"/><ellipse cx=\"266.435\" cy=\"433.4709\" fill=\"#A80036\" rx=\"2\" ry=\"2\" style=\"stroke: #A80036; stroke-width: 1.0;\"/></a><!--MD5=[8e04057e7b3cbc0dca4fc78ea351e2da]\n",
       "reverse link E10 to E3--><a href=\"psysml:f2bac2b1-68d1-4631-bf1f-fa6cff2f703f\" target=\"_top\" title=\"psysml:f2bac2b1-68d1-4631-bf1f-fa6cff2f703f\" xlink:actuate=\"onRequest\" xlink:href=\"psysml:f2bac2b1-68d1-4631-bf1f-fa6cff2f703f\" xlink:show=\"new\" xlink:title=\"psysml:f2bac2b1-68d1-4631-bf1f-fa6cff2f703f\" xlink:type=\"simple\"><path d=\"M191.07,439.41 C168.36,415.54 140.89,380.56 131,343 C125.79,323.23 123.81,316.14 131,297 C142.22,267.13 166.35,240.23 186.94,221.27 \" fill=\"none\" id=\"E10&lt;-E3\" style=\"stroke: #A80036; stroke-width: 1.0;\"/><polygon fill=\"#FFFFFF\" points=\"200.44,448.94,199.0863,441.8571,192.0275,440.3825,193.3813,447.4654,200.44,448.94\" style=\"stroke: #A80036; stroke-width: 1.0;\"/><text fill=\"#000000\" font-family=\"sans-serif\" font-size=\"13\" lengthAdjust=\"spacingAndGlyphs\" textLength=\"7\" x=\"132\" y=\"324.5669\">y</text></a><!--MD5=[8e04057e7b3cbc0dca4fc78ea351e2da]\n",
       "reverse link E10 to E3--><a href=\"psysml:f2bac2b1-68d1-4631-bf1f-fa6cff2f703f\" target=\"_top\" title=\"psysml:f2bac2b1-68d1-4631-bf1f-fa6cff2f703f\" xlink:actuate=\"onRequest\" xlink:href=\"psysml:f2bac2b1-68d1-4631-bf1f-fa6cff2f703f\" xlink:show=\"new\" xlink:title=\"psysml:f2bac2b1-68d1-4631-bf1f-fa6cff2f703f\" xlink:type=\"simple\"><path d=\"M218.94,435.48 C213.66,400.35 207.24,345.02 210,297 C211.15,276.95 213.55,254.83 215.89,236.17 \" fill=\"none\" id=\"E10&lt;-E3-1\" style=\"stroke: #A80036; stroke-width: 1.0;\"/><polygon fill=\"#FFFFFF\" points=\"221.04,448.78,224.0549,442.2294,219.1678,436.927,216.1529,443.4776,221.04,448.78\" style=\"stroke: #A80036; stroke-width: 1.0;\"/><text fill=\"#000000\" font-family=\"sans-serif\" font-size=\"13\" lengthAdjust=\"spacingAndGlyphs\" textLength=\"7\" x=\"211\" y=\"324.5669\">y</text></a><!--MD5=[8e04057e7b3cbc0dca4fc78ea351e2da]\n",
       "reverse link E10 to E3--><a href=\"psysml:f2bac2b1-68d1-4631-bf1f-fa6cff2f703f\" target=\"_top\" title=\"psysml:f2bac2b1-68d1-4631-bf1f-fa6cff2f703f\" xlink:actuate=\"onRequest\" xlink:href=\"psysml:f2bac2b1-68d1-4631-bf1f-fa6cff2f703f\" xlink:show=\"new\" xlink:title=\"psysml:f2bac2b1-68d1-4631-bf1f-fa6cff2f703f\" xlink:type=\"simple\"><path d=\"M224.62,435.77 C224.07,384.92 223.06,291.06 222.47,236.13 \" fill=\"none\" id=\"E10&lt;-E3-2\" style=\"stroke: #A80036; stroke-width: 1.0;\"/><polygon fill=\"#FFFFFF\" points=\"224.76,448.9,228.6938,442.8564,224.6281,436.9007,220.6943,442.9443,224.76,448.9\" style=\"stroke: #A80036; stroke-width: 1.0;\"/><text fill=\"#000000\" font-family=\"sans-serif\" font-size=\"13\" lengthAdjust=\"spacingAndGlyphs\" textLength=\"7\" x=\"224\" y=\"324.5669\">y</text></a><!--MD5=[604cbf994c02b74b117f728a71673cea]\n",
       "reverse link E10 to E6--><a href=\"psysml:f2bac2b1-68d1-4631-bf1f-fa6cff2f703f\" target=\"_top\" title=\"psysml:f2bac2b1-68d1-4631-bf1f-fa6cff2f703f\" xlink:actuate=\"onRequest\" xlink:href=\"psysml:f2bac2b1-68d1-4631-bf1f-fa6cff2f703f\" xlink:show=\"new\" xlink:title=\"psysml:f2bac2b1-68d1-4631-bf1f-fa6cff2f703f\" xlink:type=\"simple\"><path d=\"M233.39,508.23 C235.07,519.04 236.05,530.99 235,542 C234.06,551.88 232.13,562.68 230.22,571.87 \" fill=\"none\" id=\"E10&lt;-E6\" style=\"stroke: #A80036; stroke-width: 1.0;\"/><polygon fill=\"#FFFFFF\" points=\"230.97,495.31,228.1398,501.9425,233.1735,507.106,236.0037,500.4735,230.97,495.31\" style=\"stroke: #A80036; stroke-width: 1.0;\"/><text fill=\"#000000\" font-family=\"sans-serif\" font-size=\"13\" lengthAdjust=\"spacingAndGlyphs\" textLength=\"7\" x=\"236\" y=\"538.0669\">y</text></a><!--MD5=[604cbf994c02b74b117f728a71673cea]\n",
       "reverse link E10 to E6--><a href=\"psysml:f2bac2b1-68d1-4631-bf1f-fa6cff2f703f\" target=\"_top\" title=\"psysml:f2bac2b1-68d1-4631-bf1f-fa6cff2f703f\" xlink:actuate=\"onRequest\" xlink:href=\"psysml:f2bac2b1-68d1-4631-bf1f-fa6cff2f703f\" xlink:show=\"new\" xlink:title=\"psysml:f2bac2b1-68d1-4631-bf1f-fa6cff2f703f\" xlink:type=\"simple\"><path d=\"M189.04,504.87 C184.13,511.03 179.81,517.82 177,525 C170.3,542.12 181.83,559.11 195.26,571.94 \" fill=\"none\" id=\"E10&lt;-E6-1\" style=\"stroke: #A80036; stroke-width: 1.0;\"/><polygon fill=\"#FFFFFF\" points=\"197.73,495.16,190.7505,496.973,189.7396,504.1129,196.7191,502.2999,197.73,495.16\" style=\"stroke: #A80036; stroke-width: 1.0;\"/><text fill=\"#000000\" font-family=\"sans-serif\" font-size=\"13\" lengthAdjust=\"spacingAndGlyphs\" textLength=\"7\" x=\"178\" y=\"538.0669\">y</text></a><!--MD5=[604cbf994c02b74b117f728a71673cea]\n",
       "reverse link E10 to E6--><a href=\"psysml:f2bac2b1-68d1-4631-bf1f-fa6cff2f703f\" target=\"_top\" title=\"psysml:f2bac2b1-68d1-4631-bf1f-fa6cff2f703f\" xlink:actuate=\"onRequest\" xlink:href=\"psysml:f2bac2b1-68d1-4631-bf1f-fa6cff2f703f\" xlink:show=\"new\" xlink:title=\"psysml:f2bac2b1-68d1-4631-bf1f-fa6cff2f703f\" xlink:type=\"simple\"><path d=\"M225,508.22 C225,528.81 225,554.16 225,571.95 \" fill=\"none\" id=\"E10&lt;-E6-2\" style=\"stroke: #A80036; stroke-width: 1.0;\"/><polygon fill=\"#FFFFFF\" points=\"225,495.19,221,501.19,225,507.19,229,501.19,225,495.19\" style=\"stroke: #A80036; stroke-width: 1.0;\"/><text fill=\"#000000\" font-family=\"sans-serif\" font-size=\"13\" lengthAdjust=\"spacingAndGlyphs\" textLength=\"7\" x=\"226\" y=\"538.0669\">y</text></a><!--MD5=[a67e951686c2ed47c45369429a44b0e0]\n",
       "@startuml\r\n",
       "skinparam wrapWidth 300\r\n",
       "hide circle\r\n",
       "\r\n",
       "package \"PartTest\" as E1  [[psysml:c38775ed-c195-45a3-878f-69446059ff99 ]]  {\r\n",
       "comp usage \"f: A \" as E2  <<(T,blue) part>> [[psysml:133b9857-5562-4f09-a022-80109f8d4a7d ]] {\r\n",
       "}\r\n",
       "comp def \"A\" as E3  <<(T,blue) part  def>> [[psysml:41a43e73-47d4-427d-aa17-f57a90b2778c ]] {\r\n",
       "- - attributes - -\r\n",
       "x\r\n",
       "y:> A::x\r\n",
       "}\r\n",
       "comp usage \"b: B \" as E4  <<(T,blue) part>> [[psysml:23a90af0-4107-4bf0-84ea-ac7115753c4e ]] {\r\n",
       "}\r\n",
       "comp usage \"c: C \" as E5  <<(T,blue) port>> [[psysml:3bde4e3d-0323-4342-8ecc-6f2c3dab5224 ]] {\r\n",
       "}\r\n",
       "comp def \"<i>B</i>\" as E6  <<(T,blue) part  def>> [[psysml:c17c630d-59e9-4f7e-a520-276041a9c800 ]] {\r\n",
       "}\r\n",
       "comp usage \"<i>a</i>: A \" as E7  <<(T,blue) part>> [[psysml:4ea01713-b83a-4578-95eb-e0c0377cf261 ]] {\r\n",
       "}\r\n",
       "comp usage \"x: ~C \" as E8  <<(T,blue) port>> [[psysml:c9f90055-486d-4326-9691-bfe47f710c68 ]] {\r\n",
       "}\r\n",
       "package \"P\" as E9  [[psysml:78dea323-2f70-496c-aa91-db5f05f12a10 ]]  {\r\n",
       "}\r\n",
       "comp def \"C\" as E10  <<(T,blue) port  def>> [[psysml:e209a1f3-de72-4850-a45f-7036acf7c094 ]] {\r\n",
       "}\r\n",
       "}\r\n",
       "E2 - -:|> E3 [[psysml:de99b855-827b-4779-9c99-7b4326eef43f ]] \r\n",
       "E3 *- - \"1\"E4 [[psysml:7d143534-3389-4013-881e-42b16664757f ]] \r\n",
       "E3 o- - \"1\"E5 [[psysml:01061be5-5fdc-439c-afe5-881fb8746c83 ]] \r\n",
       "E4 - -:|> E6 [[psysml:8d11eaae-af32-434c-8c3d-32f92418f4c8 ]] \r\n",
       "E6 *- - \"1\"E7 [[psysml:7466bf8a-1e84-4b05-9901-ce46ee446fa5 ]] \r\n",
       "E7 - -:|> E3 [[psysml:3c280f0c-0d5e-48e6-b009-cbd7db9e9beb ]] \r\n",
       "E6 o- - \"1\"E8 [[psysml:dcb35f57-14cb-4e2c-8543-9245438ead5d ]] \r\n",
       "E6 +- - E9 [[psysml:08766104-19a0-4aca-bf35-b4c81b8c6dcb ]] \r\n",
       "E5 - -:|> E10 [[psysml:568ef262-b92a-4cba-8a4b-19f4a197db7e ]] \r\n",
       "E10 o- - E3 [[psysml:f2bac2b1-68d1-4631-bf1f-fa6cff2f703f ]] : y\r\n",
       "E10 o- - E6 [[psysml:f2bac2b1-68d1-4631-bf1f-fa6cff2f703f ]] : y\r\n",
       "E10 o- - E3 [[psysml:f2bac2b1-68d1-4631-bf1f-fa6cff2f703f ]] : y\r\n",
       "E10 o- - E6 [[psysml:f2bac2b1-68d1-4631-bf1f-fa6cff2f703f ]] : y\r\n",
       "E10 o- - E3 [[psysml:f2bac2b1-68d1-4631-bf1f-fa6cff2f703f ]] : y\r\n",
       "E10 o- - E6 [[psysml:f2bac2b1-68d1-4631-bf1f-fa6cff2f703f ]] : y\r\n",
       "@enduml\r\n",
       "\n",
       "PlantUML version 1.2020.13(Sat Jun 13 12:26:38 UTC 2020)\n",
       "(EPL source distribution)\n",
       "Java Runtime: OpenJDK Runtime Environment\n",
       "JVM: OpenJDK 64-Bit Server VM\n",
       "Default Encoding: UTF-8\n",
       "Language: en\n",
       "Country: null\n",
       "--></g></svg>"
      ]
     },
     "execution_count": 24,
     "metadata": {},
     "output_type": "execute_result"
    }
   ],
   "source": [
    "%viz --style=\"STDCOLOR\" --view=\"Tree\" \"PartTest\""
   ]
  },
  {
   "cell_type": "code",
   "execution_count": 25,
   "id": "a5f9c721",
   "metadata": {
    "execution": {
     "iopub.execute_input": "2022-02-05T16:55:44.150371Z",
     "iopub.status.busy": "2022-02-05T16:55:44.150136Z",
     "iopub.status.idle": "2022-02-05T16:55:44.154042Z",
     "shell.execute_reply": "2022-02-05T16:55:44.154356Z"
    }
   },
   "outputs": [
    {
     "data": {
      "image/svg+xml": [
       "<?xml version=\"1.0\" encoding=\"UTF-8\" standalone=\"no\"?><svg xmlns=\"http://www.w3.org/2000/svg\" xmlns:xlink=\"http://www.w3.org/1999/xlink\" contentScriptType=\"application/ecmascript\" contentStyleType=\"text/css\" height=\"12px\" preserveAspectRatio=\"none\" style=\"width:12px;height:12px;\" version=\"1.1\" viewBox=\"0 0 12 12\" width=\"12px\" zoomAndPan=\"magnify\"><defs/><g><!--MD5=[aeeef50f102b80d730deb6443d14f702]\n",
       "@startuml\r\n",
       "skinparam wrapWidth 300\r\n",
       "hide circle\r\n",
       "\r\n",
       "@enduml\r\n",
       "\n",
       "PlantUML version 1.2020.13(Sat Jun 13 12:26:38 UTC 2020)\n",
       "(EPL source distribution)\n",
       "Java Runtime: OpenJDK Runtime Environment\n",
       "JVM: OpenJDK 64-Bit Server VM\n",
       "Default Encoding: UTF-8\n",
       "Language: en\n",
       "Country: null\n",
       "--></g></svg>"
      ]
     },
     "execution_count": 25,
     "metadata": {},
     "output_type": "execute_result"
    }
   ],
   "source": [
    "%viz --style=\"STDCOLOR\" --view=\"State\" \"PartTest\""
   ]
  },
  {
   "cell_type": "code",
   "execution_count": 26,
   "id": "72695b91",
   "metadata": {
    "execution": {
     "iopub.execute_input": "2022-02-05T16:55:44.204541Z",
     "iopub.status.busy": "2022-02-05T16:55:44.204144Z",
     "iopub.status.idle": "2022-02-05T16:55:44.241348Z",
     "shell.execute_reply": "2022-02-05T16:55:44.240134Z"
    }
   },
   "outputs": [
    {
     "data": {
      "image/svg+xml": [
       "<?xml version=\"1.0\" encoding=\"UTF-8\" standalone=\"no\"?><svg xmlns=\"http://www.w3.org/2000/svg\" xmlns:xlink=\"http://www.w3.org/1999/xlink\" contentScriptType=\"application/ecmascript\" contentStyleType=\"text/css\" height=\"253px\" preserveAspectRatio=\"none\" style=\"width:685px;height:253px;\" version=\"1.1\" viewBox=\"0 0 685 253\" width=\"685px\" zoomAndPan=\"magnify\"><defs><filter height=\"300%\" id=\"fe3078yktu0hz\" width=\"300%\" x=\"-1\" y=\"-1\"><feGaussianBlur result=\"blurOut\" stdDeviation=\"2.0\"/><feColorMatrix in=\"blurOut\" result=\"blurOut2\" type=\"matrix\" values=\"0 0 0 0 0 0 0 0 0 0 0 0 0 0 0 0 0 0 .4 0\"/><feOffset dx=\"4.0\" dy=\"4.0\" in=\"blurOut2\" result=\"blurOut3\"/><feBlend in=\"SourceGraphic\" in2=\"blurOut3\" mode=\"normal\"/></filter></defs><g><!--MD5=[fbc87193dbaf4d95561dea2c320d4a47]\n",
       "cluster E1--><a href=\"psysml:c38775ed-c195-45a3-878f-69446059ff99\" target=\"_top\" title=\"psysml:c38775ed-c195-45a3-878f-69446059ff99\" xlink:actuate=\"onRequest\" xlink:href=\"psysml:c38775ed-c195-45a3-878f-69446059ff99\" xlink:show=\"new\" xlink:title=\"psysml:c38775ed-c195-45a3-878f-69446059ff99\" xlink:type=\"simple\"><polygon fill=\"#FFFFFF\" filter=\"url(#fe3078yktu0hz)\" points=\"16,6,80,6,87,28.2969,663,28.2969,663,241,16,241,16,6\" style=\"stroke: #000000; stroke-width: 1.5;\"/><line style=\"stroke: #000000; stroke-width: 1.5;\" x1=\"16\" x2=\"87\" y1=\"28.2969\" y2=\"28.2969\"/><text fill=\"#000000\" font-family=\"sans-serif\" font-size=\"14\" font-weight=\"bold\" lengthAdjust=\"spacingAndGlyphs\" textLength=\"58\" x=\"20\" y=\"20.9951\">PartTest</text></a><!--MD5=[d5e69f78d87373223dbae638b30a9c99]\n",
       "cluster E3--><a href=\"psysml:41a43e73-47d4-427d-aa17-f57a90b2778c\" target=\"_top\" title=\"psysml:41a43e73-47d4-427d-aa17-f57a90b2778c\" xlink:actuate=\"onRequest\" xlink:href=\"psysml:41a43e73-47d4-427d-aa17-f57a90b2778c\" xlink:show=\"new\" xlink:title=\"psysml:41a43e73-47d4-427d-aa17-f57a90b2778c\" xlink:type=\"simple\"><rect fill=\"#FFFFFF\" filter=\"url(#fe3078yktu0hz)\" height=\"159\" id=\"E3\" style=\"stroke: #A80036; stroke-width: 1.5;\" width=\"230\" x=\"417\" y=\"62.5\"/><rect fill=\"#FEFECE\" height=\"37.9375\" style=\"stroke: #A80036; stroke-width: 1.5;\" width=\"230\" x=\"417\" y=\"62.5\"/><text fill=\"#000000\" font-family=\"sans-serif\" font-size=\"12\" font-style=\"italic\" lengthAdjust=\"spacingAndGlyphs\" textLength=\"68\" x=\"498\" y=\"78.6387\">«part  def»</text><text fill=\"#000000\" font-family=\"sans-serif\" font-size=\"12\" lengthAdjust=\"spacingAndGlyphs\" textLength=\"8\" x=\"528\" y=\"92.6074\">A</text></a><!--MD5=[55dfccfc6c49c2d10cd1bd2211a6c90c]\n",
       "cluster E8--><a href=\"psysml:c17c630d-59e9-4f7e-a520-276041a9c800\" target=\"_top\" title=\"psysml:c17c630d-59e9-4f7e-a520-276041a9c800\" xlink:actuate=\"onRequest\" xlink:href=\"psysml:c17c630d-59e9-4f7e-a520-276041a9c800\" xlink:show=\"new\" xlink:title=\"psysml:c17c630d-59e9-4f7e-a520-276041a9c800\" xlink:type=\"simple\"><rect fill=\"#FFFFFF\" filter=\"url(#fe3078yktu0hz)\" height=\"162.5\" id=\"E8\" style=\"stroke: #A80036; stroke-width: 1.5;\" width=\"209\" x=\"200\" y=\"62.5\"/><rect fill=\"#FEFECE\" height=\"37.9375\" style=\"stroke: #A80036; stroke-width: 1.5;\" width=\"209\" x=\"200\" y=\"62.5\"/><text fill=\"#000000\" font-family=\"sans-serif\" font-size=\"12\" font-style=\"italic\" lengthAdjust=\"spacingAndGlyphs\" textLength=\"68\" x=\"270.5\" y=\"78.6387\">«part  def»</text><text fill=\"#000000\" font-family=\"sans-serif\" font-size=\"12\" font-style=\"italic\" lengthAdjust=\"spacingAndGlyphs\" textLength=\"8\" x=\"300.5\" y=\"92.6074\">B</text></a><g id=\"E1.E12\"><a href=\"psysml:e209a1f3-de72-4850-a45f-7036acf7c094\" target=\"_top\" title=\"psysml:e209a1f3-de72-4850-a45f-7036acf7c094\" xlink:actuate=\"onRequest\" xlink:href=\"psysml:e209a1f3-de72-4850-a45f-7036acf7c094\" xlink:show=\"new\" xlink:title=\"psysml:e209a1f3-de72-4850-a45f-7036acf7c094\" xlink:type=\"simple\"><rect fill=\"#FEFECE\" filter=\"url(#fe3078yktu0hz)\" height=\"42.9375\" id=\"E12\" style=\"stroke: #A80036; stroke-width: 1.5;\" width=\"75\" x=\"117.5\" y=\"41\"/><text fill=\"#000000\" font-family=\"sans-serif\" font-size=\"12\" font-style=\"italic\" lengthAdjust=\"spacingAndGlyphs\" textLength=\"68\" x=\"121\" y=\"57.1387\">«port  def»</text><text fill=\"#000000\" font-family=\"sans-serif\" font-size=\"12\" lengthAdjust=\"spacingAndGlyphs\" textLength=\"8\" x=\"151\" y=\"71.1074\">C</text></a></g><g id=\"E1.E2\"><a href=\"psysml:133b9857-5562-4f09-a022-80109f8d4a7d\" target=\"_top\" title=\"psysml:133b9857-5562-4f09-a022-80109f8d4a7d\" xlink:actuate=\"onRequest\" xlink:href=\"psysml:133b9857-5562-4f09-a022-80109f8d4a7d\" xlink:show=\"new\" xlink:title=\"psysml:133b9857-5562-4f09-a022-80109f8d4a7d\" xlink:type=\"simple\"><rect fill=\"#FEFECE\" filter=\"url(#fe3078yktu0hz)\" height=\"40\" id=\"E2\" rx=\"10\" ry=\"10\" style=\"stroke: #A80036; stroke-width: 1.5;\" width=\"50\" x=\"32\" y=\"42.5\"/><text fill=\"#000000\" font-family=\"sans-serif\" font-size=\"12\" lengthAdjust=\"spacingAndGlyphs\" textLength=\"20\" x=\"47\" y=\"58.6387\">f: A</text></a></g><text fill=\"#000000\" font-family=\"sans-serif\" font-size=\"14\" lengthAdjust=\"spacingAndGlyphs\" textLength=\"27\" x=\"569.5\" y=\"41.1982\">c: C</text><rect fill=\"#A80036\" height=\"12\" style=\"stroke: #FEFECE; stroke-width: 1.5;\" width=\"12\" x=\"579\" y=\"56.5\"/><!--MD5=[60a26617385b1d2d0262a64233df1f8d]\n",
       "class E6--><a href=\"psysml:445f494e-a94c-4fdf-9cc7-f31ccfeaa97f\" target=\"_top\" title=\"psysml:445f494e-a94c-4fdf-9cc7-f31ccfeaa97f\" xlink:actuate=\"onRequest\" xlink:href=\"psysml:445f494e-a94c-4fdf-9cc7-f31ccfeaa97f\" xlink:show=\"new\" xlink:title=\"psysml:445f494e-a94c-4fdf-9cc7-f31ccfeaa97f\" xlink:type=\"simple\"><rect fill=\"#FEFECE\" filter=\"url(#fe3078yktu0hz)\" height=\"45.9375\" id=\"E6\" rx=\"10\" ry=\"10\" style=\"stroke: #A80036; stroke-width: 1.5;\" width=\"71\" x=\"433.5\" y=\"159.5\"/><text fill=\"#000000\" font-family=\"sans-serif\" font-size=\"12\" font-style=\"italic\" lengthAdjust=\"spacingAndGlyphs\" textLength=\"69\" x=\"434.5\" y=\"175.6387\">«attribute»</text><text fill=\"#000000\" font-family=\"sans-serif\" font-size=\"12\" lengthAdjust=\"spacingAndGlyphs\" textLength=\"6\" x=\"464\" y=\"189.6074\">x</text><line style=\"stroke: #A80036; stroke-width: 1.5;\" x1=\"434.5\" x2=\"503.5\" y1=\"197.4375\" y2=\"197.4375\"/></a><!--MD5=[2156ba9850f5573cc1fc38a6a4b2f02b]\n",
       "class E7--><a href=\"psysml:83189ed0-8892-41b6-b657-b7e16a6a2eeb\" target=\"_top\" title=\"psysml:83189ed0-8892-41b6-b657-b7e16a6a2eeb\" xlink:actuate=\"onRequest\" xlink:href=\"psysml:83189ed0-8892-41b6-b657-b7e16a6a2eeb\" xlink:show=\"new\" xlink:title=\"psysml:83189ed0-8892-41b6-b657-b7e16a6a2eeb\" xlink:type=\"simple\"><rect fill=\"#FEFECE\" filter=\"url(#fe3078yktu0hz)\" height=\"45.9375\" id=\"E7\" rx=\"10\" ry=\"10\" style=\"stroke: #A80036; stroke-width: 1.5;\" width=\"71\" x=\"433.5\" y=\"100\"/><text fill=\"#000000\" font-family=\"sans-serif\" font-size=\"12\" font-style=\"italic\" lengthAdjust=\"spacingAndGlyphs\" textLength=\"69\" x=\"434.5\" y=\"116.1387\">«attribute»</text><text fill=\"#000000\" font-family=\"sans-serif\" font-size=\"12\" lengthAdjust=\"spacingAndGlyphs\" textLength=\"50\" x=\"444\" y=\"130.1074\">y :&gt; A::x</text><line style=\"stroke: #A80036; stroke-width: 1.5;\" x1=\"434.5\" x2=\"503.5\" y1=\"137.9375\" y2=\"137.9375\"/></a><g id=\"E1.E3.E4\"><a href=\"psysml:23a90af0-4107-4bf0-84ea-ac7115753c4e\" target=\"_top\" title=\"psysml:23a90af0-4107-4bf0-84ea-ac7115753c4e\" xlink:actuate=\"onRequest\" xlink:href=\"psysml:23a90af0-4107-4bf0-84ea-ac7115753c4e\" xlink:show=\"new\" xlink:title=\"psysml:23a90af0-4107-4bf0-84ea-ac7115753c4e\" xlink:type=\"simple\"><rect fill=\"#FEFECE\" filter=\"url(#fe3078yktu0hz)\" height=\"40\" id=\"E4\" rx=\"10\" ry=\"10\" style=\"stroke: #A80036; stroke-width: 1.5;\" width=\"50\" x=\"560\" y=\"162.5\"/><text fill=\"#000000\" font-family=\"sans-serif\" font-size=\"12\" lengthAdjust=\"spacingAndGlyphs\" textLength=\"24\" x=\"573\" y=\"178.6387\">b: B</text></a></g><text fill=\"#000000\" font-family=\"sans-serif\" font-size=\"14\" lengthAdjust=\"spacingAndGlyphs\" textLength=\"38\" x=\"326\" y=\"41.1982\">x: ~C</text><rect fill=\"#A80036\" height=\"12\" style=\"stroke: #FEFECE; stroke-width: 1.5;\" width=\"12\" x=\"341\" y=\"56.5\"/><g id=\"E1.E8.E9\"><a href=\"psysml:4ea01713-b83a-4578-95eb-e0c0377cf261\" target=\"_top\" title=\"psysml:4ea01713-b83a-4578-95eb-e0c0377cf261\" xlink:actuate=\"onRequest\" xlink:href=\"psysml:4ea01713-b83a-4578-95eb-e0c0377cf261\" xlink:show=\"new\" xlink:title=\"psysml:4ea01713-b83a-4578-95eb-e0c0377cf261\" xlink:type=\"simple\"><rect fill=\"#FEFECE\" filter=\"url(#fe3078yktu0hz)\" height=\"40\" id=\"E9\" rx=\"10\" ry=\"10\" style=\"stroke: #A80036; stroke-width: 1.5;\" width=\"50\" x=\"216\" y=\"103\"/><text fill=\"#000000\" font-family=\"sans-serif\" font-size=\"12\" lengthAdjust=\"spacingAndGlyphs\" textLength=\"24\" x=\"229\" y=\"119.1387\">a: A</text></a></g><a href=\"psysml:78dea323-2f70-496c-aa91-db5f05f12a10\" target=\"_top\" title=\"psysml:78dea323-2f70-496c-aa91-db5f05f12a10\" xlink:actuate=\"onRequest\" xlink:href=\"psysml:78dea323-2f70-496c-aa91-db5f05f12a10\" xlink:show=\"new\" xlink:title=\"psysml:78dea323-2f70-496c-aa91-db5f05f12a10\" xlink:type=\"simple\"><polygon fill=\"#FFFFFF\" filter=\"url(#fe3078yktu0hz)\" points=\"332.5,156,347.5,156,354.5,178.2969,361.5,178.2969,361.5,208.5938,332.5,208.5938,332.5,156\" style=\"stroke: #000000; stroke-width: 1.5;\"/><line style=\"stroke: #000000; stroke-width: 1.5;\" x1=\"332.5\" x2=\"354.5\" y1=\"178.2969\" y2=\"178.2969\"/><text fill=\"#000000\" font-family=\"sans-serif\" font-size=\"14\" font-weight=\"bold\" lengthAdjust=\"spacingAndGlyphs\" textLength=\"9\" x=\"336.5\" y=\"170.9951\">P</text></a><!--MD5=[fbb449814971db3a0b8220cf225b9e01]\n",
       "link E7 to E6--><a href=\"psysml:2104b8b7-83c3-4383-b55d-abdf660b6842\" target=\"_top\" title=\"psysml:2104b8b7-83c3-4383-b55d-abdf660b6842\" xlink:actuate=\"onRequest\" xlink:href=\"psysml:2104b8b7-83c3-4383-b55d-abdf660b6842\" xlink:show=\"new\" xlink:title=\"psysml:2104b8b7-83c3-4383-b55d-abdf660b6842\" xlink:type=\"simple\"><path d=\"M469,146.07 C469,146.2 469,146.34 469,146.47 \" fill=\"none\" id=\"E7-&gt;E6\" style=\"stroke: #A80036; stroke-width: 1.0;\"/><polygon fill=\"none\" points=\"476,139.21,469,159.21,462,139.21,476,139.21\" style=\"stroke: #A80036; stroke-width: 1.0;\"/></a><!--MD5=[dbbac3ef6e3b4781d3d390da26c1b339]\n",
       "@startuml\r\n",
       "skinparam ranksep 10\r\n",
       "skinparam rectangle {\r\n",
       " backgroundColor<<block>> LightGreen\r\n",
       "}\r\n",
       "skinparam wrapWidth 300\r\n",
       "hide circle\r\n",
       "\r\n",
       "package \"PartTest\" as E1  [[psysml:c38775ed-c195-45a3-878f-69446059ff99 ]]  {\r\n",
       "rec usage \"f: A\" as E2  [[psysml:133b9857-5562-4f09-a022-80109f8d4a7d ]] {\r\n",
       "}\r\n",
       "rec def \"A\" as E3  <<(T,blue) part  def>> [[psysml:41a43e73-47d4-427d-aa17-f57a90b2778c ]] {\r\n",
       "rec usage \"b: B\" as E4  [[psysml:23a90af0-4107-4bf0-84ea-ac7115753c4e ]] {\r\n",
       "}\r\n",
       "portin \"c: C \" as E5  <<(T,blue) port>> [[psysml:3bde4e3d-0323-4342-8ecc-6f2c3dab5224 ]] \r\n",
       "comp usage \"x \" as E6  <<(T,blue) attribute>> [[psysml:445f494e-a94c-4fdf-9cc7-f31ccfeaa97f ]] {\r\n",
       "}\r\n",
       "comp usage \"y :> A::x\" as E7  <<(T,blue) attribute>> [[psysml:83189ed0-8892-41b6-b657-b7e16a6a2eeb ]] {\r\n",
       "}\r\n",
       "}\r\n",
       "rec def \"<i>B</i>\" as E8  <<(T,blue) part  def>> [[psysml:c17c630d-59e9-4f7e-a520-276041a9c800 ]] {\r\n",
       "rec usage \"a: A\" as E9  [[psysml:4ea01713-b83a-4578-95eb-e0c0377cf261 ]] {\r\n",
       "}\r\n",
       "portin \"x: ~C \" as E10  <<(T,blue) port>> [[psysml:c9f90055-486d-4326-9691-bfe47f710c68 ]] \r\n",
       "package \"P\" as E11  [[psysml:78dea323-2f70-496c-aa91-db5f05f12a10 ]]  {\r\n",
       "}\r\n",
       "}\r\n",
       "def \"C\" as E12  <<(T,blue) port  def>> [[psysml:e209a1f3-de72-4850-a45f-7036acf7c094 ]] \r\n",
       "}\r\n",
       "E7 - -|> E6 [[psysml:2104b8b7-83c3-4383-b55d-abdf660b6842 ]] \r\n",
       "@enduml\r\n",
       "\n",
       "PlantUML version 1.2020.13(Sat Jun 13 12:26:38 UTC 2020)\n",
       "(EPL source distribution)\n",
       "Java Runtime: OpenJDK Runtime Environment\n",
       "JVM: OpenJDK 64-Bit Server VM\n",
       "Default Encoding: UTF-8\n",
       "Language: en\n",
       "Country: null\n",
       "--></g></svg>"
      ]
     },
     "execution_count": 26,
     "metadata": {},
     "output_type": "execute_result"
    }
   ],
   "source": [
    "%viz --style=\"STDCOLOR\" --view=\"Interconnection\" \"PartTest\""
   ]
  },
  {
   "cell_type": "code",
   "execution_count": 27,
   "id": "fd1353ac",
   "metadata": {
    "execution": {
     "iopub.execute_input": "2022-02-05T16:55:44.291213Z",
     "iopub.status.busy": "2022-02-05T16:55:44.290785Z",
     "iopub.status.idle": "2022-02-05T16:55:44.295584Z",
     "shell.execute_reply": "2022-02-05T16:55:44.295918Z"
    }
   },
   "outputs": [
    {
     "data": {
      "image/svg+xml": [
       "<?xml version=\"1.0\" encoding=\"UTF-8\" standalone=\"no\"?><svg xmlns=\"http://www.w3.org/2000/svg\" xmlns:xlink=\"http://www.w3.org/1999/xlink\" contentScriptType=\"application/ecmascript\" contentStyleType=\"text/css\" height=\"12px\" preserveAspectRatio=\"none\" style=\"width:12px;height:12px;\" version=\"1.1\" viewBox=\"0 0 12 12\" width=\"12px\" zoomAndPan=\"magnify\"><defs/><g><!--MD5=[9863325348a96a77dacc89509d8ee65e]\n",
       "@startuml\r\n",
       "skinparam ranksep 8\r\n",
       "skinparam wrapWidth 300\r\n",
       "hide circle\r\n",
       "\r\n",
       "@enduml\r\n",
       "\n",
       "PlantUML version 1.2020.13(Sat Jun 13 12:26:38 UTC 2020)\n",
       "(EPL source distribution)\n",
       "Java Runtime: OpenJDK Runtime Environment\n",
       "JVM: OpenJDK 64-Bit Server VM\n",
       "Default Encoding: UTF-8\n",
       "Language: en\n",
       "Country: null\n",
       "--></g></svg>"
      ]
     },
     "execution_count": 27,
     "metadata": {},
     "output_type": "execute_result"
    }
   ],
   "source": [
    "%viz --style=\"STDCOLOR\" --view=\"Action\" \"PartTest\""
   ]
  },
  {
   "cell_type": "code",
   "execution_count": 28,
   "id": "5ace29ed",
   "metadata": {
    "execution": {
     "iopub.execute_input": "2022-02-05T16:55:44.345818Z",
     "iopub.status.busy": "2022-02-05T16:55:44.345491Z",
     "iopub.status.idle": "2022-02-05T16:55:44.351223Z",
     "shell.execute_reply": "2022-02-05T16:55:44.350807Z"
    }
   },
   "outputs": [
    {
     "data": {
      "image/svg+xml": [
       "<?xml version=\"1.0\" encoding=\"UTF-8\" standalone=\"no\"?><svg xmlns=\"http://www.w3.org/2000/svg\" xmlns:xlink=\"http://www.w3.org/1999/xlink\" contentScriptType=\"application/ecmascript\" contentStyleType=\"text/css\" height=\"12px\" preserveAspectRatio=\"none\" style=\"width:12px;height:12px;\" version=\"1.1\" viewBox=\"0 0 12 12\" width=\"12px\" zoomAndPan=\"magnify\"><defs/><g><!--MD5=[6c4bca67b4d71758159a5a7f1f1e1fc2]\n",
       "@startuml\r\n",
       "skinparam roundcorner 20\r\n",
       "skinparam BoxPadding 20\r\n",
       "skinparam SequenceBoxBackgroundColor #white\r\n",
       "skinparam style strictuml\r\n",
       "skinparam maxMessageSize 100\r\n",
       "skinparam wrapWidth 300\r\n",
       "hide circle\r\n",
       "\r\n",
       "@enduml\r\n",
       "\n",
       "PlantUML version 1.2020.13(Sat Jun 13 12:26:38 UTC 2020)\n",
       "(EPL source distribution)\n",
       "Java Runtime: OpenJDK Runtime Environment\n",
       "JVM: OpenJDK 64-Bit Server VM\n",
       "Default Encoding: UTF-8\n",
       "Language: en\n",
       "Country: null\n",
       "--></g></svg>"
      ]
     },
     "execution_count": 28,
     "metadata": {},
     "output_type": "execute_result"
    }
   ],
   "source": [
    "%viz --style=\"STDCOLOR\" --view=\"Sequence\" \"PartTest\""
   ]
  },
  {
   "cell_type": "code",
   "execution_count": 29,
   "id": "a24b15c8",
   "metadata": {
    "execution": {
     "iopub.execute_input": "2022-02-05T16:55:44.400848Z",
     "iopub.status.busy": "2022-02-05T16:55:44.400398Z",
     "iopub.status.idle": "2022-02-05T16:55:44.464827Z",
     "shell.execute_reply": "2022-02-05T16:55:44.464440Z"
    }
   },
   "outputs": [
    {
     "data": {
      "image/svg+xml": [
       "<?xml version=\"1.0\" encoding=\"UTF-8\" standalone=\"no\"?><svg xmlns=\"http://www.w3.org/2000/svg\" xmlns:xlink=\"http://www.w3.org/1999/xlink\" contentScriptType=\"application/ecmascript\" contentStyleType=\"text/css\" height=\"760px\" preserveAspectRatio=\"none\" style=\"width:423px;height:760px;\" version=\"1.1\" viewBox=\"0 0 423 760\" width=\"423px\" zoomAndPan=\"magnify\"><defs><filter height=\"300%\" id=\"f1tx61omi20xol\" width=\"300%\" x=\"-1\" y=\"-1\"><feGaussianBlur result=\"blurOut\" stdDeviation=\"2.0\"/><feColorMatrix in=\"blurOut\" result=\"blurOut2\" type=\"matrix\" values=\"0 0 0 0 0 0 0 0 0 0 0 0 0 0 0 0 0 0 .4 0\"/><feOffset dx=\"4.0\" dy=\"4.0\" in=\"blurOut2\" result=\"blurOut3\"/><feBlend in=\"SourceGraphic\" in2=\"blurOut3\" mode=\"normal\"/></filter></defs><g><!--MD5=[fbc87193dbaf4d95561dea2c320d4a47]\n",
       "cluster E1--><a href=\"psysml:c38775ed-c195-45a3-878f-69446059ff99\" target=\"_top\" title=\"psysml:c38775ed-c195-45a3-878f-69446059ff99\" xlink:actuate=\"onRequest\" xlink:href=\"psysml:c38775ed-c195-45a3-878f-69446059ff99\" xlink:show=\"new\" xlink:title=\"psysml:c38775ed-c195-45a3-878f-69446059ff99\" xlink:type=\"simple\"><polygon fill=\"#FFFFFF\" filter=\"url(#f1tx61omi20xol)\" points=\"16,6,80,6,87,28.2969,401,28.2969,401,748,16,748,16,6\" style=\"stroke: #000000; stroke-width: 1.5;\"/><line style=\"stroke: #000000; stroke-width: 1.5;\" x1=\"16\" x2=\"87\" y1=\"28.2969\" y2=\"28.2969\"/><text fill=\"#000000\" font-family=\"sans-serif\" font-size=\"14\" font-weight=\"bold\" lengthAdjust=\"spacingAndGlyphs\" textLength=\"58\" x=\"20\" y=\"20.9951\">PartTest</text></a><!--MD5=[b4997ac47864f28c2f74865a473b2911]\n",
       "class E2--><a href=\"psysml:133b9857-5562-4f09-a022-80109f8d4a7d\" target=\"_top\" title=\"psysml:133b9857-5562-4f09-a022-80109f8d4a7d\" xlink:actuate=\"onRequest\" xlink:href=\"psysml:133b9857-5562-4f09-a022-80109f8d4a7d\" xlink:show=\"new\" xlink:title=\"psysml:133b9857-5562-4f09-a022-80109f8d4a7d\" xlink:type=\"simple\"><rect fill=\"#FEFECE\" filter=\"url(#f1tx61omi20xol)\" height=\"45.9375\" id=\"E2\" rx=\"10\" ry=\"10\" style=\"stroke: #A80036; stroke-width: 1.5;\" width=\"42\" x=\"201\" y=\"41\"/><text fill=\"#000000\" font-family=\"sans-serif\" font-size=\"12\" font-style=\"italic\" lengthAdjust=\"spacingAndGlyphs\" textLength=\"40\" x=\"202\" y=\"57.1387\">«part»</text><text fill=\"#000000\" font-family=\"sans-serif\" font-size=\"12\" lengthAdjust=\"spacingAndGlyphs\" textLength=\"20\" x=\"210\" y=\"71.1074\">f: A</text><line style=\"stroke: #A80036; stroke-width: 1.5;\" x1=\"202\" x2=\"242\" y1=\"78.9375\" y2=\"78.9375\"/></a><!--MD5=[09b614a08d8cba4a07c9adeb5e0fee81]\n",
       "class E3--><a href=\"psysml:41a43e73-47d4-427d-aa17-f57a90b2778c\" target=\"_top\" title=\"psysml:41a43e73-47d4-427d-aa17-f57a90b2778c\" xlink:actuate=\"onRequest\" xlink:href=\"psysml:41a43e73-47d4-427d-aa17-f57a90b2778c\" xlink:show=\"new\" xlink:title=\"psysml:41a43e73-47d4-427d-aa17-f57a90b2778c\" xlink:type=\"simple\"><rect fill=\"#FEFECE\" filter=\"url(#f1tx61omi20xol)\" height=\"88.3516\" id=\"E3\" style=\"stroke: #A80036; stroke-width: 1.5;\" width=\"70\" x=\"187\" y=\"148\"/><text fill=\"#000000\" font-family=\"sans-serif\" font-size=\"12\" font-style=\"italic\" lengthAdjust=\"spacingAndGlyphs\" textLength=\"68\" x=\"188\" y=\"164.1387\">«part  def»</text><text fill=\"#000000\" font-family=\"sans-serif\" font-size=\"12\" lengthAdjust=\"spacingAndGlyphs\" textLength=\"8\" x=\"218\" y=\"178.1074\">A</text><line style=\"stroke: #A80036; stroke-width: 1.5;\" x1=\"188\" x2=\"256\" y1=\"185.9375\" y2=\"185.9375\"/><text fill=\"#000000\" font-family=\"sans-serif\" font-size=\"11\" lengthAdjust=\"spacingAndGlyphs\" textLength=\"6\" x=\"193\" y=\"216.9526\">x</text><text fill=\"#000000\" font-family=\"sans-serif\" font-size=\"11\" lengthAdjust=\"spacingAndGlyphs\" textLength=\"44\" x=\"193\" y=\"229.7573\">y:&gt; A::x</text><line style=\"stroke: #A80036; stroke-width: 1.0;\" x1=\"188\" x2=\"194.5\" y1=\"200.3398\" y2=\"200.3398\"/><text fill=\"#000000\" font-family=\"sans-serif\" font-size=\"11\" lengthAdjust=\"spacingAndGlyphs\" textLength=\"55\" x=\"194.5\" y=\"203.6479\">attributes</text><line style=\"stroke: #A80036; stroke-width: 1.0;\" x1=\"249.5\" x2=\"256\" y1=\"200.3398\" y2=\"200.3398\"/></a><!--MD5=[ebbe1d658d1005bcc118a6aa81145e00]\n",
       "class E4--><a href=\"psysml:23a90af0-4107-4bf0-84ea-ac7115753c4e\" target=\"_top\" title=\"psysml:23a90af0-4107-4bf0-84ea-ac7115753c4e\" xlink:actuate=\"onRequest\" xlink:href=\"psysml:23a90af0-4107-4bf0-84ea-ac7115753c4e\" xlink:show=\"new\" xlink:title=\"psysml:23a90af0-4107-4bf0-84ea-ac7115753c4e\" xlink:type=\"simple\"><rect fill=\"#FEFECE\" filter=\"url(#f1tx61omi20xol)\" height=\"45.9375\" id=\"E4\" rx=\"10\" ry=\"10\" style=\"stroke: #A80036; stroke-width: 1.5;\" width=\"42\" x=\"323\" y=\"373\"/><text fill=\"#000000\" font-family=\"sans-serif\" font-size=\"12\" font-style=\"italic\" lengthAdjust=\"spacingAndGlyphs\" textLength=\"40\" x=\"324\" y=\"389.1387\">«part»</text><text fill=\"#000000\" font-family=\"sans-serif\" font-size=\"12\" lengthAdjust=\"spacingAndGlyphs\" textLength=\"24\" x=\"330\" y=\"403.1074\">b: B</text><line style=\"stroke: #A80036; stroke-width: 1.5;\" x1=\"324\" x2=\"364\" y1=\"410.9375\" y2=\"410.9375\"/></a><!--MD5=[270fce915f116d4de14055a7c1d9a0f3]\n",
       "class E5--><a href=\"psysml:3bde4e3d-0323-4342-8ecc-6f2c3dab5224\" target=\"_top\" title=\"psysml:3bde4e3d-0323-4342-8ecc-6f2c3dab5224\" xlink:actuate=\"onRequest\" xlink:href=\"psysml:3bde4e3d-0323-4342-8ecc-6f2c3dab5224\" xlink:show=\"new\" xlink:title=\"psysml:3bde4e3d-0323-4342-8ecc-6f2c3dab5224\" xlink:type=\"simple\"><rect fill=\"#FEFECE\" filter=\"url(#f1tx61omi20xol)\" height=\"45.9375\" id=\"E5\" rx=\"10\" ry=\"10\" style=\"stroke: #A80036; stroke-width: 1.5;\" width=\"42\" x=\"306\" y=\"297\"/><text fill=\"#000000\" font-family=\"sans-serif\" font-size=\"12\" font-style=\"italic\" lengthAdjust=\"spacingAndGlyphs\" textLength=\"40\" x=\"307\" y=\"313.1387\">«port»</text><text fill=\"#000000\" font-family=\"sans-serif\" font-size=\"12\" lengthAdjust=\"spacingAndGlyphs\" textLength=\"23\" x=\"313.5\" y=\"327.1074\">c: C</text><line style=\"stroke: #A80036; stroke-width: 1.5;\" x1=\"307\" x2=\"347\" y1=\"334.9375\" y2=\"334.9375\"/></a><!--MD5=[60a26617385b1d2d0262a64233df1f8d]\n",
       "class E6--><a href=\"psysml:c17c630d-59e9-4f7e-a520-276041a9c800\" target=\"_top\" title=\"psysml:c17c630d-59e9-4f7e-a520-276041a9c800\" xlink:actuate=\"onRequest\" xlink:href=\"psysml:c17c630d-59e9-4f7e-a520-276041a9c800\" xlink:show=\"new\" xlink:title=\"psysml:c17c630d-59e9-4f7e-a520-276041a9c800\" xlink:type=\"simple\"><rect fill=\"#FEFECE\" filter=\"url(#f1tx61omi20xol)\" height=\"45.9375\" id=\"E6\" style=\"stroke: #A80036; stroke-width: 1.5;\" width=\"70\" x=\"190\" y=\"572\"/><text fill=\"#000000\" font-family=\"sans-serif\" font-size=\"12\" font-style=\"italic\" lengthAdjust=\"spacingAndGlyphs\" textLength=\"68\" x=\"191\" y=\"588.1387\">«part  def»</text><text fill=\"#000000\" font-family=\"sans-serif\" font-size=\"12\" font-style=\"italic\" lengthAdjust=\"spacingAndGlyphs\" textLength=\"8\" x=\"221\" y=\"602.1074\">B</text><line style=\"stroke: #A80036; stroke-width: 1.5;\" x1=\"191\" x2=\"259\" y1=\"609.9375\" y2=\"609.9375\"/></a><!--MD5=[2156ba9850f5573cc1fc38a6a4b2f02b]\n",
       "class E7--><a href=\"psysml:4ea01713-b83a-4578-95eb-e0c0377cf261\" target=\"_top\" title=\"psysml:4ea01713-b83a-4578-95eb-e0c0377cf261\" xlink:actuate=\"onRequest\" xlink:href=\"psysml:4ea01713-b83a-4578-95eb-e0c0377cf261\" xlink:show=\"new\" xlink:title=\"psysml:4ea01713-b83a-4578-95eb-e0c0377cf261\" xlink:type=\"simple\"><rect fill=\"#FEFECE\" filter=\"url(#f1tx61omi20xol)\" height=\"45.9375\" id=\"E7\" rx=\"10\" ry=\"10\" style=\"stroke: #A80036; stroke-width: 1.5;\" width=\"42\" x=\"68\" y=\"682.5\"/><text fill=\"#000000\" font-family=\"sans-serif\" font-size=\"12\" font-style=\"italic\" lengthAdjust=\"spacingAndGlyphs\" textLength=\"40\" x=\"69\" y=\"698.6387\">«part»</text><text fill=\"#000000\" font-family=\"sans-serif\" font-size=\"12\" font-style=\"italic\" lengthAdjust=\"spacingAndGlyphs\" textLength=\"8\" x=\"75\" y=\"712.6074\">a</text><text fill=\"#000000\" font-family=\"sans-serif\" font-size=\"12\" lengthAdjust=\"spacingAndGlyphs\" textLength=\"16\" x=\"83\" y=\"712.6074\">: A</text><line style=\"stroke: #A80036; stroke-width: 1.5;\" x1=\"69\" x2=\"109\" y1=\"720.4375\" y2=\"720.4375\"/></a><!--MD5=[b9389687b975829384b498ac4b7476b2]\n",
       "class E8--><a href=\"psysml:c9f90055-486d-4326-9691-bfe47f710c68\" target=\"_top\" title=\"psysml:c9f90055-486d-4326-9691-bfe47f710c68\" xlink:actuate=\"onRequest\" xlink:href=\"psysml:c9f90055-486d-4326-9691-bfe47f710c68\" xlink:show=\"new\" xlink:title=\"psysml:c9f90055-486d-4326-9691-bfe47f710c68\" xlink:type=\"simple\"><rect fill=\"#FEFECE\" filter=\"url(#f1tx61omi20xol)\" height=\"45.9375\" id=\"E8\" rx=\"10\" ry=\"10\" style=\"stroke: #A80036; stroke-width: 1.5;\" width=\"42\" x=\"228\" y=\"682.5\"/><text fill=\"#000000\" font-family=\"sans-serif\" font-size=\"12\" font-style=\"italic\" lengthAdjust=\"spacingAndGlyphs\" textLength=\"40\" x=\"229\" y=\"698.6387\">«port»</text><text fill=\"#000000\" font-family=\"sans-serif\" font-size=\"12\" lengthAdjust=\"spacingAndGlyphs\" textLength=\"32\" x=\"231\" y=\"712.6074\">x: ~C</text><line style=\"stroke: #A80036; stroke-width: 1.5;\" x1=\"229\" x2=\"269\" y1=\"720.4375\" y2=\"720.4375\"/></a><!--MD5=[96f4274e9e20536e775497830990834d]\n",
       "class E10--><a href=\"psysml:e209a1f3-de72-4850-a45f-7036acf7c094\" target=\"_top\" title=\"psysml:e209a1f3-de72-4850-a45f-7036acf7c094\" xlink:actuate=\"onRequest\" xlink:href=\"psysml:e209a1f3-de72-4850-a45f-7036acf7c094\" xlink:show=\"new\" xlink:title=\"psysml:e209a1f3-de72-4850-a45f-7036acf7c094\" xlink:type=\"simple\"><rect fill=\"#FEFECE\" filter=\"url(#f1tx61omi20xol)\" height=\"45.9375\" id=\"E10\" style=\"stroke: #A80036; stroke-width: 1.5;\" width=\"70\" x=\"190\" y=\"449\"/><text fill=\"#000000\" font-family=\"sans-serif\" font-size=\"12\" font-style=\"italic\" lengthAdjust=\"spacingAndGlyphs\" textLength=\"68\" x=\"191\" y=\"465.1387\">«port  def»</text><text fill=\"#000000\" font-family=\"sans-serif\" font-size=\"12\" lengthAdjust=\"spacingAndGlyphs\" textLength=\"8\" x=\"221\" y=\"479.1074\">C</text><line style=\"stroke: #A80036; stroke-width: 1.5;\" x1=\"191\" x2=\"259\" y1=\"486.9375\" y2=\"486.9375\"/></a><a href=\"psysml:78dea323-2f70-496c-aa91-db5f05f12a10\" target=\"_top\" title=\"psysml:78dea323-2f70-496c-aa91-db5f05f12a10\" xlink:actuate=\"onRequest\" xlink:href=\"psysml:78dea323-2f70-496c-aa91-db5f05f12a10\" xlink:show=\"new\" xlink:title=\"psysml:78dea323-2f70-496c-aa91-db5f05f12a10\" xlink:type=\"simple\"><polygon fill=\"#FFFFFF\" filter=\"url(#f1tx61omi20xol)\" points=\"163.5,679,178.5,679,185.5,701.2969,192.5,701.2969,192.5,731.5938,163.5,731.5938,163.5,679\" style=\"stroke: #000000; stroke-width: 1.5;\"/><line style=\"stroke: #000000; stroke-width: 1.5;\" x1=\"163.5\" x2=\"185.5\" y1=\"701.2969\" y2=\"701.2969\"/><text fill=\"#000000\" font-family=\"sans-serif\" font-size=\"14\" font-weight=\"bold\" lengthAdjust=\"spacingAndGlyphs\" textLength=\"9\" x=\"167.5\" y=\"693.9951\">P</text></a><!--MD5=[2720a5a1f2c3fca2055b230370638851]\n",
       "link E2 to E3--><a href=\"psysml:de99b855-827b-4779-9c99-7b4326eef43f\" target=\"_top\" title=\"psysml:de99b855-827b-4779-9c99-7b4326eef43f\" xlink:actuate=\"onRequest\" xlink:href=\"psysml:de99b855-827b-4779-9c99-7b4326eef43f\" xlink:show=\"new\" xlink:title=\"psysml:de99b855-827b-4779-9c99-7b4326eef43f\" xlink:type=\"simple\"><path d=\"M222,87.24 C222,98.62 222,113.11 222,127.62 \" fill=\"none\" id=\"E2-&gt;E3\" style=\"stroke: #A80036; stroke-width: 1.0;\"/><polygon fill=\"#FFFFFF\" points=\"222,147.84,215,128.84,229,128.84,222,147.84\" style=\"stroke: #A80036; stroke-width: 1.0;\"/><ellipse cx=\"217\" cy=\"123.14\" fill=\"#A80036\" rx=\"2\" ry=\"2\" style=\"stroke: #A80036; stroke-width: 1.0;\"/><ellipse cx=\"227\" cy=\"123.14\" fill=\"#A80036\" rx=\"2\" ry=\"2\" style=\"stroke: #A80036; stroke-width: 1.0;\"/></a><!--MD5=[4672eba38e49728da53d11aeb285b987]\n",
       "reverse link E3 to E4--><a href=\"psysml:7d143534-3389-4013-881e-42b16664757f\" target=\"_top\" title=\"psysml:7d143534-3389-4013-881e-42b16664757f\" xlink:actuate=\"onRequest\" xlink:href=\"psysml:7d143534-3389-4013-881e-42b16664757f\" xlink:show=\"new\" xlink:title=\"psysml:7d143534-3389-4013-881e-42b16664757f\" xlink:type=\"simple\"><path d=\"M269.08,212.65 C302.85,229.56 345.81,257.51 366,297 C378.38,321.22 367.51,352.31 357.12,372.91 \" fill=\"none\" id=\"E3&lt;-E4\" style=\"stroke: #A80036; stroke-width: 1.0;\"/><polygon fill=\"#A80036\" points=\"257.11,206.92,260.7919,213.1203,267.9314,212.1063,264.2495,205.906,257.11,206.92\" style=\"stroke: #A80036; stroke-width: 1.0;\"/><text fill=\"#000000\" font-family=\"sans-serif\" font-size=\"13\" lengthAdjust=\"spacingAndGlyphs\" textLength=\"8\" x=\"352.5085\" y=\"363.0064\">1</text></a><!--MD5=[191cde3d490a3f6d7bb551fe3ddca469]\n",
       "reverse link E3 to E5--><a href=\"psysml:01061be5-5fdc-439c-afe5-881fb8746c83\" target=\"_top\" title=\"psysml:01061be5-5fdc-439c-afe5-881fb8746c83\" xlink:actuate=\"onRequest\" xlink:href=\"psysml:01061be5-5fdc-439c-afe5-881fb8746c83\" xlink:show=\"new\" xlink:title=\"psysml:01061be5-5fdc-439c-afe5-881fb8746c83\" xlink:type=\"simple\"><path d=\"M265.68,245.41 C280.65,263.38 296.6,282.52 308.48,296.78 \" fill=\"none\" id=\"E3&lt;-E5\" style=\"stroke: #A80036; stroke-width: 1.0;\"/><polygon fill=\"#FFFFFF\" points=\"257.26,235.31,258.0312,242.4797,264.9461,244.5254,264.1749,237.3557,257.26,235.31\" style=\"stroke: #A80036; stroke-width: 1.0;\"/><text fill=\"#000000\" font-family=\"sans-serif\" font-size=\"13\" lengthAdjust=\"spacingAndGlyphs\" textLength=\"8\" x=\"294.7093\" y=\"285.9999\">1</text></a><!--MD5=[79568f1e445c3877b6a54524624ccc7d]\n",
       "link E4 to E6--><a href=\"psysml:8d11eaae-af32-434c-8c3d-32f92418f4c8\" target=\"_top\" title=\"psysml:8d11eaae-af32-434c-8c3d-32f92418f4c8\" xlink:actuate=\"onRequest\" xlink:href=\"psysml:8d11eaae-af32-434c-8c3d-32f92418f4c8\" xlink:show=\"new\" xlink:title=\"psysml:8d11eaae-af32-434c-8c3d-32f92418f4c8\" xlink:type=\"simple\"><path d=\"M330.58,419.22 C310.75,452.04 273.34,513.98 248.79,554.62 \" fill=\"none\" id=\"E4-&gt;E6\" style=\"stroke: #A80036; stroke-width: 1.0;\"/><polygon fill=\"#FFFFFF\" points=\"238.37,571.87,242.2063,551.9883,254.1882,559.2294,238.37,571.87\" style=\"stroke: #A80036; stroke-width: 1.0;\"/><ellipse cx=\"246.8662\" cy=\"548.1444\" fill=\"#A80036\" rx=\"2\" ry=\"2\" style=\"stroke: #A80036; stroke-width: 1.0;\"/><ellipse cx=\"255.4247\" cy=\"553.3166\" fill=\"#A80036\" rx=\"2\" ry=\"2\" style=\"stroke: #A80036; stroke-width: 1.0;\"/></a><!--MD5=[3f50a3473f1dfb74d3f76443e03635af]\n",
       "reverse link E6 to E7--><a href=\"psysml:7466bf8a-1e84-4b05-9901-ce46ee446fa5\" target=\"_top\" title=\"psysml:7466bf8a-1e84-4b05-9901-ce46ee446fa5\" xlink:actuate=\"onRequest\" xlink:href=\"psysml:7466bf8a-1e84-4b05-9901-ce46ee446fa5\" xlink:show=\"new\" xlink:title=\"psysml:7466bf8a-1e84-4b05-9901-ce46ee446fa5\" xlink:type=\"simple\"><path d=\"M186.96,626.35 C162.12,646.16 130.61,671.3 110.14,687.64 \" fill=\"none\" id=\"E6&lt;-E7\" style=\"stroke: #A80036; stroke-width: 1.0;\"/><polygon fill=\"#A80036\" points=\"197.15,618.22,189.9656,618.8398,187.7744,625.7099,194.9589,625.0901,197.15,618.22\" style=\"stroke: #A80036; stroke-width: 1.0;\"/><text fill=\"#000000\" font-family=\"sans-serif\" font-size=\"13\" lengthAdjust=\"spacingAndGlyphs\" textLength=\"8\" x=\"118.1534\" y=\"676.6545\">1</text></a><!--MD5=[14ccda38c055a5c0da953d572bc50960]\n",
       "link E7 to E3--><a href=\"psysml:3c280f0c-0d5e-48e6-b009-cbd7db9e9beb\" target=\"_top\" title=\"psysml:3c280f0c-0d5e-48e6-b009-cbd7db9e9beb\" xlink:actuate=\"onRequest\" xlink:href=\"psysml:3c280f0c-0d5e-48e6-b009-cbd7db9e9beb\" xlink:show=\"new\" xlink:title=\"psysml:3c280f0c-0d5e-48e6-b009-cbd7db9e9beb\" xlink:type=\"simple\"><path d=\"M69.41,682.1 C53.27,661.28 33,628.64 33,596 C33,319 33,319 33,319 C33,253.99 111.37,220.46 167.18,204.82 \" fill=\"none\" id=\"E7-&gt;E3\" style=\"stroke: #A80036; stroke-width: 1.0;\"/><polygon fill=\"#FFFFFF\" points=\"186.89,199.76,170.2265,211.2633,166.7463,197.7028,186.89,199.76\" style=\"stroke: #A80036; stroke-width: 1.0;\"/><ellipse cx=\"164.2082\" cy=\"210.743\" fill=\"#A80036\" rx=\"2\" ry=\"2\" style=\"stroke: #A80036; stroke-width: 1.0;\"/><ellipse cx=\"161.7224\" cy=\"201.0569\" fill=\"#A80036\" rx=\"2\" ry=\"2\" style=\"stroke: #A80036; stroke-width: 1.0;\"/></a><!--MD5=[f4cf0736d43fd73c4ef68817c49d37d5]\n",
       "reverse link E6 to E8--><a href=\"psysml:dcb35f57-14cb-4e2c-8543-9245438ead5d\" target=\"_top\" title=\"psysml:dcb35f57-14cb-4e2c-8543-9245438ead5d\" xlink:actuate=\"onRequest\" xlink:href=\"psysml:dcb35f57-14cb-4e2c-8543-9245438ead5d\" xlink:show=\"new\" xlink:title=\"psysml:dcb35f57-14cb-4e2c-8543-9245438ead5d\" xlink:type=\"simple\"><path d=\"M232.74,630.98 C236.47,647.83 240.83,667.54 244.09,682.31 \" fill=\"none\" id=\"E6&lt;-E8\" style=\"stroke: #A80036; stroke-width: 1.0;\"/><polygon fill=\"#FFFFFF\" points=\"229.91,618.22,227.2956,624.9405,232.4936,629.9386,235.108,623.2181,229.91,618.22\" style=\"stroke: #A80036; stroke-width: 1.0;\"/><text fill=\"#000000\" font-family=\"sans-serif\" font-size=\"13\" lengthAdjust=\"spacingAndGlyphs\" textLength=\"8\" x=\"233.8068\" y=\"671.5376\">1</text></a><!--MD5=[e88d06e5a652d73a6b19930eefe025a8]\n",
       "reverse link E6 to E9--><a href=\"psysml:08766104-19a0-4aca-bf35-b4c81b8c6dcb\" target=\"_top\" title=\"psysml:08766104-19a0-4aca-bf35-b4c81b8c6dcb\" xlink:actuate=\"onRequest\" xlink:href=\"psysml:08766104-19a0-4aca-bf35-b4c81b8c6dcb\" xlink:show=\"new\" xlink:title=\"psysml:08766104-19a0-4aca-bf35-b4c81b8c6dcb\" xlink:type=\"simple\"><path d=\"M209.38,632.06 C202.74,647.39 195.15,664.91 189.1,678.88 \" fill=\"none\" id=\"E6&lt;-E9\" style=\"stroke: #A80036; stroke-width: 1.0;\"/><ellipse cx=\"212.2011\" cy=\"625.5613\" fill=\"#FFFFFF\" rx=\"8\" ry=\"8\" style=\"stroke: #A80036; stroke-width: 1.0;\"/><line style=\"stroke: #A80036; stroke-width: 1.0;\" x1=\"209.0221\" x2=\"215.38\" y1=\"632.9026\" y2=\"618.22\"/><line style=\"stroke: #A80036; stroke-width: 1.0;\" x1=\"204.8598\" x2=\"219.5423\" y1=\"622.3823\" y2=\"628.7402\"/></a><!--MD5=[f78a29d5932556fa1060671a2a6507d8]\n",
       "link E5 to E10--><a href=\"psysml:568ef262-b92a-4cba-8a4b-19f4a197db7e\" target=\"_top\" title=\"psysml:568ef262-b92a-4cba-8a4b-19f4a197db7e\" xlink:actuate=\"onRequest\" xlink:href=\"psysml:568ef262-b92a-4cba-8a4b-19f4a197db7e\" xlink:show=\"new\" xlink:title=\"psysml:568ef262-b92a-4cba-8a4b-19f4a197db7e\" xlink:type=\"simple\"><path d=\"M315.99,343.2 C305.49,363.59 288.69,394.31 271,419 C267.54,423.82 263.72,428.71 259.79,433.47 \" fill=\"none\" id=\"E5-&gt;E10\" style=\"stroke: #A80036; stroke-width: 1.0;\"/><polygon fill=\"#FFFFFF\" points=\"246.44,448.81,253.6429,429.886,264.1988,439.0824,246.44,448.81\" style=\"stroke: #A80036; stroke-width: 1.0;\"/><ellipse cx=\"258.8951\" cy=\"426.902\" fill=\"#A80036\" rx=\"2\" ry=\"2\" style=\"stroke: #A80036; stroke-width: 1.0;\"/><ellipse cx=\"266.435\" cy=\"433.4709\" fill=\"#A80036\" rx=\"2\" ry=\"2\" style=\"stroke: #A80036; stroke-width: 1.0;\"/></a><!--MD5=[8e04057e7b3cbc0dca4fc78ea351e2da]\n",
       "reverse link E10 to E3--><a href=\"psysml:f2bac2b1-68d1-4631-bf1f-fa6cff2f703f\" target=\"_top\" title=\"psysml:f2bac2b1-68d1-4631-bf1f-fa6cff2f703f\" xlink:actuate=\"onRequest\" xlink:href=\"psysml:f2bac2b1-68d1-4631-bf1f-fa6cff2f703f\" xlink:show=\"new\" xlink:title=\"psysml:f2bac2b1-68d1-4631-bf1f-fa6cff2f703f\" xlink:type=\"simple\"><path d=\"M191.07,439.41 C168.36,415.54 140.89,380.56 131,343 C125.79,323.23 123.81,316.14 131,297 C142.22,267.13 166.35,240.23 186.94,221.27 \" fill=\"none\" id=\"E10&lt;-E3\" style=\"stroke: #A80036; stroke-width: 1.0;\"/><polygon fill=\"#FFFFFF\" points=\"200.44,448.94,199.0863,441.8571,192.0275,440.3825,193.3813,447.4654,200.44,448.94\" style=\"stroke: #A80036; stroke-width: 1.0;\"/><text fill=\"#000000\" font-family=\"sans-serif\" font-size=\"13\" lengthAdjust=\"spacingAndGlyphs\" textLength=\"7\" x=\"132\" y=\"324.5669\">y</text></a><!--MD5=[8e04057e7b3cbc0dca4fc78ea351e2da]\n",
       "reverse link E10 to E3--><a href=\"psysml:f2bac2b1-68d1-4631-bf1f-fa6cff2f703f\" target=\"_top\" title=\"psysml:f2bac2b1-68d1-4631-bf1f-fa6cff2f703f\" xlink:actuate=\"onRequest\" xlink:href=\"psysml:f2bac2b1-68d1-4631-bf1f-fa6cff2f703f\" xlink:show=\"new\" xlink:title=\"psysml:f2bac2b1-68d1-4631-bf1f-fa6cff2f703f\" xlink:type=\"simple\"><path d=\"M218.94,435.48 C213.66,400.35 207.24,345.02 210,297 C211.15,276.95 213.55,254.83 215.89,236.17 \" fill=\"none\" id=\"E10&lt;-E3-1\" style=\"stroke: #A80036; stroke-width: 1.0;\"/><polygon fill=\"#FFFFFF\" points=\"221.04,448.78,224.0549,442.2294,219.1678,436.927,216.1529,443.4776,221.04,448.78\" style=\"stroke: #A80036; stroke-width: 1.0;\"/><text fill=\"#000000\" font-family=\"sans-serif\" font-size=\"13\" lengthAdjust=\"spacingAndGlyphs\" textLength=\"7\" x=\"211\" y=\"324.5669\">y</text></a><!--MD5=[8e04057e7b3cbc0dca4fc78ea351e2da]\n",
       "reverse link E10 to E3--><a href=\"psysml:f2bac2b1-68d1-4631-bf1f-fa6cff2f703f\" target=\"_top\" title=\"psysml:f2bac2b1-68d1-4631-bf1f-fa6cff2f703f\" xlink:actuate=\"onRequest\" xlink:href=\"psysml:f2bac2b1-68d1-4631-bf1f-fa6cff2f703f\" xlink:show=\"new\" xlink:title=\"psysml:f2bac2b1-68d1-4631-bf1f-fa6cff2f703f\" xlink:type=\"simple\"><path d=\"M224.62,435.77 C224.07,384.92 223.06,291.06 222.47,236.13 \" fill=\"none\" id=\"E10&lt;-E3-2\" style=\"stroke: #A80036; stroke-width: 1.0;\"/><polygon fill=\"#FFFFFF\" points=\"224.76,448.9,228.6938,442.8564,224.6281,436.9007,220.6943,442.9443,224.76,448.9\" style=\"stroke: #A80036; stroke-width: 1.0;\"/><text fill=\"#000000\" font-family=\"sans-serif\" font-size=\"13\" lengthAdjust=\"spacingAndGlyphs\" textLength=\"7\" x=\"224\" y=\"324.5669\">y</text></a><!--MD5=[604cbf994c02b74b117f728a71673cea]\n",
       "reverse link E10 to E6--><a href=\"psysml:f2bac2b1-68d1-4631-bf1f-fa6cff2f703f\" target=\"_top\" title=\"psysml:f2bac2b1-68d1-4631-bf1f-fa6cff2f703f\" xlink:actuate=\"onRequest\" xlink:href=\"psysml:f2bac2b1-68d1-4631-bf1f-fa6cff2f703f\" xlink:show=\"new\" xlink:title=\"psysml:f2bac2b1-68d1-4631-bf1f-fa6cff2f703f\" xlink:type=\"simple\"><path d=\"M233.39,508.23 C235.07,519.04 236.05,530.99 235,542 C234.06,551.88 232.13,562.68 230.22,571.87 \" fill=\"none\" id=\"E10&lt;-E6\" style=\"stroke: #A80036; stroke-width: 1.0;\"/><polygon fill=\"#FFFFFF\" points=\"230.97,495.31,228.1398,501.9425,233.1735,507.106,236.0037,500.4735,230.97,495.31\" style=\"stroke: #A80036; stroke-width: 1.0;\"/><text fill=\"#000000\" font-family=\"sans-serif\" font-size=\"13\" lengthAdjust=\"spacingAndGlyphs\" textLength=\"7\" x=\"236\" y=\"538.0669\">y</text></a><!--MD5=[604cbf994c02b74b117f728a71673cea]\n",
       "reverse link E10 to E6--><a href=\"psysml:f2bac2b1-68d1-4631-bf1f-fa6cff2f703f\" target=\"_top\" title=\"psysml:f2bac2b1-68d1-4631-bf1f-fa6cff2f703f\" xlink:actuate=\"onRequest\" xlink:href=\"psysml:f2bac2b1-68d1-4631-bf1f-fa6cff2f703f\" xlink:show=\"new\" xlink:title=\"psysml:f2bac2b1-68d1-4631-bf1f-fa6cff2f703f\" xlink:type=\"simple\"><path d=\"M189.04,504.87 C184.13,511.03 179.81,517.82 177,525 C170.3,542.12 181.83,559.11 195.26,571.94 \" fill=\"none\" id=\"E10&lt;-E6-1\" style=\"stroke: #A80036; stroke-width: 1.0;\"/><polygon fill=\"#FFFFFF\" points=\"197.73,495.16,190.7505,496.973,189.7396,504.1129,196.7191,502.2999,197.73,495.16\" style=\"stroke: #A80036; stroke-width: 1.0;\"/><text fill=\"#000000\" font-family=\"sans-serif\" font-size=\"13\" lengthAdjust=\"spacingAndGlyphs\" textLength=\"7\" x=\"178\" y=\"538.0669\">y</text></a><!--MD5=[604cbf994c02b74b117f728a71673cea]\n",
       "reverse link E10 to E6--><a href=\"psysml:f2bac2b1-68d1-4631-bf1f-fa6cff2f703f\" target=\"_top\" title=\"psysml:f2bac2b1-68d1-4631-bf1f-fa6cff2f703f\" xlink:actuate=\"onRequest\" xlink:href=\"psysml:f2bac2b1-68d1-4631-bf1f-fa6cff2f703f\" xlink:show=\"new\" xlink:title=\"psysml:f2bac2b1-68d1-4631-bf1f-fa6cff2f703f\" xlink:type=\"simple\"><path d=\"M225,508.22 C225,528.81 225,554.16 225,571.95 \" fill=\"none\" id=\"E10&lt;-E6-2\" style=\"stroke: #A80036; stroke-width: 1.0;\"/><polygon fill=\"#FFFFFF\" points=\"225,495.19,221,501.19,225,507.19,229,501.19,225,495.19\" style=\"stroke: #A80036; stroke-width: 1.0;\"/><text fill=\"#000000\" font-family=\"sans-serif\" font-size=\"13\" lengthAdjust=\"spacingAndGlyphs\" textLength=\"7\" x=\"226\" y=\"538.0669\">y</text></a><!--MD5=[a67e951686c2ed47c45369429a44b0e0]\n",
       "@startuml\r\n",
       "skinparam wrapWidth 300\r\n",
       "hide circle\r\n",
       "\r\n",
       "package \"PartTest\" as E1  [[psysml:c38775ed-c195-45a3-878f-69446059ff99 ]]  {\r\n",
       "comp usage \"f: A \" as E2  <<(T,blue) part>> [[psysml:133b9857-5562-4f09-a022-80109f8d4a7d ]] {\r\n",
       "}\r\n",
       "comp def \"A\" as E3  <<(T,blue) part  def>> [[psysml:41a43e73-47d4-427d-aa17-f57a90b2778c ]] {\r\n",
       "- - attributes - -\r\n",
       "x\r\n",
       "y:> A::x\r\n",
       "}\r\n",
       "comp usage \"b: B \" as E4  <<(T,blue) part>> [[psysml:23a90af0-4107-4bf0-84ea-ac7115753c4e ]] {\r\n",
       "}\r\n",
       "comp usage \"c: C \" as E5  <<(T,blue) port>> [[psysml:3bde4e3d-0323-4342-8ecc-6f2c3dab5224 ]] {\r\n",
       "}\r\n",
       "comp def \"<i>B</i>\" as E6  <<(T,blue) part  def>> [[psysml:c17c630d-59e9-4f7e-a520-276041a9c800 ]] {\r\n",
       "}\r\n",
       "comp usage \"<i>a</i>: A \" as E7  <<(T,blue) part>> [[psysml:4ea01713-b83a-4578-95eb-e0c0377cf261 ]] {\r\n",
       "}\r\n",
       "comp usage \"x: ~C \" as E8  <<(T,blue) port>> [[psysml:c9f90055-486d-4326-9691-bfe47f710c68 ]] {\r\n",
       "}\r\n",
       "package \"P\" as E9  [[psysml:78dea323-2f70-496c-aa91-db5f05f12a10 ]]  {\r\n",
       "}\r\n",
       "comp def \"C\" as E10  <<(T,blue) port  def>> [[psysml:e209a1f3-de72-4850-a45f-7036acf7c094 ]] {\r\n",
       "}\r\n",
       "}\r\n",
       "E2 - -:|> E3 [[psysml:de99b855-827b-4779-9c99-7b4326eef43f ]] \r\n",
       "E3 *- - \"1\"E4 [[psysml:7d143534-3389-4013-881e-42b16664757f ]] \r\n",
       "E3 o- - \"1\"E5 [[psysml:01061be5-5fdc-439c-afe5-881fb8746c83 ]] \r\n",
       "E4 - -:|> E6 [[psysml:8d11eaae-af32-434c-8c3d-32f92418f4c8 ]] \r\n",
       "E6 *- - \"1\"E7 [[psysml:7466bf8a-1e84-4b05-9901-ce46ee446fa5 ]] \r\n",
       "E7 - -:|> E3 [[psysml:3c280f0c-0d5e-48e6-b009-cbd7db9e9beb ]] \r\n",
       "E6 o- - \"1\"E8 [[psysml:dcb35f57-14cb-4e2c-8543-9245438ead5d ]] \r\n",
       "E6 +- - E9 [[psysml:08766104-19a0-4aca-bf35-b4c81b8c6dcb ]] \r\n",
       "E5 - -:|> E10 [[psysml:568ef262-b92a-4cba-8a4b-19f4a197db7e ]] \r\n",
       "E10 o- - E3 [[psysml:f2bac2b1-68d1-4631-bf1f-fa6cff2f703f ]] : y\r\n",
       "E10 o- - E6 [[psysml:f2bac2b1-68d1-4631-bf1f-fa6cff2f703f ]] : y\r\n",
       "E10 o- - E3 [[psysml:f2bac2b1-68d1-4631-bf1f-fa6cff2f703f ]] : y\r\n",
       "E10 o- - E6 [[psysml:f2bac2b1-68d1-4631-bf1f-fa6cff2f703f ]] : y\r\n",
       "E10 o- - E3 [[psysml:f2bac2b1-68d1-4631-bf1f-fa6cff2f703f ]] : y\r\n",
       "E10 o- - E6 [[psysml:f2bac2b1-68d1-4631-bf1f-fa6cff2f703f ]] : y\r\n",
       "@enduml\r\n",
       "\n",
       "PlantUML version 1.2020.13(Sat Jun 13 12:26:38 UTC 2020)\n",
       "(EPL source distribution)\n",
       "Java Runtime: OpenJDK Runtime Environment\n",
       "JVM: OpenJDK 64-Bit Server VM\n",
       "Default Encoding: UTF-8\n",
       "Language: en\n",
       "Country: null\n",
       "--></g></svg>"
      ]
     },
     "execution_count": 29,
     "metadata": {},
     "output_type": "execute_result"
    }
   ],
   "source": [
    "%viz --style=\"STDCOLOR\" --view=\"MIXED\" \"PartTest\""
   ]
  },
  {
   "cell_type": "code",
   "execution_count": 30,
   "id": "b13ac8fe",
   "metadata": {
    "execution": {
     "iopub.execute_input": "2022-02-05T16:55:44.514252Z",
     "iopub.status.busy": "2022-02-05T16:55:44.513814Z",
     "iopub.status.idle": "2022-02-05T16:55:44.599552Z",
     "shell.execute_reply": "2022-02-05T16:55:44.599184Z"
    }
   },
   "outputs": [
    {
     "data": {
      "image/svg+xml": [
       "<?xml version=\"1.0\" encoding=\"UTF-8\" standalone=\"no\"?><svg xmlns=\"http://www.w3.org/2000/svg\" xmlns:xlink=\"http://www.w3.org/1999/xlink\" contentScriptType=\"application/ecmascript\" contentStyleType=\"text/css\" height=\"748px\" preserveAspectRatio=\"none\" style=\"width:449px;height:748px;\" version=\"1.1\" viewBox=\"0 0 449 748\" width=\"449px\" zoomAndPan=\"magnify\"><defs><filter height=\"300%\" id=\"fmvu694hy4oyo\" width=\"300%\" x=\"-1\" y=\"-1\"><feGaussianBlur result=\"blurOut\" stdDeviation=\"2.0\"/><feColorMatrix in=\"blurOut\" result=\"blurOut2\" type=\"matrix\" values=\"0 0 0 0 0 0 0 0 0 0 0 0 0 0 0 0 0 0 .4 0\"/><feOffset dx=\"4.0\" dy=\"4.0\" in=\"blurOut2\" result=\"blurOut3\"/><feBlend in=\"SourceGraphic\" in2=\"blurOut3\" mode=\"normal\"/></filter></defs><g><!--MD5=[fbc87193dbaf4d95561dea2c320d4a47]\n",
       "cluster E1--><a href=\"psysml:c38775ed-c195-45a3-878f-69446059ff99\" target=\"_top\" title=\"psysml:c38775ed-c195-45a3-878f-69446059ff99\" xlink:actuate=\"onRequest\" xlink:href=\"psysml:c38775ed-c195-45a3-878f-69446059ff99\" xlink:show=\"new\" xlink:title=\"psysml:c38775ed-c195-45a3-878f-69446059ff99\" xlink:type=\"simple\"><polygon fill=\"#FFFFFF\" filter=\"url(#fmvu694hy4oyo)\" points=\"16,6,80,6,87,28.2969,427,28.2969,427,736,16,736,16,6\" style=\"stroke: #000000; stroke-width: 1.5;\"/><line style=\"stroke: #000000; stroke-width: 1.5;\" x1=\"16\" x2=\"87\" y1=\"28.2969\" y2=\"28.2969\"/><text fill=\"#000000\" font-family=\"sans-serif\" font-size=\"14\" font-weight=\"bold\" lengthAdjust=\"spacingAndGlyphs\" textLength=\"58\" x=\"20\" y=\"20.9951\">PartTest</text></a><!--MD5=[b4997ac47864f28c2f74865a473b2911]\n",
       "class E2--><a href=\"psysml:133b9857-5562-4f09-a022-80109f8d4a7d\" target=\"_top\" title=\"psysml:133b9857-5562-4f09-a022-80109f8d4a7d\" xlink:actuate=\"onRequest\" xlink:href=\"psysml:133b9857-5562-4f09-a022-80109f8d4a7d\" xlink:show=\"new\" xlink:title=\"psysml:133b9857-5562-4f09-a022-80109f8d4a7d\" xlink:type=\"simple\"><rect fill=\"#FEFECE\" filter=\"url(#fmvu694hy4oyo)\" height=\"45.9375\" id=\"E2\" rx=\"10\" ry=\"10\" style=\"stroke: #A80036; stroke-width: 1.5;\" width=\"68\" x=\"188\" y=\"41\"/><ellipse cx=\"203\" cy=\"59.9688\" fill=\"#32CD32\" rx=\"11\" ry=\"11\" style=\"stroke: #A80036; stroke-width: 1.0;\"/><path d=\"M199.8125,64.9688 L199.8125,54.375 L203.4219,54.375 Q204.6406,54.375 205.4375,54.8125 Q206.2344,55.2344 206.6094,55.9375 Q207,56.6406 207,57.4844 Q207,58.3281 206.625,59.0156 Q206.2656,59.7031 205.4688,60.125 Q204.6875,60.5313 203.5,60.5313 L201.7656,60.5313 L201.7656,64.9688 L199.8125,64.9688 Z M201.7656,58.9375 L203.375,58.9375 Q204.1875,58.9375 204.6094,58.5313 Q205.0313,58.125 205.0313,57.4844 Q205.0313,56.8594 204.6094,56.4531 Q204.1875,56.0469 203.3906,56.0469 L201.7656,56.0469 L201.7656,58.9375 Z \"/><text fill=\"#000000\" font-family=\"sans-serif\" font-size=\"12\" font-style=\"italic\" lengthAdjust=\"spacingAndGlyphs\" textLength=\"40\" x=\"215\" y=\"57.1387\">«part»</text><text fill=\"#000000\" font-family=\"sans-serif\" font-size=\"12\" lengthAdjust=\"spacingAndGlyphs\" textLength=\"20\" x=\"223\" y=\"71.1074\">f: A</text><line style=\"stroke: #A80036; stroke-width: 1.5;\" x1=\"189\" x2=\"255\" y1=\"78.9375\" y2=\"78.9375\"/></a><!--MD5=[09b614a08d8cba4a07c9adeb5e0fee81]\n",
       "class E3--><a href=\"psysml:41a43e73-47d4-427d-aa17-f57a90b2778c\" target=\"_top\" title=\"psysml:41a43e73-47d4-427d-aa17-f57a90b2778c\" xlink:actuate=\"onRequest\" xlink:href=\"psysml:41a43e73-47d4-427d-aa17-f57a90b2778c\" xlink:show=\"new\" xlink:title=\"psysml:41a43e73-47d4-427d-aa17-f57a90b2778c\" xlink:type=\"simple\"><rect fill=\"#FEFECE\" filter=\"url(#fmvu694hy4oyo)\" height=\"82.4141\" id=\"E3\" style=\"stroke: #A80036; stroke-width: 1.5;\" width=\"63\" x=\"190.5\" y=\"148\"/><ellipse cx=\"215.85\" cy=\"164\" fill=\"#008000\" rx=\"11\" ry=\"11\" style=\"stroke: #A80036; stroke-width: 1.0;\"/><path d=\"M212.725,169 L212.725,158.4063 L215.9594,158.4063 Q217.8656,158.4063 218.7719,159.1563 Q219.6938,159.9063 219.6938,161.0781 Q219.6938,161.7656 219.3031,162.4219 Q218.9281,163.0781 218.2094,163.375 Q219.0688,163.75 219.5844,164.4375 Q220.1,165.125 220.1,165.9375 Q220.1,167.3125 219.0688,168.1563 Q218.0531,169 215.9438,169 L212.725,169 Z M214.6469,162.6406 L215.8031,162.6406 Q216.9281,162.6406 217.3344,162.2656 Q217.7563,161.875 217.7563,161.25 Q217.7563,160.6719 217.3344,160.3125 Q216.9125,159.9531 215.975,159.9531 L214.6469,159.9531 L214.6469,162.6406 Z M214.6469,167.4219 L216.1469,167.4219 Q217.0531,167.4219 217.5844,167.0313 Q218.1156,166.6406 218.1156,165.8906 Q218.1156,165.125 217.6156,164.6563 Q217.1156,164.1719 215.85,164.1719 L214.6469,164.1719 L214.6469,167.4219 Z \"/><text fill=\"#000000\" font-family=\"sans-serif\" font-size=\"12\" lengthAdjust=\"spacingAndGlyphs\" textLength=\"8\" x=\"232.15\" y=\"168.1543\">A</text><line style=\"stroke: #A80036; stroke-width: 1.5;\" x1=\"191.5\" x2=\"252.5\" y1=\"180\" y2=\"180\"/><text fill=\"#000000\" font-family=\"sans-serif\" font-size=\"11\" lengthAdjust=\"spacingAndGlyphs\" textLength=\"6\" x=\"196.5\" y=\"211.0151\">x</text><text fill=\"#000000\" font-family=\"sans-serif\" font-size=\"11\" lengthAdjust=\"spacingAndGlyphs\" textLength=\"44\" x=\"196.5\" y=\"223.8198\">y:&gt; A::x</text><line style=\"stroke: #A80036; stroke-width: 1.0;\" x1=\"191.5\" x2=\"194.5\" y1=\"194.4023\" y2=\"194.4023\"/><text fill=\"#000000\" font-family=\"sans-serif\" font-size=\"11\" lengthAdjust=\"spacingAndGlyphs\" textLength=\"55\" x=\"194.5\" y=\"197.7104\">attributes</text><line style=\"stroke: #A80036; stroke-width: 1.0;\" x1=\"249.5\" x2=\"252.5\" y1=\"194.4023\" y2=\"194.4023\"/></a><!--MD5=[ebbe1d658d1005bcc118a6aa81145e00]\n",
       "class E4--><a href=\"psysml:23a90af0-4107-4bf0-84ea-ac7115753c4e\" target=\"_top\" title=\"psysml:23a90af0-4107-4bf0-84ea-ac7115753c4e\" xlink:actuate=\"onRequest\" xlink:href=\"psysml:23a90af0-4107-4bf0-84ea-ac7115753c4e\" xlink:show=\"new\" xlink:title=\"psysml:23a90af0-4107-4bf0-84ea-ac7115753c4e\" xlink:type=\"simple\"><rect fill=\"#FEFECE\" filter=\"url(#fmvu694hy4oyo)\" height=\"45.9375\" id=\"E4\" rx=\"10\" ry=\"10\" style=\"stroke: #A80036; stroke-width: 1.5;\" width=\"68\" x=\"326\" y=\"367\"/><ellipse cx=\"341\" cy=\"385.9688\" fill=\"#32CD32\" rx=\"11\" ry=\"11\" style=\"stroke: #A80036; stroke-width: 1.0;\"/><path d=\"M337.8125,390.9688 L337.8125,380.375 L341.4219,380.375 Q342.6406,380.375 343.4375,380.8125 Q344.2344,381.2344 344.6094,381.9375 Q345,382.6406 345,383.4844 Q345,384.3281 344.625,385.0156 Q344.2656,385.7031 343.4688,386.125 Q342.6875,386.5313 341.5,386.5313 L339.7656,386.5313 L339.7656,390.9688 L337.8125,390.9688 Z M339.7656,384.9375 L341.375,384.9375 Q342.1875,384.9375 342.6094,384.5313 Q343.0313,384.125 343.0313,383.4844 Q343.0313,382.8594 342.6094,382.4531 Q342.1875,382.0469 341.3906,382.0469 L339.7656,382.0469 L339.7656,384.9375 Z \"/><text fill=\"#000000\" font-family=\"sans-serif\" font-size=\"12\" font-style=\"italic\" lengthAdjust=\"spacingAndGlyphs\" textLength=\"40\" x=\"353\" y=\"383.1387\">«part»</text><text fill=\"#000000\" font-family=\"sans-serif\" font-size=\"12\" lengthAdjust=\"spacingAndGlyphs\" textLength=\"24\" x=\"359\" y=\"397.1074\">b: B</text><line style=\"stroke: #A80036; stroke-width: 1.5;\" x1=\"327\" x2=\"393\" y1=\"404.9375\" y2=\"404.9375\"/></a><!--MD5=[270fce915f116d4de14055a7c1d9a0f3]\n",
       "class E5--><a href=\"psysml:3bde4e3d-0323-4342-8ecc-6f2c3dab5224\" target=\"_top\" title=\"psysml:3bde4e3d-0323-4342-8ecc-6f2c3dab5224\" xlink:actuate=\"onRequest\" xlink:href=\"psysml:3bde4e3d-0323-4342-8ecc-6f2c3dab5224\" xlink:show=\"new\" xlink:title=\"psysml:3bde4e3d-0323-4342-8ecc-6f2c3dab5224\" xlink:type=\"simple\"><rect fill=\"#FEFECE\" filter=\"url(#fmvu694hy4oyo)\" height=\"45.9375\" id=\"E5\" rx=\"10\" ry=\"10\" style=\"stroke: #A80036; stroke-width: 1.5;\" width=\"68\" x=\"306\" y=\"291\"/><ellipse cx=\"321\" cy=\"309.9688\" fill=\"#0000FF\" rx=\"11\" ry=\"11\" style=\"stroke: #A80036; stroke-width: 1.0;\"/><path d=\"M317.8125,314.9688 L317.8125,304.375 L321.4219,304.375 Q322.6406,304.375 323.4375,304.8125 Q324.2344,305.2344 324.6094,305.9375 Q325,306.6406 325,307.4844 Q325,308.3281 324.625,309.0156 Q324.2656,309.7031 323.4688,310.125 Q322.6875,310.5313 321.5,310.5313 L319.7656,310.5313 L319.7656,314.9688 L317.8125,314.9688 Z M319.7656,308.9375 L321.375,308.9375 Q322.1875,308.9375 322.6094,308.5313 Q323.0313,308.125 323.0313,307.4844 Q323.0313,306.8594 322.6094,306.4531 Q322.1875,306.0469 321.3906,306.0469 L319.7656,306.0469 L319.7656,308.9375 Z \"/><text fill=\"#000000\" font-family=\"sans-serif\" font-size=\"12\" font-style=\"italic\" lengthAdjust=\"spacingAndGlyphs\" textLength=\"40\" x=\"333\" y=\"307.1387\">«port»</text><text fill=\"#000000\" font-family=\"sans-serif\" font-size=\"12\" lengthAdjust=\"spacingAndGlyphs\" textLength=\"23\" x=\"339.5\" y=\"321.1074\">c: C</text><line style=\"stroke: #A80036; stroke-width: 1.5;\" x1=\"307\" x2=\"373\" y1=\"328.9375\" y2=\"328.9375\"/></a><!--MD5=[60a26617385b1d2d0262a64233df1f8d]\n",
       "class E6--><a href=\"psysml:c17c630d-59e9-4f7e-a520-276041a9c800\" target=\"_top\" title=\"psysml:c17c630d-59e9-4f7e-a520-276041a9c800\" xlink:actuate=\"onRequest\" xlink:href=\"psysml:c17c630d-59e9-4f7e-a520-276041a9c800\" xlink:show=\"new\" xlink:title=\"psysml:c17c630d-59e9-4f7e-a520-276041a9c800\" xlink:type=\"simple\"><rect fill=\"#FEFECE\" filter=\"url(#fmvu694hy4oyo)\" height=\"40\" id=\"E6\" style=\"stroke: #A80036; stroke-width: 1.5;\" width=\"40\" x=\"188\" y=\"566\"/><ellipse cx=\"203\" cy=\"582\" fill=\"#008000\" rx=\"11\" ry=\"11\" style=\"stroke: #A80036; stroke-width: 1.0;\"/><path d=\"M199.875,587 L199.875,576.4063 L203.1094,576.4063 Q205.0156,576.4063 205.9219,577.1563 Q206.8438,577.9063 206.8438,579.0781 Q206.8438,579.7656 206.4531,580.4219 Q206.0781,581.0781 205.3594,581.375 Q206.2188,581.75 206.7344,582.4375 Q207.25,583.125 207.25,583.9375 Q207.25,585.3125 206.2188,586.1563 Q205.2031,587 203.0938,587 L199.875,587 Z M201.7969,580.6406 L202.9531,580.6406 Q204.0781,580.6406 204.4844,580.2656 Q204.9063,579.875 204.9063,579.25 Q204.9063,578.6719 204.4844,578.3125 Q204.0625,577.9531 203.125,577.9531 L201.7969,577.9531 L201.7969,580.6406 Z M201.7969,585.4219 L203.2969,585.4219 Q204.2031,585.4219 204.7344,585.0313 Q205.2656,584.6406 205.2656,583.8906 Q205.2656,583.125 204.7656,582.6563 Q204.2656,582.1719 203,582.1719 L201.7969,582.1719 L201.7969,585.4219 Z \"/><text fill=\"#000000\" font-family=\"sans-serif\" font-size=\"12\" font-style=\"italic\" lengthAdjust=\"spacingAndGlyphs\" textLength=\"8\" x=\"217\" y=\"586.1543\">B</text><line style=\"stroke: #A80036; stroke-width: 1.5;\" x1=\"189\" x2=\"227\" y1=\"598\" y2=\"598\"/></a><!--MD5=[2156ba9850f5573cc1fc38a6a4b2f02b]\n",
       "class E7--><a href=\"psysml:4ea01713-b83a-4578-95eb-e0c0377cf261\" target=\"_top\" title=\"psysml:4ea01713-b83a-4578-95eb-e0c0377cf261\" xlink:actuate=\"onRequest\" xlink:href=\"psysml:4ea01713-b83a-4578-95eb-e0c0377cf261\" xlink:show=\"new\" xlink:title=\"psysml:4ea01713-b83a-4578-95eb-e0c0377cf261\" xlink:type=\"simple\"><rect fill=\"#FEFECE\" filter=\"url(#fmvu694hy4oyo)\" height=\"45.9375\" id=\"E7\" rx=\"10\" ry=\"10\" style=\"stroke: #A80036; stroke-width: 1.5;\" width=\"68\" x=\"57\" y=\"670.5\"/><ellipse cx=\"72\" cy=\"689.4688\" fill=\"#32CD32\" rx=\"11\" ry=\"11\" style=\"stroke: #A80036; stroke-width: 1.0;\"/><path d=\"M68.8125,694.4688 L68.8125,683.875 L72.4219,683.875 Q73.6406,683.875 74.4375,684.3125 Q75.2344,684.7344 75.6094,685.4375 Q76,686.1406 76,686.9844 Q76,687.8281 75.625,688.5156 Q75.2656,689.2031 74.4688,689.625 Q73.6875,690.0313 72.5,690.0313 L70.7656,690.0313 L70.7656,694.4688 L68.8125,694.4688 Z M70.7656,688.4375 L72.375,688.4375 Q73.1875,688.4375 73.6094,688.0313 Q74.0313,687.625 74.0313,686.9844 Q74.0313,686.3594 73.6094,685.9531 Q73.1875,685.5469 72.3906,685.5469 L70.7656,685.5469 L70.7656,688.4375 Z \"/><text fill=\"#000000\" font-family=\"sans-serif\" font-size=\"12\" font-style=\"italic\" lengthAdjust=\"spacingAndGlyphs\" textLength=\"40\" x=\"84\" y=\"686.6387\">«part»</text><text fill=\"#000000\" font-family=\"sans-serif\" font-size=\"12\" font-style=\"italic\" lengthAdjust=\"spacingAndGlyphs\" textLength=\"8\" x=\"90\" y=\"700.6074\">a</text><text fill=\"#000000\" font-family=\"sans-serif\" font-size=\"12\" lengthAdjust=\"spacingAndGlyphs\" textLength=\"16\" x=\"98\" y=\"700.6074\">: A</text><line style=\"stroke: #A80036; stroke-width: 1.5;\" x1=\"58\" x2=\"124\" y1=\"708.4375\" y2=\"708.4375\"/></a><!--MD5=[b9389687b975829384b498ac4b7476b2]\n",
       "class E8--><a href=\"psysml:c9f90055-486d-4326-9691-bfe47f710c68\" target=\"_top\" title=\"psysml:c9f90055-486d-4326-9691-bfe47f710c68\" xlink:actuate=\"onRequest\" xlink:href=\"psysml:c9f90055-486d-4326-9691-bfe47f710c68\" xlink:show=\"new\" xlink:title=\"psysml:c9f90055-486d-4326-9691-bfe47f710c68\" xlink:type=\"simple\"><rect fill=\"#FEFECE\" filter=\"url(#fmvu694hy4oyo)\" height=\"45.9375\" id=\"E8\" rx=\"10\" ry=\"10\" style=\"stroke: #A80036; stroke-width: 1.5;\" width=\"68\" x=\"238\" y=\"670.5\"/><ellipse cx=\"253\" cy=\"689.4688\" fill=\"#0000FF\" rx=\"11\" ry=\"11\" style=\"stroke: #A80036; stroke-width: 1.0;\"/><path d=\"M249.8125,694.4688 L249.8125,683.875 L253.4219,683.875 Q254.6406,683.875 255.4375,684.3125 Q256.2344,684.7344 256.6094,685.4375 Q257,686.1406 257,686.9844 Q257,687.8281 256.625,688.5156 Q256.2656,689.2031 255.4688,689.625 Q254.6875,690.0313 253.5,690.0313 L251.7656,690.0313 L251.7656,694.4688 L249.8125,694.4688 Z M251.7656,688.4375 L253.375,688.4375 Q254.1875,688.4375 254.6094,688.0313 Q255.0313,687.625 255.0313,686.9844 Q255.0313,686.3594 254.6094,685.9531 Q254.1875,685.5469 253.3906,685.5469 L251.7656,685.5469 L251.7656,688.4375 Z \"/><text fill=\"#000000\" font-family=\"sans-serif\" font-size=\"12\" font-style=\"italic\" lengthAdjust=\"spacingAndGlyphs\" textLength=\"40\" x=\"265\" y=\"686.6387\">«port»</text><text fill=\"#000000\" font-family=\"sans-serif\" font-size=\"12\" lengthAdjust=\"spacingAndGlyphs\" textLength=\"32\" x=\"267\" y=\"700.6074\">x: ~C</text><line style=\"stroke: #A80036; stroke-width: 1.5;\" x1=\"239\" x2=\"305\" y1=\"708.4375\" y2=\"708.4375\"/></a><!--MD5=[96f4274e9e20536e775497830990834d]\n",
       "class E10--><a href=\"psysml:e209a1f3-de72-4850-a45f-7036acf7c094\" target=\"_top\" title=\"psysml:e209a1f3-de72-4850-a45f-7036acf7c094\" xlink:actuate=\"onRequest\" xlink:href=\"psysml:e209a1f3-de72-4850-a45f-7036acf7c094\" xlink:show=\"new\" xlink:title=\"psysml:e209a1f3-de72-4850-a45f-7036acf7c094\" xlink:type=\"simple\"><rect fill=\"#FEFECE\" filter=\"url(#fmvu694hy4oyo)\" height=\"45.9375\" id=\"E10\" style=\"stroke: #A80036; stroke-width: 1.5;\" width=\"96\" x=\"160\" y=\"443\"/><ellipse cx=\"175\" cy=\"461.9688\" fill=\"#A52A2A\" rx=\"11\" ry=\"11\" style=\"stroke: #A80036; stroke-width: 1.0;\"/><path d=\"M172.2188,466.9688 L172.2188,456.375 L174.9531,456.375 Q176.3438,456.375 177.1094,456.7656 Q177.8906,457.1406 178.4219,457.8438 Q178.9531,458.5469 179.25,459.5469 Q179.5469,460.5313 179.5469,461.75 Q179.5,463.3438 179,464.5313 Q178.5156,465.7031 177.4688,466.3438 Q176.4375,466.9688 174.75,466.9688 L172.2188,466.9688 Z M174.0781,465.4688 L174.7031,465.4688 Q175.7813,465.4688 176.4375,465.0156 Q177.0938,464.5625 177.375,463.7344 Q177.6719,462.8906 177.6563,461.7656 Q177.6563,460.5938 177.4063,459.7344 Q177.1563,458.8594 176.5469,458.3906 Q175.9375,457.9063 174.8906,457.9063 L174.0781,457.9063 L174.0781,465.4688 Z \"/><text fill=\"#000000\" font-family=\"sans-serif\" font-size=\"12\" font-style=\"italic\" lengthAdjust=\"spacingAndGlyphs\" textLength=\"68\" x=\"187\" y=\"459.1387\">«port  def»</text><text fill=\"#000000\" font-family=\"sans-serif\" font-size=\"12\" lengthAdjust=\"spacingAndGlyphs\" textLength=\"8\" x=\"217\" y=\"473.1074\">C</text><line style=\"stroke: #A80036; stroke-width: 1.5;\" x1=\"161\" x2=\"255\" y1=\"480.9375\" y2=\"480.9375\"/></a><a href=\"psysml:78dea323-2f70-496c-aa91-db5f05f12a10\" target=\"_top\" title=\"psysml:78dea323-2f70-496c-aa91-db5f05f12a10\" xlink:actuate=\"onRequest\" xlink:href=\"psysml:78dea323-2f70-496c-aa91-db5f05f12a10\" xlink:show=\"new\" xlink:title=\"psysml:78dea323-2f70-496c-aa91-db5f05f12a10\" xlink:type=\"simple\"><polygon fill=\"#FFFFFF\" filter=\"url(#fmvu694hy4oyo)\" points=\"173.5,667,188.5,667,195.5,689.2969,202.5,689.2969,202.5,719.5938,173.5,719.5938,173.5,667\" style=\"stroke: #000000; stroke-width: 1.5;\"/><line style=\"stroke: #000000; stroke-width: 1.5;\" x1=\"173.5\" x2=\"195.5\" y1=\"689.2969\" y2=\"689.2969\"/><text fill=\"#000000\" font-family=\"sans-serif\" font-size=\"14\" font-weight=\"bold\" lengthAdjust=\"spacingAndGlyphs\" textLength=\"9\" x=\"177.5\" y=\"681.9951\">P</text></a><!--MD5=[2720a5a1f2c3fca2055b230370638851]\n",
       "link E2 to E3--><a href=\"psysml:de99b855-827b-4779-9c99-7b4326eef43f\" target=\"_top\" title=\"psysml:de99b855-827b-4779-9c99-7b4326eef43f\" xlink:actuate=\"onRequest\" xlink:href=\"psysml:de99b855-827b-4779-9c99-7b4326eef43f\" xlink:show=\"new\" xlink:title=\"psysml:de99b855-827b-4779-9c99-7b4326eef43f\" xlink:type=\"simple\"><path d=\"M222,87.27 C222,98.76 222,113.37 222,127.88 \" fill=\"none\" id=\"E2-&gt;E3\" style=\"stroke: #A80036; stroke-width: 1.0;\"/><polygon fill=\"#FFFFFF\" points=\"222,147.98,215,128.98,229,128.98,222,147.98\" style=\"stroke: #A80036; stroke-width: 1.0;\"/><ellipse cx=\"217\" cy=\"123.28\" fill=\"#A80036\" rx=\"2\" ry=\"2\" style=\"stroke: #A80036; stroke-width: 1.0;\"/><ellipse cx=\"227\" cy=\"123.28\" fill=\"#A80036\" rx=\"2\" ry=\"2\" style=\"stroke: #A80036; stroke-width: 1.0;\"/></a><!--MD5=[4672eba38e49728da53d11aeb285b987]\n",
       "reverse link E3 to E4--><a href=\"psysml:7d143534-3389-4013-881e-42b16664757f\" target=\"_top\" title=\"psysml:7d143534-3389-4013-881e-42b16664757f\" xlink:actuate=\"onRequest\" xlink:href=\"psysml:7d143534-3389-4013-881e-42b16664757f\" xlink:show=\"new\" xlink:title=\"psysml:7d143534-3389-4013-881e-42b16664757f\" xlink:type=\"simple\"><path d=\"M266.29,202.49 C307.1,216.62 365.27,244.02 392,291 C405.81,315.27 390.91,346.35 377.16,366.93 \" fill=\"none\" id=\"E3&lt;-E4\" style=\"stroke: #A80036; stroke-width: 1.0;\"/><polygon fill=\"#A80036\" points=\"253.71,198.36,258.1628,204.0321,265.1112,202.1033,260.6584,196.4312,253.71,198.36\" style=\"stroke: #A80036; stroke-width: 1.0;\"/><text fill=\"#000000\" font-family=\"sans-serif\" font-size=\"13\" lengthAdjust=\"spacingAndGlyphs\" textLength=\"8\" x=\"373.9009\" y=\"357.0326\">1</text></a><!--MD5=[191cde3d490a3f6d7bb551fe3ddca469]\n",
       "reverse link E3 to E5--><a href=\"psysml:01061be5-5fdc-439c-afe5-881fb8746c83\" target=\"_top\" title=\"psysml:01061be5-5fdc-439c-afe5-881fb8746c83\" xlink:actuate=\"onRequest\" xlink:href=\"psysml:01061be5-5fdc-439c-afe5-881fb8746c83\" xlink:show=\"new\" xlink:title=\"psysml:01061be5-5fdc-439c-afe5-881fb8746c83\" xlink:type=\"simple\"><path d=\"M262.88,232.61 C281.68,252.21 303.21,274.65 318.73,290.83 \" fill=\"none\" id=\"E3&lt;-E5\" style=\"stroke: #A80036; stroke-width: 1.0;\"/><polygon fill=\"#FFFFFF\" points=\"253.62,222.96,254.891,230.0582,261.932,231.6151,260.661,224.5169,253.62,222.96\" style=\"stroke: #A80036; stroke-width: 1.0;\"/><text fill=\"#000000\" font-family=\"sans-serif\" font-size=\"13\" lengthAdjust=\"spacingAndGlyphs\" textLength=\"8\" x=\"304.2546\" y=\"280.0627\">1</text></a><!--MD5=[79568f1e445c3877b6a54524624ccc7d]\n",
       "link E4 to E6--><a href=\"psysml:8d11eaae-af32-434c-8c3d-32f92418f4c8\" target=\"_top\" title=\"psysml:8d11eaae-af32-434c-8c3d-32f92418f4c8\" xlink:actuate=\"onRequest\" xlink:href=\"psysml:8d11eaae-af32-434c-8c3d-32f92418f4c8\" xlink:show=\"new\" xlink:title=\"psysml:8d11eaae-af32-434c-8c3d-32f92418f4c8\" xlink:type=\"simple\"><path d=\"M342.56,413.25 C316.34,446.72 266.53,510.3 235.41,550.01 \" fill=\"none\" id=\"E4-&gt;E6\" style=\"stroke: #A80036; stroke-width: 1.0;\"/><polygon fill=\"#FFFFFF\" points=\"222.97,565.9,229.1843,546.6287,240.2018,555.2667,222.97,565.9\" style=\"stroke: #A80036; stroke-width: 1.0;\"/><ellipse cx=\"234.2751\" cy=\"543.377\" fill=\"#A80036\" rx=\"2\" ry=\"2\" style=\"stroke: #A80036; stroke-width: 1.0;\"/><ellipse cx=\"242.1447\" cy=\"549.547\" fill=\"#A80036\" rx=\"2\" ry=\"2\" style=\"stroke: #A80036; stroke-width: 1.0;\"/></a><!--MD5=[3f50a3473f1dfb74d3f76443e03635af]\n",
       "reverse link E6 to E7--><a href=\"psysml:7466bf8a-1e84-4b05-9901-ce46ee446fa5\" target=\"_top\" title=\"psysml:7466bf8a-1e84-4b05-9901-ce46ee446fa5\" xlink:actuate=\"onRequest\" xlink:href=\"psysml:7466bf8a-1e84-4b05-9901-ce46ee446fa5\" xlink:show=\"new\" xlink:title=\"psysml:7466bf8a-1e84-4b05-9901-ce46ee446fa5\" xlink:type=\"simple\"><path d=\"M178.07,613.98 C158.75,631.41 133.92,653.8 115.72,670.21 \" fill=\"none\" id=\"E6&lt;-E7\" style=\"stroke: #A80036; stroke-width: 1.0;\"/><polygon fill=\"#A80036\" points=\"187.89,605.14,180.7549,606.1841,178.9744,613.1719,186.1095,612.1278,187.89,605.14\" style=\"stroke: #A80036; stroke-width: 1.0;\"/><text fill=\"#000000\" font-family=\"sans-serif\" font-size=\"13\" lengthAdjust=\"spacingAndGlyphs\" textLength=\"8\" x=\"113.0295\" y=\"659.412\">1</text></a><!--MD5=[14ccda38c055a5c0da953d572bc50960]\n",
       "link E7 to E3--><a href=\"psysml:3c280f0c-0d5e-48e6-b009-cbd7db9e9beb\" target=\"_top\" title=\"psysml:3c280f0c-0d5e-48e6-b009-cbd7db9e9beb\" xlink:actuate=\"onRequest\" xlink:href=\"psysml:3c280f0c-0d5e-48e6-b009-cbd7db9e9beb\" xlink:show=\"new\" xlink:title=\"psysml:3c280f0c-0d5e-48e6-b009-cbd7db9e9beb\" xlink:type=\"simple\"><path d=\"M70.06,670.14 C53.45,650.01 33,618.77 33,587 C33,313 33,313 33,313 C33,247.07 114.79,214.66 170.76,200.19 \" fill=\"none\" id=\"E7-&gt;E3\" style=\"stroke: #A80036; stroke-width: 1.0;\"/><polygon fill=\"#FFFFFF\" points=\"190.37,195.57,173.4806,206.7391,170.2713,193.1119,190.37,195.57\" style=\"stroke: #A80036; stroke-width: 1.0;\"/><ellipse cx=\"167.4739\" cy=\"206.099\" fill=\"#A80036\" rx=\"2\" ry=\"2\" style=\"stroke: #A80036; stroke-width: 1.0;\"/><ellipse cx=\"165.1816\" cy=\"196.3653\" fill=\"#A80036\" rx=\"2\" ry=\"2\" style=\"stroke: #A80036; stroke-width: 1.0;\"/></a><!--MD5=[f4cf0736d43fd73c4ef68817c49d37d5]\n",
       "reverse link E6 to E8--><a href=\"psysml:dcb35f57-14cb-4e2c-8543-9245438ead5d\" target=\"_top\" title=\"psysml:dcb35f57-14cb-4e2c-8543-9245438ead5d\" xlink:actuate=\"onRequest\" xlink:href=\"psysml:dcb35f57-14cb-4e2c-8543-9245438ead5d\" xlink:show=\"new\" xlink:title=\"psysml:dcb35f57-14cb-4e2c-8543-9245438ead5d\" xlink:type=\"simple\"><path d=\"M226.71,617.84 C236.92,634.67 249.32,655.11 258.56,670.35 \" fill=\"none\" id=\"E6&lt;-E8\" style=\"stroke: #A80036; stroke-width: 1.0;\"/><polygon fill=\"#FFFFFF\" points=\"219.74,606.35,219.4323,613.5545,225.9643,616.6095,226.272,609.405,219.74,606.35\" style=\"stroke: #A80036; stroke-width: 1.0;\"/><text fill=\"#000000\" font-family=\"sans-serif\" font-size=\"13\" lengthAdjust=\"spacingAndGlyphs\" textLength=\"8\" x=\"246.091\" y=\"659.5879\">1</text></a><!--MD5=[e88d06e5a652d73a6b19930eefe025a8]\n",
       "reverse link E6 to E9--><a href=\"psysml:08766104-19a0-4aca-bf35-b4c81b8c6dcb\" target=\"_top\" title=\"psysml:08766104-19a0-4aca-bf35-b4c81b8c6dcb\" xlink:actuate=\"onRequest\" xlink:href=\"psysml:08766104-19a0-4aca-bf35-b4c81b8c6dcb\" xlink:show=\"new\" xlink:title=\"psysml:08766104-19a0-4aca-bf35-b4c81b8c6dcb\" xlink:type=\"simple\"><path d=\"M201.5,621.31 C198.68,636.15 195.45,653.21 192.85,666.91 \" fill=\"none\" id=\"E6&lt;-E9\" style=\"stroke: #A80036; stroke-width: 1.0;\"/><ellipse cx=\"202.8373\" cy=\"614.2095\" fill=\"#FFFFFF\" rx=\"8\" ry=\"8\" style=\"stroke: #A80036; stroke-width: 1.0;\"/><line style=\"stroke: #A80036; stroke-width: 1.0;\" x1=\"201.3446\" x2=\"204.33\" y1=\"622.069\" y2=\"606.35\"/><line style=\"stroke: #A80036; stroke-width: 1.0;\" x1=\"194.9778\" x2=\"210.6968\" y1=\"612.7168\" y2=\"615.7022\"/></a><!--MD5=[f78a29d5932556fa1060671a2a6507d8]\n",
       "link E5 to E10--><a href=\"psysml:568ef262-b92a-4cba-8a4b-19f4a197db7e\" target=\"_top\" title=\"psysml:568ef262-b92a-4cba-8a4b-19f4a197db7e\" xlink:actuate=\"onRequest\" xlink:href=\"psysml:568ef262-b92a-4cba-8a4b-19f4a197db7e\" xlink:show=\"new\" xlink:title=\"psysml:568ef262-b92a-4cba-8a4b-19f4a197db7e\" xlink:type=\"simple\"><path d=\"M326.74,337.28 C313.85,358 293.06,389.19 271,413 C265.65,418.78 259.66,424.49 253.55,429.91 \" fill=\"none\" id=\"E5-&gt;E10\" style=\"stroke: #A80036; stroke-width: 1.0;\"/><polygon fill=\"#FFFFFF\" points=\"237.97,442.96,248.0287,425.3867,257.0257,436.113,237.97,442.96\" style=\"stroke: #A80036; stroke-width: 1.0;\"/><ellipse cx=\"253.6812\" cy=\"423.256\" fill=\"#A80036\" rx=\"2\" ry=\"2\" style=\"stroke: #A80036; stroke-width: 1.0;\"/><ellipse cx=\"260.1076\" cy=\"430.9177\" fill=\"#A80036\" rx=\"2\" ry=\"2\" style=\"stroke: #A80036; stroke-width: 1.0;\"/></a><!--MD5=[8e04057e7b3cbc0dca4fc78ea351e2da]\n",
       "reverse link E10 to E3--><a href=\"psysml:f2bac2b1-68d1-4631-bf1f-fa6cff2f703f\" target=\"_top\" title=\"psysml:f2bac2b1-68d1-4631-bf1f-fa6cff2f703f\" xlink:actuate=\"onRequest\" xlink:href=\"psysml:f2bac2b1-68d1-4631-bf1f-fa6cff2f703f\" xlink:show=\"new\" xlink:title=\"psysml:f2bac2b1-68d1-4631-bf1f-fa6cff2f703f\" xlink:type=\"simple\"><path d=\"M177.32,432.78 C148.25,398.15 111.68,341.3 131,291 C142.85,260.15 168.95,232.84 190.18,214.42 \" fill=\"none\" id=\"E10&lt;-E3\" style=\"stroke: #A80036; stroke-width: 1.0;\"/><polygon fill=\"#FFFFFF\" points=\"186.03,442.78,185.1026,435.6288,178.1448,433.7344,179.0722,440.8856,186.03,442.78\" style=\"stroke: #A80036; stroke-width: 1.0;\"/><text fill=\"#000000\" font-family=\"sans-serif\" font-size=\"13\" lengthAdjust=\"spacingAndGlyphs\" textLength=\"7\" x=\"132\" y=\"318.5669\">y</text></a><!--MD5=[8e04057e7b3cbc0dca4fc78ea351e2da]\n",
       "reverse link E10 to E3--><a href=\"psysml:f2bac2b1-68d1-4631-bf1f-fa6cff2f703f\" target=\"_top\" title=\"psysml:f2bac2b1-68d1-4631-bf1f-fa6cff2f703f\" xlink:actuate=\"onRequest\" xlink:href=\"psysml:f2bac2b1-68d1-4631-bf1f-fa6cff2f703f\" xlink:show=\"new\" xlink:title=\"psysml:f2bac2b1-68d1-4631-bf1f-fa6cff2f703f\" xlink:type=\"simple\"><path d=\"M207.3,429.69 C206.87,394.5 206.88,338.96 210,291 C211.31,270.91 213.83,248.69 216.22,230.21 \" fill=\"none\" id=\"E10&lt;-E3-1\" style=\"stroke: #A80036; stroke-width: 1.0;\"/><polygon fill=\"#FFFFFF\" points=\"207.5,443,211.4072,436.9392,207.3154,431.0014,203.4082,437.0622,207.5,443\" style=\"stroke: #A80036; stroke-width: 1.0;\"/><text fill=\"#000000\" font-family=\"sans-serif\" font-size=\"13\" lengthAdjust=\"spacingAndGlyphs\" textLength=\"7\" x=\"211\" y=\"318.5669\">y</text></a><!--MD5=[8e04057e7b3cbc0dca4fc78ea351e2da]\n",
       "reverse link E10 to E3--><a href=\"psysml:f2bac2b1-68d1-4631-bf1f-fa6cff2f703f\" target=\"_top\" title=\"psysml:f2bac2b1-68d1-4631-bf1f-fa6cff2f703f\" xlink:actuate=\"onRequest\" xlink:href=\"psysml:f2bac2b1-68d1-4631-bf1f-fa6cff2f703f\" xlink:show=\"new\" xlink:title=\"psysml:f2bac2b1-68d1-4631-bf1f-fa6cff2f703f\" xlink:type=\"simple\"><path d=\"M213.75,429.53 C214.56,424.01 215.34,418.35 216,413 C220.14,379.33 221.44,370.88 223,337 C223.94,316.58 223.1,311.44 223,291 C222.9,271.01 222.69,248.79 222.49,230.3 \" fill=\"none\" id=\"E10&lt;-E3-2\" style=\"stroke: #A80036; stroke-width: 1.0;\"/><polygon fill=\"#FFFFFF\" points=\"211.72,442.77,216.5832,437.4456,213.5387,430.9086,208.6756,436.2331,211.72,442.77\" style=\"stroke: #A80036; stroke-width: 1.0;\"/><text fill=\"#000000\" font-family=\"sans-serif\" font-size=\"13\" lengthAdjust=\"spacingAndGlyphs\" textLength=\"7\" x=\"224\" y=\"318.5669\">y</text></a><!--MD5=[604cbf994c02b74b117f728a71673cea]\n",
       "reverse link E10 to E6--><a href=\"psysml:f2bac2b1-68d1-4631-bf1f-fa6cff2f703f\" target=\"_top\" title=\"psysml:f2bac2b1-68d1-4631-bf1f-fa6cff2f703f\" xlink:actuate=\"onRequest\" xlink:href=\"psysml:f2bac2b1-68d1-4631-bf1f-fa6cff2f703f\" xlink:show=\"new\" xlink:title=\"psysml:f2bac2b1-68d1-4631-bf1f-fa6cff2f703f\" xlink:type=\"simple\"><path d=\"M216.43,501.99 C218.14,512.86 219.12,524.91 218,536 C217.01,545.85 214.91,556.64 212.9,565.59 \" fill=\"none\" id=\"E10&lt;-E6\" style=\"stroke: #A80036; stroke-width: 1.0;\"/><polygon fill=\"#FFFFFF\" points=\"213.96,489,211.1427,495.638,216.1866,500.7916,219.0038,494.1536,213.96,489\" style=\"stroke: #A80036; stroke-width: 1.0;\"/><text fill=\"#000000\" font-family=\"sans-serif\" font-size=\"13\" lengthAdjust=\"spacingAndGlyphs\" textLength=\"7\" x=\"219\" y=\"532.0669\">y</text></a><!--MD5=[604cbf994c02b74b117f728a71673cea]\n",
       "reverse link E10 to E6--><a href=\"psysml:f2bac2b1-68d1-4631-bf1f-fa6cff2f703f\" target=\"_top\" title=\"psysml:f2bac2b1-68d1-4631-bf1f-fa6cff2f703f\" xlink:actuate=\"onRequest\" xlink:href=\"psysml:f2bac2b1-68d1-4631-bf1f-fa6cff2f703f\" xlink:show=\"new\" xlink:title=\"psysml:f2bac2b1-68d1-4631-bf1f-fa6cff2f703f\" xlink:type=\"simple\"><path d=\"M172.04,498.87 C167.13,505.03 162.81,511.82 160,519 C152,539.45 171.29,559.33 187.75,571.84 \" fill=\"none\" id=\"E10&lt;-E6-1\" style=\"stroke: #A80036; stroke-width: 1.0;\"/><polygon fill=\"#FFFFFF\" points=\"180.73,489.16,173.7505,490.973,172.7396,498.1129,179.7191,496.2999,180.73,489.16\" style=\"stroke: #A80036; stroke-width: 1.0;\"/><text fill=\"#000000\" font-family=\"sans-serif\" font-size=\"13\" lengthAdjust=\"spacingAndGlyphs\" textLength=\"7\" x=\"161\" y=\"532.0669\">y</text></a><!--MD5=[604cbf994c02b74b117f728a71673cea]\n",
       "reverse link E10 to E6--><a href=\"psysml:f2bac2b1-68d1-4631-bf1f-fa6cff2f703f\" target=\"_top\" title=\"psysml:f2bac2b1-68d1-4631-bf1f-fa6cff2f703f\" xlink:actuate=\"onRequest\" xlink:href=\"psysml:f2bac2b1-68d1-4631-bf1f-fa6cff2f703f\" xlink:show=\"new\" xlink:title=\"psysml:f2bac2b1-68d1-4631-bf1f-fa6cff2f703f\" xlink:type=\"simple\"><path d=\"M208,502.33 C208,523.08 208,548.51 208,565.64 \" fill=\"none\" id=\"E10&lt;-E6-2\" style=\"stroke: #A80036; stroke-width: 1.0;\"/><polygon fill=\"#FFFFFF\" points=\"208,489.19,204,495.19,208,501.19,212,495.19,208,489.19\" style=\"stroke: #A80036; stroke-width: 1.0;\"/><text fill=\"#000000\" font-family=\"sans-serif\" font-size=\"13\" lengthAdjust=\"spacingAndGlyphs\" textLength=\"7\" x=\"209\" y=\"532.0669\">y</text></a><!--MD5=[2307cbafd2c93e617de76f63c54ce841]\n",
       "@startuml\r\n",
       " \r\n",
       "package \"PartTest\" as E1  [[psysml:c38775ed-c195-45a3-878f-69446059ff99 ]]  {\r\n",
       "comp usage \"f: A \" as E2 << << (P,limegreen) part>> [[psysml:133b9857-5562-4f09-a022-80109f8d4a7d ]] {\r\n",
       "}\r\n",
       "comp def \"A\" as E3 << << (B,green) >> [[psysml:41a43e73-47d4-427d-aa17-f57a90b2778c ]] {\r\n",
       "- - attributes - -\r\n",
       "x\r\n",
       "y:> A::x\r\n",
       "}\r\n",
       "comp usage \"b: B \" as E4 << << (P,limegreen) part>> [[psysml:23a90af0-4107-4bf0-84ea-ac7115753c4e ]] {\r\n",
       "}\r\n",
       "comp usage \"c: C \" as E5 << << (P,blue) port>> [[psysml:3bde4e3d-0323-4342-8ecc-6f2c3dab5224 ]] {\r\n",
       "}\r\n",
       "comp def \"<i>B</i>\" as E6 << << (B,green) >> [[psysml:c17c630d-59e9-4f7e-a520-276041a9c800 ]] {\r\n",
       "}\r\n",
       "comp usage \"<i>a</i>: A \" as E7 << << (P,limegreen) part>> [[psysml:4ea01713-b83a-4578-95eb-e0c0377cf261 ]] {\r\n",
       "}\r\n",
       "comp usage \"x: ~C \" as E8 << << (P,blue) port>> [[psysml:c9f90055-486d-4326-9691-bfe47f710c68 ]] {\r\n",
       "}\r\n",
       "package \"P\" as E9  [[psysml:78dea323-2f70-496c-aa91-db5f05f12a10 ]]  {\r\n",
       "}\r\n",
       "comp def \"C\" as E10 << <<(D,brown) port  def>> [[psysml:e209a1f3-de72-4850-a45f-7036acf7c094 ]] {\r\n",
       "}\r\n",
       "}\r\n",
       "E2 - -:|> E3 [[psysml:de99b855-827b-4779-9c99-7b4326eef43f ]] \r\n",
       "E3 *- - \"1\"E4 [[psysml:7d143534-3389-4013-881e-42b16664757f ]] \r\n",
       "E3 o- - \"1\"E5 [[psysml:01061be5-5fdc-439c-afe5-881fb8746c83 ]] \r\n",
       "E4 - -:|> E6 [[psysml:8d11eaae-af32-434c-8c3d-32f92418f4c8 ]] \r\n",
       "E6 *- - \"1\"E7 [[psysml:7466bf8a-1e84-4b05-9901-ce46ee446fa5 ]] \r\n",
       "E7 - -:|> E3 [[psysml:3c280f0c-0d5e-48e6-b009-cbd7db9e9beb ]] \r\n",
       "E6 o- - \"1\"E8 [[psysml:dcb35f57-14cb-4e2c-8543-9245438ead5d ]] \r\n",
       "E6 +- - E9 [[psysml:08766104-19a0-4aca-bf35-b4c81b8c6dcb ]] \r\n",
       "E5 - -:|> E10 [[psysml:568ef262-b92a-4cba-8a4b-19f4a197db7e ]] \r\n",
       "E10 o- - E3 [[psysml:f2bac2b1-68d1-4631-bf1f-fa6cff2f703f ]] : y\r\n",
       "E10 o- - E6 [[psysml:f2bac2b1-68d1-4631-bf1f-fa6cff2f703f ]] : y\r\n",
       "E10 o- - E3 [[psysml:f2bac2b1-68d1-4631-bf1f-fa6cff2f703f ]] : y\r\n",
       "E10 o- - E6 [[psysml:f2bac2b1-68d1-4631-bf1f-fa6cff2f703f ]] : y\r\n",
       "E10 o- - E3 [[psysml:f2bac2b1-68d1-4631-bf1f-fa6cff2f703f ]] : y\r\n",
       "E10 o- - E6 [[psysml:f2bac2b1-68d1-4631-bf1f-fa6cff2f703f ]] : y\r\n",
       "@enduml\r\n",
       "\n",
       "PlantUML version 1.2020.13(Sat Jun 13 12:26:38 UTC 2020)\n",
       "(EPL source distribution)\n",
       "Java Runtime: OpenJDK Runtime Environment\n",
       "JVM: OpenJDK 64-Bit Server VM\n",
       "Default Encoding: UTF-8\n",
       "Language: en\n",
       "Country: null\n",
       "--></g></svg>"
      ]
     },
     "execution_count": 30,
     "metadata": {},
     "output_type": "execute_result"
    }
   ],
   "source": [
    "%viz --style=\"PLANTUML\" --view=\"Default\" \"PartTest\""
   ]
  },
  {
   "cell_type": "code",
   "execution_count": 31,
   "id": "bfbf3dab",
   "metadata": {
    "execution": {
     "iopub.execute_input": "2022-02-05T16:55:44.649055Z",
     "iopub.status.busy": "2022-02-05T16:55:44.648623Z",
     "iopub.status.idle": "2022-02-05T16:55:44.711363Z",
     "shell.execute_reply": "2022-02-05T16:55:44.710963Z"
    }
   },
   "outputs": [
    {
     "data": {
      "image/svg+xml": [
       "<?xml version=\"1.0\" encoding=\"UTF-8\" standalone=\"no\"?><svg xmlns=\"http://www.w3.org/2000/svg\" xmlns:xlink=\"http://www.w3.org/1999/xlink\" contentScriptType=\"application/ecmascript\" contentStyleType=\"text/css\" height=\"748px\" preserveAspectRatio=\"none\" style=\"width:449px;height:748px;\" version=\"1.1\" viewBox=\"0 0 449 748\" width=\"449px\" zoomAndPan=\"magnify\"><defs><filter height=\"300%\" id=\"fmvu694hy4oyo\" width=\"300%\" x=\"-1\" y=\"-1\"><feGaussianBlur result=\"blurOut\" stdDeviation=\"2.0\"/><feColorMatrix in=\"blurOut\" result=\"blurOut2\" type=\"matrix\" values=\"0 0 0 0 0 0 0 0 0 0 0 0 0 0 0 0 0 0 .4 0\"/><feOffset dx=\"4.0\" dy=\"4.0\" in=\"blurOut2\" result=\"blurOut3\"/><feBlend in=\"SourceGraphic\" in2=\"blurOut3\" mode=\"normal\"/></filter></defs><g><!--MD5=[fbc87193dbaf4d95561dea2c320d4a47]\n",
       "cluster E1--><a href=\"psysml:c38775ed-c195-45a3-878f-69446059ff99\" target=\"_top\" title=\"psysml:c38775ed-c195-45a3-878f-69446059ff99\" xlink:actuate=\"onRequest\" xlink:href=\"psysml:c38775ed-c195-45a3-878f-69446059ff99\" xlink:show=\"new\" xlink:title=\"psysml:c38775ed-c195-45a3-878f-69446059ff99\" xlink:type=\"simple\"><polygon fill=\"#FFFFFF\" filter=\"url(#fmvu694hy4oyo)\" points=\"16,6,80,6,87,28.2969,427,28.2969,427,736,16,736,16,6\" style=\"stroke: #000000; stroke-width: 1.5;\"/><line style=\"stroke: #000000; stroke-width: 1.5;\" x1=\"16\" x2=\"87\" y1=\"28.2969\" y2=\"28.2969\"/><text fill=\"#000000\" font-family=\"sans-serif\" font-size=\"14\" font-weight=\"bold\" lengthAdjust=\"spacingAndGlyphs\" textLength=\"58\" x=\"20\" y=\"20.9951\">PartTest</text></a><!--MD5=[b4997ac47864f28c2f74865a473b2911]\n",
       "class E2--><a href=\"psysml:133b9857-5562-4f09-a022-80109f8d4a7d\" target=\"_top\" title=\"psysml:133b9857-5562-4f09-a022-80109f8d4a7d\" xlink:actuate=\"onRequest\" xlink:href=\"psysml:133b9857-5562-4f09-a022-80109f8d4a7d\" xlink:show=\"new\" xlink:title=\"psysml:133b9857-5562-4f09-a022-80109f8d4a7d\" xlink:type=\"simple\"><rect fill=\"#FEFECE\" filter=\"url(#fmvu694hy4oyo)\" height=\"45.9375\" id=\"E2\" rx=\"10\" ry=\"10\" style=\"stroke: #A80036; stroke-width: 1.5;\" width=\"68\" x=\"188\" y=\"41\"/><ellipse cx=\"203\" cy=\"59.9688\" fill=\"#32CD32\" rx=\"11\" ry=\"11\" style=\"stroke: #A80036; stroke-width: 1.0;\"/><path d=\"M199.8125,64.9688 L199.8125,54.375 L203.4219,54.375 Q204.6406,54.375 205.4375,54.8125 Q206.2344,55.2344 206.6094,55.9375 Q207,56.6406 207,57.4844 Q207,58.3281 206.625,59.0156 Q206.2656,59.7031 205.4688,60.125 Q204.6875,60.5313 203.5,60.5313 L201.7656,60.5313 L201.7656,64.9688 L199.8125,64.9688 Z M201.7656,58.9375 L203.375,58.9375 Q204.1875,58.9375 204.6094,58.5313 Q205.0313,58.125 205.0313,57.4844 Q205.0313,56.8594 204.6094,56.4531 Q204.1875,56.0469 203.3906,56.0469 L201.7656,56.0469 L201.7656,58.9375 Z \"/><text fill=\"#000000\" font-family=\"sans-serif\" font-size=\"12\" font-style=\"italic\" lengthAdjust=\"spacingAndGlyphs\" textLength=\"40\" x=\"215\" y=\"57.1387\">«part»</text><text fill=\"#000000\" font-family=\"sans-serif\" font-size=\"12\" lengthAdjust=\"spacingAndGlyphs\" textLength=\"20\" x=\"223\" y=\"71.1074\">f: A</text><line style=\"stroke: #A80036; stroke-width: 1.5;\" x1=\"189\" x2=\"255\" y1=\"78.9375\" y2=\"78.9375\"/></a><!--MD5=[09b614a08d8cba4a07c9adeb5e0fee81]\n",
       "class E3--><a href=\"psysml:41a43e73-47d4-427d-aa17-f57a90b2778c\" target=\"_top\" title=\"psysml:41a43e73-47d4-427d-aa17-f57a90b2778c\" xlink:actuate=\"onRequest\" xlink:href=\"psysml:41a43e73-47d4-427d-aa17-f57a90b2778c\" xlink:show=\"new\" xlink:title=\"psysml:41a43e73-47d4-427d-aa17-f57a90b2778c\" xlink:type=\"simple\"><rect fill=\"#FEFECE\" filter=\"url(#fmvu694hy4oyo)\" height=\"82.4141\" id=\"E3\" style=\"stroke: #A80036; stroke-width: 1.5;\" width=\"63\" x=\"190.5\" y=\"148\"/><ellipse cx=\"215.85\" cy=\"164\" fill=\"#008000\" rx=\"11\" ry=\"11\" style=\"stroke: #A80036; stroke-width: 1.0;\"/><path d=\"M212.725,169 L212.725,158.4063 L215.9594,158.4063 Q217.8656,158.4063 218.7719,159.1563 Q219.6938,159.9063 219.6938,161.0781 Q219.6938,161.7656 219.3031,162.4219 Q218.9281,163.0781 218.2094,163.375 Q219.0688,163.75 219.5844,164.4375 Q220.1,165.125 220.1,165.9375 Q220.1,167.3125 219.0688,168.1563 Q218.0531,169 215.9438,169 L212.725,169 Z M214.6469,162.6406 L215.8031,162.6406 Q216.9281,162.6406 217.3344,162.2656 Q217.7563,161.875 217.7563,161.25 Q217.7563,160.6719 217.3344,160.3125 Q216.9125,159.9531 215.975,159.9531 L214.6469,159.9531 L214.6469,162.6406 Z M214.6469,167.4219 L216.1469,167.4219 Q217.0531,167.4219 217.5844,167.0313 Q218.1156,166.6406 218.1156,165.8906 Q218.1156,165.125 217.6156,164.6563 Q217.1156,164.1719 215.85,164.1719 L214.6469,164.1719 L214.6469,167.4219 Z \"/><text fill=\"#000000\" font-family=\"sans-serif\" font-size=\"12\" lengthAdjust=\"spacingAndGlyphs\" textLength=\"8\" x=\"232.15\" y=\"168.1543\">A</text><line style=\"stroke: #A80036; stroke-width: 1.5;\" x1=\"191.5\" x2=\"252.5\" y1=\"180\" y2=\"180\"/><text fill=\"#000000\" font-family=\"sans-serif\" font-size=\"11\" lengthAdjust=\"spacingAndGlyphs\" textLength=\"6\" x=\"196.5\" y=\"211.0151\">x</text><text fill=\"#000000\" font-family=\"sans-serif\" font-size=\"11\" lengthAdjust=\"spacingAndGlyphs\" textLength=\"44\" x=\"196.5\" y=\"223.8198\">y:&gt; A::x</text><line style=\"stroke: #A80036; stroke-width: 1.0;\" x1=\"191.5\" x2=\"194.5\" y1=\"194.4023\" y2=\"194.4023\"/><text fill=\"#000000\" font-family=\"sans-serif\" font-size=\"11\" lengthAdjust=\"spacingAndGlyphs\" textLength=\"55\" x=\"194.5\" y=\"197.7104\">attributes</text><line style=\"stroke: #A80036; stroke-width: 1.0;\" x1=\"249.5\" x2=\"252.5\" y1=\"194.4023\" y2=\"194.4023\"/></a><!--MD5=[ebbe1d658d1005bcc118a6aa81145e00]\n",
       "class E4--><a href=\"psysml:23a90af0-4107-4bf0-84ea-ac7115753c4e\" target=\"_top\" title=\"psysml:23a90af0-4107-4bf0-84ea-ac7115753c4e\" xlink:actuate=\"onRequest\" xlink:href=\"psysml:23a90af0-4107-4bf0-84ea-ac7115753c4e\" xlink:show=\"new\" xlink:title=\"psysml:23a90af0-4107-4bf0-84ea-ac7115753c4e\" xlink:type=\"simple\"><rect fill=\"#FEFECE\" filter=\"url(#fmvu694hy4oyo)\" height=\"45.9375\" id=\"E4\" rx=\"10\" ry=\"10\" style=\"stroke: #A80036; stroke-width: 1.5;\" width=\"68\" x=\"326\" y=\"367\"/><ellipse cx=\"341\" cy=\"385.9688\" fill=\"#32CD32\" rx=\"11\" ry=\"11\" style=\"stroke: #A80036; stroke-width: 1.0;\"/><path d=\"M337.8125,390.9688 L337.8125,380.375 L341.4219,380.375 Q342.6406,380.375 343.4375,380.8125 Q344.2344,381.2344 344.6094,381.9375 Q345,382.6406 345,383.4844 Q345,384.3281 344.625,385.0156 Q344.2656,385.7031 343.4688,386.125 Q342.6875,386.5313 341.5,386.5313 L339.7656,386.5313 L339.7656,390.9688 L337.8125,390.9688 Z M339.7656,384.9375 L341.375,384.9375 Q342.1875,384.9375 342.6094,384.5313 Q343.0313,384.125 343.0313,383.4844 Q343.0313,382.8594 342.6094,382.4531 Q342.1875,382.0469 341.3906,382.0469 L339.7656,382.0469 L339.7656,384.9375 Z \"/><text fill=\"#000000\" font-family=\"sans-serif\" font-size=\"12\" font-style=\"italic\" lengthAdjust=\"spacingAndGlyphs\" textLength=\"40\" x=\"353\" y=\"383.1387\">«part»</text><text fill=\"#000000\" font-family=\"sans-serif\" font-size=\"12\" lengthAdjust=\"spacingAndGlyphs\" textLength=\"24\" x=\"359\" y=\"397.1074\">b: B</text><line style=\"stroke: #A80036; stroke-width: 1.5;\" x1=\"327\" x2=\"393\" y1=\"404.9375\" y2=\"404.9375\"/></a><!--MD5=[270fce915f116d4de14055a7c1d9a0f3]\n",
       "class E5--><a href=\"psysml:3bde4e3d-0323-4342-8ecc-6f2c3dab5224\" target=\"_top\" title=\"psysml:3bde4e3d-0323-4342-8ecc-6f2c3dab5224\" xlink:actuate=\"onRequest\" xlink:href=\"psysml:3bde4e3d-0323-4342-8ecc-6f2c3dab5224\" xlink:show=\"new\" xlink:title=\"psysml:3bde4e3d-0323-4342-8ecc-6f2c3dab5224\" xlink:type=\"simple\"><rect fill=\"#FEFECE\" filter=\"url(#fmvu694hy4oyo)\" height=\"45.9375\" id=\"E5\" rx=\"10\" ry=\"10\" style=\"stroke: #A80036; stroke-width: 1.5;\" width=\"68\" x=\"306\" y=\"291\"/><ellipse cx=\"321\" cy=\"309.9688\" fill=\"#0000FF\" rx=\"11\" ry=\"11\" style=\"stroke: #A80036; stroke-width: 1.0;\"/><path d=\"M317.8125,314.9688 L317.8125,304.375 L321.4219,304.375 Q322.6406,304.375 323.4375,304.8125 Q324.2344,305.2344 324.6094,305.9375 Q325,306.6406 325,307.4844 Q325,308.3281 324.625,309.0156 Q324.2656,309.7031 323.4688,310.125 Q322.6875,310.5313 321.5,310.5313 L319.7656,310.5313 L319.7656,314.9688 L317.8125,314.9688 Z M319.7656,308.9375 L321.375,308.9375 Q322.1875,308.9375 322.6094,308.5313 Q323.0313,308.125 323.0313,307.4844 Q323.0313,306.8594 322.6094,306.4531 Q322.1875,306.0469 321.3906,306.0469 L319.7656,306.0469 L319.7656,308.9375 Z \"/><text fill=\"#000000\" font-family=\"sans-serif\" font-size=\"12\" font-style=\"italic\" lengthAdjust=\"spacingAndGlyphs\" textLength=\"40\" x=\"333\" y=\"307.1387\">«port»</text><text fill=\"#000000\" font-family=\"sans-serif\" font-size=\"12\" lengthAdjust=\"spacingAndGlyphs\" textLength=\"23\" x=\"339.5\" y=\"321.1074\">c: C</text><line style=\"stroke: #A80036; stroke-width: 1.5;\" x1=\"307\" x2=\"373\" y1=\"328.9375\" y2=\"328.9375\"/></a><!--MD5=[60a26617385b1d2d0262a64233df1f8d]\n",
       "class E6--><a href=\"psysml:c17c630d-59e9-4f7e-a520-276041a9c800\" target=\"_top\" title=\"psysml:c17c630d-59e9-4f7e-a520-276041a9c800\" xlink:actuate=\"onRequest\" xlink:href=\"psysml:c17c630d-59e9-4f7e-a520-276041a9c800\" xlink:show=\"new\" xlink:title=\"psysml:c17c630d-59e9-4f7e-a520-276041a9c800\" xlink:type=\"simple\"><rect fill=\"#FEFECE\" filter=\"url(#fmvu694hy4oyo)\" height=\"40\" id=\"E6\" style=\"stroke: #A80036; stroke-width: 1.5;\" width=\"40\" x=\"188\" y=\"566\"/><ellipse cx=\"203\" cy=\"582\" fill=\"#008000\" rx=\"11\" ry=\"11\" style=\"stroke: #A80036; stroke-width: 1.0;\"/><path d=\"M199.875,587 L199.875,576.4063 L203.1094,576.4063 Q205.0156,576.4063 205.9219,577.1563 Q206.8438,577.9063 206.8438,579.0781 Q206.8438,579.7656 206.4531,580.4219 Q206.0781,581.0781 205.3594,581.375 Q206.2188,581.75 206.7344,582.4375 Q207.25,583.125 207.25,583.9375 Q207.25,585.3125 206.2188,586.1563 Q205.2031,587 203.0938,587 L199.875,587 Z M201.7969,580.6406 L202.9531,580.6406 Q204.0781,580.6406 204.4844,580.2656 Q204.9063,579.875 204.9063,579.25 Q204.9063,578.6719 204.4844,578.3125 Q204.0625,577.9531 203.125,577.9531 L201.7969,577.9531 L201.7969,580.6406 Z M201.7969,585.4219 L203.2969,585.4219 Q204.2031,585.4219 204.7344,585.0313 Q205.2656,584.6406 205.2656,583.8906 Q205.2656,583.125 204.7656,582.6563 Q204.2656,582.1719 203,582.1719 L201.7969,582.1719 L201.7969,585.4219 Z \"/><text fill=\"#000000\" font-family=\"sans-serif\" font-size=\"12\" font-style=\"italic\" lengthAdjust=\"spacingAndGlyphs\" textLength=\"8\" x=\"217\" y=\"586.1543\">B</text><line style=\"stroke: #A80036; stroke-width: 1.5;\" x1=\"189\" x2=\"227\" y1=\"598\" y2=\"598\"/></a><!--MD5=[2156ba9850f5573cc1fc38a6a4b2f02b]\n",
       "class E7--><a href=\"psysml:4ea01713-b83a-4578-95eb-e0c0377cf261\" target=\"_top\" title=\"psysml:4ea01713-b83a-4578-95eb-e0c0377cf261\" xlink:actuate=\"onRequest\" xlink:href=\"psysml:4ea01713-b83a-4578-95eb-e0c0377cf261\" xlink:show=\"new\" xlink:title=\"psysml:4ea01713-b83a-4578-95eb-e0c0377cf261\" xlink:type=\"simple\"><rect fill=\"#FEFECE\" filter=\"url(#fmvu694hy4oyo)\" height=\"45.9375\" id=\"E7\" rx=\"10\" ry=\"10\" style=\"stroke: #A80036; stroke-width: 1.5;\" width=\"68\" x=\"57\" y=\"670.5\"/><ellipse cx=\"72\" cy=\"689.4688\" fill=\"#32CD32\" rx=\"11\" ry=\"11\" style=\"stroke: #A80036; stroke-width: 1.0;\"/><path d=\"M68.8125,694.4688 L68.8125,683.875 L72.4219,683.875 Q73.6406,683.875 74.4375,684.3125 Q75.2344,684.7344 75.6094,685.4375 Q76,686.1406 76,686.9844 Q76,687.8281 75.625,688.5156 Q75.2656,689.2031 74.4688,689.625 Q73.6875,690.0313 72.5,690.0313 L70.7656,690.0313 L70.7656,694.4688 L68.8125,694.4688 Z M70.7656,688.4375 L72.375,688.4375 Q73.1875,688.4375 73.6094,688.0313 Q74.0313,687.625 74.0313,686.9844 Q74.0313,686.3594 73.6094,685.9531 Q73.1875,685.5469 72.3906,685.5469 L70.7656,685.5469 L70.7656,688.4375 Z \"/><text fill=\"#000000\" font-family=\"sans-serif\" font-size=\"12\" font-style=\"italic\" lengthAdjust=\"spacingAndGlyphs\" textLength=\"40\" x=\"84\" y=\"686.6387\">«part»</text><text fill=\"#000000\" font-family=\"sans-serif\" font-size=\"12\" font-style=\"italic\" lengthAdjust=\"spacingAndGlyphs\" textLength=\"8\" x=\"90\" y=\"700.6074\">a</text><text fill=\"#000000\" font-family=\"sans-serif\" font-size=\"12\" lengthAdjust=\"spacingAndGlyphs\" textLength=\"16\" x=\"98\" y=\"700.6074\">: A</text><line style=\"stroke: #A80036; stroke-width: 1.5;\" x1=\"58\" x2=\"124\" y1=\"708.4375\" y2=\"708.4375\"/></a><!--MD5=[b9389687b975829384b498ac4b7476b2]\n",
       "class E8--><a href=\"psysml:c9f90055-486d-4326-9691-bfe47f710c68\" target=\"_top\" title=\"psysml:c9f90055-486d-4326-9691-bfe47f710c68\" xlink:actuate=\"onRequest\" xlink:href=\"psysml:c9f90055-486d-4326-9691-bfe47f710c68\" xlink:show=\"new\" xlink:title=\"psysml:c9f90055-486d-4326-9691-bfe47f710c68\" xlink:type=\"simple\"><rect fill=\"#FEFECE\" filter=\"url(#fmvu694hy4oyo)\" height=\"45.9375\" id=\"E8\" rx=\"10\" ry=\"10\" style=\"stroke: #A80036; stroke-width: 1.5;\" width=\"68\" x=\"238\" y=\"670.5\"/><ellipse cx=\"253\" cy=\"689.4688\" fill=\"#0000FF\" rx=\"11\" ry=\"11\" style=\"stroke: #A80036; stroke-width: 1.0;\"/><path d=\"M249.8125,694.4688 L249.8125,683.875 L253.4219,683.875 Q254.6406,683.875 255.4375,684.3125 Q256.2344,684.7344 256.6094,685.4375 Q257,686.1406 257,686.9844 Q257,687.8281 256.625,688.5156 Q256.2656,689.2031 255.4688,689.625 Q254.6875,690.0313 253.5,690.0313 L251.7656,690.0313 L251.7656,694.4688 L249.8125,694.4688 Z M251.7656,688.4375 L253.375,688.4375 Q254.1875,688.4375 254.6094,688.0313 Q255.0313,687.625 255.0313,686.9844 Q255.0313,686.3594 254.6094,685.9531 Q254.1875,685.5469 253.3906,685.5469 L251.7656,685.5469 L251.7656,688.4375 Z \"/><text fill=\"#000000\" font-family=\"sans-serif\" font-size=\"12\" font-style=\"italic\" lengthAdjust=\"spacingAndGlyphs\" textLength=\"40\" x=\"265\" y=\"686.6387\">«port»</text><text fill=\"#000000\" font-family=\"sans-serif\" font-size=\"12\" lengthAdjust=\"spacingAndGlyphs\" textLength=\"32\" x=\"267\" y=\"700.6074\">x: ~C</text><line style=\"stroke: #A80036; stroke-width: 1.5;\" x1=\"239\" x2=\"305\" y1=\"708.4375\" y2=\"708.4375\"/></a><!--MD5=[96f4274e9e20536e775497830990834d]\n",
       "class E10--><a href=\"psysml:e209a1f3-de72-4850-a45f-7036acf7c094\" target=\"_top\" title=\"psysml:e209a1f3-de72-4850-a45f-7036acf7c094\" xlink:actuate=\"onRequest\" xlink:href=\"psysml:e209a1f3-de72-4850-a45f-7036acf7c094\" xlink:show=\"new\" xlink:title=\"psysml:e209a1f3-de72-4850-a45f-7036acf7c094\" xlink:type=\"simple\"><rect fill=\"#FEFECE\" filter=\"url(#fmvu694hy4oyo)\" height=\"45.9375\" id=\"E10\" style=\"stroke: #A80036; stroke-width: 1.5;\" width=\"96\" x=\"160\" y=\"443\"/><ellipse cx=\"175\" cy=\"461.9688\" fill=\"#A52A2A\" rx=\"11\" ry=\"11\" style=\"stroke: #A80036; stroke-width: 1.0;\"/><path d=\"M172.2188,466.9688 L172.2188,456.375 L174.9531,456.375 Q176.3438,456.375 177.1094,456.7656 Q177.8906,457.1406 178.4219,457.8438 Q178.9531,458.5469 179.25,459.5469 Q179.5469,460.5313 179.5469,461.75 Q179.5,463.3438 179,464.5313 Q178.5156,465.7031 177.4688,466.3438 Q176.4375,466.9688 174.75,466.9688 L172.2188,466.9688 Z M174.0781,465.4688 L174.7031,465.4688 Q175.7813,465.4688 176.4375,465.0156 Q177.0938,464.5625 177.375,463.7344 Q177.6719,462.8906 177.6563,461.7656 Q177.6563,460.5938 177.4063,459.7344 Q177.1563,458.8594 176.5469,458.3906 Q175.9375,457.9063 174.8906,457.9063 L174.0781,457.9063 L174.0781,465.4688 Z \"/><text fill=\"#000000\" font-family=\"sans-serif\" font-size=\"12\" font-style=\"italic\" lengthAdjust=\"spacingAndGlyphs\" textLength=\"68\" x=\"187\" y=\"459.1387\">«port  def»</text><text fill=\"#000000\" font-family=\"sans-serif\" font-size=\"12\" lengthAdjust=\"spacingAndGlyphs\" textLength=\"8\" x=\"217\" y=\"473.1074\">C</text><line style=\"stroke: #A80036; stroke-width: 1.5;\" x1=\"161\" x2=\"255\" y1=\"480.9375\" y2=\"480.9375\"/></a><a href=\"psysml:78dea323-2f70-496c-aa91-db5f05f12a10\" target=\"_top\" title=\"psysml:78dea323-2f70-496c-aa91-db5f05f12a10\" xlink:actuate=\"onRequest\" xlink:href=\"psysml:78dea323-2f70-496c-aa91-db5f05f12a10\" xlink:show=\"new\" xlink:title=\"psysml:78dea323-2f70-496c-aa91-db5f05f12a10\" xlink:type=\"simple\"><polygon fill=\"#FFFFFF\" filter=\"url(#fmvu694hy4oyo)\" points=\"173.5,667,188.5,667,195.5,689.2969,202.5,689.2969,202.5,719.5938,173.5,719.5938,173.5,667\" style=\"stroke: #000000; stroke-width: 1.5;\"/><line style=\"stroke: #000000; stroke-width: 1.5;\" x1=\"173.5\" x2=\"195.5\" y1=\"689.2969\" y2=\"689.2969\"/><text fill=\"#000000\" font-family=\"sans-serif\" font-size=\"14\" font-weight=\"bold\" lengthAdjust=\"spacingAndGlyphs\" textLength=\"9\" x=\"177.5\" y=\"681.9951\">P</text></a><!--MD5=[2720a5a1f2c3fca2055b230370638851]\n",
       "link E2 to E3--><a href=\"psysml:de99b855-827b-4779-9c99-7b4326eef43f\" target=\"_top\" title=\"psysml:de99b855-827b-4779-9c99-7b4326eef43f\" xlink:actuate=\"onRequest\" xlink:href=\"psysml:de99b855-827b-4779-9c99-7b4326eef43f\" xlink:show=\"new\" xlink:title=\"psysml:de99b855-827b-4779-9c99-7b4326eef43f\" xlink:type=\"simple\"><path d=\"M222,87.27 C222,98.76 222,113.37 222,127.88 \" fill=\"none\" id=\"E2-&gt;E3\" style=\"stroke: #A80036; stroke-width: 1.0;\"/><polygon fill=\"#FFFFFF\" points=\"222,147.98,215,128.98,229,128.98,222,147.98\" style=\"stroke: #A80036; stroke-width: 1.0;\"/><ellipse cx=\"217\" cy=\"123.28\" fill=\"#A80036\" rx=\"2\" ry=\"2\" style=\"stroke: #A80036; stroke-width: 1.0;\"/><ellipse cx=\"227\" cy=\"123.28\" fill=\"#A80036\" rx=\"2\" ry=\"2\" style=\"stroke: #A80036; stroke-width: 1.0;\"/></a><!--MD5=[4672eba38e49728da53d11aeb285b987]\n",
       "reverse link E3 to E4--><a href=\"psysml:7d143534-3389-4013-881e-42b16664757f\" target=\"_top\" title=\"psysml:7d143534-3389-4013-881e-42b16664757f\" xlink:actuate=\"onRequest\" xlink:href=\"psysml:7d143534-3389-4013-881e-42b16664757f\" xlink:show=\"new\" xlink:title=\"psysml:7d143534-3389-4013-881e-42b16664757f\" xlink:type=\"simple\"><path d=\"M266.29,202.49 C307.1,216.62 365.27,244.02 392,291 C405.81,315.27 390.91,346.35 377.16,366.93 \" fill=\"none\" id=\"E3&lt;-E4\" style=\"stroke: #A80036; stroke-width: 1.0;\"/><polygon fill=\"#A80036\" points=\"253.71,198.36,258.1628,204.0321,265.1112,202.1033,260.6584,196.4312,253.71,198.36\" style=\"stroke: #A80036; stroke-width: 1.0;\"/><text fill=\"#000000\" font-family=\"sans-serif\" font-size=\"13\" lengthAdjust=\"spacingAndGlyphs\" textLength=\"8\" x=\"373.9009\" y=\"357.0326\">1</text></a><!--MD5=[191cde3d490a3f6d7bb551fe3ddca469]\n",
       "reverse link E3 to E5--><a href=\"psysml:01061be5-5fdc-439c-afe5-881fb8746c83\" target=\"_top\" title=\"psysml:01061be5-5fdc-439c-afe5-881fb8746c83\" xlink:actuate=\"onRequest\" xlink:href=\"psysml:01061be5-5fdc-439c-afe5-881fb8746c83\" xlink:show=\"new\" xlink:title=\"psysml:01061be5-5fdc-439c-afe5-881fb8746c83\" xlink:type=\"simple\"><path d=\"M262.88,232.61 C281.68,252.21 303.21,274.65 318.73,290.83 \" fill=\"none\" id=\"E3&lt;-E5\" style=\"stroke: #A80036; stroke-width: 1.0;\"/><polygon fill=\"#FFFFFF\" points=\"253.62,222.96,254.891,230.0582,261.932,231.6151,260.661,224.5169,253.62,222.96\" style=\"stroke: #A80036; stroke-width: 1.0;\"/><text fill=\"#000000\" font-family=\"sans-serif\" font-size=\"13\" lengthAdjust=\"spacingAndGlyphs\" textLength=\"8\" x=\"304.2546\" y=\"280.0627\">1</text></a><!--MD5=[79568f1e445c3877b6a54524624ccc7d]\n",
       "link E4 to E6--><a href=\"psysml:8d11eaae-af32-434c-8c3d-32f92418f4c8\" target=\"_top\" title=\"psysml:8d11eaae-af32-434c-8c3d-32f92418f4c8\" xlink:actuate=\"onRequest\" xlink:href=\"psysml:8d11eaae-af32-434c-8c3d-32f92418f4c8\" xlink:show=\"new\" xlink:title=\"psysml:8d11eaae-af32-434c-8c3d-32f92418f4c8\" xlink:type=\"simple\"><path d=\"M342.56,413.25 C316.34,446.72 266.53,510.3 235.41,550.01 \" fill=\"none\" id=\"E4-&gt;E6\" style=\"stroke: #A80036; stroke-width: 1.0;\"/><polygon fill=\"#FFFFFF\" points=\"222.97,565.9,229.1843,546.6287,240.2018,555.2667,222.97,565.9\" style=\"stroke: #A80036; stroke-width: 1.0;\"/><ellipse cx=\"234.2751\" cy=\"543.377\" fill=\"#A80036\" rx=\"2\" ry=\"2\" style=\"stroke: #A80036; stroke-width: 1.0;\"/><ellipse cx=\"242.1447\" cy=\"549.547\" fill=\"#A80036\" rx=\"2\" ry=\"2\" style=\"stroke: #A80036; stroke-width: 1.0;\"/></a><!--MD5=[3f50a3473f1dfb74d3f76443e03635af]\n",
       "reverse link E6 to E7--><a href=\"psysml:7466bf8a-1e84-4b05-9901-ce46ee446fa5\" target=\"_top\" title=\"psysml:7466bf8a-1e84-4b05-9901-ce46ee446fa5\" xlink:actuate=\"onRequest\" xlink:href=\"psysml:7466bf8a-1e84-4b05-9901-ce46ee446fa5\" xlink:show=\"new\" xlink:title=\"psysml:7466bf8a-1e84-4b05-9901-ce46ee446fa5\" xlink:type=\"simple\"><path d=\"M178.07,613.98 C158.75,631.41 133.92,653.8 115.72,670.21 \" fill=\"none\" id=\"E6&lt;-E7\" style=\"stroke: #A80036; stroke-width: 1.0;\"/><polygon fill=\"#A80036\" points=\"187.89,605.14,180.7549,606.1841,178.9744,613.1719,186.1095,612.1278,187.89,605.14\" style=\"stroke: #A80036; stroke-width: 1.0;\"/><text fill=\"#000000\" font-family=\"sans-serif\" font-size=\"13\" lengthAdjust=\"spacingAndGlyphs\" textLength=\"8\" x=\"113.0295\" y=\"659.412\">1</text></a><!--MD5=[14ccda38c055a5c0da953d572bc50960]\n",
       "link E7 to E3--><a href=\"psysml:3c280f0c-0d5e-48e6-b009-cbd7db9e9beb\" target=\"_top\" title=\"psysml:3c280f0c-0d5e-48e6-b009-cbd7db9e9beb\" xlink:actuate=\"onRequest\" xlink:href=\"psysml:3c280f0c-0d5e-48e6-b009-cbd7db9e9beb\" xlink:show=\"new\" xlink:title=\"psysml:3c280f0c-0d5e-48e6-b009-cbd7db9e9beb\" xlink:type=\"simple\"><path d=\"M70.06,670.14 C53.45,650.01 33,618.77 33,587 C33,313 33,313 33,313 C33,247.07 114.79,214.66 170.76,200.19 \" fill=\"none\" id=\"E7-&gt;E3\" style=\"stroke: #A80036; stroke-width: 1.0;\"/><polygon fill=\"#FFFFFF\" points=\"190.37,195.57,173.4806,206.7391,170.2713,193.1119,190.37,195.57\" style=\"stroke: #A80036; stroke-width: 1.0;\"/><ellipse cx=\"167.4739\" cy=\"206.099\" fill=\"#A80036\" rx=\"2\" ry=\"2\" style=\"stroke: #A80036; stroke-width: 1.0;\"/><ellipse cx=\"165.1816\" cy=\"196.3653\" fill=\"#A80036\" rx=\"2\" ry=\"2\" style=\"stroke: #A80036; stroke-width: 1.0;\"/></a><!--MD5=[f4cf0736d43fd73c4ef68817c49d37d5]\n",
       "reverse link E6 to E8--><a href=\"psysml:dcb35f57-14cb-4e2c-8543-9245438ead5d\" target=\"_top\" title=\"psysml:dcb35f57-14cb-4e2c-8543-9245438ead5d\" xlink:actuate=\"onRequest\" xlink:href=\"psysml:dcb35f57-14cb-4e2c-8543-9245438ead5d\" xlink:show=\"new\" xlink:title=\"psysml:dcb35f57-14cb-4e2c-8543-9245438ead5d\" xlink:type=\"simple\"><path d=\"M226.71,617.84 C236.92,634.67 249.32,655.11 258.56,670.35 \" fill=\"none\" id=\"E6&lt;-E8\" style=\"stroke: #A80036; stroke-width: 1.0;\"/><polygon fill=\"#FFFFFF\" points=\"219.74,606.35,219.4323,613.5545,225.9643,616.6095,226.272,609.405,219.74,606.35\" style=\"stroke: #A80036; stroke-width: 1.0;\"/><text fill=\"#000000\" font-family=\"sans-serif\" font-size=\"13\" lengthAdjust=\"spacingAndGlyphs\" textLength=\"8\" x=\"246.091\" y=\"659.5879\">1</text></a><!--MD5=[e88d06e5a652d73a6b19930eefe025a8]\n",
       "reverse link E6 to E9--><a href=\"psysml:08766104-19a0-4aca-bf35-b4c81b8c6dcb\" target=\"_top\" title=\"psysml:08766104-19a0-4aca-bf35-b4c81b8c6dcb\" xlink:actuate=\"onRequest\" xlink:href=\"psysml:08766104-19a0-4aca-bf35-b4c81b8c6dcb\" xlink:show=\"new\" xlink:title=\"psysml:08766104-19a0-4aca-bf35-b4c81b8c6dcb\" xlink:type=\"simple\"><path d=\"M201.5,621.31 C198.68,636.15 195.45,653.21 192.85,666.91 \" fill=\"none\" id=\"E6&lt;-E9\" style=\"stroke: #A80036; stroke-width: 1.0;\"/><ellipse cx=\"202.8373\" cy=\"614.2095\" fill=\"#FFFFFF\" rx=\"8\" ry=\"8\" style=\"stroke: #A80036; stroke-width: 1.0;\"/><line style=\"stroke: #A80036; stroke-width: 1.0;\" x1=\"201.3446\" x2=\"204.33\" y1=\"622.069\" y2=\"606.35\"/><line style=\"stroke: #A80036; stroke-width: 1.0;\" x1=\"194.9778\" x2=\"210.6968\" y1=\"612.7168\" y2=\"615.7022\"/></a><!--MD5=[f78a29d5932556fa1060671a2a6507d8]\n",
       "link E5 to E10--><a href=\"psysml:568ef262-b92a-4cba-8a4b-19f4a197db7e\" target=\"_top\" title=\"psysml:568ef262-b92a-4cba-8a4b-19f4a197db7e\" xlink:actuate=\"onRequest\" xlink:href=\"psysml:568ef262-b92a-4cba-8a4b-19f4a197db7e\" xlink:show=\"new\" xlink:title=\"psysml:568ef262-b92a-4cba-8a4b-19f4a197db7e\" xlink:type=\"simple\"><path d=\"M326.74,337.28 C313.85,358 293.06,389.19 271,413 C265.65,418.78 259.66,424.49 253.55,429.91 \" fill=\"none\" id=\"E5-&gt;E10\" style=\"stroke: #A80036; stroke-width: 1.0;\"/><polygon fill=\"#FFFFFF\" points=\"237.97,442.96,248.0287,425.3867,257.0257,436.113,237.97,442.96\" style=\"stroke: #A80036; stroke-width: 1.0;\"/><ellipse cx=\"253.6812\" cy=\"423.256\" fill=\"#A80036\" rx=\"2\" ry=\"2\" style=\"stroke: #A80036; stroke-width: 1.0;\"/><ellipse cx=\"260.1076\" cy=\"430.9177\" fill=\"#A80036\" rx=\"2\" ry=\"2\" style=\"stroke: #A80036; stroke-width: 1.0;\"/></a><!--MD5=[8e04057e7b3cbc0dca4fc78ea351e2da]\n",
       "reverse link E10 to E3--><a href=\"psysml:f2bac2b1-68d1-4631-bf1f-fa6cff2f703f\" target=\"_top\" title=\"psysml:f2bac2b1-68d1-4631-bf1f-fa6cff2f703f\" xlink:actuate=\"onRequest\" xlink:href=\"psysml:f2bac2b1-68d1-4631-bf1f-fa6cff2f703f\" xlink:show=\"new\" xlink:title=\"psysml:f2bac2b1-68d1-4631-bf1f-fa6cff2f703f\" xlink:type=\"simple\"><path d=\"M177.32,432.78 C148.25,398.15 111.68,341.3 131,291 C142.85,260.15 168.95,232.84 190.18,214.42 \" fill=\"none\" id=\"E10&lt;-E3\" style=\"stroke: #A80036; stroke-width: 1.0;\"/><polygon fill=\"#FFFFFF\" points=\"186.03,442.78,185.1026,435.6288,178.1448,433.7344,179.0722,440.8856,186.03,442.78\" style=\"stroke: #A80036; stroke-width: 1.0;\"/><text fill=\"#000000\" font-family=\"sans-serif\" font-size=\"13\" lengthAdjust=\"spacingAndGlyphs\" textLength=\"7\" x=\"132\" y=\"318.5669\">y</text></a><!--MD5=[8e04057e7b3cbc0dca4fc78ea351e2da]\n",
       "reverse link E10 to E3--><a href=\"psysml:f2bac2b1-68d1-4631-bf1f-fa6cff2f703f\" target=\"_top\" title=\"psysml:f2bac2b1-68d1-4631-bf1f-fa6cff2f703f\" xlink:actuate=\"onRequest\" xlink:href=\"psysml:f2bac2b1-68d1-4631-bf1f-fa6cff2f703f\" xlink:show=\"new\" xlink:title=\"psysml:f2bac2b1-68d1-4631-bf1f-fa6cff2f703f\" xlink:type=\"simple\"><path d=\"M207.3,429.69 C206.87,394.5 206.88,338.96 210,291 C211.31,270.91 213.83,248.69 216.22,230.21 \" fill=\"none\" id=\"E10&lt;-E3-1\" style=\"stroke: #A80036; stroke-width: 1.0;\"/><polygon fill=\"#FFFFFF\" points=\"207.5,443,211.4072,436.9392,207.3154,431.0014,203.4082,437.0622,207.5,443\" style=\"stroke: #A80036; stroke-width: 1.0;\"/><text fill=\"#000000\" font-family=\"sans-serif\" font-size=\"13\" lengthAdjust=\"spacingAndGlyphs\" textLength=\"7\" x=\"211\" y=\"318.5669\">y</text></a><!--MD5=[8e04057e7b3cbc0dca4fc78ea351e2da]\n",
       "reverse link E10 to E3--><a href=\"psysml:f2bac2b1-68d1-4631-bf1f-fa6cff2f703f\" target=\"_top\" title=\"psysml:f2bac2b1-68d1-4631-bf1f-fa6cff2f703f\" xlink:actuate=\"onRequest\" xlink:href=\"psysml:f2bac2b1-68d1-4631-bf1f-fa6cff2f703f\" xlink:show=\"new\" xlink:title=\"psysml:f2bac2b1-68d1-4631-bf1f-fa6cff2f703f\" xlink:type=\"simple\"><path d=\"M213.75,429.53 C214.56,424.01 215.34,418.35 216,413 C220.14,379.33 221.44,370.88 223,337 C223.94,316.58 223.1,311.44 223,291 C222.9,271.01 222.69,248.79 222.49,230.3 \" fill=\"none\" id=\"E10&lt;-E3-2\" style=\"stroke: #A80036; stroke-width: 1.0;\"/><polygon fill=\"#FFFFFF\" points=\"211.72,442.77,216.5832,437.4456,213.5387,430.9086,208.6756,436.2331,211.72,442.77\" style=\"stroke: #A80036; stroke-width: 1.0;\"/><text fill=\"#000000\" font-family=\"sans-serif\" font-size=\"13\" lengthAdjust=\"spacingAndGlyphs\" textLength=\"7\" x=\"224\" y=\"318.5669\">y</text></a><!--MD5=[604cbf994c02b74b117f728a71673cea]\n",
       "reverse link E10 to E6--><a href=\"psysml:f2bac2b1-68d1-4631-bf1f-fa6cff2f703f\" target=\"_top\" title=\"psysml:f2bac2b1-68d1-4631-bf1f-fa6cff2f703f\" xlink:actuate=\"onRequest\" xlink:href=\"psysml:f2bac2b1-68d1-4631-bf1f-fa6cff2f703f\" xlink:show=\"new\" xlink:title=\"psysml:f2bac2b1-68d1-4631-bf1f-fa6cff2f703f\" xlink:type=\"simple\"><path d=\"M216.43,501.99 C218.14,512.86 219.12,524.91 218,536 C217.01,545.85 214.91,556.64 212.9,565.59 \" fill=\"none\" id=\"E10&lt;-E6\" style=\"stroke: #A80036; stroke-width: 1.0;\"/><polygon fill=\"#FFFFFF\" points=\"213.96,489,211.1427,495.638,216.1866,500.7916,219.0038,494.1536,213.96,489\" style=\"stroke: #A80036; stroke-width: 1.0;\"/><text fill=\"#000000\" font-family=\"sans-serif\" font-size=\"13\" lengthAdjust=\"spacingAndGlyphs\" textLength=\"7\" x=\"219\" y=\"532.0669\">y</text></a><!--MD5=[604cbf994c02b74b117f728a71673cea]\n",
       "reverse link E10 to E6--><a href=\"psysml:f2bac2b1-68d1-4631-bf1f-fa6cff2f703f\" target=\"_top\" title=\"psysml:f2bac2b1-68d1-4631-bf1f-fa6cff2f703f\" xlink:actuate=\"onRequest\" xlink:href=\"psysml:f2bac2b1-68d1-4631-bf1f-fa6cff2f703f\" xlink:show=\"new\" xlink:title=\"psysml:f2bac2b1-68d1-4631-bf1f-fa6cff2f703f\" xlink:type=\"simple\"><path d=\"M172.04,498.87 C167.13,505.03 162.81,511.82 160,519 C152,539.45 171.29,559.33 187.75,571.84 \" fill=\"none\" id=\"E10&lt;-E6-1\" style=\"stroke: #A80036; stroke-width: 1.0;\"/><polygon fill=\"#FFFFFF\" points=\"180.73,489.16,173.7505,490.973,172.7396,498.1129,179.7191,496.2999,180.73,489.16\" style=\"stroke: #A80036; stroke-width: 1.0;\"/><text fill=\"#000000\" font-family=\"sans-serif\" font-size=\"13\" lengthAdjust=\"spacingAndGlyphs\" textLength=\"7\" x=\"161\" y=\"532.0669\">y</text></a><!--MD5=[604cbf994c02b74b117f728a71673cea]\n",
       "reverse link E10 to E6--><a href=\"psysml:f2bac2b1-68d1-4631-bf1f-fa6cff2f703f\" target=\"_top\" title=\"psysml:f2bac2b1-68d1-4631-bf1f-fa6cff2f703f\" xlink:actuate=\"onRequest\" xlink:href=\"psysml:f2bac2b1-68d1-4631-bf1f-fa6cff2f703f\" xlink:show=\"new\" xlink:title=\"psysml:f2bac2b1-68d1-4631-bf1f-fa6cff2f703f\" xlink:type=\"simple\"><path d=\"M208,502.33 C208,523.08 208,548.51 208,565.64 \" fill=\"none\" id=\"E10&lt;-E6-2\" style=\"stroke: #A80036; stroke-width: 1.0;\"/><polygon fill=\"#FFFFFF\" points=\"208,489.19,204,495.19,208,501.19,212,495.19,208,489.19\" style=\"stroke: #A80036; stroke-width: 1.0;\"/><text fill=\"#000000\" font-family=\"sans-serif\" font-size=\"13\" lengthAdjust=\"spacingAndGlyphs\" textLength=\"7\" x=\"209\" y=\"532.0669\">y</text></a><!--MD5=[2307cbafd2c93e617de76f63c54ce841]\n",
       "@startuml\r\n",
       " \r\n",
       "package \"PartTest\" as E1  [[psysml:c38775ed-c195-45a3-878f-69446059ff99 ]]  {\r\n",
       "comp usage \"f: A \" as E2 << << (P,limegreen) part>> [[psysml:133b9857-5562-4f09-a022-80109f8d4a7d ]] {\r\n",
       "}\r\n",
       "comp def \"A\" as E3 << << (B,green) >> [[psysml:41a43e73-47d4-427d-aa17-f57a90b2778c ]] {\r\n",
       "- - attributes - -\r\n",
       "x\r\n",
       "y:> A::x\r\n",
       "}\r\n",
       "comp usage \"b: B \" as E4 << << (P,limegreen) part>> [[psysml:23a90af0-4107-4bf0-84ea-ac7115753c4e ]] {\r\n",
       "}\r\n",
       "comp usage \"c: C \" as E5 << << (P,blue) port>> [[psysml:3bde4e3d-0323-4342-8ecc-6f2c3dab5224 ]] {\r\n",
       "}\r\n",
       "comp def \"<i>B</i>\" as E6 << << (B,green) >> [[psysml:c17c630d-59e9-4f7e-a520-276041a9c800 ]] {\r\n",
       "}\r\n",
       "comp usage \"<i>a</i>: A \" as E7 << << (P,limegreen) part>> [[psysml:4ea01713-b83a-4578-95eb-e0c0377cf261 ]] {\r\n",
       "}\r\n",
       "comp usage \"x: ~C \" as E8 << << (P,blue) port>> [[psysml:c9f90055-486d-4326-9691-bfe47f710c68 ]] {\r\n",
       "}\r\n",
       "package \"P\" as E9  [[psysml:78dea323-2f70-496c-aa91-db5f05f12a10 ]]  {\r\n",
       "}\r\n",
       "comp def \"C\" as E10 << <<(D,brown) port  def>> [[psysml:e209a1f3-de72-4850-a45f-7036acf7c094 ]] {\r\n",
       "}\r\n",
       "}\r\n",
       "E2 - -:|> E3 [[psysml:de99b855-827b-4779-9c99-7b4326eef43f ]] \r\n",
       "E3 *- - \"1\"E4 [[psysml:7d143534-3389-4013-881e-42b16664757f ]] \r\n",
       "E3 o- - \"1\"E5 [[psysml:01061be5-5fdc-439c-afe5-881fb8746c83 ]] \r\n",
       "E4 - -:|> E6 [[psysml:8d11eaae-af32-434c-8c3d-32f92418f4c8 ]] \r\n",
       "E6 *- - \"1\"E7 [[psysml:7466bf8a-1e84-4b05-9901-ce46ee446fa5 ]] \r\n",
       "E7 - -:|> E3 [[psysml:3c280f0c-0d5e-48e6-b009-cbd7db9e9beb ]] \r\n",
       "E6 o- - \"1\"E8 [[psysml:dcb35f57-14cb-4e2c-8543-9245438ead5d ]] \r\n",
       "E6 +- - E9 [[psysml:08766104-19a0-4aca-bf35-b4c81b8c6dcb ]] \r\n",
       "E5 - -:|> E10 [[psysml:568ef262-b92a-4cba-8a4b-19f4a197db7e ]] \r\n",
       "E10 o- - E3 [[psysml:f2bac2b1-68d1-4631-bf1f-fa6cff2f703f ]] : y\r\n",
       "E10 o- - E6 [[psysml:f2bac2b1-68d1-4631-bf1f-fa6cff2f703f ]] : y\r\n",
       "E10 o- - E3 [[psysml:f2bac2b1-68d1-4631-bf1f-fa6cff2f703f ]] : y\r\n",
       "E10 o- - E6 [[psysml:f2bac2b1-68d1-4631-bf1f-fa6cff2f703f ]] : y\r\n",
       "E10 o- - E3 [[psysml:f2bac2b1-68d1-4631-bf1f-fa6cff2f703f ]] : y\r\n",
       "E10 o- - E6 [[psysml:f2bac2b1-68d1-4631-bf1f-fa6cff2f703f ]] : y\r\n",
       "@enduml\r\n",
       "\n",
       "PlantUML version 1.2020.13(Sat Jun 13 12:26:38 UTC 2020)\n",
       "(EPL source distribution)\n",
       "Java Runtime: OpenJDK Runtime Environment\n",
       "JVM: OpenJDK 64-Bit Server VM\n",
       "Default Encoding: UTF-8\n",
       "Language: en\n",
       "Country: null\n",
       "--></g></svg>"
      ]
     },
     "execution_count": 31,
     "metadata": {},
     "output_type": "execute_result"
    }
   ],
   "source": [
    "%viz --style=\"PLANTUML\" --view=\"Tree\" \"PartTest\""
   ]
  },
  {
   "cell_type": "code",
   "execution_count": 32,
   "id": "062f7f06",
   "metadata": {
    "execution": {
     "iopub.execute_input": "2022-02-05T16:55:44.760607Z",
     "iopub.status.busy": "2022-02-05T16:55:44.760182Z",
     "iopub.status.idle": "2022-02-05T16:55:44.890738Z",
     "shell.execute_reply": "2022-02-05T16:55:44.889211Z"
    }
   },
   "outputs": [
    {
     "data": {
      "image/svg+xml": [
       "<?xml version=\"1.0\" encoding=\"UTF-8\" standalone=\"no\"?><svg xmlns=\"http://www.w3.org/2000/svg\" xmlns:xlink=\"http://www.w3.org/1999/xlink\" contentScriptType=\"application/ecmascript\" contentStyleType=\"text/css\" height=\"407px\" preserveAspectRatio=\"none\" style=\"width:603px;height:407px;background:#000000;\" version=\"1.1\" viewBox=\"0 0 603 407\" width=\"603px\" zoomAndPan=\"magnify\"><defs/><g><rect fill=\"#231515\" height=\"1\" style=\"stroke: #231515; stroke-width: 1.0;\" width=\"1\" x=\"0\" y=\"0\"/><rect fill=\"#FFFFFF\" height=\"53\" style=\"stroke: #FFFFFF; stroke-width: 1.0;\" width=\"602\" x=\"0\" y=\"0\"/><image height=\"53\" width=\"450\" x=\"1\" xlink:href=\"data:image/png;base64,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\" y=\"1\"/><rect fill=\"#FFFFFF\" height=\"202.8012\" style=\"stroke: #FFFFFF; stroke-width: 1.0;\" width=\"602\" x=\"0\" y=\"53\"/><text fill=\"#000000\" font-family=\"sans-serif\" font-size=\"12\" font-weight=\"bold\" lengthAdjust=\"spacingAndGlyphs\" textLength=\"139\" x=\"5\" y=\"69.1387\">Welcome to PlantUML!</text><text fill=\"#000000\" font-family=\"sans-serif\" font-size=\"12\" lengthAdjust=\"spacingAndGlyphs\" textLength=\"0\" x=\"9\" y=\"83.1074\"/><text fill=\"#000000\" font-family=\"sans-serif\" font-size=\"12\" lengthAdjust=\"spacingAndGlyphs\" textLength=\"293\" x=\"5\" y=\"97.0762\">If you use this software, you accept its license.</text><text fill=\"#000000\" font-family=\"sans-serif\" font-size=\"12\" lengthAdjust=\"spacingAndGlyphs\" textLength=\"107\" x=\"5\" y=\"111.0449\">(details by typing</text><text fill=\"#000000\" font-family=\"monospace\" font-size=\"12\" lengthAdjust=\"spacingAndGlyphs\" textLength=\"42\" x=\"116\" y=\"111.595\">license</text><text fill=\"#000000\" font-family=\"sans-serif\" font-size=\"12\" lengthAdjust=\"spacingAndGlyphs\" textLength=\"56\" x=\"162\" y=\"111.0449\">keyword)</text><text fill=\"#000000\" font-family=\"sans-serif\" font-size=\"12\" lengthAdjust=\"spacingAndGlyphs\" textLength=\"0\" x=\"9\" y=\"125.0137\"/><text fill=\"#000000\" font-family=\"sans-serif\" font-size=\"12\" lengthAdjust=\"spacingAndGlyphs\" textLength=\"283\" x=\"5\" y=\"138.9824\">You can start with a simple UML Diagram like:</text><text fill=\"#000000\" font-family=\"sans-serif\" font-size=\"12\" lengthAdjust=\"spacingAndGlyphs\" textLength=\"0\" x=\"9\" y=\"152.9512\"/><text fill=\"#000000\" font-family=\"monospace\" font-size=\"12\" lengthAdjust=\"spacingAndGlyphs\" textLength=\"102\" x=\"5\" y=\"166.0893\">Bob-&gt;Alice: Hello</text><text fill=\"#000000\" font-family=\"sans-serif\" font-size=\"12\" lengthAdjust=\"spacingAndGlyphs\" textLength=\"0\" x=\"9\" y=\"179.508\"/><text fill=\"#000000\" font-family=\"sans-serif\" font-size=\"12\" lengthAdjust=\"spacingAndGlyphs\" textLength=\"14\" x=\"5\" y=\"193.4768\">Or</text><text fill=\"#000000\" font-family=\"sans-serif\" font-size=\"12\" lengthAdjust=\"spacingAndGlyphs\" textLength=\"0\" x=\"9\" y=\"207.4455\"/><text fill=\"#000000\" font-family=\"monospace\" font-size=\"12\" lengthAdjust=\"spacingAndGlyphs\" textLength=\"78\" x=\"5\" y=\"220.5837\">class Example</text><text fill=\"#000000\" font-family=\"sans-serif\" font-size=\"12\" lengthAdjust=\"spacingAndGlyphs\" textLength=\"0\" x=\"9\" y=\"234.0023\"/><text fill=\"#000000\" font-family=\"sans-serif\" font-size=\"12\" lengthAdjust=\"spacingAndGlyphs\" textLength=\"349\" x=\"5\" y=\"247.9711\">You will find more information about PlantUML syntax on</text><text fill=\"#000000\" font-family=\"sans-serif\" font-size=\"12\" lengthAdjust=\"spacingAndGlyphs\" text-decoration=\"underline\" textLength=\"129\" x=\"358\" y=\"247.9711\">https://plantuml.com</text><image height=\"71\" width=\"80\" x=\"516\" xlink:href=\"data:image/png;base64,iVBORw0KGgoAAAANSUhEUgAAAFAAAABHCAMAAACnHDC8AAADAFBMVEX///+BpbvD3u/f7vfPz8+nz+g3ksuZEDkWADr/ujlvsdpTodLCwsOLwOEbg8T//v6pqamZETnLysvT09To5+jqLS4VATj9/f27u7vDw8MTfsK+v7/j4+SOweJprdjL4/KxsbEri8jk8PgXa57c29uUETez1utQoNJ1tNtEmc9cptWBut6ayOW/3O6YEDjY6vUfhcXBwcHs7Ozw9/v83t79uTn7+/vX19ehoaHx8fG2tLXHx8fuVlfrNTYaBjn/vUH5+fmko6WXl5f/+fn95ub+9PT+8PD3qKidmaMxIUrnqDWcFj7n5eX09PTu7u2SkpKfnZ6rq6z0lJTm4tzJrHUfDT339/eFGDn6tjcrEzOvrbBuZ3l4eomSMS7Hz9Smpqasu8SFiYuQETfa2du1m6OOM051J0NWTWL5xse4uLj6zc33r6/4vb7ydHXqLi/72dntTE3tR0ijbn5jW3C+u8NANVQrG0XFubqRVGZza4GQGT2VaS7a0NPJtI6IJj/zszrfqkXXzr/Hw8cgC0LUqltOQ2JsSC5bTGjOpFafSi2+iDGtyt14m7TJhTCPJUSwoIG/qa+ikHiIgpCRHjI9j8KXbnaQH0FLf6FGPlp0cnYyKE2rg49Wj7dFXHmcwtrp6uu+xMjvYWLvW1z97e3sPD3sP0DuUlP709PYzdDPmzqZWWySRVygfHHd1smWkZ+PgnibETqsl260q5fLuppJLC/dpj2HPFLTtHv/ujrTwJy5s6iWjIi0iD3joTTCmU3trjuvZS2zlFvjq0HSyLbYp0qRts10XGxEKC9yPVBQZIOPdlNvMk2NeYNqRlujtcCVrr3j5eY1gK9Qn9GLp7lbeJXRxrCkiZDaozyukoJ+H0B3rc+OYy+iprJkYXdhmr6ee0afs79xq9BikrGKjI3FomEiLFO0ay6nfIm4pZXRjTFuhZSZWm0zcZyJN0KNTk4eebNfdIGGlZ93h5kcED5nOVYyRWbziIk9dJ4kerE5ZYxRUnLG1d7p8PTvY2PtTk/1nZ1ycV/bAAAFx0lEQVR4Xu1Ye1BUVRg/e3dhl4csKyxqPlBJQVETF2icAY13GogkEFqizqRRpoBpTCIapaUOhWNjUdOMSBpqJYZTg4KigFKADzSIVZ4qD5VFluXhLgvbPee+r49R7v2z3+zcc77fOfPb7zvfPd85uwCIhwT4wPisANwPAuIKHnbHH1I+KwAXDA18ShDW58CneCEnXl8JGwmfHylCPSvlZ/FWxh8YIRIxTWkZAEofkTz8sNq7tAqE2gODOB6GYZobVaH20SVZ4oQcdmXV0L7c4b8OFvJHRoYwdVIoyPX3gxtFDA+V8e6mM8pBoCjij4wQiWo/ALzV/kpkifBi13p4waZuGrJEECycixcEVSbYgFwUozg4/qSraOxrP7O8Eogj2HDxyMWmzpk6823+yIjhvR7fLOpDsCuGhwC0WfbkjQq8A0MWC0EgIYzPCYMymM8Iwcvz6K4IWw8skTrgq3iPMIQnxdfKrvyedpyvbSsyBQt6zcH6OxXmjqYxg9PbgXBBveK6aRAXNEl1Ssc+hz7Bgntyohb/ggQlNrrdzfIuoYKSb79067PrRoLmGo25SeghJRn1yMrSbPTptZaoBlwtlWbBHspxiW+mW8+46ereVnMXGxbFQ+mjofiHZTrclJn5E14UEgdrO9tRVph0HDJlYlRsLv4XFA7RBA1kK5ogBb7gtn08AvxWymc2b+YzLHC3nnOCNHvdayUsZpnnwnPqGf+yGKcPKlv92vtJC209zGyRWJmgyd16sSGGT/AmM2rdKZKZHxwCz7KUodLzJOO8th4OBqxdo0c2tfUkNr3QlJkZQWWMBP0uwBHvmQQb3zRVCMnsMO6ATazf3f0kkza0HTaPCdIhpyTknqP61Te1eV2gRpr1FUn4xtxRT72pDHhj09/UnBLjiv72p4d8FEtlLibBd7Qg0xK5+XfS9q2AzxSVHPnNIMBS8BQPw8N1W4glQWj0mtp4+nSHhvKYOM4GL6vH1jGTcDQ3p1979AQPI5agXEDYwuS5awknJ73rHU56RyLAr6ACpO5iMRGvp3XykjImgs4Fgm2/7URc8dhbeD9jdhYVNon0mdFcAjTIXbmC75VrmVHcQ+JDIXbuNmYUYlZoYx6XcWjKTWavYXd1WzU9OEh9wLFfEVFza5PEhVhDAvfLx60cWM3ePMa9hyZG5DNr6DbQiCUcYU0AKGzGyYxlkf+wxnCk+wdwCbA/TkWH7Dbgoq8dcmKNssQQ3F/JmMxlIj/fzo/7s9OIwUMebbYzbh2zLfk7ehBGzIau6OeO+xzGKlBRwCGAXNaCFgYbRoKG+hMTfMff4M6h0LYxpmv/92ym9tIxc4uRzawynCEWGhum7odf9/75vh8zg0bKijX5AMxhMacsK8pBxaJihtnQqr1KG8yFMzq/dutJ2iKwNCbXA7Yamsm2Xn0XtgtowY3Xy8rpYc4NNqon8eM49k+NtzU55GtMleGAkNR6oldDMhH+e9EX0JB+UYKv4WgLZrLCjHV7wnyYlzJZvYV6A6d1w6xEph842UUyTkjGIbzwRA/JIOBJKSt88yglqND1h6TpiQqQV99wmJ7nknQcgIIHqd00EwSzgudigGYQUHE4qFMcGJb22kp7lNop8p6znStvg5S2e1TVRti56w/zj8fZzKLiDa317MqBQFbs+J3dcbSgo+H4D0kLOokJ82/NR8KZbp9eIZgllwKR8Ec1ejIX827POk/06HpYffGd5dkoZJXMqDAVXd1Nbhavlx4OyuAiPcyAF3Ick8faXAuE5WToApkMxykL1PbNRJ91SDkXOyymPFR1UMlw9GjRPKCrPsRSvUnbzbkELj2PSSRkQLiH1AvROTutlpryLHQAoCD+C2BBP4npMwd9zsIgzgaDsK+bctmVw3hetai5t9RS4PEqub4QnCvxteGzOZyQXxjscxkhHisWKMi72+T0p1dxGeGYkG0ez+eeG7In/n/oNOexC9fzIiLvPxVtKp84iza+AAAAAElFTkSuQmCC\" y=\"59\"/><rect fill=\"#000000\" height=\"96.4844\" style=\"stroke: #000000; stroke-width: 1.0;\" width=\"602\" x=\"0\" y=\"255.8012\"/><rect fill=\"#33FF02\" height=\"21.2969\" style=\"stroke: #33FF02; stroke-width: 1.0;\" width=\"145\" x=\"5\" y=\"260.8012\"/><text fill=\"#000000\" font-family=\"sans-serif\" font-size=\"14\" font-weight=\"bold\" lengthAdjust=\"spacingAndGlyphs\" textLength=\"143\" x=\"6\" y=\"275.8012\">[From string (line 2) ]</text><text fill=\"#33FF02\" font-family=\"sans-serif\" font-size=\"14\" font-weight=\"bold\" lengthAdjust=\"spacingAndGlyphs\" textLength=\"0\" x=\"9\" y=\"296.0981\"/><text fill=\"#33FF02\" font-family=\"sans-serif\" font-size=\"14\" font-weight=\"bold\" lengthAdjust=\"spacingAndGlyphs\" textLength=\"70\" x=\"5\" y=\"312.3949\">@startuml</text><text fill=\"#33FF02\" font-family=\"sans-serif\" font-size=\"14\" font-weight=\"bold\" lengthAdjust=\"spacingAndGlyphs\" textLength=\"0\" x=\"9\" y=\"328.6918\"/><text fill=\"#FF0000\" font-family=\"sans-serif\" font-size=\"14\" font-weight=\"bold\" lengthAdjust=\"spacingAndGlyphs\" textLength=\"124\" x=\"9\" y=\"344.9887\">Empty description</text><rect fill=\"#FFFFFF\" height=\"53\" style=\"stroke: #FFFFFF; stroke-width: 1.0;\" width=\"602\" x=\"0\" y=\"352.2856\"/><image height=\"53\" width=\"450\" x=\"1\" xlink:href=\"data:image/png;base64,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\" y=\"353.2856\"/><!--MD5=[f59edd8218d337f74d0c332fc6737304]\n",
       "@startuml\r\n",
       " \r\n",
       "@enduml\r\n",
       "\n",
       "PlantUML version 1.2020.13(Sat Jun 13 12:26:38 UTC 2020)\n",
       "(EPL source distribution)\n",
       "Java Runtime: OpenJDK Runtime Environment\n",
       "JVM: OpenJDK 64-Bit Server VM\n",
       "Default Encoding: UTF-8\n",
       "Language: en\n",
       "Country: null\n",
       "--></g></svg>"
      ]
     },
     "execution_count": 32,
     "metadata": {},
     "output_type": "execute_result"
    }
   ],
   "source": [
    "%viz --style=\"PLANTUML\" --view=\"State\" \"PartTest\""
   ]
  },
  {
   "cell_type": "code",
   "execution_count": 33,
   "id": "e48b1731",
   "metadata": {
    "execution": {
     "iopub.execute_input": "2022-02-05T16:55:44.939953Z",
     "iopub.status.busy": "2022-02-05T16:55:44.939533Z",
     "iopub.status.idle": "2022-02-05T16:55:44.962401Z",
     "shell.execute_reply": "2022-02-05T16:55:44.961017Z"
    }
   },
   "outputs": [
    {
     "data": {
      "image/svg+xml": [
       "<?xml version=\"1.0\" encoding=\"UTF-8\" standalone=\"no\"?><svg xmlns=\"http://www.w3.org/2000/svg\" xmlns:xlink=\"http://www.w3.org/1999/xlink\" contentScriptType=\"application/ecmascript\" contentStyleType=\"text/css\" height=\"253px\" preserveAspectRatio=\"none\" style=\"width:660px;height:253px;\" version=\"1.1\" viewBox=\"0 0 660 253\" width=\"660px\" zoomAndPan=\"magnify\"><defs><filter height=\"300%\" id=\"f18ezzmkzzg19y\" width=\"300%\" x=\"-1\" y=\"-1\"><feGaussianBlur result=\"blurOut\" stdDeviation=\"2.0\"/><feColorMatrix in=\"blurOut\" result=\"blurOut2\" type=\"matrix\" values=\"0 0 0 0 0 0 0 0 0 0 0 0 0 0 0 0 0 0 .4 0\"/><feOffset dx=\"4.0\" dy=\"4.0\" in=\"blurOut2\" result=\"blurOut3\"/><feBlend in=\"SourceGraphic\" in2=\"blurOut3\" mode=\"normal\"/></filter></defs><g><!--MD5=[fbc87193dbaf4d95561dea2c320d4a47]\n",
       "cluster E1--><a href=\"psysml:c38775ed-c195-45a3-878f-69446059ff99\" target=\"_top\" title=\"psysml:c38775ed-c195-45a3-878f-69446059ff99\" xlink:actuate=\"onRequest\" xlink:href=\"psysml:c38775ed-c195-45a3-878f-69446059ff99\" xlink:show=\"new\" xlink:title=\"psysml:c38775ed-c195-45a3-878f-69446059ff99\" xlink:type=\"simple\"><polygon fill=\"#FFFFFF\" filter=\"url(#f18ezzmkzzg19y)\" points=\"16,6,80,6,87,28.2969,638,28.2969,638,241,16,241,16,6\" style=\"stroke: #000000; stroke-width: 1.5;\"/><line style=\"stroke: #000000; stroke-width: 1.5;\" x1=\"16\" x2=\"87\" y1=\"28.2969\" y2=\"28.2969\"/><text fill=\"#000000\" font-family=\"sans-serif\" font-size=\"14\" font-weight=\"bold\" lengthAdjust=\"spacingAndGlyphs\" textLength=\"58\" x=\"20\" y=\"20.9951\">PartTest</text></a><!--MD5=[d5e69f78d87373223dbae638b30a9c99]\n",
       "cluster E3--><a href=\"psysml:41a43e73-47d4-427d-aa17-f57a90b2778c\" target=\"_top\" title=\"psysml:41a43e73-47d4-427d-aa17-f57a90b2778c\" xlink:actuate=\"onRequest\" xlink:href=\"psysml:41a43e73-47d4-427d-aa17-f57a90b2778c\" xlink:show=\"new\" xlink:title=\"psysml:41a43e73-47d4-427d-aa17-f57a90b2778c\" xlink:type=\"simple\"><rect fill=\"#FFFFFF\" filter=\"url(#f18ezzmkzzg19y)\" height=\"159\" id=\"E3\" style=\"stroke: #A80036; stroke-width: 1.5;\" width=\"225\" x=\"397\" y=\"62.5\"/><rect fill=\"#FEFECE\" height=\"23.9688\" style=\"stroke: #A80036; stroke-width: 1.5;\" width=\"225\" x=\"397\" y=\"62.5\"/><text fill=\"#000000\" font-family=\"sans-serif\" font-size=\"12\" lengthAdjust=\"spacingAndGlyphs\" textLength=\"8\" x=\"505.5\" y=\"78.6387\">A</text></a><!--MD5=[55dfccfc6c49c2d10cd1bd2211a6c90c]\n",
       "cluster E8--><a href=\"psysml:c17c630d-59e9-4f7e-a520-276041a9c800\" target=\"_top\" title=\"psysml:c17c630d-59e9-4f7e-a520-276041a9c800\" xlink:actuate=\"onRequest\" xlink:href=\"psysml:c17c630d-59e9-4f7e-a520-276041a9c800\" xlink:show=\"new\" xlink:title=\"psysml:c17c630d-59e9-4f7e-a520-276041a9c800\" xlink:type=\"simple\"><rect fill=\"#FFFFFF\" filter=\"url(#f18ezzmkzzg19y)\" height=\"162.5\" id=\"E8\" style=\"stroke: #A80036; stroke-width: 1.5;\" width=\"155\" x=\"234\" y=\"62.5\"/><rect fill=\"#FEFECE\" height=\"23.9688\" style=\"stroke: #A80036; stroke-width: 1.5;\" width=\"155\" x=\"234\" y=\"62.5\"/><text fill=\"#000000\" font-family=\"sans-serif\" font-size=\"12\" font-style=\"italic\" lengthAdjust=\"spacingAndGlyphs\" textLength=\"8\" x=\"307.5\" y=\"78.6387\">B</text></a><g id=\"E1.E12\"><a href=\"psysml:e209a1f3-de72-4850-a45f-7036acf7c094\" target=\"_top\" title=\"psysml:e209a1f3-de72-4850-a45f-7036acf7c094\" xlink:actuate=\"onRequest\" xlink:href=\"psysml:e209a1f3-de72-4850-a45f-7036acf7c094\" xlink:show=\"new\" xlink:title=\"psysml:e209a1f3-de72-4850-a45f-7036acf7c094\" xlink:type=\"simple\"><rect fill=\"#FEFECE\" filter=\"url(#f18ezzmkzzg19y)\" height=\"42.9375\" id=\"E12\" style=\"stroke: #A80036; stroke-width: 1.5;\" width=\"101\" x=\"124.5\" y=\"41\"/><ellipse cx=\"141.75\" cy=\"59.9688\" fill=\"#A52A2A\" rx=\"11\" ry=\"11\" style=\"stroke: #A80036; stroke-width: 1.0;\"/><path d=\"M138.9688,64.9688 L138.9688,54.375 L141.7031,54.375 Q143.0938,54.375 143.8594,54.7656 Q144.6406,55.1406 145.1719,55.8438 Q145.7031,56.5469 146,57.5469 Q146.2969,58.5313 146.2969,59.75 Q146.25,61.3438 145.75,62.5313 Q145.2656,63.7031 144.2188,64.3438 Q143.1875,64.9688 141.5,64.9688 L138.9688,64.9688 Z M140.8281,63.4688 L141.4531,63.4688 Q142.5313,63.4688 143.1875,63.0156 Q143.8438,62.5625 144.125,61.7344 Q144.4219,60.8906 144.4063,59.7656 Q144.4063,58.5938 144.1563,57.7344 Q143.9063,56.8594 143.2969,56.3906 Q142.6875,55.9063 141.6406,55.9063 L140.8281,55.9063 L140.8281,63.4688 Z \"/><text fill=\"#000000\" font-family=\"sans-serif\" font-size=\"12\" font-style=\"italic\" lengthAdjust=\"spacingAndGlyphs\" textLength=\"68\" x=\"154.25\" y=\"57.1387\">«port  def»</text><text fill=\"#000000\" font-family=\"sans-serif\" font-size=\"12\" lengthAdjust=\"spacingAndGlyphs\" textLength=\"8\" x=\"184.25\" y=\"71.1074\">C</text></a></g><g id=\"E1.E2\"><a href=\"psysml:133b9857-5562-4f09-a022-80109f8d4a7d\" target=\"_top\" title=\"psysml:133b9857-5562-4f09-a022-80109f8d4a7d\" xlink:actuate=\"onRequest\" xlink:href=\"psysml:133b9857-5562-4f09-a022-80109f8d4a7d\" xlink:show=\"new\" xlink:title=\"psysml:133b9857-5562-4f09-a022-80109f8d4a7d\" xlink:type=\"simple\"><rect fill=\"#FEFECE\" filter=\"url(#f18ezzmkzzg19y)\" height=\"40\" id=\"E2\" rx=\"10\" ry=\"10\" style=\"stroke: #A80036; stroke-width: 1.5;\" width=\"57\" x=\"32.5\" y=\"42.5\"/><ellipse cx=\"49.75\" cy=\"58.5\" fill=\"#B6DBBB\" rx=\"11\" ry=\"11\" style=\"stroke: #A80036; stroke-width: 1.0;\"/><path d=\"M49.5,63.9688 Q47.75,63.9688 46.7969,62.9375 Q45.8594,61.8906 45.8594,60.0469 L45.8594,53.1563 L47.9219,53.1563 L47.9219,53.3125 Q47.8281,53.4063 47.7969,53.5469 Q47.7813,53.6719 47.7813,53.9375 L47.7813,60.0625 Q47.7813,61.1563 48.1563,61.7813 Q48.5313,62.4063 49.5156,62.4063 Q50.5,62.4063 50.8906,61.7813 Q51.2813,61.1563 51.2813,60.0156 L51.2813,53.1563 L53.1563,53.1563 L53.1563,60 Q53.1563,62.0313 52.125,63 Q51.1094,63.9688 49.5,63.9688 Z \"/><text fill=\"#000000\" font-family=\"sans-serif\" font-size=\"12\" lengthAdjust=\"spacingAndGlyphs\" textLength=\"20\" x=\"64.25\" y=\"62.6543\">f: A</text></a></g><text fill=\"#000000\" font-family=\"sans-serif\" font-size=\"14\" lengthAdjust=\"spacingAndGlyphs\" textLength=\"27\" x=\"559.5\" y=\"41.1982\">c: C</text><rect fill=\"#A80036\" height=\"12\" style=\"stroke: #FEFECE; stroke-width: 1.5;\" width=\"12\" x=\"569\" y=\"56.5\"/><!--MD5=[60a26617385b1d2d0262a64233df1f8d]\n",
       "class E6--><a href=\"psysml:445f494e-a94c-4fdf-9cc7-f31ccfeaa97f\" target=\"_top\" title=\"psysml:445f494e-a94c-4fdf-9cc7-f31ccfeaa97f\" xlink:actuate=\"onRequest\" xlink:href=\"psysml:445f494e-a94c-4fdf-9cc7-f31ccfeaa97f\" xlink:show=\"new\" xlink:title=\"psysml:445f494e-a94c-4fdf-9cc7-f31ccfeaa97f\" xlink:type=\"simple\"><rect fill=\"#FEFECE\" filter=\"url(#f18ezzmkzzg19y)\" height=\"45.9375\" id=\"E6\" rx=\"10\" ry=\"10\" style=\"stroke: #A80036; stroke-width: 1.5;\" width=\"97\" x=\"412.5\" y=\"159.5\"/><ellipse cx=\"427.5\" cy=\"178.4688\" fill=\"#FFA500\" rx=\"11\" ry=\"11\" style=\"stroke: #A80036; stroke-width: 1.0;\"/><path d=\"M427.25,183.9375 Q425.5,183.9375 424.5469,182.9063 Q423.6094,181.8594 423.6094,180.0156 L423.6094,173.125 L425.6719,173.125 L425.6719,173.2813 Q425.5781,173.375 425.5469,173.5156 Q425.5313,173.6406 425.5313,173.9063 L425.5313,180.0313 Q425.5313,181.125 425.9063,181.75 Q426.2813,182.375 427.2656,182.375 Q428.25,182.375 428.6406,181.75 Q429.0313,181.125 429.0313,179.9844 L429.0313,173.125 L430.9063,173.125 L430.9063,179.9688 Q430.9063,182 429.875,182.9688 Q428.8594,183.9375 427.25,183.9375 Z \"/><text fill=\"#000000\" font-family=\"sans-serif\" font-size=\"12\" font-style=\"italic\" lengthAdjust=\"spacingAndGlyphs\" textLength=\"69\" x=\"439.5\" y=\"175.6387\">«attribute»</text><text fill=\"#000000\" font-family=\"sans-serif\" font-size=\"12\" lengthAdjust=\"spacingAndGlyphs\" textLength=\"6\" x=\"469\" y=\"189.6074\">x</text><line style=\"stroke: #A80036; stroke-width: 1.5;\" x1=\"413.5\" x2=\"508.5\" y1=\"197.4375\" y2=\"197.4375\"/></a><!--MD5=[2156ba9850f5573cc1fc38a6a4b2f02b]\n",
       "class E7--><a href=\"psysml:83189ed0-8892-41b6-b657-b7e16a6a2eeb\" target=\"_top\" title=\"psysml:83189ed0-8892-41b6-b657-b7e16a6a2eeb\" xlink:actuate=\"onRequest\" xlink:href=\"psysml:83189ed0-8892-41b6-b657-b7e16a6a2eeb\" xlink:show=\"new\" xlink:title=\"psysml:83189ed0-8892-41b6-b657-b7e16a6a2eeb\" xlink:type=\"simple\"><rect fill=\"#FEFECE\" filter=\"url(#f18ezzmkzzg19y)\" height=\"45.9375\" id=\"E7\" rx=\"10\" ry=\"10\" style=\"stroke: #A80036; stroke-width: 1.5;\" width=\"97\" x=\"412.5\" y=\"100\"/><ellipse cx=\"427.5\" cy=\"118.9688\" fill=\"#FFA500\" rx=\"11\" ry=\"11\" style=\"stroke: #A80036; stroke-width: 1.0;\"/><path d=\"M427.25,124.4375 Q425.5,124.4375 424.5469,123.4063 Q423.6094,122.3594 423.6094,120.5156 L423.6094,113.625 L425.6719,113.625 L425.6719,113.7813 Q425.5781,113.875 425.5469,114.0156 Q425.5313,114.1406 425.5313,114.4063 L425.5313,120.5313 Q425.5313,121.625 425.9063,122.25 Q426.2813,122.875 427.2656,122.875 Q428.25,122.875 428.6406,122.25 Q429.0313,121.625 429.0313,120.4844 L429.0313,113.625 L430.9063,113.625 L430.9063,120.4688 Q430.9063,122.5 429.875,123.4688 Q428.8594,124.4375 427.25,124.4375 Z \"/><text fill=\"#000000\" font-family=\"sans-serif\" font-size=\"12\" font-style=\"italic\" lengthAdjust=\"spacingAndGlyphs\" textLength=\"69\" x=\"439.5\" y=\"116.1387\">«attribute»</text><text fill=\"#000000\" font-family=\"sans-serif\" font-size=\"12\" lengthAdjust=\"spacingAndGlyphs\" textLength=\"50\" x=\"449\" y=\"130.1074\">y :&gt; A::x</text><line style=\"stroke: #A80036; stroke-width: 1.5;\" x1=\"413.5\" x2=\"508.5\" y1=\"137.9375\" y2=\"137.9375\"/></a><g id=\"E1.E3.E4\"><a href=\"psysml:23a90af0-4107-4bf0-84ea-ac7115753c4e\" target=\"_top\" title=\"psysml:23a90af0-4107-4bf0-84ea-ac7115753c4e\" xlink:actuate=\"onRequest\" xlink:href=\"psysml:23a90af0-4107-4bf0-84ea-ac7115753c4e\" xlink:show=\"new\" xlink:title=\"psysml:23a90af0-4107-4bf0-84ea-ac7115753c4e\" xlink:type=\"simple\"><rect fill=\"#FEFECE\" filter=\"url(#f18ezzmkzzg19y)\" height=\"40\" id=\"E4\" rx=\"10\" ry=\"10\" style=\"stroke: #A80036; stroke-width: 1.5;\" width=\"61\" x=\"544.5\" y=\"162.5\"/><ellipse cx=\"561.75\" cy=\"178.5\" fill=\"#B6DBBB\" rx=\"11\" ry=\"11\" style=\"stroke: #A80036; stroke-width: 1.0;\"/><path d=\"M561.5,183.9688 Q559.75,183.9688 558.7969,182.9375 Q557.8594,181.8906 557.8594,180.0469 L557.8594,173.1563 L559.9219,173.1563 L559.9219,173.3125 Q559.8281,173.4063 559.7969,173.5469 Q559.7813,173.6719 559.7813,173.9375 L559.7813,180.0625 Q559.7813,181.1563 560.1563,181.7813 Q560.5313,182.4063 561.5156,182.4063 Q562.5,182.4063 562.8906,181.7813 Q563.2813,181.1563 563.2813,180.0156 L563.2813,173.1563 L565.1563,173.1563 L565.1563,180 Q565.1563,182.0313 564.125,183 Q563.1094,183.9688 561.5,183.9688 Z \"/><text fill=\"#000000\" font-family=\"sans-serif\" font-size=\"12\" lengthAdjust=\"spacingAndGlyphs\" textLength=\"24\" x=\"576.25\" y=\"182.6543\">b: B</text></a></g><text fill=\"#000000\" font-family=\"sans-serif\" font-size=\"14\" lengthAdjust=\"spacingAndGlyphs\" textLength=\"38\" x=\"339\" y=\"41.1982\">x: ~C</text><rect fill=\"#A80036\" height=\"12\" style=\"stroke: #FEFECE; stroke-width: 1.5;\" width=\"12\" x=\"354\" y=\"56.5\"/><g id=\"E1.E8.E9\"><a href=\"psysml:4ea01713-b83a-4578-95eb-e0c0377cf261\" target=\"_top\" title=\"psysml:4ea01713-b83a-4578-95eb-e0c0377cf261\" xlink:actuate=\"onRequest\" xlink:href=\"psysml:4ea01713-b83a-4578-95eb-e0c0377cf261\" xlink:show=\"new\" xlink:title=\"psysml:4ea01713-b83a-4578-95eb-e0c0377cf261\" xlink:type=\"simple\"><rect fill=\"#FEFECE\" filter=\"url(#f18ezzmkzzg19y)\" height=\"40\" id=\"E9\" rx=\"10\" ry=\"10\" style=\"stroke: #A80036; stroke-width: 1.5;\" width=\"61\" x=\"250.5\" y=\"103\"/><ellipse cx=\"267.75\" cy=\"119\" fill=\"#B6DBBB\" rx=\"11\" ry=\"11\" style=\"stroke: #A80036; stroke-width: 1.0;\"/><path d=\"M267.5,124.4688 Q265.75,124.4688 264.7969,123.4375 Q263.8594,122.3906 263.8594,120.5469 L263.8594,113.6563 L265.9219,113.6563 L265.9219,113.8125 Q265.8281,113.9063 265.7969,114.0469 Q265.7813,114.1719 265.7813,114.4375 L265.7813,120.5625 Q265.7813,121.6563 266.1563,122.2813 Q266.5313,122.9063 267.5156,122.9063 Q268.5,122.9063 268.8906,122.2813 Q269.2813,121.6563 269.2813,120.5156 L269.2813,113.6563 L271.1563,113.6563 L271.1563,120.5 Q271.1563,122.5313 270.125,123.5 Q269.1094,124.4688 267.5,124.4688 Z \"/><text fill=\"#000000\" font-family=\"sans-serif\" font-size=\"12\" lengthAdjust=\"spacingAndGlyphs\" textLength=\"24\" x=\"282.25\" y=\"123.1543\">a: A</text></a></g><a href=\"psysml:78dea323-2f70-496c-aa91-db5f05f12a10\" target=\"_top\" title=\"psysml:78dea323-2f70-496c-aa91-db5f05f12a10\" xlink:actuate=\"onRequest\" xlink:href=\"psysml:78dea323-2f70-496c-aa91-db5f05f12a10\" xlink:show=\"new\" xlink:title=\"psysml:78dea323-2f70-496c-aa91-db5f05f12a10\" xlink:type=\"simple\"><polygon fill=\"#FFFFFF\" filter=\"url(#f18ezzmkzzg19y)\" points=\"343.5,156,358.5,156,365.5,178.2969,372.5,178.2969,372.5,208.5938,343.5,208.5938,343.5,156\" style=\"stroke: #000000; stroke-width: 1.5;\"/><line style=\"stroke: #000000; stroke-width: 1.5;\" x1=\"343.5\" x2=\"365.5\" y1=\"178.2969\" y2=\"178.2969\"/><text fill=\"#000000\" font-family=\"sans-serif\" font-size=\"14\" font-weight=\"bold\" lengthAdjust=\"spacingAndGlyphs\" textLength=\"9\" x=\"347.5\" y=\"170.9951\">P</text></a><!--MD5=[fbb449814971db3a0b8220cf225b9e01]\n",
       "link E7 to E6--><a href=\"psysml:2104b8b7-83c3-4383-b55d-abdf660b6842\" target=\"_top\" title=\"psysml:2104b8b7-83c3-4383-b55d-abdf660b6842\" xlink:actuate=\"onRequest\" xlink:href=\"psysml:2104b8b7-83c3-4383-b55d-abdf660b6842\" xlink:show=\"new\" xlink:title=\"psysml:2104b8b7-83c3-4383-b55d-abdf660b6842\" xlink:type=\"simple\"><path d=\"M461,146.07 C461,146.2 461,146.34 461,146.47 \" fill=\"none\" id=\"E7-&gt;E6\" style=\"stroke: #A80036; stroke-width: 1.0;\"/><polygon fill=\"none\" points=\"468,139.21,461,159.21,454,139.21,468,139.21\" style=\"stroke: #A80036; stroke-width: 1.0;\"/></a><!--MD5=[59db2ffca633ed1d47553f3e001b110d]\n",
       "@startuml\r\n",
       "skinparam ranksep 10\r\n",
       "skinparam rectangle {\r\n",
       " backgroundColor<<block>> LightGreen\r\n",
       "}\r\n",
       " \r\n",
       "package \"PartTest\" as E1  [[psysml:c38775ed-c195-45a3-878f-69446059ff99 ]]  {\r\n",
       "rec usage \"f: A\" as E2  [[psysml:133b9857-5562-4f09-a022-80109f8d4a7d ]] {\r\n",
       "}\r\n",
       "rec def \"A\" as E3 << << (B,green) >> [[psysml:41a43e73-47d4-427d-aa17-f57a90b2778c ]] {\r\n",
       "rec usage \"b: B\" as E4  [[psysml:23a90af0-4107-4bf0-84ea-ac7115753c4e ]] {\r\n",
       "}\r\n",
       "portin \"c: C \" as E5 << << (P,blue) port>> [[psysml:3bde4e3d-0323-4342-8ecc-6f2c3dab5224 ]] \r\n",
       "comp usage \"x \" as E6 << <<(U,orange) attribute>> [[psysml:445f494e-a94c-4fdf-9cc7-f31ccfeaa97f ]] {\r\n",
       "}\r\n",
       "comp usage \"y :> A::x\" as E7 << <<(U,orange) attribute>> [[psysml:83189ed0-8892-41b6-b657-b7e16a6a2eeb ]] {\r\n",
       "}\r\n",
       "}\r\n",
       "rec def \"<i>B</i>\" as E8 << << (B,green) >> [[psysml:c17c630d-59e9-4f7e-a520-276041a9c800 ]] {\r\n",
       "rec usage \"a: A\" as E9  [[psysml:4ea01713-b83a-4578-95eb-e0c0377cf261 ]] {\r\n",
       "}\r\n",
       "portin \"x: ~C \" as E10 << << (P,blue) port>> [[psysml:c9f90055-486d-4326-9691-bfe47f710c68 ]] \r\n",
       "package \"P\" as E11  [[psysml:78dea323-2f70-496c-aa91-db5f05f12a10 ]]  {\r\n",
       "}\r\n",
       "}\r\n",
       "def \"C\" as E12 << <<(D,brown) port  def>> [[psysml:e209a1f3-de72-4850-a45f-7036acf7c094 ]] \r\n",
       "}\r\n",
       "E7 - -|> E6 [[psysml:2104b8b7-83c3-4383-b55d-abdf660b6842 ]] \r\n",
       "@enduml\r\n",
       "\n",
       "PlantUML version 1.2020.13(Sat Jun 13 12:26:38 UTC 2020)\n",
       "(EPL source distribution)\n",
       "Java Runtime: OpenJDK Runtime Environment\n",
       "JVM: OpenJDK 64-Bit Server VM\n",
       "Default Encoding: UTF-8\n",
       "Language: en\n",
       "Country: null\n",
       "--></g></svg>"
      ]
     },
     "execution_count": 33,
     "metadata": {},
     "output_type": "execute_result"
    }
   ],
   "source": [
    "%viz --style=\"PLANTUML\" --view=\"Interconnection\" \"PartTest\""
   ]
  },
  {
   "cell_type": "code",
   "execution_count": 34,
   "id": "a6588997",
   "metadata": {
    "execution": {
     "iopub.execute_input": "2022-02-05T16:55:45.011892Z",
     "iopub.status.busy": "2022-02-05T16:55:45.011475Z",
     "iopub.status.idle": "2022-02-05T16:55:45.014302Z",
     "shell.execute_reply": "2022-02-05T16:55:45.014592Z"
    }
   },
   "outputs": [
    {
     "data": {
      "image/svg+xml": [
       "<?xml version=\"1.0\" encoding=\"UTF-8\" standalone=\"no\"?><svg xmlns=\"http://www.w3.org/2000/svg\" xmlns:xlink=\"http://www.w3.org/1999/xlink\" contentScriptType=\"application/ecmascript\" contentStyleType=\"text/css\" height=\"12px\" preserveAspectRatio=\"none\" style=\"width:12px;height:12px;\" version=\"1.1\" viewBox=\"0 0 12 12\" width=\"12px\" zoomAndPan=\"magnify\"><defs/><g><!--MD5=[6a4cb978cab31700e1ce5529f947a75d]\n",
       "@startuml\r\n",
       "skinparam ranksep 8\r\n",
       " \r\n",
       "@enduml\r\n",
       "\n",
       "PlantUML version 1.2020.13(Sat Jun 13 12:26:38 UTC 2020)\n",
       "(EPL source distribution)\n",
       "Java Runtime: OpenJDK Runtime Environment\n",
       "JVM: OpenJDK 64-Bit Server VM\n",
       "Default Encoding: UTF-8\n",
       "Language: en\n",
       "Country: null\n",
       "--></g></svg>"
      ]
     },
     "execution_count": 34,
     "metadata": {},
     "output_type": "execute_result"
    }
   ],
   "source": [
    "%viz --style=\"PLANTUML\" --view=\"Action\" \"PartTest\""
   ]
  },
  {
   "cell_type": "code",
   "execution_count": 35,
   "id": "5203e103",
   "metadata": {
    "execution": {
     "iopub.execute_input": "2022-02-05T16:55:45.064669Z",
     "iopub.status.busy": "2022-02-05T16:55:45.064232Z",
     "iopub.status.idle": "2022-02-05T16:55:45.068998Z",
     "shell.execute_reply": "2022-02-05T16:55:45.068635Z"
    }
   },
   "outputs": [
    {
     "data": {
      "image/svg+xml": [
       "<?xml version=\"1.0\" encoding=\"UTF-8\" standalone=\"no\"?><svg xmlns=\"http://www.w3.org/2000/svg\" xmlns:xlink=\"http://www.w3.org/1999/xlink\" contentScriptType=\"application/ecmascript\" contentStyleType=\"text/css\" height=\"12px\" preserveAspectRatio=\"none\" style=\"width:12px;height:12px;\" version=\"1.1\" viewBox=\"0 0 12 12\" width=\"12px\" zoomAndPan=\"magnify\"><defs/><g><!--MD5=[ca4faa0b02def275ea33c14ea7a1a98d]\n",
       "@startuml\r\n",
       "skinparam roundcorner 20\r\n",
       "skinparam BoxPadding 20\r\n",
       "skinparam SequenceBoxBackgroundColor #white\r\n",
       "skinparam style strictuml\r\n",
       "skinparam maxMessageSize 100\r\n",
       " \r\n",
       "@enduml\r\n",
       "\n",
       "PlantUML version 1.2020.13(Sat Jun 13 12:26:38 UTC 2020)\n",
       "(EPL source distribution)\n",
       "Java Runtime: OpenJDK Runtime Environment\n",
       "JVM: OpenJDK 64-Bit Server VM\n",
       "Default Encoding: UTF-8\n",
       "Language: en\n",
       "Country: null\n",
       "--></g></svg>"
      ]
     },
     "execution_count": 35,
     "metadata": {},
     "output_type": "execute_result"
    }
   ],
   "source": [
    "%viz --style=\"PLANTUML\" --view=\"Sequence\" \"PartTest\""
   ]
  },
  {
   "cell_type": "code",
   "execution_count": 36,
   "id": "5a293462",
   "metadata": {
    "execution": {
     "iopub.execute_input": "2022-02-05T16:55:45.118392Z",
     "iopub.status.busy": "2022-02-05T16:55:45.117961Z",
     "iopub.status.idle": "2022-02-05T16:55:45.183982Z",
     "shell.execute_reply": "2022-02-05T16:55:45.183683Z"
    }
   },
   "outputs": [
    {
     "data": {
      "image/svg+xml": [
       "<?xml version=\"1.0\" encoding=\"UTF-8\" standalone=\"no\"?><svg xmlns=\"http://www.w3.org/2000/svg\" xmlns:xlink=\"http://www.w3.org/1999/xlink\" contentScriptType=\"application/ecmascript\" contentStyleType=\"text/css\" height=\"748px\" preserveAspectRatio=\"none\" style=\"width:449px;height:748px;\" version=\"1.1\" viewBox=\"0 0 449 748\" width=\"449px\" zoomAndPan=\"magnify\"><defs><filter height=\"300%\" id=\"fmvu694hy4oyo\" width=\"300%\" x=\"-1\" y=\"-1\"><feGaussianBlur result=\"blurOut\" stdDeviation=\"2.0\"/><feColorMatrix in=\"blurOut\" result=\"blurOut2\" type=\"matrix\" values=\"0 0 0 0 0 0 0 0 0 0 0 0 0 0 0 0 0 0 .4 0\"/><feOffset dx=\"4.0\" dy=\"4.0\" in=\"blurOut2\" result=\"blurOut3\"/><feBlend in=\"SourceGraphic\" in2=\"blurOut3\" mode=\"normal\"/></filter></defs><g><!--MD5=[fbc87193dbaf4d95561dea2c320d4a47]\n",
       "cluster E1--><a href=\"psysml:c38775ed-c195-45a3-878f-69446059ff99\" target=\"_top\" title=\"psysml:c38775ed-c195-45a3-878f-69446059ff99\" xlink:actuate=\"onRequest\" xlink:href=\"psysml:c38775ed-c195-45a3-878f-69446059ff99\" xlink:show=\"new\" xlink:title=\"psysml:c38775ed-c195-45a3-878f-69446059ff99\" xlink:type=\"simple\"><polygon fill=\"#FFFFFF\" filter=\"url(#fmvu694hy4oyo)\" points=\"16,6,80,6,87,28.2969,427,28.2969,427,736,16,736,16,6\" style=\"stroke: #000000; stroke-width: 1.5;\"/><line style=\"stroke: #000000; stroke-width: 1.5;\" x1=\"16\" x2=\"87\" y1=\"28.2969\" y2=\"28.2969\"/><text fill=\"#000000\" font-family=\"sans-serif\" font-size=\"14\" font-weight=\"bold\" lengthAdjust=\"spacingAndGlyphs\" textLength=\"58\" x=\"20\" y=\"20.9951\">PartTest</text></a><!--MD5=[b4997ac47864f28c2f74865a473b2911]\n",
       "class E2--><a href=\"psysml:133b9857-5562-4f09-a022-80109f8d4a7d\" target=\"_top\" title=\"psysml:133b9857-5562-4f09-a022-80109f8d4a7d\" xlink:actuate=\"onRequest\" xlink:href=\"psysml:133b9857-5562-4f09-a022-80109f8d4a7d\" xlink:show=\"new\" xlink:title=\"psysml:133b9857-5562-4f09-a022-80109f8d4a7d\" xlink:type=\"simple\"><rect fill=\"#FEFECE\" filter=\"url(#fmvu694hy4oyo)\" height=\"45.9375\" id=\"E2\" rx=\"10\" ry=\"10\" style=\"stroke: #A80036; stroke-width: 1.5;\" width=\"68\" x=\"188\" y=\"41\"/><ellipse cx=\"203\" cy=\"59.9688\" fill=\"#32CD32\" rx=\"11\" ry=\"11\" style=\"stroke: #A80036; stroke-width: 1.0;\"/><path d=\"M199.8125,64.9688 L199.8125,54.375 L203.4219,54.375 Q204.6406,54.375 205.4375,54.8125 Q206.2344,55.2344 206.6094,55.9375 Q207,56.6406 207,57.4844 Q207,58.3281 206.625,59.0156 Q206.2656,59.7031 205.4688,60.125 Q204.6875,60.5313 203.5,60.5313 L201.7656,60.5313 L201.7656,64.9688 L199.8125,64.9688 Z M201.7656,58.9375 L203.375,58.9375 Q204.1875,58.9375 204.6094,58.5313 Q205.0313,58.125 205.0313,57.4844 Q205.0313,56.8594 204.6094,56.4531 Q204.1875,56.0469 203.3906,56.0469 L201.7656,56.0469 L201.7656,58.9375 Z \"/><text fill=\"#000000\" font-family=\"sans-serif\" font-size=\"12\" font-style=\"italic\" lengthAdjust=\"spacingAndGlyphs\" textLength=\"40\" x=\"215\" y=\"57.1387\">«part»</text><text fill=\"#000000\" font-family=\"sans-serif\" font-size=\"12\" lengthAdjust=\"spacingAndGlyphs\" textLength=\"20\" x=\"223\" y=\"71.1074\">f: A</text><line style=\"stroke: #A80036; stroke-width: 1.5;\" x1=\"189\" x2=\"255\" y1=\"78.9375\" y2=\"78.9375\"/></a><!--MD5=[09b614a08d8cba4a07c9adeb5e0fee81]\n",
       "class E3--><a href=\"psysml:41a43e73-47d4-427d-aa17-f57a90b2778c\" target=\"_top\" title=\"psysml:41a43e73-47d4-427d-aa17-f57a90b2778c\" xlink:actuate=\"onRequest\" xlink:href=\"psysml:41a43e73-47d4-427d-aa17-f57a90b2778c\" xlink:show=\"new\" xlink:title=\"psysml:41a43e73-47d4-427d-aa17-f57a90b2778c\" xlink:type=\"simple\"><rect fill=\"#FEFECE\" filter=\"url(#fmvu694hy4oyo)\" height=\"82.4141\" id=\"E3\" style=\"stroke: #A80036; stroke-width: 1.5;\" width=\"63\" x=\"190.5\" y=\"148\"/><ellipse cx=\"215.85\" cy=\"164\" fill=\"#008000\" rx=\"11\" ry=\"11\" style=\"stroke: #A80036; stroke-width: 1.0;\"/><path d=\"M212.725,169 L212.725,158.4063 L215.9594,158.4063 Q217.8656,158.4063 218.7719,159.1563 Q219.6938,159.9063 219.6938,161.0781 Q219.6938,161.7656 219.3031,162.4219 Q218.9281,163.0781 218.2094,163.375 Q219.0688,163.75 219.5844,164.4375 Q220.1,165.125 220.1,165.9375 Q220.1,167.3125 219.0688,168.1563 Q218.0531,169 215.9438,169 L212.725,169 Z M214.6469,162.6406 L215.8031,162.6406 Q216.9281,162.6406 217.3344,162.2656 Q217.7563,161.875 217.7563,161.25 Q217.7563,160.6719 217.3344,160.3125 Q216.9125,159.9531 215.975,159.9531 L214.6469,159.9531 L214.6469,162.6406 Z M214.6469,167.4219 L216.1469,167.4219 Q217.0531,167.4219 217.5844,167.0313 Q218.1156,166.6406 218.1156,165.8906 Q218.1156,165.125 217.6156,164.6563 Q217.1156,164.1719 215.85,164.1719 L214.6469,164.1719 L214.6469,167.4219 Z \"/><text fill=\"#000000\" font-family=\"sans-serif\" font-size=\"12\" lengthAdjust=\"spacingAndGlyphs\" textLength=\"8\" x=\"232.15\" y=\"168.1543\">A</text><line style=\"stroke: #A80036; stroke-width: 1.5;\" x1=\"191.5\" x2=\"252.5\" y1=\"180\" y2=\"180\"/><text fill=\"#000000\" font-family=\"sans-serif\" font-size=\"11\" lengthAdjust=\"spacingAndGlyphs\" textLength=\"6\" x=\"196.5\" y=\"211.0151\">x</text><text fill=\"#000000\" font-family=\"sans-serif\" font-size=\"11\" lengthAdjust=\"spacingAndGlyphs\" textLength=\"44\" x=\"196.5\" y=\"223.8198\">y:&gt; A::x</text><line style=\"stroke: #A80036; stroke-width: 1.0;\" x1=\"191.5\" x2=\"194.5\" y1=\"194.4023\" y2=\"194.4023\"/><text fill=\"#000000\" font-family=\"sans-serif\" font-size=\"11\" lengthAdjust=\"spacingAndGlyphs\" textLength=\"55\" x=\"194.5\" y=\"197.7104\">attributes</text><line style=\"stroke: #A80036; stroke-width: 1.0;\" x1=\"249.5\" x2=\"252.5\" y1=\"194.4023\" y2=\"194.4023\"/></a><!--MD5=[ebbe1d658d1005bcc118a6aa81145e00]\n",
       "class E4--><a href=\"psysml:23a90af0-4107-4bf0-84ea-ac7115753c4e\" target=\"_top\" title=\"psysml:23a90af0-4107-4bf0-84ea-ac7115753c4e\" xlink:actuate=\"onRequest\" xlink:href=\"psysml:23a90af0-4107-4bf0-84ea-ac7115753c4e\" xlink:show=\"new\" xlink:title=\"psysml:23a90af0-4107-4bf0-84ea-ac7115753c4e\" xlink:type=\"simple\"><rect fill=\"#FEFECE\" filter=\"url(#fmvu694hy4oyo)\" height=\"45.9375\" id=\"E4\" rx=\"10\" ry=\"10\" style=\"stroke: #A80036; stroke-width: 1.5;\" width=\"68\" x=\"326\" y=\"367\"/><ellipse cx=\"341\" cy=\"385.9688\" fill=\"#32CD32\" rx=\"11\" ry=\"11\" style=\"stroke: #A80036; stroke-width: 1.0;\"/><path d=\"M337.8125,390.9688 L337.8125,380.375 L341.4219,380.375 Q342.6406,380.375 343.4375,380.8125 Q344.2344,381.2344 344.6094,381.9375 Q345,382.6406 345,383.4844 Q345,384.3281 344.625,385.0156 Q344.2656,385.7031 343.4688,386.125 Q342.6875,386.5313 341.5,386.5313 L339.7656,386.5313 L339.7656,390.9688 L337.8125,390.9688 Z M339.7656,384.9375 L341.375,384.9375 Q342.1875,384.9375 342.6094,384.5313 Q343.0313,384.125 343.0313,383.4844 Q343.0313,382.8594 342.6094,382.4531 Q342.1875,382.0469 341.3906,382.0469 L339.7656,382.0469 L339.7656,384.9375 Z \"/><text fill=\"#000000\" font-family=\"sans-serif\" font-size=\"12\" font-style=\"italic\" lengthAdjust=\"spacingAndGlyphs\" textLength=\"40\" x=\"353\" y=\"383.1387\">«part»</text><text fill=\"#000000\" font-family=\"sans-serif\" font-size=\"12\" lengthAdjust=\"spacingAndGlyphs\" textLength=\"24\" x=\"359\" y=\"397.1074\">b: B</text><line style=\"stroke: #A80036; stroke-width: 1.5;\" x1=\"327\" x2=\"393\" y1=\"404.9375\" y2=\"404.9375\"/></a><!--MD5=[270fce915f116d4de14055a7c1d9a0f3]\n",
       "class E5--><a href=\"psysml:3bde4e3d-0323-4342-8ecc-6f2c3dab5224\" target=\"_top\" title=\"psysml:3bde4e3d-0323-4342-8ecc-6f2c3dab5224\" xlink:actuate=\"onRequest\" xlink:href=\"psysml:3bde4e3d-0323-4342-8ecc-6f2c3dab5224\" xlink:show=\"new\" xlink:title=\"psysml:3bde4e3d-0323-4342-8ecc-6f2c3dab5224\" xlink:type=\"simple\"><rect fill=\"#FEFECE\" filter=\"url(#fmvu694hy4oyo)\" height=\"45.9375\" id=\"E5\" rx=\"10\" ry=\"10\" style=\"stroke: #A80036; stroke-width: 1.5;\" width=\"68\" x=\"306\" y=\"291\"/><ellipse cx=\"321\" cy=\"309.9688\" fill=\"#0000FF\" rx=\"11\" ry=\"11\" style=\"stroke: #A80036; stroke-width: 1.0;\"/><path d=\"M317.8125,314.9688 L317.8125,304.375 L321.4219,304.375 Q322.6406,304.375 323.4375,304.8125 Q324.2344,305.2344 324.6094,305.9375 Q325,306.6406 325,307.4844 Q325,308.3281 324.625,309.0156 Q324.2656,309.7031 323.4688,310.125 Q322.6875,310.5313 321.5,310.5313 L319.7656,310.5313 L319.7656,314.9688 L317.8125,314.9688 Z M319.7656,308.9375 L321.375,308.9375 Q322.1875,308.9375 322.6094,308.5313 Q323.0313,308.125 323.0313,307.4844 Q323.0313,306.8594 322.6094,306.4531 Q322.1875,306.0469 321.3906,306.0469 L319.7656,306.0469 L319.7656,308.9375 Z \"/><text fill=\"#000000\" font-family=\"sans-serif\" font-size=\"12\" font-style=\"italic\" lengthAdjust=\"spacingAndGlyphs\" textLength=\"40\" x=\"333\" y=\"307.1387\">«port»</text><text fill=\"#000000\" font-family=\"sans-serif\" font-size=\"12\" lengthAdjust=\"spacingAndGlyphs\" textLength=\"23\" x=\"339.5\" y=\"321.1074\">c: C</text><line style=\"stroke: #A80036; stroke-width: 1.5;\" x1=\"307\" x2=\"373\" y1=\"328.9375\" y2=\"328.9375\"/></a><!--MD5=[60a26617385b1d2d0262a64233df1f8d]\n",
       "class E6--><a href=\"psysml:c17c630d-59e9-4f7e-a520-276041a9c800\" target=\"_top\" title=\"psysml:c17c630d-59e9-4f7e-a520-276041a9c800\" xlink:actuate=\"onRequest\" xlink:href=\"psysml:c17c630d-59e9-4f7e-a520-276041a9c800\" xlink:show=\"new\" xlink:title=\"psysml:c17c630d-59e9-4f7e-a520-276041a9c800\" xlink:type=\"simple\"><rect fill=\"#FEFECE\" filter=\"url(#fmvu694hy4oyo)\" height=\"40\" id=\"E6\" style=\"stroke: #A80036; stroke-width: 1.5;\" width=\"40\" x=\"188\" y=\"566\"/><ellipse cx=\"203\" cy=\"582\" fill=\"#008000\" rx=\"11\" ry=\"11\" style=\"stroke: #A80036; stroke-width: 1.0;\"/><path d=\"M199.875,587 L199.875,576.4063 L203.1094,576.4063 Q205.0156,576.4063 205.9219,577.1563 Q206.8438,577.9063 206.8438,579.0781 Q206.8438,579.7656 206.4531,580.4219 Q206.0781,581.0781 205.3594,581.375 Q206.2188,581.75 206.7344,582.4375 Q207.25,583.125 207.25,583.9375 Q207.25,585.3125 206.2188,586.1563 Q205.2031,587 203.0938,587 L199.875,587 Z M201.7969,580.6406 L202.9531,580.6406 Q204.0781,580.6406 204.4844,580.2656 Q204.9063,579.875 204.9063,579.25 Q204.9063,578.6719 204.4844,578.3125 Q204.0625,577.9531 203.125,577.9531 L201.7969,577.9531 L201.7969,580.6406 Z M201.7969,585.4219 L203.2969,585.4219 Q204.2031,585.4219 204.7344,585.0313 Q205.2656,584.6406 205.2656,583.8906 Q205.2656,583.125 204.7656,582.6563 Q204.2656,582.1719 203,582.1719 L201.7969,582.1719 L201.7969,585.4219 Z \"/><text fill=\"#000000\" font-family=\"sans-serif\" font-size=\"12\" font-style=\"italic\" lengthAdjust=\"spacingAndGlyphs\" textLength=\"8\" x=\"217\" y=\"586.1543\">B</text><line style=\"stroke: #A80036; stroke-width: 1.5;\" x1=\"189\" x2=\"227\" y1=\"598\" y2=\"598\"/></a><!--MD5=[2156ba9850f5573cc1fc38a6a4b2f02b]\n",
       "class E7--><a href=\"psysml:4ea01713-b83a-4578-95eb-e0c0377cf261\" target=\"_top\" title=\"psysml:4ea01713-b83a-4578-95eb-e0c0377cf261\" xlink:actuate=\"onRequest\" xlink:href=\"psysml:4ea01713-b83a-4578-95eb-e0c0377cf261\" xlink:show=\"new\" xlink:title=\"psysml:4ea01713-b83a-4578-95eb-e0c0377cf261\" xlink:type=\"simple\"><rect fill=\"#FEFECE\" filter=\"url(#fmvu694hy4oyo)\" height=\"45.9375\" id=\"E7\" rx=\"10\" ry=\"10\" style=\"stroke: #A80036; stroke-width: 1.5;\" width=\"68\" x=\"57\" y=\"670.5\"/><ellipse cx=\"72\" cy=\"689.4688\" fill=\"#32CD32\" rx=\"11\" ry=\"11\" style=\"stroke: #A80036; stroke-width: 1.0;\"/><path d=\"M68.8125,694.4688 L68.8125,683.875 L72.4219,683.875 Q73.6406,683.875 74.4375,684.3125 Q75.2344,684.7344 75.6094,685.4375 Q76,686.1406 76,686.9844 Q76,687.8281 75.625,688.5156 Q75.2656,689.2031 74.4688,689.625 Q73.6875,690.0313 72.5,690.0313 L70.7656,690.0313 L70.7656,694.4688 L68.8125,694.4688 Z M70.7656,688.4375 L72.375,688.4375 Q73.1875,688.4375 73.6094,688.0313 Q74.0313,687.625 74.0313,686.9844 Q74.0313,686.3594 73.6094,685.9531 Q73.1875,685.5469 72.3906,685.5469 L70.7656,685.5469 L70.7656,688.4375 Z \"/><text fill=\"#000000\" font-family=\"sans-serif\" font-size=\"12\" font-style=\"italic\" lengthAdjust=\"spacingAndGlyphs\" textLength=\"40\" x=\"84\" y=\"686.6387\">«part»</text><text fill=\"#000000\" font-family=\"sans-serif\" font-size=\"12\" font-style=\"italic\" lengthAdjust=\"spacingAndGlyphs\" textLength=\"8\" x=\"90\" y=\"700.6074\">a</text><text fill=\"#000000\" font-family=\"sans-serif\" font-size=\"12\" lengthAdjust=\"spacingAndGlyphs\" textLength=\"16\" x=\"98\" y=\"700.6074\">: A</text><line style=\"stroke: #A80036; stroke-width: 1.5;\" x1=\"58\" x2=\"124\" y1=\"708.4375\" y2=\"708.4375\"/></a><!--MD5=[b9389687b975829384b498ac4b7476b2]\n",
       "class E8--><a href=\"psysml:c9f90055-486d-4326-9691-bfe47f710c68\" target=\"_top\" title=\"psysml:c9f90055-486d-4326-9691-bfe47f710c68\" xlink:actuate=\"onRequest\" xlink:href=\"psysml:c9f90055-486d-4326-9691-bfe47f710c68\" xlink:show=\"new\" xlink:title=\"psysml:c9f90055-486d-4326-9691-bfe47f710c68\" xlink:type=\"simple\"><rect fill=\"#FEFECE\" filter=\"url(#fmvu694hy4oyo)\" height=\"45.9375\" id=\"E8\" rx=\"10\" ry=\"10\" style=\"stroke: #A80036; stroke-width: 1.5;\" width=\"68\" x=\"238\" y=\"670.5\"/><ellipse cx=\"253\" cy=\"689.4688\" fill=\"#0000FF\" rx=\"11\" ry=\"11\" style=\"stroke: #A80036; stroke-width: 1.0;\"/><path d=\"M249.8125,694.4688 L249.8125,683.875 L253.4219,683.875 Q254.6406,683.875 255.4375,684.3125 Q256.2344,684.7344 256.6094,685.4375 Q257,686.1406 257,686.9844 Q257,687.8281 256.625,688.5156 Q256.2656,689.2031 255.4688,689.625 Q254.6875,690.0313 253.5,690.0313 L251.7656,690.0313 L251.7656,694.4688 L249.8125,694.4688 Z M251.7656,688.4375 L253.375,688.4375 Q254.1875,688.4375 254.6094,688.0313 Q255.0313,687.625 255.0313,686.9844 Q255.0313,686.3594 254.6094,685.9531 Q254.1875,685.5469 253.3906,685.5469 L251.7656,685.5469 L251.7656,688.4375 Z \"/><text fill=\"#000000\" font-family=\"sans-serif\" font-size=\"12\" font-style=\"italic\" lengthAdjust=\"spacingAndGlyphs\" textLength=\"40\" x=\"265\" y=\"686.6387\">«port»</text><text fill=\"#000000\" font-family=\"sans-serif\" font-size=\"12\" lengthAdjust=\"spacingAndGlyphs\" textLength=\"32\" x=\"267\" y=\"700.6074\">x: ~C</text><line style=\"stroke: #A80036; stroke-width: 1.5;\" x1=\"239\" x2=\"305\" y1=\"708.4375\" y2=\"708.4375\"/></a><!--MD5=[96f4274e9e20536e775497830990834d]\n",
       "class E10--><a href=\"psysml:e209a1f3-de72-4850-a45f-7036acf7c094\" target=\"_top\" title=\"psysml:e209a1f3-de72-4850-a45f-7036acf7c094\" xlink:actuate=\"onRequest\" xlink:href=\"psysml:e209a1f3-de72-4850-a45f-7036acf7c094\" xlink:show=\"new\" xlink:title=\"psysml:e209a1f3-de72-4850-a45f-7036acf7c094\" xlink:type=\"simple\"><rect fill=\"#FEFECE\" filter=\"url(#fmvu694hy4oyo)\" height=\"45.9375\" id=\"E10\" style=\"stroke: #A80036; stroke-width: 1.5;\" width=\"96\" x=\"160\" y=\"443\"/><ellipse cx=\"175\" cy=\"461.9688\" fill=\"#A52A2A\" rx=\"11\" ry=\"11\" style=\"stroke: #A80036; stroke-width: 1.0;\"/><path d=\"M172.2188,466.9688 L172.2188,456.375 L174.9531,456.375 Q176.3438,456.375 177.1094,456.7656 Q177.8906,457.1406 178.4219,457.8438 Q178.9531,458.5469 179.25,459.5469 Q179.5469,460.5313 179.5469,461.75 Q179.5,463.3438 179,464.5313 Q178.5156,465.7031 177.4688,466.3438 Q176.4375,466.9688 174.75,466.9688 L172.2188,466.9688 Z M174.0781,465.4688 L174.7031,465.4688 Q175.7813,465.4688 176.4375,465.0156 Q177.0938,464.5625 177.375,463.7344 Q177.6719,462.8906 177.6563,461.7656 Q177.6563,460.5938 177.4063,459.7344 Q177.1563,458.8594 176.5469,458.3906 Q175.9375,457.9063 174.8906,457.9063 L174.0781,457.9063 L174.0781,465.4688 Z \"/><text fill=\"#000000\" font-family=\"sans-serif\" font-size=\"12\" font-style=\"italic\" lengthAdjust=\"spacingAndGlyphs\" textLength=\"68\" x=\"187\" y=\"459.1387\">«port  def»</text><text fill=\"#000000\" font-family=\"sans-serif\" font-size=\"12\" lengthAdjust=\"spacingAndGlyphs\" textLength=\"8\" x=\"217\" y=\"473.1074\">C</text><line style=\"stroke: #A80036; stroke-width: 1.5;\" x1=\"161\" x2=\"255\" y1=\"480.9375\" y2=\"480.9375\"/></a><a href=\"psysml:78dea323-2f70-496c-aa91-db5f05f12a10\" target=\"_top\" title=\"psysml:78dea323-2f70-496c-aa91-db5f05f12a10\" xlink:actuate=\"onRequest\" xlink:href=\"psysml:78dea323-2f70-496c-aa91-db5f05f12a10\" xlink:show=\"new\" xlink:title=\"psysml:78dea323-2f70-496c-aa91-db5f05f12a10\" xlink:type=\"simple\"><polygon fill=\"#FFFFFF\" filter=\"url(#fmvu694hy4oyo)\" points=\"173.5,667,188.5,667,195.5,689.2969,202.5,689.2969,202.5,719.5938,173.5,719.5938,173.5,667\" style=\"stroke: #000000; stroke-width: 1.5;\"/><line style=\"stroke: #000000; stroke-width: 1.5;\" x1=\"173.5\" x2=\"195.5\" y1=\"689.2969\" y2=\"689.2969\"/><text fill=\"#000000\" font-family=\"sans-serif\" font-size=\"14\" font-weight=\"bold\" lengthAdjust=\"spacingAndGlyphs\" textLength=\"9\" x=\"177.5\" y=\"681.9951\">P</text></a><!--MD5=[2720a5a1f2c3fca2055b230370638851]\n",
       "link E2 to E3--><a href=\"psysml:de99b855-827b-4779-9c99-7b4326eef43f\" target=\"_top\" title=\"psysml:de99b855-827b-4779-9c99-7b4326eef43f\" xlink:actuate=\"onRequest\" xlink:href=\"psysml:de99b855-827b-4779-9c99-7b4326eef43f\" xlink:show=\"new\" xlink:title=\"psysml:de99b855-827b-4779-9c99-7b4326eef43f\" xlink:type=\"simple\"><path d=\"M222,87.27 C222,98.76 222,113.37 222,127.88 \" fill=\"none\" id=\"E2-&gt;E3\" style=\"stroke: #A80036; stroke-width: 1.0;\"/><polygon fill=\"#FFFFFF\" points=\"222,147.98,215,128.98,229,128.98,222,147.98\" style=\"stroke: #A80036; stroke-width: 1.0;\"/><ellipse cx=\"217\" cy=\"123.28\" fill=\"#A80036\" rx=\"2\" ry=\"2\" style=\"stroke: #A80036; stroke-width: 1.0;\"/><ellipse cx=\"227\" cy=\"123.28\" fill=\"#A80036\" rx=\"2\" ry=\"2\" style=\"stroke: #A80036; stroke-width: 1.0;\"/></a><!--MD5=[4672eba38e49728da53d11aeb285b987]\n",
       "reverse link E3 to E4--><a href=\"psysml:7d143534-3389-4013-881e-42b16664757f\" target=\"_top\" title=\"psysml:7d143534-3389-4013-881e-42b16664757f\" xlink:actuate=\"onRequest\" xlink:href=\"psysml:7d143534-3389-4013-881e-42b16664757f\" xlink:show=\"new\" xlink:title=\"psysml:7d143534-3389-4013-881e-42b16664757f\" xlink:type=\"simple\"><path d=\"M266.29,202.49 C307.1,216.62 365.27,244.02 392,291 C405.81,315.27 390.91,346.35 377.16,366.93 \" fill=\"none\" id=\"E3&lt;-E4\" style=\"stroke: #A80036; stroke-width: 1.0;\"/><polygon fill=\"#A80036\" points=\"253.71,198.36,258.1628,204.0321,265.1112,202.1033,260.6584,196.4312,253.71,198.36\" style=\"stroke: #A80036; stroke-width: 1.0;\"/><text fill=\"#000000\" font-family=\"sans-serif\" font-size=\"13\" lengthAdjust=\"spacingAndGlyphs\" textLength=\"8\" x=\"373.9009\" y=\"357.0326\">1</text></a><!--MD5=[191cde3d490a3f6d7bb551fe3ddca469]\n",
       "reverse link E3 to E5--><a href=\"psysml:01061be5-5fdc-439c-afe5-881fb8746c83\" target=\"_top\" title=\"psysml:01061be5-5fdc-439c-afe5-881fb8746c83\" xlink:actuate=\"onRequest\" xlink:href=\"psysml:01061be5-5fdc-439c-afe5-881fb8746c83\" xlink:show=\"new\" xlink:title=\"psysml:01061be5-5fdc-439c-afe5-881fb8746c83\" xlink:type=\"simple\"><path d=\"M262.88,232.61 C281.68,252.21 303.21,274.65 318.73,290.83 \" fill=\"none\" id=\"E3&lt;-E5\" style=\"stroke: #A80036; stroke-width: 1.0;\"/><polygon fill=\"#FFFFFF\" points=\"253.62,222.96,254.891,230.0582,261.932,231.6151,260.661,224.5169,253.62,222.96\" style=\"stroke: #A80036; stroke-width: 1.0;\"/><text fill=\"#000000\" font-family=\"sans-serif\" font-size=\"13\" lengthAdjust=\"spacingAndGlyphs\" textLength=\"8\" x=\"304.2546\" y=\"280.0627\">1</text></a><!--MD5=[79568f1e445c3877b6a54524624ccc7d]\n",
       "link E4 to E6--><a href=\"psysml:8d11eaae-af32-434c-8c3d-32f92418f4c8\" target=\"_top\" title=\"psysml:8d11eaae-af32-434c-8c3d-32f92418f4c8\" xlink:actuate=\"onRequest\" xlink:href=\"psysml:8d11eaae-af32-434c-8c3d-32f92418f4c8\" xlink:show=\"new\" xlink:title=\"psysml:8d11eaae-af32-434c-8c3d-32f92418f4c8\" xlink:type=\"simple\"><path d=\"M342.56,413.25 C316.34,446.72 266.53,510.3 235.41,550.01 \" fill=\"none\" id=\"E4-&gt;E6\" style=\"stroke: #A80036; stroke-width: 1.0;\"/><polygon fill=\"#FFFFFF\" points=\"222.97,565.9,229.1843,546.6287,240.2018,555.2667,222.97,565.9\" style=\"stroke: #A80036; stroke-width: 1.0;\"/><ellipse cx=\"234.2751\" cy=\"543.377\" fill=\"#A80036\" rx=\"2\" ry=\"2\" style=\"stroke: #A80036; stroke-width: 1.0;\"/><ellipse cx=\"242.1447\" cy=\"549.547\" fill=\"#A80036\" rx=\"2\" ry=\"2\" style=\"stroke: #A80036; stroke-width: 1.0;\"/></a><!--MD5=[3f50a3473f1dfb74d3f76443e03635af]\n",
       "reverse link E6 to E7--><a href=\"psysml:7466bf8a-1e84-4b05-9901-ce46ee446fa5\" target=\"_top\" title=\"psysml:7466bf8a-1e84-4b05-9901-ce46ee446fa5\" xlink:actuate=\"onRequest\" xlink:href=\"psysml:7466bf8a-1e84-4b05-9901-ce46ee446fa5\" xlink:show=\"new\" xlink:title=\"psysml:7466bf8a-1e84-4b05-9901-ce46ee446fa5\" xlink:type=\"simple\"><path d=\"M178.07,613.98 C158.75,631.41 133.92,653.8 115.72,670.21 \" fill=\"none\" id=\"E6&lt;-E7\" style=\"stroke: #A80036; stroke-width: 1.0;\"/><polygon fill=\"#A80036\" points=\"187.89,605.14,180.7549,606.1841,178.9744,613.1719,186.1095,612.1278,187.89,605.14\" style=\"stroke: #A80036; stroke-width: 1.0;\"/><text fill=\"#000000\" font-family=\"sans-serif\" font-size=\"13\" lengthAdjust=\"spacingAndGlyphs\" textLength=\"8\" x=\"113.0295\" y=\"659.412\">1</text></a><!--MD5=[14ccda38c055a5c0da953d572bc50960]\n",
       "link E7 to E3--><a href=\"psysml:3c280f0c-0d5e-48e6-b009-cbd7db9e9beb\" target=\"_top\" title=\"psysml:3c280f0c-0d5e-48e6-b009-cbd7db9e9beb\" xlink:actuate=\"onRequest\" xlink:href=\"psysml:3c280f0c-0d5e-48e6-b009-cbd7db9e9beb\" xlink:show=\"new\" xlink:title=\"psysml:3c280f0c-0d5e-48e6-b009-cbd7db9e9beb\" xlink:type=\"simple\"><path d=\"M70.06,670.14 C53.45,650.01 33,618.77 33,587 C33,313 33,313 33,313 C33,247.07 114.79,214.66 170.76,200.19 \" fill=\"none\" id=\"E7-&gt;E3\" style=\"stroke: #A80036; stroke-width: 1.0;\"/><polygon fill=\"#FFFFFF\" points=\"190.37,195.57,173.4806,206.7391,170.2713,193.1119,190.37,195.57\" style=\"stroke: #A80036; stroke-width: 1.0;\"/><ellipse cx=\"167.4739\" cy=\"206.099\" fill=\"#A80036\" rx=\"2\" ry=\"2\" style=\"stroke: #A80036; stroke-width: 1.0;\"/><ellipse cx=\"165.1816\" cy=\"196.3653\" fill=\"#A80036\" rx=\"2\" ry=\"2\" style=\"stroke: #A80036; stroke-width: 1.0;\"/></a><!--MD5=[f4cf0736d43fd73c4ef68817c49d37d5]\n",
       "reverse link E6 to E8--><a href=\"psysml:dcb35f57-14cb-4e2c-8543-9245438ead5d\" target=\"_top\" title=\"psysml:dcb35f57-14cb-4e2c-8543-9245438ead5d\" xlink:actuate=\"onRequest\" xlink:href=\"psysml:dcb35f57-14cb-4e2c-8543-9245438ead5d\" xlink:show=\"new\" xlink:title=\"psysml:dcb35f57-14cb-4e2c-8543-9245438ead5d\" xlink:type=\"simple\"><path d=\"M226.71,617.84 C236.92,634.67 249.32,655.11 258.56,670.35 \" fill=\"none\" id=\"E6&lt;-E8\" style=\"stroke: #A80036; stroke-width: 1.0;\"/><polygon fill=\"#FFFFFF\" points=\"219.74,606.35,219.4323,613.5545,225.9643,616.6095,226.272,609.405,219.74,606.35\" style=\"stroke: #A80036; stroke-width: 1.0;\"/><text fill=\"#000000\" font-family=\"sans-serif\" font-size=\"13\" lengthAdjust=\"spacingAndGlyphs\" textLength=\"8\" x=\"246.091\" y=\"659.5879\">1</text></a><!--MD5=[e88d06e5a652d73a6b19930eefe025a8]\n",
       "reverse link E6 to E9--><a href=\"psysml:08766104-19a0-4aca-bf35-b4c81b8c6dcb\" target=\"_top\" title=\"psysml:08766104-19a0-4aca-bf35-b4c81b8c6dcb\" xlink:actuate=\"onRequest\" xlink:href=\"psysml:08766104-19a0-4aca-bf35-b4c81b8c6dcb\" xlink:show=\"new\" xlink:title=\"psysml:08766104-19a0-4aca-bf35-b4c81b8c6dcb\" xlink:type=\"simple\"><path d=\"M201.5,621.31 C198.68,636.15 195.45,653.21 192.85,666.91 \" fill=\"none\" id=\"E6&lt;-E9\" style=\"stroke: #A80036; stroke-width: 1.0;\"/><ellipse cx=\"202.8373\" cy=\"614.2095\" fill=\"#FFFFFF\" rx=\"8\" ry=\"8\" style=\"stroke: #A80036; stroke-width: 1.0;\"/><line style=\"stroke: #A80036; stroke-width: 1.0;\" x1=\"201.3446\" x2=\"204.33\" y1=\"622.069\" y2=\"606.35\"/><line style=\"stroke: #A80036; stroke-width: 1.0;\" x1=\"194.9778\" x2=\"210.6968\" y1=\"612.7168\" y2=\"615.7022\"/></a><!--MD5=[f78a29d5932556fa1060671a2a6507d8]\n",
       "link E5 to E10--><a href=\"psysml:568ef262-b92a-4cba-8a4b-19f4a197db7e\" target=\"_top\" title=\"psysml:568ef262-b92a-4cba-8a4b-19f4a197db7e\" xlink:actuate=\"onRequest\" xlink:href=\"psysml:568ef262-b92a-4cba-8a4b-19f4a197db7e\" xlink:show=\"new\" xlink:title=\"psysml:568ef262-b92a-4cba-8a4b-19f4a197db7e\" xlink:type=\"simple\"><path d=\"M326.74,337.28 C313.85,358 293.06,389.19 271,413 C265.65,418.78 259.66,424.49 253.55,429.91 \" fill=\"none\" id=\"E5-&gt;E10\" style=\"stroke: #A80036; stroke-width: 1.0;\"/><polygon fill=\"#FFFFFF\" points=\"237.97,442.96,248.0287,425.3867,257.0257,436.113,237.97,442.96\" style=\"stroke: #A80036; stroke-width: 1.0;\"/><ellipse cx=\"253.6812\" cy=\"423.256\" fill=\"#A80036\" rx=\"2\" ry=\"2\" style=\"stroke: #A80036; stroke-width: 1.0;\"/><ellipse cx=\"260.1076\" cy=\"430.9177\" fill=\"#A80036\" rx=\"2\" ry=\"2\" style=\"stroke: #A80036; stroke-width: 1.0;\"/></a><!--MD5=[8e04057e7b3cbc0dca4fc78ea351e2da]\n",
       "reverse link E10 to E3--><a href=\"psysml:f2bac2b1-68d1-4631-bf1f-fa6cff2f703f\" target=\"_top\" title=\"psysml:f2bac2b1-68d1-4631-bf1f-fa6cff2f703f\" xlink:actuate=\"onRequest\" xlink:href=\"psysml:f2bac2b1-68d1-4631-bf1f-fa6cff2f703f\" xlink:show=\"new\" xlink:title=\"psysml:f2bac2b1-68d1-4631-bf1f-fa6cff2f703f\" xlink:type=\"simple\"><path d=\"M177.32,432.78 C148.25,398.15 111.68,341.3 131,291 C142.85,260.15 168.95,232.84 190.18,214.42 \" fill=\"none\" id=\"E10&lt;-E3\" style=\"stroke: #A80036; stroke-width: 1.0;\"/><polygon fill=\"#FFFFFF\" points=\"186.03,442.78,185.1026,435.6288,178.1448,433.7344,179.0722,440.8856,186.03,442.78\" style=\"stroke: #A80036; stroke-width: 1.0;\"/><text fill=\"#000000\" font-family=\"sans-serif\" font-size=\"13\" lengthAdjust=\"spacingAndGlyphs\" textLength=\"7\" x=\"132\" y=\"318.5669\">y</text></a><!--MD5=[8e04057e7b3cbc0dca4fc78ea351e2da]\n",
       "reverse link E10 to E3--><a href=\"psysml:f2bac2b1-68d1-4631-bf1f-fa6cff2f703f\" target=\"_top\" title=\"psysml:f2bac2b1-68d1-4631-bf1f-fa6cff2f703f\" xlink:actuate=\"onRequest\" xlink:href=\"psysml:f2bac2b1-68d1-4631-bf1f-fa6cff2f703f\" xlink:show=\"new\" xlink:title=\"psysml:f2bac2b1-68d1-4631-bf1f-fa6cff2f703f\" xlink:type=\"simple\"><path d=\"M207.3,429.69 C206.87,394.5 206.88,338.96 210,291 C211.31,270.91 213.83,248.69 216.22,230.21 \" fill=\"none\" id=\"E10&lt;-E3-1\" style=\"stroke: #A80036; stroke-width: 1.0;\"/><polygon fill=\"#FFFFFF\" points=\"207.5,443,211.4072,436.9392,207.3154,431.0014,203.4082,437.0622,207.5,443\" style=\"stroke: #A80036; stroke-width: 1.0;\"/><text fill=\"#000000\" font-family=\"sans-serif\" font-size=\"13\" lengthAdjust=\"spacingAndGlyphs\" textLength=\"7\" x=\"211\" y=\"318.5669\">y</text></a><!--MD5=[8e04057e7b3cbc0dca4fc78ea351e2da]\n",
       "reverse link E10 to E3--><a href=\"psysml:f2bac2b1-68d1-4631-bf1f-fa6cff2f703f\" target=\"_top\" title=\"psysml:f2bac2b1-68d1-4631-bf1f-fa6cff2f703f\" xlink:actuate=\"onRequest\" xlink:href=\"psysml:f2bac2b1-68d1-4631-bf1f-fa6cff2f703f\" xlink:show=\"new\" xlink:title=\"psysml:f2bac2b1-68d1-4631-bf1f-fa6cff2f703f\" xlink:type=\"simple\"><path d=\"M213.75,429.53 C214.56,424.01 215.34,418.35 216,413 C220.14,379.33 221.44,370.88 223,337 C223.94,316.58 223.1,311.44 223,291 C222.9,271.01 222.69,248.79 222.49,230.3 \" fill=\"none\" id=\"E10&lt;-E3-2\" style=\"stroke: #A80036; stroke-width: 1.0;\"/><polygon fill=\"#FFFFFF\" points=\"211.72,442.77,216.5832,437.4456,213.5387,430.9086,208.6756,436.2331,211.72,442.77\" style=\"stroke: #A80036; stroke-width: 1.0;\"/><text fill=\"#000000\" font-family=\"sans-serif\" font-size=\"13\" lengthAdjust=\"spacingAndGlyphs\" textLength=\"7\" x=\"224\" y=\"318.5669\">y</text></a><!--MD5=[604cbf994c02b74b117f728a71673cea]\n",
       "reverse link E10 to E6--><a href=\"psysml:f2bac2b1-68d1-4631-bf1f-fa6cff2f703f\" target=\"_top\" title=\"psysml:f2bac2b1-68d1-4631-bf1f-fa6cff2f703f\" xlink:actuate=\"onRequest\" xlink:href=\"psysml:f2bac2b1-68d1-4631-bf1f-fa6cff2f703f\" xlink:show=\"new\" xlink:title=\"psysml:f2bac2b1-68d1-4631-bf1f-fa6cff2f703f\" xlink:type=\"simple\"><path d=\"M216.43,501.99 C218.14,512.86 219.12,524.91 218,536 C217.01,545.85 214.91,556.64 212.9,565.59 \" fill=\"none\" id=\"E10&lt;-E6\" style=\"stroke: #A80036; stroke-width: 1.0;\"/><polygon fill=\"#FFFFFF\" points=\"213.96,489,211.1427,495.638,216.1866,500.7916,219.0038,494.1536,213.96,489\" style=\"stroke: #A80036; stroke-width: 1.0;\"/><text fill=\"#000000\" font-family=\"sans-serif\" font-size=\"13\" lengthAdjust=\"spacingAndGlyphs\" textLength=\"7\" x=\"219\" y=\"532.0669\">y</text></a><!--MD5=[604cbf994c02b74b117f728a71673cea]\n",
       "reverse link E10 to E6--><a href=\"psysml:f2bac2b1-68d1-4631-bf1f-fa6cff2f703f\" target=\"_top\" title=\"psysml:f2bac2b1-68d1-4631-bf1f-fa6cff2f703f\" xlink:actuate=\"onRequest\" xlink:href=\"psysml:f2bac2b1-68d1-4631-bf1f-fa6cff2f703f\" xlink:show=\"new\" xlink:title=\"psysml:f2bac2b1-68d1-4631-bf1f-fa6cff2f703f\" xlink:type=\"simple\"><path d=\"M172.04,498.87 C167.13,505.03 162.81,511.82 160,519 C152,539.45 171.29,559.33 187.75,571.84 \" fill=\"none\" id=\"E10&lt;-E6-1\" style=\"stroke: #A80036; stroke-width: 1.0;\"/><polygon fill=\"#FFFFFF\" points=\"180.73,489.16,173.7505,490.973,172.7396,498.1129,179.7191,496.2999,180.73,489.16\" style=\"stroke: #A80036; stroke-width: 1.0;\"/><text fill=\"#000000\" font-family=\"sans-serif\" font-size=\"13\" lengthAdjust=\"spacingAndGlyphs\" textLength=\"7\" x=\"161\" y=\"532.0669\">y</text></a><!--MD5=[604cbf994c02b74b117f728a71673cea]\n",
       "reverse link E10 to E6--><a href=\"psysml:f2bac2b1-68d1-4631-bf1f-fa6cff2f703f\" target=\"_top\" title=\"psysml:f2bac2b1-68d1-4631-bf1f-fa6cff2f703f\" xlink:actuate=\"onRequest\" xlink:href=\"psysml:f2bac2b1-68d1-4631-bf1f-fa6cff2f703f\" xlink:show=\"new\" xlink:title=\"psysml:f2bac2b1-68d1-4631-bf1f-fa6cff2f703f\" xlink:type=\"simple\"><path d=\"M208,502.33 C208,523.08 208,548.51 208,565.64 \" fill=\"none\" id=\"E10&lt;-E6-2\" style=\"stroke: #A80036; stroke-width: 1.0;\"/><polygon fill=\"#FFFFFF\" points=\"208,489.19,204,495.19,208,501.19,212,495.19,208,489.19\" style=\"stroke: #A80036; stroke-width: 1.0;\"/><text fill=\"#000000\" font-family=\"sans-serif\" font-size=\"13\" lengthAdjust=\"spacingAndGlyphs\" textLength=\"7\" x=\"209\" y=\"532.0669\">y</text></a><!--MD5=[2307cbafd2c93e617de76f63c54ce841]\n",
       "@startuml\r\n",
       " \r\n",
       "package \"PartTest\" as E1  [[psysml:c38775ed-c195-45a3-878f-69446059ff99 ]]  {\r\n",
       "comp usage \"f: A \" as E2 << << (P,limegreen) part>> [[psysml:133b9857-5562-4f09-a022-80109f8d4a7d ]] {\r\n",
       "}\r\n",
       "comp def \"A\" as E3 << << (B,green) >> [[psysml:41a43e73-47d4-427d-aa17-f57a90b2778c ]] {\r\n",
       "- - attributes - -\r\n",
       "x\r\n",
       "y:> A::x\r\n",
       "}\r\n",
       "comp usage \"b: B \" as E4 << << (P,limegreen) part>> [[psysml:23a90af0-4107-4bf0-84ea-ac7115753c4e ]] {\r\n",
       "}\r\n",
       "comp usage \"c: C \" as E5 << << (P,blue) port>> [[psysml:3bde4e3d-0323-4342-8ecc-6f2c3dab5224 ]] {\r\n",
       "}\r\n",
       "comp def \"<i>B</i>\" as E6 << << (B,green) >> [[psysml:c17c630d-59e9-4f7e-a520-276041a9c800 ]] {\r\n",
       "}\r\n",
       "comp usage \"<i>a</i>: A \" as E7 << << (P,limegreen) part>> [[psysml:4ea01713-b83a-4578-95eb-e0c0377cf261 ]] {\r\n",
       "}\r\n",
       "comp usage \"x: ~C \" as E8 << << (P,blue) port>> [[psysml:c9f90055-486d-4326-9691-bfe47f710c68 ]] {\r\n",
       "}\r\n",
       "package \"P\" as E9  [[psysml:78dea323-2f70-496c-aa91-db5f05f12a10 ]]  {\r\n",
       "}\r\n",
       "comp def \"C\" as E10 << <<(D,brown) port  def>> [[psysml:e209a1f3-de72-4850-a45f-7036acf7c094 ]] {\r\n",
       "}\r\n",
       "}\r\n",
       "E2 - -:|> E3 [[psysml:de99b855-827b-4779-9c99-7b4326eef43f ]] \r\n",
       "E3 *- - \"1\"E4 [[psysml:7d143534-3389-4013-881e-42b16664757f ]] \r\n",
       "E3 o- - \"1\"E5 [[psysml:01061be5-5fdc-439c-afe5-881fb8746c83 ]] \r\n",
       "E4 - -:|> E6 [[psysml:8d11eaae-af32-434c-8c3d-32f92418f4c8 ]] \r\n",
       "E6 *- - \"1\"E7 [[psysml:7466bf8a-1e84-4b05-9901-ce46ee446fa5 ]] \r\n",
       "E7 - -:|> E3 [[psysml:3c280f0c-0d5e-48e6-b009-cbd7db9e9beb ]] \r\n",
       "E6 o- - \"1\"E8 [[psysml:dcb35f57-14cb-4e2c-8543-9245438ead5d ]] \r\n",
       "E6 +- - E9 [[psysml:08766104-19a0-4aca-bf35-b4c81b8c6dcb ]] \r\n",
       "E5 - -:|> E10 [[psysml:568ef262-b92a-4cba-8a4b-19f4a197db7e ]] \r\n",
       "E10 o- - E3 [[psysml:f2bac2b1-68d1-4631-bf1f-fa6cff2f703f ]] : y\r\n",
       "E10 o- - E6 [[psysml:f2bac2b1-68d1-4631-bf1f-fa6cff2f703f ]] : y\r\n",
       "E10 o- - E3 [[psysml:f2bac2b1-68d1-4631-bf1f-fa6cff2f703f ]] : y\r\n",
       "E10 o- - E6 [[psysml:f2bac2b1-68d1-4631-bf1f-fa6cff2f703f ]] : y\r\n",
       "E10 o- - E3 [[psysml:f2bac2b1-68d1-4631-bf1f-fa6cff2f703f ]] : y\r\n",
       "E10 o- - E6 [[psysml:f2bac2b1-68d1-4631-bf1f-fa6cff2f703f ]] : y\r\n",
       "@enduml\r\n",
       "\n",
       "PlantUML version 1.2020.13(Sat Jun 13 12:26:38 UTC 2020)\n",
       "(EPL source distribution)\n",
       "Java Runtime: OpenJDK Runtime Environment\n",
       "JVM: OpenJDK 64-Bit Server VM\n",
       "Default Encoding: UTF-8\n",
       "Language: en\n",
       "Country: null\n",
       "--></g></svg>"
      ]
     },
     "execution_count": 36,
     "metadata": {},
     "output_type": "execute_result"
    }
   ],
   "source": [
    "%viz --style=\"PLANTUML\" --view=\"MIXED\" \"PartTest\""
   ]
  },
  {
   "cell_type": "code",
   "execution_count": 37,
   "id": "84694ad3",
   "metadata": {
    "execution": {
     "iopub.execute_input": "2022-02-05T16:55:45.233470Z",
     "iopub.status.busy": "2022-02-05T16:55:45.232986Z",
     "iopub.status.idle": "2022-02-05T16:55:45.298068Z",
     "shell.execute_reply": "2022-02-05T16:55:45.296489Z"
    }
   },
   "outputs": [
    {
     "data": {
      "image/svg+xml": [
       "<?xml version=\"1.0\" encoding=\"UTF-8\" standalone=\"no\"?><svg xmlns=\"http://www.w3.org/2000/svg\" xmlns:xlink=\"http://www.w3.org/1999/xlink\" contentScriptType=\"application/ecmascript\" contentStyleType=\"text/css\" height=\"760px\" preserveAspectRatio=\"none\" style=\"width:423px;height:760px;\" version=\"1.1\" viewBox=\"0 0 423 760\" width=\"423px\" zoomAndPan=\"magnify\"><defs/><g><!--MD5=[fbc87193dbaf4d95561dea2c320d4a47]\n",
       "cluster E1--><a href=\"psysml:c38775ed-c195-45a3-878f-69446059ff99\" target=\"_top\" title=\"psysml:c38775ed-c195-45a3-878f-69446059ff99\" xlink:actuate=\"onRequest\" xlink:href=\"psysml:c38775ed-c195-45a3-878f-69446059ff99\" xlink:show=\"new\" xlink:title=\"psysml:c38775ed-c195-45a3-878f-69446059ff99\" xlink:type=\"simple\"><polygon fill=\"#FFFFFF\" points=\"16,6,80,6,87,28.2969,401,28.2969,401,748,16,748,16,6\" style=\"stroke: #000000; stroke-width: 1.5;\"/><line style=\"stroke: #000000; stroke-width: 1.5;\" x1=\"16\" x2=\"87\" y1=\"28.2969\" y2=\"28.2969\"/><text fill=\"#000000\" font-family=\"sans-serif\" font-size=\"14\" font-weight=\"bold\" lengthAdjust=\"spacingAndGlyphs\" textLength=\"58\" x=\"20\" y=\"20.9951\">PartTest</text></a><!--MD5=[b4997ac47864f28c2f74865a473b2911]\n",
       "class E2--><a href=\"psysml:133b9857-5562-4f09-a022-80109f8d4a7d\" target=\"_top\" title=\"psysml:133b9857-5562-4f09-a022-80109f8d4a7d\" xlink:actuate=\"onRequest\" xlink:href=\"psysml:133b9857-5562-4f09-a022-80109f8d4a7d\" xlink:show=\"new\" xlink:title=\"psysml:133b9857-5562-4f09-a022-80109f8d4a7d\" xlink:type=\"simple\"><rect fill=\"#FFFFFF\" height=\"45.9375\" id=\"E2\" rx=\"10\" ry=\"10\" style=\"stroke: #383838; stroke-width: 1.5;\" width=\"42\" x=\"201\" y=\"41\"/><text fill=\"#000000\" font-family=\"sans-serif\" font-size=\"12\" font-style=\"italic\" lengthAdjust=\"spacingAndGlyphs\" textLength=\"40\" x=\"202\" y=\"57.1387\">«part»</text><text fill=\"#000000\" font-family=\"sans-serif\" font-size=\"12\" lengthAdjust=\"spacingAndGlyphs\" textLength=\"20\" x=\"210\" y=\"71.1074\">f: A</text><line style=\"stroke: #383838; stroke-width: 1.5;\" x1=\"202\" x2=\"242\" y1=\"78.9375\" y2=\"78.9375\"/></a><!--MD5=[09b614a08d8cba4a07c9adeb5e0fee81]\n",
       "class E3--><a href=\"psysml:41a43e73-47d4-427d-aa17-f57a90b2778c\" target=\"_top\" title=\"psysml:41a43e73-47d4-427d-aa17-f57a90b2778c\" xlink:actuate=\"onRequest\" xlink:href=\"psysml:41a43e73-47d4-427d-aa17-f57a90b2778c\" xlink:show=\"new\" xlink:title=\"psysml:41a43e73-47d4-427d-aa17-f57a90b2778c\" xlink:type=\"simple\"><rect fill=\"#FFFFFF\" height=\"88.3516\" id=\"E3\" style=\"stroke: #383838; stroke-width: 1.5;\" width=\"70\" x=\"187\" y=\"148\"/><text fill=\"#000000\" font-family=\"sans-serif\" font-size=\"12\" font-style=\"italic\" lengthAdjust=\"spacingAndGlyphs\" textLength=\"68\" x=\"188\" y=\"164.1387\">«part  def»</text><text fill=\"#000000\" font-family=\"sans-serif\" font-size=\"12\" lengthAdjust=\"spacingAndGlyphs\" textLength=\"8\" x=\"218\" y=\"178.1074\">A</text><line style=\"stroke: #383838; stroke-width: 1.5;\" x1=\"188\" x2=\"256\" y1=\"185.9375\" y2=\"185.9375\"/><text fill=\"#000000\" font-family=\"sans-serif\" font-size=\"11\" lengthAdjust=\"spacingAndGlyphs\" textLength=\"6\" x=\"193\" y=\"216.9526\">x</text><text fill=\"#000000\" font-family=\"sans-serif\" font-size=\"11\" lengthAdjust=\"spacingAndGlyphs\" textLength=\"44\" x=\"193\" y=\"229.7573\">y:&gt; A::x</text><line style=\"stroke: #383838; stroke-width: 1.0;\" x1=\"188\" x2=\"194.5\" y1=\"200.3398\" y2=\"200.3398\"/><text fill=\"#000000\" font-family=\"sans-serif\" font-size=\"11\" lengthAdjust=\"spacingAndGlyphs\" textLength=\"55\" x=\"194.5\" y=\"203.6479\">attributes</text><line style=\"stroke: #383838; stroke-width: 1.0;\" x1=\"249.5\" x2=\"256\" y1=\"200.3398\" y2=\"200.3398\"/></a><!--MD5=[ebbe1d658d1005bcc118a6aa81145e00]\n",
       "class E4--><a href=\"psysml:23a90af0-4107-4bf0-84ea-ac7115753c4e\" target=\"_top\" title=\"psysml:23a90af0-4107-4bf0-84ea-ac7115753c4e\" xlink:actuate=\"onRequest\" xlink:href=\"psysml:23a90af0-4107-4bf0-84ea-ac7115753c4e\" xlink:show=\"new\" xlink:title=\"psysml:23a90af0-4107-4bf0-84ea-ac7115753c4e\" xlink:type=\"simple\"><rect fill=\"#FFFFFF\" height=\"45.9375\" id=\"E4\" rx=\"10\" ry=\"10\" style=\"stroke: #383838; stroke-width: 1.5;\" width=\"42\" x=\"323\" y=\"373\"/><text fill=\"#000000\" font-family=\"sans-serif\" font-size=\"12\" font-style=\"italic\" lengthAdjust=\"spacingAndGlyphs\" textLength=\"40\" x=\"324\" y=\"389.1387\">«part»</text><text fill=\"#000000\" font-family=\"sans-serif\" font-size=\"12\" lengthAdjust=\"spacingAndGlyphs\" textLength=\"24\" x=\"330\" y=\"403.1074\">b: B</text><line style=\"stroke: #383838; stroke-width: 1.5;\" x1=\"324\" x2=\"364\" y1=\"410.9375\" y2=\"410.9375\"/></a><!--MD5=[270fce915f116d4de14055a7c1d9a0f3]\n",
       "class E5--><a href=\"psysml:3bde4e3d-0323-4342-8ecc-6f2c3dab5224\" target=\"_top\" title=\"psysml:3bde4e3d-0323-4342-8ecc-6f2c3dab5224\" xlink:actuate=\"onRequest\" xlink:href=\"psysml:3bde4e3d-0323-4342-8ecc-6f2c3dab5224\" xlink:show=\"new\" xlink:title=\"psysml:3bde4e3d-0323-4342-8ecc-6f2c3dab5224\" xlink:type=\"simple\"><rect fill=\"#FFFFFF\" height=\"45.9375\" id=\"E5\" rx=\"10\" ry=\"10\" style=\"stroke: #383838; stroke-width: 1.5;\" width=\"42\" x=\"306\" y=\"297\"/><text fill=\"#000000\" font-family=\"sans-serif\" font-size=\"12\" font-style=\"italic\" lengthAdjust=\"spacingAndGlyphs\" textLength=\"40\" x=\"307\" y=\"313.1387\">«port»</text><text fill=\"#000000\" font-family=\"sans-serif\" font-size=\"12\" lengthAdjust=\"spacingAndGlyphs\" textLength=\"23\" x=\"313.5\" y=\"327.1074\">c: C</text><line style=\"stroke: #383838; stroke-width: 1.5;\" x1=\"307\" x2=\"347\" y1=\"334.9375\" y2=\"334.9375\"/></a><!--MD5=[60a26617385b1d2d0262a64233df1f8d]\n",
       "class E6--><a href=\"psysml:c17c630d-59e9-4f7e-a520-276041a9c800\" target=\"_top\" title=\"psysml:c17c630d-59e9-4f7e-a520-276041a9c800\" xlink:actuate=\"onRequest\" xlink:href=\"psysml:c17c630d-59e9-4f7e-a520-276041a9c800\" xlink:show=\"new\" xlink:title=\"psysml:c17c630d-59e9-4f7e-a520-276041a9c800\" xlink:type=\"simple\"><rect fill=\"#FFFFFF\" height=\"45.9375\" id=\"E6\" style=\"stroke: #383838; stroke-width: 1.5;\" width=\"70\" x=\"190\" y=\"572\"/><text fill=\"#000000\" font-family=\"sans-serif\" font-size=\"12\" font-style=\"italic\" lengthAdjust=\"spacingAndGlyphs\" textLength=\"68\" x=\"191\" y=\"588.1387\">«part  def»</text><text fill=\"#000000\" font-family=\"sans-serif\" font-size=\"12\" font-style=\"italic\" lengthAdjust=\"spacingAndGlyphs\" textLength=\"8\" x=\"221\" y=\"602.1074\">B</text><line style=\"stroke: #383838; stroke-width: 1.5;\" x1=\"191\" x2=\"259\" y1=\"609.9375\" y2=\"609.9375\"/></a><!--MD5=[2156ba9850f5573cc1fc38a6a4b2f02b]\n",
       "class E7--><a href=\"psysml:4ea01713-b83a-4578-95eb-e0c0377cf261\" target=\"_top\" title=\"psysml:4ea01713-b83a-4578-95eb-e0c0377cf261\" xlink:actuate=\"onRequest\" xlink:href=\"psysml:4ea01713-b83a-4578-95eb-e0c0377cf261\" xlink:show=\"new\" xlink:title=\"psysml:4ea01713-b83a-4578-95eb-e0c0377cf261\" xlink:type=\"simple\"><rect fill=\"#FFFFFF\" height=\"45.9375\" id=\"E7\" rx=\"10\" ry=\"10\" style=\"stroke: #383838; stroke-width: 1.5;\" width=\"42\" x=\"68\" y=\"682.5\"/><text fill=\"#000000\" font-family=\"sans-serif\" font-size=\"12\" font-style=\"italic\" lengthAdjust=\"spacingAndGlyphs\" textLength=\"40\" x=\"69\" y=\"698.6387\">«part»</text><text fill=\"#000000\" font-family=\"sans-serif\" font-size=\"12\" font-style=\"italic\" lengthAdjust=\"spacingAndGlyphs\" textLength=\"8\" x=\"75\" y=\"712.6074\">a</text><text fill=\"#000000\" font-family=\"sans-serif\" font-size=\"12\" lengthAdjust=\"spacingAndGlyphs\" textLength=\"16\" x=\"83\" y=\"712.6074\">: A</text><line style=\"stroke: #383838; stroke-width: 1.5;\" x1=\"69\" x2=\"109\" y1=\"720.4375\" y2=\"720.4375\"/></a><!--MD5=[b9389687b975829384b498ac4b7476b2]\n",
       "class E8--><a href=\"psysml:c9f90055-486d-4326-9691-bfe47f710c68\" target=\"_top\" title=\"psysml:c9f90055-486d-4326-9691-bfe47f710c68\" xlink:actuate=\"onRequest\" xlink:href=\"psysml:c9f90055-486d-4326-9691-bfe47f710c68\" xlink:show=\"new\" xlink:title=\"psysml:c9f90055-486d-4326-9691-bfe47f710c68\" xlink:type=\"simple\"><rect fill=\"#FFFFFF\" height=\"45.9375\" id=\"E8\" rx=\"10\" ry=\"10\" style=\"stroke: #383838; stroke-width: 1.5;\" width=\"42\" x=\"228\" y=\"682.5\"/><text fill=\"#000000\" font-family=\"sans-serif\" font-size=\"12\" font-style=\"italic\" lengthAdjust=\"spacingAndGlyphs\" textLength=\"40\" x=\"229\" y=\"698.6387\">«port»</text><text fill=\"#000000\" font-family=\"sans-serif\" font-size=\"12\" lengthAdjust=\"spacingAndGlyphs\" textLength=\"32\" x=\"231\" y=\"712.6074\">x: ~C</text><line style=\"stroke: #383838; stroke-width: 1.5;\" x1=\"229\" x2=\"269\" y1=\"720.4375\" y2=\"720.4375\"/></a><!--MD5=[96f4274e9e20536e775497830990834d]\n",
       "class E10--><a href=\"psysml:e209a1f3-de72-4850-a45f-7036acf7c094\" target=\"_top\" title=\"psysml:e209a1f3-de72-4850-a45f-7036acf7c094\" xlink:actuate=\"onRequest\" xlink:href=\"psysml:e209a1f3-de72-4850-a45f-7036acf7c094\" xlink:show=\"new\" xlink:title=\"psysml:e209a1f3-de72-4850-a45f-7036acf7c094\" xlink:type=\"simple\"><rect fill=\"#FFFFFF\" height=\"45.9375\" id=\"E10\" style=\"stroke: #383838; stroke-width: 1.5;\" width=\"70\" x=\"190\" y=\"449\"/><text fill=\"#000000\" font-family=\"sans-serif\" font-size=\"12\" font-style=\"italic\" lengthAdjust=\"spacingAndGlyphs\" textLength=\"68\" x=\"191\" y=\"465.1387\">«port  def»</text><text fill=\"#000000\" font-family=\"sans-serif\" font-size=\"12\" lengthAdjust=\"spacingAndGlyphs\" textLength=\"8\" x=\"221\" y=\"479.1074\">C</text><line style=\"stroke: #383838; stroke-width: 1.5;\" x1=\"191\" x2=\"259\" y1=\"486.9375\" y2=\"486.9375\"/></a><a href=\"psysml:78dea323-2f70-496c-aa91-db5f05f12a10\" target=\"_top\" title=\"psysml:78dea323-2f70-496c-aa91-db5f05f12a10\" xlink:actuate=\"onRequest\" xlink:href=\"psysml:78dea323-2f70-496c-aa91-db5f05f12a10\" xlink:show=\"new\" xlink:title=\"psysml:78dea323-2f70-496c-aa91-db5f05f12a10\" xlink:type=\"simple\"><polygon fill=\"#FFFFFF\" points=\"163.5,679,178.5,679,185.5,701.2969,192.5,701.2969,192.5,731.5938,163.5,731.5938,163.5,679\" style=\"stroke: #000000; stroke-width: 1.5;\"/><line style=\"stroke: #000000; stroke-width: 1.5;\" x1=\"163.5\" x2=\"185.5\" y1=\"701.2969\" y2=\"701.2969\"/><text fill=\"#000000\" font-family=\"sans-serif\" font-size=\"14\" font-weight=\"bold\" lengthAdjust=\"spacingAndGlyphs\" textLength=\"9\" x=\"167.5\" y=\"693.9951\">P</text></a><!--MD5=[2720a5a1f2c3fca2055b230370638851]\n",
       "link E2 to E3--><a href=\"psysml:de99b855-827b-4779-9c99-7b4326eef43f\" target=\"_top\" title=\"psysml:de99b855-827b-4779-9c99-7b4326eef43f\" xlink:actuate=\"onRequest\" xlink:href=\"psysml:de99b855-827b-4779-9c99-7b4326eef43f\" xlink:show=\"new\" xlink:title=\"psysml:de99b855-827b-4779-9c99-7b4326eef43f\" xlink:type=\"simple\"><path d=\"M222,87.24 C222,98.62 222,113.11 222,127.62 \" fill=\"none\" id=\"E2-&gt;E3\" style=\"stroke: #383838; stroke-width: 1.0;\"/><polygon fill=\"#FFFFFF\" points=\"222,147.84,215,128.84,229,128.84,222,147.84\" style=\"stroke: #383838; stroke-width: 1.0;\"/><ellipse cx=\"217\" cy=\"123.14\" fill=\"#383838\" rx=\"2\" ry=\"2\" style=\"stroke: #383838; stroke-width: 1.0;\"/><ellipse cx=\"227\" cy=\"123.14\" fill=\"#383838\" rx=\"2\" ry=\"2\" style=\"stroke: #383838; stroke-width: 1.0;\"/></a><!--MD5=[4672eba38e49728da53d11aeb285b987]\n",
       "reverse link E3 to E4--><a href=\"psysml:7d143534-3389-4013-881e-42b16664757f\" target=\"_top\" title=\"psysml:7d143534-3389-4013-881e-42b16664757f\" xlink:actuate=\"onRequest\" xlink:href=\"psysml:7d143534-3389-4013-881e-42b16664757f\" xlink:show=\"new\" xlink:title=\"psysml:7d143534-3389-4013-881e-42b16664757f\" xlink:type=\"simple\"><path d=\"M269.08,212.65 C302.85,229.56 345.81,257.51 366,297 C378.38,321.22 367.51,352.31 357.12,372.91 \" fill=\"none\" id=\"E3&lt;-E4\" style=\"stroke: #383838; stroke-width: 1.0;\"/><polygon fill=\"#383838\" points=\"257.11,206.92,260.7919,213.1203,267.9314,212.1063,264.2495,205.906,257.11,206.92\" style=\"stroke: #383838; stroke-width: 1.0;\"/><text fill=\"#000000\" font-family=\"sans-serif\" font-size=\"13\" lengthAdjust=\"spacingAndGlyphs\" textLength=\"8\" x=\"352.5085\" y=\"363.0064\">1</text></a><!--MD5=[191cde3d490a3f6d7bb551fe3ddca469]\n",
       "reverse link E3 to E5--><a href=\"psysml:01061be5-5fdc-439c-afe5-881fb8746c83\" target=\"_top\" title=\"psysml:01061be5-5fdc-439c-afe5-881fb8746c83\" xlink:actuate=\"onRequest\" xlink:href=\"psysml:01061be5-5fdc-439c-afe5-881fb8746c83\" xlink:show=\"new\" xlink:title=\"psysml:01061be5-5fdc-439c-afe5-881fb8746c83\" xlink:type=\"simple\"><path d=\"M265.68,245.41 C280.65,263.38 296.6,282.52 308.48,296.78 \" fill=\"none\" id=\"E3&lt;-E5\" style=\"stroke: #383838; stroke-width: 1.0;\"/><polygon fill=\"#FFFFFF\" points=\"257.26,235.31,258.0312,242.4797,264.9461,244.5254,264.1749,237.3557,257.26,235.31\" style=\"stroke: #383838; stroke-width: 1.0;\"/><text fill=\"#000000\" font-family=\"sans-serif\" font-size=\"13\" lengthAdjust=\"spacingAndGlyphs\" textLength=\"8\" x=\"294.7093\" y=\"285.9999\">1</text></a><!--MD5=[79568f1e445c3877b6a54524624ccc7d]\n",
       "link E4 to E6--><a href=\"psysml:8d11eaae-af32-434c-8c3d-32f92418f4c8\" target=\"_top\" title=\"psysml:8d11eaae-af32-434c-8c3d-32f92418f4c8\" xlink:actuate=\"onRequest\" xlink:href=\"psysml:8d11eaae-af32-434c-8c3d-32f92418f4c8\" xlink:show=\"new\" xlink:title=\"psysml:8d11eaae-af32-434c-8c3d-32f92418f4c8\" xlink:type=\"simple\"><path d=\"M330.58,419.22 C310.75,452.04 273.34,513.98 248.79,554.62 \" fill=\"none\" id=\"E4-&gt;E6\" style=\"stroke: #383838; stroke-width: 1.0;\"/><polygon fill=\"#FFFFFF\" points=\"238.37,571.87,242.2063,551.9883,254.1882,559.2294,238.37,571.87\" style=\"stroke: #383838; stroke-width: 1.0;\"/><ellipse cx=\"246.8662\" cy=\"548.1444\" fill=\"#383838\" rx=\"2\" ry=\"2\" style=\"stroke: #383838; stroke-width: 1.0;\"/><ellipse cx=\"255.4247\" cy=\"553.3166\" fill=\"#383838\" rx=\"2\" ry=\"2\" style=\"stroke: #383838; stroke-width: 1.0;\"/></a><!--MD5=[3f50a3473f1dfb74d3f76443e03635af]\n",
       "reverse link E6 to E7--><a href=\"psysml:7466bf8a-1e84-4b05-9901-ce46ee446fa5\" target=\"_top\" title=\"psysml:7466bf8a-1e84-4b05-9901-ce46ee446fa5\" xlink:actuate=\"onRequest\" xlink:href=\"psysml:7466bf8a-1e84-4b05-9901-ce46ee446fa5\" xlink:show=\"new\" xlink:title=\"psysml:7466bf8a-1e84-4b05-9901-ce46ee446fa5\" xlink:type=\"simple\"><path d=\"M186.96,626.35 C162.12,646.16 130.61,671.3 110.14,687.64 \" fill=\"none\" id=\"E6&lt;-E7\" style=\"stroke: #383838; stroke-width: 1.0;\"/><polygon fill=\"#383838\" points=\"197.15,618.22,189.9656,618.8398,187.7744,625.7099,194.9589,625.0901,197.15,618.22\" style=\"stroke: #383838; stroke-width: 1.0;\"/><text fill=\"#000000\" font-family=\"sans-serif\" font-size=\"13\" lengthAdjust=\"spacingAndGlyphs\" textLength=\"8\" x=\"118.1534\" y=\"676.6545\">1</text></a><!--MD5=[14ccda38c055a5c0da953d572bc50960]\n",
       "link E7 to E3--><a href=\"psysml:3c280f0c-0d5e-48e6-b009-cbd7db9e9beb\" target=\"_top\" title=\"psysml:3c280f0c-0d5e-48e6-b009-cbd7db9e9beb\" xlink:actuate=\"onRequest\" xlink:href=\"psysml:3c280f0c-0d5e-48e6-b009-cbd7db9e9beb\" xlink:show=\"new\" xlink:title=\"psysml:3c280f0c-0d5e-48e6-b009-cbd7db9e9beb\" xlink:type=\"simple\"><path d=\"M69.41,682.1 C53.27,661.28 33,628.64 33,596 C33,319 33,319 33,319 C33,253.99 111.37,220.46 167.18,204.82 \" fill=\"none\" id=\"E7-&gt;E3\" style=\"stroke: #383838; stroke-width: 1.0;\"/><polygon fill=\"#FFFFFF\" points=\"186.89,199.76,170.2265,211.2633,166.7463,197.7028,186.89,199.76\" style=\"stroke: #383838; stroke-width: 1.0;\"/><ellipse cx=\"164.2082\" cy=\"210.743\" fill=\"#383838\" rx=\"2\" ry=\"2\" style=\"stroke: #383838; stroke-width: 1.0;\"/><ellipse cx=\"161.7224\" cy=\"201.0569\" fill=\"#383838\" rx=\"2\" ry=\"2\" style=\"stroke: #383838; stroke-width: 1.0;\"/></a><!--MD5=[f4cf0736d43fd73c4ef68817c49d37d5]\n",
       "reverse link E6 to E8--><a href=\"psysml:dcb35f57-14cb-4e2c-8543-9245438ead5d\" target=\"_top\" title=\"psysml:dcb35f57-14cb-4e2c-8543-9245438ead5d\" xlink:actuate=\"onRequest\" xlink:href=\"psysml:dcb35f57-14cb-4e2c-8543-9245438ead5d\" xlink:show=\"new\" xlink:title=\"psysml:dcb35f57-14cb-4e2c-8543-9245438ead5d\" xlink:type=\"simple\"><path d=\"M232.74,630.98 C236.47,647.83 240.83,667.54 244.09,682.31 \" fill=\"none\" id=\"E6&lt;-E8\" style=\"stroke: #383838; stroke-width: 1.0;\"/><polygon fill=\"#FFFFFF\" points=\"229.91,618.22,227.2956,624.9405,232.4936,629.9386,235.108,623.2181,229.91,618.22\" style=\"stroke: #383838; stroke-width: 1.0;\"/><text fill=\"#000000\" font-family=\"sans-serif\" font-size=\"13\" lengthAdjust=\"spacingAndGlyphs\" textLength=\"8\" x=\"233.8068\" y=\"671.5376\">1</text></a><!--MD5=[e88d06e5a652d73a6b19930eefe025a8]\n",
       "reverse link E6 to E9--><a href=\"psysml:08766104-19a0-4aca-bf35-b4c81b8c6dcb\" target=\"_top\" title=\"psysml:08766104-19a0-4aca-bf35-b4c81b8c6dcb\" xlink:actuate=\"onRequest\" xlink:href=\"psysml:08766104-19a0-4aca-bf35-b4c81b8c6dcb\" xlink:show=\"new\" xlink:title=\"psysml:08766104-19a0-4aca-bf35-b4c81b8c6dcb\" xlink:type=\"simple\"><path d=\"M209.38,632.06 C202.74,647.39 195.15,664.91 189.1,678.88 \" fill=\"none\" id=\"E6&lt;-E9\" style=\"stroke: #383838; stroke-width: 1.0;\"/><ellipse cx=\"212.2011\" cy=\"625.5613\" fill=\"#FFFFFF\" rx=\"8\" ry=\"8\" style=\"stroke: #383838; stroke-width: 1.0;\"/><line style=\"stroke: #383838; stroke-width: 1.0;\" x1=\"209.0221\" x2=\"215.38\" y1=\"632.9026\" y2=\"618.22\"/><line style=\"stroke: #383838; stroke-width: 1.0;\" x1=\"204.8598\" x2=\"219.5423\" y1=\"622.3823\" y2=\"628.7402\"/></a><!--MD5=[f78a29d5932556fa1060671a2a6507d8]\n",
       "link E5 to E10--><a href=\"psysml:568ef262-b92a-4cba-8a4b-19f4a197db7e\" target=\"_top\" title=\"psysml:568ef262-b92a-4cba-8a4b-19f4a197db7e\" xlink:actuate=\"onRequest\" xlink:href=\"psysml:568ef262-b92a-4cba-8a4b-19f4a197db7e\" xlink:show=\"new\" xlink:title=\"psysml:568ef262-b92a-4cba-8a4b-19f4a197db7e\" xlink:type=\"simple\"><path d=\"M315.99,343.2 C305.49,363.59 288.69,394.31 271,419 C267.54,423.82 263.72,428.71 259.79,433.47 \" fill=\"none\" id=\"E5-&gt;E10\" style=\"stroke: #383838; stroke-width: 1.0;\"/><polygon fill=\"#FFFFFF\" points=\"246.44,448.81,253.6429,429.886,264.1988,439.0824,246.44,448.81\" style=\"stroke: #383838; stroke-width: 1.0;\"/><ellipse cx=\"258.8951\" cy=\"426.902\" fill=\"#383838\" rx=\"2\" ry=\"2\" style=\"stroke: #383838; stroke-width: 1.0;\"/><ellipse cx=\"266.435\" cy=\"433.4709\" fill=\"#383838\" rx=\"2\" ry=\"2\" style=\"stroke: #383838; stroke-width: 1.0;\"/></a><!--MD5=[8e04057e7b3cbc0dca4fc78ea351e2da]\n",
       "reverse link E10 to E3--><a href=\"psysml:f2bac2b1-68d1-4631-bf1f-fa6cff2f703f\" target=\"_top\" title=\"psysml:f2bac2b1-68d1-4631-bf1f-fa6cff2f703f\" xlink:actuate=\"onRequest\" xlink:href=\"psysml:f2bac2b1-68d1-4631-bf1f-fa6cff2f703f\" xlink:show=\"new\" xlink:title=\"psysml:f2bac2b1-68d1-4631-bf1f-fa6cff2f703f\" xlink:type=\"simple\"><path d=\"M191.07,439.41 C168.36,415.54 140.89,380.56 131,343 C125.79,323.23 123.81,316.14 131,297 C142.22,267.13 166.35,240.23 186.94,221.27 \" fill=\"none\" id=\"E10&lt;-E3\" style=\"stroke: #383838; stroke-width: 1.0;\"/><polygon fill=\"#FFFFFF\" points=\"200.44,448.94,199.0863,441.8571,192.0275,440.3825,193.3813,447.4654,200.44,448.94\" style=\"stroke: #383838; stroke-width: 1.0;\"/><text fill=\"#000000\" font-family=\"sans-serif\" font-size=\"13\" lengthAdjust=\"spacingAndGlyphs\" textLength=\"7\" x=\"132\" y=\"324.5669\">y</text></a><!--MD5=[8e04057e7b3cbc0dca4fc78ea351e2da]\n",
       "reverse link E10 to E3--><a href=\"psysml:f2bac2b1-68d1-4631-bf1f-fa6cff2f703f\" target=\"_top\" title=\"psysml:f2bac2b1-68d1-4631-bf1f-fa6cff2f703f\" xlink:actuate=\"onRequest\" xlink:href=\"psysml:f2bac2b1-68d1-4631-bf1f-fa6cff2f703f\" xlink:show=\"new\" xlink:title=\"psysml:f2bac2b1-68d1-4631-bf1f-fa6cff2f703f\" xlink:type=\"simple\"><path d=\"M218.94,435.48 C213.66,400.35 207.24,345.02 210,297 C211.15,276.95 213.55,254.83 215.89,236.17 \" fill=\"none\" id=\"E10&lt;-E3-1\" style=\"stroke: #383838; stroke-width: 1.0;\"/><polygon fill=\"#FFFFFF\" points=\"221.04,448.78,224.0549,442.2294,219.1678,436.927,216.1529,443.4776,221.04,448.78\" style=\"stroke: #383838; stroke-width: 1.0;\"/><text fill=\"#000000\" font-family=\"sans-serif\" font-size=\"13\" lengthAdjust=\"spacingAndGlyphs\" textLength=\"7\" x=\"211\" y=\"324.5669\">y</text></a><!--MD5=[8e04057e7b3cbc0dca4fc78ea351e2da]\n",
       "reverse link E10 to E3--><a href=\"psysml:f2bac2b1-68d1-4631-bf1f-fa6cff2f703f\" target=\"_top\" title=\"psysml:f2bac2b1-68d1-4631-bf1f-fa6cff2f703f\" xlink:actuate=\"onRequest\" xlink:href=\"psysml:f2bac2b1-68d1-4631-bf1f-fa6cff2f703f\" xlink:show=\"new\" xlink:title=\"psysml:f2bac2b1-68d1-4631-bf1f-fa6cff2f703f\" xlink:type=\"simple\"><path d=\"M224.62,435.77 C224.07,384.92 223.06,291.06 222.47,236.13 \" fill=\"none\" id=\"E10&lt;-E3-2\" style=\"stroke: #383838; stroke-width: 1.0;\"/><polygon fill=\"#FFFFFF\" points=\"224.76,448.9,228.6938,442.8564,224.6281,436.9007,220.6943,442.9443,224.76,448.9\" style=\"stroke: #383838; stroke-width: 1.0;\"/><text fill=\"#000000\" font-family=\"sans-serif\" font-size=\"13\" lengthAdjust=\"spacingAndGlyphs\" textLength=\"7\" x=\"224\" y=\"324.5669\">y</text></a><!--MD5=[604cbf994c02b74b117f728a71673cea]\n",
       "reverse link E10 to E6--><a href=\"psysml:f2bac2b1-68d1-4631-bf1f-fa6cff2f703f\" target=\"_top\" title=\"psysml:f2bac2b1-68d1-4631-bf1f-fa6cff2f703f\" xlink:actuate=\"onRequest\" xlink:href=\"psysml:f2bac2b1-68d1-4631-bf1f-fa6cff2f703f\" xlink:show=\"new\" xlink:title=\"psysml:f2bac2b1-68d1-4631-bf1f-fa6cff2f703f\" xlink:type=\"simple\"><path d=\"M233.39,508.23 C235.07,519.04 236.05,530.99 235,542 C234.06,551.88 232.13,562.68 230.22,571.87 \" fill=\"none\" id=\"E10&lt;-E6\" style=\"stroke: #383838; stroke-width: 1.0;\"/><polygon fill=\"#FFFFFF\" points=\"230.97,495.31,228.1398,501.9425,233.1735,507.106,236.0037,500.4735,230.97,495.31\" style=\"stroke: #383838; stroke-width: 1.0;\"/><text fill=\"#000000\" font-family=\"sans-serif\" font-size=\"13\" lengthAdjust=\"spacingAndGlyphs\" textLength=\"7\" x=\"236\" y=\"538.0669\">y</text></a><!--MD5=[604cbf994c02b74b117f728a71673cea]\n",
       "reverse link E10 to E6--><a href=\"psysml:f2bac2b1-68d1-4631-bf1f-fa6cff2f703f\" target=\"_top\" title=\"psysml:f2bac2b1-68d1-4631-bf1f-fa6cff2f703f\" xlink:actuate=\"onRequest\" xlink:href=\"psysml:f2bac2b1-68d1-4631-bf1f-fa6cff2f703f\" xlink:show=\"new\" xlink:title=\"psysml:f2bac2b1-68d1-4631-bf1f-fa6cff2f703f\" xlink:type=\"simple\"><path d=\"M189.04,504.87 C184.13,511.03 179.81,517.82 177,525 C170.3,542.12 181.83,559.11 195.26,571.94 \" fill=\"none\" id=\"E10&lt;-E6-1\" style=\"stroke: #383838; stroke-width: 1.0;\"/><polygon fill=\"#FFFFFF\" points=\"197.73,495.16,190.7505,496.973,189.7396,504.1129,196.7191,502.2999,197.73,495.16\" style=\"stroke: #383838; stroke-width: 1.0;\"/><text fill=\"#000000\" font-family=\"sans-serif\" font-size=\"13\" lengthAdjust=\"spacingAndGlyphs\" textLength=\"7\" x=\"178\" y=\"538.0669\">y</text></a><!--MD5=[604cbf994c02b74b117f728a71673cea]\n",
       "reverse link E10 to E6--><a href=\"psysml:f2bac2b1-68d1-4631-bf1f-fa6cff2f703f\" target=\"_top\" title=\"psysml:f2bac2b1-68d1-4631-bf1f-fa6cff2f703f\" xlink:actuate=\"onRequest\" xlink:href=\"psysml:f2bac2b1-68d1-4631-bf1f-fa6cff2f703f\" xlink:show=\"new\" xlink:title=\"psysml:f2bac2b1-68d1-4631-bf1f-fa6cff2f703f\" xlink:type=\"simple\"><path d=\"M225,508.22 C225,528.81 225,554.16 225,571.95 \" fill=\"none\" id=\"E10&lt;-E6-2\" style=\"stroke: #383838; stroke-width: 1.0;\"/><polygon fill=\"#FFFFFF\" points=\"225,495.19,221,501.19,225,507.19,229,501.19,225,495.19\" style=\"stroke: #383838; stroke-width: 1.0;\"/><text fill=\"#000000\" font-family=\"sans-serif\" font-size=\"13\" lengthAdjust=\"spacingAndGlyphs\" textLength=\"7\" x=\"226\" y=\"538.0669\">y</text></a><!--MD5=[8f55a3c04f35ccc79e375c01efca2860]\n",
       "@startuml\r\n",
       "skinparam monochrome true\r\n",
       "skinparam classbackgroundcolor white\r\n",
       "skinparam shadowing false\r\n",
       "skinparam wrapWidth 300\r\n",
       "hide circle\r\n",
       "\r\n",
       "package \"PartTest\" as E1  [[psysml:c38775ed-c195-45a3-878f-69446059ff99 ]]  {\r\n",
       "comp usage \"f: A \" as E2  <<(T,blue) part>> [[psysml:133b9857-5562-4f09-a022-80109f8d4a7d ]] {\r\n",
       "}\r\n",
       "comp def \"A\" as E3  <<(T,blue) part  def>> [[psysml:41a43e73-47d4-427d-aa17-f57a90b2778c ]] {\r\n",
       "- - attributes - -\r\n",
       "x\r\n",
       "y:> A::x\r\n",
       "}\r\n",
       "comp usage \"b: B \" as E4  <<(T,blue) part>> [[psysml:23a90af0-4107-4bf0-84ea-ac7115753c4e ]] {\r\n",
       "}\r\n",
       "comp usage \"c: C \" as E5  <<(T,blue) port>> [[psysml:3bde4e3d-0323-4342-8ecc-6f2c3dab5224 ]] {\r\n",
       "}\r\n",
       "comp def \"<i>B</i>\" as E6  <<(T,blue) part  def>> [[psysml:c17c630d-59e9-4f7e-a520-276041a9c800 ]] {\r\n",
       "}\r\n",
       "comp usage \"<i>a</i>: A \" as E7  <<(T,blue) part>> [[psysml:4ea01713-b83a-4578-95eb-e0c0377cf261 ]] {\r\n",
       "}\r\n",
       "comp usage \"x: ~C \" as E8  <<(T,blue) port>> [[psysml:c9f90055-486d-4326-9691-bfe47f710c68 ]] {\r\n",
       "}\r\n",
       "package \"P\" as E9  [[psysml:78dea323-2f70-496c-aa91-db5f05f12a10 ]]  {\r\n",
       "}\r\n",
       "comp def \"C\" as E10  <<(T,blue) port  def>> [[psysml:e209a1f3-de72-4850-a45f-7036acf7c094 ]] {\r\n",
       "}\r\n",
       "}\r\n",
       "E2 - -:|> E3 [[psysml:de99b855-827b-4779-9c99-7b4326eef43f ]] \r\n",
       "E3 *- - \"1\"E4 [[psysml:7d143534-3389-4013-881e-42b16664757f ]] \r\n",
       "E3 o- - \"1\"E5 [[psysml:01061be5-5fdc-439c-afe5-881fb8746c83 ]] \r\n",
       "E4 - -:|> E6 [[psysml:8d11eaae-af32-434c-8c3d-32f92418f4c8 ]] \r\n",
       "E6 *- - \"1\"E7 [[psysml:7466bf8a-1e84-4b05-9901-ce46ee446fa5 ]] \r\n",
       "E7 - -:|> E3 [[psysml:3c280f0c-0d5e-48e6-b009-cbd7db9e9beb ]] \r\n",
       "E6 o- - \"1\"E8 [[psysml:dcb35f57-14cb-4e2c-8543-9245438ead5d ]] \r\n",
       "E6 +- - E9 [[psysml:08766104-19a0-4aca-bf35-b4c81b8c6dcb ]] \r\n",
       "E5 - -:|> E10 [[psysml:568ef262-b92a-4cba-8a4b-19f4a197db7e ]] \r\n",
       "E10 o- - E3 [[psysml:f2bac2b1-68d1-4631-bf1f-fa6cff2f703f ]] : y\r\n",
       "E10 o- - E6 [[psysml:f2bac2b1-68d1-4631-bf1f-fa6cff2f703f ]] : y\r\n",
       "E10 o- - E3 [[psysml:f2bac2b1-68d1-4631-bf1f-fa6cff2f703f ]] : y\r\n",
       "E10 o- - E6 [[psysml:f2bac2b1-68d1-4631-bf1f-fa6cff2f703f ]] : y\r\n",
       "E10 o- - E3 [[psysml:f2bac2b1-68d1-4631-bf1f-fa6cff2f703f ]] : y\r\n",
       "E10 o- - E6 [[psysml:f2bac2b1-68d1-4631-bf1f-fa6cff2f703f ]] : y\r\n",
       "@enduml\r\n",
       "\n",
       "PlantUML version 1.2020.13(Sat Jun 13 12:26:38 UTC 2020)\n",
       "(EPL source distribution)\n",
       "Java Runtime: OpenJDK Runtime Environment\n",
       "JVM: OpenJDK 64-Bit Server VM\n",
       "Default Encoding: UTF-8\n",
       "Language: en\n",
       "Country: null\n",
       "--></g></svg>"
      ]
     },
     "execution_count": 37,
     "metadata": {},
     "output_type": "execute_result"
    }
   ],
   "source": [
    "%viz --style=\"DEFAULT\" --view=\"Default\" \"PartTest\""
   ]
  },
  {
   "cell_type": "code",
   "execution_count": 38,
   "id": "5ed11500",
   "metadata": {
    "execution": {
     "iopub.execute_input": "2022-02-05T16:55:45.347769Z",
     "iopub.status.busy": "2022-02-05T16:55:45.347289Z",
     "iopub.status.idle": "2022-02-05T16:55:45.405529Z",
     "shell.execute_reply": "2022-02-05T16:55:45.405215Z"
    }
   },
   "outputs": [
    {
     "data": {
      "image/svg+xml": [
       "<?xml version=\"1.0\" encoding=\"UTF-8\" standalone=\"no\"?><svg xmlns=\"http://www.w3.org/2000/svg\" xmlns:xlink=\"http://www.w3.org/1999/xlink\" contentScriptType=\"application/ecmascript\" contentStyleType=\"text/css\" height=\"760px\" preserveAspectRatio=\"none\" style=\"width:423px;height:760px;\" version=\"1.1\" viewBox=\"0 0 423 760\" width=\"423px\" zoomAndPan=\"magnify\"><defs/><g><!--MD5=[fbc87193dbaf4d95561dea2c320d4a47]\n",
       "cluster E1--><a href=\"psysml:c38775ed-c195-45a3-878f-69446059ff99\" target=\"_top\" title=\"psysml:c38775ed-c195-45a3-878f-69446059ff99\" xlink:actuate=\"onRequest\" xlink:href=\"psysml:c38775ed-c195-45a3-878f-69446059ff99\" xlink:show=\"new\" xlink:title=\"psysml:c38775ed-c195-45a3-878f-69446059ff99\" xlink:type=\"simple\"><polygon fill=\"#FFFFFF\" points=\"16,6,80,6,87,28.2969,401,28.2969,401,748,16,748,16,6\" style=\"stroke: #000000; stroke-width: 1.5;\"/><line style=\"stroke: #000000; stroke-width: 1.5;\" x1=\"16\" x2=\"87\" y1=\"28.2969\" y2=\"28.2969\"/><text fill=\"#000000\" font-family=\"sans-serif\" font-size=\"14\" font-weight=\"bold\" lengthAdjust=\"spacingAndGlyphs\" textLength=\"58\" x=\"20\" y=\"20.9951\">PartTest</text></a><!--MD5=[b4997ac47864f28c2f74865a473b2911]\n",
       "class E2--><a href=\"psysml:133b9857-5562-4f09-a022-80109f8d4a7d\" target=\"_top\" title=\"psysml:133b9857-5562-4f09-a022-80109f8d4a7d\" xlink:actuate=\"onRequest\" xlink:href=\"psysml:133b9857-5562-4f09-a022-80109f8d4a7d\" xlink:show=\"new\" xlink:title=\"psysml:133b9857-5562-4f09-a022-80109f8d4a7d\" xlink:type=\"simple\"><rect fill=\"#FFFFFF\" height=\"45.9375\" id=\"E2\" rx=\"10\" ry=\"10\" style=\"stroke: #383838; stroke-width: 1.5;\" width=\"42\" x=\"201\" y=\"41\"/><text fill=\"#000000\" font-family=\"sans-serif\" font-size=\"12\" font-style=\"italic\" lengthAdjust=\"spacingAndGlyphs\" textLength=\"40\" x=\"202\" y=\"57.1387\">«part»</text><text fill=\"#000000\" font-family=\"sans-serif\" font-size=\"12\" lengthAdjust=\"spacingAndGlyphs\" textLength=\"20\" x=\"210\" y=\"71.1074\">f: A</text><line style=\"stroke: #383838; stroke-width: 1.5;\" x1=\"202\" x2=\"242\" y1=\"78.9375\" y2=\"78.9375\"/></a><!--MD5=[09b614a08d8cba4a07c9adeb5e0fee81]\n",
       "class E3--><a href=\"psysml:41a43e73-47d4-427d-aa17-f57a90b2778c\" target=\"_top\" title=\"psysml:41a43e73-47d4-427d-aa17-f57a90b2778c\" xlink:actuate=\"onRequest\" xlink:href=\"psysml:41a43e73-47d4-427d-aa17-f57a90b2778c\" xlink:show=\"new\" xlink:title=\"psysml:41a43e73-47d4-427d-aa17-f57a90b2778c\" xlink:type=\"simple\"><rect fill=\"#FFFFFF\" height=\"88.3516\" id=\"E3\" style=\"stroke: #383838; stroke-width: 1.5;\" width=\"70\" x=\"187\" y=\"148\"/><text fill=\"#000000\" font-family=\"sans-serif\" font-size=\"12\" font-style=\"italic\" lengthAdjust=\"spacingAndGlyphs\" textLength=\"68\" x=\"188\" y=\"164.1387\">«part  def»</text><text fill=\"#000000\" font-family=\"sans-serif\" font-size=\"12\" lengthAdjust=\"spacingAndGlyphs\" textLength=\"8\" x=\"218\" y=\"178.1074\">A</text><line style=\"stroke: #383838; stroke-width: 1.5;\" x1=\"188\" x2=\"256\" y1=\"185.9375\" y2=\"185.9375\"/><text fill=\"#000000\" font-family=\"sans-serif\" font-size=\"11\" lengthAdjust=\"spacingAndGlyphs\" textLength=\"6\" x=\"193\" y=\"216.9526\">x</text><text fill=\"#000000\" font-family=\"sans-serif\" font-size=\"11\" lengthAdjust=\"spacingAndGlyphs\" textLength=\"44\" x=\"193\" y=\"229.7573\">y:&gt; A::x</text><line style=\"stroke: #383838; stroke-width: 1.0;\" x1=\"188\" x2=\"194.5\" y1=\"200.3398\" y2=\"200.3398\"/><text fill=\"#000000\" font-family=\"sans-serif\" font-size=\"11\" lengthAdjust=\"spacingAndGlyphs\" textLength=\"55\" x=\"194.5\" y=\"203.6479\">attributes</text><line style=\"stroke: #383838; stroke-width: 1.0;\" x1=\"249.5\" x2=\"256\" y1=\"200.3398\" y2=\"200.3398\"/></a><!--MD5=[ebbe1d658d1005bcc118a6aa81145e00]\n",
       "class E4--><a href=\"psysml:23a90af0-4107-4bf0-84ea-ac7115753c4e\" target=\"_top\" title=\"psysml:23a90af0-4107-4bf0-84ea-ac7115753c4e\" xlink:actuate=\"onRequest\" xlink:href=\"psysml:23a90af0-4107-4bf0-84ea-ac7115753c4e\" xlink:show=\"new\" xlink:title=\"psysml:23a90af0-4107-4bf0-84ea-ac7115753c4e\" xlink:type=\"simple\"><rect fill=\"#FFFFFF\" height=\"45.9375\" id=\"E4\" rx=\"10\" ry=\"10\" style=\"stroke: #383838; stroke-width: 1.5;\" width=\"42\" x=\"323\" y=\"373\"/><text fill=\"#000000\" font-family=\"sans-serif\" font-size=\"12\" font-style=\"italic\" lengthAdjust=\"spacingAndGlyphs\" textLength=\"40\" x=\"324\" y=\"389.1387\">«part»</text><text fill=\"#000000\" font-family=\"sans-serif\" font-size=\"12\" lengthAdjust=\"spacingAndGlyphs\" textLength=\"24\" x=\"330\" y=\"403.1074\">b: B</text><line style=\"stroke: #383838; stroke-width: 1.5;\" x1=\"324\" x2=\"364\" y1=\"410.9375\" y2=\"410.9375\"/></a><!--MD5=[270fce915f116d4de14055a7c1d9a0f3]\n",
       "class E5--><a href=\"psysml:3bde4e3d-0323-4342-8ecc-6f2c3dab5224\" target=\"_top\" title=\"psysml:3bde4e3d-0323-4342-8ecc-6f2c3dab5224\" xlink:actuate=\"onRequest\" xlink:href=\"psysml:3bde4e3d-0323-4342-8ecc-6f2c3dab5224\" xlink:show=\"new\" xlink:title=\"psysml:3bde4e3d-0323-4342-8ecc-6f2c3dab5224\" xlink:type=\"simple\"><rect fill=\"#FFFFFF\" height=\"45.9375\" id=\"E5\" rx=\"10\" ry=\"10\" style=\"stroke: #383838; stroke-width: 1.5;\" width=\"42\" x=\"306\" y=\"297\"/><text fill=\"#000000\" font-family=\"sans-serif\" font-size=\"12\" font-style=\"italic\" lengthAdjust=\"spacingAndGlyphs\" textLength=\"40\" x=\"307\" y=\"313.1387\">«port»</text><text fill=\"#000000\" font-family=\"sans-serif\" font-size=\"12\" lengthAdjust=\"spacingAndGlyphs\" textLength=\"23\" x=\"313.5\" y=\"327.1074\">c: C</text><line style=\"stroke: #383838; stroke-width: 1.5;\" x1=\"307\" x2=\"347\" y1=\"334.9375\" y2=\"334.9375\"/></a><!--MD5=[60a26617385b1d2d0262a64233df1f8d]\n",
       "class E6--><a href=\"psysml:c17c630d-59e9-4f7e-a520-276041a9c800\" target=\"_top\" title=\"psysml:c17c630d-59e9-4f7e-a520-276041a9c800\" xlink:actuate=\"onRequest\" xlink:href=\"psysml:c17c630d-59e9-4f7e-a520-276041a9c800\" xlink:show=\"new\" xlink:title=\"psysml:c17c630d-59e9-4f7e-a520-276041a9c800\" xlink:type=\"simple\"><rect fill=\"#FFFFFF\" height=\"45.9375\" id=\"E6\" style=\"stroke: #383838; stroke-width: 1.5;\" width=\"70\" x=\"190\" y=\"572\"/><text fill=\"#000000\" font-family=\"sans-serif\" font-size=\"12\" font-style=\"italic\" lengthAdjust=\"spacingAndGlyphs\" textLength=\"68\" x=\"191\" y=\"588.1387\">«part  def»</text><text fill=\"#000000\" font-family=\"sans-serif\" font-size=\"12\" font-style=\"italic\" lengthAdjust=\"spacingAndGlyphs\" textLength=\"8\" x=\"221\" y=\"602.1074\">B</text><line style=\"stroke: #383838; stroke-width: 1.5;\" x1=\"191\" x2=\"259\" y1=\"609.9375\" y2=\"609.9375\"/></a><!--MD5=[2156ba9850f5573cc1fc38a6a4b2f02b]\n",
       "class E7--><a href=\"psysml:4ea01713-b83a-4578-95eb-e0c0377cf261\" target=\"_top\" title=\"psysml:4ea01713-b83a-4578-95eb-e0c0377cf261\" xlink:actuate=\"onRequest\" xlink:href=\"psysml:4ea01713-b83a-4578-95eb-e0c0377cf261\" xlink:show=\"new\" xlink:title=\"psysml:4ea01713-b83a-4578-95eb-e0c0377cf261\" xlink:type=\"simple\"><rect fill=\"#FFFFFF\" height=\"45.9375\" id=\"E7\" rx=\"10\" ry=\"10\" style=\"stroke: #383838; stroke-width: 1.5;\" width=\"42\" x=\"68\" y=\"682.5\"/><text fill=\"#000000\" font-family=\"sans-serif\" font-size=\"12\" font-style=\"italic\" lengthAdjust=\"spacingAndGlyphs\" textLength=\"40\" x=\"69\" y=\"698.6387\">«part»</text><text fill=\"#000000\" font-family=\"sans-serif\" font-size=\"12\" font-style=\"italic\" lengthAdjust=\"spacingAndGlyphs\" textLength=\"8\" x=\"75\" y=\"712.6074\">a</text><text fill=\"#000000\" font-family=\"sans-serif\" font-size=\"12\" lengthAdjust=\"spacingAndGlyphs\" textLength=\"16\" x=\"83\" y=\"712.6074\">: A</text><line style=\"stroke: #383838; stroke-width: 1.5;\" x1=\"69\" x2=\"109\" y1=\"720.4375\" y2=\"720.4375\"/></a><!--MD5=[b9389687b975829384b498ac4b7476b2]\n",
       "class E8--><a href=\"psysml:c9f90055-486d-4326-9691-bfe47f710c68\" target=\"_top\" title=\"psysml:c9f90055-486d-4326-9691-bfe47f710c68\" xlink:actuate=\"onRequest\" xlink:href=\"psysml:c9f90055-486d-4326-9691-bfe47f710c68\" xlink:show=\"new\" xlink:title=\"psysml:c9f90055-486d-4326-9691-bfe47f710c68\" xlink:type=\"simple\"><rect fill=\"#FFFFFF\" height=\"45.9375\" id=\"E8\" rx=\"10\" ry=\"10\" style=\"stroke: #383838; stroke-width: 1.5;\" width=\"42\" x=\"228\" y=\"682.5\"/><text fill=\"#000000\" font-family=\"sans-serif\" font-size=\"12\" font-style=\"italic\" lengthAdjust=\"spacingAndGlyphs\" textLength=\"40\" x=\"229\" y=\"698.6387\">«port»</text><text fill=\"#000000\" font-family=\"sans-serif\" font-size=\"12\" lengthAdjust=\"spacingAndGlyphs\" textLength=\"32\" x=\"231\" y=\"712.6074\">x: ~C</text><line style=\"stroke: #383838; stroke-width: 1.5;\" x1=\"229\" x2=\"269\" y1=\"720.4375\" y2=\"720.4375\"/></a><!--MD5=[96f4274e9e20536e775497830990834d]\n",
       "class E10--><a href=\"psysml:e209a1f3-de72-4850-a45f-7036acf7c094\" target=\"_top\" title=\"psysml:e209a1f3-de72-4850-a45f-7036acf7c094\" xlink:actuate=\"onRequest\" xlink:href=\"psysml:e209a1f3-de72-4850-a45f-7036acf7c094\" xlink:show=\"new\" xlink:title=\"psysml:e209a1f3-de72-4850-a45f-7036acf7c094\" xlink:type=\"simple\"><rect fill=\"#FFFFFF\" height=\"45.9375\" id=\"E10\" style=\"stroke: #383838; stroke-width: 1.5;\" width=\"70\" x=\"190\" y=\"449\"/><text fill=\"#000000\" font-family=\"sans-serif\" font-size=\"12\" font-style=\"italic\" lengthAdjust=\"spacingAndGlyphs\" textLength=\"68\" x=\"191\" y=\"465.1387\">«port  def»</text><text fill=\"#000000\" font-family=\"sans-serif\" font-size=\"12\" lengthAdjust=\"spacingAndGlyphs\" textLength=\"8\" x=\"221\" y=\"479.1074\">C</text><line style=\"stroke: #383838; stroke-width: 1.5;\" x1=\"191\" x2=\"259\" y1=\"486.9375\" y2=\"486.9375\"/></a><a href=\"psysml:78dea323-2f70-496c-aa91-db5f05f12a10\" target=\"_top\" title=\"psysml:78dea323-2f70-496c-aa91-db5f05f12a10\" xlink:actuate=\"onRequest\" xlink:href=\"psysml:78dea323-2f70-496c-aa91-db5f05f12a10\" xlink:show=\"new\" xlink:title=\"psysml:78dea323-2f70-496c-aa91-db5f05f12a10\" xlink:type=\"simple\"><polygon fill=\"#FFFFFF\" points=\"163.5,679,178.5,679,185.5,701.2969,192.5,701.2969,192.5,731.5938,163.5,731.5938,163.5,679\" style=\"stroke: #000000; stroke-width: 1.5;\"/><line style=\"stroke: #000000; stroke-width: 1.5;\" x1=\"163.5\" x2=\"185.5\" y1=\"701.2969\" y2=\"701.2969\"/><text fill=\"#000000\" font-family=\"sans-serif\" font-size=\"14\" font-weight=\"bold\" lengthAdjust=\"spacingAndGlyphs\" textLength=\"9\" x=\"167.5\" y=\"693.9951\">P</text></a><!--MD5=[2720a5a1f2c3fca2055b230370638851]\n",
       "link E2 to E3--><a href=\"psysml:de99b855-827b-4779-9c99-7b4326eef43f\" target=\"_top\" title=\"psysml:de99b855-827b-4779-9c99-7b4326eef43f\" xlink:actuate=\"onRequest\" xlink:href=\"psysml:de99b855-827b-4779-9c99-7b4326eef43f\" xlink:show=\"new\" xlink:title=\"psysml:de99b855-827b-4779-9c99-7b4326eef43f\" xlink:type=\"simple\"><path d=\"M222,87.24 C222,98.62 222,113.11 222,127.62 \" fill=\"none\" id=\"E2-&gt;E3\" style=\"stroke: #383838; stroke-width: 1.0;\"/><polygon fill=\"#FFFFFF\" points=\"222,147.84,215,128.84,229,128.84,222,147.84\" style=\"stroke: #383838; stroke-width: 1.0;\"/><ellipse cx=\"217\" cy=\"123.14\" fill=\"#383838\" rx=\"2\" ry=\"2\" style=\"stroke: #383838; stroke-width: 1.0;\"/><ellipse cx=\"227\" cy=\"123.14\" fill=\"#383838\" rx=\"2\" ry=\"2\" style=\"stroke: #383838; stroke-width: 1.0;\"/></a><!--MD5=[4672eba38e49728da53d11aeb285b987]\n",
       "reverse link E3 to E4--><a href=\"psysml:7d143534-3389-4013-881e-42b16664757f\" target=\"_top\" title=\"psysml:7d143534-3389-4013-881e-42b16664757f\" xlink:actuate=\"onRequest\" xlink:href=\"psysml:7d143534-3389-4013-881e-42b16664757f\" xlink:show=\"new\" xlink:title=\"psysml:7d143534-3389-4013-881e-42b16664757f\" xlink:type=\"simple\"><path d=\"M269.08,212.65 C302.85,229.56 345.81,257.51 366,297 C378.38,321.22 367.51,352.31 357.12,372.91 \" fill=\"none\" id=\"E3&lt;-E4\" style=\"stroke: #383838; stroke-width: 1.0;\"/><polygon fill=\"#383838\" points=\"257.11,206.92,260.7919,213.1203,267.9314,212.1063,264.2495,205.906,257.11,206.92\" style=\"stroke: #383838; stroke-width: 1.0;\"/><text fill=\"#000000\" font-family=\"sans-serif\" font-size=\"13\" lengthAdjust=\"spacingAndGlyphs\" textLength=\"8\" x=\"352.5085\" y=\"363.0064\">1</text></a><!--MD5=[191cde3d490a3f6d7bb551fe3ddca469]\n",
       "reverse link E3 to E5--><a href=\"psysml:01061be5-5fdc-439c-afe5-881fb8746c83\" target=\"_top\" title=\"psysml:01061be5-5fdc-439c-afe5-881fb8746c83\" xlink:actuate=\"onRequest\" xlink:href=\"psysml:01061be5-5fdc-439c-afe5-881fb8746c83\" xlink:show=\"new\" xlink:title=\"psysml:01061be5-5fdc-439c-afe5-881fb8746c83\" xlink:type=\"simple\"><path d=\"M265.68,245.41 C280.65,263.38 296.6,282.52 308.48,296.78 \" fill=\"none\" id=\"E3&lt;-E5\" style=\"stroke: #383838; stroke-width: 1.0;\"/><polygon fill=\"#FFFFFF\" points=\"257.26,235.31,258.0312,242.4797,264.9461,244.5254,264.1749,237.3557,257.26,235.31\" style=\"stroke: #383838; stroke-width: 1.0;\"/><text fill=\"#000000\" font-family=\"sans-serif\" font-size=\"13\" lengthAdjust=\"spacingAndGlyphs\" textLength=\"8\" x=\"294.7093\" y=\"285.9999\">1</text></a><!--MD5=[79568f1e445c3877b6a54524624ccc7d]\n",
       "link E4 to E6--><a href=\"psysml:8d11eaae-af32-434c-8c3d-32f92418f4c8\" target=\"_top\" title=\"psysml:8d11eaae-af32-434c-8c3d-32f92418f4c8\" xlink:actuate=\"onRequest\" xlink:href=\"psysml:8d11eaae-af32-434c-8c3d-32f92418f4c8\" xlink:show=\"new\" xlink:title=\"psysml:8d11eaae-af32-434c-8c3d-32f92418f4c8\" xlink:type=\"simple\"><path d=\"M330.58,419.22 C310.75,452.04 273.34,513.98 248.79,554.62 \" fill=\"none\" id=\"E4-&gt;E6\" style=\"stroke: #383838; stroke-width: 1.0;\"/><polygon fill=\"#FFFFFF\" points=\"238.37,571.87,242.2063,551.9883,254.1882,559.2294,238.37,571.87\" style=\"stroke: #383838; stroke-width: 1.0;\"/><ellipse cx=\"246.8662\" cy=\"548.1444\" fill=\"#383838\" rx=\"2\" ry=\"2\" style=\"stroke: #383838; stroke-width: 1.0;\"/><ellipse cx=\"255.4247\" cy=\"553.3166\" fill=\"#383838\" rx=\"2\" ry=\"2\" style=\"stroke: #383838; stroke-width: 1.0;\"/></a><!--MD5=[3f50a3473f1dfb74d3f76443e03635af]\n",
       "reverse link E6 to E7--><a href=\"psysml:7466bf8a-1e84-4b05-9901-ce46ee446fa5\" target=\"_top\" title=\"psysml:7466bf8a-1e84-4b05-9901-ce46ee446fa5\" xlink:actuate=\"onRequest\" xlink:href=\"psysml:7466bf8a-1e84-4b05-9901-ce46ee446fa5\" xlink:show=\"new\" xlink:title=\"psysml:7466bf8a-1e84-4b05-9901-ce46ee446fa5\" xlink:type=\"simple\"><path d=\"M186.96,626.35 C162.12,646.16 130.61,671.3 110.14,687.64 \" fill=\"none\" id=\"E6&lt;-E7\" style=\"stroke: #383838; stroke-width: 1.0;\"/><polygon fill=\"#383838\" points=\"197.15,618.22,189.9656,618.8398,187.7744,625.7099,194.9589,625.0901,197.15,618.22\" style=\"stroke: #383838; stroke-width: 1.0;\"/><text fill=\"#000000\" font-family=\"sans-serif\" font-size=\"13\" lengthAdjust=\"spacingAndGlyphs\" textLength=\"8\" x=\"118.1534\" y=\"676.6545\">1</text></a><!--MD5=[14ccda38c055a5c0da953d572bc50960]\n",
       "link E7 to E3--><a href=\"psysml:3c280f0c-0d5e-48e6-b009-cbd7db9e9beb\" target=\"_top\" title=\"psysml:3c280f0c-0d5e-48e6-b009-cbd7db9e9beb\" xlink:actuate=\"onRequest\" xlink:href=\"psysml:3c280f0c-0d5e-48e6-b009-cbd7db9e9beb\" xlink:show=\"new\" xlink:title=\"psysml:3c280f0c-0d5e-48e6-b009-cbd7db9e9beb\" xlink:type=\"simple\"><path d=\"M69.41,682.1 C53.27,661.28 33,628.64 33,596 C33,319 33,319 33,319 C33,253.99 111.37,220.46 167.18,204.82 \" fill=\"none\" id=\"E7-&gt;E3\" style=\"stroke: #383838; stroke-width: 1.0;\"/><polygon fill=\"#FFFFFF\" points=\"186.89,199.76,170.2265,211.2633,166.7463,197.7028,186.89,199.76\" style=\"stroke: #383838; stroke-width: 1.0;\"/><ellipse cx=\"164.2082\" cy=\"210.743\" fill=\"#383838\" rx=\"2\" ry=\"2\" style=\"stroke: #383838; stroke-width: 1.0;\"/><ellipse cx=\"161.7224\" cy=\"201.0569\" fill=\"#383838\" rx=\"2\" ry=\"2\" style=\"stroke: #383838; stroke-width: 1.0;\"/></a><!--MD5=[f4cf0736d43fd73c4ef68817c49d37d5]\n",
       "reverse link E6 to E8--><a href=\"psysml:dcb35f57-14cb-4e2c-8543-9245438ead5d\" target=\"_top\" title=\"psysml:dcb35f57-14cb-4e2c-8543-9245438ead5d\" xlink:actuate=\"onRequest\" xlink:href=\"psysml:dcb35f57-14cb-4e2c-8543-9245438ead5d\" xlink:show=\"new\" xlink:title=\"psysml:dcb35f57-14cb-4e2c-8543-9245438ead5d\" xlink:type=\"simple\"><path d=\"M232.74,630.98 C236.47,647.83 240.83,667.54 244.09,682.31 \" fill=\"none\" id=\"E6&lt;-E8\" style=\"stroke: #383838; stroke-width: 1.0;\"/><polygon fill=\"#FFFFFF\" points=\"229.91,618.22,227.2956,624.9405,232.4936,629.9386,235.108,623.2181,229.91,618.22\" style=\"stroke: #383838; stroke-width: 1.0;\"/><text fill=\"#000000\" font-family=\"sans-serif\" font-size=\"13\" lengthAdjust=\"spacingAndGlyphs\" textLength=\"8\" x=\"233.8068\" y=\"671.5376\">1</text></a><!--MD5=[e88d06e5a652d73a6b19930eefe025a8]\n",
       "reverse link E6 to E9--><a href=\"psysml:08766104-19a0-4aca-bf35-b4c81b8c6dcb\" target=\"_top\" title=\"psysml:08766104-19a0-4aca-bf35-b4c81b8c6dcb\" xlink:actuate=\"onRequest\" xlink:href=\"psysml:08766104-19a0-4aca-bf35-b4c81b8c6dcb\" xlink:show=\"new\" xlink:title=\"psysml:08766104-19a0-4aca-bf35-b4c81b8c6dcb\" xlink:type=\"simple\"><path d=\"M209.38,632.06 C202.74,647.39 195.15,664.91 189.1,678.88 \" fill=\"none\" id=\"E6&lt;-E9\" style=\"stroke: #383838; stroke-width: 1.0;\"/><ellipse cx=\"212.2011\" cy=\"625.5613\" fill=\"#FFFFFF\" rx=\"8\" ry=\"8\" style=\"stroke: #383838; stroke-width: 1.0;\"/><line style=\"stroke: #383838; stroke-width: 1.0;\" x1=\"209.0221\" x2=\"215.38\" y1=\"632.9026\" y2=\"618.22\"/><line style=\"stroke: #383838; stroke-width: 1.0;\" x1=\"204.8598\" x2=\"219.5423\" y1=\"622.3823\" y2=\"628.7402\"/></a><!--MD5=[f78a29d5932556fa1060671a2a6507d8]\n",
       "link E5 to E10--><a href=\"psysml:568ef262-b92a-4cba-8a4b-19f4a197db7e\" target=\"_top\" title=\"psysml:568ef262-b92a-4cba-8a4b-19f4a197db7e\" xlink:actuate=\"onRequest\" xlink:href=\"psysml:568ef262-b92a-4cba-8a4b-19f4a197db7e\" xlink:show=\"new\" xlink:title=\"psysml:568ef262-b92a-4cba-8a4b-19f4a197db7e\" xlink:type=\"simple\"><path d=\"M315.99,343.2 C305.49,363.59 288.69,394.31 271,419 C267.54,423.82 263.72,428.71 259.79,433.47 \" fill=\"none\" id=\"E5-&gt;E10\" style=\"stroke: #383838; stroke-width: 1.0;\"/><polygon fill=\"#FFFFFF\" points=\"246.44,448.81,253.6429,429.886,264.1988,439.0824,246.44,448.81\" style=\"stroke: #383838; stroke-width: 1.0;\"/><ellipse cx=\"258.8951\" cy=\"426.902\" fill=\"#383838\" rx=\"2\" ry=\"2\" style=\"stroke: #383838; stroke-width: 1.0;\"/><ellipse cx=\"266.435\" cy=\"433.4709\" fill=\"#383838\" rx=\"2\" ry=\"2\" style=\"stroke: #383838; stroke-width: 1.0;\"/></a><!--MD5=[8e04057e7b3cbc0dca4fc78ea351e2da]\n",
       "reverse link E10 to E3--><a href=\"psysml:f2bac2b1-68d1-4631-bf1f-fa6cff2f703f\" target=\"_top\" title=\"psysml:f2bac2b1-68d1-4631-bf1f-fa6cff2f703f\" xlink:actuate=\"onRequest\" xlink:href=\"psysml:f2bac2b1-68d1-4631-bf1f-fa6cff2f703f\" xlink:show=\"new\" xlink:title=\"psysml:f2bac2b1-68d1-4631-bf1f-fa6cff2f703f\" xlink:type=\"simple\"><path d=\"M191.07,439.41 C168.36,415.54 140.89,380.56 131,343 C125.79,323.23 123.81,316.14 131,297 C142.22,267.13 166.35,240.23 186.94,221.27 \" fill=\"none\" id=\"E10&lt;-E3\" style=\"stroke: #383838; stroke-width: 1.0;\"/><polygon fill=\"#FFFFFF\" points=\"200.44,448.94,199.0863,441.8571,192.0275,440.3825,193.3813,447.4654,200.44,448.94\" style=\"stroke: #383838; stroke-width: 1.0;\"/><text fill=\"#000000\" font-family=\"sans-serif\" font-size=\"13\" lengthAdjust=\"spacingAndGlyphs\" textLength=\"7\" x=\"132\" y=\"324.5669\">y</text></a><!--MD5=[8e04057e7b3cbc0dca4fc78ea351e2da]\n",
       "reverse link E10 to E3--><a href=\"psysml:f2bac2b1-68d1-4631-bf1f-fa6cff2f703f\" target=\"_top\" title=\"psysml:f2bac2b1-68d1-4631-bf1f-fa6cff2f703f\" xlink:actuate=\"onRequest\" xlink:href=\"psysml:f2bac2b1-68d1-4631-bf1f-fa6cff2f703f\" xlink:show=\"new\" xlink:title=\"psysml:f2bac2b1-68d1-4631-bf1f-fa6cff2f703f\" xlink:type=\"simple\"><path d=\"M218.94,435.48 C213.66,400.35 207.24,345.02 210,297 C211.15,276.95 213.55,254.83 215.89,236.17 \" fill=\"none\" id=\"E10&lt;-E3-1\" style=\"stroke: #383838; stroke-width: 1.0;\"/><polygon fill=\"#FFFFFF\" points=\"221.04,448.78,224.0549,442.2294,219.1678,436.927,216.1529,443.4776,221.04,448.78\" style=\"stroke: #383838; stroke-width: 1.0;\"/><text fill=\"#000000\" font-family=\"sans-serif\" font-size=\"13\" lengthAdjust=\"spacingAndGlyphs\" textLength=\"7\" x=\"211\" y=\"324.5669\">y</text></a><!--MD5=[8e04057e7b3cbc0dca4fc78ea351e2da]\n",
       "reverse link E10 to E3--><a href=\"psysml:f2bac2b1-68d1-4631-bf1f-fa6cff2f703f\" target=\"_top\" title=\"psysml:f2bac2b1-68d1-4631-bf1f-fa6cff2f703f\" xlink:actuate=\"onRequest\" xlink:href=\"psysml:f2bac2b1-68d1-4631-bf1f-fa6cff2f703f\" xlink:show=\"new\" xlink:title=\"psysml:f2bac2b1-68d1-4631-bf1f-fa6cff2f703f\" xlink:type=\"simple\"><path d=\"M224.62,435.77 C224.07,384.92 223.06,291.06 222.47,236.13 \" fill=\"none\" id=\"E10&lt;-E3-2\" style=\"stroke: #383838; stroke-width: 1.0;\"/><polygon fill=\"#FFFFFF\" points=\"224.76,448.9,228.6938,442.8564,224.6281,436.9007,220.6943,442.9443,224.76,448.9\" style=\"stroke: #383838; stroke-width: 1.0;\"/><text fill=\"#000000\" font-family=\"sans-serif\" font-size=\"13\" lengthAdjust=\"spacingAndGlyphs\" textLength=\"7\" x=\"224\" y=\"324.5669\">y</text></a><!--MD5=[604cbf994c02b74b117f728a71673cea]\n",
       "reverse link E10 to E6--><a href=\"psysml:f2bac2b1-68d1-4631-bf1f-fa6cff2f703f\" target=\"_top\" title=\"psysml:f2bac2b1-68d1-4631-bf1f-fa6cff2f703f\" xlink:actuate=\"onRequest\" xlink:href=\"psysml:f2bac2b1-68d1-4631-bf1f-fa6cff2f703f\" xlink:show=\"new\" xlink:title=\"psysml:f2bac2b1-68d1-4631-bf1f-fa6cff2f703f\" xlink:type=\"simple\"><path d=\"M233.39,508.23 C235.07,519.04 236.05,530.99 235,542 C234.06,551.88 232.13,562.68 230.22,571.87 \" fill=\"none\" id=\"E10&lt;-E6\" style=\"stroke: #383838; stroke-width: 1.0;\"/><polygon fill=\"#FFFFFF\" points=\"230.97,495.31,228.1398,501.9425,233.1735,507.106,236.0037,500.4735,230.97,495.31\" style=\"stroke: #383838; stroke-width: 1.0;\"/><text fill=\"#000000\" font-family=\"sans-serif\" font-size=\"13\" lengthAdjust=\"spacingAndGlyphs\" textLength=\"7\" x=\"236\" y=\"538.0669\">y</text></a><!--MD5=[604cbf994c02b74b117f728a71673cea]\n",
       "reverse link E10 to E6--><a href=\"psysml:f2bac2b1-68d1-4631-bf1f-fa6cff2f703f\" target=\"_top\" title=\"psysml:f2bac2b1-68d1-4631-bf1f-fa6cff2f703f\" xlink:actuate=\"onRequest\" xlink:href=\"psysml:f2bac2b1-68d1-4631-bf1f-fa6cff2f703f\" xlink:show=\"new\" xlink:title=\"psysml:f2bac2b1-68d1-4631-bf1f-fa6cff2f703f\" xlink:type=\"simple\"><path d=\"M189.04,504.87 C184.13,511.03 179.81,517.82 177,525 C170.3,542.12 181.83,559.11 195.26,571.94 \" fill=\"none\" id=\"E10&lt;-E6-1\" style=\"stroke: #383838; stroke-width: 1.0;\"/><polygon fill=\"#FFFFFF\" points=\"197.73,495.16,190.7505,496.973,189.7396,504.1129,196.7191,502.2999,197.73,495.16\" style=\"stroke: #383838; stroke-width: 1.0;\"/><text fill=\"#000000\" font-family=\"sans-serif\" font-size=\"13\" lengthAdjust=\"spacingAndGlyphs\" textLength=\"7\" x=\"178\" y=\"538.0669\">y</text></a><!--MD5=[604cbf994c02b74b117f728a71673cea]\n",
       "reverse link E10 to E6--><a href=\"psysml:f2bac2b1-68d1-4631-bf1f-fa6cff2f703f\" target=\"_top\" title=\"psysml:f2bac2b1-68d1-4631-bf1f-fa6cff2f703f\" xlink:actuate=\"onRequest\" xlink:href=\"psysml:f2bac2b1-68d1-4631-bf1f-fa6cff2f703f\" xlink:show=\"new\" xlink:title=\"psysml:f2bac2b1-68d1-4631-bf1f-fa6cff2f703f\" xlink:type=\"simple\"><path d=\"M225,508.22 C225,528.81 225,554.16 225,571.95 \" fill=\"none\" id=\"E10&lt;-E6-2\" style=\"stroke: #383838; stroke-width: 1.0;\"/><polygon fill=\"#FFFFFF\" points=\"225,495.19,221,501.19,225,507.19,229,501.19,225,495.19\" style=\"stroke: #383838; stroke-width: 1.0;\"/><text fill=\"#000000\" font-family=\"sans-serif\" font-size=\"13\" lengthAdjust=\"spacingAndGlyphs\" textLength=\"7\" x=\"226\" y=\"538.0669\">y</text></a><!--MD5=[8f55a3c04f35ccc79e375c01efca2860]\n",
       "@startuml\r\n",
       "skinparam monochrome true\r\n",
       "skinparam classbackgroundcolor white\r\n",
       "skinparam shadowing false\r\n",
       "skinparam wrapWidth 300\r\n",
       "hide circle\r\n",
       "\r\n",
       "package \"PartTest\" as E1  [[psysml:c38775ed-c195-45a3-878f-69446059ff99 ]]  {\r\n",
       "comp usage \"f: A \" as E2  <<(T,blue) part>> [[psysml:133b9857-5562-4f09-a022-80109f8d4a7d ]] {\r\n",
       "}\r\n",
       "comp def \"A\" as E3  <<(T,blue) part  def>> [[psysml:41a43e73-47d4-427d-aa17-f57a90b2778c ]] {\r\n",
       "- - attributes - -\r\n",
       "x\r\n",
       "y:> A::x\r\n",
       "}\r\n",
       "comp usage \"b: B \" as E4  <<(T,blue) part>> [[psysml:23a90af0-4107-4bf0-84ea-ac7115753c4e ]] {\r\n",
       "}\r\n",
       "comp usage \"c: C \" as E5  <<(T,blue) port>> [[psysml:3bde4e3d-0323-4342-8ecc-6f2c3dab5224 ]] {\r\n",
       "}\r\n",
       "comp def \"<i>B</i>\" as E6  <<(T,blue) part  def>> [[psysml:c17c630d-59e9-4f7e-a520-276041a9c800 ]] {\r\n",
       "}\r\n",
       "comp usage \"<i>a</i>: A \" as E7  <<(T,blue) part>> [[psysml:4ea01713-b83a-4578-95eb-e0c0377cf261 ]] {\r\n",
       "}\r\n",
       "comp usage \"x: ~C \" as E8  <<(T,blue) port>> [[psysml:c9f90055-486d-4326-9691-bfe47f710c68 ]] {\r\n",
       "}\r\n",
       "package \"P\" as E9  [[psysml:78dea323-2f70-496c-aa91-db5f05f12a10 ]]  {\r\n",
       "}\r\n",
       "comp def \"C\" as E10  <<(T,blue) port  def>> [[psysml:e209a1f3-de72-4850-a45f-7036acf7c094 ]] {\r\n",
       "}\r\n",
       "}\r\n",
       "E2 - -:|> E3 [[psysml:de99b855-827b-4779-9c99-7b4326eef43f ]] \r\n",
       "E3 *- - \"1\"E4 [[psysml:7d143534-3389-4013-881e-42b16664757f ]] \r\n",
       "E3 o- - \"1\"E5 [[psysml:01061be5-5fdc-439c-afe5-881fb8746c83 ]] \r\n",
       "E4 - -:|> E6 [[psysml:8d11eaae-af32-434c-8c3d-32f92418f4c8 ]] \r\n",
       "E6 *- - \"1\"E7 [[psysml:7466bf8a-1e84-4b05-9901-ce46ee446fa5 ]] \r\n",
       "E7 - -:|> E3 [[psysml:3c280f0c-0d5e-48e6-b009-cbd7db9e9beb ]] \r\n",
       "E6 o- - \"1\"E8 [[psysml:dcb35f57-14cb-4e2c-8543-9245438ead5d ]] \r\n",
       "E6 +- - E9 [[psysml:08766104-19a0-4aca-bf35-b4c81b8c6dcb ]] \r\n",
       "E5 - -:|> E10 [[psysml:568ef262-b92a-4cba-8a4b-19f4a197db7e ]] \r\n",
       "E10 o- - E3 [[psysml:f2bac2b1-68d1-4631-bf1f-fa6cff2f703f ]] : y\r\n",
       "E10 o- - E6 [[psysml:f2bac2b1-68d1-4631-bf1f-fa6cff2f703f ]] : y\r\n",
       "E10 o- - E3 [[psysml:f2bac2b1-68d1-4631-bf1f-fa6cff2f703f ]] : y\r\n",
       "E10 o- - E6 [[psysml:f2bac2b1-68d1-4631-bf1f-fa6cff2f703f ]] : y\r\n",
       "E10 o- - E3 [[psysml:f2bac2b1-68d1-4631-bf1f-fa6cff2f703f ]] : y\r\n",
       "E10 o- - E6 [[psysml:f2bac2b1-68d1-4631-bf1f-fa6cff2f703f ]] : y\r\n",
       "@enduml\r\n",
       "\n",
       "PlantUML version 1.2020.13(Sat Jun 13 12:26:38 UTC 2020)\n",
       "(EPL source distribution)\n",
       "Java Runtime: OpenJDK Runtime Environment\n",
       "JVM: OpenJDK 64-Bit Server VM\n",
       "Default Encoding: UTF-8\n",
       "Language: en\n",
       "Country: null\n",
       "--></g></svg>"
      ]
     },
     "execution_count": 38,
     "metadata": {},
     "output_type": "execute_result"
    }
   ],
   "source": [
    "%viz --style=\"DEFAULT\" --view=\"Tree\" \"PartTest\""
   ]
  },
  {
   "cell_type": "code",
   "execution_count": 39,
   "id": "dc8381e7",
   "metadata": {
    "execution": {
     "iopub.execute_input": "2022-02-05T16:55:45.454932Z",
     "iopub.status.busy": "2022-02-05T16:55:45.454520Z",
     "iopub.status.idle": "2022-02-05T16:55:45.458065Z",
     "shell.execute_reply": "2022-02-05T16:55:45.458381Z"
    }
   },
   "outputs": [
    {
     "data": {
      "image/svg+xml": [
       "<?xml version=\"1.0\" encoding=\"UTF-8\" standalone=\"no\"?><svg xmlns=\"http://www.w3.org/2000/svg\" xmlns:xlink=\"http://www.w3.org/1999/xlink\" contentScriptType=\"application/ecmascript\" contentStyleType=\"text/css\" height=\"12px\" preserveAspectRatio=\"none\" style=\"width:12px;height:12px;\" version=\"1.1\" viewBox=\"0 0 12 12\" width=\"12px\" zoomAndPan=\"magnify\"><defs/><g><!--MD5=[c5f280e076d0d61ccf4b0f27871bda1d]\n",
       "@startuml\r\n",
       "skinparam monochrome true\r\n",
       "skinparam classbackgroundcolor white\r\n",
       "skinparam shadowing false\r\n",
       "skinparam wrapWidth 300\r\n",
       "hide circle\r\n",
       "\r\n",
       "@enduml\r\n",
       "\n",
       "PlantUML version 1.2020.13(Sat Jun 13 12:26:38 UTC 2020)\n",
       "(EPL source distribution)\n",
       "Java Runtime: OpenJDK Runtime Environment\n",
       "JVM: OpenJDK 64-Bit Server VM\n",
       "Default Encoding: UTF-8\n",
       "Language: en\n",
       "Country: null\n",
       "--></g></svg>"
      ]
     },
     "execution_count": 39,
     "metadata": {},
     "output_type": "execute_result"
    }
   ],
   "source": [
    "%viz --style=\"DEFAULT\" --view=\"State\" \"PartTest\""
   ]
  },
  {
   "cell_type": "code",
   "execution_count": 40,
   "id": "fdca1d3d",
   "metadata": {
    "execution": {
     "iopub.execute_input": "2022-02-05T16:55:45.507918Z",
     "iopub.status.busy": "2022-02-05T16:55:45.507670Z",
     "iopub.status.idle": "2022-02-05T16:55:45.544825Z",
     "shell.execute_reply": "2022-02-05T16:55:45.544456Z"
    }
   },
   "outputs": [
    {
     "data": {
      "image/svg+xml": [
       "<?xml version=\"1.0\" encoding=\"UTF-8\" standalone=\"no\"?><svg xmlns=\"http://www.w3.org/2000/svg\" xmlns:xlink=\"http://www.w3.org/1999/xlink\" contentScriptType=\"application/ecmascript\" contentStyleType=\"text/css\" height=\"253px\" preserveAspectRatio=\"none\" style=\"width:685px;height:253px;\" version=\"1.1\" viewBox=\"0 0 685 253\" width=\"685px\" zoomAndPan=\"magnify\"><defs/><g><!--MD5=[fbc87193dbaf4d95561dea2c320d4a47]\n",
       "cluster E1--><a href=\"psysml:c38775ed-c195-45a3-878f-69446059ff99\" target=\"_top\" title=\"psysml:c38775ed-c195-45a3-878f-69446059ff99\" xlink:actuate=\"onRequest\" xlink:href=\"psysml:c38775ed-c195-45a3-878f-69446059ff99\" xlink:show=\"new\" xlink:title=\"psysml:c38775ed-c195-45a3-878f-69446059ff99\" xlink:type=\"simple\"><polygon fill=\"#FFFFFF\" points=\"16,6,80,6,87,28.2969,663,28.2969,663,241,16,241,16,6\" style=\"stroke: #000000; stroke-width: 1.5;\"/><line style=\"stroke: #000000; stroke-width: 1.5;\" x1=\"16\" x2=\"87\" y1=\"28.2969\" y2=\"28.2969\"/><text fill=\"#000000\" font-family=\"sans-serif\" font-size=\"14\" font-weight=\"bold\" lengthAdjust=\"spacingAndGlyphs\" textLength=\"58\" x=\"20\" y=\"20.9951\">PartTest</text></a><!--MD5=[d5e69f78d87373223dbae638b30a9c99]\n",
       "cluster E3--><a href=\"psysml:41a43e73-47d4-427d-aa17-f57a90b2778c\" target=\"_top\" title=\"psysml:41a43e73-47d4-427d-aa17-f57a90b2778c\" xlink:actuate=\"onRequest\" xlink:href=\"psysml:41a43e73-47d4-427d-aa17-f57a90b2778c\" xlink:show=\"new\" xlink:title=\"psysml:41a43e73-47d4-427d-aa17-f57a90b2778c\" xlink:type=\"simple\"><rect fill=\"#FFFFFF\" height=\"159\" id=\"E3\" style=\"stroke: #383838; stroke-width: 1.5;\" width=\"230\" x=\"417\" y=\"62.5\"/><rect fill=\"#F8F8F8\" height=\"37.9375\" style=\"stroke: #383838; stroke-width: 1.5;\" width=\"230\" x=\"417\" y=\"62.5\"/><text fill=\"#000000\" font-family=\"sans-serif\" font-size=\"12\" font-style=\"italic\" lengthAdjust=\"spacingAndGlyphs\" textLength=\"68\" x=\"498\" y=\"78.6387\">«part  def»</text><text fill=\"#000000\" font-family=\"sans-serif\" font-size=\"12\" lengthAdjust=\"spacingAndGlyphs\" textLength=\"8\" x=\"528\" y=\"92.6074\">A</text></a><!--MD5=[55dfccfc6c49c2d10cd1bd2211a6c90c]\n",
       "cluster E8--><a href=\"psysml:c17c630d-59e9-4f7e-a520-276041a9c800\" target=\"_top\" title=\"psysml:c17c630d-59e9-4f7e-a520-276041a9c800\" xlink:actuate=\"onRequest\" xlink:href=\"psysml:c17c630d-59e9-4f7e-a520-276041a9c800\" xlink:show=\"new\" xlink:title=\"psysml:c17c630d-59e9-4f7e-a520-276041a9c800\" xlink:type=\"simple\"><rect fill=\"#FFFFFF\" height=\"162.5\" id=\"E8\" style=\"stroke: #383838; stroke-width: 1.5;\" width=\"209\" x=\"200\" y=\"62.5\"/><rect fill=\"#F8F8F8\" height=\"37.9375\" style=\"stroke: #383838; stroke-width: 1.5;\" width=\"209\" x=\"200\" y=\"62.5\"/><text fill=\"#000000\" font-family=\"sans-serif\" font-size=\"12\" font-style=\"italic\" lengthAdjust=\"spacingAndGlyphs\" textLength=\"68\" x=\"270.5\" y=\"78.6387\">«part  def»</text><text fill=\"#000000\" font-family=\"sans-serif\" font-size=\"12\" font-style=\"italic\" lengthAdjust=\"spacingAndGlyphs\" textLength=\"8\" x=\"300.5\" y=\"92.6074\">B</text></a><g id=\"E1.E12\"><a href=\"psysml:e209a1f3-de72-4850-a45f-7036acf7c094\" target=\"_top\" title=\"psysml:e209a1f3-de72-4850-a45f-7036acf7c094\" xlink:actuate=\"onRequest\" xlink:href=\"psysml:e209a1f3-de72-4850-a45f-7036acf7c094\" xlink:show=\"new\" xlink:title=\"psysml:e209a1f3-de72-4850-a45f-7036acf7c094\" xlink:type=\"simple\"><rect fill=\"#FFFFFF\" height=\"42.9375\" id=\"E12\" style=\"stroke: #383838; stroke-width: 1.5;\" width=\"75\" x=\"117.5\" y=\"41\"/><rect fill=\"#F8F8F8\" height=\"37.9375\" style=\"stroke: #383838; stroke-width: 1.5;\" width=\"75\" x=\"117.5\" y=\"41\"/><text fill=\"#000000\" font-family=\"sans-serif\" font-size=\"12\" font-style=\"italic\" lengthAdjust=\"spacingAndGlyphs\" textLength=\"68\" x=\"121\" y=\"57.1387\">«port  def»</text><text fill=\"#000000\" font-family=\"sans-serif\" font-size=\"12\" lengthAdjust=\"spacingAndGlyphs\" textLength=\"8\" x=\"151\" y=\"71.1074\">C</text></a></g><g id=\"E1.E2\"><a href=\"psysml:133b9857-5562-4f09-a022-80109f8d4a7d\" target=\"_top\" title=\"psysml:133b9857-5562-4f09-a022-80109f8d4a7d\" xlink:actuate=\"onRequest\" xlink:href=\"psysml:133b9857-5562-4f09-a022-80109f8d4a7d\" xlink:show=\"new\" xlink:title=\"psysml:133b9857-5562-4f09-a022-80109f8d4a7d\" xlink:type=\"simple\"><rect fill=\"#FFFFFF\" height=\"40\" id=\"E2\" rx=\"10\" ry=\"10\" style=\"stroke: #383838; stroke-width: 1.5;\" width=\"50\" x=\"32\" y=\"42.5\"/><rect fill=\"#F8F8F8\" height=\"23.9688\" rx=\"10\" ry=\"10\" style=\"stroke: #F8F8F8; stroke-width: 1.5;\" width=\"50\" x=\"32\" y=\"42.5\"/><rect fill=\"#F8F8F8\" height=\"10\" style=\"stroke: #F8F8F8; stroke-width: 1.5;\" width=\"50\" x=\"32\" y=\"56.4688\"/><rect fill=\"none\" height=\"40\" id=\"E2\" rx=\"10\" ry=\"10\" style=\"stroke: #383838; stroke-width: 1.5;\" width=\"50\" x=\"32\" y=\"42.5\"/><text fill=\"#000000\" font-family=\"sans-serif\" font-size=\"12\" lengthAdjust=\"spacingAndGlyphs\" textLength=\"20\" x=\"47\" y=\"58.6387\">f: A</text></a></g><text fill=\"#000000\" font-family=\"sans-serif\" font-size=\"14\" lengthAdjust=\"spacingAndGlyphs\" textLength=\"27\" x=\"569.5\" y=\"41.1982\">c: C</text><rect fill=\"#383838\" height=\"12\" style=\"stroke: #F8F8F8; stroke-width: 1.5;\" width=\"12\" x=\"579\" y=\"56.5\"/><!--MD5=[60a26617385b1d2d0262a64233df1f8d]\n",
       "class E6--><a href=\"psysml:445f494e-a94c-4fdf-9cc7-f31ccfeaa97f\" target=\"_top\" title=\"psysml:445f494e-a94c-4fdf-9cc7-f31ccfeaa97f\" xlink:actuate=\"onRequest\" xlink:href=\"psysml:445f494e-a94c-4fdf-9cc7-f31ccfeaa97f\" xlink:show=\"new\" xlink:title=\"psysml:445f494e-a94c-4fdf-9cc7-f31ccfeaa97f\" xlink:type=\"simple\"><rect fill=\"#FFFFFF\" height=\"45.9375\" id=\"E6\" rx=\"10\" ry=\"10\" style=\"stroke: #383838; stroke-width: 1.5;\" width=\"71\" x=\"433.5\" y=\"159.5\"/><text fill=\"#000000\" font-family=\"sans-serif\" font-size=\"12\" font-style=\"italic\" lengthAdjust=\"spacingAndGlyphs\" textLength=\"69\" x=\"434.5\" y=\"175.6387\">«attribute»</text><text fill=\"#000000\" font-family=\"sans-serif\" font-size=\"12\" lengthAdjust=\"spacingAndGlyphs\" textLength=\"6\" x=\"464\" y=\"189.6074\">x</text><line style=\"stroke: #383838; stroke-width: 1.5;\" x1=\"434.5\" x2=\"503.5\" y1=\"197.4375\" y2=\"197.4375\"/></a><!--MD5=[2156ba9850f5573cc1fc38a6a4b2f02b]\n",
       "class E7--><a href=\"psysml:83189ed0-8892-41b6-b657-b7e16a6a2eeb\" target=\"_top\" title=\"psysml:83189ed0-8892-41b6-b657-b7e16a6a2eeb\" xlink:actuate=\"onRequest\" xlink:href=\"psysml:83189ed0-8892-41b6-b657-b7e16a6a2eeb\" xlink:show=\"new\" xlink:title=\"psysml:83189ed0-8892-41b6-b657-b7e16a6a2eeb\" xlink:type=\"simple\"><rect fill=\"#FFFFFF\" height=\"45.9375\" id=\"E7\" rx=\"10\" ry=\"10\" style=\"stroke: #383838; stroke-width: 1.5;\" width=\"71\" x=\"433.5\" y=\"100\"/><text fill=\"#000000\" font-family=\"sans-serif\" font-size=\"12\" font-style=\"italic\" lengthAdjust=\"spacingAndGlyphs\" textLength=\"69\" x=\"434.5\" y=\"116.1387\">«attribute»</text><text fill=\"#000000\" font-family=\"sans-serif\" font-size=\"12\" lengthAdjust=\"spacingAndGlyphs\" textLength=\"50\" x=\"444\" y=\"130.1074\">y :&gt; A::x</text><line style=\"stroke: #383838; stroke-width: 1.5;\" x1=\"434.5\" x2=\"503.5\" y1=\"137.9375\" y2=\"137.9375\"/></a><g id=\"E1.E3.E4\"><a href=\"psysml:23a90af0-4107-4bf0-84ea-ac7115753c4e\" target=\"_top\" title=\"psysml:23a90af0-4107-4bf0-84ea-ac7115753c4e\" xlink:actuate=\"onRequest\" xlink:href=\"psysml:23a90af0-4107-4bf0-84ea-ac7115753c4e\" xlink:show=\"new\" xlink:title=\"psysml:23a90af0-4107-4bf0-84ea-ac7115753c4e\" xlink:type=\"simple\"><rect fill=\"#FFFFFF\" height=\"40\" id=\"E4\" rx=\"10\" ry=\"10\" style=\"stroke: #383838; stroke-width: 1.5;\" width=\"50\" x=\"560\" y=\"162.5\"/><rect fill=\"#F8F8F8\" height=\"23.9688\" rx=\"10\" ry=\"10\" style=\"stroke: #F8F8F8; stroke-width: 1.5;\" width=\"50\" x=\"560\" y=\"162.5\"/><rect fill=\"#F8F8F8\" height=\"10\" style=\"stroke: #F8F8F8; stroke-width: 1.5;\" width=\"50\" x=\"560\" y=\"176.4688\"/><rect fill=\"none\" height=\"40\" id=\"E4\" rx=\"10\" ry=\"10\" style=\"stroke: #383838; stroke-width: 1.5;\" width=\"50\" x=\"560\" y=\"162.5\"/><text fill=\"#000000\" font-family=\"sans-serif\" font-size=\"12\" lengthAdjust=\"spacingAndGlyphs\" textLength=\"24\" x=\"573\" y=\"178.6387\">b: B</text></a></g><text fill=\"#000000\" font-family=\"sans-serif\" font-size=\"14\" lengthAdjust=\"spacingAndGlyphs\" textLength=\"38\" x=\"326\" y=\"41.1982\">x: ~C</text><rect fill=\"#383838\" height=\"12\" style=\"stroke: #F8F8F8; stroke-width: 1.5;\" width=\"12\" x=\"341\" y=\"56.5\"/><g id=\"E1.E8.E9\"><a href=\"psysml:4ea01713-b83a-4578-95eb-e0c0377cf261\" target=\"_top\" title=\"psysml:4ea01713-b83a-4578-95eb-e0c0377cf261\" xlink:actuate=\"onRequest\" xlink:href=\"psysml:4ea01713-b83a-4578-95eb-e0c0377cf261\" xlink:show=\"new\" xlink:title=\"psysml:4ea01713-b83a-4578-95eb-e0c0377cf261\" xlink:type=\"simple\"><rect fill=\"#FFFFFF\" height=\"40\" id=\"E9\" rx=\"10\" ry=\"10\" style=\"stroke: #383838; stroke-width: 1.5;\" width=\"50\" x=\"216\" y=\"103\"/><rect fill=\"#F8F8F8\" height=\"23.9688\" rx=\"10\" ry=\"10\" style=\"stroke: #F8F8F8; stroke-width: 1.5;\" width=\"50\" x=\"216\" y=\"103\"/><rect fill=\"#F8F8F8\" height=\"10\" style=\"stroke: #F8F8F8; stroke-width: 1.5;\" width=\"50\" x=\"216\" y=\"116.9688\"/><rect fill=\"none\" height=\"40\" id=\"E9\" rx=\"10\" ry=\"10\" style=\"stroke: #383838; stroke-width: 1.5;\" width=\"50\" x=\"216\" y=\"103\"/><text fill=\"#000000\" font-family=\"sans-serif\" font-size=\"12\" lengthAdjust=\"spacingAndGlyphs\" textLength=\"24\" x=\"229\" y=\"119.1387\">a: A</text></a></g><a href=\"psysml:78dea323-2f70-496c-aa91-db5f05f12a10\" target=\"_top\" title=\"psysml:78dea323-2f70-496c-aa91-db5f05f12a10\" xlink:actuate=\"onRequest\" xlink:href=\"psysml:78dea323-2f70-496c-aa91-db5f05f12a10\" xlink:show=\"new\" xlink:title=\"psysml:78dea323-2f70-496c-aa91-db5f05f12a10\" xlink:type=\"simple\"><polygon fill=\"#FFFFFF\" points=\"332.5,156,347.5,156,354.5,178.2969,361.5,178.2969,361.5,208.5938,332.5,208.5938,332.5,156\" style=\"stroke: #000000; stroke-width: 1.5;\"/><line style=\"stroke: #000000; stroke-width: 1.5;\" x1=\"332.5\" x2=\"354.5\" y1=\"178.2969\" y2=\"178.2969\"/><text fill=\"#000000\" font-family=\"sans-serif\" font-size=\"14\" font-weight=\"bold\" lengthAdjust=\"spacingAndGlyphs\" textLength=\"9\" x=\"336.5\" y=\"170.9951\">P</text></a><!--MD5=[fbb449814971db3a0b8220cf225b9e01]\n",
       "link E7 to E6--><a href=\"psysml:2104b8b7-83c3-4383-b55d-abdf660b6842\" target=\"_top\" title=\"psysml:2104b8b7-83c3-4383-b55d-abdf660b6842\" xlink:actuate=\"onRequest\" xlink:href=\"psysml:2104b8b7-83c3-4383-b55d-abdf660b6842\" xlink:show=\"new\" xlink:title=\"psysml:2104b8b7-83c3-4383-b55d-abdf660b6842\" xlink:type=\"simple\"><path d=\"M469,146.07 C469,146.2 469,146.34 469,146.47 \" fill=\"none\" id=\"E7-&gt;E6\" style=\"stroke: #383838; stroke-width: 1.0;\"/><polygon fill=\"none\" points=\"476,139.21,469,159.21,462,139.21,476,139.21\" style=\"stroke: #383838; stroke-width: 1.0;\"/></a><!--MD5=[167de4ce70b43c70dae3192d35556582]\n",
       "@startuml\r\n",
       "skinparam ranksep 10\r\n",
       "skinparam rectangle {\r\n",
       " backgroundColor<<block>> LightGreen\r\n",
       "}\r\n",
       "skinparam monochrome true\r\n",
       "skinparam classbackgroundcolor white\r\n",
       "skinparam shadowing false\r\n",
       "skinparam wrapWidth 300\r\n",
       "hide circle\r\n",
       "\r\n",
       "package \"PartTest\" as E1  [[psysml:c38775ed-c195-45a3-878f-69446059ff99 ]]  {\r\n",
       "rec usage \"f: A\" as E2  [[psysml:133b9857-5562-4f09-a022-80109f8d4a7d ]] {\r\n",
       "}\r\n",
       "rec def \"A\" as E3  <<(T,blue) part  def>> [[psysml:41a43e73-47d4-427d-aa17-f57a90b2778c ]] {\r\n",
       "rec usage \"b: B\" as E4  [[psysml:23a90af0-4107-4bf0-84ea-ac7115753c4e ]] {\r\n",
       "}\r\n",
       "portin \"c: C \" as E5  <<(T,blue) port>> [[psysml:3bde4e3d-0323-4342-8ecc-6f2c3dab5224 ]] \r\n",
       "comp usage \"x \" as E6  <<(T,blue) attribute>> [[psysml:445f494e-a94c-4fdf-9cc7-f31ccfeaa97f ]] {\r\n",
       "}\r\n",
       "comp usage \"y :> A::x\" as E7  <<(T,blue) attribute>> [[psysml:83189ed0-8892-41b6-b657-b7e16a6a2eeb ]] {\r\n",
       "}\r\n",
       "}\r\n",
       "rec def \"<i>B</i>\" as E8  <<(T,blue) part  def>> [[psysml:c17c630d-59e9-4f7e-a520-276041a9c800 ]] {\r\n",
       "rec usage \"a: A\" as E9  [[psysml:4ea01713-b83a-4578-95eb-e0c0377cf261 ]] {\r\n",
       "}\r\n",
       "portin \"x: ~C \" as E10  <<(T,blue) port>> [[psysml:c9f90055-486d-4326-9691-bfe47f710c68 ]] \r\n",
       "package \"P\" as E11  [[psysml:78dea323-2f70-496c-aa91-db5f05f12a10 ]]  {\r\n",
       "}\r\n",
       "}\r\n",
       "def \"C\" as E12  <<(T,blue) port  def>> [[psysml:e209a1f3-de72-4850-a45f-7036acf7c094 ]] \r\n",
       "}\r\n",
       "E7 - -|> E6 [[psysml:2104b8b7-83c3-4383-b55d-abdf660b6842 ]] \r\n",
       "@enduml\r\n",
       "\n",
       "PlantUML version 1.2020.13(Sat Jun 13 12:26:38 UTC 2020)\n",
       "(EPL source distribution)\n",
       "Java Runtime: OpenJDK Runtime Environment\n",
       "JVM: OpenJDK 64-Bit Server VM\n",
       "Default Encoding: UTF-8\n",
       "Language: en\n",
       "Country: null\n",
       "--></g></svg>"
      ]
     },
     "execution_count": 40,
     "metadata": {},
     "output_type": "execute_result"
    }
   ],
   "source": [
    "%viz --style=\"DEFAULT\" --view=\"Interconnection\" \"PartTest\""
   ]
  },
  {
   "cell_type": "code",
   "execution_count": 41,
   "id": "1130a0bb",
   "metadata": {
    "execution": {
     "iopub.execute_input": "2022-02-05T16:55:45.594258Z",
     "iopub.status.busy": "2022-02-05T16:55:45.593950Z",
     "iopub.status.idle": "2022-02-05T16:55:45.598721Z",
     "shell.execute_reply": "2022-02-05T16:55:45.598354Z"
    }
   },
   "outputs": [
    {
     "data": {
      "image/svg+xml": [
       "<?xml version=\"1.0\" encoding=\"UTF-8\" standalone=\"no\"?><svg xmlns=\"http://www.w3.org/2000/svg\" xmlns:xlink=\"http://www.w3.org/1999/xlink\" contentScriptType=\"application/ecmascript\" contentStyleType=\"text/css\" height=\"12px\" preserveAspectRatio=\"none\" style=\"width:12px;height:12px;\" version=\"1.1\" viewBox=\"0 0 12 12\" width=\"12px\" zoomAndPan=\"magnify\"><defs/><g><!--MD5=[388f21188e31bfdd97050473b19af356]\n",
       "@startuml\r\n",
       "skinparam ranksep 8\r\n",
       "skinparam monochrome true\r\n",
       "skinparam classbackgroundcolor white\r\n",
       "skinparam shadowing false\r\n",
       "skinparam wrapWidth 300\r\n",
       "hide circle\r\n",
       "\r\n",
       "@enduml\r\n",
       "\n",
       "PlantUML version 1.2020.13(Sat Jun 13 12:26:38 UTC 2020)\n",
       "(EPL source distribution)\n",
       "Java Runtime: OpenJDK Runtime Environment\n",
       "JVM: OpenJDK 64-Bit Server VM\n",
       "Default Encoding: UTF-8\n",
       "Language: en\n",
       "Country: null\n",
       "--></g></svg>"
      ]
     },
     "execution_count": 41,
     "metadata": {},
     "output_type": "execute_result"
    }
   ],
   "source": [
    "%viz --style=\"DEFAULT\" --view=\"Action\" \"PartTest\""
   ]
  },
  {
   "cell_type": "code",
   "execution_count": 42,
   "id": "dc5cd1d5",
   "metadata": {
    "execution": {
     "iopub.execute_input": "2022-02-05T16:55:45.648207Z",
     "iopub.status.busy": "2022-02-05T16:55:45.647901Z",
     "iopub.status.idle": "2022-02-05T16:55:45.651304Z",
     "shell.execute_reply": "2022-02-05T16:55:45.651098Z"
    }
   },
   "outputs": [
    {
     "data": {
      "image/svg+xml": [
       "<?xml version=\"1.0\" encoding=\"UTF-8\" standalone=\"no\"?><svg xmlns=\"http://www.w3.org/2000/svg\" xmlns:xlink=\"http://www.w3.org/1999/xlink\" contentScriptType=\"application/ecmascript\" contentStyleType=\"text/css\" height=\"12px\" preserveAspectRatio=\"none\" style=\"width:12px;height:12px;\" version=\"1.1\" viewBox=\"0 0 12 12\" width=\"12px\" zoomAndPan=\"magnify\"><defs/><g><!--MD5=[0b72472770326784bf6c2b53246e1e64]\n",
       "@startuml\r\n",
       "skinparam roundcorner 20\r\n",
       "skinparam BoxPadding 20\r\n",
       "skinparam SequenceBoxBackgroundColor #white\r\n",
       "skinparam style strictuml\r\n",
       "skinparam maxMessageSize 100\r\n",
       "skinparam monochrome true\r\n",
       "skinparam classbackgroundcolor white\r\n",
       "skinparam shadowing false\r\n",
       "skinparam wrapWidth 300\r\n",
       "hide circle\r\n",
       "\r\n",
       "@enduml\r\n",
       "\n",
       "PlantUML version 1.2020.13(Sat Jun 13 12:26:38 UTC 2020)\n",
       "(EPL source distribution)\n",
       "Java Runtime: OpenJDK Runtime Environment\n",
       "JVM: OpenJDK 64-Bit Server VM\n",
       "Default Encoding: UTF-8\n",
       "Language: en\n",
       "Country: null\n",
       "--></g></svg>"
      ]
     },
     "execution_count": 42,
     "metadata": {},
     "output_type": "execute_result"
    }
   ],
   "source": [
    "%viz --style=\"DEFAULT\" --view=\"Sequence\" \"PartTest\""
   ]
  },
  {
   "cell_type": "code",
   "execution_count": 43,
   "id": "2499536c",
   "metadata": {
    "execution": {
     "iopub.execute_input": "2022-02-05T16:55:45.701411Z",
     "iopub.status.busy": "2022-02-05T16:55:45.701119Z",
     "iopub.status.idle": "2022-02-05T16:55:45.763303Z",
     "shell.execute_reply": "2022-02-05T16:55:45.761710Z"
    }
   },
   "outputs": [
    {
     "data": {
      "image/svg+xml": [
       "<?xml version=\"1.0\" encoding=\"UTF-8\" standalone=\"no\"?><svg xmlns=\"http://www.w3.org/2000/svg\" xmlns:xlink=\"http://www.w3.org/1999/xlink\" contentScriptType=\"application/ecmascript\" contentStyleType=\"text/css\" height=\"760px\" preserveAspectRatio=\"none\" style=\"width:423px;height:760px;\" version=\"1.1\" viewBox=\"0 0 423 760\" width=\"423px\" zoomAndPan=\"magnify\"><defs/><g><!--MD5=[fbc87193dbaf4d95561dea2c320d4a47]\n",
       "cluster E1--><a href=\"psysml:c38775ed-c195-45a3-878f-69446059ff99\" target=\"_top\" title=\"psysml:c38775ed-c195-45a3-878f-69446059ff99\" xlink:actuate=\"onRequest\" xlink:href=\"psysml:c38775ed-c195-45a3-878f-69446059ff99\" xlink:show=\"new\" xlink:title=\"psysml:c38775ed-c195-45a3-878f-69446059ff99\" xlink:type=\"simple\"><polygon fill=\"#FFFFFF\" points=\"16,6,80,6,87,28.2969,401,28.2969,401,748,16,748,16,6\" style=\"stroke: #000000; stroke-width: 1.5;\"/><line style=\"stroke: #000000; stroke-width: 1.5;\" x1=\"16\" x2=\"87\" y1=\"28.2969\" y2=\"28.2969\"/><text fill=\"#000000\" font-family=\"sans-serif\" font-size=\"14\" font-weight=\"bold\" lengthAdjust=\"spacingAndGlyphs\" textLength=\"58\" x=\"20\" y=\"20.9951\">PartTest</text></a><!--MD5=[b4997ac47864f28c2f74865a473b2911]\n",
       "class E2--><a href=\"psysml:133b9857-5562-4f09-a022-80109f8d4a7d\" target=\"_top\" title=\"psysml:133b9857-5562-4f09-a022-80109f8d4a7d\" xlink:actuate=\"onRequest\" xlink:href=\"psysml:133b9857-5562-4f09-a022-80109f8d4a7d\" xlink:show=\"new\" xlink:title=\"psysml:133b9857-5562-4f09-a022-80109f8d4a7d\" xlink:type=\"simple\"><rect fill=\"#FFFFFF\" height=\"45.9375\" id=\"E2\" rx=\"10\" ry=\"10\" style=\"stroke: #383838; stroke-width: 1.5;\" width=\"42\" x=\"201\" y=\"41\"/><text fill=\"#000000\" font-family=\"sans-serif\" font-size=\"12\" font-style=\"italic\" lengthAdjust=\"spacingAndGlyphs\" textLength=\"40\" x=\"202\" y=\"57.1387\">«part»</text><text fill=\"#000000\" font-family=\"sans-serif\" font-size=\"12\" lengthAdjust=\"spacingAndGlyphs\" textLength=\"20\" x=\"210\" y=\"71.1074\">f: A</text><line style=\"stroke: #383838; stroke-width: 1.5;\" x1=\"202\" x2=\"242\" y1=\"78.9375\" y2=\"78.9375\"/></a><!--MD5=[09b614a08d8cba4a07c9adeb5e0fee81]\n",
       "class E3--><a href=\"psysml:41a43e73-47d4-427d-aa17-f57a90b2778c\" target=\"_top\" title=\"psysml:41a43e73-47d4-427d-aa17-f57a90b2778c\" xlink:actuate=\"onRequest\" xlink:href=\"psysml:41a43e73-47d4-427d-aa17-f57a90b2778c\" xlink:show=\"new\" xlink:title=\"psysml:41a43e73-47d4-427d-aa17-f57a90b2778c\" xlink:type=\"simple\"><rect fill=\"#FFFFFF\" height=\"88.3516\" id=\"E3\" style=\"stroke: #383838; stroke-width: 1.5;\" width=\"70\" x=\"187\" y=\"148\"/><text fill=\"#000000\" font-family=\"sans-serif\" font-size=\"12\" font-style=\"italic\" lengthAdjust=\"spacingAndGlyphs\" textLength=\"68\" x=\"188\" y=\"164.1387\">«part  def»</text><text fill=\"#000000\" font-family=\"sans-serif\" font-size=\"12\" lengthAdjust=\"spacingAndGlyphs\" textLength=\"8\" x=\"218\" y=\"178.1074\">A</text><line style=\"stroke: #383838; stroke-width: 1.5;\" x1=\"188\" x2=\"256\" y1=\"185.9375\" y2=\"185.9375\"/><text fill=\"#000000\" font-family=\"sans-serif\" font-size=\"11\" lengthAdjust=\"spacingAndGlyphs\" textLength=\"6\" x=\"193\" y=\"216.9526\">x</text><text fill=\"#000000\" font-family=\"sans-serif\" font-size=\"11\" lengthAdjust=\"spacingAndGlyphs\" textLength=\"44\" x=\"193\" y=\"229.7573\">y:&gt; A::x</text><line style=\"stroke: #383838; stroke-width: 1.0;\" x1=\"188\" x2=\"194.5\" y1=\"200.3398\" y2=\"200.3398\"/><text fill=\"#000000\" font-family=\"sans-serif\" font-size=\"11\" lengthAdjust=\"spacingAndGlyphs\" textLength=\"55\" x=\"194.5\" y=\"203.6479\">attributes</text><line style=\"stroke: #383838; stroke-width: 1.0;\" x1=\"249.5\" x2=\"256\" y1=\"200.3398\" y2=\"200.3398\"/></a><!--MD5=[ebbe1d658d1005bcc118a6aa81145e00]\n",
       "class E4--><a href=\"psysml:23a90af0-4107-4bf0-84ea-ac7115753c4e\" target=\"_top\" title=\"psysml:23a90af0-4107-4bf0-84ea-ac7115753c4e\" xlink:actuate=\"onRequest\" xlink:href=\"psysml:23a90af0-4107-4bf0-84ea-ac7115753c4e\" xlink:show=\"new\" xlink:title=\"psysml:23a90af0-4107-4bf0-84ea-ac7115753c4e\" xlink:type=\"simple\"><rect fill=\"#FFFFFF\" height=\"45.9375\" id=\"E4\" rx=\"10\" ry=\"10\" style=\"stroke: #383838; stroke-width: 1.5;\" width=\"42\" x=\"323\" y=\"373\"/><text fill=\"#000000\" font-family=\"sans-serif\" font-size=\"12\" font-style=\"italic\" lengthAdjust=\"spacingAndGlyphs\" textLength=\"40\" x=\"324\" y=\"389.1387\">«part»</text><text fill=\"#000000\" font-family=\"sans-serif\" font-size=\"12\" lengthAdjust=\"spacingAndGlyphs\" textLength=\"24\" x=\"330\" y=\"403.1074\">b: B</text><line style=\"stroke: #383838; stroke-width: 1.5;\" x1=\"324\" x2=\"364\" y1=\"410.9375\" y2=\"410.9375\"/></a><!--MD5=[270fce915f116d4de14055a7c1d9a0f3]\n",
       "class E5--><a href=\"psysml:3bde4e3d-0323-4342-8ecc-6f2c3dab5224\" target=\"_top\" title=\"psysml:3bde4e3d-0323-4342-8ecc-6f2c3dab5224\" xlink:actuate=\"onRequest\" xlink:href=\"psysml:3bde4e3d-0323-4342-8ecc-6f2c3dab5224\" xlink:show=\"new\" xlink:title=\"psysml:3bde4e3d-0323-4342-8ecc-6f2c3dab5224\" xlink:type=\"simple\"><rect fill=\"#FFFFFF\" height=\"45.9375\" id=\"E5\" rx=\"10\" ry=\"10\" style=\"stroke: #383838; stroke-width: 1.5;\" width=\"42\" x=\"306\" y=\"297\"/><text fill=\"#000000\" font-family=\"sans-serif\" font-size=\"12\" font-style=\"italic\" lengthAdjust=\"spacingAndGlyphs\" textLength=\"40\" x=\"307\" y=\"313.1387\">«port»</text><text fill=\"#000000\" font-family=\"sans-serif\" font-size=\"12\" lengthAdjust=\"spacingAndGlyphs\" textLength=\"23\" x=\"313.5\" y=\"327.1074\">c: C</text><line style=\"stroke: #383838; stroke-width: 1.5;\" x1=\"307\" x2=\"347\" y1=\"334.9375\" y2=\"334.9375\"/></a><!--MD5=[60a26617385b1d2d0262a64233df1f8d]\n",
       "class E6--><a href=\"psysml:c17c630d-59e9-4f7e-a520-276041a9c800\" target=\"_top\" title=\"psysml:c17c630d-59e9-4f7e-a520-276041a9c800\" xlink:actuate=\"onRequest\" xlink:href=\"psysml:c17c630d-59e9-4f7e-a520-276041a9c800\" xlink:show=\"new\" xlink:title=\"psysml:c17c630d-59e9-4f7e-a520-276041a9c800\" xlink:type=\"simple\"><rect fill=\"#FFFFFF\" height=\"45.9375\" id=\"E6\" style=\"stroke: #383838; stroke-width: 1.5;\" width=\"70\" x=\"190\" y=\"572\"/><text fill=\"#000000\" font-family=\"sans-serif\" font-size=\"12\" font-style=\"italic\" lengthAdjust=\"spacingAndGlyphs\" textLength=\"68\" x=\"191\" y=\"588.1387\">«part  def»</text><text fill=\"#000000\" font-family=\"sans-serif\" font-size=\"12\" font-style=\"italic\" lengthAdjust=\"spacingAndGlyphs\" textLength=\"8\" x=\"221\" y=\"602.1074\">B</text><line style=\"stroke: #383838; stroke-width: 1.5;\" x1=\"191\" x2=\"259\" y1=\"609.9375\" y2=\"609.9375\"/></a><!--MD5=[2156ba9850f5573cc1fc38a6a4b2f02b]\n",
       "class E7--><a href=\"psysml:4ea01713-b83a-4578-95eb-e0c0377cf261\" target=\"_top\" title=\"psysml:4ea01713-b83a-4578-95eb-e0c0377cf261\" xlink:actuate=\"onRequest\" xlink:href=\"psysml:4ea01713-b83a-4578-95eb-e0c0377cf261\" xlink:show=\"new\" xlink:title=\"psysml:4ea01713-b83a-4578-95eb-e0c0377cf261\" xlink:type=\"simple\"><rect fill=\"#FFFFFF\" height=\"45.9375\" id=\"E7\" rx=\"10\" ry=\"10\" style=\"stroke: #383838; stroke-width: 1.5;\" width=\"42\" x=\"68\" y=\"682.5\"/><text fill=\"#000000\" font-family=\"sans-serif\" font-size=\"12\" font-style=\"italic\" lengthAdjust=\"spacingAndGlyphs\" textLength=\"40\" x=\"69\" y=\"698.6387\">«part»</text><text fill=\"#000000\" font-family=\"sans-serif\" font-size=\"12\" font-style=\"italic\" lengthAdjust=\"spacingAndGlyphs\" textLength=\"8\" x=\"75\" y=\"712.6074\">a</text><text fill=\"#000000\" font-family=\"sans-serif\" font-size=\"12\" lengthAdjust=\"spacingAndGlyphs\" textLength=\"16\" x=\"83\" y=\"712.6074\">: A</text><line style=\"stroke: #383838; stroke-width: 1.5;\" x1=\"69\" x2=\"109\" y1=\"720.4375\" y2=\"720.4375\"/></a><!--MD5=[b9389687b975829384b498ac4b7476b2]\n",
       "class E8--><a href=\"psysml:c9f90055-486d-4326-9691-bfe47f710c68\" target=\"_top\" title=\"psysml:c9f90055-486d-4326-9691-bfe47f710c68\" xlink:actuate=\"onRequest\" xlink:href=\"psysml:c9f90055-486d-4326-9691-bfe47f710c68\" xlink:show=\"new\" xlink:title=\"psysml:c9f90055-486d-4326-9691-bfe47f710c68\" xlink:type=\"simple\"><rect fill=\"#FFFFFF\" height=\"45.9375\" id=\"E8\" rx=\"10\" ry=\"10\" style=\"stroke: #383838; stroke-width: 1.5;\" width=\"42\" x=\"228\" y=\"682.5\"/><text fill=\"#000000\" font-family=\"sans-serif\" font-size=\"12\" font-style=\"italic\" lengthAdjust=\"spacingAndGlyphs\" textLength=\"40\" x=\"229\" y=\"698.6387\">«port»</text><text fill=\"#000000\" font-family=\"sans-serif\" font-size=\"12\" lengthAdjust=\"spacingAndGlyphs\" textLength=\"32\" x=\"231\" y=\"712.6074\">x: ~C</text><line style=\"stroke: #383838; stroke-width: 1.5;\" x1=\"229\" x2=\"269\" y1=\"720.4375\" y2=\"720.4375\"/></a><!--MD5=[96f4274e9e20536e775497830990834d]\n",
       "class E10--><a href=\"psysml:e209a1f3-de72-4850-a45f-7036acf7c094\" target=\"_top\" title=\"psysml:e209a1f3-de72-4850-a45f-7036acf7c094\" xlink:actuate=\"onRequest\" xlink:href=\"psysml:e209a1f3-de72-4850-a45f-7036acf7c094\" xlink:show=\"new\" xlink:title=\"psysml:e209a1f3-de72-4850-a45f-7036acf7c094\" xlink:type=\"simple\"><rect fill=\"#FFFFFF\" height=\"45.9375\" id=\"E10\" style=\"stroke: #383838; stroke-width: 1.5;\" width=\"70\" x=\"190\" y=\"449\"/><text fill=\"#000000\" font-family=\"sans-serif\" font-size=\"12\" font-style=\"italic\" lengthAdjust=\"spacingAndGlyphs\" textLength=\"68\" x=\"191\" y=\"465.1387\">«port  def»</text><text fill=\"#000000\" font-family=\"sans-serif\" font-size=\"12\" lengthAdjust=\"spacingAndGlyphs\" textLength=\"8\" x=\"221\" y=\"479.1074\">C</text><line style=\"stroke: #383838; stroke-width: 1.5;\" x1=\"191\" x2=\"259\" y1=\"486.9375\" y2=\"486.9375\"/></a><a href=\"psysml:78dea323-2f70-496c-aa91-db5f05f12a10\" target=\"_top\" title=\"psysml:78dea323-2f70-496c-aa91-db5f05f12a10\" xlink:actuate=\"onRequest\" xlink:href=\"psysml:78dea323-2f70-496c-aa91-db5f05f12a10\" xlink:show=\"new\" xlink:title=\"psysml:78dea323-2f70-496c-aa91-db5f05f12a10\" xlink:type=\"simple\"><polygon fill=\"#FFFFFF\" points=\"163.5,679,178.5,679,185.5,701.2969,192.5,701.2969,192.5,731.5938,163.5,731.5938,163.5,679\" style=\"stroke: #000000; stroke-width: 1.5;\"/><line style=\"stroke: #000000; stroke-width: 1.5;\" x1=\"163.5\" x2=\"185.5\" y1=\"701.2969\" y2=\"701.2969\"/><text fill=\"#000000\" font-family=\"sans-serif\" font-size=\"14\" font-weight=\"bold\" lengthAdjust=\"spacingAndGlyphs\" textLength=\"9\" x=\"167.5\" y=\"693.9951\">P</text></a><!--MD5=[2720a5a1f2c3fca2055b230370638851]\n",
       "link E2 to E3--><a href=\"psysml:de99b855-827b-4779-9c99-7b4326eef43f\" target=\"_top\" title=\"psysml:de99b855-827b-4779-9c99-7b4326eef43f\" xlink:actuate=\"onRequest\" xlink:href=\"psysml:de99b855-827b-4779-9c99-7b4326eef43f\" xlink:show=\"new\" xlink:title=\"psysml:de99b855-827b-4779-9c99-7b4326eef43f\" xlink:type=\"simple\"><path d=\"M222,87.24 C222,98.62 222,113.11 222,127.62 \" fill=\"none\" id=\"E2-&gt;E3\" style=\"stroke: #383838; stroke-width: 1.0;\"/><polygon fill=\"#FFFFFF\" points=\"222,147.84,215,128.84,229,128.84,222,147.84\" style=\"stroke: #383838; stroke-width: 1.0;\"/><ellipse cx=\"217\" cy=\"123.14\" fill=\"#383838\" rx=\"2\" ry=\"2\" style=\"stroke: #383838; stroke-width: 1.0;\"/><ellipse cx=\"227\" cy=\"123.14\" fill=\"#383838\" rx=\"2\" ry=\"2\" style=\"stroke: #383838; stroke-width: 1.0;\"/></a><!--MD5=[4672eba38e49728da53d11aeb285b987]\n",
       "reverse link E3 to E4--><a href=\"psysml:7d143534-3389-4013-881e-42b16664757f\" target=\"_top\" title=\"psysml:7d143534-3389-4013-881e-42b16664757f\" xlink:actuate=\"onRequest\" xlink:href=\"psysml:7d143534-3389-4013-881e-42b16664757f\" xlink:show=\"new\" xlink:title=\"psysml:7d143534-3389-4013-881e-42b16664757f\" xlink:type=\"simple\"><path d=\"M269.08,212.65 C302.85,229.56 345.81,257.51 366,297 C378.38,321.22 367.51,352.31 357.12,372.91 \" fill=\"none\" id=\"E3&lt;-E4\" style=\"stroke: #383838; stroke-width: 1.0;\"/><polygon fill=\"#383838\" points=\"257.11,206.92,260.7919,213.1203,267.9314,212.1063,264.2495,205.906,257.11,206.92\" style=\"stroke: #383838; stroke-width: 1.0;\"/><text fill=\"#000000\" font-family=\"sans-serif\" font-size=\"13\" lengthAdjust=\"spacingAndGlyphs\" textLength=\"8\" x=\"352.5085\" y=\"363.0064\">1</text></a><!--MD5=[191cde3d490a3f6d7bb551fe3ddca469]\n",
       "reverse link E3 to E5--><a href=\"psysml:01061be5-5fdc-439c-afe5-881fb8746c83\" target=\"_top\" title=\"psysml:01061be5-5fdc-439c-afe5-881fb8746c83\" xlink:actuate=\"onRequest\" xlink:href=\"psysml:01061be5-5fdc-439c-afe5-881fb8746c83\" xlink:show=\"new\" xlink:title=\"psysml:01061be5-5fdc-439c-afe5-881fb8746c83\" xlink:type=\"simple\"><path d=\"M265.68,245.41 C280.65,263.38 296.6,282.52 308.48,296.78 \" fill=\"none\" id=\"E3&lt;-E5\" style=\"stroke: #383838; stroke-width: 1.0;\"/><polygon fill=\"#FFFFFF\" points=\"257.26,235.31,258.0312,242.4797,264.9461,244.5254,264.1749,237.3557,257.26,235.31\" style=\"stroke: #383838; stroke-width: 1.0;\"/><text fill=\"#000000\" font-family=\"sans-serif\" font-size=\"13\" lengthAdjust=\"spacingAndGlyphs\" textLength=\"8\" x=\"294.7093\" y=\"285.9999\">1</text></a><!--MD5=[79568f1e445c3877b6a54524624ccc7d]\n",
       "link E4 to E6--><a href=\"psysml:8d11eaae-af32-434c-8c3d-32f92418f4c8\" target=\"_top\" title=\"psysml:8d11eaae-af32-434c-8c3d-32f92418f4c8\" xlink:actuate=\"onRequest\" xlink:href=\"psysml:8d11eaae-af32-434c-8c3d-32f92418f4c8\" xlink:show=\"new\" xlink:title=\"psysml:8d11eaae-af32-434c-8c3d-32f92418f4c8\" xlink:type=\"simple\"><path d=\"M330.58,419.22 C310.75,452.04 273.34,513.98 248.79,554.62 \" fill=\"none\" id=\"E4-&gt;E6\" style=\"stroke: #383838; stroke-width: 1.0;\"/><polygon fill=\"#FFFFFF\" points=\"238.37,571.87,242.2063,551.9883,254.1882,559.2294,238.37,571.87\" style=\"stroke: #383838; stroke-width: 1.0;\"/><ellipse cx=\"246.8662\" cy=\"548.1444\" fill=\"#383838\" rx=\"2\" ry=\"2\" style=\"stroke: #383838; stroke-width: 1.0;\"/><ellipse cx=\"255.4247\" cy=\"553.3166\" fill=\"#383838\" rx=\"2\" ry=\"2\" style=\"stroke: #383838; stroke-width: 1.0;\"/></a><!--MD5=[3f50a3473f1dfb74d3f76443e03635af]\n",
       "reverse link E6 to E7--><a href=\"psysml:7466bf8a-1e84-4b05-9901-ce46ee446fa5\" target=\"_top\" title=\"psysml:7466bf8a-1e84-4b05-9901-ce46ee446fa5\" xlink:actuate=\"onRequest\" xlink:href=\"psysml:7466bf8a-1e84-4b05-9901-ce46ee446fa5\" xlink:show=\"new\" xlink:title=\"psysml:7466bf8a-1e84-4b05-9901-ce46ee446fa5\" xlink:type=\"simple\"><path d=\"M186.96,626.35 C162.12,646.16 130.61,671.3 110.14,687.64 \" fill=\"none\" id=\"E6&lt;-E7\" style=\"stroke: #383838; stroke-width: 1.0;\"/><polygon fill=\"#383838\" points=\"197.15,618.22,189.9656,618.8398,187.7744,625.7099,194.9589,625.0901,197.15,618.22\" style=\"stroke: #383838; stroke-width: 1.0;\"/><text fill=\"#000000\" font-family=\"sans-serif\" font-size=\"13\" lengthAdjust=\"spacingAndGlyphs\" textLength=\"8\" x=\"118.1534\" y=\"676.6545\">1</text></a><!--MD5=[14ccda38c055a5c0da953d572bc50960]\n",
       "link E7 to E3--><a href=\"psysml:3c280f0c-0d5e-48e6-b009-cbd7db9e9beb\" target=\"_top\" title=\"psysml:3c280f0c-0d5e-48e6-b009-cbd7db9e9beb\" xlink:actuate=\"onRequest\" xlink:href=\"psysml:3c280f0c-0d5e-48e6-b009-cbd7db9e9beb\" xlink:show=\"new\" xlink:title=\"psysml:3c280f0c-0d5e-48e6-b009-cbd7db9e9beb\" xlink:type=\"simple\"><path d=\"M69.41,682.1 C53.27,661.28 33,628.64 33,596 C33,319 33,319 33,319 C33,253.99 111.37,220.46 167.18,204.82 \" fill=\"none\" id=\"E7-&gt;E3\" style=\"stroke: #383838; stroke-width: 1.0;\"/><polygon fill=\"#FFFFFF\" points=\"186.89,199.76,170.2265,211.2633,166.7463,197.7028,186.89,199.76\" style=\"stroke: #383838; stroke-width: 1.0;\"/><ellipse cx=\"164.2082\" cy=\"210.743\" fill=\"#383838\" rx=\"2\" ry=\"2\" style=\"stroke: #383838; stroke-width: 1.0;\"/><ellipse cx=\"161.7224\" cy=\"201.0569\" fill=\"#383838\" rx=\"2\" ry=\"2\" style=\"stroke: #383838; stroke-width: 1.0;\"/></a><!--MD5=[f4cf0736d43fd73c4ef68817c49d37d5]\n",
       "reverse link E6 to E8--><a href=\"psysml:dcb35f57-14cb-4e2c-8543-9245438ead5d\" target=\"_top\" title=\"psysml:dcb35f57-14cb-4e2c-8543-9245438ead5d\" xlink:actuate=\"onRequest\" xlink:href=\"psysml:dcb35f57-14cb-4e2c-8543-9245438ead5d\" xlink:show=\"new\" xlink:title=\"psysml:dcb35f57-14cb-4e2c-8543-9245438ead5d\" xlink:type=\"simple\"><path d=\"M232.74,630.98 C236.47,647.83 240.83,667.54 244.09,682.31 \" fill=\"none\" id=\"E6&lt;-E8\" style=\"stroke: #383838; stroke-width: 1.0;\"/><polygon fill=\"#FFFFFF\" points=\"229.91,618.22,227.2956,624.9405,232.4936,629.9386,235.108,623.2181,229.91,618.22\" style=\"stroke: #383838; stroke-width: 1.0;\"/><text fill=\"#000000\" font-family=\"sans-serif\" font-size=\"13\" lengthAdjust=\"spacingAndGlyphs\" textLength=\"8\" x=\"233.8068\" y=\"671.5376\">1</text></a><!--MD5=[e88d06e5a652d73a6b19930eefe025a8]\n",
       "reverse link E6 to E9--><a href=\"psysml:08766104-19a0-4aca-bf35-b4c81b8c6dcb\" target=\"_top\" title=\"psysml:08766104-19a0-4aca-bf35-b4c81b8c6dcb\" xlink:actuate=\"onRequest\" xlink:href=\"psysml:08766104-19a0-4aca-bf35-b4c81b8c6dcb\" xlink:show=\"new\" xlink:title=\"psysml:08766104-19a0-4aca-bf35-b4c81b8c6dcb\" xlink:type=\"simple\"><path d=\"M209.38,632.06 C202.74,647.39 195.15,664.91 189.1,678.88 \" fill=\"none\" id=\"E6&lt;-E9\" style=\"stroke: #383838; stroke-width: 1.0;\"/><ellipse cx=\"212.2011\" cy=\"625.5613\" fill=\"#FFFFFF\" rx=\"8\" ry=\"8\" style=\"stroke: #383838; stroke-width: 1.0;\"/><line style=\"stroke: #383838; stroke-width: 1.0;\" x1=\"209.0221\" x2=\"215.38\" y1=\"632.9026\" y2=\"618.22\"/><line style=\"stroke: #383838; stroke-width: 1.0;\" x1=\"204.8598\" x2=\"219.5423\" y1=\"622.3823\" y2=\"628.7402\"/></a><!--MD5=[f78a29d5932556fa1060671a2a6507d8]\n",
       "link E5 to E10--><a href=\"psysml:568ef262-b92a-4cba-8a4b-19f4a197db7e\" target=\"_top\" title=\"psysml:568ef262-b92a-4cba-8a4b-19f4a197db7e\" xlink:actuate=\"onRequest\" xlink:href=\"psysml:568ef262-b92a-4cba-8a4b-19f4a197db7e\" xlink:show=\"new\" xlink:title=\"psysml:568ef262-b92a-4cba-8a4b-19f4a197db7e\" xlink:type=\"simple\"><path d=\"M315.99,343.2 C305.49,363.59 288.69,394.31 271,419 C267.54,423.82 263.72,428.71 259.79,433.47 \" fill=\"none\" id=\"E5-&gt;E10\" style=\"stroke: #383838; stroke-width: 1.0;\"/><polygon fill=\"#FFFFFF\" points=\"246.44,448.81,253.6429,429.886,264.1988,439.0824,246.44,448.81\" style=\"stroke: #383838; stroke-width: 1.0;\"/><ellipse cx=\"258.8951\" cy=\"426.902\" fill=\"#383838\" rx=\"2\" ry=\"2\" style=\"stroke: #383838; stroke-width: 1.0;\"/><ellipse cx=\"266.435\" cy=\"433.4709\" fill=\"#383838\" rx=\"2\" ry=\"2\" style=\"stroke: #383838; stroke-width: 1.0;\"/></a><!--MD5=[8e04057e7b3cbc0dca4fc78ea351e2da]\n",
       "reverse link E10 to E3--><a href=\"psysml:f2bac2b1-68d1-4631-bf1f-fa6cff2f703f\" target=\"_top\" title=\"psysml:f2bac2b1-68d1-4631-bf1f-fa6cff2f703f\" xlink:actuate=\"onRequest\" xlink:href=\"psysml:f2bac2b1-68d1-4631-bf1f-fa6cff2f703f\" xlink:show=\"new\" xlink:title=\"psysml:f2bac2b1-68d1-4631-bf1f-fa6cff2f703f\" xlink:type=\"simple\"><path d=\"M191.07,439.41 C168.36,415.54 140.89,380.56 131,343 C125.79,323.23 123.81,316.14 131,297 C142.22,267.13 166.35,240.23 186.94,221.27 \" fill=\"none\" id=\"E10&lt;-E3\" style=\"stroke: #383838; stroke-width: 1.0;\"/><polygon fill=\"#FFFFFF\" points=\"200.44,448.94,199.0863,441.8571,192.0275,440.3825,193.3813,447.4654,200.44,448.94\" style=\"stroke: #383838; stroke-width: 1.0;\"/><text fill=\"#000000\" font-family=\"sans-serif\" font-size=\"13\" lengthAdjust=\"spacingAndGlyphs\" textLength=\"7\" x=\"132\" y=\"324.5669\">y</text></a><!--MD5=[8e04057e7b3cbc0dca4fc78ea351e2da]\n",
       "reverse link E10 to E3--><a href=\"psysml:f2bac2b1-68d1-4631-bf1f-fa6cff2f703f\" target=\"_top\" title=\"psysml:f2bac2b1-68d1-4631-bf1f-fa6cff2f703f\" xlink:actuate=\"onRequest\" xlink:href=\"psysml:f2bac2b1-68d1-4631-bf1f-fa6cff2f703f\" xlink:show=\"new\" xlink:title=\"psysml:f2bac2b1-68d1-4631-bf1f-fa6cff2f703f\" xlink:type=\"simple\"><path d=\"M218.94,435.48 C213.66,400.35 207.24,345.02 210,297 C211.15,276.95 213.55,254.83 215.89,236.17 \" fill=\"none\" id=\"E10&lt;-E3-1\" style=\"stroke: #383838; stroke-width: 1.0;\"/><polygon fill=\"#FFFFFF\" points=\"221.04,448.78,224.0549,442.2294,219.1678,436.927,216.1529,443.4776,221.04,448.78\" style=\"stroke: #383838; stroke-width: 1.0;\"/><text fill=\"#000000\" font-family=\"sans-serif\" font-size=\"13\" lengthAdjust=\"spacingAndGlyphs\" textLength=\"7\" x=\"211\" y=\"324.5669\">y</text></a><!--MD5=[8e04057e7b3cbc0dca4fc78ea351e2da]\n",
       "reverse link E10 to E3--><a href=\"psysml:f2bac2b1-68d1-4631-bf1f-fa6cff2f703f\" target=\"_top\" title=\"psysml:f2bac2b1-68d1-4631-bf1f-fa6cff2f703f\" xlink:actuate=\"onRequest\" xlink:href=\"psysml:f2bac2b1-68d1-4631-bf1f-fa6cff2f703f\" xlink:show=\"new\" xlink:title=\"psysml:f2bac2b1-68d1-4631-bf1f-fa6cff2f703f\" xlink:type=\"simple\"><path d=\"M224.62,435.77 C224.07,384.92 223.06,291.06 222.47,236.13 \" fill=\"none\" id=\"E10&lt;-E3-2\" style=\"stroke: #383838; stroke-width: 1.0;\"/><polygon fill=\"#FFFFFF\" points=\"224.76,448.9,228.6938,442.8564,224.6281,436.9007,220.6943,442.9443,224.76,448.9\" style=\"stroke: #383838; stroke-width: 1.0;\"/><text fill=\"#000000\" font-family=\"sans-serif\" font-size=\"13\" lengthAdjust=\"spacingAndGlyphs\" textLength=\"7\" x=\"224\" y=\"324.5669\">y</text></a><!--MD5=[604cbf994c02b74b117f728a71673cea]\n",
       "reverse link E10 to E6--><a href=\"psysml:f2bac2b1-68d1-4631-bf1f-fa6cff2f703f\" target=\"_top\" title=\"psysml:f2bac2b1-68d1-4631-bf1f-fa6cff2f703f\" xlink:actuate=\"onRequest\" xlink:href=\"psysml:f2bac2b1-68d1-4631-bf1f-fa6cff2f703f\" xlink:show=\"new\" xlink:title=\"psysml:f2bac2b1-68d1-4631-bf1f-fa6cff2f703f\" xlink:type=\"simple\"><path d=\"M233.39,508.23 C235.07,519.04 236.05,530.99 235,542 C234.06,551.88 232.13,562.68 230.22,571.87 \" fill=\"none\" id=\"E10&lt;-E6\" style=\"stroke: #383838; stroke-width: 1.0;\"/><polygon fill=\"#FFFFFF\" points=\"230.97,495.31,228.1398,501.9425,233.1735,507.106,236.0037,500.4735,230.97,495.31\" style=\"stroke: #383838; stroke-width: 1.0;\"/><text fill=\"#000000\" font-family=\"sans-serif\" font-size=\"13\" lengthAdjust=\"spacingAndGlyphs\" textLength=\"7\" x=\"236\" y=\"538.0669\">y</text></a><!--MD5=[604cbf994c02b74b117f728a71673cea]\n",
       "reverse link E10 to E6--><a href=\"psysml:f2bac2b1-68d1-4631-bf1f-fa6cff2f703f\" target=\"_top\" title=\"psysml:f2bac2b1-68d1-4631-bf1f-fa6cff2f703f\" xlink:actuate=\"onRequest\" xlink:href=\"psysml:f2bac2b1-68d1-4631-bf1f-fa6cff2f703f\" xlink:show=\"new\" xlink:title=\"psysml:f2bac2b1-68d1-4631-bf1f-fa6cff2f703f\" xlink:type=\"simple\"><path d=\"M189.04,504.87 C184.13,511.03 179.81,517.82 177,525 C170.3,542.12 181.83,559.11 195.26,571.94 \" fill=\"none\" id=\"E10&lt;-E6-1\" style=\"stroke: #383838; stroke-width: 1.0;\"/><polygon fill=\"#FFFFFF\" points=\"197.73,495.16,190.7505,496.973,189.7396,504.1129,196.7191,502.2999,197.73,495.16\" style=\"stroke: #383838; stroke-width: 1.0;\"/><text fill=\"#000000\" font-family=\"sans-serif\" font-size=\"13\" lengthAdjust=\"spacingAndGlyphs\" textLength=\"7\" x=\"178\" y=\"538.0669\">y</text></a><!--MD5=[604cbf994c02b74b117f728a71673cea]\n",
       "reverse link E10 to E6--><a href=\"psysml:f2bac2b1-68d1-4631-bf1f-fa6cff2f703f\" target=\"_top\" title=\"psysml:f2bac2b1-68d1-4631-bf1f-fa6cff2f703f\" xlink:actuate=\"onRequest\" xlink:href=\"psysml:f2bac2b1-68d1-4631-bf1f-fa6cff2f703f\" xlink:show=\"new\" xlink:title=\"psysml:f2bac2b1-68d1-4631-bf1f-fa6cff2f703f\" xlink:type=\"simple\"><path d=\"M225,508.22 C225,528.81 225,554.16 225,571.95 \" fill=\"none\" id=\"E10&lt;-E6-2\" style=\"stroke: #383838; stroke-width: 1.0;\"/><polygon fill=\"#FFFFFF\" points=\"225,495.19,221,501.19,225,507.19,229,501.19,225,495.19\" style=\"stroke: #383838; stroke-width: 1.0;\"/><text fill=\"#000000\" font-family=\"sans-serif\" font-size=\"13\" lengthAdjust=\"spacingAndGlyphs\" textLength=\"7\" x=\"226\" y=\"538.0669\">y</text></a><!--MD5=[8f55a3c04f35ccc79e375c01efca2860]\n",
       "@startuml\r\n",
       "skinparam monochrome true\r\n",
       "skinparam classbackgroundcolor white\r\n",
       "skinparam shadowing false\r\n",
       "skinparam wrapWidth 300\r\n",
       "hide circle\r\n",
       "\r\n",
       "package \"PartTest\" as E1  [[psysml:c38775ed-c195-45a3-878f-69446059ff99 ]]  {\r\n",
       "comp usage \"f: A \" as E2  <<(T,blue) part>> [[psysml:133b9857-5562-4f09-a022-80109f8d4a7d ]] {\r\n",
       "}\r\n",
       "comp def \"A\" as E3  <<(T,blue) part  def>> [[psysml:41a43e73-47d4-427d-aa17-f57a90b2778c ]] {\r\n",
       "- - attributes - -\r\n",
       "x\r\n",
       "y:> A::x\r\n",
       "}\r\n",
       "comp usage \"b: B \" as E4  <<(T,blue) part>> [[psysml:23a90af0-4107-4bf0-84ea-ac7115753c4e ]] {\r\n",
       "}\r\n",
       "comp usage \"c: C \" as E5  <<(T,blue) port>> [[psysml:3bde4e3d-0323-4342-8ecc-6f2c3dab5224 ]] {\r\n",
       "}\r\n",
       "comp def \"<i>B</i>\" as E6  <<(T,blue) part  def>> [[psysml:c17c630d-59e9-4f7e-a520-276041a9c800 ]] {\r\n",
       "}\r\n",
       "comp usage \"<i>a</i>: A \" as E7  <<(T,blue) part>> [[psysml:4ea01713-b83a-4578-95eb-e0c0377cf261 ]] {\r\n",
       "}\r\n",
       "comp usage \"x: ~C \" as E8  <<(T,blue) port>> [[psysml:c9f90055-486d-4326-9691-bfe47f710c68 ]] {\r\n",
       "}\r\n",
       "package \"P\" as E9  [[psysml:78dea323-2f70-496c-aa91-db5f05f12a10 ]]  {\r\n",
       "}\r\n",
       "comp def \"C\" as E10  <<(T,blue) port  def>> [[psysml:e209a1f3-de72-4850-a45f-7036acf7c094 ]] {\r\n",
       "}\r\n",
       "}\r\n",
       "E2 - -:|> E3 [[psysml:de99b855-827b-4779-9c99-7b4326eef43f ]] \r\n",
       "E3 *- - \"1\"E4 [[psysml:7d143534-3389-4013-881e-42b16664757f ]] \r\n",
       "E3 o- - \"1\"E5 [[psysml:01061be5-5fdc-439c-afe5-881fb8746c83 ]] \r\n",
       "E4 - -:|> E6 [[psysml:8d11eaae-af32-434c-8c3d-32f92418f4c8 ]] \r\n",
       "E6 *- - \"1\"E7 [[psysml:7466bf8a-1e84-4b05-9901-ce46ee446fa5 ]] \r\n",
       "E7 - -:|> E3 [[psysml:3c280f0c-0d5e-48e6-b009-cbd7db9e9beb ]] \r\n",
       "E6 o- - \"1\"E8 [[psysml:dcb35f57-14cb-4e2c-8543-9245438ead5d ]] \r\n",
       "E6 +- - E9 [[psysml:08766104-19a0-4aca-bf35-b4c81b8c6dcb ]] \r\n",
       "E5 - -:|> E10 [[psysml:568ef262-b92a-4cba-8a4b-19f4a197db7e ]] \r\n",
       "E10 o- - E3 [[psysml:f2bac2b1-68d1-4631-bf1f-fa6cff2f703f ]] : y\r\n",
       "E10 o- - E6 [[psysml:f2bac2b1-68d1-4631-bf1f-fa6cff2f703f ]] : y\r\n",
       "E10 o- - E3 [[psysml:f2bac2b1-68d1-4631-bf1f-fa6cff2f703f ]] : y\r\n",
       "E10 o- - E6 [[psysml:f2bac2b1-68d1-4631-bf1f-fa6cff2f703f ]] : y\r\n",
       "E10 o- - E3 [[psysml:f2bac2b1-68d1-4631-bf1f-fa6cff2f703f ]] : y\r\n",
       "E10 o- - E6 [[psysml:f2bac2b1-68d1-4631-bf1f-fa6cff2f703f ]] : y\r\n",
       "@enduml\r\n",
       "\n",
       "PlantUML version 1.2020.13(Sat Jun 13 12:26:38 UTC 2020)\n",
       "(EPL source distribution)\n",
       "Java Runtime: OpenJDK Runtime Environment\n",
       "JVM: OpenJDK 64-Bit Server VM\n",
       "Default Encoding: UTF-8\n",
       "Language: en\n",
       "Country: null\n",
       "--></g></svg>"
      ]
     },
     "execution_count": 43,
     "metadata": {},
     "output_type": "execute_result"
    }
   ],
   "source": [
    "%viz --style=\"DEFAULT\" --view=\"MIXED\" \"PartTest\""
   ]
  },
  {
   "cell_type": "code",
   "execution_count": 44,
   "id": "99a51db3",
   "metadata": {
    "execution": {
     "iopub.execute_input": "2022-02-05T16:55:45.812706Z",
     "iopub.status.busy": "2022-02-05T16:55:45.812095Z",
     "iopub.status.idle": "2022-02-05T16:55:45.869263Z",
     "shell.execute_reply": "2022-02-05T16:55:45.868374Z"
    }
   },
   "outputs": [
    {
     "data": {
      "image/svg+xml": [
       "<?xml version=\"1.0\" encoding=\"UTF-8\" standalone=\"no\"?><svg xmlns=\"http://www.w3.org/2000/svg\" xmlns:xlink=\"http://www.w3.org/1999/xlink\" contentScriptType=\"application/ecmascript\" contentStyleType=\"text/css\" height=\"760px\" preserveAspectRatio=\"none\" style=\"width:423px;height:760px;\" version=\"1.1\" viewBox=\"0 0 423 760\" width=\"423px\" zoomAndPan=\"magnify\"><defs/><g><!--MD5=[fbc87193dbaf4d95561dea2c320d4a47]\n",
       "cluster E1--><a href=\"psysml:c38775ed-c195-45a3-878f-69446059ff99\" target=\"_top\" title=\"psysml:c38775ed-c195-45a3-878f-69446059ff99\" xlink:actuate=\"onRequest\" xlink:href=\"psysml:c38775ed-c195-45a3-878f-69446059ff99\" xlink:show=\"new\" xlink:title=\"psysml:c38775ed-c195-45a3-878f-69446059ff99\" xlink:type=\"simple\"><polygon fill=\"#FFFFFF\" points=\"16,6,80,6,87,28.2969,401,28.2969,401,748,16,748,16,6\" style=\"stroke: #000000; stroke-width: 1.5;\"/><line style=\"stroke: #000000; stroke-width: 1.5;\" x1=\"16\" x2=\"87\" y1=\"28.2969\" y2=\"28.2969\"/><text fill=\"#000000\" font-family=\"sans-serif\" font-size=\"14\" font-weight=\"bold\" lengthAdjust=\"spacingAndGlyphs\" textLength=\"58\" x=\"20\" y=\"20.9951\">PartTest</text></a><!--MD5=[b4997ac47864f28c2f74865a473b2911]\n",
       "class E2--><a href=\"psysml:133b9857-5562-4f09-a022-80109f8d4a7d\" target=\"_top\" title=\"psysml:133b9857-5562-4f09-a022-80109f8d4a7d\" xlink:actuate=\"onRequest\" xlink:href=\"psysml:133b9857-5562-4f09-a022-80109f8d4a7d\" xlink:show=\"new\" xlink:title=\"psysml:133b9857-5562-4f09-a022-80109f8d4a7d\" xlink:type=\"simple\"><rect fill=\"#FFFFFF\" height=\"45.9375\" id=\"E2\" rx=\"10\" ry=\"10\" style=\"stroke: #383838; stroke-width: 1.5;\" width=\"42\" x=\"201\" y=\"41\"/><text fill=\"#000000\" font-family=\"sans-serif\" font-size=\"12\" font-style=\"italic\" lengthAdjust=\"spacingAndGlyphs\" textLength=\"40\" x=\"202\" y=\"57.1387\">«part»</text><text fill=\"#000000\" font-family=\"sans-serif\" font-size=\"12\" lengthAdjust=\"spacingAndGlyphs\" textLength=\"20\" x=\"210\" y=\"71.1074\">f: A</text><line style=\"stroke: #383838; stroke-width: 1.5;\" x1=\"202\" x2=\"242\" y1=\"78.9375\" y2=\"78.9375\"/></a><!--MD5=[09b614a08d8cba4a07c9adeb5e0fee81]\n",
       "class E3--><a href=\"psysml:41a43e73-47d4-427d-aa17-f57a90b2778c\" target=\"_top\" title=\"psysml:41a43e73-47d4-427d-aa17-f57a90b2778c\" xlink:actuate=\"onRequest\" xlink:href=\"psysml:41a43e73-47d4-427d-aa17-f57a90b2778c\" xlink:show=\"new\" xlink:title=\"psysml:41a43e73-47d4-427d-aa17-f57a90b2778c\" xlink:type=\"simple\"><rect fill=\"#FFFFFF\" height=\"88.3516\" id=\"E3\" style=\"stroke: #383838; stroke-width: 1.5;\" width=\"70\" x=\"187\" y=\"148\"/><text fill=\"#000000\" font-family=\"sans-serif\" font-size=\"12\" font-style=\"italic\" lengthAdjust=\"spacingAndGlyphs\" textLength=\"68\" x=\"188\" y=\"164.1387\">«part  def»</text><text fill=\"#000000\" font-family=\"sans-serif\" font-size=\"12\" lengthAdjust=\"spacingAndGlyphs\" textLength=\"8\" x=\"218\" y=\"178.1074\">A</text><line style=\"stroke: #383838; stroke-width: 1.5;\" x1=\"188\" x2=\"256\" y1=\"185.9375\" y2=\"185.9375\"/><text fill=\"#000000\" font-family=\"sans-serif\" font-size=\"11\" lengthAdjust=\"spacingAndGlyphs\" textLength=\"6\" x=\"193\" y=\"216.9526\">x</text><text fill=\"#000000\" font-family=\"sans-serif\" font-size=\"11\" lengthAdjust=\"spacingAndGlyphs\" textLength=\"44\" x=\"193\" y=\"229.7573\">y:&gt; A::x</text><line style=\"stroke: #383838; stroke-width: 1.0;\" x1=\"188\" x2=\"194.5\" y1=\"200.3398\" y2=\"200.3398\"/><text fill=\"#000000\" font-family=\"sans-serif\" font-size=\"11\" lengthAdjust=\"spacingAndGlyphs\" textLength=\"55\" x=\"194.5\" y=\"203.6479\">attributes</text><line style=\"stroke: #383838; stroke-width: 1.0;\" x1=\"249.5\" x2=\"256\" y1=\"200.3398\" y2=\"200.3398\"/></a><!--MD5=[ebbe1d658d1005bcc118a6aa81145e00]\n",
       "class E4--><a href=\"psysml:23a90af0-4107-4bf0-84ea-ac7115753c4e\" target=\"_top\" title=\"psysml:23a90af0-4107-4bf0-84ea-ac7115753c4e\" xlink:actuate=\"onRequest\" xlink:href=\"psysml:23a90af0-4107-4bf0-84ea-ac7115753c4e\" xlink:show=\"new\" xlink:title=\"psysml:23a90af0-4107-4bf0-84ea-ac7115753c4e\" xlink:type=\"simple\"><rect fill=\"#FFFFFF\" height=\"45.9375\" id=\"E4\" rx=\"10\" ry=\"10\" style=\"stroke: #383838; stroke-width: 1.5;\" width=\"42\" x=\"323\" y=\"373\"/><text fill=\"#000000\" font-family=\"sans-serif\" font-size=\"12\" font-style=\"italic\" lengthAdjust=\"spacingAndGlyphs\" textLength=\"40\" x=\"324\" y=\"389.1387\">«part»</text><text fill=\"#000000\" font-family=\"sans-serif\" font-size=\"12\" lengthAdjust=\"spacingAndGlyphs\" textLength=\"24\" x=\"330\" y=\"403.1074\">b: B</text><line style=\"stroke: #383838; stroke-width: 1.5;\" x1=\"324\" x2=\"364\" y1=\"410.9375\" y2=\"410.9375\"/></a><!--MD5=[270fce915f116d4de14055a7c1d9a0f3]\n",
       "class E5--><a href=\"psysml:3bde4e3d-0323-4342-8ecc-6f2c3dab5224\" target=\"_top\" title=\"psysml:3bde4e3d-0323-4342-8ecc-6f2c3dab5224\" xlink:actuate=\"onRequest\" xlink:href=\"psysml:3bde4e3d-0323-4342-8ecc-6f2c3dab5224\" xlink:show=\"new\" xlink:title=\"psysml:3bde4e3d-0323-4342-8ecc-6f2c3dab5224\" xlink:type=\"simple\"><rect fill=\"#FFFFFF\" height=\"45.9375\" id=\"E5\" rx=\"10\" ry=\"10\" style=\"stroke: #383838; stroke-width: 1.5;\" width=\"42\" x=\"306\" y=\"297\"/><text fill=\"#000000\" font-family=\"sans-serif\" font-size=\"12\" font-style=\"italic\" lengthAdjust=\"spacingAndGlyphs\" textLength=\"40\" x=\"307\" y=\"313.1387\">«port»</text><text fill=\"#000000\" font-family=\"sans-serif\" font-size=\"12\" lengthAdjust=\"spacingAndGlyphs\" textLength=\"23\" x=\"313.5\" y=\"327.1074\">c: C</text><line style=\"stroke: #383838; stroke-width: 1.5;\" x1=\"307\" x2=\"347\" y1=\"334.9375\" y2=\"334.9375\"/></a><!--MD5=[60a26617385b1d2d0262a64233df1f8d]\n",
       "class E6--><a href=\"psysml:c17c630d-59e9-4f7e-a520-276041a9c800\" target=\"_top\" title=\"psysml:c17c630d-59e9-4f7e-a520-276041a9c800\" xlink:actuate=\"onRequest\" xlink:href=\"psysml:c17c630d-59e9-4f7e-a520-276041a9c800\" xlink:show=\"new\" xlink:title=\"psysml:c17c630d-59e9-4f7e-a520-276041a9c800\" xlink:type=\"simple\"><rect fill=\"#FFFFFF\" height=\"45.9375\" id=\"E6\" style=\"stroke: #383838; stroke-width: 1.5;\" width=\"70\" x=\"190\" y=\"572\"/><text fill=\"#000000\" font-family=\"sans-serif\" font-size=\"12\" font-style=\"italic\" lengthAdjust=\"spacingAndGlyphs\" textLength=\"68\" x=\"191\" y=\"588.1387\">«part  def»</text><text fill=\"#000000\" font-family=\"sans-serif\" font-size=\"12\" font-style=\"italic\" lengthAdjust=\"spacingAndGlyphs\" textLength=\"8\" x=\"221\" y=\"602.1074\">B</text><line style=\"stroke: #383838; stroke-width: 1.5;\" x1=\"191\" x2=\"259\" y1=\"609.9375\" y2=\"609.9375\"/></a><!--MD5=[2156ba9850f5573cc1fc38a6a4b2f02b]\n",
       "class E7--><a href=\"psysml:4ea01713-b83a-4578-95eb-e0c0377cf261\" target=\"_top\" title=\"psysml:4ea01713-b83a-4578-95eb-e0c0377cf261\" xlink:actuate=\"onRequest\" xlink:href=\"psysml:4ea01713-b83a-4578-95eb-e0c0377cf261\" xlink:show=\"new\" xlink:title=\"psysml:4ea01713-b83a-4578-95eb-e0c0377cf261\" xlink:type=\"simple\"><rect fill=\"#FFFFFF\" height=\"45.9375\" id=\"E7\" rx=\"10\" ry=\"10\" style=\"stroke: #383838; stroke-width: 1.5;\" width=\"42\" x=\"68\" y=\"682.5\"/><text fill=\"#000000\" font-family=\"sans-serif\" font-size=\"12\" font-style=\"italic\" lengthAdjust=\"spacingAndGlyphs\" textLength=\"40\" x=\"69\" y=\"698.6387\">«part»</text><text fill=\"#000000\" font-family=\"sans-serif\" font-size=\"12\" font-style=\"italic\" lengthAdjust=\"spacingAndGlyphs\" textLength=\"8\" x=\"75\" y=\"712.6074\">a</text><text fill=\"#000000\" font-family=\"sans-serif\" font-size=\"12\" lengthAdjust=\"spacingAndGlyphs\" textLength=\"16\" x=\"83\" y=\"712.6074\">: A</text><line style=\"stroke: #383838; stroke-width: 1.5;\" x1=\"69\" x2=\"109\" y1=\"720.4375\" y2=\"720.4375\"/></a><!--MD5=[b9389687b975829384b498ac4b7476b2]\n",
       "class E8--><a href=\"psysml:c9f90055-486d-4326-9691-bfe47f710c68\" target=\"_top\" title=\"psysml:c9f90055-486d-4326-9691-bfe47f710c68\" xlink:actuate=\"onRequest\" xlink:href=\"psysml:c9f90055-486d-4326-9691-bfe47f710c68\" xlink:show=\"new\" xlink:title=\"psysml:c9f90055-486d-4326-9691-bfe47f710c68\" xlink:type=\"simple\"><rect fill=\"#FFFFFF\" height=\"45.9375\" id=\"E8\" rx=\"10\" ry=\"10\" style=\"stroke: #383838; stroke-width: 1.5;\" width=\"42\" x=\"228\" y=\"682.5\"/><text fill=\"#000000\" font-family=\"sans-serif\" font-size=\"12\" font-style=\"italic\" lengthAdjust=\"spacingAndGlyphs\" textLength=\"40\" x=\"229\" y=\"698.6387\">«port»</text><text fill=\"#000000\" font-family=\"sans-serif\" font-size=\"12\" lengthAdjust=\"spacingAndGlyphs\" textLength=\"32\" x=\"231\" y=\"712.6074\">x: ~C</text><line style=\"stroke: #383838; stroke-width: 1.5;\" x1=\"229\" x2=\"269\" y1=\"720.4375\" y2=\"720.4375\"/></a><!--MD5=[96f4274e9e20536e775497830990834d]\n",
       "class E10--><a href=\"psysml:e209a1f3-de72-4850-a45f-7036acf7c094\" target=\"_top\" title=\"psysml:e209a1f3-de72-4850-a45f-7036acf7c094\" xlink:actuate=\"onRequest\" xlink:href=\"psysml:e209a1f3-de72-4850-a45f-7036acf7c094\" xlink:show=\"new\" xlink:title=\"psysml:e209a1f3-de72-4850-a45f-7036acf7c094\" xlink:type=\"simple\"><rect fill=\"#FFFFFF\" height=\"45.9375\" id=\"E10\" style=\"stroke: #383838; stroke-width: 1.5;\" width=\"70\" x=\"190\" y=\"449\"/><text fill=\"#000000\" font-family=\"sans-serif\" font-size=\"12\" font-style=\"italic\" lengthAdjust=\"spacingAndGlyphs\" textLength=\"68\" x=\"191\" y=\"465.1387\">«port  def»</text><text fill=\"#000000\" font-family=\"sans-serif\" font-size=\"12\" lengthAdjust=\"spacingAndGlyphs\" textLength=\"8\" x=\"221\" y=\"479.1074\">C</text><line style=\"stroke: #383838; stroke-width: 1.5;\" x1=\"191\" x2=\"259\" y1=\"486.9375\" y2=\"486.9375\"/></a><a href=\"psysml:78dea323-2f70-496c-aa91-db5f05f12a10\" target=\"_top\" title=\"psysml:78dea323-2f70-496c-aa91-db5f05f12a10\" xlink:actuate=\"onRequest\" xlink:href=\"psysml:78dea323-2f70-496c-aa91-db5f05f12a10\" xlink:show=\"new\" xlink:title=\"psysml:78dea323-2f70-496c-aa91-db5f05f12a10\" xlink:type=\"simple\"><polygon fill=\"#FFFFFF\" points=\"163.5,679,178.5,679,185.5,701.2969,192.5,701.2969,192.5,731.5938,163.5,731.5938,163.5,679\" style=\"stroke: #000000; stroke-width: 1.5;\"/><line style=\"stroke: #000000; stroke-width: 1.5;\" x1=\"163.5\" x2=\"185.5\" y1=\"701.2969\" y2=\"701.2969\"/><text fill=\"#000000\" font-family=\"sans-serif\" font-size=\"14\" font-weight=\"bold\" lengthAdjust=\"spacingAndGlyphs\" textLength=\"9\" x=\"167.5\" y=\"693.9951\">P</text></a><!--MD5=[2720a5a1f2c3fca2055b230370638851]\n",
       "link E2 to E3--><a href=\"psysml:de99b855-827b-4779-9c99-7b4326eef43f\" target=\"_top\" title=\"psysml:de99b855-827b-4779-9c99-7b4326eef43f\" xlink:actuate=\"onRequest\" xlink:href=\"psysml:de99b855-827b-4779-9c99-7b4326eef43f\" xlink:show=\"new\" xlink:title=\"psysml:de99b855-827b-4779-9c99-7b4326eef43f\" xlink:type=\"simple\"><path d=\"M222,87.24 C222,98.62 222,113.11 222,127.62 \" fill=\"none\" id=\"E2-&gt;E3\" style=\"stroke: #383838; stroke-width: 1.0;\"/><polygon fill=\"#FFFFFF\" points=\"222,147.84,215,128.84,229,128.84,222,147.84\" style=\"stroke: #383838; stroke-width: 1.0;\"/><ellipse cx=\"217\" cy=\"123.14\" fill=\"#383838\" rx=\"2\" ry=\"2\" style=\"stroke: #383838; stroke-width: 1.0;\"/><ellipse cx=\"227\" cy=\"123.14\" fill=\"#383838\" rx=\"2\" ry=\"2\" style=\"stroke: #383838; stroke-width: 1.0;\"/></a><!--MD5=[4672eba38e49728da53d11aeb285b987]\n",
       "reverse link E3 to E4--><a href=\"psysml:7d143534-3389-4013-881e-42b16664757f\" target=\"_top\" title=\"psysml:7d143534-3389-4013-881e-42b16664757f\" xlink:actuate=\"onRequest\" xlink:href=\"psysml:7d143534-3389-4013-881e-42b16664757f\" xlink:show=\"new\" xlink:title=\"psysml:7d143534-3389-4013-881e-42b16664757f\" xlink:type=\"simple\"><path d=\"M269.08,212.65 C302.85,229.56 345.81,257.51 366,297 C378.38,321.22 367.51,352.31 357.12,372.91 \" fill=\"none\" id=\"E3&lt;-E4\" style=\"stroke: #383838; stroke-width: 1.0;\"/><polygon fill=\"#383838\" points=\"257.11,206.92,260.7919,213.1203,267.9314,212.1063,264.2495,205.906,257.11,206.92\" style=\"stroke: #383838; stroke-width: 1.0;\"/><text fill=\"#000000\" font-family=\"sans-serif\" font-size=\"13\" lengthAdjust=\"spacingAndGlyphs\" textLength=\"8\" x=\"352.5085\" y=\"363.0064\">1</text></a><!--MD5=[191cde3d490a3f6d7bb551fe3ddca469]\n",
       "reverse link E3 to E5--><a href=\"psysml:01061be5-5fdc-439c-afe5-881fb8746c83\" target=\"_top\" title=\"psysml:01061be5-5fdc-439c-afe5-881fb8746c83\" xlink:actuate=\"onRequest\" xlink:href=\"psysml:01061be5-5fdc-439c-afe5-881fb8746c83\" xlink:show=\"new\" xlink:title=\"psysml:01061be5-5fdc-439c-afe5-881fb8746c83\" xlink:type=\"simple\"><path d=\"M265.68,245.41 C280.65,263.38 296.6,282.52 308.48,296.78 \" fill=\"none\" id=\"E3&lt;-E5\" style=\"stroke: #383838; stroke-width: 1.0;\"/><polygon fill=\"#FFFFFF\" points=\"257.26,235.31,258.0312,242.4797,264.9461,244.5254,264.1749,237.3557,257.26,235.31\" style=\"stroke: #383838; stroke-width: 1.0;\"/><text fill=\"#000000\" font-family=\"sans-serif\" font-size=\"13\" lengthAdjust=\"spacingAndGlyphs\" textLength=\"8\" x=\"294.7093\" y=\"285.9999\">1</text></a><!--MD5=[79568f1e445c3877b6a54524624ccc7d]\n",
       "link E4 to E6--><a href=\"psysml:8d11eaae-af32-434c-8c3d-32f92418f4c8\" target=\"_top\" title=\"psysml:8d11eaae-af32-434c-8c3d-32f92418f4c8\" xlink:actuate=\"onRequest\" xlink:href=\"psysml:8d11eaae-af32-434c-8c3d-32f92418f4c8\" xlink:show=\"new\" xlink:title=\"psysml:8d11eaae-af32-434c-8c3d-32f92418f4c8\" xlink:type=\"simple\"><path d=\"M330.58,419.22 C310.75,452.04 273.34,513.98 248.79,554.62 \" fill=\"none\" id=\"E4-&gt;E6\" style=\"stroke: #383838; stroke-width: 1.0;\"/><polygon fill=\"#FFFFFF\" points=\"238.37,571.87,242.2063,551.9883,254.1882,559.2294,238.37,571.87\" style=\"stroke: #383838; stroke-width: 1.0;\"/><ellipse cx=\"246.8662\" cy=\"548.1444\" fill=\"#383838\" rx=\"2\" ry=\"2\" style=\"stroke: #383838; stroke-width: 1.0;\"/><ellipse cx=\"255.4247\" cy=\"553.3166\" fill=\"#383838\" rx=\"2\" ry=\"2\" style=\"stroke: #383838; stroke-width: 1.0;\"/></a><!--MD5=[3f50a3473f1dfb74d3f76443e03635af]\n",
       "reverse link E6 to E7--><a href=\"psysml:7466bf8a-1e84-4b05-9901-ce46ee446fa5\" target=\"_top\" title=\"psysml:7466bf8a-1e84-4b05-9901-ce46ee446fa5\" xlink:actuate=\"onRequest\" xlink:href=\"psysml:7466bf8a-1e84-4b05-9901-ce46ee446fa5\" xlink:show=\"new\" xlink:title=\"psysml:7466bf8a-1e84-4b05-9901-ce46ee446fa5\" xlink:type=\"simple\"><path d=\"M186.96,626.35 C162.12,646.16 130.61,671.3 110.14,687.64 \" fill=\"none\" id=\"E6&lt;-E7\" style=\"stroke: #383838; stroke-width: 1.0;\"/><polygon fill=\"#383838\" points=\"197.15,618.22,189.9656,618.8398,187.7744,625.7099,194.9589,625.0901,197.15,618.22\" style=\"stroke: #383838; stroke-width: 1.0;\"/><text fill=\"#000000\" font-family=\"sans-serif\" font-size=\"13\" lengthAdjust=\"spacingAndGlyphs\" textLength=\"8\" x=\"118.1534\" y=\"676.6545\">1</text></a><!--MD5=[14ccda38c055a5c0da953d572bc50960]\n",
       "link E7 to E3--><a href=\"psysml:3c280f0c-0d5e-48e6-b009-cbd7db9e9beb\" target=\"_top\" title=\"psysml:3c280f0c-0d5e-48e6-b009-cbd7db9e9beb\" xlink:actuate=\"onRequest\" xlink:href=\"psysml:3c280f0c-0d5e-48e6-b009-cbd7db9e9beb\" xlink:show=\"new\" xlink:title=\"psysml:3c280f0c-0d5e-48e6-b009-cbd7db9e9beb\" xlink:type=\"simple\"><path d=\"M69.41,682.1 C53.27,661.28 33,628.64 33,596 C33,319 33,319 33,319 C33,253.99 111.37,220.46 167.18,204.82 \" fill=\"none\" id=\"E7-&gt;E3\" style=\"stroke: #383838; stroke-width: 1.0;\"/><polygon fill=\"#FFFFFF\" points=\"186.89,199.76,170.2265,211.2633,166.7463,197.7028,186.89,199.76\" style=\"stroke: #383838; stroke-width: 1.0;\"/><ellipse cx=\"164.2082\" cy=\"210.743\" fill=\"#383838\" rx=\"2\" ry=\"2\" style=\"stroke: #383838; stroke-width: 1.0;\"/><ellipse cx=\"161.7224\" cy=\"201.0569\" fill=\"#383838\" rx=\"2\" ry=\"2\" style=\"stroke: #383838; stroke-width: 1.0;\"/></a><!--MD5=[f4cf0736d43fd73c4ef68817c49d37d5]\n",
       "reverse link E6 to E8--><a href=\"psysml:dcb35f57-14cb-4e2c-8543-9245438ead5d\" target=\"_top\" title=\"psysml:dcb35f57-14cb-4e2c-8543-9245438ead5d\" xlink:actuate=\"onRequest\" xlink:href=\"psysml:dcb35f57-14cb-4e2c-8543-9245438ead5d\" xlink:show=\"new\" xlink:title=\"psysml:dcb35f57-14cb-4e2c-8543-9245438ead5d\" xlink:type=\"simple\"><path d=\"M232.74,630.98 C236.47,647.83 240.83,667.54 244.09,682.31 \" fill=\"none\" id=\"E6&lt;-E8\" style=\"stroke: #383838; stroke-width: 1.0;\"/><polygon fill=\"#FFFFFF\" points=\"229.91,618.22,227.2956,624.9405,232.4936,629.9386,235.108,623.2181,229.91,618.22\" style=\"stroke: #383838; stroke-width: 1.0;\"/><text fill=\"#000000\" font-family=\"sans-serif\" font-size=\"13\" lengthAdjust=\"spacingAndGlyphs\" textLength=\"8\" x=\"233.8068\" y=\"671.5376\">1</text></a><!--MD5=[e88d06e5a652d73a6b19930eefe025a8]\n",
       "reverse link E6 to E9--><a href=\"psysml:08766104-19a0-4aca-bf35-b4c81b8c6dcb\" target=\"_top\" title=\"psysml:08766104-19a0-4aca-bf35-b4c81b8c6dcb\" xlink:actuate=\"onRequest\" xlink:href=\"psysml:08766104-19a0-4aca-bf35-b4c81b8c6dcb\" xlink:show=\"new\" xlink:title=\"psysml:08766104-19a0-4aca-bf35-b4c81b8c6dcb\" xlink:type=\"simple\"><path d=\"M209.38,632.06 C202.74,647.39 195.15,664.91 189.1,678.88 \" fill=\"none\" id=\"E6&lt;-E9\" style=\"stroke: #383838; stroke-width: 1.0;\"/><ellipse cx=\"212.2011\" cy=\"625.5613\" fill=\"#FFFFFF\" rx=\"8\" ry=\"8\" style=\"stroke: #383838; stroke-width: 1.0;\"/><line style=\"stroke: #383838; stroke-width: 1.0;\" x1=\"209.0221\" x2=\"215.38\" y1=\"632.9026\" y2=\"618.22\"/><line style=\"stroke: #383838; stroke-width: 1.0;\" x1=\"204.8598\" x2=\"219.5423\" y1=\"622.3823\" y2=\"628.7402\"/></a><!--MD5=[f78a29d5932556fa1060671a2a6507d8]\n",
       "link E5 to E10--><a href=\"psysml:568ef262-b92a-4cba-8a4b-19f4a197db7e\" target=\"_top\" title=\"psysml:568ef262-b92a-4cba-8a4b-19f4a197db7e\" xlink:actuate=\"onRequest\" xlink:href=\"psysml:568ef262-b92a-4cba-8a4b-19f4a197db7e\" xlink:show=\"new\" xlink:title=\"psysml:568ef262-b92a-4cba-8a4b-19f4a197db7e\" xlink:type=\"simple\"><path d=\"M315.99,343.2 C305.49,363.59 288.69,394.31 271,419 C267.54,423.82 263.72,428.71 259.79,433.47 \" fill=\"none\" id=\"E5-&gt;E10\" style=\"stroke: #383838; stroke-width: 1.0;\"/><polygon fill=\"#FFFFFF\" points=\"246.44,448.81,253.6429,429.886,264.1988,439.0824,246.44,448.81\" style=\"stroke: #383838; stroke-width: 1.0;\"/><ellipse cx=\"258.8951\" cy=\"426.902\" fill=\"#383838\" rx=\"2\" ry=\"2\" style=\"stroke: #383838; stroke-width: 1.0;\"/><ellipse cx=\"266.435\" cy=\"433.4709\" fill=\"#383838\" rx=\"2\" ry=\"2\" style=\"stroke: #383838; stroke-width: 1.0;\"/></a><!--MD5=[8e04057e7b3cbc0dca4fc78ea351e2da]\n",
       "reverse link E10 to E3--><a href=\"psysml:f2bac2b1-68d1-4631-bf1f-fa6cff2f703f\" target=\"_top\" title=\"psysml:f2bac2b1-68d1-4631-bf1f-fa6cff2f703f\" xlink:actuate=\"onRequest\" xlink:href=\"psysml:f2bac2b1-68d1-4631-bf1f-fa6cff2f703f\" xlink:show=\"new\" xlink:title=\"psysml:f2bac2b1-68d1-4631-bf1f-fa6cff2f703f\" xlink:type=\"simple\"><path d=\"M191.07,439.41 C168.36,415.54 140.89,380.56 131,343 C125.79,323.23 123.81,316.14 131,297 C142.22,267.13 166.35,240.23 186.94,221.27 \" fill=\"none\" id=\"E10&lt;-E3\" style=\"stroke: #383838; stroke-width: 1.0;\"/><polygon fill=\"#FFFFFF\" points=\"200.44,448.94,199.0863,441.8571,192.0275,440.3825,193.3813,447.4654,200.44,448.94\" style=\"stroke: #383838; stroke-width: 1.0;\"/><text fill=\"#000000\" font-family=\"sans-serif\" font-size=\"13\" lengthAdjust=\"spacingAndGlyphs\" textLength=\"7\" x=\"132\" y=\"324.5669\">y</text></a><!--MD5=[8e04057e7b3cbc0dca4fc78ea351e2da]\n",
       "reverse link E10 to E3--><a href=\"psysml:f2bac2b1-68d1-4631-bf1f-fa6cff2f703f\" target=\"_top\" title=\"psysml:f2bac2b1-68d1-4631-bf1f-fa6cff2f703f\" xlink:actuate=\"onRequest\" xlink:href=\"psysml:f2bac2b1-68d1-4631-bf1f-fa6cff2f703f\" xlink:show=\"new\" xlink:title=\"psysml:f2bac2b1-68d1-4631-bf1f-fa6cff2f703f\" xlink:type=\"simple\"><path d=\"M218.94,435.48 C213.66,400.35 207.24,345.02 210,297 C211.15,276.95 213.55,254.83 215.89,236.17 \" fill=\"none\" id=\"E10&lt;-E3-1\" style=\"stroke: #383838; stroke-width: 1.0;\"/><polygon fill=\"#FFFFFF\" points=\"221.04,448.78,224.0549,442.2294,219.1678,436.927,216.1529,443.4776,221.04,448.78\" style=\"stroke: #383838; stroke-width: 1.0;\"/><text fill=\"#000000\" font-family=\"sans-serif\" font-size=\"13\" lengthAdjust=\"spacingAndGlyphs\" textLength=\"7\" x=\"211\" y=\"324.5669\">y</text></a><!--MD5=[8e04057e7b3cbc0dca4fc78ea351e2da]\n",
       "reverse link E10 to E3--><a href=\"psysml:f2bac2b1-68d1-4631-bf1f-fa6cff2f703f\" target=\"_top\" title=\"psysml:f2bac2b1-68d1-4631-bf1f-fa6cff2f703f\" xlink:actuate=\"onRequest\" xlink:href=\"psysml:f2bac2b1-68d1-4631-bf1f-fa6cff2f703f\" xlink:show=\"new\" xlink:title=\"psysml:f2bac2b1-68d1-4631-bf1f-fa6cff2f703f\" xlink:type=\"simple\"><path d=\"M224.62,435.77 C224.07,384.92 223.06,291.06 222.47,236.13 \" fill=\"none\" id=\"E10&lt;-E3-2\" style=\"stroke: #383838; stroke-width: 1.0;\"/><polygon fill=\"#FFFFFF\" points=\"224.76,448.9,228.6938,442.8564,224.6281,436.9007,220.6943,442.9443,224.76,448.9\" style=\"stroke: #383838; stroke-width: 1.0;\"/><text fill=\"#000000\" font-family=\"sans-serif\" font-size=\"13\" lengthAdjust=\"spacingAndGlyphs\" textLength=\"7\" x=\"224\" y=\"324.5669\">y</text></a><!--MD5=[604cbf994c02b74b117f728a71673cea]\n",
       "reverse link E10 to E6--><a href=\"psysml:f2bac2b1-68d1-4631-bf1f-fa6cff2f703f\" target=\"_top\" title=\"psysml:f2bac2b1-68d1-4631-bf1f-fa6cff2f703f\" xlink:actuate=\"onRequest\" xlink:href=\"psysml:f2bac2b1-68d1-4631-bf1f-fa6cff2f703f\" xlink:show=\"new\" xlink:title=\"psysml:f2bac2b1-68d1-4631-bf1f-fa6cff2f703f\" xlink:type=\"simple\"><path d=\"M233.39,508.23 C235.07,519.04 236.05,530.99 235,542 C234.06,551.88 232.13,562.68 230.22,571.87 \" fill=\"none\" id=\"E10&lt;-E6\" style=\"stroke: #383838; stroke-width: 1.0;\"/><polygon fill=\"#FFFFFF\" points=\"230.97,495.31,228.1398,501.9425,233.1735,507.106,236.0037,500.4735,230.97,495.31\" style=\"stroke: #383838; stroke-width: 1.0;\"/><text fill=\"#000000\" font-family=\"sans-serif\" font-size=\"13\" lengthAdjust=\"spacingAndGlyphs\" textLength=\"7\" x=\"236\" y=\"538.0669\">y</text></a><!--MD5=[604cbf994c02b74b117f728a71673cea]\n",
       "reverse link E10 to E6--><a href=\"psysml:f2bac2b1-68d1-4631-bf1f-fa6cff2f703f\" target=\"_top\" title=\"psysml:f2bac2b1-68d1-4631-bf1f-fa6cff2f703f\" xlink:actuate=\"onRequest\" xlink:href=\"psysml:f2bac2b1-68d1-4631-bf1f-fa6cff2f703f\" xlink:show=\"new\" xlink:title=\"psysml:f2bac2b1-68d1-4631-bf1f-fa6cff2f703f\" xlink:type=\"simple\"><path d=\"M189.04,504.87 C184.13,511.03 179.81,517.82 177,525 C170.3,542.12 181.83,559.11 195.26,571.94 \" fill=\"none\" id=\"E10&lt;-E6-1\" style=\"stroke: #383838; stroke-width: 1.0;\"/><polygon fill=\"#FFFFFF\" points=\"197.73,495.16,190.7505,496.973,189.7396,504.1129,196.7191,502.2999,197.73,495.16\" style=\"stroke: #383838; stroke-width: 1.0;\"/><text fill=\"#000000\" font-family=\"sans-serif\" font-size=\"13\" lengthAdjust=\"spacingAndGlyphs\" textLength=\"7\" x=\"178\" y=\"538.0669\">y</text></a><!--MD5=[604cbf994c02b74b117f728a71673cea]\n",
       "reverse link E10 to E6--><a href=\"psysml:f2bac2b1-68d1-4631-bf1f-fa6cff2f703f\" target=\"_top\" title=\"psysml:f2bac2b1-68d1-4631-bf1f-fa6cff2f703f\" xlink:actuate=\"onRequest\" xlink:href=\"psysml:f2bac2b1-68d1-4631-bf1f-fa6cff2f703f\" xlink:show=\"new\" xlink:title=\"psysml:f2bac2b1-68d1-4631-bf1f-fa6cff2f703f\" xlink:type=\"simple\"><path d=\"M225,508.22 C225,528.81 225,554.16 225,571.95 \" fill=\"none\" id=\"E10&lt;-E6-2\" style=\"stroke: #383838; stroke-width: 1.0;\"/><polygon fill=\"#FFFFFF\" points=\"225,495.19,221,501.19,225,507.19,229,501.19,225,495.19\" style=\"stroke: #383838; stroke-width: 1.0;\"/><text fill=\"#000000\" font-family=\"sans-serif\" font-size=\"13\" lengthAdjust=\"spacingAndGlyphs\" textLength=\"7\" x=\"226\" y=\"538.0669\">y</text></a><!--MD5=[bdab82e92a8eec2532a7dc1cd652fa0c]\n",
       "@startuml\r\n",
       "top to bottom direction\r\n",
       "skinparam monochrome true\r\n",
       "skinparam classbackgroundcolor white\r\n",
       "skinparam shadowing false\r\n",
       "skinparam wrapWidth 300\r\n",
       "hide circle\r\n",
       "\r\n",
       "package \"PartTest\" as E1  [[psysml:c38775ed-c195-45a3-878f-69446059ff99 ]]  {\r\n",
       "comp usage \"f: A \" as E2  <<(T,blue) part>> [[psysml:133b9857-5562-4f09-a022-80109f8d4a7d ]] {\r\n",
       "}\r\n",
       "comp def \"A\" as E3  <<(T,blue) part  def>> [[psysml:41a43e73-47d4-427d-aa17-f57a90b2778c ]] {\r\n",
       "- - attributes - -\r\n",
       "x\r\n",
       "y:> A::x\r\n",
       "}\r\n",
       "comp usage \"b: B \" as E4  <<(T,blue) part>> [[psysml:23a90af0-4107-4bf0-84ea-ac7115753c4e ]] {\r\n",
       "}\r\n",
       "comp usage \"c: C \" as E5  <<(T,blue) port>> [[psysml:3bde4e3d-0323-4342-8ecc-6f2c3dab5224 ]] {\r\n",
       "}\r\n",
       "comp def \"<i>B</i>\" as E6  <<(T,blue) part  def>> [[psysml:c17c630d-59e9-4f7e-a520-276041a9c800 ]] {\r\n",
       "}\r\n",
       "comp usage \"<i>a</i>: A \" as E7  <<(T,blue) part>> [[psysml:4ea01713-b83a-4578-95eb-e0c0377cf261 ]] {\r\n",
       "}\r\n",
       "comp usage \"x: ~C \" as E8  <<(T,blue) port>> [[psysml:c9f90055-486d-4326-9691-bfe47f710c68 ]] {\r\n",
       "}\r\n",
       "package \"P\" as E9  [[psysml:78dea323-2f70-496c-aa91-db5f05f12a10 ]]  {\r\n",
       "}\r\n",
       "comp def \"C\" as E10  <<(T,blue) port  def>> [[psysml:e209a1f3-de72-4850-a45f-7036acf7c094 ]] {\r\n",
       "}\r\n",
       "}\r\n",
       "E2 - -:|> E3 [[psysml:de99b855-827b-4779-9c99-7b4326eef43f ]] \r\n",
       "E3 *- - \"1\"E4 [[psysml:7d143534-3389-4013-881e-42b16664757f ]] \r\n",
       "E3 o- - \"1\"E5 [[psysml:01061be5-5fdc-439c-afe5-881fb8746c83 ]] \r\n",
       "E4 - -:|> E6 [[psysml:8d11eaae-af32-434c-8c3d-32f92418f4c8 ]] \r\n",
       "E6 *- - \"1\"E7 [[psysml:7466bf8a-1e84-4b05-9901-ce46ee446fa5 ]] \r\n",
       "E7 - -:|> E3 [[psysml:3c280f0c-0d5e-48e6-b009-cbd7db9e9beb ]] \r\n",
       "E6 o- - \"1\"E8 [[psysml:dcb35f57-14cb-4e2c-8543-9245438ead5d ]] \r\n",
       "E6 +- - E9 [[psysml:08766104-19a0-4aca-bf35-b4c81b8c6dcb ]] \r\n",
       "E5 - -:|> E10 [[psysml:568ef262-b92a-4cba-8a4b-19f4a197db7e ]] \r\n",
       "E10 o- - E3 [[psysml:f2bac2b1-68d1-4631-bf1f-fa6cff2f703f ]] : y\r\n",
       "E10 o- - E6 [[psysml:f2bac2b1-68d1-4631-bf1f-fa6cff2f703f ]] : y\r\n",
       "E10 o- - E3 [[psysml:f2bac2b1-68d1-4631-bf1f-fa6cff2f703f ]] : y\r\n",
       "E10 o- - E6 [[psysml:f2bac2b1-68d1-4631-bf1f-fa6cff2f703f ]] : y\r\n",
       "E10 o- - E3 [[psysml:f2bac2b1-68d1-4631-bf1f-fa6cff2f703f ]] : y\r\n",
       "E10 o- - E6 [[psysml:f2bac2b1-68d1-4631-bf1f-fa6cff2f703f ]] : y\r\n",
       "@enduml\r\n",
       "\n",
       "PlantUML version 1.2020.13(Sat Jun 13 12:26:38 UTC 2020)\n",
       "(EPL source distribution)\n",
       "Java Runtime: OpenJDK Runtime Environment\n",
       "JVM: OpenJDK 64-Bit Server VM\n",
       "Default Encoding: UTF-8\n",
       "Language: en\n",
       "Country: null\n",
       "--></g></svg>"
      ]
     },
     "execution_count": 44,
     "metadata": {},
     "output_type": "execute_result"
    }
   ],
   "source": [
    "%viz --style=\"TB\" --view=\"Default\" \"PartTest\""
   ]
  },
  {
   "cell_type": "code",
   "execution_count": 45,
   "id": "950fa5d9",
   "metadata": {
    "execution": {
     "iopub.execute_input": "2022-02-05T16:55:45.919434Z",
     "iopub.status.busy": "2022-02-05T16:55:45.919058Z",
     "iopub.status.idle": "2022-02-05T16:55:45.981743Z",
     "shell.execute_reply": "2022-02-05T16:55:45.981353Z"
    }
   },
   "outputs": [
    {
     "data": {
      "image/svg+xml": [
       "<?xml version=\"1.0\" encoding=\"UTF-8\" standalone=\"no\"?><svg xmlns=\"http://www.w3.org/2000/svg\" xmlns:xlink=\"http://www.w3.org/1999/xlink\" contentScriptType=\"application/ecmascript\" contentStyleType=\"text/css\" height=\"760px\" preserveAspectRatio=\"none\" style=\"width:423px;height:760px;\" version=\"1.1\" viewBox=\"0 0 423 760\" width=\"423px\" zoomAndPan=\"magnify\"><defs/><g><!--MD5=[fbc87193dbaf4d95561dea2c320d4a47]\n",
       "cluster E1--><a href=\"psysml:c38775ed-c195-45a3-878f-69446059ff99\" target=\"_top\" title=\"psysml:c38775ed-c195-45a3-878f-69446059ff99\" xlink:actuate=\"onRequest\" xlink:href=\"psysml:c38775ed-c195-45a3-878f-69446059ff99\" xlink:show=\"new\" xlink:title=\"psysml:c38775ed-c195-45a3-878f-69446059ff99\" xlink:type=\"simple\"><polygon fill=\"#FFFFFF\" points=\"16,6,80,6,87,28.2969,401,28.2969,401,748,16,748,16,6\" style=\"stroke: #000000; stroke-width: 1.5;\"/><line style=\"stroke: #000000; stroke-width: 1.5;\" x1=\"16\" x2=\"87\" y1=\"28.2969\" y2=\"28.2969\"/><text fill=\"#000000\" font-family=\"sans-serif\" font-size=\"14\" font-weight=\"bold\" lengthAdjust=\"spacingAndGlyphs\" textLength=\"58\" x=\"20\" y=\"20.9951\">PartTest</text></a><!--MD5=[b4997ac47864f28c2f74865a473b2911]\n",
       "class E2--><a href=\"psysml:133b9857-5562-4f09-a022-80109f8d4a7d\" target=\"_top\" title=\"psysml:133b9857-5562-4f09-a022-80109f8d4a7d\" xlink:actuate=\"onRequest\" xlink:href=\"psysml:133b9857-5562-4f09-a022-80109f8d4a7d\" xlink:show=\"new\" xlink:title=\"psysml:133b9857-5562-4f09-a022-80109f8d4a7d\" xlink:type=\"simple\"><rect fill=\"#FFFFFF\" height=\"45.9375\" id=\"E2\" rx=\"10\" ry=\"10\" style=\"stroke: #383838; stroke-width: 1.5;\" width=\"42\" x=\"201\" y=\"41\"/><text fill=\"#000000\" font-family=\"sans-serif\" font-size=\"12\" font-style=\"italic\" lengthAdjust=\"spacingAndGlyphs\" textLength=\"40\" x=\"202\" y=\"57.1387\">«part»</text><text fill=\"#000000\" font-family=\"sans-serif\" font-size=\"12\" lengthAdjust=\"spacingAndGlyphs\" textLength=\"20\" x=\"210\" y=\"71.1074\">f: A</text><line style=\"stroke: #383838; stroke-width: 1.5;\" x1=\"202\" x2=\"242\" y1=\"78.9375\" y2=\"78.9375\"/></a><!--MD5=[09b614a08d8cba4a07c9adeb5e0fee81]\n",
       "class E3--><a href=\"psysml:41a43e73-47d4-427d-aa17-f57a90b2778c\" target=\"_top\" title=\"psysml:41a43e73-47d4-427d-aa17-f57a90b2778c\" xlink:actuate=\"onRequest\" xlink:href=\"psysml:41a43e73-47d4-427d-aa17-f57a90b2778c\" xlink:show=\"new\" xlink:title=\"psysml:41a43e73-47d4-427d-aa17-f57a90b2778c\" xlink:type=\"simple\"><rect fill=\"#FFFFFF\" height=\"88.3516\" id=\"E3\" style=\"stroke: #383838; stroke-width: 1.5;\" width=\"70\" x=\"187\" y=\"148\"/><text fill=\"#000000\" font-family=\"sans-serif\" font-size=\"12\" font-style=\"italic\" lengthAdjust=\"spacingAndGlyphs\" textLength=\"68\" x=\"188\" y=\"164.1387\">«part  def»</text><text fill=\"#000000\" font-family=\"sans-serif\" font-size=\"12\" lengthAdjust=\"spacingAndGlyphs\" textLength=\"8\" x=\"218\" y=\"178.1074\">A</text><line style=\"stroke: #383838; stroke-width: 1.5;\" x1=\"188\" x2=\"256\" y1=\"185.9375\" y2=\"185.9375\"/><text fill=\"#000000\" font-family=\"sans-serif\" font-size=\"11\" lengthAdjust=\"spacingAndGlyphs\" textLength=\"6\" x=\"193\" y=\"216.9526\">x</text><text fill=\"#000000\" font-family=\"sans-serif\" font-size=\"11\" lengthAdjust=\"spacingAndGlyphs\" textLength=\"44\" x=\"193\" y=\"229.7573\">y:&gt; A::x</text><line style=\"stroke: #383838; stroke-width: 1.0;\" x1=\"188\" x2=\"194.5\" y1=\"200.3398\" y2=\"200.3398\"/><text fill=\"#000000\" font-family=\"sans-serif\" font-size=\"11\" lengthAdjust=\"spacingAndGlyphs\" textLength=\"55\" x=\"194.5\" y=\"203.6479\">attributes</text><line style=\"stroke: #383838; stroke-width: 1.0;\" x1=\"249.5\" x2=\"256\" y1=\"200.3398\" y2=\"200.3398\"/></a><!--MD5=[ebbe1d658d1005bcc118a6aa81145e00]\n",
       "class E4--><a href=\"psysml:23a90af0-4107-4bf0-84ea-ac7115753c4e\" target=\"_top\" title=\"psysml:23a90af0-4107-4bf0-84ea-ac7115753c4e\" xlink:actuate=\"onRequest\" xlink:href=\"psysml:23a90af0-4107-4bf0-84ea-ac7115753c4e\" xlink:show=\"new\" xlink:title=\"psysml:23a90af0-4107-4bf0-84ea-ac7115753c4e\" xlink:type=\"simple\"><rect fill=\"#FFFFFF\" height=\"45.9375\" id=\"E4\" rx=\"10\" ry=\"10\" style=\"stroke: #383838; stroke-width: 1.5;\" width=\"42\" x=\"323\" y=\"373\"/><text fill=\"#000000\" font-family=\"sans-serif\" font-size=\"12\" font-style=\"italic\" lengthAdjust=\"spacingAndGlyphs\" textLength=\"40\" x=\"324\" y=\"389.1387\">«part»</text><text fill=\"#000000\" font-family=\"sans-serif\" font-size=\"12\" lengthAdjust=\"spacingAndGlyphs\" textLength=\"24\" x=\"330\" y=\"403.1074\">b: B</text><line style=\"stroke: #383838; stroke-width: 1.5;\" x1=\"324\" x2=\"364\" y1=\"410.9375\" y2=\"410.9375\"/></a><!--MD5=[270fce915f116d4de14055a7c1d9a0f3]\n",
       "class E5--><a href=\"psysml:3bde4e3d-0323-4342-8ecc-6f2c3dab5224\" target=\"_top\" title=\"psysml:3bde4e3d-0323-4342-8ecc-6f2c3dab5224\" xlink:actuate=\"onRequest\" xlink:href=\"psysml:3bde4e3d-0323-4342-8ecc-6f2c3dab5224\" xlink:show=\"new\" xlink:title=\"psysml:3bde4e3d-0323-4342-8ecc-6f2c3dab5224\" xlink:type=\"simple\"><rect fill=\"#FFFFFF\" height=\"45.9375\" id=\"E5\" rx=\"10\" ry=\"10\" style=\"stroke: #383838; stroke-width: 1.5;\" width=\"42\" x=\"306\" y=\"297\"/><text fill=\"#000000\" font-family=\"sans-serif\" font-size=\"12\" font-style=\"italic\" lengthAdjust=\"spacingAndGlyphs\" textLength=\"40\" x=\"307\" y=\"313.1387\">«port»</text><text fill=\"#000000\" font-family=\"sans-serif\" font-size=\"12\" lengthAdjust=\"spacingAndGlyphs\" textLength=\"23\" x=\"313.5\" y=\"327.1074\">c: C</text><line style=\"stroke: #383838; stroke-width: 1.5;\" x1=\"307\" x2=\"347\" y1=\"334.9375\" y2=\"334.9375\"/></a><!--MD5=[60a26617385b1d2d0262a64233df1f8d]\n",
       "class E6--><a href=\"psysml:c17c630d-59e9-4f7e-a520-276041a9c800\" target=\"_top\" title=\"psysml:c17c630d-59e9-4f7e-a520-276041a9c800\" xlink:actuate=\"onRequest\" xlink:href=\"psysml:c17c630d-59e9-4f7e-a520-276041a9c800\" xlink:show=\"new\" xlink:title=\"psysml:c17c630d-59e9-4f7e-a520-276041a9c800\" xlink:type=\"simple\"><rect fill=\"#FFFFFF\" height=\"45.9375\" id=\"E6\" style=\"stroke: #383838; stroke-width: 1.5;\" width=\"70\" x=\"190\" y=\"572\"/><text fill=\"#000000\" font-family=\"sans-serif\" font-size=\"12\" font-style=\"italic\" lengthAdjust=\"spacingAndGlyphs\" textLength=\"68\" x=\"191\" y=\"588.1387\">«part  def»</text><text fill=\"#000000\" font-family=\"sans-serif\" font-size=\"12\" font-style=\"italic\" lengthAdjust=\"spacingAndGlyphs\" textLength=\"8\" x=\"221\" y=\"602.1074\">B</text><line style=\"stroke: #383838; stroke-width: 1.5;\" x1=\"191\" x2=\"259\" y1=\"609.9375\" y2=\"609.9375\"/></a><!--MD5=[2156ba9850f5573cc1fc38a6a4b2f02b]\n",
       "class E7--><a href=\"psysml:4ea01713-b83a-4578-95eb-e0c0377cf261\" target=\"_top\" title=\"psysml:4ea01713-b83a-4578-95eb-e0c0377cf261\" xlink:actuate=\"onRequest\" xlink:href=\"psysml:4ea01713-b83a-4578-95eb-e0c0377cf261\" xlink:show=\"new\" xlink:title=\"psysml:4ea01713-b83a-4578-95eb-e0c0377cf261\" xlink:type=\"simple\"><rect fill=\"#FFFFFF\" height=\"45.9375\" id=\"E7\" rx=\"10\" ry=\"10\" style=\"stroke: #383838; stroke-width: 1.5;\" width=\"42\" x=\"68\" y=\"682.5\"/><text fill=\"#000000\" font-family=\"sans-serif\" font-size=\"12\" font-style=\"italic\" lengthAdjust=\"spacingAndGlyphs\" textLength=\"40\" x=\"69\" y=\"698.6387\">«part»</text><text fill=\"#000000\" font-family=\"sans-serif\" font-size=\"12\" font-style=\"italic\" lengthAdjust=\"spacingAndGlyphs\" textLength=\"8\" x=\"75\" y=\"712.6074\">a</text><text fill=\"#000000\" font-family=\"sans-serif\" font-size=\"12\" lengthAdjust=\"spacingAndGlyphs\" textLength=\"16\" x=\"83\" y=\"712.6074\">: A</text><line style=\"stroke: #383838; stroke-width: 1.5;\" x1=\"69\" x2=\"109\" y1=\"720.4375\" y2=\"720.4375\"/></a><!--MD5=[b9389687b975829384b498ac4b7476b2]\n",
       "class E8--><a href=\"psysml:c9f90055-486d-4326-9691-bfe47f710c68\" target=\"_top\" title=\"psysml:c9f90055-486d-4326-9691-bfe47f710c68\" xlink:actuate=\"onRequest\" xlink:href=\"psysml:c9f90055-486d-4326-9691-bfe47f710c68\" xlink:show=\"new\" xlink:title=\"psysml:c9f90055-486d-4326-9691-bfe47f710c68\" xlink:type=\"simple\"><rect fill=\"#FFFFFF\" height=\"45.9375\" id=\"E8\" rx=\"10\" ry=\"10\" style=\"stroke: #383838; stroke-width: 1.5;\" width=\"42\" x=\"228\" y=\"682.5\"/><text fill=\"#000000\" font-family=\"sans-serif\" font-size=\"12\" font-style=\"italic\" lengthAdjust=\"spacingAndGlyphs\" textLength=\"40\" x=\"229\" y=\"698.6387\">«port»</text><text fill=\"#000000\" font-family=\"sans-serif\" font-size=\"12\" lengthAdjust=\"spacingAndGlyphs\" textLength=\"32\" x=\"231\" y=\"712.6074\">x: ~C</text><line style=\"stroke: #383838; stroke-width: 1.5;\" x1=\"229\" x2=\"269\" y1=\"720.4375\" y2=\"720.4375\"/></a><!--MD5=[96f4274e9e20536e775497830990834d]\n",
       "class E10--><a href=\"psysml:e209a1f3-de72-4850-a45f-7036acf7c094\" target=\"_top\" title=\"psysml:e209a1f3-de72-4850-a45f-7036acf7c094\" xlink:actuate=\"onRequest\" xlink:href=\"psysml:e209a1f3-de72-4850-a45f-7036acf7c094\" xlink:show=\"new\" xlink:title=\"psysml:e209a1f3-de72-4850-a45f-7036acf7c094\" xlink:type=\"simple\"><rect fill=\"#FFFFFF\" height=\"45.9375\" id=\"E10\" style=\"stroke: #383838; stroke-width: 1.5;\" width=\"70\" x=\"190\" y=\"449\"/><text fill=\"#000000\" font-family=\"sans-serif\" font-size=\"12\" font-style=\"italic\" lengthAdjust=\"spacingAndGlyphs\" textLength=\"68\" x=\"191\" y=\"465.1387\">«port  def»</text><text fill=\"#000000\" font-family=\"sans-serif\" font-size=\"12\" lengthAdjust=\"spacingAndGlyphs\" textLength=\"8\" x=\"221\" y=\"479.1074\">C</text><line style=\"stroke: #383838; stroke-width: 1.5;\" x1=\"191\" x2=\"259\" y1=\"486.9375\" y2=\"486.9375\"/></a><a href=\"psysml:78dea323-2f70-496c-aa91-db5f05f12a10\" target=\"_top\" title=\"psysml:78dea323-2f70-496c-aa91-db5f05f12a10\" xlink:actuate=\"onRequest\" xlink:href=\"psysml:78dea323-2f70-496c-aa91-db5f05f12a10\" xlink:show=\"new\" xlink:title=\"psysml:78dea323-2f70-496c-aa91-db5f05f12a10\" xlink:type=\"simple\"><polygon fill=\"#FFFFFF\" points=\"163.5,679,178.5,679,185.5,701.2969,192.5,701.2969,192.5,731.5938,163.5,731.5938,163.5,679\" style=\"stroke: #000000; stroke-width: 1.5;\"/><line style=\"stroke: #000000; stroke-width: 1.5;\" x1=\"163.5\" x2=\"185.5\" y1=\"701.2969\" y2=\"701.2969\"/><text fill=\"#000000\" font-family=\"sans-serif\" font-size=\"14\" font-weight=\"bold\" lengthAdjust=\"spacingAndGlyphs\" textLength=\"9\" x=\"167.5\" y=\"693.9951\">P</text></a><!--MD5=[2720a5a1f2c3fca2055b230370638851]\n",
       "link E2 to E3--><a href=\"psysml:de99b855-827b-4779-9c99-7b4326eef43f\" target=\"_top\" title=\"psysml:de99b855-827b-4779-9c99-7b4326eef43f\" xlink:actuate=\"onRequest\" xlink:href=\"psysml:de99b855-827b-4779-9c99-7b4326eef43f\" xlink:show=\"new\" xlink:title=\"psysml:de99b855-827b-4779-9c99-7b4326eef43f\" xlink:type=\"simple\"><path d=\"M222,87.24 C222,98.62 222,113.11 222,127.62 \" fill=\"none\" id=\"E2-&gt;E3\" style=\"stroke: #383838; stroke-width: 1.0;\"/><polygon fill=\"#FFFFFF\" points=\"222,147.84,215,128.84,229,128.84,222,147.84\" style=\"stroke: #383838; stroke-width: 1.0;\"/><ellipse cx=\"217\" cy=\"123.14\" fill=\"#383838\" rx=\"2\" ry=\"2\" style=\"stroke: #383838; stroke-width: 1.0;\"/><ellipse cx=\"227\" cy=\"123.14\" fill=\"#383838\" rx=\"2\" ry=\"2\" style=\"stroke: #383838; stroke-width: 1.0;\"/></a><!--MD5=[4672eba38e49728da53d11aeb285b987]\n",
       "reverse link E3 to E4--><a href=\"psysml:7d143534-3389-4013-881e-42b16664757f\" target=\"_top\" title=\"psysml:7d143534-3389-4013-881e-42b16664757f\" xlink:actuate=\"onRequest\" xlink:href=\"psysml:7d143534-3389-4013-881e-42b16664757f\" xlink:show=\"new\" xlink:title=\"psysml:7d143534-3389-4013-881e-42b16664757f\" xlink:type=\"simple\"><path d=\"M269.08,212.65 C302.85,229.56 345.81,257.51 366,297 C378.38,321.22 367.51,352.31 357.12,372.91 \" fill=\"none\" id=\"E3&lt;-E4\" style=\"stroke: #383838; stroke-width: 1.0;\"/><polygon fill=\"#383838\" points=\"257.11,206.92,260.7919,213.1203,267.9314,212.1063,264.2495,205.906,257.11,206.92\" style=\"stroke: #383838; stroke-width: 1.0;\"/><text fill=\"#000000\" font-family=\"sans-serif\" font-size=\"13\" lengthAdjust=\"spacingAndGlyphs\" textLength=\"8\" x=\"352.5085\" y=\"363.0064\">1</text></a><!--MD5=[191cde3d490a3f6d7bb551fe3ddca469]\n",
       "reverse link E3 to E5--><a href=\"psysml:01061be5-5fdc-439c-afe5-881fb8746c83\" target=\"_top\" title=\"psysml:01061be5-5fdc-439c-afe5-881fb8746c83\" xlink:actuate=\"onRequest\" xlink:href=\"psysml:01061be5-5fdc-439c-afe5-881fb8746c83\" xlink:show=\"new\" xlink:title=\"psysml:01061be5-5fdc-439c-afe5-881fb8746c83\" xlink:type=\"simple\"><path d=\"M265.68,245.41 C280.65,263.38 296.6,282.52 308.48,296.78 \" fill=\"none\" id=\"E3&lt;-E5\" style=\"stroke: #383838; stroke-width: 1.0;\"/><polygon fill=\"#FFFFFF\" points=\"257.26,235.31,258.0312,242.4797,264.9461,244.5254,264.1749,237.3557,257.26,235.31\" style=\"stroke: #383838; stroke-width: 1.0;\"/><text fill=\"#000000\" font-family=\"sans-serif\" font-size=\"13\" lengthAdjust=\"spacingAndGlyphs\" textLength=\"8\" x=\"294.7093\" y=\"285.9999\">1</text></a><!--MD5=[79568f1e445c3877b6a54524624ccc7d]\n",
       "link E4 to E6--><a href=\"psysml:8d11eaae-af32-434c-8c3d-32f92418f4c8\" target=\"_top\" title=\"psysml:8d11eaae-af32-434c-8c3d-32f92418f4c8\" xlink:actuate=\"onRequest\" xlink:href=\"psysml:8d11eaae-af32-434c-8c3d-32f92418f4c8\" xlink:show=\"new\" xlink:title=\"psysml:8d11eaae-af32-434c-8c3d-32f92418f4c8\" xlink:type=\"simple\"><path d=\"M330.58,419.22 C310.75,452.04 273.34,513.98 248.79,554.62 \" fill=\"none\" id=\"E4-&gt;E6\" style=\"stroke: #383838; stroke-width: 1.0;\"/><polygon fill=\"#FFFFFF\" points=\"238.37,571.87,242.2063,551.9883,254.1882,559.2294,238.37,571.87\" style=\"stroke: #383838; stroke-width: 1.0;\"/><ellipse cx=\"246.8662\" cy=\"548.1444\" fill=\"#383838\" rx=\"2\" ry=\"2\" style=\"stroke: #383838; stroke-width: 1.0;\"/><ellipse cx=\"255.4247\" cy=\"553.3166\" fill=\"#383838\" rx=\"2\" ry=\"2\" style=\"stroke: #383838; stroke-width: 1.0;\"/></a><!--MD5=[3f50a3473f1dfb74d3f76443e03635af]\n",
       "reverse link E6 to E7--><a href=\"psysml:7466bf8a-1e84-4b05-9901-ce46ee446fa5\" target=\"_top\" title=\"psysml:7466bf8a-1e84-4b05-9901-ce46ee446fa5\" xlink:actuate=\"onRequest\" xlink:href=\"psysml:7466bf8a-1e84-4b05-9901-ce46ee446fa5\" xlink:show=\"new\" xlink:title=\"psysml:7466bf8a-1e84-4b05-9901-ce46ee446fa5\" xlink:type=\"simple\"><path d=\"M186.96,626.35 C162.12,646.16 130.61,671.3 110.14,687.64 \" fill=\"none\" id=\"E6&lt;-E7\" style=\"stroke: #383838; stroke-width: 1.0;\"/><polygon fill=\"#383838\" points=\"197.15,618.22,189.9656,618.8398,187.7744,625.7099,194.9589,625.0901,197.15,618.22\" style=\"stroke: #383838; stroke-width: 1.0;\"/><text fill=\"#000000\" font-family=\"sans-serif\" font-size=\"13\" lengthAdjust=\"spacingAndGlyphs\" textLength=\"8\" x=\"118.1534\" y=\"676.6545\">1</text></a><!--MD5=[14ccda38c055a5c0da953d572bc50960]\n",
       "link E7 to E3--><a href=\"psysml:3c280f0c-0d5e-48e6-b009-cbd7db9e9beb\" target=\"_top\" title=\"psysml:3c280f0c-0d5e-48e6-b009-cbd7db9e9beb\" xlink:actuate=\"onRequest\" xlink:href=\"psysml:3c280f0c-0d5e-48e6-b009-cbd7db9e9beb\" xlink:show=\"new\" xlink:title=\"psysml:3c280f0c-0d5e-48e6-b009-cbd7db9e9beb\" xlink:type=\"simple\"><path d=\"M69.41,682.1 C53.27,661.28 33,628.64 33,596 C33,319 33,319 33,319 C33,253.99 111.37,220.46 167.18,204.82 \" fill=\"none\" id=\"E7-&gt;E3\" style=\"stroke: #383838; stroke-width: 1.0;\"/><polygon fill=\"#FFFFFF\" points=\"186.89,199.76,170.2265,211.2633,166.7463,197.7028,186.89,199.76\" style=\"stroke: #383838; stroke-width: 1.0;\"/><ellipse cx=\"164.2082\" cy=\"210.743\" fill=\"#383838\" rx=\"2\" ry=\"2\" style=\"stroke: #383838; stroke-width: 1.0;\"/><ellipse cx=\"161.7224\" cy=\"201.0569\" fill=\"#383838\" rx=\"2\" ry=\"2\" style=\"stroke: #383838; stroke-width: 1.0;\"/></a><!--MD5=[f4cf0736d43fd73c4ef68817c49d37d5]\n",
       "reverse link E6 to E8--><a href=\"psysml:dcb35f57-14cb-4e2c-8543-9245438ead5d\" target=\"_top\" title=\"psysml:dcb35f57-14cb-4e2c-8543-9245438ead5d\" xlink:actuate=\"onRequest\" xlink:href=\"psysml:dcb35f57-14cb-4e2c-8543-9245438ead5d\" xlink:show=\"new\" xlink:title=\"psysml:dcb35f57-14cb-4e2c-8543-9245438ead5d\" xlink:type=\"simple\"><path d=\"M232.74,630.98 C236.47,647.83 240.83,667.54 244.09,682.31 \" fill=\"none\" id=\"E6&lt;-E8\" style=\"stroke: #383838; stroke-width: 1.0;\"/><polygon fill=\"#FFFFFF\" points=\"229.91,618.22,227.2956,624.9405,232.4936,629.9386,235.108,623.2181,229.91,618.22\" style=\"stroke: #383838; stroke-width: 1.0;\"/><text fill=\"#000000\" font-family=\"sans-serif\" font-size=\"13\" lengthAdjust=\"spacingAndGlyphs\" textLength=\"8\" x=\"233.8068\" y=\"671.5376\">1</text></a><!--MD5=[e88d06e5a652d73a6b19930eefe025a8]\n",
       "reverse link E6 to E9--><a href=\"psysml:08766104-19a0-4aca-bf35-b4c81b8c6dcb\" target=\"_top\" title=\"psysml:08766104-19a0-4aca-bf35-b4c81b8c6dcb\" xlink:actuate=\"onRequest\" xlink:href=\"psysml:08766104-19a0-4aca-bf35-b4c81b8c6dcb\" xlink:show=\"new\" xlink:title=\"psysml:08766104-19a0-4aca-bf35-b4c81b8c6dcb\" xlink:type=\"simple\"><path d=\"M209.38,632.06 C202.74,647.39 195.15,664.91 189.1,678.88 \" fill=\"none\" id=\"E6&lt;-E9\" style=\"stroke: #383838; stroke-width: 1.0;\"/><ellipse cx=\"212.2011\" cy=\"625.5613\" fill=\"#FFFFFF\" rx=\"8\" ry=\"8\" style=\"stroke: #383838; stroke-width: 1.0;\"/><line style=\"stroke: #383838; stroke-width: 1.0;\" x1=\"209.0221\" x2=\"215.38\" y1=\"632.9026\" y2=\"618.22\"/><line style=\"stroke: #383838; stroke-width: 1.0;\" x1=\"204.8598\" x2=\"219.5423\" y1=\"622.3823\" y2=\"628.7402\"/></a><!--MD5=[f78a29d5932556fa1060671a2a6507d8]\n",
       "link E5 to E10--><a href=\"psysml:568ef262-b92a-4cba-8a4b-19f4a197db7e\" target=\"_top\" title=\"psysml:568ef262-b92a-4cba-8a4b-19f4a197db7e\" xlink:actuate=\"onRequest\" xlink:href=\"psysml:568ef262-b92a-4cba-8a4b-19f4a197db7e\" xlink:show=\"new\" xlink:title=\"psysml:568ef262-b92a-4cba-8a4b-19f4a197db7e\" xlink:type=\"simple\"><path d=\"M315.99,343.2 C305.49,363.59 288.69,394.31 271,419 C267.54,423.82 263.72,428.71 259.79,433.47 \" fill=\"none\" id=\"E5-&gt;E10\" style=\"stroke: #383838; stroke-width: 1.0;\"/><polygon fill=\"#FFFFFF\" points=\"246.44,448.81,253.6429,429.886,264.1988,439.0824,246.44,448.81\" style=\"stroke: #383838; stroke-width: 1.0;\"/><ellipse cx=\"258.8951\" cy=\"426.902\" fill=\"#383838\" rx=\"2\" ry=\"2\" style=\"stroke: #383838; stroke-width: 1.0;\"/><ellipse cx=\"266.435\" cy=\"433.4709\" fill=\"#383838\" rx=\"2\" ry=\"2\" style=\"stroke: #383838; stroke-width: 1.0;\"/></a><!--MD5=[8e04057e7b3cbc0dca4fc78ea351e2da]\n",
       "reverse link E10 to E3--><a href=\"psysml:f2bac2b1-68d1-4631-bf1f-fa6cff2f703f\" target=\"_top\" title=\"psysml:f2bac2b1-68d1-4631-bf1f-fa6cff2f703f\" xlink:actuate=\"onRequest\" xlink:href=\"psysml:f2bac2b1-68d1-4631-bf1f-fa6cff2f703f\" xlink:show=\"new\" xlink:title=\"psysml:f2bac2b1-68d1-4631-bf1f-fa6cff2f703f\" xlink:type=\"simple\"><path d=\"M191.07,439.41 C168.36,415.54 140.89,380.56 131,343 C125.79,323.23 123.81,316.14 131,297 C142.22,267.13 166.35,240.23 186.94,221.27 \" fill=\"none\" id=\"E10&lt;-E3\" style=\"stroke: #383838; stroke-width: 1.0;\"/><polygon fill=\"#FFFFFF\" points=\"200.44,448.94,199.0863,441.8571,192.0275,440.3825,193.3813,447.4654,200.44,448.94\" style=\"stroke: #383838; stroke-width: 1.0;\"/><text fill=\"#000000\" font-family=\"sans-serif\" font-size=\"13\" lengthAdjust=\"spacingAndGlyphs\" textLength=\"7\" x=\"132\" y=\"324.5669\">y</text></a><!--MD5=[8e04057e7b3cbc0dca4fc78ea351e2da]\n",
       "reverse link E10 to E3--><a href=\"psysml:f2bac2b1-68d1-4631-bf1f-fa6cff2f703f\" target=\"_top\" title=\"psysml:f2bac2b1-68d1-4631-bf1f-fa6cff2f703f\" xlink:actuate=\"onRequest\" xlink:href=\"psysml:f2bac2b1-68d1-4631-bf1f-fa6cff2f703f\" xlink:show=\"new\" xlink:title=\"psysml:f2bac2b1-68d1-4631-bf1f-fa6cff2f703f\" xlink:type=\"simple\"><path d=\"M218.94,435.48 C213.66,400.35 207.24,345.02 210,297 C211.15,276.95 213.55,254.83 215.89,236.17 \" fill=\"none\" id=\"E10&lt;-E3-1\" style=\"stroke: #383838; stroke-width: 1.0;\"/><polygon fill=\"#FFFFFF\" points=\"221.04,448.78,224.0549,442.2294,219.1678,436.927,216.1529,443.4776,221.04,448.78\" style=\"stroke: #383838; stroke-width: 1.0;\"/><text fill=\"#000000\" font-family=\"sans-serif\" font-size=\"13\" lengthAdjust=\"spacingAndGlyphs\" textLength=\"7\" x=\"211\" y=\"324.5669\">y</text></a><!--MD5=[8e04057e7b3cbc0dca4fc78ea351e2da]\n",
       "reverse link E10 to E3--><a href=\"psysml:f2bac2b1-68d1-4631-bf1f-fa6cff2f703f\" target=\"_top\" title=\"psysml:f2bac2b1-68d1-4631-bf1f-fa6cff2f703f\" xlink:actuate=\"onRequest\" xlink:href=\"psysml:f2bac2b1-68d1-4631-bf1f-fa6cff2f703f\" xlink:show=\"new\" xlink:title=\"psysml:f2bac2b1-68d1-4631-bf1f-fa6cff2f703f\" xlink:type=\"simple\"><path d=\"M224.62,435.77 C224.07,384.92 223.06,291.06 222.47,236.13 \" fill=\"none\" id=\"E10&lt;-E3-2\" style=\"stroke: #383838; stroke-width: 1.0;\"/><polygon fill=\"#FFFFFF\" points=\"224.76,448.9,228.6938,442.8564,224.6281,436.9007,220.6943,442.9443,224.76,448.9\" style=\"stroke: #383838; stroke-width: 1.0;\"/><text fill=\"#000000\" font-family=\"sans-serif\" font-size=\"13\" lengthAdjust=\"spacingAndGlyphs\" textLength=\"7\" x=\"224\" y=\"324.5669\">y</text></a><!--MD5=[604cbf994c02b74b117f728a71673cea]\n",
       "reverse link E10 to E6--><a href=\"psysml:f2bac2b1-68d1-4631-bf1f-fa6cff2f703f\" target=\"_top\" title=\"psysml:f2bac2b1-68d1-4631-bf1f-fa6cff2f703f\" xlink:actuate=\"onRequest\" xlink:href=\"psysml:f2bac2b1-68d1-4631-bf1f-fa6cff2f703f\" xlink:show=\"new\" xlink:title=\"psysml:f2bac2b1-68d1-4631-bf1f-fa6cff2f703f\" xlink:type=\"simple\"><path d=\"M233.39,508.23 C235.07,519.04 236.05,530.99 235,542 C234.06,551.88 232.13,562.68 230.22,571.87 \" fill=\"none\" id=\"E10&lt;-E6\" style=\"stroke: #383838; stroke-width: 1.0;\"/><polygon fill=\"#FFFFFF\" points=\"230.97,495.31,228.1398,501.9425,233.1735,507.106,236.0037,500.4735,230.97,495.31\" style=\"stroke: #383838; stroke-width: 1.0;\"/><text fill=\"#000000\" font-family=\"sans-serif\" font-size=\"13\" lengthAdjust=\"spacingAndGlyphs\" textLength=\"7\" x=\"236\" y=\"538.0669\">y</text></a><!--MD5=[604cbf994c02b74b117f728a71673cea]\n",
       "reverse link E10 to E6--><a href=\"psysml:f2bac2b1-68d1-4631-bf1f-fa6cff2f703f\" target=\"_top\" title=\"psysml:f2bac2b1-68d1-4631-bf1f-fa6cff2f703f\" xlink:actuate=\"onRequest\" xlink:href=\"psysml:f2bac2b1-68d1-4631-bf1f-fa6cff2f703f\" xlink:show=\"new\" xlink:title=\"psysml:f2bac2b1-68d1-4631-bf1f-fa6cff2f703f\" xlink:type=\"simple\"><path d=\"M189.04,504.87 C184.13,511.03 179.81,517.82 177,525 C170.3,542.12 181.83,559.11 195.26,571.94 \" fill=\"none\" id=\"E10&lt;-E6-1\" style=\"stroke: #383838; stroke-width: 1.0;\"/><polygon fill=\"#FFFFFF\" points=\"197.73,495.16,190.7505,496.973,189.7396,504.1129,196.7191,502.2999,197.73,495.16\" style=\"stroke: #383838; stroke-width: 1.0;\"/><text fill=\"#000000\" font-family=\"sans-serif\" font-size=\"13\" lengthAdjust=\"spacingAndGlyphs\" textLength=\"7\" x=\"178\" y=\"538.0669\">y</text></a><!--MD5=[604cbf994c02b74b117f728a71673cea]\n",
       "reverse link E10 to E6--><a href=\"psysml:f2bac2b1-68d1-4631-bf1f-fa6cff2f703f\" target=\"_top\" title=\"psysml:f2bac2b1-68d1-4631-bf1f-fa6cff2f703f\" xlink:actuate=\"onRequest\" xlink:href=\"psysml:f2bac2b1-68d1-4631-bf1f-fa6cff2f703f\" xlink:show=\"new\" xlink:title=\"psysml:f2bac2b1-68d1-4631-bf1f-fa6cff2f703f\" xlink:type=\"simple\"><path d=\"M225,508.22 C225,528.81 225,554.16 225,571.95 \" fill=\"none\" id=\"E10&lt;-E6-2\" style=\"stroke: #383838; stroke-width: 1.0;\"/><polygon fill=\"#FFFFFF\" points=\"225,495.19,221,501.19,225,507.19,229,501.19,225,495.19\" style=\"stroke: #383838; stroke-width: 1.0;\"/><text fill=\"#000000\" font-family=\"sans-serif\" font-size=\"13\" lengthAdjust=\"spacingAndGlyphs\" textLength=\"7\" x=\"226\" y=\"538.0669\">y</text></a><!--MD5=[bdab82e92a8eec2532a7dc1cd652fa0c]\n",
       "@startuml\r\n",
       "top to bottom direction\r\n",
       "skinparam monochrome true\r\n",
       "skinparam classbackgroundcolor white\r\n",
       "skinparam shadowing false\r\n",
       "skinparam wrapWidth 300\r\n",
       "hide circle\r\n",
       "\r\n",
       "package \"PartTest\" as E1  [[psysml:c38775ed-c195-45a3-878f-69446059ff99 ]]  {\r\n",
       "comp usage \"f: A \" as E2  <<(T,blue) part>> [[psysml:133b9857-5562-4f09-a022-80109f8d4a7d ]] {\r\n",
       "}\r\n",
       "comp def \"A\" as E3  <<(T,blue) part  def>> [[psysml:41a43e73-47d4-427d-aa17-f57a90b2778c ]] {\r\n",
       "- - attributes - -\r\n",
       "x\r\n",
       "y:> A::x\r\n",
       "}\r\n",
       "comp usage \"b: B \" as E4  <<(T,blue) part>> [[psysml:23a90af0-4107-4bf0-84ea-ac7115753c4e ]] {\r\n",
       "}\r\n",
       "comp usage \"c: C \" as E5  <<(T,blue) port>> [[psysml:3bde4e3d-0323-4342-8ecc-6f2c3dab5224 ]] {\r\n",
       "}\r\n",
       "comp def \"<i>B</i>\" as E6  <<(T,blue) part  def>> [[psysml:c17c630d-59e9-4f7e-a520-276041a9c800 ]] {\r\n",
       "}\r\n",
       "comp usage \"<i>a</i>: A \" as E7  <<(T,blue) part>> [[psysml:4ea01713-b83a-4578-95eb-e0c0377cf261 ]] {\r\n",
       "}\r\n",
       "comp usage \"x: ~C \" as E8  <<(T,blue) port>> [[psysml:c9f90055-486d-4326-9691-bfe47f710c68 ]] {\r\n",
       "}\r\n",
       "package \"P\" as E9  [[psysml:78dea323-2f70-496c-aa91-db5f05f12a10 ]]  {\r\n",
       "}\r\n",
       "comp def \"C\" as E10  <<(T,blue) port  def>> [[psysml:e209a1f3-de72-4850-a45f-7036acf7c094 ]] {\r\n",
       "}\r\n",
       "}\r\n",
       "E2 - -:|> E3 [[psysml:de99b855-827b-4779-9c99-7b4326eef43f ]] \r\n",
       "E3 *- - \"1\"E4 [[psysml:7d143534-3389-4013-881e-42b16664757f ]] \r\n",
       "E3 o- - \"1\"E5 [[psysml:01061be5-5fdc-439c-afe5-881fb8746c83 ]] \r\n",
       "E4 - -:|> E6 [[psysml:8d11eaae-af32-434c-8c3d-32f92418f4c8 ]] \r\n",
       "E6 *- - \"1\"E7 [[psysml:7466bf8a-1e84-4b05-9901-ce46ee446fa5 ]] \r\n",
       "E7 - -:|> E3 [[psysml:3c280f0c-0d5e-48e6-b009-cbd7db9e9beb ]] \r\n",
       "E6 o- - \"1\"E8 [[psysml:dcb35f57-14cb-4e2c-8543-9245438ead5d ]] \r\n",
       "E6 +- - E9 [[psysml:08766104-19a0-4aca-bf35-b4c81b8c6dcb ]] \r\n",
       "E5 - -:|> E10 [[psysml:568ef262-b92a-4cba-8a4b-19f4a197db7e ]] \r\n",
       "E10 o- - E3 [[psysml:f2bac2b1-68d1-4631-bf1f-fa6cff2f703f ]] : y\r\n",
       "E10 o- - E6 [[psysml:f2bac2b1-68d1-4631-bf1f-fa6cff2f703f ]] : y\r\n",
       "E10 o- - E3 [[psysml:f2bac2b1-68d1-4631-bf1f-fa6cff2f703f ]] : y\r\n",
       "E10 o- - E6 [[psysml:f2bac2b1-68d1-4631-bf1f-fa6cff2f703f ]] : y\r\n",
       "E10 o- - E3 [[psysml:f2bac2b1-68d1-4631-bf1f-fa6cff2f703f ]] : y\r\n",
       "E10 o- - E6 [[psysml:f2bac2b1-68d1-4631-bf1f-fa6cff2f703f ]] : y\r\n",
       "@enduml\r\n",
       "\n",
       "PlantUML version 1.2020.13(Sat Jun 13 12:26:38 UTC 2020)\n",
       "(EPL source distribution)\n",
       "Java Runtime: OpenJDK Runtime Environment\n",
       "JVM: OpenJDK 64-Bit Server VM\n",
       "Default Encoding: UTF-8\n",
       "Language: en\n",
       "Country: null\n",
       "--></g></svg>"
      ]
     },
     "execution_count": 45,
     "metadata": {},
     "output_type": "execute_result"
    }
   ],
   "source": [
    "%viz --style=\"TB\" --view=\"Tree\" \"PartTest\""
   ]
  },
  {
   "cell_type": "code",
   "execution_count": 46,
   "id": "15fc614e",
   "metadata": {
    "execution": {
     "iopub.execute_input": "2022-02-05T16:55:46.031245Z",
     "iopub.status.busy": "2022-02-05T16:55:46.030781Z",
     "iopub.status.idle": "2022-02-05T16:55:46.034214Z",
     "shell.execute_reply": "2022-02-05T16:55:46.033852Z"
    }
   },
   "outputs": [
    {
     "data": {
      "image/svg+xml": [
       "<?xml version=\"1.0\" encoding=\"UTF-8\" standalone=\"no\"?><svg xmlns=\"http://www.w3.org/2000/svg\" xmlns:xlink=\"http://www.w3.org/1999/xlink\" contentScriptType=\"application/ecmascript\" contentStyleType=\"text/css\" height=\"12px\" preserveAspectRatio=\"none\" style=\"width:12px;height:12px;\" version=\"1.1\" viewBox=\"0 0 12 12\" width=\"12px\" zoomAndPan=\"magnify\"><defs/><g><!--MD5=[f4ee21bc66e489b5061b7c3e9601fdef]\n",
       "@startuml\r\n",
       "top to bottom direction\r\n",
       "skinparam monochrome true\r\n",
       "skinparam classbackgroundcolor white\r\n",
       "skinparam shadowing false\r\n",
       "skinparam wrapWidth 300\r\n",
       "hide circle\r\n",
       "\r\n",
       "@enduml\r\n",
       "\n",
       "PlantUML version 1.2020.13(Sat Jun 13 12:26:38 UTC 2020)\n",
       "(EPL source distribution)\n",
       "Java Runtime: OpenJDK Runtime Environment\n",
       "JVM: OpenJDK 64-Bit Server VM\n",
       "Default Encoding: UTF-8\n",
       "Language: en\n",
       "Country: null\n",
       "--></g></svg>"
      ]
     },
     "execution_count": 46,
     "metadata": {},
     "output_type": "execute_result"
    }
   ],
   "source": [
    "%viz --style=\"TB\" --view=\"State\" \"PartTest\""
   ]
  },
  {
   "cell_type": "code",
   "execution_count": 47,
   "id": "685582ab",
   "metadata": {
    "execution": {
     "iopub.execute_input": "2022-02-05T16:55:46.084207Z",
     "iopub.status.busy": "2022-02-05T16:55:46.083727Z",
     "iopub.status.idle": "2022-02-05T16:55:46.119205Z",
     "shell.execute_reply": "2022-02-05T16:55:46.117613Z"
    }
   },
   "outputs": [
    {
     "data": {
      "image/svg+xml": [
       "<?xml version=\"1.0\" encoding=\"UTF-8\" standalone=\"no\"?><svg xmlns=\"http://www.w3.org/2000/svg\" xmlns:xlink=\"http://www.w3.org/1999/xlink\" contentScriptType=\"application/ecmascript\" contentStyleType=\"text/css\" height=\"253px\" preserveAspectRatio=\"none\" style=\"width:685px;height:253px;\" version=\"1.1\" viewBox=\"0 0 685 253\" width=\"685px\" zoomAndPan=\"magnify\"><defs/><g><!--MD5=[fbc87193dbaf4d95561dea2c320d4a47]\n",
       "cluster E1--><a href=\"psysml:c38775ed-c195-45a3-878f-69446059ff99\" target=\"_top\" title=\"psysml:c38775ed-c195-45a3-878f-69446059ff99\" xlink:actuate=\"onRequest\" xlink:href=\"psysml:c38775ed-c195-45a3-878f-69446059ff99\" xlink:show=\"new\" xlink:title=\"psysml:c38775ed-c195-45a3-878f-69446059ff99\" xlink:type=\"simple\"><polygon fill=\"#FFFFFF\" points=\"16,6,80,6,87,28.2969,663,28.2969,663,241,16,241,16,6\" style=\"stroke: #000000; stroke-width: 1.5;\"/><line style=\"stroke: #000000; stroke-width: 1.5;\" x1=\"16\" x2=\"87\" y1=\"28.2969\" y2=\"28.2969\"/><text fill=\"#000000\" font-family=\"sans-serif\" font-size=\"14\" font-weight=\"bold\" lengthAdjust=\"spacingAndGlyphs\" textLength=\"58\" x=\"20\" y=\"20.9951\">PartTest</text></a><!--MD5=[d5e69f78d87373223dbae638b30a9c99]\n",
       "cluster E3--><a href=\"psysml:41a43e73-47d4-427d-aa17-f57a90b2778c\" target=\"_top\" title=\"psysml:41a43e73-47d4-427d-aa17-f57a90b2778c\" xlink:actuate=\"onRequest\" xlink:href=\"psysml:41a43e73-47d4-427d-aa17-f57a90b2778c\" xlink:show=\"new\" xlink:title=\"psysml:41a43e73-47d4-427d-aa17-f57a90b2778c\" xlink:type=\"simple\"><rect fill=\"#FFFFFF\" height=\"159\" id=\"E3\" style=\"stroke: #383838; stroke-width: 1.5;\" width=\"230\" x=\"417\" y=\"62.5\"/><rect fill=\"#F8F8F8\" height=\"37.9375\" style=\"stroke: #383838; stroke-width: 1.5;\" width=\"230\" x=\"417\" y=\"62.5\"/><text fill=\"#000000\" font-family=\"sans-serif\" font-size=\"12\" font-style=\"italic\" lengthAdjust=\"spacingAndGlyphs\" textLength=\"68\" x=\"498\" y=\"78.6387\">«part  def»</text><text fill=\"#000000\" font-family=\"sans-serif\" font-size=\"12\" lengthAdjust=\"spacingAndGlyphs\" textLength=\"8\" x=\"528\" y=\"92.6074\">A</text></a><!--MD5=[55dfccfc6c49c2d10cd1bd2211a6c90c]\n",
       "cluster E8--><a href=\"psysml:c17c630d-59e9-4f7e-a520-276041a9c800\" target=\"_top\" title=\"psysml:c17c630d-59e9-4f7e-a520-276041a9c800\" xlink:actuate=\"onRequest\" xlink:href=\"psysml:c17c630d-59e9-4f7e-a520-276041a9c800\" xlink:show=\"new\" xlink:title=\"psysml:c17c630d-59e9-4f7e-a520-276041a9c800\" xlink:type=\"simple\"><rect fill=\"#FFFFFF\" height=\"162.5\" id=\"E8\" style=\"stroke: #383838; stroke-width: 1.5;\" width=\"209\" x=\"200\" y=\"62.5\"/><rect fill=\"#F8F8F8\" height=\"37.9375\" style=\"stroke: #383838; stroke-width: 1.5;\" width=\"209\" x=\"200\" y=\"62.5\"/><text fill=\"#000000\" font-family=\"sans-serif\" font-size=\"12\" font-style=\"italic\" lengthAdjust=\"spacingAndGlyphs\" textLength=\"68\" x=\"270.5\" y=\"78.6387\">«part  def»</text><text fill=\"#000000\" font-family=\"sans-serif\" font-size=\"12\" font-style=\"italic\" lengthAdjust=\"spacingAndGlyphs\" textLength=\"8\" x=\"300.5\" y=\"92.6074\">B</text></a><g id=\"E1.E12\"><a href=\"psysml:e209a1f3-de72-4850-a45f-7036acf7c094\" target=\"_top\" title=\"psysml:e209a1f3-de72-4850-a45f-7036acf7c094\" xlink:actuate=\"onRequest\" xlink:href=\"psysml:e209a1f3-de72-4850-a45f-7036acf7c094\" xlink:show=\"new\" xlink:title=\"psysml:e209a1f3-de72-4850-a45f-7036acf7c094\" xlink:type=\"simple\"><rect fill=\"#FFFFFF\" height=\"42.9375\" id=\"E12\" style=\"stroke: #383838; stroke-width: 1.5;\" width=\"75\" x=\"117.5\" y=\"41\"/><rect fill=\"#F8F8F8\" height=\"37.9375\" style=\"stroke: #383838; stroke-width: 1.5;\" width=\"75\" x=\"117.5\" y=\"41\"/><text fill=\"#000000\" font-family=\"sans-serif\" font-size=\"12\" font-style=\"italic\" lengthAdjust=\"spacingAndGlyphs\" textLength=\"68\" x=\"121\" y=\"57.1387\">«port  def»</text><text fill=\"#000000\" font-family=\"sans-serif\" font-size=\"12\" lengthAdjust=\"spacingAndGlyphs\" textLength=\"8\" x=\"151\" y=\"71.1074\">C</text></a></g><g id=\"E1.E2\"><a href=\"psysml:133b9857-5562-4f09-a022-80109f8d4a7d\" target=\"_top\" title=\"psysml:133b9857-5562-4f09-a022-80109f8d4a7d\" xlink:actuate=\"onRequest\" xlink:href=\"psysml:133b9857-5562-4f09-a022-80109f8d4a7d\" xlink:show=\"new\" xlink:title=\"psysml:133b9857-5562-4f09-a022-80109f8d4a7d\" xlink:type=\"simple\"><rect fill=\"#FFFFFF\" height=\"40\" id=\"E2\" rx=\"10\" ry=\"10\" style=\"stroke: #383838; stroke-width: 1.5;\" width=\"50\" x=\"32\" y=\"42.5\"/><rect fill=\"#F8F8F8\" height=\"23.9688\" rx=\"10\" ry=\"10\" style=\"stroke: #F8F8F8; stroke-width: 1.5;\" width=\"50\" x=\"32\" y=\"42.5\"/><rect fill=\"#F8F8F8\" height=\"10\" style=\"stroke: #F8F8F8; stroke-width: 1.5;\" width=\"50\" x=\"32\" y=\"56.4688\"/><rect fill=\"none\" height=\"40\" id=\"E2\" rx=\"10\" ry=\"10\" style=\"stroke: #383838; stroke-width: 1.5;\" width=\"50\" x=\"32\" y=\"42.5\"/><text fill=\"#000000\" font-family=\"sans-serif\" font-size=\"12\" lengthAdjust=\"spacingAndGlyphs\" textLength=\"20\" x=\"47\" y=\"58.6387\">f: A</text></a></g><text fill=\"#000000\" font-family=\"sans-serif\" font-size=\"14\" lengthAdjust=\"spacingAndGlyphs\" textLength=\"27\" x=\"569.5\" y=\"41.1982\">c: C</text><rect fill=\"#383838\" height=\"12\" style=\"stroke: #F8F8F8; stroke-width: 1.5;\" width=\"12\" x=\"579\" y=\"56.5\"/><!--MD5=[60a26617385b1d2d0262a64233df1f8d]\n",
       "class E6--><a href=\"psysml:445f494e-a94c-4fdf-9cc7-f31ccfeaa97f\" target=\"_top\" title=\"psysml:445f494e-a94c-4fdf-9cc7-f31ccfeaa97f\" xlink:actuate=\"onRequest\" xlink:href=\"psysml:445f494e-a94c-4fdf-9cc7-f31ccfeaa97f\" xlink:show=\"new\" xlink:title=\"psysml:445f494e-a94c-4fdf-9cc7-f31ccfeaa97f\" xlink:type=\"simple\"><rect fill=\"#FFFFFF\" height=\"45.9375\" id=\"E6\" rx=\"10\" ry=\"10\" style=\"stroke: #383838; stroke-width: 1.5;\" width=\"71\" x=\"433.5\" y=\"159.5\"/><text fill=\"#000000\" font-family=\"sans-serif\" font-size=\"12\" font-style=\"italic\" lengthAdjust=\"spacingAndGlyphs\" textLength=\"69\" x=\"434.5\" y=\"175.6387\">«attribute»</text><text fill=\"#000000\" font-family=\"sans-serif\" font-size=\"12\" lengthAdjust=\"spacingAndGlyphs\" textLength=\"6\" x=\"464\" y=\"189.6074\">x</text><line style=\"stroke: #383838; stroke-width: 1.5;\" x1=\"434.5\" x2=\"503.5\" y1=\"197.4375\" y2=\"197.4375\"/></a><!--MD5=[2156ba9850f5573cc1fc38a6a4b2f02b]\n",
       "class E7--><a href=\"psysml:83189ed0-8892-41b6-b657-b7e16a6a2eeb\" target=\"_top\" title=\"psysml:83189ed0-8892-41b6-b657-b7e16a6a2eeb\" xlink:actuate=\"onRequest\" xlink:href=\"psysml:83189ed0-8892-41b6-b657-b7e16a6a2eeb\" xlink:show=\"new\" xlink:title=\"psysml:83189ed0-8892-41b6-b657-b7e16a6a2eeb\" xlink:type=\"simple\"><rect fill=\"#FFFFFF\" height=\"45.9375\" id=\"E7\" rx=\"10\" ry=\"10\" style=\"stroke: #383838; stroke-width: 1.5;\" width=\"71\" x=\"433.5\" y=\"100\"/><text fill=\"#000000\" font-family=\"sans-serif\" font-size=\"12\" font-style=\"italic\" lengthAdjust=\"spacingAndGlyphs\" textLength=\"69\" x=\"434.5\" y=\"116.1387\">«attribute»</text><text fill=\"#000000\" font-family=\"sans-serif\" font-size=\"12\" lengthAdjust=\"spacingAndGlyphs\" textLength=\"50\" x=\"444\" y=\"130.1074\">y :&gt; A::x</text><line style=\"stroke: #383838; stroke-width: 1.5;\" x1=\"434.5\" x2=\"503.5\" y1=\"137.9375\" y2=\"137.9375\"/></a><g id=\"E1.E3.E4\"><a href=\"psysml:23a90af0-4107-4bf0-84ea-ac7115753c4e\" target=\"_top\" title=\"psysml:23a90af0-4107-4bf0-84ea-ac7115753c4e\" xlink:actuate=\"onRequest\" xlink:href=\"psysml:23a90af0-4107-4bf0-84ea-ac7115753c4e\" xlink:show=\"new\" xlink:title=\"psysml:23a90af0-4107-4bf0-84ea-ac7115753c4e\" xlink:type=\"simple\"><rect fill=\"#FFFFFF\" height=\"40\" id=\"E4\" rx=\"10\" ry=\"10\" style=\"stroke: #383838; stroke-width: 1.5;\" width=\"50\" x=\"560\" y=\"162.5\"/><rect fill=\"#F8F8F8\" height=\"23.9688\" rx=\"10\" ry=\"10\" style=\"stroke: #F8F8F8; stroke-width: 1.5;\" width=\"50\" x=\"560\" y=\"162.5\"/><rect fill=\"#F8F8F8\" height=\"10\" style=\"stroke: #F8F8F8; stroke-width: 1.5;\" width=\"50\" x=\"560\" y=\"176.4688\"/><rect fill=\"none\" height=\"40\" id=\"E4\" rx=\"10\" ry=\"10\" style=\"stroke: #383838; stroke-width: 1.5;\" width=\"50\" x=\"560\" y=\"162.5\"/><text fill=\"#000000\" font-family=\"sans-serif\" font-size=\"12\" lengthAdjust=\"spacingAndGlyphs\" textLength=\"24\" x=\"573\" y=\"178.6387\">b: B</text></a></g><text fill=\"#000000\" font-family=\"sans-serif\" font-size=\"14\" lengthAdjust=\"spacingAndGlyphs\" textLength=\"38\" x=\"326\" y=\"41.1982\">x: ~C</text><rect fill=\"#383838\" height=\"12\" style=\"stroke: #F8F8F8; stroke-width: 1.5;\" width=\"12\" x=\"341\" y=\"56.5\"/><g id=\"E1.E8.E9\"><a href=\"psysml:4ea01713-b83a-4578-95eb-e0c0377cf261\" target=\"_top\" title=\"psysml:4ea01713-b83a-4578-95eb-e0c0377cf261\" xlink:actuate=\"onRequest\" xlink:href=\"psysml:4ea01713-b83a-4578-95eb-e0c0377cf261\" xlink:show=\"new\" xlink:title=\"psysml:4ea01713-b83a-4578-95eb-e0c0377cf261\" xlink:type=\"simple\"><rect fill=\"#FFFFFF\" height=\"40\" id=\"E9\" rx=\"10\" ry=\"10\" style=\"stroke: #383838; stroke-width: 1.5;\" width=\"50\" x=\"216\" y=\"103\"/><rect fill=\"#F8F8F8\" height=\"23.9688\" rx=\"10\" ry=\"10\" style=\"stroke: #F8F8F8; stroke-width: 1.5;\" width=\"50\" x=\"216\" y=\"103\"/><rect fill=\"#F8F8F8\" height=\"10\" style=\"stroke: #F8F8F8; stroke-width: 1.5;\" width=\"50\" x=\"216\" y=\"116.9688\"/><rect fill=\"none\" height=\"40\" id=\"E9\" rx=\"10\" ry=\"10\" style=\"stroke: #383838; stroke-width: 1.5;\" width=\"50\" x=\"216\" y=\"103\"/><text fill=\"#000000\" font-family=\"sans-serif\" font-size=\"12\" lengthAdjust=\"spacingAndGlyphs\" textLength=\"24\" x=\"229\" y=\"119.1387\">a: A</text></a></g><a href=\"psysml:78dea323-2f70-496c-aa91-db5f05f12a10\" target=\"_top\" title=\"psysml:78dea323-2f70-496c-aa91-db5f05f12a10\" xlink:actuate=\"onRequest\" xlink:href=\"psysml:78dea323-2f70-496c-aa91-db5f05f12a10\" xlink:show=\"new\" xlink:title=\"psysml:78dea323-2f70-496c-aa91-db5f05f12a10\" xlink:type=\"simple\"><polygon fill=\"#FFFFFF\" points=\"332.5,156,347.5,156,354.5,178.2969,361.5,178.2969,361.5,208.5938,332.5,208.5938,332.5,156\" style=\"stroke: #000000; stroke-width: 1.5;\"/><line style=\"stroke: #000000; stroke-width: 1.5;\" x1=\"332.5\" x2=\"354.5\" y1=\"178.2969\" y2=\"178.2969\"/><text fill=\"#000000\" font-family=\"sans-serif\" font-size=\"14\" font-weight=\"bold\" lengthAdjust=\"spacingAndGlyphs\" textLength=\"9\" x=\"336.5\" y=\"170.9951\">P</text></a><!--MD5=[fbb449814971db3a0b8220cf225b9e01]\n",
       "link E7 to E6--><a href=\"psysml:2104b8b7-83c3-4383-b55d-abdf660b6842\" target=\"_top\" title=\"psysml:2104b8b7-83c3-4383-b55d-abdf660b6842\" xlink:actuate=\"onRequest\" xlink:href=\"psysml:2104b8b7-83c3-4383-b55d-abdf660b6842\" xlink:show=\"new\" xlink:title=\"psysml:2104b8b7-83c3-4383-b55d-abdf660b6842\" xlink:type=\"simple\"><path d=\"M469,146.07 C469,146.2 469,146.34 469,146.47 \" fill=\"none\" id=\"E7-&gt;E6\" style=\"stroke: #383838; stroke-width: 1.0;\"/><polygon fill=\"none\" points=\"476,139.21,469,159.21,462,139.21,476,139.21\" style=\"stroke: #383838; stroke-width: 1.0;\"/></a><!--MD5=[462449ffd28a143efed178535145f92d]\n",
       "@startuml\r\n",
       "skinparam ranksep 10\r\n",
       "skinparam rectangle {\r\n",
       " backgroundColor<<block>> LightGreen\r\n",
       "}\r\n",
       "top to bottom direction\r\n",
       "skinparam monochrome true\r\n",
       "skinparam classbackgroundcolor white\r\n",
       "skinparam shadowing false\r\n",
       "skinparam wrapWidth 300\r\n",
       "hide circle\r\n",
       "\r\n",
       "package \"PartTest\" as E1  [[psysml:c38775ed-c195-45a3-878f-69446059ff99 ]]  {\r\n",
       "rec usage \"f: A\" as E2  [[psysml:133b9857-5562-4f09-a022-80109f8d4a7d ]] {\r\n",
       "}\r\n",
       "rec def \"A\" as E3  <<(T,blue) part  def>> [[psysml:41a43e73-47d4-427d-aa17-f57a90b2778c ]] {\r\n",
       "rec usage \"b: B\" as E4  [[psysml:23a90af0-4107-4bf0-84ea-ac7115753c4e ]] {\r\n",
       "}\r\n",
       "portin \"c: C \" as E5  <<(T,blue) port>> [[psysml:3bde4e3d-0323-4342-8ecc-6f2c3dab5224 ]] \r\n",
       "comp usage \"x \" as E6  <<(T,blue) attribute>> [[psysml:445f494e-a94c-4fdf-9cc7-f31ccfeaa97f ]] {\r\n",
       "}\r\n",
       "comp usage \"y :> A::x\" as E7  <<(T,blue) attribute>> [[psysml:83189ed0-8892-41b6-b657-b7e16a6a2eeb ]] {\r\n",
       "}\r\n",
       "}\r\n",
       "rec def \"<i>B</i>\" as E8  <<(T,blue) part  def>> [[psysml:c17c630d-59e9-4f7e-a520-276041a9c800 ]] {\r\n",
       "rec usage \"a: A\" as E9  [[psysml:4ea01713-b83a-4578-95eb-e0c0377cf261 ]] {\r\n",
       "}\r\n",
       "portin \"x: ~C \" as E10  <<(T,blue) port>> [[psysml:c9f90055-486d-4326-9691-bfe47f710c68 ]] \r\n",
       "package \"P\" as E11  [[psysml:78dea323-2f70-496c-aa91-db5f05f12a10 ]]  {\r\n",
       "}\r\n",
       "}\r\n",
       "def \"C\" as E12  <<(T,blue) port  def>> [[psysml:e209a1f3-de72-4850-a45f-7036acf7c094 ]] \r\n",
       "}\r\n",
       "E7 - -|> E6 [[psysml:2104b8b7-83c3-4383-b55d-abdf660b6842 ]] \r\n",
       "@enduml\r\n",
       "\n",
       "PlantUML version 1.2020.13(Sat Jun 13 12:26:38 UTC 2020)\n",
       "(EPL source distribution)\n",
       "Java Runtime: OpenJDK Runtime Environment\n",
       "JVM: OpenJDK 64-Bit Server VM\n",
       "Default Encoding: UTF-8\n",
       "Language: en\n",
       "Country: null\n",
       "--></g></svg>"
      ]
     },
     "execution_count": 47,
     "metadata": {},
     "output_type": "execute_result"
    }
   ],
   "source": [
    "%viz --style=\"TB\" --view=\"Interconnection\" \"PartTest\""
   ]
  },
  {
   "cell_type": "code",
   "execution_count": 48,
   "id": "d9c8769a",
   "metadata": {
    "execution": {
     "iopub.execute_input": "2022-02-05T16:55:46.168874Z",
     "iopub.status.busy": "2022-02-05T16:55:46.168189Z",
     "iopub.status.idle": "2022-02-05T16:55:46.174143Z",
     "shell.execute_reply": "2022-02-05T16:55:46.173745Z"
    }
   },
   "outputs": [
    {
     "data": {
      "image/svg+xml": [
       "<?xml version=\"1.0\" encoding=\"UTF-8\" standalone=\"no\"?><svg xmlns=\"http://www.w3.org/2000/svg\" xmlns:xlink=\"http://www.w3.org/1999/xlink\" contentScriptType=\"application/ecmascript\" contentStyleType=\"text/css\" height=\"12px\" preserveAspectRatio=\"none\" style=\"width:12px;height:12px;\" version=\"1.1\" viewBox=\"0 0 12 12\" width=\"12px\" zoomAndPan=\"magnify\"><defs/><g><!--MD5=[06afc254b03ac5e9d9fb7773b07d0800]\n",
       "@startuml\r\n",
       "skinparam ranksep 8\r\n",
       "top to bottom direction\r\n",
       "skinparam monochrome true\r\n",
       "skinparam classbackgroundcolor white\r\n",
       "skinparam shadowing false\r\n",
       "skinparam wrapWidth 300\r\n",
       "hide circle\r\n",
       "\r\n",
       "@enduml\r\n",
       "\n",
       "PlantUML version 1.2020.13(Sat Jun 13 12:26:38 UTC 2020)\n",
       "(EPL source distribution)\n",
       "Java Runtime: OpenJDK Runtime Environment\n",
       "JVM: OpenJDK 64-Bit Server VM\n",
       "Default Encoding: UTF-8\n",
       "Language: en\n",
       "Country: null\n",
       "--></g></svg>"
      ]
     },
     "execution_count": 48,
     "metadata": {},
     "output_type": "execute_result"
    }
   ],
   "source": [
    "%viz --style=\"TB\" --view=\"Action\" \"PartTest\""
   ]
  },
  {
   "cell_type": "code",
   "execution_count": 49,
   "id": "4aa0620f",
   "metadata": {
    "execution": {
     "iopub.execute_input": "2022-02-05T16:55:46.224465Z",
     "iopub.status.busy": "2022-02-05T16:55:46.223846Z",
     "iopub.status.idle": "2022-02-05T16:55:46.229557Z",
     "shell.execute_reply": "2022-02-05T16:55:46.229195Z"
    }
   },
   "outputs": [
    {
     "data": {
      "image/svg+xml": [
       "<?xml version=\"1.0\" encoding=\"UTF-8\" standalone=\"no\"?><svg xmlns=\"http://www.w3.org/2000/svg\" xmlns:xlink=\"http://www.w3.org/1999/xlink\" contentScriptType=\"application/ecmascript\" contentStyleType=\"text/css\" height=\"12px\" preserveAspectRatio=\"none\" style=\"width:12px;height:12px;\" version=\"1.1\" viewBox=\"0 0 12 12\" width=\"12px\" zoomAndPan=\"magnify\"><defs/><g><!--MD5=[e1ab0c84c44d2fef8bf5f140f2689906]\n",
       "@startuml\r\n",
       "skinparam roundcorner 20\r\n",
       "skinparam BoxPadding 20\r\n",
       "skinparam SequenceBoxBackgroundColor #white\r\n",
       "skinparam style strictuml\r\n",
       "skinparam maxMessageSize 100\r\n",
       "top to bottom direction\r\n",
       "skinparam monochrome true\r\n",
       "skinparam classbackgroundcolor white\r\n",
       "skinparam shadowing false\r\n",
       "skinparam wrapWidth 300\r\n",
       "hide circle\r\n",
       "\r\n",
       "@enduml\r\n",
       "\n",
       "PlantUML version 1.2020.13(Sat Jun 13 12:26:38 UTC 2020)\n",
       "(EPL source distribution)\n",
       "Java Runtime: OpenJDK Runtime Environment\n",
       "JVM: OpenJDK 64-Bit Server VM\n",
       "Default Encoding: UTF-8\n",
       "Language: en\n",
       "Country: null\n",
       "--></g></svg>"
      ]
     },
     "execution_count": 49,
     "metadata": {},
     "output_type": "execute_result"
    }
   ],
   "source": [
    "%viz --style=\"TB\" --view=\"Sequence\" \"PartTest\""
   ]
  },
  {
   "cell_type": "code",
   "execution_count": 50,
   "id": "4bc7abb2",
   "metadata": {
    "execution": {
     "iopub.execute_input": "2022-02-05T16:55:46.280038Z",
     "iopub.status.busy": "2022-02-05T16:55:46.279373Z",
     "iopub.status.idle": "2022-02-05T16:55:46.346384Z",
     "shell.execute_reply": "2022-02-05T16:55:46.344809Z"
    }
   },
   "outputs": [
    {
     "data": {
      "image/svg+xml": [
       "<?xml version=\"1.0\" encoding=\"UTF-8\" standalone=\"no\"?><svg xmlns=\"http://www.w3.org/2000/svg\" xmlns:xlink=\"http://www.w3.org/1999/xlink\" contentScriptType=\"application/ecmascript\" contentStyleType=\"text/css\" height=\"760px\" preserveAspectRatio=\"none\" style=\"width:423px;height:760px;\" version=\"1.1\" viewBox=\"0 0 423 760\" width=\"423px\" zoomAndPan=\"magnify\"><defs/><g><!--MD5=[fbc87193dbaf4d95561dea2c320d4a47]\n",
       "cluster E1--><a href=\"psysml:c38775ed-c195-45a3-878f-69446059ff99\" target=\"_top\" title=\"psysml:c38775ed-c195-45a3-878f-69446059ff99\" xlink:actuate=\"onRequest\" xlink:href=\"psysml:c38775ed-c195-45a3-878f-69446059ff99\" xlink:show=\"new\" xlink:title=\"psysml:c38775ed-c195-45a3-878f-69446059ff99\" xlink:type=\"simple\"><polygon fill=\"#FFFFFF\" points=\"16,6,80,6,87,28.2969,401,28.2969,401,748,16,748,16,6\" style=\"stroke: #000000; stroke-width: 1.5;\"/><line style=\"stroke: #000000; stroke-width: 1.5;\" x1=\"16\" x2=\"87\" y1=\"28.2969\" y2=\"28.2969\"/><text fill=\"#000000\" font-family=\"sans-serif\" font-size=\"14\" font-weight=\"bold\" lengthAdjust=\"spacingAndGlyphs\" textLength=\"58\" x=\"20\" y=\"20.9951\">PartTest</text></a><!--MD5=[b4997ac47864f28c2f74865a473b2911]\n",
       "class E2--><a href=\"psysml:133b9857-5562-4f09-a022-80109f8d4a7d\" target=\"_top\" title=\"psysml:133b9857-5562-4f09-a022-80109f8d4a7d\" xlink:actuate=\"onRequest\" xlink:href=\"psysml:133b9857-5562-4f09-a022-80109f8d4a7d\" xlink:show=\"new\" xlink:title=\"psysml:133b9857-5562-4f09-a022-80109f8d4a7d\" xlink:type=\"simple\"><rect fill=\"#FFFFFF\" height=\"45.9375\" id=\"E2\" rx=\"10\" ry=\"10\" style=\"stroke: #383838; stroke-width: 1.5;\" width=\"42\" x=\"201\" y=\"41\"/><text fill=\"#000000\" font-family=\"sans-serif\" font-size=\"12\" font-style=\"italic\" lengthAdjust=\"spacingAndGlyphs\" textLength=\"40\" x=\"202\" y=\"57.1387\">«part»</text><text fill=\"#000000\" font-family=\"sans-serif\" font-size=\"12\" lengthAdjust=\"spacingAndGlyphs\" textLength=\"20\" x=\"210\" y=\"71.1074\">f: A</text><line style=\"stroke: #383838; stroke-width: 1.5;\" x1=\"202\" x2=\"242\" y1=\"78.9375\" y2=\"78.9375\"/></a><!--MD5=[09b614a08d8cba4a07c9adeb5e0fee81]\n",
       "class E3--><a href=\"psysml:41a43e73-47d4-427d-aa17-f57a90b2778c\" target=\"_top\" title=\"psysml:41a43e73-47d4-427d-aa17-f57a90b2778c\" xlink:actuate=\"onRequest\" xlink:href=\"psysml:41a43e73-47d4-427d-aa17-f57a90b2778c\" xlink:show=\"new\" xlink:title=\"psysml:41a43e73-47d4-427d-aa17-f57a90b2778c\" xlink:type=\"simple\"><rect fill=\"#FFFFFF\" height=\"88.3516\" id=\"E3\" style=\"stroke: #383838; stroke-width: 1.5;\" width=\"70\" x=\"187\" y=\"148\"/><text fill=\"#000000\" font-family=\"sans-serif\" font-size=\"12\" font-style=\"italic\" lengthAdjust=\"spacingAndGlyphs\" textLength=\"68\" x=\"188\" y=\"164.1387\">«part  def»</text><text fill=\"#000000\" font-family=\"sans-serif\" font-size=\"12\" lengthAdjust=\"spacingAndGlyphs\" textLength=\"8\" x=\"218\" y=\"178.1074\">A</text><line style=\"stroke: #383838; stroke-width: 1.5;\" x1=\"188\" x2=\"256\" y1=\"185.9375\" y2=\"185.9375\"/><text fill=\"#000000\" font-family=\"sans-serif\" font-size=\"11\" lengthAdjust=\"spacingAndGlyphs\" textLength=\"6\" x=\"193\" y=\"216.9526\">x</text><text fill=\"#000000\" font-family=\"sans-serif\" font-size=\"11\" lengthAdjust=\"spacingAndGlyphs\" textLength=\"44\" x=\"193\" y=\"229.7573\">y:&gt; A::x</text><line style=\"stroke: #383838; stroke-width: 1.0;\" x1=\"188\" x2=\"194.5\" y1=\"200.3398\" y2=\"200.3398\"/><text fill=\"#000000\" font-family=\"sans-serif\" font-size=\"11\" lengthAdjust=\"spacingAndGlyphs\" textLength=\"55\" x=\"194.5\" y=\"203.6479\">attributes</text><line style=\"stroke: #383838; stroke-width: 1.0;\" x1=\"249.5\" x2=\"256\" y1=\"200.3398\" y2=\"200.3398\"/></a><!--MD5=[ebbe1d658d1005bcc118a6aa81145e00]\n",
       "class E4--><a href=\"psysml:23a90af0-4107-4bf0-84ea-ac7115753c4e\" target=\"_top\" title=\"psysml:23a90af0-4107-4bf0-84ea-ac7115753c4e\" xlink:actuate=\"onRequest\" xlink:href=\"psysml:23a90af0-4107-4bf0-84ea-ac7115753c4e\" xlink:show=\"new\" xlink:title=\"psysml:23a90af0-4107-4bf0-84ea-ac7115753c4e\" xlink:type=\"simple\"><rect fill=\"#FFFFFF\" height=\"45.9375\" id=\"E4\" rx=\"10\" ry=\"10\" style=\"stroke: #383838; stroke-width: 1.5;\" width=\"42\" x=\"323\" y=\"373\"/><text fill=\"#000000\" font-family=\"sans-serif\" font-size=\"12\" font-style=\"italic\" lengthAdjust=\"spacingAndGlyphs\" textLength=\"40\" x=\"324\" y=\"389.1387\">«part»</text><text fill=\"#000000\" font-family=\"sans-serif\" font-size=\"12\" lengthAdjust=\"spacingAndGlyphs\" textLength=\"24\" x=\"330\" y=\"403.1074\">b: B</text><line style=\"stroke: #383838; stroke-width: 1.5;\" x1=\"324\" x2=\"364\" y1=\"410.9375\" y2=\"410.9375\"/></a><!--MD5=[270fce915f116d4de14055a7c1d9a0f3]\n",
       "class E5--><a href=\"psysml:3bde4e3d-0323-4342-8ecc-6f2c3dab5224\" target=\"_top\" title=\"psysml:3bde4e3d-0323-4342-8ecc-6f2c3dab5224\" xlink:actuate=\"onRequest\" xlink:href=\"psysml:3bde4e3d-0323-4342-8ecc-6f2c3dab5224\" xlink:show=\"new\" xlink:title=\"psysml:3bde4e3d-0323-4342-8ecc-6f2c3dab5224\" xlink:type=\"simple\"><rect fill=\"#FFFFFF\" height=\"45.9375\" id=\"E5\" rx=\"10\" ry=\"10\" style=\"stroke: #383838; stroke-width: 1.5;\" width=\"42\" x=\"306\" y=\"297\"/><text fill=\"#000000\" font-family=\"sans-serif\" font-size=\"12\" font-style=\"italic\" lengthAdjust=\"spacingAndGlyphs\" textLength=\"40\" x=\"307\" y=\"313.1387\">«port»</text><text fill=\"#000000\" font-family=\"sans-serif\" font-size=\"12\" lengthAdjust=\"spacingAndGlyphs\" textLength=\"23\" x=\"313.5\" y=\"327.1074\">c: C</text><line style=\"stroke: #383838; stroke-width: 1.5;\" x1=\"307\" x2=\"347\" y1=\"334.9375\" y2=\"334.9375\"/></a><!--MD5=[60a26617385b1d2d0262a64233df1f8d]\n",
       "class E6--><a href=\"psysml:c17c630d-59e9-4f7e-a520-276041a9c800\" target=\"_top\" title=\"psysml:c17c630d-59e9-4f7e-a520-276041a9c800\" xlink:actuate=\"onRequest\" xlink:href=\"psysml:c17c630d-59e9-4f7e-a520-276041a9c800\" xlink:show=\"new\" xlink:title=\"psysml:c17c630d-59e9-4f7e-a520-276041a9c800\" xlink:type=\"simple\"><rect fill=\"#FFFFFF\" height=\"45.9375\" id=\"E6\" style=\"stroke: #383838; stroke-width: 1.5;\" width=\"70\" x=\"190\" y=\"572\"/><text fill=\"#000000\" font-family=\"sans-serif\" font-size=\"12\" font-style=\"italic\" lengthAdjust=\"spacingAndGlyphs\" textLength=\"68\" x=\"191\" y=\"588.1387\">«part  def»</text><text fill=\"#000000\" font-family=\"sans-serif\" font-size=\"12\" font-style=\"italic\" lengthAdjust=\"spacingAndGlyphs\" textLength=\"8\" x=\"221\" y=\"602.1074\">B</text><line style=\"stroke: #383838; stroke-width: 1.5;\" x1=\"191\" x2=\"259\" y1=\"609.9375\" y2=\"609.9375\"/></a><!--MD5=[2156ba9850f5573cc1fc38a6a4b2f02b]\n",
       "class E7--><a href=\"psysml:4ea01713-b83a-4578-95eb-e0c0377cf261\" target=\"_top\" title=\"psysml:4ea01713-b83a-4578-95eb-e0c0377cf261\" xlink:actuate=\"onRequest\" xlink:href=\"psysml:4ea01713-b83a-4578-95eb-e0c0377cf261\" xlink:show=\"new\" xlink:title=\"psysml:4ea01713-b83a-4578-95eb-e0c0377cf261\" xlink:type=\"simple\"><rect fill=\"#FFFFFF\" height=\"45.9375\" id=\"E7\" rx=\"10\" ry=\"10\" style=\"stroke: #383838; stroke-width: 1.5;\" width=\"42\" x=\"68\" y=\"682.5\"/><text fill=\"#000000\" font-family=\"sans-serif\" font-size=\"12\" font-style=\"italic\" lengthAdjust=\"spacingAndGlyphs\" textLength=\"40\" x=\"69\" y=\"698.6387\">«part»</text><text fill=\"#000000\" font-family=\"sans-serif\" font-size=\"12\" font-style=\"italic\" lengthAdjust=\"spacingAndGlyphs\" textLength=\"8\" x=\"75\" y=\"712.6074\">a</text><text fill=\"#000000\" font-family=\"sans-serif\" font-size=\"12\" lengthAdjust=\"spacingAndGlyphs\" textLength=\"16\" x=\"83\" y=\"712.6074\">: A</text><line style=\"stroke: #383838; stroke-width: 1.5;\" x1=\"69\" x2=\"109\" y1=\"720.4375\" y2=\"720.4375\"/></a><!--MD5=[b9389687b975829384b498ac4b7476b2]\n",
       "class E8--><a href=\"psysml:c9f90055-486d-4326-9691-bfe47f710c68\" target=\"_top\" title=\"psysml:c9f90055-486d-4326-9691-bfe47f710c68\" xlink:actuate=\"onRequest\" xlink:href=\"psysml:c9f90055-486d-4326-9691-bfe47f710c68\" xlink:show=\"new\" xlink:title=\"psysml:c9f90055-486d-4326-9691-bfe47f710c68\" xlink:type=\"simple\"><rect fill=\"#FFFFFF\" height=\"45.9375\" id=\"E8\" rx=\"10\" ry=\"10\" style=\"stroke: #383838; stroke-width: 1.5;\" width=\"42\" x=\"228\" y=\"682.5\"/><text fill=\"#000000\" font-family=\"sans-serif\" font-size=\"12\" font-style=\"italic\" lengthAdjust=\"spacingAndGlyphs\" textLength=\"40\" x=\"229\" y=\"698.6387\">«port»</text><text fill=\"#000000\" font-family=\"sans-serif\" font-size=\"12\" lengthAdjust=\"spacingAndGlyphs\" textLength=\"32\" x=\"231\" y=\"712.6074\">x: ~C</text><line style=\"stroke: #383838; stroke-width: 1.5;\" x1=\"229\" x2=\"269\" y1=\"720.4375\" y2=\"720.4375\"/></a><!--MD5=[96f4274e9e20536e775497830990834d]\n",
       "class E10--><a href=\"psysml:e209a1f3-de72-4850-a45f-7036acf7c094\" target=\"_top\" title=\"psysml:e209a1f3-de72-4850-a45f-7036acf7c094\" xlink:actuate=\"onRequest\" xlink:href=\"psysml:e209a1f3-de72-4850-a45f-7036acf7c094\" xlink:show=\"new\" xlink:title=\"psysml:e209a1f3-de72-4850-a45f-7036acf7c094\" xlink:type=\"simple\"><rect fill=\"#FFFFFF\" height=\"45.9375\" id=\"E10\" style=\"stroke: #383838; stroke-width: 1.5;\" width=\"70\" x=\"190\" y=\"449\"/><text fill=\"#000000\" font-family=\"sans-serif\" font-size=\"12\" font-style=\"italic\" lengthAdjust=\"spacingAndGlyphs\" textLength=\"68\" x=\"191\" y=\"465.1387\">«port  def»</text><text fill=\"#000000\" font-family=\"sans-serif\" font-size=\"12\" lengthAdjust=\"spacingAndGlyphs\" textLength=\"8\" x=\"221\" y=\"479.1074\">C</text><line style=\"stroke: #383838; stroke-width: 1.5;\" x1=\"191\" x2=\"259\" y1=\"486.9375\" y2=\"486.9375\"/></a><a href=\"psysml:78dea323-2f70-496c-aa91-db5f05f12a10\" target=\"_top\" title=\"psysml:78dea323-2f70-496c-aa91-db5f05f12a10\" xlink:actuate=\"onRequest\" xlink:href=\"psysml:78dea323-2f70-496c-aa91-db5f05f12a10\" xlink:show=\"new\" xlink:title=\"psysml:78dea323-2f70-496c-aa91-db5f05f12a10\" xlink:type=\"simple\"><polygon fill=\"#FFFFFF\" points=\"163.5,679,178.5,679,185.5,701.2969,192.5,701.2969,192.5,731.5938,163.5,731.5938,163.5,679\" style=\"stroke: #000000; stroke-width: 1.5;\"/><line style=\"stroke: #000000; stroke-width: 1.5;\" x1=\"163.5\" x2=\"185.5\" y1=\"701.2969\" y2=\"701.2969\"/><text fill=\"#000000\" font-family=\"sans-serif\" font-size=\"14\" font-weight=\"bold\" lengthAdjust=\"spacingAndGlyphs\" textLength=\"9\" x=\"167.5\" y=\"693.9951\">P</text></a><!--MD5=[2720a5a1f2c3fca2055b230370638851]\n",
       "link E2 to E3--><a href=\"psysml:de99b855-827b-4779-9c99-7b4326eef43f\" target=\"_top\" title=\"psysml:de99b855-827b-4779-9c99-7b4326eef43f\" xlink:actuate=\"onRequest\" xlink:href=\"psysml:de99b855-827b-4779-9c99-7b4326eef43f\" xlink:show=\"new\" xlink:title=\"psysml:de99b855-827b-4779-9c99-7b4326eef43f\" xlink:type=\"simple\"><path d=\"M222,87.24 C222,98.62 222,113.11 222,127.62 \" fill=\"none\" id=\"E2-&gt;E3\" style=\"stroke: #383838; stroke-width: 1.0;\"/><polygon fill=\"#FFFFFF\" points=\"222,147.84,215,128.84,229,128.84,222,147.84\" style=\"stroke: #383838; stroke-width: 1.0;\"/><ellipse cx=\"217\" cy=\"123.14\" fill=\"#383838\" rx=\"2\" ry=\"2\" style=\"stroke: #383838; stroke-width: 1.0;\"/><ellipse cx=\"227\" cy=\"123.14\" fill=\"#383838\" rx=\"2\" ry=\"2\" style=\"stroke: #383838; stroke-width: 1.0;\"/></a><!--MD5=[4672eba38e49728da53d11aeb285b987]\n",
       "reverse link E3 to E4--><a href=\"psysml:7d143534-3389-4013-881e-42b16664757f\" target=\"_top\" title=\"psysml:7d143534-3389-4013-881e-42b16664757f\" xlink:actuate=\"onRequest\" xlink:href=\"psysml:7d143534-3389-4013-881e-42b16664757f\" xlink:show=\"new\" xlink:title=\"psysml:7d143534-3389-4013-881e-42b16664757f\" xlink:type=\"simple\"><path d=\"M269.08,212.65 C302.85,229.56 345.81,257.51 366,297 C378.38,321.22 367.51,352.31 357.12,372.91 \" fill=\"none\" id=\"E3&lt;-E4\" style=\"stroke: #383838; stroke-width: 1.0;\"/><polygon fill=\"#383838\" points=\"257.11,206.92,260.7919,213.1203,267.9314,212.1063,264.2495,205.906,257.11,206.92\" style=\"stroke: #383838; stroke-width: 1.0;\"/><text fill=\"#000000\" font-family=\"sans-serif\" font-size=\"13\" lengthAdjust=\"spacingAndGlyphs\" textLength=\"8\" x=\"352.5085\" y=\"363.0064\">1</text></a><!--MD5=[191cde3d490a3f6d7bb551fe3ddca469]\n",
       "reverse link E3 to E5--><a href=\"psysml:01061be5-5fdc-439c-afe5-881fb8746c83\" target=\"_top\" title=\"psysml:01061be5-5fdc-439c-afe5-881fb8746c83\" xlink:actuate=\"onRequest\" xlink:href=\"psysml:01061be5-5fdc-439c-afe5-881fb8746c83\" xlink:show=\"new\" xlink:title=\"psysml:01061be5-5fdc-439c-afe5-881fb8746c83\" xlink:type=\"simple\"><path d=\"M265.68,245.41 C280.65,263.38 296.6,282.52 308.48,296.78 \" fill=\"none\" id=\"E3&lt;-E5\" style=\"stroke: #383838; stroke-width: 1.0;\"/><polygon fill=\"#FFFFFF\" points=\"257.26,235.31,258.0312,242.4797,264.9461,244.5254,264.1749,237.3557,257.26,235.31\" style=\"stroke: #383838; stroke-width: 1.0;\"/><text fill=\"#000000\" font-family=\"sans-serif\" font-size=\"13\" lengthAdjust=\"spacingAndGlyphs\" textLength=\"8\" x=\"294.7093\" y=\"285.9999\">1</text></a><!--MD5=[79568f1e445c3877b6a54524624ccc7d]\n",
       "link E4 to E6--><a href=\"psysml:8d11eaae-af32-434c-8c3d-32f92418f4c8\" target=\"_top\" title=\"psysml:8d11eaae-af32-434c-8c3d-32f92418f4c8\" xlink:actuate=\"onRequest\" xlink:href=\"psysml:8d11eaae-af32-434c-8c3d-32f92418f4c8\" xlink:show=\"new\" xlink:title=\"psysml:8d11eaae-af32-434c-8c3d-32f92418f4c8\" xlink:type=\"simple\"><path d=\"M330.58,419.22 C310.75,452.04 273.34,513.98 248.79,554.62 \" fill=\"none\" id=\"E4-&gt;E6\" style=\"stroke: #383838; stroke-width: 1.0;\"/><polygon fill=\"#FFFFFF\" points=\"238.37,571.87,242.2063,551.9883,254.1882,559.2294,238.37,571.87\" style=\"stroke: #383838; stroke-width: 1.0;\"/><ellipse cx=\"246.8662\" cy=\"548.1444\" fill=\"#383838\" rx=\"2\" ry=\"2\" style=\"stroke: #383838; stroke-width: 1.0;\"/><ellipse cx=\"255.4247\" cy=\"553.3166\" fill=\"#383838\" rx=\"2\" ry=\"2\" style=\"stroke: #383838; stroke-width: 1.0;\"/></a><!--MD5=[3f50a3473f1dfb74d3f76443e03635af]\n",
       "reverse link E6 to E7--><a href=\"psysml:7466bf8a-1e84-4b05-9901-ce46ee446fa5\" target=\"_top\" title=\"psysml:7466bf8a-1e84-4b05-9901-ce46ee446fa5\" xlink:actuate=\"onRequest\" xlink:href=\"psysml:7466bf8a-1e84-4b05-9901-ce46ee446fa5\" xlink:show=\"new\" xlink:title=\"psysml:7466bf8a-1e84-4b05-9901-ce46ee446fa5\" xlink:type=\"simple\"><path d=\"M186.96,626.35 C162.12,646.16 130.61,671.3 110.14,687.64 \" fill=\"none\" id=\"E6&lt;-E7\" style=\"stroke: #383838; stroke-width: 1.0;\"/><polygon fill=\"#383838\" points=\"197.15,618.22,189.9656,618.8398,187.7744,625.7099,194.9589,625.0901,197.15,618.22\" style=\"stroke: #383838; stroke-width: 1.0;\"/><text fill=\"#000000\" font-family=\"sans-serif\" font-size=\"13\" lengthAdjust=\"spacingAndGlyphs\" textLength=\"8\" x=\"118.1534\" y=\"676.6545\">1</text></a><!--MD5=[14ccda38c055a5c0da953d572bc50960]\n",
       "link E7 to E3--><a href=\"psysml:3c280f0c-0d5e-48e6-b009-cbd7db9e9beb\" target=\"_top\" title=\"psysml:3c280f0c-0d5e-48e6-b009-cbd7db9e9beb\" xlink:actuate=\"onRequest\" xlink:href=\"psysml:3c280f0c-0d5e-48e6-b009-cbd7db9e9beb\" xlink:show=\"new\" xlink:title=\"psysml:3c280f0c-0d5e-48e6-b009-cbd7db9e9beb\" xlink:type=\"simple\"><path d=\"M69.41,682.1 C53.27,661.28 33,628.64 33,596 C33,319 33,319 33,319 C33,253.99 111.37,220.46 167.18,204.82 \" fill=\"none\" id=\"E7-&gt;E3\" style=\"stroke: #383838; stroke-width: 1.0;\"/><polygon fill=\"#FFFFFF\" points=\"186.89,199.76,170.2265,211.2633,166.7463,197.7028,186.89,199.76\" style=\"stroke: #383838; stroke-width: 1.0;\"/><ellipse cx=\"164.2082\" cy=\"210.743\" fill=\"#383838\" rx=\"2\" ry=\"2\" style=\"stroke: #383838; stroke-width: 1.0;\"/><ellipse cx=\"161.7224\" cy=\"201.0569\" fill=\"#383838\" rx=\"2\" ry=\"2\" style=\"stroke: #383838; stroke-width: 1.0;\"/></a><!--MD5=[f4cf0736d43fd73c4ef68817c49d37d5]\n",
       "reverse link E6 to E8--><a href=\"psysml:dcb35f57-14cb-4e2c-8543-9245438ead5d\" target=\"_top\" title=\"psysml:dcb35f57-14cb-4e2c-8543-9245438ead5d\" xlink:actuate=\"onRequest\" xlink:href=\"psysml:dcb35f57-14cb-4e2c-8543-9245438ead5d\" xlink:show=\"new\" xlink:title=\"psysml:dcb35f57-14cb-4e2c-8543-9245438ead5d\" xlink:type=\"simple\"><path d=\"M232.74,630.98 C236.47,647.83 240.83,667.54 244.09,682.31 \" fill=\"none\" id=\"E6&lt;-E8\" style=\"stroke: #383838; stroke-width: 1.0;\"/><polygon fill=\"#FFFFFF\" points=\"229.91,618.22,227.2956,624.9405,232.4936,629.9386,235.108,623.2181,229.91,618.22\" style=\"stroke: #383838; stroke-width: 1.0;\"/><text fill=\"#000000\" font-family=\"sans-serif\" font-size=\"13\" lengthAdjust=\"spacingAndGlyphs\" textLength=\"8\" x=\"233.8068\" y=\"671.5376\">1</text></a><!--MD5=[e88d06e5a652d73a6b19930eefe025a8]\n",
       "reverse link E6 to E9--><a href=\"psysml:08766104-19a0-4aca-bf35-b4c81b8c6dcb\" target=\"_top\" title=\"psysml:08766104-19a0-4aca-bf35-b4c81b8c6dcb\" xlink:actuate=\"onRequest\" xlink:href=\"psysml:08766104-19a0-4aca-bf35-b4c81b8c6dcb\" xlink:show=\"new\" xlink:title=\"psysml:08766104-19a0-4aca-bf35-b4c81b8c6dcb\" xlink:type=\"simple\"><path d=\"M209.38,632.06 C202.74,647.39 195.15,664.91 189.1,678.88 \" fill=\"none\" id=\"E6&lt;-E9\" style=\"stroke: #383838; stroke-width: 1.0;\"/><ellipse cx=\"212.2011\" cy=\"625.5613\" fill=\"#FFFFFF\" rx=\"8\" ry=\"8\" style=\"stroke: #383838; stroke-width: 1.0;\"/><line style=\"stroke: #383838; stroke-width: 1.0;\" x1=\"209.0221\" x2=\"215.38\" y1=\"632.9026\" y2=\"618.22\"/><line style=\"stroke: #383838; stroke-width: 1.0;\" x1=\"204.8598\" x2=\"219.5423\" y1=\"622.3823\" y2=\"628.7402\"/></a><!--MD5=[f78a29d5932556fa1060671a2a6507d8]\n",
       "link E5 to E10--><a href=\"psysml:568ef262-b92a-4cba-8a4b-19f4a197db7e\" target=\"_top\" title=\"psysml:568ef262-b92a-4cba-8a4b-19f4a197db7e\" xlink:actuate=\"onRequest\" xlink:href=\"psysml:568ef262-b92a-4cba-8a4b-19f4a197db7e\" xlink:show=\"new\" xlink:title=\"psysml:568ef262-b92a-4cba-8a4b-19f4a197db7e\" xlink:type=\"simple\"><path d=\"M315.99,343.2 C305.49,363.59 288.69,394.31 271,419 C267.54,423.82 263.72,428.71 259.79,433.47 \" fill=\"none\" id=\"E5-&gt;E10\" style=\"stroke: #383838; stroke-width: 1.0;\"/><polygon fill=\"#FFFFFF\" points=\"246.44,448.81,253.6429,429.886,264.1988,439.0824,246.44,448.81\" style=\"stroke: #383838; stroke-width: 1.0;\"/><ellipse cx=\"258.8951\" cy=\"426.902\" fill=\"#383838\" rx=\"2\" ry=\"2\" style=\"stroke: #383838; stroke-width: 1.0;\"/><ellipse cx=\"266.435\" cy=\"433.4709\" fill=\"#383838\" rx=\"2\" ry=\"2\" style=\"stroke: #383838; stroke-width: 1.0;\"/></a><!--MD5=[8e04057e7b3cbc0dca4fc78ea351e2da]\n",
       "reverse link E10 to E3--><a href=\"psysml:f2bac2b1-68d1-4631-bf1f-fa6cff2f703f\" target=\"_top\" title=\"psysml:f2bac2b1-68d1-4631-bf1f-fa6cff2f703f\" xlink:actuate=\"onRequest\" xlink:href=\"psysml:f2bac2b1-68d1-4631-bf1f-fa6cff2f703f\" xlink:show=\"new\" xlink:title=\"psysml:f2bac2b1-68d1-4631-bf1f-fa6cff2f703f\" xlink:type=\"simple\"><path d=\"M191.07,439.41 C168.36,415.54 140.89,380.56 131,343 C125.79,323.23 123.81,316.14 131,297 C142.22,267.13 166.35,240.23 186.94,221.27 \" fill=\"none\" id=\"E10&lt;-E3\" style=\"stroke: #383838; stroke-width: 1.0;\"/><polygon fill=\"#FFFFFF\" points=\"200.44,448.94,199.0863,441.8571,192.0275,440.3825,193.3813,447.4654,200.44,448.94\" style=\"stroke: #383838; stroke-width: 1.0;\"/><text fill=\"#000000\" font-family=\"sans-serif\" font-size=\"13\" lengthAdjust=\"spacingAndGlyphs\" textLength=\"7\" x=\"132\" y=\"324.5669\">y</text></a><!--MD5=[8e04057e7b3cbc0dca4fc78ea351e2da]\n",
       "reverse link E10 to E3--><a href=\"psysml:f2bac2b1-68d1-4631-bf1f-fa6cff2f703f\" target=\"_top\" title=\"psysml:f2bac2b1-68d1-4631-bf1f-fa6cff2f703f\" xlink:actuate=\"onRequest\" xlink:href=\"psysml:f2bac2b1-68d1-4631-bf1f-fa6cff2f703f\" xlink:show=\"new\" xlink:title=\"psysml:f2bac2b1-68d1-4631-bf1f-fa6cff2f703f\" xlink:type=\"simple\"><path d=\"M218.94,435.48 C213.66,400.35 207.24,345.02 210,297 C211.15,276.95 213.55,254.83 215.89,236.17 \" fill=\"none\" id=\"E10&lt;-E3-1\" style=\"stroke: #383838; stroke-width: 1.0;\"/><polygon fill=\"#FFFFFF\" points=\"221.04,448.78,224.0549,442.2294,219.1678,436.927,216.1529,443.4776,221.04,448.78\" style=\"stroke: #383838; stroke-width: 1.0;\"/><text fill=\"#000000\" font-family=\"sans-serif\" font-size=\"13\" lengthAdjust=\"spacingAndGlyphs\" textLength=\"7\" x=\"211\" y=\"324.5669\">y</text></a><!--MD5=[8e04057e7b3cbc0dca4fc78ea351e2da]\n",
       "reverse link E10 to E3--><a href=\"psysml:f2bac2b1-68d1-4631-bf1f-fa6cff2f703f\" target=\"_top\" title=\"psysml:f2bac2b1-68d1-4631-bf1f-fa6cff2f703f\" xlink:actuate=\"onRequest\" xlink:href=\"psysml:f2bac2b1-68d1-4631-bf1f-fa6cff2f703f\" xlink:show=\"new\" xlink:title=\"psysml:f2bac2b1-68d1-4631-bf1f-fa6cff2f703f\" xlink:type=\"simple\"><path d=\"M224.62,435.77 C224.07,384.92 223.06,291.06 222.47,236.13 \" fill=\"none\" id=\"E10&lt;-E3-2\" style=\"stroke: #383838; stroke-width: 1.0;\"/><polygon fill=\"#FFFFFF\" points=\"224.76,448.9,228.6938,442.8564,224.6281,436.9007,220.6943,442.9443,224.76,448.9\" style=\"stroke: #383838; stroke-width: 1.0;\"/><text fill=\"#000000\" font-family=\"sans-serif\" font-size=\"13\" lengthAdjust=\"spacingAndGlyphs\" textLength=\"7\" x=\"224\" y=\"324.5669\">y</text></a><!--MD5=[604cbf994c02b74b117f728a71673cea]\n",
       "reverse link E10 to E6--><a href=\"psysml:f2bac2b1-68d1-4631-bf1f-fa6cff2f703f\" target=\"_top\" title=\"psysml:f2bac2b1-68d1-4631-bf1f-fa6cff2f703f\" xlink:actuate=\"onRequest\" xlink:href=\"psysml:f2bac2b1-68d1-4631-bf1f-fa6cff2f703f\" xlink:show=\"new\" xlink:title=\"psysml:f2bac2b1-68d1-4631-bf1f-fa6cff2f703f\" xlink:type=\"simple\"><path d=\"M233.39,508.23 C235.07,519.04 236.05,530.99 235,542 C234.06,551.88 232.13,562.68 230.22,571.87 \" fill=\"none\" id=\"E10&lt;-E6\" style=\"stroke: #383838; stroke-width: 1.0;\"/><polygon fill=\"#FFFFFF\" points=\"230.97,495.31,228.1398,501.9425,233.1735,507.106,236.0037,500.4735,230.97,495.31\" style=\"stroke: #383838; stroke-width: 1.0;\"/><text fill=\"#000000\" font-family=\"sans-serif\" font-size=\"13\" lengthAdjust=\"spacingAndGlyphs\" textLength=\"7\" x=\"236\" y=\"538.0669\">y</text></a><!--MD5=[604cbf994c02b74b117f728a71673cea]\n",
       "reverse link E10 to E6--><a href=\"psysml:f2bac2b1-68d1-4631-bf1f-fa6cff2f703f\" target=\"_top\" title=\"psysml:f2bac2b1-68d1-4631-bf1f-fa6cff2f703f\" xlink:actuate=\"onRequest\" xlink:href=\"psysml:f2bac2b1-68d1-4631-bf1f-fa6cff2f703f\" xlink:show=\"new\" xlink:title=\"psysml:f2bac2b1-68d1-4631-bf1f-fa6cff2f703f\" xlink:type=\"simple\"><path d=\"M189.04,504.87 C184.13,511.03 179.81,517.82 177,525 C170.3,542.12 181.83,559.11 195.26,571.94 \" fill=\"none\" id=\"E10&lt;-E6-1\" style=\"stroke: #383838; stroke-width: 1.0;\"/><polygon fill=\"#FFFFFF\" points=\"197.73,495.16,190.7505,496.973,189.7396,504.1129,196.7191,502.2999,197.73,495.16\" style=\"stroke: #383838; stroke-width: 1.0;\"/><text fill=\"#000000\" font-family=\"sans-serif\" font-size=\"13\" lengthAdjust=\"spacingAndGlyphs\" textLength=\"7\" x=\"178\" y=\"538.0669\">y</text></a><!--MD5=[604cbf994c02b74b117f728a71673cea]\n",
       "reverse link E10 to E6--><a href=\"psysml:f2bac2b1-68d1-4631-bf1f-fa6cff2f703f\" target=\"_top\" title=\"psysml:f2bac2b1-68d1-4631-bf1f-fa6cff2f703f\" xlink:actuate=\"onRequest\" xlink:href=\"psysml:f2bac2b1-68d1-4631-bf1f-fa6cff2f703f\" xlink:show=\"new\" xlink:title=\"psysml:f2bac2b1-68d1-4631-bf1f-fa6cff2f703f\" xlink:type=\"simple\"><path d=\"M225,508.22 C225,528.81 225,554.16 225,571.95 \" fill=\"none\" id=\"E10&lt;-E6-2\" style=\"stroke: #383838; stroke-width: 1.0;\"/><polygon fill=\"#FFFFFF\" points=\"225,495.19,221,501.19,225,507.19,229,501.19,225,495.19\" style=\"stroke: #383838; stroke-width: 1.0;\"/><text fill=\"#000000\" font-family=\"sans-serif\" font-size=\"13\" lengthAdjust=\"spacingAndGlyphs\" textLength=\"7\" x=\"226\" y=\"538.0669\">y</text></a><!--MD5=[bdab82e92a8eec2532a7dc1cd652fa0c]\n",
       "@startuml\r\n",
       "top to bottom direction\r\n",
       "skinparam monochrome true\r\n",
       "skinparam classbackgroundcolor white\r\n",
       "skinparam shadowing false\r\n",
       "skinparam wrapWidth 300\r\n",
       "hide circle\r\n",
       "\r\n",
       "package \"PartTest\" as E1  [[psysml:c38775ed-c195-45a3-878f-69446059ff99 ]]  {\r\n",
       "comp usage \"f: A \" as E2  <<(T,blue) part>> [[psysml:133b9857-5562-4f09-a022-80109f8d4a7d ]] {\r\n",
       "}\r\n",
       "comp def \"A\" as E3  <<(T,blue) part  def>> [[psysml:41a43e73-47d4-427d-aa17-f57a90b2778c ]] {\r\n",
       "- - attributes - -\r\n",
       "x\r\n",
       "y:> A::x\r\n",
       "}\r\n",
       "comp usage \"b: B \" as E4  <<(T,blue) part>> [[psysml:23a90af0-4107-4bf0-84ea-ac7115753c4e ]] {\r\n",
       "}\r\n",
       "comp usage \"c: C \" as E5  <<(T,blue) port>> [[psysml:3bde4e3d-0323-4342-8ecc-6f2c3dab5224 ]] {\r\n",
       "}\r\n",
       "comp def \"<i>B</i>\" as E6  <<(T,blue) part  def>> [[psysml:c17c630d-59e9-4f7e-a520-276041a9c800 ]] {\r\n",
       "}\r\n",
       "comp usage \"<i>a</i>: A \" as E7  <<(T,blue) part>> [[psysml:4ea01713-b83a-4578-95eb-e0c0377cf261 ]] {\r\n",
       "}\r\n",
       "comp usage \"x: ~C \" as E8  <<(T,blue) port>> [[psysml:c9f90055-486d-4326-9691-bfe47f710c68 ]] {\r\n",
       "}\r\n",
       "package \"P\" as E9  [[psysml:78dea323-2f70-496c-aa91-db5f05f12a10 ]]  {\r\n",
       "}\r\n",
       "comp def \"C\" as E10  <<(T,blue) port  def>> [[psysml:e209a1f3-de72-4850-a45f-7036acf7c094 ]] {\r\n",
       "}\r\n",
       "}\r\n",
       "E2 - -:|> E3 [[psysml:de99b855-827b-4779-9c99-7b4326eef43f ]] \r\n",
       "E3 *- - \"1\"E4 [[psysml:7d143534-3389-4013-881e-42b16664757f ]] \r\n",
       "E3 o- - \"1\"E5 [[psysml:01061be5-5fdc-439c-afe5-881fb8746c83 ]] \r\n",
       "E4 - -:|> E6 [[psysml:8d11eaae-af32-434c-8c3d-32f92418f4c8 ]] \r\n",
       "E6 *- - \"1\"E7 [[psysml:7466bf8a-1e84-4b05-9901-ce46ee446fa5 ]] \r\n",
       "E7 - -:|> E3 [[psysml:3c280f0c-0d5e-48e6-b009-cbd7db9e9beb ]] \r\n",
       "E6 o- - \"1\"E8 [[psysml:dcb35f57-14cb-4e2c-8543-9245438ead5d ]] \r\n",
       "E6 +- - E9 [[psysml:08766104-19a0-4aca-bf35-b4c81b8c6dcb ]] \r\n",
       "E5 - -:|> E10 [[psysml:568ef262-b92a-4cba-8a4b-19f4a197db7e ]] \r\n",
       "E10 o- - E3 [[psysml:f2bac2b1-68d1-4631-bf1f-fa6cff2f703f ]] : y\r\n",
       "E10 o- - E6 [[psysml:f2bac2b1-68d1-4631-bf1f-fa6cff2f703f ]] : y\r\n",
       "E10 o- - E3 [[psysml:f2bac2b1-68d1-4631-bf1f-fa6cff2f703f ]] : y\r\n",
       "E10 o- - E6 [[psysml:f2bac2b1-68d1-4631-bf1f-fa6cff2f703f ]] : y\r\n",
       "E10 o- - E3 [[psysml:f2bac2b1-68d1-4631-bf1f-fa6cff2f703f ]] : y\r\n",
       "E10 o- - E6 [[psysml:f2bac2b1-68d1-4631-bf1f-fa6cff2f703f ]] : y\r\n",
       "@enduml\r\n",
       "\n",
       "PlantUML version 1.2020.13(Sat Jun 13 12:26:38 UTC 2020)\n",
       "(EPL source distribution)\n",
       "Java Runtime: OpenJDK Runtime Environment\n",
       "JVM: OpenJDK 64-Bit Server VM\n",
       "Default Encoding: UTF-8\n",
       "Language: en\n",
       "Country: null\n",
       "--></g></svg>"
      ]
     },
     "execution_count": 50,
     "metadata": {},
     "output_type": "execute_result"
    }
   ],
   "source": [
    "%viz --style=\"TB\" --view=\"MIXED\" \"PartTest\""
   ]
  },
  {
   "cell_type": "code",
   "execution_count": 51,
   "id": "a277d2be",
   "metadata": {
    "execution": {
     "iopub.execute_input": "2022-02-05T16:55:46.395927Z",
     "iopub.status.busy": "2022-02-05T16:55:46.395142Z",
     "iopub.status.idle": "2022-02-05T16:55:46.468253Z",
     "shell.execute_reply": "2022-02-05T16:55:46.466668Z"
    }
   },
   "outputs": [
    {
     "data": {
      "image/svg+xml": [
       "<?xml version=\"1.0\" encoding=\"UTF-8\" standalone=\"no\"?><svg xmlns=\"http://www.w3.org/2000/svg\" xmlns:xlink=\"http://www.w3.org/1999/xlink\" contentScriptType=\"application/ecmascript\" contentStyleType=\"text/css\" height=\"760px\" preserveAspectRatio=\"none\" style=\"width:423px;height:760px;\" version=\"1.1\" viewBox=\"0 0 423 760\" width=\"423px\" zoomAndPan=\"magnify\"><defs/><g><!--MD5=[fbc87193dbaf4d95561dea2c320d4a47]\n",
       "cluster E1--><a href=\"psysml:c38775ed-c195-45a3-878f-69446059ff99\" target=\"_top\" title=\"psysml:c38775ed-c195-45a3-878f-69446059ff99\" xlink:actuate=\"onRequest\" xlink:href=\"psysml:c38775ed-c195-45a3-878f-69446059ff99\" xlink:show=\"new\" xlink:title=\"psysml:c38775ed-c195-45a3-878f-69446059ff99\" xlink:type=\"simple\"><polygon fill=\"#FFFFFF\" points=\"16,6,80,6,87,28.2969,401,28.2969,401,748,16,748,16,6\" style=\"stroke: #000000; stroke-width: 1.5;\"/><line style=\"stroke: #000000; stroke-width: 1.5;\" x1=\"16\" x2=\"87\" y1=\"28.2969\" y2=\"28.2969\"/><text fill=\"#000000\" font-family=\"sans-serif\" font-size=\"14\" font-weight=\"bold\" lengthAdjust=\"spacingAndGlyphs\" textLength=\"58\" x=\"20\" y=\"20.9951\">PartTest</text></a><!--MD5=[b4997ac47864f28c2f74865a473b2911]\n",
       "class E2--><a href=\"psysml:133b9857-5562-4f09-a022-80109f8d4a7d\" target=\"_top\" title=\"psysml:133b9857-5562-4f09-a022-80109f8d4a7d\" xlink:actuate=\"onRequest\" xlink:href=\"psysml:133b9857-5562-4f09-a022-80109f8d4a7d\" xlink:show=\"new\" xlink:title=\"psysml:133b9857-5562-4f09-a022-80109f8d4a7d\" xlink:type=\"simple\"><rect fill=\"#FFFFFF\" height=\"45.9375\" id=\"E2\" rx=\"10\" ry=\"10\" style=\"stroke: #383838; stroke-width: 1.5;\" width=\"42\" x=\"201\" y=\"41\"/><text fill=\"#000000\" font-family=\"sans-serif\" font-size=\"12\" font-style=\"italic\" lengthAdjust=\"spacingAndGlyphs\" textLength=\"40\" x=\"202\" y=\"57.1387\">«part»</text><text fill=\"#000000\" font-family=\"sans-serif\" font-size=\"12\" lengthAdjust=\"spacingAndGlyphs\" textLength=\"20\" x=\"210\" y=\"71.1074\">f: A</text><line style=\"stroke: #383838; stroke-width: 1.5;\" x1=\"202\" x2=\"242\" y1=\"78.9375\" y2=\"78.9375\"/></a><!--MD5=[09b614a08d8cba4a07c9adeb5e0fee81]\n",
       "class E3--><a href=\"psysml:41a43e73-47d4-427d-aa17-f57a90b2778c\" target=\"_top\" title=\"psysml:41a43e73-47d4-427d-aa17-f57a90b2778c\" xlink:actuate=\"onRequest\" xlink:href=\"psysml:41a43e73-47d4-427d-aa17-f57a90b2778c\" xlink:show=\"new\" xlink:title=\"psysml:41a43e73-47d4-427d-aa17-f57a90b2778c\" xlink:type=\"simple\"><rect fill=\"#FFFFFF\" height=\"88.3516\" id=\"E3\" style=\"stroke: #383838; stroke-width: 1.5;\" width=\"70\" x=\"187\" y=\"148\"/><text fill=\"#000000\" font-family=\"sans-serif\" font-size=\"12\" font-style=\"italic\" lengthAdjust=\"spacingAndGlyphs\" textLength=\"68\" x=\"188\" y=\"164.1387\">«part  def»</text><text fill=\"#000000\" font-family=\"sans-serif\" font-size=\"12\" lengthAdjust=\"spacingAndGlyphs\" textLength=\"8\" x=\"218\" y=\"178.1074\">A</text><line style=\"stroke: #383838; stroke-width: 1.5;\" x1=\"188\" x2=\"256\" y1=\"185.9375\" y2=\"185.9375\"/><text fill=\"#000000\" font-family=\"sans-serif\" font-size=\"11\" lengthAdjust=\"spacingAndGlyphs\" textLength=\"6\" x=\"193\" y=\"216.9526\">x</text><text fill=\"#000000\" font-family=\"sans-serif\" font-size=\"11\" lengthAdjust=\"spacingAndGlyphs\" textLength=\"44\" x=\"193\" y=\"229.7573\">y:&gt; A::x</text><line style=\"stroke: #383838; stroke-width: 1.0;\" x1=\"188\" x2=\"194.5\" y1=\"200.3398\" y2=\"200.3398\"/><text fill=\"#000000\" font-family=\"sans-serif\" font-size=\"11\" lengthAdjust=\"spacingAndGlyphs\" textLength=\"55\" x=\"194.5\" y=\"203.6479\">attributes</text><line style=\"stroke: #383838; stroke-width: 1.0;\" x1=\"249.5\" x2=\"256\" y1=\"200.3398\" y2=\"200.3398\"/></a><!--MD5=[ebbe1d658d1005bcc118a6aa81145e00]\n",
       "class E4--><a href=\"psysml:23a90af0-4107-4bf0-84ea-ac7115753c4e\" target=\"_top\" title=\"psysml:23a90af0-4107-4bf0-84ea-ac7115753c4e\" xlink:actuate=\"onRequest\" xlink:href=\"psysml:23a90af0-4107-4bf0-84ea-ac7115753c4e\" xlink:show=\"new\" xlink:title=\"psysml:23a90af0-4107-4bf0-84ea-ac7115753c4e\" xlink:type=\"simple\"><rect fill=\"#FFFFFF\" height=\"45.9375\" id=\"E4\" rx=\"10\" ry=\"10\" style=\"stroke: #383838; stroke-width: 1.5;\" width=\"42\" x=\"323\" y=\"373\"/><text fill=\"#000000\" font-family=\"sans-serif\" font-size=\"12\" font-style=\"italic\" lengthAdjust=\"spacingAndGlyphs\" textLength=\"40\" x=\"324\" y=\"389.1387\">«part»</text><text fill=\"#000000\" font-family=\"sans-serif\" font-size=\"12\" lengthAdjust=\"spacingAndGlyphs\" textLength=\"24\" x=\"330\" y=\"403.1074\">b: B</text><line style=\"stroke: #383838; stroke-width: 1.5;\" x1=\"324\" x2=\"364\" y1=\"410.9375\" y2=\"410.9375\"/></a><!--MD5=[270fce915f116d4de14055a7c1d9a0f3]\n",
       "class E5--><a href=\"psysml:3bde4e3d-0323-4342-8ecc-6f2c3dab5224\" target=\"_top\" title=\"psysml:3bde4e3d-0323-4342-8ecc-6f2c3dab5224\" xlink:actuate=\"onRequest\" xlink:href=\"psysml:3bde4e3d-0323-4342-8ecc-6f2c3dab5224\" xlink:show=\"new\" xlink:title=\"psysml:3bde4e3d-0323-4342-8ecc-6f2c3dab5224\" xlink:type=\"simple\"><rect fill=\"#FFFFFF\" height=\"45.9375\" id=\"E5\" rx=\"10\" ry=\"10\" style=\"stroke: #383838; stroke-width: 1.5;\" width=\"42\" x=\"306\" y=\"297\"/><text fill=\"#000000\" font-family=\"sans-serif\" font-size=\"12\" font-style=\"italic\" lengthAdjust=\"spacingAndGlyphs\" textLength=\"40\" x=\"307\" y=\"313.1387\">«port»</text><text fill=\"#000000\" font-family=\"sans-serif\" font-size=\"12\" lengthAdjust=\"spacingAndGlyphs\" textLength=\"23\" x=\"313.5\" y=\"327.1074\">c: C</text><line style=\"stroke: #383838; stroke-width: 1.5;\" x1=\"307\" x2=\"347\" y1=\"334.9375\" y2=\"334.9375\"/></a><!--MD5=[60a26617385b1d2d0262a64233df1f8d]\n",
       "class E6--><a href=\"psysml:c17c630d-59e9-4f7e-a520-276041a9c800\" target=\"_top\" title=\"psysml:c17c630d-59e9-4f7e-a520-276041a9c800\" xlink:actuate=\"onRequest\" xlink:href=\"psysml:c17c630d-59e9-4f7e-a520-276041a9c800\" xlink:show=\"new\" xlink:title=\"psysml:c17c630d-59e9-4f7e-a520-276041a9c800\" xlink:type=\"simple\"><rect fill=\"#FFFFFF\" height=\"45.9375\" id=\"E6\" style=\"stroke: #383838; stroke-width: 1.5;\" width=\"70\" x=\"190\" y=\"572\"/><text fill=\"#000000\" font-family=\"sans-serif\" font-size=\"12\" font-style=\"italic\" lengthAdjust=\"spacingAndGlyphs\" textLength=\"68\" x=\"191\" y=\"588.1387\">«part  def»</text><text fill=\"#000000\" font-family=\"sans-serif\" font-size=\"12\" font-style=\"italic\" lengthAdjust=\"spacingAndGlyphs\" textLength=\"8\" x=\"221\" y=\"602.1074\">B</text><line style=\"stroke: #383838; stroke-width: 1.5;\" x1=\"191\" x2=\"259\" y1=\"609.9375\" y2=\"609.9375\"/></a><!--MD5=[2156ba9850f5573cc1fc38a6a4b2f02b]\n",
       "class E7--><a href=\"psysml:4ea01713-b83a-4578-95eb-e0c0377cf261\" target=\"_top\" title=\"psysml:4ea01713-b83a-4578-95eb-e0c0377cf261\" xlink:actuate=\"onRequest\" xlink:href=\"psysml:4ea01713-b83a-4578-95eb-e0c0377cf261\" xlink:show=\"new\" xlink:title=\"psysml:4ea01713-b83a-4578-95eb-e0c0377cf261\" xlink:type=\"simple\"><rect fill=\"#FFFFFF\" height=\"45.9375\" id=\"E7\" rx=\"10\" ry=\"10\" style=\"stroke: #383838; stroke-width: 1.5;\" width=\"42\" x=\"68\" y=\"682.5\"/><text fill=\"#000000\" font-family=\"sans-serif\" font-size=\"12\" font-style=\"italic\" lengthAdjust=\"spacingAndGlyphs\" textLength=\"40\" x=\"69\" y=\"698.6387\">«part»</text><text fill=\"#000000\" font-family=\"sans-serif\" font-size=\"12\" font-style=\"italic\" lengthAdjust=\"spacingAndGlyphs\" textLength=\"8\" x=\"75\" y=\"712.6074\">a</text><text fill=\"#000000\" font-family=\"sans-serif\" font-size=\"12\" lengthAdjust=\"spacingAndGlyphs\" textLength=\"16\" x=\"83\" y=\"712.6074\">: A</text><line style=\"stroke: #383838; stroke-width: 1.5;\" x1=\"69\" x2=\"109\" y1=\"720.4375\" y2=\"720.4375\"/></a><!--MD5=[b9389687b975829384b498ac4b7476b2]\n",
       "class E8--><a href=\"psysml:c9f90055-486d-4326-9691-bfe47f710c68\" target=\"_top\" title=\"psysml:c9f90055-486d-4326-9691-bfe47f710c68\" xlink:actuate=\"onRequest\" xlink:href=\"psysml:c9f90055-486d-4326-9691-bfe47f710c68\" xlink:show=\"new\" xlink:title=\"psysml:c9f90055-486d-4326-9691-bfe47f710c68\" xlink:type=\"simple\"><rect fill=\"#FFFFFF\" height=\"45.9375\" id=\"E8\" rx=\"10\" ry=\"10\" style=\"stroke: #383838; stroke-width: 1.5;\" width=\"42\" x=\"228\" y=\"682.5\"/><text fill=\"#000000\" font-family=\"sans-serif\" font-size=\"12\" font-style=\"italic\" lengthAdjust=\"spacingAndGlyphs\" textLength=\"40\" x=\"229\" y=\"698.6387\">«port»</text><text fill=\"#000000\" font-family=\"sans-serif\" font-size=\"12\" lengthAdjust=\"spacingAndGlyphs\" textLength=\"32\" x=\"231\" y=\"712.6074\">x: ~C</text><line style=\"stroke: #383838; stroke-width: 1.5;\" x1=\"229\" x2=\"269\" y1=\"720.4375\" y2=\"720.4375\"/></a><!--MD5=[96f4274e9e20536e775497830990834d]\n",
       "class E10--><a href=\"psysml:e209a1f3-de72-4850-a45f-7036acf7c094\" target=\"_top\" title=\"psysml:e209a1f3-de72-4850-a45f-7036acf7c094\" xlink:actuate=\"onRequest\" xlink:href=\"psysml:e209a1f3-de72-4850-a45f-7036acf7c094\" xlink:show=\"new\" xlink:title=\"psysml:e209a1f3-de72-4850-a45f-7036acf7c094\" xlink:type=\"simple\"><rect fill=\"#FFFFFF\" height=\"45.9375\" id=\"E10\" style=\"stroke: #383838; stroke-width: 1.5;\" width=\"70\" x=\"190\" y=\"449\"/><text fill=\"#000000\" font-family=\"sans-serif\" font-size=\"12\" font-style=\"italic\" lengthAdjust=\"spacingAndGlyphs\" textLength=\"68\" x=\"191\" y=\"465.1387\">«port  def»</text><text fill=\"#000000\" font-family=\"sans-serif\" font-size=\"12\" lengthAdjust=\"spacingAndGlyphs\" textLength=\"8\" x=\"221\" y=\"479.1074\">C</text><line style=\"stroke: #383838; stroke-width: 1.5;\" x1=\"191\" x2=\"259\" y1=\"486.9375\" y2=\"486.9375\"/></a><a href=\"psysml:78dea323-2f70-496c-aa91-db5f05f12a10\" target=\"_top\" title=\"psysml:78dea323-2f70-496c-aa91-db5f05f12a10\" xlink:actuate=\"onRequest\" xlink:href=\"psysml:78dea323-2f70-496c-aa91-db5f05f12a10\" xlink:show=\"new\" xlink:title=\"psysml:78dea323-2f70-496c-aa91-db5f05f12a10\" xlink:type=\"simple\"><polygon fill=\"#FFFFFF\" points=\"163.5,679,178.5,679,185.5,701.2969,192.5,701.2969,192.5,731.5938,163.5,731.5938,163.5,679\" style=\"stroke: #000000; stroke-width: 1.5;\"/><line style=\"stroke: #000000; stroke-width: 1.5;\" x1=\"163.5\" x2=\"185.5\" y1=\"701.2969\" y2=\"701.2969\"/><text fill=\"#000000\" font-family=\"sans-serif\" font-size=\"14\" font-weight=\"bold\" lengthAdjust=\"spacingAndGlyphs\" textLength=\"9\" x=\"167.5\" y=\"693.9951\">P</text></a><!--MD5=[2720a5a1f2c3fca2055b230370638851]\n",
       "link E2 to E3--><a href=\"psysml:de99b855-827b-4779-9c99-7b4326eef43f\" target=\"_top\" title=\"psysml:de99b855-827b-4779-9c99-7b4326eef43f\" xlink:actuate=\"onRequest\" xlink:href=\"psysml:de99b855-827b-4779-9c99-7b4326eef43f\" xlink:show=\"new\" xlink:title=\"psysml:de99b855-827b-4779-9c99-7b4326eef43f\" xlink:type=\"simple\"><path d=\"M222,87.18 C222,87.18 222,127.76 222,127.76 \" fill=\"none\" id=\"E2-&gt;E3\" style=\"stroke: #383838; stroke-width: 1.0;\"/><polygon fill=\"#FFFFFF\" points=\"222,147.76,215,128.76,229,128.76,222,147.76\" style=\"stroke: #383838; stroke-width: 1.0;\"/><ellipse cx=\"217\" cy=\"123.06\" fill=\"#383838\" rx=\"2\" ry=\"2\" style=\"stroke: #383838; stroke-width: 1.0;\"/><ellipse cx=\"227\" cy=\"123.06\" fill=\"#383838\" rx=\"2\" ry=\"2\" style=\"stroke: #383838; stroke-width: 1.0;\"/></a><!--MD5=[4672eba38e49728da53d11aeb285b987]\n",
       "reverse link E3 to E4--><a href=\"psysml:7d143534-3389-4013-881e-42b16664757f\" target=\"_top\" title=\"psysml:7d143534-3389-4013-881e-42b16664757f\" xlink:actuate=\"onRequest\" xlink:href=\"psysml:7d143534-3389-4013-881e-42b16664757f\" xlink:show=\"new\" xlink:title=\"psysml:7d143534-3389-4013-881e-42b16664757f\" xlink:type=\"simple\"><path d=\"M234.67,249.01 C234.67,249.01 234.67,396 234.67,396 C234.67,396 291.15,396 322.92,396 \" fill=\"none\" id=\"E3&lt;-E4\" style=\"stroke: #383838; stroke-width: 1.0;\"/><polygon fill=\"#383838\" points=\"234.67,236.01,230.67,242.01,234.67,248.01,238.67,242.01,234.67,236.01\" style=\"stroke: #383838; stroke-width: 1.0;\"/><text fill=\"#000000\" font-family=\"sans-serif\" font-size=\"13\" lengthAdjust=\"spacingAndGlyphs\" textLength=\"8\" x=\"306.9258\" y=\"390.7074\">1</text></a><!--MD5=[191cde3d490a3f6d7bb551fe3ddca469]\n",
       "reverse link E3 to E5--><a href=\"psysml:01061be5-5fdc-439c-afe5-881fb8746c83\" target=\"_top\" title=\"psysml:01061be5-5fdc-439c-afe5-881fb8746c83\" xlink:actuate=\"onRequest\" xlink:href=\"psysml:01061be5-5fdc-439c-afe5-881fb8746c83\" xlink:show=\"new\" xlink:title=\"psysml:01061be5-5fdc-439c-afe5-881fb8746c83\" xlink:type=\"simple\"><path d=\"M245.83,249.05 C245.83,249.05 245.83,320 245.83,320 C245.83,320 281.63,320 305.67,320 \" fill=\"none\" id=\"E3&lt;-E5\" style=\"stroke: #383838; stroke-width: 1.0;\"/><polygon fill=\"#FFFFFF\" points=\"245.83,236.05,241.83,242.05,245.83,248.05,249.83,242.05,245.83,236.05\" style=\"stroke: #383838; stroke-width: 1.0;\"/><text fill=\"#000000\" font-family=\"sans-serif\" font-size=\"13\" lengthAdjust=\"spacingAndGlyphs\" textLength=\"8\" x=\"289.9127\" y=\"314.7999\">1</text></a><!--MD5=[79568f1e445c3877b6a54524624ccc7d]\n",
       "link E4 to E6--><a href=\"psysml:8d11eaae-af32-434c-8c3d-32f92418f4c8\" target=\"_top\" title=\"psysml:8d11eaae-af32-434c-8c3d-32f92418f4c8\" xlink:actuate=\"onRequest\" xlink:href=\"psysml:8d11eaae-af32-434c-8c3d-32f92418f4c8\" xlink:show=\"new\" xlink:title=\"psysml:8d11eaae-af32-434c-8c3d-32f92418f4c8\" xlink:type=\"simple\"><path d=\"M344,419.22 C344,471.71 344,595 344,595 C344,595 280.06,595 280.06,595 \" fill=\"none\" id=\"E4-&gt;E6\" style=\"stroke: #383838; stroke-width: 1.0;\"/><polygon fill=\"#FFFFFF\" points=\"260.06,595,279.06,588,279.06,602,260.06,595\" style=\"stroke: #383838; stroke-width: 1.0;\"/><ellipse cx=\"284.76\" cy=\"590\" fill=\"#383838\" rx=\"2\" ry=\"2\" style=\"stroke: #383838; stroke-width: 1.0;\"/><ellipse cx=\"284.76\" cy=\"600\" fill=\"#383838\" rx=\"2\" ry=\"2\" style=\"stroke: #383838; stroke-width: 1.0;\"/></a><!--MD5=[3f50a3473f1dfb74d3f76443e03635af]\n",
       "reverse link E6 to E7--><a href=\"psysml:7466bf8a-1e84-4b05-9901-ce46ee446fa5\" target=\"_top\" title=\"psysml:7466bf8a-1e84-4b05-9901-ce46ee446fa5\" xlink:actuate=\"onRequest\" xlink:href=\"psysml:7466bf8a-1e84-4b05-9901-ce46ee446fa5\" xlink:show=\"new\" xlink:title=\"psysml:7466bf8a-1e84-4b05-9901-ce46ee446fa5\" xlink:type=\"simple\"><path d=\"M176.75,588 C176.75,588 96,588 96,588 C96,588 96,648.04 96,682.29 \" fill=\"none\" id=\"E6&lt;-E7\" style=\"stroke: #383838; stroke-width: 1.0;\"/><polygon fill=\"#383838\" points=\"189.75,588,183.75,584,177.75,588,183.75,592,189.75,588\" style=\"stroke: #383838; stroke-width: 1.0;\"/><text fill=\"#000000\" font-family=\"sans-serif\" font-size=\"13\" lengthAdjust=\"spacingAndGlyphs\" textLength=\"8\" x=\"88.7688\" y=\"671.5125\">1</text></a><!--MD5=[14ccda38c055a5c0da953d572bc50960]\n",
       "link E7 to E3--><a href=\"psysml:3c280f0c-0d5e-48e6-b009-cbd7db9e9beb\" target=\"_top\" title=\"psysml:3c280f0c-0d5e-48e6-b009-cbd7db9e9beb\" xlink:actuate=\"onRequest\" xlink:href=\"psysml:3c280f0c-0d5e-48e6-b009-cbd7db9e9beb\" xlink:show=\"new\" xlink:title=\"psysml:3c280f0c-0d5e-48e6-b009-cbd7db9e9beb\" xlink:type=\"simple\"><path d=\"M82,682.44 C82,582.52 82,192 82,192 C82,192 166.67,192 166.67,192 \" fill=\"none\" id=\"E7-&gt;E3\" style=\"stroke: #383838; stroke-width: 1.0;\"/><polygon fill=\"#FFFFFF\" points=\"186.67,192,167.67,199,167.67,185,186.67,192\" style=\"stroke: #383838; stroke-width: 1.0;\"/><ellipse cx=\"161.97\" cy=\"197\" fill=\"#383838\" rx=\"2\" ry=\"2\" style=\"stroke: #383838; stroke-width: 1.0;\"/><ellipse cx=\"161.97\" cy=\"187\" fill=\"#383838\" rx=\"2\" ry=\"2\" style=\"stroke: #383838; stroke-width: 1.0;\"/></a><!--MD5=[f4cf0736d43fd73c4ef68817c49d37d5]\n",
       "reverse link E6 to E8--><a href=\"psysml:dcb35f57-14cb-4e2c-8543-9245438ead5d\" target=\"_top\" title=\"psysml:dcb35f57-14cb-4e2c-8543-9245438ead5d\" xlink:actuate=\"onRequest\" xlink:href=\"psysml:dcb35f57-14cb-4e2c-8543-9245438ead5d\" xlink:show=\"new\" xlink:title=\"psysml:dcb35f57-14cb-4e2c-8543-9245438ead5d\" xlink:type=\"simple\"><path d=\"M244,631.16 C244,631.16 244,682.37 244,682.37 \" fill=\"none\" id=\"E6&lt;-E8\" style=\"stroke: #383838; stroke-width: 1.0;\"/><polygon fill=\"#FFFFFF\" points=\"244,618.16,240,624.16,244,630.16,248,624.16,244,618.16\" style=\"stroke: #383838; stroke-width: 1.0;\"/><text fill=\"#000000\" font-family=\"sans-serif\" font-size=\"13\" lengthAdjust=\"spacingAndGlyphs\" textLength=\"8\" x=\"233.6938\" y=\"671.613\">1</text></a><!--MD5=[e88d06e5a652d73a6b19930eefe025a8]\n",
       "reverse link E6 to E9--><a href=\"psysml:08766104-19a0-4aca-bf35-b4c81b8c6dcb\" target=\"_top\" title=\"psysml:08766104-19a0-4aca-bf35-b4c81b8c6dcb\" xlink:actuate=\"onRequest\" xlink:href=\"psysml:08766104-19a0-4aca-bf35-b4c81b8c6dcb\" xlink:show=\"new\" xlink:title=\"psysml:08766104-19a0-4aca-bf35-b4c81b8c6dcb\" xlink:type=\"simple\"><path d=\"M176.72,603 C176.72,603 175.25,603 175.25,603 C175.25,603 175.25,648.47 175.25,678.84 \" fill=\"none\" id=\"E6&lt;-E9\" style=\"stroke: #383838; stroke-width: 1.0;\"/><ellipse cx=\"181.91\" cy=\"603\" fill=\"#FFFFFF\" rx=\"8\" ry=\"8\" style=\"stroke: #383838; stroke-width: 1.0;\"/><line style=\"stroke: #383838; stroke-width: 1.0;\" x1=\"173.91\" x2=\"189.91\" y1=\"603\" y2=\"603\"/><line style=\"stroke: #383838; stroke-width: 1.0;\" x1=\"181.91\" x2=\"181.91\" y1=\"595\" y2=\"611\"/></a><!--MD5=[f78a29d5932556fa1060671a2a6507d8]\n",
       "link E5 to E10--><a href=\"psysml:568ef262-b92a-4cba-8a4b-19f4a197db7e\" target=\"_top\" title=\"psysml:568ef262-b92a-4cba-8a4b-19f4a197db7e\" xlink:actuate=\"onRequest\" xlink:href=\"psysml:568ef262-b92a-4cba-8a4b-19f4a197db7e\" xlink:show=\"new\" xlink:title=\"psysml:568ef262-b92a-4cba-8a4b-19f4a197db7e\" xlink:type=\"simple\"><path d=\"M314.5,343.09 C314.5,385.61 314.5,472 314.5,472 C314.5,472 280.12,472 280.12,472 \" fill=\"none\" id=\"E5-&gt;E10\" style=\"stroke: #383838; stroke-width: 1.0;\"/><polygon fill=\"#FFFFFF\" points=\"260.12,472,279.12,465,279.12,479,260.12,472\" style=\"stroke: #383838; stroke-width: 1.0;\"/><ellipse cx=\"284.82\" cy=\"467\" fill=\"#383838\" rx=\"2\" ry=\"2\" style=\"stroke: #383838; stroke-width: 1.0;\"/><ellipse cx=\"284.82\" cy=\"477\" fill=\"#383838\" rx=\"2\" ry=\"2\" style=\"stroke: #383838; stroke-width: 1.0;\"/></a><!--MD5=[8e04057e7b3cbc0dca4fc78ea351e2da]\n",
       "reverse link E10 to E3--><a href=\"psysml:f2bac2b1-68d1-4631-bf1f-fa6cff2f703f\" target=\"_top\" title=\"psysml:f2bac2b1-68d1-4631-bf1f-fa6cff2f703f\" xlink:actuate=\"onRequest\" xlink:href=\"psysml:f2bac2b1-68d1-4631-bf1f-fa6cff2f703f\" xlink:show=\"new\" xlink:title=\"psysml:f2bac2b1-68d1-4631-bf1f-fa6cff2f703f\" xlink:type=\"simple\"><path d=\"M201.17,435.61 C201.17,435.61 201.17,236.17 201.17,236.17 \" fill=\"none\" id=\"E10&lt;-E3\" style=\"stroke: #383838; stroke-width: 1.0;\"/><polygon fill=\"#FFFFFF\" points=\"201.17,448.61,205.17,442.61,201.17,436.61,197.17,442.61,201.17,448.61\" style=\"stroke: #383838; stroke-width: 1.0;\"/><text fill=\"#000000\" font-family=\"sans-serif\" font-size=\"13\" lengthAdjust=\"spacingAndGlyphs\" textLength=\"7\" x=\"105\" y=\"324.5669\">y</text></a><!--MD5=[8e04057e7b3cbc0dca4fc78ea351e2da]\n",
       "reverse link E10 to E3--><a href=\"psysml:f2bac2b1-68d1-4631-bf1f-fa6cff2f703f\" target=\"_top\" title=\"psysml:f2bac2b1-68d1-4631-bf1f-fa6cff2f703f\" xlink:actuate=\"onRequest\" xlink:href=\"psysml:f2bac2b1-68d1-4631-bf1f-fa6cff2f703f\" xlink:show=\"new\" xlink:title=\"psysml:f2bac2b1-68d1-4631-bf1f-fa6cff2f703f\" xlink:type=\"simple\"><path d=\"M212.33,435.61 C212.33,435.61 212.33,236.17 212.33,236.17 \" fill=\"none\" id=\"E10&lt;-E3-1\" style=\"stroke: #383838; stroke-width: 1.0;\"/><polygon fill=\"#FFFFFF\" points=\"212.33,448.61,216.33,442.61,212.33,436.61,208.33,442.61,212.33,448.61\" style=\"stroke: #383838; stroke-width: 1.0;\"/><text fill=\"#000000\" font-family=\"sans-serif\" font-size=\"13\" lengthAdjust=\"spacingAndGlyphs\" textLength=\"7\" x=\"184\" y=\"324.5669\">y</text></a><!--MD5=[8e04057e7b3cbc0dca4fc78ea351e2da]\n",
       "reverse link E10 to E3--><a href=\"psysml:f2bac2b1-68d1-4631-bf1f-fa6cff2f703f\" target=\"_top\" title=\"psysml:f2bac2b1-68d1-4631-bf1f-fa6cff2f703f\" xlink:actuate=\"onRequest\" xlink:href=\"psysml:f2bac2b1-68d1-4631-bf1f-fa6cff2f703f\" xlink:show=\"new\" xlink:title=\"psysml:f2bac2b1-68d1-4631-bf1f-fa6cff2f703f\" xlink:type=\"simple\"><path d=\"M223.5,435.61 C223.5,435.61 223.5,236.17 223.5,236.17 \" fill=\"none\" id=\"E10&lt;-E3-2\" style=\"stroke: #383838; stroke-width: 1.0;\"/><polygon fill=\"#FFFFFF\" points=\"223.5,448.61,227.5,442.61,223.5,436.61,219.5,442.61,223.5,448.61\" style=\"stroke: #383838; stroke-width: 1.0;\"/><text fill=\"#000000\" font-family=\"sans-serif\" font-size=\"13\" lengthAdjust=\"spacingAndGlyphs\" textLength=\"7\" x=\"263\" y=\"324.5669\">y</text></a><!--MD5=[604cbf994c02b74b117f728a71673cea]\n",
       "reverse link E10 to E6--><a href=\"psysml:f2bac2b1-68d1-4631-bf1f-fa6cff2f703f\" target=\"_top\" title=\"psysml:f2bac2b1-68d1-4631-bf1f-fa6cff2f703f\" xlink:actuate=\"onRequest\" xlink:href=\"psysml:f2bac2b1-68d1-4631-bf1f-fa6cff2f703f\" xlink:show=\"new\" xlink:title=\"psysml:f2bac2b1-68d1-4631-bf1f-fa6cff2f703f\" xlink:type=\"simple\"><path d=\"M207.5,508.14 C207.5,508.14 207.5,571.97 207.5,571.97 \" fill=\"none\" id=\"E10&lt;-E6\" style=\"stroke: #383838; stroke-width: 1.0;\"/><polygon fill=\"#FFFFFF\" points=\"207.5,495.14,203.5,501.14,207.5,507.14,211.5,501.14,207.5,495.14\" style=\"stroke: #383838; stroke-width: 1.0;\"/><text fill=\"#000000\" font-family=\"sans-serif\" font-size=\"13\" lengthAdjust=\"spacingAndGlyphs\" textLength=\"7\" x=\"275\" y=\"538.0669\">y</text></a><!--MD5=[604cbf994c02b74b117f728a71673cea]\n",
       "reverse link E10 to E6--><a href=\"psysml:f2bac2b1-68d1-4631-bf1f-fa6cff2f703f\" target=\"_top\" title=\"psysml:f2bac2b1-68d1-4631-bf1f-fa6cff2f703f\" xlink:actuate=\"onRequest\" xlink:href=\"psysml:f2bac2b1-68d1-4631-bf1f-fa6cff2f703f\" xlink:show=\"new\" xlink:title=\"psysml:f2bac2b1-68d1-4631-bf1f-fa6cff2f703f\" xlink:type=\"simple\"><path d=\"M225,508.14 C225,508.14 225,571.97 225,571.97 \" fill=\"none\" id=\"E10&lt;-E6-1\" style=\"stroke: #383838; stroke-width: 1.0;\"/><polygon fill=\"#FFFFFF\" points=\"225,495.14,221,501.14,225,507.14,229,501.14,225,495.14\" style=\"stroke: #383838; stroke-width: 1.0;\"/><text fill=\"#000000\" font-family=\"sans-serif\" font-size=\"13\" lengthAdjust=\"spacingAndGlyphs\" textLength=\"7\" x=\"177\" y=\"538.0669\">y</text></a><!--MD5=[604cbf994c02b74b117f728a71673cea]\n",
       "reverse link E10 to E6--><a href=\"psysml:f2bac2b1-68d1-4631-bf1f-fa6cff2f703f\" target=\"_top\" title=\"psysml:f2bac2b1-68d1-4631-bf1f-fa6cff2f703f\" xlink:actuate=\"onRequest\" xlink:href=\"psysml:f2bac2b1-68d1-4631-bf1f-fa6cff2f703f\" xlink:show=\"new\" xlink:title=\"psysml:f2bac2b1-68d1-4631-bf1f-fa6cff2f703f\" xlink:type=\"simple\"><path d=\"M242.5,508.14 C242.5,508.14 242.5,571.97 242.5,571.97 \" fill=\"none\" id=\"E10&lt;-E6-2\" style=\"stroke: #383838; stroke-width: 1.0;\"/><polygon fill=\"#FFFFFF\" points=\"242.5,495.14,238.5,501.14,242.5,507.14,246.5,501.14,242.5,495.14\" style=\"stroke: #383838; stroke-width: 1.0;\"/><text fill=\"#000000\" font-family=\"sans-serif\" font-size=\"13\" lengthAdjust=\"spacingAndGlyphs\" textLength=\"7\" x=\"226\" y=\"538.0669\">y</text></a><!--MD5=[df5970a5f495309e3a7f9b81c767d023]\n",
       "@startuml\r\n",
       "skinparam linetype ortho\r\n",
       "skinparam monochrome true\r\n",
       "skinparam classbackgroundcolor white\r\n",
       "skinparam shadowing false\r\n",
       "skinparam wrapWidth 300\r\n",
       "hide circle\r\n",
       "\r\n",
       "package \"PartTest\" as E1  [[psysml:c38775ed-c195-45a3-878f-69446059ff99 ]]  {\r\n",
       "comp usage \"f: A \" as E2  <<(T,blue) part>> [[psysml:133b9857-5562-4f09-a022-80109f8d4a7d ]] {\r\n",
       "}\r\n",
       "comp def \"A\" as E3  <<(T,blue) part  def>> [[psysml:41a43e73-47d4-427d-aa17-f57a90b2778c ]] {\r\n",
       "- - attributes - -\r\n",
       "x\r\n",
       "y:> A::x\r\n",
       "}\r\n",
       "comp usage \"b: B \" as E4  <<(T,blue) part>> [[psysml:23a90af0-4107-4bf0-84ea-ac7115753c4e ]] {\r\n",
       "}\r\n",
       "comp usage \"c: C \" as E5  <<(T,blue) port>> [[psysml:3bde4e3d-0323-4342-8ecc-6f2c3dab5224 ]] {\r\n",
       "}\r\n",
       "comp def \"<i>B</i>\" as E6  <<(T,blue) part  def>> [[psysml:c17c630d-59e9-4f7e-a520-276041a9c800 ]] {\r\n",
       "}\r\n",
       "comp usage \"<i>a</i>: A \" as E7  <<(T,blue) part>> [[psysml:4ea01713-b83a-4578-95eb-e0c0377cf261 ]] {\r\n",
       "}\r\n",
       "comp usage \"x: ~C \" as E8  <<(T,blue) port>> [[psysml:c9f90055-486d-4326-9691-bfe47f710c68 ]] {\r\n",
       "}\r\n",
       "package \"P\" as E9  [[psysml:78dea323-2f70-496c-aa91-db5f05f12a10 ]]  {\r\n",
       "}\r\n",
       "comp def \"C\" as E10  <<(T,blue) port  def>> [[psysml:e209a1f3-de72-4850-a45f-7036acf7c094 ]] {\r\n",
       "}\r\n",
       "}\r\n",
       "E2 - -:|> E3 [[psysml:de99b855-827b-4779-9c99-7b4326eef43f ]] \r\n",
       "E3 *- - \"1\"E4 [[psysml:7d143534-3389-4013-881e-42b16664757f ]] \r\n",
       "E3 o- - \"1\"E5 [[psysml:01061be5-5fdc-439c-afe5-881fb8746c83 ]] \r\n",
       "E4 - -:|> E6 [[psysml:8d11eaae-af32-434c-8c3d-32f92418f4c8 ]] \r\n",
       "E6 *- - \"1\"E7 [[psysml:7466bf8a-1e84-4b05-9901-ce46ee446fa5 ]] \r\n",
       "E7 - -:|> E3 [[psysml:3c280f0c-0d5e-48e6-b009-cbd7db9e9beb ]] \r\n",
       "E6 o- - \"1\"E8 [[psysml:dcb35f57-14cb-4e2c-8543-9245438ead5d ]] \r\n",
       "E6 +- - E9 [[psysml:08766104-19a0-4aca-bf35-b4c81b8c6dcb ]] \r\n",
       "E5 - -:|> E10 [[psysml:568ef262-b92a-4cba-8a4b-19f4a197db7e ]] \r\n",
       "E10 o- - E3 [[psysml:f2bac2b1-68d1-4631-bf1f-fa6cff2f703f ]] : y\r\n",
       "E10 o- - E6 [[psysml:f2bac2b1-68d1-4631-bf1f-fa6cff2f703f ]] : y\r\n",
       "E10 o- - E3 [[psysml:f2bac2b1-68d1-4631-bf1f-fa6cff2f703f ]] : y\r\n",
       "E10 o- - E6 [[psysml:f2bac2b1-68d1-4631-bf1f-fa6cff2f703f ]] : y\r\n",
       "E10 o- - E3 [[psysml:f2bac2b1-68d1-4631-bf1f-fa6cff2f703f ]] : y\r\n",
       "E10 o- - E6 [[psysml:f2bac2b1-68d1-4631-bf1f-fa6cff2f703f ]] : y\r\n",
       "@enduml\r\n",
       "\n",
       "PlantUML version 1.2020.13(Sat Jun 13 12:26:38 UTC 2020)\n",
       "(EPL source distribution)\n",
       "Java Runtime: OpenJDK Runtime Environment\n",
       "JVM: OpenJDK 64-Bit Server VM\n",
       "Default Encoding: UTF-8\n",
       "Language: en\n",
       "Country: null\n",
       "--></g></svg>"
      ]
     },
     "execution_count": 51,
     "metadata": {},
     "output_type": "execute_result"
    }
   ],
   "source": [
    "%viz --style=\"ORTHOLINE\" --view=\"Default\" \"PartTest\""
   ]
  },
  {
   "cell_type": "code",
   "execution_count": 52,
   "id": "f11e6e58",
   "metadata": {
    "execution": {
     "iopub.execute_input": "2022-02-05T16:55:46.516946Z",
     "iopub.status.busy": "2022-02-05T16:55:46.516541Z",
     "iopub.status.idle": "2022-02-05T16:55:46.563470Z",
     "shell.execute_reply": "2022-02-05T16:55:46.561926Z"
    }
   },
   "outputs": [
    {
     "data": {
      "image/svg+xml": [
       "<?xml version=\"1.0\" encoding=\"UTF-8\" standalone=\"no\"?><svg xmlns=\"http://www.w3.org/2000/svg\" xmlns:xlink=\"http://www.w3.org/1999/xlink\" contentScriptType=\"application/ecmascript\" contentStyleType=\"text/css\" height=\"760px\" preserveAspectRatio=\"none\" style=\"width:423px;height:760px;\" version=\"1.1\" viewBox=\"0 0 423 760\" width=\"423px\" zoomAndPan=\"magnify\"><defs/><g><!--MD5=[fbc87193dbaf4d95561dea2c320d4a47]\n",
       "cluster E1--><a href=\"psysml:c38775ed-c195-45a3-878f-69446059ff99\" target=\"_top\" title=\"psysml:c38775ed-c195-45a3-878f-69446059ff99\" xlink:actuate=\"onRequest\" xlink:href=\"psysml:c38775ed-c195-45a3-878f-69446059ff99\" xlink:show=\"new\" xlink:title=\"psysml:c38775ed-c195-45a3-878f-69446059ff99\" xlink:type=\"simple\"><polygon fill=\"#FFFFFF\" points=\"16,6,80,6,87,28.2969,401,28.2969,401,748,16,748,16,6\" style=\"stroke: #000000; stroke-width: 1.5;\"/><line style=\"stroke: #000000; stroke-width: 1.5;\" x1=\"16\" x2=\"87\" y1=\"28.2969\" y2=\"28.2969\"/><text fill=\"#000000\" font-family=\"sans-serif\" font-size=\"14\" font-weight=\"bold\" lengthAdjust=\"spacingAndGlyphs\" textLength=\"58\" x=\"20\" y=\"20.9951\">PartTest</text></a><!--MD5=[b4997ac47864f28c2f74865a473b2911]\n",
       "class E2--><a href=\"psysml:133b9857-5562-4f09-a022-80109f8d4a7d\" target=\"_top\" title=\"psysml:133b9857-5562-4f09-a022-80109f8d4a7d\" xlink:actuate=\"onRequest\" xlink:href=\"psysml:133b9857-5562-4f09-a022-80109f8d4a7d\" xlink:show=\"new\" xlink:title=\"psysml:133b9857-5562-4f09-a022-80109f8d4a7d\" xlink:type=\"simple\"><rect fill=\"#FFFFFF\" height=\"45.9375\" id=\"E2\" rx=\"10\" ry=\"10\" style=\"stroke: #383838; stroke-width: 1.5;\" width=\"42\" x=\"201\" y=\"41\"/><text fill=\"#000000\" font-family=\"sans-serif\" font-size=\"12\" font-style=\"italic\" lengthAdjust=\"spacingAndGlyphs\" textLength=\"40\" x=\"202\" y=\"57.1387\">«part»</text><text fill=\"#000000\" font-family=\"sans-serif\" font-size=\"12\" lengthAdjust=\"spacingAndGlyphs\" textLength=\"20\" x=\"210\" y=\"71.1074\">f: A</text><line style=\"stroke: #383838; stroke-width: 1.5;\" x1=\"202\" x2=\"242\" y1=\"78.9375\" y2=\"78.9375\"/></a><!--MD5=[09b614a08d8cba4a07c9adeb5e0fee81]\n",
       "class E3--><a href=\"psysml:41a43e73-47d4-427d-aa17-f57a90b2778c\" target=\"_top\" title=\"psysml:41a43e73-47d4-427d-aa17-f57a90b2778c\" xlink:actuate=\"onRequest\" xlink:href=\"psysml:41a43e73-47d4-427d-aa17-f57a90b2778c\" xlink:show=\"new\" xlink:title=\"psysml:41a43e73-47d4-427d-aa17-f57a90b2778c\" xlink:type=\"simple\"><rect fill=\"#FFFFFF\" height=\"88.3516\" id=\"E3\" style=\"stroke: #383838; stroke-width: 1.5;\" width=\"70\" x=\"187\" y=\"148\"/><text fill=\"#000000\" font-family=\"sans-serif\" font-size=\"12\" font-style=\"italic\" lengthAdjust=\"spacingAndGlyphs\" textLength=\"68\" x=\"188\" y=\"164.1387\">«part  def»</text><text fill=\"#000000\" font-family=\"sans-serif\" font-size=\"12\" lengthAdjust=\"spacingAndGlyphs\" textLength=\"8\" x=\"218\" y=\"178.1074\">A</text><line style=\"stroke: #383838; stroke-width: 1.5;\" x1=\"188\" x2=\"256\" y1=\"185.9375\" y2=\"185.9375\"/><text fill=\"#000000\" font-family=\"sans-serif\" font-size=\"11\" lengthAdjust=\"spacingAndGlyphs\" textLength=\"6\" x=\"193\" y=\"216.9526\">x</text><text fill=\"#000000\" font-family=\"sans-serif\" font-size=\"11\" lengthAdjust=\"spacingAndGlyphs\" textLength=\"44\" x=\"193\" y=\"229.7573\">y:&gt; A::x</text><line style=\"stroke: #383838; stroke-width: 1.0;\" x1=\"188\" x2=\"194.5\" y1=\"200.3398\" y2=\"200.3398\"/><text fill=\"#000000\" font-family=\"sans-serif\" font-size=\"11\" lengthAdjust=\"spacingAndGlyphs\" textLength=\"55\" x=\"194.5\" y=\"203.6479\">attributes</text><line style=\"stroke: #383838; stroke-width: 1.0;\" x1=\"249.5\" x2=\"256\" y1=\"200.3398\" y2=\"200.3398\"/></a><!--MD5=[ebbe1d658d1005bcc118a6aa81145e00]\n",
       "class E4--><a href=\"psysml:23a90af0-4107-4bf0-84ea-ac7115753c4e\" target=\"_top\" title=\"psysml:23a90af0-4107-4bf0-84ea-ac7115753c4e\" xlink:actuate=\"onRequest\" xlink:href=\"psysml:23a90af0-4107-4bf0-84ea-ac7115753c4e\" xlink:show=\"new\" xlink:title=\"psysml:23a90af0-4107-4bf0-84ea-ac7115753c4e\" xlink:type=\"simple\"><rect fill=\"#FFFFFF\" height=\"45.9375\" id=\"E4\" rx=\"10\" ry=\"10\" style=\"stroke: #383838; stroke-width: 1.5;\" width=\"42\" x=\"323\" y=\"373\"/><text fill=\"#000000\" font-family=\"sans-serif\" font-size=\"12\" font-style=\"italic\" lengthAdjust=\"spacingAndGlyphs\" textLength=\"40\" x=\"324\" y=\"389.1387\">«part»</text><text fill=\"#000000\" font-family=\"sans-serif\" font-size=\"12\" lengthAdjust=\"spacingAndGlyphs\" textLength=\"24\" x=\"330\" y=\"403.1074\">b: B</text><line style=\"stroke: #383838; stroke-width: 1.5;\" x1=\"324\" x2=\"364\" y1=\"410.9375\" y2=\"410.9375\"/></a><!--MD5=[270fce915f116d4de14055a7c1d9a0f3]\n",
       "class E5--><a href=\"psysml:3bde4e3d-0323-4342-8ecc-6f2c3dab5224\" target=\"_top\" title=\"psysml:3bde4e3d-0323-4342-8ecc-6f2c3dab5224\" xlink:actuate=\"onRequest\" xlink:href=\"psysml:3bde4e3d-0323-4342-8ecc-6f2c3dab5224\" xlink:show=\"new\" xlink:title=\"psysml:3bde4e3d-0323-4342-8ecc-6f2c3dab5224\" xlink:type=\"simple\"><rect fill=\"#FFFFFF\" height=\"45.9375\" id=\"E5\" rx=\"10\" ry=\"10\" style=\"stroke: #383838; stroke-width: 1.5;\" width=\"42\" x=\"306\" y=\"297\"/><text fill=\"#000000\" font-family=\"sans-serif\" font-size=\"12\" font-style=\"italic\" lengthAdjust=\"spacingAndGlyphs\" textLength=\"40\" x=\"307\" y=\"313.1387\">«port»</text><text fill=\"#000000\" font-family=\"sans-serif\" font-size=\"12\" lengthAdjust=\"spacingAndGlyphs\" textLength=\"23\" x=\"313.5\" y=\"327.1074\">c: C</text><line style=\"stroke: #383838; stroke-width: 1.5;\" x1=\"307\" x2=\"347\" y1=\"334.9375\" y2=\"334.9375\"/></a><!--MD5=[60a26617385b1d2d0262a64233df1f8d]\n",
       "class E6--><a href=\"psysml:c17c630d-59e9-4f7e-a520-276041a9c800\" target=\"_top\" title=\"psysml:c17c630d-59e9-4f7e-a520-276041a9c800\" xlink:actuate=\"onRequest\" xlink:href=\"psysml:c17c630d-59e9-4f7e-a520-276041a9c800\" xlink:show=\"new\" xlink:title=\"psysml:c17c630d-59e9-4f7e-a520-276041a9c800\" xlink:type=\"simple\"><rect fill=\"#FFFFFF\" height=\"45.9375\" id=\"E6\" style=\"stroke: #383838; stroke-width: 1.5;\" width=\"70\" x=\"190\" y=\"572\"/><text fill=\"#000000\" font-family=\"sans-serif\" font-size=\"12\" font-style=\"italic\" lengthAdjust=\"spacingAndGlyphs\" textLength=\"68\" x=\"191\" y=\"588.1387\">«part  def»</text><text fill=\"#000000\" font-family=\"sans-serif\" font-size=\"12\" font-style=\"italic\" lengthAdjust=\"spacingAndGlyphs\" textLength=\"8\" x=\"221\" y=\"602.1074\">B</text><line style=\"stroke: #383838; stroke-width: 1.5;\" x1=\"191\" x2=\"259\" y1=\"609.9375\" y2=\"609.9375\"/></a><!--MD5=[2156ba9850f5573cc1fc38a6a4b2f02b]\n",
       "class E7--><a href=\"psysml:4ea01713-b83a-4578-95eb-e0c0377cf261\" target=\"_top\" title=\"psysml:4ea01713-b83a-4578-95eb-e0c0377cf261\" xlink:actuate=\"onRequest\" xlink:href=\"psysml:4ea01713-b83a-4578-95eb-e0c0377cf261\" xlink:show=\"new\" xlink:title=\"psysml:4ea01713-b83a-4578-95eb-e0c0377cf261\" xlink:type=\"simple\"><rect fill=\"#FFFFFF\" height=\"45.9375\" id=\"E7\" rx=\"10\" ry=\"10\" style=\"stroke: #383838; stroke-width: 1.5;\" width=\"42\" x=\"68\" y=\"682.5\"/><text fill=\"#000000\" font-family=\"sans-serif\" font-size=\"12\" font-style=\"italic\" lengthAdjust=\"spacingAndGlyphs\" textLength=\"40\" x=\"69\" y=\"698.6387\">«part»</text><text fill=\"#000000\" font-family=\"sans-serif\" font-size=\"12\" font-style=\"italic\" lengthAdjust=\"spacingAndGlyphs\" textLength=\"8\" x=\"75\" y=\"712.6074\">a</text><text fill=\"#000000\" font-family=\"sans-serif\" font-size=\"12\" lengthAdjust=\"spacingAndGlyphs\" textLength=\"16\" x=\"83\" y=\"712.6074\">: A</text><line style=\"stroke: #383838; stroke-width: 1.5;\" x1=\"69\" x2=\"109\" y1=\"720.4375\" y2=\"720.4375\"/></a><!--MD5=[b9389687b975829384b498ac4b7476b2]\n",
       "class E8--><a href=\"psysml:c9f90055-486d-4326-9691-bfe47f710c68\" target=\"_top\" title=\"psysml:c9f90055-486d-4326-9691-bfe47f710c68\" xlink:actuate=\"onRequest\" xlink:href=\"psysml:c9f90055-486d-4326-9691-bfe47f710c68\" xlink:show=\"new\" xlink:title=\"psysml:c9f90055-486d-4326-9691-bfe47f710c68\" xlink:type=\"simple\"><rect fill=\"#FFFFFF\" height=\"45.9375\" id=\"E8\" rx=\"10\" ry=\"10\" style=\"stroke: #383838; stroke-width: 1.5;\" width=\"42\" x=\"228\" y=\"682.5\"/><text fill=\"#000000\" font-family=\"sans-serif\" font-size=\"12\" font-style=\"italic\" lengthAdjust=\"spacingAndGlyphs\" textLength=\"40\" x=\"229\" y=\"698.6387\">«port»</text><text fill=\"#000000\" font-family=\"sans-serif\" font-size=\"12\" lengthAdjust=\"spacingAndGlyphs\" textLength=\"32\" x=\"231\" y=\"712.6074\">x: ~C</text><line style=\"stroke: #383838; stroke-width: 1.5;\" x1=\"229\" x2=\"269\" y1=\"720.4375\" y2=\"720.4375\"/></a><!--MD5=[96f4274e9e20536e775497830990834d]\n",
       "class E10--><a href=\"psysml:e209a1f3-de72-4850-a45f-7036acf7c094\" target=\"_top\" title=\"psysml:e209a1f3-de72-4850-a45f-7036acf7c094\" xlink:actuate=\"onRequest\" xlink:href=\"psysml:e209a1f3-de72-4850-a45f-7036acf7c094\" xlink:show=\"new\" xlink:title=\"psysml:e209a1f3-de72-4850-a45f-7036acf7c094\" xlink:type=\"simple\"><rect fill=\"#FFFFFF\" height=\"45.9375\" id=\"E10\" style=\"stroke: #383838; stroke-width: 1.5;\" width=\"70\" x=\"190\" y=\"449\"/><text fill=\"#000000\" font-family=\"sans-serif\" font-size=\"12\" font-style=\"italic\" lengthAdjust=\"spacingAndGlyphs\" textLength=\"68\" x=\"191\" y=\"465.1387\">«port  def»</text><text fill=\"#000000\" font-family=\"sans-serif\" font-size=\"12\" lengthAdjust=\"spacingAndGlyphs\" textLength=\"8\" x=\"221\" y=\"479.1074\">C</text><line style=\"stroke: #383838; stroke-width: 1.5;\" x1=\"191\" x2=\"259\" y1=\"486.9375\" y2=\"486.9375\"/></a><a href=\"psysml:78dea323-2f70-496c-aa91-db5f05f12a10\" target=\"_top\" title=\"psysml:78dea323-2f70-496c-aa91-db5f05f12a10\" xlink:actuate=\"onRequest\" xlink:href=\"psysml:78dea323-2f70-496c-aa91-db5f05f12a10\" xlink:show=\"new\" xlink:title=\"psysml:78dea323-2f70-496c-aa91-db5f05f12a10\" xlink:type=\"simple\"><polygon fill=\"#FFFFFF\" points=\"163.5,679,178.5,679,185.5,701.2969,192.5,701.2969,192.5,731.5938,163.5,731.5938,163.5,679\" style=\"stroke: #000000; stroke-width: 1.5;\"/><line style=\"stroke: #000000; stroke-width: 1.5;\" x1=\"163.5\" x2=\"185.5\" y1=\"701.2969\" y2=\"701.2969\"/><text fill=\"#000000\" font-family=\"sans-serif\" font-size=\"14\" font-weight=\"bold\" lengthAdjust=\"spacingAndGlyphs\" textLength=\"9\" x=\"167.5\" y=\"693.9951\">P</text></a><!--MD5=[2720a5a1f2c3fca2055b230370638851]\n",
       "link E2 to E3--><a href=\"psysml:de99b855-827b-4779-9c99-7b4326eef43f\" target=\"_top\" title=\"psysml:de99b855-827b-4779-9c99-7b4326eef43f\" xlink:actuate=\"onRequest\" xlink:href=\"psysml:de99b855-827b-4779-9c99-7b4326eef43f\" xlink:show=\"new\" xlink:title=\"psysml:de99b855-827b-4779-9c99-7b4326eef43f\" xlink:type=\"simple\"><path d=\"M222,87.18 C222,87.18 222,127.76 222,127.76 \" fill=\"none\" id=\"E2-&gt;E3\" style=\"stroke: #383838; stroke-width: 1.0;\"/><polygon fill=\"#FFFFFF\" points=\"222,147.76,215,128.76,229,128.76,222,147.76\" style=\"stroke: #383838; stroke-width: 1.0;\"/><ellipse cx=\"217\" cy=\"123.06\" fill=\"#383838\" rx=\"2\" ry=\"2\" style=\"stroke: #383838; stroke-width: 1.0;\"/><ellipse cx=\"227\" cy=\"123.06\" fill=\"#383838\" rx=\"2\" ry=\"2\" style=\"stroke: #383838; stroke-width: 1.0;\"/></a><!--MD5=[4672eba38e49728da53d11aeb285b987]\n",
       "reverse link E3 to E4--><a href=\"psysml:7d143534-3389-4013-881e-42b16664757f\" target=\"_top\" title=\"psysml:7d143534-3389-4013-881e-42b16664757f\" xlink:actuate=\"onRequest\" xlink:href=\"psysml:7d143534-3389-4013-881e-42b16664757f\" xlink:show=\"new\" xlink:title=\"psysml:7d143534-3389-4013-881e-42b16664757f\" xlink:type=\"simple\"><path d=\"M234.67,249.01 C234.67,249.01 234.67,396 234.67,396 C234.67,396 291.15,396 322.92,396 \" fill=\"none\" id=\"E3&lt;-E4\" style=\"stroke: #383838; stroke-width: 1.0;\"/><polygon fill=\"#383838\" points=\"234.67,236.01,230.67,242.01,234.67,248.01,238.67,242.01,234.67,236.01\" style=\"stroke: #383838; stroke-width: 1.0;\"/><text fill=\"#000000\" font-family=\"sans-serif\" font-size=\"13\" lengthAdjust=\"spacingAndGlyphs\" textLength=\"8\" x=\"306.9258\" y=\"390.7074\">1</text></a><!--MD5=[191cde3d490a3f6d7bb551fe3ddca469]\n",
       "reverse link E3 to E5--><a href=\"psysml:01061be5-5fdc-439c-afe5-881fb8746c83\" target=\"_top\" title=\"psysml:01061be5-5fdc-439c-afe5-881fb8746c83\" xlink:actuate=\"onRequest\" xlink:href=\"psysml:01061be5-5fdc-439c-afe5-881fb8746c83\" xlink:show=\"new\" xlink:title=\"psysml:01061be5-5fdc-439c-afe5-881fb8746c83\" xlink:type=\"simple\"><path d=\"M245.83,249.05 C245.83,249.05 245.83,320 245.83,320 C245.83,320 281.63,320 305.67,320 \" fill=\"none\" id=\"E3&lt;-E5\" style=\"stroke: #383838; stroke-width: 1.0;\"/><polygon fill=\"#FFFFFF\" points=\"245.83,236.05,241.83,242.05,245.83,248.05,249.83,242.05,245.83,236.05\" style=\"stroke: #383838; stroke-width: 1.0;\"/><text fill=\"#000000\" font-family=\"sans-serif\" font-size=\"13\" lengthAdjust=\"spacingAndGlyphs\" textLength=\"8\" x=\"289.9127\" y=\"314.7999\">1</text></a><!--MD5=[79568f1e445c3877b6a54524624ccc7d]\n",
       "link E4 to E6--><a href=\"psysml:8d11eaae-af32-434c-8c3d-32f92418f4c8\" target=\"_top\" title=\"psysml:8d11eaae-af32-434c-8c3d-32f92418f4c8\" xlink:actuate=\"onRequest\" xlink:href=\"psysml:8d11eaae-af32-434c-8c3d-32f92418f4c8\" xlink:show=\"new\" xlink:title=\"psysml:8d11eaae-af32-434c-8c3d-32f92418f4c8\" xlink:type=\"simple\"><path d=\"M344,419.22 C344,471.71 344,595 344,595 C344,595 280.06,595 280.06,595 \" fill=\"none\" id=\"E4-&gt;E6\" style=\"stroke: #383838; stroke-width: 1.0;\"/><polygon fill=\"#FFFFFF\" points=\"260.06,595,279.06,588,279.06,602,260.06,595\" style=\"stroke: #383838; stroke-width: 1.0;\"/><ellipse cx=\"284.76\" cy=\"590\" fill=\"#383838\" rx=\"2\" ry=\"2\" style=\"stroke: #383838; stroke-width: 1.0;\"/><ellipse cx=\"284.76\" cy=\"600\" fill=\"#383838\" rx=\"2\" ry=\"2\" style=\"stroke: #383838; stroke-width: 1.0;\"/></a><!--MD5=[3f50a3473f1dfb74d3f76443e03635af]\n",
       "reverse link E6 to E7--><a href=\"psysml:7466bf8a-1e84-4b05-9901-ce46ee446fa5\" target=\"_top\" title=\"psysml:7466bf8a-1e84-4b05-9901-ce46ee446fa5\" xlink:actuate=\"onRequest\" xlink:href=\"psysml:7466bf8a-1e84-4b05-9901-ce46ee446fa5\" xlink:show=\"new\" xlink:title=\"psysml:7466bf8a-1e84-4b05-9901-ce46ee446fa5\" xlink:type=\"simple\"><path d=\"M176.75,588 C176.75,588 96,588 96,588 C96,588 96,648.04 96,682.29 \" fill=\"none\" id=\"E6&lt;-E7\" style=\"stroke: #383838; stroke-width: 1.0;\"/><polygon fill=\"#383838\" points=\"189.75,588,183.75,584,177.75,588,183.75,592,189.75,588\" style=\"stroke: #383838; stroke-width: 1.0;\"/><text fill=\"#000000\" font-family=\"sans-serif\" font-size=\"13\" lengthAdjust=\"spacingAndGlyphs\" textLength=\"8\" x=\"88.7688\" y=\"671.5125\">1</text></a><!--MD5=[14ccda38c055a5c0da953d572bc50960]\n",
       "link E7 to E3--><a href=\"psysml:3c280f0c-0d5e-48e6-b009-cbd7db9e9beb\" target=\"_top\" title=\"psysml:3c280f0c-0d5e-48e6-b009-cbd7db9e9beb\" xlink:actuate=\"onRequest\" xlink:href=\"psysml:3c280f0c-0d5e-48e6-b009-cbd7db9e9beb\" xlink:show=\"new\" xlink:title=\"psysml:3c280f0c-0d5e-48e6-b009-cbd7db9e9beb\" xlink:type=\"simple\"><path d=\"M82,682.44 C82,582.52 82,192 82,192 C82,192 166.67,192 166.67,192 \" fill=\"none\" id=\"E7-&gt;E3\" style=\"stroke: #383838; stroke-width: 1.0;\"/><polygon fill=\"#FFFFFF\" points=\"186.67,192,167.67,199,167.67,185,186.67,192\" style=\"stroke: #383838; stroke-width: 1.0;\"/><ellipse cx=\"161.97\" cy=\"197\" fill=\"#383838\" rx=\"2\" ry=\"2\" style=\"stroke: #383838; stroke-width: 1.0;\"/><ellipse cx=\"161.97\" cy=\"187\" fill=\"#383838\" rx=\"2\" ry=\"2\" style=\"stroke: #383838; stroke-width: 1.0;\"/></a><!--MD5=[f4cf0736d43fd73c4ef68817c49d37d5]\n",
       "reverse link E6 to E8--><a href=\"psysml:dcb35f57-14cb-4e2c-8543-9245438ead5d\" target=\"_top\" title=\"psysml:dcb35f57-14cb-4e2c-8543-9245438ead5d\" xlink:actuate=\"onRequest\" xlink:href=\"psysml:dcb35f57-14cb-4e2c-8543-9245438ead5d\" xlink:show=\"new\" xlink:title=\"psysml:dcb35f57-14cb-4e2c-8543-9245438ead5d\" xlink:type=\"simple\"><path d=\"M244,631.16 C244,631.16 244,682.37 244,682.37 \" fill=\"none\" id=\"E6&lt;-E8\" style=\"stroke: #383838; stroke-width: 1.0;\"/><polygon fill=\"#FFFFFF\" points=\"244,618.16,240,624.16,244,630.16,248,624.16,244,618.16\" style=\"stroke: #383838; stroke-width: 1.0;\"/><text fill=\"#000000\" font-family=\"sans-serif\" font-size=\"13\" lengthAdjust=\"spacingAndGlyphs\" textLength=\"8\" x=\"233.6938\" y=\"671.613\">1</text></a><!--MD5=[e88d06e5a652d73a6b19930eefe025a8]\n",
       "reverse link E6 to E9--><a href=\"psysml:08766104-19a0-4aca-bf35-b4c81b8c6dcb\" target=\"_top\" title=\"psysml:08766104-19a0-4aca-bf35-b4c81b8c6dcb\" xlink:actuate=\"onRequest\" xlink:href=\"psysml:08766104-19a0-4aca-bf35-b4c81b8c6dcb\" xlink:show=\"new\" xlink:title=\"psysml:08766104-19a0-4aca-bf35-b4c81b8c6dcb\" xlink:type=\"simple\"><path d=\"M176.72,603 C176.72,603 175.25,603 175.25,603 C175.25,603 175.25,648.47 175.25,678.84 \" fill=\"none\" id=\"E6&lt;-E9\" style=\"stroke: #383838; stroke-width: 1.0;\"/><ellipse cx=\"181.91\" cy=\"603\" fill=\"#FFFFFF\" rx=\"8\" ry=\"8\" style=\"stroke: #383838; stroke-width: 1.0;\"/><line style=\"stroke: #383838; stroke-width: 1.0;\" x1=\"173.91\" x2=\"189.91\" y1=\"603\" y2=\"603\"/><line style=\"stroke: #383838; stroke-width: 1.0;\" x1=\"181.91\" x2=\"181.91\" y1=\"595\" y2=\"611\"/></a><!--MD5=[f78a29d5932556fa1060671a2a6507d8]\n",
       "link E5 to E10--><a href=\"psysml:568ef262-b92a-4cba-8a4b-19f4a197db7e\" target=\"_top\" title=\"psysml:568ef262-b92a-4cba-8a4b-19f4a197db7e\" xlink:actuate=\"onRequest\" xlink:href=\"psysml:568ef262-b92a-4cba-8a4b-19f4a197db7e\" xlink:show=\"new\" xlink:title=\"psysml:568ef262-b92a-4cba-8a4b-19f4a197db7e\" xlink:type=\"simple\"><path d=\"M314.5,343.09 C314.5,385.61 314.5,472 314.5,472 C314.5,472 280.12,472 280.12,472 \" fill=\"none\" id=\"E5-&gt;E10\" style=\"stroke: #383838; stroke-width: 1.0;\"/><polygon fill=\"#FFFFFF\" points=\"260.12,472,279.12,465,279.12,479,260.12,472\" style=\"stroke: #383838; stroke-width: 1.0;\"/><ellipse cx=\"284.82\" cy=\"467\" fill=\"#383838\" rx=\"2\" ry=\"2\" style=\"stroke: #383838; stroke-width: 1.0;\"/><ellipse cx=\"284.82\" cy=\"477\" fill=\"#383838\" rx=\"2\" ry=\"2\" style=\"stroke: #383838; stroke-width: 1.0;\"/></a><!--MD5=[8e04057e7b3cbc0dca4fc78ea351e2da]\n",
       "reverse link E10 to E3--><a href=\"psysml:f2bac2b1-68d1-4631-bf1f-fa6cff2f703f\" target=\"_top\" title=\"psysml:f2bac2b1-68d1-4631-bf1f-fa6cff2f703f\" xlink:actuate=\"onRequest\" xlink:href=\"psysml:f2bac2b1-68d1-4631-bf1f-fa6cff2f703f\" xlink:show=\"new\" xlink:title=\"psysml:f2bac2b1-68d1-4631-bf1f-fa6cff2f703f\" xlink:type=\"simple\"><path d=\"M201.17,435.61 C201.17,435.61 201.17,236.17 201.17,236.17 \" fill=\"none\" id=\"E10&lt;-E3\" style=\"stroke: #383838; stroke-width: 1.0;\"/><polygon fill=\"#FFFFFF\" points=\"201.17,448.61,205.17,442.61,201.17,436.61,197.17,442.61,201.17,448.61\" style=\"stroke: #383838; stroke-width: 1.0;\"/><text fill=\"#000000\" font-family=\"sans-serif\" font-size=\"13\" lengthAdjust=\"spacingAndGlyphs\" textLength=\"7\" x=\"105\" y=\"324.5669\">y</text></a><!--MD5=[8e04057e7b3cbc0dca4fc78ea351e2da]\n",
       "reverse link E10 to E3--><a href=\"psysml:f2bac2b1-68d1-4631-bf1f-fa6cff2f703f\" target=\"_top\" title=\"psysml:f2bac2b1-68d1-4631-bf1f-fa6cff2f703f\" xlink:actuate=\"onRequest\" xlink:href=\"psysml:f2bac2b1-68d1-4631-bf1f-fa6cff2f703f\" xlink:show=\"new\" xlink:title=\"psysml:f2bac2b1-68d1-4631-bf1f-fa6cff2f703f\" xlink:type=\"simple\"><path d=\"M212.33,435.61 C212.33,435.61 212.33,236.17 212.33,236.17 \" fill=\"none\" id=\"E10&lt;-E3-1\" style=\"stroke: #383838; stroke-width: 1.0;\"/><polygon fill=\"#FFFFFF\" points=\"212.33,448.61,216.33,442.61,212.33,436.61,208.33,442.61,212.33,448.61\" style=\"stroke: #383838; stroke-width: 1.0;\"/><text fill=\"#000000\" font-family=\"sans-serif\" font-size=\"13\" lengthAdjust=\"spacingAndGlyphs\" textLength=\"7\" x=\"184\" y=\"324.5669\">y</text></a><!--MD5=[8e04057e7b3cbc0dca4fc78ea351e2da]\n",
       "reverse link E10 to E3--><a href=\"psysml:f2bac2b1-68d1-4631-bf1f-fa6cff2f703f\" target=\"_top\" title=\"psysml:f2bac2b1-68d1-4631-bf1f-fa6cff2f703f\" xlink:actuate=\"onRequest\" xlink:href=\"psysml:f2bac2b1-68d1-4631-bf1f-fa6cff2f703f\" xlink:show=\"new\" xlink:title=\"psysml:f2bac2b1-68d1-4631-bf1f-fa6cff2f703f\" xlink:type=\"simple\"><path d=\"M223.5,435.61 C223.5,435.61 223.5,236.17 223.5,236.17 \" fill=\"none\" id=\"E10&lt;-E3-2\" style=\"stroke: #383838; stroke-width: 1.0;\"/><polygon fill=\"#FFFFFF\" points=\"223.5,448.61,227.5,442.61,223.5,436.61,219.5,442.61,223.5,448.61\" style=\"stroke: #383838; stroke-width: 1.0;\"/><text fill=\"#000000\" font-family=\"sans-serif\" font-size=\"13\" lengthAdjust=\"spacingAndGlyphs\" textLength=\"7\" x=\"263\" y=\"324.5669\">y</text></a><!--MD5=[604cbf994c02b74b117f728a71673cea]\n",
       "reverse link E10 to E6--><a href=\"psysml:f2bac2b1-68d1-4631-bf1f-fa6cff2f703f\" target=\"_top\" title=\"psysml:f2bac2b1-68d1-4631-bf1f-fa6cff2f703f\" xlink:actuate=\"onRequest\" xlink:href=\"psysml:f2bac2b1-68d1-4631-bf1f-fa6cff2f703f\" xlink:show=\"new\" xlink:title=\"psysml:f2bac2b1-68d1-4631-bf1f-fa6cff2f703f\" xlink:type=\"simple\"><path d=\"M207.5,508.14 C207.5,508.14 207.5,571.97 207.5,571.97 \" fill=\"none\" id=\"E10&lt;-E6\" style=\"stroke: #383838; stroke-width: 1.0;\"/><polygon fill=\"#FFFFFF\" points=\"207.5,495.14,203.5,501.14,207.5,507.14,211.5,501.14,207.5,495.14\" style=\"stroke: #383838; stroke-width: 1.0;\"/><text fill=\"#000000\" font-family=\"sans-serif\" font-size=\"13\" lengthAdjust=\"spacingAndGlyphs\" textLength=\"7\" x=\"275\" y=\"538.0669\">y</text></a><!--MD5=[604cbf994c02b74b117f728a71673cea]\n",
       "reverse link E10 to E6--><a href=\"psysml:f2bac2b1-68d1-4631-bf1f-fa6cff2f703f\" target=\"_top\" title=\"psysml:f2bac2b1-68d1-4631-bf1f-fa6cff2f703f\" xlink:actuate=\"onRequest\" xlink:href=\"psysml:f2bac2b1-68d1-4631-bf1f-fa6cff2f703f\" xlink:show=\"new\" xlink:title=\"psysml:f2bac2b1-68d1-4631-bf1f-fa6cff2f703f\" xlink:type=\"simple\"><path d=\"M225,508.14 C225,508.14 225,571.97 225,571.97 \" fill=\"none\" id=\"E10&lt;-E6-1\" style=\"stroke: #383838; stroke-width: 1.0;\"/><polygon fill=\"#FFFFFF\" points=\"225,495.14,221,501.14,225,507.14,229,501.14,225,495.14\" style=\"stroke: #383838; stroke-width: 1.0;\"/><text fill=\"#000000\" font-family=\"sans-serif\" font-size=\"13\" lengthAdjust=\"spacingAndGlyphs\" textLength=\"7\" x=\"177\" y=\"538.0669\">y</text></a><!--MD5=[604cbf994c02b74b117f728a71673cea]\n",
       "reverse link E10 to E6--><a href=\"psysml:f2bac2b1-68d1-4631-bf1f-fa6cff2f703f\" target=\"_top\" title=\"psysml:f2bac2b1-68d1-4631-bf1f-fa6cff2f703f\" xlink:actuate=\"onRequest\" xlink:href=\"psysml:f2bac2b1-68d1-4631-bf1f-fa6cff2f703f\" xlink:show=\"new\" xlink:title=\"psysml:f2bac2b1-68d1-4631-bf1f-fa6cff2f703f\" xlink:type=\"simple\"><path d=\"M242.5,508.14 C242.5,508.14 242.5,571.97 242.5,571.97 \" fill=\"none\" id=\"E10&lt;-E6-2\" style=\"stroke: #383838; stroke-width: 1.0;\"/><polygon fill=\"#FFFFFF\" points=\"242.5,495.14,238.5,501.14,242.5,507.14,246.5,501.14,242.5,495.14\" style=\"stroke: #383838; stroke-width: 1.0;\"/><text fill=\"#000000\" font-family=\"sans-serif\" font-size=\"13\" lengthAdjust=\"spacingAndGlyphs\" textLength=\"7\" x=\"226\" y=\"538.0669\">y</text></a><!--MD5=[df5970a5f495309e3a7f9b81c767d023]\n",
       "@startuml\r\n",
       "skinparam linetype ortho\r\n",
       "skinparam monochrome true\r\n",
       "skinparam classbackgroundcolor white\r\n",
       "skinparam shadowing false\r\n",
       "skinparam wrapWidth 300\r\n",
       "hide circle\r\n",
       "\r\n",
       "package \"PartTest\" as E1  [[psysml:c38775ed-c195-45a3-878f-69446059ff99 ]]  {\r\n",
       "comp usage \"f: A \" as E2  <<(T,blue) part>> [[psysml:133b9857-5562-4f09-a022-80109f8d4a7d ]] {\r\n",
       "}\r\n",
       "comp def \"A\" as E3  <<(T,blue) part  def>> [[psysml:41a43e73-47d4-427d-aa17-f57a90b2778c ]] {\r\n",
       "- - attributes - -\r\n",
       "x\r\n",
       "y:> A::x\r\n",
       "}\r\n",
       "comp usage \"b: B \" as E4  <<(T,blue) part>> [[psysml:23a90af0-4107-4bf0-84ea-ac7115753c4e ]] {\r\n",
       "}\r\n",
       "comp usage \"c: C \" as E5  <<(T,blue) port>> [[psysml:3bde4e3d-0323-4342-8ecc-6f2c3dab5224 ]] {\r\n",
       "}\r\n",
       "comp def \"<i>B</i>\" as E6  <<(T,blue) part  def>> [[psysml:c17c630d-59e9-4f7e-a520-276041a9c800 ]] {\r\n",
       "}\r\n",
       "comp usage \"<i>a</i>: A \" as E7  <<(T,blue) part>> [[psysml:4ea01713-b83a-4578-95eb-e0c0377cf261 ]] {\r\n",
       "}\r\n",
       "comp usage \"x: ~C \" as E8  <<(T,blue) port>> [[psysml:c9f90055-486d-4326-9691-bfe47f710c68 ]] {\r\n",
       "}\r\n",
       "package \"P\" as E9  [[psysml:78dea323-2f70-496c-aa91-db5f05f12a10 ]]  {\r\n",
       "}\r\n",
       "comp def \"C\" as E10  <<(T,blue) port  def>> [[psysml:e209a1f3-de72-4850-a45f-7036acf7c094 ]] {\r\n",
       "}\r\n",
       "}\r\n",
       "E2 - -:|> E3 [[psysml:de99b855-827b-4779-9c99-7b4326eef43f ]] \r\n",
       "E3 *- - \"1\"E4 [[psysml:7d143534-3389-4013-881e-42b16664757f ]] \r\n",
       "E3 o- - \"1\"E5 [[psysml:01061be5-5fdc-439c-afe5-881fb8746c83 ]] \r\n",
       "E4 - -:|> E6 [[psysml:8d11eaae-af32-434c-8c3d-32f92418f4c8 ]] \r\n",
       "E6 *- - \"1\"E7 [[psysml:7466bf8a-1e84-4b05-9901-ce46ee446fa5 ]] \r\n",
       "E7 - -:|> E3 [[psysml:3c280f0c-0d5e-48e6-b009-cbd7db9e9beb ]] \r\n",
       "E6 o- - \"1\"E8 [[psysml:dcb35f57-14cb-4e2c-8543-9245438ead5d ]] \r\n",
       "E6 +- - E9 [[psysml:08766104-19a0-4aca-bf35-b4c81b8c6dcb ]] \r\n",
       "E5 - -:|> E10 [[psysml:568ef262-b92a-4cba-8a4b-19f4a197db7e ]] \r\n",
       "E10 o- - E3 [[psysml:f2bac2b1-68d1-4631-bf1f-fa6cff2f703f ]] : y\r\n",
       "E10 o- - E6 [[psysml:f2bac2b1-68d1-4631-bf1f-fa6cff2f703f ]] : y\r\n",
       "E10 o- - E3 [[psysml:f2bac2b1-68d1-4631-bf1f-fa6cff2f703f ]] : y\r\n",
       "E10 o- - E6 [[psysml:f2bac2b1-68d1-4631-bf1f-fa6cff2f703f ]] : y\r\n",
       "E10 o- - E3 [[psysml:f2bac2b1-68d1-4631-bf1f-fa6cff2f703f ]] : y\r\n",
       "E10 o- - E6 [[psysml:f2bac2b1-68d1-4631-bf1f-fa6cff2f703f ]] : y\r\n",
       "@enduml\r\n",
       "\n",
       "PlantUML version 1.2020.13(Sat Jun 13 12:26:38 UTC 2020)\n",
       "(EPL source distribution)\n",
       "Java Runtime: OpenJDK Runtime Environment\n",
       "JVM: OpenJDK 64-Bit Server VM\n",
       "Default Encoding: UTF-8\n",
       "Language: en\n",
       "Country: null\n",
       "--></g></svg>"
      ]
     },
     "execution_count": 52,
     "metadata": {},
     "output_type": "execute_result"
    }
   ],
   "source": [
    "%viz --style=\"ORTHOLINE\" --view=\"Tree\" \"PartTest\""
   ]
  },
  {
   "cell_type": "code",
   "execution_count": 53,
   "id": "abbeece4",
   "metadata": {
    "execution": {
     "iopub.execute_input": "2022-02-05T16:55:46.612401Z",
     "iopub.status.busy": "2022-02-05T16:55:46.611995Z",
     "iopub.status.idle": "2022-02-05T16:55:46.616445Z",
     "shell.execute_reply": "2022-02-05T16:55:46.616096Z"
    }
   },
   "outputs": [
    {
     "data": {
      "image/svg+xml": [
       "<?xml version=\"1.0\" encoding=\"UTF-8\" standalone=\"no\"?><svg xmlns=\"http://www.w3.org/2000/svg\" xmlns:xlink=\"http://www.w3.org/1999/xlink\" contentScriptType=\"application/ecmascript\" contentStyleType=\"text/css\" height=\"12px\" preserveAspectRatio=\"none\" style=\"width:12px;height:12px;\" version=\"1.1\" viewBox=\"0 0 12 12\" width=\"12px\" zoomAndPan=\"magnify\"><defs/><g><!--MD5=[97d6f38768b311333d388e66b2b27985]\n",
       "@startuml\r\n",
       "skinparam linetype ortho\r\n",
       "skinparam monochrome true\r\n",
       "skinparam classbackgroundcolor white\r\n",
       "skinparam shadowing false\r\n",
       "skinparam wrapWidth 300\r\n",
       "hide circle\r\n",
       "\r\n",
       "@enduml\r\n",
       "\n",
       "PlantUML version 1.2020.13(Sat Jun 13 12:26:38 UTC 2020)\n",
       "(EPL source distribution)\n",
       "Java Runtime: OpenJDK Runtime Environment\n",
       "JVM: OpenJDK 64-Bit Server VM\n",
       "Default Encoding: UTF-8\n",
       "Language: en\n",
       "Country: null\n",
       "--></g></svg>"
      ]
     },
     "execution_count": 53,
     "metadata": {},
     "output_type": "execute_result"
    }
   ],
   "source": [
    "%viz --style=\"ORTHOLINE\" --view=\"State\" \"PartTest\""
   ]
  },
  {
   "cell_type": "code",
   "execution_count": 54,
   "id": "5e56441e",
   "metadata": {
    "execution": {
     "iopub.execute_input": "2022-02-05T16:55:46.665870Z",
     "iopub.status.busy": "2022-02-05T16:55:46.665467Z",
     "iopub.status.idle": "2022-02-05T16:55:46.693847Z",
     "shell.execute_reply": "2022-02-05T16:55:46.692600Z"
    }
   },
   "outputs": [
    {
     "data": {
      "image/svg+xml": [
       "<?xml version=\"1.0\" encoding=\"UTF-8\" standalone=\"no\"?><svg xmlns=\"http://www.w3.org/2000/svg\" xmlns:xlink=\"http://www.w3.org/1999/xlink\" contentScriptType=\"application/ecmascript\" contentStyleType=\"text/css\" height=\"253px\" preserveAspectRatio=\"none\" style=\"width:685px;height:253px;\" version=\"1.1\" viewBox=\"0 0 685 253\" width=\"685px\" zoomAndPan=\"magnify\"><defs/><g><!--MD5=[fbc87193dbaf4d95561dea2c320d4a47]\n",
       "cluster E1--><a href=\"psysml:c38775ed-c195-45a3-878f-69446059ff99\" target=\"_top\" title=\"psysml:c38775ed-c195-45a3-878f-69446059ff99\" xlink:actuate=\"onRequest\" xlink:href=\"psysml:c38775ed-c195-45a3-878f-69446059ff99\" xlink:show=\"new\" xlink:title=\"psysml:c38775ed-c195-45a3-878f-69446059ff99\" xlink:type=\"simple\"><polygon fill=\"#FFFFFF\" points=\"16,6,80,6,87,28.2969,663,28.2969,663,241,16,241,16,6\" style=\"stroke: #000000; stroke-width: 1.5;\"/><line style=\"stroke: #000000; stroke-width: 1.5;\" x1=\"16\" x2=\"87\" y1=\"28.2969\" y2=\"28.2969\"/><text fill=\"#000000\" font-family=\"sans-serif\" font-size=\"14\" font-weight=\"bold\" lengthAdjust=\"spacingAndGlyphs\" textLength=\"58\" x=\"20\" y=\"20.9951\">PartTest</text></a><!--MD5=[d5e69f78d87373223dbae638b30a9c99]\n",
       "cluster E3--><a href=\"psysml:41a43e73-47d4-427d-aa17-f57a90b2778c\" target=\"_top\" title=\"psysml:41a43e73-47d4-427d-aa17-f57a90b2778c\" xlink:actuate=\"onRequest\" xlink:href=\"psysml:41a43e73-47d4-427d-aa17-f57a90b2778c\" xlink:show=\"new\" xlink:title=\"psysml:41a43e73-47d4-427d-aa17-f57a90b2778c\" xlink:type=\"simple\"><rect fill=\"#FFFFFF\" height=\"159\" id=\"E3\" style=\"stroke: #383838; stroke-width: 1.5;\" width=\"230\" x=\"417\" y=\"62.5\"/><rect fill=\"#F8F8F8\" height=\"37.9375\" style=\"stroke: #383838; stroke-width: 1.5;\" width=\"230\" x=\"417\" y=\"62.5\"/><text fill=\"#000000\" font-family=\"sans-serif\" font-size=\"12\" font-style=\"italic\" lengthAdjust=\"spacingAndGlyphs\" textLength=\"68\" x=\"498\" y=\"78.6387\">«part  def»</text><text fill=\"#000000\" font-family=\"sans-serif\" font-size=\"12\" lengthAdjust=\"spacingAndGlyphs\" textLength=\"8\" x=\"528\" y=\"92.6074\">A</text></a><!--MD5=[55dfccfc6c49c2d10cd1bd2211a6c90c]\n",
       "cluster E8--><a href=\"psysml:c17c630d-59e9-4f7e-a520-276041a9c800\" target=\"_top\" title=\"psysml:c17c630d-59e9-4f7e-a520-276041a9c800\" xlink:actuate=\"onRequest\" xlink:href=\"psysml:c17c630d-59e9-4f7e-a520-276041a9c800\" xlink:show=\"new\" xlink:title=\"psysml:c17c630d-59e9-4f7e-a520-276041a9c800\" xlink:type=\"simple\"><rect fill=\"#FFFFFF\" height=\"162.5\" id=\"E8\" style=\"stroke: #383838; stroke-width: 1.5;\" width=\"209\" x=\"200\" y=\"62.5\"/><rect fill=\"#F8F8F8\" height=\"37.9375\" style=\"stroke: #383838; stroke-width: 1.5;\" width=\"209\" x=\"200\" y=\"62.5\"/><text fill=\"#000000\" font-family=\"sans-serif\" font-size=\"12\" font-style=\"italic\" lengthAdjust=\"spacingAndGlyphs\" textLength=\"68\" x=\"270.5\" y=\"78.6387\">«part  def»</text><text fill=\"#000000\" font-family=\"sans-serif\" font-size=\"12\" font-style=\"italic\" lengthAdjust=\"spacingAndGlyphs\" textLength=\"8\" x=\"300.5\" y=\"92.6074\">B</text></a><g id=\"E1.E12\"><a href=\"psysml:e209a1f3-de72-4850-a45f-7036acf7c094\" target=\"_top\" title=\"psysml:e209a1f3-de72-4850-a45f-7036acf7c094\" xlink:actuate=\"onRequest\" xlink:href=\"psysml:e209a1f3-de72-4850-a45f-7036acf7c094\" xlink:show=\"new\" xlink:title=\"psysml:e209a1f3-de72-4850-a45f-7036acf7c094\" xlink:type=\"simple\"><rect fill=\"#FFFFFF\" height=\"42.9375\" id=\"E12\" style=\"stroke: #383838; stroke-width: 1.5;\" width=\"75\" x=\"117.5\" y=\"41\"/><rect fill=\"#F8F8F8\" height=\"37.9375\" style=\"stroke: #383838; stroke-width: 1.5;\" width=\"75\" x=\"117.5\" y=\"41\"/><text fill=\"#000000\" font-family=\"sans-serif\" font-size=\"12\" font-style=\"italic\" lengthAdjust=\"spacingAndGlyphs\" textLength=\"68\" x=\"121\" y=\"57.1387\">«port  def»</text><text fill=\"#000000\" font-family=\"sans-serif\" font-size=\"12\" lengthAdjust=\"spacingAndGlyphs\" textLength=\"8\" x=\"151\" y=\"71.1074\">C</text></a></g><g id=\"E1.E2\"><a href=\"psysml:133b9857-5562-4f09-a022-80109f8d4a7d\" target=\"_top\" title=\"psysml:133b9857-5562-4f09-a022-80109f8d4a7d\" xlink:actuate=\"onRequest\" xlink:href=\"psysml:133b9857-5562-4f09-a022-80109f8d4a7d\" xlink:show=\"new\" xlink:title=\"psysml:133b9857-5562-4f09-a022-80109f8d4a7d\" xlink:type=\"simple\"><rect fill=\"#FFFFFF\" height=\"40\" id=\"E2\" rx=\"10\" ry=\"10\" style=\"stroke: #383838; stroke-width: 1.5;\" width=\"50\" x=\"32\" y=\"42.5\"/><rect fill=\"#F8F8F8\" height=\"23.9688\" rx=\"10\" ry=\"10\" style=\"stroke: #F8F8F8; stroke-width: 1.5;\" width=\"50\" x=\"32\" y=\"42.5\"/><rect fill=\"#F8F8F8\" height=\"10\" style=\"stroke: #F8F8F8; stroke-width: 1.5;\" width=\"50\" x=\"32\" y=\"56.4688\"/><rect fill=\"none\" height=\"40\" id=\"E2\" rx=\"10\" ry=\"10\" style=\"stroke: #383838; stroke-width: 1.5;\" width=\"50\" x=\"32\" y=\"42.5\"/><text fill=\"#000000\" font-family=\"sans-serif\" font-size=\"12\" lengthAdjust=\"spacingAndGlyphs\" textLength=\"20\" x=\"47\" y=\"58.6387\">f: A</text></a></g><text fill=\"#000000\" font-family=\"sans-serif\" font-size=\"14\" lengthAdjust=\"spacingAndGlyphs\" textLength=\"27\" x=\"569.5\" y=\"41.1982\">c: C</text><rect fill=\"#383838\" height=\"12\" style=\"stroke: #F8F8F8; stroke-width: 1.5;\" width=\"12\" x=\"579\" y=\"56.5\"/><!--MD5=[60a26617385b1d2d0262a64233df1f8d]\n",
       "class E6--><a href=\"psysml:445f494e-a94c-4fdf-9cc7-f31ccfeaa97f\" target=\"_top\" title=\"psysml:445f494e-a94c-4fdf-9cc7-f31ccfeaa97f\" xlink:actuate=\"onRequest\" xlink:href=\"psysml:445f494e-a94c-4fdf-9cc7-f31ccfeaa97f\" xlink:show=\"new\" xlink:title=\"psysml:445f494e-a94c-4fdf-9cc7-f31ccfeaa97f\" xlink:type=\"simple\"><rect fill=\"#FFFFFF\" height=\"45.9375\" id=\"E6\" rx=\"10\" ry=\"10\" style=\"stroke: #383838; stroke-width: 1.5;\" width=\"71\" x=\"433.5\" y=\"159.5\"/><text fill=\"#000000\" font-family=\"sans-serif\" font-size=\"12\" font-style=\"italic\" lengthAdjust=\"spacingAndGlyphs\" textLength=\"69\" x=\"434.5\" y=\"175.6387\">«attribute»</text><text fill=\"#000000\" font-family=\"sans-serif\" font-size=\"12\" lengthAdjust=\"spacingAndGlyphs\" textLength=\"6\" x=\"464\" y=\"189.6074\">x</text><line style=\"stroke: #383838; stroke-width: 1.5;\" x1=\"434.5\" x2=\"503.5\" y1=\"197.4375\" y2=\"197.4375\"/></a><!--MD5=[2156ba9850f5573cc1fc38a6a4b2f02b]\n",
       "class E7--><a href=\"psysml:83189ed0-8892-41b6-b657-b7e16a6a2eeb\" target=\"_top\" title=\"psysml:83189ed0-8892-41b6-b657-b7e16a6a2eeb\" xlink:actuate=\"onRequest\" xlink:href=\"psysml:83189ed0-8892-41b6-b657-b7e16a6a2eeb\" xlink:show=\"new\" xlink:title=\"psysml:83189ed0-8892-41b6-b657-b7e16a6a2eeb\" xlink:type=\"simple\"><rect fill=\"#FFFFFF\" height=\"45.9375\" id=\"E7\" rx=\"10\" ry=\"10\" style=\"stroke: #383838; stroke-width: 1.5;\" width=\"71\" x=\"433.5\" y=\"100\"/><text fill=\"#000000\" font-family=\"sans-serif\" font-size=\"12\" font-style=\"italic\" lengthAdjust=\"spacingAndGlyphs\" textLength=\"69\" x=\"434.5\" y=\"116.1387\">«attribute»</text><text fill=\"#000000\" font-family=\"sans-serif\" font-size=\"12\" lengthAdjust=\"spacingAndGlyphs\" textLength=\"50\" x=\"444\" y=\"130.1074\">y :&gt; A::x</text><line style=\"stroke: #383838; stroke-width: 1.5;\" x1=\"434.5\" x2=\"503.5\" y1=\"137.9375\" y2=\"137.9375\"/></a><g id=\"E1.E3.E4\"><a href=\"psysml:23a90af0-4107-4bf0-84ea-ac7115753c4e\" target=\"_top\" title=\"psysml:23a90af0-4107-4bf0-84ea-ac7115753c4e\" xlink:actuate=\"onRequest\" xlink:href=\"psysml:23a90af0-4107-4bf0-84ea-ac7115753c4e\" xlink:show=\"new\" xlink:title=\"psysml:23a90af0-4107-4bf0-84ea-ac7115753c4e\" xlink:type=\"simple\"><rect fill=\"#FFFFFF\" height=\"40\" id=\"E4\" rx=\"10\" ry=\"10\" style=\"stroke: #383838; stroke-width: 1.5;\" width=\"50\" x=\"560\" y=\"162.5\"/><rect fill=\"#F8F8F8\" height=\"23.9688\" rx=\"10\" ry=\"10\" style=\"stroke: #F8F8F8; stroke-width: 1.5;\" width=\"50\" x=\"560\" y=\"162.5\"/><rect fill=\"#F8F8F8\" height=\"10\" style=\"stroke: #F8F8F8; stroke-width: 1.5;\" width=\"50\" x=\"560\" y=\"176.4688\"/><rect fill=\"none\" height=\"40\" id=\"E4\" rx=\"10\" ry=\"10\" style=\"stroke: #383838; stroke-width: 1.5;\" width=\"50\" x=\"560\" y=\"162.5\"/><text fill=\"#000000\" font-family=\"sans-serif\" font-size=\"12\" lengthAdjust=\"spacingAndGlyphs\" textLength=\"24\" x=\"573\" y=\"178.6387\">b: B</text></a></g><text fill=\"#000000\" font-family=\"sans-serif\" font-size=\"14\" lengthAdjust=\"spacingAndGlyphs\" textLength=\"38\" x=\"326\" y=\"41.1982\">x: ~C</text><rect fill=\"#383838\" height=\"12\" style=\"stroke: #F8F8F8; stroke-width: 1.5;\" width=\"12\" x=\"341\" y=\"56.5\"/><g id=\"E1.E8.E9\"><a href=\"psysml:4ea01713-b83a-4578-95eb-e0c0377cf261\" target=\"_top\" title=\"psysml:4ea01713-b83a-4578-95eb-e0c0377cf261\" xlink:actuate=\"onRequest\" xlink:href=\"psysml:4ea01713-b83a-4578-95eb-e0c0377cf261\" xlink:show=\"new\" xlink:title=\"psysml:4ea01713-b83a-4578-95eb-e0c0377cf261\" xlink:type=\"simple\"><rect fill=\"#FFFFFF\" height=\"40\" id=\"E9\" rx=\"10\" ry=\"10\" style=\"stroke: #383838; stroke-width: 1.5;\" width=\"50\" x=\"216\" y=\"103\"/><rect fill=\"#F8F8F8\" height=\"23.9688\" rx=\"10\" ry=\"10\" style=\"stroke: #F8F8F8; stroke-width: 1.5;\" width=\"50\" x=\"216\" y=\"103\"/><rect fill=\"#F8F8F8\" height=\"10\" style=\"stroke: #F8F8F8; stroke-width: 1.5;\" width=\"50\" x=\"216\" y=\"116.9688\"/><rect fill=\"none\" height=\"40\" id=\"E9\" rx=\"10\" ry=\"10\" style=\"stroke: #383838; stroke-width: 1.5;\" width=\"50\" x=\"216\" y=\"103\"/><text fill=\"#000000\" font-family=\"sans-serif\" font-size=\"12\" lengthAdjust=\"spacingAndGlyphs\" textLength=\"24\" x=\"229\" y=\"119.1387\">a: A</text></a></g><a href=\"psysml:78dea323-2f70-496c-aa91-db5f05f12a10\" target=\"_top\" title=\"psysml:78dea323-2f70-496c-aa91-db5f05f12a10\" xlink:actuate=\"onRequest\" xlink:href=\"psysml:78dea323-2f70-496c-aa91-db5f05f12a10\" xlink:show=\"new\" xlink:title=\"psysml:78dea323-2f70-496c-aa91-db5f05f12a10\" xlink:type=\"simple\"><polygon fill=\"#FFFFFF\" points=\"332.5,156,347.5,156,354.5,178.2969,361.5,178.2969,361.5,208.5938,332.5,208.5938,332.5,156\" style=\"stroke: #000000; stroke-width: 1.5;\"/><line style=\"stroke: #000000; stroke-width: 1.5;\" x1=\"332.5\" x2=\"354.5\" y1=\"178.2969\" y2=\"178.2969\"/><text fill=\"#000000\" font-family=\"sans-serif\" font-size=\"14\" font-weight=\"bold\" lengthAdjust=\"spacingAndGlyphs\" textLength=\"9\" x=\"336.5\" y=\"170.9951\">P</text></a><!--MD5=[fbb449814971db3a0b8220cf225b9e01]\n",
       "link E7 to E6--><a href=\"psysml:2104b8b7-83c3-4383-b55d-abdf660b6842\" target=\"_top\" title=\"psysml:2104b8b7-83c3-4383-b55d-abdf660b6842\" xlink:actuate=\"onRequest\" xlink:href=\"psysml:2104b8b7-83c3-4383-b55d-abdf660b6842\" xlink:show=\"new\" xlink:title=\"psysml:2104b8b7-83c3-4383-b55d-abdf660b6842\" xlink:type=\"simple\"><path d=\"M469,146.17 C469,146.17 469,147.49 469,147.49 \" fill=\"none\" id=\"E7-&gt;E6\" style=\"stroke: #383838; stroke-width: 1.0;\"/><polygon fill=\"none\" points=\"476,139.29,469,159.29,462,139.29,476,139.29\" style=\"stroke: #383838; stroke-width: 1.0;\"/></a><!--MD5=[9222b19e884016f2a2e9a1f0ab692048]\n",
       "@startuml\r\n",
       "skinparam ranksep 10\r\n",
       "skinparam rectangle {\r\n",
       " backgroundColor<<block>> LightGreen\r\n",
       "}\r\n",
       "skinparam linetype ortho\r\n",
       "skinparam monochrome true\r\n",
       "skinparam classbackgroundcolor white\r\n",
       "skinparam shadowing false\r\n",
       "skinparam wrapWidth 300\r\n",
       "hide circle\r\n",
       "\r\n",
       "package \"PartTest\" as E1  [[psysml:c38775ed-c195-45a3-878f-69446059ff99 ]]  {\r\n",
       "rec usage \"f: A\" as E2  [[psysml:133b9857-5562-4f09-a022-80109f8d4a7d ]] {\r\n",
       "}\r\n",
       "rec def \"A\" as E3  <<(T,blue) part  def>> [[psysml:41a43e73-47d4-427d-aa17-f57a90b2778c ]] {\r\n",
       "rec usage \"b: B\" as E4  [[psysml:23a90af0-4107-4bf0-84ea-ac7115753c4e ]] {\r\n",
       "}\r\n",
       "portin \"c: C \" as E5  <<(T,blue) port>> [[psysml:3bde4e3d-0323-4342-8ecc-6f2c3dab5224 ]] \r\n",
       "comp usage \"x \" as E6  <<(T,blue) attribute>> [[psysml:445f494e-a94c-4fdf-9cc7-f31ccfeaa97f ]] {\r\n",
       "}\r\n",
       "comp usage \"y :> A::x\" as E7  <<(T,blue) attribute>> [[psysml:83189ed0-8892-41b6-b657-b7e16a6a2eeb ]] {\r\n",
       "}\r\n",
       "}\r\n",
       "rec def \"<i>B</i>\" as E8  <<(T,blue) part  def>> [[psysml:c17c630d-59e9-4f7e-a520-276041a9c800 ]] {\r\n",
       "rec usage \"a: A\" as E9  [[psysml:4ea01713-b83a-4578-95eb-e0c0377cf261 ]] {\r\n",
       "}\r\n",
       "portin \"x: ~C \" as E10  <<(T,blue) port>> [[psysml:c9f90055-486d-4326-9691-bfe47f710c68 ]] \r\n",
       "package \"P\" as E11  [[psysml:78dea323-2f70-496c-aa91-db5f05f12a10 ]]  {\r\n",
       "}\r\n",
       "}\r\n",
       "def \"C\" as E12  <<(T,blue) port  def>> [[psysml:e209a1f3-de72-4850-a45f-7036acf7c094 ]] \r\n",
       "}\r\n",
       "E7 - -|> E6 [[psysml:2104b8b7-83c3-4383-b55d-abdf660b6842 ]] \r\n",
       "@enduml\r\n",
       "\n",
       "PlantUML version 1.2020.13(Sat Jun 13 12:26:38 UTC 2020)\n",
       "(EPL source distribution)\n",
       "Java Runtime: OpenJDK Runtime Environment\n",
       "JVM: OpenJDK 64-Bit Server VM\n",
       "Default Encoding: UTF-8\n",
       "Language: en\n",
       "Country: null\n",
       "--></g></svg>"
      ]
     },
     "execution_count": 54,
     "metadata": {},
     "output_type": "execute_result"
    }
   ],
   "source": [
    "%viz --style=\"ORTHOLINE\" --view=\"Interconnection\" \"PartTest\""
   ]
  },
  {
   "cell_type": "code",
   "execution_count": 55,
   "id": "e8955c9f",
   "metadata": {
    "execution": {
     "iopub.execute_input": "2022-02-05T16:55:46.743314Z",
     "iopub.status.busy": "2022-02-05T16:55:46.742902Z",
     "iopub.status.idle": "2022-02-05T16:55:46.747260Z",
     "shell.execute_reply": "2022-02-05T16:55:46.746919Z"
    }
   },
   "outputs": [
    {
     "data": {
      "image/svg+xml": [
       "<?xml version=\"1.0\" encoding=\"UTF-8\" standalone=\"no\"?><svg xmlns=\"http://www.w3.org/2000/svg\" xmlns:xlink=\"http://www.w3.org/1999/xlink\" contentScriptType=\"application/ecmascript\" contentStyleType=\"text/css\" height=\"12px\" preserveAspectRatio=\"none\" style=\"width:12px;height:12px;\" version=\"1.1\" viewBox=\"0 0 12 12\" width=\"12px\" zoomAndPan=\"magnify\"><defs/><g><!--MD5=[72934c63077099a26744516a776b4749]\n",
       "@startuml\r\n",
       "skinparam ranksep 8\r\n",
       "skinparam linetype ortho\r\n",
       "skinparam monochrome true\r\n",
       "skinparam classbackgroundcolor white\r\n",
       "skinparam shadowing false\r\n",
       "skinparam wrapWidth 300\r\n",
       "hide circle\r\n",
       "\r\n",
       "@enduml\r\n",
       "\n",
       "PlantUML version 1.2020.13(Sat Jun 13 12:26:38 UTC 2020)\n",
       "(EPL source distribution)\n",
       "Java Runtime: OpenJDK Runtime Environment\n",
       "JVM: OpenJDK 64-Bit Server VM\n",
       "Default Encoding: UTF-8\n",
       "Language: en\n",
       "Country: null\n",
       "--></g></svg>"
      ]
     },
     "execution_count": 55,
     "metadata": {},
     "output_type": "execute_result"
    }
   ],
   "source": [
    "%viz --style=\"ORTHOLINE\" --view=\"Action\" \"PartTest\""
   ]
  },
  {
   "cell_type": "code",
   "execution_count": 56,
   "id": "91ff1e4b",
   "metadata": {
    "execution": {
     "iopub.execute_input": "2022-02-05T16:55:46.797025Z",
     "iopub.status.busy": "2022-02-05T16:55:46.796624Z",
     "iopub.status.idle": "2022-02-05T16:55:46.800795Z",
     "shell.execute_reply": "2022-02-05T16:55:46.800467Z"
    }
   },
   "outputs": [
    {
     "data": {
      "image/svg+xml": [
       "<?xml version=\"1.0\" encoding=\"UTF-8\" standalone=\"no\"?><svg xmlns=\"http://www.w3.org/2000/svg\" xmlns:xlink=\"http://www.w3.org/1999/xlink\" contentScriptType=\"application/ecmascript\" contentStyleType=\"text/css\" height=\"12px\" preserveAspectRatio=\"none\" style=\"width:12px;height:12px;\" version=\"1.1\" viewBox=\"0 0 12 12\" width=\"12px\" zoomAndPan=\"magnify\"><defs/><g><!--MD5=[30fc1de5121c5abddedd55b44417fde8]\n",
       "@startuml\r\n",
       "skinparam roundcorner 20\r\n",
       "skinparam BoxPadding 20\r\n",
       "skinparam SequenceBoxBackgroundColor #white\r\n",
       "skinparam style strictuml\r\n",
       "skinparam maxMessageSize 100\r\n",
       "skinparam linetype ortho\r\n",
       "skinparam monochrome true\r\n",
       "skinparam classbackgroundcolor white\r\n",
       "skinparam shadowing false\r\n",
       "skinparam wrapWidth 300\r\n",
       "hide circle\r\n",
       "\r\n",
       "@enduml\r\n",
       "\n",
       "PlantUML version 1.2020.13(Sat Jun 13 12:26:38 UTC 2020)\n",
       "(EPL source distribution)\n",
       "Java Runtime: OpenJDK Runtime Environment\n",
       "JVM: OpenJDK 64-Bit Server VM\n",
       "Default Encoding: UTF-8\n",
       "Language: en\n",
       "Country: null\n",
       "--></g></svg>"
      ]
     },
     "execution_count": 56,
     "metadata": {},
     "output_type": "execute_result"
    }
   ],
   "source": [
    "%viz --style=\"ORTHOLINE\" --view=\"Sequence\" \"PartTest\""
   ]
  },
  {
   "cell_type": "code",
   "execution_count": 57,
   "id": "3518fe09",
   "metadata": {
    "execution": {
     "iopub.execute_input": "2022-02-05T16:55:46.850602Z",
     "iopub.status.busy": "2022-02-05T16:55:46.850198Z",
     "iopub.status.idle": "2022-02-05T16:55:46.903029Z",
     "shell.execute_reply": "2022-02-05T16:55:46.901814Z"
    }
   },
   "outputs": [
    {
     "data": {
      "image/svg+xml": [
       "<?xml version=\"1.0\" encoding=\"UTF-8\" standalone=\"no\"?><svg xmlns=\"http://www.w3.org/2000/svg\" xmlns:xlink=\"http://www.w3.org/1999/xlink\" contentScriptType=\"application/ecmascript\" contentStyleType=\"text/css\" height=\"760px\" preserveAspectRatio=\"none\" style=\"width:423px;height:760px;\" version=\"1.1\" viewBox=\"0 0 423 760\" width=\"423px\" zoomAndPan=\"magnify\"><defs/><g><!--MD5=[fbc87193dbaf4d95561dea2c320d4a47]\n",
       "cluster E1--><a href=\"psysml:c38775ed-c195-45a3-878f-69446059ff99\" target=\"_top\" title=\"psysml:c38775ed-c195-45a3-878f-69446059ff99\" xlink:actuate=\"onRequest\" xlink:href=\"psysml:c38775ed-c195-45a3-878f-69446059ff99\" xlink:show=\"new\" xlink:title=\"psysml:c38775ed-c195-45a3-878f-69446059ff99\" xlink:type=\"simple\"><polygon fill=\"#FFFFFF\" points=\"16,6,80,6,87,28.2969,401,28.2969,401,748,16,748,16,6\" style=\"stroke: #000000; stroke-width: 1.5;\"/><line style=\"stroke: #000000; stroke-width: 1.5;\" x1=\"16\" x2=\"87\" y1=\"28.2969\" y2=\"28.2969\"/><text fill=\"#000000\" font-family=\"sans-serif\" font-size=\"14\" font-weight=\"bold\" lengthAdjust=\"spacingAndGlyphs\" textLength=\"58\" x=\"20\" y=\"20.9951\">PartTest</text></a><!--MD5=[b4997ac47864f28c2f74865a473b2911]\n",
       "class E2--><a href=\"psysml:133b9857-5562-4f09-a022-80109f8d4a7d\" target=\"_top\" title=\"psysml:133b9857-5562-4f09-a022-80109f8d4a7d\" xlink:actuate=\"onRequest\" xlink:href=\"psysml:133b9857-5562-4f09-a022-80109f8d4a7d\" xlink:show=\"new\" xlink:title=\"psysml:133b9857-5562-4f09-a022-80109f8d4a7d\" xlink:type=\"simple\"><rect fill=\"#FFFFFF\" height=\"45.9375\" id=\"E2\" rx=\"10\" ry=\"10\" style=\"stroke: #383838; stroke-width: 1.5;\" width=\"42\" x=\"201\" y=\"41\"/><text fill=\"#000000\" font-family=\"sans-serif\" font-size=\"12\" font-style=\"italic\" lengthAdjust=\"spacingAndGlyphs\" textLength=\"40\" x=\"202\" y=\"57.1387\">«part»</text><text fill=\"#000000\" font-family=\"sans-serif\" font-size=\"12\" lengthAdjust=\"spacingAndGlyphs\" textLength=\"20\" x=\"210\" y=\"71.1074\">f: A</text><line style=\"stroke: #383838; stroke-width: 1.5;\" x1=\"202\" x2=\"242\" y1=\"78.9375\" y2=\"78.9375\"/></a><!--MD5=[09b614a08d8cba4a07c9adeb5e0fee81]\n",
       "class E3--><a href=\"psysml:41a43e73-47d4-427d-aa17-f57a90b2778c\" target=\"_top\" title=\"psysml:41a43e73-47d4-427d-aa17-f57a90b2778c\" xlink:actuate=\"onRequest\" xlink:href=\"psysml:41a43e73-47d4-427d-aa17-f57a90b2778c\" xlink:show=\"new\" xlink:title=\"psysml:41a43e73-47d4-427d-aa17-f57a90b2778c\" xlink:type=\"simple\"><rect fill=\"#FFFFFF\" height=\"88.3516\" id=\"E3\" style=\"stroke: #383838; stroke-width: 1.5;\" width=\"70\" x=\"187\" y=\"148\"/><text fill=\"#000000\" font-family=\"sans-serif\" font-size=\"12\" font-style=\"italic\" lengthAdjust=\"spacingAndGlyphs\" textLength=\"68\" x=\"188\" y=\"164.1387\">«part  def»</text><text fill=\"#000000\" font-family=\"sans-serif\" font-size=\"12\" lengthAdjust=\"spacingAndGlyphs\" textLength=\"8\" x=\"218\" y=\"178.1074\">A</text><line style=\"stroke: #383838; stroke-width: 1.5;\" x1=\"188\" x2=\"256\" y1=\"185.9375\" y2=\"185.9375\"/><text fill=\"#000000\" font-family=\"sans-serif\" font-size=\"11\" lengthAdjust=\"spacingAndGlyphs\" textLength=\"6\" x=\"193\" y=\"216.9526\">x</text><text fill=\"#000000\" font-family=\"sans-serif\" font-size=\"11\" lengthAdjust=\"spacingAndGlyphs\" textLength=\"44\" x=\"193\" y=\"229.7573\">y:&gt; A::x</text><line style=\"stroke: #383838; stroke-width: 1.0;\" x1=\"188\" x2=\"194.5\" y1=\"200.3398\" y2=\"200.3398\"/><text fill=\"#000000\" font-family=\"sans-serif\" font-size=\"11\" lengthAdjust=\"spacingAndGlyphs\" textLength=\"55\" x=\"194.5\" y=\"203.6479\">attributes</text><line style=\"stroke: #383838; stroke-width: 1.0;\" x1=\"249.5\" x2=\"256\" y1=\"200.3398\" y2=\"200.3398\"/></a><!--MD5=[ebbe1d658d1005bcc118a6aa81145e00]\n",
       "class E4--><a href=\"psysml:23a90af0-4107-4bf0-84ea-ac7115753c4e\" target=\"_top\" title=\"psysml:23a90af0-4107-4bf0-84ea-ac7115753c4e\" xlink:actuate=\"onRequest\" xlink:href=\"psysml:23a90af0-4107-4bf0-84ea-ac7115753c4e\" xlink:show=\"new\" xlink:title=\"psysml:23a90af0-4107-4bf0-84ea-ac7115753c4e\" xlink:type=\"simple\"><rect fill=\"#FFFFFF\" height=\"45.9375\" id=\"E4\" rx=\"10\" ry=\"10\" style=\"stroke: #383838; stroke-width: 1.5;\" width=\"42\" x=\"323\" y=\"373\"/><text fill=\"#000000\" font-family=\"sans-serif\" font-size=\"12\" font-style=\"italic\" lengthAdjust=\"spacingAndGlyphs\" textLength=\"40\" x=\"324\" y=\"389.1387\">«part»</text><text fill=\"#000000\" font-family=\"sans-serif\" font-size=\"12\" lengthAdjust=\"spacingAndGlyphs\" textLength=\"24\" x=\"330\" y=\"403.1074\">b: B</text><line style=\"stroke: #383838; stroke-width: 1.5;\" x1=\"324\" x2=\"364\" y1=\"410.9375\" y2=\"410.9375\"/></a><!--MD5=[270fce915f116d4de14055a7c1d9a0f3]\n",
       "class E5--><a href=\"psysml:3bde4e3d-0323-4342-8ecc-6f2c3dab5224\" target=\"_top\" title=\"psysml:3bde4e3d-0323-4342-8ecc-6f2c3dab5224\" xlink:actuate=\"onRequest\" xlink:href=\"psysml:3bde4e3d-0323-4342-8ecc-6f2c3dab5224\" xlink:show=\"new\" xlink:title=\"psysml:3bde4e3d-0323-4342-8ecc-6f2c3dab5224\" xlink:type=\"simple\"><rect fill=\"#FFFFFF\" height=\"45.9375\" id=\"E5\" rx=\"10\" ry=\"10\" style=\"stroke: #383838; stroke-width: 1.5;\" width=\"42\" x=\"306\" y=\"297\"/><text fill=\"#000000\" font-family=\"sans-serif\" font-size=\"12\" font-style=\"italic\" lengthAdjust=\"spacingAndGlyphs\" textLength=\"40\" x=\"307\" y=\"313.1387\">«port»</text><text fill=\"#000000\" font-family=\"sans-serif\" font-size=\"12\" lengthAdjust=\"spacingAndGlyphs\" textLength=\"23\" x=\"313.5\" y=\"327.1074\">c: C</text><line style=\"stroke: #383838; stroke-width: 1.5;\" x1=\"307\" x2=\"347\" y1=\"334.9375\" y2=\"334.9375\"/></a><!--MD5=[60a26617385b1d2d0262a64233df1f8d]\n",
       "class E6--><a href=\"psysml:c17c630d-59e9-4f7e-a520-276041a9c800\" target=\"_top\" title=\"psysml:c17c630d-59e9-4f7e-a520-276041a9c800\" xlink:actuate=\"onRequest\" xlink:href=\"psysml:c17c630d-59e9-4f7e-a520-276041a9c800\" xlink:show=\"new\" xlink:title=\"psysml:c17c630d-59e9-4f7e-a520-276041a9c800\" xlink:type=\"simple\"><rect fill=\"#FFFFFF\" height=\"45.9375\" id=\"E6\" style=\"stroke: #383838; stroke-width: 1.5;\" width=\"70\" x=\"190\" y=\"572\"/><text fill=\"#000000\" font-family=\"sans-serif\" font-size=\"12\" font-style=\"italic\" lengthAdjust=\"spacingAndGlyphs\" textLength=\"68\" x=\"191\" y=\"588.1387\">«part  def»</text><text fill=\"#000000\" font-family=\"sans-serif\" font-size=\"12\" font-style=\"italic\" lengthAdjust=\"spacingAndGlyphs\" textLength=\"8\" x=\"221\" y=\"602.1074\">B</text><line style=\"stroke: #383838; stroke-width: 1.5;\" x1=\"191\" x2=\"259\" y1=\"609.9375\" y2=\"609.9375\"/></a><!--MD5=[2156ba9850f5573cc1fc38a6a4b2f02b]\n",
       "class E7--><a href=\"psysml:4ea01713-b83a-4578-95eb-e0c0377cf261\" target=\"_top\" title=\"psysml:4ea01713-b83a-4578-95eb-e0c0377cf261\" xlink:actuate=\"onRequest\" xlink:href=\"psysml:4ea01713-b83a-4578-95eb-e0c0377cf261\" xlink:show=\"new\" xlink:title=\"psysml:4ea01713-b83a-4578-95eb-e0c0377cf261\" xlink:type=\"simple\"><rect fill=\"#FFFFFF\" height=\"45.9375\" id=\"E7\" rx=\"10\" ry=\"10\" style=\"stroke: #383838; stroke-width: 1.5;\" width=\"42\" x=\"68\" y=\"682.5\"/><text fill=\"#000000\" font-family=\"sans-serif\" font-size=\"12\" font-style=\"italic\" lengthAdjust=\"spacingAndGlyphs\" textLength=\"40\" x=\"69\" y=\"698.6387\">«part»</text><text fill=\"#000000\" font-family=\"sans-serif\" font-size=\"12\" font-style=\"italic\" lengthAdjust=\"spacingAndGlyphs\" textLength=\"8\" x=\"75\" y=\"712.6074\">a</text><text fill=\"#000000\" font-family=\"sans-serif\" font-size=\"12\" lengthAdjust=\"spacingAndGlyphs\" textLength=\"16\" x=\"83\" y=\"712.6074\">: A</text><line style=\"stroke: #383838; stroke-width: 1.5;\" x1=\"69\" x2=\"109\" y1=\"720.4375\" y2=\"720.4375\"/></a><!--MD5=[b9389687b975829384b498ac4b7476b2]\n",
       "class E8--><a href=\"psysml:c9f90055-486d-4326-9691-bfe47f710c68\" target=\"_top\" title=\"psysml:c9f90055-486d-4326-9691-bfe47f710c68\" xlink:actuate=\"onRequest\" xlink:href=\"psysml:c9f90055-486d-4326-9691-bfe47f710c68\" xlink:show=\"new\" xlink:title=\"psysml:c9f90055-486d-4326-9691-bfe47f710c68\" xlink:type=\"simple\"><rect fill=\"#FFFFFF\" height=\"45.9375\" id=\"E8\" rx=\"10\" ry=\"10\" style=\"stroke: #383838; stroke-width: 1.5;\" width=\"42\" x=\"228\" y=\"682.5\"/><text fill=\"#000000\" font-family=\"sans-serif\" font-size=\"12\" font-style=\"italic\" lengthAdjust=\"spacingAndGlyphs\" textLength=\"40\" x=\"229\" y=\"698.6387\">«port»</text><text fill=\"#000000\" font-family=\"sans-serif\" font-size=\"12\" lengthAdjust=\"spacingAndGlyphs\" textLength=\"32\" x=\"231\" y=\"712.6074\">x: ~C</text><line style=\"stroke: #383838; stroke-width: 1.5;\" x1=\"229\" x2=\"269\" y1=\"720.4375\" y2=\"720.4375\"/></a><!--MD5=[96f4274e9e20536e775497830990834d]\n",
       "class E10--><a href=\"psysml:e209a1f3-de72-4850-a45f-7036acf7c094\" target=\"_top\" title=\"psysml:e209a1f3-de72-4850-a45f-7036acf7c094\" xlink:actuate=\"onRequest\" xlink:href=\"psysml:e209a1f3-de72-4850-a45f-7036acf7c094\" xlink:show=\"new\" xlink:title=\"psysml:e209a1f3-de72-4850-a45f-7036acf7c094\" xlink:type=\"simple\"><rect fill=\"#FFFFFF\" height=\"45.9375\" id=\"E10\" style=\"stroke: #383838; stroke-width: 1.5;\" width=\"70\" x=\"190\" y=\"449\"/><text fill=\"#000000\" font-family=\"sans-serif\" font-size=\"12\" font-style=\"italic\" lengthAdjust=\"spacingAndGlyphs\" textLength=\"68\" x=\"191\" y=\"465.1387\">«port  def»</text><text fill=\"#000000\" font-family=\"sans-serif\" font-size=\"12\" lengthAdjust=\"spacingAndGlyphs\" textLength=\"8\" x=\"221\" y=\"479.1074\">C</text><line style=\"stroke: #383838; stroke-width: 1.5;\" x1=\"191\" x2=\"259\" y1=\"486.9375\" y2=\"486.9375\"/></a><a href=\"psysml:78dea323-2f70-496c-aa91-db5f05f12a10\" target=\"_top\" title=\"psysml:78dea323-2f70-496c-aa91-db5f05f12a10\" xlink:actuate=\"onRequest\" xlink:href=\"psysml:78dea323-2f70-496c-aa91-db5f05f12a10\" xlink:show=\"new\" xlink:title=\"psysml:78dea323-2f70-496c-aa91-db5f05f12a10\" xlink:type=\"simple\"><polygon fill=\"#FFFFFF\" points=\"163.5,679,178.5,679,185.5,701.2969,192.5,701.2969,192.5,731.5938,163.5,731.5938,163.5,679\" style=\"stroke: #000000; stroke-width: 1.5;\"/><line style=\"stroke: #000000; stroke-width: 1.5;\" x1=\"163.5\" x2=\"185.5\" y1=\"701.2969\" y2=\"701.2969\"/><text fill=\"#000000\" font-family=\"sans-serif\" font-size=\"14\" font-weight=\"bold\" lengthAdjust=\"spacingAndGlyphs\" textLength=\"9\" x=\"167.5\" y=\"693.9951\">P</text></a><!--MD5=[2720a5a1f2c3fca2055b230370638851]\n",
       "link E2 to E3--><a href=\"psysml:de99b855-827b-4779-9c99-7b4326eef43f\" target=\"_top\" title=\"psysml:de99b855-827b-4779-9c99-7b4326eef43f\" xlink:actuate=\"onRequest\" xlink:href=\"psysml:de99b855-827b-4779-9c99-7b4326eef43f\" xlink:show=\"new\" xlink:title=\"psysml:de99b855-827b-4779-9c99-7b4326eef43f\" xlink:type=\"simple\"><path d=\"M222,87.18 C222,87.18 222,127.76 222,127.76 \" fill=\"none\" id=\"E2-&gt;E3\" style=\"stroke: #383838; stroke-width: 1.0;\"/><polygon fill=\"#FFFFFF\" points=\"222,147.76,215,128.76,229,128.76,222,147.76\" style=\"stroke: #383838; stroke-width: 1.0;\"/><ellipse cx=\"217\" cy=\"123.06\" fill=\"#383838\" rx=\"2\" ry=\"2\" style=\"stroke: #383838; stroke-width: 1.0;\"/><ellipse cx=\"227\" cy=\"123.06\" fill=\"#383838\" rx=\"2\" ry=\"2\" style=\"stroke: #383838; stroke-width: 1.0;\"/></a><!--MD5=[4672eba38e49728da53d11aeb285b987]\n",
       "reverse link E3 to E4--><a href=\"psysml:7d143534-3389-4013-881e-42b16664757f\" target=\"_top\" title=\"psysml:7d143534-3389-4013-881e-42b16664757f\" xlink:actuate=\"onRequest\" xlink:href=\"psysml:7d143534-3389-4013-881e-42b16664757f\" xlink:show=\"new\" xlink:title=\"psysml:7d143534-3389-4013-881e-42b16664757f\" xlink:type=\"simple\"><path d=\"M234.67,249.01 C234.67,249.01 234.67,396 234.67,396 C234.67,396 291.15,396 322.92,396 \" fill=\"none\" id=\"E3&lt;-E4\" style=\"stroke: #383838; stroke-width: 1.0;\"/><polygon fill=\"#383838\" points=\"234.67,236.01,230.67,242.01,234.67,248.01,238.67,242.01,234.67,236.01\" style=\"stroke: #383838; stroke-width: 1.0;\"/><text fill=\"#000000\" font-family=\"sans-serif\" font-size=\"13\" lengthAdjust=\"spacingAndGlyphs\" textLength=\"8\" x=\"306.9258\" y=\"390.7074\">1</text></a><!--MD5=[191cde3d490a3f6d7bb551fe3ddca469]\n",
       "reverse link E3 to E5--><a href=\"psysml:01061be5-5fdc-439c-afe5-881fb8746c83\" target=\"_top\" title=\"psysml:01061be5-5fdc-439c-afe5-881fb8746c83\" xlink:actuate=\"onRequest\" xlink:href=\"psysml:01061be5-5fdc-439c-afe5-881fb8746c83\" xlink:show=\"new\" xlink:title=\"psysml:01061be5-5fdc-439c-afe5-881fb8746c83\" xlink:type=\"simple\"><path d=\"M245.83,249.05 C245.83,249.05 245.83,320 245.83,320 C245.83,320 281.63,320 305.67,320 \" fill=\"none\" id=\"E3&lt;-E5\" style=\"stroke: #383838; stroke-width: 1.0;\"/><polygon fill=\"#FFFFFF\" points=\"245.83,236.05,241.83,242.05,245.83,248.05,249.83,242.05,245.83,236.05\" style=\"stroke: #383838; stroke-width: 1.0;\"/><text fill=\"#000000\" font-family=\"sans-serif\" font-size=\"13\" lengthAdjust=\"spacingAndGlyphs\" textLength=\"8\" x=\"289.9127\" y=\"314.7999\">1</text></a><!--MD5=[79568f1e445c3877b6a54524624ccc7d]\n",
       "link E4 to E6--><a href=\"psysml:8d11eaae-af32-434c-8c3d-32f92418f4c8\" target=\"_top\" title=\"psysml:8d11eaae-af32-434c-8c3d-32f92418f4c8\" xlink:actuate=\"onRequest\" xlink:href=\"psysml:8d11eaae-af32-434c-8c3d-32f92418f4c8\" xlink:show=\"new\" xlink:title=\"psysml:8d11eaae-af32-434c-8c3d-32f92418f4c8\" xlink:type=\"simple\"><path d=\"M344,419.22 C344,471.71 344,595 344,595 C344,595 280.06,595 280.06,595 \" fill=\"none\" id=\"E4-&gt;E6\" style=\"stroke: #383838; stroke-width: 1.0;\"/><polygon fill=\"#FFFFFF\" points=\"260.06,595,279.06,588,279.06,602,260.06,595\" style=\"stroke: #383838; stroke-width: 1.0;\"/><ellipse cx=\"284.76\" cy=\"590\" fill=\"#383838\" rx=\"2\" ry=\"2\" style=\"stroke: #383838; stroke-width: 1.0;\"/><ellipse cx=\"284.76\" cy=\"600\" fill=\"#383838\" rx=\"2\" ry=\"2\" style=\"stroke: #383838; stroke-width: 1.0;\"/></a><!--MD5=[3f50a3473f1dfb74d3f76443e03635af]\n",
       "reverse link E6 to E7--><a href=\"psysml:7466bf8a-1e84-4b05-9901-ce46ee446fa5\" target=\"_top\" title=\"psysml:7466bf8a-1e84-4b05-9901-ce46ee446fa5\" xlink:actuate=\"onRequest\" xlink:href=\"psysml:7466bf8a-1e84-4b05-9901-ce46ee446fa5\" xlink:show=\"new\" xlink:title=\"psysml:7466bf8a-1e84-4b05-9901-ce46ee446fa5\" xlink:type=\"simple\"><path d=\"M176.75,588 C176.75,588 96,588 96,588 C96,588 96,648.04 96,682.29 \" fill=\"none\" id=\"E6&lt;-E7\" style=\"stroke: #383838; stroke-width: 1.0;\"/><polygon fill=\"#383838\" points=\"189.75,588,183.75,584,177.75,588,183.75,592,189.75,588\" style=\"stroke: #383838; stroke-width: 1.0;\"/><text fill=\"#000000\" font-family=\"sans-serif\" font-size=\"13\" lengthAdjust=\"spacingAndGlyphs\" textLength=\"8\" x=\"88.7688\" y=\"671.5125\">1</text></a><!--MD5=[14ccda38c055a5c0da953d572bc50960]\n",
       "link E7 to E3--><a href=\"psysml:3c280f0c-0d5e-48e6-b009-cbd7db9e9beb\" target=\"_top\" title=\"psysml:3c280f0c-0d5e-48e6-b009-cbd7db9e9beb\" xlink:actuate=\"onRequest\" xlink:href=\"psysml:3c280f0c-0d5e-48e6-b009-cbd7db9e9beb\" xlink:show=\"new\" xlink:title=\"psysml:3c280f0c-0d5e-48e6-b009-cbd7db9e9beb\" xlink:type=\"simple\"><path d=\"M82,682.44 C82,582.52 82,192 82,192 C82,192 166.67,192 166.67,192 \" fill=\"none\" id=\"E7-&gt;E3\" style=\"stroke: #383838; stroke-width: 1.0;\"/><polygon fill=\"#FFFFFF\" points=\"186.67,192,167.67,199,167.67,185,186.67,192\" style=\"stroke: #383838; stroke-width: 1.0;\"/><ellipse cx=\"161.97\" cy=\"197\" fill=\"#383838\" rx=\"2\" ry=\"2\" style=\"stroke: #383838; stroke-width: 1.0;\"/><ellipse cx=\"161.97\" cy=\"187\" fill=\"#383838\" rx=\"2\" ry=\"2\" style=\"stroke: #383838; stroke-width: 1.0;\"/></a><!--MD5=[f4cf0736d43fd73c4ef68817c49d37d5]\n",
       "reverse link E6 to E8--><a href=\"psysml:dcb35f57-14cb-4e2c-8543-9245438ead5d\" target=\"_top\" title=\"psysml:dcb35f57-14cb-4e2c-8543-9245438ead5d\" xlink:actuate=\"onRequest\" xlink:href=\"psysml:dcb35f57-14cb-4e2c-8543-9245438ead5d\" xlink:show=\"new\" xlink:title=\"psysml:dcb35f57-14cb-4e2c-8543-9245438ead5d\" xlink:type=\"simple\"><path d=\"M244,631.16 C244,631.16 244,682.37 244,682.37 \" fill=\"none\" id=\"E6&lt;-E8\" style=\"stroke: #383838; stroke-width: 1.0;\"/><polygon fill=\"#FFFFFF\" points=\"244,618.16,240,624.16,244,630.16,248,624.16,244,618.16\" style=\"stroke: #383838; stroke-width: 1.0;\"/><text fill=\"#000000\" font-family=\"sans-serif\" font-size=\"13\" lengthAdjust=\"spacingAndGlyphs\" textLength=\"8\" x=\"233.6938\" y=\"671.613\">1</text></a><!--MD5=[e88d06e5a652d73a6b19930eefe025a8]\n",
       "reverse link E6 to E9--><a href=\"psysml:08766104-19a0-4aca-bf35-b4c81b8c6dcb\" target=\"_top\" title=\"psysml:08766104-19a0-4aca-bf35-b4c81b8c6dcb\" xlink:actuate=\"onRequest\" xlink:href=\"psysml:08766104-19a0-4aca-bf35-b4c81b8c6dcb\" xlink:show=\"new\" xlink:title=\"psysml:08766104-19a0-4aca-bf35-b4c81b8c6dcb\" xlink:type=\"simple\"><path d=\"M176.72,603 C176.72,603 175.25,603 175.25,603 C175.25,603 175.25,648.47 175.25,678.84 \" fill=\"none\" id=\"E6&lt;-E9\" style=\"stroke: #383838; stroke-width: 1.0;\"/><ellipse cx=\"181.91\" cy=\"603\" fill=\"#FFFFFF\" rx=\"8\" ry=\"8\" style=\"stroke: #383838; stroke-width: 1.0;\"/><line style=\"stroke: #383838; stroke-width: 1.0;\" x1=\"173.91\" x2=\"189.91\" y1=\"603\" y2=\"603\"/><line style=\"stroke: #383838; stroke-width: 1.0;\" x1=\"181.91\" x2=\"181.91\" y1=\"595\" y2=\"611\"/></a><!--MD5=[f78a29d5932556fa1060671a2a6507d8]\n",
       "link E5 to E10--><a href=\"psysml:568ef262-b92a-4cba-8a4b-19f4a197db7e\" target=\"_top\" title=\"psysml:568ef262-b92a-4cba-8a4b-19f4a197db7e\" xlink:actuate=\"onRequest\" xlink:href=\"psysml:568ef262-b92a-4cba-8a4b-19f4a197db7e\" xlink:show=\"new\" xlink:title=\"psysml:568ef262-b92a-4cba-8a4b-19f4a197db7e\" xlink:type=\"simple\"><path d=\"M314.5,343.09 C314.5,385.61 314.5,472 314.5,472 C314.5,472 280.12,472 280.12,472 \" fill=\"none\" id=\"E5-&gt;E10\" style=\"stroke: #383838; stroke-width: 1.0;\"/><polygon fill=\"#FFFFFF\" points=\"260.12,472,279.12,465,279.12,479,260.12,472\" style=\"stroke: #383838; stroke-width: 1.0;\"/><ellipse cx=\"284.82\" cy=\"467\" fill=\"#383838\" rx=\"2\" ry=\"2\" style=\"stroke: #383838; stroke-width: 1.0;\"/><ellipse cx=\"284.82\" cy=\"477\" fill=\"#383838\" rx=\"2\" ry=\"2\" style=\"stroke: #383838; stroke-width: 1.0;\"/></a><!--MD5=[8e04057e7b3cbc0dca4fc78ea351e2da]\n",
       "reverse link E10 to E3--><a href=\"psysml:f2bac2b1-68d1-4631-bf1f-fa6cff2f703f\" target=\"_top\" title=\"psysml:f2bac2b1-68d1-4631-bf1f-fa6cff2f703f\" xlink:actuate=\"onRequest\" xlink:href=\"psysml:f2bac2b1-68d1-4631-bf1f-fa6cff2f703f\" xlink:show=\"new\" xlink:title=\"psysml:f2bac2b1-68d1-4631-bf1f-fa6cff2f703f\" xlink:type=\"simple\"><path d=\"M201.17,435.61 C201.17,435.61 201.17,236.17 201.17,236.17 \" fill=\"none\" id=\"E10&lt;-E3\" style=\"stroke: #383838; stroke-width: 1.0;\"/><polygon fill=\"#FFFFFF\" points=\"201.17,448.61,205.17,442.61,201.17,436.61,197.17,442.61,201.17,448.61\" style=\"stroke: #383838; stroke-width: 1.0;\"/><text fill=\"#000000\" font-family=\"sans-serif\" font-size=\"13\" lengthAdjust=\"spacingAndGlyphs\" textLength=\"7\" x=\"105\" y=\"324.5669\">y</text></a><!--MD5=[8e04057e7b3cbc0dca4fc78ea351e2da]\n",
       "reverse link E10 to E3--><a href=\"psysml:f2bac2b1-68d1-4631-bf1f-fa6cff2f703f\" target=\"_top\" title=\"psysml:f2bac2b1-68d1-4631-bf1f-fa6cff2f703f\" xlink:actuate=\"onRequest\" xlink:href=\"psysml:f2bac2b1-68d1-4631-bf1f-fa6cff2f703f\" xlink:show=\"new\" xlink:title=\"psysml:f2bac2b1-68d1-4631-bf1f-fa6cff2f703f\" xlink:type=\"simple\"><path d=\"M212.33,435.61 C212.33,435.61 212.33,236.17 212.33,236.17 \" fill=\"none\" id=\"E10&lt;-E3-1\" style=\"stroke: #383838; stroke-width: 1.0;\"/><polygon fill=\"#FFFFFF\" points=\"212.33,448.61,216.33,442.61,212.33,436.61,208.33,442.61,212.33,448.61\" style=\"stroke: #383838; stroke-width: 1.0;\"/><text fill=\"#000000\" font-family=\"sans-serif\" font-size=\"13\" lengthAdjust=\"spacingAndGlyphs\" textLength=\"7\" x=\"184\" y=\"324.5669\">y</text></a><!--MD5=[8e04057e7b3cbc0dca4fc78ea351e2da]\n",
       "reverse link E10 to E3--><a href=\"psysml:f2bac2b1-68d1-4631-bf1f-fa6cff2f703f\" target=\"_top\" title=\"psysml:f2bac2b1-68d1-4631-bf1f-fa6cff2f703f\" xlink:actuate=\"onRequest\" xlink:href=\"psysml:f2bac2b1-68d1-4631-bf1f-fa6cff2f703f\" xlink:show=\"new\" xlink:title=\"psysml:f2bac2b1-68d1-4631-bf1f-fa6cff2f703f\" xlink:type=\"simple\"><path d=\"M223.5,435.61 C223.5,435.61 223.5,236.17 223.5,236.17 \" fill=\"none\" id=\"E10&lt;-E3-2\" style=\"stroke: #383838; stroke-width: 1.0;\"/><polygon fill=\"#FFFFFF\" points=\"223.5,448.61,227.5,442.61,223.5,436.61,219.5,442.61,223.5,448.61\" style=\"stroke: #383838; stroke-width: 1.0;\"/><text fill=\"#000000\" font-family=\"sans-serif\" font-size=\"13\" lengthAdjust=\"spacingAndGlyphs\" textLength=\"7\" x=\"263\" y=\"324.5669\">y</text></a><!--MD5=[604cbf994c02b74b117f728a71673cea]\n",
       "reverse link E10 to E6--><a href=\"psysml:f2bac2b1-68d1-4631-bf1f-fa6cff2f703f\" target=\"_top\" title=\"psysml:f2bac2b1-68d1-4631-bf1f-fa6cff2f703f\" xlink:actuate=\"onRequest\" xlink:href=\"psysml:f2bac2b1-68d1-4631-bf1f-fa6cff2f703f\" xlink:show=\"new\" xlink:title=\"psysml:f2bac2b1-68d1-4631-bf1f-fa6cff2f703f\" xlink:type=\"simple\"><path d=\"M207.5,508.14 C207.5,508.14 207.5,571.97 207.5,571.97 \" fill=\"none\" id=\"E10&lt;-E6\" style=\"stroke: #383838; stroke-width: 1.0;\"/><polygon fill=\"#FFFFFF\" points=\"207.5,495.14,203.5,501.14,207.5,507.14,211.5,501.14,207.5,495.14\" style=\"stroke: #383838; stroke-width: 1.0;\"/><text fill=\"#000000\" font-family=\"sans-serif\" font-size=\"13\" lengthAdjust=\"spacingAndGlyphs\" textLength=\"7\" x=\"275\" y=\"538.0669\">y</text></a><!--MD5=[604cbf994c02b74b117f728a71673cea]\n",
       "reverse link E10 to E6--><a href=\"psysml:f2bac2b1-68d1-4631-bf1f-fa6cff2f703f\" target=\"_top\" title=\"psysml:f2bac2b1-68d1-4631-bf1f-fa6cff2f703f\" xlink:actuate=\"onRequest\" xlink:href=\"psysml:f2bac2b1-68d1-4631-bf1f-fa6cff2f703f\" xlink:show=\"new\" xlink:title=\"psysml:f2bac2b1-68d1-4631-bf1f-fa6cff2f703f\" xlink:type=\"simple\"><path d=\"M225,508.14 C225,508.14 225,571.97 225,571.97 \" fill=\"none\" id=\"E10&lt;-E6-1\" style=\"stroke: #383838; stroke-width: 1.0;\"/><polygon fill=\"#FFFFFF\" points=\"225,495.14,221,501.14,225,507.14,229,501.14,225,495.14\" style=\"stroke: #383838; stroke-width: 1.0;\"/><text fill=\"#000000\" font-family=\"sans-serif\" font-size=\"13\" lengthAdjust=\"spacingAndGlyphs\" textLength=\"7\" x=\"177\" y=\"538.0669\">y</text></a><!--MD5=[604cbf994c02b74b117f728a71673cea]\n",
       "reverse link E10 to E6--><a href=\"psysml:f2bac2b1-68d1-4631-bf1f-fa6cff2f703f\" target=\"_top\" title=\"psysml:f2bac2b1-68d1-4631-bf1f-fa6cff2f703f\" xlink:actuate=\"onRequest\" xlink:href=\"psysml:f2bac2b1-68d1-4631-bf1f-fa6cff2f703f\" xlink:show=\"new\" xlink:title=\"psysml:f2bac2b1-68d1-4631-bf1f-fa6cff2f703f\" xlink:type=\"simple\"><path d=\"M242.5,508.14 C242.5,508.14 242.5,571.97 242.5,571.97 \" fill=\"none\" id=\"E10&lt;-E6-2\" style=\"stroke: #383838; stroke-width: 1.0;\"/><polygon fill=\"#FFFFFF\" points=\"242.5,495.14,238.5,501.14,242.5,507.14,246.5,501.14,242.5,495.14\" style=\"stroke: #383838; stroke-width: 1.0;\"/><text fill=\"#000000\" font-family=\"sans-serif\" font-size=\"13\" lengthAdjust=\"spacingAndGlyphs\" textLength=\"7\" x=\"226\" y=\"538.0669\">y</text></a><!--MD5=[df5970a5f495309e3a7f9b81c767d023]\n",
       "@startuml\r\n",
       "skinparam linetype ortho\r\n",
       "skinparam monochrome true\r\n",
       "skinparam classbackgroundcolor white\r\n",
       "skinparam shadowing false\r\n",
       "skinparam wrapWidth 300\r\n",
       "hide circle\r\n",
       "\r\n",
       "package \"PartTest\" as E1  [[psysml:c38775ed-c195-45a3-878f-69446059ff99 ]]  {\r\n",
       "comp usage \"f: A \" as E2  <<(T,blue) part>> [[psysml:133b9857-5562-4f09-a022-80109f8d4a7d ]] {\r\n",
       "}\r\n",
       "comp def \"A\" as E3  <<(T,blue) part  def>> [[psysml:41a43e73-47d4-427d-aa17-f57a90b2778c ]] {\r\n",
       "- - attributes - -\r\n",
       "x\r\n",
       "y:> A::x\r\n",
       "}\r\n",
       "comp usage \"b: B \" as E4  <<(T,blue) part>> [[psysml:23a90af0-4107-4bf0-84ea-ac7115753c4e ]] {\r\n",
       "}\r\n",
       "comp usage \"c: C \" as E5  <<(T,blue) port>> [[psysml:3bde4e3d-0323-4342-8ecc-6f2c3dab5224 ]] {\r\n",
       "}\r\n",
       "comp def \"<i>B</i>\" as E6  <<(T,blue) part  def>> [[psysml:c17c630d-59e9-4f7e-a520-276041a9c800 ]] {\r\n",
       "}\r\n",
       "comp usage \"<i>a</i>: A \" as E7  <<(T,blue) part>> [[psysml:4ea01713-b83a-4578-95eb-e0c0377cf261 ]] {\r\n",
       "}\r\n",
       "comp usage \"x: ~C \" as E8  <<(T,blue) port>> [[psysml:c9f90055-486d-4326-9691-bfe47f710c68 ]] {\r\n",
       "}\r\n",
       "package \"P\" as E9  [[psysml:78dea323-2f70-496c-aa91-db5f05f12a10 ]]  {\r\n",
       "}\r\n",
       "comp def \"C\" as E10  <<(T,blue) port  def>> [[psysml:e209a1f3-de72-4850-a45f-7036acf7c094 ]] {\r\n",
       "}\r\n",
       "}\r\n",
       "E2 - -:|> E3 [[psysml:de99b855-827b-4779-9c99-7b4326eef43f ]] \r\n",
       "E3 *- - \"1\"E4 [[psysml:7d143534-3389-4013-881e-42b16664757f ]] \r\n",
       "E3 o- - \"1\"E5 [[psysml:01061be5-5fdc-439c-afe5-881fb8746c83 ]] \r\n",
       "E4 - -:|> E6 [[psysml:8d11eaae-af32-434c-8c3d-32f92418f4c8 ]] \r\n",
       "E6 *- - \"1\"E7 [[psysml:7466bf8a-1e84-4b05-9901-ce46ee446fa5 ]] \r\n",
       "E7 - -:|> E3 [[psysml:3c280f0c-0d5e-48e6-b009-cbd7db9e9beb ]] \r\n",
       "E6 o- - \"1\"E8 [[psysml:dcb35f57-14cb-4e2c-8543-9245438ead5d ]] \r\n",
       "E6 +- - E9 [[psysml:08766104-19a0-4aca-bf35-b4c81b8c6dcb ]] \r\n",
       "E5 - -:|> E10 [[psysml:568ef262-b92a-4cba-8a4b-19f4a197db7e ]] \r\n",
       "E10 o- - E3 [[psysml:f2bac2b1-68d1-4631-bf1f-fa6cff2f703f ]] : y\r\n",
       "E10 o- - E6 [[psysml:f2bac2b1-68d1-4631-bf1f-fa6cff2f703f ]] : y\r\n",
       "E10 o- - E3 [[psysml:f2bac2b1-68d1-4631-bf1f-fa6cff2f703f ]] : y\r\n",
       "E10 o- - E6 [[psysml:f2bac2b1-68d1-4631-bf1f-fa6cff2f703f ]] : y\r\n",
       "E10 o- - E3 [[psysml:f2bac2b1-68d1-4631-bf1f-fa6cff2f703f ]] : y\r\n",
       "E10 o- - E6 [[psysml:f2bac2b1-68d1-4631-bf1f-fa6cff2f703f ]] : y\r\n",
       "@enduml\r\n",
       "\n",
       "PlantUML version 1.2020.13(Sat Jun 13 12:26:38 UTC 2020)\n",
       "(EPL source distribution)\n",
       "Java Runtime: OpenJDK Runtime Environment\n",
       "JVM: OpenJDK 64-Bit Server VM\n",
       "Default Encoding: UTF-8\n",
       "Language: en\n",
       "Country: null\n",
       "--></g></svg>"
      ]
     },
     "execution_count": 57,
     "metadata": {},
     "output_type": "execute_result"
    }
   ],
   "source": [
    "%viz --style=\"ORTHOLINE\" --view=\"MIXED\" \"PartTest\""
   ]
  }
 ],
 "metadata": {
  "kernelspec": {
   "display_name": "SysML",
   "language": "sysml",
   "name": "sysml"
  },
  "language_info": {
   "codemirror_mode": "sysml",
   "file_extension": ".sysml",
   "mimetype": "text/x-sysml",
   "name": "SysML",
   "pygments_lexer": "java",
   "version": "1.0.0"
  }
 },
 "nbformat": 4,
 "nbformat_minor": 5
}
