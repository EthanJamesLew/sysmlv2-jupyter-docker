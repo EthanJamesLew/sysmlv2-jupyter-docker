{
 "cells": [
  {
   "cell_type": "markdown",
   "id": "4f53324c",
   "metadata": {},
   "source": [
    "# SysML v2 Test Suite\n",
    "\n",
    "This can notebook can be cleared using menu `Edit --> Clear All Outputs` and then all cells can be\n",
    "run using menu `Run --> Run All Cells`.\n",
    "\n",
    "**WARNING**: This file is generated, all modifications here will be ignored.\n"
   ]
  },
  {
   "cell_type": "markdown",
   "id": "47add3c7",
   "metadata": {},
   "source": [
    "## File: ../../sysml/src/examples/Simple Tests/PartTest.sysml"
   ]
  },
  {
   "cell_type": "code",
   "execution_count": 1,
   "id": "2fa7ba49",
   "metadata": {
    "execution": {
     "iopub.execute_input": "2021-10-03T08:29:50.841186Z",
     "iopub.status.busy": "2021-10-03T08:29:50.840106Z",
     "iopub.status.idle": "2021-10-03T08:29:51.117452Z",
     "shell.execute_reply": "2021-10-03T08:29:51.117132Z"
    }
   },
   "outputs": [
    {
     "data": {
      "text/plain": [
       "Package PartTest (ad45733b-1ac7-48b3-8474-c80f56ebdeff)\n"
      ]
     },
     "execution_count": 1,
     "metadata": {},
     "output_type": "execute_result"
    }
   ],
   "source": [
    "package PartTest {\n",
    "\t\n",
    "\tpart f: A;\n",
    "\n",
    "\tpublic part def A {\n",
    "\t\tpart id '1' b: B;\n",
    "\t\tprotected port c: C;\n",
    "\t\tattribute x[0..2];\n",
    "\t\tattribute y :> x;\n",
    "\t}\n",
    "\t\n",
    "\tabstract part def id xx B {\n",
    "\t\tpublic abstract part a: A;\n",
    "\t\tport x: ~C;\n",
    "\t\tpackage P { }\n",
    "\t}\n",
    "\t\n",
    "\tprivate port def C {\n",
    "\t\tprivate in ref y: A, B;\n",
    "\t\talias z1 for y;\n",
    "\t\talias z2 for y;\n",
    "\t}\n",
    "\t\n",
    "}"
   ]
  },
  {
   "cell_type": "code",
   "execution_count": 2,
   "id": "c2342629",
   "metadata": {
    "execution": {
     "iopub.execute_input": "2021-10-03T08:29:51.169254Z",
     "iopub.status.busy": "2021-10-03T08:29:51.168934Z",
     "iopub.status.idle": "2021-10-03T08:29:51.706696Z",
     "shell.execute_reply": "2021-10-03T08:29:51.705504Z"
    }
   },
   "outputs": [
    {
     "data": {
      "image/svg+xml": [
       "<?xml version=\"1.0\" encoding=\"UTF-8\" standalone=\"no\"?><svg xmlns=\"http://www.w3.org/2000/svg\" xmlns:xlink=\"http://www.w3.org/1999/xlink\" contentScriptType=\"application/ecmascript\" contentStyleType=\"text/css\" height=\"684px\" preserveAspectRatio=\"none\" style=\"width:260px;height:684px;\" version=\"1.1\" viewBox=\"0 0 260 684\" width=\"260px\" zoomAndPan=\"magnify\"><defs/><g><!--MD5=[fbc87193dbaf4d95561dea2c320d4a47]\n",
       "cluster E1--><a href=\"psysml:a6b62677-d27b-4bf3-83e0-375e3ba01a4b\" target=\"_top\" title=\"psysml:a6b62677-d27b-4bf3-83e0-375e3ba01a4b\" xlink:actuate=\"onRequest\" xlink:href=\"psysml:a6b62677-d27b-4bf3-83e0-375e3ba01a4b\" xlink:show=\"new\" xlink:title=\"psysml:a6b62677-d27b-4bf3-83e0-375e3ba01a4b\" xlink:type=\"simple\"><polygon fill=\"#FFFFFF\" points=\"16,6,80,6,87,28.2969,238,28.2969,238,672,16,672,16,6\" style=\"stroke: #000000; stroke-width: 1.5;\"/><line style=\"stroke: #000000; stroke-width: 1.5;\" x1=\"16\" x2=\"87\" y1=\"28.2969\" y2=\"28.2969\"/><text fill=\"#000000\" font-family=\"sans-serif\" font-size=\"14\" font-weight=\"bold\" lengthAdjust=\"spacingAndGlyphs\" textLength=\"58\" x=\"20\" y=\"20.9951\">PartTest</text></a><!--MD5=[b4997ac47864f28c2f74865a473b2911]\n",
       "class E2--><a href=\"psysml:fef66b5f-1b9d-421e-94fe-86858427a029\" target=\"_top\" title=\"psysml:fef66b5f-1b9d-421e-94fe-86858427a029\" xlink:actuate=\"onRequest\" xlink:href=\"psysml:fef66b5f-1b9d-421e-94fe-86858427a029\" xlink:show=\"new\" xlink:title=\"psysml:fef66b5f-1b9d-421e-94fe-86858427a029\" xlink:type=\"simple\"><rect fill=\"#FFFFFF\" height=\"45.9375\" id=\"E2\" rx=\"10\" ry=\"10\" style=\"stroke: #383838; stroke-width: 1.5;\" width=\"42\" x=\"32\" y=\"41\"/><text fill=\"#000000\" font-family=\"sans-serif\" font-size=\"12\" font-style=\"italic\" lengthAdjust=\"spacingAndGlyphs\" textLength=\"40\" x=\"33\" y=\"57.1387\">«part»</text><text fill=\"#000000\" font-family=\"sans-serif\" font-size=\"12\" lengthAdjust=\"spacingAndGlyphs\" textLength=\"20\" x=\"43\" y=\"71.1074\">f: A</text><line style=\"stroke: #383838; stroke-width: 1.5;\" x1=\"33\" x2=\"73\" y1=\"78.9375\" y2=\"78.9375\"/></a><!--MD5=[09b614a08d8cba4a07c9adeb5e0fee81]\n",
       "class E3--><a href=\"psysml:a2cad1be-c52d-4964-a87e-891cd7289f52\" target=\"_top\" title=\"psysml:a2cad1be-c52d-4964-a87e-891cd7289f52\" xlink:actuate=\"onRequest\" xlink:href=\"psysml:a2cad1be-c52d-4964-a87e-891cd7289f52\" xlink:show=\"new\" xlink:title=\"psysml:a2cad1be-c52d-4964-a87e-891cd7289f52\" xlink:type=\"simple\"><rect fill=\"#FFFFFF\" height=\"117.9609\" id=\"E3\" style=\"stroke: #383838; stroke-width: 1.5;\" width=\"66\" x=\"37\" y=\"164\"/><text fill=\"#000000\" font-family=\"sans-serif\" font-size=\"12\" font-style=\"italic\" lengthAdjust=\"spacingAndGlyphs\" textLength=\"64\" x=\"38\" y=\"180.1387\">«part def»</text><text fill=\"#000000\" font-family=\"sans-serif\" font-size=\"12\" lengthAdjust=\"spacingAndGlyphs\" textLength=\"8\" x=\"66\" y=\"194.1074\">A</text><line style=\"stroke: #383838; stroke-width: 1.5;\" x1=\"38\" x2=\"102\" y1=\"201.9375\" y2=\"201.9375\"/><text fill=\"#000000\" font-family=\"sans-serif\" font-size=\"11\" lengthAdjust=\"spacingAndGlyphs\" textLength=\"6\" x=\"43\" y=\"232.9526\">x</text><text fill=\"#000000\" font-family=\"sans-serif\" font-size=\"11\" lengthAdjust=\"spacingAndGlyphs\" textLength=\"6\" x=\"43\" y=\"245.7573\">y</text><line style=\"stroke: #383838; stroke-width: 1.0;\" x1=\"38\" x2=\"42.5\" y1=\"216.3398\" y2=\"216.3398\"/><text fill=\"#000000\" font-family=\"sans-serif\" font-size=\"11\" lengthAdjust=\"spacingAndGlyphs\" textLength=\"55\" x=\"42.5\" y=\"219.6479\">attributes</text><line style=\"stroke: #383838; stroke-width: 1.0;\" x1=\"97.5\" x2=\"102\" y1=\"216.3398\" y2=\"216.3398\"/><text fill=\"#000000\" font-family=\"sans-serif\" font-size=\"11\" lengthAdjust=\"spacingAndGlyphs\" textLength=\"22\" x=\"43\" y=\"275.3667\">c: C</text><line style=\"stroke: #383838; stroke-width: 1.0;\" x1=\"38\" x2=\"55\" y1=\"258.7539\" y2=\"258.7539\"/><text fill=\"#000000\" font-family=\"sans-serif\" font-size=\"11\" lengthAdjust=\"spacingAndGlyphs\" textLength=\"30\" x=\"55\" y=\"262.062\">ports</text><line style=\"stroke: #383838; stroke-width: 1.0;\" x1=\"85\" x2=\"102\" y1=\"258.7539\" y2=\"258.7539\"/></a><!--MD5=[ebbe1d658d1005bcc118a6aa81145e00]\n",
       "class E4--><a href=\"psysml:9dcf2186-613a-4b96-912f-a1b95f354387\" target=\"_top\" title=\"psysml:9dcf2186-613a-4b96-912f-a1b95f354387\" xlink:actuate=\"onRequest\" xlink:href=\"psysml:9dcf2186-613a-4b96-912f-a1b95f354387\" xlink:show=\"new\" xlink:title=\"psysml:9dcf2186-613a-4b96-912f-a1b95f354387\" xlink:type=\"simple\"><rect fill=\"#FFFFFF\" height=\"45.9375\" id=\"E4\" rx=\"10\" ry=\"10\" style=\"stroke: #383838; stroke-width: 1.5;\" width=\"42\" x=\"69\" y=\"359\"/><text fill=\"#000000\" font-family=\"sans-serif\" font-size=\"12\" font-style=\"italic\" lengthAdjust=\"spacingAndGlyphs\" textLength=\"40\" x=\"70\" y=\"375.1387\">«part»</text><text fill=\"#000000\" font-family=\"sans-serif\" font-size=\"12\" lengthAdjust=\"spacingAndGlyphs\" textLength=\"24\" x=\"78\" y=\"389.1074\">b: B</text><line style=\"stroke: #383838; stroke-width: 1.5;\" x1=\"70\" x2=\"110\" y1=\"396.9375\" y2=\"396.9375\"/></a><!--MD5=[270fce915f116d4de14055a7c1d9a0f3]\n",
       "class E5--><a href=\"psysml:bbb3af71-bfb9-47e2-863f-33482c8ff081\" target=\"_top\" title=\"psysml:bbb3af71-bfb9-47e2-863f-33482c8ff081\" xlink:actuate=\"onRequest\" xlink:href=\"psysml:bbb3af71-bfb9-47e2-863f-33482c8ff081\" xlink:show=\"new\" xlink:title=\"psysml:bbb3af71-bfb9-47e2-863f-33482c8ff081\" xlink:type=\"simple\"><rect fill=\"#FFFFFF\" height=\"75.5469\" id=\"E5\" style=\"stroke: #383838; stroke-width: 1.5;\" width=\"66\" x=\"114\" y=\"466\"/><text fill=\"#000000\" font-family=\"sans-serif\" font-size=\"12\" font-style=\"italic\" lengthAdjust=\"spacingAndGlyphs\" textLength=\"64\" x=\"115\" y=\"482.1387\">«part def»</text><text fill=\"#000000\" font-family=\"sans-serif\" font-size=\"12\" lengthAdjust=\"spacingAndGlyphs\" textLength=\"8\" x=\"143\" y=\"496.1074\">B</text><line style=\"stroke: #383838; stroke-width: 1.5;\" x1=\"115\" x2=\"179\" y1=\"503.9375\" y2=\"503.9375\"/><text fill=\"#000000\" font-family=\"sans-serif\" font-size=\"11\" lengthAdjust=\"spacingAndGlyphs\" textLength=\"31\" x=\"120\" y=\"534.9526\">x: ~C</text><line style=\"stroke: #383838; stroke-width: 1.0;\" x1=\"115\" x2=\"132\" y1=\"518.3398\" y2=\"518.3398\"/><text fill=\"#000000\" font-family=\"sans-serif\" font-size=\"11\" lengthAdjust=\"spacingAndGlyphs\" textLength=\"30\" x=\"132\" y=\"521.6479\">ports</text><line style=\"stroke: #383838; stroke-width: 1.0;\" x1=\"162\" x2=\"179\" y1=\"518.3398\" y2=\"518.3398\"/></a><!--MD5=[60a26617385b1d2d0262a64233df1f8d]\n",
       "class E6--><a href=\"psysml:c128dc79-fecf-4cdb-b1ba-5850a9b121ec\" target=\"_top\" title=\"psysml:c128dc79-fecf-4cdb-b1ba-5850a9b121ec\" xlink:actuate=\"onRequest\" xlink:href=\"psysml:c128dc79-fecf-4cdb-b1ba-5850a9b121ec\" xlink:show=\"new\" xlink:title=\"psysml:c128dc79-fecf-4cdb-b1ba-5850a9b121ec\" xlink:type=\"simple\"><rect fill=\"#FFFFFF\" height=\"45.9375\" id=\"E6\" rx=\"10\" ry=\"10\" style=\"stroke: #383838; stroke-width: 1.5;\" width=\"42\" x=\"44\" y=\"606.5\"/><text fill=\"#000000\" font-family=\"sans-serif\" font-size=\"12\" font-style=\"italic\" lengthAdjust=\"spacingAndGlyphs\" textLength=\"40\" x=\"45\" y=\"622.6387\">«part»</text><text fill=\"#000000\" font-family=\"sans-serif\" font-size=\"12\" lengthAdjust=\"spacingAndGlyphs\" textLength=\"24\" x=\"53\" y=\"636.6074\">a: A</text><line style=\"stroke: #383838; stroke-width: 1.5;\" x1=\"45\" x2=\"85\" y1=\"644.4375\" y2=\"644.4375\"/></a><!--MD5=[b9389687b975829384b498ac4b7476b2]\n",
       "class E8--><a href=\"psysml:a92372c2-fe41-425f-b40c-da5b8c1ca15d\" target=\"_top\" title=\"psysml:a92372c2-fe41-425f-b40c-da5b8c1ca15d\" xlink:actuate=\"onRequest\" xlink:href=\"psysml:a92372c2-fe41-425f-b40c-da5b8c1ca15d\" xlink:show=\"new\" xlink:title=\"psysml:a92372c2-fe41-425f-b40c-da5b8c1ca15d\" xlink:type=\"simple\"><rect fill=\"#FFFFFF\" height=\"45.9375\" id=\"E8\" style=\"stroke: #383838; stroke-width: 1.5;\" width=\"66\" x=\"146\" y=\"41\"/><text fill=\"#000000\" font-family=\"sans-serif\" font-size=\"12\" font-style=\"italic\" lengthAdjust=\"spacingAndGlyphs\" textLength=\"64\" x=\"147\" y=\"57.1387\">«port def»</text><text fill=\"#000000\" font-family=\"sans-serif\" font-size=\"12\" lengthAdjust=\"spacingAndGlyphs\" textLength=\"8\" x=\"175\" y=\"71.1074\">C</text><line style=\"stroke: #383838; stroke-width: 1.5;\" x1=\"147\" x2=\"211\" y1=\"78.9375\" y2=\"78.9375\"/></a><a href=\"psysml:f4e4ee2b-1abf-4dbd-8483-2b091bdfceaf\" target=\"_top\" title=\"psysml:f4e4ee2b-1abf-4dbd-8483-2b091bdfceaf\" xlink:actuate=\"onRequest\" xlink:href=\"psysml:f4e4ee2b-1abf-4dbd-8483-2b091bdfceaf\" xlink:show=\"new\" xlink:title=\"psysml:f4e4ee2b-1abf-4dbd-8483-2b091bdfceaf\" xlink:type=\"simple\"><polygon fill=\"#FFFFFF\" points=\"132.5,603,147.5,603,154.5,625.2969,161.5,625.2969,161.5,655.5938,132.5,655.5938,132.5,603\" style=\"stroke: #000000; stroke-width: 1.5;\"/><line style=\"stroke: #000000; stroke-width: 1.5;\" x1=\"132.5\" x2=\"154.5\" y1=\"625.2969\" y2=\"625.2969\"/><text fill=\"#000000\" font-family=\"sans-serif\" font-size=\"14\" font-weight=\"bold\" lengthAdjust=\"spacingAndGlyphs\" textLength=\"9\" x=\"136.5\" y=\"617.9951\">P</text></a><!--MD5=[2720a5a1f2c3fca2055b230370638851]\n",
       "link E2 to E3--><a href=\"psysml:488f6ee0-39a9-4dc0-b555-612cc99c37a1\" target=\"_top\" title=\"psysml:488f6ee0-39a9-4dc0-b555-612cc99c37a1\" xlink:actuate=\"onRequest\" xlink:href=\"psysml:488f6ee0-39a9-4dc0-b555-612cc99c37a1\" xlink:show=\"new\" xlink:title=\"psysml:488f6ee0-39a9-4dc0-b555-612cc99c37a1\" xlink:type=\"simple\"><path d=\"M45.1,87.22 C42.26,96.33 39.41,107.05 38,117 C36.74,125.95 37.04,135.18 38.37,144.29 \" fill=\"none\" id=\"E2-&gt;E3\" style=\"stroke: #383838; stroke-width: 1.0;\"/><polygon fill=\"#FFFFFF\" points=\"42.72,163.86,31.7597,146.8344,45.4254,143.7931,42.72,163.86\" style=\"stroke: #383838; stroke-width: 1.0;\"/><ellipse cx=\"32.4737\" cy=\"140.836\" fill=\"#383838\" rx=\"2\" ry=\"2\" style=\"stroke: #383838; stroke-width: 1.0;\"/><ellipse cx=\"42.2349\" cy=\"138.6637\" fill=\"#383838\" rx=\"2\" ry=\"2\" style=\"stroke: #383838; stroke-width: 1.0;\"/></a><!--MD5=[4672eba38e49728da53d11aeb285b987]\n",
       "reverse link E3 to E4--><a href=\"psysml:98712745-a638-4d1f-8ffc-380c342569c9\" target=\"_top\" title=\"psysml:98712745-a638-4d1f-8ffc-380c342569c9\" xlink:actuate=\"onRequest\" xlink:href=\"psysml:98712745-a638-4d1f-8ffc-380c342569c9\" xlink:show=\"new\" xlink:title=\"psysml:98712745-a638-4d1f-8ffc-380c342569c9\" xlink:type=\"simple\"><path d=\"M73.04,295.35 C74.01,306.64 75.3,318.17 77,329 C78.56,338.93 81.12,349.73 83.55,358.91 \" fill=\"none\" id=\"E3&lt;-E4\" style=\"stroke: #383838; stroke-width: 1.0;\"/><polygon fill=\"#383838\" points=\"72.03,282.25,68.5036,288.54,72.9534,294.2144,76.4798,287.9244,72.03,282.25\" style=\"stroke: #383838; stroke-width: 1.0;\"/><text fill=\"#000000\" font-family=\"sans-serif\" font-size=\"13\" lengthAdjust=\"spacingAndGlyphs\" textLength=\"8\" x=\"72.7416\" y=\"347.7821\">1</text></a><!--MD5=[1b7591eae5389033d8d09a9d6721a717]\n",
       "link E4 to E5--><a href=\"psysml:1225703b-924d-44f0-aa92-4bca49ced0c9\" target=\"_top\" title=\"psysml:1225703b-924d-44f0-aa92-4bca49ced0c9\" xlink:actuate=\"onRequest\" xlink:href=\"psysml:1225703b-924d-44f0-aa92-4bca49ced0c9\" xlink:show=\"new\" xlink:title=\"psysml:1225703b-924d-44f0-aa92-4bca49ced0c9\" xlink:type=\"simple\"><path d=\"M100.45,405.01 C106.1,416.9 113.36,432.18 120.46,447.12 \" fill=\"none\" id=\"E4-&gt;E5\" style=\"stroke: #383838; stroke-width: 1.0;\"/><polygon fill=\"#FFFFFF\" points=\"129.22,465.57,114.7395,451.4167,127.3831,445.405,129.22,465.57\" style=\"stroke: #383838; stroke-width: 1.0;\"/><ellipse cx=\"114.0981\" cy=\"445.4102\" fill=\"#383838\" rx=\"2\" ry=\"2\" style=\"stroke: #383838; stroke-width: 1.0;\"/><ellipse cx=\"123.1292\" cy=\"441.1161\" fill=\"#383838\" rx=\"2\" ry=\"2\" style=\"stroke: #383838; stroke-width: 1.0;\"/></a><!--MD5=[85d356282659285ab4b2cfe2f634dd2b]\n",
       "reverse link E5 to E6--><a href=\"psysml:a81e6d2d-a633-4d51-820c-a47602c519dd\" target=\"_top\" title=\"psysml:a81e6d2d-a633-4d51-820c-a47602c519dd\" xlink:actuate=\"onRequest\" xlink:href=\"psysml:a81e6d2d-a633-4d51-820c-a47602c519dd\" xlink:show=\"new\" xlink:title=\"psysml:a81e6d2d-a633-4d51-820c-a47602c519dd\" xlink:type=\"simple\"><path d=\"M115.19,552.9 C103,571.26 89.67,591.34 79.81,606.19 \" fill=\"none\" id=\"E5&lt;-E6\" style=\"stroke: #383838; stroke-width: 1.0;\"/><polygon fill=\"#383838\" points=\"122.4,542.05,115.7495,544.8377,115.7649,552.0488,122.4154,549.2611,122.4,542.05\" style=\"stroke: #383838; stroke-width: 1.0;\"/><text fill=\"#000000\" font-family=\"sans-serif\" font-size=\"13\" lengthAdjust=\"spacingAndGlyphs\" textLength=\"8\" x=\"74.5801\" y=\"595.3869\">1</text></a><!--MD5=[a717450b82c80b9240a525fa862496af]\n",
       "link E6 to E3--><a href=\"psysml:4883cacd-6695-4e4a-8cc2-3609b81ec9a9\" target=\"_top\" title=\"psysml:4883cacd-6695-4e4a-8cc2-3609b81ec9a9\" xlink:actuate=\"onRequest\" xlink:href=\"psysml:4883cacd-6695-4e4a-8cc2-3609b81ec9a9\" xlink:show=\"new\" xlink:title=\"psysml:4883cacd-6695-4e4a-8cc2-3609b81ec9a9\" xlink:type=\"simple\"><path d=\"M62.04,606.48 C56.26,560.47 44.57,450.84 51,359 C52.29,340.55 54.57,320.78 57.1,302.21 \" fill=\"none\" id=\"E6-&gt;E3\" style=\"stroke: #383838; stroke-width: 1.0;\"/><polygon fill=\"#FFFFFF\" points=\"59.98,282.29,64.1946,302.095,50.3382,300.0955,59.98,282.29\" style=\"stroke: #383838; stroke-width: 1.0;\"/><ellipse cx=\"61.4011\" cy=\"307.4509\" fill=\"#383838\" rx=\"2\" ry=\"2\" style=\"stroke: #383838; stroke-width: 1.0;\"/><ellipse cx=\"51.5036\" cy=\"306.0227\" fill=\"#383838\" rx=\"2\" ry=\"2\" style=\"stroke: #383838; stroke-width: 1.0;\"/></a><!--MD5=[452b418e7f8a40397a49b8c0a78acc5b]\n",
       "reverse link E5 to E7--><a href=\"psysml:5153bd7e-9106-496d-98a6-0d3fae0d20a5\" target=\"_top\" title=\"psysml:5153bd7e-9106-496d-98a6-0d3fae0d20a5\" xlink:actuate=\"onRequest\" xlink:href=\"psysml:5153bd7e-9106-496d-98a6-0d3fae0d20a5\" xlink:show=\"new\" xlink:title=\"psysml:5153bd7e-9106-496d-98a6-0d3fae0d20a5\" xlink:type=\"simple\"><path d=\"M147,557.35 C147,573.08 147,589.65 147,602.83 \" fill=\"none\" id=\"E5&lt;-E7\" style=\"stroke: #383838; stroke-width: 1.0;\"/><ellipse cx=\"147\" cy=\"550.05\" fill=\"#FFFFFF\" rx=\"8\" ry=\"8\" style=\"stroke: #383838; stroke-width: 1.0;\"/><line style=\"stroke: #383838; stroke-width: 1.0;\" x1=\"147\" x2=\"147\" y1=\"558.05\" y2=\"542.05\"/><line style=\"stroke: #383838; stroke-width: 1.0;\" x1=\"139\" x2=\"155\" y1=\"550.05\" y2=\"550.05\"/></a><!--MD5=[03c8294790d3c57651a1993cecff665f]\n",
       "reverse link E8 to E3--><a href=\"psysml:e24d69b8-a494-4022-9892-35ed42c85155\" target=\"_top\" title=\"psysml:e24d69b8-a494-4022-9892-35ed42c85155\" xlink:actuate=\"onRequest\" xlink:href=\"psysml:e24d69b8-a494-4022-9892-35ed42c85155\" xlink:show=\"new\" xlink:title=\"psysml:e24d69b8-a494-4022-9892-35ed42c85155\" xlink:type=\"simple\"><path d=\"M133.23,76.29 C111.83,84.05 88.2,96.73 75,117 C66.08,130.69 62.79,147.64 62.28,163.9 \" fill=\"none\" id=\"E8&lt;-E3\" style=\"stroke: #383838; stroke-width: 1.0;\"/><polygon fill=\"#FFFFFF\" points=\"145.81,72.16,138.863,70.2264,134.4062,75.8953,141.3532,77.8289,145.81,72.16\" style=\"stroke: #383838; stroke-width: 1.0;\"/><text fill=\"#000000\" font-family=\"sans-serif\" font-size=\"13\" lengthAdjust=\"spacingAndGlyphs\" textLength=\"7\" x=\"76\" y=\"130.0669\">y</text></a><!--MD5=[03c8294790d3c57651a1993cecff665f]\n",
       "reverse link E8 to E3--><a href=\"psysml:e24d69b8-a494-4022-9892-35ed42c85155\" target=\"_top\" title=\"psysml:e24d69b8-a494-4022-9892-35ed42c85155\" xlink:actuate=\"onRequest\" xlink:href=\"psysml:e24d69b8-a494-4022-9892-35ed42c85155\" xlink:show=\"new\" xlink:title=\"psysml:e24d69b8-a494-4022-9892-35ed42c85155\" xlink:type=\"simple\"><path d=\"M142.42,96.23 C135.86,102.73 129.41,109.8 124,117 C113.29,131.26 103.62,147.95 95.53,163.78 \" fill=\"none\" id=\"E8&lt;-E3-1\" style=\"stroke: #383838; stroke-width: 1.0;\"/><polygon fill=\"#FFFFFF\" points=\"151.98,87.18,144.8721,88.3958,143.2606,95.4245,150.3685,94.2087,151.98,87.18\" style=\"stroke: #383838; stroke-width: 1.0;\"/><text fill=\"#000000\" font-family=\"sans-serif\" font-size=\"13\" lengthAdjust=\"spacingAndGlyphs\" textLength=\"7\" x=\"125\" y=\"130.0669\">y</text></a><!--MD5=[03c8294790d3c57651a1993cecff665f]\n",
       "reverse link E8 to E3--><a href=\"psysml:e24d69b8-a494-4022-9892-35ed42c85155\" target=\"_top\" title=\"psysml:e24d69b8-a494-4022-9892-35ed42c85155\" xlink:actuate=\"onRequest\" xlink:href=\"psysml:e24d69b8-a494-4022-9892-35ed42c85155\" xlink:show=\"new\" xlink:title=\"psysml:e24d69b8-a494-4022-9892-35ed42c85155\" xlink:type=\"simple\"><path d=\"M157.29,98.05 C149.69,109.49 141.04,122.36 133,134 C123.49,147.76 112.98,162.59 103.31,176.08 \" fill=\"none\" id=\"E8&lt;-E3-2\" style=\"stroke: #383838; stroke-width: 1.0;\"/><polygon fill=\"#FFFFFF\" points=\"164.48,87.19,157.8338,89.9878,157.8602,97.1989,164.5064,94.4011,164.48,87.19\" style=\"stroke: #383838; stroke-width: 1.0;\"/><text fill=\"#000000\" font-family=\"sans-serif\" font-size=\"13\" lengthAdjust=\"spacingAndGlyphs\" textLength=\"7\" x=\"145\" y=\"130.0669\">y</text></a><!--MD5=[049ab558815ccadc2a7a6ffdb8f4a5ba]\n",
       "reverse link E8 to E5--><a href=\"psysml:e24d69b8-a494-4022-9892-35ed42c85155\" target=\"_top\" title=\"psysml:e24d69b8-a494-4022-9892-35ed42c85155\" xlink:actuate=\"onRequest\" xlink:href=\"psysml:e24d69b8-a494-4022-9892-35ed42c85155\" xlink:show=\"new\" xlink:title=\"psysml:e24d69b8-a494-4022-9892-35ed42c85155\" xlink:type=\"simple\"><path d=\"M197.26,99.16 C199.64,104.97 201.69,111.05 203,117 C204.62,124.38 203.13,126.45 203,134 C200.78,268.28 234.91,308.41 193,436 C189.61,446.32 184.1,456.5 178.05,465.68 \" fill=\"none\" id=\"E8&lt;-E5\" style=\"stroke: #383838; stroke-width: 1.0;\"/><polygon fill=\"#FFFFFF\" points=\"191.73,87.03,190.583,94.1493,196.7135,97.9463,197.8605,90.827,191.73,87.03\" style=\"stroke: #383838; stroke-width: 1.0;\"/><text fill=\"#000000\" font-family=\"sans-serif\" font-size=\"13\" lengthAdjust=\"spacingAndGlyphs\" textLength=\"7\" x=\"215\" y=\"325.0669\">y</text></a><!--MD5=[049ab558815ccadc2a7a6ffdb8f4a5ba]\n",
       "reverse link E8 to E5--><a href=\"psysml:e24d69b8-a494-4022-9892-35ed42c85155\" target=\"_top\" title=\"psysml:e24d69b8-a494-4022-9892-35ed42c85155\" xlink:actuate=\"onRequest\" xlink:href=\"psysml:e24d69b8-a494-4022-9892-35ed42c85155\" xlink:show=\"new\" xlink:title=\"psysml:e24d69b8-a494-4022-9892-35ed42c85155\" xlink:type=\"simple\"><path d=\"M169.98,99.9 C152.72,166.72 116.67,306.66 116,312 C115.06,319.5 114.57,321.58 116,329 C118.72,343.1 124.37,345.11 128,359 C137.32,394.62 142.19,436.45 144.65,465.82 \" fill=\"none\" id=\"E8&lt;-E5-1\" style=\"stroke: #383838; stroke-width: 1.0;\"/><polygon fill=\"#FFFFFF\" points=\"173.26,87.19,167.8856,91.9979,170.2567,98.8081,175.631,94.0002,173.26,87.19\" style=\"stroke: #383838; stroke-width: 1.0;\"/><text fill=\"#000000\" font-family=\"sans-serif\" font-size=\"13\" lengthAdjust=\"spacingAndGlyphs\" textLength=\"7\" x=\"117\" y=\"325.0669\">y</text></a><!--MD5=[049ab558815ccadc2a7a6ffdb8f4a5ba]\n",
       "reverse link E8 to E5--><a href=\"psysml:e24d69b8-a494-4022-9892-35ed42c85155\" target=\"_top\" title=\"psysml:e24d69b8-a494-4022-9892-35ed42c85155\" xlink:actuate=\"onRequest\" xlink:href=\"psysml:e24d69b8-a494-4022-9892-35ed42c85155\" xlink:show=\"new\" xlink:title=\"psysml:e24d69b8-a494-4022-9892-35ed42c85155\" xlink:type=\"simple\"><path d=\"M176.43,100.13 C170.48,181.57 155.79,382.66 149.71,465.95 \" fill=\"none\" id=\"E8&lt;-E5-2\" style=\"stroke: #383838; stroke-width: 1.0;\"/><polygon fill=\"#FFFFFF\" points=\"177.39,87.02,172.9589,92.709,176.506,98.9874,180.9371,93.2984,177.39,87.02\" style=\"stroke: #383838; stroke-width: 1.0;\"/><text fill=\"#000000\" font-family=\"sans-serif\" font-size=\"13\" lengthAdjust=\"spacingAndGlyphs\" textLength=\"7\" x=\"161\" y=\"325.0669\">y</text></a><!--MD5=[d0598e22e5a8a687a74bb3b7c0d99a46]\n",
       "@startuml\r\n",
       " skinparam monochrome true\r\n",
       "skinparam classbackgroundcolor white\r\n",
       "skinparam shadowing false\r\n",
       "skinparam wrapWidth 300\r\n",
       "hide circle\r\n",
       "\r\n",
       "package \"PartTest\" as E1  [[psysml:a6b62677-d27b-4bf3-83e0-375e3ba01a4b ]]  {\r\n",
       "comp usage \"f: A\" as E2  <<(T,blue) part>> [[psysml:fef66b5f-1b9d-421e-94fe-86858427a029 ]] {\r\n",
       "}\r\n",
       "comp def \"A\" as E3  <<(T,blue) part def>> [[psysml:a2cad1be-c52d-4964-a87e-891cd7289f52 ]] {\r\n",
       "- - attributes - -\r\n",
       "x\r\n",
       "y\r\n",
       "- - ports - -\r\n",
       "c: C\r\n",
       "}\r\n",
       "comp usage \"b: B\" as E4  <<(T,blue) part>> [[psysml:9dcf2186-613a-4b96-912f-a1b95f354387 ]] {\r\n",
       "}\r\n",
       "comp def \"B\" as E5  <<(T,blue) part def>> [[psysml:bbb3af71-bfb9-47e2-863f-33482c8ff081 ]] {\r\n",
       "- - ports - -\r\n",
       "x: ~C\r\n",
       "}\r\n",
       "comp usage \"a: A\" as E6  <<(T,blue) part>> [[psysml:c128dc79-fecf-4cdb-b1ba-5850a9b121ec ]] {\r\n",
       "}\r\n",
       "package \"P\" as E7  [[psysml:f4e4ee2b-1abf-4dbd-8483-2b091bdfceaf ]]  {\r\n",
       "}\r\n",
       "comp def \"C\" as E8  <<(T,blue) port def>> [[psysml:a92372c2-fe41-425f-b40c-da5b8c1ca15d ]] {\r\n",
       "}\r\n",
       "}\r\n",
       "E2 - -:|> E3 [[psysml:488f6ee0-39a9-4dc0-b555-612cc99c37a1 ]] \r\n",
       "E3 *- - \"1\"E4 [[psysml:98712745-a638-4d1f-8ffc-380c342569c9 ]] \r\n",
       "E4 - -:|> E5 [[psysml:1225703b-924d-44f0-aa92-4bca49ced0c9 ]] \r\n",
       "E5 *- - \"1\"E6 [[psysml:a81e6d2d-a633-4d51-820c-a47602c519dd ]] \r\n",
       "E6 - -:|> E3 [[psysml:4883cacd-6695-4e4a-8cc2-3609b81ec9a9 ]] \r\n",
       "E5 +- - E7 [[psysml:5153bd7e-9106-496d-98a6-0d3fae0d20a5 ]] \r\n",
       "E8 o- - E3 [[psysml:e24d69b8-a494-4022-9892-35ed42c85155 ]] : y\r\n",
       "E8 o- - E5 [[psysml:e24d69b8-a494-4022-9892-35ed42c85155 ]] : y\r\n",
       "E8 o- - E3 [[psysml:e24d69b8-a494-4022-9892-35ed42c85155 ]] : y\r\n",
       "E8 o- - E5 [[psysml:e24d69b8-a494-4022-9892-35ed42c85155 ]] : y\r\n",
       "E8 o- - E3 [[psysml:e24d69b8-a494-4022-9892-35ed42c85155 ]] : y\r\n",
       "E8 o- - E5 [[psysml:e24d69b8-a494-4022-9892-35ed42c85155 ]] : y\r\n",
       "@enduml\r\n",
       "\n",
       "PlantUML version 1.2020.13(Sat Jun 13 12:26:38 UTC 2020)\n",
       "(EPL source distribution)\n",
       "Java Runtime: OpenJDK Runtime Environment\n",
       "JVM: OpenJDK 64-Bit Server VM\n",
       "Default Encoding: UTF-8\n",
       "Language: en\n",
       "Country: null\n",
       "--></g></svg>"
      ]
     },
     "execution_count": 2,
     "metadata": {},
     "output_type": "execute_result"
    }
   ],
   "source": [
    "%viz --style=\"COMPTREE\" --view=\"Default\" \"PartTest\""
   ]
  },
  {
   "cell_type": "code",
   "execution_count": 3,
   "id": "295105c0",
   "metadata": {
    "execution": {
     "iopub.execute_input": "2021-10-03T08:29:51.756735Z",
     "iopub.status.busy": "2021-10-03T08:29:51.756389Z",
     "iopub.status.idle": "2021-10-03T08:29:51.865155Z",
     "shell.execute_reply": "2021-10-03T08:29:51.863122Z"
    }
   },
   "outputs": [
    {
     "data": {
      "image/svg+xml": [
       "<?xml version=\"1.0\" encoding=\"UTF-8\" standalone=\"no\"?><svg xmlns=\"http://www.w3.org/2000/svg\" xmlns:xlink=\"http://www.w3.org/1999/xlink\" contentScriptType=\"application/ecmascript\" contentStyleType=\"text/css\" height=\"684px\" preserveAspectRatio=\"none\" style=\"width:260px;height:684px;\" version=\"1.1\" viewBox=\"0 0 260 684\" width=\"260px\" zoomAndPan=\"magnify\"><defs/><g><!--MD5=[fbc87193dbaf4d95561dea2c320d4a47]\n",
       "cluster E1--><a href=\"psysml:a6b62677-d27b-4bf3-83e0-375e3ba01a4b\" target=\"_top\" title=\"psysml:a6b62677-d27b-4bf3-83e0-375e3ba01a4b\" xlink:actuate=\"onRequest\" xlink:href=\"psysml:a6b62677-d27b-4bf3-83e0-375e3ba01a4b\" xlink:show=\"new\" xlink:title=\"psysml:a6b62677-d27b-4bf3-83e0-375e3ba01a4b\" xlink:type=\"simple\"><polygon fill=\"#FFFFFF\" points=\"16,6,80,6,87,28.2969,238,28.2969,238,672,16,672,16,6\" style=\"stroke: #000000; stroke-width: 1.5;\"/><line style=\"stroke: #000000; stroke-width: 1.5;\" x1=\"16\" x2=\"87\" y1=\"28.2969\" y2=\"28.2969\"/><text fill=\"#000000\" font-family=\"sans-serif\" font-size=\"14\" font-weight=\"bold\" lengthAdjust=\"spacingAndGlyphs\" textLength=\"58\" x=\"20\" y=\"20.9951\">PartTest</text></a><!--MD5=[b4997ac47864f28c2f74865a473b2911]\n",
       "class E2--><a href=\"psysml:fef66b5f-1b9d-421e-94fe-86858427a029\" target=\"_top\" title=\"psysml:fef66b5f-1b9d-421e-94fe-86858427a029\" xlink:actuate=\"onRequest\" xlink:href=\"psysml:fef66b5f-1b9d-421e-94fe-86858427a029\" xlink:show=\"new\" xlink:title=\"psysml:fef66b5f-1b9d-421e-94fe-86858427a029\" xlink:type=\"simple\"><rect fill=\"#FFFFFF\" height=\"45.9375\" id=\"E2\" rx=\"10\" ry=\"10\" style=\"stroke: #383838; stroke-width: 1.5;\" width=\"42\" x=\"32\" y=\"41\"/><text fill=\"#000000\" font-family=\"sans-serif\" font-size=\"12\" font-style=\"italic\" lengthAdjust=\"spacingAndGlyphs\" textLength=\"40\" x=\"33\" y=\"57.1387\">«part»</text><text fill=\"#000000\" font-family=\"sans-serif\" font-size=\"12\" lengthAdjust=\"spacingAndGlyphs\" textLength=\"20\" x=\"43\" y=\"71.1074\">f: A</text><line style=\"stroke: #383838; stroke-width: 1.5;\" x1=\"33\" x2=\"73\" y1=\"78.9375\" y2=\"78.9375\"/></a><!--MD5=[09b614a08d8cba4a07c9adeb5e0fee81]\n",
       "class E3--><a href=\"psysml:a2cad1be-c52d-4964-a87e-891cd7289f52\" target=\"_top\" title=\"psysml:a2cad1be-c52d-4964-a87e-891cd7289f52\" xlink:actuate=\"onRequest\" xlink:href=\"psysml:a2cad1be-c52d-4964-a87e-891cd7289f52\" xlink:show=\"new\" xlink:title=\"psysml:a2cad1be-c52d-4964-a87e-891cd7289f52\" xlink:type=\"simple\"><rect fill=\"#FFFFFF\" height=\"117.9609\" id=\"E3\" style=\"stroke: #383838; stroke-width: 1.5;\" width=\"66\" x=\"37\" y=\"164\"/><text fill=\"#000000\" font-family=\"sans-serif\" font-size=\"12\" font-style=\"italic\" lengthAdjust=\"spacingAndGlyphs\" textLength=\"64\" x=\"38\" y=\"180.1387\">«part def»</text><text fill=\"#000000\" font-family=\"sans-serif\" font-size=\"12\" lengthAdjust=\"spacingAndGlyphs\" textLength=\"8\" x=\"66\" y=\"194.1074\">A</text><line style=\"stroke: #383838; stroke-width: 1.5;\" x1=\"38\" x2=\"102\" y1=\"201.9375\" y2=\"201.9375\"/><text fill=\"#000000\" font-family=\"sans-serif\" font-size=\"11\" lengthAdjust=\"spacingAndGlyphs\" textLength=\"6\" x=\"43\" y=\"232.9526\">x</text><text fill=\"#000000\" font-family=\"sans-serif\" font-size=\"11\" lengthAdjust=\"spacingAndGlyphs\" textLength=\"6\" x=\"43\" y=\"245.7573\">y</text><line style=\"stroke: #383838; stroke-width: 1.0;\" x1=\"38\" x2=\"42.5\" y1=\"216.3398\" y2=\"216.3398\"/><text fill=\"#000000\" font-family=\"sans-serif\" font-size=\"11\" lengthAdjust=\"spacingAndGlyphs\" textLength=\"55\" x=\"42.5\" y=\"219.6479\">attributes</text><line style=\"stroke: #383838; stroke-width: 1.0;\" x1=\"97.5\" x2=\"102\" y1=\"216.3398\" y2=\"216.3398\"/><text fill=\"#000000\" font-family=\"sans-serif\" font-size=\"11\" lengthAdjust=\"spacingAndGlyphs\" textLength=\"22\" x=\"43\" y=\"275.3667\">c: C</text><line style=\"stroke: #383838; stroke-width: 1.0;\" x1=\"38\" x2=\"55\" y1=\"258.7539\" y2=\"258.7539\"/><text fill=\"#000000\" font-family=\"sans-serif\" font-size=\"11\" lengthAdjust=\"spacingAndGlyphs\" textLength=\"30\" x=\"55\" y=\"262.062\">ports</text><line style=\"stroke: #383838; stroke-width: 1.0;\" x1=\"85\" x2=\"102\" y1=\"258.7539\" y2=\"258.7539\"/></a><!--MD5=[ebbe1d658d1005bcc118a6aa81145e00]\n",
       "class E4--><a href=\"psysml:9dcf2186-613a-4b96-912f-a1b95f354387\" target=\"_top\" title=\"psysml:9dcf2186-613a-4b96-912f-a1b95f354387\" xlink:actuate=\"onRequest\" xlink:href=\"psysml:9dcf2186-613a-4b96-912f-a1b95f354387\" xlink:show=\"new\" xlink:title=\"psysml:9dcf2186-613a-4b96-912f-a1b95f354387\" xlink:type=\"simple\"><rect fill=\"#FFFFFF\" height=\"45.9375\" id=\"E4\" rx=\"10\" ry=\"10\" style=\"stroke: #383838; stroke-width: 1.5;\" width=\"42\" x=\"69\" y=\"359\"/><text fill=\"#000000\" font-family=\"sans-serif\" font-size=\"12\" font-style=\"italic\" lengthAdjust=\"spacingAndGlyphs\" textLength=\"40\" x=\"70\" y=\"375.1387\">«part»</text><text fill=\"#000000\" font-family=\"sans-serif\" font-size=\"12\" lengthAdjust=\"spacingAndGlyphs\" textLength=\"24\" x=\"78\" y=\"389.1074\">b: B</text><line style=\"stroke: #383838; stroke-width: 1.5;\" x1=\"70\" x2=\"110\" y1=\"396.9375\" y2=\"396.9375\"/></a><!--MD5=[270fce915f116d4de14055a7c1d9a0f3]\n",
       "class E5--><a href=\"psysml:bbb3af71-bfb9-47e2-863f-33482c8ff081\" target=\"_top\" title=\"psysml:bbb3af71-bfb9-47e2-863f-33482c8ff081\" xlink:actuate=\"onRequest\" xlink:href=\"psysml:bbb3af71-bfb9-47e2-863f-33482c8ff081\" xlink:show=\"new\" xlink:title=\"psysml:bbb3af71-bfb9-47e2-863f-33482c8ff081\" xlink:type=\"simple\"><rect fill=\"#FFFFFF\" height=\"75.5469\" id=\"E5\" style=\"stroke: #383838; stroke-width: 1.5;\" width=\"66\" x=\"114\" y=\"466\"/><text fill=\"#000000\" font-family=\"sans-serif\" font-size=\"12\" font-style=\"italic\" lengthAdjust=\"spacingAndGlyphs\" textLength=\"64\" x=\"115\" y=\"482.1387\">«part def»</text><text fill=\"#000000\" font-family=\"sans-serif\" font-size=\"12\" lengthAdjust=\"spacingAndGlyphs\" textLength=\"8\" x=\"143\" y=\"496.1074\">B</text><line style=\"stroke: #383838; stroke-width: 1.5;\" x1=\"115\" x2=\"179\" y1=\"503.9375\" y2=\"503.9375\"/><text fill=\"#000000\" font-family=\"sans-serif\" font-size=\"11\" lengthAdjust=\"spacingAndGlyphs\" textLength=\"31\" x=\"120\" y=\"534.9526\">x: ~C</text><line style=\"stroke: #383838; stroke-width: 1.0;\" x1=\"115\" x2=\"132\" y1=\"518.3398\" y2=\"518.3398\"/><text fill=\"#000000\" font-family=\"sans-serif\" font-size=\"11\" lengthAdjust=\"spacingAndGlyphs\" textLength=\"30\" x=\"132\" y=\"521.6479\">ports</text><line style=\"stroke: #383838; stroke-width: 1.0;\" x1=\"162\" x2=\"179\" y1=\"518.3398\" y2=\"518.3398\"/></a><!--MD5=[60a26617385b1d2d0262a64233df1f8d]\n",
       "class E6--><a href=\"psysml:c128dc79-fecf-4cdb-b1ba-5850a9b121ec\" target=\"_top\" title=\"psysml:c128dc79-fecf-4cdb-b1ba-5850a9b121ec\" xlink:actuate=\"onRequest\" xlink:href=\"psysml:c128dc79-fecf-4cdb-b1ba-5850a9b121ec\" xlink:show=\"new\" xlink:title=\"psysml:c128dc79-fecf-4cdb-b1ba-5850a9b121ec\" xlink:type=\"simple\"><rect fill=\"#FFFFFF\" height=\"45.9375\" id=\"E6\" rx=\"10\" ry=\"10\" style=\"stroke: #383838; stroke-width: 1.5;\" width=\"42\" x=\"44\" y=\"606.5\"/><text fill=\"#000000\" font-family=\"sans-serif\" font-size=\"12\" font-style=\"italic\" lengthAdjust=\"spacingAndGlyphs\" textLength=\"40\" x=\"45\" y=\"622.6387\">«part»</text><text fill=\"#000000\" font-family=\"sans-serif\" font-size=\"12\" lengthAdjust=\"spacingAndGlyphs\" textLength=\"24\" x=\"53\" y=\"636.6074\">a: A</text><line style=\"stroke: #383838; stroke-width: 1.5;\" x1=\"45\" x2=\"85\" y1=\"644.4375\" y2=\"644.4375\"/></a><!--MD5=[b9389687b975829384b498ac4b7476b2]\n",
       "class E8--><a href=\"psysml:a92372c2-fe41-425f-b40c-da5b8c1ca15d\" target=\"_top\" title=\"psysml:a92372c2-fe41-425f-b40c-da5b8c1ca15d\" xlink:actuate=\"onRequest\" xlink:href=\"psysml:a92372c2-fe41-425f-b40c-da5b8c1ca15d\" xlink:show=\"new\" xlink:title=\"psysml:a92372c2-fe41-425f-b40c-da5b8c1ca15d\" xlink:type=\"simple\"><rect fill=\"#FFFFFF\" height=\"45.9375\" id=\"E8\" style=\"stroke: #383838; stroke-width: 1.5;\" width=\"66\" x=\"146\" y=\"41\"/><text fill=\"#000000\" font-family=\"sans-serif\" font-size=\"12\" font-style=\"italic\" lengthAdjust=\"spacingAndGlyphs\" textLength=\"64\" x=\"147\" y=\"57.1387\">«port def»</text><text fill=\"#000000\" font-family=\"sans-serif\" font-size=\"12\" lengthAdjust=\"spacingAndGlyphs\" textLength=\"8\" x=\"175\" y=\"71.1074\">C</text><line style=\"stroke: #383838; stroke-width: 1.5;\" x1=\"147\" x2=\"211\" y1=\"78.9375\" y2=\"78.9375\"/></a><a href=\"psysml:f4e4ee2b-1abf-4dbd-8483-2b091bdfceaf\" target=\"_top\" title=\"psysml:f4e4ee2b-1abf-4dbd-8483-2b091bdfceaf\" xlink:actuate=\"onRequest\" xlink:href=\"psysml:f4e4ee2b-1abf-4dbd-8483-2b091bdfceaf\" xlink:show=\"new\" xlink:title=\"psysml:f4e4ee2b-1abf-4dbd-8483-2b091bdfceaf\" xlink:type=\"simple\"><polygon fill=\"#FFFFFF\" points=\"132.5,603,147.5,603,154.5,625.2969,161.5,625.2969,161.5,655.5938,132.5,655.5938,132.5,603\" style=\"stroke: #000000; stroke-width: 1.5;\"/><line style=\"stroke: #000000; stroke-width: 1.5;\" x1=\"132.5\" x2=\"154.5\" y1=\"625.2969\" y2=\"625.2969\"/><text fill=\"#000000\" font-family=\"sans-serif\" font-size=\"14\" font-weight=\"bold\" lengthAdjust=\"spacingAndGlyphs\" textLength=\"9\" x=\"136.5\" y=\"617.9951\">P</text></a><!--MD5=[2720a5a1f2c3fca2055b230370638851]\n",
       "link E2 to E3--><a href=\"psysml:488f6ee0-39a9-4dc0-b555-612cc99c37a1\" target=\"_top\" title=\"psysml:488f6ee0-39a9-4dc0-b555-612cc99c37a1\" xlink:actuate=\"onRequest\" xlink:href=\"psysml:488f6ee0-39a9-4dc0-b555-612cc99c37a1\" xlink:show=\"new\" xlink:title=\"psysml:488f6ee0-39a9-4dc0-b555-612cc99c37a1\" xlink:type=\"simple\"><path d=\"M45.1,87.22 C42.26,96.33 39.41,107.05 38,117 C36.74,125.95 37.04,135.18 38.37,144.29 \" fill=\"none\" id=\"E2-&gt;E3\" style=\"stroke: #383838; stroke-width: 1.0;\"/><polygon fill=\"#FFFFFF\" points=\"42.72,163.86,31.7597,146.8344,45.4254,143.7931,42.72,163.86\" style=\"stroke: #383838; stroke-width: 1.0;\"/><ellipse cx=\"32.4737\" cy=\"140.836\" fill=\"#383838\" rx=\"2\" ry=\"2\" style=\"stroke: #383838; stroke-width: 1.0;\"/><ellipse cx=\"42.2349\" cy=\"138.6637\" fill=\"#383838\" rx=\"2\" ry=\"2\" style=\"stroke: #383838; stroke-width: 1.0;\"/></a><!--MD5=[4672eba38e49728da53d11aeb285b987]\n",
       "reverse link E3 to E4--><a href=\"psysml:98712745-a638-4d1f-8ffc-380c342569c9\" target=\"_top\" title=\"psysml:98712745-a638-4d1f-8ffc-380c342569c9\" xlink:actuate=\"onRequest\" xlink:href=\"psysml:98712745-a638-4d1f-8ffc-380c342569c9\" xlink:show=\"new\" xlink:title=\"psysml:98712745-a638-4d1f-8ffc-380c342569c9\" xlink:type=\"simple\"><path d=\"M73.04,295.35 C74.01,306.64 75.3,318.17 77,329 C78.56,338.93 81.12,349.73 83.55,358.91 \" fill=\"none\" id=\"E3&lt;-E4\" style=\"stroke: #383838; stroke-width: 1.0;\"/><polygon fill=\"#383838\" points=\"72.03,282.25,68.5036,288.54,72.9534,294.2144,76.4798,287.9244,72.03,282.25\" style=\"stroke: #383838; stroke-width: 1.0;\"/><text fill=\"#000000\" font-family=\"sans-serif\" font-size=\"13\" lengthAdjust=\"spacingAndGlyphs\" textLength=\"8\" x=\"72.7416\" y=\"347.7821\">1</text></a><!--MD5=[1b7591eae5389033d8d09a9d6721a717]\n",
       "link E4 to E5--><a href=\"psysml:1225703b-924d-44f0-aa92-4bca49ced0c9\" target=\"_top\" title=\"psysml:1225703b-924d-44f0-aa92-4bca49ced0c9\" xlink:actuate=\"onRequest\" xlink:href=\"psysml:1225703b-924d-44f0-aa92-4bca49ced0c9\" xlink:show=\"new\" xlink:title=\"psysml:1225703b-924d-44f0-aa92-4bca49ced0c9\" xlink:type=\"simple\"><path d=\"M100.45,405.01 C106.1,416.9 113.36,432.18 120.46,447.12 \" fill=\"none\" id=\"E4-&gt;E5\" style=\"stroke: #383838; stroke-width: 1.0;\"/><polygon fill=\"#FFFFFF\" points=\"129.22,465.57,114.7395,451.4167,127.3831,445.405,129.22,465.57\" style=\"stroke: #383838; stroke-width: 1.0;\"/><ellipse cx=\"114.0981\" cy=\"445.4102\" fill=\"#383838\" rx=\"2\" ry=\"2\" style=\"stroke: #383838; stroke-width: 1.0;\"/><ellipse cx=\"123.1292\" cy=\"441.1161\" fill=\"#383838\" rx=\"2\" ry=\"2\" style=\"stroke: #383838; stroke-width: 1.0;\"/></a><!--MD5=[85d356282659285ab4b2cfe2f634dd2b]\n",
       "reverse link E5 to E6--><a href=\"psysml:a81e6d2d-a633-4d51-820c-a47602c519dd\" target=\"_top\" title=\"psysml:a81e6d2d-a633-4d51-820c-a47602c519dd\" xlink:actuate=\"onRequest\" xlink:href=\"psysml:a81e6d2d-a633-4d51-820c-a47602c519dd\" xlink:show=\"new\" xlink:title=\"psysml:a81e6d2d-a633-4d51-820c-a47602c519dd\" xlink:type=\"simple\"><path d=\"M115.19,552.9 C103,571.26 89.67,591.34 79.81,606.19 \" fill=\"none\" id=\"E5&lt;-E6\" style=\"stroke: #383838; stroke-width: 1.0;\"/><polygon fill=\"#383838\" points=\"122.4,542.05,115.7495,544.8377,115.7649,552.0488,122.4154,549.2611,122.4,542.05\" style=\"stroke: #383838; stroke-width: 1.0;\"/><text fill=\"#000000\" font-family=\"sans-serif\" font-size=\"13\" lengthAdjust=\"spacingAndGlyphs\" textLength=\"8\" x=\"74.5801\" y=\"595.3869\">1</text></a><!--MD5=[a717450b82c80b9240a525fa862496af]\n",
       "link E6 to E3--><a href=\"psysml:4883cacd-6695-4e4a-8cc2-3609b81ec9a9\" target=\"_top\" title=\"psysml:4883cacd-6695-4e4a-8cc2-3609b81ec9a9\" xlink:actuate=\"onRequest\" xlink:href=\"psysml:4883cacd-6695-4e4a-8cc2-3609b81ec9a9\" xlink:show=\"new\" xlink:title=\"psysml:4883cacd-6695-4e4a-8cc2-3609b81ec9a9\" xlink:type=\"simple\"><path d=\"M62.04,606.48 C56.26,560.47 44.57,450.84 51,359 C52.29,340.55 54.57,320.78 57.1,302.21 \" fill=\"none\" id=\"E6-&gt;E3\" style=\"stroke: #383838; stroke-width: 1.0;\"/><polygon fill=\"#FFFFFF\" points=\"59.98,282.29,64.1946,302.095,50.3382,300.0955,59.98,282.29\" style=\"stroke: #383838; stroke-width: 1.0;\"/><ellipse cx=\"61.4011\" cy=\"307.4509\" fill=\"#383838\" rx=\"2\" ry=\"2\" style=\"stroke: #383838; stroke-width: 1.0;\"/><ellipse cx=\"51.5036\" cy=\"306.0227\" fill=\"#383838\" rx=\"2\" ry=\"2\" style=\"stroke: #383838; stroke-width: 1.0;\"/></a><!--MD5=[452b418e7f8a40397a49b8c0a78acc5b]\n",
       "reverse link E5 to E7--><a href=\"psysml:5153bd7e-9106-496d-98a6-0d3fae0d20a5\" target=\"_top\" title=\"psysml:5153bd7e-9106-496d-98a6-0d3fae0d20a5\" xlink:actuate=\"onRequest\" xlink:href=\"psysml:5153bd7e-9106-496d-98a6-0d3fae0d20a5\" xlink:show=\"new\" xlink:title=\"psysml:5153bd7e-9106-496d-98a6-0d3fae0d20a5\" xlink:type=\"simple\"><path d=\"M147,557.35 C147,573.08 147,589.65 147,602.83 \" fill=\"none\" id=\"E5&lt;-E7\" style=\"stroke: #383838; stroke-width: 1.0;\"/><ellipse cx=\"147\" cy=\"550.05\" fill=\"#FFFFFF\" rx=\"8\" ry=\"8\" style=\"stroke: #383838; stroke-width: 1.0;\"/><line style=\"stroke: #383838; stroke-width: 1.0;\" x1=\"147\" x2=\"147\" y1=\"558.05\" y2=\"542.05\"/><line style=\"stroke: #383838; stroke-width: 1.0;\" x1=\"139\" x2=\"155\" y1=\"550.05\" y2=\"550.05\"/></a><!--MD5=[03c8294790d3c57651a1993cecff665f]\n",
       "reverse link E8 to E3--><a href=\"psysml:e24d69b8-a494-4022-9892-35ed42c85155\" target=\"_top\" title=\"psysml:e24d69b8-a494-4022-9892-35ed42c85155\" xlink:actuate=\"onRequest\" xlink:href=\"psysml:e24d69b8-a494-4022-9892-35ed42c85155\" xlink:show=\"new\" xlink:title=\"psysml:e24d69b8-a494-4022-9892-35ed42c85155\" xlink:type=\"simple\"><path d=\"M133.23,76.29 C111.83,84.05 88.2,96.73 75,117 C66.08,130.69 62.79,147.64 62.28,163.9 \" fill=\"none\" id=\"E8&lt;-E3\" style=\"stroke: #383838; stroke-width: 1.0;\"/><polygon fill=\"#FFFFFF\" points=\"145.81,72.16,138.863,70.2264,134.4062,75.8953,141.3532,77.8289,145.81,72.16\" style=\"stroke: #383838; stroke-width: 1.0;\"/><text fill=\"#000000\" font-family=\"sans-serif\" font-size=\"13\" lengthAdjust=\"spacingAndGlyphs\" textLength=\"7\" x=\"76\" y=\"130.0669\">y</text></a><!--MD5=[03c8294790d3c57651a1993cecff665f]\n",
       "reverse link E8 to E3--><a href=\"psysml:e24d69b8-a494-4022-9892-35ed42c85155\" target=\"_top\" title=\"psysml:e24d69b8-a494-4022-9892-35ed42c85155\" xlink:actuate=\"onRequest\" xlink:href=\"psysml:e24d69b8-a494-4022-9892-35ed42c85155\" xlink:show=\"new\" xlink:title=\"psysml:e24d69b8-a494-4022-9892-35ed42c85155\" xlink:type=\"simple\"><path d=\"M142.42,96.23 C135.86,102.73 129.41,109.8 124,117 C113.29,131.26 103.62,147.95 95.53,163.78 \" fill=\"none\" id=\"E8&lt;-E3-1\" style=\"stroke: #383838; stroke-width: 1.0;\"/><polygon fill=\"#FFFFFF\" points=\"151.98,87.18,144.8721,88.3958,143.2606,95.4245,150.3685,94.2087,151.98,87.18\" style=\"stroke: #383838; stroke-width: 1.0;\"/><text fill=\"#000000\" font-family=\"sans-serif\" font-size=\"13\" lengthAdjust=\"spacingAndGlyphs\" textLength=\"7\" x=\"125\" y=\"130.0669\">y</text></a><!--MD5=[03c8294790d3c57651a1993cecff665f]\n",
       "reverse link E8 to E3--><a href=\"psysml:e24d69b8-a494-4022-9892-35ed42c85155\" target=\"_top\" title=\"psysml:e24d69b8-a494-4022-9892-35ed42c85155\" xlink:actuate=\"onRequest\" xlink:href=\"psysml:e24d69b8-a494-4022-9892-35ed42c85155\" xlink:show=\"new\" xlink:title=\"psysml:e24d69b8-a494-4022-9892-35ed42c85155\" xlink:type=\"simple\"><path d=\"M157.29,98.05 C149.69,109.49 141.04,122.36 133,134 C123.49,147.76 112.98,162.59 103.31,176.08 \" fill=\"none\" id=\"E8&lt;-E3-2\" style=\"stroke: #383838; stroke-width: 1.0;\"/><polygon fill=\"#FFFFFF\" points=\"164.48,87.19,157.8338,89.9878,157.8602,97.1989,164.5064,94.4011,164.48,87.19\" style=\"stroke: #383838; stroke-width: 1.0;\"/><text fill=\"#000000\" font-family=\"sans-serif\" font-size=\"13\" lengthAdjust=\"spacingAndGlyphs\" textLength=\"7\" x=\"145\" y=\"130.0669\">y</text></a><!--MD5=[049ab558815ccadc2a7a6ffdb8f4a5ba]\n",
       "reverse link E8 to E5--><a href=\"psysml:e24d69b8-a494-4022-9892-35ed42c85155\" target=\"_top\" title=\"psysml:e24d69b8-a494-4022-9892-35ed42c85155\" xlink:actuate=\"onRequest\" xlink:href=\"psysml:e24d69b8-a494-4022-9892-35ed42c85155\" xlink:show=\"new\" xlink:title=\"psysml:e24d69b8-a494-4022-9892-35ed42c85155\" xlink:type=\"simple\"><path d=\"M197.26,99.16 C199.64,104.97 201.69,111.05 203,117 C204.62,124.38 203.13,126.45 203,134 C200.78,268.28 234.91,308.41 193,436 C189.61,446.32 184.1,456.5 178.05,465.68 \" fill=\"none\" id=\"E8&lt;-E5\" style=\"stroke: #383838; stroke-width: 1.0;\"/><polygon fill=\"#FFFFFF\" points=\"191.73,87.03,190.583,94.1493,196.7135,97.9463,197.8605,90.827,191.73,87.03\" style=\"stroke: #383838; stroke-width: 1.0;\"/><text fill=\"#000000\" font-family=\"sans-serif\" font-size=\"13\" lengthAdjust=\"spacingAndGlyphs\" textLength=\"7\" x=\"215\" y=\"325.0669\">y</text></a><!--MD5=[049ab558815ccadc2a7a6ffdb8f4a5ba]\n",
       "reverse link E8 to E5--><a href=\"psysml:e24d69b8-a494-4022-9892-35ed42c85155\" target=\"_top\" title=\"psysml:e24d69b8-a494-4022-9892-35ed42c85155\" xlink:actuate=\"onRequest\" xlink:href=\"psysml:e24d69b8-a494-4022-9892-35ed42c85155\" xlink:show=\"new\" xlink:title=\"psysml:e24d69b8-a494-4022-9892-35ed42c85155\" xlink:type=\"simple\"><path d=\"M169.98,99.9 C152.72,166.72 116.67,306.66 116,312 C115.06,319.5 114.57,321.58 116,329 C118.72,343.1 124.37,345.11 128,359 C137.32,394.62 142.19,436.45 144.65,465.82 \" fill=\"none\" id=\"E8&lt;-E5-1\" style=\"stroke: #383838; stroke-width: 1.0;\"/><polygon fill=\"#FFFFFF\" points=\"173.26,87.19,167.8856,91.9979,170.2567,98.8081,175.631,94.0002,173.26,87.19\" style=\"stroke: #383838; stroke-width: 1.0;\"/><text fill=\"#000000\" font-family=\"sans-serif\" font-size=\"13\" lengthAdjust=\"spacingAndGlyphs\" textLength=\"7\" x=\"117\" y=\"325.0669\">y</text></a><!--MD5=[049ab558815ccadc2a7a6ffdb8f4a5ba]\n",
       "reverse link E8 to E5--><a href=\"psysml:e24d69b8-a494-4022-9892-35ed42c85155\" target=\"_top\" title=\"psysml:e24d69b8-a494-4022-9892-35ed42c85155\" xlink:actuate=\"onRequest\" xlink:href=\"psysml:e24d69b8-a494-4022-9892-35ed42c85155\" xlink:show=\"new\" xlink:title=\"psysml:e24d69b8-a494-4022-9892-35ed42c85155\" xlink:type=\"simple\"><path d=\"M176.43,100.13 C170.48,181.57 155.79,382.66 149.71,465.95 \" fill=\"none\" id=\"E8&lt;-E5-2\" style=\"stroke: #383838; stroke-width: 1.0;\"/><polygon fill=\"#FFFFFF\" points=\"177.39,87.02,172.9589,92.709,176.506,98.9874,180.9371,93.2984,177.39,87.02\" style=\"stroke: #383838; stroke-width: 1.0;\"/><text fill=\"#000000\" font-family=\"sans-serif\" font-size=\"13\" lengthAdjust=\"spacingAndGlyphs\" textLength=\"7\" x=\"161\" y=\"325.0669\">y</text></a><!--MD5=[d0598e22e5a8a687a74bb3b7c0d99a46]\n",
       "@startuml\r\n",
       " skinparam monochrome true\r\n",
       "skinparam classbackgroundcolor white\r\n",
       "skinparam shadowing false\r\n",
       "skinparam wrapWidth 300\r\n",
       "hide circle\r\n",
       "\r\n",
       "package \"PartTest\" as E1  [[psysml:a6b62677-d27b-4bf3-83e0-375e3ba01a4b ]]  {\r\n",
       "comp usage \"f: A\" as E2  <<(T,blue) part>> [[psysml:fef66b5f-1b9d-421e-94fe-86858427a029 ]] {\r\n",
       "}\r\n",
       "comp def \"A\" as E3  <<(T,blue) part def>> [[psysml:a2cad1be-c52d-4964-a87e-891cd7289f52 ]] {\r\n",
       "- - attributes - -\r\n",
       "x\r\n",
       "y\r\n",
       "- - ports - -\r\n",
       "c: C\r\n",
       "}\r\n",
       "comp usage \"b: B\" as E4  <<(T,blue) part>> [[psysml:9dcf2186-613a-4b96-912f-a1b95f354387 ]] {\r\n",
       "}\r\n",
       "comp def \"B\" as E5  <<(T,blue) part def>> [[psysml:bbb3af71-bfb9-47e2-863f-33482c8ff081 ]] {\r\n",
       "- - ports - -\r\n",
       "x: ~C\r\n",
       "}\r\n",
       "comp usage \"a: A\" as E6  <<(T,blue) part>> [[psysml:c128dc79-fecf-4cdb-b1ba-5850a9b121ec ]] {\r\n",
       "}\r\n",
       "package \"P\" as E7  [[psysml:f4e4ee2b-1abf-4dbd-8483-2b091bdfceaf ]]  {\r\n",
       "}\r\n",
       "comp def \"C\" as E8  <<(T,blue) port def>> [[psysml:a92372c2-fe41-425f-b40c-da5b8c1ca15d ]] {\r\n",
       "}\r\n",
       "}\r\n",
       "E2 - -:|> E3 [[psysml:488f6ee0-39a9-4dc0-b555-612cc99c37a1 ]] \r\n",
       "E3 *- - \"1\"E4 [[psysml:98712745-a638-4d1f-8ffc-380c342569c9 ]] \r\n",
       "E4 - -:|> E5 [[psysml:1225703b-924d-44f0-aa92-4bca49ced0c9 ]] \r\n",
       "E5 *- - \"1\"E6 [[psysml:a81e6d2d-a633-4d51-820c-a47602c519dd ]] \r\n",
       "E6 - -:|> E3 [[psysml:4883cacd-6695-4e4a-8cc2-3609b81ec9a9 ]] \r\n",
       "E5 +- - E7 [[psysml:5153bd7e-9106-496d-98a6-0d3fae0d20a5 ]] \r\n",
       "E8 o- - E3 [[psysml:e24d69b8-a494-4022-9892-35ed42c85155 ]] : y\r\n",
       "E8 o- - E5 [[psysml:e24d69b8-a494-4022-9892-35ed42c85155 ]] : y\r\n",
       "E8 o- - E3 [[psysml:e24d69b8-a494-4022-9892-35ed42c85155 ]] : y\r\n",
       "E8 o- - E5 [[psysml:e24d69b8-a494-4022-9892-35ed42c85155 ]] : y\r\n",
       "E8 o- - E3 [[psysml:e24d69b8-a494-4022-9892-35ed42c85155 ]] : y\r\n",
       "E8 o- - E5 [[psysml:e24d69b8-a494-4022-9892-35ed42c85155 ]] : y\r\n",
       "@enduml\r\n",
       "\n",
       "PlantUML version 1.2020.13(Sat Jun 13 12:26:38 UTC 2020)\n",
       "(EPL source distribution)\n",
       "Java Runtime: OpenJDK Runtime Environment\n",
       "JVM: OpenJDK 64-Bit Server VM\n",
       "Default Encoding: UTF-8\n",
       "Language: en\n",
       "Country: null\n",
       "--></g></svg>"
      ]
     },
     "execution_count": 3,
     "metadata": {},
     "output_type": "execute_result"
    }
   ],
   "source": [
    "%viz --style=\"COMPTREE\" --view=\"Tree\" \"PartTest\""
   ]
  },
  {
   "cell_type": "code",
   "execution_count": 4,
   "id": "aab7d24d",
   "metadata": {
    "execution": {
     "iopub.execute_input": "2021-10-03T08:29:51.913948Z",
     "iopub.status.busy": "2021-10-03T08:29:51.913535Z",
     "iopub.status.idle": "2021-10-03T08:29:51.919940Z",
     "shell.execute_reply": "2021-10-03T08:29:51.920311Z"
    }
   },
   "outputs": [
    {
     "data": {
      "image/svg+xml": [
       "<?xml version=\"1.0\" encoding=\"UTF-8\" standalone=\"no\"?><svg xmlns=\"http://www.w3.org/2000/svg\" xmlns:xlink=\"http://www.w3.org/1999/xlink\" contentScriptType=\"application/ecmascript\" contentStyleType=\"text/css\" height=\"12px\" preserveAspectRatio=\"none\" style=\"width:12px;height:12px;\" version=\"1.1\" viewBox=\"0 0 12 12\" width=\"12px\" zoomAndPan=\"magnify\"><defs/><g><!--MD5=[f19188ef49e11757b5c46753f95d9edc]\n",
       "@startuml\r\n",
       " skinparam monochrome true\r\n",
       "skinparam classbackgroundcolor white\r\n",
       "skinparam shadowing false\r\n",
       "skinparam wrapWidth 300\r\n",
       "hide circle\r\n",
       "\r\n",
       "@enduml\r\n",
       "\n",
       "PlantUML version 1.2020.13(Sat Jun 13 12:26:38 UTC 2020)\n",
       "(EPL source distribution)\n",
       "Java Runtime: OpenJDK Runtime Environment\n",
       "JVM: OpenJDK 64-Bit Server VM\n",
       "Default Encoding: UTF-8\n",
       "Language: en\n",
       "Country: null\n",
       "--></g></svg>"
      ]
     },
     "execution_count": 4,
     "metadata": {},
     "output_type": "execute_result"
    }
   ],
   "source": [
    "%viz --style=\"COMPTREE\" --view=\"State\" \"PartTest\""
   ]
  },
  {
   "cell_type": "code",
   "execution_count": 5,
   "id": "927ee445",
   "metadata": {
    "execution": {
     "iopub.execute_input": "2021-10-03T08:29:51.970144Z",
     "iopub.status.busy": "2021-10-03T08:29:51.969678Z",
     "iopub.status.idle": "2021-10-03T08:29:52.035596Z",
     "shell.execute_reply": "2021-10-03T08:29:52.035233Z"
    }
   },
   "outputs": [
    {
     "data": {
      "image/svg+xml": [
       "<?xml version=\"1.0\" encoding=\"UTF-8\" standalone=\"no\"?><svg xmlns=\"http://www.w3.org/2000/svg\" xmlns:xlink=\"http://www.w3.org/1999/xlink\" contentScriptType=\"application/ecmascript\" contentStyleType=\"text/css\" height=\"253px\" preserveAspectRatio=\"none\" style=\"width:674px;height:253px;\" version=\"1.1\" viewBox=\"0 0 674 253\" width=\"674px\" zoomAndPan=\"magnify\"><defs/><g><!--MD5=[fbc87193dbaf4d95561dea2c320d4a47]\n",
       "cluster E1--><a href=\"psysml:a6b62677-d27b-4bf3-83e0-375e3ba01a4b\" target=\"_top\" title=\"psysml:a6b62677-d27b-4bf3-83e0-375e3ba01a4b\" xlink:actuate=\"onRequest\" xlink:href=\"psysml:a6b62677-d27b-4bf3-83e0-375e3ba01a4b\" xlink:show=\"new\" xlink:title=\"psysml:a6b62677-d27b-4bf3-83e0-375e3ba01a4b\" xlink:type=\"simple\"><polygon fill=\"#FFFFFF\" points=\"16,6,80,6,87,28.2969,652,28.2969,652,241,16,241,16,6\" style=\"stroke: #000000; stroke-width: 1.5;\"/><line style=\"stroke: #000000; stroke-width: 1.5;\" x1=\"16\" x2=\"87\" y1=\"28.2969\" y2=\"28.2969\"/><text fill=\"#000000\" font-family=\"sans-serif\" font-size=\"14\" font-weight=\"bold\" lengthAdjust=\"spacingAndGlyphs\" textLength=\"58\" x=\"20\" y=\"20.9951\">PartTest</text></a><!--MD5=[d5e69f78d87373223dbae638b30a9c99]\n",
       "cluster E3--><a href=\"psysml:a2cad1be-c52d-4964-a87e-891cd7289f52\" target=\"_top\" title=\"psysml:a2cad1be-c52d-4964-a87e-891cd7289f52\" xlink:actuate=\"onRequest\" xlink:href=\"psysml:a2cad1be-c52d-4964-a87e-891cd7289f52\" xlink:show=\"new\" xlink:title=\"psysml:a2cad1be-c52d-4964-a87e-891cd7289f52\" xlink:type=\"simple\"><rect fill=\"#FFFFFF\" height=\"159\" id=\"E3\" style=\"stroke: #383838; stroke-width: 1.5;\" width=\"226\" x=\"410\" y=\"62.5\"/><rect fill=\"#F8F8F8\" height=\"37.9375\" style=\"stroke: #383838; stroke-width: 1.5;\" width=\"226\" x=\"410\" y=\"62.5\"/><text fill=\"#000000\" font-family=\"sans-serif\" font-size=\"12\" font-style=\"italic\" lengthAdjust=\"spacingAndGlyphs\" textLength=\"64\" x=\"491\" y=\"78.6387\">«part def»</text><text fill=\"#000000\" font-family=\"sans-serif\" font-size=\"12\" lengthAdjust=\"spacingAndGlyphs\" textLength=\"8\" x=\"519\" y=\"92.6074\">A</text></a><!--MD5=[55dfccfc6c49c2d10cd1bd2211a6c90c]\n",
       "cluster E8--><a href=\"psysml:bbb3af71-bfb9-47e2-863f-33482c8ff081\" target=\"_top\" title=\"psysml:bbb3af71-bfb9-47e2-863f-33482c8ff081\" xlink:actuate=\"onRequest\" xlink:href=\"psysml:bbb3af71-bfb9-47e2-863f-33482c8ff081\" xlink:show=\"new\" xlink:title=\"psysml:bbb3af71-bfb9-47e2-863f-33482c8ff081\" xlink:type=\"simple\"><rect fill=\"#FFFFFF\" height=\"162.5\" id=\"E8\" style=\"stroke: #383838; stroke-width: 1.5;\" width=\"205\" x=\"197\" y=\"62.5\"/><rect fill=\"#F8F8F8\" height=\"37.9375\" style=\"stroke: #383838; stroke-width: 1.5;\" width=\"205\" x=\"197\" y=\"62.5\"/><text fill=\"#000000\" font-family=\"sans-serif\" font-size=\"12\" font-style=\"italic\" lengthAdjust=\"spacingAndGlyphs\" textLength=\"64\" x=\"267.5\" y=\"78.6387\">«part def»</text><text fill=\"#000000\" font-family=\"sans-serif\" font-size=\"12\" lengthAdjust=\"spacingAndGlyphs\" textLength=\"8\" x=\"295.5\" y=\"92.6074\">B</text></a><g id=\"E1.E12\"><a href=\"psysml:a92372c2-fe41-425f-b40c-da5b8c1ca15d\" target=\"_top\" title=\"psysml:a92372c2-fe41-425f-b40c-da5b8c1ca15d\" xlink:actuate=\"onRequest\" xlink:href=\"psysml:a92372c2-fe41-425f-b40c-da5b8c1ca15d\" xlink:show=\"new\" xlink:title=\"psysml:a92372c2-fe41-425f-b40c-da5b8c1ca15d\" xlink:type=\"simple\"><rect fill=\"#FFFFFF\" height=\"42.9375\" id=\"E12\" style=\"stroke: #383838; stroke-width: 1.5;\" width=\"71\" x=\"117.5\" y=\"41\"/><rect fill=\"#F8F8F8\" height=\"37.9375\" style=\"stroke: #383838; stroke-width: 1.5;\" width=\"71\" x=\"117.5\" y=\"41\"/><text fill=\"#000000\" font-family=\"sans-serif\" font-size=\"12\" font-style=\"italic\" lengthAdjust=\"spacingAndGlyphs\" textLength=\"64\" x=\"121\" y=\"57.1387\">«port def»</text><text fill=\"#000000\" font-family=\"sans-serif\" font-size=\"12\" lengthAdjust=\"spacingAndGlyphs\" textLength=\"8\" x=\"149\" y=\"71.1074\">C</text></a></g><g id=\"E1.E2\"><a href=\"psysml:fef66b5f-1b9d-421e-94fe-86858427a029\" target=\"_top\" title=\"psysml:fef66b5f-1b9d-421e-94fe-86858427a029\" xlink:actuate=\"onRequest\" xlink:href=\"psysml:fef66b5f-1b9d-421e-94fe-86858427a029\" xlink:show=\"new\" xlink:title=\"psysml:fef66b5f-1b9d-421e-94fe-86858427a029\" xlink:type=\"simple\"><rect fill=\"#FFFFFF\" height=\"40\" id=\"E2\" rx=\"10\" ry=\"10\" style=\"stroke: #383838; stroke-width: 1.5;\" width=\"50\" x=\"32\" y=\"42.5\"/><rect fill=\"#F8F8F8\" height=\"23.9688\" rx=\"10\" ry=\"10\" style=\"stroke: #F8F8F8; stroke-width: 1.5;\" width=\"50\" x=\"32\" y=\"42.5\"/><rect fill=\"#F8F8F8\" height=\"10\" style=\"stroke: #F8F8F8; stroke-width: 1.5;\" width=\"50\" x=\"32\" y=\"56.4688\"/><rect fill=\"none\" height=\"40\" id=\"E2\" rx=\"10\" ry=\"10\" style=\"stroke: #383838; stroke-width: 1.5;\" width=\"50\" x=\"32\" y=\"42.5\"/><text fill=\"#000000\" font-family=\"sans-serif\" font-size=\"12\" lengthAdjust=\"spacingAndGlyphs\" textLength=\"20\" x=\"47\" y=\"58.6387\">f: A</text></a></g><text fill=\"#000000\" font-family=\"sans-serif\" font-size=\"14\" lengthAdjust=\"spacingAndGlyphs\" textLength=\"27\" x=\"562.5\" y=\"41.1982\">c: C</text><rect fill=\"#383838\" height=\"12\" style=\"stroke: #F8F8F8; stroke-width: 1.5;\" width=\"12\" x=\"570\" y=\"56.5\"/><!--MD5=[60a26617385b1d2d0262a64233df1f8d]\n",
       "class E6--><a href=\"psysml:4215315b-f4db-4a1d-ab72-0471726dcc45\" target=\"_top\" title=\"psysml:4215315b-f4db-4a1d-ab72-0471726dcc45\" xlink:actuate=\"onRequest\" xlink:href=\"psysml:4215315b-f4db-4a1d-ab72-0471726dcc45\" xlink:show=\"new\" xlink:title=\"psysml:4215315b-f4db-4a1d-ab72-0471726dcc45\" xlink:type=\"simple\"><rect fill=\"#FFFFFF\" height=\"45.9375\" id=\"E6\" rx=\"10\" ry=\"10\" style=\"stroke: #383838; stroke-width: 1.5;\" width=\"71\" x=\"426.5\" y=\"159.5\"/><text fill=\"#000000\" font-family=\"sans-serif\" font-size=\"12\" font-style=\"italic\" lengthAdjust=\"spacingAndGlyphs\" textLength=\"69\" x=\"427.5\" y=\"175.6387\">«attribute»</text><text fill=\"#000000\" font-family=\"sans-serif\" font-size=\"12\" lengthAdjust=\"spacingAndGlyphs\" textLength=\"6\" x=\"459\" y=\"189.6074\">x</text><line style=\"stroke: #383838; stroke-width: 1.5;\" x1=\"427.5\" x2=\"496.5\" y1=\"197.4375\" y2=\"197.4375\"/></a><!--MD5=[2156ba9850f5573cc1fc38a6a4b2f02b]\n",
       "class E7--><a href=\"psysml:89a85a0a-005f-45e8-8309-6769d170c6df\" target=\"_top\" title=\"psysml:89a85a0a-005f-45e8-8309-6769d170c6df\" xlink:actuate=\"onRequest\" xlink:href=\"psysml:89a85a0a-005f-45e8-8309-6769d170c6df\" xlink:show=\"new\" xlink:title=\"psysml:89a85a0a-005f-45e8-8309-6769d170c6df\" xlink:type=\"simple\"><rect fill=\"#FFFFFF\" height=\"45.9375\" id=\"E7\" rx=\"10\" ry=\"10\" style=\"stroke: #383838; stroke-width: 1.5;\" width=\"71\" x=\"426.5\" y=\"100\"/><text fill=\"#000000\" font-family=\"sans-serif\" font-size=\"12\" font-style=\"italic\" lengthAdjust=\"spacingAndGlyphs\" textLength=\"69\" x=\"427.5\" y=\"116.1387\">«attribute»</text><text fill=\"#000000\" font-family=\"sans-serif\" font-size=\"12\" lengthAdjust=\"spacingAndGlyphs\" textLength=\"6\" x=\"459\" y=\"130.1074\">y</text><line style=\"stroke: #383838; stroke-width: 1.5;\" x1=\"427.5\" x2=\"496.5\" y1=\"137.9375\" y2=\"137.9375\"/></a><g id=\"E1.E3.E4\"><a href=\"psysml:9dcf2186-613a-4b96-912f-a1b95f354387\" target=\"_top\" title=\"psysml:9dcf2186-613a-4b96-912f-a1b95f354387\" xlink:actuate=\"onRequest\" xlink:href=\"psysml:9dcf2186-613a-4b96-912f-a1b95f354387\" xlink:show=\"new\" xlink:title=\"psysml:9dcf2186-613a-4b96-912f-a1b95f354387\" xlink:type=\"simple\"><rect fill=\"#FFFFFF\" height=\"40\" id=\"E4\" rx=\"10\" ry=\"10\" style=\"stroke: #383838; stroke-width: 1.5;\" width=\"50\" x=\"551\" y=\"162.5\"/><rect fill=\"#F8F8F8\" height=\"23.9688\" rx=\"10\" ry=\"10\" style=\"stroke: #F8F8F8; stroke-width: 1.5;\" width=\"50\" x=\"551\" y=\"162.5\"/><rect fill=\"#F8F8F8\" height=\"10\" style=\"stroke: #F8F8F8; stroke-width: 1.5;\" width=\"50\" x=\"551\" y=\"176.4688\"/><rect fill=\"none\" height=\"40\" id=\"E4\" rx=\"10\" ry=\"10\" style=\"stroke: #383838; stroke-width: 1.5;\" width=\"50\" x=\"551\" y=\"162.5\"/><text fill=\"#000000\" font-family=\"sans-serif\" font-size=\"12\" lengthAdjust=\"spacingAndGlyphs\" textLength=\"24\" x=\"564\" y=\"178.6387\">b: B</text></a></g><text fill=\"#000000\" font-family=\"sans-serif\" font-size=\"14\" lengthAdjust=\"spacingAndGlyphs\" textLength=\"38\" x=\"323\" y=\"41.1982\">x: ~C</text><rect fill=\"#383838\" height=\"12\" style=\"stroke: #F8F8F8; stroke-width: 1.5;\" width=\"12\" x=\"336\" y=\"56.5\"/><g id=\"E1.E8.E9\"><a href=\"psysml:c128dc79-fecf-4cdb-b1ba-5850a9b121ec\" target=\"_top\" title=\"psysml:c128dc79-fecf-4cdb-b1ba-5850a9b121ec\" xlink:actuate=\"onRequest\" xlink:href=\"psysml:c128dc79-fecf-4cdb-b1ba-5850a9b121ec\" xlink:show=\"new\" xlink:title=\"psysml:c128dc79-fecf-4cdb-b1ba-5850a9b121ec\" xlink:type=\"simple\"><rect fill=\"#FFFFFF\" height=\"40\" id=\"E9\" rx=\"10\" ry=\"10\" style=\"stroke: #383838; stroke-width: 1.5;\" width=\"50\" x=\"213\" y=\"103\"/><rect fill=\"#F8F8F8\" height=\"23.9688\" rx=\"10\" ry=\"10\" style=\"stroke: #F8F8F8; stroke-width: 1.5;\" width=\"50\" x=\"213\" y=\"103\"/><rect fill=\"#F8F8F8\" height=\"10\" style=\"stroke: #F8F8F8; stroke-width: 1.5;\" width=\"50\" x=\"213\" y=\"116.9688\"/><rect fill=\"none\" height=\"40\" id=\"E9\" rx=\"10\" ry=\"10\" style=\"stroke: #383838; stroke-width: 1.5;\" width=\"50\" x=\"213\" y=\"103\"/><text fill=\"#000000\" font-family=\"sans-serif\" font-size=\"12\" lengthAdjust=\"spacingAndGlyphs\" textLength=\"24\" x=\"226\" y=\"119.1387\">a: A</text></a></g><a href=\"psysml:f4e4ee2b-1abf-4dbd-8483-2b091bdfceaf\" target=\"_top\" title=\"psysml:f4e4ee2b-1abf-4dbd-8483-2b091bdfceaf\" xlink:actuate=\"onRequest\" xlink:href=\"psysml:f4e4ee2b-1abf-4dbd-8483-2b091bdfceaf\" xlink:show=\"new\" xlink:title=\"psysml:f4e4ee2b-1abf-4dbd-8483-2b091bdfceaf\" xlink:type=\"simple\"><polygon fill=\"#FFFFFF\" points=\"327.5,156,342.5,156,349.5,178.2969,356.5,178.2969,356.5,208.5938,327.5,208.5938,327.5,156\" style=\"stroke: #000000; stroke-width: 1.5;\"/><line style=\"stroke: #000000; stroke-width: 1.5;\" x1=\"327.5\" x2=\"349.5\" y1=\"178.2969\" y2=\"178.2969\"/><text fill=\"#000000\" font-family=\"sans-serif\" font-size=\"14\" font-weight=\"bold\" lengthAdjust=\"spacingAndGlyphs\" textLength=\"9\" x=\"331.5\" y=\"170.9951\">P</text></a><!--MD5=[fbb449814971db3a0b8220cf225b9e01]\n",
       "link E7 to E6--><a href=\"psysml:786244db-8099-4288-b2d9-7a0aeaae101d\" target=\"_top\" title=\"psysml:786244db-8099-4288-b2d9-7a0aeaae101d\" xlink:actuate=\"onRequest\" xlink:href=\"psysml:786244db-8099-4288-b2d9-7a0aeaae101d\" xlink:show=\"new\" xlink:title=\"psysml:786244db-8099-4288-b2d9-7a0aeaae101d\" xlink:type=\"simple\"><path d=\"M462,146.07 C462,146.2 462,146.34 462,146.47 \" fill=\"none\" id=\"E7-&gt;E6\" style=\"stroke: #383838; stroke-width: 1.0;\"/><polygon fill=\"none\" points=\"469,139.21,462,159.21,455,139.21,469,139.21\" style=\"stroke: #383838; stroke-width: 1.0;\"/></a><!--MD5=[c02cd05a0617440eaee25d6aaa450c27]\n",
       "@startuml\r\n",
       "skinparam ranksep 10\r\n",
       "skinparam rectangle {\r\n",
       " backgroundColor<<block>> LightGreen\r\n",
       "}\r\n",
       " skinparam monochrome true\r\n",
       "skinparam classbackgroundcolor white\r\n",
       "skinparam shadowing false\r\n",
       "skinparam wrapWidth 300\r\n",
       "hide circle\r\n",
       "\r\n",
       "package \"PartTest\" as E1  [[psysml:a6b62677-d27b-4bf3-83e0-375e3ba01a4b ]]  {\r\n",
       "rec usage \"f: A\" as E2  [[psysml:fef66b5f-1b9d-421e-94fe-86858427a029 ]] {\r\n",
       "}\r\n",
       "rec def \"A\" as E3  <<(T,blue) part def>> [[psysml:a2cad1be-c52d-4964-a87e-891cd7289f52 ]] {\r\n",
       "rec usage \"b: B\" as E4  [[psysml:9dcf2186-613a-4b96-912f-a1b95f354387 ]] {\r\n",
       "}\r\n",
       "portin \"c: C\" as E5  <<(T,blue) port>> [[psysml:a3147892-19dd-4d4c-8f64-71e53da800dc ]] \r\n",
       "comp usage \"x\" as E6  <<(T,blue) attribute>> [[psysml:4215315b-f4db-4a1d-ab72-0471726dcc45 ]] {\r\n",
       "}\r\n",
       "comp usage \"y\" as E7  <<(T,blue) attribute>> [[psysml:89a85a0a-005f-45e8-8309-6769d170c6df ]] {\r\n",
       "}\r\n",
       "}\r\n",
       "rec def \"B\" as E8  <<(T,blue) part def>> [[psysml:bbb3af71-bfb9-47e2-863f-33482c8ff081 ]] {\r\n",
       "rec usage \"a: A\" as E9  [[psysml:c128dc79-fecf-4cdb-b1ba-5850a9b121ec ]] {\r\n",
       "}\r\n",
       "portin \"x: ~C\" as E10  <<(T,blue) port>> [[psysml:540f6402-e62e-4ea3-b051-5d5cf5bfcb38 ]] \r\n",
       "package \"P\" as E11  [[psysml:f4e4ee2b-1abf-4dbd-8483-2b091bdfceaf ]]  {\r\n",
       "}\r\n",
       "}\r\n",
       "def \"C\" as E12  <<(T,blue) port def>> [[psysml:a92372c2-fe41-425f-b40c-da5b8c1ca15d ]] \r\n",
       "}\r\n",
       "E7 - -|> E6 [[psysml:786244db-8099-4288-b2d9-7a0aeaae101d ]] \r\n",
       "@enduml\r\n",
       "\n",
       "PlantUML version 1.2020.13(Sat Jun 13 12:26:38 UTC 2020)\n",
       "(EPL source distribution)\n",
       "Java Runtime: OpenJDK Runtime Environment\n",
       "JVM: OpenJDK 64-Bit Server VM\n",
       "Default Encoding: UTF-8\n",
       "Language: en\n",
       "Country: null\n",
       "--></g></svg>"
      ]
     },
     "execution_count": 5,
     "metadata": {},
     "output_type": "execute_result"
    }
   ],
   "source": [
    "%viz --style=\"COMPTREE\" --view=\"Interconnection\" \"PartTest\""
   ]
  },
  {
   "cell_type": "code",
   "execution_count": 6,
   "id": "687e66e2",
   "metadata": {
    "execution": {
     "iopub.execute_input": "2021-10-03T08:29:52.084622Z",
     "iopub.status.busy": "2021-10-03T08:29:52.084207Z",
     "iopub.status.idle": "2021-10-03T08:29:52.091728Z",
     "shell.execute_reply": "2021-10-03T08:29:52.092067Z"
    }
   },
   "outputs": [
    {
     "data": {
      "image/svg+xml": [
       "<?xml version=\"1.0\" encoding=\"UTF-8\" standalone=\"no\"?><svg xmlns=\"http://www.w3.org/2000/svg\" xmlns:xlink=\"http://www.w3.org/1999/xlink\" contentScriptType=\"application/ecmascript\" contentStyleType=\"text/css\" height=\"12px\" preserveAspectRatio=\"none\" style=\"width:12px;height:12px;\" version=\"1.1\" viewBox=\"0 0 12 12\" width=\"12px\" zoomAndPan=\"magnify\"><defs/><g><!--MD5=[655b888544ca4751ea36af1068543f84]\n",
       "@startuml\r\n",
       "skinparam ranksep 8\r\n",
       " skinparam monochrome true\r\n",
       "skinparam classbackgroundcolor white\r\n",
       "skinparam shadowing false\r\n",
       "skinparam wrapWidth 300\r\n",
       "hide circle\r\n",
       "\r\n",
       "@enduml\r\n",
       "\n",
       "PlantUML version 1.2020.13(Sat Jun 13 12:26:38 UTC 2020)\n",
       "(EPL source distribution)\n",
       "Java Runtime: OpenJDK Runtime Environment\n",
       "JVM: OpenJDK 64-Bit Server VM\n",
       "Default Encoding: UTF-8\n",
       "Language: en\n",
       "Country: null\n",
       "--></g></svg>"
      ]
     },
     "execution_count": 6,
     "metadata": {},
     "output_type": "execute_result"
    }
   ],
   "source": [
    "%viz --style=\"COMPTREE\" --view=\"Action\" \"PartTest\""
   ]
  },
  {
   "cell_type": "code",
   "execution_count": 7,
   "id": "d966d39d",
   "metadata": {
    "execution": {
     "iopub.execute_input": "2021-10-03T08:29:52.142035Z",
     "iopub.status.busy": "2021-10-03T08:29:52.141619Z",
     "iopub.status.idle": "2021-10-03T08:29:52.173997Z",
     "shell.execute_reply": "2021-10-03T08:29:52.174433Z"
    }
   },
   "outputs": [
    {
     "data": {
      "image/svg+xml": [
       "<?xml version=\"1.0\" encoding=\"UTF-8\" standalone=\"no\"?><svg xmlns=\"http://www.w3.org/2000/svg\" xmlns:xlink=\"http://www.w3.org/1999/xlink\" contentScriptType=\"application/ecmascript\" contentStyleType=\"text/css\" height=\"12px\" preserveAspectRatio=\"none\" style=\"width:12px;height:12px;\" version=\"1.1\" viewBox=\"0 0 12 12\" width=\"12px\" zoomAndPan=\"magnify\"><defs/><g><!--MD5=[803fc46c337be7a5c8a9831e35356779]\n",
       "@startuml\r\n",
       "skinparam roundcorner 20\r\n",
       "skinparam BoxPadding 20\r\n",
       "skinparam SequenceBoxBackgroundColor #white\r\n",
       "skinparam style strictuml\r\n",
       "skinparam maxMessageSize 100\r\n",
       " skinparam monochrome true\r\n",
       "skinparam classbackgroundcolor white\r\n",
       "skinparam shadowing false\r\n",
       "skinparam wrapWidth 300\r\n",
       "hide circle\r\n",
       "\r\n",
       "@enduml\r\n",
       "\n",
       "PlantUML version 1.2020.13(Sat Jun 13 12:26:38 UTC 2020)\n",
       "(EPL source distribution)\n",
       "Java Runtime: OpenJDK Runtime Environment\n",
       "JVM: OpenJDK 64-Bit Server VM\n",
       "Default Encoding: UTF-8\n",
       "Language: en\n",
       "Country: null\n",
       "--></g></svg>"
      ]
     },
     "execution_count": 7,
     "metadata": {},
     "output_type": "execute_result"
    }
   ],
   "source": [
    "%viz --style=\"COMPTREE\" --view=\"Sequence\" \"PartTest\""
   ]
  },
  {
   "cell_type": "code",
   "execution_count": 8,
   "id": "3f4a4486",
   "metadata": {
    "execution": {
     "iopub.execute_input": "2021-10-03T08:29:52.223728Z",
     "iopub.status.busy": "2021-10-03T08:29:52.223257Z",
     "iopub.status.idle": "2021-10-03T08:29:52.316551Z",
     "shell.execute_reply": "2021-10-03T08:29:52.313866Z"
    }
   },
   "outputs": [
    {
     "data": {
      "image/svg+xml": [
       "<?xml version=\"1.0\" encoding=\"UTF-8\" standalone=\"no\"?><svg xmlns=\"http://www.w3.org/2000/svg\" xmlns:xlink=\"http://www.w3.org/1999/xlink\" contentScriptType=\"application/ecmascript\" contentStyleType=\"text/css\" height=\"684px\" preserveAspectRatio=\"none\" style=\"width:260px;height:684px;\" version=\"1.1\" viewBox=\"0 0 260 684\" width=\"260px\" zoomAndPan=\"magnify\"><defs/><g><!--MD5=[fbc87193dbaf4d95561dea2c320d4a47]\n",
       "cluster E1--><a href=\"psysml:a6b62677-d27b-4bf3-83e0-375e3ba01a4b\" target=\"_top\" title=\"psysml:a6b62677-d27b-4bf3-83e0-375e3ba01a4b\" xlink:actuate=\"onRequest\" xlink:href=\"psysml:a6b62677-d27b-4bf3-83e0-375e3ba01a4b\" xlink:show=\"new\" xlink:title=\"psysml:a6b62677-d27b-4bf3-83e0-375e3ba01a4b\" xlink:type=\"simple\"><polygon fill=\"#FFFFFF\" points=\"16,6,80,6,87,28.2969,238,28.2969,238,672,16,672,16,6\" style=\"stroke: #000000; stroke-width: 1.5;\"/><line style=\"stroke: #000000; stroke-width: 1.5;\" x1=\"16\" x2=\"87\" y1=\"28.2969\" y2=\"28.2969\"/><text fill=\"#000000\" font-family=\"sans-serif\" font-size=\"14\" font-weight=\"bold\" lengthAdjust=\"spacingAndGlyphs\" textLength=\"58\" x=\"20\" y=\"20.9951\">PartTest</text></a><!--MD5=[b4997ac47864f28c2f74865a473b2911]\n",
       "class E2--><a href=\"psysml:fef66b5f-1b9d-421e-94fe-86858427a029\" target=\"_top\" title=\"psysml:fef66b5f-1b9d-421e-94fe-86858427a029\" xlink:actuate=\"onRequest\" xlink:href=\"psysml:fef66b5f-1b9d-421e-94fe-86858427a029\" xlink:show=\"new\" xlink:title=\"psysml:fef66b5f-1b9d-421e-94fe-86858427a029\" xlink:type=\"simple\"><rect fill=\"#FFFFFF\" height=\"45.9375\" id=\"E2\" rx=\"10\" ry=\"10\" style=\"stroke: #383838; stroke-width: 1.5;\" width=\"42\" x=\"32\" y=\"41\"/><text fill=\"#000000\" font-family=\"sans-serif\" font-size=\"12\" font-style=\"italic\" lengthAdjust=\"spacingAndGlyphs\" textLength=\"40\" x=\"33\" y=\"57.1387\">«part»</text><text fill=\"#000000\" font-family=\"sans-serif\" font-size=\"12\" lengthAdjust=\"spacingAndGlyphs\" textLength=\"20\" x=\"43\" y=\"71.1074\">f: A</text><line style=\"stroke: #383838; stroke-width: 1.5;\" x1=\"33\" x2=\"73\" y1=\"78.9375\" y2=\"78.9375\"/></a><!--MD5=[09b614a08d8cba4a07c9adeb5e0fee81]\n",
       "class E3--><a href=\"psysml:a2cad1be-c52d-4964-a87e-891cd7289f52\" target=\"_top\" title=\"psysml:a2cad1be-c52d-4964-a87e-891cd7289f52\" xlink:actuate=\"onRequest\" xlink:href=\"psysml:a2cad1be-c52d-4964-a87e-891cd7289f52\" xlink:show=\"new\" xlink:title=\"psysml:a2cad1be-c52d-4964-a87e-891cd7289f52\" xlink:type=\"simple\"><rect fill=\"#FFFFFF\" height=\"117.9609\" id=\"E3\" style=\"stroke: #383838; stroke-width: 1.5;\" width=\"66\" x=\"37\" y=\"164\"/><text fill=\"#000000\" font-family=\"sans-serif\" font-size=\"12\" font-style=\"italic\" lengthAdjust=\"spacingAndGlyphs\" textLength=\"64\" x=\"38\" y=\"180.1387\">«part def»</text><text fill=\"#000000\" font-family=\"sans-serif\" font-size=\"12\" lengthAdjust=\"spacingAndGlyphs\" textLength=\"8\" x=\"66\" y=\"194.1074\">A</text><line style=\"stroke: #383838; stroke-width: 1.5;\" x1=\"38\" x2=\"102\" y1=\"201.9375\" y2=\"201.9375\"/><text fill=\"#000000\" font-family=\"sans-serif\" font-size=\"11\" lengthAdjust=\"spacingAndGlyphs\" textLength=\"6\" x=\"43\" y=\"232.9526\">x</text><text fill=\"#000000\" font-family=\"sans-serif\" font-size=\"11\" lengthAdjust=\"spacingAndGlyphs\" textLength=\"6\" x=\"43\" y=\"245.7573\">y</text><line style=\"stroke: #383838; stroke-width: 1.0;\" x1=\"38\" x2=\"42.5\" y1=\"216.3398\" y2=\"216.3398\"/><text fill=\"#000000\" font-family=\"sans-serif\" font-size=\"11\" lengthAdjust=\"spacingAndGlyphs\" textLength=\"55\" x=\"42.5\" y=\"219.6479\">attributes</text><line style=\"stroke: #383838; stroke-width: 1.0;\" x1=\"97.5\" x2=\"102\" y1=\"216.3398\" y2=\"216.3398\"/><text fill=\"#000000\" font-family=\"sans-serif\" font-size=\"11\" lengthAdjust=\"spacingAndGlyphs\" textLength=\"22\" x=\"43\" y=\"275.3667\">c: C</text><line style=\"stroke: #383838; stroke-width: 1.0;\" x1=\"38\" x2=\"55\" y1=\"258.7539\" y2=\"258.7539\"/><text fill=\"#000000\" font-family=\"sans-serif\" font-size=\"11\" lengthAdjust=\"spacingAndGlyphs\" textLength=\"30\" x=\"55\" y=\"262.062\">ports</text><line style=\"stroke: #383838; stroke-width: 1.0;\" x1=\"85\" x2=\"102\" y1=\"258.7539\" y2=\"258.7539\"/></a><!--MD5=[ebbe1d658d1005bcc118a6aa81145e00]\n",
       "class E4--><a href=\"psysml:9dcf2186-613a-4b96-912f-a1b95f354387\" target=\"_top\" title=\"psysml:9dcf2186-613a-4b96-912f-a1b95f354387\" xlink:actuate=\"onRequest\" xlink:href=\"psysml:9dcf2186-613a-4b96-912f-a1b95f354387\" xlink:show=\"new\" xlink:title=\"psysml:9dcf2186-613a-4b96-912f-a1b95f354387\" xlink:type=\"simple\"><rect fill=\"#FFFFFF\" height=\"45.9375\" id=\"E4\" rx=\"10\" ry=\"10\" style=\"stroke: #383838; stroke-width: 1.5;\" width=\"42\" x=\"69\" y=\"359\"/><text fill=\"#000000\" font-family=\"sans-serif\" font-size=\"12\" font-style=\"italic\" lengthAdjust=\"spacingAndGlyphs\" textLength=\"40\" x=\"70\" y=\"375.1387\">«part»</text><text fill=\"#000000\" font-family=\"sans-serif\" font-size=\"12\" lengthAdjust=\"spacingAndGlyphs\" textLength=\"24\" x=\"78\" y=\"389.1074\">b: B</text><line style=\"stroke: #383838; stroke-width: 1.5;\" x1=\"70\" x2=\"110\" y1=\"396.9375\" y2=\"396.9375\"/></a><!--MD5=[270fce915f116d4de14055a7c1d9a0f3]\n",
       "class E5--><a href=\"psysml:bbb3af71-bfb9-47e2-863f-33482c8ff081\" target=\"_top\" title=\"psysml:bbb3af71-bfb9-47e2-863f-33482c8ff081\" xlink:actuate=\"onRequest\" xlink:href=\"psysml:bbb3af71-bfb9-47e2-863f-33482c8ff081\" xlink:show=\"new\" xlink:title=\"psysml:bbb3af71-bfb9-47e2-863f-33482c8ff081\" xlink:type=\"simple\"><rect fill=\"#FFFFFF\" height=\"75.5469\" id=\"E5\" style=\"stroke: #383838; stroke-width: 1.5;\" width=\"66\" x=\"114\" y=\"466\"/><text fill=\"#000000\" font-family=\"sans-serif\" font-size=\"12\" font-style=\"italic\" lengthAdjust=\"spacingAndGlyphs\" textLength=\"64\" x=\"115\" y=\"482.1387\">«part def»</text><text fill=\"#000000\" font-family=\"sans-serif\" font-size=\"12\" lengthAdjust=\"spacingAndGlyphs\" textLength=\"8\" x=\"143\" y=\"496.1074\">B</text><line style=\"stroke: #383838; stroke-width: 1.5;\" x1=\"115\" x2=\"179\" y1=\"503.9375\" y2=\"503.9375\"/><text fill=\"#000000\" font-family=\"sans-serif\" font-size=\"11\" lengthAdjust=\"spacingAndGlyphs\" textLength=\"31\" x=\"120\" y=\"534.9526\">x: ~C</text><line style=\"stroke: #383838; stroke-width: 1.0;\" x1=\"115\" x2=\"132\" y1=\"518.3398\" y2=\"518.3398\"/><text fill=\"#000000\" font-family=\"sans-serif\" font-size=\"11\" lengthAdjust=\"spacingAndGlyphs\" textLength=\"30\" x=\"132\" y=\"521.6479\">ports</text><line style=\"stroke: #383838; stroke-width: 1.0;\" x1=\"162\" x2=\"179\" y1=\"518.3398\" y2=\"518.3398\"/></a><!--MD5=[60a26617385b1d2d0262a64233df1f8d]\n",
       "class E6--><a href=\"psysml:c128dc79-fecf-4cdb-b1ba-5850a9b121ec\" target=\"_top\" title=\"psysml:c128dc79-fecf-4cdb-b1ba-5850a9b121ec\" xlink:actuate=\"onRequest\" xlink:href=\"psysml:c128dc79-fecf-4cdb-b1ba-5850a9b121ec\" xlink:show=\"new\" xlink:title=\"psysml:c128dc79-fecf-4cdb-b1ba-5850a9b121ec\" xlink:type=\"simple\"><rect fill=\"#FFFFFF\" height=\"45.9375\" id=\"E6\" rx=\"10\" ry=\"10\" style=\"stroke: #383838; stroke-width: 1.5;\" width=\"42\" x=\"44\" y=\"606.5\"/><text fill=\"#000000\" font-family=\"sans-serif\" font-size=\"12\" font-style=\"italic\" lengthAdjust=\"spacingAndGlyphs\" textLength=\"40\" x=\"45\" y=\"622.6387\">«part»</text><text fill=\"#000000\" font-family=\"sans-serif\" font-size=\"12\" lengthAdjust=\"spacingAndGlyphs\" textLength=\"24\" x=\"53\" y=\"636.6074\">a: A</text><line style=\"stroke: #383838; stroke-width: 1.5;\" x1=\"45\" x2=\"85\" y1=\"644.4375\" y2=\"644.4375\"/></a><!--MD5=[b9389687b975829384b498ac4b7476b2]\n",
       "class E8--><a href=\"psysml:a92372c2-fe41-425f-b40c-da5b8c1ca15d\" target=\"_top\" title=\"psysml:a92372c2-fe41-425f-b40c-da5b8c1ca15d\" xlink:actuate=\"onRequest\" xlink:href=\"psysml:a92372c2-fe41-425f-b40c-da5b8c1ca15d\" xlink:show=\"new\" xlink:title=\"psysml:a92372c2-fe41-425f-b40c-da5b8c1ca15d\" xlink:type=\"simple\"><rect fill=\"#FFFFFF\" height=\"45.9375\" id=\"E8\" style=\"stroke: #383838; stroke-width: 1.5;\" width=\"66\" x=\"146\" y=\"41\"/><text fill=\"#000000\" font-family=\"sans-serif\" font-size=\"12\" font-style=\"italic\" lengthAdjust=\"spacingAndGlyphs\" textLength=\"64\" x=\"147\" y=\"57.1387\">«port def»</text><text fill=\"#000000\" font-family=\"sans-serif\" font-size=\"12\" lengthAdjust=\"spacingAndGlyphs\" textLength=\"8\" x=\"175\" y=\"71.1074\">C</text><line style=\"stroke: #383838; stroke-width: 1.5;\" x1=\"147\" x2=\"211\" y1=\"78.9375\" y2=\"78.9375\"/></a><a href=\"psysml:f4e4ee2b-1abf-4dbd-8483-2b091bdfceaf\" target=\"_top\" title=\"psysml:f4e4ee2b-1abf-4dbd-8483-2b091bdfceaf\" xlink:actuate=\"onRequest\" xlink:href=\"psysml:f4e4ee2b-1abf-4dbd-8483-2b091bdfceaf\" xlink:show=\"new\" xlink:title=\"psysml:f4e4ee2b-1abf-4dbd-8483-2b091bdfceaf\" xlink:type=\"simple\"><polygon fill=\"#FFFFFF\" points=\"132.5,603,147.5,603,154.5,625.2969,161.5,625.2969,161.5,655.5938,132.5,655.5938,132.5,603\" style=\"stroke: #000000; stroke-width: 1.5;\"/><line style=\"stroke: #000000; stroke-width: 1.5;\" x1=\"132.5\" x2=\"154.5\" y1=\"625.2969\" y2=\"625.2969\"/><text fill=\"#000000\" font-family=\"sans-serif\" font-size=\"14\" font-weight=\"bold\" lengthAdjust=\"spacingAndGlyphs\" textLength=\"9\" x=\"136.5\" y=\"617.9951\">P</text></a><!--MD5=[2720a5a1f2c3fca2055b230370638851]\n",
       "link E2 to E3--><a href=\"psysml:488f6ee0-39a9-4dc0-b555-612cc99c37a1\" target=\"_top\" title=\"psysml:488f6ee0-39a9-4dc0-b555-612cc99c37a1\" xlink:actuate=\"onRequest\" xlink:href=\"psysml:488f6ee0-39a9-4dc0-b555-612cc99c37a1\" xlink:show=\"new\" xlink:title=\"psysml:488f6ee0-39a9-4dc0-b555-612cc99c37a1\" xlink:type=\"simple\"><path d=\"M45.1,87.22 C42.26,96.33 39.41,107.05 38,117 C36.74,125.95 37.04,135.18 38.37,144.29 \" fill=\"none\" id=\"E2-&gt;E3\" style=\"stroke: #383838; stroke-width: 1.0;\"/><polygon fill=\"#FFFFFF\" points=\"42.72,163.86,31.7597,146.8344,45.4254,143.7931,42.72,163.86\" style=\"stroke: #383838; stroke-width: 1.0;\"/><ellipse cx=\"32.4737\" cy=\"140.836\" fill=\"#383838\" rx=\"2\" ry=\"2\" style=\"stroke: #383838; stroke-width: 1.0;\"/><ellipse cx=\"42.2349\" cy=\"138.6637\" fill=\"#383838\" rx=\"2\" ry=\"2\" style=\"stroke: #383838; stroke-width: 1.0;\"/></a><!--MD5=[4672eba38e49728da53d11aeb285b987]\n",
       "reverse link E3 to E4--><a href=\"psysml:98712745-a638-4d1f-8ffc-380c342569c9\" target=\"_top\" title=\"psysml:98712745-a638-4d1f-8ffc-380c342569c9\" xlink:actuate=\"onRequest\" xlink:href=\"psysml:98712745-a638-4d1f-8ffc-380c342569c9\" xlink:show=\"new\" xlink:title=\"psysml:98712745-a638-4d1f-8ffc-380c342569c9\" xlink:type=\"simple\"><path d=\"M73.04,295.35 C74.01,306.64 75.3,318.17 77,329 C78.56,338.93 81.12,349.73 83.55,358.91 \" fill=\"none\" id=\"E3&lt;-E4\" style=\"stroke: #383838; stroke-width: 1.0;\"/><polygon fill=\"#383838\" points=\"72.03,282.25,68.5036,288.54,72.9534,294.2144,76.4798,287.9244,72.03,282.25\" style=\"stroke: #383838; stroke-width: 1.0;\"/><text fill=\"#000000\" font-family=\"sans-serif\" font-size=\"13\" lengthAdjust=\"spacingAndGlyphs\" textLength=\"8\" x=\"72.7416\" y=\"347.7821\">1</text></a><!--MD5=[1b7591eae5389033d8d09a9d6721a717]\n",
       "link E4 to E5--><a href=\"psysml:1225703b-924d-44f0-aa92-4bca49ced0c9\" target=\"_top\" title=\"psysml:1225703b-924d-44f0-aa92-4bca49ced0c9\" xlink:actuate=\"onRequest\" xlink:href=\"psysml:1225703b-924d-44f0-aa92-4bca49ced0c9\" xlink:show=\"new\" xlink:title=\"psysml:1225703b-924d-44f0-aa92-4bca49ced0c9\" xlink:type=\"simple\"><path d=\"M100.45,405.01 C106.1,416.9 113.36,432.18 120.46,447.12 \" fill=\"none\" id=\"E4-&gt;E5\" style=\"stroke: #383838; stroke-width: 1.0;\"/><polygon fill=\"#FFFFFF\" points=\"129.22,465.57,114.7395,451.4167,127.3831,445.405,129.22,465.57\" style=\"stroke: #383838; stroke-width: 1.0;\"/><ellipse cx=\"114.0981\" cy=\"445.4102\" fill=\"#383838\" rx=\"2\" ry=\"2\" style=\"stroke: #383838; stroke-width: 1.0;\"/><ellipse cx=\"123.1292\" cy=\"441.1161\" fill=\"#383838\" rx=\"2\" ry=\"2\" style=\"stroke: #383838; stroke-width: 1.0;\"/></a><!--MD5=[85d356282659285ab4b2cfe2f634dd2b]\n",
       "reverse link E5 to E6--><a href=\"psysml:a81e6d2d-a633-4d51-820c-a47602c519dd\" target=\"_top\" title=\"psysml:a81e6d2d-a633-4d51-820c-a47602c519dd\" xlink:actuate=\"onRequest\" xlink:href=\"psysml:a81e6d2d-a633-4d51-820c-a47602c519dd\" xlink:show=\"new\" xlink:title=\"psysml:a81e6d2d-a633-4d51-820c-a47602c519dd\" xlink:type=\"simple\"><path d=\"M115.19,552.9 C103,571.26 89.67,591.34 79.81,606.19 \" fill=\"none\" id=\"E5&lt;-E6\" style=\"stroke: #383838; stroke-width: 1.0;\"/><polygon fill=\"#383838\" points=\"122.4,542.05,115.7495,544.8377,115.7649,552.0488,122.4154,549.2611,122.4,542.05\" style=\"stroke: #383838; stroke-width: 1.0;\"/><text fill=\"#000000\" font-family=\"sans-serif\" font-size=\"13\" lengthAdjust=\"spacingAndGlyphs\" textLength=\"8\" x=\"74.5801\" y=\"595.3869\">1</text></a><!--MD5=[a717450b82c80b9240a525fa862496af]\n",
       "link E6 to E3--><a href=\"psysml:4883cacd-6695-4e4a-8cc2-3609b81ec9a9\" target=\"_top\" title=\"psysml:4883cacd-6695-4e4a-8cc2-3609b81ec9a9\" xlink:actuate=\"onRequest\" xlink:href=\"psysml:4883cacd-6695-4e4a-8cc2-3609b81ec9a9\" xlink:show=\"new\" xlink:title=\"psysml:4883cacd-6695-4e4a-8cc2-3609b81ec9a9\" xlink:type=\"simple\"><path d=\"M62.04,606.48 C56.26,560.47 44.57,450.84 51,359 C52.29,340.55 54.57,320.78 57.1,302.21 \" fill=\"none\" id=\"E6-&gt;E3\" style=\"stroke: #383838; stroke-width: 1.0;\"/><polygon fill=\"#FFFFFF\" points=\"59.98,282.29,64.1946,302.095,50.3382,300.0955,59.98,282.29\" style=\"stroke: #383838; stroke-width: 1.0;\"/><ellipse cx=\"61.4011\" cy=\"307.4509\" fill=\"#383838\" rx=\"2\" ry=\"2\" style=\"stroke: #383838; stroke-width: 1.0;\"/><ellipse cx=\"51.5036\" cy=\"306.0227\" fill=\"#383838\" rx=\"2\" ry=\"2\" style=\"stroke: #383838; stroke-width: 1.0;\"/></a><!--MD5=[452b418e7f8a40397a49b8c0a78acc5b]\n",
       "reverse link E5 to E7--><a href=\"psysml:5153bd7e-9106-496d-98a6-0d3fae0d20a5\" target=\"_top\" title=\"psysml:5153bd7e-9106-496d-98a6-0d3fae0d20a5\" xlink:actuate=\"onRequest\" xlink:href=\"psysml:5153bd7e-9106-496d-98a6-0d3fae0d20a5\" xlink:show=\"new\" xlink:title=\"psysml:5153bd7e-9106-496d-98a6-0d3fae0d20a5\" xlink:type=\"simple\"><path d=\"M147,557.35 C147,573.08 147,589.65 147,602.83 \" fill=\"none\" id=\"E5&lt;-E7\" style=\"stroke: #383838; stroke-width: 1.0;\"/><ellipse cx=\"147\" cy=\"550.05\" fill=\"#FFFFFF\" rx=\"8\" ry=\"8\" style=\"stroke: #383838; stroke-width: 1.0;\"/><line style=\"stroke: #383838; stroke-width: 1.0;\" x1=\"147\" x2=\"147\" y1=\"558.05\" y2=\"542.05\"/><line style=\"stroke: #383838; stroke-width: 1.0;\" x1=\"139\" x2=\"155\" y1=\"550.05\" y2=\"550.05\"/></a><!--MD5=[03c8294790d3c57651a1993cecff665f]\n",
       "reverse link E8 to E3--><a href=\"psysml:e24d69b8-a494-4022-9892-35ed42c85155\" target=\"_top\" title=\"psysml:e24d69b8-a494-4022-9892-35ed42c85155\" xlink:actuate=\"onRequest\" xlink:href=\"psysml:e24d69b8-a494-4022-9892-35ed42c85155\" xlink:show=\"new\" xlink:title=\"psysml:e24d69b8-a494-4022-9892-35ed42c85155\" xlink:type=\"simple\"><path d=\"M133.23,76.29 C111.83,84.05 88.2,96.73 75,117 C66.08,130.69 62.79,147.64 62.28,163.9 \" fill=\"none\" id=\"E8&lt;-E3\" style=\"stroke: #383838; stroke-width: 1.0;\"/><polygon fill=\"#FFFFFF\" points=\"145.81,72.16,138.863,70.2264,134.4062,75.8953,141.3532,77.8289,145.81,72.16\" style=\"stroke: #383838; stroke-width: 1.0;\"/><text fill=\"#000000\" font-family=\"sans-serif\" font-size=\"13\" lengthAdjust=\"spacingAndGlyphs\" textLength=\"7\" x=\"76\" y=\"130.0669\">y</text></a><!--MD5=[03c8294790d3c57651a1993cecff665f]\n",
       "reverse link E8 to E3--><a href=\"psysml:e24d69b8-a494-4022-9892-35ed42c85155\" target=\"_top\" title=\"psysml:e24d69b8-a494-4022-9892-35ed42c85155\" xlink:actuate=\"onRequest\" xlink:href=\"psysml:e24d69b8-a494-4022-9892-35ed42c85155\" xlink:show=\"new\" xlink:title=\"psysml:e24d69b8-a494-4022-9892-35ed42c85155\" xlink:type=\"simple\"><path d=\"M142.42,96.23 C135.86,102.73 129.41,109.8 124,117 C113.29,131.26 103.62,147.95 95.53,163.78 \" fill=\"none\" id=\"E8&lt;-E3-1\" style=\"stroke: #383838; stroke-width: 1.0;\"/><polygon fill=\"#FFFFFF\" points=\"151.98,87.18,144.8721,88.3958,143.2606,95.4245,150.3685,94.2087,151.98,87.18\" style=\"stroke: #383838; stroke-width: 1.0;\"/><text fill=\"#000000\" font-family=\"sans-serif\" font-size=\"13\" lengthAdjust=\"spacingAndGlyphs\" textLength=\"7\" x=\"125\" y=\"130.0669\">y</text></a><!--MD5=[03c8294790d3c57651a1993cecff665f]\n",
       "reverse link E8 to E3--><a href=\"psysml:e24d69b8-a494-4022-9892-35ed42c85155\" target=\"_top\" title=\"psysml:e24d69b8-a494-4022-9892-35ed42c85155\" xlink:actuate=\"onRequest\" xlink:href=\"psysml:e24d69b8-a494-4022-9892-35ed42c85155\" xlink:show=\"new\" xlink:title=\"psysml:e24d69b8-a494-4022-9892-35ed42c85155\" xlink:type=\"simple\"><path d=\"M157.29,98.05 C149.69,109.49 141.04,122.36 133,134 C123.49,147.76 112.98,162.59 103.31,176.08 \" fill=\"none\" id=\"E8&lt;-E3-2\" style=\"stroke: #383838; stroke-width: 1.0;\"/><polygon fill=\"#FFFFFF\" points=\"164.48,87.19,157.8338,89.9878,157.8602,97.1989,164.5064,94.4011,164.48,87.19\" style=\"stroke: #383838; stroke-width: 1.0;\"/><text fill=\"#000000\" font-family=\"sans-serif\" font-size=\"13\" lengthAdjust=\"spacingAndGlyphs\" textLength=\"7\" x=\"145\" y=\"130.0669\">y</text></a><!--MD5=[049ab558815ccadc2a7a6ffdb8f4a5ba]\n",
       "reverse link E8 to E5--><a href=\"psysml:e24d69b8-a494-4022-9892-35ed42c85155\" target=\"_top\" title=\"psysml:e24d69b8-a494-4022-9892-35ed42c85155\" xlink:actuate=\"onRequest\" xlink:href=\"psysml:e24d69b8-a494-4022-9892-35ed42c85155\" xlink:show=\"new\" xlink:title=\"psysml:e24d69b8-a494-4022-9892-35ed42c85155\" xlink:type=\"simple\"><path d=\"M197.26,99.16 C199.64,104.97 201.69,111.05 203,117 C204.62,124.38 203.13,126.45 203,134 C200.78,268.28 234.91,308.41 193,436 C189.61,446.32 184.1,456.5 178.05,465.68 \" fill=\"none\" id=\"E8&lt;-E5\" style=\"stroke: #383838; stroke-width: 1.0;\"/><polygon fill=\"#FFFFFF\" points=\"191.73,87.03,190.583,94.1493,196.7135,97.9463,197.8605,90.827,191.73,87.03\" style=\"stroke: #383838; stroke-width: 1.0;\"/><text fill=\"#000000\" font-family=\"sans-serif\" font-size=\"13\" lengthAdjust=\"spacingAndGlyphs\" textLength=\"7\" x=\"215\" y=\"325.0669\">y</text></a><!--MD5=[049ab558815ccadc2a7a6ffdb8f4a5ba]\n",
       "reverse link E8 to E5--><a href=\"psysml:e24d69b8-a494-4022-9892-35ed42c85155\" target=\"_top\" title=\"psysml:e24d69b8-a494-4022-9892-35ed42c85155\" xlink:actuate=\"onRequest\" xlink:href=\"psysml:e24d69b8-a494-4022-9892-35ed42c85155\" xlink:show=\"new\" xlink:title=\"psysml:e24d69b8-a494-4022-9892-35ed42c85155\" xlink:type=\"simple\"><path d=\"M169.98,99.9 C152.72,166.72 116.67,306.66 116,312 C115.06,319.5 114.57,321.58 116,329 C118.72,343.1 124.37,345.11 128,359 C137.32,394.62 142.19,436.45 144.65,465.82 \" fill=\"none\" id=\"E8&lt;-E5-1\" style=\"stroke: #383838; stroke-width: 1.0;\"/><polygon fill=\"#FFFFFF\" points=\"173.26,87.19,167.8856,91.9979,170.2567,98.8081,175.631,94.0002,173.26,87.19\" style=\"stroke: #383838; stroke-width: 1.0;\"/><text fill=\"#000000\" font-family=\"sans-serif\" font-size=\"13\" lengthAdjust=\"spacingAndGlyphs\" textLength=\"7\" x=\"117\" y=\"325.0669\">y</text></a><!--MD5=[049ab558815ccadc2a7a6ffdb8f4a5ba]\n",
       "reverse link E8 to E5--><a href=\"psysml:e24d69b8-a494-4022-9892-35ed42c85155\" target=\"_top\" title=\"psysml:e24d69b8-a494-4022-9892-35ed42c85155\" xlink:actuate=\"onRequest\" xlink:href=\"psysml:e24d69b8-a494-4022-9892-35ed42c85155\" xlink:show=\"new\" xlink:title=\"psysml:e24d69b8-a494-4022-9892-35ed42c85155\" xlink:type=\"simple\"><path d=\"M176.43,100.13 C170.48,181.57 155.79,382.66 149.71,465.95 \" fill=\"none\" id=\"E8&lt;-E5-2\" style=\"stroke: #383838; stroke-width: 1.0;\"/><polygon fill=\"#FFFFFF\" points=\"177.39,87.02,172.9589,92.709,176.506,98.9874,180.9371,93.2984,177.39,87.02\" style=\"stroke: #383838; stroke-width: 1.0;\"/><text fill=\"#000000\" font-family=\"sans-serif\" font-size=\"13\" lengthAdjust=\"spacingAndGlyphs\" textLength=\"7\" x=\"161\" y=\"325.0669\">y</text></a><!--MD5=[d0598e22e5a8a687a74bb3b7c0d99a46]\n",
       "@startuml\r\n",
       " skinparam monochrome true\r\n",
       "skinparam classbackgroundcolor white\r\n",
       "skinparam shadowing false\r\n",
       "skinparam wrapWidth 300\r\n",
       "hide circle\r\n",
       "\r\n",
       "package \"PartTest\" as E1  [[psysml:a6b62677-d27b-4bf3-83e0-375e3ba01a4b ]]  {\r\n",
       "comp usage \"f: A\" as E2  <<(T,blue) part>> [[psysml:fef66b5f-1b9d-421e-94fe-86858427a029 ]] {\r\n",
       "}\r\n",
       "comp def \"A\" as E3  <<(T,blue) part def>> [[psysml:a2cad1be-c52d-4964-a87e-891cd7289f52 ]] {\r\n",
       "- - attributes - -\r\n",
       "x\r\n",
       "y\r\n",
       "- - ports - -\r\n",
       "c: C\r\n",
       "}\r\n",
       "comp usage \"b: B\" as E4  <<(T,blue) part>> [[psysml:9dcf2186-613a-4b96-912f-a1b95f354387 ]] {\r\n",
       "}\r\n",
       "comp def \"B\" as E5  <<(T,blue) part def>> [[psysml:bbb3af71-bfb9-47e2-863f-33482c8ff081 ]] {\r\n",
       "- - ports - -\r\n",
       "x: ~C\r\n",
       "}\r\n",
       "comp usage \"a: A\" as E6  <<(T,blue) part>> [[psysml:c128dc79-fecf-4cdb-b1ba-5850a9b121ec ]] {\r\n",
       "}\r\n",
       "package \"P\" as E7  [[psysml:f4e4ee2b-1abf-4dbd-8483-2b091bdfceaf ]]  {\r\n",
       "}\r\n",
       "comp def \"C\" as E8  <<(T,blue) port def>> [[psysml:a92372c2-fe41-425f-b40c-da5b8c1ca15d ]] {\r\n",
       "}\r\n",
       "}\r\n",
       "E2 - -:|> E3 [[psysml:488f6ee0-39a9-4dc0-b555-612cc99c37a1 ]] \r\n",
       "E3 *- - \"1\"E4 [[psysml:98712745-a638-4d1f-8ffc-380c342569c9 ]] \r\n",
       "E4 - -:|> E5 [[psysml:1225703b-924d-44f0-aa92-4bca49ced0c9 ]] \r\n",
       "E5 *- - \"1\"E6 [[psysml:a81e6d2d-a633-4d51-820c-a47602c519dd ]] \r\n",
       "E6 - -:|> E3 [[psysml:4883cacd-6695-4e4a-8cc2-3609b81ec9a9 ]] \r\n",
       "E5 +- - E7 [[psysml:5153bd7e-9106-496d-98a6-0d3fae0d20a5 ]] \r\n",
       "E8 o- - E3 [[psysml:e24d69b8-a494-4022-9892-35ed42c85155 ]] : y\r\n",
       "E8 o- - E5 [[psysml:e24d69b8-a494-4022-9892-35ed42c85155 ]] : y\r\n",
       "E8 o- - E3 [[psysml:e24d69b8-a494-4022-9892-35ed42c85155 ]] : y\r\n",
       "E8 o- - E5 [[psysml:e24d69b8-a494-4022-9892-35ed42c85155 ]] : y\r\n",
       "E8 o- - E3 [[psysml:e24d69b8-a494-4022-9892-35ed42c85155 ]] : y\r\n",
       "E8 o- - E5 [[psysml:e24d69b8-a494-4022-9892-35ed42c85155 ]] : y\r\n",
       "@enduml\r\n",
       "\n",
       "PlantUML version 1.2020.13(Sat Jun 13 12:26:38 UTC 2020)\n",
       "(EPL source distribution)\n",
       "Java Runtime: OpenJDK Runtime Environment\n",
       "JVM: OpenJDK 64-Bit Server VM\n",
       "Default Encoding: UTF-8\n",
       "Language: en\n",
       "Country: null\n",
       "--></g></svg>"
      ]
     },
     "execution_count": 8,
     "metadata": {},
     "output_type": "execute_result"
    }
   ],
   "source": [
    "%viz --style=\"COMPTREE\" --view=\"MIXED\" \"PartTest\""
   ]
  },
  {
   "cell_type": "code",
   "execution_count": 9,
   "id": "6b67033a",
   "metadata": {
    "execution": {
     "iopub.execute_input": "2021-10-03T08:29:52.364608Z",
     "iopub.status.busy": "2021-10-03T08:29:52.364185Z",
     "iopub.status.idle": "2021-10-03T08:29:52.429345Z",
     "shell.execute_reply": "2021-10-03T08:29:52.426892Z"
    }
   },
   "outputs": [
    {
     "data": {
      "image/svg+xml": [
       "<?xml version=\"1.0\" encoding=\"UTF-8\" standalone=\"no\"?><svg xmlns=\"http://www.w3.org/2000/svg\" xmlns:xlink=\"http://www.w3.org/1999/xlink\" contentScriptType=\"application/ecmascript\" contentStyleType=\"text/css\" height=\"760px\" preserveAspectRatio=\"none\" style=\"width:423px;height:760px;\" version=\"1.1\" viewBox=\"0 0 423 760\" width=\"423px\" zoomAndPan=\"magnify\"><defs/><g><!--MD5=[fbc87193dbaf4d95561dea2c320d4a47]\n",
       "cluster E1--><a href=\"psysml:a6b62677-d27b-4bf3-83e0-375e3ba01a4b\" target=\"_top\" title=\"psysml:a6b62677-d27b-4bf3-83e0-375e3ba01a4b\" xlink:actuate=\"onRequest\" xlink:href=\"psysml:a6b62677-d27b-4bf3-83e0-375e3ba01a4b\" xlink:show=\"new\" xlink:title=\"psysml:a6b62677-d27b-4bf3-83e0-375e3ba01a4b\" xlink:type=\"simple\"><polygon fill=\"#FFFFFF\" points=\"16,6,80,6,87,28.2969,401,28.2969,401,748,16,748,16,6\" style=\"stroke: #000000; stroke-width: 1.5;\"/><line style=\"stroke: #000000; stroke-width: 1.5;\" x1=\"16\" x2=\"87\" y1=\"28.2969\" y2=\"28.2969\"/><text fill=\"#000000\" font-family=\"sans-serif\" font-size=\"14\" font-weight=\"bold\" lengthAdjust=\"spacingAndGlyphs\" textLength=\"58\" x=\"20\" y=\"20.9951\">PartTest</text></a><!--MD5=[b4997ac47864f28c2f74865a473b2911]\n",
       "class E2--><a href=\"psysml:fef66b5f-1b9d-421e-94fe-86858427a029\" target=\"_top\" title=\"psysml:fef66b5f-1b9d-421e-94fe-86858427a029\" xlink:actuate=\"onRequest\" xlink:href=\"psysml:fef66b5f-1b9d-421e-94fe-86858427a029\" xlink:show=\"new\" xlink:title=\"psysml:fef66b5f-1b9d-421e-94fe-86858427a029\" xlink:type=\"simple\"><rect fill=\"#FFFFFF\" height=\"45.9375\" id=\"E2\" rx=\"10\" ry=\"10\" style=\"stroke: #383838; stroke-width: 1.5;\" width=\"42\" x=\"201\" y=\"41\"/><text fill=\"#000000\" font-family=\"sans-serif\" font-size=\"12\" font-style=\"italic\" lengthAdjust=\"spacingAndGlyphs\" textLength=\"40\" x=\"202\" y=\"57.1387\">«part»</text><text fill=\"#000000\" font-family=\"sans-serif\" font-size=\"12\" lengthAdjust=\"spacingAndGlyphs\" textLength=\"20\" x=\"212\" y=\"71.1074\">f: A</text><line style=\"stroke: #383838; stroke-width: 1.5;\" x1=\"202\" x2=\"242\" y1=\"78.9375\" y2=\"78.9375\"/></a><!--MD5=[09b614a08d8cba4a07c9adeb5e0fee81]\n",
       "class E3--><a href=\"psysml:a2cad1be-c52d-4964-a87e-891cd7289f52\" target=\"_top\" title=\"psysml:a2cad1be-c52d-4964-a87e-891cd7289f52\" xlink:actuate=\"onRequest\" xlink:href=\"psysml:a2cad1be-c52d-4964-a87e-891cd7289f52\" xlink:show=\"new\" xlink:title=\"psysml:a2cad1be-c52d-4964-a87e-891cd7289f52\" xlink:type=\"simple\"><rect fill=\"#FFFFFF\" height=\"88.3516\" id=\"E3\" style=\"stroke: #383838; stroke-width: 1.5;\" width=\"66\" x=\"189\" y=\"148\"/><text fill=\"#000000\" font-family=\"sans-serif\" font-size=\"12\" font-style=\"italic\" lengthAdjust=\"spacingAndGlyphs\" textLength=\"64\" x=\"190\" y=\"164.1387\">«part def»</text><text fill=\"#000000\" font-family=\"sans-serif\" font-size=\"12\" lengthAdjust=\"spacingAndGlyphs\" textLength=\"8\" x=\"218\" y=\"178.1074\">A</text><line style=\"stroke: #383838; stroke-width: 1.5;\" x1=\"190\" x2=\"254\" y1=\"185.9375\" y2=\"185.9375\"/><text fill=\"#000000\" font-family=\"sans-serif\" font-size=\"11\" lengthAdjust=\"spacingAndGlyphs\" textLength=\"6\" x=\"195\" y=\"216.9526\">x</text><text fill=\"#000000\" font-family=\"sans-serif\" font-size=\"11\" lengthAdjust=\"spacingAndGlyphs\" textLength=\"6\" x=\"195\" y=\"229.7573\">y</text><line style=\"stroke: #383838; stroke-width: 1.0;\" x1=\"190\" x2=\"194.5\" y1=\"200.3398\" y2=\"200.3398\"/><text fill=\"#000000\" font-family=\"sans-serif\" font-size=\"11\" lengthAdjust=\"spacingAndGlyphs\" textLength=\"55\" x=\"194.5\" y=\"203.6479\">attributes</text><line style=\"stroke: #383838; stroke-width: 1.0;\" x1=\"249.5\" x2=\"254\" y1=\"200.3398\" y2=\"200.3398\"/></a><!--MD5=[ebbe1d658d1005bcc118a6aa81145e00]\n",
       "class E4--><a href=\"psysml:9dcf2186-613a-4b96-912f-a1b95f354387\" target=\"_top\" title=\"psysml:9dcf2186-613a-4b96-912f-a1b95f354387\" xlink:actuate=\"onRequest\" xlink:href=\"psysml:9dcf2186-613a-4b96-912f-a1b95f354387\" xlink:show=\"new\" xlink:title=\"psysml:9dcf2186-613a-4b96-912f-a1b95f354387\" xlink:type=\"simple\"><rect fill=\"#FFFFFF\" height=\"45.9375\" id=\"E4\" rx=\"10\" ry=\"10\" style=\"stroke: #383838; stroke-width: 1.5;\" width=\"42\" x=\"323\" y=\"373\"/><text fill=\"#000000\" font-family=\"sans-serif\" font-size=\"12\" font-style=\"italic\" lengthAdjust=\"spacingAndGlyphs\" textLength=\"40\" x=\"324\" y=\"389.1387\">«part»</text><text fill=\"#000000\" font-family=\"sans-serif\" font-size=\"12\" lengthAdjust=\"spacingAndGlyphs\" textLength=\"24\" x=\"332\" y=\"403.1074\">b: B</text><line style=\"stroke: #383838; stroke-width: 1.5;\" x1=\"324\" x2=\"364\" y1=\"410.9375\" y2=\"410.9375\"/></a><!--MD5=[270fce915f116d4de14055a7c1d9a0f3]\n",
       "class E5--><a href=\"psysml:a3147892-19dd-4d4c-8f64-71e53da800dc\" target=\"_top\" title=\"psysml:a3147892-19dd-4d4c-8f64-71e53da800dc\" xlink:actuate=\"onRequest\" xlink:href=\"psysml:a3147892-19dd-4d4c-8f64-71e53da800dc\" xlink:show=\"new\" xlink:title=\"psysml:a3147892-19dd-4d4c-8f64-71e53da800dc\" xlink:type=\"simple\"><rect fill=\"#FFFFFF\" height=\"45.9375\" id=\"E5\" rx=\"10\" ry=\"10\" style=\"stroke: #383838; stroke-width: 1.5;\" width=\"42\" x=\"306\" y=\"297\"/><text fill=\"#000000\" font-family=\"sans-serif\" font-size=\"12\" font-style=\"italic\" lengthAdjust=\"spacingAndGlyphs\" textLength=\"40\" x=\"307\" y=\"313.1387\">«port»</text><text fill=\"#000000\" font-family=\"sans-serif\" font-size=\"12\" lengthAdjust=\"spacingAndGlyphs\" textLength=\"23\" x=\"315.5\" y=\"327.1074\">c: C</text><line style=\"stroke: #383838; stroke-width: 1.5;\" x1=\"307\" x2=\"347\" y1=\"334.9375\" y2=\"334.9375\"/></a><!--MD5=[60a26617385b1d2d0262a64233df1f8d]\n",
       "class E6--><a href=\"psysml:bbb3af71-bfb9-47e2-863f-33482c8ff081\" target=\"_top\" title=\"psysml:bbb3af71-bfb9-47e2-863f-33482c8ff081\" xlink:actuate=\"onRequest\" xlink:href=\"psysml:bbb3af71-bfb9-47e2-863f-33482c8ff081\" xlink:show=\"new\" xlink:title=\"psysml:bbb3af71-bfb9-47e2-863f-33482c8ff081\" xlink:type=\"simple\"><rect fill=\"#FFFFFF\" height=\"45.9375\" id=\"E6\" style=\"stroke: #383838; stroke-width: 1.5;\" width=\"66\" x=\"163\" y=\"572\"/><text fill=\"#000000\" font-family=\"sans-serif\" font-size=\"12\" font-style=\"italic\" lengthAdjust=\"spacingAndGlyphs\" textLength=\"64\" x=\"164\" y=\"588.1387\">«part def»</text><text fill=\"#000000\" font-family=\"sans-serif\" font-size=\"12\" lengthAdjust=\"spacingAndGlyphs\" textLength=\"8\" x=\"192\" y=\"602.1074\">B</text><line style=\"stroke: #383838; stroke-width: 1.5;\" x1=\"164\" x2=\"228\" y1=\"609.9375\" y2=\"609.9375\"/></a><!--MD5=[2156ba9850f5573cc1fc38a6a4b2f02b]\n",
       "class E7--><a href=\"psysml:c128dc79-fecf-4cdb-b1ba-5850a9b121ec\" target=\"_top\" title=\"psysml:c128dc79-fecf-4cdb-b1ba-5850a9b121ec\" xlink:actuate=\"onRequest\" xlink:href=\"psysml:c128dc79-fecf-4cdb-b1ba-5850a9b121ec\" xlink:show=\"new\" xlink:title=\"psysml:c128dc79-fecf-4cdb-b1ba-5850a9b121ec\" xlink:type=\"simple\"><rect fill=\"#FFFFFF\" height=\"45.9375\" id=\"E7\" rx=\"10\" ry=\"10\" style=\"stroke: #383838; stroke-width: 1.5;\" width=\"42\" x=\"58\" y=\"682.5\"/><text fill=\"#000000\" font-family=\"sans-serif\" font-size=\"12\" font-style=\"italic\" lengthAdjust=\"spacingAndGlyphs\" textLength=\"40\" x=\"59\" y=\"698.6387\">«part»</text><text fill=\"#000000\" font-family=\"sans-serif\" font-size=\"12\" lengthAdjust=\"spacingAndGlyphs\" textLength=\"24\" x=\"67\" y=\"712.6074\">a: A</text><line style=\"stroke: #383838; stroke-width: 1.5;\" x1=\"59\" x2=\"99\" y1=\"720.4375\" y2=\"720.4375\"/></a><!--MD5=[b9389687b975829384b498ac4b7476b2]\n",
       "class E8--><a href=\"psysml:540f6402-e62e-4ea3-b051-5d5cf5bfcb38\" target=\"_top\" title=\"psysml:540f6402-e62e-4ea3-b051-5d5cf5bfcb38\" xlink:actuate=\"onRequest\" xlink:href=\"psysml:540f6402-e62e-4ea3-b051-5d5cf5bfcb38\" xlink:show=\"new\" xlink:title=\"psysml:540f6402-e62e-4ea3-b051-5d5cf5bfcb38\" xlink:type=\"simple\"><rect fill=\"#FFFFFF\" height=\"45.9375\" id=\"E8\" rx=\"10\" ry=\"10\" style=\"stroke: #383838; stroke-width: 1.5;\" width=\"42\" x=\"213\" y=\"682.5\"/><text fill=\"#000000\" font-family=\"sans-serif\" font-size=\"12\" font-style=\"italic\" lengthAdjust=\"spacingAndGlyphs\" textLength=\"40\" x=\"214\" y=\"698.6387\">«port»</text><text fill=\"#000000\" font-family=\"sans-serif\" font-size=\"12\" lengthAdjust=\"spacingAndGlyphs\" textLength=\"32\" x=\"218\" y=\"712.6074\">x: ~C</text><line style=\"stroke: #383838; stroke-width: 1.5;\" x1=\"214\" x2=\"254\" y1=\"720.4375\" y2=\"720.4375\"/></a><!--MD5=[96f4274e9e20536e775497830990834d]\n",
       "class E10--><a href=\"psysml:a92372c2-fe41-425f-b40c-da5b8c1ca15d\" target=\"_top\" title=\"psysml:a92372c2-fe41-425f-b40c-da5b8c1ca15d\" xlink:actuate=\"onRequest\" xlink:href=\"psysml:a92372c2-fe41-425f-b40c-da5b8c1ca15d\" xlink:show=\"new\" xlink:title=\"psysml:a92372c2-fe41-425f-b40c-da5b8c1ca15d\" xlink:type=\"simple\"><rect fill=\"#FFFFFF\" height=\"45.9375\" id=\"E10\" style=\"stroke: #383838; stroke-width: 1.5;\" width=\"66\" x=\"163\" y=\"449\"/><text fill=\"#000000\" font-family=\"sans-serif\" font-size=\"12\" font-style=\"italic\" lengthAdjust=\"spacingAndGlyphs\" textLength=\"64\" x=\"164\" y=\"465.1387\">«port def»</text><text fill=\"#000000\" font-family=\"sans-serif\" font-size=\"12\" lengthAdjust=\"spacingAndGlyphs\" textLength=\"8\" x=\"192\" y=\"479.1074\">C</text><line style=\"stroke: #383838; stroke-width: 1.5;\" x1=\"164\" x2=\"228\" y1=\"486.9375\" y2=\"486.9375\"/></a><a href=\"psysml:f4e4ee2b-1abf-4dbd-8483-2b091bdfceaf\" target=\"_top\" title=\"psysml:f4e4ee2b-1abf-4dbd-8483-2b091bdfceaf\" xlink:actuate=\"onRequest\" xlink:href=\"psysml:f4e4ee2b-1abf-4dbd-8483-2b091bdfceaf\" xlink:show=\"new\" xlink:title=\"psysml:f4e4ee2b-1abf-4dbd-8483-2b091bdfceaf\" xlink:type=\"simple\"><polygon fill=\"#FFFFFF\" points=\"148.5,679,163.5,679,170.5,701.2969,177.5,701.2969,177.5,731.5938,148.5,731.5938,148.5,679\" style=\"stroke: #000000; stroke-width: 1.5;\"/><line style=\"stroke: #000000; stroke-width: 1.5;\" x1=\"148.5\" x2=\"170.5\" y1=\"701.2969\" y2=\"701.2969\"/><text fill=\"#000000\" font-family=\"sans-serif\" font-size=\"14\" font-weight=\"bold\" lengthAdjust=\"spacingAndGlyphs\" textLength=\"9\" x=\"152.5\" y=\"693.9951\">P</text></a><!--MD5=[2720a5a1f2c3fca2055b230370638851]\n",
       "link E2 to E3--><a href=\"psysml:488f6ee0-39a9-4dc0-b555-612cc99c37a1\" target=\"_top\" title=\"psysml:488f6ee0-39a9-4dc0-b555-612cc99c37a1\" xlink:actuate=\"onRequest\" xlink:href=\"psysml:488f6ee0-39a9-4dc0-b555-612cc99c37a1\" xlink:show=\"new\" xlink:title=\"psysml:488f6ee0-39a9-4dc0-b555-612cc99c37a1\" xlink:type=\"simple\"><path d=\"M222,87.24 C222,98.62 222,113.11 222,127.62 \" fill=\"none\" id=\"E2-&gt;E3\" style=\"stroke: #383838; stroke-width: 1.0;\"/><polygon fill=\"#FFFFFF\" points=\"222,147.84,215,128.84,229,128.84,222,147.84\" style=\"stroke: #383838; stroke-width: 1.0;\"/><ellipse cx=\"217\" cy=\"123.14\" fill=\"#383838\" rx=\"2\" ry=\"2\" style=\"stroke: #383838; stroke-width: 1.0;\"/><ellipse cx=\"227\" cy=\"123.14\" fill=\"#383838\" rx=\"2\" ry=\"2\" style=\"stroke: #383838; stroke-width: 1.0;\"/></a><!--MD5=[4672eba38e49728da53d11aeb285b987]\n",
       "reverse link E3 to E4--><a href=\"psysml:98712745-a638-4d1f-8ffc-380c342569c9\" target=\"_top\" title=\"psysml:98712745-a638-4d1f-8ffc-380c342569c9\" xlink:actuate=\"onRequest\" xlink:href=\"psysml:98712745-a638-4d1f-8ffc-380c342569c9\" xlink:show=\"new\" xlink:title=\"psysml:98712745-a638-4d1f-8ffc-380c342569c9\" xlink:type=\"simple\"><path d=\"M265.7,224.56 C308.07,255.16 366,297 366,297 C366,297 366,343 366,343 C366,343 359.33,358.77 353.33,372.95 \" fill=\"none\" id=\"E3&lt;-E4\" style=\"stroke: #383838; stroke-width: 1.0;\"/><polygon fill=\"#383838\" points=\"255.04,216.86,257.5621,223.6157,264.7682,223.8859,262.246,217.1302,255.04,216.86\" style=\"stroke: #383838; stroke-width: 1.0;\"/><text fill=\"#000000\" font-family=\"sans-serif\" font-size=\"13\" lengthAdjust=\"spacingAndGlyphs\" textLength=\"8\" x=\"347.5421\" y=\"363.0588\">1</text></a><!--MD5=[191cde3d490a3f6d7bb551fe3ddca469]\n",
       "reverse link E3 to E5--><a href=\"psysml:3d3c789c-d512-4565-8d7c-059f8d1010f8\" target=\"_top\" title=\"psysml:3d3c789c-d512-4565-8d7c-059f8d1010f8\" xlink:actuate=\"onRequest\" xlink:href=\"psysml:3d3c789c-d512-4565-8d7c-059f8d1010f8\" xlink:show=\"new\" xlink:title=\"psysml:3d3c789c-d512-4565-8d7c-059f8d1010f8\" xlink:type=\"simple\"><path d=\"M263.71,243.06 C279.31,261.77 296.23,282.08 308.65,296.98 \" fill=\"none\" id=\"E3&lt;-E5\" style=\"stroke: #383838; stroke-width: 1.0;\"/><polygon fill=\"#FFFFFF\" points=\"255.22,232.87,255.9912,240.0397,262.9061,242.0854,262.1349,234.9157,255.22,232.87\" style=\"stroke: #383838; stroke-width: 1.0;\"/><text fill=\"#000000\" font-family=\"sans-serif\" font-size=\"13\" lengthAdjust=\"spacingAndGlyphs\" textLength=\"8\" x=\"294.6434\" y=\"285.8709\">1</text></a><!--MD5=[79568f1e445c3877b6a54524624ccc7d]\n",
       "link E4 to E6--><a href=\"psysml:1225703b-924d-44f0-aa92-4bca49ced0c9\" target=\"_top\" title=\"psysml:1225703b-924d-44f0-aa92-4bca49ced0c9\" xlink:actuate=\"onRequest\" xlink:href=\"psysml:1225703b-924d-44f0-aa92-4bca49ced0c9\" xlink:show=\"new\" xlink:title=\"psysml:1225703b-924d-44f0-aa92-4bca49ced0c9\" xlink:type=\"simple\"><path d=\"M327.31,419.22 C302.43,452.34 255.27,515.1 224.76,555.71 \" fill=\"none\" id=\"E4-&gt;E6\" style=\"stroke: #383838; stroke-width: 1.0;\"/><polygon fill=\"#FFFFFF\" points=\"212.63,571.87,218.4494,552.4758,229.641,560.887,212.63,571.87\" style=\"stroke: #383838; stroke-width: 1.0;\"/><ellipse cx=\"223.4728\" cy=\"549.1208\" fill=\"#383838\" rx=\"2\" ry=\"2\" style=\"stroke: #383838; stroke-width: 1.0;\"/><ellipse cx=\"231.4668\" cy=\"555.1288\" fill=\"#383838\" rx=\"2\" ry=\"2\" style=\"stroke: #383838; stroke-width: 1.0;\"/></a><!--MD5=[3f50a3473f1dfb74d3f76443e03635af]\n",
       "reverse link E6 to E7--><a href=\"psysml:a81e6d2d-a633-4d51-820c-a47602c519dd\" target=\"_top\" title=\"psysml:a81e6d2d-a633-4d51-820c-a47602c519dd\" xlink:actuate=\"onRequest\" xlink:href=\"psysml:a81e6d2d-a633-4d51-820c-a47602c519dd\" xlink:show=\"new\" xlink:title=\"psysml:a81e6d2d-a633-4d51-820c-a47602c519dd\" xlink:type=\"simple\"><path d=\"M162.35,627.2 C142.32,645.78 117.5,668.8 100.18,684.86 \" fill=\"none\" id=\"E6&lt;-E7\" style=\"stroke: #383838; stroke-width: 1.0;\"/><polygon fill=\"#383838\" points=\"172.04,618.22,164.9211,619.3695,163.2441,626.3829,170.363,625.2334,172.04,618.22\" style=\"stroke: #383838; stroke-width: 1.0;\"/><text fill=\"#000000\" font-family=\"sans-serif\" font-size=\"13\" lengthAdjust=\"spacingAndGlyphs\" textLength=\"8\" x=\"107.8914\" y=\"673.3389\">1</text></a><!--MD5=[14ccda38c055a5c0da953d572bc50960]\n",
       "link E7 to E3--><a href=\"psysml:4883cacd-6695-4e4a-8cc2-3609b81ec9a9\" target=\"_top\" title=\"psysml:4883cacd-6695-4e4a-8cc2-3609b81ec9a9\" xlink:actuate=\"onRequest\" xlink:href=\"psysml:4883cacd-6695-4e4a-8cc2-3609b81ec9a9\" xlink:show=\"new\" xlink:title=\"psysml:4883cacd-6695-4e4a-8cc2-3609b81ec9a9\" xlink:type=\"simple\"><path d=\"M69.58,682.28 C56.12,650.54 33,596 33,596 C33,319 33,319 33,319 C33,319 115.91,263.73 171.9,226.4 \" fill=\"none\" id=\"E7-&gt;E3\" style=\"stroke: #383838; stroke-width: 1.0;\"/><polygon fill=\"#FFFFFF\" points=\"188.65,215.24,176.7337,231.6107,168.9609,219.9667,188.65,215.24\" style=\"stroke: #383838; stroke-width: 1.0;\"/><ellipse cx=\"170.8825\" cy=\"233.1119\" fill=\"#383838\" rx=\"2\" ry=\"2\" style=\"stroke: #383838; stroke-width: 1.0;\"/><ellipse cx=\"165.3305\" cy=\"224.7947\" fill=\"#383838\" rx=\"2\" ry=\"2\" style=\"stroke: #383838; stroke-width: 1.0;\"/></a><!--MD5=[f4cf0736d43fd73c4ef68817c49d37d5]\n",
       "reverse link E6 to E8--><a href=\"psysml:2d844c43-a52c-43bf-b052-a300acb2bf74\" target=\"_top\" title=\"psysml:2d844c43-a52c-43bf-b052-a300acb2bf74\" xlink:actuate=\"onRequest\" xlink:href=\"psysml:2d844c43-a52c-43bf-b052-a300acb2bf74\" xlink:show=\"new\" xlink:title=\"psysml:2d844c43-a52c-43bf-b052-a300acb2bf74\" xlink:type=\"simple\"><path d=\"M208.25,630.98 C214.15,647.83 221.06,667.54 226.23,682.31 \" fill=\"none\" id=\"E6&lt;-E8\" style=\"stroke: #383838; stroke-width: 1.0;\"/><polygon fill=\"#FFFFFF\" points=\"203.78,618.22,201.9892,625.2052,207.7483,629.5449,209.5391,622.5597,203.78,618.22\" style=\"stroke: #383838; stroke-width: 1.0;\"/><text fill=\"#000000\" font-family=\"sans-serif\" font-size=\"13\" lengthAdjust=\"spacingAndGlyphs\" textLength=\"8\" x=\"215.2139\" y=\"671.5376\">1</text></a><!--MD5=[e88d06e5a652d73a6b19930eefe025a8]\n",
       "reverse link E6 to E9--><a href=\"psysml:5153bd7e-9106-496d-98a6-0d3fae0d20a5\" target=\"_top\" title=\"psysml:5153bd7e-9106-496d-98a6-0d3fae0d20a5\" xlink:actuate=\"onRequest\" xlink:href=\"psysml:5153bd7e-9106-496d-98a6-0d3fae0d20a5\" xlink:show=\"new\" xlink:title=\"psysml:5153bd7e-9106-496d-98a6-0d3fae0d20a5\" xlink:type=\"simple\"><path d=\"M184.74,633.01 C180.15,648.11 174.95,665.2 170.79,678.88 \" fill=\"none\" id=\"E6&lt;-E9\" style=\"stroke: #383838; stroke-width: 1.0;\"/><ellipse cx=\"186.9098\" cy=\"625.8731\" fill=\"#FFFFFF\" rx=\"8\" ry=\"8\" style=\"stroke: #383838; stroke-width: 1.0;\"/><line style=\"stroke: #383838; stroke-width: 1.0;\" x1=\"184.5796\" x2=\"189.24\" y1=\"633.5262\" y2=\"618.22\"/><line style=\"stroke: #383838; stroke-width: 1.0;\" x1=\"179.2567\" x2=\"194.5629\" y1=\"623.5429\" y2=\"628.2033\"/></a><!--MD5=[f78a29d5932556fa1060671a2a6507d8]\n",
       "link E5 to E10--><a href=\"psysml:63374559-c2a0-4cf8-92a3-b39a3ed3eac1\" target=\"_top\" title=\"psysml:63374559-c2a0-4cf8-92a3-b39a3ed3eac1\" xlink:actuate=\"onRequest\" xlink:href=\"psysml:63374559-c2a0-4cf8-92a3-b39a3ed3eac1\" xlink:show=\"new\" xlink:title=\"psysml:63374559-c2a0-4cf8-92a3-b39a3ed3eac1\" xlink:type=\"simple\"><path d=\"M314.29,343.24 C297.77,372.15 271,419 271,419 C271,419 258.99,427.33 244.58,437.32 \" fill=\"none\" id=\"E5-&gt;E10\" style=\"stroke: #383838; stroke-width: 1.0;\"/><polygon fill=\"#FFFFFF\" points=\"227.81,448.95,239.4292,432.3671,247.4106,443.8691,227.81,448.95\" style=\"stroke: #383838; stroke-width: 1.0;\"/><ellipse cx=\"245.2524\" cy=\"430.7606\" fill=\"#383838\" rx=\"2\" ry=\"2\" style=\"stroke: #383838; stroke-width: 1.0;\"/><ellipse cx=\"250.9534\" cy=\"438.9764\" fill=\"#383838\" rx=\"2\" ry=\"2\" style=\"stroke: #383838; stroke-width: 1.0;\"/></a><!--MD5=[8e04057e7b3cbc0dca4fc78ea351e2da]\n",
       "reverse link E10 to E3--><a href=\"psysml:e24d69b8-a494-4022-9892-35ed42c85155\" target=\"_top\" title=\"psysml:e24d69b8-a494-4022-9892-35ed42c85155\" xlink:actuate=\"onRequest\" xlink:href=\"psysml:e24d69b8-a494-4022-9892-35ed42c85155\" xlink:show=\"new\" xlink:title=\"psysml:e24d69b8-a494-4022-9892-35ed42c85155\" xlink:type=\"simple\"><path d=\"M178.7,436.94 C159.45,399.02 131,343 131,343 C131,343 131,297 131,297 C131,297 162.87,260.58 188.89,230.84 \" fill=\"none\" id=\"E10&lt;-E3\" style=\"stroke: #383838; stroke-width: 1.0;\"/><polygon fill=\"#FFFFFF\" points=\"184.83,449,185.6752,441.8386,179.3898,438.304,178.5446,445.4654,184.83,449\" style=\"stroke: #383838; stroke-width: 1.0;\"/><text fill=\"#000000\" font-family=\"sans-serif\" font-size=\"13\" lengthAdjust=\"spacingAndGlyphs\" textLength=\"7\" x=\"132\" y=\"324.5669\">y</text></a><!--MD5=[8e04057e7b3cbc0dca4fc78ea351e2da]\n",
       "reverse link E10 to E3--><a href=\"psysml:e24d69b8-a494-4022-9892-35ed42c85155\" target=\"_top\" title=\"psysml:e24d69b8-a494-4022-9892-35ed42c85155\" xlink:actuate=\"onRequest\" xlink:href=\"psysml:e24d69b8-a494-4022-9892-35ed42c85155\" xlink:show=\"new\" xlink:title=\"psysml:e24d69b8-a494-4022-9892-35ed42c85155\" xlink:type=\"simple\"><path d=\"M198.84,435.7 C202.93,384.85 210,297 210,297 C210,297 213.72,264.78 217.02,236.2 \" fill=\"none\" id=\"E10&lt;-E3-1\" style=\"stroke: #383838; stroke-width: 1.0;\"/><polygon fill=\"#FFFFFF\" points=\"197.77,448.96,202.2385,443.3002,198.7327,436.9987,194.2642,442.6584,197.77,448.96\" style=\"stroke: #383838; stroke-width: 1.0;\"/><text fill=\"#000000\" font-family=\"sans-serif\" font-size=\"13\" lengthAdjust=\"spacingAndGlyphs\" textLength=\"7\" x=\"211\" y=\"324.5669\">y</text></a><!--MD5=[8e04057e7b3cbc0dca4fc78ea351e2da]\n",
       "reverse link E10 to E3--><a href=\"psysml:e24d69b8-a494-4022-9892-35ed42c85155\" target=\"_top\" title=\"psysml:e24d69b8-a494-4022-9892-35ed42c85155\" xlink:actuate=\"onRequest\" xlink:href=\"psysml:e24d69b8-a494-4022-9892-35ed42c85155\" xlink:show=\"new\" xlink:title=\"psysml:e24d69b8-a494-4022-9892-35ed42c85155\" xlink:type=\"simple\"><path d=\"M205.33,436.36 C207.9,426.8 210,419 210,419 C210,419 223,343 223,343 C223,343 223,297 223,297 C223,297 222.69,264.78 222.42,236.2 \" fill=\"none\" id=\"E10&lt;-E3-2\" style=\"stroke: #383838; stroke-width: 1.0;\"/><polygon fill=\"#FFFFFF\" points=\"201.94,448.95,207.364,444.1982,205.0639,437.3638,199.6399,442.1156,201.94,448.95\" style=\"stroke: #383838; stroke-width: 1.0;\"/><text fill=\"#000000\" font-family=\"sans-serif\" font-size=\"13\" lengthAdjust=\"spacingAndGlyphs\" textLength=\"7\" x=\"224\" y=\"324.5669\">y</text></a><!--MD5=[604cbf994c02b74b117f728a71673cea]\n",
       "reverse link E10 to E6--><a href=\"psysml:e24d69b8-a494-4022-9892-35ed42c85155\" target=\"_top\" title=\"psysml:e24d69b8-a494-4022-9892-35ed42c85155\" xlink:actuate=\"onRequest\" xlink:href=\"psysml:e24d69b8-a494-4022-9892-35ed42c85155\" xlink:show=\"new\" xlink:title=\"psysml:e24d69b8-a494-4022-9892-35ed42c85155\" xlink:type=\"simple\"><path d=\"M202.72,507.96 C204.53,517.37 206,525 206,525 C206,525 206,542 206,542 C206,542 202.97,557.77 200.24,571.95 \" fill=\"none\" id=\"E10&lt;-E6\" style=\"stroke: #383838; stroke-width: 1.0;\"/><polygon fill=\"#FFFFFF\" points=\"200.24,495.05,197.447,501.6982,202.5096,506.8334,205.3026,500.1852,200.24,495.05\" style=\"stroke: #383838; stroke-width: 1.0;\"/><text fill=\"#000000\" font-family=\"sans-serif\" font-size=\"13\" lengthAdjust=\"spacingAndGlyphs\" textLength=\"7\" x=\"207\" y=\"538.0669\">y</text></a><!--MD5=[604cbf994c02b74b117f728a71673cea]\n",
       "reverse link E10 to E6--><a href=\"psysml:e24d69b8-a494-4022-9892-35ed42c85155\" target=\"_top\" title=\"psysml:e24d69b8-a494-4022-9892-35ed42c85155\" xlink:actuate=\"onRequest\" xlink:href=\"psysml:e24d69b8-a494-4022-9892-35ed42c85155\" xlink:show=\"new\" xlink:title=\"psysml:e24d69b8-a494-4022-9892-35ed42c85155\" xlink:type=\"simple\"><path d=\"M166.71,504.73 C156.71,515.56 148,525 148,525 C148,525 148,542 148,542 C148,542 162.56,557.77 175.64,571.95 \" fill=\"none\" id=\"E10&lt;-E6-1\" style=\"stroke: #383838; stroke-width: 1.0;\"/><polygon fill=\"#FFFFFF\" points=\"175.64,495.05,168.6318,496.7487,167.5045,503.8712,174.5126,502.1724,175.64,495.05\" style=\"stroke: #383838; stroke-width: 1.0;\"/><text fill=\"#000000\" font-family=\"sans-serif\" font-size=\"13\" lengthAdjust=\"spacingAndGlyphs\" textLength=\"7\" x=\"149\" y=\"538.0669\">y</text></a><!--MD5=[604cbf994c02b74b117f728a71673cea]\n",
       "reverse link E10 to E6--><a href=\"psysml:e24d69b8-a494-4022-9892-35ed42c85155\" target=\"_top\" title=\"psysml:e24d69b8-a494-4022-9892-35ed42c85155\" xlink:actuate=\"onRequest\" xlink:href=\"psysml:e24d69b8-a494-4022-9892-35ed42c85155\" xlink:show=\"new\" xlink:title=\"psysml:e24d69b8-a494-4022-9892-35ed42c85155\" xlink:type=\"simple\"><path d=\"M196,508.22 C196,528.81 196,554.16 196,571.95 \" fill=\"none\" id=\"E10&lt;-E6-2\" style=\"stroke: #383838; stroke-width: 1.0;\"/><polygon fill=\"#FFFFFF\" points=\"196,495.19,192,501.19,196,507.19,200,501.19,196,495.19\" style=\"stroke: #383838; stroke-width: 1.0;\"/><text fill=\"#000000\" font-family=\"sans-serif\" font-size=\"13\" lengthAdjust=\"spacingAndGlyphs\" textLength=\"7\" x=\"197\" y=\"538.0669\">y</text></a><!--MD5=[73c6199f71dcdfee03564333d48d65ff]\n",
       "@startuml\r\n",
       "skinparam linetype polyline\r\n",
       "skinparam monochrome true\r\n",
       "skinparam classbackgroundcolor white\r\n",
       "skinparam shadowing false\r\n",
       "skinparam wrapWidth 300\r\n",
       "hide circle\r\n",
       "\r\n",
       "package \"PartTest\" as E1  [[psysml:a6b62677-d27b-4bf3-83e0-375e3ba01a4b ]]  {\r\n",
       "comp usage \"f: A\" as E2  <<(T,blue) part>> [[psysml:fef66b5f-1b9d-421e-94fe-86858427a029 ]] {\r\n",
       "}\r\n",
       "comp def \"A\" as E3  <<(T,blue) part def>> [[psysml:a2cad1be-c52d-4964-a87e-891cd7289f52 ]] {\r\n",
       "- - attributes - -\r\n",
       "x\r\n",
       "y\r\n",
       "}\r\n",
       "comp usage \"b: B\" as E4  <<(T,blue) part>> [[psysml:9dcf2186-613a-4b96-912f-a1b95f354387 ]] {\r\n",
       "}\r\n",
       "comp usage \"c: C\" as E5  <<(T,blue) port>> [[psysml:a3147892-19dd-4d4c-8f64-71e53da800dc ]] {\r\n",
       "}\r\n",
       "comp def \"B\" as E6  <<(T,blue) part def>> [[psysml:bbb3af71-bfb9-47e2-863f-33482c8ff081 ]] {\r\n",
       "}\r\n",
       "comp usage \"a: A\" as E7  <<(T,blue) part>> [[psysml:c128dc79-fecf-4cdb-b1ba-5850a9b121ec ]] {\r\n",
       "}\r\n",
       "comp usage \"x: ~C\" as E8  <<(T,blue) port>> [[psysml:540f6402-e62e-4ea3-b051-5d5cf5bfcb38 ]] {\r\n",
       "}\r\n",
       "package \"P\" as E9  [[psysml:f4e4ee2b-1abf-4dbd-8483-2b091bdfceaf ]]  {\r\n",
       "}\r\n",
       "comp def \"C\" as E10  <<(T,blue) port def>> [[psysml:a92372c2-fe41-425f-b40c-da5b8c1ca15d ]] {\r\n",
       "}\r\n",
       "}\r\n",
       "E2 - -:|> E3 [[psysml:488f6ee0-39a9-4dc0-b555-612cc99c37a1 ]] \r\n",
       "E3 *- - \"1\"E4 [[psysml:98712745-a638-4d1f-8ffc-380c342569c9 ]] \r\n",
       "E3 o- - \"1\"E5 [[psysml:3d3c789c-d512-4565-8d7c-059f8d1010f8 ]] \r\n",
       "E4 - -:|> E6 [[psysml:1225703b-924d-44f0-aa92-4bca49ced0c9 ]] \r\n",
       "E6 *- - \"1\"E7 [[psysml:a81e6d2d-a633-4d51-820c-a47602c519dd ]] \r\n",
       "E7 - -:|> E3 [[psysml:4883cacd-6695-4e4a-8cc2-3609b81ec9a9 ]] \r\n",
       "E6 o- - \"1\"E8 [[psysml:2d844c43-a52c-43bf-b052-a300acb2bf74 ]] \r\n",
       "E6 +- - E9 [[psysml:5153bd7e-9106-496d-98a6-0d3fae0d20a5 ]] \r\n",
       "E5 - -:|> E10 [[psysml:63374559-c2a0-4cf8-92a3-b39a3ed3eac1 ]] \r\n",
       "E10 o- - E3 [[psysml:e24d69b8-a494-4022-9892-35ed42c85155 ]] : y\r\n",
       "E10 o- - E6 [[psysml:e24d69b8-a494-4022-9892-35ed42c85155 ]] : y\r\n",
       "E10 o- - E3 [[psysml:e24d69b8-a494-4022-9892-35ed42c85155 ]] : y\r\n",
       "E10 o- - E6 [[psysml:e24d69b8-a494-4022-9892-35ed42c85155 ]] : y\r\n",
       "E10 o- - E3 [[psysml:e24d69b8-a494-4022-9892-35ed42c85155 ]] : y\r\n",
       "E10 o- - E6 [[psysml:e24d69b8-a494-4022-9892-35ed42c85155 ]] : y\r\n",
       "@enduml\r\n",
       "\n",
       "PlantUML version 1.2020.13(Sat Jun 13 12:26:38 UTC 2020)\n",
       "(EPL source distribution)\n",
       "Java Runtime: OpenJDK Runtime Environment\n",
       "JVM: OpenJDK 64-Bit Server VM\n",
       "Default Encoding: UTF-8\n",
       "Language: en\n",
       "Country: null\n",
       "--></g></svg>"
      ]
     },
     "execution_count": 9,
     "metadata": {},
     "output_type": "execute_result"
    }
   ],
   "source": [
    "%viz --style=\"POLYLINE\" --view=\"Default\" \"PartTest\""
   ]
  },
  {
   "cell_type": "code",
   "execution_count": 10,
   "id": "605c39dc",
   "metadata": {
    "execution": {
     "iopub.execute_input": "2021-10-03T08:29:52.477695Z",
     "iopub.status.busy": "2021-10-03T08:29:52.477224Z",
     "iopub.status.idle": "2021-10-03T08:29:52.549801Z",
     "shell.execute_reply": "2021-10-03T08:29:52.547756Z"
    }
   },
   "outputs": [
    {
     "data": {
      "image/svg+xml": [
       "<?xml version=\"1.0\" encoding=\"UTF-8\" standalone=\"no\"?><svg xmlns=\"http://www.w3.org/2000/svg\" xmlns:xlink=\"http://www.w3.org/1999/xlink\" contentScriptType=\"application/ecmascript\" contentStyleType=\"text/css\" height=\"760px\" preserveAspectRatio=\"none\" style=\"width:423px;height:760px;\" version=\"1.1\" viewBox=\"0 0 423 760\" width=\"423px\" zoomAndPan=\"magnify\"><defs/><g><!--MD5=[fbc87193dbaf4d95561dea2c320d4a47]\n",
       "cluster E1--><a href=\"psysml:a6b62677-d27b-4bf3-83e0-375e3ba01a4b\" target=\"_top\" title=\"psysml:a6b62677-d27b-4bf3-83e0-375e3ba01a4b\" xlink:actuate=\"onRequest\" xlink:href=\"psysml:a6b62677-d27b-4bf3-83e0-375e3ba01a4b\" xlink:show=\"new\" xlink:title=\"psysml:a6b62677-d27b-4bf3-83e0-375e3ba01a4b\" xlink:type=\"simple\"><polygon fill=\"#FFFFFF\" points=\"16,6,80,6,87,28.2969,401,28.2969,401,748,16,748,16,6\" style=\"stroke: #000000; stroke-width: 1.5;\"/><line style=\"stroke: #000000; stroke-width: 1.5;\" x1=\"16\" x2=\"87\" y1=\"28.2969\" y2=\"28.2969\"/><text fill=\"#000000\" font-family=\"sans-serif\" font-size=\"14\" font-weight=\"bold\" lengthAdjust=\"spacingAndGlyphs\" textLength=\"58\" x=\"20\" y=\"20.9951\">PartTest</text></a><!--MD5=[b4997ac47864f28c2f74865a473b2911]\n",
       "class E2--><a href=\"psysml:fef66b5f-1b9d-421e-94fe-86858427a029\" target=\"_top\" title=\"psysml:fef66b5f-1b9d-421e-94fe-86858427a029\" xlink:actuate=\"onRequest\" xlink:href=\"psysml:fef66b5f-1b9d-421e-94fe-86858427a029\" xlink:show=\"new\" xlink:title=\"psysml:fef66b5f-1b9d-421e-94fe-86858427a029\" xlink:type=\"simple\"><rect fill=\"#FFFFFF\" height=\"45.9375\" id=\"E2\" rx=\"10\" ry=\"10\" style=\"stroke: #383838; stroke-width: 1.5;\" width=\"42\" x=\"201\" y=\"41\"/><text fill=\"#000000\" font-family=\"sans-serif\" font-size=\"12\" font-style=\"italic\" lengthAdjust=\"spacingAndGlyphs\" textLength=\"40\" x=\"202\" y=\"57.1387\">«part»</text><text fill=\"#000000\" font-family=\"sans-serif\" font-size=\"12\" lengthAdjust=\"spacingAndGlyphs\" textLength=\"20\" x=\"212\" y=\"71.1074\">f: A</text><line style=\"stroke: #383838; stroke-width: 1.5;\" x1=\"202\" x2=\"242\" y1=\"78.9375\" y2=\"78.9375\"/></a><!--MD5=[09b614a08d8cba4a07c9adeb5e0fee81]\n",
       "class E3--><a href=\"psysml:a2cad1be-c52d-4964-a87e-891cd7289f52\" target=\"_top\" title=\"psysml:a2cad1be-c52d-4964-a87e-891cd7289f52\" xlink:actuate=\"onRequest\" xlink:href=\"psysml:a2cad1be-c52d-4964-a87e-891cd7289f52\" xlink:show=\"new\" xlink:title=\"psysml:a2cad1be-c52d-4964-a87e-891cd7289f52\" xlink:type=\"simple\"><rect fill=\"#FFFFFF\" height=\"88.3516\" id=\"E3\" style=\"stroke: #383838; stroke-width: 1.5;\" width=\"66\" x=\"189\" y=\"148\"/><text fill=\"#000000\" font-family=\"sans-serif\" font-size=\"12\" font-style=\"italic\" lengthAdjust=\"spacingAndGlyphs\" textLength=\"64\" x=\"190\" y=\"164.1387\">«part def»</text><text fill=\"#000000\" font-family=\"sans-serif\" font-size=\"12\" lengthAdjust=\"spacingAndGlyphs\" textLength=\"8\" x=\"218\" y=\"178.1074\">A</text><line style=\"stroke: #383838; stroke-width: 1.5;\" x1=\"190\" x2=\"254\" y1=\"185.9375\" y2=\"185.9375\"/><text fill=\"#000000\" font-family=\"sans-serif\" font-size=\"11\" lengthAdjust=\"spacingAndGlyphs\" textLength=\"6\" x=\"195\" y=\"216.9526\">x</text><text fill=\"#000000\" font-family=\"sans-serif\" font-size=\"11\" lengthAdjust=\"spacingAndGlyphs\" textLength=\"6\" x=\"195\" y=\"229.7573\">y</text><line style=\"stroke: #383838; stroke-width: 1.0;\" x1=\"190\" x2=\"194.5\" y1=\"200.3398\" y2=\"200.3398\"/><text fill=\"#000000\" font-family=\"sans-serif\" font-size=\"11\" lengthAdjust=\"spacingAndGlyphs\" textLength=\"55\" x=\"194.5\" y=\"203.6479\">attributes</text><line style=\"stroke: #383838; stroke-width: 1.0;\" x1=\"249.5\" x2=\"254\" y1=\"200.3398\" y2=\"200.3398\"/></a><!--MD5=[ebbe1d658d1005bcc118a6aa81145e00]\n",
       "class E4--><a href=\"psysml:9dcf2186-613a-4b96-912f-a1b95f354387\" target=\"_top\" title=\"psysml:9dcf2186-613a-4b96-912f-a1b95f354387\" xlink:actuate=\"onRequest\" xlink:href=\"psysml:9dcf2186-613a-4b96-912f-a1b95f354387\" xlink:show=\"new\" xlink:title=\"psysml:9dcf2186-613a-4b96-912f-a1b95f354387\" xlink:type=\"simple\"><rect fill=\"#FFFFFF\" height=\"45.9375\" id=\"E4\" rx=\"10\" ry=\"10\" style=\"stroke: #383838; stroke-width: 1.5;\" width=\"42\" x=\"323\" y=\"373\"/><text fill=\"#000000\" font-family=\"sans-serif\" font-size=\"12\" font-style=\"italic\" lengthAdjust=\"spacingAndGlyphs\" textLength=\"40\" x=\"324\" y=\"389.1387\">«part»</text><text fill=\"#000000\" font-family=\"sans-serif\" font-size=\"12\" lengthAdjust=\"spacingAndGlyphs\" textLength=\"24\" x=\"332\" y=\"403.1074\">b: B</text><line style=\"stroke: #383838; stroke-width: 1.5;\" x1=\"324\" x2=\"364\" y1=\"410.9375\" y2=\"410.9375\"/></a><!--MD5=[270fce915f116d4de14055a7c1d9a0f3]\n",
       "class E5--><a href=\"psysml:a3147892-19dd-4d4c-8f64-71e53da800dc\" target=\"_top\" title=\"psysml:a3147892-19dd-4d4c-8f64-71e53da800dc\" xlink:actuate=\"onRequest\" xlink:href=\"psysml:a3147892-19dd-4d4c-8f64-71e53da800dc\" xlink:show=\"new\" xlink:title=\"psysml:a3147892-19dd-4d4c-8f64-71e53da800dc\" xlink:type=\"simple\"><rect fill=\"#FFFFFF\" height=\"45.9375\" id=\"E5\" rx=\"10\" ry=\"10\" style=\"stroke: #383838; stroke-width: 1.5;\" width=\"42\" x=\"306\" y=\"297\"/><text fill=\"#000000\" font-family=\"sans-serif\" font-size=\"12\" font-style=\"italic\" lengthAdjust=\"spacingAndGlyphs\" textLength=\"40\" x=\"307\" y=\"313.1387\">«port»</text><text fill=\"#000000\" font-family=\"sans-serif\" font-size=\"12\" lengthAdjust=\"spacingAndGlyphs\" textLength=\"23\" x=\"315.5\" y=\"327.1074\">c: C</text><line style=\"stroke: #383838; stroke-width: 1.5;\" x1=\"307\" x2=\"347\" y1=\"334.9375\" y2=\"334.9375\"/></a><!--MD5=[60a26617385b1d2d0262a64233df1f8d]\n",
       "class E6--><a href=\"psysml:bbb3af71-bfb9-47e2-863f-33482c8ff081\" target=\"_top\" title=\"psysml:bbb3af71-bfb9-47e2-863f-33482c8ff081\" xlink:actuate=\"onRequest\" xlink:href=\"psysml:bbb3af71-bfb9-47e2-863f-33482c8ff081\" xlink:show=\"new\" xlink:title=\"psysml:bbb3af71-bfb9-47e2-863f-33482c8ff081\" xlink:type=\"simple\"><rect fill=\"#FFFFFF\" height=\"45.9375\" id=\"E6\" style=\"stroke: #383838; stroke-width: 1.5;\" width=\"66\" x=\"163\" y=\"572\"/><text fill=\"#000000\" font-family=\"sans-serif\" font-size=\"12\" font-style=\"italic\" lengthAdjust=\"spacingAndGlyphs\" textLength=\"64\" x=\"164\" y=\"588.1387\">«part def»</text><text fill=\"#000000\" font-family=\"sans-serif\" font-size=\"12\" lengthAdjust=\"spacingAndGlyphs\" textLength=\"8\" x=\"192\" y=\"602.1074\">B</text><line style=\"stroke: #383838; stroke-width: 1.5;\" x1=\"164\" x2=\"228\" y1=\"609.9375\" y2=\"609.9375\"/></a><!--MD5=[2156ba9850f5573cc1fc38a6a4b2f02b]\n",
       "class E7--><a href=\"psysml:c128dc79-fecf-4cdb-b1ba-5850a9b121ec\" target=\"_top\" title=\"psysml:c128dc79-fecf-4cdb-b1ba-5850a9b121ec\" xlink:actuate=\"onRequest\" xlink:href=\"psysml:c128dc79-fecf-4cdb-b1ba-5850a9b121ec\" xlink:show=\"new\" xlink:title=\"psysml:c128dc79-fecf-4cdb-b1ba-5850a9b121ec\" xlink:type=\"simple\"><rect fill=\"#FFFFFF\" height=\"45.9375\" id=\"E7\" rx=\"10\" ry=\"10\" style=\"stroke: #383838; stroke-width: 1.5;\" width=\"42\" x=\"58\" y=\"682.5\"/><text fill=\"#000000\" font-family=\"sans-serif\" font-size=\"12\" font-style=\"italic\" lengthAdjust=\"spacingAndGlyphs\" textLength=\"40\" x=\"59\" y=\"698.6387\">«part»</text><text fill=\"#000000\" font-family=\"sans-serif\" font-size=\"12\" lengthAdjust=\"spacingAndGlyphs\" textLength=\"24\" x=\"67\" y=\"712.6074\">a: A</text><line style=\"stroke: #383838; stroke-width: 1.5;\" x1=\"59\" x2=\"99\" y1=\"720.4375\" y2=\"720.4375\"/></a><!--MD5=[b9389687b975829384b498ac4b7476b2]\n",
       "class E8--><a href=\"psysml:540f6402-e62e-4ea3-b051-5d5cf5bfcb38\" target=\"_top\" title=\"psysml:540f6402-e62e-4ea3-b051-5d5cf5bfcb38\" xlink:actuate=\"onRequest\" xlink:href=\"psysml:540f6402-e62e-4ea3-b051-5d5cf5bfcb38\" xlink:show=\"new\" xlink:title=\"psysml:540f6402-e62e-4ea3-b051-5d5cf5bfcb38\" xlink:type=\"simple\"><rect fill=\"#FFFFFF\" height=\"45.9375\" id=\"E8\" rx=\"10\" ry=\"10\" style=\"stroke: #383838; stroke-width: 1.5;\" width=\"42\" x=\"213\" y=\"682.5\"/><text fill=\"#000000\" font-family=\"sans-serif\" font-size=\"12\" font-style=\"italic\" lengthAdjust=\"spacingAndGlyphs\" textLength=\"40\" x=\"214\" y=\"698.6387\">«port»</text><text fill=\"#000000\" font-family=\"sans-serif\" font-size=\"12\" lengthAdjust=\"spacingAndGlyphs\" textLength=\"32\" x=\"218\" y=\"712.6074\">x: ~C</text><line style=\"stroke: #383838; stroke-width: 1.5;\" x1=\"214\" x2=\"254\" y1=\"720.4375\" y2=\"720.4375\"/></a><!--MD5=[96f4274e9e20536e775497830990834d]\n",
       "class E10--><a href=\"psysml:a92372c2-fe41-425f-b40c-da5b8c1ca15d\" target=\"_top\" title=\"psysml:a92372c2-fe41-425f-b40c-da5b8c1ca15d\" xlink:actuate=\"onRequest\" xlink:href=\"psysml:a92372c2-fe41-425f-b40c-da5b8c1ca15d\" xlink:show=\"new\" xlink:title=\"psysml:a92372c2-fe41-425f-b40c-da5b8c1ca15d\" xlink:type=\"simple\"><rect fill=\"#FFFFFF\" height=\"45.9375\" id=\"E10\" style=\"stroke: #383838; stroke-width: 1.5;\" width=\"66\" x=\"163\" y=\"449\"/><text fill=\"#000000\" font-family=\"sans-serif\" font-size=\"12\" font-style=\"italic\" lengthAdjust=\"spacingAndGlyphs\" textLength=\"64\" x=\"164\" y=\"465.1387\">«port def»</text><text fill=\"#000000\" font-family=\"sans-serif\" font-size=\"12\" lengthAdjust=\"spacingAndGlyphs\" textLength=\"8\" x=\"192\" y=\"479.1074\">C</text><line style=\"stroke: #383838; stroke-width: 1.5;\" x1=\"164\" x2=\"228\" y1=\"486.9375\" y2=\"486.9375\"/></a><a href=\"psysml:f4e4ee2b-1abf-4dbd-8483-2b091bdfceaf\" target=\"_top\" title=\"psysml:f4e4ee2b-1abf-4dbd-8483-2b091bdfceaf\" xlink:actuate=\"onRequest\" xlink:href=\"psysml:f4e4ee2b-1abf-4dbd-8483-2b091bdfceaf\" xlink:show=\"new\" xlink:title=\"psysml:f4e4ee2b-1abf-4dbd-8483-2b091bdfceaf\" xlink:type=\"simple\"><polygon fill=\"#FFFFFF\" points=\"148.5,679,163.5,679,170.5,701.2969,177.5,701.2969,177.5,731.5938,148.5,731.5938,148.5,679\" style=\"stroke: #000000; stroke-width: 1.5;\"/><line style=\"stroke: #000000; stroke-width: 1.5;\" x1=\"148.5\" x2=\"170.5\" y1=\"701.2969\" y2=\"701.2969\"/><text fill=\"#000000\" font-family=\"sans-serif\" font-size=\"14\" font-weight=\"bold\" lengthAdjust=\"spacingAndGlyphs\" textLength=\"9\" x=\"152.5\" y=\"693.9951\">P</text></a><!--MD5=[2720a5a1f2c3fca2055b230370638851]\n",
       "link E2 to E3--><a href=\"psysml:488f6ee0-39a9-4dc0-b555-612cc99c37a1\" target=\"_top\" title=\"psysml:488f6ee0-39a9-4dc0-b555-612cc99c37a1\" xlink:actuate=\"onRequest\" xlink:href=\"psysml:488f6ee0-39a9-4dc0-b555-612cc99c37a1\" xlink:show=\"new\" xlink:title=\"psysml:488f6ee0-39a9-4dc0-b555-612cc99c37a1\" xlink:type=\"simple\"><path d=\"M222,87.24 C222,98.62 222,113.11 222,127.62 \" fill=\"none\" id=\"E2-&gt;E3\" style=\"stroke: #383838; stroke-width: 1.0;\"/><polygon fill=\"#FFFFFF\" points=\"222,147.84,215,128.84,229,128.84,222,147.84\" style=\"stroke: #383838; stroke-width: 1.0;\"/><ellipse cx=\"217\" cy=\"123.14\" fill=\"#383838\" rx=\"2\" ry=\"2\" style=\"stroke: #383838; stroke-width: 1.0;\"/><ellipse cx=\"227\" cy=\"123.14\" fill=\"#383838\" rx=\"2\" ry=\"2\" style=\"stroke: #383838; stroke-width: 1.0;\"/></a><!--MD5=[4672eba38e49728da53d11aeb285b987]\n",
       "reverse link E3 to E4--><a href=\"psysml:98712745-a638-4d1f-8ffc-380c342569c9\" target=\"_top\" title=\"psysml:98712745-a638-4d1f-8ffc-380c342569c9\" xlink:actuate=\"onRequest\" xlink:href=\"psysml:98712745-a638-4d1f-8ffc-380c342569c9\" xlink:show=\"new\" xlink:title=\"psysml:98712745-a638-4d1f-8ffc-380c342569c9\" xlink:type=\"simple\"><path d=\"M265.7,224.56 C308.07,255.16 366,297 366,297 C366,297 366,343 366,343 C366,343 359.33,358.77 353.33,372.95 \" fill=\"none\" id=\"E3&lt;-E4\" style=\"stroke: #383838; stroke-width: 1.0;\"/><polygon fill=\"#383838\" points=\"255.04,216.86,257.5621,223.6157,264.7682,223.8859,262.246,217.1302,255.04,216.86\" style=\"stroke: #383838; stroke-width: 1.0;\"/><text fill=\"#000000\" font-family=\"sans-serif\" font-size=\"13\" lengthAdjust=\"spacingAndGlyphs\" textLength=\"8\" x=\"347.5421\" y=\"363.0588\">1</text></a><!--MD5=[191cde3d490a3f6d7bb551fe3ddca469]\n",
       "reverse link E3 to E5--><a href=\"psysml:3d3c789c-d512-4565-8d7c-059f8d1010f8\" target=\"_top\" title=\"psysml:3d3c789c-d512-4565-8d7c-059f8d1010f8\" xlink:actuate=\"onRequest\" xlink:href=\"psysml:3d3c789c-d512-4565-8d7c-059f8d1010f8\" xlink:show=\"new\" xlink:title=\"psysml:3d3c789c-d512-4565-8d7c-059f8d1010f8\" xlink:type=\"simple\"><path d=\"M263.71,243.06 C279.31,261.77 296.23,282.08 308.65,296.98 \" fill=\"none\" id=\"E3&lt;-E5\" style=\"stroke: #383838; stroke-width: 1.0;\"/><polygon fill=\"#FFFFFF\" points=\"255.22,232.87,255.9912,240.0397,262.9061,242.0854,262.1349,234.9157,255.22,232.87\" style=\"stroke: #383838; stroke-width: 1.0;\"/><text fill=\"#000000\" font-family=\"sans-serif\" font-size=\"13\" lengthAdjust=\"spacingAndGlyphs\" textLength=\"8\" x=\"294.6434\" y=\"285.8709\">1</text></a><!--MD5=[79568f1e445c3877b6a54524624ccc7d]\n",
       "link E4 to E6--><a href=\"psysml:1225703b-924d-44f0-aa92-4bca49ced0c9\" target=\"_top\" title=\"psysml:1225703b-924d-44f0-aa92-4bca49ced0c9\" xlink:actuate=\"onRequest\" xlink:href=\"psysml:1225703b-924d-44f0-aa92-4bca49ced0c9\" xlink:show=\"new\" xlink:title=\"psysml:1225703b-924d-44f0-aa92-4bca49ced0c9\" xlink:type=\"simple\"><path d=\"M327.31,419.22 C302.43,452.34 255.27,515.1 224.76,555.71 \" fill=\"none\" id=\"E4-&gt;E6\" style=\"stroke: #383838; stroke-width: 1.0;\"/><polygon fill=\"#FFFFFF\" points=\"212.63,571.87,218.4494,552.4758,229.641,560.887,212.63,571.87\" style=\"stroke: #383838; stroke-width: 1.0;\"/><ellipse cx=\"223.4728\" cy=\"549.1208\" fill=\"#383838\" rx=\"2\" ry=\"2\" style=\"stroke: #383838; stroke-width: 1.0;\"/><ellipse cx=\"231.4668\" cy=\"555.1288\" fill=\"#383838\" rx=\"2\" ry=\"2\" style=\"stroke: #383838; stroke-width: 1.0;\"/></a><!--MD5=[3f50a3473f1dfb74d3f76443e03635af]\n",
       "reverse link E6 to E7--><a href=\"psysml:a81e6d2d-a633-4d51-820c-a47602c519dd\" target=\"_top\" title=\"psysml:a81e6d2d-a633-4d51-820c-a47602c519dd\" xlink:actuate=\"onRequest\" xlink:href=\"psysml:a81e6d2d-a633-4d51-820c-a47602c519dd\" xlink:show=\"new\" xlink:title=\"psysml:a81e6d2d-a633-4d51-820c-a47602c519dd\" xlink:type=\"simple\"><path d=\"M162.35,627.2 C142.32,645.78 117.5,668.8 100.18,684.86 \" fill=\"none\" id=\"E6&lt;-E7\" style=\"stroke: #383838; stroke-width: 1.0;\"/><polygon fill=\"#383838\" points=\"172.04,618.22,164.9211,619.3695,163.2441,626.3829,170.363,625.2334,172.04,618.22\" style=\"stroke: #383838; stroke-width: 1.0;\"/><text fill=\"#000000\" font-family=\"sans-serif\" font-size=\"13\" lengthAdjust=\"spacingAndGlyphs\" textLength=\"8\" x=\"107.8914\" y=\"673.3389\">1</text></a><!--MD5=[14ccda38c055a5c0da953d572bc50960]\n",
       "link E7 to E3--><a href=\"psysml:4883cacd-6695-4e4a-8cc2-3609b81ec9a9\" target=\"_top\" title=\"psysml:4883cacd-6695-4e4a-8cc2-3609b81ec9a9\" xlink:actuate=\"onRequest\" xlink:href=\"psysml:4883cacd-6695-4e4a-8cc2-3609b81ec9a9\" xlink:show=\"new\" xlink:title=\"psysml:4883cacd-6695-4e4a-8cc2-3609b81ec9a9\" xlink:type=\"simple\"><path d=\"M69.58,682.28 C56.12,650.54 33,596 33,596 C33,319 33,319 33,319 C33,319 115.91,263.73 171.9,226.4 \" fill=\"none\" id=\"E7-&gt;E3\" style=\"stroke: #383838; stroke-width: 1.0;\"/><polygon fill=\"#FFFFFF\" points=\"188.65,215.24,176.7337,231.6107,168.9609,219.9667,188.65,215.24\" style=\"stroke: #383838; stroke-width: 1.0;\"/><ellipse cx=\"170.8825\" cy=\"233.1119\" fill=\"#383838\" rx=\"2\" ry=\"2\" style=\"stroke: #383838; stroke-width: 1.0;\"/><ellipse cx=\"165.3305\" cy=\"224.7947\" fill=\"#383838\" rx=\"2\" ry=\"2\" style=\"stroke: #383838; stroke-width: 1.0;\"/></a><!--MD5=[f4cf0736d43fd73c4ef68817c49d37d5]\n",
       "reverse link E6 to E8--><a href=\"psysml:2d844c43-a52c-43bf-b052-a300acb2bf74\" target=\"_top\" title=\"psysml:2d844c43-a52c-43bf-b052-a300acb2bf74\" xlink:actuate=\"onRequest\" xlink:href=\"psysml:2d844c43-a52c-43bf-b052-a300acb2bf74\" xlink:show=\"new\" xlink:title=\"psysml:2d844c43-a52c-43bf-b052-a300acb2bf74\" xlink:type=\"simple\"><path d=\"M208.25,630.98 C214.15,647.83 221.06,667.54 226.23,682.31 \" fill=\"none\" id=\"E6&lt;-E8\" style=\"stroke: #383838; stroke-width: 1.0;\"/><polygon fill=\"#FFFFFF\" points=\"203.78,618.22,201.9892,625.2052,207.7483,629.5449,209.5391,622.5597,203.78,618.22\" style=\"stroke: #383838; stroke-width: 1.0;\"/><text fill=\"#000000\" font-family=\"sans-serif\" font-size=\"13\" lengthAdjust=\"spacingAndGlyphs\" textLength=\"8\" x=\"215.2139\" y=\"671.5376\">1</text></a><!--MD5=[e88d06e5a652d73a6b19930eefe025a8]\n",
       "reverse link E6 to E9--><a href=\"psysml:5153bd7e-9106-496d-98a6-0d3fae0d20a5\" target=\"_top\" title=\"psysml:5153bd7e-9106-496d-98a6-0d3fae0d20a5\" xlink:actuate=\"onRequest\" xlink:href=\"psysml:5153bd7e-9106-496d-98a6-0d3fae0d20a5\" xlink:show=\"new\" xlink:title=\"psysml:5153bd7e-9106-496d-98a6-0d3fae0d20a5\" xlink:type=\"simple\"><path d=\"M184.74,633.01 C180.15,648.11 174.95,665.2 170.79,678.88 \" fill=\"none\" id=\"E6&lt;-E9\" style=\"stroke: #383838; stroke-width: 1.0;\"/><ellipse cx=\"186.9098\" cy=\"625.8731\" fill=\"#FFFFFF\" rx=\"8\" ry=\"8\" style=\"stroke: #383838; stroke-width: 1.0;\"/><line style=\"stroke: #383838; stroke-width: 1.0;\" x1=\"184.5796\" x2=\"189.24\" y1=\"633.5262\" y2=\"618.22\"/><line style=\"stroke: #383838; stroke-width: 1.0;\" x1=\"179.2567\" x2=\"194.5629\" y1=\"623.5429\" y2=\"628.2033\"/></a><!--MD5=[f78a29d5932556fa1060671a2a6507d8]\n",
       "link E5 to E10--><a href=\"psysml:63374559-c2a0-4cf8-92a3-b39a3ed3eac1\" target=\"_top\" title=\"psysml:63374559-c2a0-4cf8-92a3-b39a3ed3eac1\" xlink:actuate=\"onRequest\" xlink:href=\"psysml:63374559-c2a0-4cf8-92a3-b39a3ed3eac1\" xlink:show=\"new\" xlink:title=\"psysml:63374559-c2a0-4cf8-92a3-b39a3ed3eac1\" xlink:type=\"simple\"><path d=\"M314.29,343.24 C297.77,372.15 271,419 271,419 C271,419 258.99,427.33 244.58,437.32 \" fill=\"none\" id=\"E5-&gt;E10\" style=\"stroke: #383838; stroke-width: 1.0;\"/><polygon fill=\"#FFFFFF\" points=\"227.81,448.95,239.4292,432.3671,247.4106,443.8691,227.81,448.95\" style=\"stroke: #383838; stroke-width: 1.0;\"/><ellipse cx=\"245.2524\" cy=\"430.7606\" fill=\"#383838\" rx=\"2\" ry=\"2\" style=\"stroke: #383838; stroke-width: 1.0;\"/><ellipse cx=\"250.9534\" cy=\"438.9764\" fill=\"#383838\" rx=\"2\" ry=\"2\" style=\"stroke: #383838; stroke-width: 1.0;\"/></a><!--MD5=[8e04057e7b3cbc0dca4fc78ea351e2da]\n",
       "reverse link E10 to E3--><a href=\"psysml:e24d69b8-a494-4022-9892-35ed42c85155\" target=\"_top\" title=\"psysml:e24d69b8-a494-4022-9892-35ed42c85155\" xlink:actuate=\"onRequest\" xlink:href=\"psysml:e24d69b8-a494-4022-9892-35ed42c85155\" xlink:show=\"new\" xlink:title=\"psysml:e24d69b8-a494-4022-9892-35ed42c85155\" xlink:type=\"simple\"><path d=\"M178.7,436.94 C159.45,399.02 131,343 131,343 C131,343 131,297 131,297 C131,297 162.87,260.58 188.89,230.84 \" fill=\"none\" id=\"E10&lt;-E3\" style=\"stroke: #383838; stroke-width: 1.0;\"/><polygon fill=\"#FFFFFF\" points=\"184.83,449,185.6752,441.8386,179.3898,438.304,178.5446,445.4654,184.83,449\" style=\"stroke: #383838; stroke-width: 1.0;\"/><text fill=\"#000000\" font-family=\"sans-serif\" font-size=\"13\" lengthAdjust=\"spacingAndGlyphs\" textLength=\"7\" x=\"132\" y=\"324.5669\">y</text></a><!--MD5=[8e04057e7b3cbc0dca4fc78ea351e2da]\n",
       "reverse link E10 to E3--><a href=\"psysml:e24d69b8-a494-4022-9892-35ed42c85155\" target=\"_top\" title=\"psysml:e24d69b8-a494-4022-9892-35ed42c85155\" xlink:actuate=\"onRequest\" xlink:href=\"psysml:e24d69b8-a494-4022-9892-35ed42c85155\" xlink:show=\"new\" xlink:title=\"psysml:e24d69b8-a494-4022-9892-35ed42c85155\" xlink:type=\"simple\"><path d=\"M198.84,435.7 C202.93,384.85 210,297 210,297 C210,297 213.72,264.78 217.02,236.2 \" fill=\"none\" id=\"E10&lt;-E3-1\" style=\"stroke: #383838; stroke-width: 1.0;\"/><polygon fill=\"#FFFFFF\" points=\"197.77,448.96,202.2385,443.3002,198.7327,436.9987,194.2642,442.6584,197.77,448.96\" style=\"stroke: #383838; stroke-width: 1.0;\"/><text fill=\"#000000\" font-family=\"sans-serif\" font-size=\"13\" lengthAdjust=\"spacingAndGlyphs\" textLength=\"7\" x=\"211\" y=\"324.5669\">y</text></a><!--MD5=[8e04057e7b3cbc0dca4fc78ea351e2da]\n",
       "reverse link E10 to E3--><a href=\"psysml:e24d69b8-a494-4022-9892-35ed42c85155\" target=\"_top\" title=\"psysml:e24d69b8-a494-4022-9892-35ed42c85155\" xlink:actuate=\"onRequest\" xlink:href=\"psysml:e24d69b8-a494-4022-9892-35ed42c85155\" xlink:show=\"new\" xlink:title=\"psysml:e24d69b8-a494-4022-9892-35ed42c85155\" xlink:type=\"simple\"><path d=\"M205.33,436.36 C207.9,426.8 210,419 210,419 C210,419 223,343 223,343 C223,343 223,297 223,297 C223,297 222.69,264.78 222.42,236.2 \" fill=\"none\" id=\"E10&lt;-E3-2\" style=\"stroke: #383838; stroke-width: 1.0;\"/><polygon fill=\"#FFFFFF\" points=\"201.94,448.95,207.364,444.1982,205.0639,437.3638,199.6399,442.1156,201.94,448.95\" style=\"stroke: #383838; stroke-width: 1.0;\"/><text fill=\"#000000\" font-family=\"sans-serif\" font-size=\"13\" lengthAdjust=\"spacingAndGlyphs\" textLength=\"7\" x=\"224\" y=\"324.5669\">y</text></a><!--MD5=[604cbf994c02b74b117f728a71673cea]\n",
       "reverse link E10 to E6--><a href=\"psysml:e24d69b8-a494-4022-9892-35ed42c85155\" target=\"_top\" title=\"psysml:e24d69b8-a494-4022-9892-35ed42c85155\" xlink:actuate=\"onRequest\" xlink:href=\"psysml:e24d69b8-a494-4022-9892-35ed42c85155\" xlink:show=\"new\" xlink:title=\"psysml:e24d69b8-a494-4022-9892-35ed42c85155\" xlink:type=\"simple\"><path d=\"M202.72,507.96 C204.53,517.37 206,525 206,525 C206,525 206,542 206,542 C206,542 202.97,557.77 200.24,571.95 \" fill=\"none\" id=\"E10&lt;-E6\" style=\"stroke: #383838; stroke-width: 1.0;\"/><polygon fill=\"#FFFFFF\" points=\"200.24,495.05,197.447,501.6982,202.5096,506.8334,205.3026,500.1852,200.24,495.05\" style=\"stroke: #383838; stroke-width: 1.0;\"/><text fill=\"#000000\" font-family=\"sans-serif\" font-size=\"13\" lengthAdjust=\"spacingAndGlyphs\" textLength=\"7\" x=\"207\" y=\"538.0669\">y</text></a><!--MD5=[604cbf994c02b74b117f728a71673cea]\n",
       "reverse link E10 to E6--><a href=\"psysml:e24d69b8-a494-4022-9892-35ed42c85155\" target=\"_top\" title=\"psysml:e24d69b8-a494-4022-9892-35ed42c85155\" xlink:actuate=\"onRequest\" xlink:href=\"psysml:e24d69b8-a494-4022-9892-35ed42c85155\" xlink:show=\"new\" xlink:title=\"psysml:e24d69b8-a494-4022-9892-35ed42c85155\" xlink:type=\"simple\"><path d=\"M166.71,504.73 C156.71,515.56 148,525 148,525 C148,525 148,542 148,542 C148,542 162.56,557.77 175.64,571.95 \" fill=\"none\" id=\"E10&lt;-E6-1\" style=\"stroke: #383838; stroke-width: 1.0;\"/><polygon fill=\"#FFFFFF\" points=\"175.64,495.05,168.6318,496.7487,167.5045,503.8712,174.5126,502.1724,175.64,495.05\" style=\"stroke: #383838; stroke-width: 1.0;\"/><text fill=\"#000000\" font-family=\"sans-serif\" font-size=\"13\" lengthAdjust=\"spacingAndGlyphs\" textLength=\"7\" x=\"149\" y=\"538.0669\">y</text></a><!--MD5=[604cbf994c02b74b117f728a71673cea]\n",
       "reverse link E10 to E6--><a href=\"psysml:e24d69b8-a494-4022-9892-35ed42c85155\" target=\"_top\" title=\"psysml:e24d69b8-a494-4022-9892-35ed42c85155\" xlink:actuate=\"onRequest\" xlink:href=\"psysml:e24d69b8-a494-4022-9892-35ed42c85155\" xlink:show=\"new\" xlink:title=\"psysml:e24d69b8-a494-4022-9892-35ed42c85155\" xlink:type=\"simple\"><path d=\"M196,508.22 C196,528.81 196,554.16 196,571.95 \" fill=\"none\" id=\"E10&lt;-E6-2\" style=\"stroke: #383838; stroke-width: 1.0;\"/><polygon fill=\"#FFFFFF\" points=\"196,495.19,192,501.19,196,507.19,200,501.19,196,495.19\" style=\"stroke: #383838; stroke-width: 1.0;\"/><text fill=\"#000000\" font-family=\"sans-serif\" font-size=\"13\" lengthAdjust=\"spacingAndGlyphs\" textLength=\"7\" x=\"197\" y=\"538.0669\">y</text></a><!--MD5=[73c6199f71dcdfee03564333d48d65ff]\n",
       "@startuml\r\n",
       "skinparam linetype polyline\r\n",
       "skinparam monochrome true\r\n",
       "skinparam classbackgroundcolor white\r\n",
       "skinparam shadowing false\r\n",
       "skinparam wrapWidth 300\r\n",
       "hide circle\r\n",
       "\r\n",
       "package \"PartTest\" as E1  [[psysml:a6b62677-d27b-4bf3-83e0-375e3ba01a4b ]]  {\r\n",
       "comp usage \"f: A\" as E2  <<(T,blue) part>> [[psysml:fef66b5f-1b9d-421e-94fe-86858427a029 ]] {\r\n",
       "}\r\n",
       "comp def \"A\" as E3  <<(T,blue) part def>> [[psysml:a2cad1be-c52d-4964-a87e-891cd7289f52 ]] {\r\n",
       "- - attributes - -\r\n",
       "x\r\n",
       "y\r\n",
       "}\r\n",
       "comp usage \"b: B\" as E4  <<(T,blue) part>> [[psysml:9dcf2186-613a-4b96-912f-a1b95f354387 ]] {\r\n",
       "}\r\n",
       "comp usage \"c: C\" as E5  <<(T,blue) port>> [[psysml:a3147892-19dd-4d4c-8f64-71e53da800dc ]] {\r\n",
       "}\r\n",
       "comp def \"B\" as E6  <<(T,blue) part def>> [[psysml:bbb3af71-bfb9-47e2-863f-33482c8ff081 ]] {\r\n",
       "}\r\n",
       "comp usage \"a: A\" as E7  <<(T,blue) part>> [[psysml:c128dc79-fecf-4cdb-b1ba-5850a9b121ec ]] {\r\n",
       "}\r\n",
       "comp usage \"x: ~C\" as E8  <<(T,blue) port>> [[psysml:540f6402-e62e-4ea3-b051-5d5cf5bfcb38 ]] {\r\n",
       "}\r\n",
       "package \"P\" as E9  [[psysml:f4e4ee2b-1abf-4dbd-8483-2b091bdfceaf ]]  {\r\n",
       "}\r\n",
       "comp def \"C\" as E10  <<(T,blue) port def>> [[psysml:a92372c2-fe41-425f-b40c-da5b8c1ca15d ]] {\r\n",
       "}\r\n",
       "}\r\n",
       "E2 - -:|> E3 [[psysml:488f6ee0-39a9-4dc0-b555-612cc99c37a1 ]] \r\n",
       "E3 *- - \"1\"E4 [[psysml:98712745-a638-4d1f-8ffc-380c342569c9 ]] \r\n",
       "E3 o- - \"1\"E5 [[psysml:3d3c789c-d512-4565-8d7c-059f8d1010f8 ]] \r\n",
       "E4 - -:|> E6 [[psysml:1225703b-924d-44f0-aa92-4bca49ced0c9 ]] \r\n",
       "E6 *- - \"1\"E7 [[psysml:a81e6d2d-a633-4d51-820c-a47602c519dd ]] \r\n",
       "E7 - -:|> E3 [[psysml:4883cacd-6695-4e4a-8cc2-3609b81ec9a9 ]] \r\n",
       "E6 o- - \"1\"E8 [[psysml:2d844c43-a52c-43bf-b052-a300acb2bf74 ]] \r\n",
       "E6 +- - E9 [[psysml:5153bd7e-9106-496d-98a6-0d3fae0d20a5 ]] \r\n",
       "E5 - -:|> E10 [[psysml:63374559-c2a0-4cf8-92a3-b39a3ed3eac1 ]] \r\n",
       "E10 o- - E3 [[psysml:e24d69b8-a494-4022-9892-35ed42c85155 ]] : y\r\n",
       "E10 o- - E6 [[psysml:e24d69b8-a494-4022-9892-35ed42c85155 ]] : y\r\n",
       "E10 o- - E3 [[psysml:e24d69b8-a494-4022-9892-35ed42c85155 ]] : y\r\n",
       "E10 o- - E6 [[psysml:e24d69b8-a494-4022-9892-35ed42c85155 ]] : y\r\n",
       "E10 o- - E3 [[psysml:e24d69b8-a494-4022-9892-35ed42c85155 ]] : y\r\n",
       "E10 o- - E6 [[psysml:e24d69b8-a494-4022-9892-35ed42c85155 ]] : y\r\n",
       "@enduml\r\n",
       "\n",
       "PlantUML version 1.2020.13(Sat Jun 13 12:26:38 UTC 2020)\n",
       "(EPL source distribution)\n",
       "Java Runtime: OpenJDK Runtime Environment\n",
       "JVM: OpenJDK 64-Bit Server VM\n",
       "Default Encoding: UTF-8\n",
       "Language: en\n",
       "Country: null\n",
       "--></g></svg>"
      ]
     },
     "execution_count": 10,
     "metadata": {},
     "output_type": "execute_result"
    }
   ],
   "source": [
    "%viz --style=\"POLYLINE\" --view=\"Tree\" \"PartTest\""
   ]
  },
  {
   "cell_type": "code",
   "execution_count": 11,
   "id": "a89fc48d",
   "metadata": {
    "execution": {
     "iopub.execute_input": "2021-10-03T08:29:52.598473Z",
     "iopub.status.busy": "2021-10-03T08:29:52.598071Z",
     "iopub.status.idle": "2021-10-03T08:29:52.605451Z",
     "shell.execute_reply": "2021-10-03T08:29:52.605836Z"
    }
   },
   "outputs": [
    {
     "data": {
      "image/svg+xml": [
       "<?xml version=\"1.0\" encoding=\"UTF-8\" standalone=\"no\"?><svg xmlns=\"http://www.w3.org/2000/svg\" xmlns:xlink=\"http://www.w3.org/1999/xlink\" contentScriptType=\"application/ecmascript\" contentStyleType=\"text/css\" height=\"12px\" preserveAspectRatio=\"none\" style=\"width:12px;height:12px;\" version=\"1.1\" viewBox=\"0 0 12 12\" width=\"12px\" zoomAndPan=\"magnify\"><defs/><g><!--MD5=[896ac0e7a515d8dd7765a661cb4ee08b]\n",
       "@startuml\r\n",
       "skinparam linetype polyline\r\n",
       "skinparam monochrome true\r\n",
       "skinparam classbackgroundcolor white\r\n",
       "skinparam shadowing false\r\n",
       "skinparam wrapWidth 300\r\n",
       "hide circle\r\n",
       "\r\n",
       "@enduml\r\n",
       "\n",
       "PlantUML version 1.2020.13(Sat Jun 13 12:26:38 UTC 2020)\n",
       "(EPL source distribution)\n",
       "Java Runtime: OpenJDK Runtime Environment\n",
       "JVM: OpenJDK 64-Bit Server VM\n",
       "Default Encoding: UTF-8\n",
       "Language: en\n",
       "Country: null\n",
       "--></g></svg>"
      ]
     },
     "execution_count": 11,
     "metadata": {},
     "output_type": "execute_result"
    }
   ],
   "source": [
    "%viz --style=\"POLYLINE\" --view=\"State\" \"PartTest\""
   ]
  },
  {
   "cell_type": "code",
   "execution_count": 12,
   "id": "eda54d8b",
   "metadata": {
    "execution": {
     "iopub.execute_input": "2021-10-03T08:29:52.655539Z",
     "iopub.status.busy": "2021-10-03T08:29:52.655073Z",
     "iopub.status.idle": "2021-10-03T08:29:52.699389Z",
     "shell.execute_reply": "2021-10-03T08:29:52.698840Z"
    }
   },
   "outputs": [
    {
     "data": {
      "image/svg+xml": [
       "<?xml version=\"1.0\" encoding=\"UTF-8\" standalone=\"no\"?><svg xmlns=\"http://www.w3.org/2000/svg\" xmlns:xlink=\"http://www.w3.org/1999/xlink\" contentScriptType=\"application/ecmascript\" contentStyleType=\"text/css\" height=\"253px\" preserveAspectRatio=\"none\" style=\"width:674px;height:253px;\" version=\"1.1\" viewBox=\"0 0 674 253\" width=\"674px\" zoomAndPan=\"magnify\"><defs/><g><!--MD5=[fbc87193dbaf4d95561dea2c320d4a47]\n",
       "cluster E1--><a href=\"psysml:a6b62677-d27b-4bf3-83e0-375e3ba01a4b\" target=\"_top\" title=\"psysml:a6b62677-d27b-4bf3-83e0-375e3ba01a4b\" xlink:actuate=\"onRequest\" xlink:href=\"psysml:a6b62677-d27b-4bf3-83e0-375e3ba01a4b\" xlink:show=\"new\" xlink:title=\"psysml:a6b62677-d27b-4bf3-83e0-375e3ba01a4b\" xlink:type=\"simple\"><polygon fill=\"#FFFFFF\" points=\"16,6,80,6,87,28.2969,652,28.2969,652,241,16,241,16,6\" style=\"stroke: #000000; stroke-width: 1.5;\"/><line style=\"stroke: #000000; stroke-width: 1.5;\" x1=\"16\" x2=\"87\" y1=\"28.2969\" y2=\"28.2969\"/><text fill=\"#000000\" font-family=\"sans-serif\" font-size=\"14\" font-weight=\"bold\" lengthAdjust=\"spacingAndGlyphs\" textLength=\"58\" x=\"20\" y=\"20.9951\">PartTest</text></a><!--MD5=[d5e69f78d87373223dbae638b30a9c99]\n",
       "cluster E3--><a href=\"psysml:a2cad1be-c52d-4964-a87e-891cd7289f52\" target=\"_top\" title=\"psysml:a2cad1be-c52d-4964-a87e-891cd7289f52\" xlink:actuate=\"onRequest\" xlink:href=\"psysml:a2cad1be-c52d-4964-a87e-891cd7289f52\" xlink:show=\"new\" xlink:title=\"psysml:a2cad1be-c52d-4964-a87e-891cd7289f52\" xlink:type=\"simple\"><rect fill=\"#FFFFFF\" height=\"159\" id=\"E3\" style=\"stroke: #383838; stroke-width: 1.5;\" width=\"226\" x=\"410\" y=\"62.5\"/><rect fill=\"#F8F8F8\" height=\"37.9375\" style=\"stroke: #383838; stroke-width: 1.5;\" width=\"226\" x=\"410\" y=\"62.5\"/><text fill=\"#000000\" font-family=\"sans-serif\" font-size=\"12\" font-style=\"italic\" lengthAdjust=\"spacingAndGlyphs\" textLength=\"64\" x=\"491\" y=\"78.6387\">«part def»</text><text fill=\"#000000\" font-family=\"sans-serif\" font-size=\"12\" lengthAdjust=\"spacingAndGlyphs\" textLength=\"8\" x=\"519\" y=\"92.6074\">A</text></a><!--MD5=[55dfccfc6c49c2d10cd1bd2211a6c90c]\n",
       "cluster E8--><a href=\"psysml:bbb3af71-bfb9-47e2-863f-33482c8ff081\" target=\"_top\" title=\"psysml:bbb3af71-bfb9-47e2-863f-33482c8ff081\" xlink:actuate=\"onRequest\" xlink:href=\"psysml:bbb3af71-bfb9-47e2-863f-33482c8ff081\" xlink:show=\"new\" xlink:title=\"psysml:bbb3af71-bfb9-47e2-863f-33482c8ff081\" xlink:type=\"simple\"><rect fill=\"#FFFFFF\" height=\"162.5\" id=\"E8\" style=\"stroke: #383838; stroke-width: 1.5;\" width=\"205\" x=\"197\" y=\"62.5\"/><rect fill=\"#F8F8F8\" height=\"37.9375\" style=\"stroke: #383838; stroke-width: 1.5;\" width=\"205\" x=\"197\" y=\"62.5\"/><text fill=\"#000000\" font-family=\"sans-serif\" font-size=\"12\" font-style=\"italic\" lengthAdjust=\"spacingAndGlyphs\" textLength=\"64\" x=\"267.5\" y=\"78.6387\">«part def»</text><text fill=\"#000000\" font-family=\"sans-serif\" font-size=\"12\" lengthAdjust=\"spacingAndGlyphs\" textLength=\"8\" x=\"295.5\" y=\"92.6074\">B</text></a><g id=\"E1.E12\"><a href=\"psysml:a92372c2-fe41-425f-b40c-da5b8c1ca15d\" target=\"_top\" title=\"psysml:a92372c2-fe41-425f-b40c-da5b8c1ca15d\" xlink:actuate=\"onRequest\" xlink:href=\"psysml:a92372c2-fe41-425f-b40c-da5b8c1ca15d\" xlink:show=\"new\" xlink:title=\"psysml:a92372c2-fe41-425f-b40c-da5b8c1ca15d\" xlink:type=\"simple\"><rect fill=\"#FFFFFF\" height=\"42.9375\" id=\"E12\" style=\"stroke: #383838; stroke-width: 1.5;\" width=\"71\" x=\"117.5\" y=\"41\"/><rect fill=\"#F8F8F8\" height=\"37.9375\" style=\"stroke: #383838; stroke-width: 1.5;\" width=\"71\" x=\"117.5\" y=\"41\"/><text fill=\"#000000\" font-family=\"sans-serif\" font-size=\"12\" font-style=\"italic\" lengthAdjust=\"spacingAndGlyphs\" textLength=\"64\" x=\"121\" y=\"57.1387\">«port def»</text><text fill=\"#000000\" font-family=\"sans-serif\" font-size=\"12\" lengthAdjust=\"spacingAndGlyphs\" textLength=\"8\" x=\"149\" y=\"71.1074\">C</text></a></g><g id=\"E1.E2\"><a href=\"psysml:fef66b5f-1b9d-421e-94fe-86858427a029\" target=\"_top\" title=\"psysml:fef66b5f-1b9d-421e-94fe-86858427a029\" xlink:actuate=\"onRequest\" xlink:href=\"psysml:fef66b5f-1b9d-421e-94fe-86858427a029\" xlink:show=\"new\" xlink:title=\"psysml:fef66b5f-1b9d-421e-94fe-86858427a029\" xlink:type=\"simple\"><rect fill=\"#FFFFFF\" height=\"40\" id=\"E2\" rx=\"10\" ry=\"10\" style=\"stroke: #383838; stroke-width: 1.5;\" width=\"50\" x=\"32\" y=\"42.5\"/><rect fill=\"#F8F8F8\" height=\"23.9688\" rx=\"10\" ry=\"10\" style=\"stroke: #F8F8F8; stroke-width: 1.5;\" width=\"50\" x=\"32\" y=\"42.5\"/><rect fill=\"#F8F8F8\" height=\"10\" style=\"stroke: #F8F8F8; stroke-width: 1.5;\" width=\"50\" x=\"32\" y=\"56.4688\"/><rect fill=\"none\" height=\"40\" id=\"E2\" rx=\"10\" ry=\"10\" style=\"stroke: #383838; stroke-width: 1.5;\" width=\"50\" x=\"32\" y=\"42.5\"/><text fill=\"#000000\" font-family=\"sans-serif\" font-size=\"12\" lengthAdjust=\"spacingAndGlyphs\" textLength=\"20\" x=\"47\" y=\"58.6387\">f: A</text></a></g><text fill=\"#000000\" font-family=\"sans-serif\" font-size=\"14\" lengthAdjust=\"spacingAndGlyphs\" textLength=\"27\" x=\"562.5\" y=\"41.1982\">c: C</text><rect fill=\"#383838\" height=\"12\" style=\"stroke: #F8F8F8; stroke-width: 1.5;\" width=\"12\" x=\"570\" y=\"56.5\"/><!--MD5=[60a26617385b1d2d0262a64233df1f8d]\n",
       "class E6--><a href=\"psysml:4215315b-f4db-4a1d-ab72-0471726dcc45\" target=\"_top\" title=\"psysml:4215315b-f4db-4a1d-ab72-0471726dcc45\" xlink:actuate=\"onRequest\" xlink:href=\"psysml:4215315b-f4db-4a1d-ab72-0471726dcc45\" xlink:show=\"new\" xlink:title=\"psysml:4215315b-f4db-4a1d-ab72-0471726dcc45\" xlink:type=\"simple\"><rect fill=\"#FFFFFF\" height=\"45.9375\" id=\"E6\" rx=\"10\" ry=\"10\" style=\"stroke: #383838; stroke-width: 1.5;\" width=\"71\" x=\"426.5\" y=\"159.5\"/><text fill=\"#000000\" font-family=\"sans-serif\" font-size=\"12\" font-style=\"italic\" lengthAdjust=\"spacingAndGlyphs\" textLength=\"69\" x=\"427.5\" y=\"175.6387\">«attribute»</text><text fill=\"#000000\" font-family=\"sans-serif\" font-size=\"12\" lengthAdjust=\"spacingAndGlyphs\" textLength=\"6\" x=\"459\" y=\"189.6074\">x</text><line style=\"stroke: #383838; stroke-width: 1.5;\" x1=\"427.5\" x2=\"496.5\" y1=\"197.4375\" y2=\"197.4375\"/></a><!--MD5=[2156ba9850f5573cc1fc38a6a4b2f02b]\n",
       "class E7--><a href=\"psysml:89a85a0a-005f-45e8-8309-6769d170c6df\" target=\"_top\" title=\"psysml:89a85a0a-005f-45e8-8309-6769d170c6df\" xlink:actuate=\"onRequest\" xlink:href=\"psysml:89a85a0a-005f-45e8-8309-6769d170c6df\" xlink:show=\"new\" xlink:title=\"psysml:89a85a0a-005f-45e8-8309-6769d170c6df\" xlink:type=\"simple\"><rect fill=\"#FFFFFF\" height=\"45.9375\" id=\"E7\" rx=\"10\" ry=\"10\" style=\"stroke: #383838; stroke-width: 1.5;\" width=\"71\" x=\"426.5\" y=\"100\"/><text fill=\"#000000\" font-family=\"sans-serif\" font-size=\"12\" font-style=\"italic\" lengthAdjust=\"spacingAndGlyphs\" textLength=\"69\" x=\"427.5\" y=\"116.1387\">«attribute»</text><text fill=\"#000000\" font-family=\"sans-serif\" font-size=\"12\" lengthAdjust=\"spacingAndGlyphs\" textLength=\"6\" x=\"459\" y=\"130.1074\">y</text><line style=\"stroke: #383838; stroke-width: 1.5;\" x1=\"427.5\" x2=\"496.5\" y1=\"137.9375\" y2=\"137.9375\"/></a><g id=\"E1.E3.E4\"><a href=\"psysml:9dcf2186-613a-4b96-912f-a1b95f354387\" target=\"_top\" title=\"psysml:9dcf2186-613a-4b96-912f-a1b95f354387\" xlink:actuate=\"onRequest\" xlink:href=\"psysml:9dcf2186-613a-4b96-912f-a1b95f354387\" xlink:show=\"new\" xlink:title=\"psysml:9dcf2186-613a-4b96-912f-a1b95f354387\" xlink:type=\"simple\"><rect fill=\"#FFFFFF\" height=\"40\" id=\"E4\" rx=\"10\" ry=\"10\" style=\"stroke: #383838; stroke-width: 1.5;\" width=\"50\" x=\"551\" y=\"162.5\"/><rect fill=\"#F8F8F8\" height=\"23.9688\" rx=\"10\" ry=\"10\" style=\"stroke: #F8F8F8; stroke-width: 1.5;\" width=\"50\" x=\"551\" y=\"162.5\"/><rect fill=\"#F8F8F8\" height=\"10\" style=\"stroke: #F8F8F8; stroke-width: 1.5;\" width=\"50\" x=\"551\" y=\"176.4688\"/><rect fill=\"none\" height=\"40\" id=\"E4\" rx=\"10\" ry=\"10\" style=\"stroke: #383838; stroke-width: 1.5;\" width=\"50\" x=\"551\" y=\"162.5\"/><text fill=\"#000000\" font-family=\"sans-serif\" font-size=\"12\" lengthAdjust=\"spacingAndGlyphs\" textLength=\"24\" x=\"564\" y=\"178.6387\">b: B</text></a></g><text fill=\"#000000\" font-family=\"sans-serif\" font-size=\"14\" lengthAdjust=\"spacingAndGlyphs\" textLength=\"38\" x=\"323\" y=\"41.1982\">x: ~C</text><rect fill=\"#383838\" height=\"12\" style=\"stroke: #F8F8F8; stroke-width: 1.5;\" width=\"12\" x=\"336\" y=\"56.5\"/><g id=\"E1.E8.E9\"><a href=\"psysml:c128dc79-fecf-4cdb-b1ba-5850a9b121ec\" target=\"_top\" title=\"psysml:c128dc79-fecf-4cdb-b1ba-5850a9b121ec\" xlink:actuate=\"onRequest\" xlink:href=\"psysml:c128dc79-fecf-4cdb-b1ba-5850a9b121ec\" xlink:show=\"new\" xlink:title=\"psysml:c128dc79-fecf-4cdb-b1ba-5850a9b121ec\" xlink:type=\"simple\"><rect fill=\"#FFFFFF\" height=\"40\" id=\"E9\" rx=\"10\" ry=\"10\" style=\"stroke: #383838; stroke-width: 1.5;\" width=\"50\" x=\"213\" y=\"103\"/><rect fill=\"#F8F8F8\" height=\"23.9688\" rx=\"10\" ry=\"10\" style=\"stroke: #F8F8F8; stroke-width: 1.5;\" width=\"50\" x=\"213\" y=\"103\"/><rect fill=\"#F8F8F8\" height=\"10\" style=\"stroke: #F8F8F8; stroke-width: 1.5;\" width=\"50\" x=\"213\" y=\"116.9688\"/><rect fill=\"none\" height=\"40\" id=\"E9\" rx=\"10\" ry=\"10\" style=\"stroke: #383838; stroke-width: 1.5;\" width=\"50\" x=\"213\" y=\"103\"/><text fill=\"#000000\" font-family=\"sans-serif\" font-size=\"12\" lengthAdjust=\"spacingAndGlyphs\" textLength=\"24\" x=\"226\" y=\"119.1387\">a: A</text></a></g><a href=\"psysml:f4e4ee2b-1abf-4dbd-8483-2b091bdfceaf\" target=\"_top\" title=\"psysml:f4e4ee2b-1abf-4dbd-8483-2b091bdfceaf\" xlink:actuate=\"onRequest\" xlink:href=\"psysml:f4e4ee2b-1abf-4dbd-8483-2b091bdfceaf\" xlink:show=\"new\" xlink:title=\"psysml:f4e4ee2b-1abf-4dbd-8483-2b091bdfceaf\" xlink:type=\"simple\"><polygon fill=\"#FFFFFF\" points=\"327.5,156,342.5,156,349.5,178.2969,356.5,178.2969,356.5,208.5938,327.5,208.5938,327.5,156\" style=\"stroke: #000000; stroke-width: 1.5;\"/><line style=\"stroke: #000000; stroke-width: 1.5;\" x1=\"327.5\" x2=\"349.5\" y1=\"178.2969\" y2=\"178.2969\"/><text fill=\"#000000\" font-family=\"sans-serif\" font-size=\"14\" font-weight=\"bold\" lengthAdjust=\"spacingAndGlyphs\" textLength=\"9\" x=\"331.5\" y=\"170.9951\">P</text></a><!--MD5=[fbb449814971db3a0b8220cf225b9e01]\n",
       "link E7 to E6--><a href=\"psysml:786244db-8099-4288-b2d9-7a0aeaae101d\" target=\"_top\" title=\"psysml:786244db-8099-4288-b2d9-7a0aeaae101d\" xlink:actuate=\"onRequest\" xlink:href=\"psysml:786244db-8099-4288-b2d9-7a0aeaae101d\" xlink:show=\"new\" xlink:title=\"psysml:786244db-8099-4288-b2d9-7a0aeaae101d\" xlink:type=\"simple\"><path d=\"M462,146.07 C462,146.2 462,146.34 462,146.47 \" fill=\"none\" id=\"E7-&gt;E6\" style=\"stroke: #383838; stroke-width: 1.0;\"/><polygon fill=\"none\" points=\"469,139.21,462,159.21,455,139.21,469,139.21\" style=\"stroke: #383838; stroke-width: 1.0;\"/></a><!--MD5=[1369e38f0ae711e4f0db3538646ef4a2]\n",
       "@startuml\r\n",
       "skinparam ranksep 10\r\n",
       "skinparam rectangle {\r\n",
       " backgroundColor<<block>> LightGreen\r\n",
       "}\r\n",
       "skinparam linetype polyline\r\n",
       "skinparam monochrome true\r\n",
       "skinparam classbackgroundcolor white\r\n",
       "skinparam shadowing false\r\n",
       "skinparam wrapWidth 300\r\n",
       "hide circle\r\n",
       "\r\n",
       "package \"PartTest\" as E1  [[psysml:a6b62677-d27b-4bf3-83e0-375e3ba01a4b ]]  {\r\n",
       "rec usage \"f: A\" as E2  [[psysml:fef66b5f-1b9d-421e-94fe-86858427a029 ]] {\r\n",
       "}\r\n",
       "rec def \"A\" as E3  <<(T,blue) part def>> [[psysml:a2cad1be-c52d-4964-a87e-891cd7289f52 ]] {\r\n",
       "rec usage \"b: B\" as E4  [[psysml:9dcf2186-613a-4b96-912f-a1b95f354387 ]] {\r\n",
       "}\r\n",
       "portin \"c: C\" as E5  <<(T,blue) port>> [[psysml:a3147892-19dd-4d4c-8f64-71e53da800dc ]] \r\n",
       "comp usage \"x\" as E6  <<(T,blue) attribute>> [[psysml:4215315b-f4db-4a1d-ab72-0471726dcc45 ]] {\r\n",
       "}\r\n",
       "comp usage \"y\" as E7  <<(T,blue) attribute>> [[psysml:89a85a0a-005f-45e8-8309-6769d170c6df ]] {\r\n",
       "}\r\n",
       "}\r\n",
       "rec def \"B\" as E8  <<(T,blue) part def>> [[psysml:bbb3af71-bfb9-47e2-863f-33482c8ff081 ]] {\r\n",
       "rec usage \"a: A\" as E9  [[psysml:c128dc79-fecf-4cdb-b1ba-5850a9b121ec ]] {\r\n",
       "}\r\n",
       "portin \"x: ~C\" as E10  <<(T,blue) port>> [[psysml:540f6402-e62e-4ea3-b051-5d5cf5bfcb38 ]] \r\n",
       "package \"P\" as E11  [[psysml:f4e4ee2b-1abf-4dbd-8483-2b091bdfceaf ]]  {\r\n",
       "}\r\n",
       "}\r\n",
       "def \"C\" as E12  <<(T,blue) port def>> [[psysml:a92372c2-fe41-425f-b40c-da5b8c1ca15d ]] \r\n",
       "}\r\n",
       "E7 - -|> E6 [[psysml:786244db-8099-4288-b2d9-7a0aeaae101d ]] \r\n",
       "@enduml\r\n",
       "\n",
       "PlantUML version 1.2020.13(Sat Jun 13 12:26:38 UTC 2020)\n",
       "(EPL source distribution)\n",
       "Java Runtime: OpenJDK Runtime Environment\n",
       "JVM: OpenJDK 64-Bit Server VM\n",
       "Default Encoding: UTF-8\n",
       "Language: en\n",
       "Country: null\n",
       "--></g></svg>"
      ]
     },
     "execution_count": 12,
     "metadata": {},
     "output_type": "execute_result"
    }
   ],
   "source": [
    "%viz --style=\"POLYLINE\" --view=\"Interconnection\" \"PartTest\""
   ]
  },
  {
   "cell_type": "code",
   "execution_count": 13,
   "id": "d776dba0",
   "metadata": {
    "execution": {
     "iopub.execute_input": "2021-10-03T08:29:52.747709Z",
     "iopub.status.busy": "2021-10-03T08:29:52.747257Z",
     "iopub.status.idle": "2021-10-03T08:29:52.753888Z",
     "shell.execute_reply": "2021-10-03T08:29:52.754349Z"
    }
   },
   "outputs": [
    {
     "data": {
      "image/svg+xml": [
       "<?xml version=\"1.0\" encoding=\"UTF-8\" standalone=\"no\"?><svg xmlns=\"http://www.w3.org/2000/svg\" xmlns:xlink=\"http://www.w3.org/1999/xlink\" contentScriptType=\"application/ecmascript\" contentStyleType=\"text/css\" height=\"12px\" preserveAspectRatio=\"none\" style=\"width:12px;height:12px;\" version=\"1.1\" viewBox=\"0 0 12 12\" width=\"12px\" zoomAndPan=\"magnify\"><defs/><g><!--MD5=[97bbf32f66ccd50cbc40d92ea8f5a65e]\n",
       "@startuml\r\n",
       "skinparam ranksep 8\r\n",
       "skinparam linetype polyline\r\n",
       "skinparam monochrome true\r\n",
       "skinparam classbackgroundcolor white\r\n",
       "skinparam shadowing false\r\n",
       "skinparam wrapWidth 300\r\n",
       "hide circle\r\n",
       "\r\n",
       "@enduml\r\n",
       "\n",
       "PlantUML version 1.2020.13(Sat Jun 13 12:26:38 UTC 2020)\n",
       "(EPL source distribution)\n",
       "Java Runtime: OpenJDK Runtime Environment\n",
       "JVM: OpenJDK 64-Bit Server VM\n",
       "Default Encoding: UTF-8\n",
       "Language: en\n",
       "Country: null\n",
       "--></g></svg>"
      ]
     },
     "execution_count": 13,
     "metadata": {},
     "output_type": "execute_result"
    }
   ],
   "source": [
    "%viz --style=\"POLYLINE\" --view=\"Action\" \"PartTest\""
   ]
  },
  {
   "cell_type": "code",
   "execution_count": 14,
   "id": "f83f67bf",
   "metadata": {
    "execution": {
     "iopub.execute_input": "2021-10-03T08:29:52.803282Z",
     "iopub.status.busy": "2021-10-03T08:29:52.802840Z",
     "iopub.status.idle": "2021-10-03T08:29:52.808421Z",
     "shell.execute_reply": "2021-10-03T08:29:52.808737Z"
    }
   },
   "outputs": [
    {
     "data": {
      "image/svg+xml": [
       "<?xml version=\"1.0\" encoding=\"UTF-8\" standalone=\"no\"?><svg xmlns=\"http://www.w3.org/2000/svg\" xmlns:xlink=\"http://www.w3.org/1999/xlink\" contentScriptType=\"application/ecmascript\" contentStyleType=\"text/css\" height=\"12px\" preserveAspectRatio=\"none\" style=\"width:12px;height:12px;\" version=\"1.1\" viewBox=\"0 0 12 12\" width=\"12px\" zoomAndPan=\"magnify\"><defs/><g><!--MD5=[dc938048236c351797870c36b62f92ad]\n",
       "@startuml\r\n",
       "skinparam roundcorner 20\r\n",
       "skinparam BoxPadding 20\r\n",
       "skinparam SequenceBoxBackgroundColor #white\r\n",
       "skinparam style strictuml\r\n",
       "skinparam maxMessageSize 100\r\n",
       "skinparam linetype polyline\r\n",
       "skinparam monochrome true\r\n",
       "skinparam classbackgroundcolor white\r\n",
       "skinparam shadowing false\r\n",
       "skinparam wrapWidth 300\r\n",
       "hide circle\r\n",
       "\r\n",
       "@enduml\r\n",
       "\n",
       "PlantUML version 1.2020.13(Sat Jun 13 12:26:38 UTC 2020)\n",
       "(EPL source distribution)\n",
       "Java Runtime: OpenJDK Runtime Environment\n",
       "JVM: OpenJDK 64-Bit Server VM\n",
       "Default Encoding: UTF-8\n",
       "Language: en\n",
       "Country: null\n",
       "--></g></svg>"
      ]
     },
     "execution_count": 14,
     "metadata": {},
     "output_type": "execute_result"
    }
   ],
   "source": [
    "%viz --style=\"POLYLINE\" --view=\"Sequence\" \"PartTest\""
   ]
  },
  {
   "cell_type": "code",
   "execution_count": 15,
   "id": "b1b608a9",
   "metadata": {
    "execution": {
     "iopub.execute_input": "2021-10-03T08:29:52.858442Z",
     "iopub.status.busy": "2021-10-03T08:29:52.858022Z",
     "iopub.status.idle": "2021-10-03T08:29:52.927106Z",
     "shell.execute_reply": "2021-10-03T08:29:52.926594Z"
    }
   },
   "outputs": [
    {
     "data": {
      "image/svg+xml": [
       "<?xml version=\"1.0\" encoding=\"UTF-8\" standalone=\"no\"?><svg xmlns=\"http://www.w3.org/2000/svg\" xmlns:xlink=\"http://www.w3.org/1999/xlink\" contentScriptType=\"application/ecmascript\" contentStyleType=\"text/css\" height=\"760px\" preserveAspectRatio=\"none\" style=\"width:423px;height:760px;\" version=\"1.1\" viewBox=\"0 0 423 760\" width=\"423px\" zoomAndPan=\"magnify\"><defs/><g><!--MD5=[fbc87193dbaf4d95561dea2c320d4a47]\n",
       "cluster E1--><a href=\"psysml:a6b62677-d27b-4bf3-83e0-375e3ba01a4b\" target=\"_top\" title=\"psysml:a6b62677-d27b-4bf3-83e0-375e3ba01a4b\" xlink:actuate=\"onRequest\" xlink:href=\"psysml:a6b62677-d27b-4bf3-83e0-375e3ba01a4b\" xlink:show=\"new\" xlink:title=\"psysml:a6b62677-d27b-4bf3-83e0-375e3ba01a4b\" xlink:type=\"simple\"><polygon fill=\"#FFFFFF\" points=\"16,6,80,6,87,28.2969,401,28.2969,401,748,16,748,16,6\" style=\"stroke: #000000; stroke-width: 1.5;\"/><line style=\"stroke: #000000; stroke-width: 1.5;\" x1=\"16\" x2=\"87\" y1=\"28.2969\" y2=\"28.2969\"/><text fill=\"#000000\" font-family=\"sans-serif\" font-size=\"14\" font-weight=\"bold\" lengthAdjust=\"spacingAndGlyphs\" textLength=\"58\" x=\"20\" y=\"20.9951\">PartTest</text></a><!--MD5=[b4997ac47864f28c2f74865a473b2911]\n",
       "class E2--><a href=\"psysml:fef66b5f-1b9d-421e-94fe-86858427a029\" target=\"_top\" title=\"psysml:fef66b5f-1b9d-421e-94fe-86858427a029\" xlink:actuate=\"onRequest\" xlink:href=\"psysml:fef66b5f-1b9d-421e-94fe-86858427a029\" xlink:show=\"new\" xlink:title=\"psysml:fef66b5f-1b9d-421e-94fe-86858427a029\" xlink:type=\"simple\"><rect fill=\"#FFFFFF\" height=\"45.9375\" id=\"E2\" rx=\"10\" ry=\"10\" style=\"stroke: #383838; stroke-width: 1.5;\" width=\"42\" x=\"201\" y=\"41\"/><text fill=\"#000000\" font-family=\"sans-serif\" font-size=\"12\" font-style=\"italic\" lengthAdjust=\"spacingAndGlyphs\" textLength=\"40\" x=\"202\" y=\"57.1387\">«part»</text><text fill=\"#000000\" font-family=\"sans-serif\" font-size=\"12\" lengthAdjust=\"spacingAndGlyphs\" textLength=\"20\" x=\"212\" y=\"71.1074\">f: A</text><line style=\"stroke: #383838; stroke-width: 1.5;\" x1=\"202\" x2=\"242\" y1=\"78.9375\" y2=\"78.9375\"/></a><!--MD5=[09b614a08d8cba4a07c9adeb5e0fee81]\n",
       "class E3--><a href=\"psysml:a2cad1be-c52d-4964-a87e-891cd7289f52\" target=\"_top\" title=\"psysml:a2cad1be-c52d-4964-a87e-891cd7289f52\" xlink:actuate=\"onRequest\" xlink:href=\"psysml:a2cad1be-c52d-4964-a87e-891cd7289f52\" xlink:show=\"new\" xlink:title=\"psysml:a2cad1be-c52d-4964-a87e-891cd7289f52\" xlink:type=\"simple\"><rect fill=\"#FFFFFF\" height=\"88.3516\" id=\"E3\" style=\"stroke: #383838; stroke-width: 1.5;\" width=\"66\" x=\"189\" y=\"148\"/><text fill=\"#000000\" font-family=\"sans-serif\" font-size=\"12\" font-style=\"italic\" lengthAdjust=\"spacingAndGlyphs\" textLength=\"64\" x=\"190\" y=\"164.1387\">«part def»</text><text fill=\"#000000\" font-family=\"sans-serif\" font-size=\"12\" lengthAdjust=\"spacingAndGlyphs\" textLength=\"8\" x=\"218\" y=\"178.1074\">A</text><line style=\"stroke: #383838; stroke-width: 1.5;\" x1=\"190\" x2=\"254\" y1=\"185.9375\" y2=\"185.9375\"/><text fill=\"#000000\" font-family=\"sans-serif\" font-size=\"11\" lengthAdjust=\"spacingAndGlyphs\" textLength=\"6\" x=\"195\" y=\"216.9526\">x</text><text fill=\"#000000\" font-family=\"sans-serif\" font-size=\"11\" lengthAdjust=\"spacingAndGlyphs\" textLength=\"6\" x=\"195\" y=\"229.7573\">y</text><line style=\"stroke: #383838; stroke-width: 1.0;\" x1=\"190\" x2=\"194.5\" y1=\"200.3398\" y2=\"200.3398\"/><text fill=\"#000000\" font-family=\"sans-serif\" font-size=\"11\" lengthAdjust=\"spacingAndGlyphs\" textLength=\"55\" x=\"194.5\" y=\"203.6479\">attributes</text><line style=\"stroke: #383838; stroke-width: 1.0;\" x1=\"249.5\" x2=\"254\" y1=\"200.3398\" y2=\"200.3398\"/></a><!--MD5=[ebbe1d658d1005bcc118a6aa81145e00]\n",
       "class E4--><a href=\"psysml:9dcf2186-613a-4b96-912f-a1b95f354387\" target=\"_top\" title=\"psysml:9dcf2186-613a-4b96-912f-a1b95f354387\" xlink:actuate=\"onRequest\" xlink:href=\"psysml:9dcf2186-613a-4b96-912f-a1b95f354387\" xlink:show=\"new\" xlink:title=\"psysml:9dcf2186-613a-4b96-912f-a1b95f354387\" xlink:type=\"simple\"><rect fill=\"#FFFFFF\" height=\"45.9375\" id=\"E4\" rx=\"10\" ry=\"10\" style=\"stroke: #383838; stroke-width: 1.5;\" width=\"42\" x=\"323\" y=\"373\"/><text fill=\"#000000\" font-family=\"sans-serif\" font-size=\"12\" font-style=\"italic\" lengthAdjust=\"spacingAndGlyphs\" textLength=\"40\" x=\"324\" y=\"389.1387\">«part»</text><text fill=\"#000000\" font-family=\"sans-serif\" font-size=\"12\" lengthAdjust=\"spacingAndGlyphs\" textLength=\"24\" x=\"332\" y=\"403.1074\">b: B</text><line style=\"stroke: #383838; stroke-width: 1.5;\" x1=\"324\" x2=\"364\" y1=\"410.9375\" y2=\"410.9375\"/></a><!--MD5=[270fce915f116d4de14055a7c1d9a0f3]\n",
       "class E5--><a href=\"psysml:a3147892-19dd-4d4c-8f64-71e53da800dc\" target=\"_top\" title=\"psysml:a3147892-19dd-4d4c-8f64-71e53da800dc\" xlink:actuate=\"onRequest\" xlink:href=\"psysml:a3147892-19dd-4d4c-8f64-71e53da800dc\" xlink:show=\"new\" xlink:title=\"psysml:a3147892-19dd-4d4c-8f64-71e53da800dc\" xlink:type=\"simple\"><rect fill=\"#FFFFFF\" height=\"45.9375\" id=\"E5\" rx=\"10\" ry=\"10\" style=\"stroke: #383838; stroke-width: 1.5;\" width=\"42\" x=\"306\" y=\"297\"/><text fill=\"#000000\" font-family=\"sans-serif\" font-size=\"12\" font-style=\"italic\" lengthAdjust=\"spacingAndGlyphs\" textLength=\"40\" x=\"307\" y=\"313.1387\">«port»</text><text fill=\"#000000\" font-family=\"sans-serif\" font-size=\"12\" lengthAdjust=\"spacingAndGlyphs\" textLength=\"23\" x=\"315.5\" y=\"327.1074\">c: C</text><line style=\"stroke: #383838; stroke-width: 1.5;\" x1=\"307\" x2=\"347\" y1=\"334.9375\" y2=\"334.9375\"/></a><!--MD5=[60a26617385b1d2d0262a64233df1f8d]\n",
       "class E6--><a href=\"psysml:bbb3af71-bfb9-47e2-863f-33482c8ff081\" target=\"_top\" title=\"psysml:bbb3af71-bfb9-47e2-863f-33482c8ff081\" xlink:actuate=\"onRequest\" xlink:href=\"psysml:bbb3af71-bfb9-47e2-863f-33482c8ff081\" xlink:show=\"new\" xlink:title=\"psysml:bbb3af71-bfb9-47e2-863f-33482c8ff081\" xlink:type=\"simple\"><rect fill=\"#FFFFFF\" height=\"45.9375\" id=\"E6\" style=\"stroke: #383838; stroke-width: 1.5;\" width=\"66\" x=\"163\" y=\"572\"/><text fill=\"#000000\" font-family=\"sans-serif\" font-size=\"12\" font-style=\"italic\" lengthAdjust=\"spacingAndGlyphs\" textLength=\"64\" x=\"164\" y=\"588.1387\">«part def»</text><text fill=\"#000000\" font-family=\"sans-serif\" font-size=\"12\" lengthAdjust=\"spacingAndGlyphs\" textLength=\"8\" x=\"192\" y=\"602.1074\">B</text><line style=\"stroke: #383838; stroke-width: 1.5;\" x1=\"164\" x2=\"228\" y1=\"609.9375\" y2=\"609.9375\"/></a><!--MD5=[2156ba9850f5573cc1fc38a6a4b2f02b]\n",
       "class E7--><a href=\"psysml:c128dc79-fecf-4cdb-b1ba-5850a9b121ec\" target=\"_top\" title=\"psysml:c128dc79-fecf-4cdb-b1ba-5850a9b121ec\" xlink:actuate=\"onRequest\" xlink:href=\"psysml:c128dc79-fecf-4cdb-b1ba-5850a9b121ec\" xlink:show=\"new\" xlink:title=\"psysml:c128dc79-fecf-4cdb-b1ba-5850a9b121ec\" xlink:type=\"simple\"><rect fill=\"#FFFFFF\" height=\"45.9375\" id=\"E7\" rx=\"10\" ry=\"10\" style=\"stroke: #383838; stroke-width: 1.5;\" width=\"42\" x=\"58\" y=\"682.5\"/><text fill=\"#000000\" font-family=\"sans-serif\" font-size=\"12\" font-style=\"italic\" lengthAdjust=\"spacingAndGlyphs\" textLength=\"40\" x=\"59\" y=\"698.6387\">«part»</text><text fill=\"#000000\" font-family=\"sans-serif\" font-size=\"12\" lengthAdjust=\"spacingAndGlyphs\" textLength=\"24\" x=\"67\" y=\"712.6074\">a: A</text><line style=\"stroke: #383838; stroke-width: 1.5;\" x1=\"59\" x2=\"99\" y1=\"720.4375\" y2=\"720.4375\"/></a><!--MD5=[b9389687b975829384b498ac4b7476b2]\n",
       "class E8--><a href=\"psysml:540f6402-e62e-4ea3-b051-5d5cf5bfcb38\" target=\"_top\" title=\"psysml:540f6402-e62e-4ea3-b051-5d5cf5bfcb38\" xlink:actuate=\"onRequest\" xlink:href=\"psysml:540f6402-e62e-4ea3-b051-5d5cf5bfcb38\" xlink:show=\"new\" xlink:title=\"psysml:540f6402-e62e-4ea3-b051-5d5cf5bfcb38\" xlink:type=\"simple\"><rect fill=\"#FFFFFF\" height=\"45.9375\" id=\"E8\" rx=\"10\" ry=\"10\" style=\"stroke: #383838; stroke-width: 1.5;\" width=\"42\" x=\"213\" y=\"682.5\"/><text fill=\"#000000\" font-family=\"sans-serif\" font-size=\"12\" font-style=\"italic\" lengthAdjust=\"spacingAndGlyphs\" textLength=\"40\" x=\"214\" y=\"698.6387\">«port»</text><text fill=\"#000000\" font-family=\"sans-serif\" font-size=\"12\" lengthAdjust=\"spacingAndGlyphs\" textLength=\"32\" x=\"218\" y=\"712.6074\">x: ~C</text><line style=\"stroke: #383838; stroke-width: 1.5;\" x1=\"214\" x2=\"254\" y1=\"720.4375\" y2=\"720.4375\"/></a><!--MD5=[96f4274e9e20536e775497830990834d]\n",
       "class E10--><a href=\"psysml:a92372c2-fe41-425f-b40c-da5b8c1ca15d\" target=\"_top\" title=\"psysml:a92372c2-fe41-425f-b40c-da5b8c1ca15d\" xlink:actuate=\"onRequest\" xlink:href=\"psysml:a92372c2-fe41-425f-b40c-da5b8c1ca15d\" xlink:show=\"new\" xlink:title=\"psysml:a92372c2-fe41-425f-b40c-da5b8c1ca15d\" xlink:type=\"simple\"><rect fill=\"#FFFFFF\" height=\"45.9375\" id=\"E10\" style=\"stroke: #383838; stroke-width: 1.5;\" width=\"66\" x=\"163\" y=\"449\"/><text fill=\"#000000\" font-family=\"sans-serif\" font-size=\"12\" font-style=\"italic\" lengthAdjust=\"spacingAndGlyphs\" textLength=\"64\" x=\"164\" y=\"465.1387\">«port def»</text><text fill=\"#000000\" font-family=\"sans-serif\" font-size=\"12\" lengthAdjust=\"spacingAndGlyphs\" textLength=\"8\" x=\"192\" y=\"479.1074\">C</text><line style=\"stroke: #383838; stroke-width: 1.5;\" x1=\"164\" x2=\"228\" y1=\"486.9375\" y2=\"486.9375\"/></a><a href=\"psysml:f4e4ee2b-1abf-4dbd-8483-2b091bdfceaf\" target=\"_top\" title=\"psysml:f4e4ee2b-1abf-4dbd-8483-2b091bdfceaf\" xlink:actuate=\"onRequest\" xlink:href=\"psysml:f4e4ee2b-1abf-4dbd-8483-2b091bdfceaf\" xlink:show=\"new\" xlink:title=\"psysml:f4e4ee2b-1abf-4dbd-8483-2b091bdfceaf\" xlink:type=\"simple\"><polygon fill=\"#FFFFFF\" points=\"148.5,679,163.5,679,170.5,701.2969,177.5,701.2969,177.5,731.5938,148.5,731.5938,148.5,679\" style=\"stroke: #000000; stroke-width: 1.5;\"/><line style=\"stroke: #000000; stroke-width: 1.5;\" x1=\"148.5\" x2=\"170.5\" y1=\"701.2969\" y2=\"701.2969\"/><text fill=\"#000000\" font-family=\"sans-serif\" font-size=\"14\" font-weight=\"bold\" lengthAdjust=\"spacingAndGlyphs\" textLength=\"9\" x=\"152.5\" y=\"693.9951\">P</text></a><!--MD5=[2720a5a1f2c3fca2055b230370638851]\n",
       "link E2 to E3--><a href=\"psysml:488f6ee0-39a9-4dc0-b555-612cc99c37a1\" target=\"_top\" title=\"psysml:488f6ee0-39a9-4dc0-b555-612cc99c37a1\" xlink:actuate=\"onRequest\" xlink:href=\"psysml:488f6ee0-39a9-4dc0-b555-612cc99c37a1\" xlink:show=\"new\" xlink:title=\"psysml:488f6ee0-39a9-4dc0-b555-612cc99c37a1\" xlink:type=\"simple\"><path d=\"M222,87.24 C222,98.62 222,113.11 222,127.62 \" fill=\"none\" id=\"E2-&gt;E3\" style=\"stroke: #383838; stroke-width: 1.0;\"/><polygon fill=\"#FFFFFF\" points=\"222,147.84,215,128.84,229,128.84,222,147.84\" style=\"stroke: #383838; stroke-width: 1.0;\"/><ellipse cx=\"217\" cy=\"123.14\" fill=\"#383838\" rx=\"2\" ry=\"2\" style=\"stroke: #383838; stroke-width: 1.0;\"/><ellipse cx=\"227\" cy=\"123.14\" fill=\"#383838\" rx=\"2\" ry=\"2\" style=\"stroke: #383838; stroke-width: 1.0;\"/></a><!--MD5=[4672eba38e49728da53d11aeb285b987]\n",
       "reverse link E3 to E4--><a href=\"psysml:98712745-a638-4d1f-8ffc-380c342569c9\" target=\"_top\" title=\"psysml:98712745-a638-4d1f-8ffc-380c342569c9\" xlink:actuate=\"onRequest\" xlink:href=\"psysml:98712745-a638-4d1f-8ffc-380c342569c9\" xlink:show=\"new\" xlink:title=\"psysml:98712745-a638-4d1f-8ffc-380c342569c9\" xlink:type=\"simple\"><path d=\"M265.7,224.56 C308.07,255.16 366,297 366,297 C366,297 366,343 366,343 C366,343 359.33,358.77 353.33,372.95 \" fill=\"none\" id=\"E3&lt;-E4\" style=\"stroke: #383838; stroke-width: 1.0;\"/><polygon fill=\"#383838\" points=\"255.04,216.86,257.5621,223.6157,264.7682,223.8859,262.246,217.1302,255.04,216.86\" style=\"stroke: #383838; stroke-width: 1.0;\"/><text fill=\"#000000\" font-family=\"sans-serif\" font-size=\"13\" lengthAdjust=\"spacingAndGlyphs\" textLength=\"8\" x=\"347.5421\" y=\"363.0588\">1</text></a><!--MD5=[191cde3d490a3f6d7bb551fe3ddca469]\n",
       "reverse link E3 to E5--><a href=\"psysml:3d3c789c-d512-4565-8d7c-059f8d1010f8\" target=\"_top\" title=\"psysml:3d3c789c-d512-4565-8d7c-059f8d1010f8\" xlink:actuate=\"onRequest\" xlink:href=\"psysml:3d3c789c-d512-4565-8d7c-059f8d1010f8\" xlink:show=\"new\" xlink:title=\"psysml:3d3c789c-d512-4565-8d7c-059f8d1010f8\" xlink:type=\"simple\"><path d=\"M263.71,243.06 C279.31,261.77 296.23,282.08 308.65,296.98 \" fill=\"none\" id=\"E3&lt;-E5\" style=\"stroke: #383838; stroke-width: 1.0;\"/><polygon fill=\"#FFFFFF\" points=\"255.22,232.87,255.9912,240.0397,262.9061,242.0854,262.1349,234.9157,255.22,232.87\" style=\"stroke: #383838; stroke-width: 1.0;\"/><text fill=\"#000000\" font-family=\"sans-serif\" font-size=\"13\" lengthAdjust=\"spacingAndGlyphs\" textLength=\"8\" x=\"294.6434\" y=\"285.8709\">1</text></a><!--MD5=[79568f1e445c3877b6a54524624ccc7d]\n",
       "link E4 to E6--><a href=\"psysml:1225703b-924d-44f0-aa92-4bca49ced0c9\" target=\"_top\" title=\"psysml:1225703b-924d-44f0-aa92-4bca49ced0c9\" xlink:actuate=\"onRequest\" xlink:href=\"psysml:1225703b-924d-44f0-aa92-4bca49ced0c9\" xlink:show=\"new\" xlink:title=\"psysml:1225703b-924d-44f0-aa92-4bca49ced0c9\" xlink:type=\"simple\"><path d=\"M327.31,419.22 C302.43,452.34 255.27,515.1 224.76,555.71 \" fill=\"none\" id=\"E4-&gt;E6\" style=\"stroke: #383838; stroke-width: 1.0;\"/><polygon fill=\"#FFFFFF\" points=\"212.63,571.87,218.4494,552.4758,229.641,560.887,212.63,571.87\" style=\"stroke: #383838; stroke-width: 1.0;\"/><ellipse cx=\"223.4728\" cy=\"549.1208\" fill=\"#383838\" rx=\"2\" ry=\"2\" style=\"stroke: #383838; stroke-width: 1.0;\"/><ellipse cx=\"231.4668\" cy=\"555.1288\" fill=\"#383838\" rx=\"2\" ry=\"2\" style=\"stroke: #383838; stroke-width: 1.0;\"/></a><!--MD5=[3f50a3473f1dfb74d3f76443e03635af]\n",
       "reverse link E6 to E7--><a href=\"psysml:a81e6d2d-a633-4d51-820c-a47602c519dd\" target=\"_top\" title=\"psysml:a81e6d2d-a633-4d51-820c-a47602c519dd\" xlink:actuate=\"onRequest\" xlink:href=\"psysml:a81e6d2d-a633-4d51-820c-a47602c519dd\" xlink:show=\"new\" xlink:title=\"psysml:a81e6d2d-a633-4d51-820c-a47602c519dd\" xlink:type=\"simple\"><path d=\"M162.35,627.2 C142.32,645.78 117.5,668.8 100.18,684.86 \" fill=\"none\" id=\"E6&lt;-E7\" style=\"stroke: #383838; stroke-width: 1.0;\"/><polygon fill=\"#383838\" points=\"172.04,618.22,164.9211,619.3695,163.2441,626.3829,170.363,625.2334,172.04,618.22\" style=\"stroke: #383838; stroke-width: 1.0;\"/><text fill=\"#000000\" font-family=\"sans-serif\" font-size=\"13\" lengthAdjust=\"spacingAndGlyphs\" textLength=\"8\" x=\"107.8914\" y=\"673.3389\">1</text></a><!--MD5=[14ccda38c055a5c0da953d572bc50960]\n",
       "link E7 to E3--><a href=\"psysml:4883cacd-6695-4e4a-8cc2-3609b81ec9a9\" target=\"_top\" title=\"psysml:4883cacd-6695-4e4a-8cc2-3609b81ec9a9\" xlink:actuate=\"onRequest\" xlink:href=\"psysml:4883cacd-6695-4e4a-8cc2-3609b81ec9a9\" xlink:show=\"new\" xlink:title=\"psysml:4883cacd-6695-4e4a-8cc2-3609b81ec9a9\" xlink:type=\"simple\"><path d=\"M69.58,682.28 C56.12,650.54 33,596 33,596 C33,319 33,319 33,319 C33,319 115.91,263.73 171.9,226.4 \" fill=\"none\" id=\"E7-&gt;E3\" style=\"stroke: #383838; stroke-width: 1.0;\"/><polygon fill=\"#FFFFFF\" points=\"188.65,215.24,176.7337,231.6107,168.9609,219.9667,188.65,215.24\" style=\"stroke: #383838; stroke-width: 1.0;\"/><ellipse cx=\"170.8825\" cy=\"233.1119\" fill=\"#383838\" rx=\"2\" ry=\"2\" style=\"stroke: #383838; stroke-width: 1.0;\"/><ellipse cx=\"165.3305\" cy=\"224.7947\" fill=\"#383838\" rx=\"2\" ry=\"2\" style=\"stroke: #383838; stroke-width: 1.0;\"/></a><!--MD5=[f4cf0736d43fd73c4ef68817c49d37d5]\n",
       "reverse link E6 to E8--><a href=\"psysml:2d844c43-a52c-43bf-b052-a300acb2bf74\" target=\"_top\" title=\"psysml:2d844c43-a52c-43bf-b052-a300acb2bf74\" xlink:actuate=\"onRequest\" xlink:href=\"psysml:2d844c43-a52c-43bf-b052-a300acb2bf74\" xlink:show=\"new\" xlink:title=\"psysml:2d844c43-a52c-43bf-b052-a300acb2bf74\" xlink:type=\"simple\"><path d=\"M208.25,630.98 C214.15,647.83 221.06,667.54 226.23,682.31 \" fill=\"none\" id=\"E6&lt;-E8\" style=\"stroke: #383838; stroke-width: 1.0;\"/><polygon fill=\"#FFFFFF\" points=\"203.78,618.22,201.9892,625.2052,207.7483,629.5449,209.5391,622.5597,203.78,618.22\" style=\"stroke: #383838; stroke-width: 1.0;\"/><text fill=\"#000000\" font-family=\"sans-serif\" font-size=\"13\" lengthAdjust=\"spacingAndGlyphs\" textLength=\"8\" x=\"215.2139\" y=\"671.5376\">1</text></a><!--MD5=[e88d06e5a652d73a6b19930eefe025a8]\n",
       "reverse link E6 to E9--><a href=\"psysml:5153bd7e-9106-496d-98a6-0d3fae0d20a5\" target=\"_top\" title=\"psysml:5153bd7e-9106-496d-98a6-0d3fae0d20a5\" xlink:actuate=\"onRequest\" xlink:href=\"psysml:5153bd7e-9106-496d-98a6-0d3fae0d20a5\" xlink:show=\"new\" xlink:title=\"psysml:5153bd7e-9106-496d-98a6-0d3fae0d20a5\" xlink:type=\"simple\"><path d=\"M184.74,633.01 C180.15,648.11 174.95,665.2 170.79,678.88 \" fill=\"none\" id=\"E6&lt;-E9\" style=\"stroke: #383838; stroke-width: 1.0;\"/><ellipse cx=\"186.9098\" cy=\"625.8731\" fill=\"#FFFFFF\" rx=\"8\" ry=\"8\" style=\"stroke: #383838; stroke-width: 1.0;\"/><line style=\"stroke: #383838; stroke-width: 1.0;\" x1=\"184.5796\" x2=\"189.24\" y1=\"633.5262\" y2=\"618.22\"/><line style=\"stroke: #383838; stroke-width: 1.0;\" x1=\"179.2567\" x2=\"194.5629\" y1=\"623.5429\" y2=\"628.2033\"/></a><!--MD5=[f78a29d5932556fa1060671a2a6507d8]\n",
       "link E5 to E10--><a href=\"psysml:63374559-c2a0-4cf8-92a3-b39a3ed3eac1\" target=\"_top\" title=\"psysml:63374559-c2a0-4cf8-92a3-b39a3ed3eac1\" xlink:actuate=\"onRequest\" xlink:href=\"psysml:63374559-c2a0-4cf8-92a3-b39a3ed3eac1\" xlink:show=\"new\" xlink:title=\"psysml:63374559-c2a0-4cf8-92a3-b39a3ed3eac1\" xlink:type=\"simple\"><path d=\"M314.29,343.24 C297.77,372.15 271,419 271,419 C271,419 258.99,427.33 244.58,437.32 \" fill=\"none\" id=\"E5-&gt;E10\" style=\"stroke: #383838; stroke-width: 1.0;\"/><polygon fill=\"#FFFFFF\" points=\"227.81,448.95,239.4292,432.3671,247.4106,443.8691,227.81,448.95\" style=\"stroke: #383838; stroke-width: 1.0;\"/><ellipse cx=\"245.2524\" cy=\"430.7606\" fill=\"#383838\" rx=\"2\" ry=\"2\" style=\"stroke: #383838; stroke-width: 1.0;\"/><ellipse cx=\"250.9534\" cy=\"438.9764\" fill=\"#383838\" rx=\"2\" ry=\"2\" style=\"stroke: #383838; stroke-width: 1.0;\"/></a><!--MD5=[8e04057e7b3cbc0dca4fc78ea351e2da]\n",
       "reverse link E10 to E3--><a href=\"psysml:e24d69b8-a494-4022-9892-35ed42c85155\" target=\"_top\" title=\"psysml:e24d69b8-a494-4022-9892-35ed42c85155\" xlink:actuate=\"onRequest\" xlink:href=\"psysml:e24d69b8-a494-4022-9892-35ed42c85155\" xlink:show=\"new\" xlink:title=\"psysml:e24d69b8-a494-4022-9892-35ed42c85155\" xlink:type=\"simple\"><path d=\"M178.7,436.94 C159.45,399.02 131,343 131,343 C131,343 131,297 131,297 C131,297 162.87,260.58 188.89,230.84 \" fill=\"none\" id=\"E10&lt;-E3\" style=\"stroke: #383838; stroke-width: 1.0;\"/><polygon fill=\"#FFFFFF\" points=\"184.83,449,185.6752,441.8386,179.3898,438.304,178.5446,445.4654,184.83,449\" style=\"stroke: #383838; stroke-width: 1.0;\"/><text fill=\"#000000\" font-family=\"sans-serif\" font-size=\"13\" lengthAdjust=\"spacingAndGlyphs\" textLength=\"7\" x=\"132\" y=\"324.5669\">y</text></a><!--MD5=[8e04057e7b3cbc0dca4fc78ea351e2da]\n",
       "reverse link E10 to E3--><a href=\"psysml:e24d69b8-a494-4022-9892-35ed42c85155\" target=\"_top\" title=\"psysml:e24d69b8-a494-4022-9892-35ed42c85155\" xlink:actuate=\"onRequest\" xlink:href=\"psysml:e24d69b8-a494-4022-9892-35ed42c85155\" xlink:show=\"new\" xlink:title=\"psysml:e24d69b8-a494-4022-9892-35ed42c85155\" xlink:type=\"simple\"><path d=\"M198.84,435.7 C202.93,384.85 210,297 210,297 C210,297 213.72,264.78 217.02,236.2 \" fill=\"none\" id=\"E10&lt;-E3-1\" style=\"stroke: #383838; stroke-width: 1.0;\"/><polygon fill=\"#FFFFFF\" points=\"197.77,448.96,202.2385,443.3002,198.7327,436.9987,194.2642,442.6584,197.77,448.96\" style=\"stroke: #383838; stroke-width: 1.0;\"/><text fill=\"#000000\" font-family=\"sans-serif\" font-size=\"13\" lengthAdjust=\"spacingAndGlyphs\" textLength=\"7\" x=\"211\" y=\"324.5669\">y</text></a><!--MD5=[8e04057e7b3cbc0dca4fc78ea351e2da]\n",
       "reverse link E10 to E3--><a href=\"psysml:e24d69b8-a494-4022-9892-35ed42c85155\" target=\"_top\" title=\"psysml:e24d69b8-a494-4022-9892-35ed42c85155\" xlink:actuate=\"onRequest\" xlink:href=\"psysml:e24d69b8-a494-4022-9892-35ed42c85155\" xlink:show=\"new\" xlink:title=\"psysml:e24d69b8-a494-4022-9892-35ed42c85155\" xlink:type=\"simple\"><path d=\"M205.33,436.36 C207.9,426.8 210,419 210,419 C210,419 223,343 223,343 C223,343 223,297 223,297 C223,297 222.69,264.78 222.42,236.2 \" fill=\"none\" id=\"E10&lt;-E3-2\" style=\"stroke: #383838; stroke-width: 1.0;\"/><polygon fill=\"#FFFFFF\" points=\"201.94,448.95,207.364,444.1982,205.0639,437.3638,199.6399,442.1156,201.94,448.95\" style=\"stroke: #383838; stroke-width: 1.0;\"/><text fill=\"#000000\" font-family=\"sans-serif\" font-size=\"13\" lengthAdjust=\"spacingAndGlyphs\" textLength=\"7\" x=\"224\" y=\"324.5669\">y</text></a><!--MD5=[604cbf994c02b74b117f728a71673cea]\n",
       "reverse link E10 to E6--><a href=\"psysml:e24d69b8-a494-4022-9892-35ed42c85155\" target=\"_top\" title=\"psysml:e24d69b8-a494-4022-9892-35ed42c85155\" xlink:actuate=\"onRequest\" xlink:href=\"psysml:e24d69b8-a494-4022-9892-35ed42c85155\" xlink:show=\"new\" xlink:title=\"psysml:e24d69b8-a494-4022-9892-35ed42c85155\" xlink:type=\"simple\"><path d=\"M202.72,507.96 C204.53,517.37 206,525 206,525 C206,525 206,542 206,542 C206,542 202.97,557.77 200.24,571.95 \" fill=\"none\" id=\"E10&lt;-E6\" style=\"stroke: #383838; stroke-width: 1.0;\"/><polygon fill=\"#FFFFFF\" points=\"200.24,495.05,197.447,501.6982,202.5096,506.8334,205.3026,500.1852,200.24,495.05\" style=\"stroke: #383838; stroke-width: 1.0;\"/><text fill=\"#000000\" font-family=\"sans-serif\" font-size=\"13\" lengthAdjust=\"spacingAndGlyphs\" textLength=\"7\" x=\"207\" y=\"538.0669\">y</text></a><!--MD5=[604cbf994c02b74b117f728a71673cea]\n",
       "reverse link E10 to E6--><a href=\"psysml:e24d69b8-a494-4022-9892-35ed42c85155\" target=\"_top\" title=\"psysml:e24d69b8-a494-4022-9892-35ed42c85155\" xlink:actuate=\"onRequest\" xlink:href=\"psysml:e24d69b8-a494-4022-9892-35ed42c85155\" xlink:show=\"new\" xlink:title=\"psysml:e24d69b8-a494-4022-9892-35ed42c85155\" xlink:type=\"simple\"><path d=\"M166.71,504.73 C156.71,515.56 148,525 148,525 C148,525 148,542 148,542 C148,542 162.56,557.77 175.64,571.95 \" fill=\"none\" id=\"E10&lt;-E6-1\" style=\"stroke: #383838; stroke-width: 1.0;\"/><polygon fill=\"#FFFFFF\" points=\"175.64,495.05,168.6318,496.7487,167.5045,503.8712,174.5126,502.1724,175.64,495.05\" style=\"stroke: #383838; stroke-width: 1.0;\"/><text fill=\"#000000\" font-family=\"sans-serif\" font-size=\"13\" lengthAdjust=\"spacingAndGlyphs\" textLength=\"7\" x=\"149\" y=\"538.0669\">y</text></a><!--MD5=[604cbf994c02b74b117f728a71673cea]\n",
       "reverse link E10 to E6--><a href=\"psysml:e24d69b8-a494-4022-9892-35ed42c85155\" target=\"_top\" title=\"psysml:e24d69b8-a494-4022-9892-35ed42c85155\" xlink:actuate=\"onRequest\" xlink:href=\"psysml:e24d69b8-a494-4022-9892-35ed42c85155\" xlink:show=\"new\" xlink:title=\"psysml:e24d69b8-a494-4022-9892-35ed42c85155\" xlink:type=\"simple\"><path d=\"M196,508.22 C196,528.81 196,554.16 196,571.95 \" fill=\"none\" id=\"E10&lt;-E6-2\" style=\"stroke: #383838; stroke-width: 1.0;\"/><polygon fill=\"#FFFFFF\" points=\"196,495.19,192,501.19,196,507.19,200,501.19,196,495.19\" style=\"stroke: #383838; stroke-width: 1.0;\"/><text fill=\"#000000\" font-family=\"sans-serif\" font-size=\"13\" lengthAdjust=\"spacingAndGlyphs\" textLength=\"7\" x=\"197\" y=\"538.0669\">y</text></a><!--MD5=[73c6199f71dcdfee03564333d48d65ff]\n",
       "@startuml\r\n",
       "skinparam linetype polyline\r\n",
       "skinparam monochrome true\r\n",
       "skinparam classbackgroundcolor white\r\n",
       "skinparam shadowing false\r\n",
       "skinparam wrapWidth 300\r\n",
       "hide circle\r\n",
       "\r\n",
       "package \"PartTest\" as E1  [[psysml:a6b62677-d27b-4bf3-83e0-375e3ba01a4b ]]  {\r\n",
       "comp usage \"f: A\" as E2  <<(T,blue) part>> [[psysml:fef66b5f-1b9d-421e-94fe-86858427a029 ]] {\r\n",
       "}\r\n",
       "comp def \"A\" as E3  <<(T,blue) part def>> [[psysml:a2cad1be-c52d-4964-a87e-891cd7289f52 ]] {\r\n",
       "- - attributes - -\r\n",
       "x\r\n",
       "y\r\n",
       "}\r\n",
       "comp usage \"b: B\" as E4  <<(T,blue) part>> [[psysml:9dcf2186-613a-4b96-912f-a1b95f354387 ]] {\r\n",
       "}\r\n",
       "comp usage \"c: C\" as E5  <<(T,blue) port>> [[psysml:a3147892-19dd-4d4c-8f64-71e53da800dc ]] {\r\n",
       "}\r\n",
       "comp def \"B\" as E6  <<(T,blue) part def>> [[psysml:bbb3af71-bfb9-47e2-863f-33482c8ff081 ]] {\r\n",
       "}\r\n",
       "comp usage \"a: A\" as E7  <<(T,blue) part>> [[psysml:c128dc79-fecf-4cdb-b1ba-5850a9b121ec ]] {\r\n",
       "}\r\n",
       "comp usage \"x: ~C\" as E8  <<(T,blue) port>> [[psysml:540f6402-e62e-4ea3-b051-5d5cf5bfcb38 ]] {\r\n",
       "}\r\n",
       "package \"P\" as E9  [[psysml:f4e4ee2b-1abf-4dbd-8483-2b091bdfceaf ]]  {\r\n",
       "}\r\n",
       "comp def \"C\" as E10  <<(T,blue) port def>> [[psysml:a92372c2-fe41-425f-b40c-da5b8c1ca15d ]] {\r\n",
       "}\r\n",
       "}\r\n",
       "E2 - -:|> E3 [[psysml:488f6ee0-39a9-4dc0-b555-612cc99c37a1 ]] \r\n",
       "E3 *- - \"1\"E4 [[psysml:98712745-a638-4d1f-8ffc-380c342569c9 ]] \r\n",
       "E3 o- - \"1\"E5 [[psysml:3d3c789c-d512-4565-8d7c-059f8d1010f8 ]] \r\n",
       "E4 - -:|> E6 [[psysml:1225703b-924d-44f0-aa92-4bca49ced0c9 ]] \r\n",
       "E6 *- - \"1\"E7 [[psysml:a81e6d2d-a633-4d51-820c-a47602c519dd ]] \r\n",
       "E7 - -:|> E3 [[psysml:4883cacd-6695-4e4a-8cc2-3609b81ec9a9 ]] \r\n",
       "E6 o- - \"1\"E8 [[psysml:2d844c43-a52c-43bf-b052-a300acb2bf74 ]] \r\n",
       "E6 +- - E9 [[psysml:5153bd7e-9106-496d-98a6-0d3fae0d20a5 ]] \r\n",
       "E5 - -:|> E10 [[psysml:63374559-c2a0-4cf8-92a3-b39a3ed3eac1 ]] \r\n",
       "E10 o- - E3 [[psysml:e24d69b8-a494-4022-9892-35ed42c85155 ]] : y\r\n",
       "E10 o- - E6 [[psysml:e24d69b8-a494-4022-9892-35ed42c85155 ]] : y\r\n",
       "E10 o- - E3 [[psysml:e24d69b8-a494-4022-9892-35ed42c85155 ]] : y\r\n",
       "E10 o- - E6 [[psysml:e24d69b8-a494-4022-9892-35ed42c85155 ]] : y\r\n",
       "E10 o- - E3 [[psysml:e24d69b8-a494-4022-9892-35ed42c85155 ]] : y\r\n",
       "E10 o- - E6 [[psysml:e24d69b8-a494-4022-9892-35ed42c85155 ]] : y\r\n",
       "@enduml\r\n",
       "\n",
       "PlantUML version 1.2020.13(Sat Jun 13 12:26:38 UTC 2020)\n",
       "(EPL source distribution)\n",
       "Java Runtime: OpenJDK Runtime Environment\n",
       "JVM: OpenJDK 64-Bit Server VM\n",
       "Default Encoding: UTF-8\n",
       "Language: en\n",
       "Country: null\n",
       "--></g></svg>"
      ]
     },
     "execution_count": 15,
     "metadata": {},
     "output_type": "execute_result"
    }
   ],
   "source": [
    "%viz --style=\"POLYLINE\" --view=\"MIXED\" \"PartTest\""
   ]
  },
  {
   "cell_type": "code",
   "execution_count": 16,
   "id": "68a47464",
   "metadata": {
    "execution": {
     "iopub.execute_input": "2021-10-03T08:29:52.975257Z",
     "iopub.status.busy": "2021-10-03T08:29:52.975018Z",
     "iopub.status.idle": "2021-10-03T08:29:53.043715Z",
     "shell.execute_reply": "2021-10-03T08:29:53.042124Z"
    }
   },
   "outputs": [
    {
     "data": {
      "image/svg+xml": [
       "<?xml version=\"1.0\" encoding=\"UTF-8\" standalone=\"no\"?><svg xmlns=\"http://www.w3.org/2000/svg\" xmlns:xlink=\"http://www.w3.org/1999/xlink\" contentScriptType=\"application/ecmascript\" contentStyleType=\"text/css\" height=\"450px\" preserveAspectRatio=\"none\" style=\"width:748px;height:450px;\" version=\"1.1\" viewBox=\"0 0 748 450\" width=\"748px\" zoomAndPan=\"magnify\"><defs/><g><!--MD5=[fbc87193dbaf4d95561dea2c320d4a47]\n",
       "cluster E1--><a href=\"psysml:a6b62677-d27b-4bf3-83e0-375e3ba01a4b\" target=\"_top\" title=\"psysml:a6b62677-d27b-4bf3-83e0-375e3ba01a4b\" xlink:actuate=\"onRequest\" xlink:href=\"psysml:a6b62677-d27b-4bf3-83e0-375e3ba01a4b\" xlink:show=\"new\" xlink:title=\"psysml:a6b62677-d27b-4bf3-83e0-375e3ba01a4b\" xlink:type=\"simple\"><polygon fill=\"#FFFFFF\" points=\"16,6,80,6,87,28.2969,726,28.2969,726,438,16,438,16,6\" style=\"stroke: #000000; stroke-width: 1.5;\"/><line style=\"stroke: #000000; stroke-width: 1.5;\" x1=\"16\" x2=\"87\" y1=\"28.2969\" y2=\"28.2969\"/><text fill=\"#000000\" font-family=\"sans-serif\" font-size=\"14\" font-weight=\"bold\" lengthAdjust=\"spacingAndGlyphs\" textLength=\"58\" x=\"20\" y=\"20.9951\">PartTest</text></a><!--MD5=[b4997ac47864f28c2f74865a473b2911]\n",
       "class E2--><a href=\"psysml:fef66b5f-1b9d-421e-94fe-86858427a029\" target=\"_top\" title=\"psysml:fef66b5f-1b9d-421e-94fe-86858427a029\" xlink:actuate=\"onRequest\" xlink:href=\"psysml:fef66b5f-1b9d-421e-94fe-86858427a029\" xlink:show=\"new\" xlink:title=\"psysml:fef66b5f-1b9d-421e-94fe-86858427a029\" xlink:type=\"simple\"><rect fill=\"#FFFFFF\" height=\"45.9375\" id=\"E2\" rx=\"10\" ry=\"10\" style=\"stroke: #383838; stroke-width: 1.5;\" width=\"42\" x=\"32\" y=\"197\"/><text fill=\"#000000\" font-family=\"sans-serif\" font-size=\"12\" font-style=\"italic\" lengthAdjust=\"spacingAndGlyphs\" textLength=\"40\" x=\"33\" y=\"213.1387\">«part»</text><text fill=\"#000000\" font-family=\"sans-serif\" font-size=\"12\" lengthAdjust=\"spacingAndGlyphs\" textLength=\"20\" x=\"43\" y=\"227.1074\">f: A</text><line style=\"stroke: #383838; stroke-width: 1.5;\" x1=\"33\" x2=\"73\" y1=\"234.9375\" y2=\"234.9375\"/></a><!--MD5=[09b614a08d8cba4a07c9adeb5e0fee81]\n",
       "class E3--><a href=\"psysml:a2cad1be-c52d-4964-a87e-891cd7289f52\" target=\"_top\" title=\"psysml:a2cad1be-c52d-4964-a87e-891cd7289f52\" xlink:actuate=\"onRequest\" xlink:href=\"psysml:a2cad1be-c52d-4964-a87e-891cd7289f52\" xlink:show=\"new\" xlink:title=\"psysml:a2cad1be-c52d-4964-a87e-891cd7289f52\" xlink:type=\"simple\"><rect fill=\"#FFFFFF\" height=\"88.3516\" id=\"E3\" style=\"stroke: #383838; stroke-width: 1.5;\" width=\"66\" x=\"135\" y=\"176\"/><text fill=\"#000000\" font-family=\"sans-serif\" font-size=\"12\" font-style=\"italic\" lengthAdjust=\"spacingAndGlyphs\" textLength=\"64\" x=\"136\" y=\"192.1387\">«part def»</text><text fill=\"#000000\" font-family=\"sans-serif\" font-size=\"12\" lengthAdjust=\"spacingAndGlyphs\" textLength=\"8\" x=\"164\" y=\"206.1074\">A</text><line style=\"stroke: #383838; stroke-width: 1.5;\" x1=\"136\" x2=\"200\" y1=\"213.9375\" y2=\"213.9375\"/><text fill=\"#000000\" font-family=\"sans-serif\" font-size=\"11\" lengthAdjust=\"spacingAndGlyphs\" textLength=\"6\" x=\"141\" y=\"244.9526\">x</text><text fill=\"#000000\" font-family=\"sans-serif\" font-size=\"11\" lengthAdjust=\"spacingAndGlyphs\" textLength=\"6\" x=\"141\" y=\"257.7573\">y</text><line style=\"stroke: #383838; stroke-width: 1.0;\" x1=\"136\" x2=\"140.5\" y1=\"228.3398\" y2=\"228.3398\"/><text fill=\"#000000\" font-family=\"sans-serif\" font-size=\"11\" lengthAdjust=\"spacingAndGlyphs\" textLength=\"55\" x=\"140.5\" y=\"231.6479\">attributes</text><line style=\"stroke: #383838; stroke-width: 1.0;\" x1=\"195.5\" x2=\"200\" y1=\"228.3398\" y2=\"228.3398\"/></a><!--MD5=[ebbe1d658d1005bcc118a6aa81145e00]\n",
       "class E4--><a href=\"psysml:9dcf2186-613a-4b96-912f-a1b95f354387\" target=\"_top\" title=\"psysml:9dcf2186-613a-4b96-912f-a1b95f354387\" xlink:actuate=\"onRequest\" xlink:href=\"psysml:9dcf2186-613a-4b96-912f-a1b95f354387\" xlink:show=\"new\" xlink:title=\"psysml:9dcf2186-613a-4b96-912f-a1b95f354387\" xlink:type=\"simple\"><rect fill=\"#FFFFFF\" height=\"45.9375\" id=\"E4\" rx=\"10\" ry=\"10\" style=\"stroke: #383838; stroke-width: 1.5;\" width=\"42\" x=\"334\" y=\"62\"/><text fill=\"#000000\" font-family=\"sans-serif\" font-size=\"12\" font-style=\"italic\" lengthAdjust=\"spacingAndGlyphs\" textLength=\"40\" x=\"335\" y=\"78.1387\">«part»</text><text fill=\"#000000\" font-family=\"sans-serif\" font-size=\"12\" lengthAdjust=\"spacingAndGlyphs\" textLength=\"24\" x=\"343\" y=\"92.1074\">b: B</text><line style=\"stroke: #383838; stroke-width: 1.5;\" x1=\"335\" x2=\"375\" y1=\"99.9375\" y2=\"99.9375\"/></a><!--MD5=[270fce915f116d4de14055a7c1d9a0f3]\n",
       "class E5--><a href=\"psysml:a3147892-19dd-4d4c-8f64-71e53da800dc\" target=\"_top\" title=\"psysml:a3147892-19dd-4d4c-8f64-71e53da800dc\" xlink:actuate=\"onRequest\" xlink:href=\"psysml:a3147892-19dd-4d4c-8f64-71e53da800dc\" xlink:show=\"new\" xlink:title=\"psysml:a3147892-19dd-4d4c-8f64-71e53da800dc\" xlink:type=\"simple\"><rect fill=\"#FFFFFF\" height=\"45.9375\" id=\"E5\" rx=\"10\" ry=\"10\" style=\"stroke: #383838; stroke-width: 1.5;\" width=\"42\" x=\"262\" y=\"78\"/><text fill=\"#000000\" font-family=\"sans-serif\" font-size=\"12\" font-style=\"italic\" lengthAdjust=\"spacingAndGlyphs\" textLength=\"40\" x=\"263\" y=\"94.1387\">«port»</text><text fill=\"#000000\" font-family=\"sans-serif\" font-size=\"12\" lengthAdjust=\"spacingAndGlyphs\" textLength=\"23\" x=\"271.5\" y=\"108.1074\">c: C</text><line style=\"stroke: #383838; stroke-width: 1.5;\" x1=\"263\" x2=\"303\" y1=\"115.9375\" y2=\"115.9375\"/></a><!--MD5=[60a26617385b1d2d0262a64233df1f8d]\n",
       "class E6--><a href=\"psysml:bbb3af71-bfb9-47e2-863f-33482c8ff081\" target=\"_top\" title=\"psysml:bbb3af71-bfb9-47e2-863f-33482c8ff081\" xlink:actuate=\"onRequest\" xlink:href=\"psysml:bbb3af71-bfb9-47e2-863f-33482c8ff081\" xlink:show=\"new\" xlink:title=\"psysml:bbb3af71-bfb9-47e2-863f-33482c8ff081\" xlink:type=\"simple\"><rect fill=\"#FFFFFF\" height=\"45.9375\" id=\"E6\" style=\"stroke: #383838; stroke-width: 1.5;\" width=\"66\" x=\"541\" y=\"223\"/><text fill=\"#000000\" font-family=\"sans-serif\" font-size=\"12\" font-style=\"italic\" lengthAdjust=\"spacingAndGlyphs\" textLength=\"64\" x=\"542\" y=\"239.1387\">«part def»</text><text fill=\"#000000\" font-family=\"sans-serif\" font-size=\"12\" lengthAdjust=\"spacingAndGlyphs\" textLength=\"8\" x=\"570\" y=\"253.1074\">B</text><line style=\"stroke: #383838; stroke-width: 1.5;\" x1=\"542\" x2=\"606\" y1=\"260.9375\" y2=\"260.9375\"/></a><!--MD5=[2156ba9850f5573cc1fc38a6a4b2f02b]\n",
       "class E7--><a href=\"psysml:c128dc79-fecf-4cdb-b1ba-5850a9b121ec\" target=\"_top\" title=\"psysml:c128dc79-fecf-4cdb-b1ba-5850a9b121ec\" xlink:actuate=\"onRequest\" xlink:href=\"psysml:c128dc79-fecf-4cdb-b1ba-5850a9b121ec\" xlink:show=\"new\" xlink:title=\"psysml:c128dc79-fecf-4cdb-b1ba-5850a9b121ec\" xlink:type=\"simple\"><rect fill=\"#FFFFFF\" height=\"45.9375\" id=\"E7\" rx=\"10\" ry=\"10\" style=\"stroke: #383838; stroke-width: 1.5;\" width=\"42\" x=\"668\" y=\"354\"/><text fill=\"#000000\" font-family=\"sans-serif\" font-size=\"12\" font-style=\"italic\" lengthAdjust=\"spacingAndGlyphs\" textLength=\"40\" x=\"669\" y=\"370.1387\">«part»</text><text fill=\"#000000\" font-family=\"sans-serif\" font-size=\"12\" lengthAdjust=\"spacingAndGlyphs\" textLength=\"24\" x=\"677\" y=\"384.1074\">a: A</text><line style=\"stroke: #383838; stroke-width: 1.5;\" x1=\"669\" x2=\"709\" y1=\"391.9375\" y2=\"391.9375\"/></a><!--MD5=[b9389687b975829384b498ac4b7476b2]\n",
       "class E8--><a href=\"psysml:540f6402-e62e-4ea3-b051-5d5cf5bfcb38\" target=\"_top\" title=\"psysml:540f6402-e62e-4ea3-b051-5d5cf5bfcb38\" xlink:actuate=\"onRequest\" xlink:href=\"psysml:540f6402-e62e-4ea3-b051-5d5cf5bfcb38\" xlink:show=\"new\" xlink:title=\"psysml:540f6402-e62e-4ea3-b051-5d5cf5bfcb38\" xlink:type=\"simple\"><rect fill=\"#FFFFFF\" height=\"45.9375\" id=\"E8\" rx=\"10\" ry=\"10\" style=\"stroke: #383838; stroke-width: 1.5;\" width=\"42\" x=\"668\" y=\"173\"/><text fill=\"#000000\" font-family=\"sans-serif\" font-size=\"12\" font-style=\"italic\" lengthAdjust=\"spacingAndGlyphs\" textLength=\"40\" x=\"669\" y=\"189.1387\">«port»</text><text fill=\"#000000\" font-family=\"sans-serif\" font-size=\"12\" lengthAdjust=\"spacingAndGlyphs\" textLength=\"32\" x=\"673\" y=\"203.1074\">x: ~C</text><line style=\"stroke: #383838; stroke-width: 1.5;\" x1=\"669\" x2=\"709\" y1=\"210.9375\" y2=\"210.9375\"/></a><!--MD5=[96f4274e9e20536e775497830990834d]\n",
       "class E10--><a href=\"psysml:a92372c2-fe41-425f-b40c-da5b8c1ca15d\" target=\"_top\" title=\"psysml:a92372c2-fe41-425f-b40c-da5b8c1ca15d\" xlink:actuate=\"onRequest\" xlink:href=\"psysml:a92372c2-fe41-425f-b40c-da5b8c1ca15d\" xlink:show=\"new\" xlink:title=\"psysml:a92372c2-fe41-425f-b40c-da5b8c1ca15d\" xlink:type=\"simple\"><rect fill=\"#FFFFFF\" height=\"45.9375\" id=\"E10\" style=\"stroke: #383838; stroke-width: 1.5;\" width=\"66\" x=\"406\" y=\"223\"/><text fill=\"#000000\" font-family=\"sans-serif\" font-size=\"12\" font-style=\"italic\" lengthAdjust=\"spacingAndGlyphs\" textLength=\"64\" x=\"407\" y=\"239.1387\">«port def»</text><text fill=\"#000000\" font-family=\"sans-serif\" font-size=\"12\" lengthAdjust=\"spacingAndGlyphs\" textLength=\"8\" x=\"435\" y=\"253.1074\">C</text><line style=\"stroke: #383838; stroke-width: 1.5;\" x1=\"407\" x2=\"471\" y1=\"260.9375\" y2=\"260.9375\"/></a><a href=\"psysml:f4e4ee2b-1abf-4dbd-8483-2b091bdfceaf\" target=\"_top\" title=\"psysml:f4e4ee2b-1abf-4dbd-8483-2b091bdfceaf\" xlink:actuate=\"onRequest\" xlink:href=\"psysml:f4e4ee2b-1abf-4dbd-8483-2b091bdfceaf\" xlink:show=\"new\" xlink:title=\"psysml:f4e4ee2b-1abf-4dbd-8483-2b091bdfceaf\" xlink:type=\"simple\"><polygon fill=\"#FFFFFF\" points=\"674.5,254.5,689.5,254.5,696.5,276.7969,703.5,276.7969,703.5,307.0938,674.5,307.0938,674.5,254.5\" style=\"stroke: #000000; stroke-width: 1.5;\"/><line style=\"stroke: #000000; stroke-width: 1.5;\" x1=\"674.5\" x2=\"696.5\" y1=\"276.7969\" y2=\"276.7969\"/><text fill=\"#000000\" font-family=\"sans-serif\" font-size=\"14\" font-weight=\"bold\" lengthAdjust=\"spacingAndGlyphs\" textLength=\"9\" x=\"678.5\" y=\"269.4951\">P</text></a><!--MD5=[2720a5a1f2c3fca2055b230370638851]\n",
       "link E2 to E3--><a href=\"psysml:488f6ee0-39a9-4dc0-b555-612cc99c37a1\" target=\"_top\" title=\"psysml:488f6ee0-39a9-4dc0-b555-612cc99c37a1\" xlink:actuate=\"onRequest\" xlink:href=\"psysml:488f6ee0-39a9-4dc0-b555-612cc99c37a1\" xlink:show=\"new\" xlink:title=\"psysml:488f6ee0-39a9-4dc0-b555-612cc99c37a1\" xlink:type=\"simple\"><path d=\"M74.2,220 C85.46,220 100.06,220 114.33,220 \" fill=\"none\" id=\"E2-&gt;E3\" style=\"stroke: #383838; stroke-width: 1.0;\"/><polygon fill=\"#FFFFFF\" points=\"134.57,220,115.57,227,115.57,213,134.57,220\" style=\"stroke: #383838; stroke-width: 1.0;\"/><ellipse cx=\"109.87\" cy=\"225\" fill=\"#383838\" rx=\"2\" ry=\"2\" style=\"stroke: #383838; stroke-width: 1.0;\"/><ellipse cx=\"109.87\" cy=\"215\" fill=\"#383838\" rx=\"2\" ry=\"2\" style=\"stroke: #383838; stroke-width: 1.0;\"/></a><!--MD5=[4672eba38e49728da53d11aeb285b987]\n",
       "reverse link E3 to E4--><a href=\"psysml:98712745-a638-4d1f-8ffc-380c342569c9\" target=\"_top\" title=\"psysml:98712745-a638-4d1f-8ffc-380c342569c9\" xlink:actuate=\"onRequest\" xlink:href=\"psysml:98712745-a638-4d1f-8ffc-380c342569c9\" xlink:show=\"new\" xlink:title=\"psysml:98712745-a638-4d1f-8ffc-380c342569c9\" xlink:type=\"simple\"><path d=\"M185.64,163.26 C199.63,126.72 223.64,82.07 262,60 C284.67,46.96 314.4,59.54 333.84,71.08 \" fill=\"none\" id=\"E3&lt;-E4\" style=\"stroke: #383838; stroke-width: 1.0;\"/><polygon fill=\"#383838\" points=\"181.1,175.79,186.904,171.5106,185.1861,164.5071,179.3821,168.7865,181.1,175.79\" style=\"stroke: #383838; stroke-width: 1.0;\"/><text fill=\"#000000\" font-family=\"sans-serif\" font-size=\"13\" lengthAdjust=\"spacingAndGlyphs\" textLength=\"8\" x=\"318.1347\" y=\"81.2107\">1</text></a><!--MD5=[191cde3d490a3f6d7bb551fe3ddca469]\n",
       "reverse link E3 to E5--><a href=\"psysml:3d3c789c-d512-4565-8d7c-059f8d1010f8\" target=\"_top\" title=\"psysml:3d3c789c-d512-4565-8d7c-059f8d1010f8\" xlink:actuate=\"onRequest\" xlink:href=\"psysml:3d3c789c-d512-4565-8d7c-059f8d1010f8\" xlink:show=\"new\" xlink:title=\"psysml:3d3c789c-d512-4565-8d7c-059f8d1010f8\" xlink:type=\"simple\"><path d=\"M210.08,176.74 C227.74,158.14 247.57,137.25 261.94,122.13 \" fill=\"none\" id=\"E3&lt;-E5\" style=\"stroke: #383838; stroke-width: 1.0;\"/><polygon fill=\"#FFFFFF\" points=\"201.08,186.22,208.1112,184.6194,209.3381,177.5134,202.3068,179.114,201.08,186.22\" style=\"stroke: #383838; stroke-width: 1.0;\"/><text fill=\"#000000\" font-family=\"sans-serif\" font-size=\"13\" lengthAdjust=\"spacingAndGlyphs\" textLength=\"8\" x=\"245.9521\" y=\"143.3538\">1</text></a><!--MD5=[79568f1e445c3877b6a54524624ccc7d]\n",
       "link E4 to E6--><a href=\"psysml:1225703b-924d-44f0-aa92-4bca49ced0c9\" target=\"_top\" title=\"psysml:1225703b-924d-44f0-aa92-4bca49ced0c9\" xlink:actuate=\"onRequest\" xlink:href=\"psysml:1225703b-924d-44f0-aa92-4bca49ced0c9\" xlink:show=\"new\" xlink:title=\"psysml:1225703b-924d-44f0-aa92-4bca49ced0c9\" xlink:type=\"simple\"><path d=\"M376.03,99.86 C409.85,124.96 479.18,176.39 525.89,211.05 \" fill=\"none\" id=\"E4-&gt;E6\" style=\"stroke: #383838; stroke-width: 1.0;\"/><polygon fill=\"#FFFFFF\" points=\"541.97,222.98,522.5437,217.2687,530.8924,206.0305,541.97,222.98\" style=\"stroke: #383838; stroke-width: 1.0;\"/><ellipse cx=\"519.1608\" cy=\"212.2641\" fill=\"#383838\" rx=\"2\" ry=\"2\" style=\"stroke: #383838; stroke-width: 1.0;\"/><ellipse cx=\"525.1242\" cy=\"204.2368\" fill=\"#383838\" rx=\"2\" ry=\"2\" style=\"stroke: #383838; stroke-width: 1.0;\"/></a><!--MD5=[3f50a3473f1dfb74d3f76443e03635af]\n",
       "reverse link E6 to E7--><a href=\"psysml:a81e6d2d-a633-4d51-820c-a47602c519dd\" target=\"_top\" title=\"psysml:a81e6d2d-a633-4d51-820c-a47602c519dd\" xlink:actuate=\"onRequest\" xlink:href=\"psysml:a81e6d2d-a633-4d51-820c-a47602c519dd\" xlink:show=\"new\" xlink:title=\"psysml:a81e6d2d-a633-4d51-820c-a47602c519dd\" xlink:type=\"simple\"><path d=\"M603.67,279.23 C623.72,302.48 650.02,332.97 667.88,353.67 \" fill=\"none\" id=\"E6&lt;-E7\" style=\"stroke: #383838; stroke-width: 1.0;\"/><polygon fill=\"#383838\" points=\"594.94,269.12,595.8282,276.2762,602.7755,278.2087,601.8873,271.0525,594.94,269.12\" style=\"stroke: #383838; stroke-width: 1.0;\"/><text fill=\"#000000\" font-family=\"sans-serif\" font-size=\"13\" lengthAdjust=\"spacingAndGlyphs\" textLength=\"8\" x=\"651.873\" y=\"360.7222\">1</text></a><!--MD5=[14ccda38c055a5c0da953d572bc50960]\n",
       "link E7 to E3--><a href=\"psysml:4883cacd-6695-4e4a-8cc2-3609b81ec9a9\" target=\"_top\" title=\"psysml:4883cacd-6695-4e4a-8cc2-3609b81ec9a9\" xlink:actuate=\"onRequest\" xlink:href=\"psysml:4883cacd-6695-4e4a-8cc2-3609b81ec9a9\" xlink:show=\"new\" xlink:title=\"psysml:4883cacd-6695-4e4a-8cc2-3609b81ec9a9\" xlink:type=\"simple\"><path d=\"M667.68,390.2 C645.74,403.16 609.32,421 575,421 C282,421 282,421 282,421 C218.08,421 189.94,342.8 177.81,283.96 \" fill=\"none\" id=\"E7-&gt;E3\" style=\"stroke: #383838; stroke-width: 1.0;\"/><polygon fill=\"#FFFFFF\" points=\"174.15,264.11,184.4804,281.525,170.7127,284.0646,174.15,264.11\" style=\"stroke: #383838; stroke-width: 1.0;\"/><ellipse cx=\"183.5476\" cy=\"287.4932\" fill=\"#383838\" rx=\"2\" ry=\"2\" style=\"stroke: #383838; stroke-width: 1.0;\"/><ellipse cx=\"173.7135\" cy=\"289.3072\" fill=\"#383838\" rx=\"2\" ry=\"2\" style=\"stroke: #383838; stroke-width: 1.0;\"/></a><!--MD5=[f4cf0736d43fd73c4ef68817c49d37d5]\n",
       "reverse link E6 to E8--><a href=\"psysml:2d844c43-a52c-43bf-b052-a300acb2bf74\" target=\"_top\" title=\"psysml:2d844c43-a52c-43bf-b052-a300acb2bf74\" xlink:actuate=\"onRequest\" xlink:href=\"psysml:2d844c43-a52c-43bf-b052-a300acb2bf74\" xlink:show=\"new\" xlink:title=\"psysml:2d844c43-a52c-43bf-b052-a300acb2bf74\" xlink:type=\"simple\"><path d=\"M619.01,226.53 C635.9,219.05 654.37,210.88 667.94,204.88 \" fill=\"none\" id=\"E6&lt;-E8\" style=\"stroke: #383838; stroke-width: 1.0;\"/><polygon fill=\"#FFFFFF\" points=\"607.08,231.81,614.1847,233.0443,618.0566,226.9608,610.9519,225.7265,607.08,231.81\" style=\"stroke: #383838; stroke-width: 1.0;\"/><text fill=\"#000000\" font-family=\"sans-serif\" font-size=\"13\" lengthAdjust=\"spacingAndGlyphs\" textLength=\"8\" x=\"651.9521\" y=\"222.1991\">1</text></a><!--MD5=[e88d06e5a652d73a6b19930eefe025a8]\n",
       "reverse link E6 to E9--><a href=\"psysml:5153bd7e-9106-496d-98a6-0d3fae0d20a5\" target=\"_top\" title=\"psysml:5153bd7e-9106-496d-98a6-0d3fae0d20a5\" xlink:actuate=\"onRequest\" xlink:href=\"psysml:5153bd7e-9106-496d-98a6-0d3fae0d20a5\" xlink:show=\"new\" xlink:title=\"psysml:5153bd7e-9106-496d-98a6-0d3fae0d20a5\" xlink:type=\"simple\"><path d=\"M621.5,260.4 C640.52,266.29 661.1,272.67 674.25,276.74 \" fill=\"none\" id=\"E6&lt;-E9\" style=\"stroke: #383838; stroke-width: 1.0;\"/><ellipse cx=\"614.7211\" cy=\"258.3093\" fill=\"#FFFFFF\" rx=\"8\" ry=\"8\" style=\"stroke: #383838; stroke-width: 1.0;\"/><line style=\"stroke: #383838; stroke-width: 1.0;\" x1=\"622.3622\" x2=\"607.08\" y1=\"260.6786\" y2=\"255.94\"/><line style=\"stroke: #383838; stroke-width: 1.0;\" x1=\"612.3518\" x2=\"617.0904\" y1=\"265.9504\" y2=\"250.6682\"/></a><!--MD5=[f78a29d5932556fa1060671a2a6507d8]\n",
       "link E5 to E10--><a href=\"psysml:63374559-c2a0-4cf8-92a3-b39a3ed3eac1\" target=\"_top\" title=\"psysml:63374559-c2a0-4cf8-92a3-b39a3ed3eac1\" xlink:actuate=\"onRequest\" xlink:href=\"psysml:63374559-c2a0-4cf8-92a3-b39a3ed3eac1\" xlink:show=\"new\" xlink:title=\"psysml:63374559-c2a0-4cf8-92a3-b39a3ed3eac1\" xlink:type=\"simple\"><path d=\"M304.26,113.17 C323.78,125.41 353.57,145.52 376,167 C388.34,178.82 400.33,193.18 410.41,206.39 \" fill=\"none\" id=\"E5-&gt;E10\" style=\"stroke: #383838; stroke-width: 1.0;\"/><polygon fill=\"#FFFFFF\" points=\"422.45,222.79,405.5641,211.6156,416.85,203.3313,422.45,222.79\" style=\"stroke: #383838; stroke-width: 1.0;\"/><ellipse cx=\"403.8035\" cy=\"205.8372\" fill=\"#383838\" rx=\"2\" ry=\"2\" style=\"stroke: #383838; stroke-width: 1.0;\"/><ellipse cx=\"411.8648\" cy=\"199.9199\" fill=\"#383838\" rx=\"2\" ry=\"2\" style=\"stroke: #383838; stroke-width: 1.0;\"/></a><!--MD5=[8e04057e7b3cbc0dca4fc78ea351e2da]\n",
       "reverse link E10 to E3--><a href=\"psysml:e24d69b8-a494-4022-9892-35ed42c85155\" target=\"_top\" title=\"psysml:e24d69b8-a494-4022-9892-35ed42c85155\" xlink:actuate=\"onRequest\" xlink:href=\"psysml:e24d69b8-a494-4022-9892-35ed42c85155\" xlink:show=\"new\" xlink:title=\"psysml:e24d69b8-a494-4022-9892-35ed42c85155\" xlink:type=\"simple\"><path d=\"M405.11,277.64 C369.71,307.65 311.79,345.13 262,323 C234.7,310.87 212.03,286.32 195.9,264.24 \" fill=\"none\" id=\"E10&lt;-E3\" style=\"stroke: #383838; stroke-width: 1.0;\"/><polygon fill=\"#FFFFFF\" points=\"414.9,269.03,407.7525,269.9855,405.8854,276.9507,413.0329,275.9952,414.9,269.03\" style=\"stroke: #383838; stroke-width: 1.0;\"/><text fill=\"#000000\" font-family=\"sans-serif\" font-size=\"13\" lengthAdjust=\"spacingAndGlyphs\" textLength=\"7\" x=\"279.5\" y=\"319.0669\">y</text></a><!--MD5=[8e04057e7b3cbc0dca4fc78ea351e2da]\n",
       "reverse link E10 to E3--><a href=\"psysml:e24d69b8-a494-4022-9892-35ed42c85155\" target=\"_top\" title=\"psysml:e24d69b8-a494-4022-9892-35ed42c85155\" xlink:actuate=\"onRequest\" xlink:href=\"psysml:e24d69b8-a494-4022-9892-35ed42c85155\" xlink:show=\"new\" xlink:title=\"psysml:e24d69b8-a494-4022-9892-35ed42c85155\" xlink:type=\"simple\"><path d=\"M392.46,244.83 C356.85,243.58 306.16,241.04 262,236 C241.65,233.68 219,229.81 201.15,226.46 \" fill=\"none\" id=\"E10&lt;-E3-1\" style=\"stroke: #383838; stroke-width: 1.0;\"/><polygon fill=\"#FFFFFF\" points=\"405.79,245.27,399.9252,241.0743,393.7965,244.8742,399.6613,249.0699,405.79,245.27\" style=\"stroke: #383838; stroke-width: 1.0;\"/><text fill=\"#000000\" font-family=\"sans-serif\" font-size=\"13\" lengthAdjust=\"spacingAndGlyphs\" textLength=\"7\" x=\"279.5\" y=\"232.0669\">y</text></a><!--MD5=[8e04057e7b3cbc0dca4fc78ea351e2da]\n",
       "reverse link E10 to E3--><a href=\"psysml:e24d69b8-a494-4022-9892-35ed42c85155\" target=\"_top\" title=\"psysml:e24d69b8-a494-4022-9892-35ed42c85155\" xlink:actuate=\"onRequest\" xlink:href=\"psysml:e24d69b8-a494-4022-9892-35ed42c85155\" xlink:show=\"new\" xlink:title=\"psysml:e24d69b8-a494-4022-9892-35ed42c85155\" xlink:type=\"simple\"><path d=\"M393.1,232.92 C367.28,226.08 334.1,218.44 304,215 C285.45,212.88 280.66,214.5 262,215 C241.8,215.54 219.15,216.75 201.26,217.84 \" fill=\"none\" id=\"E10&lt;-E3-2\" style=\"stroke: #383838; stroke-width: 1.0;\"/><polygon fill=\"#FFFFFF\" points=\"405.87,236.4,401.1313,230.9645,394.2913,233.2482,399.03,238.6836,405.87,236.4\" style=\"stroke: #383838; stroke-width: 1.0;\"/><text fill=\"#000000\" font-family=\"sans-serif\" font-size=\"13\" lengthAdjust=\"spacingAndGlyphs\" textLength=\"7\" x=\"279.5\" y=\"210.0669\">y</text></a><!--MD5=[604cbf994c02b74b117f728a71673cea]\n",
       "reverse link E10 to E6--><a href=\"psysml:e24d69b8-a494-4022-9892-35ed42c85155\" target=\"_top\" title=\"psysml:e24d69b8-a494-4022-9892-35ed42c85155\" xlink:actuate=\"onRequest\" xlink:href=\"psysml:e24d69b8-a494-4022-9892-35ed42c85155\" xlink:show=\"new\" xlink:title=\"psysml:e24d69b8-a494-4022-9892-35ed42c85155\" xlink:type=\"simple\"><path d=\"M485.03,231.33 C490.69,229.96 496.44,228.79 502,228 C514.84,226.17 528.72,228.66 540.77,232.31 \" fill=\"none\" id=\"E10&lt;-E6\" style=\"stroke: #383838; stroke-width: 1.0;\"/><polygon fill=\"#FFFFFF\" points=\"472.12,234.81,478.9544,237.1101,483.7062,231.6861,476.8718,229.386,472.12,234.81\" style=\"stroke: #383838; stroke-width: 1.0;\"/><text fill=\"#000000\" font-family=\"sans-serif\" font-size=\"13\" lengthAdjust=\"spacingAndGlyphs\" textLength=\"7\" x=\"503\" y=\"224.0669\">y</text></a><!--MD5=[604cbf994c02b74b117f728a71673cea]\n",
       "reverse link E10 to E6--><a href=\"psysml:e24d69b8-a494-4022-9892-35ed42c85155\" target=\"_top\" title=\"psysml:e24d69b8-a494-4022-9892-35ed42c85155\" xlink:actuate=\"onRequest\" xlink:href=\"psysml:e24d69b8-a494-4022-9892-35ed42c85155\" xlink:show=\"new\" xlink:title=\"psysml:e24d69b8-a494-4022-9892-35ed42c85155\" xlink:type=\"simple\"><path d=\"M464.99,278.85 C475.16,289.62 487.86,300.28 502,306 C525.94,315.69 547.69,289.83 560.63,269.07 \" fill=\"none\" id=\"E10&lt;-E6-1\" style=\"stroke: #383838; stroke-width: 1.0;\"/><polygon fill=\"#FFFFFF\" points=\"456.39,269.07,457.3507,276.2168,464.3172,278.0788,463.3566,270.932,456.39,269.07\" style=\"stroke: #383838; stroke-width: 1.0;\"/><text fill=\"#000000\" font-family=\"sans-serif\" font-size=\"13\" lengthAdjust=\"spacingAndGlyphs\" textLength=\"7\" x=\"503\" y=\"302.0669\">y</text></a><!--MD5=[604cbf994c02b74b117f728a71673cea]\n",
       "reverse link E10 to E6--><a href=\"psysml:e24d69b8-a494-4022-9892-35ed42c85155\" target=\"_top\" title=\"psysml:e24d69b8-a494-4022-9892-35ed42c85155\" xlink:actuate=\"onRequest\" xlink:href=\"psysml:e24d69b8-a494-4022-9892-35ed42c85155\" xlink:show=\"new\" xlink:title=\"psysml:e24d69b8-a494-4022-9892-35ed42c85155\" xlink:type=\"simple\"><path d=\"M485.11,251.69 C490.79,252.23 496.52,252.69 502,253 C514.74,253.72 528.72,252.72 540.88,251.28 \" fill=\"none\" id=\"E10&lt;-E6-2\" style=\"stroke: #383838; stroke-width: 1.0;\"/><polygon fill=\"#FFFFFF\" points=\"472.12,250.32,477.6646,254.9306,484.0531,251.5858,478.5085,246.9752,472.12,250.32\" style=\"stroke: #383838; stroke-width: 1.0;\"/><text fill=\"#000000\" font-family=\"sans-serif\" font-size=\"13\" lengthAdjust=\"spacingAndGlyphs\" textLength=\"7\" x=\"503\" y=\"249.0669\">y</text></a><!--MD5=[b8e5f3f67b3af0115812a61ebb0eefff]\n",
       "@startuml\r\n",
       "left to right direction\r\n",
       "skinparam monochrome true\r\n",
       "skinparam classbackgroundcolor white\r\n",
       "skinparam shadowing false\r\n",
       "skinparam wrapWidth 300\r\n",
       "hide circle\r\n",
       "\r\n",
       "package \"PartTest\" as E1  [[psysml:a6b62677-d27b-4bf3-83e0-375e3ba01a4b ]]  {\r\n",
       "comp usage \"f: A\" as E2  <<(T,blue) part>> [[psysml:fef66b5f-1b9d-421e-94fe-86858427a029 ]] {\r\n",
       "}\r\n",
       "comp def \"A\" as E3  <<(T,blue) part def>> [[psysml:a2cad1be-c52d-4964-a87e-891cd7289f52 ]] {\r\n",
       "- - attributes - -\r\n",
       "x\r\n",
       "y\r\n",
       "}\r\n",
       "comp usage \"b: B\" as E4  <<(T,blue) part>> [[psysml:9dcf2186-613a-4b96-912f-a1b95f354387 ]] {\r\n",
       "}\r\n",
       "comp usage \"c: C\" as E5  <<(T,blue) port>> [[psysml:a3147892-19dd-4d4c-8f64-71e53da800dc ]] {\r\n",
       "}\r\n",
       "comp def \"B\" as E6  <<(T,blue) part def>> [[psysml:bbb3af71-bfb9-47e2-863f-33482c8ff081 ]] {\r\n",
       "}\r\n",
       "comp usage \"a: A\" as E7  <<(T,blue) part>> [[psysml:c128dc79-fecf-4cdb-b1ba-5850a9b121ec ]] {\r\n",
       "}\r\n",
       "comp usage \"x: ~C\" as E8  <<(T,blue) port>> [[psysml:540f6402-e62e-4ea3-b051-5d5cf5bfcb38 ]] {\r\n",
       "}\r\n",
       "package \"P\" as E9  [[psysml:f4e4ee2b-1abf-4dbd-8483-2b091bdfceaf ]]  {\r\n",
       "}\r\n",
       "comp def \"C\" as E10  <<(T,blue) port def>> [[psysml:a92372c2-fe41-425f-b40c-da5b8c1ca15d ]] {\r\n",
       "}\r\n",
       "}\r\n",
       "E2 - -:|> E3 [[psysml:488f6ee0-39a9-4dc0-b555-612cc99c37a1 ]] \r\n",
       "E3 *- - \"1\"E4 [[psysml:98712745-a638-4d1f-8ffc-380c342569c9 ]] \r\n",
       "E3 o- - \"1\"E5 [[psysml:3d3c789c-d512-4565-8d7c-059f8d1010f8 ]] \r\n",
       "E4 - -:|> E6 [[psysml:1225703b-924d-44f0-aa92-4bca49ced0c9 ]] \r\n",
       "E6 *- - \"1\"E7 [[psysml:a81e6d2d-a633-4d51-820c-a47602c519dd ]] \r\n",
       "E7 - -:|> E3 [[psysml:4883cacd-6695-4e4a-8cc2-3609b81ec9a9 ]] \r\n",
       "E6 o- - \"1\"E8 [[psysml:2d844c43-a52c-43bf-b052-a300acb2bf74 ]] \r\n",
       "E6 +- - E9 [[psysml:5153bd7e-9106-496d-98a6-0d3fae0d20a5 ]] \r\n",
       "E5 - -:|> E10 [[psysml:63374559-c2a0-4cf8-92a3-b39a3ed3eac1 ]] \r\n",
       "E10 o- - E3 [[psysml:e24d69b8-a494-4022-9892-35ed42c85155 ]] : y\r\n",
       "E10 o- - E6 [[psysml:e24d69b8-a494-4022-9892-35ed42c85155 ]] : y\r\n",
       "E10 o- - E3 [[psysml:e24d69b8-a494-4022-9892-35ed42c85155 ]] : y\r\n",
       "E10 o- - E6 [[psysml:e24d69b8-a494-4022-9892-35ed42c85155 ]] : y\r\n",
       "E10 o- - E3 [[psysml:e24d69b8-a494-4022-9892-35ed42c85155 ]] : y\r\n",
       "E10 o- - E6 [[psysml:e24d69b8-a494-4022-9892-35ed42c85155 ]] : y\r\n",
       "@enduml\r\n",
       "\n",
       "PlantUML version 1.2020.13(Sat Jun 13 12:26:38 UTC 2020)\n",
       "(EPL source distribution)\n",
       "Java Runtime: OpenJDK Runtime Environment\n",
       "JVM: OpenJDK 64-Bit Server VM\n",
       "Default Encoding: UTF-8\n",
       "Language: en\n",
       "Country: null\n",
       "--></g></svg>"
      ]
     },
     "execution_count": 16,
     "metadata": {},
     "output_type": "execute_result"
    }
   ],
   "source": [
    "%viz --style=\"LR\" --view=\"Default\" \"PartTest\""
   ]
  },
  {
   "cell_type": "code",
   "execution_count": 17,
   "id": "0c0bd3b2",
   "metadata": {
    "execution": {
     "iopub.execute_input": "2021-10-03T08:29:53.093346Z",
     "iopub.status.busy": "2021-10-03T08:29:53.093024Z",
     "iopub.status.idle": "2021-10-03T08:29:53.158331Z",
     "shell.execute_reply": "2021-10-03T08:29:53.156687Z"
    }
   },
   "outputs": [
    {
     "data": {
      "image/svg+xml": [
       "<?xml version=\"1.0\" encoding=\"UTF-8\" standalone=\"no\"?><svg xmlns=\"http://www.w3.org/2000/svg\" xmlns:xlink=\"http://www.w3.org/1999/xlink\" contentScriptType=\"application/ecmascript\" contentStyleType=\"text/css\" height=\"450px\" preserveAspectRatio=\"none\" style=\"width:748px;height:450px;\" version=\"1.1\" viewBox=\"0 0 748 450\" width=\"748px\" zoomAndPan=\"magnify\"><defs/><g><!--MD5=[fbc87193dbaf4d95561dea2c320d4a47]\n",
       "cluster E1--><a href=\"psysml:a6b62677-d27b-4bf3-83e0-375e3ba01a4b\" target=\"_top\" title=\"psysml:a6b62677-d27b-4bf3-83e0-375e3ba01a4b\" xlink:actuate=\"onRequest\" xlink:href=\"psysml:a6b62677-d27b-4bf3-83e0-375e3ba01a4b\" xlink:show=\"new\" xlink:title=\"psysml:a6b62677-d27b-4bf3-83e0-375e3ba01a4b\" xlink:type=\"simple\"><polygon fill=\"#FFFFFF\" points=\"16,6,80,6,87,28.2969,726,28.2969,726,438,16,438,16,6\" style=\"stroke: #000000; stroke-width: 1.5;\"/><line style=\"stroke: #000000; stroke-width: 1.5;\" x1=\"16\" x2=\"87\" y1=\"28.2969\" y2=\"28.2969\"/><text fill=\"#000000\" font-family=\"sans-serif\" font-size=\"14\" font-weight=\"bold\" lengthAdjust=\"spacingAndGlyphs\" textLength=\"58\" x=\"20\" y=\"20.9951\">PartTest</text></a><!--MD5=[b4997ac47864f28c2f74865a473b2911]\n",
       "class E2--><a href=\"psysml:fef66b5f-1b9d-421e-94fe-86858427a029\" target=\"_top\" title=\"psysml:fef66b5f-1b9d-421e-94fe-86858427a029\" xlink:actuate=\"onRequest\" xlink:href=\"psysml:fef66b5f-1b9d-421e-94fe-86858427a029\" xlink:show=\"new\" xlink:title=\"psysml:fef66b5f-1b9d-421e-94fe-86858427a029\" xlink:type=\"simple\"><rect fill=\"#FFFFFF\" height=\"45.9375\" id=\"E2\" rx=\"10\" ry=\"10\" style=\"stroke: #383838; stroke-width: 1.5;\" width=\"42\" x=\"32\" y=\"197\"/><text fill=\"#000000\" font-family=\"sans-serif\" font-size=\"12\" font-style=\"italic\" lengthAdjust=\"spacingAndGlyphs\" textLength=\"40\" x=\"33\" y=\"213.1387\">«part»</text><text fill=\"#000000\" font-family=\"sans-serif\" font-size=\"12\" lengthAdjust=\"spacingAndGlyphs\" textLength=\"20\" x=\"43\" y=\"227.1074\">f: A</text><line style=\"stroke: #383838; stroke-width: 1.5;\" x1=\"33\" x2=\"73\" y1=\"234.9375\" y2=\"234.9375\"/></a><!--MD5=[09b614a08d8cba4a07c9adeb5e0fee81]\n",
       "class E3--><a href=\"psysml:a2cad1be-c52d-4964-a87e-891cd7289f52\" target=\"_top\" title=\"psysml:a2cad1be-c52d-4964-a87e-891cd7289f52\" xlink:actuate=\"onRequest\" xlink:href=\"psysml:a2cad1be-c52d-4964-a87e-891cd7289f52\" xlink:show=\"new\" xlink:title=\"psysml:a2cad1be-c52d-4964-a87e-891cd7289f52\" xlink:type=\"simple\"><rect fill=\"#FFFFFF\" height=\"88.3516\" id=\"E3\" style=\"stroke: #383838; stroke-width: 1.5;\" width=\"66\" x=\"135\" y=\"176\"/><text fill=\"#000000\" font-family=\"sans-serif\" font-size=\"12\" font-style=\"italic\" lengthAdjust=\"spacingAndGlyphs\" textLength=\"64\" x=\"136\" y=\"192.1387\">«part def»</text><text fill=\"#000000\" font-family=\"sans-serif\" font-size=\"12\" lengthAdjust=\"spacingAndGlyphs\" textLength=\"8\" x=\"164\" y=\"206.1074\">A</text><line style=\"stroke: #383838; stroke-width: 1.5;\" x1=\"136\" x2=\"200\" y1=\"213.9375\" y2=\"213.9375\"/><text fill=\"#000000\" font-family=\"sans-serif\" font-size=\"11\" lengthAdjust=\"spacingAndGlyphs\" textLength=\"6\" x=\"141\" y=\"244.9526\">x</text><text fill=\"#000000\" font-family=\"sans-serif\" font-size=\"11\" lengthAdjust=\"spacingAndGlyphs\" textLength=\"6\" x=\"141\" y=\"257.7573\">y</text><line style=\"stroke: #383838; stroke-width: 1.0;\" x1=\"136\" x2=\"140.5\" y1=\"228.3398\" y2=\"228.3398\"/><text fill=\"#000000\" font-family=\"sans-serif\" font-size=\"11\" lengthAdjust=\"spacingAndGlyphs\" textLength=\"55\" x=\"140.5\" y=\"231.6479\">attributes</text><line style=\"stroke: #383838; stroke-width: 1.0;\" x1=\"195.5\" x2=\"200\" y1=\"228.3398\" y2=\"228.3398\"/></a><!--MD5=[ebbe1d658d1005bcc118a6aa81145e00]\n",
       "class E4--><a href=\"psysml:9dcf2186-613a-4b96-912f-a1b95f354387\" target=\"_top\" title=\"psysml:9dcf2186-613a-4b96-912f-a1b95f354387\" xlink:actuate=\"onRequest\" xlink:href=\"psysml:9dcf2186-613a-4b96-912f-a1b95f354387\" xlink:show=\"new\" xlink:title=\"psysml:9dcf2186-613a-4b96-912f-a1b95f354387\" xlink:type=\"simple\"><rect fill=\"#FFFFFF\" height=\"45.9375\" id=\"E4\" rx=\"10\" ry=\"10\" style=\"stroke: #383838; stroke-width: 1.5;\" width=\"42\" x=\"334\" y=\"62\"/><text fill=\"#000000\" font-family=\"sans-serif\" font-size=\"12\" font-style=\"italic\" lengthAdjust=\"spacingAndGlyphs\" textLength=\"40\" x=\"335\" y=\"78.1387\">«part»</text><text fill=\"#000000\" font-family=\"sans-serif\" font-size=\"12\" lengthAdjust=\"spacingAndGlyphs\" textLength=\"24\" x=\"343\" y=\"92.1074\">b: B</text><line style=\"stroke: #383838; stroke-width: 1.5;\" x1=\"335\" x2=\"375\" y1=\"99.9375\" y2=\"99.9375\"/></a><!--MD5=[270fce915f116d4de14055a7c1d9a0f3]\n",
       "class E5--><a href=\"psysml:a3147892-19dd-4d4c-8f64-71e53da800dc\" target=\"_top\" title=\"psysml:a3147892-19dd-4d4c-8f64-71e53da800dc\" xlink:actuate=\"onRequest\" xlink:href=\"psysml:a3147892-19dd-4d4c-8f64-71e53da800dc\" xlink:show=\"new\" xlink:title=\"psysml:a3147892-19dd-4d4c-8f64-71e53da800dc\" xlink:type=\"simple\"><rect fill=\"#FFFFFF\" height=\"45.9375\" id=\"E5\" rx=\"10\" ry=\"10\" style=\"stroke: #383838; stroke-width: 1.5;\" width=\"42\" x=\"262\" y=\"78\"/><text fill=\"#000000\" font-family=\"sans-serif\" font-size=\"12\" font-style=\"italic\" lengthAdjust=\"spacingAndGlyphs\" textLength=\"40\" x=\"263\" y=\"94.1387\">«port»</text><text fill=\"#000000\" font-family=\"sans-serif\" font-size=\"12\" lengthAdjust=\"spacingAndGlyphs\" textLength=\"23\" x=\"271.5\" y=\"108.1074\">c: C</text><line style=\"stroke: #383838; stroke-width: 1.5;\" x1=\"263\" x2=\"303\" y1=\"115.9375\" y2=\"115.9375\"/></a><!--MD5=[60a26617385b1d2d0262a64233df1f8d]\n",
       "class E6--><a href=\"psysml:bbb3af71-bfb9-47e2-863f-33482c8ff081\" target=\"_top\" title=\"psysml:bbb3af71-bfb9-47e2-863f-33482c8ff081\" xlink:actuate=\"onRequest\" xlink:href=\"psysml:bbb3af71-bfb9-47e2-863f-33482c8ff081\" xlink:show=\"new\" xlink:title=\"psysml:bbb3af71-bfb9-47e2-863f-33482c8ff081\" xlink:type=\"simple\"><rect fill=\"#FFFFFF\" height=\"45.9375\" id=\"E6\" style=\"stroke: #383838; stroke-width: 1.5;\" width=\"66\" x=\"541\" y=\"223\"/><text fill=\"#000000\" font-family=\"sans-serif\" font-size=\"12\" font-style=\"italic\" lengthAdjust=\"spacingAndGlyphs\" textLength=\"64\" x=\"542\" y=\"239.1387\">«part def»</text><text fill=\"#000000\" font-family=\"sans-serif\" font-size=\"12\" lengthAdjust=\"spacingAndGlyphs\" textLength=\"8\" x=\"570\" y=\"253.1074\">B</text><line style=\"stroke: #383838; stroke-width: 1.5;\" x1=\"542\" x2=\"606\" y1=\"260.9375\" y2=\"260.9375\"/></a><!--MD5=[2156ba9850f5573cc1fc38a6a4b2f02b]\n",
       "class E7--><a href=\"psysml:c128dc79-fecf-4cdb-b1ba-5850a9b121ec\" target=\"_top\" title=\"psysml:c128dc79-fecf-4cdb-b1ba-5850a9b121ec\" xlink:actuate=\"onRequest\" xlink:href=\"psysml:c128dc79-fecf-4cdb-b1ba-5850a9b121ec\" xlink:show=\"new\" xlink:title=\"psysml:c128dc79-fecf-4cdb-b1ba-5850a9b121ec\" xlink:type=\"simple\"><rect fill=\"#FFFFFF\" height=\"45.9375\" id=\"E7\" rx=\"10\" ry=\"10\" style=\"stroke: #383838; stroke-width: 1.5;\" width=\"42\" x=\"668\" y=\"354\"/><text fill=\"#000000\" font-family=\"sans-serif\" font-size=\"12\" font-style=\"italic\" lengthAdjust=\"spacingAndGlyphs\" textLength=\"40\" x=\"669\" y=\"370.1387\">«part»</text><text fill=\"#000000\" font-family=\"sans-serif\" font-size=\"12\" lengthAdjust=\"spacingAndGlyphs\" textLength=\"24\" x=\"677\" y=\"384.1074\">a: A</text><line style=\"stroke: #383838; stroke-width: 1.5;\" x1=\"669\" x2=\"709\" y1=\"391.9375\" y2=\"391.9375\"/></a><!--MD5=[b9389687b975829384b498ac4b7476b2]\n",
       "class E8--><a href=\"psysml:540f6402-e62e-4ea3-b051-5d5cf5bfcb38\" target=\"_top\" title=\"psysml:540f6402-e62e-4ea3-b051-5d5cf5bfcb38\" xlink:actuate=\"onRequest\" xlink:href=\"psysml:540f6402-e62e-4ea3-b051-5d5cf5bfcb38\" xlink:show=\"new\" xlink:title=\"psysml:540f6402-e62e-4ea3-b051-5d5cf5bfcb38\" xlink:type=\"simple\"><rect fill=\"#FFFFFF\" height=\"45.9375\" id=\"E8\" rx=\"10\" ry=\"10\" style=\"stroke: #383838; stroke-width: 1.5;\" width=\"42\" x=\"668\" y=\"173\"/><text fill=\"#000000\" font-family=\"sans-serif\" font-size=\"12\" font-style=\"italic\" lengthAdjust=\"spacingAndGlyphs\" textLength=\"40\" x=\"669\" y=\"189.1387\">«port»</text><text fill=\"#000000\" font-family=\"sans-serif\" font-size=\"12\" lengthAdjust=\"spacingAndGlyphs\" textLength=\"32\" x=\"673\" y=\"203.1074\">x: ~C</text><line style=\"stroke: #383838; stroke-width: 1.5;\" x1=\"669\" x2=\"709\" y1=\"210.9375\" y2=\"210.9375\"/></a><!--MD5=[96f4274e9e20536e775497830990834d]\n",
       "class E10--><a href=\"psysml:a92372c2-fe41-425f-b40c-da5b8c1ca15d\" target=\"_top\" title=\"psysml:a92372c2-fe41-425f-b40c-da5b8c1ca15d\" xlink:actuate=\"onRequest\" xlink:href=\"psysml:a92372c2-fe41-425f-b40c-da5b8c1ca15d\" xlink:show=\"new\" xlink:title=\"psysml:a92372c2-fe41-425f-b40c-da5b8c1ca15d\" xlink:type=\"simple\"><rect fill=\"#FFFFFF\" height=\"45.9375\" id=\"E10\" style=\"stroke: #383838; stroke-width: 1.5;\" width=\"66\" x=\"406\" y=\"223\"/><text fill=\"#000000\" font-family=\"sans-serif\" font-size=\"12\" font-style=\"italic\" lengthAdjust=\"spacingAndGlyphs\" textLength=\"64\" x=\"407\" y=\"239.1387\">«port def»</text><text fill=\"#000000\" font-family=\"sans-serif\" font-size=\"12\" lengthAdjust=\"spacingAndGlyphs\" textLength=\"8\" x=\"435\" y=\"253.1074\">C</text><line style=\"stroke: #383838; stroke-width: 1.5;\" x1=\"407\" x2=\"471\" y1=\"260.9375\" y2=\"260.9375\"/></a><a href=\"psysml:f4e4ee2b-1abf-4dbd-8483-2b091bdfceaf\" target=\"_top\" title=\"psysml:f4e4ee2b-1abf-4dbd-8483-2b091bdfceaf\" xlink:actuate=\"onRequest\" xlink:href=\"psysml:f4e4ee2b-1abf-4dbd-8483-2b091bdfceaf\" xlink:show=\"new\" xlink:title=\"psysml:f4e4ee2b-1abf-4dbd-8483-2b091bdfceaf\" xlink:type=\"simple\"><polygon fill=\"#FFFFFF\" points=\"674.5,254.5,689.5,254.5,696.5,276.7969,703.5,276.7969,703.5,307.0938,674.5,307.0938,674.5,254.5\" style=\"stroke: #000000; stroke-width: 1.5;\"/><line style=\"stroke: #000000; stroke-width: 1.5;\" x1=\"674.5\" x2=\"696.5\" y1=\"276.7969\" y2=\"276.7969\"/><text fill=\"#000000\" font-family=\"sans-serif\" font-size=\"14\" font-weight=\"bold\" lengthAdjust=\"spacingAndGlyphs\" textLength=\"9\" x=\"678.5\" y=\"269.4951\">P</text></a><!--MD5=[2720a5a1f2c3fca2055b230370638851]\n",
       "link E2 to E3--><a href=\"psysml:488f6ee0-39a9-4dc0-b555-612cc99c37a1\" target=\"_top\" title=\"psysml:488f6ee0-39a9-4dc0-b555-612cc99c37a1\" xlink:actuate=\"onRequest\" xlink:href=\"psysml:488f6ee0-39a9-4dc0-b555-612cc99c37a1\" xlink:show=\"new\" xlink:title=\"psysml:488f6ee0-39a9-4dc0-b555-612cc99c37a1\" xlink:type=\"simple\"><path d=\"M74.2,220 C85.46,220 100.06,220 114.33,220 \" fill=\"none\" id=\"E2-&gt;E3\" style=\"stroke: #383838; stroke-width: 1.0;\"/><polygon fill=\"#FFFFFF\" points=\"134.57,220,115.57,227,115.57,213,134.57,220\" style=\"stroke: #383838; stroke-width: 1.0;\"/><ellipse cx=\"109.87\" cy=\"225\" fill=\"#383838\" rx=\"2\" ry=\"2\" style=\"stroke: #383838; stroke-width: 1.0;\"/><ellipse cx=\"109.87\" cy=\"215\" fill=\"#383838\" rx=\"2\" ry=\"2\" style=\"stroke: #383838; stroke-width: 1.0;\"/></a><!--MD5=[4672eba38e49728da53d11aeb285b987]\n",
       "reverse link E3 to E4--><a href=\"psysml:98712745-a638-4d1f-8ffc-380c342569c9\" target=\"_top\" title=\"psysml:98712745-a638-4d1f-8ffc-380c342569c9\" xlink:actuate=\"onRequest\" xlink:href=\"psysml:98712745-a638-4d1f-8ffc-380c342569c9\" xlink:show=\"new\" xlink:title=\"psysml:98712745-a638-4d1f-8ffc-380c342569c9\" xlink:type=\"simple\"><path d=\"M185.64,163.26 C199.63,126.72 223.64,82.07 262,60 C284.67,46.96 314.4,59.54 333.84,71.08 \" fill=\"none\" id=\"E3&lt;-E4\" style=\"stroke: #383838; stroke-width: 1.0;\"/><polygon fill=\"#383838\" points=\"181.1,175.79,186.904,171.5106,185.1861,164.5071,179.3821,168.7865,181.1,175.79\" style=\"stroke: #383838; stroke-width: 1.0;\"/><text fill=\"#000000\" font-family=\"sans-serif\" font-size=\"13\" lengthAdjust=\"spacingAndGlyphs\" textLength=\"8\" x=\"318.1347\" y=\"81.2107\">1</text></a><!--MD5=[191cde3d490a3f6d7bb551fe3ddca469]\n",
       "reverse link E3 to E5--><a href=\"psysml:3d3c789c-d512-4565-8d7c-059f8d1010f8\" target=\"_top\" title=\"psysml:3d3c789c-d512-4565-8d7c-059f8d1010f8\" xlink:actuate=\"onRequest\" xlink:href=\"psysml:3d3c789c-d512-4565-8d7c-059f8d1010f8\" xlink:show=\"new\" xlink:title=\"psysml:3d3c789c-d512-4565-8d7c-059f8d1010f8\" xlink:type=\"simple\"><path d=\"M210.08,176.74 C227.74,158.14 247.57,137.25 261.94,122.13 \" fill=\"none\" id=\"E3&lt;-E5\" style=\"stroke: #383838; stroke-width: 1.0;\"/><polygon fill=\"#FFFFFF\" points=\"201.08,186.22,208.1112,184.6194,209.3381,177.5134,202.3068,179.114,201.08,186.22\" style=\"stroke: #383838; stroke-width: 1.0;\"/><text fill=\"#000000\" font-family=\"sans-serif\" font-size=\"13\" lengthAdjust=\"spacingAndGlyphs\" textLength=\"8\" x=\"245.9521\" y=\"143.3538\">1</text></a><!--MD5=[79568f1e445c3877b6a54524624ccc7d]\n",
       "link E4 to E6--><a href=\"psysml:1225703b-924d-44f0-aa92-4bca49ced0c9\" target=\"_top\" title=\"psysml:1225703b-924d-44f0-aa92-4bca49ced0c9\" xlink:actuate=\"onRequest\" xlink:href=\"psysml:1225703b-924d-44f0-aa92-4bca49ced0c9\" xlink:show=\"new\" xlink:title=\"psysml:1225703b-924d-44f0-aa92-4bca49ced0c9\" xlink:type=\"simple\"><path d=\"M376.03,99.86 C409.85,124.96 479.18,176.39 525.89,211.05 \" fill=\"none\" id=\"E4-&gt;E6\" style=\"stroke: #383838; stroke-width: 1.0;\"/><polygon fill=\"#FFFFFF\" points=\"541.97,222.98,522.5437,217.2687,530.8924,206.0305,541.97,222.98\" style=\"stroke: #383838; stroke-width: 1.0;\"/><ellipse cx=\"519.1608\" cy=\"212.2641\" fill=\"#383838\" rx=\"2\" ry=\"2\" style=\"stroke: #383838; stroke-width: 1.0;\"/><ellipse cx=\"525.1242\" cy=\"204.2368\" fill=\"#383838\" rx=\"2\" ry=\"2\" style=\"stroke: #383838; stroke-width: 1.0;\"/></a><!--MD5=[3f50a3473f1dfb74d3f76443e03635af]\n",
       "reverse link E6 to E7--><a href=\"psysml:a81e6d2d-a633-4d51-820c-a47602c519dd\" target=\"_top\" title=\"psysml:a81e6d2d-a633-4d51-820c-a47602c519dd\" xlink:actuate=\"onRequest\" xlink:href=\"psysml:a81e6d2d-a633-4d51-820c-a47602c519dd\" xlink:show=\"new\" xlink:title=\"psysml:a81e6d2d-a633-4d51-820c-a47602c519dd\" xlink:type=\"simple\"><path d=\"M603.67,279.23 C623.72,302.48 650.02,332.97 667.88,353.67 \" fill=\"none\" id=\"E6&lt;-E7\" style=\"stroke: #383838; stroke-width: 1.0;\"/><polygon fill=\"#383838\" points=\"594.94,269.12,595.8282,276.2762,602.7755,278.2087,601.8873,271.0525,594.94,269.12\" style=\"stroke: #383838; stroke-width: 1.0;\"/><text fill=\"#000000\" font-family=\"sans-serif\" font-size=\"13\" lengthAdjust=\"spacingAndGlyphs\" textLength=\"8\" x=\"651.873\" y=\"360.7222\">1</text></a><!--MD5=[14ccda38c055a5c0da953d572bc50960]\n",
       "link E7 to E3--><a href=\"psysml:4883cacd-6695-4e4a-8cc2-3609b81ec9a9\" target=\"_top\" title=\"psysml:4883cacd-6695-4e4a-8cc2-3609b81ec9a9\" xlink:actuate=\"onRequest\" xlink:href=\"psysml:4883cacd-6695-4e4a-8cc2-3609b81ec9a9\" xlink:show=\"new\" xlink:title=\"psysml:4883cacd-6695-4e4a-8cc2-3609b81ec9a9\" xlink:type=\"simple\"><path d=\"M667.68,390.2 C645.74,403.16 609.32,421 575,421 C282,421 282,421 282,421 C218.08,421 189.94,342.8 177.81,283.96 \" fill=\"none\" id=\"E7-&gt;E3\" style=\"stroke: #383838; stroke-width: 1.0;\"/><polygon fill=\"#FFFFFF\" points=\"174.15,264.11,184.4804,281.525,170.7127,284.0646,174.15,264.11\" style=\"stroke: #383838; stroke-width: 1.0;\"/><ellipse cx=\"183.5476\" cy=\"287.4932\" fill=\"#383838\" rx=\"2\" ry=\"2\" style=\"stroke: #383838; stroke-width: 1.0;\"/><ellipse cx=\"173.7135\" cy=\"289.3072\" fill=\"#383838\" rx=\"2\" ry=\"2\" style=\"stroke: #383838; stroke-width: 1.0;\"/></a><!--MD5=[f4cf0736d43fd73c4ef68817c49d37d5]\n",
       "reverse link E6 to E8--><a href=\"psysml:2d844c43-a52c-43bf-b052-a300acb2bf74\" target=\"_top\" title=\"psysml:2d844c43-a52c-43bf-b052-a300acb2bf74\" xlink:actuate=\"onRequest\" xlink:href=\"psysml:2d844c43-a52c-43bf-b052-a300acb2bf74\" xlink:show=\"new\" xlink:title=\"psysml:2d844c43-a52c-43bf-b052-a300acb2bf74\" xlink:type=\"simple\"><path d=\"M619.01,226.53 C635.9,219.05 654.37,210.88 667.94,204.88 \" fill=\"none\" id=\"E6&lt;-E8\" style=\"stroke: #383838; stroke-width: 1.0;\"/><polygon fill=\"#FFFFFF\" points=\"607.08,231.81,614.1847,233.0443,618.0566,226.9608,610.9519,225.7265,607.08,231.81\" style=\"stroke: #383838; stroke-width: 1.0;\"/><text fill=\"#000000\" font-family=\"sans-serif\" font-size=\"13\" lengthAdjust=\"spacingAndGlyphs\" textLength=\"8\" x=\"651.9521\" y=\"222.1991\">1</text></a><!--MD5=[e88d06e5a652d73a6b19930eefe025a8]\n",
       "reverse link E6 to E9--><a href=\"psysml:5153bd7e-9106-496d-98a6-0d3fae0d20a5\" target=\"_top\" title=\"psysml:5153bd7e-9106-496d-98a6-0d3fae0d20a5\" xlink:actuate=\"onRequest\" xlink:href=\"psysml:5153bd7e-9106-496d-98a6-0d3fae0d20a5\" xlink:show=\"new\" xlink:title=\"psysml:5153bd7e-9106-496d-98a6-0d3fae0d20a5\" xlink:type=\"simple\"><path d=\"M621.5,260.4 C640.52,266.29 661.1,272.67 674.25,276.74 \" fill=\"none\" id=\"E6&lt;-E9\" style=\"stroke: #383838; stroke-width: 1.0;\"/><ellipse cx=\"614.7211\" cy=\"258.3093\" fill=\"#FFFFFF\" rx=\"8\" ry=\"8\" style=\"stroke: #383838; stroke-width: 1.0;\"/><line style=\"stroke: #383838; stroke-width: 1.0;\" x1=\"622.3622\" x2=\"607.08\" y1=\"260.6786\" y2=\"255.94\"/><line style=\"stroke: #383838; stroke-width: 1.0;\" x1=\"612.3518\" x2=\"617.0904\" y1=\"265.9504\" y2=\"250.6682\"/></a><!--MD5=[f78a29d5932556fa1060671a2a6507d8]\n",
       "link E5 to E10--><a href=\"psysml:63374559-c2a0-4cf8-92a3-b39a3ed3eac1\" target=\"_top\" title=\"psysml:63374559-c2a0-4cf8-92a3-b39a3ed3eac1\" xlink:actuate=\"onRequest\" xlink:href=\"psysml:63374559-c2a0-4cf8-92a3-b39a3ed3eac1\" xlink:show=\"new\" xlink:title=\"psysml:63374559-c2a0-4cf8-92a3-b39a3ed3eac1\" xlink:type=\"simple\"><path d=\"M304.26,113.17 C323.78,125.41 353.57,145.52 376,167 C388.34,178.82 400.33,193.18 410.41,206.39 \" fill=\"none\" id=\"E5-&gt;E10\" style=\"stroke: #383838; stroke-width: 1.0;\"/><polygon fill=\"#FFFFFF\" points=\"422.45,222.79,405.5641,211.6156,416.85,203.3313,422.45,222.79\" style=\"stroke: #383838; stroke-width: 1.0;\"/><ellipse cx=\"403.8035\" cy=\"205.8372\" fill=\"#383838\" rx=\"2\" ry=\"2\" style=\"stroke: #383838; stroke-width: 1.0;\"/><ellipse cx=\"411.8648\" cy=\"199.9199\" fill=\"#383838\" rx=\"2\" ry=\"2\" style=\"stroke: #383838; stroke-width: 1.0;\"/></a><!--MD5=[8e04057e7b3cbc0dca4fc78ea351e2da]\n",
       "reverse link E10 to E3--><a href=\"psysml:e24d69b8-a494-4022-9892-35ed42c85155\" target=\"_top\" title=\"psysml:e24d69b8-a494-4022-9892-35ed42c85155\" xlink:actuate=\"onRequest\" xlink:href=\"psysml:e24d69b8-a494-4022-9892-35ed42c85155\" xlink:show=\"new\" xlink:title=\"psysml:e24d69b8-a494-4022-9892-35ed42c85155\" xlink:type=\"simple\"><path d=\"M405.11,277.64 C369.71,307.65 311.79,345.13 262,323 C234.7,310.87 212.03,286.32 195.9,264.24 \" fill=\"none\" id=\"E10&lt;-E3\" style=\"stroke: #383838; stroke-width: 1.0;\"/><polygon fill=\"#FFFFFF\" points=\"414.9,269.03,407.7525,269.9855,405.8854,276.9507,413.0329,275.9952,414.9,269.03\" style=\"stroke: #383838; stroke-width: 1.0;\"/><text fill=\"#000000\" font-family=\"sans-serif\" font-size=\"13\" lengthAdjust=\"spacingAndGlyphs\" textLength=\"7\" x=\"279.5\" y=\"319.0669\">y</text></a><!--MD5=[8e04057e7b3cbc0dca4fc78ea351e2da]\n",
       "reverse link E10 to E3--><a href=\"psysml:e24d69b8-a494-4022-9892-35ed42c85155\" target=\"_top\" title=\"psysml:e24d69b8-a494-4022-9892-35ed42c85155\" xlink:actuate=\"onRequest\" xlink:href=\"psysml:e24d69b8-a494-4022-9892-35ed42c85155\" xlink:show=\"new\" xlink:title=\"psysml:e24d69b8-a494-4022-9892-35ed42c85155\" xlink:type=\"simple\"><path d=\"M392.46,244.83 C356.85,243.58 306.16,241.04 262,236 C241.65,233.68 219,229.81 201.15,226.46 \" fill=\"none\" id=\"E10&lt;-E3-1\" style=\"stroke: #383838; stroke-width: 1.0;\"/><polygon fill=\"#FFFFFF\" points=\"405.79,245.27,399.9252,241.0743,393.7965,244.8742,399.6613,249.0699,405.79,245.27\" style=\"stroke: #383838; stroke-width: 1.0;\"/><text fill=\"#000000\" font-family=\"sans-serif\" font-size=\"13\" lengthAdjust=\"spacingAndGlyphs\" textLength=\"7\" x=\"279.5\" y=\"232.0669\">y</text></a><!--MD5=[8e04057e7b3cbc0dca4fc78ea351e2da]\n",
       "reverse link E10 to E3--><a href=\"psysml:e24d69b8-a494-4022-9892-35ed42c85155\" target=\"_top\" title=\"psysml:e24d69b8-a494-4022-9892-35ed42c85155\" xlink:actuate=\"onRequest\" xlink:href=\"psysml:e24d69b8-a494-4022-9892-35ed42c85155\" xlink:show=\"new\" xlink:title=\"psysml:e24d69b8-a494-4022-9892-35ed42c85155\" xlink:type=\"simple\"><path d=\"M393.1,232.92 C367.28,226.08 334.1,218.44 304,215 C285.45,212.88 280.66,214.5 262,215 C241.8,215.54 219.15,216.75 201.26,217.84 \" fill=\"none\" id=\"E10&lt;-E3-2\" style=\"stroke: #383838; stroke-width: 1.0;\"/><polygon fill=\"#FFFFFF\" points=\"405.87,236.4,401.1313,230.9645,394.2913,233.2482,399.03,238.6836,405.87,236.4\" style=\"stroke: #383838; stroke-width: 1.0;\"/><text fill=\"#000000\" font-family=\"sans-serif\" font-size=\"13\" lengthAdjust=\"spacingAndGlyphs\" textLength=\"7\" x=\"279.5\" y=\"210.0669\">y</text></a><!--MD5=[604cbf994c02b74b117f728a71673cea]\n",
       "reverse link E10 to E6--><a href=\"psysml:e24d69b8-a494-4022-9892-35ed42c85155\" target=\"_top\" title=\"psysml:e24d69b8-a494-4022-9892-35ed42c85155\" xlink:actuate=\"onRequest\" xlink:href=\"psysml:e24d69b8-a494-4022-9892-35ed42c85155\" xlink:show=\"new\" xlink:title=\"psysml:e24d69b8-a494-4022-9892-35ed42c85155\" xlink:type=\"simple\"><path d=\"M485.03,231.33 C490.69,229.96 496.44,228.79 502,228 C514.84,226.17 528.72,228.66 540.77,232.31 \" fill=\"none\" id=\"E10&lt;-E6\" style=\"stroke: #383838; stroke-width: 1.0;\"/><polygon fill=\"#FFFFFF\" points=\"472.12,234.81,478.9544,237.1101,483.7062,231.6861,476.8718,229.386,472.12,234.81\" style=\"stroke: #383838; stroke-width: 1.0;\"/><text fill=\"#000000\" font-family=\"sans-serif\" font-size=\"13\" lengthAdjust=\"spacingAndGlyphs\" textLength=\"7\" x=\"503\" y=\"224.0669\">y</text></a><!--MD5=[604cbf994c02b74b117f728a71673cea]\n",
       "reverse link E10 to E6--><a href=\"psysml:e24d69b8-a494-4022-9892-35ed42c85155\" target=\"_top\" title=\"psysml:e24d69b8-a494-4022-9892-35ed42c85155\" xlink:actuate=\"onRequest\" xlink:href=\"psysml:e24d69b8-a494-4022-9892-35ed42c85155\" xlink:show=\"new\" xlink:title=\"psysml:e24d69b8-a494-4022-9892-35ed42c85155\" xlink:type=\"simple\"><path d=\"M464.99,278.85 C475.16,289.62 487.86,300.28 502,306 C525.94,315.69 547.69,289.83 560.63,269.07 \" fill=\"none\" id=\"E10&lt;-E6-1\" style=\"stroke: #383838; stroke-width: 1.0;\"/><polygon fill=\"#FFFFFF\" points=\"456.39,269.07,457.3507,276.2168,464.3172,278.0788,463.3566,270.932,456.39,269.07\" style=\"stroke: #383838; stroke-width: 1.0;\"/><text fill=\"#000000\" font-family=\"sans-serif\" font-size=\"13\" lengthAdjust=\"spacingAndGlyphs\" textLength=\"7\" x=\"503\" y=\"302.0669\">y</text></a><!--MD5=[604cbf994c02b74b117f728a71673cea]\n",
       "reverse link E10 to E6--><a href=\"psysml:e24d69b8-a494-4022-9892-35ed42c85155\" target=\"_top\" title=\"psysml:e24d69b8-a494-4022-9892-35ed42c85155\" xlink:actuate=\"onRequest\" xlink:href=\"psysml:e24d69b8-a494-4022-9892-35ed42c85155\" xlink:show=\"new\" xlink:title=\"psysml:e24d69b8-a494-4022-9892-35ed42c85155\" xlink:type=\"simple\"><path d=\"M485.11,251.69 C490.79,252.23 496.52,252.69 502,253 C514.74,253.72 528.72,252.72 540.88,251.28 \" fill=\"none\" id=\"E10&lt;-E6-2\" style=\"stroke: #383838; stroke-width: 1.0;\"/><polygon fill=\"#FFFFFF\" points=\"472.12,250.32,477.6646,254.9306,484.0531,251.5858,478.5085,246.9752,472.12,250.32\" style=\"stroke: #383838; stroke-width: 1.0;\"/><text fill=\"#000000\" font-family=\"sans-serif\" font-size=\"13\" lengthAdjust=\"spacingAndGlyphs\" textLength=\"7\" x=\"503\" y=\"249.0669\">y</text></a><!--MD5=[b8e5f3f67b3af0115812a61ebb0eefff]\n",
       "@startuml\r\n",
       "left to right direction\r\n",
       "skinparam monochrome true\r\n",
       "skinparam classbackgroundcolor white\r\n",
       "skinparam shadowing false\r\n",
       "skinparam wrapWidth 300\r\n",
       "hide circle\r\n",
       "\r\n",
       "package \"PartTest\" as E1  [[psysml:a6b62677-d27b-4bf3-83e0-375e3ba01a4b ]]  {\r\n",
       "comp usage \"f: A\" as E2  <<(T,blue) part>> [[psysml:fef66b5f-1b9d-421e-94fe-86858427a029 ]] {\r\n",
       "}\r\n",
       "comp def \"A\" as E3  <<(T,blue) part def>> [[psysml:a2cad1be-c52d-4964-a87e-891cd7289f52 ]] {\r\n",
       "- - attributes - -\r\n",
       "x\r\n",
       "y\r\n",
       "}\r\n",
       "comp usage \"b: B\" as E4  <<(T,blue) part>> [[psysml:9dcf2186-613a-4b96-912f-a1b95f354387 ]] {\r\n",
       "}\r\n",
       "comp usage \"c: C\" as E5  <<(T,blue) port>> [[psysml:a3147892-19dd-4d4c-8f64-71e53da800dc ]] {\r\n",
       "}\r\n",
       "comp def \"B\" as E6  <<(T,blue) part def>> [[psysml:bbb3af71-bfb9-47e2-863f-33482c8ff081 ]] {\r\n",
       "}\r\n",
       "comp usage \"a: A\" as E7  <<(T,blue) part>> [[psysml:c128dc79-fecf-4cdb-b1ba-5850a9b121ec ]] {\r\n",
       "}\r\n",
       "comp usage \"x: ~C\" as E8  <<(T,blue) port>> [[psysml:540f6402-e62e-4ea3-b051-5d5cf5bfcb38 ]] {\r\n",
       "}\r\n",
       "package \"P\" as E9  [[psysml:f4e4ee2b-1abf-4dbd-8483-2b091bdfceaf ]]  {\r\n",
       "}\r\n",
       "comp def \"C\" as E10  <<(T,blue) port def>> [[psysml:a92372c2-fe41-425f-b40c-da5b8c1ca15d ]] {\r\n",
       "}\r\n",
       "}\r\n",
       "E2 - -:|> E3 [[psysml:488f6ee0-39a9-4dc0-b555-612cc99c37a1 ]] \r\n",
       "E3 *- - \"1\"E4 [[psysml:98712745-a638-4d1f-8ffc-380c342569c9 ]] \r\n",
       "E3 o- - \"1\"E5 [[psysml:3d3c789c-d512-4565-8d7c-059f8d1010f8 ]] \r\n",
       "E4 - -:|> E6 [[psysml:1225703b-924d-44f0-aa92-4bca49ced0c9 ]] \r\n",
       "E6 *- - \"1\"E7 [[psysml:a81e6d2d-a633-4d51-820c-a47602c519dd ]] \r\n",
       "E7 - -:|> E3 [[psysml:4883cacd-6695-4e4a-8cc2-3609b81ec9a9 ]] \r\n",
       "E6 o- - \"1\"E8 [[psysml:2d844c43-a52c-43bf-b052-a300acb2bf74 ]] \r\n",
       "E6 +- - E9 [[psysml:5153bd7e-9106-496d-98a6-0d3fae0d20a5 ]] \r\n",
       "E5 - -:|> E10 [[psysml:63374559-c2a0-4cf8-92a3-b39a3ed3eac1 ]] \r\n",
       "E10 o- - E3 [[psysml:e24d69b8-a494-4022-9892-35ed42c85155 ]] : y\r\n",
       "E10 o- - E6 [[psysml:e24d69b8-a494-4022-9892-35ed42c85155 ]] : y\r\n",
       "E10 o- - E3 [[psysml:e24d69b8-a494-4022-9892-35ed42c85155 ]] : y\r\n",
       "E10 o- - E6 [[psysml:e24d69b8-a494-4022-9892-35ed42c85155 ]] : y\r\n",
       "E10 o- - E3 [[psysml:e24d69b8-a494-4022-9892-35ed42c85155 ]] : y\r\n",
       "E10 o- - E6 [[psysml:e24d69b8-a494-4022-9892-35ed42c85155 ]] : y\r\n",
       "@enduml\r\n",
       "\n",
       "PlantUML version 1.2020.13(Sat Jun 13 12:26:38 UTC 2020)\n",
       "(EPL source distribution)\n",
       "Java Runtime: OpenJDK Runtime Environment\n",
       "JVM: OpenJDK 64-Bit Server VM\n",
       "Default Encoding: UTF-8\n",
       "Language: en\n",
       "Country: null\n",
       "--></g></svg>"
      ]
     },
     "execution_count": 17,
     "metadata": {},
     "output_type": "execute_result"
    }
   ],
   "source": [
    "%viz --style=\"LR\" --view=\"Tree\" \"PartTest\""
   ]
  },
  {
   "cell_type": "code",
   "execution_count": 18,
   "id": "113a872e",
   "metadata": {
    "execution": {
     "iopub.execute_input": "2021-10-03T08:29:53.207384Z",
     "iopub.status.busy": "2021-10-03T08:29:53.207062Z",
     "iopub.status.idle": "2021-10-03T08:29:53.211890Z",
     "shell.execute_reply": "2021-10-03T08:29:53.212146Z"
    }
   },
   "outputs": [
    {
     "data": {
      "image/svg+xml": [
       "<?xml version=\"1.0\" encoding=\"UTF-8\" standalone=\"no\"?><svg xmlns=\"http://www.w3.org/2000/svg\" xmlns:xlink=\"http://www.w3.org/1999/xlink\" contentScriptType=\"application/ecmascript\" contentStyleType=\"text/css\" height=\"12px\" preserveAspectRatio=\"none\" style=\"width:12px;height:12px;\" version=\"1.1\" viewBox=\"0 0 12 12\" width=\"12px\" zoomAndPan=\"magnify\"><defs/><g><!--MD5=[19d285c9d72a204eba4e2cd117d745e8]\n",
       "@startuml\r\n",
       "left to right direction\r\n",
       "skinparam monochrome true\r\n",
       "skinparam classbackgroundcolor white\r\n",
       "skinparam shadowing false\r\n",
       "skinparam wrapWidth 300\r\n",
       "hide circle\r\n",
       "\r\n",
       "@enduml\r\n",
       "\n",
       "PlantUML version 1.2020.13(Sat Jun 13 12:26:38 UTC 2020)\n",
       "(EPL source distribution)\n",
       "Java Runtime: OpenJDK Runtime Environment\n",
       "JVM: OpenJDK 64-Bit Server VM\n",
       "Default Encoding: UTF-8\n",
       "Language: en\n",
       "Country: null\n",
       "--></g></svg>"
      ]
     },
     "execution_count": 18,
     "metadata": {},
     "output_type": "execute_result"
    }
   ],
   "source": [
    "%viz --style=\"LR\" --view=\"State\" \"PartTest\""
   ]
  },
  {
   "cell_type": "code",
   "execution_count": 19,
   "id": "6575e7f8",
   "metadata": {
    "execution": {
     "iopub.execute_input": "2021-10-03T08:29:53.262035Z",
     "iopub.status.busy": "2021-10-03T08:29:53.261706Z",
     "iopub.status.idle": "2021-10-03T08:29:53.306331Z",
     "shell.execute_reply": "2021-10-03T08:29:53.305795Z"
    }
   },
   "outputs": [
    {
     "data": {
      "image/svg+xml": [
       "<?xml version=\"1.0\" encoding=\"UTF-8\" standalone=\"no\"?><svg xmlns=\"http://www.w3.org/2000/svg\" xmlns:xlink=\"http://www.w3.org/1999/xlink\" contentScriptType=\"application/ecmascript\" contentStyleType=\"text/css\" height=\"500px\" preserveAspectRatio=\"none\" style=\"width:341px;height:500px;\" version=\"1.1\" viewBox=\"0 0 341 500\" width=\"341px\" zoomAndPan=\"magnify\"><defs/><g><!--MD5=[fbc87193dbaf4d95561dea2c320d4a47]\n",
       "cluster E1--><a href=\"psysml:a6b62677-d27b-4bf3-83e0-375e3ba01a4b\" target=\"_top\" title=\"psysml:a6b62677-d27b-4bf3-83e0-375e3ba01a4b\" xlink:actuate=\"onRequest\" xlink:href=\"psysml:a6b62677-d27b-4bf3-83e0-375e3ba01a4b\" xlink:show=\"new\" xlink:title=\"psysml:a6b62677-d27b-4bf3-83e0-375e3ba01a4b\" xlink:type=\"simple\"><polygon fill=\"#FFFFFF\" points=\"16,6,80,6,87,28.2969,319,28.2969,319,488,16,488,16,6\" style=\"stroke: #000000; stroke-width: 1.5;\"/><line style=\"stroke: #000000; stroke-width: 1.5;\" x1=\"16\" x2=\"87\" y1=\"28.2969\" y2=\"28.2969\"/><text fill=\"#000000\" font-family=\"sans-serif\" font-size=\"14\" font-weight=\"bold\" lengthAdjust=\"spacingAndGlyphs\" textLength=\"58\" x=\"20\" y=\"20.9951\">PartTest</text></a><!--MD5=[d5e69f78d87373223dbae638b30a9c99]\n",
       "cluster E3--><a href=\"psysml:a2cad1be-c52d-4964-a87e-891cd7289f52\" target=\"_top\" title=\"psysml:a2cad1be-c52d-4964-a87e-891cd7289f52\" xlink:actuate=\"onRequest\" xlink:href=\"psysml:a2cad1be-c52d-4964-a87e-891cd7289f52\" xlink:show=\"new\" xlink:title=\"psysml:a2cad1be-c52d-4964-a87e-891cd7289f52\" xlink:type=\"simple\"><rect fill=\"#FFFFFF\" height=\"153\" id=\"E3\" style=\"stroke: #383838; stroke-width: 1.5;\" width=\"235.5\" x=\"67.5\" y=\"41\"/><rect fill=\"#F8F8F8\" height=\"37.9375\" style=\"stroke: #383838; stroke-width: 1.5;\" width=\"235.5\" x=\"67.5\" y=\"41\"/><text fill=\"#000000\" font-family=\"sans-serif\" font-size=\"12\" font-style=\"italic\" lengthAdjust=\"spacingAndGlyphs\" textLength=\"64\" x=\"153.25\" y=\"57.1387\">«part def»</text><text fill=\"#000000\" font-family=\"sans-serif\" font-size=\"12\" lengthAdjust=\"spacingAndGlyphs\" textLength=\"8\" x=\"181.25\" y=\"71.1074\">A</text></a><!--MD5=[55dfccfc6c49c2d10cd1bd2211a6c90c]\n",
       "cluster E8--><a href=\"psysml:bbb3af71-bfb9-47e2-863f-33482c8ff081\" target=\"_top\" title=\"psysml:bbb3af71-bfb9-47e2-863f-33482c8ff081\" xlink:actuate=\"onRequest\" xlink:href=\"psysml:bbb3af71-bfb9-47e2-863f-33482c8ff081\" xlink:show=\"new\" xlink:title=\"psysml:bbb3af71-bfb9-47e2-863f-33482c8ff081\" xlink:type=\"simple\"><rect fill=\"#FFFFFF\" height=\"143\" id=\"E8\" style=\"stroke: #383838; stroke-width: 1.5;\" width=\"214.5\" x=\"67.5\" y=\"202\"/><rect fill=\"#F8F8F8\" height=\"37.9375\" style=\"stroke: #383838; stroke-width: 1.5;\" width=\"214.5\" x=\"67.5\" y=\"202\"/><text fill=\"#000000\" font-family=\"sans-serif\" font-size=\"12\" font-style=\"italic\" lengthAdjust=\"spacingAndGlyphs\" textLength=\"64\" x=\"142.75\" y=\"218.1387\">«part def»</text><text fill=\"#000000\" font-family=\"sans-serif\" font-size=\"12\" lengthAdjust=\"spacingAndGlyphs\" textLength=\"8\" x=\"170.75\" y=\"232.1074\">B</text></a><g id=\"E1.E12\"><a href=\"psysml:a92372c2-fe41-425f-b40c-da5b8c1ca15d\" target=\"_top\" title=\"psysml:a92372c2-fe41-425f-b40c-da5b8c1ca15d\" xlink:actuate=\"onRequest\" xlink:href=\"psysml:a92372c2-fe41-425f-b40c-da5b8c1ca15d\" xlink:show=\"new\" xlink:title=\"psysml:a92372c2-fe41-425f-b40c-da5b8c1ca15d\" xlink:type=\"simple\"><rect fill=\"#FFFFFF\" height=\"42.9375\" id=\"E12\" style=\"stroke: #383838; stroke-width: 1.5;\" width=\"71\" x=\"32\" y=\"353.5\"/><rect fill=\"#F8F8F8\" height=\"37.9375\" style=\"stroke: #383838; stroke-width: 1.5;\" width=\"71\" x=\"32\" y=\"353.5\"/><text fill=\"#000000\" font-family=\"sans-serif\" font-size=\"12\" font-style=\"italic\" lengthAdjust=\"spacingAndGlyphs\" textLength=\"64\" x=\"35.5\" y=\"369.6387\">«port def»</text><text fill=\"#000000\" font-family=\"sans-serif\" font-size=\"12\" lengthAdjust=\"spacingAndGlyphs\" textLength=\"8\" x=\"63.5\" y=\"383.6074\">C</text></a></g><g id=\"E1.E2\"><a href=\"psysml:fef66b5f-1b9d-421e-94fe-86858427a029\" target=\"_top\" title=\"psysml:fef66b5f-1b9d-421e-94fe-86858427a029\" xlink:actuate=\"onRequest\" xlink:href=\"psysml:fef66b5f-1b9d-421e-94fe-86858427a029\" xlink:show=\"new\" xlink:title=\"psysml:fef66b5f-1b9d-421e-94fe-86858427a029\" xlink:type=\"simple\"><rect fill=\"#FFFFFF\" height=\"40\" id=\"E2\" rx=\"10\" ry=\"10\" style=\"stroke: #383838; stroke-width: 1.5;\" width=\"50\" x=\"42.5\" y=\"432\"/><rect fill=\"#F8F8F8\" height=\"23.9688\" rx=\"10\" ry=\"10\" style=\"stroke: #F8F8F8; stroke-width: 1.5;\" width=\"50\" x=\"42.5\" y=\"432\"/><rect fill=\"#F8F8F8\" height=\"10\" style=\"stroke: #F8F8F8; stroke-width: 1.5;\" width=\"50\" x=\"42.5\" y=\"445.9688\"/><rect fill=\"none\" height=\"40\" id=\"E2\" rx=\"10\" ry=\"10\" style=\"stroke: #383838; stroke-width: 1.5;\" width=\"50\" x=\"42.5\" y=\"432\"/><text fill=\"#000000\" font-family=\"sans-serif\" font-size=\"12\" lengthAdjust=\"spacingAndGlyphs\" textLength=\"20\" x=\"57.5\" y=\"448.1387\">f: A</text></a></g><text fill=\"#000000\" font-family=\"sans-serif\" font-size=\"14\" lengthAdjust=\"spacingAndGlyphs\" textLength=\"27\" x=\"54\" y=\"55.6982\">c: C</text><rect fill=\"#383838\" height=\"12\" style=\"stroke: #F8F8F8; stroke-width: 1.5;\" width=\"12\" x=\"61.5\" y=\"71\"/><!--MD5=[60a26617385b1d2d0262a64233df1f8d]\n",
       "class E6--><a href=\"psysml:4215315b-f4db-4a1d-ab72-0471726dcc45\" target=\"_top\" title=\"psysml:4215315b-f4db-4a1d-ab72-0471726dcc45\" xlink:actuate=\"onRequest\" xlink:href=\"psysml:4215315b-f4db-4a1d-ab72-0471726dcc45\" xlink:show=\"new\" xlink:title=\"psysml:4215315b-f4db-4a1d-ab72-0471726dcc45\" xlink:type=\"simple\"><rect fill=\"#FFFFFF\" height=\"45.9375\" id=\"E6\" rx=\"10\" ry=\"10\" style=\"stroke: #383838; stroke-width: 1.5;\" width=\"71\" x=\"216\" y=\"132\"/><text fill=\"#000000\" font-family=\"sans-serif\" font-size=\"12\" font-style=\"italic\" lengthAdjust=\"spacingAndGlyphs\" textLength=\"69\" x=\"217\" y=\"148.1387\">«attribute»</text><text fill=\"#000000\" font-family=\"sans-serif\" font-size=\"12\" lengthAdjust=\"spacingAndGlyphs\" textLength=\"6\" x=\"248.5\" y=\"162.1074\">x</text><line style=\"stroke: #383838; stroke-width: 1.5;\" x1=\"217\" x2=\"286\" y1=\"169.9375\" y2=\"169.9375\"/></a><!--MD5=[2156ba9850f5573cc1fc38a6a4b2f02b]\n",
       "class E7--><a href=\"psysml:89a85a0a-005f-45e8-8309-6769d170c6df\" target=\"_top\" title=\"psysml:89a85a0a-005f-45e8-8309-6769d170c6df\" xlink:actuate=\"onRequest\" xlink:href=\"psysml:89a85a0a-005f-45e8-8309-6769d170c6df\" xlink:show=\"new\" xlink:title=\"psysml:89a85a0a-005f-45e8-8309-6769d170c6df\" xlink:type=\"simple\"><rect fill=\"#FFFFFF\" height=\"45.9375\" id=\"E7\" rx=\"10\" ry=\"10\" style=\"stroke: #383838; stroke-width: 1.5;\" width=\"71\" x=\"127\" y=\"132\"/><text fill=\"#000000\" font-family=\"sans-serif\" font-size=\"12\" font-style=\"italic\" lengthAdjust=\"spacingAndGlyphs\" textLength=\"69\" x=\"128\" y=\"148.1387\">«attribute»</text><text fill=\"#000000\" font-family=\"sans-serif\" font-size=\"12\" lengthAdjust=\"spacingAndGlyphs\" textLength=\"6\" x=\"159.5\" y=\"162.1074\">y</text><line style=\"stroke: #383838; stroke-width: 1.5;\" x1=\"128\" x2=\"197\" y1=\"169.9375\" y2=\"169.9375\"/></a><g id=\"E1.E3.E4\"><a href=\"psysml:9dcf2186-613a-4b96-912f-a1b95f354387\" target=\"_top\" title=\"psysml:9dcf2186-613a-4b96-912f-a1b95f354387\" xlink:actuate=\"onRequest\" xlink:href=\"psysml:9dcf2186-613a-4b96-912f-a1b95f354387\" xlink:show=\"new\" xlink:title=\"psysml:9dcf2186-613a-4b96-912f-a1b95f354387\" xlink:type=\"simple\"><rect fill=\"#FFFFFF\" height=\"40\" id=\"E4\" rx=\"10\" ry=\"10\" style=\"stroke: #383838; stroke-width: 1.5;\" width=\"50\" x=\"226.5\" y=\"57\"/><rect fill=\"#F8F8F8\" height=\"23.9688\" rx=\"10\" ry=\"10\" style=\"stroke: #F8F8F8; stroke-width: 1.5;\" width=\"50\" x=\"226.5\" y=\"57\"/><rect fill=\"#F8F8F8\" height=\"10\" style=\"stroke: #F8F8F8; stroke-width: 1.5;\" width=\"50\" x=\"226.5\" y=\"70.9688\"/><rect fill=\"none\" height=\"40\" id=\"E4\" rx=\"10\" ry=\"10\" style=\"stroke: #383838; stroke-width: 1.5;\" width=\"50\" x=\"226.5\" y=\"57\"/><text fill=\"#000000\" font-family=\"sans-serif\" font-size=\"12\" lengthAdjust=\"spacingAndGlyphs\" textLength=\"24\" x=\"239.5\" y=\"73.1387\">b: B</text></a></g><text fill=\"#000000\" font-family=\"sans-serif\" font-size=\"14\" lengthAdjust=\"spacingAndGlyphs\" textLength=\"38\" x=\"48.5\" y=\"214.6982\">x: ~C</text><rect fill=\"#383838\" height=\"12\" style=\"stroke: #F8F8F8; stroke-width: 1.5;\" width=\"12\" x=\"61.5\" y=\"230\"/><g id=\"E1.E8.E9\"><a href=\"psysml:c128dc79-fecf-4cdb-b1ba-5850a9b121ec\" target=\"_top\" title=\"psysml:c128dc79-fecf-4cdb-b1ba-5850a9b121ec\" xlink:actuate=\"onRequest\" xlink:href=\"psysml:c128dc79-fecf-4cdb-b1ba-5850a9b121ec\" xlink:show=\"new\" xlink:title=\"psysml:c128dc79-fecf-4cdb-b1ba-5850a9b121ec\" xlink:type=\"simple\"><rect fill=\"#FFFFFF\" height=\"40\" id=\"E9\" rx=\"10\" ry=\"10\" style=\"stroke: #383838; stroke-width: 1.5;\" width=\"50\" x=\"137.5\" y=\"289\"/><rect fill=\"#F8F8F8\" height=\"23.9688\" rx=\"10\" ry=\"10\" style=\"stroke: #F8F8F8; stroke-width: 1.5;\" width=\"50\" x=\"137.5\" y=\"289\"/><rect fill=\"#F8F8F8\" height=\"10\" style=\"stroke: #F8F8F8; stroke-width: 1.5;\" width=\"50\" x=\"137.5\" y=\"302.9688\"/><rect fill=\"none\" height=\"40\" id=\"E9\" rx=\"10\" ry=\"10\" style=\"stroke: #383838; stroke-width: 1.5;\" width=\"50\" x=\"137.5\" y=\"289\"/><text fill=\"#000000\" font-family=\"sans-serif\" font-size=\"12\" lengthAdjust=\"spacingAndGlyphs\" textLength=\"24\" x=\"150.5\" y=\"305.1387\">a: A</text></a></g><a href=\"psysml:f4e4ee2b-1abf-4dbd-8483-2b091bdfceaf\" target=\"_top\" title=\"psysml:f4e4ee2b-1abf-4dbd-8483-2b091bdfceaf\" xlink:actuate=\"onRequest\" xlink:href=\"psysml:f4e4ee2b-1abf-4dbd-8483-2b091bdfceaf\" xlink:show=\"new\" xlink:title=\"psysml:f4e4ee2b-1abf-4dbd-8483-2b091bdfceaf\" xlink:type=\"simple\"><polygon fill=\"#FFFFFF\" points=\"237,218.5,252,218.5,259,240.7969,266,240.7969,266,271.0938,237,271.0938,237,218.5\" style=\"stroke: #000000; stroke-width: 1.5;\"/><line style=\"stroke: #000000; stroke-width: 1.5;\" x1=\"237\" x2=\"259\" y1=\"240.7969\" y2=\"240.7969\"/><text fill=\"#000000\" font-family=\"sans-serif\" font-size=\"14\" font-weight=\"bold\" lengthAdjust=\"spacingAndGlyphs\" textLength=\"9\" x=\"241\" y=\"233.4951\">P</text></a><!--MD5=[fbb449814971db3a0b8220cf225b9e01]\n",
       "link E7 to E6--><a href=\"psysml:786244db-8099-4288-b2d9-7a0aeaae101d\" target=\"_top\" title=\"psysml:786244db-8099-4288-b2d9-7a0aeaae101d\" xlink:actuate=\"onRequest\" xlink:href=\"psysml:786244db-8099-4288-b2d9-7a0aeaae101d\" xlink:show=\"new\" xlink:title=\"psysml:786244db-8099-4288-b2d9-7a0aeaae101d\" xlink:type=\"simple\"><path d=\"M198.13,155 C198.23,155 198.32,155 198.41,155 \" fill=\"none\" id=\"E7-&gt;E6\" style=\"stroke: #383838; stroke-width: 1.0;\"/><polygon fill=\"none\" points=\"195.98,148,215.98,155,195.98,162,195.98,148\" style=\"stroke: #383838; stroke-width: 1.0;\"/></a><!--MD5=[326db3d964bf76534296a15655c1d31e]\n",
       "@startuml\r\n",
       "skinparam ranksep 10\r\n",
       "skinparam rectangle {\r\n",
       " backgroundColor<<block>> LightGreen\r\n",
       "}\r\n",
       "left to right direction\r\n",
       "skinparam monochrome true\r\n",
       "skinparam classbackgroundcolor white\r\n",
       "skinparam shadowing false\r\n",
       "skinparam wrapWidth 300\r\n",
       "hide circle\r\n",
       "\r\n",
       "package \"PartTest\" as E1  [[psysml:a6b62677-d27b-4bf3-83e0-375e3ba01a4b ]]  {\r\n",
       "rec usage \"f: A\" as E2  [[psysml:fef66b5f-1b9d-421e-94fe-86858427a029 ]] {\r\n",
       "}\r\n",
       "rec def \"A\" as E3  <<(T,blue) part def>> [[psysml:a2cad1be-c52d-4964-a87e-891cd7289f52 ]] {\r\n",
       "rec usage \"b: B\" as E4  [[psysml:9dcf2186-613a-4b96-912f-a1b95f354387 ]] {\r\n",
       "}\r\n",
       "portin \"c: C\" as E5  <<(T,blue) port>> [[psysml:a3147892-19dd-4d4c-8f64-71e53da800dc ]] \r\n",
       "comp usage \"x\" as E6  <<(T,blue) attribute>> [[psysml:4215315b-f4db-4a1d-ab72-0471726dcc45 ]] {\r\n",
       "}\r\n",
       "comp usage \"y\" as E7  <<(T,blue) attribute>> [[psysml:89a85a0a-005f-45e8-8309-6769d170c6df ]] {\r\n",
       "}\r\n",
       "}\r\n",
       "rec def \"B\" as E8  <<(T,blue) part def>> [[psysml:bbb3af71-bfb9-47e2-863f-33482c8ff081 ]] {\r\n",
       "rec usage \"a: A\" as E9  [[psysml:c128dc79-fecf-4cdb-b1ba-5850a9b121ec ]] {\r\n",
       "}\r\n",
       "portin \"x: ~C\" as E10  <<(T,blue) port>> [[psysml:540f6402-e62e-4ea3-b051-5d5cf5bfcb38 ]] \r\n",
       "package \"P\" as E11  [[psysml:f4e4ee2b-1abf-4dbd-8483-2b091bdfceaf ]]  {\r\n",
       "}\r\n",
       "}\r\n",
       "def \"C\" as E12  <<(T,blue) port def>> [[psysml:a92372c2-fe41-425f-b40c-da5b8c1ca15d ]] \r\n",
       "}\r\n",
       "E7 - -|> E6 [[psysml:786244db-8099-4288-b2d9-7a0aeaae101d ]] \r\n",
       "@enduml\r\n",
       "\n",
       "PlantUML version 1.2020.13(Sat Jun 13 12:26:38 UTC 2020)\n",
       "(EPL source distribution)\n",
       "Java Runtime: OpenJDK Runtime Environment\n",
       "JVM: OpenJDK 64-Bit Server VM\n",
       "Default Encoding: UTF-8\n",
       "Language: en\n",
       "Country: null\n",
       "--></g></svg>"
      ]
     },
     "execution_count": 19,
     "metadata": {},
     "output_type": "execute_result"
    }
   ],
   "source": [
    "%viz --style=\"LR\" --view=\"Interconnection\" \"PartTest\""
   ]
  },
  {
   "cell_type": "code",
   "execution_count": 20,
   "id": "aad2c7be",
   "metadata": {
    "execution": {
     "iopub.execute_input": "2021-10-03T08:29:53.354974Z",
     "iopub.status.busy": "2021-10-03T08:29:53.354380Z",
     "iopub.status.idle": "2021-10-03T08:29:53.362201Z",
     "shell.execute_reply": "2021-10-03T08:29:53.361707Z"
    }
   },
   "outputs": [
    {
     "data": {
      "image/svg+xml": [
       "<?xml version=\"1.0\" encoding=\"UTF-8\" standalone=\"no\"?><svg xmlns=\"http://www.w3.org/2000/svg\" xmlns:xlink=\"http://www.w3.org/1999/xlink\" contentScriptType=\"application/ecmascript\" contentStyleType=\"text/css\" height=\"12px\" preserveAspectRatio=\"none\" style=\"width:12px;height:12px;\" version=\"1.1\" viewBox=\"0 0 12 12\" width=\"12px\" zoomAndPan=\"magnify\"><defs/><g><!--MD5=[7aeb398939421629f6affaa4a1a7b125]\n",
       "@startuml\r\n",
       "skinparam ranksep 8\r\n",
       "left to right direction\r\n",
       "skinparam monochrome true\r\n",
       "skinparam classbackgroundcolor white\r\n",
       "skinparam shadowing false\r\n",
       "skinparam wrapWidth 300\r\n",
       "hide circle\r\n",
       "\r\n",
       "@enduml\r\n",
       "\n",
       "PlantUML version 1.2020.13(Sat Jun 13 12:26:38 UTC 2020)\n",
       "(EPL source distribution)\n",
       "Java Runtime: OpenJDK Runtime Environment\n",
       "JVM: OpenJDK 64-Bit Server VM\n",
       "Default Encoding: UTF-8\n",
       "Language: en\n",
       "Country: null\n",
       "--></g></svg>"
      ]
     },
     "execution_count": 20,
     "metadata": {},
     "output_type": "execute_result"
    }
   ],
   "source": [
    "%viz --style=\"LR\" --view=\"Action\" \"PartTest\""
   ]
  },
  {
   "cell_type": "code",
   "execution_count": 21,
   "id": "13628438",
   "metadata": {
    "execution": {
     "iopub.execute_input": "2021-10-03T08:29:53.410761Z",
     "iopub.status.busy": "2021-10-03T08:29:53.410530Z",
     "iopub.status.idle": "2021-10-03T08:29:53.416025Z",
     "shell.execute_reply": "2021-10-03T08:29:53.416192Z"
    }
   },
   "outputs": [
    {
     "data": {
      "image/svg+xml": [
       "<?xml version=\"1.0\" encoding=\"UTF-8\" standalone=\"no\"?><svg xmlns=\"http://www.w3.org/2000/svg\" xmlns:xlink=\"http://www.w3.org/1999/xlink\" contentScriptType=\"application/ecmascript\" contentStyleType=\"text/css\" height=\"12px\" preserveAspectRatio=\"none\" style=\"width:12px;height:12px;\" version=\"1.1\" viewBox=\"0 0 12 12\" width=\"12px\" zoomAndPan=\"magnify\"><defs/><g><!--MD5=[238c11ea2002f03115ad6b49a457d50e]\n",
       "@startuml\r\n",
       "skinparam roundcorner 20\r\n",
       "skinparam BoxPadding 20\r\n",
       "skinparam SequenceBoxBackgroundColor #white\r\n",
       "skinparam style strictuml\r\n",
       "skinparam maxMessageSize 100\r\n",
       "left to right direction\r\n",
       "skinparam monochrome true\r\n",
       "skinparam classbackgroundcolor white\r\n",
       "skinparam shadowing false\r\n",
       "skinparam wrapWidth 300\r\n",
       "hide circle\r\n",
       "\r\n",
       "@enduml\r\n",
       "\n",
       "PlantUML version 1.2020.13(Sat Jun 13 12:26:38 UTC 2020)\n",
       "(EPL source distribution)\n",
       "Java Runtime: OpenJDK Runtime Environment\n",
       "JVM: OpenJDK 64-Bit Server VM\n",
       "Default Encoding: UTF-8\n",
       "Language: en\n",
       "Country: null\n",
       "--></g></svg>"
      ]
     },
     "execution_count": 21,
     "metadata": {},
     "output_type": "execute_result"
    }
   ],
   "source": [
    "%viz --style=\"LR\" --view=\"Sequence\" \"PartTest\""
   ]
  },
  {
   "cell_type": "code",
   "execution_count": 22,
   "id": "4f0b79a6",
   "metadata": {
    "execution": {
     "iopub.execute_input": "2021-10-03T08:29:53.466379Z",
     "iopub.status.busy": "2021-10-03T08:29:53.466095Z",
     "iopub.status.idle": "2021-10-03T08:29:53.553724Z",
     "shell.execute_reply": "2021-10-03T08:29:53.553340Z"
    }
   },
   "outputs": [
    {
     "data": {
      "image/svg+xml": [
       "<?xml version=\"1.0\" encoding=\"UTF-8\" standalone=\"no\"?><svg xmlns=\"http://www.w3.org/2000/svg\" xmlns:xlink=\"http://www.w3.org/1999/xlink\" contentScriptType=\"application/ecmascript\" contentStyleType=\"text/css\" height=\"450px\" preserveAspectRatio=\"none\" style=\"width:748px;height:450px;\" version=\"1.1\" viewBox=\"0 0 748 450\" width=\"748px\" zoomAndPan=\"magnify\"><defs/><g><!--MD5=[fbc87193dbaf4d95561dea2c320d4a47]\n",
       "cluster E1--><a href=\"psysml:a6b62677-d27b-4bf3-83e0-375e3ba01a4b\" target=\"_top\" title=\"psysml:a6b62677-d27b-4bf3-83e0-375e3ba01a4b\" xlink:actuate=\"onRequest\" xlink:href=\"psysml:a6b62677-d27b-4bf3-83e0-375e3ba01a4b\" xlink:show=\"new\" xlink:title=\"psysml:a6b62677-d27b-4bf3-83e0-375e3ba01a4b\" xlink:type=\"simple\"><polygon fill=\"#FFFFFF\" points=\"16,6,80,6,87,28.2969,726,28.2969,726,438,16,438,16,6\" style=\"stroke: #000000; stroke-width: 1.5;\"/><line style=\"stroke: #000000; stroke-width: 1.5;\" x1=\"16\" x2=\"87\" y1=\"28.2969\" y2=\"28.2969\"/><text fill=\"#000000\" font-family=\"sans-serif\" font-size=\"14\" font-weight=\"bold\" lengthAdjust=\"spacingAndGlyphs\" textLength=\"58\" x=\"20\" y=\"20.9951\">PartTest</text></a><!--MD5=[b4997ac47864f28c2f74865a473b2911]\n",
       "class E2--><a href=\"psysml:fef66b5f-1b9d-421e-94fe-86858427a029\" target=\"_top\" title=\"psysml:fef66b5f-1b9d-421e-94fe-86858427a029\" xlink:actuate=\"onRequest\" xlink:href=\"psysml:fef66b5f-1b9d-421e-94fe-86858427a029\" xlink:show=\"new\" xlink:title=\"psysml:fef66b5f-1b9d-421e-94fe-86858427a029\" xlink:type=\"simple\"><rect fill=\"#FFFFFF\" height=\"45.9375\" id=\"E2\" rx=\"10\" ry=\"10\" style=\"stroke: #383838; stroke-width: 1.5;\" width=\"42\" x=\"32\" y=\"197\"/><text fill=\"#000000\" font-family=\"sans-serif\" font-size=\"12\" font-style=\"italic\" lengthAdjust=\"spacingAndGlyphs\" textLength=\"40\" x=\"33\" y=\"213.1387\">«part»</text><text fill=\"#000000\" font-family=\"sans-serif\" font-size=\"12\" lengthAdjust=\"spacingAndGlyphs\" textLength=\"20\" x=\"43\" y=\"227.1074\">f: A</text><line style=\"stroke: #383838; stroke-width: 1.5;\" x1=\"33\" x2=\"73\" y1=\"234.9375\" y2=\"234.9375\"/></a><!--MD5=[09b614a08d8cba4a07c9adeb5e0fee81]\n",
       "class E3--><a href=\"psysml:a2cad1be-c52d-4964-a87e-891cd7289f52\" target=\"_top\" title=\"psysml:a2cad1be-c52d-4964-a87e-891cd7289f52\" xlink:actuate=\"onRequest\" xlink:href=\"psysml:a2cad1be-c52d-4964-a87e-891cd7289f52\" xlink:show=\"new\" xlink:title=\"psysml:a2cad1be-c52d-4964-a87e-891cd7289f52\" xlink:type=\"simple\"><rect fill=\"#FFFFFF\" height=\"88.3516\" id=\"E3\" style=\"stroke: #383838; stroke-width: 1.5;\" width=\"66\" x=\"135\" y=\"176\"/><text fill=\"#000000\" font-family=\"sans-serif\" font-size=\"12\" font-style=\"italic\" lengthAdjust=\"spacingAndGlyphs\" textLength=\"64\" x=\"136\" y=\"192.1387\">«part def»</text><text fill=\"#000000\" font-family=\"sans-serif\" font-size=\"12\" lengthAdjust=\"spacingAndGlyphs\" textLength=\"8\" x=\"164\" y=\"206.1074\">A</text><line style=\"stroke: #383838; stroke-width: 1.5;\" x1=\"136\" x2=\"200\" y1=\"213.9375\" y2=\"213.9375\"/><text fill=\"#000000\" font-family=\"sans-serif\" font-size=\"11\" lengthAdjust=\"spacingAndGlyphs\" textLength=\"6\" x=\"141\" y=\"244.9526\">x</text><text fill=\"#000000\" font-family=\"sans-serif\" font-size=\"11\" lengthAdjust=\"spacingAndGlyphs\" textLength=\"6\" x=\"141\" y=\"257.7573\">y</text><line style=\"stroke: #383838; stroke-width: 1.0;\" x1=\"136\" x2=\"140.5\" y1=\"228.3398\" y2=\"228.3398\"/><text fill=\"#000000\" font-family=\"sans-serif\" font-size=\"11\" lengthAdjust=\"spacingAndGlyphs\" textLength=\"55\" x=\"140.5\" y=\"231.6479\">attributes</text><line style=\"stroke: #383838; stroke-width: 1.0;\" x1=\"195.5\" x2=\"200\" y1=\"228.3398\" y2=\"228.3398\"/></a><!--MD5=[ebbe1d658d1005bcc118a6aa81145e00]\n",
       "class E4--><a href=\"psysml:9dcf2186-613a-4b96-912f-a1b95f354387\" target=\"_top\" title=\"psysml:9dcf2186-613a-4b96-912f-a1b95f354387\" xlink:actuate=\"onRequest\" xlink:href=\"psysml:9dcf2186-613a-4b96-912f-a1b95f354387\" xlink:show=\"new\" xlink:title=\"psysml:9dcf2186-613a-4b96-912f-a1b95f354387\" xlink:type=\"simple\"><rect fill=\"#FFFFFF\" height=\"45.9375\" id=\"E4\" rx=\"10\" ry=\"10\" style=\"stroke: #383838; stroke-width: 1.5;\" width=\"42\" x=\"334\" y=\"62\"/><text fill=\"#000000\" font-family=\"sans-serif\" font-size=\"12\" font-style=\"italic\" lengthAdjust=\"spacingAndGlyphs\" textLength=\"40\" x=\"335\" y=\"78.1387\">«part»</text><text fill=\"#000000\" font-family=\"sans-serif\" font-size=\"12\" lengthAdjust=\"spacingAndGlyphs\" textLength=\"24\" x=\"343\" y=\"92.1074\">b: B</text><line style=\"stroke: #383838; stroke-width: 1.5;\" x1=\"335\" x2=\"375\" y1=\"99.9375\" y2=\"99.9375\"/></a><!--MD5=[270fce915f116d4de14055a7c1d9a0f3]\n",
       "class E5--><a href=\"psysml:a3147892-19dd-4d4c-8f64-71e53da800dc\" target=\"_top\" title=\"psysml:a3147892-19dd-4d4c-8f64-71e53da800dc\" xlink:actuate=\"onRequest\" xlink:href=\"psysml:a3147892-19dd-4d4c-8f64-71e53da800dc\" xlink:show=\"new\" xlink:title=\"psysml:a3147892-19dd-4d4c-8f64-71e53da800dc\" xlink:type=\"simple\"><rect fill=\"#FFFFFF\" height=\"45.9375\" id=\"E5\" rx=\"10\" ry=\"10\" style=\"stroke: #383838; stroke-width: 1.5;\" width=\"42\" x=\"262\" y=\"78\"/><text fill=\"#000000\" font-family=\"sans-serif\" font-size=\"12\" font-style=\"italic\" lengthAdjust=\"spacingAndGlyphs\" textLength=\"40\" x=\"263\" y=\"94.1387\">«port»</text><text fill=\"#000000\" font-family=\"sans-serif\" font-size=\"12\" lengthAdjust=\"spacingAndGlyphs\" textLength=\"23\" x=\"271.5\" y=\"108.1074\">c: C</text><line style=\"stroke: #383838; stroke-width: 1.5;\" x1=\"263\" x2=\"303\" y1=\"115.9375\" y2=\"115.9375\"/></a><!--MD5=[60a26617385b1d2d0262a64233df1f8d]\n",
       "class E6--><a href=\"psysml:bbb3af71-bfb9-47e2-863f-33482c8ff081\" target=\"_top\" title=\"psysml:bbb3af71-bfb9-47e2-863f-33482c8ff081\" xlink:actuate=\"onRequest\" xlink:href=\"psysml:bbb3af71-bfb9-47e2-863f-33482c8ff081\" xlink:show=\"new\" xlink:title=\"psysml:bbb3af71-bfb9-47e2-863f-33482c8ff081\" xlink:type=\"simple\"><rect fill=\"#FFFFFF\" height=\"45.9375\" id=\"E6\" style=\"stroke: #383838; stroke-width: 1.5;\" width=\"66\" x=\"541\" y=\"223\"/><text fill=\"#000000\" font-family=\"sans-serif\" font-size=\"12\" font-style=\"italic\" lengthAdjust=\"spacingAndGlyphs\" textLength=\"64\" x=\"542\" y=\"239.1387\">«part def»</text><text fill=\"#000000\" font-family=\"sans-serif\" font-size=\"12\" lengthAdjust=\"spacingAndGlyphs\" textLength=\"8\" x=\"570\" y=\"253.1074\">B</text><line style=\"stroke: #383838; stroke-width: 1.5;\" x1=\"542\" x2=\"606\" y1=\"260.9375\" y2=\"260.9375\"/></a><!--MD5=[2156ba9850f5573cc1fc38a6a4b2f02b]\n",
       "class E7--><a href=\"psysml:c128dc79-fecf-4cdb-b1ba-5850a9b121ec\" target=\"_top\" title=\"psysml:c128dc79-fecf-4cdb-b1ba-5850a9b121ec\" xlink:actuate=\"onRequest\" xlink:href=\"psysml:c128dc79-fecf-4cdb-b1ba-5850a9b121ec\" xlink:show=\"new\" xlink:title=\"psysml:c128dc79-fecf-4cdb-b1ba-5850a9b121ec\" xlink:type=\"simple\"><rect fill=\"#FFFFFF\" height=\"45.9375\" id=\"E7\" rx=\"10\" ry=\"10\" style=\"stroke: #383838; stroke-width: 1.5;\" width=\"42\" x=\"668\" y=\"354\"/><text fill=\"#000000\" font-family=\"sans-serif\" font-size=\"12\" font-style=\"italic\" lengthAdjust=\"spacingAndGlyphs\" textLength=\"40\" x=\"669\" y=\"370.1387\">«part»</text><text fill=\"#000000\" font-family=\"sans-serif\" font-size=\"12\" lengthAdjust=\"spacingAndGlyphs\" textLength=\"24\" x=\"677\" y=\"384.1074\">a: A</text><line style=\"stroke: #383838; stroke-width: 1.5;\" x1=\"669\" x2=\"709\" y1=\"391.9375\" y2=\"391.9375\"/></a><!--MD5=[b9389687b975829384b498ac4b7476b2]\n",
       "class E8--><a href=\"psysml:540f6402-e62e-4ea3-b051-5d5cf5bfcb38\" target=\"_top\" title=\"psysml:540f6402-e62e-4ea3-b051-5d5cf5bfcb38\" xlink:actuate=\"onRequest\" xlink:href=\"psysml:540f6402-e62e-4ea3-b051-5d5cf5bfcb38\" xlink:show=\"new\" xlink:title=\"psysml:540f6402-e62e-4ea3-b051-5d5cf5bfcb38\" xlink:type=\"simple\"><rect fill=\"#FFFFFF\" height=\"45.9375\" id=\"E8\" rx=\"10\" ry=\"10\" style=\"stroke: #383838; stroke-width: 1.5;\" width=\"42\" x=\"668\" y=\"173\"/><text fill=\"#000000\" font-family=\"sans-serif\" font-size=\"12\" font-style=\"italic\" lengthAdjust=\"spacingAndGlyphs\" textLength=\"40\" x=\"669\" y=\"189.1387\">«port»</text><text fill=\"#000000\" font-family=\"sans-serif\" font-size=\"12\" lengthAdjust=\"spacingAndGlyphs\" textLength=\"32\" x=\"673\" y=\"203.1074\">x: ~C</text><line style=\"stroke: #383838; stroke-width: 1.5;\" x1=\"669\" x2=\"709\" y1=\"210.9375\" y2=\"210.9375\"/></a><!--MD5=[96f4274e9e20536e775497830990834d]\n",
       "class E10--><a href=\"psysml:a92372c2-fe41-425f-b40c-da5b8c1ca15d\" target=\"_top\" title=\"psysml:a92372c2-fe41-425f-b40c-da5b8c1ca15d\" xlink:actuate=\"onRequest\" xlink:href=\"psysml:a92372c2-fe41-425f-b40c-da5b8c1ca15d\" xlink:show=\"new\" xlink:title=\"psysml:a92372c2-fe41-425f-b40c-da5b8c1ca15d\" xlink:type=\"simple\"><rect fill=\"#FFFFFF\" height=\"45.9375\" id=\"E10\" style=\"stroke: #383838; stroke-width: 1.5;\" width=\"66\" x=\"406\" y=\"223\"/><text fill=\"#000000\" font-family=\"sans-serif\" font-size=\"12\" font-style=\"italic\" lengthAdjust=\"spacingAndGlyphs\" textLength=\"64\" x=\"407\" y=\"239.1387\">«port def»</text><text fill=\"#000000\" font-family=\"sans-serif\" font-size=\"12\" lengthAdjust=\"spacingAndGlyphs\" textLength=\"8\" x=\"435\" y=\"253.1074\">C</text><line style=\"stroke: #383838; stroke-width: 1.5;\" x1=\"407\" x2=\"471\" y1=\"260.9375\" y2=\"260.9375\"/></a><a href=\"psysml:f4e4ee2b-1abf-4dbd-8483-2b091bdfceaf\" target=\"_top\" title=\"psysml:f4e4ee2b-1abf-4dbd-8483-2b091bdfceaf\" xlink:actuate=\"onRequest\" xlink:href=\"psysml:f4e4ee2b-1abf-4dbd-8483-2b091bdfceaf\" xlink:show=\"new\" xlink:title=\"psysml:f4e4ee2b-1abf-4dbd-8483-2b091bdfceaf\" xlink:type=\"simple\"><polygon fill=\"#FFFFFF\" points=\"674.5,254.5,689.5,254.5,696.5,276.7969,703.5,276.7969,703.5,307.0938,674.5,307.0938,674.5,254.5\" style=\"stroke: #000000; stroke-width: 1.5;\"/><line style=\"stroke: #000000; stroke-width: 1.5;\" x1=\"674.5\" x2=\"696.5\" y1=\"276.7969\" y2=\"276.7969\"/><text fill=\"#000000\" font-family=\"sans-serif\" font-size=\"14\" font-weight=\"bold\" lengthAdjust=\"spacingAndGlyphs\" textLength=\"9\" x=\"678.5\" y=\"269.4951\">P</text></a><!--MD5=[2720a5a1f2c3fca2055b230370638851]\n",
       "link E2 to E3--><a href=\"psysml:488f6ee0-39a9-4dc0-b555-612cc99c37a1\" target=\"_top\" title=\"psysml:488f6ee0-39a9-4dc0-b555-612cc99c37a1\" xlink:actuate=\"onRequest\" xlink:href=\"psysml:488f6ee0-39a9-4dc0-b555-612cc99c37a1\" xlink:show=\"new\" xlink:title=\"psysml:488f6ee0-39a9-4dc0-b555-612cc99c37a1\" xlink:type=\"simple\"><path d=\"M74.2,220 C85.46,220 100.06,220 114.33,220 \" fill=\"none\" id=\"E2-&gt;E3\" style=\"stroke: #383838; stroke-width: 1.0;\"/><polygon fill=\"#FFFFFF\" points=\"134.57,220,115.57,227,115.57,213,134.57,220\" style=\"stroke: #383838; stroke-width: 1.0;\"/><ellipse cx=\"109.87\" cy=\"225\" fill=\"#383838\" rx=\"2\" ry=\"2\" style=\"stroke: #383838; stroke-width: 1.0;\"/><ellipse cx=\"109.87\" cy=\"215\" fill=\"#383838\" rx=\"2\" ry=\"2\" style=\"stroke: #383838; stroke-width: 1.0;\"/></a><!--MD5=[4672eba38e49728da53d11aeb285b987]\n",
       "reverse link E3 to E4--><a href=\"psysml:98712745-a638-4d1f-8ffc-380c342569c9\" target=\"_top\" title=\"psysml:98712745-a638-4d1f-8ffc-380c342569c9\" xlink:actuate=\"onRequest\" xlink:href=\"psysml:98712745-a638-4d1f-8ffc-380c342569c9\" xlink:show=\"new\" xlink:title=\"psysml:98712745-a638-4d1f-8ffc-380c342569c9\" xlink:type=\"simple\"><path d=\"M185.64,163.26 C199.63,126.72 223.64,82.07 262,60 C284.67,46.96 314.4,59.54 333.84,71.08 \" fill=\"none\" id=\"E3&lt;-E4\" style=\"stroke: #383838; stroke-width: 1.0;\"/><polygon fill=\"#383838\" points=\"181.1,175.79,186.904,171.5106,185.1861,164.5071,179.3821,168.7865,181.1,175.79\" style=\"stroke: #383838; stroke-width: 1.0;\"/><text fill=\"#000000\" font-family=\"sans-serif\" font-size=\"13\" lengthAdjust=\"spacingAndGlyphs\" textLength=\"8\" x=\"318.1347\" y=\"81.2107\">1</text></a><!--MD5=[191cde3d490a3f6d7bb551fe3ddca469]\n",
       "reverse link E3 to E5--><a href=\"psysml:3d3c789c-d512-4565-8d7c-059f8d1010f8\" target=\"_top\" title=\"psysml:3d3c789c-d512-4565-8d7c-059f8d1010f8\" xlink:actuate=\"onRequest\" xlink:href=\"psysml:3d3c789c-d512-4565-8d7c-059f8d1010f8\" xlink:show=\"new\" xlink:title=\"psysml:3d3c789c-d512-4565-8d7c-059f8d1010f8\" xlink:type=\"simple\"><path d=\"M210.08,176.74 C227.74,158.14 247.57,137.25 261.94,122.13 \" fill=\"none\" id=\"E3&lt;-E5\" style=\"stroke: #383838; stroke-width: 1.0;\"/><polygon fill=\"#FFFFFF\" points=\"201.08,186.22,208.1112,184.6194,209.3381,177.5134,202.3068,179.114,201.08,186.22\" style=\"stroke: #383838; stroke-width: 1.0;\"/><text fill=\"#000000\" font-family=\"sans-serif\" font-size=\"13\" lengthAdjust=\"spacingAndGlyphs\" textLength=\"8\" x=\"245.9521\" y=\"143.3538\">1</text></a><!--MD5=[79568f1e445c3877b6a54524624ccc7d]\n",
       "link E4 to E6--><a href=\"psysml:1225703b-924d-44f0-aa92-4bca49ced0c9\" target=\"_top\" title=\"psysml:1225703b-924d-44f0-aa92-4bca49ced0c9\" xlink:actuate=\"onRequest\" xlink:href=\"psysml:1225703b-924d-44f0-aa92-4bca49ced0c9\" xlink:show=\"new\" xlink:title=\"psysml:1225703b-924d-44f0-aa92-4bca49ced0c9\" xlink:type=\"simple\"><path d=\"M376.03,99.86 C409.85,124.96 479.18,176.39 525.89,211.05 \" fill=\"none\" id=\"E4-&gt;E6\" style=\"stroke: #383838; stroke-width: 1.0;\"/><polygon fill=\"#FFFFFF\" points=\"541.97,222.98,522.5437,217.2687,530.8924,206.0305,541.97,222.98\" style=\"stroke: #383838; stroke-width: 1.0;\"/><ellipse cx=\"519.1608\" cy=\"212.2641\" fill=\"#383838\" rx=\"2\" ry=\"2\" style=\"stroke: #383838; stroke-width: 1.0;\"/><ellipse cx=\"525.1242\" cy=\"204.2368\" fill=\"#383838\" rx=\"2\" ry=\"2\" style=\"stroke: #383838; stroke-width: 1.0;\"/></a><!--MD5=[3f50a3473f1dfb74d3f76443e03635af]\n",
       "reverse link E6 to E7--><a href=\"psysml:a81e6d2d-a633-4d51-820c-a47602c519dd\" target=\"_top\" title=\"psysml:a81e6d2d-a633-4d51-820c-a47602c519dd\" xlink:actuate=\"onRequest\" xlink:href=\"psysml:a81e6d2d-a633-4d51-820c-a47602c519dd\" xlink:show=\"new\" xlink:title=\"psysml:a81e6d2d-a633-4d51-820c-a47602c519dd\" xlink:type=\"simple\"><path d=\"M603.67,279.23 C623.72,302.48 650.02,332.97 667.88,353.67 \" fill=\"none\" id=\"E6&lt;-E7\" style=\"stroke: #383838; stroke-width: 1.0;\"/><polygon fill=\"#383838\" points=\"594.94,269.12,595.8282,276.2762,602.7755,278.2087,601.8873,271.0525,594.94,269.12\" style=\"stroke: #383838; stroke-width: 1.0;\"/><text fill=\"#000000\" font-family=\"sans-serif\" font-size=\"13\" lengthAdjust=\"spacingAndGlyphs\" textLength=\"8\" x=\"651.873\" y=\"360.7222\">1</text></a><!--MD5=[14ccda38c055a5c0da953d572bc50960]\n",
       "link E7 to E3--><a href=\"psysml:4883cacd-6695-4e4a-8cc2-3609b81ec9a9\" target=\"_top\" title=\"psysml:4883cacd-6695-4e4a-8cc2-3609b81ec9a9\" xlink:actuate=\"onRequest\" xlink:href=\"psysml:4883cacd-6695-4e4a-8cc2-3609b81ec9a9\" xlink:show=\"new\" xlink:title=\"psysml:4883cacd-6695-4e4a-8cc2-3609b81ec9a9\" xlink:type=\"simple\"><path d=\"M667.68,390.2 C645.74,403.16 609.32,421 575,421 C282,421 282,421 282,421 C218.08,421 189.94,342.8 177.81,283.96 \" fill=\"none\" id=\"E7-&gt;E3\" style=\"stroke: #383838; stroke-width: 1.0;\"/><polygon fill=\"#FFFFFF\" points=\"174.15,264.11,184.4804,281.525,170.7127,284.0646,174.15,264.11\" style=\"stroke: #383838; stroke-width: 1.0;\"/><ellipse cx=\"183.5476\" cy=\"287.4932\" fill=\"#383838\" rx=\"2\" ry=\"2\" style=\"stroke: #383838; stroke-width: 1.0;\"/><ellipse cx=\"173.7135\" cy=\"289.3072\" fill=\"#383838\" rx=\"2\" ry=\"2\" style=\"stroke: #383838; stroke-width: 1.0;\"/></a><!--MD5=[f4cf0736d43fd73c4ef68817c49d37d5]\n",
       "reverse link E6 to E8--><a href=\"psysml:2d844c43-a52c-43bf-b052-a300acb2bf74\" target=\"_top\" title=\"psysml:2d844c43-a52c-43bf-b052-a300acb2bf74\" xlink:actuate=\"onRequest\" xlink:href=\"psysml:2d844c43-a52c-43bf-b052-a300acb2bf74\" xlink:show=\"new\" xlink:title=\"psysml:2d844c43-a52c-43bf-b052-a300acb2bf74\" xlink:type=\"simple\"><path d=\"M619.01,226.53 C635.9,219.05 654.37,210.88 667.94,204.88 \" fill=\"none\" id=\"E6&lt;-E8\" style=\"stroke: #383838; stroke-width: 1.0;\"/><polygon fill=\"#FFFFFF\" points=\"607.08,231.81,614.1847,233.0443,618.0566,226.9608,610.9519,225.7265,607.08,231.81\" style=\"stroke: #383838; stroke-width: 1.0;\"/><text fill=\"#000000\" font-family=\"sans-serif\" font-size=\"13\" lengthAdjust=\"spacingAndGlyphs\" textLength=\"8\" x=\"651.9521\" y=\"222.1991\">1</text></a><!--MD5=[e88d06e5a652d73a6b19930eefe025a8]\n",
       "reverse link E6 to E9--><a href=\"psysml:5153bd7e-9106-496d-98a6-0d3fae0d20a5\" target=\"_top\" title=\"psysml:5153bd7e-9106-496d-98a6-0d3fae0d20a5\" xlink:actuate=\"onRequest\" xlink:href=\"psysml:5153bd7e-9106-496d-98a6-0d3fae0d20a5\" xlink:show=\"new\" xlink:title=\"psysml:5153bd7e-9106-496d-98a6-0d3fae0d20a5\" xlink:type=\"simple\"><path d=\"M621.5,260.4 C640.52,266.29 661.1,272.67 674.25,276.74 \" fill=\"none\" id=\"E6&lt;-E9\" style=\"stroke: #383838; stroke-width: 1.0;\"/><ellipse cx=\"614.7211\" cy=\"258.3093\" fill=\"#FFFFFF\" rx=\"8\" ry=\"8\" style=\"stroke: #383838; stroke-width: 1.0;\"/><line style=\"stroke: #383838; stroke-width: 1.0;\" x1=\"622.3622\" x2=\"607.08\" y1=\"260.6786\" y2=\"255.94\"/><line style=\"stroke: #383838; stroke-width: 1.0;\" x1=\"612.3518\" x2=\"617.0904\" y1=\"265.9504\" y2=\"250.6682\"/></a><!--MD5=[f78a29d5932556fa1060671a2a6507d8]\n",
       "link E5 to E10--><a href=\"psysml:63374559-c2a0-4cf8-92a3-b39a3ed3eac1\" target=\"_top\" title=\"psysml:63374559-c2a0-4cf8-92a3-b39a3ed3eac1\" xlink:actuate=\"onRequest\" xlink:href=\"psysml:63374559-c2a0-4cf8-92a3-b39a3ed3eac1\" xlink:show=\"new\" xlink:title=\"psysml:63374559-c2a0-4cf8-92a3-b39a3ed3eac1\" xlink:type=\"simple\"><path d=\"M304.26,113.17 C323.78,125.41 353.57,145.52 376,167 C388.34,178.82 400.33,193.18 410.41,206.39 \" fill=\"none\" id=\"E5-&gt;E10\" style=\"stroke: #383838; stroke-width: 1.0;\"/><polygon fill=\"#FFFFFF\" points=\"422.45,222.79,405.5641,211.6156,416.85,203.3313,422.45,222.79\" style=\"stroke: #383838; stroke-width: 1.0;\"/><ellipse cx=\"403.8035\" cy=\"205.8372\" fill=\"#383838\" rx=\"2\" ry=\"2\" style=\"stroke: #383838; stroke-width: 1.0;\"/><ellipse cx=\"411.8648\" cy=\"199.9199\" fill=\"#383838\" rx=\"2\" ry=\"2\" style=\"stroke: #383838; stroke-width: 1.0;\"/></a><!--MD5=[8e04057e7b3cbc0dca4fc78ea351e2da]\n",
       "reverse link E10 to E3--><a href=\"psysml:e24d69b8-a494-4022-9892-35ed42c85155\" target=\"_top\" title=\"psysml:e24d69b8-a494-4022-9892-35ed42c85155\" xlink:actuate=\"onRequest\" xlink:href=\"psysml:e24d69b8-a494-4022-9892-35ed42c85155\" xlink:show=\"new\" xlink:title=\"psysml:e24d69b8-a494-4022-9892-35ed42c85155\" xlink:type=\"simple\"><path d=\"M405.11,277.64 C369.71,307.65 311.79,345.13 262,323 C234.7,310.87 212.03,286.32 195.9,264.24 \" fill=\"none\" id=\"E10&lt;-E3\" style=\"stroke: #383838; stroke-width: 1.0;\"/><polygon fill=\"#FFFFFF\" points=\"414.9,269.03,407.7525,269.9855,405.8854,276.9507,413.0329,275.9952,414.9,269.03\" style=\"stroke: #383838; stroke-width: 1.0;\"/><text fill=\"#000000\" font-family=\"sans-serif\" font-size=\"13\" lengthAdjust=\"spacingAndGlyphs\" textLength=\"7\" x=\"279.5\" y=\"319.0669\">y</text></a><!--MD5=[8e04057e7b3cbc0dca4fc78ea351e2da]\n",
       "reverse link E10 to E3--><a href=\"psysml:e24d69b8-a494-4022-9892-35ed42c85155\" target=\"_top\" title=\"psysml:e24d69b8-a494-4022-9892-35ed42c85155\" xlink:actuate=\"onRequest\" xlink:href=\"psysml:e24d69b8-a494-4022-9892-35ed42c85155\" xlink:show=\"new\" xlink:title=\"psysml:e24d69b8-a494-4022-9892-35ed42c85155\" xlink:type=\"simple\"><path d=\"M392.46,244.83 C356.85,243.58 306.16,241.04 262,236 C241.65,233.68 219,229.81 201.15,226.46 \" fill=\"none\" id=\"E10&lt;-E3-1\" style=\"stroke: #383838; stroke-width: 1.0;\"/><polygon fill=\"#FFFFFF\" points=\"405.79,245.27,399.9252,241.0743,393.7965,244.8742,399.6613,249.0699,405.79,245.27\" style=\"stroke: #383838; stroke-width: 1.0;\"/><text fill=\"#000000\" font-family=\"sans-serif\" font-size=\"13\" lengthAdjust=\"spacingAndGlyphs\" textLength=\"7\" x=\"279.5\" y=\"232.0669\">y</text></a><!--MD5=[8e04057e7b3cbc0dca4fc78ea351e2da]\n",
       "reverse link E10 to E3--><a href=\"psysml:e24d69b8-a494-4022-9892-35ed42c85155\" target=\"_top\" title=\"psysml:e24d69b8-a494-4022-9892-35ed42c85155\" xlink:actuate=\"onRequest\" xlink:href=\"psysml:e24d69b8-a494-4022-9892-35ed42c85155\" xlink:show=\"new\" xlink:title=\"psysml:e24d69b8-a494-4022-9892-35ed42c85155\" xlink:type=\"simple\"><path d=\"M393.1,232.92 C367.28,226.08 334.1,218.44 304,215 C285.45,212.88 280.66,214.5 262,215 C241.8,215.54 219.15,216.75 201.26,217.84 \" fill=\"none\" id=\"E10&lt;-E3-2\" style=\"stroke: #383838; stroke-width: 1.0;\"/><polygon fill=\"#FFFFFF\" points=\"405.87,236.4,401.1313,230.9645,394.2913,233.2482,399.03,238.6836,405.87,236.4\" style=\"stroke: #383838; stroke-width: 1.0;\"/><text fill=\"#000000\" font-family=\"sans-serif\" font-size=\"13\" lengthAdjust=\"spacingAndGlyphs\" textLength=\"7\" x=\"279.5\" y=\"210.0669\">y</text></a><!--MD5=[604cbf994c02b74b117f728a71673cea]\n",
       "reverse link E10 to E6--><a href=\"psysml:e24d69b8-a494-4022-9892-35ed42c85155\" target=\"_top\" title=\"psysml:e24d69b8-a494-4022-9892-35ed42c85155\" xlink:actuate=\"onRequest\" xlink:href=\"psysml:e24d69b8-a494-4022-9892-35ed42c85155\" xlink:show=\"new\" xlink:title=\"psysml:e24d69b8-a494-4022-9892-35ed42c85155\" xlink:type=\"simple\"><path d=\"M485.03,231.33 C490.69,229.96 496.44,228.79 502,228 C514.84,226.17 528.72,228.66 540.77,232.31 \" fill=\"none\" id=\"E10&lt;-E6\" style=\"stroke: #383838; stroke-width: 1.0;\"/><polygon fill=\"#FFFFFF\" points=\"472.12,234.81,478.9544,237.1101,483.7062,231.6861,476.8718,229.386,472.12,234.81\" style=\"stroke: #383838; stroke-width: 1.0;\"/><text fill=\"#000000\" font-family=\"sans-serif\" font-size=\"13\" lengthAdjust=\"spacingAndGlyphs\" textLength=\"7\" x=\"503\" y=\"224.0669\">y</text></a><!--MD5=[604cbf994c02b74b117f728a71673cea]\n",
       "reverse link E10 to E6--><a href=\"psysml:e24d69b8-a494-4022-9892-35ed42c85155\" target=\"_top\" title=\"psysml:e24d69b8-a494-4022-9892-35ed42c85155\" xlink:actuate=\"onRequest\" xlink:href=\"psysml:e24d69b8-a494-4022-9892-35ed42c85155\" xlink:show=\"new\" xlink:title=\"psysml:e24d69b8-a494-4022-9892-35ed42c85155\" xlink:type=\"simple\"><path d=\"M464.99,278.85 C475.16,289.62 487.86,300.28 502,306 C525.94,315.69 547.69,289.83 560.63,269.07 \" fill=\"none\" id=\"E10&lt;-E6-1\" style=\"stroke: #383838; stroke-width: 1.0;\"/><polygon fill=\"#FFFFFF\" points=\"456.39,269.07,457.3507,276.2168,464.3172,278.0788,463.3566,270.932,456.39,269.07\" style=\"stroke: #383838; stroke-width: 1.0;\"/><text fill=\"#000000\" font-family=\"sans-serif\" font-size=\"13\" lengthAdjust=\"spacingAndGlyphs\" textLength=\"7\" x=\"503\" y=\"302.0669\">y</text></a><!--MD5=[604cbf994c02b74b117f728a71673cea]\n",
       "reverse link E10 to E6--><a href=\"psysml:e24d69b8-a494-4022-9892-35ed42c85155\" target=\"_top\" title=\"psysml:e24d69b8-a494-4022-9892-35ed42c85155\" xlink:actuate=\"onRequest\" xlink:href=\"psysml:e24d69b8-a494-4022-9892-35ed42c85155\" xlink:show=\"new\" xlink:title=\"psysml:e24d69b8-a494-4022-9892-35ed42c85155\" xlink:type=\"simple\"><path d=\"M485.11,251.69 C490.79,252.23 496.52,252.69 502,253 C514.74,253.72 528.72,252.72 540.88,251.28 \" fill=\"none\" id=\"E10&lt;-E6-2\" style=\"stroke: #383838; stroke-width: 1.0;\"/><polygon fill=\"#FFFFFF\" points=\"472.12,250.32,477.6646,254.9306,484.0531,251.5858,478.5085,246.9752,472.12,250.32\" style=\"stroke: #383838; stroke-width: 1.0;\"/><text fill=\"#000000\" font-family=\"sans-serif\" font-size=\"13\" lengthAdjust=\"spacingAndGlyphs\" textLength=\"7\" x=\"503\" y=\"249.0669\">y</text></a><!--MD5=[b8e5f3f67b3af0115812a61ebb0eefff]\n",
       "@startuml\r\n",
       "left to right direction\r\n",
       "skinparam monochrome true\r\n",
       "skinparam classbackgroundcolor white\r\n",
       "skinparam shadowing false\r\n",
       "skinparam wrapWidth 300\r\n",
       "hide circle\r\n",
       "\r\n",
       "package \"PartTest\" as E1  [[psysml:a6b62677-d27b-4bf3-83e0-375e3ba01a4b ]]  {\r\n",
       "comp usage \"f: A\" as E2  <<(T,blue) part>> [[psysml:fef66b5f-1b9d-421e-94fe-86858427a029 ]] {\r\n",
       "}\r\n",
       "comp def \"A\" as E3  <<(T,blue) part def>> [[psysml:a2cad1be-c52d-4964-a87e-891cd7289f52 ]] {\r\n",
       "- - attributes - -\r\n",
       "x\r\n",
       "y\r\n",
       "}\r\n",
       "comp usage \"b: B\" as E4  <<(T,blue) part>> [[psysml:9dcf2186-613a-4b96-912f-a1b95f354387 ]] {\r\n",
       "}\r\n",
       "comp usage \"c: C\" as E5  <<(T,blue) port>> [[psysml:a3147892-19dd-4d4c-8f64-71e53da800dc ]] {\r\n",
       "}\r\n",
       "comp def \"B\" as E6  <<(T,blue) part def>> [[psysml:bbb3af71-bfb9-47e2-863f-33482c8ff081 ]] {\r\n",
       "}\r\n",
       "comp usage \"a: A\" as E7  <<(T,blue) part>> [[psysml:c128dc79-fecf-4cdb-b1ba-5850a9b121ec ]] {\r\n",
       "}\r\n",
       "comp usage \"x: ~C\" as E8  <<(T,blue) port>> [[psysml:540f6402-e62e-4ea3-b051-5d5cf5bfcb38 ]] {\r\n",
       "}\r\n",
       "package \"P\" as E9  [[psysml:f4e4ee2b-1abf-4dbd-8483-2b091bdfceaf ]]  {\r\n",
       "}\r\n",
       "comp def \"C\" as E10  <<(T,blue) port def>> [[psysml:a92372c2-fe41-425f-b40c-da5b8c1ca15d ]] {\r\n",
       "}\r\n",
       "}\r\n",
       "E2 - -:|> E3 [[psysml:488f6ee0-39a9-4dc0-b555-612cc99c37a1 ]] \r\n",
       "E3 *- - \"1\"E4 [[psysml:98712745-a638-4d1f-8ffc-380c342569c9 ]] \r\n",
       "E3 o- - \"1\"E5 [[psysml:3d3c789c-d512-4565-8d7c-059f8d1010f8 ]] \r\n",
       "E4 - -:|> E6 [[psysml:1225703b-924d-44f0-aa92-4bca49ced0c9 ]] \r\n",
       "E6 *- - \"1\"E7 [[psysml:a81e6d2d-a633-4d51-820c-a47602c519dd ]] \r\n",
       "E7 - -:|> E3 [[psysml:4883cacd-6695-4e4a-8cc2-3609b81ec9a9 ]] \r\n",
       "E6 o- - \"1\"E8 [[psysml:2d844c43-a52c-43bf-b052-a300acb2bf74 ]] \r\n",
       "E6 +- - E9 [[psysml:5153bd7e-9106-496d-98a6-0d3fae0d20a5 ]] \r\n",
       "E5 - -:|> E10 [[psysml:63374559-c2a0-4cf8-92a3-b39a3ed3eac1 ]] \r\n",
       "E10 o- - E3 [[psysml:e24d69b8-a494-4022-9892-35ed42c85155 ]] : y\r\n",
       "E10 o- - E6 [[psysml:e24d69b8-a494-4022-9892-35ed42c85155 ]] : y\r\n",
       "E10 o- - E3 [[psysml:e24d69b8-a494-4022-9892-35ed42c85155 ]] : y\r\n",
       "E10 o- - E6 [[psysml:e24d69b8-a494-4022-9892-35ed42c85155 ]] : y\r\n",
       "E10 o- - E3 [[psysml:e24d69b8-a494-4022-9892-35ed42c85155 ]] : y\r\n",
       "E10 o- - E6 [[psysml:e24d69b8-a494-4022-9892-35ed42c85155 ]] : y\r\n",
       "@enduml\r\n",
       "\n",
       "PlantUML version 1.2020.13(Sat Jun 13 12:26:38 UTC 2020)\n",
       "(EPL source distribution)\n",
       "Java Runtime: OpenJDK Runtime Environment\n",
       "JVM: OpenJDK 64-Bit Server VM\n",
       "Default Encoding: UTF-8\n",
       "Language: en\n",
       "Country: null\n",
       "--></g></svg>"
      ]
     },
     "execution_count": 22,
     "metadata": {},
     "output_type": "execute_result"
    }
   ],
   "source": [
    "%viz --style=\"LR\" --view=\"MIXED\" \"PartTest\""
   ]
  },
  {
   "cell_type": "code",
   "execution_count": 23,
   "id": "ca6f1329",
   "metadata": {
    "execution": {
     "iopub.execute_input": "2021-10-03T08:29:53.602525Z",
     "iopub.status.busy": "2021-10-03T08:29:53.602115Z",
     "iopub.status.idle": "2021-10-03T08:29:53.664610Z",
     "shell.execute_reply": "2021-10-03T08:29:53.664074Z"
    }
   },
   "outputs": [
    {
     "data": {
      "image/svg+xml": [
       "<?xml version=\"1.0\" encoding=\"UTF-8\" standalone=\"no\"?><svg xmlns=\"http://www.w3.org/2000/svg\" xmlns:xlink=\"http://www.w3.org/1999/xlink\" contentScriptType=\"application/ecmascript\" contentStyleType=\"text/css\" height=\"744px\" preserveAspectRatio=\"none\" style=\"width:423px;height:744px;\" version=\"1.1\" viewBox=\"0 0 423 744\" width=\"423px\" zoomAndPan=\"magnify\"><defs><filter height=\"300%\" id=\"fsdrqaxbpi5om\" width=\"300%\" x=\"-1\" y=\"-1\"><feGaussianBlur result=\"blurOut\" stdDeviation=\"2.0\"/><feColorMatrix in=\"blurOut\" result=\"blurOut2\" type=\"matrix\" values=\"0 0 0 0 0 0 0 0 0 0 0 0 0 0 0 0 0 0 .4 0\"/><feOffset dx=\"4.0\" dy=\"4.0\" in=\"blurOut2\" result=\"blurOut3\"/><feBlend in=\"SourceGraphic\" in2=\"blurOut3\" mode=\"normal\"/></filter></defs><g><!--MD5=[fbc87193dbaf4d95561dea2c320d4a47]\n",
       "cluster E1--><a href=\"psysml:a6b62677-d27b-4bf3-83e0-375e3ba01a4b\" target=\"_top\" title=\"psysml:a6b62677-d27b-4bf3-83e0-375e3ba01a4b\" xlink:actuate=\"onRequest\" xlink:href=\"psysml:a6b62677-d27b-4bf3-83e0-375e3ba01a4b\" xlink:show=\"new\" xlink:title=\"psysml:a6b62677-d27b-4bf3-83e0-375e3ba01a4b\" xlink:type=\"simple\"><polygon fill=\"#FFFFFF\" filter=\"url(#fsdrqaxbpi5om)\" points=\"16,6,80,6,87,28.2969,401,28.2969,401,732,16,732,16,6\" style=\"stroke: #000000; stroke-width: 1.5;\"/><line style=\"stroke: #000000; stroke-width: 1.5;\" x1=\"16\" x2=\"87\" y1=\"28.2969\" y2=\"28.2969\"/><text fill=\"#000000\" font-family=\"sans-serif\" font-size=\"14\" font-weight=\"bold\" lengthAdjust=\"spacingAndGlyphs\" textLength=\"58\" x=\"20\" y=\"20.9951\">PartTest</text></a><!--MD5=[b4997ac47864f28c2f74865a473b2911]\n",
       "class E2--><a href=\"psysml:fef66b5f-1b9d-421e-94fe-86858427a029\" target=\"_top\" title=\"psysml:fef66b5f-1b9d-421e-94fe-86858427a029\" xlink:actuate=\"onRequest\" xlink:href=\"psysml:fef66b5f-1b9d-421e-94fe-86858427a029\" xlink:show=\"new\" xlink:title=\"psysml:fef66b5f-1b9d-421e-94fe-86858427a029\" xlink:type=\"simple\"><rect fill=\"#FEFECE\" filter=\"url(#fsdrqaxbpi5om)\" height=\"45.9375\" id=\"E2\" rx=\"10\" ry=\"10\" style=\"stroke: #A80036; stroke-width: 1.5;\" width=\"42\" x=\"201\" y=\"41\"/><text fill=\"#000000\" font-family=\"sans-serif\" font-size=\"12\" font-style=\"italic\" lengthAdjust=\"spacingAndGlyphs\" textLength=\"40\" x=\"202\" y=\"57.1387\">«part»</text><text fill=\"#000000\" font-family=\"sans-serif\" font-size=\"12\" lengthAdjust=\"spacingAndGlyphs\" textLength=\"20\" x=\"212\" y=\"71.1074\">f: A</text><line style=\"stroke: #A80036; stroke-width: 1.5;\" x1=\"202\" x2=\"242\" y1=\"78.9375\" y2=\"78.9375\"/></a><!--MD5=[09b614a08d8cba4a07c9adeb5e0fee81]\n",
       "class E3--><a href=\"psysml:a2cad1be-c52d-4964-a87e-891cd7289f52\" target=\"_top\" title=\"psysml:a2cad1be-c52d-4964-a87e-891cd7289f52\" xlink:actuate=\"onRequest\" xlink:href=\"psysml:a2cad1be-c52d-4964-a87e-891cd7289f52\" xlink:show=\"new\" xlink:title=\"psysml:a2cad1be-c52d-4964-a87e-891cd7289f52\" xlink:type=\"simple\"><rect fill=\"#FEFECE\" filter=\"url(#fsdrqaxbpi5om)\" height=\"71.5469\" id=\"E3\" style=\"stroke: #A80036; stroke-width: 1.5;\" width=\"66\" x=\"189\" y=\"148\"/><text fill=\"#000000\" font-family=\"sans-serif\" font-size=\"12\" font-style=\"italic\" lengthAdjust=\"spacingAndGlyphs\" textLength=\"64\" x=\"190\" y=\"164.1387\">«part def»</text><text fill=\"#000000\" font-family=\"sans-serif\" font-size=\"12\" lengthAdjust=\"spacingAndGlyphs\" textLength=\"8\" x=\"218\" y=\"178.1074\">A</text><line style=\"stroke: #A80036; stroke-width: 1.5;\" x1=\"190\" x2=\"254\" y1=\"185.9375\" y2=\"185.9375\"/><text fill=\"#000000\" font-family=\"sans-serif\" font-size=\"11\" lengthAdjust=\"spacingAndGlyphs\" textLength=\"6\" x=\"195\" y=\"200.1479\">x</text><text fill=\"#000000\" font-family=\"sans-serif\" font-size=\"11\" lengthAdjust=\"spacingAndGlyphs\" textLength=\"6\" x=\"195\" y=\"212.9526\">y</text></a><!--MD5=[ebbe1d658d1005bcc118a6aa81145e00]\n",
       "class E4--><a href=\"psysml:9dcf2186-613a-4b96-912f-a1b95f354387\" target=\"_top\" title=\"psysml:9dcf2186-613a-4b96-912f-a1b95f354387\" xlink:actuate=\"onRequest\" xlink:href=\"psysml:9dcf2186-613a-4b96-912f-a1b95f354387\" xlink:show=\"new\" xlink:title=\"psysml:9dcf2186-613a-4b96-912f-a1b95f354387\" xlink:type=\"simple\"><rect fill=\"#FEFECE\" filter=\"url(#fsdrqaxbpi5om)\" height=\"45.9375\" id=\"E4\" rx=\"10\" ry=\"10\" style=\"stroke: #A80036; stroke-width: 1.5;\" width=\"42\" x=\"323\" y=\"357\"/><text fill=\"#000000\" font-family=\"sans-serif\" font-size=\"12\" font-style=\"italic\" lengthAdjust=\"spacingAndGlyphs\" textLength=\"40\" x=\"324\" y=\"373.1387\">«part»</text><text fill=\"#000000\" font-family=\"sans-serif\" font-size=\"12\" lengthAdjust=\"spacingAndGlyphs\" textLength=\"24\" x=\"332\" y=\"387.1074\">b: B</text><line style=\"stroke: #A80036; stroke-width: 1.5;\" x1=\"324\" x2=\"364\" y1=\"394.9375\" y2=\"394.9375\"/></a><!--MD5=[270fce915f116d4de14055a7c1d9a0f3]\n",
       "class E5--><a href=\"psysml:a3147892-19dd-4d4c-8f64-71e53da800dc\" target=\"_top\" title=\"psysml:a3147892-19dd-4d4c-8f64-71e53da800dc\" xlink:actuate=\"onRequest\" xlink:href=\"psysml:a3147892-19dd-4d4c-8f64-71e53da800dc\" xlink:show=\"new\" xlink:title=\"psysml:a3147892-19dd-4d4c-8f64-71e53da800dc\" xlink:type=\"simple\"><rect fill=\"#FEFECE\" filter=\"url(#fsdrqaxbpi5om)\" height=\"45.9375\" id=\"E5\" rx=\"10\" ry=\"10\" style=\"stroke: #A80036; stroke-width: 1.5;\" width=\"42\" x=\"306\" y=\"281\"/><text fill=\"#000000\" font-family=\"sans-serif\" font-size=\"12\" font-style=\"italic\" lengthAdjust=\"spacingAndGlyphs\" textLength=\"40\" x=\"307\" y=\"297.1387\">«port»</text><text fill=\"#000000\" font-family=\"sans-serif\" font-size=\"12\" lengthAdjust=\"spacingAndGlyphs\" textLength=\"23\" x=\"315.5\" y=\"311.1074\">c: C</text><line style=\"stroke: #A80036; stroke-width: 1.5;\" x1=\"307\" x2=\"347\" y1=\"318.9375\" y2=\"318.9375\"/></a><!--MD5=[60a26617385b1d2d0262a64233df1f8d]\n",
       "class E6--><a href=\"psysml:bbb3af71-bfb9-47e2-863f-33482c8ff081\" target=\"_top\" title=\"psysml:bbb3af71-bfb9-47e2-863f-33482c8ff081\" xlink:actuate=\"onRequest\" xlink:href=\"psysml:bbb3af71-bfb9-47e2-863f-33482c8ff081\" xlink:show=\"new\" xlink:title=\"psysml:bbb3af71-bfb9-47e2-863f-33482c8ff081\" xlink:type=\"simple\"><rect fill=\"#FEFECE\" filter=\"url(#fsdrqaxbpi5om)\" height=\"45.9375\" id=\"E6\" style=\"stroke: #A80036; stroke-width: 1.5;\" width=\"66\" x=\"163\" y=\"556\"/><text fill=\"#000000\" font-family=\"sans-serif\" font-size=\"12\" font-style=\"italic\" lengthAdjust=\"spacingAndGlyphs\" textLength=\"64\" x=\"164\" y=\"572.1387\">«part def»</text><text fill=\"#000000\" font-family=\"sans-serif\" font-size=\"12\" lengthAdjust=\"spacingAndGlyphs\" textLength=\"8\" x=\"192\" y=\"586.1074\">B</text><line style=\"stroke: #A80036; stroke-width: 1.5;\" x1=\"164\" x2=\"228\" y1=\"593.9375\" y2=\"593.9375\"/></a><!--MD5=[2156ba9850f5573cc1fc38a6a4b2f02b]\n",
       "class E7--><a href=\"psysml:c128dc79-fecf-4cdb-b1ba-5850a9b121ec\" target=\"_top\" title=\"psysml:c128dc79-fecf-4cdb-b1ba-5850a9b121ec\" xlink:actuate=\"onRequest\" xlink:href=\"psysml:c128dc79-fecf-4cdb-b1ba-5850a9b121ec\" xlink:show=\"new\" xlink:title=\"psysml:c128dc79-fecf-4cdb-b1ba-5850a9b121ec\" xlink:type=\"simple\"><rect fill=\"#FEFECE\" filter=\"url(#fsdrqaxbpi5om)\" height=\"45.9375\" id=\"E7\" rx=\"10\" ry=\"10\" style=\"stroke: #A80036; stroke-width: 1.5;\" width=\"42\" x=\"58\" y=\"666.5\"/><text fill=\"#000000\" font-family=\"sans-serif\" font-size=\"12\" font-style=\"italic\" lengthAdjust=\"spacingAndGlyphs\" textLength=\"40\" x=\"59\" y=\"682.6387\">«part»</text><text fill=\"#000000\" font-family=\"sans-serif\" font-size=\"12\" lengthAdjust=\"spacingAndGlyphs\" textLength=\"24\" x=\"67\" y=\"696.6074\">a: A</text><line style=\"stroke: #A80036; stroke-width: 1.5;\" x1=\"59\" x2=\"99\" y1=\"704.4375\" y2=\"704.4375\"/></a><!--MD5=[b9389687b975829384b498ac4b7476b2]\n",
       "class E8--><a href=\"psysml:540f6402-e62e-4ea3-b051-5d5cf5bfcb38\" target=\"_top\" title=\"psysml:540f6402-e62e-4ea3-b051-5d5cf5bfcb38\" xlink:actuate=\"onRequest\" xlink:href=\"psysml:540f6402-e62e-4ea3-b051-5d5cf5bfcb38\" xlink:show=\"new\" xlink:title=\"psysml:540f6402-e62e-4ea3-b051-5d5cf5bfcb38\" xlink:type=\"simple\"><rect fill=\"#FEFECE\" filter=\"url(#fsdrqaxbpi5om)\" height=\"45.9375\" id=\"E8\" rx=\"10\" ry=\"10\" style=\"stroke: #A80036; stroke-width: 1.5;\" width=\"42\" x=\"213\" y=\"666.5\"/><text fill=\"#000000\" font-family=\"sans-serif\" font-size=\"12\" font-style=\"italic\" lengthAdjust=\"spacingAndGlyphs\" textLength=\"40\" x=\"214\" y=\"682.6387\">«port»</text><text fill=\"#000000\" font-family=\"sans-serif\" font-size=\"12\" lengthAdjust=\"spacingAndGlyphs\" textLength=\"32\" x=\"218\" y=\"696.6074\">x: ~C</text><line style=\"stroke: #A80036; stroke-width: 1.5;\" x1=\"214\" x2=\"254\" y1=\"704.4375\" y2=\"704.4375\"/></a><!--MD5=[96f4274e9e20536e775497830990834d]\n",
       "class E10--><a href=\"psysml:a92372c2-fe41-425f-b40c-da5b8c1ca15d\" target=\"_top\" title=\"psysml:a92372c2-fe41-425f-b40c-da5b8c1ca15d\" xlink:actuate=\"onRequest\" xlink:href=\"psysml:a92372c2-fe41-425f-b40c-da5b8c1ca15d\" xlink:show=\"new\" xlink:title=\"psysml:a92372c2-fe41-425f-b40c-da5b8c1ca15d\" xlink:type=\"simple\"><rect fill=\"#FEFECE\" filter=\"url(#fsdrqaxbpi5om)\" height=\"45.9375\" id=\"E10\" style=\"stroke: #A80036; stroke-width: 1.5;\" width=\"66\" x=\"163\" y=\"433\"/><text fill=\"#000000\" font-family=\"sans-serif\" font-size=\"12\" font-style=\"italic\" lengthAdjust=\"spacingAndGlyphs\" textLength=\"64\" x=\"164\" y=\"449.1387\">«port def»</text><text fill=\"#000000\" font-family=\"sans-serif\" font-size=\"12\" lengthAdjust=\"spacingAndGlyphs\" textLength=\"8\" x=\"192\" y=\"463.1074\">C</text><line style=\"stroke: #A80036; stroke-width: 1.5;\" x1=\"164\" x2=\"228\" y1=\"470.9375\" y2=\"470.9375\"/></a><a href=\"psysml:f4e4ee2b-1abf-4dbd-8483-2b091bdfceaf\" target=\"_top\" title=\"psysml:f4e4ee2b-1abf-4dbd-8483-2b091bdfceaf\" xlink:actuate=\"onRequest\" xlink:href=\"psysml:f4e4ee2b-1abf-4dbd-8483-2b091bdfceaf\" xlink:show=\"new\" xlink:title=\"psysml:f4e4ee2b-1abf-4dbd-8483-2b091bdfceaf\" xlink:type=\"simple\"><polygon fill=\"#FFFFFF\" filter=\"url(#fsdrqaxbpi5om)\" points=\"148.5,663,163.5,663,170.5,685.2969,177.5,685.2969,177.5,715.5938,148.5,715.5938,148.5,663\" style=\"stroke: #000000; stroke-width: 1.5;\"/><line style=\"stroke: #000000; stroke-width: 1.5;\" x1=\"148.5\" x2=\"170.5\" y1=\"685.2969\" y2=\"685.2969\"/><text fill=\"#000000\" font-family=\"sans-serif\" font-size=\"14\" font-weight=\"bold\" lengthAdjust=\"spacingAndGlyphs\" textLength=\"9\" x=\"152.5\" y=\"677.9951\">P</text></a><!--MD5=[2720a5a1f2c3fca2055b230370638851]\n",
       "link E2 to E3--><a href=\"psysml:488f6ee0-39a9-4dc0-b555-612cc99c37a1\" target=\"_top\" title=\"psysml:488f6ee0-39a9-4dc0-b555-612cc99c37a1\" xlink:actuate=\"onRequest\" xlink:href=\"psysml:488f6ee0-39a9-4dc0-b555-612cc99c37a1\" xlink:show=\"new\" xlink:title=\"psysml:488f6ee0-39a9-4dc0-b555-612cc99c37a1\" xlink:type=\"simple\"><path d=\"M222,87.19 C222,98.68 222,113.26 222,127.56 \" fill=\"none\" id=\"E2-&gt;E3\" style=\"stroke: #A80036; stroke-width: 1.0;\"/><polygon fill=\"#FFFFFF\" points=\"222,147.92,215,128.92,229,128.92,222,147.92\" style=\"stroke: #A80036; stroke-width: 1.0;\"/><ellipse cx=\"217\" cy=\"123.22\" fill=\"#A80036\" rx=\"2\" ry=\"2\" style=\"stroke: #A80036; stroke-width: 1.0;\"/><ellipse cx=\"227\" cy=\"123.22\" fill=\"#A80036\" rx=\"2\" ry=\"2\" style=\"stroke: #A80036; stroke-width: 1.0;\"/></a><!--MD5=[4672eba38e49728da53d11aeb285b987]\n",
       "reverse link E3 to E4--><a href=\"psysml:98712745-a638-4d1f-8ffc-380c342569c9\" target=\"_top\" title=\"psysml:98712745-a638-4d1f-8ffc-380c342569c9\" xlink:actuate=\"onRequest\" xlink:href=\"psysml:98712745-a638-4d1f-8ffc-380c342569c9\" xlink:show=\"new\" xlink:title=\"psysml:98712745-a638-4d1f-8ffc-380c342569c9\" xlink:type=\"simple\"><path d=\"M267.09,201.36 C301.07,216.36 345.23,242.19 366,281 C378.84,304.98 367.86,336.13 357.32,356.8 \" fill=\"none\" id=\"E3&lt;-E4\" style=\"stroke: #A80036; stroke-width: 1.0;\"/><polygon fill=\"#A80036\" points=\"255.1,196.32,259.0792,202.3338,266.1609,200.9737,262.1817,194.9599,255.1,196.32\" style=\"stroke: #A80036; stroke-width: 1.0;\"/><text fill=\"#000000\" font-family=\"sans-serif\" font-size=\"13\" lengthAdjust=\"spacingAndGlyphs\" textLength=\"8\" x=\"352.4708\" y=\"347.0226\">1</text></a><!--MD5=[191cde3d490a3f6d7bb551fe3ddca469]\n",
       "reverse link E3 to E5--><a href=\"psysml:3d3c789c-d512-4565-8d7c-059f8d1010f8\" target=\"_top\" title=\"psysml:3d3c789c-d512-4565-8d7c-059f8d1010f8\" xlink:actuate=\"onRequest\" xlink:href=\"psysml:3d3c789c-d512-4565-8d7c-059f8d1010f8\" xlink:show=\"new\" xlink:title=\"psysml:3d3c789c-d512-4565-8d7c-059f8d1010f8\" xlink:type=\"simple\"><path d=\"M262.11,230.08 C277.59,247.47 294.59,266.57 307.3,280.86 \" fill=\"none\" id=\"E3&lt;-E5\" style=\"stroke: #A80036; stroke-width: 1.0;\"/><polygon fill=\"#FFFFFF\" points=\"253.22,220.08,254.2198,227.2215,261.1965,229.0453,260.1967,221.9038,253.22,220.08\" style=\"stroke: #A80036; stroke-width: 1.0;\"/><text fill=\"#000000\" font-family=\"sans-serif\" font-size=\"13\" lengthAdjust=\"spacingAndGlyphs\" textLength=\"8\" x=\"293.2269\" y=\"270.1004\">1</text></a><!--MD5=[79568f1e445c3877b6a54524624ccc7d]\n",
       "link E4 to E6--><a href=\"psysml:1225703b-924d-44f0-aa92-4bca49ced0c9\" target=\"_top\" title=\"psysml:1225703b-924d-44f0-aa92-4bca49ced0c9\" xlink:actuate=\"onRequest\" xlink:href=\"psysml:1225703b-924d-44f0-aa92-4bca49ced0c9\" xlink:show=\"new\" xlink:title=\"psysml:1225703b-924d-44f0-aa92-4bca49ced0c9\" xlink:type=\"simple\"><path d=\"M327.31,403.22 C302.43,436.34 255.27,499.1 224.76,539.71 \" fill=\"none\" id=\"E4-&gt;E6\" style=\"stroke: #A80036; stroke-width: 1.0;\"/><polygon fill=\"#FFFFFF\" points=\"212.63,555.87,218.4494,536.4758,229.641,544.887,212.63,555.87\" style=\"stroke: #A80036; stroke-width: 1.0;\"/><ellipse cx=\"223.4728\" cy=\"533.1208\" fill=\"#A80036\" rx=\"2\" ry=\"2\" style=\"stroke: #A80036; stroke-width: 1.0;\"/><ellipse cx=\"231.4668\" cy=\"539.1288\" fill=\"#A80036\" rx=\"2\" ry=\"2\" style=\"stroke: #A80036; stroke-width: 1.0;\"/></a><!--MD5=[3f50a3473f1dfb74d3f76443e03635af]\n",
       "reverse link E6 to E7--><a href=\"psysml:a81e6d2d-a633-4d51-820c-a47602c519dd\" target=\"_top\" title=\"psysml:a81e6d2d-a633-4d51-820c-a47602c519dd\" xlink:actuate=\"onRequest\" xlink:href=\"psysml:a81e6d2d-a633-4d51-820c-a47602c519dd\" xlink:show=\"new\" xlink:title=\"psysml:a81e6d2d-a633-4d51-820c-a47602c519dd\" xlink:type=\"simple\"><path d=\"M162.35,611.2 C142.32,629.78 117.5,652.8 100.18,668.86 \" fill=\"none\" id=\"E6&lt;-E7\" style=\"stroke: #A80036; stroke-width: 1.0;\"/><polygon fill=\"#A80036\" points=\"172.04,602.22,164.9211,603.3695,163.2441,610.3829,170.363,609.2334,172.04,602.22\" style=\"stroke: #A80036; stroke-width: 1.0;\"/><text fill=\"#000000\" font-family=\"sans-serif\" font-size=\"13\" lengthAdjust=\"spacingAndGlyphs\" textLength=\"8\" x=\"107.8914\" y=\"657.3389\">1</text></a><!--MD5=[14ccda38c055a5c0da953d572bc50960]\n",
       "link E7 to E3--><a href=\"psysml:4883cacd-6695-4e4a-8cc2-3609b81ec9a9\" target=\"_top\" title=\"psysml:4883cacd-6695-4e4a-8cc2-3609b81ec9a9\" xlink:actuate=\"onRequest\" xlink:href=\"psysml:4883cacd-6695-4e4a-8cc2-3609b81ec9a9\" xlink:show=\"new\" xlink:title=\"psysml:4883cacd-6695-4e4a-8cc2-3609b81ec9a9\" xlink:type=\"simple\"><path d=\"M63.43,666.38 C50.08,645.23 33,611.92 33,580 C33,303 33,303 33,303 C33,238.54 113.07,208 168.98,194.54 \" fill=\"none\" id=\"E7-&gt;E3\" style=\"stroke: #A80036; stroke-width: 1.0;\"/><polygon fill=\"#FFFFFF\" points=\"188.65,190.25,171.5829,201.1456,168.5935,187.4684,188.65,190.25\" style=\"stroke: #A80036; stroke-width: 1.0;\"/><ellipse cx=\"165.5873\" cy=\"200.4088\" fill=\"#A80036\" rx=\"2\" ry=\"2\" style=\"stroke: #A80036; stroke-width: 1.0;\"/><ellipse cx=\"163.452\" cy=\"190.6394\" fill=\"#A80036\" rx=\"2\" ry=\"2\" style=\"stroke: #A80036; stroke-width: 1.0;\"/></a><!--MD5=[f4cf0736d43fd73c4ef68817c49d37d5]\n",
       "reverse link E6 to E8--><a href=\"psysml:2d844c43-a52c-43bf-b052-a300acb2bf74\" target=\"_top\" title=\"psysml:2d844c43-a52c-43bf-b052-a300acb2bf74\" xlink:actuate=\"onRequest\" xlink:href=\"psysml:2d844c43-a52c-43bf-b052-a300acb2bf74\" xlink:show=\"new\" xlink:title=\"psysml:2d844c43-a52c-43bf-b052-a300acb2bf74\" xlink:type=\"simple\"><path d=\"M208.25,614.98 C214.15,631.83 221.06,651.54 226.23,666.31 \" fill=\"none\" id=\"E6&lt;-E8\" style=\"stroke: #A80036; stroke-width: 1.0;\"/><polygon fill=\"#FFFFFF\" points=\"203.78,602.22,201.9892,609.2052,207.7483,613.5449,209.5391,606.5597,203.78,602.22\" style=\"stroke: #A80036; stroke-width: 1.0;\"/><text fill=\"#000000\" font-family=\"sans-serif\" font-size=\"13\" lengthAdjust=\"spacingAndGlyphs\" textLength=\"8\" x=\"215.2139\" y=\"655.5376\">1</text></a><!--MD5=[e88d06e5a652d73a6b19930eefe025a8]\n",
       "reverse link E6 to E9--><a href=\"psysml:5153bd7e-9106-496d-98a6-0d3fae0d20a5\" target=\"_top\" title=\"psysml:5153bd7e-9106-496d-98a6-0d3fae0d20a5\" xlink:actuate=\"onRequest\" xlink:href=\"psysml:5153bd7e-9106-496d-98a6-0d3fae0d20a5\" xlink:show=\"new\" xlink:title=\"psysml:5153bd7e-9106-496d-98a6-0d3fae0d20a5\" xlink:type=\"simple\"><path d=\"M184.74,617.01 C180.15,632.11 174.95,649.2 170.79,662.88 \" fill=\"none\" id=\"E6&lt;-E9\" style=\"stroke: #A80036; stroke-width: 1.0;\"/><ellipse cx=\"186.9098\" cy=\"609.8731\" fill=\"#FFFFFF\" rx=\"8\" ry=\"8\" style=\"stroke: #A80036; stroke-width: 1.0;\"/><line style=\"stroke: #A80036; stroke-width: 1.0;\" x1=\"184.5796\" x2=\"189.24\" y1=\"617.5262\" y2=\"602.22\"/><line style=\"stroke: #A80036; stroke-width: 1.0;\" x1=\"179.2567\" x2=\"194.5629\" y1=\"607.5429\" y2=\"612.2033\"/></a><!--MD5=[f78a29d5932556fa1060671a2a6507d8]\n",
       "link E5 to E10--><a href=\"psysml:63374559-c2a0-4cf8-92a3-b39a3ed3eac1\" target=\"_top\" title=\"psysml:63374559-c2a0-4cf8-92a3-b39a3ed3eac1\" xlink:actuate=\"onRequest\" xlink:href=\"psysml:63374559-c2a0-4cf8-92a3-b39a3ed3eac1\" xlink:show=\"new\" xlink:title=\"psysml:63374559-c2a0-4cf8-92a3-b39a3ed3eac1\" xlink:type=\"simple\"><path d=\"M317.86,327.05 C308.35,348.19 291.92,380.17 271,403 C263.6,411.07 254.73,418.58 245.72,425.23 \" fill=\"none\" id=\"E5-&gt;E10\" style=\"stroke: #A80036; stroke-width: 1.0;\"/><polygon fill=\"#FFFFFF\" points=\"229.11,436.57,240.857,420.0773,248.7493,431.6407,229.11,436.57\" style=\"stroke: #A80036; stroke-width: 1.0;\"/><ellipse cx=\"246.6924\" cy=\"418.5159\" fill=\"#A80036\" rx=\"2\" ry=\"2\" style=\"stroke: #A80036; stroke-width: 1.0;\"/><ellipse cx=\"252.3298\" cy=\"426.7755\" fill=\"#A80036\" rx=\"2\" ry=\"2\" style=\"stroke: #A80036; stroke-width: 1.0;\"/></a><!--MD5=[8e04057e7b3cbc0dca4fc78ea351e2da]\n",
       "reverse link E10 to E3--><a href=\"psysml:e24d69b8-a494-4022-9892-35ed42c85155\" target=\"_top\" title=\"psysml:e24d69b8-a494-4022-9892-35ed42c85155\" xlink:actuate=\"onRequest\" xlink:href=\"psysml:e24d69b8-a494-4022-9892-35ed42c85155\" xlink:show=\"new\" xlink:title=\"psysml:e24d69b8-a494-4022-9892-35ed42c85155\" xlink:type=\"simple\"><path d=\"M168.94,422.33 C143.34,387.24 111.5,329.92 131,281 C142.65,251.78 167.89,226.34 188.84,209 \" fill=\"none\" id=\"E10&lt;-E3\" style=\"stroke: #A80036; stroke-width: 1.0;\"/><polygon fill=\"#FFFFFF\" points=\"176.97,432.91,176.5304,425.7123,169.7174,423.3497,170.1569,430.5474,176.97,432.91\" style=\"stroke: #A80036; stroke-width: 1.0;\"/><text fill=\"#000000\" font-family=\"sans-serif\" font-size=\"13\" lengthAdjust=\"spacingAndGlyphs\" textLength=\"7\" x=\"132\" y=\"308.5669\">y</text></a><!--MD5=[8e04057e7b3cbc0dca4fc78ea351e2da]\n",
       "reverse link E10 to E3--><a href=\"psysml:e24d69b8-a494-4022-9892-35ed42c85155\" target=\"_top\" title=\"psysml:e24d69b8-a494-4022-9892-35ed42c85155\" xlink:actuate=\"onRequest\" xlink:href=\"psysml:e24d69b8-a494-4022-9892-35ed42c85155\" xlink:show=\"new\" xlink:title=\"psysml:e24d69b8-a494-4022-9892-35ed42c85155\" xlink:type=\"simple\"><path d=\"M198.38,419.69 C200.87,384.5 205.08,328.96 210,281 C212.08,260.78 214.87,238.23 217.24,220.07 \" fill=\"none\" id=\"E10&lt;-E3-1\" style=\"stroke: #A80036; stroke-width: 1.0;\"/><polygon fill=\"#FFFFFF\" points=\"197.46,433,201.8657,427.2913,198.2906,421.0288,193.8849,426.7375,197.46,433\" style=\"stroke: #A80036; stroke-width: 1.0;\"/><text fill=\"#000000\" font-family=\"sans-serif\" font-size=\"13\" lengthAdjust=\"spacingAndGlyphs\" textLength=\"7\" x=\"211\" y=\"308.5669\">y</text></a><!--MD5=[8e04057e7b3cbc0dca4fc78ea351e2da]\n",
       "reverse link E10 to E3--><a href=\"psysml:e24d69b8-a494-4022-9892-35ed42c85155\" target=\"_top\" title=\"psysml:e24d69b8-a494-4022-9892-35ed42c85155\" xlink:actuate=\"onRequest\" xlink:href=\"psysml:e24d69b8-a494-4022-9892-35ed42c85155\" xlink:show=\"new\" xlink:title=\"psysml:e24d69b8-a494-4022-9892-35ed42c85155\" xlink:type=\"simple\"><path d=\"M205.88,420.08 C207.35,414.39 208.78,408.55 210,403 C217.35,369.53 220.1,361.15 223,327 C224.73,306.63 223.11,301.44 223,281 C222.89,260.83 222.67,238.28 222.45,220.11 \" fill=\"none\" id=\"E10&lt;-E3-2\" style=\"stroke: #A80036; stroke-width: 1.0;\"/><polygon fill=\"#FFFFFF\" points=\"202.46,432.84,207.879,428.0824,205.5716,421.2504,200.1526,426.008,202.46,432.84\" style=\"stroke: #A80036; stroke-width: 1.0;\"/><text fill=\"#000000\" font-family=\"sans-serif\" font-size=\"13\" lengthAdjust=\"spacingAndGlyphs\" textLength=\"7\" x=\"224\" y=\"308.5669\">y</text></a><!--MD5=[604cbf994c02b74b117f728a71673cea]\n",
       "reverse link E10 to E6--><a href=\"psysml:e24d69b8-a494-4022-9892-35ed42c85155\" target=\"_top\" title=\"psysml:e24d69b8-a494-4022-9892-35ed42c85155\" xlink:actuate=\"onRequest\" xlink:href=\"psysml:e24d69b8-a494-4022-9892-35ed42c85155\" xlink:show=\"new\" xlink:title=\"psysml:e24d69b8-a494-4022-9892-35ed42c85155\" xlink:type=\"simple\"><path d=\"M204.39,492.23 C206.07,503.04 207.05,514.99 206,526 C205.06,535.88 203.13,546.68 201.22,555.87 \" fill=\"none\" id=\"E10&lt;-E6\" style=\"stroke: #A80036; stroke-width: 1.0;\"/><polygon fill=\"#FFFFFF\" points=\"201.97,479.31,199.1398,485.9425,204.1735,491.106,207.0037,484.4735,201.97,479.31\" style=\"stroke: #A80036; stroke-width: 1.0;\"/><text fill=\"#000000\" font-family=\"sans-serif\" font-size=\"13\" lengthAdjust=\"spacingAndGlyphs\" textLength=\"7\" x=\"207\" y=\"522.0669\">y</text></a><!--MD5=[604cbf994c02b74b117f728a71673cea]\n",
       "reverse link E10 to E6--><a href=\"psysml:e24d69b8-a494-4022-9892-35ed42c85155\" target=\"_top\" title=\"psysml:e24d69b8-a494-4022-9892-35ed42c85155\" xlink:actuate=\"onRequest\" xlink:href=\"psysml:e24d69b8-a494-4022-9892-35ed42c85155\" xlink:show=\"new\" xlink:title=\"psysml:e24d69b8-a494-4022-9892-35ed42c85155\" xlink:type=\"simple\"><path d=\"M160.04,488.87 C155.13,495.03 150.81,501.82 148,509 C141.3,526.12 152.83,543.11 166.26,555.94 \" fill=\"none\" id=\"E10&lt;-E6-1\" style=\"stroke: #A80036; stroke-width: 1.0;\"/><polygon fill=\"#FFFFFF\" points=\"168.73,479.16,161.7505,480.973,160.7396,488.1129,167.7191,486.2999,168.73,479.16\" style=\"stroke: #A80036; stroke-width: 1.0;\"/><text fill=\"#000000\" font-family=\"sans-serif\" font-size=\"13\" lengthAdjust=\"spacingAndGlyphs\" textLength=\"7\" x=\"149\" y=\"522.0669\">y</text></a><!--MD5=[604cbf994c02b74b117f728a71673cea]\n",
       "reverse link E10 to E6--><a href=\"psysml:e24d69b8-a494-4022-9892-35ed42c85155\" target=\"_top\" title=\"psysml:e24d69b8-a494-4022-9892-35ed42c85155\" xlink:actuate=\"onRequest\" xlink:href=\"psysml:e24d69b8-a494-4022-9892-35ed42c85155\" xlink:show=\"new\" xlink:title=\"psysml:e24d69b8-a494-4022-9892-35ed42c85155\" xlink:type=\"simple\"><path d=\"M196,492.22 C196,512.81 196,538.16 196,555.95 \" fill=\"none\" id=\"E10&lt;-E6-2\" style=\"stroke: #A80036; stroke-width: 1.0;\"/><polygon fill=\"#FFFFFF\" points=\"196,479.19,192,485.19,196,491.19,200,485.19,196,479.19\" style=\"stroke: #A80036; stroke-width: 1.0;\"/><text fill=\"#000000\" font-family=\"sans-serif\" font-size=\"13\" lengthAdjust=\"spacingAndGlyphs\" textLength=\"7\" x=\"197\" y=\"522.0669\">y</text></a><!--MD5=[d6f772c69341327e4b401ef1f8947620]\n",
       "@startuml\r\n",
       "skinparam wrapWidth 300\r\n",
       "hide circle\r\n",
       "\r\n",
       "package \"PartTest\" as E1  [[psysml:a6b62677-d27b-4bf3-83e0-375e3ba01a4b ]]  {\r\n",
       "comp usage \"f: A\" as E2  <<(T,blue) part>> [[psysml:fef66b5f-1b9d-421e-94fe-86858427a029 ]] {\r\n",
       "}\r\n",
       "comp def \"A\" as E3  <<(T,blue) part def>> [[psysml:a2cad1be-c52d-4964-a87e-891cd7289f52 ]] {\r\n",
       "x\r\n",
       "y\r\n",
       "}\r\n",
       "comp usage \"b: B\" as E4  <<(T,blue) part>> [[psysml:9dcf2186-613a-4b96-912f-a1b95f354387 ]] {\r\n",
       "}\r\n",
       "comp usage \"c: C\" as E5  <<(T,blue) port>> [[psysml:a3147892-19dd-4d4c-8f64-71e53da800dc ]] {\r\n",
       "}\r\n",
       "comp def \"B\" as E6  <<(T,blue) part def>> [[psysml:bbb3af71-bfb9-47e2-863f-33482c8ff081 ]] {\r\n",
       "}\r\n",
       "comp usage \"a: A\" as E7  <<(T,blue) part>> [[psysml:c128dc79-fecf-4cdb-b1ba-5850a9b121ec ]] {\r\n",
       "}\r\n",
       "comp usage \"x: ~C\" as E8  <<(T,blue) port>> [[psysml:540f6402-e62e-4ea3-b051-5d5cf5bfcb38 ]] {\r\n",
       "}\r\n",
       "package \"P\" as E9  [[psysml:f4e4ee2b-1abf-4dbd-8483-2b091bdfceaf ]]  {\r\n",
       "}\r\n",
       "comp def \"C\" as E10  <<(T,blue) port def>> [[psysml:a92372c2-fe41-425f-b40c-da5b8c1ca15d ]] {\r\n",
       "}\r\n",
       "}\r\n",
       "E2 - -:|> E3 [[psysml:488f6ee0-39a9-4dc0-b555-612cc99c37a1 ]] \r\n",
       "E3 *- - \"1\"E4 [[psysml:98712745-a638-4d1f-8ffc-380c342569c9 ]] \r\n",
       "E3 o- - \"1\"E5 [[psysml:3d3c789c-d512-4565-8d7c-059f8d1010f8 ]] \r\n",
       "E4 - -:|> E6 [[psysml:1225703b-924d-44f0-aa92-4bca49ced0c9 ]] \r\n",
       "E6 *- - \"1\"E7 [[psysml:a81e6d2d-a633-4d51-820c-a47602c519dd ]] \r\n",
       "E7 - -:|> E3 [[psysml:4883cacd-6695-4e4a-8cc2-3609b81ec9a9 ]] \r\n",
       "E6 o- - \"1\"E8 [[psysml:2d844c43-a52c-43bf-b052-a300acb2bf74 ]] \r\n",
       "E6 +- - E9 [[psysml:5153bd7e-9106-496d-98a6-0d3fae0d20a5 ]] \r\n",
       "E5 - -:|> E10 [[psysml:63374559-c2a0-4cf8-92a3-b39a3ed3eac1 ]] \r\n",
       "E10 o- - E3 [[psysml:e24d69b8-a494-4022-9892-35ed42c85155 ]] : y\r\n",
       "E10 o- - E6 [[psysml:e24d69b8-a494-4022-9892-35ed42c85155 ]] : y\r\n",
       "E10 o- - E3 [[psysml:e24d69b8-a494-4022-9892-35ed42c85155 ]] : y\r\n",
       "E10 o- - E6 [[psysml:e24d69b8-a494-4022-9892-35ed42c85155 ]] : y\r\n",
       "E10 o- - E3 [[psysml:e24d69b8-a494-4022-9892-35ed42c85155 ]] : y\r\n",
       "E10 o- - E6 [[psysml:e24d69b8-a494-4022-9892-35ed42c85155 ]] : y\r\n",
       "@enduml\r\n",
       "\n",
       "PlantUML version 1.2020.13(Sat Jun 13 12:26:38 UTC 2020)\n",
       "(EPL source distribution)\n",
       "Java Runtime: OpenJDK Runtime Environment\n",
       "JVM: OpenJDK 64-Bit Server VM\n",
       "Default Encoding: UTF-8\n",
       "Language: en\n",
       "Country: null\n",
       "--></g></svg>"
      ]
     },
     "execution_count": 23,
     "metadata": {},
     "output_type": "execute_result"
    }
   ],
   "source": [
    "%viz --style=\"STDCOLOR\" --view=\"Default\" \"PartTest\""
   ]
  },
  {
   "cell_type": "code",
   "execution_count": 24,
   "id": "4e020e3a",
   "metadata": {
    "execution": {
     "iopub.execute_input": "2021-10-03T08:29:53.712681Z",
     "iopub.status.busy": "2021-10-03T08:29:53.712234Z",
     "iopub.status.idle": "2021-10-03T08:29:53.759292Z",
     "shell.execute_reply": "2021-10-03T08:29:53.757263Z"
    }
   },
   "outputs": [
    {
     "data": {
      "image/svg+xml": [
       "<?xml version=\"1.0\" encoding=\"UTF-8\" standalone=\"no\"?><svg xmlns=\"http://www.w3.org/2000/svg\" xmlns:xlink=\"http://www.w3.org/1999/xlink\" contentScriptType=\"application/ecmascript\" contentStyleType=\"text/css\" height=\"744px\" preserveAspectRatio=\"none\" style=\"width:423px;height:744px;\" version=\"1.1\" viewBox=\"0 0 423 744\" width=\"423px\" zoomAndPan=\"magnify\"><defs><filter height=\"300%\" id=\"fsdrqaxbpi5om\" width=\"300%\" x=\"-1\" y=\"-1\"><feGaussianBlur result=\"blurOut\" stdDeviation=\"2.0\"/><feColorMatrix in=\"blurOut\" result=\"blurOut2\" type=\"matrix\" values=\"0 0 0 0 0 0 0 0 0 0 0 0 0 0 0 0 0 0 .4 0\"/><feOffset dx=\"4.0\" dy=\"4.0\" in=\"blurOut2\" result=\"blurOut3\"/><feBlend in=\"SourceGraphic\" in2=\"blurOut3\" mode=\"normal\"/></filter></defs><g><!--MD5=[fbc87193dbaf4d95561dea2c320d4a47]\n",
       "cluster E1--><a href=\"psysml:a6b62677-d27b-4bf3-83e0-375e3ba01a4b\" target=\"_top\" title=\"psysml:a6b62677-d27b-4bf3-83e0-375e3ba01a4b\" xlink:actuate=\"onRequest\" xlink:href=\"psysml:a6b62677-d27b-4bf3-83e0-375e3ba01a4b\" xlink:show=\"new\" xlink:title=\"psysml:a6b62677-d27b-4bf3-83e0-375e3ba01a4b\" xlink:type=\"simple\"><polygon fill=\"#FFFFFF\" filter=\"url(#fsdrqaxbpi5om)\" points=\"16,6,80,6,87,28.2969,401,28.2969,401,732,16,732,16,6\" style=\"stroke: #000000; stroke-width: 1.5;\"/><line style=\"stroke: #000000; stroke-width: 1.5;\" x1=\"16\" x2=\"87\" y1=\"28.2969\" y2=\"28.2969\"/><text fill=\"#000000\" font-family=\"sans-serif\" font-size=\"14\" font-weight=\"bold\" lengthAdjust=\"spacingAndGlyphs\" textLength=\"58\" x=\"20\" y=\"20.9951\">PartTest</text></a><!--MD5=[b4997ac47864f28c2f74865a473b2911]\n",
       "class E2--><a href=\"psysml:fef66b5f-1b9d-421e-94fe-86858427a029\" target=\"_top\" title=\"psysml:fef66b5f-1b9d-421e-94fe-86858427a029\" xlink:actuate=\"onRequest\" xlink:href=\"psysml:fef66b5f-1b9d-421e-94fe-86858427a029\" xlink:show=\"new\" xlink:title=\"psysml:fef66b5f-1b9d-421e-94fe-86858427a029\" xlink:type=\"simple\"><rect fill=\"#FEFECE\" filter=\"url(#fsdrqaxbpi5om)\" height=\"45.9375\" id=\"E2\" rx=\"10\" ry=\"10\" style=\"stroke: #A80036; stroke-width: 1.5;\" width=\"42\" x=\"201\" y=\"41\"/><text fill=\"#000000\" font-family=\"sans-serif\" font-size=\"12\" font-style=\"italic\" lengthAdjust=\"spacingAndGlyphs\" textLength=\"40\" x=\"202\" y=\"57.1387\">«part»</text><text fill=\"#000000\" font-family=\"sans-serif\" font-size=\"12\" lengthAdjust=\"spacingAndGlyphs\" textLength=\"20\" x=\"212\" y=\"71.1074\">f: A</text><line style=\"stroke: #A80036; stroke-width: 1.5;\" x1=\"202\" x2=\"242\" y1=\"78.9375\" y2=\"78.9375\"/></a><!--MD5=[09b614a08d8cba4a07c9adeb5e0fee81]\n",
       "class E3--><a href=\"psysml:a2cad1be-c52d-4964-a87e-891cd7289f52\" target=\"_top\" title=\"psysml:a2cad1be-c52d-4964-a87e-891cd7289f52\" xlink:actuate=\"onRequest\" xlink:href=\"psysml:a2cad1be-c52d-4964-a87e-891cd7289f52\" xlink:show=\"new\" xlink:title=\"psysml:a2cad1be-c52d-4964-a87e-891cd7289f52\" xlink:type=\"simple\"><rect fill=\"#FEFECE\" filter=\"url(#fsdrqaxbpi5om)\" height=\"71.5469\" id=\"E3\" style=\"stroke: #A80036; stroke-width: 1.5;\" width=\"66\" x=\"189\" y=\"148\"/><text fill=\"#000000\" font-family=\"sans-serif\" font-size=\"12\" font-style=\"italic\" lengthAdjust=\"spacingAndGlyphs\" textLength=\"64\" x=\"190\" y=\"164.1387\">«part def»</text><text fill=\"#000000\" font-family=\"sans-serif\" font-size=\"12\" lengthAdjust=\"spacingAndGlyphs\" textLength=\"8\" x=\"218\" y=\"178.1074\">A</text><line style=\"stroke: #A80036; stroke-width: 1.5;\" x1=\"190\" x2=\"254\" y1=\"185.9375\" y2=\"185.9375\"/><text fill=\"#000000\" font-family=\"sans-serif\" font-size=\"11\" lengthAdjust=\"spacingAndGlyphs\" textLength=\"6\" x=\"195\" y=\"200.1479\">x</text><text fill=\"#000000\" font-family=\"sans-serif\" font-size=\"11\" lengthAdjust=\"spacingAndGlyphs\" textLength=\"6\" x=\"195\" y=\"212.9526\">y</text></a><!--MD5=[ebbe1d658d1005bcc118a6aa81145e00]\n",
       "class E4--><a href=\"psysml:9dcf2186-613a-4b96-912f-a1b95f354387\" target=\"_top\" title=\"psysml:9dcf2186-613a-4b96-912f-a1b95f354387\" xlink:actuate=\"onRequest\" xlink:href=\"psysml:9dcf2186-613a-4b96-912f-a1b95f354387\" xlink:show=\"new\" xlink:title=\"psysml:9dcf2186-613a-4b96-912f-a1b95f354387\" xlink:type=\"simple\"><rect fill=\"#FEFECE\" filter=\"url(#fsdrqaxbpi5om)\" height=\"45.9375\" id=\"E4\" rx=\"10\" ry=\"10\" style=\"stroke: #A80036; stroke-width: 1.5;\" width=\"42\" x=\"323\" y=\"357\"/><text fill=\"#000000\" font-family=\"sans-serif\" font-size=\"12\" font-style=\"italic\" lengthAdjust=\"spacingAndGlyphs\" textLength=\"40\" x=\"324\" y=\"373.1387\">«part»</text><text fill=\"#000000\" font-family=\"sans-serif\" font-size=\"12\" lengthAdjust=\"spacingAndGlyphs\" textLength=\"24\" x=\"332\" y=\"387.1074\">b: B</text><line style=\"stroke: #A80036; stroke-width: 1.5;\" x1=\"324\" x2=\"364\" y1=\"394.9375\" y2=\"394.9375\"/></a><!--MD5=[270fce915f116d4de14055a7c1d9a0f3]\n",
       "class E5--><a href=\"psysml:a3147892-19dd-4d4c-8f64-71e53da800dc\" target=\"_top\" title=\"psysml:a3147892-19dd-4d4c-8f64-71e53da800dc\" xlink:actuate=\"onRequest\" xlink:href=\"psysml:a3147892-19dd-4d4c-8f64-71e53da800dc\" xlink:show=\"new\" xlink:title=\"psysml:a3147892-19dd-4d4c-8f64-71e53da800dc\" xlink:type=\"simple\"><rect fill=\"#FEFECE\" filter=\"url(#fsdrqaxbpi5om)\" height=\"45.9375\" id=\"E5\" rx=\"10\" ry=\"10\" style=\"stroke: #A80036; stroke-width: 1.5;\" width=\"42\" x=\"306\" y=\"281\"/><text fill=\"#000000\" font-family=\"sans-serif\" font-size=\"12\" font-style=\"italic\" lengthAdjust=\"spacingAndGlyphs\" textLength=\"40\" x=\"307\" y=\"297.1387\">«port»</text><text fill=\"#000000\" font-family=\"sans-serif\" font-size=\"12\" lengthAdjust=\"spacingAndGlyphs\" textLength=\"23\" x=\"315.5\" y=\"311.1074\">c: C</text><line style=\"stroke: #A80036; stroke-width: 1.5;\" x1=\"307\" x2=\"347\" y1=\"318.9375\" y2=\"318.9375\"/></a><!--MD5=[60a26617385b1d2d0262a64233df1f8d]\n",
       "class E6--><a href=\"psysml:bbb3af71-bfb9-47e2-863f-33482c8ff081\" target=\"_top\" title=\"psysml:bbb3af71-bfb9-47e2-863f-33482c8ff081\" xlink:actuate=\"onRequest\" xlink:href=\"psysml:bbb3af71-bfb9-47e2-863f-33482c8ff081\" xlink:show=\"new\" xlink:title=\"psysml:bbb3af71-bfb9-47e2-863f-33482c8ff081\" xlink:type=\"simple\"><rect fill=\"#FEFECE\" filter=\"url(#fsdrqaxbpi5om)\" height=\"45.9375\" id=\"E6\" style=\"stroke: #A80036; stroke-width: 1.5;\" width=\"66\" x=\"163\" y=\"556\"/><text fill=\"#000000\" font-family=\"sans-serif\" font-size=\"12\" font-style=\"italic\" lengthAdjust=\"spacingAndGlyphs\" textLength=\"64\" x=\"164\" y=\"572.1387\">«part def»</text><text fill=\"#000000\" font-family=\"sans-serif\" font-size=\"12\" lengthAdjust=\"spacingAndGlyphs\" textLength=\"8\" x=\"192\" y=\"586.1074\">B</text><line style=\"stroke: #A80036; stroke-width: 1.5;\" x1=\"164\" x2=\"228\" y1=\"593.9375\" y2=\"593.9375\"/></a><!--MD5=[2156ba9850f5573cc1fc38a6a4b2f02b]\n",
       "class E7--><a href=\"psysml:c128dc79-fecf-4cdb-b1ba-5850a9b121ec\" target=\"_top\" title=\"psysml:c128dc79-fecf-4cdb-b1ba-5850a9b121ec\" xlink:actuate=\"onRequest\" xlink:href=\"psysml:c128dc79-fecf-4cdb-b1ba-5850a9b121ec\" xlink:show=\"new\" xlink:title=\"psysml:c128dc79-fecf-4cdb-b1ba-5850a9b121ec\" xlink:type=\"simple\"><rect fill=\"#FEFECE\" filter=\"url(#fsdrqaxbpi5om)\" height=\"45.9375\" id=\"E7\" rx=\"10\" ry=\"10\" style=\"stroke: #A80036; stroke-width: 1.5;\" width=\"42\" x=\"58\" y=\"666.5\"/><text fill=\"#000000\" font-family=\"sans-serif\" font-size=\"12\" font-style=\"italic\" lengthAdjust=\"spacingAndGlyphs\" textLength=\"40\" x=\"59\" y=\"682.6387\">«part»</text><text fill=\"#000000\" font-family=\"sans-serif\" font-size=\"12\" lengthAdjust=\"spacingAndGlyphs\" textLength=\"24\" x=\"67\" y=\"696.6074\">a: A</text><line style=\"stroke: #A80036; stroke-width: 1.5;\" x1=\"59\" x2=\"99\" y1=\"704.4375\" y2=\"704.4375\"/></a><!--MD5=[b9389687b975829384b498ac4b7476b2]\n",
       "class E8--><a href=\"psysml:540f6402-e62e-4ea3-b051-5d5cf5bfcb38\" target=\"_top\" title=\"psysml:540f6402-e62e-4ea3-b051-5d5cf5bfcb38\" xlink:actuate=\"onRequest\" xlink:href=\"psysml:540f6402-e62e-4ea3-b051-5d5cf5bfcb38\" xlink:show=\"new\" xlink:title=\"psysml:540f6402-e62e-4ea3-b051-5d5cf5bfcb38\" xlink:type=\"simple\"><rect fill=\"#FEFECE\" filter=\"url(#fsdrqaxbpi5om)\" height=\"45.9375\" id=\"E8\" rx=\"10\" ry=\"10\" style=\"stroke: #A80036; stroke-width: 1.5;\" width=\"42\" x=\"213\" y=\"666.5\"/><text fill=\"#000000\" font-family=\"sans-serif\" font-size=\"12\" font-style=\"italic\" lengthAdjust=\"spacingAndGlyphs\" textLength=\"40\" x=\"214\" y=\"682.6387\">«port»</text><text fill=\"#000000\" font-family=\"sans-serif\" font-size=\"12\" lengthAdjust=\"spacingAndGlyphs\" textLength=\"32\" x=\"218\" y=\"696.6074\">x: ~C</text><line style=\"stroke: #A80036; stroke-width: 1.5;\" x1=\"214\" x2=\"254\" y1=\"704.4375\" y2=\"704.4375\"/></a><!--MD5=[96f4274e9e20536e775497830990834d]\n",
       "class E10--><a href=\"psysml:a92372c2-fe41-425f-b40c-da5b8c1ca15d\" target=\"_top\" title=\"psysml:a92372c2-fe41-425f-b40c-da5b8c1ca15d\" xlink:actuate=\"onRequest\" xlink:href=\"psysml:a92372c2-fe41-425f-b40c-da5b8c1ca15d\" xlink:show=\"new\" xlink:title=\"psysml:a92372c2-fe41-425f-b40c-da5b8c1ca15d\" xlink:type=\"simple\"><rect fill=\"#FEFECE\" filter=\"url(#fsdrqaxbpi5om)\" height=\"45.9375\" id=\"E10\" style=\"stroke: #A80036; stroke-width: 1.5;\" width=\"66\" x=\"163\" y=\"433\"/><text fill=\"#000000\" font-family=\"sans-serif\" font-size=\"12\" font-style=\"italic\" lengthAdjust=\"spacingAndGlyphs\" textLength=\"64\" x=\"164\" y=\"449.1387\">«port def»</text><text fill=\"#000000\" font-family=\"sans-serif\" font-size=\"12\" lengthAdjust=\"spacingAndGlyphs\" textLength=\"8\" x=\"192\" y=\"463.1074\">C</text><line style=\"stroke: #A80036; stroke-width: 1.5;\" x1=\"164\" x2=\"228\" y1=\"470.9375\" y2=\"470.9375\"/></a><a href=\"psysml:f4e4ee2b-1abf-4dbd-8483-2b091bdfceaf\" target=\"_top\" title=\"psysml:f4e4ee2b-1abf-4dbd-8483-2b091bdfceaf\" xlink:actuate=\"onRequest\" xlink:href=\"psysml:f4e4ee2b-1abf-4dbd-8483-2b091bdfceaf\" xlink:show=\"new\" xlink:title=\"psysml:f4e4ee2b-1abf-4dbd-8483-2b091bdfceaf\" xlink:type=\"simple\"><polygon fill=\"#FFFFFF\" filter=\"url(#fsdrqaxbpi5om)\" points=\"148.5,663,163.5,663,170.5,685.2969,177.5,685.2969,177.5,715.5938,148.5,715.5938,148.5,663\" style=\"stroke: #000000; stroke-width: 1.5;\"/><line style=\"stroke: #000000; stroke-width: 1.5;\" x1=\"148.5\" x2=\"170.5\" y1=\"685.2969\" y2=\"685.2969\"/><text fill=\"#000000\" font-family=\"sans-serif\" font-size=\"14\" font-weight=\"bold\" lengthAdjust=\"spacingAndGlyphs\" textLength=\"9\" x=\"152.5\" y=\"677.9951\">P</text></a><!--MD5=[2720a5a1f2c3fca2055b230370638851]\n",
       "link E2 to E3--><a href=\"psysml:488f6ee0-39a9-4dc0-b555-612cc99c37a1\" target=\"_top\" title=\"psysml:488f6ee0-39a9-4dc0-b555-612cc99c37a1\" xlink:actuate=\"onRequest\" xlink:href=\"psysml:488f6ee0-39a9-4dc0-b555-612cc99c37a1\" xlink:show=\"new\" xlink:title=\"psysml:488f6ee0-39a9-4dc0-b555-612cc99c37a1\" xlink:type=\"simple\"><path d=\"M222,87.19 C222,98.68 222,113.26 222,127.56 \" fill=\"none\" id=\"E2-&gt;E3\" style=\"stroke: #A80036; stroke-width: 1.0;\"/><polygon fill=\"#FFFFFF\" points=\"222,147.92,215,128.92,229,128.92,222,147.92\" style=\"stroke: #A80036; stroke-width: 1.0;\"/><ellipse cx=\"217\" cy=\"123.22\" fill=\"#A80036\" rx=\"2\" ry=\"2\" style=\"stroke: #A80036; stroke-width: 1.0;\"/><ellipse cx=\"227\" cy=\"123.22\" fill=\"#A80036\" rx=\"2\" ry=\"2\" style=\"stroke: #A80036; stroke-width: 1.0;\"/></a><!--MD5=[4672eba38e49728da53d11aeb285b987]\n",
       "reverse link E3 to E4--><a href=\"psysml:98712745-a638-4d1f-8ffc-380c342569c9\" target=\"_top\" title=\"psysml:98712745-a638-4d1f-8ffc-380c342569c9\" xlink:actuate=\"onRequest\" xlink:href=\"psysml:98712745-a638-4d1f-8ffc-380c342569c9\" xlink:show=\"new\" xlink:title=\"psysml:98712745-a638-4d1f-8ffc-380c342569c9\" xlink:type=\"simple\"><path d=\"M267.09,201.36 C301.07,216.36 345.23,242.19 366,281 C378.84,304.98 367.86,336.13 357.32,356.8 \" fill=\"none\" id=\"E3&lt;-E4\" style=\"stroke: #A80036; stroke-width: 1.0;\"/><polygon fill=\"#A80036\" points=\"255.1,196.32,259.0792,202.3338,266.1609,200.9737,262.1817,194.9599,255.1,196.32\" style=\"stroke: #A80036; stroke-width: 1.0;\"/><text fill=\"#000000\" font-family=\"sans-serif\" font-size=\"13\" lengthAdjust=\"spacingAndGlyphs\" textLength=\"8\" x=\"352.4708\" y=\"347.0226\">1</text></a><!--MD5=[191cde3d490a3f6d7bb551fe3ddca469]\n",
       "reverse link E3 to E5--><a href=\"psysml:3d3c789c-d512-4565-8d7c-059f8d1010f8\" target=\"_top\" title=\"psysml:3d3c789c-d512-4565-8d7c-059f8d1010f8\" xlink:actuate=\"onRequest\" xlink:href=\"psysml:3d3c789c-d512-4565-8d7c-059f8d1010f8\" xlink:show=\"new\" xlink:title=\"psysml:3d3c789c-d512-4565-8d7c-059f8d1010f8\" xlink:type=\"simple\"><path d=\"M262.11,230.08 C277.59,247.47 294.59,266.57 307.3,280.86 \" fill=\"none\" id=\"E3&lt;-E5\" style=\"stroke: #A80036; stroke-width: 1.0;\"/><polygon fill=\"#FFFFFF\" points=\"253.22,220.08,254.2198,227.2215,261.1965,229.0453,260.1967,221.9038,253.22,220.08\" style=\"stroke: #A80036; stroke-width: 1.0;\"/><text fill=\"#000000\" font-family=\"sans-serif\" font-size=\"13\" lengthAdjust=\"spacingAndGlyphs\" textLength=\"8\" x=\"293.2269\" y=\"270.1004\">1</text></a><!--MD5=[79568f1e445c3877b6a54524624ccc7d]\n",
       "link E4 to E6--><a href=\"psysml:1225703b-924d-44f0-aa92-4bca49ced0c9\" target=\"_top\" title=\"psysml:1225703b-924d-44f0-aa92-4bca49ced0c9\" xlink:actuate=\"onRequest\" xlink:href=\"psysml:1225703b-924d-44f0-aa92-4bca49ced0c9\" xlink:show=\"new\" xlink:title=\"psysml:1225703b-924d-44f0-aa92-4bca49ced0c9\" xlink:type=\"simple\"><path d=\"M327.31,403.22 C302.43,436.34 255.27,499.1 224.76,539.71 \" fill=\"none\" id=\"E4-&gt;E6\" style=\"stroke: #A80036; stroke-width: 1.0;\"/><polygon fill=\"#FFFFFF\" points=\"212.63,555.87,218.4494,536.4758,229.641,544.887,212.63,555.87\" style=\"stroke: #A80036; stroke-width: 1.0;\"/><ellipse cx=\"223.4728\" cy=\"533.1208\" fill=\"#A80036\" rx=\"2\" ry=\"2\" style=\"stroke: #A80036; stroke-width: 1.0;\"/><ellipse cx=\"231.4668\" cy=\"539.1288\" fill=\"#A80036\" rx=\"2\" ry=\"2\" style=\"stroke: #A80036; stroke-width: 1.0;\"/></a><!--MD5=[3f50a3473f1dfb74d3f76443e03635af]\n",
       "reverse link E6 to E7--><a href=\"psysml:a81e6d2d-a633-4d51-820c-a47602c519dd\" target=\"_top\" title=\"psysml:a81e6d2d-a633-4d51-820c-a47602c519dd\" xlink:actuate=\"onRequest\" xlink:href=\"psysml:a81e6d2d-a633-4d51-820c-a47602c519dd\" xlink:show=\"new\" xlink:title=\"psysml:a81e6d2d-a633-4d51-820c-a47602c519dd\" xlink:type=\"simple\"><path d=\"M162.35,611.2 C142.32,629.78 117.5,652.8 100.18,668.86 \" fill=\"none\" id=\"E6&lt;-E7\" style=\"stroke: #A80036; stroke-width: 1.0;\"/><polygon fill=\"#A80036\" points=\"172.04,602.22,164.9211,603.3695,163.2441,610.3829,170.363,609.2334,172.04,602.22\" style=\"stroke: #A80036; stroke-width: 1.0;\"/><text fill=\"#000000\" font-family=\"sans-serif\" font-size=\"13\" lengthAdjust=\"spacingAndGlyphs\" textLength=\"8\" x=\"107.8914\" y=\"657.3389\">1</text></a><!--MD5=[14ccda38c055a5c0da953d572bc50960]\n",
       "link E7 to E3--><a href=\"psysml:4883cacd-6695-4e4a-8cc2-3609b81ec9a9\" target=\"_top\" title=\"psysml:4883cacd-6695-4e4a-8cc2-3609b81ec9a9\" xlink:actuate=\"onRequest\" xlink:href=\"psysml:4883cacd-6695-4e4a-8cc2-3609b81ec9a9\" xlink:show=\"new\" xlink:title=\"psysml:4883cacd-6695-4e4a-8cc2-3609b81ec9a9\" xlink:type=\"simple\"><path d=\"M63.43,666.38 C50.08,645.23 33,611.92 33,580 C33,303 33,303 33,303 C33,238.54 113.07,208 168.98,194.54 \" fill=\"none\" id=\"E7-&gt;E3\" style=\"stroke: #A80036; stroke-width: 1.0;\"/><polygon fill=\"#FFFFFF\" points=\"188.65,190.25,171.5829,201.1456,168.5935,187.4684,188.65,190.25\" style=\"stroke: #A80036; stroke-width: 1.0;\"/><ellipse cx=\"165.5873\" cy=\"200.4088\" fill=\"#A80036\" rx=\"2\" ry=\"2\" style=\"stroke: #A80036; stroke-width: 1.0;\"/><ellipse cx=\"163.452\" cy=\"190.6394\" fill=\"#A80036\" rx=\"2\" ry=\"2\" style=\"stroke: #A80036; stroke-width: 1.0;\"/></a><!--MD5=[f4cf0736d43fd73c4ef68817c49d37d5]\n",
       "reverse link E6 to E8--><a href=\"psysml:2d844c43-a52c-43bf-b052-a300acb2bf74\" target=\"_top\" title=\"psysml:2d844c43-a52c-43bf-b052-a300acb2bf74\" xlink:actuate=\"onRequest\" xlink:href=\"psysml:2d844c43-a52c-43bf-b052-a300acb2bf74\" xlink:show=\"new\" xlink:title=\"psysml:2d844c43-a52c-43bf-b052-a300acb2bf74\" xlink:type=\"simple\"><path d=\"M208.25,614.98 C214.15,631.83 221.06,651.54 226.23,666.31 \" fill=\"none\" id=\"E6&lt;-E8\" style=\"stroke: #A80036; stroke-width: 1.0;\"/><polygon fill=\"#FFFFFF\" points=\"203.78,602.22,201.9892,609.2052,207.7483,613.5449,209.5391,606.5597,203.78,602.22\" style=\"stroke: #A80036; stroke-width: 1.0;\"/><text fill=\"#000000\" font-family=\"sans-serif\" font-size=\"13\" lengthAdjust=\"spacingAndGlyphs\" textLength=\"8\" x=\"215.2139\" y=\"655.5376\">1</text></a><!--MD5=[e88d06e5a652d73a6b19930eefe025a8]\n",
       "reverse link E6 to E9--><a href=\"psysml:5153bd7e-9106-496d-98a6-0d3fae0d20a5\" target=\"_top\" title=\"psysml:5153bd7e-9106-496d-98a6-0d3fae0d20a5\" xlink:actuate=\"onRequest\" xlink:href=\"psysml:5153bd7e-9106-496d-98a6-0d3fae0d20a5\" xlink:show=\"new\" xlink:title=\"psysml:5153bd7e-9106-496d-98a6-0d3fae0d20a5\" xlink:type=\"simple\"><path d=\"M184.74,617.01 C180.15,632.11 174.95,649.2 170.79,662.88 \" fill=\"none\" id=\"E6&lt;-E9\" style=\"stroke: #A80036; stroke-width: 1.0;\"/><ellipse cx=\"186.9098\" cy=\"609.8731\" fill=\"#FFFFFF\" rx=\"8\" ry=\"8\" style=\"stroke: #A80036; stroke-width: 1.0;\"/><line style=\"stroke: #A80036; stroke-width: 1.0;\" x1=\"184.5796\" x2=\"189.24\" y1=\"617.5262\" y2=\"602.22\"/><line style=\"stroke: #A80036; stroke-width: 1.0;\" x1=\"179.2567\" x2=\"194.5629\" y1=\"607.5429\" y2=\"612.2033\"/></a><!--MD5=[f78a29d5932556fa1060671a2a6507d8]\n",
       "link E5 to E10--><a href=\"psysml:63374559-c2a0-4cf8-92a3-b39a3ed3eac1\" target=\"_top\" title=\"psysml:63374559-c2a0-4cf8-92a3-b39a3ed3eac1\" xlink:actuate=\"onRequest\" xlink:href=\"psysml:63374559-c2a0-4cf8-92a3-b39a3ed3eac1\" xlink:show=\"new\" xlink:title=\"psysml:63374559-c2a0-4cf8-92a3-b39a3ed3eac1\" xlink:type=\"simple\"><path d=\"M317.86,327.05 C308.35,348.19 291.92,380.17 271,403 C263.6,411.07 254.73,418.58 245.72,425.23 \" fill=\"none\" id=\"E5-&gt;E10\" style=\"stroke: #A80036; stroke-width: 1.0;\"/><polygon fill=\"#FFFFFF\" points=\"229.11,436.57,240.857,420.0773,248.7493,431.6407,229.11,436.57\" style=\"stroke: #A80036; stroke-width: 1.0;\"/><ellipse cx=\"246.6924\" cy=\"418.5159\" fill=\"#A80036\" rx=\"2\" ry=\"2\" style=\"stroke: #A80036; stroke-width: 1.0;\"/><ellipse cx=\"252.3298\" cy=\"426.7755\" fill=\"#A80036\" rx=\"2\" ry=\"2\" style=\"stroke: #A80036; stroke-width: 1.0;\"/></a><!--MD5=[8e04057e7b3cbc0dca4fc78ea351e2da]\n",
       "reverse link E10 to E3--><a href=\"psysml:e24d69b8-a494-4022-9892-35ed42c85155\" target=\"_top\" title=\"psysml:e24d69b8-a494-4022-9892-35ed42c85155\" xlink:actuate=\"onRequest\" xlink:href=\"psysml:e24d69b8-a494-4022-9892-35ed42c85155\" xlink:show=\"new\" xlink:title=\"psysml:e24d69b8-a494-4022-9892-35ed42c85155\" xlink:type=\"simple\"><path d=\"M168.94,422.33 C143.34,387.24 111.5,329.92 131,281 C142.65,251.78 167.89,226.34 188.84,209 \" fill=\"none\" id=\"E10&lt;-E3\" style=\"stroke: #A80036; stroke-width: 1.0;\"/><polygon fill=\"#FFFFFF\" points=\"176.97,432.91,176.5304,425.7123,169.7174,423.3497,170.1569,430.5474,176.97,432.91\" style=\"stroke: #A80036; stroke-width: 1.0;\"/><text fill=\"#000000\" font-family=\"sans-serif\" font-size=\"13\" lengthAdjust=\"spacingAndGlyphs\" textLength=\"7\" x=\"132\" y=\"308.5669\">y</text></a><!--MD5=[8e04057e7b3cbc0dca4fc78ea351e2da]\n",
       "reverse link E10 to E3--><a href=\"psysml:e24d69b8-a494-4022-9892-35ed42c85155\" target=\"_top\" title=\"psysml:e24d69b8-a494-4022-9892-35ed42c85155\" xlink:actuate=\"onRequest\" xlink:href=\"psysml:e24d69b8-a494-4022-9892-35ed42c85155\" xlink:show=\"new\" xlink:title=\"psysml:e24d69b8-a494-4022-9892-35ed42c85155\" xlink:type=\"simple\"><path d=\"M198.38,419.69 C200.87,384.5 205.08,328.96 210,281 C212.08,260.78 214.87,238.23 217.24,220.07 \" fill=\"none\" id=\"E10&lt;-E3-1\" style=\"stroke: #A80036; stroke-width: 1.0;\"/><polygon fill=\"#FFFFFF\" points=\"197.46,433,201.8657,427.2913,198.2906,421.0288,193.8849,426.7375,197.46,433\" style=\"stroke: #A80036; stroke-width: 1.0;\"/><text fill=\"#000000\" font-family=\"sans-serif\" font-size=\"13\" lengthAdjust=\"spacingAndGlyphs\" textLength=\"7\" x=\"211\" y=\"308.5669\">y</text></a><!--MD5=[8e04057e7b3cbc0dca4fc78ea351e2da]\n",
       "reverse link E10 to E3--><a href=\"psysml:e24d69b8-a494-4022-9892-35ed42c85155\" target=\"_top\" title=\"psysml:e24d69b8-a494-4022-9892-35ed42c85155\" xlink:actuate=\"onRequest\" xlink:href=\"psysml:e24d69b8-a494-4022-9892-35ed42c85155\" xlink:show=\"new\" xlink:title=\"psysml:e24d69b8-a494-4022-9892-35ed42c85155\" xlink:type=\"simple\"><path d=\"M205.88,420.08 C207.35,414.39 208.78,408.55 210,403 C217.35,369.53 220.1,361.15 223,327 C224.73,306.63 223.11,301.44 223,281 C222.89,260.83 222.67,238.28 222.45,220.11 \" fill=\"none\" id=\"E10&lt;-E3-2\" style=\"stroke: #A80036; stroke-width: 1.0;\"/><polygon fill=\"#FFFFFF\" points=\"202.46,432.84,207.879,428.0824,205.5716,421.2504,200.1526,426.008,202.46,432.84\" style=\"stroke: #A80036; stroke-width: 1.0;\"/><text fill=\"#000000\" font-family=\"sans-serif\" font-size=\"13\" lengthAdjust=\"spacingAndGlyphs\" textLength=\"7\" x=\"224\" y=\"308.5669\">y</text></a><!--MD5=[604cbf994c02b74b117f728a71673cea]\n",
       "reverse link E10 to E6--><a href=\"psysml:e24d69b8-a494-4022-9892-35ed42c85155\" target=\"_top\" title=\"psysml:e24d69b8-a494-4022-9892-35ed42c85155\" xlink:actuate=\"onRequest\" xlink:href=\"psysml:e24d69b8-a494-4022-9892-35ed42c85155\" xlink:show=\"new\" xlink:title=\"psysml:e24d69b8-a494-4022-9892-35ed42c85155\" xlink:type=\"simple\"><path d=\"M204.39,492.23 C206.07,503.04 207.05,514.99 206,526 C205.06,535.88 203.13,546.68 201.22,555.87 \" fill=\"none\" id=\"E10&lt;-E6\" style=\"stroke: #A80036; stroke-width: 1.0;\"/><polygon fill=\"#FFFFFF\" points=\"201.97,479.31,199.1398,485.9425,204.1735,491.106,207.0037,484.4735,201.97,479.31\" style=\"stroke: #A80036; stroke-width: 1.0;\"/><text fill=\"#000000\" font-family=\"sans-serif\" font-size=\"13\" lengthAdjust=\"spacingAndGlyphs\" textLength=\"7\" x=\"207\" y=\"522.0669\">y</text></a><!--MD5=[604cbf994c02b74b117f728a71673cea]\n",
       "reverse link E10 to E6--><a href=\"psysml:e24d69b8-a494-4022-9892-35ed42c85155\" target=\"_top\" title=\"psysml:e24d69b8-a494-4022-9892-35ed42c85155\" xlink:actuate=\"onRequest\" xlink:href=\"psysml:e24d69b8-a494-4022-9892-35ed42c85155\" xlink:show=\"new\" xlink:title=\"psysml:e24d69b8-a494-4022-9892-35ed42c85155\" xlink:type=\"simple\"><path d=\"M160.04,488.87 C155.13,495.03 150.81,501.82 148,509 C141.3,526.12 152.83,543.11 166.26,555.94 \" fill=\"none\" id=\"E10&lt;-E6-1\" style=\"stroke: #A80036; stroke-width: 1.0;\"/><polygon fill=\"#FFFFFF\" points=\"168.73,479.16,161.7505,480.973,160.7396,488.1129,167.7191,486.2999,168.73,479.16\" style=\"stroke: #A80036; stroke-width: 1.0;\"/><text fill=\"#000000\" font-family=\"sans-serif\" font-size=\"13\" lengthAdjust=\"spacingAndGlyphs\" textLength=\"7\" x=\"149\" y=\"522.0669\">y</text></a><!--MD5=[604cbf994c02b74b117f728a71673cea]\n",
       "reverse link E10 to E6--><a href=\"psysml:e24d69b8-a494-4022-9892-35ed42c85155\" target=\"_top\" title=\"psysml:e24d69b8-a494-4022-9892-35ed42c85155\" xlink:actuate=\"onRequest\" xlink:href=\"psysml:e24d69b8-a494-4022-9892-35ed42c85155\" xlink:show=\"new\" xlink:title=\"psysml:e24d69b8-a494-4022-9892-35ed42c85155\" xlink:type=\"simple\"><path d=\"M196,492.22 C196,512.81 196,538.16 196,555.95 \" fill=\"none\" id=\"E10&lt;-E6-2\" style=\"stroke: #A80036; stroke-width: 1.0;\"/><polygon fill=\"#FFFFFF\" points=\"196,479.19,192,485.19,196,491.19,200,485.19,196,479.19\" style=\"stroke: #A80036; stroke-width: 1.0;\"/><text fill=\"#000000\" font-family=\"sans-serif\" font-size=\"13\" lengthAdjust=\"spacingAndGlyphs\" textLength=\"7\" x=\"197\" y=\"522.0669\">y</text></a><!--MD5=[d6f772c69341327e4b401ef1f8947620]\n",
       "@startuml\r\n",
       "skinparam wrapWidth 300\r\n",
       "hide circle\r\n",
       "\r\n",
       "package \"PartTest\" as E1  [[psysml:a6b62677-d27b-4bf3-83e0-375e3ba01a4b ]]  {\r\n",
       "comp usage \"f: A\" as E2  <<(T,blue) part>> [[psysml:fef66b5f-1b9d-421e-94fe-86858427a029 ]] {\r\n",
       "}\r\n",
       "comp def \"A\" as E3  <<(T,blue) part def>> [[psysml:a2cad1be-c52d-4964-a87e-891cd7289f52 ]] {\r\n",
       "x\r\n",
       "y\r\n",
       "}\r\n",
       "comp usage \"b: B\" as E4  <<(T,blue) part>> [[psysml:9dcf2186-613a-4b96-912f-a1b95f354387 ]] {\r\n",
       "}\r\n",
       "comp usage \"c: C\" as E5  <<(T,blue) port>> [[psysml:a3147892-19dd-4d4c-8f64-71e53da800dc ]] {\r\n",
       "}\r\n",
       "comp def \"B\" as E6  <<(T,blue) part def>> [[psysml:bbb3af71-bfb9-47e2-863f-33482c8ff081 ]] {\r\n",
       "}\r\n",
       "comp usage \"a: A\" as E7  <<(T,blue) part>> [[psysml:c128dc79-fecf-4cdb-b1ba-5850a9b121ec ]] {\r\n",
       "}\r\n",
       "comp usage \"x: ~C\" as E8  <<(T,blue) port>> [[psysml:540f6402-e62e-4ea3-b051-5d5cf5bfcb38 ]] {\r\n",
       "}\r\n",
       "package \"P\" as E9  [[psysml:f4e4ee2b-1abf-4dbd-8483-2b091bdfceaf ]]  {\r\n",
       "}\r\n",
       "comp def \"C\" as E10  <<(T,blue) port def>> [[psysml:a92372c2-fe41-425f-b40c-da5b8c1ca15d ]] {\r\n",
       "}\r\n",
       "}\r\n",
       "E2 - -:|> E3 [[psysml:488f6ee0-39a9-4dc0-b555-612cc99c37a1 ]] \r\n",
       "E3 *- - \"1\"E4 [[psysml:98712745-a638-4d1f-8ffc-380c342569c9 ]] \r\n",
       "E3 o- - \"1\"E5 [[psysml:3d3c789c-d512-4565-8d7c-059f8d1010f8 ]] \r\n",
       "E4 - -:|> E6 [[psysml:1225703b-924d-44f0-aa92-4bca49ced0c9 ]] \r\n",
       "E6 *- - \"1\"E7 [[psysml:a81e6d2d-a633-4d51-820c-a47602c519dd ]] \r\n",
       "E7 - -:|> E3 [[psysml:4883cacd-6695-4e4a-8cc2-3609b81ec9a9 ]] \r\n",
       "E6 o- - \"1\"E8 [[psysml:2d844c43-a52c-43bf-b052-a300acb2bf74 ]] \r\n",
       "E6 +- - E9 [[psysml:5153bd7e-9106-496d-98a6-0d3fae0d20a5 ]] \r\n",
       "E5 - -:|> E10 [[psysml:63374559-c2a0-4cf8-92a3-b39a3ed3eac1 ]] \r\n",
       "E10 o- - E3 [[psysml:e24d69b8-a494-4022-9892-35ed42c85155 ]] : y\r\n",
       "E10 o- - E6 [[psysml:e24d69b8-a494-4022-9892-35ed42c85155 ]] : y\r\n",
       "E10 o- - E3 [[psysml:e24d69b8-a494-4022-9892-35ed42c85155 ]] : y\r\n",
       "E10 o- - E6 [[psysml:e24d69b8-a494-4022-9892-35ed42c85155 ]] : y\r\n",
       "E10 o- - E3 [[psysml:e24d69b8-a494-4022-9892-35ed42c85155 ]] : y\r\n",
       "E10 o- - E6 [[psysml:e24d69b8-a494-4022-9892-35ed42c85155 ]] : y\r\n",
       "@enduml\r\n",
       "\n",
       "PlantUML version 1.2020.13(Sat Jun 13 12:26:38 UTC 2020)\n",
       "(EPL source distribution)\n",
       "Java Runtime: OpenJDK Runtime Environment\n",
       "JVM: OpenJDK 64-Bit Server VM\n",
       "Default Encoding: UTF-8\n",
       "Language: en\n",
       "Country: null\n",
       "--></g></svg>"
      ]
     },
     "execution_count": 24,
     "metadata": {},
     "output_type": "execute_result"
    }
   ],
   "source": [
    "%viz --style=\"STDCOLOR\" --view=\"Tree\" \"PartTest\""
   ]
  },
  {
   "cell_type": "code",
   "execution_count": 25,
   "id": "0fd40cd2",
   "metadata": {
    "execution": {
     "iopub.execute_input": "2021-10-03T08:29:53.807851Z",
     "iopub.status.busy": "2021-10-03T08:29:53.807415Z",
     "iopub.status.idle": "2021-10-03T08:29:53.811173Z",
     "shell.execute_reply": "2021-10-03T08:29:53.810812Z"
    }
   },
   "outputs": [
    {
     "data": {
      "image/svg+xml": [
       "<?xml version=\"1.0\" encoding=\"UTF-8\" standalone=\"no\"?><svg xmlns=\"http://www.w3.org/2000/svg\" xmlns:xlink=\"http://www.w3.org/1999/xlink\" contentScriptType=\"application/ecmascript\" contentStyleType=\"text/css\" height=\"12px\" preserveAspectRatio=\"none\" style=\"width:12px;height:12px;\" version=\"1.1\" viewBox=\"0 0 12 12\" width=\"12px\" zoomAndPan=\"magnify\"><defs/><g><!--MD5=[aeeef50f102b80d730deb6443d14f702]\n",
       "@startuml\r\n",
       "skinparam wrapWidth 300\r\n",
       "hide circle\r\n",
       "\r\n",
       "@enduml\r\n",
       "\n",
       "PlantUML version 1.2020.13(Sat Jun 13 12:26:38 UTC 2020)\n",
       "(EPL source distribution)\n",
       "Java Runtime: OpenJDK Runtime Environment\n",
       "JVM: OpenJDK 64-Bit Server VM\n",
       "Default Encoding: UTF-8\n",
       "Language: en\n",
       "Country: null\n",
       "--></g></svg>"
      ]
     },
     "execution_count": 25,
     "metadata": {},
     "output_type": "execute_result"
    }
   ],
   "source": [
    "%viz --style=\"STDCOLOR\" --view=\"State\" \"PartTest\""
   ]
  },
  {
   "cell_type": "code",
   "execution_count": 26,
   "id": "9eaf788f",
   "metadata": {
    "execution": {
     "iopub.execute_input": "2021-10-03T08:29:53.860404Z",
     "iopub.status.busy": "2021-10-03T08:29:53.859986Z",
     "iopub.status.idle": "2021-10-03T08:29:53.897490Z",
     "shell.execute_reply": "2021-10-03T08:29:53.897128Z"
    }
   },
   "outputs": [
    {
     "data": {
      "image/svg+xml": [
       "<?xml version=\"1.0\" encoding=\"UTF-8\" standalone=\"no\"?><svg xmlns=\"http://www.w3.org/2000/svg\" xmlns:xlink=\"http://www.w3.org/1999/xlink\" contentScriptType=\"application/ecmascript\" contentStyleType=\"text/css\" height=\"253px\" preserveAspectRatio=\"none\" style=\"width:674px;height:253px;\" version=\"1.1\" viewBox=\"0 0 674 253\" width=\"674px\" zoomAndPan=\"magnify\"><defs><filter height=\"300%\" id=\"f41yfmg63kj4l\" width=\"300%\" x=\"-1\" y=\"-1\"><feGaussianBlur result=\"blurOut\" stdDeviation=\"2.0\"/><feColorMatrix in=\"blurOut\" result=\"blurOut2\" type=\"matrix\" values=\"0 0 0 0 0 0 0 0 0 0 0 0 0 0 0 0 0 0 .4 0\"/><feOffset dx=\"4.0\" dy=\"4.0\" in=\"blurOut2\" result=\"blurOut3\"/><feBlend in=\"SourceGraphic\" in2=\"blurOut3\" mode=\"normal\"/></filter></defs><g><!--MD5=[fbc87193dbaf4d95561dea2c320d4a47]\n",
       "cluster E1--><a href=\"psysml:a6b62677-d27b-4bf3-83e0-375e3ba01a4b\" target=\"_top\" title=\"psysml:a6b62677-d27b-4bf3-83e0-375e3ba01a4b\" xlink:actuate=\"onRequest\" xlink:href=\"psysml:a6b62677-d27b-4bf3-83e0-375e3ba01a4b\" xlink:show=\"new\" xlink:title=\"psysml:a6b62677-d27b-4bf3-83e0-375e3ba01a4b\" xlink:type=\"simple\"><polygon fill=\"#FFFFFF\" filter=\"url(#f41yfmg63kj4l)\" points=\"16,6,80,6,87,28.2969,652,28.2969,652,241,16,241,16,6\" style=\"stroke: #000000; stroke-width: 1.5;\"/><line style=\"stroke: #000000; stroke-width: 1.5;\" x1=\"16\" x2=\"87\" y1=\"28.2969\" y2=\"28.2969\"/><text fill=\"#000000\" font-family=\"sans-serif\" font-size=\"14\" font-weight=\"bold\" lengthAdjust=\"spacingAndGlyphs\" textLength=\"58\" x=\"20\" y=\"20.9951\">PartTest</text></a><!--MD5=[d5e69f78d87373223dbae638b30a9c99]\n",
       "cluster E3--><a href=\"psysml:a2cad1be-c52d-4964-a87e-891cd7289f52\" target=\"_top\" title=\"psysml:a2cad1be-c52d-4964-a87e-891cd7289f52\" xlink:actuate=\"onRequest\" xlink:href=\"psysml:a2cad1be-c52d-4964-a87e-891cd7289f52\" xlink:show=\"new\" xlink:title=\"psysml:a2cad1be-c52d-4964-a87e-891cd7289f52\" xlink:type=\"simple\"><rect fill=\"#FFFFFF\" filter=\"url(#f41yfmg63kj4l)\" height=\"159\" id=\"E3\" style=\"stroke: #A80036; stroke-width: 1.5;\" width=\"226\" x=\"410\" y=\"62.5\"/><rect fill=\"#FEFECE\" height=\"37.9375\" style=\"stroke: #A80036; stroke-width: 1.5;\" width=\"226\" x=\"410\" y=\"62.5\"/><text fill=\"#000000\" font-family=\"sans-serif\" font-size=\"12\" font-style=\"italic\" lengthAdjust=\"spacingAndGlyphs\" textLength=\"64\" x=\"491\" y=\"78.6387\">«part def»</text><text fill=\"#000000\" font-family=\"sans-serif\" font-size=\"12\" lengthAdjust=\"spacingAndGlyphs\" textLength=\"8\" x=\"519\" y=\"92.6074\">A</text></a><!--MD5=[55dfccfc6c49c2d10cd1bd2211a6c90c]\n",
       "cluster E8--><a href=\"psysml:bbb3af71-bfb9-47e2-863f-33482c8ff081\" target=\"_top\" title=\"psysml:bbb3af71-bfb9-47e2-863f-33482c8ff081\" xlink:actuate=\"onRequest\" xlink:href=\"psysml:bbb3af71-bfb9-47e2-863f-33482c8ff081\" xlink:show=\"new\" xlink:title=\"psysml:bbb3af71-bfb9-47e2-863f-33482c8ff081\" xlink:type=\"simple\"><rect fill=\"#FFFFFF\" filter=\"url(#f41yfmg63kj4l)\" height=\"162.5\" id=\"E8\" style=\"stroke: #A80036; stroke-width: 1.5;\" width=\"205\" x=\"197\" y=\"62.5\"/><rect fill=\"#FEFECE\" height=\"37.9375\" style=\"stroke: #A80036; stroke-width: 1.5;\" width=\"205\" x=\"197\" y=\"62.5\"/><text fill=\"#000000\" font-family=\"sans-serif\" font-size=\"12\" font-style=\"italic\" lengthAdjust=\"spacingAndGlyphs\" textLength=\"64\" x=\"267.5\" y=\"78.6387\">«part def»</text><text fill=\"#000000\" font-family=\"sans-serif\" font-size=\"12\" lengthAdjust=\"spacingAndGlyphs\" textLength=\"8\" x=\"295.5\" y=\"92.6074\">B</text></a><g id=\"E1.E12\"><a href=\"psysml:a92372c2-fe41-425f-b40c-da5b8c1ca15d\" target=\"_top\" title=\"psysml:a92372c2-fe41-425f-b40c-da5b8c1ca15d\" xlink:actuate=\"onRequest\" xlink:href=\"psysml:a92372c2-fe41-425f-b40c-da5b8c1ca15d\" xlink:show=\"new\" xlink:title=\"psysml:a92372c2-fe41-425f-b40c-da5b8c1ca15d\" xlink:type=\"simple\"><rect fill=\"#FEFECE\" filter=\"url(#f41yfmg63kj4l)\" height=\"42.9375\" id=\"E12\" style=\"stroke: #A80036; stroke-width: 1.5;\" width=\"71\" x=\"117.5\" y=\"41\"/><text fill=\"#000000\" font-family=\"sans-serif\" font-size=\"12\" font-style=\"italic\" lengthAdjust=\"spacingAndGlyphs\" textLength=\"64\" x=\"121\" y=\"57.1387\">«port def»</text><text fill=\"#000000\" font-family=\"sans-serif\" font-size=\"12\" lengthAdjust=\"spacingAndGlyphs\" textLength=\"8\" x=\"149\" y=\"71.1074\">C</text></a></g><g id=\"E1.E2\"><a href=\"psysml:fef66b5f-1b9d-421e-94fe-86858427a029\" target=\"_top\" title=\"psysml:fef66b5f-1b9d-421e-94fe-86858427a029\" xlink:actuate=\"onRequest\" xlink:href=\"psysml:fef66b5f-1b9d-421e-94fe-86858427a029\" xlink:show=\"new\" xlink:title=\"psysml:fef66b5f-1b9d-421e-94fe-86858427a029\" xlink:type=\"simple\"><rect fill=\"#FEFECE\" filter=\"url(#f41yfmg63kj4l)\" height=\"40\" id=\"E2\" rx=\"10\" ry=\"10\" style=\"stroke: #A80036; stroke-width: 1.5;\" width=\"50\" x=\"32\" y=\"42.5\"/><text fill=\"#000000\" font-family=\"sans-serif\" font-size=\"12\" lengthAdjust=\"spacingAndGlyphs\" textLength=\"20\" x=\"47\" y=\"58.6387\">f: A</text></a></g><text fill=\"#000000\" font-family=\"sans-serif\" font-size=\"14\" lengthAdjust=\"spacingAndGlyphs\" textLength=\"27\" x=\"562.5\" y=\"41.1982\">c: C</text><rect fill=\"#A80036\" height=\"12\" style=\"stroke: #FEFECE; stroke-width: 1.5;\" width=\"12\" x=\"570\" y=\"56.5\"/><!--MD5=[60a26617385b1d2d0262a64233df1f8d]\n",
       "class E6--><a href=\"psysml:4215315b-f4db-4a1d-ab72-0471726dcc45\" target=\"_top\" title=\"psysml:4215315b-f4db-4a1d-ab72-0471726dcc45\" xlink:actuate=\"onRequest\" xlink:href=\"psysml:4215315b-f4db-4a1d-ab72-0471726dcc45\" xlink:show=\"new\" xlink:title=\"psysml:4215315b-f4db-4a1d-ab72-0471726dcc45\" xlink:type=\"simple\"><rect fill=\"#FEFECE\" filter=\"url(#f41yfmg63kj4l)\" height=\"45.9375\" id=\"E6\" rx=\"10\" ry=\"10\" style=\"stroke: #A80036; stroke-width: 1.5;\" width=\"71\" x=\"426.5\" y=\"159.5\"/><text fill=\"#000000\" font-family=\"sans-serif\" font-size=\"12\" font-style=\"italic\" lengthAdjust=\"spacingAndGlyphs\" textLength=\"69\" x=\"427.5\" y=\"175.6387\">«attribute»</text><text fill=\"#000000\" font-family=\"sans-serif\" font-size=\"12\" lengthAdjust=\"spacingAndGlyphs\" textLength=\"6\" x=\"459\" y=\"189.6074\">x</text><line style=\"stroke: #A80036; stroke-width: 1.5;\" x1=\"427.5\" x2=\"496.5\" y1=\"197.4375\" y2=\"197.4375\"/></a><!--MD5=[2156ba9850f5573cc1fc38a6a4b2f02b]\n",
       "class E7--><a href=\"psysml:89a85a0a-005f-45e8-8309-6769d170c6df\" target=\"_top\" title=\"psysml:89a85a0a-005f-45e8-8309-6769d170c6df\" xlink:actuate=\"onRequest\" xlink:href=\"psysml:89a85a0a-005f-45e8-8309-6769d170c6df\" xlink:show=\"new\" xlink:title=\"psysml:89a85a0a-005f-45e8-8309-6769d170c6df\" xlink:type=\"simple\"><rect fill=\"#FEFECE\" filter=\"url(#f41yfmg63kj4l)\" height=\"45.9375\" id=\"E7\" rx=\"10\" ry=\"10\" style=\"stroke: #A80036; stroke-width: 1.5;\" width=\"71\" x=\"426.5\" y=\"100\"/><text fill=\"#000000\" font-family=\"sans-serif\" font-size=\"12\" font-style=\"italic\" lengthAdjust=\"spacingAndGlyphs\" textLength=\"69\" x=\"427.5\" y=\"116.1387\">«attribute»</text><text fill=\"#000000\" font-family=\"sans-serif\" font-size=\"12\" lengthAdjust=\"spacingAndGlyphs\" textLength=\"6\" x=\"459\" y=\"130.1074\">y</text><line style=\"stroke: #A80036; stroke-width: 1.5;\" x1=\"427.5\" x2=\"496.5\" y1=\"137.9375\" y2=\"137.9375\"/></a><g id=\"E1.E3.E4\"><a href=\"psysml:9dcf2186-613a-4b96-912f-a1b95f354387\" target=\"_top\" title=\"psysml:9dcf2186-613a-4b96-912f-a1b95f354387\" xlink:actuate=\"onRequest\" xlink:href=\"psysml:9dcf2186-613a-4b96-912f-a1b95f354387\" xlink:show=\"new\" xlink:title=\"psysml:9dcf2186-613a-4b96-912f-a1b95f354387\" xlink:type=\"simple\"><rect fill=\"#FEFECE\" filter=\"url(#f41yfmg63kj4l)\" height=\"40\" id=\"E4\" rx=\"10\" ry=\"10\" style=\"stroke: #A80036; stroke-width: 1.5;\" width=\"50\" x=\"551\" y=\"162.5\"/><text fill=\"#000000\" font-family=\"sans-serif\" font-size=\"12\" lengthAdjust=\"spacingAndGlyphs\" textLength=\"24\" x=\"564\" y=\"178.6387\">b: B</text></a></g><text fill=\"#000000\" font-family=\"sans-serif\" font-size=\"14\" lengthAdjust=\"spacingAndGlyphs\" textLength=\"38\" x=\"323\" y=\"41.1982\">x: ~C</text><rect fill=\"#A80036\" height=\"12\" style=\"stroke: #FEFECE; stroke-width: 1.5;\" width=\"12\" x=\"336\" y=\"56.5\"/><g id=\"E1.E8.E9\"><a href=\"psysml:c128dc79-fecf-4cdb-b1ba-5850a9b121ec\" target=\"_top\" title=\"psysml:c128dc79-fecf-4cdb-b1ba-5850a9b121ec\" xlink:actuate=\"onRequest\" xlink:href=\"psysml:c128dc79-fecf-4cdb-b1ba-5850a9b121ec\" xlink:show=\"new\" xlink:title=\"psysml:c128dc79-fecf-4cdb-b1ba-5850a9b121ec\" xlink:type=\"simple\"><rect fill=\"#FEFECE\" filter=\"url(#f41yfmg63kj4l)\" height=\"40\" id=\"E9\" rx=\"10\" ry=\"10\" style=\"stroke: #A80036; stroke-width: 1.5;\" width=\"50\" x=\"213\" y=\"103\"/><text fill=\"#000000\" font-family=\"sans-serif\" font-size=\"12\" lengthAdjust=\"spacingAndGlyphs\" textLength=\"24\" x=\"226\" y=\"119.1387\">a: A</text></a></g><a href=\"psysml:f4e4ee2b-1abf-4dbd-8483-2b091bdfceaf\" target=\"_top\" title=\"psysml:f4e4ee2b-1abf-4dbd-8483-2b091bdfceaf\" xlink:actuate=\"onRequest\" xlink:href=\"psysml:f4e4ee2b-1abf-4dbd-8483-2b091bdfceaf\" xlink:show=\"new\" xlink:title=\"psysml:f4e4ee2b-1abf-4dbd-8483-2b091bdfceaf\" xlink:type=\"simple\"><polygon fill=\"#FFFFFF\" filter=\"url(#f41yfmg63kj4l)\" points=\"327.5,156,342.5,156,349.5,178.2969,356.5,178.2969,356.5,208.5938,327.5,208.5938,327.5,156\" style=\"stroke: #000000; stroke-width: 1.5;\"/><line style=\"stroke: #000000; stroke-width: 1.5;\" x1=\"327.5\" x2=\"349.5\" y1=\"178.2969\" y2=\"178.2969\"/><text fill=\"#000000\" font-family=\"sans-serif\" font-size=\"14\" font-weight=\"bold\" lengthAdjust=\"spacingAndGlyphs\" textLength=\"9\" x=\"331.5\" y=\"170.9951\">P</text></a><!--MD5=[fbb449814971db3a0b8220cf225b9e01]\n",
       "link E7 to E6--><a href=\"psysml:786244db-8099-4288-b2d9-7a0aeaae101d\" target=\"_top\" title=\"psysml:786244db-8099-4288-b2d9-7a0aeaae101d\" xlink:actuate=\"onRequest\" xlink:href=\"psysml:786244db-8099-4288-b2d9-7a0aeaae101d\" xlink:show=\"new\" xlink:title=\"psysml:786244db-8099-4288-b2d9-7a0aeaae101d\" xlink:type=\"simple\"><path d=\"M462,146.07 C462,146.2 462,146.34 462,146.47 \" fill=\"none\" id=\"E7-&gt;E6\" style=\"stroke: #A80036; stroke-width: 1.0;\"/><polygon fill=\"none\" points=\"469,139.21,462,159.21,455,139.21,469,139.21\" style=\"stroke: #A80036; stroke-width: 1.0;\"/></a><!--MD5=[5a717462a76ec23ae93e5e9e533bec4d]\n",
       "@startuml\r\n",
       "skinparam ranksep 10\r\n",
       "skinparam rectangle {\r\n",
       " backgroundColor<<block>> LightGreen\r\n",
       "}\r\n",
       "skinparam wrapWidth 300\r\n",
       "hide circle\r\n",
       "\r\n",
       "package \"PartTest\" as E1  [[psysml:a6b62677-d27b-4bf3-83e0-375e3ba01a4b ]]  {\r\n",
       "rec usage \"f: A\" as E2  [[psysml:fef66b5f-1b9d-421e-94fe-86858427a029 ]] {\r\n",
       "}\r\n",
       "rec def \"A\" as E3  <<(T,blue) part def>> [[psysml:a2cad1be-c52d-4964-a87e-891cd7289f52 ]] {\r\n",
       "rec usage \"b: B\" as E4  [[psysml:9dcf2186-613a-4b96-912f-a1b95f354387 ]] {\r\n",
       "}\r\n",
       "portin \"c: C\" as E5  <<(T,blue) port>> [[psysml:a3147892-19dd-4d4c-8f64-71e53da800dc ]] \r\n",
       "comp usage \"x\" as E6  <<(T,blue) attribute>> [[psysml:4215315b-f4db-4a1d-ab72-0471726dcc45 ]] {\r\n",
       "}\r\n",
       "comp usage \"y\" as E7  <<(T,blue) attribute>> [[psysml:89a85a0a-005f-45e8-8309-6769d170c6df ]] {\r\n",
       "}\r\n",
       "}\r\n",
       "rec def \"B\" as E8  <<(T,blue) part def>> [[psysml:bbb3af71-bfb9-47e2-863f-33482c8ff081 ]] {\r\n",
       "rec usage \"a: A\" as E9  [[psysml:c128dc79-fecf-4cdb-b1ba-5850a9b121ec ]] {\r\n",
       "}\r\n",
       "portin \"x: ~C\" as E10  <<(T,blue) port>> [[psysml:540f6402-e62e-4ea3-b051-5d5cf5bfcb38 ]] \r\n",
       "package \"P\" as E11  [[psysml:f4e4ee2b-1abf-4dbd-8483-2b091bdfceaf ]]  {\r\n",
       "}\r\n",
       "}\r\n",
       "def \"C\" as E12  <<(T,blue) port def>> [[psysml:a92372c2-fe41-425f-b40c-da5b8c1ca15d ]] \r\n",
       "}\r\n",
       "E7 - -|> E6 [[psysml:786244db-8099-4288-b2d9-7a0aeaae101d ]] \r\n",
       "@enduml\r\n",
       "\n",
       "PlantUML version 1.2020.13(Sat Jun 13 12:26:38 UTC 2020)\n",
       "(EPL source distribution)\n",
       "Java Runtime: OpenJDK Runtime Environment\n",
       "JVM: OpenJDK 64-Bit Server VM\n",
       "Default Encoding: UTF-8\n",
       "Language: en\n",
       "Country: null\n",
       "--></g></svg>"
      ]
     },
     "execution_count": 26,
     "metadata": {},
     "output_type": "execute_result"
    }
   ],
   "source": [
    "%viz --style=\"STDCOLOR\" --view=\"Interconnection\" \"PartTest\""
   ]
  },
  {
   "cell_type": "code",
   "execution_count": 27,
   "id": "72332c88",
   "metadata": {
    "execution": {
     "iopub.execute_input": "2021-10-03T08:29:53.946739Z",
     "iopub.status.busy": "2021-10-03T08:29:53.946337Z",
     "iopub.status.idle": "2021-10-03T08:29:53.950918Z",
     "shell.execute_reply": "2021-10-03T08:29:53.951235Z"
    }
   },
   "outputs": [
    {
     "data": {
      "image/svg+xml": [
       "<?xml version=\"1.0\" encoding=\"UTF-8\" standalone=\"no\"?><svg xmlns=\"http://www.w3.org/2000/svg\" xmlns:xlink=\"http://www.w3.org/1999/xlink\" contentScriptType=\"application/ecmascript\" contentStyleType=\"text/css\" height=\"12px\" preserveAspectRatio=\"none\" style=\"width:12px;height:12px;\" version=\"1.1\" viewBox=\"0 0 12 12\" width=\"12px\" zoomAndPan=\"magnify\"><defs/><g><!--MD5=[9863325348a96a77dacc89509d8ee65e]\n",
       "@startuml\r\n",
       "skinparam ranksep 8\r\n",
       "skinparam wrapWidth 300\r\n",
       "hide circle\r\n",
       "\r\n",
       "@enduml\r\n",
       "\n",
       "PlantUML version 1.2020.13(Sat Jun 13 12:26:38 UTC 2020)\n",
       "(EPL source distribution)\n",
       "Java Runtime: OpenJDK Runtime Environment\n",
       "JVM: OpenJDK 64-Bit Server VM\n",
       "Default Encoding: UTF-8\n",
       "Language: en\n",
       "Country: null\n",
       "--></g></svg>"
      ]
     },
     "execution_count": 27,
     "metadata": {},
     "output_type": "execute_result"
    }
   ],
   "source": [
    "%viz --style=\"STDCOLOR\" --view=\"Action\" \"PartTest\""
   ]
  },
  {
   "cell_type": "code",
   "execution_count": 28,
   "id": "301f28fb",
   "metadata": {
    "execution": {
     "iopub.execute_input": "2021-10-03T08:29:54.000840Z",
     "iopub.status.busy": "2021-10-03T08:29:54.000444Z",
     "iopub.status.idle": "2021-10-03T08:29:54.006146Z",
     "shell.execute_reply": "2021-10-03T08:29:54.005669Z"
    }
   },
   "outputs": [
    {
     "data": {
      "image/svg+xml": [
       "<?xml version=\"1.0\" encoding=\"UTF-8\" standalone=\"no\"?><svg xmlns=\"http://www.w3.org/2000/svg\" xmlns:xlink=\"http://www.w3.org/1999/xlink\" contentScriptType=\"application/ecmascript\" contentStyleType=\"text/css\" height=\"12px\" preserveAspectRatio=\"none\" style=\"width:12px;height:12px;\" version=\"1.1\" viewBox=\"0 0 12 12\" width=\"12px\" zoomAndPan=\"magnify\"><defs/><g><!--MD5=[6c4bca67b4d71758159a5a7f1f1e1fc2]\n",
       "@startuml\r\n",
       "skinparam roundcorner 20\r\n",
       "skinparam BoxPadding 20\r\n",
       "skinparam SequenceBoxBackgroundColor #white\r\n",
       "skinparam style strictuml\r\n",
       "skinparam maxMessageSize 100\r\n",
       "skinparam wrapWidth 300\r\n",
       "hide circle\r\n",
       "\r\n",
       "@enduml\r\n",
       "\n",
       "PlantUML version 1.2020.13(Sat Jun 13 12:26:38 UTC 2020)\n",
       "(EPL source distribution)\n",
       "Java Runtime: OpenJDK Runtime Environment\n",
       "JVM: OpenJDK 64-Bit Server VM\n",
       "Default Encoding: UTF-8\n",
       "Language: en\n",
       "Country: null\n",
       "--></g></svg>"
      ]
     },
     "execution_count": 28,
     "metadata": {},
     "output_type": "execute_result"
    }
   ],
   "source": [
    "%viz --style=\"STDCOLOR\" --view=\"Sequence\" \"PartTest\""
   ]
  },
  {
   "cell_type": "code",
   "execution_count": 29,
   "id": "35f25261",
   "metadata": {
    "execution": {
     "iopub.execute_input": "2021-10-03T08:29:54.055029Z",
     "iopub.status.busy": "2021-10-03T08:29:54.054615Z",
     "iopub.status.idle": "2021-10-03T08:29:54.104942Z",
     "shell.execute_reply": "2021-10-03T08:29:54.104446Z"
    }
   },
   "outputs": [
    {
     "data": {
      "image/svg+xml": [
       "<?xml version=\"1.0\" encoding=\"UTF-8\" standalone=\"no\"?><svg xmlns=\"http://www.w3.org/2000/svg\" xmlns:xlink=\"http://www.w3.org/1999/xlink\" contentScriptType=\"application/ecmascript\" contentStyleType=\"text/css\" height=\"744px\" preserveAspectRatio=\"none\" style=\"width:423px;height:744px;\" version=\"1.1\" viewBox=\"0 0 423 744\" width=\"423px\" zoomAndPan=\"magnify\"><defs><filter height=\"300%\" id=\"fsdrqaxbpi5om\" width=\"300%\" x=\"-1\" y=\"-1\"><feGaussianBlur result=\"blurOut\" stdDeviation=\"2.0\"/><feColorMatrix in=\"blurOut\" result=\"blurOut2\" type=\"matrix\" values=\"0 0 0 0 0 0 0 0 0 0 0 0 0 0 0 0 0 0 .4 0\"/><feOffset dx=\"4.0\" dy=\"4.0\" in=\"blurOut2\" result=\"blurOut3\"/><feBlend in=\"SourceGraphic\" in2=\"blurOut3\" mode=\"normal\"/></filter></defs><g><!--MD5=[fbc87193dbaf4d95561dea2c320d4a47]\n",
       "cluster E1--><a href=\"psysml:a6b62677-d27b-4bf3-83e0-375e3ba01a4b\" target=\"_top\" title=\"psysml:a6b62677-d27b-4bf3-83e0-375e3ba01a4b\" xlink:actuate=\"onRequest\" xlink:href=\"psysml:a6b62677-d27b-4bf3-83e0-375e3ba01a4b\" xlink:show=\"new\" xlink:title=\"psysml:a6b62677-d27b-4bf3-83e0-375e3ba01a4b\" xlink:type=\"simple\"><polygon fill=\"#FFFFFF\" filter=\"url(#fsdrqaxbpi5om)\" points=\"16,6,80,6,87,28.2969,401,28.2969,401,732,16,732,16,6\" style=\"stroke: #000000; stroke-width: 1.5;\"/><line style=\"stroke: #000000; stroke-width: 1.5;\" x1=\"16\" x2=\"87\" y1=\"28.2969\" y2=\"28.2969\"/><text fill=\"#000000\" font-family=\"sans-serif\" font-size=\"14\" font-weight=\"bold\" lengthAdjust=\"spacingAndGlyphs\" textLength=\"58\" x=\"20\" y=\"20.9951\">PartTest</text></a><!--MD5=[b4997ac47864f28c2f74865a473b2911]\n",
       "class E2--><a href=\"psysml:fef66b5f-1b9d-421e-94fe-86858427a029\" target=\"_top\" title=\"psysml:fef66b5f-1b9d-421e-94fe-86858427a029\" xlink:actuate=\"onRequest\" xlink:href=\"psysml:fef66b5f-1b9d-421e-94fe-86858427a029\" xlink:show=\"new\" xlink:title=\"psysml:fef66b5f-1b9d-421e-94fe-86858427a029\" xlink:type=\"simple\"><rect fill=\"#FEFECE\" filter=\"url(#fsdrqaxbpi5om)\" height=\"45.9375\" id=\"E2\" rx=\"10\" ry=\"10\" style=\"stroke: #A80036; stroke-width: 1.5;\" width=\"42\" x=\"201\" y=\"41\"/><text fill=\"#000000\" font-family=\"sans-serif\" font-size=\"12\" font-style=\"italic\" lengthAdjust=\"spacingAndGlyphs\" textLength=\"40\" x=\"202\" y=\"57.1387\">«part»</text><text fill=\"#000000\" font-family=\"sans-serif\" font-size=\"12\" lengthAdjust=\"spacingAndGlyphs\" textLength=\"20\" x=\"212\" y=\"71.1074\">f: A</text><line style=\"stroke: #A80036; stroke-width: 1.5;\" x1=\"202\" x2=\"242\" y1=\"78.9375\" y2=\"78.9375\"/></a><!--MD5=[09b614a08d8cba4a07c9adeb5e0fee81]\n",
       "class E3--><a href=\"psysml:a2cad1be-c52d-4964-a87e-891cd7289f52\" target=\"_top\" title=\"psysml:a2cad1be-c52d-4964-a87e-891cd7289f52\" xlink:actuate=\"onRequest\" xlink:href=\"psysml:a2cad1be-c52d-4964-a87e-891cd7289f52\" xlink:show=\"new\" xlink:title=\"psysml:a2cad1be-c52d-4964-a87e-891cd7289f52\" xlink:type=\"simple\"><rect fill=\"#FEFECE\" filter=\"url(#fsdrqaxbpi5om)\" height=\"71.5469\" id=\"E3\" style=\"stroke: #A80036; stroke-width: 1.5;\" width=\"66\" x=\"189\" y=\"148\"/><text fill=\"#000000\" font-family=\"sans-serif\" font-size=\"12\" font-style=\"italic\" lengthAdjust=\"spacingAndGlyphs\" textLength=\"64\" x=\"190\" y=\"164.1387\">«part def»</text><text fill=\"#000000\" font-family=\"sans-serif\" font-size=\"12\" lengthAdjust=\"spacingAndGlyphs\" textLength=\"8\" x=\"218\" y=\"178.1074\">A</text><line style=\"stroke: #A80036; stroke-width: 1.5;\" x1=\"190\" x2=\"254\" y1=\"185.9375\" y2=\"185.9375\"/><text fill=\"#000000\" font-family=\"sans-serif\" font-size=\"11\" lengthAdjust=\"spacingAndGlyphs\" textLength=\"6\" x=\"195\" y=\"200.1479\">x</text><text fill=\"#000000\" font-family=\"sans-serif\" font-size=\"11\" lengthAdjust=\"spacingAndGlyphs\" textLength=\"6\" x=\"195\" y=\"212.9526\">y</text></a><!--MD5=[ebbe1d658d1005bcc118a6aa81145e00]\n",
       "class E4--><a href=\"psysml:9dcf2186-613a-4b96-912f-a1b95f354387\" target=\"_top\" title=\"psysml:9dcf2186-613a-4b96-912f-a1b95f354387\" xlink:actuate=\"onRequest\" xlink:href=\"psysml:9dcf2186-613a-4b96-912f-a1b95f354387\" xlink:show=\"new\" xlink:title=\"psysml:9dcf2186-613a-4b96-912f-a1b95f354387\" xlink:type=\"simple\"><rect fill=\"#FEFECE\" filter=\"url(#fsdrqaxbpi5om)\" height=\"45.9375\" id=\"E4\" rx=\"10\" ry=\"10\" style=\"stroke: #A80036; stroke-width: 1.5;\" width=\"42\" x=\"323\" y=\"357\"/><text fill=\"#000000\" font-family=\"sans-serif\" font-size=\"12\" font-style=\"italic\" lengthAdjust=\"spacingAndGlyphs\" textLength=\"40\" x=\"324\" y=\"373.1387\">«part»</text><text fill=\"#000000\" font-family=\"sans-serif\" font-size=\"12\" lengthAdjust=\"spacingAndGlyphs\" textLength=\"24\" x=\"332\" y=\"387.1074\">b: B</text><line style=\"stroke: #A80036; stroke-width: 1.5;\" x1=\"324\" x2=\"364\" y1=\"394.9375\" y2=\"394.9375\"/></a><!--MD5=[270fce915f116d4de14055a7c1d9a0f3]\n",
       "class E5--><a href=\"psysml:a3147892-19dd-4d4c-8f64-71e53da800dc\" target=\"_top\" title=\"psysml:a3147892-19dd-4d4c-8f64-71e53da800dc\" xlink:actuate=\"onRequest\" xlink:href=\"psysml:a3147892-19dd-4d4c-8f64-71e53da800dc\" xlink:show=\"new\" xlink:title=\"psysml:a3147892-19dd-4d4c-8f64-71e53da800dc\" xlink:type=\"simple\"><rect fill=\"#FEFECE\" filter=\"url(#fsdrqaxbpi5om)\" height=\"45.9375\" id=\"E5\" rx=\"10\" ry=\"10\" style=\"stroke: #A80036; stroke-width: 1.5;\" width=\"42\" x=\"306\" y=\"281\"/><text fill=\"#000000\" font-family=\"sans-serif\" font-size=\"12\" font-style=\"italic\" lengthAdjust=\"spacingAndGlyphs\" textLength=\"40\" x=\"307\" y=\"297.1387\">«port»</text><text fill=\"#000000\" font-family=\"sans-serif\" font-size=\"12\" lengthAdjust=\"spacingAndGlyphs\" textLength=\"23\" x=\"315.5\" y=\"311.1074\">c: C</text><line style=\"stroke: #A80036; stroke-width: 1.5;\" x1=\"307\" x2=\"347\" y1=\"318.9375\" y2=\"318.9375\"/></a><!--MD5=[60a26617385b1d2d0262a64233df1f8d]\n",
       "class E6--><a href=\"psysml:bbb3af71-bfb9-47e2-863f-33482c8ff081\" target=\"_top\" title=\"psysml:bbb3af71-bfb9-47e2-863f-33482c8ff081\" xlink:actuate=\"onRequest\" xlink:href=\"psysml:bbb3af71-bfb9-47e2-863f-33482c8ff081\" xlink:show=\"new\" xlink:title=\"psysml:bbb3af71-bfb9-47e2-863f-33482c8ff081\" xlink:type=\"simple\"><rect fill=\"#FEFECE\" filter=\"url(#fsdrqaxbpi5om)\" height=\"45.9375\" id=\"E6\" style=\"stroke: #A80036; stroke-width: 1.5;\" width=\"66\" x=\"163\" y=\"556\"/><text fill=\"#000000\" font-family=\"sans-serif\" font-size=\"12\" font-style=\"italic\" lengthAdjust=\"spacingAndGlyphs\" textLength=\"64\" x=\"164\" y=\"572.1387\">«part def»</text><text fill=\"#000000\" font-family=\"sans-serif\" font-size=\"12\" lengthAdjust=\"spacingAndGlyphs\" textLength=\"8\" x=\"192\" y=\"586.1074\">B</text><line style=\"stroke: #A80036; stroke-width: 1.5;\" x1=\"164\" x2=\"228\" y1=\"593.9375\" y2=\"593.9375\"/></a><!--MD5=[2156ba9850f5573cc1fc38a6a4b2f02b]\n",
       "class E7--><a href=\"psysml:c128dc79-fecf-4cdb-b1ba-5850a9b121ec\" target=\"_top\" title=\"psysml:c128dc79-fecf-4cdb-b1ba-5850a9b121ec\" xlink:actuate=\"onRequest\" xlink:href=\"psysml:c128dc79-fecf-4cdb-b1ba-5850a9b121ec\" xlink:show=\"new\" xlink:title=\"psysml:c128dc79-fecf-4cdb-b1ba-5850a9b121ec\" xlink:type=\"simple\"><rect fill=\"#FEFECE\" filter=\"url(#fsdrqaxbpi5om)\" height=\"45.9375\" id=\"E7\" rx=\"10\" ry=\"10\" style=\"stroke: #A80036; stroke-width: 1.5;\" width=\"42\" x=\"58\" y=\"666.5\"/><text fill=\"#000000\" font-family=\"sans-serif\" font-size=\"12\" font-style=\"italic\" lengthAdjust=\"spacingAndGlyphs\" textLength=\"40\" x=\"59\" y=\"682.6387\">«part»</text><text fill=\"#000000\" font-family=\"sans-serif\" font-size=\"12\" lengthAdjust=\"spacingAndGlyphs\" textLength=\"24\" x=\"67\" y=\"696.6074\">a: A</text><line style=\"stroke: #A80036; stroke-width: 1.5;\" x1=\"59\" x2=\"99\" y1=\"704.4375\" y2=\"704.4375\"/></a><!--MD5=[b9389687b975829384b498ac4b7476b2]\n",
       "class E8--><a href=\"psysml:540f6402-e62e-4ea3-b051-5d5cf5bfcb38\" target=\"_top\" title=\"psysml:540f6402-e62e-4ea3-b051-5d5cf5bfcb38\" xlink:actuate=\"onRequest\" xlink:href=\"psysml:540f6402-e62e-4ea3-b051-5d5cf5bfcb38\" xlink:show=\"new\" xlink:title=\"psysml:540f6402-e62e-4ea3-b051-5d5cf5bfcb38\" xlink:type=\"simple\"><rect fill=\"#FEFECE\" filter=\"url(#fsdrqaxbpi5om)\" height=\"45.9375\" id=\"E8\" rx=\"10\" ry=\"10\" style=\"stroke: #A80036; stroke-width: 1.5;\" width=\"42\" x=\"213\" y=\"666.5\"/><text fill=\"#000000\" font-family=\"sans-serif\" font-size=\"12\" font-style=\"italic\" lengthAdjust=\"spacingAndGlyphs\" textLength=\"40\" x=\"214\" y=\"682.6387\">«port»</text><text fill=\"#000000\" font-family=\"sans-serif\" font-size=\"12\" lengthAdjust=\"spacingAndGlyphs\" textLength=\"32\" x=\"218\" y=\"696.6074\">x: ~C</text><line style=\"stroke: #A80036; stroke-width: 1.5;\" x1=\"214\" x2=\"254\" y1=\"704.4375\" y2=\"704.4375\"/></a><!--MD5=[96f4274e9e20536e775497830990834d]\n",
       "class E10--><a href=\"psysml:a92372c2-fe41-425f-b40c-da5b8c1ca15d\" target=\"_top\" title=\"psysml:a92372c2-fe41-425f-b40c-da5b8c1ca15d\" xlink:actuate=\"onRequest\" xlink:href=\"psysml:a92372c2-fe41-425f-b40c-da5b8c1ca15d\" xlink:show=\"new\" xlink:title=\"psysml:a92372c2-fe41-425f-b40c-da5b8c1ca15d\" xlink:type=\"simple\"><rect fill=\"#FEFECE\" filter=\"url(#fsdrqaxbpi5om)\" height=\"45.9375\" id=\"E10\" style=\"stroke: #A80036; stroke-width: 1.5;\" width=\"66\" x=\"163\" y=\"433\"/><text fill=\"#000000\" font-family=\"sans-serif\" font-size=\"12\" font-style=\"italic\" lengthAdjust=\"spacingAndGlyphs\" textLength=\"64\" x=\"164\" y=\"449.1387\">«port def»</text><text fill=\"#000000\" font-family=\"sans-serif\" font-size=\"12\" lengthAdjust=\"spacingAndGlyphs\" textLength=\"8\" x=\"192\" y=\"463.1074\">C</text><line style=\"stroke: #A80036; stroke-width: 1.5;\" x1=\"164\" x2=\"228\" y1=\"470.9375\" y2=\"470.9375\"/></a><a href=\"psysml:f4e4ee2b-1abf-4dbd-8483-2b091bdfceaf\" target=\"_top\" title=\"psysml:f4e4ee2b-1abf-4dbd-8483-2b091bdfceaf\" xlink:actuate=\"onRequest\" xlink:href=\"psysml:f4e4ee2b-1abf-4dbd-8483-2b091bdfceaf\" xlink:show=\"new\" xlink:title=\"psysml:f4e4ee2b-1abf-4dbd-8483-2b091bdfceaf\" xlink:type=\"simple\"><polygon fill=\"#FFFFFF\" filter=\"url(#fsdrqaxbpi5om)\" points=\"148.5,663,163.5,663,170.5,685.2969,177.5,685.2969,177.5,715.5938,148.5,715.5938,148.5,663\" style=\"stroke: #000000; stroke-width: 1.5;\"/><line style=\"stroke: #000000; stroke-width: 1.5;\" x1=\"148.5\" x2=\"170.5\" y1=\"685.2969\" y2=\"685.2969\"/><text fill=\"#000000\" font-family=\"sans-serif\" font-size=\"14\" font-weight=\"bold\" lengthAdjust=\"spacingAndGlyphs\" textLength=\"9\" x=\"152.5\" y=\"677.9951\">P</text></a><!--MD5=[2720a5a1f2c3fca2055b230370638851]\n",
       "link E2 to E3--><a href=\"psysml:488f6ee0-39a9-4dc0-b555-612cc99c37a1\" target=\"_top\" title=\"psysml:488f6ee0-39a9-4dc0-b555-612cc99c37a1\" xlink:actuate=\"onRequest\" xlink:href=\"psysml:488f6ee0-39a9-4dc0-b555-612cc99c37a1\" xlink:show=\"new\" xlink:title=\"psysml:488f6ee0-39a9-4dc0-b555-612cc99c37a1\" xlink:type=\"simple\"><path d=\"M222,87.19 C222,98.68 222,113.26 222,127.56 \" fill=\"none\" id=\"E2-&gt;E3\" style=\"stroke: #A80036; stroke-width: 1.0;\"/><polygon fill=\"#FFFFFF\" points=\"222,147.92,215,128.92,229,128.92,222,147.92\" style=\"stroke: #A80036; stroke-width: 1.0;\"/><ellipse cx=\"217\" cy=\"123.22\" fill=\"#A80036\" rx=\"2\" ry=\"2\" style=\"stroke: #A80036; stroke-width: 1.0;\"/><ellipse cx=\"227\" cy=\"123.22\" fill=\"#A80036\" rx=\"2\" ry=\"2\" style=\"stroke: #A80036; stroke-width: 1.0;\"/></a><!--MD5=[4672eba38e49728da53d11aeb285b987]\n",
       "reverse link E3 to E4--><a href=\"psysml:98712745-a638-4d1f-8ffc-380c342569c9\" target=\"_top\" title=\"psysml:98712745-a638-4d1f-8ffc-380c342569c9\" xlink:actuate=\"onRequest\" xlink:href=\"psysml:98712745-a638-4d1f-8ffc-380c342569c9\" xlink:show=\"new\" xlink:title=\"psysml:98712745-a638-4d1f-8ffc-380c342569c9\" xlink:type=\"simple\"><path d=\"M267.09,201.36 C301.07,216.36 345.23,242.19 366,281 C378.84,304.98 367.86,336.13 357.32,356.8 \" fill=\"none\" id=\"E3&lt;-E4\" style=\"stroke: #A80036; stroke-width: 1.0;\"/><polygon fill=\"#A80036\" points=\"255.1,196.32,259.0792,202.3338,266.1609,200.9737,262.1817,194.9599,255.1,196.32\" style=\"stroke: #A80036; stroke-width: 1.0;\"/><text fill=\"#000000\" font-family=\"sans-serif\" font-size=\"13\" lengthAdjust=\"spacingAndGlyphs\" textLength=\"8\" x=\"352.4708\" y=\"347.0226\">1</text></a><!--MD5=[191cde3d490a3f6d7bb551fe3ddca469]\n",
       "reverse link E3 to E5--><a href=\"psysml:3d3c789c-d512-4565-8d7c-059f8d1010f8\" target=\"_top\" title=\"psysml:3d3c789c-d512-4565-8d7c-059f8d1010f8\" xlink:actuate=\"onRequest\" xlink:href=\"psysml:3d3c789c-d512-4565-8d7c-059f8d1010f8\" xlink:show=\"new\" xlink:title=\"psysml:3d3c789c-d512-4565-8d7c-059f8d1010f8\" xlink:type=\"simple\"><path d=\"M262.11,230.08 C277.59,247.47 294.59,266.57 307.3,280.86 \" fill=\"none\" id=\"E3&lt;-E5\" style=\"stroke: #A80036; stroke-width: 1.0;\"/><polygon fill=\"#FFFFFF\" points=\"253.22,220.08,254.2198,227.2215,261.1965,229.0453,260.1967,221.9038,253.22,220.08\" style=\"stroke: #A80036; stroke-width: 1.0;\"/><text fill=\"#000000\" font-family=\"sans-serif\" font-size=\"13\" lengthAdjust=\"spacingAndGlyphs\" textLength=\"8\" x=\"293.2269\" y=\"270.1004\">1</text></a><!--MD5=[79568f1e445c3877b6a54524624ccc7d]\n",
       "link E4 to E6--><a href=\"psysml:1225703b-924d-44f0-aa92-4bca49ced0c9\" target=\"_top\" title=\"psysml:1225703b-924d-44f0-aa92-4bca49ced0c9\" xlink:actuate=\"onRequest\" xlink:href=\"psysml:1225703b-924d-44f0-aa92-4bca49ced0c9\" xlink:show=\"new\" xlink:title=\"psysml:1225703b-924d-44f0-aa92-4bca49ced0c9\" xlink:type=\"simple\"><path d=\"M327.31,403.22 C302.43,436.34 255.27,499.1 224.76,539.71 \" fill=\"none\" id=\"E4-&gt;E6\" style=\"stroke: #A80036; stroke-width: 1.0;\"/><polygon fill=\"#FFFFFF\" points=\"212.63,555.87,218.4494,536.4758,229.641,544.887,212.63,555.87\" style=\"stroke: #A80036; stroke-width: 1.0;\"/><ellipse cx=\"223.4728\" cy=\"533.1208\" fill=\"#A80036\" rx=\"2\" ry=\"2\" style=\"stroke: #A80036; stroke-width: 1.0;\"/><ellipse cx=\"231.4668\" cy=\"539.1288\" fill=\"#A80036\" rx=\"2\" ry=\"2\" style=\"stroke: #A80036; stroke-width: 1.0;\"/></a><!--MD5=[3f50a3473f1dfb74d3f76443e03635af]\n",
       "reverse link E6 to E7--><a href=\"psysml:a81e6d2d-a633-4d51-820c-a47602c519dd\" target=\"_top\" title=\"psysml:a81e6d2d-a633-4d51-820c-a47602c519dd\" xlink:actuate=\"onRequest\" xlink:href=\"psysml:a81e6d2d-a633-4d51-820c-a47602c519dd\" xlink:show=\"new\" xlink:title=\"psysml:a81e6d2d-a633-4d51-820c-a47602c519dd\" xlink:type=\"simple\"><path d=\"M162.35,611.2 C142.32,629.78 117.5,652.8 100.18,668.86 \" fill=\"none\" id=\"E6&lt;-E7\" style=\"stroke: #A80036; stroke-width: 1.0;\"/><polygon fill=\"#A80036\" points=\"172.04,602.22,164.9211,603.3695,163.2441,610.3829,170.363,609.2334,172.04,602.22\" style=\"stroke: #A80036; stroke-width: 1.0;\"/><text fill=\"#000000\" font-family=\"sans-serif\" font-size=\"13\" lengthAdjust=\"spacingAndGlyphs\" textLength=\"8\" x=\"107.8914\" y=\"657.3389\">1</text></a><!--MD5=[14ccda38c055a5c0da953d572bc50960]\n",
       "link E7 to E3--><a href=\"psysml:4883cacd-6695-4e4a-8cc2-3609b81ec9a9\" target=\"_top\" title=\"psysml:4883cacd-6695-4e4a-8cc2-3609b81ec9a9\" xlink:actuate=\"onRequest\" xlink:href=\"psysml:4883cacd-6695-4e4a-8cc2-3609b81ec9a9\" xlink:show=\"new\" xlink:title=\"psysml:4883cacd-6695-4e4a-8cc2-3609b81ec9a9\" xlink:type=\"simple\"><path d=\"M63.43,666.38 C50.08,645.23 33,611.92 33,580 C33,303 33,303 33,303 C33,238.54 113.07,208 168.98,194.54 \" fill=\"none\" id=\"E7-&gt;E3\" style=\"stroke: #A80036; stroke-width: 1.0;\"/><polygon fill=\"#FFFFFF\" points=\"188.65,190.25,171.5829,201.1456,168.5935,187.4684,188.65,190.25\" style=\"stroke: #A80036; stroke-width: 1.0;\"/><ellipse cx=\"165.5873\" cy=\"200.4088\" fill=\"#A80036\" rx=\"2\" ry=\"2\" style=\"stroke: #A80036; stroke-width: 1.0;\"/><ellipse cx=\"163.452\" cy=\"190.6394\" fill=\"#A80036\" rx=\"2\" ry=\"2\" style=\"stroke: #A80036; stroke-width: 1.0;\"/></a><!--MD5=[f4cf0736d43fd73c4ef68817c49d37d5]\n",
       "reverse link E6 to E8--><a href=\"psysml:2d844c43-a52c-43bf-b052-a300acb2bf74\" target=\"_top\" title=\"psysml:2d844c43-a52c-43bf-b052-a300acb2bf74\" xlink:actuate=\"onRequest\" xlink:href=\"psysml:2d844c43-a52c-43bf-b052-a300acb2bf74\" xlink:show=\"new\" xlink:title=\"psysml:2d844c43-a52c-43bf-b052-a300acb2bf74\" xlink:type=\"simple\"><path d=\"M208.25,614.98 C214.15,631.83 221.06,651.54 226.23,666.31 \" fill=\"none\" id=\"E6&lt;-E8\" style=\"stroke: #A80036; stroke-width: 1.0;\"/><polygon fill=\"#FFFFFF\" points=\"203.78,602.22,201.9892,609.2052,207.7483,613.5449,209.5391,606.5597,203.78,602.22\" style=\"stroke: #A80036; stroke-width: 1.0;\"/><text fill=\"#000000\" font-family=\"sans-serif\" font-size=\"13\" lengthAdjust=\"spacingAndGlyphs\" textLength=\"8\" x=\"215.2139\" y=\"655.5376\">1</text></a><!--MD5=[e88d06e5a652d73a6b19930eefe025a8]\n",
       "reverse link E6 to E9--><a href=\"psysml:5153bd7e-9106-496d-98a6-0d3fae0d20a5\" target=\"_top\" title=\"psysml:5153bd7e-9106-496d-98a6-0d3fae0d20a5\" xlink:actuate=\"onRequest\" xlink:href=\"psysml:5153bd7e-9106-496d-98a6-0d3fae0d20a5\" xlink:show=\"new\" xlink:title=\"psysml:5153bd7e-9106-496d-98a6-0d3fae0d20a5\" xlink:type=\"simple\"><path d=\"M184.74,617.01 C180.15,632.11 174.95,649.2 170.79,662.88 \" fill=\"none\" id=\"E6&lt;-E9\" style=\"stroke: #A80036; stroke-width: 1.0;\"/><ellipse cx=\"186.9098\" cy=\"609.8731\" fill=\"#FFFFFF\" rx=\"8\" ry=\"8\" style=\"stroke: #A80036; stroke-width: 1.0;\"/><line style=\"stroke: #A80036; stroke-width: 1.0;\" x1=\"184.5796\" x2=\"189.24\" y1=\"617.5262\" y2=\"602.22\"/><line style=\"stroke: #A80036; stroke-width: 1.0;\" x1=\"179.2567\" x2=\"194.5629\" y1=\"607.5429\" y2=\"612.2033\"/></a><!--MD5=[f78a29d5932556fa1060671a2a6507d8]\n",
       "link E5 to E10--><a href=\"psysml:63374559-c2a0-4cf8-92a3-b39a3ed3eac1\" target=\"_top\" title=\"psysml:63374559-c2a0-4cf8-92a3-b39a3ed3eac1\" xlink:actuate=\"onRequest\" xlink:href=\"psysml:63374559-c2a0-4cf8-92a3-b39a3ed3eac1\" xlink:show=\"new\" xlink:title=\"psysml:63374559-c2a0-4cf8-92a3-b39a3ed3eac1\" xlink:type=\"simple\"><path d=\"M317.86,327.05 C308.35,348.19 291.92,380.17 271,403 C263.6,411.07 254.73,418.58 245.72,425.23 \" fill=\"none\" id=\"E5-&gt;E10\" style=\"stroke: #A80036; stroke-width: 1.0;\"/><polygon fill=\"#FFFFFF\" points=\"229.11,436.57,240.857,420.0773,248.7493,431.6407,229.11,436.57\" style=\"stroke: #A80036; stroke-width: 1.0;\"/><ellipse cx=\"246.6924\" cy=\"418.5159\" fill=\"#A80036\" rx=\"2\" ry=\"2\" style=\"stroke: #A80036; stroke-width: 1.0;\"/><ellipse cx=\"252.3298\" cy=\"426.7755\" fill=\"#A80036\" rx=\"2\" ry=\"2\" style=\"stroke: #A80036; stroke-width: 1.0;\"/></a><!--MD5=[8e04057e7b3cbc0dca4fc78ea351e2da]\n",
       "reverse link E10 to E3--><a href=\"psysml:e24d69b8-a494-4022-9892-35ed42c85155\" target=\"_top\" title=\"psysml:e24d69b8-a494-4022-9892-35ed42c85155\" xlink:actuate=\"onRequest\" xlink:href=\"psysml:e24d69b8-a494-4022-9892-35ed42c85155\" xlink:show=\"new\" xlink:title=\"psysml:e24d69b8-a494-4022-9892-35ed42c85155\" xlink:type=\"simple\"><path d=\"M168.94,422.33 C143.34,387.24 111.5,329.92 131,281 C142.65,251.78 167.89,226.34 188.84,209 \" fill=\"none\" id=\"E10&lt;-E3\" style=\"stroke: #A80036; stroke-width: 1.0;\"/><polygon fill=\"#FFFFFF\" points=\"176.97,432.91,176.5304,425.7123,169.7174,423.3497,170.1569,430.5474,176.97,432.91\" style=\"stroke: #A80036; stroke-width: 1.0;\"/><text fill=\"#000000\" font-family=\"sans-serif\" font-size=\"13\" lengthAdjust=\"spacingAndGlyphs\" textLength=\"7\" x=\"132\" y=\"308.5669\">y</text></a><!--MD5=[8e04057e7b3cbc0dca4fc78ea351e2da]\n",
       "reverse link E10 to E3--><a href=\"psysml:e24d69b8-a494-4022-9892-35ed42c85155\" target=\"_top\" title=\"psysml:e24d69b8-a494-4022-9892-35ed42c85155\" xlink:actuate=\"onRequest\" xlink:href=\"psysml:e24d69b8-a494-4022-9892-35ed42c85155\" xlink:show=\"new\" xlink:title=\"psysml:e24d69b8-a494-4022-9892-35ed42c85155\" xlink:type=\"simple\"><path d=\"M198.38,419.69 C200.87,384.5 205.08,328.96 210,281 C212.08,260.78 214.87,238.23 217.24,220.07 \" fill=\"none\" id=\"E10&lt;-E3-1\" style=\"stroke: #A80036; stroke-width: 1.0;\"/><polygon fill=\"#FFFFFF\" points=\"197.46,433,201.8657,427.2913,198.2906,421.0288,193.8849,426.7375,197.46,433\" style=\"stroke: #A80036; stroke-width: 1.0;\"/><text fill=\"#000000\" font-family=\"sans-serif\" font-size=\"13\" lengthAdjust=\"spacingAndGlyphs\" textLength=\"7\" x=\"211\" y=\"308.5669\">y</text></a><!--MD5=[8e04057e7b3cbc0dca4fc78ea351e2da]\n",
       "reverse link E10 to E3--><a href=\"psysml:e24d69b8-a494-4022-9892-35ed42c85155\" target=\"_top\" title=\"psysml:e24d69b8-a494-4022-9892-35ed42c85155\" xlink:actuate=\"onRequest\" xlink:href=\"psysml:e24d69b8-a494-4022-9892-35ed42c85155\" xlink:show=\"new\" xlink:title=\"psysml:e24d69b8-a494-4022-9892-35ed42c85155\" xlink:type=\"simple\"><path d=\"M205.88,420.08 C207.35,414.39 208.78,408.55 210,403 C217.35,369.53 220.1,361.15 223,327 C224.73,306.63 223.11,301.44 223,281 C222.89,260.83 222.67,238.28 222.45,220.11 \" fill=\"none\" id=\"E10&lt;-E3-2\" style=\"stroke: #A80036; stroke-width: 1.0;\"/><polygon fill=\"#FFFFFF\" points=\"202.46,432.84,207.879,428.0824,205.5716,421.2504,200.1526,426.008,202.46,432.84\" style=\"stroke: #A80036; stroke-width: 1.0;\"/><text fill=\"#000000\" font-family=\"sans-serif\" font-size=\"13\" lengthAdjust=\"spacingAndGlyphs\" textLength=\"7\" x=\"224\" y=\"308.5669\">y</text></a><!--MD5=[604cbf994c02b74b117f728a71673cea]\n",
       "reverse link E10 to E6--><a href=\"psysml:e24d69b8-a494-4022-9892-35ed42c85155\" target=\"_top\" title=\"psysml:e24d69b8-a494-4022-9892-35ed42c85155\" xlink:actuate=\"onRequest\" xlink:href=\"psysml:e24d69b8-a494-4022-9892-35ed42c85155\" xlink:show=\"new\" xlink:title=\"psysml:e24d69b8-a494-4022-9892-35ed42c85155\" xlink:type=\"simple\"><path d=\"M204.39,492.23 C206.07,503.04 207.05,514.99 206,526 C205.06,535.88 203.13,546.68 201.22,555.87 \" fill=\"none\" id=\"E10&lt;-E6\" style=\"stroke: #A80036; stroke-width: 1.0;\"/><polygon fill=\"#FFFFFF\" points=\"201.97,479.31,199.1398,485.9425,204.1735,491.106,207.0037,484.4735,201.97,479.31\" style=\"stroke: #A80036; stroke-width: 1.0;\"/><text fill=\"#000000\" font-family=\"sans-serif\" font-size=\"13\" lengthAdjust=\"spacingAndGlyphs\" textLength=\"7\" x=\"207\" y=\"522.0669\">y</text></a><!--MD5=[604cbf994c02b74b117f728a71673cea]\n",
       "reverse link E10 to E6--><a href=\"psysml:e24d69b8-a494-4022-9892-35ed42c85155\" target=\"_top\" title=\"psysml:e24d69b8-a494-4022-9892-35ed42c85155\" xlink:actuate=\"onRequest\" xlink:href=\"psysml:e24d69b8-a494-4022-9892-35ed42c85155\" xlink:show=\"new\" xlink:title=\"psysml:e24d69b8-a494-4022-9892-35ed42c85155\" xlink:type=\"simple\"><path d=\"M160.04,488.87 C155.13,495.03 150.81,501.82 148,509 C141.3,526.12 152.83,543.11 166.26,555.94 \" fill=\"none\" id=\"E10&lt;-E6-1\" style=\"stroke: #A80036; stroke-width: 1.0;\"/><polygon fill=\"#FFFFFF\" points=\"168.73,479.16,161.7505,480.973,160.7396,488.1129,167.7191,486.2999,168.73,479.16\" style=\"stroke: #A80036; stroke-width: 1.0;\"/><text fill=\"#000000\" font-family=\"sans-serif\" font-size=\"13\" lengthAdjust=\"spacingAndGlyphs\" textLength=\"7\" x=\"149\" y=\"522.0669\">y</text></a><!--MD5=[604cbf994c02b74b117f728a71673cea]\n",
       "reverse link E10 to E6--><a href=\"psysml:e24d69b8-a494-4022-9892-35ed42c85155\" target=\"_top\" title=\"psysml:e24d69b8-a494-4022-9892-35ed42c85155\" xlink:actuate=\"onRequest\" xlink:href=\"psysml:e24d69b8-a494-4022-9892-35ed42c85155\" xlink:show=\"new\" xlink:title=\"psysml:e24d69b8-a494-4022-9892-35ed42c85155\" xlink:type=\"simple\"><path d=\"M196,492.22 C196,512.81 196,538.16 196,555.95 \" fill=\"none\" id=\"E10&lt;-E6-2\" style=\"stroke: #A80036; stroke-width: 1.0;\"/><polygon fill=\"#FFFFFF\" points=\"196,479.19,192,485.19,196,491.19,200,485.19,196,479.19\" style=\"stroke: #A80036; stroke-width: 1.0;\"/><text fill=\"#000000\" font-family=\"sans-serif\" font-size=\"13\" lengthAdjust=\"spacingAndGlyphs\" textLength=\"7\" x=\"197\" y=\"522.0669\">y</text></a><!--MD5=[d6f772c69341327e4b401ef1f8947620]\n",
       "@startuml\r\n",
       "skinparam wrapWidth 300\r\n",
       "hide circle\r\n",
       "\r\n",
       "package \"PartTest\" as E1  [[psysml:a6b62677-d27b-4bf3-83e0-375e3ba01a4b ]]  {\r\n",
       "comp usage \"f: A\" as E2  <<(T,blue) part>> [[psysml:fef66b5f-1b9d-421e-94fe-86858427a029 ]] {\r\n",
       "}\r\n",
       "comp def \"A\" as E3  <<(T,blue) part def>> [[psysml:a2cad1be-c52d-4964-a87e-891cd7289f52 ]] {\r\n",
       "x\r\n",
       "y\r\n",
       "}\r\n",
       "comp usage \"b: B\" as E4  <<(T,blue) part>> [[psysml:9dcf2186-613a-4b96-912f-a1b95f354387 ]] {\r\n",
       "}\r\n",
       "comp usage \"c: C\" as E5  <<(T,blue) port>> [[psysml:a3147892-19dd-4d4c-8f64-71e53da800dc ]] {\r\n",
       "}\r\n",
       "comp def \"B\" as E6  <<(T,blue) part def>> [[psysml:bbb3af71-bfb9-47e2-863f-33482c8ff081 ]] {\r\n",
       "}\r\n",
       "comp usage \"a: A\" as E7  <<(T,blue) part>> [[psysml:c128dc79-fecf-4cdb-b1ba-5850a9b121ec ]] {\r\n",
       "}\r\n",
       "comp usage \"x: ~C\" as E8  <<(T,blue) port>> [[psysml:540f6402-e62e-4ea3-b051-5d5cf5bfcb38 ]] {\r\n",
       "}\r\n",
       "package \"P\" as E9  [[psysml:f4e4ee2b-1abf-4dbd-8483-2b091bdfceaf ]]  {\r\n",
       "}\r\n",
       "comp def \"C\" as E10  <<(T,blue) port def>> [[psysml:a92372c2-fe41-425f-b40c-da5b8c1ca15d ]] {\r\n",
       "}\r\n",
       "}\r\n",
       "E2 - -:|> E3 [[psysml:488f6ee0-39a9-4dc0-b555-612cc99c37a1 ]] \r\n",
       "E3 *- - \"1\"E4 [[psysml:98712745-a638-4d1f-8ffc-380c342569c9 ]] \r\n",
       "E3 o- - \"1\"E5 [[psysml:3d3c789c-d512-4565-8d7c-059f8d1010f8 ]] \r\n",
       "E4 - -:|> E6 [[psysml:1225703b-924d-44f0-aa92-4bca49ced0c9 ]] \r\n",
       "E6 *- - \"1\"E7 [[psysml:a81e6d2d-a633-4d51-820c-a47602c519dd ]] \r\n",
       "E7 - -:|> E3 [[psysml:4883cacd-6695-4e4a-8cc2-3609b81ec9a9 ]] \r\n",
       "E6 o- - \"1\"E8 [[psysml:2d844c43-a52c-43bf-b052-a300acb2bf74 ]] \r\n",
       "E6 +- - E9 [[psysml:5153bd7e-9106-496d-98a6-0d3fae0d20a5 ]] \r\n",
       "E5 - -:|> E10 [[psysml:63374559-c2a0-4cf8-92a3-b39a3ed3eac1 ]] \r\n",
       "E10 o- - E3 [[psysml:e24d69b8-a494-4022-9892-35ed42c85155 ]] : y\r\n",
       "E10 o- - E6 [[psysml:e24d69b8-a494-4022-9892-35ed42c85155 ]] : y\r\n",
       "E10 o- - E3 [[psysml:e24d69b8-a494-4022-9892-35ed42c85155 ]] : y\r\n",
       "E10 o- - E6 [[psysml:e24d69b8-a494-4022-9892-35ed42c85155 ]] : y\r\n",
       "E10 o- - E3 [[psysml:e24d69b8-a494-4022-9892-35ed42c85155 ]] : y\r\n",
       "E10 o- - E6 [[psysml:e24d69b8-a494-4022-9892-35ed42c85155 ]] : y\r\n",
       "@enduml\r\n",
       "\n",
       "PlantUML version 1.2020.13(Sat Jun 13 12:26:38 UTC 2020)\n",
       "(EPL source distribution)\n",
       "Java Runtime: OpenJDK Runtime Environment\n",
       "JVM: OpenJDK 64-Bit Server VM\n",
       "Default Encoding: UTF-8\n",
       "Language: en\n",
       "Country: null\n",
       "--></g></svg>"
      ]
     },
     "execution_count": 29,
     "metadata": {},
     "output_type": "execute_result"
    }
   ],
   "source": [
    "%viz --style=\"STDCOLOR\" --view=\"MIXED\" \"PartTest\""
   ]
  },
  {
   "cell_type": "code",
   "execution_count": 30,
   "id": "9b1a90dd",
   "metadata": {
    "execution": {
     "iopub.execute_input": "2021-10-03T08:29:54.153250Z",
     "iopub.status.busy": "2021-10-03T08:29:54.152841Z",
     "iopub.status.idle": "2021-10-03T08:29:54.227951Z",
     "shell.execute_reply": "2021-10-03T08:29:54.227577Z"
    }
   },
   "outputs": [
    {
     "data": {
      "image/svg+xml": [
       "<?xml version=\"1.0\" encoding=\"UTF-8\" standalone=\"no\"?><svg xmlns=\"http://www.w3.org/2000/svg\" xmlns:xlink=\"http://www.w3.org/1999/xlink\" contentScriptType=\"application/ecmascript\" contentStyleType=\"text/css\" height=\"732px\" preserveAspectRatio=\"none\" style=\"width:449px;height:732px;\" version=\"1.1\" viewBox=\"0 0 449 732\" width=\"449px\" zoomAndPan=\"magnify\"><defs><filter height=\"300%\" id=\"f1fzginh3ezu8f\" width=\"300%\" x=\"-1\" y=\"-1\"><feGaussianBlur result=\"blurOut\" stdDeviation=\"2.0\"/><feColorMatrix in=\"blurOut\" result=\"blurOut2\" type=\"matrix\" values=\"0 0 0 0 0 0 0 0 0 0 0 0 0 0 0 0 0 0 .4 0\"/><feOffset dx=\"4.0\" dy=\"4.0\" in=\"blurOut2\" result=\"blurOut3\"/><feBlend in=\"SourceGraphic\" in2=\"blurOut3\" mode=\"normal\"/></filter></defs><g><!--MD5=[fbc87193dbaf4d95561dea2c320d4a47]\n",
       "cluster E1--><a href=\"psysml:a6b62677-d27b-4bf3-83e0-375e3ba01a4b\" target=\"_top\" title=\"psysml:a6b62677-d27b-4bf3-83e0-375e3ba01a4b\" xlink:actuate=\"onRequest\" xlink:href=\"psysml:a6b62677-d27b-4bf3-83e0-375e3ba01a4b\" xlink:show=\"new\" xlink:title=\"psysml:a6b62677-d27b-4bf3-83e0-375e3ba01a4b\" xlink:type=\"simple\"><polygon fill=\"#FFFFFF\" filter=\"url(#f1fzginh3ezu8f)\" points=\"16,6,80,6,87,28.2969,427,28.2969,427,720,16,720,16,6\" style=\"stroke: #000000; stroke-width: 1.5;\"/><line style=\"stroke: #000000; stroke-width: 1.5;\" x1=\"16\" x2=\"87\" y1=\"28.2969\" y2=\"28.2969\"/><text fill=\"#000000\" font-family=\"sans-serif\" font-size=\"14\" font-weight=\"bold\" lengthAdjust=\"spacingAndGlyphs\" textLength=\"58\" x=\"20\" y=\"20.9951\">PartTest</text></a><!--MD5=[b4997ac47864f28c2f74865a473b2911]\n",
       "class E2--><a href=\"psysml:fef66b5f-1b9d-421e-94fe-86858427a029\" target=\"_top\" title=\"psysml:fef66b5f-1b9d-421e-94fe-86858427a029\" xlink:actuate=\"onRequest\" xlink:href=\"psysml:fef66b5f-1b9d-421e-94fe-86858427a029\" xlink:show=\"new\" xlink:title=\"psysml:fef66b5f-1b9d-421e-94fe-86858427a029\" xlink:type=\"simple\"><rect fill=\"#FEFECE\" filter=\"url(#f1fzginh3ezu8f)\" height=\"45.9375\" id=\"E2\" rx=\"10\" ry=\"10\" style=\"stroke: #A80036; stroke-width: 1.5;\" width=\"68\" x=\"188\" y=\"41\"/><ellipse cx=\"203\" cy=\"59.9688\" fill=\"#32CD32\" rx=\"11\" ry=\"11\" style=\"stroke: #A80036; stroke-width: 1.0;\"/><path d=\"M199.8125,64.9688 L199.8125,54.375 L203.4219,54.375 Q204.6406,54.375 205.4375,54.8125 Q206.2344,55.2344 206.6094,55.9375 Q207,56.6406 207,57.4844 Q207,58.3281 206.625,59.0156 Q206.2656,59.7031 205.4688,60.125 Q204.6875,60.5313 203.5,60.5313 L201.7656,60.5313 L201.7656,64.9688 L199.8125,64.9688 Z M201.7656,58.9375 L203.375,58.9375 Q204.1875,58.9375 204.6094,58.5313 Q205.0313,58.125 205.0313,57.4844 Q205.0313,56.8594 204.6094,56.4531 Q204.1875,56.0469 203.3906,56.0469 L201.7656,56.0469 L201.7656,58.9375 Z \"/><text fill=\"#000000\" font-family=\"sans-serif\" font-size=\"12\" font-style=\"italic\" lengthAdjust=\"spacingAndGlyphs\" textLength=\"40\" x=\"215\" y=\"57.1387\">«part»</text><text fill=\"#000000\" font-family=\"sans-serif\" font-size=\"12\" lengthAdjust=\"spacingAndGlyphs\" textLength=\"20\" x=\"225\" y=\"71.1074\">f: A</text><line style=\"stroke: #A80036; stroke-width: 1.5;\" x1=\"189\" x2=\"255\" y1=\"78.9375\" y2=\"78.9375\"/></a><!--MD5=[09b614a08d8cba4a07c9adeb5e0fee81]\n",
       "class E3--><a href=\"psysml:a2cad1be-c52d-4964-a87e-891cd7289f52\" target=\"_top\" title=\"psysml:a2cad1be-c52d-4964-a87e-891cd7289f52\" xlink:actuate=\"onRequest\" xlink:href=\"psysml:a2cad1be-c52d-4964-a87e-891cd7289f52\" xlink:show=\"new\" xlink:title=\"psysml:a2cad1be-c52d-4964-a87e-891cd7289f52\" xlink:type=\"simple\"><rect fill=\"#FEFECE\" filter=\"url(#f1fzginh3ezu8f)\" height=\"65.6094\" id=\"E3\" style=\"stroke: #A80036; stroke-width: 1.5;\" width=\"40\" x=\"202\" y=\"148\"/><ellipse cx=\"217\" cy=\"164\" fill=\"#008000\" rx=\"11\" ry=\"11\" style=\"stroke: #A80036; stroke-width: 1.0;\"/><path d=\"M213.875,169 L213.875,158.4063 L217.1094,158.4063 Q219.0156,158.4063 219.9219,159.1563 Q220.8438,159.9063 220.8438,161.0781 Q220.8438,161.7656 220.4531,162.4219 Q220.0781,163.0781 219.3594,163.375 Q220.2188,163.75 220.7344,164.4375 Q221.25,165.125 221.25,165.9375 Q221.25,167.3125 220.2188,168.1563 Q219.2031,169 217.0938,169 L213.875,169 Z M215.7969,162.6406 L216.9531,162.6406 Q218.0781,162.6406 218.4844,162.2656 Q218.9063,161.875 218.9063,161.25 Q218.9063,160.6719 218.4844,160.3125 Q218.0625,159.9531 217.125,159.9531 L215.7969,159.9531 L215.7969,162.6406 Z M215.7969,167.4219 L217.2969,167.4219 Q218.2031,167.4219 218.7344,167.0313 Q219.2656,166.6406 219.2656,165.8906 Q219.2656,165.125 218.7656,164.6563 Q218.2656,164.1719 217,164.1719 L215.7969,164.1719 L215.7969,167.4219 Z \"/><text fill=\"#000000\" font-family=\"sans-serif\" font-size=\"12\" lengthAdjust=\"spacingAndGlyphs\" textLength=\"8\" x=\"231\" y=\"168.1543\">A</text><line style=\"stroke: #A80036; stroke-width: 1.5;\" x1=\"203\" x2=\"241\" y1=\"180\" y2=\"180\"/><text fill=\"#000000\" font-family=\"sans-serif\" font-size=\"11\" lengthAdjust=\"spacingAndGlyphs\" textLength=\"6\" x=\"208\" y=\"194.2104\">x</text><text fill=\"#000000\" font-family=\"sans-serif\" font-size=\"11\" lengthAdjust=\"spacingAndGlyphs\" textLength=\"6\" x=\"208\" y=\"207.0151\">y</text></a><!--MD5=[ebbe1d658d1005bcc118a6aa81145e00]\n",
       "class E4--><a href=\"psysml:9dcf2186-613a-4b96-912f-a1b95f354387\" target=\"_top\" title=\"psysml:9dcf2186-613a-4b96-912f-a1b95f354387\" xlink:actuate=\"onRequest\" xlink:href=\"psysml:9dcf2186-613a-4b96-912f-a1b95f354387\" xlink:show=\"new\" xlink:title=\"psysml:9dcf2186-613a-4b96-912f-a1b95f354387\" xlink:type=\"simple\"><rect fill=\"#FEFECE\" filter=\"url(#f1fzginh3ezu8f)\" height=\"45.9375\" id=\"E4\" rx=\"10\" ry=\"10\" style=\"stroke: #A80036; stroke-width: 1.5;\" width=\"68\" x=\"326\" y=\"351\"/><ellipse cx=\"341\" cy=\"369.9688\" fill=\"#32CD32\" rx=\"11\" ry=\"11\" style=\"stroke: #A80036; stroke-width: 1.0;\"/><path d=\"M337.8125,374.9688 L337.8125,364.375 L341.4219,364.375 Q342.6406,364.375 343.4375,364.8125 Q344.2344,365.2344 344.6094,365.9375 Q345,366.6406 345,367.4844 Q345,368.3281 344.625,369.0156 Q344.2656,369.7031 343.4688,370.125 Q342.6875,370.5313 341.5,370.5313 L339.7656,370.5313 L339.7656,374.9688 L337.8125,374.9688 Z M339.7656,368.9375 L341.375,368.9375 Q342.1875,368.9375 342.6094,368.5313 Q343.0313,368.125 343.0313,367.4844 Q343.0313,366.8594 342.6094,366.4531 Q342.1875,366.0469 341.3906,366.0469 L339.7656,366.0469 L339.7656,368.9375 Z \"/><text fill=\"#000000\" font-family=\"sans-serif\" font-size=\"12\" font-style=\"italic\" lengthAdjust=\"spacingAndGlyphs\" textLength=\"40\" x=\"353\" y=\"367.1387\">«part»</text><text fill=\"#000000\" font-family=\"sans-serif\" font-size=\"12\" lengthAdjust=\"spacingAndGlyphs\" textLength=\"24\" x=\"361\" y=\"381.1074\">b: B</text><line style=\"stroke: #A80036; stroke-width: 1.5;\" x1=\"327\" x2=\"393\" y1=\"388.9375\" y2=\"388.9375\"/></a><!--MD5=[270fce915f116d4de14055a7c1d9a0f3]\n",
       "class E5--><a href=\"psysml:a3147892-19dd-4d4c-8f64-71e53da800dc\" target=\"_top\" title=\"psysml:a3147892-19dd-4d4c-8f64-71e53da800dc\" xlink:actuate=\"onRequest\" xlink:href=\"psysml:a3147892-19dd-4d4c-8f64-71e53da800dc\" xlink:show=\"new\" xlink:title=\"psysml:a3147892-19dd-4d4c-8f64-71e53da800dc\" xlink:type=\"simple\"><rect fill=\"#FEFECE\" filter=\"url(#f1fzginh3ezu8f)\" height=\"45.9375\" id=\"E5\" rx=\"10\" ry=\"10\" style=\"stroke: #A80036; stroke-width: 1.5;\" width=\"68\" x=\"306\" y=\"275\"/><ellipse cx=\"321\" cy=\"293.9688\" fill=\"#0000FF\" rx=\"11\" ry=\"11\" style=\"stroke: #A80036; stroke-width: 1.0;\"/><path d=\"M317.8125,298.9688 L317.8125,288.375 L321.4219,288.375 Q322.6406,288.375 323.4375,288.8125 Q324.2344,289.2344 324.6094,289.9375 Q325,290.6406 325,291.4844 Q325,292.3281 324.625,293.0156 Q324.2656,293.7031 323.4688,294.125 Q322.6875,294.5313 321.5,294.5313 L319.7656,294.5313 L319.7656,298.9688 L317.8125,298.9688 Z M319.7656,292.9375 L321.375,292.9375 Q322.1875,292.9375 322.6094,292.5313 Q323.0313,292.125 323.0313,291.4844 Q323.0313,290.8594 322.6094,290.4531 Q322.1875,290.0469 321.3906,290.0469 L319.7656,290.0469 L319.7656,292.9375 Z \"/><text fill=\"#000000\" font-family=\"sans-serif\" font-size=\"12\" font-style=\"italic\" lengthAdjust=\"spacingAndGlyphs\" textLength=\"40\" x=\"333\" y=\"291.1387\">«port»</text><text fill=\"#000000\" font-family=\"sans-serif\" font-size=\"12\" lengthAdjust=\"spacingAndGlyphs\" textLength=\"23\" x=\"341.5\" y=\"305.1074\">c: C</text><line style=\"stroke: #A80036; stroke-width: 1.5;\" x1=\"307\" x2=\"373\" y1=\"312.9375\" y2=\"312.9375\"/></a><!--MD5=[60a26617385b1d2d0262a64233df1f8d]\n",
       "class E6--><a href=\"psysml:bbb3af71-bfb9-47e2-863f-33482c8ff081\" target=\"_top\" title=\"psysml:bbb3af71-bfb9-47e2-863f-33482c8ff081\" xlink:actuate=\"onRequest\" xlink:href=\"psysml:bbb3af71-bfb9-47e2-863f-33482c8ff081\" xlink:show=\"new\" xlink:title=\"psysml:bbb3af71-bfb9-47e2-863f-33482c8ff081\" xlink:type=\"simple\"><rect fill=\"#FEFECE\" filter=\"url(#f1fzginh3ezu8f)\" height=\"40\" id=\"E6\" style=\"stroke: #A80036; stroke-width: 1.5;\" width=\"40\" x=\"188\" y=\"550\"/><ellipse cx=\"203\" cy=\"566\" fill=\"#008000\" rx=\"11\" ry=\"11\" style=\"stroke: #A80036; stroke-width: 1.0;\"/><path d=\"M199.875,571 L199.875,560.4063 L203.1094,560.4063 Q205.0156,560.4063 205.9219,561.1563 Q206.8438,561.9063 206.8438,563.0781 Q206.8438,563.7656 206.4531,564.4219 Q206.0781,565.0781 205.3594,565.375 Q206.2188,565.75 206.7344,566.4375 Q207.25,567.125 207.25,567.9375 Q207.25,569.3125 206.2188,570.1563 Q205.2031,571 203.0938,571 L199.875,571 Z M201.7969,564.6406 L202.9531,564.6406 Q204.0781,564.6406 204.4844,564.2656 Q204.9063,563.875 204.9063,563.25 Q204.9063,562.6719 204.4844,562.3125 Q204.0625,561.9531 203.125,561.9531 L201.7969,561.9531 L201.7969,564.6406 Z M201.7969,569.4219 L203.2969,569.4219 Q204.2031,569.4219 204.7344,569.0313 Q205.2656,568.6406 205.2656,567.8906 Q205.2656,567.125 204.7656,566.6563 Q204.2656,566.1719 203,566.1719 L201.7969,566.1719 L201.7969,569.4219 Z \"/><text fill=\"#000000\" font-family=\"sans-serif\" font-size=\"12\" lengthAdjust=\"spacingAndGlyphs\" textLength=\"8\" x=\"217\" y=\"570.1543\">B</text><line style=\"stroke: #A80036; stroke-width: 1.5;\" x1=\"189\" x2=\"227\" y1=\"582\" y2=\"582\"/></a><!--MD5=[2156ba9850f5573cc1fc38a6a4b2f02b]\n",
       "class E7--><a href=\"psysml:c128dc79-fecf-4cdb-b1ba-5850a9b121ec\" target=\"_top\" title=\"psysml:c128dc79-fecf-4cdb-b1ba-5850a9b121ec\" xlink:actuate=\"onRequest\" xlink:href=\"psysml:c128dc79-fecf-4cdb-b1ba-5850a9b121ec\" xlink:show=\"new\" xlink:title=\"psysml:c128dc79-fecf-4cdb-b1ba-5850a9b121ec\" xlink:type=\"simple\"><rect fill=\"#FEFECE\" filter=\"url(#f1fzginh3ezu8f)\" height=\"45.9375\" id=\"E7\" rx=\"10\" ry=\"10\" style=\"stroke: #A80036; stroke-width: 1.5;\" width=\"68\" x=\"57\" y=\"654.5\"/><ellipse cx=\"72\" cy=\"673.4688\" fill=\"#32CD32\" rx=\"11\" ry=\"11\" style=\"stroke: #A80036; stroke-width: 1.0;\"/><path d=\"M68.8125,678.4688 L68.8125,667.875 L72.4219,667.875 Q73.6406,667.875 74.4375,668.3125 Q75.2344,668.7344 75.6094,669.4375 Q76,670.1406 76,670.9844 Q76,671.8281 75.625,672.5156 Q75.2656,673.2031 74.4688,673.625 Q73.6875,674.0313 72.5,674.0313 L70.7656,674.0313 L70.7656,678.4688 L68.8125,678.4688 Z M70.7656,672.4375 L72.375,672.4375 Q73.1875,672.4375 73.6094,672.0313 Q74.0313,671.625 74.0313,670.9844 Q74.0313,670.3594 73.6094,669.9531 Q73.1875,669.5469 72.3906,669.5469 L70.7656,669.5469 L70.7656,672.4375 Z \"/><text fill=\"#000000\" font-family=\"sans-serif\" font-size=\"12\" font-style=\"italic\" lengthAdjust=\"spacingAndGlyphs\" textLength=\"40\" x=\"84\" y=\"670.6387\">«part»</text><text fill=\"#000000\" font-family=\"sans-serif\" font-size=\"12\" lengthAdjust=\"spacingAndGlyphs\" textLength=\"24\" x=\"92\" y=\"684.6074\">a: A</text><line style=\"stroke: #A80036; stroke-width: 1.5;\" x1=\"58\" x2=\"124\" y1=\"692.4375\" y2=\"692.4375\"/></a><!--MD5=[b9389687b975829384b498ac4b7476b2]\n",
       "class E8--><a href=\"psysml:540f6402-e62e-4ea3-b051-5d5cf5bfcb38\" target=\"_top\" title=\"psysml:540f6402-e62e-4ea3-b051-5d5cf5bfcb38\" xlink:actuate=\"onRequest\" xlink:href=\"psysml:540f6402-e62e-4ea3-b051-5d5cf5bfcb38\" xlink:show=\"new\" xlink:title=\"psysml:540f6402-e62e-4ea3-b051-5d5cf5bfcb38\" xlink:type=\"simple\"><rect fill=\"#FEFECE\" filter=\"url(#f1fzginh3ezu8f)\" height=\"45.9375\" id=\"E8\" rx=\"10\" ry=\"10\" style=\"stroke: #A80036; stroke-width: 1.5;\" width=\"68\" x=\"238\" y=\"654.5\"/><ellipse cx=\"253\" cy=\"673.4688\" fill=\"#0000FF\" rx=\"11\" ry=\"11\" style=\"stroke: #A80036; stroke-width: 1.0;\"/><path d=\"M249.8125,678.4688 L249.8125,667.875 L253.4219,667.875 Q254.6406,667.875 255.4375,668.3125 Q256.2344,668.7344 256.6094,669.4375 Q257,670.1406 257,670.9844 Q257,671.8281 256.625,672.5156 Q256.2656,673.2031 255.4688,673.625 Q254.6875,674.0313 253.5,674.0313 L251.7656,674.0313 L251.7656,678.4688 L249.8125,678.4688 Z M251.7656,672.4375 L253.375,672.4375 Q254.1875,672.4375 254.6094,672.0313 Q255.0313,671.625 255.0313,670.9844 Q255.0313,670.3594 254.6094,669.9531 Q254.1875,669.5469 253.3906,669.5469 L251.7656,669.5469 L251.7656,672.4375 Z \"/><text fill=\"#000000\" font-family=\"sans-serif\" font-size=\"12\" font-style=\"italic\" lengthAdjust=\"spacingAndGlyphs\" textLength=\"40\" x=\"265\" y=\"670.6387\">«port»</text><text fill=\"#000000\" font-family=\"sans-serif\" font-size=\"12\" lengthAdjust=\"spacingAndGlyphs\" textLength=\"32\" x=\"269\" y=\"684.6074\">x: ~C</text><line style=\"stroke: #A80036; stroke-width: 1.5;\" x1=\"239\" x2=\"305\" y1=\"692.4375\" y2=\"692.4375\"/></a><!--MD5=[96f4274e9e20536e775497830990834d]\n",
       "class E10--><a href=\"psysml:a92372c2-fe41-425f-b40c-da5b8c1ca15d\" target=\"_top\" title=\"psysml:a92372c2-fe41-425f-b40c-da5b8c1ca15d\" xlink:actuate=\"onRequest\" xlink:href=\"psysml:a92372c2-fe41-425f-b40c-da5b8c1ca15d\" xlink:show=\"new\" xlink:title=\"psysml:a92372c2-fe41-425f-b40c-da5b8c1ca15d\" xlink:type=\"simple\"><rect fill=\"#FEFECE\" filter=\"url(#f1fzginh3ezu8f)\" height=\"45.9375\" id=\"E10\" style=\"stroke: #A80036; stroke-width: 1.5;\" width=\"92\" x=\"162\" y=\"427\"/><ellipse cx=\"177\" cy=\"445.9688\" fill=\"#A52A2A\" rx=\"11\" ry=\"11\" style=\"stroke: #A80036; stroke-width: 1.0;\"/><path d=\"M174.2188,450.9688 L174.2188,440.375 L176.9531,440.375 Q178.3438,440.375 179.1094,440.7656 Q179.8906,441.1406 180.4219,441.8438 Q180.9531,442.5469 181.25,443.5469 Q181.5469,444.5313 181.5469,445.75 Q181.5,447.3438 181,448.5313 Q180.5156,449.7031 179.4688,450.3438 Q178.4375,450.9688 176.75,450.9688 L174.2188,450.9688 Z M176.0781,449.4688 L176.7031,449.4688 Q177.7813,449.4688 178.4375,449.0156 Q179.0938,448.5625 179.375,447.7344 Q179.6719,446.8906 179.6563,445.7656 Q179.6563,444.5938 179.4063,443.7344 Q179.1563,442.8594 178.5469,442.3906 Q177.9375,441.9063 176.8906,441.9063 L176.0781,441.9063 L176.0781,449.4688 Z \"/><text fill=\"#000000\" font-family=\"sans-serif\" font-size=\"12\" font-style=\"italic\" lengthAdjust=\"spacingAndGlyphs\" textLength=\"64\" x=\"189\" y=\"443.1387\">«port def»</text><text fill=\"#000000\" font-family=\"sans-serif\" font-size=\"12\" lengthAdjust=\"spacingAndGlyphs\" textLength=\"8\" x=\"217\" y=\"457.1074\">C</text><line style=\"stroke: #A80036; stroke-width: 1.5;\" x1=\"163\" x2=\"253\" y1=\"464.9375\" y2=\"464.9375\"/></a><a href=\"psysml:f4e4ee2b-1abf-4dbd-8483-2b091bdfceaf\" target=\"_top\" title=\"psysml:f4e4ee2b-1abf-4dbd-8483-2b091bdfceaf\" xlink:actuate=\"onRequest\" xlink:href=\"psysml:f4e4ee2b-1abf-4dbd-8483-2b091bdfceaf\" xlink:show=\"new\" xlink:title=\"psysml:f4e4ee2b-1abf-4dbd-8483-2b091bdfceaf\" xlink:type=\"simple\"><polygon fill=\"#FFFFFF\" filter=\"url(#f1fzginh3ezu8f)\" points=\"173.5,651,188.5,651,195.5,673.2969,202.5,673.2969,202.5,703.5938,173.5,703.5938,173.5,651\" style=\"stroke: #000000; stroke-width: 1.5;\"/><line style=\"stroke: #000000; stroke-width: 1.5;\" x1=\"173.5\" x2=\"195.5\" y1=\"673.2969\" y2=\"673.2969\"/><text fill=\"#000000\" font-family=\"sans-serif\" font-size=\"14\" font-weight=\"bold\" lengthAdjust=\"spacingAndGlyphs\" textLength=\"9\" x=\"177.5\" y=\"665.9951\">P</text></a><!--MD5=[2720a5a1f2c3fca2055b230370638851]\n",
       "link E2 to E3--><a href=\"psysml:488f6ee0-39a9-4dc0-b555-612cc99c37a1\" target=\"_top\" title=\"psysml:488f6ee0-39a9-4dc0-b555-612cc99c37a1\" xlink:actuate=\"onRequest\" xlink:href=\"psysml:488f6ee0-39a9-4dc0-b555-612cc99c37a1\" xlink:show=\"new\" xlink:title=\"psysml:488f6ee0-39a9-4dc0-b555-612cc99c37a1\" xlink:type=\"simple\"><path d=\"M222,87.17 C222,98.75 222,113.45 222,127.71 \" fill=\"none\" id=\"E2-&gt;E3\" style=\"stroke: #A80036; stroke-width: 1.0;\"/><polygon fill=\"#FFFFFF\" points=\"222,147.89,215,128.89,229,128.89,222,147.89\" style=\"stroke: #A80036; stroke-width: 1.0;\"/><ellipse cx=\"217\" cy=\"123.19\" fill=\"#A80036\" rx=\"2\" ry=\"2\" style=\"stroke: #A80036; stroke-width: 1.0;\"/><ellipse cx=\"227\" cy=\"123.19\" fill=\"#A80036\" rx=\"2\" ry=\"2\" style=\"stroke: #A80036; stroke-width: 1.0;\"/></a><!--MD5=[4672eba38e49728da53d11aeb285b987]\n",
       "reverse link E3 to E4--><a href=\"psysml:98712745-a638-4d1f-8ffc-380c342569c9\" target=\"_top\" title=\"psysml:98712745-a638-4d1f-8ffc-380c342569c9\" xlink:actuate=\"onRequest\" xlink:href=\"psysml:98712745-a638-4d1f-8ffc-380c342569c9\" xlink:show=\"new\" xlink:title=\"psysml:98712745-a638-4d1f-8ffc-380c342569c9\" xlink:type=\"simple\"><path d=\"M254.96,189.28 C295.45,200.19 362.4,225.06 392,275 C406.24,299.02 391.24,330.16 377.35,350.82 \" fill=\"none\" id=\"E3&lt;-E4\" style=\"stroke: #A80036; stroke-width: 1.0;\"/><polygon fill=\"#A80036\" points=\"242.09,186.04,246.9336,191.3822,253.7278,188.9659,248.8842,183.6237,242.09,186.04\" style=\"stroke: #A80036; stroke-width: 1.0;\"/><text fill=\"#000000\" font-family=\"sans-serif\" font-size=\"13\" lengthAdjust=\"spacingAndGlyphs\" textLength=\"8\" x=\"373.7477\" y=\"341.0484\">1</text></a><!--MD5=[191cde3d490a3f6d7bb551fe3ddca469]\n",
       "reverse link E3 to E5--><a href=\"psysml:3d3c789c-d512-4565-8d7c-059f8d1010f8\" target=\"_top\" title=\"psysml:3d3c789c-d512-4565-8d7c-059f8d1010f8\" xlink:actuate=\"onRequest\" xlink:href=\"psysml:3d3c789c-d512-4565-8d7c-059f8d1010f8\" xlink:show=\"new\" xlink:title=\"psysml:3d3c789c-d512-4565-8d7c-059f8d1010f8\" xlink:type=\"simple\"><path d=\"M251.41,210.67 C271.71,230.45 298.32,256.37 317.05,274.64 \" fill=\"none\" id=\"E3&lt;-E5\" style=\"stroke: #A80036; stroke-width: 1.0;\"/><polygon fill=\"#FFFFFF\" points=\"242.02,201.51,243.5275,208.5618,250.6166,209.8825,249.1091,202.8307,242.02,201.51\" style=\"stroke: #A80036; stroke-width: 1.0;\"/><text fill=\"#000000\" font-family=\"sans-serif\" font-size=\"13\" lengthAdjust=\"spacingAndGlyphs\" textLength=\"8\" x=\"302.1441\" y=\"263.824\">1</text></a><!--MD5=[79568f1e445c3877b6a54524624ccc7d]\n",
       "link E4 to E6--><a href=\"psysml:1225703b-924d-44f0-aa92-4bca49ced0c9\" target=\"_top\" title=\"psysml:1225703b-924d-44f0-aa92-4bca49ced0c9\" xlink:actuate=\"onRequest\" xlink:href=\"psysml:1225703b-924d-44f0-aa92-4bca49ced0c9\" xlink:show=\"new\" xlink:title=\"psysml:1225703b-924d-44f0-aa92-4bca49ced0c9\" xlink:type=\"simple\"><path d=\"M342.56,397.25 C316.34,430.72 266.53,494.3 235.41,534.01 \" fill=\"none\" id=\"E4-&gt;E6\" style=\"stroke: #A80036; stroke-width: 1.0;\"/><polygon fill=\"#FFFFFF\" points=\"222.97,549.9,229.1843,530.6287,240.2018,539.2667,222.97,549.9\" style=\"stroke: #A80036; stroke-width: 1.0;\"/><ellipse cx=\"234.2751\" cy=\"527.377\" fill=\"#A80036\" rx=\"2\" ry=\"2\" style=\"stroke: #A80036; stroke-width: 1.0;\"/><ellipse cx=\"242.1447\" cy=\"533.547\" fill=\"#A80036\" rx=\"2\" ry=\"2\" style=\"stroke: #A80036; stroke-width: 1.0;\"/></a><!--MD5=[3f50a3473f1dfb74d3f76443e03635af]\n",
       "reverse link E6 to E7--><a href=\"psysml:a81e6d2d-a633-4d51-820c-a47602c519dd\" target=\"_top\" title=\"psysml:a81e6d2d-a633-4d51-820c-a47602c519dd\" xlink:actuate=\"onRequest\" xlink:href=\"psysml:a81e6d2d-a633-4d51-820c-a47602c519dd\" xlink:show=\"new\" xlink:title=\"psysml:a81e6d2d-a633-4d51-820c-a47602c519dd\" xlink:type=\"simple\"><path d=\"M178.07,597.98 C158.75,615.41 133.92,637.8 115.72,654.21 \" fill=\"none\" id=\"E6&lt;-E7\" style=\"stroke: #A80036; stroke-width: 1.0;\"/><polygon fill=\"#A80036\" points=\"187.89,589.14,180.7549,590.1841,178.9744,597.1719,186.1095,596.1278,187.89,589.14\" style=\"stroke: #A80036; stroke-width: 1.0;\"/><text fill=\"#000000\" font-family=\"sans-serif\" font-size=\"13\" lengthAdjust=\"spacingAndGlyphs\" textLength=\"8\" x=\"113.0295\" y=\"643.412\">1</text></a><!--MD5=[14ccda38c055a5c0da953d572bc50960]\n",
       "link E7 to E3--><a href=\"psysml:4883cacd-6695-4e4a-8cc2-3609b81ec9a9\" target=\"_top\" title=\"psysml:4883cacd-6695-4e4a-8cc2-3609b81ec9a9\" xlink:actuate=\"onRequest\" xlink:href=\"psysml:4883cacd-6695-4e4a-8cc2-3609b81ec9a9\" xlink:show=\"new\" xlink:title=\"psysml:4883cacd-6695-4e4a-8cc2-3609b81ec9a9\" xlink:type=\"simple\"><path d=\"M70.06,654.14 C53.45,634.01 33,602.77 33,571 C33,297 33,297 33,297 C33,227.83 126.54,199.07 182,188.09 \" fill=\"none\" id=\"E7-&gt;E3\" style=\"stroke: #A80036; stroke-width: 1.0;\"/><polygon fill=\"#FFFFFF\" points=\"201.77,184.61,184.2731,194.8011,181.8435,181.0135,201.77,184.61\" style=\"stroke: #A80036; stroke-width: 1.0;\"/><ellipse cx=\"178.3125\" cy=\"193.8206\" fill=\"#A80036\" rx=\"2\" ry=\"2\" style=\"stroke: #A80036; stroke-width: 1.0;\"/><ellipse cx=\"176.5771\" cy=\"183.9723\" fill=\"#A80036\" rx=\"2\" ry=\"2\" style=\"stroke: #A80036; stroke-width: 1.0;\"/></a><!--MD5=[f4cf0736d43fd73c4ef68817c49d37d5]\n",
       "reverse link E6 to E8--><a href=\"psysml:2d844c43-a52c-43bf-b052-a300acb2bf74\" target=\"_top\" title=\"psysml:2d844c43-a52c-43bf-b052-a300acb2bf74\" xlink:actuate=\"onRequest\" xlink:href=\"psysml:2d844c43-a52c-43bf-b052-a300acb2bf74\" xlink:show=\"new\" xlink:title=\"psysml:2d844c43-a52c-43bf-b052-a300acb2bf74\" xlink:type=\"simple\"><path d=\"M226.71,601.84 C236.92,618.67 249.32,639.11 258.56,654.35 \" fill=\"none\" id=\"E6&lt;-E8\" style=\"stroke: #A80036; stroke-width: 1.0;\"/><polygon fill=\"#FFFFFF\" points=\"219.74,590.35,219.4323,597.5545,225.9643,600.6095,226.272,593.405,219.74,590.35\" style=\"stroke: #A80036; stroke-width: 1.0;\"/><text fill=\"#000000\" font-family=\"sans-serif\" font-size=\"13\" lengthAdjust=\"spacingAndGlyphs\" textLength=\"8\" x=\"246.091\" y=\"643.5879\">1</text></a><!--MD5=[e88d06e5a652d73a6b19930eefe025a8]\n",
       "reverse link E6 to E9--><a href=\"psysml:5153bd7e-9106-496d-98a6-0d3fae0d20a5\" target=\"_top\" title=\"psysml:5153bd7e-9106-496d-98a6-0d3fae0d20a5\" xlink:actuate=\"onRequest\" xlink:href=\"psysml:5153bd7e-9106-496d-98a6-0d3fae0d20a5\" xlink:show=\"new\" xlink:title=\"psysml:5153bd7e-9106-496d-98a6-0d3fae0d20a5\" xlink:type=\"simple\"><path d=\"M201.5,605.31 C198.68,620.15 195.45,637.21 192.85,650.91 \" fill=\"none\" id=\"E6&lt;-E9\" style=\"stroke: #A80036; stroke-width: 1.0;\"/><ellipse cx=\"202.8373\" cy=\"598.2095\" fill=\"#FFFFFF\" rx=\"8\" ry=\"8\" style=\"stroke: #A80036; stroke-width: 1.0;\"/><line style=\"stroke: #A80036; stroke-width: 1.0;\" x1=\"201.3446\" x2=\"204.33\" y1=\"606.069\" y2=\"590.35\"/><line style=\"stroke: #A80036; stroke-width: 1.0;\" x1=\"194.9778\" x2=\"210.6968\" y1=\"596.7168\" y2=\"599.7022\"/></a><!--MD5=[f78a29d5932556fa1060671a2a6507d8]\n",
       "link E5 to E10--><a href=\"psysml:63374559-c2a0-4cf8-92a3-b39a3ed3eac1\" target=\"_top\" title=\"psysml:63374559-c2a0-4cf8-92a3-b39a3ed3eac1\" xlink:actuate=\"onRequest\" xlink:href=\"psysml:63374559-c2a0-4cf8-92a3-b39a3ed3eac1\" xlink:show=\"new\" xlink:title=\"psysml:63374559-c2a0-4cf8-92a3-b39a3ed3eac1\" xlink:type=\"simple\"><path d=\"M326.74,321.28 C313.85,342 293.06,373.19 271,397 C265.65,402.78 259.66,408.49 253.55,413.91 \" fill=\"none\" id=\"E5-&gt;E10\" style=\"stroke: #A80036; stroke-width: 1.0;\"/><polygon fill=\"#FFFFFF\" points=\"237.97,426.96,248.0287,409.3867,257.0257,420.113,237.97,426.96\" style=\"stroke: #A80036; stroke-width: 1.0;\"/><ellipse cx=\"253.6812\" cy=\"407.256\" fill=\"#A80036\" rx=\"2\" ry=\"2\" style=\"stroke: #A80036; stroke-width: 1.0;\"/><ellipse cx=\"260.1076\" cy=\"414.9177\" fill=\"#A80036\" rx=\"2\" ry=\"2\" style=\"stroke: #A80036; stroke-width: 1.0;\"/></a><!--MD5=[8e04057e7b3cbc0dca4fc78ea351e2da]\n",
       "reverse link E10 to E3--><a href=\"psysml:e24d69b8-a494-4022-9892-35ed42c85155\" target=\"_top\" title=\"psysml:e24d69b8-a494-4022-9892-35ed42c85155\" xlink:actuate=\"onRequest\" xlink:href=\"psysml:e24d69b8-a494-4022-9892-35ed42c85155\" xlink:show=\"new\" xlink:title=\"psysml:e24d69b8-a494-4022-9892-35ed42c85155\" xlink:type=\"simple\"><path d=\"M177.16,416.9 C147.7,382.17 110.59,325.03 131,275 C145.25,240.07 179.63,211.14 201.82,195.24 \" fill=\"none\" id=\"E10&lt;-E3\" style=\"stroke: #A80036; stroke-width: 1.0;\"/><polygon fill=\"#FFFFFF\" points=\"185.98,426.93,185.0193,419.7832,178.0528,417.9212,179.0134,425.068,185.98,426.93\" style=\"stroke: #A80036; stroke-width: 1.0;\"/><text fill=\"#000000\" font-family=\"sans-serif\" font-size=\"13\" lengthAdjust=\"spacingAndGlyphs\" textLength=\"7\" x=\"132\" y=\"302.5669\">y</text></a><!--MD5=[8e04057e7b3cbc0dca4fc78ea351e2da]\n",
       "reverse link E10 to E3--><a href=\"psysml:e24d69b8-a494-4022-9892-35ed42c85155\" target=\"_top\" title=\"psysml:e24d69b8-a494-4022-9892-35ed42c85155\" xlink:actuate=\"onRequest\" xlink:href=\"psysml:e24d69b8-a494-4022-9892-35ed42c85155\" xlink:show=\"new\" xlink:title=\"psysml:e24d69b8-a494-4022-9892-35ed42c85155\" xlink:type=\"simple\"><path d=\"M207.2,413.68 C206.69,378.49 206.64,322.94 210,275 C211.42,254.7 214.32,232.05 216.91,214.19 \" fill=\"none\" id=\"E10&lt;-E3-1\" style=\"stroke: #A80036; stroke-width: 1.0;\"/><polygon fill=\"#FFFFFF\" points=\"207.43,426.99,211.3305,420.9248,207.232,414.9916,203.3315,421.0568,207.43,426.99\" style=\"stroke: #A80036; stroke-width: 1.0;\"/><text fill=\"#000000\" font-family=\"sans-serif\" font-size=\"13\" lengthAdjust=\"spacingAndGlyphs\" textLength=\"7\" x=\"211\" y=\"302.5669\">y</text></a><!--MD5=[8e04057e7b3cbc0dca4fc78ea351e2da]\n",
       "reverse link E10 to E3--><a href=\"psysml:e24d69b8-a494-4022-9892-35ed42c85155\" target=\"_top\" title=\"psysml:e24d69b8-a494-4022-9892-35ed42c85155\" xlink:actuate=\"onRequest\" xlink:href=\"psysml:e24d69b8-a494-4022-9892-35ed42c85155\" xlink:show=\"new\" xlink:title=\"psysml:e24d69b8-a494-4022-9892-35ed42c85155\" xlink:type=\"simple\"><path d=\"M213.75,413.53 C214.56,408.01 215.34,402.35 216,397 C220.14,363.33 221.44,354.88 223,321 C223.94,300.58 223.11,295.44 223,275 C222.89,254.82 222.65,232.17 222.43,214.28 \" fill=\"none\" id=\"E10&lt;-E3-2\" style=\"stroke: #A80036; stroke-width: 1.0;\"/><polygon fill=\"#FFFFFF\" points=\"211.72,426.77,216.5832,421.4456,213.5387,414.9086,208.6756,420.2331,211.72,426.77\" style=\"stroke: #A80036; stroke-width: 1.0;\"/><text fill=\"#000000\" font-family=\"sans-serif\" font-size=\"13\" lengthAdjust=\"spacingAndGlyphs\" textLength=\"7\" x=\"224\" y=\"302.5669\">y</text></a><!--MD5=[604cbf994c02b74b117f728a71673cea]\n",
       "reverse link E10 to E6--><a href=\"psysml:e24d69b8-a494-4022-9892-35ed42c85155\" target=\"_top\" title=\"psysml:e24d69b8-a494-4022-9892-35ed42c85155\" xlink:actuate=\"onRequest\" xlink:href=\"psysml:e24d69b8-a494-4022-9892-35ed42c85155\" xlink:show=\"new\" xlink:title=\"psysml:e24d69b8-a494-4022-9892-35ed42c85155\" xlink:type=\"simple\"><path d=\"M216.43,485.99 C218.14,496.86 219.12,508.91 218,520 C217.01,529.85 214.91,540.64 212.9,549.59 \" fill=\"none\" id=\"E10&lt;-E6\" style=\"stroke: #A80036; stroke-width: 1.0;\"/><polygon fill=\"#FFFFFF\" points=\"213.96,473,211.1427,479.638,216.1866,484.7916,219.0038,478.1536,213.96,473\" style=\"stroke: #A80036; stroke-width: 1.0;\"/><text fill=\"#000000\" font-family=\"sans-serif\" font-size=\"13\" lengthAdjust=\"spacingAndGlyphs\" textLength=\"7\" x=\"219\" y=\"516.0669\">y</text></a><!--MD5=[604cbf994c02b74b117f728a71673cea]\n",
       "reverse link E10 to E6--><a href=\"psysml:e24d69b8-a494-4022-9892-35ed42c85155\" target=\"_top\" title=\"psysml:e24d69b8-a494-4022-9892-35ed42c85155\" xlink:actuate=\"onRequest\" xlink:href=\"psysml:e24d69b8-a494-4022-9892-35ed42c85155\" xlink:show=\"new\" xlink:title=\"psysml:e24d69b8-a494-4022-9892-35ed42c85155\" xlink:type=\"simple\"><path d=\"M172.04,482.87 C167.13,489.03 162.81,495.82 160,503 C152,523.45 171.29,543.33 187.75,555.84 \" fill=\"none\" id=\"E10&lt;-E6-1\" style=\"stroke: #A80036; stroke-width: 1.0;\"/><polygon fill=\"#FFFFFF\" points=\"180.73,473.16,173.7505,474.973,172.7396,482.1129,179.7191,480.2999,180.73,473.16\" style=\"stroke: #A80036; stroke-width: 1.0;\"/><text fill=\"#000000\" font-family=\"sans-serif\" font-size=\"13\" lengthAdjust=\"spacingAndGlyphs\" textLength=\"7\" x=\"161\" y=\"516.0669\">y</text></a><!--MD5=[604cbf994c02b74b117f728a71673cea]\n",
       "reverse link E10 to E6--><a href=\"psysml:e24d69b8-a494-4022-9892-35ed42c85155\" target=\"_top\" title=\"psysml:e24d69b8-a494-4022-9892-35ed42c85155\" xlink:actuate=\"onRequest\" xlink:href=\"psysml:e24d69b8-a494-4022-9892-35ed42c85155\" xlink:show=\"new\" xlink:title=\"psysml:e24d69b8-a494-4022-9892-35ed42c85155\" xlink:type=\"simple\"><path d=\"M208,486.33 C208,507.08 208,532.51 208,549.64 \" fill=\"none\" id=\"E10&lt;-E6-2\" style=\"stroke: #A80036; stroke-width: 1.0;\"/><polygon fill=\"#FFFFFF\" points=\"208,473.19,204,479.19,208,485.19,212,479.19,208,473.19\" style=\"stroke: #A80036; stroke-width: 1.0;\"/><text fill=\"#000000\" font-family=\"sans-serif\" font-size=\"13\" lengthAdjust=\"spacingAndGlyphs\" textLength=\"7\" x=\"209\" y=\"516.0669\">y</text></a><!--MD5=[add526e66a4eb747634c6deb3962f533]\n",
       "@startuml\r\n",
       " \r\n",
       "package \"PartTest\" as E1  [[psysml:a6b62677-d27b-4bf3-83e0-375e3ba01a4b ]]  {\r\n",
       "comp usage \"f: A\" as E2 << << (P,limegreen) part>> [[psysml:fef66b5f-1b9d-421e-94fe-86858427a029 ]] {\r\n",
       "}\r\n",
       "comp def \"A\" as E3 << << (B,green) >> [[psysml:a2cad1be-c52d-4964-a87e-891cd7289f52 ]] {\r\n",
       "x\r\n",
       "y\r\n",
       "}\r\n",
       "comp usage \"b: B\" as E4 << << (P,limegreen) part>> [[psysml:9dcf2186-613a-4b96-912f-a1b95f354387 ]] {\r\n",
       "}\r\n",
       "comp usage \"c: C\" as E5 << << (P,blue) port>> [[psysml:a3147892-19dd-4d4c-8f64-71e53da800dc ]] {\r\n",
       "}\r\n",
       "comp def \"B\" as E6 << << (B,green) >> [[psysml:bbb3af71-bfb9-47e2-863f-33482c8ff081 ]] {\r\n",
       "}\r\n",
       "comp usage \"a: A\" as E7 << << (P,limegreen) part>> [[psysml:c128dc79-fecf-4cdb-b1ba-5850a9b121ec ]] {\r\n",
       "}\r\n",
       "comp usage \"x: ~C\" as E8 << << (P,blue) port>> [[psysml:540f6402-e62e-4ea3-b051-5d5cf5bfcb38 ]] {\r\n",
       "}\r\n",
       "package \"P\" as E9  [[psysml:f4e4ee2b-1abf-4dbd-8483-2b091bdfceaf ]]  {\r\n",
       "}\r\n",
       "comp def \"C\" as E10 << <<(D,brown) port def>> [[psysml:a92372c2-fe41-425f-b40c-da5b8c1ca15d ]] {\r\n",
       "}\r\n",
       "}\r\n",
       "E2 - -:|> E3 [[psysml:488f6ee0-39a9-4dc0-b555-612cc99c37a1 ]] \r\n",
       "E3 *- - \"1\"E4 [[psysml:98712745-a638-4d1f-8ffc-380c342569c9 ]] \r\n",
       "E3 o- - \"1\"E5 [[psysml:3d3c789c-d512-4565-8d7c-059f8d1010f8 ]] \r\n",
       "E4 - -:|> E6 [[psysml:1225703b-924d-44f0-aa92-4bca49ced0c9 ]] \r\n",
       "E6 *- - \"1\"E7 [[psysml:a81e6d2d-a633-4d51-820c-a47602c519dd ]] \r\n",
       "E7 - -:|> E3 [[psysml:4883cacd-6695-4e4a-8cc2-3609b81ec9a9 ]] \r\n",
       "E6 o- - \"1\"E8 [[psysml:2d844c43-a52c-43bf-b052-a300acb2bf74 ]] \r\n",
       "E6 +- - E9 [[psysml:5153bd7e-9106-496d-98a6-0d3fae0d20a5 ]] \r\n",
       "E5 - -:|> E10 [[psysml:63374559-c2a0-4cf8-92a3-b39a3ed3eac1 ]] \r\n",
       "E10 o- - E3 [[psysml:e24d69b8-a494-4022-9892-35ed42c85155 ]] : y\r\n",
       "E10 o- - E6 [[psysml:e24d69b8-a494-4022-9892-35ed42c85155 ]] : y\r\n",
       "E10 o- - E3 [[psysml:e24d69b8-a494-4022-9892-35ed42c85155 ]] : y\r\n",
       "E10 o- - E6 [[psysml:e24d69b8-a494-4022-9892-35ed42c85155 ]] : y\r\n",
       "E10 o- - E3 [[psysml:e24d69b8-a494-4022-9892-35ed42c85155 ]] : y\r\n",
       "E10 o- - E6 [[psysml:e24d69b8-a494-4022-9892-35ed42c85155 ]] : y\r\n",
       "@enduml\r\n",
       "\n",
       "PlantUML version 1.2020.13(Sat Jun 13 12:26:38 UTC 2020)\n",
       "(EPL source distribution)\n",
       "Java Runtime: OpenJDK Runtime Environment\n",
       "JVM: OpenJDK 64-Bit Server VM\n",
       "Default Encoding: UTF-8\n",
       "Language: en\n",
       "Country: null\n",
       "--></g></svg>"
      ]
     },
     "execution_count": 30,
     "metadata": {},
     "output_type": "execute_result"
    }
   ],
   "source": [
    "%viz --style=\"PLANTUML\" --view=\"Default\" \"PartTest\""
   ]
  },
  {
   "cell_type": "code",
   "execution_count": 31,
   "id": "b315e68b",
   "metadata": {
    "execution": {
     "iopub.execute_input": "2021-10-03T08:29:54.277004Z",
     "iopub.status.busy": "2021-10-03T08:29:54.276602Z",
     "iopub.status.idle": "2021-10-03T08:29:54.327884Z",
     "shell.execute_reply": "2021-10-03T08:29:54.327507Z"
    }
   },
   "outputs": [
    {
     "data": {
      "image/svg+xml": [
       "<?xml version=\"1.0\" encoding=\"UTF-8\" standalone=\"no\"?><svg xmlns=\"http://www.w3.org/2000/svg\" xmlns:xlink=\"http://www.w3.org/1999/xlink\" contentScriptType=\"application/ecmascript\" contentStyleType=\"text/css\" height=\"732px\" preserveAspectRatio=\"none\" style=\"width:449px;height:732px;\" version=\"1.1\" viewBox=\"0 0 449 732\" width=\"449px\" zoomAndPan=\"magnify\"><defs><filter height=\"300%\" id=\"f1fzginh3ezu8f\" width=\"300%\" x=\"-1\" y=\"-1\"><feGaussianBlur result=\"blurOut\" stdDeviation=\"2.0\"/><feColorMatrix in=\"blurOut\" result=\"blurOut2\" type=\"matrix\" values=\"0 0 0 0 0 0 0 0 0 0 0 0 0 0 0 0 0 0 .4 0\"/><feOffset dx=\"4.0\" dy=\"4.0\" in=\"blurOut2\" result=\"blurOut3\"/><feBlend in=\"SourceGraphic\" in2=\"blurOut3\" mode=\"normal\"/></filter></defs><g><!--MD5=[fbc87193dbaf4d95561dea2c320d4a47]\n",
       "cluster E1--><a href=\"psysml:a6b62677-d27b-4bf3-83e0-375e3ba01a4b\" target=\"_top\" title=\"psysml:a6b62677-d27b-4bf3-83e0-375e3ba01a4b\" xlink:actuate=\"onRequest\" xlink:href=\"psysml:a6b62677-d27b-4bf3-83e0-375e3ba01a4b\" xlink:show=\"new\" xlink:title=\"psysml:a6b62677-d27b-4bf3-83e0-375e3ba01a4b\" xlink:type=\"simple\"><polygon fill=\"#FFFFFF\" filter=\"url(#f1fzginh3ezu8f)\" points=\"16,6,80,6,87,28.2969,427,28.2969,427,720,16,720,16,6\" style=\"stroke: #000000; stroke-width: 1.5;\"/><line style=\"stroke: #000000; stroke-width: 1.5;\" x1=\"16\" x2=\"87\" y1=\"28.2969\" y2=\"28.2969\"/><text fill=\"#000000\" font-family=\"sans-serif\" font-size=\"14\" font-weight=\"bold\" lengthAdjust=\"spacingAndGlyphs\" textLength=\"58\" x=\"20\" y=\"20.9951\">PartTest</text></a><!--MD5=[b4997ac47864f28c2f74865a473b2911]\n",
       "class E2--><a href=\"psysml:fef66b5f-1b9d-421e-94fe-86858427a029\" target=\"_top\" title=\"psysml:fef66b5f-1b9d-421e-94fe-86858427a029\" xlink:actuate=\"onRequest\" xlink:href=\"psysml:fef66b5f-1b9d-421e-94fe-86858427a029\" xlink:show=\"new\" xlink:title=\"psysml:fef66b5f-1b9d-421e-94fe-86858427a029\" xlink:type=\"simple\"><rect fill=\"#FEFECE\" filter=\"url(#f1fzginh3ezu8f)\" height=\"45.9375\" id=\"E2\" rx=\"10\" ry=\"10\" style=\"stroke: #A80036; stroke-width: 1.5;\" width=\"68\" x=\"188\" y=\"41\"/><ellipse cx=\"203\" cy=\"59.9688\" fill=\"#32CD32\" rx=\"11\" ry=\"11\" style=\"stroke: #A80036; stroke-width: 1.0;\"/><path d=\"M199.8125,64.9688 L199.8125,54.375 L203.4219,54.375 Q204.6406,54.375 205.4375,54.8125 Q206.2344,55.2344 206.6094,55.9375 Q207,56.6406 207,57.4844 Q207,58.3281 206.625,59.0156 Q206.2656,59.7031 205.4688,60.125 Q204.6875,60.5313 203.5,60.5313 L201.7656,60.5313 L201.7656,64.9688 L199.8125,64.9688 Z M201.7656,58.9375 L203.375,58.9375 Q204.1875,58.9375 204.6094,58.5313 Q205.0313,58.125 205.0313,57.4844 Q205.0313,56.8594 204.6094,56.4531 Q204.1875,56.0469 203.3906,56.0469 L201.7656,56.0469 L201.7656,58.9375 Z \"/><text fill=\"#000000\" font-family=\"sans-serif\" font-size=\"12\" font-style=\"italic\" lengthAdjust=\"spacingAndGlyphs\" textLength=\"40\" x=\"215\" y=\"57.1387\">«part»</text><text fill=\"#000000\" font-family=\"sans-serif\" font-size=\"12\" lengthAdjust=\"spacingAndGlyphs\" textLength=\"20\" x=\"225\" y=\"71.1074\">f: A</text><line style=\"stroke: #A80036; stroke-width: 1.5;\" x1=\"189\" x2=\"255\" y1=\"78.9375\" y2=\"78.9375\"/></a><!--MD5=[09b614a08d8cba4a07c9adeb5e0fee81]\n",
       "class E3--><a href=\"psysml:a2cad1be-c52d-4964-a87e-891cd7289f52\" target=\"_top\" title=\"psysml:a2cad1be-c52d-4964-a87e-891cd7289f52\" xlink:actuate=\"onRequest\" xlink:href=\"psysml:a2cad1be-c52d-4964-a87e-891cd7289f52\" xlink:show=\"new\" xlink:title=\"psysml:a2cad1be-c52d-4964-a87e-891cd7289f52\" xlink:type=\"simple\"><rect fill=\"#FEFECE\" filter=\"url(#f1fzginh3ezu8f)\" height=\"65.6094\" id=\"E3\" style=\"stroke: #A80036; stroke-width: 1.5;\" width=\"40\" x=\"202\" y=\"148\"/><ellipse cx=\"217\" cy=\"164\" fill=\"#008000\" rx=\"11\" ry=\"11\" style=\"stroke: #A80036; stroke-width: 1.0;\"/><path d=\"M213.875,169 L213.875,158.4063 L217.1094,158.4063 Q219.0156,158.4063 219.9219,159.1563 Q220.8438,159.9063 220.8438,161.0781 Q220.8438,161.7656 220.4531,162.4219 Q220.0781,163.0781 219.3594,163.375 Q220.2188,163.75 220.7344,164.4375 Q221.25,165.125 221.25,165.9375 Q221.25,167.3125 220.2188,168.1563 Q219.2031,169 217.0938,169 L213.875,169 Z M215.7969,162.6406 L216.9531,162.6406 Q218.0781,162.6406 218.4844,162.2656 Q218.9063,161.875 218.9063,161.25 Q218.9063,160.6719 218.4844,160.3125 Q218.0625,159.9531 217.125,159.9531 L215.7969,159.9531 L215.7969,162.6406 Z M215.7969,167.4219 L217.2969,167.4219 Q218.2031,167.4219 218.7344,167.0313 Q219.2656,166.6406 219.2656,165.8906 Q219.2656,165.125 218.7656,164.6563 Q218.2656,164.1719 217,164.1719 L215.7969,164.1719 L215.7969,167.4219 Z \"/><text fill=\"#000000\" font-family=\"sans-serif\" font-size=\"12\" lengthAdjust=\"spacingAndGlyphs\" textLength=\"8\" x=\"231\" y=\"168.1543\">A</text><line style=\"stroke: #A80036; stroke-width: 1.5;\" x1=\"203\" x2=\"241\" y1=\"180\" y2=\"180\"/><text fill=\"#000000\" font-family=\"sans-serif\" font-size=\"11\" lengthAdjust=\"spacingAndGlyphs\" textLength=\"6\" x=\"208\" y=\"194.2104\">x</text><text fill=\"#000000\" font-family=\"sans-serif\" font-size=\"11\" lengthAdjust=\"spacingAndGlyphs\" textLength=\"6\" x=\"208\" y=\"207.0151\">y</text></a><!--MD5=[ebbe1d658d1005bcc118a6aa81145e00]\n",
       "class E4--><a href=\"psysml:9dcf2186-613a-4b96-912f-a1b95f354387\" target=\"_top\" title=\"psysml:9dcf2186-613a-4b96-912f-a1b95f354387\" xlink:actuate=\"onRequest\" xlink:href=\"psysml:9dcf2186-613a-4b96-912f-a1b95f354387\" xlink:show=\"new\" xlink:title=\"psysml:9dcf2186-613a-4b96-912f-a1b95f354387\" xlink:type=\"simple\"><rect fill=\"#FEFECE\" filter=\"url(#f1fzginh3ezu8f)\" height=\"45.9375\" id=\"E4\" rx=\"10\" ry=\"10\" style=\"stroke: #A80036; stroke-width: 1.5;\" width=\"68\" x=\"326\" y=\"351\"/><ellipse cx=\"341\" cy=\"369.9688\" fill=\"#32CD32\" rx=\"11\" ry=\"11\" style=\"stroke: #A80036; stroke-width: 1.0;\"/><path d=\"M337.8125,374.9688 L337.8125,364.375 L341.4219,364.375 Q342.6406,364.375 343.4375,364.8125 Q344.2344,365.2344 344.6094,365.9375 Q345,366.6406 345,367.4844 Q345,368.3281 344.625,369.0156 Q344.2656,369.7031 343.4688,370.125 Q342.6875,370.5313 341.5,370.5313 L339.7656,370.5313 L339.7656,374.9688 L337.8125,374.9688 Z M339.7656,368.9375 L341.375,368.9375 Q342.1875,368.9375 342.6094,368.5313 Q343.0313,368.125 343.0313,367.4844 Q343.0313,366.8594 342.6094,366.4531 Q342.1875,366.0469 341.3906,366.0469 L339.7656,366.0469 L339.7656,368.9375 Z \"/><text fill=\"#000000\" font-family=\"sans-serif\" font-size=\"12\" font-style=\"italic\" lengthAdjust=\"spacingAndGlyphs\" textLength=\"40\" x=\"353\" y=\"367.1387\">«part»</text><text fill=\"#000000\" font-family=\"sans-serif\" font-size=\"12\" lengthAdjust=\"spacingAndGlyphs\" textLength=\"24\" x=\"361\" y=\"381.1074\">b: B</text><line style=\"stroke: #A80036; stroke-width: 1.5;\" x1=\"327\" x2=\"393\" y1=\"388.9375\" y2=\"388.9375\"/></a><!--MD5=[270fce915f116d4de14055a7c1d9a0f3]\n",
       "class E5--><a href=\"psysml:a3147892-19dd-4d4c-8f64-71e53da800dc\" target=\"_top\" title=\"psysml:a3147892-19dd-4d4c-8f64-71e53da800dc\" xlink:actuate=\"onRequest\" xlink:href=\"psysml:a3147892-19dd-4d4c-8f64-71e53da800dc\" xlink:show=\"new\" xlink:title=\"psysml:a3147892-19dd-4d4c-8f64-71e53da800dc\" xlink:type=\"simple\"><rect fill=\"#FEFECE\" filter=\"url(#f1fzginh3ezu8f)\" height=\"45.9375\" id=\"E5\" rx=\"10\" ry=\"10\" style=\"stroke: #A80036; stroke-width: 1.5;\" width=\"68\" x=\"306\" y=\"275\"/><ellipse cx=\"321\" cy=\"293.9688\" fill=\"#0000FF\" rx=\"11\" ry=\"11\" style=\"stroke: #A80036; stroke-width: 1.0;\"/><path d=\"M317.8125,298.9688 L317.8125,288.375 L321.4219,288.375 Q322.6406,288.375 323.4375,288.8125 Q324.2344,289.2344 324.6094,289.9375 Q325,290.6406 325,291.4844 Q325,292.3281 324.625,293.0156 Q324.2656,293.7031 323.4688,294.125 Q322.6875,294.5313 321.5,294.5313 L319.7656,294.5313 L319.7656,298.9688 L317.8125,298.9688 Z M319.7656,292.9375 L321.375,292.9375 Q322.1875,292.9375 322.6094,292.5313 Q323.0313,292.125 323.0313,291.4844 Q323.0313,290.8594 322.6094,290.4531 Q322.1875,290.0469 321.3906,290.0469 L319.7656,290.0469 L319.7656,292.9375 Z \"/><text fill=\"#000000\" font-family=\"sans-serif\" font-size=\"12\" font-style=\"italic\" lengthAdjust=\"spacingAndGlyphs\" textLength=\"40\" x=\"333\" y=\"291.1387\">«port»</text><text fill=\"#000000\" font-family=\"sans-serif\" font-size=\"12\" lengthAdjust=\"spacingAndGlyphs\" textLength=\"23\" x=\"341.5\" y=\"305.1074\">c: C</text><line style=\"stroke: #A80036; stroke-width: 1.5;\" x1=\"307\" x2=\"373\" y1=\"312.9375\" y2=\"312.9375\"/></a><!--MD5=[60a26617385b1d2d0262a64233df1f8d]\n",
       "class E6--><a href=\"psysml:bbb3af71-bfb9-47e2-863f-33482c8ff081\" target=\"_top\" title=\"psysml:bbb3af71-bfb9-47e2-863f-33482c8ff081\" xlink:actuate=\"onRequest\" xlink:href=\"psysml:bbb3af71-bfb9-47e2-863f-33482c8ff081\" xlink:show=\"new\" xlink:title=\"psysml:bbb3af71-bfb9-47e2-863f-33482c8ff081\" xlink:type=\"simple\"><rect fill=\"#FEFECE\" filter=\"url(#f1fzginh3ezu8f)\" height=\"40\" id=\"E6\" style=\"stroke: #A80036; stroke-width: 1.5;\" width=\"40\" x=\"188\" y=\"550\"/><ellipse cx=\"203\" cy=\"566\" fill=\"#008000\" rx=\"11\" ry=\"11\" style=\"stroke: #A80036; stroke-width: 1.0;\"/><path d=\"M199.875,571 L199.875,560.4063 L203.1094,560.4063 Q205.0156,560.4063 205.9219,561.1563 Q206.8438,561.9063 206.8438,563.0781 Q206.8438,563.7656 206.4531,564.4219 Q206.0781,565.0781 205.3594,565.375 Q206.2188,565.75 206.7344,566.4375 Q207.25,567.125 207.25,567.9375 Q207.25,569.3125 206.2188,570.1563 Q205.2031,571 203.0938,571 L199.875,571 Z M201.7969,564.6406 L202.9531,564.6406 Q204.0781,564.6406 204.4844,564.2656 Q204.9063,563.875 204.9063,563.25 Q204.9063,562.6719 204.4844,562.3125 Q204.0625,561.9531 203.125,561.9531 L201.7969,561.9531 L201.7969,564.6406 Z M201.7969,569.4219 L203.2969,569.4219 Q204.2031,569.4219 204.7344,569.0313 Q205.2656,568.6406 205.2656,567.8906 Q205.2656,567.125 204.7656,566.6563 Q204.2656,566.1719 203,566.1719 L201.7969,566.1719 L201.7969,569.4219 Z \"/><text fill=\"#000000\" font-family=\"sans-serif\" font-size=\"12\" lengthAdjust=\"spacingAndGlyphs\" textLength=\"8\" x=\"217\" y=\"570.1543\">B</text><line style=\"stroke: #A80036; stroke-width: 1.5;\" x1=\"189\" x2=\"227\" y1=\"582\" y2=\"582\"/></a><!--MD5=[2156ba9850f5573cc1fc38a6a4b2f02b]\n",
       "class E7--><a href=\"psysml:c128dc79-fecf-4cdb-b1ba-5850a9b121ec\" target=\"_top\" title=\"psysml:c128dc79-fecf-4cdb-b1ba-5850a9b121ec\" xlink:actuate=\"onRequest\" xlink:href=\"psysml:c128dc79-fecf-4cdb-b1ba-5850a9b121ec\" xlink:show=\"new\" xlink:title=\"psysml:c128dc79-fecf-4cdb-b1ba-5850a9b121ec\" xlink:type=\"simple\"><rect fill=\"#FEFECE\" filter=\"url(#f1fzginh3ezu8f)\" height=\"45.9375\" id=\"E7\" rx=\"10\" ry=\"10\" style=\"stroke: #A80036; stroke-width: 1.5;\" width=\"68\" x=\"57\" y=\"654.5\"/><ellipse cx=\"72\" cy=\"673.4688\" fill=\"#32CD32\" rx=\"11\" ry=\"11\" style=\"stroke: #A80036; stroke-width: 1.0;\"/><path d=\"M68.8125,678.4688 L68.8125,667.875 L72.4219,667.875 Q73.6406,667.875 74.4375,668.3125 Q75.2344,668.7344 75.6094,669.4375 Q76,670.1406 76,670.9844 Q76,671.8281 75.625,672.5156 Q75.2656,673.2031 74.4688,673.625 Q73.6875,674.0313 72.5,674.0313 L70.7656,674.0313 L70.7656,678.4688 L68.8125,678.4688 Z M70.7656,672.4375 L72.375,672.4375 Q73.1875,672.4375 73.6094,672.0313 Q74.0313,671.625 74.0313,670.9844 Q74.0313,670.3594 73.6094,669.9531 Q73.1875,669.5469 72.3906,669.5469 L70.7656,669.5469 L70.7656,672.4375 Z \"/><text fill=\"#000000\" font-family=\"sans-serif\" font-size=\"12\" font-style=\"italic\" lengthAdjust=\"spacingAndGlyphs\" textLength=\"40\" x=\"84\" y=\"670.6387\">«part»</text><text fill=\"#000000\" font-family=\"sans-serif\" font-size=\"12\" lengthAdjust=\"spacingAndGlyphs\" textLength=\"24\" x=\"92\" y=\"684.6074\">a: A</text><line style=\"stroke: #A80036; stroke-width: 1.5;\" x1=\"58\" x2=\"124\" y1=\"692.4375\" y2=\"692.4375\"/></a><!--MD5=[b9389687b975829384b498ac4b7476b2]\n",
       "class E8--><a href=\"psysml:540f6402-e62e-4ea3-b051-5d5cf5bfcb38\" target=\"_top\" title=\"psysml:540f6402-e62e-4ea3-b051-5d5cf5bfcb38\" xlink:actuate=\"onRequest\" xlink:href=\"psysml:540f6402-e62e-4ea3-b051-5d5cf5bfcb38\" xlink:show=\"new\" xlink:title=\"psysml:540f6402-e62e-4ea3-b051-5d5cf5bfcb38\" xlink:type=\"simple\"><rect fill=\"#FEFECE\" filter=\"url(#f1fzginh3ezu8f)\" height=\"45.9375\" id=\"E8\" rx=\"10\" ry=\"10\" style=\"stroke: #A80036; stroke-width: 1.5;\" width=\"68\" x=\"238\" y=\"654.5\"/><ellipse cx=\"253\" cy=\"673.4688\" fill=\"#0000FF\" rx=\"11\" ry=\"11\" style=\"stroke: #A80036; stroke-width: 1.0;\"/><path d=\"M249.8125,678.4688 L249.8125,667.875 L253.4219,667.875 Q254.6406,667.875 255.4375,668.3125 Q256.2344,668.7344 256.6094,669.4375 Q257,670.1406 257,670.9844 Q257,671.8281 256.625,672.5156 Q256.2656,673.2031 255.4688,673.625 Q254.6875,674.0313 253.5,674.0313 L251.7656,674.0313 L251.7656,678.4688 L249.8125,678.4688 Z M251.7656,672.4375 L253.375,672.4375 Q254.1875,672.4375 254.6094,672.0313 Q255.0313,671.625 255.0313,670.9844 Q255.0313,670.3594 254.6094,669.9531 Q254.1875,669.5469 253.3906,669.5469 L251.7656,669.5469 L251.7656,672.4375 Z \"/><text fill=\"#000000\" font-family=\"sans-serif\" font-size=\"12\" font-style=\"italic\" lengthAdjust=\"spacingAndGlyphs\" textLength=\"40\" x=\"265\" y=\"670.6387\">«port»</text><text fill=\"#000000\" font-family=\"sans-serif\" font-size=\"12\" lengthAdjust=\"spacingAndGlyphs\" textLength=\"32\" x=\"269\" y=\"684.6074\">x: ~C</text><line style=\"stroke: #A80036; stroke-width: 1.5;\" x1=\"239\" x2=\"305\" y1=\"692.4375\" y2=\"692.4375\"/></a><!--MD5=[96f4274e9e20536e775497830990834d]\n",
       "class E10--><a href=\"psysml:a92372c2-fe41-425f-b40c-da5b8c1ca15d\" target=\"_top\" title=\"psysml:a92372c2-fe41-425f-b40c-da5b8c1ca15d\" xlink:actuate=\"onRequest\" xlink:href=\"psysml:a92372c2-fe41-425f-b40c-da5b8c1ca15d\" xlink:show=\"new\" xlink:title=\"psysml:a92372c2-fe41-425f-b40c-da5b8c1ca15d\" xlink:type=\"simple\"><rect fill=\"#FEFECE\" filter=\"url(#f1fzginh3ezu8f)\" height=\"45.9375\" id=\"E10\" style=\"stroke: #A80036; stroke-width: 1.5;\" width=\"92\" x=\"162\" y=\"427\"/><ellipse cx=\"177\" cy=\"445.9688\" fill=\"#A52A2A\" rx=\"11\" ry=\"11\" style=\"stroke: #A80036; stroke-width: 1.0;\"/><path d=\"M174.2188,450.9688 L174.2188,440.375 L176.9531,440.375 Q178.3438,440.375 179.1094,440.7656 Q179.8906,441.1406 180.4219,441.8438 Q180.9531,442.5469 181.25,443.5469 Q181.5469,444.5313 181.5469,445.75 Q181.5,447.3438 181,448.5313 Q180.5156,449.7031 179.4688,450.3438 Q178.4375,450.9688 176.75,450.9688 L174.2188,450.9688 Z M176.0781,449.4688 L176.7031,449.4688 Q177.7813,449.4688 178.4375,449.0156 Q179.0938,448.5625 179.375,447.7344 Q179.6719,446.8906 179.6563,445.7656 Q179.6563,444.5938 179.4063,443.7344 Q179.1563,442.8594 178.5469,442.3906 Q177.9375,441.9063 176.8906,441.9063 L176.0781,441.9063 L176.0781,449.4688 Z \"/><text fill=\"#000000\" font-family=\"sans-serif\" font-size=\"12\" font-style=\"italic\" lengthAdjust=\"spacingAndGlyphs\" textLength=\"64\" x=\"189\" y=\"443.1387\">«port def»</text><text fill=\"#000000\" font-family=\"sans-serif\" font-size=\"12\" lengthAdjust=\"spacingAndGlyphs\" textLength=\"8\" x=\"217\" y=\"457.1074\">C</text><line style=\"stroke: #A80036; stroke-width: 1.5;\" x1=\"163\" x2=\"253\" y1=\"464.9375\" y2=\"464.9375\"/></a><a href=\"psysml:f4e4ee2b-1abf-4dbd-8483-2b091bdfceaf\" target=\"_top\" title=\"psysml:f4e4ee2b-1abf-4dbd-8483-2b091bdfceaf\" xlink:actuate=\"onRequest\" xlink:href=\"psysml:f4e4ee2b-1abf-4dbd-8483-2b091bdfceaf\" xlink:show=\"new\" xlink:title=\"psysml:f4e4ee2b-1abf-4dbd-8483-2b091bdfceaf\" xlink:type=\"simple\"><polygon fill=\"#FFFFFF\" filter=\"url(#f1fzginh3ezu8f)\" points=\"173.5,651,188.5,651,195.5,673.2969,202.5,673.2969,202.5,703.5938,173.5,703.5938,173.5,651\" style=\"stroke: #000000; stroke-width: 1.5;\"/><line style=\"stroke: #000000; stroke-width: 1.5;\" x1=\"173.5\" x2=\"195.5\" y1=\"673.2969\" y2=\"673.2969\"/><text fill=\"#000000\" font-family=\"sans-serif\" font-size=\"14\" font-weight=\"bold\" lengthAdjust=\"spacingAndGlyphs\" textLength=\"9\" x=\"177.5\" y=\"665.9951\">P</text></a><!--MD5=[2720a5a1f2c3fca2055b230370638851]\n",
       "link E2 to E3--><a href=\"psysml:488f6ee0-39a9-4dc0-b555-612cc99c37a1\" target=\"_top\" title=\"psysml:488f6ee0-39a9-4dc0-b555-612cc99c37a1\" xlink:actuate=\"onRequest\" xlink:href=\"psysml:488f6ee0-39a9-4dc0-b555-612cc99c37a1\" xlink:show=\"new\" xlink:title=\"psysml:488f6ee0-39a9-4dc0-b555-612cc99c37a1\" xlink:type=\"simple\"><path d=\"M222,87.17 C222,98.75 222,113.45 222,127.71 \" fill=\"none\" id=\"E2-&gt;E3\" style=\"stroke: #A80036; stroke-width: 1.0;\"/><polygon fill=\"#FFFFFF\" points=\"222,147.89,215,128.89,229,128.89,222,147.89\" style=\"stroke: #A80036; stroke-width: 1.0;\"/><ellipse cx=\"217\" cy=\"123.19\" fill=\"#A80036\" rx=\"2\" ry=\"2\" style=\"stroke: #A80036; stroke-width: 1.0;\"/><ellipse cx=\"227\" cy=\"123.19\" fill=\"#A80036\" rx=\"2\" ry=\"2\" style=\"stroke: #A80036; stroke-width: 1.0;\"/></a><!--MD5=[4672eba38e49728da53d11aeb285b987]\n",
       "reverse link E3 to E4--><a href=\"psysml:98712745-a638-4d1f-8ffc-380c342569c9\" target=\"_top\" title=\"psysml:98712745-a638-4d1f-8ffc-380c342569c9\" xlink:actuate=\"onRequest\" xlink:href=\"psysml:98712745-a638-4d1f-8ffc-380c342569c9\" xlink:show=\"new\" xlink:title=\"psysml:98712745-a638-4d1f-8ffc-380c342569c9\" xlink:type=\"simple\"><path d=\"M254.96,189.28 C295.45,200.19 362.4,225.06 392,275 C406.24,299.02 391.24,330.16 377.35,350.82 \" fill=\"none\" id=\"E3&lt;-E4\" style=\"stroke: #A80036; stroke-width: 1.0;\"/><polygon fill=\"#A80036\" points=\"242.09,186.04,246.9336,191.3822,253.7278,188.9659,248.8842,183.6237,242.09,186.04\" style=\"stroke: #A80036; stroke-width: 1.0;\"/><text fill=\"#000000\" font-family=\"sans-serif\" font-size=\"13\" lengthAdjust=\"spacingAndGlyphs\" textLength=\"8\" x=\"373.7477\" y=\"341.0484\">1</text></a><!--MD5=[191cde3d490a3f6d7bb551fe3ddca469]\n",
       "reverse link E3 to E5--><a href=\"psysml:3d3c789c-d512-4565-8d7c-059f8d1010f8\" target=\"_top\" title=\"psysml:3d3c789c-d512-4565-8d7c-059f8d1010f8\" xlink:actuate=\"onRequest\" xlink:href=\"psysml:3d3c789c-d512-4565-8d7c-059f8d1010f8\" xlink:show=\"new\" xlink:title=\"psysml:3d3c789c-d512-4565-8d7c-059f8d1010f8\" xlink:type=\"simple\"><path d=\"M251.41,210.67 C271.71,230.45 298.32,256.37 317.05,274.64 \" fill=\"none\" id=\"E3&lt;-E5\" style=\"stroke: #A80036; stroke-width: 1.0;\"/><polygon fill=\"#FFFFFF\" points=\"242.02,201.51,243.5275,208.5618,250.6166,209.8825,249.1091,202.8307,242.02,201.51\" style=\"stroke: #A80036; stroke-width: 1.0;\"/><text fill=\"#000000\" font-family=\"sans-serif\" font-size=\"13\" lengthAdjust=\"spacingAndGlyphs\" textLength=\"8\" x=\"302.1441\" y=\"263.824\">1</text></a><!--MD5=[79568f1e445c3877b6a54524624ccc7d]\n",
       "link E4 to E6--><a href=\"psysml:1225703b-924d-44f0-aa92-4bca49ced0c9\" target=\"_top\" title=\"psysml:1225703b-924d-44f0-aa92-4bca49ced0c9\" xlink:actuate=\"onRequest\" xlink:href=\"psysml:1225703b-924d-44f0-aa92-4bca49ced0c9\" xlink:show=\"new\" xlink:title=\"psysml:1225703b-924d-44f0-aa92-4bca49ced0c9\" xlink:type=\"simple\"><path d=\"M342.56,397.25 C316.34,430.72 266.53,494.3 235.41,534.01 \" fill=\"none\" id=\"E4-&gt;E6\" style=\"stroke: #A80036; stroke-width: 1.0;\"/><polygon fill=\"#FFFFFF\" points=\"222.97,549.9,229.1843,530.6287,240.2018,539.2667,222.97,549.9\" style=\"stroke: #A80036; stroke-width: 1.0;\"/><ellipse cx=\"234.2751\" cy=\"527.377\" fill=\"#A80036\" rx=\"2\" ry=\"2\" style=\"stroke: #A80036; stroke-width: 1.0;\"/><ellipse cx=\"242.1447\" cy=\"533.547\" fill=\"#A80036\" rx=\"2\" ry=\"2\" style=\"stroke: #A80036; stroke-width: 1.0;\"/></a><!--MD5=[3f50a3473f1dfb74d3f76443e03635af]\n",
       "reverse link E6 to E7--><a href=\"psysml:a81e6d2d-a633-4d51-820c-a47602c519dd\" target=\"_top\" title=\"psysml:a81e6d2d-a633-4d51-820c-a47602c519dd\" xlink:actuate=\"onRequest\" xlink:href=\"psysml:a81e6d2d-a633-4d51-820c-a47602c519dd\" xlink:show=\"new\" xlink:title=\"psysml:a81e6d2d-a633-4d51-820c-a47602c519dd\" xlink:type=\"simple\"><path d=\"M178.07,597.98 C158.75,615.41 133.92,637.8 115.72,654.21 \" fill=\"none\" id=\"E6&lt;-E7\" style=\"stroke: #A80036; stroke-width: 1.0;\"/><polygon fill=\"#A80036\" points=\"187.89,589.14,180.7549,590.1841,178.9744,597.1719,186.1095,596.1278,187.89,589.14\" style=\"stroke: #A80036; stroke-width: 1.0;\"/><text fill=\"#000000\" font-family=\"sans-serif\" font-size=\"13\" lengthAdjust=\"spacingAndGlyphs\" textLength=\"8\" x=\"113.0295\" y=\"643.412\">1</text></a><!--MD5=[14ccda38c055a5c0da953d572bc50960]\n",
       "link E7 to E3--><a href=\"psysml:4883cacd-6695-4e4a-8cc2-3609b81ec9a9\" target=\"_top\" title=\"psysml:4883cacd-6695-4e4a-8cc2-3609b81ec9a9\" xlink:actuate=\"onRequest\" xlink:href=\"psysml:4883cacd-6695-4e4a-8cc2-3609b81ec9a9\" xlink:show=\"new\" xlink:title=\"psysml:4883cacd-6695-4e4a-8cc2-3609b81ec9a9\" xlink:type=\"simple\"><path d=\"M70.06,654.14 C53.45,634.01 33,602.77 33,571 C33,297 33,297 33,297 C33,227.83 126.54,199.07 182,188.09 \" fill=\"none\" id=\"E7-&gt;E3\" style=\"stroke: #A80036; stroke-width: 1.0;\"/><polygon fill=\"#FFFFFF\" points=\"201.77,184.61,184.2731,194.8011,181.8435,181.0135,201.77,184.61\" style=\"stroke: #A80036; stroke-width: 1.0;\"/><ellipse cx=\"178.3125\" cy=\"193.8206\" fill=\"#A80036\" rx=\"2\" ry=\"2\" style=\"stroke: #A80036; stroke-width: 1.0;\"/><ellipse cx=\"176.5771\" cy=\"183.9723\" fill=\"#A80036\" rx=\"2\" ry=\"2\" style=\"stroke: #A80036; stroke-width: 1.0;\"/></a><!--MD5=[f4cf0736d43fd73c4ef68817c49d37d5]\n",
       "reverse link E6 to E8--><a href=\"psysml:2d844c43-a52c-43bf-b052-a300acb2bf74\" target=\"_top\" title=\"psysml:2d844c43-a52c-43bf-b052-a300acb2bf74\" xlink:actuate=\"onRequest\" xlink:href=\"psysml:2d844c43-a52c-43bf-b052-a300acb2bf74\" xlink:show=\"new\" xlink:title=\"psysml:2d844c43-a52c-43bf-b052-a300acb2bf74\" xlink:type=\"simple\"><path d=\"M226.71,601.84 C236.92,618.67 249.32,639.11 258.56,654.35 \" fill=\"none\" id=\"E6&lt;-E8\" style=\"stroke: #A80036; stroke-width: 1.0;\"/><polygon fill=\"#FFFFFF\" points=\"219.74,590.35,219.4323,597.5545,225.9643,600.6095,226.272,593.405,219.74,590.35\" style=\"stroke: #A80036; stroke-width: 1.0;\"/><text fill=\"#000000\" font-family=\"sans-serif\" font-size=\"13\" lengthAdjust=\"spacingAndGlyphs\" textLength=\"8\" x=\"246.091\" y=\"643.5879\">1</text></a><!--MD5=[e88d06e5a652d73a6b19930eefe025a8]\n",
       "reverse link E6 to E9--><a href=\"psysml:5153bd7e-9106-496d-98a6-0d3fae0d20a5\" target=\"_top\" title=\"psysml:5153bd7e-9106-496d-98a6-0d3fae0d20a5\" xlink:actuate=\"onRequest\" xlink:href=\"psysml:5153bd7e-9106-496d-98a6-0d3fae0d20a5\" xlink:show=\"new\" xlink:title=\"psysml:5153bd7e-9106-496d-98a6-0d3fae0d20a5\" xlink:type=\"simple\"><path d=\"M201.5,605.31 C198.68,620.15 195.45,637.21 192.85,650.91 \" fill=\"none\" id=\"E6&lt;-E9\" style=\"stroke: #A80036; stroke-width: 1.0;\"/><ellipse cx=\"202.8373\" cy=\"598.2095\" fill=\"#FFFFFF\" rx=\"8\" ry=\"8\" style=\"stroke: #A80036; stroke-width: 1.0;\"/><line style=\"stroke: #A80036; stroke-width: 1.0;\" x1=\"201.3446\" x2=\"204.33\" y1=\"606.069\" y2=\"590.35\"/><line style=\"stroke: #A80036; stroke-width: 1.0;\" x1=\"194.9778\" x2=\"210.6968\" y1=\"596.7168\" y2=\"599.7022\"/></a><!--MD5=[f78a29d5932556fa1060671a2a6507d8]\n",
       "link E5 to E10--><a href=\"psysml:63374559-c2a0-4cf8-92a3-b39a3ed3eac1\" target=\"_top\" title=\"psysml:63374559-c2a0-4cf8-92a3-b39a3ed3eac1\" xlink:actuate=\"onRequest\" xlink:href=\"psysml:63374559-c2a0-4cf8-92a3-b39a3ed3eac1\" xlink:show=\"new\" xlink:title=\"psysml:63374559-c2a0-4cf8-92a3-b39a3ed3eac1\" xlink:type=\"simple\"><path d=\"M326.74,321.28 C313.85,342 293.06,373.19 271,397 C265.65,402.78 259.66,408.49 253.55,413.91 \" fill=\"none\" id=\"E5-&gt;E10\" style=\"stroke: #A80036; stroke-width: 1.0;\"/><polygon fill=\"#FFFFFF\" points=\"237.97,426.96,248.0287,409.3867,257.0257,420.113,237.97,426.96\" style=\"stroke: #A80036; stroke-width: 1.0;\"/><ellipse cx=\"253.6812\" cy=\"407.256\" fill=\"#A80036\" rx=\"2\" ry=\"2\" style=\"stroke: #A80036; stroke-width: 1.0;\"/><ellipse cx=\"260.1076\" cy=\"414.9177\" fill=\"#A80036\" rx=\"2\" ry=\"2\" style=\"stroke: #A80036; stroke-width: 1.0;\"/></a><!--MD5=[8e04057e7b3cbc0dca4fc78ea351e2da]\n",
       "reverse link E10 to E3--><a href=\"psysml:e24d69b8-a494-4022-9892-35ed42c85155\" target=\"_top\" title=\"psysml:e24d69b8-a494-4022-9892-35ed42c85155\" xlink:actuate=\"onRequest\" xlink:href=\"psysml:e24d69b8-a494-4022-9892-35ed42c85155\" xlink:show=\"new\" xlink:title=\"psysml:e24d69b8-a494-4022-9892-35ed42c85155\" xlink:type=\"simple\"><path d=\"M177.16,416.9 C147.7,382.17 110.59,325.03 131,275 C145.25,240.07 179.63,211.14 201.82,195.24 \" fill=\"none\" id=\"E10&lt;-E3\" style=\"stroke: #A80036; stroke-width: 1.0;\"/><polygon fill=\"#FFFFFF\" points=\"185.98,426.93,185.0193,419.7832,178.0528,417.9212,179.0134,425.068,185.98,426.93\" style=\"stroke: #A80036; stroke-width: 1.0;\"/><text fill=\"#000000\" font-family=\"sans-serif\" font-size=\"13\" lengthAdjust=\"spacingAndGlyphs\" textLength=\"7\" x=\"132\" y=\"302.5669\">y</text></a><!--MD5=[8e04057e7b3cbc0dca4fc78ea351e2da]\n",
       "reverse link E10 to E3--><a href=\"psysml:e24d69b8-a494-4022-9892-35ed42c85155\" target=\"_top\" title=\"psysml:e24d69b8-a494-4022-9892-35ed42c85155\" xlink:actuate=\"onRequest\" xlink:href=\"psysml:e24d69b8-a494-4022-9892-35ed42c85155\" xlink:show=\"new\" xlink:title=\"psysml:e24d69b8-a494-4022-9892-35ed42c85155\" xlink:type=\"simple\"><path d=\"M207.2,413.68 C206.69,378.49 206.64,322.94 210,275 C211.42,254.7 214.32,232.05 216.91,214.19 \" fill=\"none\" id=\"E10&lt;-E3-1\" style=\"stroke: #A80036; stroke-width: 1.0;\"/><polygon fill=\"#FFFFFF\" points=\"207.43,426.99,211.3305,420.9248,207.232,414.9916,203.3315,421.0568,207.43,426.99\" style=\"stroke: #A80036; stroke-width: 1.0;\"/><text fill=\"#000000\" font-family=\"sans-serif\" font-size=\"13\" lengthAdjust=\"spacingAndGlyphs\" textLength=\"7\" x=\"211\" y=\"302.5669\">y</text></a><!--MD5=[8e04057e7b3cbc0dca4fc78ea351e2da]\n",
       "reverse link E10 to E3--><a href=\"psysml:e24d69b8-a494-4022-9892-35ed42c85155\" target=\"_top\" title=\"psysml:e24d69b8-a494-4022-9892-35ed42c85155\" xlink:actuate=\"onRequest\" xlink:href=\"psysml:e24d69b8-a494-4022-9892-35ed42c85155\" xlink:show=\"new\" xlink:title=\"psysml:e24d69b8-a494-4022-9892-35ed42c85155\" xlink:type=\"simple\"><path d=\"M213.75,413.53 C214.56,408.01 215.34,402.35 216,397 C220.14,363.33 221.44,354.88 223,321 C223.94,300.58 223.11,295.44 223,275 C222.89,254.82 222.65,232.17 222.43,214.28 \" fill=\"none\" id=\"E10&lt;-E3-2\" style=\"stroke: #A80036; stroke-width: 1.0;\"/><polygon fill=\"#FFFFFF\" points=\"211.72,426.77,216.5832,421.4456,213.5387,414.9086,208.6756,420.2331,211.72,426.77\" style=\"stroke: #A80036; stroke-width: 1.0;\"/><text fill=\"#000000\" font-family=\"sans-serif\" font-size=\"13\" lengthAdjust=\"spacingAndGlyphs\" textLength=\"7\" x=\"224\" y=\"302.5669\">y</text></a><!--MD5=[604cbf994c02b74b117f728a71673cea]\n",
       "reverse link E10 to E6--><a href=\"psysml:e24d69b8-a494-4022-9892-35ed42c85155\" target=\"_top\" title=\"psysml:e24d69b8-a494-4022-9892-35ed42c85155\" xlink:actuate=\"onRequest\" xlink:href=\"psysml:e24d69b8-a494-4022-9892-35ed42c85155\" xlink:show=\"new\" xlink:title=\"psysml:e24d69b8-a494-4022-9892-35ed42c85155\" xlink:type=\"simple\"><path d=\"M216.43,485.99 C218.14,496.86 219.12,508.91 218,520 C217.01,529.85 214.91,540.64 212.9,549.59 \" fill=\"none\" id=\"E10&lt;-E6\" style=\"stroke: #A80036; stroke-width: 1.0;\"/><polygon fill=\"#FFFFFF\" points=\"213.96,473,211.1427,479.638,216.1866,484.7916,219.0038,478.1536,213.96,473\" style=\"stroke: #A80036; stroke-width: 1.0;\"/><text fill=\"#000000\" font-family=\"sans-serif\" font-size=\"13\" lengthAdjust=\"spacingAndGlyphs\" textLength=\"7\" x=\"219\" y=\"516.0669\">y</text></a><!--MD5=[604cbf994c02b74b117f728a71673cea]\n",
       "reverse link E10 to E6--><a href=\"psysml:e24d69b8-a494-4022-9892-35ed42c85155\" target=\"_top\" title=\"psysml:e24d69b8-a494-4022-9892-35ed42c85155\" xlink:actuate=\"onRequest\" xlink:href=\"psysml:e24d69b8-a494-4022-9892-35ed42c85155\" xlink:show=\"new\" xlink:title=\"psysml:e24d69b8-a494-4022-9892-35ed42c85155\" xlink:type=\"simple\"><path d=\"M172.04,482.87 C167.13,489.03 162.81,495.82 160,503 C152,523.45 171.29,543.33 187.75,555.84 \" fill=\"none\" id=\"E10&lt;-E6-1\" style=\"stroke: #A80036; stroke-width: 1.0;\"/><polygon fill=\"#FFFFFF\" points=\"180.73,473.16,173.7505,474.973,172.7396,482.1129,179.7191,480.2999,180.73,473.16\" style=\"stroke: #A80036; stroke-width: 1.0;\"/><text fill=\"#000000\" font-family=\"sans-serif\" font-size=\"13\" lengthAdjust=\"spacingAndGlyphs\" textLength=\"7\" x=\"161\" y=\"516.0669\">y</text></a><!--MD5=[604cbf994c02b74b117f728a71673cea]\n",
       "reverse link E10 to E6--><a href=\"psysml:e24d69b8-a494-4022-9892-35ed42c85155\" target=\"_top\" title=\"psysml:e24d69b8-a494-4022-9892-35ed42c85155\" xlink:actuate=\"onRequest\" xlink:href=\"psysml:e24d69b8-a494-4022-9892-35ed42c85155\" xlink:show=\"new\" xlink:title=\"psysml:e24d69b8-a494-4022-9892-35ed42c85155\" xlink:type=\"simple\"><path d=\"M208,486.33 C208,507.08 208,532.51 208,549.64 \" fill=\"none\" id=\"E10&lt;-E6-2\" style=\"stroke: #A80036; stroke-width: 1.0;\"/><polygon fill=\"#FFFFFF\" points=\"208,473.19,204,479.19,208,485.19,212,479.19,208,473.19\" style=\"stroke: #A80036; stroke-width: 1.0;\"/><text fill=\"#000000\" font-family=\"sans-serif\" font-size=\"13\" lengthAdjust=\"spacingAndGlyphs\" textLength=\"7\" x=\"209\" y=\"516.0669\">y</text></a><!--MD5=[add526e66a4eb747634c6deb3962f533]\n",
       "@startuml\r\n",
       " \r\n",
       "package \"PartTest\" as E1  [[psysml:a6b62677-d27b-4bf3-83e0-375e3ba01a4b ]]  {\r\n",
       "comp usage \"f: A\" as E2 << << (P,limegreen) part>> [[psysml:fef66b5f-1b9d-421e-94fe-86858427a029 ]] {\r\n",
       "}\r\n",
       "comp def \"A\" as E3 << << (B,green) >> [[psysml:a2cad1be-c52d-4964-a87e-891cd7289f52 ]] {\r\n",
       "x\r\n",
       "y\r\n",
       "}\r\n",
       "comp usage \"b: B\" as E4 << << (P,limegreen) part>> [[psysml:9dcf2186-613a-4b96-912f-a1b95f354387 ]] {\r\n",
       "}\r\n",
       "comp usage \"c: C\" as E5 << << (P,blue) port>> [[psysml:a3147892-19dd-4d4c-8f64-71e53da800dc ]] {\r\n",
       "}\r\n",
       "comp def \"B\" as E6 << << (B,green) >> [[psysml:bbb3af71-bfb9-47e2-863f-33482c8ff081 ]] {\r\n",
       "}\r\n",
       "comp usage \"a: A\" as E7 << << (P,limegreen) part>> [[psysml:c128dc79-fecf-4cdb-b1ba-5850a9b121ec ]] {\r\n",
       "}\r\n",
       "comp usage \"x: ~C\" as E8 << << (P,blue) port>> [[psysml:540f6402-e62e-4ea3-b051-5d5cf5bfcb38 ]] {\r\n",
       "}\r\n",
       "package \"P\" as E9  [[psysml:f4e4ee2b-1abf-4dbd-8483-2b091bdfceaf ]]  {\r\n",
       "}\r\n",
       "comp def \"C\" as E10 << <<(D,brown) port def>> [[psysml:a92372c2-fe41-425f-b40c-da5b8c1ca15d ]] {\r\n",
       "}\r\n",
       "}\r\n",
       "E2 - -:|> E3 [[psysml:488f6ee0-39a9-4dc0-b555-612cc99c37a1 ]] \r\n",
       "E3 *- - \"1\"E4 [[psysml:98712745-a638-4d1f-8ffc-380c342569c9 ]] \r\n",
       "E3 o- - \"1\"E5 [[psysml:3d3c789c-d512-4565-8d7c-059f8d1010f8 ]] \r\n",
       "E4 - -:|> E6 [[psysml:1225703b-924d-44f0-aa92-4bca49ced0c9 ]] \r\n",
       "E6 *- - \"1\"E7 [[psysml:a81e6d2d-a633-4d51-820c-a47602c519dd ]] \r\n",
       "E7 - -:|> E3 [[psysml:4883cacd-6695-4e4a-8cc2-3609b81ec9a9 ]] \r\n",
       "E6 o- - \"1\"E8 [[psysml:2d844c43-a52c-43bf-b052-a300acb2bf74 ]] \r\n",
       "E6 +- - E9 [[psysml:5153bd7e-9106-496d-98a6-0d3fae0d20a5 ]] \r\n",
       "E5 - -:|> E10 [[psysml:63374559-c2a0-4cf8-92a3-b39a3ed3eac1 ]] \r\n",
       "E10 o- - E3 [[psysml:e24d69b8-a494-4022-9892-35ed42c85155 ]] : y\r\n",
       "E10 o- - E6 [[psysml:e24d69b8-a494-4022-9892-35ed42c85155 ]] : y\r\n",
       "E10 o- - E3 [[psysml:e24d69b8-a494-4022-9892-35ed42c85155 ]] : y\r\n",
       "E10 o- - E6 [[psysml:e24d69b8-a494-4022-9892-35ed42c85155 ]] : y\r\n",
       "E10 o- - E3 [[psysml:e24d69b8-a494-4022-9892-35ed42c85155 ]] : y\r\n",
       "E10 o- - E6 [[psysml:e24d69b8-a494-4022-9892-35ed42c85155 ]] : y\r\n",
       "@enduml\r\n",
       "\n",
       "PlantUML version 1.2020.13(Sat Jun 13 12:26:38 UTC 2020)\n",
       "(EPL source distribution)\n",
       "Java Runtime: OpenJDK Runtime Environment\n",
       "JVM: OpenJDK 64-Bit Server VM\n",
       "Default Encoding: UTF-8\n",
       "Language: en\n",
       "Country: null\n",
       "--></g></svg>"
      ]
     },
     "execution_count": 31,
     "metadata": {},
     "output_type": "execute_result"
    }
   ],
   "source": [
    "%viz --style=\"PLANTUML\" --view=\"Tree\" \"PartTest\""
   ]
  },
  {
   "cell_type": "code",
   "execution_count": 32,
   "id": "c986c348",
   "metadata": {
    "execution": {
     "iopub.execute_input": "2021-10-03T08:29:54.377011Z",
     "iopub.status.busy": "2021-10-03T08:29:54.376606Z",
     "iopub.status.idle": "2021-10-03T08:29:54.466210Z",
     "shell.execute_reply": "2021-10-03T08:29:54.464509Z"
    }
   },
   "outputs": [
    {
     "data": {
      "image/svg+xml": [
       "<?xml version=\"1.0\" encoding=\"UTF-8\" standalone=\"no\"?><svg xmlns=\"http://www.w3.org/2000/svg\" xmlns:xlink=\"http://www.w3.org/1999/xlink\" contentScriptType=\"application/ecmascript\" contentStyleType=\"text/css\" height=\"300px\" preserveAspectRatio=\"none\" style=\"width:603px;height:300px;background:#000000;\" version=\"1.1\" viewBox=\"0 0 603 300\" width=\"603px\" zoomAndPan=\"magnify\"><defs/><g><rect fill=\"#261D07\" height=\"1\" style=\"stroke: #261D07; stroke-width: 1.0;\" width=\"1\" x=\"0\" y=\"0\"/><rect fill=\"#FFFFFF\" height=\"202.8012\" style=\"stroke: #FFFFFF; stroke-width: 1.0;\" width=\"602\" x=\"0\" y=\"0\"/><text fill=\"#000000\" font-family=\"sans-serif\" font-size=\"12\" font-weight=\"bold\" lengthAdjust=\"spacingAndGlyphs\" textLength=\"139\" x=\"5\" y=\"16.1387\">Welcome to PlantUML!</text><text fill=\"#000000\" font-family=\"sans-serif\" font-size=\"12\" lengthAdjust=\"spacingAndGlyphs\" textLength=\"0\" x=\"9\" y=\"30.1074\"/><text fill=\"#000000\" font-family=\"sans-serif\" font-size=\"12\" lengthAdjust=\"spacingAndGlyphs\" textLength=\"293\" x=\"5\" y=\"44.0762\">If you use this software, you accept its license.</text><text fill=\"#000000\" font-family=\"sans-serif\" font-size=\"12\" lengthAdjust=\"spacingAndGlyphs\" textLength=\"107\" x=\"5\" y=\"58.0449\">(details by typing</text><text fill=\"#000000\" font-family=\"monospace\" font-size=\"12\" lengthAdjust=\"spacingAndGlyphs\" textLength=\"42\" x=\"116\" y=\"58.595\">license</text><text fill=\"#000000\" font-family=\"sans-serif\" font-size=\"12\" lengthAdjust=\"spacingAndGlyphs\" textLength=\"56\" x=\"162\" y=\"58.0449\">keyword)</text><text fill=\"#000000\" font-family=\"sans-serif\" font-size=\"12\" lengthAdjust=\"spacingAndGlyphs\" textLength=\"0\" x=\"9\" y=\"72.0137\"/><text fill=\"#000000\" font-family=\"sans-serif\" font-size=\"12\" lengthAdjust=\"spacingAndGlyphs\" textLength=\"283\" x=\"5\" y=\"85.9824\">You can start with a simple UML Diagram like:</text><text fill=\"#000000\" font-family=\"sans-serif\" font-size=\"12\" lengthAdjust=\"spacingAndGlyphs\" textLength=\"0\" x=\"9\" y=\"99.9512\"/><text fill=\"#000000\" font-family=\"monospace\" font-size=\"12\" lengthAdjust=\"spacingAndGlyphs\" textLength=\"102\" x=\"5\" y=\"113.0893\">Bob-&gt;Alice: Hello</text><text fill=\"#000000\" font-family=\"sans-serif\" font-size=\"12\" lengthAdjust=\"spacingAndGlyphs\" textLength=\"0\" x=\"9\" y=\"126.508\"/><text fill=\"#000000\" font-family=\"sans-serif\" font-size=\"12\" lengthAdjust=\"spacingAndGlyphs\" textLength=\"14\" x=\"5\" y=\"140.4768\">Or</text><text fill=\"#000000\" font-family=\"sans-serif\" font-size=\"12\" lengthAdjust=\"spacingAndGlyphs\" textLength=\"0\" x=\"9\" y=\"154.4455\"/><text fill=\"#000000\" font-family=\"monospace\" font-size=\"12\" lengthAdjust=\"spacingAndGlyphs\" textLength=\"78\" x=\"5\" y=\"167.5837\">class Example</text><text fill=\"#000000\" font-family=\"sans-serif\" font-size=\"12\" lengthAdjust=\"spacingAndGlyphs\" textLength=\"0\" x=\"9\" y=\"181.0023\"/><text fill=\"#000000\" font-family=\"sans-serif\" font-size=\"12\" lengthAdjust=\"spacingAndGlyphs\" textLength=\"349\" x=\"5\" y=\"194.9711\">You will find more information about PlantUML syntax on</text><text fill=\"#000000\" font-family=\"sans-serif\" font-size=\"12\" lengthAdjust=\"spacingAndGlyphs\" text-decoration=\"underline\" textLength=\"129\" x=\"358\" y=\"194.9711\">https://plantuml.com</text><image height=\"71\" width=\"80\" x=\"516\" xlink:href=\"data:image/png;base64,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\" y=\"6\"/><rect fill=\"#000000\" height=\"96.4844\" style=\"stroke: #000000; stroke-width: 1.0;\" width=\"602\" x=\"0\" y=\"202.8012\"/><rect fill=\"#33FF02\" height=\"21.2969\" style=\"stroke: #33FF02; stroke-width: 1.0;\" width=\"145\" x=\"5\" y=\"207.8012\"/><text fill=\"#000000\" font-family=\"sans-serif\" font-size=\"14\" font-weight=\"bold\" lengthAdjust=\"spacingAndGlyphs\" textLength=\"143\" x=\"6\" y=\"222.8012\">[From string (line 2) ]</text><text fill=\"#33FF02\" font-family=\"sans-serif\" font-size=\"14\" font-weight=\"bold\" lengthAdjust=\"spacingAndGlyphs\" textLength=\"0\" x=\"9\" y=\"243.0981\"/><text fill=\"#33FF02\" font-family=\"sans-serif\" font-size=\"14\" font-weight=\"bold\" lengthAdjust=\"spacingAndGlyphs\" textLength=\"70\" x=\"5\" y=\"259.3949\">@startuml</text><text fill=\"#33FF02\" font-family=\"sans-serif\" font-size=\"14\" font-weight=\"bold\" lengthAdjust=\"spacingAndGlyphs\" textLength=\"0\" x=\"9\" y=\"275.6918\"/><text fill=\"#FF0000\" font-family=\"sans-serif\" font-size=\"14\" font-weight=\"bold\" lengthAdjust=\"spacingAndGlyphs\" textLength=\"124\" x=\"9\" y=\"291.9887\">Empty description</text><!--MD5=[f59edd8218d337f74d0c332fc6737304]\n",
       "@startuml\r\n",
       " \r\n",
       "@enduml\r\n",
       "\n",
       "PlantUML version 1.2020.13(Sat Jun 13 12:26:38 UTC 2020)\n",
       "(EPL source distribution)\n",
       "Java Runtime: OpenJDK Runtime Environment\n",
       "JVM: OpenJDK 64-Bit Server VM\n",
       "Default Encoding: UTF-8\n",
       "Language: en\n",
       "Country: null\n",
       "--></g></svg>"
      ]
     },
     "execution_count": 32,
     "metadata": {},
     "output_type": "execute_result"
    }
   ],
   "source": [
    "%viz --style=\"PLANTUML\" --view=\"State\" \"PartTest\""
   ]
  },
  {
   "cell_type": "code",
   "execution_count": 33,
   "id": "da9ab9fb",
   "metadata": {
    "execution": {
     "iopub.execute_input": "2021-10-03T08:29:54.515270Z",
     "iopub.status.busy": "2021-10-03T08:29:54.514865Z",
     "iopub.status.idle": "2021-10-03T08:29:54.546120Z",
     "shell.execute_reply": "2021-10-03T08:29:54.545761Z"
    }
   },
   "outputs": [
    {
     "data": {
      "image/svg+xml": [
       "<?xml version=\"1.0\" encoding=\"UTF-8\" standalone=\"no\"?><svg xmlns=\"http://www.w3.org/2000/svg\" xmlns:xlink=\"http://www.w3.org/1999/xlink\" contentScriptType=\"application/ecmascript\" contentStyleType=\"text/css\" height=\"253px\" preserveAspectRatio=\"none\" style=\"width:655px;height:253px;\" version=\"1.1\" viewBox=\"0 0 655 253\" width=\"655px\" zoomAndPan=\"magnify\"><defs><filter height=\"300%\" id=\"f14wc263omekbo\" width=\"300%\" x=\"-1\" y=\"-1\"><feGaussianBlur result=\"blurOut\" stdDeviation=\"2.0\"/><feColorMatrix in=\"blurOut\" result=\"blurOut2\" type=\"matrix\" values=\"0 0 0 0 0 0 0 0 0 0 0 0 0 0 0 0 0 0 .4 0\"/><feOffset dx=\"4.0\" dy=\"4.0\" in=\"blurOut2\" result=\"blurOut3\"/><feBlend in=\"SourceGraphic\" in2=\"blurOut3\" mode=\"normal\"/></filter></defs><g><!--MD5=[fbc87193dbaf4d95561dea2c320d4a47]\n",
       "cluster E1--><a href=\"psysml:a6b62677-d27b-4bf3-83e0-375e3ba01a4b\" target=\"_top\" title=\"psysml:a6b62677-d27b-4bf3-83e0-375e3ba01a4b\" xlink:actuate=\"onRequest\" xlink:href=\"psysml:a6b62677-d27b-4bf3-83e0-375e3ba01a4b\" xlink:show=\"new\" xlink:title=\"psysml:a6b62677-d27b-4bf3-83e0-375e3ba01a4b\" xlink:type=\"simple\"><polygon fill=\"#FFFFFF\" filter=\"url(#f14wc263omekbo)\" points=\"16,6,80,6,87,28.2969,633,28.2969,633,241,16,241,16,6\" style=\"stroke: #000000; stroke-width: 1.5;\"/><line style=\"stroke: #000000; stroke-width: 1.5;\" x1=\"16\" x2=\"87\" y1=\"28.2969\" y2=\"28.2969\"/><text fill=\"#000000\" font-family=\"sans-serif\" font-size=\"14\" font-weight=\"bold\" lengthAdjust=\"spacingAndGlyphs\" textLength=\"58\" x=\"20\" y=\"20.9951\">PartTest</text></a><!--MD5=[d5e69f78d87373223dbae638b30a9c99]\n",
       "cluster E3--><a href=\"psysml:a2cad1be-c52d-4964-a87e-891cd7289f52\" target=\"_top\" title=\"psysml:a2cad1be-c52d-4964-a87e-891cd7289f52\" xlink:actuate=\"onRequest\" xlink:href=\"psysml:a2cad1be-c52d-4964-a87e-891cd7289f52\" xlink:show=\"new\" xlink:title=\"psysml:a2cad1be-c52d-4964-a87e-891cd7289f52\" xlink:type=\"simple\"><rect fill=\"#FFFFFF\" filter=\"url(#f14wc263omekbo)\" height=\"159\" id=\"E3\" style=\"stroke: #A80036; stroke-width: 1.5;\" width=\"225\" x=\"392\" y=\"62.5\"/><rect fill=\"#FEFECE\" height=\"23.9688\" style=\"stroke: #A80036; stroke-width: 1.5;\" width=\"225\" x=\"392\" y=\"62.5\"/><text fill=\"#000000\" font-family=\"sans-serif\" font-size=\"12\" lengthAdjust=\"spacingAndGlyphs\" textLength=\"8\" x=\"500.5\" y=\"78.6387\">A</text></a><!--MD5=[55dfccfc6c49c2d10cd1bd2211a6c90c]\n",
       "cluster E8--><a href=\"psysml:bbb3af71-bfb9-47e2-863f-33482c8ff081\" target=\"_top\" title=\"psysml:bbb3af71-bfb9-47e2-863f-33482c8ff081\" xlink:actuate=\"onRequest\" xlink:href=\"psysml:bbb3af71-bfb9-47e2-863f-33482c8ff081\" xlink:show=\"new\" xlink:title=\"psysml:bbb3af71-bfb9-47e2-863f-33482c8ff081\" xlink:type=\"simple\"><rect fill=\"#FFFFFF\" filter=\"url(#f14wc263omekbo)\" height=\"162.5\" id=\"E8\" style=\"stroke: #A80036; stroke-width: 1.5;\" width=\"155\" x=\"229\" y=\"62.5\"/><rect fill=\"#FEFECE\" height=\"23.9688\" style=\"stroke: #A80036; stroke-width: 1.5;\" width=\"155\" x=\"229\" y=\"62.5\"/><text fill=\"#000000\" font-family=\"sans-serif\" font-size=\"12\" lengthAdjust=\"spacingAndGlyphs\" textLength=\"8\" x=\"302.5\" y=\"78.6387\">B</text></a><g id=\"E1.E12\"><a href=\"psysml:a92372c2-fe41-425f-b40c-da5b8c1ca15d\" target=\"_top\" title=\"psysml:a92372c2-fe41-425f-b40c-da5b8c1ca15d\" xlink:actuate=\"onRequest\" xlink:href=\"psysml:a92372c2-fe41-425f-b40c-da5b8c1ca15d\" xlink:show=\"new\" xlink:title=\"psysml:a92372c2-fe41-425f-b40c-da5b8c1ca15d\" xlink:type=\"simple\"><rect fill=\"#FEFECE\" filter=\"url(#f14wc263omekbo)\" height=\"42.9375\" id=\"E12\" style=\"stroke: #A80036; stroke-width: 1.5;\" width=\"97\" x=\"124.5\" y=\"41\"/><ellipse cx=\"141.75\" cy=\"59.9688\" fill=\"#A52A2A\" rx=\"11\" ry=\"11\" style=\"stroke: #A80036; stroke-width: 1.0;\"/><path d=\"M138.9688,64.9688 L138.9688,54.375 L141.7031,54.375 Q143.0938,54.375 143.8594,54.7656 Q144.6406,55.1406 145.1719,55.8438 Q145.7031,56.5469 146,57.5469 Q146.2969,58.5313 146.2969,59.75 Q146.25,61.3438 145.75,62.5313 Q145.2656,63.7031 144.2188,64.3438 Q143.1875,64.9688 141.5,64.9688 L138.9688,64.9688 Z M140.8281,63.4688 L141.4531,63.4688 Q142.5313,63.4688 143.1875,63.0156 Q143.8438,62.5625 144.125,61.7344 Q144.4219,60.8906 144.4063,59.7656 Q144.4063,58.5938 144.1563,57.7344 Q143.9063,56.8594 143.2969,56.3906 Q142.6875,55.9063 141.6406,55.9063 L140.8281,55.9063 L140.8281,63.4688 Z \"/><text fill=\"#000000\" font-family=\"sans-serif\" font-size=\"12\" font-style=\"italic\" lengthAdjust=\"spacingAndGlyphs\" textLength=\"64\" x=\"154.25\" y=\"57.1387\">«port def»</text><text fill=\"#000000\" font-family=\"sans-serif\" font-size=\"12\" lengthAdjust=\"spacingAndGlyphs\" textLength=\"8\" x=\"182.25\" y=\"71.1074\">C</text></a></g><g id=\"E1.E2\"><a href=\"psysml:fef66b5f-1b9d-421e-94fe-86858427a029\" target=\"_top\" title=\"psysml:fef66b5f-1b9d-421e-94fe-86858427a029\" xlink:actuate=\"onRequest\" xlink:href=\"psysml:fef66b5f-1b9d-421e-94fe-86858427a029\" xlink:show=\"new\" xlink:title=\"psysml:fef66b5f-1b9d-421e-94fe-86858427a029\" xlink:type=\"simple\"><rect fill=\"#FEFECE\" filter=\"url(#f14wc263omekbo)\" height=\"40\" id=\"E2\" rx=\"10\" ry=\"10\" style=\"stroke: #A80036; stroke-width: 1.5;\" width=\"57\" x=\"32.5\" y=\"42.5\"/><ellipse cx=\"49.75\" cy=\"58.5\" fill=\"#B6DBBB\" rx=\"11\" ry=\"11\" style=\"stroke: #A80036; stroke-width: 1.0;\"/><path d=\"M49.5,63.9688 Q47.75,63.9688 46.7969,62.9375 Q45.8594,61.8906 45.8594,60.0469 L45.8594,53.1563 L47.9219,53.1563 L47.9219,53.3125 Q47.8281,53.4063 47.7969,53.5469 Q47.7813,53.6719 47.7813,53.9375 L47.7813,60.0625 Q47.7813,61.1563 48.1563,61.7813 Q48.5313,62.4063 49.5156,62.4063 Q50.5,62.4063 50.8906,61.7813 Q51.2813,61.1563 51.2813,60.0156 L51.2813,53.1563 L53.1563,53.1563 L53.1563,60 Q53.1563,62.0313 52.125,63 Q51.1094,63.9688 49.5,63.9688 Z \"/><text fill=\"#000000\" font-family=\"sans-serif\" font-size=\"12\" lengthAdjust=\"spacingAndGlyphs\" textLength=\"20\" x=\"64.25\" y=\"62.6543\">f: A</text></a></g><text fill=\"#000000\" font-family=\"sans-serif\" font-size=\"14\" lengthAdjust=\"spacingAndGlyphs\" textLength=\"27\" x=\"556.5\" y=\"41.1982\">c: C</text><rect fill=\"#A80036\" height=\"12\" style=\"stroke: #FEFECE; stroke-width: 1.5;\" width=\"12\" x=\"564\" y=\"56.5\"/><!--MD5=[60a26617385b1d2d0262a64233df1f8d]\n",
       "class E6--><a href=\"psysml:4215315b-f4db-4a1d-ab72-0471726dcc45\" target=\"_top\" title=\"psysml:4215315b-f4db-4a1d-ab72-0471726dcc45\" xlink:actuate=\"onRequest\" xlink:href=\"psysml:4215315b-f4db-4a1d-ab72-0471726dcc45\" xlink:show=\"new\" xlink:title=\"psysml:4215315b-f4db-4a1d-ab72-0471726dcc45\" xlink:type=\"simple\"><rect fill=\"#FEFECE\" filter=\"url(#f14wc263omekbo)\" height=\"45.9375\" id=\"E6\" rx=\"10\" ry=\"10\" style=\"stroke: #A80036; stroke-width: 1.5;\" width=\"97\" x=\"407.5\" y=\"159.5\"/><ellipse cx=\"422.5\" cy=\"178.4688\" fill=\"#FFA500\" rx=\"11\" ry=\"11\" style=\"stroke: #A80036; stroke-width: 1.0;\"/><path d=\"M422.25,183.9375 Q420.5,183.9375 419.5469,182.9063 Q418.6094,181.8594 418.6094,180.0156 L418.6094,173.125 L420.6719,173.125 L420.6719,173.2813 Q420.5781,173.375 420.5469,173.5156 Q420.5313,173.6406 420.5313,173.9063 L420.5313,180.0313 Q420.5313,181.125 420.9063,181.75 Q421.2813,182.375 422.2656,182.375 Q423.25,182.375 423.6406,181.75 Q424.0313,181.125 424.0313,179.9844 L424.0313,173.125 L425.9063,173.125 L425.9063,179.9688 Q425.9063,182 424.875,182.9688 Q423.8594,183.9375 422.25,183.9375 Z \"/><text fill=\"#000000\" font-family=\"sans-serif\" font-size=\"12\" font-style=\"italic\" lengthAdjust=\"spacingAndGlyphs\" textLength=\"69\" x=\"434.5\" y=\"175.6387\">«attribute»</text><text fill=\"#000000\" font-family=\"sans-serif\" font-size=\"12\" lengthAdjust=\"spacingAndGlyphs\" textLength=\"6\" x=\"466\" y=\"189.6074\">x</text><line style=\"stroke: #A80036; stroke-width: 1.5;\" x1=\"408.5\" x2=\"503.5\" y1=\"197.4375\" y2=\"197.4375\"/></a><!--MD5=[2156ba9850f5573cc1fc38a6a4b2f02b]\n",
       "class E7--><a href=\"psysml:89a85a0a-005f-45e8-8309-6769d170c6df\" target=\"_top\" title=\"psysml:89a85a0a-005f-45e8-8309-6769d170c6df\" xlink:actuate=\"onRequest\" xlink:href=\"psysml:89a85a0a-005f-45e8-8309-6769d170c6df\" xlink:show=\"new\" xlink:title=\"psysml:89a85a0a-005f-45e8-8309-6769d170c6df\" xlink:type=\"simple\"><rect fill=\"#FEFECE\" filter=\"url(#f14wc263omekbo)\" height=\"45.9375\" id=\"E7\" rx=\"10\" ry=\"10\" style=\"stroke: #A80036; stroke-width: 1.5;\" width=\"97\" x=\"407.5\" y=\"100\"/><ellipse cx=\"422.5\" cy=\"118.9688\" fill=\"#FFA500\" rx=\"11\" ry=\"11\" style=\"stroke: #A80036; stroke-width: 1.0;\"/><path d=\"M422.25,124.4375 Q420.5,124.4375 419.5469,123.4063 Q418.6094,122.3594 418.6094,120.5156 L418.6094,113.625 L420.6719,113.625 L420.6719,113.7813 Q420.5781,113.875 420.5469,114.0156 Q420.5313,114.1406 420.5313,114.4063 L420.5313,120.5313 Q420.5313,121.625 420.9063,122.25 Q421.2813,122.875 422.2656,122.875 Q423.25,122.875 423.6406,122.25 Q424.0313,121.625 424.0313,120.4844 L424.0313,113.625 L425.9063,113.625 L425.9063,120.4688 Q425.9063,122.5 424.875,123.4688 Q423.8594,124.4375 422.25,124.4375 Z \"/><text fill=\"#000000\" font-family=\"sans-serif\" font-size=\"12\" font-style=\"italic\" lengthAdjust=\"spacingAndGlyphs\" textLength=\"69\" x=\"434.5\" y=\"116.1387\">«attribute»</text><text fill=\"#000000\" font-family=\"sans-serif\" font-size=\"12\" lengthAdjust=\"spacingAndGlyphs\" textLength=\"6\" x=\"466\" y=\"130.1074\">y</text><line style=\"stroke: #A80036; stroke-width: 1.5;\" x1=\"408.5\" x2=\"503.5\" y1=\"137.9375\" y2=\"137.9375\"/></a><g id=\"E1.E3.E4\"><a href=\"psysml:9dcf2186-613a-4b96-912f-a1b95f354387\" target=\"_top\" title=\"psysml:9dcf2186-613a-4b96-912f-a1b95f354387\" xlink:actuate=\"onRequest\" xlink:href=\"psysml:9dcf2186-613a-4b96-912f-a1b95f354387\" xlink:show=\"new\" xlink:title=\"psysml:9dcf2186-613a-4b96-912f-a1b95f354387\" xlink:type=\"simple\"><rect fill=\"#FEFECE\" filter=\"url(#f14wc263omekbo)\" height=\"40\" id=\"E4\" rx=\"10\" ry=\"10\" style=\"stroke: #A80036; stroke-width: 1.5;\" width=\"61\" x=\"539.5\" y=\"162.5\"/><ellipse cx=\"556.75\" cy=\"178.5\" fill=\"#B6DBBB\" rx=\"11\" ry=\"11\" style=\"stroke: #A80036; stroke-width: 1.0;\"/><path d=\"M556.5,183.9688 Q554.75,183.9688 553.7969,182.9375 Q552.8594,181.8906 552.8594,180.0469 L552.8594,173.1563 L554.9219,173.1563 L554.9219,173.3125 Q554.8281,173.4063 554.7969,173.5469 Q554.7813,173.6719 554.7813,173.9375 L554.7813,180.0625 Q554.7813,181.1563 555.1563,181.7813 Q555.5313,182.4063 556.5156,182.4063 Q557.5,182.4063 557.8906,181.7813 Q558.2813,181.1563 558.2813,180.0156 L558.2813,173.1563 L560.1563,173.1563 L560.1563,180 Q560.1563,182.0313 559.125,183 Q558.1094,183.9688 556.5,183.9688 Z \"/><text fill=\"#000000\" font-family=\"sans-serif\" font-size=\"12\" lengthAdjust=\"spacingAndGlyphs\" textLength=\"24\" x=\"571.25\" y=\"182.6543\">b: B</text></a></g><text fill=\"#000000\" font-family=\"sans-serif\" font-size=\"14\" lengthAdjust=\"spacingAndGlyphs\" textLength=\"38\" x=\"336\" y=\"41.1982\">x: ~C</text><rect fill=\"#A80036\" height=\"12\" style=\"stroke: #FEFECE; stroke-width: 1.5;\" width=\"12\" x=\"349\" y=\"56.5\"/><g id=\"E1.E8.E9\"><a href=\"psysml:c128dc79-fecf-4cdb-b1ba-5850a9b121ec\" target=\"_top\" title=\"psysml:c128dc79-fecf-4cdb-b1ba-5850a9b121ec\" xlink:actuate=\"onRequest\" xlink:href=\"psysml:c128dc79-fecf-4cdb-b1ba-5850a9b121ec\" xlink:show=\"new\" xlink:title=\"psysml:c128dc79-fecf-4cdb-b1ba-5850a9b121ec\" xlink:type=\"simple\"><rect fill=\"#FEFECE\" filter=\"url(#f14wc263omekbo)\" height=\"40\" id=\"E9\" rx=\"10\" ry=\"10\" style=\"stroke: #A80036; stroke-width: 1.5;\" width=\"61\" x=\"245.5\" y=\"103\"/><ellipse cx=\"262.75\" cy=\"119\" fill=\"#B6DBBB\" rx=\"11\" ry=\"11\" style=\"stroke: #A80036; stroke-width: 1.0;\"/><path d=\"M262.5,124.4688 Q260.75,124.4688 259.7969,123.4375 Q258.8594,122.3906 258.8594,120.5469 L258.8594,113.6563 L260.9219,113.6563 L260.9219,113.8125 Q260.8281,113.9063 260.7969,114.0469 Q260.7813,114.1719 260.7813,114.4375 L260.7813,120.5625 Q260.7813,121.6563 261.1563,122.2813 Q261.5313,122.9063 262.5156,122.9063 Q263.5,122.9063 263.8906,122.2813 Q264.2813,121.6563 264.2813,120.5156 L264.2813,113.6563 L266.1563,113.6563 L266.1563,120.5 Q266.1563,122.5313 265.125,123.5 Q264.1094,124.4688 262.5,124.4688 Z \"/><text fill=\"#000000\" font-family=\"sans-serif\" font-size=\"12\" lengthAdjust=\"spacingAndGlyphs\" textLength=\"24\" x=\"277.25\" y=\"123.1543\">a: A</text></a></g><a href=\"psysml:f4e4ee2b-1abf-4dbd-8483-2b091bdfceaf\" target=\"_top\" title=\"psysml:f4e4ee2b-1abf-4dbd-8483-2b091bdfceaf\" xlink:actuate=\"onRequest\" xlink:href=\"psysml:f4e4ee2b-1abf-4dbd-8483-2b091bdfceaf\" xlink:show=\"new\" xlink:title=\"psysml:f4e4ee2b-1abf-4dbd-8483-2b091bdfceaf\" xlink:type=\"simple\"><polygon fill=\"#FFFFFF\" filter=\"url(#f14wc263omekbo)\" points=\"338.5,156,353.5,156,360.5,178.2969,367.5,178.2969,367.5,208.5938,338.5,208.5938,338.5,156\" style=\"stroke: #000000; stroke-width: 1.5;\"/><line style=\"stroke: #000000; stroke-width: 1.5;\" x1=\"338.5\" x2=\"360.5\" y1=\"178.2969\" y2=\"178.2969\"/><text fill=\"#000000\" font-family=\"sans-serif\" font-size=\"14\" font-weight=\"bold\" lengthAdjust=\"spacingAndGlyphs\" textLength=\"9\" x=\"342.5\" y=\"170.9951\">P</text></a><!--MD5=[fbb449814971db3a0b8220cf225b9e01]\n",
       "link E7 to E6--><a href=\"psysml:786244db-8099-4288-b2d9-7a0aeaae101d\" target=\"_top\" title=\"psysml:786244db-8099-4288-b2d9-7a0aeaae101d\" xlink:actuate=\"onRequest\" xlink:href=\"psysml:786244db-8099-4288-b2d9-7a0aeaae101d\" xlink:show=\"new\" xlink:title=\"psysml:786244db-8099-4288-b2d9-7a0aeaae101d\" xlink:type=\"simple\"><path d=\"M456,146.07 C456,146.2 456,146.34 456,146.47 \" fill=\"none\" id=\"E7-&gt;E6\" style=\"stroke: #A80036; stroke-width: 1.0;\"/><polygon fill=\"none\" points=\"463,139.21,456,159.21,449,139.21,463,139.21\" style=\"stroke: #A80036; stroke-width: 1.0;\"/></a><!--MD5=[648bdef6933edc819d0965b92adca4b8]\n",
       "@startuml\r\n",
       "skinparam ranksep 10\r\n",
       "skinparam rectangle {\r\n",
       " backgroundColor<<block>> LightGreen\r\n",
       "}\r\n",
       " \r\n",
       "package \"PartTest\" as E1  [[psysml:a6b62677-d27b-4bf3-83e0-375e3ba01a4b ]]  {\r\n",
       "rec usage \"f: A\" as E2  [[psysml:fef66b5f-1b9d-421e-94fe-86858427a029 ]] {\r\n",
       "}\r\n",
       "rec def \"A\" as E3 << << (B,green) >> [[psysml:a2cad1be-c52d-4964-a87e-891cd7289f52 ]] {\r\n",
       "rec usage \"b: B\" as E4  [[psysml:9dcf2186-613a-4b96-912f-a1b95f354387 ]] {\r\n",
       "}\r\n",
       "portin \"c: C\" as E5 << << (P,blue) port>> [[psysml:a3147892-19dd-4d4c-8f64-71e53da800dc ]] \r\n",
       "comp usage \"x\" as E6 << <<(U,orange) attribute>> [[psysml:4215315b-f4db-4a1d-ab72-0471726dcc45 ]] {\r\n",
       "}\r\n",
       "comp usage \"y\" as E7 << <<(U,orange) attribute>> [[psysml:89a85a0a-005f-45e8-8309-6769d170c6df ]] {\r\n",
       "}\r\n",
       "}\r\n",
       "rec def \"B\" as E8 << << (B,green) >> [[psysml:bbb3af71-bfb9-47e2-863f-33482c8ff081 ]] {\r\n",
       "rec usage \"a: A\" as E9  [[psysml:c128dc79-fecf-4cdb-b1ba-5850a9b121ec ]] {\r\n",
       "}\r\n",
       "portin \"x: ~C\" as E10 << << (P,blue) port>> [[psysml:540f6402-e62e-4ea3-b051-5d5cf5bfcb38 ]] \r\n",
       "package \"P\" as E11  [[psysml:f4e4ee2b-1abf-4dbd-8483-2b091bdfceaf ]]  {\r\n",
       "}\r\n",
       "}\r\n",
       "def \"C\" as E12 << <<(D,brown) port def>> [[psysml:a92372c2-fe41-425f-b40c-da5b8c1ca15d ]] \r\n",
       "}\r\n",
       "E7 - -|> E6 [[psysml:786244db-8099-4288-b2d9-7a0aeaae101d ]] \r\n",
       "@enduml\r\n",
       "\n",
       "PlantUML version 1.2020.13(Sat Jun 13 12:26:38 UTC 2020)\n",
       "(EPL source distribution)\n",
       "Java Runtime: OpenJDK Runtime Environment\n",
       "JVM: OpenJDK 64-Bit Server VM\n",
       "Default Encoding: UTF-8\n",
       "Language: en\n",
       "Country: null\n",
       "--></g></svg>"
      ]
     },
     "execution_count": 33,
     "metadata": {},
     "output_type": "execute_result"
    }
   ],
   "source": [
    "%viz --style=\"PLANTUML\" --view=\"Interconnection\" \"PartTest\""
   ]
  },
  {
   "cell_type": "code",
   "execution_count": 34,
   "id": "53d26d8d",
   "metadata": {
    "execution": {
     "iopub.execute_input": "2021-10-03T08:29:54.595320Z",
     "iopub.status.busy": "2021-10-03T08:29:54.594919Z",
     "iopub.status.idle": "2021-10-03T08:29:54.599351Z",
     "shell.execute_reply": "2021-10-03T08:29:54.599642Z"
    }
   },
   "outputs": [
    {
     "data": {
      "image/svg+xml": [
       "<?xml version=\"1.0\" encoding=\"UTF-8\" standalone=\"no\"?><svg xmlns=\"http://www.w3.org/2000/svg\" xmlns:xlink=\"http://www.w3.org/1999/xlink\" contentScriptType=\"application/ecmascript\" contentStyleType=\"text/css\" height=\"12px\" preserveAspectRatio=\"none\" style=\"width:12px;height:12px;\" version=\"1.1\" viewBox=\"0 0 12 12\" width=\"12px\" zoomAndPan=\"magnify\"><defs/><g><!--MD5=[6a4cb978cab31700e1ce5529f947a75d]\n",
       "@startuml\r\n",
       "skinparam ranksep 8\r\n",
       " \r\n",
       "@enduml\r\n",
       "\n",
       "PlantUML version 1.2020.13(Sat Jun 13 12:26:38 UTC 2020)\n",
       "(EPL source distribution)\n",
       "Java Runtime: OpenJDK Runtime Environment\n",
       "JVM: OpenJDK 64-Bit Server VM\n",
       "Default Encoding: UTF-8\n",
       "Language: en\n",
       "Country: null\n",
       "--></g></svg>"
      ]
     },
     "execution_count": 34,
     "metadata": {},
     "output_type": "execute_result"
    }
   ],
   "source": [
    "%viz --style=\"PLANTUML\" --view=\"Action\" \"PartTest\""
   ]
  },
  {
   "cell_type": "code",
   "execution_count": 35,
   "id": "b05e8ccb",
   "metadata": {
    "execution": {
     "iopub.execute_input": "2021-10-03T08:29:54.649104Z",
     "iopub.status.busy": "2021-10-03T08:29:54.648701Z",
     "iopub.status.idle": "2021-10-03T08:29:54.653232Z",
     "shell.execute_reply": "2021-10-03T08:29:54.652900Z"
    }
   },
   "outputs": [
    {
     "data": {
      "image/svg+xml": [
       "<?xml version=\"1.0\" encoding=\"UTF-8\" standalone=\"no\"?><svg xmlns=\"http://www.w3.org/2000/svg\" xmlns:xlink=\"http://www.w3.org/1999/xlink\" contentScriptType=\"application/ecmascript\" contentStyleType=\"text/css\" height=\"12px\" preserveAspectRatio=\"none\" style=\"width:12px;height:12px;\" version=\"1.1\" viewBox=\"0 0 12 12\" width=\"12px\" zoomAndPan=\"magnify\"><defs/><g><!--MD5=[ca4faa0b02def275ea33c14ea7a1a98d]\n",
       "@startuml\r\n",
       "skinparam roundcorner 20\r\n",
       "skinparam BoxPadding 20\r\n",
       "skinparam SequenceBoxBackgroundColor #white\r\n",
       "skinparam style strictuml\r\n",
       "skinparam maxMessageSize 100\r\n",
       " \r\n",
       "@enduml\r\n",
       "\n",
       "PlantUML version 1.2020.13(Sat Jun 13 12:26:38 UTC 2020)\n",
       "(EPL source distribution)\n",
       "Java Runtime: OpenJDK Runtime Environment\n",
       "JVM: OpenJDK 64-Bit Server VM\n",
       "Default Encoding: UTF-8\n",
       "Language: en\n",
       "Country: null\n",
       "--></g></svg>"
      ]
     },
     "execution_count": 35,
     "metadata": {},
     "output_type": "execute_result"
    }
   ],
   "source": [
    "%viz --style=\"PLANTUML\" --view=\"Sequence\" \"PartTest\""
   ]
  },
  {
   "cell_type": "code",
   "execution_count": 36,
   "id": "5c4bd5a3",
   "metadata": {
    "execution": {
     "iopub.execute_input": "2021-10-03T08:29:54.702716Z",
     "iopub.status.busy": "2021-10-03T08:29:54.702316Z",
     "iopub.status.idle": "2021-10-03T08:29:54.754908Z",
     "shell.execute_reply": "2021-10-03T08:29:54.752464Z"
    }
   },
   "outputs": [
    {
     "data": {
      "image/svg+xml": [
       "<?xml version=\"1.0\" encoding=\"UTF-8\" standalone=\"no\"?><svg xmlns=\"http://www.w3.org/2000/svg\" xmlns:xlink=\"http://www.w3.org/1999/xlink\" contentScriptType=\"application/ecmascript\" contentStyleType=\"text/css\" height=\"732px\" preserveAspectRatio=\"none\" style=\"width:449px;height:732px;\" version=\"1.1\" viewBox=\"0 0 449 732\" width=\"449px\" zoomAndPan=\"magnify\"><defs><filter height=\"300%\" id=\"f1fzginh3ezu8f\" width=\"300%\" x=\"-1\" y=\"-1\"><feGaussianBlur result=\"blurOut\" stdDeviation=\"2.0\"/><feColorMatrix in=\"blurOut\" result=\"blurOut2\" type=\"matrix\" values=\"0 0 0 0 0 0 0 0 0 0 0 0 0 0 0 0 0 0 .4 0\"/><feOffset dx=\"4.0\" dy=\"4.0\" in=\"blurOut2\" result=\"blurOut3\"/><feBlend in=\"SourceGraphic\" in2=\"blurOut3\" mode=\"normal\"/></filter></defs><g><!--MD5=[fbc87193dbaf4d95561dea2c320d4a47]\n",
       "cluster E1--><a href=\"psysml:a6b62677-d27b-4bf3-83e0-375e3ba01a4b\" target=\"_top\" title=\"psysml:a6b62677-d27b-4bf3-83e0-375e3ba01a4b\" xlink:actuate=\"onRequest\" xlink:href=\"psysml:a6b62677-d27b-4bf3-83e0-375e3ba01a4b\" xlink:show=\"new\" xlink:title=\"psysml:a6b62677-d27b-4bf3-83e0-375e3ba01a4b\" xlink:type=\"simple\"><polygon fill=\"#FFFFFF\" filter=\"url(#f1fzginh3ezu8f)\" points=\"16,6,80,6,87,28.2969,427,28.2969,427,720,16,720,16,6\" style=\"stroke: #000000; stroke-width: 1.5;\"/><line style=\"stroke: #000000; stroke-width: 1.5;\" x1=\"16\" x2=\"87\" y1=\"28.2969\" y2=\"28.2969\"/><text fill=\"#000000\" font-family=\"sans-serif\" font-size=\"14\" font-weight=\"bold\" lengthAdjust=\"spacingAndGlyphs\" textLength=\"58\" x=\"20\" y=\"20.9951\">PartTest</text></a><!--MD5=[b4997ac47864f28c2f74865a473b2911]\n",
       "class E2--><a href=\"psysml:fef66b5f-1b9d-421e-94fe-86858427a029\" target=\"_top\" title=\"psysml:fef66b5f-1b9d-421e-94fe-86858427a029\" xlink:actuate=\"onRequest\" xlink:href=\"psysml:fef66b5f-1b9d-421e-94fe-86858427a029\" xlink:show=\"new\" xlink:title=\"psysml:fef66b5f-1b9d-421e-94fe-86858427a029\" xlink:type=\"simple\"><rect fill=\"#FEFECE\" filter=\"url(#f1fzginh3ezu8f)\" height=\"45.9375\" id=\"E2\" rx=\"10\" ry=\"10\" style=\"stroke: #A80036; stroke-width: 1.5;\" width=\"68\" x=\"188\" y=\"41\"/><ellipse cx=\"203\" cy=\"59.9688\" fill=\"#32CD32\" rx=\"11\" ry=\"11\" style=\"stroke: #A80036; stroke-width: 1.0;\"/><path d=\"M199.8125,64.9688 L199.8125,54.375 L203.4219,54.375 Q204.6406,54.375 205.4375,54.8125 Q206.2344,55.2344 206.6094,55.9375 Q207,56.6406 207,57.4844 Q207,58.3281 206.625,59.0156 Q206.2656,59.7031 205.4688,60.125 Q204.6875,60.5313 203.5,60.5313 L201.7656,60.5313 L201.7656,64.9688 L199.8125,64.9688 Z M201.7656,58.9375 L203.375,58.9375 Q204.1875,58.9375 204.6094,58.5313 Q205.0313,58.125 205.0313,57.4844 Q205.0313,56.8594 204.6094,56.4531 Q204.1875,56.0469 203.3906,56.0469 L201.7656,56.0469 L201.7656,58.9375 Z \"/><text fill=\"#000000\" font-family=\"sans-serif\" font-size=\"12\" font-style=\"italic\" lengthAdjust=\"spacingAndGlyphs\" textLength=\"40\" x=\"215\" y=\"57.1387\">«part»</text><text fill=\"#000000\" font-family=\"sans-serif\" font-size=\"12\" lengthAdjust=\"spacingAndGlyphs\" textLength=\"20\" x=\"225\" y=\"71.1074\">f: A</text><line style=\"stroke: #A80036; stroke-width: 1.5;\" x1=\"189\" x2=\"255\" y1=\"78.9375\" y2=\"78.9375\"/></a><!--MD5=[09b614a08d8cba4a07c9adeb5e0fee81]\n",
       "class E3--><a href=\"psysml:a2cad1be-c52d-4964-a87e-891cd7289f52\" target=\"_top\" title=\"psysml:a2cad1be-c52d-4964-a87e-891cd7289f52\" xlink:actuate=\"onRequest\" xlink:href=\"psysml:a2cad1be-c52d-4964-a87e-891cd7289f52\" xlink:show=\"new\" xlink:title=\"psysml:a2cad1be-c52d-4964-a87e-891cd7289f52\" xlink:type=\"simple\"><rect fill=\"#FEFECE\" filter=\"url(#f1fzginh3ezu8f)\" height=\"65.6094\" id=\"E3\" style=\"stroke: #A80036; stroke-width: 1.5;\" width=\"40\" x=\"202\" y=\"148\"/><ellipse cx=\"217\" cy=\"164\" fill=\"#008000\" rx=\"11\" ry=\"11\" style=\"stroke: #A80036; stroke-width: 1.0;\"/><path d=\"M213.875,169 L213.875,158.4063 L217.1094,158.4063 Q219.0156,158.4063 219.9219,159.1563 Q220.8438,159.9063 220.8438,161.0781 Q220.8438,161.7656 220.4531,162.4219 Q220.0781,163.0781 219.3594,163.375 Q220.2188,163.75 220.7344,164.4375 Q221.25,165.125 221.25,165.9375 Q221.25,167.3125 220.2188,168.1563 Q219.2031,169 217.0938,169 L213.875,169 Z M215.7969,162.6406 L216.9531,162.6406 Q218.0781,162.6406 218.4844,162.2656 Q218.9063,161.875 218.9063,161.25 Q218.9063,160.6719 218.4844,160.3125 Q218.0625,159.9531 217.125,159.9531 L215.7969,159.9531 L215.7969,162.6406 Z M215.7969,167.4219 L217.2969,167.4219 Q218.2031,167.4219 218.7344,167.0313 Q219.2656,166.6406 219.2656,165.8906 Q219.2656,165.125 218.7656,164.6563 Q218.2656,164.1719 217,164.1719 L215.7969,164.1719 L215.7969,167.4219 Z \"/><text fill=\"#000000\" font-family=\"sans-serif\" font-size=\"12\" lengthAdjust=\"spacingAndGlyphs\" textLength=\"8\" x=\"231\" y=\"168.1543\">A</text><line style=\"stroke: #A80036; stroke-width: 1.5;\" x1=\"203\" x2=\"241\" y1=\"180\" y2=\"180\"/><text fill=\"#000000\" font-family=\"sans-serif\" font-size=\"11\" lengthAdjust=\"spacingAndGlyphs\" textLength=\"6\" x=\"208\" y=\"194.2104\">x</text><text fill=\"#000000\" font-family=\"sans-serif\" font-size=\"11\" lengthAdjust=\"spacingAndGlyphs\" textLength=\"6\" x=\"208\" y=\"207.0151\">y</text></a><!--MD5=[ebbe1d658d1005bcc118a6aa81145e00]\n",
       "class E4--><a href=\"psysml:9dcf2186-613a-4b96-912f-a1b95f354387\" target=\"_top\" title=\"psysml:9dcf2186-613a-4b96-912f-a1b95f354387\" xlink:actuate=\"onRequest\" xlink:href=\"psysml:9dcf2186-613a-4b96-912f-a1b95f354387\" xlink:show=\"new\" xlink:title=\"psysml:9dcf2186-613a-4b96-912f-a1b95f354387\" xlink:type=\"simple\"><rect fill=\"#FEFECE\" filter=\"url(#f1fzginh3ezu8f)\" height=\"45.9375\" id=\"E4\" rx=\"10\" ry=\"10\" style=\"stroke: #A80036; stroke-width: 1.5;\" width=\"68\" x=\"326\" y=\"351\"/><ellipse cx=\"341\" cy=\"369.9688\" fill=\"#32CD32\" rx=\"11\" ry=\"11\" style=\"stroke: #A80036; stroke-width: 1.0;\"/><path d=\"M337.8125,374.9688 L337.8125,364.375 L341.4219,364.375 Q342.6406,364.375 343.4375,364.8125 Q344.2344,365.2344 344.6094,365.9375 Q345,366.6406 345,367.4844 Q345,368.3281 344.625,369.0156 Q344.2656,369.7031 343.4688,370.125 Q342.6875,370.5313 341.5,370.5313 L339.7656,370.5313 L339.7656,374.9688 L337.8125,374.9688 Z M339.7656,368.9375 L341.375,368.9375 Q342.1875,368.9375 342.6094,368.5313 Q343.0313,368.125 343.0313,367.4844 Q343.0313,366.8594 342.6094,366.4531 Q342.1875,366.0469 341.3906,366.0469 L339.7656,366.0469 L339.7656,368.9375 Z \"/><text fill=\"#000000\" font-family=\"sans-serif\" font-size=\"12\" font-style=\"italic\" lengthAdjust=\"spacingAndGlyphs\" textLength=\"40\" x=\"353\" y=\"367.1387\">«part»</text><text fill=\"#000000\" font-family=\"sans-serif\" font-size=\"12\" lengthAdjust=\"spacingAndGlyphs\" textLength=\"24\" x=\"361\" y=\"381.1074\">b: B</text><line style=\"stroke: #A80036; stroke-width: 1.5;\" x1=\"327\" x2=\"393\" y1=\"388.9375\" y2=\"388.9375\"/></a><!--MD5=[270fce915f116d4de14055a7c1d9a0f3]\n",
       "class E5--><a href=\"psysml:a3147892-19dd-4d4c-8f64-71e53da800dc\" target=\"_top\" title=\"psysml:a3147892-19dd-4d4c-8f64-71e53da800dc\" xlink:actuate=\"onRequest\" xlink:href=\"psysml:a3147892-19dd-4d4c-8f64-71e53da800dc\" xlink:show=\"new\" xlink:title=\"psysml:a3147892-19dd-4d4c-8f64-71e53da800dc\" xlink:type=\"simple\"><rect fill=\"#FEFECE\" filter=\"url(#f1fzginh3ezu8f)\" height=\"45.9375\" id=\"E5\" rx=\"10\" ry=\"10\" style=\"stroke: #A80036; stroke-width: 1.5;\" width=\"68\" x=\"306\" y=\"275\"/><ellipse cx=\"321\" cy=\"293.9688\" fill=\"#0000FF\" rx=\"11\" ry=\"11\" style=\"stroke: #A80036; stroke-width: 1.0;\"/><path d=\"M317.8125,298.9688 L317.8125,288.375 L321.4219,288.375 Q322.6406,288.375 323.4375,288.8125 Q324.2344,289.2344 324.6094,289.9375 Q325,290.6406 325,291.4844 Q325,292.3281 324.625,293.0156 Q324.2656,293.7031 323.4688,294.125 Q322.6875,294.5313 321.5,294.5313 L319.7656,294.5313 L319.7656,298.9688 L317.8125,298.9688 Z M319.7656,292.9375 L321.375,292.9375 Q322.1875,292.9375 322.6094,292.5313 Q323.0313,292.125 323.0313,291.4844 Q323.0313,290.8594 322.6094,290.4531 Q322.1875,290.0469 321.3906,290.0469 L319.7656,290.0469 L319.7656,292.9375 Z \"/><text fill=\"#000000\" font-family=\"sans-serif\" font-size=\"12\" font-style=\"italic\" lengthAdjust=\"spacingAndGlyphs\" textLength=\"40\" x=\"333\" y=\"291.1387\">«port»</text><text fill=\"#000000\" font-family=\"sans-serif\" font-size=\"12\" lengthAdjust=\"spacingAndGlyphs\" textLength=\"23\" x=\"341.5\" y=\"305.1074\">c: C</text><line style=\"stroke: #A80036; stroke-width: 1.5;\" x1=\"307\" x2=\"373\" y1=\"312.9375\" y2=\"312.9375\"/></a><!--MD5=[60a26617385b1d2d0262a64233df1f8d]\n",
       "class E6--><a href=\"psysml:bbb3af71-bfb9-47e2-863f-33482c8ff081\" target=\"_top\" title=\"psysml:bbb3af71-bfb9-47e2-863f-33482c8ff081\" xlink:actuate=\"onRequest\" xlink:href=\"psysml:bbb3af71-bfb9-47e2-863f-33482c8ff081\" xlink:show=\"new\" xlink:title=\"psysml:bbb3af71-bfb9-47e2-863f-33482c8ff081\" xlink:type=\"simple\"><rect fill=\"#FEFECE\" filter=\"url(#f1fzginh3ezu8f)\" height=\"40\" id=\"E6\" style=\"stroke: #A80036; stroke-width: 1.5;\" width=\"40\" x=\"188\" y=\"550\"/><ellipse cx=\"203\" cy=\"566\" fill=\"#008000\" rx=\"11\" ry=\"11\" style=\"stroke: #A80036; stroke-width: 1.0;\"/><path d=\"M199.875,571 L199.875,560.4063 L203.1094,560.4063 Q205.0156,560.4063 205.9219,561.1563 Q206.8438,561.9063 206.8438,563.0781 Q206.8438,563.7656 206.4531,564.4219 Q206.0781,565.0781 205.3594,565.375 Q206.2188,565.75 206.7344,566.4375 Q207.25,567.125 207.25,567.9375 Q207.25,569.3125 206.2188,570.1563 Q205.2031,571 203.0938,571 L199.875,571 Z M201.7969,564.6406 L202.9531,564.6406 Q204.0781,564.6406 204.4844,564.2656 Q204.9063,563.875 204.9063,563.25 Q204.9063,562.6719 204.4844,562.3125 Q204.0625,561.9531 203.125,561.9531 L201.7969,561.9531 L201.7969,564.6406 Z M201.7969,569.4219 L203.2969,569.4219 Q204.2031,569.4219 204.7344,569.0313 Q205.2656,568.6406 205.2656,567.8906 Q205.2656,567.125 204.7656,566.6563 Q204.2656,566.1719 203,566.1719 L201.7969,566.1719 L201.7969,569.4219 Z \"/><text fill=\"#000000\" font-family=\"sans-serif\" font-size=\"12\" lengthAdjust=\"spacingAndGlyphs\" textLength=\"8\" x=\"217\" y=\"570.1543\">B</text><line style=\"stroke: #A80036; stroke-width: 1.5;\" x1=\"189\" x2=\"227\" y1=\"582\" y2=\"582\"/></a><!--MD5=[2156ba9850f5573cc1fc38a6a4b2f02b]\n",
       "class E7--><a href=\"psysml:c128dc79-fecf-4cdb-b1ba-5850a9b121ec\" target=\"_top\" title=\"psysml:c128dc79-fecf-4cdb-b1ba-5850a9b121ec\" xlink:actuate=\"onRequest\" xlink:href=\"psysml:c128dc79-fecf-4cdb-b1ba-5850a9b121ec\" xlink:show=\"new\" xlink:title=\"psysml:c128dc79-fecf-4cdb-b1ba-5850a9b121ec\" xlink:type=\"simple\"><rect fill=\"#FEFECE\" filter=\"url(#f1fzginh3ezu8f)\" height=\"45.9375\" id=\"E7\" rx=\"10\" ry=\"10\" style=\"stroke: #A80036; stroke-width: 1.5;\" width=\"68\" x=\"57\" y=\"654.5\"/><ellipse cx=\"72\" cy=\"673.4688\" fill=\"#32CD32\" rx=\"11\" ry=\"11\" style=\"stroke: #A80036; stroke-width: 1.0;\"/><path d=\"M68.8125,678.4688 L68.8125,667.875 L72.4219,667.875 Q73.6406,667.875 74.4375,668.3125 Q75.2344,668.7344 75.6094,669.4375 Q76,670.1406 76,670.9844 Q76,671.8281 75.625,672.5156 Q75.2656,673.2031 74.4688,673.625 Q73.6875,674.0313 72.5,674.0313 L70.7656,674.0313 L70.7656,678.4688 L68.8125,678.4688 Z M70.7656,672.4375 L72.375,672.4375 Q73.1875,672.4375 73.6094,672.0313 Q74.0313,671.625 74.0313,670.9844 Q74.0313,670.3594 73.6094,669.9531 Q73.1875,669.5469 72.3906,669.5469 L70.7656,669.5469 L70.7656,672.4375 Z \"/><text fill=\"#000000\" font-family=\"sans-serif\" font-size=\"12\" font-style=\"italic\" lengthAdjust=\"spacingAndGlyphs\" textLength=\"40\" x=\"84\" y=\"670.6387\">«part»</text><text fill=\"#000000\" font-family=\"sans-serif\" font-size=\"12\" lengthAdjust=\"spacingAndGlyphs\" textLength=\"24\" x=\"92\" y=\"684.6074\">a: A</text><line style=\"stroke: #A80036; stroke-width: 1.5;\" x1=\"58\" x2=\"124\" y1=\"692.4375\" y2=\"692.4375\"/></a><!--MD5=[b9389687b975829384b498ac4b7476b2]\n",
       "class E8--><a href=\"psysml:540f6402-e62e-4ea3-b051-5d5cf5bfcb38\" target=\"_top\" title=\"psysml:540f6402-e62e-4ea3-b051-5d5cf5bfcb38\" xlink:actuate=\"onRequest\" xlink:href=\"psysml:540f6402-e62e-4ea3-b051-5d5cf5bfcb38\" xlink:show=\"new\" xlink:title=\"psysml:540f6402-e62e-4ea3-b051-5d5cf5bfcb38\" xlink:type=\"simple\"><rect fill=\"#FEFECE\" filter=\"url(#f1fzginh3ezu8f)\" height=\"45.9375\" id=\"E8\" rx=\"10\" ry=\"10\" style=\"stroke: #A80036; stroke-width: 1.5;\" width=\"68\" x=\"238\" y=\"654.5\"/><ellipse cx=\"253\" cy=\"673.4688\" fill=\"#0000FF\" rx=\"11\" ry=\"11\" style=\"stroke: #A80036; stroke-width: 1.0;\"/><path d=\"M249.8125,678.4688 L249.8125,667.875 L253.4219,667.875 Q254.6406,667.875 255.4375,668.3125 Q256.2344,668.7344 256.6094,669.4375 Q257,670.1406 257,670.9844 Q257,671.8281 256.625,672.5156 Q256.2656,673.2031 255.4688,673.625 Q254.6875,674.0313 253.5,674.0313 L251.7656,674.0313 L251.7656,678.4688 L249.8125,678.4688 Z M251.7656,672.4375 L253.375,672.4375 Q254.1875,672.4375 254.6094,672.0313 Q255.0313,671.625 255.0313,670.9844 Q255.0313,670.3594 254.6094,669.9531 Q254.1875,669.5469 253.3906,669.5469 L251.7656,669.5469 L251.7656,672.4375 Z \"/><text fill=\"#000000\" font-family=\"sans-serif\" font-size=\"12\" font-style=\"italic\" lengthAdjust=\"spacingAndGlyphs\" textLength=\"40\" x=\"265\" y=\"670.6387\">«port»</text><text fill=\"#000000\" font-family=\"sans-serif\" font-size=\"12\" lengthAdjust=\"spacingAndGlyphs\" textLength=\"32\" x=\"269\" y=\"684.6074\">x: ~C</text><line style=\"stroke: #A80036; stroke-width: 1.5;\" x1=\"239\" x2=\"305\" y1=\"692.4375\" y2=\"692.4375\"/></a><!--MD5=[96f4274e9e20536e775497830990834d]\n",
       "class E10--><a href=\"psysml:a92372c2-fe41-425f-b40c-da5b8c1ca15d\" target=\"_top\" title=\"psysml:a92372c2-fe41-425f-b40c-da5b8c1ca15d\" xlink:actuate=\"onRequest\" xlink:href=\"psysml:a92372c2-fe41-425f-b40c-da5b8c1ca15d\" xlink:show=\"new\" xlink:title=\"psysml:a92372c2-fe41-425f-b40c-da5b8c1ca15d\" xlink:type=\"simple\"><rect fill=\"#FEFECE\" filter=\"url(#f1fzginh3ezu8f)\" height=\"45.9375\" id=\"E10\" style=\"stroke: #A80036; stroke-width: 1.5;\" width=\"92\" x=\"162\" y=\"427\"/><ellipse cx=\"177\" cy=\"445.9688\" fill=\"#A52A2A\" rx=\"11\" ry=\"11\" style=\"stroke: #A80036; stroke-width: 1.0;\"/><path d=\"M174.2188,450.9688 L174.2188,440.375 L176.9531,440.375 Q178.3438,440.375 179.1094,440.7656 Q179.8906,441.1406 180.4219,441.8438 Q180.9531,442.5469 181.25,443.5469 Q181.5469,444.5313 181.5469,445.75 Q181.5,447.3438 181,448.5313 Q180.5156,449.7031 179.4688,450.3438 Q178.4375,450.9688 176.75,450.9688 L174.2188,450.9688 Z M176.0781,449.4688 L176.7031,449.4688 Q177.7813,449.4688 178.4375,449.0156 Q179.0938,448.5625 179.375,447.7344 Q179.6719,446.8906 179.6563,445.7656 Q179.6563,444.5938 179.4063,443.7344 Q179.1563,442.8594 178.5469,442.3906 Q177.9375,441.9063 176.8906,441.9063 L176.0781,441.9063 L176.0781,449.4688 Z \"/><text fill=\"#000000\" font-family=\"sans-serif\" font-size=\"12\" font-style=\"italic\" lengthAdjust=\"spacingAndGlyphs\" textLength=\"64\" x=\"189\" y=\"443.1387\">«port def»</text><text fill=\"#000000\" font-family=\"sans-serif\" font-size=\"12\" lengthAdjust=\"spacingAndGlyphs\" textLength=\"8\" x=\"217\" y=\"457.1074\">C</text><line style=\"stroke: #A80036; stroke-width: 1.5;\" x1=\"163\" x2=\"253\" y1=\"464.9375\" y2=\"464.9375\"/></a><a href=\"psysml:f4e4ee2b-1abf-4dbd-8483-2b091bdfceaf\" target=\"_top\" title=\"psysml:f4e4ee2b-1abf-4dbd-8483-2b091bdfceaf\" xlink:actuate=\"onRequest\" xlink:href=\"psysml:f4e4ee2b-1abf-4dbd-8483-2b091bdfceaf\" xlink:show=\"new\" xlink:title=\"psysml:f4e4ee2b-1abf-4dbd-8483-2b091bdfceaf\" xlink:type=\"simple\"><polygon fill=\"#FFFFFF\" filter=\"url(#f1fzginh3ezu8f)\" points=\"173.5,651,188.5,651,195.5,673.2969,202.5,673.2969,202.5,703.5938,173.5,703.5938,173.5,651\" style=\"stroke: #000000; stroke-width: 1.5;\"/><line style=\"stroke: #000000; stroke-width: 1.5;\" x1=\"173.5\" x2=\"195.5\" y1=\"673.2969\" y2=\"673.2969\"/><text fill=\"#000000\" font-family=\"sans-serif\" font-size=\"14\" font-weight=\"bold\" lengthAdjust=\"spacingAndGlyphs\" textLength=\"9\" x=\"177.5\" y=\"665.9951\">P</text></a><!--MD5=[2720a5a1f2c3fca2055b230370638851]\n",
       "link E2 to E3--><a href=\"psysml:488f6ee0-39a9-4dc0-b555-612cc99c37a1\" target=\"_top\" title=\"psysml:488f6ee0-39a9-4dc0-b555-612cc99c37a1\" xlink:actuate=\"onRequest\" xlink:href=\"psysml:488f6ee0-39a9-4dc0-b555-612cc99c37a1\" xlink:show=\"new\" xlink:title=\"psysml:488f6ee0-39a9-4dc0-b555-612cc99c37a1\" xlink:type=\"simple\"><path d=\"M222,87.17 C222,98.75 222,113.45 222,127.71 \" fill=\"none\" id=\"E2-&gt;E3\" style=\"stroke: #A80036; stroke-width: 1.0;\"/><polygon fill=\"#FFFFFF\" points=\"222,147.89,215,128.89,229,128.89,222,147.89\" style=\"stroke: #A80036; stroke-width: 1.0;\"/><ellipse cx=\"217\" cy=\"123.19\" fill=\"#A80036\" rx=\"2\" ry=\"2\" style=\"stroke: #A80036; stroke-width: 1.0;\"/><ellipse cx=\"227\" cy=\"123.19\" fill=\"#A80036\" rx=\"2\" ry=\"2\" style=\"stroke: #A80036; stroke-width: 1.0;\"/></a><!--MD5=[4672eba38e49728da53d11aeb285b987]\n",
       "reverse link E3 to E4--><a href=\"psysml:98712745-a638-4d1f-8ffc-380c342569c9\" target=\"_top\" title=\"psysml:98712745-a638-4d1f-8ffc-380c342569c9\" xlink:actuate=\"onRequest\" xlink:href=\"psysml:98712745-a638-4d1f-8ffc-380c342569c9\" xlink:show=\"new\" xlink:title=\"psysml:98712745-a638-4d1f-8ffc-380c342569c9\" xlink:type=\"simple\"><path d=\"M254.96,189.28 C295.45,200.19 362.4,225.06 392,275 C406.24,299.02 391.24,330.16 377.35,350.82 \" fill=\"none\" id=\"E3&lt;-E4\" style=\"stroke: #A80036; stroke-width: 1.0;\"/><polygon fill=\"#A80036\" points=\"242.09,186.04,246.9336,191.3822,253.7278,188.9659,248.8842,183.6237,242.09,186.04\" style=\"stroke: #A80036; stroke-width: 1.0;\"/><text fill=\"#000000\" font-family=\"sans-serif\" font-size=\"13\" lengthAdjust=\"spacingAndGlyphs\" textLength=\"8\" x=\"373.7477\" y=\"341.0484\">1</text></a><!--MD5=[191cde3d490a3f6d7bb551fe3ddca469]\n",
       "reverse link E3 to E5--><a href=\"psysml:3d3c789c-d512-4565-8d7c-059f8d1010f8\" target=\"_top\" title=\"psysml:3d3c789c-d512-4565-8d7c-059f8d1010f8\" xlink:actuate=\"onRequest\" xlink:href=\"psysml:3d3c789c-d512-4565-8d7c-059f8d1010f8\" xlink:show=\"new\" xlink:title=\"psysml:3d3c789c-d512-4565-8d7c-059f8d1010f8\" xlink:type=\"simple\"><path d=\"M251.41,210.67 C271.71,230.45 298.32,256.37 317.05,274.64 \" fill=\"none\" id=\"E3&lt;-E5\" style=\"stroke: #A80036; stroke-width: 1.0;\"/><polygon fill=\"#FFFFFF\" points=\"242.02,201.51,243.5275,208.5618,250.6166,209.8825,249.1091,202.8307,242.02,201.51\" style=\"stroke: #A80036; stroke-width: 1.0;\"/><text fill=\"#000000\" font-family=\"sans-serif\" font-size=\"13\" lengthAdjust=\"spacingAndGlyphs\" textLength=\"8\" x=\"302.1441\" y=\"263.824\">1</text></a><!--MD5=[79568f1e445c3877b6a54524624ccc7d]\n",
       "link E4 to E6--><a href=\"psysml:1225703b-924d-44f0-aa92-4bca49ced0c9\" target=\"_top\" title=\"psysml:1225703b-924d-44f0-aa92-4bca49ced0c9\" xlink:actuate=\"onRequest\" xlink:href=\"psysml:1225703b-924d-44f0-aa92-4bca49ced0c9\" xlink:show=\"new\" xlink:title=\"psysml:1225703b-924d-44f0-aa92-4bca49ced0c9\" xlink:type=\"simple\"><path d=\"M342.56,397.25 C316.34,430.72 266.53,494.3 235.41,534.01 \" fill=\"none\" id=\"E4-&gt;E6\" style=\"stroke: #A80036; stroke-width: 1.0;\"/><polygon fill=\"#FFFFFF\" points=\"222.97,549.9,229.1843,530.6287,240.2018,539.2667,222.97,549.9\" style=\"stroke: #A80036; stroke-width: 1.0;\"/><ellipse cx=\"234.2751\" cy=\"527.377\" fill=\"#A80036\" rx=\"2\" ry=\"2\" style=\"stroke: #A80036; stroke-width: 1.0;\"/><ellipse cx=\"242.1447\" cy=\"533.547\" fill=\"#A80036\" rx=\"2\" ry=\"2\" style=\"stroke: #A80036; stroke-width: 1.0;\"/></a><!--MD5=[3f50a3473f1dfb74d3f76443e03635af]\n",
       "reverse link E6 to E7--><a href=\"psysml:a81e6d2d-a633-4d51-820c-a47602c519dd\" target=\"_top\" title=\"psysml:a81e6d2d-a633-4d51-820c-a47602c519dd\" xlink:actuate=\"onRequest\" xlink:href=\"psysml:a81e6d2d-a633-4d51-820c-a47602c519dd\" xlink:show=\"new\" xlink:title=\"psysml:a81e6d2d-a633-4d51-820c-a47602c519dd\" xlink:type=\"simple\"><path d=\"M178.07,597.98 C158.75,615.41 133.92,637.8 115.72,654.21 \" fill=\"none\" id=\"E6&lt;-E7\" style=\"stroke: #A80036; stroke-width: 1.0;\"/><polygon fill=\"#A80036\" points=\"187.89,589.14,180.7549,590.1841,178.9744,597.1719,186.1095,596.1278,187.89,589.14\" style=\"stroke: #A80036; stroke-width: 1.0;\"/><text fill=\"#000000\" font-family=\"sans-serif\" font-size=\"13\" lengthAdjust=\"spacingAndGlyphs\" textLength=\"8\" x=\"113.0295\" y=\"643.412\">1</text></a><!--MD5=[14ccda38c055a5c0da953d572bc50960]\n",
       "link E7 to E3--><a href=\"psysml:4883cacd-6695-4e4a-8cc2-3609b81ec9a9\" target=\"_top\" title=\"psysml:4883cacd-6695-4e4a-8cc2-3609b81ec9a9\" xlink:actuate=\"onRequest\" xlink:href=\"psysml:4883cacd-6695-4e4a-8cc2-3609b81ec9a9\" xlink:show=\"new\" xlink:title=\"psysml:4883cacd-6695-4e4a-8cc2-3609b81ec9a9\" xlink:type=\"simple\"><path d=\"M70.06,654.14 C53.45,634.01 33,602.77 33,571 C33,297 33,297 33,297 C33,227.83 126.54,199.07 182,188.09 \" fill=\"none\" id=\"E7-&gt;E3\" style=\"stroke: #A80036; stroke-width: 1.0;\"/><polygon fill=\"#FFFFFF\" points=\"201.77,184.61,184.2731,194.8011,181.8435,181.0135,201.77,184.61\" style=\"stroke: #A80036; stroke-width: 1.0;\"/><ellipse cx=\"178.3125\" cy=\"193.8206\" fill=\"#A80036\" rx=\"2\" ry=\"2\" style=\"stroke: #A80036; stroke-width: 1.0;\"/><ellipse cx=\"176.5771\" cy=\"183.9723\" fill=\"#A80036\" rx=\"2\" ry=\"2\" style=\"stroke: #A80036; stroke-width: 1.0;\"/></a><!--MD5=[f4cf0736d43fd73c4ef68817c49d37d5]\n",
       "reverse link E6 to E8--><a href=\"psysml:2d844c43-a52c-43bf-b052-a300acb2bf74\" target=\"_top\" title=\"psysml:2d844c43-a52c-43bf-b052-a300acb2bf74\" xlink:actuate=\"onRequest\" xlink:href=\"psysml:2d844c43-a52c-43bf-b052-a300acb2bf74\" xlink:show=\"new\" xlink:title=\"psysml:2d844c43-a52c-43bf-b052-a300acb2bf74\" xlink:type=\"simple\"><path d=\"M226.71,601.84 C236.92,618.67 249.32,639.11 258.56,654.35 \" fill=\"none\" id=\"E6&lt;-E8\" style=\"stroke: #A80036; stroke-width: 1.0;\"/><polygon fill=\"#FFFFFF\" points=\"219.74,590.35,219.4323,597.5545,225.9643,600.6095,226.272,593.405,219.74,590.35\" style=\"stroke: #A80036; stroke-width: 1.0;\"/><text fill=\"#000000\" font-family=\"sans-serif\" font-size=\"13\" lengthAdjust=\"spacingAndGlyphs\" textLength=\"8\" x=\"246.091\" y=\"643.5879\">1</text></a><!--MD5=[e88d06e5a652d73a6b19930eefe025a8]\n",
       "reverse link E6 to E9--><a href=\"psysml:5153bd7e-9106-496d-98a6-0d3fae0d20a5\" target=\"_top\" title=\"psysml:5153bd7e-9106-496d-98a6-0d3fae0d20a5\" xlink:actuate=\"onRequest\" xlink:href=\"psysml:5153bd7e-9106-496d-98a6-0d3fae0d20a5\" xlink:show=\"new\" xlink:title=\"psysml:5153bd7e-9106-496d-98a6-0d3fae0d20a5\" xlink:type=\"simple\"><path d=\"M201.5,605.31 C198.68,620.15 195.45,637.21 192.85,650.91 \" fill=\"none\" id=\"E6&lt;-E9\" style=\"stroke: #A80036; stroke-width: 1.0;\"/><ellipse cx=\"202.8373\" cy=\"598.2095\" fill=\"#FFFFFF\" rx=\"8\" ry=\"8\" style=\"stroke: #A80036; stroke-width: 1.0;\"/><line style=\"stroke: #A80036; stroke-width: 1.0;\" x1=\"201.3446\" x2=\"204.33\" y1=\"606.069\" y2=\"590.35\"/><line style=\"stroke: #A80036; stroke-width: 1.0;\" x1=\"194.9778\" x2=\"210.6968\" y1=\"596.7168\" y2=\"599.7022\"/></a><!--MD5=[f78a29d5932556fa1060671a2a6507d8]\n",
       "link E5 to E10--><a href=\"psysml:63374559-c2a0-4cf8-92a3-b39a3ed3eac1\" target=\"_top\" title=\"psysml:63374559-c2a0-4cf8-92a3-b39a3ed3eac1\" xlink:actuate=\"onRequest\" xlink:href=\"psysml:63374559-c2a0-4cf8-92a3-b39a3ed3eac1\" xlink:show=\"new\" xlink:title=\"psysml:63374559-c2a0-4cf8-92a3-b39a3ed3eac1\" xlink:type=\"simple\"><path d=\"M326.74,321.28 C313.85,342 293.06,373.19 271,397 C265.65,402.78 259.66,408.49 253.55,413.91 \" fill=\"none\" id=\"E5-&gt;E10\" style=\"stroke: #A80036; stroke-width: 1.0;\"/><polygon fill=\"#FFFFFF\" points=\"237.97,426.96,248.0287,409.3867,257.0257,420.113,237.97,426.96\" style=\"stroke: #A80036; stroke-width: 1.0;\"/><ellipse cx=\"253.6812\" cy=\"407.256\" fill=\"#A80036\" rx=\"2\" ry=\"2\" style=\"stroke: #A80036; stroke-width: 1.0;\"/><ellipse cx=\"260.1076\" cy=\"414.9177\" fill=\"#A80036\" rx=\"2\" ry=\"2\" style=\"stroke: #A80036; stroke-width: 1.0;\"/></a><!--MD5=[8e04057e7b3cbc0dca4fc78ea351e2da]\n",
       "reverse link E10 to E3--><a href=\"psysml:e24d69b8-a494-4022-9892-35ed42c85155\" target=\"_top\" title=\"psysml:e24d69b8-a494-4022-9892-35ed42c85155\" xlink:actuate=\"onRequest\" xlink:href=\"psysml:e24d69b8-a494-4022-9892-35ed42c85155\" xlink:show=\"new\" xlink:title=\"psysml:e24d69b8-a494-4022-9892-35ed42c85155\" xlink:type=\"simple\"><path d=\"M177.16,416.9 C147.7,382.17 110.59,325.03 131,275 C145.25,240.07 179.63,211.14 201.82,195.24 \" fill=\"none\" id=\"E10&lt;-E3\" style=\"stroke: #A80036; stroke-width: 1.0;\"/><polygon fill=\"#FFFFFF\" points=\"185.98,426.93,185.0193,419.7832,178.0528,417.9212,179.0134,425.068,185.98,426.93\" style=\"stroke: #A80036; stroke-width: 1.0;\"/><text fill=\"#000000\" font-family=\"sans-serif\" font-size=\"13\" lengthAdjust=\"spacingAndGlyphs\" textLength=\"7\" x=\"132\" y=\"302.5669\">y</text></a><!--MD5=[8e04057e7b3cbc0dca4fc78ea351e2da]\n",
       "reverse link E10 to E3--><a href=\"psysml:e24d69b8-a494-4022-9892-35ed42c85155\" target=\"_top\" title=\"psysml:e24d69b8-a494-4022-9892-35ed42c85155\" xlink:actuate=\"onRequest\" xlink:href=\"psysml:e24d69b8-a494-4022-9892-35ed42c85155\" xlink:show=\"new\" xlink:title=\"psysml:e24d69b8-a494-4022-9892-35ed42c85155\" xlink:type=\"simple\"><path d=\"M207.2,413.68 C206.69,378.49 206.64,322.94 210,275 C211.42,254.7 214.32,232.05 216.91,214.19 \" fill=\"none\" id=\"E10&lt;-E3-1\" style=\"stroke: #A80036; stroke-width: 1.0;\"/><polygon fill=\"#FFFFFF\" points=\"207.43,426.99,211.3305,420.9248,207.232,414.9916,203.3315,421.0568,207.43,426.99\" style=\"stroke: #A80036; stroke-width: 1.0;\"/><text fill=\"#000000\" font-family=\"sans-serif\" font-size=\"13\" lengthAdjust=\"spacingAndGlyphs\" textLength=\"7\" x=\"211\" y=\"302.5669\">y</text></a><!--MD5=[8e04057e7b3cbc0dca4fc78ea351e2da]\n",
       "reverse link E10 to E3--><a href=\"psysml:e24d69b8-a494-4022-9892-35ed42c85155\" target=\"_top\" title=\"psysml:e24d69b8-a494-4022-9892-35ed42c85155\" xlink:actuate=\"onRequest\" xlink:href=\"psysml:e24d69b8-a494-4022-9892-35ed42c85155\" xlink:show=\"new\" xlink:title=\"psysml:e24d69b8-a494-4022-9892-35ed42c85155\" xlink:type=\"simple\"><path d=\"M213.75,413.53 C214.56,408.01 215.34,402.35 216,397 C220.14,363.33 221.44,354.88 223,321 C223.94,300.58 223.11,295.44 223,275 C222.89,254.82 222.65,232.17 222.43,214.28 \" fill=\"none\" id=\"E10&lt;-E3-2\" style=\"stroke: #A80036; stroke-width: 1.0;\"/><polygon fill=\"#FFFFFF\" points=\"211.72,426.77,216.5832,421.4456,213.5387,414.9086,208.6756,420.2331,211.72,426.77\" style=\"stroke: #A80036; stroke-width: 1.0;\"/><text fill=\"#000000\" font-family=\"sans-serif\" font-size=\"13\" lengthAdjust=\"spacingAndGlyphs\" textLength=\"7\" x=\"224\" y=\"302.5669\">y</text></a><!--MD5=[604cbf994c02b74b117f728a71673cea]\n",
       "reverse link E10 to E6--><a href=\"psysml:e24d69b8-a494-4022-9892-35ed42c85155\" target=\"_top\" title=\"psysml:e24d69b8-a494-4022-9892-35ed42c85155\" xlink:actuate=\"onRequest\" xlink:href=\"psysml:e24d69b8-a494-4022-9892-35ed42c85155\" xlink:show=\"new\" xlink:title=\"psysml:e24d69b8-a494-4022-9892-35ed42c85155\" xlink:type=\"simple\"><path d=\"M216.43,485.99 C218.14,496.86 219.12,508.91 218,520 C217.01,529.85 214.91,540.64 212.9,549.59 \" fill=\"none\" id=\"E10&lt;-E6\" style=\"stroke: #A80036; stroke-width: 1.0;\"/><polygon fill=\"#FFFFFF\" points=\"213.96,473,211.1427,479.638,216.1866,484.7916,219.0038,478.1536,213.96,473\" style=\"stroke: #A80036; stroke-width: 1.0;\"/><text fill=\"#000000\" font-family=\"sans-serif\" font-size=\"13\" lengthAdjust=\"spacingAndGlyphs\" textLength=\"7\" x=\"219\" y=\"516.0669\">y</text></a><!--MD5=[604cbf994c02b74b117f728a71673cea]\n",
       "reverse link E10 to E6--><a href=\"psysml:e24d69b8-a494-4022-9892-35ed42c85155\" target=\"_top\" title=\"psysml:e24d69b8-a494-4022-9892-35ed42c85155\" xlink:actuate=\"onRequest\" xlink:href=\"psysml:e24d69b8-a494-4022-9892-35ed42c85155\" xlink:show=\"new\" xlink:title=\"psysml:e24d69b8-a494-4022-9892-35ed42c85155\" xlink:type=\"simple\"><path d=\"M172.04,482.87 C167.13,489.03 162.81,495.82 160,503 C152,523.45 171.29,543.33 187.75,555.84 \" fill=\"none\" id=\"E10&lt;-E6-1\" style=\"stroke: #A80036; stroke-width: 1.0;\"/><polygon fill=\"#FFFFFF\" points=\"180.73,473.16,173.7505,474.973,172.7396,482.1129,179.7191,480.2999,180.73,473.16\" style=\"stroke: #A80036; stroke-width: 1.0;\"/><text fill=\"#000000\" font-family=\"sans-serif\" font-size=\"13\" lengthAdjust=\"spacingAndGlyphs\" textLength=\"7\" x=\"161\" y=\"516.0669\">y</text></a><!--MD5=[604cbf994c02b74b117f728a71673cea]\n",
       "reverse link E10 to E6--><a href=\"psysml:e24d69b8-a494-4022-9892-35ed42c85155\" target=\"_top\" title=\"psysml:e24d69b8-a494-4022-9892-35ed42c85155\" xlink:actuate=\"onRequest\" xlink:href=\"psysml:e24d69b8-a494-4022-9892-35ed42c85155\" xlink:show=\"new\" xlink:title=\"psysml:e24d69b8-a494-4022-9892-35ed42c85155\" xlink:type=\"simple\"><path d=\"M208,486.33 C208,507.08 208,532.51 208,549.64 \" fill=\"none\" id=\"E10&lt;-E6-2\" style=\"stroke: #A80036; stroke-width: 1.0;\"/><polygon fill=\"#FFFFFF\" points=\"208,473.19,204,479.19,208,485.19,212,479.19,208,473.19\" style=\"stroke: #A80036; stroke-width: 1.0;\"/><text fill=\"#000000\" font-family=\"sans-serif\" font-size=\"13\" lengthAdjust=\"spacingAndGlyphs\" textLength=\"7\" x=\"209\" y=\"516.0669\">y</text></a><!--MD5=[add526e66a4eb747634c6deb3962f533]\n",
       "@startuml\r\n",
       " \r\n",
       "package \"PartTest\" as E1  [[psysml:a6b62677-d27b-4bf3-83e0-375e3ba01a4b ]]  {\r\n",
       "comp usage \"f: A\" as E2 << << (P,limegreen) part>> [[psysml:fef66b5f-1b9d-421e-94fe-86858427a029 ]] {\r\n",
       "}\r\n",
       "comp def \"A\" as E3 << << (B,green) >> [[psysml:a2cad1be-c52d-4964-a87e-891cd7289f52 ]] {\r\n",
       "x\r\n",
       "y\r\n",
       "}\r\n",
       "comp usage \"b: B\" as E4 << << (P,limegreen) part>> [[psysml:9dcf2186-613a-4b96-912f-a1b95f354387 ]] {\r\n",
       "}\r\n",
       "comp usage \"c: C\" as E5 << << (P,blue) port>> [[psysml:a3147892-19dd-4d4c-8f64-71e53da800dc ]] {\r\n",
       "}\r\n",
       "comp def \"B\" as E6 << << (B,green) >> [[psysml:bbb3af71-bfb9-47e2-863f-33482c8ff081 ]] {\r\n",
       "}\r\n",
       "comp usage \"a: A\" as E7 << << (P,limegreen) part>> [[psysml:c128dc79-fecf-4cdb-b1ba-5850a9b121ec ]] {\r\n",
       "}\r\n",
       "comp usage \"x: ~C\" as E8 << << (P,blue) port>> [[psysml:540f6402-e62e-4ea3-b051-5d5cf5bfcb38 ]] {\r\n",
       "}\r\n",
       "package \"P\" as E9  [[psysml:f4e4ee2b-1abf-4dbd-8483-2b091bdfceaf ]]  {\r\n",
       "}\r\n",
       "comp def \"C\" as E10 << <<(D,brown) port def>> [[psysml:a92372c2-fe41-425f-b40c-da5b8c1ca15d ]] {\r\n",
       "}\r\n",
       "}\r\n",
       "E2 - -:|> E3 [[psysml:488f6ee0-39a9-4dc0-b555-612cc99c37a1 ]] \r\n",
       "E3 *- - \"1\"E4 [[psysml:98712745-a638-4d1f-8ffc-380c342569c9 ]] \r\n",
       "E3 o- - \"1\"E5 [[psysml:3d3c789c-d512-4565-8d7c-059f8d1010f8 ]] \r\n",
       "E4 - -:|> E6 [[psysml:1225703b-924d-44f0-aa92-4bca49ced0c9 ]] \r\n",
       "E6 *- - \"1\"E7 [[psysml:a81e6d2d-a633-4d51-820c-a47602c519dd ]] \r\n",
       "E7 - -:|> E3 [[psysml:4883cacd-6695-4e4a-8cc2-3609b81ec9a9 ]] \r\n",
       "E6 o- - \"1\"E8 [[psysml:2d844c43-a52c-43bf-b052-a300acb2bf74 ]] \r\n",
       "E6 +- - E9 [[psysml:5153bd7e-9106-496d-98a6-0d3fae0d20a5 ]] \r\n",
       "E5 - -:|> E10 [[psysml:63374559-c2a0-4cf8-92a3-b39a3ed3eac1 ]] \r\n",
       "E10 o- - E3 [[psysml:e24d69b8-a494-4022-9892-35ed42c85155 ]] : y\r\n",
       "E10 o- - E6 [[psysml:e24d69b8-a494-4022-9892-35ed42c85155 ]] : y\r\n",
       "E10 o- - E3 [[psysml:e24d69b8-a494-4022-9892-35ed42c85155 ]] : y\r\n",
       "E10 o- - E6 [[psysml:e24d69b8-a494-4022-9892-35ed42c85155 ]] : y\r\n",
       "E10 o- - E3 [[psysml:e24d69b8-a494-4022-9892-35ed42c85155 ]] : y\r\n",
       "E10 o- - E6 [[psysml:e24d69b8-a494-4022-9892-35ed42c85155 ]] : y\r\n",
       "@enduml\r\n",
       "\n",
       "PlantUML version 1.2020.13(Sat Jun 13 12:26:38 UTC 2020)\n",
       "(EPL source distribution)\n",
       "Java Runtime: OpenJDK Runtime Environment\n",
       "JVM: OpenJDK 64-Bit Server VM\n",
       "Default Encoding: UTF-8\n",
       "Language: en\n",
       "Country: null\n",
       "--></g></svg>"
      ]
     },
     "execution_count": 36,
     "metadata": {},
     "output_type": "execute_result"
    }
   ],
   "source": [
    "%viz --style=\"PLANTUML\" --view=\"MIXED\" \"PartTest\""
   ]
  },
  {
   "cell_type": "code",
   "execution_count": 37,
   "id": "b702b9b0",
   "metadata": {
    "execution": {
     "iopub.execute_input": "2021-10-03T08:29:54.803245Z",
     "iopub.status.busy": "2021-10-03T08:29:54.802840Z",
     "iopub.status.idle": "2021-10-03T08:29:54.861142Z",
     "shell.execute_reply": "2021-10-03T08:29:54.859172Z"
    }
   },
   "outputs": [
    {
     "data": {
      "image/svg+xml": [
       "<?xml version=\"1.0\" encoding=\"UTF-8\" standalone=\"no\"?><svg xmlns=\"http://www.w3.org/2000/svg\" xmlns:xlink=\"http://www.w3.org/1999/xlink\" contentScriptType=\"application/ecmascript\" contentStyleType=\"text/css\" height=\"760px\" preserveAspectRatio=\"none\" style=\"width:423px;height:760px;\" version=\"1.1\" viewBox=\"0 0 423 760\" width=\"423px\" zoomAndPan=\"magnify\"><defs/><g><!--MD5=[fbc87193dbaf4d95561dea2c320d4a47]\n",
       "cluster E1--><a href=\"psysml:a6b62677-d27b-4bf3-83e0-375e3ba01a4b\" target=\"_top\" title=\"psysml:a6b62677-d27b-4bf3-83e0-375e3ba01a4b\" xlink:actuate=\"onRequest\" xlink:href=\"psysml:a6b62677-d27b-4bf3-83e0-375e3ba01a4b\" xlink:show=\"new\" xlink:title=\"psysml:a6b62677-d27b-4bf3-83e0-375e3ba01a4b\" xlink:type=\"simple\"><polygon fill=\"#FFFFFF\" points=\"16,6,80,6,87,28.2969,401,28.2969,401,748,16,748,16,6\" style=\"stroke: #000000; stroke-width: 1.5;\"/><line style=\"stroke: #000000; stroke-width: 1.5;\" x1=\"16\" x2=\"87\" y1=\"28.2969\" y2=\"28.2969\"/><text fill=\"#000000\" font-family=\"sans-serif\" font-size=\"14\" font-weight=\"bold\" lengthAdjust=\"spacingAndGlyphs\" textLength=\"58\" x=\"20\" y=\"20.9951\">PartTest</text></a><!--MD5=[b4997ac47864f28c2f74865a473b2911]\n",
       "class E2--><a href=\"psysml:fef66b5f-1b9d-421e-94fe-86858427a029\" target=\"_top\" title=\"psysml:fef66b5f-1b9d-421e-94fe-86858427a029\" xlink:actuate=\"onRequest\" xlink:href=\"psysml:fef66b5f-1b9d-421e-94fe-86858427a029\" xlink:show=\"new\" xlink:title=\"psysml:fef66b5f-1b9d-421e-94fe-86858427a029\" xlink:type=\"simple\"><rect fill=\"#FFFFFF\" height=\"45.9375\" id=\"E2\" rx=\"10\" ry=\"10\" style=\"stroke: #383838; stroke-width: 1.5;\" width=\"42\" x=\"201\" y=\"41\"/><text fill=\"#000000\" font-family=\"sans-serif\" font-size=\"12\" font-style=\"italic\" lengthAdjust=\"spacingAndGlyphs\" textLength=\"40\" x=\"202\" y=\"57.1387\">«part»</text><text fill=\"#000000\" font-family=\"sans-serif\" font-size=\"12\" lengthAdjust=\"spacingAndGlyphs\" textLength=\"20\" x=\"212\" y=\"71.1074\">f: A</text><line style=\"stroke: #383838; stroke-width: 1.5;\" x1=\"202\" x2=\"242\" y1=\"78.9375\" y2=\"78.9375\"/></a><!--MD5=[09b614a08d8cba4a07c9adeb5e0fee81]\n",
       "class E3--><a href=\"psysml:a2cad1be-c52d-4964-a87e-891cd7289f52\" target=\"_top\" title=\"psysml:a2cad1be-c52d-4964-a87e-891cd7289f52\" xlink:actuate=\"onRequest\" xlink:href=\"psysml:a2cad1be-c52d-4964-a87e-891cd7289f52\" xlink:show=\"new\" xlink:title=\"psysml:a2cad1be-c52d-4964-a87e-891cd7289f52\" xlink:type=\"simple\"><rect fill=\"#FFFFFF\" height=\"88.3516\" id=\"E3\" style=\"stroke: #383838; stroke-width: 1.5;\" width=\"66\" x=\"189\" y=\"148\"/><text fill=\"#000000\" font-family=\"sans-serif\" font-size=\"12\" font-style=\"italic\" lengthAdjust=\"spacingAndGlyphs\" textLength=\"64\" x=\"190\" y=\"164.1387\">«part def»</text><text fill=\"#000000\" font-family=\"sans-serif\" font-size=\"12\" lengthAdjust=\"spacingAndGlyphs\" textLength=\"8\" x=\"218\" y=\"178.1074\">A</text><line style=\"stroke: #383838; stroke-width: 1.5;\" x1=\"190\" x2=\"254\" y1=\"185.9375\" y2=\"185.9375\"/><text fill=\"#000000\" font-family=\"sans-serif\" font-size=\"11\" lengthAdjust=\"spacingAndGlyphs\" textLength=\"6\" x=\"195\" y=\"216.9526\">x</text><text fill=\"#000000\" font-family=\"sans-serif\" font-size=\"11\" lengthAdjust=\"spacingAndGlyphs\" textLength=\"6\" x=\"195\" y=\"229.7573\">y</text><line style=\"stroke: #383838; stroke-width: 1.0;\" x1=\"190\" x2=\"194.5\" y1=\"200.3398\" y2=\"200.3398\"/><text fill=\"#000000\" font-family=\"sans-serif\" font-size=\"11\" lengthAdjust=\"spacingAndGlyphs\" textLength=\"55\" x=\"194.5\" y=\"203.6479\">attributes</text><line style=\"stroke: #383838; stroke-width: 1.0;\" x1=\"249.5\" x2=\"254\" y1=\"200.3398\" y2=\"200.3398\"/></a><!--MD5=[ebbe1d658d1005bcc118a6aa81145e00]\n",
       "class E4--><a href=\"psysml:9dcf2186-613a-4b96-912f-a1b95f354387\" target=\"_top\" title=\"psysml:9dcf2186-613a-4b96-912f-a1b95f354387\" xlink:actuate=\"onRequest\" xlink:href=\"psysml:9dcf2186-613a-4b96-912f-a1b95f354387\" xlink:show=\"new\" xlink:title=\"psysml:9dcf2186-613a-4b96-912f-a1b95f354387\" xlink:type=\"simple\"><rect fill=\"#FFFFFF\" height=\"45.9375\" id=\"E4\" rx=\"10\" ry=\"10\" style=\"stroke: #383838; stroke-width: 1.5;\" width=\"42\" x=\"323\" y=\"373\"/><text fill=\"#000000\" font-family=\"sans-serif\" font-size=\"12\" font-style=\"italic\" lengthAdjust=\"spacingAndGlyphs\" textLength=\"40\" x=\"324\" y=\"389.1387\">«part»</text><text fill=\"#000000\" font-family=\"sans-serif\" font-size=\"12\" lengthAdjust=\"spacingAndGlyphs\" textLength=\"24\" x=\"332\" y=\"403.1074\">b: B</text><line style=\"stroke: #383838; stroke-width: 1.5;\" x1=\"324\" x2=\"364\" y1=\"410.9375\" y2=\"410.9375\"/></a><!--MD5=[270fce915f116d4de14055a7c1d9a0f3]\n",
       "class E5--><a href=\"psysml:a3147892-19dd-4d4c-8f64-71e53da800dc\" target=\"_top\" title=\"psysml:a3147892-19dd-4d4c-8f64-71e53da800dc\" xlink:actuate=\"onRequest\" xlink:href=\"psysml:a3147892-19dd-4d4c-8f64-71e53da800dc\" xlink:show=\"new\" xlink:title=\"psysml:a3147892-19dd-4d4c-8f64-71e53da800dc\" xlink:type=\"simple\"><rect fill=\"#FFFFFF\" height=\"45.9375\" id=\"E5\" rx=\"10\" ry=\"10\" style=\"stroke: #383838; stroke-width: 1.5;\" width=\"42\" x=\"306\" y=\"297\"/><text fill=\"#000000\" font-family=\"sans-serif\" font-size=\"12\" font-style=\"italic\" lengthAdjust=\"spacingAndGlyphs\" textLength=\"40\" x=\"307\" y=\"313.1387\">«port»</text><text fill=\"#000000\" font-family=\"sans-serif\" font-size=\"12\" lengthAdjust=\"spacingAndGlyphs\" textLength=\"23\" x=\"315.5\" y=\"327.1074\">c: C</text><line style=\"stroke: #383838; stroke-width: 1.5;\" x1=\"307\" x2=\"347\" y1=\"334.9375\" y2=\"334.9375\"/></a><!--MD5=[60a26617385b1d2d0262a64233df1f8d]\n",
       "class E6--><a href=\"psysml:bbb3af71-bfb9-47e2-863f-33482c8ff081\" target=\"_top\" title=\"psysml:bbb3af71-bfb9-47e2-863f-33482c8ff081\" xlink:actuate=\"onRequest\" xlink:href=\"psysml:bbb3af71-bfb9-47e2-863f-33482c8ff081\" xlink:show=\"new\" xlink:title=\"psysml:bbb3af71-bfb9-47e2-863f-33482c8ff081\" xlink:type=\"simple\"><rect fill=\"#FFFFFF\" height=\"45.9375\" id=\"E6\" style=\"stroke: #383838; stroke-width: 1.5;\" width=\"66\" x=\"163\" y=\"572\"/><text fill=\"#000000\" font-family=\"sans-serif\" font-size=\"12\" font-style=\"italic\" lengthAdjust=\"spacingAndGlyphs\" textLength=\"64\" x=\"164\" y=\"588.1387\">«part def»</text><text fill=\"#000000\" font-family=\"sans-serif\" font-size=\"12\" lengthAdjust=\"spacingAndGlyphs\" textLength=\"8\" x=\"192\" y=\"602.1074\">B</text><line style=\"stroke: #383838; stroke-width: 1.5;\" x1=\"164\" x2=\"228\" y1=\"609.9375\" y2=\"609.9375\"/></a><!--MD5=[2156ba9850f5573cc1fc38a6a4b2f02b]\n",
       "class E7--><a href=\"psysml:c128dc79-fecf-4cdb-b1ba-5850a9b121ec\" target=\"_top\" title=\"psysml:c128dc79-fecf-4cdb-b1ba-5850a9b121ec\" xlink:actuate=\"onRequest\" xlink:href=\"psysml:c128dc79-fecf-4cdb-b1ba-5850a9b121ec\" xlink:show=\"new\" xlink:title=\"psysml:c128dc79-fecf-4cdb-b1ba-5850a9b121ec\" xlink:type=\"simple\"><rect fill=\"#FFFFFF\" height=\"45.9375\" id=\"E7\" rx=\"10\" ry=\"10\" style=\"stroke: #383838; stroke-width: 1.5;\" width=\"42\" x=\"58\" y=\"682.5\"/><text fill=\"#000000\" font-family=\"sans-serif\" font-size=\"12\" font-style=\"italic\" lengthAdjust=\"spacingAndGlyphs\" textLength=\"40\" x=\"59\" y=\"698.6387\">«part»</text><text fill=\"#000000\" font-family=\"sans-serif\" font-size=\"12\" lengthAdjust=\"spacingAndGlyphs\" textLength=\"24\" x=\"67\" y=\"712.6074\">a: A</text><line style=\"stroke: #383838; stroke-width: 1.5;\" x1=\"59\" x2=\"99\" y1=\"720.4375\" y2=\"720.4375\"/></a><!--MD5=[b9389687b975829384b498ac4b7476b2]\n",
       "class E8--><a href=\"psysml:540f6402-e62e-4ea3-b051-5d5cf5bfcb38\" target=\"_top\" title=\"psysml:540f6402-e62e-4ea3-b051-5d5cf5bfcb38\" xlink:actuate=\"onRequest\" xlink:href=\"psysml:540f6402-e62e-4ea3-b051-5d5cf5bfcb38\" xlink:show=\"new\" xlink:title=\"psysml:540f6402-e62e-4ea3-b051-5d5cf5bfcb38\" xlink:type=\"simple\"><rect fill=\"#FFFFFF\" height=\"45.9375\" id=\"E8\" rx=\"10\" ry=\"10\" style=\"stroke: #383838; stroke-width: 1.5;\" width=\"42\" x=\"213\" y=\"682.5\"/><text fill=\"#000000\" font-family=\"sans-serif\" font-size=\"12\" font-style=\"italic\" lengthAdjust=\"spacingAndGlyphs\" textLength=\"40\" x=\"214\" y=\"698.6387\">«port»</text><text fill=\"#000000\" font-family=\"sans-serif\" font-size=\"12\" lengthAdjust=\"spacingAndGlyphs\" textLength=\"32\" x=\"218\" y=\"712.6074\">x: ~C</text><line style=\"stroke: #383838; stroke-width: 1.5;\" x1=\"214\" x2=\"254\" y1=\"720.4375\" y2=\"720.4375\"/></a><!--MD5=[96f4274e9e20536e775497830990834d]\n",
       "class E10--><a href=\"psysml:a92372c2-fe41-425f-b40c-da5b8c1ca15d\" target=\"_top\" title=\"psysml:a92372c2-fe41-425f-b40c-da5b8c1ca15d\" xlink:actuate=\"onRequest\" xlink:href=\"psysml:a92372c2-fe41-425f-b40c-da5b8c1ca15d\" xlink:show=\"new\" xlink:title=\"psysml:a92372c2-fe41-425f-b40c-da5b8c1ca15d\" xlink:type=\"simple\"><rect fill=\"#FFFFFF\" height=\"45.9375\" id=\"E10\" style=\"stroke: #383838; stroke-width: 1.5;\" width=\"66\" x=\"163\" y=\"449\"/><text fill=\"#000000\" font-family=\"sans-serif\" font-size=\"12\" font-style=\"italic\" lengthAdjust=\"spacingAndGlyphs\" textLength=\"64\" x=\"164\" y=\"465.1387\">«port def»</text><text fill=\"#000000\" font-family=\"sans-serif\" font-size=\"12\" lengthAdjust=\"spacingAndGlyphs\" textLength=\"8\" x=\"192\" y=\"479.1074\">C</text><line style=\"stroke: #383838; stroke-width: 1.5;\" x1=\"164\" x2=\"228\" y1=\"486.9375\" y2=\"486.9375\"/></a><a href=\"psysml:f4e4ee2b-1abf-4dbd-8483-2b091bdfceaf\" target=\"_top\" title=\"psysml:f4e4ee2b-1abf-4dbd-8483-2b091bdfceaf\" xlink:actuate=\"onRequest\" xlink:href=\"psysml:f4e4ee2b-1abf-4dbd-8483-2b091bdfceaf\" xlink:show=\"new\" xlink:title=\"psysml:f4e4ee2b-1abf-4dbd-8483-2b091bdfceaf\" xlink:type=\"simple\"><polygon fill=\"#FFFFFF\" points=\"148.5,679,163.5,679,170.5,701.2969,177.5,701.2969,177.5,731.5938,148.5,731.5938,148.5,679\" style=\"stroke: #000000; stroke-width: 1.5;\"/><line style=\"stroke: #000000; stroke-width: 1.5;\" x1=\"148.5\" x2=\"170.5\" y1=\"701.2969\" y2=\"701.2969\"/><text fill=\"#000000\" font-family=\"sans-serif\" font-size=\"14\" font-weight=\"bold\" lengthAdjust=\"spacingAndGlyphs\" textLength=\"9\" x=\"152.5\" y=\"693.9951\">P</text></a><!--MD5=[2720a5a1f2c3fca2055b230370638851]\n",
       "link E2 to E3--><a href=\"psysml:488f6ee0-39a9-4dc0-b555-612cc99c37a1\" target=\"_top\" title=\"psysml:488f6ee0-39a9-4dc0-b555-612cc99c37a1\" xlink:actuate=\"onRequest\" xlink:href=\"psysml:488f6ee0-39a9-4dc0-b555-612cc99c37a1\" xlink:show=\"new\" xlink:title=\"psysml:488f6ee0-39a9-4dc0-b555-612cc99c37a1\" xlink:type=\"simple\"><path d=\"M222,87.24 C222,98.62 222,113.11 222,127.62 \" fill=\"none\" id=\"E2-&gt;E3\" style=\"stroke: #383838; stroke-width: 1.0;\"/><polygon fill=\"#FFFFFF\" points=\"222,147.84,215,128.84,229,128.84,222,147.84\" style=\"stroke: #383838; stroke-width: 1.0;\"/><ellipse cx=\"217\" cy=\"123.14\" fill=\"#383838\" rx=\"2\" ry=\"2\" style=\"stroke: #383838; stroke-width: 1.0;\"/><ellipse cx=\"227\" cy=\"123.14\" fill=\"#383838\" rx=\"2\" ry=\"2\" style=\"stroke: #383838; stroke-width: 1.0;\"/></a><!--MD5=[4672eba38e49728da53d11aeb285b987]\n",
       "reverse link E3 to E4--><a href=\"psysml:98712745-a638-4d1f-8ffc-380c342569c9\" target=\"_top\" title=\"psysml:98712745-a638-4d1f-8ffc-380c342569c9\" xlink:actuate=\"onRequest\" xlink:href=\"psysml:98712745-a638-4d1f-8ffc-380c342569c9\" xlink:show=\"new\" xlink:title=\"psysml:98712745-a638-4d1f-8ffc-380c342569c9\" xlink:type=\"simple\"><path d=\"M267.21,211.72 C301.24,228.53 345.43,256.77 366,297 C378.38,321.22 367.51,352.31 357.12,372.91 \" fill=\"none\" id=\"E3&lt;-E4\" style=\"stroke: #383838; stroke-width: 1.0;\"/><polygon fill=\"#383838\" points=\"255.19,206.05,258.9023,212.2321,266.0367,211.1831,262.3244,205.001,255.19,206.05\" style=\"stroke: #383838; stroke-width: 1.0;\"/><text fill=\"#000000\" font-family=\"sans-serif\" font-size=\"13\" lengthAdjust=\"spacingAndGlyphs\" textLength=\"8\" x=\"352.5085\" y=\"363.0064\">1</text></a><!--MD5=[191cde3d490a3f6d7bb551fe3ddca469]\n",
       "reverse link E3 to E5--><a href=\"psysml:3d3c789c-d512-4565-8d7c-059f8d1010f8\" target=\"_top\" title=\"psysml:3d3c789c-d512-4565-8d7c-059f8d1010f8\" xlink:actuate=\"onRequest\" xlink:href=\"psysml:3d3c789c-d512-4565-8d7c-059f8d1010f8\" xlink:show=\"new\" xlink:title=\"psysml:3d3c789c-d512-4565-8d7c-059f8d1010f8\" xlink:type=\"simple\"><path d=\"M263.71,243.06 C279.31,261.77 296.23,282.08 308.65,296.98 \" fill=\"none\" id=\"E3&lt;-E5\" style=\"stroke: #383838; stroke-width: 1.0;\"/><polygon fill=\"#FFFFFF\" points=\"255.22,232.87,255.9912,240.0397,262.9061,242.0854,262.1349,234.9157,255.22,232.87\" style=\"stroke: #383838; stroke-width: 1.0;\"/><text fill=\"#000000\" font-family=\"sans-serif\" font-size=\"13\" lengthAdjust=\"spacingAndGlyphs\" textLength=\"8\" x=\"294.6434\" y=\"285.8709\">1</text></a><!--MD5=[79568f1e445c3877b6a54524624ccc7d]\n",
       "link E4 to E6--><a href=\"psysml:1225703b-924d-44f0-aa92-4bca49ced0c9\" target=\"_top\" title=\"psysml:1225703b-924d-44f0-aa92-4bca49ced0c9\" xlink:actuate=\"onRequest\" xlink:href=\"psysml:1225703b-924d-44f0-aa92-4bca49ced0c9\" xlink:show=\"new\" xlink:title=\"psysml:1225703b-924d-44f0-aa92-4bca49ced0c9\" xlink:type=\"simple\"><path d=\"M327.31,419.22 C302.43,452.34 255.27,515.1 224.76,555.71 \" fill=\"none\" id=\"E4-&gt;E6\" style=\"stroke: #383838; stroke-width: 1.0;\"/><polygon fill=\"#FFFFFF\" points=\"212.63,571.87,218.4494,552.4758,229.641,560.887,212.63,571.87\" style=\"stroke: #383838; stroke-width: 1.0;\"/><ellipse cx=\"223.4728\" cy=\"549.1208\" fill=\"#383838\" rx=\"2\" ry=\"2\" style=\"stroke: #383838; stroke-width: 1.0;\"/><ellipse cx=\"231.4668\" cy=\"555.1288\" fill=\"#383838\" rx=\"2\" ry=\"2\" style=\"stroke: #383838; stroke-width: 1.0;\"/></a><!--MD5=[3f50a3473f1dfb74d3f76443e03635af]\n",
       "reverse link E6 to E7--><a href=\"psysml:a81e6d2d-a633-4d51-820c-a47602c519dd\" target=\"_top\" title=\"psysml:a81e6d2d-a633-4d51-820c-a47602c519dd\" xlink:actuate=\"onRequest\" xlink:href=\"psysml:a81e6d2d-a633-4d51-820c-a47602c519dd\" xlink:show=\"new\" xlink:title=\"psysml:a81e6d2d-a633-4d51-820c-a47602c519dd\" xlink:type=\"simple\"><path d=\"M162.35,627.2 C142.32,645.78 117.5,668.8 100.18,684.86 \" fill=\"none\" id=\"E6&lt;-E7\" style=\"stroke: #383838; stroke-width: 1.0;\"/><polygon fill=\"#383838\" points=\"172.04,618.22,164.9211,619.3695,163.2441,626.3829,170.363,625.2334,172.04,618.22\" style=\"stroke: #383838; stroke-width: 1.0;\"/><text fill=\"#000000\" font-family=\"sans-serif\" font-size=\"13\" lengthAdjust=\"spacingAndGlyphs\" textLength=\"8\" x=\"107.8914\" y=\"673.3389\">1</text></a><!--MD5=[14ccda38c055a5c0da953d572bc50960]\n",
       "link E7 to E3--><a href=\"psysml:4883cacd-6695-4e4a-8cc2-3609b81ec9a9\" target=\"_top\" title=\"psysml:4883cacd-6695-4e4a-8cc2-3609b81ec9a9\" xlink:actuate=\"onRequest\" xlink:href=\"psysml:4883cacd-6695-4e4a-8cc2-3609b81ec9a9\" xlink:show=\"new\" xlink:title=\"psysml:4883cacd-6695-4e4a-8cc2-3609b81ec9a9\" xlink:type=\"simple\"><path d=\"M63.43,682.38 C50.08,661.23 33,627.92 33,596 C33,319 33,319 33,319 C33,253.29 113.07,219.74 168.98,204.32 \" fill=\"none\" id=\"E7-&gt;E3\" style=\"stroke: #383838; stroke-width: 1.0;\"/><polygon fill=\"#FFFFFF\" points=\"188.65,199.35,171.9427,210.7897,168.5143,197.216,188.65,199.35\" style=\"stroke: #383838; stroke-width: 1.0;\"/><ellipse cx=\"165.9265\" cy=\"210.2465\" fill=\"#383838\" rx=\"2\" ry=\"2\" style=\"stroke: #383838; stroke-width: 1.0;\"/><ellipse cx=\"163.4776\" cy=\"200.5509\" fill=\"#383838\" rx=\"2\" ry=\"2\" style=\"stroke: #383838; stroke-width: 1.0;\"/></a><!--MD5=[f4cf0736d43fd73c4ef68817c49d37d5]\n",
       "reverse link E6 to E8--><a href=\"psysml:2d844c43-a52c-43bf-b052-a300acb2bf74\" target=\"_top\" title=\"psysml:2d844c43-a52c-43bf-b052-a300acb2bf74\" xlink:actuate=\"onRequest\" xlink:href=\"psysml:2d844c43-a52c-43bf-b052-a300acb2bf74\" xlink:show=\"new\" xlink:title=\"psysml:2d844c43-a52c-43bf-b052-a300acb2bf74\" xlink:type=\"simple\"><path d=\"M208.25,630.98 C214.15,647.83 221.06,667.54 226.23,682.31 \" fill=\"none\" id=\"E6&lt;-E8\" style=\"stroke: #383838; stroke-width: 1.0;\"/><polygon fill=\"#FFFFFF\" points=\"203.78,618.22,201.9892,625.2052,207.7483,629.5449,209.5391,622.5597,203.78,618.22\" style=\"stroke: #383838; stroke-width: 1.0;\"/><text fill=\"#000000\" font-family=\"sans-serif\" font-size=\"13\" lengthAdjust=\"spacingAndGlyphs\" textLength=\"8\" x=\"215.2139\" y=\"671.5376\">1</text></a><!--MD5=[e88d06e5a652d73a6b19930eefe025a8]\n",
       "reverse link E6 to E9--><a href=\"psysml:5153bd7e-9106-496d-98a6-0d3fae0d20a5\" target=\"_top\" title=\"psysml:5153bd7e-9106-496d-98a6-0d3fae0d20a5\" xlink:actuate=\"onRequest\" xlink:href=\"psysml:5153bd7e-9106-496d-98a6-0d3fae0d20a5\" xlink:show=\"new\" xlink:title=\"psysml:5153bd7e-9106-496d-98a6-0d3fae0d20a5\" xlink:type=\"simple\"><path d=\"M184.74,633.01 C180.15,648.11 174.95,665.2 170.79,678.88 \" fill=\"none\" id=\"E6&lt;-E9\" style=\"stroke: #383838; stroke-width: 1.0;\"/><ellipse cx=\"186.9098\" cy=\"625.8731\" fill=\"#FFFFFF\" rx=\"8\" ry=\"8\" style=\"stroke: #383838; stroke-width: 1.0;\"/><line style=\"stroke: #383838; stroke-width: 1.0;\" x1=\"184.5796\" x2=\"189.24\" y1=\"633.5262\" y2=\"618.22\"/><line style=\"stroke: #383838; stroke-width: 1.0;\" x1=\"179.2567\" x2=\"194.5629\" y1=\"623.5429\" y2=\"628.2033\"/></a><!--MD5=[f78a29d5932556fa1060671a2a6507d8]\n",
       "link E5 to E10--><a href=\"psysml:63374559-c2a0-4cf8-92a3-b39a3ed3eac1\" target=\"_top\" title=\"psysml:63374559-c2a0-4cf8-92a3-b39a3ed3eac1\" xlink:actuate=\"onRequest\" xlink:href=\"psysml:63374559-c2a0-4cf8-92a3-b39a3ed3eac1\" xlink:show=\"new\" xlink:title=\"psysml:63374559-c2a0-4cf8-92a3-b39a3ed3eac1\" xlink:type=\"simple\"><path d=\"M317.86,343.05 C308.35,364.19 291.92,396.17 271,419 C263.6,427.07 254.73,434.58 245.72,441.23 \" fill=\"none\" id=\"E5-&gt;E10\" style=\"stroke: #383838; stroke-width: 1.0;\"/><polygon fill=\"#FFFFFF\" points=\"229.11,452.57,240.857,436.0773,248.7493,447.6407,229.11,452.57\" style=\"stroke: #383838; stroke-width: 1.0;\"/><ellipse cx=\"246.6924\" cy=\"434.5159\" fill=\"#383838\" rx=\"2\" ry=\"2\" style=\"stroke: #383838; stroke-width: 1.0;\"/><ellipse cx=\"252.3298\" cy=\"442.7755\" fill=\"#383838\" rx=\"2\" ry=\"2\" style=\"stroke: #383838; stroke-width: 1.0;\"/></a><!--MD5=[8e04057e7b3cbc0dca4fc78ea351e2da]\n",
       "reverse link E10 to E3--><a href=\"psysml:e24d69b8-a494-4022-9892-35ed42c85155\" target=\"_top\" title=\"psysml:e24d69b8-a494-4022-9892-35ed42c85155\" xlink:actuate=\"onRequest\" xlink:href=\"psysml:e24d69b8-a494-4022-9892-35ed42c85155\" xlink:show=\"new\" xlink:title=\"psysml:e24d69b8-a494-4022-9892-35ed42c85155\" xlink:type=\"simple\"><path d=\"M169.12,438.19 C143.87,403.2 112.53,346.17 131,297 C142.56,266.23 167.81,238.61 188.79,219.58 \" fill=\"none\" id=\"E10&lt;-E3\" style=\"stroke: #383838; stroke-width: 1.0;\"/><polygon fill=\"#FFFFFF\" points=\"177.03,448.74,176.63,441.54,169.83,439.14,170.23,446.34,177.03,448.74\" style=\"stroke: #383838; stroke-width: 1.0;\"/><text fill=\"#000000\" font-family=\"sans-serif\" font-size=\"13\" lengthAdjust=\"spacingAndGlyphs\" textLength=\"7\" x=\"132\" y=\"324.5669\">y</text></a><!--MD5=[8e04057e7b3cbc0dca4fc78ea351e2da]\n",
       "reverse link E10 to E3--><a href=\"psysml:e24d69b8-a494-4022-9892-35ed42c85155\" target=\"_top\" title=\"psysml:e24d69b8-a494-4022-9892-35ed42c85155\" xlink:actuate=\"onRequest\" xlink:href=\"psysml:e24d69b8-a494-4022-9892-35ed42c85155\" xlink:show=\"new\" xlink:title=\"psysml:e24d69b8-a494-4022-9892-35ed42c85155\" xlink:type=\"simple\"><path d=\"M198.5,435.41 C201.06,400.21 205.32,344.85 210,297 C211.96,277.01 214.46,254.9 216.67,236.23 \" fill=\"none\" id=\"E10&lt;-E3-1\" style=\"stroke: #383838; stroke-width: 1.0;\"/><polygon fill=\"#FFFFFF\" points=\"197.54,448.73,201.9587,443.0313,198.3978,436.7607,193.9791,442.4594,197.54,448.73\" style=\"stroke: #383838; stroke-width: 1.0;\"/><text fill=\"#000000\" font-family=\"sans-serif\" font-size=\"13\" lengthAdjust=\"spacingAndGlyphs\" textLength=\"7\" x=\"211\" y=\"324.5669\">y</text></a><!--MD5=[8e04057e7b3cbc0dca4fc78ea351e2da]\n",
       "reverse link E10 to E3--><a href=\"psysml:e24d69b8-a494-4022-9892-35ed42c85155\" target=\"_top\" title=\"psysml:e24d69b8-a494-4022-9892-35ed42c85155\" xlink:actuate=\"onRequest\" xlink:href=\"psysml:e24d69b8-a494-4022-9892-35ed42c85155\" xlink:show=\"new\" xlink:title=\"psysml:e24d69b8-a494-4022-9892-35ed42c85155\" xlink:type=\"simple\"><path d=\"M205.88,436.08 C207.35,430.39 208.78,424.55 210,419 C217.35,385.53 220.1,377.15 223,343 C224.73,322.63 223.1,317.44 223,297 C222.9,276.96 222.7,254.74 222.51,236.01 \" fill=\"none\" id=\"E10&lt;-E3-2\" style=\"stroke: #383838; stroke-width: 1.0;\"/><polygon fill=\"#FFFFFF\" points=\"202.46,448.84,207.879,444.0824,205.5716,437.2504,200.1526,442.008,202.46,448.84\" style=\"stroke: #383838; stroke-width: 1.0;\"/><text fill=\"#000000\" font-family=\"sans-serif\" font-size=\"13\" lengthAdjust=\"spacingAndGlyphs\" textLength=\"7\" x=\"224\" y=\"324.5669\">y</text></a><!--MD5=[604cbf994c02b74b117f728a71673cea]\n",
       "reverse link E10 to E6--><a href=\"psysml:e24d69b8-a494-4022-9892-35ed42c85155\" target=\"_top\" title=\"psysml:e24d69b8-a494-4022-9892-35ed42c85155\" xlink:actuate=\"onRequest\" xlink:href=\"psysml:e24d69b8-a494-4022-9892-35ed42c85155\" xlink:show=\"new\" xlink:title=\"psysml:e24d69b8-a494-4022-9892-35ed42c85155\" xlink:type=\"simple\"><path d=\"M204.39,508.23 C206.07,519.04 207.05,530.99 206,542 C205.06,551.88 203.13,562.68 201.22,571.87 \" fill=\"none\" id=\"E10&lt;-E6\" style=\"stroke: #383838; stroke-width: 1.0;\"/><polygon fill=\"#FFFFFF\" points=\"201.97,495.31,199.1398,501.9425,204.1735,507.106,207.0037,500.4735,201.97,495.31\" style=\"stroke: #383838; stroke-width: 1.0;\"/><text fill=\"#000000\" font-family=\"sans-serif\" font-size=\"13\" lengthAdjust=\"spacingAndGlyphs\" textLength=\"7\" x=\"207\" y=\"538.0669\">y</text></a><!--MD5=[604cbf994c02b74b117f728a71673cea]\n",
       "reverse link E10 to E6--><a href=\"psysml:e24d69b8-a494-4022-9892-35ed42c85155\" target=\"_top\" title=\"psysml:e24d69b8-a494-4022-9892-35ed42c85155\" xlink:actuate=\"onRequest\" xlink:href=\"psysml:e24d69b8-a494-4022-9892-35ed42c85155\" xlink:show=\"new\" xlink:title=\"psysml:e24d69b8-a494-4022-9892-35ed42c85155\" xlink:type=\"simple\"><path d=\"M160.04,504.87 C155.13,511.03 150.81,517.82 148,525 C141.3,542.12 152.83,559.11 166.26,571.94 \" fill=\"none\" id=\"E10&lt;-E6-1\" style=\"stroke: #383838; stroke-width: 1.0;\"/><polygon fill=\"#FFFFFF\" points=\"168.73,495.16,161.7505,496.973,160.7396,504.1129,167.7191,502.2999,168.73,495.16\" style=\"stroke: #383838; stroke-width: 1.0;\"/><text fill=\"#000000\" font-family=\"sans-serif\" font-size=\"13\" lengthAdjust=\"spacingAndGlyphs\" textLength=\"7\" x=\"149\" y=\"538.0669\">y</text></a><!--MD5=[604cbf994c02b74b117f728a71673cea]\n",
       "reverse link E10 to E6--><a href=\"psysml:e24d69b8-a494-4022-9892-35ed42c85155\" target=\"_top\" title=\"psysml:e24d69b8-a494-4022-9892-35ed42c85155\" xlink:actuate=\"onRequest\" xlink:href=\"psysml:e24d69b8-a494-4022-9892-35ed42c85155\" xlink:show=\"new\" xlink:title=\"psysml:e24d69b8-a494-4022-9892-35ed42c85155\" xlink:type=\"simple\"><path d=\"M196,508.22 C196,528.81 196,554.16 196,571.95 \" fill=\"none\" id=\"E10&lt;-E6-2\" style=\"stroke: #383838; stroke-width: 1.0;\"/><polygon fill=\"#FFFFFF\" points=\"196,495.19,192,501.19,196,507.19,200,501.19,196,495.19\" style=\"stroke: #383838; stroke-width: 1.0;\"/><text fill=\"#000000\" font-family=\"sans-serif\" font-size=\"13\" lengthAdjust=\"spacingAndGlyphs\" textLength=\"7\" x=\"197\" y=\"538.0669\">y</text></a><!--MD5=[5459d6c90ab50344b4b8fa4ce14b2ab4]\n",
       "@startuml\r\n",
       "skinparam monochrome true\r\n",
       "skinparam classbackgroundcolor white\r\n",
       "skinparam shadowing false\r\n",
       "skinparam wrapWidth 300\r\n",
       "hide circle\r\n",
       "\r\n",
       "package \"PartTest\" as E1  [[psysml:a6b62677-d27b-4bf3-83e0-375e3ba01a4b ]]  {\r\n",
       "comp usage \"f: A\" as E2  <<(T,blue) part>> [[psysml:fef66b5f-1b9d-421e-94fe-86858427a029 ]] {\r\n",
       "}\r\n",
       "comp def \"A\" as E3  <<(T,blue) part def>> [[psysml:a2cad1be-c52d-4964-a87e-891cd7289f52 ]] {\r\n",
       "- - attributes - -\r\n",
       "x\r\n",
       "y\r\n",
       "}\r\n",
       "comp usage \"b: B\" as E4  <<(T,blue) part>> [[psysml:9dcf2186-613a-4b96-912f-a1b95f354387 ]] {\r\n",
       "}\r\n",
       "comp usage \"c: C\" as E5  <<(T,blue) port>> [[psysml:a3147892-19dd-4d4c-8f64-71e53da800dc ]] {\r\n",
       "}\r\n",
       "comp def \"B\" as E6  <<(T,blue) part def>> [[psysml:bbb3af71-bfb9-47e2-863f-33482c8ff081 ]] {\r\n",
       "}\r\n",
       "comp usage \"a: A\" as E7  <<(T,blue) part>> [[psysml:c128dc79-fecf-4cdb-b1ba-5850a9b121ec ]] {\r\n",
       "}\r\n",
       "comp usage \"x: ~C\" as E8  <<(T,blue) port>> [[psysml:540f6402-e62e-4ea3-b051-5d5cf5bfcb38 ]] {\r\n",
       "}\r\n",
       "package \"P\" as E9  [[psysml:f4e4ee2b-1abf-4dbd-8483-2b091bdfceaf ]]  {\r\n",
       "}\r\n",
       "comp def \"C\" as E10  <<(T,blue) port def>> [[psysml:a92372c2-fe41-425f-b40c-da5b8c1ca15d ]] {\r\n",
       "}\r\n",
       "}\r\n",
       "E2 - -:|> E3 [[psysml:488f6ee0-39a9-4dc0-b555-612cc99c37a1 ]] \r\n",
       "E3 *- - \"1\"E4 [[psysml:98712745-a638-4d1f-8ffc-380c342569c9 ]] \r\n",
       "E3 o- - \"1\"E5 [[psysml:3d3c789c-d512-4565-8d7c-059f8d1010f8 ]] \r\n",
       "E4 - -:|> E6 [[psysml:1225703b-924d-44f0-aa92-4bca49ced0c9 ]] \r\n",
       "E6 *- - \"1\"E7 [[psysml:a81e6d2d-a633-4d51-820c-a47602c519dd ]] \r\n",
       "E7 - -:|> E3 [[psysml:4883cacd-6695-4e4a-8cc2-3609b81ec9a9 ]] \r\n",
       "E6 o- - \"1\"E8 [[psysml:2d844c43-a52c-43bf-b052-a300acb2bf74 ]] \r\n",
       "E6 +- - E9 [[psysml:5153bd7e-9106-496d-98a6-0d3fae0d20a5 ]] \r\n",
       "E5 - -:|> E10 [[psysml:63374559-c2a0-4cf8-92a3-b39a3ed3eac1 ]] \r\n",
       "E10 o- - E3 [[psysml:e24d69b8-a494-4022-9892-35ed42c85155 ]] : y\r\n",
       "E10 o- - E6 [[psysml:e24d69b8-a494-4022-9892-35ed42c85155 ]] : y\r\n",
       "E10 o- - E3 [[psysml:e24d69b8-a494-4022-9892-35ed42c85155 ]] : y\r\n",
       "E10 o- - E6 [[psysml:e24d69b8-a494-4022-9892-35ed42c85155 ]] : y\r\n",
       "E10 o- - E3 [[psysml:e24d69b8-a494-4022-9892-35ed42c85155 ]] : y\r\n",
       "E10 o- - E6 [[psysml:e24d69b8-a494-4022-9892-35ed42c85155 ]] : y\r\n",
       "@enduml\r\n",
       "\n",
       "PlantUML version 1.2020.13(Sat Jun 13 12:26:38 UTC 2020)\n",
       "(EPL source distribution)\n",
       "Java Runtime: OpenJDK Runtime Environment\n",
       "JVM: OpenJDK 64-Bit Server VM\n",
       "Default Encoding: UTF-8\n",
       "Language: en\n",
       "Country: null\n",
       "--></g></svg>"
      ]
     },
     "execution_count": 37,
     "metadata": {},
     "output_type": "execute_result"
    }
   ],
   "source": [
    "%viz --style=\"DEFAULT\" --view=\"Default\" \"PartTest\""
   ]
  },
  {
   "cell_type": "code",
   "execution_count": 38,
   "id": "d4fde192",
   "metadata": {
    "execution": {
     "iopub.execute_input": "2021-10-03T08:29:54.909929Z",
     "iopub.status.busy": "2021-10-03T08:29:54.909517Z",
     "iopub.status.idle": "2021-10-03T08:29:54.966283Z",
     "shell.execute_reply": "2021-10-03T08:29:54.965914Z"
    }
   },
   "outputs": [
    {
     "data": {
      "image/svg+xml": [
       "<?xml version=\"1.0\" encoding=\"UTF-8\" standalone=\"no\"?><svg xmlns=\"http://www.w3.org/2000/svg\" xmlns:xlink=\"http://www.w3.org/1999/xlink\" contentScriptType=\"application/ecmascript\" contentStyleType=\"text/css\" height=\"760px\" preserveAspectRatio=\"none\" style=\"width:423px;height:760px;\" version=\"1.1\" viewBox=\"0 0 423 760\" width=\"423px\" zoomAndPan=\"magnify\"><defs/><g><!--MD5=[fbc87193dbaf4d95561dea2c320d4a47]\n",
       "cluster E1--><a href=\"psysml:a6b62677-d27b-4bf3-83e0-375e3ba01a4b\" target=\"_top\" title=\"psysml:a6b62677-d27b-4bf3-83e0-375e3ba01a4b\" xlink:actuate=\"onRequest\" xlink:href=\"psysml:a6b62677-d27b-4bf3-83e0-375e3ba01a4b\" xlink:show=\"new\" xlink:title=\"psysml:a6b62677-d27b-4bf3-83e0-375e3ba01a4b\" xlink:type=\"simple\"><polygon fill=\"#FFFFFF\" points=\"16,6,80,6,87,28.2969,401,28.2969,401,748,16,748,16,6\" style=\"stroke: #000000; stroke-width: 1.5;\"/><line style=\"stroke: #000000; stroke-width: 1.5;\" x1=\"16\" x2=\"87\" y1=\"28.2969\" y2=\"28.2969\"/><text fill=\"#000000\" font-family=\"sans-serif\" font-size=\"14\" font-weight=\"bold\" lengthAdjust=\"spacingAndGlyphs\" textLength=\"58\" x=\"20\" y=\"20.9951\">PartTest</text></a><!--MD5=[b4997ac47864f28c2f74865a473b2911]\n",
       "class E2--><a href=\"psysml:fef66b5f-1b9d-421e-94fe-86858427a029\" target=\"_top\" title=\"psysml:fef66b5f-1b9d-421e-94fe-86858427a029\" xlink:actuate=\"onRequest\" xlink:href=\"psysml:fef66b5f-1b9d-421e-94fe-86858427a029\" xlink:show=\"new\" xlink:title=\"psysml:fef66b5f-1b9d-421e-94fe-86858427a029\" xlink:type=\"simple\"><rect fill=\"#FFFFFF\" height=\"45.9375\" id=\"E2\" rx=\"10\" ry=\"10\" style=\"stroke: #383838; stroke-width: 1.5;\" width=\"42\" x=\"201\" y=\"41\"/><text fill=\"#000000\" font-family=\"sans-serif\" font-size=\"12\" font-style=\"italic\" lengthAdjust=\"spacingAndGlyphs\" textLength=\"40\" x=\"202\" y=\"57.1387\">«part»</text><text fill=\"#000000\" font-family=\"sans-serif\" font-size=\"12\" lengthAdjust=\"spacingAndGlyphs\" textLength=\"20\" x=\"212\" y=\"71.1074\">f: A</text><line style=\"stroke: #383838; stroke-width: 1.5;\" x1=\"202\" x2=\"242\" y1=\"78.9375\" y2=\"78.9375\"/></a><!--MD5=[09b614a08d8cba4a07c9adeb5e0fee81]\n",
       "class E3--><a href=\"psysml:a2cad1be-c52d-4964-a87e-891cd7289f52\" target=\"_top\" title=\"psysml:a2cad1be-c52d-4964-a87e-891cd7289f52\" xlink:actuate=\"onRequest\" xlink:href=\"psysml:a2cad1be-c52d-4964-a87e-891cd7289f52\" xlink:show=\"new\" xlink:title=\"psysml:a2cad1be-c52d-4964-a87e-891cd7289f52\" xlink:type=\"simple\"><rect fill=\"#FFFFFF\" height=\"88.3516\" id=\"E3\" style=\"stroke: #383838; stroke-width: 1.5;\" width=\"66\" x=\"189\" y=\"148\"/><text fill=\"#000000\" font-family=\"sans-serif\" font-size=\"12\" font-style=\"italic\" lengthAdjust=\"spacingAndGlyphs\" textLength=\"64\" x=\"190\" y=\"164.1387\">«part def»</text><text fill=\"#000000\" font-family=\"sans-serif\" font-size=\"12\" lengthAdjust=\"spacingAndGlyphs\" textLength=\"8\" x=\"218\" y=\"178.1074\">A</text><line style=\"stroke: #383838; stroke-width: 1.5;\" x1=\"190\" x2=\"254\" y1=\"185.9375\" y2=\"185.9375\"/><text fill=\"#000000\" font-family=\"sans-serif\" font-size=\"11\" lengthAdjust=\"spacingAndGlyphs\" textLength=\"6\" x=\"195\" y=\"216.9526\">x</text><text fill=\"#000000\" font-family=\"sans-serif\" font-size=\"11\" lengthAdjust=\"spacingAndGlyphs\" textLength=\"6\" x=\"195\" y=\"229.7573\">y</text><line style=\"stroke: #383838; stroke-width: 1.0;\" x1=\"190\" x2=\"194.5\" y1=\"200.3398\" y2=\"200.3398\"/><text fill=\"#000000\" font-family=\"sans-serif\" font-size=\"11\" lengthAdjust=\"spacingAndGlyphs\" textLength=\"55\" x=\"194.5\" y=\"203.6479\">attributes</text><line style=\"stroke: #383838; stroke-width: 1.0;\" x1=\"249.5\" x2=\"254\" y1=\"200.3398\" y2=\"200.3398\"/></a><!--MD5=[ebbe1d658d1005bcc118a6aa81145e00]\n",
       "class E4--><a href=\"psysml:9dcf2186-613a-4b96-912f-a1b95f354387\" target=\"_top\" title=\"psysml:9dcf2186-613a-4b96-912f-a1b95f354387\" xlink:actuate=\"onRequest\" xlink:href=\"psysml:9dcf2186-613a-4b96-912f-a1b95f354387\" xlink:show=\"new\" xlink:title=\"psysml:9dcf2186-613a-4b96-912f-a1b95f354387\" xlink:type=\"simple\"><rect fill=\"#FFFFFF\" height=\"45.9375\" id=\"E4\" rx=\"10\" ry=\"10\" style=\"stroke: #383838; stroke-width: 1.5;\" width=\"42\" x=\"323\" y=\"373\"/><text fill=\"#000000\" font-family=\"sans-serif\" font-size=\"12\" font-style=\"italic\" lengthAdjust=\"spacingAndGlyphs\" textLength=\"40\" x=\"324\" y=\"389.1387\">«part»</text><text fill=\"#000000\" font-family=\"sans-serif\" font-size=\"12\" lengthAdjust=\"spacingAndGlyphs\" textLength=\"24\" x=\"332\" y=\"403.1074\">b: B</text><line style=\"stroke: #383838; stroke-width: 1.5;\" x1=\"324\" x2=\"364\" y1=\"410.9375\" y2=\"410.9375\"/></a><!--MD5=[270fce915f116d4de14055a7c1d9a0f3]\n",
       "class E5--><a href=\"psysml:a3147892-19dd-4d4c-8f64-71e53da800dc\" target=\"_top\" title=\"psysml:a3147892-19dd-4d4c-8f64-71e53da800dc\" xlink:actuate=\"onRequest\" xlink:href=\"psysml:a3147892-19dd-4d4c-8f64-71e53da800dc\" xlink:show=\"new\" xlink:title=\"psysml:a3147892-19dd-4d4c-8f64-71e53da800dc\" xlink:type=\"simple\"><rect fill=\"#FFFFFF\" height=\"45.9375\" id=\"E5\" rx=\"10\" ry=\"10\" style=\"stroke: #383838; stroke-width: 1.5;\" width=\"42\" x=\"306\" y=\"297\"/><text fill=\"#000000\" font-family=\"sans-serif\" font-size=\"12\" font-style=\"italic\" lengthAdjust=\"spacingAndGlyphs\" textLength=\"40\" x=\"307\" y=\"313.1387\">«port»</text><text fill=\"#000000\" font-family=\"sans-serif\" font-size=\"12\" lengthAdjust=\"spacingAndGlyphs\" textLength=\"23\" x=\"315.5\" y=\"327.1074\">c: C</text><line style=\"stroke: #383838; stroke-width: 1.5;\" x1=\"307\" x2=\"347\" y1=\"334.9375\" y2=\"334.9375\"/></a><!--MD5=[60a26617385b1d2d0262a64233df1f8d]\n",
       "class E6--><a href=\"psysml:bbb3af71-bfb9-47e2-863f-33482c8ff081\" target=\"_top\" title=\"psysml:bbb3af71-bfb9-47e2-863f-33482c8ff081\" xlink:actuate=\"onRequest\" xlink:href=\"psysml:bbb3af71-bfb9-47e2-863f-33482c8ff081\" xlink:show=\"new\" xlink:title=\"psysml:bbb3af71-bfb9-47e2-863f-33482c8ff081\" xlink:type=\"simple\"><rect fill=\"#FFFFFF\" height=\"45.9375\" id=\"E6\" style=\"stroke: #383838; stroke-width: 1.5;\" width=\"66\" x=\"163\" y=\"572\"/><text fill=\"#000000\" font-family=\"sans-serif\" font-size=\"12\" font-style=\"italic\" lengthAdjust=\"spacingAndGlyphs\" textLength=\"64\" x=\"164\" y=\"588.1387\">«part def»</text><text fill=\"#000000\" font-family=\"sans-serif\" font-size=\"12\" lengthAdjust=\"spacingAndGlyphs\" textLength=\"8\" x=\"192\" y=\"602.1074\">B</text><line style=\"stroke: #383838; stroke-width: 1.5;\" x1=\"164\" x2=\"228\" y1=\"609.9375\" y2=\"609.9375\"/></a><!--MD5=[2156ba9850f5573cc1fc38a6a4b2f02b]\n",
       "class E7--><a href=\"psysml:c128dc79-fecf-4cdb-b1ba-5850a9b121ec\" target=\"_top\" title=\"psysml:c128dc79-fecf-4cdb-b1ba-5850a9b121ec\" xlink:actuate=\"onRequest\" xlink:href=\"psysml:c128dc79-fecf-4cdb-b1ba-5850a9b121ec\" xlink:show=\"new\" xlink:title=\"psysml:c128dc79-fecf-4cdb-b1ba-5850a9b121ec\" xlink:type=\"simple\"><rect fill=\"#FFFFFF\" height=\"45.9375\" id=\"E7\" rx=\"10\" ry=\"10\" style=\"stroke: #383838; stroke-width: 1.5;\" width=\"42\" x=\"58\" y=\"682.5\"/><text fill=\"#000000\" font-family=\"sans-serif\" font-size=\"12\" font-style=\"italic\" lengthAdjust=\"spacingAndGlyphs\" textLength=\"40\" x=\"59\" y=\"698.6387\">«part»</text><text fill=\"#000000\" font-family=\"sans-serif\" font-size=\"12\" lengthAdjust=\"spacingAndGlyphs\" textLength=\"24\" x=\"67\" y=\"712.6074\">a: A</text><line style=\"stroke: #383838; stroke-width: 1.5;\" x1=\"59\" x2=\"99\" y1=\"720.4375\" y2=\"720.4375\"/></a><!--MD5=[b9389687b975829384b498ac4b7476b2]\n",
       "class E8--><a href=\"psysml:540f6402-e62e-4ea3-b051-5d5cf5bfcb38\" target=\"_top\" title=\"psysml:540f6402-e62e-4ea3-b051-5d5cf5bfcb38\" xlink:actuate=\"onRequest\" xlink:href=\"psysml:540f6402-e62e-4ea3-b051-5d5cf5bfcb38\" xlink:show=\"new\" xlink:title=\"psysml:540f6402-e62e-4ea3-b051-5d5cf5bfcb38\" xlink:type=\"simple\"><rect fill=\"#FFFFFF\" height=\"45.9375\" id=\"E8\" rx=\"10\" ry=\"10\" style=\"stroke: #383838; stroke-width: 1.5;\" width=\"42\" x=\"213\" y=\"682.5\"/><text fill=\"#000000\" font-family=\"sans-serif\" font-size=\"12\" font-style=\"italic\" lengthAdjust=\"spacingAndGlyphs\" textLength=\"40\" x=\"214\" y=\"698.6387\">«port»</text><text fill=\"#000000\" font-family=\"sans-serif\" font-size=\"12\" lengthAdjust=\"spacingAndGlyphs\" textLength=\"32\" x=\"218\" y=\"712.6074\">x: ~C</text><line style=\"stroke: #383838; stroke-width: 1.5;\" x1=\"214\" x2=\"254\" y1=\"720.4375\" y2=\"720.4375\"/></a><!--MD5=[96f4274e9e20536e775497830990834d]\n",
       "class E10--><a href=\"psysml:a92372c2-fe41-425f-b40c-da5b8c1ca15d\" target=\"_top\" title=\"psysml:a92372c2-fe41-425f-b40c-da5b8c1ca15d\" xlink:actuate=\"onRequest\" xlink:href=\"psysml:a92372c2-fe41-425f-b40c-da5b8c1ca15d\" xlink:show=\"new\" xlink:title=\"psysml:a92372c2-fe41-425f-b40c-da5b8c1ca15d\" xlink:type=\"simple\"><rect fill=\"#FFFFFF\" height=\"45.9375\" id=\"E10\" style=\"stroke: #383838; stroke-width: 1.5;\" width=\"66\" x=\"163\" y=\"449\"/><text fill=\"#000000\" font-family=\"sans-serif\" font-size=\"12\" font-style=\"italic\" lengthAdjust=\"spacingAndGlyphs\" textLength=\"64\" x=\"164\" y=\"465.1387\">«port def»</text><text fill=\"#000000\" font-family=\"sans-serif\" font-size=\"12\" lengthAdjust=\"spacingAndGlyphs\" textLength=\"8\" x=\"192\" y=\"479.1074\">C</text><line style=\"stroke: #383838; stroke-width: 1.5;\" x1=\"164\" x2=\"228\" y1=\"486.9375\" y2=\"486.9375\"/></a><a href=\"psysml:f4e4ee2b-1abf-4dbd-8483-2b091bdfceaf\" target=\"_top\" title=\"psysml:f4e4ee2b-1abf-4dbd-8483-2b091bdfceaf\" xlink:actuate=\"onRequest\" xlink:href=\"psysml:f4e4ee2b-1abf-4dbd-8483-2b091bdfceaf\" xlink:show=\"new\" xlink:title=\"psysml:f4e4ee2b-1abf-4dbd-8483-2b091bdfceaf\" xlink:type=\"simple\"><polygon fill=\"#FFFFFF\" points=\"148.5,679,163.5,679,170.5,701.2969,177.5,701.2969,177.5,731.5938,148.5,731.5938,148.5,679\" style=\"stroke: #000000; stroke-width: 1.5;\"/><line style=\"stroke: #000000; stroke-width: 1.5;\" x1=\"148.5\" x2=\"170.5\" y1=\"701.2969\" y2=\"701.2969\"/><text fill=\"#000000\" font-family=\"sans-serif\" font-size=\"14\" font-weight=\"bold\" lengthAdjust=\"spacingAndGlyphs\" textLength=\"9\" x=\"152.5\" y=\"693.9951\">P</text></a><!--MD5=[2720a5a1f2c3fca2055b230370638851]\n",
       "link E2 to E3--><a href=\"psysml:488f6ee0-39a9-4dc0-b555-612cc99c37a1\" target=\"_top\" title=\"psysml:488f6ee0-39a9-4dc0-b555-612cc99c37a1\" xlink:actuate=\"onRequest\" xlink:href=\"psysml:488f6ee0-39a9-4dc0-b555-612cc99c37a1\" xlink:show=\"new\" xlink:title=\"psysml:488f6ee0-39a9-4dc0-b555-612cc99c37a1\" xlink:type=\"simple\"><path d=\"M222,87.24 C222,98.62 222,113.11 222,127.62 \" fill=\"none\" id=\"E2-&gt;E3\" style=\"stroke: #383838; stroke-width: 1.0;\"/><polygon fill=\"#FFFFFF\" points=\"222,147.84,215,128.84,229,128.84,222,147.84\" style=\"stroke: #383838; stroke-width: 1.0;\"/><ellipse cx=\"217\" cy=\"123.14\" fill=\"#383838\" rx=\"2\" ry=\"2\" style=\"stroke: #383838; stroke-width: 1.0;\"/><ellipse cx=\"227\" cy=\"123.14\" fill=\"#383838\" rx=\"2\" ry=\"2\" style=\"stroke: #383838; stroke-width: 1.0;\"/></a><!--MD5=[4672eba38e49728da53d11aeb285b987]\n",
       "reverse link E3 to E4--><a href=\"psysml:98712745-a638-4d1f-8ffc-380c342569c9\" target=\"_top\" title=\"psysml:98712745-a638-4d1f-8ffc-380c342569c9\" xlink:actuate=\"onRequest\" xlink:href=\"psysml:98712745-a638-4d1f-8ffc-380c342569c9\" xlink:show=\"new\" xlink:title=\"psysml:98712745-a638-4d1f-8ffc-380c342569c9\" xlink:type=\"simple\"><path d=\"M267.21,211.72 C301.24,228.53 345.43,256.77 366,297 C378.38,321.22 367.51,352.31 357.12,372.91 \" fill=\"none\" id=\"E3&lt;-E4\" style=\"stroke: #383838; stroke-width: 1.0;\"/><polygon fill=\"#383838\" points=\"255.19,206.05,258.9023,212.2321,266.0367,211.1831,262.3244,205.001,255.19,206.05\" style=\"stroke: #383838; stroke-width: 1.0;\"/><text fill=\"#000000\" font-family=\"sans-serif\" font-size=\"13\" lengthAdjust=\"spacingAndGlyphs\" textLength=\"8\" x=\"352.5085\" y=\"363.0064\">1</text></a><!--MD5=[191cde3d490a3f6d7bb551fe3ddca469]\n",
       "reverse link E3 to E5--><a href=\"psysml:3d3c789c-d512-4565-8d7c-059f8d1010f8\" target=\"_top\" title=\"psysml:3d3c789c-d512-4565-8d7c-059f8d1010f8\" xlink:actuate=\"onRequest\" xlink:href=\"psysml:3d3c789c-d512-4565-8d7c-059f8d1010f8\" xlink:show=\"new\" xlink:title=\"psysml:3d3c789c-d512-4565-8d7c-059f8d1010f8\" xlink:type=\"simple\"><path d=\"M263.71,243.06 C279.31,261.77 296.23,282.08 308.65,296.98 \" fill=\"none\" id=\"E3&lt;-E5\" style=\"stroke: #383838; stroke-width: 1.0;\"/><polygon fill=\"#FFFFFF\" points=\"255.22,232.87,255.9912,240.0397,262.9061,242.0854,262.1349,234.9157,255.22,232.87\" style=\"stroke: #383838; stroke-width: 1.0;\"/><text fill=\"#000000\" font-family=\"sans-serif\" font-size=\"13\" lengthAdjust=\"spacingAndGlyphs\" textLength=\"8\" x=\"294.6434\" y=\"285.8709\">1</text></a><!--MD5=[79568f1e445c3877b6a54524624ccc7d]\n",
       "link E4 to E6--><a href=\"psysml:1225703b-924d-44f0-aa92-4bca49ced0c9\" target=\"_top\" title=\"psysml:1225703b-924d-44f0-aa92-4bca49ced0c9\" xlink:actuate=\"onRequest\" xlink:href=\"psysml:1225703b-924d-44f0-aa92-4bca49ced0c9\" xlink:show=\"new\" xlink:title=\"psysml:1225703b-924d-44f0-aa92-4bca49ced0c9\" xlink:type=\"simple\"><path d=\"M327.31,419.22 C302.43,452.34 255.27,515.1 224.76,555.71 \" fill=\"none\" id=\"E4-&gt;E6\" style=\"stroke: #383838; stroke-width: 1.0;\"/><polygon fill=\"#FFFFFF\" points=\"212.63,571.87,218.4494,552.4758,229.641,560.887,212.63,571.87\" style=\"stroke: #383838; stroke-width: 1.0;\"/><ellipse cx=\"223.4728\" cy=\"549.1208\" fill=\"#383838\" rx=\"2\" ry=\"2\" style=\"stroke: #383838; stroke-width: 1.0;\"/><ellipse cx=\"231.4668\" cy=\"555.1288\" fill=\"#383838\" rx=\"2\" ry=\"2\" style=\"stroke: #383838; stroke-width: 1.0;\"/></a><!--MD5=[3f50a3473f1dfb74d3f76443e03635af]\n",
       "reverse link E6 to E7--><a href=\"psysml:a81e6d2d-a633-4d51-820c-a47602c519dd\" target=\"_top\" title=\"psysml:a81e6d2d-a633-4d51-820c-a47602c519dd\" xlink:actuate=\"onRequest\" xlink:href=\"psysml:a81e6d2d-a633-4d51-820c-a47602c519dd\" xlink:show=\"new\" xlink:title=\"psysml:a81e6d2d-a633-4d51-820c-a47602c519dd\" xlink:type=\"simple\"><path d=\"M162.35,627.2 C142.32,645.78 117.5,668.8 100.18,684.86 \" fill=\"none\" id=\"E6&lt;-E7\" style=\"stroke: #383838; stroke-width: 1.0;\"/><polygon fill=\"#383838\" points=\"172.04,618.22,164.9211,619.3695,163.2441,626.3829,170.363,625.2334,172.04,618.22\" style=\"stroke: #383838; stroke-width: 1.0;\"/><text fill=\"#000000\" font-family=\"sans-serif\" font-size=\"13\" lengthAdjust=\"spacingAndGlyphs\" textLength=\"8\" x=\"107.8914\" y=\"673.3389\">1</text></a><!--MD5=[14ccda38c055a5c0da953d572bc50960]\n",
       "link E7 to E3--><a href=\"psysml:4883cacd-6695-4e4a-8cc2-3609b81ec9a9\" target=\"_top\" title=\"psysml:4883cacd-6695-4e4a-8cc2-3609b81ec9a9\" xlink:actuate=\"onRequest\" xlink:href=\"psysml:4883cacd-6695-4e4a-8cc2-3609b81ec9a9\" xlink:show=\"new\" xlink:title=\"psysml:4883cacd-6695-4e4a-8cc2-3609b81ec9a9\" xlink:type=\"simple\"><path d=\"M63.43,682.38 C50.08,661.23 33,627.92 33,596 C33,319 33,319 33,319 C33,253.29 113.07,219.74 168.98,204.32 \" fill=\"none\" id=\"E7-&gt;E3\" style=\"stroke: #383838; stroke-width: 1.0;\"/><polygon fill=\"#FFFFFF\" points=\"188.65,199.35,171.9427,210.7897,168.5143,197.216,188.65,199.35\" style=\"stroke: #383838; stroke-width: 1.0;\"/><ellipse cx=\"165.9265\" cy=\"210.2465\" fill=\"#383838\" rx=\"2\" ry=\"2\" style=\"stroke: #383838; stroke-width: 1.0;\"/><ellipse cx=\"163.4776\" cy=\"200.5509\" fill=\"#383838\" rx=\"2\" ry=\"2\" style=\"stroke: #383838; stroke-width: 1.0;\"/></a><!--MD5=[f4cf0736d43fd73c4ef68817c49d37d5]\n",
       "reverse link E6 to E8--><a href=\"psysml:2d844c43-a52c-43bf-b052-a300acb2bf74\" target=\"_top\" title=\"psysml:2d844c43-a52c-43bf-b052-a300acb2bf74\" xlink:actuate=\"onRequest\" xlink:href=\"psysml:2d844c43-a52c-43bf-b052-a300acb2bf74\" xlink:show=\"new\" xlink:title=\"psysml:2d844c43-a52c-43bf-b052-a300acb2bf74\" xlink:type=\"simple\"><path d=\"M208.25,630.98 C214.15,647.83 221.06,667.54 226.23,682.31 \" fill=\"none\" id=\"E6&lt;-E8\" style=\"stroke: #383838; stroke-width: 1.0;\"/><polygon fill=\"#FFFFFF\" points=\"203.78,618.22,201.9892,625.2052,207.7483,629.5449,209.5391,622.5597,203.78,618.22\" style=\"stroke: #383838; stroke-width: 1.0;\"/><text fill=\"#000000\" font-family=\"sans-serif\" font-size=\"13\" lengthAdjust=\"spacingAndGlyphs\" textLength=\"8\" x=\"215.2139\" y=\"671.5376\">1</text></a><!--MD5=[e88d06e5a652d73a6b19930eefe025a8]\n",
       "reverse link E6 to E9--><a href=\"psysml:5153bd7e-9106-496d-98a6-0d3fae0d20a5\" target=\"_top\" title=\"psysml:5153bd7e-9106-496d-98a6-0d3fae0d20a5\" xlink:actuate=\"onRequest\" xlink:href=\"psysml:5153bd7e-9106-496d-98a6-0d3fae0d20a5\" xlink:show=\"new\" xlink:title=\"psysml:5153bd7e-9106-496d-98a6-0d3fae0d20a5\" xlink:type=\"simple\"><path d=\"M184.74,633.01 C180.15,648.11 174.95,665.2 170.79,678.88 \" fill=\"none\" id=\"E6&lt;-E9\" style=\"stroke: #383838; stroke-width: 1.0;\"/><ellipse cx=\"186.9098\" cy=\"625.8731\" fill=\"#FFFFFF\" rx=\"8\" ry=\"8\" style=\"stroke: #383838; stroke-width: 1.0;\"/><line style=\"stroke: #383838; stroke-width: 1.0;\" x1=\"184.5796\" x2=\"189.24\" y1=\"633.5262\" y2=\"618.22\"/><line style=\"stroke: #383838; stroke-width: 1.0;\" x1=\"179.2567\" x2=\"194.5629\" y1=\"623.5429\" y2=\"628.2033\"/></a><!--MD5=[f78a29d5932556fa1060671a2a6507d8]\n",
       "link E5 to E10--><a href=\"psysml:63374559-c2a0-4cf8-92a3-b39a3ed3eac1\" target=\"_top\" title=\"psysml:63374559-c2a0-4cf8-92a3-b39a3ed3eac1\" xlink:actuate=\"onRequest\" xlink:href=\"psysml:63374559-c2a0-4cf8-92a3-b39a3ed3eac1\" xlink:show=\"new\" xlink:title=\"psysml:63374559-c2a0-4cf8-92a3-b39a3ed3eac1\" xlink:type=\"simple\"><path d=\"M317.86,343.05 C308.35,364.19 291.92,396.17 271,419 C263.6,427.07 254.73,434.58 245.72,441.23 \" fill=\"none\" id=\"E5-&gt;E10\" style=\"stroke: #383838; stroke-width: 1.0;\"/><polygon fill=\"#FFFFFF\" points=\"229.11,452.57,240.857,436.0773,248.7493,447.6407,229.11,452.57\" style=\"stroke: #383838; stroke-width: 1.0;\"/><ellipse cx=\"246.6924\" cy=\"434.5159\" fill=\"#383838\" rx=\"2\" ry=\"2\" style=\"stroke: #383838; stroke-width: 1.0;\"/><ellipse cx=\"252.3298\" cy=\"442.7755\" fill=\"#383838\" rx=\"2\" ry=\"2\" style=\"stroke: #383838; stroke-width: 1.0;\"/></a><!--MD5=[8e04057e7b3cbc0dca4fc78ea351e2da]\n",
       "reverse link E10 to E3--><a href=\"psysml:e24d69b8-a494-4022-9892-35ed42c85155\" target=\"_top\" title=\"psysml:e24d69b8-a494-4022-9892-35ed42c85155\" xlink:actuate=\"onRequest\" xlink:href=\"psysml:e24d69b8-a494-4022-9892-35ed42c85155\" xlink:show=\"new\" xlink:title=\"psysml:e24d69b8-a494-4022-9892-35ed42c85155\" xlink:type=\"simple\"><path d=\"M169.12,438.19 C143.87,403.2 112.53,346.17 131,297 C142.56,266.23 167.81,238.61 188.79,219.58 \" fill=\"none\" id=\"E10&lt;-E3\" style=\"stroke: #383838; stroke-width: 1.0;\"/><polygon fill=\"#FFFFFF\" points=\"177.03,448.74,176.63,441.54,169.83,439.14,170.23,446.34,177.03,448.74\" style=\"stroke: #383838; stroke-width: 1.0;\"/><text fill=\"#000000\" font-family=\"sans-serif\" font-size=\"13\" lengthAdjust=\"spacingAndGlyphs\" textLength=\"7\" x=\"132\" y=\"324.5669\">y</text></a><!--MD5=[8e04057e7b3cbc0dca4fc78ea351e2da]\n",
       "reverse link E10 to E3--><a href=\"psysml:e24d69b8-a494-4022-9892-35ed42c85155\" target=\"_top\" title=\"psysml:e24d69b8-a494-4022-9892-35ed42c85155\" xlink:actuate=\"onRequest\" xlink:href=\"psysml:e24d69b8-a494-4022-9892-35ed42c85155\" xlink:show=\"new\" xlink:title=\"psysml:e24d69b8-a494-4022-9892-35ed42c85155\" xlink:type=\"simple\"><path d=\"M198.5,435.41 C201.06,400.21 205.32,344.85 210,297 C211.96,277.01 214.46,254.9 216.67,236.23 \" fill=\"none\" id=\"E10&lt;-E3-1\" style=\"stroke: #383838; stroke-width: 1.0;\"/><polygon fill=\"#FFFFFF\" points=\"197.54,448.73,201.9587,443.0313,198.3978,436.7607,193.9791,442.4594,197.54,448.73\" style=\"stroke: #383838; stroke-width: 1.0;\"/><text fill=\"#000000\" font-family=\"sans-serif\" font-size=\"13\" lengthAdjust=\"spacingAndGlyphs\" textLength=\"7\" x=\"211\" y=\"324.5669\">y</text></a><!--MD5=[8e04057e7b3cbc0dca4fc78ea351e2da]\n",
       "reverse link E10 to E3--><a href=\"psysml:e24d69b8-a494-4022-9892-35ed42c85155\" target=\"_top\" title=\"psysml:e24d69b8-a494-4022-9892-35ed42c85155\" xlink:actuate=\"onRequest\" xlink:href=\"psysml:e24d69b8-a494-4022-9892-35ed42c85155\" xlink:show=\"new\" xlink:title=\"psysml:e24d69b8-a494-4022-9892-35ed42c85155\" xlink:type=\"simple\"><path d=\"M205.88,436.08 C207.35,430.39 208.78,424.55 210,419 C217.35,385.53 220.1,377.15 223,343 C224.73,322.63 223.1,317.44 223,297 C222.9,276.96 222.7,254.74 222.51,236.01 \" fill=\"none\" id=\"E10&lt;-E3-2\" style=\"stroke: #383838; stroke-width: 1.0;\"/><polygon fill=\"#FFFFFF\" points=\"202.46,448.84,207.879,444.0824,205.5716,437.2504,200.1526,442.008,202.46,448.84\" style=\"stroke: #383838; stroke-width: 1.0;\"/><text fill=\"#000000\" font-family=\"sans-serif\" font-size=\"13\" lengthAdjust=\"spacingAndGlyphs\" textLength=\"7\" x=\"224\" y=\"324.5669\">y</text></a><!--MD5=[604cbf994c02b74b117f728a71673cea]\n",
       "reverse link E10 to E6--><a href=\"psysml:e24d69b8-a494-4022-9892-35ed42c85155\" target=\"_top\" title=\"psysml:e24d69b8-a494-4022-9892-35ed42c85155\" xlink:actuate=\"onRequest\" xlink:href=\"psysml:e24d69b8-a494-4022-9892-35ed42c85155\" xlink:show=\"new\" xlink:title=\"psysml:e24d69b8-a494-4022-9892-35ed42c85155\" xlink:type=\"simple\"><path d=\"M204.39,508.23 C206.07,519.04 207.05,530.99 206,542 C205.06,551.88 203.13,562.68 201.22,571.87 \" fill=\"none\" id=\"E10&lt;-E6\" style=\"stroke: #383838; stroke-width: 1.0;\"/><polygon fill=\"#FFFFFF\" points=\"201.97,495.31,199.1398,501.9425,204.1735,507.106,207.0037,500.4735,201.97,495.31\" style=\"stroke: #383838; stroke-width: 1.0;\"/><text fill=\"#000000\" font-family=\"sans-serif\" font-size=\"13\" lengthAdjust=\"spacingAndGlyphs\" textLength=\"7\" x=\"207\" y=\"538.0669\">y</text></a><!--MD5=[604cbf994c02b74b117f728a71673cea]\n",
       "reverse link E10 to E6--><a href=\"psysml:e24d69b8-a494-4022-9892-35ed42c85155\" target=\"_top\" title=\"psysml:e24d69b8-a494-4022-9892-35ed42c85155\" xlink:actuate=\"onRequest\" xlink:href=\"psysml:e24d69b8-a494-4022-9892-35ed42c85155\" xlink:show=\"new\" xlink:title=\"psysml:e24d69b8-a494-4022-9892-35ed42c85155\" xlink:type=\"simple\"><path d=\"M160.04,504.87 C155.13,511.03 150.81,517.82 148,525 C141.3,542.12 152.83,559.11 166.26,571.94 \" fill=\"none\" id=\"E10&lt;-E6-1\" style=\"stroke: #383838; stroke-width: 1.0;\"/><polygon fill=\"#FFFFFF\" points=\"168.73,495.16,161.7505,496.973,160.7396,504.1129,167.7191,502.2999,168.73,495.16\" style=\"stroke: #383838; stroke-width: 1.0;\"/><text fill=\"#000000\" font-family=\"sans-serif\" font-size=\"13\" lengthAdjust=\"spacingAndGlyphs\" textLength=\"7\" x=\"149\" y=\"538.0669\">y</text></a><!--MD5=[604cbf994c02b74b117f728a71673cea]\n",
       "reverse link E10 to E6--><a href=\"psysml:e24d69b8-a494-4022-9892-35ed42c85155\" target=\"_top\" title=\"psysml:e24d69b8-a494-4022-9892-35ed42c85155\" xlink:actuate=\"onRequest\" xlink:href=\"psysml:e24d69b8-a494-4022-9892-35ed42c85155\" xlink:show=\"new\" xlink:title=\"psysml:e24d69b8-a494-4022-9892-35ed42c85155\" xlink:type=\"simple\"><path d=\"M196,508.22 C196,528.81 196,554.16 196,571.95 \" fill=\"none\" id=\"E10&lt;-E6-2\" style=\"stroke: #383838; stroke-width: 1.0;\"/><polygon fill=\"#FFFFFF\" points=\"196,495.19,192,501.19,196,507.19,200,501.19,196,495.19\" style=\"stroke: #383838; stroke-width: 1.0;\"/><text fill=\"#000000\" font-family=\"sans-serif\" font-size=\"13\" lengthAdjust=\"spacingAndGlyphs\" textLength=\"7\" x=\"197\" y=\"538.0669\">y</text></a><!--MD5=[5459d6c90ab50344b4b8fa4ce14b2ab4]\n",
       "@startuml\r\n",
       "skinparam monochrome true\r\n",
       "skinparam classbackgroundcolor white\r\n",
       "skinparam shadowing false\r\n",
       "skinparam wrapWidth 300\r\n",
       "hide circle\r\n",
       "\r\n",
       "package \"PartTest\" as E1  [[psysml:a6b62677-d27b-4bf3-83e0-375e3ba01a4b ]]  {\r\n",
       "comp usage \"f: A\" as E2  <<(T,blue) part>> [[psysml:fef66b5f-1b9d-421e-94fe-86858427a029 ]] {\r\n",
       "}\r\n",
       "comp def \"A\" as E3  <<(T,blue) part def>> [[psysml:a2cad1be-c52d-4964-a87e-891cd7289f52 ]] {\r\n",
       "- - attributes - -\r\n",
       "x\r\n",
       "y\r\n",
       "}\r\n",
       "comp usage \"b: B\" as E4  <<(T,blue) part>> [[psysml:9dcf2186-613a-4b96-912f-a1b95f354387 ]] {\r\n",
       "}\r\n",
       "comp usage \"c: C\" as E5  <<(T,blue) port>> [[psysml:a3147892-19dd-4d4c-8f64-71e53da800dc ]] {\r\n",
       "}\r\n",
       "comp def \"B\" as E6  <<(T,blue) part def>> [[psysml:bbb3af71-bfb9-47e2-863f-33482c8ff081 ]] {\r\n",
       "}\r\n",
       "comp usage \"a: A\" as E7  <<(T,blue) part>> [[psysml:c128dc79-fecf-4cdb-b1ba-5850a9b121ec ]] {\r\n",
       "}\r\n",
       "comp usage \"x: ~C\" as E8  <<(T,blue) port>> [[psysml:540f6402-e62e-4ea3-b051-5d5cf5bfcb38 ]] {\r\n",
       "}\r\n",
       "package \"P\" as E9  [[psysml:f4e4ee2b-1abf-4dbd-8483-2b091bdfceaf ]]  {\r\n",
       "}\r\n",
       "comp def \"C\" as E10  <<(T,blue) port def>> [[psysml:a92372c2-fe41-425f-b40c-da5b8c1ca15d ]] {\r\n",
       "}\r\n",
       "}\r\n",
       "E2 - -:|> E3 [[psysml:488f6ee0-39a9-4dc0-b555-612cc99c37a1 ]] \r\n",
       "E3 *- - \"1\"E4 [[psysml:98712745-a638-4d1f-8ffc-380c342569c9 ]] \r\n",
       "E3 o- - \"1\"E5 [[psysml:3d3c789c-d512-4565-8d7c-059f8d1010f8 ]] \r\n",
       "E4 - -:|> E6 [[psysml:1225703b-924d-44f0-aa92-4bca49ced0c9 ]] \r\n",
       "E6 *- - \"1\"E7 [[psysml:a81e6d2d-a633-4d51-820c-a47602c519dd ]] \r\n",
       "E7 - -:|> E3 [[psysml:4883cacd-6695-4e4a-8cc2-3609b81ec9a9 ]] \r\n",
       "E6 o- - \"1\"E8 [[psysml:2d844c43-a52c-43bf-b052-a300acb2bf74 ]] \r\n",
       "E6 +- - E9 [[psysml:5153bd7e-9106-496d-98a6-0d3fae0d20a5 ]] \r\n",
       "E5 - -:|> E10 [[psysml:63374559-c2a0-4cf8-92a3-b39a3ed3eac1 ]] \r\n",
       "E10 o- - E3 [[psysml:e24d69b8-a494-4022-9892-35ed42c85155 ]] : y\r\n",
       "E10 o- - E6 [[psysml:e24d69b8-a494-4022-9892-35ed42c85155 ]] : y\r\n",
       "E10 o- - E3 [[psysml:e24d69b8-a494-4022-9892-35ed42c85155 ]] : y\r\n",
       "E10 o- - E6 [[psysml:e24d69b8-a494-4022-9892-35ed42c85155 ]] : y\r\n",
       "E10 o- - E3 [[psysml:e24d69b8-a494-4022-9892-35ed42c85155 ]] : y\r\n",
       "E10 o- - E6 [[psysml:e24d69b8-a494-4022-9892-35ed42c85155 ]] : y\r\n",
       "@enduml\r\n",
       "\n",
       "PlantUML version 1.2020.13(Sat Jun 13 12:26:38 UTC 2020)\n",
       "(EPL source distribution)\n",
       "Java Runtime: OpenJDK Runtime Environment\n",
       "JVM: OpenJDK 64-Bit Server VM\n",
       "Default Encoding: UTF-8\n",
       "Language: en\n",
       "Country: null\n",
       "--></g></svg>"
      ]
     },
     "execution_count": 38,
     "metadata": {},
     "output_type": "execute_result"
    }
   ],
   "source": [
    "%viz --style=\"DEFAULT\" --view=\"Tree\" \"PartTest\""
   ]
  },
  {
   "cell_type": "code",
   "execution_count": 39,
   "id": "90f00cbb",
   "metadata": {
    "execution": {
     "iopub.execute_input": "2021-10-03T08:29:55.015132Z",
     "iopub.status.busy": "2021-10-03T08:29:55.014727Z",
     "iopub.status.idle": "2021-10-03T08:29:55.019949Z",
     "shell.execute_reply": "2021-10-03T08:29:55.019592Z"
    }
   },
   "outputs": [
    {
     "data": {
      "image/svg+xml": [
       "<?xml version=\"1.0\" encoding=\"UTF-8\" standalone=\"no\"?><svg xmlns=\"http://www.w3.org/2000/svg\" xmlns:xlink=\"http://www.w3.org/1999/xlink\" contentScriptType=\"application/ecmascript\" contentStyleType=\"text/css\" height=\"12px\" preserveAspectRatio=\"none\" style=\"width:12px;height:12px;\" version=\"1.1\" viewBox=\"0 0 12 12\" width=\"12px\" zoomAndPan=\"magnify\"><defs/><g><!--MD5=[c5f280e076d0d61ccf4b0f27871bda1d]\n",
       "@startuml\r\n",
       "skinparam monochrome true\r\n",
       "skinparam classbackgroundcolor white\r\n",
       "skinparam shadowing false\r\n",
       "skinparam wrapWidth 300\r\n",
       "hide circle\r\n",
       "\r\n",
       "@enduml\r\n",
       "\n",
       "PlantUML version 1.2020.13(Sat Jun 13 12:26:38 UTC 2020)\n",
       "(EPL source distribution)\n",
       "Java Runtime: OpenJDK Runtime Environment\n",
       "JVM: OpenJDK 64-Bit Server VM\n",
       "Default Encoding: UTF-8\n",
       "Language: en\n",
       "Country: null\n",
       "--></g></svg>"
      ]
     },
     "execution_count": 39,
     "metadata": {},
     "output_type": "execute_result"
    }
   ],
   "source": [
    "%viz --style=\"DEFAULT\" --view=\"State\" \"PartTest\""
   ]
  },
  {
   "cell_type": "code",
   "execution_count": 40,
   "id": "2b119163",
   "metadata": {
    "execution": {
     "iopub.execute_input": "2021-10-03T08:29:55.069369Z",
     "iopub.status.busy": "2021-10-03T08:29:55.068968Z",
     "iopub.status.idle": "2021-10-03T08:29:55.106822Z",
     "shell.execute_reply": "2021-10-03T08:29:55.106456Z"
    }
   },
   "outputs": [
    {
     "data": {
      "image/svg+xml": [
       "<?xml version=\"1.0\" encoding=\"UTF-8\" standalone=\"no\"?><svg xmlns=\"http://www.w3.org/2000/svg\" xmlns:xlink=\"http://www.w3.org/1999/xlink\" contentScriptType=\"application/ecmascript\" contentStyleType=\"text/css\" height=\"253px\" preserveAspectRatio=\"none\" style=\"width:674px;height:253px;\" version=\"1.1\" viewBox=\"0 0 674 253\" width=\"674px\" zoomAndPan=\"magnify\"><defs/><g><!--MD5=[fbc87193dbaf4d95561dea2c320d4a47]\n",
       "cluster E1--><a href=\"psysml:a6b62677-d27b-4bf3-83e0-375e3ba01a4b\" target=\"_top\" title=\"psysml:a6b62677-d27b-4bf3-83e0-375e3ba01a4b\" xlink:actuate=\"onRequest\" xlink:href=\"psysml:a6b62677-d27b-4bf3-83e0-375e3ba01a4b\" xlink:show=\"new\" xlink:title=\"psysml:a6b62677-d27b-4bf3-83e0-375e3ba01a4b\" xlink:type=\"simple\"><polygon fill=\"#FFFFFF\" points=\"16,6,80,6,87,28.2969,652,28.2969,652,241,16,241,16,6\" style=\"stroke: #000000; stroke-width: 1.5;\"/><line style=\"stroke: #000000; stroke-width: 1.5;\" x1=\"16\" x2=\"87\" y1=\"28.2969\" y2=\"28.2969\"/><text fill=\"#000000\" font-family=\"sans-serif\" font-size=\"14\" font-weight=\"bold\" lengthAdjust=\"spacingAndGlyphs\" textLength=\"58\" x=\"20\" y=\"20.9951\">PartTest</text></a><!--MD5=[d5e69f78d87373223dbae638b30a9c99]\n",
       "cluster E3--><a href=\"psysml:a2cad1be-c52d-4964-a87e-891cd7289f52\" target=\"_top\" title=\"psysml:a2cad1be-c52d-4964-a87e-891cd7289f52\" xlink:actuate=\"onRequest\" xlink:href=\"psysml:a2cad1be-c52d-4964-a87e-891cd7289f52\" xlink:show=\"new\" xlink:title=\"psysml:a2cad1be-c52d-4964-a87e-891cd7289f52\" xlink:type=\"simple\"><rect fill=\"#FFFFFF\" height=\"159\" id=\"E3\" style=\"stroke: #383838; stroke-width: 1.5;\" width=\"226\" x=\"410\" y=\"62.5\"/><rect fill=\"#F8F8F8\" height=\"37.9375\" style=\"stroke: #383838; stroke-width: 1.5;\" width=\"226\" x=\"410\" y=\"62.5\"/><text fill=\"#000000\" font-family=\"sans-serif\" font-size=\"12\" font-style=\"italic\" lengthAdjust=\"spacingAndGlyphs\" textLength=\"64\" x=\"491\" y=\"78.6387\">«part def»</text><text fill=\"#000000\" font-family=\"sans-serif\" font-size=\"12\" lengthAdjust=\"spacingAndGlyphs\" textLength=\"8\" x=\"519\" y=\"92.6074\">A</text></a><!--MD5=[55dfccfc6c49c2d10cd1bd2211a6c90c]\n",
       "cluster E8--><a href=\"psysml:bbb3af71-bfb9-47e2-863f-33482c8ff081\" target=\"_top\" title=\"psysml:bbb3af71-bfb9-47e2-863f-33482c8ff081\" xlink:actuate=\"onRequest\" xlink:href=\"psysml:bbb3af71-bfb9-47e2-863f-33482c8ff081\" xlink:show=\"new\" xlink:title=\"psysml:bbb3af71-bfb9-47e2-863f-33482c8ff081\" xlink:type=\"simple\"><rect fill=\"#FFFFFF\" height=\"162.5\" id=\"E8\" style=\"stroke: #383838; stroke-width: 1.5;\" width=\"205\" x=\"197\" y=\"62.5\"/><rect fill=\"#F8F8F8\" height=\"37.9375\" style=\"stroke: #383838; stroke-width: 1.5;\" width=\"205\" x=\"197\" y=\"62.5\"/><text fill=\"#000000\" font-family=\"sans-serif\" font-size=\"12\" font-style=\"italic\" lengthAdjust=\"spacingAndGlyphs\" textLength=\"64\" x=\"267.5\" y=\"78.6387\">«part def»</text><text fill=\"#000000\" font-family=\"sans-serif\" font-size=\"12\" lengthAdjust=\"spacingAndGlyphs\" textLength=\"8\" x=\"295.5\" y=\"92.6074\">B</text></a><g id=\"E1.E12\"><a href=\"psysml:a92372c2-fe41-425f-b40c-da5b8c1ca15d\" target=\"_top\" title=\"psysml:a92372c2-fe41-425f-b40c-da5b8c1ca15d\" xlink:actuate=\"onRequest\" xlink:href=\"psysml:a92372c2-fe41-425f-b40c-da5b8c1ca15d\" xlink:show=\"new\" xlink:title=\"psysml:a92372c2-fe41-425f-b40c-da5b8c1ca15d\" xlink:type=\"simple\"><rect fill=\"#FFFFFF\" height=\"42.9375\" id=\"E12\" style=\"stroke: #383838; stroke-width: 1.5;\" width=\"71\" x=\"117.5\" y=\"41\"/><rect fill=\"#F8F8F8\" height=\"37.9375\" style=\"stroke: #383838; stroke-width: 1.5;\" width=\"71\" x=\"117.5\" y=\"41\"/><text fill=\"#000000\" font-family=\"sans-serif\" font-size=\"12\" font-style=\"italic\" lengthAdjust=\"spacingAndGlyphs\" textLength=\"64\" x=\"121\" y=\"57.1387\">«port def»</text><text fill=\"#000000\" font-family=\"sans-serif\" font-size=\"12\" lengthAdjust=\"spacingAndGlyphs\" textLength=\"8\" x=\"149\" y=\"71.1074\">C</text></a></g><g id=\"E1.E2\"><a href=\"psysml:fef66b5f-1b9d-421e-94fe-86858427a029\" target=\"_top\" title=\"psysml:fef66b5f-1b9d-421e-94fe-86858427a029\" xlink:actuate=\"onRequest\" xlink:href=\"psysml:fef66b5f-1b9d-421e-94fe-86858427a029\" xlink:show=\"new\" xlink:title=\"psysml:fef66b5f-1b9d-421e-94fe-86858427a029\" xlink:type=\"simple\"><rect fill=\"#FFFFFF\" height=\"40\" id=\"E2\" rx=\"10\" ry=\"10\" style=\"stroke: #383838; stroke-width: 1.5;\" width=\"50\" x=\"32\" y=\"42.5\"/><rect fill=\"#F8F8F8\" height=\"23.9688\" rx=\"10\" ry=\"10\" style=\"stroke: #F8F8F8; stroke-width: 1.5;\" width=\"50\" x=\"32\" y=\"42.5\"/><rect fill=\"#F8F8F8\" height=\"10\" style=\"stroke: #F8F8F8; stroke-width: 1.5;\" width=\"50\" x=\"32\" y=\"56.4688\"/><rect fill=\"none\" height=\"40\" id=\"E2\" rx=\"10\" ry=\"10\" style=\"stroke: #383838; stroke-width: 1.5;\" width=\"50\" x=\"32\" y=\"42.5\"/><text fill=\"#000000\" font-family=\"sans-serif\" font-size=\"12\" lengthAdjust=\"spacingAndGlyphs\" textLength=\"20\" x=\"47\" y=\"58.6387\">f: A</text></a></g><text fill=\"#000000\" font-family=\"sans-serif\" font-size=\"14\" lengthAdjust=\"spacingAndGlyphs\" textLength=\"27\" x=\"562.5\" y=\"41.1982\">c: C</text><rect fill=\"#383838\" height=\"12\" style=\"stroke: #F8F8F8; stroke-width: 1.5;\" width=\"12\" x=\"570\" y=\"56.5\"/><!--MD5=[60a26617385b1d2d0262a64233df1f8d]\n",
       "class E6--><a href=\"psysml:4215315b-f4db-4a1d-ab72-0471726dcc45\" target=\"_top\" title=\"psysml:4215315b-f4db-4a1d-ab72-0471726dcc45\" xlink:actuate=\"onRequest\" xlink:href=\"psysml:4215315b-f4db-4a1d-ab72-0471726dcc45\" xlink:show=\"new\" xlink:title=\"psysml:4215315b-f4db-4a1d-ab72-0471726dcc45\" xlink:type=\"simple\"><rect fill=\"#FFFFFF\" height=\"45.9375\" id=\"E6\" rx=\"10\" ry=\"10\" style=\"stroke: #383838; stroke-width: 1.5;\" width=\"71\" x=\"426.5\" y=\"159.5\"/><text fill=\"#000000\" font-family=\"sans-serif\" font-size=\"12\" font-style=\"italic\" lengthAdjust=\"spacingAndGlyphs\" textLength=\"69\" x=\"427.5\" y=\"175.6387\">«attribute»</text><text fill=\"#000000\" font-family=\"sans-serif\" font-size=\"12\" lengthAdjust=\"spacingAndGlyphs\" textLength=\"6\" x=\"459\" y=\"189.6074\">x</text><line style=\"stroke: #383838; stroke-width: 1.5;\" x1=\"427.5\" x2=\"496.5\" y1=\"197.4375\" y2=\"197.4375\"/></a><!--MD5=[2156ba9850f5573cc1fc38a6a4b2f02b]\n",
       "class E7--><a href=\"psysml:89a85a0a-005f-45e8-8309-6769d170c6df\" target=\"_top\" title=\"psysml:89a85a0a-005f-45e8-8309-6769d170c6df\" xlink:actuate=\"onRequest\" xlink:href=\"psysml:89a85a0a-005f-45e8-8309-6769d170c6df\" xlink:show=\"new\" xlink:title=\"psysml:89a85a0a-005f-45e8-8309-6769d170c6df\" xlink:type=\"simple\"><rect fill=\"#FFFFFF\" height=\"45.9375\" id=\"E7\" rx=\"10\" ry=\"10\" style=\"stroke: #383838; stroke-width: 1.5;\" width=\"71\" x=\"426.5\" y=\"100\"/><text fill=\"#000000\" font-family=\"sans-serif\" font-size=\"12\" font-style=\"italic\" lengthAdjust=\"spacingAndGlyphs\" textLength=\"69\" x=\"427.5\" y=\"116.1387\">«attribute»</text><text fill=\"#000000\" font-family=\"sans-serif\" font-size=\"12\" lengthAdjust=\"spacingAndGlyphs\" textLength=\"6\" x=\"459\" y=\"130.1074\">y</text><line style=\"stroke: #383838; stroke-width: 1.5;\" x1=\"427.5\" x2=\"496.5\" y1=\"137.9375\" y2=\"137.9375\"/></a><g id=\"E1.E3.E4\"><a href=\"psysml:9dcf2186-613a-4b96-912f-a1b95f354387\" target=\"_top\" title=\"psysml:9dcf2186-613a-4b96-912f-a1b95f354387\" xlink:actuate=\"onRequest\" xlink:href=\"psysml:9dcf2186-613a-4b96-912f-a1b95f354387\" xlink:show=\"new\" xlink:title=\"psysml:9dcf2186-613a-4b96-912f-a1b95f354387\" xlink:type=\"simple\"><rect fill=\"#FFFFFF\" height=\"40\" id=\"E4\" rx=\"10\" ry=\"10\" style=\"stroke: #383838; stroke-width: 1.5;\" width=\"50\" x=\"551\" y=\"162.5\"/><rect fill=\"#F8F8F8\" height=\"23.9688\" rx=\"10\" ry=\"10\" style=\"stroke: #F8F8F8; stroke-width: 1.5;\" width=\"50\" x=\"551\" y=\"162.5\"/><rect fill=\"#F8F8F8\" height=\"10\" style=\"stroke: #F8F8F8; stroke-width: 1.5;\" width=\"50\" x=\"551\" y=\"176.4688\"/><rect fill=\"none\" height=\"40\" id=\"E4\" rx=\"10\" ry=\"10\" style=\"stroke: #383838; stroke-width: 1.5;\" width=\"50\" x=\"551\" y=\"162.5\"/><text fill=\"#000000\" font-family=\"sans-serif\" font-size=\"12\" lengthAdjust=\"spacingAndGlyphs\" textLength=\"24\" x=\"564\" y=\"178.6387\">b: B</text></a></g><text fill=\"#000000\" font-family=\"sans-serif\" font-size=\"14\" lengthAdjust=\"spacingAndGlyphs\" textLength=\"38\" x=\"323\" y=\"41.1982\">x: ~C</text><rect fill=\"#383838\" height=\"12\" style=\"stroke: #F8F8F8; stroke-width: 1.5;\" width=\"12\" x=\"336\" y=\"56.5\"/><g id=\"E1.E8.E9\"><a href=\"psysml:c128dc79-fecf-4cdb-b1ba-5850a9b121ec\" target=\"_top\" title=\"psysml:c128dc79-fecf-4cdb-b1ba-5850a9b121ec\" xlink:actuate=\"onRequest\" xlink:href=\"psysml:c128dc79-fecf-4cdb-b1ba-5850a9b121ec\" xlink:show=\"new\" xlink:title=\"psysml:c128dc79-fecf-4cdb-b1ba-5850a9b121ec\" xlink:type=\"simple\"><rect fill=\"#FFFFFF\" height=\"40\" id=\"E9\" rx=\"10\" ry=\"10\" style=\"stroke: #383838; stroke-width: 1.5;\" width=\"50\" x=\"213\" y=\"103\"/><rect fill=\"#F8F8F8\" height=\"23.9688\" rx=\"10\" ry=\"10\" style=\"stroke: #F8F8F8; stroke-width: 1.5;\" width=\"50\" x=\"213\" y=\"103\"/><rect fill=\"#F8F8F8\" height=\"10\" style=\"stroke: #F8F8F8; stroke-width: 1.5;\" width=\"50\" x=\"213\" y=\"116.9688\"/><rect fill=\"none\" height=\"40\" id=\"E9\" rx=\"10\" ry=\"10\" style=\"stroke: #383838; stroke-width: 1.5;\" width=\"50\" x=\"213\" y=\"103\"/><text fill=\"#000000\" font-family=\"sans-serif\" font-size=\"12\" lengthAdjust=\"spacingAndGlyphs\" textLength=\"24\" x=\"226\" y=\"119.1387\">a: A</text></a></g><a href=\"psysml:f4e4ee2b-1abf-4dbd-8483-2b091bdfceaf\" target=\"_top\" title=\"psysml:f4e4ee2b-1abf-4dbd-8483-2b091bdfceaf\" xlink:actuate=\"onRequest\" xlink:href=\"psysml:f4e4ee2b-1abf-4dbd-8483-2b091bdfceaf\" xlink:show=\"new\" xlink:title=\"psysml:f4e4ee2b-1abf-4dbd-8483-2b091bdfceaf\" xlink:type=\"simple\"><polygon fill=\"#FFFFFF\" points=\"327.5,156,342.5,156,349.5,178.2969,356.5,178.2969,356.5,208.5938,327.5,208.5938,327.5,156\" style=\"stroke: #000000; stroke-width: 1.5;\"/><line style=\"stroke: #000000; stroke-width: 1.5;\" x1=\"327.5\" x2=\"349.5\" y1=\"178.2969\" y2=\"178.2969\"/><text fill=\"#000000\" font-family=\"sans-serif\" font-size=\"14\" font-weight=\"bold\" lengthAdjust=\"spacingAndGlyphs\" textLength=\"9\" x=\"331.5\" y=\"170.9951\">P</text></a><!--MD5=[fbb449814971db3a0b8220cf225b9e01]\n",
       "link E7 to E6--><a href=\"psysml:786244db-8099-4288-b2d9-7a0aeaae101d\" target=\"_top\" title=\"psysml:786244db-8099-4288-b2d9-7a0aeaae101d\" xlink:actuate=\"onRequest\" xlink:href=\"psysml:786244db-8099-4288-b2d9-7a0aeaae101d\" xlink:show=\"new\" xlink:title=\"psysml:786244db-8099-4288-b2d9-7a0aeaae101d\" xlink:type=\"simple\"><path d=\"M462,146.07 C462,146.2 462,146.34 462,146.47 \" fill=\"none\" id=\"E7-&gt;E6\" style=\"stroke: #383838; stroke-width: 1.0;\"/><polygon fill=\"none\" points=\"469,139.21,462,159.21,455,139.21,469,139.21\" style=\"stroke: #383838; stroke-width: 1.0;\"/></a><!--MD5=[d24735858c0caf9bf4cff180dbaf2e65]\n",
       "@startuml\r\n",
       "skinparam ranksep 10\r\n",
       "skinparam rectangle {\r\n",
       " backgroundColor<<block>> LightGreen\r\n",
       "}\r\n",
       "skinparam monochrome true\r\n",
       "skinparam classbackgroundcolor white\r\n",
       "skinparam shadowing false\r\n",
       "skinparam wrapWidth 300\r\n",
       "hide circle\r\n",
       "\r\n",
       "package \"PartTest\" as E1  [[psysml:a6b62677-d27b-4bf3-83e0-375e3ba01a4b ]]  {\r\n",
       "rec usage \"f: A\" as E2  [[psysml:fef66b5f-1b9d-421e-94fe-86858427a029 ]] {\r\n",
       "}\r\n",
       "rec def \"A\" as E3  <<(T,blue) part def>> [[psysml:a2cad1be-c52d-4964-a87e-891cd7289f52 ]] {\r\n",
       "rec usage \"b: B\" as E4  [[psysml:9dcf2186-613a-4b96-912f-a1b95f354387 ]] {\r\n",
       "}\r\n",
       "portin \"c: C\" as E5  <<(T,blue) port>> [[psysml:a3147892-19dd-4d4c-8f64-71e53da800dc ]] \r\n",
       "comp usage \"x\" as E6  <<(T,blue) attribute>> [[psysml:4215315b-f4db-4a1d-ab72-0471726dcc45 ]] {\r\n",
       "}\r\n",
       "comp usage \"y\" as E7  <<(T,blue) attribute>> [[psysml:89a85a0a-005f-45e8-8309-6769d170c6df ]] {\r\n",
       "}\r\n",
       "}\r\n",
       "rec def \"B\" as E8  <<(T,blue) part def>> [[psysml:bbb3af71-bfb9-47e2-863f-33482c8ff081 ]] {\r\n",
       "rec usage \"a: A\" as E9  [[psysml:c128dc79-fecf-4cdb-b1ba-5850a9b121ec ]] {\r\n",
       "}\r\n",
       "portin \"x: ~C\" as E10  <<(T,blue) port>> [[psysml:540f6402-e62e-4ea3-b051-5d5cf5bfcb38 ]] \r\n",
       "package \"P\" as E11  [[psysml:f4e4ee2b-1abf-4dbd-8483-2b091bdfceaf ]]  {\r\n",
       "}\r\n",
       "}\r\n",
       "def \"C\" as E12  <<(T,blue) port def>> [[psysml:a92372c2-fe41-425f-b40c-da5b8c1ca15d ]] \r\n",
       "}\r\n",
       "E7 - -|> E6 [[psysml:786244db-8099-4288-b2d9-7a0aeaae101d ]] \r\n",
       "@enduml\r\n",
       "\n",
       "PlantUML version 1.2020.13(Sat Jun 13 12:26:38 UTC 2020)\n",
       "(EPL source distribution)\n",
       "Java Runtime: OpenJDK Runtime Environment\n",
       "JVM: OpenJDK 64-Bit Server VM\n",
       "Default Encoding: UTF-8\n",
       "Language: en\n",
       "Country: null\n",
       "--></g></svg>"
      ]
     },
     "execution_count": 40,
     "metadata": {},
     "output_type": "execute_result"
    }
   ],
   "source": [
    "%viz --style=\"DEFAULT\" --view=\"Interconnection\" \"PartTest\""
   ]
  },
  {
   "cell_type": "code",
   "execution_count": 41,
   "id": "ea958c69",
   "metadata": {
    "execution": {
     "iopub.execute_input": "2021-10-03T08:29:55.155779Z",
     "iopub.status.busy": "2021-10-03T08:29:55.155378Z",
     "iopub.status.idle": "2021-10-03T08:29:55.160634Z",
     "shell.execute_reply": "2021-10-03T08:29:55.160298Z"
    }
   },
   "outputs": [
    {
     "data": {
      "image/svg+xml": [
       "<?xml version=\"1.0\" encoding=\"UTF-8\" standalone=\"no\"?><svg xmlns=\"http://www.w3.org/2000/svg\" xmlns:xlink=\"http://www.w3.org/1999/xlink\" contentScriptType=\"application/ecmascript\" contentStyleType=\"text/css\" height=\"12px\" preserveAspectRatio=\"none\" style=\"width:12px;height:12px;\" version=\"1.1\" viewBox=\"0 0 12 12\" width=\"12px\" zoomAndPan=\"magnify\"><defs/><g><!--MD5=[388f21188e31bfdd97050473b19af356]\n",
       "@startuml\r\n",
       "skinparam ranksep 8\r\n",
       "skinparam monochrome true\r\n",
       "skinparam classbackgroundcolor white\r\n",
       "skinparam shadowing false\r\n",
       "skinparam wrapWidth 300\r\n",
       "hide circle\r\n",
       "\r\n",
       "@enduml\r\n",
       "\n",
       "PlantUML version 1.2020.13(Sat Jun 13 12:26:38 UTC 2020)\n",
       "(EPL source distribution)\n",
       "Java Runtime: OpenJDK Runtime Environment\n",
       "JVM: OpenJDK 64-Bit Server VM\n",
       "Default Encoding: UTF-8\n",
       "Language: en\n",
       "Country: null\n",
       "--></g></svg>"
      ]
     },
     "execution_count": 41,
     "metadata": {},
     "output_type": "execute_result"
    }
   ],
   "source": [
    "%viz --style=\"DEFAULT\" --view=\"Action\" \"PartTest\""
   ]
  },
  {
   "cell_type": "code",
   "execution_count": 42,
   "id": "afb97985",
   "metadata": {
    "execution": {
     "iopub.execute_input": "2021-10-03T08:29:55.209987Z",
     "iopub.status.busy": "2021-10-03T08:29:55.209587Z",
     "iopub.status.idle": "2021-10-03T08:29:55.214793Z",
     "shell.execute_reply": "2021-10-03T08:29:55.214460Z"
    }
   },
   "outputs": [
    {
     "data": {
      "image/svg+xml": [
       "<?xml version=\"1.0\" encoding=\"UTF-8\" standalone=\"no\"?><svg xmlns=\"http://www.w3.org/2000/svg\" xmlns:xlink=\"http://www.w3.org/1999/xlink\" contentScriptType=\"application/ecmascript\" contentStyleType=\"text/css\" height=\"12px\" preserveAspectRatio=\"none\" style=\"width:12px;height:12px;\" version=\"1.1\" viewBox=\"0 0 12 12\" width=\"12px\" zoomAndPan=\"magnify\"><defs/><g><!--MD5=[0b72472770326784bf6c2b53246e1e64]\n",
       "@startuml\r\n",
       "skinparam roundcorner 20\r\n",
       "skinparam BoxPadding 20\r\n",
       "skinparam SequenceBoxBackgroundColor #white\r\n",
       "skinparam style strictuml\r\n",
       "skinparam maxMessageSize 100\r\n",
       "skinparam monochrome true\r\n",
       "skinparam classbackgroundcolor white\r\n",
       "skinparam shadowing false\r\n",
       "skinparam wrapWidth 300\r\n",
       "hide circle\r\n",
       "\r\n",
       "@enduml\r\n",
       "\n",
       "PlantUML version 1.2020.13(Sat Jun 13 12:26:38 UTC 2020)\n",
       "(EPL source distribution)\n",
       "Java Runtime: OpenJDK Runtime Environment\n",
       "JVM: OpenJDK 64-Bit Server VM\n",
       "Default Encoding: UTF-8\n",
       "Language: en\n",
       "Country: null\n",
       "--></g></svg>"
      ]
     },
     "execution_count": 42,
     "metadata": {},
     "output_type": "execute_result"
    }
   ],
   "source": [
    "%viz --style=\"DEFAULT\" --view=\"Sequence\" \"PartTest\""
   ]
  },
  {
   "cell_type": "code",
   "execution_count": 43,
   "id": "c5996480",
   "metadata": {
    "execution": {
     "iopub.execute_input": "2021-10-03T08:29:55.264333Z",
     "iopub.status.busy": "2021-10-03T08:29:55.263932Z",
     "iopub.status.idle": "2021-10-03T08:29:55.329900Z",
     "shell.execute_reply": "2021-10-03T08:29:55.327913Z"
    }
   },
   "outputs": [
    {
     "data": {
      "image/svg+xml": [
       "<?xml version=\"1.0\" encoding=\"UTF-8\" standalone=\"no\"?><svg xmlns=\"http://www.w3.org/2000/svg\" xmlns:xlink=\"http://www.w3.org/1999/xlink\" contentScriptType=\"application/ecmascript\" contentStyleType=\"text/css\" height=\"760px\" preserveAspectRatio=\"none\" style=\"width:423px;height:760px;\" version=\"1.1\" viewBox=\"0 0 423 760\" width=\"423px\" zoomAndPan=\"magnify\"><defs/><g><!--MD5=[fbc87193dbaf4d95561dea2c320d4a47]\n",
       "cluster E1--><a href=\"psysml:a6b62677-d27b-4bf3-83e0-375e3ba01a4b\" target=\"_top\" title=\"psysml:a6b62677-d27b-4bf3-83e0-375e3ba01a4b\" xlink:actuate=\"onRequest\" xlink:href=\"psysml:a6b62677-d27b-4bf3-83e0-375e3ba01a4b\" xlink:show=\"new\" xlink:title=\"psysml:a6b62677-d27b-4bf3-83e0-375e3ba01a4b\" xlink:type=\"simple\"><polygon fill=\"#FFFFFF\" points=\"16,6,80,6,87,28.2969,401,28.2969,401,748,16,748,16,6\" style=\"stroke: #000000; stroke-width: 1.5;\"/><line style=\"stroke: #000000; stroke-width: 1.5;\" x1=\"16\" x2=\"87\" y1=\"28.2969\" y2=\"28.2969\"/><text fill=\"#000000\" font-family=\"sans-serif\" font-size=\"14\" font-weight=\"bold\" lengthAdjust=\"spacingAndGlyphs\" textLength=\"58\" x=\"20\" y=\"20.9951\">PartTest</text></a><!--MD5=[b4997ac47864f28c2f74865a473b2911]\n",
       "class E2--><a href=\"psysml:fef66b5f-1b9d-421e-94fe-86858427a029\" target=\"_top\" title=\"psysml:fef66b5f-1b9d-421e-94fe-86858427a029\" xlink:actuate=\"onRequest\" xlink:href=\"psysml:fef66b5f-1b9d-421e-94fe-86858427a029\" xlink:show=\"new\" xlink:title=\"psysml:fef66b5f-1b9d-421e-94fe-86858427a029\" xlink:type=\"simple\"><rect fill=\"#FFFFFF\" height=\"45.9375\" id=\"E2\" rx=\"10\" ry=\"10\" style=\"stroke: #383838; stroke-width: 1.5;\" width=\"42\" x=\"201\" y=\"41\"/><text fill=\"#000000\" font-family=\"sans-serif\" font-size=\"12\" font-style=\"italic\" lengthAdjust=\"spacingAndGlyphs\" textLength=\"40\" x=\"202\" y=\"57.1387\">«part»</text><text fill=\"#000000\" font-family=\"sans-serif\" font-size=\"12\" lengthAdjust=\"spacingAndGlyphs\" textLength=\"20\" x=\"212\" y=\"71.1074\">f: A</text><line style=\"stroke: #383838; stroke-width: 1.5;\" x1=\"202\" x2=\"242\" y1=\"78.9375\" y2=\"78.9375\"/></a><!--MD5=[09b614a08d8cba4a07c9adeb5e0fee81]\n",
       "class E3--><a href=\"psysml:a2cad1be-c52d-4964-a87e-891cd7289f52\" target=\"_top\" title=\"psysml:a2cad1be-c52d-4964-a87e-891cd7289f52\" xlink:actuate=\"onRequest\" xlink:href=\"psysml:a2cad1be-c52d-4964-a87e-891cd7289f52\" xlink:show=\"new\" xlink:title=\"psysml:a2cad1be-c52d-4964-a87e-891cd7289f52\" xlink:type=\"simple\"><rect fill=\"#FFFFFF\" height=\"88.3516\" id=\"E3\" style=\"stroke: #383838; stroke-width: 1.5;\" width=\"66\" x=\"189\" y=\"148\"/><text fill=\"#000000\" font-family=\"sans-serif\" font-size=\"12\" font-style=\"italic\" lengthAdjust=\"spacingAndGlyphs\" textLength=\"64\" x=\"190\" y=\"164.1387\">«part def»</text><text fill=\"#000000\" font-family=\"sans-serif\" font-size=\"12\" lengthAdjust=\"spacingAndGlyphs\" textLength=\"8\" x=\"218\" y=\"178.1074\">A</text><line style=\"stroke: #383838; stroke-width: 1.5;\" x1=\"190\" x2=\"254\" y1=\"185.9375\" y2=\"185.9375\"/><text fill=\"#000000\" font-family=\"sans-serif\" font-size=\"11\" lengthAdjust=\"spacingAndGlyphs\" textLength=\"6\" x=\"195\" y=\"216.9526\">x</text><text fill=\"#000000\" font-family=\"sans-serif\" font-size=\"11\" lengthAdjust=\"spacingAndGlyphs\" textLength=\"6\" x=\"195\" y=\"229.7573\">y</text><line style=\"stroke: #383838; stroke-width: 1.0;\" x1=\"190\" x2=\"194.5\" y1=\"200.3398\" y2=\"200.3398\"/><text fill=\"#000000\" font-family=\"sans-serif\" font-size=\"11\" lengthAdjust=\"spacingAndGlyphs\" textLength=\"55\" x=\"194.5\" y=\"203.6479\">attributes</text><line style=\"stroke: #383838; stroke-width: 1.0;\" x1=\"249.5\" x2=\"254\" y1=\"200.3398\" y2=\"200.3398\"/></a><!--MD5=[ebbe1d658d1005bcc118a6aa81145e00]\n",
       "class E4--><a href=\"psysml:9dcf2186-613a-4b96-912f-a1b95f354387\" target=\"_top\" title=\"psysml:9dcf2186-613a-4b96-912f-a1b95f354387\" xlink:actuate=\"onRequest\" xlink:href=\"psysml:9dcf2186-613a-4b96-912f-a1b95f354387\" xlink:show=\"new\" xlink:title=\"psysml:9dcf2186-613a-4b96-912f-a1b95f354387\" xlink:type=\"simple\"><rect fill=\"#FFFFFF\" height=\"45.9375\" id=\"E4\" rx=\"10\" ry=\"10\" style=\"stroke: #383838; stroke-width: 1.5;\" width=\"42\" x=\"323\" y=\"373\"/><text fill=\"#000000\" font-family=\"sans-serif\" font-size=\"12\" font-style=\"italic\" lengthAdjust=\"spacingAndGlyphs\" textLength=\"40\" x=\"324\" y=\"389.1387\">«part»</text><text fill=\"#000000\" font-family=\"sans-serif\" font-size=\"12\" lengthAdjust=\"spacingAndGlyphs\" textLength=\"24\" x=\"332\" y=\"403.1074\">b: B</text><line style=\"stroke: #383838; stroke-width: 1.5;\" x1=\"324\" x2=\"364\" y1=\"410.9375\" y2=\"410.9375\"/></a><!--MD5=[270fce915f116d4de14055a7c1d9a0f3]\n",
       "class E5--><a href=\"psysml:a3147892-19dd-4d4c-8f64-71e53da800dc\" target=\"_top\" title=\"psysml:a3147892-19dd-4d4c-8f64-71e53da800dc\" xlink:actuate=\"onRequest\" xlink:href=\"psysml:a3147892-19dd-4d4c-8f64-71e53da800dc\" xlink:show=\"new\" xlink:title=\"psysml:a3147892-19dd-4d4c-8f64-71e53da800dc\" xlink:type=\"simple\"><rect fill=\"#FFFFFF\" height=\"45.9375\" id=\"E5\" rx=\"10\" ry=\"10\" style=\"stroke: #383838; stroke-width: 1.5;\" width=\"42\" x=\"306\" y=\"297\"/><text fill=\"#000000\" font-family=\"sans-serif\" font-size=\"12\" font-style=\"italic\" lengthAdjust=\"spacingAndGlyphs\" textLength=\"40\" x=\"307\" y=\"313.1387\">«port»</text><text fill=\"#000000\" font-family=\"sans-serif\" font-size=\"12\" lengthAdjust=\"spacingAndGlyphs\" textLength=\"23\" x=\"315.5\" y=\"327.1074\">c: C</text><line style=\"stroke: #383838; stroke-width: 1.5;\" x1=\"307\" x2=\"347\" y1=\"334.9375\" y2=\"334.9375\"/></a><!--MD5=[60a26617385b1d2d0262a64233df1f8d]\n",
       "class E6--><a href=\"psysml:bbb3af71-bfb9-47e2-863f-33482c8ff081\" target=\"_top\" title=\"psysml:bbb3af71-bfb9-47e2-863f-33482c8ff081\" xlink:actuate=\"onRequest\" xlink:href=\"psysml:bbb3af71-bfb9-47e2-863f-33482c8ff081\" xlink:show=\"new\" xlink:title=\"psysml:bbb3af71-bfb9-47e2-863f-33482c8ff081\" xlink:type=\"simple\"><rect fill=\"#FFFFFF\" height=\"45.9375\" id=\"E6\" style=\"stroke: #383838; stroke-width: 1.5;\" width=\"66\" x=\"163\" y=\"572\"/><text fill=\"#000000\" font-family=\"sans-serif\" font-size=\"12\" font-style=\"italic\" lengthAdjust=\"spacingAndGlyphs\" textLength=\"64\" x=\"164\" y=\"588.1387\">«part def»</text><text fill=\"#000000\" font-family=\"sans-serif\" font-size=\"12\" lengthAdjust=\"spacingAndGlyphs\" textLength=\"8\" x=\"192\" y=\"602.1074\">B</text><line style=\"stroke: #383838; stroke-width: 1.5;\" x1=\"164\" x2=\"228\" y1=\"609.9375\" y2=\"609.9375\"/></a><!--MD5=[2156ba9850f5573cc1fc38a6a4b2f02b]\n",
       "class E7--><a href=\"psysml:c128dc79-fecf-4cdb-b1ba-5850a9b121ec\" target=\"_top\" title=\"psysml:c128dc79-fecf-4cdb-b1ba-5850a9b121ec\" xlink:actuate=\"onRequest\" xlink:href=\"psysml:c128dc79-fecf-4cdb-b1ba-5850a9b121ec\" xlink:show=\"new\" xlink:title=\"psysml:c128dc79-fecf-4cdb-b1ba-5850a9b121ec\" xlink:type=\"simple\"><rect fill=\"#FFFFFF\" height=\"45.9375\" id=\"E7\" rx=\"10\" ry=\"10\" style=\"stroke: #383838; stroke-width: 1.5;\" width=\"42\" x=\"58\" y=\"682.5\"/><text fill=\"#000000\" font-family=\"sans-serif\" font-size=\"12\" font-style=\"italic\" lengthAdjust=\"spacingAndGlyphs\" textLength=\"40\" x=\"59\" y=\"698.6387\">«part»</text><text fill=\"#000000\" font-family=\"sans-serif\" font-size=\"12\" lengthAdjust=\"spacingAndGlyphs\" textLength=\"24\" x=\"67\" y=\"712.6074\">a: A</text><line style=\"stroke: #383838; stroke-width: 1.5;\" x1=\"59\" x2=\"99\" y1=\"720.4375\" y2=\"720.4375\"/></a><!--MD5=[b9389687b975829384b498ac4b7476b2]\n",
       "class E8--><a href=\"psysml:540f6402-e62e-4ea3-b051-5d5cf5bfcb38\" target=\"_top\" title=\"psysml:540f6402-e62e-4ea3-b051-5d5cf5bfcb38\" xlink:actuate=\"onRequest\" xlink:href=\"psysml:540f6402-e62e-4ea3-b051-5d5cf5bfcb38\" xlink:show=\"new\" xlink:title=\"psysml:540f6402-e62e-4ea3-b051-5d5cf5bfcb38\" xlink:type=\"simple\"><rect fill=\"#FFFFFF\" height=\"45.9375\" id=\"E8\" rx=\"10\" ry=\"10\" style=\"stroke: #383838; stroke-width: 1.5;\" width=\"42\" x=\"213\" y=\"682.5\"/><text fill=\"#000000\" font-family=\"sans-serif\" font-size=\"12\" font-style=\"italic\" lengthAdjust=\"spacingAndGlyphs\" textLength=\"40\" x=\"214\" y=\"698.6387\">«port»</text><text fill=\"#000000\" font-family=\"sans-serif\" font-size=\"12\" lengthAdjust=\"spacingAndGlyphs\" textLength=\"32\" x=\"218\" y=\"712.6074\">x: ~C</text><line style=\"stroke: #383838; stroke-width: 1.5;\" x1=\"214\" x2=\"254\" y1=\"720.4375\" y2=\"720.4375\"/></a><!--MD5=[96f4274e9e20536e775497830990834d]\n",
       "class E10--><a href=\"psysml:a92372c2-fe41-425f-b40c-da5b8c1ca15d\" target=\"_top\" title=\"psysml:a92372c2-fe41-425f-b40c-da5b8c1ca15d\" xlink:actuate=\"onRequest\" xlink:href=\"psysml:a92372c2-fe41-425f-b40c-da5b8c1ca15d\" xlink:show=\"new\" xlink:title=\"psysml:a92372c2-fe41-425f-b40c-da5b8c1ca15d\" xlink:type=\"simple\"><rect fill=\"#FFFFFF\" height=\"45.9375\" id=\"E10\" style=\"stroke: #383838; stroke-width: 1.5;\" width=\"66\" x=\"163\" y=\"449\"/><text fill=\"#000000\" font-family=\"sans-serif\" font-size=\"12\" font-style=\"italic\" lengthAdjust=\"spacingAndGlyphs\" textLength=\"64\" x=\"164\" y=\"465.1387\">«port def»</text><text fill=\"#000000\" font-family=\"sans-serif\" font-size=\"12\" lengthAdjust=\"spacingAndGlyphs\" textLength=\"8\" x=\"192\" y=\"479.1074\">C</text><line style=\"stroke: #383838; stroke-width: 1.5;\" x1=\"164\" x2=\"228\" y1=\"486.9375\" y2=\"486.9375\"/></a><a href=\"psysml:f4e4ee2b-1abf-4dbd-8483-2b091bdfceaf\" target=\"_top\" title=\"psysml:f4e4ee2b-1abf-4dbd-8483-2b091bdfceaf\" xlink:actuate=\"onRequest\" xlink:href=\"psysml:f4e4ee2b-1abf-4dbd-8483-2b091bdfceaf\" xlink:show=\"new\" xlink:title=\"psysml:f4e4ee2b-1abf-4dbd-8483-2b091bdfceaf\" xlink:type=\"simple\"><polygon fill=\"#FFFFFF\" points=\"148.5,679,163.5,679,170.5,701.2969,177.5,701.2969,177.5,731.5938,148.5,731.5938,148.5,679\" style=\"stroke: #000000; stroke-width: 1.5;\"/><line style=\"stroke: #000000; stroke-width: 1.5;\" x1=\"148.5\" x2=\"170.5\" y1=\"701.2969\" y2=\"701.2969\"/><text fill=\"#000000\" font-family=\"sans-serif\" font-size=\"14\" font-weight=\"bold\" lengthAdjust=\"spacingAndGlyphs\" textLength=\"9\" x=\"152.5\" y=\"693.9951\">P</text></a><!--MD5=[2720a5a1f2c3fca2055b230370638851]\n",
       "link E2 to E3--><a href=\"psysml:488f6ee0-39a9-4dc0-b555-612cc99c37a1\" target=\"_top\" title=\"psysml:488f6ee0-39a9-4dc0-b555-612cc99c37a1\" xlink:actuate=\"onRequest\" xlink:href=\"psysml:488f6ee0-39a9-4dc0-b555-612cc99c37a1\" xlink:show=\"new\" xlink:title=\"psysml:488f6ee0-39a9-4dc0-b555-612cc99c37a1\" xlink:type=\"simple\"><path d=\"M222,87.24 C222,98.62 222,113.11 222,127.62 \" fill=\"none\" id=\"E2-&gt;E3\" style=\"stroke: #383838; stroke-width: 1.0;\"/><polygon fill=\"#FFFFFF\" points=\"222,147.84,215,128.84,229,128.84,222,147.84\" style=\"stroke: #383838; stroke-width: 1.0;\"/><ellipse cx=\"217\" cy=\"123.14\" fill=\"#383838\" rx=\"2\" ry=\"2\" style=\"stroke: #383838; stroke-width: 1.0;\"/><ellipse cx=\"227\" cy=\"123.14\" fill=\"#383838\" rx=\"2\" ry=\"2\" style=\"stroke: #383838; stroke-width: 1.0;\"/></a><!--MD5=[4672eba38e49728da53d11aeb285b987]\n",
       "reverse link E3 to E4--><a href=\"psysml:98712745-a638-4d1f-8ffc-380c342569c9\" target=\"_top\" title=\"psysml:98712745-a638-4d1f-8ffc-380c342569c9\" xlink:actuate=\"onRequest\" xlink:href=\"psysml:98712745-a638-4d1f-8ffc-380c342569c9\" xlink:show=\"new\" xlink:title=\"psysml:98712745-a638-4d1f-8ffc-380c342569c9\" xlink:type=\"simple\"><path d=\"M267.21,211.72 C301.24,228.53 345.43,256.77 366,297 C378.38,321.22 367.51,352.31 357.12,372.91 \" fill=\"none\" id=\"E3&lt;-E4\" style=\"stroke: #383838; stroke-width: 1.0;\"/><polygon fill=\"#383838\" points=\"255.19,206.05,258.9023,212.2321,266.0367,211.1831,262.3244,205.001,255.19,206.05\" style=\"stroke: #383838; stroke-width: 1.0;\"/><text fill=\"#000000\" font-family=\"sans-serif\" font-size=\"13\" lengthAdjust=\"spacingAndGlyphs\" textLength=\"8\" x=\"352.5085\" y=\"363.0064\">1</text></a><!--MD5=[191cde3d490a3f6d7bb551fe3ddca469]\n",
       "reverse link E3 to E5--><a href=\"psysml:3d3c789c-d512-4565-8d7c-059f8d1010f8\" target=\"_top\" title=\"psysml:3d3c789c-d512-4565-8d7c-059f8d1010f8\" xlink:actuate=\"onRequest\" xlink:href=\"psysml:3d3c789c-d512-4565-8d7c-059f8d1010f8\" xlink:show=\"new\" xlink:title=\"psysml:3d3c789c-d512-4565-8d7c-059f8d1010f8\" xlink:type=\"simple\"><path d=\"M263.71,243.06 C279.31,261.77 296.23,282.08 308.65,296.98 \" fill=\"none\" id=\"E3&lt;-E5\" style=\"stroke: #383838; stroke-width: 1.0;\"/><polygon fill=\"#FFFFFF\" points=\"255.22,232.87,255.9912,240.0397,262.9061,242.0854,262.1349,234.9157,255.22,232.87\" style=\"stroke: #383838; stroke-width: 1.0;\"/><text fill=\"#000000\" font-family=\"sans-serif\" font-size=\"13\" lengthAdjust=\"spacingAndGlyphs\" textLength=\"8\" x=\"294.6434\" y=\"285.8709\">1</text></a><!--MD5=[79568f1e445c3877b6a54524624ccc7d]\n",
       "link E4 to E6--><a href=\"psysml:1225703b-924d-44f0-aa92-4bca49ced0c9\" target=\"_top\" title=\"psysml:1225703b-924d-44f0-aa92-4bca49ced0c9\" xlink:actuate=\"onRequest\" xlink:href=\"psysml:1225703b-924d-44f0-aa92-4bca49ced0c9\" xlink:show=\"new\" xlink:title=\"psysml:1225703b-924d-44f0-aa92-4bca49ced0c9\" xlink:type=\"simple\"><path d=\"M327.31,419.22 C302.43,452.34 255.27,515.1 224.76,555.71 \" fill=\"none\" id=\"E4-&gt;E6\" style=\"stroke: #383838; stroke-width: 1.0;\"/><polygon fill=\"#FFFFFF\" points=\"212.63,571.87,218.4494,552.4758,229.641,560.887,212.63,571.87\" style=\"stroke: #383838; stroke-width: 1.0;\"/><ellipse cx=\"223.4728\" cy=\"549.1208\" fill=\"#383838\" rx=\"2\" ry=\"2\" style=\"stroke: #383838; stroke-width: 1.0;\"/><ellipse cx=\"231.4668\" cy=\"555.1288\" fill=\"#383838\" rx=\"2\" ry=\"2\" style=\"stroke: #383838; stroke-width: 1.0;\"/></a><!--MD5=[3f50a3473f1dfb74d3f76443e03635af]\n",
       "reverse link E6 to E7--><a href=\"psysml:a81e6d2d-a633-4d51-820c-a47602c519dd\" target=\"_top\" title=\"psysml:a81e6d2d-a633-4d51-820c-a47602c519dd\" xlink:actuate=\"onRequest\" xlink:href=\"psysml:a81e6d2d-a633-4d51-820c-a47602c519dd\" xlink:show=\"new\" xlink:title=\"psysml:a81e6d2d-a633-4d51-820c-a47602c519dd\" xlink:type=\"simple\"><path d=\"M162.35,627.2 C142.32,645.78 117.5,668.8 100.18,684.86 \" fill=\"none\" id=\"E6&lt;-E7\" style=\"stroke: #383838; stroke-width: 1.0;\"/><polygon fill=\"#383838\" points=\"172.04,618.22,164.9211,619.3695,163.2441,626.3829,170.363,625.2334,172.04,618.22\" style=\"stroke: #383838; stroke-width: 1.0;\"/><text fill=\"#000000\" font-family=\"sans-serif\" font-size=\"13\" lengthAdjust=\"spacingAndGlyphs\" textLength=\"8\" x=\"107.8914\" y=\"673.3389\">1</text></a><!--MD5=[14ccda38c055a5c0da953d572bc50960]\n",
       "link E7 to E3--><a href=\"psysml:4883cacd-6695-4e4a-8cc2-3609b81ec9a9\" target=\"_top\" title=\"psysml:4883cacd-6695-4e4a-8cc2-3609b81ec9a9\" xlink:actuate=\"onRequest\" xlink:href=\"psysml:4883cacd-6695-4e4a-8cc2-3609b81ec9a9\" xlink:show=\"new\" xlink:title=\"psysml:4883cacd-6695-4e4a-8cc2-3609b81ec9a9\" xlink:type=\"simple\"><path d=\"M63.43,682.38 C50.08,661.23 33,627.92 33,596 C33,319 33,319 33,319 C33,253.29 113.07,219.74 168.98,204.32 \" fill=\"none\" id=\"E7-&gt;E3\" style=\"stroke: #383838; stroke-width: 1.0;\"/><polygon fill=\"#FFFFFF\" points=\"188.65,199.35,171.9427,210.7897,168.5143,197.216,188.65,199.35\" style=\"stroke: #383838; stroke-width: 1.0;\"/><ellipse cx=\"165.9265\" cy=\"210.2465\" fill=\"#383838\" rx=\"2\" ry=\"2\" style=\"stroke: #383838; stroke-width: 1.0;\"/><ellipse cx=\"163.4776\" cy=\"200.5509\" fill=\"#383838\" rx=\"2\" ry=\"2\" style=\"stroke: #383838; stroke-width: 1.0;\"/></a><!--MD5=[f4cf0736d43fd73c4ef68817c49d37d5]\n",
       "reverse link E6 to E8--><a href=\"psysml:2d844c43-a52c-43bf-b052-a300acb2bf74\" target=\"_top\" title=\"psysml:2d844c43-a52c-43bf-b052-a300acb2bf74\" xlink:actuate=\"onRequest\" xlink:href=\"psysml:2d844c43-a52c-43bf-b052-a300acb2bf74\" xlink:show=\"new\" xlink:title=\"psysml:2d844c43-a52c-43bf-b052-a300acb2bf74\" xlink:type=\"simple\"><path d=\"M208.25,630.98 C214.15,647.83 221.06,667.54 226.23,682.31 \" fill=\"none\" id=\"E6&lt;-E8\" style=\"stroke: #383838; stroke-width: 1.0;\"/><polygon fill=\"#FFFFFF\" points=\"203.78,618.22,201.9892,625.2052,207.7483,629.5449,209.5391,622.5597,203.78,618.22\" style=\"stroke: #383838; stroke-width: 1.0;\"/><text fill=\"#000000\" font-family=\"sans-serif\" font-size=\"13\" lengthAdjust=\"spacingAndGlyphs\" textLength=\"8\" x=\"215.2139\" y=\"671.5376\">1</text></a><!--MD5=[e88d06e5a652d73a6b19930eefe025a8]\n",
       "reverse link E6 to E9--><a href=\"psysml:5153bd7e-9106-496d-98a6-0d3fae0d20a5\" target=\"_top\" title=\"psysml:5153bd7e-9106-496d-98a6-0d3fae0d20a5\" xlink:actuate=\"onRequest\" xlink:href=\"psysml:5153bd7e-9106-496d-98a6-0d3fae0d20a5\" xlink:show=\"new\" xlink:title=\"psysml:5153bd7e-9106-496d-98a6-0d3fae0d20a5\" xlink:type=\"simple\"><path d=\"M184.74,633.01 C180.15,648.11 174.95,665.2 170.79,678.88 \" fill=\"none\" id=\"E6&lt;-E9\" style=\"stroke: #383838; stroke-width: 1.0;\"/><ellipse cx=\"186.9098\" cy=\"625.8731\" fill=\"#FFFFFF\" rx=\"8\" ry=\"8\" style=\"stroke: #383838; stroke-width: 1.0;\"/><line style=\"stroke: #383838; stroke-width: 1.0;\" x1=\"184.5796\" x2=\"189.24\" y1=\"633.5262\" y2=\"618.22\"/><line style=\"stroke: #383838; stroke-width: 1.0;\" x1=\"179.2567\" x2=\"194.5629\" y1=\"623.5429\" y2=\"628.2033\"/></a><!--MD5=[f78a29d5932556fa1060671a2a6507d8]\n",
       "link E5 to E10--><a href=\"psysml:63374559-c2a0-4cf8-92a3-b39a3ed3eac1\" target=\"_top\" title=\"psysml:63374559-c2a0-4cf8-92a3-b39a3ed3eac1\" xlink:actuate=\"onRequest\" xlink:href=\"psysml:63374559-c2a0-4cf8-92a3-b39a3ed3eac1\" xlink:show=\"new\" xlink:title=\"psysml:63374559-c2a0-4cf8-92a3-b39a3ed3eac1\" xlink:type=\"simple\"><path d=\"M317.86,343.05 C308.35,364.19 291.92,396.17 271,419 C263.6,427.07 254.73,434.58 245.72,441.23 \" fill=\"none\" id=\"E5-&gt;E10\" style=\"stroke: #383838; stroke-width: 1.0;\"/><polygon fill=\"#FFFFFF\" points=\"229.11,452.57,240.857,436.0773,248.7493,447.6407,229.11,452.57\" style=\"stroke: #383838; stroke-width: 1.0;\"/><ellipse cx=\"246.6924\" cy=\"434.5159\" fill=\"#383838\" rx=\"2\" ry=\"2\" style=\"stroke: #383838; stroke-width: 1.0;\"/><ellipse cx=\"252.3298\" cy=\"442.7755\" fill=\"#383838\" rx=\"2\" ry=\"2\" style=\"stroke: #383838; stroke-width: 1.0;\"/></a><!--MD5=[8e04057e7b3cbc0dca4fc78ea351e2da]\n",
       "reverse link E10 to E3--><a href=\"psysml:e24d69b8-a494-4022-9892-35ed42c85155\" target=\"_top\" title=\"psysml:e24d69b8-a494-4022-9892-35ed42c85155\" xlink:actuate=\"onRequest\" xlink:href=\"psysml:e24d69b8-a494-4022-9892-35ed42c85155\" xlink:show=\"new\" xlink:title=\"psysml:e24d69b8-a494-4022-9892-35ed42c85155\" xlink:type=\"simple\"><path d=\"M169.12,438.19 C143.87,403.2 112.53,346.17 131,297 C142.56,266.23 167.81,238.61 188.79,219.58 \" fill=\"none\" id=\"E10&lt;-E3\" style=\"stroke: #383838; stroke-width: 1.0;\"/><polygon fill=\"#FFFFFF\" points=\"177.03,448.74,176.63,441.54,169.83,439.14,170.23,446.34,177.03,448.74\" style=\"stroke: #383838; stroke-width: 1.0;\"/><text fill=\"#000000\" font-family=\"sans-serif\" font-size=\"13\" lengthAdjust=\"spacingAndGlyphs\" textLength=\"7\" x=\"132\" y=\"324.5669\">y</text></a><!--MD5=[8e04057e7b3cbc0dca4fc78ea351e2da]\n",
       "reverse link E10 to E3--><a href=\"psysml:e24d69b8-a494-4022-9892-35ed42c85155\" target=\"_top\" title=\"psysml:e24d69b8-a494-4022-9892-35ed42c85155\" xlink:actuate=\"onRequest\" xlink:href=\"psysml:e24d69b8-a494-4022-9892-35ed42c85155\" xlink:show=\"new\" xlink:title=\"psysml:e24d69b8-a494-4022-9892-35ed42c85155\" xlink:type=\"simple\"><path d=\"M198.5,435.41 C201.06,400.21 205.32,344.85 210,297 C211.96,277.01 214.46,254.9 216.67,236.23 \" fill=\"none\" id=\"E10&lt;-E3-1\" style=\"stroke: #383838; stroke-width: 1.0;\"/><polygon fill=\"#FFFFFF\" points=\"197.54,448.73,201.9587,443.0313,198.3978,436.7607,193.9791,442.4594,197.54,448.73\" style=\"stroke: #383838; stroke-width: 1.0;\"/><text fill=\"#000000\" font-family=\"sans-serif\" font-size=\"13\" lengthAdjust=\"spacingAndGlyphs\" textLength=\"7\" x=\"211\" y=\"324.5669\">y</text></a><!--MD5=[8e04057e7b3cbc0dca4fc78ea351e2da]\n",
       "reverse link E10 to E3--><a href=\"psysml:e24d69b8-a494-4022-9892-35ed42c85155\" target=\"_top\" title=\"psysml:e24d69b8-a494-4022-9892-35ed42c85155\" xlink:actuate=\"onRequest\" xlink:href=\"psysml:e24d69b8-a494-4022-9892-35ed42c85155\" xlink:show=\"new\" xlink:title=\"psysml:e24d69b8-a494-4022-9892-35ed42c85155\" xlink:type=\"simple\"><path d=\"M205.88,436.08 C207.35,430.39 208.78,424.55 210,419 C217.35,385.53 220.1,377.15 223,343 C224.73,322.63 223.1,317.44 223,297 C222.9,276.96 222.7,254.74 222.51,236.01 \" fill=\"none\" id=\"E10&lt;-E3-2\" style=\"stroke: #383838; stroke-width: 1.0;\"/><polygon fill=\"#FFFFFF\" points=\"202.46,448.84,207.879,444.0824,205.5716,437.2504,200.1526,442.008,202.46,448.84\" style=\"stroke: #383838; stroke-width: 1.0;\"/><text fill=\"#000000\" font-family=\"sans-serif\" font-size=\"13\" lengthAdjust=\"spacingAndGlyphs\" textLength=\"7\" x=\"224\" y=\"324.5669\">y</text></a><!--MD5=[604cbf994c02b74b117f728a71673cea]\n",
       "reverse link E10 to E6--><a href=\"psysml:e24d69b8-a494-4022-9892-35ed42c85155\" target=\"_top\" title=\"psysml:e24d69b8-a494-4022-9892-35ed42c85155\" xlink:actuate=\"onRequest\" xlink:href=\"psysml:e24d69b8-a494-4022-9892-35ed42c85155\" xlink:show=\"new\" xlink:title=\"psysml:e24d69b8-a494-4022-9892-35ed42c85155\" xlink:type=\"simple\"><path d=\"M204.39,508.23 C206.07,519.04 207.05,530.99 206,542 C205.06,551.88 203.13,562.68 201.22,571.87 \" fill=\"none\" id=\"E10&lt;-E6\" style=\"stroke: #383838; stroke-width: 1.0;\"/><polygon fill=\"#FFFFFF\" points=\"201.97,495.31,199.1398,501.9425,204.1735,507.106,207.0037,500.4735,201.97,495.31\" style=\"stroke: #383838; stroke-width: 1.0;\"/><text fill=\"#000000\" font-family=\"sans-serif\" font-size=\"13\" lengthAdjust=\"spacingAndGlyphs\" textLength=\"7\" x=\"207\" y=\"538.0669\">y</text></a><!--MD5=[604cbf994c02b74b117f728a71673cea]\n",
       "reverse link E10 to E6--><a href=\"psysml:e24d69b8-a494-4022-9892-35ed42c85155\" target=\"_top\" title=\"psysml:e24d69b8-a494-4022-9892-35ed42c85155\" xlink:actuate=\"onRequest\" xlink:href=\"psysml:e24d69b8-a494-4022-9892-35ed42c85155\" xlink:show=\"new\" xlink:title=\"psysml:e24d69b8-a494-4022-9892-35ed42c85155\" xlink:type=\"simple\"><path d=\"M160.04,504.87 C155.13,511.03 150.81,517.82 148,525 C141.3,542.12 152.83,559.11 166.26,571.94 \" fill=\"none\" id=\"E10&lt;-E6-1\" style=\"stroke: #383838; stroke-width: 1.0;\"/><polygon fill=\"#FFFFFF\" points=\"168.73,495.16,161.7505,496.973,160.7396,504.1129,167.7191,502.2999,168.73,495.16\" style=\"stroke: #383838; stroke-width: 1.0;\"/><text fill=\"#000000\" font-family=\"sans-serif\" font-size=\"13\" lengthAdjust=\"spacingAndGlyphs\" textLength=\"7\" x=\"149\" y=\"538.0669\">y</text></a><!--MD5=[604cbf994c02b74b117f728a71673cea]\n",
       "reverse link E10 to E6--><a href=\"psysml:e24d69b8-a494-4022-9892-35ed42c85155\" target=\"_top\" title=\"psysml:e24d69b8-a494-4022-9892-35ed42c85155\" xlink:actuate=\"onRequest\" xlink:href=\"psysml:e24d69b8-a494-4022-9892-35ed42c85155\" xlink:show=\"new\" xlink:title=\"psysml:e24d69b8-a494-4022-9892-35ed42c85155\" xlink:type=\"simple\"><path d=\"M196,508.22 C196,528.81 196,554.16 196,571.95 \" fill=\"none\" id=\"E10&lt;-E6-2\" style=\"stroke: #383838; stroke-width: 1.0;\"/><polygon fill=\"#FFFFFF\" points=\"196,495.19,192,501.19,196,507.19,200,501.19,196,495.19\" style=\"stroke: #383838; stroke-width: 1.0;\"/><text fill=\"#000000\" font-family=\"sans-serif\" font-size=\"13\" lengthAdjust=\"spacingAndGlyphs\" textLength=\"7\" x=\"197\" y=\"538.0669\">y</text></a><!--MD5=[5459d6c90ab50344b4b8fa4ce14b2ab4]\n",
       "@startuml\r\n",
       "skinparam monochrome true\r\n",
       "skinparam classbackgroundcolor white\r\n",
       "skinparam shadowing false\r\n",
       "skinparam wrapWidth 300\r\n",
       "hide circle\r\n",
       "\r\n",
       "package \"PartTest\" as E1  [[psysml:a6b62677-d27b-4bf3-83e0-375e3ba01a4b ]]  {\r\n",
       "comp usage \"f: A\" as E2  <<(T,blue) part>> [[psysml:fef66b5f-1b9d-421e-94fe-86858427a029 ]] {\r\n",
       "}\r\n",
       "comp def \"A\" as E3  <<(T,blue) part def>> [[psysml:a2cad1be-c52d-4964-a87e-891cd7289f52 ]] {\r\n",
       "- - attributes - -\r\n",
       "x\r\n",
       "y\r\n",
       "}\r\n",
       "comp usage \"b: B\" as E4  <<(T,blue) part>> [[psysml:9dcf2186-613a-4b96-912f-a1b95f354387 ]] {\r\n",
       "}\r\n",
       "comp usage \"c: C\" as E5  <<(T,blue) port>> [[psysml:a3147892-19dd-4d4c-8f64-71e53da800dc ]] {\r\n",
       "}\r\n",
       "comp def \"B\" as E6  <<(T,blue) part def>> [[psysml:bbb3af71-bfb9-47e2-863f-33482c8ff081 ]] {\r\n",
       "}\r\n",
       "comp usage \"a: A\" as E7  <<(T,blue) part>> [[psysml:c128dc79-fecf-4cdb-b1ba-5850a9b121ec ]] {\r\n",
       "}\r\n",
       "comp usage \"x: ~C\" as E8  <<(T,blue) port>> [[psysml:540f6402-e62e-4ea3-b051-5d5cf5bfcb38 ]] {\r\n",
       "}\r\n",
       "package \"P\" as E9  [[psysml:f4e4ee2b-1abf-4dbd-8483-2b091bdfceaf ]]  {\r\n",
       "}\r\n",
       "comp def \"C\" as E10  <<(T,blue) port def>> [[psysml:a92372c2-fe41-425f-b40c-da5b8c1ca15d ]] {\r\n",
       "}\r\n",
       "}\r\n",
       "E2 - -:|> E3 [[psysml:488f6ee0-39a9-4dc0-b555-612cc99c37a1 ]] \r\n",
       "E3 *- - \"1\"E4 [[psysml:98712745-a638-4d1f-8ffc-380c342569c9 ]] \r\n",
       "E3 o- - \"1\"E5 [[psysml:3d3c789c-d512-4565-8d7c-059f8d1010f8 ]] \r\n",
       "E4 - -:|> E6 [[psysml:1225703b-924d-44f0-aa92-4bca49ced0c9 ]] \r\n",
       "E6 *- - \"1\"E7 [[psysml:a81e6d2d-a633-4d51-820c-a47602c519dd ]] \r\n",
       "E7 - -:|> E3 [[psysml:4883cacd-6695-4e4a-8cc2-3609b81ec9a9 ]] \r\n",
       "E6 o- - \"1\"E8 [[psysml:2d844c43-a52c-43bf-b052-a300acb2bf74 ]] \r\n",
       "E6 +- - E9 [[psysml:5153bd7e-9106-496d-98a6-0d3fae0d20a5 ]] \r\n",
       "E5 - -:|> E10 [[psysml:63374559-c2a0-4cf8-92a3-b39a3ed3eac1 ]] \r\n",
       "E10 o- - E3 [[psysml:e24d69b8-a494-4022-9892-35ed42c85155 ]] : y\r\n",
       "E10 o- - E6 [[psysml:e24d69b8-a494-4022-9892-35ed42c85155 ]] : y\r\n",
       "E10 o- - E3 [[psysml:e24d69b8-a494-4022-9892-35ed42c85155 ]] : y\r\n",
       "E10 o- - E6 [[psysml:e24d69b8-a494-4022-9892-35ed42c85155 ]] : y\r\n",
       "E10 o- - E3 [[psysml:e24d69b8-a494-4022-9892-35ed42c85155 ]] : y\r\n",
       "E10 o- - E6 [[psysml:e24d69b8-a494-4022-9892-35ed42c85155 ]] : y\r\n",
       "@enduml\r\n",
       "\n",
       "PlantUML version 1.2020.13(Sat Jun 13 12:26:38 UTC 2020)\n",
       "(EPL source distribution)\n",
       "Java Runtime: OpenJDK Runtime Environment\n",
       "JVM: OpenJDK 64-Bit Server VM\n",
       "Default Encoding: UTF-8\n",
       "Language: en\n",
       "Country: null\n",
       "--></g></svg>"
      ]
     },
     "execution_count": 43,
     "metadata": {},
     "output_type": "execute_result"
    }
   ],
   "source": [
    "%viz --style=\"DEFAULT\" --view=\"MIXED\" \"PartTest\""
   ]
  },
  {
   "cell_type": "code",
   "execution_count": 44,
   "id": "20588789",
   "metadata": {
    "execution": {
     "iopub.execute_input": "2021-10-03T08:29:55.378669Z",
     "iopub.status.busy": "2021-10-03T08:29:55.378166Z",
     "iopub.status.idle": "2021-10-03T08:29:55.437598Z",
     "shell.execute_reply": "2021-10-03T08:29:55.437188Z"
    }
   },
   "outputs": [
    {
     "data": {
      "image/svg+xml": [
       "<?xml version=\"1.0\" encoding=\"UTF-8\" standalone=\"no\"?><svg xmlns=\"http://www.w3.org/2000/svg\" xmlns:xlink=\"http://www.w3.org/1999/xlink\" contentScriptType=\"application/ecmascript\" contentStyleType=\"text/css\" height=\"760px\" preserveAspectRatio=\"none\" style=\"width:423px;height:760px;\" version=\"1.1\" viewBox=\"0 0 423 760\" width=\"423px\" zoomAndPan=\"magnify\"><defs/><g><!--MD5=[fbc87193dbaf4d95561dea2c320d4a47]\n",
       "cluster E1--><a href=\"psysml:a6b62677-d27b-4bf3-83e0-375e3ba01a4b\" target=\"_top\" title=\"psysml:a6b62677-d27b-4bf3-83e0-375e3ba01a4b\" xlink:actuate=\"onRequest\" xlink:href=\"psysml:a6b62677-d27b-4bf3-83e0-375e3ba01a4b\" xlink:show=\"new\" xlink:title=\"psysml:a6b62677-d27b-4bf3-83e0-375e3ba01a4b\" xlink:type=\"simple\"><polygon fill=\"#FFFFFF\" points=\"16,6,80,6,87,28.2969,401,28.2969,401,748,16,748,16,6\" style=\"stroke: #000000; stroke-width: 1.5;\"/><line style=\"stroke: #000000; stroke-width: 1.5;\" x1=\"16\" x2=\"87\" y1=\"28.2969\" y2=\"28.2969\"/><text fill=\"#000000\" font-family=\"sans-serif\" font-size=\"14\" font-weight=\"bold\" lengthAdjust=\"spacingAndGlyphs\" textLength=\"58\" x=\"20\" y=\"20.9951\">PartTest</text></a><!--MD5=[b4997ac47864f28c2f74865a473b2911]\n",
       "class E2--><a href=\"psysml:fef66b5f-1b9d-421e-94fe-86858427a029\" target=\"_top\" title=\"psysml:fef66b5f-1b9d-421e-94fe-86858427a029\" xlink:actuate=\"onRequest\" xlink:href=\"psysml:fef66b5f-1b9d-421e-94fe-86858427a029\" xlink:show=\"new\" xlink:title=\"psysml:fef66b5f-1b9d-421e-94fe-86858427a029\" xlink:type=\"simple\"><rect fill=\"#FFFFFF\" height=\"45.9375\" id=\"E2\" rx=\"10\" ry=\"10\" style=\"stroke: #383838; stroke-width: 1.5;\" width=\"42\" x=\"201\" y=\"41\"/><text fill=\"#000000\" font-family=\"sans-serif\" font-size=\"12\" font-style=\"italic\" lengthAdjust=\"spacingAndGlyphs\" textLength=\"40\" x=\"202\" y=\"57.1387\">«part»</text><text fill=\"#000000\" font-family=\"sans-serif\" font-size=\"12\" lengthAdjust=\"spacingAndGlyphs\" textLength=\"20\" x=\"212\" y=\"71.1074\">f: A</text><line style=\"stroke: #383838; stroke-width: 1.5;\" x1=\"202\" x2=\"242\" y1=\"78.9375\" y2=\"78.9375\"/></a><!--MD5=[09b614a08d8cba4a07c9adeb5e0fee81]\n",
       "class E3--><a href=\"psysml:a2cad1be-c52d-4964-a87e-891cd7289f52\" target=\"_top\" title=\"psysml:a2cad1be-c52d-4964-a87e-891cd7289f52\" xlink:actuate=\"onRequest\" xlink:href=\"psysml:a2cad1be-c52d-4964-a87e-891cd7289f52\" xlink:show=\"new\" xlink:title=\"psysml:a2cad1be-c52d-4964-a87e-891cd7289f52\" xlink:type=\"simple\"><rect fill=\"#FFFFFF\" height=\"88.3516\" id=\"E3\" style=\"stroke: #383838; stroke-width: 1.5;\" width=\"66\" x=\"189\" y=\"148\"/><text fill=\"#000000\" font-family=\"sans-serif\" font-size=\"12\" font-style=\"italic\" lengthAdjust=\"spacingAndGlyphs\" textLength=\"64\" x=\"190\" y=\"164.1387\">«part def»</text><text fill=\"#000000\" font-family=\"sans-serif\" font-size=\"12\" lengthAdjust=\"spacingAndGlyphs\" textLength=\"8\" x=\"218\" y=\"178.1074\">A</text><line style=\"stroke: #383838; stroke-width: 1.5;\" x1=\"190\" x2=\"254\" y1=\"185.9375\" y2=\"185.9375\"/><text fill=\"#000000\" font-family=\"sans-serif\" font-size=\"11\" lengthAdjust=\"spacingAndGlyphs\" textLength=\"6\" x=\"195\" y=\"216.9526\">x</text><text fill=\"#000000\" font-family=\"sans-serif\" font-size=\"11\" lengthAdjust=\"spacingAndGlyphs\" textLength=\"6\" x=\"195\" y=\"229.7573\">y</text><line style=\"stroke: #383838; stroke-width: 1.0;\" x1=\"190\" x2=\"194.5\" y1=\"200.3398\" y2=\"200.3398\"/><text fill=\"#000000\" font-family=\"sans-serif\" font-size=\"11\" lengthAdjust=\"spacingAndGlyphs\" textLength=\"55\" x=\"194.5\" y=\"203.6479\">attributes</text><line style=\"stroke: #383838; stroke-width: 1.0;\" x1=\"249.5\" x2=\"254\" y1=\"200.3398\" y2=\"200.3398\"/></a><!--MD5=[ebbe1d658d1005bcc118a6aa81145e00]\n",
       "class E4--><a href=\"psysml:9dcf2186-613a-4b96-912f-a1b95f354387\" target=\"_top\" title=\"psysml:9dcf2186-613a-4b96-912f-a1b95f354387\" xlink:actuate=\"onRequest\" xlink:href=\"psysml:9dcf2186-613a-4b96-912f-a1b95f354387\" xlink:show=\"new\" xlink:title=\"psysml:9dcf2186-613a-4b96-912f-a1b95f354387\" xlink:type=\"simple\"><rect fill=\"#FFFFFF\" height=\"45.9375\" id=\"E4\" rx=\"10\" ry=\"10\" style=\"stroke: #383838; stroke-width: 1.5;\" width=\"42\" x=\"323\" y=\"373\"/><text fill=\"#000000\" font-family=\"sans-serif\" font-size=\"12\" font-style=\"italic\" lengthAdjust=\"spacingAndGlyphs\" textLength=\"40\" x=\"324\" y=\"389.1387\">«part»</text><text fill=\"#000000\" font-family=\"sans-serif\" font-size=\"12\" lengthAdjust=\"spacingAndGlyphs\" textLength=\"24\" x=\"332\" y=\"403.1074\">b: B</text><line style=\"stroke: #383838; stroke-width: 1.5;\" x1=\"324\" x2=\"364\" y1=\"410.9375\" y2=\"410.9375\"/></a><!--MD5=[270fce915f116d4de14055a7c1d9a0f3]\n",
       "class E5--><a href=\"psysml:a3147892-19dd-4d4c-8f64-71e53da800dc\" target=\"_top\" title=\"psysml:a3147892-19dd-4d4c-8f64-71e53da800dc\" xlink:actuate=\"onRequest\" xlink:href=\"psysml:a3147892-19dd-4d4c-8f64-71e53da800dc\" xlink:show=\"new\" xlink:title=\"psysml:a3147892-19dd-4d4c-8f64-71e53da800dc\" xlink:type=\"simple\"><rect fill=\"#FFFFFF\" height=\"45.9375\" id=\"E5\" rx=\"10\" ry=\"10\" style=\"stroke: #383838; stroke-width: 1.5;\" width=\"42\" x=\"306\" y=\"297\"/><text fill=\"#000000\" font-family=\"sans-serif\" font-size=\"12\" font-style=\"italic\" lengthAdjust=\"spacingAndGlyphs\" textLength=\"40\" x=\"307\" y=\"313.1387\">«port»</text><text fill=\"#000000\" font-family=\"sans-serif\" font-size=\"12\" lengthAdjust=\"spacingAndGlyphs\" textLength=\"23\" x=\"315.5\" y=\"327.1074\">c: C</text><line style=\"stroke: #383838; stroke-width: 1.5;\" x1=\"307\" x2=\"347\" y1=\"334.9375\" y2=\"334.9375\"/></a><!--MD5=[60a26617385b1d2d0262a64233df1f8d]\n",
       "class E6--><a href=\"psysml:bbb3af71-bfb9-47e2-863f-33482c8ff081\" target=\"_top\" title=\"psysml:bbb3af71-bfb9-47e2-863f-33482c8ff081\" xlink:actuate=\"onRequest\" xlink:href=\"psysml:bbb3af71-bfb9-47e2-863f-33482c8ff081\" xlink:show=\"new\" xlink:title=\"psysml:bbb3af71-bfb9-47e2-863f-33482c8ff081\" xlink:type=\"simple\"><rect fill=\"#FFFFFF\" height=\"45.9375\" id=\"E6\" style=\"stroke: #383838; stroke-width: 1.5;\" width=\"66\" x=\"163\" y=\"572\"/><text fill=\"#000000\" font-family=\"sans-serif\" font-size=\"12\" font-style=\"italic\" lengthAdjust=\"spacingAndGlyphs\" textLength=\"64\" x=\"164\" y=\"588.1387\">«part def»</text><text fill=\"#000000\" font-family=\"sans-serif\" font-size=\"12\" lengthAdjust=\"spacingAndGlyphs\" textLength=\"8\" x=\"192\" y=\"602.1074\">B</text><line style=\"stroke: #383838; stroke-width: 1.5;\" x1=\"164\" x2=\"228\" y1=\"609.9375\" y2=\"609.9375\"/></a><!--MD5=[2156ba9850f5573cc1fc38a6a4b2f02b]\n",
       "class E7--><a href=\"psysml:c128dc79-fecf-4cdb-b1ba-5850a9b121ec\" target=\"_top\" title=\"psysml:c128dc79-fecf-4cdb-b1ba-5850a9b121ec\" xlink:actuate=\"onRequest\" xlink:href=\"psysml:c128dc79-fecf-4cdb-b1ba-5850a9b121ec\" xlink:show=\"new\" xlink:title=\"psysml:c128dc79-fecf-4cdb-b1ba-5850a9b121ec\" xlink:type=\"simple\"><rect fill=\"#FFFFFF\" height=\"45.9375\" id=\"E7\" rx=\"10\" ry=\"10\" style=\"stroke: #383838; stroke-width: 1.5;\" width=\"42\" x=\"58\" y=\"682.5\"/><text fill=\"#000000\" font-family=\"sans-serif\" font-size=\"12\" font-style=\"italic\" lengthAdjust=\"spacingAndGlyphs\" textLength=\"40\" x=\"59\" y=\"698.6387\">«part»</text><text fill=\"#000000\" font-family=\"sans-serif\" font-size=\"12\" lengthAdjust=\"spacingAndGlyphs\" textLength=\"24\" x=\"67\" y=\"712.6074\">a: A</text><line style=\"stroke: #383838; stroke-width: 1.5;\" x1=\"59\" x2=\"99\" y1=\"720.4375\" y2=\"720.4375\"/></a><!--MD5=[b9389687b975829384b498ac4b7476b2]\n",
       "class E8--><a href=\"psysml:540f6402-e62e-4ea3-b051-5d5cf5bfcb38\" target=\"_top\" title=\"psysml:540f6402-e62e-4ea3-b051-5d5cf5bfcb38\" xlink:actuate=\"onRequest\" xlink:href=\"psysml:540f6402-e62e-4ea3-b051-5d5cf5bfcb38\" xlink:show=\"new\" xlink:title=\"psysml:540f6402-e62e-4ea3-b051-5d5cf5bfcb38\" xlink:type=\"simple\"><rect fill=\"#FFFFFF\" height=\"45.9375\" id=\"E8\" rx=\"10\" ry=\"10\" style=\"stroke: #383838; stroke-width: 1.5;\" width=\"42\" x=\"213\" y=\"682.5\"/><text fill=\"#000000\" font-family=\"sans-serif\" font-size=\"12\" font-style=\"italic\" lengthAdjust=\"spacingAndGlyphs\" textLength=\"40\" x=\"214\" y=\"698.6387\">«port»</text><text fill=\"#000000\" font-family=\"sans-serif\" font-size=\"12\" lengthAdjust=\"spacingAndGlyphs\" textLength=\"32\" x=\"218\" y=\"712.6074\">x: ~C</text><line style=\"stroke: #383838; stroke-width: 1.5;\" x1=\"214\" x2=\"254\" y1=\"720.4375\" y2=\"720.4375\"/></a><!--MD5=[96f4274e9e20536e775497830990834d]\n",
       "class E10--><a href=\"psysml:a92372c2-fe41-425f-b40c-da5b8c1ca15d\" target=\"_top\" title=\"psysml:a92372c2-fe41-425f-b40c-da5b8c1ca15d\" xlink:actuate=\"onRequest\" xlink:href=\"psysml:a92372c2-fe41-425f-b40c-da5b8c1ca15d\" xlink:show=\"new\" xlink:title=\"psysml:a92372c2-fe41-425f-b40c-da5b8c1ca15d\" xlink:type=\"simple\"><rect fill=\"#FFFFFF\" height=\"45.9375\" id=\"E10\" style=\"stroke: #383838; stroke-width: 1.5;\" width=\"66\" x=\"163\" y=\"449\"/><text fill=\"#000000\" font-family=\"sans-serif\" font-size=\"12\" font-style=\"italic\" lengthAdjust=\"spacingAndGlyphs\" textLength=\"64\" x=\"164\" y=\"465.1387\">«port def»</text><text fill=\"#000000\" font-family=\"sans-serif\" font-size=\"12\" lengthAdjust=\"spacingAndGlyphs\" textLength=\"8\" x=\"192\" y=\"479.1074\">C</text><line style=\"stroke: #383838; stroke-width: 1.5;\" x1=\"164\" x2=\"228\" y1=\"486.9375\" y2=\"486.9375\"/></a><a href=\"psysml:f4e4ee2b-1abf-4dbd-8483-2b091bdfceaf\" target=\"_top\" title=\"psysml:f4e4ee2b-1abf-4dbd-8483-2b091bdfceaf\" xlink:actuate=\"onRequest\" xlink:href=\"psysml:f4e4ee2b-1abf-4dbd-8483-2b091bdfceaf\" xlink:show=\"new\" xlink:title=\"psysml:f4e4ee2b-1abf-4dbd-8483-2b091bdfceaf\" xlink:type=\"simple\"><polygon fill=\"#FFFFFF\" points=\"148.5,679,163.5,679,170.5,701.2969,177.5,701.2969,177.5,731.5938,148.5,731.5938,148.5,679\" style=\"stroke: #000000; stroke-width: 1.5;\"/><line style=\"stroke: #000000; stroke-width: 1.5;\" x1=\"148.5\" x2=\"170.5\" y1=\"701.2969\" y2=\"701.2969\"/><text fill=\"#000000\" font-family=\"sans-serif\" font-size=\"14\" font-weight=\"bold\" lengthAdjust=\"spacingAndGlyphs\" textLength=\"9\" x=\"152.5\" y=\"693.9951\">P</text></a><!--MD5=[2720a5a1f2c3fca2055b230370638851]\n",
       "link E2 to E3--><a href=\"psysml:488f6ee0-39a9-4dc0-b555-612cc99c37a1\" target=\"_top\" title=\"psysml:488f6ee0-39a9-4dc0-b555-612cc99c37a1\" xlink:actuate=\"onRequest\" xlink:href=\"psysml:488f6ee0-39a9-4dc0-b555-612cc99c37a1\" xlink:show=\"new\" xlink:title=\"psysml:488f6ee0-39a9-4dc0-b555-612cc99c37a1\" xlink:type=\"simple\"><path d=\"M222,87.24 C222,98.62 222,113.11 222,127.62 \" fill=\"none\" id=\"E2-&gt;E3\" style=\"stroke: #383838; stroke-width: 1.0;\"/><polygon fill=\"#FFFFFF\" points=\"222,147.84,215,128.84,229,128.84,222,147.84\" style=\"stroke: #383838; stroke-width: 1.0;\"/><ellipse cx=\"217\" cy=\"123.14\" fill=\"#383838\" rx=\"2\" ry=\"2\" style=\"stroke: #383838; stroke-width: 1.0;\"/><ellipse cx=\"227\" cy=\"123.14\" fill=\"#383838\" rx=\"2\" ry=\"2\" style=\"stroke: #383838; stroke-width: 1.0;\"/></a><!--MD5=[4672eba38e49728da53d11aeb285b987]\n",
       "reverse link E3 to E4--><a href=\"psysml:98712745-a638-4d1f-8ffc-380c342569c9\" target=\"_top\" title=\"psysml:98712745-a638-4d1f-8ffc-380c342569c9\" xlink:actuate=\"onRequest\" xlink:href=\"psysml:98712745-a638-4d1f-8ffc-380c342569c9\" xlink:show=\"new\" xlink:title=\"psysml:98712745-a638-4d1f-8ffc-380c342569c9\" xlink:type=\"simple\"><path d=\"M267.21,211.72 C301.24,228.53 345.43,256.77 366,297 C378.38,321.22 367.51,352.31 357.12,372.91 \" fill=\"none\" id=\"E3&lt;-E4\" style=\"stroke: #383838; stroke-width: 1.0;\"/><polygon fill=\"#383838\" points=\"255.19,206.05,258.9023,212.2321,266.0367,211.1831,262.3244,205.001,255.19,206.05\" style=\"stroke: #383838; stroke-width: 1.0;\"/><text fill=\"#000000\" font-family=\"sans-serif\" font-size=\"13\" lengthAdjust=\"spacingAndGlyphs\" textLength=\"8\" x=\"352.5085\" y=\"363.0064\">1</text></a><!--MD5=[191cde3d490a3f6d7bb551fe3ddca469]\n",
       "reverse link E3 to E5--><a href=\"psysml:3d3c789c-d512-4565-8d7c-059f8d1010f8\" target=\"_top\" title=\"psysml:3d3c789c-d512-4565-8d7c-059f8d1010f8\" xlink:actuate=\"onRequest\" xlink:href=\"psysml:3d3c789c-d512-4565-8d7c-059f8d1010f8\" xlink:show=\"new\" xlink:title=\"psysml:3d3c789c-d512-4565-8d7c-059f8d1010f8\" xlink:type=\"simple\"><path d=\"M263.71,243.06 C279.31,261.77 296.23,282.08 308.65,296.98 \" fill=\"none\" id=\"E3&lt;-E5\" style=\"stroke: #383838; stroke-width: 1.0;\"/><polygon fill=\"#FFFFFF\" points=\"255.22,232.87,255.9912,240.0397,262.9061,242.0854,262.1349,234.9157,255.22,232.87\" style=\"stroke: #383838; stroke-width: 1.0;\"/><text fill=\"#000000\" font-family=\"sans-serif\" font-size=\"13\" lengthAdjust=\"spacingAndGlyphs\" textLength=\"8\" x=\"294.6434\" y=\"285.8709\">1</text></a><!--MD5=[79568f1e445c3877b6a54524624ccc7d]\n",
       "link E4 to E6--><a href=\"psysml:1225703b-924d-44f0-aa92-4bca49ced0c9\" target=\"_top\" title=\"psysml:1225703b-924d-44f0-aa92-4bca49ced0c9\" xlink:actuate=\"onRequest\" xlink:href=\"psysml:1225703b-924d-44f0-aa92-4bca49ced0c9\" xlink:show=\"new\" xlink:title=\"psysml:1225703b-924d-44f0-aa92-4bca49ced0c9\" xlink:type=\"simple\"><path d=\"M327.31,419.22 C302.43,452.34 255.27,515.1 224.76,555.71 \" fill=\"none\" id=\"E4-&gt;E6\" style=\"stroke: #383838; stroke-width: 1.0;\"/><polygon fill=\"#FFFFFF\" points=\"212.63,571.87,218.4494,552.4758,229.641,560.887,212.63,571.87\" style=\"stroke: #383838; stroke-width: 1.0;\"/><ellipse cx=\"223.4728\" cy=\"549.1208\" fill=\"#383838\" rx=\"2\" ry=\"2\" style=\"stroke: #383838; stroke-width: 1.0;\"/><ellipse cx=\"231.4668\" cy=\"555.1288\" fill=\"#383838\" rx=\"2\" ry=\"2\" style=\"stroke: #383838; stroke-width: 1.0;\"/></a><!--MD5=[3f50a3473f1dfb74d3f76443e03635af]\n",
       "reverse link E6 to E7--><a href=\"psysml:a81e6d2d-a633-4d51-820c-a47602c519dd\" target=\"_top\" title=\"psysml:a81e6d2d-a633-4d51-820c-a47602c519dd\" xlink:actuate=\"onRequest\" xlink:href=\"psysml:a81e6d2d-a633-4d51-820c-a47602c519dd\" xlink:show=\"new\" xlink:title=\"psysml:a81e6d2d-a633-4d51-820c-a47602c519dd\" xlink:type=\"simple\"><path d=\"M162.35,627.2 C142.32,645.78 117.5,668.8 100.18,684.86 \" fill=\"none\" id=\"E6&lt;-E7\" style=\"stroke: #383838; stroke-width: 1.0;\"/><polygon fill=\"#383838\" points=\"172.04,618.22,164.9211,619.3695,163.2441,626.3829,170.363,625.2334,172.04,618.22\" style=\"stroke: #383838; stroke-width: 1.0;\"/><text fill=\"#000000\" font-family=\"sans-serif\" font-size=\"13\" lengthAdjust=\"spacingAndGlyphs\" textLength=\"8\" x=\"107.8914\" y=\"673.3389\">1</text></a><!--MD5=[14ccda38c055a5c0da953d572bc50960]\n",
       "link E7 to E3--><a href=\"psysml:4883cacd-6695-4e4a-8cc2-3609b81ec9a9\" target=\"_top\" title=\"psysml:4883cacd-6695-4e4a-8cc2-3609b81ec9a9\" xlink:actuate=\"onRequest\" xlink:href=\"psysml:4883cacd-6695-4e4a-8cc2-3609b81ec9a9\" xlink:show=\"new\" xlink:title=\"psysml:4883cacd-6695-4e4a-8cc2-3609b81ec9a9\" xlink:type=\"simple\"><path d=\"M63.43,682.38 C50.08,661.23 33,627.92 33,596 C33,319 33,319 33,319 C33,253.29 113.07,219.74 168.98,204.32 \" fill=\"none\" id=\"E7-&gt;E3\" style=\"stroke: #383838; stroke-width: 1.0;\"/><polygon fill=\"#FFFFFF\" points=\"188.65,199.35,171.9427,210.7897,168.5143,197.216,188.65,199.35\" style=\"stroke: #383838; stroke-width: 1.0;\"/><ellipse cx=\"165.9265\" cy=\"210.2465\" fill=\"#383838\" rx=\"2\" ry=\"2\" style=\"stroke: #383838; stroke-width: 1.0;\"/><ellipse cx=\"163.4776\" cy=\"200.5509\" fill=\"#383838\" rx=\"2\" ry=\"2\" style=\"stroke: #383838; stroke-width: 1.0;\"/></a><!--MD5=[f4cf0736d43fd73c4ef68817c49d37d5]\n",
       "reverse link E6 to E8--><a href=\"psysml:2d844c43-a52c-43bf-b052-a300acb2bf74\" target=\"_top\" title=\"psysml:2d844c43-a52c-43bf-b052-a300acb2bf74\" xlink:actuate=\"onRequest\" xlink:href=\"psysml:2d844c43-a52c-43bf-b052-a300acb2bf74\" xlink:show=\"new\" xlink:title=\"psysml:2d844c43-a52c-43bf-b052-a300acb2bf74\" xlink:type=\"simple\"><path d=\"M208.25,630.98 C214.15,647.83 221.06,667.54 226.23,682.31 \" fill=\"none\" id=\"E6&lt;-E8\" style=\"stroke: #383838; stroke-width: 1.0;\"/><polygon fill=\"#FFFFFF\" points=\"203.78,618.22,201.9892,625.2052,207.7483,629.5449,209.5391,622.5597,203.78,618.22\" style=\"stroke: #383838; stroke-width: 1.0;\"/><text fill=\"#000000\" font-family=\"sans-serif\" font-size=\"13\" lengthAdjust=\"spacingAndGlyphs\" textLength=\"8\" x=\"215.2139\" y=\"671.5376\">1</text></a><!--MD5=[e88d06e5a652d73a6b19930eefe025a8]\n",
       "reverse link E6 to E9--><a href=\"psysml:5153bd7e-9106-496d-98a6-0d3fae0d20a5\" target=\"_top\" title=\"psysml:5153bd7e-9106-496d-98a6-0d3fae0d20a5\" xlink:actuate=\"onRequest\" xlink:href=\"psysml:5153bd7e-9106-496d-98a6-0d3fae0d20a5\" xlink:show=\"new\" xlink:title=\"psysml:5153bd7e-9106-496d-98a6-0d3fae0d20a5\" xlink:type=\"simple\"><path d=\"M184.74,633.01 C180.15,648.11 174.95,665.2 170.79,678.88 \" fill=\"none\" id=\"E6&lt;-E9\" style=\"stroke: #383838; stroke-width: 1.0;\"/><ellipse cx=\"186.9098\" cy=\"625.8731\" fill=\"#FFFFFF\" rx=\"8\" ry=\"8\" style=\"stroke: #383838; stroke-width: 1.0;\"/><line style=\"stroke: #383838; stroke-width: 1.0;\" x1=\"184.5796\" x2=\"189.24\" y1=\"633.5262\" y2=\"618.22\"/><line style=\"stroke: #383838; stroke-width: 1.0;\" x1=\"179.2567\" x2=\"194.5629\" y1=\"623.5429\" y2=\"628.2033\"/></a><!--MD5=[f78a29d5932556fa1060671a2a6507d8]\n",
       "link E5 to E10--><a href=\"psysml:63374559-c2a0-4cf8-92a3-b39a3ed3eac1\" target=\"_top\" title=\"psysml:63374559-c2a0-4cf8-92a3-b39a3ed3eac1\" xlink:actuate=\"onRequest\" xlink:href=\"psysml:63374559-c2a0-4cf8-92a3-b39a3ed3eac1\" xlink:show=\"new\" xlink:title=\"psysml:63374559-c2a0-4cf8-92a3-b39a3ed3eac1\" xlink:type=\"simple\"><path d=\"M317.86,343.05 C308.35,364.19 291.92,396.17 271,419 C263.6,427.07 254.73,434.58 245.72,441.23 \" fill=\"none\" id=\"E5-&gt;E10\" style=\"stroke: #383838; stroke-width: 1.0;\"/><polygon fill=\"#FFFFFF\" points=\"229.11,452.57,240.857,436.0773,248.7493,447.6407,229.11,452.57\" style=\"stroke: #383838; stroke-width: 1.0;\"/><ellipse cx=\"246.6924\" cy=\"434.5159\" fill=\"#383838\" rx=\"2\" ry=\"2\" style=\"stroke: #383838; stroke-width: 1.0;\"/><ellipse cx=\"252.3298\" cy=\"442.7755\" fill=\"#383838\" rx=\"2\" ry=\"2\" style=\"stroke: #383838; stroke-width: 1.0;\"/></a><!--MD5=[8e04057e7b3cbc0dca4fc78ea351e2da]\n",
       "reverse link E10 to E3--><a href=\"psysml:e24d69b8-a494-4022-9892-35ed42c85155\" target=\"_top\" title=\"psysml:e24d69b8-a494-4022-9892-35ed42c85155\" xlink:actuate=\"onRequest\" xlink:href=\"psysml:e24d69b8-a494-4022-9892-35ed42c85155\" xlink:show=\"new\" xlink:title=\"psysml:e24d69b8-a494-4022-9892-35ed42c85155\" xlink:type=\"simple\"><path d=\"M169.12,438.19 C143.87,403.2 112.53,346.17 131,297 C142.56,266.23 167.81,238.61 188.79,219.58 \" fill=\"none\" id=\"E10&lt;-E3\" style=\"stroke: #383838; stroke-width: 1.0;\"/><polygon fill=\"#FFFFFF\" points=\"177.03,448.74,176.63,441.54,169.83,439.14,170.23,446.34,177.03,448.74\" style=\"stroke: #383838; stroke-width: 1.0;\"/><text fill=\"#000000\" font-family=\"sans-serif\" font-size=\"13\" lengthAdjust=\"spacingAndGlyphs\" textLength=\"7\" x=\"132\" y=\"324.5669\">y</text></a><!--MD5=[8e04057e7b3cbc0dca4fc78ea351e2da]\n",
       "reverse link E10 to E3--><a href=\"psysml:e24d69b8-a494-4022-9892-35ed42c85155\" target=\"_top\" title=\"psysml:e24d69b8-a494-4022-9892-35ed42c85155\" xlink:actuate=\"onRequest\" xlink:href=\"psysml:e24d69b8-a494-4022-9892-35ed42c85155\" xlink:show=\"new\" xlink:title=\"psysml:e24d69b8-a494-4022-9892-35ed42c85155\" xlink:type=\"simple\"><path d=\"M198.5,435.41 C201.06,400.21 205.32,344.85 210,297 C211.96,277.01 214.46,254.9 216.67,236.23 \" fill=\"none\" id=\"E10&lt;-E3-1\" style=\"stroke: #383838; stroke-width: 1.0;\"/><polygon fill=\"#FFFFFF\" points=\"197.54,448.73,201.9587,443.0313,198.3978,436.7607,193.9791,442.4594,197.54,448.73\" style=\"stroke: #383838; stroke-width: 1.0;\"/><text fill=\"#000000\" font-family=\"sans-serif\" font-size=\"13\" lengthAdjust=\"spacingAndGlyphs\" textLength=\"7\" x=\"211\" y=\"324.5669\">y</text></a><!--MD5=[8e04057e7b3cbc0dca4fc78ea351e2da]\n",
       "reverse link E10 to E3--><a href=\"psysml:e24d69b8-a494-4022-9892-35ed42c85155\" target=\"_top\" title=\"psysml:e24d69b8-a494-4022-9892-35ed42c85155\" xlink:actuate=\"onRequest\" xlink:href=\"psysml:e24d69b8-a494-4022-9892-35ed42c85155\" xlink:show=\"new\" xlink:title=\"psysml:e24d69b8-a494-4022-9892-35ed42c85155\" xlink:type=\"simple\"><path d=\"M205.88,436.08 C207.35,430.39 208.78,424.55 210,419 C217.35,385.53 220.1,377.15 223,343 C224.73,322.63 223.1,317.44 223,297 C222.9,276.96 222.7,254.74 222.51,236.01 \" fill=\"none\" id=\"E10&lt;-E3-2\" style=\"stroke: #383838; stroke-width: 1.0;\"/><polygon fill=\"#FFFFFF\" points=\"202.46,448.84,207.879,444.0824,205.5716,437.2504,200.1526,442.008,202.46,448.84\" style=\"stroke: #383838; stroke-width: 1.0;\"/><text fill=\"#000000\" font-family=\"sans-serif\" font-size=\"13\" lengthAdjust=\"spacingAndGlyphs\" textLength=\"7\" x=\"224\" y=\"324.5669\">y</text></a><!--MD5=[604cbf994c02b74b117f728a71673cea]\n",
       "reverse link E10 to E6--><a href=\"psysml:e24d69b8-a494-4022-9892-35ed42c85155\" target=\"_top\" title=\"psysml:e24d69b8-a494-4022-9892-35ed42c85155\" xlink:actuate=\"onRequest\" xlink:href=\"psysml:e24d69b8-a494-4022-9892-35ed42c85155\" xlink:show=\"new\" xlink:title=\"psysml:e24d69b8-a494-4022-9892-35ed42c85155\" xlink:type=\"simple\"><path d=\"M204.39,508.23 C206.07,519.04 207.05,530.99 206,542 C205.06,551.88 203.13,562.68 201.22,571.87 \" fill=\"none\" id=\"E10&lt;-E6\" style=\"stroke: #383838; stroke-width: 1.0;\"/><polygon fill=\"#FFFFFF\" points=\"201.97,495.31,199.1398,501.9425,204.1735,507.106,207.0037,500.4735,201.97,495.31\" style=\"stroke: #383838; stroke-width: 1.0;\"/><text fill=\"#000000\" font-family=\"sans-serif\" font-size=\"13\" lengthAdjust=\"spacingAndGlyphs\" textLength=\"7\" x=\"207\" y=\"538.0669\">y</text></a><!--MD5=[604cbf994c02b74b117f728a71673cea]\n",
       "reverse link E10 to E6--><a href=\"psysml:e24d69b8-a494-4022-9892-35ed42c85155\" target=\"_top\" title=\"psysml:e24d69b8-a494-4022-9892-35ed42c85155\" xlink:actuate=\"onRequest\" xlink:href=\"psysml:e24d69b8-a494-4022-9892-35ed42c85155\" xlink:show=\"new\" xlink:title=\"psysml:e24d69b8-a494-4022-9892-35ed42c85155\" xlink:type=\"simple\"><path d=\"M160.04,504.87 C155.13,511.03 150.81,517.82 148,525 C141.3,542.12 152.83,559.11 166.26,571.94 \" fill=\"none\" id=\"E10&lt;-E6-1\" style=\"stroke: #383838; stroke-width: 1.0;\"/><polygon fill=\"#FFFFFF\" points=\"168.73,495.16,161.7505,496.973,160.7396,504.1129,167.7191,502.2999,168.73,495.16\" style=\"stroke: #383838; stroke-width: 1.0;\"/><text fill=\"#000000\" font-family=\"sans-serif\" font-size=\"13\" lengthAdjust=\"spacingAndGlyphs\" textLength=\"7\" x=\"149\" y=\"538.0669\">y</text></a><!--MD5=[604cbf994c02b74b117f728a71673cea]\n",
       "reverse link E10 to E6--><a href=\"psysml:e24d69b8-a494-4022-9892-35ed42c85155\" target=\"_top\" title=\"psysml:e24d69b8-a494-4022-9892-35ed42c85155\" xlink:actuate=\"onRequest\" xlink:href=\"psysml:e24d69b8-a494-4022-9892-35ed42c85155\" xlink:show=\"new\" xlink:title=\"psysml:e24d69b8-a494-4022-9892-35ed42c85155\" xlink:type=\"simple\"><path d=\"M196,508.22 C196,528.81 196,554.16 196,571.95 \" fill=\"none\" id=\"E10&lt;-E6-2\" style=\"stroke: #383838; stroke-width: 1.0;\"/><polygon fill=\"#FFFFFF\" points=\"196,495.19,192,501.19,196,507.19,200,501.19,196,495.19\" style=\"stroke: #383838; stroke-width: 1.0;\"/><text fill=\"#000000\" font-family=\"sans-serif\" font-size=\"13\" lengthAdjust=\"spacingAndGlyphs\" textLength=\"7\" x=\"197\" y=\"538.0669\">y</text></a><!--MD5=[8720e47200bd942a073cefbb5e4e8bca]\n",
       "@startuml\r\n",
       "top to bottom direction\r\n",
       "skinparam monochrome true\r\n",
       "skinparam classbackgroundcolor white\r\n",
       "skinparam shadowing false\r\n",
       "skinparam wrapWidth 300\r\n",
       "hide circle\r\n",
       "\r\n",
       "package \"PartTest\" as E1  [[psysml:a6b62677-d27b-4bf3-83e0-375e3ba01a4b ]]  {\r\n",
       "comp usage \"f: A\" as E2  <<(T,blue) part>> [[psysml:fef66b5f-1b9d-421e-94fe-86858427a029 ]] {\r\n",
       "}\r\n",
       "comp def \"A\" as E3  <<(T,blue) part def>> [[psysml:a2cad1be-c52d-4964-a87e-891cd7289f52 ]] {\r\n",
       "- - attributes - -\r\n",
       "x\r\n",
       "y\r\n",
       "}\r\n",
       "comp usage \"b: B\" as E4  <<(T,blue) part>> [[psysml:9dcf2186-613a-4b96-912f-a1b95f354387 ]] {\r\n",
       "}\r\n",
       "comp usage \"c: C\" as E5  <<(T,blue) port>> [[psysml:a3147892-19dd-4d4c-8f64-71e53da800dc ]] {\r\n",
       "}\r\n",
       "comp def \"B\" as E6  <<(T,blue) part def>> [[psysml:bbb3af71-bfb9-47e2-863f-33482c8ff081 ]] {\r\n",
       "}\r\n",
       "comp usage \"a: A\" as E7  <<(T,blue) part>> [[psysml:c128dc79-fecf-4cdb-b1ba-5850a9b121ec ]] {\r\n",
       "}\r\n",
       "comp usage \"x: ~C\" as E8  <<(T,blue) port>> [[psysml:540f6402-e62e-4ea3-b051-5d5cf5bfcb38 ]] {\r\n",
       "}\r\n",
       "package \"P\" as E9  [[psysml:f4e4ee2b-1abf-4dbd-8483-2b091bdfceaf ]]  {\r\n",
       "}\r\n",
       "comp def \"C\" as E10  <<(T,blue) port def>> [[psysml:a92372c2-fe41-425f-b40c-da5b8c1ca15d ]] {\r\n",
       "}\r\n",
       "}\r\n",
       "E2 - -:|> E3 [[psysml:488f6ee0-39a9-4dc0-b555-612cc99c37a1 ]] \r\n",
       "E3 *- - \"1\"E4 [[psysml:98712745-a638-4d1f-8ffc-380c342569c9 ]] \r\n",
       "E3 o- - \"1\"E5 [[psysml:3d3c789c-d512-4565-8d7c-059f8d1010f8 ]] \r\n",
       "E4 - -:|> E6 [[psysml:1225703b-924d-44f0-aa92-4bca49ced0c9 ]] \r\n",
       "E6 *- - \"1\"E7 [[psysml:a81e6d2d-a633-4d51-820c-a47602c519dd ]] \r\n",
       "E7 - -:|> E3 [[psysml:4883cacd-6695-4e4a-8cc2-3609b81ec9a9 ]] \r\n",
       "E6 o- - \"1\"E8 [[psysml:2d844c43-a52c-43bf-b052-a300acb2bf74 ]] \r\n",
       "E6 +- - E9 [[psysml:5153bd7e-9106-496d-98a6-0d3fae0d20a5 ]] \r\n",
       "E5 - -:|> E10 [[psysml:63374559-c2a0-4cf8-92a3-b39a3ed3eac1 ]] \r\n",
       "E10 o- - E3 [[psysml:e24d69b8-a494-4022-9892-35ed42c85155 ]] : y\r\n",
       "E10 o- - E6 [[psysml:e24d69b8-a494-4022-9892-35ed42c85155 ]] : y\r\n",
       "E10 o- - E3 [[psysml:e24d69b8-a494-4022-9892-35ed42c85155 ]] : y\r\n",
       "E10 o- - E6 [[psysml:e24d69b8-a494-4022-9892-35ed42c85155 ]] : y\r\n",
       "E10 o- - E3 [[psysml:e24d69b8-a494-4022-9892-35ed42c85155 ]] : y\r\n",
       "E10 o- - E6 [[psysml:e24d69b8-a494-4022-9892-35ed42c85155 ]] : y\r\n",
       "@enduml\r\n",
       "\n",
       "PlantUML version 1.2020.13(Sat Jun 13 12:26:38 UTC 2020)\n",
       "(EPL source distribution)\n",
       "Java Runtime: OpenJDK Runtime Environment\n",
       "JVM: OpenJDK 64-Bit Server VM\n",
       "Default Encoding: UTF-8\n",
       "Language: en\n",
       "Country: null\n",
       "--></g></svg>"
      ]
     },
     "execution_count": 44,
     "metadata": {},
     "output_type": "execute_result"
    }
   ],
   "source": [
    "%viz --style=\"TB\" --view=\"Default\" \"PartTest\""
   ]
  },
  {
   "cell_type": "code",
   "execution_count": 45,
   "id": "637ad6ab",
   "metadata": {
    "execution": {
     "iopub.execute_input": "2021-10-03T08:29:55.485641Z",
     "iopub.status.busy": "2021-10-03T08:29:55.485235Z",
     "iopub.status.idle": "2021-10-03T08:29:55.541637Z",
     "shell.execute_reply": "2021-10-03T08:29:55.539651Z"
    }
   },
   "outputs": [
    {
     "data": {
      "image/svg+xml": [
       "<?xml version=\"1.0\" encoding=\"UTF-8\" standalone=\"no\"?><svg xmlns=\"http://www.w3.org/2000/svg\" xmlns:xlink=\"http://www.w3.org/1999/xlink\" contentScriptType=\"application/ecmascript\" contentStyleType=\"text/css\" height=\"760px\" preserveAspectRatio=\"none\" style=\"width:423px;height:760px;\" version=\"1.1\" viewBox=\"0 0 423 760\" width=\"423px\" zoomAndPan=\"magnify\"><defs/><g><!--MD5=[fbc87193dbaf4d95561dea2c320d4a47]\n",
       "cluster E1--><a href=\"psysml:a6b62677-d27b-4bf3-83e0-375e3ba01a4b\" target=\"_top\" title=\"psysml:a6b62677-d27b-4bf3-83e0-375e3ba01a4b\" xlink:actuate=\"onRequest\" xlink:href=\"psysml:a6b62677-d27b-4bf3-83e0-375e3ba01a4b\" xlink:show=\"new\" xlink:title=\"psysml:a6b62677-d27b-4bf3-83e0-375e3ba01a4b\" xlink:type=\"simple\"><polygon fill=\"#FFFFFF\" points=\"16,6,80,6,87,28.2969,401,28.2969,401,748,16,748,16,6\" style=\"stroke: #000000; stroke-width: 1.5;\"/><line style=\"stroke: #000000; stroke-width: 1.5;\" x1=\"16\" x2=\"87\" y1=\"28.2969\" y2=\"28.2969\"/><text fill=\"#000000\" font-family=\"sans-serif\" font-size=\"14\" font-weight=\"bold\" lengthAdjust=\"spacingAndGlyphs\" textLength=\"58\" x=\"20\" y=\"20.9951\">PartTest</text></a><!--MD5=[b4997ac47864f28c2f74865a473b2911]\n",
       "class E2--><a href=\"psysml:fef66b5f-1b9d-421e-94fe-86858427a029\" target=\"_top\" title=\"psysml:fef66b5f-1b9d-421e-94fe-86858427a029\" xlink:actuate=\"onRequest\" xlink:href=\"psysml:fef66b5f-1b9d-421e-94fe-86858427a029\" xlink:show=\"new\" xlink:title=\"psysml:fef66b5f-1b9d-421e-94fe-86858427a029\" xlink:type=\"simple\"><rect fill=\"#FFFFFF\" height=\"45.9375\" id=\"E2\" rx=\"10\" ry=\"10\" style=\"stroke: #383838; stroke-width: 1.5;\" width=\"42\" x=\"201\" y=\"41\"/><text fill=\"#000000\" font-family=\"sans-serif\" font-size=\"12\" font-style=\"italic\" lengthAdjust=\"spacingAndGlyphs\" textLength=\"40\" x=\"202\" y=\"57.1387\">«part»</text><text fill=\"#000000\" font-family=\"sans-serif\" font-size=\"12\" lengthAdjust=\"spacingAndGlyphs\" textLength=\"20\" x=\"212\" y=\"71.1074\">f: A</text><line style=\"stroke: #383838; stroke-width: 1.5;\" x1=\"202\" x2=\"242\" y1=\"78.9375\" y2=\"78.9375\"/></a><!--MD5=[09b614a08d8cba4a07c9adeb5e0fee81]\n",
       "class E3--><a href=\"psysml:a2cad1be-c52d-4964-a87e-891cd7289f52\" target=\"_top\" title=\"psysml:a2cad1be-c52d-4964-a87e-891cd7289f52\" xlink:actuate=\"onRequest\" xlink:href=\"psysml:a2cad1be-c52d-4964-a87e-891cd7289f52\" xlink:show=\"new\" xlink:title=\"psysml:a2cad1be-c52d-4964-a87e-891cd7289f52\" xlink:type=\"simple\"><rect fill=\"#FFFFFF\" height=\"88.3516\" id=\"E3\" style=\"stroke: #383838; stroke-width: 1.5;\" width=\"66\" x=\"189\" y=\"148\"/><text fill=\"#000000\" font-family=\"sans-serif\" font-size=\"12\" font-style=\"italic\" lengthAdjust=\"spacingAndGlyphs\" textLength=\"64\" x=\"190\" y=\"164.1387\">«part def»</text><text fill=\"#000000\" font-family=\"sans-serif\" font-size=\"12\" lengthAdjust=\"spacingAndGlyphs\" textLength=\"8\" x=\"218\" y=\"178.1074\">A</text><line style=\"stroke: #383838; stroke-width: 1.5;\" x1=\"190\" x2=\"254\" y1=\"185.9375\" y2=\"185.9375\"/><text fill=\"#000000\" font-family=\"sans-serif\" font-size=\"11\" lengthAdjust=\"spacingAndGlyphs\" textLength=\"6\" x=\"195\" y=\"216.9526\">x</text><text fill=\"#000000\" font-family=\"sans-serif\" font-size=\"11\" lengthAdjust=\"spacingAndGlyphs\" textLength=\"6\" x=\"195\" y=\"229.7573\">y</text><line style=\"stroke: #383838; stroke-width: 1.0;\" x1=\"190\" x2=\"194.5\" y1=\"200.3398\" y2=\"200.3398\"/><text fill=\"#000000\" font-family=\"sans-serif\" font-size=\"11\" lengthAdjust=\"spacingAndGlyphs\" textLength=\"55\" x=\"194.5\" y=\"203.6479\">attributes</text><line style=\"stroke: #383838; stroke-width: 1.0;\" x1=\"249.5\" x2=\"254\" y1=\"200.3398\" y2=\"200.3398\"/></a><!--MD5=[ebbe1d658d1005bcc118a6aa81145e00]\n",
       "class E4--><a href=\"psysml:9dcf2186-613a-4b96-912f-a1b95f354387\" target=\"_top\" title=\"psysml:9dcf2186-613a-4b96-912f-a1b95f354387\" xlink:actuate=\"onRequest\" xlink:href=\"psysml:9dcf2186-613a-4b96-912f-a1b95f354387\" xlink:show=\"new\" xlink:title=\"psysml:9dcf2186-613a-4b96-912f-a1b95f354387\" xlink:type=\"simple\"><rect fill=\"#FFFFFF\" height=\"45.9375\" id=\"E4\" rx=\"10\" ry=\"10\" style=\"stroke: #383838; stroke-width: 1.5;\" width=\"42\" x=\"323\" y=\"373\"/><text fill=\"#000000\" font-family=\"sans-serif\" font-size=\"12\" font-style=\"italic\" lengthAdjust=\"spacingAndGlyphs\" textLength=\"40\" x=\"324\" y=\"389.1387\">«part»</text><text fill=\"#000000\" font-family=\"sans-serif\" font-size=\"12\" lengthAdjust=\"spacingAndGlyphs\" textLength=\"24\" x=\"332\" y=\"403.1074\">b: B</text><line style=\"stroke: #383838; stroke-width: 1.5;\" x1=\"324\" x2=\"364\" y1=\"410.9375\" y2=\"410.9375\"/></a><!--MD5=[270fce915f116d4de14055a7c1d9a0f3]\n",
       "class E5--><a href=\"psysml:a3147892-19dd-4d4c-8f64-71e53da800dc\" target=\"_top\" title=\"psysml:a3147892-19dd-4d4c-8f64-71e53da800dc\" xlink:actuate=\"onRequest\" xlink:href=\"psysml:a3147892-19dd-4d4c-8f64-71e53da800dc\" xlink:show=\"new\" xlink:title=\"psysml:a3147892-19dd-4d4c-8f64-71e53da800dc\" xlink:type=\"simple\"><rect fill=\"#FFFFFF\" height=\"45.9375\" id=\"E5\" rx=\"10\" ry=\"10\" style=\"stroke: #383838; stroke-width: 1.5;\" width=\"42\" x=\"306\" y=\"297\"/><text fill=\"#000000\" font-family=\"sans-serif\" font-size=\"12\" font-style=\"italic\" lengthAdjust=\"spacingAndGlyphs\" textLength=\"40\" x=\"307\" y=\"313.1387\">«port»</text><text fill=\"#000000\" font-family=\"sans-serif\" font-size=\"12\" lengthAdjust=\"spacingAndGlyphs\" textLength=\"23\" x=\"315.5\" y=\"327.1074\">c: C</text><line style=\"stroke: #383838; stroke-width: 1.5;\" x1=\"307\" x2=\"347\" y1=\"334.9375\" y2=\"334.9375\"/></a><!--MD5=[60a26617385b1d2d0262a64233df1f8d]\n",
       "class E6--><a href=\"psysml:bbb3af71-bfb9-47e2-863f-33482c8ff081\" target=\"_top\" title=\"psysml:bbb3af71-bfb9-47e2-863f-33482c8ff081\" xlink:actuate=\"onRequest\" xlink:href=\"psysml:bbb3af71-bfb9-47e2-863f-33482c8ff081\" xlink:show=\"new\" xlink:title=\"psysml:bbb3af71-bfb9-47e2-863f-33482c8ff081\" xlink:type=\"simple\"><rect fill=\"#FFFFFF\" height=\"45.9375\" id=\"E6\" style=\"stroke: #383838; stroke-width: 1.5;\" width=\"66\" x=\"163\" y=\"572\"/><text fill=\"#000000\" font-family=\"sans-serif\" font-size=\"12\" font-style=\"italic\" lengthAdjust=\"spacingAndGlyphs\" textLength=\"64\" x=\"164\" y=\"588.1387\">«part def»</text><text fill=\"#000000\" font-family=\"sans-serif\" font-size=\"12\" lengthAdjust=\"spacingAndGlyphs\" textLength=\"8\" x=\"192\" y=\"602.1074\">B</text><line style=\"stroke: #383838; stroke-width: 1.5;\" x1=\"164\" x2=\"228\" y1=\"609.9375\" y2=\"609.9375\"/></a><!--MD5=[2156ba9850f5573cc1fc38a6a4b2f02b]\n",
       "class E7--><a href=\"psysml:c128dc79-fecf-4cdb-b1ba-5850a9b121ec\" target=\"_top\" title=\"psysml:c128dc79-fecf-4cdb-b1ba-5850a9b121ec\" xlink:actuate=\"onRequest\" xlink:href=\"psysml:c128dc79-fecf-4cdb-b1ba-5850a9b121ec\" xlink:show=\"new\" xlink:title=\"psysml:c128dc79-fecf-4cdb-b1ba-5850a9b121ec\" xlink:type=\"simple\"><rect fill=\"#FFFFFF\" height=\"45.9375\" id=\"E7\" rx=\"10\" ry=\"10\" style=\"stroke: #383838; stroke-width: 1.5;\" width=\"42\" x=\"58\" y=\"682.5\"/><text fill=\"#000000\" font-family=\"sans-serif\" font-size=\"12\" font-style=\"italic\" lengthAdjust=\"spacingAndGlyphs\" textLength=\"40\" x=\"59\" y=\"698.6387\">«part»</text><text fill=\"#000000\" font-family=\"sans-serif\" font-size=\"12\" lengthAdjust=\"spacingAndGlyphs\" textLength=\"24\" x=\"67\" y=\"712.6074\">a: A</text><line style=\"stroke: #383838; stroke-width: 1.5;\" x1=\"59\" x2=\"99\" y1=\"720.4375\" y2=\"720.4375\"/></a><!--MD5=[b9389687b975829384b498ac4b7476b2]\n",
       "class E8--><a href=\"psysml:540f6402-e62e-4ea3-b051-5d5cf5bfcb38\" target=\"_top\" title=\"psysml:540f6402-e62e-4ea3-b051-5d5cf5bfcb38\" xlink:actuate=\"onRequest\" xlink:href=\"psysml:540f6402-e62e-4ea3-b051-5d5cf5bfcb38\" xlink:show=\"new\" xlink:title=\"psysml:540f6402-e62e-4ea3-b051-5d5cf5bfcb38\" xlink:type=\"simple\"><rect fill=\"#FFFFFF\" height=\"45.9375\" id=\"E8\" rx=\"10\" ry=\"10\" style=\"stroke: #383838; stroke-width: 1.5;\" width=\"42\" x=\"213\" y=\"682.5\"/><text fill=\"#000000\" font-family=\"sans-serif\" font-size=\"12\" font-style=\"italic\" lengthAdjust=\"spacingAndGlyphs\" textLength=\"40\" x=\"214\" y=\"698.6387\">«port»</text><text fill=\"#000000\" font-family=\"sans-serif\" font-size=\"12\" lengthAdjust=\"spacingAndGlyphs\" textLength=\"32\" x=\"218\" y=\"712.6074\">x: ~C</text><line style=\"stroke: #383838; stroke-width: 1.5;\" x1=\"214\" x2=\"254\" y1=\"720.4375\" y2=\"720.4375\"/></a><!--MD5=[96f4274e9e20536e775497830990834d]\n",
       "class E10--><a href=\"psysml:a92372c2-fe41-425f-b40c-da5b8c1ca15d\" target=\"_top\" title=\"psysml:a92372c2-fe41-425f-b40c-da5b8c1ca15d\" xlink:actuate=\"onRequest\" xlink:href=\"psysml:a92372c2-fe41-425f-b40c-da5b8c1ca15d\" xlink:show=\"new\" xlink:title=\"psysml:a92372c2-fe41-425f-b40c-da5b8c1ca15d\" xlink:type=\"simple\"><rect fill=\"#FFFFFF\" height=\"45.9375\" id=\"E10\" style=\"stroke: #383838; stroke-width: 1.5;\" width=\"66\" x=\"163\" y=\"449\"/><text fill=\"#000000\" font-family=\"sans-serif\" font-size=\"12\" font-style=\"italic\" lengthAdjust=\"spacingAndGlyphs\" textLength=\"64\" x=\"164\" y=\"465.1387\">«port def»</text><text fill=\"#000000\" font-family=\"sans-serif\" font-size=\"12\" lengthAdjust=\"spacingAndGlyphs\" textLength=\"8\" x=\"192\" y=\"479.1074\">C</text><line style=\"stroke: #383838; stroke-width: 1.5;\" x1=\"164\" x2=\"228\" y1=\"486.9375\" y2=\"486.9375\"/></a><a href=\"psysml:f4e4ee2b-1abf-4dbd-8483-2b091bdfceaf\" target=\"_top\" title=\"psysml:f4e4ee2b-1abf-4dbd-8483-2b091bdfceaf\" xlink:actuate=\"onRequest\" xlink:href=\"psysml:f4e4ee2b-1abf-4dbd-8483-2b091bdfceaf\" xlink:show=\"new\" xlink:title=\"psysml:f4e4ee2b-1abf-4dbd-8483-2b091bdfceaf\" xlink:type=\"simple\"><polygon fill=\"#FFFFFF\" points=\"148.5,679,163.5,679,170.5,701.2969,177.5,701.2969,177.5,731.5938,148.5,731.5938,148.5,679\" style=\"stroke: #000000; stroke-width: 1.5;\"/><line style=\"stroke: #000000; stroke-width: 1.5;\" x1=\"148.5\" x2=\"170.5\" y1=\"701.2969\" y2=\"701.2969\"/><text fill=\"#000000\" font-family=\"sans-serif\" font-size=\"14\" font-weight=\"bold\" lengthAdjust=\"spacingAndGlyphs\" textLength=\"9\" x=\"152.5\" y=\"693.9951\">P</text></a><!--MD5=[2720a5a1f2c3fca2055b230370638851]\n",
       "link E2 to E3--><a href=\"psysml:488f6ee0-39a9-4dc0-b555-612cc99c37a1\" target=\"_top\" title=\"psysml:488f6ee0-39a9-4dc0-b555-612cc99c37a1\" xlink:actuate=\"onRequest\" xlink:href=\"psysml:488f6ee0-39a9-4dc0-b555-612cc99c37a1\" xlink:show=\"new\" xlink:title=\"psysml:488f6ee0-39a9-4dc0-b555-612cc99c37a1\" xlink:type=\"simple\"><path d=\"M222,87.24 C222,98.62 222,113.11 222,127.62 \" fill=\"none\" id=\"E2-&gt;E3\" style=\"stroke: #383838; stroke-width: 1.0;\"/><polygon fill=\"#FFFFFF\" points=\"222,147.84,215,128.84,229,128.84,222,147.84\" style=\"stroke: #383838; stroke-width: 1.0;\"/><ellipse cx=\"217\" cy=\"123.14\" fill=\"#383838\" rx=\"2\" ry=\"2\" style=\"stroke: #383838; stroke-width: 1.0;\"/><ellipse cx=\"227\" cy=\"123.14\" fill=\"#383838\" rx=\"2\" ry=\"2\" style=\"stroke: #383838; stroke-width: 1.0;\"/></a><!--MD5=[4672eba38e49728da53d11aeb285b987]\n",
       "reverse link E3 to E4--><a href=\"psysml:98712745-a638-4d1f-8ffc-380c342569c9\" target=\"_top\" title=\"psysml:98712745-a638-4d1f-8ffc-380c342569c9\" xlink:actuate=\"onRequest\" xlink:href=\"psysml:98712745-a638-4d1f-8ffc-380c342569c9\" xlink:show=\"new\" xlink:title=\"psysml:98712745-a638-4d1f-8ffc-380c342569c9\" xlink:type=\"simple\"><path d=\"M267.21,211.72 C301.24,228.53 345.43,256.77 366,297 C378.38,321.22 367.51,352.31 357.12,372.91 \" fill=\"none\" id=\"E3&lt;-E4\" style=\"stroke: #383838; stroke-width: 1.0;\"/><polygon fill=\"#383838\" points=\"255.19,206.05,258.9023,212.2321,266.0367,211.1831,262.3244,205.001,255.19,206.05\" style=\"stroke: #383838; stroke-width: 1.0;\"/><text fill=\"#000000\" font-family=\"sans-serif\" font-size=\"13\" lengthAdjust=\"spacingAndGlyphs\" textLength=\"8\" x=\"352.5085\" y=\"363.0064\">1</text></a><!--MD5=[191cde3d490a3f6d7bb551fe3ddca469]\n",
       "reverse link E3 to E5--><a href=\"psysml:3d3c789c-d512-4565-8d7c-059f8d1010f8\" target=\"_top\" title=\"psysml:3d3c789c-d512-4565-8d7c-059f8d1010f8\" xlink:actuate=\"onRequest\" xlink:href=\"psysml:3d3c789c-d512-4565-8d7c-059f8d1010f8\" xlink:show=\"new\" xlink:title=\"psysml:3d3c789c-d512-4565-8d7c-059f8d1010f8\" xlink:type=\"simple\"><path d=\"M263.71,243.06 C279.31,261.77 296.23,282.08 308.65,296.98 \" fill=\"none\" id=\"E3&lt;-E5\" style=\"stroke: #383838; stroke-width: 1.0;\"/><polygon fill=\"#FFFFFF\" points=\"255.22,232.87,255.9912,240.0397,262.9061,242.0854,262.1349,234.9157,255.22,232.87\" style=\"stroke: #383838; stroke-width: 1.0;\"/><text fill=\"#000000\" font-family=\"sans-serif\" font-size=\"13\" lengthAdjust=\"spacingAndGlyphs\" textLength=\"8\" x=\"294.6434\" y=\"285.8709\">1</text></a><!--MD5=[79568f1e445c3877b6a54524624ccc7d]\n",
       "link E4 to E6--><a href=\"psysml:1225703b-924d-44f0-aa92-4bca49ced0c9\" target=\"_top\" title=\"psysml:1225703b-924d-44f0-aa92-4bca49ced0c9\" xlink:actuate=\"onRequest\" xlink:href=\"psysml:1225703b-924d-44f0-aa92-4bca49ced0c9\" xlink:show=\"new\" xlink:title=\"psysml:1225703b-924d-44f0-aa92-4bca49ced0c9\" xlink:type=\"simple\"><path d=\"M327.31,419.22 C302.43,452.34 255.27,515.1 224.76,555.71 \" fill=\"none\" id=\"E4-&gt;E6\" style=\"stroke: #383838; stroke-width: 1.0;\"/><polygon fill=\"#FFFFFF\" points=\"212.63,571.87,218.4494,552.4758,229.641,560.887,212.63,571.87\" style=\"stroke: #383838; stroke-width: 1.0;\"/><ellipse cx=\"223.4728\" cy=\"549.1208\" fill=\"#383838\" rx=\"2\" ry=\"2\" style=\"stroke: #383838; stroke-width: 1.0;\"/><ellipse cx=\"231.4668\" cy=\"555.1288\" fill=\"#383838\" rx=\"2\" ry=\"2\" style=\"stroke: #383838; stroke-width: 1.0;\"/></a><!--MD5=[3f50a3473f1dfb74d3f76443e03635af]\n",
       "reverse link E6 to E7--><a href=\"psysml:a81e6d2d-a633-4d51-820c-a47602c519dd\" target=\"_top\" title=\"psysml:a81e6d2d-a633-4d51-820c-a47602c519dd\" xlink:actuate=\"onRequest\" xlink:href=\"psysml:a81e6d2d-a633-4d51-820c-a47602c519dd\" xlink:show=\"new\" xlink:title=\"psysml:a81e6d2d-a633-4d51-820c-a47602c519dd\" xlink:type=\"simple\"><path d=\"M162.35,627.2 C142.32,645.78 117.5,668.8 100.18,684.86 \" fill=\"none\" id=\"E6&lt;-E7\" style=\"stroke: #383838; stroke-width: 1.0;\"/><polygon fill=\"#383838\" points=\"172.04,618.22,164.9211,619.3695,163.2441,626.3829,170.363,625.2334,172.04,618.22\" style=\"stroke: #383838; stroke-width: 1.0;\"/><text fill=\"#000000\" font-family=\"sans-serif\" font-size=\"13\" lengthAdjust=\"spacingAndGlyphs\" textLength=\"8\" x=\"107.8914\" y=\"673.3389\">1</text></a><!--MD5=[14ccda38c055a5c0da953d572bc50960]\n",
       "link E7 to E3--><a href=\"psysml:4883cacd-6695-4e4a-8cc2-3609b81ec9a9\" target=\"_top\" title=\"psysml:4883cacd-6695-4e4a-8cc2-3609b81ec9a9\" xlink:actuate=\"onRequest\" xlink:href=\"psysml:4883cacd-6695-4e4a-8cc2-3609b81ec9a9\" xlink:show=\"new\" xlink:title=\"psysml:4883cacd-6695-4e4a-8cc2-3609b81ec9a9\" xlink:type=\"simple\"><path d=\"M63.43,682.38 C50.08,661.23 33,627.92 33,596 C33,319 33,319 33,319 C33,253.29 113.07,219.74 168.98,204.32 \" fill=\"none\" id=\"E7-&gt;E3\" style=\"stroke: #383838; stroke-width: 1.0;\"/><polygon fill=\"#FFFFFF\" points=\"188.65,199.35,171.9427,210.7897,168.5143,197.216,188.65,199.35\" style=\"stroke: #383838; stroke-width: 1.0;\"/><ellipse cx=\"165.9265\" cy=\"210.2465\" fill=\"#383838\" rx=\"2\" ry=\"2\" style=\"stroke: #383838; stroke-width: 1.0;\"/><ellipse cx=\"163.4776\" cy=\"200.5509\" fill=\"#383838\" rx=\"2\" ry=\"2\" style=\"stroke: #383838; stroke-width: 1.0;\"/></a><!--MD5=[f4cf0736d43fd73c4ef68817c49d37d5]\n",
       "reverse link E6 to E8--><a href=\"psysml:2d844c43-a52c-43bf-b052-a300acb2bf74\" target=\"_top\" title=\"psysml:2d844c43-a52c-43bf-b052-a300acb2bf74\" xlink:actuate=\"onRequest\" xlink:href=\"psysml:2d844c43-a52c-43bf-b052-a300acb2bf74\" xlink:show=\"new\" xlink:title=\"psysml:2d844c43-a52c-43bf-b052-a300acb2bf74\" xlink:type=\"simple\"><path d=\"M208.25,630.98 C214.15,647.83 221.06,667.54 226.23,682.31 \" fill=\"none\" id=\"E6&lt;-E8\" style=\"stroke: #383838; stroke-width: 1.0;\"/><polygon fill=\"#FFFFFF\" points=\"203.78,618.22,201.9892,625.2052,207.7483,629.5449,209.5391,622.5597,203.78,618.22\" style=\"stroke: #383838; stroke-width: 1.0;\"/><text fill=\"#000000\" font-family=\"sans-serif\" font-size=\"13\" lengthAdjust=\"spacingAndGlyphs\" textLength=\"8\" x=\"215.2139\" y=\"671.5376\">1</text></a><!--MD5=[e88d06e5a652d73a6b19930eefe025a8]\n",
       "reverse link E6 to E9--><a href=\"psysml:5153bd7e-9106-496d-98a6-0d3fae0d20a5\" target=\"_top\" title=\"psysml:5153bd7e-9106-496d-98a6-0d3fae0d20a5\" xlink:actuate=\"onRequest\" xlink:href=\"psysml:5153bd7e-9106-496d-98a6-0d3fae0d20a5\" xlink:show=\"new\" xlink:title=\"psysml:5153bd7e-9106-496d-98a6-0d3fae0d20a5\" xlink:type=\"simple\"><path d=\"M184.74,633.01 C180.15,648.11 174.95,665.2 170.79,678.88 \" fill=\"none\" id=\"E6&lt;-E9\" style=\"stroke: #383838; stroke-width: 1.0;\"/><ellipse cx=\"186.9098\" cy=\"625.8731\" fill=\"#FFFFFF\" rx=\"8\" ry=\"8\" style=\"stroke: #383838; stroke-width: 1.0;\"/><line style=\"stroke: #383838; stroke-width: 1.0;\" x1=\"184.5796\" x2=\"189.24\" y1=\"633.5262\" y2=\"618.22\"/><line style=\"stroke: #383838; stroke-width: 1.0;\" x1=\"179.2567\" x2=\"194.5629\" y1=\"623.5429\" y2=\"628.2033\"/></a><!--MD5=[f78a29d5932556fa1060671a2a6507d8]\n",
       "link E5 to E10--><a href=\"psysml:63374559-c2a0-4cf8-92a3-b39a3ed3eac1\" target=\"_top\" title=\"psysml:63374559-c2a0-4cf8-92a3-b39a3ed3eac1\" xlink:actuate=\"onRequest\" xlink:href=\"psysml:63374559-c2a0-4cf8-92a3-b39a3ed3eac1\" xlink:show=\"new\" xlink:title=\"psysml:63374559-c2a0-4cf8-92a3-b39a3ed3eac1\" xlink:type=\"simple\"><path d=\"M317.86,343.05 C308.35,364.19 291.92,396.17 271,419 C263.6,427.07 254.73,434.58 245.72,441.23 \" fill=\"none\" id=\"E5-&gt;E10\" style=\"stroke: #383838; stroke-width: 1.0;\"/><polygon fill=\"#FFFFFF\" points=\"229.11,452.57,240.857,436.0773,248.7493,447.6407,229.11,452.57\" style=\"stroke: #383838; stroke-width: 1.0;\"/><ellipse cx=\"246.6924\" cy=\"434.5159\" fill=\"#383838\" rx=\"2\" ry=\"2\" style=\"stroke: #383838; stroke-width: 1.0;\"/><ellipse cx=\"252.3298\" cy=\"442.7755\" fill=\"#383838\" rx=\"2\" ry=\"2\" style=\"stroke: #383838; stroke-width: 1.0;\"/></a><!--MD5=[8e04057e7b3cbc0dca4fc78ea351e2da]\n",
       "reverse link E10 to E3--><a href=\"psysml:e24d69b8-a494-4022-9892-35ed42c85155\" target=\"_top\" title=\"psysml:e24d69b8-a494-4022-9892-35ed42c85155\" xlink:actuate=\"onRequest\" xlink:href=\"psysml:e24d69b8-a494-4022-9892-35ed42c85155\" xlink:show=\"new\" xlink:title=\"psysml:e24d69b8-a494-4022-9892-35ed42c85155\" xlink:type=\"simple\"><path d=\"M169.12,438.19 C143.87,403.2 112.53,346.17 131,297 C142.56,266.23 167.81,238.61 188.79,219.58 \" fill=\"none\" id=\"E10&lt;-E3\" style=\"stroke: #383838; stroke-width: 1.0;\"/><polygon fill=\"#FFFFFF\" points=\"177.03,448.74,176.63,441.54,169.83,439.14,170.23,446.34,177.03,448.74\" style=\"stroke: #383838; stroke-width: 1.0;\"/><text fill=\"#000000\" font-family=\"sans-serif\" font-size=\"13\" lengthAdjust=\"spacingAndGlyphs\" textLength=\"7\" x=\"132\" y=\"324.5669\">y</text></a><!--MD5=[8e04057e7b3cbc0dca4fc78ea351e2da]\n",
       "reverse link E10 to E3--><a href=\"psysml:e24d69b8-a494-4022-9892-35ed42c85155\" target=\"_top\" title=\"psysml:e24d69b8-a494-4022-9892-35ed42c85155\" xlink:actuate=\"onRequest\" xlink:href=\"psysml:e24d69b8-a494-4022-9892-35ed42c85155\" xlink:show=\"new\" xlink:title=\"psysml:e24d69b8-a494-4022-9892-35ed42c85155\" xlink:type=\"simple\"><path d=\"M198.5,435.41 C201.06,400.21 205.32,344.85 210,297 C211.96,277.01 214.46,254.9 216.67,236.23 \" fill=\"none\" id=\"E10&lt;-E3-1\" style=\"stroke: #383838; stroke-width: 1.0;\"/><polygon fill=\"#FFFFFF\" points=\"197.54,448.73,201.9587,443.0313,198.3978,436.7607,193.9791,442.4594,197.54,448.73\" style=\"stroke: #383838; stroke-width: 1.0;\"/><text fill=\"#000000\" font-family=\"sans-serif\" font-size=\"13\" lengthAdjust=\"spacingAndGlyphs\" textLength=\"7\" x=\"211\" y=\"324.5669\">y</text></a><!--MD5=[8e04057e7b3cbc0dca4fc78ea351e2da]\n",
       "reverse link E10 to E3--><a href=\"psysml:e24d69b8-a494-4022-9892-35ed42c85155\" target=\"_top\" title=\"psysml:e24d69b8-a494-4022-9892-35ed42c85155\" xlink:actuate=\"onRequest\" xlink:href=\"psysml:e24d69b8-a494-4022-9892-35ed42c85155\" xlink:show=\"new\" xlink:title=\"psysml:e24d69b8-a494-4022-9892-35ed42c85155\" xlink:type=\"simple\"><path d=\"M205.88,436.08 C207.35,430.39 208.78,424.55 210,419 C217.35,385.53 220.1,377.15 223,343 C224.73,322.63 223.1,317.44 223,297 C222.9,276.96 222.7,254.74 222.51,236.01 \" fill=\"none\" id=\"E10&lt;-E3-2\" style=\"stroke: #383838; stroke-width: 1.0;\"/><polygon fill=\"#FFFFFF\" points=\"202.46,448.84,207.879,444.0824,205.5716,437.2504,200.1526,442.008,202.46,448.84\" style=\"stroke: #383838; stroke-width: 1.0;\"/><text fill=\"#000000\" font-family=\"sans-serif\" font-size=\"13\" lengthAdjust=\"spacingAndGlyphs\" textLength=\"7\" x=\"224\" y=\"324.5669\">y</text></a><!--MD5=[604cbf994c02b74b117f728a71673cea]\n",
       "reverse link E10 to E6--><a href=\"psysml:e24d69b8-a494-4022-9892-35ed42c85155\" target=\"_top\" title=\"psysml:e24d69b8-a494-4022-9892-35ed42c85155\" xlink:actuate=\"onRequest\" xlink:href=\"psysml:e24d69b8-a494-4022-9892-35ed42c85155\" xlink:show=\"new\" xlink:title=\"psysml:e24d69b8-a494-4022-9892-35ed42c85155\" xlink:type=\"simple\"><path d=\"M204.39,508.23 C206.07,519.04 207.05,530.99 206,542 C205.06,551.88 203.13,562.68 201.22,571.87 \" fill=\"none\" id=\"E10&lt;-E6\" style=\"stroke: #383838; stroke-width: 1.0;\"/><polygon fill=\"#FFFFFF\" points=\"201.97,495.31,199.1398,501.9425,204.1735,507.106,207.0037,500.4735,201.97,495.31\" style=\"stroke: #383838; stroke-width: 1.0;\"/><text fill=\"#000000\" font-family=\"sans-serif\" font-size=\"13\" lengthAdjust=\"spacingAndGlyphs\" textLength=\"7\" x=\"207\" y=\"538.0669\">y</text></a><!--MD5=[604cbf994c02b74b117f728a71673cea]\n",
       "reverse link E10 to E6--><a href=\"psysml:e24d69b8-a494-4022-9892-35ed42c85155\" target=\"_top\" title=\"psysml:e24d69b8-a494-4022-9892-35ed42c85155\" xlink:actuate=\"onRequest\" xlink:href=\"psysml:e24d69b8-a494-4022-9892-35ed42c85155\" xlink:show=\"new\" xlink:title=\"psysml:e24d69b8-a494-4022-9892-35ed42c85155\" xlink:type=\"simple\"><path d=\"M160.04,504.87 C155.13,511.03 150.81,517.82 148,525 C141.3,542.12 152.83,559.11 166.26,571.94 \" fill=\"none\" id=\"E10&lt;-E6-1\" style=\"stroke: #383838; stroke-width: 1.0;\"/><polygon fill=\"#FFFFFF\" points=\"168.73,495.16,161.7505,496.973,160.7396,504.1129,167.7191,502.2999,168.73,495.16\" style=\"stroke: #383838; stroke-width: 1.0;\"/><text fill=\"#000000\" font-family=\"sans-serif\" font-size=\"13\" lengthAdjust=\"spacingAndGlyphs\" textLength=\"7\" x=\"149\" y=\"538.0669\">y</text></a><!--MD5=[604cbf994c02b74b117f728a71673cea]\n",
       "reverse link E10 to E6--><a href=\"psysml:e24d69b8-a494-4022-9892-35ed42c85155\" target=\"_top\" title=\"psysml:e24d69b8-a494-4022-9892-35ed42c85155\" xlink:actuate=\"onRequest\" xlink:href=\"psysml:e24d69b8-a494-4022-9892-35ed42c85155\" xlink:show=\"new\" xlink:title=\"psysml:e24d69b8-a494-4022-9892-35ed42c85155\" xlink:type=\"simple\"><path d=\"M196,508.22 C196,528.81 196,554.16 196,571.95 \" fill=\"none\" id=\"E10&lt;-E6-2\" style=\"stroke: #383838; stroke-width: 1.0;\"/><polygon fill=\"#FFFFFF\" points=\"196,495.19,192,501.19,196,507.19,200,501.19,196,495.19\" style=\"stroke: #383838; stroke-width: 1.0;\"/><text fill=\"#000000\" font-family=\"sans-serif\" font-size=\"13\" lengthAdjust=\"spacingAndGlyphs\" textLength=\"7\" x=\"197\" y=\"538.0669\">y</text></a><!--MD5=[8720e47200bd942a073cefbb5e4e8bca]\n",
       "@startuml\r\n",
       "top to bottom direction\r\n",
       "skinparam monochrome true\r\n",
       "skinparam classbackgroundcolor white\r\n",
       "skinparam shadowing false\r\n",
       "skinparam wrapWidth 300\r\n",
       "hide circle\r\n",
       "\r\n",
       "package \"PartTest\" as E1  [[psysml:a6b62677-d27b-4bf3-83e0-375e3ba01a4b ]]  {\r\n",
       "comp usage \"f: A\" as E2  <<(T,blue) part>> [[psysml:fef66b5f-1b9d-421e-94fe-86858427a029 ]] {\r\n",
       "}\r\n",
       "comp def \"A\" as E3  <<(T,blue) part def>> [[psysml:a2cad1be-c52d-4964-a87e-891cd7289f52 ]] {\r\n",
       "- - attributes - -\r\n",
       "x\r\n",
       "y\r\n",
       "}\r\n",
       "comp usage \"b: B\" as E4  <<(T,blue) part>> [[psysml:9dcf2186-613a-4b96-912f-a1b95f354387 ]] {\r\n",
       "}\r\n",
       "comp usage \"c: C\" as E5  <<(T,blue) port>> [[psysml:a3147892-19dd-4d4c-8f64-71e53da800dc ]] {\r\n",
       "}\r\n",
       "comp def \"B\" as E6  <<(T,blue) part def>> [[psysml:bbb3af71-bfb9-47e2-863f-33482c8ff081 ]] {\r\n",
       "}\r\n",
       "comp usage \"a: A\" as E7  <<(T,blue) part>> [[psysml:c128dc79-fecf-4cdb-b1ba-5850a9b121ec ]] {\r\n",
       "}\r\n",
       "comp usage \"x: ~C\" as E8  <<(T,blue) port>> [[psysml:540f6402-e62e-4ea3-b051-5d5cf5bfcb38 ]] {\r\n",
       "}\r\n",
       "package \"P\" as E9  [[psysml:f4e4ee2b-1abf-4dbd-8483-2b091bdfceaf ]]  {\r\n",
       "}\r\n",
       "comp def \"C\" as E10  <<(T,blue) port def>> [[psysml:a92372c2-fe41-425f-b40c-da5b8c1ca15d ]] {\r\n",
       "}\r\n",
       "}\r\n",
       "E2 - -:|> E3 [[psysml:488f6ee0-39a9-4dc0-b555-612cc99c37a1 ]] \r\n",
       "E3 *- - \"1\"E4 [[psysml:98712745-a638-4d1f-8ffc-380c342569c9 ]] \r\n",
       "E3 o- - \"1\"E5 [[psysml:3d3c789c-d512-4565-8d7c-059f8d1010f8 ]] \r\n",
       "E4 - -:|> E6 [[psysml:1225703b-924d-44f0-aa92-4bca49ced0c9 ]] \r\n",
       "E6 *- - \"1\"E7 [[psysml:a81e6d2d-a633-4d51-820c-a47602c519dd ]] \r\n",
       "E7 - -:|> E3 [[psysml:4883cacd-6695-4e4a-8cc2-3609b81ec9a9 ]] \r\n",
       "E6 o- - \"1\"E8 [[psysml:2d844c43-a52c-43bf-b052-a300acb2bf74 ]] \r\n",
       "E6 +- - E9 [[psysml:5153bd7e-9106-496d-98a6-0d3fae0d20a5 ]] \r\n",
       "E5 - -:|> E10 [[psysml:63374559-c2a0-4cf8-92a3-b39a3ed3eac1 ]] \r\n",
       "E10 o- - E3 [[psysml:e24d69b8-a494-4022-9892-35ed42c85155 ]] : y\r\n",
       "E10 o- - E6 [[psysml:e24d69b8-a494-4022-9892-35ed42c85155 ]] : y\r\n",
       "E10 o- - E3 [[psysml:e24d69b8-a494-4022-9892-35ed42c85155 ]] : y\r\n",
       "E10 o- - E6 [[psysml:e24d69b8-a494-4022-9892-35ed42c85155 ]] : y\r\n",
       "E10 o- - E3 [[psysml:e24d69b8-a494-4022-9892-35ed42c85155 ]] : y\r\n",
       "E10 o- - E6 [[psysml:e24d69b8-a494-4022-9892-35ed42c85155 ]] : y\r\n",
       "@enduml\r\n",
       "\n",
       "PlantUML version 1.2020.13(Sat Jun 13 12:26:38 UTC 2020)\n",
       "(EPL source distribution)\n",
       "Java Runtime: OpenJDK Runtime Environment\n",
       "JVM: OpenJDK 64-Bit Server VM\n",
       "Default Encoding: UTF-8\n",
       "Language: en\n",
       "Country: null\n",
       "--></g></svg>"
      ]
     },
     "execution_count": 45,
     "metadata": {},
     "output_type": "execute_result"
    }
   ],
   "source": [
    "%viz --style=\"TB\" --view=\"Tree\" \"PartTest\""
   ]
  },
  {
   "cell_type": "code",
   "execution_count": 46,
   "id": "bd71d7f2",
   "metadata": {
    "execution": {
     "iopub.execute_input": "2021-10-03T08:29:55.590385Z",
     "iopub.status.busy": "2021-10-03T08:29:55.589919Z",
     "iopub.status.idle": "2021-10-03T08:29:55.595029Z",
     "shell.execute_reply": "2021-10-03T08:29:55.595356Z"
    }
   },
   "outputs": [
    {
     "data": {
      "image/svg+xml": [
       "<?xml version=\"1.0\" encoding=\"UTF-8\" standalone=\"no\"?><svg xmlns=\"http://www.w3.org/2000/svg\" xmlns:xlink=\"http://www.w3.org/1999/xlink\" contentScriptType=\"application/ecmascript\" contentStyleType=\"text/css\" height=\"12px\" preserveAspectRatio=\"none\" style=\"width:12px;height:12px;\" version=\"1.1\" viewBox=\"0 0 12 12\" width=\"12px\" zoomAndPan=\"magnify\"><defs/><g><!--MD5=[f4ee21bc66e489b5061b7c3e9601fdef]\n",
       "@startuml\r\n",
       "top to bottom direction\r\n",
       "skinparam monochrome true\r\n",
       "skinparam classbackgroundcolor white\r\n",
       "skinparam shadowing false\r\n",
       "skinparam wrapWidth 300\r\n",
       "hide circle\r\n",
       "\r\n",
       "@enduml\r\n",
       "\n",
       "PlantUML version 1.2020.13(Sat Jun 13 12:26:38 UTC 2020)\n",
       "(EPL source distribution)\n",
       "Java Runtime: OpenJDK Runtime Environment\n",
       "JVM: OpenJDK 64-Bit Server VM\n",
       "Default Encoding: UTF-8\n",
       "Language: en\n",
       "Country: null\n",
       "--></g></svg>"
      ]
     },
     "execution_count": 46,
     "metadata": {},
     "output_type": "execute_result"
    }
   ],
   "source": [
    "%viz --style=\"TB\" --view=\"State\" \"PartTest\""
   ]
  },
  {
   "cell_type": "code",
   "execution_count": 47,
   "id": "d74cf33a",
   "metadata": {
    "execution": {
     "iopub.execute_input": "2021-10-03T08:29:55.644996Z",
     "iopub.status.busy": "2021-10-03T08:29:55.644438Z",
     "iopub.status.idle": "2021-10-03T08:29:55.680685Z",
     "shell.execute_reply": "2021-10-03T08:29:55.678821Z"
    }
   },
   "outputs": [
    {
     "data": {
      "image/svg+xml": [
       "<?xml version=\"1.0\" encoding=\"UTF-8\" standalone=\"no\"?><svg xmlns=\"http://www.w3.org/2000/svg\" xmlns:xlink=\"http://www.w3.org/1999/xlink\" contentScriptType=\"application/ecmascript\" contentStyleType=\"text/css\" height=\"253px\" preserveAspectRatio=\"none\" style=\"width:674px;height:253px;\" version=\"1.1\" viewBox=\"0 0 674 253\" width=\"674px\" zoomAndPan=\"magnify\"><defs/><g><!--MD5=[fbc87193dbaf4d95561dea2c320d4a47]\n",
       "cluster E1--><a href=\"psysml:a6b62677-d27b-4bf3-83e0-375e3ba01a4b\" target=\"_top\" title=\"psysml:a6b62677-d27b-4bf3-83e0-375e3ba01a4b\" xlink:actuate=\"onRequest\" xlink:href=\"psysml:a6b62677-d27b-4bf3-83e0-375e3ba01a4b\" xlink:show=\"new\" xlink:title=\"psysml:a6b62677-d27b-4bf3-83e0-375e3ba01a4b\" xlink:type=\"simple\"><polygon fill=\"#FFFFFF\" points=\"16,6,80,6,87,28.2969,652,28.2969,652,241,16,241,16,6\" style=\"stroke: #000000; stroke-width: 1.5;\"/><line style=\"stroke: #000000; stroke-width: 1.5;\" x1=\"16\" x2=\"87\" y1=\"28.2969\" y2=\"28.2969\"/><text fill=\"#000000\" font-family=\"sans-serif\" font-size=\"14\" font-weight=\"bold\" lengthAdjust=\"spacingAndGlyphs\" textLength=\"58\" x=\"20\" y=\"20.9951\">PartTest</text></a><!--MD5=[d5e69f78d87373223dbae638b30a9c99]\n",
       "cluster E3--><a href=\"psysml:a2cad1be-c52d-4964-a87e-891cd7289f52\" target=\"_top\" title=\"psysml:a2cad1be-c52d-4964-a87e-891cd7289f52\" xlink:actuate=\"onRequest\" xlink:href=\"psysml:a2cad1be-c52d-4964-a87e-891cd7289f52\" xlink:show=\"new\" xlink:title=\"psysml:a2cad1be-c52d-4964-a87e-891cd7289f52\" xlink:type=\"simple\"><rect fill=\"#FFFFFF\" height=\"159\" id=\"E3\" style=\"stroke: #383838; stroke-width: 1.5;\" width=\"226\" x=\"410\" y=\"62.5\"/><rect fill=\"#F8F8F8\" height=\"37.9375\" style=\"stroke: #383838; stroke-width: 1.5;\" width=\"226\" x=\"410\" y=\"62.5\"/><text fill=\"#000000\" font-family=\"sans-serif\" font-size=\"12\" font-style=\"italic\" lengthAdjust=\"spacingAndGlyphs\" textLength=\"64\" x=\"491\" y=\"78.6387\">«part def»</text><text fill=\"#000000\" font-family=\"sans-serif\" font-size=\"12\" lengthAdjust=\"spacingAndGlyphs\" textLength=\"8\" x=\"519\" y=\"92.6074\">A</text></a><!--MD5=[55dfccfc6c49c2d10cd1bd2211a6c90c]\n",
       "cluster E8--><a href=\"psysml:bbb3af71-bfb9-47e2-863f-33482c8ff081\" target=\"_top\" title=\"psysml:bbb3af71-bfb9-47e2-863f-33482c8ff081\" xlink:actuate=\"onRequest\" xlink:href=\"psysml:bbb3af71-bfb9-47e2-863f-33482c8ff081\" xlink:show=\"new\" xlink:title=\"psysml:bbb3af71-bfb9-47e2-863f-33482c8ff081\" xlink:type=\"simple\"><rect fill=\"#FFFFFF\" height=\"162.5\" id=\"E8\" style=\"stroke: #383838; stroke-width: 1.5;\" width=\"205\" x=\"197\" y=\"62.5\"/><rect fill=\"#F8F8F8\" height=\"37.9375\" style=\"stroke: #383838; stroke-width: 1.5;\" width=\"205\" x=\"197\" y=\"62.5\"/><text fill=\"#000000\" font-family=\"sans-serif\" font-size=\"12\" font-style=\"italic\" lengthAdjust=\"spacingAndGlyphs\" textLength=\"64\" x=\"267.5\" y=\"78.6387\">«part def»</text><text fill=\"#000000\" font-family=\"sans-serif\" font-size=\"12\" lengthAdjust=\"spacingAndGlyphs\" textLength=\"8\" x=\"295.5\" y=\"92.6074\">B</text></a><g id=\"E1.E12\"><a href=\"psysml:a92372c2-fe41-425f-b40c-da5b8c1ca15d\" target=\"_top\" title=\"psysml:a92372c2-fe41-425f-b40c-da5b8c1ca15d\" xlink:actuate=\"onRequest\" xlink:href=\"psysml:a92372c2-fe41-425f-b40c-da5b8c1ca15d\" xlink:show=\"new\" xlink:title=\"psysml:a92372c2-fe41-425f-b40c-da5b8c1ca15d\" xlink:type=\"simple\"><rect fill=\"#FFFFFF\" height=\"42.9375\" id=\"E12\" style=\"stroke: #383838; stroke-width: 1.5;\" width=\"71\" x=\"117.5\" y=\"41\"/><rect fill=\"#F8F8F8\" height=\"37.9375\" style=\"stroke: #383838; stroke-width: 1.5;\" width=\"71\" x=\"117.5\" y=\"41\"/><text fill=\"#000000\" font-family=\"sans-serif\" font-size=\"12\" font-style=\"italic\" lengthAdjust=\"spacingAndGlyphs\" textLength=\"64\" x=\"121\" y=\"57.1387\">«port def»</text><text fill=\"#000000\" font-family=\"sans-serif\" font-size=\"12\" lengthAdjust=\"spacingAndGlyphs\" textLength=\"8\" x=\"149\" y=\"71.1074\">C</text></a></g><g id=\"E1.E2\"><a href=\"psysml:fef66b5f-1b9d-421e-94fe-86858427a029\" target=\"_top\" title=\"psysml:fef66b5f-1b9d-421e-94fe-86858427a029\" xlink:actuate=\"onRequest\" xlink:href=\"psysml:fef66b5f-1b9d-421e-94fe-86858427a029\" xlink:show=\"new\" xlink:title=\"psysml:fef66b5f-1b9d-421e-94fe-86858427a029\" xlink:type=\"simple\"><rect fill=\"#FFFFFF\" height=\"40\" id=\"E2\" rx=\"10\" ry=\"10\" style=\"stroke: #383838; stroke-width: 1.5;\" width=\"50\" x=\"32\" y=\"42.5\"/><rect fill=\"#F8F8F8\" height=\"23.9688\" rx=\"10\" ry=\"10\" style=\"stroke: #F8F8F8; stroke-width: 1.5;\" width=\"50\" x=\"32\" y=\"42.5\"/><rect fill=\"#F8F8F8\" height=\"10\" style=\"stroke: #F8F8F8; stroke-width: 1.5;\" width=\"50\" x=\"32\" y=\"56.4688\"/><rect fill=\"none\" height=\"40\" id=\"E2\" rx=\"10\" ry=\"10\" style=\"stroke: #383838; stroke-width: 1.5;\" width=\"50\" x=\"32\" y=\"42.5\"/><text fill=\"#000000\" font-family=\"sans-serif\" font-size=\"12\" lengthAdjust=\"spacingAndGlyphs\" textLength=\"20\" x=\"47\" y=\"58.6387\">f: A</text></a></g><text fill=\"#000000\" font-family=\"sans-serif\" font-size=\"14\" lengthAdjust=\"spacingAndGlyphs\" textLength=\"27\" x=\"562.5\" y=\"41.1982\">c: C</text><rect fill=\"#383838\" height=\"12\" style=\"stroke: #F8F8F8; stroke-width: 1.5;\" width=\"12\" x=\"570\" y=\"56.5\"/><!--MD5=[60a26617385b1d2d0262a64233df1f8d]\n",
       "class E6--><a href=\"psysml:4215315b-f4db-4a1d-ab72-0471726dcc45\" target=\"_top\" title=\"psysml:4215315b-f4db-4a1d-ab72-0471726dcc45\" xlink:actuate=\"onRequest\" xlink:href=\"psysml:4215315b-f4db-4a1d-ab72-0471726dcc45\" xlink:show=\"new\" xlink:title=\"psysml:4215315b-f4db-4a1d-ab72-0471726dcc45\" xlink:type=\"simple\"><rect fill=\"#FFFFFF\" height=\"45.9375\" id=\"E6\" rx=\"10\" ry=\"10\" style=\"stroke: #383838; stroke-width: 1.5;\" width=\"71\" x=\"426.5\" y=\"159.5\"/><text fill=\"#000000\" font-family=\"sans-serif\" font-size=\"12\" font-style=\"italic\" lengthAdjust=\"spacingAndGlyphs\" textLength=\"69\" x=\"427.5\" y=\"175.6387\">«attribute»</text><text fill=\"#000000\" font-family=\"sans-serif\" font-size=\"12\" lengthAdjust=\"spacingAndGlyphs\" textLength=\"6\" x=\"459\" y=\"189.6074\">x</text><line style=\"stroke: #383838; stroke-width: 1.5;\" x1=\"427.5\" x2=\"496.5\" y1=\"197.4375\" y2=\"197.4375\"/></a><!--MD5=[2156ba9850f5573cc1fc38a6a4b2f02b]\n",
       "class E7--><a href=\"psysml:89a85a0a-005f-45e8-8309-6769d170c6df\" target=\"_top\" title=\"psysml:89a85a0a-005f-45e8-8309-6769d170c6df\" xlink:actuate=\"onRequest\" xlink:href=\"psysml:89a85a0a-005f-45e8-8309-6769d170c6df\" xlink:show=\"new\" xlink:title=\"psysml:89a85a0a-005f-45e8-8309-6769d170c6df\" xlink:type=\"simple\"><rect fill=\"#FFFFFF\" height=\"45.9375\" id=\"E7\" rx=\"10\" ry=\"10\" style=\"stroke: #383838; stroke-width: 1.5;\" width=\"71\" x=\"426.5\" y=\"100\"/><text fill=\"#000000\" font-family=\"sans-serif\" font-size=\"12\" font-style=\"italic\" lengthAdjust=\"spacingAndGlyphs\" textLength=\"69\" x=\"427.5\" y=\"116.1387\">«attribute»</text><text fill=\"#000000\" font-family=\"sans-serif\" font-size=\"12\" lengthAdjust=\"spacingAndGlyphs\" textLength=\"6\" x=\"459\" y=\"130.1074\">y</text><line style=\"stroke: #383838; stroke-width: 1.5;\" x1=\"427.5\" x2=\"496.5\" y1=\"137.9375\" y2=\"137.9375\"/></a><g id=\"E1.E3.E4\"><a href=\"psysml:9dcf2186-613a-4b96-912f-a1b95f354387\" target=\"_top\" title=\"psysml:9dcf2186-613a-4b96-912f-a1b95f354387\" xlink:actuate=\"onRequest\" xlink:href=\"psysml:9dcf2186-613a-4b96-912f-a1b95f354387\" xlink:show=\"new\" xlink:title=\"psysml:9dcf2186-613a-4b96-912f-a1b95f354387\" xlink:type=\"simple\"><rect fill=\"#FFFFFF\" height=\"40\" id=\"E4\" rx=\"10\" ry=\"10\" style=\"stroke: #383838; stroke-width: 1.5;\" width=\"50\" x=\"551\" y=\"162.5\"/><rect fill=\"#F8F8F8\" height=\"23.9688\" rx=\"10\" ry=\"10\" style=\"stroke: #F8F8F8; stroke-width: 1.5;\" width=\"50\" x=\"551\" y=\"162.5\"/><rect fill=\"#F8F8F8\" height=\"10\" style=\"stroke: #F8F8F8; stroke-width: 1.5;\" width=\"50\" x=\"551\" y=\"176.4688\"/><rect fill=\"none\" height=\"40\" id=\"E4\" rx=\"10\" ry=\"10\" style=\"stroke: #383838; stroke-width: 1.5;\" width=\"50\" x=\"551\" y=\"162.5\"/><text fill=\"#000000\" font-family=\"sans-serif\" font-size=\"12\" lengthAdjust=\"spacingAndGlyphs\" textLength=\"24\" x=\"564\" y=\"178.6387\">b: B</text></a></g><text fill=\"#000000\" font-family=\"sans-serif\" font-size=\"14\" lengthAdjust=\"spacingAndGlyphs\" textLength=\"38\" x=\"323\" y=\"41.1982\">x: ~C</text><rect fill=\"#383838\" height=\"12\" style=\"stroke: #F8F8F8; stroke-width: 1.5;\" width=\"12\" x=\"336\" y=\"56.5\"/><g id=\"E1.E8.E9\"><a href=\"psysml:c128dc79-fecf-4cdb-b1ba-5850a9b121ec\" target=\"_top\" title=\"psysml:c128dc79-fecf-4cdb-b1ba-5850a9b121ec\" xlink:actuate=\"onRequest\" xlink:href=\"psysml:c128dc79-fecf-4cdb-b1ba-5850a9b121ec\" xlink:show=\"new\" xlink:title=\"psysml:c128dc79-fecf-4cdb-b1ba-5850a9b121ec\" xlink:type=\"simple\"><rect fill=\"#FFFFFF\" height=\"40\" id=\"E9\" rx=\"10\" ry=\"10\" style=\"stroke: #383838; stroke-width: 1.5;\" width=\"50\" x=\"213\" y=\"103\"/><rect fill=\"#F8F8F8\" height=\"23.9688\" rx=\"10\" ry=\"10\" style=\"stroke: #F8F8F8; stroke-width: 1.5;\" width=\"50\" x=\"213\" y=\"103\"/><rect fill=\"#F8F8F8\" height=\"10\" style=\"stroke: #F8F8F8; stroke-width: 1.5;\" width=\"50\" x=\"213\" y=\"116.9688\"/><rect fill=\"none\" height=\"40\" id=\"E9\" rx=\"10\" ry=\"10\" style=\"stroke: #383838; stroke-width: 1.5;\" width=\"50\" x=\"213\" y=\"103\"/><text fill=\"#000000\" font-family=\"sans-serif\" font-size=\"12\" lengthAdjust=\"spacingAndGlyphs\" textLength=\"24\" x=\"226\" y=\"119.1387\">a: A</text></a></g><a href=\"psysml:f4e4ee2b-1abf-4dbd-8483-2b091bdfceaf\" target=\"_top\" title=\"psysml:f4e4ee2b-1abf-4dbd-8483-2b091bdfceaf\" xlink:actuate=\"onRequest\" xlink:href=\"psysml:f4e4ee2b-1abf-4dbd-8483-2b091bdfceaf\" xlink:show=\"new\" xlink:title=\"psysml:f4e4ee2b-1abf-4dbd-8483-2b091bdfceaf\" xlink:type=\"simple\"><polygon fill=\"#FFFFFF\" points=\"327.5,156,342.5,156,349.5,178.2969,356.5,178.2969,356.5,208.5938,327.5,208.5938,327.5,156\" style=\"stroke: #000000; stroke-width: 1.5;\"/><line style=\"stroke: #000000; stroke-width: 1.5;\" x1=\"327.5\" x2=\"349.5\" y1=\"178.2969\" y2=\"178.2969\"/><text fill=\"#000000\" font-family=\"sans-serif\" font-size=\"14\" font-weight=\"bold\" lengthAdjust=\"spacingAndGlyphs\" textLength=\"9\" x=\"331.5\" y=\"170.9951\">P</text></a><!--MD5=[fbb449814971db3a0b8220cf225b9e01]\n",
       "link E7 to E6--><a href=\"psysml:786244db-8099-4288-b2d9-7a0aeaae101d\" target=\"_top\" title=\"psysml:786244db-8099-4288-b2d9-7a0aeaae101d\" xlink:actuate=\"onRequest\" xlink:href=\"psysml:786244db-8099-4288-b2d9-7a0aeaae101d\" xlink:show=\"new\" xlink:title=\"psysml:786244db-8099-4288-b2d9-7a0aeaae101d\" xlink:type=\"simple\"><path d=\"M462,146.07 C462,146.2 462,146.34 462,146.47 \" fill=\"none\" id=\"E7-&gt;E6\" style=\"stroke: #383838; stroke-width: 1.0;\"/><polygon fill=\"none\" points=\"469,139.21,462,159.21,455,139.21,469,139.21\" style=\"stroke: #383838; stroke-width: 1.0;\"/></a><!--MD5=[31252da658227355b2cc60e7b65e7db6]\n",
       "@startuml\r\n",
       "skinparam ranksep 10\r\n",
       "skinparam rectangle {\r\n",
       " backgroundColor<<block>> LightGreen\r\n",
       "}\r\n",
       "top to bottom direction\r\n",
       "skinparam monochrome true\r\n",
       "skinparam classbackgroundcolor white\r\n",
       "skinparam shadowing false\r\n",
       "skinparam wrapWidth 300\r\n",
       "hide circle\r\n",
       "\r\n",
       "package \"PartTest\" as E1  [[psysml:a6b62677-d27b-4bf3-83e0-375e3ba01a4b ]]  {\r\n",
       "rec usage \"f: A\" as E2  [[psysml:fef66b5f-1b9d-421e-94fe-86858427a029 ]] {\r\n",
       "}\r\n",
       "rec def \"A\" as E3  <<(T,blue) part def>> [[psysml:a2cad1be-c52d-4964-a87e-891cd7289f52 ]] {\r\n",
       "rec usage \"b: B\" as E4  [[psysml:9dcf2186-613a-4b96-912f-a1b95f354387 ]] {\r\n",
       "}\r\n",
       "portin \"c: C\" as E5  <<(T,blue) port>> [[psysml:a3147892-19dd-4d4c-8f64-71e53da800dc ]] \r\n",
       "comp usage \"x\" as E6  <<(T,blue) attribute>> [[psysml:4215315b-f4db-4a1d-ab72-0471726dcc45 ]] {\r\n",
       "}\r\n",
       "comp usage \"y\" as E7  <<(T,blue) attribute>> [[psysml:89a85a0a-005f-45e8-8309-6769d170c6df ]] {\r\n",
       "}\r\n",
       "}\r\n",
       "rec def \"B\" as E8  <<(T,blue) part def>> [[psysml:bbb3af71-bfb9-47e2-863f-33482c8ff081 ]] {\r\n",
       "rec usage \"a: A\" as E9  [[psysml:c128dc79-fecf-4cdb-b1ba-5850a9b121ec ]] {\r\n",
       "}\r\n",
       "portin \"x: ~C\" as E10  <<(T,blue) port>> [[psysml:540f6402-e62e-4ea3-b051-5d5cf5bfcb38 ]] \r\n",
       "package \"P\" as E11  [[psysml:f4e4ee2b-1abf-4dbd-8483-2b091bdfceaf ]]  {\r\n",
       "}\r\n",
       "}\r\n",
       "def \"C\" as E12  <<(T,blue) port def>> [[psysml:a92372c2-fe41-425f-b40c-da5b8c1ca15d ]] \r\n",
       "}\r\n",
       "E7 - -|> E6 [[psysml:786244db-8099-4288-b2d9-7a0aeaae101d ]] \r\n",
       "@enduml\r\n",
       "\n",
       "PlantUML version 1.2020.13(Sat Jun 13 12:26:38 UTC 2020)\n",
       "(EPL source distribution)\n",
       "Java Runtime: OpenJDK Runtime Environment\n",
       "JVM: OpenJDK 64-Bit Server VM\n",
       "Default Encoding: UTF-8\n",
       "Language: en\n",
       "Country: null\n",
       "--></g></svg>"
      ]
     },
     "execution_count": 47,
     "metadata": {},
     "output_type": "execute_result"
    }
   ],
   "source": [
    "%viz --style=\"TB\" --view=\"Interconnection\" \"PartTest\""
   ]
  },
  {
   "cell_type": "code",
   "execution_count": 48,
   "id": "3f8d2e99",
   "metadata": {
    "execution": {
     "iopub.execute_input": "2021-10-03T08:29:55.729665Z",
     "iopub.status.busy": "2021-10-03T08:29:55.729148Z",
     "iopub.status.idle": "2021-10-03T08:29:55.734329Z",
     "shell.execute_reply": "2021-10-03T08:29:55.733994Z"
    }
   },
   "outputs": [
    {
     "data": {
      "image/svg+xml": [
       "<?xml version=\"1.0\" encoding=\"UTF-8\" standalone=\"no\"?><svg xmlns=\"http://www.w3.org/2000/svg\" xmlns:xlink=\"http://www.w3.org/1999/xlink\" contentScriptType=\"application/ecmascript\" contentStyleType=\"text/css\" height=\"12px\" preserveAspectRatio=\"none\" style=\"width:12px;height:12px;\" version=\"1.1\" viewBox=\"0 0 12 12\" width=\"12px\" zoomAndPan=\"magnify\"><defs/><g><!--MD5=[06afc254b03ac5e9d9fb7773b07d0800]\n",
       "@startuml\r\n",
       "skinparam ranksep 8\r\n",
       "top to bottom direction\r\n",
       "skinparam monochrome true\r\n",
       "skinparam classbackgroundcolor white\r\n",
       "skinparam shadowing false\r\n",
       "skinparam wrapWidth 300\r\n",
       "hide circle\r\n",
       "\r\n",
       "@enduml\r\n",
       "\n",
       "PlantUML version 1.2020.13(Sat Jun 13 12:26:38 UTC 2020)\n",
       "(EPL source distribution)\n",
       "Java Runtime: OpenJDK Runtime Environment\n",
       "JVM: OpenJDK 64-Bit Server VM\n",
       "Default Encoding: UTF-8\n",
       "Language: en\n",
       "Country: null\n",
       "--></g></svg>"
      ]
     },
     "execution_count": 48,
     "metadata": {},
     "output_type": "execute_result"
    }
   ],
   "source": [
    "%viz --style=\"TB\" --view=\"Action\" \"PartTest\""
   ]
  },
  {
   "cell_type": "code",
   "execution_count": 49,
   "id": "a9d5b1f9",
   "metadata": {
    "execution": {
     "iopub.execute_input": "2021-10-03T08:29:55.784200Z",
     "iopub.status.busy": "2021-10-03T08:29:55.783649Z",
     "iopub.status.idle": "2021-10-03T08:29:55.790181Z",
     "shell.execute_reply": "2021-10-03T08:29:55.789661Z"
    }
   },
   "outputs": [
    {
     "data": {
      "image/svg+xml": [
       "<?xml version=\"1.0\" encoding=\"UTF-8\" standalone=\"no\"?><svg xmlns=\"http://www.w3.org/2000/svg\" xmlns:xlink=\"http://www.w3.org/1999/xlink\" contentScriptType=\"application/ecmascript\" contentStyleType=\"text/css\" height=\"12px\" preserveAspectRatio=\"none\" style=\"width:12px;height:12px;\" version=\"1.1\" viewBox=\"0 0 12 12\" width=\"12px\" zoomAndPan=\"magnify\"><defs/><g><!--MD5=[e1ab0c84c44d2fef8bf5f140f2689906]\n",
       "@startuml\r\n",
       "skinparam roundcorner 20\r\n",
       "skinparam BoxPadding 20\r\n",
       "skinparam SequenceBoxBackgroundColor #white\r\n",
       "skinparam style strictuml\r\n",
       "skinparam maxMessageSize 100\r\n",
       "top to bottom direction\r\n",
       "skinparam monochrome true\r\n",
       "skinparam classbackgroundcolor white\r\n",
       "skinparam shadowing false\r\n",
       "skinparam wrapWidth 300\r\n",
       "hide circle\r\n",
       "\r\n",
       "@enduml\r\n",
       "\n",
       "PlantUML version 1.2020.13(Sat Jun 13 12:26:38 UTC 2020)\n",
       "(EPL source distribution)\n",
       "Java Runtime: OpenJDK Runtime Environment\n",
       "JVM: OpenJDK 64-Bit Server VM\n",
       "Default Encoding: UTF-8\n",
       "Language: en\n",
       "Country: null\n",
       "--></g></svg>"
      ]
     },
     "execution_count": 49,
     "metadata": {},
     "output_type": "execute_result"
    }
   ],
   "source": [
    "%viz --style=\"TB\" --view=\"Sequence\" \"PartTest\""
   ]
  },
  {
   "cell_type": "code",
   "execution_count": 50,
   "id": "7c097804",
   "metadata": {
    "execution": {
     "iopub.execute_input": "2021-10-03T08:29:55.838922Z",
     "iopub.status.busy": "2021-10-03T08:29:55.838509Z",
     "iopub.status.idle": "2021-10-03T08:29:55.894130Z",
     "shell.execute_reply": "2021-10-03T08:29:55.892159Z"
    }
   },
   "outputs": [
    {
     "data": {
      "image/svg+xml": [
       "<?xml version=\"1.0\" encoding=\"UTF-8\" standalone=\"no\"?><svg xmlns=\"http://www.w3.org/2000/svg\" xmlns:xlink=\"http://www.w3.org/1999/xlink\" contentScriptType=\"application/ecmascript\" contentStyleType=\"text/css\" height=\"760px\" preserveAspectRatio=\"none\" style=\"width:423px;height:760px;\" version=\"1.1\" viewBox=\"0 0 423 760\" width=\"423px\" zoomAndPan=\"magnify\"><defs/><g><!--MD5=[fbc87193dbaf4d95561dea2c320d4a47]\n",
       "cluster E1--><a href=\"psysml:a6b62677-d27b-4bf3-83e0-375e3ba01a4b\" target=\"_top\" title=\"psysml:a6b62677-d27b-4bf3-83e0-375e3ba01a4b\" xlink:actuate=\"onRequest\" xlink:href=\"psysml:a6b62677-d27b-4bf3-83e0-375e3ba01a4b\" xlink:show=\"new\" xlink:title=\"psysml:a6b62677-d27b-4bf3-83e0-375e3ba01a4b\" xlink:type=\"simple\"><polygon fill=\"#FFFFFF\" points=\"16,6,80,6,87,28.2969,401,28.2969,401,748,16,748,16,6\" style=\"stroke: #000000; stroke-width: 1.5;\"/><line style=\"stroke: #000000; stroke-width: 1.5;\" x1=\"16\" x2=\"87\" y1=\"28.2969\" y2=\"28.2969\"/><text fill=\"#000000\" font-family=\"sans-serif\" font-size=\"14\" font-weight=\"bold\" lengthAdjust=\"spacingAndGlyphs\" textLength=\"58\" x=\"20\" y=\"20.9951\">PartTest</text></a><!--MD5=[b4997ac47864f28c2f74865a473b2911]\n",
       "class E2--><a href=\"psysml:fef66b5f-1b9d-421e-94fe-86858427a029\" target=\"_top\" title=\"psysml:fef66b5f-1b9d-421e-94fe-86858427a029\" xlink:actuate=\"onRequest\" xlink:href=\"psysml:fef66b5f-1b9d-421e-94fe-86858427a029\" xlink:show=\"new\" xlink:title=\"psysml:fef66b5f-1b9d-421e-94fe-86858427a029\" xlink:type=\"simple\"><rect fill=\"#FFFFFF\" height=\"45.9375\" id=\"E2\" rx=\"10\" ry=\"10\" style=\"stroke: #383838; stroke-width: 1.5;\" width=\"42\" x=\"201\" y=\"41\"/><text fill=\"#000000\" font-family=\"sans-serif\" font-size=\"12\" font-style=\"italic\" lengthAdjust=\"spacingAndGlyphs\" textLength=\"40\" x=\"202\" y=\"57.1387\">«part»</text><text fill=\"#000000\" font-family=\"sans-serif\" font-size=\"12\" lengthAdjust=\"spacingAndGlyphs\" textLength=\"20\" x=\"212\" y=\"71.1074\">f: A</text><line style=\"stroke: #383838; stroke-width: 1.5;\" x1=\"202\" x2=\"242\" y1=\"78.9375\" y2=\"78.9375\"/></a><!--MD5=[09b614a08d8cba4a07c9adeb5e0fee81]\n",
       "class E3--><a href=\"psysml:a2cad1be-c52d-4964-a87e-891cd7289f52\" target=\"_top\" title=\"psysml:a2cad1be-c52d-4964-a87e-891cd7289f52\" xlink:actuate=\"onRequest\" xlink:href=\"psysml:a2cad1be-c52d-4964-a87e-891cd7289f52\" xlink:show=\"new\" xlink:title=\"psysml:a2cad1be-c52d-4964-a87e-891cd7289f52\" xlink:type=\"simple\"><rect fill=\"#FFFFFF\" height=\"88.3516\" id=\"E3\" style=\"stroke: #383838; stroke-width: 1.5;\" width=\"66\" x=\"189\" y=\"148\"/><text fill=\"#000000\" font-family=\"sans-serif\" font-size=\"12\" font-style=\"italic\" lengthAdjust=\"spacingAndGlyphs\" textLength=\"64\" x=\"190\" y=\"164.1387\">«part def»</text><text fill=\"#000000\" font-family=\"sans-serif\" font-size=\"12\" lengthAdjust=\"spacingAndGlyphs\" textLength=\"8\" x=\"218\" y=\"178.1074\">A</text><line style=\"stroke: #383838; stroke-width: 1.5;\" x1=\"190\" x2=\"254\" y1=\"185.9375\" y2=\"185.9375\"/><text fill=\"#000000\" font-family=\"sans-serif\" font-size=\"11\" lengthAdjust=\"spacingAndGlyphs\" textLength=\"6\" x=\"195\" y=\"216.9526\">x</text><text fill=\"#000000\" font-family=\"sans-serif\" font-size=\"11\" lengthAdjust=\"spacingAndGlyphs\" textLength=\"6\" x=\"195\" y=\"229.7573\">y</text><line style=\"stroke: #383838; stroke-width: 1.0;\" x1=\"190\" x2=\"194.5\" y1=\"200.3398\" y2=\"200.3398\"/><text fill=\"#000000\" font-family=\"sans-serif\" font-size=\"11\" lengthAdjust=\"spacingAndGlyphs\" textLength=\"55\" x=\"194.5\" y=\"203.6479\">attributes</text><line style=\"stroke: #383838; stroke-width: 1.0;\" x1=\"249.5\" x2=\"254\" y1=\"200.3398\" y2=\"200.3398\"/></a><!--MD5=[ebbe1d658d1005bcc118a6aa81145e00]\n",
       "class E4--><a href=\"psysml:9dcf2186-613a-4b96-912f-a1b95f354387\" target=\"_top\" title=\"psysml:9dcf2186-613a-4b96-912f-a1b95f354387\" xlink:actuate=\"onRequest\" xlink:href=\"psysml:9dcf2186-613a-4b96-912f-a1b95f354387\" xlink:show=\"new\" xlink:title=\"psysml:9dcf2186-613a-4b96-912f-a1b95f354387\" xlink:type=\"simple\"><rect fill=\"#FFFFFF\" height=\"45.9375\" id=\"E4\" rx=\"10\" ry=\"10\" style=\"stroke: #383838; stroke-width: 1.5;\" width=\"42\" x=\"323\" y=\"373\"/><text fill=\"#000000\" font-family=\"sans-serif\" font-size=\"12\" font-style=\"italic\" lengthAdjust=\"spacingAndGlyphs\" textLength=\"40\" x=\"324\" y=\"389.1387\">«part»</text><text fill=\"#000000\" font-family=\"sans-serif\" font-size=\"12\" lengthAdjust=\"spacingAndGlyphs\" textLength=\"24\" x=\"332\" y=\"403.1074\">b: B</text><line style=\"stroke: #383838; stroke-width: 1.5;\" x1=\"324\" x2=\"364\" y1=\"410.9375\" y2=\"410.9375\"/></a><!--MD5=[270fce915f116d4de14055a7c1d9a0f3]\n",
       "class E5--><a href=\"psysml:a3147892-19dd-4d4c-8f64-71e53da800dc\" target=\"_top\" title=\"psysml:a3147892-19dd-4d4c-8f64-71e53da800dc\" xlink:actuate=\"onRequest\" xlink:href=\"psysml:a3147892-19dd-4d4c-8f64-71e53da800dc\" xlink:show=\"new\" xlink:title=\"psysml:a3147892-19dd-4d4c-8f64-71e53da800dc\" xlink:type=\"simple\"><rect fill=\"#FFFFFF\" height=\"45.9375\" id=\"E5\" rx=\"10\" ry=\"10\" style=\"stroke: #383838; stroke-width: 1.5;\" width=\"42\" x=\"306\" y=\"297\"/><text fill=\"#000000\" font-family=\"sans-serif\" font-size=\"12\" font-style=\"italic\" lengthAdjust=\"spacingAndGlyphs\" textLength=\"40\" x=\"307\" y=\"313.1387\">«port»</text><text fill=\"#000000\" font-family=\"sans-serif\" font-size=\"12\" lengthAdjust=\"spacingAndGlyphs\" textLength=\"23\" x=\"315.5\" y=\"327.1074\">c: C</text><line style=\"stroke: #383838; stroke-width: 1.5;\" x1=\"307\" x2=\"347\" y1=\"334.9375\" y2=\"334.9375\"/></a><!--MD5=[60a26617385b1d2d0262a64233df1f8d]\n",
       "class E6--><a href=\"psysml:bbb3af71-bfb9-47e2-863f-33482c8ff081\" target=\"_top\" title=\"psysml:bbb3af71-bfb9-47e2-863f-33482c8ff081\" xlink:actuate=\"onRequest\" xlink:href=\"psysml:bbb3af71-bfb9-47e2-863f-33482c8ff081\" xlink:show=\"new\" xlink:title=\"psysml:bbb3af71-bfb9-47e2-863f-33482c8ff081\" xlink:type=\"simple\"><rect fill=\"#FFFFFF\" height=\"45.9375\" id=\"E6\" style=\"stroke: #383838; stroke-width: 1.5;\" width=\"66\" x=\"163\" y=\"572\"/><text fill=\"#000000\" font-family=\"sans-serif\" font-size=\"12\" font-style=\"italic\" lengthAdjust=\"spacingAndGlyphs\" textLength=\"64\" x=\"164\" y=\"588.1387\">«part def»</text><text fill=\"#000000\" font-family=\"sans-serif\" font-size=\"12\" lengthAdjust=\"spacingAndGlyphs\" textLength=\"8\" x=\"192\" y=\"602.1074\">B</text><line style=\"stroke: #383838; stroke-width: 1.5;\" x1=\"164\" x2=\"228\" y1=\"609.9375\" y2=\"609.9375\"/></a><!--MD5=[2156ba9850f5573cc1fc38a6a4b2f02b]\n",
       "class E7--><a href=\"psysml:c128dc79-fecf-4cdb-b1ba-5850a9b121ec\" target=\"_top\" title=\"psysml:c128dc79-fecf-4cdb-b1ba-5850a9b121ec\" xlink:actuate=\"onRequest\" xlink:href=\"psysml:c128dc79-fecf-4cdb-b1ba-5850a9b121ec\" xlink:show=\"new\" xlink:title=\"psysml:c128dc79-fecf-4cdb-b1ba-5850a9b121ec\" xlink:type=\"simple\"><rect fill=\"#FFFFFF\" height=\"45.9375\" id=\"E7\" rx=\"10\" ry=\"10\" style=\"stroke: #383838; stroke-width: 1.5;\" width=\"42\" x=\"58\" y=\"682.5\"/><text fill=\"#000000\" font-family=\"sans-serif\" font-size=\"12\" font-style=\"italic\" lengthAdjust=\"spacingAndGlyphs\" textLength=\"40\" x=\"59\" y=\"698.6387\">«part»</text><text fill=\"#000000\" font-family=\"sans-serif\" font-size=\"12\" lengthAdjust=\"spacingAndGlyphs\" textLength=\"24\" x=\"67\" y=\"712.6074\">a: A</text><line style=\"stroke: #383838; stroke-width: 1.5;\" x1=\"59\" x2=\"99\" y1=\"720.4375\" y2=\"720.4375\"/></a><!--MD5=[b9389687b975829384b498ac4b7476b2]\n",
       "class E8--><a href=\"psysml:540f6402-e62e-4ea3-b051-5d5cf5bfcb38\" target=\"_top\" title=\"psysml:540f6402-e62e-4ea3-b051-5d5cf5bfcb38\" xlink:actuate=\"onRequest\" xlink:href=\"psysml:540f6402-e62e-4ea3-b051-5d5cf5bfcb38\" xlink:show=\"new\" xlink:title=\"psysml:540f6402-e62e-4ea3-b051-5d5cf5bfcb38\" xlink:type=\"simple\"><rect fill=\"#FFFFFF\" height=\"45.9375\" id=\"E8\" rx=\"10\" ry=\"10\" style=\"stroke: #383838; stroke-width: 1.5;\" width=\"42\" x=\"213\" y=\"682.5\"/><text fill=\"#000000\" font-family=\"sans-serif\" font-size=\"12\" font-style=\"italic\" lengthAdjust=\"spacingAndGlyphs\" textLength=\"40\" x=\"214\" y=\"698.6387\">«port»</text><text fill=\"#000000\" font-family=\"sans-serif\" font-size=\"12\" lengthAdjust=\"spacingAndGlyphs\" textLength=\"32\" x=\"218\" y=\"712.6074\">x: ~C</text><line style=\"stroke: #383838; stroke-width: 1.5;\" x1=\"214\" x2=\"254\" y1=\"720.4375\" y2=\"720.4375\"/></a><!--MD5=[96f4274e9e20536e775497830990834d]\n",
       "class E10--><a href=\"psysml:a92372c2-fe41-425f-b40c-da5b8c1ca15d\" target=\"_top\" title=\"psysml:a92372c2-fe41-425f-b40c-da5b8c1ca15d\" xlink:actuate=\"onRequest\" xlink:href=\"psysml:a92372c2-fe41-425f-b40c-da5b8c1ca15d\" xlink:show=\"new\" xlink:title=\"psysml:a92372c2-fe41-425f-b40c-da5b8c1ca15d\" xlink:type=\"simple\"><rect fill=\"#FFFFFF\" height=\"45.9375\" id=\"E10\" style=\"stroke: #383838; stroke-width: 1.5;\" width=\"66\" x=\"163\" y=\"449\"/><text fill=\"#000000\" font-family=\"sans-serif\" font-size=\"12\" font-style=\"italic\" lengthAdjust=\"spacingAndGlyphs\" textLength=\"64\" x=\"164\" y=\"465.1387\">«port def»</text><text fill=\"#000000\" font-family=\"sans-serif\" font-size=\"12\" lengthAdjust=\"spacingAndGlyphs\" textLength=\"8\" x=\"192\" y=\"479.1074\">C</text><line style=\"stroke: #383838; stroke-width: 1.5;\" x1=\"164\" x2=\"228\" y1=\"486.9375\" y2=\"486.9375\"/></a><a href=\"psysml:f4e4ee2b-1abf-4dbd-8483-2b091bdfceaf\" target=\"_top\" title=\"psysml:f4e4ee2b-1abf-4dbd-8483-2b091bdfceaf\" xlink:actuate=\"onRequest\" xlink:href=\"psysml:f4e4ee2b-1abf-4dbd-8483-2b091bdfceaf\" xlink:show=\"new\" xlink:title=\"psysml:f4e4ee2b-1abf-4dbd-8483-2b091bdfceaf\" xlink:type=\"simple\"><polygon fill=\"#FFFFFF\" points=\"148.5,679,163.5,679,170.5,701.2969,177.5,701.2969,177.5,731.5938,148.5,731.5938,148.5,679\" style=\"stroke: #000000; stroke-width: 1.5;\"/><line style=\"stroke: #000000; stroke-width: 1.5;\" x1=\"148.5\" x2=\"170.5\" y1=\"701.2969\" y2=\"701.2969\"/><text fill=\"#000000\" font-family=\"sans-serif\" font-size=\"14\" font-weight=\"bold\" lengthAdjust=\"spacingAndGlyphs\" textLength=\"9\" x=\"152.5\" y=\"693.9951\">P</text></a><!--MD5=[2720a5a1f2c3fca2055b230370638851]\n",
       "link E2 to E3--><a href=\"psysml:488f6ee0-39a9-4dc0-b555-612cc99c37a1\" target=\"_top\" title=\"psysml:488f6ee0-39a9-4dc0-b555-612cc99c37a1\" xlink:actuate=\"onRequest\" xlink:href=\"psysml:488f6ee0-39a9-4dc0-b555-612cc99c37a1\" xlink:show=\"new\" xlink:title=\"psysml:488f6ee0-39a9-4dc0-b555-612cc99c37a1\" xlink:type=\"simple\"><path d=\"M222,87.24 C222,98.62 222,113.11 222,127.62 \" fill=\"none\" id=\"E2-&gt;E3\" style=\"stroke: #383838; stroke-width: 1.0;\"/><polygon fill=\"#FFFFFF\" points=\"222,147.84,215,128.84,229,128.84,222,147.84\" style=\"stroke: #383838; stroke-width: 1.0;\"/><ellipse cx=\"217\" cy=\"123.14\" fill=\"#383838\" rx=\"2\" ry=\"2\" style=\"stroke: #383838; stroke-width: 1.0;\"/><ellipse cx=\"227\" cy=\"123.14\" fill=\"#383838\" rx=\"2\" ry=\"2\" style=\"stroke: #383838; stroke-width: 1.0;\"/></a><!--MD5=[4672eba38e49728da53d11aeb285b987]\n",
       "reverse link E3 to E4--><a href=\"psysml:98712745-a638-4d1f-8ffc-380c342569c9\" target=\"_top\" title=\"psysml:98712745-a638-4d1f-8ffc-380c342569c9\" xlink:actuate=\"onRequest\" xlink:href=\"psysml:98712745-a638-4d1f-8ffc-380c342569c9\" xlink:show=\"new\" xlink:title=\"psysml:98712745-a638-4d1f-8ffc-380c342569c9\" xlink:type=\"simple\"><path d=\"M267.21,211.72 C301.24,228.53 345.43,256.77 366,297 C378.38,321.22 367.51,352.31 357.12,372.91 \" fill=\"none\" id=\"E3&lt;-E4\" style=\"stroke: #383838; stroke-width: 1.0;\"/><polygon fill=\"#383838\" points=\"255.19,206.05,258.9023,212.2321,266.0367,211.1831,262.3244,205.001,255.19,206.05\" style=\"stroke: #383838; stroke-width: 1.0;\"/><text fill=\"#000000\" font-family=\"sans-serif\" font-size=\"13\" lengthAdjust=\"spacingAndGlyphs\" textLength=\"8\" x=\"352.5085\" y=\"363.0064\">1</text></a><!--MD5=[191cde3d490a3f6d7bb551fe3ddca469]\n",
       "reverse link E3 to E5--><a href=\"psysml:3d3c789c-d512-4565-8d7c-059f8d1010f8\" target=\"_top\" title=\"psysml:3d3c789c-d512-4565-8d7c-059f8d1010f8\" xlink:actuate=\"onRequest\" xlink:href=\"psysml:3d3c789c-d512-4565-8d7c-059f8d1010f8\" xlink:show=\"new\" xlink:title=\"psysml:3d3c789c-d512-4565-8d7c-059f8d1010f8\" xlink:type=\"simple\"><path d=\"M263.71,243.06 C279.31,261.77 296.23,282.08 308.65,296.98 \" fill=\"none\" id=\"E3&lt;-E5\" style=\"stroke: #383838; stroke-width: 1.0;\"/><polygon fill=\"#FFFFFF\" points=\"255.22,232.87,255.9912,240.0397,262.9061,242.0854,262.1349,234.9157,255.22,232.87\" style=\"stroke: #383838; stroke-width: 1.0;\"/><text fill=\"#000000\" font-family=\"sans-serif\" font-size=\"13\" lengthAdjust=\"spacingAndGlyphs\" textLength=\"8\" x=\"294.6434\" y=\"285.8709\">1</text></a><!--MD5=[79568f1e445c3877b6a54524624ccc7d]\n",
       "link E4 to E6--><a href=\"psysml:1225703b-924d-44f0-aa92-4bca49ced0c9\" target=\"_top\" title=\"psysml:1225703b-924d-44f0-aa92-4bca49ced0c9\" xlink:actuate=\"onRequest\" xlink:href=\"psysml:1225703b-924d-44f0-aa92-4bca49ced0c9\" xlink:show=\"new\" xlink:title=\"psysml:1225703b-924d-44f0-aa92-4bca49ced0c9\" xlink:type=\"simple\"><path d=\"M327.31,419.22 C302.43,452.34 255.27,515.1 224.76,555.71 \" fill=\"none\" id=\"E4-&gt;E6\" style=\"stroke: #383838; stroke-width: 1.0;\"/><polygon fill=\"#FFFFFF\" points=\"212.63,571.87,218.4494,552.4758,229.641,560.887,212.63,571.87\" style=\"stroke: #383838; stroke-width: 1.0;\"/><ellipse cx=\"223.4728\" cy=\"549.1208\" fill=\"#383838\" rx=\"2\" ry=\"2\" style=\"stroke: #383838; stroke-width: 1.0;\"/><ellipse cx=\"231.4668\" cy=\"555.1288\" fill=\"#383838\" rx=\"2\" ry=\"2\" style=\"stroke: #383838; stroke-width: 1.0;\"/></a><!--MD5=[3f50a3473f1dfb74d3f76443e03635af]\n",
       "reverse link E6 to E7--><a href=\"psysml:a81e6d2d-a633-4d51-820c-a47602c519dd\" target=\"_top\" title=\"psysml:a81e6d2d-a633-4d51-820c-a47602c519dd\" xlink:actuate=\"onRequest\" xlink:href=\"psysml:a81e6d2d-a633-4d51-820c-a47602c519dd\" xlink:show=\"new\" xlink:title=\"psysml:a81e6d2d-a633-4d51-820c-a47602c519dd\" xlink:type=\"simple\"><path d=\"M162.35,627.2 C142.32,645.78 117.5,668.8 100.18,684.86 \" fill=\"none\" id=\"E6&lt;-E7\" style=\"stroke: #383838; stroke-width: 1.0;\"/><polygon fill=\"#383838\" points=\"172.04,618.22,164.9211,619.3695,163.2441,626.3829,170.363,625.2334,172.04,618.22\" style=\"stroke: #383838; stroke-width: 1.0;\"/><text fill=\"#000000\" font-family=\"sans-serif\" font-size=\"13\" lengthAdjust=\"spacingAndGlyphs\" textLength=\"8\" x=\"107.8914\" y=\"673.3389\">1</text></a><!--MD5=[14ccda38c055a5c0da953d572bc50960]\n",
       "link E7 to E3--><a href=\"psysml:4883cacd-6695-4e4a-8cc2-3609b81ec9a9\" target=\"_top\" title=\"psysml:4883cacd-6695-4e4a-8cc2-3609b81ec9a9\" xlink:actuate=\"onRequest\" xlink:href=\"psysml:4883cacd-6695-4e4a-8cc2-3609b81ec9a9\" xlink:show=\"new\" xlink:title=\"psysml:4883cacd-6695-4e4a-8cc2-3609b81ec9a9\" xlink:type=\"simple\"><path d=\"M63.43,682.38 C50.08,661.23 33,627.92 33,596 C33,319 33,319 33,319 C33,253.29 113.07,219.74 168.98,204.32 \" fill=\"none\" id=\"E7-&gt;E3\" style=\"stroke: #383838; stroke-width: 1.0;\"/><polygon fill=\"#FFFFFF\" points=\"188.65,199.35,171.9427,210.7897,168.5143,197.216,188.65,199.35\" style=\"stroke: #383838; stroke-width: 1.0;\"/><ellipse cx=\"165.9265\" cy=\"210.2465\" fill=\"#383838\" rx=\"2\" ry=\"2\" style=\"stroke: #383838; stroke-width: 1.0;\"/><ellipse cx=\"163.4776\" cy=\"200.5509\" fill=\"#383838\" rx=\"2\" ry=\"2\" style=\"stroke: #383838; stroke-width: 1.0;\"/></a><!--MD5=[f4cf0736d43fd73c4ef68817c49d37d5]\n",
       "reverse link E6 to E8--><a href=\"psysml:2d844c43-a52c-43bf-b052-a300acb2bf74\" target=\"_top\" title=\"psysml:2d844c43-a52c-43bf-b052-a300acb2bf74\" xlink:actuate=\"onRequest\" xlink:href=\"psysml:2d844c43-a52c-43bf-b052-a300acb2bf74\" xlink:show=\"new\" xlink:title=\"psysml:2d844c43-a52c-43bf-b052-a300acb2bf74\" xlink:type=\"simple\"><path d=\"M208.25,630.98 C214.15,647.83 221.06,667.54 226.23,682.31 \" fill=\"none\" id=\"E6&lt;-E8\" style=\"stroke: #383838; stroke-width: 1.0;\"/><polygon fill=\"#FFFFFF\" points=\"203.78,618.22,201.9892,625.2052,207.7483,629.5449,209.5391,622.5597,203.78,618.22\" style=\"stroke: #383838; stroke-width: 1.0;\"/><text fill=\"#000000\" font-family=\"sans-serif\" font-size=\"13\" lengthAdjust=\"spacingAndGlyphs\" textLength=\"8\" x=\"215.2139\" y=\"671.5376\">1</text></a><!--MD5=[e88d06e5a652d73a6b19930eefe025a8]\n",
       "reverse link E6 to E9--><a href=\"psysml:5153bd7e-9106-496d-98a6-0d3fae0d20a5\" target=\"_top\" title=\"psysml:5153bd7e-9106-496d-98a6-0d3fae0d20a5\" xlink:actuate=\"onRequest\" xlink:href=\"psysml:5153bd7e-9106-496d-98a6-0d3fae0d20a5\" xlink:show=\"new\" xlink:title=\"psysml:5153bd7e-9106-496d-98a6-0d3fae0d20a5\" xlink:type=\"simple\"><path d=\"M184.74,633.01 C180.15,648.11 174.95,665.2 170.79,678.88 \" fill=\"none\" id=\"E6&lt;-E9\" style=\"stroke: #383838; stroke-width: 1.0;\"/><ellipse cx=\"186.9098\" cy=\"625.8731\" fill=\"#FFFFFF\" rx=\"8\" ry=\"8\" style=\"stroke: #383838; stroke-width: 1.0;\"/><line style=\"stroke: #383838; stroke-width: 1.0;\" x1=\"184.5796\" x2=\"189.24\" y1=\"633.5262\" y2=\"618.22\"/><line style=\"stroke: #383838; stroke-width: 1.0;\" x1=\"179.2567\" x2=\"194.5629\" y1=\"623.5429\" y2=\"628.2033\"/></a><!--MD5=[f78a29d5932556fa1060671a2a6507d8]\n",
       "link E5 to E10--><a href=\"psysml:63374559-c2a0-4cf8-92a3-b39a3ed3eac1\" target=\"_top\" title=\"psysml:63374559-c2a0-4cf8-92a3-b39a3ed3eac1\" xlink:actuate=\"onRequest\" xlink:href=\"psysml:63374559-c2a0-4cf8-92a3-b39a3ed3eac1\" xlink:show=\"new\" xlink:title=\"psysml:63374559-c2a0-4cf8-92a3-b39a3ed3eac1\" xlink:type=\"simple\"><path d=\"M317.86,343.05 C308.35,364.19 291.92,396.17 271,419 C263.6,427.07 254.73,434.58 245.72,441.23 \" fill=\"none\" id=\"E5-&gt;E10\" style=\"stroke: #383838; stroke-width: 1.0;\"/><polygon fill=\"#FFFFFF\" points=\"229.11,452.57,240.857,436.0773,248.7493,447.6407,229.11,452.57\" style=\"stroke: #383838; stroke-width: 1.0;\"/><ellipse cx=\"246.6924\" cy=\"434.5159\" fill=\"#383838\" rx=\"2\" ry=\"2\" style=\"stroke: #383838; stroke-width: 1.0;\"/><ellipse cx=\"252.3298\" cy=\"442.7755\" fill=\"#383838\" rx=\"2\" ry=\"2\" style=\"stroke: #383838; stroke-width: 1.0;\"/></a><!--MD5=[8e04057e7b3cbc0dca4fc78ea351e2da]\n",
       "reverse link E10 to E3--><a href=\"psysml:e24d69b8-a494-4022-9892-35ed42c85155\" target=\"_top\" title=\"psysml:e24d69b8-a494-4022-9892-35ed42c85155\" xlink:actuate=\"onRequest\" xlink:href=\"psysml:e24d69b8-a494-4022-9892-35ed42c85155\" xlink:show=\"new\" xlink:title=\"psysml:e24d69b8-a494-4022-9892-35ed42c85155\" xlink:type=\"simple\"><path d=\"M169.12,438.19 C143.87,403.2 112.53,346.17 131,297 C142.56,266.23 167.81,238.61 188.79,219.58 \" fill=\"none\" id=\"E10&lt;-E3\" style=\"stroke: #383838; stroke-width: 1.0;\"/><polygon fill=\"#FFFFFF\" points=\"177.03,448.74,176.63,441.54,169.83,439.14,170.23,446.34,177.03,448.74\" style=\"stroke: #383838; stroke-width: 1.0;\"/><text fill=\"#000000\" font-family=\"sans-serif\" font-size=\"13\" lengthAdjust=\"spacingAndGlyphs\" textLength=\"7\" x=\"132\" y=\"324.5669\">y</text></a><!--MD5=[8e04057e7b3cbc0dca4fc78ea351e2da]\n",
       "reverse link E10 to E3--><a href=\"psysml:e24d69b8-a494-4022-9892-35ed42c85155\" target=\"_top\" title=\"psysml:e24d69b8-a494-4022-9892-35ed42c85155\" xlink:actuate=\"onRequest\" xlink:href=\"psysml:e24d69b8-a494-4022-9892-35ed42c85155\" xlink:show=\"new\" xlink:title=\"psysml:e24d69b8-a494-4022-9892-35ed42c85155\" xlink:type=\"simple\"><path d=\"M198.5,435.41 C201.06,400.21 205.32,344.85 210,297 C211.96,277.01 214.46,254.9 216.67,236.23 \" fill=\"none\" id=\"E10&lt;-E3-1\" style=\"stroke: #383838; stroke-width: 1.0;\"/><polygon fill=\"#FFFFFF\" points=\"197.54,448.73,201.9587,443.0313,198.3978,436.7607,193.9791,442.4594,197.54,448.73\" style=\"stroke: #383838; stroke-width: 1.0;\"/><text fill=\"#000000\" font-family=\"sans-serif\" font-size=\"13\" lengthAdjust=\"spacingAndGlyphs\" textLength=\"7\" x=\"211\" y=\"324.5669\">y</text></a><!--MD5=[8e04057e7b3cbc0dca4fc78ea351e2da]\n",
       "reverse link E10 to E3--><a href=\"psysml:e24d69b8-a494-4022-9892-35ed42c85155\" target=\"_top\" title=\"psysml:e24d69b8-a494-4022-9892-35ed42c85155\" xlink:actuate=\"onRequest\" xlink:href=\"psysml:e24d69b8-a494-4022-9892-35ed42c85155\" xlink:show=\"new\" xlink:title=\"psysml:e24d69b8-a494-4022-9892-35ed42c85155\" xlink:type=\"simple\"><path d=\"M205.88,436.08 C207.35,430.39 208.78,424.55 210,419 C217.35,385.53 220.1,377.15 223,343 C224.73,322.63 223.1,317.44 223,297 C222.9,276.96 222.7,254.74 222.51,236.01 \" fill=\"none\" id=\"E10&lt;-E3-2\" style=\"stroke: #383838; stroke-width: 1.0;\"/><polygon fill=\"#FFFFFF\" points=\"202.46,448.84,207.879,444.0824,205.5716,437.2504,200.1526,442.008,202.46,448.84\" style=\"stroke: #383838; stroke-width: 1.0;\"/><text fill=\"#000000\" font-family=\"sans-serif\" font-size=\"13\" lengthAdjust=\"spacingAndGlyphs\" textLength=\"7\" x=\"224\" y=\"324.5669\">y</text></a><!--MD5=[604cbf994c02b74b117f728a71673cea]\n",
       "reverse link E10 to E6--><a href=\"psysml:e24d69b8-a494-4022-9892-35ed42c85155\" target=\"_top\" title=\"psysml:e24d69b8-a494-4022-9892-35ed42c85155\" xlink:actuate=\"onRequest\" xlink:href=\"psysml:e24d69b8-a494-4022-9892-35ed42c85155\" xlink:show=\"new\" xlink:title=\"psysml:e24d69b8-a494-4022-9892-35ed42c85155\" xlink:type=\"simple\"><path d=\"M204.39,508.23 C206.07,519.04 207.05,530.99 206,542 C205.06,551.88 203.13,562.68 201.22,571.87 \" fill=\"none\" id=\"E10&lt;-E6\" style=\"stroke: #383838; stroke-width: 1.0;\"/><polygon fill=\"#FFFFFF\" points=\"201.97,495.31,199.1398,501.9425,204.1735,507.106,207.0037,500.4735,201.97,495.31\" style=\"stroke: #383838; stroke-width: 1.0;\"/><text fill=\"#000000\" font-family=\"sans-serif\" font-size=\"13\" lengthAdjust=\"spacingAndGlyphs\" textLength=\"7\" x=\"207\" y=\"538.0669\">y</text></a><!--MD5=[604cbf994c02b74b117f728a71673cea]\n",
       "reverse link E10 to E6--><a href=\"psysml:e24d69b8-a494-4022-9892-35ed42c85155\" target=\"_top\" title=\"psysml:e24d69b8-a494-4022-9892-35ed42c85155\" xlink:actuate=\"onRequest\" xlink:href=\"psysml:e24d69b8-a494-4022-9892-35ed42c85155\" xlink:show=\"new\" xlink:title=\"psysml:e24d69b8-a494-4022-9892-35ed42c85155\" xlink:type=\"simple\"><path d=\"M160.04,504.87 C155.13,511.03 150.81,517.82 148,525 C141.3,542.12 152.83,559.11 166.26,571.94 \" fill=\"none\" id=\"E10&lt;-E6-1\" style=\"stroke: #383838; stroke-width: 1.0;\"/><polygon fill=\"#FFFFFF\" points=\"168.73,495.16,161.7505,496.973,160.7396,504.1129,167.7191,502.2999,168.73,495.16\" style=\"stroke: #383838; stroke-width: 1.0;\"/><text fill=\"#000000\" font-family=\"sans-serif\" font-size=\"13\" lengthAdjust=\"spacingAndGlyphs\" textLength=\"7\" x=\"149\" y=\"538.0669\">y</text></a><!--MD5=[604cbf994c02b74b117f728a71673cea]\n",
       "reverse link E10 to E6--><a href=\"psysml:e24d69b8-a494-4022-9892-35ed42c85155\" target=\"_top\" title=\"psysml:e24d69b8-a494-4022-9892-35ed42c85155\" xlink:actuate=\"onRequest\" xlink:href=\"psysml:e24d69b8-a494-4022-9892-35ed42c85155\" xlink:show=\"new\" xlink:title=\"psysml:e24d69b8-a494-4022-9892-35ed42c85155\" xlink:type=\"simple\"><path d=\"M196,508.22 C196,528.81 196,554.16 196,571.95 \" fill=\"none\" id=\"E10&lt;-E6-2\" style=\"stroke: #383838; stroke-width: 1.0;\"/><polygon fill=\"#FFFFFF\" points=\"196,495.19,192,501.19,196,507.19,200,501.19,196,495.19\" style=\"stroke: #383838; stroke-width: 1.0;\"/><text fill=\"#000000\" font-family=\"sans-serif\" font-size=\"13\" lengthAdjust=\"spacingAndGlyphs\" textLength=\"7\" x=\"197\" y=\"538.0669\">y</text></a><!--MD5=[8720e47200bd942a073cefbb5e4e8bca]\n",
       "@startuml\r\n",
       "top to bottom direction\r\n",
       "skinparam monochrome true\r\n",
       "skinparam classbackgroundcolor white\r\n",
       "skinparam shadowing false\r\n",
       "skinparam wrapWidth 300\r\n",
       "hide circle\r\n",
       "\r\n",
       "package \"PartTest\" as E1  [[psysml:a6b62677-d27b-4bf3-83e0-375e3ba01a4b ]]  {\r\n",
       "comp usage \"f: A\" as E2  <<(T,blue) part>> [[psysml:fef66b5f-1b9d-421e-94fe-86858427a029 ]] {\r\n",
       "}\r\n",
       "comp def \"A\" as E3  <<(T,blue) part def>> [[psysml:a2cad1be-c52d-4964-a87e-891cd7289f52 ]] {\r\n",
       "- - attributes - -\r\n",
       "x\r\n",
       "y\r\n",
       "}\r\n",
       "comp usage \"b: B\" as E4  <<(T,blue) part>> [[psysml:9dcf2186-613a-4b96-912f-a1b95f354387 ]] {\r\n",
       "}\r\n",
       "comp usage \"c: C\" as E5  <<(T,blue) port>> [[psysml:a3147892-19dd-4d4c-8f64-71e53da800dc ]] {\r\n",
       "}\r\n",
       "comp def \"B\" as E6  <<(T,blue) part def>> [[psysml:bbb3af71-bfb9-47e2-863f-33482c8ff081 ]] {\r\n",
       "}\r\n",
       "comp usage \"a: A\" as E7  <<(T,blue) part>> [[psysml:c128dc79-fecf-4cdb-b1ba-5850a9b121ec ]] {\r\n",
       "}\r\n",
       "comp usage \"x: ~C\" as E8  <<(T,blue) port>> [[psysml:540f6402-e62e-4ea3-b051-5d5cf5bfcb38 ]] {\r\n",
       "}\r\n",
       "package \"P\" as E9  [[psysml:f4e4ee2b-1abf-4dbd-8483-2b091bdfceaf ]]  {\r\n",
       "}\r\n",
       "comp def \"C\" as E10  <<(T,blue) port def>> [[psysml:a92372c2-fe41-425f-b40c-da5b8c1ca15d ]] {\r\n",
       "}\r\n",
       "}\r\n",
       "E2 - -:|> E3 [[psysml:488f6ee0-39a9-4dc0-b555-612cc99c37a1 ]] \r\n",
       "E3 *- - \"1\"E4 [[psysml:98712745-a638-4d1f-8ffc-380c342569c9 ]] \r\n",
       "E3 o- - \"1\"E5 [[psysml:3d3c789c-d512-4565-8d7c-059f8d1010f8 ]] \r\n",
       "E4 - -:|> E6 [[psysml:1225703b-924d-44f0-aa92-4bca49ced0c9 ]] \r\n",
       "E6 *- - \"1\"E7 [[psysml:a81e6d2d-a633-4d51-820c-a47602c519dd ]] \r\n",
       "E7 - -:|> E3 [[psysml:4883cacd-6695-4e4a-8cc2-3609b81ec9a9 ]] \r\n",
       "E6 o- - \"1\"E8 [[psysml:2d844c43-a52c-43bf-b052-a300acb2bf74 ]] \r\n",
       "E6 +- - E9 [[psysml:5153bd7e-9106-496d-98a6-0d3fae0d20a5 ]] \r\n",
       "E5 - -:|> E10 [[psysml:63374559-c2a0-4cf8-92a3-b39a3ed3eac1 ]] \r\n",
       "E10 o- - E3 [[psysml:e24d69b8-a494-4022-9892-35ed42c85155 ]] : y\r\n",
       "E10 o- - E6 [[psysml:e24d69b8-a494-4022-9892-35ed42c85155 ]] : y\r\n",
       "E10 o- - E3 [[psysml:e24d69b8-a494-4022-9892-35ed42c85155 ]] : y\r\n",
       "E10 o- - E6 [[psysml:e24d69b8-a494-4022-9892-35ed42c85155 ]] : y\r\n",
       "E10 o- - E3 [[psysml:e24d69b8-a494-4022-9892-35ed42c85155 ]] : y\r\n",
       "E10 o- - E6 [[psysml:e24d69b8-a494-4022-9892-35ed42c85155 ]] : y\r\n",
       "@enduml\r\n",
       "\n",
       "PlantUML version 1.2020.13(Sat Jun 13 12:26:38 UTC 2020)\n",
       "(EPL source distribution)\n",
       "Java Runtime: OpenJDK Runtime Environment\n",
       "JVM: OpenJDK 64-Bit Server VM\n",
       "Default Encoding: UTF-8\n",
       "Language: en\n",
       "Country: null\n",
       "--></g></svg>"
      ]
     },
     "execution_count": 50,
     "metadata": {},
     "output_type": "execute_result"
    }
   ],
   "source": [
    "%viz --style=\"TB\" --view=\"MIXED\" \"PartTest\""
   ]
  },
  {
   "cell_type": "code",
   "execution_count": 51,
   "id": "9566948e",
   "metadata": {
    "execution": {
     "iopub.execute_input": "2021-10-03T08:29:55.942871Z",
     "iopub.status.busy": "2021-10-03T08:29:55.942415Z",
     "iopub.status.idle": "2021-10-03T08:29:56.002801Z",
     "shell.execute_reply": "2021-10-03T08:29:56.000785Z"
    }
   },
   "outputs": [
    {
     "data": {
      "image/svg+xml": [
       "<?xml version=\"1.0\" encoding=\"UTF-8\" standalone=\"no\"?><svg xmlns=\"http://www.w3.org/2000/svg\" xmlns:xlink=\"http://www.w3.org/1999/xlink\" contentScriptType=\"application/ecmascript\" contentStyleType=\"text/css\" height=\"760px\" preserveAspectRatio=\"none\" style=\"width:423px;height:760px;\" version=\"1.1\" viewBox=\"0 0 423 760\" width=\"423px\" zoomAndPan=\"magnify\"><defs/><g><!--MD5=[fbc87193dbaf4d95561dea2c320d4a47]\n",
       "cluster E1--><a href=\"psysml:a6b62677-d27b-4bf3-83e0-375e3ba01a4b\" target=\"_top\" title=\"psysml:a6b62677-d27b-4bf3-83e0-375e3ba01a4b\" xlink:actuate=\"onRequest\" xlink:href=\"psysml:a6b62677-d27b-4bf3-83e0-375e3ba01a4b\" xlink:show=\"new\" xlink:title=\"psysml:a6b62677-d27b-4bf3-83e0-375e3ba01a4b\" xlink:type=\"simple\"><polygon fill=\"#FFFFFF\" points=\"16,6,80,6,87,28.2969,401,28.2969,401,748,16,748,16,6\" style=\"stroke: #000000; stroke-width: 1.5;\"/><line style=\"stroke: #000000; stroke-width: 1.5;\" x1=\"16\" x2=\"87\" y1=\"28.2969\" y2=\"28.2969\"/><text fill=\"#000000\" font-family=\"sans-serif\" font-size=\"14\" font-weight=\"bold\" lengthAdjust=\"spacingAndGlyphs\" textLength=\"58\" x=\"20\" y=\"20.9951\">PartTest</text></a><!--MD5=[b4997ac47864f28c2f74865a473b2911]\n",
       "class E2--><a href=\"psysml:fef66b5f-1b9d-421e-94fe-86858427a029\" target=\"_top\" title=\"psysml:fef66b5f-1b9d-421e-94fe-86858427a029\" xlink:actuate=\"onRequest\" xlink:href=\"psysml:fef66b5f-1b9d-421e-94fe-86858427a029\" xlink:show=\"new\" xlink:title=\"psysml:fef66b5f-1b9d-421e-94fe-86858427a029\" xlink:type=\"simple\"><rect fill=\"#FFFFFF\" height=\"45.9375\" id=\"E2\" rx=\"10\" ry=\"10\" style=\"stroke: #383838; stroke-width: 1.5;\" width=\"42\" x=\"201\" y=\"41\"/><text fill=\"#000000\" font-family=\"sans-serif\" font-size=\"12\" font-style=\"italic\" lengthAdjust=\"spacingAndGlyphs\" textLength=\"40\" x=\"202\" y=\"57.1387\">«part»</text><text fill=\"#000000\" font-family=\"sans-serif\" font-size=\"12\" lengthAdjust=\"spacingAndGlyphs\" textLength=\"20\" x=\"212\" y=\"71.1074\">f: A</text><line style=\"stroke: #383838; stroke-width: 1.5;\" x1=\"202\" x2=\"242\" y1=\"78.9375\" y2=\"78.9375\"/></a><!--MD5=[09b614a08d8cba4a07c9adeb5e0fee81]\n",
       "class E3--><a href=\"psysml:a2cad1be-c52d-4964-a87e-891cd7289f52\" target=\"_top\" title=\"psysml:a2cad1be-c52d-4964-a87e-891cd7289f52\" xlink:actuate=\"onRequest\" xlink:href=\"psysml:a2cad1be-c52d-4964-a87e-891cd7289f52\" xlink:show=\"new\" xlink:title=\"psysml:a2cad1be-c52d-4964-a87e-891cd7289f52\" xlink:type=\"simple\"><rect fill=\"#FFFFFF\" height=\"88.3516\" id=\"E3\" style=\"stroke: #383838; stroke-width: 1.5;\" width=\"66\" x=\"189\" y=\"148\"/><text fill=\"#000000\" font-family=\"sans-serif\" font-size=\"12\" font-style=\"italic\" lengthAdjust=\"spacingAndGlyphs\" textLength=\"64\" x=\"190\" y=\"164.1387\">«part def»</text><text fill=\"#000000\" font-family=\"sans-serif\" font-size=\"12\" lengthAdjust=\"spacingAndGlyphs\" textLength=\"8\" x=\"218\" y=\"178.1074\">A</text><line style=\"stroke: #383838; stroke-width: 1.5;\" x1=\"190\" x2=\"254\" y1=\"185.9375\" y2=\"185.9375\"/><text fill=\"#000000\" font-family=\"sans-serif\" font-size=\"11\" lengthAdjust=\"spacingAndGlyphs\" textLength=\"6\" x=\"195\" y=\"216.9526\">x</text><text fill=\"#000000\" font-family=\"sans-serif\" font-size=\"11\" lengthAdjust=\"spacingAndGlyphs\" textLength=\"6\" x=\"195\" y=\"229.7573\">y</text><line style=\"stroke: #383838; stroke-width: 1.0;\" x1=\"190\" x2=\"194.5\" y1=\"200.3398\" y2=\"200.3398\"/><text fill=\"#000000\" font-family=\"sans-serif\" font-size=\"11\" lengthAdjust=\"spacingAndGlyphs\" textLength=\"55\" x=\"194.5\" y=\"203.6479\">attributes</text><line style=\"stroke: #383838; stroke-width: 1.0;\" x1=\"249.5\" x2=\"254\" y1=\"200.3398\" y2=\"200.3398\"/></a><!--MD5=[ebbe1d658d1005bcc118a6aa81145e00]\n",
       "class E4--><a href=\"psysml:9dcf2186-613a-4b96-912f-a1b95f354387\" target=\"_top\" title=\"psysml:9dcf2186-613a-4b96-912f-a1b95f354387\" xlink:actuate=\"onRequest\" xlink:href=\"psysml:9dcf2186-613a-4b96-912f-a1b95f354387\" xlink:show=\"new\" xlink:title=\"psysml:9dcf2186-613a-4b96-912f-a1b95f354387\" xlink:type=\"simple\"><rect fill=\"#FFFFFF\" height=\"45.9375\" id=\"E4\" rx=\"10\" ry=\"10\" style=\"stroke: #383838; stroke-width: 1.5;\" width=\"42\" x=\"323\" y=\"373\"/><text fill=\"#000000\" font-family=\"sans-serif\" font-size=\"12\" font-style=\"italic\" lengthAdjust=\"spacingAndGlyphs\" textLength=\"40\" x=\"324\" y=\"389.1387\">«part»</text><text fill=\"#000000\" font-family=\"sans-serif\" font-size=\"12\" lengthAdjust=\"spacingAndGlyphs\" textLength=\"24\" x=\"332\" y=\"403.1074\">b: B</text><line style=\"stroke: #383838; stroke-width: 1.5;\" x1=\"324\" x2=\"364\" y1=\"410.9375\" y2=\"410.9375\"/></a><!--MD5=[270fce915f116d4de14055a7c1d9a0f3]\n",
       "class E5--><a href=\"psysml:a3147892-19dd-4d4c-8f64-71e53da800dc\" target=\"_top\" title=\"psysml:a3147892-19dd-4d4c-8f64-71e53da800dc\" xlink:actuate=\"onRequest\" xlink:href=\"psysml:a3147892-19dd-4d4c-8f64-71e53da800dc\" xlink:show=\"new\" xlink:title=\"psysml:a3147892-19dd-4d4c-8f64-71e53da800dc\" xlink:type=\"simple\"><rect fill=\"#FFFFFF\" height=\"45.9375\" id=\"E5\" rx=\"10\" ry=\"10\" style=\"stroke: #383838; stroke-width: 1.5;\" width=\"42\" x=\"306\" y=\"297\"/><text fill=\"#000000\" font-family=\"sans-serif\" font-size=\"12\" font-style=\"italic\" lengthAdjust=\"spacingAndGlyphs\" textLength=\"40\" x=\"307\" y=\"313.1387\">«port»</text><text fill=\"#000000\" font-family=\"sans-serif\" font-size=\"12\" lengthAdjust=\"spacingAndGlyphs\" textLength=\"23\" x=\"315.5\" y=\"327.1074\">c: C</text><line style=\"stroke: #383838; stroke-width: 1.5;\" x1=\"307\" x2=\"347\" y1=\"334.9375\" y2=\"334.9375\"/></a><!--MD5=[60a26617385b1d2d0262a64233df1f8d]\n",
       "class E6--><a href=\"psysml:bbb3af71-bfb9-47e2-863f-33482c8ff081\" target=\"_top\" title=\"psysml:bbb3af71-bfb9-47e2-863f-33482c8ff081\" xlink:actuate=\"onRequest\" xlink:href=\"psysml:bbb3af71-bfb9-47e2-863f-33482c8ff081\" xlink:show=\"new\" xlink:title=\"psysml:bbb3af71-bfb9-47e2-863f-33482c8ff081\" xlink:type=\"simple\"><rect fill=\"#FFFFFF\" height=\"45.9375\" id=\"E6\" style=\"stroke: #383838; stroke-width: 1.5;\" width=\"66\" x=\"163\" y=\"572\"/><text fill=\"#000000\" font-family=\"sans-serif\" font-size=\"12\" font-style=\"italic\" lengthAdjust=\"spacingAndGlyphs\" textLength=\"64\" x=\"164\" y=\"588.1387\">«part def»</text><text fill=\"#000000\" font-family=\"sans-serif\" font-size=\"12\" lengthAdjust=\"spacingAndGlyphs\" textLength=\"8\" x=\"192\" y=\"602.1074\">B</text><line style=\"stroke: #383838; stroke-width: 1.5;\" x1=\"164\" x2=\"228\" y1=\"609.9375\" y2=\"609.9375\"/></a><!--MD5=[2156ba9850f5573cc1fc38a6a4b2f02b]\n",
       "class E7--><a href=\"psysml:c128dc79-fecf-4cdb-b1ba-5850a9b121ec\" target=\"_top\" title=\"psysml:c128dc79-fecf-4cdb-b1ba-5850a9b121ec\" xlink:actuate=\"onRequest\" xlink:href=\"psysml:c128dc79-fecf-4cdb-b1ba-5850a9b121ec\" xlink:show=\"new\" xlink:title=\"psysml:c128dc79-fecf-4cdb-b1ba-5850a9b121ec\" xlink:type=\"simple\"><rect fill=\"#FFFFFF\" height=\"45.9375\" id=\"E7\" rx=\"10\" ry=\"10\" style=\"stroke: #383838; stroke-width: 1.5;\" width=\"42\" x=\"58\" y=\"682.5\"/><text fill=\"#000000\" font-family=\"sans-serif\" font-size=\"12\" font-style=\"italic\" lengthAdjust=\"spacingAndGlyphs\" textLength=\"40\" x=\"59\" y=\"698.6387\">«part»</text><text fill=\"#000000\" font-family=\"sans-serif\" font-size=\"12\" lengthAdjust=\"spacingAndGlyphs\" textLength=\"24\" x=\"67\" y=\"712.6074\">a: A</text><line style=\"stroke: #383838; stroke-width: 1.5;\" x1=\"59\" x2=\"99\" y1=\"720.4375\" y2=\"720.4375\"/></a><!--MD5=[b9389687b975829384b498ac4b7476b2]\n",
       "class E8--><a href=\"psysml:540f6402-e62e-4ea3-b051-5d5cf5bfcb38\" target=\"_top\" title=\"psysml:540f6402-e62e-4ea3-b051-5d5cf5bfcb38\" xlink:actuate=\"onRequest\" xlink:href=\"psysml:540f6402-e62e-4ea3-b051-5d5cf5bfcb38\" xlink:show=\"new\" xlink:title=\"psysml:540f6402-e62e-4ea3-b051-5d5cf5bfcb38\" xlink:type=\"simple\"><rect fill=\"#FFFFFF\" height=\"45.9375\" id=\"E8\" rx=\"10\" ry=\"10\" style=\"stroke: #383838; stroke-width: 1.5;\" width=\"42\" x=\"213\" y=\"682.5\"/><text fill=\"#000000\" font-family=\"sans-serif\" font-size=\"12\" font-style=\"italic\" lengthAdjust=\"spacingAndGlyphs\" textLength=\"40\" x=\"214\" y=\"698.6387\">«port»</text><text fill=\"#000000\" font-family=\"sans-serif\" font-size=\"12\" lengthAdjust=\"spacingAndGlyphs\" textLength=\"32\" x=\"218\" y=\"712.6074\">x: ~C</text><line style=\"stroke: #383838; stroke-width: 1.5;\" x1=\"214\" x2=\"254\" y1=\"720.4375\" y2=\"720.4375\"/></a><!--MD5=[96f4274e9e20536e775497830990834d]\n",
       "class E10--><a href=\"psysml:a92372c2-fe41-425f-b40c-da5b8c1ca15d\" target=\"_top\" title=\"psysml:a92372c2-fe41-425f-b40c-da5b8c1ca15d\" xlink:actuate=\"onRequest\" xlink:href=\"psysml:a92372c2-fe41-425f-b40c-da5b8c1ca15d\" xlink:show=\"new\" xlink:title=\"psysml:a92372c2-fe41-425f-b40c-da5b8c1ca15d\" xlink:type=\"simple\"><rect fill=\"#FFFFFF\" height=\"45.9375\" id=\"E10\" style=\"stroke: #383838; stroke-width: 1.5;\" width=\"66\" x=\"163\" y=\"449\"/><text fill=\"#000000\" font-family=\"sans-serif\" font-size=\"12\" font-style=\"italic\" lengthAdjust=\"spacingAndGlyphs\" textLength=\"64\" x=\"164\" y=\"465.1387\">«port def»</text><text fill=\"#000000\" font-family=\"sans-serif\" font-size=\"12\" lengthAdjust=\"spacingAndGlyphs\" textLength=\"8\" x=\"192\" y=\"479.1074\">C</text><line style=\"stroke: #383838; stroke-width: 1.5;\" x1=\"164\" x2=\"228\" y1=\"486.9375\" y2=\"486.9375\"/></a><a href=\"psysml:f4e4ee2b-1abf-4dbd-8483-2b091bdfceaf\" target=\"_top\" title=\"psysml:f4e4ee2b-1abf-4dbd-8483-2b091bdfceaf\" xlink:actuate=\"onRequest\" xlink:href=\"psysml:f4e4ee2b-1abf-4dbd-8483-2b091bdfceaf\" xlink:show=\"new\" xlink:title=\"psysml:f4e4ee2b-1abf-4dbd-8483-2b091bdfceaf\" xlink:type=\"simple\"><polygon fill=\"#FFFFFF\" points=\"148.5,679,163.5,679,170.5,701.2969,177.5,701.2969,177.5,731.5938,148.5,731.5938,148.5,679\" style=\"stroke: #000000; stroke-width: 1.5;\"/><line style=\"stroke: #000000; stroke-width: 1.5;\" x1=\"148.5\" x2=\"170.5\" y1=\"701.2969\" y2=\"701.2969\"/><text fill=\"#000000\" font-family=\"sans-serif\" font-size=\"14\" font-weight=\"bold\" lengthAdjust=\"spacingAndGlyphs\" textLength=\"9\" x=\"152.5\" y=\"693.9951\">P</text></a><!--MD5=[2720a5a1f2c3fca2055b230370638851]\n",
       "link E2 to E3--><a href=\"psysml:488f6ee0-39a9-4dc0-b555-612cc99c37a1\" target=\"_top\" title=\"psysml:488f6ee0-39a9-4dc0-b555-612cc99c37a1\" xlink:actuate=\"onRequest\" xlink:href=\"psysml:488f6ee0-39a9-4dc0-b555-612cc99c37a1\" xlink:show=\"new\" xlink:title=\"psysml:488f6ee0-39a9-4dc0-b555-612cc99c37a1\" xlink:type=\"simple\"><path d=\"M222,87.18 C222,87.18 222,127.76 222,127.76 \" fill=\"none\" id=\"E2-&gt;E3\" style=\"stroke: #383838; stroke-width: 1.0;\"/><polygon fill=\"#FFFFFF\" points=\"222,147.76,215,128.76,229,128.76,222,147.76\" style=\"stroke: #383838; stroke-width: 1.0;\"/><ellipse cx=\"217\" cy=\"123.06\" fill=\"#383838\" rx=\"2\" ry=\"2\" style=\"stroke: #383838; stroke-width: 1.0;\"/><ellipse cx=\"227\" cy=\"123.06\" fill=\"#383838\" rx=\"2\" ry=\"2\" style=\"stroke: #383838; stroke-width: 1.0;\"/></a><!--MD5=[4672eba38e49728da53d11aeb285b987]\n",
       "reverse link E3 to E4--><a href=\"psysml:98712745-a638-4d1f-8ffc-380c342569c9\" target=\"_top\" title=\"psysml:98712745-a638-4d1f-8ffc-380c342569c9\" xlink:actuate=\"onRequest\" xlink:href=\"psysml:98712745-a638-4d1f-8ffc-380c342569c9\" xlink:show=\"new\" xlink:title=\"psysml:98712745-a638-4d1f-8ffc-380c342569c9\" xlink:type=\"simple\"><path d=\"M237.67,249.01 C237.67,249.01 237.67,396 237.67,396 C237.67,396 292,396 322.99,396 \" fill=\"none\" id=\"E3&lt;-E4\" style=\"stroke: #383838; stroke-width: 1.0;\"/><polygon fill=\"#383838\" points=\"237.67,236.01,233.67,242.01,237.67,248.01,241.67,242.01,237.67,236.01\" style=\"stroke: #383838; stroke-width: 1.0;\"/><text fill=\"#000000\" font-family=\"sans-serif\" font-size=\"13\" lengthAdjust=\"spacingAndGlyphs\" textLength=\"8\" x=\"307.0181\" y=\"390.7074\">1</text></a><!--MD5=[191cde3d490a3f6d7bb551fe3ddca469]\n",
       "reverse link E3 to E5--><a href=\"psysml:3d3c789c-d512-4565-8d7c-059f8d1010f8\" target=\"_top\" title=\"psysml:3d3c789c-d512-4565-8d7c-059f8d1010f8\" xlink:actuate=\"onRequest\" xlink:href=\"psysml:3d3c789c-d512-4565-8d7c-059f8d1010f8\" xlink:show=\"new\" xlink:title=\"psysml:3d3c789c-d512-4565-8d7c-059f8d1010f8\" xlink:type=\"simple\"><path d=\"M246.33,249.05 C246.33,249.05 246.33,320 246.33,320 C246.33,320 281.91,320 305.81,320 \" fill=\"none\" id=\"E3&lt;-E5\" style=\"stroke: #383838; stroke-width: 1.0;\"/><polygon fill=\"#FFFFFF\" points=\"246.33,236.05,242.33,242.05,246.33,248.05,250.33,242.05,246.33,236.05\" style=\"stroke: #383838; stroke-width: 1.0;\"/><text fill=\"#000000\" font-family=\"sans-serif\" font-size=\"13\" lengthAdjust=\"spacingAndGlyphs\" textLength=\"8\" x=\"290.0956\" y=\"314.7999\">1</text></a><!--MD5=[79568f1e445c3877b6a54524624ccc7d]\n",
       "link E4 to E6--><a href=\"psysml:1225703b-924d-44f0-aa92-4bca49ced0c9\" target=\"_top\" title=\"psysml:1225703b-924d-44f0-aa92-4bca49ced0c9\" xlink:actuate=\"onRequest\" xlink:href=\"psysml:1225703b-924d-44f0-aa92-4bca49ced0c9\" xlink:show=\"new\" xlink:title=\"psysml:1225703b-924d-44f0-aa92-4bca49ced0c9\" xlink:type=\"simple\"><path d=\"M344,419.22 C344,471.71 344,595 344,595 C344,595 249.21,595 249.21,595 \" fill=\"none\" id=\"E4-&gt;E6\" style=\"stroke: #383838; stroke-width: 1.0;\"/><polygon fill=\"#FFFFFF\" points=\"229.21,595,248.21,588,248.21,602,229.21,595\" style=\"stroke: #383838; stroke-width: 1.0;\"/><ellipse cx=\"253.91\" cy=\"590\" fill=\"#383838\" rx=\"2\" ry=\"2\" style=\"stroke: #383838; stroke-width: 1.0;\"/><ellipse cx=\"253.91\" cy=\"600\" fill=\"#383838\" rx=\"2\" ry=\"2\" style=\"stroke: #383838; stroke-width: 1.0;\"/></a><!--MD5=[3f50a3473f1dfb74d3f76443e03635af]\n",
       "reverse link E6 to E7--><a href=\"psysml:a81e6d2d-a633-4d51-820c-a47602c519dd\" target=\"_top\" title=\"psysml:a81e6d2d-a633-4d51-820c-a47602c519dd\" xlink:actuate=\"onRequest\" xlink:href=\"psysml:a81e6d2d-a633-4d51-820c-a47602c519dd\" xlink:show=\"new\" xlink:title=\"psysml:a81e6d2d-a633-4d51-820c-a47602c519dd\" xlink:type=\"simple\"><path d=\"M150,595 C150,595 86,595 86,595 C86,595 86,649.93 86,682.34 \" fill=\"none\" id=\"E6&lt;-E7\" style=\"stroke: #383838; stroke-width: 1.0;\"/><polygon fill=\"#383838\" points=\"163,595,157,591,151,595,157,599,163,595\" style=\"stroke: #383838; stroke-width: 1.0;\"/><text fill=\"#000000\" font-family=\"sans-serif\" font-size=\"13\" lengthAdjust=\"spacingAndGlyphs\" textLength=\"8\" x=\"78.7688\" y=\"671.5753\">1</text></a><!--MD5=[14ccda38c055a5c0da953d572bc50960]\n",
       "link E7 to E3--><a href=\"psysml:4883cacd-6695-4e4a-8cc2-3609b81ec9a9\" target=\"_top\" title=\"psysml:4883cacd-6695-4e4a-8cc2-3609b81ec9a9\" xlink:actuate=\"onRequest\" xlink:href=\"psysml:4883cacd-6695-4e4a-8cc2-3609b81ec9a9\" xlink:show=\"new\" xlink:title=\"psysml:4883cacd-6695-4e4a-8cc2-3609b81ec9a9\" xlink:type=\"simple\"><path d=\"M72,682.44 C72,582.52 72,192 72,192 C72,192 168.71,192 168.71,192 \" fill=\"none\" id=\"E7-&gt;E3\" style=\"stroke: #383838; stroke-width: 1.0;\"/><polygon fill=\"#FFFFFF\" points=\"188.71,192,169.71,199,169.71,185,188.71,192\" style=\"stroke: #383838; stroke-width: 1.0;\"/><ellipse cx=\"164.01\" cy=\"197\" fill=\"#383838\" rx=\"2\" ry=\"2\" style=\"stroke: #383838; stroke-width: 1.0;\"/><ellipse cx=\"164.01\" cy=\"187\" fill=\"#383838\" rx=\"2\" ry=\"2\" style=\"stroke: #383838; stroke-width: 1.0;\"/></a><!--MD5=[f4cf0736d43fd73c4ef68817c49d37d5]\n",
       "reverse link E6 to E8--><a href=\"psysml:2d844c43-a52c-43bf-b052-a300acb2bf74\" target=\"_top\" title=\"psysml:2d844c43-a52c-43bf-b052-a300acb2bf74\" xlink:actuate=\"onRequest\" xlink:href=\"psysml:2d844c43-a52c-43bf-b052-a300acb2bf74\" xlink:show=\"new\" xlink:title=\"psysml:2d844c43-a52c-43bf-b052-a300acb2bf74\" xlink:type=\"simple\"><path d=\"M221,631.16 C221,631.16 221,682.37 221,682.37 \" fill=\"none\" id=\"E6&lt;-E8\" style=\"stroke: #383838; stroke-width: 1.0;\"/><polygon fill=\"#FFFFFF\" points=\"221,618.16,217,624.16,221,630.16,225,624.16,221,618.16\" style=\"stroke: #383838; stroke-width: 1.0;\"/><text fill=\"#000000\" font-family=\"sans-serif\" font-size=\"13\" lengthAdjust=\"spacingAndGlyphs\" textLength=\"8\" x=\"208.6438\" y=\"671.613\">1</text></a><!--MD5=[e88d06e5a652d73a6b19930eefe025a8]\n",
       "reverse link E6 to E9--><a href=\"psysml:5153bd7e-9106-496d-98a6-0d3fae0d20a5\" target=\"_top\" title=\"psysml:5153bd7e-9106-496d-98a6-0d3fae0d20a5\" xlink:actuate=\"onRequest\" xlink:href=\"psysml:5153bd7e-9106-496d-98a6-0d3fae0d20a5\" xlink:show=\"new\" xlink:title=\"psysml:5153bd7e-9106-496d-98a6-0d3fae0d20a5\" xlink:type=\"simple\"><path d=\"M170.25,633.16 C170.25,633.16 170.25,678.87 170.25,678.87 \" fill=\"none\" id=\"E6&lt;-E9\" style=\"stroke: #383838; stroke-width: 1.0;\"/><ellipse cx=\"170.25\" cy=\"626.16\" fill=\"#FFFFFF\" rx=\"8\" ry=\"8\" style=\"stroke: #383838; stroke-width: 1.0;\"/><line style=\"stroke: #383838; stroke-width: 1.0;\" x1=\"170.25\" x2=\"170.25\" y1=\"634.16\" y2=\"618.16\"/><line style=\"stroke: #383838; stroke-width: 1.0;\" x1=\"162.25\" x2=\"178.25\" y1=\"626.16\" y2=\"626.16\"/></a><!--MD5=[f78a29d5932556fa1060671a2a6507d8]\n",
       "link E5 to E10--><a href=\"psysml:63374559-c2a0-4cf8-92a3-b39a3ed3eac1\" target=\"_top\" title=\"psysml:63374559-c2a0-4cf8-92a3-b39a3ed3eac1\" xlink:actuate=\"onRequest\" xlink:href=\"psysml:63374559-c2a0-4cf8-92a3-b39a3ed3eac1\" xlink:show=\"new\" xlink:title=\"psysml:63374559-c2a0-4cf8-92a3-b39a3ed3eac1\" xlink:type=\"simple\"><path d=\"M314.5,343.09 C314.5,385.61 314.5,472 314.5,472 C314.5,472 249.01,472 249.01,472 \" fill=\"none\" id=\"E5-&gt;E10\" style=\"stroke: #383838; stroke-width: 1.0;\"/><polygon fill=\"#FFFFFF\" points=\"229.01,472,248.01,465,248.01,479,229.01,472\" style=\"stroke: #383838; stroke-width: 1.0;\"/><ellipse cx=\"253.71\" cy=\"467\" fill=\"#383838\" rx=\"2\" ry=\"2\" style=\"stroke: #383838; stroke-width: 1.0;\"/><ellipse cx=\"253.71\" cy=\"477\" fill=\"#383838\" rx=\"2\" ry=\"2\" style=\"stroke: #383838; stroke-width: 1.0;\"/></a><!--MD5=[8e04057e7b3cbc0dca4fc78ea351e2da]\n",
       "reverse link E10 to E3--><a href=\"psysml:e24d69b8-a494-4022-9892-35ed42c85155\" target=\"_top\" title=\"psysml:e24d69b8-a494-4022-9892-35ed42c85155\" xlink:actuate=\"onRequest\" xlink:href=\"psysml:e24d69b8-a494-4022-9892-35ed42c85155\" xlink:show=\"new\" xlink:title=\"psysml:e24d69b8-a494-4022-9892-35ed42c85155\" xlink:type=\"simple\"><path d=\"M199,435.61 C199,435.61 199,236.17 199,236.17 \" fill=\"none\" id=\"E10&lt;-E3\" style=\"stroke: #383838; stroke-width: 1.0;\"/><polygon fill=\"#FFFFFF\" points=\"199,448.61,203,442.61,199,436.61,195,442.61,199,448.61\" style=\"stroke: #383838; stroke-width: 1.0;\"/><text fill=\"#000000\" font-family=\"sans-serif\" font-size=\"13\" lengthAdjust=\"spacingAndGlyphs\" textLength=\"7\" x=\"105\" y=\"324.5669\">y</text></a><!--MD5=[8e04057e7b3cbc0dca4fc78ea351e2da]\n",
       "reverse link E10 to E3--><a href=\"psysml:e24d69b8-a494-4022-9892-35ed42c85155\" target=\"_top\" title=\"psysml:e24d69b8-a494-4022-9892-35ed42c85155\" xlink:actuate=\"onRequest\" xlink:href=\"psysml:e24d69b8-a494-4022-9892-35ed42c85155\" xlink:show=\"new\" xlink:title=\"psysml:e24d69b8-a494-4022-9892-35ed42c85155\" xlink:type=\"simple\"><path d=\"M209,435.61 C209,435.61 209,236.17 209,236.17 \" fill=\"none\" id=\"E10&lt;-E3-1\" style=\"stroke: #383838; stroke-width: 1.0;\"/><polygon fill=\"#FFFFFF\" points=\"209,448.61,213,442.61,209,436.61,205,442.61,209,448.61\" style=\"stroke: #383838; stroke-width: 1.0;\"/><text fill=\"#000000\" font-family=\"sans-serif\" font-size=\"13\" lengthAdjust=\"spacingAndGlyphs\" textLength=\"7\" x=\"184\" y=\"324.5669\">y</text></a><!--MD5=[8e04057e7b3cbc0dca4fc78ea351e2da]\n",
       "reverse link E10 to E3--><a href=\"psysml:e24d69b8-a494-4022-9892-35ed42c85155\" target=\"_top\" title=\"psysml:e24d69b8-a494-4022-9892-35ed42c85155\" xlink:actuate=\"onRequest\" xlink:href=\"psysml:e24d69b8-a494-4022-9892-35ed42c85155\" xlink:show=\"new\" xlink:title=\"psysml:e24d69b8-a494-4022-9892-35ed42c85155\" xlink:type=\"simple\"><path d=\"M219,435.61 C219,435.61 219,236.17 219,236.17 \" fill=\"none\" id=\"E10&lt;-E3-2\" style=\"stroke: #383838; stroke-width: 1.0;\"/><polygon fill=\"#FFFFFF\" points=\"219,448.61,223,442.61,219,436.61,215,442.61,219,448.61\" style=\"stroke: #383838; stroke-width: 1.0;\"/><text fill=\"#000000\" font-family=\"sans-serif\" font-size=\"13\" lengthAdjust=\"spacingAndGlyphs\" textLength=\"7\" x=\"263\" y=\"324.5669\">y</text></a><!--MD5=[604cbf994c02b74b117f728a71673cea]\n",
       "reverse link E10 to E6--><a href=\"psysml:e24d69b8-a494-4022-9892-35ed42c85155\" target=\"_top\" title=\"psysml:e24d69b8-a494-4022-9892-35ed42c85155\" xlink:actuate=\"onRequest\" xlink:href=\"psysml:e24d69b8-a494-4022-9892-35ed42c85155\" xlink:show=\"new\" xlink:title=\"psysml:e24d69b8-a494-4022-9892-35ed42c85155\" xlink:type=\"simple\"><path d=\"M179.5,508.14 C179.5,508.14 179.5,571.97 179.5,571.97 \" fill=\"none\" id=\"E10&lt;-E6\" style=\"stroke: #383838; stroke-width: 1.0;\"/><polygon fill=\"#FFFFFF\" points=\"179.5,495.14,175.5,501.14,179.5,507.14,183.5,501.14,179.5,495.14\" style=\"stroke: #383838; stroke-width: 1.0;\"/><text fill=\"#000000\" font-family=\"sans-serif\" font-size=\"13\" lengthAdjust=\"spacingAndGlyphs\" textLength=\"7\" x=\"246\" y=\"538.0669\">y</text></a><!--MD5=[604cbf994c02b74b117f728a71673cea]\n",
       "reverse link E10 to E6--><a href=\"psysml:e24d69b8-a494-4022-9892-35ed42c85155\" target=\"_top\" title=\"psysml:e24d69b8-a494-4022-9892-35ed42c85155\" xlink:actuate=\"onRequest\" xlink:href=\"psysml:e24d69b8-a494-4022-9892-35ed42c85155\" xlink:show=\"new\" xlink:title=\"psysml:e24d69b8-a494-4022-9892-35ed42c85155\" xlink:type=\"simple\"><path d=\"M196,508.14 C196,508.14 196,571.97 196,571.97 \" fill=\"none\" id=\"E10&lt;-E6-1\" style=\"stroke: #383838; stroke-width: 1.0;\"/><polygon fill=\"#FFFFFF\" points=\"196,495.14,192,501.14,196,507.14,200,501.14,196,495.14\" style=\"stroke: #383838; stroke-width: 1.0;\"/><text fill=\"#000000\" font-family=\"sans-serif\" font-size=\"13\" lengthAdjust=\"spacingAndGlyphs\" textLength=\"7\" x=\"148\" y=\"538.0669\">y</text></a><!--MD5=[604cbf994c02b74b117f728a71673cea]\n",
       "reverse link E10 to E6--><a href=\"psysml:e24d69b8-a494-4022-9892-35ed42c85155\" target=\"_top\" title=\"psysml:e24d69b8-a494-4022-9892-35ed42c85155\" xlink:actuate=\"onRequest\" xlink:href=\"psysml:e24d69b8-a494-4022-9892-35ed42c85155\" xlink:show=\"new\" xlink:title=\"psysml:e24d69b8-a494-4022-9892-35ed42c85155\" xlink:type=\"simple\"><path d=\"M212.5,508.14 C212.5,508.14 212.5,571.97 212.5,571.97 \" fill=\"none\" id=\"E10&lt;-E6-2\" style=\"stroke: #383838; stroke-width: 1.0;\"/><polygon fill=\"#FFFFFF\" points=\"212.5,495.14,208.5,501.14,212.5,507.14,216.5,501.14,212.5,495.14\" style=\"stroke: #383838; stroke-width: 1.0;\"/><text fill=\"#000000\" font-family=\"sans-serif\" font-size=\"13\" lengthAdjust=\"spacingAndGlyphs\" textLength=\"7\" x=\"197\" y=\"538.0669\">y</text></a><!--MD5=[bd1447ec51d6c15f80ee8b111469450d]\n",
       "@startuml\r\n",
       "skinparam linetype ortho\r\n",
       "skinparam monochrome true\r\n",
       "skinparam classbackgroundcolor white\r\n",
       "skinparam shadowing false\r\n",
       "skinparam wrapWidth 300\r\n",
       "hide circle\r\n",
       "\r\n",
       "package \"PartTest\" as E1  [[psysml:a6b62677-d27b-4bf3-83e0-375e3ba01a4b ]]  {\r\n",
       "comp usage \"f: A\" as E2  <<(T,blue) part>> [[psysml:fef66b5f-1b9d-421e-94fe-86858427a029 ]] {\r\n",
       "}\r\n",
       "comp def \"A\" as E3  <<(T,blue) part def>> [[psysml:a2cad1be-c52d-4964-a87e-891cd7289f52 ]] {\r\n",
       "- - attributes - -\r\n",
       "x\r\n",
       "y\r\n",
       "}\r\n",
       "comp usage \"b: B\" as E4  <<(T,blue) part>> [[psysml:9dcf2186-613a-4b96-912f-a1b95f354387 ]] {\r\n",
       "}\r\n",
       "comp usage \"c: C\" as E5  <<(T,blue) port>> [[psysml:a3147892-19dd-4d4c-8f64-71e53da800dc ]] {\r\n",
       "}\r\n",
       "comp def \"B\" as E6  <<(T,blue) part def>> [[psysml:bbb3af71-bfb9-47e2-863f-33482c8ff081 ]] {\r\n",
       "}\r\n",
       "comp usage \"a: A\" as E7  <<(T,blue) part>> [[psysml:c128dc79-fecf-4cdb-b1ba-5850a9b121ec ]] {\r\n",
       "}\r\n",
       "comp usage \"x: ~C\" as E8  <<(T,blue) port>> [[psysml:540f6402-e62e-4ea3-b051-5d5cf5bfcb38 ]] {\r\n",
       "}\r\n",
       "package \"P\" as E9  [[psysml:f4e4ee2b-1abf-4dbd-8483-2b091bdfceaf ]]  {\r\n",
       "}\r\n",
       "comp def \"C\" as E10  <<(T,blue) port def>> [[psysml:a92372c2-fe41-425f-b40c-da5b8c1ca15d ]] {\r\n",
       "}\r\n",
       "}\r\n",
       "E2 - -:|> E3 [[psysml:488f6ee0-39a9-4dc0-b555-612cc99c37a1 ]] \r\n",
       "E3 *- - \"1\"E4 [[psysml:98712745-a638-4d1f-8ffc-380c342569c9 ]] \r\n",
       "E3 o- - \"1\"E5 [[psysml:3d3c789c-d512-4565-8d7c-059f8d1010f8 ]] \r\n",
       "E4 - -:|> E6 [[psysml:1225703b-924d-44f0-aa92-4bca49ced0c9 ]] \r\n",
       "E6 *- - \"1\"E7 [[psysml:a81e6d2d-a633-4d51-820c-a47602c519dd ]] \r\n",
       "E7 - -:|> E3 [[psysml:4883cacd-6695-4e4a-8cc2-3609b81ec9a9 ]] \r\n",
       "E6 o- - \"1\"E8 [[psysml:2d844c43-a52c-43bf-b052-a300acb2bf74 ]] \r\n",
       "E6 +- - E9 [[psysml:5153bd7e-9106-496d-98a6-0d3fae0d20a5 ]] \r\n",
       "E5 - -:|> E10 [[psysml:63374559-c2a0-4cf8-92a3-b39a3ed3eac1 ]] \r\n",
       "E10 o- - E3 [[psysml:e24d69b8-a494-4022-9892-35ed42c85155 ]] : y\r\n",
       "E10 o- - E6 [[psysml:e24d69b8-a494-4022-9892-35ed42c85155 ]] : y\r\n",
       "E10 o- - E3 [[psysml:e24d69b8-a494-4022-9892-35ed42c85155 ]] : y\r\n",
       "E10 o- - E6 [[psysml:e24d69b8-a494-4022-9892-35ed42c85155 ]] : y\r\n",
       "E10 o- - E3 [[psysml:e24d69b8-a494-4022-9892-35ed42c85155 ]] : y\r\n",
       "E10 o- - E6 [[psysml:e24d69b8-a494-4022-9892-35ed42c85155 ]] : y\r\n",
       "@enduml\r\n",
       "\n",
       "PlantUML version 1.2020.13(Sat Jun 13 12:26:38 UTC 2020)\n",
       "(EPL source distribution)\n",
       "Java Runtime: OpenJDK Runtime Environment\n",
       "JVM: OpenJDK 64-Bit Server VM\n",
       "Default Encoding: UTF-8\n",
       "Language: en\n",
       "Country: null\n",
       "--></g></svg>"
      ]
     },
     "execution_count": 51,
     "metadata": {},
     "output_type": "execute_result"
    }
   ],
   "source": [
    "%viz --style=\"ORTHOLINE\" --view=\"Default\" \"PartTest\""
   ]
  },
  {
   "cell_type": "code",
   "execution_count": 52,
   "id": "5ef38e47",
   "metadata": {
    "execution": {
     "iopub.execute_input": "2021-10-03T08:29:56.051339Z",
     "iopub.status.busy": "2021-10-03T08:29:56.050937Z",
     "iopub.status.idle": "2021-10-03T08:29:56.106253Z",
     "shell.execute_reply": "2021-10-03T08:29:56.104249Z"
    }
   },
   "outputs": [
    {
     "data": {
      "image/svg+xml": [
       "<?xml version=\"1.0\" encoding=\"UTF-8\" standalone=\"no\"?><svg xmlns=\"http://www.w3.org/2000/svg\" xmlns:xlink=\"http://www.w3.org/1999/xlink\" contentScriptType=\"application/ecmascript\" contentStyleType=\"text/css\" height=\"760px\" preserveAspectRatio=\"none\" style=\"width:423px;height:760px;\" version=\"1.1\" viewBox=\"0 0 423 760\" width=\"423px\" zoomAndPan=\"magnify\"><defs/><g><!--MD5=[fbc87193dbaf4d95561dea2c320d4a47]\n",
       "cluster E1--><a href=\"psysml:a6b62677-d27b-4bf3-83e0-375e3ba01a4b\" target=\"_top\" title=\"psysml:a6b62677-d27b-4bf3-83e0-375e3ba01a4b\" xlink:actuate=\"onRequest\" xlink:href=\"psysml:a6b62677-d27b-4bf3-83e0-375e3ba01a4b\" xlink:show=\"new\" xlink:title=\"psysml:a6b62677-d27b-4bf3-83e0-375e3ba01a4b\" xlink:type=\"simple\"><polygon fill=\"#FFFFFF\" points=\"16,6,80,6,87,28.2969,401,28.2969,401,748,16,748,16,6\" style=\"stroke: #000000; stroke-width: 1.5;\"/><line style=\"stroke: #000000; stroke-width: 1.5;\" x1=\"16\" x2=\"87\" y1=\"28.2969\" y2=\"28.2969\"/><text fill=\"#000000\" font-family=\"sans-serif\" font-size=\"14\" font-weight=\"bold\" lengthAdjust=\"spacingAndGlyphs\" textLength=\"58\" x=\"20\" y=\"20.9951\">PartTest</text></a><!--MD5=[b4997ac47864f28c2f74865a473b2911]\n",
       "class E2--><a href=\"psysml:fef66b5f-1b9d-421e-94fe-86858427a029\" target=\"_top\" title=\"psysml:fef66b5f-1b9d-421e-94fe-86858427a029\" xlink:actuate=\"onRequest\" xlink:href=\"psysml:fef66b5f-1b9d-421e-94fe-86858427a029\" xlink:show=\"new\" xlink:title=\"psysml:fef66b5f-1b9d-421e-94fe-86858427a029\" xlink:type=\"simple\"><rect fill=\"#FFFFFF\" height=\"45.9375\" id=\"E2\" rx=\"10\" ry=\"10\" style=\"stroke: #383838; stroke-width: 1.5;\" width=\"42\" x=\"201\" y=\"41\"/><text fill=\"#000000\" font-family=\"sans-serif\" font-size=\"12\" font-style=\"italic\" lengthAdjust=\"spacingAndGlyphs\" textLength=\"40\" x=\"202\" y=\"57.1387\">«part»</text><text fill=\"#000000\" font-family=\"sans-serif\" font-size=\"12\" lengthAdjust=\"spacingAndGlyphs\" textLength=\"20\" x=\"212\" y=\"71.1074\">f: A</text><line style=\"stroke: #383838; stroke-width: 1.5;\" x1=\"202\" x2=\"242\" y1=\"78.9375\" y2=\"78.9375\"/></a><!--MD5=[09b614a08d8cba4a07c9adeb5e0fee81]\n",
       "class E3--><a href=\"psysml:a2cad1be-c52d-4964-a87e-891cd7289f52\" target=\"_top\" title=\"psysml:a2cad1be-c52d-4964-a87e-891cd7289f52\" xlink:actuate=\"onRequest\" xlink:href=\"psysml:a2cad1be-c52d-4964-a87e-891cd7289f52\" xlink:show=\"new\" xlink:title=\"psysml:a2cad1be-c52d-4964-a87e-891cd7289f52\" xlink:type=\"simple\"><rect fill=\"#FFFFFF\" height=\"88.3516\" id=\"E3\" style=\"stroke: #383838; stroke-width: 1.5;\" width=\"66\" x=\"189\" y=\"148\"/><text fill=\"#000000\" font-family=\"sans-serif\" font-size=\"12\" font-style=\"italic\" lengthAdjust=\"spacingAndGlyphs\" textLength=\"64\" x=\"190\" y=\"164.1387\">«part def»</text><text fill=\"#000000\" font-family=\"sans-serif\" font-size=\"12\" lengthAdjust=\"spacingAndGlyphs\" textLength=\"8\" x=\"218\" y=\"178.1074\">A</text><line style=\"stroke: #383838; stroke-width: 1.5;\" x1=\"190\" x2=\"254\" y1=\"185.9375\" y2=\"185.9375\"/><text fill=\"#000000\" font-family=\"sans-serif\" font-size=\"11\" lengthAdjust=\"spacingAndGlyphs\" textLength=\"6\" x=\"195\" y=\"216.9526\">x</text><text fill=\"#000000\" font-family=\"sans-serif\" font-size=\"11\" lengthAdjust=\"spacingAndGlyphs\" textLength=\"6\" x=\"195\" y=\"229.7573\">y</text><line style=\"stroke: #383838; stroke-width: 1.0;\" x1=\"190\" x2=\"194.5\" y1=\"200.3398\" y2=\"200.3398\"/><text fill=\"#000000\" font-family=\"sans-serif\" font-size=\"11\" lengthAdjust=\"spacingAndGlyphs\" textLength=\"55\" x=\"194.5\" y=\"203.6479\">attributes</text><line style=\"stroke: #383838; stroke-width: 1.0;\" x1=\"249.5\" x2=\"254\" y1=\"200.3398\" y2=\"200.3398\"/></a><!--MD5=[ebbe1d658d1005bcc118a6aa81145e00]\n",
       "class E4--><a href=\"psysml:9dcf2186-613a-4b96-912f-a1b95f354387\" target=\"_top\" title=\"psysml:9dcf2186-613a-4b96-912f-a1b95f354387\" xlink:actuate=\"onRequest\" xlink:href=\"psysml:9dcf2186-613a-4b96-912f-a1b95f354387\" xlink:show=\"new\" xlink:title=\"psysml:9dcf2186-613a-4b96-912f-a1b95f354387\" xlink:type=\"simple\"><rect fill=\"#FFFFFF\" height=\"45.9375\" id=\"E4\" rx=\"10\" ry=\"10\" style=\"stroke: #383838; stroke-width: 1.5;\" width=\"42\" x=\"323\" y=\"373\"/><text fill=\"#000000\" font-family=\"sans-serif\" font-size=\"12\" font-style=\"italic\" lengthAdjust=\"spacingAndGlyphs\" textLength=\"40\" x=\"324\" y=\"389.1387\">«part»</text><text fill=\"#000000\" font-family=\"sans-serif\" font-size=\"12\" lengthAdjust=\"spacingAndGlyphs\" textLength=\"24\" x=\"332\" y=\"403.1074\">b: B</text><line style=\"stroke: #383838; stroke-width: 1.5;\" x1=\"324\" x2=\"364\" y1=\"410.9375\" y2=\"410.9375\"/></a><!--MD5=[270fce915f116d4de14055a7c1d9a0f3]\n",
       "class E5--><a href=\"psysml:a3147892-19dd-4d4c-8f64-71e53da800dc\" target=\"_top\" title=\"psysml:a3147892-19dd-4d4c-8f64-71e53da800dc\" xlink:actuate=\"onRequest\" xlink:href=\"psysml:a3147892-19dd-4d4c-8f64-71e53da800dc\" xlink:show=\"new\" xlink:title=\"psysml:a3147892-19dd-4d4c-8f64-71e53da800dc\" xlink:type=\"simple\"><rect fill=\"#FFFFFF\" height=\"45.9375\" id=\"E5\" rx=\"10\" ry=\"10\" style=\"stroke: #383838; stroke-width: 1.5;\" width=\"42\" x=\"306\" y=\"297\"/><text fill=\"#000000\" font-family=\"sans-serif\" font-size=\"12\" font-style=\"italic\" lengthAdjust=\"spacingAndGlyphs\" textLength=\"40\" x=\"307\" y=\"313.1387\">«port»</text><text fill=\"#000000\" font-family=\"sans-serif\" font-size=\"12\" lengthAdjust=\"spacingAndGlyphs\" textLength=\"23\" x=\"315.5\" y=\"327.1074\">c: C</text><line style=\"stroke: #383838; stroke-width: 1.5;\" x1=\"307\" x2=\"347\" y1=\"334.9375\" y2=\"334.9375\"/></a><!--MD5=[60a26617385b1d2d0262a64233df1f8d]\n",
       "class E6--><a href=\"psysml:bbb3af71-bfb9-47e2-863f-33482c8ff081\" target=\"_top\" title=\"psysml:bbb3af71-bfb9-47e2-863f-33482c8ff081\" xlink:actuate=\"onRequest\" xlink:href=\"psysml:bbb3af71-bfb9-47e2-863f-33482c8ff081\" xlink:show=\"new\" xlink:title=\"psysml:bbb3af71-bfb9-47e2-863f-33482c8ff081\" xlink:type=\"simple\"><rect fill=\"#FFFFFF\" height=\"45.9375\" id=\"E6\" style=\"stroke: #383838; stroke-width: 1.5;\" width=\"66\" x=\"163\" y=\"572\"/><text fill=\"#000000\" font-family=\"sans-serif\" font-size=\"12\" font-style=\"italic\" lengthAdjust=\"spacingAndGlyphs\" textLength=\"64\" x=\"164\" y=\"588.1387\">«part def»</text><text fill=\"#000000\" font-family=\"sans-serif\" font-size=\"12\" lengthAdjust=\"spacingAndGlyphs\" textLength=\"8\" x=\"192\" y=\"602.1074\">B</text><line style=\"stroke: #383838; stroke-width: 1.5;\" x1=\"164\" x2=\"228\" y1=\"609.9375\" y2=\"609.9375\"/></a><!--MD5=[2156ba9850f5573cc1fc38a6a4b2f02b]\n",
       "class E7--><a href=\"psysml:c128dc79-fecf-4cdb-b1ba-5850a9b121ec\" target=\"_top\" title=\"psysml:c128dc79-fecf-4cdb-b1ba-5850a9b121ec\" xlink:actuate=\"onRequest\" xlink:href=\"psysml:c128dc79-fecf-4cdb-b1ba-5850a9b121ec\" xlink:show=\"new\" xlink:title=\"psysml:c128dc79-fecf-4cdb-b1ba-5850a9b121ec\" xlink:type=\"simple\"><rect fill=\"#FFFFFF\" height=\"45.9375\" id=\"E7\" rx=\"10\" ry=\"10\" style=\"stroke: #383838; stroke-width: 1.5;\" width=\"42\" x=\"58\" y=\"682.5\"/><text fill=\"#000000\" font-family=\"sans-serif\" font-size=\"12\" font-style=\"italic\" lengthAdjust=\"spacingAndGlyphs\" textLength=\"40\" x=\"59\" y=\"698.6387\">«part»</text><text fill=\"#000000\" font-family=\"sans-serif\" font-size=\"12\" lengthAdjust=\"spacingAndGlyphs\" textLength=\"24\" x=\"67\" y=\"712.6074\">a: A</text><line style=\"stroke: #383838; stroke-width: 1.5;\" x1=\"59\" x2=\"99\" y1=\"720.4375\" y2=\"720.4375\"/></a><!--MD5=[b9389687b975829384b498ac4b7476b2]\n",
       "class E8--><a href=\"psysml:540f6402-e62e-4ea3-b051-5d5cf5bfcb38\" target=\"_top\" title=\"psysml:540f6402-e62e-4ea3-b051-5d5cf5bfcb38\" xlink:actuate=\"onRequest\" xlink:href=\"psysml:540f6402-e62e-4ea3-b051-5d5cf5bfcb38\" xlink:show=\"new\" xlink:title=\"psysml:540f6402-e62e-4ea3-b051-5d5cf5bfcb38\" xlink:type=\"simple\"><rect fill=\"#FFFFFF\" height=\"45.9375\" id=\"E8\" rx=\"10\" ry=\"10\" style=\"stroke: #383838; stroke-width: 1.5;\" width=\"42\" x=\"213\" y=\"682.5\"/><text fill=\"#000000\" font-family=\"sans-serif\" font-size=\"12\" font-style=\"italic\" lengthAdjust=\"spacingAndGlyphs\" textLength=\"40\" x=\"214\" y=\"698.6387\">«port»</text><text fill=\"#000000\" font-family=\"sans-serif\" font-size=\"12\" lengthAdjust=\"spacingAndGlyphs\" textLength=\"32\" x=\"218\" y=\"712.6074\">x: ~C</text><line style=\"stroke: #383838; stroke-width: 1.5;\" x1=\"214\" x2=\"254\" y1=\"720.4375\" y2=\"720.4375\"/></a><!--MD5=[96f4274e9e20536e775497830990834d]\n",
       "class E10--><a href=\"psysml:a92372c2-fe41-425f-b40c-da5b8c1ca15d\" target=\"_top\" title=\"psysml:a92372c2-fe41-425f-b40c-da5b8c1ca15d\" xlink:actuate=\"onRequest\" xlink:href=\"psysml:a92372c2-fe41-425f-b40c-da5b8c1ca15d\" xlink:show=\"new\" xlink:title=\"psysml:a92372c2-fe41-425f-b40c-da5b8c1ca15d\" xlink:type=\"simple\"><rect fill=\"#FFFFFF\" height=\"45.9375\" id=\"E10\" style=\"stroke: #383838; stroke-width: 1.5;\" width=\"66\" x=\"163\" y=\"449\"/><text fill=\"#000000\" font-family=\"sans-serif\" font-size=\"12\" font-style=\"italic\" lengthAdjust=\"spacingAndGlyphs\" textLength=\"64\" x=\"164\" y=\"465.1387\">«port def»</text><text fill=\"#000000\" font-family=\"sans-serif\" font-size=\"12\" lengthAdjust=\"spacingAndGlyphs\" textLength=\"8\" x=\"192\" y=\"479.1074\">C</text><line style=\"stroke: #383838; stroke-width: 1.5;\" x1=\"164\" x2=\"228\" y1=\"486.9375\" y2=\"486.9375\"/></a><a href=\"psysml:f4e4ee2b-1abf-4dbd-8483-2b091bdfceaf\" target=\"_top\" title=\"psysml:f4e4ee2b-1abf-4dbd-8483-2b091bdfceaf\" xlink:actuate=\"onRequest\" xlink:href=\"psysml:f4e4ee2b-1abf-4dbd-8483-2b091bdfceaf\" xlink:show=\"new\" xlink:title=\"psysml:f4e4ee2b-1abf-4dbd-8483-2b091bdfceaf\" xlink:type=\"simple\"><polygon fill=\"#FFFFFF\" points=\"148.5,679,163.5,679,170.5,701.2969,177.5,701.2969,177.5,731.5938,148.5,731.5938,148.5,679\" style=\"stroke: #000000; stroke-width: 1.5;\"/><line style=\"stroke: #000000; stroke-width: 1.5;\" x1=\"148.5\" x2=\"170.5\" y1=\"701.2969\" y2=\"701.2969\"/><text fill=\"#000000\" font-family=\"sans-serif\" font-size=\"14\" font-weight=\"bold\" lengthAdjust=\"spacingAndGlyphs\" textLength=\"9\" x=\"152.5\" y=\"693.9951\">P</text></a><!--MD5=[2720a5a1f2c3fca2055b230370638851]\n",
       "link E2 to E3--><a href=\"psysml:488f6ee0-39a9-4dc0-b555-612cc99c37a1\" target=\"_top\" title=\"psysml:488f6ee0-39a9-4dc0-b555-612cc99c37a1\" xlink:actuate=\"onRequest\" xlink:href=\"psysml:488f6ee0-39a9-4dc0-b555-612cc99c37a1\" xlink:show=\"new\" xlink:title=\"psysml:488f6ee0-39a9-4dc0-b555-612cc99c37a1\" xlink:type=\"simple\"><path d=\"M222,87.18 C222,87.18 222,127.76 222,127.76 \" fill=\"none\" id=\"E2-&gt;E3\" style=\"stroke: #383838; stroke-width: 1.0;\"/><polygon fill=\"#FFFFFF\" points=\"222,147.76,215,128.76,229,128.76,222,147.76\" style=\"stroke: #383838; stroke-width: 1.0;\"/><ellipse cx=\"217\" cy=\"123.06\" fill=\"#383838\" rx=\"2\" ry=\"2\" style=\"stroke: #383838; stroke-width: 1.0;\"/><ellipse cx=\"227\" cy=\"123.06\" fill=\"#383838\" rx=\"2\" ry=\"2\" style=\"stroke: #383838; stroke-width: 1.0;\"/></a><!--MD5=[4672eba38e49728da53d11aeb285b987]\n",
       "reverse link E3 to E4--><a href=\"psysml:98712745-a638-4d1f-8ffc-380c342569c9\" target=\"_top\" title=\"psysml:98712745-a638-4d1f-8ffc-380c342569c9\" xlink:actuate=\"onRequest\" xlink:href=\"psysml:98712745-a638-4d1f-8ffc-380c342569c9\" xlink:show=\"new\" xlink:title=\"psysml:98712745-a638-4d1f-8ffc-380c342569c9\" xlink:type=\"simple\"><path d=\"M237.67,249.01 C237.67,249.01 237.67,396 237.67,396 C237.67,396 292,396 322.99,396 \" fill=\"none\" id=\"E3&lt;-E4\" style=\"stroke: #383838; stroke-width: 1.0;\"/><polygon fill=\"#383838\" points=\"237.67,236.01,233.67,242.01,237.67,248.01,241.67,242.01,237.67,236.01\" style=\"stroke: #383838; stroke-width: 1.0;\"/><text fill=\"#000000\" font-family=\"sans-serif\" font-size=\"13\" lengthAdjust=\"spacingAndGlyphs\" textLength=\"8\" x=\"307.0181\" y=\"390.7074\">1</text></a><!--MD5=[191cde3d490a3f6d7bb551fe3ddca469]\n",
       "reverse link E3 to E5--><a href=\"psysml:3d3c789c-d512-4565-8d7c-059f8d1010f8\" target=\"_top\" title=\"psysml:3d3c789c-d512-4565-8d7c-059f8d1010f8\" xlink:actuate=\"onRequest\" xlink:href=\"psysml:3d3c789c-d512-4565-8d7c-059f8d1010f8\" xlink:show=\"new\" xlink:title=\"psysml:3d3c789c-d512-4565-8d7c-059f8d1010f8\" xlink:type=\"simple\"><path d=\"M246.33,249.05 C246.33,249.05 246.33,320 246.33,320 C246.33,320 281.91,320 305.81,320 \" fill=\"none\" id=\"E3&lt;-E5\" style=\"stroke: #383838; stroke-width: 1.0;\"/><polygon fill=\"#FFFFFF\" points=\"246.33,236.05,242.33,242.05,246.33,248.05,250.33,242.05,246.33,236.05\" style=\"stroke: #383838; stroke-width: 1.0;\"/><text fill=\"#000000\" font-family=\"sans-serif\" font-size=\"13\" lengthAdjust=\"spacingAndGlyphs\" textLength=\"8\" x=\"290.0956\" y=\"314.7999\">1</text></a><!--MD5=[79568f1e445c3877b6a54524624ccc7d]\n",
       "link E4 to E6--><a href=\"psysml:1225703b-924d-44f0-aa92-4bca49ced0c9\" target=\"_top\" title=\"psysml:1225703b-924d-44f0-aa92-4bca49ced0c9\" xlink:actuate=\"onRequest\" xlink:href=\"psysml:1225703b-924d-44f0-aa92-4bca49ced0c9\" xlink:show=\"new\" xlink:title=\"psysml:1225703b-924d-44f0-aa92-4bca49ced0c9\" xlink:type=\"simple\"><path d=\"M344,419.22 C344,471.71 344,595 344,595 C344,595 249.21,595 249.21,595 \" fill=\"none\" id=\"E4-&gt;E6\" style=\"stroke: #383838; stroke-width: 1.0;\"/><polygon fill=\"#FFFFFF\" points=\"229.21,595,248.21,588,248.21,602,229.21,595\" style=\"stroke: #383838; stroke-width: 1.0;\"/><ellipse cx=\"253.91\" cy=\"590\" fill=\"#383838\" rx=\"2\" ry=\"2\" style=\"stroke: #383838; stroke-width: 1.0;\"/><ellipse cx=\"253.91\" cy=\"600\" fill=\"#383838\" rx=\"2\" ry=\"2\" style=\"stroke: #383838; stroke-width: 1.0;\"/></a><!--MD5=[3f50a3473f1dfb74d3f76443e03635af]\n",
       "reverse link E6 to E7--><a href=\"psysml:a81e6d2d-a633-4d51-820c-a47602c519dd\" target=\"_top\" title=\"psysml:a81e6d2d-a633-4d51-820c-a47602c519dd\" xlink:actuate=\"onRequest\" xlink:href=\"psysml:a81e6d2d-a633-4d51-820c-a47602c519dd\" xlink:show=\"new\" xlink:title=\"psysml:a81e6d2d-a633-4d51-820c-a47602c519dd\" xlink:type=\"simple\"><path d=\"M150,595 C150,595 86,595 86,595 C86,595 86,649.93 86,682.34 \" fill=\"none\" id=\"E6&lt;-E7\" style=\"stroke: #383838; stroke-width: 1.0;\"/><polygon fill=\"#383838\" points=\"163,595,157,591,151,595,157,599,163,595\" style=\"stroke: #383838; stroke-width: 1.0;\"/><text fill=\"#000000\" font-family=\"sans-serif\" font-size=\"13\" lengthAdjust=\"spacingAndGlyphs\" textLength=\"8\" x=\"78.7688\" y=\"671.5753\">1</text></a><!--MD5=[14ccda38c055a5c0da953d572bc50960]\n",
       "link E7 to E3--><a href=\"psysml:4883cacd-6695-4e4a-8cc2-3609b81ec9a9\" target=\"_top\" title=\"psysml:4883cacd-6695-4e4a-8cc2-3609b81ec9a9\" xlink:actuate=\"onRequest\" xlink:href=\"psysml:4883cacd-6695-4e4a-8cc2-3609b81ec9a9\" xlink:show=\"new\" xlink:title=\"psysml:4883cacd-6695-4e4a-8cc2-3609b81ec9a9\" xlink:type=\"simple\"><path d=\"M72,682.44 C72,582.52 72,192 72,192 C72,192 168.71,192 168.71,192 \" fill=\"none\" id=\"E7-&gt;E3\" style=\"stroke: #383838; stroke-width: 1.0;\"/><polygon fill=\"#FFFFFF\" points=\"188.71,192,169.71,199,169.71,185,188.71,192\" style=\"stroke: #383838; stroke-width: 1.0;\"/><ellipse cx=\"164.01\" cy=\"197\" fill=\"#383838\" rx=\"2\" ry=\"2\" style=\"stroke: #383838; stroke-width: 1.0;\"/><ellipse cx=\"164.01\" cy=\"187\" fill=\"#383838\" rx=\"2\" ry=\"2\" style=\"stroke: #383838; stroke-width: 1.0;\"/></a><!--MD5=[f4cf0736d43fd73c4ef68817c49d37d5]\n",
       "reverse link E6 to E8--><a href=\"psysml:2d844c43-a52c-43bf-b052-a300acb2bf74\" target=\"_top\" title=\"psysml:2d844c43-a52c-43bf-b052-a300acb2bf74\" xlink:actuate=\"onRequest\" xlink:href=\"psysml:2d844c43-a52c-43bf-b052-a300acb2bf74\" xlink:show=\"new\" xlink:title=\"psysml:2d844c43-a52c-43bf-b052-a300acb2bf74\" xlink:type=\"simple\"><path d=\"M221,631.16 C221,631.16 221,682.37 221,682.37 \" fill=\"none\" id=\"E6&lt;-E8\" style=\"stroke: #383838; stroke-width: 1.0;\"/><polygon fill=\"#FFFFFF\" points=\"221,618.16,217,624.16,221,630.16,225,624.16,221,618.16\" style=\"stroke: #383838; stroke-width: 1.0;\"/><text fill=\"#000000\" font-family=\"sans-serif\" font-size=\"13\" lengthAdjust=\"spacingAndGlyphs\" textLength=\"8\" x=\"208.6438\" y=\"671.613\">1</text></a><!--MD5=[e88d06e5a652d73a6b19930eefe025a8]\n",
       "reverse link E6 to E9--><a href=\"psysml:5153bd7e-9106-496d-98a6-0d3fae0d20a5\" target=\"_top\" title=\"psysml:5153bd7e-9106-496d-98a6-0d3fae0d20a5\" xlink:actuate=\"onRequest\" xlink:href=\"psysml:5153bd7e-9106-496d-98a6-0d3fae0d20a5\" xlink:show=\"new\" xlink:title=\"psysml:5153bd7e-9106-496d-98a6-0d3fae0d20a5\" xlink:type=\"simple\"><path d=\"M170.25,633.16 C170.25,633.16 170.25,678.87 170.25,678.87 \" fill=\"none\" id=\"E6&lt;-E9\" style=\"stroke: #383838; stroke-width: 1.0;\"/><ellipse cx=\"170.25\" cy=\"626.16\" fill=\"#FFFFFF\" rx=\"8\" ry=\"8\" style=\"stroke: #383838; stroke-width: 1.0;\"/><line style=\"stroke: #383838; stroke-width: 1.0;\" x1=\"170.25\" x2=\"170.25\" y1=\"634.16\" y2=\"618.16\"/><line style=\"stroke: #383838; stroke-width: 1.0;\" x1=\"162.25\" x2=\"178.25\" y1=\"626.16\" y2=\"626.16\"/></a><!--MD5=[f78a29d5932556fa1060671a2a6507d8]\n",
       "link E5 to E10--><a href=\"psysml:63374559-c2a0-4cf8-92a3-b39a3ed3eac1\" target=\"_top\" title=\"psysml:63374559-c2a0-4cf8-92a3-b39a3ed3eac1\" xlink:actuate=\"onRequest\" xlink:href=\"psysml:63374559-c2a0-4cf8-92a3-b39a3ed3eac1\" xlink:show=\"new\" xlink:title=\"psysml:63374559-c2a0-4cf8-92a3-b39a3ed3eac1\" xlink:type=\"simple\"><path d=\"M314.5,343.09 C314.5,385.61 314.5,472 314.5,472 C314.5,472 249.01,472 249.01,472 \" fill=\"none\" id=\"E5-&gt;E10\" style=\"stroke: #383838; stroke-width: 1.0;\"/><polygon fill=\"#FFFFFF\" points=\"229.01,472,248.01,465,248.01,479,229.01,472\" style=\"stroke: #383838; stroke-width: 1.0;\"/><ellipse cx=\"253.71\" cy=\"467\" fill=\"#383838\" rx=\"2\" ry=\"2\" style=\"stroke: #383838; stroke-width: 1.0;\"/><ellipse cx=\"253.71\" cy=\"477\" fill=\"#383838\" rx=\"2\" ry=\"2\" style=\"stroke: #383838; stroke-width: 1.0;\"/></a><!--MD5=[8e04057e7b3cbc0dca4fc78ea351e2da]\n",
       "reverse link E10 to E3--><a href=\"psysml:e24d69b8-a494-4022-9892-35ed42c85155\" target=\"_top\" title=\"psysml:e24d69b8-a494-4022-9892-35ed42c85155\" xlink:actuate=\"onRequest\" xlink:href=\"psysml:e24d69b8-a494-4022-9892-35ed42c85155\" xlink:show=\"new\" xlink:title=\"psysml:e24d69b8-a494-4022-9892-35ed42c85155\" xlink:type=\"simple\"><path d=\"M199,435.61 C199,435.61 199,236.17 199,236.17 \" fill=\"none\" id=\"E10&lt;-E3\" style=\"stroke: #383838; stroke-width: 1.0;\"/><polygon fill=\"#FFFFFF\" points=\"199,448.61,203,442.61,199,436.61,195,442.61,199,448.61\" style=\"stroke: #383838; stroke-width: 1.0;\"/><text fill=\"#000000\" font-family=\"sans-serif\" font-size=\"13\" lengthAdjust=\"spacingAndGlyphs\" textLength=\"7\" x=\"105\" y=\"324.5669\">y</text></a><!--MD5=[8e04057e7b3cbc0dca4fc78ea351e2da]\n",
       "reverse link E10 to E3--><a href=\"psysml:e24d69b8-a494-4022-9892-35ed42c85155\" target=\"_top\" title=\"psysml:e24d69b8-a494-4022-9892-35ed42c85155\" xlink:actuate=\"onRequest\" xlink:href=\"psysml:e24d69b8-a494-4022-9892-35ed42c85155\" xlink:show=\"new\" xlink:title=\"psysml:e24d69b8-a494-4022-9892-35ed42c85155\" xlink:type=\"simple\"><path d=\"M209,435.61 C209,435.61 209,236.17 209,236.17 \" fill=\"none\" id=\"E10&lt;-E3-1\" style=\"stroke: #383838; stroke-width: 1.0;\"/><polygon fill=\"#FFFFFF\" points=\"209,448.61,213,442.61,209,436.61,205,442.61,209,448.61\" style=\"stroke: #383838; stroke-width: 1.0;\"/><text fill=\"#000000\" font-family=\"sans-serif\" font-size=\"13\" lengthAdjust=\"spacingAndGlyphs\" textLength=\"7\" x=\"184\" y=\"324.5669\">y</text></a><!--MD5=[8e04057e7b3cbc0dca4fc78ea351e2da]\n",
       "reverse link E10 to E3--><a href=\"psysml:e24d69b8-a494-4022-9892-35ed42c85155\" target=\"_top\" title=\"psysml:e24d69b8-a494-4022-9892-35ed42c85155\" xlink:actuate=\"onRequest\" xlink:href=\"psysml:e24d69b8-a494-4022-9892-35ed42c85155\" xlink:show=\"new\" xlink:title=\"psysml:e24d69b8-a494-4022-9892-35ed42c85155\" xlink:type=\"simple\"><path d=\"M219,435.61 C219,435.61 219,236.17 219,236.17 \" fill=\"none\" id=\"E10&lt;-E3-2\" style=\"stroke: #383838; stroke-width: 1.0;\"/><polygon fill=\"#FFFFFF\" points=\"219,448.61,223,442.61,219,436.61,215,442.61,219,448.61\" style=\"stroke: #383838; stroke-width: 1.0;\"/><text fill=\"#000000\" font-family=\"sans-serif\" font-size=\"13\" lengthAdjust=\"spacingAndGlyphs\" textLength=\"7\" x=\"263\" y=\"324.5669\">y</text></a><!--MD5=[604cbf994c02b74b117f728a71673cea]\n",
       "reverse link E10 to E6--><a href=\"psysml:e24d69b8-a494-4022-9892-35ed42c85155\" target=\"_top\" title=\"psysml:e24d69b8-a494-4022-9892-35ed42c85155\" xlink:actuate=\"onRequest\" xlink:href=\"psysml:e24d69b8-a494-4022-9892-35ed42c85155\" xlink:show=\"new\" xlink:title=\"psysml:e24d69b8-a494-4022-9892-35ed42c85155\" xlink:type=\"simple\"><path d=\"M179.5,508.14 C179.5,508.14 179.5,571.97 179.5,571.97 \" fill=\"none\" id=\"E10&lt;-E6\" style=\"stroke: #383838; stroke-width: 1.0;\"/><polygon fill=\"#FFFFFF\" points=\"179.5,495.14,175.5,501.14,179.5,507.14,183.5,501.14,179.5,495.14\" style=\"stroke: #383838; stroke-width: 1.0;\"/><text fill=\"#000000\" font-family=\"sans-serif\" font-size=\"13\" lengthAdjust=\"spacingAndGlyphs\" textLength=\"7\" x=\"246\" y=\"538.0669\">y</text></a><!--MD5=[604cbf994c02b74b117f728a71673cea]\n",
       "reverse link E10 to E6--><a href=\"psysml:e24d69b8-a494-4022-9892-35ed42c85155\" target=\"_top\" title=\"psysml:e24d69b8-a494-4022-9892-35ed42c85155\" xlink:actuate=\"onRequest\" xlink:href=\"psysml:e24d69b8-a494-4022-9892-35ed42c85155\" xlink:show=\"new\" xlink:title=\"psysml:e24d69b8-a494-4022-9892-35ed42c85155\" xlink:type=\"simple\"><path d=\"M196,508.14 C196,508.14 196,571.97 196,571.97 \" fill=\"none\" id=\"E10&lt;-E6-1\" style=\"stroke: #383838; stroke-width: 1.0;\"/><polygon fill=\"#FFFFFF\" points=\"196,495.14,192,501.14,196,507.14,200,501.14,196,495.14\" style=\"stroke: #383838; stroke-width: 1.0;\"/><text fill=\"#000000\" font-family=\"sans-serif\" font-size=\"13\" lengthAdjust=\"spacingAndGlyphs\" textLength=\"7\" x=\"148\" y=\"538.0669\">y</text></a><!--MD5=[604cbf994c02b74b117f728a71673cea]\n",
       "reverse link E10 to E6--><a href=\"psysml:e24d69b8-a494-4022-9892-35ed42c85155\" target=\"_top\" title=\"psysml:e24d69b8-a494-4022-9892-35ed42c85155\" xlink:actuate=\"onRequest\" xlink:href=\"psysml:e24d69b8-a494-4022-9892-35ed42c85155\" xlink:show=\"new\" xlink:title=\"psysml:e24d69b8-a494-4022-9892-35ed42c85155\" xlink:type=\"simple\"><path d=\"M212.5,508.14 C212.5,508.14 212.5,571.97 212.5,571.97 \" fill=\"none\" id=\"E10&lt;-E6-2\" style=\"stroke: #383838; stroke-width: 1.0;\"/><polygon fill=\"#FFFFFF\" points=\"212.5,495.14,208.5,501.14,212.5,507.14,216.5,501.14,212.5,495.14\" style=\"stroke: #383838; stroke-width: 1.0;\"/><text fill=\"#000000\" font-family=\"sans-serif\" font-size=\"13\" lengthAdjust=\"spacingAndGlyphs\" textLength=\"7\" x=\"197\" y=\"538.0669\">y</text></a><!--MD5=[bd1447ec51d6c15f80ee8b111469450d]\n",
       "@startuml\r\n",
       "skinparam linetype ortho\r\n",
       "skinparam monochrome true\r\n",
       "skinparam classbackgroundcolor white\r\n",
       "skinparam shadowing false\r\n",
       "skinparam wrapWidth 300\r\n",
       "hide circle\r\n",
       "\r\n",
       "package \"PartTest\" as E1  [[psysml:a6b62677-d27b-4bf3-83e0-375e3ba01a4b ]]  {\r\n",
       "comp usage \"f: A\" as E2  <<(T,blue) part>> [[psysml:fef66b5f-1b9d-421e-94fe-86858427a029 ]] {\r\n",
       "}\r\n",
       "comp def \"A\" as E3  <<(T,blue) part def>> [[psysml:a2cad1be-c52d-4964-a87e-891cd7289f52 ]] {\r\n",
       "- - attributes - -\r\n",
       "x\r\n",
       "y\r\n",
       "}\r\n",
       "comp usage \"b: B\" as E4  <<(T,blue) part>> [[psysml:9dcf2186-613a-4b96-912f-a1b95f354387 ]] {\r\n",
       "}\r\n",
       "comp usage \"c: C\" as E5  <<(T,blue) port>> [[psysml:a3147892-19dd-4d4c-8f64-71e53da800dc ]] {\r\n",
       "}\r\n",
       "comp def \"B\" as E6  <<(T,blue) part def>> [[psysml:bbb3af71-bfb9-47e2-863f-33482c8ff081 ]] {\r\n",
       "}\r\n",
       "comp usage \"a: A\" as E7  <<(T,blue) part>> [[psysml:c128dc79-fecf-4cdb-b1ba-5850a9b121ec ]] {\r\n",
       "}\r\n",
       "comp usage \"x: ~C\" as E8  <<(T,blue) port>> [[psysml:540f6402-e62e-4ea3-b051-5d5cf5bfcb38 ]] {\r\n",
       "}\r\n",
       "package \"P\" as E9  [[psysml:f4e4ee2b-1abf-4dbd-8483-2b091bdfceaf ]]  {\r\n",
       "}\r\n",
       "comp def \"C\" as E10  <<(T,blue) port def>> [[psysml:a92372c2-fe41-425f-b40c-da5b8c1ca15d ]] {\r\n",
       "}\r\n",
       "}\r\n",
       "E2 - -:|> E3 [[psysml:488f6ee0-39a9-4dc0-b555-612cc99c37a1 ]] \r\n",
       "E3 *- - \"1\"E4 [[psysml:98712745-a638-4d1f-8ffc-380c342569c9 ]] \r\n",
       "E3 o- - \"1\"E5 [[psysml:3d3c789c-d512-4565-8d7c-059f8d1010f8 ]] \r\n",
       "E4 - -:|> E6 [[psysml:1225703b-924d-44f0-aa92-4bca49ced0c9 ]] \r\n",
       "E6 *- - \"1\"E7 [[psysml:a81e6d2d-a633-4d51-820c-a47602c519dd ]] \r\n",
       "E7 - -:|> E3 [[psysml:4883cacd-6695-4e4a-8cc2-3609b81ec9a9 ]] \r\n",
       "E6 o- - \"1\"E8 [[psysml:2d844c43-a52c-43bf-b052-a300acb2bf74 ]] \r\n",
       "E6 +- - E9 [[psysml:5153bd7e-9106-496d-98a6-0d3fae0d20a5 ]] \r\n",
       "E5 - -:|> E10 [[psysml:63374559-c2a0-4cf8-92a3-b39a3ed3eac1 ]] \r\n",
       "E10 o- - E3 [[psysml:e24d69b8-a494-4022-9892-35ed42c85155 ]] : y\r\n",
       "E10 o- - E6 [[psysml:e24d69b8-a494-4022-9892-35ed42c85155 ]] : y\r\n",
       "E10 o- - E3 [[psysml:e24d69b8-a494-4022-9892-35ed42c85155 ]] : y\r\n",
       "E10 o- - E6 [[psysml:e24d69b8-a494-4022-9892-35ed42c85155 ]] : y\r\n",
       "E10 o- - E3 [[psysml:e24d69b8-a494-4022-9892-35ed42c85155 ]] : y\r\n",
       "E10 o- - E6 [[psysml:e24d69b8-a494-4022-9892-35ed42c85155 ]] : y\r\n",
       "@enduml\r\n",
       "\n",
       "PlantUML version 1.2020.13(Sat Jun 13 12:26:38 UTC 2020)\n",
       "(EPL source distribution)\n",
       "Java Runtime: OpenJDK Runtime Environment\n",
       "JVM: OpenJDK 64-Bit Server VM\n",
       "Default Encoding: UTF-8\n",
       "Language: en\n",
       "Country: null\n",
       "--></g></svg>"
      ]
     },
     "execution_count": 52,
     "metadata": {},
     "output_type": "execute_result"
    }
   ],
   "source": [
    "%viz --style=\"ORTHOLINE\" --view=\"Tree\" \"PartTest\""
   ]
  },
  {
   "cell_type": "code",
   "execution_count": 53,
   "id": "69199e3e",
   "metadata": {
    "execution": {
     "iopub.execute_input": "2021-10-03T08:29:56.154832Z",
     "iopub.status.busy": "2021-10-03T08:29:56.154423Z",
     "iopub.status.idle": "2021-10-03T08:29:56.159845Z",
     "shell.execute_reply": "2021-10-03T08:29:56.159489Z"
    }
   },
   "outputs": [
    {
     "data": {
      "image/svg+xml": [
       "<?xml version=\"1.0\" encoding=\"UTF-8\" standalone=\"no\"?><svg xmlns=\"http://www.w3.org/2000/svg\" xmlns:xlink=\"http://www.w3.org/1999/xlink\" contentScriptType=\"application/ecmascript\" contentStyleType=\"text/css\" height=\"12px\" preserveAspectRatio=\"none\" style=\"width:12px;height:12px;\" version=\"1.1\" viewBox=\"0 0 12 12\" width=\"12px\" zoomAndPan=\"magnify\"><defs/><g><!--MD5=[97d6f38768b311333d388e66b2b27985]\n",
       "@startuml\r\n",
       "skinparam linetype ortho\r\n",
       "skinparam monochrome true\r\n",
       "skinparam classbackgroundcolor white\r\n",
       "skinparam shadowing false\r\n",
       "skinparam wrapWidth 300\r\n",
       "hide circle\r\n",
       "\r\n",
       "@enduml\r\n",
       "\n",
       "PlantUML version 1.2020.13(Sat Jun 13 12:26:38 UTC 2020)\n",
       "(EPL source distribution)\n",
       "Java Runtime: OpenJDK Runtime Environment\n",
       "JVM: OpenJDK 64-Bit Server VM\n",
       "Default Encoding: UTF-8\n",
       "Language: en\n",
       "Country: null\n",
       "--></g></svg>"
      ]
     },
     "execution_count": 53,
     "metadata": {},
     "output_type": "execute_result"
    }
   ],
   "source": [
    "%viz --style=\"ORTHOLINE\" --view=\"State\" \"PartTest\""
   ]
  },
  {
   "cell_type": "code",
   "execution_count": 54,
   "id": "a31977ab",
   "metadata": {
    "execution": {
     "iopub.execute_input": "2021-10-03T08:29:56.209179Z",
     "iopub.status.busy": "2021-10-03T08:29:56.208778Z",
     "iopub.status.idle": "2021-10-03T08:29:56.245697Z",
     "shell.execute_reply": "2021-10-03T08:29:56.243465Z"
    }
   },
   "outputs": [
    {
     "data": {
      "image/svg+xml": [
       "<?xml version=\"1.0\" encoding=\"UTF-8\" standalone=\"no\"?><svg xmlns=\"http://www.w3.org/2000/svg\" xmlns:xlink=\"http://www.w3.org/1999/xlink\" contentScriptType=\"application/ecmascript\" contentStyleType=\"text/css\" height=\"253px\" preserveAspectRatio=\"none\" style=\"width:674px;height:253px;\" version=\"1.1\" viewBox=\"0 0 674 253\" width=\"674px\" zoomAndPan=\"magnify\"><defs/><g><!--MD5=[fbc87193dbaf4d95561dea2c320d4a47]\n",
       "cluster E1--><a href=\"psysml:a6b62677-d27b-4bf3-83e0-375e3ba01a4b\" target=\"_top\" title=\"psysml:a6b62677-d27b-4bf3-83e0-375e3ba01a4b\" xlink:actuate=\"onRequest\" xlink:href=\"psysml:a6b62677-d27b-4bf3-83e0-375e3ba01a4b\" xlink:show=\"new\" xlink:title=\"psysml:a6b62677-d27b-4bf3-83e0-375e3ba01a4b\" xlink:type=\"simple\"><polygon fill=\"#FFFFFF\" points=\"16,6,80,6,87,28.2969,652,28.2969,652,241,16,241,16,6\" style=\"stroke: #000000; stroke-width: 1.5;\"/><line style=\"stroke: #000000; stroke-width: 1.5;\" x1=\"16\" x2=\"87\" y1=\"28.2969\" y2=\"28.2969\"/><text fill=\"#000000\" font-family=\"sans-serif\" font-size=\"14\" font-weight=\"bold\" lengthAdjust=\"spacingAndGlyphs\" textLength=\"58\" x=\"20\" y=\"20.9951\">PartTest</text></a><!--MD5=[d5e69f78d87373223dbae638b30a9c99]\n",
       "cluster E3--><a href=\"psysml:a2cad1be-c52d-4964-a87e-891cd7289f52\" target=\"_top\" title=\"psysml:a2cad1be-c52d-4964-a87e-891cd7289f52\" xlink:actuate=\"onRequest\" xlink:href=\"psysml:a2cad1be-c52d-4964-a87e-891cd7289f52\" xlink:show=\"new\" xlink:title=\"psysml:a2cad1be-c52d-4964-a87e-891cd7289f52\" xlink:type=\"simple\"><rect fill=\"#FFFFFF\" height=\"159\" id=\"E3\" style=\"stroke: #383838; stroke-width: 1.5;\" width=\"226\" x=\"410\" y=\"62.5\"/><rect fill=\"#F8F8F8\" height=\"37.9375\" style=\"stroke: #383838; stroke-width: 1.5;\" width=\"226\" x=\"410\" y=\"62.5\"/><text fill=\"#000000\" font-family=\"sans-serif\" font-size=\"12\" font-style=\"italic\" lengthAdjust=\"spacingAndGlyphs\" textLength=\"64\" x=\"491\" y=\"78.6387\">«part def»</text><text fill=\"#000000\" font-family=\"sans-serif\" font-size=\"12\" lengthAdjust=\"spacingAndGlyphs\" textLength=\"8\" x=\"519\" y=\"92.6074\">A</text></a><!--MD5=[55dfccfc6c49c2d10cd1bd2211a6c90c]\n",
       "cluster E8--><a href=\"psysml:bbb3af71-bfb9-47e2-863f-33482c8ff081\" target=\"_top\" title=\"psysml:bbb3af71-bfb9-47e2-863f-33482c8ff081\" xlink:actuate=\"onRequest\" xlink:href=\"psysml:bbb3af71-bfb9-47e2-863f-33482c8ff081\" xlink:show=\"new\" xlink:title=\"psysml:bbb3af71-bfb9-47e2-863f-33482c8ff081\" xlink:type=\"simple\"><rect fill=\"#FFFFFF\" height=\"162.5\" id=\"E8\" style=\"stroke: #383838; stroke-width: 1.5;\" width=\"205\" x=\"197\" y=\"62.5\"/><rect fill=\"#F8F8F8\" height=\"37.9375\" style=\"stroke: #383838; stroke-width: 1.5;\" width=\"205\" x=\"197\" y=\"62.5\"/><text fill=\"#000000\" font-family=\"sans-serif\" font-size=\"12\" font-style=\"italic\" lengthAdjust=\"spacingAndGlyphs\" textLength=\"64\" x=\"267.5\" y=\"78.6387\">«part def»</text><text fill=\"#000000\" font-family=\"sans-serif\" font-size=\"12\" lengthAdjust=\"spacingAndGlyphs\" textLength=\"8\" x=\"295.5\" y=\"92.6074\">B</text></a><g id=\"E1.E12\"><a href=\"psysml:a92372c2-fe41-425f-b40c-da5b8c1ca15d\" target=\"_top\" title=\"psysml:a92372c2-fe41-425f-b40c-da5b8c1ca15d\" xlink:actuate=\"onRequest\" xlink:href=\"psysml:a92372c2-fe41-425f-b40c-da5b8c1ca15d\" xlink:show=\"new\" xlink:title=\"psysml:a92372c2-fe41-425f-b40c-da5b8c1ca15d\" xlink:type=\"simple\"><rect fill=\"#FFFFFF\" height=\"42.9375\" id=\"E12\" style=\"stroke: #383838; stroke-width: 1.5;\" width=\"71\" x=\"117.5\" y=\"41\"/><rect fill=\"#F8F8F8\" height=\"37.9375\" style=\"stroke: #383838; stroke-width: 1.5;\" width=\"71\" x=\"117.5\" y=\"41\"/><text fill=\"#000000\" font-family=\"sans-serif\" font-size=\"12\" font-style=\"italic\" lengthAdjust=\"spacingAndGlyphs\" textLength=\"64\" x=\"121\" y=\"57.1387\">«port def»</text><text fill=\"#000000\" font-family=\"sans-serif\" font-size=\"12\" lengthAdjust=\"spacingAndGlyphs\" textLength=\"8\" x=\"149\" y=\"71.1074\">C</text></a></g><g id=\"E1.E2\"><a href=\"psysml:fef66b5f-1b9d-421e-94fe-86858427a029\" target=\"_top\" title=\"psysml:fef66b5f-1b9d-421e-94fe-86858427a029\" xlink:actuate=\"onRequest\" xlink:href=\"psysml:fef66b5f-1b9d-421e-94fe-86858427a029\" xlink:show=\"new\" xlink:title=\"psysml:fef66b5f-1b9d-421e-94fe-86858427a029\" xlink:type=\"simple\"><rect fill=\"#FFFFFF\" height=\"40\" id=\"E2\" rx=\"10\" ry=\"10\" style=\"stroke: #383838; stroke-width: 1.5;\" width=\"50\" x=\"32\" y=\"42.5\"/><rect fill=\"#F8F8F8\" height=\"23.9688\" rx=\"10\" ry=\"10\" style=\"stroke: #F8F8F8; stroke-width: 1.5;\" width=\"50\" x=\"32\" y=\"42.5\"/><rect fill=\"#F8F8F8\" height=\"10\" style=\"stroke: #F8F8F8; stroke-width: 1.5;\" width=\"50\" x=\"32\" y=\"56.4688\"/><rect fill=\"none\" height=\"40\" id=\"E2\" rx=\"10\" ry=\"10\" style=\"stroke: #383838; stroke-width: 1.5;\" width=\"50\" x=\"32\" y=\"42.5\"/><text fill=\"#000000\" font-family=\"sans-serif\" font-size=\"12\" lengthAdjust=\"spacingAndGlyphs\" textLength=\"20\" x=\"47\" y=\"58.6387\">f: A</text></a></g><text fill=\"#000000\" font-family=\"sans-serif\" font-size=\"14\" lengthAdjust=\"spacingAndGlyphs\" textLength=\"27\" x=\"562.5\" y=\"41.1982\">c: C</text><rect fill=\"#383838\" height=\"12\" style=\"stroke: #F8F8F8; stroke-width: 1.5;\" width=\"12\" x=\"570\" y=\"56.5\"/><!--MD5=[60a26617385b1d2d0262a64233df1f8d]\n",
       "class E6--><a href=\"psysml:4215315b-f4db-4a1d-ab72-0471726dcc45\" target=\"_top\" title=\"psysml:4215315b-f4db-4a1d-ab72-0471726dcc45\" xlink:actuate=\"onRequest\" xlink:href=\"psysml:4215315b-f4db-4a1d-ab72-0471726dcc45\" xlink:show=\"new\" xlink:title=\"psysml:4215315b-f4db-4a1d-ab72-0471726dcc45\" xlink:type=\"simple\"><rect fill=\"#FFFFFF\" height=\"45.9375\" id=\"E6\" rx=\"10\" ry=\"10\" style=\"stroke: #383838; stroke-width: 1.5;\" width=\"71\" x=\"426.5\" y=\"159.5\"/><text fill=\"#000000\" font-family=\"sans-serif\" font-size=\"12\" font-style=\"italic\" lengthAdjust=\"spacingAndGlyphs\" textLength=\"69\" x=\"427.5\" y=\"175.6387\">«attribute»</text><text fill=\"#000000\" font-family=\"sans-serif\" font-size=\"12\" lengthAdjust=\"spacingAndGlyphs\" textLength=\"6\" x=\"459\" y=\"189.6074\">x</text><line style=\"stroke: #383838; stroke-width: 1.5;\" x1=\"427.5\" x2=\"496.5\" y1=\"197.4375\" y2=\"197.4375\"/></a><!--MD5=[2156ba9850f5573cc1fc38a6a4b2f02b]\n",
       "class E7--><a href=\"psysml:89a85a0a-005f-45e8-8309-6769d170c6df\" target=\"_top\" title=\"psysml:89a85a0a-005f-45e8-8309-6769d170c6df\" xlink:actuate=\"onRequest\" xlink:href=\"psysml:89a85a0a-005f-45e8-8309-6769d170c6df\" xlink:show=\"new\" xlink:title=\"psysml:89a85a0a-005f-45e8-8309-6769d170c6df\" xlink:type=\"simple\"><rect fill=\"#FFFFFF\" height=\"45.9375\" id=\"E7\" rx=\"10\" ry=\"10\" style=\"stroke: #383838; stroke-width: 1.5;\" width=\"71\" x=\"426.5\" y=\"100\"/><text fill=\"#000000\" font-family=\"sans-serif\" font-size=\"12\" font-style=\"italic\" lengthAdjust=\"spacingAndGlyphs\" textLength=\"69\" x=\"427.5\" y=\"116.1387\">«attribute»</text><text fill=\"#000000\" font-family=\"sans-serif\" font-size=\"12\" lengthAdjust=\"spacingAndGlyphs\" textLength=\"6\" x=\"459\" y=\"130.1074\">y</text><line style=\"stroke: #383838; stroke-width: 1.5;\" x1=\"427.5\" x2=\"496.5\" y1=\"137.9375\" y2=\"137.9375\"/></a><g id=\"E1.E3.E4\"><a href=\"psysml:9dcf2186-613a-4b96-912f-a1b95f354387\" target=\"_top\" title=\"psysml:9dcf2186-613a-4b96-912f-a1b95f354387\" xlink:actuate=\"onRequest\" xlink:href=\"psysml:9dcf2186-613a-4b96-912f-a1b95f354387\" xlink:show=\"new\" xlink:title=\"psysml:9dcf2186-613a-4b96-912f-a1b95f354387\" xlink:type=\"simple\"><rect fill=\"#FFFFFF\" height=\"40\" id=\"E4\" rx=\"10\" ry=\"10\" style=\"stroke: #383838; stroke-width: 1.5;\" width=\"50\" x=\"551\" y=\"162.5\"/><rect fill=\"#F8F8F8\" height=\"23.9688\" rx=\"10\" ry=\"10\" style=\"stroke: #F8F8F8; stroke-width: 1.5;\" width=\"50\" x=\"551\" y=\"162.5\"/><rect fill=\"#F8F8F8\" height=\"10\" style=\"stroke: #F8F8F8; stroke-width: 1.5;\" width=\"50\" x=\"551\" y=\"176.4688\"/><rect fill=\"none\" height=\"40\" id=\"E4\" rx=\"10\" ry=\"10\" style=\"stroke: #383838; stroke-width: 1.5;\" width=\"50\" x=\"551\" y=\"162.5\"/><text fill=\"#000000\" font-family=\"sans-serif\" font-size=\"12\" lengthAdjust=\"spacingAndGlyphs\" textLength=\"24\" x=\"564\" y=\"178.6387\">b: B</text></a></g><text fill=\"#000000\" font-family=\"sans-serif\" font-size=\"14\" lengthAdjust=\"spacingAndGlyphs\" textLength=\"38\" x=\"323\" y=\"41.1982\">x: ~C</text><rect fill=\"#383838\" height=\"12\" style=\"stroke: #F8F8F8; stroke-width: 1.5;\" width=\"12\" x=\"336\" y=\"56.5\"/><g id=\"E1.E8.E9\"><a href=\"psysml:c128dc79-fecf-4cdb-b1ba-5850a9b121ec\" target=\"_top\" title=\"psysml:c128dc79-fecf-4cdb-b1ba-5850a9b121ec\" xlink:actuate=\"onRequest\" xlink:href=\"psysml:c128dc79-fecf-4cdb-b1ba-5850a9b121ec\" xlink:show=\"new\" xlink:title=\"psysml:c128dc79-fecf-4cdb-b1ba-5850a9b121ec\" xlink:type=\"simple\"><rect fill=\"#FFFFFF\" height=\"40\" id=\"E9\" rx=\"10\" ry=\"10\" style=\"stroke: #383838; stroke-width: 1.5;\" width=\"50\" x=\"213\" y=\"103\"/><rect fill=\"#F8F8F8\" height=\"23.9688\" rx=\"10\" ry=\"10\" style=\"stroke: #F8F8F8; stroke-width: 1.5;\" width=\"50\" x=\"213\" y=\"103\"/><rect fill=\"#F8F8F8\" height=\"10\" style=\"stroke: #F8F8F8; stroke-width: 1.5;\" width=\"50\" x=\"213\" y=\"116.9688\"/><rect fill=\"none\" height=\"40\" id=\"E9\" rx=\"10\" ry=\"10\" style=\"stroke: #383838; stroke-width: 1.5;\" width=\"50\" x=\"213\" y=\"103\"/><text fill=\"#000000\" font-family=\"sans-serif\" font-size=\"12\" lengthAdjust=\"spacingAndGlyphs\" textLength=\"24\" x=\"226\" y=\"119.1387\">a: A</text></a></g><a href=\"psysml:f4e4ee2b-1abf-4dbd-8483-2b091bdfceaf\" target=\"_top\" title=\"psysml:f4e4ee2b-1abf-4dbd-8483-2b091bdfceaf\" xlink:actuate=\"onRequest\" xlink:href=\"psysml:f4e4ee2b-1abf-4dbd-8483-2b091bdfceaf\" xlink:show=\"new\" xlink:title=\"psysml:f4e4ee2b-1abf-4dbd-8483-2b091bdfceaf\" xlink:type=\"simple\"><polygon fill=\"#FFFFFF\" points=\"327.5,156,342.5,156,349.5,178.2969,356.5,178.2969,356.5,208.5938,327.5,208.5938,327.5,156\" style=\"stroke: #000000; stroke-width: 1.5;\"/><line style=\"stroke: #000000; stroke-width: 1.5;\" x1=\"327.5\" x2=\"349.5\" y1=\"178.2969\" y2=\"178.2969\"/><text fill=\"#000000\" font-family=\"sans-serif\" font-size=\"14\" font-weight=\"bold\" lengthAdjust=\"spacingAndGlyphs\" textLength=\"9\" x=\"331.5\" y=\"170.9951\">P</text></a><!--MD5=[fbb449814971db3a0b8220cf225b9e01]\n",
       "link E7 to E6--><a href=\"psysml:786244db-8099-4288-b2d9-7a0aeaae101d\" target=\"_top\" title=\"psysml:786244db-8099-4288-b2d9-7a0aeaae101d\" xlink:actuate=\"onRequest\" xlink:href=\"psysml:786244db-8099-4288-b2d9-7a0aeaae101d\" xlink:show=\"new\" xlink:title=\"psysml:786244db-8099-4288-b2d9-7a0aeaae101d\" xlink:type=\"simple\"><path d=\"M462,146.17 C462,146.17 462,147.49 462,147.49 \" fill=\"none\" id=\"E7-&gt;E6\" style=\"stroke: #383838; stroke-width: 1.0;\"/><polygon fill=\"none\" points=\"469,139.29,462,159.29,455,139.29,469,139.29\" style=\"stroke: #383838; stroke-width: 1.0;\"/></a><!--MD5=[ce769407c5f7e080c5d5cf30d93c2a7c]\n",
       "@startuml\r\n",
       "skinparam ranksep 10\r\n",
       "skinparam rectangle {\r\n",
       " backgroundColor<<block>> LightGreen\r\n",
       "}\r\n",
       "skinparam linetype ortho\r\n",
       "skinparam monochrome true\r\n",
       "skinparam classbackgroundcolor white\r\n",
       "skinparam shadowing false\r\n",
       "skinparam wrapWidth 300\r\n",
       "hide circle\r\n",
       "\r\n",
       "package \"PartTest\" as E1  [[psysml:a6b62677-d27b-4bf3-83e0-375e3ba01a4b ]]  {\r\n",
       "rec usage \"f: A\" as E2  [[psysml:fef66b5f-1b9d-421e-94fe-86858427a029 ]] {\r\n",
       "}\r\n",
       "rec def \"A\" as E3  <<(T,blue) part def>> [[psysml:a2cad1be-c52d-4964-a87e-891cd7289f52 ]] {\r\n",
       "rec usage \"b: B\" as E4  [[psysml:9dcf2186-613a-4b96-912f-a1b95f354387 ]] {\r\n",
       "}\r\n",
       "portin \"c: C\" as E5  <<(T,blue) port>> [[psysml:a3147892-19dd-4d4c-8f64-71e53da800dc ]] \r\n",
       "comp usage \"x\" as E6  <<(T,blue) attribute>> [[psysml:4215315b-f4db-4a1d-ab72-0471726dcc45 ]] {\r\n",
       "}\r\n",
       "comp usage \"y\" as E7  <<(T,blue) attribute>> [[psysml:89a85a0a-005f-45e8-8309-6769d170c6df ]] {\r\n",
       "}\r\n",
       "}\r\n",
       "rec def \"B\" as E8  <<(T,blue) part def>> [[psysml:bbb3af71-bfb9-47e2-863f-33482c8ff081 ]] {\r\n",
       "rec usage \"a: A\" as E9  [[psysml:c128dc79-fecf-4cdb-b1ba-5850a9b121ec ]] {\r\n",
       "}\r\n",
       "portin \"x: ~C\" as E10  <<(T,blue) port>> [[psysml:540f6402-e62e-4ea3-b051-5d5cf5bfcb38 ]] \r\n",
       "package \"P\" as E11  [[psysml:f4e4ee2b-1abf-4dbd-8483-2b091bdfceaf ]]  {\r\n",
       "}\r\n",
       "}\r\n",
       "def \"C\" as E12  <<(T,blue) port def>> [[psysml:a92372c2-fe41-425f-b40c-da5b8c1ca15d ]] \r\n",
       "}\r\n",
       "E7 - -|> E6 [[psysml:786244db-8099-4288-b2d9-7a0aeaae101d ]] \r\n",
       "@enduml\r\n",
       "\n",
       "PlantUML version 1.2020.13(Sat Jun 13 12:26:38 UTC 2020)\n",
       "(EPL source distribution)\n",
       "Java Runtime: OpenJDK Runtime Environment\n",
       "JVM: OpenJDK 64-Bit Server VM\n",
       "Default Encoding: UTF-8\n",
       "Language: en\n",
       "Country: null\n",
       "--></g></svg>"
      ]
     },
     "execution_count": 54,
     "metadata": {},
     "output_type": "execute_result"
    }
   ],
   "source": [
    "%viz --style=\"ORTHOLINE\" --view=\"Interconnection\" \"PartTest\""
   ]
  },
  {
   "cell_type": "code",
   "execution_count": 55,
   "id": "03b3737e",
   "metadata": {
    "execution": {
     "iopub.execute_input": "2021-10-03T08:29:56.294227Z",
     "iopub.status.busy": "2021-10-03T08:29:56.293819Z",
     "iopub.status.idle": "2021-10-03T08:29:56.298577Z",
     "shell.execute_reply": "2021-10-03T08:29:56.298897Z"
    }
   },
   "outputs": [
    {
     "data": {
      "image/svg+xml": [
       "<?xml version=\"1.0\" encoding=\"UTF-8\" standalone=\"no\"?><svg xmlns=\"http://www.w3.org/2000/svg\" xmlns:xlink=\"http://www.w3.org/1999/xlink\" contentScriptType=\"application/ecmascript\" contentStyleType=\"text/css\" height=\"12px\" preserveAspectRatio=\"none\" style=\"width:12px;height:12px;\" version=\"1.1\" viewBox=\"0 0 12 12\" width=\"12px\" zoomAndPan=\"magnify\"><defs/><g><!--MD5=[72934c63077099a26744516a776b4749]\n",
       "@startuml\r\n",
       "skinparam ranksep 8\r\n",
       "skinparam linetype ortho\r\n",
       "skinparam monochrome true\r\n",
       "skinparam classbackgroundcolor white\r\n",
       "skinparam shadowing false\r\n",
       "skinparam wrapWidth 300\r\n",
       "hide circle\r\n",
       "\r\n",
       "@enduml\r\n",
       "\n",
       "PlantUML version 1.2020.13(Sat Jun 13 12:26:38 UTC 2020)\n",
       "(EPL source distribution)\n",
       "Java Runtime: OpenJDK Runtime Environment\n",
       "JVM: OpenJDK 64-Bit Server VM\n",
       "Default Encoding: UTF-8\n",
       "Language: en\n",
       "Country: null\n",
       "--></g></svg>"
      ]
     },
     "execution_count": 55,
     "metadata": {},
     "output_type": "execute_result"
    }
   ],
   "source": [
    "%viz --style=\"ORTHOLINE\" --view=\"Action\" \"PartTest\""
   ]
  },
  {
   "cell_type": "code",
   "execution_count": 56,
   "id": "d66a16a3",
   "metadata": {
    "execution": {
     "iopub.execute_input": "2021-10-03T08:29:56.348272Z",
     "iopub.status.busy": "2021-10-03T08:29:56.347868Z",
     "iopub.status.idle": "2021-10-03T08:29:56.352795Z",
     "shell.execute_reply": "2021-10-03T08:29:56.353090Z"
    }
   },
   "outputs": [
    {
     "data": {
      "image/svg+xml": [
       "<?xml version=\"1.0\" encoding=\"UTF-8\" standalone=\"no\"?><svg xmlns=\"http://www.w3.org/2000/svg\" xmlns:xlink=\"http://www.w3.org/1999/xlink\" contentScriptType=\"application/ecmascript\" contentStyleType=\"text/css\" height=\"12px\" preserveAspectRatio=\"none\" style=\"width:12px;height:12px;\" version=\"1.1\" viewBox=\"0 0 12 12\" width=\"12px\" zoomAndPan=\"magnify\"><defs/><g><!--MD5=[30fc1de5121c5abddedd55b44417fde8]\n",
       "@startuml\r\n",
       "skinparam roundcorner 20\r\n",
       "skinparam BoxPadding 20\r\n",
       "skinparam SequenceBoxBackgroundColor #white\r\n",
       "skinparam style strictuml\r\n",
       "skinparam maxMessageSize 100\r\n",
       "skinparam linetype ortho\r\n",
       "skinparam monochrome true\r\n",
       "skinparam classbackgroundcolor white\r\n",
       "skinparam shadowing false\r\n",
       "skinparam wrapWidth 300\r\n",
       "hide circle\r\n",
       "\r\n",
       "@enduml\r\n",
       "\n",
       "PlantUML version 1.2020.13(Sat Jun 13 12:26:38 UTC 2020)\n",
       "(EPL source distribution)\n",
       "Java Runtime: OpenJDK Runtime Environment\n",
       "JVM: OpenJDK 64-Bit Server VM\n",
       "Default Encoding: UTF-8\n",
       "Language: en\n",
       "Country: null\n",
       "--></g></svg>"
      ]
     },
     "execution_count": 56,
     "metadata": {},
     "output_type": "execute_result"
    }
   ],
   "source": [
    "%viz --style=\"ORTHOLINE\" --view=\"Sequence\" \"PartTest\""
   ]
  },
  {
   "cell_type": "code",
   "execution_count": 57,
   "id": "6de95746",
   "metadata": {
    "execution": {
     "iopub.execute_input": "2021-10-03T08:29:56.402479Z",
     "iopub.status.busy": "2021-10-03T08:29:56.402073Z",
     "iopub.status.idle": "2021-10-03T08:29:56.455858Z",
     "shell.execute_reply": "2021-10-03T08:29:56.453876Z"
    }
   },
   "outputs": [
    {
     "data": {
      "image/svg+xml": [
       "<?xml version=\"1.0\" encoding=\"UTF-8\" standalone=\"no\"?><svg xmlns=\"http://www.w3.org/2000/svg\" xmlns:xlink=\"http://www.w3.org/1999/xlink\" contentScriptType=\"application/ecmascript\" contentStyleType=\"text/css\" height=\"760px\" preserveAspectRatio=\"none\" style=\"width:423px;height:760px;\" version=\"1.1\" viewBox=\"0 0 423 760\" width=\"423px\" zoomAndPan=\"magnify\"><defs/><g><!--MD5=[fbc87193dbaf4d95561dea2c320d4a47]\n",
       "cluster E1--><a href=\"psysml:a6b62677-d27b-4bf3-83e0-375e3ba01a4b\" target=\"_top\" title=\"psysml:a6b62677-d27b-4bf3-83e0-375e3ba01a4b\" xlink:actuate=\"onRequest\" xlink:href=\"psysml:a6b62677-d27b-4bf3-83e0-375e3ba01a4b\" xlink:show=\"new\" xlink:title=\"psysml:a6b62677-d27b-4bf3-83e0-375e3ba01a4b\" xlink:type=\"simple\"><polygon fill=\"#FFFFFF\" points=\"16,6,80,6,87,28.2969,401,28.2969,401,748,16,748,16,6\" style=\"stroke: #000000; stroke-width: 1.5;\"/><line style=\"stroke: #000000; stroke-width: 1.5;\" x1=\"16\" x2=\"87\" y1=\"28.2969\" y2=\"28.2969\"/><text fill=\"#000000\" font-family=\"sans-serif\" font-size=\"14\" font-weight=\"bold\" lengthAdjust=\"spacingAndGlyphs\" textLength=\"58\" x=\"20\" y=\"20.9951\">PartTest</text></a><!--MD5=[b4997ac47864f28c2f74865a473b2911]\n",
       "class E2--><a href=\"psysml:fef66b5f-1b9d-421e-94fe-86858427a029\" target=\"_top\" title=\"psysml:fef66b5f-1b9d-421e-94fe-86858427a029\" xlink:actuate=\"onRequest\" xlink:href=\"psysml:fef66b5f-1b9d-421e-94fe-86858427a029\" xlink:show=\"new\" xlink:title=\"psysml:fef66b5f-1b9d-421e-94fe-86858427a029\" xlink:type=\"simple\"><rect fill=\"#FFFFFF\" height=\"45.9375\" id=\"E2\" rx=\"10\" ry=\"10\" style=\"stroke: #383838; stroke-width: 1.5;\" width=\"42\" x=\"201\" y=\"41\"/><text fill=\"#000000\" font-family=\"sans-serif\" font-size=\"12\" font-style=\"italic\" lengthAdjust=\"spacingAndGlyphs\" textLength=\"40\" x=\"202\" y=\"57.1387\">«part»</text><text fill=\"#000000\" font-family=\"sans-serif\" font-size=\"12\" lengthAdjust=\"spacingAndGlyphs\" textLength=\"20\" x=\"212\" y=\"71.1074\">f: A</text><line style=\"stroke: #383838; stroke-width: 1.5;\" x1=\"202\" x2=\"242\" y1=\"78.9375\" y2=\"78.9375\"/></a><!--MD5=[09b614a08d8cba4a07c9adeb5e0fee81]\n",
       "class E3--><a href=\"psysml:a2cad1be-c52d-4964-a87e-891cd7289f52\" target=\"_top\" title=\"psysml:a2cad1be-c52d-4964-a87e-891cd7289f52\" xlink:actuate=\"onRequest\" xlink:href=\"psysml:a2cad1be-c52d-4964-a87e-891cd7289f52\" xlink:show=\"new\" xlink:title=\"psysml:a2cad1be-c52d-4964-a87e-891cd7289f52\" xlink:type=\"simple\"><rect fill=\"#FFFFFF\" height=\"88.3516\" id=\"E3\" style=\"stroke: #383838; stroke-width: 1.5;\" width=\"66\" x=\"189\" y=\"148\"/><text fill=\"#000000\" font-family=\"sans-serif\" font-size=\"12\" font-style=\"italic\" lengthAdjust=\"spacingAndGlyphs\" textLength=\"64\" x=\"190\" y=\"164.1387\">«part def»</text><text fill=\"#000000\" font-family=\"sans-serif\" font-size=\"12\" lengthAdjust=\"spacingAndGlyphs\" textLength=\"8\" x=\"218\" y=\"178.1074\">A</text><line style=\"stroke: #383838; stroke-width: 1.5;\" x1=\"190\" x2=\"254\" y1=\"185.9375\" y2=\"185.9375\"/><text fill=\"#000000\" font-family=\"sans-serif\" font-size=\"11\" lengthAdjust=\"spacingAndGlyphs\" textLength=\"6\" x=\"195\" y=\"216.9526\">x</text><text fill=\"#000000\" font-family=\"sans-serif\" font-size=\"11\" lengthAdjust=\"spacingAndGlyphs\" textLength=\"6\" x=\"195\" y=\"229.7573\">y</text><line style=\"stroke: #383838; stroke-width: 1.0;\" x1=\"190\" x2=\"194.5\" y1=\"200.3398\" y2=\"200.3398\"/><text fill=\"#000000\" font-family=\"sans-serif\" font-size=\"11\" lengthAdjust=\"spacingAndGlyphs\" textLength=\"55\" x=\"194.5\" y=\"203.6479\">attributes</text><line style=\"stroke: #383838; stroke-width: 1.0;\" x1=\"249.5\" x2=\"254\" y1=\"200.3398\" y2=\"200.3398\"/></a><!--MD5=[ebbe1d658d1005bcc118a6aa81145e00]\n",
       "class E4--><a href=\"psysml:9dcf2186-613a-4b96-912f-a1b95f354387\" target=\"_top\" title=\"psysml:9dcf2186-613a-4b96-912f-a1b95f354387\" xlink:actuate=\"onRequest\" xlink:href=\"psysml:9dcf2186-613a-4b96-912f-a1b95f354387\" xlink:show=\"new\" xlink:title=\"psysml:9dcf2186-613a-4b96-912f-a1b95f354387\" xlink:type=\"simple\"><rect fill=\"#FFFFFF\" height=\"45.9375\" id=\"E4\" rx=\"10\" ry=\"10\" style=\"stroke: #383838; stroke-width: 1.5;\" width=\"42\" x=\"323\" y=\"373\"/><text fill=\"#000000\" font-family=\"sans-serif\" font-size=\"12\" font-style=\"italic\" lengthAdjust=\"spacingAndGlyphs\" textLength=\"40\" x=\"324\" y=\"389.1387\">«part»</text><text fill=\"#000000\" font-family=\"sans-serif\" font-size=\"12\" lengthAdjust=\"spacingAndGlyphs\" textLength=\"24\" x=\"332\" y=\"403.1074\">b: B</text><line style=\"stroke: #383838; stroke-width: 1.5;\" x1=\"324\" x2=\"364\" y1=\"410.9375\" y2=\"410.9375\"/></a><!--MD5=[270fce915f116d4de14055a7c1d9a0f3]\n",
       "class E5--><a href=\"psysml:a3147892-19dd-4d4c-8f64-71e53da800dc\" target=\"_top\" title=\"psysml:a3147892-19dd-4d4c-8f64-71e53da800dc\" xlink:actuate=\"onRequest\" xlink:href=\"psysml:a3147892-19dd-4d4c-8f64-71e53da800dc\" xlink:show=\"new\" xlink:title=\"psysml:a3147892-19dd-4d4c-8f64-71e53da800dc\" xlink:type=\"simple\"><rect fill=\"#FFFFFF\" height=\"45.9375\" id=\"E5\" rx=\"10\" ry=\"10\" style=\"stroke: #383838; stroke-width: 1.5;\" width=\"42\" x=\"306\" y=\"297\"/><text fill=\"#000000\" font-family=\"sans-serif\" font-size=\"12\" font-style=\"italic\" lengthAdjust=\"spacingAndGlyphs\" textLength=\"40\" x=\"307\" y=\"313.1387\">«port»</text><text fill=\"#000000\" font-family=\"sans-serif\" font-size=\"12\" lengthAdjust=\"spacingAndGlyphs\" textLength=\"23\" x=\"315.5\" y=\"327.1074\">c: C</text><line style=\"stroke: #383838; stroke-width: 1.5;\" x1=\"307\" x2=\"347\" y1=\"334.9375\" y2=\"334.9375\"/></a><!--MD5=[60a26617385b1d2d0262a64233df1f8d]\n",
       "class E6--><a href=\"psysml:bbb3af71-bfb9-47e2-863f-33482c8ff081\" target=\"_top\" title=\"psysml:bbb3af71-bfb9-47e2-863f-33482c8ff081\" xlink:actuate=\"onRequest\" xlink:href=\"psysml:bbb3af71-bfb9-47e2-863f-33482c8ff081\" xlink:show=\"new\" xlink:title=\"psysml:bbb3af71-bfb9-47e2-863f-33482c8ff081\" xlink:type=\"simple\"><rect fill=\"#FFFFFF\" height=\"45.9375\" id=\"E6\" style=\"stroke: #383838; stroke-width: 1.5;\" width=\"66\" x=\"163\" y=\"572\"/><text fill=\"#000000\" font-family=\"sans-serif\" font-size=\"12\" font-style=\"italic\" lengthAdjust=\"spacingAndGlyphs\" textLength=\"64\" x=\"164\" y=\"588.1387\">«part def»</text><text fill=\"#000000\" font-family=\"sans-serif\" font-size=\"12\" lengthAdjust=\"spacingAndGlyphs\" textLength=\"8\" x=\"192\" y=\"602.1074\">B</text><line style=\"stroke: #383838; stroke-width: 1.5;\" x1=\"164\" x2=\"228\" y1=\"609.9375\" y2=\"609.9375\"/></a><!--MD5=[2156ba9850f5573cc1fc38a6a4b2f02b]\n",
       "class E7--><a href=\"psysml:c128dc79-fecf-4cdb-b1ba-5850a9b121ec\" target=\"_top\" title=\"psysml:c128dc79-fecf-4cdb-b1ba-5850a9b121ec\" xlink:actuate=\"onRequest\" xlink:href=\"psysml:c128dc79-fecf-4cdb-b1ba-5850a9b121ec\" xlink:show=\"new\" xlink:title=\"psysml:c128dc79-fecf-4cdb-b1ba-5850a9b121ec\" xlink:type=\"simple\"><rect fill=\"#FFFFFF\" height=\"45.9375\" id=\"E7\" rx=\"10\" ry=\"10\" style=\"stroke: #383838; stroke-width: 1.5;\" width=\"42\" x=\"58\" y=\"682.5\"/><text fill=\"#000000\" font-family=\"sans-serif\" font-size=\"12\" font-style=\"italic\" lengthAdjust=\"spacingAndGlyphs\" textLength=\"40\" x=\"59\" y=\"698.6387\">«part»</text><text fill=\"#000000\" font-family=\"sans-serif\" font-size=\"12\" lengthAdjust=\"spacingAndGlyphs\" textLength=\"24\" x=\"67\" y=\"712.6074\">a: A</text><line style=\"stroke: #383838; stroke-width: 1.5;\" x1=\"59\" x2=\"99\" y1=\"720.4375\" y2=\"720.4375\"/></a><!--MD5=[b9389687b975829384b498ac4b7476b2]\n",
       "class E8--><a href=\"psysml:540f6402-e62e-4ea3-b051-5d5cf5bfcb38\" target=\"_top\" title=\"psysml:540f6402-e62e-4ea3-b051-5d5cf5bfcb38\" xlink:actuate=\"onRequest\" xlink:href=\"psysml:540f6402-e62e-4ea3-b051-5d5cf5bfcb38\" xlink:show=\"new\" xlink:title=\"psysml:540f6402-e62e-4ea3-b051-5d5cf5bfcb38\" xlink:type=\"simple\"><rect fill=\"#FFFFFF\" height=\"45.9375\" id=\"E8\" rx=\"10\" ry=\"10\" style=\"stroke: #383838; stroke-width: 1.5;\" width=\"42\" x=\"213\" y=\"682.5\"/><text fill=\"#000000\" font-family=\"sans-serif\" font-size=\"12\" font-style=\"italic\" lengthAdjust=\"spacingAndGlyphs\" textLength=\"40\" x=\"214\" y=\"698.6387\">«port»</text><text fill=\"#000000\" font-family=\"sans-serif\" font-size=\"12\" lengthAdjust=\"spacingAndGlyphs\" textLength=\"32\" x=\"218\" y=\"712.6074\">x: ~C</text><line style=\"stroke: #383838; stroke-width: 1.5;\" x1=\"214\" x2=\"254\" y1=\"720.4375\" y2=\"720.4375\"/></a><!--MD5=[96f4274e9e20536e775497830990834d]\n",
       "class E10--><a href=\"psysml:a92372c2-fe41-425f-b40c-da5b8c1ca15d\" target=\"_top\" title=\"psysml:a92372c2-fe41-425f-b40c-da5b8c1ca15d\" xlink:actuate=\"onRequest\" xlink:href=\"psysml:a92372c2-fe41-425f-b40c-da5b8c1ca15d\" xlink:show=\"new\" xlink:title=\"psysml:a92372c2-fe41-425f-b40c-da5b8c1ca15d\" xlink:type=\"simple\"><rect fill=\"#FFFFFF\" height=\"45.9375\" id=\"E10\" style=\"stroke: #383838; stroke-width: 1.5;\" width=\"66\" x=\"163\" y=\"449\"/><text fill=\"#000000\" font-family=\"sans-serif\" font-size=\"12\" font-style=\"italic\" lengthAdjust=\"spacingAndGlyphs\" textLength=\"64\" x=\"164\" y=\"465.1387\">«port def»</text><text fill=\"#000000\" font-family=\"sans-serif\" font-size=\"12\" lengthAdjust=\"spacingAndGlyphs\" textLength=\"8\" x=\"192\" y=\"479.1074\">C</text><line style=\"stroke: #383838; stroke-width: 1.5;\" x1=\"164\" x2=\"228\" y1=\"486.9375\" y2=\"486.9375\"/></a><a href=\"psysml:f4e4ee2b-1abf-4dbd-8483-2b091bdfceaf\" target=\"_top\" title=\"psysml:f4e4ee2b-1abf-4dbd-8483-2b091bdfceaf\" xlink:actuate=\"onRequest\" xlink:href=\"psysml:f4e4ee2b-1abf-4dbd-8483-2b091bdfceaf\" xlink:show=\"new\" xlink:title=\"psysml:f4e4ee2b-1abf-4dbd-8483-2b091bdfceaf\" xlink:type=\"simple\"><polygon fill=\"#FFFFFF\" points=\"148.5,679,163.5,679,170.5,701.2969,177.5,701.2969,177.5,731.5938,148.5,731.5938,148.5,679\" style=\"stroke: #000000; stroke-width: 1.5;\"/><line style=\"stroke: #000000; stroke-width: 1.5;\" x1=\"148.5\" x2=\"170.5\" y1=\"701.2969\" y2=\"701.2969\"/><text fill=\"#000000\" font-family=\"sans-serif\" font-size=\"14\" font-weight=\"bold\" lengthAdjust=\"spacingAndGlyphs\" textLength=\"9\" x=\"152.5\" y=\"693.9951\">P</text></a><!--MD5=[2720a5a1f2c3fca2055b230370638851]\n",
       "link E2 to E3--><a href=\"psysml:488f6ee0-39a9-4dc0-b555-612cc99c37a1\" target=\"_top\" title=\"psysml:488f6ee0-39a9-4dc0-b555-612cc99c37a1\" xlink:actuate=\"onRequest\" xlink:href=\"psysml:488f6ee0-39a9-4dc0-b555-612cc99c37a1\" xlink:show=\"new\" xlink:title=\"psysml:488f6ee0-39a9-4dc0-b555-612cc99c37a1\" xlink:type=\"simple\"><path d=\"M222,87.18 C222,87.18 222,127.76 222,127.76 \" fill=\"none\" id=\"E2-&gt;E3\" style=\"stroke: #383838; stroke-width: 1.0;\"/><polygon fill=\"#FFFFFF\" points=\"222,147.76,215,128.76,229,128.76,222,147.76\" style=\"stroke: #383838; stroke-width: 1.0;\"/><ellipse cx=\"217\" cy=\"123.06\" fill=\"#383838\" rx=\"2\" ry=\"2\" style=\"stroke: #383838; stroke-width: 1.0;\"/><ellipse cx=\"227\" cy=\"123.06\" fill=\"#383838\" rx=\"2\" ry=\"2\" style=\"stroke: #383838; stroke-width: 1.0;\"/></a><!--MD5=[4672eba38e49728da53d11aeb285b987]\n",
       "reverse link E3 to E4--><a href=\"psysml:98712745-a638-4d1f-8ffc-380c342569c9\" target=\"_top\" title=\"psysml:98712745-a638-4d1f-8ffc-380c342569c9\" xlink:actuate=\"onRequest\" xlink:href=\"psysml:98712745-a638-4d1f-8ffc-380c342569c9\" xlink:show=\"new\" xlink:title=\"psysml:98712745-a638-4d1f-8ffc-380c342569c9\" xlink:type=\"simple\"><path d=\"M237.67,249.01 C237.67,249.01 237.67,396 237.67,396 C237.67,396 292,396 322.99,396 \" fill=\"none\" id=\"E3&lt;-E4\" style=\"stroke: #383838; stroke-width: 1.0;\"/><polygon fill=\"#383838\" points=\"237.67,236.01,233.67,242.01,237.67,248.01,241.67,242.01,237.67,236.01\" style=\"stroke: #383838; stroke-width: 1.0;\"/><text fill=\"#000000\" font-family=\"sans-serif\" font-size=\"13\" lengthAdjust=\"spacingAndGlyphs\" textLength=\"8\" x=\"307.0181\" y=\"390.7074\">1</text></a><!--MD5=[191cde3d490a3f6d7bb551fe3ddca469]\n",
       "reverse link E3 to E5--><a href=\"psysml:3d3c789c-d512-4565-8d7c-059f8d1010f8\" target=\"_top\" title=\"psysml:3d3c789c-d512-4565-8d7c-059f8d1010f8\" xlink:actuate=\"onRequest\" xlink:href=\"psysml:3d3c789c-d512-4565-8d7c-059f8d1010f8\" xlink:show=\"new\" xlink:title=\"psysml:3d3c789c-d512-4565-8d7c-059f8d1010f8\" xlink:type=\"simple\"><path d=\"M246.33,249.05 C246.33,249.05 246.33,320 246.33,320 C246.33,320 281.91,320 305.81,320 \" fill=\"none\" id=\"E3&lt;-E5\" style=\"stroke: #383838; stroke-width: 1.0;\"/><polygon fill=\"#FFFFFF\" points=\"246.33,236.05,242.33,242.05,246.33,248.05,250.33,242.05,246.33,236.05\" style=\"stroke: #383838; stroke-width: 1.0;\"/><text fill=\"#000000\" font-family=\"sans-serif\" font-size=\"13\" lengthAdjust=\"spacingAndGlyphs\" textLength=\"8\" x=\"290.0956\" y=\"314.7999\">1</text></a><!--MD5=[79568f1e445c3877b6a54524624ccc7d]\n",
       "link E4 to E6--><a href=\"psysml:1225703b-924d-44f0-aa92-4bca49ced0c9\" target=\"_top\" title=\"psysml:1225703b-924d-44f0-aa92-4bca49ced0c9\" xlink:actuate=\"onRequest\" xlink:href=\"psysml:1225703b-924d-44f0-aa92-4bca49ced0c9\" xlink:show=\"new\" xlink:title=\"psysml:1225703b-924d-44f0-aa92-4bca49ced0c9\" xlink:type=\"simple\"><path d=\"M344,419.22 C344,471.71 344,595 344,595 C344,595 249.21,595 249.21,595 \" fill=\"none\" id=\"E4-&gt;E6\" style=\"stroke: #383838; stroke-width: 1.0;\"/><polygon fill=\"#FFFFFF\" points=\"229.21,595,248.21,588,248.21,602,229.21,595\" style=\"stroke: #383838; stroke-width: 1.0;\"/><ellipse cx=\"253.91\" cy=\"590\" fill=\"#383838\" rx=\"2\" ry=\"2\" style=\"stroke: #383838; stroke-width: 1.0;\"/><ellipse cx=\"253.91\" cy=\"600\" fill=\"#383838\" rx=\"2\" ry=\"2\" style=\"stroke: #383838; stroke-width: 1.0;\"/></a><!--MD5=[3f50a3473f1dfb74d3f76443e03635af]\n",
       "reverse link E6 to E7--><a href=\"psysml:a81e6d2d-a633-4d51-820c-a47602c519dd\" target=\"_top\" title=\"psysml:a81e6d2d-a633-4d51-820c-a47602c519dd\" xlink:actuate=\"onRequest\" xlink:href=\"psysml:a81e6d2d-a633-4d51-820c-a47602c519dd\" xlink:show=\"new\" xlink:title=\"psysml:a81e6d2d-a633-4d51-820c-a47602c519dd\" xlink:type=\"simple\"><path d=\"M150,595 C150,595 86,595 86,595 C86,595 86,649.93 86,682.34 \" fill=\"none\" id=\"E6&lt;-E7\" style=\"stroke: #383838; stroke-width: 1.0;\"/><polygon fill=\"#383838\" points=\"163,595,157,591,151,595,157,599,163,595\" style=\"stroke: #383838; stroke-width: 1.0;\"/><text fill=\"#000000\" font-family=\"sans-serif\" font-size=\"13\" lengthAdjust=\"spacingAndGlyphs\" textLength=\"8\" x=\"78.7688\" y=\"671.5753\">1</text></a><!--MD5=[14ccda38c055a5c0da953d572bc50960]\n",
       "link E7 to E3--><a href=\"psysml:4883cacd-6695-4e4a-8cc2-3609b81ec9a9\" target=\"_top\" title=\"psysml:4883cacd-6695-4e4a-8cc2-3609b81ec9a9\" xlink:actuate=\"onRequest\" xlink:href=\"psysml:4883cacd-6695-4e4a-8cc2-3609b81ec9a9\" xlink:show=\"new\" xlink:title=\"psysml:4883cacd-6695-4e4a-8cc2-3609b81ec9a9\" xlink:type=\"simple\"><path d=\"M72,682.44 C72,582.52 72,192 72,192 C72,192 168.71,192 168.71,192 \" fill=\"none\" id=\"E7-&gt;E3\" style=\"stroke: #383838; stroke-width: 1.0;\"/><polygon fill=\"#FFFFFF\" points=\"188.71,192,169.71,199,169.71,185,188.71,192\" style=\"stroke: #383838; stroke-width: 1.0;\"/><ellipse cx=\"164.01\" cy=\"197\" fill=\"#383838\" rx=\"2\" ry=\"2\" style=\"stroke: #383838; stroke-width: 1.0;\"/><ellipse cx=\"164.01\" cy=\"187\" fill=\"#383838\" rx=\"2\" ry=\"2\" style=\"stroke: #383838; stroke-width: 1.0;\"/></a><!--MD5=[f4cf0736d43fd73c4ef68817c49d37d5]\n",
       "reverse link E6 to E8--><a href=\"psysml:2d844c43-a52c-43bf-b052-a300acb2bf74\" target=\"_top\" title=\"psysml:2d844c43-a52c-43bf-b052-a300acb2bf74\" xlink:actuate=\"onRequest\" xlink:href=\"psysml:2d844c43-a52c-43bf-b052-a300acb2bf74\" xlink:show=\"new\" xlink:title=\"psysml:2d844c43-a52c-43bf-b052-a300acb2bf74\" xlink:type=\"simple\"><path d=\"M221,631.16 C221,631.16 221,682.37 221,682.37 \" fill=\"none\" id=\"E6&lt;-E8\" style=\"stroke: #383838; stroke-width: 1.0;\"/><polygon fill=\"#FFFFFF\" points=\"221,618.16,217,624.16,221,630.16,225,624.16,221,618.16\" style=\"stroke: #383838; stroke-width: 1.0;\"/><text fill=\"#000000\" font-family=\"sans-serif\" font-size=\"13\" lengthAdjust=\"spacingAndGlyphs\" textLength=\"8\" x=\"208.6438\" y=\"671.613\">1</text></a><!--MD5=[e88d06e5a652d73a6b19930eefe025a8]\n",
       "reverse link E6 to E9--><a href=\"psysml:5153bd7e-9106-496d-98a6-0d3fae0d20a5\" target=\"_top\" title=\"psysml:5153bd7e-9106-496d-98a6-0d3fae0d20a5\" xlink:actuate=\"onRequest\" xlink:href=\"psysml:5153bd7e-9106-496d-98a6-0d3fae0d20a5\" xlink:show=\"new\" xlink:title=\"psysml:5153bd7e-9106-496d-98a6-0d3fae0d20a5\" xlink:type=\"simple\"><path d=\"M170.25,633.16 C170.25,633.16 170.25,678.87 170.25,678.87 \" fill=\"none\" id=\"E6&lt;-E9\" style=\"stroke: #383838; stroke-width: 1.0;\"/><ellipse cx=\"170.25\" cy=\"626.16\" fill=\"#FFFFFF\" rx=\"8\" ry=\"8\" style=\"stroke: #383838; stroke-width: 1.0;\"/><line style=\"stroke: #383838; stroke-width: 1.0;\" x1=\"170.25\" x2=\"170.25\" y1=\"634.16\" y2=\"618.16\"/><line style=\"stroke: #383838; stroke-width: 1.0;\" x1=\"162.25\" x2=\"178.25\" y1=\"626.16\" y2=\"626.16\"/></a><!--MD5=[f78a29d5932556fa1060671a2a6507d8]\n",
       "link E5 to E10--><a href=\"psysml:63374559-c2a0-4cf8-92a3-b39a3ed3eac1\" target=\"_top\" title=\"psysml:63374559-c2a0-4cf8-92a3-b39a3ed3eac1\" xlink:actuate=\"onRequest\" xlink:href=\"psysml:63374559-c2a0-4cf8-92a3-b39a3ed3eac1\" xlink:show=\"new\" xlink:title=\"psysml:63374559-c2a0-4cf8-92a3-b39a3ed3eac1\" xlink:type=\"simple\"><path d=\"M314.5,343.09 C314.5,385.61 314.5,472 314.5,472 C314.5,472 249.01,472 249.01,472 \" fill=\"none\" id=\"E5-&gt;E10\" style=\"stroke: #383838; stroke-width: 1.0;\"/><polygon fill=\"#FFFFFF\" points=\"229.01,472,248.01,465,248.01,479,229.01,472\" style=\"stroke: #383838; stroke-width: 1.0;\"/><ellipse cx=\"253.71\" cy=\"467\" fill=\"#383838\" rx=\"2\" ry=\"2\" style=\"stroke: #383838; stroke-width: 1.0;\"/><ellipse cx=\"253.71\" cy=\"477\" fill=\"#383838\" rx=\"2\" ry=\"2\" style=\"stroke: #383838; stroke-width: 1.0;\"/></a><!--MD5=[8e04057e7b3cbc0dca4fc78ea351e2da]\n",
       "reverse link E10 to E3--><a href=\"psysml:e24d69b8-a494-4022-9892-35ed42c85155\" target=\"_top\" title=\"psysml:e24d69b8-a494-4022-9892-35ed42c85155\" xlink:actuate=\"onRequest\" xlink:href=\"psysml:e24d69b8-a494-4022-9892-35ed42c85155\" xlink:show=\"new\" xlink:title=\"psysml:e24d69b8-a494-4022-9892-35ed42c85155\" xlink:type=\"simple\"><path d=\"M199,435.61 C199,435.61 199,236.17 199,236.17 \" fill=\"none\" id=\"E10&lt;-E3\" style=\"stroke: #383838; stroke-width: 1.0;\"/><polygon fill=\"#FFFFFF\" points=\"199,448.61,203,442.61,199,436.61,195,442.61,199,448.61\" style=\"stroke: #383838; stroke-width: 1.0;\"/><text fill=\"#000000\" font-family=\"sans-serif\" font-size=\"13\" lengthAdjust=\"spacingAndGlyphs\" textLength=\"7\" x=\"105\" y=\"324.5669\">y</text></a><!--MD5=[8e04057e7b3cbc0dca4fc78ea351e2da]\n",
       "reverse link E10 to E3--><a href=\"psysml:e24d69b8-a494-4022-9892-35ed42c85155\" target=\"_top\" title=\"psysml:e24d69b8-a494-4022-9892-35ed42c85155\" xlink:actuate=\"onRequest\" xlink:href=\"psysml:e24d69b8-a494-4022-9892-35ed42c85155\" xlink:show=\"new\" xlink:title=\"psysml:e24d69b8-a494-4022-9892-35ed42c85155\" xlink:type=\"simple\"><path d=\"M209,435.61 C209,435.61 209,236.17 209,236.17 \" fill=\"none\" id=\"E10&lt;-E3-1\" style=\"stroke: #383838; stroke-width: 1.0;\"/><polygon fill=\"#FFFFFF\" points=\"209,448.61,213,442.61,209,436.61,205,442.61,209,448.61\" style=\"stroke: #383838; stroke-width: 1.0;\"/><text fill=\"#000000\" font-family=\"sans-serif\" font-size=\"13\" lengthAdjust=\"spacingAndGlyphs\" textLength=\"7\" x=\"184\" y=\"324.5669\">y</text></a><!--MD5=[8e04057e7b3cbc0dca4fc78ea351e2da]\n",
       "reverse link E10 to E3--><a href=\"psysml:e24d69b8-a494-4022-9892-35ed42c85155\" target=\"_top\" title=\"psysml:e24d69b8-a494-4022-9892-35ed42c85155\" xlink:actuate=\"onRequest\" xlink:href=\"psysml:e24d69b8-a494-4022-9892-35ed42c85155\" xlink:show=\"new\" xlink:title=\"psysml:e24d69b8-a494-4022-9892-35ed42c85155\" xlink:type=\"simple\"><path d=\"M219,435.61 C219,435.61 219,236.17 219,236.17 \" fill=\"none\" id=\"E10&lt;-E3-2\" style=\"stroke: #383838; stroke-width: 1.0;\"/><polygon fill=\"#FFFFFF\" points=\"219,448.61,223,442.61,219,436.61,215,442.61,219,448.61\" style=\"stroke: #383838; stroke-width: 1.0;\"/><text fill=\"#000000\" font-family=\"sans-serif\" font-size=\"13\" lengthAdjust=\"spacingAndGlyphs\" textLength=\"7\" x=\"263\" y=\"324.5669\">y</text></a><!--MD5=[604cbf994c02b74b117f728a71673cea]\n",
       "reverse link E10 to E6--><a href=\"psysml:e24d69b8-a494-4022-9892-35ed42c85155\" target=\"_top\" title=\"psysml:e24d69b8-a494-4022-9892-35ed42c85155\" xlink:actuate=\"onRequest\" xlink:href=\"psysml:e24d69b8-a494-4022-9892-35ed42c85155\" xlink:show=\"new\" xlink:title=\"psysml:e24d69b8-a494-4022-9892-35ed42c85155\" xlink:type=\"simple\"><path d=\"M179.5,508.14 C179.5,508.14 179.5,571.97 179.5,571.97 \" fill=\"none\" id=\"E10&lt;-E6\" style=\"stroke: #383838; stroke-width: 1.0;\"/><polygon fill=\"#FFFFFF\" points=\"179.5,495.14,175.5,501.14,179.5,507.14,183.5,501.14,179.5,495.14\" style=\"stroke: #383838; stroke-width: 1.0;\"/><text fill=\"#000000\" font-family=\"sans-serif\" font-size=\"13\" lengthAdjust=\"spacingAndGlyphs\" textLength=\"7\" x=\"246\" y=\"538.0669\">y</text></a><!--MD5=[604cbf994c02b74b117f728a71673cea]\n",
       "reverse link E10 to E6--><a href=\"psysml:e24d69b8-a494-4022-9892-35ed42c85155\" target=\"_top\" title=\"psysml:e24d69b8-a494-4022-9892-35ed42c85155\" xlink:actuate=\"onRequest\" xlink:href=\"psysml:e24d69b8-a494-4022-9892-35ed42c85155\" xlink:show=\"new\" xlink:title=\"psysml:e24d69b8-a494-4022-9892-35ed42c85155\" xlink:type=\"simple\"><path d=\"M196,508.14 C196,508.14 196,571.97 196,571.97 \" fill=\"none\" id=\"E10&lt;-E6-1\" style=\"stroke: #383838; stroke-width: 1.0;\"/><polygon fill=\"#FFFFFF\" points=\"196,495.14,192,501.14,196,507.14,200,501.14,196,495.14\" style=\"stroke: #383838; stroke-width: 1.0;\"/><text fill=\"#000000\" font-family=\"sans-serif\" font-size=\"13\" lengthAdjust=\"spacingAndGlyphs\" textLength=\"7\" x=\"148\" y=\"538.0669\">y</text></a><!--MD5=[604cbf994c02b74b117f728a71673cea]\n",
       "reverse link E10 to E6--><a href=\"psysml:e24d69b8-a494-4022-9892-35ed42c85155\" target=\"_top\" title=\"psysml:e24d69b8-a494-4022-9892-35ed42c85155\" xlink:actuate=\"onRequest\" xlink:href=\"psysml:e24d69b8-a494-4022-9892-35ed42c85155\" xlink:show=\"new\" xlink:title=\"psysml:e24d69b8-a494-4022-9892-35ed42c85155\" xlink:type=\"simple\"><path d=\"M212.5,508.14 C212.5,508.14 212.5,571.97 212.5,571.97 \" fill=\"none\" id=\"E10&lt;-E6-2\" style=\"stroke: #383838; stroke-width: 1.0;\"/><polygon fill=\"#FFFFFF\" points=\"212.5,495.14,208.5,501.14,212.5,507.14,216.5,501.14,212.5,495.14\" style=\"stroke: #383838; stroke-width: 1.0;\"/><text fill=\"#000000\" font-family=\"sans-serif\" font-size=\"13\" lengthAdjust=\"spacingAndGlyphs\" textLength=\"7\" x=\"197\" y=\"538.0669\">y</text></a><!--MD5=[bd1447ec51d6c15f80ee8b111469450d]\n",
       "@startuml\r\n",
       "skinparam linetype ortho\r\n",
       "skinparam monochrome true\r\n",
       "skinparam classbackgroundcolor white\r\n",
       "skinparam shadowing false\r\n",
       "skinparam wrapWidth 300\r\n",
       "hide circle\r\n",
       "\r\n",
       "package \"PartTest\" as E1  [[psysml:a6b62677-d27b-4bf3-83e0-375e3ba01a4b ]]  {\r\n",
       "comp usage \"f: A\" as E2  <<(T,blue) part>> [[psysml:fef66b5f-1b9d-421e-94fe-86858427a029 ]] {\r\n",
       "}\r\n",
       "comp def \"A\" as E3  <<(T,blue) part def>> [[psysml:a2cad1be-c52d-4964-a87e-891cd7289f52 ]] {\r\n",
       "- - attributes - -\r\n",
       "x\r\n",
       "y\r\n",
       "}\r\n",
       "comp usage \"b: B\" as E4  <<(T,blue) part>> [[psysml:9dcf2186-613a-4b96-912f-a1b95f354387 ]] {\r\n",
       "}\r\n",
       "comp usage \"c: C\" as E5  <<(T,blue) port>> [[psysml:a3147892-19dd-4d4c-8f64-71e53da800dc ]] {\r\n",
       "}\r\n",
       "comp def \"B\" as E6  <<(T,blue) part def>> [[psysml:bbb3af71-bfb9-47e2-863f-33482c8ff081 ]] {\r\n",
       "}\r\n",
       "comp usage \"a: A\" as E7  <<(T,blue) part>> [[psysml:c128dc79-fecf-4cdb-b1ba-5850a9b121ec ]] {\r\n",
       "}\r\n",
       "comp usage \"x: ~C\" as E8  <<(T,blue) port>> [[psysml:540f6402-e62e-4ea3-b051-5d5cf5bfcb38 ]] {\r\n",
       "}\r\n",
       "package \"P\" as E9  [[psysml:f4e4ee2b-1abf-4dbd-8483-2b091bdfceaf ]]  {\r\n",
       "}\r\n",
       "comp def \"C\" as E10  <<(T,blue) port def>> [[psysml:a92372c2-fe41-425f-b40c-da5b8c1ca15d ]] {\r\n",
       "}\r\n",
       "}\r\n",
       "E2 - -:|> E3 [[psysml:488f6ee0-39a9-4dc0-b555-612cc99c37a1 ]] \r\n",
       "E3 *- - \"1\"E4 [[psysml:98712745-a638-4d1f-8ffc-380c342569c9 ]] \r\n",
       "E3 o- - \"1\"E5 [[psysml:3d3c789c-d512-4565-8d7c-059f8d1010f8 ]] \r\n",
       "E4 - -:|> E6 [[psysml:1225703b-924d-44f0-aa92-4bca49ced0c9 ]] \r\n",
       "E6 *- - \"1\"E7 [[psysml:a81e6d2d-a633-4d51-820c-a47602c519dd ]] \r\n",
       "E7 - -:|> E3 [[psysml:4883cacd-6695-4e4a-8cc2-3609b81ec9a9 ]] \r\n",
       "E6 o- - \"1\"E8 [[psysml:2d844c43-a52c-43bf-b052-a300acb2bf74 ]] \r\n",
       "E6 +- - E9 [[psysml:5153bd7e-9106-496d-98a6-0d3fae0d20a5 ]] \r\n",
       "E5 - -:|> E10 [[psysml:63374559-c2a0-4cf8-92a3-b39a3ed3eac1 ]] \r\n",
       "E10 o- - E3 [[psysml:e24d69b8-a494-4022-9892-35ed42c85155 ]] : y\r\n",
       "E10 o- - E6 [[psysml:e24d69b8-a494-4022-9892-35ed42c85155 ]] : y\r\n",
       "E10 o- - E3 [[psysml:e24d69b8-a494-4022-9892-35ed42c85155 ]] : y\r\n",
       "E10 o- - E6 [[psysml:e24d69b8-a494-4022-9892-35ed42c85155 ]] : y\r\n",
       "E10 o- - E3 [[psysml:e24d69b8-a494-4022-9892-35ed42c85155 ]] : y\r\n",
       "E10 o- - E6 [[psysml:e24d69b8-a494-4022-9892-35ed42c85155 ]] : y\r\n",
       "@enduml\r\n",
       "\n",
       "PlantUML version 1.2020.13(Sat Jun 13 12:26:38 UTC 2020)\n",
       "(EPL source distribution)\n",
       "Java Runtime: OpenJDK Runtime Environment\n",
       "JVM: OpenJDK 64-Bit Server VM\n",
       "Default Encoding: UTF-8\n",
       "Language: en\n",
       "Country: null\n",
       "--></g></svg>"
      ]
     },
     "execution_count": 57,
     "metadata": {},
     "output_type": "execute_result"
    }
   ],
   "source": [
    "%viz --style=\"ORTHOLINE\" --view=\"MIXED\" \"PartTest\""
   ]
  }
 ],
 "metadata": {
  "kernelspec": {
   "display_name": "SysML",
   "language": "sysml",
   "name": "sysml"
  },
  "language_info": {
   "codemirror_mode": "sysml",
   "file_extension": ".sysml",
   "mimetype": "text/x-sysml",
   "name": "SysML",
   "pygments_lexer": "java",
   "version": "1.0.0"
  }
 },
 "nbformat": 4,
 "nbformat_minor": 5
}
