{
 "cells": [
  {
   "cell_type": "markdown",
   "id": "3ee5fe16",
   "metadata": {},
   "source": [
    "# SysML v2 Test Suite\n",
    "\n",
    "This can notebook can be cleared using menu `Edit --> Clear All Outputs` and then all cells can be\n",
    "run using menu `Run --> Run All Cells`.\n",
    "\n",
    "**WARNING**: This file is generated, all modifications here will be ignored.\n"
   ]
  },
  {
   "cell_type": "markdown",
   "id": "2d98db81",
   "metadata": {},
   "source": [
    "## File: ../../sysml/src/examples/Simple Tests/PartTest.sysml"
   ]
  },
  {
   "cell_type": "code",
   "execution_count": 1,
   "id": "2fbcab16",
   "metadata": {
    "execution": {
     "iopub.execute_input": "2021-04-20T07:29:08.497210Z",
     "iopub.status.busy": "2021-04-20T07:29:08.496666Z",
     "iopub.status.idle": "2021-04-20T07:29:08.711218Z",
     "shell.execute_reply": "2021-04-20T07:29:08.710689Z"
    }
   },
   "outputs": [
    {
     "data": {
      "text/plain": [
       "Package PartTest (845642c6-1f3a-4d0c-a8b6-69ebf3eec612)\n"
      ]
     },
     "execution_count": 1,
     "metadata": {},
     "output_type": "execute_result"
    }
   ],
   "source": [
    "package PartTest {\n",
    "\t\n",
    "\tpart f: A;\n",
    "\n",
    "\tpublic part def A {\n",
    "\t\tpart id '1' b: B;\n",
    "\t\tprotected port c: C;\n",
    "\t}\n",
    "\t\n",
    "\tabstract part def id xx B {\n",
    "\t\tpublic abstract part a: A;\n",
    "\t\tport x: ~C;\n",
    "\t\tpackage P { }\n",
    "\t}\n",
    "\t\n",
    "\tprivate port def C {\n",
    "\t\tprivate in ref y: A, B;\n",
    "\t\timport y as z1;\n",
    "\t\talias y as z2;\n",
    "\t}\n",
    "\t\n",
    "}"
   ]
  },
  {
   "cell_type": "code",
   "execution_count": 2,
   "id": "d2bcefe0",
   "metadata": {
    "execution": {
     "iopub.execute_input": "2021-04-20T07:29:08.763784Z",
     "iopub.status.busy": "2021-04-20T07:29:08.763255Z",
     "iopub.status.idle": "2021-04-20T07:29:09.771170Z",
     "shell.execute_reply": "2021-04-20T07:29:09.769859Z"
    }
   },
   "outputs": [
    {
     "data": {
      "image/svg+xml": [
       "<?xml version=\"1.0\" encoding=\"UTF-8\" standalone=\"no\"?><svg xmlns=\"http://www.w3.org/2000/svg\" xmlns:xlink=\"http://www.w3.org/1999/xlink\" contentScriptType=\"application/ecmascript\" contentStyleType=\"text/css\" height=\"642px\" preserveAspectRatio=\"none\" style=\"width:260px;height:642px;\" version=\"1.1\" viewBox=\"0 0 260 642\" width=\"260px\" zoomAndPan=\"magnify\"><defs/><g><!--MD5=[fbc87193dbaf4d95561dea2c320d4a47]\n",
       "cluster E1--><a href=\"psysml:c65cc0cd-28b1-4d7a-bc05-02136890ed9a\" target=\"_top\" title=\"psysml:c65cc0cd-28b1-4d7a-bc05-02136890ed9a\" xlink:actuate=\"onRequest\" xlink:href=\"psysml:c65cc0cd-28b1-4d7a-bc05-02136890ed9a\" xlink:show=\"new\" xlink:title=\"psysml:c65cc0cd-28b1-4d7a-bc05-02136890ed9a\" xlink:type=\"simple\"><polygon fill=\"#FFFFFF\" points=\"16,6,89,6,96,28.2969,238,28.2969,238,630,16,630,16,6\" style=\"stroke: #000000; stroke-width: 1.5;\"/><line style=\"stroke: #000000; stroke-width: 1.5;\" x1=\"16\" x2=\"96\" y1=\"28.2969\" y2=\"28.2969\"/><text fill=\"#000000\" font-family=\"sans-serif\" font-size=\"14\" font-weight=\"bold\" lengthAdjust=\"spacingAndGlyphs\" textLength=\"67\" x=\"20\" y=\"20.9951\">PartTest</text></a><!--MD5=[b4997ac47864f28c2f74865a473b2911]\n",
       "class E2--><a href=\"psysml:634826b2-2fc2-4798-92ed-071cd1dffdd8\" target=\"_top\" title=\"psysml:634826b2-2fc2-4798-92ed-071cd1dffdd8\" xlink:actuate=\"onRequest\" xlink:href=\"psysml:634826b2-2fc2-4798-92ed-071cd1dffdd8\" xlink:show=\"new\" xlink:title=\"psysml:634826b2-2fc2-4798-92ed-071cd1dffdd8\" xlink:type=\"simple\"><rect fill=\"#FFFFFF\" height=\"45.9375\" id=\"E2\" rx=\"10\" ry=\"10\" style=\"stroke: #383838; stroke-width: 1.5;\" width=\"42\" x=\"32\" y=\"41\"/><text fill=\"#000000\" font-family=\"sans-serif\" font-size=\"12\" font-style=\"italic\" lengthAdjust=\"spacingAndGlyphs\" textLength=\"40\" x=\"33\" y=\"57.1387\">«part»</text><text fill=\"#000000\" font-family=\"sans-serif\" font-size=\"12\" lengthAdjust=\"spacingAndGlyphs\" textLength=\"20\" x=\"43\" y=\"71.1074\">f: A</text><line style=\"stroke: #383838; stroke-width: 1.5;\" x1=\"33\" x2=\"73\" y1=\"78.9375\" y2=\"78.9375\"/></a><!--MD5=[09b614a08d8cba4a07c9adeb5e0fee81]\n",
       "class E3--><a href=\"psysml:36aba5eb-a810-4976-a211-fcdfb7b330f5\" target=\"_top\" title=\"psysml:36aba5eb-a810-4976-a211-fcdfb7b330f5\" xlink:actuate=\"onRequest\" xlink:href=\"psysml:36aba5eb-a810-4976-a211-fcdfb7b330f5\" xlink:show=\"new\" xlink:title=\"psysml:36aba5eb-a810-4976-a211-fcdfb7b330f5\" xlink:type=\"simple\"><rect fill=\"#FFFFFF\" height=\"75.5469\" id=\"E3\" style=\"stroke: #383838; stroke-width: 1.5;\" width=\"66\" x=\"37\" y=\"164\"/><text fill=\"#000000\" font-family=\"sans-serif\" font-size=\"12\" font-style=\"italic\" lengthAdjust=\"spacingAndGlyphs\" textLength=\"64\" x=\"38\" y=\"180.1387\">«part def»</text><text fill=\"#000000\" font-family=\"sans-serif\" font-size=\"12\" lengthAdjust=\"spacingAndGlyphs\" textLength=\"8\" x=\"66\" y=\"194.1074\">A</text><line style=\"stroke: #383838; stroke-width: 1.5;\" x1=\"38\" x2=\"102\" y1=\"201.9375\" y2=\"201.9375\"/><text fill=\"#000000\" font-family=\"sans-serif\" font-size=\"11\" lengthAdjust=\"spacingAndGlyphs\" textLength=\"22\" x=\"43\" y=\"232.9526\">c: C</text><line style=\"stroke: #383838; stroke-width: 1.0;\" x1=\"38\" x2=\"55\" y1=\"216.3398\" y2=\"216.3398\"/><text fill=\"#000000\" font-family=\"sans-serif\" font-size=\"11\" lengthAdjust=\"spacingAndGlyphs\" textLength=\"30\" x=\"55\" y=\"219.6479\">ports</text><line style=\"stroke: #383838; stroke-width: 1.0;\" x1=\"85\" x2=\"102\" y1=\"216.3398\" y2=\"216.3398\"/></a><!--MD5=[ebbe1d658d1005bcc118a6aa81145e00]\n",
       "class E4--><a href=\"psysml:b5150c44-d935-4f31-a69b-527c90fd7c47\" target=\"_top\" title=\"psysml:b5150c44-d935-4f31-a69b-527c90fd7c47\" xlink:actuate=\"onRequest\" xlink:href=\"psysml:b5150c44-d935-4f31-a69b-527c90fd7c47\" xlink:show=\"new\" xlink:title=\"psysml:b5150c44-d935-4f31-a69b-527c90fd7c47\" xlink:type=\"simple\"><rect fill=\"#FFFFFF\" height=\"45.9375\" id=\"E4\" rx=\"10\" ry=\"10\" style=\"stroke: #383838; stroke-width: 1.5;\" width=\"42\" x=\"69\" y=\"317\"/><text fill=\"#000000\" font-family=\"sans-serif\" font-size=\"12\" font-style=\"italic\" lengthAdjust=\"spacingAndGlyphs\" textLength=\"40\" x=\"70\" y=\"333.1387\">«part»</text><text fill=\"#000000\" font-family=\"sans-serif\" font-size=\"12\" lengthAdjust=\"spacingAndGlyphs\" textLength=\"24\" x=\"78\" y=\"347.1074\">b: B</text><line style=\"stroke: #383838; stroke-width: 1.5;\" x1=\"70\" x2=\"110\" y1=\"354.9375\" y2=\"354.9375\"/></a><!--MD5=[270fce915f116d4de14055a7c1d9a0f3]\n",
       "class E5--><a href=\"psysml:94fb1c4b-8096-4b0e-a0c8-00d5fe55de6c\" target=\"_top\" title=\"psysml:94fb1c4b-8096-4b0e-a0c8-00d5fe55de6c\" xlink:actuate=\"onRequest\" xlink:href=\"psysml:94fb1c4b-8096-4b0e-a0c8-00d5fe55de6c\" xlink:show=\"new\" xlink:title=\"psysml:94fb1c4b-8096-4b0e-a0c8-00d5fe55de6c\" xlink:type=\"simple\"><rect fill=\"#FFFFFF\" height=\"75.5469\" id=\"E5\" style=\"stroke: #383838; stroke-width: 1.5;\" width=\"66\" x=\"114\" y=\"424\"/><text fill=\"#000000\" font-family=\"sans-serif\" font-size=\"12\" font-style=\"italic\" lengthAdjust=\"spacingAndGlyphs\" textLength=\"64\" x=\"115\" y=\"440.1387\">«part def»</text><text fill=\"#000000\" font-family=\"sans-serif\" font-size=\"12\" lengthAdjust=\"spacingAndGlyphs\" textLength=\"8\" x=\"143\" y=\"454.1074\">B</text><line style=\"stroke: #383838; stroke-width: 1.5;\" x1=\"115\" x2=\"179\" y1=\"461.9375\" y2=\"461.9375\"/><text fill=\"#000000\" font-family=\"sans-serif\" font-size=\"11\" lengthAdjust=\"spacingAndGlyphs\" textLength=\"31\" x=\"120\" y=\"492.9526\">x: ~C</text><line style=\"stroke: #383838; stroke-width: 1.0;\" x1=\"115\" x2=\"132\" y1=\"476.3398\" y2=\"476.3398\"/><text fill=\"#000000\" font-family=\"sans-serif\" font-size=\"11\" lengthAdjust=\"spacingAndGlyphs\" textLength=\"30\" x=\"132\" y=\"479.6479\">ports</text><line style=\"stroke: #383838; stroke-width: 1.0;\" x1=\"162\" x2=\"179\" y1=\"476.3398\" y2=\"476.3398\"/></a><!--MD5=[60a26617385b1d2d0262a64233df1f8d]\n",
       "class E6--><a href=\"psysml:de084c60-8c86-4761-a316-7296396fb321\" target=\"_top\" title=\"psysml:de084c60-8c86-4761-a316-7296396fb321\" xlink:actuate=\"onRequest\" xlink:href=\"psysml:de084c60-8c86-4761-a316-7296396fb321\" xlink:show=\"new\" xlink:title=\"psysml:de084c60-8c86-4761-a316-7296396fb321\" xlink:type=\"simple\"><rect fill=\"#FFFFFF\" height=\"45.9375\" id=\"E6\" rx=\"10\" ry=\"10\" style=\"stroke: #383838; stroke-width: 1.5;\" width=\"42\" x=\"44\" y=\"564.5\"/><text fill=\"#000000\" font-family=\"sans-serif\" font-size=\"12\" font-style=\"italic\" lengthAdjust=\"spacingAndGlyphs\" textLength=\"40\" x=\"45\" y=\"580.6387\">«part»</text><text fill=\"#000000\" font-family=\"sans-serif\" font-size=\"12\" lengthAdjust=\"spacingAndGlyphs\" textLength=\"24\" x=\"53\" y=\"594.6074\">a: A</text><line style=\"stroke: #383838; stroke-width: 1.5;\" x1=\"45\" x2=\"85\" y1=\"602.4375\" y2=\"602.4375\"/></a><!--MD5=[b9389687b975829384b498ac4b7476b2]\n",
       "class E8--><a href=\"psysml:4c8e1ce2-7f9a-4661-9090-c510b6f01354\" target=\"_top\" title=\"psysml:4c8e1ce2-7f9a-4661-9090-c510b6f01354\" xlink:actuate=\"onRequest\" xlink:href=\"psysml:4c8e1ce2-7f9a-4661-9090-c510b6f01354\" xlink:show=\"new\" xlink:title=\"psysml:4c8e1ce2-7f9a-4661-9090-c510b6f01354\" xlink:type=\"simple\"><rect fill=\"#FFFFFF\" height=\"45.9375\" id=\"E8\" style=\"stroke: #383838; stroke-width: 1.5;\" width=\"66\" x=\"146\" y=\"41\"/><text fill=\"#000000\" font-family=\"sans-serif\" font-size=\"12\" font-style=\"italic\" lengthAdjust=\"spacingAndGlyphs\" textLength=\"64\" x=\"147\" y=\"57.1387\">«port def»</text><text fill=\"#000000\" font-family=\"sans-serif\" font-size=\"12\" lengthAdjust=\"spacingAndGlyphs\" textLength=\"8\" x=\"175\" y=\"71.1074\">C</text><line style=\"stroke: #383838; stroke-width: 1.5;\" x1=\"147\" x2=\"211\" y1=\"78.9375\" y2=\"78.9375\"/></a><a href=\"psysml:4c76b494-1a6c-482d-b35c-aa72d24bc41e\" target=\"_top\" title=\"psysml:4c76b494-1a6c-482d-b35c-aa72d24bc41e\" xlink:actuate=\"onRequest\" xlink:href=\"psysml:4c76b494-1a6c-482d-b35c-aa72d24bc41e\" xlink:show=\"new\" xlink:title=\"psysml:4c76b494-1a6c-482d-b35c-aa72d24bc41e\" xlink:type=\"simple\"><polygon fill=\"#FFFFFF\" points=\"132,561,148,561,155,583.2969,162,583.2969,162,613.5938,132,613.5938,132,561\" style=\"stroke: #000000; stroke-width: 1.5;\"/><line style=\"stroke: #000000; stroke-width: 1.5;\" x1=\"132\" x2=\"155\" y1=\"583.2969\" y2=\"583.2969\"/><text fill=\"#000000\" font-family=\"sans-serif\" font-size=\"14\" font-weight=\"bold\" lengthAdjust=\"spacingAndGlyphs\" textLength=\"10\" x=\"136\" y=\"575.9951\">P</text></a><!--MD5=[2720a5a1f2c3fca2055b230370638851]\n",
       "link E2 to E3--><a href=\"psysml:38cdc859-4dfa-4bc4-87cd-169dd5acc896\" target=\"_top\" title=\"psysml:38cdc859-4dfa-4bc4-87cd-169dd5acc896\" xlink:actuate=\"onRequest\" xlink:href=\"psysml:38cdc859-4dfa-4bc4-87cd-169dd5acc896\" xlink:show=\"new\" xlink:title=\"psysml:38cdc859-4dfa-4bc4-87cd-169dd5acc896\" xlink:type=\"simple\"><path d=\"M43.23,87.08 C38.46,100.64 34.45,118.34 38,134 C38.82,137.61 39.86,141.26 41.06,144.89 \" fill=\"none\" id=\"E2-&gt;E3\" style=\"stroke: #383838; stroke-width: 1.0;\"/><polygon fill=\"#FFFFFF\" points=\"48.65,163.8,35.0703,148.7803,48.0607,143.5601,48.65,163.8\" style=\"stroke: #383838; stroke-width: 1.0;\"/><ellipse cx=\"34.8007\" cy=\"142.7456\" fill=\"#383838\" rx=\"2\" ry=\"2\" style=\"stroke: #383838; stroke-width: 1.0;\"/><ellipse cx=\"44.0796\" cy=\"139.0169\" fill=\"#383838\" rx=\"2\" ry=\"2\" style=\"stroke: #383838; stroke-width: 1.0;\"/></a><!--MD5=[4672eba38e49728da53d11aeb285b987]\n",
       "reverse link E3 to E4--><a href=\"psysml:5ebdadf2-6044-45bc-aa24-2da7c79aba16\" target=\"_top\" title=\"psysml:5ebdadf2-6044-45bc-aa24-2da7c79aba16\" xlink:actuate=\"onRequest\" xlink:href=\"psysml:5ebdadf2-6044-45bc-aa24-2da7c79aba16\" xlink:show=\"new\" xlink:title=\"psysml:5ebdadf2-6044-45bc-aa24-2da7c79aba16\" xlink:type=\"simple\"><path d=\"M72.88,253.51 C73.88,264.59 75.22,276.22 77,287 C78.64,296.92 81.21,307.72 83.63,316.9 \" fill=\"none\" id=\"E3&lt;-E4\" style=\"stroke: #383838; stroke-width: 1.0;\"/><polygon fill=\"#383838\" points=\"71.81,240.38,68.3042,246.6816,72.7727,252.3413,76.2785,246.0398,71.81,240.38\" style=\"stroke: #383838; stroke-width: 1.0;\"/></a><!--MD5=[1b7591eae5389033d8d09a9d6721a717]\n",
       "link E4 to E5--><a href=\"psysml:1fd8d685-c326-41aa-b421-a8308f20148e\" target=\"_top\" title=\"psysml:1fd8d685-c326-41aa-b421-a8308f20148e\" xlink:actuate=\"onRequest\" xlink:href=\"psysml:1fd8d685-c326-41aa-b421-a8308f20148e\" xlink:show=\"new\" xlink:title=\"psysml:1fd8d685-c326-41aa-b421-a8308f20148e\" xlink:type=\"simple\"><path d=\"M100.45,363.01 C106.1,374.9 113.36,390.18 120.46,405.12 \" fill=\"none\" id=\"E4-&gt;E5\" style=\"stroke: #383838; stroke-width: 1.0;\"/><polygon fill=\"#FFFFFF\" points=\"129.22,423.57,114.7395,409.4167,127.3831,403.405,129.22,423.57\" style=\"stroke: #383838; stroke-width: 1.0;\"/><ellipse cx=\"114.0981\" cy=\"403.4102\" fill=\"#383838\" rx=\"2\" ry=\"2\" style=\"stroke: #383838; stroke-width: 1.0;\"/><ellipse cx=\"123.1292\" cy=\"399.1161\" fill=\"#383838\" rx=\"2\" ry=\"2\" style=\"stroke: #383838; stroke-width: 1.0;\"/></a><!--MD5=[85d356282659285ab4b2cfe2f634dd2b]\n",
       "reverse link E5 to E6--><a href=\"psysml:c471fe89-f766-40f3-82e0-5e28332f3a67\" target=\"_top\" title=\"psysml:c471fe89-f766-40f3-82e0-5e28332f3a67\" xlink:actuate=\"onRequest\" xlink:href=\"psysml:c471fe89-f766-40f3-82e0-5e28332f3a67\" xlink:show=\"new\" xlink:title=\"psysml:c471fe89-f766-40f3-82e0-5e28332f3a67\" xlink:type=\"simple\"><path d=\"M115.19,510.9 C103,529.26 89.67,549.34 79.81,564.19 \" fill=\"none\" id=\"E5&lt;-E6\" style=\"stroke: #383838; stroke-width: 1.0;\"/><polygon fill=\"#383838\" points=\"122.4,500.05,115.7495,502.8377,115.7649,510.0488,122.4154,507.2611,122.4,500.05\" style=\"stroke: #383838; stroke-width: 1.0;\"/></a><!--MD5=[a717450b82c80b9240a525fa862496af]\n",
       "link E6 to E3--><a href=\"psysml:ce24e444-eb42-4eaa-91b0-86c1efe7ffc5\" target=\"_top\" title=\"psysml:ce24e444-eb42-4eaa-91b0-86c1efe7ffc5\" xlink:actuate=\"onRequest\" xlink:href=\"psysml:ce24e444-eb42-4eaa-91b0-86c1efe7ffc5\" xlink:show=\"new\" xlink:title=\"psysml:ce24e444-eb42-4eaa-91b0-86c1efe7ffc5\" xlink:type=\"simple\"><path d=\"M61.85,564.46 C55.72,518.43 43.41,408.75 51,317 C52.55,298.29 55.5,278.02 58.63,259.84 \" fill=\"none\" id=\"E6-&gt;E3\" style=\"stroke: #383838; stroke-width: 1.0;\"/><polygon fill=\"#FFFFFF\" points=\"62.24,240.03,65.7193,259.9773,51.9463,257.4667,62.24,240.03\" style=\"stroke: #383838; stroke-width: 1.0;\"/><ellipse cx=\"62.7296\" cy=\"265.2262\" fill=\"#383838\" rx=\"2\" ry=\"2\" style=\"stroke: #383838; stroke-width: 1.0;\"/><ellipse cx=\"52.8917\" cy=\"263.433\" fill=\"#383838\" rx=\"2\" ry=\"2\" style=\"stroke: #383838; stroke-width: 1.0;\"/></a><!--MD5=[452b418e7f8a40397a49b8c0a78acc5b]\n",
       "reverse link E5 to E7--><a href=\"psysml:cabff1fd-5442-4a71-976e-341ac2e5dda1\" target=\"_top\" title=\"psysml:cabff1fd-5442-4a71-976e-341ac2e5dda1\" xlink:actuate=\"onRequest\" xlink:href=\"psysml:cabff1fd-5442-4a71-976e-341ac2e5dda1\" xlink:show=\"new\" xlink:title=\"psysml:cabff1fd-5442-4a71-976e-341ac2e5dda1\" xlink:type=\"simple\"><path d=\"M147,515.35 C147,531.08 147,547.65 147,560.83 \" fill=\"none\" id=\"E5&lt;-E7\" style=\"stroke: #383838; stroke-width: 1.0;\"/><ellipse cx=\"147\" cy=\"508.05\" fill=\"#FFFFFF\" rx=\"8\" ry=\"8\" style=\"stroke: #383838; stroke-width: 1.0;\"/><line style=\"stroke: #383838; stroke-width: 1.0;\" x1=\"147\" x2=\"147\" y1=\"516.05\" y2=\"500.05\"/><line style=\"stroke: #383838; stroke-width: 1.0;\" x1=\"139\" x2=\"155\" y1=\"508.05\" y2=\"508.05\"/></a><!--MD5=[03c8294790d3c57651a1993cecff665f]\n",
       "reverse link E8 to E3--><a href=\"psysml:a19db77c-da80-41d6-a5f2-85a22676bfcf\" target=\"_top\" title=\"psysml:a19db77c-da80-41d6-a5f2-85a22676bfcf\" xlink:actuate=\"onRequest\" xlink:href=\"psysml:a19db77c-da80-41d6-a5f2-85a22676bfcf\" xlink:show=\"new\" xlink:title=\"psysml:a19db77c-da80-41d6-a5f2-85a22676bfcf\" xlink:type=\"simple\"><path d=\"M133.33,76.35 C111.95,84.13 88.32,96.81 75,117 C66.07,130.53 63.94,148.12 64.4,163.71 \" fill=\"none\" id=\"E8&lt;-E3\" style=\"stroke: #383838; stroke-width: 1.0;\"/><polygon fill=\"#FFFFFF\" points=\"145.89,72.22,138.939,70.3009,134.494,75.9791,141.445,77.8982,145.89,72.22\" style=\"stroke: #383838; stroke-width: 1.0;\"/><text fill=\"#000000\" font-family=\"sans-serif\" font-size=\"13\" lengthAdjust=\"spacingAndGlyphs\" textLength=\"7\" x=\"76\" y=\"130.0669\">y</text></a><!--MD5=[03c8294790d3c57651a1993cecff665f]\n",
       "reverse link E8 to E3--><a href=\"psysml:a19db77c-da80-41d6-a5f2-85a22676bfcf\" target=\"_top\" title=\"psysml:a19db77c-da80-41d6-a5f2-85a22676bfcf\" xlink:actuate=\"onRequest\" xlink:href=\"psysml:a19db77c-da80-41d6-a5f2-85a22676bfcf\" xlink:show=\"new\" xlink:title=\"psysml:a19db77c-da80-41d6-a5f2-85a22676bfcf\" xlink:type=\"simple\"><path d=\"M143.35,96.28 C136.62,102.85 129.86,109.93 124,117 C112.05,131.41 100.57,148.61 91.29,163.69 \" fill=\"none\" id=\"E8&lt;-E3-1\" style=\"stroke: #383838; stroke-width: 1.0;\"/><polygon fill=\"#FFFFFF\" points=\"153.08,87.1,145.9702,88.3047,144.3478,95.331,151.4576,94.1262,153.08,87.1\" style=\"stroke: #383838; stroke-width: 1.0;\"/><text fill=\"#000000\" font-family=\"sans-serif\" font-size=\"13\" lengthAdjust=\"spacingAndGlyphs\" textLength=\"7\" x=\"125\" y=\"130.0669\">y</text></a><!--MD5=[03c8294790d3c57651a1993cecff665f]\n",
       "reverse link E8 to E3--><a href=\"psysml:a19db77c-da80-41d6-a5f2-85a22676bfcf\" target=\"_top\" title=\"psysml:a19db77c-da80-41d6-a5f2-85a22676bfcf\" xlink:actuate=\"onRequest\" xlink:href=\"psysml:a19db77c-da80-41d6-a5f2-85a22676bfcf\" xlink:show=\"new\" xlink:title=\"psysml:a19db77c-da80-41d6-a5f2-85a22676bfcf\" xlink:type=\"simple\"><path d=\"M158.49,98.17 C150.89,109.8 141.93,122.76 133,134 C123.86,145.5 113.16,157.39 103.19,167.9 \" fill=\"none\" id=\"E8&lt;-E3-2\" style=\"stroke: #383838; stroke-width: 1.0;\"/><polygon fill=\"#FFFFFF\" points=\"165.6,87.1,158.9946,89.9928,159.1242,97.2027,165.7297,94.3099,165.6,87.1\" style=\"stroke: #383838; stroke-width: 1.0;\"/><text fill=\"#000000\" font-family=\"sans-serif\" font-size=\"13\" lengthAdjust=\"spacingAndGlyphs\" textLength=\"7\" x=\"146\" y=\"130.0669\">y</text></a><!--MD5=[049ab558815ccadc2a7a6ffdb8f4a5ba]\n",
       "reverse link E8 to E5--><a href=\"psysml:a19db77c-da80-41d6-a5f2-85a22676bfcf\" target=\"_top\" title=\"psysml:a19db77c-da80-41d6-a5f2-85a22676bfcf\" xlink:actuate=\"onRequest\" xlink:href=\"psysml:a19db77c-da80-41d6-a5f2-85a22676bfcf\" xlink:show=\"new\" xlink:title=\"psysml:a19db77c-da80-41d6-a5f2-85a22676bfcf\" xlink:type=\"simple\"><path d=\"M197.26,99.16 C199.64,104.97 201.69,111.05 203,117 C204.62,124.38 203.15,126.45 203,134 C200.78,249.62 229.38,284.23 193,394 C189.58,404.31 184.06,414.48 178.01,423.66 \" fill=\"none\" id=\"E8&lt;-E5\" style=\"stroke: #383838; stroke-width: 1.0;\"/><polygon fill=\"#FFFFFF\" points=\"191.73,87.03,190.583,94.1493,196.7135,97.9463,197.8605,90.827,191.73,87.03\" style=\"stroke: #383838; stroke-width: 1.0;\"/><text fill=\"#000000\" font-family=\"sans-serif\" font-size=\"13\" lengthAdjust=\"spacingAndGlyphs\" textLength=\"7\" x=\"212\" y=\"283.0669\">y</text></a><!--MD5=[049ab558815ccadc2a7a6ffdb8f4a5ba]\n",
       "reverse link E8 to E5--><a href=\"psysml:a19db77c-da80-41d6-a5f2-85a22676bfcf\" target=\"_top\" title=\"psysml:a19db77c-da80-41d6-a5f2-85a22676bfcf\" xlink:actuate=\"onRequest\" xlink:href=\"psysml:a19db77c-da80-41d6-a5f2-85a22676bfcf\" xlink:show=\"new\" xlink:title=\"psysml:a19db77c-da80-41d6-a5f2-85a22676bfcf\" xlink:type=\"simple\"><path d=\"M171.02,99.85 C168.34,110.83 165.22,122.97 162,134 C144.13,195.25 126.36,207.04 116,270 C114.77,277.46 114.57,279.58 116,287 C118.72,301.1 124.37,303.11 128,317 C137.32,352.62 142.19,394.45 144.65,423.82 \" fill=\"none\" id=\"E8&lt;-E5-1\" style=\"stroke: #383838; stroke-width: 1.0;\"/><polygon fill=\"#FFFFFF\" points=\"174.04,87.19,168.7576,92.0987,171.257,98.8628,176.5394,93.9541,174.04,87.19\" style=\"stroke: #383838; stroke-width: 1.0;\"/><text fill=\"#000000\" font-family=\"sans-serif\" font-size=\"13\" lengthAdjust=\"spacingAndGlyphs\" textLength=\"7\" x=\"117\" y=\"283.0669\">y</text></a><!--MD5=[049ab558815ccadc2a7a6ffdb8f4a5ba]\n",
       "reverse link E8 to E5--><a href=\"psysml:a19db77c-da80-41d6-a5f2-85a22676bfcf\" target=\"_top\" title=\"psysml:a19db77c-da80-41d6-a5f2-85a22676bfcf\" xlink:actuate=\"onRequest\" xlink:href=\"psysml:a19db77c-da80-41d6-a5f2-85a22676bfcf\" xlink:show=\"new\" xlink:title=\"psysml:a19db77c-da80-41d6-a5f2-85a22676bfcf\" xlink:type=\"simple\"><path d=\"M176.15,100.27 C170.13,174.82 156.15,347.78 150,423.9 \" fill=\"none\" id=\"E8&lt;-E5-2\" style=\"stroke: #383838; stroke-width: 1.0;\"/><polygon fill=\"#FFFFFF\" points=\"177.21,87.14,172.7415,92.7998,176.2473,99.1013,180.7158,93.4416,177.21,87.14\" style=\"stroke: #383838; stroke-width: 1.0;\"/><text fill=\"#000000\" font-family=\"sans-serif\" font-size=\"13\" lengthAdjust=\"spacingAndGlyphs\" textLength=\"7\" x=\"163\" y=\"283.0669\">y</text></a><!--MD5=[9f79c841e36fb93b3eafe60f9bb01c6a]\n",
       "@startuml\r\n",
       " skinparam monochrome true\r\n",
       "skinparam classbackgroundcolor white\r\n",
       "skinparam shadowing false\r\n",
       "skinparam wrapWidth 300\r\n",
       "hide circle\r\n",
       "\r\n",
       "package \"PartTest\" as E1  [[psysml:c65cc0cd-28b1-4d7a-bc05-02136890ed9a ]]  {\r\n",
       "comp usage \"f: A\" as E2  <<(T,blue)part>> [[psysml:634826b2-2fc2-4798-92ed-071cd1dffdd8 ]] {\r\n",
       "}\r\n",
       "comp def \"A\" as E3  <<(T,blue)part def>> [[psysml:36aba5eb-a810-4976-a211-fcdfb7b330f5 ]] {\r\n",
       "- - ports - -\r\n",
       "c: C\r\n",
       "}\r\n",
       "comp usage \"b: B\" as E4  <<(T,blue)part>> [[psysml:b5150c44-d935-4f31-a69b-527c90fd7c47 ]] {\r\n",
       "}\r\n",
       "comp def \"B\" as E5  <<(T,blue)part def>> [[psysml:94fb1c4b-8096-4b0e-a0c8-00d5fe55de6c ]] {\r\n",
       "- - ports - -\r\n",
       "x: ~C\r\n",
       "}\r\n",
       "comp usage \"a: A\" as E6  <<(T,blue)part>> [[psysml:de084c60-8c86-4761-a316-7296396fb321 ]] {\r\n",
       "}\r\n",
       "package \"P\" as E7  [[psysml:4c76b494-1a6c-482d-b35c-aa72d24bc41e ]]  {\r\n",
       "}\r\n",
       "comp def \"C\" as E8  <<(T,blue)port def>> [[psysml:4c8e1ce2-7f9a-4661-9090-c510b6f01354 ]] {\r\n",
       "}\r\n",
       "E2 - -:|> E3 [[psysml:38cdc859-4dfa-4bc4-87cd-169dd5acc896 ]] \r\n",
       "E3 *- - E4 [[psysml:5ebdadf2-6044-45bc-aa24-2da7c79aba16 ]] \r\n",
       "E4 - -:|> E5 [[psysml:1fd8d685-c326-41aa-b421-a8308f20148e ]] \r\n",
       "E5 *- - E6 [[psysml:c471fe89-f766-40f3-82e0-5e28332f3a67 ]] \r\n",
       "E6 - -:|> E3 [[psysml:ce24e444-eb42-4eaa-91b0-86c1efe7ffc5 ]] \r\n",
       "E5 +- - E7 [[psysml:cabff1fd-5442-4a71-976e-341ac2e5dda1 ]] \r\n",
       "E8 o- - E3 [[psysml:a19db77c-da80-41d6-a5f2-85a22676bfcf ]] : y\r\n",
       "E8 o- - E5 [[psysml:a19db77c-da80-41d6-a5f2-85a22676bfcf ]] : y\r\n",
       "E8 o- - E3 [[psysml:a19db77c-da80-41d6-a5f2-85a22676bfcf ]] : y\r\n",
       "E8 o- - E5 [[psysml:a19db77c-da80-41d6-a5f2-85a22676bfcf ]] : y\r\n",
       "E8 o- - E3 [[psysml:a19db77c-da80-41d6-a5f2-85a22676bfcf ]] : y\r\n",
       "E8 o- - E5 [[psysml:a19db77c-da80-41d6-a5f2-85a22676bfcf ]] : y\r\n",
       "}\r\n",
       "@enduml\r\n",
       "\n",
       "PlantUML version 1.2020.13(Sat Jun 13 12:26:38 UTC 2020)\n",
       "(EPL source distribution)\n",
       "Java Runtime: OpenJDK Runtime Environment\n",
       "JVM: OpenJDK 64-Bit Server VM\n",
       "Default Encoding: UTF-8\n",
       "Language: en\n",
       "Country: null\n",
       "--></g></svg>"
      ]
     },
     "execution_count": 2,
     "metadata": {},
     "output_type": "execute_result"
    }
   ],
   "source": [
    "%viz --style=\"COMPTREE\" --view=\"Default\" \"PartTest\""
   ]
  },
  {
   "cell_type": "code",
   "execution_count": 3,
   "id": "4d7918e0",
   "metadata": {
    "execution": {
     "iopub.execute_input": "2021-04-20T07:29:09.829728Z",
     "iopub.status.busy": "2021-04-20T07:29:09.828210Z",
     "iopub.status.idle": "2021-04-20T07:29:10.016740Z",
     "shell.execute_reply": "2021-04-20T07:29:10.015541Z"
    }
   },
   "outputs": [
    {
     "data": {
      "image/svg+xml": [
       "<?xml version=\"1.0\" encoding=\"UTF-8\" standalone=\"no\"?><svg xmlns=\"http://www.w3.org/2000/svg\" xmlns:xlink=\"http://www.w3.org/1999/xlink\" contentScriptType=\"application/ecmascript\" contentStyleType=\"text/css\" height=\"642px\" preserveAspectRatio=\"none\" style=\"width:260px;height:642px;\" version=\"1.1\" viewBox=\"0 0 260 642\" width=\"260px\" zoomAndPan=\"magnify\"><defs/><g><!--MD5=[fbc87193dbaf4d95561dea2c320d4a47]\n",
       "cluster E1--><a href=\"psysml:c65cc0cd-28b1-4d7a-bc05-02136890ed9a\" target=\"_top\" title=\"psysml:c65cc0cd-28b1-4d7a-bc05-02136890ed9a\" xlink:actuate=\"onRequest\" xlink:href=\"psysml:c65cc0cd-28b1-4d7a-bc05-02136890ed9a\" xlink:show=\"new\" xlink:title=\"psysml:c65cc0cd-28b1-4d7a-bc05-02136890ed9a\" xlink:type=\"simple\"><polygon fill=\"#FFFFFF\" points=\"16,6,89,6,96,28.2969,238,28.2969,238,630,16,630,16,6\" style=\"stroke: #000000; stroke-width: 1.5;\"/><line style=\"stroke: #000000; stroke-width: 1.5;\" x1=\"16\" x2=\"96\" y1=\"28.2969\" y2=\"28.2969\"/><text fill=\"#000000\" font-family=\"sans-serif\" font-size=\"14\" font-weight=\"bold\" lengthAdjust=\"spacingAndGlyphs\" textLength=\"67\" x=\"20\" y=\"20.9951\">PartTest</text></a><!--MD5=[b4997ac47864f28c2f74865a473b2911]\n",
       "class E2--><a href=\"psysml:634826b2-2fc2-4798-92ed-071cd1dffdd8\" target=\"_top\" title=\"psysml:634826b2-2fc2-4798-92ed-071cd1dffdd8\" xlink:actuate=\"onRequest\" xlink:href=\"psysml:634826b2-2fc2-4798-92ed-071cd1dffdd8\" xlink:show=\"new\" xlink:title=\"psysml:634826b2-2fc2-4798-92ed-071cd1dffdd8\" xlink:type=\"simple\"><rect fill=\"#FFFFFF\" height=\"45.9375\" id=\"E2\" rx=\"10\" ry=\"10\" style=\"stroke: #383838; stroke-width: 1.5;\" width=\"42\" x=\"32\" y=\"41\"/><text fill=\"#000000\" font-family=\"sans-serif\" font-size=\"12\" font-style=\"italic\" lengthAdjust=\"spacingAndGlyphs\" textLength=\"40\" x=\"33\" y=\"57.1387\">«part»</text><text fill=\"#000000\" font-family=\"sans-serif\" font-size=\"12\" lengthAdjust=\"spacingAndGlyphs\" textLength=\"20\" x=\"43\" y=\"71.1074\">f: A</text><line style=\"stroke: #383838; stroke-width: 1.5;\" x1=\"33\" x2=\"73\" y1=\"78.9375\" y2=\"78.9375\"/></a><!--MD5=[09b614a08d8cba4a07c9adeb5e0fee81]\n",
       "class E3--><a href=\"psysml:36aba5eb-a810-4976-a211-fcdfb7b330f5\" target=\"_top\" title=\"psysml:36aba5eb-a810-4976-a211-fcdfb7b330f5\" xlink:actuate=\"onRequest\" xlink:href=\"psysml:36aba5eb-a810-4976-a211-fcdfb7b330f5\" xlink:show=\"new\" xlink:title=\"psysml:36aba5eb-a810-4976-a211-fcdfb7b330f5\" xlink:type=\"simple\"><rect fill=\"#FFFFFF\" height=\"75.5469\" id=\"E3\" style=\"stroke: #383838; stroke-width: 1.5;\" width=\"66\" x=\"37\" y=\"164\"/><text fill=\"#000000\" font-family=\"sans-serif\" font-size=\"12\" font-style=\"italic\" lengthAdjust=\"spacingAndGlyphs\" textLength=\"64\" x=\"38\" y=\"180.1387\">«part def»</text><text fill=\"#000000\" font-family=\"sans-serif\" font-size=\"12\" lengthAdjust=\"spacingAndGlyphs\" textLength=\"8\" x=\"66\" y=\"194.1074\">A</text><line style=\"stroke: #383838; stroke-width: 1.5;\" x1=\"38\" x2=\"102\" y1=\"201.9375\" y2=\"201.9375\"/><text fill=\"#000000\" font-family=\"sans-serif\" font-size=\"11\" lengthAdjust=\"spacingAndGlyphs\" textLength=\"22\" x=\"43\" y=\"232.9526\">c: C</text><line style=\"stroke: #383838; stroke-width: 1.0;\" x1=\"38\" x2=\"55\" y1=\"216.3398\" y2=\"216.3398\"/><text fill=\"#000000\" font-family=\"sans-serif\" font-size=\"11\" lengthAdjust=\"spacingAndGlyphs\" textLength=\"30\" x=\"55\" y=\"219.6479\">ports</text><line style=\"stroke: #383838; stroke-width: 1.0;\" x1=\"85\" x2=\"102\" y1=\"216.3398\" y2=\"216.3398\"/></a><!--MD5=[ebbe1d658d1005bcc118a6aa81145e00]\n",
       "class E4--><a href=\"psysml:b5150c44-d935-4f31-a69b-527c90fd7c47\" target=\"_top\" title=\"psysml:b5150c44-d935-4f31-a69b-527c90fd7c47\" xlink:actuate=\"onRequest\" xlink:href=\"psysml:b5150c44-d935-4f31-a69b-527c90fd7c47\" xlink:show=\"new\" xlink:title=\"psysml:b5150c44-d935-4f31-a69b-527c90fd7c47\" xlink:type=\"simple\"><rect fill=\"#FFFFFF\" height=\"45.9375\" id=\"E4\" rx=\"10\" ry=\"10\" style=\"stroke: #383838; stroke-width: 1.5;\" width=\"42\" x=\"69\" y=\"317\"/><text fill=\"#000000\" font-family=\"sans-serif\" font-size=\"12\" font-style=\"italic\" lengthAdjust=\"spacingAndGlyphs\" textLength=\"40\" x=\"70\" y=\"333.1387\">«part»</text><text fill=\"#000000\" font-family=\"sans-serif\" font-size=\"12\" lengthAdjust=\"spacingAndGlyphs\" textLength=\"24\" x=\"78\" y=\"347.1074\">b: B</text><line style=\"stroke: #383838; stroke-width: 1.5;\" x1=\"70\" x2=\"110\" y1=\"354.9375\" y2=\"354.9375\"/></a><!--MD5=[270fce915f116d4de14055a7c1d9a0f3]\n",
       "class E5--><a href=\"psysml:94fb1c4b-8096-4b0e-a0c8-00d5fe55de6c\" target=\"_top\" title=\"psysml:94fb1c4b-8096-4b0e-a0c8-00d5fe55de6c\" xlink:actuate=\"onRequest\" xlink:href=\"psysml:94fb1c4b-8096-4b0e-a0c8-00d5fe55de6c\" xlink:show=\"new\" xlink:title=\"psysml:94fb1c4b-8096-4b0e-a0c8-00d5fe55de6c\" xlink:type=\"simple\"><rect fill=\"#FFFFFF\" height=\"75.5469\" id=\"E5\" style=\"stroke: #383838; stroke-width: 1.5;\" width=\"66\" x=\"114\" y=\"424\"/><text fill=\"#000000\" font-family=\"sans-serif\" font-size=\"12\" font-style=\"italic\" lengthAdjust=\"spacingAndGlyphs\" textLength=\"64\" x=\"115\" y=\"440.1387\">«part def»</text><text fill=\"#000000\" font-family=\"sans-serif\" font-size=\"12\" lengthAdjust=\"spacingAndGlyphs\" textLength=\"8\" x=\"143\" y=\"454.1074\">B</text><line style=\"stroke: #383838; stroke-width: 1.5;\" x1=\"115\" x2=\"179\" y1=\"461.9375\" y2=\"461.9375\"/><text fill=\"#000000\" font-family=\"sans-serif\" font-size=\"11\" lengthAdjust=\"spacingAndGlyphs\" textLength=\"31\" x=\"120\" y=\"492.9526\">x: ~C</text><line style=\"stroke: #383838; stroke-width: 1.0;\" x1=\"115\" x2=\"132\" y1=\"476.3398\" y2=\"476.3398\"/><text fill=\"#000000\" font-family=\"sans-serif\" font-size=\"11\" lengthAdjust=\"spacingAndGlyphs\" textLength=\"30\" x=\"132\" y=\"479.6479\">ports</text><line style=\"stroke: #383838; stroke-width: 1.0;\" x1=\"162\" x2=\"179\" y1=\"476.3398\" y2=\"476.3398\"/></a><!--MD5=[60a26617385b1d2d0262a64233df1f8d]\n",
       "class E6--><a href=\"psysml:de084c60-8c86-4761-a316-7296396fb321\" target=\"_top\" title=\"psysml:de084c60-8c86-4761-a316-7296396fb321\" xlink:actuate=\"onRequest\" xlink:href=\"psysml:de084c60-8c86-4761-a316-7296396fb321\" xlink:show=\"new\" xlink:title=\"psysml:de084c60-8c86-4761-a316-7296396fb321\" xlink:type=\"simple\"><rect fill=\"#FFFFFF\" height=\"45.9375\" id=\"E6\" rx=\"10\" ry=\"10\" style=\"stroke: #383838; stroke-width: 1.5;\" width=\"42\" x=\"44\" y=\"564.5\"/><text fill=\"#000000\" font-family=\"sans-serif\" font-size=\"12\" font-style=\"italic\" lengthAdjust=\"spacingAndGlyphs\" textLength=\"40\" x=\"45\" y=\"580.6387\">«part»</text><text fill=\"#000000\" font-family=\"sans-serif\" font-size=\"12\" lengthAdjust=\"spacingAndGlyphs\" textLength=\"24\" x=\"53\" y=\"594.6074\">a: A</text><line style=\"stroke: #383838; stroke-width: 1.5;\" x1=\"45\" x2=\"85\" y1=\"602.4375\" y2=\"602.4375\"/></a><!--MD5=[b9389687b975829384b498ac4b7476b2]\n",
       "class E8--><a href=\"psysml:4c8e1ce2-7f9a-4661-9090-c510b6f01354\" target=\"_top\" title=\"psysml:4c8e1ce2-7f9a-4661-9090-c510b6f01354\" xlink:actuate=\"onRequest\" xlink:href=\"psysml:4c8e1ce2-7f9a-4661-9090-c510b6f01354\" xlink:show=\"new\" xlink:title=\"psysml:4c8e1ce2-7f9a-4661-9090-c510b6f01354\" xlink:type=\"simple\"><rect fill=\"#FFFFFF\" height=\"45.9375\" id=\"E8\" style=\"stroke: #383838; stroke-width: 1.5;\" width=\"66\" x=\"146\" y=\"41\"/><text fill=\"#000000\" font-family=\"sans-serif\" font-size=\"12\" font-style=\"italic\" lengthAdjust=\"spacingAndGlyphs\" textLength=\"64\" x=\"147\" y=\"57.1387\">«port def»</text><text fill=\"#000000\" font-family=\"sans-serif\" font-size=\"12\" lengthAdjust=\"spacingAndGlyphs\" textLength=\"8\" x=\"175\" y=\"71.1074\">C</text><line style=\"stroke: #383838; stroke-width: 1.5;\" x1=\"147\" x2=\"211\" y1=\"78.9375\" y2=\"78.9375\"/></a><a href=\"psysml:4c76b494-1a6c-482d-b35c-aa72d24bc41e\" target=\"_top\" title=\"psysml:4c76b494-1a6c-482d-b35c-aa72d24bc41e\" xlink:actuate=\"onRequest\" xlink:href=\"psysml:4c76b494-1a6c-482d-b35c-aa72d24bc41e\" xlink:show=\"new\" xlink:title=\"psysml:4c76b494-1a6c-482d-b35c-aa72d24bc41e\" xlink:type=\"simple\"><polygon fill=\"#FFFFFF\" points=\"132,561,148,561,155,583.2969,162,583.2969,162,613.5938,132,613.5938,132,561\" style=\"stroke: #000000; stroke-width: 1.5;\"/><line style=\"stroke: #000000; stroke-width: 1.5;\" x1=\"132\" x2=\"155\" y1=\"583.2969\" y2=\"583.2969\"/><text fill=\"#000000\" font-family=\"sans-serif\" font-size=\"14\" font-weight=\"bold\" lengthAdjust=\"spacingAndGlyphs\" textLength=\"10\" x=\"136\" y=\"575.9951\">P</text></a><!--MD5=[2720a5a1f2c3fca2055b230370638851]\n",
       "link E2 to E3--><a href=\"psysml:38cdc859-4dfa-4bc4-87cd-169dd5acc896\" target=\"_top\" title=\"psysml:38cdc859-4dfa-4bc4-87cd-169dd5acc896\" xlink:actuate=\"onRequest\" xlink:href=\"psysml:38cdc859-4dfa-4bc4-87cd-169dd5acc896\" xlink:show=\"new\" xlink:title=\"psysml:38cdc859-4dfa-4bc4-87cd-169dd5acc896\" xlink:type=\"simple\"><path d=\"M43.23,87.08 C38.46,100.64 34.45,118.34 38,134 C38.82,137.61 39.86,141.26 41.06,144.89 \" fill=\"none\" id=\"E2-&gt;E3\" style=\"stroke: #383838; stroke-width: 1.0;\"/><polygon fill=\"#FFFFFF\" points=\"48.65,163.8,35.0703,148.7803,48.0607,143.5601,48.65,163.8\" style=\"stroke: #383838; stroke-width: 1.0;\"/><ellipse cx=\"34.8007\" cy=\"142.7456\" fill=\"#383838\" rx=\"2\" ry=\"2\" style=\"stroke: #383838; stroke-width: 1.0;\"/><ellipse cx=\"44.0796\" cy=\"139.0169\" fill=\"#383838\" rx=\"2\" ry=\"2\" style=\"stroke: #383838; stroke-width: 1.0;\"/></a><!--MD5=[4672eba38e49728da53d11aeb285b987]\n",
       "reverse link E3 to E4--><a href=\"psysml:5ebdadf2-6044-45bc-aa24-2da7c79aba16\" target=\"_top\" title=\"psysml:5ebdadf2-6044-45bc-aa24-2da7c79aba16\" xlink:actuate=\"onRequest\" xlink:href=\"psysml:5ebdadf2-6044-45bc-aa24-2da7c79aba16\" xlink:show=\"new\" xlink:title=\"psysml:5ebdadf2-6044-45bc-aa24-2da7c79aba16\" xlink:type=\"simple\"><path d=\"M72.88,253.51 C73.88,264.59 75.22,276.22 77,287 C78.64,296.92 81.21,307.72 83.63,316.9 \" fill=\"none\" id=\"E3&lt;-E4\" style=\"stroke: #383838; stroke-width: 1.0;\"/><polygon fill=\"#383838\" points=\"71.81,240.38,68.3042,246.6816,72.7727,252.3413,76.2785,246.0398,71.81,240.38\" style=\"stroke: #383838; stroke-width: 1.0;\"/></a><!--MD5=[1b7591eae5389033d8d09a9d6721a717]\n",
       "link E4 to E5--><a href=\"psysml:1fd8d685-c326-41aa-b421-a8308f20148e\" target=\"_top\" title=\"psysml:1fd8d685-c326-41aa-b421-a8308f20148e\" xlink:actuate=\"onRequest\" xlink:href=\"psysml:1fd8d685-c326-41aa-b421-a8308f20148e\" xlink:show=\"new\" xlink:title=\"psysml:1fd8d685-c326-41aa-b421-a8308f20148e\" xlink:type=\"simple\"><path d=\"M100.45,363.01 C106.1,374.9 113.36,390.18 120.46,405.12 \" fill=\"none\" id=\"E4-&gt;E5\" style=\"stroke: #383838; stroke-width: 1.0;\"/><polygon fill=\"#FFFFFF\" points=\"129.22,423.57,114.7395,409.4167,127.3831,403.405,129.22,423.57\" style=\"stroke: #383838; stroke-width: 1.0;\"/><ellipse cx=\"114.0981\" cy=\"403.4102\" fill=\"#383838\" rx=\"2\" ry=\"2\" style=\"stroke: #383838; stroke-width: 1.0;\"/><ellipse cx=\"123.1292\" cy=\"399.1161\" fill=\"#383838\" rx=\"2\" ry=\"2\" style=\"stroke: #383838; stroke-width: 1.0;\"/></a><!--MD5=[85d356282659285ab4b2cfe2f634dd2b]\n",
       "reverse link E5 to E6--><a href=\"psysml:c471fe89-f766-40f3-82e0-5e28332f3a67\" target=\"_top\" title=\"psysml:c471fe89-f766-40f3-82e0-5e28332f3a67\" xlink:actuate=\"onRequest\" xlink:href=\"psysml:c471fe89-f766-40f3-82e0-5e28332f3a67\" xlink:show=\"new\" xlink:title=\"psysml:c471fe89-f766-40f3-82e0-5e28332f3a67\" xlink:type=\"simple\"><path d=\"M115.19,510.9 C103,529.26 89.67,549.34 79.81,564.19 \" fill=\"none\" id=\"E5&lt;-E6\" style=\"stroke: #383838; stroke-width: 1.0;\"/><polygon fill=\"#383838\" points=\"122.4,500.05,115.7495,502.8377,115.7649,510.0488,122.4154,507.2611,122.4,500.05\" style=\"stroke: #383838; stroke-width: 1.0;\"/></a><!--MD5=[a717450b82c80b9240a525fa862496af]\n",
       "link E6 to E3--><a href=\"psysml:ce24e444-eb42-4eaa-91b0-86c1efe7ffc5\" target=\"_top\" title=\"psysml:ce24e444-eb42-4eaa-91b0-86c1efe7ffc5\" xlink:actuate=\"onRequest\" xlink:href=\"psysml:ce24e444-eb42-4eaa-91b0-86c1efe7ffc5\" xlink:show=\"new\" xlink:title=\"psysml:ce24e444-eb42-4eaa-91b0-86c1efe7ffc5\" xlink:type=\"simple\"><path d=\"M61.85,564.46 C55.72,518.43 43.41,408.75 51,317 C52.55,298.29 55.5,278.02 58.63,259.84 \" fill=\"none\" id=\"E6-&gt;E3\" style=\"stroke: #383838; stroke-width: 1.0;\"/><polygon fill=\"#FFFFFF\" points=\"62.24,240.03,65.7193,259.9773,51.9463,257.4667,62.24,240.03\" style=\"stroke: #383838; stroke-width: 1.0;\"/><ellipse cx=\"62.7296\" cy=\"265.2262\" fill=\"#383838\" rx=\"2\" ry=\"2\" style=\"stroke: #383838; stroke-width: 1.0;\"/><ellipse cx=\"52.8917\" cy=\"263.433\" fill=\"#383838\" rx=\"2\" ry=\"2\" style=\"stroke: #383838; stroke-width: 1.0;\"/></a><!--MD5=[452b418e7f8a40397a49b8c0a78acc5b]\n",
       "reverse link E5 to E7--><a href=\"psysml:cabff1fd-5442-4a71-976e-341ac2e5dda1\" target=\"_top\" title=\"psysml:cabff1fd-5442-4a71-976e-341ac2e5dda1\" xlink:actuate=\"onRequest\" xlink:href=\"psysml:cabff1fd-5442-4a71-976e-341ac2e5dda1\" xlink:show=\"new\" xlink:title=\"psysml:cabff1fd-5442-4a71-976e-341ac2e5dda1\" xlink:type=\"simple\"><path d=\"M147,515.35 C147,531.08 147,547.65 147,560.83 \" fill=\"none\" id=\"E5&lt;-E7\" style=\"stroke: #383838; stroke-width: 1.0;\"/><ellipse cx=\"147\" cy=\"508.05\" fill=\"#FFFFFF\" rx=\"8\" ry=\"8\" style=\"stroke: #383838; stroke-width: 1.0;\"/><line style=\"stroke: #383838; stroke-width: 1.0;\" x1=\"147\" x2=\"147\" y1=\"516.05\" y2=\"500.05\"/><line style=\"stroke: #383838; stroke-width: 1.0;\" x1=\"139\" x2=\"155\" y1=\"508.05\" y2=\"508.05\"/></a><!--MD5=[03c8294790d3c57651a1993cecff665f]\n",
       "reverse link E8 to E3--><a href=\"psysml:a19db77c-da80-41d6-a5f2-85a22676bfcf\" target=\"_top\" title=\"psysml:a19db77c-da80-41d6-a5f2-85a22676bfcf\" xlink:actuate=\"onRequest\" xlink:href=\"psysml:a19db77c-da80-41d6-a5f2-85a22676bfcf\" xlink:show=\"new\" xlink:title=\"psysml:a19db77c-da80-41d6-a5f2-85a22676bfcf\" xlink:type=\"simple\"><path d=\"M133.33,76.35 C111.95,84.13 88.32,96.81 75,117 C66.07,130.53 63.94,148.12 64.4,163.71 \" fill=\"none\" id=\"E8&lt;-E3\" style=\"stroke: #383838; stroke-width: 1.0;\"/><polygon fill=\"#FFFFFF\" points=\"145.89,72.22,138.939,70.3009,134.494,75.9791,141.445,77.8982,145.89,72.22\" style=\"stroke: #383838; stroke-width: 1.0;\"/><text fill=\"#000000\" font-family=\"sans-serif\" font-size=\"13\" lengthAdjust=\"spacingAndGlyphs\" textLength=\"7\" x=\"76\" y=\"130.0669\">y</text></a><!--MD5=[03c8294790d3c57651a1993cecff665f]\n",
       "reverse link E8 to E3--><a href=\"psysml:a19db77c-da80-41d6-a5f2-85a22676bfcf\" target=\"_top\" title=\"psysml:a19db77c-da80-41d6-a5f2-85a22676bfcf\" xlink:actuate=\"onRequest\" xlink:href=\"psysml:a19db77c-da80-41d6-a5f2-85a22676bfcf\" xlink:show=\"new\" xlink:title=\"psysml:a19db77c-da80-41d6-a5f2-85a22676bfcf\" xlink:type=\"simple\"><path d=\"M143.35,96.28 C136.62,102.85 129.86,109.93 124,117 C112.05,131.41 100.57,148.61 91.29,163.69 \" fill=\"none\" id=\"E8&lt;-E3-1\" style=\"stroke: #383838; stroke-width: 1.0;\"/><polygon fill=\"#FFFFFF\" points=\"153.08,87.1,145.9702,88.3047,144.3478,95.331,151.4576,94.1262,153.08,87.1\" style=\"stroke: #383838; stroke-width: 1.0;\"/><text fill=\"#000000\" font-family=\"sans-serif\" font-size=\"13\" lengthAdjust=\"spacingAndGlyphs\" textLength=\"7\" x=\"125\" y=\"130.0669\">y</text></a><!--MD5=[03c8294790d3c57651a1993cecff665f]\n",
       "reverse link E8 to E3--><a href=\"psysml:a19db77c-da80-41d6-a5f2-85a22676bfcf\" target=\"_top\" title=\"psysml:a19db77c-da80-41d6-a5f2-85a22676bfcf\" xlink:actuate=\"onRequest\" xlink:href=\"psysml:a19db77c-da80-41d6-a5f2-85a22676bfcf\" xlink:show=\"new\" xlink:title=\"psysml:a19db77c-da80-41d6-a5f2-85a22676bfcf\" xlink:type=\"simple\"><path d=\"M158.49,98.17 C150.89,109.8 141.93,122.76 133,134 C123.86,145.5 113.16,157.39 103.19,167.9 \" fill=\"none\" id=\"E8&lt;-E3-2\" style=\"stroke: #383838; stroke-width: 1.0;\"/><polygon fill=\"#FFFFFF\" points=\"165.6,87.1,158.9946,89.9928,159.1242,97.2027,165.7297,94.3099,165.6,87.1\" style=\"stroke: #383838; stroke-width: 1.0;\"/><text fill=\"#000000\" font-family=\"sans-serif\" font-size=\"13\" lengthAdjust=\"spacingAndGlyphs\" textLength=\"7\" x=\"146\" y=\"130.0669\">y</text></a><!--MD5=[049ab558815ccadc2a7a6ffdb8f4a5ba]\n",
       "reverse link E8 to E5--><a href=\"psysml:a19db77c-da80-41d6-a5f2-85a22676bfcf\" target=\"_top\" title=\"psysml:a19db77c-da80-41d6-a5f2-85a22676bfcf\" xlink:actuate=\"onRequest\" xlink:href=\"psysml:a19db77c-da80-41d6-a5f2-85a22676bfcf\" xlink:show=\"new\" xlink:title=\"psysml:a19db77c-da80-41d6-a5f2-85a22676bfcf\" xlink:type=\"simple\"><path d=\"M197.26,99.16 C199.64,104.97 201.69,111.05 203,117 C204.62,124.38 203.15,126.45 203,134 C200.78,249.62 229.38,284.23 193,394 C189.58,404.31 184.06,414.48 178.01,423.66 \" fill=\"none\" id=\"E8&lt;-E5\" style=\"stroke: #383838; stroke-width: 1.0;\"/><polygon fill=\"#FFFFFF\" points=\"191.73,87.03,190.583,94.1493,196.7135,97.9463,197.8605,90.827,191.73,87.03\" style=\"stroke: #383838; stroke-width: 1.0;\"/><text fill=\"#000000\" font-family=\"sans-serif\" font-size=\"13\" lengthAdjust=\"spacingAndGlyphs\" textLength=\"7\" x=\"212\" y=\"283.0669\">y</text></a><!--MD5=[049ab558815ccadc2a7a6ffdb8f4a5ba]\n",
       "reverse link E8 to E5--><a href=\"psysml:a19db77c-da80-41d6-a5f2-85a22676bfcf\" target=\"_top\" title=\"psysml:a19db77c-da80-41d6-a5f2-85a22676bfcf\" xlink:actuate=\"onRequest\" xlink:href=\"psysml:a19db77c-da80-41d6-a5f2-85a22676bfcf\" xlink:show=\"new\" xlink:title=\"psysml:a19db77c-da80-41d6-a5f2-85a22676bfcf\" xlink:type=\"simple\"><path d=\"M171.02,99.85 C168.34,110.83 165.22,122.97 162,134 C144.13,195.25 126.36,207.04 116,270 C114.77,277.46 114.57,279.58 116,287 C118.72,301.1 124.37,303.11 128,317 C137.32,352.62 142.19,394.45 144.65,423.82 \" fill=\"none\" id=\"E8&lt;-E5-1\" style=\"stroke: #383838; stroke-width: 1.0;\"/><polygon fill=\"#FFFFFF\" points=\"174.04,87.19,168.7576,92.0987,171.257,98.8628,176.5394,93.9541,174.04,87.19\" style=\"stroke: #383838; stroke-width: 1.0;\"/><text fill=\"#000000\" font-family=\"sans-serif\" font-size=\"13\" lengthAdjust=\"spacingAndGlyphs\" textLength=\"7\" x=\"117\" y=\"283.0669\">y</text></a><!--MD5=[049ab558815ccadc2a7a6ffdb8f4a5ba]\n",
       "reverse link E8 to E5--><a href=\"psysml:a19db77c-da80-41d6-a5f2-85a22676bfcf\" target=\"_top\" title=\"psysml:a19db77c-da80-41d6-a5f2-85a22676bfcf\" xlink:actuate=\"onRequest\" xlink:href=\"psysml:a19db77c-da80-41d6-a5f2-85a22676bfcf\" xlink:show=\"new\" xlink:title=\"psysml:a19db77c-da80-41d6-a5f2-85a22676bfcf\" xlink:type=\"simple\"><path d=\"M176.15,100.27 C170.13,174.82 156.15,347.78 150,423.9 \" fill=\"none\" id=\"E8&lt;-E5-2\" style=\"stroke: #383838; stroke-width: 1.0;\"/><polygon fill=\"#FFFFFF\" points=\"177.21,87.14,172.7415,92.7998,176.2473,99.1013,180.7158,93.4416,177.21,87.14\" style=\"stroke: #383838; stroke-width: 1.0;\"/><text fill=\"#000000\" font-family=\"sans-serif\" font-size=\"13\" lengthAdjust=\"spacingAndGlyphs\" textLength=\"7\" x=\"163\" y=\"283.0669\">y</text></a><!--MD5=[9f79c841e36fb93b3eafe60f9bb01c6a]\n",
       "@startuml\r\n",
       " skinparam monochrome true\r\n",
       "skinparam classbackgroundcolor white\r\n",
       "skinparam shadowing false\r\n",
       "skinparam wrapWidth 300\r\n",
       "hide circle\r\n",
       "\r\n",
       "package \"PartTest\" as E1  [[psysml:c65cc0cd-28b1-4d7a-bc05-02136890ed9a ]]  {\r\n",
       "comp usage \"f: A\" as E2  <<(T,blue)part>> [[psysml:634826b2-2fc2-4798-92ed-071cd1dffdd8 ]] {\r\n",
       "}\r\n",
       "comp def \"A\" as E3  <<(T,blue)part def>> [[psysml:36aba5eb-a810-4976-a211-fcdfb7b330f5 ]] {\r\n",
       "- - ports - -\r\n",
       "c: C\r\n",
       "}\r\n",
       "comp usage \"b: B\" as E4  <<(T,blue)part>> [[psysml:b5150c44-d935-4f31-a69b-527c90fd7c47 ]] {\r\n",
       "}\r\n",
       "comp def \"B\" as E5  <<(T,blue)part def>> [[psysml:94fb1c4b-8096-4b0e-a0c8-00d5fe55de6c ]] {\r\n",
       "- - ports - -\r\n",
       "x: ~C\r\n",
       "}\r\n",
       "comp usage \"a: A\" as E6  <<(T,blue)part>> [[psysml:de084c60-8c86-4761-a316-7296396fb321 ]] {\r\n",
       "}\r\n",
       "package \"P\" as E7  [[psysml:4c76b494-1a6c-482d-b35c-aa72d24bc41e ]]  {\r\n",
       "}\r\n",
       "comp def \"C\" as E8  <<(T,blue)port def>> [[psysml:4c8e1ce2-7f9a-4661-9090-c510b6f01354 ]] {\r\n",
       "}\r\n",
       "E2 - -:|> E3 [[psysml:38cdc859-4dfa-4bc4-87cd-169dd5acc896 ]] \r\n",
       "E3 *- - E4 [[psysml:5ebdadf2-6044-45bc-aa24-2da7c79aba16 ]] \r\n",
       "E4 - -:|> E5 [[psysml:1fd8d685-c326-41aa-b421-a8308f20148e ]] \r\n",
       "E5 *- - E6 [[psysml:c471fe89-f766-40f3-82e0-5e28332f3a67 ]] \r\n",
       "E6 - -:|> E3 [[psysml:ce24e444-eb42-4eaa-91b0-86c1efe7ffc5 ]] \r\n",
       "E5 +- - E7 [[psysml:cabff1fd-5442-4a71-976e-341ac2e5dda1 ]] \r\n",
       "E8 o- - E3 [[psysml:a19db77c-da80-41d6-a5f2-85a22676bfcf ]] : y\r\n",
       "E8 o- - E5 [[psysml:a19db77c-da80-41d6-a5f2-85a22676bfcf ]] : y\r\n",
       "E8 o- - E3 [[psysml:a19db77c-da80-41d6-a5f2-85a22676bfcf ]] : y\r\n",
       "E8 o- - E5 [[psysml:a19db77c-da80-41d6-a5f2-85a22676bfcf ]] : y\r\n",
       "E8 o- - E3 [[psysml:a19db77c-da80-41d6-a5f2-85a22676bfcf ]] : y\r\n",
       "E8 o- - E5 [[psysml:a19db77c-da80-41d6-a5f2-85a22676bfcf ]] : y\r\n",
       "}\r\n",
       "@enduml\r\n",
       "\n",
       "PlantUML version 1.2020.13(Sat Jun 13 12:26:38 UTC 2020)\n",
       "(EPL source distribution)\n",
       "Java Runtime: OpenJDK Runtime Environment\n",
       "JVM: OpenJDK 64-Bit Server VM\n",
       "Default Encoding: UTF-8\n",
       "Language: en\n",
       "Country: null\n",
       "--></g></svg>"
      ]
     },
     "execution_count": 3,
     "metadata": {},
     "output_type": "execute_result"
    }
   ],
   "source": [
    "%viz --style=\"COMPTREE\" --view=\"Tree\" \"PartTest\""
   ]
  },
  {
   "cell_type": "code",
   "execution_count": 4,
   "id": "40e09720",
   "metadata": {
    "execution": {
     "iopub.execute_input": "2021-04-20T07:29:10.070475Z",
     "iopub.status.busy": "2021-04-20T07:29:10.069565Z",
     "iopub.status.idle": "2021-04-20T07:29:10.100266Z",
     "shell.execute_reply": "2021-04-20T07:29:10.099537Z"
    }
   },
   "outputs": [
    {
     "data": {
      "image/svg+xml": [
       "<?xml version=\"1.0\" encoding=\"UTF-8\" standalone=\"no\"?><svg xmlns=\"http://www.w3.org/2000/svg\" xmlns:xlink=\"http://www.w3.org/1999/xlink\" contentScriptType=\"application/ecmascript\" contentStyleType=\"text/css\" height=\"12px\" preserveAspectRatio=\"none\" style=\"width:12px;height:12px;\" version=\"1.1\" viewBox=\"0 0 12 12\" width=\"12px\" zoomAndPan=\"magnify\"><defs/><g><!--MD5=[f19188ef49e11757b5c46753f95d9edc]\n",
       "@startuml\r\n",
       " skinparam monochrome true\r\n",
       "skinparam classbackgroundcolor white\r\n",
       "skinparam shadowing false\r\n",
       "skinparam wrapWidth 300\r\n",
       "hide circle\r\n",
       "\r\n",
       "@enduml\r\n",
       "\n",
       "PlantUML version 1.2020.13(Sat Jun 13 12:26:38 UTC 2020)\n",
       "(EPL source distribution)\n",
       "Java Runtime: OpenJDK Runtime Environment\n",
       "JVM: OpenJDK 64-Bit Server VM\n",
       "Default Encoding: UTF-8\n",
       "Language: en\n",
       "Country: null\n",
       "--></g></svg>"
      ]
     },
     "execution_count": 4,
     "metadata": {},
     "output_type": "execute_result"
    }
   ],
   "source": [
    "%viz --style=\"COMPTREE\" --view=\"State\" \"PartTest\""
   ]
  },
  {
   "cell_type": "code",
   "execution_count": 5,
   "id": "13768949",
   "metadata": {
    "execution": {
     "iopub.execute_input": "2021-04-20T07:29:10.152641Z",
     "iopub.status.busy": "2021-04-20T07:29:10.152076Z",
     "iopub.status.idle": "2021-04-20T07:29:10.262314Z",
     "shell.execute_reply": "2021-04-20T07:29:10.260784Z"
    }
   },
   "outputs": [
    {
     "data": {
      "image/svg+xml": [
       "<?xml version=\"1.0\" encoding=\"UTF-8\" standalone=\"no\"?><svg xmlns=\"http://www.w3.org/2000/svg\" xmlns:xlink=\"http://www.w3.org/1999/xlink\" contentScriptType=\"application/ecmascript\" contentStyleType=\"text/css\" height=\"247px\" preserveAspectRatio=\"none\" style=\"width:568px;height:247px;\" version=\"1.1\" viewBox=\"0 0 568 247\" width=\"568px\" zoomAndPan=\"magnify\"><defs/><g><!--MD5=[fbc87193dbaf4d95561dea2c320d4a47]\n",
       "cluster E1--><a href=\"psysml:c65cc0cd-28b1-4d7a-bc05-02136890ed9a\" target=\"_top\" title=\"psysml:c65cc0cd-28b1-4d7a-bc05-02136890ed9a\" xlink:actuate=\"onRequest\" xlink:href=\"psysml:c65cc0cd-28b1-4d7a-bc05-02136890ed9a\" xlink:show=\"new\" xlink:title=\"psysml:c65cc0cd-28b1-4d7a-bc05-02136890ed9a\" xlink:type=\"simple\"><polygon fill=\"#FFFFFF\" points=\"16,6,89,6,96,28.2969,546,28.2969,546,235,16,235,16,6\" style=\"stroke: #000000; stroke-width: 1.5;\"/><line style=\"stroke: #000000; stroke-width: 1.5;\" x1=\"16\" x2=\"96\" y1=\"28.2969\" y2=\"28.2969\"/><text fill=\"#000000\" font-family=\"sans-serif\" font-size=\"14\" font-weight=\"bold\" lengthAdjust=\"spacingAndGlyphs\" textLength=\"67\" x=\"20\" y=\"20.9951\">PartTest</text></a><!--MD5=[d5e69f78d87373223dbae638b30a9c99]\n",
       "cluster E3--><a href=\"psysml:36aba5eb-a810-4976-a211-fcdfb7b330f5\" target=\"_top\" title=\"psysml:36aba5eb-a810-4976-a211-fcdfb7b330f5\" xlink:actuate=\"onRequest\" xlink:href=\"psysml:36aba5eb-a810-4976-a211-fcdfb7b330f5\" xlink:show=\"new\" xlink:title=\"psysml:36aba5eb-a810-4976-a211-fcdfb7b330f5\" xlink:type=\"simple\"><rect fill=\"#FFFFFF\" height=\"150\" id=\"E3\" style=\"stroke: #383838; stroke-width: 1.5;\" width=\"120\" x=\"410\" y=\"62.5\"/><rect fill=\"#F8F8F8\" height=\"37.9375\" style=\"stroke: #383838; stroke-width: 1.5;\" width=\"120\" x=\"410\" y=\"62.5\"/><text fill=\"#000000\" font-family=\"sans-serif\" font-size=\"12\" font-style=\"italic\" lengthAdjust=\"spacingAndGlyphs\" textLength=\"64\" x=\"438\" y=\"78.6387\">«part def»</text><text fill=\"#000000\" font-family=\"sans-serif\" font-size=\"12\" lengthAdjust=\"spacingAndGlyphs\" textLength=\"8\" x=\"466\" y=\"92.6074\">A</text></a><!--MD5=[14e3b0961a2654348d326746436168a1]\n",
       "cluster E6--><a href=\"psysml:94fb1c4b-8096-4b0e-a0c8-00d5fe55de6c\" target=\"_top\" title=\"psysml:94fb1c4b-8096-4b0e-a0c8-00d5fe55de6c\" xlink:actuate=\"onRequest\" xlink:href=\"psysml:94fb1c4b-8096-4b0e-a0c8-00d5fe55de6c\" xlink:show=\"new\" xlink:title=\"psysml:94fb1c4b-8096-4b0e-a0c8-00d5fe55de6c\" xlink:type=\"simple\"><rect fill=\"#FFFFFF\" height=\"156.5\" id=\"E6\" style=\"stroke: #383838; stroke-width: 1.5;\" width=\"205\" x=\"197\" y=\"62.5\"/><rect fill=\"#F8F8F8\" height=\"37.9375\" style=\"stroke: #383838; stroke-width: 1.5;\" width=\"205\" x=\"197\" y=\"62.5\"/><text fill=\"#000000\" font-family=\"sans-serif\" font-size=\"12\" font-style=\"italic\" lengthAdjust=\"spacingAndGlyphs\" textLength=\"64\" x=\"267.5\" y=\"78.6387\">«part def»</text><text fill=\"#000000\" font-family=\"sans-serif\" font-size=\"12\" lengthAdjust=\"spacingAndGlyphs\" textLength=\"8\" x=\"295.5\" y=\"92.6074\">B</text></a><g id=\"E1.E10\"><a href=\"psysml:4c8e1ce2-7f9a-4661-9090-c510b6f01354\" target=\"_top\" title=\"psysml:4c8e1ce2-7f9a-4661-9090-c510b6f01354\" xlink:actuate=\"onRequest\" xlink:href=\"psysml:4c8e1ce2-7f9a-4661-9090-c510b6f01354\" xlink:show=\"new\" xlink:title=\"psysml:4c8e1ce2-7f9a-4661-9090-c510b6f01354\" xlink:type=\"simple\"><rect fill=\"#FFFFFF\" height=\"42.9375\" id=\"E10\" style=\"stroke: #383838; stroke-width: 1.5;\" width=\"71\" x=\"117.5\" y=\"41\"/><rect fill=\"#F8F8F8\" height=\"37.9375\" style=\"stroke: #383838; stroke-width: 1.5;\" width=\"71\" x=\"117.5\" y=\"41\"/><text fill=\"#000000\" font-family=\"sans-serif\" font-size=\"12\" font-style=\"italic\" lengthAdjust=\"spacingAndGlyphs\" textLength=\"64\" x=\"121\" y=\"57.1387\">«port def»</text><text fill=\"#000000\" font-family=\"sans-serif\" font-size=\"12\" lengthAdjust=\"spacingAndGlyphs\" textLength=\"8\" x=\"149\" y=\"71.1074\">C</text></a></g><g id=\"E1.E2\"><a href=\"psysml:634826b2-2fc2-4798-92ed-071cd1dffdd8\" target=\"_top\" title=\"psysml:634826b2-2fc2-4798-92ed-071cd1dffdd8\" xlink:actuate=\"onRequest\" xlink:href=\"psysml:634826b2-2fc2-4798-92ed-071cd1dffdd8\" xlink:show=\"new\" xlink:title=\"psysml:634826b2-2fc2-4798-92ed-071cd1dffdd8\" xlink:type=\"simple\"><rect fill=\"#FFFFFF\" height=\"40\" id=\"E2\" rx=\"10\" ry=\"10\" style=\"stroke: #383838; stroke-width: 1.5;\" width=\"50\" x=\"32\" y=\"42.5\"/><rect fill=\"#F8F8F8\" height=\"23.9688\" rx=\"10\" ry=\"10\" style=\"stroke: #F8F8F8; stroke-width: 1.5;\" width=\"50\" x=\"32\" y=\"42.5\"/><rect fill=\"#F8F8F8\" height=\"10\" style=\"stroke: #F8F8F8; stroke-width: 1.5;\" width=\"50\" x=\"32\" y=\"56.4688\"/><rect fill=\"none\" height=\"40\" id=\"E2\" rx=\"10\" ry=\"10\" style=\"stroke: #383838; stroke-width: 1.5;\" width=\"50\" x=\"32\" y=\"42.5\"/><text fill=\"#000000\" font-family=\"sans-serif\" font-size=\"12\" lengthAdjust=\"spacingAndGlyphs\" textLength=\"20\" x=\"47\" y=\"58.6387\">f: A</text></a></g><text fill=\"#000000\" font-family=\"sans-serif\" font-size=\"14\" lengthAdjust=\"spacingAndGlyphs\" textLength=\"27\" x=\"456.5\" y=\"41.1982\">c: C</text><rect fill=\"#383838\" height=\"12\" style=\"stroke: #F8F8F8; stroke-width: 1.5;\" width=\"12\" x=\"464\" y=\"56.5\"/><g id=\"E1.E3.E4\"><a href=\"psysml:b5150c44-d935-4f31-a69b-527c90fd7c47\" target=\"_top\" title=\"psysml:b5150c44-d935-4f31-a69b-527c90fd7c47\" xlink:actuate=\"onRequest\" xlink:href=\"psysml:b5150c44-d935-4f31-a69b-527c90fd7c47\" xlink:show=\"new\" xlink:title=\"psysml:b5150c44-d935-4f31-a69b-527c90fd7c47\" xlink:type=\"simple\"><rect fill=\"#FFFFFF\" height=\"40\" id=\"E4\" rx=\"10\" ry=\"10\" style=\"stroke: #383838; stroke-width: 1.5;\" width=\"50\" x=\"445\" y=\"156.5\"/><rect fill=\"#F8F8F8\" height=\"23.9688\" rx=\"10\" ry=\"10\" style=\"stroke: #F8F8F8; stroke-width: 1.5;\" width=\"50\" x=\"445\" y=\"156.5\"/><rect fill=\"#F8F8F8\" height=\"10\" style=\"stroke: #F8F8F8; stroke-width: 1.5;\" width=\"50\" x=\"445\" y=\"170.4688\"/><rect fill=\"none\" height=\"40\" id=\"E4\" rx=\"10\" ry=\"10\" style=\"stroke: #383838; stroke-width: 1.5;\" width=\"50\" x=\"445\" y=\"156.5\"/><text fill=\"#000000\" font-family=\"sans-serif\" font-size=\"12\" lengthAdjust=\"spacingAndGlyphs\" textLength=\"24\" x=\"458\" y=\"172.6387\">b: B</text></a></g><text fill=\"#000000\" font-family=\"sans-serif\" font-size=\"14\" lengthAdjust=\"spacingAndGlyphs\" textLength=\"38\" x=\"323\" y=\"41.1982\">x: ~C</text><rect fill=\"#383838\" height=\"12\" style=\"stroke: #F8F8F8; stroke-width: 1.5;\" width=\"12\" x=\"336\" y=\"56.5\"/><g id=\"E1.E6.E7\"><a href=\"psysml:de084c60-8c86-4761-a316-7296396fb321\" target=\"_top\" title=\"psysml:de084c60-8c86-4761-a316-7296396fb321\" xlink:actuate=\"onRequest\" xlink:href=\"psysml:de084c60-8c86-4761-a316-7296396fb321\" xlink:show=\"new\" xlink:title=\"psysml:de084c60-8c86-4761-a316-7296396fb321\" xlink:type=\"simple\"><rect fill=\"#FFFFFF\" height=\"40\" id=\"E7\" rx=\"10\" ry=\"10\" style=\"stroke: #383838; stroke-width: 1.5;\" width=\"50\" x=\"213\" y=\"100\"/><rect fill=\"#F8F8F8\" height=\"23.9688\" rx=\"10\" ry=\"10\" style=\"stroke: #F8F8F8; stroke-width: 1.5;\" width=\"50\" x=\"213\" y=\"100\"/><rect fill=\"#F8F8F8\" height=\"10\" style=\"stroke: #F8F8F8; stroke-width: 1.5;\" width=\"50\" x=\"213\" y=\"113.9688\"/><rect fill=\"none\" height=\"40\" id=\"E7\" rx=\"10\" ry=\"10\" style=\"stroke: #383838; stroke-width: 1.5;\" width=\"50\" x=\"213\" y=\"100\"/><text fill=\"#000000\" font-family=\"sans-serif\" font-size=\"12\" lengthAdjust=\"spacingAndGlyphs\" textLength=\"24\" x=\"226\" y=\"116.1387\">a: A</text></a></g><a href=\"psysml:4c76b494-1a6c-482d-b35c-aa72d24bc41e\" target=\"_top\" title=\"psysml:4c76b494-1a6c-482d-b35c-aa72d24bc41e\" xlink:actuate=\"onRequest\" xlink:href=\"psysml:4c76b494-1a6c-482d-b35c-aa72d24bc41e\" xlink:show=\"new\" xlink:title=\"psysml:4c76b494-1a6c-482d-b35c-aa72d24bc41e\" xlink:type=\"simple\"><polygon fill=\"#FFFFFF\" points=\"327,150,343,150,350,172.2969,357,172.2969,357,202.5938,327,202.5938,327,150\" style=\"stroke: #000000; stroke-width: 1.5;\"/><line style=\"stroke: #000000; stroke-width: 1.5;\" x1=\"327\" x2=\"350\" y1=\"172.2969\" y2=\"172.2969\"/><text fill=\"#000000\" font-family=\"sans-serif\" font-size=\"14\" font-weight=\"bold\" lengthAdjust=\"spacingAndGlyphs\" textLength=\"10\" x=\"331\" y=\"164.9951\">P</text></a><!--MD5=[f955f130e70adb7cdcaf17402dca09aa]\n",
       "@startuml\r\n",
       "skinparam ranksep 10\r\n",
       "skinparam rectangle {\r\n",
       " backgroundColor<<block>> LightGreen\r\n",
       "}\r\n",
       " skinparam monochrome true\r\n",
       "skinparam classbackgroundcolor white\r\n",
       "skinparam shadowing false\r\n",
       "skinparam wrapWidth 300\r\n",
       "hide circle\r\n",
       "\r\n",
       "package \"PartTest\" as E1  [[psysml:c65cc0cd-28b1-4d7a-bc05-02136890ed9a ]]  {\r\n",
       "rec usage \"f: A\" as E2  [[psysml:634826b2-2fc2-4798-92ed-071cd1dffdd8 ]] {\r\n",
       "}\r\n",
       "rec def \"A\" as E3  <<(T,blue)part def>> [[psysml:36aba5eb-a810-4976-a211-fcdfb7b330f5 ]] {\r\n",
       "rec usage \"b: B\" as E4  [[psysml:b5150c44-d935-4f31-a69b-527c90fd7c47 ]] {\r\n",
       "}\r\n",
       "portin \"c: C\" as E5  <<(T,blue)port>> [[psysml:15f0fdfb-f77b-4913-8565-6992b28565d6 ]] \r\n",
       "}\r\n",
       "rec def \"B\" as E6  <<(T,blue)part def>> [[psysml:94fb1c4b-8096-4b0e-a0c8-00d5fe55de6c ]] {\r\n",
       "rec usage \"a: A\" as E7  [[psysml:de084c60-8c86-4761-a316-7296396fb321 ]] {\r\n",
       "}\r\n",
       "portin \"x: ~C\" as E8  <<(T,blue)port>> [[psysml:6cb219e8-2ff6-47bb-94c6-2fc71ea9a3d9 ]] \r\n",
       "package \"P\" as E9  [[psysml:4c76b494-1a6c-482d-b35c-aa72d24bc41e ]]  {\r\n",
       "}\r\n",
       "}\r\n",
       "def \"C\" as E10  <<(T,blue)port def>> [[psysml:4c8e1ce2-7f9a-4661-9090-c510b6f01354 ]] \r\n",
       "}\r\n",
       "@enduml\r\n",
       "\n",
       "PlantUML version 1.2020.13(Sat Jun 13 12:26:38 UTC 2020)\n",
       "(EPL source distribution)\n",
       "Java Runtime: OpenJDK Runtime Environment\n",
       "JVM: OpenJDK 64-Bit Server VM\n",
       "Default Encoding: UTF-8\n",
       "Language: en\n",
       "Country: null\n",
       "--></g></svg>"
      ]
     },
     "execution_count": 5,
     "metadata": {},
     "output_type": "execute_result"
    }
   ],
   "source": [
    "%viz --style=\"COMPTREE\" --view=\"Interconnection\" \"PartTest\""
   ]
  },
  {
   "cell_type": "code",
   "execution_count": 6,
   "id": "31f86dcd",
   "metadata": {
    "execution": {
     "iopub.execute_input": "2021-04-20T07:29:10.315550Z",
     "iopub.status.busy": "2021-04-20T07:29:10.314346Z",
     "iopub.status.idle": "2021-04-20T07:29:10.342603Z",
     "shell.execute_reply": "2021-04-20T07:29:10.343100Z"
    }
   },
   "outputs": [
    {
     "data": {
      "image/svg+xml": [
       "<?xml version=\"1.0\" encoding=\"UTF-8\" standalone=\"no\"?><svg xmlns=\"http://www.w3.org/2000/svg\" xmlns:xlink=\"http://www.w3.org/1999/xlink\" contentScriptType=\"application/ecmascript\" contentStyleType=\"text/css\" height=\"12px\" preserveAspectRatio=\"none\" style=\"width:12px;height:12px;\" version=\"1.1\" viewBox=\"0 0 12 12\" width=\"12px\" zoomAndPan=\"magnify\"><defs/><g><!--MD5=[655b888544ca4751ea36af1068543f84]\n",
       "@startuml\r\n",
       "skinparam ranksep 8\r\n",
       " skinparam monochrome true\r\n",
       "skinparam classbackgroundcolor white\r\n",
       "skinparam shadowing false\r\n",
       "skinparam wrapWidth 300\r\n",
       "hide circle\r\n",
       "\r\n",
       "@enduml\r\n",
       "\n",
       "PlantUML version 1.2020.13(Sat Jun 13 12:26:38 UTC 2020)\n",
       "(EPL source distribution)\n",
       "Java Runtime: OpenJDK Runtime Environment\n",
       "JVM: OpenJDK 64-Bit Server VM\n",
       "Default Encoding: UTF-8\n",
       "Language: en\n",
       "Country: null\n",
       "--></g></svg>"
      ]
     },
     "execution_count": 6,
     "metadata": {},
     "output_type": "execute_result"
    }
   ],
   "source": [
    "%viz --style=\"COMPTREE\" --view=\"Action\" \"PartTest\""
   ]
  },
  {
   "cell_type": "code",
   "execution_count": 7,
   "id": "d34d3cc7",
   "metadata": {
    "execution": {
     "iopub.execute_input": "2021-04-20T07:29:10.396192Z",
     "iopub.status.busy": "2021-04-20T07:29:10.395333Z",
     "iopub.status.idle": "2021-04-20T07:29:10.590941Z",
     "shell.execute_reply": "2021-04-20T07:29:10.592403Z"
    }
   },
   "outputs": [
    {
     "data": {
      "image/svg+xml": [
       "<?xml version=\"1.0\" encoding=\"UTF-8\" standalone=\"no\"?><svg xmlns=\"http://www.w3.org/2000/svg\" xmlns:xlink=\"http://www.w3.org/1999/xlink\" contentScriptType=\"application/ecmascript\" contentStyleType=\"text/css\" height=\"642px\" preserveAspectRatio=\"none\" style=\"width:260px;height:642px;\" version=\"1.1\" viewBox=\"0 0 260 642\" width=\"260px\" zoomAndPan=\"magnify\"><defs/><g><!--MD5=[fbc87193dbaf4d95561dea2c320d4a47]\n",
       "cluster E1--><a href=\"psysml:c65cc0cd-28b1-4d7a-bc05-02136890ed9a\" target=\"_top\" title=\"psysml:c65cc0cd-28b1-4d7a-bc05-02136890ed9a\" xlink:actuate=\"onRequest\" xlink:href=\"psysml:c65cc0cd-28b1-4d7a-bc05-02136890ed9a\" xlink:show=\"new\" xlink:title=\"psysml:c65cc0cd-28b1-4d7a-bc05-02136890ed9a\" xlink:type=\"simple\"><polygon fill=\"#FFFFFF\" points=\"16,6,89,6,96,28.2969,238,28.2969,238,630,16,630,16,6\" style=\"stroke: #000000; stroke-width: 1.5;\"/><line style=\"stroke: #000000; stroke-width: 1.5;\" x1=\"16\" x2=\"96\" y1=\"28.2969\" y2=\"28.2969\"/><text fill=\"#000000\" font-family=\"sans-serif\" font-size=\"14\" font-weight=\"bold\" lengthAdjust=\"spacingAndGlyphs\" textLength=\"67\" x=\"20\" y=\"20.9951\">PartTest</text></a><!--MD5=[b4997ac47864f28c2f74865a473b2911]\n",
       "class E2--><a href=\"psysml:634826b2-2fc2-4798-92ed-071cd1dffdd8\" target=\"_top\" title=\"psysml:634826b2-2fc2-4798-92ed-071cd1dffdd8\" xlink:actuate=\"onRequest\" xlink:href=\"psysml:634826b2-2fc2-4798-92ed-071cd1dffdd8\" xlink:show=\"new\" xlink:title=\"psysml:634826b2-2fc2-4798-92ed-071cd1dffdd8\" xlink:type=\"simple\"><rect fill=\"#FFFFFF\" height=\"45.9375\" id=\"E2\" rx=\"10\" ry=\"10\" style=\"stroke: #383838; stroke-width: 1.5;\" width=\"42\" x=\"32\" y=\"41\"/><text fill=\"#000000\" font-family=\"sans-serif\" font-size=\"12\" font-style=\"italic\" lengthAdjust=\"spacingAndGlyphs\" textLength=\"40\" x=\"33\" y=\"57.1387\">«part»</text><text fill=\"#000000\" font-family=\"sans-serif\" font-size=\"12\" lengthAdjust=\"spacingAndGlyphs\" textLength=\"20\" x=\"43\" y=\"71.1074\">f: A</text><line style=\"stroke: #383838; stroke-width: 1.5;\" x1=\"33\" x2=\"73\" y1=\"78.9375\" y2=\"78.9375\"/></a><!--MD5=[09b614a08d8cba4a07c9adeb5e0fee81]\n",
       "class E3--><a href=\"psysml:36aba5eb-a810-4976-a211-fcdfb7b330f5\" target=\"_top\" title=\"psysml:36aba5eb-a810-4976-a211-fcdfb7b330f5\" xlink:actuate=\"onRequest\" xlink:href=\"psysml:36aba5eb-a810-4976-a211-fcdfb7b330f5\" xlink:show=\"new\" xlink:title=\"psysml:36aba5eb-a810-4976-a211-fcdfb7b330f5\" xlink:type=\"simple\"><rect fill=\"#FFFFFF\" height=\"75.5469\" id=\"E3\" style=\"stroke: #383838; stroke-width: 1.5;\" width=\"66\" x=\"37\" y=\"164\"/><text fill=\"#000000\" font-family=\"sans-serif\" font-size=\"12\" font-style=\"italic\" lengthAdjust=\"spacingAndGlyphs\" textLength=\"64\" x=\"38\" y=\"180.1387\">«part def»</text><text fill=\"#000000\" font-family=\"sans-serif\" font-size=\"12\" lengthAdjust=\"spacingAndGlyphs\" textLength=\"8\" x=\"66\" y=\"194.1074\">A</text><line style=\"stroke: #383838; stroke-width: 1.5;\" x1=\"38\" x2=\"102\" y1=\"201.9375\" y2=\"201.9375\"/><text fill=\"#000000\" font-family=\"sans-serif\" font-size=\"11\" lengthAdjust=\"spacingAndGlyphs\" textLength=\"22\" x=\"43\" y=\"232.9526\">c: C</text><line style=\"stroke: #383838; stroke-width: 1.0;\" x1=\"38\" x2=\"55\" y1=\"216.3398\" y2=\"216.3398\"/><text fill=\"#000000\" font-family=\"sans-serif\" font-size=\"11\" lengthAdjust=\"spacingAndGlyphs\" textLength=\"30\" x=\"55\" y=\"219.6479\">ports</text><line style=\"stroke: #383838; stroke-width: 1.0;\" x1=\"85\" x2=\"102\" y1=\"216.3398\" y2=\"216.3398\"/></a><!--MD5=[ebbe1d658d1005bcc118a6aa81145e00]\n",
       "class E4--><a href=\"psysml:b5150c44-d935-4f31-a69b-527c90fd7c47\" target=\"_top\" title=\"psysml:b5150c44-d935-4f31-a69b-527c90fd7c47\" xlink:actuate=\"onRequest\" xlink:href=\"psysml:b5150c44-d935-4f31-a69b-527c90fd7c47\" xlink:show=\"new\" xlink:title=\"psysml:b5150c44-d935-4f31-a69b-527c90fd7c47\" xlink:type=\"simple\"><rect fill=\"#FFFFFF\" height=\"45.9375\" id=\"E4\" rx=\"10\" ry=\"10\" style=\"stroke: #383838; stroke-width: 1.5;\" width=\"42\" x=\"69\" y=\"317\"/><text fill=\"#000000\" font-family=\"sans-serif\" font-size=\"12\" font-style=\"italic\" lengthAdjust=\"spacingAndGlyphs\" textLength=\"40\" x=\"70\" y=\"333.1387\">«part»</text><text fill=\"#000000\" font-family=\"sans-serif\" font-size=\"12\" lengthAdjust=\"spacingAndGlyphs\" textLength=\"24\" x=\"78\" y=\"347.1074\">b: B</text><line style=\"stroke: #383838; stroke-width: 1.5;\" x1=\"70\" x2=\"110\" y1=\"354.9375\" y2=\"354.9375\"/></a><!--MD5=[270fce915f116d4de14055a7c1d9a0f3]\n",
       "class E5--><a href=\"psysml:94fb1c4b-8096-4b0e-a0c8-00d5fe55de6c\" target=\"_top\" title=\"psysml:94fb1c4b-8096-4b0e-a0c8-00d5fe55de6c\" xlink:actuate=\"onRequest\" xlink:href=\"psysml:94fb1c4b-8096-4b0e-a0c8-00d5fe55de6c\" xlink:show=\"new\" xlink:title=\"psysml:94fb1c4b-8096-4b0e-a0c8-00d5fe55de6c\" xlink:type=\"simple\"><rect fill=\"#FFFFFF\" height=\"75.5469\" id=\"E5\" style=\"stroke: #383838; stroke-width: 1.5;\" width=\"66\" x=\"114\" y=\"424\"/><text fill=\"#000000\" font-family=\"sans-serif\" font-size=\"12\" font-style=\"italic\" lengthAdjust=\"spacingAndGlyphs\" textLength=\"64\" x=\"115\" y=\"440.1387\">«part def»</text><text fill=\"#000000\" font-family=\"sans-serif\" font-size=\"12\" lengthAdjust=\"spacingAndGlyphs\" textLength=\"8\" x=\"143\" y=\"454.1074\">B</text><line style=\"stroke: #383838; stroke-width: 1.5;\" x1=\"115\" x2=\"179\" y1=\"461.9375\" y2=\"461.9375\"/><text fill=\"#000000\" font-family=\"sans-serif\" font-size=\"11\" lengthAdjust=\"spacingAndGlyphs\" textLength=\"31\" x=\"120\" y=\"492.9526\">x: ~C</text><line style=\"stroke: #383838; stroke-width: 1.0;\" x1=\"115\" x2=\"132\" y1=\"476.3398\" y2=\"476.3398\"/><text fill=\"#000000\" font-family=\"sans-serif\" font-size=\"11\" lengthAdjust=\"spacingAndGlyphs\" textLength=\"30\" x=\"132\" y=\"479.6479\">ports</text><line style=\"stroke: #383838; stroke-width: 1.0;\" x1=\"162\" x2=\"179\" y1=\"476.3398\" y2=\"476.3398\"/></a><!--MD5=[60a26617385b1d2d0262a64233df1f8d]\n",
       "class E6--><a href=\"psysml:de084c60-8c86-4761-a316-7296396fb321\" target=\"_top\" title=\"psysml:de084c60-8c86-4761-a316-7296396fb321\" xlink:actuate=\"onRequest\" xlink:href=\"psysml:de084c60-8c86-4761-a316-7296396fb321\" xlink:show=\"new\" xlink:title=\"psysml:de084c60-8c86-4761-a316-7296396fb321\" xlink:type=\"simple\"><rect fill=\"#FFFFFF\" height=\"45.9375\" id=\"E6\" rx=\"10\" ry=\"10\" style=\"stroke: #383838; stroke-width: 1.5;\" width=\"42\" x=\"44\" y=\"564.5\"/><text fill=\"#000000\" font-family=\"sans-serif\" font-size=\"12\" font-style=\"italic\" lengthAdjust=\"spacingAndGlyphs\" textLength=\"40\" x=\"45\" y=\"580.6387\">«part»</text><text fill=\"#000000\" font-family=\"sans-serif\" font-size=\"12\" lengthAdjust=\"spacingAndGlyphs\" textLength=\"24\" x=\"53\" y=\"594.6074\">a: A</text><line style=\"stroke: #383838; stroke-width: 1.5;\" x1=\"45\" x2=\"85\" y1=\"602.4375\" y2=\"602.4375\"/></a><!--MD5=[b9389687b975829384b498ac4b7476b2]\n",
       "class E8--><a href=\"psysml:4c8e1ce2-7f9a-4661-9090-c510b6f01354\" target=\"_top\" title=\"psysml:4c8e1ce2-7f9a-4661-9090-c510b6f01354\" xlink:actuate=\"onRequest\" xlink:href=\"psysml:4c8e1ce2-7f9a-4661-9090-c510b6f01354\" xlink:show=\"new\" xlink:title=\"psysml:4c8e1ce2-7f9a-4661-9090-c510b6f01354\" xlink:type=\"simple\"><rect fill=\"#FFFFFF\" height=\"45.9375\" id=\"E8\" style=\"stroke: #383838; stroke-width: 1.5;\" width=\"66\" x=\"146\" y=\"41\"/><text fill=\"#000000\" font-family=\"sans-serif\" font-size=\"12\" font-style=\"italic\" lengthAdjust=\"spacingAndGlyphs\" textLength=\"64\" x=\"147\" y=\"57.1387\">«port def»</text><text fill=\"#000000\" font-family=\"sans-serif\" font-size=\"12\" lengthAdjust=\"spacingAndGlyphs\" textLength=\"8\" x=\"175\" y=\"71.1074\">C</text><line style=\"stroke: #383838; stroke-width: 1.5;\" x1=\"147\" x2=\"211\" y1=\"78.9375\" y2=\"78.9375\"/></a><a href=\"psysml:4c76b494-1a6c-482d-b35c-aa72d24bc41e\" target=\"_top\" title=\"psysml:4c76b494-1a6c-482d-b35c-aa72d24bc41e\" xlink:actuate=\"onRequest\" xlink:href=\"psysml:4c76b494-1a6c-482d-b35c-aa72d24bc41e\" xlink:show=\"new\" xlink:title=\"psysml:4c76b494-1a6c-482d-b35c-aa72d24bc41e\" xlink:type=\"simple\"><polygon fill=\"#FFFFFF\" points=\"132,561,148,561,155,583.2969,162,583.2969,162,613.5938,132,613.5938,132,561\" style=\"stroke: #000000; stroke-width: 1.5;\"/><line style=\"stroke: #000000; stroke-width: 1.5;\" x1=\"132\" x2=\"155\" y1=\"583.2969\" y2=\"583.2969\"/><text fill=\"#000000\" font-family=\"sans-serif\" font-size=\"14\" font-weight=\"bold\" lengthAdjust=\"spacingAndGlyphs\" textLength=\"10\" x=\"136\" y=\"575.9951\">P</text></a><!--MD5=[2720a5a1f2c3fca2055b230370638851]\n",
       "link E2 to E3--><a href=\"psysml:38cdc859-4dfa-4bc4-87cd-169dd5acc896\" target=\"_top\" title=\"psysml:38cdc859-4dfa-4bc4-87cd-169dd5acc896\" xlink:actuate=\"onRequest\" xlink:href=\"psysml:38cdc859-4dfa-4bc4-87cd-169dd5acc896\" xlink:show=\"new\" xlink:title=\"psysml:38cdc859-4dfa-4bc4-87cd-169dd5acc896\" xlink:type=\"simple\"><path d=\"M43.23,87.08 C38.46,100.64 34.45,118.34 38,134 C38.82,137.61 39.86,141.26 41.06,144.89 \" fill=\"none\" id=\"E2-&gt;E3\" style=\"stroke: #383838; stroke-width: 1.0;\"/><polygon fill=\"#FFFFFF\" points=\"48.65,163.8,35.0703,148.7803,48.0607,143.5601,48.65,163.8\" style=\"stroke: #383838; stroke-width: 1.0;\"/><ellipse cx=\"34.8007\" cy=\"142.7456\" fill=\"#383838\" rx=\"2\" ry=\"2\" style=\"stroke: #383838; stroke-width: 1.0;\"/><ellipse cx=\"44.0796\" cy=\"139.0169\" fill=\"#383838\" rx=\"2\" ry=\"2\" style=\"stroke: #383838; stroke-width: 1.0;\"/></a><!--MD5=[4672eba38e49728da53d11aeb285b987]\n",
       "reverse link E3 to E4--><a href=\"psysml:5ebdadf2-6044-45bc-aa24-2da7c79aba16\" target=\"_top\" title=\"psysml:5ebdadf2-6044-45bc-aa24-2da7c79aba16\" xlink:actuate=\"onRequest\" xlink:href=\"psysml:5ebdadf2-6044-45bc-aa24-2da7c79aba16\" xlink:show=\"new\" xlink:title=\"psysml:5ebdadf2-6044-45bc-aa24-2da7c79aba16\" xlink:type=\"simple\"><path d=\"M72.88,253.51 C73.88,264.59 75.22,276.22 77,287 C78.64,296.92 81.21,307.72 83.63,316.9 \" fill=\"none\" id=\"E3&lt;-E4\" style=\"stroke: #383838; stroke-width: 1.0;\"/><polygon fill=\"#383838\" points=\"71.81,240.38,68.3042,246.6816,72.7727,252.3413,76.2785,246.0398,71.81,240.38\" style=\"stroke: #383838; stroke-width: 1.0;\"/></a><!--MD5=[1b7591eae5389033d8d09a9d6721a717]\n",
       "link E4 to E5--><a href=\"psysml:1fd8d685-c326-41aa-b421-a8308f20148e\" target=\"_top\" title=\"psysml:1fd8d685-c326-41aa-b421-a8308f20148e\" xlink:actuate=\"onRequest\" xlink:href=\"psysml:1fd8d685-c326-41aa-b421-a8308f20148e\" xlink:show=\"new\" xlink:title=\"psysml:1fd8d685-c326-41aa-b421-a8308f20148e\" xlink:type=\"simple\"><path d=\"M100.45,363.01 C106.1,374.9 113.36,390.18 120.46,405.12 \" fill=\"none\" id=\"E4-&gt;E5\" style=\"stroke: #383838; stroke-width: 1.0;\"/><polygon fill=\"#FFFFFF\" points=\"129.22,423.57,114.7395,409.4167,127.3831,403.405,129.22,423.57\" style=\"stroke: #383838; stroke-width: 1.0;\"/><ellipse cx=\"114.0981\" cy=\"403.4102\" fill=\"#383838\" rx=\"2\" ry=\"2\" style=\"stroke: #383838; stroke-width: 1.0;\"/><ellipse cx=\"123.1292\" cy=\"399.1161\" fill=\"#383838\" rx=\"2\" ry=\"2\" style=\"stroke: #383838; stroke-width: 1.0;\"/></a><!--MD5=[85d356282659285ab4b2cfe2f634dd2b]\n",
       "reverse link E5 to E6--><a href=\"psysml:c471fe89-f766-40f3-82e0-5e28332f3a67\" target=\"_top\" title=\"psysml:c471fe89-f766-40f3-82e0-5e28332f3a67\" xlink:actuate=\"onRequest\" xlink:href=\"psysml:c471fe89-f766-40f3-82e0-5e28332f3a67\" xlink:show=\"new\" xlink:title=\"psysml:c471fe89-f766-40f3-82e0-5e28332f3a67\" xlink:type=\"simple\"><path d=\"M115.19,510.9 C103,529.26 89.67,549.34 79.81,564.19 \" fill=\"none\" id=\"E5&lt;-E6\" style=\"stroke: #383838; stroke-width: 1.0;\"/><polygon fill=\"#383838\" points=\"122.4,500.05,115.7495,502.8377,115.7649,510.0488,122.4154,507.2611,122.4,500.05\" style=\"stroke: #383838; stroke-width: 1.0;\"/></a><!--MD5=[a717450b82c80b9240a525fa862496af]\n",
       "link E6 to E3--><a href=\"psysml:ce24e444-eb42-4eaa-91b0-86c1efe7ffc5\" target=\"_top\" title=\"psysml:ce24e444-eb42-4eaa-91b0-86c1efe7ffc5\" xlink:actuate=\"onRequest\" xlink:href=\"psysml:ce24e444-eb42-4eaa-91b0-86c1efe7ffc5\" xlink:show=\"new\" xlink:title=\"psysml:ce24e444-eb42-4eaa-91b0-86c1efe7ffc5\" xlink:type=\"simple\"><path d=\"M61.85,564.46 C55.72,518.43 43.41,408.75 51,317 C52.55,298.29 55.5,278.02 58.63,259.84 \" fill=\"none\" id=\"E6-&gt;E3\" style=\"stroke: #383838; stroke-width: 1.0;\"/><polygon fill=\"#FFFFFF\" points=\"62.24,240.03,65.7193,259.9773,51.9463,257.4667,62.24,240.03\" style=\"stroke: #383838; stroke-width: 1.0;\"/><ellipse cx=\"62.7296\" cy=\"265.2262\" fill=\"#383838\" rx=\"2\" ry=\"2\" style=\"stroke: #383838; stroke-width: 1.0;\"/><ellipse cx=\"52.8917\" cy=\"263.433\" fill=\"#383838\" rx=\"2\" ry=\"2\" style=\"stroke: #383838; stroke-width: 1.0;\"/></a><!--MD5=[452b418e7f8a40397a49b8c0a78acc5b]\n",
       "reverse link E5 to E7--><a href=\"psysml:cabff1fd-5442-4a71-976e-341ac2e5dda1\" target=\"_top\" title=\"psysml:cabff1fd-5442-4a71-976e-341ac2e5dda1\" xlink:actuate=\"onRequest\" xlink:href=\"psysml:cabff1fd-5442-4a71-976e-341ac2e5dda1\" xlink:show=\"new\" xlink:title=\"psysml:cabff1fd-5442-4a71-976e-341ac2e5dda1\" xlink:type=\"simple\"><path d=\"M147,515.35 C147,531.08 147,547.65 147,560.83 \" fill=\"none\" id=\"E5&lt;-E7\" style=\"stroke: #383838; stroke-width: 1.0;\"/><ellipse cx=\"147\" cy=\"508.05\" fill=\"#FFFFFF\" rx=\"8\" ry=\"8\" style=\"stroke: #383838; stroke-width: 1.0;\"/><line style=\"stroke: #383838; stroke-width: 1.0;\" x1=\"147\" x2=\"147\" y1=\"516.05\" y2=\"500.05\"/><line style=\"stroke: #383838; stroke-width: 1.0;\" x1=\"139\" x2=\"155\" y1=\"508.05\" y2=\"508.05\"/></a><!--MD5=[03c8294790d3c57651a1993cecff665f]\n",
       "reverse link E8 to E3--><a href=\"psysml:a19db77c-da80-41d6-a5f2-85a22676bfcf\" target=\"_top\" title=\"psysml:a19db77c-da80-41d6-a5f2-85a22676bfcf\" xlink:actuate=\"onRequest\" xlink:href=\"psysml:a19db77c-da80-41d6-a5f2-85a22676bfcf\" xlink:show=\"new\" xlink:title=\"psysml:a19db77c-da80-41d6-a5f2-85a22676bfcf\" xlink:type=\"simple\"><path d=\"M133.33,76.35 C111.95,84.13 88.32,96.81 75,117 C66.07,130.53 63.94,148.12 64.4,163.71 \" fill=\"none\" id=\"E8&lt;-E3\" style=\"stroke: #383838; stroke-width: 1.0;\"/><polygon fill=\"#FFFFFF\" points=\"145.89,72.22,138.939,70.3009,134.494,75.9791,141.445,77.8982,145.89,72.22\" style=\"stroke: #383838; stroke-width: 1.0;\"/><text fill=\"#000000\" font-family=\"sans-serif\" font-size=\"13\" lengthAdjust=\"spacingAndGlyphs\" textLength=\"7\" x=\"76\" y=\"130.0669\">y</text></a><!--MD5=[03c8294790d3c57651a1993cecff665f]\n",
       "reverse link E8 to E3--><a href=\"psysml:a19db77c-da80-41d6-a5f2-85a22676bfcf\" target=\"_top\" title=\"psysml:a19db77c-da80-41d6-a5f2-85a22676bfcf\" xlink:actuate=\"onRequest\" xlink:href=\"psysml:a19db77c-da80-41d6-a5f2-85a22676bfcf\" xlink:show=\"new\" xlink:title=\"psysml:a19db77c-da80-41d6-a5f2-85a22676bfcf\" xlink:type=\"simple\"><path d=\"M143.35,96.28 C136.62,102.85 129.86,109.93 124,117 C112.05,131.41 100.57,148.61 91.29,163.69 \" fill=\"none\" id=\"E8&lt;-E3-1\" style=\"stroke: #383838; stroke-width: 1.0;\"/><polygon fill=\"#FFFFFF\" points=\"153.08,87.1,145.9702,88.3047,144.3478,95.331,151.4576,94.1262,153.08,87.1\" style=\"stroke: #383838; stroke-width: 1.0;\"/><text fill=\"#000000\" font-family=\"sans-serif\" font-size=\"13\" lengthAdjust=\"spacingAndGlyphs\" textLength=\"7\" x=\"125\" y=\"130.0669\">y</text></a><!--MD5=[03c8294790d3c57651a1993cecff665f]\n",
       "reverse link E8 to E3--><a href=\"psysml:a19db77c-da80-41d6-a5f2-85a22676bfcf\" target=\"_top\" title=\"psysml:a19db77c-da80-41d6-a5f2-85a22676bfcf\" xlink:actuate=\"onRequest\" xlink:href=\"psysml:a19db77c-da80-41d6-a5f2-85a22676bfcf\" xlink:show=\"new\" xlink:title=\"psysml:a19db77c-da80-41d6-a5f2-85a22676bfcf\" xlink:type=\"simple\"><path d=\"M158.49,98.17 C150.89,109.8 141.93,122.76 133,134 C123.86,145.5 113.16,157.39 103.19,167.9 \" fill=\"none\" id=\"E8&lt;-E3-2\" style=\"stroke: #383838; stroke-width: 1.0;\"/><polygon fill=\"#FFFFFF\" points=\"165.6,87.1,158.9946,89.9928,159.1242,97.2027,165.7297,94.3099,165.6,87.1\" style=\"stroke: #383838; stroke-width: 1.0;\"/><text fill=\"#000000\" font-family=\"sans-serif\" font-size=\"13\" lengthAdjust=\"spacingAndGlyphs\" textLength=\"7\" x=\"146\" y=\"130.0669\">y</text></a><!--MD5=[049ab558815ccadc2a7a6ffdb8f4a5ba]\n",
       "reverse link E8 to E5--><a href=\"psysml:a19db77c-da80-41d6-a5f2-85a22676bfcf\" target=\"_top\" title=\"psysml:a19db77c-da80-41d6-a5f2-85a22676bfcf\" xlink:actuate=\"onRequest\" xlink:href=\"psysml:a19db77c-da80-41d6-a5f2-85a22676bfcf\" xlink:show=\"new\" xlink:title=\"psysml:a19db77c-da80-41d6-a5f2-85a22676bfcf\" xlink:type=\"simple\"><path d=\"M197.26,99.16 C199.64,104.97 201.69,111.05 203,117 C204.62,124.38 203.15,126.45 203,134 C200.78,249.62 229.38,284.23 193,394 C189.58,404.31 184.06,414.48 178.01,423.66 \" fill=\"none\" id=\"E8&lt;-E5\" style=\"stroke: #383838; stroke-width: 1.0;\"/><polygon fill=\"#FFFFFF\" points=\"191.73,87.03,190.583,94.1493,196.7135,97.9463,197.8605,90.827,191.73,87.03\" style=\"stroke: #383838; stroke-width: 1.0;\"/><text fill=\"#000000\" font-family=\"sans-serif\" font-size=\"13\" lengthAdjust=\"spacingAndGlyphs\" textLength=\"7\" x=\"212\" y=\"283.0669\">y</text></a><!--MD5=[049ab558815ccadc2a7a6ffdb8f4a5ba]\n",
       "reverse link E8 to E5--><a href=\"psysml:a19db77c-da80-41d6-a5f2-85a22676bfcf\" target=\"_top\" title=\"psysml:a19db77c-da80-41d6-a5f2-85a22676bfcf\" xlink:actuate=\"onRequest\" xlink:href=\"psysml:a19db77c-da80-41d6-a5f2-85a22676bfcf\" xlink:show=\"new\" xlink:title=\"psysml:a19db77c-da80-41d6-a5f2-85a22676bfcf\" xlink:type=\"simple\"><path d=\"M171.02,99.85 C168.34,110.83 165.22,122.97 162,134 C144.13,195.25 126.36,207.04 116,270 C114.77,277.46 114.57,279.58 116,287 C118.72,301.1 124.37,303.11 128,317 C137.32,352.62 142.19,394.45 144.65,423.82 \" fill=\"none\" id=\"E8&lt;-E5-1\" style=\"stroke: #383838; stroke-width: 1.0;\"/><polygon fill=\"#FFFFFF\" points=\"174.04,87.19,168.7576,92.0987,171.257,98.8628,176.5394,93.9541,174.04,87.19\" style=\"stroke: #383838; stroke-width: 1.0;\"/><text fill=\"#000000\" font-family=\"sans-serif\" font-size=\"13\" lengthAdjust=\"spacingAndGlyphs\" textLength=\"7\" x=\"117\" y=\"283.0669\">y</text></a><!--MD5=[049ab558815ccadc2a7a6ffdb8f4a5ba]\n",
       "reverse link E8 to E5--><a href=\"psysml:a19db77c-da80-41d6-a5f2-85a22676bfcf\" target=\"_top\" title=\"psysml:a19db77c-da80-41d6-a5f2-85a22676bfcf\" xlink:actuate=\"onRequest\" xlink:href=\"psysml:a19db77c-da80-41d6-a5f2-85a22676bfcf\" xlink:show=\"new\" xlink:title=\"psysml:a19db77c-da80-41d6-a5f2-85a22676bfcf\" xlink:type=\"simple\"><path d=\"M176.15,100.27 C170.13,174.82 156.15,347.78 150,423.9 \" fill=\"none\" id=\"E8&lt;-E5-2\" style=\"stroke: #383838; stroke-width: 1.0;\"/><polygon fill=\"#FFFFFF\" points=\"177.21,87.14,172.7415,92.7998,176.2473,99.1013,180.7158,93.4416,177.21,87.14\" style=\"stroke: #383838; stroke-width: 1.0;\"/><text fill=\"#000000\" font-family=\"sans-serif\" font-size=\"13\" lengthAdjust=\"spacingAndGlyphs\" textLength=\"7\" x=\"163\" y=\"283.0669\">y</text></a><!--MD5=[9f79c841e36fb93b3eafe60f9bb01c6a]\n",
       "@startuml\r\n",
       " skinparam monochrome true\r\n",
       "skinparam classbackgroundcolor white\r\n",
       "skinparam shadowing false\r\n",
       "skinparam wrapWidth 300\r\n",
       "hide circle\r\n",
       "\r\n",
       "package \"PartTest\" as E1  [[psysml:c65cc0cd-28b1-4d7a-bc05-02136890ed9a ]]  {\r\n",
       "comp usage \"f: A\" as E2  <<(T,blue)part>> [[psysml:634826b2-2fc2-4798-92ed-071cd1dffdd8 ]] {\r\n",
       "}\r\n",
       "comp def \"A\" as E3  <<(T,blue)part def>> [[psysml:36aba5eb-a810-4976-a211-fcdfb7b330f5 ]] {\r\n",
       "- - ports - -\r\n",
       "c: C\r\n",
       "}\r\n",
       "comp usage \"b: B\" as E4  <<(T,blue)part>> [[psysml:b5150c44-d935-4f31-a69b-527c90fd7c47 ]] {\r\n",
       "}\r\n",
       "comp def \"B\" as E5  <<(T,blue)part def>> [[psysml:94fb1c4b-8096-4b0e-a0c8-00d5fe55de6c ]] {\r\n",
       "- - ports - -\r\n",
       "x: ~C\r\n",
       "}\r\n",
       "comp usage \"a: A\" as E6  <<(T,blue)part>> [[psysml:de084c60-8c86-4761-a316-7296396fb321 ]] {\r\n",
       "}\r\n",
       "package \"P\" as E7  [[psysml:4c76b494-1a6c-482d-b35c-aa72d24bc41e ]]  {\r\n",
       "}\r\n",
       "comp def \"C\" as E8  <<(T,blue)port def>> [[psysml:4c8e1ce2-7f9a-4661-9090-c510b6f01354 ]] {\r\n",
       "}\r\n",
       "E2 - -:|> E3 [[psysml:38cdc859-4dfa-4bc4-87cd-169dd5acc896 ]] \r\n",
       "E3 *- - E4 [[psysml:5ebdadf2-6044-45bc-aa24-2da7c79aba16 ]] \r\n",
       "E4 - -:|> E5 [[psysml:1fd8d685-c326-41aa-b421-a8308f20148e ]] \r\n",
       "E5 *- - E6 [[psysml:c471fe89-f766-40f3-82e0-5e28332f3a67 ]] \r\n",
       "E6 - -:|> E3 [[psysml:ce24e444-eb42-4eaa-91b0-86c1efe7ffc5 ]] \r\n",
       "E5 +- - E7 [[psysml:cabff1fd-5442-4a71-976e-341ac2e5dda1 ]] \r\n",
       "E8 o- - E3 [[psysml:a19db77c-da80-41d6-a5f2-85a22676bfcf ]] : y\r\n",
       "E8 o- - E5 [[psysml:a19db77c-da80-41d6-a5f2-85a22676bfcf ]] : y\r\n",
       "E8 o- - E3 [[psysml:a19db77c-da80-41d6-a5f2-85a22676bfcf ]] : y\r\n",
       "E8 o- - E5 [[psysml:a19db77c-da80-41d6-a5f2-85a22676bfcf ]] : y\r\n",
       "E8 o- - E3 [[psysml:a19db77c-da80-41d6-a5f2-85a22676bfcf ]] : y\r\n",
       "E8 o- - E5 [[psysml:a19db77c-da80-41d6-a5f2-85a22676bfcf ]] : y\r\n",
       "}\r\n",
       "@enduml\r\n",
       "\n",
       "PlantUML version 1.2020.13(Sat Jun 13 12:26:38 UTC 2020)\n",
       "(EPL source distribution)\n",
       "Java Runtime: OpenJDK Runtime Environment\n",
       "JVM: OpenJDK 64-Bit Server VM\n",
       "Default Encoding: UTF-8\n",
       "Language: en\n",
       "Country: null\n",
       "--></g></svg>"
      ]
     },
     "execution_count": 7,
     "metadata": {},
     "output_type": "execute_result"
    }
   ],
   "source": [
    "%viz --style=\"COMPTREE\" --view=\"Sequence\" \"PartTest\""
   ]
  },
  {
   "cell_type": "code",
   "execution_count": 8,
   "id": "73a8989c",
   "metadata": {
    "execution": {
     "iopub.execute_input": "2021-04-20T07:29:10.640872Z",
     "iopub.status.busy": "2021-04-20T07:29:10.640327Z",
     "iopub.status.idle": "2021-04-20T07:29:10.732392Z",
     "shell.execute_reply": "2021-04-20T07:29:10.732802Z"
    }
   },
   "outputs": [
    {
     "data": {
      "image/svg+xml": [
       "<?xml version=\"1.0\" encoding=\"UTF-8\" standalone=\"no\"?><svg xmlns=\"http://www.w3.org/2000/svg\" xmlns:xlink=\"http://www.w3.org/1999/xlink\" contentScriptType=\"application/ecmascript\" contentStyleType=\"text/css\" height=\"642px\" preserveAspectRatio=\"none\" style=\"width:260px;height:642px;\" version=\"1.1\" viewBox=\"0 0 260 642\" width=\"260px\" zoomAndPan=\"magnify\"><defs/><g><!--MD5=[fbc87193dbaf4d95561dea2c320d4a47]\n",
       "cluster E1--><a href=\"psysml:c65cc0cd-28b1-4d7a-bc05-02136890ed9a\" target=\"_top\" title=\"psysml:c65cc0cd-28b1-4d7a-bc05-02136890ed9a\" xlink:actuate=\"onRequest\" xlink:href=\"psysml:c65cc0cd-28b1-4d7a-bc05-02136890ed9a\" xlink:show=\"new\" xlink:title=\"psysml:c65cc0cd-28b1-4d7a-bc05-02136890ed9a\" xlink:type=\"simple\"><polygon fill=\"#FFFFFF\" points=\"16,6,89,6,96,28.2969,238,28.2969,238,630,16,630,16,6\" style=\"stroke: #000000; stroke-width: 1.5;\"/><line style=\"stroke: #000000; stroke-width: 1.5;\" x1=\"16\" x2=\"96\" y1=\"28.2969\" y2=\"28.2969\"/><text fill=\"#000000\" font-family=\"sans-serif\" font-size=\"14\" font-weight=\"bold\" lengthAdjust=\"spacingAndGlyphs\" textLength=\"67\" x=\"20\" y=\"20.9951\">PartTest</text></a><!--MD5=[b4997ac47864f28c2f74865a473b2911]\n",
       "class E2--><a href=\"psysml:634826b2-2fc2-4798-92ed-071cd1dffdd8\" target=\"_top\" title=\"psysml:634826b2-2fc2-4798-92ed-071cd1dffdd8\" xlink:actuate=\"onRequest\" xlink:href=\"psysml:634826b2-2fc2-4798-92ed-071cd1dffdd8\" xlink:show=\"new\" xlink:title=\"psysml:634826b2-2fc2-4798-92ed-071cd1dffdd8\" xlink:type=\"simple\"><rect fill=\"#FFFFFF\" height=\"45.9375\" id=\"E2\" rx=\"10\" ry=\"10\" style=\"stroke: #383838; stroke-width: 1.5;\" width=\"42\" x=\"32\" y=\"41\"/><text fill=\"#000000\" font-family=\"sans-serif\" font-size=\"12\" font-style=\"italic\" lengthAdjust=\"spacingAndGlyphs\" textLength=\"40\" x=\"33\" y=\"57.1387\">«part»</text><text fill=\"#000000\" font-family=\"sans-serif\" font-size=\"12\" lengthAdjust=\"spacingAndGlyphs\" textLength=\"20\" x=\"43\" y=\"71.1074\">f: A</text><line style=\"stroke: #383838; stroke-width: 1.5;\" x1=\"33\" x2=\"73\" y1=\"78.9375\" y2=\"78.9375\"/></a><!--MD5=[09b614a08d8cba4a07c9adeb5e0fee81]\n",
       "class E3--><a href=\"psysml:36aba5eb-a810-4976-a211-fcdfb7b330f5\" target=\"_top\" title=\"psysml:36aba5eb-a810-4976-a211-fcdfb7b330f5\" xlink:actuate=\"onRequest\" xlink:href=\"psysml:36aba5eb-a810-4976-a211-fcdfb7b330f5\" xlink:show=\"new\" xlink:title=\"psysml:36aba5eb-a810-4976-a211-fcdfb7b330f5\" xlink:type=\"simple\"><rect fill=\"#FFFFFF\" height=\"75.5469\" id=\"E3\" style=\"stroke: #383838; stroke-width: 1.5;\" width=\"66\" x=\"37\" y=\"164\"/><text fill=\"#000000\" font-family=\"sans-serif\" font-size=\"12\" font-style=\"italic\" lengthAdjust=\"spacingAndGlyphs\" textLength=\"64\" x=\"38\" y=\"180.1387\">«part def»</text><text fill=\"#000000\" font-family=\"sans-serif\" font-size=\"12\" lengthAdjust=\"spacingAndGlyphs\" textLength=\"8\" x=\"66\" y=\"194.1074\">A</text><line style=\"stroke: #383838; stroke-width: 1.5;\" x1=\"38\" x2=\"102\" y1=\"201.9375\" y2=\"201.9375\"/><text fill=\"#000000\" font-family=\"sans-serif\" font-size=\"11\" lengthAdjust=\"spacingAndGlyphs\" textLength=\"22\" x=\"43\" y=\"232.9526\">c: C</text><line style=\"stroke: #383838; stroke-width: 1.0;\" x1=\"38\" x2=\"55\" y1=\"216.3398\" y2=\"216.3398\"/><text fill=\"#000000\" font-family=\"sans-serif\" font-size=\"11\" lengthAdjust=\"spacingAndGlyphs\" textLength=\"30\" x=\"55\" y=\"219.6479\">ports</text><line style=\"stroke: #383838; stroke-width: 1.0;\" x1=\"85\" x2=\"102\" y1=\"216.3398\" y2=\"216.3398\"/></a><!--MD5=[ebbe1d658d1005bcc118a6aa81145e00]\n",
       "class E4--><a href=\"psysml:b5150c44-d935-4f31-a69b-527c90fd7c47\" target=\"_top\" title=\"psysml:b5150c44-d935-4f31-a69b-527c90fd7c47\" xlink:actuate=\"onRequest\" xlink:href=\"psysml:b5150c44-d935-4f31-a69b-527c90fd7c47\" xlink:show=\"new\" xlink:title=\"psysml:b5150c44-d935-4f31-a69b-527c90fd7c47\" xlink:type=\"simple\"><rect fill=\"#FFFFFF\" height=\"45.9375\" id=\"E4\" rx=\"10\" ry=\"10\" style=\"stroke: #383838; stroke-width: 1.5;\" width=\"42\" x=\"69\" y=\"317\"/><text fill=\"#000000\" font-family=\"sans-serif\" font-size=\"12\" font-style=\"italic\" lengthAdjust=\"spacingAndGlyphs\" textLength=\"40\" x=\"70\" y=\"333.1387\">«part»</text><text fill=\"#000000\" font-family=\"sans-serif\" font-size=\"12\" lengthAdjust=\"spacingAndGlyphs\" textLength=\"24\" x=\"78\" y=\"347.1074\">b: B</text><line style=\"stroke: #383838; stroke-width: 1.5;\" x1=\"70\" x2=\"110\" y1=\"354.9375\" y2=\"354.9375\"/></a><!--MD5=[270fce915f116d4de14055a7c1d9a0f3]\n",
       "class E5--><a href=\"psysml:94fb1c4b-8096-4b0e-a0c8-00d5fe55de6c\" target=\"_top\" title=\"psysml:94fb1c4b-8096-4b0e-a0c8-00d5fe55de6c\" xlink:actuate=\"onRequest\" xlink:href=\"psysml:94fb1c4b-8096-4b0e-a0c8-00d5fe55de6c\" xlink:show=\"new\" xlink:title=\"psysml:94fb1c4b-8096-4b0e-a0c8-00d5fe55de6c\" xlink:type=\"simple\"><rect fill=\"#FFFFFF\" height=\"75.5469\" id=\"E5\" style=\"stroke: #383838; stroke-width: 1.5;\" width=\"66\" x=\"114\" y=\"424\"/><text fill=\"#000000\" font-family=\"sans-serif\" font-size=\"12\" font-style=\"italic\" lengthAdjust=\"spacingAndGlyphs\" textLength=\"64\" x=\"115\" y=\"440.1387\">«part def»</text><text fill=\"#000000\" font-family=\"sans-serif\" font-size=\"12\" lengthAdjust=\"spacingAndGlyphs\" textLength=\"8\" x=\"143\" y=\"454.1074\">B</text><line style=\"stroke: #383838; stroke-width: 1.5;\" x1=\"115\" x2=\"179\" y1=\"461.9375\" y2=\"461.9375\"/><text fill=\"#000000\" font-family=\"sans-serif\" font-size=\"11\" lengthAdjust=\"spacingAndGlyphs\" textLength=\"31\" x=\"120\" y=\"492.9526\">x: ~C</text><line style=\"stroke: #383838; stroke-width: 1.0;\" x1=\"115\" x2=\"132\" y1=\"476.3398\" y2=\"476.3398\"/><text fill=\"#000000\" font-family=\"sans-serif\" font-size=\"11\" lengthAdjust=\"spacingAndGlyphs\" textLength=\"30\" x=\"132\" y=\"479.6479\">ports</text><line style=\"stroke: #383838; stroke-width: 1.0;\" x1=\"162\" x2=\"179\" y1=\"476.3398\" y2=\"476.3398\"/></a><!--MD5=[60a26617385b1d2d0262a64233df1f8d]\n",
       "class E6--><a href=\"psysml:de084c60-8c86-4761-a316-7296396fb321\" target=\"_top\" title=\"psysml:de084c60-8c86-4761-a316-7296396fb321\" xlink:actuate=\"onRequest\" xlink:href=\"psysml:de084c60-8c86-4761-a316-7296396fb321\" xlink:show=\"new\" xlink:title=\"psysml:de084c60-8c86-4761-a316-7296396fb321\" xlink:type=\"simple\"><rect fill=\"#FFFFFF\" height=\"45.9375\" id=\"E6\" rx=\"10\" ry=\"10\" style=\"stroke: #383838; stroke-width: 1.5;\" width=\"42\" x=\"44\" y=\"564.5\"/><text fill=\"#000000\" font-family=\"sans-serif\" font-size=\"12\" font-style=\"italic\" lengthAdjust=\"spacingAndGlyphs\" textLength=\"40\" x=\"45\" y=\"580.6387\">«part»</text><text fill=\"#000000\" font-family=\"sans-serif\" font-size=\"12\" lengthAdjust=\"spacingAndGlyphs\" textLength=\"24\" x=\"53\" y=\"594.6074\">a: A</text><line style=\"stroke: #383838; stroke-width: 1.5;\" x1=\"45\" x2=\"85\" y1=\"602.4375\" y2=\"602.4375\"/></a><!--MD5=[b9389687b975829384b498ac4b7476b2]\n",
       "class E8--><a href=\"psysml:4c8e1ce2-7f9a-4661-9090-c510b6f01354\" target=\"_top\" title=\"psysml:4c8e1ce2-7f9a-4661-9090-c510b6f01354\" xlink:actuate=\"onRequest\" xlink:href=\"psysml:4c8e1ce2-7f9a-4661-9090-c510b6f01354\" xlink:show=\"new\" xlink:title=\"psysml:4c8e1ce2-7f9a-4661-9090-c510b6f01354\" xlink:type=\"simple\"><rect fill=\"#FFFFFF\" height=\"45.9375\" id=\"E8\" style=\"stroke: #383838; stroke-width: 1.5;\" width=\"66\" x=\"146\" y=\"41\"/><text fill=\"#000000\" font-family=\"sans-serif\" font-size=\"12\" font-style=\"italic\" lengthAdjust=\"spacingAndGlyphs\" textLength=\"64\" x=\"147\" y=\"57.1387\">«port def»</text><text fill=\"#000000\" font-family=\"sans-serif\" font-size=\"12\" lengthAdjust=\"spacingAndGlyphs\" textLength=\"8\" x=\"175\" y=\"71.1074\">C</text><line style=\"stroke: #383838; stroke-width: 1.5;\" x1=\"147\" x2=\"211\" y1=\"78.9375\" y2=\"78.9375\"/></a><a href=\"psysml:4c76b494-1a6c-482d-b35c-aa72d24bc41e\" target=\"_top\" title=\"psysml:4c76b494-1a6c-482d-b35c-aa72d24bc41e\" xlink:actuate=\"onRequest\" xlink:href=\"psysml:4c76b494-1a6c-482d-b35c-aa72d24bc41e\" xlink:show=\"new\" xlink:title=\"psysml:4c76b494-1a6c-482d-b35c-aa72d24bc41e\" xlink:type=\"simple\"><polygon fill=\"#FFFFFF\" points=\"132,561,148,561,155,583.2969,162,583.2969,162,613.5938,132,613.5938,132,561\" style=\"stroke: #000000; stroke-width: 1.5;\"/><line style=\"stroke: #000000; stroke-width: 1.5;\" x1=\"132\" x2=\"155\" y1=\"583.2969\" y2=\"583.2969\"/><text fill=\"#000000\" font-family=\"sans-serif\" font-size=\"14\" font-weight=\"bold\" lengthAdjust=\"spacingAndGlyphs\" textLength=\"10\" x=\"136\" y=\"575.9951\">P</text></a><!--MD5=[2720a5a1f2c3fca2055b230370638851]\n",
       "link E2 to E3--><a href=\"psysml:38cdc859-4dfa-4bc4-87cd-169dd5acc896\" target=\"_top\" title=\"psysml:38cdc859-4dfa-4bc4-87cd-169dd5acc896\" xlink:actuate=\"onRequest\" xlink:href=\"psysml:38cdc859-4dfa-4bc4-87cd-169dd5acc896\" xlink:show=\"new\" xlink:title=\"psysml:38cdc859-4dfa-4bc4-87cd-169dd5acc896\" xlink:type=\"simple\"><path d=\"M43.23,87.08 C38.46,100.64 34.45,118.34 38,134 C38.82,137.61 39.86,141.26 41.06,144.89 \" fill=\"none\" id=\"E2-&gt;E3\" style=\"stroke: #383838; stroke-width: 1.0;\"/><polygon fill=\"#FFFFFF\" points=\"48.65,163.8,35.0703,148.7803,48.0607,143.5601,48.65,163.8\" style=\"stroke: #383838; stroke-width: 1.0;\"/><ellipse cx=\"34.8007\" cy=\"142.7456\" fill=\"#383838\" rx=\"2\" ry=\"2\" style=\"stroke: #383838; stroke-width: 1.0;\"/><ellipse cx=\"44.0796\" cy=\"139.0169\" fill=\"#383838\" rx=\"2\" ry=\"2\" style=\"stroke: #383838; stroke-width: 1.0;\"/></a><!--MD5=[4672eba38e49728da53d11aeb285b987]\n",
       "reverse link E3 to E4--><a href=\"psysml:5ebdadf2-6044-45bc-aa24-2da7c79aba16\" target=\"_top\" title=\"psysml:5ebdadf2-6044-45bc-aa24-2da7c79aba16\" xlink:actuate=\"onRequest\" xlink:href=\"psysml:5ebdadf2-6044-45bc-aa24-2da7c79aba16\" xlink:show=\"new\" xlink:title=\"psysml:5ebdadf2-6044-45bc-aa24-2da7c79aba16\" xlink:type=\"simple\"><path d=\"M72.88,253.51 C73.88,264.59 75.22,276.22 77,287 C78.64,296.92 81.21,307.72 83.63,316.9 \" fill=\"none\" id=\"E3&lt;-E4\" style=\"stroke: #383838; stroke-width: 1.0;\"/><polygon fill=\"#383838\" points=\"71.81,240.38,68.3042,246.6816,72.7727,252.3413,76.2785,246.0398,71.81,240.38\" style=\"stroke: #383838; stroke-width: 1.0;\"/></a><!--MD5=[1b7591eae5389033d8d09a9d6721a717]\n",
       "link E4 to E5--><a href=\"psysml:1fd8d685-c326-41aa-b421-a8308f20148e\" target=\"_top\" title=\"psysml:1fd8d685-c326-41aa-b421-a8308f20148e\" xlink:actuate=\"onRequest\" xlink:href=\"psysml:1fd8d685-c326-41aa-b421-a8308f20148e\" xlink:show=\"new\" xlink:title=\"psysml:1fd8d685-c326-41aa-b421-a8308f20148e\" xlink:type=\"simple\"><path d=\"M100.45,363.01 C106.1,374.9 113.36,390.18 120.46,405.12 \" fill=\"none\" id=\"E4-&gt;E5\" style=\"stroke: #383838; stroke-width: 1.0;\"/><polygon fill=\"#FFFFFF\" points=\"129.22,423.57,114.7395,409.4167,127.3831,403.405,129.22,423.57\" style=\"stroke: #383838; stroke-width: 1.0;\"/><ellipse cx=\"114.0981\" cy=\"403.4102\" fill=\"#383838\" rx=\"2\" ry=\"2\" style=\"stroke: #383838; stroke-width: 1.0;\"/><ellipse cx=\"123.1292\" cy=\"399.1161\" fill=\"#383838\" rx=\"2\" ry=\"2\" style=\"stroke: #383838; stroke-width: 1.0;\"/></a><!--MD5=[85d356282659285ab4b2cfe2f634dd2b]\n",
       "reverse link E5 to E6--><a href=\"psysml:c471fe89-f766-40f3-82e0-5e28332f3a67\" target=\"_top\" title=\"psysml:c471fe89-f766-40f3-82e0-5e28332f3a67\" xlink:actuate=\"onRequest\" xlink:href=\"psysml:c471fe89-f766-40f3-82e0-5e28332f3a67\" xlink:show=\"new\" xlink:title=\"psysml:c471fe89-f766-40f3-82e0-5e28332f3a67\" xlink:type=\"simple\"><path d=\"M115.19,510.9 C103,529.26 89.67,549.34 79.81,564.19 \" fill=\"none\" id=\"E5&lt;-E6\" style=\"stroke: #383838; stroke-width: 1.0;\"/><polygon fill=\"#383838\" points=\"122.4,500.05,115.7495,502.8377,115.7649,510.0488,122.4154,507.2611,122.4,500.05\" style=\"stroke: #383838; stroke-width: 1.0;\"/></a><!--MD5=[a717450b82c80b9240a525fa862496af]\n",
       "link E6 to E3--><a href=\"psysml:ce24e444-eb42-4eaa-91b0-86c1efe7ffc5\" target=\"_top\" title=\"psysml:ce24e444-eb42-4eaa-91b0-86c1efe7ffc5\" xlink:actuate=\"onRequest\" xlink:href=\"psysml:ce24e444-eb42-4eaa-91b0-86c1efe7ffc5\" xlink:show=\"new\" xlink:title=\"psysml:ce24e444-eb42-4eaa-91b0-86c1efe7ffc5\" xlink:type=\"simple\"><path d=\"M61.85,564.46 C55.72,518.43 43.41,408.75 51,317 C52.55,298.29 55.5,278.02 58.63,259.84 \" fill=\"none\" id=\"E6-&gt;E3\" style=\"stroke: #383838; stroke-width: 1.0;\"/><polygon fill=\"#FFFFFF\" points=\"62.24,240.03,65.7193,259.9773,51.9463,257.4667,62.24,240.03\" style=\"stroke: #383838; stroke-width: 1.0;\"/><ellipse cx=\"62.7296\" cy=\"265.2262\" fill=\"#383838\" rx=\"2\" ry=\"2\" style=\"stroke: #383838; stroke-width: 1.0;\"/><ellipse cx=\"52.8917\" cy=\"263.433\" fill=\"#383838\" rx=\"2\" ry=\"2\" style=\"stroke: #383838; stroke-width: 1.0;\"/></a><!--MD5=[452b418e7f8a40397a49b8c0a78acc5b]\n",
       "reverse link E5 to E7--><a href=\"psysml:cabff1fd-5442-4a71-976e-341ac2e5dda1\" target=\"_top\" title=\"psysml:cabff1fd-5442-4a71-976e-341ac2e5dda1\" xlink:actuate=\"onRequest\" xlink:href=\"psysml:cabff1fd-5442-4a71-976e-341ac2e5dda1\" xlink:show=\"new\" xlink:title=\"psysml:cabff1fd-5442-4a71-976e-341ac2e5dda1\" xlink:type=\"simple\"><path d=\"M147,515.35 C147,531.08 147,547.65 147,560.83 \" fill=\"none\" id=\"E5&lt;-E7\" style=\"stroke: #383838; stroke-width: 1.0;\"/><ellipse cx=\"147\" cy=\"508.05\" fill=\"#FFFFFF\" rx=\"8\" ry=\"8\" style=\"stroke: #383838; stroke-width: 1.0;\"/><line style=\"stroke: #383838; stroke-width: 1.0;\" x1=\"147\" x2=\"147\" y1=\"516.05\" y2=\"500.05\"/><line style=\"stroke: #383838; stroke-width: 1.0;\" x1=\"139\" x2=\"155\" y1=\"508.05\" y2=\"508.05\"/></a><!--MD5=[03c8294790d3c57651a1993cecff665f]\n",
       "reverse link E8 to E3--><a href=\"psysml:a19db77c-da80-41d6-a5f2-85a22676bfcf\" target=\"_top\" title=\"psysml:a19db77c-da80-41d6-a5f2-85a22676bfcf\" xlink:actuate=\"onRequest\" xlink:href=\"psysml:a19db77c-da80-41d6-a5f2-85a22676bfcf\" xlink:show=\"new\" xlink:title=\"psysml:a19db77c-da80-41d6-a5f2-85a22676bfcf\" xlink:type=\"simple\"><path d=\"M133.33,76.35 C111.95,84.13 88.32,96.81 75,117 C66.07,130.53 63.94,148.12 64.4,163.71 \" fill=\"none\" id=\"E8&lt;-E3\" style=\"stroke: #383838; stroke-width: 1.0;\"/><polygon fill=\"#FFFFFF\" points=\"145.89,72.22,138.939,70.3009,134.494,75.9791,141.445,77.8982,145.89,72.22\" style=\"stroke: #383838; stroke-width: 1.0;\"/><text fill=\"#000000\" font-family=\"sans-serif\" font-size=\"13\" lengthAdjust=\"spacingAndGlyphs\" textLength=\"7\" x=\"76\" y=\"130.0669\">y</text></a><!--MD5=[03c8294790d3c57651a1993cecff665f]\n",
       "reverse link E8 to E3--><a href=\"psysml:a19db77c-da80-41d6-a5f2-85a22676bfcf\" target=\"_top\" title=\"psysml:a19db77c-da80-41d6-a5f2-85a22676bfcf\" xlink:actuate=\"onRequest\" xlink:href=\"psysml:a19db77c-da80-41d6-a5f2-85a22676bfcf\" xlink:show=\"new\" xlink:title=\"psysml:a19db77c-da80-41d6-a5f2-85a22676bfcf\" xlink:type=\"simple\"><path d=\"M143.35,96.28 C136.62,102.85 129.86,109.93 124,117 C112.05,131.41 100.57,148.61 91.29,163.69 \" fill=\"none\" id=\"E8&lt;-E3-1\" style=\"stroke: #383838; stroke-width: 1.0;\"/><polygon fill=\"#FFFFFF\" points=\"153.08,87.1,145.9702,88.3047,144.3478,95.331,151.4576,94.1262,153.08,87.1\" style=\"stroke: #383838; stroke-width: 1.0;\"/><text fill=\"#000000\" font-family=\"sans-serif\" font-size=\"13\" lengthAdjust=\"spacingAndGlyphs\" textLength=\"7\" x=\"125\" y=\"130.0669\">y</text></a><!--MD5=[03c8294790d3c57651a1993cecff665f]\n",
       "reverse link E8 to E3--><a href=\"psysml:a19db77c-da80-41d6-a5f2-85a22676bfcf\" target=\"_top\" title=\"psysml:a19db77c-da80-41d6-a5f2-85a22676bfcf\" xlink:actuate=\"onRequest\" xlink:href=\"psysml:a19db77c-da80-41d6-a5f2-85a22676bfcf\" xlink:show=\"new\" xlink:title=\"psysml:a19db77c-da80-41d6-a5f2-85a22676bfcf\" xlink:type=\"simple\"><path d=\"M158.49,98.17 C150.89,109.8 141.93,122.76 133,134 C123.86,145.5 113.16,157.39 103.19,167.9 \" fill=\"none\" id=\"E8&lt;-E3-2\" style=\"stroke: #383838; stroke-width: 1.0;\"/><polygon fill=\"#FFFFFF\" points=\"165.6,87.1,158.9946,89.9928,159.1242,97.2027,165.7297,94.3099,165.6,87.1\" style=\"stroke: #383838; stroke-width: 1.0;\"/><text fill=\"#000000\" font-family=\"sans-serif\" font-size=\"13\" lengthAdjust=\"spacingAndGlyphs\" textLength=\"7\" x=\"146\" y=\"130.0669\">y</text></a><!--MD5=[049ab558815ccadc2a7a6ffdb8f4a5ba]\n",
       "reverse link E8 to E5--><a href=\"psysml:a19db77c-da80-41d6-a5f2-85a22676bfcf\" target=\"_top\" title=\"psysml:a19db77c-da80-41d6-a5f2-85a22676bfcf\" xlink:actuate=\"onRequest\" xlink:href=\"psysml:a19db77c-da80-41d6-a5f2-85a22676bfcf\" xlink:show=\"new\" xlink:title=\"psysml:a19db77c-da80-41d6-a5f2-85a22676bfcf\" xlink:type=\"simple\"><path d=\"M197.26,99.16 C199.64,104.97 201.69,111.05 203,117 C204.62,124.38 203.15,126.45 203,134 C200.78,249.62 229.38,284.23 193,394 C189.58,404.31 184.06,414.48 178.01,423.66 \" fill=\"none\" id=\"E8&lt;-E5\" style=\"stroke: #383838; stroke-width: 1.0;\"/><polygon fill=\"#FFFFFF\" points=\"191.73,87.03,190.583,94.1493,196.7135,97.9463,197.8605,90.827,191.73,87.03\" style=\"stroke: #383838; stroke-width: 1.0;\"/><text fill=\"#000000\" font-family=\"sans-serif\" font-size=\"13\" lengthAdjust=\"spacingAndGlyphs\" textLength=\"7\" x=\"212\" y=\"283.0669\">y</text></a><!--MD5=[049ab558815ccadc2a7a6ffdb8f4a5ba]\n",
       "reverse link E8 to E5--><a href=\"psysml:a19db77c-da80-41d6-a5f2-85a22676bfcf\" target=\"_top\" title=\"psysml:a19db77c-da80-41d6-a5f2-85a22676bfcf\" xlink:actuate=\"onRequest\" xlink:href=\"psysml:a19db77c-da80-41d6-a5f2-85a22676bfcf\" xlink:show=\"new\" xlink:title=\"psysml:a19db77c-da80-41d6-a5f2-85a22676bfcf\" xlink:type=\"simple\"><path d=\"M171.02,99.85 C168.34,110.83 165.22,122.97 162,134 C144.13,195.25 126.36,207.04 116,270 C114.77,277.46 114.57,279.58 116,287 C118.72,301.1 124.37,303.11 128,317 C137.32,352.62 142.19,394.45 144.65,423.82 \" fill=\"none\" id=\"E8&lt;-E5-1\" style=\"stroke: #383838; stroke-width: 1.0;\"/><polygon fill=\"#FFFFFF\" points=\"174.04,87.19,168.7576,92.0987,171.257,98.8628,176.5394,93.9541,174.04,87.19\" style=\"stroke: #383838; stroke-width: 1.0;\"/><text fill=\"#000000\" font-family=\"sans-serif\" font-size=\"13\" lengthAdjust=\"spacingAndGlyphs\" textLength=\"7\" x=\"117\" y=\"283.0669\">y</text></a><!--MD5=[049ab558815ccadc2a7a6ffdb8f4a5ba]\n",
       "reverse link E8 to E5--><a href=\"psysml:a19db77c-da80-41d6-a5f2-85a22676bfcf\" target=\"_top\" title=\"psysml:a19db77c-da80-41d6-a5f2-85a22676bfcf\" xlink:actuate=\"onRequest\" xlink:href=\"psysml:a19db77c-da80-41d6-a5f2-85a22676bfcf\" xlink:show=\"new\" xlink:title=\"psysml:a19db77c-da80-41d6-a5f2-85a22676bfcf\" xlink:type=\"simple\"><path d=\"M176.15,100.27 C170.13,174.82 156.15,347.78 150,423.9 \" fill=\"none\" id=\"E8&lt;-E5-2\" style=\"stroke: #383838; stroke-width: 1.0;\"/><polygon fill=\"#FFFFFF\" points=\"177.21,87.14,172.7415,92.7998,176.2473,99.1013,180.7158,93.4416,177.21,87.14\" style=\"stroke: #383838; stroke-width: 1.0;\"/><text fill=\"#000000\" font-family=\"sans-serif\" font-size=\"13\" lengthAdjust=\"spacingAndGlyphs\" textLength=\"7\" x=\"163\" y=\"283.0669\">y</text></a><!--MD5=[9f79c841e36fb93b3eafe60f9bb01c6a]\n",
       "@startuml\r\n",
       " skinparam monochrome true\r\n",
       "skinparam classbackgroundcolor white\r\n",
       "skinparam shadowing false\r\n",
       "skinparam wrapWidth 300\r\n",
       "hide circle\r\n",
       "\r\n",
       "package \"PartTest\" as E1  [[psysml:c65cc0cd-28b1-4d7a-bc05-02136890ed9a ]]  {\r\n",
       "comp usage \"f: A\" as E2  <<(T,blue)part>> [[psysml:634826b2-2fc2-4798-92ed-071cd1dffdd8 ]] {\r\n",
       "}\r\n",
       "comp def \"A\" as E3  <<(T,blue)part def>> [[psysml:36aba5eb-a810-4976-a211-fcdfb7b330f5 ]] {\r\n",
       "- - ports - -\r\n",
       "c: C\r\n",
       "}\r\n",
       "comp usage \"b: B\" as E4  <<(T,blue)part>> [[psysml:b5150c44-d935-4f31-a69b-527c90fd7c47 ]] {\r\n",
       "}\r\n",
       "comp def \"B\" as E5  <<(T,blue)part def>> [[psysml:94fb1c4b-8096-4b0e-a0c8-00d5fe55de6c ]] {\r\n",
       "- - ports - -\r\n",
       "x: ~C\r\n",
       "}\r\n",
       "comp usage \"a: A\" as E6  <<(T,blue)part>> [[psysml:de084c60-8c86-4761-a316-7296396fb321 ]] {\r\n",
       "}\r\n",
       "package \"P\" as E7  [[psysml:4c76b494-1a6c-482d-b35c-aa72d24bc41e ]]  {\r\n",
       "}\r\n",
       "comp def \"C\" as E8  <<(T,blue)port def>> [[psysml:4c8e1ce2-7f9a-4661-9090-c510b6f01354 ]] {\r\n",
       "}\r\n",
       "E2 - -:|> E3 [[psysml:38cdc859-4dfa-4bc4-87cd-169dd5acc896 ]] \r\n",
       "E3 *- - E4 [[psysml:5ebdadf2-6044-45bc-aa24-2da7c79aba16 ]] \r\n",
       "E4 - -:|> E5 [[psysml:1fd8d685-c326-41aa-b421-a8308f20148e ]] \r\n",
       "E5 *- - E6 [[psysml:c471fe89-f766-40f3-82e0-5e28332f3a67 ]] \r\n",
       "E6 - -:|> E3 [[psysml:ce24e444-eb42-4eaa-91b0-86c1efe7ffc5 ]] \r\n",
       "E5 +- - E7 [[psysml:cabff1fd-5442-4a71-976e-341ac2e5dda1 ]] \r\n",
       "E8 o- - E3 [[psysml:a19db77c-da80-41d6-a5f2-85a22676bfcf ]] : y\r\n",
       "E8 o- - E5 [[psysml:a19db77c-da80-41d6-a5f2-85a22676bfcf ]] : y\r\n",
       "E8 o- - E3 [[psysml:a19db77c-da80-41d6-a5f2-85a22676bfcf ]] : y\r\n",
       "E8 o- - E5 [[psysml:a19db77c-da80-41d6-a5f2-85a22676bfcf ]] : y\r\n",
       "E8 o- - E3 [[psysml:a19db77c-da80-41d6-a5f2-85a22676bfcf ]] : y\r\n",
       "E8 o- - E5 [[psysml:a19db77c-da80-41d6-a5f2-85a22676bfcf ]] : y\r\n",
       "}\r\n",
       "@enduml\r\n",
       "\n",
       "PlantUML version 1.2020.13(Sat Jun 13 12:26:38 UTC 2020)\n",
       "(EPL source distribution)\n",
       "Java Runtime: OpenJDK Runtime Environment\n",
       "JVM: OpenJDK 64-Bit Server VM\n",
       "Default Encoding: UTF-8\n",
       "Language: en\n",
       "Country: null\n",
       "--></g></svg>"
      ]
     },
     "execution_count": 8,
     "metadata": {},
     "output_type": "execute_result"
    }
   ],
   "source": [
    "%viz --style=\"COMPTREE\" --view=\"MIXED\" \"PartTest\""
   ]
  },
  {
   "cell_type": "code",
   "execution_count": 9,
   "id": "25f413c3",
   "metadata": {
    "execution": {
     "iopub.execute_input": "2021-04-20T07:29:10.792648Z",
     "iopub.status.busy": "2021-04-20T07:29:10.787849Z",
     "iopub.status.idle": "2021-04-20T07:29:10.937143Z",
     "shell.execute_reply": "2021-04-20T07:29:10.933266Z"
    }
   },
   "outputs": [
    {
     "data": {
      "image/svg+xml": [
       "<?xml version=\"1.0\" encoding=\"UTF-8\" standalone=\"no\"?><svg xmlns=\"http://www.w3.org/2000/svg\" xmlns:xlink=\"http://www.w3.org/1999/xlink\" contentScriptType=\"application/ecmascript\" contentStyleType=\"text/css\" height=\"642px\" preserveAspectRatio=\"none\" style=\"width:260px;height:642px;\" version=\"1.1\" viewBox=\"0 0 260 642\" width=\"260px\" zoomAndPan=\"magnify\"><defs/><g><!--MD5=[fbc87193dbaf4d95561dea2c320d4a47]\n",
       "cluster E1--><a href=\"psysml:c65cc0cd-28b1-4d7a-bc05-02136890ed9a\" target=\"_top\" title=\"psysml:c65cc0cd-28b1-4d7a-bc05-02136890ed9a\" xlink:actuate=\"onRequest\" xlink:href=\"psysml:c65cc0cd-28b1-4d7a-bc05-02136890ed9a\" xlink:show=\"new\" xlink:title=\"psysml:c65cc0cd-28b1-4d7a-bc05-02136890ed9a\" xlink:type=\"simple\"><polygon fill=\"#FFFFFF\" points=\"16,6,89,6,96,28.2969,238,28.2969,238,630,16,630,16,6\" style=\"stroke: #000000; stroke-width: 1.5;\"/><line style=\"stroke: #000000; stroke-width: 1.5;\" x1=\"16\" x2=\"96\" y1=\"28.2969\" y2=\"28.2969\"/><text fill=\"#000000\" font-family=\"sans-serif\" font-size=\"14\" font-weight=\"bold\" lengthAdjust=\"spacingAndGlyphs\" textLength=\"67\" x=\"20\" y=\"20.9951\">PartTest</text></a><!--MD5=[b4997ac47864f28c2f74865a473b2911]\n",
       "class E2--><a href=\"psysml:634826b2-2fc2-4798-92ed-071cd1dffdd8\" target=\"_top\" title=\"psysml:634826b2-2fc2-4798-92ed-071cd1dffdd8\" xlink:actuate=\"onRequest\" xlink:href=\"psysml:634826b2-2fc2-4798-92ed-071cd1dffdd8\" xlink:show=\"new\" xlink:title=\"psysml:634826b2-2fc2-4798-92ed-071cd1dffdd8\" xlink:type=\"simple\"><rect fill=\"#FFFFFF\" height=\"45.9375\" id=\"E2\" rx=\"10\" ry=\"10\" style=\"stroke: #383838; stroke-width: 1.5;\" width=\"42\" x=\"32\" y=\"41\"/><text fill=\"#000000\" font-family=\"sans-serif\" font-size=\"12\" font-style=\"italic\" lengthAdjust=\"spacingAndGlyphs\" textLength=\"40\" x=\"33\" y=\"57.1387\">«part»</text><text fill=\"#000000\" font-family=\"sans-serif\" font-size=\"12\" lengthAdjust=\"spacingAndGlyphs\" textLength=\"20\" x=\"43\" y=\"71.1074\">f: A</text><line style=\"stroke: #383838; stroke-width: 1.5;\" x1=\"33\" x2=\"73\" y1=\"78.9375\" y2=\"78.9375\"/></a><!--MD5=[09b614a08d8cba4a07c9adeb5e0fee81]\n",
       "class E3--><a href=\"psysml:36aba5eb-a810-4976-a211-fcdfb7b330f5\" target=\"_top\" title=\"psysml:36aba5eb-a810-4976-a211-fcdfb7b330f5\" xlink:actuate=\"onRequest\" xlink:href=\"psysml:36aba5eb-a810-4976-a211-fcdfb7b330f5\" xlink:show=\"new\" xlink:title=\"psysml:36aba5eb-a810-4976-a211-fcdfb7b330f5\" xlink:type=\"simple\"><rect fill=\"#FFFFFF\" height=\"75.5469\" id=\"E3\" style=\"stroke: #383838; stroke-width: 1.5;\" width=\"66\" x=\"37\" y=\"164\"/><text fill=\"#000000\" font-family=\"sans-serif\" font-size=\"12\" font-style=\"italic\" lengthAdjust=\"spacingAndGlyphs\" textLength=\"64\" x=\"38\" y=\"180.1387\">«part def»</text><text fill=\"#000000\" font-family=\"sans-serif\" font-size=\"12\" lengthAdjust=\"spacingAndGlyphs\" textLength=\"8\" x=\"66\" y=\"194.1074\">A</text><line style=\"stroke: #383838; stroke-width: 1.5;\" x1=\"38\" x2=\"102\" y1=\"201.9375\" y2=\"201.9375\"/><text fill=\"#000000\" font-family=\"sans-serif\" font-size=\"11\" lengthAdjust=\"spacingAndGlyphs\" textLength=\"22\" x=\"43\" y=\"232.9526\">c: C</text><line style=\"stroke: #383838; stroke-width: 1.0;\" x1=\"38\" x2=\"55\" y1=\"216.3398\" y2=\"216.3398\"/><text fill=\"#000000\" font-family=\"sans-serif\" font-size=\"11\" lengthAdjust=\"spacingAndGlyphs\" textLength=\"30\" x=\"55\" y=\"219.6479\">ports</text><line style=\"stroke: #383838; stroke-width: 1.0;\" x1=\"85\" x2=\"102\" y1=\"216.3398\" y2=\"216.3398\"/></a><!--MD5=[ebbe1d658d1005bcc118a6aa81145e00]\n",
       "class E4--><a href=\"psysml:b5150c44-d935-4f31-a69b-527c90fd7c47\" target=\"_top\" title=\"psysml:b5150c44-d935-4f31-a69b-527c90fd7c47\" xlink:actuate=\"onRequest\" xlink:href=\"psysml:b5150c44-d935-4f31-a69b-527c90fd7c47\" xlink:show=\"new\" xlink:title=\"psysml:b5150c44-d935-4f31-a69b-527c90fd7c47\" xlink:type=\"simple\"><rect fill=\"#FFFFFF\" height=\"45.9375\" id=\"E4\" rx=\"10\" ry=\"10\" style=\"stroke: #383838; stroke-width: 1.5;\" width=\"42\" x=\"69\" y=\"317\"/><text fill=\"#000000\" font-family=\"sans-serif\" font-size=\"12\" font-style=\"italic\" lengthAdjust=\"spacingAndGlyphs\" textLength=\"40\" x=\"70\" y=\"333.1387\">«part»</text><text fill=\"#000000\" font-family=\"sans-serif\" font-size=\"12\" lengthAdjust=\"spacingAndGlyphs\" textLength=\"24\" x=\"78\" y=\"347.1074\">b: B</text><line style=\"stroke: #383838; stroke-width: 1.5;\" x1=\"70\" x2=\"110\" y1=\"354.9375\" y2=\"354.9375\"/></a><!--MD5=[60a26617385b1d2d0262a64233df1f8d]\n",
       "class E6--><a href=\"psysml:94fb1c4b-8096-4b0e-a0c8-00d5fe55de6c\" target=\"_top\" title=\"psysml:94fb1c4b-8096-4b0e-a0c8-00d5fe55de6c\" xlink:actuate=\"onRequest\" xlink:href=\"psysml:94fb1c4b-8096-4b0e-a0c8-00d5fe55de6c\" xlink:show=\"new\" xlink:title=\"psysml:94fb1c4b-8096-4b0e-a0c8-00d5fe55de6c\" xlink:type=\"simple\"><rect fill=\"#FFFFFF\" height=\"75.5469\" id=\"E6\" style=\"stroke: #383838; stroke-width: 1.5;\" width=\"66\" x=\"114\" y=\"424\"/><text fill=\"#000000\" font-family=\"sans-serif\" font-size=\"12\" font-style=\"italic\" lengthAdjust=\"spacingAndGlyphs\" textLength=\"64\" x=\"115\" y=\"440.1387\">«part def»</text><text fill=\"#000000\" font-family=\"sans-serif\" font-size=\"12\" lengthAdjust=\"spacingAndGlyphs\" textLength=\"8\" x=\"143\" y=\"454.1074\">B</text><line style=\"stroke: #383838; stroke-width: 1.5;\" x1=\"115\" x2=\"179\" y1=\"461.9375\" y2=\"461.9375\"/><text fill=\"#000000\" font-family=\"sans-serif\" font-size=\"11\" lengthAdjust=\"spacingAndGlyphs\" textLength=\"31\" x=\"120\" y=\"492.9526\">x: ~C</text><line style=\"stroke: #383838; stroke-width: 1.0;\" x1=\"115\" x2=\"132\" y1=\"476.3398\" y2=\"476.3398\"/><text fill=\"#000000\" font-family=\"sans-serif\" font-size=\"11\" lengthAdjust=\"spacingAndGlyphs\" textLength=\"30\" x=\"132\" y=\"479.6479\">ports</text><line style=\"stroke: #383838; stroke-width: 1.0;\" x1=\"162\" x2=\"179\" y1=\"476.3398\" y2=\"476.3398\"/></a><!--MD5=[2156ba9850f5573cc1fc38a6a4b2f02b]\n",
       "class E7--><a href=\"psysml:de084c60-8c86-4761-a316-7296396fb321\" target=\"_top\" title=\"psysml:de084c60-8c86-4761-a316-7296396fb321\" xlink:actuate=\"onRequest\" xlink:href=\"psysml:de084c60-8c86-4761-a316-7296396fb321\" xlink:show=\"new\" xlink:title=\"psysml:de084c60-8c86-4761-a316-7296396fb321\" xlink:type=\"simple\"><rect fill=\"#FFFFFF\" height=\"45.9375\" id=\"E7\" rx=\"10\" ry=\"10\" style=\"stroke: #383838; stroke-width: 1.5;\" width=\"42\" x=\"44\" y=\"564.5\"/><text fill=\"#000000\" font-family=\"sans-serif\" font-size=\"12\" font-style=\"italic\" lengthAdjust=\"spacingAndGlyphs\" textLength=\"40\" x=\"45\" y=\"580.6387\">«part»</text><text fill=\"#000000\" font-family=\"sans-serif\" font-size=\"12\" lengthAdjust=\"spacingAndGlyphs\" textLength=\"24\" x=\"53\" y=\"594.6074\">a: A</text><line style=\"stroke: #383838; stroke-width: 1.5;\" x1=\"45\" x2=\"85\" y1=\"602.4375\" y2=\"602.4375\"/></a><!--MD5=[96f4274e9e20536e775497830990834d]\n",
       "class E10--><a href=\"psysml:4c8e1ce2-7f9a-4661-9090-c510b6f01354\" target=\"_top\" title=\"psysml:4c8e1ce2-7f9a-4661-9090-c510b6f01354\" xlink:actuate=\"onRequest\" xlink:href=\"psysml:4c8e1ce2-7f9a-4661-9090-c510b6f01354\" xlink:show=\"new\" xlink:title=\"psysml:4c8e1ce2-7f9a-4661-9090-c510b6f01354\" xlink:type=\"simple\"><rect fill=\"#FFFFFF\" height=\"45.9375\" id=\"E10\" style=\"stroke: #383838; stroke-width: 1.5;\" width=\"66\" x=\"146\" y=\"41\"/><text fill=\"#000000\" font-family=\"sans-serif\" font-size=\"12\" font-style=\"italic\" lengthAdjust=\"spacingAndGlyphs\" textLength=\"64\" x=\"147\" y=\"57.1387\">«port def»</text><text fill=\"#000000\" font-family=\"sans-serif\" font-size=\"12\" lengthAdjust=\"spacingAndGlyphs\" textLength=\"8\" x=\"175\" y=\"71.1074\">C</text><line style=\"stroke: #383838; stroke-width: 1.5;\" x1=\"147\" x2=\"211\" y1=\"78.9375\" y2=\"78.9375\"/></a><a href=\"psysml:4c76b494-1a6c-482d-b35c-aa72d24bc41e\" target=\"_top\" title=\"psysml:4c76b494-1a6c-482d-b35c-aa72d24bc41e\" xlink:actuate=\"onRequest\" xlink:href=\"psysml:4c76b494-1a6c-482d-b35c-aa72d24bc41e\" xlink:show=\"new\" xlink:title=\"psysml:4c76b494-1a6c-482d-b35c-aa72d24bc41e\" xlink:type=\"simple\"><polygon fill=\"#FFFFFF\" points=\"132,561,148,561,155,583.2969,162,583.2969,162,613.5938,132,613.5938,132,561\" style=\"stroke: #000000; stroke-width: 1.5;\"/><line style=\"stroke: #000000; stroke-width: 1.5;\" x1=\"132\" x2=\"155\" y1=\"583.2969\" y2=\"583.2969\"/><text fill=\"#000000\" font-family=\"sans-serif\" font-size=\"14\" font-weight=\"bold\" lengthAdjust=\"spacingAndGlyphs\" textLength=\"10\" x=\"136\" y=\"575.9951\">P</text></a><!--MD5=[2720a5a1f2c3fca2055b230370638851]\n",
       "link E2 to E3--><a href=\"psysml:38cdc859-4dfa-4bc4-87cd-169dd5acc896\" target=\"_top\" title=\"psysml:38cdc859-4dfa-4bc4-87cd-169dd5acc896\" xlink:actuate=\"onRequest\" xlink:href=\"psysml:38cdc859-4dfa-4bc4-87cd-169dd5acc896\" xlink:show=\"new\" xlink:title=\"psysml:38cdc859-4dfa-4bc4-87cd-169dd5acc896\" xlink:type=\"simple\"><path d=\"M46.64,87.05 C42.55,101.23 38,117 38,117 C38,117 38,134 38,134 C38,134 40.31,138.84 43.69,145.92 \" fill=\"none\" id=\"E2-&gt;E3\" style=\"stroke: #383838; stroke-width: 1.0;\"/><polygon fill=\"#FFFFFF\" points=\"52.32,163.97,37.8169,149.8399,50.4508,143.808,52.32,163.97\" style=\"stroke: #383838; stroke-width: 1.0;\"/><ellipse cx=\"37.1659\" cy=\"143.8344\" fill=\"#383838\" rx=\"2\" ry=\"2\" style=\"stroke: #383838; stroke-width: 1.0;\"/><ellipse cx=\"46.1902\" cy=\"139.5259\" fill=\"#383838\" rx=\"2\" ry=\"2\" style=\"stroke: #383838; stroke-width: 1.0;\"/></a><!--MD5=[4672eba38e49728da53d11aeb285b987]\n",
       "reverse link E3 to E4--><a href=\"psysml:5ebdadf2-6044-45bc-aa24-2da7c79aba16\" target=\"_top\" title=\"psysml:5ebdadf2-6044-45bc-aa24-2da7c79aba16\" xlink:actuate=\"onRequest\" xlink:href=\"psysml:5ebdadf2-6044-45bc-aa24-2da7c79aba16\" xlink:show=\"new\" xlink:title=\"psysml:5ebdadf2-6044-45bc-aa24-2da7c79aba16\" xlink:type=\"simple\"><path d=\"M74.19,253.3 C75.68,271.19 77,287 77,287 C77,287 80.94,302.77 84.49,316.95 \" fill=\"none\" id=\"E3&lt;-E4\" style=\"stroke: #383838; stroke-width: 1.0;\"/><polygon fill=\"#383838\" points=\"73.09,240.09,69.5986,246.3995,74.08,252.0491,77.5714,245.7395,73.09,240.09\" style=\"stroke: #383838; stroke-width: 1.0;\"/></a><!--MD5=[79568f1e445c3877b6a54524624ccc7d]\n",
       "link E4 to E6--><a href=\"psysml:1fd8d685-c326-41aa-b421-a8308f20148e\" target=\"_top\" title=\"psysml:1fd8d685-c326-41aa-b421-a8308f20148e\" xlink:actuate=\"onRequest\" xlink:href=\"psysml:1fd8d685-c326-41aa-b421-a8308f20148e\" xlink:show=\"new\" xlink:title=\"psysml:1fd8d685-c326-41aa-b421-a8308f20148e\" xlink:type=\"simple\"><path d=\"M100.45,363.01 C106.1,374.9 113.36,390.18 120.46,405.12 \" fill=\"none\" id=\"E4-&gt;E6\" style=\"stroke: #383838; stroke-width: 1.0;\"/><polygon fill=\"#FFFFFF\" points=\"129.22,423.57,114.7395,409.4167,127.3831,403.405,129.22,423.57\" style=\"stroke: #383838; stroke-width: 1.0;\"/><ellipse cx=\"114.0981\" cy=\"403.4102\" fill=\"#383838\" rx=\"2\" ry=\"2\" style=\"stroke: #383838; stroke-width: 1.0;\"/><ellipse cx=\"123.1292\" cy=\"399.1161\" fill=\"#383838\" rx=\"2\" ry=\"2\" style=\"stroke: #383838; stroke-width: 1.0;\"/></a><!--MD5=[3f50a3473f1dfb74d3f76443e03635af]\n",
       "reverse link E6 to E7--><a href=\"psysml:c471fe89-f766-40f3-82e0-5e28332f3a67\" target=\"_top\" title=\"psysml:c471fe89-f766-40f3-82e0-5e28332f3a67\" xlink:actuate=\"onRequest\" xlink:href=\"psysml:c471fe89-f766-40f3-82e0-5e28332f3a67\" xlink:show=\"new\" xlink:title=\"psysml:c471fe89-f766-40f3-82e0-5e28332f3a67\" xlink:type=\"simple\"><path d=\"M115.19,510.9 C103,529.26 89.67,549.34 79.81,564.19 \" fill=\"none\" id=\"E6&lt;-E7\" style=\"stroke: #383838; stroke-width: 1.0;\"/><polygon fill=\"#383838\" points=\"122.4,500.05,115.7495,502.8377,115.7649,510.0488,122.4154,507.2611,122.4,500.05\" style=\"stroke: #383838; stroke-width: 1.0;\"/></a><!--MD5=[14ccda38c055a5c0da953d572bc50960]\n",
       "link E7 to E3--><a href=\"psysml:ce24e444-eb42-4eaa-91b0-86c1efe7ffc5\" target=\"_top\" title=\"psysml:ce24e444-eb42-4eaa-91b0-86c1efe7ffc5\" xlink:actuate=\"onRequest\" xlink:href=\"psysml:ce24e444-eb42-4eaa-91b0-86c1efe7ffc5\" xlink:show=\"new\" xlink:title=\"psysml:ce24e444-eb42-4eaa-91b0-86c1efe7ffc5\" xlink:type=\"simple\"><path d=\"M63.61,564.25 C60.07,507.72 51,363 51,363 C51,363 51,317 51,317 C51,317 55.76,288.43 60.52,259.89 \" fill=\"none\" id=\"E7-&gt;E3\" style=\"stroke: #383838; stroke-width: 1.0;\"/><polygon fill=\"#FFFFFF\" points=\"63.83,240.01,67.6135,259.9018,53.8037,257.6019,63.83,240.01\" style=\"stroke: #383838; stroke-width: 1.0;\"/><ellipse cx=\"64.7043\" cy=\"265.1958\" fill=\"#383838\" rx=\"2\" ry=\"2\" style=\"stroke: #383838; stroke-width: 1.0;\"/><ellipse cx=\"54.8401\" cy=\"263.553\" fill=\"#383838\" rx=\"2\" ry=\"2\" style=\"stroke: #383838; stroke-width: 1.0;\"/></a><!--MD5=[e88d06e5a652d73a6b19930eefe025a8]\n",
       "reverse link E6 to E9--><a href=\"psysml:cabff1fd-5442-4a71-976e-341ac2e5dda1\" target=\"_top\" title=\"psysml:cabff1fd-5442-4a71-976e-341ac2e5dda1\" xlink:actuate=\"onRequest\" xlink:href=\"psysml:cabff1fd-5442-4a71-976e-341ac2e5dda1\" xlink:show=\"new\" xlink:title=\"psysml:cabff1fd-5442-4a71-976e-341ac2e5dda1\" xlink:type=\"simple\"><path d=\"M147,515.35 C147,531.08 147,547.65 147,560.83 \" fill=\"none\" id=\"E6&lt;-E9\" style=\"stroke: #383838; stroke-width: 1.0;\"/><ellipse cx=\"147\" cy=\"508.05\" fill=\"#FFFFFF\" rx=\"8\" ry=\"8\" style=\"stroke: #383838; stroke-width: 1.0;\"/><line style=\"stroke: #383838; stroke-width: 1.0;\" x1=\"147\" x2=\"147\" y1=\"516.05\" y2=\"500.05\"/><line style=\"stroke: #383838; stroke-width: 1.0;\" x1=\"139\" x2=\"155\" y1=\"508.05\" y2=\"508.05\"/></a><!--MD5=[8e04057e7b3cbc0dca4fc78ea351e2da]\n",
       "reverse link E10 to E3--><a href=\"psysml:a19db77c-da80-41d6-a5f2-85a22676bfcf\" target=\"_top\" title=\"psysml:a19db77c-da80-41d6-a5f2-85a22676bfcf\" xlink:actuate=\"onRequest\" xlink:href=\"psysml:a19db77c-da80-41d6-a5f2-85a22676bfcf\" xlink:show=\"new\" xlink:title=\"psysml:a19db77c-da80-41d6-a5f2-85a22676bfcf\" xlink:type=\"simple\"><path d=\"M134.03,87.49 C105.91,101.55 75,117 75,117 C75,117 73.55,141.41 72.21,163.91 \" fill=\"none\" id=\"E10&lt;-E3\" style=\"stroke: #383838; stroke-width: 1.0;\"/><polygon fill=\"#FFFFFF\" points=\"145.81,81.6,138.6546,80.7056,135.0769,86.9666,142.2323,87.861,145.81,81.6\" style=\"stroke: #383838; stroke-width: 1.0;\"/><text fill=\"#000000\" font-family=\"sans-serif\" font-size=\"13\" lengthAdjust=\"spacingAndGlyphs\" textLength=\"7\" x=\"76\" y=\"130.0669\">y</text></a><!--MD5=[8e04057e7b3cbc0dca4fc78ea351e2da]\n",
       "reverse link E10 to E3--><a href=\"psysml:a19db77c-da80-41d6-a5f2-85a22676bfcf\" target=\"_top\" title=\"psysml:a19db77c-da80-41d6-a5f2-85a22676bfcf\" xlink:actuate=\"onRequest\" xlink:href=\"psysml:a19db77c-da80-41d6-a5f2-85a22676bfcf\" xlink:show=\"new\" xlink:title=\"psysml:a19db77c-da80-41d6-a5f2-85a22676bfcf\" xlink:type=\"simple\"><path d=\"M146.14,96.07 C134.39,107.18 124,117 124,117 C124,117 108.31,141.41 93.84,163.91 \" fill=\"none\" id=\"E10&lt;-E3-1\" style=\"stroke: #383838; stroke-width: 1.0;\"/><polygon fill=\"#FFFFFF\" points=\"155.68,87.05,148.5721,88.2658,146.9606,95.2945,154.0685,94.0787,155.68,87.05\" style=\"stroke: #383838; stroke-width: 1.0;\"/><text fill=\"#000000\" font-family=\"sans-serif\" font-size=\"13\" lengthAdjust=\"spacingAndGlyphs\" textLength=\"7\" x=\"125\" y=\"130.0669\">y</text></a><!--MD5=[8e04057e7b3cbc0dca4fc78ea351e2da]\n",
       "reverse link E10 to E3--><a href=\"psysml:a19db77c-da80-41d6-a5f2-85a22676bfcf\" target=\"_top\" title=\"psysml:a19db77c-da80-41d6-a5f2-85a22676bfcf\" xlink:actuate=\"onRequest\" xlink:href=\"psysml:a19db77c-da80-41d6-a5f2-85a22676bfcf\" xlink:show=\"new\" xlink:title=\"psysml:a19db77c-da80-41d6-a5f2-85a22676bfcf\" xlink:type=\"simple\"><path d=\"M156.82,98.27 C145.05,115.92 133,134 133,134 C133,134 118.46,149.47 103.34,165.54 \" fill=\"none\" id=\"E10&lt;-E3-2\" style=\"stroke: #383838; stroke-width: 1.0;\"/><polygon fill=\"#FFFFFF\" points=\"164.19,87.21,157.5328,89.9815,157.5306,97.1926,164.1878,94.4211,164.19,87.21\" style=\"stroke: #383838; stroke-width: 1.0;\"/><text fill=\"#000000\" font-family=\"sans-serif\" font-size=\"13\" lengthAdjust=\"spacingAndGlyphs\" textLength=\"7\" x=\"145\" y=\"130.0669\">y</text></a><!--MD5=[604cbf994c02b74b117f728a71673cea]\n",
       "reverse link E10 to E6--><a href=\"psysml:a19db77c-da80-41d6-a5f2-85a22676bfcf\" target=\"_top\" title=\"psysml:a19db77c-da80-41d6-a5f2-85a22676bfcf\" xlink:actuate=\"onRequest\" xlink:href=\"psysml:a19db77c-da80-41d6-a5f2-85a22676bfcf\" xlink:show=\"new\" xlink:title=\"psysml:a19db77c-da80-41d6-a5f2-85a22676bfcf\" xlink:type=\"simple\"><path d=\"M194.69,99 C199.24,108.85 203,117 203,117 C203,117 203,134 203,134 C203,134 193,394 193,394 C193,394 183.06,408.48 172.42,423.97 \" fill=\"none\" id=\"E10&lt;-E6\" style=\"stroke: #383838; stroke-width: 1.0;\"/><polygon fill=\"#FFFFFF\" points=\"189.18,87.05,188.0576,94.1732,194.2012,97.949,195.3236,90.8258,189.18,87.05\" style=\"stroke: #383838; stroke-width: 1.0;\"/><text fill=\"#000000\" font-family=\"sans-serif\" font-size=\"13\" lengthAdjust=\"spacingAndGlyphs\" textLength=\"7\" x=\"198\" y=\"283.0669\">y</text></a><!--MD5=[604cbf994c02b74b117f728a71673cea]\n",
       "reverse link E10 to E6--><a href=\"psysml:a19db77c-da80-41d6-a5f2-85a22676bfcf\" target=\"_top\" title=\"psysml:a19db77c-da80-41d6-a5f2-85a22676bfcf\" xlink:actuate=\"onRequest\" xlink:href=\"psysml:a19db77c-da80-41d6-a5f2-85a22676bfcf\" xlink:show=\"new\" xlink:title=\"psysml:a19db77c-da80-41d6-a5f2-85a22676bfcf\" xlink:type=\"simple\"><path d=\"M169.86,100.02 C165.41,117.1 161,134 161,134 C161,134 116,270 116,270 C116,270 116,287 116,287 C116,287 128,317 128,317 C128,317 136.48,381.25 142.11,423.92 \" fill=\"none\" id=\"E10&lt;-E6-1\" style=\"stroke: #383838; stroke-width: 1.0;\"/><polygon fill=\"#FFFFFF\" points=\"173.21,87.21,167.8241,92.005,170.1788,98.8208,175.5647,94.0258,173.21,87.21\" style=\"stroke: #383838; stroke-width: 1.0;\"/><text fill=\"#000000\" font-family=\"sans-serif\" font-size=\"13\" lengthAdjust=\"spacingAndGlyphs\" textLength=\"7\" x=\"117\" y=\"283.0669\">y</text></a><!--MD5=[604cbf994c02b74b117f728a71673cea]\n",
       "reverse link E10 to E6--><a href=\"psysml:a19db77c-da80-41d6-a5f2-85a22676bfcf\" target=\"_top\" title=\"psysml:a19db77c-da80-41d6-a5f2-85a22676bfcf\" xlink:actuate=\"onRequest\" xlink:href=\"psysml:a19db77c-da80-41d6-a5f2-85a22676bfcf\" xlink:show=\"new\" xlink:title=\"psysml:a19db77c-da80-41d6-a5f2-85a22676bfcf\" xlink:type=\"simple\"><path d=\"M176.15,100.27 C170.13,174.82 156.15,347.78 150,423.9 \" fill=\"none\" id=\"E10&lt;-E6-2\" style=\"stroke: #383838; stroke-width: 1.0;\"/><polygon fill=\"#FFFFFF\" points=\"177.21,87.14,172.7415,92.7998,176.2473,99.1013,180.7158,93.4416,177.21,87.14\" style=\"stroke: #383838; stroke-width: 1.0;\"/><text fill=\"#000000\" font-family=\"sans-serif\" font-size=\"13\" lengthAdjust=\"spacingAndGlyphs\" textLength=\"7\" x=\"163\" y=\"283.0669\">y</text></a><!--MD5=[4f2e9086310f97b668a693a4b5b70b98]\n",
       "@startuml\r\n",
       "skinparam linetype polyline\r\n",
       "skinparam monochrome true\r\n",
       "skinparam classbackgroundcolor white\r\n",
       "skinparam shadowing false\r\n",
       "skinparam wrapWidth 300\r\n",
       "hide circle\r\n",
       "\r\n",
       "package \"PartTest\" as E1  [[psysml:c65cc0cd-28b1-4d7a-bc05-02136890ed9a ]]  {\r\n",
       "comp usage \"f: A\" as E2  <<(T,blue)part>> [[psysml:634826b2-2fc2-4798-92ed-071cd1dffdd8 ]] {\r\n",
       "}\r\n",
       "comp def \"A\" as E3  <<(T,blue)part def>> [[psysml:36aba5eb-a810-4976-a211-fcdfb7b330f5 ]] {\r\n",
       "- - ports - -\r\n",
       "c: C\r\n",
       "}\r\n",
       "comp usage \"b: B\" as E4  <<(T,blue)part>> [[psysml:b5150c44-d935-4f31-a69b-527c90fd7c47 ]] {\r\n",
       "}\r\n",
       "comp def \"B\" as E6  <<(T,blue)part def>> [[psysml:94fb1c4b-8096-4b0e-a0c8-00d5fe55de6c ]] {\r\n",
       "- - ports - -\r\n",
       "x: ~C\r\n",
       "}\r\n",
       "comp usage \"a: A\" as E7  <<(T,blue)part>> [[psysml:de084c60-8c86-4761-a316-7296396fb321 ]] {\r\n",
       "}\r\n",
       "package \"P\" as E9  [[psysml:4c76b494-1a6c-482d-b35c-aa72d24bc41e ]]  {\r\n",
       "}\r\n",
       "comp def \"C\" as E10  <<(T,blue)port def>> [[psysml:4c8e1ce2-7f9a-4661-9090-c510b6f01354 ]] {\r\n",
       "}\r\n",
       "E2 - -:|> E3 [[psysml:38cdc859-4dfa-4bc4-87cd-169dd5acc896 ]] \r\n",
       "E3 *- - E4 [[psysml:5ebdadf2-6044-45bc-aa24-2da7c79aba16 ]] \r\n",
       "E4 - -:|> E6 [[psysml:1fd8d685-c326-41aa-b421-a8308f20148e ]] \r\n",
       "E6 *- - E7 [[psysml:c471fe89-f766-40f3-82e0-5e28332f3a67 ]] \r\n",
       "E7 - -:|> E3 [[psysml:ce24e444-eb42-4eaa-91b0-86c1efe7ffc5 ]] \r\n",
       "E6 +- - E9 [[psysml:cabff1fd-5442-4a71-976e-341ac2e5dda1 ]] \r\n",
       "E10 o- - E3 [[psysml:a19db77c-da80-41d6-a5f2-85a22676bfcf ]] : y\r\n",
       "E10 o- - E6 [[psysml:a19db77c-da80-41d6-a5f2-85a22676bfcf ]] : y\r\n",
       "E10 o- - E3 [[psysml:a19db77c-da80-41d6-a5f2-85a22676bfcf ]] : y\r\n",
       "E10 o- - E6 [[psysml:a19db77c-da80-41d6-a5f2-85a22676bfcf ]] : y\r\n",
       "E10 o- - E3 [[psysml:a19db77c-da80-41d6-a5f2-85a22676bfcf ]] : y\r\n",
       "E10 o- - E6 [[psysml:a19db77c-da80-41d6-a5f2-85a22676bfcf ]] : y\r\n",
       "}\r\n",
       "@enduml\r\n",
       "\n",
       "PlantUML version 1.2020.13(Sat Jun 13 12:26:38 UTC 2020)\n",
       "(EPL source distribution)\n",
       "Java Runtime: OpenJDK Runtime Environment\n",
       "JVM: OpenJDK 64-Bit Server VM\n",
       "Default Encoding: UTF-8\n",
       "Language: en\n",
       "Country: null\n",
       "--></g></svg>"
      ]
     },
     "execution_count": 9,
     "metadata": {},
     "output_type": "execute_result"
    }
   ],
   "source": [
    "%viz --style=\"POLYLINE\" --view=\"Default\" \"PartTest\""
   ]
  },
  {
   "cell_type": "code",
   "execution_count": 10,
   "id": "09e7301c",
   "metadata": {
    "execution": {
     "iopub.execute_input": "2021-04-20T07:29:10.989090Z",
     "iopub.status.busy": "2021-04-20T07:29:10.987846Z",
     "iopub.status.idle": "2021-04-20T07:29:11.154275Z",
     "shell.execute_reply": "2021-04-20T07:29:11.153360Z"
    }
   },
   "outputs": [
    {
     "data": {
      "image/svg+xml": [
       "<?xml version=\"1.0\" encoding=\"UTF-8\" standalone=\"no\"?><svg xmlns=\"http://www.w3.org/2000/svg\" xmlns:xlink=\"http://www.w3.org/1999/xlink\" contentScriptType=\"application/ecmascript\" contentStyleType=\"text/css\" height=\"642px\" preserveAspectRatio=\"none\" style=\"width:260px;height:642px;\" version=\"1.1\" viewBox=\"0 0 260 642\" width=\"260px\" zoomAndPan=\"magnify\"><defs/><g><!--MD5=[fbc87193dbaf4d95561dea2c320d4a47]\n",
       "cluster E1--><a href=\"psysml:c65cc0cd-28b1-4d7a-bc05-02136890ed9a\" target=\"_top\" title=\"psysml:c65cc0cd-28b1-4d7a-bc05-02136890ed9a\" xlink:actuate=\"onRequest\" xlink:href=\"psysml:c65cc0cd-28b1-4d7a-bc05-02136890ed9a\" xlink:show=\"new\" xlink:title=\"psysml:c65cc0cd-28b1-4d7a-bc05-02136890ed9a\" xlink:type=\"simple\"><polygon fill=\"#FFFFFF\" points=\"16,6,89,6,96,28.2969,238,28.2969,238,630,16,630,16,6\" style=\"stroke: #000000; stroke-width: 1.5;\"/><line style=\"stroke: #000000; stroke-width: 1.5;\" x1=\"16\" x2=\"96\" y1=\"28.2969\" y2=\"28.2969\"/><text fill=\"#000000\" font-family=\"sans-serif\" font-size=\"14\" font-weight=\"bold\" lengthAdjust=\"spacingAndGlyphs\" textLength=\"67\" x=\"20\" y=\"20.9951\">PartTest</text></a><!--MD5=[b4997ac47864f28c2f74865a473b2911]\n",
       "class E2--><a href=\"psysml:634826b2-2fc2-4798-92ed-071cd1dffdd8\" target=\"_top\" title=\"psysml:634826b2-2fc2-4798-92ed-071cd1dffdd8\" xlink:actuate=\"onRequest\" xlink:href=\"psysml:634826b2-2fc2-4798-92ed-071cd1dffdd8\" xlink:show=\"new\" xlink:title=\"psysml:634826b2-2fc2-4798-92ed-071cd1dffdd8\" xlink:type=\"simple\"><rect fill=\"#FFFFFF\" height=\"45.9375\" id=\"E2\" rx=\"10\" ry=\"10\" style=\"stroke: #383838; stroke-width: 1.5;\" width=\"42\" x=\"32\" y=\"41\"/><text fill=\"#000000\" font-family=\"sans-serif\" font-size=\"12\" font-style=\"italic\" lengthAdjust=\"spacingAndGlyphs\" textLength=\"40\" x=\"33\" y=\"57.1387\">«part»</text><text fill=\"#000000\" font-family=\"sans-serif\" font-size=\"12\" lengthAdjust=\"spacingAndGlyphs\" textLength=\"20\" x=\"43\" y=\"71.1074\">f: A</text><line style=\"stroke: #383838; stroke-width: 1.5;\" x1=\"33\" x2=\"73\" y1=\"78.9375\" y2=\"78.9375\"/></a><!--MD5=[09b614a08d8cba4a07c9adeb5e0fee81]\n",
       "class E3--><a href=\"psysml:36aba5eb-a810-4976-a211-fcdfb7b330f5\" target=\"_top\" title=\"psysml:36aba5eb-a810-4976-a211-fcdfb7b330f5\" xlink:actuate=\"onRequest\" xlink:href=\"psysml:36aba5eb-a810-4976-a211-fcdfb7b330f5\" xlink:show=\"new\" xlink:title=\"psysml:36aba5eb-a810-4976-a211-fcdfb7b330f5\" xlink:type=\"simple\"><rect fill=\"#FFFFFF\" height=\"75.5469\" id=\"E3\" style=\"stroke: #383838; stroke-width: 1.5;\" width=\"66\" x=\"37\" y=\"164\"/><text fill=\"#000000\" font-family=\"sans-serif\" font-size=\"12\" font-style=\"italic\" lengthAdjust=\"spacingAndGlyphs\" textLength=\"64\" x=\"38\" y=\"180.1387\">«part def»</text><text fill=\"#000000\" font-family=\"sans-serif\" font-size=\"12\" lengthAdjust=\"spacingAndGlyphs\" textLength=\"8\" x=\"66\" y=\"194.1074\">A</text><line style=\"stroke: #383838; stroke-width: 1.5;\" x1=\"38\" x2=\"102\" y1=\"201.9375\" y2=\"201.9375\"/><text fill=\"#000000\" font-family=\"sans-serif\" font-size=\"11\" lengthAdjust=\"spacingAndGlyphs\" textLength=\"22\" x=\"43\" y=\"232.9526\">c: C</text><line style=\"stroke: #383838; stroke-width: 1.0;\" x1=\"38\" x2=\"55\" y1=\"216.3398\" y2=\"216.3398\"/><text fill=\"#000000\" font-family=\"sans-serif\" font-size=\"11\" lengthAdjust=\"spacingAndGlyphs\" textLength=\"30\" x=\"55\" y=\"219.6479\">ports</text><line style=\"stroke: #383838; stroke-width: 1.0;\" x1=\"85\" x2=\"102\" y1=\"216.3398\" y2=\"216.3398\"/></a><!--MD5=[ebbe1d658d1005bcc118a6aa81145e00]\n",
       "class E4--><a href=\"psysml:b5150c44-d935-4f31-a69b-527c90fd7c47\" target=\"_top\" title=\"psysml:b5150c44-d935-4f31-a69b-527c90fd7c47\" xlink:actuate=\"onRequest\" xlink:href=\"psysml:b5150c44-d935-4f31-a69b-527c90fd7c47\" xlink:show=\"new\" xlink:title=\"psysml:b5150c44-d935-4f31-a69b-527c90fd7c47\" xlink:type=\"simple\"><rect fill=\"#FFFFFF\" height=\"45.9375\" id=\"E4\" rx=\"10\" ry=\"10\" style=\"stroke: #383838; stroke-width: 1.5;\" width=\"42\" x=\"69\" y=\"317\"/><text fill=\"#000000\" font-family=\"sans-serif\" font-size=\"12\" font-style=\"italic\" lengthAdjust=\"spacingAndGlyphs\" textLength=\"40\" x=\"70\" y=\"333.1387\">«part»</text><text fill=\"#000000\" font-family=\"sans-serif\" font-size=\"12\" lengthAdjust=\"spacingAndGlyphs\" textLength=\"24\" x=\"78\" y=\"347.1074\">b: B</text><line style=\"stroke: #383838; stroke-width: 1.5;\" x1=\"70\" x2=\"110\" y1=\"354.9375\" y2=\"354.9375\"/></a><!--MD5=[60a26617385b1d2d0262a64233df1f8d]\n",
       "class E6--><a href=\"psysml:94fb1c4b-8096-4b0e-a0c8-00d5fe55de6c\" target=\"_top\" title=\"psysml:94fb1c4b-8096-4b0e-a0c8-00d5fe55de6c\" xlink:actuate=\"onRequest\" xlink:href=\"psysml:94fb1c4b-8096-4b0e-a0c8-00d5fe55de6c\" xlink:show=\"new\" xlink:title=\"psysml:94fb1c4b-8096-4b0e-a0c8-00d5fe55de6c\" xlink:type=\"simple\"><rect fill=\"#FFFFFF\" height=\"75.5469\" id=\"E6\" style=\"stroke: #383838; stroke-width: 1.5;\" width=\"66\" x=\"114\" y=\"424\"/><text fill=\"#000000\" font-family=\"sans-serif\" font-size=\"12\" font-style=\"italic\" lengthAdjust=\"spacingAndGlyphs\" textLength=\"64\" x=\"115\" y=\"440.1387\">«part def»</text><text fill=\"#000000\" font-family=\"sans-serif\" font-size=\"12\" lengthAdjust=\"spacingAndGlyphs\" textLength=\"8\" x=\"143\" y=\"454.1074\">B</text><line style=\"stroke: #383838; stroke-width: 1.5;\" x1=\"115\" x2=\"179\" y1=\"461.9375\" y2=\"461.9375\"/><text fill=\"#000000\" font-family=\"sans-serif\" font-size=\"11\" lengthAdjust=\"spacingAndGlyphs\" textLength=\"31\" x=\"120\" y=\"492.9526\">x: ~C</text><line style=\"stroke: #383838; stroke-width: 1.0;\" x1=\"115\" x2=\"132\" y1=\"476.3398\" y2=\"476.3398\"/><text fill=\"#000000\" font-family=\"sans-serif\" font-size=\"11\" lengthAdjust=\"spacingAndGlyphs\" textLength=\"30\" x=\"132\" y=\"479.6479\">ports</text><line style=\"stroke: #383838; stroke-width: 1.0;\" x1=\"162\" x2=\"179\" y1=\"476.3398\" y2=\"476.3398\"/></a><!--MD5=[2156ba9850f5573cc1fc38a6a4b2f02b]\n",
       "class E7--><a href=\"psysml:de084c60-8c86-4761-a316-7296396fb321\" target=\"_top\" title=\"psysml:de084c60-8c86-4761-a316-7296396fb321\" xlink:actuate=\"onRequest\" xlink:href=\"psysml:de084c60-8c86-4761-a316-7296396fb321\" xlink:show=\"new\" xlink:title=\"psysml:de084c60-8c86-4761-a316-7296396fb321\" xlink:type=\"simple\"><rect fill=\"#FFFFFF\" height=\"45.9375\" id=\"E7\" rx=\"10\" ry=\"10\" style=\"stroke: #383838; stroke-width: 1.5;\" width=\"42\" x=\"44\" y=\"564.5\"/><text fill=\"#000000\" font-family=\"sans-serif\" font-size=\"12\" font-style=\"italic\" lengthAdjust=\"spacingAndGlyphs\" textLength=\"40\" x=\"45\" y=\"580.6387\">«part»</text><text fill=\"#000000\" font-family=\"sans-serif\" font-size=\"12\" lengthAdjust=\"spacingAndGlyphs\" textLength=\"24\" x=\"53\" y=\"594.6074\">a: A</text><line style=\"stroke: #383838; stroke-width: 1.5;\" x1=\"45\" x2=\"85\" y1=\"602.4375\" y2=\"602.4375\"/></a><!--MD5=[96f4274e9e20536e775497830990834d]\n",
       "class E10--><a href=\"psysml:4c8e1ce2-7f9a-4661-9090-c510b6f01354\" target=\"_top\" title=\"psysml:4c8e1ce2-7f9a-4661-9090-c510b6f01354\" xlink:actuate=\"onRequest\" xlink:href=\"psysml:4c8e1ce2-7f9a-4661-9090-c510b6f01354\" xlink:show=\"new\" xlink:title=\"psysml:4c8e1ce2-7f9a-4661-9090-c510b6f01354\" xlink:type=\"simple\"><rect fill=\"#FFFFFF\" height=\"45.9375\" id=\"E10\" style=\"stroke: #383838; stroke-width: 1.5;\" width=\"66\" x=\"146\" y=\"41\"/><text fill=\"#000000\" font-family=\"sans-serif\" font-size=\"12\" font-style=\"italic\" lengthAdjust=\"spacingAndGlyphs\" textLength=\"64\" x=\"147\" y=\"57.1387\">«port def»</text><text fill=\"#000000\" font-family=\"sans-serif\" font-size=\"12\" lengthAdjust=\"spacingAndGlyphs\" textLength=\"8\" x=\"175\" y=\"71.1074\">C</text><line style=\"stroke: #383838; stroke-width: 1.5;\" x1=\"147\" x2=\"211\" y1=\"78.9375\" y2=\"78.9375\"/></a><a href=\"psysml:4c76b494-1a6c-482d-b35c-aa72d24bc41e\" target=\"_top\" title=\"psysml:4c76b494-1a6c-482d-b35c-aa72d24bc41e\" xlink:actuate=\"onRequest\" xlink:href=\"psysml:4c76b494-1a6c-482d-b35c-aa72d24bc41e\" xlink:show=\"new\" xlink:title=\"psysml:4c76b494-1a6c-482d-b35c-aa72d24bc41e\" xlink:type=\"simple\"><polygon fill=\"#FFFFFF\" points=\"132,561,148,561,155,583.2969,162,583.2969,162,613.5938,132,613.5938,132,561\" style=\"stroke: #000000; stroke-width: 1.5;\"/><line style=\"stroke: #000000; stroke-width: 1.5;\" x1=\"132\" x2=\"155\" y1=\"583.2969\" y2=\"583.2969\"/><text fill=\"#000000\" font-family=\"sans-serif\" font-size=\"14\" font-weight=\"bold\" lengthAdjust=\"spacingAndGlyphs\" textLength=\"10\" x=\"136\" y=\"575.9951\">P</text></a><!--MD5=[2720a5a1f2c3fca2055b230370638851]\n",
       "link E2 to E3--><a href=\"psysml:38cdc859-4dfa-4bc4-87cd-169dd5acc896\" target=\"_top\" title=\"psysml:38cdc859-4dfa-4bc4-87cd-169dd5acc896\" xlink:actuate=\"onRequest\" xlink:href=\"psysml:38cdc859-4dfa-4bc4-87cd-169dd5acc896\" xlink:show=\"new\" xlink:title=\"psysml:38cdc859-4dfa-4bc4-87cd-169dd5acc896\" xlink:type=\"simple\"><path d=\"M46.64,87.05 C42.55,101.23 38,117 38,117 C38,117 38,134 38,134 C38,134 40.31,138.84 43.69,145.92 \" fill=\"none\" id=\"E2-&gt;E3\" style=\"stroke: #383838; stroke-width: 1.0;\"/><polygon fill=\"#FFFFFF\" points=\"52.32,163.97,37.8169,149.8399,50.4508,143.808,52.32,163.97\" style=\"stroke: #383838; stroke-width: 1.0;\"/><ellipse cx=\"37.1659\" cy=\"143.8344\" fill=\"#383838\" rx=\"2\" ry=\"2\" style=\"stroke: #383838; stroke-width: 1.0;\"/><ellipse cx=\"46.1902\" cy=\"139.5259\" fill=\"#383838\" rx=\"2\" ry=\"2\" style=\"stroke: #383838; stroke-width: 1.0;\"/></a><!--MD5=[4672eba38e49728da53d11aeb285b987]\n",
       "reverse link E3 to E4--><a href=\"psysml:5ebdadf2-6044-45bc-aa24-2da7c79aba16\" target=\"_top\" title=\"psysml:5ebdadf2-6044-45bc-aa24-2da7c79aba16\" xlink:actuate=\"onRequest\" xlink:href=\"psysml:5ebdadf2-6044-45bc-aa24-2da7c79aba16\" xlink:show=\"new\" xlink:title=\"psysml:5ebdadf2-6044-45bc-aa24-2da7c79aba16\" xlink:type=\"simple\"><path d=\"M74.19,253.3 C75.68,271.19 77,287 77,287 C77,287 80.94,302.77 84.49,316.95 \" fill=\"none\" id=\"E3&lt;-E4\" style=\"stroke: #383838; stroke-width: 1.0;\"/><polygon fill=\"#383838\" points=\"73.09,240.09,69.5986,246.3995,74.08,252.0491,77.5714,245.7395,73.09,240.09\" style=\"stroke: #383838; stroke-width: 1.0;\"/></a><!--MD5=[79568f1e445c3877b6a54524624ccc7d]\n",
       "link E4 to E6--><a href=\"psysml:1fd8d685-c326-41aa-b421-a8308f20148e\" target=\"_top\" title=\"psysml:1fd8d685-c326-41aa-b421-a8308f20148e\" xlink:actuate=\"onRequest\" xlink:href=\"psysml:1fd8d685-c326-41aa-b421-a8308f20148e\" xlink:show=\"new\" xlink:title=\"psysml:1fd8d685-c326-41aa-b421-a8308f20148e\" xlink:type=\"simple\"><path d=\"M100.45,363.01 C106.1,374.9 113.36,390.18 120.46,405.12 \" fill=\"none\" id=\"E4-&gt;E6\" style=\"stroke: #383838; stroke-width: 1.0;\"/><polygon fill=\"#FFFFFF\" points=\"129.22,423.57,114.7395,409.4167,127.3831,403.405,129.22,423.57\" style=\"stroke: #383838; stroke-width: 1.0;\"/><ellipse cx=\"114.0981\" cy=\"403.4102\" fill=\"#383838\" rx=\"2\" ry=\"2\" style=\"stroke: #383838; stroke-width: 1.0;\"/><ellipse cx=\"123.1292\" cy=\"399.1161\" fill=\"#383838\" rx=\"2\" ry=\"2\" style=\"stroke: #383838; stroke-width: 1.0;\"/></a><!--MD5=[3f50a3473f1dfb74d3f76443e03635af]\n",
       "reverse link E6 to E7--><a href=\"psysml:c471fe89-f766-40f3-82e0-5e28332f3a67\" target=\"_top\" title=\"psysml:c471fe89-f766-40f3-82e0-5e28332f3a67\" xlink:actuate=\"onRequest\" xlink:href=\"psysml:c471fe89-f766-40f3-82e0-5e28332f3a67\" xlink:show=\"new\" xlink:title=\"psysml:c471fe89-f766-40f3-82e0-5e28332f3a67\" xlink:type=\"simple\"><path d=\"M115.19,510.9 C103,529.26 89.67,549.34 79.81,564.19 \" fill=\"none\" id=\"E6&lt;-E7\" style=\"stroke: #383838; stroke-width: 1.0;\"/><polygon fill=\"#383838\" points=\"122.4,500.05,115.7495,502.8377,115.7649,510.0488,122.4154,507.2611,122.4,500.05\" style=\"stroke: #383838; stroke-width: 1.0;\"/></a><!--MD5=[14ccda38c055a5c0da953d572bc50960]\n",
       "link E7 to E3--><a href=\"psysml:ce24e444-eb42-4eaa-91b0-86c1efe7ffc5\" target=\"_top\" title=\"psysml:ce24e444-eb42-4eaa-91b0-86c1efe7ffc5\" xlink:actuate=\"onRequest\" xlink:href=\"psysml:ce24e444-eb42-4eaa-91b0-86c1efe7ffc5\" xlink:show=\"new\" xlink:title=\"psysml:ce24e444-eb42-4eaa-91b0-86c1efe7ffc5\" xlink:type=\"simple\"><path d=\"M63.61,564.25 C60.07,507.72 51,363 51,363 C51,363 51,317 51,317 C51,317 55.76,288.43 60.52,259.89 \" fill=\"none\" id=\"E7-&gt;E3\" style=\"stroke: #383838; stroke-width: 1.0;\"/><polygon fill=\"#FFFFFF\" points=\"63.83,240.01,67.6135,259.9018,53.8037,257.6019,63.83,240.01\" style=\"stroke: #383838; stroke-width: 1.0;\"/><ellipse cx=\"64.7043\" cy=\"265.1958\" fill=\"#383838\" rx=\"2\" ry=\"2\" style=\"stroke: #383838; stroke-width: 1.0;\"/><ellipse cx=\"54.8401\" cy=\"263.553\" fill=\"#383838\" rx=\"2\" ry=\"2\" style=\"stroke: #383838; stroke-width: 1.0;\"/></a><!--MD5=[e88d06e5a652d73a6b19930eefe025a8]\n",
       "reverse link E6 to E9--><a href=\"psysml:cabff1fd-5442-4a71-976e-341ac2e5dda1\" target=\"_top\" title=\"psysml:cabff1fd-5442-4a71-976e-341ac2e5dda1\" xlink:actuate=\"onRequest\" xlink:href=\"psysml:cabff1fd-5442-4a71-976e-341ac2e5dda1\" xlink:show=\"new\" xlink:title=\"psysml:cabff1fd-5442-4a71-976e-341ac2e5dda1\" xlink:type=\"simple\"><path d=\"M147,515.35 C147,531.08 147,547.65 147,560.83 \" fill=\"none\" id=\"E6&lt;-E9\" style=\"stroke: #383838; stroke-width: 1.0;\"/><ellipse cx=\"147\" cy=\"508.05\" fill=\"#FFFFFF\" rx=\"8\" ry=\"8\" style=\"stroke: #383838; stroke-width: 1.0;\"/><line style=\"stroke: #383838; stroke-width: 1.0;\" x1=\"147\" x2=\"147\" y1=\"516.05\" y2=\"500.05\"/><line style=\"stroke: #383838; stroke-width: 1.0;\" x1=\"139\" x2=\"155\" y1=\"508.05\" y2=\"508.05\"/></a><!--MD5=[8e04057e7b3cbc0dca4fc78ea351e2da]\n",
       "reverse link E10 to E3--><a href=\"psysml:a19db77c-da80-41d6-a5f2-85a22676bfcf\" target=\"_top\" title=\"psysml:a19db77c-da80-41d6-a5f2-85a22676bfcf\" xlink:actuate=\"onRequest\" xlink:href=\"psysml:a19db77c-da80-41d6-a5f2-85a22676bfcf\" xlink:show=\"new\" xlink:title=\"psysml:a19db77c-da80-41d6-a5f2-85a22676bfcf\" xlink:type=\"simple\"><path d=\"M134.03,87.49 C105.91,101.55 75,117 75,117 C75,117 73.55,141.41 72.21,163.91 \" fill=\"none\" id=\"E10&lt;-E3\" style=\"stroke: #383838; stroke-width: 1.0;\"/><polygon fill=\"#FFFFFF\" points=\"145.81,81.6,138.6546,80.7056,135.0769,86.9666,142.2323,87.861,145.81,81.6\" style=\"stroke: #383838; stroke-width: 1.0;\"/><text fill=\"#000000\" font-family=\"sans-serif\" font-size=\"13\" lengthAdjust=\"spacingAndGlyphs\" textLength=\"7\" x=\"76\" y=\"130.0669\">y</text></a><!--MD5=[8e04057e7b3cbc0dca4fc78ea351e2da]\n",
       "reverse link E10 to E3--><a href=\"psysml:a19db77c-da80-41d6-a5f2-85a22676bfcf\" target=\"_top\" title=\"psysml:a19db77c-da80-41d6-a5f2-85a22676bfcf\" xlink:actuate=\"onRequest\" xlink:href=\"psysml:a19db77c-da80-41d6-a5f2-85a22676bfcf\" xlink:show=\"new\" xlink:title=\"psysml:a19db77c-da80-41d6-a5f2-85a22676bfcf\" xlink:type=\"simple\"><path d=\"M146.14,96.07 C134.39,107.18 124,117 124,117 C124,117 108.31,141.41 93.84,163.91 \" fill=\"none\" id=\"E10&lt;-E3-1\" style=\"stroke: #383838; stroke-width: 1.0;\"/><polygon fill=\"#FFFFFF\" points=\"155.68,87.05,148.5721,88.2658,146.9606,95.2945,154.0685,94.0787,155.68,87.05\" style=\"stroke: #383838; stroke-width: 1.0;\"/><text fill=\"#000000\" font-family=\"sans-serif\" font-size=\"13\" lengthAdjust=\"spacingAndGlyphs\" textLength=\"7\" x=\"125\" y=\"130.0669\">y</text></a><!--MD5=[8e04057e7b3cbc0dca4fc78ea351e2da]\n",
       "reverse link E10 to E3--><a href=\"psysml:a19db77c-da80-41d6-a5f2-85a22676bfcf\" target=\"_top\" title=\"psysml:a19db77c-da80-41d6-a5f2-85a22676bfcf\" xlink:actuate=\"onRequest\" xlink:href=\"psysml:a19db77c-da80-41d6-a5f2-85a22676bfcf\" xlink:show=\"new\" xlink:title=\"psysml:a19db77c-da80-41d6-a5f2-85a22676bfcf\" xlink:type=\"simple\"><path d=\"M156.82,98.27 C145.05,115.92 133,134 133,134 C133,134 118.46,149.47 103.34,165.54 \" fill=\"none\" id=\"E10&lt;-E3-2\" style=\"stroke: #383838; stroke-width: 1.0;\"/><polygon fill=\"#FFFFFF\" points=\"164.19,87.21,157.5328,89.9815,157.5306,97.1926,164.1878,94.4211,164.19,87.21\" style=\"stroke: #383838; stroke-width: 1.0;\"/><text fill=\"#000000\" font-family=\"sans-serif\" font-size=\"13\" lengthAdjust=\"spacingAndGlyphs\" textLength=\"7\" x=\"145\" y=\"130.0669\">y</text></a><!--MD5=[604cbf994c02b74b117f728a71673cea]\n",
       "reverse link E10 to E6--><a href=\"psysml:a19db77c-da80-41d6-a5f2-85a22676bfcf\" target=\"_top\" title=\"psysml:a19db77c-da80-41d6-a5f2-85a22676bfcf\" xlink:actuate=\"onRequest\" xlink:href=\"psysml:a19db77c-da80-41d6-a5f2-85a22676bfcf\" xlink:show=\"new\" xlink:title=\"psysml:a19db77c-da80-41d6-a5f2-85a22676bfcf\" xlink:type=\"simple\"><path d=\"M194.69,99 C199.24,108.85 203,117 203,117 C203,117 203,134 203,134 C203,134 193,394 193,394 C193,394 183.06,408.48 172.42,423.97 \" fill=\"none\" id=\"E10&lt;-E6\" style=\"stroke: #383838; stroke-width: 1.0;\"/><polygon fill=\"#FFFFFF\" points=\"189.18,87.05,188.0576,94.1732,194.2012,97.949,195.3236,90.8258,189.18,87.05\" style=\"stroke: #383838; stroke-width: 1.0;\"/><text fill=\"#000000\" font-family=\"sans-serif\" font-size=\"13\" lengthAdjust=\"spacingAndGlyphs\" textLength=\"7\" x=\"198\" y=\"283.0669\">y</text></a><!--MD5=[604cbf994c02b74b117f728a71673cea]\n",
       "reverse link E10 to E6--><a href=\"psysml:a19db77c-da80-41d6-a5f2-85a22676bfcf\" target=\"_top\" title=\"psysml:a19db77c-da80-41d6-a5f2-85a22676bfcf\" xlink:actuate=\"onRequest\" xlink:href=\"psysml:a19db77c-da80-41d6-a5f2-85a22676bfcf\" xlink:show=\"new\" xlink:title=\"psysml:a19db77c-da80-41d6-a5f2-85a22676bfcf\" xlink:type=\"simple\"><path d=\"M169.86,100.02 C165.41,117.1 161,134 161,134 C161,134 116,270 116,270 C116,270 116,287 116,287 C116,287 128,317 128,317 C128,317 136.48,381.25 142.11,423.92 \" fill=\"none\" id=\"E10&lt;-E6-1\" style=\"stroke: #383838; stroke-width: 1.0;\"/><polygon fill=\"#FFFFFF\" points=\"173.21,87.21,167.8241,92.005,170.1788,98.8208,175.5647,94.0258,173.21,87.21\" style=\"stroke: #383838; stroke-width: 1.0;\"/><text fill=\"#000000\" font-family=\"sans-serif\" font-size=\"13\" lengthAdjust=\"spacingAndGlyphs\" textLength=\"7\" x=\"117\" y=\"283.0669\">y</text></a><!--MD5=[604cbf994c02b74b117f728a71673cea]\n",
       "reverse link E10 to E6--><a href=\"psysml:a19db77c-da80-41d6-a5f2-85a22676bfcf\" target=\"_top\" title=\"psysml:a19db77c-da80-41d6-a5f2-85a22676bfcf\" xlink:actuate=\"onRequest\" xlink:href=\"psysml:a19db77c-da80-41d6-a5f2-85a22676bfcf\" xlink:show=\"new\" xlink:title=\"psysml:a19db77c-da80-41d6-a5f2-85a22676bfcf\" xlink:type=\"simple\"><path d=\"M176.15,100.27 C170.13,174.82 156.15,347.78 150,423.9 \" fill=\"none\" id=\"E10&lt;-E6-2\" style=\"stroke: #383838; stroke-width: 1.0;\"/><polygon fill=\"#FFFFFF\" points=\"177.21,87.14,172.7415,92.7998,176.2473,99.1013,180.7158,93.4416,177.21,87.14\" style=\"stroke: #383838; stroke-width: 1.0;\"/><text fill=\"#000000\" font-family=\"sans-serif\" font-size=\"13\" lengthAdjust=\"spacingAndGlyphs\" textLength=\"7\" x=\"163\" y=\"283.0669\">y</text></a><!--MD5=[4f2e9086310f97b668a693a4b5b70b98]\n",
       "@startuml\r\n",
       "skinparam linetype polyline\r\n",
       "skinparam monochrome true\r\n",
       "skinparam classbackgroundcolor white\r\n",
       "skinparam shadowing false\r\n",
       "skinparam wrapWidth 300\r\n",
       "hide circle\r\n",
       "\r\n",
       "package \"PartTest\" as E1  [[psysml:c65cc0cd-28b1-4d7a-bc05-02136890ed9a ]]  {\r\n",
       "comp usage \"f: A\" as E2  <<(T,blue)part>> [[psysml:634826b2-2fc2-4798-92ed-071cd1dffdd8 ]] {\r\n",
       "}\r\n",
       "comp def \"A\" as E3  <<(T,blue)part def>> [[psysml:36aba5eb-a810-4976-a211-fcdfb7b330f5 ]] {\r\n",
       "- - ports - -\r\n",
       "c: C\r\n",
       "}\r\n",
       "comp usage \"b: B\" as E4  <<(T,blue)part>> [[psysml:b5150c44-d935-4f31-a69b-527c90fd7c47 ]] {\r\n",
       "}\r\n",
       "comp def \"B\" as E6  <<(T,blue)part def>> [[psysml:94fb1c4b-8096-4b0e-a0c8-00d5fe55de6c ]] {\r\n",
       "- - ports - -\r\n",
       "x: ~C\r\n",
       "}\r\n",
       "comp usage \"a: A\" as E7  <<(T,blue)part>> [[psysml:de084c60-8c86-4761-a316-7296396fb321 ]] {\r\n",
       "}\r\n",
       "package \"P\" as E9  [[psysml:4c76b494-1a6c-482d-b35c-aa72d24bc41e ]]  {\r\n",
       "}\r\n",
       "comp def \"C\" as E10  <<(T,blue)port def>> [[psysml:4c8e1ce2-7f9a-4661-9090-c510b6f01354 ]] {\r\n",
       "}\r\n",
       "E2 - -:|> E3 [[psysml:38cdc859-4dfa-4bc4-87cd-169dd5acc896 ]] \r\n",
       "E3 *- - E4 [[psysml:5ebdadf2-6044-45bc-aa24-2da7c79aba16 ]] \r\n",
       "E4 - -:|> E6 [[psysml:1fd8d685-c326-41aa-b421-a8308f20148e ]] \r\n",
       "E6 *- - E7 [[psysml:c471fe89-f766-40f3-82e0-5e28332f3a67 ]] \r\n",
       "E7 - -:|> E3 [[psysml:ce24e444-eb42-4eaa-91b0-86c1efe7ffc5 ]] \r\n",
       "E6 +- - E9 [[psysml:cabff1fd-5442-4a71-976e-341ac2e5dda1 ]] \r\n",
       "E10 o- - E3 [[psysml:a19db77c-da80-41d6-a5f2-85a22676bfcf ]] : y\r\n",
       "E10 o- - E6 [[psysml:a19db77c-da80-41d6-a5f2-85a22676bfcf ]] : y\r\n",
       "E10 o- - E3 [[psysml:a19db77c-da80-41d6-a5f2-85a22676bfcf ]] : y\r\n",
       "E10 o- - E6 [[psysml:a19db77c-da80-41d6-a5f2-85a22676bfcf ]] : y\r\n",
       "E10 o- - E3 [[psysml:a19db77c-da80-41d6-a5f2-85a22676bfcf ]] : y\r\n",
       "E10 o- - E6 [[psysml:a19db77c-da80-41d6-a5f2-85a22676bfcf ]] : y\r\n",
       "}\r\n",
       "@enduml\r\n",
       "\n",
       "PlantUML version 1.2020.13(Sat Jun 13 12:26:38 UTC 2020)\n",
       "(EPL source distribution)\n",
       "Java Runtime: OpenJDK Runtime Environment\n",
       "JVM: OpenJDK 64-Bit Server VM\n",
       "Default Encoding: UTF-8\n",
       "Language: en\n",
       "Country: null\n",
       "--></g></svg>"
      ]
     },
     "execution_count": 10,
     "metadata": {},
     "output_type": "execute_result"
    }
   ],
   "source": [
    "%viz --style=\"POLYLINE\" --view=\"Tree\" \"PartTest\""
   ]
  },
  {
   "cell_type": "code",
   "execution_count": 11,
   "id": "bc70cbe3",
   "metadata": {
    "execution": {
     "iopub.execute_input": "2021-04-20T07:29:11.204597Z",
     "iopub.status.busy": "2021-04-20T07:29:11.202653Z",
     "iopub.status.idle": "2021-04-20T07:29:11.237702Z",
     "shell.execute_reply": "2021-04-20T07:29:11.237083Z"
    }
   },
   "outputs": [
    {
     "data": {
      "image/svg+xml": [
       "<?xml version=\"1.0\" encoding=\"UTF-8\" standalone=\"no\"?><svg xmlns=\"http://www.w3.org/2000/svg\" xmlns:xlink=\"http://www.w3.org/1999/xlink\" contentScriptType=\"application/ecmascript\" contentStyleType=\"text/css\" height=\"12px\" preserveAspectRatio=\"none\" style=\"width:12px;height:12px;\" version=\"1.1\" viewBox=\"0 0 12 12\" width=\"12px\" zoomAndPan=\"magnify\"><defs/><g><!--MD5=[896ac0e7a515d8dd7765a661cb4ee08b]\n",
       "@startuml\r\n",
       "skinparam linetype polyline\r\n",
       "skinparam monochrome true\r\n",
       "skinparam classbackgroundcolor white\r\n",
       "skinparam shadowing false\r\n",
       "skinparam wrapWidth 300\r\n",
       "hide circle\r\n",
       "\r\n",
       "@enduml\r\n",
       "\n",
       "PlantUML version 1.2020.13(Sat Jun 13 12:26:38 UTC 2020)\n",
       "(EPL source distribution)\n",
       "Java Runtime: OpenJDK Runtime Environment\n",
       "JVM: OpenJDK 64-Bit Server VM\n",
       "Default Encoding: UTF-8\n",
       "Language: en\n",
       "Country: null\n",
       "--></g></svg>"
      ]
     },
     "execution_count": 11,
     "metadata": {},
     "output_type": "execute_result"
    }
   ],
   "source": [
    "%viz --style=\"POLYLINE\" --view=\"State\" \"PartTest\""
   ]
  },
  {
   "cell_type": "code",
   "execution_count": 12,
   "id": "81c503ef",
   "metadata": {
    "execution": {
     "iopub.execute_input": "2021-04-20T07:29:11.291918Z",
     "iopub.status.busy": "2021-04-20T07:29:11.291334Z",
     "iopub.status.idle": "2021-04-20T07:29:11.337614Z",
     "shell.execute_reply": "2021-04-20T07:29:11.337060Z"
    }
   },
   "outputs": [
    {
     "data": {
      "image/svg+xml": [
       "<?xml version=\"1.0\" encoding=\"UTF-8\" standalone=\"no\"?><svg xmlns=\"http://www.w3.org/2000/svg\" xmlns:xlink=\"http://www.w3.org/1999/xlink\" contentScriptType=\"application/ecmascript\" contentStyleType=\"text/css\" height=\"247px\" preserveAspectRatio=\"none\" style=\"width:568px;height:247px;\" version=\"1.1\" viewBox=\"0 0 568 247\" width=\"568px\" zoomAndPan=\"magnify\"><defs/><g><!--MD5=[fbc87193dbaf4d95561dea2c320d4a47]\n",
       "cluster E1--><a href=\"psysml:c65cc0cd-28b1-4d7a-bc05-02136890ed9a\" target=\"_top\" title=\"psysml:c65cc0cd-28b1-4d7a-bc05-02136890ed9a\" xlink:actuate=\"onRequest\" xlink:href=\"psysml:c65cc0cd-28b1-4d7a-bc05-02136890ed9a\" xlink:show=\"new\" xlink:title=\"psysml:c65cc0cd-28b1-4d7a-bc05-02136890ed9a\" xlink:type=\"simple\"><polygon fill=\"#FFFFFF\" points=\"16,6,89,6,96,28.2969,546,28.2969,546,235,16,235,16,6\" style=\"stroke: #000000; stroke-width: 1.5;\"/><line style=\"stroke: #000000; stroke-width: 1.5;\" x1=\"16\" x2=\"96\" y1=\"28.2969\" y2=\"28.2969\"/><text fill=\"#000000\" font-family=\"sans-serif\" font-size=\"14\" font-weight=\"bold\" lengthAdjust=\"spacingAndGlyphs\" textLength=\"67\" x=\"20\" y=\"20.9951\">PartTest</text></a><!--MD5=[d5e69f78d87373223dbae638b30a9c99]\n",
       "cluster E3--><a href=\"psysml:36aba5eb-a810-4976-a211-fcdfb7b330f5\" target=\"_top\" title=\"psysml:36aba5eb-a810-4976-a211-fcdfb7b330f5\" xlink:actuate=\"onRequest\" xlink:href=\"psysml:36aba5eb-a810-4976-a211-fcdfb7b330f5\" xlink:show=\"new\" xlink:title=\"psysml:36aba5eb-a810-4976-a211-fcdfb7b330f5\" xlink:type=\"simple\"><rect fill=\"#FFFFFF\" height=\"150\" id=\"E3\" style=\"stroke: #383838; stroke-width: 1.5;\" width=\"120\" x=\"410\" y=\"62.5\"/><rect fill=\"#F8F8F8\" height=\"37.9375\" style=\"stroke: #383838; stroke-width: 1.5;\" width=\"120\" x=\"410\" y=\"62.5\"/><text fill=\"#000000\" font-family=\"sans-serif\" font-size=\"12\" font-style=\"italic\" lengthAdjust=\"spacingAndGlyphs\" textLength=\"64\" x=\"438\" y=\"78.6387\">«part def»</text><text fill=\"#000000\" font-family=\"sans-serif\" font-size=\"12\" lengthAdjust=\"spacingAndGlyphs\" textLength=\"8\" x=\"466\" y=\"92.6074\">A</text></a><!--MD5=[14e3b0961a2654348d326746436168a1]\n",
       "cluster E6--><a href=\"psysml:94fb1c4b-8096-4b0e-a0c8-00d5fe55de6c\" target=\"_top\" title=\"psysml:94fb1c4b-8096-4b0e-a0c8-00d5fe55de6c\" xlink:actuate=\"onRequest\" xlink:href=\"psysml:94fb1c4b-8096-4b0e-a0c8-00d5fe55de6c\" xlink:show=\"new\" xlink:title=\"psysml:94fb1c4b-8096-4b0e-a0c8-00d5fe55de6c\" xlink:type=\"simple\"><rect fill=\"#FFFFFF\" height=\"156.5\" id=\"E6\" style=\"stroke: #383838; stroke-width: 1.5;\" width=\"205\" x=\"197\" y=\"62.5\"/><rect fill=\"#F8F8F8\" height=\"37.9375\" style=\"stroke: #383838; stroke-width: 1.5;\" width=\"205\" x=\"197\" y=\"62.5\"/><text fill=\"#000000\" font-family=\"sans-serif\" font-size=\"12\" font-style=\"italic\" lengthAdjust=\"spacingAndGlyphs\" textLength=\"64\" x=\"267.5\" y=\"78.6387\">«part def»</text><text fill=\"#000000\" font-family=\"sans-serif\" font-size=\"12\" lengthAdjust=\"spacingAndGlyphs\" textLength=\"8\" x=\"295.5\" y=\"92.6074\">B</text></a><g id=\"E1.E10\"><a href=\"psysml:4c8e1ce2-7f9a-4661-9090-c510b6f01354\" target=\"_top\" title=\"psysml:4c8e1ce2-7f9a-4661-9090-c510b6f01354\" xlink:actuate=\"onRequest\" xlink:href=\"psysml:4c8e1ce2-7f9a-4661-9090-c510b6f01354\" xlink:show=\"new\" xlink:title=\"psysml:4c8e1ce2-7f9a-4661-9090-c510b6f01354\" xlink:type=\"simple\"><rect fill=\"#FFFFFF\" height=\"42.9375\" id=\"E10\" style=\"stroke: #383838; stroke-width: 1.5;\" width=\"71\" x=\"117.5\" y=\"41\"/><rect fill=\"#F8F8F8\" height=\"37.9375\" style=\"stroke: #383838; stroke-width: 1.5;\" width=\"71\" x=\"117.5\" y=\"41\"/><text fill=\"#000000\" font-family=\"sans-serif\" font-size=\"12\" font-style=\"italic\" lengthAdjust=\"spacingAndGlyphs\" textLength=\"64\" x=\"121\" y=\"57.1387\">«port def»</text><text fill=\"#000000\" font-family=\"sans-serif\" font-size=\"12\" lengthAdjust=\"spacingAndGlyphs\" textLength=\"8\" x=\"149\" y=\"71.1074\">C</text></a></g><g id=\"E1.E2\"><a href=\"psysml:634826b2-2fc2-4798-92ed-071cd1dffdd8\" target=\"_top\" title=\"psysml:634826b2-2fc2-4798-92ed-071cd1dffdd8\" xlink:actuate=\"onRequest\" xlink:href=\"psysml:634826b2-2fc2-4798-92ed-071cd1dffdd8\" xlink:show=\"new\" xlink:title=\"psysml:634826b2-2fc2-4798-92ed-071cd1dffdd8\" xlink:type=\"simple\"><rect fill=\"#FFFFFF\" height=\"40\" id=\"E2\" rx=\"10\" ry=\"10\" style=\"stroke: #383838; stroke-width: 1.5;\" width=\"50\" x=\"32\" y=\"42.5\"/><rect fill=\"#F8F8F8\" height=\"23.9688\" rx=\"10\" ry=\"10\" style=\"stroke: #F8F8F8; stroke-width: 1.5;\" width=\"50\" x=\"32\" y=\"42.5\"/><rect fill=\"#F8F8F8\" height=\"10\" style=\"stroke: #F8F8F8; stroke-width: 1.5;\" width=\"50\" x=\"32\" y=\"56.4688\"/><rect fill=\"none\" height=\"40\" id=\"E2\" rx=\"10\" ry=\"10\" style=\"stroke: #383838; stroke-width: 1.5;\" width=\"50\" x=\"32\" y=\"42.5\"/><text fill=\"#000000\" font-family=\"sans-serif\" font-size=\"12\" lengthAdjust=\"spacingAndGlyphs\" textLength=\"20\" x=\"47\" y=\"58.6387\">f: A</text></a></g><text fill=\"#000000\" font-family=\"sans-serif\" font-size=\"14\" lengthAdjust=\"spacingAndGlyphs\" textLength=\"27\" x=\"456.5\" y=\"41.1982\">c: C</text><rect fill=\"#383838\" height=\"12\" style=\"stroke: #F8F8F8; stroke-width: 1.5;\" width=\"12\" x=\"464\" y=\"56.5\"/><g id=\"E1.E3.E4\"><a href=\"psysml:b5150c44-d935-4f31-a69b-527c90fd7c47\" target=\"_top\" title=\"psysml:b5150c44-d935-4f31-a69b-527c90fd7c47\" xlink:actuate=\"onRequest\" xlink:href=\"psysml:b5150c44-d935-4f31-a69b-527c90fd7c47\" xlink:show=\"new\" xlink:title=\"psysml:b5150c44-d935-4f31-a69b-527c90fd7c47\" xlink:type=\"simple\"><rect fill=\"#FFFFFF\" height=\"40\" id=\"E4\" rx=\"10\" ry=\"10\" style=\"stroke: #383838; stroke-width: 1.5;\" width=\"50\" x=\"445\" y=\"156.5\"/><rect fill=\"#F8F8F8\" height=\"23.9688\" rx=\"10\" ry=\"10\" style=\"stroke: #F8F8F8; stroke-width: 1.5;\" width=\"50\" x=\"445\" y=\"156.5\"/><rect fill=\"#F8F8F8\" height=\"10\" style=\"stroke: #F8F8F8; stroke-width: 1.5;\" width=\"50\" x=\"445\" y=\"170.4688\"/><rect fill=\"none\" height=\"40\" id=\"E4\" rx=\"10\" ry=\"10\" style=\"stroke: #383838; stroke-width: 1.5;\" width=\"50\" x=\"445\" y=\"156.5\"/><text fill=\"#000000\" font-family=\"sans-serif\" font-size=\"12\" lengthAdjust=\"spacingAndGlyphs\" textLength=\"24\" x=\"458\" y=\"172.6387\">b: B</text></a></g><text fill=\"#000000\" font-family=\"sans-serif\" font-size=\"14\" lengthAdjust=\"spacingAndGlyphs\" textLength=\"38\" x=\"323\" y=\"41.1982\">x: ~C</text><rect fill=\"#383838\" height=\"12\" style=\"stroke: #F8F8F8; stroke-width: 1.5;\" width=\"12\" x=\"336\" y=\"56.5\"/><g id=\"E1.E6.E7\"><a href=\"psysml:de084c60-8c86-4761-a316-7296396fb321\" target=\"_top\" title=\"psysml:de084c60-8c86-4761-a316-7296396fb321\" xlink:actuate=\"onRequest\" xlink:href=\"psysml:de084c60-8c86-4761-a316-7296396fb321\" xlink:show=\"new\" xlink:title=\"psysml:de084c60-8c86-4761-a316-7296396fb321\" xlink:type=\"simple\"><rect fill=\"#FFFFFF\" height=\"40\" id=\"E7\" rx=\"10\" ry=\"10\" style=\"stroke: #383838; stroke-width: 1.5;\" width=\"50\" x=\"213\" y=\"100\"/><rect fill=\"#F8F8F8\" height=\"23.9688\" rx=\"10\" ry=\"10\" style=\"stroke: #F8F8F8; stroke-width: 1.5;\" width=\"50\" x=\"213\" y=\"100\"/><rect fill=\"#F8F8F8\" height=\"10\" style=\"stroke: #F8F8F8; stroke-width: 1.5;\" width=\"50\" x=\"213\" y=\"113.9688\"/><rect fill=\"none\" height=\"40\" id=\"E7\" rx=\"10\" ry=\"10\" style=\"stroke: #383838; stroke-width: 1.5;\" width=\"50\" x=\"213\" y=\"100\"/><text fill=\"#000000\" font-family=\"sans-serif\" font-size=\"12\" lengthAdjust=\"spacingAndGlyphs\" textLength=\"24\" x=\"226\" y=\"116.1387\">a: A</text></a></g><a href=\"psysml:4c76b494-1a6c-482d-b35c-aa72d24bc41e\" target=\"_top\" title=\"psysml:4c76b494-1a6c-482d-b35c-aa72d24bc41e\" xlink:actuate=\"onRequest\" xlink:href=\"psysml:4c76b494-1a6c-482d-b35c-aa72d24bc41e\" xlink:show=\"new\" xlink:title=\"psysml:4c76b494-1a6c-482d-b35c-aa72d24bc41e\" xlink:type=\"simple\"><polygon fill=\"#FFFFFF\" points=\"327,150,343,150,350,172.2969,357,172.2969,357,202.5938,327,202.5938,327,150\" style=\"stroke: #000000; stroke-width: 1.5;\"/><line style=\"stroke: #000000; stroke-width: 1.5;\" x1=\"327\" x2=\"350\" y1=\"172.2969\" y2=\"172.2969\"/><text fill=\"#000000\" font-family=\"sans-serif\" font-size=\"14\" font-weight=\"bold\" lengthAdjust=\"spacingAndGlyphs\" textLength=\"10\" x=\"331\" y=\"164.9951\">P</text></a><!--MD5=[6ca3a7c547689dc26a754037c449e8ab]\n",
       "@startuml\r\n",
       "skinparam ranksep 10\r\n",
       "skinparam rectangle {\r\n",
       " backgroundColor<<block>> LightGreen\r\n",
       "}\r\n",
       "skinparam linetype polyline\r\n",
       "skinparam monochrome true\r\n",
       "skinparam classbackgroundcolor white\r\n",
       "skinparam shadowing false\r\n",
       "skinparam wrapWidth 300\r\n",
       "hide circle\r\n",
       "\r\n",
       "package \"PartTest\" as E1  [[psysml:c65cc0cd-28b1-4d7a-bc05-02136890ed9a ]]  {\r\n",
       "rec usage \"f: A\" as E2  [[psysml:634826b2-2fc2-4798-92ed-071cd1dffdd8 ]] {\r\n",
       "}\r\n",
       "rec def \"A\" as E3  <<(T,blue)part def>> [[psysml:36aba5eb-a810-4976-a211-fcdfb7b330f5 ]] {\r\n",
       "rec usage \"b: B\" as E4  [[psysml:b5150c44-d935-4f31-a69b-527c90fd7c47 ]] {\r\n",
       "}\r\n",
       "portin \"c: C\" as E5  <<(T,blue)port>> [[psysml:15f0fdfb-f77b-4913-8565-6992b28565d6 ]] \r\n",
       "}\r\n",
       "rec def \"B\" as E6  <<(T,blue)part def>> [[psysml:94fb1c4b-8096-4b0e-a0c8-00d5fe55de6c ]] {\r\n",
       "rec usage \"a: A\" as E7  [[psysml:de084c60-8c86-4761-a316-7296396fb321 ]] {\r\n",
       "}\r\n",
       "portin \"x: ~C\" as E8  <<(T,blue)port>> [[psysml:6cb219e8-2ff6-47bb-94c6-2fc71ea9a3d9 ]] \r\n",
       "package \"P\" as E9  [[psysml:4c76b494-1a6c-482d-b35c-aa72d24bc41e ]]  {\r\n",
       "}\r\n",
       "}\r\n",
       "def \"C\" as E10  <<(T,blue)port def>> [[psysml:4c8e1ce2-7f9a-4661-9090-c510b6f01354 ]] \r\n",
       "}\r\n",
       "@enduml\r\n",
       "\n",
       "PlantUML version 1.2020.13(Sat Jun 13 12:26:38 UTC 2020)\n",
       "(EPL source distribution)\n",
       "Java Runtime: OpenJDK Runtime Environment\n",
       "JVM: OpenJDK 64-Bit Server VM\n",
       "Default Encoding: UTF-8\n",
       "Language: en\n",
       "Country: null\n",
       "--></g></svg>"
      ]
     },
     "execution_count": 12,
     "metadata": {},
     "output_type": "execute_result"
    }
   ],
   "source": [
    "%viz --style=\"POLYLINE\" --view=\"Interconnection\" \"PartTest\""
   ]
  },
  {
   "cell_type": "code",
   "execution_count": 13,
   "id": "8a8e09e4",
   "metadata": {
    "execution": {
     "iopub.execute_input": "2021-04-20T07:29:11.388034Z",
     "iopub.status.busy": "2021-04-20T07:29:11.387389Z",
     "iopub.status.idle": "2021-04-20T07:29:11.394856Z",
     "shell.execute_reply": "2021-04-20T07:29:11.395379Z"
    }
   },
   "outputs": [
    {
     "data": {
      "image/svg+xml": [
       "<?xml version=\"1.0\" encoding=\"UTF-8\" standalone=\"no\"?><svg xmlns=\"http://www.w3.org/2000/svg\" xmlns:xlink=\"http://www.w3.org/1999/xlink\" contentScriptType=\"application/ecmascript\" contentStyleType=\"text/css\" height=\"12px\" preserveAspectRatio=\"none\" style=\"width:12px;height:12px;\" version=\"1.1\" viewBox=\"0 0 12 12\" width=\"12px\" zoomAndPan=\"magnify\"><defs/><g><!--MD5=[97bbf32f66ccd50cbc40d92ea8f5a65e]\n",
       "@startuml\r\n",
       "skinparam ranksep 8\r\n",
       "skinparam linetype polyline\r\n",
       "skinparam monochrome true\r\n",
       "skinparam classbackgroundcolor white\r\n",
       "skinparam shadowing false\r\n",
       "skinparam wrapWidth 300\r\n",
       "hide circle\r\n",
       "\r\n",
       "@enduml\r\n",
       "\n",
       "PlantUML version 1.2020.13(Sat Jun 13 12:26:38 UTC 2020)\n",
       "(EPL source distribution)\n",
       "Java Runtime: OpenJDK Runtime Environment\n",
       "JVM: OpenJDK 64-Bit Server VM\n",
       "Default Encoding: UTF-8\n",
       "Language: en\n",
       "Country: null\n",
       "--></g></svg>"
      ]
     },
     "execution_count": 13,
     "metadata": {},
     "output_type": "execute_result"
    }
   ],
   "source": [
    "%viz --style=\"POLYLINE\" --view=\"Action\" \"PartTest\""
   ]
  },
  {
   "cell_type": "code",
   "execution_count": 14,
   "id": "e735074f",
   "metadata": {
    "execution": {
     "iopub.execute_input": "2021-04-20T07:29:11.451076Z",
     "iopub.status.busy": "2021-04-20T07:29:11.449228Z",
     "iopub.status.idle": "2021-04-20T07:29:11.601102Z",
     "shell.execute_reply": "2021-04-20T07:29:11.601535Z"
    }
   },
   "outputs": [
    {
     "data": {
      "image/svg+xml": [
       "<?xml version=\"1.0\" encoding=\"UTF-8\" standalone=\"no\"?><svg xmlns=\"http://www.w3.org/2000/svg\" xmlns:xlink=\"http://www.w3.org/1999/xlink\" contentScriptType=\"application/ecmascript\" contentStyleType=\"text/css\" height=\"642px\" preserveAspectRatio=\"none\" style=\"width:260px;height:642px;\" version=\"1.1\" viewBox=\"0 0 260 642\" width=\"260px\" zoomAndPan=\"magnify\"><defs/><g><!--MD5=[fbc87193dbaf4d95561dea2c320d4a47]\n",
       "cluster E1--><a href=\"psysml:c65cc0cd-28b1-4d7a-bc05-02136890ed9a\" target=\"_top\" title=\"psysml:c65cc0cd-28b1-4d7a-bc05-02136890ed9a\" xlink:actuate=\"onRequest\" xlink:href=\"psysml:c65cc0cd-28b1-4d7a-bc05-02136890ed9a\" xlink:show=\"new\" xlink:title=\"psysml:c65cc0cd-28b1-4d7a-bc05-02136890ed9a\" xlink:type=\"simple\"><polygon fill=\"#FFFFFF\" points=\"16,6,89,6,96,28.2969,238,28.2969,238,630,16,630,16,6\" style=\"stroke: #000000; stroke-width: 1.5;\"/><line style=\"stroke: #000000; stroke-width: 1.5;\" x1=\"16\" x2=\"96\" y1=\"28.2969\" y2=\"28.2969\"/><text fill=\"#000000\" font-family=\"sans-serif\" font-size=\"14\" font-weight=\"bold\" lengthAdjust=\"spacingAndGlyphs\" textLength=\"67\" x=\"20\" y=\"20.9951\">PartTest</text></a><!--MD5=[b4997ac47864f28c2f74865a473b2911]\n",
       "class E2--><a href=\"psysml:634826b2-2fc2-4798-92ed-071cd1dffdd8\" target=\"_top\" title=\"psysml:634826b2-2fc2-4798-92ed-071cd1dffdd8\" xlink:actuate=\"onRequest\" xlink:href=\"psysml:634826b2-2fc2-4798-92ed-071cd1dffdd8\" xlink:show=\"new\" xlink:title=\"psysml:634826b2-2fc2-4798-92ed-071cd1dffdd8\" xlink:type=\"simple\"><rect fill=\"#FFFFFF\" height=\"45.9375\" id=\"E2\" rx=\"10\" ry=\"10\" style=\"stroke: #383838; stroke-width: 1.5;\" width=\"42\" x=\"32\" y=\"41\"/><text fill=\"#000000\" font-family=\"sans-serif\" font-size=\"12\" font-style=\"italic\" lengthAdjust=\"spacingAndGlyphs\" textLength=\"40\" x=\"33\" y=\"57.1387\">«part»</text><text fill=\"#000000\" font-family=\"sans-serif\" font-size=\"12\" lengthAdjust=\"spacingAndGlyphs\" textLength=\"20\" x=\"43\" y=\"71.1074\">f: A</text><line style=\"stroke: #383838; stroke-width: 1.5;\" x1=\"33\" x2=\"73\" y1=\"78.9375\" y2=\"78.9375\"/></a><!--MD5=[09b614a08d8cba4a07c9adeb5e0fee81]\n",
       "class E3--><a href=\"psysml:36aba5eb-a810-4976-a211-fcdfb7b330f5\" target=\"_top\" title=\"psysml:36aba5eb-a810-4976-a211-fcdfb7b330f5\" xlink:actuate=\"onRequest\" xlink:href=\"psysml:36aba5eb-a810-4976-a211-fcdfb7b330f5\" xlink:show=\"new\" xlink:title=\"psysml:36aba5eb-a810-4976-a211-fcdfb7b330f5\" xlink:type=\"simple\"><rect fill=\"#FFFFFF\" height=\"75.5469\" id=\"E3\" style=\"stroke: #383838; stroke-width: 1.5;\" width=\"66\" x=\"37\" y=\"164\"/><text fill=\"#000000\" font-family=\"sans-serif\" font-size=\"12\" font-style=\"italic\" lengthAdjust=\"spacingAndGlyphs\" textLength=\"64\" x=\"38\" y=\"180.1387\">«part def»</text><text fill=\"#000000\" font-family=\"sans-serif\" font-size=\"12\" lengthAdjust=\"spacingAndGlyphs\" textLength=\"8\" x=\"66\" y=\"194.1074\">A</text><line style=\"stroke: #383838; stroke-width: 1.5;\" x1=\"38\" x2=\"102\" y1=\"201.9375\" y2=\"201.9375\"/><text fill=\"#000000\" font-family=\"sans-serif\" font-size=\"11\" lengthAdjust=\"spacingAndGlyphs\" textLength=\"22\" x=\"43\" y=\"232.9526\">c: C</text><line style=\"stroke: #383838; stroke-width: 1.0;\" x1=\"38\" x2=\"55\" y1=\"216.3398\" y2=\"216.3398\"/><text fill=\"#000000\" font-family=\"sans-serif\" font-size=\"11\" lengthAdjust=\"spacingAndGlyphs\" textLength=\"30\" x=\"55\" y=\"219.6479\">ports</text><line style=\"stroke: #383838; stroke-width: 1.0;\" x1=\"85\" x2=\"102\" y1=\"216.3398\" y2=\"216.3398\"/></a><!--MD5=[ebbe1d658d1005bcc118a6aa81145e00]\n",
       "class E4--><a href=\"psysml:b5150c44-d935-4f31-a69b-527c90fd7c47\" target=\"_top\" title=\"psysml:b5150c44-d935-4f31-a69b-527c90fd7c47\" xlink:actuate=\"onRequest\" xlink:href=\"psysml:b5150c44-d935-4f31-a69b-527c90fd7c47\" xlink:show=\"new\" xlink:title=\"psysml:b5150c44-d935-4f31-a69b-527c90fd7c47\" xlink:type=\"simple\"><rect fill=\"#FFFFFF\" height=\"45.9375\" id=\"E4\" rx=\"10\" ry=\"10\" style=\"stroke: #383838; stroke-width: 1.5;\" width=\"42\" x=\"69\" y=\"317\"/><text fill=\"#000000\" font-family=\"sans-serif\" font-size=\"12\" font-style=\"italic\" lengthAdjust=\"spacingAndGlyphs\" textLength=\"40\" x=\"70\" y=\"333.1387\">«part»</text><text fill=\"#000000\" font-family=\"sans-serif\" font-size=\"12\" lengthAdjust=\"spacingAndGlyphs\" textLength=\"24\" x=\"78\" y=\"347.1074\">b: B</text><line style=\"stroke: #383838; stroke-width: 1.5;\" x1=\"70\" x2=\"110\" y1=\"354.9375\" y2=\"354.9375\"/></a><!--MD5=[60a26617385b1d2d0262a64233df1f8d]\n",
       "class E6--><a href=\"psysml:94fb1c4b-8096-4b0e-a0c8-00d5fe55de6c\" target=\"_top\" title=\"psysml:94fb1c4b-8096-4b0e-a0c8-00d5fe55de6c\" xlink:actuate=\"onRequest\" xlink:href=\"psysml:94fb1c4b-8096-4b0e-a0c8-00d5fe55de6c\" xlink:show=\"new\" xlink:title=\"psysml:94fb1c4b-8096-4b0e-a0c8-00d5fe55de6c\" xlink:type=\"simple\"><rect fill=\"#FFFFFF\" height=\"75.5469\" id=\"E6\" style=\"stroke: #383838; stroke-width: 1.5;\" width=\"66\" x=\"114\" y=\"424\"/><text fill=\"#000000\" font-family=\"sans-serif\" font-size=\"12\" font-style=\"italic\" lengthAdjust=\"spacingAndGlyphs\" textLength=\"64\" x=\"115\" y=\"440.1387\">«part def»</text><text fill=\"#000000\" font-family=\"sans-serif\" font-size=\"12\" lengthAdjust=\"spacingAndGlyphs\" textLength=\"8\" x=\"143\" y=\"454.1074\">B</text><line style=\"stroke: #383838; stroke-width: 1.5;\" x1=\"115\" x2=\"179\" y1=\"461.9375\" y2=\"461.9375\"/><text fill=\"#000000\" font-family=\"sans-serif\" font-size=\"11\" lengthAdjust=\"spacingAndGlyphs\" textLength=\"31\" x=\"120\" y=\"492.9526\">x: ~C</text><line style=\"stroke: #383838; stroke-width: 1.0;\" x1=\"115\" x2=\"132\" y1=\"476.3398\" y2=\"476.3398\"/><text fill=\"#000000\" font-family=\"sans-serif\" font-size=\"11\" lengthAdjust=\"spacingAndGlyphs\" textLength=\"30\" x=\"132\" y=\"479.6479\">ports</text><line style=\"stroke: #383838; stroke-width: 1.0;\" x1=\"162\" x2=\"179\" y1=\"476.3398\" y2=\"476.3398\"/></a><!--MD5=[2156ba9850f5573cc1fc38a6a4b2f02b]\n",
       "class E7--><a href=\"psysml:de084c60-8c86-4761-a316-7296396fb321\" target=\"_top\" title=\"psysml:de084c60-8c86-4761-a316-7296396fb321\" xlink:actuate=\"onRequest\" xlink:href=\"psysml:de084c60-8c86-4761-a316-7296396fb321\" xlink:show=\"new\" xlink:title=\"psysml:de084c60-8c86-4761-a316-7296396fb321\" xlink:type=\"simple\"><rect fill=\"#FFFFFF\" height=\"45.9375\" id=\"E7\" rx=\"10\" ry=\"10\" style=\"stroke: #383838; stroke-width: 1.5;\" width=\"42\" x=\"44\" y=\"564.5\"/><text fill=\"#000000\" font-family=\"sans-serif\" font-size=\"12\" font-style=\"italic\" lengthAdjust=\"spacingAndGlyphs\" textLength=\"40\" x=\"45\" y=\"580.6387\">«part»</text><text fill=\"#000000\" font-family=\"sans-serif\" font-size=\"12\" lengthAdjust=\"spacingAndGlyphs\" textLength=\"24\" x=\"53\" y=\"594.6074\">a: A</text><line style=\"stroke: #383838; stroke-width: 1.5;\" x1=\"45\" x2=\"85\" y1=\"602.4375\" y2=\"602.4375\"/></a><!--MD5=[96f4274e9e20536e775497830990834d]\n",
       "class E10--><a href=\"psysml:4c8e1ce2-7f9a-4661-9090-c510b6f01354\" target=\"_top\" title=\"psysml:4c8e1ce2-7f9a-4661-9090-c510b6f01354\" xlink:actuate=\"onRequest\" xlink:href=\"psysml:4c8e1ce2-7f9a-4661-9090-c510b6f01354\" xlink:show=\"new\" xlink:title=\"psysml:4c8e1ce2-7f9a-4661-9090-c510b6f01354\" xlink:type=\"simple\"><rect fill=\"#FFFFFF\" height=\"45.9375\" id=\"E10\" style=\"stroke: #383838; stroke-width: 1.5;\" width=\"66\" x=\"146\" y=\"41\"/><text fill=\"#000000\" font-family=\"sans-serif\" font-size=\"12\" font-style=\"italic\" lengthAdjust=\"spacingAndGlyphs\" textLength=\"64\" x=\"147\" y=\"57.1387\">«port def»</text><text fill=\"#000000\" font-family=\"sans-serif\" font-size=\"12\" lengthAdjust=\"spacingAndGlyphs\" textLength=\"8\" x=\"175\" y=\"71.1074\">C</text><line style=\"stroke: #383838; stroke-width: 1.5;\" x1=\"147\" x2=\"211\" y1=\"78.9375\" y2=\"78.9375\"/></a><a href=\"psysml:4c76b494-1a6c-482d-b35c-aa72d24bc41e\" target=\"_top\" title=\"psysml:4c76b494-1a6c-482d-b35c-aa72d24bc41e\" xlink:actuate=\"onRequest\" xlink:href=\"psysml:4c76b494-1a6c-482d-b35c-aa72d24bc41e\" xlink:show=\"new\" xlink:title=\"psysml:4c76b494-1a6c-482d-b35c-aa72d24bc41e\" xlink:type=\"simple\"><polygon fill=\"#FFFFFF\" points=\"132,561,148,561,155,583.2969,162,583.2969,162,613.5938,132,613.5938,132,561\" style=\"stroke: #000000; stroke-width: 1.5;\"/><line style=\"stroke: #000000; stroke-width: 1.5;\" x1=\"132\" x2=\"155\" y1=\"583.2969\" y2=\"583.2969\"/><text fill=\"#000000\" font-family=\"sans-serif\" font-size=\"14\" font-weight=\"bold\" lengthAdjust=\"spacingAndGlyphs\" textLength=\"10\" x=\"136\" y=\"575.9951\">P</text></a><!--MD5=[2720a5a1f2c3fca2055b230370638851]\n",
       "link E2 to E3--><a href=\"psysml:38cdc859-4dfa-4bc4-87cd-169dd5acc896\" target=\"_top\" title=\"psysml:38cdc859-4dfa-4bc4-87cd-169dd5acc896\" xlink:actuate=\"onRequest\" xlink:href=\"psysml:38cdc859-4dfa-4bc4-87cd-169dd5acc896\" xlink:show=\"new\" xlink:title=\"psysml:38cdc859-4dfa-4bc4-87cd-169dd5acc896\" xlink:type=\"simple\"><path d=\"M46.64,87.05 C42.55,101.23 38,117 38,117 C38,117 38,134 38,134 C38,134 40.31,138.84 43.69,145.92 \" fill=\"none\" id=\"E2-&gt;E3\" style=\"stroke: #383838; stroke-width: 1.0;\"/><polygon fill=\"#FFFFFF\" points=\"52.32,163.97,37.8169,149.8399,50.4508,143.808,52.32,163.97\" style=\"stroke: #383838; stroke-width: 1.0;\"/><ellipse cx=\"37.1659\" cy=\"143.8344\" fill=\"#383838\" rx=\"2\" ry=\"2\" style=\"stroke: #383838; stroke-width: 1.0;\"/><ellipse cx=\"46.1902\" cy=\"139.5259\" fill=\"#383838\" rx=\"2\" ry=\"2\" style=\"stroke: #383838; stroke-width: 1.0;\"/></a><!--MD5=[4672eba38e49728da53d11aeb285b987]\n",
       "reverse link E3 to E4--><a href=\"psysml:5ebdadf2-6044-45bc-aa24-2da7c79aba16\" target=\"_top\" title=\"psysml:5ebdadf2-6044-45bc-aa24-2da7c79aba16\" xlink:actuate=\"onRequest\" xlink:href=\"psysml:5ebdadf2-6044-45bc-aa24-2da7c79aba16\" xlink:show=\"new\" xlink:title=\"psysml:5ebdadf2-6044-45bc-aa24-2da7c79aba16\" xlink:type=\"simple\"><path d=\"M74.19,253.3 C75.68,271.19 77,287 77,287 C77,287 80.94,302.77 84.49,316.95 \" fill=\"none\" id=\"E3&lt;-E4\" style=\"stroke: #383838; stroke-width: 1.0;\"/><polygon fill=\"#383838\" points=\"73.09,240.09,69.5986,246.3995,74.08,252.0491,77.5714,245.7395,73.09,240.09\" style=\"stroke: #383838; stroke-width: 1.0;\"/></a><!--MD5=[79568f1e445c3877b6a54524624ccc7d]\n",
       "link E4 to E6--><a href=\"psysml:1fd8d685-c326-41aa-b421-a8308f20148e\" target=\"_top\" title=\"psysml:1fd8d685-c326-41aa-b421-a8308f20148e\" xlink:actuate=\"onRequest\" xlink:href=\"psysml:1fd8d685-c326-41aa-b421-a8308f20148e\" xlink:show=\"new\" xlink:title=\"psysml:1fd8d685-c326-41aa-b421-a8308f20148e\" xlink:type=\"simple\"><path d=\"M100.45,363.01 C106.1,374.9 113.36,390.18 120.46,405.12 \" fill=\"none\" id=\"E4-&gt;E6\" style=\"stroke: #383838; stroke-width: 1.0;\"/><polygon fill=\"#FFFFFF\" points=\"129.22,423.57,114.7395,409.4167,127.3831,403.405,129.22,423.57\" style=\"stroke: #383838; stroke-width: 1.0;\"/><ellipse cx=\"114.0981\" cy=\"403.4102\" fill=\"#383838\" rx=\"2\" ry=\"2\" style=\"stroke: #383838; stroke-width: 1.0;\"/><ellipse cx=\"123.1292\" cy=\"399.1161\" fill=\"#383838\" rx=\"2\" ry=\"2\" style=\"stroke: #383838; stroke-width: 1.0;\"/></a><!--MD5=[3f50a3473f1dfb74d3f76443e03635af]\n",
       "reverse link E6 to E7--><a href=\"psysml:c471fe89-f766-40f3-82e0-5e28332f3a67\" target=\"_top\" title=\"psysml:c471fe89-f766-40f3-82e0-5e28332f3a67\" xlink:actuate=\"onRequest\" xlink:href=\"psysml:c471fe89-f766-40f3-82e0-5e28332f3a67\" xlink:show=\"new\" xlink:title=\"psysml:c471fe89-f766-40f3-82e0-5e28332f3a67\" xlink:type=\"simple\"><path d=\"M115.19,510.9 C103,529.26 89.67,549.34 79.81,564.19 \" fill=\"none\" id=\"E6&lt;-E7\" style=\"stroke: #383838; stroke-width: 1.0;\"/><polygon fill=\"#383838\" points=\"122.4,500.05,115.7495,502.8377,115.7649,510.0488,122.4154,507.2611,122.4,500.05\" style=\"stroke: #383838; stroke-width: 1.0;\"/></a><!--MD5=[14ccda38c055a5c0da953d572bc50960]\n",
       "link E7 to E3--><a href=\"psysml:ce24e444-eb42-4eaa-91b0-86c1efe7ffc5\" target=\"_top\" title=\"psysml:ce24e444-eb42-4eaa-91b0-86c1efe7ffc5\" xlink:actuate=\"onRequest\" xlink:href=\"psysml:ce24e444-eb42-4eaa-91b0-86c1efe7ffc5\" xlink:show=\"new\" xlink:title=\"psysml:ce24e444-eb42-4eaa-91b0-86c1efe7ffc5\" xlink:type=\"simple\"><path d=\"M63.61,564.25 C60.07,507.72 51,363 51,363 C51,363 51,317 51,317 C51,317 55.76,288.43 60.52,259.89 \" fill=\"none\" id=\"E7-&gt;E3\" style=\"stroke: #383838; stroke-width: 1.0;\"/><polygon fill=\"#FFFFFF\" points=\"63.83,240.01,67.6135,259.9018,53.8037,257.6019,63.83,240.01\" style=\"stroke: #383838; stroke-width: 1.0;\"/><ellipse cx=\"64.7043\" cy=\"265.1958\" fill=\"#383838\" rx=\"2\" ry=\"2\" style=\"stroke: #383838; stroke-width: 1.0;\"/><ellipse cx=\"54.8401\" cy=\"263.553\" fill=\"#383838\" rx=\"2\" ry=\"2\" style=\"stroke: #383838; stroke-width: 1.0;\"/></a><!--MD5=[e88d06e5a652d73a6b19930eefe025a8]\n",
       "reverse link E6 to E9--><a href=\"psysml:cabff1fd-5442-4a71-976e-341ac2e5dda1\" target=\"_top\" title=\"psysml:cabff1fd-5442-4a71-976e-341ac2e5dda1\" xlink:actuate=\"onRequest\" xlink:href=\"psysml:cabff1fd-5442-4a71-976e-341ac2e5dda1\" xlink:show=\"new\" xlink:title=\"psysml:cabff1fd-5442-4a71-976e-341ac2e5dda1\" xlink:type=\"simple\"><path d=\"M147,515.35 C147,531.08 147,547.65 147,560.83 \" fill=\"none\" id=\"E6&lt;-E9\" style=\"stroke: #383838; stroke-width: 1.0;\"/><ellipse cx=\"147\" cy=\"508.05\" fill=\"#FFFFFF\" rx=\"8\" ry=\"8\" style=\"stroke: #383838; stroke-width: 1.0;\"/><line style=\"stroke: #383838; stroke-width: 1.0;\" x1=\"147\" x2=\"147\" y1=\"516.05\" y2=\"500.05\"/><line style=\"stroke: #383838; stroke-width: 1.0;\" x1=\"139\" x2=\"155\" y1=\"508.05\" y2=\"508.05\"/></a><!--MD5=[8e04057e7b3cbc0dca4fc78ea351e2da]\n",
       "reverse link E10 to E3--><a href=\"psysml:a19db77c-da80-41d6-a5f2-85a22676bfcf\" target=\"_top\" title=\"psysml:a19db77c-da80-41d6-a5f2-85a22676bfcf\" xlink:actuate=\"onRequest\" xlink:href=\"psysml:a19db77c-da80-41d6-a5f2-85a22676bfcf\" xlink:show=\"new\" xlink:title=\"psysml:a19db77c-da80-41d6-a5f2-85a22676bfcf\" xlink:type=\"simple\"><path d=\"M134.03,87.49 C105.91,101.55 75,117 75,117 C75,117 73.55,141.41 72.21,163.91 \" fill=\"none\" id=\"E10&lt;-E3\" style=\"stroke: #383838; stroke-width: 1.0;\"/><polygon fill=\"#FFFFFF\" points=\"145.81,81.6,138.6546,80.7056,135.0769,86.9666,142.2323,87.861,145.81,81.6\" style=\"stroke: #383838; stroke-width: 1.0;\"/><text fill=\"#000000\" font-family=\"sans-serif\" font-size=\"13\" lengthAdjust=\"spacingAndGlyphs\" textLength=\"7\" x=\"76\" y=\"130.0669\">y</text></a><!--MD5=[8e04057e7b3cbc0dca4fc78ea351e2da]\n",
       "reverse link E10 to E3--><a href=\"psysml:a19db77c-da80-41d6-a5f2-85a22676bfcf\" target=\"_top\" title=\"psysml:a19db77c-da80-41d6-a5f2-85a22676bfcf\" xlink:actuate=\"onRequest\" xlink:href=\"psysml:a19db77c-da80-41d6-a5f2-85a22676bfcf\" xlink:show=\"new\" xlink:title=\"psysml:a19db77c-da80-41d6-a5f2-85a22676bfcf\" xlink:type=\"simple\"><path d=\"M146.14,96.07 C134.39,107.18 124,117 124,117 C124,117 108.31,141.41 93.84,163.91 \" fill=\"none\" id=\"E10&lt;-E3-1\" style=\"stroke: #383838; stroke-width: 1.0;\"/><polygon fill=\"#FFFFFF\" points=\"155.68,87.05,148.5721,88.2658,146.9606,95.2945,154.0685,94.0787,155.68,87.05\" style=\"stroke: #383838; stroke-width: 1.0;\"/><text fill=\"#000000\" font-family=\"sans-serif\" font-size=\"13\" lengthAdjust=\"spacingAndGlyphs\" textLength=\"7\" x=\"125\" y=\"130.0669\">y</text></a><!--MD5=[8e04057e7b3cbc0dca4fc78ea351e2da]\n",
       "reverse link E10 to E3--><a href=\"psysml:a19db77c-da80-41d6-a5f2-85a22676bfcf\" target=\"_top\" title=\"psysml:a19db77c-da80-41d6-a5f2-85a22676bfcf\" xlink:actuate=\"onRequest\" xlink:href=\"psysml:a19db77c-da80-41d6-a5f2-85a22676bfcf\" xlink:show=\"new\" xlink:title=\"psysml:a19db77c-da80-41d6-a5f2-85a22676bfcf\" xlink:type=\"simple\"><path d=\"M156.82,98.27 C145.05,115.92 133,134 133,134 C133,134 118.46,149.47 103.34,165.54 \" fill=\"none\" id=\"E10&lt;-E3-2\" style=\"stroke: #383838; stroke-width: 1.0;\"/><polygon fill=\"#FFFFFF\" points=\"164.19,87.21,157.5328,89.9815,157.5306,97.1926,164.1878,94.4211,164.19,87.21\" style=\"stroke: #383838; stroke-width: 1.0;\"/><text fill=\"#000000\" font-family=\"sans-serif\" font-size=\"13\" lengthAdjust=\"spacingAndGlyphs\" textLength=\"7\" x=\"145\" y=\"130.0669\">y</text></a><!--MD5=[604cbf994c02b74b117f728a71673cea]\n",
       "reverse link E10 to E6--><a href=\"psysml:a19db77c-da80-41d6-a5f2-85a22676bfcf\" target=\"_top\" title=\"psysml:a19db77c-da80-41d6-a5f2-85a22676bfcf\" xlink:actuate=\"onRequest\" xlink:href=\"psysml:a19db77c-da80-41d6-a5f2-85a22676bfcf\" xlink:show=\"new\" xlink:title=\"psysml:a19db77c-da80-41d6-a5f2-85a22676bfcf\" xlink:type=\"simple\"><path d=\"M194.69,99 C199.24,108.85 203,117 203,117 C203,117 203,134 203,134 C203,134 193,394 193,394 C193,394 183.06,408.48 172.42,423.97 \" fill=\"none\" id=\"E10&lt;-E6\" style=\"stroke: #383838; stroke-width: 1.0;\"/><polygon fill=\"#FFFFFF\" points=\"189.18,87.05,188.0576,94.1732,194.2012,97.949,195.3236,90.8258,189.18,87.05\" style=\"stroke: #383838; stroke-width: 1.0;\"/><text fill=\"#000000\" font-family=\"sans-serif\" font-size=\"13\" lengthAdjust=\"spacingAndGlyphs\" textLength=\"7\" x=\"198\" y=\"283.0669\">y</text></a><!--MD5=[604cbf994c02b74b117f728a71673cea]\n",
       "reverse link E10 to E6--><a href=\"psysml:a19db77c-da80-41d6-a5f2-85a22676bfcf\" target=\"_top\" title=\"psysml:a19db77c-da80-41d6-a5f2-85a22676bfcf\" xlink:actuate=\"onRequest\" xlink:href=\"psysml:a19db77c-da80-41d6-a5f2-85a22676bfcf\" xlink:show=\"new\" xlink:title=\"psysml:a19db77c-da80-41d6-a5f2-85a22676bfcf\" xlink:type=\"simple\"><path d=\"M169.86,100.02 C165.41,117.1 161,134 161,134 C161,134 116,270 116,270 C116,270 116,287 116,287 C116,287 128,317 128,317 C128,317 136.48,381.25 142.11,423.92 \" fill=\"none\" id=\"E10&lt;-E6-1\" style=\"stroke: #383838; stroke-width: 1.0;\"/><polygon fill=\"#FFFFFF\" points=\"173.21,87.21,167.8241,92.005,170.1788,98.8208,175.5647,94.0258,173.21,87.21\" style=\"stroke: #383838; stroke-width: 1.0;\"/><text fill=\"#000000\" font-family=\"sans-serif\" font-size=\"13\" lengthAdjust=\"spacingAndGlyphs\" textLength=\"7\" x=\"117\" y=\"283.0669\">y</text></a><!--MD5=[604cbf994c02b74b117f728a71673cea]\n",
       "reverse link E10 to E6--><a href=\"psysml:a19db77c-da80-41d6-a5f2-85a22676bfcf\" target=\"_top\" title=\"psysml:a19db77c-da80-41d6-a5f2-85a22676bfcf\" xlink:actuate=\"onRequest\" xlink:href=\"psysml:a19db77c-da80-41d6-a5f2-85a22676bfcf\" xlink:show=\"new\" xlink:title=\"psysml:a19db77c-da80-41d6-a5f2-85a22676bfcf\" xlink:type=\"simple\"><path d=\"M176.15,100.27 C170.13,174.82 156.15,347.78 150,423.9 \" fill=\"none\" id=\"E10&lt;-E6-2\" style=\"stroke: #383838; stroke-width: 1.0;\"/><polygon fill=\"#FFFFFF\" points=\"177.21,87.14,172.7415,92.7998,176.2473,99.1013,180.7158,93.4416,177.21,87.14\" style=\"stroke: #383838; stroke-width: 1.0;\"/><text fill=\"#000000\" font-family=\"sans-serif\" font-size=\"13\" lengthAdjust=\"spacingAndGlyphs\" textLength=\"7\" x=\"163\" y=\"283.0669\">y</text></a><!--MD5=[4f2e9086310f97b668a693a4b5b70b98]\n",
       "@startuml\r\n",
       "skinparam linetype polyline\r\n",
       "skinparam monochrome true\r\n",
       "skinparam classbackgroundcolor white\r\n",
       "skinparam shadowing false\r\n",
       "skinparam wrapWidth 300\r\n",
       "hide circle\r\n",
       "\r\n",
       "package \"PartTest\" as E1  [[psysml:c65cc0cd-28b1-4d7a-bc05-02136890ed9a ]]  {\r\n",
       "comp usage \"f: A\" as E2  <<(T,blue)part>> [[psysml:634826b2-2fc2-4798-92ed-071cd1dffdd8 ]] {\r\n",
       "}\r\n",
       "comp def \"A\" as E3  <<(T,blue)part def>> [[psysml:36aba5eb-a810-4976-a211-fcdfb7b330f5 ]] {\r\n",
       "- - ports - -\r\n",
       "c: C\r\n",
       "}\r\n",
       "comp usage \"b: B\" as E4  <<(T,blue)part>> [[psysml:b5150c44-d935-4f31-a69b-527c90fd7c47 ]] {\r\n",
       "}\r\n",
       "comp def \"B\" as E6  <<(T,blue)part def>> [[psysml:94fb1c4b-8096-4b0e-a0c8-00d5fe55de6c ]] {\r\n",
       "- - ports - -\r\n",
       "x: ~C\r\n",
       "}\r\n",
       "comp usage \"a: A\" as E7  <<(T,blue)part>> [[psysml:de084c60-8c86-4761-a316-7296396fb321 ]] {\r\n",
       "}\r\n",
       "package \"P\" as E9  [[psysml:4c76b494-1a6c-482d-b35c-aa72d24bc41e ]]  {\r\n",
       "}\r\n",
       "comp def \"C\" as E10  <<(T,blue)port def>> [[psysml:4c8e1ce2-7f9a-4661-9090-c510b6f01354 ]] {\r\n",
       "}\r\n",
       "E2 - -:|> E3 [[psysml:38cdc859-4dfa-4bc4-87cd-169dd5acc896 ]] \r\n",
       "E3 *- - E4 [[psysml:5ebdadf2-6044-45bc-aa24-2da7c79aba16 ]] \r\n",
       "E4 - -:|> E6 [[psysml:1fd8d685-c326-41aa-b421-a8308f20148e ]] \r\n",
       "E6 *- - E7 [[psysml:c471fe89-f766-40f3-82e0-5e28332f3a67 ]] \r\n",
       "E7 - -:|> E3 [[psysml:ce24e444-eb42-4eaa-91b0-86c1efe7ffc5 ]] \r\n",
       "E6 +- - E9 [[psysml:cabff1fd-5442-4a71-976e-341ac2e5dda1 ]] \r\n",
       "E10 o- - E3 [[psysml:a19db77c-da80-41d6-a5f2-85a22676bfcf ]] : y\r\n",
       "E10 o- - E6 [[psysml:a19db77c-da80-41d6-a5f2-85a22676bfcf ]] : y\r\n",
       "E10 o- - E3 [[psysml:a19db77c-da80-41d6-a5f2-85a22676bfcf ]] : y\r\n",
       "E10 o- - E6 [[psysml:a19db77c-da80-41d6-a5f2-85a22676bfcf ]] : y\r\n",
       "E10 o- - E3 [[psysml:a19db77c-da80-41d6-a5f2-85a22676bfcf ]] : y\r\n",
       "E10 o- - E6 [[psysml:a19db77c-da80-41d6-a5f2-85a22676bfcf ]] : y\r\n",
       "}\r\n",
       "@enduml\r\n",
       "\n",
       "PlantUML version 1.2020.13(Sat Jun 13 12:26:38 UTC 2020)\n",
       "(EPL source distribution)\n",
       "Java Runtime: OpenJDK Runtime Environment\n",
       "JVM: OpenJDK 64-Bit Server VM\n",
       "Default Encoding: UTF-8\n",
       "Language: en\n",
       "Country: null\n",
       "--></g></svg>"
      ]
     },
     "execution_count": 14,
     "metadata": {},
     "output_type": "execute_result"
    }
   ],
   "source": [
    "%viz --style=\"POLYLINE\" --view=\"Sequence\" \"PartTest\""
   ]
  },
  {
   "cell_type": "code",
   "execution_count": 15,
   "id": "4c70553c",
   "metadata": {
    "execution": {
     "iopub.execute_input": "2021-04-20T07:29:11.656479Z",
     "iopub.status.busy": "2021-04-20T07:29:11.655038Z",
     "iopub.status.idle": "2021-04-20T07:29:11.833023Z",
     "shell.execute_reply": "2021-04-20T07:29:11.831542Z"
    }
   },
   "outputs": [
    {
     "data": {
      "image/svg+xml": [
       "<?xml version=\"1.0\" encoding=\"UTF-8\" standalone=\"no\"?><svg xmlns=\"http://www.w3.org/2000/svg\" xmlns:xlink=\"http://www.w3.org/1999/xlink\" contentScriptType=\"application/ecmascript\" contentStyleType=\"text/css\" height=\"642px\" preserveAspectRatio=\"none\" style=\"width:260px;height:642px;\" version=\"1.1\" viewBox=\"0 0 260 642\" width=\"260px\" zoomAndPan=\"magnify\"><defs/><g><!--MD5=[fbc87193dbaf4d95561dea2c320d4a47]\n",
       "cluster E1--><a href=\"psysml:c65cc0cd-28b1-4d7a-bc05-02136890ed9a\" target=\"_top\" title=\"psysml:c65cc0cd-28b1-4d7a-bc05-02136890ed9a\" xlink:actuate=\"onRequest\" xlink:href=\"psysml:c65cc0cd-28b1-4d7a-bc05-02136890ed9a\" xlink:show=\"new\" xlink:title=\"psysml:c65cc0cd-28b1-4d7a-bc05-02136890ed9a\" xlink:type=\"simple\"><polygon fill=\"#FFFFFF\" points=\"16,6,89,6,96,28.2969,238,28.2969,238,630,16,630,16,6\" style=\"stroke: #000000; stroke-width: 1.5;\"/><line style=\"stroke: #000000; stroke-width: 1.5;\" x1=\"16\" x2=\"96\" y1=\"28.2969\" y2=\"28.2969\"/><text fill=\"#000000\" font-family=\"sans-serif\" font-size=\"14\" font-weight=\"bold\" lengthAdjust=\"spacingAndGlyphs\" textLength=\"67\" x=\"20\" y=\"20.9951\">PartTest</text></a><!--MD5=[b4997ac47864f28c2f74865a473b2911]\n",
       "class E2--><a href=\"psysml:634826b2-2fc2-4798-92ed-071cd1dffdd8\" target=\"_top\" title=\"psysml:634826b2-2fc2-4798-92ed-071cd1dffdd8\" xlink:actuate=\"onRequest\" xlink:href=\"psysml:634826b2-2fc2-4798-92ed-071cd1dffdd8\" xlink:show=\"new\" xlink:title=\"psysml:634826b2-2fc2-4798-92ed-071cd1dffdd8\" xlink:type=\"simple\"><rect fill=\"#FFFFFF\" height=\"45.9375\" id=\"E2\" rx=\"10\" ry=\"10\" style=\"stroke: #383838; stroke-width: 1.5;\" width=\"42\" x=\"32\" y=\"41\"/><text fill=\"#000000\" font-family=\"sans-serif\" font-size=\"12\" font-style=\"italic\" lengthAdjust=\"spacingAndGlyphs\" textLength=\"40\" x=\"33\" y=\"57.1387\">«part»</text><text fill=\"#000000\" font-family=\"sans-serif\" font-size=\"12\" lengthAdjust=\"spacingAndGlyphs\" textLength=\"20\" x=\"43\" y=\"71.1074\">f: A</text><line style=\"stroke: #383838; stroke-width: 1.5;\" x1=\"33\" x2=\"73\" y1=\"78.9375\" y2=\"78.9375\"/></a><!--MD5=[09b614a08d8cba4a07c9adeb5e0fee81]\n",
       "class E3--><a href=\"psysml:36aba5eb-a810-4976-a211-fcdfb7b330f5\" target=\"_top\" title=\"psysml:36aba5eb-a810-4976-a211-fcdfb7b330f5\" xlink:actuate=\"onRequest\" xlink:href=\"psysml:36aba5eb-a810-4976-a211-fcdfb7b330f5\" xlink:show=\"new\" xlink:title=\"psysml:36aba5eb-a810-4976-a211-fcdfb7b330f5\" xlink:type=\"simple\"><rect fill=\"#FFFFFF\" height=\"75.5469\" id=\"E3\" style=\"stroke: #383838; stroke-width: 1.5;\" width=\"66\" x=\"37\" y=\"164\"/><text fill=\"#000000\" font-family=\"sans-serif\" font-size=\"12\" font-style=\"italic\" lengthAdjust=\"spacingAndGlyphs\" textLength=\"64\" x=\"38\" y=\"180.1387\">«part def»</text><text fill=\"#000000\" font-family=\"sans-serif\" font-size=\"12\" lengthAdjust=\"spacingAndGlyphs\" textLength=\"8\" x=\"66\" y=\"194.1074\">A</text><line style=\"stroke: #383838; stroke-width: 1.5;\" x1=\"38\" x2=\"102\" y1=\"201.9375\" y2=\"201.9375\"/><text fill=\"#000000\" font-family=\"sans-serif\" font-size=\"11\" lengthAdjust=\"spacingAndGlyphs\" textLength=\"22\" x=\"43\" y=\"232.9526\">c: C</text><line style=\"stroke: #383838; stroke-width: 1.0;\" x1=\"38\" x2=\"55\" y1=\"216.3398\" y2=\"216.3398\"/><text fill=\"#000000\" font-family=\"sans-serif\" font-size=\"11\" lengthAdjust=\"spacingAndGlyphs\" textLength=\"30\" x=\"55\" y=\"219.6479\">ports</text><line style=\"stroke: #383838; stroke-width: 1.0;\" x1=\"85\" x2=\"102\" y1=\"216.3398\" y2=\"216.3398\"/></a><!--MD5=[ebbe1d658d1005bcc118a6aa81145e00]\n",
       "class E4--><a href=\"psysml:b5150c44-d935-4f31-a69b-527c90fd7c47\" target=\"_top\" title=\"psysml:b5150c44-d935-4f31-a69b-527c90fd7c47\" xlink:actuate=\"onRequest\" xlink:href=\"psysml:b5150c44-d935-4f31-a69b-527c90fd7c47\" xlink:show=\"new\" xlink:title=\"psysml:b5150c44-d935-4f31-a69b-527c90fd7c47\" xlink:type=\"simple\"><rect fill=\"#FFFFFF\" height=\"45.9375\" id=\"E4\" rx=\"10\" ry=\"10\" style=\"stroke: #383838; stroke-width: 1.5;\" width=\"42\" x=\"69\" y=\"317\"/><text fill=\"#000000\" font-family=\"sans-serif\" font-size=\"12\" font-style=\"italic\" lengthAdjust=\"spacingAndGlyphs\" textLength=\"40\" x=\"70\" y=\"333.1387\">«part»</text><text fill=\"#000000\" font-family=\"sans-serif\" font-size=\"12\" lengthAdjust=\"spacingAndGlyphs\" textLength=\"24\" x=\"78\" y=\"347.1074\">b: B</text><line style=\"stroke: #383838; stroke-width: 1.5;\" x1=\"70\" x2=\"110\" y1=\"354.9375\" y2=\"354.9375\"/></a><!--MD5=[60a26617385b1d2d0262a64233df1f8d]\n",
       "class E6--><a href=\"psysml:94fb1c4b-8096-4b0e-a0c8-00d5fe55de6c\" target=\"_top\" title=\"psysml:94fb1c4b-8096-4b0e-a0c8-00d5fe55de6c\" xlink:actuate=\"onRequest\" xlink:href=\"psysml:94fb1c4b-8096-4b0e-a0c8-00d5fe55de6c\" xlink:show=\"new\" xlink:title=\"psysml:94fb1c4b-8096-4b0e-a0c8-00d5fe55de6c\" xlink:type=\"simple\"><rect fill=\"#FFFFFF\" height=\"75.5469\" id=\"E6\" style=\"stroke: #383838; stroke-width: 1.5;\" width=\"66\" x=\"114\" y=\"424\"/><text fill=\"#000000\" font-family=\"sans-serif\" font-size=\"12\" font-style=\"italic\" lengthAdjust=\"spacingAndGlyphs\" textLength=\"64\" x=\"115\" y=\"440.1387\">«part def»</text><text fill=\"#000000\" font-family=\"sans-serif\" font-size=\"12\" lengthAdjust=\"spacingAndGlyphs\" textLength=\"8\" x=\"143\" y=\"454.1074\">B</text><line style=\"stroke: #383838; stroke-width: 1.5;\" x1=\"115\" x2=\"179\" y1=\"461.9375\" y2=\"461.9375\"/><text fill=\"#000000\" font-family=\"sans-serif\" font-size=\"11\" lengthAdjust=\"spacingAndGlyphs\" textLength=\"31\" x=\"120\" y=\"492.9526\">x: ~C</text><line style=\"stroke: #383838; stroke-width: 1.0;\" x1=\"115\" x2=\"132\" y1=\"476.3398\" y2=\"476.3398\"/><text fill=\"#000000\" font-family=\"sans-serif\" font-size=\"11\" lengthAdjust=\"spacingAndGlyphs\" textLength=\"30\" x=\"132\" y=\"479.6479\">ports</text><line style=\"stroke: #383838; stroke-width: 1.0;\" x1=\"162\" x2=\"179\" y1=\"476.3398\" y2=\"476.3398\"/></a><!--MD5=[2156ba9850f5573cc1fc38a6a4b2f02b]\n",
       "class E7--><a href=\"psysml:de084c60-8c86-4761-a316-7296396fb321\" target=\"_top\" title=\"psysml:de084c60-8c86-4761-a316-7296396fb321\" xlink:actuate=\"onRequest\" xlink:href=\"psysml:de084c60-8c86-4761-a316-7296396fb321\" xlink:show=\"new\" xlink:title=\"psysml:de084c60-8c86-4761-a316-7296396fb321\" xlink:type=\"simple\"><rect fill=\"#FFFFFF\" height=\"45.9375\" id=\"E7\" rx=\"10\" ry=\"10\" style=\"stroke: #383838; stroke-width: 1.5;\" width=\"42\" x=\"44\" y=\"564.5\"/><text fill=\"#000000\" font-family=\"sans-serif\" font-size=\"12\" font-style=\"italic\" lengthAdjust=\"spacingAndGlyphs\" textLength=\"40\" x=\"45\" y=\"580.6387\">«part»</text><text fill=\"#000000\" font-family=\"sans-serif\" font-size=\"12\" lengthAdjust=\"spacingAndGlyphs\" textLength=\"24\" x=\"53\" y=\"594.6074\">a: A</text><line style=\"stroke: #383838; stroke-width: 1.5;\" x1=\"45\" x2=\"85\" y1=\"602.4375\" y2=\"602.4375\"/></a><!--MD5=[96f4274e9e20536e775497830990834d]\n",
       "class E10--><a href=\"psysml:4c8e1ce2-7f9a-4661-9090-c510b6f01354\" target=\"_top\" title=\"psysml:4c8e1ce2-7f9a-4661-9090-c510b6f01354\" xlink:actuate=\"onRequest\" xlink:href=\"psysml:4c8e1ce2-7f9a-4661-9090-c510b6f01354\" xlink:show=\"new\" xlink:title=\"psysml:4c8e1ce2-7f9a-4661-9090-c510b6f01354\" xlink:type=\"simple\"><rect fill=\"#FFFFFF\" height=\"45.9375\" id=\"E10\" style=\"stroke: #383838; stroke-width: 1.5;\" width=\"66\" x=\"146\" y=\"41\"/><text fill=\"#000000\" font-family=\"sans-serif\" font-size=\"12\" font-style=\"italic\" lengthAdjust=\"spacingAndGlyphs\" textLength=\"64\" x=\"147\" y=\"57.1387\">«port def»</text><text fill=\"#000000\" font-family=\"sans-serif\" font-size=\"12\" lengthAdjust=\"spacingAndGlyphs\" textLength=\"8\" x=\"175\" y=\"71.1074\">C</text><line style=\"stroke: #383838; stroke-width: 1.5;\" x1=\"147\" x2=\"211\" y1=\"78.9375\" y2=\"78.9375\"/></a><a href=\"psysml:4c76b494-1a6c-482d-b35c-aa72d24bc41e\" target=\"_top\" title=\"psysml:4c76b494-1a6c-482d-b35c-aa72d24bc41e\" xlink:actuate=\"onRequest\" xlink:href=\"psysml:4c76b494-1a6c-482d-b35c-aa72d24bc41e\" xlink:show=\"new\" xlink:title=\"psysml:4c76b494-1a6c-482d-b35c-aa72d24bc41e\" xlink:type=\"simple\"><polygon fill=\"#FFFFFF\" points=\"132,561,148,561,155,583.2969,162,583.2969,162,613.5938,132,613.5938,132,561\" style=\"stroke: #000000; stroke-width: 1.5;\"/><line style=\"stroke: #000000; stroke-width: 1.5;\" x1=\"132\" x2=\"155\" y1=\"583.2969\" y2=\"583.2969\"/><text fill=\"#000000\" font-family=\"sans-serif\" font-size=\"14\" font-weight=\"bold\" lengthAdjust=\"spacingAndGlyphs\" textLength=\"10\" x=\"136\" y=\"575.9951\">P</text></a><!--MD5=[2720a5a1f2c3fca2055b230370638851]\n",
       "link E2 to E3--><a href=\"psysml:38cdc859-4dfa-4bc4-87cd-169dd5acc896\" target=\"_top\" title=\"psysml:38cdc859-4dfa-4bc4-87cd-169dd5acc896\" xlink:actuate=\"onRequest\" xlink:href=\"psysml:38cdc859-4dfa-4bc4-87cd-169dd5acc896\" xlink:show=\"new\" xlink:title=\"psysml:38cdc859-4dfa-4bc4-87cd-169dd5acc896\" xlink:type=\"simple\"><path d=\"M46.64,87.05 C42.55,101.23 38,117 38,117 C38,117 38,134 38,134 C38,134 40.31,138.84 43.69,145.92 \" fill=\"none\" id=\"E2-&gt;E3\" style=\"stroke: #383838; stroke-width: 1.0;\"/><polygon fill=\"#FFFFFF\" points=\"52.32,163.97,37.8169,149.8399,50.4508,143.808,52.32,163.97\" style=\"stroke: #383838; stroke-width: 1.0;\"/><ellipse cx=\"37.1659\" cy=\"143.8344\" fill=\"#383838\" rx=\"2\" ry=\"2\" style=\"stroke: #383838; stroke-width: 1.0;\"/><ellipse cx=\"46.1902\" cy=\"139.5259\" fill=\"#383838\" rx=\"2\" ry=\"2\" style=\"stroke: #383838; stroke-width: 1.0;\"/></a><!--MD5=[4672eba38e49728da53d11aeb285b987]\n",
       "reverse link E3 to E4--><a href=\"psysml:5ebdadf2-6044-45bc-aa24-2da7c79aba16\" target=\"_top\" title=\"psysml:5ebdadf2-6044-45bc-aa24-2da7c79aba16\" xlink:actuate=\"onRequest\" xlink:href=\"psysml:5ebdadf2-6044-45bc-aa24-2da7c79aba16\" xlink:show=\"new\" xlink:title=\"psysml:5ebdadf2-6044-45bc-aa24-2da7c79aba16\" xlink:type=\"simple\"><path d=\"M74.19,253.3 C75.68,271.19 77,287 77,287 C77,287 80.94,302.77 84.49,316.95 \" fill=\"none\" id=\"E3&lt;-E4\" style=\"stroke: #383838; stroke-width: 1.0;\"/><polygon fill=\"#383838\" points=\"73.09,240.09,69.5986,246.3995,74.08,252.0491,77.5714,245.7395,73.09,240.09\" style=\"stroke: #383838; stroke-width: 1.0;\"/></a><!--MD5=[79568f1e445c3877b6a54524624ccc7d]\n",
       "link E4 to E6--><a href=\"psysml:1fd8d685-c326-41aa-b421-a8308f20148e\" target=\"_top\" title=\"psysml:1fd8d685-c326-41aa-b421-a8308f20148e\" xlink:actuate=\"onRequest\" xlink:href=\"psysml:1fd8d685-c326-41aa-b421-a8308f20148e\" xlink:show=\"new\" xlink:title=\"psysml:1fd8d685-c326-41aa-b421-a8308f20148e\" xlink:type=\"simple\"><path d=\"M100.45,363.01 C106.1,374.9 113.36,390.18 120.46,405.12 \" fill=\"none\" id=\"E4-&gt;E6\" style=\"stroke: #383838; stroke-width: 1.0;\"/><polygon fill=\"#FFFFFF\" points=\"129.22,423.57,114.7395,409.4167,127.3831,403.405,129.22,423.57\" style=\"stroke: #383838; stroke-width: 1.0;\"/><ellipse cx=\"114.0981\" cy=\"403.4102\" fill=\"#383838\" rx=\"2\" ry=\"2\" style=\"stroke: #383838; stroke-width: 1.0;\"/><ellipse cx=\"123.1292\" cy=\"399.1161\" fill=\"#383838\" rx=\"2\" ry=\"2\" style=\"stroke: #383838; stroke-width: 1.0;\"/></a><!--MD5=[3f50a3473f1dfb74d3f76443e03635af]\n",
       "reverse link E6 to E7--><a href=\"psysml:c471fe89-f766-40f3-82e0-5e28332f3a67\" target=\"_top\" title=\"psysml:c471fe89-f766-40f3-82e0-5e28332f3a67\" xlink:actuate=\"onRequest\" xlink:href=\"psysml:c471fe89-f766-40f3-82e0-5e28332f3a67\" xlink:show=\"new\" xlink:title=\"psysml:c471fe89-f766-40f3-82e0-5e28332f3a67\" xlink:type=\"simple\"><path d=\"M115.19,510.9 C103,529.26 89.67,549.34 79.81,564.19 \" fill=\"none\" id=\"E6&lt;-E7\" style=\"stroke: #383838; stroke-width: 1.0;\"/><polygon fill=\"#383838\" points=\"122.4,500.05,115.7495,502.8377,115.7649,510.0488,122.4154,507.2611,122.4,500.05\" style=\"stroke: #383838; stroke-width: 1.0;\"/></a><!--MD5=[14ccda38c055a5c0da953d572bc50960]\n",
       "link E7 to E3--><a href=\"psysml:ce24e444-eb42-4eaa-91b0-86c1efe7ffc5\" target=\"_top\" title=\"psysml:ce24e444-eb42-4eaa-91b0-86c1efe7ffc5\" xlink:actuate=\"onRequest\" xlink:href=\"psysml:ce24e444-eb42-4eaa-91b0-86c1efe7ffc5\" xlink:show=\"new\" xlink:title=\"psysml:ce24e444-eb42-4eaa-91b0-86c1efe7ffc5\" xlink:type=\"simple\"><path d=\"M63.61,564.25 C60.07,507.72 51,363 51,363 C51,363 51,317 51,317 C51,317 55.76,288.43 60.52,259.89 \" fill=\"none\" id=\"E7-&gt;E3\" style=\"stroke: #383838; stroke-width: 1.0;\"/><polygon fill=\"#FFFFFF\" points=\"63.83,240.01,67.6135,259.9018,53.8037,257.6019,63.83,240.01\" style=\"stroke: #383838; stroke-width: 1.0;\"/><ellipse cx=\"64.7043\" cy=\"265.1958\" fill=\"#383838\" rx=\"2\" ry=\"2\" style=\"stroke: #383838; stroke-width: 1.0;\"/><ellipse cx=\"54.8401\" cy=\"263.553\" fill=\"#383838\" rx=\"2\" ry=\"2\" style=\"stroke: #383838; stroke-width: 1.0;\"/></a><!--MD5=[e88d06e5a652d73a6b19930eefe025a8]\n",
       "reverse link E6 to E9--><a href=\"psysml:cabff1fd-5442-4a71-976e-341ac2e5dda1\" target=\"_top\" title=\"psysml:cabff1fd-5442-4a71-976e-341ac2e5dda1\" xlink:actuate=\"onRequest\" xlink:href=\"psysml:cabff1fd-5442-4a71-976e-341ac2e5dda1\" xlink:show=\"new\" xlink:title=\"psysml:cabff1fd-5442-4a71-976e-341ac2e5dda1\" xlink:type=\"simple\"><path d=\"M147,515.35 C147,531.08 147,547.65 147,560.83 \" fill=\"none\" id=\"E6&lt;-E9\" style=\"stroke: #383838; stroke-width: 1.0;\"/><ellipse cx=\"147\" cy=\"508.05\" fill=\"#FFFFFF\" rx=\"8\" ry=\"8\" style=\"stroke: #383838; stroke-width: 1.0;\"/><line style=\"stroke: #383838; stroke-width: 1.0;\" x1=\"147\" x2=\"147\" y1=\"516.05\" y2=\"500.05\"/><line style=\"stroke: #383838; stroke-width: 1.0;\" x1=\"139\" x2=\"155\" y1=\"508.05\" y2=\"508.05\"/></a><!--MD5=[8e04057e7b3cbc0dca4fc78ea351e2da]\n",
       "reverse link E10 to E3--><a href=\"psysml:a19db77c-da80-41d6-a5f2-85a22676bfcf\" target=\"_top\" title=\"psysml:a19db77c-da80-41d6-a5f2-85a22676bfcf\" xlink:actuate=\"onRequest\" xlink:href=\"psysml:a19db77c-da80-41d6-a5f2-85a22676bfcf\" xlink:show=\"new\" xlink:title=\"psysml:a19db77c-da80-41d6-a5f2-85a22676bfcf\" xlink:type=\"simple\"><path d=\"M134.03,87.49 C105.91,101.55 75,117 75,117 C75,117 73.55,141.41 72.21,163.91 \" fill=\"none\" id=\"E10&lt;-E3\" style=\"stroke: #383838; stroke-width: 1.0;\"/><polygon fill=\"#FFFFFF\" points=\"145.81,81.6,138.6546,80.7056,135.0769,86.9666,142.2323,87.861,145.81,81.6\" style=\"stroke: #383838; stroke-width: 1.0;\"/><text fill=\"#000000\" font-family=\"sans-serif\" font-size=\"13\" lengthAdjust=\"spacingAndGlyphs\" textLength=\"7\" x=\"76\" y=\"130.0669\">y</text></a><!--MD5=[8e04057e7b3cbc0dca4fc78ea351e2da]\n",
       "reverse link E10 to E3--><a href=\"psysml:a19db77c-da80-41d6-a5f2-85a22676bfcf\" target=\"_top\" title=\"psysml:a19db77c-da80-41d6-a5f2-85a22676bfcf\" xlink:actuate=\"onRequest\" xlink:href=\"psysml:a19db77c-da80-41d6-a5f2-85a22676bfcf\" xlink:show=\"new\" xlink:title=\"psysml:a19db77c-da80-41d6-a5f2-85a22676bfcf\" xlink:type=\"simple\"><path d=\"M146.14,96.07 C134.39,107.18 124,117 124,117 C124,117 108.31,141.41 93.84,163.91 \" fill=\"none\" id=\"E10&lt;-E3-1\" style=\"stroke: #383838; stroke-width: 1.0;\"/><polygon fill=\"#FFFFFF\" points=\"155.68,87.05,148.5721,88.2658,146.9606,95.2945,154.0685,94.0787,155.68,87.05\" style=\"stroke: #383838; stroke-width: 1.0;\"/><text fill=\"#000000\" font-family=\"sans-serif\" font-size=\"13\" lengthAdjust=\"spacingAndGlyphs\" textLength=\"7\" x=\"125\" y=\"130.0669\">y</text></a><!--MD5=[8e04057e7b3cbc0dca4fc78ea351e2da]\n",
       "reverse link E10 to E3--><a href=\"psysml:a19db77c-da80-41d6-a5f2-85a22676bfcf\" target=\"_top\" title=\"psysml:a19db77c-da80-41d6-a5f2-85a22676bfcf\" xlink:actuate=\"onRequest\" xlink:href=\"psysml:a19db77c-da80-41d6-a5f2-85a22676bfcf\" xlink:show=\"new\" xlink:title=\"psysml:a19db77c-da80-41d6-a5f2-85a22676bfcf\" xlink:type=\"simple\"><path d=\"M156.82,98.27 C145.05,115.92 133,134 133,134 C133,134 118.46,149.47 103.34,165.54 \" fill=\"none\" id=\"E10&lt;-E3-2\" style=\"stroke: #383838; stroke-width: 1.0;\"/><polygon fill=\"#FFFFFF\" points=\"164.19,87.21,157.5328,89.9815,157.5306,97.1926,164.1878,94.4211,164.19,87.21\" style=\"stroke: #383838; stroke-width: 1.0;\"/><text fill=\"#000000\" font-family=\"sans-serif\" font-size=\"13\" lengthAdjust=\"spacingAndGlyphs\" textLength=\"7\" x=\"145\" y=\"130.0669\">y</text></a><!--MD5=[604cbf994c02b74b117f728a71673cea]\n",
       "reverse link E10 to E6--><a href=\"psysml:a19db77c-da80-41d6-a5f2-85a22676bfcf\" target=\"_top\" title=\"psysml:a19db77c-da80-41d6-a5f2-85a22676bfcf\" xlink:actuate=\"onRequest\" xlink:href=\"psysml:a19db77c-da80-41d6-a5f2-85a22676bfcf\" xlink:show=\"new\" xlink:title=\"psysml:a19db77c-da80-41d6-a5f2-85a22676bfcf\" xlink:type=\"simple\"><path d=\"M194.69,99 C199.24,108.85 203,117 203,117 C203,117 203,134 203,134 C203,134 193,394 193,394 C193,394 183.06,408.48 172.42,423.97 \" fill=\"none\" id=\"E10&lt;-E6\" style=\"stroke: #383838; stroke-width: 1.0;\"/><polygon fill=\"#FFFFFF\" points=\"189.18,87.05,188.0576,94.1732,194.2012,97.949,195.3236,90.8258,189.18,87.05\" style=\"stroke: #383838; stroke-width: 1.0;\"/><text fill=\"#000000\" font-family=\"sans-serif\" font-size=\"13\" lengthAdjust=\"spacingAndGlyphs\" textLength=\"7\" x=\"198\" y=\"283.0669\">y</text></a><!--MD5=[604cbf994c02b74b117f728a71673cea]\n",
       "reverse link E10 to E6--><a href=\"psysml:a19db77c-da80-41d6-a5f2-85a22676bfcf\" target=\"_top\" title=\"psysml:a19db77c-da80-41d6-a5f2-85a22676bfcf\" xlink:actuate=\"onRequest\" xlink:href=\"psysml:a19db77c-da80-41d6-a5f2-85a22676bfcf\" xlink:show=\"new\" xlink:title=\"psysml:a19db77c-da80-41d6-a5f2-85a22676bfcf\" xlink:type=\"simple\"><path d=\"M169.86,100.02 C165.41,117.1 161,134 161,134 C161,134 116,270 116,270 C116,270 116,287 116,287 C116,287 128,317 128,317 C128,317 136.48,381.25 142.11,423.92 \" fill=\"none\" id=\"E10&lt;-E6-1\" style=\"stroke: #383838; stroke-width: 1.0;\"/><polygon fill=\"#FFFFFF\" points=\"173.21,87.21,167.8241,92.005,170.1788,98.8208,175.5647,94.0258,173.21,87.21\" style=\"stroke: #383838; stroke-width: 1.0;\"/><text fill=\"#000000\" font-family=\"sans-serif\" font-size=\"13\" lengthAdjust=\"spacingAndGlyphs\" textLength=\"7\" x=\"117\" y=\"283.0669\">y</text></a><!--MD5=[604cbf994c02b74b117f728a71673cea]\n",
       "reverse link E10 to E6--><a href=\"psysml:a19db77c-da80-41d6-a5f2-85a22676bfcf\" target=\"_top\" title=\"psysml:a19db77c-da80-41d6-a5f2-85a22676bfcf\" xlink:actuate=\"onRequest\" xlink:href=\"psysml:a19db77c-da80-41d6-a5f2-85a22676bfcf\" xlink:show=\"new\" xlink:title=\"psysml:a19db77c-da80-41d6-a5f2-85a22676bfcf\" xlink:type=\"simple\"><path d=\"M176.15,100.27 C170.13,174.82 156.15,347.78 150,423.9 \" fill=\"none\" id=\"E10&lt;-E6-2\" style=\"stroke: #383838; stroke-width: 1.0;\"/><polygon fill=\"#FFFFFF\" points=\"177.21,87.14,172.7415,92.7998,176.2473,99.1013,180.7158,93.4416,177.21,87.14\" style=\"stroke: #383838; stroke-width: 1.0;\"/><text fill=\"#000000\" font-family=\"sans-serif\" font-size=\"13\" lengthAdjust=\"spacingAndGlyphs\" textLength=\"7\" x=\"163\" y=\"283.0669\">y</text></a><!--MD5=[4f2e9086310f97b668a693a4b5b70b98]\n",
       "@startuml\r\n",
       "skinparam linetype polyline\r\n",
       "skinparam monochrome true\r\n",
       "skinparam classbackgroundcolor white\r\n",
       "skinparam shadowing false\r\n",
       "skinparam wrapWidth 300\r\n",
       "hide circle\r\n",
       "\r\n",
       "package \"PartTest\" as E1  [[psysml:c65cc0cd-28b1-4d7a-bc05-02136890ed9a ]]  {\r\n",
       "comp usage \"f: A\" as E2  <<(T,blue)part>> [[psysml:634826b2-2fc2-4798-92ed-071cd1dffdd8 ]] {\r\n",
       "}\r\n",
       "comp def \"A\" as E3  <<(T,blue)part def>> [[psysml:36aba5eb-a810-4976-a211-fcdfb7b330f5 ]] {\r\n",
       "- - ports - -\r\n",
       "c: C\r\n",
       "}\r\n",
       "comp usage \"b: B\" as E4  <<(T,blue)part>> [[psysml:b5150c44-d935-4f31-a69b-527c90fd7c47 ]] {\r\n",
       "}\r\n",
       "comp def \"B\" as E6  <<(T,blue)part def>> [[psysml:94fb1c4b-8096-4b0e-a0c8-00d5fe55de6c ]] {\r\n",
       "- - ports - -\r\n",
       "x: ~C\r\n",
       "}\r\n",
       "comp usage \"a: A\" as E7  <<(T,blue)part>> [[psysml:de084c60-8c86-4761-a316-7296396fb321 ]] {\r\n",
       "}\r\n",
       "package \"P\" as E9  [[psysml:4c76b494-1a6c-482d-b35c-aa72d24bc41e ]]  {\r\n",
       "}\r\n",
       "comp def \"C\" as E10  <<(T,blue)port def>> [[psysml:4c8e1ce2-7f9a-4661-9090-c510b6f01354 ]] {\r\n",
       "}\r\n",
       "E2 - -:|> E3 [[psysml:38cdc859-4dfa-4bc4-87cd-169dd5acc896 ]] \r\n",
       "E3 *- - E4 [[psysml:5ebdadf2-6044-45bc-aa24-2da7c79aba16 ]] \r\n",
       "E4 - -:|> E6 [[psysml:1fd8d685-c326-41aa-b421-a8308f20148e ]] \r\n",
       "E6 *- - E7 [[psysml:c471fe89-f766-40f3-82e0-5e28332f3a67 ]] \r\n",
       "E7 - -:|> E3 [[psysml:ce24e444-eb42-4eaa-91b0-86c1efe7ffc5 ]] \r\n",
       "E6 +- - E9 [[psysml:cabff1fd-5442-4a71-976e-341ac2e5dda1 ]] \r\n",
       "E10 o- - E3 [[psysml:a19db77c-da80-41d6-a5f2-85a22676bfcf ]] : y\r\n",
       "E10 o- - E6 [[psysml:a19db77c-da80-41d6-a5f2-85a22676bfcf ]] : y\r\n",
       "E10 o- - E3 [[psysml:a19db77c-da80-41d6-a5f2-85a22676bfcf ]] : y\r\n",
       "E10 o- - E6 [[psysml:a19db77c-da80-41d6-a5f2-85a22676bfcf ]] : y\r\n",
       "E10 o- - E3 [[psysml:a19db77c-da80-41d6-a5f2-85a22676bfcf ]] : y\r\n",
       "E10 o- - E6 [[psysml:a19db77c-da80-41d6-a5f2-85a22676bfcf ]] : y\r\n",
       "}\r\n",
       "@enduml\r\n",
       "\n",
       "PlantUML version 1.2020.13(Sat Jun 13 12:26:38 UTC 2020)\n",
       "(EPL source distribution)\n",
       "Java Runtime: OpenJDK Runtime Environment\n",
       "JVM: OpenJDK 64-Bit Server VM\n",
       "Default Encoding: UTF-8\n",
       "Language: en\n",
       "Country: null\n",
       "--></g></svg>"
      ]
     },
     "execution_count": 15,
     "metadata": {},
     "output_type": "execute_result"
    }
   ],
   "source": [
    "%viz --style=\"POLYLINE\" --view=\"MIXED\" \"PartTest\""
   ]
  },
  {
   "cell_type": "code",
   "execution_count": 16,
   "id": "c94d45a4",
   "metadata": {
    "execution": {
     "iopub.execute_input": "2021-04-20T07:29:11.892220Z",
     "iopub.status.busy": "2021-04-20T07:29:11.887795Z",
     "iopub.status.idle": "2021-04-20T07:29:12.033069Z",
     "shell.execute_reply": "2021-04-20T07:29:12.031763Z"
    }
   },
   "outputs": [
    {
     "data": {
      "image/svg+xml": [
       "<?xml version=\"1.0\" encoding=\"UTF-8\" standalone=\"no\"?><svg xmlns=\"http://www.w3.org/2000/svg\" xmlns:xlink=\"http://www.w3.org/1999/xlink\" contentScriptType=\"application/ecmascript\" contentStyleType=\"text/css\" height=\"263px\" preserveAspectRatio=\"none\" style=\"width:612px;height:263px;\" version=\"1.1\" viewBox=\"0 0 612 263\" width=\"612px\" zoomAndPan=\"magnify\"><defs/><g><!--MD5=[fbc87193dbaf4d95561dea2c320d4a47]\n",
       "cluster E1--><a href=\"psysml:c65cc0cd-28b1-4d7a-bc05-02136890ed9a\" target=\"_top\" title=\"psysml:c65cc0cd-28b1-4d7a-bc05-02136890ed9a\" xlink:actuate=\"onRequest\" xlink:href=\"psysml:c65cc0cd-28b1-4d7a-bc05-02136890ed9a\" xlink:show=\"new\" xlink:title=\"psysml:c65cc0cd-28b1-4d7a-bc05-02136890ed9a\" xlink:type=\"simple\"><polygon fill=\"#FFFFFF\" points=\"16,6,89,6,96,28.2969,590,28.2969,590,251,16,251,16,6\" style=\"stroke: #000000; stroke-width: 1.5;\"/><line style=\"stroke: #000000; stroke-width: 1.5;\" x1=\"16\" x2=\"96\" y1=\"28.2969\" y2=\"28.2969\"/><text fill=\"#000000\" font-family=\"sans-serif\" font-size=\"14\" font-weight=\"bold\" lengthAdjust=\"spacingAndGlyphs\" textLength=\"67\" x=\"20\" y=\"20.9951\">PartTest</text></a><!--MD5=[b4997ac47864f28c2f74865a473b2911]\n",
       "class E2--><a href=\"psysml:634826b2-2fc2-4798-92ed-071cd1dffdd8\" target=\"_top\" title=\"psysml:634826b2-2fc2-4798-92ed-071cd1dffdd8\" xlink:actuate=\"onRequest\" xlink:href=\"psysml:634826b2-2fc2-4798-92ed-071cd1dffdd8\" xlink:show=\"new\" xlink:title=\"psysml:634826b2-2fc2-4798-92ed-071cd1dffdd8\" xlink:type=\"simple\"><rect fill=\"#FFFFFF\" height=\"45.9375\" id=\"E2\" rx=\"10\" ry=\"10\" style=\"stroke: #383838; stroke-width: 1.5;\" width=\"42\" x=\"44\" y=\"189\"/><text fill=\"#000000\" font-family=\"sans-serif\" font-size=\"12\" font-style=\"italic\" lengthAdjust=\"spacingAndGlyphs\" textLength=\"40\" x=\"45\" y=\"205.1387\">«part»</text><text fill=\"#000000\" font-family=\"sans-serif\" font-size=\"12\" lengthAdjust=\"spacingAndGlyphs\" textLength=\"20\" x=\"55\" y=\"219.1074\">f: A</text><line style=\"stroke: #383838; stroke-width: 1.5;\" x1=\"45\" x2=\"85\" y1=\"226.9375\" y2=\"226.9375\"/></a><!--MD5=[09b614a08d8cba4a07c9adeb5e0fee81]\n",
       "class E3--><a href=\"psysml:36aba5eb-a810-4976-a211-fcdfb7b330f5\" target=\"_top\" title=\"psysml:36aba5eb-a810-4976-a211-fcdfb7b330f5\" xlink:actuate=\"onRequest\" xlink:href=\"psysml:36aba5eb-a810-4976-a211-fcdfb7b330f5\" xlink:show=\"new\" xlink:title=\"psysml:36aba5eb-a810-4976-a211-fcdfb7b330f5\" xlink:type=\"simple\"><rect fill=\"#FFFFFF\" height=\"75.5469\" id=\"E3\" style=\"stroke: #383838; stroke-width: 1.5;\" width=\"66\" x=\"167\" y=\"157\"/><text fill=\"#000000\" font-family=\"sans-serif\" font-size=\"12\" font-style=\"italic\" lengthAdjust=\"spacingAndGlyphs\" textLength=\"64\" x=\"168\" y=\"173.1387\">«part def»</text><text fill=\"#000000\" font-family=\"sans-serif\" font-size=\"12\" lengthAdjust=\"spacingAndGlyphs\" textLength=\"8\" x=\"196\" y=\"187.1074\">A</text><line style=\"stroke: #383838; stroke-width: 1.5;\" x1=\"168\" x2=\"232\" y1=\"194.9375\" y2=\"194.9375\"/><text fill=\"#000000\" font-family=\"sans-serif\" font-size=\"11\" lengthAdjust=\"spacingAndGlyphs\" textLength=\"22\" x=\"173\" y=\"225.9526\">c: C</text><line style=\"stroke: #383838; stroke-width: 1.0;\" x1=\"168\" x2=\"185\" y1=\"209.3398\" y2=\"209.3398\"/><text fill=\"#000000\" font-family=\"sans-serif\" font-size=\"11\" lengthAdjust=\"spacingAndGlyphs\" textLength=\"30\" x=\"185\" y=\"212.6479\">ports</text><line style=\"stroke: #383838; stroke-width: 1.0;\" x1=\"215\" x2=\"232\" y1=\"209.3398\" y2=\"209.3398\"/></a><!--MD5=[ebbe1d658d1005bcc118a6aa81145e00]\n",
       "class E4--><a href=\"psysml:b5150c44-d935-4f31-a69b-527c90fd7c47\" target=\"_top\" title=\"psysml:b5150c44-d935-4f31-a69b-527c90fd7c47\" xlink:actuate=\"onRequest\" xlink:href=\"psysml:b5150c44-d935-4f31-a69b-527c90fd7c47\" xlink:show=\"new\" xlink:title=\"psysml:b5150c44-d935-4f31-a69b-527c90fd7c47\" xlink:type=\"simple\"><rect fill=\"#FFFFFF\" height=\"45.9375\" id=\"E4\" rx=\"10\" ry=\"10\" style=\"stroke: #383838; stroke-width: 1.5;\" width=\"42\" x=\"302\" y=\"152\"/><text fill=\"#000000\" font-family=\"sans-serif\" font-size=\"12\" font-style=\"italic\" lengthAdjust=\"spacingAndGlyphs\" textLength=\"40\" x=\"303\" y=\"168.1387\">«part»</text><text fill=\"#000000\" font-family=\"sans-serif\" font-size=\"12\" lengthAdjust=\"spacingAndGlyphs\" textLength=\"24\" x=\"311\" y=\"182.1074\">b: B</text><line style=\"stroke: #383838; stroke-width: 1.5;\" x1=\"303\" x2=\"343\" y1=\"189.9375\" y2=\"189.9375\"/></a><!--MD5=[60a26617385b1d2d0262a64233df1f8d]\n",
       "class E6--><a href=\"psysml:94fb1c4b-8096-4b0e-a0c8-00d5fe55de6c\" target=\"_top\" title=\"psysml:94fb1c4b-8096-4b0e-a0c8-00d5fe55de6c\" xlink:actuate=\"onRequest\" xlink:href=\"psysml:94fb1c4b-8096-4b0e-a0c8-00d5fe55de6c\" xlink:show=\"new\" xlink:title=\"psysml:94fb1c4b-8096-4b0e-a0c8-00d5fe55de6c\" xlink:type=\"simple\"><rect fill=\"#FFFFFF\" height=\"75.5469\" id=\"E6\" style=\"stroke: #383838; stroke-width: 1.5;\" width=\"66\" x=\"405\" y=\"78\"/><text fill=\"#000000\" font-family=\"sans-serif\" font-size=\"12\" font-style=\"italic\" lengthAdjust=\"spacingAndGlyphs\" textLength=\"64\" x=\"406\" y=\"94.1387\">«part def»</text><text fill=\"#000000\" font-family=\"sans-serif\" font-size=\"12\" lengthAdjust=\"spacingAndGlyphs\" textLength=\"8\" x=\"434\" y=\"108.1074\">B</text><line style=\"stroke: #383838; stroke-width: 1.5;\" x1=\"406\" x2=\"470\" y1=\"115.9375\" y2=\"115.9375\"/><text fill=\"#000000\" font-family=\"sans-serif\" font-size=\"11\" lengthAdjust=\"spacingAndGlyphs\" textLength=\"31\" x=\"411\" y=\"146.9526\">x: ~C</text><line style=\"stroke: #383838; stroke-width: 1.0;\" x1=\"406\" x2=\"423\" y1=\"130.3398\" y2=\"130.3398\"/><text fill=\"#000000\" font-family=\"sans-serif\" font-size=\"11\" lengthAdjust=\"spacingAndGlyphs\" textLength=\"30\" x=\"423\" y=\"133.6479\">ports</text><line style=\"stroke: #383838; stroke-width: 1.0;\" x1=\"453\" x2=\"470\" y1=\"130.3398\" y2=\"130.3398\"/></a><!--MD5=[2156ba9850f5573cc1fc38a6a4b2f02b]\n",
       "class E7--><a href=\"psysml:de084c60-8c86-4761-a316-7296396fb321\" target=\"_top\" title=\"psysml:de084c60-8c86-4761-a316-7296396fb321\" xlink:actuate=\"onRequest\" xlink:href=\"psysml:de084c60-8c86-4761-a316-7296396fb321\" xlink:show=\"new\" xlink:title=\"psysml:de084c60-8c86-4761-a316-7296396fb321\" xlink:type=\"simple\"><rect fill=\"#FFFFFF\" height=\"45.9375\" id=\"E7\" rx=\"10\" ry=\"10\" style=\"stroke: #383838; stroke-width: 1.5;\" width=\"42\" x=\"532\" y=\"183\"/><text fill=\"#000000\" font-family=\"sans-serif\" font-size=\"12\" font-style=\"italic\" lengthAdjust=\"spacingAndGlyphs\" textLength=\"40\" x=\"533\" y=\"199.1387\">«part»</text><text fill=\"#000000\" font-family=\"sans-serif\" font-size=\"12\" lengthAdjust=\"spacingAndGlyphs\" textLength=\"24\" x=\"541\" y=\"213.1074\">a: A</text><line style=\"stroke: #383838; stroke-width: 1.5;\" x1=\"533\" x2=\"573\" y1=\"220.9375\" y2=\"220.9375\"/></a><!--MD5=[96f4274e9e20536e775497830990834d]\n",
       "class E10--><a href=\"psysml:4c8e1ce2-7f9a-4661-9090-c510b6f01354\" target=\"_top\" title=\"psysml:4c8e1ce2-7f9a-4661-9090-c510b6f01354\" xlink:actuate=\"onRequest\" xlink:href=\"psysml:4c8e1ce2-7f9a-4661-9090-c510b6f01354\" xlink:show=\"new\" xlink:title=\"psysml:4c8e1ce2-7f9a-4661-9090-c510b6f01354\" xlink:type=\"simple\"><rect fill=\"#FFFFFF\" height=\"45.9375\" id=\"E10\" style=\"stroke: #383838; stroke-width: 1.5;\" width=\"66\" x=\"32\" y=\"49\"/><text fill=\"#000000\" font-family=\"sans-serif\" font-size=\"12\" font-style=\"italic\" lengthAdjust=\"spacingAndGlyphs\" textLength=\"64\" x=\"33\" y=\"65.1387\">«port def»</text><text fill=\"#000000\" font-family=\"sans-serif\" font-size=\"12\" lengthAdjust=\"spacingAndGlyphs\" textLength=\"8\" x=\"61\" y=\"79.1074\">C</text><line style=\"stroke: #383838; stroke-width: 1.5;\" x1=\"33\" x2=\"97\" y1=\"86.9375\" y2=\"86.9375\"/></a><a href=\"psysml:4c76b494-1a6c-482d-b35c-aa72d24bc41e\" target=\"_top\" title=\"psysml:4c76b494-1a6c-482d-b35c-aa72d24bc41e\" xlink:actuate=\"onRequest\" xlink:href=\"psysml:4c76b494-1a6c-482d-b35c-aa72d24bc41e\" xlink:show=\"new\" xlink:title=\"psysml:4c76b494-1a6c-482d-b35c-aa72d24bc41e\" xlink:type=\"simple\"><polygon fill=\"#FFFFFF\" points=\"538,89.5,554,89.5,561,111.7969,568,111.7969,568,142.0938,538,142.0938,538,89.5\" style=\"stroke: #000000; stroke-width: 1.5;\"/><line style=\"stroke: #000000; stroke-width: 1.5;\" x1=\"538\" x2=\"561\" y1=\"111.7969\" y2=\"111.7969\"/><text fill=\"#000000\" font-family=\"sans-serif\" font-size=\"14\" font-weight=\"bold\" lengthAdjust=\"spacingAndGlyphs\" textLength=\"10\" x=\"542\" y=\"104.4951\">P</text></a><!--MD5=[2720a5a1f2c3fca2055b230370638851]\n",
       "link E2 to E3--><a href=\"psysml:38cdc859-4dfa-4bc4-87cd-169dd5acc896\" target=\"_top\" title=\"psysml:38cdc859-4dfa-4bc4-87cd-169dd5acc896\" xlink:actuate=\"onRequest\" xlink:href=\"psysml:38cdc859-4dfa-4bc4-87cd-169dd5acc896\" xlink:show=\"new\" xlink:title=\"psysml:38cdc859-4dfa-4bc4-87cd-169dd5acc896\" xlink:type=\"simple\"><path d=\"M86.24,222.15 C100.47,227.98 119.93,233.37 137,229 C140.84,228.02 144.69,226.74 148.49,225.27 \" fill=\"none\" id=\"E2-&gt;E3\" style=\"stroke: #383838; stroke-width: 1.0;\"/><polygon fill=\"#FFFFFF\" points=\"166.82,216.6,152.6299,231.0444,146.6504,218.3856,166.82,216.6\" style=\"stroke: #383838; stroke-width: 1.0;\"/><ellipse cx=\"146.6217\" cy=\"231.6705\" fill=\"#383838\" rx=\"2\" ry=\"2\" style=\"stroke: #383838; stroke-width: 1.0;\"/><ellipse cx=\"142.3507\" cy=\"222.6284\" fill=\"#383838\" rx=\"2\" ry=\"2\" style=\"stroke: #383838; stroke-width: 1.0;\"/></a><!--MD5=[4672eba38e49728da53d11aeb285b987]\n",
       "reverse link E3 to E4--><a href=\"psysml:5ebdadf2-6044-45bc-aa24-2da7c79aba16\" target=\"_top\" title=\"psysml:5ebdadf2-6044-45bc-aa24-2da7c79aba16\" xlink:actuate=\"onRequest\" xlink:href=\"psysml:5ebdadf2-6044-45bc-aa24-2da7c79aba16\" xlink:show=\"new\" xlink:title=\"psysml:5ebdadf2-6044-45bc-aa24-2da7c79aba16\" xlink:type=\"simple\"><path d=\"M246.03,209.65 C254.73,210.69 263.71,210.49 272,208 C282.76,204.77 293.34,198.39 301.98,192.1 \" fill=\"none\" id=\"E3&lt;-E4\" style=\"stroke: #383838; stroke-width: 1.0;\"/><polygon fill=\"#383838\" points=\"233.17,207.27,238.3389,212.2981,244.9683,209.4607,239.7994,204.4326,233.17,207.27\" style=\"stroke: #383838; stroke-width: 1.0;\"/></a><!--MD5=[79568f1e445c3877b6a54524624ccc7d]\n",
       "link E4 to E6--><a href=\"psysml:1fd8d685-c326-41aa-b421-a8308f20148e\" target=\"_top\" title=\"psysml:1fd8d685-c326-41aa-b421-a8308f20148e\" xlink:actuate=\"onRequest\" xlink:href=\"psysml:1fd8d685-c326-41aa-b421-a8308f20148e\" xlink:show=\"new\" xlink:title=\"psysml:1fd8d685-c326-41aa-b421-a8308f20148e\" xlink:type=\"simple\"><path d=\"M344.2,164.45 C356.12,158.23 371.77,150.06 386.81,142.2 \" fill=\"none\" id=\"E4-&gt;E6\" style=\"stroke: #383838; stroke-width: 1.0;\"/><polygon fill=\"#FFFFFF\" points=\"404.57,132.93,390.9678,147.9293,384.4878,135.5193,404.57,132.93\" style=\"stroke: #383838; stroke-width: 1.0;\"/><ellipse cx=\"384.9894\" cy=\"148.7948\" fill=\"#383838\" rx=\"2\" ry=\"2\" style=\"stroke: #383838; stroke-width: 1.0;\"/><ellipse cx=\"380.3608\" cy=\"139.9305\" fill=\"#383838\" rx=\"2\" ry=\"2\" style=\"stroke: #383838; stroke-width: 1.0;\"/></a><!--MD5=[3f50a3473f1dfb74d3f76443e03635af]\n",
       "reverse link E6 to E7--><a href=\"psysml:c471fe89-f766-40f3-82e0-5e28332f3a67\" target=\"_top\" title=\"psysml:c471fe89-f766-40f3-82e0-5e28332f3a67\" xlink:actuate=\"onRequest\" xlink:href=\"psysml:c471fe89-f766-40f3-82e0-5e28332f3a67\" xlink:show=\"new\" xlink:title=\"psysml:c471fe89-f766-40f3-82e0-5e28332f3a67\" xlink:type=\"simple\"><path d=\"M481.54,149.88 C498.82,163.65 517.97,178.9 531.94,190.02 \" fill=\"none\" id=\"E6&lt;-E7\" style=\"stroke: #383838; stroke-width: 1.0;\"/><polygon fill=\"#383838\" points=\"471.08,141.55,473.2818,148.4168,480.4671,149.0254,478.2654,142.1587,471.08,141.55\" style=\"stroke: #383838; stroke-width: 1.0;\"/></a><!--MD5=[14ccda38c055a5c0da953d572bc50960]\n",
       "link E7 to E3--><a href=\"psysml:ce24e444-eb42-4eaa-91b0-86c1efe7ffc5\" target=\"_top\" title=\"psysml:ce24e444-eb42-4eaa-91b0-86c1efe7ffc5\" xlink:actuate=\"onRequest\" xlink:href=\"psysml:ce24e444-eb42-4eaa-91b0-86c1efe7ffc5\" xlink:show=\"new\" xlink:title=\"psysml:ce24e444-eb42-4eaa-91b0-86c1efe7ffc5\" xlink:type=\"simple\"><path d=\"M531.93,207.19 C494.83,209.35 413.02,213.86 344,216 C312.01,216.99 304,216.78 272,217 C268,217.03 266.94,217.68 263,217 C259.6,216.41 256.13,215.66 252.66,214.78 \" fill=\"none\" id=\"E7-&gt;E3\" style=\"stroke: #383838; stroke-width: 1.0;\"/><polygon fill=\"#FFFFFF\" points=\"233.26,208.79,253.4801,207.719,249.3418,221.0934,233.26,208.79\" style=\"stroke: #383838; stroke-width: 1.0;\"/><ellipse cx=\"258.3342\" cy=\"211.3145\" fill=\"#383838\" rx=\"2\" ry=\"2\" style=\"stroke: #383838; stroke-width: 1.0;\"/><ellipse cx=\"255.3783\" cy=\"220.8677\" fill=\"#383838\" rx=\"2\" ry=\"2\" style=\"stroke: #383838; stroke-width: 1.0;\"/></a><!--MD5=[e88d06e5a652d73a6b19930eefe025a8]\n",
       "reverse link E6 to E9--><a href=\"psysml:cabff1fd-5442-4a71-976e-341ac2e5dda1\" target=\"_top\" title=\"psysml:cabff1fd-5442-4a71-976e-341ac2e5dda1\" xlink:actuate=\"onRequest\" xlink:href=\"psysml:cabff1fd-5442-4a71-976e-341ac2e5dda1\" xlink:show=\"new\" xlink:title=\"psysml:cabff1fd-5442-4a71-976e-341ac2e5dda1\" xlink:type=\"simple\"><path d=\"M486.25,116 C504.92,116 524.97,116 537.96,116 \" fill=\"none\" id=\"E6&lt;-E9\" style=\"stroke: #383838; stroke-width: 1.0;\"/><ellipse cx=\"479.08\" cy=\"116\" fill=\"#FFFFFF\" rx=\"8\" ry=\"8\" style=\"stroke: #383838; stroke-width: 1.0;\"/><line style=\"stroke: #383838; stroke-width: 1.0;\" x1=\"487.08\" x2=\"471.08\" y1=\"116\" y2=\"116\"/><line style=\"stroke: #383838; stroke-width: 1.0;\" x1=\"479.08\" x2=\"479.08\" y1=\"124\" y2=\"108\"/></a><!--MD5=[8e04057e7b3cbc0dca4fc78ea351e2da]\n",
       "reverse link E10 to E3--><a href=\"psysml:a19db77c-da80-41d6-a5f2-85a22676bfcf\" target=\"_top\" title=\"psysml:a19db77c-da80-41d6-a5f2-85a22676bfcf\" xlink:actuate=\"onRequest\" xlink:href=\"psysml:a19db77c-da80-41d6-a5f2-85a22676bfcf\" xlink:show=\"new\" xlink:title=\"psysml:a19db77c-da80-41d6-a5f2-85a22676bfcf\" xlink:type=\"simple\"><path d=\"M73.15,107.89 C81.09,137.24 97.11,176.91 128,196 C139.43,203.06 154,203.93 166.96,202.6 \" fill=\"none\" id=\"E10&lt;-E3\" style=\"stroke: #383838; stroke-width: 1.0;\"/><polygon fill=\"#FFFFFF\" points=\"70.04,95.24,67.5857,102.0206,72.9008,106.894,75.3551,100.1134,70.04,95.24\" style=\"stroke: #383838; stroke-width: 1.0;\"/><text fill=\"#000000\" font-family=\"sans-serif\" font-size=\"13\" lengthAdjust=\"spacingAndGlyphs\" textLength=\"7\" x=\"129\" y=\"192.0669\">y</text></a><!--MD5=[8e04057e7b3cbc0dca4fc78ea351e2da]\n",
       "reverse link E10 to E3--><a href=\"psysml:a19db77c-da80-41d6-a5f2-85a22676bfcf\" target=\"_top\" title=\"psysml:a19db77c-da80-41d6-a5f2-85a22676bfcf\" xlink:actuate=\"onRequest\" xlink:href=\"psysml:a19db77c-da80-41d6-a5f2-85a22676bfcf\" xlink:show=\"new\" xlink:title=\"psysml:a19db77c-da80-41d6-a5f2-85a22676bfcf\" xlink:type=\"simple\"><path d=\"M94.66,105.02 C104.83,116.17 116.59,128.46 128,139 C140.11,150.19 154.23,161.62 166.67,171.21 \" fill=\"none\" id=\"E10&lt;-E3-1\" style=\"stroke: #383838; stroke-width: 1.0;\"/><polygon fill=\"#FFFFFF\" points=\"85.83,95.17,86.863,102.3067,93.8481,104.098,92.8151,96.9613,85.83,95.17\" style=\"stroke: #383838; stroke-width: 1.0;\"/><text fill=\"#000000\" font-family=\"sans-serif\" font-size=\"13\" lengthAdjust=\"spacingAndGlyphs\" textLength=\"7\" x=\"129\" y=\"135.0669\">y</text></a><!--MD5=[8e04057e7b3cbc0dca4fc78ea351e2da]\n",
       "reverse link E10 to E3--><a href=\"psysml:a19db77c-da80-41d6-a5f2-85a22676bfcf\" target=\"_top\" title=\"psysml:a19db77c-da80-41d6-a5f2-85a22676bfcf\" xlink:actuate=\"onRequest\" xlink:href=\"psysml:a19db77c-da80-41d6-a5f2-85a22676bfcf\" xlink:show=\"new\" xlink:title=\"psysml:a19db77c-da80-41d6-a5f2-85a22676bfcf\" xlink:type=\"simple\"><path d=\"M109.31,96.93 C118.86,103.26 128.61,110.43 137,118 C149.74,129.5 161.99,143.76 172.19,156.87 \" fill=\"none\" id=\"E10&lt;-E3-2\" style=\"stroke: #383838; stroke-width: 1.0;\"/><polygon fill=\"#FFFFFF\" points=\"98.3,89.91,101.2128,96.5066,108.4223,96.3551,105.5095,89.7584,98.3,89.91\" style=\"stroke: #383838; stroke-width: 1.0;\"/><text fill=\"#000000\" font-family=\"sans-serif\" font-size=\"13\" lengthAdjust=\"spacingAndGlyphs\" textLength=\"7\" x=\"129\" y=\"107.0669\">y</text></a><!--MD5=[604cbf994c02b74b117f728a71673cea]\n",
       "reverse link E10 to E6--><a href=\"psysml:a19db77c-da80-41d6-a5f2-85a22676bfcf\" target=\"_top\" title=\"psysml:a19db77c-da80-41d6-a5f2-85a22676bfcf\" xlink:actuate=\"onRequest\" xlink:href=\"psysml:a19db77c-da80-41d6-a5f2-85a22676bfcf\" xlink:show=\"new\" xlink:title=\"psysml:a19db77c-da80-41d6-a5f2-85a22676bfcf\" xlink:type=\"simple\"><path d=\"M110.46,51.74 C116.26,49.79 122.2,48.12 128,47 C131.93,46.24 133,46.81 137,47 C243.15,52.12 275.82,31.84 375,70 C385.51,74.04 395.79,80.39 404.87,87.08 \" fill=\"none\" id=\"E10&lt;-E6\" style=\"stroke: #383838; stroke-width: 1.0;\"/><polygon fill=\"#FFFFFF\" points=\"98.1,56.34,105.1193,57.9921,109.3441,52.1482,102.3248,50.4961,98.1,56.34\" style=\"stroke: #383838; stroke-width: 1.0;\"/><text fill=\"#000000\" font-family=\"sans-serif\" font-size=\"13\" lengthAdjust=\"spacingAndGlyphs\" textLength=\"7\" x=\"264\" y=\"43.0669\">y</text></a><!--MD5=[604cbf994c02b74b117f728a71673cea]\n",
       "reverse link E10 to E6--><a href=\"psysml:a19db77c-da80-41d6-a5f2-85a22676bfcf\" target=\"_top\" title=\"psysml:a19db77c-da80-41d6-a5f2-85a22676bfcf\" xlink:actuate=\"onRequest\" xlink:href=\"psysml:a19db77c-da80-41d6-a5f2-85a22676bfcf\" xlink:show=\"new\" xlink:title=\"psysml:a19db77c-da80-41d6-a5f2-85a22676bfcf\" xlink:type=\"simple\"><path d=\"M111.01,78.63 C119.77,80.55 128.78,82.97 137,86 C182.93,102.95 195.16,108.94 233,140 C248.84,153 244.39,166.44 263,175 C287.64,186.33 291.14,141.42 302,135 C333.38,116.46 375.86,113.35 404.73,113.82 \" fill=\"none\" id=\"E10&lt;-E6-1\" style=\"stroke: #383838; stroke-width: 1.0;\"/><polygon fill=\"#FFFFFF\" points=\"98.05,76.1,103.1688,81.1792,109.826,78.4077,104.7072,73.3285,98.05,76.1\" style=\"stroke: #383838; stroke-width: 1.0;\"/><text fill=\"#000000\" font-family=\"sans-serif\" font-size=\"13\" lengthAdjust=\"spacingAndGlyphs\" textLength=\"7\" x=\"264\" y=\"171.0669\">y</text></a><!--MD5=[604cbf994c02b74b117f728a71673cea]\n",
       "reverse link E10 to E6--><a href=\"psysml:a19db77c-da80-41d6-a5f2-85a22676bfcf\" target=\"_top\" title=\"psysml:a19db77c-da80-41d6-a5f2-85a22676bfcf\" xlink:actuate=\"onRequest\" xlink:href=\"psysml:a19db77c-da80-41d6-a5f2-85a22676bfcf\" xlink:show=\"new\" xlink:title=\"psysml:a19db77c-da80-41d6-a5f2-85a22676bfcf\" xlink:type=\"simple\"><path d=\"M111.26,74.08 C119.82,74.61 128.69,75.24 137,76 C243.18,85.67 269.47,90.84 375,106 C384.71,107.4 395.26,109.05 404.85,110.6 \" fill=\"none\" id=\"E10&lt;-E6-2\" style=\"stroke: #383838; stroke-width: 1.0;\"/><polygon fill=\"#FFFFFF\" points=\"98.2,73.34,103.9665,77.6698,110.1812,74.0122,104.4146,69.6824,98.2,73.34\" style=\"stroke: #383838; stroke-width: 1.0;\"/><text fill=\"#000000\" font-family=\"sans-serif\" font-size=\"13\" lengthAdjust=\"spacingAndGlyphs\" textLength=\"7\" x=\"264\" y=\"86.0669\">y</text></a><!--MD5=[352bb1f7f22acb650c097271269a4443]\n",
       "@startuml\r\n",
       "left to right direction\r\n",
       "skinparam monochrome true\r\n",
       "skinparam classbackgroundcolor white\r\n",
       "skinparam shadowing false\r\n",
       "skinparam wrapWidth 300\r\n",
       "hide circle\r\n",
       "\r\n",
       "package \"PartTest\" as E1  [[psysml:c65cc0cd-28b1-4d7a-bc05-02136890ed9a ]]  {\r\n",
       "comp usage \"f: A\" as E2  <<(T,blue)part>> [[psysml:634826b2-2fc2-4798-92ed-071cd1dffdd8 ]] {\r\n",
       "}\r\n",
       "comp def \"A\" as E3  <<(T,blue)part def>> [[psysml:36aba5eb-a810-4976-a211-fcdfb7b330f5 ]] {\r\n",
       "- - ports - -\r\n",
       "c: C\r\n",
       "}\r\n",
       "comp usage \"b: B\" as E4  <<(T,blue)part>> [[psysml:b5150c44-d935-4f31-a69b-527c90fd7c47 ]] {\r\n",
       "}\r\n",
       "comp def \"B\" as E6  <<(T,blue)part def>> [[psysml:94fb1c4b-8096-4b0e-a0c8-00d5fe55de6c ]] {\r\n",
       "- - ports - -\r\n",
       "x: ~C\r\n",
       "}\r\n",
       "comp usage \"a: A\" as E7  <<(T,blue)part>> [[psysml:de084c60-8c86-4761-a316-7296396fb321 ]] {\r\n",
       "}\r\n",
       "package \"P\" as E9  [[psysml:4c76b494-1a6c-482d-b35c-aa72d24bc41e ]]  {\r\n",
       "}\r\n",
       "comp def \"C\" as E10  <<(T,blue)port def>> [[psysml:4c8e1ce2-7f9a-4661-9090-c510b6f01354 ]] {\r\n",
       "}\r\n",
       "E2 - -:|> E3 [[psysml:38cdc859-4dfa-4bc4-87cd-169dd5acc896 ]] \r\n",
       "E3 *- - E4 [[psysml:5ebdadf2-6044-45bc-aa24-2da7c79aba16 ]] \r\n",
       "E4 - -:|> E6 [[psysml:1fd8d685-c326-41aa-b421-a8308f20148e ]] \r\n",
       "E6 *- - E7 [[psysml:c471fe89-f766-40f3-82e0-5e28332f3a67 ]] \r\n",
       "E7 - -:|> E3 [[psysml:ce24e444-eb42-4eaa-91b0-86c1efe7ffc5 ]] \r\n",
       "E6 +- - E9 [[psysml:cabff1fd-5442-4a71-976e-341ac2e5dda1 ]] \r\n",
       "E10 o- - E3 [[psysml:a19db77c-da80-41d6-a5f2-85a22676bfcf ]] : y\r\n",
       "E10 o- - E6 [[psysml:a19db77c-da80-41d6-a5f2-85a22676bfcf ]] : y\r\n",
       "E10 o- - E3 [[psysml:a19db77c-da80-41d6-a5f2-85a22676bfcf ]] : y\r\n",
       "E10 o- - E6 [[psysml:a19db77c-da80-41d6-a5f2-85a22676bfcf ]] : y\r\n",
       "E10 o- - E3 [[psysml:a19db77c-da80-41d6-a5f2-85a22676bfcf ]] : y\r\n",
       "E10 o- - E6 [[psysml:a19db77c-da80-41d6-a5f2-85a22676bfcf ]] : y\r\n",
       "}\r\n",
       "@enduml\r\n",
       "\n",
       "PlantUML version 1.2020.13(Sat Jun 13 12:26:38 UTC 2020)\n",
       "(EPL source distribution)\n",
       "Java Runtime: OpenJDK Runtime Environment\n",
       "JVM: OpenJDK 64-Bit Server VM\n",
       "Default Encoding: UTF-8\n",
       "Language: en\n",
       "Country: null\n",
       "--></g></svg>"
      ]
     },
     "execution_count": 16,
     "metadata": {},
     "output_type": "execute_result"
    }
   ],
   "source": [
    "%viz --style=\"LR\" --view=\"Default\" \"PartTest\""
   ]
  },
  {
   "cell_type": "code",
   "execution_count": 17,
   "id": "19dbbc84",
   "metadata": {
    "execution": {
     "iopub.execute_input": "2021-04-20T07:29:12.082064Z",
     "iopub.status.busy": "2021-04-20T07:29:12.080407Z",
     "iopub.status.idle": "2021-04-20T07:29:12.224878Z",
     "shell.execute_reply": "2021-04-20T07:29:12.224141Z"
    }
   },
   "outputs": [
    {
     "data": {
      "image/svg+xml": [
       "<?xml version=\"1.0\" encoding=\"UTF-8\" standalone=\"no\"?><svg xmlns=\"http://www.w3.org/2000/svg\" xmlns:xlink=\"http://www.w3.org/1999/xlink\" contentScriptType=\"application/ecmascript\" contentStyleType=\"text/css\" height=\"263px\" preserveAspectRatio=\"none\" style=\"width:612px;height:263px;\" version=\"1.1\" viewBox=\"0 0 612 263\" width=\"612px\" zoomAndPan=\"magnify\"><defs/><g><!--MD5=[fbc87193dbaf4d95561dea2c320d4a47]\n",
       "cluster E1--><a href=\"psysml:c65cc0cd-28b1-4d7a-bc05-02136890ed9a\" target=\"_top\" title=\"psysml:c65cc0cd-28b1-4d7a-bc05-02136890ed9a\" xlink:actuate=\"onRequest\" xlink:href=\"psysml:c65cc0cd-28b1-4d7a-bc05-02136890ed9a\" xlink:show=\"new\" xlink:title=\"psysml:c65cc0cd-28b1-4d7a-bc05-02136890ed9a\" xlink:type=\"simple\"><polygon fill=\"#FFFFFF\" points=\"16,6,89,6,96,28.2969,590,28.2969,590,251,16,251,16,6\" style=\"stroke: #000000; stroke-width: 1.5;\"/><line style=\"stroke: #000000; stroke-width: 1.5;\" x1=\"16\" x2=\"96\" y1=\"28.2969\" y2=\"28.2969\"/><text fill=\"#000000\" font-family=\"sans-serif\" font-size=\"14\" font-weight=\"bold\" lengthAdjust=\"spacingAndGlyphs\" textLength=\"67\" x=\"20\" y=\"20.9951\">PartTest</text></a><!--MD5=[b4997ac47864f28c2f74865a473b2911]\n",
       "class E2--><a href=\"psysml:634826b2-2fc2-4798-92ed-071cd1dffdd8\" target=\"_top\" title=\"psysml:634826b2-2fc2-4798-92ed-071cd1dffdd8\" xlink:actuate=\"onRequest\" xlink:href=\"psysml:634826b2-2fc2-4798-92ed-071cd1dffdd8\" xlink:show=\"new\" xlink:title=\"psysml:634826b2-2fc2-4798-92ed-071cd1dffdd8\" xlink:type=\"simple\"><rect fill=\"#FFFFFF\" height=\"45.9375\" id=\"E2\" rx=\"10\" ry=\"10\" style=\"stroke: #383838; stroke-width: 1.5;\" width=\"42\" x=\"44\" y=\"189\"/><text fill=\"#000000\" font-family=\"sans-serif\" font-size=\"12\" font-style=\"italic\" lengthAdjust=\"spacingAndGlyphs\" textLength=\"40\" x=\"45\" y=\"205.1387\">«part»</text><text fill=\"#000000\" font-family=\"sans-serif\" font-size=\"12\" lengthAdjust=\"spacingAndGlyphs\" textLength=\"20\" x=\"55\" y=\"219.1074\">f: A</text><line style=\"stroke: #383838; stroke-width: 1.5;\" x1=\"45\" x2=\"85\" y1=\"226.9375\" y2=\"226.9375\"/></a><!--MD5=[09b614a08d8cba4a07c9adeb5e0fee81]\n",
       "class E3--><a href=\"psysml:36aba5eb-a810-4976-a211-fcdfb7b330f5\" target=\"_top\" title=\"psysml:36aba5eb-a810-4976-a211-fcdfb7b330f5\" xlink:actuate=\"onRequest\" xlink:href=\"psysml:36aba5eb-a810-4976-a211-fcdfb7b330f5\" xlink:show=\"new\" xlink:title=\"psysml:36aba5eb-a810-4976-a211-fcdfb7b330f5\" xlink:type=\"simple\"><rect fill=\"#FFFFFF\" height=\"75.5469\" id=\"E3\" style=\"stroke: #383838; stroke-width: 1.5;\" width=\"66\" x=\"167\" y=\"157\"/><text fill=\"#000000\" font-family=\"sans-serif\" font-size=\"12\" font-style=\"italic\" lengthAdjust=\"spacingAndGlyphs\" textLength=\"64\" x=\"168\" y=\"173.1387\">«part def»</text><text fill=\"#000000\" font-family=\"sans-serif\" font-size=\"12\" lengthAdjust=\"spacingAndGlyphs\" textLength=\"8\" x=\"196\" y=\"187.1074\">A</text><line style=\"stroke: #383838; stroke-width: 1.5;\" x1=\"168\" x2=\"232\" y1=\"194.9375\" y2=\"194.9375\"/><text fill=\"#000000\" font-family=\"sans-serif\" font-size=\"11\" lengthAdjust=\"spacingAndGlyphs\" textLength=\"22\" x=\"173\" y=\"225.9526\">c: C</text><line style=\"stroke: #383838; stroke-width: 1.0;\" x1=\"168\" x2=\"185\" y1=\"209.3398\" y2=\"209.3398\"/><text fill=\"#000000\" font-family=\"sans-serif\" font-size=\"11\" lengthAdjust=\"spacingAndGlyphs\" textLength=\"30\" x=\"185\" y=\"212.6479\">ports</text><line style=\"stroke: #383838; stroke-width: 1.0;\" x1=\"215\" x2=\"232\" y1=\"209.3398\" y2=\"209.3398\"/></a><!--MD5=[ebbe1d658d1005bcc118a6aa81145e00]\n",
       "class E4--><a href=\"psysml:b5150c44-d935-4f31-a69b-527c90fd7c47\" target=\"_top\" title=\"psysml:b5150c44-d935-4f31-a69b-527c90fd7c47\" xlink:actuate=\"onRequest\" xlink:href=\"psysml:b5150c44-d935-4f31-a69b-527c90fd7c47\" xlink:show=\"new\" xlink:title=\"psysml:b5150c44-d935-4f31-a69b-527c90fd7c47\" xlink:type=\"simple\"><rect fill=\"#FFFFFF\" height=\"45.9375\" id=\"E4\" rx=\"10\" ry=\"10\" style=\"stroke: #383838; stroke-width: 1.5;\" width=\"42\" x=\"302\" y=\"152\"/><text fill=\"#000000\" font-family=\"sans-serif\" font-size=\"12\" font-style=\"italic\" lengthAdjust=\"spacingAndGlyphs\" textLength=\"40\" x=\"303\" y=\"168.1387\">«part»</text><text fill=\"#000000\" font-family=\"sans-serif\" font-size=\"12\" lengthAdjust=\"spacingAndGlyphs\" textLength=\"24\" x=\"311\" y=\"182.1074\">b: B</text><line style=\"stroke: #383838; stroke-width: 1.5;\" x1=\"303\" x2=\"343\" y1=\"189.9375\" y2=\"189.9375\"/></a><!--MD5=[60a26617385b1d2d0262a64233df1f8d]\n",
       "class E6--><a href=\"psysml:94fb1c4b-8096-4b0e-a0c8-00d5fe55de6c\" target=\"_top\" title=\"psysml:94fb1c4b-8096-4b0e-a0c8-00d5fe55de6c\" xlink:actuate=\"onRequest\" xlink:href=\"psysml:94fb1c4b-8096-4b0e-a0c8-00d5fe55de6c\" xlink:show=\"new\" xlink:title=\"psysml:94fb1c4b-8096-4b0e-a0c8-00d5fe55de6c\" xlink:type=\"simple\"><rect fill=\"#FFFFFF\" height=\"75.5469\" id=\"E6\" style=\"stroke: #383838; stroke-width: 1.5;\" width=\"66\" x=\"405\" y=\"78\"/><text fill=\"#000000\" font-family=\"sans-serif\" font-size=\"12\" font-style=\"italic\" lengthAdjust=\"spacingAndGlyphs\" textLength=\"64\" x=\"406\" y=\"94.1387\">«part def»</text><text fill=\"#000000\" font-family=\"sans-serif\" font-size=\"12\" lengthAdjust=\"spacingAndGlyphs\" textLength=\"8\" x=\"434\" y=\"108.1074\">B</text><line style=\"stroke: #383838; stroke-width: 1.5;\" x1=\"406\" x2=\"470\" y1=\"115.9375\" y2=\"115.9375\"/><text fill=\"#000000\" font-family=\"sans-serif\" font-size=\"11\" lengthAdjust=\"spacingAndGlyphs\" textLength=\"31\" x=\"411\" y=\"146.9526\">x: ~C</text><line style=\"stroke: #383838; stroke-width: 1.0;\" x1=\"406\" x2=\"423\" y1=\"130.3398\" y2=\"130.3398\"/><text fill=\"#000000\" font-family=\"sans-serif\" font-size=\"11\" lengthAdjust=\"spacingAndGlyphs\" textLength=\"30\" x=\"423\" y=\"133.6479\">ports</text><line style=\"stroke: #383838; stroke-width: 1.0;\" x1=\"453\" x2=\"470\" y1=\"130.3398\" y2=\"130.3398\"/></a><!--MD5=[2156ba9850f5573cc1fc38a6a4b2f02b]\n",
       "class E7--><a href=\"psysml:de084c60-8c86-4761-a316-7296396fb321\" target=\"_top\" title=\"psysml:de084c60-8c86-4761-a316-7296396fb321\" xlink:actuate=\"onRequest\" xlink:href=\"psysml:de084c60-8c86-4761-a316-7296396fb321\" xlink:show=\"new\" xlink:title=\"psysml:de084c60-8c86-4761-a316-7296396fb321\" xlink:type=\"simple\"><rect fill=\"#FFFFFF\" height=\"45.9375\" id=\"E7\" rx=\"10\" ry=\"10\" style=\"stroke: #383838; stroke-width: 1.5;\" width=\"42\" x=\"532\" y=\"183\"/><text fill=\"#000000\" font-family=\"sans-serif\" font-size=\"12\" font-style=\"italic\" lengthAdjust=\"spacingAndGlyphs\" textLength=\"40\" x=\"533\" y=\"199.1387\">«part»</text><text fill=\"#000000\" font-family=\"sans-serif\" font-size=\"12\" lengthAdjust=\"spacingAndGlyphs\" textLength=\"24\" x=\"541\" y=\"213.1074\">a: A</text><line style=\"stroke: #383838; stroke-width: 1.5;\" x1=\"533\" x2=\"573\" y1=\"220.9375\" y2=\"220.9375\"/></a><!--MD5=[96f4274e9e20536e775497830990834d]\n",
       "class E10--><a href=\"psysml:4c8e1ce2-7f9a-4661-9090-c510b6f01354\" target=\"_top\" title=\"psysml:4c8e1ce2-7f9a-4661-9090-c510b6f01354\" xlink:actuate=\"onRequest\" xlink:href=\"psysml:4c8e1ce2-7f9a-4661-9090-c510b6f01354\" xlink:show=\"new\" xlink:title=\"psysml:4c8e1ce2-7f9a-4661-9090-c510b6f01354\" xlink:type=\"simple\"><rect fill=\"#FFFFFF\" height=\"45.9375\" id=\"E10\" style=\"stroke: #383838; stroke-width: 1.5;\" width=\"66\" x=\"32\" y=\"49\"/><text fill=\"#000000\" font-family=\"sans-serif\" font-size=\"12\" font-style=\"italic\" lengthAdjust=\"spacingAndGlyphs\" textLength=\"64\" x=\"33\" y=\"65.1387\">«port def»</text><text fill=\"#000000\" font-family=\"sans-serif\" font-size=\"12\" lengthAdjust=\"spacingAndGlyphs\" textLength=\"8\" x=\"61\" y=\"79.1074\">C</text><line style=\"stroke: #383838; stroke-width: 1.5;\" x1=\"33\" x2=\"97\" y1=\"86.9375\" y2=\"86.9375\"/></a><a href=\"psysml:4c76b494-1a6c-482d-b35c-aa72d24bc41e\" target=\"_top\" title=\"psysml:4c76b494-1a6c-482d-b35c-aa72d24bc41e\" xlink:actuate=\"onRequest\" xlink:href=\"psysml:4c76b494-1a6c-482d-b35c-aa72d24bc41e\" xlink:show=\"new\" xlink:title=\"psysml:4c76b494-1a6c-482d-b35c-aa72d24bc41e\" xlink:type=\"simple\"><polygon fill=\"#FFFFFF\" points=\"538,89.5,554,89.5,561,111.7969,568,111.7969,568,142.0938,538,142.0938,538,89.5\" style=\"stroke: #000000; stroke-width: 1.5;\"/><line style=\"stroke: #000000; stroke-width: 1.5;\" x1=\"538\" x2=\"561\" y1=\"111.7969\" y2=\"111.7969\"/><text fill=\"#000000\" font-family=\"sans-serif\" font-size=\"14\" font-weight=\"bold\" lengthAdjust=\"spacingAndGlyphs\" textLength=\"10\" x=\"542\" y=\"104.4951\">P</text></a><!--MD5=[2720a5a1f2c3fca2055b230370638851]\n",
       "link E2 to E3--><a href=\"psysml:38cdc859-4dfa-4bc4-87cd-169dd5acc896\" target=\"_top\" title=\"psysml:38cdc859-4dfa-4bc4-87cd-169dd5acc896\" xlink:actuate=\"onRequest\" xlink:href=\"psysml:38cdc859-4dfa-4bc4-87cd-169dd5acc896\" xlink:show=\"new\" xlink:title=\"psysml:38cdc859-4dfa-4bc4-87cd-169dd5acc896\" xlink:type=\"simple\"><path d=\"M86.24,222.15 C100.47,227.98 119.93,233.37 137,229 C140.84,228.02 144.69,226.74 148.49,225.27 \" fill=\"none\" id=\"E2-&gt;E3\" style=\"stroke: #383838; stroke-width: 1.0;\"/><polygon fill=\"#FFFFFF\" points=\"166.82,216.6,152.6299,231.0444,146.6504,218.3856,166.82,216.6\" style=\"stroke: #383838; stroke-width: 1.0;\"/><ellipse cx=\"146.6217\" cy=\"231.6705\" fill=\"#383838\" rx=\"2\" ry=\"2\" style=\"stroke: #383838; stroke-width: 1.0;\"/><ellipse cx=\"142.3507\" cy=\"222.6284\" fill=\"#383838\" rx=\"2\" ry=\"2\" style=\"stroke: #383838; stroke-width: 1.0;\"/></a><!--MD5=[4672eba38e49728da53d11aeb285b987]\n",
       "reverse link E3 to E4--><a href=\"psysml:5ebdadf2-6044-45bc-aa24-2da7c79aba16\" target=\"_top\" title=\"psysml:5ebdadf2-6044-45bc-aa24-2da7c79aba16\" xlink:actuate=\"onRequest\" xlink:href=\"psysml:5ebdadf2-6044-45bc-aa24-2da7c79aba16\" xlink:show=\"new\" xlink:title=\"psysml:5ebdadf2-6044-45bc-aa24-2da7c79aba16\" xlink:type=\"simple\"><path d=\"M246.03,209.65 C254.73,210.69 263.71,210.49 272,208 C282.76,204.77 293.34,198.39 301.98,192.1 \" fill=\"none\" id=\"E3&lt;-E4\" style=\"stroke: #383838; stroke-width: 1.0;\"/><polygon fill=\"#383838\" points=\"233.17,207.27,238.3389,212.2981,244.9683,209.4607,239.7994,204.4326,233.17,207.27\" style=\"stroke: #383838; stroke-width: 1.0;\"/></a><!--MD5=[79568f1e445c3877b6a54524624ccc7d]\n",
       "link E4 to E6--><a href=\"psysml:1fd8d685-c326-41aa-b421-a8308f20148e\" target=\"_top\" title=\"psysml:1fd8d685-c326-41aa-b421-a8308f20148e\" xlink:actuate=\"onRequest\" xlink:href=\"psysml:1fd8d685-c326-41aa-b421-a8308f20148e\" xlink:show=\"new\" xlink:title=\"psysml:1fd8d685-c326-41aa-b421-a8308f20148e\" xlink:type=\"simple\"><path d=\"M344.2,164.45 C356.12,158.23 371.77,150.06 386.81,142.2 \" fill=\"none\" id=\"E4-&gt;E6\" style=\"stroke: #383838; stroke-width: 1.0;\"/><polygon fill=\"#FFFFFF\" points=\"404.57,132.93,390.9678,147.9293,384.4878,135.5193,404.57,132.93\" style=\"stroke: #383838; stroke-width: 1.0;\"/><ellipse cx=\"384.9894\" cy=\"148.7948\" fill=\"#383838\" rx=\"2\" ry=\"2\" style=\"stroke: #383838; stroke-width: 1.0;\"/><ellipse cx=\"380.3608\" cy=\"139.9305\" fill=\"#383838\" rx=\"2\" ry=\"2\" style=\"stroke: #383838; stroke-width: 1.0;\"/></a><!--MD5=[3f50a3473f1dfb74d3f76443e03635af]\n",
       "reverse link E6 to E7--><a href=\"psysml:c471fe89-f766-40f3-82e0-5e28332f3a67\" target=\"_top\" title=\"psysml:c471fe89-f766-40f3-82e0-5e28332f3a67\" xlink:actuate=\"onRequest\" xlink:href=\"psysml:c471fe89-f766-40f3-82e0-5e28332f3a67\" xlink:show=\"new\" xlink:title=\"psysml:c471fe89-f766-40f3-82e0-5e28332f3a67\" xlink:type=\"simple\"><path d=\"M481.54,149.88 C498.82,163.65 517.97,178.9 531.94,190.02 \" fill=\"none\" id=\"E6&lt;-E7\" style=\"stroke: #383838; stroke-width: 1.0;\"/><polygon fill=\"#383838\" points=\"471.08,141.55,473.2818,148.4168,480.4671,149.0254,478.2654,142.1587,471.08,141.55\" style=\"stroke: #383838; stroke-width: 1.0;\"/></a><!--MD5=[14ccda38c055a5c0da953d572bc50960]\n",
       "link E7 to E3--><a href=\"psysml:ce24e444-eb42-4eaa-91b0-86c1efe7ffc5\" target=\"_top\" title=\"psysml:ce24e444-eb42-4eaa-91b0-86c1efe7ffc5\" xlink:actuate=\"onRequest\" xlink:href=\"psysml:ce24e444-eb42-4eaa-91b0-86c1efe7ffc5\" xlink:show=\"new\" xlink:title=\"psysml:ce24e444-eb42-4eaa-91b0-86c1efe7ffc5\" xlink:type=\"simple\"><path d=\"M531.93,207.19 C494.83,209.35 413.02,213.86 344,216 C312.01,216.99 304,216.78 272,217 C268,217.03 266.94,217.68 263,217 C259.6,216.41 256.13,215.66 252.66,214.78 \" fill=\"none\" id=\"E7-&gt;E3\" style=\"stroke: #383838; stroke-width: 1.0;\"/><polygon fill=\"#FFFFFF\" points=\"233.26,208.79,253.4801,207.719,249.3418,221.0934,233.26,208.79\" style=\"stroke: #383838; stroke-width: 1.0;\"/><ellipse cx=\"258.3342\" cy=\"211.3145\" fill=\"#383838\" rx=\"2\" ry=\"2\" style=\"stroke: #383838; stroke-width: 1.0;\"/><ellipse cx=\"255.3783\" cy=\"220.8677\" fill=\"#383838\" rx=\"2\" ry=\"2\" style=\"stroke: #383838; stroke-width: 1.0;\"/></a><!--MD5=[e88d06e5a652d73a6b19930eefe025a8]\n",
       "reverse link E6 to E9--><a href=\"psysml:cabff1fd-5442-4a71-976e-341ac2e5dda1\" target=\"_top\" title=\"psysml:cabff1fd-5442-4a71-976e-341ac2e5dda1\" xlink:actuate=\"onRequest\" xlink:href=\"psysml:cabff1fd-5442-4a71-976e-341ac2e5dda1\" xlink:show=\"new\" xlink:title=\"psysml:cabff1fd-5442-4a71-976e-341ac2e5dda1\" xlink:type=\"simple\"><path d=\"M486.25,116 C504.92,116 524.97,116 537.96,116 \" fill=\"none\" id=\"E6&lt;-E9\" style=\"stroke: #383838; stroke-width: 1.0;\"/><ellipse cx=\"479.08\" cy=\"116\" fill=\"#FFFFFF\" rx=\"8\" ry=\"8\" style=\"stroke: #383838; stroke-width: 1.0;\"/><line style=\"stroke: #383838; stroke-width: 1.0;\" x1=\"487.08\" x2=\"471.08\" y1=\"116\" y2=\"116\"/><line style=\"stroke: #383838; stroke-width: 1.0;\" x1=\"479.08\" x2=\"479.08\" y1=\"124\" y2=\"108\"/></a><!--MD5=[8e04057e7b3cbc0dca4fc78ea351e2da]\n",
       "reverse link E10 to E3--><a href=\"psysml:a19db77c-da80-41d6-a5f2-85a22676bfcf\" target=\"_top\" title=\"psysml:a19db77c-da80-41d6-a5f2-85a22676bfcf\" xlink:actuate=\"onRequest\" xlink:href=\"psysml:a19db77c-da80-41d6-a5f2-85a22676bfcf\" xlink:show=\"new\" xlink:title=\"psysml:a19db77c-da80-41d6-a5f2-85a22676bfcf\" xlink:type=\"simple\"><path d=\"M73.15,107.89 C81.09,137.24 97.11,176.91 128,196 C139.43,203.06 154,203.93 166.96,202.6 \" fill=\"none\" id=\"E10&lt;-E3\" style=\"stroke: #383838; stroke-width: 1.0;\"/><polygon fill=\"#FFFFFF\" points=\"70.04,95.24,67.5857,102.0206,72.9008,106.894,75.3551,100.1134,70.04,95.24\" style=\"stroke: #383838; stroke-width: 1.0;\"/><text fill=\"#000000\" font-family=\"sans-serif\" font-size=\"13\" lengthAdjust=\"spacingAndGlyphs\" textLength=\"7\" x=\"129\" y=\"192.0669\">y</text></a><!--MD5=[8e04057e7b3cbc0dca4fc78ea351e2da]\n",
       "reverse link E10 to E3--><a href=\"psysml:a19db77c-da80-41d6-a5f2-85a22676bfcf\" target=\"_top\" title=\"psysml:a19db77c-da80-41d6-a5f2-85a22676bfcf\" xlink:actuate=\"onRequest\" xlink:href=\"psysml:a19db77c-da80-41d6-a5f2-85a22676bfcf\" xlink:show=\"new\" xlink:title=\"psysml:a19db77c-da80-41d6-a5f2-85a22676bfcf\" xlink:type=\"simple\"><path d=\"M94.66,105.02 C104.83,116.17 116.59,128.46 128,139 C140.11,150.19 154.23,161.62 166.67,171.21 \" fill=\"none\" id=\"E10&lt;-E3-1\" style=\"stroke: #383838; stroke-width: 1.0;\"/><polygon fill=\"#FFFFFF\" points=\"85.83,95.17,86.863,102.3067,93.8481,104.098,92.8151,96.9613,85.83,95.17\" style=\"stroke: #383838; stroke-width: 1.0;\"/><text fill=\"#000000\" font-family=\"sans-serif\" font-size=\"13\" lengthAdjust=\"spacingAndGlyphs\" textLength=\"7\" x=\"129\" y=\"135.0669\">y</text></a><!--MD5=[8e04057e7b3cbc0dca4fc78ea351e2da]\n",
       "reverse link E10 to E3--><a href=\"psysml:a19db77c-da80-41d6-a5f2-85a22676bfcf\" target=\"_top\" title=\"psysml:a19db77c-da80-41d6-a5f2-85a22676bfcf\" xlink:actuate=\"onRequest\" xlink:href=\"psysml:a19db77c-da80-41d6-a5f2-85a22676bfcf\" xlink:show=\"new\" xlink:title=\"psysml:a19db77c-da80-41d6-a5f2-85a22676bfcf\" xlink:type=\"simple\"><path d=\"M109.31,96.93 C118.86,103.26 128.61,110.43 137,118 C149.74,129.5 161.99,143.76 172.19,156.87 \" fill=\"none\" id=\"E10&lt;-E3-2\" style=\"stroke: #383838; stroke-width: 1.0;\"/><polygon fill=\"#FFFFFF\" points=\"98.3,89.91,101.2128,96.5066,108.4223,96.3551,105.5095,89.7584,98.3,89.91\" style=\"stroke: #383838; stroke-width: 1.0;\"/><text fill=\"#000000\" font-family=\"sans-serif\" font-size=\"13\" lengthAdjust=\"spacingAndGlyphs\" textLength=\"7\" x=\"129\" y=\"107.0669\">y</text></a><!--MD5=[604cbf994c02b74b117f728a71673cea]\n",
       "reverse link E10 to E6--><a href=\"psysml:a19db77c-da80-41d6-a5f2-85a22676bfcf\" target=\"_top\" title=\"psysml:a19db77c-da80-41d6-a5f2-85a22676bfcf\" xlink:actuate=\"onRequest\" xlink:href=\"psysml:a19db77c-da80-41d6-a5f2-85a22676bfcf\" xlink:show=\"new\" xlink:title=\"psysml:a19db77c-da80-41d6-a5f2-85a22676bfcf\" xlink:type=\"simple\"><path d=\"M110.46,51.74 C116.26,49.79 122.2,48.12 128,47 C131.93,46.24 133,46.81 137,47 C243.15,52.12 275.82,31.84 375,70 C385.51,74.04 395.79,80.39 404.87,87.08 \" fill=\"none\" id=\"E10&lt;-E6\" style=\"stroke: #383838; stroke-width: 1.0;\"/><polygon fill=\"#FFFFFF\" points=\"98.1,56.34,105.1193,57.9921,109.3441,52.1482,102.3248,50.4961,98.1,56.34\" style=\"stroke: #383838; stroke-width: 1.0;\"/><text fill=\"#000000\" font-family=\"sans-serif\" font-size=\"13\" lengthAdjust=\"spacingAndGlyphs\" textLength=\"7\" x=\"264\" y=\"43.0669\">y</text></a><!--MD5=[604cbf994c02b74b117f728a71673cea]\n",
       "reverse link E10 to E6--><a href=\"psysml:a19db77c-da80-41d6-a5f2-85a22676bfcf\" target=\"_top\" title=\"psysml:a19db77c-da80-41d6-a5f2-85a22676bfcf\" xlink:actuate=\"onRequest\" xlink:href=\"psysml:a19db77c-da80-41d6-a5f2-85a22676bfcf\" xlink:show=\"new\" xlink:title=\"psysml:a19db77c-da80-41d6-a5f2-85a22676bfcf\" xlink:type=\"simple\"><path d=\"M111.01,78.63 C119.77,80.55 128.78,82.97 137,86 C182.93,102.95 195.16,108.94 233,140 C248.84,153 244.39,166.44 263,175 C287.64,186.33 291.14,141.42 302,135 C333.38,116.46 375.86,113.35 404.73,113.82 \" fill=\"none\" id=\"E10&lt;-E6-1\" style=\"stroke: #383838; stroke-width: 1.0;\"/><polygon fill=\"#FFFFFF\" points=\"98.05,76.1,103.1688,81.1792,109.826,78.4077,104.7072,73.3285,98.05,76.1\" style=\"stroke: #383838; stroke-width: 1.0;\"/><text fill=\"#000000\" font-family=\"sans-serif\" font-size=\"13\" lengthAdjust=\"spacingAndGlyphs\" textLength=\"7\" x=\"264\" y=\"171.0669\">y</text></a><!--MD5=[604cbf994c02b74b117f728a71673cea]\n",
       "reverse link E10 to E6--><a href=\"psysml:a19db77c-da80-41d6-a5f2-85a22676bfcf\" target=\"_top\" title=\"psysml:a19db77c-da80-41d6-a5f2-85a22676bfcf\" xlink:actuate=\"onRequest\" xlink:href=\"psysml:a19db77c-da80-41d6-a5f2-85a22676bfcf\" xlink:show=\"new\" xlink:title=\"psysml:a19db77c-da80-41d6-a5f2-85a22676bfcf\" xlink:type=\"simple\"><path d=\"M111.26,74.08 C119.82,74.61 128.69,75.24 137,76 C243.18,85.67 269.47,90.84 375,106 C384.71,107.4 395.26,109.05 404.85,110.6 \" fill=\"none\" id=\"E10&lt;-E6-2\" style=\"stroke: #383838; stroke-width: 1.0;\"/><polygon fill=\"#FFFFFF\" points=\"98.2,73.34,103.9665,77.6698,110.1812,74.0122,104.4146,69.6824,98.2,73.34\" style=\"stroke: #383838; stroke-width: 1.0;\"/><text fill=\"#000000\" font-family=\"sans-serif\" font-size=\"13\" lengthAdjust=\"spacingAndGlyphs\" textLength=\"7\" x=\"264\" y=\"86.0669\">y</text></a><!--MD5=[352bb1f7f22acb650c097271269a4443]\n",
       "@startuml\r\n",
       "left to right direction\r\n",
       "skinparam monochrome true\r\n",
       "skinparam classbackgroundcolor white\r\n",
       "skinparam shadowing false\r\n",
       "skinparam wrapWidth 300\r\n",
       "hide circle\r\n",
       "\r\n",
       "package \"PartTest\" as E1  [[psysml:c65cc0cd-28b1-4d7a-bc05-02136890ed9a ]]  {\r\n",
       "comp usage \"f: A\" as E2  <<(T,blue)part>> [[psysml:634826b2-2fc2-4798-92ed-071cd1dffdd8 ]] {\r\n",
       "}\r\n",
       "comp def \"A\" as E3  <<(T,blue)part def>> [[psysml:36aba5eb-a810-4976-a211-fcdfb7b330f5 ]] {\r\n",
       "- - ports - -\r\n",
       "c: C\r\n",
       "}\r\n",
       "comp usage \"b: B\" as E4  <<(T,blue)part>> [[psysml:b5150c44-d935-4f31-a69b-527c90fd7c47 ]] {\r\n",
       "}\r\n",
       "comp def \"B\" as E6  <<(T,blue)part def>> [[psysml:94fb1c4b-8096-4b0e-a0c8-00d5fe55de6c ]] {\r\n",
       "- - ports - -\r\n",
       "x: ~C\r\n",
       "}\r\n",
       "comp usage \"a: A\" as E7  <<(T,blue)part>> [[psysml:de084c60-8c86-4761-a316-7296396fb321 ]] {\r\n",
       "}\r\n",
       "package \"P\" as E9  [[psysml:4c76b494-1a6c-482d-b35c-aa72d24bc41e ]]  {\r\n",
       "}\r\n",
       "comp def \"C\" as E10  <<(T,blue)port def>> [[psysml:4c8e1ce2-7f9a-4661-9090-c510b6f01354 ]] {\r\n",
       "}\r\n",
       "E2 - -:|> E3 [[psysml:38cdc859-4dfa-4bc4-87cd-169dd5acc896 ]] \r\n",
       "E3 *- - E4 [[psysml:5ebdadf2-6044-45bc-aa24-2da7c79aba16 ]] \r\n",
       "E4 - -:|> E6 [[psysml:1fd8d685-c326-41aa-b421-a8308f20148e ]] \r\n",
       "E6 *- - E7 [[psysml:c471fe89-f766-40f3-82e0-5e28332f3a67 ]] \r\n",
       "E7 - -:|> E3 [[psysml:ce24e444-eb42-4eaa-91b0-86c1efe7ffc5 ]] \r\n",
       "E6 +- - E9 [[psysml:cabff1fd-5442-4a71-976e-341ac2e5dda1 ]] \r\n",
       "E10 o- - E3 [[psysml:a19db77c-da80-41d6-a5f2-85a22676bfcf ]] : y\r\n",
       "E10 o- - E6 [[psysml:a19db77c-da80-41d6-a5f2-85a22676bfcf ]] : y\r\n",
       "E10 o- - E3 [[psysml:a19db77c-da80-41d6-a5f2-85a22676bfcf ]] : y\r\n",
       "E10 o- - E6 [[psysml:a19db77c-da80-41d6-a5f2-85a22676bfcf ]] : y\r\n",
       "E10 o- - E3 [[psysml:a19db77c-da80-41d6-a5f2-85a22676bfcf ]] : y\r\n",
       "E10 o- - E6 [[psysml:a19db77c-da80-41d6-a5f2-85a22676bfcf ]] : y\r\n",
       "}\r\n",
       "@enduml\r\n",
       "\n",
       "PlantUML version 1.2020.13(Sat Jun 13 12:26:38 UTC 2020)\n",
       "(EPL source distribution)\n",
       "Java Runtime: OpenJDK Runtime Environment\n",
       "JVM: OpenJDK 64-Bit Server VM\n",
       "Default Encoding: UTF-8\n",
       "Language: en\n",
       "Country: null\n",
       "--></g></svg>"
      ]
     },
     "execution_count": 17,
     "metadata": {},
     "output_type": "execute_result"
    }
   ],
   "source": [
    "%viz --style=\"LR\" --view=\"Tree\" \"PartTest\""
   ]
  },
  {
   "cell_type": "code",
   "execution_count": 18,
   "id": "284923f0",
   "metadata": {
    "execution": {
     "iopub.execute_input": "2021-04-20T07:29:12.274102Z",
     "iopub.status.busy": "2021-04-20T07:29:12.273544Z",
     "iopub.status.idle": "2021-04-20T07:29:12.292596Z",
     "shell.execute_reply": "2021-04-20T07:29:12.293564Z"
    }
   },
   "outputs": [
    {
     "data": {
      "image/svg+xml": [
       "<?xml version=\"1.0\" encoding=\"UTF-8\" standalone=\"no\"?><svg xmlns=\"http://www.w3.org/2000/svg\" xmlns:xlink=\"http://www.w3.org/1999/xlink\" contentScriptType=\"application/ecmascript\" contentStyleType=\"text/css\" height=\"12px\" preserveAspectRatio=\"none\" style=\"width:12px;height:12px;\" version=\"1.1\" viewBox=\"0 0 12 12\" width=\"12px\" zoomAndPan=\"magnify\"><defs/><g><!--MD5=[19d285c9d72a204eba4e2cd117d745e8]\n",
       "@startuml\r\n",
       "left to right direction\r\n",
       "skinparam monochrome true\r\n",
       "skinparam classbackgroundcolor white\r\n",
       "skinparam shadowing false\r\n",
       "skinparam wrapWidth 300\r\n",
       "hide circle\r\n",
       "\r\n",
       "@enduml\r\n",
       "\n",
       "PlantUML version 1.2020.13(Sat Jun 13 12:26:38 UTC 2020)\n",
       "(EPL source distribution)\n",
       "Java Runtime: OpenJDK Runtime Environment\n",
       "JVM: OpenJDK 64-Bit Server VM\n",
       "Default Encoding: UTF-8\n",
       "Language: en\n",
       "Country: null\n",
       "--></g></svg>"
      ]
     },
     "execution_count": 18,
     "metadata": {},
     "output_type": "execute_result"
    }
   ],
   "source": [
    "%viz --style=\"LR\" --view=\"State\" \"PartTest\""
   ]
  },
  {
   "cell_type": "code",
   "execution_count": 19,
   "id": "aba8ea27",
   "metadata": {
    "execution": {
     "iopub.execute_input": "2021-04-20T07:29:12.354534Z",
     "iopub.status.busy": "2021-04-20T07:29:12.353881Z",
     "iopub.status.idle": "2021-04-20T07:29:12.420324Z",
     "shell.execute_reply": "2021-04-20T07:29:12.415566Z"
    }
   },
   "outputs": [
    {
     "data": {
      "image/svg+xml": [
       "<?xml version=\"1.0\" encoding=\"UTF-8\" standalone=\"no\"?><svg xmlns=\"http://www.w3.org/2000/svg\" xmlns:xlink=\"http://www.w3.org/1999/xlink\" contentScriptType=\"application/ecmascript\" contentStyleType=\"text/css\" height=\"419px\" preserveAspectRatio=\"none\" style=\"width:320px;height:419px;\" version=\"1.1\" viewBox=\"0 0 320 419\" width=\"320px\" zoomAndPan=\"magnify\"><defs/><g><!--MD5=[fbc87193dbaf4d95561dea2c320d4a47]\n",
       "cluster E1--><a href=\"psysml:c65cc0cd-28b1-4d7a-bc05-02136890ed9a\" target=\"_top\" title=\"psysml:c65cc0cd-28b1-4d7a-bc05-02136890ed9a\" xlink:actuate=\"onRequest\" xlink:href=\"psysml:c65cc0cd-28b1-4d7a-bc05-02136890ed9a\" xlink:show=\"new\" xlink:title=\"psysml:c65cc0cd-28b1-4d7a-bc05-02136890ed9a\" xlink:type=\"simple\"><polygon fill=\"#FFFFFF\" points=\"16,6,89,6,96,28.2969,298,28.2969,298,407,16,407,16,6\" style=\"stroke: #000000; stroke-width: 1.5;\"/><line style=\"stroke: #000000; stroke-width: 1.5;\" x1=\"16\" x2=\"96\" y1=\"28.2969\" y2=\"28.2969\"/><text fill=\"#000000\" font-family=\"sans-serif\" font-size=\"14\" font-weight=\"bold\" lengthAdjust=\"spacingAndGlyphs\" textLength=\"67\" x=\"20\" y=\"20.9951\">PartTest</text></a><!--MD5=[d5e69f78d87373223dbae638b30a9c99]\n",
       "cluster E3--><a href=\"psysml:36aba5eb-a810-4976-a211-fcdfb7b330f5\" target=\"_top\" title=\"psysml:36aba5eb-a810-4976-a211-fcdfb7b330f5\" xlink:actuate=\"onRequest\" xlink:href=\"psysml:36aba5eb-a810-4976-a211-fcdfb7b330f5\" xlink:show=\"new\" xlink:title=\"psysml:36aba5eb-a810-4976-a211-fcdfb7b330f5\" xlink:type=\"simple\"><rect fill=\"#FFFFFF\" height=\"72\" id=\"E3\" style=\"stroke: #383838; stroke-width: 1.5;\" width=\"214.5\" x=\"67.5\" y=\"41\"/><rect fill=\"#F8F8F8\" height=\"37.9375\" style=\"stroke: #383838; stroke-width: 1.5;\" width=\"214.5\" x=\"67.5\" y=\"41\"/><text fill=\"#000000\" font-family=\"sans-serif\" font-size=\"12\" font-style=\"italic\" lengthAdjust=\"spacingAndGlyphs\" textLength=\"64\" x=\"142.75\" y=\"57.1387\">«part def»</text><text fill=\"#000000\" font-family=\"sans-serif\" font-size=\"12\" lengthAdjust=\"spacingAndGlyphs\" textLength=\"8\" x=\"170.75\" y=\"71.1074\">A</text></a><!--MD5=[14e3b0961a2654348d326746436168a1]\n",
       "cluster E6--><a href=\"psysml:94fb1c4b-8096-4b0e-a0c8-00d5fe55de6c\" target=\"_top\" title=\"psysml:94fb1c4b-8096-4b0e-a0c8-00d5fe55de6c\" xlink:actuate=\"onRequest\" xlink:href=\"psysml:94fb1c4b-8096-4b0e-a0c8-00d5fe55de6c\" xlink:show=\"new\" xlink:title=\"psysml:94fb1c4b-8096-4b0e-a0c8-00d5fe55de6c\" xlink:type=\"simple\"><rect fill=\"#FFFFFF\" height=\"143\" id=\"E6\" style=\"stroke: #383838; stroke-width: 1.5;\" width=\"204.5\" x=\"67.5\" y=\"121\"/><rect fill=\"#F8F8F8\" height=\"37.9375\" style=\"stroke: #383838; stroke-width: 1.5;\" width=\"204.5\" x=\"67.5\" y=\"121\"/><text fill=\"#000000\" font-family=\"sans-serif\" font-size=\"12\" font-style=\"italic\" lengthAdjust=\"spacingAndGlyphs\" textLength=\"64\" x=\"137.75\" y=\"137.1387\">«part def»</text><text fill=\"#000000\" font-family=\"sans-serif\" font-size=\"12\" lengthAdjust=\"spacingAndGlyphs\" textLength=\"8\" x=\"165.75\" y=\"151.1074\">B</text></a><g id=\"E1.E10\"><a href=\"psysml:4c8e1ce2-7f9a-4661-9090-c510b6f01354\" target=\"_top\" title=\"psysml:4c8e1ce2-7f9a-4661-9090-c510b6f01354\" xlink:actuate=\"onRequest\" xlink:href=\"psysml:4c8e1ce2-7f9a-4661-9090-c510b6f01354\" xlink:show=\"new\" xlink:title=\"psysml:4c8e1ce2-7f9a-4661-9090-c510b6f01354\" xlink:type=\"simple\"><rect fill=\"#FFFFFF\" height=\"42.9375\" id=\"E10\" style=\"stroke: #383838; stroke-width: 1.5;\" width=\"71\" x=\"32\" y=\"272.5\"/><rect fill=\"#F8F8F8\" height=\"37.9375\" style=\"stroke: #383838; stroke-width: 1.5;\" width=\"71\" x=\"32\" y=\"272.5\"/><text fill=\"#000000\" font-family=\"sans-serif\" font-size=\"12\" font-style=\"italic\" lengthAdjust=\"spacingAndGlyphs\" textLength=\"64\" x=\"35.5\" y=\"288.6387\">«port def»</text><text fill=\"#000000\" font-family=\"sans-serif\" font-size=\"12\" lengthAdjust=\"spacingAndGlyphs\" textLength=\"8\" x=\"63.5\" y=\"302.6074\">C</text></a></g><g id=\"E1.E2\"><a href=\"psysml:634826b2-2fc2-4798-92ed-071cd1dffdd8\" target=\"_top\" title=\"psysml:634826b2-2fc2-4798-92ed-071cd1dffdd8\" xlink:actuate=\"onRequest\" xlink:href=\"psysml:634826b2-2fc2-4798-92ed-071cd1dffdd8\" xlink:show=\"new\" xlink:title=\"psysml:634826b2-2fc2-4798-92ed-071cd1dffdd8\" xlink:type=\"simple\"><rect fill=\"#FFFFFF\" height=\"40\" id=\"E2\" rx=\"10\" ry=\"10\" style=\"stroke: #383838; stroke-width: 1.5;\" width=\"50\" x=\"42.5\" y=\"351\"/><rect fill=\"#F8F8F8\" height=\"23.9688\" rx=\"10\" ry=\"10\" style=\"stroke: #F8F8F8; stroke-width: 1.5;\" width=\"50\" x=\"42.5\" y=\"351\"/><rect fill=\"#F8F8F8\" height=\"10\" style=\"stroke: #F8F8F8; stroke-width: 1.5;\" width=\"50\" x=\"42.5\" y=\"364.9688\"/><rect fill=\"none\" height=\"40\" id=\"E2\" rx=\"10\" ry=\"10\" style=\"stroke: #383838; stroke-width: 1.5;\" width=\"50\" x=\"42.5\" y=\"351\"/><text fill=\"#000000\" font-family=\"sans-serif\" font-size=\"12\" lengthAdjust=\"spacingAndGlyphs\" textLength=\"20\" x=\"57.5\" y=\"367.1387\">f: A</text></a></g><text fill=\"#000000\" font-family=\"sans-serif\" font-size=\"14\" lengthAdjust=\"spacingAndGlyphs\" textLength=\"27\" x=\"54\" y=\"55.6982\">c: C</text><rect fill=\"#383838\" height=\"12\" style=\"stroke: #F8F8F8; stroke-width: 1.5;\" width=\"12\" x=\"61.5\" y=\"71\"/><g id=\"E1.E3.E4\"><a href=\"psysml:b5150c44-d935-4f31-a69b-527c90fd7c47\" target=\"_top\" title=\"psysml:b5150c44-d935-4f31-a69b-527c90fd7c47\" xlink:actuate=\"onRequest\" xlink:href=\"psysml:b5150c44-d935-4f31-a69b-527c90fd7c47\" xlink:show=\"new\" xlink:title=\"psysml:b5150c44-d935-4f31-a69b-527c90fd7c47\" xlink:type=\"simple\"><rect fill=\"#FFFFFF\" height=\"40\" id=\"E4\" rx=\"10\" ry=\"10\" style=\"stroke: #383838; stroke-width: 1.5;\" width=\"50\" x=\"216\" y=\"57\"/><rect fill=\"#F8F8F8\" height=\"23.9688\" rx=\"10\" ry=\"10\" style=\"stroke: #F8F8F8; stroke-width: 1.5;\" width=\"50\" x=\"216\" y=\"57\"/><rect fill=\"#F8F8F8\" height=\"10\" style=\"stroke: #F8F8F8; stroke-width: 1.5;\" width=\"50\" x=\"216\" y=\"70.9688\"/><rect fill=\"none\" height=\"40\" id=\"E4\" rx=\"10\" ry=\"10\" style=\"stroke: #383838; stroke-width: 1.5;\" width=\"50\" x=\"216\" y=\"57\"/><text fill=\"#000000\" font-family=\"sans-serif\" font-size=\"12\" lengthAdjust=\"spacingAndGlyphs\" textLength=\"24\" x=\"229\" y=\"73.1387\">b: B</text></a></g><text fill=\"#000000\" font-family=\"sans-serif\" font-size=\"14\" lengthAdjust=\"spacingAndGlyphs\" textLength=\"38\" x=\"48.5\" y=\"133.6982\">x: ~C</text><rect fill=\"#383838\" height=\"12\" style=\"stroke: #F8F8F8; stroke-width: 1.5;\" width=\"12\" x=\"61.5\" y=\"149\"/><g id=\"E1.E6.E7\"><a href=\"psysml:de084c60-8c86-4761-a316-7296396fb321\" target=\"_top\" title=\"psysml:de084c60-8c86-4761-a316-7296396fb321\" xlink:actuate=\"onRequest\" xlink:href=\"psysml:de084c60-8c86-4761-a316-7296396fb321\" xlink:show=\"new\" xlink:title=\"psysml:de084c60-8c86-4761-a316-7296396fb321\" xlink:type=\"simple\"><rect fill=\"#FFFFFF\" height=\"40\" id=\"E7\" rx=\"10\" ry=\"10\" style=\"stroke: #383838; stroke-width: 1.5;\" width=\"50\" x=\"137.5\" y=\"208\"/><rect fill=\"#F8F8F8\" height=\"23.9688\" rx=\"10\" ry=\"10\" style=\"stroke: #F8F8F8; stroke-width: 1.5;\" width=\"50\" x=\"137.5\" y=\"208\"/><rect fill=\"#F8F8F8\" height=\"10\" style=\"stroke: #F8F8F8; stroke-width: 1.5;\" width=\"50\" x=\"137.5\" y=\"221.9688\"/><rect fill=\"none\" height=\"40\" id=\"E7\" rx=\"10\" ry=\"10\" style=\"stroke: #383838; stroke-width: 1.5;\" width=\"50\" x=\"137.5\" y=\"208\"/><text fill=\"#000000\" font-family=\"sans-serif\" font-size=\"12\" lengthAdjust=\"spacingAndGlyphs\" textLength=\"24\" x=\"150.5\" y=\"224.1387\">a: A</text></a></g><a href=\"psysml:4c76b494-1a6c-482d-b35c-aa72d24bc41e\" target=\"_top\" title=\"psysml:4c76b494-1a6c-482d-b35c-aa72d24bc41e\" xlink:actuate=\"onRequest\" xlink:href=\"psysml:4c76b494-1a6c-482d-b35c-aa72d24bc41e\" xlink:show=\"new\" xlink:title=\"psysml:4c76b494-1a6c-482d-b35c-aa72d24bc41e\" xlink:type=\"simple\"><polygon fill=\"#FFFFFF\" points=\"226,137.5,242,137.5,249,159.7969,256,159.7969,256,190.0938,226,190.0938,226,137.5\" style=\"stroke: #000000; stroke-width: 1.5;\"/><line style=\"stroke: #000000; stroke-width: 1.5;\" x1=\"226\" x2=\"249\" y1=\"159.7969\" y2=\"159.7969\"/><text fill=\"#000000\" font-family=\"sans-serif\" font-size=\"14\" font-weight=\"bold\" lengthAdjust=\"spacingAndGlyphs\" textLength=\"10\" x=\"230\" y=\"152.4951\">P</text></a><!--MD5=[4d93ecfc3a3aca64facf6a50f295d46b]\n",
       "@startuml\r\n",
       "skinparam ranksep 10\r\n",
       "skinparam rectangle {\r\n",
       " backgroundColor<<block>> LightGreen\r\n",
       "}\r\n",
       "left to right direction\r\n",
       "skinparam monochrome true\r\n",
       "skinparam classbackgroundcolor white\r\n",
       "skinparam shadowing false\r\n",
       "skinparam wrapWidth 300\r\n",
       "hide circle\r\n",
       "\r\n",
       "package \"PartTest\" as E1  [[psysml:c65cc0cd-28b1-4d7a-bc05-02136890ed9a ]]  {\r\n",
       "rec usage \"f: A\" as E2  [[psysml:634826b2-2fc2-4798-92ed-071cd1dffdd8 ]] {\r\n",
       "}\r\n",
       "rec def \"A\" as E3  <<(T,blue)part def>> [[psysml:36aba5eb-a810-4976-a211-fcdfb7b330f5 ]] {\r\n",
       "rec usage \"b: B\" as E4  [[psysml:b5150c44-d935-4f31-a69b-527c90fd7c47 ]] {\r\n",
       "}\r\n",
       "portin \"c: C\" as E5  <<(T,blue)port>> [[psysml:15f0fdfb-f77b-4913-8565-6992b28565d6 ]] \r\n",
       "}\r\n",
       "rec def \"B\" as E6  <<(T,blue)part def>> [[psysml:94fb1c4b-8096-4b0e-a0c8-00d5fe55de6c ]] {\r\n",
       "rec usage \"a: A\" as E7  [[psysml:de084c60-8c86-4761-a316-7296396fb321 ]] {\r\n",
       "}\r\n",
       "portin \"x: ~C\" as E8  <<(T,blue)port>> [[psysml:6cb219e8-2ff6-47bb-94c6-2fc71ea9a3d9 ]] \r\n",
       "package \"P\" as E9  [[psysml:4c76b494-1a6c-482d-b35c-aa72d24bc41e ]]  {\r\n",
       "}\r\n",
       "}\r\n",
       "def \"C\" as E10  <<(T,blue)port def>> [[psysml:4c8e1ce2-7f9a-4661-9090-c510b6f01354 ]] \r\n",
       "}\r\n",
       "@enduml\r\n",
       "\n",
       "PlantUML version 1.2020.13(Sat Jun 13 12:26:38 UTC 2020)\n",
       "(EPL source distribution)\n",
       "Java Runtime: OpenJDK Runtime Environment\n",
       "JVM: OpenJDK 64-Bit Server VM\n",
       "Default Encoding: UTF-8\n",
       "Language: en\n",
       "Country: null\n",
       "--></g></svg>"
      ]
     },
     "execution_count": 19,
     "metadata": {},
     "output_type": "execute_result"
    }
   ],
   "source": [
    "%viz --style=\"LR\" --view=\"Interconnection\" \"PartTest\""
   ]
  },
  {
   "cell_type": "code",
   "execution_count": 20,
   "id": "99ed2107",
   "metadata": {
    "execution": {
     "iopub.execute_input": "2021-04-20T07:29:12.471155Z",
     "iopub.status.busy": "2021-04-20T07:29:12.470208Z",
     "iopub.status.idle": "2021-04-20T07:29:12.472524Z",
     "shell.execute_reply": "2021-04-20T07:29:12.470641Z"
    }
   },
   "outputs": [
    {
     "data": {
      "image/svg+xml": [
       "<?xml version=\"1.0\" encoding=\"UTF-8\" standalone=\"no\"?><svg xmlns=\"http://www.w3.org/2000/svg\" xmlns:xlink=\"http://www.w3.org/1999/xlink\" contentScriptType=\"application/ecmascript\" contentStyleType=\"text/css\" height=\"12px\" preserveAspectRatio=\"none\" style=\"width:12px;height:12px;\" version=\"1.1\" viewBox=\"0 0 12 12\" width=\"12px\" zoomAndPan=\"magnify\"><defs/><g><!--MD5=[7aeb398939421629f6affaa4a1a7b125]\n",
       "@startuml\r\n",
       "skinparam ranksep 8\r\n",
       "left to right direction\r\n",
       "skinparam monochrome true\r\n",
       "skinparam classbackgroundcolor white\r\n",
       "skinparam shadowing false\r\n",
       "skinparam wrapWidth 300\r\n",
       "hide circle\r\n",
       "\r\n",
       "@enduml\r\n",
       "\n",
       "PlantUML version 1.2020.13(Sat Jun 13 12:26:38 UTC 2020)\n",
       "(EPL source distribution)\n",
       "Java Runtime: OpenJDK Runtime Environment\n",
       "JVM: OpenJDK 64-Bit Server VM\n",
       "Default Encoding: UTF-8\n",
       "Language: en\n",
       "Country: null\n",
       "--></g></svg>"
      ]
     },
     "execution_count": 20,
     "metadata": {},
     "output_type": "execute_result"
    }
   ],
   "source": [
    "%viz --style=\"LR\" --view=\"Action\" \"PartTest\""
   ]
  },
  {
   "cell_type": "code",
   "execution_count": 21,
   "id": "c171ac77",
   "metadata": {
    "execution": {
     "iopub.execute_input": "2021-04-20T07:29:12.530956Z",
     "iopub.status.busy": "2021-04-20T07:29:12.530355Z",
     "iopub.status.idle": "2021-04-20T07:29:12.608309Z",
     "shell.execute_reply": "2021-04-20T07:29:12.607861Z"
    }
   },
   "outputs": [
    {
     "data": {
      "image/svg+xml": [
       "<?xml version=\"1.0\" encoding=\"UTF-8\" standalone=\"no\"?><svg xmlns=\"http://www.w3.org/2000/svg\" xmlns:xlink=\"http://www.w3.org/1999/xlink\" contentScriptType=\"application/ecmascript\" contentStyleType=\"text/css\" height=\"263px\" preserveAspectRatio=\"none\" style=\"width:612px;height:263px;\" version=\"1.1\" viewBox=\"0 0 612 263\" width=\"612px\" zoomAndPan=\"magnify\"><defs/><g><!--MD5=[fbc87193dbaf4d95561dea2c320d4a47]\n",
       "cluster E1--><a href=\"psysml:c65cc0cd-28b1-4d7a-bc05-02136890ed9a\" target=\"_top\" title=\"psysml:c65cc0cd-28b1-4d7a-bc05-02136890ed9a\" xlink:actuate=\"onRequest\" xlink:href=\"psysml:c65cc0cd-28b1-4d7a-bc05-02136890ed9a\" xlink:show=\"new\" xlink:title=\"psysml:c65cc0cd-28b1-4d7a-bc05-02136890ed9a\" xlink:type=\"simple\"><polygon fill=\"#FFFFFF\" points=\"16,6,89,6,96,28.2969,590,28.2969,590,251,16,251,16,6\" style=\"stroke: #000000; stroke-width: 1.5;\"/><line style=\"stroke: #000000; stroke-width: 1.5;\" x1=\"16\" x2=\"96\" y1=\"28.2969\" y2=\"28.2969\"/><text fill=\"#000000\" font-family=\"sans-serif\" font-size=\"14\" font-weight=\"bold\" lengthAdjust=\"spacingAndGlyphs\" textLength=\"67\" x=\"20\" y=\"20.9951\">PartTest</text></a><!--MD5=[b4997ac47864f28c2f74865a473b2911]\n",
       "class E2--><a href=\"psysml:634826b2-2fc2-4798-92ed-071cd1dffdd8\" target=\"_top\" title=\"psysml:634826b2-2fc2-4798-92ed-071cd1dffdd8\" xlink:actuate=\"onRequest\" xlink:href=\"psysml:634826b2-2fc2-4798-92ed-071cd1dffdd8\" xlink:show=\"new\" xlink:title=\"psysml:634826b2-2fc2-4798-92ed-071cd1dffdd8\" xlink:type=\"simple\"><rect fill=\"#FFFFFF\" height=\"45.9375\" id=\"E2\" rx=\"10\" ry=\"10\" style=\"stroke: #383838; stroke-width: 1.5;\" width=\"42\" x=\"44\" y=\"189\"/><text fill=\"#000000\" font-family=\"sans-serif\" font-size=\"12\" font-style=\"italic\" lengthAdjust=\"spacingAndGlyphs\" textLength=\"40\" x=\"45\" y=\"205.1387\">«part»</text><text fill=\"#000000\" font-family=\"sans-serif\" font-size=\"12\" lengthAdjust=\"spacingAndGlyphs\" textLength=\"20\" x=\"55\" y=\"219.1074\">f: A</text><line style=\"stroke: #383838; stroke-width: 1.5;\" x1=\"45\" x2=\"85\" y1=\"226.9375\" y2=\"226.9375\"/></a><!--MD5=[09b614a08d8cba4a07c9adeb5e0fee81]\n",
       "class E3--><a href=\"psysml:36aba5eb-a810-4976-a211-fcdfb7b330f5\" target=\"_top\" title=\"psysml:36aba5eb-a810-4976-a211-fcdfb7b330f5\" xlink:actuate=\"onRequest\" xlink:href=\"psysml:36aba5eb-a810-4976-a211-fcdfb7b330f5\" xlink:show=\"new\" xlink:title=\"psysml:36aba5eb-a810-4976-a211-fcdfb7b330f5\" xlink:type=\"simple\"><rect fill=\"#FFFFFF\" height=\"75.5469\" id=\"E3\" style=\"stroke: #383838; stroke-width: 1.5;\" width=\"66\" x=\"167\" y=\"157\"/><text fill=\"#000000\" font-family=\"sans-serif\" font-size=\"12\" font-style=\"italic\" lengthAdjust=\"spacingAndGlyphs\" textLength=\"64\" x=\"168\" y=\"173.1387\">«part def»</text><text fill=\"#000000\" font-family=\"sans-serif\" font-size=\"12\" lengthAdjust=\"spacingAndGlyphs\" textLength=\"8\" x=\"196\" y=\"187.1074\">A</text><line style=\"stroke: #383838; stroke-width: 1.5;\" x1=\"168\" x2=\"232\" y1=\"194.9375\" y2=\"194.9375\"/><text fill=\"#000000\" font-family=\"sans-serif\" font-size=\"11\" lengthAdjust=\"spacingAndGlyphs\" textLength=\"22\" x=\"173\" y=\"225.9526\">c: C</text><line style=\"stroke: #383838; stroke-width: 1.0;\" x1=\"168\" x2=\"185\" y1=\"209.3398\" y2=\"209.3398\"/><text fill=\"#000000\" font-family=\"sans-serif\" font-size=\"11\" lengthAdjust=\"spacingAndGlyphs\" textLength=\"30\" x=\"185\" y=\"212.6479\">ports</text><line style=\"stroke: #383838; stroke-width: 1.0;\" x1=\"215\" x2=\"232\" y1=\"209.3398\" y2=\"209.3398\"/></a><!--MD5=[ebbe1d658d1005bcc118a6aa81145e00]\n",
       "class E4--><a href=\"psysml:b5150c44-d935-4f31-a69b-527c90fd7c47\" target=\"_top\" title=\"psysml:b5150c44-d935-4f31-a69b-527c90fd7c47\" xlink:actuate=\"onRequest\" xlink:href=\"psysml:b5150c44-d935-4f31-a69b-527c90fd7c47\" xlink:show=\"new\" xlink:title=\"psysml:b5150c44-d935-4f31-a69b-527c90fd7c47\" xlink:type=\"simple\"><rect fill=\"#FFFFFF\" height=\"45.9375\" id=\"E4\" rx=\"10\" ry=\"10\" style=\"stroke: #383838; stroke-width: 1.5;\" width=\"42\" x=\"302\" y=\"152\"/><text fill=\"#000000\" font-family=\"sans-serif\" font-size=\"12\" font-style=\"italic\" lengthAdjust=\"spacingAndGlyphs\" textLength=\"40\" x=\"303\" y=\"168.1387\">«part»</text><text fill=\"#000000\" font-family=\"sans-serif\" font-size=\"12\" lengthAdjust=\"spacingAndGlyphs\" textLength=\"24\" x=\"311\" y=\"182.1074\">b: B</text><line style=\"stroke: #383838; stroke-width: 1.5;\" x1=\"303\" x2=\"343\" y1=\"189.9375\" y2=\"189.9375\"/></a><!--MD5=[60a26617385b1d2d0262a64233df1f8d]\n",
       "class E6--><a href=\"psysml:94fb1c4b-8096-4b0e-a0c8-00d5fe55de6c\" target=\"_top\" title=\"psysml:94fb1c4b-8096-4b0e-a0c8-00d5fe55de6c\" xlink:actuate=\"onRequest\" xlink:href=\"psysml:94fb1c4b-8096-4b0e-a0c8-00d5fe55de6c\" xlink:show=\"new\" xlink:title=\"psysml:94fb1c4b-8096-4b0e-a0c8-00d5fe55de6c\" xlink:type=\"simple\"><rect fill=\"#FFFFFF\" height=\"75.5469\" id=\"E6\" style=\"stroke: #383838; stroke-width: 1.5;\" width=\"66\" x=\"405\" y=\"78\"/><text fill=\"#000000\" font-family=\"sans-serif\" font-size=\"12\" font-style=\"italic\" lengthAdjust=\"spacingAndGlyphs\" textLength=\"64\" x=\"406\" y=\"94.1387\">«part def»</text><text fill=\"#000000\" font-family=\"sans-serif\" font-size=\"12\" lengthAdjust=\"spacingAndGlyphs\" textLength=\"8\" x=\"434\" y=\"108.1074\">B</text><line style=\"stroke: #383838; stroke-width: 1.5;\" x1=\"406\" x2=\"470\" y1=\"115.9375\" y2=\"115.9375\"/><text fill=\"#000000\" font-family=\"sans-serif\" font-size=\"11\" lengthAdjust=\"spacingAndGlyphs\" textLength=\"31\" x=\"411\" y=\"146.9526\">x: ~C</text><line style=\"stroke: #383838; stroke-width: 1.0;\" x1=\"406\" x2=\"423\" y1=\"130.3398\" y2=\"130.3398\"/><text fill=\"#000000\" font-family=\"sans-serif\" font-size=\"11\" lengthAdjust=\"spacingAndGlyphs\" textLength=\"30\" x=\"423\" y=\"133.6479\">ports</text><line style=\"stroke: #383838; stroke-width: 1.0;\" x1=\"453\" x2=\"470\" y1=\"130.3398\" y2=\"130.3398\"/></a><!--MD5=[2156ba9850f5573cc1fc38a6a4b2f02b]\n",
       "class E7--><a href=\"psysml:de084c60-8c86-4761-a316-7296396fb321\" target=\"_top\" title=\"psysml:de084c60-8c86-4761-a316-7296396fb321\" xlink:actuate=\"onRequest\" xlink:href=\"psysml:de084c60-8c86-4761-a316-7296396fb321\" xlink:show=\"new\" xlink:title=\"psysml:de084c60-8c86-4761-a316-7296396fb321\" xlink:type=\"simple\"><rect fill=\"#FFFFFF\" height=\"45.9375\" id=\"E7\" rx=\"10\" ry=\"10\" style=\"stroke: #383838; stroke-width: 1.5;\" width=\"42\" x=\"532\" y=\"183\"/><text fill=\"#000000\" font-family=\"sans-serif\" font-size=\"12\" font-style=\"italic\" lengthAdjust=\"spacingAndGlyphs\" textLength=\"40\" x=\"533\" y=\"199.1387\">«part»</text><text fill=\"#000000\" font-family=\"sans-serif\" font-size=\"12\" lengthAdjust=\"spacingAndGlyphs\" textLength=\"24\" x=\"541\" y=\"213.1074\">a: A</text><line style=\"stroke: #383838; stroke-width: 1.5;\" x1=\"533\" x2=\"573\" y1=\"220.9375\" y2=\"220.9375\"/></a><!--MD5=[96f4274e9e20536e775497830990834d]\n",
       "class E10--><a href=\"psysml:4c8e1ce2-7f9a-4661-9090-c510b6f01354\" target=\"_top\" title=\"psysml:4c8e1ce2-7f9a-4661-9090-c510b6f01354\" xlink:actuate=\"onRequest\" xlink:href=\"psysml:4c8e1ce2-7f9a-4661-9090-c510b6f01354\" xlink:show=\"new\" xlink:title=\"psysml:4c8e1ce2-7f9a-4661-9090-c510b6f01354\" xlink:type=\"simple\"><rect fill=\"#FFFFFF\" height=\"45.9375\" id=\"E10\" style=\"stroke: #383838; stroke-width: 1.5;\" width=\"66\" x=\"32\" y=\"49\"/><text fill=\"#000000\" font-family=\"sans-serif\" font-size=\"12\" font-style=\"italic\" lengthAdjust=\"spacingAndGlyphs\" textLength=\"64\" x=\"33\" y=\"65.1387\">«port def»</text><text fill=\"#000000\" font-family=\"sans-serif\" font-size=\"12\" lengthAdjust=\"spacingAndGlyphs\" textLength=\"8\" x=\"61\" y=\"79.1074\">C</text><line style=\"stroke: #383838; stroke-width: 1.5;\" x1=\"33\" x2=\"97\" y1=\"86.9375\" y2=\"86.9375\"/></a><a href=\"psysml:4c76b494-1a6c-482d-b35c-aa72d24bc41e\" target=\"_top\" title=\"psysml:4c76b494-1a6c-482d-b35c-aa72d24bc41e\" xlink:actuate=\"onRequest\" xlink:href=\"psysml:4c76b494-1a6c-482d-b35c-aa72d24bc41e\" xlink:show=\"new\" xlink:title=\"psysml:4c76b494-1a6c-482d-b35c-aa72d24bc41e\" xlink:type=\"simple\"><polygon fill=\"#FFFFFF\" points=\"538,89.5,554,89.5,561,111.7969,568,111.7969,568,142.0938,538,142.0938,538,89.5\" style=\"stroke: #000000; stroke-width: 1.5;\"/><line style=\"stroke: #000000; stroke-width: 1.5;\" x1=\"538\" x2=\"561\" y1=\"111.7969\" y2=\"111.7969\"/><text fill=\"#000000\" font-family=\"sans-serif\" font-size=\"14\" font-weight=\"bold\" lengthAdjust=\"spacingAndGlyphs\" textLength=\"10\" x=\"542\" y=\"104.4951\">P</text></a><!--MD5=[2720a5a1f2c3fca2055b230370638851]\n",
       "link E2 to E3--><a href=\"psysml:38cdc859-4dfa-4bc4-87cd-169dd5acc896\" target=\"_top\" title=\"psysml:38cdc859-4dfa-4bc4-87cd-169dd5acc896\" xlink:actuate=\"onRequest\" xlink:href=\"psysml:38cdc859-4dfa-4bc4-87cd-169dd5acc896\" xlink:show=\"new\" xlink:title=\"psysml:38cdc859-4dfa-4bc4-87cd-169dd5acc896\" xlink:type=\"simple\"><path d=\"M86.24,222.15 C100.47,227.98 119.93,233.37 137,229 C140.84,228.02 144.69,226.74 148.49,225.27 \" fill=\"none\" id=\"E2-&gt;E3\" style=\"stroke: #383838; stroke-width: 1.0;\"/><polygon fill=\"#FFFFFF\" points=\"166.82,216.6,152.6299,231.0444,146.6504,218.3856,166.82,216.6\" style=\"stroke: #383838; stroke-width: 1.0;\"/><ellipse cx=\"146.6217\" cy=\"231.6705\" fill=\"#383838\" rx=\"2\" ry=\"2\" style=\"stroke: #383838; stroke-width: 1.0;\"/><ellipse cx=\"142.3507\" cy=\"222.6284\" fill=\"#383838\" rx=\"2\" ry=\"2\" style=\"stroke: #383838; stroke-width: 1.0;\"/></a><!--MD5=[4672eba38e49728da53d11aeb285b987]\n",
       "reverse link E3 to E4--><a href=\"psysml:5ebdadf2-6044-45bc-aa24-2da7c79aba16\" target=\"_top\" title=\"psysml:5ebdadf2-6044-45bc-aa24-2da7c79aba16\" xlink:actuate=\"onRequest\" xlink:href=\"psysml:5ebdadf2-6044-45bc-aa24-2da7c79aba16\" xlink:show=\"new\" xlink:title=\"psysml:5ebdadf2-6044-45bc-aa24-2da7c79aba16\" xlink:type=\"simple\"><path d=\"M246.03,209.65 C254.73,210.69 263.71,210.49 272,208 C282.76,204.77 293.34,198.39 301.98,192.1 \" fill=\"none\" id=\"E3&lt;-E4\" style=\"stroke: #383838; stroke-width: 1.0;\"/><polygon fill=\"#383838\" points=\"233.17,207.27,238.3389,212.2981,244.9683,209.4607,239.7994,204.4326,233.17,207.27\" style=\"stroke: #383838; stroke-width: 1.0;\"/></a><!--MD5=[79568f1e445c3877b6a54524624ccc7d]\n",
       "link E4 to E6--><a href=\"psysml:1fd8d685-c326-41aa-b421-a8308f20148e\" target=\"_top\" title=\"psysml:1fd8d685-c326-41aa-b421-a8308f20148e\" xlink:actuate=\"onRequest\" xlink:href=\"psysml:1fd8d685-c326-41aa-b421-a8308f20148e\" xlink:show=\"new\" xlink:title=\"psysml:1fd8d685-c326-41aa-b421-a8308f20148e\" xlink:type=\"simple\"><path d=\"M344.2,164.45 C356.12,158.23 371.77,150.06 386.81,142.2 \" fill=\"none\" id=\"E4-&gt;E6\" style=\"stroke: #383838; stroke-width: 1.0;\"/><polygon fill=\"#FFFFFF\" points=\"404.57,132.93,390.9678,147.9293,384.4878,135.5193,404.57,132.93\" style=\"stroke: #383838; stroke-width: 1.0;\"/><ellipse cx=\"384.9894\" cy=\"148.7948\" fill=\"#383838\" rx=\"2\" ry=\"2\" style=\"stroke: #383838; stroke-width: 1.0;\"/><ellipse cx=\"380.3608\" cy=\"139.9305\" fill=\"#383838\" rx=\"2\" ry=\"2\" style=\"stroke: #383838; stroke-width: 1.0;\"/></a><!--MD5=[3f50a3473f1dfb74d3f76443e03635af]\n",
       "reverse link E6 to E7--><a href=\"psysml:c471fe89-f766-40f3-82e0-5e28332f3a67\" target=\"_top\" title=\"psysml:c471fe89-f766-40f3-82e0-5e28332f3a67\" xlink:actuate=\"onRequest\" xlink:href=\"psysml:c471fe89-f766-40f3-82e0-5e28332f3a67\" xlink:show=\"new\" xlink:title=\"psysml:c471fe89-f766-40f3-82e0-5e28332f3a67\" xlink:type=\"simple\"><path d=\"M481.54,149.88 C498.82,163.65 517.97,178.9 531.94,190.02 \" fill=\"none\" id=\"E6&lt;-E7\" style=\"stroke: #383838; stroke-width: 1.0;\"/><polygon fill=\"#383838\" points=\"471.08,141.55,473.2818,148.4168,480.4671,149.0254,478.2654,142.1587,471.08,141.55\" style=\"stroke: #383838; stroke-width: 1.0;\"/></a><!--MD5=[14ccda38c055a5c0da953d572bc50960]\n",
       "link E7 to E3--><a href=\"psysml:ce24e444-eb42-4eaa-91b0-86c1efe7ffc5\" target=\"_top\" title=\"psysml:ce24e444-eb42-4eaa-91b0-86c1efe7ffc5\" xlink:actuate=\"onRequest\" xlink:href=\"psysml:ce24e444-eb42-4eaa-91b0-86c1efe7ffc5\" xlink:show=\"new\" xlink:title=\"psysml:ce24e444-eb42-4eaa-91b0-86c1efe7ffc5\" xlink:type=\"simple\"><path d=\"M531.93,207.19 C494.83,209.35 413.02,213.86 344,216 C312.01,216.99 304,216.78 272,217 C268,217.03 266.94,217.68 263,217 C259.6,216.41 256.13,215.66 252.66,214.78 \" fill=\"none\" id=\"E7-&gt;E3\" style=\"stroke: #383838; stroke-width: 1.0;\"/><polygon fill=\"#FFFFFF\" points=\"233.26,208.79,253.4801,207.719,249.3418,221.0934,233.26,208.79\" style=\"stroke: #383838; stroke-width: 1.0;\"/><ellipse cx=\"258.3342\" cy=\"211.3145\" fill=\"#383838\" rx=\"2\" ry=\"2\" style=\"stroke: #383838; stroke-width: 1.0;\"/><ellipse cx=\"255.3783\" cy=\"220.8677\" fill=\"#383838\" rx=\"2\" ry=\"2\" style=\"stroke: #383838; stroke-width: 1.0;\"/></a><!--MD5=[e88d06e5a652d73a6b19930eefe025a8]\n",
       "reverse link E6 to E9--><a href=\"psysml:cabff1fd-5442-4a71-976e-341ac2e5dda1\" target=\"_top\" title=\"psysml:cabff1fd-5442-4a71-976e-341ac2e5dda1\" xlink:actuate=\"onRequest\" xlink:href=\"psysml:cabff1fd-5442-4a71-976e-341ac2e5dda1\" xlink:show=\"new\" xlink:title=\"psysml:cabff1fd-5442-4a71-976e-341ac2e5dda1\" xlink:type=\"simple\"><path d=\"M486.25,116 C504.92,116 524.97,116 537.96,116 \" fill=\"none\" id=\"E6&lt;-E9\" style=\"stroke: #383838; stroke-width: 1.0;\"/><ellipse cx=\"479.08\" cy=\"116\" fill=\"#FFFFFF\" rx=\"8\" ry=\"8\" style=\"stroke: #383838; stroke-width: 1.0;\"/><line style=\"stroke: #383838; stroke-width: 1.0;\" x1=\"487.08\" x2=\"471.08\" y1=\"116\" y2=\"116\"/><line style=\"stroke: #383838; stroke-width: 1.0;\" x1=\"479.08\" x2=\"479.08\" y1=\"124\" y2=\"108\"/></a><!--MD5=[8e04057e7b3cbc0dca4fc78ea351e2da]\n",
       "reverse link E10 to E3--><a href=\"psysml:a19db77c-da80-41d6-a5f2-85a22676bfcf\" target=\"_top\" title=\"psysml:a19db77c-da80-41d6-a5f2-85a22676bfcf\" xlink:actuate=\"onRequest\" xlink:href=\"psysml:a19db77c-da80-41d6-a5f2-85a22676bfcf\" xlink:show=\"new\" xlink:title=\"psysml:a19db77c-da80-41d6-a5f2-85a22676bfcf\" xlink:type=\"simple\"><path d=\"M73.15,107.89 C81.09,137.24 97.11,176.91 128,196 C139.43,203.06 154,203.93 166.96,202.6 \" fill=\"none\" id=\"E10&lt;-E3\" style=\"stroke: #383838; stroke-width: 1.0;\"/><polygon fill=\"#FFFFFF\" points=\"70.04,95.24,67.5857,102.0206,72.9008,106.894,75.3551,100.1134,70.04,95.24\" style=\"stroke: #383838; stroke-width: 1.0;\"/><text fill=\"#000000\" font-family=\"sans-serif\" font-size=\"13\" lengthAdjust=\"spacingAndGlyphs\" textLength=\"7\" x=\"129\" y=\"192.0669\">y</text></a><!--MD5=[8e04057e7b3cbc0dca4fc78ea351e2da]\n",
       "reverse link E10 to E3--><a href=\"psysml:a19db77c-da80-41d6-a5f2-85a22676bfcf\" target=\"_top\" title=\"psysml:a19db77c-da80-41d6-a5f2-85a22676bfcf\" xlink:actuate=\"onRequest\" xlink:href=\"psysml:a19db77c-da80-41d6-a5f2-85a22676bfcf\" xlink:show=\"new\" xlink:title=\"psysml:a19db77c-da80-41d6-a5f2-85a22676bfcf\" xlink:type=\"simple\"><path d=\"M94.66,105.02 C104.83,116.17 116.59,128.46 128,139 C140.11,150.19 154.23,161.62 166.67,171.21 \" fill=\"none\" id=\"E10&lt;-E3-1\" style=\"stroke: #383838; stroke-width: 1.0;\"/><polygon fill=\"#FFFFFF\" points=\"85.83,95.17,86.863,102.3067,93.8481,104.098,92.8151,96.9613,85.83,95.17\" style=\"stroke: #383838; stroke-width: 1.0;\"/><text fill=\"#000000\" font-family=\"sans-serif\" font-size=\"13\" lengthAdjust=\"spacingAndGlyphs\" textLength=\"7\" x=\"129\" y=\"135.0669\">y</text></a><!--MD5=[8e04057e7b3cbc0dca4fc78ea351e2da]\n",
       "reverse link E10 to E3--><a href=\"psysml:a19db77c-da80-41d6-a5f2-85a22676bfcf\" target=\"_top\" title=\"psysml:a19db77c-da80-41d6-a5f2-85a22676bfcf\" xlink:actuate=\"onRequest\" xlink:href=\"psysml:a19db77c-da80-41d6-a5f2-85a22676bfcf\" xlink:show=\"new\" xlink:title=\"psysml:a19db77c-da80-41d6-a5f2-85a22676bfcf\" xlink:type=\"simple\"><path d=\"M109.31,96.93 C118.86,103.26 128.61,110.43 137,118 C149.74,129.5 161.99,143.76 172.19,156.87 \" fill=\"none\" id=\"E10&lt;-E3-2\" style=\"stroke: #383838; stroke-width: 1.0;\"/><polygon fill=\"#FFFFFF\" points=\"98.3,89.91,101.2128,96.5066,108.4223,96.3551,105.5095,89.7584,98.3,89.91\" style=\"stroke: #383838; stroke-width: 1.0;\"/><text fill=\"#000000\" font-family=\"sans-serif\" font-size=\"13\" lengthAdjust=\"spacingAndGlyphs\" textLength=\"7\" x=\"129\" y=\"107.0669\">y</text></a><!--MD5=[604cbf994c02b74b117f728a71673cea]\n",
       "reverse link E10 to E6--><a href=\"psysml:a19db77c-da80-41d6-a5f2-85a22676bfcf\" target=\"_top\" title=\"psysml:a19db77c-da80-41d6-a5f2-85a22676bfcf\" xlink:actuate=\"onRequest\" xlink:href=\"psysml:a19db77c-da80-41d6-a5f2-85a22676bfcf\" xlink:show=\"new\" xlink:title=\"psysml:a19db77c-da80-41d6-a5f2-85a22676bfcf\" xlink:type=\"simple\"><path d=\"M110.46,51.74 C116.26,49.79 122.2,48.12 128,47 C131.93,46.24 133,46.81 137,47 C243.15,52.12 275.82,31.84 375,70 C385.51,74.04 395.79,80.39 404.87,87.08 \" fill=\"none\" id=\"E10&lt;-E6\" style=\"stroke: #383838; stroke-width: 1.0;\"/><polygon fill=\"#FFFFFF\" points=\"98.1,56.34,105.1193,57.9921,109.3441,52.1482,102.3248,50.4961,98.1,56.34\" style=\"stroke: #383838; stroke-width: 1.0;\"/><text fill=\"#000000\" font-family=\"sans-serif\" font-size=\"13\" lengthAdjust=\"spacingAndGlyphs\" textLength=\"7\" x=\"264\" y=\"43.0669\">y</text></a><!--MD5=[604cbf994c02b74b117f728a71673cea]\n",
       "reverse link E10 to E6--><a href=\"psysml:a19db77c-da80-41d6-a5f2-85a22676bfcf\" target=\"_top\" title=\"psysml:a19db77c-da80-41d6-a5f2-85a22676bfcf\" xlink:actuate=\"onRequest\" xlink:href=\"psysml:a19db77c-da80-41d6-a5f2-85a22676bfcf\" xlink:show=\"new\" xlink:title=\"psysml:a19db77c-da80-41d6-a5f2-85a22676bfcf\" xlink:type=\"simple\"><path d=\"M111.01,78.63 C119.77,80.55 128.78,82.97 137,86 C182.93,102.95 195.16,108.94 233,140 C248.84,153 244.39,166.44 263,175 C287.64,186.33 291.14,141.42 302,135 C333.38,116.46 375.86,113.35 404.73,113.82 \" fill=\"none\" id=\"E10&lt;-E6-1\" style=\"stroke: #383838; stroke-width: 1.0;\"/><polygon fill=\"#FFFFFF\" points=\"98.05,76.1,103.1688,81.1792,109.826,78.4077,104.7072,73.3285,98.05,76.1\" style=\"stroke: #383838; stroke-width: 1.0;\"/><text fill=\"#000000\" font-family=\"sans-serif\" font-size=\"13\" lengthAdjust=\"spacingAndGlyphs\" textLength=\"7\" x=\"264\" y=\"171.0669\">y</text></a><!--MD5=[604cbf994c02b74b117f728a71673cea]\n",
       "reverse link E10 to E6--><a href=\"psysml:a19db77c-da80-41d6-a5f2-85a22676bfcf\" target=\"_top\" title=\"psysml:a19db77c-da80-41d6-a5f2-85a22676bfcf\" xlink:actuate=\"onRequest\" xlink:href=\"psysml:a19db77c-da80-41d6-a5f2-85a22676bfcf\" xlink:show=\"new\" xlink:title=\"psysml:a19db77c-da80-41d6-a5f2-85a22676bfcf\" xlink:type=\"simple\"><path d=\"M111.26,74.08 C119.82,74.61 128.69,75.24 137,76 C243.18,85.67 269.47,90.84 375,106 C384.71,107.4 395.26,109.05 404.85,110.6 \" fill=\"none\" id=\"E10&lt;-E6-2\" style=\"stroke: #383838; stroke-width: 1.0;\"/><polygon fill=\"#FFFFFF\" points=\"98.2,73.34,103.9665,77.6698,110.1812,74.0122,104.4146,69.6824,98.2,73.34\" style=\"stroke: #383838; stroke-width: 1.0;\"/><text fill=\"#000000\" font-family=\"sans-serif\" font-size=\"13\" lengthAdjust=\"spacingAndGlyphs\" textLength=\"7\" x=\"264\" y=\"86.0669\">y</text></a><!--MD5=[352bb1f7f22acb650c097271269a4443]\n",
       "@startuml\r\n",
       "left to right direction\r\n",
       "skinparam monochrome true\r\n",
       "skinparam classbackgroundcolor white\r\n",
       "skinparam shadowing false\r\n",
       "skinparam wrapWidth 300\r\n",
       "hide circle\r\n",
       "\r\n",
       "package \"PartTest\" as E1  [[psysml:c65cc0cd-28b1-4d7a-bc05-02136890ed9a ]]  {\r\n",
       "comp usage \"f: A\" as E2  <<(T,blue)part>> [[psysml:634826b2-2fc2-4798-92ed-071cd1dffdd8 ]] {\r\n",
       "}\r\n",
       "comp def \"A\" as E3  <<(T,blue)part def>> [[psysml:36aba5eb-a810-4976-a211-fcdfb7b330f5 ]] {\r\n",
       "- - ports - -\r\n",
       "c: C\r\n",
       "}\r\n",
       "comp usage \"b: B\" as E4  <<(T,blue)part>> [[psysml:b5150c44-d935-4f31-a69b-527c90fd7c47 ]] {\r\n",
       "}\r\n",
       "comp def \"B\" as E6  <<(T,blue)part def>> [[psysml:94fb1c4b-8096-4b0e-a0c8-00d5fe55de6c ]] {\r\n",
       "- - ports - -\r\n",
       "x: ~C\r\n",
       "}\r\n",
       "comp usage \"a: A\" as E7  <<(T,blue)part>> [[psysml:de084c60-8c86-4761-a316-7296396fb321 ]] {\r\n",
       "}\r\n",
       "package \"P\" as E9  [[psysml:4c76b494-1a6c-482d-b35c-aa72d24bc41e ]]  {\r\n",
       "}\r\n",
       "comp def \"C\" as E10  <<(T,blue)port def>> [[psysml:4c8e1ce2-7f9a-4661-9090-c510b6f01354 ]] {\r\n",
       "}\r\n",
       "E2 - -:|> E3 [[psysml:38cdc859-4dfa-4bc4-87cd-169dd5acc896 ]] \r\n",
       "E3 *- - E4 [[psysml:5ebdadf2-6044-45bc-aa24-2da7c79aba16 ]] \r\n",
       "E4 - -:|> E6 [[psysml:1fd8d685-c326-41aa-b421-a8308f20148e ]] \r\n",
       "E6 *- - E7 [[psysml:c471fe89-f766-40f3-82e0-5e28332f3a67 ]] \r\n",
       "E7 - -:|> E3 [[psysml:ce24e444-eb42-4eaa-91b0-86c1efe7ffc5 ]] \r\n",
       "E6 +- - E9 [[psysml:cabff1fd-5442-4a71-976e-341ac2e5dda1 ]] \r\n",
       "E10 o- - E3 [[psysml:a19db77c-da80-41d6-a5f2-85a22676bfcf ]] : y\r\n",
       "E10 o- - E6 [[psysml:a19db77c-da80-41d6-a5f2-85a22676bfcf ]] : y\r\n",
       "E10 o- - E3 [[psysml:a19db77c-da80-41d6-a5f2-85a22676bfcf ]] : y\r\n",
       "E10 o- - E6 [[psysml:a19db77c-da80-41d6-a5f2-85a22676bfcf ]] : y\r\n",
       "E10 o- - E3 [[psysml:a19db77c-da80-41d6-a5f2-85a22676bfcf ]] : y\r\n",
       "E10 o- - E6 [[psysml:a19db77c-da80-41d6-a5f2-85a22676bfcf ]] : y\r\n",
       "}\r\n",
       "@enduml\r\n",
       "\n",
       "PlantUML version 1.2020.13(Sat Jun 13 12:26:38 UTC 2020)\n",
       "(EPL source distribution)\n",
       "Java Runtime: OpenJDK Runtime Environment\n",
       "JVM: OpenJDK 64-Bit Server VM\n",
       "Default Encoding: UTF-8\n",
       "Language: en\n",
       "Country: null\n",
       "--></g></svg>"
      ]
     },
     "execution_count": 21,
     "metadata": {},
     "output_type": "execute_result"
    }
   ],
   "source": [
    "%viz --style=\"LR\" --view=\"Sequence\" \"PartTest\""
   ]
  },
  {
   "cell_type": "code",
   "execution_count": 22,
   "id": "28fb2636",
   "metadata": {
    "execution": {
     "iopub.execute_input": "2021-04-20T07:29:12.663726Z",
     "iopub.status.busy": "2021-04-20T07:29:12.662237Z",
     "iopub.status.idle": "2021-04-20T07:29:12.784269Z",
     "shell.execute_reply": "2021-04-20T07:29:12.784619Z"
    }
   },
   "outputs": [
    {
     "data": {
      "image/svg+xml": [
       "<?xml version=\"1.0\" encoding=\"UTF-8\" standalone=\"no\"?><svg xmlns=\"http://www.w3.org/2000/svg\" xmlns:xlink=\"http://www.w3.org/1999/xlink\" contentScriptType=\"application/ecmascript\" contentStyleType=\"text/css\" height=\"263px\" preserveAspectRatio=\"none\" style=\"width:612px;height:263px;\" version=\"1.1\" viewBox=\"0 0 612 263\" width=\"612px\" zoomAndPan=\"magnify\"><defs/><g><!--MD5=[fbc87193dbaf4d95561dea2c320d4a47]\n",
       "cluster E1--><a href=\"psysml:c65cc0cd-28b1-4d7a-bc05-02136890ed9a\" target=\"_top\" title=\"psysml:c65cc0cd-28b1-4d7a-bc05-02136890ed9a\" xlink:actuate=\"onRequest\" xlink:href=\"psysml:c65cc0cd-28b1-4d7a-bc05-02136890ed9a\" xlink:show=\"new\" xlink:title=\"psysml:c65cc0cd-28b1-4d7a-bc05-02136890ed9a\" xlink:type=\"simple\"><polygon fill=\"#FFFFFF\" points=\"16,6,89,6,96,28.2969,590,28.2969,590,251,16,251,16,6\" style=\"stroke: #000000; stroke-width: 1.5;\"/><line style=\"stroke: #000000; stroke-width: 1.5;\" x1=\"16\" x2=\"96\" y1=\"28.2969\" y2=\"28.2969\"/><text fill=\"#000000\" font-family=\"sans-serif\" font-size=\"14\" font-weight=\"bold\" lengthAdjust=\"spacingAndGlyphs\" textLength=\"67\" x=\"20\" y=\"20.9951\">PartTest</text></a><!--MD5=[b4997ac47864f28c2f74865a473b2911]\n",
       "class E2--><a href=\"psysml:634826b2-2fc2-4798-92ed-071cd1dffdd8\" target=\"_top\" title=\"psysml:634826b2-2fc2-4798-92ed-071cd1dffdd8\" xlink:actuate=\"onRequest\" xlink:href=\"psysml:634826b2-2fc2-4798-92ed-071cd1dffdd8\" xlink:show=\"new\" xlink:title=\"psysml:634826b2-2fc2-4798-92ed-071cd1dffdd8\" xlink:type=\"simple\"><rect fill=\"#FFFFFF\" height=\"45.9375\" id=\"E2\" rx=\"10\" ry=\"10\" style=\"stroke: #383838; stroke-width: 1.5;\" width=\"42\" x=\"44\" y=\"189\"/><text fill=\"#000000\" font-family=\"sans-serif\" font-size=\"12\" font-style=\"italic\" lengthAdjust=\"spacingAndGlyphs\" textLength=\"40\" x=\"45\" y=\"205.1387\">«part»</text><text fill=\"#000000\" font-family=\"sans-serif\" font-size=\"12\" lengthAdjust=\"spacingAndGlyphs\" textLength=\"20\" x=\"55\" y=\"219.1074\">f: A</text><line style=\"stroke: #383838; stroke-width: 1.5;\" x1=\"45\" x2=\"85\" y1=\"226.9375\" y2=\"226.9375\"/></a><!--MD5=[09b614a08d8cba4a07c9adeb5e0fee81]\n",
       "class E3--><a href=\"psysml:36aba5eb-a810-4976-a211-fcdfb7b330f5\" target=\"_top\" title=\"psysml:36aba5eb-a810-4976-a211-fcdfb7b330f5\" xlink:actuate=\"onRequest\" xlink:href=\"psysml:36aba5eb-a810-4976-a211-fcdfb7b330f5\" xlink:show=\"new\" xlink:title=\"psysml:36aba5eb-a810-4976-a211-fcdfb7b330f5\" xlink:type=\"simple\"><rect fill=\"#FFFFFF\" height=\"75.5469\" id=\"E3\" style=\"stroke: #383838; stroke-width: 1.5;\" width=\"66\" x=\"167\" y=\"157\"/><text fill=\"#000000\" font-family=\"sans-serif\" font-size=\"12\" font-style=\"italic\" lengthAdjust=\"spacingAndGlyphs\" textLength=\"64\" x=\"168\" y=\"173.1387\">«part def»</text><text fill=\"#000000\" font-family=\"sans-serif\" font-size=\"12\" lengthAdjust=\"spacingAndGlyphs\" textLength=\"8\" x=\"196\" y=\"187.1074\">A</text><line style=\"stroke: #383838; stroke-width: 1.5;\" x1=\"168\" x2=\"232\" y1=\"194.9375\" y2=\"194.9375\"/><text fill=\"#000000\" font-family=\"sans-serif\" font-size=\"11\" lengthAdjust=\"spacingAndGlyphs\" textLength=\"22\" x=\"173\" y=\"225.9526\">c: C</text><line style=\"stroke: #383838; stroke-width: 1.0;\" x1=\"168\" x2=\"185\" y1=\"209.3398\" y2=\"209.3398\"/><text fill=\"#000000\" font-family=\"sans-serif\" font-size=\"11\" lengthAdjust=\"spacingAndGlyphs\" textLength=\"30\" x=\"185\" y=\"212.6479\">ports</text><line style=\"stroke: #383838; stroke-width: 1.0;\" x1=\"215\" x2=\"232\" y1=\"209.3398\" y2=\"209.3398\"/></a><!--MD5=[ebbe1d658d1005bcc118a6aa81145e00]\n",
       "class E4--><a href=\"psysml:b5150c44-d935-4f31-a69b-527c90fd7c47\" target=\"_top\" title=\"psysml:b5150c44-d935-4f31-a69b-527c90fd7c47\" xlink:actuate=\"onRequest\" xlink:href=\"psysml:b5150c44-d935-4f31-a69b-527c90fd7c47\" xlink:show=\"new\" xlink:title=\"psysml:b5150c44-d935-4f31-a69b-527c90fd7c47\" xlink:type=\"simple\"><rect fill=\"#FFFFFF\" height=\"45.9375\" id=\"E4\" rx=\"10\" ry=\"10\" style=\"stroke: #383838; stroke-width: 1.5;\" width=\"42\" x=\"302\" y=\"152\"/><text fill=\"#000000\" font-family=\"sans-serif\" font-size=\"12\" font-style=\"italic\" lengthAdjust=\"spacingAndGlyphs\" textLength=\"40\" x=\"303\" y=\"168.1387\">«part»</text><text fill=\"#000000\" font-family=\"sans-serif\" font-size=\"12\" lengthAdjust=\"spacingAndGlyphs\" textLength=\"24\" x=\"311\" y=\"182.1074\">b: B</text><line style=\"stroke: #383838; stroke-width: 1.5;\" x1=\"303\" x2=\"343\" y1=\"189.9375\" y2=\"189.9375\"/></a><!--MD5=[60a26617385b1d2d0262a64233df1f8d]\n",
       "class E6--><a href=\"psysml:94fb1c4b-8096-4b0e-a0c8-00d5fe55de6c\" target=\"_top\" title=\"psysml:94fb1c4b-8096-4b0e-a0c8-00d5fe55de6c\" xlink:actuate=\"onRequest\" xlink:href=\"psysml:94fb1c4b-8096-4b0e-a0c8-00d5fe55de6c\" xlink:show=\"new\" xlink:title=\"psysml:94fb1c4b-8096-4b0e-a0c8-00d5fe55de6c\" xlink:type=\"simple\"><rect fill=\"#FFFFFF\" height=\"75.5469\" id=\"E6\" style=\"stroke: #383838; stroke-width: 1.5;\" width=\"66\" x=\"405\" y=\"78\"/><text fill=\"#000000\" font-family=\"sans-serif\" font-size=\"12\" font-style=\"italic\" lengthAdjust=\"spacingAndGlyphs\" textLength=\"64\" x=\"406\" y=\"94.1387\">«part def»</text><text fill=\"#000000\" font-family=\"sans-serif\" font-size=\"12\" lengthAdjust=\"spacingAndGlyphs\" textLength=\"8\" x=\"434\" y=\"108.1074\">B</text><line style=\"stroke: #383838; stroke-width: 1.5;\" x1=\"406\" x2=\"470\" y1=\"115.9375\" y2=\"115.9375\"/><text fill=\"#000000\" font-family=\"sans-serif\" font-size=\"11\" lengthAdjust=\"spacingAndGlyphs\" textLength=\"31\" x=\"411\" y=\"146.9526\">x: ~C</text><line style=\"stroke: #383838; stroke-width: 1.0;\" x1=\"406\" x2=\"423\" y1=\"130.3398\" y2=\"130.3398\"/><text fill=\"#000000\" font-family=\"sans-serif\" font-size=\"11\" lengthAdjust=\"spacingAndGlyphs\" textLength=\"30\" x=\"423\" y=\"133.6479\">ports</text><line style=\"stroke: #383838; stroke-width: 1.0;\" x1=\"453\" x2=\"470\" y1=\"130.3398\" y2=\"130.3398\"/></a><!--MD5=[2156ba9850f5573cc1fc38a6a4b2f02b]\n",
       "class E7--><a href=\"psysml:de084c60-8c86-4761-a316-7296396fb321\" target=\"_top\" title=\"psysml:de084c60-8c86-4761-a316-7296396fb321\" xlink:actuate=\"onRequest\" xlink:href=\"psysml:de084c60-8c86-4761-a316-7296396fb321\" xlink:show=\"new\" xlink:title=\"psysml:de084c60-8c86-4761-a316-7296396fb321\" xlink:type=\"simple\"><rect fill=\"#FFFFFF\" height=\"45.9375\" id=\"E7\" rx=\"10\" ry=\"10\" style=\"stroke: #383838; stroke-width: 1.5;\" width=\"42\" x=\"532\" y=\"183\"/><text fill=\"#000000\" font-family=\"sans-serif\" font-size=\"12\" font-style=\"italic\" lengthAdjust=\"spacingAndGlyphs\" textLength=\"40\" x=\"533\" y=\"199.1387\">«part»</text><text fill=\"#000000\" font-family=\"sans-serif\" font-size=\"12\" lengthAdjust=\"spacingAndGlyphs\" textLength=\"24\" x=\"541\" y=\"213.1074\">a: A</text><line style=\"stroke: #383838; stroke-width: 1.5;\" x1=\"533\" x2=\"573\" y1=\"220.9375\" y2=\"220.9375\"/></a><!--MD5=[96f4274e9e20536e775497830990834d]\n",
       "class E10--><a href=\"psysml:4c8e1ce2-7f9a-4661-9090-c510b6f01354\" target=\"_top\" title=\"psysml:4c8e1ce2-7f9a-4661-9090-c510b6f01354\" xlink:actuate=\"onRequest\" xlink:href=\"psysml:4c8e1ce2-7f9a-4661-9090-c510b6f01354\" xlink:show=\"new\" xlink:title=\"psysml:4c8e1ce2-7f9a-4661-9090-c510b6f01354\" xlink:type=\"simple\"><rect fill=\"#FFFFFF\" height=\"45.9375\" id=\"E10\" style=\"stroke: #383838; stroke-width: 1.5;\" width=\"66\" x=\"32\" y=\"49\"/><text fill=\"#000000\" font-family=\"sans-serif\" font-size=\"12\" font-style=\"italic\" lengthAdjust=\"spacingAndGlyphs\" textLength=\"64\" x=\"33\" y=\"65.1387\">«port def»</text><text fill=\"#000000\" font-family=\"sans-serif\" font-size=\"12\" lengthAdjust=\"spacingAndGlyphs\" textLength=\"8\" x=\"61\" y=\"79.1074\">C</text><line style=\"stroke: #383838; stroke-width: 1.5;\" x1=\"33\" x2=\"97\" y1=\"86.9375\" y2=\"86.9375\"/></a><a href=\"psysml:4c76b494-1a6c-482d-b35c-aa72d24bc41e\" target=\"_top\" title=\"psysml:4c76b494-1a6c-482d-b35c-aa72d24bc41e\" xlink:actuate=\"onRequest\" xlink:href=\"psysml:4c76b494-1a6c-482d-b35c-aa72d24bc41e\" xlink:show=\"new\" xlink:title=\"psysml:4c76b494-1a6c-482d-b35c-aa72d24bc41e\" xlink:type=\"simple\"><polygon fill=\"#FFFFFF\" points=\"538,89.5,554,89.5,561,111.7969,568,111.7969,568,142.0938,538,142.0938,538,89.5\" style=\"stroke: #000000; stroke-width: 1.5;\"/><line style=\"stroke: #000000; stroke-width: 1.5;\" x1=\"538\" x2=\"561\" y1=\"111.7969\" y2=\"111.7969\"/><text fill=\"#000000\" font-family=\"sans-serif\" font-size=\"14\" font-weight=\"bold\" lengthAdjust=\"spacingAndGlyphs\" textLength=\"10\" x=\"542\" y=\"104.4951\">P</text></a><!--MD5=[2720a5a1f2c3fca2055b230370638851]\n",
       "link E2 to E3--><a href=\"psysml:38cdc859-4dfa-4bc4-87cd-169dd5acc896\" target=\"_top\" title=\"psysml:38cdc859-4dfa-4bc4-87cd-169dd5acc896\" xlink:actuate=\"onRequest\" xlink:href=\"psysml:38cdc859-4dfa-4bc4-87cd-169dd5acc896\" xlink:show=\"new\" xlink:title=\"psysml:38cdc859-4dfa-4bc4-87cd-169dd5acc896\" xlink:type=\"simple\"><path d=\"M86.24,222.15 C100.47,227.98 119.93,233.37 137,229 C140.84,228.02 144.69,226.74 148.49,225.27 \" fill=\"none\" id=\"E2-&gt;E3\" style=\"stroke: #383838; stroke-width: 1.0;\"/><polygon fill=\"#FFFFFF\" points=\"166.82,216.6,152.6299,231.0444,146.6504,218.3856,166.82,216.6\" style=\"stroke: #383838; stroke-width: 1.0;\"/><ellipse cx=\"146.6217\" cy=\"231.6705\" fill=\"#383838\" rx=\"2\" ry=\"2\" style=\"stroke: #383838; stroke-width: 1.0;\"/><ellipse cx=\"142.3507\" cy=\"222.6284\" fill=\"#383838\" rx=\"2\" ry=\"2\" style=\"stroke: #383838; stroke-width: 1.0;\"/></a><!--MD5=[4672eba38e49728da53d11aeb285b987]\n",
       "reverse link E3 to E4--><a href=\"psysml:5ebdadf2-6044-45bc-aa24-2da7c79aba16\" target=\"_top\" title=\"psysml:5ebdadf2-6044-45bc-aa24-2da7c79aba16\" xlink:actuate=\"onRequest\" xlink:href=\"psysml:5ebdadf2-6044-45bc-aa24-2da7c79aba16\" xlink:show=\"new\" xlink:title=\"psysml:5ebdadf2-6044-45bc-aa24-2da7c79aba16\" xlink:type=\"simple\"><path d=\"M246.03,209.65 C254.73,210.69 263.71,210.49 272,208 C282.76,204.77 293.34,198.39 301.98,192.1 \" fill=\"none\" id=\"E3&lt;-E4\" style=\"stroke: #383838; stroke-width: 1.0;\"/><polygon fill=\"#383838\" points=\"233.17,207.27,238.3389,212.2981,244.9683,209.4607,239.7994,204.4326,233.17,207.27\" style=\"stroke: #383838; stroke-width: 1.0;\"/></a><!--MD5=[79568f1e445c3877b6a54524624ccc7d]\n",
       "link E4 to E6--><a href=\"psysml:1fd8d685-c326-41aa-b421-a8308f20148e\" target=\"_top\" title=\"psysml:1fd8d685-c326-41aa-b421-a8308f20148e\" xlink:actuate=\"onRequest\" xlink:href=\"psysml:1fd8d685-c326-41aa-b421-a8308f20148e\" xlink:show=\"new\" xlink:title=\"psysml:1fd8d685-c326-41aa-b421-a8308f20148e\" xlink:type=\"simple\"><path d=\"M344.2,164.45 C356.12,158.23 371.77,150.06 386.81,142.2 \" fill=\"none\" id=\"E4-&gt;E6\" style=\"stroke: #383838; stroke-width: 1.0;\"/><polygon fill=\"#FFFFFF\" points=\"404.57,132.93,390.9678,147.9293,384.4878,135.5193,404.57,132.93\" style=\"stroke: #383838; stroke-width: 1.0;\"/><ellipse cx=\"384.9894\" cy=\"148.7948\" fill=\"#383838\" rx=\"2\" ry=\"2\" style=\"stroke: #383838; stroke-width: 1.0;\"/><ellipse cx=\"380.3608\" cy=\"139.9305\" fill=\"#383838\" rx=\"2\" ry=\"2\" style=\"stroke: #383838; stroke-width: 1.0;\"/></a><!--MD5=[3f50a3473f1dfb74d3f76443e03635af]\n",
       "reverse link E6 to E7--><a href=\"psysml:c471fe89-f766-40f3-82e0-5e28332f3a67\" target=\"_top\" title=\"psysml:c471fe89-f766-40f3-82e0-5e28332f3a67\" xlink:actuate=\"onRequest\" xlink:href=\"psysml:c471fe89-f766-40f3-82e0-5e28332f3a67\" xlink:show=\"new\" xlink:title=\"psysml:c471fe89-f766-40f3-82e0-5e28332f3a67\" xlink:type=\"simple\"><path d=\"M481.54,149.88 C498.82,163.65 517.97,178.9 531.94,190.02 \" fill=\"none\" id=\"E6&lt;-E7\" style=\"stroke: #383838; stroke-width: 1.0;\"/><polygon fill=\"#383838\" points=\"471.08,141.55,473.2818,148.4168,480.4671,149.0254,478.2654,142.1587,471.08,141.55\" style=\"stroke: #383838; stroke-width: 1.0;\"/></a><!--MD5=[14ccda38c055a5c0da953d572bc50960]\n",
       "link E7 to E3--><a href=\"psysml:ce24e444-eb42-4eaa-91b0-86c1efe7ffc5\" target=\"_top\" title=\"psysml:ce24e444-eb42-4eaa-91b0-86c1efe7ffc5\" xlink:actuate=\"onRequest\" xlink:href=\"psysml:ce24e444-eb42-4eaa-91b0-86c1efe7ffc5\" xlink:show=\"new\" xlink:title=\"psysml:ce24e444-eb42-4eaa-91b0-86c1efe7ffc5\" xlink:type=\"simple\"><path d=\"M531.93,207.19 C494.83,209.35 413.02,213.86 344,216 C312.01,216.99 304,216.78 272,217 C268,217.03 266.94,217.68 263,217 C259.6,216.41 256.13,215.66 252.66,214.78 \" fill=\"none\" id=\"E7-&gt;E3\" style=\"stroke: #383838; stroke-width: 1.0;\"/><polygon fill=\"#FFFFFF\" points=\"233.26,208.79,253.4801,207.719,249.3418,221.0934,233.26,208.79\" style=\"stroke: #383838; stroke-width: 1.0;\"/><ellipse cx=\"258.3342\" cy=\"211.3145\" fill=\"#383838\" rx=\"2\" ry=\"2\" style=\"stroke: #383838; stroke-width: 1.0;\"/><ellipse cx=\"255.3783\" cy=\"220.8677\" fill=\"#383838\" rx=\"2\" ry=\"2\" style=\"stroke: #383838; stroke-width: 1.0;\"/></a><!--MD5=[e88d06e5a652d73a6b19930eefe025a8]\n",
       "reverse link E6 to E9--><a href=\"psysml:cabff1fd-5442-4a71-976e-341ac2e5dda1\" target=\"_top\" title=\"psysml:cabff1fd-5442-4a71-976e-341ac2e5dda1\" xlink:actuate=\"onRequest\" xlink:href=\"psysml:cabff1fd-5442-4a71-976e-341ac2e5dda1\" xlink:show=\"new\" xlink:title=\"psysml:cabff1fd-5442-4a71-976e-341ac2e5dda1\" xlink:type=\"simple\"><path d=\"M486.25,116 C504.92,116 524.97,116 537.96,116 \" fill=\"none\" id=\"E6&lt;-E9\" style=\"stroke: #383838; stroke-width: 1.0;\"/><ellipse cx=\"479.08\" cy=\"116\" fill=\"#FFFFFF\" rx=\"8\" ry=\"8\" style=\"stroke: #383838; stroke-width: 1.0;\"/><line style=\"stroke: #383838; stroke-width: 1.0;\" x1=\"487.08\" x2=\"471.08\" y1=\"116\" y2=\"116\"/><line style=\"stroke: #383838; stroke-width: 1.0;\" x1=\"479.08\" x2=\"479.08\" y1=\"124\" y2=\"108\"/></a><!--MD5=[8e04057e7b3cbc0dca4fc78ea351e2da]\n",
       "reverse link E10 to E3--><a href=\"psysml:a19db77c-da80-41d6-a5f2-85a22676bfcf\" target=\"_top\" title=\"psysml:a19db77c-da80-41d6-a5f2-85a22676bfcf\" xlink:actuate=\"onRequest\" xlink:href=\"psysml:a19db77c-da80-41d6-a5f2-85a22676bfcf\" xlink:show=\"new\" xlink:title=\"psysml:a19db77c-da80-41d6-a5f2-85a22676bfcf\" xlink:type=\"simple\"><path d=\"M73.15,107.89 C81.09,137.24 97.11,176.91 128,196 C139.43,203.06 154,203.93 166.96,202.6 \" fill=\"none\" id=\"E10&lt;-E3\" style=\"stroke: #383838; stroke-width: 1.0;\"/><polygon fill=\"#FFFFFF\" points=\"70.04,95.24,67.5857,102.0206,72.9008,106.894,75.3551,100.1134,70.04,95.24\" style=\"stroke: #383838; stroke-width: 1.0;\"/><text fill=\"#000000\" font-family=\"sans-serif\" font-size=\"13\" lengthAdjust=\"spacingAndGlyphs\" textLength=\"7\" x=\"129\" y=\"192.0669\">y</text></a><!--MD5=[8e04057e7b3cbc0dca4fc78ea351e2da]\n",
       "reverse link E10 to E3--><a href=\"psysml:a19db77c-da80-41d6-a5f2-85a22676bfcf\" target=\"_top\" title=\"psysml:a19db77c-da80-41d6-a5f2-85a22676bfcf\" xlink:actuate=\"onRequest\" xlink:href=\"psysml:a19db77c-da80-41d6-a5f2-85a22676bfcf\" xlink:show=\"new\" xlink:title=\"psysml:a19db77c-da80-41d6-a5f2-85a22676bfcf\" xlink:type=\"simple\"><path d=\"M94.66,105.02 C104.83,116.17 116.59,128.46 128,139 C140.11,150.19 154.23,161.62 166.67,171.21 \" fill=\"none\" id=\"E10&lt;-E3-1\" style=\"stroke: #383838; stroke-width: 1.0;\"/><polygon fill=\"#FFFFFF\" points=\"85.83,95.17,86.863,102.3067,93.8481,104.098,92.8151,96.9613,85.83,95.17\" style=\"stroke: #383838; stroke-width: 1.0;\"/><text fill=\"#000000\" font-family=\"sans-serif\" font-size=\"13\" lengthAdjust=\"spacingAndGlyphs\" textLength=\"7\" x=\"129\" y=\"135.0669\">y</text></a><!--MD5=[8e04057e7b3cbc0dca4fc78ea351e2da]\n",
       "reverse link E10 to E3--><a href=\"psysml:a19db77c-da80-41d6-a5f2-85a22676bfcf\" target=\"_top\" title=\"psysml:a19db77c-da80-41d6-a5f2-85a22676bfcf\" xlink:actuate=\"onRequest\" xlink:href=\"psysml:a19db77c-da80-41d6-a5f2-85a22676bfcf\" xlink:show=\"new\" xlink:title=\"psysml:a19db77c-da80-41d6-a5f2-85a22676bfcf\" xlink:type=\"simple\"><path d=\"M109.31,96.93 C118.86,103.26 128.61,110.43 137,118 C149.74,129.5 161.99,143.76 172.19,156.87 \" fill=\"none\" id=\"E10&lt;-E3-2\" style=\"stroke: #383838; stroke-width: 1.0;\"/><polygon fill=\"#FFFFFF\" points=\"98.3,89.91,101.2128,96.5066,108.4223,96.3551,105.5095,89.7584,98.3,89.91\" style=\"stroke: #383838; stroke-width: 1.0;\"/><text fill=\"#000000\" font-family=\"sans-serif\" font-size=\"13\" lengthAdjust=\"spacingAndGlyphs\" textLength=\"7\" x=\"129\" y=\"107.0669\">y</text></a><!--MD5=[604cbf994c02b74b117f728a71673cea]\n",
       "reverse link E10 to E6--><a href=\"psysml:a19db77c-da80-41d6-a5f2-85a22676bfcf\" target=\"_top\" title=\"psysml:a19db77c-da80-41d6-a5f2-85a22676bfcf\" xlink:actuate=\"onRequest\" xlink:href=\"psysml:a19db77c-da80-41d6-a5f2-85a22676bfcf\" xlink:show=\"new\" xlink:title=\"psysml:a19db77c-da80-41d6-a5f2-85a22676bfcf\" xlink:type=\"simple\"><path d=\"M110.46,51.74 C116.26,49.79 122.2,48.12 128,47 C131.93,46.24 133,46.81 137,47 C243.15,52.12 275.82,31.84 375,70 C385.51,74.04 395.79,80.39 404.87,87.08 \" fill=\"none\" id=\"E10&lt;-E6\" style=\"stroke: #383838; stroke-width: 1.0;\"/><polygon fill=\"#FFFFFF\" points=\"98.1,56.34,105.1193,57.9921,109.3441,52.1482,102.3248,50.4961,98.1,56.34\" style=\"stroke: #383838; stroke-width: 1.0;\"/><text fill=\"#000000\" font-family=\"sans-serif\" font-size=\"13\" lengthAdjust=\"spacingAndGlyphs\" textLength=\"7\" x=\"264\" y=\"43.0669\">y</text></a><!--MD5=[604cbf994c02b74b117f728a71673cea]\n",
       "reverse link E10 to E6--><a href=\"psysml:a19db77c-da80-41d6-a5f2-85a22676bfcf\" target=\"_top\" title=\"psysml:a19db77c-da80-41d6-a5f2-85a22676bfcf\" xlink:actuate=\"onRequest\" xlink:href=\"psysml:a19db77c-da80-41d6-a5f2-85a22676bfcf\" xlink:show=\"new\" xlink:title=\"psysml:a19db77c-da80-41d6-a5f2-85a22676bfcf\" xlink:type=\"simple\"><path d=\"M111.01,78.63 C119.77,80.55 128.78,82.97 137,86 C182.93,102.95 195.16,108.94 233,140 C248.84,153 244.39,166.44 263,175 C287.64,186.33 291.14,141.42 302,135 C333.38,116.46 375.86,113.35 404.73,113.82 \" fill=\"none\" id=\"E10&lt;-E6-1\" style=\"stroke: #383838; stroke-width: 1.0;\"/><polygon fill=\"#FFFFFF\" points=\"98.05,76.1,103.1688,81.1792,109.826,78.4077,104.7072,73.3285,98.05,76.1\" style=\"stroke: #383838; stroke-width: 1.0;\"/><text fill=\"#000000\" font-family=\"sans-serif\" font-size=\"13\" lengthAdjust=\"spacingAndGlyphs\" textLength=\"7\" x=\"264\" y=\"171.0669\">y</text></a><!--MD5=[604cbf994c02b74b117f728a71673cea]\n",
       "reverse link E10 to E6--><a href=\"psysml:a19db77c-da80-41d6-a5f2-85a22676bfcf\" target=\"_top\" title=\"psysml:a19db77c-da80-41d6-a5f2-85a22676bfcf\" xlink:actuate=\"onRequest\" xlink:href=\"psysml:a19db77c-da80-41d6-a5f2-85a22676bfcf\" xlink:show=\"new\" xlink:title=\"psysml:a19db77c-da80-41d6-a5f2-85a22676bfcf\" xlink:type=\"simple\"><path d=\"M111.26,74.08 C119.82,74.61 128.69,75.24 137,76 C243.18,85.67 269.47,90.84 375,106 C384.71,107.4 395.26,109.05 404.85,110.6 \" fill=\"none\" id=\"E10&lt;-E6-2\" style=\"stroke: #383838; stroke-width: 1.0;\"/><polygon fill=\"#FFFFFF\" points=\"98.2,73.34,103.9665,77.6698,110.1812,74.0122,104.4146,69.6824,98.2,73.34\" style=\"stroke: #383838; stroke-width: 1.0;\"/><text fill=\"#000000\" font-family=\"sans-serif\" font-size=\"13\" lengthAdjust=\"spacingAndGlyphs\" textLength=\"7\" x=\"264\" y=\"86.0669\">y</text></a><!--MD5=[352bb1f7f22acb650c097271269a4443]\n",
       "@startuml\r\n",
       "left to right direction\r\n",
       "skinparam monochrome true\r\n",
       "skinparam classbackgroundcolor white\r\n",
       "skinparam shadowing false\r\n",
       "skinparam wrapWidth 300\r\n",
       "hide circle\r\n",
       "\r\n",
       "package \"PartTest\" as E1  [[psysml:c65cc0cd-28b1-4d7a-bc05-02136890ed9a ]]  {\r\n",
       "comp usage \"f: A\" as E2  <<(T,blue)part>> [[psysml:634826b2-2fc2-4798-92ed-071cd1dffdd8 ]] {\r\n",
       "}\r\n",
       "comp def \"A\" as E3  <<(T,blue)part def>> [[psysml:36aba5eb-a810-4976-a211-fcdfb7b330f5 ]] {\r\n",
       "- - ports - -\r\n",
       "c: C\r\n",
       "}\r\n",
       "comp usage \"b: B\" as E4  <<(T,blue)part>> [[psysml:b5150c44-d935-4f31-a69b-527c90fd7c47 ]] {\r\n",
       "}\r\n",
       "comp def \"B\" as E6  <<(T,blue)part def>> [[psysml:94fb1c4b-8096-4b0e-a0c8-00d5fe55de6c ]] {\r\n",
       "- - ports - -\r\n",
       "x: ~C\r\n",
       "}\r\n",
       "comp usage \"a: A\" as E7  <<(T,blue)part>> [[psysml:de084c60-8c86-4761-a316-7296396fb321 ]] {\r\n",
       "}\r\n",
       "package \"P\" as E9  [[psysml:4c76b494-1a6c-482d-b35c-aa72d24bc41e ]]  {\r\n",
       "}\r\n",
       "comp def \"C\" as E10  <<(T,blue)port def>> [[psysml:4c8e1ce2-7f9a-4661-9090-c510b6f01354 ]] {\r\n",
       "}\r\n",
       "E2 - -:|> E3 [[psysml:38cdc859-4dfa-4bc4-87cd-169dd5acc896 ]] \r\n",
       "E3 *- - E4 [[psysml:5ebdadf2-6044-45bc-aa24-2da7c79aba16 ]] \r\n",
       "E4 - -:|> E6 [[psysml:1fd8d685-c326-41aa-b421-a8308f20148e ]] \r\n",
       "E6 *- - E7 [[psysml:c471fe89-f766-40f3-82e0-5e28332f3a67 ]] \r\n",
       "E7 - -:|> E3 [[psysml:ce24e444-eb42-4eaa-91b0-86c1efe7ffc5 ]] \r\n",
       "E6 +- - E9 [[psysml:cabff1fd-5442-4a71-976e-341ac2e5dda1 ]] \r\n",
       "E10 o- - E3 [[psysml:a19db77c-da80-41d6-a5f2-85a22676bfcf ]] : y\r\n",
       "E10 o- - E6 [[psysml:a19db77c-da80-41d6-a5f2-85a22676bfcf ]] : y\r\n",
       "E10 o- - E3 [[psysml:a19db77c-da80-41d6-a5f2-85a22676bfcf ]] : y\r\n",
       "E10 o- - E6 [[psysml:a19db77c-da80-41d6-a5f2-85a22676bfcf ]] : y\r\n",
       "E10 o- - E3 [[psysml:a19db77c-da80-41d6-a5f2-85a22676bfcf ]] : y\r\n",
       "E10 o- - E6 [[psysml:a19db77c-da80-41d6-a5f2-85a22676bfcf ]] : y\r\n",
       "}\r\n",
       "@enduml\r\n",
       "\n",
       "PlantUML version 1.2020.13(Sat Jun 13 12:26:38 UTC 2020)\n",
       "(EPL source distribution)\n",
       "Java Runtime: OpenJDK Runtime Environment\n",
       "JVM: OpenJDK 64-Bit Server VM\n",
       "Default Encoding: UTF-8\n",
       "Language: en\n",
       "Country: null\n",
       "--></g></svg>"
      ]
     },
     "execution_count": 22,
     "metadata": {},
     "output_type": "execute_result"
    }
   ],
   "source": [
    "%viz --style=\"LR\" --view=\"MIXED\" \"PartTest\""
   ]
  },
  {
   "cell_type": "code",
   "execution_count": 23,
   "id": "0c3536b3",
   "metadata": {
    "execution": {
     "iopub.execute_input": "2021-04-20T07:29:12.835029Z",
     "iopub.status.busy": "2021-04-20T07:29:12.834298Z",
     "iopub.status.idle": "2021-04-20T07:29:12.910428Z",
     "shell.execute_reply": "2021-04-20T07:29:12.908259Z"
    }
   },
   "outputs": [
    {
     "data": {
      "image/svg+xml": [
       "<?xml version=\"1.0\" encoding=\"UTF-8\" standalone=\"no\"?><svg xmlns=\"http://www.w3.org/2000/svg\" xmlns:xlink=\"http://www.w3.org/1999/xlink\" contentScriptType=\"application/ecmascript\" contentStyleType=\"text/css\" height=\"642px\" preserveAspectRatio=\"none\" style=\"width:260px;height:642px;\" version=\"1.1\" viewBox=\"0 0 260 642\" width=\"260px\" zoomAndPan=\"magnify\"><defs><filter height=\"300%\" id=\"fsoxop7il2y3x\" width=\"300%\" x=\"-1\" y=\"-1\"><feGaussianBlur result=\"blurOut\" stdDeviation=\"2.0\"/><feColorMatrix in=\"blurOut\" result=\"blurOut2\" type=\"matrix\" values=\"0 0 0 0 0 0 0 0 0 0 0 0 0 0 0 0 0 0 .4 0\"/><feOffset dx=\"4.0\" dy=\"4.0\" in=\"blurOut2\" result=\"blurOut3\"/><feBlend in=\"SourceGraphic\" in2=\"blurOut3\" mode=\"normal\"/></filter></defs><g><!--MD5=[fbc87193dbaf4d95561dea2c320d4a47]\n",
       "cluster E1--><a href=\"psysml:c65cc0cd-28b1-4d7a-bc05-02136890ed9a\" target=\"_top\" title=\"psysml:c65cc0cd-28b1-4d7a-bc05-02136890ed9a\" xlink:actuate=\"onRequest\" xlink:href=\"psysml:c65cc0cd-28b1-4d7a-bc05-02136890ed9a\" xlink:show=\"new\" xlink:title=\"psysml:c65cc0cd-28b1-4d7a-bc05-02136890ed9a\" xlink:type=\"simple\"><polygon fill=\"#FFFFFF\" filter=\"url(#fsoxop7il2y3x)\" points=\"16,6,89,6,96,28.2969,238,28.2969,238,630,16,630,16,6\" style=\"stroke: #000000; stroke-width: 1.5;\"/><line style=\"stroke: #000000; stroke-width: 1.5;\" x1=\"16\" x2=\"96\" y1=\"28.2969\" y2=\"28.2969\"/><text fill=\"#000000\" font-family=\"sans-serif\" font-size=\"14\" font-weight=\"bold\" lengthAdjust=\"spacingAndGlyphs\" textLength=\"67\" x=\"20\" y=\"20.9951\">PartTest</text></a><!--MD5=[b4997ac47864f28c2f74865a473b2911]\n",
       "class E2--><a href=\"psysml:634826b2-2fc2-4798-92ed-071cd1dffdd8\" target=\"_top\" title=\"psysml:634826b2-2fc2-4798-92ed-071cd1dffdd8\" xlink:actuate=\"onRequest\" xlink:href=\"psysml:634826b2-2fc2-4798-92ed-071cd1dffdd8\" xlink:show=\"new\" xlink:title=\"psysml:634826b2-2fc2-4798-92ed-071cd1dffdd8\" xlink:type=\"simple\"><rect fill=\"#FEFECE\" filter=\"url(#fsoxop7il2y3x)\" height=\"45.9375\" id=\"E2\" rx=\"10\" ry=\"10\" style=\"stroke: #A80036; stroke-width: 1.5;\" width=\"42\" x=\"32\" y=\"41\"/><text fill=\"#000000\" font-family=\"sans-serif\" font-size=\"12\" font-style=\"italic\" lengthAdjust=\"spacingAndGlyphs\" textLength=\"40\" x=\"33\" y=\"57.1387\">«part»</text><text fill=\"#000000\" font-family=\"sans-serif\" font-size=\"12\" lengthAdjust=\"spacingAndGlyphs\" textLength=\"20\" x=\"43\" y=\"71.1074\">f: A</text><line style=\"stroke: #A80036; stroke-width: 1.5;\" x1=\"33\" x2=\"73\" y1=\"78.9375\" y2=\"78.9375\"/></a><!--MD5=[09b614a08d8cba4a07c9adeb5e0fee81]\n",
       "class E3--><a href=\"psysml:36aba5eb-a810-4976-a211-fcdfb7b330f5\" target=\"_top\" title=\"psysml:36aba5eb-a810-4976-a211-fcdfb7b330f5\" xlink:actuate=\"onRequest\" xlink:href=\"psysml:36aba5eb-a810-4976-a211-fcdfb7b330f5\" xlink:show=\"new\" xlink:title=\"psysml:36aba5eb-a810-4976-a211-fcdfb7b330f5\" xlink:type=\"simple\"><rect fill=\"#FEFECE\" filter=\"url(#fsoxop7il2y3x)\" height=\"75.5469\" id=\"E3\" style=\"stroke: #A80036; stroke-width: 1.5;\" width=\"66\" x=\"37\" y=\"164\"/><text fill=\"#000000\" font-family=\"sans-serif\" font-size=\"12\" font-style=\"italic\" lengthAdjust=\"spacingAndGlyphs\" textLength=\"64\" x=\"38\" y=\"180.1387\">«part def»</text><text fill=\"#000000\" font-family=\"sans-serif\" font-size=\"12\" lengthAdjust=\"spacingAndGlyphs\" textLength=\"8\" x=\"66\" y=\"194.1074\">A</text><line style=\"stroke: #A80036; stroke-width: 1.5;\" x1=\"38\" x2=\"102\" y1=\"201.9375\" y2=\"201.9375\"/><text fill=\"#000000\" font-family=\"sans-serif\" font-size=\"11\" lengthAdjust=\"spacingAndGlyphs\" textLength=\"22\" x=\"43\" y=\"232.9526\">c: C</text><line style=\"stroke: #A80036; stroke-width: 1.0;\" x1=\"38\" x2=\"55\" y1=\"216.3398\" y2=\"216.3398\"/><text fill=\"#000000\" font-family=\"sans-serif\" font-size=\"11\" lengthAdjust=\"spacingAndGlyphs\" textLength=\"30\" x=\"55\" y=\"219.6479\">ports</text><line style=\"stroke: #A80036; stroke-width: 1.0;\" x1=\"85\" x2=\"102\" y1=\"216.3398\" y2=\"216.3398\"/></a><!--MD5=[ebbe1d658d1005bcc118a6aa81145e00]\n",
       "class E4--><a href=\"psysml:b5150c44-d935-4f31-a69b-527c90fd7c47\" target=\"_top\" title=\"psysml:b5150c44-d935-4f31-a69b-527c90fd7c47\" xlink:actuate=\"onRequest\" xlink:href=\"psysml:b5150c44-d935-4f31-a69b-527c90fd7c47\" xlink:show=\"new\" xlink:title=\"psysml:b5150c44-d935-4f31-a69b-527c90fd7c47\" xlink:type=\"simple\"><rect fill=\"#FEFECE\" filter=\"url(#fsoxop7il2y3x)\" height=\"45.9375\" id=\"E4\" rx=\"10\" ry=\"10\" style=\"stroke: #A80036; stroke-width: 1.5;\" width=\"42\" x=\"69\" y=\"317\"/><text fill=\"#000000\" font-family=\"sans-serif\" font-size=\"12\" font-style=\"italic\" lengthAdjust=\"spacingAndGlyphs\" textLength=\"40\" x=\"70\" y=\"333.1387\">«part»</text><text fill=\"#000000\" font-family=\"sans-serif\" font-size=\"12\" lengthAdjust=\"spacingAndGlyphs\" textLength=\"24\" x=\"78\" y=\"347.1074\">b: B</text><line style=\"stroke: #A80036; stroke-width: 1.5;\" x1=\"70\" x2=\"110\" y1=\"354.9375\" y2=\"354.9375\"/></a><!--MD5=[60a26617385b1d2d0262a64233df1f8d]\n",
       "class E6--><a href=\"psysml:94fb1c4b-8096-4b0e-a0c8-00d5fe55de6c\" target=\"_top\" title=\"psysml:94fb1c4b-8096-4b0e-a0c8-00d5fe55de6c\" xlink:actuate=\"onRequest\" xlink:href=\"psysml:94fb1c4b-8096-4b0e-a0c8-00d5fe55de6c\" xlink:show=\"new\" xlink:title=\"psysml:94fb1c4b-8096-4b0e-a0c8-00d5fe55de6c\" xlink:type=\"simple\"><rect fill=\"#FEFECE\" filter=\"url(#fsoxop7il2y3x)\" height=\"75.5469\" id=\"E6\" style=\"stroke: #A80036; stroke-width: 1.5;\" width=\"66\" x=\"114\" y=\"424\"/><text fill=\"#000000\" font-family=\"sans-serif\" font-size=\"12\" font-style=\"italic\" lengthAdjust=\"spacingAndGlyphs\" textLength=\"64\" x=\"115\" y=\"440.1387\">«part def»</text><text fill=\"#000000\" font-family=\"sans-serif\" font-size=\"12\" lengthAdjust=\"spacingAndGlyphs\" textLength=\"8\" x=\"143\" y=\"454.1074\">B</text><line style=\"stroke: #A80036; stroke-width: 1.5;\" x1=\"115\" x2=\"179\" y1=\"461.9375\" y2=\"461.9375\"/><text fill=\"#000000\" font-family=\"sans-serif\" font-size=\"11\" lengthAdjust=\"spacingAndGlyphs\" textLength=\"31\" x=\"120\" y=\"492.9526\">x: ~C</text><line style=\"stroke: #A80036; stroke-width: 1.0;\" x1=\"115\" x2=\"132\" y1=\"476.3398\" y2=\"476.3398\"/><text fill=\"#000000\" font-family=\"sans-serif\" font-size=\"11\" lengthAdjust=\"spacingAndGlyphs\" textLength=\"30\" x=\"132\" y=\"479.6479\">ports</text><line style=\"stroke: #A80036; stroke-width: 1.0;\" x1=\"162\" x2=\"179\" y1=\"476.3398\" y2=\"476.3398\"/></a><!--MD5=[2156ba9850f5573cc1fc38a6a4b2f02b]\n",
       "class E7--><a href=\"psysml:de084c60-8c86-4761-a316-7296396fb321\" target=\"_top\" title=\"psysml:de084c60-8c86-4761-a316-7296396fb321\" xlink:actuate=\"onRequest\" xlink:href=\"psysml:de084c60-8c86-4761-a316-7296396fb321\" xlink:show=\"new\" xlink:title=\"psysml:de084c60-8c86-4761-a316-7296396fb321\" xlink:type=\"simple\"><rect fill=\"#FEFECE\" filter=\"url(#fsoxop7il2y3x)\" height=\"45.9375\" id=\"E7\" rx=\"10\" ry=\"10\" style=\"stroke: #A80036; stroke-width: 1.5;\" width=\"42\" x=\"44\" y=\"564.5\"/><text fill=\"#000000\" font-family=\"sans-serif\" font-size=\"12\" font-style=\"italic\" lengthAdjust=\"spacingAndGlyphs\" textLength=\"40\" x=\"45\" y=\"580.6387\">«part»</text><text fill=\"#000000\" font-family=\"sans-serif\" font-size=\"12\" lengthAdjust=\"spacingAndGlyphs\" textLength=\"24\" x=\"53\" y=\"594.6074\">a: A</text><line style=\"stroke: #A80036; stroke-width: 1.5;\" x1=\"45\" x2=\"85\" y1=\"602.4375\" y2=\"602.4375\"/></a><!--MD5=[96f4274e9e20536e775497830990834d]\n",
       "class E10--><a href=\"psysml:4c8e1ce2-7f9a-4661-9090-c510b6f01354\" target=\"_top\" title=\"psysml:4c8e1ce2-7f9a-4661-9090-c510b6f01354\" xlink:actuate=\"onRequest\" xlink:href=\"psysml:4c8e1ce2-7f9a-4661-9090-c510b6f01354\" xlink:show=\"new\" xlink:title=\"psysml:4c8e1ce2-7f9a-4661-9090-c510b6f01354\" xlink:type=\"simple\"><rect fill=\"#FEFECE\" filter=\"url(#fsoxop7il2y3x)\" height=\"45.9375\" id=\"E10\" style=\"stroke: #A80036; stroke-width: 1.5;\" width=\"66\" x=\"146\" y=\"41\"/><text fill=\"#000000\" font-family=\"sans-serif\" font-size=\"12\" font-style=\"italic\" lengthAdjust=\"spacingAndGlyphs\" textLength=\"64\" x=\"147\" y=\"57.1387\">«port def»</text><text fill=\"#000000\" font-family=\"sans-serif\" font-size=\"12\" lengthAdjust=\"spacingAndGlyphs\" textLength=\"8\" x=\"175\" y=\"71.1074\">C</text><line style=\"stroke: #A80036; stroke-width: 1.5;\" x1=\"147\" x2=\"211\" y1=\"78.9375\" y2=\"78.9375\"/></a><a href=\"psysml:4c76b494-1a6c-482d-b35c-aa72d24bc41e\" target=\"_top\" title=\"psysml:4c76b494-1a6c-482d-b35c-aa72d24bc41e\" xlink:actuate=\"onRequest\" xlink:href=\"psysml:4c76b494-1a6c-482d-b35c-aa72d24bc41e\" xlink:show=\"new\" xlink:title=\"psysml:4c76b494-1a6c-482d-b35c-aa72d24bc41e\" xlink:type=\"simple\"><polygon fill=\"#FFFFFF\" filter=\"url(#fsoxop7il2y3x)\" points=\"132,561,148,561,155,583.2969,162,583.2969,162,613.5938,132,613.5938,132,561\" style=\"stroke: #000000; stroke-width: 1.5;\"/><line style=\"stroke: #000000; stroke-width: 1.5;\" x1=\"132\" x2=\"155\" y1=\"583.2969\" y2=\"583.2969\"/><text fill=\"#000000\" font-family=\"sans-serif\" font-size=\"14\" font-weight=\"bold\" lengthAdjust=\"spacingAndGlyphs\" textLength=\"10\" x=\"136\" y=\"575.9951\">P</text></a><!--MD5=[2720a5a1f2c3fca2055b230370638851]\n",
       "link E2 to E3--><a href=\"psysml:38cdc859-4dfa-4bc4-87cd-169dd5acc896\" target=\"_top\" title=\"psysml:38cdc859-4dfa-4bc4-87cd-169dd5acc896\" xlink:actuate=\"onRequest\" xlink:href=\"psysml:38cdc859-4dfa-4bc4-87cd-169dd5acc896\" xlink:show=\"new\" xlink:title=\"psysml:38cdc859-4dfa-4bc4-87cd-169dd5acc896\" xlink:type=\"simple\"><path d=\"M43.23,87.08 C38.46,100.64 34.45,118.34 38,134 C38.82,137.61 39.86,141.26 41.06,144.89 \" fill=\"none\" id=\"E2-&gt;E3\" style=\"stroke: #A80036; stroke-width: 1.0;\"/><polygon fill=\"#FFFFFF\" points=\"48.65,163.8,35.0703,148.7803,48.0607,143.5601,48.65,163.8\" style=\"stroke: #A80036; stroke-width: 1.0;\"/><ellipse cx=\"34.8007\" cy=\"142.7456\" fill=\"#A80036\" rx=\"2\" ry=\"2\" style=\"stroke: #A80036; stroke-width: 1.0;\"/><ellipse cx=\"44.0796\" cy=\"139.0169\" fill=\"#A80036\" rx=\"2\" ry=\"2\" style=\"stroke: #A80036; stroke-width: 1.0;\"/></a><!--MD5=[4672eba38e49728da53d11aeb285b987]\n",
       "reverse link E3 to E4--><a href=\"psysml:5ebdadf2-6044-45bc-aa24-2da7c79aba16\" target=\"_top\" title=\"psysml:5ebdadf2-6044-45bc-aa24-2da7c79aba16\" xlink:actuate=\"onRequest\" xlink:href=\"psysml:5ebdadf2-6044-45bc-aa24-2da7c79aba16\" xlink:show=\"new\" xlink:title=\"psysml:5ebdadf2-6044-45bc-aa24-2da7c79aba16\" xlink:type=\"simple\"><path d=\"M72.88,253.51 C73.88,264.59 75.22,276.22 77,287 C78.64,296.92 81.21,307.72 83.63,316.9 \" fill=\"none\" id=\"E3&lt;-E4\" style=\"stroke: #A80036; stroke-width: 1.0;\"/><polygon fill=\"#A80036\" points=\"71.81,240.38,68.3042,246.6816,72.7727,252.3413,76.2785,246.0398,71.81,240.38\" style=\"stroke: #A80036; stroke-width: 1.0;\"/></a><!--MD5=[79568f1e445c3877b6a54524624ccc7d]\n",
       "link E4 to E6--><a href=\"psysml:1fd8d685-c326-41aa-b421-a8308f20148e\" target=\"_top\" title=\"psysml:1fd8d685-c326-41aa-b421-a8308f20148e\" xlink:actuate=\"onRequest\" xlink:href=\"psysml:1fd8d685-c326-41aa-b421-a8308f20148e\" xlink:show=\"new\" xlink:title=\"psysml:1fd8d685-c326-41aa-b421-a8308f20148e\" xlink:type=\"simple\"><path d=\"M100.45,363.01 C106.1,374.9 113.36,390.18 120.46,405.12 \" fill=\"none\" id=\"E4-&gt;E6\" style=\"stroke: #A80036; stroke-width: 1.0;\"/><polygon fill=\"#FFFFFF\" points=\"129.22,423.57,114.7395,409.4167,127.3831,403.405,129.22,423.57\" style=\"stroke: #A80036; stroke-width: 1.0;\"/><ellipse cx=\"114.0981\" cy=\"403.4102\" fill=\"#A80036\" rx=\"2\" ry=\"2\" style=\"stroke: #A80036; stroke-width: 1.0;\"/><ellipse cx=\"123.1292\" cy=\"399.1161\" fill=\"#A80036\" rx=\"2\" ry=\"2\" style=\"stroke: #A80036; stroke-width: 1.0;\"/></a><!--MD5=[3f50a3473f1dfb74d3f76443e03635af]\n",
       "reverse link E6 to E7--><a href=\"psysml:c471fe89-f766-40f3-82e0-5e28332f3a67\" target=\"_top\" title=\"psysml:c471fe89-f766-40f3-82e0-5e28332f3a67\" xlink:actuate=\"onRequest\" xlink:href=\"psysml:c471fe89-f766-40f3-82e0-5e28332f3a67\" xlink:show=\"new\" xlink:title=\"psysml:c471fe89-f766-40f3-82e0-5e28332f3a67\" xlink:type=\"simple\"><path d=\"M115.19,510.9 C103,529.26 89.67,549.34 79.81,564.19 \" fill=\"none\" id=\"E6&lt;-E7\" style=\"stroke: #A80036; stroke-width: 1.0;\"/><polygon fill=\"#A80036\" points=\"122.4,500.05,115.7495,502.8377,115.7649,510.0488,122.4154,507.2611,122.4,500.05\" style=\"stroke: #A80036; stroke-width: 1.0;\"/></a><!--MD5=[14ccda38c055a5c0da953d572bc50960]\n",
       "link E7 to E3--><a href=\"psysml:ce24e444-eb42-4eaa-91b0-86c1efe7ffc5\" target=\"_top\" title=\"psysml:ce24e444-eb42-4eaa-91b0-86c1efe7ffc5\" xlink:actuate=\"onRequest\" xlink:href=\"psysml:ce24e444-eb42-4eaa-91b0-86c1efe7ffc5\" xlink:show=\"new\" xlink:title=\"psysml:ce24e444-eb42-4eaa-91b0-86c1efe7ffc5\" xlink:type=\"simple\"><path d=\"M61.85,564.46 C55.72,518.43 43.41,408.75 51,317 C52.55,298.29 55.5,278.02 58.63,259.84 \" fill=\"none\" id=\"E7-&gt;E3\" style=\"stroke: #A80036; stroke-width: 1.0;\"/><polygon fill=\"#FFFFFF\" points=\"62.24,240.03,65.7193,259.9773,51.9463,257.4667,62.24,240.03\" style=\"stroke: #A80036; stroke-width: 1.0;\"/><ellipse cx=\"62.7296\" cy=\"265.2262\" fill=\"#A80036\" rx=\"2\" ry=\"2\" style=\"stroke: #A80036; stroke-width: 1.0;\"/><ellipse cx=\"52.8917\" cy=\"263.433\" fill=\"#A80036\" rx=\"2\" ry=\"2\" style=\"stroke: #A80036; stroke-width: 1.0;\"/></a><!--MD5=[e88d06e5a652d73a6b19930eefe025a8]\n",
       "reverse link E6 to E9--><a href=\"psysml:cabff1fd-5442-4a71-976e-341ac2e5dda1\" target=\"_top\" title=\"psysml:cabff1fd-5442-4a71-976e-341ac2e5dda1\" xlink:actuate=\"onRequest\" xlink:href=\"psysml:cabff1fd-5442-4a71-976e-341ac2e5dda1\" xlink:show=\"new\" xlink:title=\"psysml:cabff1fd-5442-4a71-976e-341ac2e5dda1\" xlink:type=\"simple\"><path d=\"M147,515.35 C147,531.08 147,547.65 147,560.83 \" fill=\"none\" id=\"E6&lt;-E9\" style=\"stroke: #A80036; stroke-width: 1.0;\"/><ellipse cx=\"147\" cy=\"508.05\" fill=\"#FFFFFF\" rx=\"8\" ry=\"8\" style=\"stroke: #A80036; stroke-width: 1.0;\"/><line style=\"stroke: #A80036; stroke-width: 1.0;\" x1=\"147\" x2=\"147\" y1=\"516.05\" y2=\"500.05\"/><line style=\"stroke: #A80036; stroke-width: 1.0;\" x1=\"139\" x2=\"155\" y1=\"508.05\" y2=\"508.05\"/></a><!--MD5=[8e04057e7b3cbc0dca4fc78ea351e2da]\n",
       "reverse link E10 to E3--><a href=\"psysml:a19db77c-da80-41d6-a5f2-85a22676bfcf\" target=\"_top\" title=\"psysml:a19db77c-da80-41d6-a5f2-85a22676bfcf\" xlink:actuate=\"onRequest\" xlink:href=\"psysml:a19db77c-da80-41d6-a5f2-85a22676bfcf\" xlink:show=\"new\" xlink:title=\"psysml:a19db77c-da80-41d6-a5f2-85a22676bfcf\" xlink:type=\"simple\"><path d=\"M133.33,76.35 C111.95,84.13 88.32,96.81 75,117 C66.07,130.53 63.94,148.12 64.4,163.71 \" fill=\"none\" id=\"E10&lt;-E3\" style=\"stroke: #A80036; stroke-width: 1.0;\"/><polygon fill=\"#FFFFFF\" points=\"145.89,72.22,138.939,70.3009,134.494,75.9791,141.445,77.8982,145.89,72.22\" style=\"stroke: #A80036; stroke-width: 1.0;\"/><text fill=\"#000000\" font-family=\"sans-serif\" font-size=\"13\" lengthAdjust=\"spacingAndGlyphs\" textLength=\"7\" x=\"76\" y=\"130.0669\">y</text></a><!--MD5=[8e04057e7b3cbc0dca4fc78ea351e2da]\n",
       "reverse link E10 to E3--><a href=\"psysml:a19db77c-da80-41d6-a5f2-85a22676bfcf\" target=\"_top\" title=\"psysml:a19db77c-da80-41d6-a5f2-85a22676bfcf\" xlink:actuate=\"onRequest\" xlink:href=\"psysml:a19db77c-da80-41d6-a5f2-85a22676bfcf\" xlink:show=\"new\" xlink:title=\"psysml:a19db77c-da80-41d6-a5f2-85a22676bfcf\" xlink:type=\"simple\"><path d=\"M143.35,96.28 C136.62,102.85 129.86,109.93 124,117 C112.05,131.41 100.57,148.61 91.29,163.69 \" fill=\"none\" id=\"E10&lt;-E3-1\" style=\"stroke: #A80036; stroke-width: 1.0;\"/><polygon fill=\"#FFFFFF\" points=\"153.08,87.1,145.9702,88.3047,144.3478,95.331,151.4576,94.1262,153.08,87.1\" style=\"stroke: #A80036; stroke-width: 1.0;\"/><text fill=\"#000000\" font-family=\"sans-serif\" font-size=\"13\" lengthAdjust=\"spacingAndGlyphs\" textLength=\"7\" x=\"125\" y=\"130.0669\">y</text></a><!--MD5=[8e04057e7b3cbc0dca4fc78ea351e2da]\n",
       "reverse link E10 to E3--><a href=\"psysml:a19db77c-da80-41d6-a5f2-85a22676bfcf\" target=\"_top\" title=\"psysml:a19db77c-da80-41d6-a5f2-85a22676bfcf\" xlink:actuate=\"onRequest\" xlink:href=\"psysml:a19db77c-da80-41d6-a5f2-85a22676bfcf\" xlink:show=\"new\" xlink:title=\"psysml:a19db77c-da80-41d6-a5f2-85a22676bfcf\" xlink:type=\"simple\"><path d=\"M158.49,98.17 C150.89,109.8 141.93,122.76 133,134 C123.86,145.5 113.16,157.39 103.19,167.9 \" fill=\"none\" id=\"E10&lt;-E3-2\" style=\"stroke: #A80036; stroke-width: 1.0;\"/><polygon fill=\"#FFFFFF\" points=\"165.6,87.1,158.9946,89.9928,159.1242,97.2027,165.7297,94.3099,165.6,87.1\" style=\"stroke: #A80036; stroke-width: 1.0;\"/><text fill=\"#000000\" font-family=\"sans-serif\" font-size=\"13\" lengthAdjust=\"spacingAndGlyphs\" textLength=\"7\" x=\"146\" y=\"130.0669\">y</text></a><!--MD5=[604cbf994c02b74b117f728a71673cea]\n",
       "reverse link E10 to E6--><a href=\"psysml:a19db77c-da80-41d6-a5f2-85a22676bfcf\" target=\"_top\" title=\"psysml:a19db77c-da80-41d6-a5f2-85a22676bfcf\" xlink:actuate=\"onRequest\" xlink:href=\"psysml:a19db77c-da80-41d6-a5f2-85a22676bfcf\" xlink:show=\"new\" xlink:title=\"psysml:a19db77c-da80-41d6-a5f2-85a22676bfcf\" xlink:type=\"simple\"><path d=\"M197.26,99.16 C199.64,104.97 201.69,111.05 203,117 C204.62,124.38 203.15,126.45 203,134 C200.78,249.62 229.38,284.23 193,394 C189.58,404.31 184.06,414.48 178.01,423.66 \" fill=\"none\" id=\"E10&lt;-E6\" style=\"stroke: #A80036; stroke-width: 1.0;\"/><polygon fill=\"#FFFFFF\" points=\"191.73,87.03,190.583,94.1493,196.7135,97.9463,197.8605,90.827,191.73,87.03\" style=\"stroke: #A80036; stroke-width: 1.0;\"/><text fill=\"#000000\" font-family=\"sans-serif\" font-size=\"13\" lengthAdjust=\"spacingAndGlyphs\" textLength=\"7\" x=\"212\" y=\"283.0669\">y</text></a><!--MD5=[604cbf994c02b74b117f728a71673cea]\n",
       "reverse link E10 to E6--><a href=\"psysml:a19db77c-da80-41d6-a5f2-85a22676bfcf\" target=\"_top\" title=\"psysml:a19db77c-da80-41d6-a5f2-85a22676bfcf\" xlink:actuate=\"onRequest\" xlink:href=\"psysml:a19db77c-da80-41d6-a5f2-85a22676bfcf\" xlink:show=\"new\" xlink:title=\"psysml:a19db77c-da80-41d6-a5f2-85a22676bfcf\" xlink:type=\"simple\"><path d=\"M171.02,99.85 C168.34,110.83 165.22,122.97 162,134 C144.13,195.25 126.36,207.04 116,270 C114.77,277.46 114.57,279.58 116,287 C118.72,301.1 124.37,303.11 128,317 C137.32,352.62 142.19,394.45 144.65,423.82 \" fill=\"none\" id=\"E10&lt;-E6-1\" style=\"stroke: #A80036; stroke-width: 1.0;\"/><polygon fill=\"#FFFFFF\" points=\"174.04,87.19,168.7576,92.0987,171.257,98.8628,176.5394,93.9541,174.04,87.19\" style=\"stroke: #A80036; stroke-width: 1.0;\"/><text fill=\"#000000\" font-family=\"sans-serif\" font-size=\"13\" lengthAdjust=\"spacingAndGlyphs\" textLength=\"7\" x=\"117\" y=\"283.0669\">y</text></a><!--MD5=[604cbf994c02b74b117f728a71673cea]\n",
       "reverse link E10 to E6--><a href=\"psysml:a19db77c-da80-41d6-a5f2-85a22676bfcf\" target=\"_top\" title=\"psysml:a19db77c-da80-41d6-a5f2-85a22676bfcf\" xlink:actuate=\"onRequest\" xlink:href=\"psysml:a19db77c-da80-41d6-a5f2-85a22676bfcf\" xlink:show=\"new\" xlink:title=\"psysml:a19db77c-da80-41d6-a5f2-85a22676bfcf\" xlink:type=\"simple\"><path d=\"M176.15,100.27 C170.13,174.82 156.15,347.78 150,423.9 \" fill=\"none\" id=\"E10&lt;-E6-2\" style=\"stroke: #A80036; stroke-width: 1.0;\"/><polygon fill=\"#FFFFFF\" points=\"177.21,87.14,172.7415,92.7998,176.2473,99.1013,180.7158,93.4416,177.21,87.14\" style=\"stroke: #A80036; stroke-width: 1.0;\"/><text fill=\"#000000\" font-family=\"sans-serif\" font-size=\"13\" lengthAdjust=\"spacingAndGlyphs\" textLength=\"7\" x=\"163\" y=\"283.0669\">y</text></a><!--MD5=[bfea5b97cc0986db8f650391a29769b4]\n",
       "@startuml\r\n",
       "skinparam wrapWidth 300\r\n",
       "hide circle\r\n",
       "\r\n",
       "package \"PartTest\" as E1  [[psysml:c65cc0cd-28b1-4d7a-bc05-02136890ed9a ]]  {\r\n",
       "comp usage \"f: A\" as E2  <<(T,blue)part>> [[psysml:634826b2-2fc2-4798-92ed-071cd1dffdd8 ]] {\r\n",
       "}\r\n",
       "comp def \"A\" as E3  <<(T,blue)part def>> [[psysml:36aba5eb-a810-4976-a211-fcdfb7b330f5 ]] {\r\n",
       "- - ports - -\r\n",
       "c: C\r\n",
       "}\r\n",
       "comp usage \"b: B\" as E4  <<(T,blue)part>> [[psysml:b5150c44-d935-4f31-a69b-527c90fd7c47 ]] {\r\n",
       "}\r\n",
       "comp def \"B\" as E6  <<(T,blue)part def>> [[psysml:94fb1c4b-8096-4b0e-a0c8-00d5fe55de6c ]] {\r\n",
       "- - ports - -\r\n",
       "x: ~C\r\n",
       "}\r\n",
       "comp usage \"a: A\" as E7  <<(T,blue)part>> [[psysml:de084c60-8c86-4761-a316-7296396fb321 ]] {\r\n",
       "}\r\n",
       "package \"P\" as E9  [[psysml:4c76b494-1a6c-482d-b35c-aa72d24bc41e ]]  {\r\n",
       "}\r\n",
       "comp def \"C\" as E10  <<(T,blue)port def>> [[psysml:4c8e1ce2-7f9a-4661-9090-c510b6f01354 ]] {\r\n",
       "}\r\n",
       "E2 - -:|> E3 [[psysml:38cdc859-4dfa-4bc4-87cd-169dd5acc896 ]] \r\n",
       "E3 *- - E4 [[psysml:5ebdadf2-6044-45bc-aa24-2da7c79aba16 ]] \r\n",
       "E4 - -:|> E6 [[psysml:1fd8d685-c326-41aa-b421-a8308f20148e ]] \r\n",
       "E6 *- - E7 [[psysml:c471fe89-f766-40f3-82e0-5e28332f3a67 ]] \r\n",
       "E7 - -:|> E3 [[psysml:ce24e444-eb42-4eaa-91b0-86c1efe7ffc5 ]] \r\n",
       "E6 +- - E9 [[psysml:cabff1fd-5442-4a71-976e-341ac2e5dda1 ]] \r\n",
       "E10 o- - E3 [[psysml:a19db77c-da80-41d6-a5f2-85a22676bfcf ]] : y\r\n",
       "E10 o- - E6 [[psysml:a19db77c-da80-41d6-a5f2-85a22676bfcf ]] : y\r\n",
       "E10 o- - E3 [[psysml:a19db77c-da80-41d6-a5f2-85a22676bfcf ]] : y\r\n",
       "E10 o- - E6 [[psysml:a19db77c-da80-41d6-a5f2-85a22676bfcf ]] : y\r\n",
       "E10 o- - E3 [[psysml:a19db77c-da80-41d6-a5f2-85a22676bfcf ]] : y\r\n",
       "E10 o- - E6 [[psysml:a19db77c-da80-41d6-a5f2-85a22676bfcf ]] : y\r\n",
       "}\r\n",
       "@enduml\r\n",
       "\n",
       "PlantUML version 1.2020.13(Sat Jun 13 12:26:38 UTC 2020)\n",
       "(EPL source distribution)\n",
       "Java Runtime: OpenJDK Runtime Environment\n",
       "JVM: OpenJDK 64-Bit Server VM\n",
       "Default Encoding: UTF-8\n",
       "Language: en\n",
       "Country: null\n",
       "--></g></svg>"
      ]
     },
     "execution_count": 23,
     "metadata": {},
     "output_type": "execute_result"
    }
   ],
   "source": [
    "%viz --style=\"STDCOLOR\" --view=\"Default\" \"PartTest\""
   ]
  },
  {
   "cell_type": "code",
   "execution_count": 24,
   "id": "4f3ac6e0",
   "metadata": {
    "execution": {
     "iopub.execute_input": "2021-04-20T07:29:12.960220Z",
     "iopub.status.busy": "2021-04-20T07:29:12.959617Z",
     "iopub.status.idle": "2021-04-20T07:29:13.044743Z",
     "shell.execute_reply": "2021-04-20T07:29:13.045081Z"
    }
   },
   "outputs": [
    {
     "data": {
      "image/svg+xml": [
       "<?xml version=\"1.0\" encoding=\"UTF-8\" standalone=\"no\"?><svg xmlns=\"http://www.w3.org/2000/svg\" xmlns:xlink=\"http://www.w3.org/1999/xlink\" contentScriptType=\"application/ecmascript\" contentStyleType=\"text/css\" height=\"642px\" preserveAspectRatio=\"none\" style=\"width:260px;height:642px;\" version=\"1.1\" viewBox=\"0 0 260 642\" width=\"260px\" zoomAndPan=\"magnify\"><defs><filter height=\"300%\" id=\"fsoxop7il2y3x\" width=\"300%\" x=\"-1\" y=\"-1\"><feGaussianBlur result=\"blurOut\" stdDeviation=\"2.0\"/><feColorMatrix in=\"blurOut\" result=\"blurOut2\" type=\"matrix\" values=\"0 0 0 0 0 0 0 0 0 0 0 0 0 0 0 0 0 0 .4 0\"/><feOffset dx=\"4.0\" dy=\"4.0\" in=\"blurOut2\" result=\"blurOut3\"/><feBlend in=\"SourceGraphic\" in2=\"blurOut3\" mode=\"normal\"/></filter></defs><g><!--MD5=[fbc87193dbaf4d95561dea2c320d4a47]\n",
       "cluster E1--><a href=\"psysml:c65cc0cd-28b1-4d7a-bc05-02136890ed9a\" target=\"_top\" title=\"psysml:c65cc0cd-28b1-4d7a-bc05-02136890ed9a\" xlink:actuate=\"onRequest\" xlink:href=\"psysml:c65cc0cd-28b1-4d7a-bc05-02136890ed9a\" xlink:show=\"new\" xlink:title=\"psysml:c65cc0cd-28b1-4d7a-bc05-02136890ed9a\" xlink:type=\"simple\"><polygon fill=\"#FFFFFF\" filter=\"url(#fsoxop7il2y3x)\" points=\"16,6,89,6,96,28.2969,238,28.2969,238,630,16,630,16,6\" style=\"stroke: #000000; stroke-width: 1.5;\"/><line style=\"stroke: #000000; stroke-width: 1.5;\" x1=\"16\" x2=\"96\" y1=\"28.2969\" y2=\"28.2969\"/><text fill=\"#000000\" font-family=\"sans-serif\" font-size=\"14\" font-weight=\"bold\" lengthAdjust=\"spacingAndGlyphs\" textLength=\"67\" x=\"20\" y=\"20.9951\">PartTest</text></a><!--MD5=[b4997ac47864f28c2f74865a473b2911]\n",
       "class E2--><a href=\"psysml:634826b2-2fc2-4798-92ed-071cd1dffdd8\" target=\"_top\" title=\"psysml:634826b2-2fc2-4798-92ed-071cd1dffdd8\" xlink:actuate=\"onRequest\" xlink:href=\"psysml:634826b2-2fc2-4798-92ed-071cd1dffdd8\" xlink:show=\"new\" xlink:title=\"psysml:634826b2-2fc2-4798-92ed-071cd1dffdd8\" xlink:type=\"simple\"><rect fill=\"#FEFECE\" filter=\"url(#fsoxop7il2y3x)\" height=\"45.9375\" id=\"E2\" rx=\"10\" ry=\"10\" style=\"stroke: #A80036; stroke-width: 1.5;\" width=\"42\" x=\"32\" y=\"41\"/><text fill=\"#000000\" font-family=\"sans-serif\" font-size=\"12\" font-style=\"italic\" lengthAdjust=\"spacingAndGlyphs\" textLength=\"40\" x=\"33\" y=\"57.1387\">«part»</text><text fill=\"#000000\" font-family=\"sans-serif\" font-size=\"12\" lengthAdjust=\"spacingAndGlyphs\" textLength=\"20\" x=\"43\" y=\"71.1074\">f: A</text><line style=\"stroke: #A80036; stroke-width: 1.5;\" x1=\"33\" x2=\"73\" y1=\"78.9375\" y2=\"78.9375\"/></a><!--MD5=[09b614a08d8cba4a07c9adeb5e0fee81]\n",
       "class E3--><a href=\"psysml:36aba5eb-a810-4976-a211-fcdfb7b330f5\" target=\"_top\" title=\"psysml:36aba5eb-a810-4976-a211-fcdfb7b330f5\" xlink:actuate=\"onRequest\" xlink:href=\"psysml:36aba5eb-a810-4976-a211-fcdfb7b330f5\" xlink:show=\"new\" xlink:title=\"psysml:36aba5eb-a810-4976-a211-fcdfb7b330f5\" xlink:type=\"simple\"><rect fill=\"#FEFECE\" filter=\"url(#fsoxop7il2y3x)\" height=\"75.5469\" id=\"E3\" style=\"stroke: #A80036; stroke-width: 1.5;\" width=\"66\" x=\"37\" y=\"164\"/><text fill=\"#000000\" font-family=\"sans-serif\" font-size=\"12\" font-style=\"italic\" lengthAdjust=\"spacingAndGlyphs\" textLength=\"64\" x=\"38\" y=\"180.1387\">«part def»</text><text fill=\"#000000\" font-family=\"sans-serif\" font-size=\"12\" lengthAdjust=\"spacingAndGlyphs\" textLength=\"8\" x=\"66\" y=\"194.1074\">A</text><line style=\"stroke: #A80036; stroke-width: 1.5;\" x1=\"38\" x2=\"102\" y1=\"201.9375\" y2=\"201.9375\"/><text fill=\"#000000\" font-family=\"sans-serif\" font-size=\"11\" lengthAdjust=\"spacingAndGlyphs\" textLength=\"22\" x=\"43\" y=\"232.9526\">c: C</text><line style=\"stroke: #A80036; stroke-width: 1.0;\" x1=\"38\" x2=\"55\" y1=\"216.3398\" y2=\"216.3398\"/><text fill=\"#000000\" font-family=\"sans-serif\" font-size=\"11\" lengthAdjust=\"spacingAndGlyphs\" textLength=\"30\" x=\"55\" y=\"219.6479\">ports</text><line style=\"stroke: #A80036; stroke-width: 1.0;\" x1=\"85\" x2=\"102\" y1=\"216.3398\" y2=\"216.3398\"/></a><!--MD5=[ebbe1d658d1005bcc118a6aa81145e00]\n",
       "class E4--><a href=\"psysml:b5150c44-d935-4f31-a69b-527c90fd7c47\" target=\"_top\" title=\"psysml:b5150c44-d935-4f31-a69b-527c90fd7c47\" xlink:actuate=\"onRequest\" xlink:href=\"psysml:b5150c44-d935-4f31-a69b-527c90fd7c47\" xlink:show=\"new\" xlink:title=\"psysml:b5150c44-d935-4f31-a69b-527c90fd7c47\" xlink:type=\"simple\"><rect fill=\"#FEFECE\" filter=\"url(#fsoxop7il2y3x)\" height=\"45.9375\" id=\"E4\" rx=\"10\" ry=\"10\" style=\"stroke: #A80036; stroke-width: 1.5;\" width=\"42\" x=\"69\" y=\"317\"/><text fill=\"#000000\" font-family=\"sans-serif\" font-size=\"12\" font-style=\"italic\" lengthAdjust=\"spacingAndGlyphs\" textLength=\"40\" x=\"70\" y=\"333.1387\">«part»</text><text fill=\"#000000\" font-family=\"sans-serif\" font-size=\"12\" lengthAdjust=\"spacingAndGlyphs\" textLength=\"24\" x=\"78\" y=\"347.1074\">b: B</text><line style=\"stroke: #A80036; stroke-width: 1.5;\" x1=\"70\" x2=\"110\" y1=\"354.9375\" y2=\"354.9375\"/></a><!--MD5=[60a26617385b1d2d0262a64233df1f8d]\n",
       "class E6--><a href=\"psysml:94fb1c4b-8096-4b0e-a0c8-00d5fe55de6c\" target=\"_top\" title=\"psysml:94fb1c4b-8096-4b0e-a0c8-00d5fe55de6c\" xlink:actuate=\"onRequest\" xlink:href=\"psysml:94fb1c4b-8096-4b0e-a0c8-00d5fe55de6c\" xlink:show=\"new\" xlink:title=\"psysml:94fb1c4b-8096-4b0e-a0c8-00d5fe55de6c\" xlink:type=\"simple\"><rect fill=\"#FEFECE\" filter=\"url(#fsoxop7il2y3x)\" height=\"75.5469\" id=\"E6\" style=\"stroke: #A80036; stroke-width: 1.5;\" width=\"66\" x=\"114\" y=\"424\"/><text fill=\"#000000\" font-family=\"sans-serif\" font-size=\"12\" font-style=\"italic\" lengthAdjust=\"spacingAndGlyphs\" textLength=\"64\" x=\"115\" y=\"440.1387\">«part def»</text><text fill=\"#000000\" font-family=\"sans-serif\" font-size=\"12\" lengthAdjust=\"spacingAndGlyphs\" textLength=\"8\" x=\"143\" y=\"454.1074\">B</text><line style=\"stroke: #A80036; stroke-width: 1.5;\" x1=\"115\" x2=\"179\" y1=\"461.9375\" y2=\"461.9375\"/><text fill=\"#000000\" font-family=\"sans-serif\" font-size=\"11\" lengthAdjust=\"spacingAndGlyphs\" textLength=\"31\" x=\"120\" y=\"492.9526\">x: ~C</text><line style=\"stroke: #A80036; stroke-width: 1.0;\" x1=\"115\" x2=\"132\" y1=\"476.3398\" y2=\"476.3398\"/><text fill=\"#000000\" font-family=\"sans-serif\" font-size=\"11\" lengthAdjust=\"spacingAndGlyphs\" textLength=\"30\" x=\"132\" y=\"479.6479\">ports</text><line style=\"stroke: #A80036; stroke-width: 1.0;\" x1=\"162\" x2=\"179\" y1=\"476.3398\" y2=\"476.3398\"/></a><!--MD5=[2156ba9850f5573cc1fc38a6a4b2f02b]\n",
       "class E7--><a href=\"psysml:de084c60-8c86-4761-a316-7296396fb321\" target=\"_top\" title=\"psysml:de084c60-8c86-4761-a316-7296396fb321\" xlink:actuate=\"onRequest\" xlink:href=\"psysml:de084c60-8c86-4761-a316-7296396fb321\" xlink:show=\"new\" xlink:title=\"psysml:de084c60-8c86-4761-a316-7296396fb321\" xlink:type=\"simple\"><rect fill=\"#FEFECE\" filter=\"url(#fsoxop7il2y3x)\" height=\"45.9375\" id=\"E7\" rx=\"10\" ry=\"10\" style=\"stroke: #A80036; stroke-width: 1.5;\" width=\"42\" x=\"44\" y=\"564.5\"/><text fill=\"#000000\" font-family=\"sans-serif\" font-size=\"12\" font-style=\"italic\" lengthAdjust=\"spacingAndGlyphs\" textLength=\"40\" x=\"45\" y=\"580.6387\">«part»</text><text fill=\"#000000\" font-family=\"sans-serif\" font-size=\"12\" lengthAdjust=\"spacingAndGlyphs\" textLength=\"24\" x=\"53\" y=\"594.6074\">a: A</text><line style=\"stroke: #A80036; stroke-width: 1.5;\" x1=\"45\" x2=\"85\" y1=\"602.4375\" y2=\"602.4375\"/></a><!--MD5=[96f4274e9e20536e775497830990834d]\n",
       "class E10--><a href=\"psysml:4c8e1ce2-7f9a-4661-9090-c510b6f01354\" target=\"_top\" title=\"psysml:4c8e1ce2-7f9a-4661-9090-c510b6f01354\" xlink:actuate=\"onRequest\" xlink:href=\"psysml:4c8e1ce2-7f9a-4661-9090-c510b6f01354\" xlink:show=\"new\" xlink:title=\"psysml:4c8e1ce2-7f9a-4661-9090-c510b6f01354\" xlink:type=\"simple\"><rect fill=\"#FEFECE\" filter=\"url(#fsoxop7il2y3x)\" height=\"45.9375\" id=\"E10\" style=\"stroke: #A80036; stroke-width: 1.5;\" width=\"66\" x=\"146\" y=\"41\"/><text fill=\"#000000\" font-family=\"sans-serif\" font-size=\"12\" font-style=\"italic\" lengthAdjust=\"spacingAndGlyphs\" textLength=\"64\" x=\"147\" y=\"57.1387\">«port def»</text><text fill=\"#000000\" font-family=\"sans-serif\" font-size=\"12\" lengthAdjust=\"spacingAndGlyphs\" textLength=\"8\" x=\"175\" y=\"71.1074\">C</text><line style=\"stroke: #A80036; stroke-width: 1.5;\" x1=\"147\" x2=\"211\" y1=\"78.9375\" y2=\"78.9375\"/></a><a href=\"psysml:4c76b494-1a6c-482d-b35c-aa72d24bc41e\" target=\"_top\" title=\"psysml:4c76b494-1a6c-482d-b35c-aa72d24bc41e\" xlink:actuate=\"onRequest\" xlink:href=\"psysml:4c76b494-1a6c-482d-b35c-aa72d24bc41e\" xlink:show=\"new\" xlink:title=\"psysml:4c76b494-1a6c-482d-b35c-aa72d24bc41e\" xlink:type=\"simple\"><polygon fill=\"#FFFFFF\" filter=\"url(#fsoxop7il2y3x)\" points=\"132,561,148,561,155,583.2969,162,583.2969,162,613.5938,132,613.5938,132,561\" style=\"stroke: #000000; stroke-width: 1.5;\"/><line style=\"stroke: #000000; stroke-width: 1.5;\" x1=\"132\" x2=\"155\" y1=\"583.2969\" y2=\"583.2969\"/><text fill=\"#000000\" font-family=\"sans-serif\" font-size=\"14\" font-weight=\"bold\" lengthAdjust=\"spacingAndGlyphs\" textLength=\"10\" x=\"136\" y=\"575.9951\">P</text></a><!--MD5=[2720a5a1f2c3fca2055b230370638851]\n",
       "link E2 to E3--><a href=\"psysml:38cdc859-4dfa-4bc4-87cd-169dd5acc896\" target=\"_top\" title=\"psysml:38cdc859-4dfa-4bc4-87cd-169dd5acc896\" xlink:actuate=\"onRequest\" xlink:href=\"psysml:38cdc859-4dfa-4bc4-87cd-169dd5acc896\" xlink:show=\"new\" xlink:title=\"psysml:38cdc859-4dfa-4bc4-87cd-169dd5acc896\" xlink:type=\"simple\"><path d=\"M43.23,87.08 C38.46,100.64 34.45,118.34 38,134 C38.82,137.61 39.86,141.26 41.06,144.89 \" fill=\"none\" id=\"E2-&gt;E3\" style=\"stroke: #A80036; stroke-width: 1.0;\"/><polygon fill=\"#FFFFFF\" points=\"48.65,163.8,35.0703,148.7803,48.0607,143.5601,48.65,163.8\" style=\"stroke: #A80036; stroke-width: 1.0;\"/><ellipse cx=\"34.8007\" cy=\"142.7456\" fill=\"#A80036\" rx=\"2\" ry=\"2\" style=\"stroke: #A80036; stroke-width: 1.0;\"/><ellipse cx=\"44.0796\" cy=\"139.0169\" fill=\"#A80036\" rx=\"2\" ry=\"2\" style=\"stroke: #A80036; stroke-width: 1.0;\"/></a><!--MD5=[4672eba38e49728da53d11aeb285b987]\n",
       "reverse link E3 to E4--><a href=\"psysml:5ebdadf2-6044-45bc-aa24-2da7c79aba16\" target=\"_top\" title=\"psysml:5ebdadf2-6044-45bc-aa24-2da7c79aba16\" xlink:actuate=\"onRequest\" xlink:href=\"psysml:5ebdadf2-6044-45bc-aa24-2da7c79aba16\" xlink:show=\"new\" xlink:title=\"psysml:5ebdadf2-6044-45bc-aa24-2da7c79aba16\" xlink:type=\"simple\"><path d=\"M72.88,253.51 C73.88,264.59 75.22,276.22 77,287 C78.64,296.92 81.21,307.72 83.63,316.9 \" fill=\"none\" id=\"E3&lt;-E4\" style=\"stroke: #A80036; stroke-width: 1.0;\"/><polygon fill=\"#A80036\" points=\"71.81,240.38,68.3042,246.6816,72.7727,252.3413,76.2785,246.0398,71.81,240.38\" style=\"stroke: #A80036; stroke-width: 1.0;\"/></a><!--MD5=[79568f1e445c3877b6a54524624ccc7d]\n",
       "link E4 to E6--><a href=\"psysml:1fd8d685-c326-41aa-b421-a8308f20148e\" target=\"_top\" title=\"psysml:1fd8d685-c326-41aa-b421-a8308f20148e\" xlink:actuate=\"onRequest\" xlink:href=\"psysml:1fd8d685-c326-41aa-b421-a8308f20148e\" xlink:show=\"new\" xlink:title=\"psysml:1fd8d685-c326-41aa-b421-a8308f20148e\" xlink:type=\"simple\"><path d=\"M100.45,363.01 C106.1,374.9 113.36,390.18 120.46,405.12 \" fill=\"none\" id=\"E4-&gt;E6\" style=\"stroke: #A80036; stroke-width: 1.0;\"/><polygon fill=\"#FFFFFF\" points=\"129.22,423.57,114.7395,409.4167,127.3831,403.405,129.22,423.57\" style=\"stroke: #A80036; stroke-width: 1.0;\"/><ellipse cx=\"114.0981\" cy=\"403.4102\" fill=\"#A80036\" rx=\"2\" ry=\"2\" style=\"stroke: #A80036; stroke-width: 1.0;\"/><ellipse cx=\"123.1292\" cy=\"399.1161\" fill=\"#A80036\" rx=\"2\" ry=\"2\" style=\"stroke: #A80036; stroke-width: 1.0;\"/></a><!--MD5=[3f50a3473f1dfb74d3f76443e03635af]\n",
       "reverse link E6 to E7--><a href=\"psysml:c471fe89-f766-40f3-82e0-5e28332f3a67\" target=\"_top\" title=\"psysml:c471fe89-f766-40f3-82e0-5e28332f3a67\" xlink:actuate=\"onRequest\" xlink:href=\"psysml:c471fe89-f766-40f3-82e0-5e28332f3a67\" xlink:show=\"new\" xlink:title=\"psysml:c471fe89-f766-40f3-82e0-5e28332f3a67\" xlink:type=\"simple\"><path d=\"M115.19,510.9 C103,529.26 89.67,549.34 79.81,564.19 \" fill=\"none\" id=\"E6&lt;-E7\" style=\"stroke: #A80036; stroke-width: 1.0;\"/><polygon fill=\"#A80036\" points=\"122.4,500.05,115.7495,502.8377,115.7649,510.0488,122.4154,507.2611,122.4,500.05\" style=\"stroke: #A80036; stroke-width: 1.0;\"/></a><!--MD5=[14ccda38c055a5c0da953d572bc50960]\n",
       "link E7 to E3--><a href=\"psysml:ce24e444-eb42-4eaa-91b0-86c1efe7ffc5\" target=\"_top\" title=\"psysml:ce24e444-eb42-4eaa-91b0-86c1efe7ffc5\" xlink:actuate=\"onRequest\" xlink:href=\"psysml:ce24e444-eb42-4eaa-91b0-86c1efe7ffc5\" xlink:show=\"new\" xlink:title=\"psysml:ce24e444-eb42-4eaa-91b0-86c1efe7ffc5\" xlink:type=\"simple\"><path d=\"M61.85,564.46 C55.72,518.43 43.41,408.75 51,317 C52.55,298.29 55.5,278.02 58.63,259.84 \" fill=\"none\" id=\"E7-&gt;E3\" style=\"stroke: #A80036; stroke-width: 1.0;\"/><polygon fill=\"#FFFFFF\" points=\"62.24,240.03,65.7193,259.9773,51.9463,257.4667,62.24,240.03\" style=\"stroke: #A80036; stroke-width: 1.0;\"/><ellipse cx=\"62.7296\" cy=\"265.2262\" fill=\"#A80036\" rx=\"2\" ry=\"2\" style=\"stroke: #A80036; stroke-width: 1.0;\"/><ellipse cx=\"52.8917\" cy=\"263.433\" fill=\"#A80036\" rx=\"2\" ry=\"2\" style=\"stroke: #A80036; stroke-width: 1.0;\"/></a><!--MD5=[e88d06e5a652d73a6b19930eefe025a8]\n",
       "reverse link E6 to E9--><a href=\"psysml:cabff1fd-5442-4a71-976e-341ac2e5dda1\" target=\"_top\" title=\"psysml:cabff1fd-5442-4a71-976e-341ac2e5dda1\" xlink:actuate=\"onRequest\" xlink:href=\"psysml:cabff1fd-5442-4a71-976e-341ac2e5dda1\" xlink:show=\"new\" xlink:title=\"psysml:cabff1fd-5442-4a71-976e-341ac2e5dda1\" xlink:type=\"simple\"><path d=\"M147,515.35 C147,531.08 147,547.65 147,560.83 \" fill=\"none\" id=\"E6&lt;-E9\" style=\"stroke: #A80036; stroke-width: 1.0;\"/><ellipse cx=\"147\" cy=\"508.05\" fill=\"#FFFFFF\" rx=\"8\" ry=\"8\" style=\"stroke: #A80036; stroke-width: 1.0;\"/><line style=\"stroke: #A80036; stroke-width: 1.0;\" x1=\"147\" x2=\"147\" y1=\"516.05\" y2=\"500.05\"/><line style=\"stroke: #A80036; stroke-width: 1.0;\" x1=\"139\" x2=\"155\" y1=\"508.05\" y2=\"508.05\"/></a><!--MD5=[8e04057e7b3cbc0dca4fc78ea351e2da]\n",
       "reverse link E10 to E3--><a href=\"psysml:a19db77c-da80-41d6-a5f2-85a22676bfcf\" target=\"_top\" title=\"psysml:a19db77c-da80-41d6-a5f2-85a22676bfcf\" xlink:actuate=\"onRequest\" xlink:href=\"psysml:a19db77c-da80-41d6-a5f2-85a22676bfcf\" xlink:show=\"new\" xlink:title=\"psysml:a19db77c-da80-41d6-a5f2-85a22676bfcf\" xlink:type=\"simple\"><path d=\"M133.33,76.35 C111.95,84.13 88.32,96.81 75,117 C66.07,130.53 63.94,148.12 64.4,163.71 \" fill=\"none\" id=\"E10&lt;-E3\" style=\"stroke: #A80036; stroke-width: 1.0;\"/><polygon fill=\"#FFFFFF\" points=\"145.89,72.22,138.939,70.3009,134.494,75.9791,141.445,77.8982,145.89,72.22\" style=\"stroke: #A80036; stroke-width: 1.0;\"/><text fill=\"#000000\" font-family=\"sans-serif\" font-size=\"13\" lengthAdjust=\"spacingAndGlyphs\" textLength=\"7\" x=\"76\" y=\"130.0669\">y</text></a><!--MD5=[8e04057e7b3cbc0dca4fc78ea351e2da]\n",
       "reverse link E10 to E3--><a href=\"psysml:a19db77c-da80-41d6-a5f2-85a22676bfcf\" target=\"_top\" title=\"psysml:a19db77c-da80-41d6-a5f2-85a22676bfcf\" xlink:actuate=\"onRequest\" xlink:href=\"psysml:a19db77c-da80-41d6-a5f2-85a22676bfcf\" xlink:show=\"new\" xlink:title=\"psysml:a19db77c-da80-41d6-a5f2-85a22676bfcf\" xlink:type=\"simple\"><path d=\"M143.35,96.28 C136.62,102.85 129.86,109.93 124,117 C112.05,131.41 100.57,148.61 91.29,163.69 \" fill=\"none\" id=\"E10&lt;-E3-1\" style=\"stroke: #A80036; stroke-width: 1.0;\"/><polygon fill=\"#FFFFFF\" points=\"153.08,87.1,145.9702,88.3047,144.3478,95.331,151.4576,94.1262,153.08,87.1\" style=\"stroke: #A80036; stroke-width: 1.0;\"/><text fill=\"#000000\" font-family=\"sans-serif\" font-size=\"13\" lengthAdjust=\"spacingAndGlyphs\" textLength=\"7\" x=\"125\" y=\"130.0669\">y</text></a><!--MD5=[8e04057e7b3cbc0dca4fc78ea351e2da]\n",
       "reverse link E10 to E3--><a href=\"psysml:a19db77c-da80-41d6-a5f2-85a22676bfcf\" target=\"_top\" title=\"psysml:a19db77c-da80-41d6-a5f2-85a22676bfcf\" xlink:actuate=\"onRequest\" xlink:href=\"psysml:a19db77c-da80-41d6-a5f2-85a22676bfcf\" xlink:show=\"new\" xlink:title=\"psysml:a19db77c-da80-41d6-a5f2-85a22676bfcf\" xlink:type=\"simple\"><path d=\"M158.49,98.17 C150.89,109.8 141.93,122.76 133,134 C123.86,145.5 113.16,157.39 103.19,167.9 \" fill=\"none\" id=\"E10&lt;-E3-2\" style=\"stroke: #A80036; stroke-width: 1.0;\"/><polygon fill=\"#FFFFFF\" points=\"165.6,87.1,158.9946,89.9928,159.1242,97.2027,165.7297,94.3099,165.6,87.1\" style=\"stroke: #A80036; stroke-width: 1.0;\"/><text fill=\"#000000\" font-family=\"sans-serif\" font-size=\"13\" lengthAdjust=\"spacingAndGlyphs\" textLength=\"7\" x=\"146\" y=\"130.0669\">y</text></a><!--MD5=[604cbf994c02b74b117f728a71673cea]\n",
       "reverse link E10 to E6--><a href=\"psysml:a19db77c-da80-41d6-a5f2-85a22676bfcf\" target=\"_top\" title=\"psysml:a19db77c-da80-41d6-a5f2-85a22676bfcf\" xlink:actuate=\"onRequest\" xlink:href=\"psysml:a19db77c-da80-41d6-a5f2-85a22676bfcf\" xlink:show=\"new\" xlink:title=\"psysml:a19db77c-da80-41d6-a5f2-85a22676bfcf\" xlink:type=\"simple\"><path d=\"M197.26,99.16 C199.64,104.97 201.69,111.05 203,117 C204.62,124.38 203.15,126.45 203,134 C200.78,249.62 229.38,284.23 193,394 C189.58,404.31 184.06,414.48 178.01,423.66 \" fill=\"none\" id=\"E10&lt;-E6\" style=\"stroke: #A80036; stroke-width: 1.0;\"/><polygon fill=\"#FFFFFF\" points=\"191.73,87.03,190.583,94.1493,196.7135,97.9463,197.8605,90.827,191.73,87.03\" style=\"stroke: #A80036; stroke-width: 1.0;\"/><text fill=\"#000000\" font-family=\"sans-serif\" font-size=\"13\" lengthAdjust=\"spacingAndGlyphs\" textLength=\"7\" x=\"212\" y=\"283.0669\">y</text></a><!--MD5=[604cbf994c02b74b117f728a71673cea]\n",
       "reverse link E10 to E6--><a href=\"psysml:a19db77c-da80-41d6-a5f2-85a22676bfcf\" target=\"_top\" title=\"psysml:a19db77c-da80-41d6-a5f2-85a22676bfcf\" xlink:actuate=\"onRequest\" xlink:href=\"psysml:a19db77c-da80-41d6-a5f2-85a22676bfcf\" xlink:show=\"new\" xlink:title=\"psysml:a19db77c-da80-41d6-a5f2-85a22676bfcf\" xlink:type=\"simple\"><path d=\"M171.02,99.85 C168.34,110.83 165.22,122.97 162,134 C144.13,195.25 126.36,207.04 116,270 C114.77,277.46 114.57,279.58 116,287 C118.72,301.1 124.37,303.11 128,317 C137.32,352.62 142.19,394.45 144.65,423.82 \" fill=\"none\" id=\"E10&lt;-E6-1\" style=\"stroke: #A80036; stroke-width: 1.0;\"/><polygon fill=\"#FFFFFF\" points=\"174.04,87.19,168.7576,92.0987,171.257,98.8628,176.5394,93.9541,174.04,87.19\" style=\"stroke: #A80036; stroke-width: 1.0;\"/><text fill=\"#000000\" font-family=\"sans-serif\" font-size=\"13\" lengthAdjust=\"spacingAndGlyphs\" textLength=\"7\" x=\"117\" y=\"283.0669\">y</text></a><!--MD5=[604cbf994c02b74b117f728a71673cea]\n",
       "reverse link E10 to E6--><a href=\"psysml:a19db77c-da80-41d6-a5f2-85a22676bfcf\" target=\"_top\" title=\"psysml:a19db77c-da80-41d6-a5f2-85a22676bfcf\" xlink:actuate=\"onRequest\" xlink:href=\"psysml:a19db77c-da80-41d6-a5f2-85a22676bfcf\" xlink:show=\"new\" xlink:title=\"psysml:a19db77c-da80-41d6-a5f2-85a22676bfcf\" xlink:type=\"simple\"><path d=\"M176.15,100.27 C170.13,174.82 156.15,347.78 150,423.9 \" fill=\"none\" id=\"E10&lt;-E6-2\" style=\"stroke: #A80036; stroke-width: 1.0;\"/><polygon fill=\"#FFFFFF\" points=\"177.21,87.14,172.7415,92.7998,176.2473,99.1013,180.7158,93.4416,177.21,87.14\" style=\"stroke: #A80036; stroke-width: 1.0;\"/><text fill=\"#000000\" font-family=\"sans-serif\" font-size=\"13\" lengthAdjust=\"spacingAndGlyphs\" textLength=\"7\" x=\"163\" y=\"283.0669\">y</text></a><!--MD5=[bfea5b97cc0986db8f650391a29769b4]\n",
       "@startuml\r\n",
       "skinparam wrapWidth 300\r\n",
       "hide circle\r\n",
       "\r\n",
       "package \"PartTest\" as E1  [[psysml:c65cc0cd-28b1-4d7a-bc05-02136890ed9a ]]  {\r\n",
       "comp usage \"f: A\" as E2  <<(T,blue)part>> [[psysml:634826b2-2fc2-4798-92ed-071cd1dffdd8 ]] {\r\n",
       "}\r\n",
       "comp def \"A\" as E3  <<(T,blue)part def>> [[psysml:36aba5eb-a810-4976-a211-fcdfb7b330f5 ]] {\r\n",
       "- - ports - -\r\n",
       "c: C\r\n",
       "}\r\n",
       "comp usage \"b: B\" as E4  <<(T,blue)part>> [[psysml:b5150c44-d935-4f31-a69b-527c90fd7c47 ]] {\r\n",
       "}\r\n",
       "comp def \"B\" as E6  <<(T,blue)part def>> [[psysml:94fb1c4b-8096-4b0e-a0c8-00d5fe55de6c ]] {\r\n",
       "- - ports - -\r\n",
       "x: ~C\r\n",
       "}\r\n",
       "comp usage \"a: A\" as E7  <<(T,blue)part>> [[psysml:de084c60-8c86-4761-a316-7296396fb321 ]] {\r\n",
       "}\r\n",
       "package \"P\" as E9  [[psysml:4c76b494-1a6c-482d-b35c-aa72d24bc41e ]]  {\r\n",
       "}\r\n",
       "comp def \"C\" as E10  <<(T,blue)port def>> [[psysml:4c8e1ce2-7f9a-4661-9090-c510b6f01354 ]] {\r\n",
       "}\r\n",
       "E2 - -:|> E3 [[psysml:38cdc859-4dfa-4bc4-87cd-169dd5acc896 ]] \r\n",
       "E3 *- - E4 [[psysml:5ebdadf2-6044-45bc-aa24-2da7c79aba16 ]] \r\n",
       "E4 - -:|> E6 [[psysml:1fd8d685-c326-41aa-b421-a8308f20148e ]] \r\n",
       "E6 *- - E7 [[psysml:c471fe89-f766-40f3-82e0-5e28332f3a67 ]] \r\n",
       "E7 - -:|> E3 [[psysml:ce24e444-eb42-4eaa-91b0-86c1efe7ffc5 ]] \r\n",
       "E6 +- - E9 [[psysml:cabff1fd-5442-4a71-976e-341ac2e5dda1 ]] \r\n",
       "E10 o- - E3 [[psysml:a19db77c-da80-41d6-a5f2-85a22676bfcf ]] : y\r\n",
       "E10 o- - E6 [[psysml:a19db77c-da80-41d6-a5f2-85a22676bfcf ]] : y\r\n",
       "E10 o- - E3 [[psysml:a19db77c-da80-41d6-a5f2-85a22676bfcf ]] : y\r\n",
       "E10 o- - E6 [[psysml:a19db77c-da80-41d6-a5f2-85a22676bfcf ]] : y\r\n",
       "E10 o- - E3 [[psysml:a19db77c-da80-41d6-a5f2-85a22676bfcf ]] : y\r\n",
       "E10 o- - E6 [[psysml:a19db77c-da80-41d6-a5f2-85a22676bfcf ]] : y\r\n",
       "}\r\n",
       "@enduml\r\n",
       "\n",
       "PlantUML version 1.2020.13(Sat Jun 13 12:26:38 UTC 2020)\n",
       "(EPL source distribution)\n",
       "Java Runtime: OpenJDK Runtime Environment\n",
       "JVM: OpenJDK 64-Bit Server VM\n",
       "Default Encoding: UTF-8\n",
       "Language: en\n",
       "Country: null\n",
       "--></g></svg>"
      ]
     },
     "execution_count": 24,
     "metadata": {},
     "output_type": "execute_result"
    }
   ],
   "source": [
    "%viz --style=\"STDCOLOR\" --view=\"Tree\" \"PartTest\""
   ]
  },
  {
   "cell_type": "code",
   "execution_count": 25,
   "id": "958a6264",
   "metadata": {
    "execution": {
     "iopub.execute_input": "2021-04-20T07:29:13.097365Z",
     "iopub.status.busy": "2021-04-20T07:29:13.095672Z",
     "iopub.status.idle": "2021-04-20T07:29:13.107624Z",
     "shell.execute_reply": "2021-04-20T07:29:13.108262Z"
    }
   },
   "outputs": [
    {
     "data": {
      "image/svg+xml": [
       "<?xml version=\"1.0\" encoding=\"UTF-8\" standalone=\"no\"?><svg xmlns=\"http://www.w3.org/2000/svg\" xmlns:xlink=\"http://www.w3.org/1999/xlink\" contentScriptType=\"application/ecmascript\" contentStyleType=\"text/css\" height=\"12px\" preserveAspectRatio=\"none\" style=\"width:12px;height:12px;\" version=\"1.1\" viewBox=\"0 0 12 12\" width=\"12px\" zoomAndPan=\"magnify\"><defs/><g><!--MD5=[aeeef50f102b80d730deb6443d14f702]\n",
       "@startuml\r\n",
       "skinparam wrapWidth 300\r\n",
       "hide circle\r\n",
       "\r\n",
       "@enduml\r\n",
       "\n",
       "PlantUML version 1.2020.13(Sat Jun 13 12:26:38 UTC 2020)\n",
       "(EPL source distribution)\n",
       "Java Runtime: OpenJDK Runtime Environment\n",
       "JVM: OpenJDK 64-Bit Server VM\n",
       "Default Encoding: UTF-8\n",
       "Language: en\n",
       "Country: null\n",
       "--></g></svg>"
      ]
     },
     "execution_count": 25,
     "metadata": {},
     "output_type": "execute_result"
    }
   ],
   "source": [
    "%viz --style=\"STDCOLOR\" --view=\"State\" \"PartTest\""
   ]
  },
  {
   "cell_type": "code",
   "execution_count": 26,
   "id": "0921e03b",
   "metadata": {
    "execution": {
     "iopub.execute_input": "2021-04-20T07:29:13.160029Z",
     "iopub.status.busy": "2021-04-20T07:29:13.159169Z",
     "iopub.status.idle": "2021-04-20T07:29:13.243953Z",
     "shell.execute_reply": "2021-04-20T07:29:13.243483Z"
    }
   },
   "outputs": [
    {
     "data": {
      "image/svg+xml": [
       "<?xml version=\"1.0\" encoding=\"UTF-8\" standalone=\"no\"?><svg xmlns=\"http://www.w3.org/2000/svg\" xmlns:xlink=\"http://www.w3.org/1999/xlink\" contentScriptType=\"application/ecmascript\" contentStyleType=\"text/css\" height=\"247px\" preserveAspectRatio=\"none\" style=\"width:568px;height:247px;\" version=\"1.1\" viewBox=\"0 0 568 247\" width=\"568px\" zoomAndPan=\"magnify\"><defs><filter height=\"300%\" id=\"fntmij5yemu3l\" width=\"300%\" x=\"-1\" y=\"-1\"><feGaussianBlur result=\"blurOut\" stdDeviation=\"2.0\"/><feColorMatrix in=\"blurOut\" result=\"blurOut2\" type=\"matrix\" values=\"0 0 0 0 0 0 0 0 0 0 0 0 0 0 0 0 0 0 .4 0\"/><feOffset dx=\"4.0\" dy=\"4.0\" in=\"blurOut2\" result=\"blurOut3\"/><feBlend in=\"SourceGraphic\" in2=\"blurOut3\" mode=\"normal\"/></filter></defs><g><!--MD5=[fbc87193dbaf4d95561dea2c320d4a47]\n",
       "cluster E1--><a href=\"psysml:c65cc0cd-28b1-4d7a-bc05-02136890ed9a\" target=\"_top\" title=\"psysml:c65cc0cd-28b1-4d7a-bc05-02136890ed9a\" xlink:actuate=\"onRequest\" xlink:href=\"psysml:c65cc0cd-28b1-4d7a-bc05-02136890ed9a\" xlink:show=\"new\" xlink:title=\"psysml:c65cc0cd-28b1-4d7a-bc05-02136890ed9a\" xlink:type=\"simple\"><polygon fill=\"#FFFFFF\" filter=\"url(#fntmij5yemu3l)\" points=\"16,6,89,6,96,28.2969,546,28.2969,546,235,16,235,16,6\" style=\"stroke: #000000; stroke-width: 1.5;\"/><line style=\"stroke: #000000; stroke-width: 1.5;\" x1=\"16\" x2=\"96\" y1=\"28.2969\" y2=\"28.2969\"/><text fill=\"#000000\" font-family=\"sans-serif\" font-size=\"14\" font-weight=\"bold\" lengthAdjust=\"spacingAndGlyphs\" textLength=\"67\" x=\"20\" y=\"20.9951\">PartTest</text></a><!--MD5=[d5e69f78d87373223dbae638b30a9c99]\n",
       "cluster E3--><a href=\"psysml:36aba5eb-a810-4976-a211-fcdfb7b330f5\" target=\"_top\" title=\"psysml:36aba5eb-a810-4976-a211-fcdfb7b330f5\" xlink:actuate=\"onRequest\" xlink:href=\"psysml:36aba5eb-a810-4976-a211-fcdfb7b330f5\" xlink:show=\"new\" xlink:title=\"psysml:36aba5eb-a810-4976-a211-fcdfb7b330f5\" xlink:type=\"simple\"><rect fill=\"#FFFFFF\" filter=\"url(#fntmij5yemu3l)\" height=\"150\" id=\"E3\" style=\"stroke: #A80036; stroke-width: 1.5;\" width=\"120\" x=\"410\" y=\"62.5\"/><rect fill=\"#FEFECE\" height=\"37.9375\" style=\"stroke: #A80036; stroke-width: 1.5;\" width=\"120\" x=\"410\" y=\"62.5\"/><text fill=\"#000000\" font-family=\"sans-serif\" font-size=\"12\" font-style=\"italic\" lengthAdjust=\"spacingAndGlyphs\" textLength=\"64\" x=\"438\" y=\"78.6387\">«part def»</text><text fill=\"#000000\" font-family=\"sans-serif\" font-size=\"12\" lengthAdjust=\"spacingAndGlyphs\" textLength=\"8\" x=\"466\" y=\"92.6074\">A</text></a><!--MD5=[14e3b0961a2654348d326746436168a1]\n",
       "cluster E6--><a href=\"psysml:94fb1c4b-8096-4b0e-a0c8-00d5fe55de6c\" target=\"_top\" title=\"psysml:94fb1c4b-8096-4b0e-a0c8-00d5fe55de6c\" xlink:actuate=\"onRequest\" xlink:href=\"psysml:94fb1c4b-8096-4b0e-a0c8-00d5fe55de6c\" xlink:show=\"new\" xlink:title=\"psysml:94fb1c4b-8096-4b0e-a0c8-00d5fe55de6c\" xlink:type=\"simple\"><rect fill=\"#FFFFFF\" filter=\"url(#fntmij5yemu3l)\" height=\"156.5\" id=\"E6\" style=\"stroke: #A80036; stroke-width: 1.5;\" width=\"205\" x=\"197\" y=\"62.5\"/><rect fill=\"#FEFECE\" height=\"37.9375\" style=\"stroke: #A80036; stroke-width: 1.5;\" width=\"205\" x=\"197\" y=\"62.5\"/><text fill=\"#000000\" font-family=\"sans-serif\" font-size=\"12\" font-style=\"italic\" lengthAdjust=\"spacingAndGlyphs\" textLength=\"64\" x=\"267.5\" y=\"78.6387\">«part def»</text><text fill=\"#000000\" font-family=\"sans-serif\" font-size=\"12\" lengthAdjust=\"spacingAndGlyphs\" textLength=\"8\" x=\"295.5\" y=\"92.6074\">B</text></a><g id=\"E1.E10\"><a href=\"psysml:4c8e1ce2-7f9a-4661-9090-c510b6f01354\" target=\"_top\" title=\"psysml:4c8e1ce2-7f9a-4661-9090-c510b6f01354\" xlink:actuate=\"onRequest\" xlink:href=\"psysml:4c8e1ce2-7f9a-4661-9090-c510b6f01354\" xlink:show=\"new\" xlink:title=\"psysml:4c8e1ce2-7f9a-4661-9090-c510b6f01354\" xlink:type=\"simple\"><rect fill=\"#FEFECE\" filter=\"url(#fntmij5yemu3l)\" height=\"42.9375\" id=\"E10\" style=\"stroke: #A80036; stroke-width: 1.5;\" width=\"71\" x=\"117.5\" y=\"41\"/><text fill=\"#000000\" font-family=\"sans-serif\" font-size=\"12\" font-style=\"italic\" lengthAdjust=\"spacingAndGlyphs\" textLength=\"64\" x=\"121\" y=\"57.1387\">«port def»</text><text fill=\"#000000\" font-family=\"sans-serif\" font-size=\"12\" lengthAdjust=\"spacingAndGlyphs\" textLength=\"8\" x=\"149\" y=\"71.1074\">C</text></a></g><g id=\"E1.E2\"><a href=\"psysml:634826b2-2fc2-4798-92ed-071cd1dffdd8\" target=\"_top\" title=\"psysml:634826b2-2fc2-4798-92ed-071cd1dffdd8\" xlink:actuate=\"onRequest\" xlink:href=\"psysml:634826b2-2fc2-4798-92ed-071cd1dffdd8\" xlink:show=\"new\" xlink:title=\"psysml:634826b2-2fc2-4798-92ed-071cd1dffdd8\" xlink:type=\"simple\"><rect fill=\"#FEFECE\" filter=\"url(#fntmij5yemu3l)\" height=\"40\" id=\"E2\" rx=\"10\" ry=\"10\" style=\"stroke: #A80036; stroke-width: 1.5;\" width=\"50\" x=\"32\" y=\"42.5\"/><text fill=\"#000000\" font-family=\"sans-serif\" font-size=\"12\" lengthAdjust=\"spacingAndGlyphs\" textLength=\"20\" x=\"47\" y=\"58.6387\">f: A</text></a></g><text fill=\"#000000\" font-family=\"sans-serif\" font-size=\"14\" lengthAdjust=\"spacingAndGlyphs\" textLength=\"27\" x=\"456.5\" y=\"41.1982\">c: C</text><rect fill=\"#A80036\" height=\"12\" style=\"stroke: #FEFECE; stroke-width: 1.5;\" width=\"12\" x=\"464\" y=\"56.5\"/><g id=\"E1.E3.E4\"><a href=\"psysml:b5150c44-d935-4f31-a69b-527c90fd7c47\" target=\"_top\" title=\"psysml:b5150c44-d935-4f31-a69b-527c90fd7c47\" xlink:actuate=\"onRequest\" xlink:href=\"psysml:b5150c44-d935-4f31-a69b-527c90fd7c47\" xlink:show=\"new\" xlink:title=\"psysml:b5150c44-d935-4f31-a69b-527c90fd7c47\" xlink:type=\"simple\"><rect fill=\"#FEFECE\" filter=\"url(#fntmij5yemu3l)\" height=\"40\" id=\"E4\" rx=\"10\" ry=\"10\" style=\"stroke: #A80036; stroke-width: 1.5;\" width=\"50\" x=\"445\" y=\"156.5\"/><text fill=\"#000000\" font-family=\"sans-serif\" font-size=\"12\" lengthAdjust=\"spacingAndGlyphs\" textLength=\"24\" x=\"458\" y=\"172.6387\">b: B</text></a></g><text fill=\"#000000\" font-family=\"sans-serif\" font-size=\"14\" lengthAdjust=\"spacingAndGlyphs\" textLength=\"38\" x=\"323\" y=\"41.1982\">x: ~C</text><rect fill=\"#A80036\" height=\"12\" style=\"stroke: #FEFECE; stroke-width: 1.5;\" width=\"12\" x=\"336\" y=\"56.5\"/><g id=\"E1.E6.E7\"><a href=\"psysml:de084c60-8c86-4761-a316-7296396fb321\" target=\"_top\" title=\"psysml:de084c60-8c86-4761-a316-7296396fb321\" xlink:actuate=\"onRequest\" xlink:href=\"psysml:de084c60-8c86-4761-a316-7296396fb321\" xlink:show=\"new\" xlink:title=\"psysml:de084c60-8c86-4761-a316-7296396fb321\" xlink:type=\"simple\"><rect fill=\"#FEFECE\" filter=\"url(#fntmij5yemu3l)\" height=\"40\" id=\"E7\" rx=\"10\" ry=\"10\" style=\"stroke: #A80036; stroke-width: 1.5;\" width=\"50\" x=\"213\" y=\"100\"/><text fill=\"#000000\" font-family=\"sans-serif\" font-size=\"12\" lengthAdjust=\"spacingAndGlyphs\" textLength=\"24\" x=\"226\" y=\"116.1387\">a: A</text></a></g><a href=\"psysml:4c76b494-1a6c-482d-b35c-aa72d24bc41e\" target=\"_top\" title=\"psysml:4c76b494-1a6c-482d-b35c-aa72d24bc41e\" xlink:actuate=\"onRequest\" xlink:href=\"psysml:4c76b494-1a6c-482d-b35c-aa72d24bc41e\" xlink:show=\"new\" xlink:title=\"psysml:4c76b494-1a6c-482d-b35c-aa72d24bc41e\" xlink:type=\"simple\"><polygon fill=\"#FFFFFF\" filter=\"url(#fntmij5yemu3l)\" points=\"327,150,343,150,350,172.2969,357,172.2969,357,202.5938,327,202.5938,327,150\" style=\"stroke: #000000; stroke-width: 1.5;\"/><line style=\"stroke: #000000; stroke-width: 1.5;\" x1=\"327\" x2=\"350\" y1=\"172.2969\" y2=\"172.2969\"/><text fill=\"#000000\" font-family=\"sans-serif\" font-size=\"14\" font-weight=\"bold\" lengthAdjust=\"spacingAndGlyphs\" textLength=\"10\" x=\"331\" y=\"164.9951\">P</text></a><!--MD5=[1dadbee80918b3cb979de4c06c39c94d]\n",
       "@startuml\r\n",
       "skinparam ranksep 10\r\n",
       "skinparam rectangle {\r\n",
       " backgroundColor<<block>> LightGreen\r\n",
       "}\r\n",
       "skinparam wrapWidth 300\r\n",
       "hide circle\r\n",
       "\r\n",
       "package \"PartTest\" as E1  [[psysml:c65cc0cd-28b1-4d7a-bc05-02136890ed9a ]]  {\r\n",
       "rec usage \"f: A\" as E2  [[psysml:634826b2-2fc2-4798-92ed-071cd1dffdd8 ]] {\r\n",
       "}\r\n",
       "rec def \"A\" as E3  <<(T,blue)part def>> [[psysml:36aba5eb-a810-4976-a211-fcdfb7b330f5 ]] {\r\n",
       "rec usage \"b: B\" as E4  [[psysml:b5150c44-d935-4f31-a69b-527c90fd7c47 ]] {\r\n",
       "}\r\n",
       "portin \"c: C\" as E5  <<(T,blue)port>> [[psysml:15f0fdfb-f77b-4913-8565-6992b28565d6 ]] \r\n",
       "}\r\n",
       "rec def \"B\" as E6  <<(T,blue)part def>> [[psysml:94fb1c4b-8096-4b0e-a0c8-00d5fe55de6c ]] {\r\n",
       "rec usage \"a: A\" as E7  [[psysml:de084c60-8c86-4761-a316-7296396fb321 ]] {\r\n",
       "}\r\n",
       "portin \"x: ~C\" as E8  <<(T,blue)port>> [[psysml:6cb219e8-2ff6-47bb-94c6-2fc71ea9a3d9 ]] \r\n",
       "package \"P\" as E9  [[psysml:4c76b494-1a6c-482d-b35c-aa72d24bc41e ]]  {\r\n",
       "}\r\n",
       "}\r\n",
       "def \"C\" as E10  <<(T,blue)port def>> [[psysml:4c8e1ce2-7f9a-4661-9090-c510b6f01354 ]] \r\n",
       "}\r\n",
       "@enduml\r\n",
       "\n",
       "PlantUML version 1.2020.13(Sat Jun 13 12:26:38 UTC 2020)\n",
       "(EPL source distribution)\n",
       "Java Runtime: OpenJDK Runtime Environment\n",
       "JVM: OpenJDK 64-Bit Server VM\n",
       "Default Encoding: UTF-8\n",
       "Language: en\n",
       "Country: null\n",
       "--></g></svg>"
      ]
     },
     "execution_count": 26,
     "metadata": {},
     "output_type": "execute_result"
    }
   ],
   "source": [
    "%viz --style=\"STDCOLOR\" --view=\"Interconnection\" \"PartTest\""
   ]
  },
  {
   "cell_type": "code",
   "execution_count": 27,
   "id": "069bf993",
   "metadata": {
    "execution": {
     "iopub.execute_input": "2021-04-20T07:29:13.297196Z",
     "iopub.status.busy": "2021-04-20T07:29:13.295926Z",
     "iopub.status.idle": "2021-04-20T07:29:13.305924Z",
     "shell.execute_reply": "2021-04-20T07:29:13.306313Z"
    }
   },
   "outputs": [
    {
     "data": {
      "image/svg+xml": [
       "<?xml version=\"1.0\" encoding=\"UTF-8\" standalone=\"no\"?><svg xmlns=\"http://www.w3.org/2000/svg\" xmlns:xlink=\"http://www.w3.org/1999/xlink\" contentScriptType=\"application/ecmascript\" contentStyleType=\"text/css\" height=\"12px\" preserveAspectRatio=\"none\" style=\"width:12px;height:12px;\" version=\"1.1\" viewBox=\"0 0 12 12\" width=\"12px\" zoomAndPan=\"magnify\"><defs/><g><!--MD5=[9863325348a96a77dacc89509d8ee65e]\n",
       "@startuml\r\n",
       "skinparam ranksep 8\r\n",
       "skinparam wrapWidth 300\r\n",
       "hide circle\r\n",
       "\r\n",
       "@enduml\r\n",
       "\n",
       "PlantUML version 1.2020.13(Sat Jun 13 12:26:38 UTC 2020)\n",
       "(EPL source distribution)\n",
       "Java Runtime: OpenJDK Runtime Environment\n",
       "JVM: OpenJDK 64-Bit Server VM\n",
       "Default Encoding: UTF-8\n",
       "Language: en\n",
       "Country: null\n",
       "--></g></svg>"
      ]
     },
     "execution_count": 27,
     "metadata": {},
     "output_type": "execute_result"
    }
   ],
   "source": [
    "%viz --style=\"STDCOLOR\" --view=\"Action\" \"PartTest\""
   ]
  },
  {
   "cell_type": "code",
   "execution_count": 28,
   "id": "90fd9841",
   "metadata": {
    "execution": {
     "iopub.execute_input": "2021-04-20T07:29:13.360179Z",
     "iopub.status.busy": "2021-04-20T07:29:13.358519Z",
     "iopub.status.idle": "2021-04-20T07:29:13.486217Z",
     "shell.execute_reply": "2021-04-20T07:29:13.485458Z"
    }
   },
   "outputs": [
    {
     "data": {
      "image/svg+xml": [
       "<?xml version=\"1.0\" encoding=\"UTF-8\" standalone=\"no\"?><svg xmlns=\"http://www.w3.org/2000/svg\" xmlns:xlink=\"http://www.w3.org/1999/xlink\" contentScriptType=\"application/ecmascript\" contentStyleType=\"text/css\" height=\"642px\" preserveAspectRatio=\"none\" style=\"width:260px;height:642px;\" version=\"1.1\" viewBox=\"0 0 260 642\" width=\"260px\" zoomAndPan=\"magnify\"><defs><filter height=\"300%\" id=\"fsoxop7il2y3x\" width=\"300%\" x=\"-1\" y=\"-1\"><feGaussianBlur result=\"blurOut\" stdDeviation=\"2.0\"/><feColorMatrix in=\"blurOut\" result=\"blurOut2\" type=\"matrix\" values=\"0 0 0 0 0 0 0 0 0 0 0 0 0 0 0 0 0 0 .4 0\"/><feOffset dx=\"4.0\" dy=\"4.0\" in=\"blurOut2\" result=\"blurOut3\"/><feBlend in=\"SourceGraphic\" in2=\"blurOut3\" mode=\"normal\"/></filter></defs><g><!--MD5=[fbc87193dbaf4d95561dea2c320d4a47]\n",
       "cluster E1--><a href=\"psysml:c65cc0cd-28b1-4d7a-bc05-02136890ed9a\" target=\"_top\" title=\"psysml:c65cc0cd-28b1-4d7a-bc05-02136890ed9a\" xlink:actuate=\"onRequest\" xlink:href=\"psysml:c65cc0cd-28b1-4d7a-bc05-02136890ed9a\" xlink:show=\"new\" xlink:title=\"psysml:c65cc0cd-28b1-4d7a-bc05-02136890ed9a\" xlink:type=\"simple\"><polygon fill=\"#FFFFFF\" filter=\"url(#fsoxop7il2y3x)\" points=\"16,6,89,6,96,28.2969,238,28.2969,238,630,16,630,16,6\" style=\"stroke: #000000; stroke-width: 1.5;\"/><line style=\"stroke: #000000; stroke-width: 1.5;\" x1=\"16\" x2=\"96\" y1=\"28.2969\" y2=\"28.2969\"/><text fill=\"#000000\" font-family=\"sans-serif\" font-size=\"14\" font-weight=\"bold\" lengthAdjust=\"spacingAndGlyphs\" textLength=\"67\" x=\"20\" y=\"20.9951\">PartTest</text></a><!--MD5=[b4997ac47864f28c2f74865a473b2911]\n",
       "class E2--><a href=\"psysml:634826b2-2fc2-4798-92ed-071cd1dffdd8\" target=\"_top\" title=\"psysml:634826b2-2fc2-4798-92ed-071cd1dffdd8\" xlink:actuate=\"onRequest\" xlink:href=\"psysml:634826b2-2fc2-4798-92ed-071cd1dffdd8\" xlink:show=\"new\" xlink:title=\"psysml:634826b2-2fc2-4798-92ed-071cd1dffdd8\" xlink:type=\"simple\"><rect fill=\"#FEFECE\" filter=\"url(#fsoxop7il2y3x)\" height=\"45.9375\" id=\"E2\" rx=\"10\" ry=\"10\" style=\"stroke: #A80036; stroke-width: 1.5;\" width=\"42\" x=\"32\" y=\"41\"/><text fill=\"#000000\" font-family=\"sans-serif\" font-size=\"12\" font-style=\"italic\" lengthAdjust=\"spacingAndGlyphs\" textLength=\"40\" x=\"33\" y=\"57.1387\">«part»</text><text fill=\"#000000\" font-family=\"sans-serif\" font-size=\"12\" lengthAdjust=\"spacingAndGlyphs\" textLength=\"20\" x=\"43\" y=\"71.1074\">f: A</text><line style=\"stroke: #A80036; stroke-width: 1.5;\" x1=\"33\" x2=\"73\" y1=\"78.9375\" y2=\"78.9375\"/></a><!--MD5=[09b614a08d8cba4a07c9adeb5e0fee81]\n",
       "class E3--><a href=\"psysml:36aba5eb-a810-4976-a211-fcdfb7b330f5\" target=\"_top\" title=\"psysml:36aba5eb-a810-4976-a211-fcdfb7b330f5\" xlink:actuate=\"onRequest\" xlink:href=\"psysml:36aba5eb-a810-4976-a211-fcdfb7b330f5\" xlink:show=\"new\" xlink:title=\"psysml:36aba5eb-a810-4976-a211-fcdfb7b330f5\" xlink:type=\"simple\"><rect fill=\"#FEFECE\" filter=\"url(#fsoxop7il2y3x)\" height=\"75.5469\" id=\"E3\" style=\"stroke: #A80036; stroke-width: 1.5;\" width=\"66\" x=\"37\" y=\"164\"/><text fill=\"#000000\" font-family=\"sans-serif\" font-size=\"12\" font-style=\"italic\" lengthAdjust=\"spacingAndGlyphs\" textLength=\"64\" x=\"38\" y=\"180.1387\">«part def»</text><text fill=\"#000000\" font-family=\"sans-serif\" font-size=\"12\" lengthAdjust=\"spacingAndGlyphs\" textLength=\"8\" x=\"66\" y=\"194.1074\">A</text><line style=\"stroke: #A80036; stroke-width: 1.5;\" x1=\"38\" x2=\"102\" y1=\"201.9375\" y2=\"201.9375\"/><text fill=\"#000000\" font-family=\"sans-serif\" font-size=\"11\" lengthAdjust=\"spacingAndGlyphs\" textLength=\"22\" x=\"43\" y=\"232.9526\">c: C</text><line style=\"stroke: #A80036; stroke-width: 1.0;\" x1=\"38\" x2=\"55\" y1=\"216.3398\" y2=\"216.3398\"/><text fill=\"#000000\" font-family=\"sans-serif\" font-size=\"11\" lengthAdjust=\"spacingAndGlyphs\" textLength=\"30\" x=\"55\" y=\"219.6479\">ports</text><line style=\"stroke: #A80036; stroke-width: 1.0;\" x1=\"85\" x2=\"102\" y1=\"216.3398\" y2=\"216.3398\"/></a><!--MD5=[ebbe1d658d1005bcc118a6aa81145e00]\n",
       "class E4--><a href=\"psysml:b5150c44-d935-4f31-a69b-527c90fd7c47\" target=\"_top\" title=\"psysml:b5150c44-d935-4f31-a69b-527c90fd7c47\" xlink:actuate=\"onRequest\" xlink:href=\"psysml:b5150c44-d935-4f31-a69b-527c90fd7c47\" xlink:show=\"new\" xlink:title=\"psysml:b5150c44-d935-4f31-a69b-527c90fd7c47\" xlink:type=\"simple\"><rect fill=\"#FEFECE\" filter=\"url(#fsoxop7il2y3x)\" height=\"45.9375\" id=\"E4\" rx=\"10\" ry=\"10\" style=\"stroke: #A80036; stroke-width: 1.5;\" width=\"42\" x=\"69\" y=\"317\"/><text fill=\"#000000\" font-family=\"sans-serif\" font-size=\"12\" font-style=\"italic\" lengthAdjust=\"spacingAndGlyphs\" textLength=\"40\" x=\"70\" y=\"333.1387\">«part»</text><text fill=\"#000000\" font-family=\"sans-serif\" font-size=\"12\" lengthAdjust=\"spacingAndGlyphs\" textLength=\"24\" x=\"78\" y=\"347.1074\">b: B</text><line style=\"stroke: #A80036; stroke-width: 1.5;\" x1=\"70\" x2=\"110\" y1=\"354.9375\" y2=\"354.9375\"/></a><!--MD5=[60a26617385b1d2d0262a64233df1f8d]\n",
       "class E6--><a href=\"psysml:94fb1c4b-8096-4b0e-a0c8-00d5fe55de6c\" target=\"_top\" title=\"psysml:94fb1c4b-8096-4b0e-a0c8-00d5fe55de6c\" xlink:actuate=\"onRequest\" xlink:href=\"psysml:94fb1c4b-8096-4b0e-a0c8-00d5fe55de6c\" xlink:show=\"new\" xlink:title=\"psysml:94fb1c4b-8096-4b0e-a0c8-00d5fe55de6c\" xlink:type=\"simple\"><rect fill=\"#FEFECE\" filter=\"url(#fsoxop7il2y3x)\" height=\"75.5469\" id=\"E6\" style=\"stroke: #A80036; stroke-width: 1.5;\" width=\"66\" x=\"114\" y=\"424\"/><text fill=\"#000000\" font-family=\"sans-serif\" font-size=\"12\" font-style=\"italic\" lengthAdjust=\"spacingAndGlyphs\" textLength=\"64\" x=\"115\" y=\"440.1387\">«part def»</text><text fill=\"#000000\" font-family=\"sans-serif\" font-size=\"12\" lengthAdjust=\"spacingAndGlyphs\" textLength=\"8\" x=\"143\" y=\"454.1074\">B</text><line style=\"stroke: #A80036; stroke-width: 1.5;\" x1=\"115\" x2=\"179\" y1=\"461.9375\" y2=\"461.9375\"/><text fill=\"#000000\" font-family=\"sans-serif\" font-size=\"11\" lengthAdjust=\"spacingAndGlyphs\" textLength=\"31\" x=\"120\" y=\"492.9526\">x: ~C</text><line style=\"stroke: #A80036; stroke-width: 1.0;\" x1=\"115\" x2=\"132\" y1=\"476.3398\" y2=\"476.3398\"/><text fill=\"#000000\" font-family=\"sans-serif\" font-size=\"11\" lengthAdjust=\"spacingAndGlyphs\" textLength=\"30\" x=\"132\" y=\"479.6479\">ports</text><line style=\"stroke: #A80036; stroke-width: 1.0;\" x1=\"162\" x2=\"179\" y1=\"476.3398\" y2=\"476.3398\"/></a><!--MD5=[2156ba9850f5573cc1fc38a6a4b2f02b]\n",
       "class E7--><a href=\"psysml:de084c60-8c86-4761-a316-7296396fb321\" target=\"_top\" title=\"psysml:de084c60-8c86-4761-a316-7296396fb321\" xlink:actuate=\"onRequest\" xlink:href=\"psysml:de084c60-8c86-4761-a316-7296396fb321\" xlink:show=\"new\" xlink:title=\"psysml:de084c60-8c86-4761-a316-7296396fb321\" xlink:type=\"simple\"><rect fill=\"#FEFECE\" filter=\"url(#fsoxop7il2y3x)\" height=\"45.9375\" id=\"E7\" rx=\"10\" ry=\"10\" style=\"stroke: #A80036; stroke-width: 1.5;\" width=\"42\" x=\"44\" y=\"564.5\"/><text fill=\"#000000\" font-family=\"sans-serif\" font-size=\"12\" font-style=\"italic\" lengthAdjust=\"spacingAndGlyphs\" textLength=\"40\" x=\"45\" y=\"580.6387\">«part»</text><text fill=\"#000000\" font-family=\"sans-serif\" font-size=\"12\" lengthAdjust=\"spacingAndGlyphs\" textLength=\"24\" x=\"53\" y=\"594.6074\">a: A</text><line style=\"stroke: #A80036; stroke-width: 1.5;\" x1=\"45\" x2=\"85\" y1=\"602.4375\" y2=\"602.4375\"/></a><!--MD5=[96f4274e9e20536e775497830990834d]\n",
       "class E10--><a href=\"psysml:4c8e1ce2-7f9a-4661-9090-c510b6f01354\" target=\"_top\" title=\"psysml:4c8e1ce2-7f9a-4661-9090-c510b6f01354\" xlink:actuate=\"onRequest\" xlink:href=\"psysml:4c8e1ce2-7f9a-4661-9090-c510b6f01354\" xlink:show=\"new\" xlink:title=\"psysml:4c8e1ce2-7f9a-4661-9090-c510b6f01354\" xlink:type=\"simple\"><rect fill=\"#FEFECE\" filter=\"url(#fsoxop7il2y3x)\" height=\"45.9375\" id=\"E10\" style=\"stroke: #A80036; stroke-width: 1.5;\" width=\"66\" x=\"146\" y=\"41\"/><text fill=\"#000000\" font-family=\"sans-serif\" font-size=\"12\" font-style=\"italic\" lengthAdjust=\"spacingAndGlyphs\" textLength=\"64\" x=\"147\" y=\"57.1387\">«port def»</text><text fill=\"#000000\" font-family=\"sans-serif\" font-size=\"12\" lengthAdjust=\"spacingAndGlyphs\" textLength=\"8\" x=\"175\" y=\"71.1074\">C</text><line style=\"stroke: #A80036; stroke-width: 1.5;\" x1=\"147\" x2=\"211\" y1=\"78.9375\" y2=\"78.9375\"/></a><a href=\"psysml:4c76b494-1a6c-482d-b35c-aa72d24bc41e\" target=\"_top\" title=\"psysml:4c76b494-1a6c-482d-b35c-aa72d24bc41e\" xlink:actuate=\"onRequest\" xlink:href=\"psysml:4c76b494-1a6c-482d-b35c-aa72d24bc41e\" xlink:show=\"new\" xlink:title=\"psysml:4c76b494-1a6c-482d-b35c-aa72d24bc41e\" xlink:type=\"simple\"><polygon fill=\"#FFFFFF\" filter=\"url(#fsoxop7il2y3x)\" points=\"132,561,148,561,155,583.2969,162,583.2969,162,613.5938,132,613.5938,132,561\" style=\"stroke: #000000; stroke-width: 1.5;\"/><line style=\"stroke: #000000; stroke-width: 1.5;\" x1=\"132\" x2=\"155\" y1=\"583.2969\" y2=\"583.2969\"/><text fill=\"#000000\" font-family=\"sans-serif\" font-size=\"14\" font-weight=\"bold\" lengthAdjust=\"spacingAndGlyphs\" textLength=\"10\" x=\"136\" y=\"575.9951\">P</text></a><!--MD5=[2720a5a1f2c3fca2055b230370638851]\n",
       "link E2 to E3--><a href=\"psysml:38cdc859-4dfa-4bc4-87cd-169dd5acc896\" target=\"_top\" title=\"psysml:38cdc859-4dfa-4bc4-87cd-169dd5acc896\" xlink:actuate=\"onRequest\" xlink:href=\"psysml:38cdc859-4dfa-4bc4-87cd-169dd5acc896\" xlink:show=\"new\" xlink:title=\"psysml:38cdc859-4dfa-4bc4-87cd-169dd5acc896\" xlink:type=\"simple\"><path d=\"M43.23,87.08 C38.46,100.64 34.45,118.34 38,134 C38.82,137.61 39.86,141.26 41.06,144.89 \" fill=\"none\" id=\"E2-&gt;E3\" style=\"stroke: #A80036; stroke-width: 1.0;\"/><polygon fill=\"#FFFFFF\" points=\"48.65,163.8,35.0703,148.7803,48.0607,143.5601,48.65,163.8\" style=\"stroke: #A80036; stroke-width: 1.0;\"/><ellipse cx=\"34.8007\" cy=\"142.7456\" fill=\"#A80036\" rx=\"2\" ry=\"2\" style=\"stroke: #A80036; stroke-width: 1.0;\"/><ellipse cx=\"44.0796\" cy=\"139.0169\" fill=\"#A80036\" rx=\"2\" ry=\"2\" style=\"stroke: #A80036; stroke-width: 1.0;\"/></a><!--MD5=[4672eba38e49728da53d11aeb285b987]\n",
       "reverse link E3 to E4--><a href=\"psysml:5ebdadf2-6044-45bc-aa24-2da7c79aba16\" target=\"_top\" title=\"psysml:5ebdadf2-6044-45bc-aa24-2da7c79aba16\" xlink:actuate=\"onRequest\" xlink:href=\"psysml:5ebdadf2-6044-45bc-aa24-2da7c79aba16\" xlink:show=\"new\" xlink:title=\"psysml:5ebdadf2-6044-45bc-aa24-2da7c79aba16\" xlink:type=\"simple\"><path d=\"M72.88,253.51 C73.88,264.59 75.22,276.22 77,287 C78.64,296.92 81.21,307.72 83.63,316.9 \" fill=\"none\" id=\"E3&lt;-E4\" style=\"stroke: #A80036; stroke-width: 1.0;\"/><polygon fill=\"#A80036\" points=\"71.81,240.38,68.3042,246.6816,72.7727,252.3413,76.2785,246.0398,71.81,240.38\" style=\"stroke: #A80036; stroke-width: 1.0;\"/></a><!--MD5=[79568f1e445c3877b6a54524624ccc7d]\n",
       "link E4 to E6--><a href=\"psysml:1fd8d685-c326-41aa-b421-a8308f20148e\" target=\"_top\" title=\"psysml:1fd8d685-c326-41aa-b421-a8308f20148e\" xlink:actuate=\"onRequest\" xlink:href=\"psysml:1fd8d685-c326-41aa-b421-a8308f20148e\" xlink:show=\"new\" xlink:title=\"psysml:1fd8d685-c326-41aa-b421-a8308f20148e\" xlink:type=\"simple\"><path d=\"M100.45,363.01 C106.1,374.9 113.36,390.18 120.46,405.12 \" fill=\"none\" id=\"E4-&gt;E6\" style=\"stroke: #A80036; stroke-width: 1.0;\"/><polygon fill=\"#FFFFFF\" points=\"129.22,423.57,114.7395,409.4167,127.3831,403.405,129.22,423.57\" style=\"stroke: #A80036; stroke-width: 1.0;\"/><ellipse cx=\"114.0981\" cy=\"403.4102\" fill=\"#A80036\" rx=\"2\" ry=\"2\" style=\"stroke: #A80036; stroke-width: 1.0;\"/><ellipse cx=\"123.1292\" cy=\"399.1161\" fill=\"#A80036\" rx=\"2\" ry=\"2\" style=\"stroke: #A80036; stroke-width: 1.0;\"/></a><!--MD5=[3f50a3473f1dfb74d3f76443e03635af]\n",
       "reverse link E6 to E7--><a href=\"psysml:c471fe89-f766-40f3-82e0-5e28332f3a67\" target=\"_top\" title=\"psysml:c471fe89-f766-40f3-82e0-5e28332f3a67\" xlink:actuate=\"onRequest\" xlink:href=\"psysml:c471fe89-f766-40f3-82e0-5e28332f3a67\" xlink:show=\"new\" xlink:title=\"psysml:c471fe89-f766-40f3-82e0-5e28332f3a67\" xlink:type=\"simple\"><path d=\"M115.19,510.9 C103,529.26 89.67,549.34 79.81,564.19 \" fill=\"none\" id=\"E6&lt;-E7\" style=\"stroke: #A80036; stroke-width: 1.0;\"/><polygon fill=\"#A80036\" points=\"122.4,500.05,115.7495,502.8377,115.7649,510.0488,122.4154,507.2611,122.4,500.05\" style=\"stroke: #A80036; stroke-width: 1.0;\"/></a><!--MD5=[14ccda38c055a5c0da953d572bc50960]\n",
       "link E7 to E3--><a href=\"psysml:ce24e444-eb42-4eaa-91b0-86c1efe7ffc5\" target=\"_top\" title=\"psysml:ce24e444-eb42-4eaa-91b0-86c1efe7ffc5\" xlink:actuate=\"onRequest\" xlink:href=\"psysml:ce24e444-eb42-4eaa-91b0-86c1efe7ffc5\" xlink:show=\"new\" xlink:title=\"psysml:ce24e444-eb42-4eaa-91b0-86c1efe7ffc5\" xlink:type=\"simple\"><path d=\"M61.85,564.46 C55.72,518.43 43.41,408.75 51,317 C52.55,298.29 55.5,278.02 58.63,259.84 \" fill=\"none\" id=\"E7-&gt;E3\" style=\"stroke: #A80036; stroke-width: 1.0;\"/><polygon fill=\"#FFFFFF\" points=\"62.24,240.03,65.7193,259.9773,51.9463,257.4667,62.24,240.03\" style=\"stroke: #A80036; stroke-width: 1.0;\"/><ellipse cx=\"62.7296\" cy=\"265.2262\" fill=\"#A80036\" rx=\"2\" ry=\"2\" style=\"stroke: #A80036; stroke-width: 1.0;\"/><ellipse cx=\"52.8917\" cy=\"263.433\" fill=\"#A80036\" rx=\"2\" ry=\"2\" style=\"stroke: #A80036; stroke-width: 1.0;\"/></a><!--MD5=[e88d06e5a652d73a6b19930eefe025a8]\n",
       "reverse link E6 to E9--><a href=\"psysml:cabff1fd-5442-4a71-976e-341ac2e5dda1\" target=\"_top\" title=\"psysml:cabff1fd-5442-4a71-976e-341ac2e5dda1\" xlink:actuate=\"onRequest\" xlink:href=\"psysml:cabff1fd-5442-4a71-976e-341ac2e5dda1\" xlink:show=\"new\" xlink:title=\"psysml:cabff1fd-5442-4a71-976e-341ac2e5dda1\" xlink:type=\"simple\"><path d=\"M147,515.35 C147,531.08 147,547.65 147,560.83 \" fill=\"none\" id=\"E6&lt;-E9\" style=\"stroke: #A80036; stroke-width: 1.0;\"/><ellipse cx=\"147\" cy=\"508.05\" fill=\"#FFFFFF\" rx=\"8\" ry=\"8\" style=\"stroke: #A80036; stroke-width: 1.0;\"/><line style=\"stroke: #A80036; stroke-width: 1.0;\" x1=\"147\" x2=\"147\" y1=\"516.05\" y2=\"500.05\"/><line style=\"stroke: #A80036; stroke-width: 1.0;\" x1=\"139\" x2=\"155\" y1=\"508.05\" y2=\"508.05\"/></a><!--MD5=[8e04057e7b3cbc0dca4fc78ea351e2da]\n",
       "reverse link E10 to E3--><a href=\"psysml:a19db77c-da80-41d6-a5f2-85a22676bfcf\" target=\"_top\" title=\"psysml:a19db77c-da80-41d6-a5f2-85a22676bfcf\" xlink:actuate=\"onRequest\" xlink:href=\"psysml:a19db77c-da80-41d6-a5f2-85a22676bfcf\" xlink:show=\"new\" xlink:title=\"psysml:a19db77c-da80-41d6-a5f2-85a22676bfcf\" xlink:type=\"simple\"><path d=\"M133.33,76.35 C111.95,84.13 88.32,96.81 75,117 C66.07,130.53 63.94,148.12 64.4,163.71 \" fill=\"none\" id=\"E10&lt;-E3\" style=\"stroke: #A80036; stroke-width: 1.0;\"/><polygon fill=\"#FFFFFF\" points=\"145.89,72.22,138.939,70.3009,134.494,75.9791,141.445,77.8982,145.89,72.22\" style=\"stroke: #A80036; stroke-width: 1.0;\"/><text fill=\"#000000\" font-family=\"sans-serif\" font-size=\"13\" lengthAdjust=\"spacingAndGlyphs\" textLength=\"7\" x=\"76\" y=\"130.0669\">y</text></a><!--MD5=[8e04057e7b3cbc0dca4fc78ea351e2da]\n",
       "reverse link E10 to E3--><a href=\"psysml:a19db77c-da80-41d6-a5f2-85a22676bfcf\" target=\"_top\" title=\"psysml:a19db77c-da80-41d6-a5f2-85a22676bfcf\" xlink:actuate=\"onRequest\" xlink:href=\"psysml:a19db77c-da80-41d6-a5f2-85a22676bfcf\" xlink:show=\"new\" xlink:title=\"psysml:a19db77c-da80-41d6-a5f2-85a22676bfcf\" xlink:type=\"simple\"><path d=\"M143.35,96.28 C136.62,102.85 129.86,109.93 124,117 C112.05,131.41 100.57,148.61 91.29,163.69 \" fill=\"none\" id=\"E10&lt;-E3-1\" style=\"stroke: #A80036; stroke-width: 1.0;\"/><polygon fill=\"#FFFFFF\" points=\"153.08,87.1,145.9702,88.3047,144.3478,95.331,151.4576,94.1262,153.08,87.1\" style=\"stroke: #A80036; stroke-width: 1.0;\"/><text fill=\"#000000\" font-family=\"sans-serif\" font-size=\"13\" lengthAdjust=\"spacingAndGlyphs\" textLength=\"7\" x=\"125\" y=\"130.0669\">y</text></a><!--MD5=[8e04057e7b3cbc0dca4fc78ea351e2da]\n",
       "reverse link E10 to E3--><a href=\"psysml:a19db77c-da80-41d6-a5f2-85a22676bfcf\" target=\"_top\" title=\"psysml:a19db77c-da80-41d6-a5f2-85a22676bfcf\" xlink:actuate=\"onRequest\" xlink:href=\"psysml:a19db77c-da80-41d6-a5f2-85a22676bfcf\" xlink:show=\"new\" xlink:title=\"psysml:a19db77c-da80-41d6-a5f2-85a22676bfcf\" xlink:type=\"simple\"><path d=\"M158.49,98.17 C150.89,109.8 141.93,122.76 133,134 C123.86,145.5 113.16,157.39 103.19,167.9 \" fill=\"none\" id=\"E10&lt;-E3-2\" style=\"stroke: #A80036; stroke-width: 1.0;\"/><polygon fill=\"#FFFFFF\" points=\"165.6,87.1,158.9946,89.9928,159.1242,97.2027,165.7297,94.3099,165.6,87.1\" style=\"stroke: #A80036; stroke-width: 1.0;\"/><text fill=\"#000000\" font-family=\"sans-serif\" font-size=\"13\" lengthAdjust=\"spacingAndGlyphs\" textLength=\"7\" x=\"146\" y=\"130.0669\">y</text></a><!--MD5=[604cbf994c02b74b117f728a71673cea]\n",
       "reverse link E10 to E6--><a href=\"psysml:a19db77c-da80-41d6-a5f2-85a22676bfcf\" target=\"_top\" title=\"psysml:a19db77c-da80-41d6-a5f2-85a22676bfcf\" xlink:actuate=\"onRequest\" xlink:href=\"psysml:a19db77c-da80-41d6-a5f2-85a22676bfcf\" xlink:show=\"new\" xlink:title=\"psysml:a19db77c-da80-41d6-a5f2-85a22676bfcf\" xlink:type=\"simple\"><path d=\"M197.26,99.16 C199.64,104.97 201.69,111.05 203,117 C204.62,124.38 203.15,126.45 203,134 C200.78,249.62 229.38,284.23 193,394 C189.58,404.31 184.06,414.48 178.01,423.66 \" fill=\"none\" id=\"E10&lt;-E6\" style=\"stroke: #A80036; stroke-width: 1.0;\"/><polygon fill=\"#FFFFFF\" points=\"191.73,87.03,190.583,94.1493,196.7135,97.9463,197.8605,90.827,191.73,87.03\" style=\"stroke: #A80036; stroke-width: 1.0;\"/><text fill=\"#000000\" font-family=\"sans-serif\" font-size=\"13\" lengthAdjust=\"spacingAndGlyphs\" textLength=\"7\" x=\"212\" y=\"283.0669\">y</text></a><!--MD5=[604cbf994c02b74b117f728a71673cea]\n",
       "reverse link E10 to E6--><a href=\"psysml:a19db77c-da80-41d6-a5f2-85a22676bfcf\" target=\"_top\" title=\"psysml:a19db77c-da80-41d6-a5f2-85a22676bfcf\" xlink:actuate=\"onRequest\" xlink:href=\"psysml:a19db77c-da80-41d6-a5f2-85a22676bfcf\" xlink:show=\"new\" xlink:title=\"psysml:a19db77c-da80-41d6-a5f2-85a22676bfcf\" xlink:type=\"simple\"><path d=\"M171.02,99.85 C168.34,110.83 165.22,122.97 162,134 C144.13,195.25 126.36,207.04 116,270 C114.77,277.46 114.57,279.58 116,287 C118.72,301.1 124.37,303.11 128,317 C137.32,352.62 142.19,394.45 144.65,423.82 \" fill=\"none\" id=\"E10&lt;-E6-1\" style=\"stroke: #A80036; stroke-width: 1.0;\"/><polygon fill=\"#FFFFFF\" points=\"174.04,87.19,168.7576,92.0987,171.257,98.8628,176.5394,93.9541,174.04,87.19\" style=\"stroke: #A80036; stroke-width: 1.0;\"/><text fill=\"#000000\" font-family=\"sans-serif\" font-size=\"13\" lengthAdjust=\"spacingAndGlyphs\" textLength=\"7\" x=\"117\" y=\"283.0669\">y</text></a><!--MD5=[604cbf994c02b74b117f728a71673cea]\n",
       "reverse link E10 to E6--><a href=\"psysml:a19db77c-da80-41d6-a5f2-85a22676bfcf\" target=\"_top\" title=\"psysml:a19db77c-da80-41d6-a5f2-85a22676bfcf\" xlink:actuate=\"onRequest\" xlink:href=\"psysml:a19db77c-da80-41d6-a5f2-85a22676bfcf\" xlink:show=\"new\" xlink:title=\"psysml:a19db77c-da80-41d6-a5f2-85a22676bfcf\" xlink:type=\"simple\"><path d=\"M176.15,100.27 C170.13,174.82 156.15,347.78 150,423.9 \" fill=\"none\" id=\"E10&lt;-E6-2\" style=\"stroke: #A80036; stroke-width: 1.0;\"/><polygon fill=\"#FFFFFF\" points=\"177.21,87.14,172.7415,92.7998,176.2473,99.1013,180.7158,93.4416,177.21,87.14\" style=\"stroke: #A80036; stroke-width: 1.0;\"/><text fill=\"#000000\" font-family=\"sans-serif\" font-size=\"13\" lengthAdjust=\"spacingAndGlyphs\" textLength=\"7\" x=\"163\" y=\"283.0669\">y</text></a><!--MD5=[bfea5b97cc0986db8f650391a29769b4]\n",
       "@startuml\r\n",
       "skinparam wrapWidth 300\r\n",
       "hide circle\r\n",
       "\r\n",
       "package \"PartTest\" as E1  [[psysml:c65cc0cd-28b1-4d7a-bc05-02136890ed9a ]]  {\r\n",
       "comp usage \"f: A\" as E2  <<(T,blue)part>> [[psysml:634826b2-2fc2-4798-92ed-071cd1dffdd8 ]] {\r\n",
       "}\r\n",
       "comp def \"A\" as E3  <<(T,blue)part def>> [[psysml:36aba5eb-a810-4976-a211-fcdfb7b330f5 ]] {\r\n",
       "- - ports - -\r\n",
       "c: C\r\n",
       "}\r\n",
       "comp usage \"b: B\" as E4  <<(T,blue)part>> [[psysml:b5150c44-d935-4f31-a69b-527c90fd7c47 ]] {\r\n",
       "}\r\n",
       "comp def \"B\" as E6  <<(T,blue)part def>> [[psysml:94fb1c4b-8096-4b0e-a0c8-00d5fe55de6c ]] {\r\n",
       "- - ports - -\r\n",
       "x: ~C\r\n",
       "}\r\n",
       "comp usage \"a: A\" as E7  <<(T,blue)part>> [[psysml:de084c60-8c86-4761-a316-7296396fb321 ]] {\r\n",
       "}\r\n",
       "package \"P\" as E9  [[psysml:4c76b494-1a6c-482d-b35c-aa72d24bc41e ]]  {\r\n",
       "}\r\n",
       "comp def \"C\" as E10  <<(T,blue)port def>> [[psysml:4c8e1ce2-7f9a-4661-9090-c510b6f01354 ]] {\r\n",
       "}\r\n",
       "E2 - -:|> E3 [[psysml:38cdc859-4dfa-4bc4-87cd-169dd5acc896 ]] \r\n",
       "E3 *- - E4 [[psysml:5ebdadf2-6044-45bc-aa24-2da7c79aba16 ]] \r\n",
       "E4 - -:|> E6 [[psysml:1fd8d685-c326-41aa-b421-a8308f20148e ]] \r\n",
       "E6 *- - E7 [[psysml:c471fe89-f766-40f3-82e0-5e28332f3a67 ]] \r\n",
       "E7 - -:|> E3 [[psysml:ce24e444-eb42-4eaa-91b0-86c1efe7ffc5 ]] \r\n",
       "E6 +- - E9 [[psysml:cabff1fd-5442-4a71-976e-341ac2e5dda1 ]] \r\n",
       "E10 o- - E3 [[psysml:a19db77c-da80-41d6-a5f2-85a22676bfcf ]] : y\r\n",
       "E10 o- - E6 [[psysml:a19db77c-da80-41d6-a5f2-85a22676bfcf ]] : y\r\n",
       "E10 o- - E3 [[psysml:a19db77c-da80-41d6-a5f2-85a22676bfcf ]] : y\r\n",
       "E10 o- - E6 [[psysml:a19db77c-da80-41d6-a5f2-85a22676bfcf ]] : y\r\n",
       "E10 o- - E3 [[psysml:a19db77c-da80-41d6-a5f2-85a22676bfcf ]] : y\r\n",
       "E10 o- - E6 [[psysml:a19db77c-da80-41d6-a5f2-85a22676bfcf ]] : y\r\n",
       "}\r\n",
       "@enduml\r\n",
       "\n",
       "PlantUML version 1.2020.13(Sat Jun 13 12:26:38 UTC 2020)\n",
       "(EPL source distribution)\n",
       "Java Runtime: OpenJDK Runtime Environment\n",
       "JVM: OpenJDK 64-Bit Server VM\n",
       "Default Encoding: UTF-8\n",
       "Language: en\n",
       "Country: null\n",
       "--></g></svg>"
      ]
     },
     "execution_count": 28,
     "metadata": {},
     "output_type": "execute_result"
    }
   ],
   "source": [
    "%viz --style=\"STDCOLOR\" --view=\"Sequence\" \"PartTest\""
   ]
  },
  {
   "cell_type": "code",
   "execution_count": 29,
   "id": "18bfef18",
   "metadata": {
    "execution": {
     "iopub.execute_input": "2021-04-20T07:29:13.535466Z",
     "iopub.status.busy": "2021-04-20T07:29:13.534040Z",
     "iopub.status.idle": "2021-04-20T07:29:13.638842Z",
     "shell.execute_reply": "2021-04-20T07:29:13.636997Z"
    }
   },
   "outputs": [
    {
     "data": {
      "image/svg+xml": [
       "<?xml version=\"1.0\" encoding=\"UTF-8\" standalone=\"no\"?><svg xmlns=\"http://www.w3.org/2000/svg\" xmlns:xlink=\"http://www.w3.org/1999/xlink\" contentScriptType=\"application/ecmascript\" contentStyleType=\"text/css\" height=\"642px\" preserveAspectRatio=\"none\" style=\"width:260px;height:642px;\" version=\"1.1\" viewBox=\"0 0 260 642\" width=\"260px\" zoomAndPan=\"magnify\"><defs><filter height=\"300%\" id=\"fsoxop7il2y3x\" width=\"300%\" x=\"-1\" y=\"-1\"><feGaussianBlur result=\"blurOut\" stdDeviation=\"2.0\"/><feColorMatrix in=\"blurOut\" result=\"blurOut2\" type=\"matrix\" values=\"0 0 0 0 0 0 0 0 0 0 0 0 0 0 0 0 0 0 .4 0\"/><feOffset dx=\"4.0\" dy=\"4.0\" in=\"blurOut2\" result=\"blurOut3\"/><feBlend in=\"SourceGraphic\" in2=\"blurOut3\" mode=\"normal\"/></filter></defs><g><!--MD5=[fbc87193dbaf4d95561dea2c320d4a47]\n",
       "cluster E1--><a href=\"psysml:c65cc0cd-28b1-4d7a-bc05-02136890ed9a\" target=\"_top\" title=\"psysml:c65cc0cd-28b1-4d7a-bc05-02136890ed9a\" xlink:actuate=\"onRequest\" xlink:href=\"psysml:c65cc0cd-28b1-4d7a-bc05-02136890ed9a\" xlink:show=\"new\" xlink:title=\"psysml:c65cc0cd-28b1-4d7a-bc05-02136890ed9a\" xlink:type=\"simple\"><polygon fill=\"#FFFFFF\" filter=\"url(#fsoxop7il2y3x)\" points=\"16,6,89,6,96,28.2969,238,28.2969,238,630,16,630,16,6\" style=\"stroke: #000000; stroke-width: 1.5;\"/><line style=\"stroke: #000000; stroke-width: 1.5;\" x1=\"16\" x2=\"96\" y1=\"28.2969\" y2=\"28.2969\"/><text fill=\"#000000\" font-family=\"sans-serif\" font-size=\"14\" font-weight=\"bold\" lengthAdjust=\"spacingAndGlyphs\" textLength=\"67\" x=\"20\" y=\"20.9951\">PartTest</text></a><!--MD5=[b4997ac47864f28c2f74865a473b2911]\n",
       "class E2--><a href=\"psysml:634826b2-2fc2-4798-92ed-071cd1dffdd8\" target=\"_top\" title=\"psysml:634826b2-2fc2-4798-92ed-071cd1dffdd8\" xlink:actuate=\"onRequest\" xlink:href=\"psysml:634826b2-2fc2-4798-92ed-071cd1dffdd8\" xlink:show=\"new\" xlink:title=\"psysml:634826b2-2fc2-4798-92ed-071cd1dffdd8\" xlink:type=\"simple\"><rect fill=\"#FEFECE\" filter=\"url(#fsoxop7il2y3x)\" height=\"45.9375\" id=\"E2\" rx=\"10\" ry=\"10\" style=\"stroke: #A80036; stroke-width: 1.5;\" width=\"42\" x=\"32\" y=\"41\"/><text fill=\"#000000\" font-family=\"sans-serif\" font-size=\"12\" font-style=\"italic\" lengthAdjust=\"spacingAndGlyphs\" textLength=\"40\" x=\"33\" y=\"57.1387\">«part»</text><text fill=\"#000000\" font-family=\"sans-serif\" font-size=\"12\" lengthAdjust=\"spacingAndGlyphs\" textLength=\"20\" x=\"43\" y=\"71.1074\">f: A</text><line style=\"stroke: #A80036; stroke-width: 1.5;\" x1=\"33\" x2=\"73\" y1=\"78.9375\" y2=\"78.9375\"/></a><!--MD5=[09b614a08d8cba4a07c9adeb5e0fee81]\n",
       "class E3--><a href=\"psysml:36aba5eb-a810-4976-a211-fcdfb7b330f5\" target=\"_top\" title=\"psysml:36aba5eb-a810-4976-a211-fcdfb7b330f5\" xlink:actuate=\"onRequest\" xlink:href=\"psysml:36aba5eb-a810-4976-a211-fcdfb7b330f5\" xlink:show=\"new\" xlink:title=\"psysml:36aba5eb-a810-4976-a211-fcdfb7b330f5\" xlink:type=\"simple\"><rect fill=\"#FEFECE\" filter=\"url(#fsoxop7il2y3x)\" height=\"75.5469\" id=\"E3\" style=\"stroke: #A80036; stroke-width: 1.5;\" width=\"66\" x=\"37\" y=\"164\"/><text fill=\"#000000\" font-family=\"sans-serif\" font-size=\"12\" font-style=\"italic\" lengthAdjust=\"spacingAndGlyphs\" textLength=\"64\" x=\"38\" y=\"180.1387\">«part def»</text><text fill=\"#000000\" font-family=\"sans-serif\" font-size=\"12\" lengthAdjust=\"spacingAndGlyphs\" textLength=\"8\" x=\"66\" y=\"194.1074\">A</text><line style=\"stroke: #A80036; stroke-width: 1.5;\" x1=\"38\" x2=\"102\" y1=\"201.9375\" y2=\"201.9375\"/><text fill=\"#000000\" font-family=\"sans-serif\" font-size=\"11\" lengthAdjust=\"spacingAndGlyphs\" textLength=\"22\" x=\"43\" y=\"232.9526\">c: C</text><line style=\"stroke: #A80036; stroke-width: 1.0;\" x1=\"38\" x2=\"55\" y1=\"216.3398\" y2=\"216.3398\"/><text fill=\"#000000\" font-family=\"sans-serif\" font-size=\"11\" lengthAdjust=\"spacingAndGlyphs\" textLength=\"30\" x=\"55\" y=\"219.6479\">ports</text><line style=\"stroke: #A80036; stroke-width: 1.0;\" x1=\"85\" x2=\"102\" y1=\"216.3398\" y2=\"216.3398\"/></a><!--MD5=[ebbe1d658d1005bcc118a6aa81145e00]\n",
       "class E4--><a href=\"psysml:b5150c44-d935-4f31-a69b-527c90fd7c47\" target=\"_top\" title=\"psysml:b5150c44-d935-4f31-a69b-527c90fd7c47\" xlink:actuate=\"onRequest\" xlink:href=\"psysml:b5150c44-d935-4f31-a69b-527c90fd7c47\" xlink:show=\"new\" xlink:title=\"psysml:b5150c44-d935-4f31-a69b-527c90fd7c47\" xlink:type=\"simple\"><rect fill=\"#FEFECE\" filter=\"url(#fsoxop7il2y3x)\" height=\"45.9375\" id=\"E4\" rx=\"10\" ry=\"10\" style=\"stroke: #A80036; stroke-width: 1.5;\" width=\"42\" x=\"69\" y=\"317\"/><text fill=\"#000000\" font-family=\"sans-serif\" font-size=\"12\" font-style=\"italic\" lengthAdjust=\"spacingAndGlyphs\" textLength=\"40\" x=\"70\" y=\"333.1387\">«part»</text><text fill=\"#000000\" font-family=\"sans-serif\" font-size=\"12\" lengthAdjust=\"spacingAndGlyphs\" textLength=\"24\" x=\"78\" y=\"347.1074\">b: B</text><line style=\"stroke: #A80036; stroke-width: 1.5;\" x1=\"70\" x2=\"110\" y1=\"354.9375\" y2=\"354.9375\"/></a><!--MD5=[60a26617385b1d2d0262a64233df1f8d]\n",
       "class E6--><a href=\"psysml:94fb1c4b-8096-4b0e-a0c8-00d5fe55de6c\" target=\"_top\" title=\"psysml:94fb1c4b-8096-4b0e-a0c8-00d5fe55de6c\" xlink:actuate=\"onRequest\" xlink:href=\"psysml:94fb1c4b-8096-4b0e-a0c8-00d5fe55de6c\" xlink:show=\"new\" xlink:title=\"psysml:94fb1c4b-8096-4b0e-a0c8-00d5fe55de6c\" xlink:type=\"simple\"><rect fill=\"#FEFECE\" filter=\"url(#fsoxop7il2y3x)\" height=\"75.5469\" id=\"E6\" style=\"stroke: #A80036; stroke-width: 1.5;\" width=\"66\" x=\"114\" y=\"424\"/><text fill=\"#000000\" font-family=\"sans-serif\" font-size=\"12\" font-style=\"italic\" lengthAdjust=\"spacingAndGlyphs\" textLength=\"64\" x=\"115\" y=\"440.1387\">«part def»</text><text fill=\"#000000\" font-family=\"sans-serif\" font-size=\"12\" lengthAdjust=\"spacingAndGlyphs\" textLength=\"8\" x=\"143\" y=\"454.1074\">B</text><line style=\"stroke: #A80036; stroke-width: 1.5;\" x1=\"115\" x2=\"179\" y1=\"461.9375\" y2=\"461.9375\"/><text fill=\"#000000\" font-family=\"sans-serif\" font-size=\"11\" lengthAdjust=\"spacingAndGlyphs\" textLength=\"31\" x=\"120\" y=\"492.9526\">x: ~C</text><line style=\"stroke: #A80036; stroke-width: 1.0;\" x1=\"115\" x2=\"132\" y1=\"476.3398\" y2=\"476.3398\"/><text fill=\"#000000\" font-family=\"sans-serif\" font-size=\"11\" lengthAdjust=\"spacingAndGlyphs\" textLength=\"30\" x=\"132\" y=\"479.6479\">ports</text><line style=\"stroke: #A80036; stroke-width: 1.0;\" x1=\"162\" x2=\"179\" y1=\"476.3398\" y2=\"476.3398\"/></a><!--MD5=[2156ba9850f5573cc1fc38a6a4b2f02b]\n",
       "class E7--><a href=\"psysml:de084c60-8c86-4761-a316-7296396fb321\" target=\"_top\" title=\"psysml:de084c60-8c86-4761-a316-7296396fb321\" xlink:actuate=\"onRequest\" xlink:href=\"psysml:de084c60-8c86-4761-a316-7296396fb321\" xlink:show=\"new\" xlink:title=\"psysml:de084c60-8c86-4761-a316-7296396fb321\" xlink:type=\"simple\"><rect fill=\"#FEFECE\" filter=\"url(#fsoxop7il2y3x)\" height=\"45.9375\" id=\"E7\" rx=\"10\" ry=\"10\" style=\"stroke: #A80036; stroke-width: 1.5;\" width=\"42\" x=\"44\" y=\"564.5\"/><text fill=\"#000000\" font-family=\"sans-serif\" font-size=\"12\" font-style=\"italic\" lengthAdjust=\"spacingAndGlyphs\" textLength=\"40\" x=\"45\" y=\"580.6387\">«part»</text><text fill=\"#000000\" font-family=\"sans-serif\" font-size=\"12\" lengthAdjust=\"spacingAndGlyphs\" textLength=\"24\" x=\"53\" y=\"594.6074\">a: A</text><line style=\"stroke: #A80036; stroke-width: 1.5;\" x1=\"45\" x2=\"85\" y1=\"602.4375\" y2=\"602.4375\"/></a><!--MD5=[96f4274e9e20536e775497830990834d]\n",
       "class E10--><a href=\"psysml:4c8e1ce2-7f9a-4661-9090-c510b6f01354\" target=\"_top\" title=\"psysml:4c8e1ce2-7f9a-4661-9090-c510b6f01354\" xlink:actuate=\"onRequest\" xlink:href=\"psysml:4c8e1ce2-7f9a-4661-9090-c510b6f01354\" xlink:show=\"new\" xlink:title=\"psysml:4c8e1ce2-7f9a-4661-9090-c510b6f01354\" xlink:type=\"simple\"><rect fill=\"#FEFECE\" filter=\"url(#fsoxop7il2y3x)\" height=\"45.9375\" id=\"E10\" style=\"stroke: #A80036; stroke-width: 1.5;\" width=\"66\" x=\"146\" y=\"41\"/><text fill=\"#000000\" font-family=\"sans-serif\" font-size=\"12\" font-style=\"italic\" lengthAdjust=\"spacingAndGlyphs\" textLength=\"64\" x=\"147\" y=\"57.1387\">«port def»</text><text fill=\"#000000\" font-family=\"sans-serif\" font-size=\"12\" lengthAdjust=\"spacingAndGlyphs\" textLength=\"8\" x=\"175\" y=\"71.1074\">C</text><line style=\"stroke: #A80036; stroke-width: 1.5;\" x1=\"147\" x2=\"211\" y1=\"78.9375\" y2=\"78.9375\"/></a><a href=\"psysml:4c76b494-1a6c-482d-b35c-aa72d24bc41e\" target=\"_top\" title=\"psysml:4c76b494-1a6c-482d-b35c-aa72d24bc41e\" xlink:actuate=\"onRequest\" xlink:href=\"psysml:4c76b494-1a6c-482d-b35c-aa72d24bc41e\" xlink:show=\"new\" xlink:title=\"psysml:4c76b494-1a6c-482d-b35c-aa72d24bc41e\" xlink:type=\"simple\"><polygon fill=\"#FFFFFF\" filter=\"url(#fsoxop7il2y3x)\" points=\"132,561,148,561,155,583.2969,162,583.2969,162,613.5938,132,613.5938,132,561\" style=\"stroke: #000000; stroke-width: 1.5;\"/><line style=\"stroke: #000000; stroke-width: 1.5;\" x1=\"132\" x2=\"155\" y1=\"583.2969\" y2=\"583.2969\"/><text fill=\"#000000\" font-family=\"sans-serif\" font-size=\"14\" font-weight=\"bold\" lengthAdjust=\"spacingAndGlyphs\" textLength=\"10\" x=\"136\" y=\"575.9951\">P</text></a><!--MD5=[2720a5a1f2c3fca2055b230370638851]\n",
       "link E2 to E3--><a href=\"psysml:38cdc859-4dfa-4bc4-87cd-169dd5acc896\" target=\"_top\" title=\"psysml:38cdc859-4dfa-4bc4-87cd-169dd5acc896\" xlink:actuate=\"onRequest\" xlink:href=\"psysml:38cdc859-4dfa-4bc4-87cd-169dd5acc896\" xlink:show=\"new\" xlink:title=\"psysml:38cdc859-4dfa-4bc4-87cd-169dd5acc896\" xlink:type=\"simple\"><path d=\"M43.23,87.08 C38.46,100.64 34.45,118.34 38,134 C38.82,137.61 39.86,141.26 41.06,144.89 \" fill=\"none\" id=\"E2-&gt;E3\" style=\"stroke: #A80036; stroke-width: 1.0;\"/><polygon fill=\"#FFFFFF\" points=\"48.65,163.8,35.0703,148.7803,48.0607,143.5601,48.65,163.8\" style=\"stroke: #A80036; stroke-width: 1.0;\"/><ellipse cx=\"34.8007\" cy=\"142.7456\" fill=\"#A80036\" rx=\"2\" ry=\"2\" style=\"stroke: #A80036; stroke-width: 1.0;\"/><ellipse cx=\"44.0796\" cy=\"139.0169\" fill=\"#A80036\" rx=\"2\" ry=\"2\" style=\"stroke: #A80036; stroke-width: 1.0;\"/></a><!--MD5=[4672eba38e49728da53d11aeb285b987]\n",
       "reverse link E3 to E4--><a href=\"psysml:5ebdadf2-6044-45bc-aa24-2da7c79aba16\" target=\"_top\" title=\"psysml:5ebdadf2-6044-45bc-aa24-2da7c79aba16\" xlink:actuate=\"onRequest\" xlink:href=\"psysml:5ebdadf2-6044-45bc-aa24-2da7c79aba16\" xlink:show=\"new\" xlink:title=\"psysml:5ebdadf2-6044-45bc-aa24-2da7c79aba16\" xlink:type=\"simple\"><path d=\"M72.88,253.51 C73.88,264.59 75.22,276.22 77,287 C78.64,296.92 81.21,307.72 83.63,316.9 \" fill=\"none\" id=\"E3&lt;-E4\" style=\"stroke: #A80036; stroke-width: 1.0;\"/><polygon fill=\"#A80036\" points=\"71.81,240.38,68.3042,246.6816,72.7727,252.3413,76.2785,246.0398,71.81,240.38\" style=\"stroke: #A80036; stroke-width: 1.0;\"/></a><!--MD5=[79568f1e445c3877b6a54524624ccc7d]\n",
       "link E4 to E6--><a href=\"psysml:1fd8d685-c326-41aa-b421-a8308f20148e\" target=\"_top\" title=\"psysml:1fd8d685-c326-41aa-b421-a8308f20148e\" xlink:actuate=\"onRequest\" xlink:href=\"psysml:1fd8d685-c326-41aa-b421-a8308f20148e\" xlink:show=\"new\" xlink:title=\"psysml:1fd8d685-c326-41aa-b421-a8308f20148e\" xlink:type=\"simple\"><path d=\"M100.45,363.01 C106.1,374.9 113.36,390.18 120.46,405.12 \" fill=\"none\" id=\"E4-&gt;E6\" style=\"stroke: #A80036; stroke-width: 1.0;\"/><polygon fill=\"#FFFFFF\" points=\"129.22,423.57,114.7395,409.4167,127.3831,403.405,129.22,423.57\" style=\"stroke: #A80036; stroke-width: 1.0;\"/><ellipse cx=\"114.0981\" cy=\"403.4102\" fill=\"#A80036\" rx=\"2\" ry=\"2\" style=\"stroke: #A80036; stroke-width: 1.0;\"/><ellipse cx=\"123.1292\" cy=\"399.1161\" fill=\"#A80036\" rx=\"2\" ry=\"2\" style=\"stroke: #A80036; stroke-width: 1.0;\"/></a><!--MD5=[3f50a3473f1dfb74d3f76443e03635af]\n",
       "reverse link E6 to E7--><a href=\"psysml:c471fe89-f766-40f3-82e0-5e28332f3a67\" target=\"_top\" title=\"psysml:c471fe89-f766-40f3-82e0-5e28332f3a67\" xlink:actuate=\"onRequest\" xlink:href=\"psysml:c471fe89-f766-40f3-82e0-5e28332f3a67\" xlink:show=\"new\" xlink:title=\"psysml:c471fe89-f766-40f3-82e0-5e28332f3a67\" xlink:type=\"simple\"><path d=\"M115.19,510.9 C103,529.26 89.67,549.34 79.81,564.19 \" fill=\"none\" id=\"E6&lt;-E7\" style=\"stroke: #A80036; stroke-width: 1.0;\"/><polygon fill=\"#A80036\" points=\"122.4,500.05,115.7495,502.8377,115.7649,510.0488,122.4154,507.2611,122.4,500.05\" style=\"stroke: #A80036; stroke-width: 1.0;\"/></a><!--MD5=[14ccda38c055a5c0da953d572bc50960]\n",
       "link E7 to E3--><a href=\"psysml:ce24e444-eb42-4eaa-91b0-86c1efe7ffc5\" target=\"_top\" title=\"psysml:ce24e444-eb42-4eaa-91b0-86c1efe7ffc5\" xlink:actuate=\"onRequest\" xlink:href=\"psysml:ce24e444-eb42-4eaa-91b0-86c1efe7ffc5\" xlink:show=\"new\" xlink:title=\"psysml:ce24e444-eb42-4eaa-91b0-86c1efe7ffc5\" xlink:type=\"simple\"><path d=\"M61.85,564.46 C55.72,518.43 43.41,408.75 51,317 C52.55,298.29 55.5,278.02 58.63,259.84 \" fill=\"none\" id=\"E7-&gt;E3\" style=\"stroke: #A80036; stroke-width: 1.0;\"/><polygon fill=\"#FFFFFF\" points=\"62.24,240.03,65.7193,259.9773,51.9463,257.4667,62.24,240.03\" style=\"stroke: #A80036; stroke-width: 1.0;\"/><ellipse cx=\"62.7296\" cy=\"265.2262\" fill=\"#A80036\" rx=\"2\" ry=\"2\" style=\"stroke: #A80036; stroke-width: 1.0;\"/><ellipse cx=\"52.8917\" cy=\"263.433\" fill=\"#A80036\" rx=\"2\" ry=\"2\" style=\"stroke: #A80036; stroke-width: 1.0;\"/></a><!--MD5=[e88d06e5a652d73a6b19930eefe025a8]\n",
       "reverse link E6 to E9--><a href=\"psysml:cabff1fd-5442-4a71-976e-341ac2e5dda1\" target=\"_top\" title=\"psysml:cabff1fd-5442-4a71-976e-341ac2e5dda1\" xlink:actuate=\"onRequest\" xlink:href=\"psysml:cabff1fd-5442-4a71-976e-341ac2e5dda1\" xlink:show=\"new\" xlink:title=\"psysml:cabff1fd-5442-4a71-976e-341ac2e5dda1\" xlink:type=\"simple\"><path d=\"M147,515.35 C147,531.08 147,547.65 147,560.83 \" fill=\"none\" id=\"E6&lt;-E9\" style=\"stroke: #A80036; stroke-width: 1.0;\"/><ellipse cx=\"147\" cy=\"508.05\" fill=\"#FFFFFF\" rx=\"8\" ry=\"8\" style=\"stroke: #A80036; stroke-width: 1.0;\"/><line style=\"stroke: #A80036; stroke-width: 1.0;\" x1=\"147\" x2=\"147\" y1=\"516.05\" y2=\"500.05\"/><line style=\"stroke: #A80036; stroke-width: 1.0;\" x1=\"139\" x2=\"155\" y1=\"508.05\" y2=\"508.05\"/></a><!--MD5=[8e04057e7b3cbc0dca4fc78ea351e2da]\n",
       "reverse link E10 to E3--><a href=\"psysml:a19db77c-da80-41d6-a5f2-85a22676bfcf\" target=\"_top\" title=\"psysml:a19db77c-da80-41d6-a5f2-85a22676bfcf\" xlink:actuate=\"onRequest\" xlink:href=\"psysml:a19db77c-da80-41d6-a5f2-85a22676bfcf\" xlink:show=\"new\" xlink:title=\"psysml:a19db77c-da80-41d6-a5f2-85a22676bfcf\" xlink:type=\"simple\"><path d=\"M133.33,76.35 C111.95,84.13 88.32,96.81 75,117 C66.07,130.53 63.94,148.12 64.4,163.71 \" fill=\"none\" id=\"E10&lt;-E3\" style=\"stroke: #A80036; stroke-width: 1.0;\"/><polygon fill=\"#FFFFFF\" points=\"145.89,72.22,138.939,70.3009,134.494,75.9791,141.445,77.8982,145.89,72.22\" style=\"stroke: #A80036; stroke-width: 1.0;\"/><text fill=\"#000000\" font-family=\"sans-serif\" font-size=\"13\" lengthAdjust=\"spacingAndGlyphs\" textLength=\"7\" x=\"76\" y=\"130.0669\">y</text></a><!--MD5=[8e04057e7b3cbc0dca4fc78ea351e2da]\n",
       "reverse link E10 to E3--><a href=\"psysml:a19db77c-da80-41d6-a5f2-85a22676bfcf\" target=\"_top\" title=\"psysml:a19db77c-da80-41d6-a5f2-85a22676bfcf\" xlink:actuate=\"onRequest\" xlink:href=\"psysml:a19db77c-da80-41d6-a5f2-85a22676bfcf\" xlink:show=\"new\" xlink:title=\"psysml:a19db77c-da80-41d6-a5f2-85a22676bfcf\" xlink:type=\"simple\"><path d=\"M143.35,96.28 C136.62,102.85 129.86,109.93 124,117 C112.05,131.41 100.57,148.61 91.29,163.69 \" fill=\"none\" id=\"E10&lt;-E3-1\" style=\"stroke: #A80036; stroke-width: 1.0;\"/><polygon fill=\"#FFFFFF\" points=\"153.08,87.1,145.9702,88.3047,144.3478,95.331,151.4576,94.1262,153.08,87.1\" style=\"stroke: #A80036; stroke-width: 1.0;\"/><text fill=\"#000000\" font-family=\"sans-serif\" font-size=\"13\" lengthAdjust=\"spacingAndGlyphs\" textLength=\"7\" x=\"125\" y=\"130.0669\">y</text></a><!--MD5=[8e04057e7b3cbc0dca4fc78ea351e2da]\n",
       "reverse link E10 to E3--><a href=\"psysml:a19db77c-da80-41d6-a5f2-85a22676bfcf\" target=\"_top\" title=\"psysml:a19db77c-da80-41d6-a5f2-85a22676bfcf\" xlink:actuate=\"onRequest\" xlink:href=\"psysml:a19db77c-da80-41d6-a5f2-85a22676bfcf\" xlink:show=\"new\" xlink:title=\"psysml:a19db77c-da80-41d6-a5f2-85a22676bfcf\" xlink:type=\"simple\"><path d=\"M158.49,98.17 C150.89,109.8 141.93,122.76 133,134 C123.86,145.5 113.16,157.39 103.19,167.9 \" fill=\"none\" id=\"E10&lt;-E3-2\" style=\"stroke: #A80036; stroke-width: 1.0;\"/><polygon fill=\"#FFFFFF\" points=\"165.6,87.1,158.9946,89.9928,159.1242,97.2027,165.7297,94.3099,165.6,87.1\" style=\"stroke: #A80036; stroke-width: 1.0;\"/><text fill=\"#000000\" font-family=\"sans-serif\" font-size=\"13\" lengthAdjust=\"spacingAndGlyphs\" textLength=\"7\" x=\"146\" y=\"130.0669\">y</text></a><!--MD5=[604cbf994c02b74b117f728a71673cea]\n",
       "reverse link E10 to E6--><a href=\"psysml:a19db77c-da80-41d6-a5f2-85a22676bfcf\" target=\"_top\" title=\"psysml:a19db77c-da80-41d6-a5f2-85a22676bfcf\" xlink:actuate=\"onRequest\" xlink:href=\"psysml:a19db77c-da80-41d6-a5f2-85a22676bfcf\" xlink:show=\"new\" xlink:title=\"psysml:a19db77c-da80-41d6-a5f2-85a22676bfcf\" xlink:type=\"simple\"><path d=\"M197.26,99.16 C199.64,104.97 201.69,111.05 203,117 C204.62,124.38 203.15,126.45 203,134 C200.78,249.62 229.38,284.23 193,394 C189.58,404.31 184.06,414.48 178.01,423.66 \" fill=\"none\" id=\"E10&lt;-E6\" style=\"stroke: #A80036; stroke-width: 1.0;\"/><polygon fill=\"#FFFFFF\" points=\"191.73,87.03,190.583,94.1493,196.7135,97.9463,197.8605,90.827,191.73,87.03\" style=\"stroke: #A80036; stroke-width: 1.0;\"/><text fill=\"#000000\" font-family=\"sans-serif\" font-size=\"13\" lengthAdjust=\"spacingAndGlyphs\" textLength=\"7\" x=\"212\" y=\"283.0669\">y</text></a><!--MD5=[604cbf994c02b74b117f728a71673cea]\n",
       "reverse link E10 to E6--><a href=\"psysml:a19db77c-da80-41d6-a5f2-85a22676bfcf\" target=\"_top\" title=\"psysml:a19db77c-da80-41d6-a5f2-85a22676bfcf\" xlink:actuate=\"onRequest\" xlink:href=\"psysml:a19db77c-da80-41d6-a5f2-85a22676bfcf\" xlink:show=\"new\" xlink:title=\"psysml:a19db77c-da80-41d6-a5f2-85a22676bfcf\" xlink:type=\"simple\"><path d=\"M171.02,99.85 C168.34,110.83 165.22,122.97 162,134 C144.13,195.25 126.36,207.04 116,270 C114.77,277.46 114.57,279.58 116,287 C118.72,301.1 124.37,303.11 128,317 C137.32,352.62 142.19,394.45 144.65,423.82 \" fill=\"none\" id=\"E10&lt;-E6-1\" style=\"stroke: #A80036; stroke-width: 1.0;\"/><polygon fill=\"#FFFFFF\" points=\"174.04,87.19,168.7576,92.0987,171.257,98.8628,176.5394,93.9541,174.04,87.19\" style=\"stroke: #A80036; stroke-width: 1.0;\"/><text fill=\"#000000\" font-family=\"sans-serif\" font-size=\"13\" lengthAdjust=\"spacingAndGlyphs\" textLength=\"7\" x=\"117\" y=\"283.0669\">y</text></a><!--MD5=[604cbf994c02b74b117f728a71673cea]\n",
       "reverse link E10 to E6--><a href=\"psysml:a19db77c-da80-41d6-a5f2-85a22676bfcf\" target=\"_top\" title=\"psysml:a19db77c-da80-41d6-a5f2-85a22676bfcf\" xlink:actuate=\"onRequest\" xlink:href=\"psysml:a19db77c-da80-41d6-a5f2-85a22676bfcf\" xlink:show=\"new\" xlink:title=\"psysml:a19db77c-da80-41d6-a5f2-85a22676bfcf\" xlink:type=\"simple\"><path d=\"M176.15,100.27 C170.13,174.82 156.15,347.78 150,423.9 \" fill=\"none\" id=\"E10&lt;-E6-2\" style=\"stroke: #A80036; stroke-width: 1.0;\"/><polygon fill=\"#FFFFFF\" points=\"177.21,87.14,172.7415,92.7998,176.2473,99.1013,180.7158,93.4416,177.21,87.14\" style=\"stroke: #A80036; stroke-width: 1.0;\"/><text fill=\"#000000\" font-family=\"sans-serif\" font-size=\"13\" lengthAdjust=\"spacingAndGlyphs\" textLength=\"7\" x=\"163\" y=\"283.0669\">y</text></a><!--MD5=[bfea5b97cc0986db8f650391a29769b4]\n",
       "@startuml\r\n",
       "skinparam wrapWidth 300\r\n",
       "hide circle\r\n",
       "\r\n",
       "package \"PartTest\" as E1  [[psysml:c65cc0cd-28b1-4d7a-bc05-02136890ed9a ]]  {\r\n",
       "comp usage \"f: A\" as E2  <<(T,blue)part>> [[psysml:634826b2-2fc2-4798-92ed-071cd1dffdd8 ]] {\r\n",
       "}\r\n",
       "comp def \"A\" as E3  <<(T,blue)part def>> [[psysml:36aba5eb-a810-4976-a211-fcdfb7b330f5 ]] {\r\n",
       "- - ports - -\r\n",
       "c: C\r\n",
       "}\r\n",
       "comp usage \"b: B\" as E4  <<(T,blue)part>> [[psysml:b5150c44-d935-4f31-a69b-527c90fd7c47 ]] {\r\n",
       "}\r\n",
       "comp def \"B\" as E6  <<(T,blue)part def>> [[psysml:94fb1c4b-8096-4b0e-a0c8-00d5fe55de6c ]] {\r\n",
       "- - ports - -\r\n",
       "x: ~C\r\n",
       "}\r\n",
       "comp usage \"a: A\" as E7  <<(T,blue)part>> [[psysml:de084c60-8c86-4761-a316-7296396fb321 ]] {\r\n",
       "}\r\n",
       "package \"P\" as E9  [[psysml:4c76b494-1a6c-482d-b35c-aa72d24bc41e ]]  {\r\n",
       "}\r\n",
       "comp def \"C\" as E10  <<(T,blue)port def>> [[psysml:4c8e1ce2-7f9a-4661-9090-c510b6f01354 ]] {\r\n",
       "}\r\n",
       "E2 - -:|> E3 [[psysml:38cdc859-4dfa-4bc4-87cd-169dd5acc896 ]] \r\n",
       "E3 *- - E4 [[psysml:5ebdadf2-6044-45bc-aa24-2da7c79aba16 ]] \r\n",
       "E4 - -:|> E6 [[psysml:1fd8d685-c326-41aa-b421-a8308f20148e ]] \r\n",
       "E6 *- - E7 [[psysml:c471fe89-f766-40f3-82e0-5e28332f3a67 ]] \r\n",
       "E7 - -:|> E3 [[psysml:ce24e444-eb42-4eaa-91b0-86c1efe7ffc5 ]] \r\n",
       "E6 +- - E9 [[psysml:cabff1fd-5442-4a71-976e-341ac2e5dda1 ]] \r\n",
       "E10 o- - E3 [[psysml:a19db77c-da80-41d6-a5f2-85a22676bfcf ]] : y\r\n",
       "E10 o- - E6 [[psysml:a19db77c-da80-41d6-a5f2-85a22676bfcf ]] : y\r\n",
       "E10 o- - E3 [[psysml:a19db77c-da80-41d6-a5f2-85a22676bfcf ]] : y\r\n",
       "E10 o- - E6 [[psysml:a19db77c-da80-41d6-a5f2-85a22676bfcf ]] : y\r\n",
       "E10 o- - E3 [[psysml:a19db77c-da80-41d6-a5f2-85a22676bfcf ]] : y\r\n",
       "E10 o- - E6 [[psysml:a19db77c-da80-41d6-a5f2-85a22676bfcf ]] : y\r\n",
       "}\r\n",
       "@enduml\r\n",
       "\n",
       "PlantUML version 1.2020.13(Sat Jun 13 12:26:38 UTC 2020)\n",
       "(EPL source distribution)\n",
       "Java Runtime: OpenJDK Runtime Environment\n",
       "JVM: OpenJDK 64-Bit Server VM\n",
       "Default Encoding: UTF-8\n",
       "Language: en\n",
       "Country: null\n",
       "--></g></svg>"
      ]
     },
     "execution_count": 29,
     "metadata": {},
     "output_type": "execute_result"
    }
   ],
   "source": [
    "%viz --style=\"STDCOLOR\" --view=\"MIXED\" \"PartTest\""
   ]
  },
  {
   "cell_type": "code",
   "execution_count": 30,
   "id": "7f072caa",
   "metadata": {
    "execution": {
     "iopub.execute_input": "2021-04-20T07:29:13.688923Z",
     "iopub.status.busy": "2021-04-20T07:29:13.688062Z",
     "iopub.status.idle": "2021-04-20T07:29:13.811324Z",
     "shell.execute_reply": "2021-04-20T07:29:13.810865Z"
    }
   },
   "outputs": [
    {
     "data": {
      "image/svg+xml": [
       "<?xml version=\"1.0\" encoding=\"UTF-8\" standalone=\"no\"?><svg xmlns=\"http://www.w3.org/2000/svg\" xmlns:xlink=\"http://www.w3.org/1999/xlink\" contentScriptType=\"application/ecmascript\" contentStyleType=\"text/css\" height=\"630px\" preserveAspectRatio=\"none\" style=\"width:286px;height:630px;\" version=\"1.1\" viewBox=\"0 0 286 630\" width=\"286px\" zoomAndPan=\"magnify\"><defs><filter height=\"300%\" id=\"f1rhmo03ptqprs\" width=\"300%\" x=\"-1\" y=\"-1\"><feGaussianBlur result=\"blurOut\" stdDeviation=\"2.0\"/><feColorMatrix in=\"blurOut\" result=\"blurOut2\" type=\"matrix\" values=\"0 0 0 0 0 0 0 0 0 0 0 0 0 0 0 0 0 0 .4 0\"/><feOffset dx=\"4.0\" dy=\"4.0\" in=\"blurOut2\" result=\"blurOut3\"/><feBlend in=\"SourceGraphic\" in2=\"blurOut3\" mode=\"normal\"/></filter></defs><g><!--MD5=[fbc87193dbaf4d95561dea2c320d4a47]\n",
       "cluster E1--><a href=\"psysml:c65cc0cd-28b1-4d7a-bc05-02136890ed9a\" target=\"_top\" title=\"psysml:c65cc0cd-28b1-4d7a-bc05-02136890ed9a\" xlink:actuate=\"onRequest\" xlink:href=\"psysml:c65cc0cd-28b1-4d7a-bc05-02136890ed9a\" xlink:show=\"new\" xlink:title=\"psysml:c65cc0cd-28b1-4d7a-bc05-02136890ed9a\" xlink:type=\"simple\"><polygon fill=\"#FFFFFF\" filter=\"url(#f1rhmo03ptqprs)\" points=\"16,6,89,6,96,28.2969,264,28.2969,264,618,16,618,16,6\" style=\"stroke: #000000; stroke-width: 1.5;\"/><line style=\"stroke: #000000; stroke-width: 1.5;\" x1=\"16\" x2=\"96\" y1=\"28.2969\" y2=\"28.2969\"/><text fill=\"#000000\" font-family=\"sans-serif\" font-size=\"14\" font-weight=\"bold\" lengthAdjust=\"spacingAndGlyphs\" textLength=\"67\" x=\"20\" y=\"20.9951\">PartTest</text></a><!--MD5=[b4997ac47864f28c2f74865a473b2911]\n",
       "class E2--><a href=\"psysml:634826b2-2fc2-4798-92ed-071cd1dffdd8\" target=\"_top\" title=\"psysml:634826b2-2fc2-4798-92ed-071cd1dffdd8\" xlink:actuate=\"onRequest\" xlink:href=\"psysml:634826b2-2fc2-4798-92ed-071cd1dffdd8\" xlink:show=\"new\" xlink:title=\"psysml:634826b2-2fc2-4798-92ed-071cd1dffdd8\" xlink:type=\"simple\"><rect fill=\"#FEFECE\" filter=\"url(#f1rhmo03ptqprs)\" height=\"45.9375\" id=\"E2\" rx=\"10\" ry=\"10\" style=\"stroke: #A80036; stroke-width: 1.5;\" width=\"68\" x=\"32\" y=\"41\"/><ellipse cx=\"47\" cy=\"59.9688\" fill=\"#32CD32\" rx=\"11\" ry=\"11\" style=\"stroke: #A80036; stroke-width: 1.0;\"/><path d=\"M46.7969,55.6406 L46.7969,59.2656 L47.7969,59.2656 Q49,59.2656 49.4844,58.8594 Q49.9688,58.4531 49.9688,57.4531 Q49.9688,56.4531 49.4844,56.0469 Q49,55.6406 47.7969,55.6406 L46.7969,55.6406 Z M44.3438,53.5781 L47.7031,53.5781 Q50.2656,53.5781 51.3906,54.5 Q52.5156,55.4063 52.5156,57.4531 Q52.5156,59.5 51.3906,60.4219 Q50.2656,61.3281 47.7031,61.3281 L46.7969,61.3281 L46.7969,65.9688 L44.3438,65.9688 L44.3438,53.5781 Z \"/><text fill=\"#000000\" font-family=\"sans-serif\" font-size=\"12\" font-style=\"italic\" lengthAdjust=\"spacingAndGlyphs\" textLength=\"40\" x=\"59\" y=\"57.1387\">«part»</text><text fill=\"#000000\" font-family=\"sans-serif\" font-size=\"12\" lengthAdjust=\"spacingAndGlyphs\" textLength=\"20\" x=\"69\" y=\"71.1074\">f: A</text><line style=\"stroke: #A80036; stroke-width: 1.5;\" x1=\"33\" x2=\"99\" y1=\"78.9375\" y2=\"78.9375\"/></a><!--MD5=[09b614a08d8cba4a07c9adeb5e0fee81]\n",
       "class E3--><a href=\"psysml:36aba5eb-a810-4976-a211-fcdfb7b330f5\" target=\"_top\" title=\"psysml:36aba5eb-a810-4976-a211-fcdfb7b330f5\" xlink:actuate=\"onRequest\" xlink:href=\"psysml:36aba5eb-a810-4976-a211-fcdfb7b330f5\" xlink:show=\"new\" xlink:title=\"psysml:36aba5eb-a810-4976-a211-fcdfb7b330f5\" xlink:type=\"simple\"><rect fill=\"#FEFECE\" filter=\"url(#f1rhmo03ptqprs)\" height=\"69.6094\" id=\"E3\" style=\"stroke: #A80036; stroke-width: 1.5;\" width=\"40\" x=\"60\" y=\"164\"/><ellipse cx=\"75\" cy=\"180\" fill=\"#008000\" rx=\"11\" ry=\"11\" style=\"stroke: #A80036; stroke-width: 1.0;\"/><path d=\"M73.9063,180.375 L73.9063,184.0469 L75.5313,184.0469 Q76.7031,184.0469 77.1719,183.6563 Q77.6406,183.25 77.6406,182.25 Q77.6406,181.25 77.1406,180.8125 Q76.6563,180.375 75.5313,180.375 L73.9063,180.375 Z M73.9063,175.5469 L73.9063,178.4219 L75.5313,178.4219 Q76.4531,178.4219 76.8438,178.0938 Q77.25,177.75 77.25,177 Q77.25,176.2344 76.8438,175.8906 Q76.4375,175.5469 75.5313,175.5469 L73.9063,175.5469 Z M71.5313,173.5938 L75.5313,173.5938 Q77.5938,173.5938 78.6406,174.375 Q79.6875,175.1563 79.6875,176.7188 Q79.6875,177.9219 79.0625,178.5938 Q78.4531,179.2656 77.2656,179.375 Q78.6875,179.5156 79.4063,180.3281 Q80.125,181.1406 80.125,182.5938 Q80.125,184.3906 79.0469,185.2031 Q77.9688,186 75.5313,186 L71.5313,186 L71.5313,173.5938 Z \"/><text fill=\"#000000\" font-family=\"sans-serif\" font-size=\"12\" lengthAdjust=\"spacingAndGlyphs\" textLength=\"8\" x=\"89\" y=\"184.1543\">A</text><line style=\"stroke: #A80036; stroke-width: 1.5;\" x1=\"61\" x2=\"99\" y1=\"196\" y2=\"196\"/><text fill=\"#000000\" font-family=\"sans-serif\" font-size=\"11\" lengthAdjust=\"spacingAndGlyphs\" textLength=\"22\" x=\"66\" y=\"227.0151\">c: C</text><line style=\"stroke: #A80036; stroke-width: 1.0;\" x1=\"61\" x2=\"65\" y1=\"210.4023\" y2=\"210.4023\"/><text fill=\"#000000\" font-family=\"sans-serif\" font-size=\"11\" lengthAdjust=\"spacingAndGlyphs\" textLength=\"30\" x=\"65\" y=\"213.7104\">ports</text><line style=\"stroke: #A80036; stroke-width: 1.0;\" x1=\"95\" x2=\"99\" y1=\"210.4023\" y2=\"210.4023\"/></a><!--MD5=[ebbe1d658d1005bcc118a6aa81145e00]\n",
       "class E4--><a href=\"psysml:b5150c44-d935-4f31-a69b-527c90fd7c47\" target=\"_top\" title=\"psysml:b5150c44-d935-4f31-a69b-527c90fd7c47\" xlink:actuate=\"onRequest\" xlink:href=\"psysml:b5150c44-d935-4f31-a69b-527c90fd7c47\" xlink:show=\"new\" xlink:title=\"psysml:b5150c44-d935-4f31-a69b-527c90fd7c47\" xlink:type=\"simple\"><rect fill=\"#FEFECE\" filter=\"url(#f1rhmo03ptqprs)\" height=\"45.9375\" id=\"E4\" rx=\"10\" ry=\"10\" style=\"stroke: #A80036; stroke-width: 1.5;\" width=\"68\" x=\"69\" y=\"311\"/><ellipse cx=\"84\" cy=\"329.9688\" fill=\"#32CD32\" rx=\"11\" ry=\"11\" style=\"stroke: #A80036; stroke-width: 1.0;\"/><path d=\"M83.7969,325.6406 L83.7969,329.2656 L84.7969,329.2656 Q86,329.2656 86.4844,328.8594 Q86.9688,328.4531 86.9688,327.4531 Q86.9688,326.4531 86.4844,326.0469 Q86,325.6406 84.7969,325.6406 L83.7969,325.6406 Z M81.3438,323.5781 L84.7031,323.5781 Q87.2656,323.5781 88.3906,324.5 Q89.5156,325.4063 89.5156,327.4531 Q89.5156,329.5 88.3906,330.4219 Q87.2656,331.3281 84.7031,331.3281 L83.7969,331.3281 L83.7969,335.9688 L81.3438,335.9688 L81.3438,323.5781 Z \"/><text fill=\"#000000\" font-family=\"sans-serif\" font-size=\"12\" font-style=\"italic\" lengthAdjust=\"spacingAndGlyphs\" textLength=\"40\" x=\"96\" y=\"327.1387\">«part»</text><text fill=\"#000000\" font-family=\"sans-serif\" font-size=\"12\" lengthAdjust=\"spacingAndGlyphs\" textLength=\"24\" x=\"104\" y=\"341.1074\">b: B</text><line style=\"stroke: #A80036; stroke-width: 1.5;\" x1=\"70\" x2=\"136\" y1=\"348.9375\" y2=\"348.9375\"/></a><!--MD5=[60a26617385b1d2d0262a64233df1f8d]\n",
       "class E6--><a href=\"psysml:94fb1c4b-8096-4b0e-a0c8-00d5fe55de6c\" target=\"_top\" title=\"psysml:94fb1c4b-8096-4b0e-a0c8-00d5fe55de6c\" xlink:actuate=\"onRequest\" xlink:href=\"psysml:94fb1c4b-8096-4b0e-a0c8-00d5fe55de6c\" xlink:show=\"new\" xlink:title=\"psysml:94fb1c4b-8096-4b0e-a0c8-00d5fe55de6c\" xlink:type=\"simple\"><rect fill=\"#FEFECE\" filter=\"url(#f1rhmo03ptqprs)\" height=\"69.6094\" id=\"E6\" style=\"stroke: #A80036; stroke-width: 1.5;\" width=\"43\" x=\"151.5\" y=\"418\"/><ellipse cx=\"167.85\" cy=\"434\" fill=\"#008000\" rx=\"11\" ry=\"11\" style=\"stroke: #A80036; stroke-width: 1.0;\"/><path d=\"M166.7563,434.375 L166.7563,438.0469 L168.3813,438.0469 Q169.5531,438.0469 170.0219,437.6563 Q170.4906,437.25 170.4906,436.25 Q170.4906,435.25 169.9906,434.8125 Q169.5063,434.375 168.3813,434.375 L166.7563,434.375 Z M166.7563,429.5469 L166.7563,432.4219 L168.3813,432.4219 Q169.3031,432.4219 169.6938,432.0938 Q170.1,431.75 170.1,431 Q170.1,430.2344 169.6938,429.8906 Q169.2875,429.5469 168.3813,429.5469 L166.7563,429.5469 Z M164.3813,427.5938 L168.3813,427.5938 Q170.4438,427.5938 171.4906,428.375 Q172.5375,429.1563 172.5375,430.7188 Q172.5375,431.9219 171.9125,432.5938 Q171.3031,433.2656 170.1156,433.375 Q171.5375,433.5156 172.2563,434.3281 Q172.975,435.1406 172.975,436.5938 Q172.975,438.3906 171.8969,439.2031 Q170.8188,440 168.3813,440 L164.3813,440 L164.3813,427.5938 Z \"/><text fill=\"#000000\" font-family=\"sans-serif\" font-size=\"12\" lengthAdjust=\"spacingAndGlyphs\" textLength=\"8\" x=\"182.15\" y=\"438.1543\">B</text><line style=\"stroke: #A80036; stroke-width: 1.5;\" x1=\"152.5\" x2=\"193.5\" y1=\"450\" y2=\"450\"/><text fill=\"#000000\" font-family=\"sans-serif\" font-size=\"11\" lengthAdjust=\"spacingAndGlyphs\" textLength=\"31\" x=\"157.5\" y=\"481.0151\">x: ~C</text><line style=\"stroke: #A80036; stroke-width: 1.0;\" x1=\"152.5\" x2=\"158\" y1=\"464.4023\" y2=\"464.4023\"/><text fill=\"#000000\" font-family=\"sans-serif\" font-size=\"11\" lengthAdjust=\"spacingAndGlyphs\" textLength=\"30\" x=\"158\" y=\"467.7104\">ports</text><line style=\"stroke: #A80036; stroke-width: 1.0;\" x1=\"188\" x2=\"193.5\" y1=\"464.4023\" y2=\"464.4023\"/></a><!--MD5=[2156ba9850f5573cc1fc38a6a4b2f02b]\n",
       "class E7--><a href=\"psysml:de084c60-8c86-4761-a316-7296396fb321\" target=\"_top\" title=\"psysml:de084c60-8c86-4761-a316-7296396fb321\" xlink:actuate=\"onRequest\" xlink:href=\"psysml:de084c60-8c86-4761-a316-7296396fb321\" xlink:show=\"new\" xlink:title=\"psysml:de084c60-8c86-4761-a316-7296396fb321\" xlink:type=\"simple\"><rect fill=\"#FEFECE\" filter=\"url(#f1rhmo03ptqprs)\" height=\"45.9375\" id=\"E7\" rx=\"10\" ry=\"10\" style=\"stroke: #A80036; stroke-width: 1.5;\" width=\"68\" x=\"44\" y=\"552.5\"/><ellipse cx=\"59\" cy=\"571.4688\" fill=\"#32CD32\" rx=\"11\" ry=\"11\" style=\"stroke: #A80036; stroke-width: 1.0;\"/><path d=\"M58.7969,567.1406 L58.7969,570.7656 L59.7969,570.7656 Q61,570.7656 61.4844,570.3594 Q61.9688,569.9531 61.9688,568.9531 Q61.9688,567.9531 61.4844,567.5469 Q61,567.1406 59.7969,567.1406 L58.7969,567.1406 Z M56.3438,565.0781 L59.7031,565.0781 Q62.2656,565.0781 63.3906,566 Q64.5156,566.9063 64.5156,568.9531 Q64.5156,571 63.3906,571.9219 Q62.2656,572.8281 59.7031,572.8281 L58.7969,572.8281 L58.7969,577.4688 L56.3438,577.4688 L56.3438,565.0781 Z \"/><text fill=\"#000000\" font-family=\"sans-serif\" font-size=\"12\" font-style=\"italic\" lengthAdjust=\"spacingAndGlyphs\" textLength=\"40\" x=\"71\" y=\"568.6387\">«part»</text><text fill=\"#000000\" font-family=\"sans-serif\" font-size=\"12\" lengthAdjust=\"spacingAndGlyphs\" textLength=\"24\" x=\"79\" y=\"582.6074\">a: A</text><line style=\"stroke: #A80036; stroke-width: 1.5;\" x1=\"45\" x2=\"111\" y1=\"590.4375\" y2=\"590.4375\"/></a><!--MD5=[96f4274e9e20536e775497830990834d]\n",
       "class E10--><a href=\"psysml:4c8e1ce2-7f9a-4661-9090-c510b6f01354\" target=\"_top\" title=\"psysml:4c8e1ce2-7f9a-4661-9090-c510b6f01354\" xlink:actuate=\"onRequest\" xlink:href=\"psysml:4c8e1ce2-7f9a-4661-9090-c510b6f01354\" xlink:show=\"new\" xlink:title=\"psysml:4c8e1ce2-7f9a-4661-9090-c510b6f01354\" xlink:type=\"simple\"><rect fill=\"#FEFECE\" filter=\"url(#f1rhmo03ptqprs)\" height=\"45.9375\" id=\"E10\" style=\"stroke: #A80036; stroke-width: 1.5;\" width=\"92\" x=\"138\" y=\"41\"/><ellipse cx=\"153\" cy=\"59.9688\" fill=\"#A52A2A\" rx=\"11\" ry=\"11\" style=\"stroke: #A80036; stroke-width: 1.0;\"/><path d=\"M152.5938,55.7813 L152.5938,63.7656 L153.25,63.7656 Q154.6875,63.7656 155.2969,62.8594 Q155.9219,61.9375 155.9219,59.7656 Q155.9219,57.5938 155.2969,56.6875 Q154.6875,55.7813 153.25,55.7813 L152.5938,55.7813 Z M150.1406,53.5781 L152.7656,53.5781 Q155.7969,53.5781 157.125,55.0313 Q158.4688,56.4688 158.4688,59.7656 Q158.4688,63.0625 157.125,64.5156 Q155.7969,65.9688 152.7656,65.9688 L150.1406,65.9688 L150.1406,53.5781 Z \"/><text fill=\"#000000\" font-family=\"sans-serif\" font-size=\"12\" font-style=\"italic\" lengthAdjust=\"spacingAndGlyphs\" textLength=\"64\" x=\"165\" y=\"57.1387\">«port def»</text><text fill=\"#000000\" font-family=\"sans-serif\" font-size=\"12\" lengthAdjust=\"spacingAndGlyphs\" textLength=\"8\" x=\"193\" y=\"71.1074\">C</text><line style=\"stroke: #A80036; stroke-width: 1.5;\" x1=\"139\" x2=\"229\" y1=\"78.9375\" y2=\"78.9375\"/></a><a href=\"psysml:4c76b494-1a6c-482d-b35c-aa72d24bc41e\" target=\"_top\" title=\"psysml:4c76b494-1a6c-482d-b35c-aa72d24bc41e\" xlink:actuate=\"onRequest\" xlink:href=\"psysml:4c76b494-1a6c-482d-b35c-aa72d24bc41e\" xlink:show=\"new\" xlink:title=\"psysml:4c76b494-1a6c-482d-b35c-aa72d24bc41e\" xlink:type=\"simple\"><polygon fill=\"#FFFFFF\" filter=\"url(#f1rhmo03ptqprs)\" points=\"158,549,174,549,181,571.2969,188,571.2969,188,601.5938,158,601.5938,158,549\" style=\"stroke: #000000; stroke-width: 1.5;\"/><line style=\"stroke: #000000; stroke-width: 1.5;\" x1=\"158\" x2=\"181\" y1=\"571.2969\" y2=\"571.2969\"/><text fill=\"#000000\" font-family=\"sans-serif\" font-size=\"14\" font-weight=\"bold\" lengthAdjust=\"spacingAndGlyphs\" textLength=\"10\" x=\"162\" y=\"563.9951\">P</text></a><!--MD5=[2720a5a1f2c3fca2055b230370638851]\n",
       "link E2 to E3--><a href=\"psysml:38cdc859-4dfa-4bc4-87cd-169dd5acc896\" target=\"_top\" title=\"psysml:38cdc859-4dfa-4bc4-87cd-169dd5acc896\" xlink:actuate=\"onRequest\" xlink:href=\"psysml:38cdc859-4dfa-4bc4-87cd-169dd5acc896\" xlink:show=\"new\" xlink:title=\"psysml:38cdc859-4dfa-4bc4-87cd-169dd5acc896\" xlink:type=\"simple\"><path d=\"M48.64,87.3 C40.37,100.63 33.23,118.02 38,134 C40.43,142.12 44.25,150.17 48.63,157.68 \" fill=\"none\" id=\"E2-&gt;E3\" style=\"stroke: #A80036; stroke-width: 1.0;\"/><polygon fill=\"#FFFFFF\" points=\"59.79,174.47,43.4429,162.5213,55.1024,154.7716,59.79,174.47\" style=\"stroke: #A80036; stroke-width: 1.0;\"/><ellipse cx=\"41.9533\" cy=\"156.6671\" fill=\"#A80036\" rx=\"2\" ry=\"2\" style=\"stroke: #A80036; stroke-width: 1.0;\"/><ellipse cx=\"50.2815\" cy=\"151.1316\" fill=\"#A80036\" rx=\"2\" ry=\"2\" style=\"stroke: #A80036; stroke-width: 1.0;\"/></a><!--MD5=[4672eba38e49728da53d11aeb285b987]\n",
       "reverse link E3 to E4--><a href=\"psysml:5ebdadf2-6044-45bc-aa24-2da7c79aba16\" target=\"_top\" title=\"psysml:5ebdadf2-6044-45bc-aa24-2da7c79aba16\" xlink:actuate=\"onRequest\" xlink:href=\"psysml:5ebdadf2-6044-45bc-aa24-2da7c79aba16\" xlink:show=\"new\" xlink:title=\"psysml:5ebdadf2-6044-45bc-aa24-2da7c79aba16\" xlink:type=\"simple\"><path d=\"M88.18,247.28 C91.93,268.98 96.2,293.67 99.19,310.96 \" fill=\"none\" id=\"E3&lt;-E4\" style=\"stroke: #A80036; stroke-width: 1.0;\"/><polygon fill=\"#A80036\" points=\"85.92,234.25,83.0001,240.8435,87.9633,246.0748,90.8832,239.4813,85.92,234.25\" style=\"stroke: #A80036; stroke-width: 1.0;\"/></a><!--MD5=[79568f1e445c3877b6a54524624ccc7d]\n",
       "link E4 to E6--><a href=\"psysml:1fd8d685-c326-41aa-b421-a8308f20148e\" target=\"_top\" title=\"psysml:1fd8d685-c326-41aa-b421-a8308f20148e\" xlink:actuate=\"onRequest\" xlink:href=\"psysml:1fd8d685-c326-41aa-b421-a8308f20148e\" xlink:show=\"new\" xlink:title=\"psysml:1fd8d685-c326-41aa-b421-a8308f20148e\" xlink:type=\"simple\"><path d=\"M116.17,357.01 C123.51,369.28 132.99,385.13 142.09,400.34 \" fill=\"none\" id=\"E4-&gt;E6\" style=\"stroke: #A80036; stroke-width: 1.0;\"/><polygon fill=\"#FFFFFF\" points=\"152.46,417.67,136.6992,404.9579,148.7138,397.7711,152.46,417.67\" style=\"stroke: #A80036; stroke-width: 1.0;\"/><ellipse cx=\"135.4896\" cy=\"399.0395\" fill=\"#A80036\" rx=\"2\" ry=\"2\" style=\"stroke: #A80036; stroke-width: 1.0;\"/><ellipse cx=\"144.0714\" cy=\"393.9061\" fill=\"#A80036\" rx=\"2\" ry=\"2\" style=\"stroke: #A80036; stroke-width: 1.0;\"/></a><!--MD5=[3f50a3473f1dfb74d3f76443e03635af]\n",
       "reverse link E6 to E7--><a href=\"psysml:c471fe89-f766-40f3-82e0-5e28332f3a67\" target=\"_top\" title=\"psysml:c471fe89-f766-40f3-82e0-5e28332f3a67\" xlink:actuate=\"onRequest\" xlink:href=\"psysml:c471fe89-f766-40f3-82e0-5e28332f3a67\" xlink:show=\"new\" xlink:title=\"psysml:c471fe89-f766-40f3-82e0-5e28332f3a67\" xlink:type=\"simple\"><path d=\"M143.29,491.68 C127.54,511.67 108.72,535.53 95.35,552.49 \" fill=\"none\" id=\"E6&lt;-E7\" style=\"stroke: #A80036; stroke-width: 1.0;\"/><polygon fill=\"#A80036\" points=\"151.44,481.34,144.5854,483.5794,144.0162,490.768,150.8708,488.5286,151.44,481.34\" style=\"stroke: #A80036; stroke-width: 1.0;\"/></a><!--MD5=[14ccda38c055a5c0da953d572bc50960]\n",
       "link E7 to E3--><a href=\"psysml:ce24e444-eb42-4eaa-91b0-86c1efe7ffc5\" target=\"_top\" title=\"psysml:ce24e444-eb42-4eaa-91b0-86c1efe7ffc5\" xlink:actuate=\"onRequest\" xlink:href=\"psysml:ce24e444-eb42-4eaa-91b0-86c1efe7ffc5\" xlink:show=\"new\" xlink:title=\"psysml:ce24e444-eb42-4eaa-91b0-86c1efe7ffc5\" xlink:type=\"simple\"><path d=\"M72.27,552.25 C61.33,506.82 39.54,400.17 51,311 C53.45,291.91 58.19,271.42 63.13,253.3 \" fill=\"none\" id=\"E7-&gt;E3\" style=\"stroke: #A80036; stroke-width: 1.0;\"/><polygon fill=\"#FFFFFF\" points=\"68.69,234.05,70.1494,254.2458,56.698,250.3654,68.69,234.05\" style=\"stroke: #A80036; stroke-width: 1.0;\"/><ellipse cx=\"66.6479\" cy=\"259.1681\" fill=\"#A80036\" rx=\"2\" ry=\"2\" style=\"stroke: #A80036; stroke-width: 1.0;\"/><ellipse cx=\"57.0397\" cy=\"256.3964\" fill=\"#A80036\" rx=\"2\" ry=\"2\" style=\"stroke: #A80036; stroke-width: 1.0;\"/></a><!--MD5=[e88d06e5a652d73a6b19930eefe025a8]\n",
       "reverse link E6 to E9--><a href=\"psysml:cabff1fd-5442-4a71-976e-341ac2e5dda1\" target=\"_top\" title=\"psysml:cabff1fd-5442-4a71-976e-341ac2e5dda1\" xlink:actuate=\"onRequest\" xlink:href=\"psysml:cabff1fd-5442-4a71-976e-341ac2e5dda1\" xlink:show=\"new\" xlink:title=\"psysml:cabff1fd-5442-4a71-976e-341ac2e5dda1\" xlink:type=\"simple\"><path d=\"M173,503.27 C173,518.83 173,535.4 173,548.64 \" fill=\"none\" id=\"E6&lt;-E9\" style=\"stroke: #A80036; stroke-width: 1.0;\"/><ellipse cx=\"173\" cy=\"496.21\" fill=\"#FFFFFF\" rx=\"8\" ry=\"8\" style=\"stroke: #A80036; stroke-width: 1.0;\"/><line style=\"stroke: #A80036; stroke-width: 1.0;\" x1=\"173\" x2=\"173\" y1=\"504.21\" y2=\"488.21\"/><line style=\"stroke: #A80036; stroke-width: 1.0;\" x1=\"165\" x2=\"181\" y1=\"496.21\" y2=\"496.21\"/></a><!--MD5=[8e04057e7b3cbc0dca4fc78ea351e2da]\n",
       "reverse link E10 to E3--><a href=\"psysml:a19db77c-da80-41d6-a5f2-85a22676bfcf\" target=\"_top\" title=\"psysml:a19db77c-da80-41d6-a5f2-85a22676bfcf\" xlink:actuate=\"onRequest\" xlink:href=\"psysml:a19db77c-da80-41d6-a5f2-85a22676bfcf\" xlink:show=\"new\" xlink:title=\"psysml:a19db77c-da80-41d6-a5f2-85a22676bfcf\" xlink:type=\"simple\"><path d=\"M125.72,86.24 C103.2,95.73 81.31,107 75,117 C66.35,130.7 66.49,148.44 69.25,163.82 \" fill=\"none\" id=\"E10&lt;-E3\" style=\"stroke: #A80036; stroke-width: 1.0;\"/><polygon fill=\"#FFFFFF\" points=\"137.84,81.31,130.7764,79.859,126.7202,85.8212,133.7839,87.2722,137.84,81.31\" style=\"stroke: #A80036; stroke-width: 1.0;\"/><text fill=\"#000000\" font-family=\"sans-serif\" font-size=\"13\" lengthAdjust=\"spacingAndGlyphs\" textLength=\"7\" x=\"76\" y=\"130.0669\">y</text></a><!--MD5=[8e04057e7b3cbc0dca4fc78ea351e2da]\n",
       "reverse link E10 to E3--><a href=\"psysml:a19db77c-da80-41d6-a5f2-85a22676bfcf\" target=\"_top\" title=\"psysml:a19db77c-da80-41d6-a5f2-85a22676bfcf\" xlink:actuate=\"onRequest\" xlink:href=\"psysml:a19db77c-da80-41d6-a5f2-85a22676bfcf\" xlink:show=\"new\" xlink:title=\"psysml:a19db77c-da80-41d6-a5f2-85a22676bfcf\" xlink:type=\"simple\"><path d=\"M144.4,95.71 C137.16,102.3 130,109.54 124,117 C112.67,131.09 102.77,148.53 95.24,163.61 \" fill=\"none\" id=\"E10&lt;-E3-1\" style=\"stroke: #A80036; stroke-width: 1.0;\"/><polygon fill=\"#FFFFFF\" points=\"154.24,87.17,147.0874,88.0863,145.1822,95.0412,152.3348,94.1249,154.24,87.17\" style=\"stroke: #A80036; stroke-width: 1.0;\"/><text fill=\"#000000\" font-family=\"sans-serif\" font-size=\"13\" lengthAdjust=\"spacingAndGlyphs\" textLength=\"7\" x=\"125\" y=\"130.0669\">y</text></a><!--MD5=[8e04057e7b3cbc0dca4fc78ea351e2da]\n",
       "reverse link E10 to E3--><a href=\"psysml:a19db77c-da80-41d6-a5f2-85a22676bfcf\" target=\"_top\" title=\"psysml:a19db77c-da80-41d6-a5f2-85a22676bfcf\" xlink:actuate=\"onRequest\" xlink:href=\"psysml:a19db77c-da80-41d6-a5f2-85a22676bfcf\" xlink:show=\"new\" xlink:title=\"psysml:a19db77c-da80-41d6-a5f2-85a22676bfcf\" xlink:type=\"simple\"><path d=\"M160.31,97.82 C151.83,109.37 142.11,122.35 133,134 C122.42,147.52 110.22,162.3 100.2,174.25 \" fill=\"none\" id=\"E10&lt;-E3-2\" style=\"stroke: #A80036; stroke-width: 1.0;\"/><polygon fill=\"#FFFFFF\" points=\"168,87.3,161.2306,89.785,160.9208,96.9894,167.6902,94.5044,168,87.3\" style=\"stroke: #A80036; stroke-width: 1.0;\"/><text fill=\"#000000\" font-family=\"sans-serif\" font-size=\"13\" lengthAdjust=\"spacingAndGlyphs\" textLength=\"7\" x=\"147\" y=\"130.0669\">y</text></a><!--MD5=[604cbf994c02b74b117f728a71673cea]\n",
       "reverse link E10 to E6--><a href=\"psysml:a19db77c-da80-41d6-a5f2-85a22676bfcf\" target=\"_top\" title=\"psysml:a19db77c-da80-41d6-a5f2-85a22676bfcf\" xlink:actuate=\"onRequest\" xlink:href=\"psysml:a19db77c-da80-41d6-a5f2-85a22676bfcf\" xlink:show=\"new\" xlink:title=\"psysml:a19db77c-da80-41d6-a5f2-85a22676bfcf\" xlink:type=\"simple\"><path d=\"M198.16,99.81 C200.05,105.48 201.76,111.35 203,117 C228.89,234.84 255.99,273.16 219,388 C214.09,403.24 204.06,417.92 194.62,429.36 \" fill=\"none\" id=\"E10&lt;-E6\" style=\"stroke: #A80036; stroke-width: 1.0;\"/><polygon fill=\"#FFFFFF\" points=\"193.57,87.13,191.8521,94.1335,197.6561,98.4129,199.374,91.4094,193.57,87.13\" style=\"stroke: #A80036; stroke-width: 1.0;\"/><text fill=\"#000000\" font-family=\"sans-serif\" font-size=\"13\" lengthAdjust=\"spacingAndGlyphs\" textLength=\"7\" x=\"237\" y=\"277.0669\">y</text></a><!--MD5=[604cbf994c02b74b117f728a71673cea]\n",
       "reverse link E10 to E6--><a href=\"psysml:a19db77c-da80-41d6-a5f2-85a22676bfcf\" target=\"_top\" title=\"psysml:a19db77c-da80-41d6-a5f2-85a22676bfcf\" xlink:actuate=\"onRequest\" xlink:href=\"psysml:a19db77c-da80-41d6-a5f2-85a22676bfcf\" xlink:show=\"new\" xlink:title=\"psysml:a19db77c-da80-41d6-a5f2-85a22676bfcf\" xlink:type=\"simple\"><path d=\"M173.9,99.97 C159.48,151.87 135.42,246.82 142,281 C144.72,295.1 150.35,297.11 154,311 C163.43,346.83 168.33,389.08 170.77,417.93 \" fill=\"none\" id=\"E10&lt;-E6-1\" style=\"stroke: #A80036; stroke-width: 1.0;\"/><polygon fill=\"#FFFFFF\" points=\"177.51,87.16,172.0318,91.8493,174.2534,98.7097,179.7316,94.0204,177.51,87.16\" style=\"stroke: #A80036; stroke-width: 1.0;\"/><text fill=\"#000000\" font-family=\"sans-serif\" font-size=\"13\" lengthAdjust=\"spacingAndGlyphs\" textLength=\"7\" x=\"143\" y=\"277.0669\">y</text></a><!--MD5=[604cbf994c02b74b117f728a71673cea]\n",
       "reverse link E10 to E6--><a href=\"psysml:a19db77c-da80-41d6-a5f2-85a22676bfcf\" target=\"_top\" title=\"psysml:a19db77c-da80-41d6-a5f2-85a22676bfcf\" xlink:actuate=\"onRequest\" xlink:href=\"psysml:a19db77c-da80-41d6-a5f2-85a22676bfcf\" xlink:show=\"new\" xlink:title=\"psysml:a19db77c-da80-41d6-a5f2-85a22676bfcf\" xlink:type=\"simple\"><path d=\"M183.7,100.34 C183.1,159.76 181.4,283.46 177,388 C176.59,397.68 176,408.17 175.4,417.8 \" fill=\"none\" id=\"E10&lt;-E6-2\" style=\"stroke: #A80036; stroke-width: 1.0;\"/><polygon fill=\"#FFFFFF\" points=\"183.83,87.33,179.7774,93.2946,183.7244,99.3295,187.777,93.365,183.83,87.33\" style=\"stroke: #A80036; stroke-width: 1.0;\"/><text fill=\"#000000\" font-family=\"sans-serif\" font-size=\"13\" lengthAdjust=\"spacingAndGlyphs\" textLength=\"7\" x=\"181\" y=\"277.0669\">y</text></a><!--MD5=[ef0445380fe327f17c75d88289bbe5ef]\n",
       "@startuml\r\n",
       " \r\n",
       "package \"PartTest\" as E1  [[psysml:c65cc0cd-28b1-4d7a-bc05-02136890ed9a ]]  {\r\n",
       "comp usage \"f: A\" as E2  << (P,limegreen) part>> [[psysml:634826b2-2fc2-4798-92ed-071cd1dffdd8 ]] {\r\n",
       "}\r\n",
       "comp def \"A\" as E3  << (B,green) >> [[psysml:36aba5eb-a810-4976-a211-fcdfb7b330f5 ]] {\r\n",
       "- - ports - -\r\n",
       "c: C\r\n",
       "}\r\n",
       "comp usage \"b: B\" as E4  << (P,limegreen) part>> [[psysml:b5150c44-d935-4f31-a69b-527c90fd7c47 ]] {\r\n",
       "}\r\n",
       "comp def \"B\" as E6  << (B,green) >> [[psysml:94fb1c4b-8096-4b0e-a0c8-00d5fe55de6c ]] {\r\n",
       "- - ports - -\r\n",
       "x: ~C\r\n",
       "}\r\n",
       "comp usage \"a: A\" as E7  << (P,limegreen) part>> [[psysml:de084c60-8c86-4761-a316-7296396fb321 ]] {\r\n",
       "}\r\n",
       "package \"P\" as E9  [[psysml:4c76b494-1a6c-482d-b35c-aa72d24bc41e ]]  {\r\n",
       "}\r\n",
       "comp def \"C\" as E10  <<(D,brown)port def>> [[psysml:4c8e1ce2-7f9a-4661-9090-c510b6f01354 ]] {\r\n",
       "}\r\n",
       "E2 - -:|> E3 [[psysml:38cdc859-4dfa-4bc4-87cd-169dd5acc896 ]] \r\n",
       "E3 *- - E4 [[psysml:5ebdadf2-6044-45bc-aa24-2da7c79aba16 ]] \r\n",
       "E4 - -:|> E6 [[psysml:1fd8d685-c326-41aa-b421-a8308f20148e ]] \r\n",
       "E6 *- - E7 [[psysml:c471fe89-f766-40f3-82e0-5e28332f3a67 ]] \r\n",
       "E7 - -:|> E3 [[psysml:ce24e444-eb42-4eaa-91b0-86c1efe7ffc5 ]] \r\n",
       "E6 +- - E9 [[psysml:cabff1fd-5442-4a71-976e-341ac2e5dda1 ]] \r\n",
       "E10 o- - E3 [[psysml:a19db77c-da80-41d6-a5f2-85a22676bfcf ]] : y\r\n",
       "E10 o- - E6 [[psysml:a19db77c-da80-41d6-a5f2-85a22676bfcf ]] : y\r\n",
       "E10 o- - E3 [[psysml:a19db77c-da80-41d6-a5f2-85a22676bfcf ]] : y\r\n",
       "E10 o- - E6 [[psysml:a19db77c-da80-41d6-a5f2-85a22676bfcf ]] : y\r\n",
       "E10 o- - E3 [[psysml:a19db77c-da80-41d6-a5f2-85a22676bfcf ]] : y\r\n",
       "E10 o- - E6 [[psysml:a19db77c-da80-41d6-a5f2-85a22676bfcf ]] : y\r\n",
       "}\r\n",
       "@enduml\r\n",
       "\n",
       "PlantUML version 1.2020.13(Sat Jun 13 12:26:38 UTC 2020)\n",
       "(EPL source distribution)\n",
       "Java Runtime: OpenJDK Runtime Environment\n",
       "JVM: OpenJDK 64-Bit Server VM\n",
       "Default Encoding: UTF-8\n",
       "Language: en\n",
       "Country: null\n",
       "--></g></svg>"
      ]
     },
     "execution_count": 30,
     "metadata": {},
     "output_type": "execute_result"
    }
   ],
   "source": [
    "%viz --style=\"PLANTUML\" --view=\"Default\" \"PartTest\""
   ]
  },
  {
   "cell_type": "code",
   "execution_count": 31,
   "id": "ead19329",
   "metadata": {
    "execution": {
     "iopub.execute_input": "2021-04-20T07:29:13.862909Z",
     "iopub.status.busy": "2021-04-20T07:29:13.861470Z",
     "iopub.status.idle": "2021-04-20T07:29:13.989799Z",
     "shell.execute_reply": "2021-04-20T07:29:13.988424Z"
    }
   },
   "outputs": [
    {
     "data": {
      "image/svg+xml": [
       "<?xml version=\"1.0\" encoding=\"UTF-8\" standalone=\"no\"?><svg xmlns=\"http://www.w3.org/2000/svg\" xmlns:xlink=\"http://www.w3.org/1999/xlink\" contentScriptType=\"application/ecmascript\" contentStyleType=\"text/css\" height=\"630px\" preserveAspectRatio=\"none\" style=\"width:286px;height:630px;\" version=\"1.1\" viewBox=\"0 0 286 630\" width=\"286px\" zoomAndPan=\"magnify\"><defs><filter height=\"300%\" id=\"f1rhmo03ptqprs\" width=\"300%\" x=\"-1\" y=\"-1\"><feGaussianBlur result=\"blurOut\" stdDeviation=\"2.0\"/><feColorMatrix in=\"blurOut\" result=\"blurOut2\" type=\"matrix\" values=\"0 0 0 0 0 0 0 0 0 0 0 0 0 0 0 0 0 0 .4 0\"/><feOffset dx=\"4.0\" dy=\"4.0\" in=\"blurOut2\" result=\"blurOut3\"/><feBlend in=\"SourceGraphic\" in2=\"blurOut3\" mode=\"normal\"/></filter></defs><g><!--MD5=[fbc87193dbaf4d95561dea2c320d4a47]\n",
       "cluster E1--><a href=\"psysml:c65cc0cd-28b1-4d7a-bc05-02136890ed9a\" target=\"_top\" title=\"psysml:c65cc0cd-28b1-4d7a-bc05-02136890ed9a\" xlink:actuate=\"onRequest\" xlink:href=\"psysml:c65cc0cd-28b1-4d7a-bc05-02136890ed9a\" xlink:show=\"new\" xlink:title=\"psysml:c65cc0cd-28b1-4d7a-bc05-02136890ed9a\" xlink:type=\"simple\"><polygon fill=\"#FFFFFF\" filter=\"url(#f1rhmo03ptqprs)\" points=\"16,6,89,6,96,28.2969,264,28.2969,264,618,16,618,16,6\" style=\"stroke: #000000; stroke-width: 1.5;\"/><line style=\"stroke: #000000; stroke-width: 1.5;\" x1=\"16\" x2=\"96\" y1=\"28.2969\" y2=\"28.2969\"/><text fill=\"#000000\" font-family=\"sans-serif\" font-size=\"14\" font-weight=\"bold\" lengthAdjust=\"spacingAndGlyphs\" textLength=\"67\" x=\"20\" y=\"20.9951\">PartTest</text></a><!--MD5=[b4997ac47864f28c2f74865a473b2911]\n",
       "class E2--><a href=\"psysml:634826b2-2fc2-4798-92ed-071cd1dffdd8\" target=\"_top\" title=\"psysml:634826b2-2fc2-4798-92ed-071cd1dffdd8\" xlink:actuate=\"onRequest\" xlink:href=\"psysml:634826b2-2fc2-4798-92ed-071cd1dffdd8\" xlink:show=\"new\" xlink:title=\"psysml:634826b2-2fc2-4798-92ed-071cd1dffdd8\" xlink:type=\"simple\"><rect fill=\"#FEFECE\" filter=\"url(#f1rhmo03ptqprs)\" height=\"45.9375\" id=\"E2\" rx=\"10\" ry=\"10\" style=\"stroke: #A80036; stroke-width: 1.5;\" width=\"68\" x=\"32\" y=\"41\"/><ellipse cx=\"47\" cy=\"59.9688\" fill=\"#32CD32\" rx=\"11\" ry=\"11\" style=\"stroke: #A80036; stroke-width: 1.0;\"/><path d=\"M46.7969,55.6406 L46.7969,59.2656 L47.7969,59.2656 Q49,59.2656 49.4844,58.8594 Q49.9688,58.4531 49.9688,57.4531 Q49.9688,56.4531 49.4844,56.0469 Q49,55.6406 47.7969,55.6406 L46.7969,55.6406 Z M44.3438,53.5781 L47.7031,53.5781 Q50.2656,53.5781 51.3906,54.5 Q52.5156,55.4063 52.5156,57.4531 Q52.5156,59.5 51.3906,60.4219 Q50.2656,61.3281 47.7031,61.3281 L46.7969,61.3281 L46.7969,65.9688 L44.3438,65.9688 L44.3438,53.5781 Z \"/><text fill=\"#000000\" font-family=\"sans-serif\" font-size=\"12\" font-style=\"italic\" lengthAdjust=\"spacingAndGlyphs\" textLength=\"40\" x=\"59\" y=\"57.1387\">«part»</text><text fill=\"#000000\" font-family=\"sans-serif\" font-size=\"12\" lengthAdjust=\"spacingAndGlyphs\" textLength=\"20\" x=\"69\" y=\"71.1074\">f: A</text><line style=\"stroke: #A80036; stroke-width: 1.5;\" x1=\"33\" x2=\"99\" y1=\"78.9375\" y2=\"78.9375\"/></a><!--MD5=[09b614a08d8cba4a07c9adeb5e0fee81]\n",
       "class E3--><a href=\"psysml:36aba5eb-a810-4976-a211-fcdfb7b330f5\" target=\"_top\" title=\"psysml:36aba5eb-a810-4976-a211-fcdfb7b330f5\" xlink:actuate=\"onRequest\" xlink:href=\"psysml:36aba5eb-a810-4976-a211-fcdfb7b330f5\" xlink:show=\"new\" xlink:title=\"psysml:36aba5eb-a810-4976-a211-fcdfb7b330f5\" xlink:type=\"simple\"><rect fill=\"#FEFECE\" filter=\"url(#f1rhmo03ptqprs)\" height=\"69.6094\" id=\"E3\" style=\"stroke: #A80036; stroke-width: 1.5;\" width=\"40\" x=\"60\" y=\"164\"/><ellipse cx=\"75\" cy=\"180\" fill=\"#008000\" rx=\"11\" ry=\"11\" style=\"stroke: #A80036; stroke-width: 1.0;\"/><path d=\"M73.9063,180.375 L73.9063,184.0469 L75.5313,184.0469 Q76.7031,184.0469 77.1719,183.6563 Q77.6406,183.25 77.6406,182.25 Q77.6406,181.25 77.1406,180.8125 Q76.6563,180.375 75.5313,180.375 L73.9063,180.375 Z M73.9063,175.5469 L73.9063,178.4219 L75.5313,178.4219 Q76.4531,178.4219 76.8438,178.0938 Q77.25,177.75 77.25,177 Q77.25,176.2344 76.8438,175.8906 Q76.4375,175.5469 75.5313,175.5469 L73.9063,175.5469 Z M71.5313,173.5938 L75.5313,173.5938 Q77.5938,173.5938 78.6406,174.375 Q79.6875,175.1563 79.6875,176.7188 Q79.6875,177.9219 79.0625,178.5938 Q78.4531,179.2656 77.2656,179.375 Q78.6875,179.5156 79.4063,180.3281 Q80.125,181.1406 80.125,182.5938 Q80.125,184.3906 79.0469,185.2031 Q77.9688,186 75.5313,186 L71.5313,186 L71.5313,173.5938 Z \"/><text fill=\"#000000\" font-family=\"sans-serif\" font-size=\"12\" lengthAdjust=\"spacingAndGlyphs\" textLength=\"8\" x=\"89\" y=\"184.1543\">A</text><line style=\"stroke: #A80036; stroke-width: 1.5;\" x1=\"61\" x2=\"99\" y1=\"196\" y2=\"196\"/><text fill=\"#000000\" font-family=\"sans-serif\" font-size=\"11\" lengthAdjust=\"spacingAndGlyphs\" textLength=\"22\" x=\"66\" y=\"227.0151\">c: C</text><line style=\"stroke: #A80036; stroke-width: 1.0;\" x1=\"61\" x2=\"65\" y1=\"210.4023\" y2=\"210.4023\"/><text fill=\"#000000\" font-family=\"sans-serif\" font-size=\"11\" lengthAdjust=\"spacingAndGlyphs\" textLength=\"30\" x=\"65\" y=\"213.7104\">ports</text><line style=\"stroke: #A80036; stroke-width: 1.0;\" x1=\"95\" x2=\"99\" y1=\"210.4023\" y2=\"210.4023\"/></a><!--MD5=[ebbe1d658d1005bcc118a6aa81145e00]\n",
       "class E4--><a href=\"psysml:b5150c44-d935-4f31-a69b-527c90fd7c47\" target=\"_top\" title=\"psysml:b5150c44-d935-4f31-a69b-527c90fd7c47\" xlink:actuate=\"onRequest\" xlink:href=\"psysml:b5150c44-d935-4f31-a69b-527c90fd7c47\" xlink:show=\"new\" xlink:title=\"psysml:b5150c44-d935-4f31-a69b-527c90fd7c47\" xlink:type=\"simple\"><rect fill=\"#FEFECE\" filter=\"url(#f1rhmo03ptqprs)\" height=\"45.9375\" id=\"E4\" rx=\"10\" ry=\"10\" style=\"stroke: #A80036; stroke-width: 1.5;\" width=\"68\" x=\"69\" y=\"311\"/><ellipse cx=\"84\" cy=\"329.9688\" fill=\"#32CD32\" rx=\"11\" ry=\"11\" style=\"stroke: #A80036; stroke-width: 1.0;\"/><path d=\"M83.7969,325.6406 L83.7969,329.2656 L84.7969,329.2656 Q86,329.2656 86.4844,328.8594 Q86.9688,328.4531 86.9688,327.4531 Q86.9688,326.4531 86.4844,326.0469 Q86,325.6406 84.7969,325.6406 L83.7969,325.6406 Z M81.3438,323.5781 L84.7031,323.5781 Q87.2656,323.5781 88.3906,324.5 Q89.5156,325.4063 89.5156,327.4531 Q89.5156,329.5 88.3906,330.4219 Q87.2656,331.3281 84.7031,331.3281 L83.7969,331.3281 L83.7969,335.9688 L81.3438,335.9688 L81.3438,323.5781 Z \"/><text fill=\"#000000\" font-family=\"sans-serif\" font-size=\"12\" font-style=\"italic\" lengthAdjust=\"spacingAndGlyphs\" textLength=\"40\" x=\"96\" y=\"327.1387\">«part»</text><text fill=\"#000000\" font-family=\"sans-serif\" font-size=\"12\" lengthAdjust=\"spacingAndGlyphs\" textLength=\"24\" x=\"104\" y=\"341.1074\">b: B</text><line style=\"stroke: #A80036; stroke-width: 1.5;\" x1=\"70\" x2=\"136\" y1=\"348.9375\" y2=\"348.9375\"/></a><!--MD5=[60a26617385b1d2d0262a64233df1f8d]\n",
       "class E6--><a href=\"psysml:94fb1c4b-8096-4b0e-a0c8-00d5fe55de6c\" target=\"_top\" title=\"psysml:94fb1c4b-8096-4b0e-a0c8-00d5fe55de6c\" xlink:actuate=\"onRequest\" xlink:href=\"psysml:94fb1c4b-8096-4b0e-a0c8-00d5fe55de6c\" xlink:show=\"new\" xlink:title=\"psysml:94fb1c4b-8096-4b0e-a0c8-00d5fe55de6c\" xlink:type=\"simple\"><rect fill=\"#FEFECE\" filter=\"url(#f1rhmo03ptqprs)\" height=\"69.6094\" id=\"E6\" style=\"stroke: #A80036; stroke-width: 1.5;\" width=\"43\" x=\"151.5\" y=\"418\"/><ellipse cx=\"167.85\" cy=\"434\" fill=\"#008000\" rx=\"11\" ry=\"11\" style=\"stroke: #A80036; stroke-width: 1.0;\"/><path d=\"M166.7563,434.375 L166.7563,438.0469 L168.3813,438.0469 Q169.5531,438.0469 170.0219,437.6563 Q170.4906,437.25 170.4906,436.25 Q170.4906,435.25 169.9906,434.8125 Q169.5063,434.375 168.3813,434.375 L166.7563,434.375 Z M166.7563,429.5469 L166.7563,432.4219 L168.3813,432.4219 Q169.3031,432.4219 169.6938,432.0938 Q170.1,431.75 170.1,431 Q170.1,430.2344 169.6938,429.8906 Q169.2875,429.5469 168.3813,429.5469 L166.7563,429.5469 Z M164.3813,427.5938 L168.3813,427.5938 Q170.4438,427.5938 171.4906,428.375 Q172.5375,429.1563 172.5375,430.7188 Q172.5375,431.9219 171.9125,432.5938 Q171.3031,433.2656 170.1156,433.375 Q171.5375,433.5156 172.2563,434.3281 Q172.975,435.1406 172.975,436.5938 Q172.975,438.3906 171.8969,439.2031 Q170.8188,440 168.3813,440 L164.3813,440 L164.3813,427.5938 Z \"/><text fill=\"#000000\" font-family=\"sans-serif\" font-size=\"12\" lengthAdjust=\"spacingAndGlyphs\" textLength=\"8\" x=\"182.15\" y=\"438.1543\">B</text><line style=\"stroke: #A80036; stroke-width: 1.5;\" x1=\"152.5\" x2=\"193.5\" y1=\"450\" y2=\"450\"/><text fill=\"#000000\" font-family=\"sans-serif\" font-size=\"11\" lengthAdjust=\"spacingAndGlyphs\" textLength=\"31\" x=\"157.5\" y=\"481.0151\">x: ~C</text><line style=\"stroke: #A80036; stroke-width: 1.0;\" x1=\"152.5\" x2=\"158\" y1=\"464.4023\" y2=\"464.4023\"/><text fill=\"#000000\" font-family=\"sans-serif\" font-size=\"11\" lengthAdjust=\"spacingAndGlyphs\" textLength=\"30\" x=\"158\" y=\"467.7104\">ports</text><line style=\"stroke: #A80036; stroke-width: 1.0;\" x1=\"188\" x2=\"193.5\" y1=\"464.4023\" y2=\"464.4023\"/></a><!--MD5=[2156ba9850f5573cc1fc38a6a4b2f02b]\n",
       "class E7--><a href=\"psysml:de084c60-8c86-4761-a316-7296396fb321\" target=\"_top\" title=\"psysml:de084c60-8c86-4761-a316-7296396fb321\" xlink:actuate=\"onRequest\" xlink:href=\"psysml:de084c60-8c86-4761-a316-7296396fb321\" xlink:show=\"new\" xlink:title=\"psysml:de084c60-8c86-4761-a316-7296396fb321\" xlink:type=\"simple\"><rect fill=\"#FEFECE\" filter=\"url(#f1rhmo03ptqprs)\" height=\"45.9375\" id=\"E7\" rx=\"10\" ry=\"10\" style=\"stroke: #A80036; stroke-width: 1.5;\" width=\"68\" x=\"44\" y=\"552.5\"/><ellipse cx=\"59\" cy=\"571.4688\" fill=\"#32CD32\" rx=\"11\" ry=\"11\" style=\"stroke: #A80036; stroke-width: 1.0;\"/><path d=\"M58.7969,567.1406 L58.7969,570.7656 L59.7969,570.7656 Q61,570.7656 61.4844,570.3594 Q61.9688,569.9531 61.9688,568.9531 Q61.9688,567.9531 61.4844,567.5469 Q61,567.1406 59.7969,567.1406 L58.7969,567.1406 Z M56.3438,565.0781 L59.7031,565.0781 Q62.2656,565.0781 63.3906,566 Q64.5156,566.9063 64.5156,568.9531 Q64.5156,571 63.3906,571.9219 Q62.2656,572.8281 59.7031,572.8281 L58.7969,572.8281 L58.7969,577.4688 L56.3438,577.4688 L56.3438,565.0781 Z \"/><text fill=\"#000000\" font-family=\"sans-serif\" font-size=\"12\" font-style=\"italic\" lengthAdjust=\"spacingAndGlyphs\" textLength=\"40\" x=\"71\" y=\"568.6387\">«part»</text><text fill=\"#000000\" font-family=\"sans-serif\" font-size=\"12\" lengthAdjust=\"spacingAndGlyphs\" textLength=\"24\" x=\"79\" y=\"582.6074\">a: A</text><line style=\"stroke: #A80036; stroke-width: 1.5;\" x1=\"45\" x2=\"111\" y1=\"590.4375\" y2=\"590.4375\"/></a><!--MD5=[96f4274e9e20536e775497830990834d]\n",
       "class E10--><a href=\"psysml:4c8e1ce2-7f9a-4661-9090-c510b6f01354\" target=\"_top\" title=\"psysml:4c8e1ce2-7f9a-4661-9090-c510b6f01354\" xlink:actuate=\"onRequest\" xlink:href=\"psysml:4c8e1ce2-7f9a-4661-9090-c510b6f01354\" xlink:show=\"new\" xlink:title=\"psysml:4c8e1ce2-7f9a-4661-9090-c510b6f01354\" xlink:type=\"simple\"><rect fill=\"#FEFECE\" filter=\"url(#f1rhmo03ptqprs)\" height=\"45.9375\" id=\"E10\" style=\"stroke: #A80036; stroke-width: 1.5;\" width=\"92\" x=\"138\" y=\"41\"/><ellipse cx=\"153\" cy=\"59.9688\" fill=\"#A52A2A\" rx=\"11\" ry=\"11\" style=\"stroke: #A80036; stroke-width: 1.0;\"/><path d=\"M152.5938,55.7813 L152.5938,63.7656 L153.25,63.7656 Q154.6875,63.7656 155.2969,62.8594 Q155.9219,61.9375 155.9219,59.7656 Q155.9219,57.5938 155.2969,56.6875 Q154.6875,55.7813 153.25,55.7813 L152.5938,55.7813 Z M150.1406,53.5781 L152.7656,53.5781 Q155.7969,53.5781 157.125,55.0313 Q158.4688,56.4688 158.4688,59.7656 Q158.4688,63.0625 157.125,64.5156 Q155.7969,65.9688 152.7656,65.9688 L150.1406,65.9688 L150.1406,53.5781 Z \"/><text fill=\"#000000\" font-family=\"sans-serif\" font-size=\"12\" font-style=\"italic\" lengthAdjust=\"spacingAndGlyphs\" textLength=\"64\" x=\"165\" y=\"57.1387\">«port def»</text><text fill=\"#000000\" font-family=\"sans-serif\" font-size=\"12\" lengthAdjust=\"spacingAndGlyphs\" textLength=\"8\" x=\"193\" y=\"71.1074\">C</text><line style=\"stroke: #A80036; stroke-width: 1.5;\" x1=\"139\" x2=\"229\" y1=\"78.9375\" y2=\"78.9375\"/></a><a href=\"psysml:4c76b494-1a6c-482d-b35c-aa72d24bc41e\" target=\"_top\" title=\"psysml:4c76b494-1a6c-482d-b35c-aa72d24bc41e\" xlink:actuate=\"onRequest\" xlink:href=\"psysml:4c76b494-1a6c-482d-b35c-aa72d24bc41e\" xlink:show=\"new\" xlink:title=\"psysml:4c76b494-1a6c-482d-b35c-aa72d24bc41e\" xlink:type=\"simple\"><polygon fill=\"#FFFFFF\" filter=\"url(#f1rhmo03ptqprs)\" points=\"158,549,174,549,181,571.2969,188,571.2969,188,601.5938,158,601.5938,158,549\" style=\"stroke: #000000; stroke-width: 1.5;\"/><line style=\"stroke: #000000; stroke-width: 1.5;\" x1=\"158\" x2=\"181\" y1=\"571.2969\" y2=\"571.2969\"/><text fill=\"#000000\" font-family=\"sans-serif\" font-size=\"14\" font-weight=\"bold\" lengthAdjust=\"spacingAndGlyphs\" textLength=\"10\" x=\"162\" y=\"563.9951\">P</text></a><!--MD5=[2720a5a1f2c3fca2055b230370638851]\n",
       "link E2 to E3--><a href=\"psysml:38cdc859-4dfa-4bc4-87cd-169dd5acc896\" target=\"_top\" title=\"psysml:38cdc859-4dfa-4bc4-87cd-169dd5acc896\" xlink:actuate=\"onRequest\" xlink:href=\"psysml:38cdc859-4dfa-4bc4-87cd-169dd5acc896\" xlink:show=\"new\" xlink:title=\"psysml:38cdc859-4dfa-4bc4-87cd-169dd5acc896\" xlink:type=\"simple\"><path d=\"M48.64,87.3 C40.37,100.63 33.23,118.02 38,134 C40.43,142.12 44.25,150.17 48.63,157.68 \" fill=\"none\" id=\"E2-&gt;E3\" style=\"stroke: #A80036; stroke-width: 1.0;\"/><polygon fill=\"#FFFFFF\" points=\"59.79,174.47,43.4429,162.5213,55.1024,154.7716,59.79,174.47\" style=\"stroke: #A80036; stroke-width: 1.0;\"/><ellipse cx=\"41.9533\" cy=\"156.6671\" fill=\"#A80036\" rx=\"2\" ry=\"2\" style=\"stroke: #A80036; stroke-width: 1.0;\"/><ellipse cx=\"50.2815\" cy=\"151.1316\" fill=\"#A80036\" rx=\"2\" ry=\"2\" style=\"stroke: #A80036; stroke-width: 1.0;\"/></a><!--MD5=[4672eba38e49728da53d11aeb285b987]\n",
       "reverse link E3 to E4--><a href=\"psysml:5ebdadf2-6044-45bc-aa24-2da7c79aba16\" target=\"_top\" title=\"psysml:5ebdadf2-6044-45bc-aa24-2da7c79aba16\" xlink:actuate=\"onRequest\" xlink:href=\"psysml:5ebdadf2-6044-45bc-aa24-2da7c79aba16\" xlink:show=\"new\" xlink:title=\"psysml:5ebdadf2-6044-45bc-aa24-2da7c79aba16\" xlink:type=\"simple\"><path d=\"M88.18,247.28 C91.93,268.98 96.2,293.67 99.19,310.96 \" fill=\"none\" id=\"E3&lt;-E4\" style=\"stroke: #A80036; stroke-width: 1.0;\"/><polygon fill=\"#A80036\" points=\"85.92,234.25,83.0001,240.8435,87.9633,246.0748,90.8832,239.4813,85.92,234.25\" style=\"stroke: #A80036; stroke-width: 1.0;\"/></a><!--MD5=[79568f1e445c3877b6a54524624ccc7d]\n",
       "link E4 to E6--><a href=\"psysml:1fd8d685-c326-41aa-b421-a8308f20148e\" target=\"_top\" title=\"psysml:1fd8d685-c326-41aa-b421-a8308f20148e\" xlink:actuate=\"onRequest\" xlink:href=\"psysml:1fd8d685-c326-41aa-b421-a8308f20148e\" xlink:show=\"new\" xlink:title=\"psysml:1fd8d685-c326-41aa-b421-a8308f20148e\" xlink:type=\"simple\"><path d=\"M116.17,357.01 C123.51,369.28 132.99,385.13 142.09,400.34 \" fill=\"none\" id=\"E4-&gt;E6\" style=\"stroke: #A80036; stroke-width: 1.0;\"/><polygon fill=\"#FFFFFF\" points=\"152.46,417.67,136.6992,404.9579,148.7138,397.7711,152.46,417.67\" style=\"stroke: #A80036; stroke-width: 1.0;\"/><ellipse cx=\"135.4896\" cy=\"399.0395\" fill=\"#A80036\" rx=\"2\" ry=\"2\" style=\"stroke: #A80036; stroke-width: 1.0;\"/><ellipse cx=\"144.0714\" cy=\"393.9061\" fill=\"#A80036\" rx=\"2\" ry=\"2\" style=\"stroke: #A80036; stroke-width: 1.0;\"/></a><!--MD5=[3f50a3473f1dfb74d3f76443e03635af]\n",
       "reverse link E6 to E7--><a href=\"psysml:c471fe89-f766-40f3-82e0-5e28332f3a67\" target=\"_top\" title=\"psysml:c471fe89-f766-40f3-82e0-5e28332f3a67\" xlink:actuate=\"onRequest\" xlink:href=\"psysml:c471fe89-f766-40f3-82e0-5e28332f3a67\" xlink:show=\"new\" xlink:title=\"psysml:c471fe89-f766-40f3-82e0-5e28332f3a67\" xlink:type=\"simple\"><path d=\"M143.29,491.68 C127.54,511.67 108.72,535.53 95.35,552.49 \" fill=\"none\" id=\"E6&lt;-E7\" style=\"stroke: #A80036; stroke-width: 1.0;\"/><polygon fill=\"#A80036\" points=\"151.44,481.34,144.5854,483.5794,144.0162,490.768,150.8708,488.5286,151.44,481.34\" style=\"stroke: #A80036; stroke-width: 1.0;\"/></a><!--MD5=[14ccda38c055a5c0da953d572bc50960]\n",
       "link E7 to E3--><a href=\"psysml:ce24e444-eb42-4eaa-91b0-86c1efe7ffc5\" target=\"_top\" title=\"psysml:ce24e444-eb42-4eaa-91b0-86c1efe7ffc5\" xlink:actuate=\"onRequest\" xlink:href=\"psysml:ce24e444-eb42-4eaa-91b0-86c1efe7ffc5\" xlink:show=\"new\" xlink:title=\"psysml:ce24e444-eb42-4eaa-91b0-86c1efe7ffc5\" xlink:type=\"simple\"><path d=\"M72.27,552.25 C61.33,506.82 39.54,400.17 51,311 C53.45,291.91 58.19,271.42 63.13,253.3 \" fill=\"none\" id=\"E7-&gt;E3\" style=\"stroke: #A80036; stroke-width: 1.0;\"/><polygon fill=\"#FFFFFF\" points=\"68.69,234.05,70.1494,254.2458,56.698,250.3654,68.69,234.05\" style=\"stroke: #A80036; stroke-width: 1.0;\"/><ellipse cx=\"66.6479\" cy=\"259.1681\" fill=\"#A80036\" rx=\"2\" ry=\"2\" style=\"stroke: #A80036; stroke-width: 1.0;\"/><ellipse cx=\"57.0397\" cy=\"256.3964\" fill=\"#A80036\" rx=\"2\" ry=\"2\" style=\"stroke: #A80036; stroke-width: 1.0;\"/></a><!--MD5=[e88d06e5a652d73a6b19930eefe025a8]\n",
       "reverse link E6 to E9--><a href=\"psysml:cabff1fd-5442-4a71-976e-341ac2e5dda1\" target=\"_top\" title=\"psysml:cabff1fd-5442-4a71-976e-341ac2e5dda1\" xlink:actuate=\"onRequest\" xlink:href=\"psysml:cabff1fd-5442-4a71-976e-341ac2e5dda1\" xlink:show=\"new\" xlink:title=\"psysml:cabff1fd-5442-4a71-976e-341ac2e5dda1\" xlink:type=\"simple\"><path d=\"M173,503.27 C173,518.83 173,535.4 173,548.64 \" fill=\"none\" id=\"E6&lt;-E9\" style=\"stroke: #A80036; stroke-width: 1.0;\"/><ellipse cx=\"173\" cy=\"496.21\" fill=\"#FFFFFF\" rx=\"8\" ry=\"8\" style=\"stroke: #A80036; stroke-width: 1.0;\"/><line style=\"stroke: #A80036; stroke-width: 1.0;\" x1=\"173\" x2=\"173\" y1=\"504.21\" y2=\"488.21\"/><line style=\"stroke: #A80036; stroke-width: 1.0;\" x1=\"165\" x2=\"181\" y1=\"496.21\" y2=\"496.21\"/></a><!--MD5=[8e04057e7b3cbc0dca4fc78ea351e2da]\n",
       "reverse link E10 to E3--><a href=\"psysml:a19db77c-da80-41d6-a5f2-85a22676bfcf\" target=\"_top\" title=\"psysml:a19db77c-da80-41d6-a5f2-85a22676bfcf\" xlink:actuate=\"onRequest\" xlink:href=\"psysml:a19db77c-da80-41d6-a5f2-85a22676bfcf\" xlink:show=\"new\" xlink:title=\"psysml:a19db77c-da80-41d6-a5f2-85a22676bfcf\" xlink:type=\"simple\"><path d=\"M125.72,86.24 C103.2,95.73 81.31,107 75,117 C66.35,130.7 66.49,148.44 69.25,163.82 \" fill=\"none\" id=\"E10&lt;-E3\" style=\"stroke: #A80036; stroke-width: 1.0;\"/><polygon fill=\"#FFFFFF\" points=\"137.84,81.31,130.7764,79.859,126.7202,85.8212,133.7839,87.2722,137.84,81.31\" style=\"stroke: #A80036; stroke-width: 1.0;\"/><text fill=\"#000000\" font-family=\"sans-serif\" font-size=\"13\" lengthAdjust=\"spacingAndGlyphs\" textLength=\"7\" x=\"76\" y=\"130.0669\">y</text></a><!--MD5=[8e04057e7b3cbc0dca4fc78ea351e2da]\n",
       "reverse link E10 to E3--><a href=\"psysml:a19db77c-da80-41d6-a5f2-85a22676bfcf\" target=\"_top\" title=\"psysml:a19db77c-da80-41d6-a5f2-85a22676bfcf\" xlink:actuate=\"onRequest\" xlink:href=\"psysml:a19db77c-da80-41d6-a5f2-85a22676bfcf\" xlink:show=\"new\" xlink:title=\"psysml:a19db77c-da80-41d6-a5f2-85a22676bfcf\" xlink:type=\"simple\"><path d=\"M144.4,95.71 C137.16,102.3 130,109.54 124,117 C112.67,131.09 102.77,148.53 95.24,163.61 \" fill=\"none\" id=\"E10&lt;-E3-1\" style=\"stroke: #A80036; stroke-width: 1.0;\"/><polygon fill=\"#FFFFFF\" points=\"154.24,87.17,147.0874,88.0863,145.1822,95.0412,152.3348,94.1249,154.24,87.17\" style=\"stroke: #A80036; stroke-width: 1.0;\"/><text fill=\"#000000\" font-family=\"sans-serif\" font-size=\"13\" lengthAdjust=\"spacingAndGlyphs\" textLength=\"7\" x=\"125\" y=\"130.0669\">y</text></a><!--MD5=[8e04057e7b3cbc0dca4fc78ea351e2da]\n",
       "reverse link E10 to E3--><a href=\"psysml:a19db77c-da80-41d6-a5f2-85a22676bfcf\" target=\"_top\" title=\"psysml:a19db77c-da80-41d6-a5f2-85a22676bfcf\" xlink:actuate=\"onRequest\" xlink:href=\"psysml:a19db77c-da80-41d6-a5f2-85a22676bfcf\" xlink:show=\"new\" xlink:title=\"psysml:a19db77c-da80-41d6-a5f2-85a22676bfcf\" xlink:type=\"simple\"><path d=\"M160.31,97.82 C151.83,109.37 142.11,122.35 133,134 C122.42,147.52 110.22,162.3 100.2,174.25 \" fill=\"none\" id=\"E10&lt;-E3-2\" style=\"stroke: #A80036; stroke-width: 1.0;\"/><polygon fill=\"#FFFFFF\" points=\"168,87.3,161.2306,89.785,160.9208,96.9894,167.6902,94.5044,168,87.3\" style=\"stroke: #A80036; stroke-width: 1.0;\"/><text fill=\"#000000\" font-family=\"sans-serif\" font-size=\"13\" lengthAdjust=\"spacingAndGlyphs\" textLength=\"7\" x=\"147\" y=\"130.0669\">y</text></a><!--MD5=[604cbf994c02b74b117f728a71673cea]\n",
       "reverse link E10 to E6--><a href=\"psysml:a19db77c-da80-41d6-a5f2-85a22676bfcf\" target=\"_top\" title=\"psysml:a19db77c-da80-41d6-a5f2-85a22676bfcf\" xlink:actuate=\"onRequest\" xlink:href=\"psysml:a19db77c-da80-41d6-a5f2-85a22676bfcf\" xlink:show=\"new\" xlink:title=\"psysml:a19db77c-da80-41d6-a5f2-85a22676bfcf\" xlink:type=\"simple\"><path d=\"M198.16,99.81 C200.05,105.48 201.76,111.35 203,117 C228.89,234.84 255.99,273.16 219,388 C214.09,403.24 204.06,417.92 194.62,429.36 \" fill=\"none\" id=\"E10&lt;-E6\" style=\"stroke: #A80036; stroke-width: 1.0;\"/><polygon fill=\"#FFFFFF\" points=\"193.57,87.13,191.8521,94.1335,197.6561,98.4129,199.374,91.4094,193.57,87.13\" style=\"stroke: #A80036; stroke-width: 1.0;\"/><text fill=\"#000000\" font-family=\"sans-serif\" font-size=\"13\" lengthAdjust=\"spacingAndGlyphs\" textLength=\"7\" x=\"237\" y=\"277.0669\">y</text></a><!--MD5=[604cbf994c02b74b117f728a71673cea]\n",
       "reverse link E10 to E6--><a href=\"psysml:a19db77c-da80-41d6-a5f2-85a22676bfcf\" target=\"_top\" title=\"psysml:a19db77c-da80-41d6-a5f2-85a22676bfcf\" xlink:actuate=\"onRequest\" xlink:href=\"psysml:a19db77c-da80-41d6-a5f2-85a22676bfcf\" xlink:show=\"new\" xlink:title=\"psysml:a19db77c-da80-41d6-a5f2-85a22676bfcf\" xlink:type=\"simple\"><path d=\"M173.9,99.97 C159.48,151.87 135.42,246.82 142,281 C144.72,295.1 150.35,297.11 154,311 C163.43,346.83 168.33,389.08 170.77,417.93 \" fill=\"none\" id=\"E10&lt;-E6-1\" style=\"stroke: #A80036; stroke-width: 1.0;\"/><polygon fill=\"#FFFFFF\" points=\"177.51,87.16,172.0318,91.8493,174.2534,98.7097,179.7316,94.0204,177.51,87.16\" style=\"stroke: #A80036; stroke-width: 1.0;\"/><text fill=\"#000000\" font-family=\"sans-serif\" font-size=\"13\" lengthAdjust=\"spacingAndGlyphs\" textLength=\"7\" x=\"143\" y=\"277.0669\">y</text></a><!--MD5=[604cbf994c02b74b117f728a71673cea]\n",
       "reverse link E10 to E6--><a href=\"psysml:a19db77c-da80-41d6-a5f2-85a22676bfcf\" target=\"_top\" title=\"psysml:a19db77c-da80-41d6-a5f2-85a22676bfcf\" xlink:actuate=\"onRequest\" xlink:href=\"psysml:a19db77c-da80-41d6-a5f2-85a22676bfcf\" xlink:show=\"new\" xlink:title=\"psysml:a19db77c-da80-41d6-a5f2-85a22676bfcf\" xlink:type=\"simple\"><path d=\"M183.7,100.34 C183.1,159.76 181.4,283.46 177,388 C176.59,397.68 176,408.17 175.4,417.8 \" fill=\"none\" id=\"E10&lt;-E6-2\" style=\"stroke: #A80036; stroke-width: 1.0;\"/><polygon fill=\"#FFFFFF\" points=\"183.83,87.33,179.7774,93.2946,183.7244,99.3295,187.777,93.365,183.83,87.33\" style=\"stroke: #A80036; stroke-width: 1.0;\"/><text fill=\"#000000\" font-family=\"sans-serif\" font-size=\"13\" lengthAdjust=\"spacingAndGlyphs\" textLength=\"7\" x=\"181\" y=\"277.0669\">y</text></a><!--MD5=[ef0445380fe327f17c75d88289bbe5ef]\n",
       "@startuml\r\n",
       " \r\n",
       "package \"PartTest\" as E1  [[psysml:c65cc0cd-28b1-4d7a-bc05-02136890ed9a ]]  {\r\n",
       "comp usage \"f: A\" as E2  << (P,limegreen) part>> [[psysml:634826b2-2fc2-4798-92ed-071cd1dffdd8 ]] {\r\n",
       "}\r\n",
       "comp def \"A\" as E3  << (B,green) >> [[psysml:36aba5eb-a810-4976-a211-fcdfb7b330f5 ]] {\r\n",
       "- - ports - -\r\n",
       "c: C\r\n",
       "}\r\n",
       "comp usage \"b: B\" as E4  << (P,limegreen) part>> [[psysml:b5150c44-d935-4f31-a69b-527c90fd7c47 ]] {\r\n",
       "}\r\n",
       "comp def \"B\" as E6  << (B,green) >> [[psysml:94fb1c4b-8096-4b0e-a0c8-00d5fe55de6c ]] {\r\n",
       "- - ports - -\r\n",
       "x: ~C\r\n",
       "}\r\n",
       "comp usage \"a: A\" as E7  << (P,limegreen) part>> [[psysml:de084c60-8c86-4761-a316-7296396fb321 ]] {\r\n",
       "}\r\n",
       "package \"P\" as E9  [[psysml:4c76b494-1a6c-482d-b35c-aa72d24bc41e ]]  {\r\n",
       "}\r\n",
       "comp def \"C\" as E10  <<(D,brown)port def>> [[psysml:4c8e1ce2-7f9a-4661-9090-c510b6f01354 ]] {\r\n",
       "}\r\n",
       "E2 - -:|> E3 [[psysml:38cdc859-4dfa-4bc4-87cd-169dd5acc896 ]] \r\n",
       "E3 *- - E4 [[psysml:5ebdadf2-6044-45bc-aa24-2da7c79aba16 ]] \r\n",
       "E4 - -:|> E6 [[psysml:1fd8d685-c326-41aa-b421-a8308f20148e ]] \r\n",
       "E6 *- - E7 [[psysml:c471fe89-f766-40f3-82e0-5e28332f3a67 ]] \r\n",
       "E7 - -:|> E3 [[psysml:ce24e444-eb42-4eaa-91b0-86c1efe7ffc5 ]] \r\n",
       "E6 +- - E9 [[psysml:cabff1fd-5442-4a71-976e-341ac2e5dda1 ]] \r\n",
       "E10 o- - E3 [[psysml:a19db77c-da80-41d6-a5f2-85a22676bfcf ]] : y\r\n",
       "E10 o- - E6 [[psysml:a19db77c-da80-41d6-a5f2-85a22676bfcf ]] : y\r\n",
       "E10 o- - E3 [[psysml:a19db77c-da80-41d6-a5f2-85a22676bfcf ]] : y\r\n",
       "E10 o- - E6 [[psysml:a19db77c-da80-41d6-a5f2-85a22676bfcf ]] : y\r\n",
       "E10 o- - E3 [[psysml:a19db77c-da80-41d6-a5f2-85a22676bfcf ]] : y\r\n",
       "E10 o- - E6 [[psysml:a19db77c-da80-41d6-a5f2-85a22676bfcf ]] : y\r\n",
       "}\r\n",
       "@enduml\r\n",
       "\n",
       "PlantUML version 1.2020.13(Sat Jun 13 12:26:38 UTC 2020)\n",
       "(EPL source distribution)\n",
       "Java Runtime: OpenJDK Runtime Environment\n",
       "JVM: OpenJDK 64-Bit Server VM\n",
       "Default Encoding: UTF-8\n",
       "Language: en\n",
       "Country: null\n",
       "--></g></svg>"
      ]
     },
     "execution_count": 31,
     "metadata": {},
     "output_type": "execute_result"
    }
   ],
   "source": [
    "%viz --style=\"PLANTUML\" --view=\"Tree\" \"PartTest\""
   ]
  },
  {
   "cell_type": "code",
   "execution_count": 32,
   "id": "c0454459",
   "metadata": {
    "execution": {
     "iopub.execute_input": "2021-04-20T07:29:14.060871Z",
     "iopub.status.busy": "2021-04-20T07:29:14.041549Z",
     "iopub.status.idle": "2021-04-20T07:29:14.175064Z",
     "shell.execute_reply": "2021-04-20T07:29:14.174468Z"
    }
   },
   "outputs": [
    {
     "data": {
      "image/svg+xml": [
       "<?xml version=\"1.0\" encoding=\"UTF-8\" standalone=\"no\"?><svg xmlns=\"http://www.w3.org/2000/svg\" xmlns:xlink=\"http://www.w3.org/1999/xlink\" contentScriptType=\"application/ecmascript\" contentStyleType=\"text/css\" height=\"303px\" preserveAspectRatio=\"none\" style=\"width:603px;height:303px;background:#000000;\" version=\"1.1\" viewBox=\"0 0 603 303\" width=\"603px\" zoomAndPan=\"magnify\"><defs/><g><rect fill=\"#0F111D\" height=\"1\" style=\"stroke: #0F111D; stroke-width: 1.0;\" width=\"1\" x=\"0\" y=\"0\"/><rect fill=\"#FFFFFF\" height=\"205.5625\" style=\"stroke: #FFFFFF; stroke-width: 1.0;\" width=\"602\" x=\"0\" y=\"0\"/><text fill=\"#000000\" font-family=\"sans-serif\" font-size=\"12\" font-weight=\"bold\" lengthAdjust=\"spacingAndGlyphs\" textLength=\"159\" x=\"5\" y=\"16.1387\">Welcome to PlantUML!</text><text fill=\"#000000\" font-family=\"sans-serif\" font-size=\"12\" lengthAdjust=\"spacingAndGlyphs\" textLength=\"0\" x=\"9\" y=\"30.1074\"/><text fill=\"#000000\" font-family=\"sans-serif\" font-size=\"12\" lengthAdjust=\"spacingAndGlyphs\" textLength=\"293\" x=\"5\" y=\"44.0762\">If you use this software, you accept its license.</text><text fill=\"#000000\" font-family=\"sans-serif\" font-size=\"12\" lengthAdjust=\"spacingAndGlyphs\" textLength=\"107\" x=\"5\" y=\"58.0449\">(details by typing</text><text fill=\"#000000\" font-family=\"monospace\" font-size=\"12\" lengthAdjust=\"spacingAndGlyphs\" textLength=\"49\" x=\"116\" y=\"58.0449\">license</text><text fill=\"#000000\" font-family=\"sans-serif\" font-size=\"12\" lengthAdjust=\"spacingAndGlyphs\" textLength=\"56\" x=\"169\" y=\"58.0449\">keyword)</text><text fill=\"#000000\" font-family=\"sans-serif\" font-size=\"12\" lengthAdjust=\"spacingAndGlyphs\" textLength=\"0\" x=\"9\" y=\"72.0137\"/><text fill=\"#000000\" font-family=\"sans-serif\" font-size=\"12\" lengthAdjust=\"spacingAndGlyphs\" textLength=\"283\" x=\"5\" y=\"85.9824\">You can start with a simple UML Diagram like:</text><text fill=\"#000000\" font-family=\"sans-serif\" font-size=\"12\" lengthAdjust=\"spacingAndGlyphs\" textLength=\"0\" x=\"9\" y=\"99.9512\"/><text fill=\"#000000\" font-family=\"monospace\" font-size=\"12\" lengthAdjust=\"spacingAndGlyphs\" textLength=\"119\" x=\"5\" y=\"113.9199\">Bob-&gt;Alice: Hello</text><text fill=\"#000000\" font-family=\"sans-serif\" font-size=\"12\" lengthAdjust=\"spacingAndGlyphs\" textLength=\"0\" x=\"9\" y=\"127.8887\"/><text fill=\"#000000\" font-family=\"sans-serif\" font-size=\"12\" lengthAdjust=\"spacingAndGlyphs\" textLength=\"14\" x=\"5\" y=\"141.8574\">Or</text><text fill=\"#000000\" font-family=\"sans-serif\" font-size=\"12\" lengthAdjust=\"spacingAndGlyphs\" textLength=\"0\" x=\"9\" y=\"155.8262\"/><text fill=\"#000000\" font-family=\"monospace\" font-size=\"12\" lengthAdjust=\"spacingAndGlyphs\" textLength=\"91\" x=\"5\" y=\"169.7949\">class Example</text><text fill=\"#000000\" font-family=\"sans-serif\" font-size=\"12\" lengthAdjust=\"spacingAndGlyphs\" textLength=\"0\" x=\"9\" y=\"183.7637\"/><text fill=\"#000000\" font-family=\"sans-serif\" font-size=\"12\" lengthAdjust=\"spacingAndGlyphs\" textLength=\"349\" x=\"5\" y=\"197.7324\">You will find more information about PlantUML syntax on</text><text fill=\"#000000\" font-family=\"sans-serif\" font-size=\"12\" lengthAdjust=\"spacingAndGlyphs\" text-decoration=\"underline\" textLength=\"129\" x=\"358\" y=\"197.7324\">https://plantuml.com</text><image height=\"71\" width=\"80\" x=\"516\" xlink:href=\"data:image/png;base64,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\" y=\"6\"/><rect fill=\"#000000\" height=\"96.4844\" style=\"stroke: #000000; stroke-width: 1.0;\" width=\"602\" x=\"0\" y=\"205.5625\"/><rect fill=\"#33FF02\" height=\"21.2969\" style=\"stroke: #33FF02; stroke-width: 1.0;\" width=\"170\" x=\"5\" y=\"210.5625\"/><text fill=\"#000000\" font-family=\"sans-serif\" font-size=\"14\" font-weight=\"bold\" lengthAdjust=\"spacingAndGlyphs\" textLength=\"168\" x=\"6\" y=\"225.5625\">[From string (line 2) ]</text><text fill=\"#33FF02\" font-family=\"sans-serif\" font-size=\"14\" font-weight=\"bold\" lengthAdjust=\"spacingAndGlyphs\" textLength=\"0\" x=\"10\" y=\"245.8594\"/><text fill=\"#33FF02\" font-family=\"sans-serif\" font-size=\"14\" font-weight=\"bold\" lengthAdjust=\"spacingAndGlyphs\" textLength=\"79\" x=\"5\" y=\"262.1563\">@startuml</text><text fill=\"#33FF02\" font-family=\"sans-serif\" font-size=\"14\" font-weight=\"bold\" lengthAdjust=\"spacingAndGlyphs\" textLength=\"0\" x=\"10\" y=\"278.4531\"/><text fill=\"#FF0000\" font-family=\"sans-serif\" font-size=\"14\" font-weight=\"bold\" lengthAdjust=\"spacingAndGlyphs\" textLength=\"142\" x=\"10\" y=\"294.75\">Empty description</text><!--MD5=[f59edd8218d337f74d0c332fc6737304]\n",
       "@startuml\r\n",
       " \r\n",
       "@enduml\r\n",
       "\n",
       "PlantUML version 1.2020.13(Sat Jun 13 12:26:38 UTC 2020)\n",
       "(EPL source distribution)\n",
       "Java Runtime: OpenJDK Runtime Environment\n",
       "JVM: OpenJDK 64-Bit Server VM\n",
       "Default Encoding: UTF-8\n",
       "Language: en\n",
       "Country: null\n",
       "--></g></svg>"
      ]
     },
     "execution_count": 32,
     "metadata": {},
     "output_type": "execute_result"
    }
   ],
   "source": [
    "%viz --style=\"PLANTUML\" --view=\"State\" \"PartTest\""
   ]
  },
  {
   "cell_type": "code",
   "execution_count": 33,
   "id": "701dbea5",
   "metadata": {
    "execution": {
     "iopub.execute_input": "2021-04-20T07:29:14.224832Z",
     "iopub.status.busy": "2021-04-20T07:29:14.223798Z",
     "iopub.status.idle": "2021-04-20T07:29:14.292726Z",
     "shell.execute_reply": "2021-04-20T07:29:14.292104Z"
    }
   },
   "outputs": [
    {
     "data": {
      "image/svg+xml": [
       "<?xml version=\"1.0\" encoding=\"UTF-8\" standalone=\"no\"?><svg xmlns=\"http://www.w3.org/2000/svg\" xmlns:xlink=\"http://www.w3.org/1999/xlink\" contentScriptType=\"application/ecmascript\" contentStyleType=\"text/css\" height=\"247px\" preserveAspectRatio=\"none\" style=\"width:524px;height:247px;\" version=\"1.1\" viewBox=\"0 0 524 247\" width=\"524px\" zoomAndPan=\"magnify\"><defs><filter height=\"300%\" id=\"f1pbobn6ivo81g\" width=\"300%\" x=\"-1\" y=\"-1\"><feGaussianBlur result=\"blurOut\" stdDeviation=\"2.0\"/><feColorMatrix in=\"blurOut\" result=\"blurOut2\" type=\"matrix\" values=\"0 0 0 0 0 0 0 0 0 0 0 0 0 0 0 0 0 0 .4 0\"/><feOffset dx=\"4.0\" dy=\"4.0\" in=\"blurOut2\" result=\"blurOut3\"/><feBlend in=\"SourceGraphic\" in2=\"blurOut3\" mode=\"normal\"/></filter></defs><g><!--MD5=[fbc87193dbaf4d95561dea2c320d4a47]\n",
       "cluster E1--><a href=\"psysml:c65cc0cd-28b1-4d7a-bc05-02136890ed9a\" target=\"_top\" title=\"psysml:c65cc0cd-28b1-4d7a-bc05-02136890ed9a\" xlink:actuate=\"onRequest\" xlink:href=\"psysml:c65cc0cd-28b1-4d7a-bc05-02136890ed9a\" xlink:show=\"new\" xlink:title=\"psysml:c65cc0cd-28b1-4d7a-bc05-02136890ed9a\" xlink:type=\"simple\"><polygon fill=\"#FFFFFF\" filter=\"url(#f1pbobn6ivo81g)\" points=\"16,6,89,6,96,28.2969,502,28.2969,502,235,16,235,16,6\" style=\"stroke: #000000; stroke-width: 1.5;\"/><line style=\"stroke: #000000; stroke-width: 1.5;\" x1=\"16\" x2=\"96\" y1=\"28.2969\" y2=\"28.2969\"/><text fill=\"#000000\" font-family=\"sans-serif\" font-size=\"14\" font-weight=\"bold\" lengthAdjust=\"spacingAndGlyphs\" textLength=\"67\" x=\"20\" y=\"20.9951\">PartTest</text></a><!--MD5=[d5e69f78d87373223dbae638b30a9c99]\n",
       "cluster E3--><a href=\"psysml:36aba5eb-a810-4976-a211-fcdfb7b330f5\" target=\"_top\" title=\"psysml:36aba5eb-a810-4976-a211-fcdfb7b330f5\" xlink:actuate=\"onRequest\" xlink:href=\"psysml:36aba5eb-a810-4976-a211-fcdfb7b330f5\" xlink:show=\"new\" xlink:title=\"psysml:36aba5eb-a810-4976-a211-fcdfb7b330f5\" xlink:type=\"simple\"><rect fill=\"#FFFFFF\" filter=\"url(#f1pbobn6ivo81g)\" height=\"150\" id=\"E3\" style=\"stroke: #A80036; stroke-width: 1.5;\" width=\"94\" x=\"392\" y=\"62.5\"/><rect fill=\"#FEFECE\" height=\"23.9688\" style=\"stroke: #A80036; stroke-width: 1.5;\" width=\"94\" x=\"392\" y=\"62.5\"/><text fill=\"#000000\" font-family=\"sans-serif\" font-size=\"12\" lengthAdjust=\"spacingAndGlyphs\" textLength=\"8\" x=\"435\" y=\"78.6387\">A</text></a><!--MD5=[14e3b0961a2654348d326746436168a1]\n",
       "cluster E6--><a href=\"psysml:94fb1c4b-8096-4b0e-a0c8-00d5fe55de6c\" target=\"_top\" title=\"psysml:94fb1c4b-8096-4b0e-a0c8-00d5fe55de6c\" xlink:actuate=\"onRequest\" xlink:href=\"psysml:94fb1c4b-8096-4b0e-a0c8-00d5fe55de6c\" xlink:show=\"new\" xlink:title=\"psysml:94fb1c4b-8096-4b0e-a0c8-00d5fe55de6c\" xlink:type=\"simple\"><rect fill=\"#FFFFFF\" filter=\"url(#f1pbobn6ivo81g)\" height=\"156.5\" id=\"E6\" style=\"stroke: #A80036; stroke-width: 1.5;\" width=\"155\" x=\"229\" y=\"62.5\"/><rect fill=\"#FEFECE\" height=\"23.9688\" style=\"stroke: #A80036; stroke-width: 1.5;\" width=\"155\" x=\"229\" y=\"62.5\"/><text fill=\"#000000\" font-family=\"sans-serif\" font-size=\"12\" lengthAdjust=\"spacingAndGlyphs\" textLength=\"8\" x=\"302.5\" y=\"78.6387\">B</text></a><g id=\"E1.E10\"><a href=\"psysml:4c8e1ce2-7f9a-4661-9090-c510b6f01354\" target=\"_top\" title=\"psysml:4c8e1ce2-7f9a-4661-9090-c510b6f01354\" xlink:actuate=\"onRequest\" xlink:href=\"psysml:4c8e1ce2-7f9a-4661-9090-c510b6f01354\" xlink:show=\"new\" xlink:title=\"psysml:4c8e1ce2-7f9a-4661-9090-c510b6f01354\" xlink:type=\"simple\"><rect fill=\"#FEFECE\" filter=\"url(#f1pbobn6ivo81g)\" height=\"42.9375\" id=\"E10\" style=\"stroke: #A80036; stroke-width: 1.5;\" width=\"97\" x=\"124.5\" y=\"41\"/><ellipse cx=\"141.75\" cy=\"59.9688\" fill=\"#A52A2A\" rx=\"11\" ry=\"11\" style=\"stroke: #A80036; stroke-width: 1.0;\"/><path d=\"M141.3438,55.7813 L141.3438,63.7656 L142,63.7656 Q143.4375,63.7656 144.0469,62.8594 Q144.6719,61.9375 144.6719,59.7656 Q144.6719,57.5938 144.0469,56.6875 Q143.4375,55.7813 142,55.7813 L141.3438,55.7813 Z M138.8906,53.5781 L141.5156,53.5781 Q144.5469,53.5781 145.875,55.0313 Q147.2188,56.4688 147.2188,59.7656 Q147.2188,63.0625 145.875,64.5156 Q144.5469,65.9688 141.5156,65.9688 L138.8906,65.9688 L138.8906,53.5781 Z \"/><text fill=\"#000000\" font-family=\"sans-serif\" font-size=\"12\" font-style=\"italic\" lengthAdjust=\"spacingAndGlyphs\" textLength=\"64\" x=\"154.25\" y=\"57.1387\">«port def»</text><text fill=\"#000000\" font-family=\"sans-serif\" font-size=\"12\" lengthAdjust=\"spacingAndGlyphs\" textLength=\"8\" x=\"182.25\" y=\"71.1074\">C</text></a></g><g id=\"E1.E2\"><a href=\"psysml:634826b2-2fc2-4798-92ed-071cd1dffdd8\" target=\"_top\" title=\"psysml:634826b2-2fc2-4798-92ed-071cd1dffdd8\" xlink:actuate=\"onRequest\" xlink:href=\"psysml:634826b2-2fc2-4798-92ed-071cd1dffdd8\" xlink:show=\"new\" xlink:title=\"psysml:634826b2-2fc2-4798-92ed-071cd1dffdd8\" xlink:type=\"simple\"><rect fill=\"#FEFECE\" filter=\"url(#f1pbobn6ivo81g)\" height=\"40\" id=\"E2\" rx=\"10\" ry=\"10\" style=\"stroke: #A80036; stroke-width: 1.5;\" width=\"57\" x=\"32.5\" y=\"42.5\"/><ellipse cx=\"49.75\" cy=\"58.5\" fill=\"#B6DBBB\" rx=\"11\" ry=\"11\" style=\"stroke: #A80036; stroke-width: 1.0;\"/><path d=\"M45.625,60.4219 L45.625,52.6094 L48.0781,52.6094 L48.0781,61.0469 Q48.0781,61.9688 48.5469,62.5 Q49.0313,63.0313 49.8594,63.0313 Q50.7031,63.0313 51.1719,62.5 Q51.6406,61.9688 51.6406,61.0469 L51.6406,52.6094 L54.0938,52.6094 L54.0938,60.4219 Q54.0938,62.9531 53.0938,64.0938 Q52.0938,65.2344 49.8594,65.2344 Q47.6406,65.2344 46.625,64.0938 Q45.625,62.9531 45.625,60.4219 Z \"/><text fill=\"#000000\" font-family=\"sans-serif\" font-size=\"12\" lengthAdjust=\"spacingAndGlyphs\" textLength=\"20\" x=\"64.25\" y=\"62.6543\">f: A</text></a></g><text fill=\"#000000\" font-family=\"sans-serif\" font-size=\"14\" lengthAdjust=\"spacingAndGlyphs\" textLength=\"27\" x=\"425.5\" y=\"41.1982\">c: C</text><rect fill=\"#A80036\" height=\"12\" style=\"stroke: #FEFECE; stroke-width: 1.5;\" width=\"12\" x=\"433\" y=\"56.5\"/><g id=\"E1.E3.E4\"><a href=\"psysml:b5150c44-d935-4f31-a69b-527c90fd7c47\" target=\"_top\" title=\"psysml:b5150c44-d935-4f31-a69b-527c90fd7c47\" xlink:actuate=\"onRequest\" xlink:href=\"psysml:b5150c44-d935-4f31-a69b-527c90fd7c47\" xlink:show=\"new\" xlink:title=\"psysml:b5150c44-d935-4f31-a69b-527c90fd7c47\" xlink:type=\"simple\"><rect fill=\"#FEFECE\" filter=\"url(#f1pbobn6ivo81g)\" height=\"40\" id=\"E4\" rx=\"10\" ry=\"10\" style=\"stroke: #A80036; stroke-width: 1.5;\" width=\"61\" x=\"408.5\" y=\"156.5\"/><ellipse cx=\"425.75\" cy=\"172.5\" fill=\"#B6DBBB\" rx=\"11\" ry=\"11\" style=\"stroke: #A80036; stroke-width: 1.0;\"/><path d=\"M421.625,174.4219 L421.625,166.6094 L424.0781,166.6094 L424.0781,175.0469 Q424.0781,175.9688 424.5469,176.5 Q425.0313,177.0313 425.8594,177.0313 Q426.7031,177.0313 427.1719,176.5 Q427.6406,175.9688 427.6406,175.0469 L427.6406,166.6094 L430.0938,166.6094 L430.0938,174.4219 Q430.0938,176.9531 429.0938,178.0938 Q428.0938,179.2344 425.8594,179.2344 Q423.6406,179.2344 422.625,178.0938 Q421.625,176.9531 421.625,174.4219 Z \"/><text fill=\"#000000\" font-family=\"sans-serif\" font-size=\"12\" lengthAdjust=\"spacingAndGlyphs\" textLength=\"24\" x=\"440.25\" y=\"176.6543\">b: B</text></a></g><text fill=\"#000000\" font-family=\"sans-serif\" font-size=\"14\" lengthAdjust=\"spacingAndGlyphs\" textLength=\"38\" x=\"336\" y=\"41.1982\">x: ~C</text><rect fill=\"#A80036\" height=\"12\" style=\"stroke: #FEFECE; stroke-width: 1.5;\" width=\"12\" x=\"349\" y=\"56.5\"/><g id=\"E1.E6.E7\"><a href=\"psysml:de084c60-8c86-4761-a316-7296396fb321\" target=\"_top\" title=\"psysml:de084c60-8c86-4761-a316-7296396fb321\" xlink:actuate=\"onRequest\" xlink:href=\"psysml:de084c60-8c86-4761-a316-7296396fb321\" xlink:show=\"new\" xlink:title=\"psysml:de084c60-8c86-4761-a316-7296396fb321\" xlink:type=\"simple\"><rect fill=\"#FEFECE\" filter=\"url(#f1pbobn6ivo81g)\" height=\"40\" id=\"E7\" rx=\"10\" ry=\"10\" style=\"stroke: #A80036; stroke-width: 1.5;\" width=\"61\" x=\"245.5\" y=\"100\"/><ellipse cx=\"262.75\" cy=\"116\" fill=\"#B6DBBB\" rx=\"11\" ry=\"11\" style=\"stroke: #A80036; stroke-width: 1.0;\"/><path d=\"M258.625,117.9219 L258.625,110.1094 L261.0781,110.1094 L261.0781,118.5469 Q261.0781,119.4688 261.5469,120 Q262.0313,120.5313 262.8594,120.5313 Q263.7031,120.5313 264.1719,120 Q264.6406,119.4688 264.6406,118.5469 L264.6406,110.1094 L267.0938,110.1094 L267.0938,117.9219 Q267.0938,120.4531 266.0938,121.5938 Q265.0938,122.7344 262.8594,122.7344 Q260.6406,122.7344 259.625,121.5938 Q258.625,120.4531 258.625,117.9219 Z \"/><text fill=\"#000000\" font-family=\"sans-serif\" font-size=\"12\" lengthAdjust=\"spacingAndGlyphs\" textLength=\"24\" x=\"277.25\" y=\"120.1543\">a: A</text></a></g><a href=\"psysml:4c76b494-1a6c-482d-b35c-aa72d24bc41e\" target=\"_top\" title=\"psysml:4c76b494-1a6c-482d-b35c-aa72d24bc41e\" xlink:actuate=\"onRequest\" xlink:href=\"psysml:4c76b494-1a6c-482d-b35c-aa72d24bc41e\" xlink:show=\"new\" xlink:title=\"psysml:4c76b494-1a6c-482d-b35c-aa72d24bc41e\" xlink:type=\"simple\"><polygon fill=\"#FFFFFF\" filter=\"url(#f1pbobn6ivo81g)\" points=\"338,150,354,150,361,172.2969,368,172.2969,368,202.5938,338,202.5938,338,150\" style=\"stroke: #000000; stroke-width: 1.5;\"/><line style=\"stroke: #000000; stroke-width: 1.5;\" x1=\"338\" x2=\"361\" y1=\"172.2969\" y2=\"172.2969\"/><text fill=\"#000000\" font-family=\"sans-serif\" font-size=\"14\" font-weight=\"bold\" lengthAdjust=\"spacingAndGlyphs\" textLength=\"10\" x=\"342\" y=\"164.9951\">P</text></a><!--MD5=[40f971ced98658781f8be19813977fee]\n",
       "@startuml\r\n",
       "skinparam ranksep 10\r\n",
       "skinparam rectangle {\r\n",
       " backgroundColor<<block>> LightGreen\r\n",
       "}\r\n",
       " \r\n",
       "package \"PartTest\" as E1  [[psysml:c65cc0cd-28b1-4d7a-bc05-02136890ed9a ]]  {\r\n",
       "rec usage \"f: A\" as E2  [[psysml:634826b2-2fc2-4798-92ed-071cd1dffdd8 ]] {\r\n",
       "}\r\n",
       "rec def \"A\" as E3  << (B,green) >> [[psysml:36aba5eb-a810-4976-a211-fcdfb7b330f5 ]] {\r\n",
       "rec usage \"b: B\" as E4  [[psysml:b5150c44-d935-4f31-a69b-527c90fd7c47 ]] {\r\n",
       "}\r\n",
       "portin \"c: C\" as E5  << (P,blue) port>> [[psysml:15f0fdfb-f77b-4913-8565-6992b28565d6 ]] \r\n",
       "}\r\n",
       "rec def \"B\" as E6  << (B,green) >> [[psysml:94fb1c4b-8096-4b0e-a0c8-00d5fe55de6c ]] {\r\n",
       "rec usage \"a: A\" as E7  [[psysml:de084c60-8c86-4761-a316-7296396fb321 ]] {\r\n",
       "}\r\n",
       "portin \"x: ~C\" as E8  << (P,blue) port>> [[psysml:6cb219e8-2ff6-47bb-94c6-2fc71ea9a3d9 ]] \r\n",
       "package \"P\" as E9  [[psysml:4c76b494-1a6c-482d-b35c-aa72d24bc41e ]]  {\r\n",
       "}\r\n",
       "}\r\n",
       "def \"C\" as E10  <<(D,brown)port def>> [[psysml:4c8e1ce2-7f9a-4661-9090-c510b6f01354 ]] \r\n",
       "}\r\n",
       "@enduml\r\n",
       "\n",
       "PlantUML version 1.2020.13(Sat Jun 13 12:26:38 UTC 2020)\n",
       "(EPL source distribution)\n",
       "Java Runtime: OpenJDK Runtime Environment\n",
       "JVM: OpenJDK 64-Bit Server VM\n",
       "Default Encoding: UTF-8\n",
       "Language: en\n",
       "Country: null\n",
       "--></g></svg>"
      ]
     },
     "execution_count": 33,
     "metadata": {},
     "output_type": "execute_result"
    }
   ],
   "source": [
    "%viz --style=\"PLANTUML\" --view=\"Interconnection\" \"PartTest\""
   ]
  },
  {
   "cell_type": "code",
   "execution_count": 34,
   "id": "2625bbb8",
   "metadata": {
    "execution": {
     "iopub.execute_input": "2021-04-20T07:29:14.341323Z",
     "iopub.status.busy": "2021-04-20T07:29:14.340875Z",
     "iopub.status.idle": "2021-04-20T07:29:14.347220Z",
     "shell.execute_reply": "2021-04-20T07:29:14.346652Z"
    }
   },
   "outputs": [
    {
     "data": {
      "image/svg+xml": [
       "<?xml version=\"1.0\" encoding=\"UTF-8\" standalone=\"no\"?><svg xmlns=\"http://www.w3.org/2000/svg\" xmlns:xlink=\"http://www.w3.org/1999/xlink\" contentScriptType=\"application/ecmascript\" contentStyleType=\"text/css\" height=\"12px\" preserveAspectRatio=\"none\" style=\"width:12px;height:12px;\" version=\"1.1\" viewBox=\"0 0 12 12\" width=\"12px\" zoomAndPan=\"magnify\"><defs/><g><!--MD5=[6a4cb978cab31700e1ce5529f947a75d]\n",
       "@startuml\r\n",
       "skinparam ranksep 8\r\n",
       " \r\n",
       "@enduml\r\n",
       "\n",
       "PlantUML version 1.2020.13(Sat Jun 13 12:26:38 UTC 2020)\n",
       "(EPL source distribution)\n",
       "Java Runtime: OpenJDK Runtime Environment\n",
       "JVM: OpenJDK 64-Bit Server VM\n",
       "Default Encoding: UTF-8\n",
       "Language: en\n",
       "Country: null\n",
       "--></g></svg>"
      ]
     },
     "execution_count": 34,
     "metadata": {},
     "output_type": "execute_result"
    }
   ],
   "source": [
    "%viz --style=\"PLANTUML\" --view=\"Action\" \"PartTest\""
   ]
  },
  {
   "cell_type": "code",
   "execution_count": 35,
   "id": "fd0cdc0b",
   "metadata": {
    "execution": {
     "iopub.execute_input": "2021-04-20T07:29:14.397134Z",
     "iopub.status.busy": "2021-04-20T07:29:14.396654Z",
     "iopub.status.idle": "2021-04-20T07:29:14.495115Z",
     "shell.execute_reply": "2021-04-20T07:29:14.494371Z"
    }
   },
   "outputs": [
    {
     "data": {
      "image/svg+xml": [
       "<?xml version=\"1.0\" encoding=\"UTF-8\" standalone=\"no\"?><svg xmlns=\"http://www.w3.org/2000/svg\" xmlns:xlink=\"http://www.w3.org/1999/xlink\" contentScriptType=\"application/ecmascript\" contentStyleType=\"text/css\" height=\"630px\" preserveAspectRatio=\"none\" style=\"width:286px;height:630px;\" version=\"1.1\" viewBox=\"0 0 286 630\" width=\"286px\" zoomAndPan=\"magnify\"><defs><filter height=\"300%\" id=\"f1rhmo03ptqprs\" width=\"300%\" x=\"-1\" y=\"-1\"><feGaussianBlur result=\"blurOut\" stdDeviation=\"2.0\"/><feColorMatrix in=\"blurOut\" result=\"blurOut2\" type=\"matrix\" values=\"0 0 0 0 0 0 0 0 0 0 0 0 0 0 0 0 0 0 .4 0\"/><feOffset dx=\"4.0\" dy=\"4.0\" in=\"blurOut2\" result=\"blurOut3\"/><feBlend in=\"SourceGraphic\" in2=\"blurOut3\" mode=\"normal\"/></filter></defs><g><!--MD5=[fbc87193dbaf4d95561dea2c320d4a47]\n",
       "cluster E1--><a href=\"psysml:c65cc0cd-28b1-4d7a-bc05-02136890ed9a\" target=\"_top\" title=\"psysml:c65cc0cd-28b1-4d7a-bc05-02136890ed9a\" xlink:actuate=\"onRequest\" xlink:href=\"psysml:c65cc0cd-28b1-4d7a-bc05-02136890ed9a\" xlink:show=\"new\" xlink:title=\"psysml:c65cc0cd-28b1-4d7a-bc05-02136890ed9a\" xlink:type=\"simple\"><polygon fill=\"#FFFFFF\" filter=\"url(#f1rhmo03ptqprs)\" points=\"16,6,89,6,96,28.2969,264,28.2969,264,618,16,618,16,6\" style=\"stroke: #000000; stroke-width: 1.5;\"/><line style=\"stroke: #000000; stroke-width: 1.5;\" x1=\"16\" x2=\"96\" y1=\"28.2969\" y2=\"28.2969\"/><text fill=\"#000000\" font-family=\"sans-serif\" font-size=\"14\" font-weight=\"bold\" lengthAdjust=\"spacingAndGlyphs\" textLength=\"67\" x=\"20\" y=\"20.9951\">PartTest</text></a><!--MD5=[b4997ac47864f28c2f74865a473b2911]\n",
       "class E2--><a href=\"psysml:634826b2-2fc2-4798-92ed-071cd1dffdd8\" target=\"_top\" title=\"psysml:634826b2-2fc2-4798-92ed-071cd1dffdd8\" xlink:actuate=\"onRequest\" xlink:href=\"psysml:634826b2-2fc2-4798-92ed-071cd1dffdd8\" xlink:show=\"new\" xlink:title=\"psysml:634826b2-2fc2-4798-92ed-071cd1dffdd8\" xlink:type=\"simple\"><rect fill=\"#FEFECE\" filter=\"url(#f1rhmo03ptqprs)\" height=\"45.9375\" id=\"E2\" rx=\"10\" ry=\"10\" style=\"stroke: #A80036; stroke-width: 1.5;\" width=\"68\" x=\"32\" y=\"41\"/><ellipse cx=\"47\" cy=\"59.9688\" fill=\"#32CD32\" rx=\"11\" ry=\"11\" style=\"stroke: #A80036; stroke-width: 1.0;\"/><path d=\"M46.7969,55.6406 L46.7969,59.2656 L47.7969,59.2656 Q49,59.2656 49.4844,58.8594 Q49.9688,58.4531 49.9688,57.4531 Q49.9688,56.4531 49.4844,56.0469 Q49,55.6406 47.7969,55.6406 L46.7969,55.6406 Z M44.3438,53.5781 L47.7031,53.5781 Q50.2656,53.5781 51.3906,54.5 Q52.5156,55.4063 52.5156,57.4531 Q52.5156,59.5 51.3906,60.4219 Q50.2656,61.3281 47.7031,61.3281 L46.7969,61.3281 L46.7969,65.9688 L44.3438,65.9688 L44.3438,53.5781 Z \"/><text fill=\"#000000\" font-family=\"sans-serif\" font-size=\"12\" font-style=\"italic\" lengthAdjust=\"spacingAndGlyphs\" textLength=\"40\" x=\"59\" y=\"57.1387\">«part»</text><text fill=\"#000000\" font-family=\"sans-serif\" font-size=\"12\" lengthAdjust=\"spacingAndGlyphs\" textLength=\"20\" x=\"69\" y=\"71.1074\">f: A</text><line style=\"stroke: #A80036; stroke-width: 1.5;\" x1=\"33\" x2=\"99\" y1=\"78.9375\" y2=\"78.9375\"/></a><!--MD5=[09b614a08d8cba4a07c9adeb5e0fee81]\n",
       "class E3--><a href=\"psysml:36aba5eb-a810-4976-a211-fcdfb7b330f5\" target=\"_top\" title=\"psysml:36aba5eb-a810-4976-a211-fcdfb7b330f5\" xlink:actuate=\"onRequest\" xlink:href=\"psysml:36aba5eb-a810-4976-a211-fcdfb7b330f5\" xlink:show=\"new\" xlink:title=\"psysml:36aba5eb-a810-4976-a211-fcdfb7b330f5\" xlink:type=\"simple\"><rect fill=\"#FEFECE\" filter=\"url(#f1rhmo03ptqprs)\" height=\"69.6094\" id=\"E3\" style=\"stroke: #A80036; stroke-width: 1.5;\" width=\"40\" x=\"60\" y=\"164\"/><ellipse cx=\"75\" cy=\"180\" fill=\"#008000\" rx=\"11\" ry=\"11\" style=\"stroke: #A80036; stroke-width: 1.0;\"/><path d=\"M73.9063,180.375 L73.9063,184.0469 L75.5313,184.0469 Q76.7031,184.0469 77.1719,183.6563 Q77.6406,183.25 77.6406,182.25 Q77.6406,181.25 77.1406,180.8125 Q76.6563,180.375 75.5313,180.375 L73.9063,180.375 Z M73.9063,175.5469 L73.9063,178.4219 L75.5313,178.4219 Q76.4531,178.4219 76.8438,178.0938 Q77.25,177.75 77.25,177 Q77.25,176.2344 76.8438,175.8906 Q76.4375,175.5469 75.5313,175.5469 L73.9063,175.5469 Z M71.5313,173.5938 L75.5313,173.5938 Q77.5938,173.5938 78.6406,174.375 Q79.6875,175.1563 79.6875,176.7188 Q79.6875,177.9219 79.0625,178.5938 Q78.4531,179.2656 77.2656,179.375 Q78.6875,179.5156 79.4063,180.3281 Q80.125,181.1406 80.125,182.5938 Q80.125,184.3906 79.0469,185.2031 Q77.9688,186 75.5313,186 L71.5313,186 L71.5313,173.5938 Z \"/><text fill=\"#000000\" font-family=\"sans-serif\" font-size=\"12\" lengthAdjust=\"spacingAndGlyphs\" textLength=\"8\" x=\"89\" y=\"184.1543\">A</text><line style=\"stroke: #A80036; stroke-width: 1.5;\" x1=\"61\" x2=\"99\" y1=\"196\" y2=\"196\"/><text fill=\"#000000\" font-family=\"sans-serif\" font-size=\"11\" lengthAdjust=\"spacingAndGlyphs\" textLength=\"22\" x=\"66\" y=\"227.0151\">c: C</text><line style=\"stroke: #A80036; stroke-width: 1.0;\" x1=\"61\" x2=\"65\" y1=\"210.4023\" y2=\"210.4023\"/><text fill=\"#000000\" font-family=\"sans-serif\" font-size=\"11\" lengthAdjust=\"spacingAndGlyphs\" textLength=\"30\" x=\"65\" y=\"213.7104\">ports</text><line style=\"stroke: #A80036; stroke-width: 1.0;\" x1=\"95\" x2=\"99\" y1=\"210.4023\" y2=\"210.4023\"/></a><!--MD5=[ebbe1d658d1005bcc118a6aa81145e00]\n",
       "class E4--><a href=\"psysml:b5150c44-d935-4f31-a69b-527c90fd7c47\" target=\"_top\" title=\"psysml:b5150c44-d935-4f31-a69b-527c90fd7c47\" xlink:actuate=\"onRequest\" xlink:href=\"psysml:b5150c44-d935-4f31-a69b-527c90fd7c47\" xlink:show=\"new\" xlink:title=\"psysml:b5150c44-d935-4f31-a69b-527c90fd7c47\" xlink:type=\"simple\"><rect fill=\"#FEFECE\" filter=\"url(#f1rhmo03ptqprs)\" height=\"45.9375\" id=\"E4\" rx=\"10\" ry=\"10\" style=\"stroke: #A80036; stroke-width: 1.5;\" width=\"68\" x=\"69\" y=\"311\"/><ellipse cx=\"84\" cy=\"329.9688\" fill=\"#32CD32\" rx=\"11\" ry=\"11\" style=\"stroke: #A80036; stroke-width: 1.0;\"/><path d=\"M83.7969,325.6406 L83.7969,329.2656 L84.7969,329.2656 Q86,329.2656 86.4844,328.8594 Q86.9688,328.4531 86.9688,327.4531 Q86.9688,326.4531 86.4844,326.0469 Q86,325.6406 84.7969,325.6406 L83.7969,325.6406 Z M81.3438,323.5781 L84.7031,323.5781 Q87.2656,323.5781 88.3906,324.5 Q89.5156,325.4063 89.5156,327.4531 Q89.5156,329.5 88.3906,330.4219 Q87.2656,331.3281 84.7031,331.3281 L83.7969,331.3281 L83.7969,335.9688 L81.3438,335.9688 L81.3438,323.5781 Z \"/><text fill=\"#000000\" font-family=\"sans-serif\" font-size=\"12\" font-style=\"italic\" lengthAdjust=\"spacingAndGlyphs\" textLength=\"40\" x=\"96\" y=\"327.1387\">«part»</text><text fill=\"#000000\" font-family=\"sans-serif\" font-size=\"12\" lengthAdjust=\"spacingAndGlyphs\" textLength=\"24\" x=\"104\" y=\"341.1074\">b: B</text><line style=\"stroke: #A80036; stroke-width: 1.5;\" x1=\"70\" x2=\"136\" y1=\"348.9375\" y2=\"348.9375\"/></a><!--MD5=[60a26617385b1d2d0262a64233df1f8d]\n",
       "class E6--><a href=\"psysml:94fb1c4b-8096-4b0e-a0c8-00d5fe55de6c\" target=\"_top\" title=\"psysml:94fb1c4b-8096-4b0e-a0c8-00d5fe55de6c\" xlink:actuate=\"onRequest\" xlink:href=\"psysml:94fb1c4b-8096-4b0e-a0c8-00d5fe55de6c\" xlink:show=\"new\" xlink:title=\"psysml:94fb1c4b-8096-4b0e-a0c8-00d5fe55de6c\" xlink:type=\"simple\"><rect fill=\"#FEFECE\" filter=\"url(#f1rhmo03ptqprs)\" height=\"69.6094\" id=\"E6\" style=\"stroke: #A80036; stroke-width: 1.5;\" width=\"43\" x=\"151.5\" y=\"418\"/><ellipse cx=\"167.85\" cy=\"434\" fill=\"#008000\" rx=\"11\" ry=\"11\" style=\"stroke: #A80036; stroke-width: 1.0;\"/><path d=\"M166.7563,434.375 L166.7563,438.0469 L168.3813,438.0469 Q169.5531,438.0469 170.0219,437.6563 Q170.4906,437.25 170.4906,436.25 Q170.4906,435.25 169.9906,434.8125 Q169.5063,434.375 168.3813,434.375 L166.7563,434.375 Z M166.7563,429.5469 L166.7563,432.4219 L168.3813,432.4219 Q169.3031,432.4219 169.6938,432.0938 Q170.1,431.75 170.1,431 Q170.1,430.2344 169.6938,429.8906 Q169.2875,429.5469 168.3813,429.5469 L166.7563,429.5469 Z M164.3813,427.5938 L168.3813,427.5938 Q170.4438,427.5938 171.4906,428.375 Q172.5375,429.1563 172.5375,430.7188 Q172.5375,431.9219 171.9125,432.5938 Q171.3031,433.2656 170.1156,433.375 Q171.5375,433.5156 172.2563,434.3281 Q172.975,435.1406 172.975,436.5938 Q172.975,438.3906 171.8969,439.2031 Q170.8188,440 168.3813,440 L164.3813,440 L164.3813,427.5938 Z \"/><text fill=\"#000000\" font-family=\"sans-serif\" font-size=\"12\" lengthAdjust=\"spacingAndGlyphs\" textLength=\"8\" x=\"182.15\" y=\"438.1543\">B</text><line style=\"stroke: #A80036; stroke-width: 1.5;\" x1=\"152.5\" x2=\"193.5\" y1=\"450\" y2=\"450\"/><text fill=\"#000000\" font-family=\"sans-serif\" font-size=\"11\" lengthAdjust=\"spacingAndGlyphs\" textLength=\"31\" x=\"157.5\" y=\"481.0151\">x: ~C</text><line style=\"stroke: #A80036; stroke-width: 1.0;\" x1=\"152.5\" x2=\"158\" y1=\"464.4023\" y2=\"464.4023\"/><text fill=\"#000000\" font-family=\"sans-serif\" font-size=\"11\" lengthAdjust=\"spacingAndGlyphs\" textLength=\"30\" x=\"158\" y=\"467.7104\">ports</text><line style=\"stroke: #A80036; stroke-width: 1.0;\" x1=\"188\" x2=\"193.5\" y1=\"464.4023\" y2=\"464.4023\"/></a><!--MD5=[2156ba9850f5573cc1fc38a6a4b2f02b]\n",
       "class E7--><a href=\"psysml:de084c60-8c86-4761-a316-7296396fb321\" target=\"_top\" title=\"psysml:de084c60-8c86-4761-a316-7296396fb321\" xlink:actuate=\"onRequest\" xlink:href=\"psysml:de084c60-8c86-4761-a316-7296396fb321\" xlink:show=\"new\" xlink:title=\"psysml:de084c60-8c86-4761-a316-7296396fb321\" xlink:type=\"simple\"><rect fill=\"#FEFECE\" filter=\"url(#f1rhmo03ptqprs)\" height=\"45.9375\" id=\"E7\" rx=\"10\" ry=\"10\" style=\"stroke: #A80036; stroke-width: 1.5;\" width=\"68\" x=\"44\" y=\"552.5\"/><ellipse cx=\"59\" cy=\"571.4688\" fill=\"#32CD32\" rx=\"11\" ry=\"11\" style=\"stroke: #A80036; stroke-width: 1.0;\"/><path d=\"M58.7969,567.1406 L58.7969,570.7656 L59.7969,570.7656 Q61,570.7656 61.4844,570.3594 Q61.9688,569.9531 61.9688,568.9531 Q61.9688,567.9531 61.4844,567.5469 Q61,567.1406 59.7969,567.1406 L58.7969,567.1406 Z M56.3438,565.0781 L59.7031,565.0781 Q62.2656,565.0781 63.3906,566 Q64.5156,566.9063 64.5156,568.9531 Q64.5156,571 63.3906,571.9219 Q62.2656,572.8281 59.7031,572.8281 L58.7969,572.8281 L58.7969,577.4688 L56.3438,577.4688 L56.3438,565.0781 Z \"/><text fill=\"#000000\" font-family=\"sans-serif\" font-size=\"12\" font-style=\"italic\" lengthAdjust=\"spacingAndGlyphs\" textLength=\"40\" x=\"71\" y=\"568.6387\">«part»</text><text fill=\"#000000\" font-family=\"sans-serif\" font-size=\"12\" lengthAdjust=\"spacingAndGlyphs\" textLength=\"24\" x=\"79\" y=\"582.6074\">a: A</text><line style=\"stroke: #A80036; stroke-width: 1.5;\" x1=\"45\" x2=\"111\" y1=\"590.4375\" y2=\"590.4375\"/></a><!--MD5=[96f4274e9e20536e775497830990834d]\n",
       "class E10--><a href=\"psysml:4c8e1ce2-7f9a-4661-9090-c510b6f01354\" target=\"_top\" title=\"psysml:4c8e1ce2-7f9a-4661-9090-c510b6f01354\" xlink:actuate=\"onRequest\" xlink:href=\"psysml:4c8e1ce2-7f9a-4661-9090-c510b6f01354\" xlink:show=\"new\" xlink:title=\"psysml:4c8e1ce2-7f9a-4661-9090-c510b6f01354\" xlink:type=\"simple\"><rect fill=\"#FEFECE\" filter=\"url(#f1rhmo03ptqprs)\" height=\"45.9375\" id=\"E10\" style=\"stroke: #A80036; stroke-width: 1.5;\" width=\"92\" x=\"138\" y=\"41\"/><ellipse cx=\"153\" cy=\"59.9688\" fill=\"#A52A2A\" rx=\"11\" ry=\"11\" style=\"stroke: #A80036; stroke-width: 1.0;\"/><path d=\"M152.5938,55.7813 L152.5938,63.7656 L153.25,63.7656 Q154.6875,63.7656 155.2969,62.8594 Q155.9219,61.9375 155.9219,59.7656 Q155.9219,57.5938 155.2969,56.6875 Q154.6875,55.7813 153.25,55.7813 L152.5938,55.7813 Z M150.1406,53.5781 L152.7656,53.5781 Q155.7969,53.5781 157.125,55.0313 Q158.4688,56.4688 158.4688,59.7656 Q158.4688,63.0625 157.125,64.5156 Q155.7969,65.9688 152.7656,65.9688 L150.1406,65.9688 L150.1406,53.5781 Z \"/><text fill=\"#000000\" font-family=\"sans-serif\" font-size=\"12\" font-style=\"italic\" lengthAdjust=\"spacingAndGlyphs\" textLength=\"64\" x=\"165\" y=\"57.1387\">«port def»</text><text fill=\"#000000\" font-family=\"sans-serif\" font-size=\"12\" lengthAdjust=\"spacingAndGlyphs\" textLength=\"8\" x=\"193\" y=\"71.1074\">C</text><line style=\"stroke: #A80036; stroke-width: 1.5;\" x1=\"139\" x2=\"229\" y1=\"78.9375\" y2=\"78.9375\"/></a><a href=\"psysml:4c76b494-1a6c-482d-b35c-aa72d24bc41e\" target=\"_top\" title=\"psysml:4c76b494-1a6c-482d-b35c-aa72d24bc41e\" xlink:actuate=\"onRequest\" xlink:href=\"psysml:4c76b494-1a6c-482d-b35c-aa72d24bc41e\" xlink:show=\"new\" xlink:title=\"psysml:4c76b494-1a6c-482d-b35c-aa72d24bc41e\" xlink:type=\"simple\"><polygon fill=\"#FFFFFF\" filter=\"url(#f1rhmo03ptqprs)\" points=\"158,549,174,549,181,571.2969,188,571.2969,188,601.5938,158,601.5938,158,549\" style=\"stroke: #000000; stroke-width: 1.5;\"/><line style=\"stroke: #000000; stroke-width: 1.5;\" x1=\"158\" x2=\"181\" y1=\"571.2969\" y2=\"571.2969\"/><text fill=\"#000000\" font-family=\"sans-serif\" font-size=\"14\" font-weight=\"bold\" lengthAdjust=\"spacingAndGlyphs\" textLength=\"10\" x=\"162\" y=\"563.9951\">P</text></a><!--MD5=[2720a5a1f2c3fca2055b230370638851]\n",
       "link E2 to E3--><a href=\"psysml:38cdc859-4dfa-4bc4-87cd-169dd5acc896\" target=\"_top\" title=\"psysml:38cdc859-4dfa-4bc4-87cd-169dd5acc896\" xlink:actuate=\"onRequest\" xlink:href=\"psysml:38cdc859-4dfa-4bc4-87cd-169dd5acc896\" xlink:show=\"new\" xlink:title=\"psysml:38cdc859-4dfa-4bc4-87cd-169dd5acc896\" xlink:type=\"simple\"><path d=\"M48.64,87.3 C40.37,100.63 33.23,118.02 38,134 C40.43,142.12 44.25,150.17 48.63,157.68 \" fill=\"none\" id=\"E2-&gt;E3\" style=\"stroke: #A80036; stroke-width: 1.0;\"/><polygon fill=\"#FFFFFF\" points=\"59.79,174.47,43.4429,162.5213,55.1024,154.7716,59.79,174.47\" style=\"stroke: #A80036; stroke-width: 1.0;\"/><ellipse cx=\"41.9533\" cy=\"156.6671\" fill=\"#A80036\" rx=\"2\" ry=\"2\" style=\"stroke: #A80036; stroke-width: 1.0;\"/><ellipse cx=\"50.2815\" cy=\"151.1316\" fill=\"#A80036\" rx=\"2\" ry=\"2\" style=\"stroke: #A80036; stroke-width: 1.0;\"/></a><!--MD5=[4672eba38e49728da53d11aeb285b987]\n",
       "reverse link E3 to E4--><a href=\"psysml:5ebdadf2-6044-45bc-aa24-2da7c79aba16\" target=\"_top\" title=\"psysml:5ebdadf2-6044-45bc-aa24-2da7c79aba16\" xlink:actuate=\"onRequest\" xlink:href=\"psysml:5ebdadf2-6044-45bc-aa24-2da7c79aba16\" xlink:show=\"new\" xlink:title=\"psysml:5ebdadf2-6044-45bc-aa24-2da7c79aba16\" xlink:type=\"simple\"><path d=\"M88.18,247.28 C91.93,268.98 96.2,293.67 99.19,310.96 \" fill=\"none\" id=\"E3&lt;-E4\" style=\"stroke: #A80036; stroke-width: 1.0;\"/><polygon fill=\"#A80036\" points=\"85.92,234.25,83.0001,240.8435,87.9633,246.0748,90.8832,239.4813,85.92,234.25\" style=\"stroke: #A80036; stroke-width: 1.0;\"/></a><!--MD5=[79568f1e445c3877b6a54524624ccc7d]\n",
       "link E4 to E6--><a href=\"psysml:1fd8d685-c326-41aa-b421-a8308f20148e\" target=\"_top\" title=\"psysml:1fd8d685-c326-41aa-b421-a8308f20148e\" xlink:actuate=\"onRequest\" xlink:href=\"psysml:1fd8d685-c326-41aa-b421-a8308f20148e\" xlink:show=\"new\" xlink:title=\"psysml:1fd8d685-c326-41aa-b421-a8308f20148e\" xlink:type=\"simple\"><path d=\"M116.17,357.01 C123.51,369.28 132.99,385.13 142.09,400.34 \" fill=\"none\" id=\"E4-&gt;E6\" style=\"stroke: #A80036; stroke-width: 1.0;\"/><polygon fill=\"#FFFFFF\" points=\"152.46,417.67,136.6992,404.9579,148.7138,397.7711,152.46,417.67\" style=\"stroke: #A80036; stroke-width: 1.0;\"/><ellipse cx=\"135.4896\" cy=\"399.0395\" fill=\"#A80036\" rx=\"2\" ry=\"2\" style=\"stroke: #A80036; stroke-width: 1.0;\"/><ellipse cx=\"144.0714\" cy=\"393.9061\" fill=\"#A80036\" rx=\"2\" ry=\"2\" style=\"stroke: #A80036; stroke-width: 1.0;\"/></a><!--MD5=[3f50a3473f1dfb74d3f76443e03635af]\n",
       "reverse link E6 to E7--><a href=\"psysml:c471fe89-f766-40f3-82e0-5e28332f3a67\" target=\"_top\" title=\"psysml:c471fe89-f766-40f3-82e0-5e28332f3a67\" xlink:actuate=\"onRequest\" xlink:href=\"psysml:c471fe89-f766-40f3-82e0-5e28332f3a67\" xlink:show=\"new\" xlink:title=\"psysml:c471fe89-f766-40f3-82e0-5e28332f3a67\" xlink:type=\"simple\"><path d=\"M143.29,491.68 C127.54,511.67 108.72,535.53 95.35,552.49 \" fill=\"none\" id=\"E6&lt;-E7\" style=\"stroke: #A80036; stroke-width: 1.0;\"/><polygon fill=\"#A80036\" points=\"151.44,481.34,144.5854,483.5794,144.0162,490.768,150.8708,488.5286,151.44,481.34\" style=\"stroke: #A80036; stroke-width: 1.0;\"/></a><!--MD5=[14ccda38c055a5c0da953d572bc50960]\n",
       "link E7 to E3--><a href=\"psysml:ce24e444-eb42-4eaa-91b0-86c1efe7ffc5\" target=\"_top\" title=\"psysml:ce24e444-eb42-4eaa-91b0-86c1efe7ffc5\" xlink:actuate=\"onRequest\" xlink:href=\"psysml:ce24e444-eb42-4eaa-91b0-86c1efe7ffc5\" xlink:show=\"new\" xlink:title=\"psysml:ce24e444-eb42-4eaa-91b0-86c1efe7ffc5\" xlink:type=\"simple\"><path d=\"M72.27,552.25 C61.33,506.82 39.54,400.17 51,311 C53.45,291.91 58.19,271.42 63.13,253.3 \" fill=\"none\" id=\"E7-&gt;E3\" style=\"stroke: #A80036; stroke-width: 1.0;\"/><polygon fill=\"#FFFFFF\" points=\"68.69,234.05,70.1494,254.2458,56.698,250.3654,68.69,234.05\" style=\"stroke: #A80036; stroke-width: 1.0;\"/><ellipse cx=\"66.6479\" cy=\"259.1681\" fill=\"#A80036\" rx=\"2\" ry=\"2\" style=\"stroke: #A80036; stroke-width: 1.0;\"/><ellipse cx=\"57.0397\" cy=\"256.3964\" fill=\"#A80036\" rx=\"2\" ry=\"2\" style=\"stroke: #A80036; stroke-width: 1.0;\"/></a><!--MD5=[e88d06e5a652d73a6b19930eefe025a8]\n",
       "reverse link E6 to E9--><a href=\"psysml:cabff1fd-5442-4a71-976e-341ac2e5dda1\" target=\"_top\" title=\"psysml:cabff1fd-5442-4a71-976e-341ac2e5dda1\" xlink:actuate=\"onRequest\" xlink:href=\"psysml:cabff1fd-5442-4a71-976e-341ac2e5dda1\" xlink:show=\"new\" xlink:title=\"psysml:cabff1fd-5442-4a71-976e-341ac2e5dda1\" xlink:type=\"simple\"><path d=\"M173,503.27 C173,518.83 173,535.4 173,548.64 \" fill=\"none\" id=\"E6&lt;-E9\" style=\"stroke: #A80036; stroke-width: 1.0;\"/><ellipse cx=\"173\" cy=\"496.21\" fill=\"#FFFFFF\" rx=\"8\" ry=\"8\" style=\"stroke: #A80036; stroke-width: 1.0;\"/><line style=\"stroke: #A80036; stroke-width: 1.0;\" x1=\"173\" x2=\"173\" y1=\"504.21\" y2=\"488.21\"/><line style=\"stroke: #A80036; stroke-width: 1.0;\" x1=\"165\" x2=\"181\" y1=\"496.21\" y2=\"496.21\"/></a><!--MD5=[8e04057e7b3cbc0dca4fc78ea351e2da]\n",
       "reverse link E10 to E3--><a href=\"psysml:a19db77c-da80-41d6-a5f2-85a22676bfcf\" target=\"_top\" title=\"psysml:a19db77c-da80-41d6-a5f2-85a22676bfcf\" xlink:actuate=\"onRequest\" xlink:href=\"psysml:a19db77c-da80-41d6-a5f2-85a22676bfcf\" xlink:show=\"new\" xlink:title=\"psysml:a19db77c-da80-41d6-a5f2-85a22676bfcf\" xlink:type=\"simple\"><path d=\"M125.72,86.24 C103.2,95.73 81.31,107 75,117 C66.35,130.7 66.49,148.44 69.25,163.82 \" fill=\"none\" id=\"E10&lt;-E3\" style=\"stroke: #A80036; stroke-width: 1.0;\"/><polygon fill=\"#FFFFFF\" points=\"137.84,81.31,130.7764,79.859,126.7202,85.8212,133.7839,87.2722,137.84,81.31\" style=\"stroke: #A80036; stroke-width: 1.0;\"/><text fill=\"#000000\" font-family=\"sans-serif\" font-size=\"13\" lengthAdjust=\"spacingAndGlyphs\" textLength=\"7\" x=\"76\" y=\"130.0669\">y</text></a><!--MD5=[8e04057e7b3cbc0dca4fc78ea351e2da]\n",
       "reverse link E10 to E3--><a href=\"psysml:a19db77c-da80-41d6-a5f2-85a22676bfcf\" target=\"_top\" title=\"psysml:a19db77c-da80-41d6-a5f2-85a22676bfcf\" xlink:actuate=\"onRequest\" xlink:href=\"psysml:a19db77c-da80-41d6-a5f2-85a22676bfcf\" xlink:show=\"new\" xlink:title=\"psysml:a19db77c-da80-41d6-a5f2-85a22676bfcf\" xlink:type=\"simple\"><path d=\"M144.4,95.71 C137.16,102.3 130,109.54 124,117 C112.67,131.09 102.77,148.53 95.24,163.61 \" fill=\"none\" id=\"E10&lt;-E3-1\" style=\"stroke: #A80036; stroke-width: 1.0;\"/><polygon fill=\"#FFFFFF\" points=\"154.24,87.17,147.0874,88.0863,145.1822,95.0412,152.3348,94.1249,154.24,87.17\" style=\"stroke: #A80036; stroke-width: 1.0;\"/><text fill=\"#000000\" font-family=\"sans-serif\" font-size=\"13\" lengthAdjust=\"spacingAndGlyphs\" textLength=\"7\" x=\"125\" y=\"130.0669\">y</text></a><!--MD5=[8e04057e7b3cbc0dca4fc78ea351e2da]\n",
       "reverse link E10 to E3--><a href=\"psysml:a19db77c-da80-41d6-a5f2-85a22676bfcf\" target=\"_top\" title=\"psysml:a19db77c-da80-41d6-a5f2-85a22676bfcf\" xlink:actuate=\"onRequest\" xlink:href=\"psysml:a19db77c-da80-41d6-a5f2-85a22676bfcf\" xlink:show=\"new\" xlink:title=\"psysml:a19db77c-da80-41d6-a5f2-85a22676bfcf\" xlink:type=\"simple\"><path d=\"M160.31,97.82 C151.83,109.37 142.11,122.35 133,134 C122.42,147.52 110.22,162.3 100.2,174.25 \" fill=\"none\" id=\"E10&lt;-E3-2\" style=\"stroke: #A80036; stroke-width: 1.0;\"/><polygon fill=\"#FFFFFF\" points=\"168,87.3,161.2306,89.785,160.9208,96.9894,167.6902,94.5044,168,87.3\" style=\"stroke: #A80036; stroke-width: 1.0;\"/><text fill=\"#000000\" font-family=\"sans-serif\" font-size=\"13\" lengthAdjust=\"spacingAndGlyphs\" textLength=\"7\" x=\"147\" y=\"130.0669\">y</text></a><!--MD5=[604cbf994c02b74b117f728a71673cea]\n",
       "reverse link E10 to E6--><a href=\"psysml:a19db77c-da80-41d6-a5f2-85a22676bfcf\" target=\"_top\" title=\"psysml:a19db77c-da80-41d6-a5f2-85a22676bfcf\" xlink:actuate=\"onRequest\" xlink:href=\"psysml:a19db77c-da80-41d6-a5f2-85a22676bfcf\" xlink:show=\"new\" xlink:title=\"psysml:a19db77c-da80-41d6-a5f2-85a22676bfcf\" xlink:type=\"simple\"><path d=\"M198.16,99.81 C200.05,105.48 201.76,111.35 203,117 C228.89,234.84 255.99,273.16 219,388 C214.09,403.24 204.06,417.92 194.62,429.36 \" fill=\"none\" id=\"E10&lt;-E6\" style=\"stroke: #A80036; stroke-width: 1.0;\"/><polygon fill=\"#FFFFFF\" points=\"193.57,87.13,191.8521,94.1335,197.6561,98.4129,199.374,91.4094,193.57,87.13\" style=\"stroke: #A80036; stroke-width: 1.0;\"/><text fill=\"#000000\" font-family=\"sans-serif\" font-size=\"13\" lengthAdjust=\"spacingAndGlyphs\" textLength=\"7\" x=\"237\" y=\"277.0669\">y</text></a><!--MD5=[604cbf994c02b74b117f728a71673cea]\n",
       "reverse link E10 to E6--><a href=\"psysml:a19db77c-da80-41d6-a5f2-85a22676bfcf\" target=\"_top\" title=\"psysml:a19db77c-da80-41d6-a5f2-85a22676bfcf\" xlink:actuate=\"onRequest\" xlink:href=\"psysml:a19db77c-da80-41d6-a5f2-85a22676bfcf\" xlink:show=\"new\" xlink:title=\"psysml:a19db77c-da80-41d6-a5f2-85a22676bfcf\" xlink:type=\"simple\"><path d=\"M173.9,99.97 C159.48,151.87 135.42,246.82 142,281 C144.72,295.1 150.35,297.11 154,311 C163.43,346.83 168.33,389.08 170.77,417.93 \" fill=\"none\" id=\"E10&lt;-E6-1\" style=\"stroke: #A80036; stroke-width: 1.0;\"/><polygon fill=\"#FFFFFF\" points=\"177.51,87.16,172.0318,91.8493,174.2534,98.7097,179.7316,94.0204,177.51,87.16\" style=\"stroke: #A80036; stroke-width: 1.0;\"/><text fill=\"#000000\" font-family=\"sans-serif\" font-size=\"13\" lengthAdjust=\"spacingAndGlyphs\" textLength=\"7\" x=\"143\" y=\"277.0669\">y</text></a><!--MD5=[604cbf994c02b74b117f728a71673cea]\n",
       "reverse link E10 to E6--><a href=\"psysml:a19db77c-da80-41d6-a5f2-85a22676bfcf\" target=\"_top\" title=\"psysml:a19db77c-da80-41d6-a5f2-85a22676bfcf\" xlink:actuate=\"onRequest\" xlink:href=\"psysml:a19db77c-da80-41d6-a5f2-85a22676bfcf\" xlink:show=\"new\" xlink:title=\"psysml:a19db77c-da80-41d6-a5f2-85a22676bfcf\" xlink:type=\"simple\"><path d=\"M183.7,100.34 C183.1,159.76 181.4,283.46 177,388 C176.59,397.68 176,408.17 175.4,417.8 \" fill=\"none\" id=\"E10&lt;-E6-2\" style=\"stroke: #A80036; stroke-width: 1.0;\"/><polygon fill=\"#FFFFFF\" points=\"183.83,87.33,179.7774,93.2946,183.7244,99.3295,187.777,93.365,183.83,87.33\" style=\"stroke: #A80036; stroke-width: 1.0;\"/><text fill=\"#000000\" font-family=\"sans-serif\" font-size=\"13\" lengthAdjust=\"spacingAndGlyphs\" textLength=\"7\" x=\"181\" y=\"277.0669\">y</text></a><!--MD5=[ef0445380fe327f17c75d88289bbe5ef]\n",
       "@startuml\r\n",
       " \r\n",
       "package \"PartTest\" as E1  [[psysml:c65cc0cd-28b1-4d7a-bc05-02136890ed9a ]]  {\r\n",
       "comp usage \"f: A\" as E2  << (P,limegreen) part>> [[psysml:634826b2-2fc2-4798-92ed-071cd1dffdd8 ]] {\r\n",
       "}\r\n",
       "comp def \"A\" as E3  << (B,green) >> [[psysml:36aba5eb-a810-4976-a211-fcdfb7b330f5 ]] {\r\n",
       "- - ports - -\r\n",
       "c: C\r\n",
       "}\r\n",
       "comp usage \"b: B\" as E4  << (P,limegreen) part>> [[psysml:b5150c44-d935-4f31-a69b-527c90fd7c47 ]] {\r\n",
       "}\r\n",
       "comp def \"B\" as E6  << (B,green) >> [[psysml:94fb1c4b-8096-4b0e-a0c8-00d5fe55de6c ]] {\r\n",
       "- - ports - -\r\n",
       "x: ~C\r\n",
       "}\r\n",
       "comp usage \"a: A\" as E7  << (P,limegreen) part>> [[psysml:de084c60-8c86-4761-a316-7296396fb321 ]] {\r\n",
       "}\r\n",
       "package \"P\" as E9  [[psysml:4c76b494-1a6c-482d-b35c-aa72d24bc41e ]]  {\r\n",
       "}\r\n",
       "comp def \"C\" as E10  <<(D,brown)port def>> [[psysml:4c8e1ce2-7f9a-4661-9090-c510b6f01354 ]] {\r\n",
       "}\r\n",
       "E2 - -:|> E3 [[psysml:38cdc859-4dfa-4bc4-87cd-169dd5acc896 ]] \r\n",
       "E3 *- - E4 [[psysml:5ebdadf2-6044-45bc-aa24-2da7c79aba16 ]] \r\n",
       "E4 - -:|> E6 [[psysml:1fd8d685-c326-41aa-b421-a8308f20148e ]] \r\n",
       "E6 *- - E7 [[psysml:c471fe89-f766-40f3-82e0-5e28332f3a67 ]] \r\n",
       "E7 - -:|> E3 [[psysml:ce24e444-eb42-4eaa-91b0-86c1efe7ffc5 ]] \r\n",
       "E6 +- - E9 [[psysml:cabff1fd-5442-4a71-976e-341ac2e5dda1 ]] \r\n",
       "E10 o- - E3 [[psysml:a19db77c-da80-41d6-a5f2-85a22676bfcf ]] : y\r\n",
       "E10 o- - E6 [[psysml:a19db77c-da80-41d6-a5f2-85a22676bfcf ]] : y\r\n",
       "E10 o- - E3 [[psysml:a19db77c-da80-41d6-a5f2-85a22676bfcf ]] : y\r\n",
       "E10 o- - E6 [[psysml:a19db77c-da80-41d6-a5f2-85a22676bfcf ]] : y\r\n",
       "E10 o- - E3 [[psysml:a19db77c-da80-41d6-a5f2-85a22676bfcf ]] : y\r\n",
       "E10 o- - E6 [[psysml:a19db77c-da80-41d6-a5f2-85a22676bfcf ]] : y\r\n",
       "}\r\n",
       "@enduml\r\n",
       "\n",
       "PlantUML version 1.2020.13(Sat Jun 13 12:26:38 UTC 2020)\n",
       "(EPL source distribution)\n",
       "Java Runtime: OpenJDK Runtime Environment\n",
       "JVM: OpenJDK 64-Bit Server VM\n",
       "Default Encoding: UTF-8\n",
       "Language: en\n",
       "Country: null\n",
       "--></g></svg>"
      ]
     },
     "execution_count": 35,
     "metadata": {},
     "output_type": "execute_result"
    }
   ],
   "source": [
    "%viz --style=\"PLANTUML\" --view=\"Sequence\" \"PartTest\""
   ]
  },
  {
   "cell_type": "code",
   "execution_count": 36,
   "id": "9c987181",
   "metadata": {
    "execution": {
     "iopub.execute_input": "2021-04-20T07:29:14.524642Z",
     "iopub.status.busy": "2021-04-20T07:29:14.523753Z",
     "iopub.status.idle": "2021-04-20T07:29:14.646310Z",
     "shell.execute_reply": "2021-04-20T07:29:14.643331Z"
    }
   },
   "outputs": [
    {
     "data": {
      "image/svg+xml": [
       "<?xml version=\"1.0\" encoding=\"UTF-8\" standalone=\"no\"?><svg xmlns=\"http://www.w3.org/2000/svg\" xmlns:xlink=\"http://www.w3.org/1999/xlink\" contentScriptType=\"application/ecmascript\" contentStyleType=\"text/css\" height=\"630px\" preserveAspectRatio=\"none\" style=\"width:286px;height:630px;\" version=\"1.1\" viewBox=\"0 0 286 630\" width=\"286px\" zoomAndPan=\"magnify\"><defs><filter height=\"300%\" id=\"f1rhmo03ptqprs\" width=\"300%\" x=\"-1\" y=\"-1\"><feGaussianBlur result=\"blurOut\" stdDeviation=\"2.0\"/><feColorMatrix in=\"blurOut\" result=\"blurOut2\" type=\"matrix\" values=\"0 0 0 0 0 0 0 0 0 0 0 0 0 0 0 0 0 0 .4 0\"/><feOffset dx=\"4.0\" dy=\"4.0\" in=\"blurOut2\" result=\"blurOut3\"/><feBlend in=\"SourceGraphic\" in2=\"blurOut3\" mode=\"normal\"/></filter></defs><g><!--MD5=[fbc87193dbaf4d95561dea2c320d4a47]\n",
       "cluster E1--><a href=\"psysml:c65cc0cd-28b1-4d7a-bc05-02136890ed9a\" target=\"_top\" title=\"psysml:c65cc0cd-28b1-4d7a-bc05-02136890ed9a\" xlink:actuate=\"onRequest\" xlink:href=\"psysml:c65cc0cd-28b1-4d7a-bc05-02136890ed9a\" xlink:show=\"new\" xlink:title=\"psysml:c65cc0cd-28b1-4d7a-bc05-02136890ed9a\" xlink:type=\"simple\"><polygon fill=\"#FFFFFF\" filter=\"url(#f1rhmo03ptqprs)\" points=\"16,6,89,6,96,28.2969,264,28.2969,264,618,16,618,16,6\" style=\"stroke: #000000; stroke-width: 1.5;\"/><line style=\"stroke: #000000; stroke-width: 1.5;\" x1=\"16\" x2=\"96\" y1=\"28.2969\" y2=\"28.2969\"/><text fill=\"#000000\" font-family=\"sans-serif\" font-size=\"14\" font-weight=\"bold\" lengthAdjust=\"spacingAndGlyphs\" textLength=\"67\" x=\"20\" y=\"20.9951\">PartTest</text></a><!--MD5=[b4997ac47864f28c2f74865a473b2911]\n",
       "class E2--><a href=\"psysml:634826b2-2fc2-4798-92ed-071cd1dffdd8\" target=\"_top\" title=\"psysml:634826b2-2fc2-4798-92ed-071cd1dffdd8\" xlink:actuate=\"onRequest\" xlink:href=\"psysml:634826b2-2fc2-4798-92ed-071cd1dffdd8\" xlink:show=\"new\" xlink:title=\"psysml:634826b2-2fc2-4798-92ed-071cd1dffdd8\" xlink:type=\"simple\"><rect fill=\"#FEFECE\" filter=\"url(#f1rhmo03ptqprs)\" height=\"45.9375\" id=\"E2\" rx=\"10\" ry=\"10\" style=\"stroke: #A80036; stroke-width: 1.5;\" width=\"68\" x=\"32\" y=\"41\"/><ellipse cx=\"47\" cy=\"59.9688\" fill=\"#32CD32\" rx=\"11\" ry=\"11\" style=\"stroke: #A80036; stroke-width: 1.0;\"/><path d=\"M46.7969,55.6406 L46.7969,59.2656 L47.7969,59.2656 Q49,59.2656 49.4844,58.8594 Q49.9688,58.4531 49.9688,57.4531 Q49.9688,56.4531 49.4844,56.0469 Q49,55.6406 47.7969,55.6406 L46.7969,55.6406 Z M44.3438,53.5781 L47.7031,53.5781 Q50.2656,53.5781 51.3906,54.5 Q52.5156,55.4063 52.5156,57.4531 Q52.5156,59.5 51.3906,60.4219 Q50.2656,61.3281 47.7031,61.3281 L46.7969,61.3281 L46.7969,65.9688 L44.3438,65.9688 L44.3438,53.5781 Z \"/><text fill=\"#000000\" font-family=\"sans-serif\" font-size=\"12\" font-style=\"italic\" lengthAdjust=\"spacingAndGlyphs\" textLength=\"40\" x=\"59\" y=\"57.1387\">«part»</text><text fill=\"#000000\" font-family=\"sans-serif\" font-size=\"12\" lengthAdjust=\"spacingAndGlyphs\" textLength=\"20\" x=\"69\" y=\"71.1074\">f: A</text><line style=\"stroke: #A80036; stroke-width: 1.5;\" x1=\"33\" x2=\"99\" y1=\"78.9375\" y2=\"78.9375\"/></a><!--MD5=[09b614a08d8cba4a07c9adeb5e0fee81]\n",
       "class E3--><a href=\"psysml:36aba5eb-a810-4976-a211-fcdfb7b330f5\" target=\"_top\" title=\"psysml:36aba5eb-a810-4976-a211-fcdfb7b330f5\" xlink:actuate=\"onRequest\" xlink:href=\"psysml:36aba5eb-a810-4976-a211-fcdfb7b330f5\" xlink:show=\"new\" xlink:title=\"psysml:36aba5eb-a810-4976-a211-fcdfb7b330f5\" xlink:type=\"simple\"><rect fill=\"#FEFECE\" filter=\"url(#f1rhmo03ptqprs)\" height=\"69.6094\" id=\"E3\" style=\"stroke: #A80036; stroke-width: 1.5;\" width=\"40\" x=\"60\" y=\"164\"/><ellipse cx=\"75\" cy=\"180\" fill=\"#008000\" rx=\"11\" ry=\"11\" style=\"stroke: #A80036; stroke-width: 1.0;\"/><path d=\"M73.9063,180.375 L73.9063,184.0469 L75.5313,184.0469 Q76.7031,184.0469 77.1719,183.6563 Q77.6406,183.25 77.6406,182.25 Q77.6406,181.25 77.1406,180.8125 Q76.6563,180.375 75.5313,180.375 L73.9063,180.375 Z M73.9063,175.5469 L73.9063,178.4219 L75.5313,178.4219 Q76.4531,178.4219 76.8438,178.0938 Q77.25,177.75 77.25,177 Q77.25,176.2344 76.8438,175.8906 Q76.4375,175.5469 75.5313,175.5469 L73.9063,175.5469 Z M71.5313,173.5938 L75.5313,173.5938 Q77.5938,173.5938 78.6406,174.375 Q79.6875,175.1563 79.6875,176.7188 Q79.6875,177.9219 79.0625,178.5938 Q78.4531,179.2656 77.2656,179.375 Q78.6875,179.5156 79.4063,180.3281 Q80.125,181.1406 80.125,182.5938 Q80.125,184.3906 79.0469,185.2031 Q77.9688,186 75.5313,186 L71.5313,186 L71.5313,173.5938 Z \"/><text fill=\"#000000\" font-family=\"sans-serif\" font-size=\"12\" lengthAdjust=\"spacingAndGlyphs\" textLength=\"8\" x=\"89\" y=\"184.1543\">A</text><line style=\"stroke: #A80036; stroke-width: 1.5;\" x1=\"61\" x2=\"99\" y1=\"196\" y2=\"196\"/><text fill=\"#000000\" font-family=\"sans-serif\" font-size=\"11\" lengthAdjust=\"spacingAndGlyphs\" textLength=\"22\" x=\"66\" y=\"227.0151\">c: C</text><line style=\"stroke: #A80036; stroke-width: 1.0;\" x1=\"61\" x2=\"65\" y1=\"210.4023\" y2=\"210.4023\"/><text fill=\"#000000\" font-family=\"sans-serif\" font-size=\"11\" lengthAdjust=\"spacingAndGlyphs\" textLength=\"30\" x=\"65\" y=\"213.7104\">ports</text><line style=\"stroke: #A80036; stroke-width: 1.0;\" x1=\"95\" x2=\"99\" y1=\"210.4023\" y2=\"210.4023\"/></a><!--MD5=[ebbe1d658d1005bcc118a6aa81145e00]\n",
       "class E4--><a href=\"psysml:b5150c44-d935-4f31-a69b-527c90fd7c47\" target=\"_top\" title=\"psysml:b5150c44-d935-4f31-a69b-527c90fd7c47\" xlink:actuate=\"onRequest\" xlink:href=\"psysml:b5150c44-d935-4f31-a69b-527c90fd7c47\" xlink:show=\"new\" xlink:title=\"psysml:b5150c44-d935-4f31-a69b-527c90fd7c47\" xlink:type=\"simple\"><rect fill=\"#FEFECE\" filter=\"url(#f1rhmo03ptqprs)\" height=\"45.9375\" id=\"E4\" rx=\"10\" ry=\"10\" style=\"stroke: #A80036; stroke-width: 1.5;\" width=\"68\" x=\"69\" y=\"311\"/><ellipse cx=\"84\" cy=\"329.9688\" fill=\"#32CD32\" rx=\"11\" ry=\"11\" style=\"stroke: #A80036; stroke-width: 1.0;\"/><path d=\"M83.7969,325.6406 L83.7969,329.2656 L84.7969,329.2656 Q86,329.2656 86.4844,328.8594 Q86.9688,328.4531 86.9688,327.4531 Q86.9688,326.4531 86.4844,326.0469 Q86,325.6406 84.7969,325.6406 L83.7969,325.6406 Z M81.3438,323.5781 L84.7031,323.5781 Q87.2656,323.5781 88.3906,324.5 Q89.5156,325.4063 89.5156,327.4531 Q89.5156,329.5 88.3906,330.4219 Q87.2656,331.3281 84.7031,331.3281 L83.7969,331.3281 L83.7969,335.9688 L81.3438,335.9688 L81.3438,323.5781 Z \"/><text fill=\"#000000\" font-family=\"sans-serif\" font-size=\"12\" font-style=\"italic\" lengthAdjust=\"spacingAndGlyphs\" textLength=\"40\" x=\"96\" y=\"327.1387\">«part»</text><text fill=\"#000000\" font-family=\"sans-serif\" font-size=\"12\" lengthAdjust=\"spacingAndGlyphs\" textLength=\"24\" x=\"104\" y=\"341.1074\">b: B</text><line style=\"stroke: #A80036; stroke-width: 1.5;\" x1=\"70\" x2=\"136\" y1=\"348.9375\" y2=\"348.9375\"/></a><!--MD5=[60a26617385b1d2d0262a64233df1f8d]\n",
       "class E6--><a href=\"psysml:94fb1c4b-8096-4b0e-a0c8-00d5fe55de6c\" target=\"_top\" title=\"psysml:94fb1c4b-8096-4b0e-a0c8-00d5fe55de6c\" xlink:actuate=\"onRequest\" xlink:href=\"psysml:94fb1c4b-8096-4b0e-a0c8-00d5fe55de6c\" xlink:show=\"new\" xlink:title=\"psysml:94fb1c4b-8096-4b0e-a0c8-00d5fe55de6c\" xlink:type=\"simple\"><rect fill=\"#FEFECE\" filter=\"url(#f1rhmo03ptqprs)\" height=\"69.6094\" id=\"E6\" style=\"stroke: #A80036; stroke-width: 1.5;\" width=\"43\" x=\"151.5\" y=\"418\"/><ellipse cx=\"167.85\" cy=\"434\" fill=\"#008000\" rx=\"11\" ry=\"11\" style=\"stroke: #A80036; stroke-width: 1.0;\"/><path d=\"M166.7563,434.375 L166.7563,438.0469 L168.3813,438.0469 Q169.5531,438.0469 170.0219,437.6563 Q170.4906,437.25 170.4906,436.25 Q170.4906,435.25 169.9906,434.8125 Q169.5063,434.375 168.3813,434.375 L166.7563,434.375 Z M166.7563,429.5469 L166.7563,432.4219 L168.3813,432.4219 Q169.3031,432.4219 169.6938,432.0938 Q170.1,431.75 170.1,431 Q170.1,430.2344 169.6938,429.8906 Q169.2875,429.5469 168.3813,429.5469 L166.7563,429.5469 Z M164.3813,427.5938 L168.3813,427.5938 Q170.4438,427.5938 171.4906,428.375 Q172.5375,429.1563 172.5375,430.7188 Q172.5375,431.9219 171.9125,432.5938 Q171.3031,433.2656 170.1156,433.375 Q171.5375,433.5156 172.2563,434.3281 Q172.975,435.1406 172.975,436.5938 Q172.975,438.3906 171.8969,439.2031 Q170.8188,440 168.3813,440 L164.3813,440 L164.3813,427.5938 Z \"/><text fill=\"#000000\" font-family=\"sans-serif\" font-size=\"12\" lengthAdjust=\"spacingAndGlyphs\" textLength=\"8\" x=\"182.15\" y=\"438.1543\">B</text><line style=\"stroke: #A80036; stroke-width: 1.5;\" x1=\"152.5\" x2=\"193.5\" y1=\"450\" y2=\"450\"/><text fill=\"#000000\" font-family=\"sans-serif\" font-size=\"11\" lengthAdjust=\"spacingAndGlyphs\" textLength=\"31\" x=\"157.5\" y=\"481.0151\">x: ~C</text><line style=\"stroke: #A80036; stroke-width: 1.0;\" x1=\"152.5\" x2=\"158\" y1=\"464.4023\" y2=\"464.4023\"/><text fill=\"#000000\" font-family=\"sans-serif\" font-size=\"11\" lengthAdjust=\"spacingAndGlyphs\" textLength=\"30\" x=\"158\" y=\"467.7104\">ports</text><line style=\"stroke: #A80036; stroke-width: 1.0;\" x1=\"188\" x2=\"193.5\" y1=\"464.4023\" y2=\"464.4023\"/></a><!--MD5=[2156ba9850f5573cc1fc38a6a4b2f02b]\n",
       "class E7--><a href=\"psysml:de084c60-8c86-4761-a316-7296396fb321\" target=\"_top\" title=\"psysml:de084c60-8c86-4761-a316-7296396fb321\" xlink:actuate=\"onRequest\" xlink:href=\"psysml:de084c60-8c86-4761-a316-7296396fb321\" xlink:show=\"new\" xlink:title=\"psysml:de084c60-8c86-4761-a316-7296396fb321\" xlink:type=\"simple\"><rect fill=\"#FEFECE\" filter=\"url(#f1rhmo03ptqprs)\" height=\"45.9375\" id=\"E7\" rx=\"10\" ry=\"10\" style=\"stroke: #A80036; stroke-width: 1.5;\" width=\"68\" x=\"44\" y=\"552.5\"/><ellipse cx=\"59\" cy=\"571.4688\" fill=\"#32CD32\" rx=\"11\" ry=\"11\" style=\"stroke: #A80036; stroke-width: 1.0;\"/><path d=\"M58.7969,567.1406 L58.7969,570.7656 L59.7969,570.7656 Q61,570.7656 61.4844,570.3594 Q61.9688,569.9531 61.9688,568.9531 Q61.9688,567.9531 61.4844,567.5469 Q61,567.1406 59.7969,567.1406 L58.7969,567.1406 Z M56.3438,565.0781 L59.7031,565.0781 Q62.2656,565.0781 63.3906,566 Q64.5156,566.9063 64.5156,568.9531 Q64.5156,571 63.3906,571.9219 Q62.2656,572.8281 59.7031,572.8281 L58.7969,572.8281 L58.7969,577.4688 L56.3438,577.4688 L56.3438,565.0781 Z \"/><text fill=\"#000000\" font-family=\"sans-serif\" font-size=\"12\" font-style=\"italic\" lengthAdjust=\"spacingAndGlyphs\" textLength=\"40\" x=\"71\" y=\"568.6387\">«part»</text><text fill=\"#000000\" font-family=\"sans-serif\" font-size=\"12\" lengthAdjust=\"spacingAndGlyphs\" textLength=\"24\" x=\"79\" y=\"582.6074\">a: A</text><line style=\"stroke: #A80036; stroke-width: 1.5;\" x1=\"45\" x2=\"111\" y1=\"590.4375\" y2=\"590.4375\"/></a><!--MD5=[96f4274e9e20536e775497830990834d]\n",
       "class E10--><a href=\"psysml:4c8e1ce2-7f9a-4661-9090-c510b6f01354\" target=\"_top\" title=\"psysml:4c8e1ce2-7f9a-4661-9090-c510b6f01354\" xlink:actuate=\"onRequest\" xlink:href=\"psysml:4c8e1ce2-7f9a-4661-9090-c510b6f01354\" xlink:show=\"new\" xlink:title=\"psysml:4c8e1ce2-7f9a-4661-9090-c510b6f01354\" xlink:type=\"simple\"><rect fill=\"#FEFECE\" filter=\"url(#f1rhmo03ptqprs)\" height=\"45.9375\" id=\"E10\" style=\"stroke: #A80036; stroke-width: 1.5;\" width=\"92\" x=\"138\" y=\"41\"/><ellipse cx=\"153\" cy=\"59.9688\" fill=\"#A52A2A\" rx=\"11\" ry=\"11\" style=\"stroke: #A80036; stroke-width: 1.0;\"/><path d=\"M152.5938,55.7813 L152.5938,63.7656 L153.25,63.7656 Q154.6875,63.7656 155.2969,62.8594 Q155.9219,61.9375 155.9219,59.7656 Q155.9219,57.5938 155.2969,56.6875 Q154.6875,55.7813 153.25,55.7813 L152.5938,55.7813 Z M150.1406,53.5781 L152.7656,53.5781 Q155.7969,53.5781 157.125,55.0313 Q158.4688,56.4688 158.4688,59.7656 Q158.4688,63.0625 157.125,64.5156 Q155.7969,65.9688 152.7656,65.9688 L150.1406,65.9688 L150.1406,53.5781 Z \"/><text fill=\"#000000\" font-family=\"sans-serif\" font-size=\"12\" font-style=\"italic\" lengthAdjust=\"spacingAndGlyphs\" textLength=\"64\" x=\"165\" y=\"57.1387\">«port def»</text><text fill=\"#000000\" font-family=\"sans-serif\" font-size=\"12\" lengthAdjust=\"spacingAndGlyphs\" textLength=\"8\" x=\"193\" y=\"71.1074\">C</text><line style=\"stroke: #A80036; stroke-width: 1.5;\" x1=\"139\" x2=\"229\" y1=\"78.9375\" y2=\"78.9375\"/></a><a href=\"psysml:4c76b494-1a6c-482d-b35c-aa72d24bc41e\" target=\"_top\" title=\"psysml:4c76b494-1a6c-482d-b35c-aa72d24bc41e\" xlink:actuate=\"onRequest\" xlink:href=\"psysml:4c76b494-1a6c-482d-b35c-aa72d24bc41e\" xlink:show=\"new\" xlink:title=\"psysml:4c76b494-1a6c-482d-b35c-aa72d24bc41e\" xlink:type=\"simple\"><polygon fill=\"#FFFFFF\" filter=\"url(#f1rhmo03ptqprs)\" points=\"158,549,174,549,181,571.2969,188,571.2969,188,601.5938,158,601.5938,158,549\" style=\"stroke: #000000; stroke-width: 1.5;\"/><line style=\"stroke: #000000; stroke-width: 1.5;\" x1=\"158\" x2=\"181\" y1=\"571.2969\" y2=\"571.2969\"/><text fill=\"#000000\" font-family=\"sans-serif\" font-size=\"14\" font-weight=\"bold\" lengthAdjust=\"spacingAndGlyphs\" textLength=\"10\" x=\"162\" y=\"563.9951\">P</text></a><!--MD5=[2720a5a1f2c3fca2055b230370638851]\n",
       "link E2 to E3--><a href=\"psysml:38cdc859-4dfa-4bc4-87cd-169dd5acc896\" target=\"_top\" title=\"psysml:38cdc859-4dfa-4bc4-87cd-169dd5acc896\" xlink:actuate=\"onRequest\" xlink:href=\"psysml:38cdc859-4dfa-4bc4-87cd-169dd5acc896\" xlink:show=\"new\" xlink:title=\"psysml:38cdc859-4dfa-4bc4-87cd-169dd5acc896\" xlink:type=\"simple\"><path d=\"M48.64,87.3 C40.37,100.63 33.23,118.02 38,134 C40.43,142.12 44.25,150.17 48.63,157.68 \" fill=\"none\" id=\"E2-&gt;E3\" style=\"stroke: #A80036; stroke-width: 1.0;\"/><polygon fill=\"#FFFFFF\" points=\"59.79,174.47,43.4429,162.5213,55.1024,154.7716,59.79,174.47\" style=\"stroke: #A80036; stroke-width: 1.0;\"/><ellipse cx=\"41.9533\" cy=\"156.6671\" fill=\"#A80036\" rx=\"2\" ry=\"2\" style=\"stroke: #A80036; stroke-width: 1.0;\"/><ellipse cx=\"50.2815\" cy=\"151.1316\" fill=\"#A80036\" rx=\"2\" ry=\"2\" style=\"stroke: #A80036; stroke-width: 1.0;\"/></a><!--MD5=[4672eba38e49728da53d11aeb285b987]\n",
       "reverse link E3 to E4--><a href=\"psysml:5ebdadf2-6044-45bc-aa24-2da7c79aba16\" target=\"_top\" title=\"psysml:5ebdadf2-6044-45bc-aa24-2da7c79aba16\" xlink:actuate=\"onRequest\" xlink:href=\"psysml:5ebdadf2-6044-45bc-aa24-2da7c79aba16\" xlink:show=\"new\" xlink:title=\"psysml:5ebdadf2-6044-45bc-aa24-2da7c79aba16\" xlink:type=\"simple\"><path d=\"M88.18,247.28 C91.93,268.98 96.2,293.67 99.19,310.96 \" fill=\"none\" id=\"E3&lt;-E4\" style=\"stroke: #A80036; stroke-width: 1.0;\"/><polygon fill=\"#A80036\" points=\"85.92,234.25,83.0001,240.8435,87.9633,246.0748,90.8832,239.4813,85.92,234.25\" style=\"stroke: #A80036; stroke-width: 1.0;\"/></a><!--MD5=[79568f1e445c3877b6a54524624ccc7d]\n",
       "link E4 to E6--><a href=\"psysml:1fd8d685-c326-41aa-b421-a8308f20148e\" target=\"_top\" title=\"psysml:1fd8d685-c326-41aa-b421-a8308f20148e\" xlink:actuate=\"onRequest\" xlink:href=\"psysml:1fd8d685-c326-41aa-b421-a8308f20148e\" xlink:show=\"new\" xlink:title=\"psysml:1fd8d685-c326-41aa-b421-a8308f20148e\" xlink:type=\"simple\"><path d=\"M116.17,357.01 C123.51,369.28 132.99,385.13 142.09,400.34 \" fill=\"none\" id=\"E4-&gt;E6\" style=\"stroke: #A80036; stroke-width: 1.0;\"/><polygon fill=\"#FFFFFF\" points=\"152.46,417.67,136.6992,404.9579,148.7138,397.7711,152.46,417.67\" style=\"stroke: #A80036; stroke-width: 1.0;\"/><ellipse cx=\"135.4896\" cy=\"399.0395\" fill=\"#A80036\" rx=\"2\" ry=\"2\" style=\"stroke: #A80036; stroke-width: 1.0;\"/><ellipse cx=\"144.0714\" cy=\"393.9061\" fill=\"#A80036\" rx=\"2\" ry=\"2\" style=\"stroke: #A80036; stroke-width: 1.0;\"/></a><!--MD5=[3f50a3473f1dfb74d3f76443e03635af]\n",
       "reverse link E6 to E7--><a href=\"psysml:c471fe89-f766-40f3-82e0-5e28332f3a67\" target=\"_top\" title=\"psysml:c471fe89-f766-40f3-82e0-5e28332f3a67\" xlink:actuate=\"onRequest\" xlink:href=\"psysml:c471fe89-f766-40f3-82e0-5e28332f3a67\" xlink:show=\"new\" xlink:title=\"psysml:c471fe89-f766-40f3-82e0-5e28332f3a67\" xlink:type=\"simple\"><path d=\"M143.29,491.68 C127.54,511.67 108.72,535.53 95.35,552.49 \" fill=\"none\" id=\"E6&lt;-E7\" style=\"stroke: #A80036; stroke-width: 1.0;\"/><polygon fill=\"#A80036\" points=\"151.44,481.34,144.5854,483.5794,144.0162,490.768,150.8708,488.5286,151.44,481.34\" style=\"stroke: #A80036; stroke-width: 1.0;\"/></a><!--MD5=[14ccda38c055a5c0da953d572bc50960]\n",
       "link E7 to E3--><a href=\"psysml:ce24e444-eb42-4eaa-91b0-86c1efe7ffc5\" target=\"_top\" title=\"psysml:ce24e444-eb42-4eaa-91b0-86c1efe7ffc5\" xlink:actuate=\"onRequest\" xlink:href=\"psysml:ce24e444-eb42-4eaa-91b0-86c1efe7ffc5\" xlink:show=\"new\" xlink:title=\"psysml:ce24e444-eb42-4eaa-91b0-86c1efe7ffc5\" xlink:type=\"simple\"><path d=\"M72.27,552.25 C61.33,506.82 39.54,400.17 51,311 C53.45,291.91 58.19,271.42 63.13,253.3 \" fill=\"none\" id=\"E7-&gt;E3\" style=\"stroke: #A80036; stroke-width: 1.0;\"/><polygon fill=\"#FFFFFF\" points=\"68.69,234.05,70.1494,254.2458,56.698,250.3654,68.69,234.05\" style=\"stroke: #A80036; stroke-width: 1.0;\"/><ellipse cx=\"66.6479\" cy=\"259.1681\" fill=\"#A80036\" rx=\"2\" ry=\"2\" style=\"stroke: #A80036; stroke-width: 1.0;\"/><ellipse cx=\"57.0397\" cy=\"256.3964\" fill=\"#A80036\" rx=\"2\" ry=\"2\" style=\"stroke: #A80036; stroke-width: 1.0;\"/></a><!--MD5=[e88d06e5a652d73a6b19930eefe025a8]\n",
       "reverse link E6 to E9--><a href=\"psysml:cabff1fd-5442-4a71-976e-341ac2e5dda1\" target=\"_top\" title=\"psysml:cabff1fd-5442-4a71-976e-341ac2e5dda1\" xlink:actuate=\"onRequest\" xlink:href=\"psysml:cabff1fd-5442-4a71-976e-341ac2e5dda1\" xlink:show=\"new\" xlink:title=\"psysml:cabff1fd-5442-4a71-976e-341ac2e5dda1\" xlink:type=\"simple\"><path d=\"M173,503.27 C173,518.83 173,535.4 173,548.64 \" fill=\"none\" id=\"E6&lt;-E9\" style=\"stroke: #A80036; stroke-width: 1.0;\"/><ellipse cx=\"173\" cy=\"496.21\" fill=\"#FFFFFF\" rx=\"8\" ry=\"8\" style=\"stroke: #A80036; stroke-width: 1.0;\"/><line style=\"stroke: #A80036; stroke-width: 1.0;\" x1=\"173\" x2=\"173\" y1=\"504.21\" y2=\"488.21\"/><line style=\"stroke: #A80036; stroke-width: 1.0;\" x1=\"165\" x2=\"181\" y1=\"496.21\" y2=\"496.21\"/></a><!--MD5=[8e04057e7b3cbc0dca4fc78ea351e2da]\n",
       "reverse link E10 to E3--><a href=\"psysml:a19db77c-da80-41d6-a5f2-85a22676bfcf\" target=\"_top\" title=\"psysml:a19db77c-da80-41d6-a5f2-85a22676bfcf\" xlink:actuate=\"onRequest\" xlink:href=\"psysml:a19db77c-da80-41d6-a5f2-85a22676bfcf\" xlink:show=\"new\" xlink:title=\"psysml:a19db77c-da80-41d6-a5f2-85a22676bfcf\" xlink:type=\"simple\"><path d=\"M125.72,86.24 C103.2,95.73 81.31,107 75,117 C66.35,130.7 66.49,148.44 69.25,163.82 \" fill=\"none\" id=\"E10&lt;-E3\" style=\"stroke: #A80036; stroke-width: 1.0;\"/><polygon fill=\"#FFFFFF\" points=\"137.84,81.31,130.7764,79.859,126.7202,85.8212,133.7839,87.2722,137.84,81.31\" style=\"stroke: #A80036; stroke-width: 1.0;\"/><text fill=\"#000000\" font-family=\"sans-serif\" font-size=\"13\" lengthAdjust=\"spacingAndGlyphs\" textLength=\"7\" x=\"76\" y=\"130.0669\">y</text></a><!--MD5=[8e04057e7b3cbc0dca4fc78ea351e2da]\n",
       "reverse link E10 to E3--><a href=\"psysml:a19db77c-da80-41d6-a5f2-85a22676bfcf\" target=\"_top\" title=\"psysml:a19db77c-da80-41d6-a5f2-85a22676bfcf\" xlink:actuate=\"onRequest\" xlink:href=\"psysml:a19db77c-da80-41d6-a5f2-85a22676bfcf\" xlink:show=\"new\" xlink:title=\"psysml:a19db77c-da80-41d6-a5f2-85a22676bfcf\" xlink:type=\"simple\"><path d=\"M144.4,95.71 C137.16,102.3 130,109.54 124,117 C112.67,131.09 102.77,148.53 95.24,163.61 \" fill=\"none\" id=\"E10&lt;-E3-1\" style=\"stroke: #A80036; stroke-width: 1.0;\"/><polygon fill=\"#FFFFFF\" points=\"154.24,87.17,147.0874,88.0863,145.1822,95.0412,152.3348,94.1249,154.24,87.17\" style=\"stroke: #A80036; stroke-width: 1.0;\"/><text fill=\"#000000\" font-family=\"sans-serif\" font-size=\"13\" lengthAdjust=\"spacingAndGlyphs\" textLength=\"7\" x=\"125\" y=\"130.0669\">y</text></a><!--MD5=[8e04057e7b3cbc0dca4fc78ea351e2da]\n",
       "reverse link E10 to E3--><a href=\"psysml:a19db77c-da80-41d6-a5f2-85a22676bfcf\" target=\"_top\" title=\"psysml:a19db77c-da80-41d6-a5f2-85a22676bfcf\" xlink:actuate=\"onRequest\" xlink:href=\"psysml:a19db77c-da80-41d6-a5f2-85a22676bfcf\" xlink:show=\"new\" xlink:title=\"psysml:a19db77c-da80-41d6-a5f2-85a22676bfcf\" xlink:type=\"simple\"><path d=\"M160.31,97.82 C151.83,109.37 142.11,122.35 133,134 C122.42,147.52 110.22,162.3 100.2,174.25 \" fill=\"none\" id=\"E10&lt;-E3-2\" style=\"stroke: #A80036; stroke-width: 1.0;\"/><polygon fill=\"#FFFFFF\" points=\"168,87.3,161.2306,89.785,160.9208,96.9894,167.6902,94.5044,168,87.3\" style=\"stroke: #A80036; stroke-width: 1.0;\"/><text fill=\"#000000\" font-family=\"sans-serif\" font-size=\"13\" lengthAdjust=\"spacingAndGlyphs\" textLength=\"7\" x=\"147\" y=\"130.0669\">y</text></a><!--MD5=[604cbf994c02b74b117f728a71673cea]\n",
       "reverse link E10 to E6--><a href=\"psysml:a19db77c-da80-41d6-a5f2-85a22676bfcf\" target=\"_top\" title=\"psysml:a19db77c-da80-41d6-a5f2-85a22676bfcf\" xlink:actuate=\"onRequest\" xlink:href=\"psysml:a19db77c-da80-41d6-a5f2-85a22676bfcf\" xlink:show=\"new\" xlink:title=\"psysml:a19db77c-da80-41d6-a5f2-85a22676bfcf\" xlink:type=\"simple\"><path d=\"M198.16,99.81 C200.05,105.48 201.76,111.35 203,117 C228.89,234.84 255.99,273.16 219,388 C214.09,403.24 204.06,417.92 194.62,429.36 \" fill=\"none\" id=\"E10&lt;-E6\" style=\"stroke: #A80036; stroke-width: 1.0;\"/><polygon fill=\"#FFFFFF\" points=\"193.57,87.13,191.8521,94.1335,197.6561,98.4129,199.374,91.4094,193.57,87.13\" style=\"stroke: #A80036; stroke-width: 1.0;\"/><text fill=\"#000000\" font-family=\"sans-serif\" font-size=\"13\" lengthAdjust=\"spacingAndGlyphs\" textLength=\"7\" x=\"237\" y=\"277.0669\">y</text></a><!--MD5=[604cbf994c02b74b117f728a71673cea]\n",
       "reverse link E10 to E6--><a href=\"psysml:a19db77c-da80-41d6-a5f2-85a22676bfcf\" target=\"_top\" title=\"psysml:a19db77c-da80-41d6-a5f2-85a22676bfcf\" xlink:actuate=\"onRequest\" xlink:href=\"psysml:a19db77c-da80-41d6-a5f2-85a22676bfcf\" xlink:show=\"new\" xlink:title=\"psysml:a19db77c-da80-41d6-a5f2-85a22676bfcf\" xlink:type=\"simple\"><path d=\"M173.9,99.97 C159.48,151.87 135.42,246.82 142,281 C144.72,295.1 150.35,297.11 154,311 C163.43,346.83 168.33,389.08 170.77,417.93 \" fill=\"none\" id=\"E10&lt;-E6-1\" style=\"stroke: #A80036; stroke-width: 1.0;\"/><polygon fill=\"#FFFFFF\" points=\"177.51,87.16,172.0318,91.8493,174.2534,98.7097,179.7316,94.0204,177.51,87.16\" style=\"stroke: #A80036; stroke-width: 1.0;\"/><text fill=\"#000000\" font-family=\"sans-serif\" font-size=\"13\" lengthAdjust=\"spacingAndGlyphs\" textLength=\"7\" x=\"143\" y=\"277.0669\">y</text></a><!--MD5=[604cbf994c02b74b117f728a71673cea]\n",
       "reverse link E10 to E6--><a href=\"psysml:a19db77c-da80-41d6-a5f2-85a22676bfcf\" target=\"_top\" title=\"psysml:a19db77c-da80-41d6-a5f2-85a22676bfcf\" xlink:actuate=\"onRequest\" xlink:href=\"psysml:a19db77c-da80-41d6-a5f2-85a22676bfcf\" xlink:show=\"new\" xlink:title=\"psysml:a19db77c-da80-41d6-a5f2-85a22676bfcf\" xlink:type=\"simple\"><path d=\"M183.7,100.34 C183.1,159.76 181.4,283.46 177,388 C176.59,397.68 176,408.17 175.4,417.8 \" fill=\"none\" id=\"E10&lt;-E6-2\" style=\"stroke: #A80036; stroke-width: 1.0;\"/><polygon fill=\"#FFFFFF\" points=\"183.83,87.33,179.7774,93.2946,183.7244,99.3295,187.777,93.365,183.83,87.33\" style=\"stroke: #A80036; stroke-width: 1.0;\"/><text fill=\"#000000\" font-family=\"sans-serif\" font-size=\"13\" lengthAdjust=\"spacingAndGlyphs\" textLength=\"7\" x=\"181\" y=\"277.0669\">y</text></a><!--MD5=[ef0445380fe327f17c75d88289bbe5ef]\n",
       "@startuml\r\n",
       " \r\n",
       "package \"PartTest\" as E1  [[psysml:c65cc0cd-28b1-4d7a-bc05-02136890ed9a ]]  {\r\n",
       "comp usage \"f: A\" as E2  << (P,limegreen) part>> [[psysml:634826b2-2fc2-4798-92ed-071cd1dffdd8 ]] {\r\n",
       "}\r\n",
       "comp def \"A\" as E3  << (B,green) >> [[psysml:36aba5eb-a810-4976-a211-fcdfb7b330f5 ]] {\r\n",
       "- - ports - -\r\n",
       "c: C\r\n",
       "}\r\n",
       "comp usage \"b: B\" as E4  << (P,limegreen) part>> [[psysml:b5150c44-d935-4f31-a69b-527c90fd7c47 ]] {\r\n",
       "}\r\n",
       "comp def \"B\" as E6  << (B,green) >> [[psysml:94fb1c4b-8096-4b0e-a0c8-00d5fe55de6c ]] {\r\n",
       "- - ports - -\r\n",
       "x: ~C\r\n",
       "}\r\n",
       "comp usage \"a: A\" as E7  << (P,limegreen) part>> [[psysml:de084c60-8c86-4761-a316-7296396fb321 ]] {\r\n",
       "}\r\n",
       "package \"P\" as E9  [[psysml:4c76b494-1a6c-482d-b35c-aa72d24bc41e ]]  {\r\n",
       "}\r\n",
       "comp def \"C\" as E10  <<(D,brown)port def>> [[psysml:4c8e1ce2-7f9a-4661-9090-c510b6f01354 ]] {\r\n",
       "}\r\n",
       "E2 - -:|> E3 [[psysml:38cdc859-4dfa-4bc4-87cd-169dd5acc896 ]] \r\n",
       "E3 *- - E4 [[psysml:5ebdadf2-6044-45bc-aa24-2da7c79aba16 ]] \r\n",
       "E4 - -:|> E6 [[psysml:1fd8d685-c326-41aa-b421-a8308f20148e ]] \r\n",
       "E6 *- - E7 [[psysml:c471fe89-f766-40f3-82e0-5e28332f3a67 ]] \r\n",
       "E7 - -:|> E3 [[psysml:ce24e444-eb42-4eaa-91b0-86c1efe7ffc5 ]] \r\n",
       "E6 +- - E9 [[psysml:cabff1fd-5442-4a71-976e-341ac2e5dda1 ]] \r\n",
       "E10 o- - E3 [[psysml:a19db77c-da80-41d6-a5f2-85a22676bfcf ]] : y\r\n",
       "E10 o- - E6 [[psysml:a19db77c-da80-41d6-a5f2-85a22676bfcf ]] : y\r\n",
       "E10 o- - E3 [[psysml:a19db77c-da80-41d6-a5f2-85a22676bfcf ]] : y\r\n",
       "E10 o- - E6 [[psysml:a19db77c-da80-41d6-a5f2-85a22676bfcf ]] : y\r\n",
       "E10 o- - E3 [[psysml:a19db77c-da80-41d6-a5f2-85a22676bfcf ]] : y\r\n",
       "E10 o- - E6 [[psysml:a19db77c-da80-41d6-a5f2-85a22676bfcf ]] : y\r\n",
       "}\r\n",
       "@enduml\r\n",
       "\n",
       "PlantUML version 1.2020.13(Sat Jun 13 12:26:38 UTC 2020)\n",
       "(EPL source distribution)\n",
       "Java Runtime: OpenJDK Runtime Environment\n",
       "JVM: OpenJDK 64-Bit Server VM\n",
       "Default Encoding: UTF-8\n",
       "Language: en\n",
       "Country: null\n",
       "--></g></svg>"
      ]
     },
     "execution_count": 36,
     "metadata": {},
     "output_type": "execute_result"
    }
   ],
   "source": [
    "%viz --style=\"PLANTUML\" --view=\"MIXED\" \"PartTest\""
   ]
  },
  {
   "cell_type": "code",
   "execution_count": 37,
   "id": "dd221d0b",
   "metadata": {
    "execution": {
     "iopub.execute_input": "2021-04-20T07:29:14.725174Z",
     "iopub.status.busy": "2021-04-20T07:29:14.723249Z",
     "iopub.status.idle": "2021-04-20T07:29:14.825692Z",
     "shell.execute_reply": "2021-04-20T07:29:14.825036Z"
    }
   },
   "outputs": [
    {
     "data": {
      "image/svg+xml": [
       "<?xml version=\"1.0\" encoding=\"UTF-8\" standalone=\"no\"?><svg xmlns=\"http://www.w3.org/2000/svg\" xmlns:xlink=\"http://www.w3.org/1999/xlink\" contentScriptType=\"application/ecmascript\" contentStyleType=\"text/css\" height=\"642px\" preserveAspectRatio=\"none\" style=\"width:260px;height:642px;\" version=\"1.1\" viewBox=\"0 0 260 642\" width=\"260px\" zoomAndPan=\"magnify\"><defs/><g><!--MD5=[fbc87193dbaf4d95561dea2c320d4a47]\n",
       "cluster E1--><a href=\"psysml:c65cc0cd-28b1-4d7a-bc05-02136890ed9a\" target=\"_top\" title=\"psysml:c65cc0cd-28b1-4d7a-bc05-02136890ed9a\" xlink:actuate=\"onRequest\" xlink:href=\"psysml:c65cc0cd-28b1-4d7a-bc05-02136890ed9a\" xlink:show=\"new\" xlink:title=\"psysml:c65cc0cd-28b1-4d7a-bc05-02136890ed9a\" xlink:type=\"simple\"><polygon fill=\"#FFFFFF\" points=\"16,6,89,6,96,28.2969,238,28.2969,238,630,16,630,16,6\" style=\"stroke: #000000; stroke-width: 1.5;\"/><line style=\"stroke: #000000; stroke-width: 1.5;\" x1=\"16\" x2=\"96\" y1=\"28.2969\" y2=\"28.2969\"/><text fill=\"#000000\" font-family=\"sans-serif\" font-size=\"14\" font-weight=\"bold\" lengthAdjust=\"spacingAndGlyphs\" textLength=\"67\" x=\"20\" y=\"20.9951\">PartTest</text></a><!--MD5=[b4997ac47864f28c2f74865a473b2911]\n",
       "class E2--><a href=\"psysml:634826b2-2fc2-4798-92ed-071cd1dffdd8\" target=\"_top\" title=\"psysml:634826b2-2fc2-4798-92ed-071cd1dffdd8\" xlink:actuate=\"onRequest\" xlink:href=\"psysml:634826b2-2fc2-4798-92ed-071cd1dffdd8\" xlink:show=\"new\" xlink:title=\"psysml:634826b2-2fc2-4798-92ed-071cd1dffdd8\" xlink:type=\"simple\"><rect fill=\"#FFFFFF\" height=\"45.9375\" id=\"E2\" rx=\"10\" ry=\"10\" style=\"stroke: #383838; stroke-width: 1.5;\" width=\"42\" x=\"32\" y=\"41\"/><text fill=\"#000000\" font-family=\"sans-serif\" font-size=\"12\" font-style=\"italic\" lengthAdjust=\"spacingAndGlyphs\" textLength=\"40\" x=\"33\" y=\"57.1387\">«part»</text><text fill=\"#000000\" font-family=\"sans-serif\" font-size=\"12\" lengthAdjust=\"spacingAndGlyphs\" textLength=\"20\" x=\"43\" y=\"71.1074\">f: A</text><line style=\"stroke: #383838; stroke-width: 1.5;\" x1=\"33\" x2=\"73\" y1=\"78.9375\" y2=\"78.9375\"/></a><!--MD5=[09b614a08d8cba4a07c9adeb5e0fee81]\n",
       "class E3--><a href=\"psysml:36aba5eb-a810-4976-a211-fcdfb7b330f5\" target=\"_top\" title=\"psysml:36aba5eb-a810-4976-a211-fcdfb7b330f5\" xlink:actuate=\"onRequest\" xlink:href=\"psysml:36aba5eb-a810-4976-a211-fcdfb7b330f5\" xlink:show=\"new\" xlink:title=\"psysml:36aba5eb-a810-4976-a211-fcdfb7b330f5\" xlink:type=\"simple\"><rect fill=\"#FFFFFF\" height=\"75.5469\" id=\"E3\" style=\"stroke: #383838; stroke-width: 1.5;\" width=\"66\" x=\"37\" y=\"164\"/><text fill=\"#000000\" font-family=\"sans-serif\" font-size=\"12\" font-style=\"italic\" lengthAdjust=\"spacingAndGlyphs\" textLength=\"64\" x=\"38\" y=\"180.1387\">«part def»</text><text fill=\"#000000\" font-family=\"sans-serif\" font-size=\"12\" lengthAdjust=\"spacingAndGlyphs\" textLength=\"8\" x=\"66\" y=\"194.1074\">A</text><line style=\"stroke: #383838; stroke-width: 1.5;\" x1=\"38\" x2=\"102\" y1=\"201.9375\" y2=\"201.9375\"/><text fill=\"#000000\" font-family=\"sans-serif\" font-size=\"11\" lengthAdjust=\"spacingAndGlyphs\" textLength=\"22\" x=\"43\" y=\"232.9526\">c: C</text><line style=\"stroke: #383838; stroke-width: 1.0;\" x1=\"38\" x2=\"55\" y1=\"216.3398\" y2=\"216.3398\"/><text fill=\"#000000\" font-family=\"sans-serif\" font-size=\"11\" lengthAdjust=\"spacingAndGlyphs\" textLength=\"30\" x=\"55\" y=\"219.6479\">ports</text><line style=\"stroke: #383838; stroke-width: 1.0;\" x1=\"85\" x2=\"102\" y1=\"216.3398\" y2=\"216.3398\"/></a><!--MD5=[ebbe1d658d1005bcc118a6aa81145e00]\n",
       "class E4--><a href=\"psysml:b5150c44-d935-4f31-a69b-527c90fd7c47\" target=\"_top\" title=\"psysml:b5150c44-d935-4f31-a69b-527c90fd7c47\" xlink:actuate=\"onRequest\" xlink:href=\"psysml:b5150c44-d935-4f31-a69b-527c90fd7c47\" xlink:show=\"new\" xlink:title=\"psysml:b5150c44-d935-4f31-a69b-527c90fd7c47\" xlink:type=\"simple\"><rect fill=\"#FFFFFF\" height=\"45.9375\" id=\"E4\" rx=\"10\" ry=\"10\" style=\"stroke: #383838; stroke-width: 1.5;\" width=\"42\" x=\"69\" y=\"317\"/><text fill=\"#000000\" font-family=\"sans-serif\" font-size=\"12\" font-style=\"italic\" lengthAdjust=\"spacingAndGlyphs\" textLength=\"40\" x=\"70\" y=\"333.1387\">«part»</text><text fill=\"#000000\" font-family=\"sans-serif\" font-size=\"12\" lengthAdjust=\"spacingAndGlyphs\" textLength=\"24\" x=\"78\" y=\"347.1074\">b: B</text><line style=\"stroke: #383838; stroke-width: 1.5;\" x1=\"70\" x2=\"110\" y1=\"354.9375\" y2=\"354.9375\"/></a><!--MD5=[60a26617385b1d2d0262a64233df1f8d]\n",
       "class E6--><a href=\"psysml:94fb1c4b-8096-4b0e-a0c8-00d5fe55de6c\" target=\"_top\" title=\"psysml:94fb1c4b-8096-4b0e-a0c8-00d5fe55de6c\" xlink:actuate=\"onRequest\" xlink:href=\"psysml:94fb1c4b-8096-4b0e-a0c8-00d5fe55de6c\" xlink:show=\"new\" xlink:title=\"psysml:94fb1c4b-8096-4b0e-a0c8-00d5fe55de6c\" xlink:type=\"simple\"><rect fill=\"#FFFFFF\" height=\"75.5469\" id=\"E6\" style=\"stroke: #383838; stroke-width: 1.5;\" width=\"66\" x=\"114\" y=\"424\"/><text fill=\"#000000\" font-family=\"sans-serif\" font-size=\"12\" font-style=\"italic\" lengthAdjust=\"spacingAndGlyphs\" textLength=\"64\" x=\"115\" y=\"440.1387\">«part def»</text><text fill=\"#000000\" font-family=\"sans-serif\" font-size=\"12\" lengthAdjust=\"spacingAndGlyphs\" textLength=\"8\" x=\"143\" y=\"454.1074\">B</text><line style=\"stroke: #383838; stroke-width: 1.5;\" x1=\"115\" x2=\"179\" y1=\"461.9375\" y2=\"461.9375\"/><text fill=\"#000000\" font-family=\"sans-serif\" font-size=\"11\" lengthAdjust=\"spacingAndGlyphs\" textLength=\"31\" x=\"120\" y=\"492.9526\">x: ~C</text><line style=\"stroke: #383838; stroke-width: 1.0;\" x1=\"115\" x2=\"132\" y1=\"476.3398\" y2=\"476.3398\"/><text fill=\"#000000\" font-family=\"sans-serif\" font-size=\"11\" lengthAdjust=\"spacingAndGlyphs\" textLength=\"30\" x=\"132\" y=\"479.6479\">ports</text><line style=\"stroke: #383838; stroke-width: 1.0;\" x1=\"162\" x2=\"179\" y1=\"476.3398\" y2=\"476.3398\"/></a><!--MD5=[2156ba9850f5573cc1fc38a6a4b2f02b]\n",
       "class E7--><a href=\"psysml:de084c60-8c86-4761-a316-7296396fb321\" target=\"_top\" title=\"psysml:de084c60-8c86-4761-a316-7296396fb321\" xlink:actuate=\"onRequest\" xlink:href=\"psysml:de084c60-8c86-4761-a316-7296396fb321\" xlink:show=\"new\" xlink:title=\"psysml:de084c60-8c86-4761-a316-7296396fb321\" xlink:type=\"simple\"><rect fill=\"#FFFFFF\" height=\"45.9375\" id=\"E7\" rx=\"10\" ry=\"10\" style=\"stroke: #383838; stroke-width: 1.5;\" width=\"42\" x=\"44\" y=\"564.5\"/><text fill=\"#000000\" font-family=\"sans-serif\" font-size=\"12\" font-style=\"italic\" lengthAdjust=\"spacingAndGlyphs\" textLength=\"40\" x=\"45\" y=\"580.6387\">«part»</text><text fill=\"#000000\" font-family=\"sans-serif\" font-size=\"12\" lengthAdjust=\"spacingAndGlyphs\" textLength=\"24\" x=\"53\" y=\"594.6074\">a: A</text><line style=\"stroke: #383838; stroke-width: 1.5;\" x1=\"45\" x2=\"85\" y1=\"602.4375\" y2=\"602.4375\"/></a><!--MD5=[96f4274e9e20536e775497830990834d]\n",
       "class E10--><a href=\"psysml:4c8e1ce2-7f9a-4661-9090-c510b6f01354\" target=\"_top\" title=\"psysml:4c8e1ce2-7f9a-4661-9090-c510b6f01354\" xlink:actuate=\"onRequest\" xlink:href=\"psysml:4c8e1ce2-7f9a-4661-9090-c510b6f01354\" xlink:show=\"new\" xlink:title=\"psysml:4c8e1ce2-7f9a-4661-9090-c510b6f01354\" xlink:type=\"simple\"><rect fill=\"#FFFFFF\" height=\"45.9375\" id=\"E10\" style=\"stroke: #383838; stroke-width: 1.5;\" width=\"66\" x=\"146\" y=\"41\"/><text fill=\"#000000\" font-family=\"sans-serif\" font-size=\"12\" font-style=\"italic\" lengthAdjust=\"spacingAndGlyphs\" textLength=\"64\" x=\"147\" y=\"57.1387\">«port def»</text><text fill=\"#000000\" font-family=\"sans-serif\" font-size=\"12\" lengthAdjust=\"spacingAndGlyphs\" textLength=\"8\" x=\"175\" y=\"71.1074\">C</text><line style=\"stroke: #383838; stroke-width: 1.5;\" x1=\"147\" x2=\"211\" y1=\"78.9375\" y2=\"78.9375\"/></a><a href=\"psysml:4c76b494-1a6c-482d-b35c-aa72d24bc41e\" target=\"_top\" title=\"psysml:4c76b494-1a6c-482d-b35c-aa72d24bc41e\" xlink:actuate=\"onRequest\" xlink:href=\"psysml:4c76b494-1a6c-482d-b35c-aa72d24bc41e\" xlink:show=\"new\" xlink:title=\"psysml:4c76b494-1a6c-482d-b35c-aa72d24bc41e\" xlink:type=\"simple\"><polygon fill=\"#FFFFFF\" points=\"132,561,148,561,155,583.2969,162,583.2969,162,613.5938,132,613.5938,132,561\" style=\"stroke: #000000; stroke-width: 1.5;\"/><line style=\"stroke: #000000; stroke-width: 1.5;\" x1=\"132\" x2=\"155\" y1=\"583.2969\" y2=\"583.2969\"/><text fill=\"#000000\" font-family=\"sans-serif\" font-size=\"14\" font-weight=\"bold\" lengthAdjust=\"spacingAndGlyphs\" textLength=\"10\" x=\"136\" y=\"575.9951\">P</text></a><!--MD5=[2720a5a1f2c3fca2055b230370638851]\n",
       "link E2 to E3--><a href=\"psysml:38cdc859-4dfa-4bc4-87cd-169dd5acc896\" target=\"_top\" title=\"psysml:38cdc859-4dfa-4bc4-87cd-169dd5acc896\" xlink:actuate=\"onRequest\" xlink:href=\"psysml:38cdc859-4dfa-4bc4-87cd-169dd5acc896\" xlink:show=\"new\" xlink:title=\"psysml:38cdc859-4dfa-4bc4-87cd-169dd5acc896\" xlink:type=\"simple\"><path d=\"M43.23,87.08 C38.46,100.64 34.45,118.34 38,134 C38.82,137.61 39.86,141.26 41.06,144.89 \" fill=\"none\" id=\"E2-&gt;E3\" style=\"stroke: #383838; stroke-width: 1.0;\"/><polygon fill=\"#FFFFFF\" points=\"48.65,163.8,35.0703,148.7803,48.0607,143.5601,48.65,163.8\" style=\"stroke: #383838; stroke-width: 1.0;\"/><ellipse cx=\"34.8007\" cy=\"142.7456\" fill=\"#383838\" rx=\"2\" ry=\"2\" style=\"stroke: #383838; stroke-width: 1.0;\"/><ellipse cx=\"44.0796\" cy=\"139.0169\" fill=\"#383838\" rx=\"2\" ry=\"2\" style=\"stroke: #383838; stroke-width: 1.0;\"/></a><!--MD5=[4672eba38e49728da53d11aeb285b987]\n",
       "reverse link E3 to E4--><a href=\"psysml:5ebdadf2-6044-45bc-aa24-2da7c79aba16\" target=\"_top\" title=\"psysml:5ebdadf2-6044-45bc-aa24-2da7c79aba16\" xlink:actuate=\"onRequest\" xlink:href=\"psysml:5ebdadf2-6044-45bc-aa24-2da7c79aba16\" xlink:show=\"new\" xlink:title=\"psysml:5ebdadf2-6044-45bc-aa24-2da7c79aba16\" xlink:type=\"simple\"><path d=\"M72.88,253.51 C73.88,264.59 75.22,276.22 77,287 C78.64,296.92 81.21,307.72 83.63,316.9 \" fill=\"none\" id=\"E3&lt;-E4\" style=\"stroke: #383838; stroke-width: 1.0;\"/><polygon fill=\"#383838\" points=\"71.81,240.38,68.3042,246.6816,72.7727,252.3413,76.2785,246.0398,71.81,240.38\" style=\"stroke: #383838; stroke-width: 1.0;\"/></a><!--MD5=[79568f1e445c3877b6a54524624ccc7d]\n",
       "link E4 to E6--><a href=\"psysml:1fd8d685-c326-41aa-b421-a8308f20148e\" target=\"_top\" title=\"psysml:1fd8d685-c326-41aa-b421-a8308f20148e\" xlink:actuate=\"onRequest\" xlink:href=\"psysml:1fd8d685-c326-41aa-b421-a8308f20148e\" xlink:show=\"new\" xlink:title=\"psysml:1fd8d685-c326-41aa-b421-a8308f20148e\" xlink:type=\"simple\"><path d=\"M100.45,363.01 C106.1,374.9 113.36,390.18 120.46,405.12 \" fill=\"none\" id=\"E4-&gt;E6\" style=\"stroke: #383838; stroke-width: 1.0;\"/><polygon fill=\"#FFFFFF\" points=\"129.22,423.57,114.7395,409.4167,127.3831,403.405,129.22,423.57\" style=\"stroke: #383838; stroke-width: 1.0;\"/><ellipse cx=\"114.0981\" cy=\"403.4102\" fill=\"#383838\" rx=\"2\" ry=\"2\" style=\"stroke: #383838; stroke-width: 1.0;\"/><ellipse cx=\"123.1292\" cy=\"399.1161\" fill=\"#383838\" rx=\"2\" ry=\"2\" style=\"stroke: #383838; stroke-width: 1.0;\"/></a><!--MD5=[3f50a3473f1dfb74d3f76443e03635af]\n",
       "reverse link E6 to E7--><a href=\"psysml:c471fe89-f766-40f3-82e0-5e28332f3a67\" target=\"_top\" title=\"psysml:c471fe89-f766-40f3-82e0-5e28332f3a67\" xlink:actuate=\"onRequest\" xlink:href=\"psysml:c471fe89-f766-40f3-82e0-5e28332f3a67\" xlink:show=\"new\" xlink:title=\"psysml:c471fe89-f766-40f3-82e0-5e28332f3a67\" xlink:type=\"simple\"><path d=\"M115.19,510.9 C103,529.26 89.67,549.34 79.81,564.19 \" fill=\"none\" id=\"E6&lt;-E7\" style=\"stroke: #383838; stroke-width: 1.0;\"/><polygon fill=\"#383838\" points=\"122.4,500.05,115.7495,502.8377,115.7649,510.0488,122.4154,507.2611,122.4,500.05\" style=\"stroke: #383838; stroke-width: 1.0;\"/></a><!--MD5=[14ccda38c055a5c0da953d572bc50960]\n",
       "link E7 to E3--><a href=\"psysml:ce24e444-eb42-4eaa-91b0-86c1efe7ffc5\" target=\"_top\" title=\"psysml:ce24e444-eb42-4eaa-91b0-86c1efe7ffc5\" xlink:actuate=\"onRequest\" xlink:href=\"psysml:ce24e444-eb42-4eaa-91b0-86c1efe7ffc5\" xlink:show=\"new\" xlink:title=\"psysml:ce24e444-eb42-4eaa-91b0-86c1efe7ffc5\" xlink:type=\"simple\"><path d=\"M61.85,564.46 C55.72,518.43 43.41,408.75 51,317 C52.55,298.29 55.5,278.02 58.63,259.84 \" fill=\"none\" id=\"E7-&gt;E3\" style=\"stroke: #383838; stroke-width: 1.0;\"/><polygon fill=\"#FFFFFF\" points=\"62.24,240.03,65.7193,259.9773,51.9463,257.4667,62.24,240.03\" style=\"stroke: #383838; stroke-width: 1.0;\"/><ellipse cx=\"62.7296\" cy=\"265.2262\" fill=\"#383838\" rx=\"2\" ry=\"2\" style=\"stroke: #383838; stroke-width: 1.0;\"/><ellipse cx=\"52.8917\" cy=\"263.433\" fill=\"#383838\" rx=\"2\" ry=\"2\" style=\"stroke: #383838; stroke-width: 1.0;\"/></a><!--MD5=[e88d06e5a652d73a6b19930eefe025a8]\n",
       "reverse link E6 to E9--><a href=\"psysml:cabff1fd-5442-4a71-976e-341ac2e5dda1\" target=\"_top\" title=\"psysml:cabff1fd-5442-4a71-976e-341ac2e5dda1\" xlink:actuate=\"onRequest\" xlink:href=\"psysml:cabff1fd-5442-4a71-976e-341ac2e5dda1\" xlink:show=\"new\" xlink:title=\"psysml:cabff1fd-5442-4a71-976e-341ac2e5dda1\" xlink:type=\"simple\"><path d=\"M147,515.35 C147,531.08 147,547.65 147,560.83 \" fill=\"none\" id=\"E6&lt;-E9\" style=\"stroke: #383838; stroke-width: 1.0;\"/><ellipse cx=\"147\" cy=\"508.05\" fill=\"#FFFFFF\" rx=\"8\" ry=\"8\" style=\"stroke: #383838; stroke-width: 1.0;\"/><line style=\"stroke: #383838; stroke-width: 1.0;\" x1=\"147\" x2=\"147\" y1=\"516.05\" y2=\"500.05\"/><line style=\"stroke: #383838; stroke-width: 1.0;\" x1=\"139\" x2=\"155\" y1=\"508.05\" y2=\"508.05\"/></a><!--MD5=[8e04057e7b3cbc0dca4fc78ea351e2da]\n",
       "reverse link E10 to E3--><a href=\"psysml:a19db77c-da80-41d6-a5f2-85a22676bfcf\" target=\"_top\" title=\"psysml:a19db77c-da80-41d6-a5f2-85a22676bfcf\" xlink:actuate=\"onRequest\" xlink:href=\"psysml:a19db77c-da80-41d6-a5f2-85a22676bfcf\" xlink:show=\"new\" xlink:title=\"psysml:a19db77c-da80-41d6-a5f2-85a22676bfcf\" xlink:type=\"simple\"><path d=\"M133.33,76.35 C111.95,84.13 88.32,96.81 75,117 C66.07,130.53 63.94,148.12 64.4,163.71 \" fill=\"none\" id=\"E10&lt;-E3\" style=\"stroke: #383838; stroke-width: 1.0;\"/><polygon fill=\"#FFFFFF\" points=\"145.89,72.22,138.939,70.3009,134.494,75.9791,141.445,77.8982,145.89,72.22\" style=\"stroke: #383838; stroke-width: 1.0;\"/><text fill=\"#000000\" font-family=\"sans-serif\" font-size=\"13\" lengthAdjust=\"spacingAndGlyphs\" textLength=\"7\" x=\"76\" y=\"130.0669\">y</text></a><!--MD5=[8e04057e7b3cbc0dca4fc78ea351e2da]\n",
       "reverse link E10 to E3--><a href=\"psysml:a19db77c-da80-41d6-a5f2-85a22676bfcf\" target=\"_top\" title=\"psysml:a19db77c-da80-41d6-a5f2-85a22676bfcf\" xlink:actuate=\"onRequest\" xlink:href=\"psysml:a19db77c-da80-41d6-a5f2-85a22676bfcf\" xlink:show=\"new\" xlink:title=\"psysml:a19db77c-da80-41d6-a5f2-85a22676bfcf\" xlink:type=\"simple\"><path d=\"M143.35,96.28 C136.62,102.85 129.86,109.93 124,117 C112.05,131.41 100.57,148.61 91.29,163.69 \" fill=\"none\" id=\"E10&lt;-E3-1\" style=\"stroke: #383838; stroke-width: 1.0;\"/><polygon fill=\"#FFFFFF\" points=\"153.08,87.1,145.9702,88.3047,144.3478,95.331,151.4576,94.1262,153.08,87.1\" style=\"stroke: #383838; stroke-width: 1.0;\"/><text fill=\"#000000\" font-family=\"sans-serif\" font-size=\"13\" lengthAdjust=\"spacingAndGlyphs\" textLength=\"7\" x=\"125\" y=\"130.0669\">y</text></a><!--MD5=[8e04057e7b3cbc0dca4fc78ea351e2da]\n",
       "reverse link E10 to E3--><a href=\"psysml:a19db77c-da80-41d6-a5f2-85a22676bfcf\" target=\"_top\" title=\"psysml:a19db77c-da80-41d6-a5f2-85a22676bfcf\" xlink:actuate=\"onRequest\" xlink:href=\"psysml:a19db77c-da80-41d6-a5f2-85a22676bfcf\" xlink:show=\"new\" xlink:title=\"psysml:a19db77c-da80-41d6-a5f2-85a22676bfcf\" xlink:type=\"simple\"><path d=\"M158.49,98.17 C150.89,109.8 141.93,122.76 133,134 C123.86,145.5 113.16,157.39 103.19,167.9 \" fill=\"none\" id=\"E10&lt;-E3-2\" style=\"stroke: #383838; stroke-width: 1.0;\"/><polygon fill=\"#FFFFFF\" points=\"165.6,87.1,158.9946,89.9928,159.1242,97.2027,165.7297,94.3099,165.6,87.1\" style=\"stroke: #383838; stroke-width: 1.0;\"/><text fill=\"#000000\" font-family=\"sans-serif\" font-size=\"13\" lengthAdjust=\"spacingAndGlyphs\" textLength=\"7\" x=\"146\" y=\"130.0669\">y</text></a><!--MD5=[604cbf994c02b74b117f728a71673cea]\n",
       "reverse link E10 to E6--><a href=\"psysml:a19db77c-da80-41d6-a5f2-85a22676bfcf\" target=\"_top\" title=\"psysml:a19db77c-da80-41d6-a5f2-85a22676bfcf\" xlink:actuate=\"onRequest\" xlink:href=\"psysml:a19db77c-da80-41d6-a5f2-85a22676bfcf\" xlink:show=\"new\" xlink:title=\"psysml:a19db77c-da80-41d6-a5f2-85a22676bfcf\" xlink:type=\"simple\"><path d=\"M197.26,99.16 C199.64,104.97 201.69,111.05 203,117 C204.62,124.38 203.15,126.45 203,134 C200.78,249.62 229.38,284.23 193,394 C189.58,404.31 184.06,414.48 178.01,423.66 \" fill=\"none\" id=\"E10&lt;-E6\" style=\"stroke: #383838; stroke-width: 1.0;\"/><polygon fill=\"#FFFFFF\" points=\"191.73,87.03,190.583,94.1493,196.7135,97.9463,197.8605,90.827,191.73,87.03\" style=\"stroke: #383838; stroke-width: 1.0;\"/><text fill=\"#000000\" font-family=\"sans-serif\" font-size=\"13\" lengthAdjust=\"spacingAndGlyphs\" textLength=\"7\" x=\"212\" y=\"283.0669\">y</text></a><!--MD5=[604cbf994c02b74b117f728a71673cea]\n",
       "reverse link E10 to E6--><a href=\"psysml:a19db77c-da80-41d6-a5f2-85a22676bfcf\" target=\"_top\" title=\"psysml:a19db77c-da80-41d6-a5f2-85a22676bfcf\" xlink:actuate=\"onRequest\" xlink:href=\"psysml:a19db77c-da80-41d6-a5f2-85a22676bfcf\" xlink:show=\"new\" xlink:title=\"psysml:a19db77c-da80-41d6-a5f2-85a22676bfcf\" xlink:type=\"simple\"><path d=\"M171.02,99.85 C168.34,110.83 165.22,122.97 162,134 C144.13,195.25 126.36,207.04 116,270 C114.77,277.46 114.57,279.58 116,287 C118.72,301.1 124.37,303.11 128,317 C137.32,352.62 142.19,394.45 144.65,423.82 \" fill=\"none\" id=\"E10&lt;-E6-1\" style=\"stroke: #383838; stroke-width: 1.0;\"/><polygon fill=\"#FFFFFF\" points=\"174.04,87.19,168.7576,92.0987,171.257,98.8628,176.5394,93.9541,174.04,87.19\" style=\"stroke: #383838; stroke-width: 1.0;\"/><text fill=\"#000000\" font-family=\"sans-serif\" font-size=\"13\" lengthAdjust=\"spacingAndGlyphs\" textLength=\"7\" x=\"117\" y=\"283.0669\">y</text></a><!--MD5=[604cbf994c02b74b117f728a71673cea]\n",
       "reverse link E10 to E6--><a href=\"psysml:a19db77c-da80-41d6-a5f2-85a22676bfcf\" target=\"_top\" title=\"psysml:a19db77c-da80-41d6-a5f2-85a22676bfcf\" xlink:actuate=\"onRequest\" xlink:href=\"psysml:a19db77c-da80-41d6-a5f2-85a22676bfcf\" xlink:show=\"new\" xlink:title=\"psysml:a19db77c-da80-41d6-a5f2-85a22676bfcf\" xlink:type=\"simple\"><path d=\"M176.15,100.27 C170.13,174.82 156.15,347.78 150,423.9 \" fill=\"none\" id=\"E10&lt;-E6-2\" style=\"stroke: #383838; stroke-width: 1.0;\"/><polygon fill=\"#FFFFFF\" points=\"177.21,87.14,172.7415,92.7998,176.2473,99.1013,180.7158,93.4416,177.21,87.14\" style=\"stroke: #383838; stroke-width: 1.0;\"/><text fill=\"#000000\" font-family=\"sans-serif\" font-size=\"13\" lengthAdjust=\"spacingAndGlyphs\" textLength=\"7\" x=\"163\" y=\"283.0669\">y</text></a><!--MD5=[e63ea34fae9e0ced956b05f9be7cd366]\n",
       "@startuml\r\n",
       "skinparam monochrome true\r\n",
       "skinparam classbackgroundcolor white\r\n",
       "skinparam shadowing false\r\n",
       "skinparam wrapWidth 300\r\n",
       "hide circle\r\n",
       "\r\n",
       "package \"PartTest\" as E1  [[psysml:c65cc0cd-28b1-4d7a-bc05-02136890ed9a ]]  {\r\n",
       "comp usage \"f: A\" as E2  <<(T,blue)part>> [[psysml:634826b2-2fc2-4798-92ed-071cd1dffdd8 ]] {\r\n",
       "}\r\n",
       "comp def \"A\" as E3  <<(T,blue)part def>> [[psysml:36aba5eb-a810-4976-a211-fcdfb7b330f5 ]] {\r\n",
       "- - ports - -\r\n",
       "c: C\r\n",
       "}\r\n",
       "comp usage \"b: B\" as E4  <<(T,blue)part>> [[psysml:b5150c44-d935-4f31-a69b-527c90fd7c47 ]] {\r\n",
       "}\r\n",
       "comp def \"B\" as E6  <<(T,blue)part def>> [[psysml:94fb1c4b-8096-4b0e-a0c8-00d5fe55de6c ]] {\r\n",
       "- - ports - -\r\n",
       "x: ~C\r\n",
       "}\r\n",
       "comp usage \"a: A\" as E7  <<(T,blue)part>> [[psysml:de084c60-8c86-4761-a316-7296396fb321 ]] {\r\n",
       "}\r\n",
       "package \"P\" as E9  [[psysml:4c76b494-1a6c-482d-b35c-aa72d24bc41e ]]  {\r\n",
       "}\r\n",
       "comp def \"C\" as E10  <<(T,blue)port def>> [[psysml:4c8e1ce2-7f9a-4661-9090-c510b6f01354 ]] {\r\n",
       "}\r\n",
       "E2 - -:|> E3 [[psysml:38cdc859-4dfa-4bc4-87cd-169dd5acc896 ]] \r\n",
       "E3 *- - E4 [[psysml:5ebdadf2-6044-45bc-aa24-2da7c79aba16 ]] \r\n",
       "E4 - -:|> E6 [[psysml:1fd8d685-c326-41aa-b421-a8308f20148e ]] \r\n",
       "E6 *- - E7 [[psysml:c471fe89-f766-40f3-82e0-5e28332f3a67 ]] \r\n",
       "E7 - -:|> E3 [[psysml:ce24e444-eb42-4eaa-91b0-86c1efe7ffc5 ]] \r\n",
       "E6 +- - E9 [[psysml:cabff1fd-5442-4a71-976e-341ac2e5dda1 ]] \r\n",
       "E10 o- - E3 [[psysml:a19db77c-da80-41d6-a5f2-85a22676bfcf ]] : y\r\n",
       "E10 o- - E6 [[psysml:a19db77c-da80-41d6-a5f2-85a22676bfcf ]] : y\r\n",
       "E10 o- - E3 [[psysml:a19db77c-da80-41d6-a5f2-85a22676bfcf ]] : y\r\n",
       "E10 o- - E6 [[psysml:a19db77c-da80-41d6-a5f2-85a22676bfcf ]] : y\r\n",
       "E10 o- - E3 [[psysml:a19db77c-da80-41d6-a5f2-85a22676bfcf ]] : y\r\n",
       "E10 o- - E6 [[psysml:a19db77c-da80-41d6-a5f2-85a22676bfcf ]] : y\r\n",
       "}\r\n",
       "@enduml\r\n",
       "\n",
       "PlantUML version 1.2020.13(Sat Jun 13 12:26:38 UTC 2020)\n",
       "(EPL source distribution)\n",
       "Java Runtime: OpenJDK Runtime Environment\n",
       "JVM: OpenJDK 64-Bit Server VM\n",
       "Default Encoding: UTF-8\n",
       "Language: en\n",
       "Country: null\n",
       "--></g></svg>"
      ]
     },
     "execution_count": 37,
     "metadata": {},
     "output_type": "execute_result"
    }
   ],
   "source": [
    "%viz --style=\"DEFAULT\" --view=\"Default\" \"PartTest\""
   ]
  },
  {
   "cell_type": "code",
   "execution_count": 38,
   "id": "f5ced297",
   "metadata": {
    "execution": {
     "iopub.execute_input": "2021-04-20T07:29:14.880697Z",
     "iopub.status.busy": "2021-04-20T07:29:14.879567Z",
     "iopub.status.idle": "2021-04-20T07:29:15.022604Z",
     "shell.execute_reply": "2021-04-20T07:29:15.022088Z"
    }
   },
   "outputs": [
    {
     "data": {
      "image/svg+xml": [
       "<?xml version=\"1.0\" encoding=\"UTF-8\" standalone=\"no\"?><svg xmlns=\"http://www.w3.org/2000/svg\" xmlns:xlink=\"http://www.w3.org/1999/xlink\" contentScriptType=\"application/ecmascript\" contentStyleType=\"text/css\" height=\"642px\" preserveAspectRatio=\"none\" style=\"width:260px;height:642px;\" version=\"1.1\" viewBox=\"0 0 260 642\" width=\"260px\" zoomAndPan=\"magnify\"><defs/><g><!--MD5=[fbc87193dbaf4d95561dea2c320d4a47]\n",
       "cluster E1--><a href=\"psysml:c65cc0cd-28b1-4d7a-bc05-02136890ed9a\" target=\"_top\" title=\"psysml:c65cc0cd-28b1-4d7a-bc05-02136890ed9a\" xlink:actuate=\"onRequest\" xlink:href=\"psysml:c65cc0cd-28b1-4d7a-bc05-02136890ed9a\" xlink:show=\"new\" xlink:title=\"psysml:c65cc0cd-28b1-4d7a-bc05-02136890ed9a\" xlink:type=\"simple\"><polygon fill=\"#FFFFFF\" points=\"16,6,89,6,96,28.2969,238,28.2969,238,630,16,630,16,6\" style=\"stroke: #000000; stroke-width: 1.5;\"/><line style=\"stroke: #000000; stroke-width: 1.5;\" x1=\"16\" x2=\"96\" y1=\"28.2969\" y2=\"28.2969\"/><text fill=\"#000000\" font-family=\"sans-serif\" font-size=\"14\" font-weight=\"bold\" lengthAdjust=\"spacingAndGlyphs\" textLength=\"67\" x=\"20\" y=\"20.9951\">PartTest</text></a><!--MD5=[b4997ac47864f28c2f74865a473b2911]\n",
       "class E2--><a href=\"psysml:634826b2-2fc2-4798-92ed-071cd1dffdd8\" target=\"_top\" title=\"psysml:634826b2-2fc2-4798-92ed-071cd1dffdd8\" xlink:actuate=\"onRequest\" xlink:href=\"psysml:634826b2-2fc2-4798-92ed-071cd1dffdd8\" xlink:show=\"new\" xlink:title=\"psysml:634826b2-2fc2-4798-92ed-071cd1dffdd8\" xlink:type=\"simple\"><rect fill=\"#FFFFFF\" height=\"45.9375\" id=\"E2\" rx=\"10\" ry=\"10\" style=\"stroke: #383838; stroke-width: 1.5;\" width=\"42\" x=\"32\" y=\"41\"/><text fill=\"#000000\" font-family=\"sans-serif\" font-size=\"12\" font-style=\"italic\" lengthAdjust=\"spacingAndGlyphs\" textLength=\"40\" x=\"33\" y=\"57.1387\">«part»</text><text fill=\"#000000\" font-family=\"sans-serif\" font-size=\"12\" lengthAdjust=\"spacingAndGlyphs\" textLength=\"20\" x=\"43\" y=\"71.1074\">f: A</text><line style=\"stroke: #383838; stroke-width: 1.5;\" x1=\"33\" x2=\"73\" y1=\"78.9375\" y2=\"78.9375\"/></a><!--MD5=[09b614a08d8cba4a07c9adeb5e0fee81]\n",
       "class E3--><a href=\"psysml:36aba5eb-a810-4976-a211-fcdfb7b330f5\" target=\"_top\" title=\"psysml:36aba5eb-a810-4976-a211-fcdfb7b330f5\" xlink:actuate=\"onRequest\" xlink:href=\"psysml:36aba5eb-a810-4976-a211-fcdfb7b330f5\" xlink:show=\"new\" xlink:title=\"psysml:36aba5eb-a810-4976-a211-fcdfb7b330f5\" xlink:type=\"simple\"><rect fill=\"#FFFFFF\" height=\"75.5469\" id=\"E3\" style=\"stroke: #383838; stroke-width: 1.5;\" width=\"66\" x=\"37\" y=\"164\"/><text fill=\"#000000\" font-family=\"sans-serif\" font-size=\"12\" font-style=\"italic\" lengthAdjust=\"spacingAndGlyphs\" textLength=\"64\" x=\"38\" y=\"180.1387\">«part def»</text><text fill=\"#000000\" font-family=\"sans-serif\" font-size=\"12\" lengthAdjust=\"spacingAndGlyphs\" textLength=\"8\" x=\"66\" y=\"194.1074\">A</text><line style=\"stroke: #383838; stroke-width: 1.5;\" x1=\"38\" x2=\"102\" y1=\"201.9375\" y2=\"201.9375\"/><text fill=\"#000000\" font-family=\"sans-serif\" font-size=\"11\" lengthAdjust=\"spacingAndGlyphs\" textLength=\"22\" x=\"43\" y=\"232.9526\">c: C</text><line style=\"stroke: #383838; stroke-width: 1.0;\" x1=\"38\" x2=\"55\" y1=\"216.3398\" y2=\"216.3398\"/><text fill=\"#000000\" font-family=\"sans-serif\" font-size=\"11\" lengthAdjust=\"spacingAndGlyphs\" textLength=\"30\" x=\"55\" y=\"219.6479\">ports</text><line style=\"stroke: #383838; stroke-width: 1.0;\" x1=\"85\" x2=\"102\" y1=\"216.3398\" y2=\"216.3398\"/></a><!--MD5=[ebbe1d658d1005bcc118a6aa81145e00]\n",
       "class E4--><a href=\"psysml:b5150c44-d935-4f31-a69b-527c90fd7c47\" target=\"_top\" title=\"psysml:b5150c44-d935-4f31-a69b-527c90fd7c47\" xlink:actuate=\"onRequest\" xlink:href=\"psysml:b5150c44-d935-4f31-a69b-527c90fd7c47\" xlink:show=\"new\" xlink:title=\"psysml:b5150c44-d935-4f31-a69b-527c90fd7c47\" xlink:type=\"simple\"><rect fill=\"#FFFFFF\" height=\"45.9375\" id=\"E4\" rx=\"10\" ry=\"10\" style=\"stroke: #383838; stroke-width: 1.5;\" width=\"42\" x=\"69\" y=\"317\"/><text fill=\"#000000\" font-family=\"sans-serif\" font-size=\"12\" font-style=\"italic\" lengthAdjust=\"spacingAndGlyphs\" textLength=\"40\" x=\"70\" y=\"333.1387\">«part»</text><text fill=\"#000000\" font-family=\"sans-serif\" font-size=\"12\" lengthAdjust=\"spacingAndGlyphs\" textLength=\"24\" x=\"78\" y=\"347.1074\">b: B</text><line style=\"stroke: #383838; stroke-width: 1.5;\" x1=\"70\" x2=\"110\" y1=\"354.9375\" y2=\"354.9375\"/></a><!--MD5=[60a26617385b1d2d0262a64233df1f8d]\n",
       "class E6--><a href=\"psysml:94fb1c4b-8096-4b0e-a0c8-00d5fe55de6c\" target=\"_top\" title=\"psysml:94fb1c4b-8096-4b0e-a0c8-00d5fe55de6c\" xlink:actuate=\"onRequest\" xlink:href=\"psysml:94fb1c4b-8096-4b0e-a0c8-00d5fe55de6c\" xlink:show=\"new\" xlink:title=\"psysml:94fb1c4b-8096-4b0e-a0c8-00d5fe55de6c\" xlink:type=\"simple\"><rect fill=\"#FFFFFF\" height=\"75.5469\" id=\"E6\" style=\"stroke: #383838; stroke-width: 1.5;\" width=\"66\" x=\"114\" y=\"424\"/><text fill=\"#000000\" font-family=\"sans-serif\" font-size=\"12\" font-style=\"italic\" lengthAdjust=\"spacingAndGlyphs\" textLength=\"64\" x=\"115\" y=\"440.1387\">«part def»</text><text fill=\"#000000\" font-family=\"sans-serif\" font-size=\"12\" lengthAdjust=\"spacingAndGlyphs\" textLength=\"8\" x=\"143\" y=\"454.1074\">B</text><line style=\"stroke: #383838; stroke-width: 1.5;\" x1=\"115\" x2=\"179\" y1=\"461.9375\" y2=\"461.9375\"/><text fill=\"#000000\" font-family=\"sans-serif\" font-size=\"11\" lengthAdjust=\"spacingAndGlyphs\" textLength=\"31\" x=\"120\" y=\"492.9526\">x: ~C</text><line style=\"stroke: #383838; stroke-width: 1.0;\" x1=\"115\" x2=\"132\" y1=\"476.3398\" y2=\"476.3398\"/><text fill=\"#000000\" font-family=\"sans-serif\" font-size=\"11\" lengthAdjust=\"spacingAndGlyphs\" textLength=\"30\" x=\"132\" y=\"479.6479\">ports</text><line style=\"stroke: #383838; stroke-width: 1.0;\" x1=\"162\" x2=\"179\" y1=\"476.3398\" y2=\"476.3398\"/></a><!--MD5=[2156ba9850f5573cc1fc38a6a4b2f02b]\n",
       "class E7--><a href=\"psysml:de084c60-8c86-4761-a316-7296396fb321\" target=\"_top\" title=\"psysml:de084c60-8c86-4761-a316-7296396fb321\" xlink:actuate=\"onRequest\" xlink:href=\"psysml:de084c60-8c86-4761-a316-7296396fb321\" xlink:show=\"new\" xlink:title=\"psysml:de084c60-8c86-4761-a316-7296396fb321\" xlink:type=\"simple\"><rect fill=\"#FFFFFF\" height=\"45.9375\" id=\"E7\" rx=\"10\" ry=\"10\" style=\"stroke: #383838; stroke-width: 1.5;\" width=\"42\" x=\"44\" y=\"564.5\"/><text fill=\"#000000\" font-family=\"sans-serif\" font-size=\"12\" font-style=\"italic\" lengthAdjust=\"spacingAndGlyphs\" textLength=\"40\" x=\"45\" y=\"580.6387\">«part»</text><text fill=\"#000000\" font-family=\"sans-serif\" font-size=\"12\" lengthAdjust=\"spacingAndGlyphs\" textLength=\"24\" x=\"53\" y=\"594.6074\">a: A</text><line style=\"stroke: #383838; stroke-width: 1.5;\" x1=\"45\" x2=\"85\" y1=\"602.4375\" y2=\"602.4375\"/></a><!--MD5=[96f4274e9e20536e775497830990834d]\n",
       "class E10--><a href=\"psysml:4c8e1ce2-7f9a-4661-9090-c510b6f01354\" target=\"_top\" title=\"psysml:4c8e1ce2-7f9a-4661-9090-c510b6f01354\" xlink:actuate=\"onRequest\" xlink:href=\"psysml:4c8e1ce2-7f9a-4661-9090-c510b6f01354\" xlink:show=\"new\" xlink:title=\"psysml:4c8e1ce2-7f9a-4661-9090-c510b6f01354\" xlink:type=\"simple\"><rect fill=\"#FFFFFF\" height=\"45.9375\" id=\"E10\" style=\"stroke: #383838; stroke-width: 1.5;\" width=\"66\" x=\"146\" y=\"41\"/><text fill=\"#000000\" font-family=\"sans-serif\" font-size=\"12\" font-style=\"italic\" lengthAdjust=\"spacingAndGlyphs\" textLength=\"64\" x=\"147\" y=\"57.1387\">«port def»</text><text fill=\"#000000\" font-family=\"sans-serif\" font-size=\"12\" lengthAdjust=\"spacingAndGlyphs\" textLength=\"8\" x=\"175\" y=\"71.1074\">C</text><line style=\"stroke: #383838; stroke-width: 1.5;\" x1=\"147\" x2=\"211\" y1=\"78.9375\" y2=\"78.9375\"/></a><a href=\"psysml:4c76b494-1a6c-482d-b35c-aa72d24bc41e\" target=\"_top\" title=\"psysml:4c76b494-1a6c-482d-b35c-aa72d24bc41e\" xlink:actuate=\"onRequest\" xlink:href=\"psysml:4c76b494-1a6c-482d-b35c-aa72d24bc41e\" xlink:show=\"new\" xlink:title=\"psysml:4c76b494-1a6c-482d-b35c-aa72d24bc41e\" xlink:type=\"simple\"><polygon fill=\"#FFFFFF\" points=\"132,561,148,561,155,583.2969,162,583.2969,162,613.5938,132,613.5938,132,561\" style=\"stroke: #000000; stroke-width: 1.5;\"/><line style=\"stroke: #000000; stroke-width: 1.5;\" x1=\"132\" x2=\"155\" y1=\"583.2969\" y2=\"583.2969\"/><text fill=\"#000000\" font-family=\"sans-serif\" font-size=\"14\" font-weight=\"bold\" lengthAdjust=\"spacingAndGlyphs\" textLength=\"10\" x=\"136\" y=\"575.9951\">P</text></a><!--MD5=[2720a5a1f2c3fca2055b230370638851]\n",
       "link E2 to E3--><a href=\"psysml:38cdc859-4dfa-4bc4-87cd-169dd5acc896\" target=\"_top\" title=\"psysml:38cdc859-4dfa-4bc4-87cd-169dd5acc896\" xlink:actuate=\"onRequest\" xlink:href=\"psysml:38cdc859-4dfa-4bc4-87cd-169dd5acc896\" xlink:show=\"new\" xlink:title=\"psysml:38cdc859-4dfa-4bc4-87cd-169dd5acc896\" xlink:type=\"simple\"><path d=\"M43.23,87.08 C38.46,100.64 34.45,118.34 38,134 C38.82,137.61 39.86,141.26 41.06,144.89 \" fill=\"none\" id=\"E2-&gt;E3\" style=\"stroke: #383838; stroke-width: 1.0;\"/><polygon fill=\"#FFFFFF\" points=\"48.65,163.8,35.0703,148.7803,48.0607,143.5601,48.65,163.8\" style=\"stroke: #383838; stroke-width: 1.0;\"/><ellipse cx=\"34.8007\" cy=\"142.7456\" fill=\"#383838\" rx=\"2\" ry=\"2\" style=\"stroke: #383838; stroke-width: 1.0;\"/><ellipse cx=\"44.0796\" cy=\"139.0169\" fill=\"#383838\" rx=\"2\" ry=\"2\" style=\"stroke: #383838; stroke-width: 1.0;\"/></a><!--MD5=[4672eba38e49728da53d11aeb285b987]\n",
       "reverse link E3 to E4--><a href=\"psysml:5ebdadf2-6044-45bc-aa24-2da7c79aba16\" target=\"_top\" title=\"psysml:5ebdadf2-6044-45bc-aa24-2da7c79aba16\" xlink:actuate=\"onRequest\" xlink:href=\"psysml:5ebdadf2-6044-45bc-aa24-2da7c79aba16\" xlink:show=\"new\" xlink:title=\"psysml:5ebdadf2-6044-45bc-aa24-2da7c79aba16\" xlink:type=\"simple\"><path d=\"M72.88,253.51 C73.88,264.59 75.22,276.22 77,287 C78.64,296.92 81.21,307.72 83.63,316.9 \" fill=\"none\" id=\"E3&lt;-E4\" style=\"stroke: #383838; stroke-width: 1.0;\"/><polygon fill=\"#383838\" points=\"71.81,240.38,68.3042,246.6816,72.7727,252.3413,76.2785,246.0398,71.81,240.38\" style=\"stroke: #383838; stroke-width: 1.0;\"/></a><!--MD5=[79568f1e445c3877b6a54524624ccc7d]\n",
       "link E4 to E6--><a href=\"psysml:1fd8d685-c326-41aa-b421-a8308f20148e\" target=\"_top\" title=\"psysml:1fd8d685-c326-41aa-b421-a8308f20148e\" xlink:actuate=\"onRequest\" xlink:href=\"psysml:1fd8d685-c326-41aa-b421-a8308f20148e\" xlink:show=\"new\" xlink:title=\"psysml:1fd8d685-c326-41aa-b421-a8308f20148e\" xlink:type=\"simple\"><path d=\"M100.45,363.01 C106.1,374.9 113.36,390.18 120.46,405.12 \" fill=\"none\" id=\"E4-&gt;E6\" style=\"stroke: #383838; stroke-width: 1.0;\"/><polygon fill=\"#FFFFFF\" points=\"129.22,423.57,114.7395,409.4167,127.3831,403.405,129.22,423.57\" style=\"stroke: #383838; stroke-width: 1.0;\"/><ellipse cx=\"114.0981\" cy=\"403.4102\" fill=\"#383838\" rx=\"2\" ry=\"2\" style=\"stroke: #383838; stroke-width: 1.0;\"/><ellipse cx=\"123.1292\" cy=\"399.1161\" fill=\"#383838\" rx=\"2\" ry=\"2\" style=\"stroke: #383838; stroke-width: 1.0;\"/></a><!--MD5=[3f50a3473f1dfb74d3f76443e03635af]\n",
       "reverse link E6 to E7--><a href=\"psysml:c471fe89-f766-40f3-82e0-5e28332f3a67\" target=\"_top\" title=\"psysml:c471fe89-f766-40f3-82e0-5e28332f3a67\" xlink:actuate=\"onRequest\" xlink:href=\"psysml:c471fe89-f766-40f3-82e0-5e28332f3a67\" xlink:show=\"new\" xlink:title=\"psysml:c471fe89-f766-40f3-82e0-5e28332f3a67\" xlink:type=\"simple\"><path d=\"M115.19,510.9 C103,529.26 89.67,549.34 79.81,564.19 \" fill=\"none\" id=\"E6&lt;-E7\" style=\"stroke: #383838; stroke-width: 1.0;\"/><polygon fill=\"#383838\" points=\"122.4,500.05,115.7495,502.8377,115.7649,510.0488,122.4154,507.2611,122.4,500.05\" style=\"stroke: #383838; stroke-width: 1.0;\"/></a><!--MD5=[14ccda38c055a5c0da953d572bc50960]\n",
       "link E7 to E3--><a href=\"psysml:ce24e444-eb42-4eaa-91b0-86c1efe7ffc5\" target=\"_top\" title=\"psysml:ce24e444-eb42-4eaa-91b0-86c1efe7ffc5\" xlink:actuate=\"onRequest\" xlink:href=\"psysml:ce24e444-eb42-4eaa-91b0-86c1efe7ffc5\" xlink:show=\"new\" xlink:title=\"psysml:ce24e444-eb42-4eaa-91b0-86c1efe7ffc5\" xlink:type=\"simple\"><path d=\"M61.85,564.46 C55.72,518.43 43.41,408.75 51,317 C52.55,298.29 55.5,278.02 58.63,259.84 \" fill=\"none\" id=\"E7-&gt;E3\" style=\"stroke: #383838; stroke-width: 1.0;\"/><polygon fill=\"#FFFFFF\" points=\"62.24,240.03,65.7193,259.9773,51.9463,257.4667,62.24,240.03\" style=\"stroke: #383838; stroke-width: 1.0;\"/><ellipse cx=\"62.7296\" cy=\"265.2262\" fill=\"#383838\" rx=\"2\" ry=\"2\" style=\"stroke: #383838; stroke-width: 1.0;\"/><ellipse cx=\"52.8917\" cy=\"263.433\" fill=\"#383838\" rx=\"2\" ry=\"2\" style=\"stroke: #383838; stroke-width: 1.0;\"/></a><!--MD5=[e88d06e5a652d73a6b19930eefe025a8]\n",
       "reverse link E6 to E9--><a href=\"psysml:cabff1fd-5442-4a71-976e-341ac2e5dda1\" target=\"_top\" title=\"psysml:cabff1fd-5442-4a71-976e-341ac2e5dda1\" xlink:actuate=\"onRequest\" xlink:href=\"psysml:cabff1fd-5442-4a71-976e-341ac2e5dda1\" xlink:show=\"new\" xlink:title=\"psysml:cabff1fd-5442-4a71-976e-341ac2e5dda1\" xlink:type=\"simple\"><path d=\"M147,515.35 C147,531.08 147,547.65 147,560.83 \" fill=\"none\" id=\"E6&lt;-E9\" style=\"stroke: #383838; stroke-width: 1.0;\"/><ellipse cx=\"147\" cy=\"508.05\" fill=\"#FFFFFF\" rx=\"8\" ry=\"8\" style=\"stroke: #383838; stroke-width: 1.0;\"/><line style=\"stroke: #383838; stroke-width: 1.0;\" x1=\"147\" x2=\"147\" y1=\"516.05\" y2=\"500.05\"/><line style=\"stroke: #383838; stroke-width: 1.0;\" x1=\"139\" x2=\"155\" y1=\"508.05\" y2=\"508.05\"/></a><!--MD5=[8e04057e7b3cbc0dca4fc78ea351e2da]\n",
       "reverse link E10 to E3--><a href=\"psysml:a19db77c-da80-41d6-a5f2-85a22676bfcf\" target=\"_top\" title=\"psysml:a19db77c-da80-41d6-a5f2-85a22676bfcf\" xlink:actuate=\"onRequest\" xlink:href=\"psysml:a19db77c-da80-41d6-a5f2-85a22676bfcf\" xlink:show=\"new\" xlink:title=\"psysml:a19db77c-da80-41d6-a5f2-85a22676bfcf\" xlink:type=\"simple\"><path d=\"M133.33,76.35 C111.95,84.13 88.32,96.81 75,117 C66.07,130.53 63.94,148.12 64.4,163.71 \" fill=\"none\" id=\"E10&lt;-E3\" style=\"stroke: #383838; stroke-width: 1.0;\"/><polygon fill=\"#FFFFFF\" points=\"145.89,72.22,138.939,70.3009,134.494,75.9791,141.445,77.8982,145.89,72.22\" style=\"stroke: #383838; stroke-width: 1.0;\"/><text fill=\"#000000\" font-family=\"sans-serif\" font-size=\"13\" lengthAdjust=\"spacingAndGlyphs\" textLength=\"7\" x=\"76\" y=\"130.0669\">y</text></a><!--MD5=[8e04057e7b3cbc0dca4fc78ea351e2da]\n",
       "reverse link E10 to E3--><a href=\"psysml:a19db77c-da80-41d6-a5f2-85a22676bfcf\" target=\"_top\" title=\"psysml:a19db77c-da80-41d6-a5f2-85a22676bfcf\" xlink:actuate=\"onRequest\" xlink:href=\"psysml:a19db77c-da80-41d6-a5f2-85a22676bfcf\" xlink:show=\"new\" xlink:title=\"psysml:a19db77c-da80-41d6-a5f2-85a22676bfcf\" xlink:type=\"simple\"><path d=\"M143.35,96.28 C136.62,102.85 129.86,109.93 124,117 C112.05,131.41 100.57,148.61 91.29,163.69 \" fill=\"none\" id=\"E10&lt;-E3-1\" style=\"stroke: #383838; stroke-width: 1.0;\"/><polygon fill=\"#FFFFFF\" points=\"153.08,87.1,145.9702,88.3047,144.3478,95.331,151.4576,94.1262,153.08,87.1\" style=\"stroke: #383838; stroke-width: 1.0;\"/><text fill=\"#000000\" font-family=\"sans-serif\" font-size=\"13\" lengthAdjust=\"spacingAndGlyphs\" textLength=\"7\" x=\"125\" y=\"130.0669\">y</text></a><!--MD5=[8e04057e7b3cbc0dca4fc78ea351e2da]\n",
       "reverse link E10 to E3--><a href=\"psysml:a19db77c-da80-41d6-a5f2-85a22676bfcf\" target=\"_top\" title=\"psysml:a19db77c-da80-41d6-a5f2-85a22676bfcf\" xlink:actuate=\"onRequest\" xlink:href=\"psysml:a19db77c-da80-41d6-a5f2-85a22676bfcf\" xlink:show=\"new\" xlink:title=\"psysml:a19db77c-da80-41d6-a5f2-85a22676bfcf\" xlink:type=\"simple\"><path d=\"M158.49,98.17 C150.89,109.8 141.93,122.76 133,134 C123.86,145.5 113.16,157.39 103.19,167.9 \" fill=\"none\" id=\"E10&lt;-E3-2\" style=\"stroke: #383838; stroke-width: 1.0;\"/><polygon fill=\"#FFFFFF\" points=\"165.6,87.1,158.9946,89.9928,159.1242,97.2027,165.7297,94.3099,165.6,87.1\" style=\"stroke: #383838; stroke-width: 1.0;\"/><text fill=\"#000000\" font-family=\"sans-serif\" font-size=\"13\" lengthAdjust=\"spacingAndGlyphs\" textLength=\"7\" x=\"146\" y=\"130.0669\">y</text></a><!--MD5=[604cbf994c02b74b117f728a71673cea]\n",
       "reverse link E10 to E6--><a href=\"psysml:a19db77c-da80-41d6-a5f2-85a22676bfcf\" target=\"_top\" title=\"psysml:a19db77c-da80-41d6-a5f2-85a22676bfcf\" xlink:actuate=\"onRequest\" xlink:href=\"psysml:a19db77c-da80-41d6-a5f2-85a22676bfcf\" xlink:show=\"new\" xlink:title=\"psysml:a19db77c-da80-41d6-a5f2-85a22676bfcf\" xlink:type=\"simple\"><path d=\"M197.26,99.16 C199.64,104.97 201.69,111.05 203,117 C204.62,124.38 203.15,126.45 203,134 C200.78,249.62 229.38,284.23 193,394 C189.58,404.31 184.06,414.48 178.01,423.66 \" fill=\"none\" id=\"E10&lt;-E6\" style=\"stroke: #383838; stroke-width: 1.0;\"/><polygon fill=\"#FFFFFF\" points=\"191.73,87.03,190.583,94.1493,196.7135,97.9463,197.8605,90.827,191.73,87.03\" style=\"stroke: #383838; stroke-width: 1.0;\"/><text fill=\"#000000\" font-family=\"sans-serif\" font-size=\"13\" lengthAdjust=\"spacingAndGlyphs\" textLength=\"7\" x=\"212\" y=\"283.0669\">y</text></a><!--MD5=[604cbf994c02b74b117f728a71673cea]\n",
       "reverse link E10 to E6--><a href=\"psysml:a19db77c-da80-41d6-a5f2-85a22676bfcf\" target=\"_top\" title=\"psysml:a19db77c-da80-41d6-a5f2-85a22676bfcf\" xlink:actuate=\"onRequest\" xlink:href=\"psysml:a19db77c-da80-41d6-a5f2-85a22676bfcf\" xlink:show=\"new\" xlink:title=\"psysml:a19db77c-da80-41d6-a5f2-85a22676bfcf\" xlink:type=\"simple\"><path d=\"M171.02,99.85 C168.34,110.83 165.22,122.97 162,134 C144.13,195.25 126.36,207.04 116,270 C114.77,277.46 114.57,279.58 116,287 C118.72,301.1 124.37,303.11 128,317 C137.32,352.62 142.19,394.45 144.65,423.82 \" fill=\"none\" id=\"E10&lt;-E6-1\" style=\"stroke: #383838; stroke-width: 1.0;\"/><polygon fill=\"#FFFFFF\" points=\"174.04,87.19,168.7576,92.0987,171.257,98.8628,176.5394,93.9541,174.04,87.19\" style=\"stroke: #383838; stroke-width: 1.0;\"/><text fill=\"#000000\" font-family=\"sans-serif\" font-size=\"13\" lengthAdjust=\"spacingAndGlyphs\" textLength=\"7\" x=\"117\" y=\"283.0669\">y</text></a><!--MD5=[604cbf994c02b74b117f728a71673cea]\n",
       "reverse link E10 to E6--><a href=\"psysml:a19db77c-da80-41d6-a5f2-85a22676bfcf\" target=\"_top\" title=\"psysml:a19db77c-da80-41d6-a5f2-85a22676bfcf\" xlink:actuate=\"onRequest\" xlink:href=\"psysml:a19db77c-da80-41d6-a5f2-85a22676bfcf\" xlink:show=\"new\" xlink:title=\"psysml:a19db77c-da80-41d6-a5f2-85a22676bfcf\" xlink:type=\"simple\"><path d=\"M176.15,100.27 C170.13,174.82 156.15,347.78 150,423.9 \" fill=\"none\" id=\"E10&lt;-E6-2\" style=\"stroke: #383838; stroke-width: 1.0;\"/><polygon fill=\"#FFFFFF\" points=\"177.21,87.14,172.7415,92.7998,176.2473,99.1013,180.7158,93.4416,177.21,87.14\" style=\"stroke: #383838; stroke-width: 1.0;\"/><text fill=\"#000000\" font-family=\"sans-serif\" font-size=\"13\" lengthAdjust=\"spacingAndGlyphs\" textLength=\"7\" x=\"163\" y=\"283.0669\">y</text></a><!--MD5=[e63ea34fae9e0ced956b05f9be7cd366]\n",
       "@startuml\r\n",
       "skinparam monochrome true\r\n",
       "skinparam classbackgroundcolor white\r\n",
       "skinparam shadowing false\r\n",
       "skinparam wrapWidth 300\r\n",
       "hide circle\r\n",
       "\r\n",
       "package \"PartTest\" as E1  [[psysml:c65cc0cd-28b1-4d7a-bc05-02136890ed9a ]]  {\r\n",
       "comp usage \"f: A\" as E2  <<(T,blue)part>> [[psysml:634826b2-2fc2-4798-92ed-071cd1dffdd8 ]] {\r\n",
       "}\r\n",
       "comp def \"A\" as E3  <<(T,blue)part def>> [[psysml:36aba5eb-a810-4976-a211-fcdfb7b330f5 ]] {\r\n",
       "- - ports - -\r\n",
       "c: C\r\n",
       "}\r\n",
       "comp usage \"b: B\" as E4  <<(T,blue)part>> [[psysml:b5150c44-d935-4f31-a69b-527c90fd7c47 ]] {\r\n",
       "}\r\n",
       "comp def \"B\" as E6  <<(T,blue)part def>> [[psysml:94fb1c4b-8096-4b0e-a0c8-00d5fe55de6c ]] {\r\n",
       "- - ports - -\r\n",
       "x: ~C\r\n",
       "}\r\n",
       "comp usage \"a: A\" as E7  <<(T,blue)part>> [[psysml:de084c60-8c86-4761-a316-7296396fb321 ]] {\r\n",
       "}\r\n",
       "package \"P\" as E9  [[psysml:4c76b494-1a6c-482d-b35c-aa72d24bc41e ]]  {\r\n",
       "}\r\n",
       "comp def \"C\" as E10  <<(T,blue)port def>> [[psysml:4c8e1ce2-7f9a-4661-9090-c510b6f01354 ]] {\r\n",
       "}\r\n",
       "E2 - -:|> E3 [[psysml:38cdc859-4dfa-4bc4-87cd-169dd5acc896 ]] \r\n",
       "E3 *- - E4 [[psysml:5ebdadf2-6044-45bc-aa24-2da7c79aba16 ]] \r\n",
       "E4 - -:|> E6 [[psysml:1fd8d685-c326-41aa-b421-a8308f20148e ]] \r\n",
       "E6 *- - E7 [[psysml:c471fe89-f766-40f3-82e0-5e28332f3a67 ]] \r\n",
       "E7 - -:|> E3 [[psysml:ce24e444-eb42-4eaa-91b0-86c1efe7ffc5 ]] \r\n",
       "E6 +- - E9 [[psysml:cabff1fd-5442-4a71-976e-341ac2e5dda1 ]] \r\n",
       "E10 o- - E3 [[psysml:a19db77c-da80-41d6-a5f2-85a22676bfcf ]] : y\r\n",
       "E10 o- - E6 [[psysml:a19db77c-da80-41d6-a5f2-85a22676bfcf ]] : y\r\n",
       "E10 o- - E3 [[psysml:a19db77c-da80-41d6-a5f2-85a22676bfcf ]] : y\r\n",
       "E10 o- - E6 [[psysml:a19db77c-da80-41d6-a5f2-85a22676bfcf ]] : y\r\n",
       "E10 o- - E3 [[psysml:a19db77c-da80-41d6-a5f2-85a22676bfcf ]] : y\r\n",
       "E10 o- - E6 [[psysml:a19db77c-da80-41d6-a5f2-85a22676bfcf ]] : y\r\n",
       "}\r\n",
       "@enduml\r\n",
       "\n",
       "PlantUML version 1.2020.13(Sat Jun 13 12:26:38 UTC 2020)\n",
       "(EPL source distribution)\n",
       "Java Runtime: OpenJDK Runtime Environment\n",
       "JVM: OpenJDK 64-Bit Server VM\n",
       "Default Encoding: UTF-8\n",
       "Language: en\n",
       "Country: null\n",
       "--></g></svg>"
      ]
     },
     "execution_count": 38,
     "metadata": {},
     "output_type": "execute_result"
    }
   ],
   "source": [
    "%viz --style=\"DEFAULT\" --view=\"Tree\" \"PartTest\""
   ]
  },
  {
   "cell_type": "code",
   "execution_count": 39,
   "id": "3ca82057",
   "metadata": {
    "execution": {
     "iopub.execute_input": "2021-04-20T07:29:15.069733Z",
     "iopub.status.busy": "2021-04-20T07:29:15.069132Z",
     "iopub.status.idle": "2021-04-20T07:29:15.081137Z",
     "shell.execute_reply": "2021-04-20T07:29:15.079614Z"
    }
   },
   "outputs": [
    {
     "data": {
      "image/svg+xml": [
       "<?xml version=\"1.0\" encoding=\"UTF-8\" standalone=\"no\"?><svg xmlns=\"http://www.w3.org/2000/svg\" xmlns:xlink=\"http://www.w3.org/1999/xlink\" contentScriptType=\"application/ecmascript\" contentStyleType=\"text/css\" height=\"12px\" preserveAspectRatio=\"none\" style=\"width:12px;height:12px;\" version=\"1.1\" viewBox=\"0 0 12 12\" width=\"12px\" zoomAndPan=\"magnify\"><defs/><g><!--MD5=[c5f280e076d0d61ccf4b0f27871bda1d]\n",
       "@startuml\r\n",
       "skinparam monochrome true\r\n",
       "skinparam classbackgroundcolor white\r\n",
       "skinparam shadowing false\r\n",
       "skinparam wrapWidth 300\r\n",
       "hide circle\r\n",
       "\r\n",
       "@enduml\r\n",
       "\n",
       "PlantUML version 1.2020.13(Sat Jun 13 12:26:38 UTC 2020)\n",
       "(EPL source distribution)\n",
       "Java Runtime: OpenJDK Runtime Environment\n",
       "JVM: OpenJDK 64-Bit Server VM\n",
       "Default Encoding: UTF-8\n",
       "Language: en\n",
       "Country: null\n",
       "--></g></svg>"
      ]
     },
     "execution_count": 39,
     "metadata": {},
     "output_type": "execute_result"
    }
   ],
   "source": [
    "%viz --style=\"DEFAULT\" --view=\"State\" \"PartTest\""
   ]
  },
  {
   "cell_type": "code",
   "execution_count": 40,
   "id": "85be9d9d",
   "metadata": {
    "execution": {
     "iopub.execute_input": "2021-04-20T07:29:15.129558Z",
     "iopub.status.busy": "2021-04-20T07:29:15.129029Z",
     "iopub.status.idle": "2021-04-20T07:29:15.172303Z",
     "shell.execute_reply": "2021-04-20T07:29:15.170643Z"
    }
   },
   "outputs": [
    {
     "data": {
      "image/svg+xml": [
       "<?xml version=\"1.0\" encoding=\"UTF-8\" standalone=\"no\"?><svg xmlns=\"http://www.w3.org/2000/svg\" xmlns:xlink=\"http://www.w3.org/1999/xlink\" contentScriptType=\"application/ecmascript\" contentStyleType=\"text/css\" height=\"247px\" preserveAspectRatio=\"none\" style=\"width:568px;height:247px;\" version=\"1.1\" viewBox=\"0 0 568 247\" width=\"568px\" zoomAndPan=\"magnify\"><defs/><g><!--MD5=[fbc87193dbaf4d95561dea2c320d4a47]\n",
       "cluster E1--><a href=\"psysml:c65cc0cd-28b1-4d7a-bc05-02136890ed9a\" target=\"_top\" title=\"psysml:c65cc0cd-28b1-4d7a-bc05-02136890ed9a\" xlink:actuate=\"onRequest\" xlink:href=\"psysml:c65cc0cd-28b1-4d7a-bc05-02136890ed9a\" xlink:show=\"new\" xlink:title=\"psysml:c65cc0cd-28b1-4d7a-bc05-02136890ed9a\" xlink:type=\"simple\"><polygon fill=\"#FFFFFF\" points=\"16,6,89,6,96,28.2969,546,28.2969,546,235,16,235,16,6\" style=\"stroke: #000000; stroke-width: 1.5;\"/><line style=\"stroke: #000000; stroke-width: 1.5;\" x1=\"16\" x2=\"96\" y1=\"28.2969\" y2=\"28.2969\"/><text fill=\"#000000\" font-family=\"sans-serif\" font-size=\"14\" font-weight=\"bold\" lengthAdjust=\"spacingAndGlyphs\" textLength=\"67\" x=\"20\" y=\"20.9951\">PartTest</text></a><!--MD5=[d5e69f78d87373223dbae638b30a9c99]\n",
       "cluster E3--><a href=\"psysml:36aba5eb-a810-4976-a211-fcdfb7b330f5\" target=\"_top\" title=\"psysml:36aba5eb-a810-4976-a211-fcdfb7b330f5\" xlink:actuate=\"onRequest\" xlink:href=\"psysml:36aba5eb-a810-4976-a211-fcdfb7b330f5\" xlink:show=\"new\" xlink:title=\"psysml:36aba5eb-a810-4976-a211-fcdfb7b330f5\" xlink:type=\"simple\"><rect fill=\"#FFFFFF\" height=\"150\" id=\"E3\" style=\"stroke: #383838; stroke-width: 1.5;\" width=\"120\" x=\"410\" y=\"62.5\"/><rect fill=\"#F8F8F8\" height=\"37.9375\" style=\"stroke: #383838; stroke-width: 1.5;\" width=\"120\" x=\"410\" y=\"62.5\"/><text fill=\"#000000\" font-family=\"sans-serif\" font-size=\"12\" font-style=\"italic\" lengthAdjust=\"spacingAndGlyphs\" textLength=\"64\" x=\"438\" y=\"78.6387\">«part def»</text><text fill=\"#000000\" font-family=\"sans-serif\" font-size=\"12\" lengthAdjust=\"spacingAndGlyphs\" textLength=\"8\" x=\"466\" y=\"92.6074\">A</text></a><!--MD5=[14e3b0961a2654348d326746436168a1]\n",
       "cluster E6--><a href=\"psysml:94fb1c4b-8096-4b0e-a0c8-00d5fe55de6c\" target=\"_top\" title=\"psysml:94fb1c4b-8096-4b0e-a0c8-00d5fe55de6c\" xlink:actuate=\"onRequest\" xlink:href=\"psysml:94fb1c4b-8096-4b0e-a0c8-00d5fe55de6c\" xlink:show=\"new\" xlink:title=\"psysml:94fb1c4b-8096-4b0e-a0c8-00d5fe55de6c\" xlink:type=\"simple\"><rect fill=\"#FFFFFF\" height=\"156.5\" id=\"E6\" style=\"stroke: #383838; stroke-width: 1.5;\" width=\"205\" x=\"197\" y=\"62.5\"/><rect fill=\"#F8F8F8\" height=\"37.9375\" style=\"stroke: #383838; stroke-width: 1.5;\" width=\"205\" x=\"197\" y=\"62.5\"/><text fill=\"#000000\" font-family=\"sans-serif\" font-size=\"12\" font-style=\"italic\" lengthAdjust=\"spacingAndGlyphs\" textLength=\"64\" x=\"267.5\" y=\"78.6387\">«part def»</text><text fill=\"#000000\" font-family=\"sans-serif\" font-size=\"12\" lengthAdjust=\"spacingAndGlyphs\" textLength=\"8\" x=\"295.5\" y=\"92.6074\">B</text></a><g id=\"E1.E10\"><a href=\"psysml:4c8e1ce2-7f9a-4661-9090-c510b6f01354\" target=\"_top\" title=\"psysml:4c8e1ce2-7f9a-4661-9090-c510b6f01354\" xlink:actuate=\"onRequest\" xlink:href=\"psysml:4c8e1ce2-7f9a-4661-9090-c510b6f01354\" xlink:show=\"new\" xlink:title=\"psysml:4c8e1ce2-7f9a-4661-9090-c510b6f01354\" xlink:type=\"simple\"><rect fill=\"#FFFFFF\" height=\"42.9375\" id=\"E10\" style=\"stroke: #383838; stroke-width: 1.5;\" width=\"71\" x=\"117.5\" y=\"41\"/><rect fill=\"#F8F8F8\" height=\"37.9375\" style=\"stroke: #383838; stroke-width: 1.5;\" width=\"71\" x=\"117.5\" y=\"41\"/><text fill=\"#000000\" font-family=\"sans-serif\" font-size=\"12\" font-style=\"italic\" lengthAdjust=\"spacingAndGlyphs\" textLength=\"64\" x=\"121\" y=\"57.1387\">«port def»</text><text fill=\"#000000\" font-family=\"sans-serif\" font-size=\"12\" lengthAdjust=\"spacingAndGlyphs\" textLength=\"8\" x=\"149\" y=\"71.1074\">C</text></a></g><g id=\"E1.E2\"><a href=\"psysml:634826b2-2fc2-4798-92ed-071cd1dffdd8\" target=\"_top\" title=\"psysml:634826b2-2fc2-4798-92ed-071cd1dffdd8\" xlink:actuate=\"onRequest\" xlink:href=\"psysml:634826b2-2fc2-4798-92ed-071cd1dffdd8\" xlink:show=\"new\" xlink:title=\"psysml:634826b2-2fc2-4798-92ed-071cd1dffdd8\" xlink:type=\"simple\"><rect fill=\"#FFFFFF\" height=\"40\" id=\"E2\" rx=\"10\" ry=\"10\" style=\"stroke: #383838; stroke-width: 1.5;\" width=\"50\" x=\"32\" y=\"42.5\"/><rect fill=\"#F8F8F8\" height=\"23.9688\" rx=\"10\" ry=\"10\" style=\"stroke: #F8F8F8; stroke-width: 1.5;\" width=\"50\" x=\"32\" y=\"42.5\"/><rect fill=\"#F8F8F8\" height=\"10\" style=\"stroke: #F8F8F8; stroke-width: 1.5;\" width=\"50\" x=\"32\" y=\"56.4688\"/><rect fill=\"none\" height=\"40\" id=\"E2\" rx=\"10\" ry=\"10\" style=\"stroke: #383838; stroke-width: 1.5;\" width=\"50\" x=\"32\" y=\"42.5\"/><text fill=\"#000000\" font-family=\"sans-serif\" font-size=\"12\" lengthAdjust=\"spacingAndGlyphs\" textLength=\"20\" x=\"47\" y=\"58.6387\">f: A</text></a></g><text fill=\"#000000\" font-family=\"sans-serif\" font-size=\"14\" lengthAdjust=\"spacingAndGlyphs\" textLength=\"27\" x=\"456.5\" y=\"41.1982\">c: C</text><rect fill=\"#383838\" height=\"12\" style=\"stroke: #F8F8F8; stroke-width: 1.5;\" width=\"12\" x=\"464\" y=\"56.5\"/><g id=\"E1.E3.E4\"><a href=\"psysml:b5150c44-d935-4f31-a69b-527c90fd7c47\" target=\"_top\" title=\"psysml:b5150c44-d935-4f31-a69b-527c90fd7c47\" xlink:actuate=\"onRequest\" xlink:href=\"psysml:b5150c44-d935-4f31-a69b-527c90fd7c47\" xlink:show=\"new\" xlink:title=\"psysml:b5150c44-d935-4f31-a69b-527c90fd7c47\" xlink:type=\"simple\"><rect fill=\"#FFFFFF\" height=\"40\" id=\"E4\" rx=\"10\" ry=\"10\" style=\"stroke: #383838; stroke-width: 1.5;\" width=\"50\" x=\"445\" y=\"156.5\"/><rect fill=\"#F8F8F8\" height=\"23.9688\" rx=\"10\" ry=\"10\" style=\"stroke: #F8F8F8; stroke-width: 1.5;\" width=\"50\" x=\"445\" y=\"156.5\"/><rect fill=\"#F8F8F8\" height=\"10\" style=\"stroke: #F8F8F8; stroke-width: 1.5;\" width=\"50\" x=\"445\" y=\"170.4688\"/><rect fill=\"none\" height=\"40\" id=\"E4\" rx=\"10\" ry=\"10\" style=\"stroke: #383838; stroke-width: 1.5;\" width=\"50\" x=\"445\" y=\"156.5\"/><text fill=\"#000000\" font-family=\"sans-serif\" font-size=\"12\" lengthAdjust=\"spacingAndGlyphs\" textLength=\"24\" x=\"458\" y=\"172.6387\">b: B</text></a></g><text fill=\"#000000\" font-family=\"sans-serif\" font-size=\"14\" lengthAdjust=\"spacingAndGlyphs\" textLength=\"38\" x=\"323\" y=\"41.1982\">x: ~C</text><rect fill=\"#383838\" height=\"12\" style=\"stroke: #F8F8F8; stroke-width: 1.5;\" width=\"12\" x=\"336\" y=\"56.5\"/><g id=\"E1.E6.E7\"><a href=\"psysml:de084c60-8c86-4761-a316-7296396fb321\" target=\"_top\" title=\"psysml:de084c60-8c86-4761-a316-7296396fb321\" xlink:actuate=\"onRequest\" xlink:href=\"psysml:de084c60-8c86-4761-a316-7296396fb321\" xlink:show=\"new\" xlink:title=\"psysml:de084c60-8c86-4761-a316-7296396fb321\" xlink:type=\"simple\"><rect fill=\"#FFFFFF\" height=\"40\" id=\"E7\" rx=\"10\" ry=\"10\" style=\"stroke: #383838; stroke-width: 1.5;\" width=\"50\" x=\"213\" y=\"100\"/><rect fill=\"#F8F8F8\" height=\"23.9688\" rx=\"10\" ry=\"10\" style=\"stroke: #F8F8F8; stroke-width: 1.5;\" width=\"50\" x=\"213\" y=\"100\"/><rect fill=\"#F8F8F8\" height=\"10\" style=\"stroke: #F8F8F8; stroke-width: 1.5;\" width=\"50\" x=\"213\" y=\"113.9688\"/><rect fill=\"none\" height=\"40\" id=\"E7\" rx=\"10\" ry=\"10\" style=\"stroke: #383838; stroke-width: 1.5;\" width=\"50\" x=\"213\" y=\"100\"/><text fill=\"#000000\" font-family=\"sans-serif\" font-size=\"12\" lengthAdjust=\"spacingAndGlyphs\" textLength=\"24\" x=\"226\" y=\"116.1387\">a: A</text></a></g><a href=\"psysml:4c76b494-1a6c-482d-b35c-aa72d24bc41e\" target=\"_top\" title=\"psysml:4c76b494-1a6c-482d-b35c-aa72d24bc41e\" xlink:actuate=\"onRequest\" xlink:href=\"psysml:4c76b494-1a6c-482d-b35c-aa72d24bc41e\" xlink:show=\"new\" xlink:title=\"psysml:4c76b494-1a6c-482d-b35c-aa72d24bc41e\" xlink:type=\"simple\"><polygon fill=\"#FFFFFF\" points=\"327,150,343,150,350,172.2969,357,172.2969,357,202.5938,327,202.5938,327,150\" style=\"stroke: #000000; stroke-width: 1.5;\"/><line style=\"stroke: #000000; stroke-width: 1.5;\" x1=\"327\" x2=\"350\" y1=\"172.2969\" y2=\"172.2969\"/><text fill=\"#000000\" font-family=\"sans-serif\" font-size=\"14\" font-weight=\"bold\" lengthAdjust=\"spacingAndGlyphs\" textLength=\"10\" x=\"331\" y=\"164.9951\">P</text></a><!--MD5=[1530f4a95bc757f1ff4238c058e42be3]\n",
       "@startuml\r\n",
       "skinparam ranksep 10\r\n",
       "skinparam rectangle {\r\n",
       " backgroundColor<<block>> LightGreen\r\n",
       "}\r\n",
       "skinparam monochrome true\r\n",
       "skinparam classbackgroundcolor white\r\n",
       "skinparam shadowing false\r\n",
       "skinparam wrapWidth 300\r\n",
       "hide circle\r\n",
       "\r\n",
       "package \"PartTest\" as E1  [[psysml:c65cc0cd-28b1-4d7a-bc05-02136890ed9a ]]  {\r\n",
       "rec usage \"f: A\" as E2  [[psysml:634826b2-2fc2-4798-92ed-071cd1dffdd8 ]] {\r\n",
       "}\r\n",
       "rec def \"A\" as E3  <<(T,blue)part def>> [[psysml:36aba5eb-a810-4976-a211-fcdfb7b330f5 ]] {\r\n",
       "rec usage \"b: B\" as E4  [[psysml:b5150c44-d935-4f31-a69b-527c90fd7c47 ]] {\r\n",
       "}\r\n",
       "portin \"c: C\" as E5  <<(T,blue)port>> [[psysml:15f0fdfb-f77b-4913-8565-6992b28565d6 ]] \r\n",
       "}\r\n",
       "rec def \"B\" as E6  <<(T,blue)part def>> [[psysml:94fb1c4b-8096-4b0e-a0c8-00d5fe55de6c ]] {\r\n",
       "rec usage \"a: A\" as E7  [[psysml:de084c60-8c86-4761-a316-7296396fb321 ]] {\r\n",
       "}\r\n",
       "portin \"x: ~C\" as E8  <<(T,blue)port>> [[psysml:6cb219e8-2ff6-47bb-94c6-2fc71ea9a3d9 ]] \r\n",
       "package \"P\" as E9  [[psysml:4c76b494-1a6c-482d-b35c-aa72d24bc41e ]]  {\r\n",
       "}\r\n",
       "}\r\n",
       "def \"C\" as E10  <<(T,blue)port def>> [[psysml:4c8e1ce2-7f9a-4661-9090-c510b6f01354 ]] \r\n",
       "}\r\n",
       "@enduml\r\n",
       "\n",
       "PlantUML version 1.2020.13(Sat Jun 13 12:26:38 UTC 2020)\n",
       "(EPL source distribution)\n",
       "Java Runtime: OpenJDK Runtime Environment\n",
       "JVM: OpenJDK 64-Bit Server VM\n",
       "Default Encoding: UTF-8\n",
       "Language: en\n",
       "Country: null\n",
       "--></g></svg>"
      ]
     },
     "execution_count": 40,
     "metadata": {},
     "output_type": "execute_result"
    }
   ],
   "source": [
    "%viz --style=\"DEFAULT\" --view=\"Interconnection\" \"PartTest\""
   ]
  },
  {
   "cell_type": "code",
   "execution_count": 41,
   "id": "ab15b96c",
   "metadata": {
    "execution": {
     "iopub.execute_input": "2021-04-20T07:29:15.230617Z",
     "iopub.status.busy": "2021-04-20T07:29:15.223440Z",
     "iopub.status.idle": "2021-04-20T07:29:15.233289Z",
     "shell.execute_reply": "2021-04-20T07:29:15.232787Z"
    }
   },
   "outputs": [
    {
     "data": {
      "image/svg+xml": [
       "<?xml version=\"1.0\" encoding=\"UTF-8\" standalone=\"no\"?><svg xmlns=\"http://www.w3.org/2000/svg\" xmlns:xlink=\"http://www.w3.org/1999/xlink\" contentScriptType=\"application/ecmascript\" contentStyleType=\"text/css\" height=\"12px\" preserveAspectRatio=\"none\" style=\"width:12px;height:12px;\" version=\"1.1\" viewBox=\"0 0 12 12\" width=\"12px\" zoomAndPan=\"magnify\"><defs/><g><!--MD5=[388f21188e31bfdd97050473b19af356]\n",
       "@startuml\r\n",
       "skinparam ranksep 8\r\n",
       "skinparam monochrome true\r\n",
       "skinparam classbackgroundcolor white\r\n",
       "skinparam shadowing false\r\n",
       "skinparam wrapWidth 300\r\n",
       "hide circle\r\n",
       "\r\n",
       "@enduml\r\n",
       "\n",
       "PlantUML version 1.2020.13(Sat Jun 13 12:26:38 UTC 2020)\n",
       "(EPL source distribution)\n",
       "Java Runtime: OpenJDK Runtime Environment\n",
       "JVM: OpenJDK 64-Bit Server VM\n",
       "Default Encoding: UTF-8\n",
       "Language: en\n",
       "Country: null\n",
       "--></g></svg>"
      ]
     },
     "execution_count": 41,
     "metadata": {},
     "output_type": "execute_result"
    }
   ],
   "source": [
    "%viz --style=\"DEFAULT\" --view=\"Action\" \"PartTest\""
   ]
  },
  {
   "cell_type": "code",
   "execution_count": 42,
   "id": "1a89ebad",
   "metadata": {
    "execution": {
     "iopub.execute_input": "2021-04-20T07:29:15.285793Z",
     "iopub.status.busy": "2021-04-20T07:29:15.285180Z",
     "iopub.status.idle": "2021-04-20T07:29:15.400899Z",
     "shell.execute_reply": "2021-04-20T07:29:15.400099Z"
    }
   },
   "outputs": [
    {
     "data": {
      "image/svg+xml": [
       "<?xml version=\"1.0\" encoding=\"UTF-8\" standalone=\"no\"?><svg xmlns=\"http://www.w3.org/2000/svg\" xmlns:xlink=\"http://www.w3.org/1999/xlink\" contentScriptType=\"application/ecmascript\" contentStyleType=\"text/css\" height=\"642px\" preserveAspectRatio=\"none\" style=\"width:260px;height:642px;\" version=\"1.1\" viewBox=\"0 0 260 642\" width=\"260px\" zoomAndPan=\"magnify\"><defs/><g><!--MD5=[fbc87193dbaf4d95561dea2c320d4a47]\n",
       "cluster E1--><a href=\"psysml:c65cc0cd-28b1-4d7a-bc05-02136890ed9a\" target=\"_top\" title=\"psysml:c65cc0cd-28b1-4d7a-bc05-02136890ed9a\" xlink:actuate=\"onRequest\" xlink:href=\"psysml:c65cc0cd-28b1-4d7a-bc05-02136890ed9a\" xlink:show=\"new\" xlink:title=\"psysml:c65cc0cd-28b1-4d7a-bc05-02136890ed9a\" xlink:type=\"simple\"><polygon fill=\"#FFFFFF\" points=\"16,6,89,6,96,28.2969,238,28.2969,238,630,16,630,16,6\" style=\"stroke: #000000; stroke-width: 1.5;\"/><line style=\"stroke: #000000; stroke-width: 1.5;\" x1=\"16\" x2=\"96\" y1=\"28.2969\" y2=\"28.2969\"/><text fill=\"#000000\" font-family=\"sans-serif\" font-size=\"14\" font-weight=\"bold\" lengthAdjust=\"spacingAndGlyphs\" textLength=\"67\" x=\"20\" y=\"20.9951\">PartTest</text></a><!--MD5=[b4997ac47864f28c2f74865a473b2911]\n",
       "class E2--><a href=\"psysml:634826b2-2fc2-4798-92ed-071cd1dffdd8\" target=\"_top\" title=\"psysml:634826b2-2fc2-4798-92ed-071cd1dffdd8\" xlink:actuate=\"onRequest\" xlink:href=\"psysml:634826b2-2fc2-4798-92ed-071cd1dffdd8\" xlink:show=\"new\" xlink:title=\"psysml:634826b2-2fc2-4798-92ed-071cd1dffdd8\" xlink:type=\"simple\"><rect fill=\"#FFFFFF\" height=\"45.9375\" id=\"E2\" rx=\"10\" ry=\"10\" style=\"stroke: #383838; stroke-width: 1.5;\" width=\"42\" x=\"32\" y=\"41\"/><text fill=\"#000000\" font-family=\"sans-serif\" font-size=\"12\" font-style=\"italic\" lengthAdjust=\"spacingAndGlyphs\" textLength=\"40\" x=\"33\" y=\"57.1387\">«part»</text><text fill=\"#000000\" font-family=\"sans-serif\" font-size=\"12\" lengthAdjust=\"spacingAndGlyphs\" textLength=\"20\" x=\"43\" y=\"71.1074\">f: A</text><line style=\"stroke: #383838; stroke-width: 1.5;\" x1=\"33\" x2=\"73\" y1=\"78.9375\" y2=\"78.9375\"/></a><!--MD5=[09b614a08d8cba4a07c9adeb5e0fee81]\n",
       "class E3--><a href=\"psysml:36aba5eb-a810-4976-a211-fcdfb7b330f5\" target=\"_top\" title=\"psysml:36aba5eb-a810-4976-a211-fcdfb7b330f5\" xlink:actuate=\"onRequest\" xlink:href=\"psysml:36aba5eb-a810-4976-a211-fcdfb7b330f5\" xlink:show=\"new\" xlink:title=\"psysml:36aba5eb-a810-4976-a211-fcdfb7b330f5\" xlink:type=\"simple\"><rect fill=\"#FFFFFF\" height=\"75.5469\" id=\"E3\" style=\"stroke: #383838; stroke-width: 1.5;\" width=\"66\" x=\"37\" y=\"164\"/><text fill=\"#000000\" font-family=\"sans-serif\" font-size=\"12\" font-style=\"italic\" lengthAdjust=\"spacingAndGlyphs\" textLength=\"64\" x=\"38\" y=\"180.1387\">«part def»</text><text fill=\"#000000\" font-family=\"sans-serif\" font-size=\"12\" lengthAdjust=\"spacingAndGlyphs\" textLength=\"8\" x=\"66\" y=\"194.1074\">A</text><line style=\"stroke: #383838; stroke-width: 1.5;\" x1=\"38\" x2=\"102\" y1=\"201.9375\" y2=\"201.9375\"/><text fill=\"#000000\" font-family=\"sans-serif\" font-size=\"11\" lengthAdjust=\"spacingAndGlyphs\" textLength=\"22\" x=\"43\" y=\"232.9526\">c: C</text><line style=\"stroke: #383838; stroke-width: 1.0;\" x1=\"38\" x2=\"55\" y1=\"216.3398\" y2=\"216.3398\"/><text fill=\"#000000\" font-family=\"sans-serif\" font-size=\"11\" lengthAdjust=\"spacingAndGlyphs\" textLength=\"30\" x=\"55\" y=\"219.6479\">ports</text><line style=\"stroke: #383838; stroke-width: 1.0;\" x1=\"85\" x2=\"102\" y1=\"216.3398\" y2=\"216.3398\"/></a><!--MD5=[ebbe1d658d1005bcc118a6aa81145e00]\n",
       "class E4--><a href=\"psysml:b5150c44-d935-4f31-a69b-527c90fd7c47\" target=\"_top\" title=\"psysml:b5150c44-d935-4f31-a69b-527c90fd7c47\" xlink:actuate=\"onRequest\" xlink:href=\"psysml:b5150c44-d935-4f31-a69b-527c90fd7c47\" xlink:show=\"new\" xlink:title=\"psysml:b5150c44-d935-4f31-a69b-527c90fd7c47\" xlink:type=\"simple\"><rect fill=\"#FFFFFF\" height=\"45.9375\" id=\"E4\" rx=\"10\" ry=\"10\" style=\"stroke: #383838; stroke-width: 1.5;\" width=\"42\" x=\"69\" y=\"317\"/><text fill=\"#000000\" font-family=\"sans-serif\" font-size=\"12\" font-style=\"italic\" lengthAdjust=\"spacingAndGlyphs\" textLength=\"40\" x=\"70\" y=\"333.1387\">«part»</text><text fill=\"#000000\" font-family=\"sans-serif\" font-size=\"12\" lengthAdjust=\"spacingAndGlyphs\" textLength=\"24\" x=\"78\" y=\"347.1074\">b: B</text><line style=\"stroke: #383838; stroke-width: 1.5;\" x1=\"70\" x2=\"110\" y1=\"354.9375\" y2=\"354.9375\"/></a><!--MD5=[60a26617385b1d2d0262a64233df1f8d]\n",
       "class E6--><a href=\"psysml:94fb1c4b-8096-4b0e-a0c8-00d5fe55de6c\" target=\"_top\" title=\"psysml:94fb1c4b-8096-4b0e-a0c8-00d5fe55de6c\" xlink:actuate=\"onRequest\" xlink:href=\"psysml:94fb1c4b-8096-4b0e-a0c8-00d5fe55de6c\" xlink:show=\"new\" xlink:title=\"psysml:94fb1c4b-8096-4b0e-a0c8-00d5fe55de6c\" xlink:type=\"simple\"><rect fill=\"#FFFFFF\" height=\"75.5469\" id=\"E6\" style=\"stroke: #383838; stroke-width: 1.5;\" width=\"66\" x=\"114\" y=\"424\"/><text fill=\"#000000\" font-family=\"sans-serif\" font-size=\"12\" font-style=\"italic\" lengthAdjust=\"spacingAndGlyphs\" textLength=\"64\" x=\"115\" y=\"440.1387\">«part def»</text><text fill=\"#000000\" font-family=\"sans-serif\" font-size=\"12\" lengthAdjust=\"spacingAndGlyphs\" textLength=\"8\" x=\"143\" y=\"454.1074\">B</text><line style=\"stroke: #383838; stroke-width: 1.5;\" x1=\"115\" x2=\"179\" y1=\"461.9375\" y2=\"461.9375\"/><text fill=\"#000000\" font-family=\"sans-serif\" font-size=\"11\" lengthAdjust=\"spacingAndGlyphs\" textLength=\"31\" x=\"120\" y=\"492.9526\">x: ~C</text><line style=\"stroke: #383838; stroke-width: 1.0;\" x1=\"115\" x2=\"132\" y1=\"476.3398\" y2=\"476.3398\"/><text fill=\"#000000\" font-family=\"sans-serif\" font-size=\"11\" lengthAdjust=\"spacingAndGlyphs\" textLength=\"30\" x=\"132\" y=\"479.6479\">ports</text><line style=\"stroke: #383838; stroke-width: 1.0;\" x1=\"162\" x2=\"179\" y1=\"476.3398\" y2=\"476.3398\"/></a><!--MD5=[2156ba9850f5573cc1fc38a6a4b2f02b]\n",
       "class E7--><a href=\"psysml:de084c60-8c86-4761-a316-7296396fb321\" target=\"_top\" title=\"psysml:de084c60-8c86-4761-a316-7296396fb321\" xlink:actuate=\"onRequest\" xlink:href=\"psysml:de084c60-8c86-4761-a316-7296396fb321\" xlink:show=\"new\" xlink:title=\"psysml:de084c60-8c86-4761-a316-7296396fb321\" xlink:type=\"simple\"><rect fill=\"#FFFFFF\" height=\"45.9375\" id=\"E7\" rx=\"10\" ry=\"10\" style=\"stroke: #383838; stroke-width: 1.5;\" width=\"42\" x=\"44\" y=\"564.5\"/><text fill=\"#000000\" font-family=\"sans-serif\" font-size=\"12\" font-style=\"italic\" lengthAdjust=\"spacingAndGlyphs\" textLength=\"40\" x=\"45\" y=\"580.6387\">«part»</text><text fill=\"#000000\" font-family=\"sans-serif\" font-size=\"12\" lengthAdjust=\"spacingAndGlyphs\" textLength=\"24\" x=\"53\" y=\"594.6074\">a: A</text><line style=\"stroke: #383838; stroke-width: 1.5;\" x1=\"45\" x2=\"85\" y1=\"602.4375\" y2=\"602.4375\"/></a><!--MD5=[96f4274e9e20536e775497830990834d]\n",
       "class E10--><a href=\"psysml:4c8e1ce2-7f9a-4661-9090-c510b6f01354\" target=\"_top\" title=\"psysml:4c8e1ce2-7f9a-4661-9090-c510b6f01354\" xlink:actuate=\"onRequest\" xlink:href=\"psysml:4c8e1ce2-7f9a-4661-9090-c510b6f01354\" xlink:show=\"new\" xlink:title=\"psysml:4c8e1ce2-7f9a-4661-9090-c510b6f01354\" xlink:type=\"simple\"><rect fill=\"#FFFFFF\" height=\"45.9375\" id=\"E10\" style=\"stroke: #383838; stroke-width: 1.5;\" width=\"66\" x=\"146\" y=\"41\"/><text fill=\"#000000\" font-family=\"sans-serif\" font-size=\"12\" font-style=\"italic\" lengthAdjust=\"spacingAndGlyphs\" textLength=\"64\" x=\"147\" y=\"57.1387\">«port def»</text><text fill=\"#000000\" font-family=\"sans-serif\" font-size=\"12\" lengthAdjust=\"spacingAndGlyphs\" textLength=\"8\" x=\"175\" y=\"71.1074\">C</text><line style=\"stroke: #383838; stroke-width: 1.5;\" x1=\"147\" x2=\"211\" y1=\"78.9375\" y2=\"78.9375\"/></a><a href=\"psysml:4c76b494-1a6c-482d-b35c-aa72d24bc41e\" target=\"_top\" title=\"psysml:4c76b494-1a6c-482d-b35c-aa72d24bc41e\" xlink:actuate=\"onRequest\" xlink:href=\"psysml:4c76b494-1a6c-482d-b35c-aa72d24bc41e\" xlink:show=\"new\" xlink:title=\"psysml:4c76b494-1a6c-482d-b35c-aa72d24bc41e\" xlink:type=\"simple\"><polygon fill=\"#FFFFFF\" points=\"132,561,148,561,155,583.2969,162,583.2969,162,613.5938,132,613.5938,132,561\" style=\"stroke: #000000; stroke-width: 1.5;\"/><line style=\"stroke: #000000; stroke-width: 1.5;\" x1=\"132\" x2=\"155\" y1=\"583.2969\" y2=\"583.2969\"/><text fill=\"#000000\" font-family=\"sans-serif\" font-size=\"14\" font-weight=\"bold\" lengthAdjust=\"spacingAndGlyphs\" textLength=\"10\" x=\"136\" y=\"575.9951\">P</text></a><!--MD5=[2720a5a1f2c3fca2055b230370638851]\n",
       "link E2 to E3--><a href=\"psysml:38cdc859-4dfa-4bc4-87cd-169dd5acc896\" target=\"_top\" title=\"psysml:38cdc859-4dfa-4bc4-87cd-169dd5acc896\" xlink:actuate=\"onRequest\" xlink:href=\"psysml:38cdc859-4dfa-4bc4-87cd-169dd5acc896\" xlink:show=\"new\" xlink:title=\"psysml:38cdc859-4dfa-4bc4-87cd-169dd5acc896\" xlink:type=\"simple\"><path d=\"M43.23,87.08 C38.46,100.64 34.45,118.34 38,134 C38.82,137.61 39.86,141.26 41.06,144.89 \" fill=\"none\" id=\"E2-&gt;E3\" style=\"stroke: #383838; stroke-width: 1.0;\"/><polygon fill=\"#FFFFFF\" points=\"48.65,163.8,35.0703,148.7803,48.0607,143.5601,48.65,163.8\" style=\"stroke: #383838; stroke-width: 1.0;\"/><ellipse cx=\"34.8007\" cy=\"142.7456\" fill=\"#383838\" rx=\"2\" ry=\"2\" style=\"stroke: #383838; stroke-width: 1.0;\"/><ellipse cx=\"44.0796\" cy=\"139.0169\" fill=\"#383838\" rx=\"2\" ry=\"2\" style=\"stroke: #383838; stroke-width: 1.0;\"/></a><!--MD5=[4672eba38e49728da53d11aeb285b987]\n",
       "reverse link E3 to E4--><a href=\"psysml:5ebdadf2-6044-45bc-aa24-2da7c79aba16\" target=\"_top\" title=\"psysml:5ebdadf2-6044-45bc-aa24-2da7c79aba16\" xlink:actuate=\"onRequest\" xlink:href=\"psysml:5ebdadf2-6044-45bc-aa24-2da7c79aba16\" xlink:show=\"new\" xlink:title=\"psysml:5ebdadf2-6044-45bc-aa24-2da7c79aba16\" xlink:type=\"simple\"><path d=\"M72.88,253.51 C73.88,264.59 75.22,276.22 77,287 C78.64,296.92 81.21,307.72 83.63,316.9 \" fill=\"none\" id=\"E3&lt;-E4\" style=\"stroke: #383838; stroke-width: 1.0;\"/><polygon fill=\"#383838\" points=\"71.81,240.38,68.3042,246.6816,72.7727,252.3413,76.2785,246.0398,71.81,240.38\" style=\"stroke: #383838; stroke-width: 1.0;\"/></a><!--MD5=[79568f1e445c3877b6a54524624ccc7d]\n",
       "link E4 to E6--><a href=\"psysml:1fd8d685-c326-41aa-b421-a8308f20148e\" target=\"_top\" title=\"psysml:1fd8d685-c326-41aa-b421-a8308f20148e\" xlink:actuate=\"onRequest\" xlink:href=\"psysml:1fd8d685-c326-41aa-b421-a8308f20148e\" xlink:show=\"new\" xlink:title=\"psysml:1fd8d685-c326-41aa-b421-a8308f20148e\" xlink:type=\"simple\"><path d=\"M100.45,363.01 C106.1,374.9 113.36,390.18 120.46,405.12 \" fill=\"none\" id=\"E4-&gt;E6\" style=\"stroke: #383838; stroke-width: 1.0;\"/><polygon fill=\"#FFFFFF\" points=\"129.22,423.57,114.7395,409.4167,127.3831,403.405,129.22,423.57\" style=\"stroke: #383838; stroke-width: 1.0;\"/><ellipse cx=\"114.0981\" cy=\"403.4102\" fill=\"#383838\" rx=\"2\" ry=\"2\" style=\"stroke: #383838; stroke-width: 1.0;\"/><ellipse cx=\"123.1292\" cy=\"399.1161\" fill=\"#383838\" rx=\"2\" ry=\"2\" style=\"stroke: #383838; stroke-width: 1.0;\"/></a><!--MD5=[3f50a3473f1dfb74d3f76443e03635af]\n",
       "reverse link E6 to E7--><a href=\"psysml:c471fe89-f766-40f3-82e0-5e28332f3a67\" target=\"_top\" title=\"psysml:c471fe89-f766-40f3-82e0-5e28332f3a67\" xlink:actuate=\"onRequest\" xlink:href=\"psysml:c471fe89-f766-40f3-82e0-5e28332f3a67\" xlink:show=\"new\" xlink:title=\"psysml:c471fe89-f766-40f3-82e0-5e28332f3a67\" xlink:type=\"simple\"><path d=\"M115.19,510.9 C103,529.26 89.67,549.34 79.81,564.19 \" fill=\"none\" id=\"E6&lt;-E7\" style=\"stroke: #383838; stroke-width: 1.0;\"/><polygon fill=\"#383838\" points=\"122.4,500.05,115.7495,502.8377,115.7649,510.0488,122.4154,507.2611,122.4,500.05\" style=\"stroke: #383838; stroke-width: 1.0;\"/></a><!--MD5=[14ccda38c055a5c0da953d572bc50960]\n",
       "link E7 to E3--><a href=\"psysml:ce24e444-eb42-4eaa-91b0-86c1efe7ffc5\" target=\"_top\" title=\"psysml:ce24e444-eb42-4eaa-91b0-86c1efe7ffc5\" xlink:actuate=\"onRequest\" xlink:href=\"psysml:ce24e444-eb42-4eaa-91b0-86c1efe7ffc5\" xlink:show=\"new\" xlink:title=\"psysml:ce24e444-eb42-4eaa-91b0-86c1efe7ffc5\" xlink:type=\"simple\"><path d=\"M61.85,564.46 C55.72,518.43 43.41,408.75 51,317 C52.55,298.29 55.5,278.02 58.63,259.84 \" fill=\"none\" id=\"E7-&gt;E3\" style=\"stroke: #383838; stroke-width: 1.0;\"/><polygon fill=\"#FFFFFF\" points=\"62.24,240.03,65.7193,259.9773,51.9463,257.4667,62.24,240.03\" style=\"stroke: #383838; stroke-width: 1.0;\"/><ellipse cx=\"62.7296\" cy=\"265.2262\" fill=\"#383838\" rx=\"2\" ry=\"2\" style=\"stroke: #383838; stroke-width: 1.0;\"/><ellipse cx=\"52.8917\" cy=\"263.433\" fill=\"#383838\" rx=\"2\" ry=\"2\" style=\"stroke: #383838; stroke-width: 1.0;\"/></a><!--MD5=[e88d06e5a652d73a6b19930eefe025a8]\n",
       "reverse link E6 to E9--><a href=\"psysml:cabff1fd-5442-4a71-976e-341ac2e5dda1\" target=\"_top\" title=\"psysml:cabff1fd-5442-4a71-976e-341ac2e5dda1\" xlink:actuate=\"onRequest\" xlink:href=\"psysml:cabff1fd-5442-4a71-976e-341ac2e5dda1\" xlink:show=\"new\" xlink:title=\"psysml:cabff1fd-5442-4a71-976e-341ac2e5dda1\" xlink:type=\"simple\"><path d=\"M147,515.35 C147,531.08 147,547.65 147,560.83 \" fill=\"none\" id=\"E6&lt;-E9\" style=\"stroke: #383838; stroke-width: 1.0;\"/><ellipse cx=\"147\" cy=\"508.05\" fill=\"#FFFFFF\" rx=\"8\" ry=\"8\" style=\"stroke: #383838; stroke-width: 1.0;\"/><line style=\"stroke: #383838; stroke-width: 1.0;\" x1=\"147\" x2=\"147\" y1=\"516.05\" y2=\"500.05\"/><line style=\"stroke: #383838; stroke-width: 1.0;\" x1=\"139\" x2=\"155\" y1=\"508.05\" y2=\"508.05\"/></a><!--MD5=[8e04057e7b3cbc0dca4fc78ea351e2da]\n",
       "reverse link E10 to E3--><a href=\"psysml:a19db77c-da80-41d6-a5f2-85a22676bfcf\" target=\"_top\" title=\"psysml:a19db77c-da80-41d6-a5f2-85a22676bfcf\" xlink:actuate=\"onRequest\" xlink:href=\"psysml:a19db77c-da80-41d6-a5f2-85a22676bfcf\" xlink:show=\"new\" xlink:title=\"psysml:a19db77c-da80-41d6-a5f2-85a22676bfcf\" xlink:type=\"simple\"><path d=\"M133.33,76.35 C111.95,84.13 88.32,96.81 75,117 C66.07,130.53 63.94,148.12 64.4,163.71 \" fill=\"none\" id=\"E10&lt;-E3\" style=\"stroke: #383838; stroke-width: 1.0;\"/><polygon fill=\"#FFFFFF\" points=\"145.89,72.22,138.939,70.3009,134.494,75.9791,141.445,77.8982,145.89,72.22\" style=\"stroke: #383838; stroke-width: 1.0;\"/><text fill=\"#000000\" font-family=\"sans-serif\" font-size=\"13\" lengthAdjust=\"spacingAndGlyphs\" textLength=\"7\" x=\"76\" y=\"130.0669\">y</text></a><!--MD5=[8e04057e7b3cbc0dca4fc78ea351e2da]\n",
       "reverse link E10 to E3--><a href=\"psysml:a19db77c-da80-41d6-a5f2-85a22676bfcf\" target=\"_top\" title=\"psysml:a19db77c-da80-41d6-a5f2-85a22676bfcf\" xlink:actuate=\"onRequest\" xlink:href=\"psysml:a19db77c-da80-41d6-a5f2-85a22676bfcf\" xlink:show=\"new\" xlink:title=\"psysml:a19db77c-da80-41d6-a5f2-85a22676bfcf\" xlink:type=\"simple\"><path d=\"M143.35,96.28 C136.62,102.85 129.86,109.93 124,117 C112.05,131.41 100.57,148.61 91.29,163.69 \" fill=\"none\" id=\"E10&lt;-E3-1\" style=\"stroke: #383838; stroke-width: 1.0;\"/><polygon fill=\"#FFFFFF\" points=\"153.08,87.1,145.9702,88.3047,144.3478,95.331,151.4576,94.1262,153.08,87.1\" style=\"stroke: #383838; stroke-width: 1.0;\"/><text fill=\"#000000\" font-family=\"sans-serif\" font-size=\"13\" lengthAdjust=\"spacingAndGlyphs\" textLength=\"7\" x=\"125\" y=\"130.0669\">y</text></a><!--MD5=[8e04057e7b3cbc0dca4fc78ea351e2da]\n",
       "reverse link E10 to E3--><a href=\"psysml:a19db77c-da80-41d6-a5f2-85a22676bfcf\" target=\"_top\" title=\"psysml:a19db77c-da80-41d6-a5f2-85a22676bfcf\" xlink:actuate=\"onRequest\" xlink:href=\"psysml:a19db77c-da80-41d6-a5f2-85a22676bfcf\" xlink:show=\"new\" xlink:title=\"psysml:a19db77c-da80-41d6-a5f2-85a22676bfcf\" xlink:type=\"simple\"><path d=\"M158.49,98.17 C150.89,109.8 141.93,122.76 133,134 C123.86,145.5 113.16,157.39 103.19,167.9 \" fill=\"none\" id=\"E10&lt;-E3-2\" style=\"stroke: #383838; stroke-width: 1.0;\"/><polygon fill=\"#FFFFFF\" points=\"165.6,87.1,158.9946,89.9928,159.1242,97.2027,165.7297,94.3099,165.6,87.1\" style=\"stroke: #383838; stroke-width: 1.0;\"/><text fill=\"#000000\" font-family=\"sans-serif\" font-size=\"13\" lengthAdjust=\"spacingAndGlyphs\" textLength=\"7\" x=\"146\" y=\"130.0669\">y</text></a><!--MD5=[604cbf994c02b74b117f728a71673cea]\n",
       "reverse link E10 to E6--><a href=\"psysml:a19db77c-da80-41d6-a5f2-85a22676bfcf\" target=\"_top\" title=\"psysml:a19db77c-da80-41d6-a5f2-85a22676bfcf\" xlink:actuate=\"onRequest\" xlink:href=\"psysml:a19db77c-da80-41d6-a5f2-85a22676bfcf\" xlink:show=\"new\" xlink:title=\"psysml:a19db77c-da80-41d6-a5f2-85a22676bfcf\" xlink:type=\"simple\"><path d=\"M197.26,99.16 C199.64,104.97 201.69,111.05 203,117 C204.62,124.38 203.15,126.45 203,134 C200.78,249.62 229.38,284.23 193,394 C189.58,404.31 184.06,414.48 178.01,423.66 \" fill=\"none\" id=\"E10&lt;-E6\" style=\"stroke: #383838; stroke-width: 1.0;\"/><polygon fill=\"#FFFFFF\" points=\"191.73,87.03,190.583,94.1493,196.7135,97.9463,197.8605,90.827,191.73,87.03\" style=\"stroke: #383838; stroke-width: 1.0;\"/><text fill=\"#000000\" font-family=\"sans-serif\" font-size=\"13\" lengthAdjust=\"spacingAndGlyphs\" textLength=\"7\" x=\"212\" y=\"283.0669\">y</text></a><!--MD5=[604cbf994c02b74b117f728a71673cea]\n",
       "reverse link E10 to E6--><a href=\"psysml:a19db77c-da80-41d6-a5f2-85a22676bfcf\" target=\"_top\" title=\"psysml:a19db77c-da80-41d6-a5f2-85a22676bfcf\" xlink:actuate=\"onRequest\" xlink:href=\"psysml:a19db77c-da80-41d6-a5f2-85a22676bfcf\" xlink:show=\"new\" xlink:title=\"psysml:a19db77c-da80-41d6-a5f2-85a22676bfcf\" xlink:type=\"simple\"><path d=\"M171.02,99.85 C168.34,110.83 165.22,122.97 162,134 C144.13,195.25 126.36,207.04 116,270 C114.77,277.46 114.57,279.58 116,287 C118.72,301.1 124.37,303.11 128,317 C137.32,352.62 142.19,394.45 144.65,423.82 \" fill=\"none\" id=\"E10&lt;-E6-1\" style=\"stroke: #383838; stroke-width: 1.0;\"/><polygon fill=\"#FFFFFF\" points=\"174.04,87.19,168.7576,92.0987,171.257,98.8628,176.5394,93.9541,174.04,87.19\" style=\"stroke: #383838; stroke-width: 1.0;\"/><text fill=\"#000000\" font-family=\"sans-serif\" font-size=\"13\" lengthAdjust=\"spacingAndGlyphs\" textLength=\"7\" x=\"117\" y=\"283.0669\">y</text></a><!--MD5=[604cbf994c02b74b117f728a71673cea]\n",
       "reverse link E10 to E6--><a href=\"psysml:a19db77c-da80-41d6-a5f2-85a22676bfcf\" target=\"_top\" title=\"psysml:a19db77c-da80-41d6-a5f2-85a22676bfcf\" xlink:actuate=\"onRequest\" xlink:href=\"psysml:a19db77c-da80-41d6-a5f2-85a22676bfcf\" xlink:show=\"new\" xlink:title=\"psysml:a19db77c-da80-41d6-a5f2-85a22676bfcf\" xlink:type=\"simple\"><path d=\"M176.15,100.27 C170.13,174.82 156.15,347.78 150,423.9 \" fill=\"none\" id=\"E10&lt;-E6-2\" style=\"stroke: #383838; stroke-width: 1.0;\"/><polygon fill=\"#FFFFFF\" points=\"177.21,87.14,172.7415,92.7998,176.2473,99.1013,180.7158,93.4416,177.21,87.14\" style=\"stroke: #383838; stroke-width: 1.0;\"/><text fill=\"#000000\" font-family=\"sans-serif\" font-size=\"13\" lengthAdjust=\"spacingAndGlyphs\" textLength=\"7\" x=\"163\" y=\"283.0669\">y</text></a><!--MD5=[e63ea34fae9e0ced956b05f9be7cd366]\n",
       "@startuml\r\n",
       "skinparam monochrome true\r\n",
       "skinparam classbackgroundcolor white\r\n",
       "skinparam shadowing false\r\n",
       "skinparam wrapWidth 300\r\n",
       "hide circle\r\n",
       "\r\n",
       "package \"PartTest\" as E1  [[psysml:c65cc0cd-28b1-4d7a-bc05-02136890ed9a ]]  {\r\n",
       "comp usage \"f: A\" as E2  <<(T,blue)part>> [[psysml:634826b2-2fc2-4798-92ed-071cd1dffdd8 ]] {\r\n",
       "}\r\n",
       "comp def \"A\" as E3  <<(T,blue)part def>> [[psysml:36aba5eb-a810-4976-a211-fcdfb7b330f5 ]] {\r\n",
       "- - ports - -\r\n",
       "c: C\r\n",
       "}\r\n",
       "comp usage \"b: B\" as E4  <<(T,blue)part>> [[psysml:b5150c44-d935-4f31-a69b-527c90fd7c47 ]] {\r\n",
       "}\r\n",
       "comp def \"B\" as E6  <<(T,blue)part def>> [[psysml:94fb1c4b-8096-4b0e-a0c8-00d5fe55de6c ]] {\r\n",
       "- - ports - -\r\n",
       "x: ~C\r\n",
       "}\r\n",
       "comp usage \"a: A\" as E7  <<(T,blue)part>> [[psysml:de084c60-8c86-4761-a316-7296396fb321 ]] {\r\n",
       "}\r\n",
       "package \"P\" as E9  [[psysml:4c76b494-1a6c-482d-b35c-aa72d24bc41e ]]  {\r\n",
       "}\r\n",
       "comp def \"C\" as E10  <<(T,blue)port def>> [[psysml:4c8e1ce2-7f9a-4661-9090-c510b6f01354 ]] {\r\n",
       "}\r\n",
       "E2 - -:|> E3 [[psysml:38cdc859-4dfa-4bc4-87cd-169dd5acc896 ]] \r\n",
       "E3 *- - E4 [[psysml:5ebdadf2-6044-45bc-aa24-2da7c79aba16 ]] \r\n",
       "E4 - -:|> E6 [[psysml:1fd8d685-c326-41aa-b421-a8308f20148e ]] \r\n",
       "E6 *- - E7 [[psysml:c471fe89-f766-40f3-82e0-5e28332f3a67 ]] \r\n",
       "E7 - -:|> E3 [[psysml:ce24e444-eb42-4eaa-91b0-86c1efe7ffc5 ]] \r\n",
       "E6 +- - E9 [[psysml:cabff1fd-5442-4a71-976e-341ac2e5dda1 ]] \r\n",
       "E10 o- - E3 [[psysml:a19db77c-da80-41d6-a5f2-85a22676bfcf ]] : y\r\n",
       "E10 o- - E6 [[psysml:a19db77c-da80-41d6-a5f2-85a22676bfcf ]] : y\r\n",
       "E10 o- - E3 [[psysml:a19db77c-da80-41d6-a5f2-85a22676bfcf ]] : y\r\n",
       "E10 o- - E6 [[psysml:a19db77c-da80-41d6-a5f2-85a22676bfcf ]] : y\r\n",
       "E10 o- - E3 [[psysml:a19db77c-da80-41d6-a5f2-85a22676bfcf ]] : y\r\n",
       "E10 o- - E6 [[psysml:a19db77c-da80-41d6-a5f2-85a22676bfcf ]] : y\r\n",
       "}\r\n",
       "@enduml\r\n",
       "\n",
       "PlantUML version 1.2020.13(Sat Jun 13 12:26:38 UTC 2020)\n",
       "(EPL source distribution)\n",
       "Java Runtime: OpenJDK Runtime Environment\n",
       "JVM: OpenJDK 64-Bit Server VM\n",
       "Default Encoding: UTF-8\n",
       "Language: en\n",
       "Country: null\n",
       "--></g></svg>"
      ]
     },
     "execution_count": 42,
     "metadata": {},
     "output_type": "execute_result"
    }
   ],
   "source": [
    "%viz --style=\"DEFAULT\" --view=\"Sequence\" \"PartTest\""
   ]
  },
  {
   "cell_type": "code",
   "execution_count": 43,
   "id": "5e5bd9be",
   "metadata": {
    "execution": {
     "iopub.execute_input": "2021-04-20T07:29:15.452821Z",
     "iopub.status.busy": "2021-04-20T07:29:15.451701Z",
     "iopub.status.idle": "2021-04-20T07:29:15.556301Z",
     "shell.execute_reply": "2021-04-20T07:29:15.553410Z"
    }
   },
   "outputs": [
    {
     "data": {
      "image/svg+xml": [
       "<?xml version=\"1.0\" encoding=\"UTF-8\" standalone=\"no\"?><svg xmlns=\"http://www.w3.org/2000/svg\" xmlns:xlink=\"http://www.w3.org/1999/xlink\" contentScriptType=\"application/ecmascript\" contentStyleType=\"text/css\" height=\"642px\" preserveAspectRatio=\"none\" style=\"width:260px;height:642px;\" version=\"1.1\" viewBox=\"0 0 260 642\" width=\"260px\" zoomAndPan=\"magnify\"><defs/><g><!--MD5=[fbc87193dbaf4d95561dea2c320d4a47]\n",
       "cluster E1--><a href=\"psysml:c65cc0cd-28b1-4d7a-bc05-02136890ed9a\" target=\"_top\" title=\"psysml:c65cc0cd-28b1-4d7a-bc05-02136890ed9a\" xlink:actuate=\"onRequest\" xlink:href=\"psysml:c65cc0cd-28b1-4d7a-bc05-02136890ed9a\" xlink:show=\"new\" xlink:title=\"psysml:c65cc0cd-28b1-4d7a-bc05-02136890ed9a\" xlink:type=\"simple\"><polygon fill=\"#FFFFFF\" points=\"16,6,89,6,96,28.2969,238,28.2969,238,630,16,630,16,6\" style=\"stroke: #000000; stroke-width: 1.5;\"/><line style=\"stroke: #000000; stroke-width: 1.5;\" x1=\"16\" x2=\"96\" y1=\"28.2969\" y2=\"28.2969\"/><text fill=\"#000000\" font-family=\"sans-serif\" font-size=\"14\" font-weight=\"bold\" lengthAdjust=\"spacingAndGlyphs\" textLength=\"67\" x=\"20\" y=\"20.9951\">PartTest</text></a><!--MD5=[b4997ac47864f28c2f74865a473b2911]\n",
       "class E2--><a href=\"psysml:634826b2-2fc2-4798-92ed-071cd1dffdd8\" target=\"_top\" title=\"psysml:634826b2-2fc2-4798-92ed-071cd1dffdd8\" xlink:actuate=\"onRequest\" xlink:href=\"psysml:634826b2-2fc2-4798-92ed-071cd1dffdd8\" xlink:show=\"new\" xlink:title=\"psysml:634826b2-2fc2-4798-92ed-071cd1dffdd8\" xlink:type=\"simple\"><rect fill=\"#FFFFFF\" height=\"45.9375\" id=\"E2\" rx=\"10\" ry=\"10\" style=\"stroke: #383838; stroke-width: 1.5;\" width=\"42\" x=\"32\" y=\"41\"/><text fill=\"#000000\" font-family=\"sans-serif\" font-size=\"12\" font-style=\"italic\" lengthAdjust=\"spacingAndGlyphs\" textLength=\"40\" x=\"33\" y=\"57.1387\">«part»</text><text fill=\"#000000\" font-family=\"sans-serif\" font-size=\"12\" lengthAdjust=\"spacingAndGlyphs\" textLength=\"20\" x=\"43\" y=\"71.1074\">f: A</text><line style=\"stroke: #383838; stroke-width: 1.5;\" x1=\"33\" x2=\"73\" y1=\"78.9375\" y2=\"78.9375\"/></a><!--MD5=[09b614a08d8cba4a07c9adeb5e0fee81]\n",
       "class E3--><a href=\"psysml:36aba5eb-a810-4976-a211-fcdfb7b330f5\" target=\"_top\" title=\"psysml:36aba5eb-a810-4976-a211-fcdfb7b330f5\" xlink:actuate=\"onRequest\" xlink:href=\"psysml:36aba5eb-a810-4976-a211-fcdfb7b330f5\" xlink:show=\"new\" xlink:title=\"psysml:36aba5eb-a810-4976-a211-fcdfb7b330f5\" xlink:type=\"simple\"><rect fill=\"#FFFFFF\" height=\"75.5469\" id=\"E3\" style=\"stroke: #383838; stroke-width: 1.5;\" width=\"66\" x=\"37\" y=\"164\"/><text fill=\"#000000\" font-family=\"sans-serif\" font-size=\"12\" font-style=\"italic\" lengthAdjust=\"spacingAndGlyphs\" textLength=\"64\" x=\"38\" y=\"180.1387\">«part def»</text><text fill=\"#000000\" font-family=\"sans-serif\" font-size=\"12\" lengthAdjust=\"spacingAndGlyphs\" textLength=\"8\" x=\"66\" y=\"194.1074\">A</text><line style=\"stroke: #383838; stroke-width: 1.5;\" x1=\"38\" x2=\"102\" y1=\"201.9375\" y2=\"201.9375\"/><text fill=\"#000000\" font-family=\"sans-serif\" font-size=\"11\" lengthAdjust=\"spacingAndGlyphs\" textLength=\"22\" x=\"43\" y=\"232.9526\">c: C</text><line style=\"stroke: #383838; stroke-width: 1.0;\" x1=\"38\" x2=\"55\" y1=\"216.3398\" y2=\"216.3398\"/><text fill=\"#000000\" font-family=\"sans-serif\" font-size=\"11\" lengthAdjust=\"spacingAndGlyphs\" textLength=\"30\" x=\"55\" y=\"219.6479\">ports</text><line style=\"stroke: #383838; stroke-width: 1.0;\" x1=\"85\" x2=\"102\" y1=\"216.3398\" y2=\"216.3398\"/></a><!--MD5=[ebbe1d658d1005bcc118a6aa81145e00]\n",
       "class E4--><a href=\"psysml:b5150c44-d935-4f31-a69b-527c90fd7c47\" target=\"_top\" title=\"psysml:b5150c44-d935-4f31-a69b-527c90fd7c47\" xlink:actuate=\"onRequest\" xlink:href=\"psysml:b5150c44-d935-4f31-a69b-527c90fd7c47\" xlink:show=\"new\" xlink:title=\"psysml:b5150c44-d935-4f31-a69b-527c90fd7c47\" xlink:type=\"simple\"><rect fill=\"#FFFFFF\" height=\"45.9375\" id=\"E4\" rx=\"10\" ry=\"10\" style=\"stroke: #383838; stroke-width: 1.5;\" width=\"42\" x=\"69\" y=\"317\"/><text fill=\"#000000\" font-family=\"sans-serif\" font-size=\"12\" font-style=\"italic\" lengthAdjust=\"spacingAndGlyphs\" textLength=\"40\" x=\"70\" y=\"333.1387\">«part»</text><text fill=\"#000000\" font-family=\"sans-serif\" font-size=\"12\" lengthAdjust=\"spacingAndGlyphs\" textLength=\"24\" x=\"78\" y=\"347.1074\">b: B</text><line style=\"stroke: #383838; stroke-width: 1.5;\" x1=\"70\" x2=\"110\" y1=\"354.9375\" y2=\"354.9375\"/></a><!--MD5=[60a26617385b1d2d0262a64233df1f8d]\n",
       "class E6--><a href=\"psysml:94fb1c4b-8096-4b0e-a0c8-00d5fe55de6c\" target=\"_top\" title=\"psysml:94fb1c4b-8096-4b0e-a0c8-00d5fe55de6c\" xlink:actuate=\"onRequest\" xlink:href=\"psysml:94fb1c4b-8096-4b0e-a0c8-00d5fe55de6c\" xlink:show=\"new\" xlink:title=\"psysml:94fb1c4b-8096-4b0e-a0c8-00d5fe55de6c\" xlink:type=\"simple\"><rect fill=\"#FFFFFF\" height=\"75.5469\" id=\"E6\" style=\"stroke: #383838; stroke-width: 1.5;\" width=\"66\" x=\"114\" y=\"424\"/><text fill=\"#000000\" font-family=\"sans-serif\" font-size=\"12\" font-style=\"italic\" lengthAdjust=\"spacingAndGlyphs\" textLength=\"64\" x=\"115\" y=\"440.1387\">«part def»</text><text fill=\"#000000\" font-family=\"sans-serif\" font-size=\"12\" lengthAdjust=\"spacingAndGlyphs\" textLength=\"8\" x=\"143\" y=\"454.1074\">B</text><line style=\"stroke: #383838; stroke-width: 1.5;\" x1=\"115\" x2=\"179\" y1=\"461.9375\" y2=\"461.9375\"/><text fill=\"#000000\" font-family=\"sans-serif\" font-size=\"11\" lengthAdjust=\"spacingAndGlyphs\" textLength=\"31\" x=\"120\" y=\"492.9526\">x: ~C</text><line style=\"stroke: #383838; stroke-width: 1.0;\" x1=\"115\" x2=\"132\" y1=\"476.3398\" y2=\"476.3398\"/><text fill=\"#000000\" font-family=\"sans-serif\" font-size=\"11\" lengthAdjust=\"spacingAndGlyphs\" textLength=\"30\" x=\"132\" y=\"479.6479\">ports</text><line style=\"stroke: #383838; stroke-width: 1.0;\" x1=\"162\" x2=\"179\" y1=\"476.3398\" y2=\"476.3398\"/></a><!--MD5=[2156ba9850f5573cc1fc38a6a4b2f02b]\n",
       "class E7--><a href=\"psysml:de084c60-8c86-4761-a316-7296396fb321\" target=\"_top\" title=\"psysml:de084c60-8c86-4761-a316-7296396fb321\" xlink:actuate=\"onRequest\" xlink:href=\"psysml:de084c60-8c86-4761-a316-7296396fb321\" xlink:show=\"new\" xlink:title=\"psysml:de084c60-8c86-4761-a316-7296396fb321\" xlink:type=\"simple\"><rect fill=\"#FFFFFF\" height=\"45.9375\" id=\"E7\" rx=\"10\" ry=\"10\" style=\"stroke: #383838; stroke-width: 1.5;\" width=\"42\" x=\"44\" y=\"564.5\"/><text fill=\"#000000\" font-family=\"sans-serif\" font-size=\"12\" font-style=\"italic\" lengthAdjust=\"spacingAndGlyphs\" textLength=\"40\" x=\"45\" y=\"580.6387\">«part»</text><text fill=\"#000000\" font-family=\"sans-serif\" font-size=\"12\" lengthAdjust=\"spacingAndGlyphs\" textLength=\"24\" x=\"53\" y=\"594.6074\">a: A</text><line style=\"stroke: #383838; stroke-width: 1.5;\" x1=\"45\" x2=\"85\" y1=\"602.4375\" y2=\"602.4375\"/></a><!--MD5=[96f4274e9e20536e775497830990834d]\n",
       "class E10--><a href=\"psysml:4c8e1ce2-7f9a-4661-9090-c510b6f01354\" target=\"_top\" title=\"psysml:4c8e1ce2-7f9a-4661-9090-c510b6f01354\" xlink:actuate=\"onRequest\" xlink:href=\"psysml:4c8e1ce2-7f9a-4661-9090-c510b6f01354\" xlink:show=\"new\" xlink:title=\"psysml:4c8e1ce2-7f9a-4661-9090-c510b6f01354\" xlink:type=\"simple\"><rect fill=\"#FFFFFF\" height=\"45.9375\" id=\"E10\" style=\"stroke: #383838; stroke-width: 1.5;\" width=\"66\" x=\"146\" y=\"41\"/><text fill=\"#000000\" font-family=\"sans-serif\" font-size=\"12\" font-style=\"italic\" lengthAdjust=\"spacingAndGlyphs\" textLength=\"64\" x=\"147\" y=\"57.1387\">«port def»</text><text fill=\"#000000\" font-family=\"sans-serif\" font-size=\"12\" lengthAdjust=\"spacingAndGlyphs\" textLength=\"8\" x=\"175\" y=\"71.1074\">C</text><line style=\"stroke: #383838; stroke-width: 1.5;\" x1=\"147\" x2=\"211\" y1=\"78.9375\" y2=\"78.9375\"/></a><a href=\"psysml:4c76b494-1a6c-482d-b35c-aa72d24bc41e\" target=\"_top\" title=\"psysml:4c76b494-1a6c-482d-b35c-aa72d24bc41e\" xlink:actuate=\"onRequest\" xlink:href=\"psysml:4c76b494-1a6c-482d-b35c-aa72d24bc41e\" xlink:show=\"new\" xlink:title=\"psysml:4c76b494-1a6c-482d-b35c-aa72d24bc41e\" xlink:type=\"simple\"><polygon fill=\"#FFFFFF\" points=\"132,561,148,561,155,583.2969,162,583.2969,162,613.5938,132,613.5938,132,561\" style=\"stroke: #000000; stroke-width: 1.5;\"/><line style=\"stroke: #000000; stroke-width: 1.5;\" x1=\"132\" x2=\"155\" y1=\"583.2969\" y2=\"583.2969\"/><text fill=\"#000000\" font-family=\"sans-serif\" font-size=\"14\" font-weight=\"bold\" lengthAdjust=\"spacingAndGlyphs\" textLength=\"10\" x=\"136\" y=\"575.9951\">P</text></a><!--MD5=[2720a5a1f2c3fca2055b230370638851]\n",
       "link E2 to E3--><a href=\"psysml:38cdc859-4dfa-4bc4-87cd-169dd5acc896\" target=\"_top\" title=\"psysml:38cdc859-4dfa-4bc4-87cd-169dd5acc896\" xlink:actuate=\"onRequest\" xlink:href=\"psysml:38cdc859-4dfa-4bc4-87cd-169dd5acc896\" xlink:show=\"new\" xlink:title=\"psysml:38cdc859-4dfa-4bc4-87cd-169dd5acc896\" xlink:type=\"simple\"><path d=\"M43.23,87.08 C38.46,100.64 34.45,118.34 38,134 C38.82,137.61 39.86,141.26 41.06,144.89 \" fill=\"none\" id=\"E2-&gt;E3\" style=\"stroke: #383838; stroke-width: 1.0;\"/><polygon fill=\"#FFFFFF\" points=\"48.65,163.8,35.0703,148.7803,48.0607,143.5601,48.65,163.8\" style=\"stroke: #383838; stroke-width: 1.0;\"/><ellipse cx=\"34.8007\" cy=\"142.7456\" fill=\"#383838\" rx=\"2\" ry=\"2\" style=\"stroke: #383838; stroke-width: 1.0;\"/><ellipse cx=\"44.0796\" cy=\"139.0169\" fill=\"#383838\" rx=\"2\" ry=\"2\" style=\"stroke: #383838; stroke-width: 1.0;\"/></a><!--MD5=[4672eba38e49728da53d11aeb285b987]\n",
       "reverse link E3 to E4--><a href=\"psysml:5ebdadf2-6044-45bc-aa24-2da7c79aba16\" target=\"_top\" title=\"psysml:5ebdadf2-6044-45bc-aa24-2da7c79aba16\" xlink:actuate=\"onRequest\" xlink:href=\"psysml:5ebdadf2-6044-45bc-aa24-2da7c79aba16\" xlink:show=\"new\" xlink:title=\"psysml:5ebdadf2-6044-45bc-aa24-2da7c79aba16\" xlink:type=\"simple\"><path d=\"M72.88,253.51 C73.88,264.59 75.22,276.22 77,287 C78.64,296.92 81.21,307.72 83.63,316.9 \" fill=\"none\" id=\"E3&lt;-E4\" style=\"stroke: #383838; stroke-width: 1.0;\"/><polygon fill=\"#383838\" points=\"71.81,240.38,68.3042,246.6816,72.7727,252.3413,76.2785,246.0398,71.81,240.38\" style=\"stroke: #383838; stroke-width: 1.0;\"/></a><!--MD5=[79568f1e445c3877b6a54524624ccc7d]\n",
       "link E4 to E6--><a href=\"psysml:1fd8d685-c326-41aa-b421-a8308f20148e\" target=\"_top\" title=\"psysml:1fd8d685-c326-41aa-b421-a8308f20148e\" xlink:actuate=\"onRequest\" xlink:href=\"psysml:1fd8d685-c326-41aa-b421-a8308f20148e\" xlink:show=\"new\" xlink:title=\"psysml:1fd8d685-c326-41aa-b421-a8308f20148e\" xlink:type=\"simple\"><path d=\"M100.45,363.01 C106.1,374.9 113.36,390.18 120.46,405.12 \" fill=\"none\" id=\"E4-&gt;E6\" style=\"stroke: #383838; stroke-width: 1.0;\"/><polygon fill=\"#FFFFFF\" points=\"129.22,423.57,114.7395,409.4167,127.3831,403.405,129.22,423.57\" style=\"stroke: #383838; stroke-width: 1.0;\"/><ellipse cx=\"114.0981\" cy=\"403.4102\" fill=\"#383838\" rx=\"2\" ry=\"2\" style=\"stroke: #383838; stroke-width: 1.0;\"/><ellipse cx=\"123.1292\" cy=\"399.1161\" fill=\"#383838\" rx=\"2\" ry=\"2\" style=\"stroke: #383838; stroke-width: 1.0;\"/></a><!--MD5=[3f50a3473f1dfb74d3f76443e03635af]\n",
       "reverse link E6 to E7--><a href=\"psysml:c471fe89-f766-40f3-82e0-5e28332f3a67\" target=\"_top\" title=\"psysml:c471fe89-f766-40f3-82e0-5e28332f3a67\" xlink:actuate=\"onRequest\" xlink:href=\"psysml:c471fe89-f766-40f3-82e0-5e28332f3a67\" xlink:show=\"new\" xlink:title=\"psysml:c471fe89-f766-40f3-82e0-5e28332f3a67\" xlink:type=\"simple\"><path d=\"M115.19,510.9 C103,529.26 89.67,549.34 79.81,564.19 \" fill=\"none\" id=\"E6&lt;-E7\" style=\"stroke: #383838; stroke-width: 1.0;\"/><polygon fill=\"#383838\" points=\"122.4,500.05,115.7495,502.8377,115.7649,510.0488,122.4154,507.2611,122.4,500.05\" style=\"stroke: #383838; stroke-width: 1.0;\"/></a><!--MD5=[14ccda38c055a5c0da953d572bc50960]\n",
       "link E7 to E3--><a href=\"psysml:ce24e444-eb42-4eaa-91b0-86c1efe7ffc5\" target=\"_top\" title=\"psysml:ce24e444-eb42-4eaa-91b0-86c1efe7ffc5\" xlink:actuate=\"onRequest\" xlink:href=\"psysml:ce24e444-eb42-4eaa-91b0-86c1efe7ffc5\" xlink:show=\"new\" xlink:title=\"psysml:ce24e444-eb42-4eaa-91b0-86c1efe7ffc5\" xlink:type=\"simple\"><path d=\"M61.85,564.46 C55.72,518.43 43.41,408.75 51,317 C52.55,298.29 55.5,278.02 58.63,259.84 \" fill=\"none\" id=\"E7-&gt;E3\" style=\"stroke: #383838; stroke-width: 1.0;\"/><polygon fill=\"#FFFFFF\" points=\"62.24,240.03,65.7193,259.9773,51.9463,257.4667,62.24,240.03\" style=\"stroke: #383838; stroke-width: 1.0;\"/><ellipse cx=\"62.7296\" cy=\"265.2262\" fill=\"#383838\" rx=\"2\" ry=\"2\" style=\"stroke: #383838; stroke-width: 1.0;\"/><ellipse cx=\"52.8917\" cy=\"263.433\" fill=\"#383838\" rx=\"2\" ry=\"2\" style=\"stroke: #383838; stroke-width: 1.0;\"/></a><!--MD5=[e88d06e5a652d73a6b19930eefe025a8]\n",
       "reverse link E6 to E9--><a href=\"psysml:cabff1fd-5442-4a71-976e-341ac2e5dda1\" target=\"_top\" title=\"psysml:cabff1fd-5442-4a71-976e-341ac2e5dda1\" xlink:actuate=\"onRequest\" xlink:href=\"psysml:cabff1fd-5442-4a71-976e-341ac2e5dda1\" xlink:show=\"new\" xlink:title=\"psysml:cabff1fd-5442-4a71-976e-341ac2e5dda1\" xlink:type=\"simple\"><path d=\"M147,515.35 C147,531.08 147,547.65 147,560.83 \" fill=\"none\" id=\"E6&lt;-E9\" style=\"stroke: #383838; stroke-width: 1.0;\"/><ellipse cx=\"147\" cy=\"508.05\" fill=\"#FFFFFF\" rx=\"8\" ry=\"8\" style=\"stroke: #383838; stroke-width: 1.0;\"/><line style=\"stroke: #383838; stroke-width: 1.0;\" x1=\"147\" x2=\"147\" y1=\"516.05\" y2=\"500.05\"/><line style=\"stroke: #383838; stroke-width: 1.0;\" x1=\"139\" x2=\"155\" y1=\"508.05\" y2=\"508.05\"/></a><!--MD5=[8e04057e7b3cbc0dca4fc78ea351e2da]\n",
       "reverse link E10 to E3--><a href=\"psysml:a19db77c-da80-41d6-a5f2-85a22676bfcf\" target=\"_top\" title=\"psysml:a19db77c-da80-41d6-a5f2-85a22676bfcf\" xlink:actuate=\"onRequest\" xlink:href=\"psysml:a19db77c-da80-41d6-a5f2-85a22676bfcf\" xlink:show=\"new\" xlink:title=\"psysml:a19db77c-da80-41d6-a5f2-85a22676bfcf\" xlink:type=\"simple\"><path d=\"M133.33,76.35 C111.95,84.13 88.32,96.81 75,117 C66.07,130.53 63.94,148.12 64.4,163.71 \" fill=\"none\" id=\"E10&lt;-E3\" style=\"stroke: #383838; stroke-width: 1.0;\"/><polygon fill=\"#FFFFFF\" points=\"145.89,72.22,138.939,70.3009,134.494,75.9791,141.445,77.8982,145.89,72.22\" style=\"stroke: #383838; stroke-width: 1.0;\"/><text fill=\"#000000\" font-family=\"sans-serif\" font-size=\"13\" lengthAdjust=\"spacingAndGlyphs\" textLength=\"7\" x=\"76\" y=\"130.0669\">y</text></a><!--MD5=[8e04057e7b3cbc0dca4fc78ea351e2da]\n",
       "reverse link E10 to E3--><a href=\"psysml:a19db77c-da80-41d6-a5f2-85a22676bfcf\" target=\"_top\" title=\"psysml:a19db77c-da80-41d6-a5f2-85a22676bfcf\" xlink:actuate=\"onRequest\" xlink:href=\"psysml:a19db77c-da80-41d6-a5f2-85a22676bfcf\" xlink:show=\"new\" xlink:title=\"psysml:a19db77c-da80-41d6-a5f2-85a22676bfcf\" xlink:type=\"simple\"><path d=\"M143.35,96.28 C136.62,102.85 129.86,109.93 124,117 C112.05,131.41 100.57,148.61 91.29,163.69 \" fill=\"none\" id=\"E10&lt;-E3-1\" style=\"stroke: #383838; stroke-width: 1.0;\"/><polygon fill=\"#FFFFFF\" points=\"153.08,87.1,145.9702,88.3047,144.3478,95.331,151.4576,94.1262,153.08,87.1\" style=\"stroke: #383838; stroke-width: 1.0;\"/><text fill=\"#000000\" font-family=\"sans-serif\" font-size=\"13\" lengthAdjust=\"spacingAndGlyphs\" textLength=\"7\" x=\"125\" y=\"130.0669\">y</text></a><!--MD5=[8e04057e7b3cbc0dca4fc78ea351e2da]\n",
       "reverse link E10 to E3--><a href=\"psysml:a19db77c-da80-41d6-a5f2-85a22676bfcf\" target=\"_top\" title=\"psysml:a19db77c-da80-41d6-a5f2-85a22676bfcf\" xlink:actuate=\"onRequest\" xlink:href=\"psysml:a19db77c-da80-41d6-a5f2-85a22676bfcf\" xlink:show=\"new\" xlink:title=\"psysml:a19db77c-da80-41d6-a5f2-85a22676bfcf\" xlink:type=\"simple\"><path d=\"M158.49,98.17 C150.89,109.8 141.93,122.76 133,134 C123.86,145.5 113.16,157.39 103.19,167.9 \" fill=\"none\" id=\"E10&lt;-E3-2\" style=\"stroke: #383838; stroke-width: 1.0;\"/><polygon fill=\"#FFFFFF\" points=\"165.6,87.1,158.9946,89.9928,159.1242,97.2027,165.7297,94.3099,165.6,87.1\" style=\"stroke: #383838; stroke-width: 1.0;\"/><text fill=\"#000000\" font-family=\"sans-serif\" font-size=\"13\" lengthAdjust=\"spacingAndGlyphs\" textLength=\"7\" x=\"146\" y=\"130.0669\">y</text></a><!--MD5=[604cbf994c02b74b117f728a71673cea]\n",
       "reverse link E10 to E6--><a href=\"psysml:a19db77c-da80-41d6-a5f2-85a22676bfcf\" target=\"_top\" title=\"psysml:a19db77c-da80-41d6-a5f2-85a22676bfcf\" xlink:actuate=\"onRequest\" xlink:href=\"psysml:a19db77c-da80-41d6-a5f2-85a22676bfcf\" xlink:show=\"new\" xlink:title=\"psysml:a19db77c-da80-41d6-a5f2-85a22676bfcf\" xlink:type=\"simple\"><path d=\"M197.26,99.16 C199.64,104.97 201.69,111.05 203,117 C204.62,124.38 203.15,126.45 203,134 C200.78,249.62 229.38,284.23 193,394 C189.58,404.31 184.06,414.48 178.01,423.66 \" fill=\"none\" id=\"E10&lt;-E6\" style=\"stroke: #383838; stroke-width: 1.0;\"/><polygon fill=\"#FFFFFF\" points=\"191.73,87.03,190.583,94.1493,196.7135,97.9463,197.8605,90.827,191.73,87.03\" style=\"stroke: #383838; stroke-width: 1.0;\"/><text fill=\"#000000\" font-family=\"sans-serif\" font-size=\"13\" lengthAdjust=\"spacingAndGlyphs\" textLength=\"7\" x=\"212\" y=\"283.0669\">y</text></a><!--MD5=[604cbf994c02b74b117f728a71673cea]\n",
       "reverse link E10 to E6--><a href=\"psysml:a19db77c-da80-41d6-a5f2-85a22676bfcf\" target=\"_top\" title=\"psysml:a19db77c-da80-41d6-a5f2-85a22676bfcf\" xlink:actuate=\"onRequest\" xlink:href=\"psysml:a19db77c-da80-41d6-a5f2-85a22676bfcf\" xlink:show=\"new\" xlink:title=\"psysml:a19db77c-da80-41d6-a5f2-85a22676bfcf\" xlink:type=\"simple\"><path d=\"M171.02,99.85 C168.34,110.83 165.22,122.97 162,134 C144.13,195.25 126.36,207.04 116,270 C114.77,277.46 114.57,279.58 116,287 C118.72,301.1 124.37,303.11 128,317 C137.32,352.62 142.19,394.45 144.65,423.82 \" fill=\"none\" id=\"E10&lt;-E6-1\" style=\"stroke: #383838; stroke-width: 1.0;\"/><polygon fill=\"#FFFFFF\" points=\"174.04,87.19,168.7576,92.0987,171.257,98.8628,176.5394,93.9541,174.04,87.19\" style=\"stroke: #383838; stroke-width: 1.0;\"/><text fill=\"#000000\" font-family=\"sans-serif\" font-size=\"13\" lengthAdjust=\"spacingAndGlyphs\" textLength=\"7\" x=\"117\" y=\"283.0669\">y</text></a><!--MD5=[604cbf994c02b74b117f728a71673cea]\n",
       "reverse link E10 to E6--><a href=\"psysml:a19db77c-da80-41d6-a5f2-85a22676bfcf\" target=\"_top\" title=\"psysml:a19db77c-da80-41d6-a5f2-85a22676bfcf\" xlink:actuate=\"onRequest\" xlink:href=\"psysml:a19db77c-da80-41d6-a5f2-85a22676bfcf\" xlink:show=\"new\" xlink:title=\"psysml:a19db77c-da80-41d6-a5f2-85a22676bfcf\" xlink:type=\"simple\"><path d=\"M176.15,100.27 C170.13,174.82 156.15,347.78 150,423.9 \" fill=\"none\" id=\"E10&lt;-E6-2\" style=\"stroke: #383838; stroke-width: 1.0;\"/><polygon fill=\"#FFFFFF\" points=\"177.21,87.14,172.7415,92.7998,176.2473,99.1013,180.7158,93.4416,177.21,87.14\" style=\"stroke: #383838; stroke-width: 1.0;\"/><text fill=\"#000000\" font-family=\"sans-serif\" font-size=\"13\" lengthAdjust=\"spacingAndGlyphs\" textLength=\"7\" x=\"163\" y=\"283.0669\">y</text></a><!--MD5=[e63ea34fae9e0ced956b05f9be7cd366]\n",
       "@startuml\r\n",
       "skinparam monochrome true\r\n",
       "skinparam classbackgroundcolor white\r\n",
       "skinparam shadowing false\r\n",
       "skinparam wrapWidth 300\r\n",
       "hide circle\r\n",
       "\r\n",
       "package \"PartTest\" as E1  [[psysml:c65cc0cd-28b1-4d7a-bc05-02136890ed9a ]]  {\r\n",
       "comp usage \"f: A\" as E2  <<(T,blue)part>> [[psysml:634826b2-2fc2-4798-92ed-071cd1dffdd8 ]] {\r\n",
       "}\r\n",
       "comp def \"A\" as E3  <<(T,blue)part def>> [[psysml:36aba5eb-a810-4976-a211-fcdfb7b330f5 ]] {\r\n",
       "- - ports - -\r\n",
       "c: C\r\n",
       "}\r\n",
       "comp usage \"b: B\" as E4  <<(T,blue)part>> [[psysml:b5150c44-d935-4f31-a69b-527c90fd7c47 ]] {\r\n",
       "}\r\n",
       "comp def \"B\" as E6  <<(T,blue)part def>> [[psysml:94fb1c4b-8096-4b0e-a0c8-00d5fe55de6c ]] {\r\n",
       "- - ports - -\r\n",
       "x: ~C\r\n",
       "}\r\n",
       "comp usage \"a: A\" as E7  <<(T,blue)part>> [[psysml:de084c60-8c86-4761-a316-7296396fb321 ]] {\r\n",
       "}\r\n",
       "package \"P\" as E9  [[psysml:4c76b494-1a6c-482d-b35c-aa72d24bc41e ]]  {\r\n",
       "}\r\n",
       "comp def \"C\" as E10  <<(T,blue)port def>> [[psysml:4c8e1ce2-7f9a-4661-9090-c510b6f01354 ]] {\r\n",
       "}\r\n",
       "E2 - -:|> E3 [[psysml:38cdc859-4dfa-4bc4-87cd-169dd5acc896 ]] \r\n",
       "E3 *- - E4 [[psysml:5ebdadf2-6044-45bc-aa24-2da7c79aba16 ]] \r\n",
       "E4 - -:|> E6 [[psysml:1fd8d685-c326-41aa-b421-a8308f20148e ]] \r\n",
       "E6 *- - E7 [[psysml:c471fe89-f766-40f3-82e0-5e28332f3a67 ]] \r\n",
       "E7 - -:|> E3 [[psysml:ce24e444-eb42-4eaa-91b0-86c1efe7ffc5 ]] \r\n",
       "E6 +- - E9 [[psysml:cabff1fd-5442-4a71-976e-341ac2e5dda1 ]] \r\n",
       "E10 o- - E3 [[psysml:a19db77c-da80-41d6-a5f2-85a22676bfcf ]] : y\r\n",
       "E10 o- - E6 [[psysml:a19db77c-da80-41d6-a5f2-85a22676bfcf ]] : y\r\n",
       "E10 o- - E3 [[psysml:a19db77c-da80-41d6-a5f2-85a22676bfcf ]] : y\r\n",
       "E10 o- - E6 [[psysml:a19db77c-da80-41d6-a5f2-85a22676bfcf ]] : y\r\n",
       "E10 o- - E3 [[psysml:a19db77c-da80-41d6-a5f2-85a22676bfcf ]] : y\r\n",
       "E10 o- - E6 [[psysml:a19db77c-da80-41d6-a5f2-85a22676bfcf ]] : y\r\n",
       "}\r\n",
       "@enduml\r\n",
       "\n",
       "PlantUML version 1.2020.13(Sat Jun 13 12:26:38 UTC 2020)\n",
       "(EPL source distribution)\n",
       "Java Runtime: OpenJDK Runtime Environment\n",
       "JVM: OpenJDK 64-Bit Server VM\n",
       "Default Encoding: UTF-8\n",
       "Language: en\n",
       "Country: null\n",
       "--></g></svg>"
      ]
     },
     "execution_count": 43,
     "metadata": {},
     "output_type": "execute_result"
    }
   ],
   "source": [
    "%viz --style=\"DEFAULT\" --view=\"MIXED\" \"PartTest\""
   ]
  },
  {
   "cell_type": "code",
   "execution_count": 44,
   "id": "a21d5ae3",
   "metadata": {
    "execution": {
     "iopub.execute_input": "2021-04-20T07:29:15.606057Z",
     "iopub.status.busy": "2021-04-20T07:29:15.602646Z",
     "iopub.status.idle": "2021-04-20T07:29:15.735501Z",
     "shell.execute_reply": "2021-04-20T07:29:15.734787Z"
    }
   },
   "outputs": [
    {
     "data": {
      "image/svg+xml": [
       "<?xml version=\"1.0\" encoding=\"UTF-8\" standalone=\"no\"?><svg xmlns=\"http://www.w3.org/2000/svg\" xmlns:xlink=\"http://www.w3.org/1999/xlink\" contentScriptType=\"application/ecmascript\" contentStyleType=\"text/css\" height=\"642px\" preserveAspectRatio=\"none\" style=\"width:260px;height:642px;\" version=\"1.1\" viewBox=\"0 0 260 642\" width=\"260px\" zoomAndPan=\"magnify\"><defs/><g><!--MD5=[fbc87193dbaf4d95561dea2c320d4a47]\n",
       "cluster E1--><a href=\"psysml:c65cc0cd-28b1-4d7a-bc05-02136890ed9a\" target=\"_top\" title=\"psysml:c65cc0cd-28b1-4d7a-bc05-02136890ed9a\" xlink:actuate=\"onRequest\" xlink:href=\"psysml:c65cc0cd-28b1-4d7a-bc05-02136890ed9a\" xlink:show=\"new\" xlink:title=\"psysml:c65cc0cd-28b1-4d7a-bc05-02136890ed9a\" xlink:type=\"simple\"><polygon fill=\"#FFFFFF\" points=\"16,6,89,6,96,28.2969,238,28.2969,238,630,16,630,16,6\" style=\"stroke: #000000; stroke-width: 1.5;\"/><line style=\"stroke: #000000; stroke-width: 1.5;\" x1=\"16\" x2=\"96\" y1=\"28.2969\" y2=\"28.2969\"/><text fill=\"#000000\" font-family=\"sans-serif\" font-size=\"14\" font-weight=\"bold\" lengthAdjust=\"spacingAndGlyphs\" textLength=\"67\" x=\"20\" y=\"20.9951\">PartTest</text></a><!--MD5=[b4997ac47864f28c2f74865a473b2911]\n",
       "class E2--><a href=\"psysml:634826b2-2fc2-4798-92ed-071cd1dffdd8\" target=\"_top\" title=\"psysml:634826b2-2fc2-4798-92ed-071cd1dffdd8\" xlink:actuate=\"onRequest\" xlink:href=\"psysml:634826b2-2fc2-4798-92ed-071cd1dffdd8\" xlink:show=\"new\" xlink:title=\"psysml:634826b2-2fc2-4798-92ed-071cd1dffdd8\" xlink:type=\"simple\"><rect fill=\"#FFFFFF\" height=\"45.9375\" id=\"E2\" rx=\"10\" ry=\"10\" style=\"stroke: #383838; stroke-width: 1.5;\" width=\"42\" x=\"32\" y=\"41\"/><text fill=\"#000000\" font-family=\"sans-serif\" font-size=\"12\" font-style=\"italic\" lengthAdjust=\"spacingAndGlyphs\" textLength=\"40\" x=\"33\" y=\"57.1387\">«part»</text><text fill=\"#000000\" font-family=\"sans-serif\" font-size=\"12\" lengthAdjust=\"spacingAndGlyphs\" textLength=\"20\" x=\"43\" y=\"71.1074\">f: A</text><line style=\"stroke: #383838; stroke-width: 1.5;\" x1=\"33\" x2=\"73\" y1=\"78.9375\" y2=\"78.9375\"/></a><!--MD5=[09b614a08d8cba4a07c9adeb5e0fee81]\n",
       "class E3--><a href=\"psysml:36aba5eb-a810-4976-a211-fcdfb7b330f5\" target=\"_top\" title=\"psysml:36aba5eb-a810-4976-a211-fcdfb7b330f5\" xlink:actuate=\"onRequest\" xlink:href=\"psysml:36aba5eb-a810-4976-a211-fcdfb7b330f5\" xlink:show=\"new\" xlink:title=\"psysml:36aba5eb-a810-4976-a211-fcdfb7b330f5\" xlink:type=\"simple\"><rect fill=\"#FFFFFF\" height=\"75.5469\" id=\"E3\" style=\"stroke: #383838; stroke-width: 1.5;\" width=\"66\" x=\"37\" y=\"164\"/><text fill=\"#000000\" font-family=\"sans-serif\" font-size=\"12\" font-style=\"italic\" lengthAdjust=\"spacingAndGlyphs\" textLength=\"64\" x=\"38\" y=\"180.1387\">«part def»</text><text fill=\"#000000\" font-family=\"sans-serif\" font-size=\"12\" lengthAdjust=\"spacingAndGlyphs\" textLength=\"8\" x=\"66\" y=\"194.1074\">A</text><line style=\"stroke: #383838; stroke-width: 1.5;\" x1=\"38\" x2=\"102\" y1=\"201.9375\" y2=\"201.9375\"/><text fill=\"#000000\" font-family=\"sans-serif\" font-size=\"11\" lengthAdjust=\"spacingAndGlyphs\" textLength=\"22\" x=\"43\" y=\"232.9526\">c: C</text><line style=\"stroke: #383838; stroke-width: 1.0;\" x1=\"38\" x2=\"55\" y1=\"216.3398\" y2=\"216.3398\"/><text fill=\"#000000\" font-family=\"sans-serif\" font-size=\"11\" lengthAdjust=\"spacingAndGlyphs\" textLength=\"30\" x=\"55\" y=\"219.6479\">ports</text><line style=\"stroke: #383838; stroke-width: 1.0;\" x1=\"85\" x2=\"102\" y1=\"216.3398\" y2=\"216.3398\"/></a><!--MD5=[ebbe1d658d1005bcc118a6aa81145e00]\n",
       "class E4--><a href=\"psysml:b5150c44-d935-4f31-a69b-527c90fd7c47\" target=\"_top\" title=\"psysml:b5150c44-d935-4f31-a69b-527c90fd7c47\" xlink:actuate=\"onRequest\" xlink:href=\"psysml:b5150c44-d935-4f31-a69b-527c90fd7c47\" xlink:show=\"new\" xlink:title=\"psysml:b5150c44-d935-4f31-a69b-527c90fd7c47\" xlink:type=\"simple\"><rect fill=\"#FFFFFF\" height=\"45.9375\" id=\"E4\" rx=\"10\" ry=\"10\" style=\"stroke: #383838; stroke-width: 1.5;\" width=\"42\" x=\"69\" y=\"317\"/><text fill=\"#000000\" font-family=\"sans-serif\" font-size=\"12\" font-style=\"italic\" lengthAdjust=\"spacingAndGlyphs\" textLength=\"40\" x=\"70\" y=\"333.1387\">«part»</text><text fill=\"#000000\" font-family=\"sans-serif\" font-size=\"12\" lengthAdjust=\"spacingAndGlyphs\" textLength=\"24\" x=\"78\" y=\"347.1074\">b: B</text><line style=\"stroke: #383838; stroke-width: 1.5;\" x1=\"70\" x2=\"110\" y1=\"354.9375\" y2=\"354.9375\"/></a><!--MD5=[60a26617385b1d2d0262a64233df1f8d]\n",
       "class E6--><a href=\"psysml:94fb1c4b-8096-4b0e-a0c8-00d5fe55de6c\" target=\"_top\" title=\"psysml:94fb1c4b-8096-4b0e-a0c8-00d5fe55de6c\" xlink:actuate=\"onRequest\" xlink:href=\"psysml:94fb1c4b-8096-4b0e-a0c8-00d5fe55de6c\" xlink:show=\"new\" xlink:title=\"psysml:94fb1c4b-8096-4b0e-a0c8-00d5fe55de6c\" xlink:type=\"simple\"><rect fill=\"#FFFFFF\" height=\"75.5469\" id=\"E6\" style=\"stroke: #383838; stroke-width: 1.5;\" width=\"66\" x=\"114\" y=\"424\"/><text fill=\"#000000\" font-family=\"sans-serif\" font-size=\"12\" font-style=\"italic\" lengthAdjust=\"spacingAndGlyphs\" textLength=\"64\" x=\"115\" y=\"440.1387\">«part def»</text><text fill=\"#000000\" font-family=\"sans-serif\" font-size=\"12\" lengthAdjust=\"spacingAndGlyphs\" textLength=\"8\" x=\"143\" y=\"454.1074\">B</text><line style=\"stroke: #383838; stroke-width: 1.5;\" x1=\"115\" x2=\"179\" y1=\"461.9375\" y2=\"461.9375\"/><text fill=\"#000000\" font-family=\"sans-serif\" font-size=\"11\" lengthAdjust=\"spacingAndGlyphs\" textLength=\"31\" x=\"120\" y=\"492.9526\">x: ~C</text><line style=\"stroke: #383838; stroke-width: 1.0;\" x1=\"115\" x2=\"132\" y1=\"476.3398\" y2=\"476.3398\"/><text fill=\"#000000\" font-family=\"sans-serif\" font-size=\"11\" lengthAdjust=\"spacingAndGlyphs\" textLength=\"30\" x=\"132\" y=\"479.6479\">ports</text><line style=\"stroke: #383838; stroke-width: 1.0;\" x1=\"162\" x2=\"179\" y1=\"476.3398\" y2=\"476.3398\"/></a><!--MD5=[2156ba9850f5573cc1fc38a6a4b2f02b]\n",
       "class E7--><a href=\"psysml:de084c60-8c86-4761-a316-7296396fb321\" target=\"_top\" title=\"psysml:de084c60-8c86-4761-a316-7296396fb321\" xlink:actuate=\"onRequest\" xlink:href=\"psysml:de084c60-8c86-4761-a316-7296396fb321\" xlink:show=\"new\" xlink:title=\"psysml:de084c60-8c86-4761-a316-7296396fb321\" xlink:type=\"simple\"><rect fill=\"#FFFFFF\" height=\"45.9375\" id=\"E7\" rx=\"10\" ry=\"10\" style=\"stroke: #383838; stroke-width: 1.5;\" width=\"42\" x=\"44\" y=\"564.5\"/><text fill=\"#000000\" font-family=\"sans-serif\" font-size=\"12\" font-style=\"italic\" lengthAdjust=\"spacingAndGlyphs\" textLength=\"40\" x=\"45\" y=\"580.6387\">«part»</text><text fill=\"#000000\" font-family=\"sans-serif\" font-size=\"12\" lengthAdjust=\"spacingAndGlyphs\" textLength=\"24\" x=\"53\" y=\"594.6074\">a: A</text><line style=\"stroke: #383838; stroke-width: 1.5;\" x1=\"45\" x2=\"85\" y1=\"602.4375\" y2=\"602.4375\"/></a><!--MD5=[96f4274e9e20536e775497830990834d]\n",
       "class E10--><a href=\"psysml:4c8e1ce2-7f9a-4661-9090-c510b6f01354\" target=\"_top\" title=\"psysml:4c8e1ce2-7f9a-4661-9090-c510b6f01354\" xlink:actuate=\"onRequest\" xlink:href=\"psysml:4c8e1ce2-7f9a-4661-9090-c510b6f01354\" xlink:show=\"new\" xlink:title=\"psysml:4c8e1ce2-7f9a-4661-9090-c510b6f01354\" xlink:type=\"simple\"><rect fill=\"#FFFFFF\" height=\"45.9375\" id=\"E10\" style=\"stroke: #383838; stroke-width: 1.5;\" width=\"66\" x=\"146\" y=\"41\"/><text fill=\"#000000\" font-family=\"sans-serif\" font-size=\"12\" font-style=\"italic\" lengthAdjust=\"spacingAndGlyphs\" textLength=\"64\" x=\"147\" y=\"57.1387\">«port def»</text><text fill=\"#000000\" font-family=\"sans-serif\" font-size=\"12\" lengthAdjust=\"spacingAndGlyphs\" textLength=\"8\" x=\"175\" y=\"71.1074\">C</text><line style=\"stroke: #383838; stroke-width: 1.5;\" x1=\"147\" x2=\"211\" y1=\"78.9375\" y2=\"78.9375\"/></a><a href=\"psysml:4c76b494-1a6c-482d-b35c-aa72d24bc41e\" target=\"_top\" title=\"psysml:4c76b494-1a6c-482d-b35c-aa72d24bc41e\" xlink:actuate=\"onRequest\" xlink:href=\"psysml:4c76b494-1a6c-482d-b35c-aa72d24bc41e\" xlink:show=\"new\" xlink:title=\"psysml:4c76b494-1a6c-482d-b35c-aa72d24bc41e\" xlink:type=\"simple\"><polygon fill=\"#FFFFFF\" points=\"132,561,148,561,155,583.2969,162,583.2969,162,613.5938,132,613.5938,132,561\" style=\"stroke: #000000; stroke-width: 1.5;\"/><line style=\"stroke: #000000; stroke-width: 1.5;\" x1=\"132\" x2=\"155\" y1=\"583.2969\" y2=\"583.2969\"/><text fill=\"#000000\" font-family=\"sans-serif\" font-size=\"14\" font-weight=\"bold\" lengthAdjust=\"spacingAndGlyphs\" textLength=\"10\" x=\"136\" y=\"575.9951\">P</text></a><!--MD5=[2720a5a1f2c3fca2055b230370638851]\n",
       "link E2 to E3--><a href=\"psysml:38cdc859-4dfa-4bc4-87cd-169dd5acc896\" target=\"_top\" title=\"psysml:38cdc859-4dfa-4bc4-87cd-169dd5acc896\" xlink:actuate=\"onRequest\" xlink:href=\"psysml:38cdc859-4dfa-4bc4-87cd-169dd5acc896\" xlink:show=\"new\" xlink:title=\"psysml:38cdc859-4dfa-4bc4-87cd-169dd5acc896\" xlink:type=\"simple\"><path d=\"M43.23,87.08 C38.46,100.64 34.45,118.34 38,134 C38.82,137.61 39.86,141.26 41.06,144.89 \" fill=\"none\" id=\"E2-&gt;E3\" style=\"stroke: #383838; stroke-width: 1.0;\"/><polygon fill=\"#FFFFFF\" points=\"48.65,163.8,35.0703,148.7803,48.0607,143.5601,48.65,163.8\" style=\"stroke: #383838; stroke-width: 1.0;\"/><ellipse cx=\"34.8007\" cy=\"142.7456\" fill=\"#383838\" rx=\"2\" ry=\"2\" style=\"stroke: #383838; stroke-width: 1.0;\"/><ellipse cx=\"44.0796\" cy=\"139.0169\" fill=\"#383838\" rx=\"2\" ry=\"2\" style=\"stroke: #383838; stroke-width: 1.0;\"/></a><!--MD5=[4672eba38e49728da53d11aeb285b987]\n",
       "reverse link E3 to E4--><a href=\"psysml:5ebdadf2-6044-45bc-aa24-2da7c79aba16\" target=\"_top\" title=\"psysml:5ebdadf2-6044-45bc-aa24-2da7c79aba16\" xlink:actuate=\"onRequest\" xlink:href=\"psysml:5ebdadf2-6044-45bc-aa24-2da7c79aba16\" xlink:show=\"new\" xlink:title=\"psysml:5ebdadf2-6044-45bc-aa24-2da7c79aba16\" xlink:type=\"simple\"><path d=\"M72.88,253.51 C73.88,264.59 75.22,276.22 77,287 C78.64,296.92 81.21,307.72 83.63,316.9 \" fill=\"none\" id=\"E3&lt;-E4\" style=\"stroke: #383838; stroke-width: 1.0;\"/><polygon fill=\"#383838\" points=\"71.81,240.38,68.3042,246.6816,72.7727,252.3413,76.2785,246.0398,71.81,240.38\" style=\"stroke: #383838; stroke-width: 1.0;\"/></a><!--MD5=[79568f1e445c3877b6a54524624ccc7d]\n",
       "link E4 to E6--><a href=\"psysml:1fd8d685-c326-41aa-b421-a8308f20148e\" target=\"_top\" title=\"psysml:1fd8d685-c326-41aa-b421-a8308f20148e\" xlink:actuate=\"onRequest\" xlink:href=\"psysml:1fd8d685-c326-41aa-b421-a8308f20148e\" xlink:show=\"new\" xlink:title=\"psysml:1fd8d685-c326-41aa-b421-a8308f20148e\" xlink:type=\"simple\"><path d=\"M100.45,363.01 C106.1,374.9 113.36,390.18 120.46,405.12 \" fill=\"none\" id=\"E4-&gt;E6\" style=\"stroke: #383838; stroke-width: 1.0;\"/><polygon fill=\"#FFFFFF\" points=\"129.22,423.57,114.7395,409.4167,127.3831,403.405,129.22,423.57\" style=\"stroke: #383838; stroke-width: 1.0;\"/><ellipse cx=\"114.0981\" cy=\"403.4102\" fill=\"#383838\" rx=\"2\" ry=\"2\" style=\"stroke: #383838; stroke-width: 1.0;\"/><ellipse cx=\"123.1292\" cy=\"399.1161\" fill=\"#383838\" rx=\"2\" ry=\"2\" style=\"stroke: #383838; stroke-width: 1.0;\"/></a><!--MD5=[3f50a3473f1dfb74d3f76443e03635af]\n",
       "reverse link E6 to E7--><a href=\"psysml:c471fe89-f766-40f3-82e0-5e28332f3a67\" target=\"_top\" title=\"psysml:c471fe89-f766-40f3-82e0-5e28332f3a67\" xlink:actuate=\"onRequest\" xlink:href=\"psysml:c471fe89-f766-40f3-82e0-5e28332f3a67\" xlink:show=\"new\" xlink:title=\"psysml:c471fe89-f766-40f3-82e0-5e28332f3a67\" xlink:type=\"simple\"><path d=\"M115.19,510.9 C103,529.26 89.67,549.34 79.81,564.19 \" fill=\"none\" id=\"E6&lt;-E7\" style=\"stroke: #383838; stroke-width: 1.0;\"/><polygon fill=\"#383838\" points=\"122.4,500.05,115.7495,502.8377,115.7649,510.0488,122.4154,507.2611,122.4,500.05\" style=\"stroke: #383838; stroke-width: 1.0;\"/></a><!--MD5=[14ccda38c055a5c0da953d572bc50960]\n",
       "link E7 to E3--><a href=\"psysml:ce24e444-eb42-4eaa-91b0-86c1efe7ffc5\" target=\"_top\" title=\"psysml:ce24e444-eb42-4eaa-91b0-86c1efe7ffc5\" xlink:actuate=\"onRequest\" xlink:href=\"psysml:ce24e444-eb42-4eaa-91b0-86c1efe7ffc5\" xlink:show=\"new\" xlink:title=\"psysml:ce24e444-eb42-4eaa-91b0-86c1efe7ffc5\" xlink:type=\"simple\"><path d=\"M61.85,564.46 C55.72,518.43 43.41,408.75 51,317 C52.55,298.29 55.5,278.02 58.63,259.84 \" fill=\"none\" id=\"E7-&gt;E3\" style=\"stroke: #383838; stroke-width: 1.0;\"/><polygon fill=\"#FFFFFF\" points=\"62.24,240.03,65.7193,259.9773,51.9463,257.4667,62.24,240.03\" style=\"stroke: #383838; stroke-width: 1.0;\"/><ellipse cx=\"62.7296\" cy=\"265.2262\" fill=\"#383838\" rx=\"2\" ry=\"2\" style=\"stroke: #383838; stroke-width: 1.0;\"/><ellipse cx=\"52.8917\" cy=\"263.433\" fill=\"#383838\" rx=\"2\" ry=\"2\" style=\"stroke: #383838; stroke-width: 1.0;\"/></a><!--MD5=[e88d06e5a652d73a6b19930eefe025a8]\n",
       "reverse link E6 to E9--><a href=\"psysml:cabff1fd-5442-4a71-976e-341ac2e5dda1\" target=\"_top\" title=\"psysml:cabff1fd-5442-4a71-976e-341ac2e5dda1\" xlink:actuate=\"onRequest\" xlink:href=\"psysml:cabff1fd-5442-4a71-976e-341ac2e5dda1\" xlink:show=\"new\" xlink:title=\"psysml:cabff1fd-5442-4a71-976e-341ac2e5dda1\" xlink:type=\"simple\"><path d=\"M147,515.35 C147,531.08 147,547.65 147,560.83 \" fill=\"none\" id=\"E6&lt;-E9\" style=\"stroke: #383838; stroke-width: 1.0;\"/><ellipse cx=\"147\" cy=\"508.05\" fill=\"#FFFFFF\" rx=\"8\" ry=\"8\" style=\"stroke: #383838; stroke-width: 1.0;\"/><line style=\"stroke: #383838; stroke-width: 1.0;\" x1=\"147\" x2=\"147\" y1=\"516.05\" y2=\"500.05\"/><line style=\"stroke: #383838; stroke-width: 1.0;\" x1=\"139\" x2=\"155\" y1=\"508.05\" y2=\"508.05\"/></a><!--MD5=[8e04057e7b3cbc0dca4fc78ea351e2da]\n",
       "reverse link E10 to E3--><a href=\"psysml:a19db77c-da80-41d6-a5f2-85a22676bfcf\" target=\"_top\" title=\"psysml:a19db77c-da80-41d6-a5f2-85a22676bfcf\" xlink:actuate=\"onRequest\" xlink:href=\"psysml:a19db77c-da80-41d6-a5f2-85a22676bfcf\" xlink:show=\"new\" xlink:title=\"psysml:a19db77c-da80-41d6-a5f2-85a22676bfcf\" xlink:type=\"simple\"><path d=\"M133.33,76.35 C111.95,84.13 88.32,96.81 75,117 C66.07,130.53 63.94,148.12 64.4,163.71 \" fill=\"none\" id=\"E10&lt;-E3\" style=\"stroke: #383838; stroke-width: 1.0;\"/><polygon fill=\"#FFFFFF\" points=\"145.89,72.22,138.939,70.3009,134.494,75.9791,141.445,77.8982,145.89,72.22\" style=\"stroke: #383838; stroke-width: 1.0;\"/><text fill=\"#000000\" font-family=\"sans-serif\" font-size=\"13\" lengthAdjust=\"spacingAndGlyphs\" textLength=\"7\" x=\"76\" y=\"130.0669\">y</text></a><!--MD5=[8e04057e7b3cbc0dca4fc78ea351e2da]\n",
       "reverse link E10 to E3--><a href=\"psysml:a19db77c-da80-41d6-a5f2-85a22676bfcf\" target=\"_top\" title=\"psysml:a19db77c-da80-41d6-a5f2-85a22676bfcf\" xlink:actuate=\"onRequest\" xlink:href=\"psysml:a19db77c-da80-41d6-a5f2-85a22676bfcf\" xlink:show=\"new\" xlink:title=\"psysml:a19db77c-da80-41d6-a5f2-85a22676bfcf\" xlink:type=\"simple\"><path d=\"M143.35,96.28 C136.62,102.85 129.86,109.93 124,117 C112.05,131.41 100.57,148.61 91.29,163.69 \" fill=\"none\" id=\"E10&lt;-E3-1\" style=\"stroke: #383838; stroke-width: 1.0;\"/><polygon fill=\"#FFFFFF\" points=\"153.08,87.1,145.9702,88.3047,144.3478,95.331,151.4576,94.1262,153.08,87.1\" style=\"stroke: #383838; stroke-width: 1.0;\"/><text fill=\"#000000\" font-family=\"sans-serif\" font-size=\"13\" lengthAdjust=\"spacingAndGlyphs\" textLength=\"7\" x=\"125\" y=\"130.0669\">y</text></a><!--MD5=[8e04057e7b3cbc0dca4fc78ea351e2da]\n",
       "reverse link E10 to E3--><a href=\"psysml:a19db77c-da80-41d6-a5f2-85a22676bfcf\" target=\"_top\" title=\"psysml:a19db77c-da80-41d6-a5f2-85a22676bfcf\" xlink:actuate=\"onRequest\" xlink:href=\"psysml:a19db77c-da80-41d6-a5f2-85a22676bfcf\" xlink:show=\"new\" xlink:title=\"psysml:a19db77c-da80-41d6-a5f2-85a22676bfcf\" xlink:type=\"simple\"><path d=\"M158.49,98.17 C150.89,109.8 141.93,122.76 133,134 C123.86,145.5 113.16,157.39 103.19,167.9 \" fill=\"none\" id=\"E10&lt;-E3-2\" style=\"stroke: #383838; stroke-width: 1.0;\"/><polygon fill=\"#FFFFFF\" points=\"165.6,87.1,158.9946,89.9928,159.1242,97.2027,165.7297,94.3099,165.6,87.1\" style=\"stroke: #383838; stroke-width: 1.0;\"/><text fill=\"#000000\" font-family=\"sans-serif\" font-size=\"13\" lengthAdjust=\"spacingAndGlyphs\" textLength=\"7\" x=\"146\" y=\"130.0669\">y</text></a><!--MD5=[604cbf994c02b74b117f728a71673cea]\n",
       "reverse link E10 to E6--><a href=\"psysml:a19db77c-da80-41d6-a5f2-85a22676bfcf\" target=\"_top\" title=\"psysml:a19db77c-da80-41d6-a5f2-85a22676bfcf\" xlink:actuate=\"onRequest\" xlink:href=\"psysml:a19db77c-da80-41d6-a5f2-85a22676bfcf\" xlink:show=\"new\" xlink:title=\"psysml:a19db77c-da80-41d6-a5f2-85a22676bfcf\" xlink:type=\"simple\"><path d=\"M197.26,99.16 C199.64,104.97 201.69,111.05 203,117 C204.62,124.38 203.15,126.45 203,134 C200.78,249.62 229.38,284.23 193,394 C189.58,404.31 184.06,414.48 178.01,423.66 \" fill=\"none\" id=\"E10&lt;-E6\" style=\"stroke: #383838; stroke-width: 1.0;\"/><polygon fill=\"#FFFFFF\" points=\"191.73,87.03,190.583,94.1493,196.7135,97.9463,197.8605,90.827,191.73,87.03\" style=\"stroke: #383838; stroke-width: 1.0;\"/><text fill=\"#000000\" font-family=\"sans-serif\" font-size=\"13\" lengthAdjust=\"spacingAndGlyphs\" textLength=\"7\" x=\"212\" y=\"283.0669\">y</text></a><!--MD5=[604cbf994c02b74b117f728a71673cea]\n",
       "reverse link E10 to E6--><a href=\"psysml:a19db77c-da80-41d6-a5f2-85a22676bfcf\" target=\"_top\" title=\"psysml:a19db77c-da80-41d6-a5f2-85a22676bfcf\" xlink:actuate=\"onRequest\" xlink:href=\"psysml:a19db77c-da80-41d6-a5f2-85a22676bfcf\" xlink:show=\"new\" xlink:title=\"psysml:a19db77c-da80-41d6-a5f2-85a22676bfcf\" xlink:type=\"simple\"><path d=\"M171.02,99.85 C168.34,110.83 165.22,122.97 162,134 C144.13,195.25 126.36,207.04 116,270 C114.77,277.46 114.57,279.58 116,287 C118.72,301.1 124.37,303.11 128,317 C137.32,352.62 142.19,394.45 144.65,423.82 \" fill=\"none\" id=\"E10&lt;-E6-1\" style=\"stroke: #383838; stroke-width: 1.0;\"/><polygon fill=\"#FFFFFF\" points=\"174.04,87.19,168.7576,92.0987,171.257,98.8628,176.5394,93.9541,174.04,87.19\" style=\"stroke: #383838; stroke-width: 1.0;\"/><text fill=\"#000000\" font-family=\"sans-serif\" font-size=\"13\" lengthAdjust=\"spacingAndGlyphs\" textLength=\"7\" x=\"117\" y=\"283.0669\">y</text></a><!--MD5=[604cbf994c02b74b117f728a71673cea]\n",
       "reverse link E10 to E6--><a href=\"psysml:a19db77c-da80-41d6-a5f2-85a22676bfcf\" target=\"_top\" title=\"psysml:a19db77c-da80-41d6-a5f2-85a22676bfcf\" xlink:actuate=\"onRequest\" xlink:href=\"psysml:a19db77c-da80-41d6-a5f2-85a22676bfcf\" xlink:show=\"new\" xlink:title=\"psysml:a19db77c-da80-41d6-a5f2-85a22676bfcf\" xlink:type=\"simple\"><path d=\"M176.15,100.27 C170.13,174.82 156.15,347.78 150,423.9 \" fill=\"none\" id=\"E10&lt;-E6-2\" style=\"stroke: #383838; stroke-width: 1.0;\"/><polygon fill=\"#FFFFFF\" points=\"177.21,87.14,172.7415,92.7998,176.2473,99.1013,180.7158,93.4416,177.21,87.14\" style=\"stroke: #383838; stroke-width: 1.0;\"/><text fill=\"#000000\" font-family=\"sans-serif\" font-size=\"13\" lengthAdjust=\"spacingAndGlyphs\" textLength=\"7\" x=\"163\" y=\"283.0669\">y</text></a><!--MD5=[54d7b207864003fec48dcf798ef69aef]\n",
       "@startuml\r\n",
       "top to bottom direction\r\n",
       "skinparam monochrome true\r\n",
       "skinparam classbackgroundcolor white\r\n",
       "skinparam shadowing false\r\n",
       "skinparam wrapWidth 300\r\n",
       "hide circle\r\n",
       "\r\n",
       "package \"PartTest\" as E1  [[psysml:c65cc0cd-28b1-4d7a-bc05-02136890ed9a ]]  {\r\n",
       "comp usage \"f: A\" as E2  <<(T,blue)part>> [[psysml:634826b2-2fc2-4798-92ed-071cd1dffdd8 ]] {\r\n",
       "}\r\n",
       "comp def \"A\" as E3  <<(T,blue)part def>> [[psysml:36aba5eb-a810-4976-a211-fcdfb7b330f5 ]] {\r\n",
       "- - ports - -\r\n",
       "c: C\r\n",
       "}\r\n",
       "comp usage \"b: B\" as E4  <<(T,blue)part>> [[psysml:b5150c44-d935-4f31-a69b-527c90fd7c47 ]] {\r\n",
       "}\r\n",
       "comp def \"B\" as E6  <<(T,blue)part def>> [[psysml:94fb1c4b-8096-4b0e-a0c8-00d5fe55de6c ]] {\r\n",
       "- - ports - -\r\n",
       "x: ~C\r\n",
       "}\r\n",
       "comp usage \"a: A\" as E7  <<(T,blue)part>> [[psysml:de084c60-8c86-4761-a316-7296396fb321 ]] {\r\n",
       "}\r\n",
       "package \"P\" as E9  [[psysml:4c76b494-1a6c-482d-b35c-aa72d24bc41e ]]  {\r\n",
       "}\r\n",
       "comp def \"C\" as E10  <<(T,blue)port def>> [[psysml:4c8e1ce2-7f9a-4661-9090-c510b6f01354 ]] {\r\n",
       "}\r\n",
       "E2 - -:|> E3 [[psysml:38cdc859-4dfa-4bc4-87cd-169dd5acc896 ]] \r\n",
       "E3 *- - E4 [[psysml:5ebdadf2-6044-45bc-aa24-2da7c79aba16 ]] \r\n",
       "E4 - -:|> E6 [[psysml:1fd8d685-c326-41aa-b421-a8308f20148e ]] \r\n",
       "E6 *- - E7 [[psysml:c471fe89-f766-40f3-82e0-5e28332f3a67 ]] \r\n",
       "E7 - -:|> E3 [[psysml:ce24e444-eb42-4eaa-91b0-86c1efe7ffc5 ]] \r\n",
       "E6 +- - E9 [[psysml:cabff1fd-5442-4a71-976e-341ac2e5dda1 ]] \r\n",
       "E10 o- - E3 [[psysml:a19db77c-da80-41d6-a5f2-85a22676bfcf ]] : y\r\n",
       "E10 o- - E6 [[psysml:a19db77c-da80-41d6-a5f2-85a22676bfcf ]] : y\r\n",
       "E10 o- - E3 [[psysml:a19db77c-da80-41d6-a5f2-85a22676bfcf ]] : y\r\n",
       "E10 o- - E6 [[psysml:a19db77c-da80-41d6-a5f2-85a22676bfcf ]] : y\r\n",
       "E10 o- - E3 [[psysml:a19db77c-da80-41d6-a5f2-85a22676bfcf ]] : y\r\n",
       "E10 o- - E6 [[psysml:a19db77c-da80-41d6-a5f2-85a22676bfcf ]] : y\r\n",
       "}\r\n",
       "@enduml\r\n",
       "\n",
       "PlantUML version 1.2020.13(Sat Jun 13 12:26:38 UTC 2020)\n",
       "(EPL source distribution)\n",
       "Java Runtime: OpenJDK Runtime Environment\n",
       "JVM: OpenJDK 64-Bit Server VM\n",
       "Default Encoding: UTF-8\n",
       "Language: en\n",
       "Country: null\n",
       "--></g></svg>"
      ]
     },
     "execution_count": 44,
     "metadata": {},
     "output_type": "execute_result"
    }
   ],
   "source": [
    "%viz --style=\"TB\" --view=\"Default\" \"PartTest\""
   ]
  },
  {
   "cell_type": "code",
   "execution_count": 45,
   "id": "7b4121e2",
   "metadata": {
    "execution": {
     "iopub.execute_input": "2021-04-20T07:29:15.789893Z",
     "iopub.status.busy": "2021-04-20T07:29:15.787854Z",
     "iopub.status.idle": "2021-04-20T07:29:15.892640Z",
     "shell.execute_reply": "2021-04-20T07:29:15.891776Z"
    }
   },
   "outputs": [
    {
     "data": {
      "image/svg+xml": [
       "<?xml version=\"1.0\" encoding=\"UTF-8\" standalone=\"no\"?><svg xmlns=\"http://www.w3.org/2000/svg\" xmlns:xlink=\"http://www.w3.org/1999/xlink\" contentScriptType=\"application/ecmascript\" contentStyleType=\"text/css\" height=\"642px\" preserveAspectRatio=\"none\" style=\"width:260px;height:642px;\" version=\"1.1\" viewBox=\"0 0 260 642\" width=\"260px\" zoomAndPan=\"magnify\"><defs/><g><!--MD5=[fbc87193dbaf4d95561dea2c320d4a47]\n",
       "cluster E1--><a href=\"psysml:c65cc0cd-28b1-4d7a-bc05-02136890ed9a\" target=\"_top\" title=\"psysml:c65cc0cd-28b1-4d7a-bc05-02136890ed9a\" xlink:actuate=\"onRequest\" xlink:href=\"psysml:c65cc0cd-28b1-4d7a-bc05-02136890ed9a\" xlink:show=\"new\" xlink:title=\"psysml:c65cc0cd-28b1-4d7a-bc05-02136890ed9a\" xlink:type=\"simple\"><polygon fill=\"#FFFFFF\" points=\"16,6,89,6,96,28.2969,238,28.2969,238,630,16,630,16,6\" style=\"stroke: #000000; stroke-width: 1.5;\"/><line style=\"stroke: #000000; stroke-width: 1.5;\" x1=\"16\" x2=\"96\" y1=\"28.2969\" y2=\"28.2969\"/><text fill=\"#000000\" font-family=\"sans-serif\" font-size=\"14\" font-weight=\"bold\" lengthAdjust=\"spacingAndGlyphs\" textLength=\"67\" x=\"20\" y=\"20.9951\">PartTest</text></a><!--MD5=[b4997ac47864f28c2f74865a473b2911]\n",
       "class E2--><a href=\"psysml:634826b2-2fc2-4798-92ed-071cd1dffdd8\" target=\"_top\" title=\"psysml:634826b2-2fc2-4798-92ed-071cd1dffdd8\" xlink:actuate=\"onRequest\" xlink:href=\"psysml:634826b2-2fc2-4798-92ed-071cd1dffdd8\" xlink:show=\"new\" xlink:title=\"psysml:634826b2-2fc2-4798-92ed-071cd1dffdd8\" xlink:type=\"simple\"><rect fill=\"#FFFFFF\" height=\"45.9375\" id=\"E2\" rx=\"10\" ry=\"10\" style=\"stroke: #383838; stroke-width: 1.5;\" width=\"42\" x=\"32\" y=\"41\"/><text fill=\"#000000\" font-family=\"sans-serif\" font-size=\"12\" font-style=\"italic\" lengthAdjust=\"spacingAndGlyphs\" textLength=\"40\" x=\"33\" y=\"57.1387\">«part»</text><text fill=\"#000000\" font-family=\"sans-serif\" font-size=\"12\" lengthAdjust=\"spacingAndGlyphs\" textLength=\"20\" x=\"43\" y=\"71.1074\">f: A</text><line style=\"stroke: #383838; stroke-width: 1.5;\" x1=\"33\" x2=\"73\" y1=\"78.9375\" y2=\"78.9375\"/></a><!--MD5=[09b614a08d8cba4a07c9adeb5e0fee81]\n",
       "class E3--><a href=\"psysml:36aba5eb-a810-4976-a211-fcdfb7b330f5\" target=\"_top\" title=\"psysml:36aba5eb-a810-4976-a211-fcdfb7b330f5\" xlink:actuate=\"onRequest\" xlink:href=\"psysml:36aba5eb-a810-4976-a211-fcdfb7b330f5\" xlink:show=\"new\" xlink:title=\"psysml:36aba5eb-a810-4976-a211-fcdfb7b330f5\" xlink:type=\"simple\"><rect fill=\"#FFFFFF\" height=\"75.5469\" id=\"E3\" style=\"stroke: #383838; stroke-width: 1.5;\" width=\"66\" x=\"37\" y=\"164\"/><text fill=\"#000000\" font-family=\"sans-serif\" font-size=\"12\" font-style=\"italic\" lengthAdjust=\"spacingAndGlyphs\" textLength=\"64\" x=\"38\" y=\"180.1387\">«part def»</text><text fill=\"#000000\" font-family=\"sans-serif\" font-size=\"12\" lengthAdjust=\"spacingAndGlyphs\" textLength=\"8\" x=\"66\" y=\"194.1074\">A</text><line style=\"stroke: #383838; stroke-width: 1.5;\" x1=\"38\" x2=\"102\" y1=\"201.9375\" y2=\"201.9375\"/><text fill=\"#000000\" font-family=\"sans-serif\" font-size=\"11\" lengthAdjust=\"spacingAndGlyphs\" textLength=\"22\" x=\"43\" y=\"232.9526\">c: C</text><line style=\"stroke: #383838; stroke-width: 1.0;\" x1=\"38\" x2=\"55\" y1=\"216.3398\" y2=\"216.3398\"/><text fill=\"#000000\" font-family=\"sans-serif\" font-size=\"11\" lengthAdjust=\"spacingAndGlyphs\" textLength=\"30\" x=\"55\" y=\"219.6479\">ports</text><line style=\"stroke: #383838; stroke-width: 1.0;\" x1=\"85\" x2=\"102\" y1=\"216.3398\" y2=\"216.3398\"/></a><!--MD5=[ebbe1d658d1005bcc118a6aa81145e00]\n",
       "class E4--><a href=\"psysml:b5150c44-d935-4f31-a69b-527c90fd7c47\" target=\"_top\" title=\"psysml:b5150c44-d935-4f31-a69b-527c90fd7c47\" xlink:actuate=\"onRequest\" xlink:href=\"psysml:b5150c44-d935-4f31-a69b-527c90fd7c47\" xlink:show=\"new\" xlink:title=\"psysml:b5150c44-d935-4f31-a69b-527c90fd7c47\" xlink:type=\"simple\"><rect fill=\"#FFFFFF\" height=\"45.9375\" id=\"E4\" rx=\"10\" ry=\"10\" style=\"stroke: #383838; stroke-width: 1.5;\" width=\"42\" x=\"69\" y=\"317\"/><text fill=\"#000000\" font-family=\"sans-serif\" font-size=\"12\" font-style=\"italic\" lengthAdjust=\"spacingAndGlyphs\" textLength=\"40\" x=\"70\" y=\"333.1387\">«part»</text><text fill=\"#000000\" font-family=\"sans-serif\" font-size=\"12\" lengthAdjust=\"spacingAndGlyphs\" textLength=\"24\" x=\"78\" y=\"347.1074\">b: B</text><line style=\"stroke: #383838; stroke-width: 1.5;\" x1=\"70\" x2=\"110\" y1=\"354.9375\" y2=\"354.9375\"/></a><!--MD5=[60a26617385b1d2d0262a64233df1f8d]\n",
       "class E6--><a href=\"psysml:94fb1c4b-8096-4b0e-a0c8-00d5fe55de6c\" target=\"_top\" title=\"psysml:94fb1c4b-8096-4b0e-a0c8-00d5fe55de6c\" xlink:actuate=\"onRequest\" xlink:href=\"psysml:94fb1c4b-8096-4b0e-a0c8-00d5fe55de6c\" xlink:show=\"new\" xlink:title=\"psysml:94fb1c4b-8096-4b0e-a0c8-00d5fe55de6c\" xlink:type=\"simple\"><rect fill=\"#FFFFFF\" height=\"75.5469\" id=\"E6\" style=\"stroke: #383838; stroke-width: 1.5;\" width=\"66\" x=\"114\" y=\"424\"/><text fill=\"#000000\" font-family=\"sans-serif\" font-size=\"12\" font-style=\"italic\" lengthAdjust=\"spacingAndGlyphs\" textLength=\"64\" x=\"115\" y=\"440.1387\">«part def»</text><text fill=\"#000000\" font-family=\"sans-serif\" font-size=\"12\" lengthAdjust=\"spacingAndGlyphs\" textLength=\"8\" x=\"143\" y=\"454.1074\">B</text><line style=\"stroke: #383838; stroke-width: 1.5;\" x1=\"115\" x2=\"179\" y1=\"461.9375\" y2=\"461.9375\"/><text fill=\"#000000\" font-family=\"sans-serif\" font-size=\"11\" lengthAdjust=\"spacingAndGlyphs\" textLength=\"31\" x=\"120\" y=\"492.9526\">x: ~C</text><line style=\"stroke: #383838; stroke-width: 1.0;\" x1=\"115\" x2=\"132\" y1=\"476.3398\" y2=\"476.3398\"/><text fill=\"#000000\" font-family=\"sans-serif\" font-size=\"11\" lengthAdjust=\"spacingAndGlyphs\" textLength=\"30\" x=\"132\" y=\"479.6479\">ports</text><line style=\"stroke: #383838; stroke-width: 1.0;\" x1=\"162\" x2=\"179\" y1=\"476.3398\" y2=\"476.3398\"/></a><!--MD5=[2156ba9850f5573cc1fc38a6a4b2f02b]\n",
       "class E7--><a href=\"psysml:de084c60-8c86-4761-a316-7296396fb321\" target=\"_top\" title=\"psysml:de084c60-8c86-4761-a316-7296396fb321\" xlink:actuate=\"onRequest\" xlink:href=\"psysml:de084c60-8c86-4761-a316-7296396fb321\" xlink:show=\"new\" xlink:title=\"psysml:de084c60-8c86-4761-a316-7296396fb321\" xlink:type=\"simple\"><rect fill=\"#FFFFFF\" height=\"45.9375\" id=\"E7\" rx=\"10\" ry=\"10\" style=\"stroke: #383838; stroke-width: 1.5;\" width=\"42\" x=\"44\" y=\"564.5\"/><text fill=\"#000000\" font-family=\"sans-serif\" font-size=\"12\" font-style=\"italic\" lengthAdjust=\"spacingAndGlyphs\" textLength=\"40\" x=\"45\" y=\"580.6387\">«part»</text><text fill=\"#000000\" font-family=\"sans-serif\" font-size=\"12\" lengthAdjust=\"spacingAndGlyphs\" textLength=\"24\" x=\"53\" y=\"594.6074\">a: A</text><line style=\"stroke: #383838; stroke-width: 1.5;\" x1=\"45\" x2=\"85\" y1=\"602.4375\" y2=\"602.4375\"/></a><!--MD5=[96f4274e9e20536e775497830990834d]\n",
       "class E10--><a href=\"psysml:4c8e1ce2-7f9a-4661-9090-c510b6f01354\" target=\"_top\" title=\"psysml:4c8e1ce2-7f9a-4661-9090-c510b6f01354\" xlink:actuate=\"onRequest\" xlink:href=\"psysml:4c8e1ce2-7f9a-4661-9090-c510b6f01354\" xlink:show=\"new\" xlink:title=\"psysml:4c8e1ce2-7f9a-4661-9090-c510b6f01354\" xlink:type=\"simple\"><rect fill=\"#FFFFFF\" height=\"45.9375\" id=\"E10\" style=\"stroke: #383838; stroke-width: 1.5;\" width=\"66\" x=\"146\" y=\"41\"/><text fill=\"#000000\" font-family=\"sans-serif\" font-size=\"12\" font-style=\"italic\" lengthAdjust=\"spacingAndGlyphs\" textLength=\"64\" x=\"147\" y=\"57.1387\">«port def»</text><text fill=\"#000000\" font-family=\"sans-serif\" font-size=\"12\" lengthAdjust=\"spacingAndGlyphs\" textLength=\"8\" x=\"175\" y=\"71.1074\">C</text><line style=\"stroke: #383838; stroke-width: 1.5;\" x1=\"147\" x2=\"211\" y1=\"78.9375\" y2=\"78.9375\"/></a><a href=\"psysml:4c76b494-1a6c-482d-b35c-aa72d24bc41e\" target=\"_top\" title=\"psysml:4c76b494-1a6c-482d-b35c-aa72d24bc41e\" xlink:actuate=\"onRequest\" xlink:href=\"psysml:4c76b494-1a6c-482d-b35c-aa72d24bc41e\" xlink:show=\"new\" xlink:title=\"psysml:4c76b494-1a6c-482d-b35c-aa72d24bc41e\" xlink:type=\"simple\"><polygon fill=\"#FFFFFF\" points=\"132,561,148,561,155,583.2969,162,583.2969,162,613.5938,132,613.5938,132,561\" style=\"stroke: #000000; stroke-width: 1.5;\"/><line style=\"stroke: #000000; stroke-width: 1.5;\" x1=\"132\" x2=\"155\" y1=\"583.2969\" y2=\"583.2969\"/><text fill=\"#000000\" font-family=\"sans-serif\" font-size=\"14\" font-weight=\"bold\" lengthAdjust=\"spacingAndGlyphs\" textLength=\"10\" x=\"136\" y=\"575.9951\">P</text></a><!--MD5=[2720a5a1f2c3fca2055b230370638851]\n",
       "link E2 to E3--><a href=\"psysml:38cdc859-4dfa-4bc4-87cd-169dd5acc896\" target=\"_top\" title=\"psysml:38cdc859-4dfa-4bc4-87cd-169dd5acc896\" xlink:actuate=\"onRequest\" xlink:href=\"psysml:38cdc859-4dfa-4bc4-87cd-169dd5acc896\" xlink:show=\"new\" xlink:title=\"psysml:38cdc859-4dfa-4bc4-87cd-169dd5acc896\" xlink:type=\"simple\"><path d=\"M43.23,87.08 C38.46,100.64 34.45,118.34 38,134 C38.82,137.61 39.86,141.26 41.06,144.89 \" fill=\"none\" id=\"E2-&gt;E3\" style=\"stroke: #383838; stroke-width: 1.0;\"/><polygon fill=\"#FFFFFF\" points=\"48.65,163.8,35.0703,148.7803,48.0607,143.5601,48.65,163.8\" style=\"stroke: #383838; stroke-width: 1.0;\"/><ellipse cx=\"34.8007\" cy=\"142.7456\" fill=\"#383838\" rx=\"2\" ry=\"2\" style=\"stroke: #383838; stroke-width: 1.0;\"/><ellipse cx=\"44.0796\" cy=\"139.0169\" fill=\"#383838\" rx=\"2\" ry=\"2\" style=\"stroke: #383838; stroke-width: 1.0;\"/></a><!--MD5=[4672eba38e49728da53d11aeb285b987]\n",
       "reverse link E3 to E4--><a href=\"psysml:5ebdadf2-6044-45bc-aa24-2da7c79aba16\" target=\"_top\" title=\"psysml:5ebdadf2-6044-45bc-aa24-2da7c79aba16\" xlink:actuate=\"onRequest\" xlink:href=\"psysml:5ebdadf2-6044-45bc-aa24-2da7c79aba16\" xlink:show=\"new\" xlink:title=\"psysml:5ebdadf2-6044-45bc-aa24-2da7c79aba16\" xlink:type=\"simple\"><path d=\"M72.88,253.51 C73.88,264.59 75.22,276.22 77,287 C78.64,296.92 81.21,307.72 83.63,316.9 \" fill=\"none\" id=\"E3&lt;-E4\" style=\"stroke: #383838; stroke-width: 1.0;\"/><polygon fill=\"#383838\" points=\"71.81,240.38,68.3042,246.6816,72.7727,252.3413,76.2785,246.0398,71.81,240.38\" style=\"stroke: #383838; stroke-width: 1.0;\"/></a><!--MD5=[79568f1e445c3877b6a54524624ccc7d]\n",
       "link E4 to E6--><a href=\"psysml:1fd8d685-c326-41aa-b421-a8308f20148e\" target=\"_top\" title=\"psysml:1fd8d685-c326-41aa-b421-a8308f20148e\" xlink:actuate=\"onRequest\" xlink:href=\"psysml:1fd8d685-c326-41aa-b421-a8308f20148e\" xlink:show=\"new\" xlink:title=\"psysml:1fd8d685-c326-41aa-b421-a8308f20148e\" xlink:type=\"simple\"><path d=\"M100.45,363.01 C106.1,374.9 113.36,390.18 120.46,405.12 \" fill=\"none\" id=\"E4-&gt;E6\" style=\"stroke: #383838; stroke-width: 1.0;\"/><polygon fill=\"#FFFFFF\" points=\"129.22,423.57,114.7395,409.4167,127.3831,403.405,129.22,423.57\" style=\"stroke: #383838; stroke-width: 1.0;\"/><ellipse cx=\"114.0981\" cy=\"403.4102\" fill=\"#383838\" rx=\"2\" ry=\"2\" style=\"stroke: #383838; stroke-width: 1.0;\"/><ellipse cx=\"123.1292\" cy=\"399.1161\" fill=\"#383838\" rx=\"2\" ry=\"2\" style=\"stroke: #383838; stroke-width: 1.0;\"/></a><!--MD5=[3f50a3473f1dfb74d3f76443e03635af]\n",
       "reverse link E6 to E7--><a href=\"psysml:c471fe89-f766-40f3-82e0-5e28332f3a67\" target=\"_top\" title=\"psysml:c471fe89-f766-40f3-82e0-5e28332f3a67\" xlink:actuate=\"onRequest\" xlink:href=\"psysml:c471fe89-f766-40f3-82e0-5e28332f3a67\" xlink:show=\"new\" xlink:title=\"psysml:c471fe89-f766-40f3-82e0-5e28332f3a67\" xlink:type=\"simple\"><path d=\"M115.19,510.9 C103,529.26 89.67,549.34 79.81,564.19 \" fill=\"none\" id=\"E6&lt;-E7\" style=\"stroke: #383838; stroke-width: 1.0;\"/><polygon fill=\"#383838\" points=\"122.4,500.05,115.7495,502.8377,115.7649,510.0488,122.4154,507.2611,122.4,500.05\" style=\"stroke: #383838; stroke-width: 1.0;\"/></a><!--MD5=[14ccda38c055a5c0da953d572bc50960]\n",
       "link E7 to E3--><a href=\"psysml:ce24e444-eb42-4eaa-91b0-86c1efe7ffc5\" target=\"_top\" title=\"psysml:ce24e444-eb42-4eaa-91b0-86c1efe7ffc5\" xlink:actuate=\"onRequest\" xlink:href=\"psysml:ce24e444-eb42-4eaa-91b0-86c1efe7ffc5\" xlink:show=\"new\" xlink:title=\"psysml:ce24e444-eb42-4eaa-91b0-86c1efe7ffc5\" xlink:type=\"simple\"><path d=\"M61.85,564.46 C55.72,518.43 43.41,408.75 51,317 C52.55,298.29 55.5,278.02 58.63,259.84 \" fill=\"none\" id=\"E7-&gt;E3\" style=\"stroke: #383838; stroke-width: 1.0;\"/><polygon fill=\"#FFFFFF\" points=\"62.24,240.03,65.7193,259.9773,51.9463,257.4667,62.24,240.03\" style=\"stroke: #383838; stroke-width: 1.0;\"/><ellipse cx=\"62.7296\" cy=\"265.2262\" fill=\"#383838\" rx=\"2\" ry=\"2\" style=\"stroke: #383838; stroke-width: 1.0;\"/><ellipse cx=\"52.8917\" cy=\"263.433\" fill=\"#383838\" rx=\"2\" ry=\"2\" style=\"stroke: #383838; stroke-width: 1.0;\"/></a><!--MD5=[e88d06e5a652d73a6b19930eefe025a8]\n",
       "reverse link E6 to E9--><a href=\"psysml:cabff1fd-5442-4a71-976e-341ac2e5dda1\" target=\"_top\" title=\"psysml:cabff1fd-5442-4a71-976e-341ac2e5dda1\" xlink:actuate=\"onRequest\" xlink:href=\"psysml:cabff1fd-5442-4a71-976e-341ac2e5dda1\" xlink:show=\"new\" xlink:title=\"psysml:cabff1fd-5442-4a71-976e-341ac2e5dda1\" xlink:type=\"simple\"><path d=\"M147,515.35 C147,531.08 147,547.65 147,560.83 \" fill=\"none\" id=\"E6&lt;-E9\" style=\"stroke: #383838; stroke-width: 1.0;\"/><ellipse cx=\"147\" cy=\"508.05\" fill=\"#FFFFFF\" rx=\"8\" ry=\"8\" style=\"stroke: #383838; stroke-width: 1.0;\"/><line style=\"stroke: #383838; stroke-width: 1.0;\" x1=\"147\" x2=\"147\" y1=\"516.05\" y2=\"500.05\"/><line style=\"stroke: #383838; stroke-width: 1.0;\" x1=\"139\" x2=\"155\" y1=\"508.05\" y2=\"508.05\"/></a><!--MD5=[8e04057e7b3cbc0dca4fc78ea351e2da]\n",
       "reverse link E10 to E3--><a href=\"psysml:a19db77c-da80-41d6-a5f2-85a22676bfcf\" target=\"_top\" title=\"psysml:a19db77c-da80-41d6-a5f2-85a22676bfcf\" xlink:actuate=\"onRequest\" xlink:href=\"psysml:a19db77c-da80-41d6-a5f2-85a22676bfcf\" xlink:show=\"new\" xlink:title=\"psysml:a19db77c-da80-41d6-a5f2-85a22676bfcf\" xlink:type=\"simple\"><path d=\"M133.33,76.35 C111.95,84.13 88.32,96.81 75,117 C66.07,130.53 63.94,148.12 64.4,163.71 \" fill=\"none\" id=\"E10&lt;-E3\" style=\"stroke: #383838; stroke-width: 1.0;\"/><polygon fill=\"#FFFFFF\" points=\"145.89,72.22,138.939,70.3009,134.494,75.9791,141.445,77.8982,145.89,72.22\" style=\"stroke: #383838; stroke-width: 1.0;\"/><text fill=\"#000000\" font-family=\"sans-serif\" font-size=\"13\" lengthAdjust=\"spacingAndGlyphs\" textLength=\"7\" x=\"76\" y=\"130.0669\">y</text></a><!--MD5=[8e04057e7b3cbc0dca4fc78ea351e2da]\n",
       "reverse link E10 to E3--><a href=\"psysml:a19db77c-da80-41d6-a5f2-85a22676bfcf\" target=\"_top\" title=\"psysml:a19db77c-da80-41d6-a5f2-85a22676bfcf\" xlink:actuate=\"onRequest\" xlink:href=\"psysml:a19db77c-da80-41d6-a5f2-85a22676bfcf\" xlink:show=\"new\" xlink:title=\"psysml:a19db77c-da80-41d6-a5f2-85a22676bfcf\" xlink:type=\"simple\"><path d=\"M143.35,96.28 C136.62,102.85 129.86,109.93 124,117 C112.05,131.41 100.57,148.61 91.29,163.69 \" fill=\"none\" id=\"E10&lt;-E3-1\" style=\"stroke: #383838; stroke-width: 1.0;\"/><polygon fill=\"#FFFFFF\" points=\"153.08,87.1,145.9702,88.3047,144.3478,95.331,151.4576,94.1262,153.08,87.1\" style=\"stroke: #383838; stroke-width: 1.0;\"/><text fill=\"#000000\" font-family=\"sans-serif\" font-size=\"13\" lengthAdjust=\"spacingAndGlyphs\" textLength=\"7\" x=\"125\" y=\"130.0669\">y</text></a><!--MD5=[8e04057e7b3cbc0dca4fc78ea351e2da]\n",
       "reverse link E10 to E3--><a href=\"psysml:a19db77c-da80-41d6-a5f2-85a22676bfcf\" target=\"_top\" title=\"psysml:a19db77c-da80-41d6-a5f2-85a22676bfcf\" xlink:actuate=\"onRequest\" xlink:href=\"psysml:a19db77c-da80-41d6-a5f2-85a22676bfcf\" xlink:show=\"new\" xlink:title=\"psysml:a19db77c-da80-41d6-a5f2-85a22676bfcf\" xlink:type=\"simple\"><path d=\"M158.49,98.17 C150.89,109.8 141.93,122.76 133,134 C123.86,145.5 113.16,157.39 103.19,167.9 \" fill=\"none\" id=\"E10&lt;-E3-2\" style=\"stroke: #383838; stroke-width: 1.0;\"/><polygon fill=\"#FFFFFF\" points=\"165.6,87.1,158.9946,89.9928,159.1242,97.2027,165.7297,94.3099,165.6,87.1\" style=\"stroke: #383838; stroke-width: 1.0;\"/><text fill=\"#000000\" font-family=\"sans-serif\" font-size=\"13\" lengthAdjust=\"spacingAndGlyphs\" textLength=\"7\" x=\"146\" y=\"130.0669\">y</text></a><!--MD5=[604cbf994c02b74b117f728a71673cea]\n",
       "reverse link E10 to E6--><a href=\"psysml:a19db77c-da80-41d6-a5f2-85a22676bfcf\" target=\"_top\" title=\"psysml:a19db77c-da80-41d6-a5f2-85a22676bfcf\" xlink:actuate=\"onRequest\" xlink:href=\"psysml:a19db77c-da80-41d6-a5f2-85a22676bfcf\" xlink:show=\"new\" xlink:title=\"psysml:a19db77c-da80-41d6-a5f2-85a22676bfcf\" xlink:type=\"simple\"><path d=\"M197.26,99.16 C199.64,104.97 201.69,111.05 203,117 C204.62,124.38 203.15,126.45 203,134 C200.78,249.62 229.38,284.23 193,394 C189.58,404.31 184.06,414.48 178.01,423.66 \" fill=\"none\" id=\"E10&lt;-E6\" style=\"stroke: #383838; stroke-width: 1.0;\"/><polygon fill=\"#FFFFFF\" points=\"191.73,87.03,190.583,94.1493,196.7135,97.9463,197.8605,90.827,191.73,87.03\" style=\"stroke: #383838; stroke-width: 1.0;\"/><text fill=\"#000000\" font-family=\"sans-serif\" font-size=\"13\" lengthAdjust=\"spacingAndGlyphs\" textLength=\"7\" x=\"212\" y=\"283.0669\">y</text></a><!--MD5=[604cbf994c02b74b117f728a71673cea]\n",
       "reverse link E10 to E6--><a href=\"psysml:a19db77c-da80-41d6-a5f2-85a22676bfcf\" target=\"_top\" title=\"psysml:a19db77c-da80-41d6-a5f2-85a22676bfcf\" xlink:actuate=\"onRequest\" xlink:href=\"psysml:a19db77c-da80-41d6-a5f2-85a22676bfcf\" xlink:show=\"new\" xlink:title=\"psysml:a19db77c-da80-41d6-a5f2-85a22676bfcf\" xlink:type=\"simple\"><path d=\"M171.02,99.85 C168.34,110.83 165.22,122.97 162,134 C144.13,195.25 126.36,207.04 116,270 C114.77,277.46 114.57,279.58 116,287 C118.72,301.1 124.37,303.11 128,317 C137.32,352.62 142.19,394.45 144.65,423.82 \" fill=\"none\" id=\"E10&lt;-E6-1\" style=\"stroke: #383838; stroke-width: 1.0;\"/><polygon fill=\"#FFFFFF\" points=\"174.04,87.19,168.7576,92.0987,171.257,98.8628,176.5394,93.9541,174.04,87.19\" style=\"stroke: #383838; stroke-width: 1.0;\"/><text fill=\"#000000\" font-family=\"sans-serif\" font-size=\"13\" lengthAdjust=\"spacingAndGlyphs\" textLength=\"7\" x=\"117\" y=\"283.0669\">y</text></a><!--MD5=[604cbf994c02b74b117f728a71673cea]\n",
       "reverse link E10 to E6--><a href=\"psysml:a19db77c-da80-41d6-a5f2-85a22676bfcf\" target=\"_top\" title=\"psysml:a19db77c-da80-41d6-a5f2-85a22676bfcf\" xlink:actuate=\"onRequest\" xlink:href=\"psysml:a19db77c-da80-41d6-a5f2-85a22676bfcf\" xlink:show=\"new\" xlink:title=\"psysml:a19db77c-da80-41d6-a5f2-85a22676bfcf\" xlink:type=\"simple\"><path d=\"M176.15,100.27 C170.13,174.82 156.15,347.78 150,423.9 \" fill=\"none\" id=\"E10&lt;-E6-2\" style=\"stroke: #383838; stroke-width: 1.0;\"/><polygon fill=\"#FFFFFF\" points=\"177.21,87.14,172.7415,92.7998,176.2473,99.1013,180.7158,93.4416,177.21,87.14\" style=\"stroke: #383838; stroke-width: 1.0;\"/><text fill=\"#000000\" font-family=\"sans-serif\" font-size=\"13\" lengthAdjust=\"spacingAndGlyphs\" textLength=\"7\" x=\"163\" y=\"283.0669\">y</text></a><!--MD5=[54d7b207864003fec48dcf798ef69aef]\n",
       "@startuml\r\n",
       "top to bottom direction\r\n",
       "skinparam monochrome true\r\n",
       "skinparam classbackgroundcolor white\r\n",
       "skinparam shadowing false\r\n",
       "skinparam wrapWidth 300\r\n",
       "hide circle\r\n",
       "\r\n",
       "package \"PartTest\" as E1  [[psysml:c65cc0cd-28b1-4d7a-bc05-02136890ed9a ]]  {\r\n",
       "comp usage \"f: A\" as E2  <<(T,blue)part>> [[psysml:634826b2-2fc2-4798-92ed-071cd1dffdd8 ]] {\r\n",
       "}\r\n",
       "comp def \"A\" as E3  <<(T,blue)part def>> [[psysml:36aba5eb-a810-4976-a211-fcdfb7b330f5 ]] {\r\n",
       "- - ports - -\r\n",
       "c: C\r\n",
       "}\r\n",
       "comp usage \"b: B\" as E4  <<(T,blue)part>> [[psysml:b5150c44-d935-4f31-a69b-527c90fd7c47 ]] {\r\n",
       "}\r\n",
       "comp def \"B\" as E6  <<(T,blue)part def>> [[psysml:94fb1c4b-8096-4b0e-a0c8-00d5fe55de6c ]] {\r\n",
       "- - ports - -\r\n",
       "x: ~C\r\n",
       "}\r\n",
       "comp usage \"a: A\" as E7  <<(T,blue)part>> [[psysml:de084c60-8c86-4761-a316-7296396fb321 ]] {\r\n",
       "}\r\n",
       "package \"P\" as E9  [[psysml:4c76b494-1a6c-482d-b35c-aa72d24bc41e ]]  {\r\n",
       "}\r\n",
       "comp def \"C\" as E10  <<(T,blue)port def>> [[psysml:4c8e1ce2-7f9a-4661-9090-c510b6f01354 ]] {\r\n",
       "}\r\n",
       "E2 - -:|> E3 [[psysml:38cdc859-4dfa-4bc4-87cd-169dd5acc896 ]] \r\n",
       "E3 *- - E4 [[psysml:5ebdadf2-6044-45bc-aa24-2da7c79aba16 ]] \r\n",
       "E4 - -:|> E6 [[psysml:1fd8d685-c326-41aa-b421-a8308f20148e ]] \r\n",
       "E6 *- - E7 [[psysml:c471fe89-f766-40f3-82e0-5e28332f3a67 ]] \r\n",
       "E7 - -:|> E3 [[psysml:ce24e444-eb42-4eaa-91b0-86c1efe7ffc5 ]] \r\n",
       "E6 +- - E9 [[psysml:cabff1fd-5442-4a71-976e-341ac2e5dda1 ]] \r\n",
       "E10 o- - E3 [[psysml:a19db77c-da80-41d6-a5f2-85a22676bfcf ]] : y\r\n",
       "E10 o- - E6 [[psysml:a19db77c-da80-41d6-a5f2-85a22676bfcf ]] : y\r\n",
       "E10 o- - E3 [[psysml:a19db77c-da80-41d6-a5f2-85a22676bfcf ]] : y\r\n",
       "E10 o- - E6 [[psysml:a19db77c-da80-41d6-a5f2-85a22676bfcf ]] : y\r\n",
       "E10 o- - E3 [[psysml:a19db77c-da80-41d6-a5f2-85a22676bfcf ]] : y\r\n",
       "E10 o- - E6 [[psysml:a19db77c-da80-41d6-a5f2-85a22676bfcf ]] : y\r\n",
       "}\r\n",
       "@enduml\r\n",
       "\n",
       "PlantUML version 1.2020.13(Sat Jun 13 12:26:38 UTC 2020)\n",
       "(EPL source distribution)\n",
       "Java Runtime: OpenJDK Runtime Environment\n",
       "JVM: OpenJDK 64-Bit Server VM\n",
       "Default Encoding: UTF-8\n",
       "Language: en\n",
       "Country: null\n",
       "--></g></svg>"
      ]
     },
     "execution_count": 45,
     "metadata": {},
     "output_type": "execute_result"
    }
   ],
   "source": [
    "%viz --style=\"TB\" --view=\"Tree\" \"PartTest\""
   ]
  },
  {
   "cell_type": "code",
   "execution_count": 46,
   "id": "abe5d66b",
   "metadata": {
    "execution": {
     "iopub.execute_input": "2021-04-20T07:29:15.939641Z",
     "iopub.status.busy": "2021-04-20T07:29:15.939193Z",
     "iopub.status.idle": "2021-04-20T07:29:15.945040Z",
     "shell.execute_reply": "2021-04-20T07:29:15.944531Z"
    }
   },
   "outputs": [
    {
     "data": {
      "image/svg+xml": [
       "<?xml version=\"1.0\" encoding=\"UTF-8\" standalone=\"no\"?><svg xmlns=\"http://www.w3.org/2000/svg\" xmlns:xlink=\"http://www.w3.org/1999/xlink\" contentScriptType=\"application/ecmascript\" contentStyleType=\"text/css\" height=\"12px\" preserveAspectRatio=\"none\" style=\"width:12px;height:12px;\" version=\"1.1\" viewBox=\"0 0 12 12\" width=\"12px\" zoomAndPan=\"magnify\"><defs/><g><!--MD5=[f4ee21bc66e489b5061b7c3e9601fdef]\n",
       "@startuml\r\n",
       "top to bottom direction\r\n",
       "skinparam monochrome true\r\n",
       "skinparam classbackgroundcolor white\r\n",
       "skinparam shadowing false\r\n",
       "skinparam wrapWidth 300\r\n",
       "hide circle\r\n",
       "\r\n",
       "@enduml\r\n",
       "\n",
       "PlantUML version 1.2020.13(Sat Jun 13 12:26:38 UTC 2020)\n",
       "(EPL source distribution)\n",
       "Java Runtime: OpenJDK Runtime Environment\n",
       "JVM: OpenJDK 64-Bit Server VM\n",
       "Default Encoding: UTF-8\n",
       "Language: en\n",
       "Country: null\n",
       "--></g></svg>"
      ]
     },
     "execution_count": 46,
     "metadata": {},
     "output_type": "execute_result"
    }
   ],
   "source": [
    "%viz --style=\"TB\" --view=\"State\" \"PartTest\""
   ]
  },
  {
   "cell_type": "code",
   "execution_count": 47,
   "id": "5d58e327",
   "metadata": {
    "execution": {
     "iopub.execute_input": "2021-04-20T07:29:16.010695Z",
     "iopub.status.busy": "2021-04-20T07:29:15.998206Z",
     "iopub.status.idle": "2021-04-20T07:29:16.068527Z",
     "shell.execute_reply": "2021-04-20T07:29:16.067710Z"
    }
   },
   "outputs": [
    {
     "data": {
      "image/svg+xml": [
       "<?xml version=\"1.0\" encoding=\"UTF-8\" standalone=\"no\"?><svg xmlns=\"http://www.w3.org/2000/svg\" xmlns:xlink=\"http://www.w3.org/1999/xlink\" contentScriptType=\"application/ecmascript\" contentStyleType=\"text/css\" height=\"247px\" preserveAspectRatio=\"none\" style=\"width:568px;height:247px;\" version=\"1.1\" viewBox=\"0 0 568 247\" width=\"568px\" zoomAndPan=\"magnify\"><defs/><g><!--MD5=[fbc87193dbaf4d95561dea2c320d4a47]\n",
       "cluster E1--><a href=\"psysml:c65cc0cd-28b1-4d7a-bc05-02136890ed9a\" target=\"_top\" title=\"psysml:c65cc0cd-28b1-4d7a-bc05-02136890ed9a\" xlink:actuate=\"onRequest\" xlink:href=\"psysml:c65cc0cd-28b1-4d7a-bc05-02136890ed9a\" xlink:show=\"new\" xlink:title=\"psysml:c65cc0cd-28b1-4d7a-bc05-02136890ed9a\" xlink:type=\"simple\"><polygon fill=\"#FFFFFF\" points=\"16,6,89,6,96,28.2969,546,28.2969,546,235,16,235,16,6\" style=\"stroke: #000000; stroke-width: 1.5;\"/><line style=\"stroke: #000000; stroke-width: 1.5;\" x1=\"16\" x2=\"96\" y1=\"28.2969\" y2=\"28.2969\"/><text fill=\"#000000\" font-family=\"sans-serif\" font-size=\"14\" font-weight=\"bold\" lengthAdjust=\"spacingAndGlyphs\" textLength=\"67\" x=\"20\" y=\"20.9951\">PartTest</text></a><!--MD5=[d5e69f78d87373223dbae638b30a9c99]\n",
       "cluster E3--><a href=\"psysml:36aba5eb-a810-4976-a211-fcdfb7b330f5\" target=\"_top\" title=\"psysml:36aba5eb-a810-4976-a211-fcdfb7b330f5\" xlink:actuate=\"onRequest\" xlink:href=\"psysml:36aba5eb-a810-4976-a211-fcdfb7b330f5\" xlink:show=\"new\" xlink:title=\"psysml:36aba5eb-a810-4976-a211-fcdfb7b330f5\" xlink:type=\"simple\"><rect fill=\"#FFFFFF\" height=\"150\" id=\"E3\" style=\"stroke: #383838; stroke-width: 1.5;\" width=\"120\" x=\"410\" y=\"62.5\"/><rect fill=\"#F8F8F8\" height=\"37.9375\" style=\"stroke: #383838; stroke-width: 1.5;\" width=\"120\" x=\"410\" y=\"62.5\"/><text fill=\"#000000\" font-family=\"sans-serif\" font-size=\"12\" font-style=\"italic\" lengthAdjust=\"spacingAndGlyphs\" textLength=\"64\" x=\"438\" y=\"78.6387\">«part def»</text><text fill=\"#000000\" font-family=\"sans-serif\" font-size=\"12\" lengthAdjust=\"spacingAndGlyphs\" textLength=\"8\" x=\"466\" y=\"92.6074\">A</text></a><!--MD5=[14e3b0961a2654348d326746436168a1]\n",
       "cluster E6--><a href=\"psysml:94fb1c4b-8096-4b0e-a0c8-00d5fe55de6c\" target=\"_top\" title=\"psysml:94fb1c4b-8096-4b0e-a0c8-00d5fe55de6c\" xlink:actuate=\"onRequest\" xlink:href=\"psysml:94fb1c4b-8096-4b0e-a0c8-00d5fe55de6c\" xlink:show=\"new\" xlink:title=\"psysml:94fb1c4b-8096-4b0e-a0c8-00d5fe55de6c\" xlink:type=\"simple\"><rect fill=\"#FFFFFF\" height=\"156.5\" id=\"E6\" style=\"stroke: #383838; stroke-width: 1.5;\" width=\"205\" x=\"197\" y=\"62.5\"/><rect fill=\"#F8F8F8\" height=\"37.9375\" style=\"stroke: #383838; stroke-width: 1.5;\" width=\"205\" x=\"197\" y=\"62.5\"/><text fill=\"#000000\" font-family=\"sans-serif\" font-size=\"12\" font-style=\"italic\" lengthAdjust=\"spacingAndGlyphs\" textLength=\"64\" x=\"267.5\" y=\"78.6387\">«part def»</text><text fill=\"#000000\" font-family=\"sans-serif\" font-size=\"12\" lengthAdjust=\"spacingAndGlyphs\" textLength=\"8\" x=\"295.5\" y=\"92.6074\">B</text></a><g id=\"E1.E10\"><a href=\"psysml:4c8e1ce2-7f9a-4661-9090-c510b6f01354\" target=\"_top\" title=\"psysml:4c8e1ce2-7f9a-4661-9090-c510b6f01354\" xlink:actuate=\"onRequest\" xlink:href=\"psysml:4c8e1ce2-7f9a-4661-9090-c510b6f01354\" xlink:show=\"new\" xlink:title=\"psysml:4c8e1ce2-7f9a-4661-9090-c510b6f01354\" xlink:type=\"simple\"><rect fill=\"#FFFFFF\" height=\"42.9375\" id=\"E10\" style=\"stroke: #383838; stroke-width: 1.5;\" width=\"71\" x=\"117.5\" y=\"41\"/><rect fill=\"#F8F8F8\" height=\"37.9375\" style=\"stroke: #383838; stroke-width: 1.5;\" width=\"71\" x=\"117.5\" y=\"41\"/><text fill=\"#000000\" font-family=\"sans-serif\" font-size=\"12\" font-style=\"italic\" lengthAdjust=\"spacingAndGlyphs\" textLength=\"64\" x=\"121\" y=\"57.1387\">«port def»</text><text fill=\"#000000\" font-family=\"sans-serif\" font-size=\"12\" lengthAdjust=\"spacingAndGlyphs\" textLength=\"8\" x=\"149\" y=\"71.1074\">C</text></a></g><g id=\"E1.E2\"><a href=\"psysml:634826b2-2fc2-4798-92ed-071cd1dffdd8\" target=\"_top\" title=\"psysml:634826b2-2fc2-4798-92ed-071cd1dffdd8\" xlink:actuate=\"onRequest\" xlink:href=\"psysml:634826b2-2fc2-4798-92ed-071cd1dffdd8\" xlink:show=\"new\" xlink:title=\"psysml:634826b2-2fc2-4798-92ed-071cd1dffdd8\" xlink:type=\"simple\"><rect fill=\"#FFFFFF\" height=\"40\" id=\"E2\" rx=\"10\" ry=\"10\" style=\"stroke: #383838; stroke-width: 1.5;\" width=\"50\" x=\"32\" y=\"42.5\"/><rect fill=\"#F8F8F8\" height=\"23.9688\" rx=\"10\" ry=\"10\" style=\"stroke: #F8F8F8; stroke-width: 1.5;\" width=\"50\" x=\"32\" y=\"42.5\"/><rect fill=\"#F8F8F8\" height=\"10\" style=\"stroke: #F8F8F8; stroke-width: 1.5;\" width=\"50\" x=\"32\" y=\"56.4688\"/><rect fill=\"none\" height=\"40\" id=\"E2\" rx=\"10\" ry=\"10\" style=\"stroke: #383838; stroke-width: 1.5;\" width=\"50\" x=\"32\" y=\"42.5\"/><text fill=\"#000000\" font-family=\"sans-serif\" font-size=\"12\" lengthAdjust=\"spacingAndGlyphs\" textLength=\"20\" x=\"47\" y=\"58.6387\">f: A</text></a></g><text fill=\"#000000\" font-family=\"sans-serif\" font-size=\"14\" lengthAdjust=\"spacingAndGlyphs\" textLength=\"27\" x=\"456.5\" y=\"41.1982\">c: C</text><rect fill=\"#383838\" height=\"12\" style=\"stroke: #F8F8F8; stroke-width: 1.5;\" width=\"12\" x=\"464\" y=\"56.5\"/><g id=\"E1.E3.E4\"><a href=\"psysml:b5150c44-d935-4f31-a69b-527c90fd7c47\" target=\"_top\" title=\"psysml:b5150c44-d935-4f31-a69b-527c90fd7c47\" xlink:actuate=\"onRequest\" xlink:href=\"psysml:b5150c44-d935-4f31-a69b-527c90fd7c47\" xlink:show=\"new\" xlink:title=\"psysml:b5150c44-d935-4f31-a69b-527c90fd7c47\" xlink:type=\"simple\"><rect fill=\"#FFFFFF\" height=\"40\" id=\"E4\" rx=\"10\" ry=\"10\" style=\"stroke: #383838; stroke-width: 1.5;\" width=\"50\" x=\"445\" y=\"156.5\"/><rect fill=\"#F8F8F8\" height=\"23.9688\" rx=\"10\" ry=\"10\" style=\"stroke: #F8F8F8; stroke-width: 1.5;\" width=\"50\" x=\"445\" y=\"156.5\"/><rect fill=\"#F8F8F8\" height=\"10\" style=\"stroke: #F8F8F8; stroke-width: 1.5;\" width=\"50\" x=\"445\" y=\"170.4688\"/><rect fill=\"none\" height=\"40\" id=\"E4\" rx=\"10\" ry=\"10\" style=\"stroke: #383838; stroke-width: 1.5;\" width=\"50\" x=\"445\" y=\"156.5\"/><text fill=\"#000000\" font-family=\"sans-serif\" font-size=\"12\" lengthAdjust=\"spacingAndGlyphs\" textLength=\"24\" x=\"458\" y=\"172.6387\">b: B</text></a></g><text fill=\"#000000\" font-family=\"sans-serif\" font-size=\"14\" lengthAdjust=\"spacingAndGlyphs\" textLength=\"38\" x=\"323\" y=\"41.1982\">x: ~C</text><rect fill=\"#383838\" height=\"12\" style=\"stroke: #F8F8F8; stroke-width: 1.5;\" width=\"12\" x=\"336\" y=\"56.5\"/><g id=\"E1.E6.E7\"><a href=\"psysml:de084c60-8c86-4761-a316-7296396fb321\" target=\"_top\" title=\"psysml:de084c60-8c86-4761-a316-7296396fb321\" xlink:actuate=\"onRequest\" xlink:href=\"psysml:de084c60-8c86-4761-a316-7296396fb321\" xlink:show=\"new\" xlink:title=\"psysml:de084c60-8c86-4761-a316-7296396fb321\" xlink:type=\"simple\"><rect fill=\"#FFFFFF\" height=\"40\" id=\"E7\" rx=\"10\" ry=\"10\" style=\"stroke: #383838; stroke-width: 1.5;\" width=\"50\" x=\"213\" y=\"100\"/><rect fill=\"#F8F8F8\" height=\"23.9688\" rx=\"10\" ry=\"10\" style=\"stroke: #F8F8F8; stroke-width: 1.5;\" width=\"50\" x=\"213\" y=\"100\"/><rect fill=\"#F8F8F8\" height=\"10\" style=\"stroke: #F8F8F8; stroke-width: 1.5;\" width=\"50\" x=\"213\" y=\"113.9688\"/><rect fill=\"none\" height=\"40\" id=\"E7\" rx=\"10\" ry=\"10\" style=\"stroke: #383838; stroke-width: 1.5;\" width=\"50\" x=\"213\" y=\"100\"/><text fill=\"#000000\" font-family=\"sans-serif\" font-size=\"12\" lengthAdjust=\"spacingAndGlyphs\" textLength=\"24\" x=\"226\" y=\"116.1387\">a: A</text></a></g><a href=\"psysml:4c76b494-1a6c-482d-b35c-aa72d24bc41e\" target=\"_top\" title=\"psysml:4c76b494-1a6c-482d-b35c-aa72d24bc41e\" xlink:actuate=\"onRequest\" xlink:href=\"psysml:4c76b494-1a6c-482d-b35c-aa72d24bc41e\" xlink:show=\"new\" xlink:title=\"psysml:4c76b494-1a6c-482d-b35c-aa72d24bc41e\" xlink:type=\"simple\"><polygon fill=\"#FFFFFF\" points=\"327,150,343,150,350,172.2969,357,172.2969,357,202.5938,327,202.5938,327,150\" style=\"stroke: #000000; stroke-width: 1.5;\"/><line style=\"stroke: #000000; stroke-width: 1.5;\" x1=\"327\" x2=\"350\" y1=\"172.2969\" y2=\"172.2969\"/><text fill=\"#000000\" font-family=\"sans-serif\" font-size=\"14\" font-weight=\"bold\" lengthAdjust=\"spacingAndGlyphs\" textLength=\"10\" x=\"331\" y=\"164.9951\">P</text></a><!--MD5=[bc2d7481b172997c4abecf5e021d60a2]\n",
       "@startuml\r\n",
       "skinparam ranksep 10\r\n",
       "skinparam rectangle {\r\n",
       " backgroundColor<<block>> LightGreen\r\n",
       "}\r\n",
       "top to bottom direction\r\n",
       "skinparam monochrome true\r\n",
       "skinparam classbackgroundcolor white\r\n",
       "skinparam shadowing false\r\n",
       "skinparam wrapWidth 300\r\n",
       "hide circle\r\n",
       "\r\n",
       "package \"PartTest\" as E1  [[psysml:c65cc0cd-28b1-4d7a-bc05-02136890ed9a ]]  {\r\n",
       "rec usage \"f: A\" as E2  [[psysml:634826b2-2fc2-4798-92ed-071cd1dffdd8 ]] {\r\n",
       "}\r\n",
       "rec def \"A\" as E3  <<(T,blue)part def>> [[psysml:36aba5eb-a810-4976-a211-fcdfb7b330f5 ]] {\r\n",
       "rec usage \"b: B\" as E4  [[psysml:b5150c44-d935-4f31-a69b-527c90fd7c47 ]] {\r\n",
       "}\r\n",
       "portin \"c: C\" as E5  <<(T,blue)port>> [[psysml:15f0fdfb-f77b-4913-8565-6992b28565d6 ]] \r\n",
       "}\r\n",
       "rec def \"B\" as E6  <<(T,blue)part def>> [[psysml:94fb1c4b-8096-4b0e-a0c8-00d5fe55de6c ]] {\r\n",
       "rec usage \"a: A\" as E7  [[psysml:de084c60-8c86-4761-a316-7296396fb321 ]] {\r\n",
       "}\r\n",
       "portin \"x: ~C\" as E8  <<(T,blue)port>> [[psysml:6cb219e8-2ff6-47bb-94c6-2fc71ea9a3d9 ]] \r\n",
       "package \"P\" as E9  [[psysml:4c76b494-1a6c-482d-b35c-aa72d24bc41e ]]  {\r\n",
       "}\r\n",
       "}\r\n",
       "def \"C\" as E10  <<(T,blue)port def>> [[psysml:4c8e1ce2-7f9a-4661-9090-c510b6f01354 ]] \r\n",
       "}\r\n",
       "@enduml\r\n",
       "\n",
       "PlantUML version 1.2020.13(Sat Jun 13 12:26:38 UTC 2020)\n",
       "(EPL source distribution)\n",
       "Java Runtime: OpenJDK Runtime Environment\n",
       "JVM: OpenJDK 64-Bit Server VM\n",
       "Default Encoding: UTF-8\n",
       "Language: en\n",
       "Country: null\n",
       "--></g></svg>"
      ]
     },
     "execution_count": 47,
     "metadata": {},
     "output_type": "execute_result"
    }
   ],
   "source": [
    "%viz --style=\"TB\" --view=\"Interconnection\" \"PartTest\""
   ]
  },
  {
   "cell_type": "code",
   "execution_count": 48,
   "id": "0d7321e9",
   "metadata": {
    "execution": {
     "iopub.execute_input": "2021-04-20T07:29:16.121589Z",
     "iopub.status.busy": "2021-04-20T07:29:16.120691Z",
     "iopub.status.idle": "2021-04-20T07:29:16.128244Z",
     "shell.execute_reply": "2021-04-20T07:29:16.127278Z"
    }
   },
   "outputs": [
    {
     "data": {
      "image/svg+xml": [
       "<?xml version=\"1.0\" encoding=\"UTF-8\" standalone=\"no\"?><svg xmlns=\"http://www.w3.org/2000/svg\" xmlns:xlink=\"http://www.w3.org/1999/xlink\" contentScriptType=\"application/ecmascript\" contentStyleType=\"text/css\" height=\"12px\" preserveAspectRatio=\"none\" style=\"width:12px;height:12px;\" version=\"1.1\" viewBox=\"0 0 12 12\" width=\"12px\" zoomAndPan=\"magnify\"><defs/><g><!--MD5=[06afc254b03ac5e9d9fb7773b07d0800]\n",
       "@startuml\r\n",
       "skinparam ranksep 8\r\n",
       "top to bottom direction\r\n",
       "skinparam monochrome true\r\n",
       "skinparam classbackgroundcolor white\r\n",
       "skinparam shadowing false\r\n",
       "skinparam wrapWidth 300\r\n",
       "hide circle\r\n",
       "\r\n",
       "@enduml\r\n",
       "\n",
       "PlantUML version 1.2020.13(Sat Jun 13 12:26:38 UTC 2020)\n",
       "(EPL source distribution)\n",
       "Java Runtime: OpenJDK Runtime Environment\n",
       "JVM: OpenJDK 64-Bit Server VM\n",
       "Default Encoding: UTF-8\n",
       "Language: en\n",
       "Country: null\n",
       "--></g></svg>"
      ]
     },
     "execution_count": 48,
     "metadata": {},
     "output_type": "execute_result"
    }
   ],
   "source": [
    "%viz --style=\"TB\" --view=\"Action\" \"PartTest\""
   ]
  },
  {
   "cell_type": "code",
   "execution_count": 49,
   "id": "b23db71c",
   "metadata": {
    "execution": {
     "iopub.execute_input": "2021-04-20T07:29:16.179119Z",
     "iopub.status.busy": "2021-04-20T07:29:16.178004Z",
     "iopub.status.idle": "2021-04-20T07:29:16.282488Z",
     "shell.execute_reply": "2021-04-20T07:29:16.281410Z"
    }
   },
   "outputs": [
    {
     "data": {
      "image/svg+xml": [
       "<?xml version=\"1.0\" encoding=\"UTF-8\" standalone=\"no\"?><svg xmlns=\"http://www.w3.org/2000/svg\" xmlns:xlink=\"http://www.w3.org/1999/xlink\" contentScriptType=\"application/ecmascript\" contentStyleType=\"text/css\" height=\"642px\" preserveAspectRatio=\"none\" style=\"width:260px;height:642px;\" version=\"1.1\" viewBox=\"0 0 260 642\" width=\"260px\" zoomAndPan=\"magnify\"><defs/><g><!--MD5=[fbc87193dbaf4d95561dea2c320d4a47]\n",
       "cluster E1--><a href=\"psysml:c65cc0cd-28b1-4d7a-bc05-02136890ed9a\" target=\"_top\" title=\"psysml:c65cc0cd-28b1-4d7a-bc05-02136890ed9a\" xlink:actuate=\"onRequest\" xlink:href=\"psysml:c65cc0cd-28b1-4d7a-bc05-02136890ed9a\" xlink:show=\"new\" xlink:title=\"psysml:c65cc0cd-28b1-4d7a-bc05-02136890ed9a\" xlink:type=\"simple\"><polygon fill=\"#FFFFFF\" points=\"16,6,89,6,96,28.2969,238,28.2969,238,630,16,630,16,6\" style=\"stroke: #000000; stroke-width: 1.5;\"/><line style=\"stroke: #000000; stroke-width: 1.5;\" x1=\"16\" x2=\"96\" y1=\"28.2969\" y2=\"28.2969\"/><text fill=\"#000000\" font-family=\"sans-serif\" font-size=\"14\" font-weight=\"bold\" lengthAdjust=\"spacingAndGlyphs\" textLength=\"67\" x=\"20\" y=\"20.9951\">PartTest</text></a><!--MD5=[b4997ac47864f28c2f74865a473b2911]\n",
       "class E2--><a href=\"psysml:634826b2-2fc2-4798-92ed-071cd1dffdd8\" target=\"_top\" title=\"psysml:634826b2-2fc2-4798-92ed-071cd1dffdd8\" xlink:actuate=\"onRequest\" xlink:href=\"psysml:634826b2-2fc2-4798-92ed-071cd1dffdd8\" xlink:show=\"new\" xlink:title=\"psysml:634826b2-2fc2-4798-92ed-071cd1dffdd8\" xlink:type=\"simple\"><rect fill=\"#FFFFFF\" height=\"45.9375\" id=\"E2\" rx=\"10\" ry=\"10\" style=\"stroke: #383838; stroke-width: 1.5;\" width=\"42\" x=\"32\" y=\"41\"/><text fill=\"#000000\" font-family=\"sans-serif\" font-size=\"12\" font-style=\"italic\" lengthAdjust=\"spacingAndGlyphs\" textLength=\"40\" x=\"33\" y=\"57.1387\">«part»</text><text fill=\"#000000\" font-family=\"sans-serif\" font-size=\"12\" lengthAdjust=\"spacingAndGlyphs\" textLength=\"20\" x=\"43\" y=\"71.1074\">f: A</text><line style=\"stroke: #383838; stroke-width: 1.5;\" x1=\"33\" x2=\"73\" y1=\"78.9375\" y2=\"78.9375\"/></a><!--MD5=[09b614a08d8cba4a07c9adeb5e0fee81]\n",
       "class E3--><a href=\"psysml:36aba5eb-a810-4976-a211-fcdfb7b330f5\" target=\"_top\" title=\"psysml:36aba5eb-a810-4976-a211-fcdfb7b330f5\" xlink:actuate=\"onRequest\" xlink:href=\"psysml:36aba5eb-a810-4976-a211-fcdfb7b330f5\" xlink:show=\"new\" xlink:title=\"psysml:36aba5eb-a810-4976-a211-fcdfb7b330f5\" xlink:type=\"simple\"><rect fill=\"#FFFFFF\" height=\"75.5469\" id=\"E3\" style=\"stroke: #383838; stroke-width: 1.5;\" width=\"66\" x=\"37\" y=\"164\"/><text fill=\"#000000\" font-family=\"sans-serif\" font-size=\"12\" font-style=\"italic\" lengthAdjust=\"spacingAndGlyphs\" textLength=\"64\" x=\"38\" y=\"180.1387\">«part def»</text><text fill=\"#000000\" font-family=\"sans-serif\" font-size=\"12\" lengthAdjust=\"spacingAndGlyphs\" textLength=\"8\" x=\"66\" y=\"194.1074\">A</text><line style=\"stroke: #383838; stroke-width: 1.5;\" x1=\"38\" x2=\"102\" y1=\"201.9375\" y2=\"201.9375\"/><text fill=\"#000000\" font-family=\"sans-serif\" font-size=\"11\" lengthAdjust=\"spacingAndGlyphs\" textLength=\"22\" x=\"43\" y=\"232.9526\">c: C</text><line style=\"stroke: #383838; stroke-width: 1.0;\" x1=\"38\" x2=\"55\" y1=\"216.3398\" y2=\"216.3398\"/><text fill=\"#000000\" font-family=\"sans-serif\" font-size=\"11\" lengthAdjust=\"spacingAndGlyphs\" textLength=\"30\" x=\"55\" y=\"219.6479\">ports</text><line style=\"stroke: #383838; stroke-width: 1.0;\" x1=\"85\" x2=\"102\" y1=\"216.3398\" y2=\"216.3398\"/></a><!--MD5=[ebbe1d658d1005bcc118a6aa81145e00]\n",
       "class E4--><a href=\"psysml:b5150c44-d935-4f31-a69b-527c90fd7c47\" target=\"_top\" title=\"psysml:b5150c44-d935-4f31-a69b-527c90fd7c47\" xlink:actuate=\"onRequest\" xlink:href=\"psysml:b5150c44-d935-4f31-a69b-527c90fd7c47\" xlink:show=\"new\" xlink:title=\"psysml:b5150c44-d935-4f31-a69b-527c90fd7c47\" xlink:type=\"simple\"><rect fill=\"#FFFFFF\" height=\"45.9375\" id=\"E4\" rx=\"10\" ry=\"10\" style=\"stroke: #383838; stroke-width: 1.5;\" width=\"42\" x=\"69\" y=\"317\"/><text fill=\"#000000\" font-family=\"sans-serif\" font-size=\"12\" font-style=\"italic\" lengthAdjust=\"spacingAndGlyphs\" textLength=\"40\" x=\"70\" y=\"333.1387\">«part»</text><text fill=\"#000000\" font-family=\"sans-serif\" font-size=\"12\" lengthAdjust=\"spacingAndGlyphs\" textLength=\"24\" x=\"78\" y=\"347.1074\">b: B</text><line style=\"stroke: #383838; stroke-width: 1.5;\" x1=\"70\" x2=\"110\" y1=\"354.9375\" y2=\"354.9375\"/></a><!--MD5=[60a26617385b1d2d0262a64233df1f8d]\n",
       "class E6--><a href=\"psysml:94fb1c4b-8096-4b0e-a0c8-00d5fe55de6c\" target=\"_top\" title=\"psysml:94fb1c4b-8096-4b0e-a0c8-00d5fe55de6c\" xlink:actuate=\"onRequest\" xlink:href=\"psysml:94fb1c4b-8096-4b0e-a0c8-00d5fe55de6c\" xlink:show=\"new\" xlink:title=\"psysml:94fb1c4b-8096-4b0e-a0c8-00d5fe55de6c\" xlink:type=\"simple\"><rect fill=\"#FFFFFF\" height=\"75.5469\" id=\"E6\" style=\"stroke: #383838; stroke-width: 1.5;\" width=\"66\" x=\"114\" y=\"424\"/><text fill=\"#000000\" font-family=\"sans-serif\" font-size=\"12\" font-style=\"italic\" lengthAdjust=\"spacingAndGlyphs\" textLength=\"64\" x=\"115\" y=\"440.1387\">«part def»</text><text fill=\"#000000\" font-family=\"sans-serif\" font-size=\"12\" lengthAdjust=\"spacingAndGlyphs\" textLength=\"8\" x=\"143\" y=\"454.1074\">B</text><line style=\"stroke: #383838; stroke-width: 1.5;\" x1=\"115\" x2=\"179\" y1=\"461.9375\" y2=\"461.9375\"/><text fill=\"#000000\" font-family=\"sans-serif\" font-size=\"11\" lengthAdjust=\"spacingAndGlyphs\" textLength=\"31\" x=\"120\" y=\"492.9526\">x: ~C</text><line style=\"stroke: #383838; stroke-width: 1.0;\" x1=\"115\" x2=\"132\" y1=\"476.3398\" y2=\"476.3398\"/><text fill=\"#000000\" font-family=\"sans-serif\" font-size=\"11\" lengthAdjust=\"spacingAndGlyphs\" textLength=\"30\" x=\"132\" y=\"479.6479\">ports</text><line style=\"stroke: #383838; stroke-width: 1.0;\" x1=\"162\" x2=\"179\" y1=\"476.3398\" y2=\"476.3398\"/></a><!--MD5=[2156ba9850f5573cc1fc38a6a4b2f02b]\n",
       "class E7--><a href=\"psysml:de084c60-8c86-4761-a316-7296396fb321\" target=\"_top\" title=\"psysml:de084c60-8c86-4761-a316-7296396fb321\" xlink:actuate=\"onRequest\" xlink:href=\"psysml:de084c60-8c86-4761-a316-7296396fb321\" xlink:show=\"new\" xlink:title=\"psysml:de084c60-8c86-4761-a316-7296396fb321\" xlink:type=\"simple\"><rect fill=\"#FFFFFF\" height=\"45.9375\" id=\"E7\" rx=\"10\" ry=\"10\" style=\"stroke: #383838; stroke-width: 1.5;\" width=\"42\" x=\"44\" y=\"564.5\"/><text fill=\"#000000\" font-family=\"sans-serif\" font-size=\"12\" font-style=\"italic\" lengthAdjust=\"spacingAndGlyphs\" textLength=\"40\" x=\"45\" y=\"580.6387\">«part»</text><text fill=\"#000000\" font-family=\"sans-serif\" font-size=\"12\" lengthAdjust=\"spacingAndGlyphs\" textLength=\"24\" x=\"53\" y=\"594.6074\">a: A</text><line style=\"stroke: #383838; stroke-width: 1.5;\" x1=\"45\" x2=\"85\" y1=\"602.4375\" y2=\"602.4375\"/></a><!--MD5=[96f4274e9e20536e775497830990834d]\n",
       "class E10--><a href=\"psysml:4c8e1ce2-7f9a-4661-9090-c510b6f01354\" target=\"_top\" title=\"psysml:4c8e1ce2-7f9a-4661-9090-c510b6f01354\" xlink:actuate=\"onRequest\" xlink:href=\"psysml:4c8e1ce2-7f9a-4661-9090-c510b6f01354\" xlink:show=\"new\" xlink:title=\"psysml:4c8e1ce2-7f9a-4661-9090-c510b6f01354\" xlink:type=\"simple\"><rect fill=\"#FFFFFF\" height=\"45.9375\" id=\"E10\" style=\"stroke: #383838; stroke-width: 1.5;\" width=\"66\" x=\"146\" y=\"41\"/><text fill=\"#000000\" font-family=\"sans-serif\" font-size=\"12\" font-style=\"italic\" lengthAdjust=\"spacingAndGlyphs\" textLength=\"64\" x=\"147\" y=\"57.1387\">«port def»</text><text fill=\"#000000\" font-family=\"sans-serif\" font-size=\"12\" lengthAdjust=\"spacingAndGlyphs\" textLength=\"8\" x=\"175\" y=\"71.1074\">C</text><line style=\"stroke: #383838; stroke-width: 1.5;\" x1=\"147\" x2=\"211\" y1=\"78.9375\" y2=\"78.9375\"/></a><a href=\"psysml:4c76b494-1a6c-482d-b35c-aa72d24bc41e\" target=\"_top\" title=\"psysml:4c76b494-1a6c-482d-b35c-aa72d24bc41e\" xlink:actuate=\"onRequest\" xlink:href=\"psysml:4c76b494-1a6c-482d-b35c-aa72d24bc41e\" xlink:show=\"new\" xlink:title=\"psysml:4c76b494-1a6c-482d-b35c-aa72d24bc41e\" xlink:type=\"simple\"><polygon fill=\"#FFFFFF\" points=\"132,561,148,561,155,583.2969,162,583.2969,162,613.5938,132,613.5938,132,561\" style=\"stroke: #000000; stroke-width: 1.5;\"/><line style=\"stroke: #000000; stroke-width: 1.5;\" x1=\"132\" x2=\"155\" y1=\"583.2969\" y2=\"583.2969\"/><text fill=\"#000000\" font-family=\"sans-serif\" font-size=\"14\" font-weight=\"bold\" lengthAdjust=\"spacingAndGlyphs\" textLength=\"10\" x=\"136\" y=\"575.9951\">P</text></a><!--MD5=[2720a5a1f2c3fca2055b230370638851]\n",
       "link E2 to E3--><a href=\"psysml:38cdc859-4dfa-4bc4-87cd-169dd5acc896\" target=\"_top\" title=\"psysml:38cdc859-4dfa-4bc4-87cd-169dd5acc896\" xlink:actuate=\"onRequest\" xlink:href=\"psysml:38cdc859-4dfa-4bc4-87cd-169dd5acc896\" xlink:show=\"new\" xlink:title=\"psysml:38cdc859-4dfa-4bc4-87cd-169dd5acc896\" xlink:type=\"simple\"><path d=\"M43.23,87.08 C38.46,100.64 34.45,118.34 38,134 C38.82,137.61 39.86,141.26 41.06,144.89 \" fill=\"none\" id=\"E2-&gt;E3\" style=\"stroke: #383838; stroke-width: 1.0;\"/><polygon fill=\"#FFFFFF\" points=\"48.65,163.8,35.0703,148.7803,48.0607,143.5601,48.65,163.8\" style=\"stroke: #383838; stroke-width: 1.0;\"/><ellipse cx=\"34.8007\" cy=\"142.7456\" fill=\"#383838\" rx=\"2\" ry=\"2\" style=\"stroke: #383838; stroke-width: 1.0;\"/><ellipse cx=\"44.0796\" cy=\"139.0169\" fill=\"#383838\" rx=\"2\" ry=\"2\" style=\"stroke: #383838; stroke-width: 1.0;\"/></a><!--MD5=[4672eba38e49728da53d11aeb285b987]\n",
       "reverse link E3 to E4--><a href=\"psysml:5ebdadf2-6044-45bc-aa24-2da7c79aba16\" target=\"_top\" title=\"psysml:5ebdadf2-6044-45bc-aa24-2da7c79aba16\" xlink:actuate=\"onRequest\" xlink:href=\"psysml:5ebdadf2-6044-45bc-aa24-2da7c79aba16\" xlink:show=\"new\" xlink:title=\"psysml:5ebdadf2-6044-45bc-aa24-2da7c79aba16\" xlink:type=\"simple\"><path d=\"M72.88,253.51 C73.88,264.59 75.22,276.22 77,287 C78.64,296.92 81.21,307.72 83.63,316.9 \" fill=\"none\" id=\"E3&lt;-E4\" style=\"stroke: #383838; stroke-width: 1.0;\"/><polygon fill=\"#383838\" points=\"71.81,240.38,68.3042,246.6816,72.7727,252.3413,76.2785,246.0398,71.81,240.38\" style=\"stroke: #383838; stroke-width: 1.0;\"/></a><!--MD5=[79568f1e445c3877b6a54524624ccc7d]\n",
       "link E4 to E6--><a href=\"psysml:1fd8d685-c326-41aa-b421-a8308f20148e\" target=\"_top\" title=\"psysml:1fd8d685-c326-41aa-b421-a8308f20148e\" xlink:actuate=\"onRequest\" xlink:href=\"psysml:1fd8d685-c326-41aa-b421-a8308f20148e\" xlink:show=\"new\" xlink:title=\"psysml:1fd8d685-c326-41aa-b421-a8308f20148e\" xlink:type=\"simple\"><path d=\"M100.45,363.01 C106.1,374.9 113.36,390.18 120.46,405.12 \" fill=\"none\" id=\"E4-&gt;E6\" style=\"stroke: #383838; stroke-width: 1.0;\"/><polygon fill=\"#FFFFFF\" points=\"129.22,423.57,114.7395,409.4167,127.3831,403.405,129.22,423.57\" style=\"stroke: #383838; stroke-width: 1.0;\"/><ellipse cx=\"114.0981\" cy=\"403.4102\" fill=\"#383838\" rx=\"2\" ry=\"2\" style=\"stroke: #383838; stroke-width: 1.0;\"/><ellipse cx=\"123.1292\" cy=\"399.1161\" fill=\"#383838\" rx=\"2\" ry=\"2\" style=\"stroke: #383838; stroke-width: 1.0;\"/></a><!--MD5=[3f50a3473f1dfb74d3f76443e03635af]\n",
       "reverse link E6 to E7--><a href=\"psysml:c471fe89-f766-40f3-82e0-5e28332f3a67\" target=\"_top\" title=\"psysml:c471fe89-f766-40f3-82e0-5e28332f3a67\" xlink:actuate=\"onRequest\" xlink:href=\"psysml:c471fe89-f766-40f3-82e0-5e28332f3a67\" xlink:show=\"new\" xlink:title=\"psysml:c471fe89-f766-40f3-82e0-5e28332f3a67\" xlink:type=\"simple\"><path d=\"M115.19,510.9 C103,529.26 89.67,549.34 79.81,564.19 \" fill=\"none\" id=\"E6&lt;-E7\" style=\"stroke: #383838; stroke-width: 1.0;\"/><polygon fill=\"#383838\" points=\"122.4,500.05,115.7495,502.8377,115.7649,510.0488,122.4154,507.2611,122.4,500.05\" style=\"stroke: #383838; stroke-width: 1.0;\"/></a><!--MD5=[14ccda38c055a5c0da953d572bc50960]\n",
       "link E7 to E3--><a href=\"psysml:ce24e444-eb42-4eaa-91b0-86c1efe7ffc5\" target=\"_top\" title=\"psysml:ce24e444-eb42-4eaa-91b0-86c1efe7ffc5\" xlink:actuate=\"onRequest\" xlink:href=\"psysml:ce24e444-eb42-4eaa-91b0-86c1efe7ffc5\" xlink:show=\"new\" xlink:title=\"psysml:ce24e444-eb42-4eaa-91b0-86c1efe7ffc5\" xlink:type=\"simple\"><path d=\"M61.85,564.46 C55.72,518.43 43.41,408.75 51,317 C52.55,298.29 55.5,278.02 58.63,259.84 \" fill=\"none\" id=\"E7-&gt;E3\" style=\"stroke: #383838; stroke-width: 1.0;\"/><polygon fill=\"#FFFFFF\" points=\"62.24,240.03,65.7193,259.9773,51.9463,257.4667,62.24,240.03\" style=\"stroke: #383838; stroke-width: 1.0;\"/><ellipse cx=\"62.7296\" cy=\"265.2262\" fill=\"#383838\" rx=\"2\" ry=\"2\" style=\"stroke: #383838; stroke-width: 1.0;\"/><ellipse cx=\"52.8917\" cy=\"263.433\" fill=\"#383838\" rx=\"2\" ry=\"2\" style=\"stroke: #383838; stroke-width: 1.0;\"/></a><!--MD5=[e88d06e5a652d73a6b19930eefe025a8]\n",
       "reverse link E6 to E9--><a href=\"psysml:cabff1fd-5442-4a71-976e-341ac2e5dda1\" target=\"_top\" title=\"psysml:cabff1fd-5442-4a71-976e-341ac2e5dda1\" xlink:actuate=\"onRequest\" xlink:href=\"psysml:cabff1fd-5442-4a71-976e-341ac2e5dda1\" xlink:show=\"new\" xlink:title=\"psysml:cabff1fd-5442-4a71-976e-341ac2e5dda1\" xlink:type=\"simple\"><path d=\"M147,515.35 C147,531.08 147,547.65 147,560.83 \" fill=\"none\" id=\"E6&lt;-E9\" style=\"stroke: #383838; stroke-width: 1.0;\"/><ellipse cx=\"147\" cy=\"508.05\" fill=\"#FFFFFF\" rx=\"8\" ry=\"8\" style=\"stroke: #383838; stroke-width: 1.0;\"/><line style=\"stroke: #383838; stroke-width: 1.0;\" x1=\"147\" x2=\"147\" y1=\"516.05\" y2=\"500.05\"/><line style=\"stroke: #383838; stroke-width: 1.0;\" x1=\"139\" x2=\"155\" y1=\"508.05\" y2=\"508.05\"/></a><!--MD5=[8e04057e7b3cbc0dca4fc78ea351e2da]\n",
       "reverse link E10 to E3--><a href=\"psysml:a19db77c-da80-41d6-a5f2-85a22676bfcf\" target=\"_top\" title=\"psysml:a19db77c-da80-41d6-a5f2-85a22676bfcf\" xlink:actuate=\"onRequest\" xlink:href=\"psysml:a19db77c-da80-41d6-a5f2-85a22676bfcf\" xlink:show=\"new\" xlink:title=\"psysml:a19db77c-da80-41d6-a5f2-85a22676bfcf\" xlink:type=\"simple\"><path d=\"M133.33,76.35 C111.95,84.13 88.32,96.81 75,117 C66.07,130.53 63.94,148.12 64.4,163.71 \" fill=\"none\" id=\"E10&lt;-E3\" style=\"stroke: #383838; stroke-width: 1.0;\"/><polygon fill=\"#FFFFFF\" points=\"145.89,72.22,138.939,70.3009,134.494,75.9791,141.445,77.8982,145.89,72.22\" style=\"stroke: #383838; stroke-width: 1.0;\"/><text fill=\"#000000\" font-family=\"sans-serif\" font-size=\"13\" lengthAdjust=\"spacingAndGlyphs\" textLength=\"7\" x=\"76\" y=\"130.0669\">y</text></a><!--MD5=[8e04057e7b3cbc0dca4fc78ea351e2da]\n",
       "reverse link E10 to E3--><a href=\"psysml:a19db77c-da80-41d6-a5f2-85a22676bfcf\" target=\"_top\" title=\"psysml:a19db77c-da80-41d6-a5f2-85a22676bfcf\" xlink:actuate=\"onRequest\" xlink:href=\"psysml:a19db77c-da80-41d6-a5f2-85a22676bfcf\" xlink:show=\"new\" xlink:title=\"psysml:a19db77c-da80-41d6-a5f2-85a22676bfcf\" xlink:type=\"simple\"><path d=\"M143.35,96.28 C136.62,102.85 129.86,109.93 124,117 C112.05,131.41 100.57,148.61 91.29,163.69 \" fill=\"none\" id=\"E10&lt;-E3-1\" style=\"stroke: #383838; stroke-width: 1.0;\"/><polygon fill=\"#FFFFFF\" points=\"153.08,87.1,145.9702,88.3047,144.3478,95.331,151.4576,94.1262,153.08,87.1\" style=\"stroke: #383838; stroke-width: 1.0;\"/><text fill=\"#000000\" font-family=\"sans-serif\" font-size=\"13\" lengthAdjust=\"spacingAndGlyphs\" textLength=\"7\" x=\"125\" y=\"130.0669\">y</text></a><!--MD5=[8e04057e7b3cbc0dca4fc78ea351e2da]\n",
       "reverse link E10 to E3--><a href=\"psysml:a19db77c-da80-41d6-a5f2-85a22676bfcf\" target=\"_top\" title=\"psysml:a19db77c-da80-41d6-a5f2-85a22676bfcf\" xlink:actuate=\"onRequest\" xlink:href=\"psysml:a19db77c-da80-41d6-a5f2-85a22676bfcf\" xlink:show=\"new\" xlink:title=\"psysml:a19db77c-da80-41d6-a5f2-85a22676bfcf\" xlink:type=\"simple\"><path d=\"M158.49,98.17 C150.89,109.8 141.93,122.76 133,134 C123.86,145.5 113.16,157.39 103.19,167.9 \" fill=\"none\" id=\"E10&lt;-E3-2\" style=\"stroke: #383838; stroke-width: 1.0;\"/><polygon fill=\"#FFFFFF\" points=\"165.6,87.1,158.9946,89.9928,159.1242,97.2027,165.7297,94.3099,165.6,87.1\" style=\"stroke: #383838; stroke-width: 1.0;\"/><text fill=\"#000000\" font-family=\"sans-serif\" font-size=\"13\" lengthAdjust=\"spacingAndGlyphs\" textLength=\"7\" x=\"146\" y=\"130.0669\">y</text></a><!--MD5=[604cbf994c02b74b117f728a71673cea]\n",
       "reverse link E10 to E6--><a href=\"psysml:a19db77c-da80-41d6-a5f2-85a22676bfcf\" target=\"_top\" title=\"psysml:a19db77c-da80-41d6-a5f2-85a22676bfcf\" xlink:actuate=\"onRequest\" xlink:href=\"psysml:a19db77c-da80-41d6-a5f2-85a22676bfcf\" xlink:show=\"new\" xlink:title=\"psysml:a19db77c-da80-41d6-a5f2-85a22676bfcf\" xlink:type=\"simple\"><path d=\"M197.26,99.16 C199.64,104.97 201.69,111.05 203,117 C204.62,124.38 203.15,126.45 203,134 C200.78,249.62 229.38,284.23 193,394 C189.58,404.31 184.06,414.48 178.01,423.66 \" fill=\"none\" id=\"E10&lt;-E6\" style=\"stroke: #383838; stroke-width: 1.0;\"/><polygon fill=\"#FFFFFF\" points=\"191.73,87.03,190.583,94.1493,196.7135,97.9463,197.8605,90.827,191.73,87.03\" style=\"stroke: #383838; stroke-width: 1.0;\"/><text fill=\"#000000\" font-family=\"sans-serif\" font-size=\"13\" lengthAdjust=\"spacingAndGlyphs\" textLength=\"7\" x=\"212\" y=\"283.0669\">y</text></a><!--MD5=[604cbf994c02b74b117f728a71673cea]\n",
       "reverse link E10 to E6--><a href=\"psysml:a19db77c-da80-41d6-a5f2-85a22676bfcf\" target=\"_top\" title=\"psysml:a19db77c-da80-41d6-a5f2-85a22676bfcf\" xlink:actuate=\"onRequest\" xlink:href=\"psysml:a19db77c-da80-41d6-a5f2-85a22676bfcf\" xlink:show=\"new\" xlink:title=\"psysml:a19db77c-da80-41d6-a5f2-85a22676bfcf\" xlink:type=\"simple\"><path d=\"M171.02,99.85 C168.34,110.83 165.22,122.97 162,134 C144.13,195.25 126.36,207.04 116,270 C114.77,277.46 114.57,279.58 116,287 C118.72,301.1 124.37,303.11 128,317 C137.32,352.62 142.19,394.45 144.65,423.82 \" fill=\"none\" id=\"E10&lt;-E6-1\" style=\"stroke: #383838; stroke-width: 1.0;\"/><polygon fill=\"#FFFFFF\" points=\"174.04,87.19,168.7576,92.0987,171.257,98.8628,176.5394,93.9541,174.04,87.19\" style=\"stroke: #383838; stroke-width: 1.0;\"/><text fill=\"#000000\" font-family=\"sans-serif\" font-size=\"13\" lengthAdjust=\"spacingAndGlyphs\" textLength=\"7\" x=\"117\" y=\"283.0669\">y</text></a><!--MD5=[604cbf994c02b74b117f728a71673cea]\n",
       "reverse link E10 to E6--><a href=\"psysml:a19db77c-da80-41d6-a5f2-85a22676bfcf\" target=\"_top\" title=\"psysml:a19db77c-da80-41d6-a5f2-85a22676bfcf\" xlink:actuate=\"onRequest\" xlink:href=\"psysml:a19db77c-da80-41d6-a5f2-85a22676bfcf\" xlink:show=\"new\" xlink:title=\"psysml:a19db77c-da80-41d6-a5f2-85a22676bfcf\" xlink:type=\"simple\"><path d=\"M176.15,100.27 C170.13,174.82 156.15,347.78 150,423.9 \" fill=\"none\" id=\"E10&lt;-E6-2\" style=\"stroke: #383838; stroke-width: 1.0;\"/><polygon fill=\"#FFFFFF\" points=\"177.21,87.14,172.7415,92.7998,176.2473,99.1013,180.7158,93.4416,177.21,87.14\" style=\"stroke: #383838; stroke-width: 1.0;\"/><text fill=\"#000000\" font-family=\"sans-serif\" font-size=\"13\" lengthAdjust=\"spacingAndGlyphs\" textLength=\"7\" x=\"163\" y=\"283.0669\">y</text></a><!--MD5=[54d7b207864003fec48dcf798ef69aef]\n",
       "@startuml\r\n",
       "top to bottom direction\r\n",
       "skinparam monochrome true\r\n",
       "skinparam classbackgroundcolor white\r\n",
       "skinparam shadowing false\r\n",
       "skinparam wrapWidth 300\r\n",
       "hide circle\r\n",
       "\r\n",
       "package \"PartTest\" as E1  [[psysml:c65cc0cd-28b1-4d7a-bc05-02136890ed9a ]]  {\r\n",
       "comp usage \"f: A\" as E2  <<(T,blue)part>> [[psysml:634826b2-2fc2-4798-92ed-071cd1dffdd8 ]] {\r\n",
       "}\r\n",
       "comp def \"A\" as E3  <<(T,blue)part def>> [[psysml:36aba5eb-a810-4976-a211-fcdfb7b330f5 ]] {\r\n",
       "- - ports - -\r\n",
       "c: C\r\n",
       "}\r\n",
       "comp usage \"b: B\" as E4  <<(T,blue)part>> [[psysml:b5150c44-d935-4f31-a69b-527c90fd7c47 ]] {\r\n",
       "}\r\n",
       "comp def \"B\" as E6  <<(T,blue)part def>> [[psysml:94fb1c4b-8096-4b0e-a0c8-00d5fe55de6c ]] {\r\n",
       "- - ports - -\r\n",
       "x: ~C\r\n",
       "}\r\n",
       "comp usage \"a: A\" as E7  <<(T,blue)part>> [[psysml:de084c60-8c86-4761-a316-7296396fb321 ]] {\r\n",
       "}\r\n",
       "package \"P\" as E9  [[psysml:4c76b494-1a6c-482d-b35c-aa72d24bc41e ]]  {\r\n",
       "}\r\n",
       "comp def \"C\" as E10  <<(T,blue)port def>> [[psysml:4c8e1ce2-7f9a-4661-9090-c510b6f01354 ]] {\r\n",
       "}\r\n",
       "E2 - -:|> E3 [[psysml:38cdc859-4dfa-4bc4-87cd-169dd5acc896 ]] \r\n",
       "E3 *- - E4 [[psysml:5ebdadf2-6044-45bc-aa24-2da7c79aba16 ]] \r\n",
       "E4 - -:|> E6 [[psysml:1fd8d685-c326-41aa-b421-a8308f20148e ]] \r\n",
       "E6 *- - E7 [[psysml:c471fe89-f766-40f3-82e0-5e28332f3a67 ]] \r\n",
       "E7 - -:|> E3 [[psysml:ce24e444-eb42-4eaa-91b0-86c1efe7ffc5 ]] \r\n",
       "E6 +- - E9 [[psysml:cabff1fd-5442-4a71-976e-341ac2e5dda1 ]] \r\n",
       "E10 o- - E3 [[psysml:a19db77c-da80-41d6-a5f2-85a22676bfcf ]] : y\r\n",
       "E10 o- - E6 [[psysml:a19db77c-da80-41d6-a5f2-85a22676bfcf ]] : y\r\n",
       "E10 o- - E3 [[psysml:a19db77c-da80-41d6-a5f2-85a22676bfcf ]] : y\r\n",
       "E10 o- - E6 [[psysml:a19db77c-da80-41d6-a5f2-85a22676bfcf ]] : y\r\n",
       "E10 o- - E3 [[psysml:a19db77c-da80-41d6-a5f2-85a22676bfcf ]] : y\r\n",
       "E10 o- - E6 [[psysml:a19db77c-da80-41d6-a5f2-85a22676bfcf ]] : y\r\n",
       "}\r\n",
       "@enduml\r\n",
       "\n",
       "PlantUML version 1.2020.13(Sat Jun 13 12:26:38 UTC 2020)\n",
       "(EPL source distribution)\n",
       "Java Runtime: OpenJDK Runtime Environment\n",
       "JVM: OpenJDK 64-Bit Server VM\n",
       "Default Encoding: UTF-8\n",
       "Language: en\n",
       "Country: null\n",
       "--></g></svg>"
      ]
     },
     "execution_count": 49,
     "metadata": {},
     "output_type": "execute_result"
    }
   ],
   "source": [
    "%viz --style=\"TB\" --view=\"Sequence\" \"PartTest\""
   ]
  },
  {
   "cell_type": "code",
   "execution_count": 50,
   "id": "790afb56",
   "metadata": {
    "execution": {
     "iopub.execute_input": "2021-04-20T07:29:16.329692Z",
     "iopub.status.busy": "2021-04-20T07:29:16.329141Z",
     "iopub.status.idle": "2021-04-20T07:29:16.437108Z",
     "shell.execute_reply": "2021-04-20T07:29:16.432720Z"
    }
   },
   "outputs": [
    {
     "data": {
      "image/svg+xml": [
       "<?xml version=\"1.0\" encoding=\"UTF-8\" standalone=\"no\"?><svg xmlns=\"http://www.w3.org/2000/svg\" xmlns:xlink=\"http://www.w3.org/1999/xlink\" contentScriptType=\"application/ecmascript\" contentStyleType=\"text/css\" height=\"642px\" preserveAspectRatio=\"none\" style=\"width:260px;height:642px;\" version=\"1.1\" viewBox=\"0 0 260 642\" width=\"260px\" zoomAndPan=\"magnify\"><defs/><g><!--MD5=[fbc87193dbaf4d95561dea2c320d4a47]\n",
       "cluster E1--><a href=\"psysml:c65cc0cd-28b1-4d7a-bc05-02136890ed9a\" target=\"_top\" title=\"psysml:c65cc0cd-28b1-4d7a-bc05-02136890ed9a\" xlink:actuate=\"onRequest\" xlink:href=\"psysml:c65cc0cd-28b1-4d7a-bc05-02136890ed9a\" xlink:show=\"new\" xlink:title=\"psysml:c65cc0cd-28b1-4d7a-bc05-02136890ed9a\" xlink:type=\"simple\"><polygon fill=\"#FFFFFF\" points=\"16,6,89,6,96,28.2969,238,28.2969,238,630,16,630,16,6\" style=\"stroke: #000000; stroke-width: 1.5;\"/><line style=\"stroke: #000000; stroke-width: 1.5;\" x1=\"16\" x2=\"96\" y1=\"28.2969\" y2=\"28.2969\"/><text fill=\"#000000\" font-family=\"sans-serif\" font-size=\"14\" font-weight=\"bold\" lengthAdjust=\"spacingAndGlyphs\" textLength=\"67\" x=\"20\" y=\"20.9951\">PartTest</text></a><!--MD5=[b4997ac47864f28c2f74865a473b2911]\n",
       "class E2--><a href=\"psysml:634826b2-2fc2-4798-92ed-071cd1dffdd8\" target=\"_top\" title=\"psysml:634826b2-2fc2-4798-92ed-071cd1dffdd8\" xlink:actuate=\"onRequest\" xlink:href=\"psysml:634826b2-2fc2-4798-92ed-071cd1dffdd8\" xlink:show=\"new\" xlink:title=\"psysml:634826b2-2fc2-4798-92ed-071cd1dffdd8\" xlink:type=\"simple\"><rect fill=\"#FFFFFF\" height=\"45.9375\" id=\"E2\" rx=\"10\" ry=\"10\" style=\"stroke: #383838; stroke-width: 1.5;\" width=\"42\" x=\"32\" y=\"41\"/><text fill=\"#000000\" font-family=\"sans-serif\" font-size=\"12\" font-style=\"italic\" lengthAdjust=\"spacingAndGlyphs\" textLength=\"40\" x=\"33\" y=\"57.1387\">«part»</text><text fill=\"#000000\" font-family=\"sans-serif\" font-size=\"12\" lengthAdjust=\"spacingAndGlyphs\" textLength=\"20\" x=\"43\" y=\"71.1074\">f: A</text><line style=\"stroke: #383838; stroke-width: 1.5;\" x1=\"33\" x2=\"73\" y1=\"78.9375\" y2=\"78.9375\"/></a><!--MD5=[09b614a08d8cba4a07c9adeb5e0fee81]\n",
       "class E3--><a href=\"psysml:36aba5eb-a810-4976-a211-fcdfb7b330f5\" target=\"_top\" title=\"psysml:36aba5eb-a810-4976-a211-fcdfb7b330f5\" xlink:actuate=\"onRequest\" xlink:href=\"psysml:36aba5eb-a810-4976-a211-fcdfb7b330f5\" xlink:show=\"new\" xlink:title=\"psysml:36aba5eb-a810-4976-a211-fcdfb7b330f5\" xlink:type=\"simple\"><rect fill=\"#FFFFFF\" height=\"75.5469\" id=\"E3\" style=\"stroke: #383838; stroke-width: 1.5;\" width=\"66\" x=\"37\" y=\"164\"/><text fill=\"#000000\" font-family=\"sans-serif\" font-size=\"12\" font-style=\"italic\" lengthAdjust=\"spacingAndGlyphs\" textLength=\"64\" x=\"38\" y=\"180.1387\">«part def»</text><text fill=\"#000000\" font-family=\"sans-serif\" font-size=\"12\" lengthAdjust=\"spacingAndGlyphs\" textLength=\"8\" x=\"66\" y=\"194.1074\">A</text><line style=\"stroke: #383838; stroke-width: 1.5;\" x1=\"38\" x2=\"102\" y1=\"201.9375\" y2=\"201.9375\"/><text fill=\"#000000\" font-family=\"sans-serif\" font-size=\"11\" lengthAdjust=\"spacingAndGlyphs\" textLength=\"22\" x=\"43\" y=\"232.9526\">c: C</text><line style=\"stroke: #383838; stroke-width: 1.0;\" x1=\"38\" x2=\"55\" y1=\"216.3398\" y2=\"216.3398\"/><text fill=\"#000000\" font-family=\"sans-serif\" font-size=\"11\" lengthAdjust=\"spacingAndGlyphs\" textLength=\"30\" x=\"55\" y=\"219.6479\">ports</text><line style=\"stroke: #383838; stroke-width: 1.0;\" x1=\"85\" x2=\"102\" y1=\"216.3398\" y2=\"216.3398\"/></a><!--MD5=[ebbe1d658d1005bcc118a6aa81145e00]\n",
       "class E4--><a href=\"psysml:b5150c44-d935-4f31-a69b-527c90fd7c47\" target=\"_top\" title=\"psysml:b5150c44-d935-4f31-a69b-527c90fd7c47\" xlink:actuate=\"onRequest\" xlink:href=\"psysml:b5150c44-d935-4f31-a69b-527c90fd7c47\" xlink:show=\"new\" xlink:title=\"psysml:b5150c44-d935-4f31-a69b-527c90fd7c47\" xlink:type=\"simple\"><rect fill=\"#FFFFFF\" height=\"45.9375\" id=\"E4\" rx=\"10\" ry=\"10\" style=\"stroke: #383838; stroke-width: 1.5;\" width=\"42\" x=\"69\" y=\"317\"/><text fill=\"#000000\" font-family=\"sans-serif\" font-size=\"12\" font-style=\"italic\" lengthAdjust=\"spacingAndGlyphs\" textLength=\"40\" x=\"70\" y=\"333.1387\">«part»</text><text fill=\"#000000\" font-family=\"sans-serif\" font-size=\"12\" lengthAdjust=\"spacingAndGlyphs\" textLength=\"24\" x=\"78\" y=\"347.1074\">b: B</text><line style=\"stroke: #383838; stroke-width: 1.5;\" x1=\"70\" x2=\"110\" y1=\"354.9375\" y2=\"354.9375\"/></a><!--MD5=[60a26617385b1d2d0262a64233df1f8d]\n",
       "class E6--><a href=\"psysml:94fb1c4b-8096-4b0e-a0c8-00d5fe55de6c\" target=\"_top\" title=\"psysml:94fb1c4b-8096-4b0e-a0c8-00d5fe55de6c\" xlink:actuate=\"onRequest\" xlink:href=\"psysml:94fb1c4b-8096-4b0e-a0c8-00d5fe55de6c\" xlink:show=\"new\" xlink:title=\"psysml:94fb1c4b-8096-4b0e-a0c8-00d5fe55de6c\" xlink:type=\"simple\"><rect fill=\"#FFFFFF\" height=\"75.5469\" id=\"E6\" style=\"stroke: #383838; stroke-width: 1.5;\" width=\"66\" x=\"114\" y=\"424\"/><text fill=\"#000000\" font-family=\"sans-serif\" font-size=\"12\" font-style=\"italic\" lengthAdjust=\"spacingAndGlyphs\" textLength=\"64\" x=\"115\" y=\"440.1387\">«part def»</text><text fill=\"#000000\" font-family=\"sans-serif\" font-size=\"12\" lengthAdjust=\"spacingAndGlyphs\" textLength=\"8\" x=\"143\" y=\"454.1074\">B</text><line style=\"stroke: #383838; stroke-width: 1.5;\" x1=\"115\" x2=\"179\" y1=\"461.9375\" y2=\"461.9375\"/><text fill=\"#000000\" font-family=\"sans-serif\" font-size=\"11\" lengthAdjust=\"spacingAndGlyphs\" textLength=\"31\" x=\"120\" y=\"492.9526\">x: ~C</text><line style=\"stroke: #383838; stroke-width: 1.0;\" x1=\"115\" x2=\"132\" y1=\"476.3398\" y2=\"476.3398\"/><text fill=\"#000000\" font-family=\"sans-serif\" font-size=\"11\" lengthAdjust=\"spacingAndGlyphs\" textLength=\"30\" x=\"132\" y=\"479.6479\">ports</text><line style=\"stroke: #383838; stroke-width: 1.0;\" x1=\"162\" x2=\"179\" y1=\"476.3398\" y2=\"476.3398\"/></a><!--MD5=[2156ba9850f5573cc1fc38a6a4b2f02b]\n",
       "class E7--><a href=\"psysml:de084c60-8c86-4761-a316-7296396fb321\" target=\"_top\" title=\"psysml:de084c60-8c86-4761-a316-7296396fb321\" xlink:actuate=\"onRequest\" xlink:href=\"psysml:de084c60-8c86-4761-a316-7296396fb321\" xlink:show=\"new\" xlink:title=\"psysml:de084c60-8c86-4761-a316-7296396fb321\" xlink:type=\"simple\"><rect fill=\"#FFFFFF\" height=\"45.9375\" id=\"E7\" rx=\"10\" ry=\"10\" style=\"stroke: #383838; stroke-width: 1.5;\" width=\"42\" x=\"44\" y=\"564.5\"/><text fill=\"#000000\" font-family=\"sans-serif\" font-size=\"12\" font-style=\"italic\" lengthAdjust=\"spacingAndGlyphs\" textLength=\"40\" x=\"45\" y=\"580.6387\">«part»</text><text fill=\"#000000\" font-family=\"sans-serif\" font-size=\"12\" lengthAdjust=\"spacingAndGlyphs\" textLength=\"24\" x=\"53\" y=\"594.6074\">a: A</text><line style=\"stroke: #383838; stroke-width: 1.5;\" x1=\"45\" x2=\"85\" y1=\"602.4375\" y2=\"602.4375\"/></a><!--MD5=[96f4274e9e20536e775497830990834d]\n",
       "class E10--><a href=\"psysml:4c8e1ce2-7f9a-4661-9090-c510b6f01354\" target=\"_top\" title=\"psysml:4c8e1ce2-7f9a-4661-9090-c510b6f01354\" xlink:actuate=\"onRequest\" xlink:href=\"psysml:4c8e1ce2-7f9a-4661-9090-c510b6f01354\" xlink:show=\"new\" xlink:title=\"psysml:4c8e1ce2-7f9a-4661-9090-c510b6f01354\" xlink:type=\"simple\"><rect fill=\"#FFFFFF\" height=\"45.9375\" id=\"E10\" style=\"stroke: #383838; stroke-width: 1.5;\" width=\"66\" x=\"146\" y=\"41\"/><text fill=\"#000000\" font-family=\"sans-serif\" font-size=\"12\" font-style=\"italic\" lengthAdjust=\"spacingAndGlyphs\" textLength=\"64\" x=\"147\" y=\"57.1387\">«port def»</text><text fill=\"#000000\" font-family=\"sans-serif\" font-size=\"12\" lengthAdjust=\"spacingAndGlyphs\" textLength=\"8\" x=\"175\" y=\"71.1074\">C</text><line style=\"stroke: #383838; stroke-width: 1.5;\" x1=\"147\" x2=\"211\" y1=\"78.9375\" y2=\"78.9375\"/></a><a href=\"psysml:4c76b494-1a6c-482d-b35c-aa72d24bc41e\" target=\"_top\" title=\"psysml:4c76b494-1a6c-482d-b35c-aa72d24bc41e\" xlink:actuate=\"onRequest\" xlink:href=\"psysml:4c76b494-1a6c-482d-b35c-aa72d24bc41e\" xlink:show=\"new\" xlink:title=\"psysml:4c76b494-1a6c-482d-b35c-aa72d24bc41e\" xlink:type=\"simple\"><polygon fill=\"#FFFFFF\" points=\"132,561,148,561,155,583.2969,162,583.2969,162,613.5938,132,613.5938,132,561\" style=\"stroke: #000000; stroke-width: 1.5;\"/><line style=\"stroke: #000000; stroke-width: 1.5;\" x1=\"132\" x2=\"155\" y1=\"583.2969\" y2=\"583.2969\"/><text fill=\"#000000\" font-family=\"sans-serif\" font-size=\"14\" font-weight=\"bold\" lengthAdjust=\"spacingAndGlyphs\" textLength=\"10\" x=\"136\" y=\"575.9951\">P</text></a><!--MD5=[2720a5a1f2c3fca2055b230370638851]\n",
       "link E2 to E3--><a href=\"psysml:38cdc859-4dfa-4bc4-87cd-169dd5acc896\" target=\"_top\" title=\"psysml:38cdc859-4dfa-4bc4-87cd-169dd5acc896\" xlink:actuate=\"onRequest\" xlink:href=\"psysml:38cdc859-4dfa-4bc4-87cd-169dd5acc896\" xlink:show=\"new\" xlink:title=\"psysml:38cdc859-4dfa-4bc4-87cd-169dd5acc896\" xlink:type=\"simple\"><path d=\"M43.23,87.08 C38.46,100.64 34.45,118.34 38,134 C38.82,137.61 39.86,141.26 41.06,144.89 \" fill=\"none\" id=\"E2-&gt;E3\" style=\"stroke: #383838; stroke-width: 1.0;\"/><polygon fill=\"#FFFFFF\" points=\"48.65,163.8,35.0703,148.7803,48.0607,143.5601,48.65,163.8\" style=\"stroke: #383838; stroke-width: 1.0;\"/><ellipse cx=\"34.8007\" cy=\"142.7456\" fill=\"#383838\" rx=\"2\" ry=\"2\" style=\"stroke: #383838; stroke-width: 1.0;\"/><ellipse cx=\"44.0796\" cy=\"139.0169\" fill=\"#383838\" rx=\"2\" ry=\"2\" style=\"stroke: #383838; stroke-width: 1.0;\"/></a><!--MD5=[4672eba38e49728da53d11aeb285b987]\n",
       "reverse link E3 to E4--><a href=\"psysml:5ebdadf2-6044-45bc-aa24-2da7c79aba16\" target=\"_top\" title=\"psysml:5ebdadf2-6044-45bc-aa24-2da7c79aba16\" xlink:actuate=\"onRequest\" xlink:href=\"psysml:5ebdadf2-6044-45bc-aa24-2da7c79aba16\" xlink:show=\"new\" xlink:title=\"psysml:5ebdadf2-6044-45bc-aa24-2da7c79aba16\" xlink:type=\"simple\"><path d=\"M72.88,253.51 C73.88,264.59 75.22,276.22 77,287 C78.64,296.92 81.21,307.72 83.63,316.9 \" fill=\"none\" id=\"E3&lt;-E4\" style=\"stroke: #383838; stroke-width: 1.0;\"/><polygon fill=\"#383838\" points=\"71.81,240.38,68.3042,246.6816,72.7727,252.3413,76.2785,246.0398,71.81,240.38\" style=\"stroke: #383838; stroke-width: 1.0;\"/></a><!--MD5=[79568f1e445c3877b6a54524624ccc7d]\n",
       "link E4 to E6--><a href=\"psysml:1fd8d685-c326-41aa-b421-a8308f20148e\" target=\"_top\" title=\"psysml:1fd8d685-c326-41aa-b421-a8308f20148e\" xlink:actuate=\"onRequest\" xlink:href=\"psysml:1fd8d685-c326-41aa-b421-a8308f20148e\" xlink:show=\"new\" xlink:title=\"psysml:1fd8d685-c326-41aa-b421-a8308f20148e\" xlink:type=\"simple\"><path d=\"M100.45,363.01 C106.1,374.9 113.36,390.18 120.46,405.12 \" fill=\"none\" id=\"E4-&gt;E6\" style=\"stroke: #383838; stroke-width: 1.0;\"/><polygon fill=\"#FFFFFF\" points=\"129.22,423.57,114.7395,409.4167,127.3831,403.405,129.22,423.57\" style=\"stroke: #383838; stroke-width: 1.0;\"/><ellipse cx=\"114.0981\" cy=\"403.4102\" fill=\"#383838\" rx=\"2\" ry=\"2\" style=\"stroke: #383838; stroke-width: 1.0;\"/><ellipse cx=\"123.1292\" cy=\"399.1161\" fill=\"#383838\" rx=\"2\" ry=\"2\" style=\"stroke: #383838; stroke-width: 1.0;\"/></a><!--MD5=[3f50a3473f1dfb74d3f76443e03635af]\n",
       "reverse link E6 to E7--><a href=\"psysml:c471fe89-f766-40f3-82e0-5e28332f3a67\" target=\"_top\" title=\"psysml:c471fe89-f766-40f3-82e0-5e28332f3a67\" xlink:actuate=\"onRequest\" xlink:href=\"psysml:c471fe89-f766-40f3-82e0-5e28332f3a67\" xlink:show=\"new\" xlink:title=\"psysml:c471fe89-f766-40f3-82e0-5e28332f3a67\" xlink:type=\"simple\"><path d=\"M115.19,510.9 C103,529.26 89.67,549.34 79.81,564.19 \" fill=\"none\" id=\"E6&lt;-E7\" style=\"stroke: #383838; stroke-width: 1.0;\"/><polygon fill=\"#383838\" points=\"122.4,500.05,115.7495,502.8377,115.7649,510.0488,122.4154,507.2611,122.4,500.05\" style=\"stroke: #383838; stroke-width: 1.0;\"/></a><!--MD5=[14ccda38c055a5c0da953d572bc50960]\n",
       "link E7 to E3--><a href=\"psysml:ce24e444-eb42-4eaa-91b0-86c1efe7ffc5\" target=\"_top\" title=\"psysml:ce24e444-eb42-4eaa-91b0-86c1efe7ffc5\" xlink:actuate=\"onRequest\" xlink:href=\"psysml:ce24e444-eb42-4eaa-91b0-86c1efe7ffc5\" xlink:show=\"new\" xlink:title=\"psysml:ce24e444-eb42-4eaa-91b0-86c1efe7ffc5\" xlink:type=\"simple\"><path d=\"M61.85,564.46 C55.72,518.43 43.41,408.75 51,317 C52.55,298.29 55.5,278.02 58.63,259.84 \" fill=\"none\" id=\"E7-&gt;E3\" style=\"stroke: #383838; stroke-width: 1.0;\"/><polygon fill=\"#FFFFFF\" points=\"62.24,240.03,65.7193,259.9773,51.9463,257.4667,62.24,240.03\" style=\"stroke: #383838; stroke-width: 1.0;\"/><ellipse cx=\"62.7296\" cy=\"265.2262\" fill=\"#383838\" rx=\"2\" ry=\"2\" style=\"stroke: #383838; stroke-width: 1.0;\"/><ellipse cx=\"52.8917\" cy=\"263.433\" fill=\"#383838\" rx=\"2\" ry=\"2\" style=\"stroke: #383838; stroke-width: 1.0;\"/></a><!--MD5=[e88d06e5a652d73a6b19930eefe025a8]\n",
       "reverse link E6 to E9--><a href=\"psysml:cabff1fd-5442-4a71-976e-341ac2e5dda1\" target=\"_top\" title=\"psysml:cabff1fd-5442-4a71-976e-341ac2e5dda1\" xlink:actuate=\"onRequest\" xlink:href=\"psysml:cabff1fd-5442-4a71-976e-341ac2e5dda1\" xlink:show=\"new\" xlink:title=\"psysml:cabff1fd-5442-4a71-976e-341ac2e5dda1\" xlink:type=\"simple\"><path d=\"M147,515.35 C147,531.08 147,547.65 147,560.83 \" fill=\"none\" id=\"E6&lt;-E9\" style=\"stroke: #383838; stroke-width: 1.0;\"/><ellipse cx=\"147\" cy=\"508.05\" fill=\"#FFFFFF\" rx=\"8\" ry=\"8\" style=\"stroke: #383838; stroke-width: 1.0;\"/><line style=\"stroke: #383838; stroke-width: 1.0;\" x1=\"147\" x2=\"147\" y1=\"516.05\" y2=\"500.05\"/><line style=\"stroke: #383838; stroke-width: 1.0;\" x1=\"139\" x2=\"155\" y1=\"508.05\" y2=\"508.05\"/></a><!--MD5=[8e04057e7b3cbc0dca4fc78ea351e2da]\n",
       "reverse link E10 to E3--><a href=\"psysml:a19db77c-da80-41d6-a5f2-85a22676bfcf\" target=\"_top\" title=\"psysml:a19db77c-da80-41d6-a5f2-85a22676bfcf\" xlink:actuate=\"onRequest\" xlink:href=\"psysml:a19db77c-da80-41d6-a5f2-85a22676bfcf\" xlink:show=\"new\" xlink:title=\"psysml:a19db77c-da80-41d6-a5f2-85a22676bfcf\" xlink:type=\"simple\"><path d=\"M133.33,76.35 C111.95,84.13 88.32,96.81 75,117 C66.07,130.53 63.94,148.12 64.4,163.71 \" fill=\"none\" id=\"E10&lt;-E3\" style=\"stroke: #383838; stroke-width: 1.0;\"/><polygon fill=\"#FFFFFF\" points=\"145.89,72.22,138.939,70.3009,134.494,75.9791,141.445,77.8982,145.89,72.22\" style=\"stroke: #383838; stroke-width: 1.0;\"/><text fill=\"#000000\" font-family=\"sans-serif\" font-size=\"13\" lengthAdjust=\"spacingAndGlyphs\" textLength=\"7\" x=\"76\" y=\"130.0669\">y</text></a><!--MD5=[8e04057e7b3cbc0dca4fc78ea351e2da]\n",
       "reverse link E10 to E3--><a href=\"psysml:a19db77c-da80-41d6-a5f2-85a22676bfcf\" target=\"_top\" title=\"psysml:a19db77c-da80-41d6-a5f2-85a22676bfcf\" xlink:actuate=\"onRequest\" xlink:href=\"psysml:a19db77c-da80-41d6-a5f2-85a22676bfcf\" xlink:show=\"new\" xlink:title=\"psysml:a19db77c-da80-41d6-a5f2-85a22676bfcf\" xlink:type=\"simple\"><path d=\"M143.35,96.28 C136.62,102.85 129.86,109.93 124,117 C112.05,131.41 100.57,148.61 91.29,163.69 \" fill=\"none\" id=\"E10&lt;-E3-1\" style=\"stroke: #383838; stroke-width: 1.0;\"/><polygon fill=\"#FFFFFF\" points=\"153.08,87.1,145.9702,88.3047,144.3478,95.331,151.4576,94.1262,153.08,87.1\" style=\"stroke: #383838; stroke-width: 1.0;\"/><text fill=\"#000000\" font-family=\"sans-serif\" font-size=\"13\" lengthAdjust=\"spacingAndGlyphs\" textLength=\"7\" x=\"125\" y=\"130.0669\">y</text></a><!--MD5=[8e04057e7b3cbc0dca4fc78ea351e2da]\n",
       "reverse link E10 to E3--><a href=\"psysml:a19db77c-da80-41d6-a5f2-85a22676bfcf\" target=\"_top\" title=\"psysml:a19db77c-da80-41d6-a5f2-85a22676bfcf\" xlink:actuate=\"onRequest\" xlink:href=\"psysml:a19db77c-da80-41d6-a5f2-85a22676bfcf\" xlink:show=\"new\" xlink:title=\"psysml:a19db77c-da80-41d6-a5f2-85a22676bfcf\" xlink:type=\"simple\"><path d=\"M158.49,98.17 C150.89,109.8 141.93,122.76 133,134 C123.86,145.5 113.16,157.39 103.19,167.9 \" fill=\"none\" id=\"E10&lt;-E3-2\" style=\"stroke: #383838; stroke-width: 1.0;\"/><polygon fill=\"#FFFFFF\" points=\"165.6,87.1,158.9946,89.9928,159.1242,97.2027,165.7297,94.3099,165.6,87.1\" style=\"stroke: #383838; stroke-width: 1.0;\"/><text fill=\"#000000\" font-family=\"sans-serif\" font-size=\"13\" lengthAdjust=\"spacingAndGlyphs\" textLength=\"7\" x=\"146\" y=\"130.0669\">y</text></a><!--MD5=[604cbf994c02b74b117f728a71673cea]\n",
       "reverse link E10 to E6--><a href=\"psysml:a19db77c-da80-41d6-a5f2-85a22676bfcf\" target=\"_top\" title=\"psysml:a19db77c-da80-41d6-a5f2-85a22676bfcf\" xlink:actuate=\"onRequest\" xlink:href=\"psysml:a19db77c-da80-41d6-a5f2-85a22676bfcf\" xlink:show=\"new\" xlink:title=\"psysml:a19db77c-da80-41d6-a5f2-85a22676bfcf\" xlink:type=\"simple\"><path d=\"M197.26,99.16 C199.64,104.97 201.69,111.05 203,117 C204.62,124.38 203.15,126.45 203,134 C200.78,249.62 229.38,284.23 193,394 C189.58,404.31 184.06,414.48 178.01,423.66 \" fill=\"none\" id=\"E10&lt;-E6\" style=\"stroke: #383838; stroke-width: 1.0;\"/><polygon fill=\"#FFFFFF\" points=\"191.73,87.03,190.583,94.1493,196.7135,97.9463,197.8605,90.827,191.73,87.03\" style=\"stroke: #383838; stroke-width: 1.0;\"/><text fill=\"#000000\" font-family=\"sans-serif\" font-size=\"13\" lengthAdjust=\"spacingAndGlyphs\" textLength=\"7\" x=\"212\" y=\"283.0669\">y</text></a><!--MD5=[604cbf994c02b74b117f728a71673cea]\n",
       "reverse link E10 to E6--><a href=\"psysml:a19db77c-da80-41d6-a5f2-85a22676bfcf\" target=\"_top\" title=\"psysml:a19db77c-da80-41d6-a5f2-85a22676bfcf\" xlink:actuate=\"onRequest\" xlink:href=\"psysml:a19db77c-da80-41d6-a5f2-85a22676bfcf\" xlink:show=\"new\" xlink:title=\"psysml:a19db77c-da80-41d6-a5f2-85a22676bfcf\" xlink:type=\"simple\"><path d=\"M171.02,99.85 C168.34,110.83 165.22,122.97 162,134 C144.13,195.25 126.36,207.04 116,270 C114.77,277.46 114.57,279.58 116,287 C118.72,301.1 124.37,303.11 128,317 C137.32,352.62 142.19,394.45 144.65,423.82 \" fill=\"none\" id=\"E10&lt;-E6-1\" style=\"stroke: #383838; stroke-width: 1.0;\"/><polygon fill=\"#FFFFFF\" points=\"174.04,87.19,168.7576,92.0987,171.257,98.8628,176.5394,93.9541,174.04,87.19\" style=\"stroke: #383838; stroke-width: 1.0;\"/><text fill=\"#000000\" font-family=\"sans-serif\" font-size=\"13\" lengthAdjust=\"spacingAndGlyphs\" textLength=\"7\" x=\"117\" y=\"283.0669\">y</text></a><!--MD5=[604cbf994c02b74b117f728a71673cea]\n",
       "reverse link E10 to E6--><a href=\"psysml:a19db77c-da80-41d6-a5f2-85a22676bfcf\" target=\"_top\" title=\"psysml:a19db77c-da80-41d6-a5f2-85a22676bfcf\" xlink:actuate=\"onRequest\" xlink:href=\"psysml:a19db77c-da80-41d6-a5f2-85a22676bfcf\" xlink:show=\"new\" xlink:title=\"psysml:a19db77c-da80-41d6-a5f2-85a22676bfcf\" xlink:type=\"simple\"><path d=\"M176.15,100.27 C170.13,174.82 156.15,347.78 150,423.9 \" fill=\"none\" id=\"E10&lt;-E6-2\" style=\"stroke: #383838; stroke-width: 1.0;\"/><polygon fill=\"#FFFFFF\" points=\"177.21,87.14,172.7415,92.7998,176.2473,99.1013,180.7158,93.4416,177.21,87.14\" style=\"stroke: #383838; stroke-width: 1.0;\"/><text fill=\"#000000\" font-family=\"sans-serif\" font-size=\"13\" lengthAdjust=\"spacingAndGlyphs\" textLength=\"7\" x=\"163\" y=\"283.0669\">y</text></a><!--MD5=[54d7b207864003fec48dcf798ef69aef]\n",
       "@startuml\r\n",
       "top to bottom direction\r\n",
       "skinparam monochrome true\r\n",
       "skinparam classbackgroundcolor white\r\n",
       "skinparam shadowing false\r\n",
       "skinparam wrapWidth 300\r\n",
       "hide circle\r\n",
       "\r\n",
       "package \"PartTest\" as E1  [[psysml:c65cc0cd-28b1-4d7a-bc05-02136890ed9a ]]  {\r\n",
       "comp usage \"f: A\" as E2  <<(T,blue)part>> [[psysml:634826b2-2fc2-4798-92ed-071cd1dffdd8 ]] {\r\n",
       "}\r\n",
       "comp def \"A\" as E3  <<(T,blue)part def>> [[psysml:36aba5eb-a810-4976-a211-fcdfb7b330f5 ]] {\r\n",
       "- - ports - -\r\n",
       "c: C\r\n",
       "}\r\n",
       "comp usage \"b: B\" as E4  <<(T,blue)part>> [[psysml:b5150c44-d935-4f31-a69b-527c90fd7c47 ]] {\r\n",
       "}\r\n",
       "comp def \"B\" as E6  <<(T,blue)part def>> [[psysml:94fb1c4b-8096-4b0e-a0c8-00d5fe55de6c ]] {\r\n",
       "- - ports - -\r\n",
       "x: ~C\r\n",
       "}\r\n",
       "comp usage \"a: A\" as E7  <<(T,blue)part>> [[psysml:de084c60-8c86-4761-a316-7296396fb321 ]] {\r\n",
       "}\r\n",
       "package \"P\" as E9  [[psysml:4c76b494-1a6c-482d-b35c-aa72d24bc41e ]]  {\r\n",
       "}\r\n",
       "comp def \"C\" as E10  <<(T,blue)port def>> [[psysml:4c8e1ce2-7f9a-4661-9090-c510b6f01354 ]] {\r\n",
       "}\r\n",
       "E2 - -:|> E3 [[psysml:38cdc859-4dfa-4bc4-87cd-169dd5acc896 ]] \r\n",
       "E3 *- - E4 [[psysml:5ebdadf2-6044-45bc-aa24-2da7c79aba16 ]] \r\n",
       "E4 - -:|> E6 [[psysml:1fd8d685-c326-41aa-b421-a8308f20148e ]] \r\n",
       "E6 *- - E7 [[psysml:c471fe89-f766-40f3-82e0-5e28332f3a67 ]] \r\n",
       "E7 - -:|> E3 [[psysml:ce24e444-eb42-4eaa-91b0-86c1efe7ffc5 ]] \r\n",
       "E6 +- - E9 [[psysml:cabff1fd-5442-4a71-976e-341ac2e5dda1 ]] \r\n",
       "E10 o- - E3 [[psysml:a19db77c-da80-41d6-a5f2-85a22676bfcf ]] : y\r\n",
       "E10 o- - E6 [[psysml:a19db77c-da80-41d6-a5f2-85a22676bfcf ]] : y\r\n",
       "E10 o- - E3 [[psysml:a19db77c-da80-41d6-a5f2-85a22676bfcf ]] : y\r\n",
       "E10 o- - E6 [[psysml:a19db77c-da80-41d6-a5f2-85a22676bfcf ]] : y\r\n",
       "E10 o- - E3 [[psysml:a19db77c-da80-41d6-a5f2-85a22676bfcf ]] : y\r\n",
       "E10 o- - E6 [[psysml:a19db77c-da80-41d6-a5f2-85a22676bfcf ]] : y\r\n",
       "}\r\n",
       "@enduml\r\n",
       "\n",
       "PlantUML version 1.2020.13(Sat Jun 13 12:26:38 UTC 2020)\n",
       "(EPL source distribution)\n",
       "Java Runtime: OpenJDK Runtime Environment\n",
       "JVM: OpenJDK 64-Bit Server VM\n",
       "Default Encoding: UTF-8\n",
       "Language: en\n",
       "Country: null\n",
       "--></g></svg>"
      ]
     },
     "execution_count": 50,
     "metadata": {},
     "output_type": "execute_result"
    }
   ],
   "source": [
    "%viz --style=\"TB\" --view=\"MIXED\" \"PartTest\""
   ]
  },
  {
   "cell_type": "code",
   "execution_count": 51,
   "id": "4f196ee4",
   "metadata": {
    "execution": {
     "iopub.execute_input": "2021-04-20T07:29:16.483619Z",
     "iopub.status.busy": "2021-04-20T07:29:16.482553Z",
     "iopub.status.idle": "2021-04-20T07:29:16.583328Z",
     "shell.execute_reply": "2021-04-20T07:29:16.579298Z"
    }
   },
   "outputs": [
    {
     "data": {
      "image/svg+xml": [
       "<?xml version=\"1.0\" encoding=\"UTF-8\" standalone=\"no\"?><svg xmlns=\"http://www.w3.org/2000/svg\" xmlns:xlink=\"http://www.w3.org/1999/xlink\" contentScriptType=\"application/ecmascript\" contentStyleType=\"text/css\" height=\"642px\" preserveAspectRatio=\"none\" style=\"width:260px;height:642px;\" version=\"1.1\" viewBox=\"0 0 260 642\" width=\"260px\" zoomAndPan=\"magnify\"><defs/><g><!--MD5=[fbc87193dbaf4d95561dea2c320d4a47]\n",
       "cluster E1--><a href=\"psysml:c65cc0cd-28b1-4d7a-bc05-02136890ed9a\" target=\"_top\" title=\"psysml:c65cc0cd-28b1-4d7a-bc05-02136890ed9a\" xlink:actuate=\"onRequest\" xlink:href=\"psysml:c65cc0cd-28b1-4d7a-bc05-02136890ed9a\" xlink:show=\"new\" xlink:title=\"psysml:c65cc0cd-28b1-4d7a-bc05-02136890ed9a\" xlink:type=\"simple\"><polygon fill=\"#FFFFFF\" points=\"16,6,89,6,96,28.2969,238,28.2969,238,630,16,630,16,6\" style=\"stroke: #000000; stroke-width: 1.5;\"/><line style=\"stroke: #000000; stroke-width: 1.5;\" x1=\"16\" x2=\"96\" y1=\"28.2969\" y2=\"28.2969\"/><text fill=\"#000000\" font-family=\"sans-serif\" font-size=\"14\" font-weight=\"bold\" lengthAdjust=\"spacingAndGlyphs\" textLength=\"67\" x=\"20\" y=\"20.9951\">PartTest</text></a><!--MD5=[b4997ac47864f28c2f74865a473b2911]\n",
       "class E2--><a href=\"psysml:634826b2-2fc2-4798-92ed-071cd1dffdd8\" target=\"_top\" title=\"psysml:634826b2-2fc2-4798-92ed-071cd1dffdd8\" xlink:actuate=\"onRequest\" xlink:href=\"psysml:634826b2-2fc2-4798-92ed-071cd1dffdd8\" xlink:show=\"new\" xlink:title=\"psysml:634826b2-2fc2-4798-92ed-071cd1dffdd8\" xlink:type=\"simple\"><rect fill=\"#FFFFFF\" height=\"45.9375\" id=\"E2\" rx=\"10\" ry=\"10\" style=\"stroke: #383838; stroke-width: 1.5;\" width=\"42\" x=\"32\" y=\"41\"/><text fill=\"#000000\" font-family=\"sans-serif\" font-size=\"12\" font-style=\"italic\" lengthAdjust=\"spacingAndGlyphs\" textLength=\"40\" x=\"33\" y=\"57.1387\">«part»</text><text fill=\"#000000\" font-family=\"sans-serif\" font-size=\"12\" lengthAdjust=\"spacingAndGlyphs\" textLength=\"20\" x=\"43\" y=\"71.1074\">f: A</text><line style=\"stroke: #383838; stroke-width: 1.5;\" x1=\"33\" x2=\"73\" y1=\"78.9375\" y2=\"78.9375\"/></a><!--MD5=[09b614a08d8cba4a07c9adeb5e0fee81]\n",
       "class E3--><a href=\"psysml:36aba5eb-a810-4976-a211-fcdfb7b330f5\" target=\"_top\" title=\"psysml:36aba5eb-a810-4976-a211-fcdfb7b330f5\" xlink:actuate=\"onRequest\" xlink:href=\"psysml:36aba5eb-a810-4976-a211-fcdfb7b330f5\" xlink:show=\"new\" xlink:title=\"psysml:36aba5eb-a810-4976-a211-fcdfb7b330f5\" xlink:type=\"simple\"><rect fill=\"#FFFFFF\" height=\"75.5469\" id=\"E3\" style=\"stroke: #383838; stroke-width: 1.5;\" width=\"66\" x=\"37\" y=\"164\"/><text fill=\"#000000\" font-family=\"sans-serif\" font-size=\"12\" font-style=\"italic\" lengthAdjust=\"spacingAndGlyphs\" textLength=\"64\" x=\"38\" y=\"180.1387\">«part def»</text><text fill=\"#000000\" font-family=\"sans-serif\" font-size=\"12\" lengthAdjust=\"spacingAndGlyphs\" textLength=\"8\" x=\"66\" y=\"194.1074\">A</text><line style=\"stroke: #383838; stroke-width: 1.5;\" x1=\"38\" x2=\"102\" y1=\"201.9375\" y2=\"201.9375\"/><text fill=\"#000000\" font-family=\"sans-serif\" font-size=\"11\" lengthAdjust=\"spacingAndGlyphs\" textLength=\"22\" x=\"43\" y=\"232.9526\">c: C</text><line style=\"stroke: #383838; stroke-width: 1.0;\" x1=\"38\" x2=\"55\" y1=\"216.3398\" y2=\"216.3398\"/><text fill=\"#000000\" font-family=\"sans-serif\" font-size=\"11\" lengthAdjust=\"spacingAndGlyphs\" textLength=\"30\" x=\"55\" y=\"219.6479\">ports</text><line style=\"stroke: #383838; stroke-width: 1.0;\" x1=\"85\" x2=\"102\" y1=\"216.3398\" y2=\"216.3398\"/></a><!--MD5=[ebbe1d658d1005bcc118a6aa81145e00]\n",
       "class E4--><a href=\"psysml:b5150c44-d935-4f31-a69b-527c90fd7c47\" target=\"_top\" title=\"psysml:b5150c44-d935-4f31-a69b-527c90fd7c47\" xlink:actuate=\"onRequest\" xlink:href=\"psysml:b5150c44-d935-4f31-a69b-527c90fd7c47\" xlink:show=\"new\" xlink:title=\"psysml:b5150c44-d935-4f31-a69b-527c90fd7c47\" xlink:type=\"simple\"><rect fill=\"#FFFFFF\" height=\"45.9375\" id=\"E4\" rx=\"10\" ry=\"10\" style=\"stroke: #383838; stroke-width: 1.5;\" width=\"42\" x=\"69\" y=\"317\"/><text fill=\"#000000\" font-family=\"sans-serif\" font-size=\"12\" font-style=\"italic\" lengthAdjust=\"spacingAndGlyphs\" textLength=\"40\" x=\"70\" y=\"333.1387\">«part»</text><text fill=\"#000000\" font-family=\"sans-serif\" font-size=\"12\" lengthAdjust=\"spacingAndGlyphs\" textLength=\"24\" x=\"78\" y=\"347.1074\">b: B</text><line style=\"stroke: #383838; stroke-width: 1.5;\" x1=\"70\" x2=\"110\" y1=\"354.9375\" y2=\"354.9375\"/></a><!--MD5=[60a26617385b1d2d0262a64233df1f8d]\n",
       "class E6--><a href=\"psysml:94fb1c4b-8096-4b0e-a0c8-00d5fe55de6c\" target=\"_top\" title=\"psysml:94fb1c4b-8096-4b0e-a0c8-00d5fe55de6c\" xlink:actuate=\"onRequest\" xlink:href=\"psysml:94fb1c4b-8096-4b0e-a0c8-00d5fe55de6c\" xlink:show=\"new\" xlink:title=\"psysml:94fb1c4b-8096-4b0e-a0c8-00d5fe55de6c\" xlink:type=\"simple\"><rect fill=\"#FFFFFF\" height=\"75.5469\" id=\"E6\" style=\"stroke: #383838; stroke-width: 1.5;\" width=\"66\" x=\"114\" y=\"424\"/><text fill=\"#000000\" font-family=\"sans-serif\" font-size=\"12\" font-style=\"italic\" lengthAdjust=\"spacingAndGlyphs\" textLength=\"64\" x=\"115\" y=\"440.1387\">«part def»</text><text fill=\"#000000\" font-family=\"sans-serif\" font-size=\"12\" lengthAdjust=\"spacingAndGlyphs\" textLength=\"8\" x=\"143\" y=\"454.1074\">B</text><line style=\"stroke: #383838; stroke-width: 1.5;\" x1=\"115\" x2=\"179\" y1=\"461.9375\" y2=\"461.9375\"/><text fill=\"#000000\" font-family=\"sans-serif\" font-size=\"11\" lengthAdjust=\"spacingAndGlyphs\" textLength=\"31\" x=\"120\" y=\"492.9526\">x: ~C</text><line style=\"stroke: #383838; stroke-width: 1.0;\" x1=\"115\" x2=\"132\" y1=\"476.3398\" y2=\"476.3398\"/><text fill=\"#000000\" font-family=\"sans-serif\" font-size=\"11\" lengthAdjust=\"spacingAndGlyphs\" textLength=\"30\" x=\"132\" y=\"479.6479\">ports</text><line style=\"stroke: #383838; stroke-width: 1.0;\" x1=\"162\" x2=\"179\" y1=\"476.3398\" y2=\"476.3398\"/></a><!--MD5=[2156ba9850f5573cc1fc38a6a4b2f02b]\n",
       "class E7--><a href=\"psysml:de084c60-8c86-4761-a316-7296396fb321\" target=\"_top\" title=\"psysml:de084c60-8c86-4761-a316-7296396fb321\" xlink:actuate=\"onRequest\" xlink:href=\"psysml:de084c60-8c86-4761-a316-7296396fb321\" xlink:show=\"new\" xlink:title=\"psysml:de084c60-8c86-4761-a316-7296396fb321\" xlink:type=\"simple\"><rect fill=\"#FFFFFF\" height=\"45.9375\" id=\"E7\" rx=\"10\" ry=\"10\" style=\"stroke: #383838; stroke-width: 1.5;\" width=\"42\" x=\"44\" y=\"564.5\"/><text fill=\"#000000\" font-family=\"sans-serif\" font-size=\"12\" font-style=\"italic\" lengthAdjust=\"spacingAndGlyphs\" textLength=\"40\" x=\"45\" y=\"580.6387\">«part»</text><text fill=\"#000000\" font-family=\"sans-serif\" font-size=\"12\" lengthAdjust=\"spacingAndGlyphs\" textLength=\"24\" x=\"53\" y=\"594.6074\">a: A</text><line style=\"stroke: #383838; stroke-width: 1.5;\" x1=\"45\" x2=\"85\" y1=\"602.4375\" y2=\"602.4375\"/></a><!--MD5=[96f4274e9e20536e775497830990834d]\n",
       "class E10--><a href=\"psysml:4c8e1ce2-7f9a-4661-9090-c510b6f01354\" target=\"_top\" title=\"psysml:4c8e1ce2-7f9a-4661-9090-c510b6f01354\" xlink:actuate=\"onRequest\" xlink:href=\"psysml:4c8e1ce2-7f9a-4661-9090-c510b6f01354\" xlink:show=\"new\" xlink:title=\"psysml:4c8e1ce2-7f9a-4661-9090-c510b6f01354\" xlink:type=\"simple\"><rect fill=\"#FFFFFF\" height=\"45.9375\" id=\"E10\" style=\"stroke: #383838; stroke-width: 1.5;\" width=\"66\" x=\"146\" y=\"41\"/><text fill=\"#000000\" font-family=\"sans-serif\" font-size=\"12\" font-style=\"italic\" lengthAdjust=\"spacingAndGlyphs\" textLength=\"64\" x=\"147\" y=\"57.1387\">«port def»</text><text fill=\"#000000\" font-family=\"sans-serif\" font-size=\"12\" lengthAdjust=\"spacingAndGlyphs\" textLength=\"8\" x=\"175\" y=\"71.1074\">C</text><line style=\"stroke: #383838; stroke-width: 1.5;\" x1=\"147\" x2=\"211\" y1=\"78.9375\" y2=\"78.9375\"/></a><a href=\"psysml:4c76b494-1a6c-482d-b35c-aa72d24bc41e\" target=\"_top\" title=\"psysml:4c76b494-1a6c-482d-b35c-aa72d24bc41e\" xlink:actuate=\"onRequest\" xlink:href=\"psysml:4c76b494-1a6c-482d-b35c-aa72d24bc41e\" xlink:show=\"new\" xlink:title=\"psysml:4c76b494-1a6c-482d-b35c-aa72d24bc41e\" xlink:type=\"simple\"><polygon fill=\"#FFFFFF\" points=\"132,561,148,561,155,583.2969,162,583.2969,162,613.5938,132,613.5938,132,561\" style=\"stroke: #000000; stroke-width: 1.5;\"/><line style=\"stroke: #000000; stroke-width: 1.5;\" x1=\"132\" x2=\"155\" y1=\"583.2969\" y2=\"583.2969\"/><text fill=\"#000000\" font-family=\"sans-serif\" font-size=\"14\" font-weight=\"bold\" lengthAdjust=\"spacingAndGlyphs\" textLength=\"10\" x=\"136\" y=\"575.9951\">P</text></a><!--MD5=[2720a5a1f2c3fca2055b230370638851]\n",
       "link E2 to E3--><a href=\"psysml:38cdc859-4dfa-4bc4-87cd-169dd5acc896\" target=\"_top\" title=\"psysml:38cdc859-4dfa-4bc4-87cd-169dd5acc896\" xlink:actuate=\"onRequest\" xlink:href=\"psysml:38cdc859-4dfa-4bc4-87cd-169dd5acc896\" xlink:show=\"new\" xlink:title=\"psysml:38cdc859-4dfa-4bc4-87cd-169dd5acc896\" xlink:type=\"simple\"><path d=\"M55.5,87.1 C55.5,87.1 55.5,143.96 55.5,143.96 \" fill=\"none\" id=\"E2-&gt;E3\" style=\"stroke: #383838; stroke-width: 1.0;\"/><polygon fill=\"#FFFFFF\" points=\"55.5,163.96,48.5,144.96,62.5,144.96,55.5,163.96\" style=\"stroke: #383838; stroke-width: 1.0;\"/><ellipse cx=\"50.5\" cy=\"139.26\" fill=\"#383838\" rx=\"2\" ry=\"2\" style=\"stroke: #383838; stroke-width: 1.0;\"/><ellipse cx=\"60.5\" cy=\"139.26\" fill=\"#383838\" rx=\"2\" ry=\"2\" style=\"stroke: #383838; stroke-width: 1.0;\"/></a><!--MD5=[4672eba38e49728da53d11aeb285b987]\n",
       "reverse link E3 to E4--><a href=\"psysml:5ebdadf2-6044-45bc-aa24-2da7c79aba16\" target=\"_top\" title=\"psysml:5ebdadf2-6044-45bc-aa24-2da7c79aba16\" xlink:actuate=\"onRequest\" xlink:href=\"psysml:5ebdadf2-6044-45bc-aa24-2da7c79aba16\" xlink:show=\"new\" xlink:title=\"psysml:5ebdadf2-6044-45bc-aa24-2da7c79aba16\" xlink:type=\"simple\"><path d=\"M86,253.07 C86,253.07 86,316.75 86,316.75 \" fill=\"none\" id=\"E3&lt;-E4\" style=\"stroke: #383838; stroke-width: 1.0;\"/><polygon fill=\"#383838\" points=\"86,240.07,82,246.07,86,252.07,90,246.07,86,240.07\" style=\"stroke: #383838; stroke-width: 1.0;\"/></a><!--MD5=[79568f1e445c3877b6a54524624ccc7d]\n",
       "link E4 to E6--><a href=\"psysml:1fd8d685-c326-41aa-b421-a8308f20148e\" target=\"_top\" title=\"psysml:1fd8d685-c326-41aa-b421-a8308f20148e\" xlink:actuate=\"onRequest\" xlink:href=\"psysml:1fd8d685-c326-41aa-b421-a8308f20148e\" xlink:show=\"new\" xlink:title=\"psysml:1fd8d685-c326-41aa-b421-a8308f20148e\" xlink:type=\"simple\"><path d=\"M111.41,340 C120.92,340 130,340 130,340 C130,340 130,403.73 130,403.73 \" fill=\"none\" id=\"E4-&gt;E6\" style=\"stroke: #383838; stroke-width: 1.0;\"/><polygon fill=\"#FFFFFF\" points=\"130,423.73,123,404.73,137,404.73,130,423.73\" style=\"stroke: #383838; stroke-width: 1.0;\"/><ellipse cx=\"125\" cy=\"399.03\" fill=\"#383838\" rx=\"2\" ry=\"2\" style=\"stroke: #383838; stroke-width: 1.0;\"/><ellipse cx=\"135\" cy=\"399.03\" fill=\"#383838\" rx=\"2\" ry=\"2\" style=\"stroke: #383838; stroke-width: 1.0;\"/></a><!--MD5=[3f50a3473f1dfb74d3f76443e03635af]\n",
       "reverse link E6 to E7--><a href=\"psysml:c471fe89-f766-40f3-82e0-5e28332f3a67\" target=\"_top\" title=\"psysml:c471fe89-f766-40f3-82e0-5e28332f3a67\" xlink:actuate=\"onRequest\" xlink:href=\"psysml:c471fe89-f766-40f3-82e0-5e28332f3a67\" xlink:show=\"new\" xlink:title=\"psysml:c471fe89-f766-40f3-82e0-5e28332f3a67\" xlink:type=\"simple\"><path d=\"M123,513.15 C123,513.15 123,588 123,588 C123,588 102.82,588 86.27,588 \" fill=\"none\" id=\"E6&lt;-E7\" style=\"stroke: #383838; stroke-width: 1.0;\"/><polygon fill=\"#383838\" points=\"123,500.15,119,506.15,123,512.15,127,506.15,123,500.15\" style=\"stroke: #383838; stroke-width: 1.0;\"/></a><!--MD5=[14ccda38c055a5c0da953d572bc50960]\n",
       "link E7 to E3--><a href=\"psysml:ce24e444-eb42-4eaa-91b0-86c1efe7ffc5\" target=\"_top\" title=\"psysml:ce24e444-eb42-4eaa-91b0-86c1efe7ffc5\" xlink:actuate=\"onRequest\" xlink:href=\"psysml:ce24e444-eb42-4eaa-91b0-86c1efe7ffc5\" xlink:show=\"new\" xlink:title=\"psysml:ce24e444-eb42-4eaa-91b0-86c1efe7ffc5\" xlink:type=\"simple\"><path d=\"M56.5,564.25 C56.5,564.25 56.5,260.03 56.5,260.03 \" fill=\"none\" id=\"E7-&gt;E3\" style=\"stroke: #383838; stroke-width: 1.0;\"/><polygon fill=\"#FFFFFF\" points=\"56.5,240.03,63.5,259.03,49.5,259.03,56.5,240.03\" style=\"stroke: #383838; stroke-width: 1.0;\"/><ellipse cx=\"61.5\" cy=\"264.73\" fill=\"#383838\" rx=\"2\" ry=\"2\" style=\"stroke: #383838; stroke-width: 1.0;\"/><ellipse cx=\"51.5\" cy=\"264.73\" fill=\"#383838\" rx=\"2\" ry=\"2\" style=\"stroke: #383838; stroke-width: 1.0;\"/></a><!--MD5=[e88d06e5a652d73a6b19930eefe025a8]\n",
       "reverse link E6 to E9--><a href=\"psysml:cabff1fd-5442-4a71-976e-341ac2e5dda1\" target=\"_top\" title=\"psysml:cabff1fd-5442-4a71-976e-341ac2e5dda1\" xlink:actuate=\"onRequest\" xlink:href=\"psysml:cabff1fd-5442-4a71-976e-341ac2e5dda1\" xlink:show=\"new\" xlink:title=\"psysml:cabff1fd-5442-4a71-976e-341ac2e5dda1\" xlink:type=\"simple\"><path d=\"M147,515.34 C147,515.34 147,560.92 147,560.92 \" fill=\"none\" id=\"E6&lt;-E9\" style=\"stroke: #383838; stroke-width: 1.0;\"/><ellipse cx=\"147\" cy=\"508.34\" fill=\"#FFFFFF\" rx=\"8\" ry=\"8\" style=\"stroke: #383838; stroke-width: 1.0;\"/><line style=\"stroke: #383838; stroke-width: 1.0;\" x1=\"147\" x2=\"147\" y1=\"516.34\" y2=\"500.34\"/><line style=\"stroke: #383838; stroke-width: 1.0;\" x1=\"139\" x2=\"155\" y1=\"508.34\" y2=\"508.34\"/></a><!--MD5=[8e04057e7b3cbc0dca4fc78ea351e2da]\n",
       "reverse link E10 to E3--><a href=\"psysml:a19db77c-da80-41d6-a5f2-85a22676bfcf\" target=\"_top\" title=\"psysml:a19db77c-da80-41d6-a5f2-85a22676bfcf\" xlink:actuate=\"onRequest\" xlink:href=\"psysml:a19db77c-da80-41d6-a5f2-85a22676bfcf\" xlink:show=\"new\" xlink:title=\"psysml:a19db77c-da80-41d6-a5f2-85a22676bfcf\" xlink:type=\"simple\"><path d=\"M132.91,53 C132.91,53 81.25,53 81.25,53 C81.25,53 81.25,119.48 81.25,163.63 \" fill=\"none\" id=\"E10&lt;-E3\" style=\"stroke: #383838; stroke-width: 1.0;\"/><polygon fill=\"#FFFFFF\" points=\"145.91,53,139.91,49,133.91,53,139.91,57,145.91,53\" style=\"stroke: #383838; stroke-width: 1.0;\"/><text fill=\"#000000\" font-family=\"sans-serif\" font-size=\"13\" lengthAdjust=\"spacingAndGlyphs\" textLength=\"7\" x=\"75\" y=\"130.0669\">y</text></a><!--MD5=[8e04057e7b3cbc0dca4fc78ea351e2da]\n",
       "reverse link E10 to E3--><a href=\"psysml:a19db77c-da80-41d6-a5f2-85a22676bfcf\" target=\"_top\" title=\"psysml:a19db77c-da80-41d6-a5f2-85a22676bfcf\" xlink:actuate=\"onRequest\" xlink:href=\"psysml:a19db77c-da80-41d6-a5f2-85a22676bfcf\" xlink:show=\"new\" xlink:title=\"psysml:a19db77c-da80-41d6-a5f2-85a22676bfcf\" xlink:type=\"simple\"><path d=\"M132.82,64 C132.82,64 88.5,64 88.5,64 C88.5,64 88.5,123.08 88.5,163.93 \" fill=\"none\" id=\"E10&lt;-E3-1\" style=\"stroke: #383838; stroke-width: 1.0;\"/><polygon fill=\"#FFFFFF\" points=\"145.82,64,139.8244,59.9934,133.82,63.9868,139.8156,67.9934,145.82,64\" style=\"stroke: #383838; stroke-width: 1.0;\"/><text fill=\"#000000\" font-family=\"sans-serif\" font-size=\"13\" lengthAdjust=\"spacingAndGlyphs\" textLength=\"7\" x=\"124\" y=\"130.0669\">y</text></a><!--MD5=[8e04057e7b3cbc0dca4fc78ea351e2da]\n",
       "reverse link E10 to E3--><a href=\"psysml:a19db77c-da80-41d6-a5f2-85a22676bfcf\" target=\"_top\" title=\"psysml:a19db77c-da80-41d6-a5f2-85a22676bfcf\" xlink:actuate=\"onRequest\" xlink:href=\"psysml:a19db77c-da80-41d6-a5f2-85a22676bfcf\" xlink:show=\"new\" xlink:title=\"psysml:a19db77c-da80-41d6-a5f2-85a22676bfcf\" xlink:type=\"simple\"><path d=\"M132.62,76 C132.62,76 95.75,76 95.75,76 C95.75,76 95.75,126.77 95.75,163.85 \" fill=\"none\" id=\"E10&lt;-E3-2\" style=\"stroke: #383838; stroke-width: 1.0;\"/><polygon fill=\"#FFFFFF\" points=\"145.62,76,139.62,72,133.62,76,139.62,80,145.62,76\" style=\"stroke: #383838; stroke-width: 1.0;\"/><text fill=\"#000000\" font-family=\"sans-serif\" font-size=\"13\" lengthAdjust=\"spacingAndGlyphs\" textLength=\"7\" x=\"173\" y=\"130.0669\">y</text></a><!--MD5=[604cbf994c02b74b117f728a71673cea]\n",
       "reverse link E10 to E6--><a href=\"psysml:a19db77c-da80-41d6-a5f2-85a22676bfcf\" target=\"_top\" title=\"psysml:a19db77c-da80-41d6-a5f2-85a22676bfcf\" xlink:actuate=\"onRequest\" xlink:href=\"psysml:a19db77c-da80-41d6-a5f2-85a22676bfcf\" xlink:show=\"new\" xlink:title=\"psysml:a19db77c-da80-41d6-a5f2-85a22676bfcf\" xlink:type=\"simple\"><path d=\"M154.5,100.12 C154.5,100.12 154.5,423.73 154.5,423.73 \" fill=\"none\" id=\"E10&lt;-E6\" style=\"stroke: #383838; stroke-width: 1.0;\"/><polygon fill=\"#FFFFFF\" points=\"154.5,87.12,150.5,93.12,154.5,99.12,158.5,93.12,154.5,87.12\" style=\"stroke: #383838; stroke-width: 1.0;\"/><text fill=\"#000000\" font-family=\"sans-serif\" font-size=\"13\" lengthAdjust=\"spacingAndGlyphs\" textLength=\"7\" x=\"214\" y=\"283.0669\">y</text></a><!--MD5=[604cbf994c02b74b117f728a71673cea]\n",
       "reverse link E10 to E6--><a href=\"psysml:a19db77c-da80-41d6-a5f2-85a22676bfcf\" target=\"_top\" title=\"psysml:a19db77c-da80-41d6-a5f2-85a22676bfcf\" xlink:actuate=\"onRequest\" xlink:href=\"psysml:a19db77c-da80-41d6-a5f2-85a22676bfcf\" xlink:show=\"new\" xlink:title=\"psysml:a19db77c-da80-41d6-a5f2-85a22676bfcf\" xlink:type=\"simple\"><path d=\"M163,100.12 C163,100.12 163,423.73 163,423.73 \" fill=\"none\" id=\"E10&lt;-E6-1\" style=\"stroke: #383838; stroke-width: 1.0;\"/><polygon fill=\"#FFFFFF\" points=\"163,87.12,159,93.12,163,99.12,167,93.12,163,87.12\" style=\"stroke: #383838; stroke-width: 1.0;\"/><text fill=\"#000000\" font-family=\"sans-serif\" font-size=\"13\" lengthAdjust=\"spacingAndGlyphs\" textLength=\"7\" x=\"116\" y=\"283.0669\">y</text></a><!--MD5=[604cbf994c02b74b117f728a71673cea]\n",
       "reverse link E10 to E6--><a href=\"psysml:a19db77c-da80-41d6-a5f2-85a22676bfcf\" target=\"_top\" title=\"psysml:a19db77c-da80-41d6-a5f2-85a22676bfcf\" xlink:actuate=\"onRequest\" xlink:href=\"psysml:a19db77c-da80-41d6-a5f2-85a22676bfcf\" xlink:show=\"new\" xlink:title=\"psysml:a19db77c-da80-41d6-a5f2-85a22676bfcf\" xlink:type=\"simple\"><path d=\"M171.5,100.12 C171.5,100.12 171.5,423.73 171.5,423.73 \" fill=\"none\" id=\"E10&lt;-E6-2\" style=\"stroke: #383838; stroke-width: 1.0;\"/><polygon fill=\"#FFFFFF\" points=\"171.5,87.12,167.5,93.12,171.5,99.12,175.5,93.12,171.5,87.12\" style=\"stroke: #383838; stroke-width: 1.0;\"/><text fill=\"#000000\" font-family=\"sans-serif\" font-size=\"13\" lengthAdjust=\"spacingAndGlyphs\" textLength=\"7\" x=\"165\" y=\"283.0669\">y</text></a><!--MD5=[b85501777bc64223328466ab8fb42f6a]\n",
       "@startuml\r\n",
       "skinparam linetype ortho\r\n",
       "skinparam monochrome true\r\n",
       "skinparam classbackgroundcolor white\r\n",
       "skinparam shadowing false\r\n",
       "skinparam wrapWidth 300\r\n",
       "hide circle\r\n",
       "\r\n",
       "package \"PartTest\" as E1  [[psysml:c65cc0cd-28b1-4d7a-bc05-02136890ed9a ]]  {\r\n",
       "comp usage \"f: A\" as E2  <<(T,blue)part>> [[psysml:634826b2-2fc2-4798-92ed-071cd1dffdd8 ]] {\r\n",
       "}\r\n",
       "comp def \"A\" as E3  <<(T,blue)part def>> [[psysml:36aba5eb-a810-4976-a211-fcdfb7b330f5 ]] {\r\n",
       "- - ports - -\r\n",
       "c: C\r\n",
       "}\r\n",
       "comp usage \"b: B\" as E4  <<(T,blue)part>> [[psysml:b5150c44-d935-4f31-a69b-527c90fd7c47 ]] {\r\n",
       "}\r\n",
       "comp def \"B\" as E6  <<(T,blue)part def>> [[psysml:94fb1c4b-8096-4b0e-a0c8-00d5fe55de6c ]] {\r\n",
       "- - ports - -\r\n",
       "x: ~C\r\n",
       "}\r\n",
       "comp usage \"a: A\" as E7  <<(T,blue)part>> [[psysml:de084c60-8c86-4761-a316-7296396fb321 ]] {\r\n",
       "}\r\n",
       "package \"P\" as E9  [[psysml:4c76b494-1a6c-482d-b35c-aa72d24bc41e ]]  {\r\n",
       "}\r\n",
       "comp def \"C\" as E10  <<(T,blue)port def>> [[psysml:4c8e1ce2-7f9a-4661-9090-c510b6f01354 ]] {\r\n",
       "}\r\n",
       "E2 - -:|> E3 [[psysml:38cdc859-4dfa-4bc4-87cd-169dd5acc896 ]] \r\n",
       "E3 *- - E4 [[psysml:5ebdadf2-6044-45bc-aa24-2da7c79aba16 ]] \r\n",
       "E4 - -:|> E6 [[psysml:1fd8d685-c326-41aa-b421-a8308f20148e ]] \r\n",
       "E6 *- - E7 [[psysml:c471fe89-f766-40f3-82e0-5e28332f3a67 ]] \r\n",
       "E7 - -:|> E3 [[psysml:ce24e444-eb42-4eaa-91b0-86c1efe7ffc5 ]] \r\n",
       "E6 +- - E9 [[psysml:cabff1fd-5442-4a71-976e-341ac2e5dda1 ]] \r\n",
       "E10 o- - E3 [[psysml:a19db77c-da80-41d6-a5f2-85a22676bfcf ]] : y\r\n",
       "E10 o- - E6 [[psysml:a19db77c-da80-41d6-a5f2-85a22676bfcf ]] : y\r\n",
       "E10 o- - E3 [[psysml:a19db77c-da80-41d6-a5f2-85a22676bfcf ]] : y\r\n",
       "E10 o- - E6 [[psysml:a19db77c-da80-41d6-a5f2-85a22676bfcf ]] : y\r\n",
       "E10 o- - E3 [[psysml:a19db77c-da80-41d6-a5f2-85a22676bfcf ]] : y\r\n",
       "E10 o- - E6 [[psysml:a19db77c-da80-41d6-a5f2-85a22676bfcf ]] : y\r\n",
       "}\r\n",
       "@enduml\r\n",
       "\n",
       "PlantUML version 1.2020.13(Sat Jun 13 12:26:38 UTC 2020)\n",
       "(EPL source distribution)\n",
       "Java Runtime: OpenJDK Runtime Environment\n",
       "JVM: OpenJDK 64-Bit Server VM\n",
       "Default Encoding: UTF-8\n",
       "Language: en\n",
       "Country: null\n",
       "--></g></svg>"
      ]
     },
     "execution_count": 51,
     "metadata": {},
     "output_type": "execute_result"
    }
   ],
   "source": [
    "%viz --style=\"ORTHOLINE\" --view=\"Default\" \"PartTest\""
   ]
  },
  {
   "cell_type": "code",
   "execution_count": 52,
   "id": "c0e6639c",
   "metadata": {
    "execution": {
     "iopub.execute_input": "2021-04-20T07:29:16.632608Z",
     "iopub.status.busy": "2021-04-20T07:29:16.631588Z",
     "iopub.status.idle": "2021-04-20T07:29:16.727850Z",
     "shell.execute_reply": "2021-04-20T07:29:16.724799Z"
    }
   },
   "outputs": [
    {
     "data": {
      "image/svg+xml": [
       "<?xml version=\"1.0\" encoding=\"UTF-8\" standalone=\"no\"?><svg xmlns=\"http://www.w3.org/2000/svg\" xmlns:xlink=\"http://www.w3.org/1999/xlink\" contentScriptType=\"application/ecmascript\" contentStyleType=\"text/css\" height=\"642px\" preserveAspectRatio=\"none\" style=\"width:260px;height:642px;\" version=\"1.1\" viewBox=\"0 0 260 642\" width=\"260px\" zoomAndPan=\"magnify\"><defs/><g><!--MD5=[fbc87193dbaf4d95561dea2c320d4a47]\n",
       "cluster E1--><a href=\"psysml:c65cc0cd-28b1-4d7a-bc05-02136890ed9a\" target=\"_top\" title=\"psysml:c65cc0cd-28b1-4d7a-bc05-02136890ed9a\" xlink:actuate=\"onRequest\" xlink:href=\"psysml:c65cc0cd-28b1-4d7a-bc05-02136890ed9a\" xlink:show=\"new\" xlink:title=\"psysml:c65cc0cd-28b1-4d7a-bc05-02136890ed9a\" xlink:type=\"simple\"><polygon fill=\"#FFFFFF\" points=\"16,6,89,6,96,28.2969,238,28.2969,238,630,16,630,16,6\" style=\"stroke: #000000; stroke-width: 1.5;\"/><line style=\"stroke: #000000; stroke-width: 1.5;\" x1=\"16\" x2=\"96\" y1=\"28.2969\" y2=\"28.2969\"/><text fill=\"#000000\" font-family=\"sans-serif\" font-size=\"14\" font-weight=\"bold\" lengthAdjust=\"spacingAndGlyphs\" textLength=\"67\" x=\"20\" y=\"20.9951\">PartTest</text></a><!--MD5=[b4997ac47864f28c2f74865a473b2911]\n",
       "class E2--><a href=\"psysml:634826b2-2fc2-4798-92ed-071cd1dffdd8\" target=\"_top\" title=\"psysml:634826b2-2fc2-4798-92ed-071cd1dffdd8\" xlink:actuate=\"onRequest\" xlink:href=\"psysml:634826b2-2fc2-4798-92ed-071cd1dffdd8\" xlink:show=\"new\" xlink:title=\"psysml:634826b2-2fc2-4798-92ed-071cd1dffdd8\" xlink:type=\"simple\"><rect fill=\"#FFFFFF\" height=\"45.9375\" id=\"E2\" rx=\"10\" ry=\"10\" style=\"stroke: #383838; stroke-width: 1.5;\" width=\"42\" x=\"32\" y=\"41\"/><text fill=\"#000000\" font-family=\"sans-serif\" font-size=\"12\" font-style=\"italic\" lengthAdjust=\"spacingAndGlyphs\" textLength=\"40\" x=\"33\" y=\"57.1387\">«part»</text><text fill=\"#000000\" font-family=\"sans-serif\" font-size=\"12\" lengthAdjust=\"spacingAndGlyphs\" textLength=\"20\" x=\"43\" y=\"71.1074\">f: A</text><line style=\"stroke: #383838; stroke-width: 1.5;\" x1=\"33\" x2=\"73\" y1=\"78.9375\" y2=\"78.9375\"/></a><!--MD5=[09b614a08d8cba4a07c9adeb5e0fee81]\n",
       "class E3--><a href=\"psysml:36aba5eb-a810-4976-a211-fcdfb7b330f5\" target=\"_top\" title=\"psysml:36aba5eb-a810-4976-a211-fcdfb7b330f5\" xlink:actuate=\"onRequest\" xlink:href=\"psysml:36aba5eb-a810-4976-a211-fcdfb7b330f5\" xlink:show=\"new\" xlink:title=\"psysml:36aba5eb-a810-4976-a211-fcdfb7b330f5\" xlink:type=\"simple\"><rect fill=\"#FFFFFF\" height=\"75.5469\" id=\"E3\" style=\"stroke: #383838; stroke-width: 1.5;\" width=\"66\" x=\"37\" y=\"164\"/><text fill=\"#000000\" font-family=\"sans-serif\" font-size=\"12\" font-style=\"italic\" lengthAdjust=\"spacingAndGlyphs\" textLength=\"64\" x=\"38\" y=\"180.1387\">«part def»</text><text fill=\"#000000\" font-family=\"sans-serif\" font-size=\"12\" lengthAdjust=\"spacingAndGlyphs\" textLength=\"8\" x=\"66\" y=\"194.1074\">A</text><line style=\"stroke: #383838; stroke-width: 1.5;\" x1=\"38\" x2=\"102\" y1=\"201.9375\" y2=\"201.9375\"/><text fill=\"#000000\" font-family=\"sans-serif\" font-size=\"11\" lengthAdjust=\"spacingAndGlyphs\" textLength=\"22\" x=\"43\" y=\"232.9526\">c: C</text><line style=\"stroke: #383838; stroke-width: 1.0;\" x1=\"38\" x2=\"55\" y1=\"216.3398\" y2=\"216.3398\"/><text fill=\"#000000\" font-family=\"sans-serif\" font-size=\"11\" lengthAdjust=\"spacingAndGlyphs\" textLength=\"30\" x=\"55\" y=\"219.6479\">ports</text><line style=\"stroke: #383838; stroke-width: 1.0;\" x1=\"85\" x2=\"102\" y1=\"216.3398\" y2=\"216.3398\"/></a><!--MD5=[ebbe1d658d1005bcc118a6aa81145e00]\n",
       "class E4--><a href=\"psysml:b5150c44-d935-4f31-a69b-527c90fd7c47\" target=\"_top\" title=\"psysml:b5150c44-d935-4f31-a69b-527c90fd7c47\" xlink:actuate=\"onRequest\" xlink:href=\"psysml:b5150c44-d935-4f31-a69b-527c90fd7c47\" xlink:show=\"new\" xlink:title=\"psysml:b5150c44-d935-4f31-a69b-527c90fd7c47\" xlink:type=\"simple\"><rect fill=\"#FFFFFF\" height=\"45.9375\" id=\"E4\" rx=\"10\" ry=\"10\" style=\"stroke: #383838; stroke-width: 1.5;\" width=\"42\" x=\"69\" y=\"317\"/><text fill=\"#000000\" font-family=\"sans-serif\" font-size=\"12\" font-style=\"italic\" lengthAdjust=\"spacingAndGlyphs\" textLength=\"40\" x=\"70\" y=\"333.1387\">«part»</text><text fill=\"#000000\" font-family=\"sans-serif\" font-size=\"12\" lengthAdjust=\"spacingAndGlyphs\" textLength=\"24\" x=\"78\" y=\"347.1074\">b: B</text><line style=\"stroke: #383838; stroke-width: 1.5;\" x1=\"70\" x2=\"110\" y1=\"354.9375\" y2=\"354.9375\"/></a><!--MD5=[60a26617385b1d2d0262a64233df1f8d]\n",
       "class E6--><a href=\"psysml:94fb1c4b-8096-4b0e-a0c8-00d5fe55de6c\" target=\"_top\" title=\"psysml:94fb1c4b-8096-4b0e-a0c8-00d5fe55de6c\" xlink:actuate=\"onRequest\" xlink:href=\"psysml:94fb1c4b-8096-4b0e-a0c8-00d5fe55de6c\" xlink:show=\"new\" xlink:title=\"psysml:94fb1c4b-8096-4b0e-a0c8-00d5fe55de6c\" xlink:type=\"simple\"><rect fill=\"#FFFFFF\" height=\"75.5469\" id=\"E6\" style=\"stroke: #383838; stroke-width: 1.5;\" width=\"66\" x=\"114\" y=\"424\"/><text fill=\"#000000\" font-family=\"sans-serif\" font-size=\"12\" font-style=\"italic\" lengthAdjust=\"spacingAndGlyphs\" textLength=\"64\" x=\"115\" y=\"440.1387\">«part def»</text><text fill=\"#000000\" font-family=\"sans-serif\" font-size=\"12\" lengthAdjust=\"spacingAndGlyphs\" textLength=\"8\" x=\"143\" y=\"454.1074\">B</text><line style=\"stroke: #383838; stroke-width: 1.5;\" x1=\"115\" x2=\"179\" y1=\"461.9375\" y2=\"461.9375\"/><text fill=\"#000000\" font-family=\"sans-serif\" font-size=\"11\" lengthAdjust=\"spacingAndGlyphs\" textLength=\"31\" x=\"120\" y=\"492.9526\">x: ~C</text><line style=\"stroke: #383838; stroke-width: 1.0;\" x1=\"115\" x2=\"132\" y1=\"476.3398\" y2=\"476.3398\"/><text fill=\"#000000\" font-family=\"sans-serif\" font-size=\"11\" lengthAdjust=\"spacingAndGlyphs\" textLength=\"30\" x=\"132\" y=\"479.6479\">ports</text><line style=\"stroke: #383838; stroke-width: 1.0;\" x1=\"162\" x2=\"179\" y1=\"476.3398\" y2=\"476.3398\"/></a><!--MD5=[2156ba9850f5573cc1fc38a6a4b2f02b]\n",
       "class E7--><a href=\"psysml:de084c60-8c86-4761-a316-7296396fb321\" target=\"_top\" title=\"psysml:de084c60-8c86-4761-a316-7296396fb321\" xlink:actuate=\"onRequest\" xlink:href=\"psysml:de084c60-8c86-4761-a316-7296396fb321\" xlink:show=\"new\" xlink:title=\"psysml:de084c60-8c86-4761-a316-7296396fb321\" xlink:type=\"simple\"><rect fill=\"#FFFFFF\" height=\"45.9375\" id=\"E7\" rx=\"10\" ry=\"10\" style=\"stroke: #383838; stroke-width: 1.5;\" width=\"42\" x=\"44\" y=\"564.5\"/><text fill=\"#000000\" font-family=\"sans-serif\" font-size=\"12\" font-style=\"italic\" lengthAdjust=\"spacingAndGlyphs\" textLength=\"40\" x=\"45\" y=\"580.6387\">«part»</text><text fill=\"#000000\" font-family=\"sans-serif\" font-size=\"12\" lengthAdjust=\"spacingAndGlyphs\" textLength=\"24\" x=\"53\" y=\"594.6074\">a: A</text><line style=\"stroke: #383838; stroke-width: 1.5;\" x1=\"45\" x2=\"85\" y1=\"602.4375\" y2=\"602.4375\"/></a><!--MD5=[96f4274e9e20536e775497830990834d]\n",
       "class E10--><a href=\"psysml:4c8e1ce2-7f9a-4661-9090-c510b6f01354\" target=\"_top\" title=\"psysml:4c8e1ce2-7f9a-4661-9090-c510b6f01354\" xlink:actuate=\"onRequest\" xlink:href=\"psysml:4c8e1ce2-7f9a-4661-9090-c510b6f01354\" xlink:show=\"new\" xlink:title=\"psysml:4c8e1ce2-7f9a-4661-9090-c510b6f01354\" xlink:type=\"simple\"><rect fill=\"#FFFFFF\" height=\"45.9375\" id=\"E10\" style=\"stroke: #383838; stroke-width: 1.5;\" width=\"66\" x=\"146\" y=\"41\"/><text fill=\"#000000\" font-family=\"sans-serif\" font-size=\"12\" font-style=\"italic\" lengthAdjust=\"spacingAndGlyphs\" textLength=\"64\" x=\"147\" y=\"57.1387\">«port def»</text><text fill=\"#000000\" font-family=\"sans-serif\" font-size=\"12\" lengthAdjust=\"spacingAndGlyphs\" textLength=\"8\" x=\"175\" y=\"71.1074\">C</text><line style=\"stroke: #383838; stroke-width: 1.5;\" x1=\"147\" x2=\"211\" y1=\"78.9375\" y2=\"78.9375\"/></a><a href=\"psysml:4c76b494-1a6c-482d-b35c-aa72d24bc41e\" target=\"_top\" title=\"psysml:4c76b494-1a6c-482d-b35c-aa72d24bc41e\" xlink:actuate=\"onRequest\" xlink:href=\"psysml:4c76b494-1a6c-482d-b35c-aa72d24bc41e\" xlink:show=\"new\" xlink:title=\"psysml:4c76b494-1a6c-482d-b35c-aa72d24bc41e\" xlink:type=\"simple\"><polygon fill=\"#FFFFFF\" points=\"132,561,148,561,155,583.2969,162,583.2969,162,613.5938,132,613.5938,132,561\" style=\"stroke: #000000; stroke-width: 1.5;\"/><line style=\"stroke: #000000; stroke-width: 1.5;\" x1=\"132\" x2=\"155\" y1=\"583.2969\" y2=\"583.2969\"/><text fill=\"#000000\" font-family=\"sans-serif\" font-size=\"14\" font-weight=\"bold\" lengthAdjust=\"spacingAndGlyphs\" textLength=\"10\" x=\"136\" y=\"575.9951\">P</text></a><!--MD5=[2720a5a1f2c3fca2055b230370638851]\n",
       "link E2 to E3--><a href=\"psysml:38cdc859-4dfa-4bc4-87cd-169dd5acc896\" target=\"_top\" title=\"psysml:38cdc859-4dfa-4bc4-87cd-169dd5acc896\" xlink:actuate=\"onRequest\" xlink:href=\"psysml:38cdc859-4dfa-4bc4-87cd-169dd5acc896\" xlink:show=\"new\" xlink:title=\"psysml:38cdc859-4dfa-4bc4-87cd-169dd5acc896\" xlink:type=\"simple\"><path d=\"M55.5,87.1 C55.5,87.1 55.5,143.96 55.5,143.96 \" fill=\"none\" id=\"E2-&gt;E3\" style=\"stroke: #383838; stroke-width: 1.0;\"/><polygon fill=\"#FFFFFF\" points=\"55.5,163.96,48.5,144.96,62.5,144.96,55.5,163.96\" style=\"stroke: #383838; stroke-width: 1.0;\"/><ellipse cx=\"50.5\" cy=\"139.26\" fill=\"#383838\" rx=\"2\" ry=\"2\" style=\"stroke: #383838; stroke-width: 1.0;\"/><ellipse cx=\"60.5\" cy=\"139.26\" fill=\"#383838\" rx=\"2\" ry=\"2\" style=\"stroke: #383838; stroke-width: 1.0;\"/></a><!--MD5=[4672eba38e49728da53d11aeb285b987]\n",
       "reverse link E3 to E4--><a href=\"psysml:5ebdadf2-6044-45bc-aa24-2da7c79aba16\" target=\"_top\" title=\"psysml:5ebdadf2-6044-45bc-aa24-2da7c79aba16\" xlink:actuate=\"onRequest\" xlink:href=\"psysml:5ebdadf2-6044-45bc-aa24-2da7c79aba16\" xlink:show=\"new\" xlink:title=\"psysml:5ebdadf2-6044-45bc-aa24-2da7c79aba16\" xlink:type=\"simple\"><path d=\"M86,253.07 C86,253.07 86,316.75 86,316.75 \" fill=\"none\" id=\"E3&lt;-E4\" style=\"stroke: #383838; stroke-width: 1.0;\"/><polygon fill=\"#383838\" points=\"86,240.07,82,246.07,86,252.07,90,246.07,86,240.07\" style=\"stroke: #383838; stroke-width: 1.0;\"/></a><!--MD5=[79568f1e445c3877b6a54524624ccc7d]\n",
       "link E4 to E6--><a href=\"psysml:1fd8d685-c326-41aa-b421-a8308f20148e\" target=\"_top\" title=\"psysml:1fd8d685-c326-41aa-b421-a8308f20148e\" xlink:actuate=\"onRequest\" xlink:href=\"psysml:1fd8d685-c326-41aa-b421-a8308f20148e\" xlink:show=\"new\" xlink:title=\"psysml:1fd8d685-c326-41aa-b421-a8308f20148e\" xlink:type=\"simple\"><path d=\"M111.41,340 C120.92,340 130,340 130,340 C130,340 130,403.73 130,403.73 \" fill=\"none\" id=\"E4-&gt;E6\" style=\"stroke: #383838; stroke-width: 1.0;\"/><polygon fill=\"#FFFFFF\" points=\"130,423.73,123,404.73,137,404.73,130,423.73\" style=\"stroke: #383838; stroke-width: 1.0;\"/><ellipse cx=\"125\" cy=\"399.03\" fill=\"#383838\" rx=\"2\" ry=\"2\" style=\"stroke: #383838; stroke-width: 1.0;\"/><ellipse cx=\"135\" cy=\"399.03\" fill=\"#383838\" rx=\"2\" ry=\"2\" style=\"stroke: #383838; stroke-width: 1.0;\"/></a><!--MD5=[3f50a3473f1dfb74d3f76443e03635af]\n",
       "reverse link E6 to E7--><a href=\"psysml:c471fe89-f766-40f3-82e0-5e28332f3a67\" target=\"_top\" title=\"psysml:c471fe89-f766-40f3-82e0-5e28332f3a67\" xlink:actuate=\"onRequest\" xlink:href=\"psysml:c471fe89-f766-40f3-82e0-5e28332f3a67\" xlink:show=\"new\" xlink:title=\"psysml:c471fe89-f766-40f3-82e0-5e28332f3a67\" xlink:type=\"simple\"><path d=\"M123,513.15 C123,513.15 123,588 123,588 C123,588 102.82,588 86.27,588 \" fill=\"none\" id=\"E6&lt;-E7\" style=\"stroke: #383838; stroke-width: 1.0;\"/><polygon fill=\"#383838\" points=\"123,500.15,119,506.15,123,512.15,127,506.15,123,500.15\" style=\"stroke: #383838; stroke-width: 1.0;\"/></a><!--MD5=[14ccda38c055a5c0da953d572bc50960]\n",
       "link E7 to E3--><a href=\"psysml:ce24e444-eb42-4eaa-91b0-86c1efe7ffc5\" target=\"_top\" title=\"psysml:ce24e444-eb42-4eaa-91b0-86c1efe7ffc5\" xlink:actuate=\"onRequest\" xlink:href=\"psysml:ce24e444-eb42-4eaa-91b0-86c1efe7ffc5\" xlink:show=\"new\" xlink:title=\"psysml:ce24e444-eb42-4eaa-91b0-86c1efe7ffc5\" xlink:type=\"simple\"><path d=\"M56.5,564.25 C56.5,564.25 56.5,260.03 56.5,260.03 \" fill=\"none\" id=\"E7-&gt;E3\" style=\"stroke: #383838; stroke-width: 1.0;\"/><polygon fill=\"#FFFFFF\" points=\"56.5,240.03,63.5,259.03,49.5,259.03,56.5,240.03\" style=\"stroke: #383838; stroke-width: 1.0;\"/><ellipse cx=\"61.5\" cy=\"264.73\" fill=\"#383838\" rx=\"2\" ry=\"2\" style=\"stroke: #383838; stroke-width: 1.0;\"/><ellipse cx=\"51.5\" cy=\"264.73\" fill=\"#383838\" rx=\"2\" ry=\"2\" style=\"stroke: #383838; stroke-width: 1.0;\"/></a><!--MD5=[e88d06e5a652d73a6b19930eefe025a8]\n",
       "reverse link E6 to E9--><a href=\"psysml:cabff1fd-5442-4a71-976e-341ac2e5dda1\" target=\"_top\" title=\"psysml:cabff1fd-5442-4a71-976e-341ac2e5dda1\" xlink:actuate=\"onRequest\" xlink:href=\"psysml:cabff1fd-5442-4a71-976e-341ac2e5dda1\" xlink:show=\"new\" xlink:title=\"psysml:cabff1fd-5442-4a71-976e-341ac2e5dda1\" xlink:type=\"simple\"><path d=\"M147,515.34 C147,515.34 147,560.92 147,560.92 \" fill=\"none\" id=\"E6&lt;-E9\" style=\"stroke: #383838; stroke-width: 1.0;\"/><ellipse cx=\"147\" cy=\"508.34\" fill=\"#FFFFFF\" rx=\"8\" ry=\"8\" style=\"stroke: #383838; stroke-width: 1.0;\"/><line style=\"stroke: #383838; stroke-width: 1.0;\" x1=\"147\" x2=\"147\" y1=\"516.34\" y2=\"500.34\"/><line style=\"stroke: #383838; stroke-width: 1.0;\" x1=\"139\" x2=\"155\" y1=\"508.34\" y2=\"508.34\"/></a><!--MD5=[8e04057e7b3cbc0dca4fc78ea351e2da]\n",
       "reverse link E10 to E3--><a href=\"psysml:a19db77c-da80-41d6-a5f2-85a22676bfcf\" target=\"_top\" title=\"psysml:a19db77c-da80-41d6-a5f2-85a22676bfcf\" xlink:actuate=\"onRequest\" xlink:href=\"psysml:a19db77c-da80-41d6-a5f2-85a22676bfcf\" xlink:show=\"new\" xlink:title=\"psysml:a19db77c-da80-41d6-a5f2-85a22676bfcf\" xlink:type=\"simple\"><path d=\"M132.91,53 C132.91,53 81.25,53 81.25,53 C81.25,53 81.25,119.48 81.25,163.63 \" fill=\"none\" id=\"E10&lt;-E3\" style=\"stroke: #383838; stroke-width: 1.0;\"/><polygon fill=\"#FFFFFF\" points=\"145.91,53,139.91,49,133.91,53,139.91,57,145.91,53\" style=\"stroke: #383838; stroke-width: 1.0;\"/><text fill=\"#000000\" font-family=\"sans-serif\" font-size=\"13\" lengthAdjust=\"spacingAndGlyphs\" textLength=\"7\" x=\"75\" y=\"130.0669\">y</text></a><!--MD5=[8e04057e7b3cbc0dca4fc78ea351e2da]\n",
       "reverse link E10 to E3--><a href=\"psysml:a19db77c-da80-41d6-a5f2-85a22676bfcf\" target=\"_top\" title=\"psysml:a19db77c-da80-41d6-a5f2-85a22676bfcf\" xlink:actuate=\"onRequest\" xlink:href=\"psysml:a19db77c-da80-41d6-a5f2-85a22676bfcf\" xlink:show=\"new\" xlink:title=\"psysml:a19db77c-da80-41d6-a5f2-85a22676bfcf\" xlink:type=\"simple\"><path d=\"M132.82,64 C132.82,64 88.5,64 88.5,64 C88.5,64 88.5,123.08 88.5,163.93 \" fill=\"none\" id=\"E10&lt;-E3-1\" style=\"stroke: #383838; stroke-width: 1.0;\"/><polygon fill=\"#FFFFFF\" points=\"145.82,64,139.8244,59.9934,133.82,63.9868,139.8156,67.9934,145.82,64\" style=\"stroke: #383838; stroke-width: 1.0;\"/><text fill=\"#000000\" font-family=\"sans-serif\" font-size=\"13\" lengthAdjust=\"spacingAndGlyphs\" textLength=\"7\" x=\"124\" y=\"130.0669\">y</text></a><!--MD5=[8e04057e7b3cbc0dca4fc78ea351e2da]\n",
       "reverse link E10 to E3--><a href=\"psysml:a19db77c-da80-41d6-a5f2-85a22676bfcf\" target=\"_top\" title=\"psysml:a19db77c-da80-41d6-a5f2-85a22676bfcf\" xlink:actuate=\"onRequest\" xlink:href=\"psysml:a19db77c-da80-41d6-a5f2-85a22676bfcf\" xlink:show=\"new\" xlink:title=\"psysml:a19db77c-da80-41d6-a5f2-85a22676bfcf\" xlink:type=\"simple\"><path d=\"M132.62,76 C132.62,76 95.75,76 95.75,76 C95.75,76 95.75,126.77 95.75,163.85 \" fill=\"none\" id=\"E10&lt;-E3-2\" style=\"stroke: #383838; stroke-width: 1.0;\"/><polygon fill=\"#FFFFFF\" points=\"145.62,76,139.62,72,133.62,76,139.62,80,145.62,76\" style=\"stroke: #383838; stroke-width: 1.0;\"/><text fill=\"#000000\" font-family=\"sans-serif\" font-size=\"13\" lengthAdjust=\"spacingAndGlyphs\" textLength=\"7\" x=\"173\" y=\"130.0669\">y</text></a><!--MD5=[604cbf994c02b74b117f728a71673cea]\n",
       "reverse link E10 to E6--><a href=\"psysml:a19db77c-da80-41d6-a5f2-85a22676bfcf\" target=\"_top\" title=\"psysml:a19db77c-da80-41d6-a5f2-85a22676bfcf\" xlink:actuate=\"onRequest\" xlink:href=\"psysml:a19db77c-da80-41d6-a5f2-85a22676bfcf\" xlink:show=\"new\" xlink:title=\"psysml:a19db77c-da80-41d6-a5f2-85a22676bfcf\" xlink:type=\"simple\"><path d=\"M154.5,100.12 C154.5,100.12 154.5,423.73 154.5,423.73 \" fill=\"none\" id=\"E10&lt;-E6\" style=\"stroke: #383838; stroke-width: 1.0;\"/><polygon fill=\"#FFFFFF\" points=\"154.5,87.12,150.5,93.12,154.5,99.12,158.5,93.12,154.5,87.12\" style=\"stroke: #383838; stroke-width: 1.0;\"/><text fill=\"#000000\" font-family=\"sans-serif\" font-size=\"13\" lengthAdjust=\"spacingAndGlyphs\" textLength=\"7\" x=\"214\" y=\"283.0669\">y</text></a><!--MD5=[604cbf994c02b74b117f728a71673cea]\n",
       "reverse link E10 to E6--><a href=\"psysml:a19db77c-da80-41d6-a5f2-85a22676bfcf\" target=\"_top\" title=\"psysml:a19db77c-da80-41d6-a5f2-85a22676bfcf\" xlink:actuate=\"onRequest\" xlink:href=\"psysml:a19db77c-da80-41d6-a5f2-85a22676bfcf\" xlink:show=\"new\" xlink:title=\"psysml:a19db77c-da80-41d6-a5f2-85a22676bfcf\" xlink:type=\"simple\"><path d=\"M163,100.12 C163,100.12 163,423.73 163,423.73 \" fill=\"none\" id=\"E10&lt;-E6-1\" style=\"stroke: #383838; stroke-width: 1.0;\"/><polygon fill=\"#FFFFFF\" points=\"163,87.12,159,93.12,163,99.12,167,93.12,163,87.12\" style=\"stroke: #383838; stroke-width: 1.0;\"/><text fill=\"#000000\" font-family=\"sans-serif\" font-size=\"13\" lengthAdjust=\"spacingAndGlyphs\" textLength=\"7\" x=\"116\" y=\"283.0669\">y</text></a><!--MD5=[604cbf994c02b74b117f728a71673cea]\n",
       "reverse link E10 to E6--><a href=\"psysml:a19db77c-da80-41d6-a5f2-85a22676bfcf\" target=\"_top\" title=\"psysml:a19db77c-da80-41d6-a5f2-85a22676bfcf\" xlink:actuate=\"onRequest\" xlink:href=\"psysml:a19db77c-da80-41d6-a5f2-85a22676bfcf\" xlink:show=\"new\" xlink:title=\"psysml:a19db77c-da80-41d6-a5f2-85a22676bfcf\" xlink:type=\"simple\"><path d=\"M171.5,100.12 C171.5,100.12 171.5,423.73 171.5,423.73 \" fill=\"none\" id=\"E10&lt;-E6-2\" style=\"stroke: #383838; stroke-width: 1.0;\"/><polygon fill=\"#FFFFFF\" points=\"171.5,87.12,167.5,93.12,171.5,99.12,175.5,93.12,171.5,87.12\" style=\"stroke: #383838; stroke-width: 1.0;\"/><text fill=\"#000000\" font-family=\"sans-serif\" font-size=\"13\" lengthAdjust=\"spacingAndGlyphs\" textLength=\"7\" x=\"165\" y=\"283.0669\">y</text></a><!--MD5=[b85501777bc64223328466ab8fb42f6a]\n",
       "@startuml\r\n",
       "skinparam linetype ortho\r\n",
       "skinparam monochrome true\r\n",
       "skinparam classbackgroundcolor white\r\n",
       "skinparam shadowing false\r\n",
       "skinparam wrapWidth 300\r\n",
       "hide circle\r\n",
       "\r\n",
       "package \"PartTest\" as E1  [[psysml:c65cc0cd-28b1-4d7a-bc05-02136890ed9a ]]  {\r\n",
       "comp usage \"f: A\" as E2  <<(T,blue)part>> [[psysml:634826b2-2fc2-4798-92ed-071cd1dffdd8 ]] {\r\n",
       "}\r\n",
       "comp def \"A\" as E3  <<(T,blue)part def>> [[psysml:36aba5eb-a810-4976-a211-fcdfb7b330f5 ]] {\r\n",
       "- - ports - -\r\n",
       "c: C\r\n",
       "}\r\n",
       "comp usage \"b: B\" as E4  <<(T,blue)part>> [[psysml:b5150c44-d935-4f31-a69b-527c90fd7c47 ]] {\r\n",
       "}\r\n",
       "comp def \"B\" as E6  <<(T,blue)part def>> [[psysml:94fb1c4b-8096-4b0e-a0c8-00d5fe55de6c ]] {\r\n",
       "- - ports - -\r\n",
       "x: ~C\r\n",
       "}\r\n",
       "comp usage \"a: A\" as E7  <<(T,blue)part>> [[psysml:de084c60-8c86-4761-a316-7296396fb321 ]] {\r\n",
       "}\r\n",
       "package \"P\" as E9  [[psysml:4c76b494-1a6c-482d-b35c-aa72d24bc41e ]]  {\r\n",
       "}\r\n",
       "comp def \"C\" as E10  <<(T,blue)port def>> [[psysml:4c8e1ce2-7f9a-4661-9090-c510b6f01354 ]] {\r\n",
       "}\r\n",
       "E2 - -:|> E3 [[psysml:38cdc859-4dfa-4bc4-87cd-169dd5acc896 ]] \r\n",
       "E3 *- - E4 [[psysml:5ebdadf2-6044-45bc-aa24-2da7c79aba16 ]] \r\n",
       "E4 - -:|> E6 [[psysml:1fd8d685-c326-41aa-b421-a8308f20148e ]] \r\n",
       "E6 *- - E7 [[psysml:c471fe89-f766-40f3-82e0-5e28332f3a67 ]] \r\n",
       "E7 - -:|> E3 [[psysml:ce24e444-eb42-4eaa-91b0-86c1efe7ffc5 ]] \r\n",
       "E6 +- - E9 [[psysml:cabff1fd-5442-4a71-976e-341ac2e5dda1 ]] \r\n",
       "E10 o- - E3 [[psysml:a19db77c-da80-41d6-a5f2-85a22676bfcf ]] : y\r\n",
       "E10 o- - E6 [[psysml:a19db77c-da80-41d6-a5f2-85a22676bfcf ]] : y\r\n",
       "E10 o- - E3 [[psysml:a19db77c-da80-41d6-a5f2-85a22676bfcf ]] : y\r\n",
       "E10 o- - E6 [[psysml:a19db77c-da80-41d6-a5f2-85a22676bfcf ]] : y\r\n",
       "E10 o- - E3 [[psysml:a19db77c-da80-41d6-a5f2-85a22676bfcf ]] : y\r\n",
       "E10 o- - E6 [[psysml:a19db77c-da80-41d6-a5f2-85a22676bfcf ]] : y\r\n",
       "}\r\n",
       "@enduml\r\n",
       "\n",
       "PlantUML version 1.2020.13(Sat Jun 13 12:26:38 UTC 2020)\n",
       "(EPL source distribution)\n",
       "Java Runtime: OpenJDK Runtime Environment\n",
       "JVM: OpenJDK 64-Bit Server VM\n",
       "Default Encoding: UTF-8\n",
       "Language: en\n",
       "Country: null\n",
       "--></g></svg>"
      ]
     },
     "execution_count": 52,
     "metadata": {},
     "output_type": "execute_result"
    }
   ],
   "source": [
    "%viz --style=\"ORTHOLINE\" --view=\"Tree\" \"PartTest\""
   ]
  },
  {
   "cell_type": "code",
   "execution_count": 53,
   "id": "b4f47392",
   "metadata": {
    "execution": {
     "iopub.execute_input": "2021-04-20T07:29:16.775246Z",
     "iopub.status.busy": "2021-04-20T07:29:16.773638Z",
     "iopub.status.idle": "2021-04-20T07:29:16.780200Z",
     "shell.execute_reply": "2021-04-20T07:29:16.779750Z"
    }
   },
   "outputs": [
    {
     "data": {
      "image/svg+xml": [
       "<?xml version=\"1.0\" encoding=\"UTF-8\" standalone=\"no\"?><svg xmlns=\"http://www.w3.org/2000/svg\" xmlns:xlink=\"http://www.w3.org/1999/xlink\" contentScriptType=\"application/ecmascript\" contentStyleType=\"text/css\" height=\"12px\" preserveAspectRatio=\"none\" style=\"width:12px;height:12px;\" version=\"1.1\" viewBox=\"0 0 12 12\" width=\"12px\" zoomAndPan=\"magnify\"><defs/><g><!--MD5=[97d6f38768b311333d388e66b2b27985]\n",
       "@startuml\r\n",
       "skinparam linetype ortho\r\n",
       "skinparam monochrome true\r\n",
       "skinparam classbackgroundcolor white\r\n",
       "skinparam shadowing false\r\n",
       "skinparam wrapWidth 300\r\n",
       "hide circle\r\n",
       "\r\n",
       "@enduml\r\n",
       "\n",
       "PlantUML version 1.2020.13(Sat Jun 13 12:26:38 UTC 2020)\n",
       "(EPL source distribution)\n",
       "Java Runtime: OpenJDK Runtime Environment\n",
       "JVM: OpenJDK 64-Bit Server VM\n",
       "Default Encoding: UTF-8\n",
       "Language: en\n",
       "Country: null\n",
       "--></g></svg>"
      ]
     },
     "execution_count": 53,
     "metadata": {},
     "output_type": "execute_result"
    }
   ],
   "source": [
    "%viz --style=\"ORTHOLINE\" --view=\"State\" \"PartTest\""
   ]
  },
  {
   "cell_type": "code",
   "execution_count": 54,
   "id": "ff066f6d",
   "metadata": {
    "execution": {
     "iopub.execute_input": "2021-04-20T07:29:16.834389Z",
     "iopub.status.busy": "2021-04-20T07:29:16.833239Z",
     "iopub.status.idle": "2021-04-20T07:29:16.906772Z",
     "shell.execute_reply": "2021-04-20T07:29:16.907303Z"
    }
   },
   "outputs": [
    {
     "data": {
      "image/svg+xml": [
       "<?xml version=\"1.0\" encoding=\"UTF-8\" standalone=\"no\"?><svg xmlns=\"http://www.w3.org/2000/svg\" xmlns:xlink=\"http://www.w3.org/1999/xlink\" contentScriptType=\"application/ecmascript\" contentStyleType=\"text/css\" height=\"247px\" preserveAspectRatio=\"none\" style=\"width:568px;height:247px;\" version=\"1.1\" viewBox=\"0 0 568 247\" width=\"568px\" zoomAndPan=\"magnify\"><defs/><g><!--MD5=[fbc87193dbaf4d95561dea2c320d4a47]\n",
       "cluster E1--><a href=\"psysml:c65cc0cd-28b1-4d7a-bc05-02136890ed9a\" target=\"_top\" title=\"psysml:c65cc0cd-28b1-4d7a-bc05-02136890ed9a\" xlink:actuate=\"onRequest\" xlink:href=\"psysml:c65cc0cd-28b1-4d7a-bc05-02136890ed9a\" xlink:show=\"new\" xlink:title=\"psysml:c65cc0cd-28b1-4d7a-bc05-02136890ed9a\" xlink:type=\"simple\"><polygon fill=\"#FFFFFF\" points=\"16,6,89,6,96,28.2969,546,28.2969,546,235,16,235,16,6\" style=\"stroke: #000000; stroke-width: 1.5;\"/><line style=\"stroke: #000000; stroke-width: 1.5;\" x1=\"16\" x2=\"96\" y1=\"28.2969\" y2=\"28.2969\"/><text fill=\"#000000\" font-family=\"sans-serif\" font-size=\"14\" font-weight=\"bold\" lengthAdjust=\"spacingAndGlyphs\" textLength=\"67\" x=\"20\" y=\"20.9951\">PartTest</text></a><!--MD5=[d5e69f78d87373223dbae638b30a9c99]\n",
       "cluster E3--><a href=\"psysml:36aba5eb-a810-4976-a211-fcdfb7b330f5\" target=\"_top\" title=\"psysml:36aba5eb-a810-4976-a211-fcdfb7b330f5\" xlink:actuate=\"onRequest\" xlink:href=\"psysml:36aba5eb-a810-4976-a211-fcdfb7b330f5\" xlink:show=\"new\" xlink:title=\"psysml:36aba5eb-a810-4976-a211-fcdfb7b330f5\" xlink:type=\"simple\"><rect fill=\"#FFFFFF\" height=\"150\" id=\"E3\" style=\"stroke: #383838; stroke-width: 1.5;\" width=\"120\" x=\"410\" y=\"62.5\"/><rect fill=\"#F8F8F8\" height=\"37.9375\" style=\"stroke: #383838; stroke-width: 1.5;\" width=\"120\" x=\"410\" y=\"62.5\"/><text fill=\"#000000\" font-family=\"sans-serif\" font-size=\"12\" font-style=\"italic\" lengthAdjust=\"spacingAndGlyphs\" textLength=\"64\" x=\"438\" y=\"78.6387\">«part def»</text><text fill=\"#000000\" font-family=\"sans-serif\" font-size=\"12\" lengthAdjust=\"spacingAndGlyphs\" textLength=\"8\" x=\"466\" y=\"92.6074\">A</text></a><!--MD5=[14e3b0961a2654348d326746436168a1]\n",
       "cluster E6--><a href=\"psysml:94fb1c4b-8096-4b0e-a0c8-00d5fe55de6c\" target=\"_top\" title=\"psysml:94fb1c4b-8096-4b0e-a0c8-00d5fe55de6c\" xlink:actuate=\"onRequest\" xlink:href=\"psysml:94fb1c4b-8096-4b0e-a0c8-00d5fe55de6c\" xlink:show=\"new\" xlink:title=\"psysml:94fb1c4b-8096-4b0e-a0c8-00d5fe55de6c\" xlink:type=\"simple\"><rect fill=\"#FFFFFF\" height=\"156.5\" id=\"E6\" style=\"stroke: #383838; stroke-width: 1.5;\" width=\"205\" x=\"197\" y=\"62.5\"/><rect fill=\"#F8F8F8\" height=\"37.9375\" style=\"stroke: #383838; stroke-width: 1.5;\" width=\"205\" x=\"197\" y=\"62.5\"/><text fill=\"#000000\" font-family=\"sans-serif\" font-size=\"12\" font-style=\"italic\" lengthAdjust=\"spacingAndGlyphs\" textLength=\"64\" x=\"267.5\" y=\"78.6387\">«part def»</text><text fill=\"#000000\" font-family=\"sans-serif\" font-size=\"12\" lengthAdjust=\"spacingAndGlyphs\" textLength=\"8\" x=\"295.5\" y=\"92.6074\">B</text></a><g id=\"E1.E10\"><a href=\"psysml:4c8e1ce2-7f9a-4661-9090-c510b6f01354\" target=\"_top\" title=\"psysml:4c8e1ce2-7f9a-4661-9090-c510b6f01354\" xlink:actuate=\"onRequest\" xlink:href=\"psysml:4c8e1ce2-7f9a-4661-9090-c510b6f01354\" xlink:show=\"new\" xlink:title=\"psysml:4c8e1ce2-7f9a-4661-9090-c510b6f01354\" xlink:type=\"simple\"><rect fill=\"#FFFFFF\" height=\"42.9375\" id=\"E10\" style=\"stroke: #383838; stroke-width: 1.5;\" width=\"71\" x=\"117.5\" y=\"41\"/><rect fill=\"#F8F8F8\" height=\"37.9375\" style=\"stroke: #383838; stroke-width: 1.5;\" width=\"71\" x=\"117.5\" y=\"41\"/><text fill=\"#000000\" font-family=\"sans-serif\" font-size=\"12\" font-style=\"italic\" lengthAdjust=\"spacingAndGlyphs\" textLength=\"64\" x=\"121\" y=\"57.1387\">«port def»</text><text fill=\"#000000\" font-family=\"sans-serif\" font-size=\"12\" lengthAdjust=\"spacingAndGlyphs\" textLength=\"8\" x=\"149\" y=\"71.1074\">C</text></a></g><g id=\"E1.E2\"><a href=\"psysml:634826b2-2fc2-4798-92ed-071cd1dffdd8\" target=\"_top\" title=\"psysml:634826b2-2fc2-4798-92ed-071cd1dffdd8\" xlink:actuate=\"onRequest\" xlink:href=\"psysml:634826b2-2fc2-4798-92ed-071cd1dffdd8\" xlink:show=\"new\" xlink:title=\"psysml:634826b2-2fc2-4798-92ed-071cd1dffdd8\" xlink:type=\"simple\"><rect fill=\"#FFFFFF\" height=\"40\" id=\"E2\" rx=\"10\" ry=\"10\" style=\"stroke: #383838; stroke-width: 1.5;\" width=\"50\" x=\"32\" y=\"42.5\"/><rect fill=\"#F8F8F8\" height=\"23.9688\" rx=\"10\" ry=\"10\" style=\"stroke: #F8F8F8; stroke-width: 1.5;\" width=\"50\" x=\"32\" y=\"42.5\"/><rect fill=\"#F8F8F8\" height=\"10\" style=\"stroke: #F8F8F8; stroke-width: 1.5;\" width=\"50\" x=\"32\" y=\"56.4688\"/><rect fill=\"none\" height=\"40\" id=\"E2\" rx=\"10\" ry=\"10\" style=\"stroke: #383838; stroke-width: 1.5;\" width=\"50\" x=\"32\" y=\"42.5\"/><text fill=\"#000000\" font-family=\"sans-serif\" font-size=\"12\" lengthAdjust=\"spacingAndGlyphs\" textLength=\"20\" x=\"47\" y=\"58.6387\">f: A</text></a></g><text fill=\"#000000\" font-family=\"sans-serif\" font-size=\"14\" lengthAdjust=\"spacingAndGlyphs\" textLength=\"27\" x=\"456.5\" y=\"41.1982\">c: C</text><rect fill=\"#383838\" height=\"12\" style=\"stroke: #F8F8F8; stroke-width: 1.5;\" width=\"12\" x=\"464\" y=\"56.5\"/><g id=\"E1.E3.E4\"><a href=\"psysml:b5150c44-d935-4f31-a69b-527c90fd7c47\" target=\"_top\" title=\"psysml:b5150c44-d935-4f31-a69b-527c90fd7c47\" xlink:actuate=\"onRequest\" xlink:href=\"psysml:b5150c44-d935-4f31-a69b-527c90fd7c47\" xlink:show=\"new\" xlink:title=\"psysml:b5150c44-d935-4f31-a69b-527c90fd7c47\" xlink:type=\"simple\"><rect fill=\"#FFFFFF\" height=\"40\" id=\"E4\" rx=\"10\" ry=\"10\" style=\"stroke: #383838; stroke-width: 1.5;\" width=\"50\" x=\"445\" y=\"156.5\"/><rect fill=\"#F8F8F8\" height=\"23.9688\" rx=\"10\" ry=\"10\" style=\"stroke: #F8F8F8; stroke-width: 1.5;\" width=\"50\" x=\"445\" y=\"156.5\"/><rect fill=\"#F8F8F8\" height=\"10\" style=\"stroke: #F8F8F8; stroke-width: 1.5;\" width=\"50\" x=\"445\" y=\"170.4688\"/><rect fill=\"none\" height=\"40\" id=\"E4\" rx=\"10\" ry=\"10\" style=\"stroke: #383838; stroke-width: 1.5;\" width=\"50\" x=\"445\" y=\"156.5\"/><text fill=\"#000000\" font-family=\"sans-serif\" font-size=\"12\" lengthAdjust=\"spacingAndGlyphs\" textLength=\"24\" x=\"458\" y=\"172.6387\">b: B</text></a></g><text fill=\"#000000\" font-family=\"sans-serif\" font-size=\"14\" lengthAdjust=\"spacingAndGlyphs\" textLength=\"38\" x=\"323\" y=\"41.1982\">x: ~C</text><rect fill=\"#383838\" height=\"12\" style=\"stroke: #F8F8F8; stroke-width: 1.5;\" width=\"12\" x=\"336\" y=\"56.5\"/><g id=\"E1.E6.E7\"><a href=\"psysml:de084c60-8c86-4761-a316-7296396fb321\" target=\"_top\" title=\"psysml:de084c60-8c86-4761-a316-7296396fb321\" xlink:actuate=\"onRequest\" xlink:href=\"psysml:de084c60-8c86-4761-a316-7296396fb321\" xlink:show=\"new\" xlink:title=\"psysml:de084c60-8c86-4761-a316-7296396fb321\" xlink:type=\"simple\"><rect fill=\"#FFFFFF\" height=\"40\" id=\"E7\" rx=\"10\" ry=\"10\" style=\"stroke: #383838; stroke-width: 1.5;\" width=\"50\" x=\"213\" y=\"100\"/><rect fill=\"#F8F8F8\" height=\"23.9688\" rx=\"10\" ry=\"10\" style=\"stroke: #F8F8F8; stroke-width: 1.5;\" width=\"50\" x=\"213\" y=\"100\"/><rect fill=\"#F8F8F8\" height=\"10\" style=\"stroke: #F8F8F8; stroke-width: 1.5;\" width=\"50\" x=\"213\" y=\"113.9688\"/><rect fill=\"none\" height=\"40\" id=\"E7\" rx=\"10\" ry=\"10\" style=\"stroke: #383838; stroke-width: 1.5;\" width=\"50\" x=\"213\" y=\"100\"/><text fill=\"#000000\" font-family=\"sans-serif\" font-size=\"12\" lengthAdjust=\"spacingAndGlyphs\" textLength=\"24\" x=\"226\" y=\"116.1387\">a: A</text></a></g><a href=\"psysml:4c76b494-1a6c-482d-b35c-aa72d24bc41e\" target=\"_top\" title=\"psysml:4c76b494-1a6c-482d-b35c-aa72d24bc41e\" xlink:actuate=\"onRequest\" xlink:href=\"psysml:4c76b494-1a6c-482d-b35c-aa72d24bc41e\" xlink:show=\"new\" xlink:title=\"psysml:4c76b494-1a6c-482d-b35c-aa72d24bc41e\" xlink:type=\"simple\"><polygon fill=\"#FFFFFF\" points=\"327,150,343,150,350,172.2969,357,172.2969,357,202.5938,327,202.5938,327,150\" style=\"stroke: #000000; stroke-width: 1.5;\"/><line style=\"stroke: #000000; stroke-width: 1.5;\" x1=\"327\" x2=\"350\" y1=\"172.2969\" y2=\"172.2969\"/><text fill=\"#000000\" font-family=\"sans-serif\" font-size=\"14\" font-weight=\"bold\" lengthAdjust=\"spacingAndGlyphs\" textLength=\"10\" x=\"331\" y=\"164.9951\">P</text></a><!--MD5=[7652b54683147f0d04219d49079a3dea]\n",
       "@startuml\r\n",
       "skinparam ranksep 10\r\n",
       "skinparam rectangle {\r\n",
       " backgroundColor<<block>> LightGreen\r\n",
       "}\r\n",
       "skinparam linetype ortho\r\n",
       "skinparam monochrome true\r\n",
       "skinparam classbackgroundcolor white\r\n",
       "skinparam shadowing false\r\n",
       "skinparam wrapWidth 300\r\n",
       "hide circle\r\n",
       "\r\n",
       "package \"PartTest\" as E1  [[psysml:c65cc0cd-28b1-4d7a-bc05-02136890ed9a ]]  {\r\n",
       "rec usage \"f: A\" as E2  [[psysml:634826b2-2fc2-4798-92ed-071cd1dffdd8 ]] {\r\n",
       "}\r\n",
       "rec def \"A\" as E3  <<(T,blue)part def>> [[psysml:36aba5eb-a810-4976-a211-fcdfb7b330f5 ]] {\r\n",
       "rec usage \"b: B\" as E4  [[psysml:b5150c44-d935-4f31-a69b-527c90fd7c47 ]] {\r\n",
       "}\r\n",
       "portin \"c: C\" as E5  <<(T,blue)port>> [[psysml:15f0fdfb-f77b-4913-8565-6992b28565d6 ]] \r\n",
       "}\r\n",
       "rec def \"B\" as E6  <<(T,blue)part def>> [[psysml:94fb1c4b-8096-4b0e-a0c8-00d5fe55de6c ]] {\r\n",
       "rec usage \"a: A\" as E7  [[psysml:de084c60-8c86-4761-a316-7296396fb321 ]] {\r\n",
       "}\r\n",
       "portin \"x: ~C\" as E8  <<(T,blue)port>> [[psysml:6cb219e8-2ff6-47bb-94c6-2fc71ea9a3d9 ]] \r\n",
       "package \"P\" as E9  [[psysml:4c76b494-1a6c-482d-b35c-aa72d24bc41e ]]  {\r\n",
       "}\r\n",
       "}\r\n",
       "def \"C\" as E10  <<(T,blue)port def>> [[psysml:4c8e1ce2-7f9a-4661-9090-c510b6f01354 ]] \r\n",
       "}\r\n",
       "@enduml\r\n",
       "\n",
       "PlantUML version 1.2020.13(Sat Jun 13 12:26:38 UTC 2020)\n",
       "(EPL source distribution)\n",
       "Java Runtime: OpenJDK Runtime Environment\n",
       "JVM: OpenJDK 64-Bit Server VM\n",
       "Default Encoding: UTF-8\n",
       "Language: en\n",
       "Country: null\n",
       "--></g></svg>"
      ]
     },
     "execution_count": 54,
     "metadata": {},
     "output_type": "execute_result"
    }
   ],
   "source": [
    "%viz --style=\"ORTHOLINE\" --view=\"Interconnection\" \"PartTest\""
   ]
  },
  {
   "cell_type": "code",
   "execution_count": 55,
   "id": "236d26d1",
   "metadata": {
    "execution": {
     "iopub.execute_input": "2021-04-20T07:29:16.958231Z",
     "iopub.status.busy": "2021-04-20T07:29:16.956218Z",
     "iopub.status.idle": "2021-04-20T07:29:16.965072Z",
     "shell.execute_reply": "2021-04-20T07:29:16.963999Z"
    }
   },
   "outputs": [
    {
     "data": {
      "image/svg+xml": [
       "<?xml version=\"1.0\" encoding=\"UTF-8\" standalone=\"no\"?><svg xmlns=\"http://www.w3.org/2000/svg\" xmlns:xlink=\"http://www.w3.org/1999/xlink\" contentScriptType=\"application/ecmascript\" contentStyleType=\"text/css\" height=\"12px\" preserveAspectRatio=\"none\" style=\"width:12px;height:12px;\" version=\"1.1\" viewBox=\"0 0 12 12\" width=\"12px\" zoomAndPan=\"magnify\"><defs/><g><!--MD5=[72934c63077099a26744516a776b4749]\n",
       "@startuml\r\n",
       "skinparam ranksep 8\r\n",
       "skinparam linetype ortho\r\n",
       "skinparam monochrome true\r\n",
       "skinparam classbackgroundcolor white\r\n",
       "skinparam shadowing false\r\n",
       "skinparam wrapWidth 300\r\n",
       "hide circle\r\n",
       "\r\n",
       "@enduml\r\n",
       "\n",
       "PlantUML version 1.2020.13(Sat Jun 13 12:26:38 UTC 2020)\n",
       "(EPL source distribution)\n",
       "Java Runtime: OpenJDK Runtime Environment\n",
       "JVM: OpenJDK 64-Bit Server VM\n",
       "Default Encoding: UTF-8\n",
       "Language: en\n",
       "Country: null\n",
       "--></g></svg>"
      ]
     },
     "execution_count": 55,
     "metadata": {},
     "output_type": "execute_result"
    }
   ],
   "source": [
    "%viz --style=\"ORTHOLINE\" --view=\"Action\" \"PartTest\""
   ]
  },
  {
   "cell_type": "code",
   "execution_count": 56,
   "id": "f4ecf0c1",
   "metadata": {
    "execution": {
     "iopub.execute_input": "2021-04-20T07:29:17.017389Z",
     "iopub.status.busy": "2021-04-20T07:29:17.015148Z",
     "iopub.status.idle": "2021-04-20T07:29:17.119148Z",
     "shell.execute_reply": "2021-04-20T07:29:17.119595Z"
    }
   },
   "outputs": [
    {
     "data": {
      "image/svg+xml": [
       "<?xml version=\"1.0\" encoding=\"UTF-8\" standalone=\"no\"?><svg xmlns=\"http://www.w3.org/2000/svg\" xmlns:xlink=\"http://www.w3.org/1999/xlink\" contentScriptType=\"application/ecmascript\" contentStyleType=\"text/css\" height=\"642px\" preserveAspectRatio=\"none\" style=\"width:260px;height:642px;\" version=\"1.1\" viewBox=\"0 0 260 642\" width=\"260px\" zoomAndPan=\"magnify\"><defs/><g><!--MD5=[fbc87193dbaf4d95561dea2c320d4a47]\n",
       "cluster E1--><a href=\"psysml:c65cc0cd-28b1-4d7a-bc05-02136890ed9a\" target=\"_top\" title=\"psysml:c65cc0cd-28b1-4d7a-bc05-02136890ed9a\" xlink:actuate=\"onRequest\" xlink:href=\"psysml:c65cc0cd-28b1-4d7a-bc05-02136890ed9a\" xlink:show=\"new\" xlink:title=\"psysml:c65cc0cd-28b1-4d7a-bc05-02136890ed9a\" xlink:type=\"simple\"><polygon fill=\"#FFFFFF\" points=\"16,6,89,6,96,28.2969,238,28.2969,238,630,16,630,16,6\" style=\"stroke: #000000; stroke-width: 1.5;\"/><line style=\"stroke: #000000; stroke-width: 1.5;\" x1=\"16\" x2=\"96\" y1=\"28.2969\" y2=\"28.2969\"/><text fill=\"#000000\" font-family=\"sans-serif\" font-size=\"14\" font-weight=\"bold\" lengthAdjust=\"spacingAndGlyphs\" textLength=\"67\" x=\"20\" y=\"20.9951\">PartTest</text></a><!--MD5=[b4997ac47864f28c2f74865a473b2911]\n",
       "class E2--><a href=\"psysml:634826b2-2fc2-4798-92ed-071cd1dffdd8\" target=\"_top\" title=\"psysml:634826b2-2fc2-4798-92ed-071cd1dffdd8\" xlink:actuate=\"onRequest\" xlink:href=\"psysml:634826b2-2fc2-4798-92ed-071cd1dffdd8\" xlink:show=\"new\" xlink:title=\"psysml:634826b2-2fc2-4798-92ed-071cd1dffdd8\" xlink:type=\"simple\"><rect fill=\"#FFFFFF\" height=\"45.9375\" id=\"E2\" rx=\"10\" ry=\"10\" style=\"stroke: #383838; stroke-width: 1.5;\" width=\"42\" x=\"32\" y=\"41\"/><text fill=\"#000000\" font-family=\"sans-serif\" font-size=\"12\" font-style=\"italic\" lengthAdjust=\"spacingAndGlyphs\" textLength=\"40\" x=\"33\" y=\"57.1387\">«part»</text><text fill=\"#000000\" font-family=\"sans-serif\" font-size=\"12\" lengthAdjust=\"spacingAndGlyphs\" textLength=\"20\" x=\"43\" y=\"71.1074\">f: A</text><line style=\"stroke: #383838; stroke-width: 1.5;\" x1=\"33\" x2=\"73\" y1=\"78.9375\" y2=\"78.9375\"/></a><!--MD5=[09b614a08d8cba4a07c9adeb5e0fee81]\n",
       "class E3--><a href=\"psysml:36aba5eb-a810-4976-a211-fcdfb7b330f5\" target=\"_top\" title=\"psysml:36aba5eb-a810-4976-a211-fcdfb7b330f5\" xlink:actuate=\"onRequest\" xlink:href=\"psysml:36aba5eb-a810-4976-a211-fcdfb7b330f5\" xlink:show=\"new\" xlink:title=\"psysml:36aba5eb-a810-4976-a211-fcdfb7b330f5\" xlink:type=\"simple\"><rect fill=\"#FFFFFF\" height=\"75.5469\" id=\"E3\" style=\"stroke: #383838; stroke-width: 1.5;\" width=\"66\" x=\"37\" y=\"164\"/><text fill=\"#000000\" font-family=\"sans-serif\" font-size=\"12\" font-style=\"italic\" lengthAdjust=\"spacingAndGlyphs\" textLength=\"64\" x=\"38\" y=\"180.1387\">«part def»</text><text fill=\"#000000\" font-family=\"sans-serif\" font-size=\"12\" lengthAdjust=\"spacingAndGlyphs\" textLength=\"8\" x=\"66\" y=\"194.1074\">A</text><line style=\"stroke: #383838; stroke-width: 1.5;\" x1=\"38\" x2=\"102\" y1=\"201.9375\" y2=\"201.9375\"/><text fill=\"#000000\" font-family=\"sans-serif\" font-size=\"11\" lengthAdjust=\"spacingAndGlyphs\" textLength=\"22\" x=\"43\" y=\"232.9526\">c: C</text><line style=\"stroke: #383838; stroke-width: 1.0;\" x1=\"38\" x2=\"55\" y1=\"216.3398\" y2=\"216.3398\"/><text fill=\"#000000\" font-family=\"sans-serif\" font-size=\"11\" lengthAdjust=\"spacingAndGlyphs\" textLength=\"30\" x=\"55\" y=\"219.6479\">ports</text><line style=\"stroke: #383838; stroke-width: 1.0;\" x1=\"85\" x2=\"102\" y1=\"216.3398\" y2=\"216.3398\"/></a><!--MD5=[ebbe1d658d1005bcc118a6aa81145e00]\n",
       "class E4--><a href=\"psysml:b5150c44-d935-4f31-a69b-527c90fd7c47\" target=\"_top\" title=\"psysml:b5150c44-d935-4f31-a69b-527c90fd7c47\" xlink:actuate=\"onRequest\" xlink:href=\"psysml:b5150c44-d935-4f31-a69b-527c90fd7c47\" xlink:show=\"new\" xlink:title=\"psysml:b5150c44-d935-4f31-a69b-527c90fd7c47\" xlink:type=\"simple\"><rect fill=\"#FFFFFF\" height=\"45.9375\" id=\"E4\" rx=\"10\" ry=\"10\" style=\"stroke: #383838; stroke-width: 1.5;\" width=\"42\" x=\"69\" y=\"317\"/><text fill=\"#000000\" font-family=\"sans-serif\" font-size=\"12\" font-style=\"italic\" lengthAdjust=\"spacingAndGlyphs\" textLength=\"40\" x=\"70\" y=\"333.1387\">«part»</text><text fill=\"#000000\" font-family=\"sans-serif\" font-size=\"12\" lengthAdjust=\"spacingAndGlyphs\" textLength=\"24\" x=\"78\" y=\"347.1074\">b: B</text><line style=\"stroke: #383838; stroke-width: 1.5;\" x1=\"70\" x2=\"110\" y1=\"354.9375\" y2=\"354.9375\"/></a><!--MD5=[60a26617385b1d2d0262a64233df1f8d]\n",
       "class E6--><a href=\"psysml:94fb1c4b-8096-4b0e-a0c8-00d5fe55de6c\" target=\"_top\" title=\"psysml:94fb1c4b-8096-4b0e-a0c8-00d5fe55de6c\" xlink:actuate=\"onRequest\" xlink:href=\"psysml:94fb1c4b-8096-4b0e-a0c8-00d5fe55de6c\" xlink:show=\"new\" xlink:title=\"psysml:94fb1c4b-8096-4b0e-a0c8-00d5fe55de6c\" xlink:type=\"simple\"><rect fill=\"#FFFFFF\" height=\"75.5469\" id=\"E6\" style=\"stroke: #383838; stroke-width: 1.5;\" width=\"66\" x=\"114\" y=\"424\"/><text fill=\"#000000\" font-family=\"sans-serif\" font-size=\"12\" font-style=\"italic\" lengthAdjust=\"spacingAndGlyphs\" textLength=\"64\" x=\"115\" y=\"440.1387\">«part def»</text><text fill=\"#000000\" font-family=\"sans-serif\" font-size=\"12\" lengthAdjust=\"spacingAndGlyphs\" textLength=\"8\" x=\"143\" y=\"454.1074\">B</text><line style=\"stroke: #383838; stroke-width: 1.5;\" x1=\"115\" x2=\"179\" y1=\"461.9375\" y2=\"461.9375\"/><text fill=\"#000000\" font-family=\"sans-serif\" font-size=\"11\" lengthAdjust=\"spacingAndGlyphs\" textLength=\"31\" x=\"120\" y=\"492.9526\">x: ~C</text><line style=\"stroke: #383838; stroke-width: 1.0;\" x1=\"115\" x2=\"132\" y1=\"476.3398\" y2=\"476.3398\"/><text fill=\"#000000\" font-family=\"sans-serif\" font-size=\"11\" lengthAdjust=\"spacingAndGlyphs\" textLength=\"30\" x=\"132\" y=\"479.6479\">ports</text><line style=\"stroke: #383838; stroke-width: 1.0;\" x1=\"162\" x2=\"179\" y1=\"476.3398\" y2=\"476.3398\"/></a><!--MD5=[2156ba9850f5573cc1fc38a6a4b2f02b]\n",
       "class E7--><a href=\"psysml:de084c60-8c86-4761-a316-7296396fb321\" target=\"_top\" title=\"psysml:de084c60-8c86-4761-a316-7296396fb321\" xlink:actuate=\"onRequest\" xlink:href=\"psysml:de084c60-8c86-4761-a316-7296396fb321\" xlink:show=\"new\" xlink:title=\"psysml:de084c60-8c86-4761-a316-7296396fb321\" xlink:type=\"simple\"><rect fill=\"#FFFFFF\" height=\"45.9375\" id=\"E7\" rx=\"10\" ry=\"10\" style=\"stroke: #383838; stroke-width: 1.5;\" width=\"42\" x=\"44\" y=\"564.5\"/><text fill=\"#000000\" font-family=\"sans-serif\" font-size=\"12\" font-style=\"italic\" lengthAdjust=\"spacingAndGlyphs\" textLength=\"40\" x=\"45\" y=\"580.6387\">«part»</text><text fill=\"#000000\" font-family=\"sans-serif\" font-size=\"12\" lengthAdjust=\"spacingAndGlyphs\" textLength=\"24\" x=\"53\" y=\"594.6074\">a: A</text><line style=\"stroke: #383838; stroke-width: 1.5;\" x1=\"45\" x2=\"85\" y1=\"602.4375\" y2=\"602.4375\"/></a><!--MD5=[96f4274e9e20536e775497830990834d]\n",
       "class E10--><a href=\"psysml:4c8e1ce2-7f9a-4661-9090-c510b6f01354\" target=\"_top\" title=\"psysml:4c8e1ce2-7f9a-4661-9090-c510b6f01354\" xlink:actuate=\"onRequest\" xlink:href=\"psysml:4c8e1ce2-7f9a-4661-9090-c510b6f01354\" xlink:show=\"new\" xlink:title=\"psysml:4c8e1ce2-7f9a-4661-9090-c510b6f01354\" xlink:type=\"simple\"><rect fill=\"#FFFFFF\" height=\"45.9375\" id=\"E10\" style=\"stroke: #383838; stroke-width: 1.5;\" width=\"66\" x=\"146\" y=\"41\"/><text fill=\"#000000\" font-family=\"sans-serif\" font-size=\"12\" font-style=\"italic\" lengthAdjust=\"spacingAndGlyphs\" textLength=\"64\" x=\"147\" y=\"57.1387\">«port def»</text><text fill=\"#000000\" font-family=\"sans-serif\" font-size=\"12\" lengthAdjust=\"spacingAndGlyphs\" textLength=\"8\" x=\"175\" y=\"71.1074\">C</text><line style=\"stroke: #383838; stroke-width: 1.5;\" x1=\"147\" x2=\"211\" y1=\"78.9375\" y2=\"78.9375\"/></a><a href=\"psysml:4c76b494-1a6c-482d-b35c-aa72d24bc41e\" target=\"_top\" title=\"psysml:4c76b494-1a6c-482d-b35c-aa72d24bc41e\" xlink:actuate=\"onRequest\" xlink:href=\"psysml:4c76b494-1a6c-482d-b35c-aa72d24bc41e\" xlink:show=\"new\" xlink:title=\"psysml:4c76b494-1a6c-482d-b35c-aa72d24bc41e\" xlink:type=\"simple\"><polygon fill=\"#FFFFFF\" points=\"132,561,148,561,155,583.2969,162,583.2969,162,613.5938,132,613.5938,132,561\" style=\"stroke: #000000; stroke-width: 1.5;\"/><line style=\"stroke: #000000; stroke-width: 1.5;\" x1=\"132\" x2=\"155\" y1=\"583.2969\" y2=\"583.2969\"/><text fill=\"#000000\" font-family=\"sans-serif\" font-size=\"14\" font-weight=\"bold\" lengthAdjust=\"spacingAndGlyphs\" textLength=\"10\" x=\"136\" y=\"575.9951\">P</text></a><!--MD5=[2720a5a1f2c3fca2055b230370638851]\n",
       "link E2 to E3--><a href=\"psysml:38cdc859-4dfa-4bc4-87cd-169dd5acc896\" target=\"_top\" title=\"psysml:38cdc859-4dfa-4bc4-87cd-169dd5acc896\" xlink:actuate=\"onRequest\" xlink:href=\"psysml:38cdc859-4dfa-4bc4-87cd-169dd5acc896\" xlink:show=\"new\" xlink:title=\"psysml:38cdc859-4dfa-4bc4-87cd-169dd5acc896\" xlink:type=\"simple\"><path d=\"M55.5,87.1 C55.5,87.1 55.5,143.96 55.5,143.96 \" fill=\"none\" id=\"E2-&gt;E3\" style=\"stroke: #383838; stroke-width: 1.0;\"/><polygon fill=\"#FFFFFF\" points=\"55.5,163.96,48.5,144.96,62.5,144.96,55.5,163.96\" style=\"stroke: #383838; stroke-width: 1.0;\"/><ellipse cx=\"50.5\" cy=\"139.26\" fill=\"#383838\" rx=\"2\" ry=\"2\" style=\"stroke: #383838; stroke-width: 1.0;\"/><ellipse cx=\"60.5\" cy=\"139.26\" fill=\"#383838\" rx=\"2\" ry=\"2\" style=\"stroke: #383838; stroke-width: 1.0;\"/></a><!--MD5=[4672eba38e49728da53d11aeb285b987]\n",
       "reverse link E3 to E4--><a href=\"psysml:5ebdadf2-6044-45bc-aa24-2da7c79aba16\" target=\"_top\" title=\"psysml:5ebdadf2-6044-45bc-aa24-2da7c79aba16\" xlink:actuate=\"onRequest\" xlink:href=\"psysml:5ebdadf2-6044-45bc-aa24-2da7c79aba16\" xlink:show=\"new\" xlink:title=\"psysml:5ebdadf2-6044-45bc-aa24-2da7c79aba16\" xlink:type=\"simple\"><path d=\"M86,253.07 C86,253.07 86,316.75 86,316.75 \" fill=\"none\" id=\"E3&lt;-E4\" style=\"stroke: #383838; stroke-width: 1.0;\"/><polygon fill=\"#383838\" points=\"86,240.07,82,246.07,86,252.07,90,246.07,86,240.07\" style=\"stroke: #383838; stroke-width: 1.0;\"/></a><!--MD5=[79568f1e445c3877b6a54524624ccc7d]\n",
       "link E4 to E6--><a href=\"psysml:1fd8d685-c326-41aa-b421-a8308f20148e\" target=\"_top\" title=\"psysml:1fd8d685-c326-41aa-b421-a8308f20148e\" xlink:actuate=\"onRequest\" xlink:href=\"psysml:1fd8d685-c326-41aa-b421-a8308f20148e\" xlink:show=\"new\" xlink:title=\"psysml:1fd8d685-c326-41aa-b421-a8308f20148e\" xlink:type=\"simple\"><path d=\"M111.41,340 C120.92,340 130,340 130,340 C130,340 130,403.73 130,403.73 \" fill=\"none\" id=\"E4-&gt;E6\" style=\"stroke: #383838; stroke-width: 1.0;\"/><polygon fill=\"#FFFFFF\" points=\"130,423.73,123,404.73,137,404.73,130,423.73\" style=\"stroke: #383838; stroke-width: 1.0;\"/><ellipse cx=\"125\" cy=\"399.03\" fill=\"#383838\" rx=\"2\" ry=\"2\" style=\"stroke: #383838; stroke-width: 1.0;\"/><ellipse cx=\"135\" cy=\"399.03\" fill=\"#383838\" rx=\"2\" ry=\"2\" style=\"stroke: #383838; stroke-width: 1.0;\"/></a><!--MD5=[3f50a3473f1dfb74d3f76443e03635af]\n",
       "reverse link E6 to E7--><a href=\"psysml:c471fe89-f766-40f3-82e0-5e28332f3a67\" target=\"_top\" title=\"psysml:c471fe89-f766-40f3-82e0-5e28332f3a67\" xlink:actuate=\"onRequest\" xlink:href=\"psysml:c471fe89-f766-40f3-82e0-5e28332f3a67\" xlink:show=\"new\" xlink:title=\"psysml:c471fe89-f766-40f3-82e0-5e28332f3a67\" xlink:type=\"simple\"><path d=\"M123,513.15 C123,513.15 123,588 123,588 C123,588 102.82,588 86.27,588 \" fill=\"none\" id=\"E6&lt;-E7\" style=\"stroke: #383838; stroke-width: 1.0;\"/><polygon fill=\"#383838\" points=\"123,500.15,119,506.15,123,512.15,127,506.15,123,500.15\" style=\"stroke: #383838; stroke-width: 1.0;\"/></a><!--MD5=[14ccda38c055a5c0da953d572bc50960]\n",
       "link E7 to E3--><a href=\"psysml:ce24e444-eb42-4eaa-91b0-86c1efe7ffc5\" target=\"_top\" title=\"psysml:ce24e444-eb42-4eaa-91b0-86c1efe7ffc5\" xlink:actuate=\"onRequest\" xlink:href=\"psysml:ce24e444-eb42-4eaa-91b0-86c1efe7ffc5\" xlink:show=\"new\" xlink:title=\"psysml:ce24e444-eb42-4eaa-91b0-86c1efe7ffc5\" xlink:type=\"simple\"><path d=\"M56.5,564.25 C56.5,564.25 56.5,260.03 56.5,260.03 \" fill=\"none\" id=\"E7-&gt;E3\" style=\"stroke: #383838; stroke-width: 1.0;\"/><polygon fill=\"#FFFFFF\" points=\"56.5,240.03,63.5,259.03,49.5,259.03,56.5,240.03\" style=\"stroke: #383838; stroke-width: 1.0;\"/><ellipse cx=\"61.5\" cy=\"264.73\" fill=\"#383838\" rx=\"2\" ry=\"2\" style=\"stroke: #383838; stroke-width: 1.0;\"/><ellipse cx=\"51.5\" cy=\"264.73\" fill=\"#383838\" rx=\"2\" ry=\"2\" style=\"stroke: #383838; stroke-width: 1.0;\"/></a><!--MD5=[e88d06e5a652d73a6b19930eefe025a8]\n",
       "reverse link E6 to E9--><a href=\"psysml:cabff1fd-5442-4a71-976e-341ac2e5dda1\" target=\"_top\" title=\"psysml:cabff1fd-5442-4a71-976e-341ac2e5dda1\" xlink:actuate=\"onRequest\" xlink:href=\"psysml:cabff1fd-5442-4a71-976e-341ac2e5dda1\" xlink:show=\"new\" xlink:title=\"psysml:cabff1fd-5442-4a71-976e-341ac2e5dda1\" xlink:type=\"simple\"><path d=\"M147,515.34 C147,515.34 147,560.92 147,560.92 \" fill=\"none\" id=\"E6&lt;-E9\" style=\"stroke: #383838; stroke-width: 1.0;\"/><ellipse cx=\"147\" cy=\"508.34\" fill=\"#FFFFFF\" rx=\"8\" ry=\"8\" style=\"stroke: #383838; stroke-width: 1.0;\"/><line style=\"stroke: #383838; stroke-width: 1.0;\" x1=\"147\" x2=\"147\" y1=\"516.34\" y2=\"500.34\"/><line style=\"stroke: #383838; stroke-width: 1.0;\" x1=\"139\" x2=\"155\" y1=\"508.34\" y2=\"508.34\"/></a><!--MD5=[8e04057e7b3cbc0dca4fc78ea351e2da]\n",
       "reverse link E10 to E3--><a href=\"psysml:a19db77c-da80-41d6-a5f2-85a22676bfcf\" target=\"_top\" title=\"psysml:a19db77c-da80-41d6-a5f2-85a22676bfcf\" xlink:actuate=\"onRequest\" xlink:href=\"psysml:a19db77c-da80-41d6-a5f2-85a22676bfcf\" xlink:show=\"new\" xlink:title=\"psysml:a19db77c-da80-41d6-a5f2-85a22676bfcf\" xlink:type=\"simple\"><path d=\"M132.91,53 C132.91,53 81.25,53 81.25,53 C81.25,53 81.25,119.48 81.25,163.63 \" fill=\"none\" id=\"E10&lt;-E3\" style=\"stroke: #383838; stroke-width: 1.0;\"/><polygon fill=\"#FFFFFF\" points=\"145.91,53,139.91,49,133.91,53,139.91,57,145.91,53\" style=\"stroke: #383838; stroke-width: 1.0;\"/><text fill=\"#000000\" font-family=\"sans-serif\" font-size=\"13\" lengthAdjust=\"spacingAndGlyphs\" textLength=\"7\" x=\"75\" y=\"130.0669\">y</text></a><!--MD5=[8e04057e7b3cbc0dca4fc78ea351e2da]\n",
       "reverse link E10 to E3--><a href=\"psysml:a19db77c-da80-41d6-a5f2-85a22676bfcf\" target=\"_top\" title=\"psysml:a19db77c-da80-41d6-a5f2-85a22676bfcf\" xlink:actuate=\"onRequest\" xlink:href=\"psysml:a19db77c-da80-41d6-a5f2-85a22676bfcf\" xlink:show=\"new\" xlink:title=\"psysml:a19db77c-da80-41d6-a5f2-85a22676bfcf\" xlink:type=\"simple\"><path d=\"M132.82,64 C132.82,64 88.5,64 88.5,64 C88.5,64 88.5,123.08 88.5,163.93 \" fill=\"none\" id=\"E10&lt;-E3-1\" style=\"stroke: #383838; stroke-width: 1.0;\"/><polygon fill=\"#FFFFFF\" points=\"145.82,64,139.8244,59.9934,133.82,63.9868,139.8156,67.9934,145.82,64\" style=\"stroke: #383838; stroke-width: 1.0;\"/><text fill=\"#000000\" font-family=\"sans-serif\" font-size=\"13\" lengthAdjust=\"spacingAndGlyphs\" textLength=\"7\" x=\"124\" y=\"130.0669\">y</text></a><!--MD5=[8e04057e7b3cbc0dca4fc78ea351e2da]\n",
       "reverse link E10 to E3--><a href=\"psysml:a19db77c-da80-41d6-a5f2-85a22676bfcf\" target=\"_top\" title=\"psysml:a19db77c-da80-41d6-a5f2-85a22676bfcf\" xlink:actuate=\"onRequest\" xlink:href=\"psysml:a19db77c-da80-41d6-a5f2-85a22676bfcf\" xlink:show=\"new\" xlink:title=\"psysml:a19db77c-da80-41d6-a5f2-85a22676bfcf\" xlink:type=\"simple\"><path d=\"M132.62,76 C132.62,76 95.75,76 95.75,76 C95.75,76 95.75,126.77 95.75,163.85 \" fill=\"none\" id=\"E10&lt;-E3-2\" style=\"stroke: #383838; stroke-width: 1.0;\"/><polygon fill=\"#FFFFFF\" points=\"145.62,76,139.62,72,133.62,76,139.62,80,145.62,76\" style=\"stroke: #383838; stroke-width: 1.0;\"/><text fill=\"#000000\" font-family=\"sans-serif\" font-size=\"13\" lengthAdjust=\"spacingAndGlyphs\" textLength=\"7\" x=\"173\" y=\"130.0669\">y</text></a><!--MD5=[604cbf994c02b74b117f728a71673cea]\n",
       "reverse link E10 to E6--><a href=\"psysml:a19db77c-da80-41d6-a5f2-85a22676bfcf\" target=\"_top\" title=\"psysml:a19db77c-da80-41d6-a5f2-85a22676bfcf\" xlink:actuate=\"onRequest\" xlink:href=\"psysml:a19db77c-da80-41d6-a5f2-85a22676bfcf\" xlink:show=\"new\" xlink:title=\"psysml:a19db77c-da80-41d6-a5f2-85a22676bfcf\" xlink:type=\"simple\"><path d=\"M154.5,100.12 C154.5,100.12 154.5,423.73 154.5,423.73 \" fill=\"none\" id=\"E10&lt;-E6\" style=\"stroke: #383838; stroke-width: 1.0;\"/><polygon fill=\"#FFFFFF\" points=\"154.5,87.12,150.5,93.12,154.5,99.12,158.5,93.12,154.5,87.12\" style=\"stroke: #383838; stroke-width: 1.0;\"/><text fill=\"#000000\" font-family=\"sans-serif\" font-size=\"13\" lengthAdjust=\"spacingAndGlyphs\" textLength=\"7\" x=\"214\" y=\"283.0669\">y</text></a><!--MD5=[604cbf994c02b74b117f728a71673cea]\n",
       "reverse link E10 to E6--><a href=\"psysml:a19db77c-da80-41d6-a5f2-85a22676bfcf\" target=\"_top\" title=\"psysml:a19db77c-da80-41d6-a5f2-85a22676bfcf\" xlink:actuate=\"onRequest\" xlink:href=\"psysml:a19db77c-da80-41d6-a5f2-85a22676bfcf\" xlink:show=\"new\" xlink:title=\"psysml:a19db77c-da80-41d6-a5f2-85a22676bfcf\" xlink:type=\"simple\"><path d=\"M163,100.12 C163,100.12 163,423.73 163,423.73 \" fill=\"none\" id=\"E10&lt;-E6-1\" style=\"stroke: #383838; stroke-width: 1.0;\"/><polygon fill=\"#FFFFFF\" points=\"163,87.12,159,93.12,163,99.12,167,93.12,163,87.12\" style=\"stroke: #383838; stroke-width: 1.0;\"/><text fill=\"#000000\" font-family=\"sans-serif\" font-size=\"13\" lengthAdjust=\"spacingAndGlyphs\" textLength=\"7\" x=\"116\" y=\"283.0669\">y</text></a><!--MD5=[604cbf994c02b74b117f728a71673cea]\n",
       "reverse link E10 to E6--><a href=\"psysml:a19db77c-da80-41d6-a5f2-85a22676bfcf\" target=\"_top\" title=\"psysml:a19db77c-da80-41d6-a5f2-85a22676bfcf\" xlink:actuate=\"onRequest\" xlink:href=\"psysml:a19db77c-da80-41d6-a5f2-85a22676bfcf\" xlink:show=\"new\" xlink:title=\"psysml:a19db77c-da80-41d6-a5f2-85a22676bfcf\" xlink:type=\"simple\"><path d=\"M171.5,100.12 C171.5,100.12 171.5,423.73 171.5,423.73 \" fill=\"none\" id=\"E10&lt;-E6-2\" style=\"stroke: #383838; stroke-width: 1.0;\"/><polygon fill=\"#FFFFFF\" points=\"171.5,87.12,167.5,93.12,171.5,99.12,175.5,93.12,171.5,87.12\" style=\"stroke: #383838; stroke-width: 1.0;\"/><text fill=\"#000000\" font-family=\"sans-serif\" font-size=\"13\" lengthAdjust=\"spacingAndGlyphs\" textLength=\"7\" x=\"165\" y=\"283.0669\">y</text></a><!--MD5=[b85501777bc64223328466ab8fb42f6a]\n",
       "@startuml\r\n",
       "skinparam linetype ortho\r\n",
       "skinparam monochrome true\r\n",
       "skinparam classbackgroundcolor white\r\n",
       "skinparam shadowing false\r\n",
       "skinparam wrapWidth 300\r\n",
       "hide circle\r\n",
       "\r\n",
       "package \"PartTest\" as E1  [[psysml:c65cc0cd-28b1-4d7a-bc05-02136890ed9a ]]  {\r\n",
       "comp usage \"f: A\" as E2  <<(T,blue)part>> [[psysml:634826b2-2fc2-4798-92ed-071cd1dffdd8 ]] {\r\n",
       "}\r\n",
       "comp def \"A\" as E3  <<(T,blue)part def>> [[psysml:36aba5eb-a810-4976-a211-fcdfb7b330f5 ]] {\r\n",
       "- - ports - -\r\n",
       "c: C\r\n",
       "}\r\n",
       "comp usage \"b: B\" as E4  <<(T,blue)part>> [[psysml:b5150c44-d935-4f31-a69b-527c90fd7c47 ]] {\r\n",
       "}\r\n",
       "comp def \"B\" as E6  <<(T,blue)part def>> [[psysml:94fb1c4b-8096-4b0e-a0c8-00d5fe55de6c ]] {\r\n",
       "- - ports - -\r\n",
       "x: ~C\r\n",
       "}\r\n",
       "comp usage \"a: A\" as E7  <<(T,blue)part>> [[psysml:de084c60-8c86-4761-a316-7296396fb321 ]] {\r\n",
       "}\r\n",
       "package \"P\" as E9  [[psysml:4c76b494-1a6c-482d-b35c-aa72d24bc41e ]]  {\r\n",
       "}\r\n",
       "comp def \"C\" as E10  <<(T,blue)port def>> [[psysml:4c8e1ce2-7f9a-4661-9090-c510b6f01354 ]] {\r\n",
       "}\r\n",
       "E2 - -:|> E3 [[psysml:38cdc859-4dfa-4bc4-87cd-169dd5acc896 ]] \r\n",
       "E3 *- - E4 [[psysml:5ebdadf2-6044-45bc-aa24-2da7c79aba16 ]] \r\n",
       "E4 - -:|> E6 [[psysml:1fd8d685-c326-41aa-b421-a8308f20148e ]] \r\n",
       "E6 *- - E7 [[psysml:c471fe89-f766-40f3-82e0-5e28332f3a67 ]] \r\n",
       "E7 - -:|> E3 [[psysml:ce24e444-eb42-4eaa-91b0-86c1efe7ffc5 ]] \r\n",
       "E6 +- - E9 [[psysml:cabff1fd-5442-4a71-976e-341ac2e5dda1 ]] \r\n",
       "E10 o- - E3 [[psysml:a19db77c-da80-41d6-a5f2-85a22676bfcf ]] : y\r\n",
       "E10 o- - E6 [[psysml:a19db77c-da80-41d6-a5f2-85a22676bfcf ]] : y\r\n",
       "E10 o- - E3 [[psysml:a19db77c-da80-41d6-a5f2-85a22676bfcf ]] : y\r\n",
       "E10 o- - E6 [[psysml:a19db77c-da80-41d6-a5f2-85a22676bfcf ]] : y\r\n",
       "E10 o- - E3 [[psysml:a19db77c-da80-41d6-a5f2-85a22676bfcf ]] : y\r\n",
       "E10 o- - E6 [[psysml:a19db77c-da80-41d6-a5f2-85a22676bfcf ]] : y\r\n",
       "}\r\n",
       "@enduml\r\n",
       "\n",
       "PlantUML version 1.2020.13(Sat Jun 13 12:26:38 UTC 2020)\n",
       "(EPL source distribution)\n",
       "Java Runtime: OpenJDK Runtime Environment\n",
       "JVM: OpenJDK 64-Bit Server VM\n",
       "Default Encoding: UTF-8\n",
       "Language: en\n",
       "Country: null\n",
       "--></g></svg>"
      ]
     },
     "execution_count": 56,
     "metadata": {},
     "output_type": "execute_result"
    }
   ],
   "source": [
    "%viz --style=\"ORTHOLINE\" --view=\"Sequence\" \"PartTest\""
   ]
  },
  {
   "cell_type": "code",
   "execution_count": 57,
   "id": "e6791b6a",
   "metadata": {
    "execution": {
     "iopub.execute_input": "2021-04-20T07:29:17.170763Z",
     "iopub.status.busy": "2021-04-20T07:29:17.169998Z",
     "iopub.status.idle": "2021-04-20T07:29:17.262552Z",
     "shell.execute_reply": "2021-04-20T07:29:17.259545Z"
    }
   },
   "outputs": [
    {
     "data": {
      "image/svg+xml": [
       "<?xml version=\"1.0\" encoding=\"UTF-8\" standalone=\"no\"?><svg xmlns=\"http://www.w3.org/2000/svg\" xmlns:xlink=\"http://www.w3.org/1999/xlink\" contentScriptType=\"application/ecmascript\" contentStyleType=\"text/css\" height=\"642px\" preserveAspectRatio=\"none\" style=\"width:260px;height:642px;\" version=\"1.1\" viewBox=\"0 0 260 642\" width=\"260px\" zoomAndPan=\"magnify\"><defs/><g><!--MD5=[fbc87193dbaf4d95561dea2c320d4a47]\n",
       "cluster E1--><a href=\"psysml:c65cc0cd-28b1-4d7a-bc05-02136890ed9a\" target=\"_top\" title=\"psysml:c65cc0cd-28b1-4d7a-bc05-02136890ed9a\" xlink:actuate=\"onRequest\" xlink:href=\"psysml:c65cc0cd-28b1-4d7a-bc05-02136890ed9a\" xlink:show=\"new\" xlink:title=\"psysml:c65cc0cd-28b1-4d7a-bc05-02136890ed9a\" xlink:type=\"simple\"><polygon fill=\"#FFFFFF\" points=\"16,6,89,6,96,28.2969,238,28.2969,238,630,16,630,16,6\" style=\"stroke: #000000; stroke-width: 1.5;\"/><line style=\"stroke: #000000; stroke-width: 1.5;\" x1=\"16\" x2=\"96\" y1=\"28.2969\" y2=\"28.2969\"/><text fill=\"#000000\" font-family=\"sans-serif\" font-size=\"14\" font-weight=\"bold\" lengthAdjust=\"spacingAndGlyphs\" textLength=\"67\" x=\"20\" y=\"20.9951\">PartTest</text></a><!--MD5=[b4997ac47864f28c2f74865a473b2911]\n",
       "class E2--><a href=\"psysml:634826b2-2fc2-4798-92ed-071cd1dffdd8\" target=\"_top\" title=\"psysml:634826b2-2fc2-4798-92ed-071cd1dffdd8\" xlink:actuate=\"onRequest\" xlink:href=\"psysml:634826b2-2fc2-4798-92ed-071cd1dffdd8\" xlink:show=\"new\" xlink:title=\"psysml:634826b2-2fc2-4798-92ed-071cd1dffdd8\" xlink:type=\"simple\"><rect fill=\"#FFFFFF\" height=\"45.9375\" id=\"E2\" rx=\"10\" ry=\"10\" style=\"stroke: #383838; stroke-width: 1.5;\" width=\"42\" x=\"32\" y=\"41\"/><text fill=\"#000000\" font-family=\"sans-serif\" font-size=\"12\" font-style=\"italic\" lengthAdjust=\"spacingAndGlyphs\" textLength=\"40\" x=\"33\" y=\"57.1387\">«part»</text><text fill=\"#000000\" font-family=\"sans-serif\" font-size=\"12\" lengthAdjust=\"spacingAndGlyphs\" textLength=\"20\" x=\"43\" y=\"71.1074\">f: A</text><line style=\"stroke: #383838; stroke-width: 1.5;\" x1=\"33\" x2=\"73\" y1=\"78.9375\" y2=\"78.9375\"/></a><!--MD5=[09b614a08d8cba4a07c9adeb5e0fee81]\n",
       "class E3--><a href=\"psysml:36aba5eb-a810-4976-a211-fcdfb7b330f5\" target=\"_top\" title=\"psysml:36aba5eb-a810-4976-a211-fcdfb7b330f5\" xlink:actuate=\"onRequest\" xlink:href=\"psysml:36aba5eb-a810-4976-a211-fcdfb7b330f5\" xlink:show=\"new\" xlink:title=\"psysml:36aba5eb-a810-4976-a211-fcdfb7b330f5\" xlink:type=\"simple\"><rect fill=\"#FFFFFF\" height=\"75.5469\" id=\"E3\" style=\"stroke: #383838; stroke-width: 1.5;\" width=\"66\" x=\"37\" y=\"164\"/><text fill=\"#000000\" font-family=\"sans-serif\" font-size=\"12\" font-style=\"italic\" lengthAdjust=\"spacingAndGlyphs\" textLength=\"64\" x=\"38\" y=\"180.1387\">«part def»</text><text fill=\"#000000\" font-family=\"sans-serif\" font-size=\"12\" lengthAdjust=\"spacingAndGlyphs\" textLength=\"8\" x=\"66\" y=\"194.1074\">A</text><line style=\"stroke: #383838; stroke-width: 1.5;\" x1=\"38\" x2=\"102\" y1=\"201.9375\" y2=\"201.9375\"/><text fill=\"#000000\" font-family=\"sans-serif\" font-size=\"11\" lengthAdjust=\"spacingAndGlyphs\" textLength=\"22\" x=\"43\" y=\"232.9526\">c: C</text><line style=\"stroke: #383838; stroke-width: 1.0;\" x1=\"38\" x2=\"55\" y1=\"216.3398\" y2=\"216.3398\"/><text fill=\"#000000\" font-family=\"sans-serif\" font-size=\"11\" lengthAdjust=\"spacingAndGlyphs\" textLength=\"30\" x=\"55\" y=\"219.6479\">ports</text><line style=\"stroke: #383838; stroke-width: 1.0;\" x1=\"85\" x2=\"102\" y1=\"216.3398\" y2=\"216.3398\"/></a><!--MD5=[ebbe1d658d1005bcc118a6aa81145e00]\n",
       "class E4--><a href=\"psysml:b5150c44-d935-4f31-a69b-527c90fd7c47\" target=\"_top\" title=\"psysml:b5150c44-d935-4f31-a69b-527c90fd7c47\" xlink:actuate=\"onRequest\" xlink:href=\"psysml:b5150c44-d935-4f31-a69b-527c90fd7c47\" xlink:show=\"new\" xlink:title=\"psysml:b5150c44-d935-4f31-a69b-527c90fd7c47\" xlink:type=\"simple\"><rect fill=\"#FFFFFF\" height=\"45.9375\" id=\"E4\" rx=\"10\" ry=\"10\" style=\"stroke: #383838; stroke-width: 1.5;\" width=\"42\" x=\"69\" y=\"317\"/><text fill=\"#000000\" font-family=\"sans-serif\" font-size=\"12\" font-style=\"italic\" lengthAdjust=\"spacingAndGlyphs\" textLength=\"40\" x=\"70\" y=\"333.1387\">«part»</text><text fill=\"#000000\" font-family=\"sans-serif\" font-size=\"12\" lengthAdjust=\"spacingAndGlyphs\" textLength=\"24\" x=\"78\" y=\"347.1074\">b: B</text><line style=\"stroke: #383838; stroke-width: 1.5;\" x1=\"70\" x2=\"110\" y1=\"354.9375\" y2=\"354.9375\"/></a><!--MD5=[60a26617385b1d2d0262a64233df1f8d]\n",
       "class E6--><a href=\"psysml:94fb1c4b-8096-4b0e-a0c8-00d5fe55de6c\" target=\"_top\" title=\"psysml:94fb1c4b-8096-4b0e-a0c8-00d5fe55de6c\" xlink:actuate=\"onRequest\" xlink:href=\"psysml:94fb1c4b-8096-4b0e-a0c8-00d5fe55de6c\" xlink:show=\"new\" xlink:title=\"psysml:94fb1c4b-8096-4b0e-a0c8-00d5fe55de6c\" xlink:type=\"simple\"><rect fill=\"#FFFFFF\" height=\"75.5469\" id=\"E6\" style=\"stroke: #383838; stroke-width: 1.5;\" width=\"66\" x=\"114\" y=\"424\"/><text fill=\"#000000\" font-family=\"sans-serif\" font-size=\"12\" font-style=\"italic\" lengthAdjust=\"spacingAndGlyphs\" textLength=\"64\" x=\"115\" y=\"440.1387\">«part def»</text><text fill=\"#000000\" font-family=\"sans-serif\" font-size=\"12\" lengthAdjust=\"spacingAndGlyphs\" textLength=\"8\" x=\"143\" y=\"454.1074\">B</text><line style=\"stroke: #383838; stroke-width: 1.5;\" x1=\"115\" x2=\"179\" y1=\"461.9375\" y2=\"461.9375\"/><text fill=\"#000000\" font-family=\"sans-serif\" font-size=\"11\" lengthAdjust=\"spacingAndGlyphs\" textLength=\"31\" x=\"120\" y=\"492.9526\">x: ~C</text><line style=\"stroke: #383838; stroke-width: 1.0;\" x1=\"115\" x2=\"132\" y1=\"476.3398\" y2=\"476.3398\"/><text fill=\"#000000\" font-family=\"sans-serif\" font-size=\"11\" lengthAdjust=\"spacingAndGlyphs\" textLength=\"30\" x=\"132\" y=\"479.6479\">ports</text><line style=\"stroke: #383838; stroke-width: 1.0;\" x1=\"162\" x2=\"179\" y1=\"476.3398\" y2=\"476.3398\"/></a><!--MD5=[2156ba9850f5573cc1fc38a6a4b2f02b]\n",
       "class E7--><a href=\"psysml:de084c60-8c86-4761-a316-7296396fb321\" target=\"_top\" title=\"psysml:de084c60-8c86-4761-a316-7296396fb321\" xlink:actuate=\"onRequest\" xlink:href=\"psysml:de084c60-8c86-4761-a316-7296396fb321\" xlink:show=\"new\" xlink:title=\"psysml:de084c60-8c86-4761-a316-7296396fb321\" xlink:type=\"simple\"><rect fill=\"#FFFFFF\" height=\"45.9375\" id=\"E7\" rx=\"10\" ry=\"10\" style=\"stroke: #383838; stroke-width: 1.5;\" width=\"42\" x=\"44\" y=\"564.5\"/><text fill=\"#000000\" font-family=\"sans-serif\" font-size=\"12\" font-style=\"italic\" lengthAdjust=\"spacingAndGlyphs\" textLength=\"40\" x=\"45\" y=\"580.6387\">«part»</text><text fill=\"#000000\" font-family=\"sans-serif\" font-size=\"12\" lengthAdjust=\"spacingAndGlyphs\" textLength=\"24\" x=\"53\" y=\"594.6074\">a: A</text><line style=\"stroke: #383838; stroke-width: 1.5;\" x1=\"45\" x2=\"85\" y1=\"602.4375\" y2=\"602.4375\"/></a><!--MD5=[96f4274e9e20536e775497830990834d]\n",
       "class E10--><a href=\"psysml:4c8e1ce2-7f9a-4661-9090-c510b6f01354\" target=\"_top\" title=\"psysml:4c8e1ce2-7f9a-4661-9090-c510b6f01354\" xlink:actuate=\"onRequest\" xlink:href=\"psysml:4c8e1ce2-7f9a-4661-9090-c510b6f01354\" xlink:show=\"new\" xlink:title=\"psysml:4c8e1ce2-7f9a-4661-9090-c510b6f01354\" xlink:type=\"simple\"><rect fill=\"#FFFFFF\" height=\"45.9375\" id=\"E10\" style=\"stroke: #383838; stroke-width: 1.5;\" width=\"66\" x=\"146\" y=\"41\"/><text fill=\"#000000\" font-family=\"sans-serif\" font-size=\"12\" font-style=\"italic\" lengthAdjust=\"spacingAndGlyphs\" textLength=\"64\" x=\"147\" y=\"57.1387\">«port def»</text><text fill=\"#000000\" font-family=\"sans-serif\" font-size=\"12\" lengthAdjust=\"spacingAndGlyphs\" textLength=\"8\" x=\"175\" y=\"71.1074\">C</text><line style=\"stroke: #383838; stroke-width: 1.5;\" x1=\"147\" x2=\"211\" y1=\"78.9375\" y2=\"78.9375\"/></a><a href=\"psysml:4c76b494-1a6c-482d-b35c-aa72d24bc41e\" target=\"_top\" title=\"psysml:4c76b494-1a6c-482d-b35c-aa72d24bc41e\" xlink:actuate=\"onRequest\" xlink:href=\"psysml:4c76b494-1a6c-482d-b35c-aa72d24bc41e\" xlink:show=\"new\" xlink:title=\"psysml:4c76b494-1a6c-482d-b35c-aa72d24bc41e\" xlink:type=\"simple\"><polygon fill=\"#FFFFFF\" points=\"132,561,148,561,155,583.2969,162,583.2969,162,613.5938,132,613.5938,132,561\" style=\"stroke: #000000; stroke-width: 1.5;\"/><line style=\"stroke: #000000; stroke-width: 1.5;\" x1=\"132\" x2=\"155\" y1=\"583.2969\" y2=\"583.2969\"/><text fill=\"#000000\" font-family=\"sans-serif\" font-size=\"14\" font-weight=\"bold\" lengthAdjust=\"spacingAndGlyphs\" textLength=\"10\" x=\"136\" y=\"575.9951\">P</text></a><!--MD5=[2720a5a1f2c3fca2055b230370638851]\n",
       "link E2 to E3--><a href=\"psysml:38cdc859-4dfa-4bc4-87cd-169dd5acc896\" target=\"_top\" title=\"psysml:38cdc859-4dfa-4bc4-87cd-169dd5acc896\" xlink:actuate=\"onRequest\" xlink:href=\"psysml:38cdc859-4dfa-4bc4-87cd-169dd5acc896\" xlink:show=\"new\" xlink:title=\"psysml:38cdc859-4dfa-4bc4-87cd-169dd5acc896\" xlink:type=\"simple\"><path d=\"M55.5,87.1 C55.5,87.1 55.5,143.96 55.5,143.96 \" fill=\"none\" id=\"E2-&gt;E3\" style=\"stroke: #383838; stroke-width: 1.0;\"/><polygon fill=\"#FFFFFF\" points=\"55.5,163.96,48.5,144.96,62.5,144.96,55.5,163.96\" style=\"stroke: #383838; stroke-width: 1.0;\"/><ellipse cx=\"50.5\" cy=\"139.26\" fill=\"#383838\" rx=\"2\" ry=\"2\" style=\"stroke: #383838; stroke-width: 1.0;\"/><ellipse cx=\"60.5\" cy=\"139.26\" fill=\"#383838\" rx=\"2\" ry=\"2\" style=\"stroke: #383838; stroke-width: 1.0;\"/></a><!--MD5=[4672eba38e49728da53d11aeb285b987]\n",
       "reverse link E3 to E4--><a href=\"psysml:5ebdadf2-6044-45bc-aa24-2da7c79aba16\" target=\"_top\" title=\"psysml:5ebdadf2-6044-45bc-aa24-2da7c79aba16\" xlink:actuate=\"onRequest\" xlink:href=\"psysml:5ebdadf2-6044-45bc-aa24-2da7c79aba16\" xlink:show=\"new\" xlink:title=\"psysml:5ebdadf2-6044-45bc-aa24-2da7c79aba16\" xlink:type=\"simple\"><path d=\"M86,253.07 C86,253.07 86,316.75 86,316.75 \" fill=\"none\" id=\"E3&lt;-E4\" style=\"stroke: #383838; stroke-width: 1.0;\"/><polygon fill=\"#383838\" points=\"86,240.07,82,246.07,86,252.07,90,246.07,86,240.07\" style=\"stroke: #383838; stroke-width: 1.0;\"/></a><!--MD5=[79568f1e445c3877b6a54524624ccc7d]\n",
       "link E4 to E6--><a href=\"psysml:1fd8d685-c326-41aa-b421-a8308f20148e\" target=\"_top\" title=\"psysml:1fd8d685-c326-41aa-b421-a8308f20148e\" xlink:actuate=\"onRequest\" xlink:href=\"psysml:1fd8d685-c326-41aa-b421-a8308f20148e\" xlink:show=\"new\" xlink:title=\"psysml:1fd8d685-c326-41aa-b421-a8308f20148e\" xlink:type=\"simple\"><path d=\"M111.41,340 C120.92,340 130,340 130,340 C130,340 130,403.73 130,403.73 \" fill=\"none\" id=\"E4-&gt;E6\" style=\"stroke: #383838; stroke-width: 1.0;\"/><polygon fill=\"#FFFFFF\" points=\"130,423.73,123,404.73,137,404.73,130,423.73\" style=\"stroke: #383838; stroke-width: 1.0;\"/><ellipse cx=\"125\" cy=\"399.03\" fill=\"#383838\" rx=\"2\" ry=\"2\" style=\"stroke: #383838; stroke-width: 1.0;\"/><ellipse cx=\"135\" cy=\"399.03\" fill=\"#383838\" rx=\"2\" ry=\"2\" style=\"stroke: #383838; stroke-width: 1.0;\"/></a><!--MD5=[3f50a3473f1dfb74d3f76443e03635af]\n",
       "reverse link E6 to E7--><a href=\"psysml:c471fe89-f766-40f3-82e0-5e28332f3a67\" target=\"_top\" title=\"psysml:c471fe89-f766-40f3-82e0-5e28332f3a67\" xlink:actuate=\"onRequest\" xlink:href=\"psysml:c471fe89-f766-40f3-82e0-5e28332f3a67\" xlink:show=\"new\" xlink:title=\"psysml:c471fe89-f766-40f3-82e0-5e28332f3a67\" xlink:type=\"simple\"><path d=\"M123,513.15 C123,513.15 123,588 123,588 C123,588 102.82,588 86.27,588 \" fill=\"none\" id=\"E6&lt;-E7\" style=\"stroke: #383838; stroke-width: 1.0;\"/><polygon fill=\"#383838\" points=\"123,500.15,119,506.15,123,512.15,127,506.15,123,500.15\" style=\"stroke: #383838; stroke-width: 1.0;\"/></a><!--MD5=[14ccda38c055a5c0da953d572bc50960]\n",
       "link E7 to E3--><a href=\"psysml:ce24e444-eb42-4eaa-91b0-86c1efe7ffc5\" target=\"_top\" title=\"psysml:ce24e444-eb42-4eaa-91b0-86c1efe7ffc5\" xlink:actuate=\"onRequest\" xlink:href=\"psysml:ce24e444-eb42-4eaa-91b0-86c1efe7ffc5\" xlink:show=\"new\" xlink:title=\"psysml:ce24e444-eb42-4eaa-91b0-86c1efe7ffc5\" xlink:type=\"simple\"><path d=\"M56.5,564.25 C56.5,564.25 56.5,260.03 56.5,260.03 \" fill=\"none\" id=\"E7-&gt;E3\" style=\"stroke: #383838; stroke-width: 1.0;\"/><polygon fill=\"#FFFFFF\" points=\"56.5,240.03,63.5,259.03,49.5,259.03,56.5,240.03\" style=\"stroke: #383838; stroke-width: 1.0;\"/><ellipse cx=\"61.5\" cy=\"264.73\" fill=\"#383838\" rx=\"2\" ry=\"2\" style=\"stroke: #383838; stroke-width: 1.0;\"/><ellipse cx=\"51.5\" cy=\"264.73\" fill=\"#383838\" rx=\"2\" ry=\"2\" style=\"stroke: #383838; stroke-width: 1.0;\"/></a><!--MD5=[e88d06e5a652d73a6b19930eefe025a8]\n",
       "reverse link E6 to E9--><a href=\"psysml:cabff1fd-5442-4a71-976e-341ac2e5dda1\" target=\"_top\" title=\"psysml:cabff1fd-5442-4a71-976e-341ac2e5dda1\" xlink:actuate=\"onRequest\" xlink:href=\"psysml:cabff1fd-5442-4a71-976e-341ac2e5dda1\" xlink:show=\"new\" xlink:title=\"psysml:cabff1fd-5442-4a71-976e-341ac2e5dda1\" xlink:type=\"simple\"><path d=\"M147,515.34 C147,515.34 147,560.92 147,560.92 \" fill=\"none\" id=\"E6&lt;-E9\" style=\"stroke: #383838; stroke-width: 1.0;\"/><ellipse cx=\"147\" cy=\"508.34\" fill=\"#FFFFFF\" rx=\"8\" ry=\"8\" style=\"stroke: #383838; stroke-width: 1.0;\"/><line style=\"stroke: #383838; stroke-width: 1.0;\" x1=\"147\" x2=\"147\" y1=\"516.34\" y2=\"500.34\"/><line style=\"stroke: #383838; stroke-width: 1.0;\" x1=\"139\" x2=\"155\" y1=\"508.34\" y2=\"508.34\"/></a><!--MD5=[8e04057e7b3cbc0dca4fc78ea351e2da]\n",
       "reverse link E10 to E3--><a href=\"psysml:a19db77c-da80-41d6-a5f2-85a22676bfcf\" target=\"_top\" title=\"psysml:a19db77c-da80-41d6-a5f2-85a22676bfcf\" xlink:actuate=\"onRequest\" xlink:href=\"psysml:a19db77c-da80-41d6-a5f2-85a22676bfcf\" xlink:show=\"new\" xlink:title=\"psysml:a19db77c-da80-41d6-a5f2-85a22676bfcf\" xlink:type=\"simple\"><path d=\"M132.91,53 C132.91,53 81.25,53 81.25,53 C81.25,53 81.25,119.48 81.25,163.63 \" fill=\"none\" id=\"E10&lt;-E3\" style=\"stroke: #383838; stroke-width: 1.0;\"/><polygon fill=\"#FFFFFF\" points=\"145.91,53,139.91,49,133.91,53,139.91,57,145.91,53\" style=\"stroke: #383838; stroke-width: 1.0;\"/><text fill=\"#000000\" font-family=\"sans-serif\" font-size=\"13\" lengthAdjust=\"spacingAndGlyphs\" textLength=\"7\" x=\"75\" y=\"130.0669\">y</text></a><!--MD5=[8e04057e7b3cbc0dca4fc78ea351e2da]\n",
       "reverse link E10 to E3--><a href=\"psysml:a19db77c-da80-41d6-a5f2-85a22676bfcf\" target=\"_top\" title=\"psysml:a19db77c-da80-41d6-a5f2-85a22676bfcf\" xlink:actuate=\"onRequest\" xlink:href=\"psysml:a19db77c-da80-41d6-a5f2-85a22676bfcf\" xlink:show=\"new\" xlink:title=\"psysml:a19db77c-da80-41d6-a5f2-85a22676bfcf\" xlink:type=\"simple\"><path d=\"M132.82,64 C132.82,64 88.5,64 88.5,64 C88.5,64 88.5,123.08 88.5,163.93 \" fill=\"none\" id=\"E10&lt;-E3-1\" style=\"stroke: #383838; stroke-width: 1.0;\"/><polygon fill=\"#FFFFFF\" points=\"145.82,64,139.8244,59.9934,133.82,63.9868,139.8156,67.9934,145.82,64\" style=\"stroke: #383838; stroke-width: 1.0;\"/><text fill=\"#000000\" font-family=\"sans-serif\" font-size=\"13\" lengthAdjust=\"spacingAndGlyphs\" textLength=\"7\" x=\"124\" y=\"130.0669\">y</text></a><!--MD5=[8e04057e7b3cbc0dca4fc78ea351e2da]\n",
       "reverse link E10 to E3--><a href=\"psysml:a19db77c-da80-41d6-a5f2-85a22676bfcf\" target=\"_top\" title=\"psysml:a19db77c-da80-41d6-a5f2-85a22676bfcf\" xlink:actuate=\"onRequest\" xlink:href=\"psysml:a19db77c-da80-41d6-a5f2-85a22676bfcf\" xlink:show=\"new\" xlink:title=\"psysml:a19db77c-da80-41d6-a5f2-85a22676bfcf\" xlink:type=\"simple\"><path d=\"M132.62,76 C132.62,76 95.75,76 95.75,76 C95.75,76 95.75,126.77 95.75,163.85 \" fill=\"none\" id=\"E10&lt;-E3-2\" style=\"stroke: #383838; stroke-width: 1.0;\"/><polygon fill=\"#FFFFFF\" points=\"145.62,76,139.62,72,133.62,76,139.62,80,145.62,76\" style=\"stroke: #383838; stroke-width: 1.0;\"/><text fill=\"#000000\" font-family=\"sans-serif\" font-size=\"13\" lengthAdjust=\"spacingAndGlyphs\" textLength=\"7\" x=\"173\" y=\"130.0669\">y</text></a><!--MD5=[604cbf994c02b74b117f728a71673cea]\n",
       "reverse link E10 to E6--><a href=\"psysml:a19db77c-da80-41d6-a5f2-85a22676bfcf\" target=\"_top\" title=\"psysml:a19db77c-da80-41d6-a5f2-85a22676bfcf\" xlink:actuate=\"onRequest\" xlink:href=\"psysml:a19db77c-da80-41d6-a5f2-85a22676bfcf\" xlink:show=\"new\" xlink:title=\"psysml:a19db77c-da80-41d6-a5f2-85a22676bfcf\" xlink:type=\"simple\"><path d=\"M154.5,100.12 C154.5,100.12 154.5,423.73 154.5,423.73 \" fill=\"none\" id=\"E10&lt;-E6\" style=\"stroke: #383838; stroke-width: 1.0;\"/><polygon fill=\"#FFFFFF\" points=\"154.5,87.12,150.5,93.12,154.5,99.12,158.5,93.12,154.5,87.12\" style=\"stroke: #383838; stroke-width: 1.0;\"/><text fill=\"#000000\" font-family=\"sans-serif\" font-size=\"13\" lengthAdjust=\"spacingAndGlyphs\" textLength=\"7\" x=\"214\" y=\"283.0669\">y</text></a><!--MD5=[604cbf994c02b74b117f728a71673cea]\n",
       "reverse link E10 to E6--><a href=\"psysml:a19db77c-da80-41d6-a5f2-85a22676bfcf\" target=\"_top\" title=\"psysml:a19db77c-da80-41d6-a5f2-85a22676bfcf\" xlink:actuate=\"onRequest\" xlink:href=\"psysml:a19db77c-da80-41d6-a5f2-85a22676bfcf\" xlink:show=\"new\" xlink:title=\"psysml:a19db77c-da80-41d6-a5f2-85a22676bfcf\" xlink:type=\"simple\"><path d=\"M163,100.12 C163,100.12 163,423.73 163,423.73 \" fill=\"none\" id=\"E10&lt;-E6-1\" style=\"stroke: #383838; stroke-width: 1.0;\"/><polygon fill=\"#FFFFFF\" points=\"163,87.12,159,93.12,163,99.12,167,93.12,163,87.12\" style=\"stroke: #383838; stroke-width: 1.0;\"/><text fill=\"#000000\" font-family=\"sans-serif\" font-size=\"13\" lengthAdjust=\"spacingAndGlyphs\" textLength=\"7\" x=\"116\" y=\"283.0669\">y</text></a><!--MD5=[604cbf994c02b74b117f728a71673cea]\n",
       "reverse link E10 to E6--><a href=\"psysml:a19db77c-da80-41d6-a5f2-85a22676bfcf\" target=\"_top\" title=\"psysml:a19db77c-da80-41d6-a5f2-85a22676bfcf\" xlink:actuate=\"onRequest\" xlink:href=\"psysml:a19db77c-da80-41d6-a5f2-85a22676bfcf\" xlink:show=\"new\" xlink:title=\"psysml:a19db77c-da80-41d6-a5f2-85a22676bfcf\" xlink:type=\"simple\"><path d=\"M171.5,100.12 C171.5,100.12 171.5,423.73 171.5,423.73 \" fill=\"none\" id=\"E10&lt;-E6-2\" style=\"stroke: #383838; stroke-width: 1.0;\"/><polygon fill=\"#FFFFFF\" points=\"171.5,87.12,167.5,93.12,171.5,99.12,175.5,93.12,171.5,87.12\" style=\"stroke: #383838; stroke-width: 1.0;\"/><text fill=\"#000000\" font-family=\"sans-serif\" font-size=\"13\" lengthAdjust=\"spacingAndGlyphs\" textLength=\"7\" x=\"165\" y=\"283.0669\">y</text></a><!--MD5=[b85501777bc64223328466ab8fb42f6a]\n",
       "@startuml\r\n",
       "skinparam linetype ortho\r\n",
       "skinparam monochrome true\r\n",
       "skinparam classbackgroundcolor white\r\n",
       "skinparam shadowing false\r\n",
       "skinparam wrapWidth 300\r\n",
       "hide circle\r\n",
       "\r\n",
       "package \"PartTest\" as E1  [[psysml:c65cc0cd-28b1-4d7a-bc05-02136890ed9a ]]  {\r\n",
       "comp usage \"f: A\" as E2  <<(T,blue)part>> [[psysml:634826b2-2fc2-4798-92ed-071cd1dffdd8 ]] {\r\n",
       "}\r\n",
       "comp def \"A\" as E3  <<(T,blue)part def>> [[psysml:36aba5eb-a810-4976-a211-fcdfb7b330f5 ]] {\r\n",
       "- - ports - -\r\n",
       "c: C\r\n",
       "}\r\n",
       "comp usage \"b: B\" as E4  <<(T,blue)part>> [[psysml:b5150c44-d935-4f31-a69b-527c90fd7c47 ]] {\r\n",
       "}\r\n",
       "comp def \"B\" as E6  <<(T,blue)part def>> [[psysml:94fb1c4b-8096-4b0e-a0c8-00d5fe55de6c ]] {\r\n",
       "- - ports - -\r\n",
       "x: ~C\r\n",
       "}\r\n",
       "comp usage \"a: A\" as E7  <<(T,blue)part>> [[psysml:de084c60-8c86-4761-a316-7296396fb321 ]] {\r\n",
       "}\r\n",
       "package \"P\" as E9  [[psysml:4c76b494-1a6c-482d-b35c-aa72d24bc41e ]]  {\r\n",
       "}\r\n",
       "comp def \"C\" as E10  <<(T,blue)port def>> [[psysml:4c8e1ce2-7f9a-4661-9090-c510b6f01354 ]] {\r\n",
       "}\r\n",
       "E2 - -:|> E3 [[psysml:38cdc859-4dfa-4bc4-87cd-169dd5acc896 ]] \r\n",
       "E3 *- - E4 [[psysml:5ebdadf2-6044-45bc-aa24-2da7c79aba16 ]] \r\n",
       "E4 - -:|> E6 [[psysml:1fd8d685-c326-41aa-b421-a8308f20148e ]] \r\n",
       "E6 *- - E7 [[psysml:c471fe89-f766-40f3-82e0-5e28332f3a67 ]] \r\n",
       "E7 - -:|> E3 [[psysml:ce24e444-eb42-4eaa-91b0-86c1efe7ffc5 ]] \r\n",
       "E6 +- - E9 [[psysml:cabff1fd-5442-4a71-976e-341ac2e5dda1 ]] \r\n",
       "E10 o- - E3 [[psysml:a19db77c-da80-41d6-a5f2-85a22676bfcf ]] : y\r\n",
       "E10 o- - E6 [[psysml:a19db77c-da80-41d6-a5f2-85a22676bfcf ]] : y\r\n",
       "E10 o- - E3 [[psysml:a19db77c-da80-41d6-a5f2-85a22676bfcf ]] : y\r\n",
       "E10 o- - E6 [[psysml:a19db77c-da80-41d6-a5f2-85a22676bfcf ]] : y\r\n",
       "E10 o- - E3 [[psysml:a19db77c-da80-41d6-a5f2-85a22676bfcf ]] : y\r\n",
       "E10 o- - E6 [[psysml:a19db77c-da80-41d6-a5f2-85a22676bfcf ]] : y\r\n",
       "}\r\n",
       "@enduml\r\n",
       "\n",
       "PlantUML version 1.2020.13(Sat Jun 13 12:26:38 UTC 2020)\n",
       "(EPL source distribution)\n",
       "Java Runtime: OpenJDK Runtime Environment\n",
       "JVM: OpenJDK 64-Bit Server VM\n",
       "Default Encoding: UTF-8\n",
       "Language: en\n",
       "Country: null\n",
       "--></g></svg>"
      ]
     },
     "execution_count": 57,
     "metadata": {},
     "output_type": "execute_result"
    }
   ],
   "source": [
    "%viz --style=\"ORTHOLINE\" --view=\"MIXED\" \"PartTest\""
   ]
  }
 ],
 "metadata": {
  "kernelspec": {
   "display_name": "SysML",
   "language": "sysml",
   "name": "sysml"
  },
  "language_info": {
   "codemirror_mode": "sysml",
   "file_extension": ".sysml",
   "mimetype": "text/x-sysml",
   "name": "SysML",
   "pygments_lexer": "java",
   "version": "1.0.0"
  }
 },
 "nbformat": 4,
 "nbformat_minor": 5
}
