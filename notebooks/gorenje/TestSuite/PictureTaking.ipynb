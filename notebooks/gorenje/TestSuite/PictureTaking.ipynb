{
 "cells": [
  {
   "cell_type": "markdown",
   "id": "7708501a",
   "metadata": {},
   "source": [
    "# SysML v2 Test Suite\n",
    "\n",
    "This can notebook can be cleared using menu `Edit --> Clear All Outputs` and then all cells can be\n",
    "run using menu `Run --> Run All Cells`.\n",
    "\n",
    "**WARNING**: This file is generated, all modifications here will be ignored.\n"
   ]
  },
  {
   "cell_type": "markdown",
   "id": "e7212aef",
   "metadata": {},
   "source": [
    "## File: ../../sysml/src/examples/Camera Example/PictureTaking.sysml"
   ]
  },
  {
   "cell_type": "code",
   "execution_count": 1,
   "id": "f331cd45",
   "metadata": {
    "execution": {
     "iopub.execute_input": "2021-04-20T07:31:58.053539Z",
     "iopub.status.busy": "2021-04-20T07:31:58.052608Z",
     "iopub.status.idle": "2021-04-20T07:31:58.718407Z",
     "shell.execute_reply": "2021-04-20T07:31:58.717603Z"
    }
   },
   "outputs": [
    {
     "data": {
      "text/plain": [
       "Package PictureTaking (aa0be55f-266f-4299-adda-d8f0191bca63)\n"
      ]
     },
     "execution_count": 1,
     "metadata": {},
     "output_type": "execute_result"
    }
   ],
   "source": [
    "package PictureTaking {\n",
    "\tpart def Exposure;\n",
    "\t\n",
    "\taction def Focus(out xrsl: Exposure);\n",
    "\taction def Shoot(in xsf: Exposure);\t\n",
    "\t\t\n",
    "\taction takePicture() {\t\t\n",
    "\t\taction focus: Focus[1] (out xrsl);\t\n",
    "\t\taction shoot: Shoot[1] (in xsf flow from focus::xrsl);\n",
    "\t}\n",
    "}"
   ]
  },
  {
   "cell_type": "code",
   "execution_count": 2,
   "id": "60ed1e75",
   "metadata": {
    "execution": {
     "iopub.execute_input": "2021-04-20T07:31:58.771479Z",
     "iopub.status.busy": "2021-04-20T07:31:58.770585Z",
     "iopub.status.idle": "2021-04-20T07:31:59.695536Z",
     "shell.execute_reply": "2021-04-20T07:31:59.695064Z"
    }
   },
   "outputs": [
    {
     "data": {
      "image/svg+xml": [
       "<?xml version=\"1.0\" encoding=\"UTF-8\" standalone=\"no\"?><svg xmlns=\"http://www.w3.org/2000/svg\" xmlns:xlink=\"http://www.w3.org/1999/xlink\" contentScriptType=\"application/ecmascript\" contentStyleType=\"text/css\" height=\"455px\" preserveAspectRatio=\"none\" style=\"width:700px;height:455px;\" version=\"1.1\" viewBox=\"0 0 700 455\" width=\"700px\" zoomAndPan=\"magnify\"><defs/><g><!--MD5=[fbc87193dbaf4d95561dea2c320d4a47]\n",
       "cluster E1--><a href=\"psysml:14e6fe4c-a4d9-4c34-a316-9cbabb101fb1\" target=\"_top\" title=\"psysml:14e6fe4c-a4d9-4c34-a316-9cbabb101fb1\" xlink:actuate=\"onRequest\" xlink:href=\"psysml:14e6fe4c-a4d9-4c34-a316-9cbabb101fb1\" xlink:show=\"new\" xlink:title=\"psysml:14e6fe4c-a4d9-4c34-a316-9cbabb101fb1\" xlink:type=\"simple\"><polygon fill=\"#FFFFFF\" points=\"16,6,130,6,137,28.2969,678,28.2969,678,443.5,16,443.5,16,6\" style=\"stroke: #000000; stroke-width: 1.5;\"/><line style=\"stroke: #000000; stroke-width: 1.5;\" x1=\"16\" x2=\"137\" y1=\"28.2969\" y2=\"28.2969\"/><text fill=\"#000000\" font-family=\"sans-serif\" font-size=\"14\" font-weight=\"bold\" lengthAdjust=\"spacingAndGlyphs\" textLength=\"108\" x=\"20\" y=\"20.9951\">PictureTaking</text></a><!--MD5=[d5e69f78d87373223dbae638b30a9c99]\n",
       "cluster E3--><a href=\"psysml:44676d48-2ba6-47f9-b761-758fcbe31dbd\" target=\"_top\" title=\"psysml:44676d48-2ba6-47f9-b761-758fcbe31dbd\" xlink:actuate=\"onRequest\" xlink:href=\"psysml:44676d48-2ba6-47f9-b761-758fcbe31dbd\" xlink:show=\"new\" xlink:title=\"psysml:44676d48-2ba6-47f9-b761-758fcbe31dbd\" xlink:type=\"simple\"><rect fill=\"#FFFFFF\" height=\"217.5\" id=\"E3\" style=\"stroke: #383838; stroke-width: 1.5;\" width=\"134\" x=\"528\" y=\"100\"/><rect fill=\"#F8F8F8\" height=\"37.9375\" style=\"stroke: #383838; stroke-width: 1.5;\" width=\"134\" x=\"528\" y=\"100\"/><text fill=\"#000000\" font-family=\"sans-serif\" font-size=\"12\" font-style=\"italic\" lengthAdjust=\"spacingAndGlyphs\" textLength=\"77\" x=\"556.5\" y=\"116.1387\">«action def»</text><text fill=\"#000000\" font-family=\"sans-serif\" font-size=\"12\" lengthAdjust=\"spacingAndGlyphs\" textLength=\"37\" x=\"576.5\" y=\"130.1074\">Focus</text></a><!--MD5=[de5ec2e2e8f62f467e546659f5068c88]\n",
       "cluster E5--><a href=\"psysml:d9adf687-8d42-42d3-b1b5-8b6413ee0fad\" target=\"_top\" title=\"psysml:d9adf687-8d42-42d3-b1b5-8b6413ee0fad\" xlink:actuate=\"onRequest\" xlink:href=\"psysml:d9adf687-8d42-42d3-b1b5-8b6413ee0fad\" xlink:show=\"new\" xlink:title=\"psysml:d9adf687-8d42-42d3-b1b5-8b6413ee0fad\" xlink:type=\"simple\"><rect fill=\"#FFFFFF\" height=\"134\" id=\"E5\" style=\"stroke: #383838; stroke-width: 1.5;\" width=\"134\" x=\"386\" y=\"133.5\"/><rect fill=\"#F8F8F8\" height=\"37.9375\" style=\"stroke: #383838; stroke-width: 1.5;\" width=\"134\" x=\"386\" y=\"133.5\"/><text fill=\"#000000\" font-family=\"sans-serif\" font-size=\"12\" font-style=\"italic\" lengthAdjust=\"spacingAndGlyphs\" textLength=\"77\" x=\"414.5\" y=\"149.6387\">«action def»</text><text fill=\"#000000\" font-family=\"sans-serif\" font-size=\"12\" lengthAdjust=\"spacingAndGlyphs\" textLength=\"37\" x=\"434.5\" y=\"163.6074\">Shoot</text></a><!--MD5=[168fadf3d0c3fd93dd5d6da1b1d7ab76]\n",
       "cluster E7--><a href=\"psysml:704c53cf-e737-43c7-aaa6-afd6aa41e73e\" target=\"_top\" title=\"psysml:704c53cf-e737-43c7-aaa6-afd6aa41e73e\" xlink:actuate=\"onRequest\" xlink:href=\"psysml:704c53cf-e737-43c7-aaa6-afd6aa41e73e\" xlink:show=\"new\" xlink:title=\"psysml:704c53cf-e737-43c7-aaa6-afd6aa41e73e\" xlink:type=\"simple\"><rect fill=\"#FFFFFF\" height=\"370.5\" id=\"E7\" rx=\"10\" ry=\"10\" style=\"stroke: #383838; stroke-width: 1.5;\" width=\"256\" x=\"114\" y=\"49\"/><rect fill=\"#F8F8F8\" height=\"37.9375\" rx=\"10\" ry=\"10\" style=\"stroke: #F8F8F8; stroke-width: 1.5;\" width=\"256\" x=\"114\" y=\"49\"/><rect fill=\"#F8F8F8\" height=\"10\" style=\"stroke: #F8F8F8; stroke-width: 1.5;\" width=\"256\" x=\"114\" y=\"76.9375\"/><rect fill=\"none\" height=\"370.5\" id=\"E7\" rx=\"10\" ry=\"10\" style=\"stroke: #383838; stroke-width: 1.5;\" width=\"256\" x=\"114\" y=\"49\"/><text fill=\"#000000\" font-family=\"sans-serif\" font-size=\"12\" font-style=\"italic\" lengthAdjust=\"spacingAndGlyphs\" textLength=\"53\" x=\"215.5\" y=\"65.1387\">«action»</text><text fill=\"#000000\" font-family=\"sans-serif\" font-size=\"12\" lengthAdjust=\"spacingAndGlyphs\" textLength=\"72\" x=\"206\" y=\"79.1074\">takePicture</text><line style=\"stroke: #383838; stroke-width: 1.0;\" x1=\"114\" x2=\"370\" y1=\"86.9375\" y2=\"86.9375\"/></a><!--MD5=[55dfccfc6c49c2d10cd1bd2211a6c90c]\n",
       "cluster E8--><a href=\"psysml:247459c4-dc1c-41f3-9bbd-2210d0a14144\" target=\"_top\" title=\"psysml:247459c4-dc1c-41f3-9bbd-2210d0a14144\" xlink:actuate=\"onRequest\" xlink:href=\"psysml:247459c4-dc1c-41f3-9bbd-2210d0a14144\" xlink:show=\"new\" xlink:title=\"psysml:247459c4-dc1c-41f3-9bbd-2210d0a14144\" xlink:type=\"simple\"><rect fill=\"#FFFFFF\" height=\"217.5\" id=\"E8\" rx=\"10\" ry=\"10\" style=\"stroke: #383838; stroke-width: 1.5;\" width=\"83\" x=\"257\" y=\"100\"/><rect fill=\"#F8F8F8\" height=\"37.9375\" rx=\"10\" ry=\"10\" style=\"stroke: #F8F8F8; stroke-width: 1.5;\" width=\"83\" x=\"257\" y=\"100\"/><rect fill=\"#F8F8F8\" height=\"10\" style=\"stroke: #F8F8F8; stroke-width: 1.5;\" width=\"83\" x=\"257\" y=\"127.9375\"/><rect fill=\"none\" height=\"217.5\" id=\"E8\" rx=\"10\" ry=\"10\" style=\"stroke: #383838; stroke-width: 1.5;\" width=\"83\" x=\"257\" y=\"100\"/><text fill=\"#000000\" font-family=\"sans-serif\" font-size=\"12\" font-style=\"italic\" lengthAdjust=\"spacingAndGlyphs\" textLength=\"53\" x=\"272\" y=\"116.1387\">«action»</text><text fill=\"#000000\" font-family=\"sans-serif\" font-size=\"12\" lengthAdjust=\"spacingAndGlyphs\" textLength=\"34\" x=\"281.5\" y=\"130.1074\">focus</text><line style=\"stroke: #383838; stroke-width: 1.0;\" x1=\"257\" x2=\"340\" y1=\"137.9375\" y2=\"137.9375\"/></a><!--MD5=[917b9dd0c7eca3ee5f47219d1a84c0ad]\n",
       "cluster E11--><a href=\"psysml:d7e0c4ce-9a2d-4e4d-8f17-58d415aecc73\" target=\"_top\" title=\"psysml:d7e0c4ce-9a2d-4e4d-8f17-58d415aecc73\" xlink:actuate=\"onRequest\" xlink:href=\"psysml:d7e0c4ce-9a2d-4e4d-8f17-58d415aecc73\" xlink:show=\"new\" xlink:title=\"psysml:d7e0c4ce-9a2d-4e4d-8f17-58d415aecc73\" xlink:type=\"simple\"><rect fill=\"#FFFFFF\" height=\"256\" id=\"E11\" rx=\"10\" ry=\"10\" style=\"stroke: #383838; stroke-width: 1.5;\" width=\"74\" x=\"164\" y=\"133.5\"/><rect fill=\"#F8F8F8\" height=\"37.9375\" rx=\"10\" ry=\"10\" style=\"stroke: #F8F8F8; stroke-width: 1.5;\" width=\"74\" x=\"164\" y=\"133.5\"/><rect fill=\"#F8F8F8\" height=\"10\" style=\"stroke: #F8F8F8; stroke-width: 1.5;\" width=\"74\" x=\"164\" y=\"161.4375\"/><rect fill=\"none\" height=\"256\" id=\"E11\" rx=\"10\" ry=\"10\" style=\"stroke: #383838; stroke-width: 1.5;\" width=\"74\" x=\"164\" y=\"133.5\"/><text fill=\"#000000\" font-family=\"sans-serif\" font-size=\"12\" font-style=\"italic\" lengthAdjust=\"spacingAndGlyphs\" textLength=\"53\" x=\"174.5\" y=\"149.6387\">«action»</text><text fill=\"#000000\" font-family=\"sans-serif\" font-size=\"12\" lengthAdjust=\"spacingAndGlyphs\" textLength=\"36\" x=\"183\" y=\"163.6074\">shoot</text><line style=\"stroke: #383838; stroke-width: 1.0;\" x1=\"164\" x2=\"238\" y1=\"171.4375\" y2=\"171.4375\"/></a><!--MD5=[b4997ac47864f28c2f74865a473b2911]\n",
       "class E2--><a href=\"psysml:9a8bab7b-7078-4a6b-add3-8a1328b0c2d6\" target=\"_top\" title=\"psysml:9a8bab7b-7078-4a6b-add3-8a1328b0c2d6\" xlink:actuate=\"onRequest\" xlink:href=\"psysml:9a8bab7b-7078-4a6b-add3-8a1328b0c2d6\" xlink:show=\"new\" xlink:title=\"psysml:9a8bab7b-7078-4a6b-add3-8a1328b0c2d6\" xlink:type=\"simple\"><rect fill=\"#FFFFFF\" height=\"45.9375\" id=\"E2\" style=\"stroke: #383838; stroke-width: 1.5;\" width=\"66\" x=\"32\" y=\"110.5\"/><text fill=\"#000000\" font-family=\"sans-serif\" font-size=\"12\" font-style=\"italic\" lengthAdjust=\"spacingAndGlyphs\" textLength=\"64\" x=\"33\" y=\"126.6387\">«part def»</text><text fill=\"#000000\" font-family=\"sans-serif\" font-size=\"12\" lengthAdjust=\"spacingAndGlyphs\" textLength=\"58\" x=\"36\" y=\"140.6074\">Exposure</text><line style=\"stroke: #383838; stroke-width: 1.5;\" x1=\"33\" x2=\"97\" y1=\"148.4375\" y2=\"148.4375\"/></a><text fill=\"#000000\" font-family=\"sans-serif\" font-size=\"14\" lengthAdjust=\"spacingAndGlyphs\" textLength=\"23\" x=\"583.5\" y=\"336.4951\">xrsl</text><rect fill=\"#383838\" height=\"12\" style=\"stroke: #F8F8F8; stroke-width: 1.5;\" width=\"12\" x=\"589\" y=\"311.5\"/><text fill=\"#000000\" font-family=\"sans-serif\" font-size=\"14\" lengthAdjust=\"spacingAndGlyphs\" textLength=\"19\" x=\"443.5\" y=\"112.1982\">xsf</text><rect fill=\"#383838\" height=\"12\" style=\"stroke: #F8F8F8; stroke-width: 1.5;\" width=\"12\" x=\"447\" y=\"127.5\"/><text fill=\"#000000\" font-family=\"sans-serif\" font-size=\"14\" lengthAdjust=\"spacingAndGlyphs\" textLength=\"48\" x=\"251\" y=\"336.4951\">$result</text><rect fill=\"#383838\" height=\"12\" style=\"stroke: #F8F8F8; stroke-width: 1.5;\" width=\"12\" x=\"269\" y=\"311.5\"/><text fill=\"#000000\" font-family=\"sans-serif\" font-size=\"14\" lengthAdjust=\"spacingAndGlyphs\" textLength=\"23\" x=\"310.5\" y=\"336.4951\">xrsl</text><rect fill=\"#383838\" height=\"12\" style=\"stroke: #F8F8F8; stroke-width: 1.5;\" width=\"12\" x=\"316\" y=\"311.5\"/><text fill=\"#000000\" font-family=\"sans-serif\" font-size=\"14\" lengthAdjust=\"spacingAndGlyphs\" textLength=\"48\" x=\"158\" y=\"408.4951\">$result</text><rect fill=\"#383838\" height=\"12\" style=\"stroke: #F8F8F8; stroke-width: 1.5;\" width=\"12\" x=\"176\" y=\"383.5\"/><text fill=\"#000000\" font-family=\"sans-serif\" font-size=\"14\" lengthAdjust=\"spacingAndGlyphs\" textLength=\"19\" x=\"174.5\" y=\"112.1982\">xsf</text><rect fill=\"#383838\" height=\"12\" style=\"stroke: #F8F8F8; stroke-width: 1.5;\" width=\"12\" x=\"178\" y=\"127.5\"/><!--MD5=[c71046f435d0f5c19e475f80b84ad398]\n",
       "@startuml\r\n",
       " skinparam monochrome true\r\n",
       "skinparam classbackgroundcolor white\r\n",
       "skinparam shadowing false\r\n",
       "skinparam wrapWidth 300\r\n",
       "hide circle\r\n",
       "\r\n",
       "package \"PictureTaking\" as E1  [[psysml:14e6fe4c-a4d9-4c34-a316-9cbabb101fb1 ]]  {\r\n",
       "comp def \"Exposure\" as E2  <<(T,blue)part def>> [[psysml:9a8bab7b-7078-4a6b-add3-8a1328b0c2d6 ]] {\r\n",
       "}\r\n",
       "rec def \"Focus\" as E3  <<(T,blue)action def>> [[psysml:44676d48-2ba6-47f9-b761-758fcbe31dbd ]] {\r\n",
       "portout \"xrsl\" as E4  [[psysml:7285223f-23e3-4ded-a1a3-c8dbe746ff9d ]] \r\n",
       "}\r\n",
       "\r\n",
       "rec def \"Shoot\" as E5  <<(T,blue)action def>> [[psysml:d9adf687-8d42-42d3-b1b5-8b6413ee0fad ]] {\r\n",
       "portin \"xsf\" as E6  [[psysml:3f6601e8-74ad-4acc-b654-2e93fe2ad4c3 ]] \r\n",
       "}\r\n",
       "\r\n",
       "rec usage \"takePicture\" as E7  <<(T,blue)action>> [[psysml:704c53cf-e737-43c7-aaa6-afd6aa41e73e ]] {\r\n",
       "rec usage \"focus\" as E8  <<(T,blue)action>> [[psysml:247459c4-dc1c-41f3-9bbd-2210d0a14144 ]] {\r\n",
       "portout \"$result\" as E9  [[psysml:d24c4944-7685-4e9e-b1e9-aa0857e67b68 ]] \r\n",
       "portout \"xrsl\" as E10  [[psysml:a9b63f0e-a7c1-4470-82ae-da9c74073d16 ]] \r\n",
       "}\r\n",
       "\r\n",
       "rec usage \"shoot\" as E11  <<(T,blue)action>> [[psysml:d7e0c4ce-9a2d-4e4d-8f17-58d415aecc73 ]] {\r\n",
       "portout \"$result\" as E12  [[psysml:edaf4370-9fef-4792-934f-b7a89f5913cc ]] \r\n",
       "portin \"xsf\" as E13  [[psysml:1ee0e316-c080-4a1b-aa8d-122e3ae24dab ]] \r\n",
       "}\r\n",
       "\r\n",
       "}\r\n",
       "\r\n",
       "}\r\n",
       "@enduml\r\n",
       "\n",
       "PlantUML version 1.2020.13(Sat Jun 13 12:26:38 UTC 2020)\n",
       "(EPL source distribution)\n",
       "Java Runtime: OpenJDK Runtime Environment\n",
       "JVM: OpenJDK 64-Bit Server VM\n",
       "Default Encoding: UTF-8\n",
       "Language: en\n",
       "Country: null\n",
       "--></g></svg>"
      ]
     },
     "execution_count": 2,
     "metadata": {},
     "output_type": "execute_result"
    }
   ],
   "source": [
    "%viz --style=\"COMPTREE\" --view=\"Default\" \"PictureTaking\""
   ]
  },
  {
   "cell_type": "code",
   "execution_count": 3,
   "id": "d5010dbc",
   "metadata": {
    "execution": {
     "iopub.execute_input": "2021-04-20T07:31:59.746357Z",
     "iopub.status.busy": "2021-04-20T07:31:59.745454Z",
     "iopub.status.idle": "2021-04-20T07:31:59.878151Z",
     "shell.execute_reply": "2021-04-20T07:31:59.877627Z"
    }
   },
   "outputs": [
    {
     "data": {
      "image/svg+xml": [
       "<?xml version=\"1.0\" encoding=\"UTF-8\" standalone=\"no\"?><svg xmlns=\"http://www.w3.org/2000/svg\" xmlns:xlink=\"http://www.w3.org/1999/xlink\" contentScriptType=\"application/ecmascript\" contentStyleType=\"text/css\" height=\"452px\" preserveAspectRatio=\"none\" style=\"width:278px;height:452px;\" version=\"1.1\" viewBox=\"0 0 278 452\" width=\"278px\" zoomAndPan=\"magnify\"><defs/><g><!--MD5=[fbc87193dbaf4d95561dea2c320d4a47]\n",
       "cluster E1--><a href=\"psysml:14e6fe4c-a4d9-4c34-a316-9cbabb101fb1\" target=\"_top\" title=\"psysml:14e6fe4c-a4d9-4c34-a316-9cbabb101fb1\" xlink:actuate=\"onRequest\" xlink:href=\"psysml:14e6fe4c-a4d9-4c34-a316-9cbabb101fb1\" xlink:show=\"new\" xlink:title=\"psysml:14e6fe4c-a4d9-4c34-a316-9cbabb101fb1\" xlink:type=\"simple\"><polygon fill=\"#FFFFFF\" points=\"16,6,130,6,137,28.2969,256,28.2969,256,440,16,440,16,6\" style=\"stroke: #000000; stroke-width: 1.5;\"/><line style=\"stroke: #000000; stroke-width: 1.5;\" x1=\"16\" x2=\"137\" y1=\"28.2969\" y2=\"28.2969\"/><text fill=\"#000000\" font-family=\"sans-serif\" font-size=\"14\" font-weight=\"bold\" lengthAdjust=\"spacingAndGlyphs\" textLength=\"108\" x=\"20\" y=\"20.9951\">PictureTaking</text></a><!--MD5=[b4997ac47864f28c2f74865a473b2911]\n",
       "class E2--><a href=\"psysml:9a8bab7b-7078-4a6b-add3-8a1328b0c2d6\" target=\"_top\" title=\"psysml:9a8bab7b-7078-4a6b-add3-8a1328b0c2d6\" xlink:actuate=\"onRequest\" xlink:href=\"psysml:9a8bab7b-7078-4a6b-add3-8a1328b0c2d6\" xlink:show=\"new\" xlink:title=\"psysml:9a8bab7b-7078-4a6b-add3-8a1328b0c2d6\" xlink:type=\"simple\"><rect fill=\"#FFFFFF\" height=\"45.9375\" id=\"E2\" style=\"stroke: #383838; stroke-width: 1.5;\" width=\"66\" x=\"103\" y=\"378\"/><text fill=\"#000000\" font-family=\"sans-serif\" font-size=\"12\" font-style=\"italic\" lengthAdjust=\"spacingAndGlyphs\" textLength=\"64\" x=\"104\" y=\"394.1387\">«part def»</text><text fill=\"#000000\" font-family=\"sans-serif\" font-size=\"12\" lengthAdjust=\"spacingAndGlyphs\" textLength=\"58\" x=\"107\" y=\"408.1074\">Exposure</text><line style=\"stroke: #383838; stroke-width: 1.5;\" x1=\"104\" x2=\"168\" y1=\"415.9375\" y2=\"415.9375\"/></a><!--MD5=[09b614a08d8cba4a07c9adeb5e0fee81]\n",
       "class E3--><a href=\"psysml:44676d48-2ba6-47f9-b761-758fcbe31dbd\" target=\"_top\" title=\"psysml:44676d48-2ba6-47f9-b761-758fcbe31dbd\" xlink:actuate=\"onRequest\" xlink:href=\"psysml:44676d48-2ba6-47f9-b761-758fcbe31dbd\" xlink:show=\"new\" xlink:title=\"psysml:44676d48-2ba6-47f9-b761-758fcbe31dbd\" xlink:type=\"simple\"><rect fill=\"#FFFFFF\" height=\"45.9375\" id=\"E3\" style=\"stroke: #383838; stroke-width: 1.5;\" width=\"79\" x=\"38.5\" y=\"255\"/><text fill=\"#000000\" font-family=\"sans-serif\" font-size=\"12\" font-style=\"italic\" lengthAdjust=\"spacingAndGlyphs\" textLength=\"77\" x=\"39.5\" y=\"271.1387\">«action def»</text><text fill=\"#000000\" font-family=\"sans-serif\" font-size=\"12\" lengthAdjust=\"spacingAndGlyphs\" textLength=\"37\" x=\"59.5\" y=\"285.1074\">Focus</text><line style=\"stroke: #383838; stroke-width: 1.5;\" x1=\"39.5\" x2=\"116.5\" y1=\"292.9375\" y2=\"292.9375\"/></a><!--MD5=[ebbe1d658d1005bcc118a6aa81145e00]\n",
       "class E4--><a href=\"psysml:d9adf687-8d42-42d3-b1b5-8b6413ee0fad\" target=\"_top\" title=\"psysml:d9adf687-8d42-42d3-b1b5-8b6413ee0fad\" xlink:actuate=\"onRequest\" xlink:href=\"psysml:d9adf687-8d42-42d3-b1b5-8b6413ee0fad\" xlink:show=\"new\" xlink:title=\"psysml:d9adf687-8d42-42d3-b1b5-8b6413ee0fad\" xlink:type=\"simple\"><rect fill=\"#FFFFFF\" height=\"45.9375\" id=\"E4\" style=\"stroke: #383838; stroke-width: 1.5;\" width=\"79\" x=\"154.5\" y=\"255\"/><text fill=\"#000000\" font-family=\"sans-serif\" font-size=\"12\" font-style=\"italic\" lengthAdjust=\"spacingAndGlyphs\" textLength=\"77\" x=\"155.5\" y=\"271.1387\">«action def»</text><text fill=\"#000000\" font-family=\"sans-serif\" font-size=\"12\" lengthAdjust=\"spacingAndGlyphs\" textLength=\"37\" x=\"175.5\" y=\"285.1074\">Shoot</text><line style=\"stroke: #383838; stroke-width: 1.5;\" x1=\"155.5\" x2=\"232.5\" y1=\"292.9375\" y2=\"292.9375\"/></a><!--MD5=[270fce915f116d4de14055a7c1d9a0f3]\n",
       "class E5--><a href=\"psysml:704c53cf-e737-43c7-aaa6-afd6aa41e73e\" target=\"_top\" title=\"psysml:704c53cf-e737-43c7-aaa6-afd6aa41e73e\" xlink:actuate=\"onRequest\" xlink:href=\"psysml:704c53cf-e737-43c7-aaa6-afd6aa41e73e\" xlink:show=\"new\" xlink:title=\"psysml:704c53cf-e737-43c7-aaa6-afd6aa41e73e\" xlink:type=\"simple\"><rect fill=\"#FFFFFF\" height=\"45.9375\" id=\"E5\" rx=\"10\" ry=\"10\" style=\"stroke: #383838; stroke-width: 1.5;\" width=\"78\" x=\"96\" y=\"41\"/><text fill=\"#000000\" font-family=\"sans-serif\" font-size=\"12\" font-style=\"italic\" lengthAdjust=\"spacingAndGlyphs\" textLength=\"53\" x=\"108.5\" y=\"57.1387\">«action»</text><text fill=\"#000000\" font-family=\"sans-serif\" font-size=\"12\" lengthAdjust=\"spacingAndGlyphs\" textLength=\"72\" x=\"99\" y=\"71.1074\">takePicture</text><line style=\"stroke: #383838; stroke-width: 1.5;\" x1=\"97\" x2=\"173\" y1=\"78.9375\" y2=\"78.9375\"/></a><!--MD5=[60a26617385b1d2d0262a64233df1f8d]\n",
       "class E6--><a href=\"psysml:247459c4-dc1c-41f3-9bbd-2210d0a14144\" target=\"_top\" title=\"psysml:247459c4-dc1c-41f3-9bbd-2210d0a14144\" xlink:actuate=\"onRequest\" xlink:href=\"psysml:247459c4-dc1c-41f3-9bbd-2210d0a14144\" xlink:show=\"new\" xlink:title=\"psysml:247459c4-dc1c-41f3-9bbd-2210d0a14144\" xlink:type=\"simple\"><rect fill=\"#FFFFFF\" height=\"45.9375\" id=\"E6\" rx=\"10\" ry=\"10\" style=\"stroke: #383838; stroke-width: 1.5;\" width=\"85\" x=\"32.5\" y=\"148\"/><text fill=\"#000000\" font-family=\"sans-serif\" font-size=\"12\" font-style=\"italic\" lengthAdjust=\"spacingAndGlyphs\" textLength=\"53\" x=\"48.5\" y=\"164.1387\">«action»</text><text fill=\"#000000\" font-family=\"sans-serif\" font-size=\"12\" lengthAdjust=\"spacingAndGlyphs\" textLength=\"79\" x=\"35.5\" y=\"178.1074\">focus: Focus</text><line style=\"stroke: #383838; stroke-width: 1.5;\" x1=\"33.5\" x2=\"116.5\" y1=\"185.9375\" y2=\"185.9375\"/></a><!--MD5=[2156ba9850f5573cc1fc38a6a4b2f02b]\n",
       "class E7--><a href=\"psysml:d7e0c4ce-9a2d-4e4d-8f17-58d415aecc73\" target=\"_top\" title=\"psysml:d7e0c4ce-9a2d-4e4d-8f17-58d415aecc73\" xlink:actuate=\"onRequest\" xlink:href=\"psysml:d7e0c4ce-9a2d-4e4d-8f17-58d415aecc73\" xlink:show=\"new\" xlink:title=\"psysml:d7e0c4ce-9a2d-4e4d-8f17-58d415aecc73\" xlink:type=\"simple\"><rect fill=\"#FFFFFF\" height=\"45.9375\" id=\"E7\" rx=\"10\" ry=\"10\" style=\"stroke: #383838; stroke-width: 1.5;\" width=\"87\" x=\"152.5\" y=\"148\"/><text fill=\"#000000\" font-family=\"sans-serif\" font-size=\"12\" font-style=\"italic\" lengthAdjust=\"spacingAndGlyphs\" textLength=\"53\" x=\"169.5\" y=\"164.1387\">«action»</text><text fill=\"#000000\" font-family=\"sans-serif\" font-size=\"12\" lengthAdjust=\"spacingAndGlyphs\" textLength=\"81\" x=\"155.5\" y=\"178.1074\">shoot: Shoot</text><line style=\"stroke: #383838; stroke-width: 1.5;\" x1=\"153.5\" x2=\"238.5\" y1=\"185.9375\" y2=\"185.9375\"/></a><!--MD5=[b900ca4392aad7a68aec1e9245e10ab9]\n",
       "reverse link E3 to E2--><a href=\"psysml:7285223f-23e3-4ded-a1a3-c8dbe746ff9d\" target=\"_top\" title=\"psysml:7285223f-23e3-4ded-a1a3-c8dbe746ff9d\" xlink:actuate=\"onRequest\" xlink:href=\"psysml:7285223f-23e3-4ded-a1a3-c8dbe746ff9d\" xlink:show=\"new\" xlink:title=\"psysml:7285223f-23e3-4ded-a1a3-c8dbe746ff9d\" xlink:type=\"simple\"><path d=\"M94.32,313.04 C104.29,333.84 116.74,359.82 125.43,377.95 \" fill=\"none\" id=\"E3&lt;-E2\" style=\"stroke: #383838; stroke-width: 1.0;\"/><polygon fill=\"#FFFFFF\" points=\"88.64,301.19,87.6227,308.329,93.8212,312.0138,94.8385,304.8748,88.64,301.19\" style=\"stroke: #383838; stroke-width: 1.0;\"/><text fill=\"#000000\" font-family=\"sans-serif\" font-size=\"13\" lengthAdjust=\"spacingAndGlyphs\" textLength=\"22\" x=\"111\" y=\"344.0669\">xrsl</text></a><!--MD5=[ddeed8deb2209213b62e6cfabaa108b2]\n",
       "reverse link E4 to E2--><a href=\"psysml:3f6601e8-74ad-4acc-b654-2e93fe2ad4c3\" target=\"_top\" title=\"psysml:3f6601e8-74ad-4acc-b654-2e93fe2ad4c3\" xlink:actuate=\"onRequest\" xlink:href=\"psysml:3f6601e8-74ad-4acc-b654-2e93fe2ad4c3\" xlink:show=\"new\" xlink:title=\"psysml:3f6601e8-74ad-4acc-b654-2e93fe2ad4c3\" xlink:type=\"simple\"><path d=\"M177.68,313.04 C167.71,333.84 155.26,359.82 146.57,377.95 \" fill=\"none\" id=\"E4&lt;-E2\" style=\"stroke: #383838; stroke-width: 1.0;\"/><polygon fill=\"#FFFFFF\" points=\"183.36,301.19,177.1615,304.8748,178.1788,312.0138,184.3773,308.329,183.36,301.19\" style=\"stroke: #383838; stroke-width: 1.0;\"/><text fill=\"#000000\" font-family=\"sans-serif\" font-size=\"13\" lengthAdjust=\"spacingAndGlyphs\" textLength=\"18\" x=\"169\" y=\"344.0669\">xsf</text></a><!--MD5=[85d356282659285ab4b2cfe2f634dd2b]\n",
       "reverse link E5 to E6--><a href=\"psysml:b27ee466-0f4c-4005-a5ef-b2dd2df76771\" target=\"_top\" title=\"psysml:b27ee466-0f4c-4005-a5ef-b2dd2df76771\" xlink:actuate=\"onRequest\" xlink:href=\"psysml:b27ee466-0f4c-4005-a5ef-b2dd2df76771\" xlink:show=\"new\" xlink:title=\"psysml:b27ee466-0f4c-4005-a5ef-b2dd2df76771\" xlink:type=\"simple\"><path d=\"M115.79,98.62 C106.62,114.66 95.91,133.4 87.77,147.66 \" fill=\"none\" id=\"E5&lt;-E6\" style=\"stroke: #383838; stroke-width: 1.0;\"/><polygon fill=\"#383838\" points=\"122.42,87.01,115.9684,90.2314,116.4607,97.4257,122.9122,94.2043,122.42,87.01\" style=\"stroke: #383838; stroke-width: 1.0;\"/><text fill=\"#000000\" font-family=\"sans-serif\" font-size=\"13\" lengthAdjust=\"spacingAndGlyphs\" textLength=\"8\" x=\"82.0173\" y=\"136.8492\">1</text></a><!--MD5=[a717450b82c80b9240a525fa862496af]\n",
       "link E6 to E3--><a href=\"psysml:5a2a5603-bc94-4298-a763-49fe520ca5bc\" target=\"_top\" title=\"psysml:5a2a5603-bc94-4298-a763-49fe520ca5bc\" xlink:actuate=\"onRequest\" xlink:href=\"psysml:5a2a5603-bc94-4298-a763-49fe520ca5bc\" xlink:show=\"new\" xlink:title=\"psysml:5a2a5603-bc94-4298-a763-49fe520ca5bc\" xlink:type=\"simple\"><path d=\"M75.63,194.01 C75.96,205.69 76.38,220.46 76.78,234.28 \" fill=\"none\" id=\"E6-&gt;E3\" style=\"stroke: #383838; stroke-width: 1.0;\"/><polygon fill=\"#FFFFFF\" points=\"77.36,254.66,69.8202,235.8677,83.8145,235.4678,77.36,254.66\" style=\"stroke: #383838; stroke-width: 1.0;\"/><ellipse cx=\"71.6566\" cy=\"230.1129\" fill=\"#383838\" rx=\"2\" ry=\"2\" style=\"stroke: #383838; stroke-width: 1.0;\"/><ellipse cx=\"81.6525\" cy=\"229.8273\" fill=\"#383838\" rx=\"2\" ry=\"2\" style=\"stroke: #383838; stroke-width: 1.0;\"/></a><!--MD5=[452b418e7f8a40397a49b8c0a78acc5b]\n",
       "reverse link E5 to E7--><a href=\"psysml:aaa4df86-e408-4ec8-a2fe-61e5d0511306\" target=\"_top\" title=\"psysml:aaa4df86-e408-4ec8-a2fe-61e5d0511306\" xlink:actuate=\"onRequest\" xlink:href=\"psysml:aaa4df86-e408-4ec8-a2fe-61e5d0511306\" xlink:show=\"new\" xlink:title=\"psysml:aaa4df86-e408-4ec8-a2fe-61e5d0511306\" xlink:type=\"simple\"><path d=\"M154.53,98.62 C163.85,114.66 174.74,133.4 183.02,147.66 \" fill=\"none\" id=\"E5&lt;-E7\" style=\"stroke: #383838; stroke-width: 1.0;\"/><polygon fill=\"#383838\" points=\"147.79,87.01,147.3439,94.2073,153.8159,97.3873,154.2621,90.19,147.79,87.01\" style=\"stroke: #383838; stroke-width: 1.0;\"/><text fill=\"#000000\" font-family=\"sans-serif\" font-size=\"13\" lengthAdjust=\"spacingAndGlyphs\" textLength=\"8\" x=\"170.6689\" y=\"136.8492\">1</text></a><!--MD5=[6bdd27f9905911a7e892a3dc65cf6b7c]\n",
       "link E7 to E4--><a href=\"psysml:f48d95ee-d7b3-4518-8228-9030b5bbf5ab\" target=\"_top\" title=\"psysml:f48d95ee-d7b3-4518-8228-9030b5bbf5ab\" xlink:actuate=\"onRequest\" xlink:href=\"psysml:f48d95ee-d7b3-4518-8228-9030b5bbf5ab\" xlink:show=\"new\" xlink:title=\"psysml:f48d95ee-d7b3-4518-8228-9030b5bbf5ab\" xlink:type=\"simple\"><path d=\"M195.58,194.01 C195.36,205.69 195.08,220.46 194.81,234.28 \" fill=\"none\" id=\"E7-&gt;E4\" style=\"stroke: #383838; stroke-width: 1.0;\"/><polygon fill=\"#FFFFFF\" points=\"194.43,254.66,187.784,235.5333,201.7816,235.7933,194.43,254.66\" style=\"stroke: #383838; stroke-width: 1.0;\"/><ellipse cx=\"189.8895\" cy=\"229.8714\" fill=\"#383838\" rx=\"2\" ry=\"2\" style=\"stroke: #383838; stroke-width: 1.0;\"/><ellipse cx=\"199.8878\" cy=\"230.0571\" fill=\"#383838\" rx=\"2\" ry=\"2\" style=\"stroke: #383838; stroke-width: 1.0;\"/></a><!--MD5=[b50a9af850d1f2bc510afde1bbe100c8]\n",
       "@startuml\r\n",
       " skinparam monochrome true\r\n",
       "skinparam classbackgroundcolor white\r\n",
       "skinparam shadowing false\r\n",
       "skinparam wrapWidth 300\r\n",
       "hide circle\r\n",
       "\r\n",
       "package \"PictureTaking\" as E1  [[psysml:14e6fe4c-a4d9-4c34-a316-9cbabb101fb1 ]]  {\r\n",
       "comp def \"Exposure\" as E2  <<(T,blue)part def>> [[psysml:9a8bab7b-7078-4a6b-add3-8a1328b0c2d6 ]] {\r\n",
       "}\r\n",
       "comp def \"Focus\" as E3  <<(T,blue)action def>> [[psysml:44676d48-2ba6-47f9-b761-758fcbe31dbd ]] {\r\n",
       "}\r\n",
       "comp def \"Shoot\" as E4  <<(T,blue)action def>> [[psysml:d9adf687-8d42-42d3-b1b5-8b6413ee0fad ]] {\r\n",
       "}\r\n",
       "comp usage \"takePicture\" as E5  <<(T,blue)action>> [[psysml:704c53cf-e737-43c7-aaa6-afd6aa41e73e ]] {\r\n",
       "}\r\n",
       "comp usage \"focus: Focus\" as E6  <<(T,blue)action>> [[psysml:247459c4-dc1c-41f3-9bbd-2210d0a14144 ]] {\r\n",
       "}\r\n",
       "comp usage \"shoot: Shoot\" as E7  <<(T,blue)action>> [[psysml:d7e0c4ce-9a2d-4e4d-8f17-58d415aecc73 ]] {\r\n",
       "}\r\n",
       "E3 o- - E2 [[psysml:7285223f-23e3-4ded-a1a3-c8dbe746ff9d ]] : xrsl\r\n",
       "E4 o- - E2 [[psysml:3f6601e8-74ad-4acc-b654-2e93fe2ad4c3 ]] : xsf\r\n",
       "E5 *- - \"1\"E6 [[psysml:b27ee466-0f4c-4005-a5ef-b2dd2df76771 ]] \r\n",
       "E6 - -:|> E3 [[psysml:5a2a5603-bc94-4298-a763-49fe520ca5bc ]] \r\n",
       "E5 *- - \"1\"E7 [[psysml:aaa4df86-e408-4ec8-a2fe-61e5d0511306 ]] \r\n",
       "E7 - -:|> E4 [[psysml:f48d95ee-d7b3-4518-8228-9030b5bbf5ab ]] \r\n",
       "}\r\n",
       "@enduml\r\n",
       "\n",
       "PlantUML version 1.2020.13(Sat Jun 13 12:26:38 UTC 2020)\n",
       "(EPL source distribution)\n",
       "Java Runtime: OpenJDK Runtime Environment\n",
       "JVM: OpenJDK 64-Bit Server VM\n",
       "Default Encoding: UTF-8\n",
       "Language: en\n",
       "Country: null\n",
       "--></g></svg>"
      ]
     },
     "execution_count": 3,
     "metadata": {},
     "output_type": "execute_result"
    }
   ],
   "source": [
    "%viz --style=\"COMPTREE\" --view=\"Tree\" \"PictureTaking\""
   ]
  },
  {
   "cell_type": "code",
   "execution_count": 4,
   "id": "c2596304",
   "metadata": {
    "execution": {
     "iopub.execute_input": "2021-04-20T07:31:59.928434Z",
     "iopub.status.busy": "2021-04-20T07:31:59.927867Z",
     "iopub.status.idle": "2021-04-20T07:31:59.939559Z",
     "shell.execute_reply": "2021-04-20T07:31:59.939217Z"
    }
   },
   "outputs": [
    {
     "data": {
      "image/svg+xml": [
       "<?xml version=\"1.0\" encoding=\"UTF-8\" standalone=\"no\"?><svg xmlns=\"http://www.w3.org/2000/svg\" xmlns:xlink=\"http://www.w3.org/1999/xlink\" contentScriptType=\"application/ecmascript\" contentStyleType=\"text/css\" height=\"12px\" preserveAspectRatio=\"none\" style=\"width:12px;height:12px;\" version=\"1.1\" viewBox=\"0 0 12 12\" width=\"12px\" zoomAndPan=\"magnify\"><defs/><g><!--MD5=[f19188ef49e11757b5c46753f95d9edc]\n",
       "@startuml\r\n",
       " skinparam monochrome true\r\n",
       "skinparam classbackgroundcolor white\r\n",
       "skinparam shadowing false\r\n",
       "skinparam wrapWidth 300\r\n",
       "hide circle\r\n",
       "\r\n",
       "@enduml\r\n",
       "\n",
       "PlantUML version 1.2020.13(Sat Jun 13 12:26:38 UTC 2020)\n",
       "(EPL source distribution)\n",
       "Java Runtime: OpenJDK Runtime Environment\n",
       "JVM: OpenJDK 64-Bit Server VM\n",
       "Default Encoding: UTF-8\n",
       "Language: en\n",
       "Country: null\n",
       "--></g></svg>"
      ]
     },
     "execution_count": 4,
     "metadata": {},
     "output_type": "execute_result"
    }
   ],
   "source": [
    "%viz --style=\"COMPTREE\" --view=\"State\" \"PictureTaking\""
   ]
  },
  {
   "cell_type": "code",
   "execution_count": 5,
   "id": "603eff24",
   "metadata": {
    "execution": {
     "iopub.execute_input": "2021-04-20T07:31:59.990799Z",
     "iopub.status.busy": "2021-04-20T07:31:59.990326Z",
     "iopub.status.idle": "2021-04-20T07:32:00.113768Z",
     "shell.execute_reply": "2021-04-20T07:32:00.109895Z"
    }
   },
   "outputs": [
    {
     "data": {
      "image/svg+xml": [
       "<?xml version=\"1.0\" encoding=\"UTF-8\" standalone=\"no\"?><svg xmlns=\"http://www.w3.org/2000/svg\" xmlns:xlink=\"http://www.w3.org/1999/xlink\" contentScriptType=\"application/ecmascript\" contentStyleType=\"text/css\" height=\"330px\" preserveAspectRatio=\"none\" style=\"width:706px;height:330px;\" version=\"1.1\" viewBox=\"0 0 706 330\" width=\"706px\" zoomAndPan=\"magnify\"><defs/><g><!--MD5=[fbc87193dbaf4d95561dea2c320d4a47]\n",
       "cluster E1--><a href=\"psysml:14e6fe4c-a4d9-4c34-a316-9cbabb101fb1\" target=\"_top\" title=\"psysml:14e6fe4c-a4d9-4c34-a316-9cbabb101fb1\" xlink:actuate=\"onRequest\" xlink:href=\"psysml:14e6fe4c-a4d9-4c34-a316-9cbabb101fb1\" xlink:show=\"new\" xlink:title=\"psysml:14e6fe4c-a4d9-4c34-a316-9cbabb101fb1\" xlink:type=\"simple\"><polygon fill=\"#FFFFFF\" points=\"16,6,130,6,137,28.2969,684,28.2969,684,318,16,318,16,6\" style=\"stroke: #000000; stroke-width: 1.5;\"/><line style=\"stroke: #000000; stroke-width: 1.5;\" x1=\"16\" x2=\"137\" y1=\"28.2969\" y2=\"28.2969\"/><text fill=\"#000000\" font-family=\"sans-serif\" font-size=\"14\" font-weight=\"bold\" lengthAdjust=\"spacingAndGlyphs\" textLength=\"108\" x=\"20\" y=\"20.9951\">PictureTaking</text></a><!--MD5=[d5e69f78d87373223dbae638b30a9c99]\n",
       "cluster E3--><a href=\"psysml:44676d48-2ba6-47f9-b761-758fcbe31dbd\" target=\"_top\" title=\"psysml:44676d48-2ba6-47f9-b761-758fcbe31dbd\" xlink:actuate=\"onRequest\" xlink:href=\"psysml:44676d48-2ba6-47f9-b761-758fcbe31dbd\" xlink:show=\"new\" xlink:title=\"psysml:44676d48-2ba6-47f9-b761-758fcbe31dbd\" xlink:type=\"simple\"><rect fill=\"#FFFFFF\" height=\"136\" id=\"E3\" style=\"stroke: #383838; stroke-width: 1.5;\" width=\"134\" x=\"534\" y=\"100\"/><rect fill=\"#F8F8F8\" height=\"37.9375\" style=\"stroke: #383838; stroke-width: 1.5;\" width=\"134\" x=\"534\" y=\"100\"/><text fill=\"#000000\" font-family=\"sans-serif\" font-size=\"12\" font-style=\"italic\" lengthAdjust=\"spacingAndGlyphs\" textLength=\"77\" x=\"562.5\" y=\"116.1387\">«action def»</text><text fill=\"#000000\" font-family=\"sans-serif\" font-size=\"12\" lengthAdjust=\"spacingAndGlyphs\" textLength=\"37\" x=\"582.5\" y=\"130.1074\">Focus</text></a><!--MD5=[de5ec2e2e8f62f467e546659f5068c88]\n",
       "cluster E5--><a href=\"psysml:d9adf687-8d42-42d3-b1b5-8b6413ee0fad\" target=\"_top\" title=\"psysml:d9adf687-8d42-42d3-b1b5-8b6413ee0fad\" xlink:actuate=\"onRequest\" xlink:href=\"psysml:d9adf687-8d42-42d3-b1b5-8b6413ee0fad\" xlink:show=\"new\" xlink:title=\"psysml:d9adf687-8d42-42d3-b1b5-8b6413ee0fad\" xlink:type=\"simple\"><rect fill=\"#FFFFFF\" height=\"88.5\" id=\"E5\" style=\"stroke: #383838; stroke-width: 1.5;\" width=\"134\" x=\"392\" y=\"133.5\"/><rect fill=\"#F8F8F8\" height=\"37.9375\" style=\"stroke: #383838; stroke-width: 1.5;\" width=\"134\" x=\"392\" y=\"133.5\"/><text fill=\"#000000\" font-family=\"sans-serif\" font-size=\"12\" font-style=\"italic\" lengthAdjust=\"spacingAndGlyphs\" textLength=\"77\" x=\"420.5\" y=\"149.6387\">«action def»</text><text fill=\"#000000\" font-family=\"sans-serif\" font-size=\"12\" lengthAdjust=\"spacingAndGlyphs\" textLength=\"37\" x=\"440.5\" y=\"163.6074\">Shoot</text></a><!--MD5=[168fadf3d0c3fd93dd5d6da1b1d7ab76]\n",
       "cluster E7--><a href=\"psysml:704c53cf-e737-43c7-aaa6-afd6aa41e73e\" target=\"_top\" title=\"psysml:704c53cf-e737-43c7-aaa6-afd6aa41e73e\" xlink:actuate=\"onRequest\" xlink:href=\"psysml:704c53cf-e737-43c7-aaa6-afd6aa41e73e\" xlink:show=\"new\" xlink:title=\"psysml:704c53cf-e737-43c7-aaa6-afd6aa41e73e\" xlink:type=\"simple\"><rect fill=\"#FFFFFF\" height=\"245\" id=\"E7\" rx=\"10\" ry=\"10\" style=\"stroke: #383838; stroke-width: 1.5;\" width=\"256\" x=\"120\" y=\"49\"/><rect fill=\"#F8F8F8\" height=\"37.9375\" rx=\"10\" ry=\"10\" style=\"stroke: #F8F8F8; stroke-width: 1.5;\" width=\"256\" x=\"120\" y=\"49\"/><rect fill=\"#F8F8F8\" height=\"10\" style=\"stroke: #F8F8F8; stroke-width: 1.5;\" width=\"256\" x=\"120\" y=\"76.9375\"/><rect fill=\"none\" height=\"245\" id=\"E7\" rx=\"10\" ry=\"10\" style=\"stroke: #383838; stroke-width: 1.5;\" width=\"256\" x=\"120\" y=\"49\"/><text fill=\"#000000\" font-family=\"sans-serif\" font-size=\"12\" font-style=\"italic\" lengthAdjust=\"spacingAndGlyphs\" textLength=\"53\" x=\"221.5\" y=\"65.1387\">«action»</text><text fill=\"#000000\" font-family=\"sans-serif\" font-size=\"12\" lengthAdjust=\"spacingAndGlyphs\" textLength=\"72\" x=\"212\" y=\"79.1074\">takePicture</text><line style=\"stroke: #383838; stroke-width: 1.0;\" x1=\"120\" x2=\"376\" y1=\"86.9375\" y2=\"86.9375\"/></a><!--MD5=[55dfccfc6c49c2d10cd1bd2211a6c90c]\n",
       "cluster E8--><a href=\"psysml:247459c4-dc1c-41f3-9bbd-2210d0a14144\" target=\"_top\" title=\"psysml:247459c4-dc1c-41f3-9bbd-2210d0a14144\" xlink:actuate=\"onRequest\" xlink:href=\"psysml:247459c4-dc1c-41f3-9bbd-2210d0a14144\" xlink:show=\"new\" xlink:title=\"psysml:247459c4-dc1c-41f3-9bbd-2210d0a14144\" xlink:type=\"simple\"><rect fill=\"#FFFFFF\" height=\"136\" id=\"E8\" rx=\"10\" ry=\"10\" style=\"stroke: #383838; stroke-width: 1.5;\" width=\"83\" x=\"263\" y=\"100\"/><rect fill=\"#F8F8F8\" height=\"37.9375\" rx=\"10\" ry=\"10\" style=\"stroke: #F8F8F8; stroke-width: 1.5;\" width=\"83\" x=\"263\" y=\"100\"/><rect fill=\"#F8F8F8\" height=\"10\" style=\"stroke: #F8F8F8; stroke-width: 1.5;\" width=\"83\" x=\"263\" y=\"127.9375\"/><rect fill=\"none\" height=\"136\" id=\"E8\" rx=\"10\" ry=\"10\" style=\"stroke: #383838; stroke-width: 1.5;\" width=\"83\" x=\"263\" y=\"100\"/><text fill=\"#000000\" font-family=\"sans-serif\" font-size=\"12\" font-style=\"italic\" lengthAdjust=\"spacingAndGlyphs\" textLength=\"53\" x=\"278\" y=\"116.1387\">«action»</text><text fill=\"#000000\" font-family=\"sans-serif\" font-size=\"12\" lengthAdjust=\"spacingAndGlyphs\" textLength=\"34\" x=\"287.5\" y=\"130.1074\">focus</text><line style=\"stroke: #383838; stroke-width: 1.0;\" x1=\"263\" x2=\"346\" y1=\"137.9375\" y2=\"137.9375\"/></a><!--MD5=[917b9dd0c7eca3ee5f47219d1a84c0ad]\n",
       "cluster E11--><a href=\"psysml:d7e0c4ce-9a2d-4e4d-8f17-58d415aecc73\" target=\"_top\" title=\"psysml:d7e0c4ce-9a2d-4e4d-8f17-58d415aecc73\" xlink:actuate=\"onRequest\" xlink:href=\"psysml:d7e0c4ce-9a2d-4e4d-8f17-58d415aecc73\" xlink:show=\"new\" xlink:title=\"psysml:d7e0c4ce-9a2d-4e4d-8f17-58d415aecc73\" xlink:type=\"simple\"><rect fill=\"#FFFFFF\" height=\"130.5\" id=\"E11\" rx=\"10\" ry=\"10\" style=\"stroke: #383838; stroke-width: 1.5;\" width=\"74\" x=\"170\" y=\"133.5\"/><rect fill=\"#F8F8F8\" height=\"37.9375\" rx=\"10\" ry=\"10\" style=\"stroke: #F8F8F8; stroke-width: 1.5;\" width=\"74\" x=\"170\" y=\"133.5\"/><rect fill=\"#F8F8F8\" height=\"10\" style=\"stroke: #F8F8F8; stroke-width: 1.5;\" width=\"74\" x=\"170\" y=\"161.4375\"/><rect fill=\"none\" height=\"130.5\" id=\"E11\" rx=\"10\" ry=\"10\" style=\"stroke: #383838; stroke-width: 1.5;\" width=\"74\" x=\"170\" y=\"133.5\"/><text fill=\"#000000\" font-family=\"sans-serif\" font-size=\"12\" font-style=\"italic\" lengthAdjust=\"spacingAndGlyphs\" textLength=\"53\" x=\"180.5\" y=\"149.6387\">«action»</text><text fill=\"#000000\" font-family=\"sans-serif\" font-size=\"12\" lengthAdjust=\"spacingAndGlyphs\" textLength=\"36\" x=\"189\" y=\"163.6074\">shoot</text><line style=\"stroke: #383838; stroke-width: 1.0;\" x1=\"170\" x2=\"244\" y1=\"171.4375\" y2=\"171.4375\"/></a><g id=\"E1.E2\"><a href=\"psysml:9a8bab7b-7078-4a6b-add3-8a1328b0c2d6\" target=\"_top\" title=\"psysml:9a8bab7b-7078-4a6b-add3-8a1328b0c2d6\" xlink:actuate=\"onRequest\" xlink:href=\"psysml:9a8bab7b-7078-4a6b-add3-8a1328b0c2d6\" xlink:show=\"new\" xlink:title=\"psysml:9a8bab7b-7078-4a6b-add3-8a1328b0c2d6\" xlink:type=\"simple\"><rect fill=\"#FFFFFF\" height=\"42.9375\" id=\"E2\" style=\"stroke: #383838; stroke-width: 1.5;\" width=\"71\" x=\"32.5\" y=\"112\"/><rect fill=\"#F8F8F8\" height=\"37.9375\" style=\"stroke: #383838; stroke-width: 1.5;\" width=\"71\" x=\"32.5\" y=\"112\"/><text fill=\"#000000\" font-family=\"sans-serif\" font-size=\"12\" font-style=\"italic\" lengthAdjust=\"spacingAndGlyphs\" textLength=\"64\" x=\"36\" y=\"128.1387\">«part def»</text><text fill=\"#000000\" font-family=\"sans-serif\" font-size=\"12\" lengthAdjust=\"spacingAndGlyphs\" textLength=\"58\" x=\"39\" y=\"142.1074\">Exposure</text></a></g><text fill=\"#000000\" font-family=\"sans-serif\" font-size=\"14\" lengthAdjust=\"spacingAndGlyphs\" textLength=\"23\" x=\"589.5\" y=\"254.9951\">xrsl</text><rect fill=\"#383838\" height=\"12\" style=\"stroke: #F8F8F8; stroke-width: 1.5;\" width=\"12\" x=\"595\" y=\"230\"/><text fill=\"#000000\" font-family=\"sans-serif\" font-size=\"14\" lengthAdjust=\"spacingAndGlyphs\" textLength=\"19\" x=\"449.5\" y=\"112.1982\">xsf</text><rect fill=\"#383838\" height=\"12\" style=\"stroke: #F8F8F8; stroke-width: 1.5;\" width=\"12\" x=\"453\" y=\"127.5\"/><text fill=\"#000000\" font-family=\"sans-serif\" font-size=\"14\" lengthAdjust=\"spacingAndGlyphs\" textLength=\"48\" x=\"257\" y=\"254.9951\">$result</text><rect fill=\"#383838\" height=\"12\" style=\"stroke: #F8F8F8; stroke-width: 1.5;\" width=\"12\" x=\"275\" y=\"230\"/><text fill=\"#000000\" font-family=\"sans-serif\" font-size=\"14\" lengthAdjust=\"spacingAndGlyphs\" textLength=\"23\" x=\"316.5\" y=\"254.9951\">xrsl</text><rect fill=\"#383838\" height=\"12\" style=\"stroke: #F8F8F8; stroke-width: 1.5;\" width=\"12\" x=\"322\" y=\"230\"/><text fill=\"#000000\" font-family=\"sans-serif\" font-size=\"14\" lengthAdjust=\"spacingAndGlyphs\" textLength=\"48\" x=\"164\" y=\"282.9951\">$result</text><rect fill=\"#383838\" height=\"12\" style=\"stroke: #F8F8F8; stroke-width: 1.5;\" width=\"12\" x=\"182\" y=\"258\"/><text fill=\"#000000\" font-family=\"sans-serif\" font-size=\"14\" lengthAdjust=\"spacingAndGlyphs\" textLength=\"19\" x=\"180.5\" y=\"112.1982\">xsf</text><rect fill=\"#383838\" height=\"12\" style=\"stroke: #F8F8F8; stroke-width: 1.5;\" width=\"12\" x=\"184\" y=\"127.5\"/><!--MD5=[03e10b0557a996bd77f17538289ea4ed]\n",
       "@startuml\r\n",
       "skinparam ranksep 10\r\n",
       "skinparam rectangle {\r\n",
       " backgroundColor<<block>> LightGreen\r\n",
       "}\r\n",
       " skinparam monochrome true\r\n",
       "skinparam classbackgroundcolor white\r\n",
       "skinparam shadowing false\r\n",
       "skinparam wrapWidth 300\r\n",
       "hide circle\r\n",
       "\r\n",
       "package \"PictureTaking\" as E1  [[psysml:14e6fe4c-a4d9-4c34-a316-9cbabb101fb1 ]]  {\r\n",
       "rec def \"Exposure\" as E2  <<(T,blue)part def>> [[psysml:9a8bab7b-7078-4a6b-add3-8a1328b0c2d6 ]] {\r\n",
       "}\r\n",
       "rec def \"Focus\" as E3  <<(T,blue)action def>> [[psysml:44676d48-2ba6-47f9-b761-758fcbe31dbd ]] {\r\n",
       "portout \"xrsl\" as E4  [[psysml:7285223f-23e3-4ded-a1a3-c8dbe746ff9d ]] \r\n",
       "}\r\n",
       "\r\n",
       "rec def \"Shoot\" as E5  <<(T,blue)action def>> [[psysml:d9adf687-8d42-42d3-b1b5-8b6413ee0fad ]] {\r\n",
       "portin \"xsf\" as E6  [[psysml:3f6601e8-74ad-4acc-b654-2e93fe2ad4c3 ]] \r\n",
       "}\r\n",
       "\r\n",
       "rec usage \"takePicture\" as E7  <<(T,blue)action>> [[psysml:704c53cf-e737-43c7-aaa6-afd6aa41e73e ]] {\r\n",
       "rec usage \"focus\" as E8  <<(T,blue)action>> [[psysml:247459c4-dc1c-41f3-9bbd-2210d0a14144 ]] {\r\n",
       "portout \"$result\" as E9  [[psysml:d24c4944-7685-4e9e-b1e9-aa0857e67b68 ]] \r\n",
       "portout \"xrsl\" as E10  [[psysml:a9b63f0e-a7c1-4470-82ae-da9c74073d16 ]] \r\n",
       "}\r\n",
       "\r\n",
       "rec usage \"shoot\" as E11  <<(T,blue)action>> [[psysml:d7e0c4ce-9a2d-4e4d-8f17-58d415aecc73 ]] {\r\n",
       "portout \"$result\" as E12  [[psysml:edaf4370-9fef-4792-934f-b7a89f5913cc ]] \r\n",
       "portin \"xsf\" as E13  [[psysml:1ee0e316-c080-4a1b-aa8d-122e3ae24dab ]] \r\n",
       "}\r\n",
       "\r\n",
       "}\r\n",
       "\r\n",
       "}\r\n",
       "@enduml\r\n",
       "\n",
       "PlantUML version 1.2020.13(Sat Jun 13 12:26:38 UTC 2020)\n",
       "(EPL source distribution)\n",
       "Java Runtime: OpenJDK Runtime Environment\n",
       "JVM: OpenJDK 64-Bit Server VM\n",
       "Default Encoding: UTF-8\n",
       "Language: en\n",
       "Country: null\n",
       "--></g></svg>"
      ]
     },
     "execution_count": 5,
     "metadata": {},
     "output_type": "execute_result"
    }
   ],
   "source": [
    "%viz --style=\"COMPTREE\" --view=\"Interconnection\" \"PictureTaking\""
   ]
  },
  {
   "cell_type": "code",
   "execution_count": 6,
   "id": "9a8cc2c9",
   "metadata": {
    "execution": {
     "iopub.execute_input": "2021-04-20T07:32:00.167462Z",
     "iopub.status.busy": "2021-04-20T07:32:00.166213Z",
     "iopub.status.idle": "2021-04-20T07:32:00.254425Z",
     "shell.execute_reply": "2021-04-20T07:32:00.252358Z"
    }
   },
   "outputs": [
    {
     "data": {
      "image/svg+xml": [
       "<?xml version=\"1.0\" encoding=\"UTF-8\" standalone=\"no\"?><svg xmlns=\"http://www.w3.org/2000/svg\" xmlns:xlink=\"http://www.w3.org/1999/xlink\" contentScriptType=\"application/ecmascript\" contentStyleType=\"text/css\" height=\"259px\" preserveAspectRatio=\"none\" style=\"width:567px;height:259px;\" version=\"1.1\" viewBox=\"0 0 567 259\" width=\"567px\" zoomAndPan=\"magnify\"><defs/><g><!--MD5=[fbc87193dbaf4d95561dea2c320d4a47]\n",
       "cluster E1--><a href=\"psysml:44676d48-2ba6-47f9-b761-758fcbe31dbd\" target=\"_top\" title=\"psysml:44676d48-2ba6-47f9-b761-758fcbe31dbd\" xlink:actuate=\"onRequest\" xlink:href=\"psysml:44676d48-2ba6-47f9-b761-758fcbe31dbd\" xlink:show=\"new\" xlink:title=\"psysml:44676d48-2ba6-47f9-b761-758fcbe31dbd\" xlink:type=\"simple\"><rect fill=\"#FFFFFF\" height=\"132\" id=\"E1\" style=\"stroke: #383838; stroke-width: 1.5;\" width=\"134\" x=\"7\" y=\"58\"/><rect fill=\"#F8F8F8\" height=\"37.9375\" style=\"stroke: #383838; stroke-width: 1.5;\" width=\"134\" x=\"7\" y=\"58\"/><text fill=\"#000000\" font-family=\"sans-serif\" font-size=\"12\" font-style=\"italic\" lengthAdjust=\"spacingAndGlyphs\" textLength=\"77\" x=\"35.5\" y=\"74.1387\">«action def»</text><text fill=\"#000000\" font-family=\"sans-serif\" font-size=\"12\" lengthAdjust=\"spacingAndGlyphs\" textLength=\"37\" x=\"55.5\" y=\"88.1074\">Focus</text></a><!--MD5=[d5e69f78d87373223dbae638b30a9c99]\n",
       "cluster E3--><a href=\"psysml:d9adf687-8d42-42d3-b1b5-8b6413ee0fad\" target=\"_top\" title=\"psysml:d9adf687-8d42-42d3-b1b5-8b6413ee0fad\" xlink:actuate=\"onRequest\" xlink:href=\"psysml:d9adf687-8d42-42d3-b1b5-8b6413ee0fad\" xlink:show=\"new\" xlink:title=\"psysml:d9adf687-8d42-42d3-b1b5-8b6413ee0fad\" xlink:type=\"simple\"><rect fill=\"#FFFFFF\" height=\"84.5\" id=\"E3\" style=\"stroke: #383838; stroke-width: 1.5;\" width=\"134\" x=\"149\" y=\"91.5\"/><rect fill=\"#F8F8F8\" height=\"37.9375\" style=\"stroke: #383838; stroke-width: 1.5;\" width=\"134\" x=\"149\" y=\"91.5\"/><text fill=\"#000000\" font-family=\"sans-serif\" font-size=\"12\" font-style=\"italic\" lengthAdjust=\"spacingAndGlyphs\" textLength=\"77\" x=\"177.5\" y=\"107.6387\">«action def»</text><text fill=\"#000000\" font-family=\"sans-serif\" font-size=\"12\" lengthAdjust=\"spacingAndGlyphs\" textLength=\"37\" x=\"197.5\" y=\"121.6074\">Shoot</text></a><!--MD5=[de5ec2e2e8f62f467e546659f5068c88]\n",
       "cluster E5--><a href=\"psysml:704c53cf-e737-43c7-aaa6-afd6aa41e73e\" target=\"_top\" title=\"psysml:704c53cf-e737-43c7-aaa6-afd6aa41e73e\" xlink:actuate=\"onRequest\" xlink:href=\"psysml:704c53cf-e737-43c7-aaa6-afd6aa41e73e\" xlink:show=\"new\" xlink:title=\"psysml:704c53cf-e737-43c7-aaa6-afd6aa41e73e\" xlink:type=\"simple\"><rect fill=\"#FFFFFF\" height=\"241\" id=\"E5\" rx=\"10\" ry=\"10\" style=\"stroke: #383838; stroke-width: 1.5;\" width=\"256\" x=\"299\" y=\"7\"/><rect fill=\"#F8F8F8\" height=\"37.9375\" rx=\"10\" ry=\"10\" style=\"stroke: #F8F8F8; stroke-width: 1.5;\" width=\"256\" x=\"299\" y=\"7\"/><rect fill=\"#F8F8F8\" height=\"10\" style=\"stroke: #F8F8F8; stroke-width: 1.5;\" width=\"256\" x=\"299\" y=\"34.9375\"/><rect fill=\"none\" height=\"241\" id=\"E5\" rx=\"10\" ry=\"10\" style=\"stroke: #383838; stroke-width: 1.5;\" width=\"256\" x=\"299\" y=\"7\"/><text fill=\"#000000\" font-family=\"sans-serif\" font-size=\"12\" font-style=\"italic\" lengthAdjust=\"spacingAndGlyphs\" textLength=\"53\" x=\"400.5\" y=\"23.1387\">«action»</text><text fill=\"#000000\" font-family=\"sans-serif\" font-size=\"12\" lengthAdjust=\"spacingAndGlyphs\" textLength=\"72\" x=\"391\" y=\"37.1074\">takePicture</text><line style=\"stroke: #383838; stroke-width: 1.0;\" x1=\"299\" x2=\"555\" y1=\"44.9375\" y2=\"44.9375\"/></a><!--MD5=[14e3b0961a2654348d326746436168a1]\n",
       "cluster E6--><a href=\"psysml:247459c4-dc1c-41f3-9bbd-2210d0a14144\" target=\"_top\" title=\"psysml:247459c4-dc1c-41f3-9bbd-2210d0a14144\" xlink:actuate=\"onRequest\" xlink:href=\"psysml:247459c4-dc1c-41f3-9bbd-2210d0a14144\" xlink:show=\"new\" xlink:title=\"psysml:247459c4-dc1c-41f3-9bbd-2210d0a14144\" xlink:type=\"simple\"><rect fill=\"#FFFFFF\" height=\"132\" id=\"E6\" rx=\"10\" ry=\"10\" style=\"stroke: #383838; stroke-width: 1.5;\" width=\"83\" x=\"442\" y=\"58\"/><rect fill=\"#F8F8F8\" height=\"37.9375\" rx=\"10\" ry=\"10\" style=\"stroke: #F8F8F8; stroke-width: 1.5;\" width=\"83\" x=\"442\" y=\"58\"/><rect fill=\"#F8F8F8\" height=\"10\" style=\"stroke: #F8F8F8; stroke-width: 1.5;\" width=\"83\" x=\"442\" y=\"85.9375\"/><rect fill=\"none\" height=\"132\" id=\"E6\" rx=\"10\" ry=\"10\" style=\"stroke: #383838; stroke-width: 1.5;\" width=\"83\" x=\"442\" y=\"58\"/><text fill=\"#000000\" font-family=\"sans-serif\" font-size=\"12\" font-style=\"italic\" lengthAdjust=\"spacingAndGlyphs\" textLength=\"53\" x=\"457\" y=\"74.1387\">«action»</text><text fill=\"#000000\" font-family=\"sans-serif\" font-size=\"12\" lengthAdjust=\"spacingAndGlyphs\" textLength=\"34\" x=\"466.5\" y=\"88.1074\">focus</text><line style=\"stroke: #383838; stroke-width: 1.0;\" x1=\"442\" x2=\"525\" y1=\"95.9375\" y2=\"95.9375\"/></a><!--MD5=[7f149f147074ac12df2cb0a7728a5fb0]\n",
       "cluster E9--><a href=\"psysml:d7e0c4ce-9a2d-4e4d-8f17-58d415aecc73\" target=\"_top\" title=\"psysml:d7e0c4ce-9a2d-4e4d-8f17-58d415aecc73\" xlink:actuate=\"onRequest\" xlink:href=\"psysml:d7e0c4ce-9a2d-4e4d-8f17-58d415aecc73\" xlink:show=\"new\" xlink:title=\"psysml:d7e0c4ce-9a2d-4e4d-8f17-58d415aecc73\" xlink:type=\"simple\"><rect fill=\"#FFFFFF\" height=\"126.5\" id=\"E9\" rx=\"10\" ry=\"10\" style=\"stroke: #383838; stroke-width: 1.5;\" width=\"74\" x=\"349\" y=\"91.5\"/><rect fill=\"#F8F8F8\" height=\"37.9375\" rx=\"10\" ry=\"10\" style=\"stroke: #F8F8F8; stroke-width: 1.5;\" width=\"74\" x=\"349\" y=\"91.5\"/><rect fill=\"#F8F8F8\" height=\"10\" style=\"stroke: #F8F8F8; stroke-width: 1.5;\" width=\"74\" x=\"349\" y=\"119.4375\"/><rect fill=\"none\" height=\"126.5\" id=\"E9\" rx=\"10\" ry=\"10\" style=\"stroke: #383838; stroke-width: 1.5;\" width=\"74\" x=\"349\" y=\"91.5\"/><text fill=\"#000000\" font-family=\"sans-serif\" font-size=\"12\" font-style=\"italic\" lengthAdjust=\"spacingAndGlyphs\" textLength=\"53\" x=\"359.5\" y=\"107.6387\">«action»</text><text fill=\"#000000\" font-family=\"sans-serif\" font-size=\"12\" lengthAdjust=\"spacingAndGlyphs\" textLength=\"36\" x=\"368\" y=\"121.6074\">shoot</text><line style=\"stroke: #383838; stroke-width: 1.0;\" x1=\"349\" x2=\"423\" y1=\"129.4375\" y2=\"129.4375\"/></a><text fill=\"#000000\" font-family=\"sans-serif\" font-size=\"14\" lengthAdjust=\"spacingAndGlyphs\" textLength=\"23\" x=\"62.5\" y=\"208.9951\">xrsl</text><rect fill=\"#383838\" height=\"12\" style=\"stroke: #F8F8F8; stroke-width: 1.5;\" width=\"12\" x=\"68\" y=\"184\"/><text fill=\"#000000\" font-family=\"sans-serif\" font-size=\"14\" lengthAdjust=\"spacingAndGlyphs\" textLength=\"19\" x=\"206.5\" y=\"70.1982\">xsf</text><rect fill=\"#383838\" height=\"12\" style=\"stroke: #F8F8F8; stroke-width: 1.5;\" width=\"12\" x=\"210\" y=\"85.5\"/><text fill=\"#000000\" font-family=\"sans-serif\" font-size=\"14\" lengthAdjust=\"spacingAndGlyphs\" textLength=\"48\" x=\"436\" y=\"208.9951\">$result</text><rect fill=\"#383838\" height=\"12\" style=\"stroke: #F8F8F8; stroke-width: 1.5;\" width=\"12\" x=\"454\" y=\"184\"/><text fill=\"#000000\" font-family=\"sans-serif\" font-size=\"14\" lengthAdjust=\"spacingAndGlyphs\" textLength=\"23\" x=\"495.5\" y=\"208.9951\">xrsl</text><rect fill=\"#383838\" height=\"12\" style=\"stroke: #F8F8F8; stroke-width: 1.5;\" width=\"12\" x=\"501\" y=\"184\"/><text fill=\"#000000\" font-family=\"sans-serif\" font-size=\"14\" lengthAdjust=\"spacingAndGlyphs\" textLength=\"48\" x=\"343\" y=\"236.9951\">$result</text><rect fill=\"#383838\" height=\"12\" style=\"stroke: #F8F8F8; stroke-width: 1.5;\" width=\"12\" x=\"361\" y=\"212\"/><text fill=\"#000000\" font-family=\"sans-serif\" font-size=\"14\" lengthAdjust=\"spacingAndGlyphs\" textLength=\"19\" x=\"359.5\" y=\"70.1982\">xsf</text><rect fill=\"#383838\" height=\"12\" style=\"stroke: #F8F8F8; stroke-width: 1.5;\" width=\"12\" x=\"363\" y=\"85.5\"/><!--MD5=[e865e4d8466476a3afeba573dcc031de]\n",
       "@startuml\r\n",
       "skinparam ranksep 8\r\n",
       " skinparam monochrome true\r\n",
       "skinparam classbackgroundcolor white\r\n",
       "skinparam shadowing false\r\n",
       "skinparam wrapWidth 300\r\n",
       "hide circle\r\n",
       "\r\n",
       "rec def \"Focus\" as E1  <<(T,blue)action def>> [[psysml:44676d48-2ba6-47f9-b761-758fcbe31dbd ]] {\r\n",
       "portout \"xrsl\" as E2  [[psysml:7285223f-23e3-4ded-a1a3-c8dbe746ff9d ]] \r\n",
       "}\r\n",
       "\r\n",
       "rec def \"Shoot\" as E3  <<(T,blue)action def>> [[psysml:d9adf687-8d42-42d3-b1b5-8b6413ee0fad ]] {\r\n",
       "portin \"xsf\" as E4  [[psysml:3f6601e8-74ad-4acc-b654-2e93fe2ad4c3 ]] \r\n",
       "}\r\n",
       "\r\n",
       "rec usage \"takePicture\" as E5  <<(T,blue)action>> [[psysml:704c53cf-e737-43c7-aaa6-afd6aa41e73e ]] {\r\n",
       "rec usage \"focus\" as E6  <<(T,blue)action>> [[psysml:247459c4-dc1c-41f3-9bbd-2210d0a14144 ]] {\r\n",
       "portout \"$result\" as E7  [[psysml:d24c4944-7685-4e9e-b1e9-aa0857e67b68 ]] \r\n",
       "portout \"xrsl\" as E8  [[psysml:a9b63f0e-a7c1-4470-82ae-da9c74073d16 ]] \r\n",
       "}\r\n",
       "\r\n",
       "rec usage \"shoot\" as E9  <<(T,blue)action>> [[psysml:d7e0c4ce-9a2d-4e4d-8f17-58d415aecc73 ]] {\r\n",
       "portout \"$result\" as E10  [[psysml:edaf4370-9fef-4792-934f-b7a89f5913cc ]] \r\n",
       "portin \"xsf\" as E11  [[psysml:1ee0e316-c080-4a1b-aa8d-122e3ae24dab ]] \r\n",
       "}\r\n",
       "\r\n",
       "}\r\n",
       "\r\n",
       "@enduml\r\n",
       "\n",
       "PlantUML version 1.2020.13(Sat Jun 13 12:26:38 UTC 2020)\n",
       "(EPL source distribution)\n",
       "Java Runtime: OpenJDK Runtime Environment\n",
       "JVM: OpenJDK 64-Bit Server VM\n",
       "Default Encoding: UTF-8\n",
       "Language: en\n",
       "Country: null\n",
       "--></g></svg>"
      ]
     },
     "execution_count": 6,
     "metadata": {},
     "output_type": "execute_result"
    }
   ],
   "source": [
    "%viz --style=\"COMPTREE\" --view=\"Action\" \"PictureTaking\""
   ]
  },
  {
   "cell_type": "code",
   "execution_count": 7,
   "id": "599a540b",
   "metadata": {
    "execution": {
     "iopub.execute_input": "2021-04-20T07:32:00.305970Z",
     "iopub.status.busy": "2021-04-20T07:32:00.305103Z",
     "iopub.status.idle": "2021-04-20T07:32:00.405293Z",
     "shell.execute_reply": "2021-04-20T07:32:00.403444Z"
    }
   },
   "outputs": [
    {
     "data": {
      "image/svg+xml": [
       "<?xml version=\"1.0\" encoding=\"UTF-8\" standalone=\"no\"?><svg xmlns=\"http://www.w3.org/2000/svg\" xmlns:xlink=\"http://www.w3.org/1999/xlink\" contentScriptType=\"application/ecmascript\" contentStyleType=\"text/css\" height=\"452px\" preserveAspectRatio=\"none\" style=\"width:278px;height:452px;\" version=\"1.1\" viewBox=\"0 0 278 452\" width=\"278px\" zoomAndPan=\"magnify\"><defs/><g><!--MD5=[fbc87193dbaf4d95561dea2c320d4a47]\n",
       "cluster E1--><a href=\"psysml:14e6fe4c-a4d9-4c34-a316-9cbabb101fb1\" target=\"_top\" title=\"psysml:14e6fe4c-a4d9-4c34-a316-9cbabb101fb1\" xlink:actuate=\"onRequest\" xlink:href=\"psysml:14e6fe4c-a4d9-4c34-a316-9cbabb101fb1\" xlink:show=\"new\" xlink:title=\"psysml:14e6fe4c-a4d9-4c34-a316-9cbabb101fb1\" xlink:type=\"simple\"><polygon fill=\"#FFFFFF\" points=\"16,6,130,6,137,28.2969,256,28.2969,256,440,16,440,16,6\" style=\"stroke: #000000; stroke-width: 1.5;\"/><line style=\"stroke: #000000; stroke-width: 1.5;\" x1=\"16\" x2=\"137\" y1=\"28.2969\" y2=\"28.2969\"/><text fill=\"#000000\" font-family=\"sans-serif\" font-size=\"14\" font-weight=\"bold\" lengthAdjust=\"spacingAndGlyphs\" textLength=\"108\" x=\"20\" y=\"20.9951\">PictureTaking</text></a><!--MD5=[b4997ac47864f28c2f74865a473b2911]\n",
       "class E2--><a href=\"psysml:9a8bab7b-7078-4a6b-add3-8a1328b0c2d6\" target=\"_top\" title=\"psysml:9a8bab7b-7078-4a6b-add3-8a1328b0c2d6\" xlink:actuate=\"onRequest\" xlink:href=\"psysml:9a8bab7b-7078-4a6b-add3-8a1328b0c2d6\" xlink:show=\"new\" xlink:title=\"psysml:9a8bab7b-7078-4a6b-add3-8a1328b0c2d6\" xlink:type=\"simple\"><rect fill=\"#FFFFFF\" height=\"45.9375\" id=\"E2\" style=\"stroke: #383838; stroke-width: 1.5;\" width=\"66\" x=\"103\" y=\"378\"/><text fill=\"#000000\" font-family=\"sans-serif\" font-size=\"12\" font-style=\"italic\" lengthAdjust=\"spacingAndGlyphs\" textLength=\"64\" x=\"104\" y=\"394.1387\">«part def»</text><text fill=\"#000000\" font-family=\"sans-serif\" font-size=\"12\" lengthAdjust=\"spacingAndGlyphs\" textLength=\"58\" x=\"107\" y=\"408.1074\">Exposure</text><line style=\"stroke: #383838; stroke-width: 1.5;\" x1=\"104\" x2=\"168\" y1=\"415.9375\" y2=\"415.9375\"/></a><!--MD5=[09b614a08d8cba4a07c9adeb5e0fee81]\n",
       "class E3--><a href=\"psysml:44676d48-2ba6-47f9-b761-758fcbe31dbd\" target=\"_top\" title=\"psysml:44676d48-2ba6-47f9-b761-758fcbe31dbd\" xlink:actuate=\"onRequest\" xlink:href=\"psysml:44676d48-2ba6-47f9-b761-758fcbe31dbd\" xlink:show=\"new\" xlink:title=\"psysml:44676d48-2ba6-47f9-b761-758fcbe31dbd\" xlink:type=\"simple\"><rect fill=\"#FFFFFF\" height=\"45.9375\" id=\"E3\" style=\"stroke: #383838; stroke-width: 1.5;\" width=\"79\" x=\"38.5\" y=\"255\"/><text fill=\"#000000\" font-family=\"sans-serif\" font-size=\"12\" font-style=\"italic\" lengthAdjust=\"spacingAndGlyphs\" textLength=\"77\" x=\"39.5\" y=\"271.1387\">«action def»</text><text fill=\"#000000\" font-family=\"sans-serif\" font-size=\"12\" lengthAdjust=\"spacingAndGlyphs\" textLength=\"37\" x=\"59.5\" y=\"285.1074\">Focus</text><line style=\"stroke: #383838; stroke-width: 1.5;\" x1=\"39.5\" x2=\"116.5\" y1=\"292.9375\" y2=\"292.9375\"/></a><!--MD5=[ebbe1d658d1005bcc118a6aa81145e00]\n",
       "class E4--><a href=\"psysml:d9adf687-8d42-42d3-b1b5-8b6413ee0fad\" target=\"_top\" title=\"psysml:d9adf687-8d42-42d3-b1b5-8b6413ee0fad\" xlink:actuate=\"onRequest\" xlink:href=\"psysml:d9adf687-8d42-42d3-b1b5-8b6413ee0fad\" xlink:show=\"new\" xlink:title=\"psysml:d9adf687-8d42-42d3-b1b5-8b6413ee0fad\" xlink:type=\"simple\"><rect fill=\"#FFFFFF\" height=\"45.9375\" id=\"E4\" style=\"stroke: #383838; stroke-width: 1.5;\" width=\"79\" x=\"154.5\" y=\"255\"/><text fill=\"#000000\" font-family=\"sans-serif\" font-size=\"12\" font-style=\"italic\" lengthAdjust=\"spacingAndGlyphs\" textLength=\"77\" x=\"155.5\" y=\"271.1387\">«action def»</text><text fill=\"#000000\" font-family=\"sans-serif\" font-size=\"12\" lengthAdjust=\"spacingAndGlyphs\" textLength=\"37\" x=\"175.5\" y=\"285.1074\">Shoot</text><line style=\"stroke: #383838; stroke-width: 1.5;\" x1=\"155.5\" x2=\"232.5\" y1=\"292.9375\" y2=\"292.9375\"/></a><!--MD5=[270fce915f116d4de14055a7c1d9a0f3]\n",
       "class E5--><a href=\"psysml:704c53cf-e737-43c7-aaa6-afd6aa41e73e\" target=\"_top\" title=\"psysml:704c53cf-e737-43c7-aaa6-afd6aa41e73e\" xlink:actuate=\"onRequest\" xlink:href=\"psysml:704c53cf-e737-43c7-aaa6-afd6aa41e73e\" xlink:show=\"new\" xlink:title=\"psysml:704c53cf-e737-43c7-aaa6-afd6aa41e73e\" xlink:type=\"simple\"><rect fill=\"#FFFFFF\" height=\"45.9375\" id=\"E5\" rx=\"10\" ry=\"10\" style=\"stroke: #383838; stroke-width: 1.5;\" width=\"78\" x=\"96\" y=\"41\"/><text fill=\"#000000\" font-family=\"sans-serif\" font-size=\"12\" font-style=\"italic\" lengthAdjust=\"spacingAndGlyphs\" textLength=\"53\" x=\"108.5\" y=\"57.1387\">«action»</text><text fill=\"#000000\" font-family=\"sans-serif\" font-size=\"12\" lengthAdjust=\"spacingAndGlyphs\" textLength=\"72\" x=\"99\" y=\"71.1074\">takePicture</text><line style=\"stroke: #383838; stroke-width: 1.5;\" x1=\"97\" x2=\"173\" y1=\"78.9375\" y2=\"78.9375\"/></a><!--MD5=[60a26617385b1d2d0262a64233df1f8d]\n",
       "class E6--><a href=\"psysml:247459c4-dc1c-41f3-9bbd-2210d0a14144\" target=\"_top\" title=\"psysml:247459c4-dc1c-41f3-9bbd-2210d0a14144\" xlink:actuate=\"onRequest\" xlink:href=\"psysml:247459c4-dc1c-41f3-9bbd-2210d0a14144\" xlink:show=\"new\" xlink:title=\"psysml:247459c4-dc1c-41f3-9bbd-2210d0a14144\" xlink:type=\"simple\"><rect fill=\"#FFFFFF\" height=\"45.9375\" id=\"E6\" rx=\"10\" ry=\"10\" style=\"stroke: #383838; stroke-width: 1.5;\" width=\"85\" x=\"32.5\" y=\"148\"/><text fill=\"#000000\" font-family=\"sans-serif\" font-size=\"12\" font-style=\"italic\" lengthAdjust=\"spacingAndGlyphs\" textLength=\"53\" x=\"48.5\" y=\"164.1387\">«action»</text><text fill=\"#000000\" font-family=\"sans-serif\" font-size=\"12\" lengthAdjust=\"spacingAndGlyphs\" textLength=\"79\" x=\"35.5\" y=\"178.1074\">focus: Focus</text><line style=\"stroke: #383838; stroke-width: 1.5;\" x1=\"33.5\" x2=\"116.5\" y1=\"185.9375\" y2=\"185.9375\"/></a><!--MD5=[2156ba9850f5573cc1fc38a6a4b2f02b]\n",
       "class E7--><a href=\"psysml:d7e0c4ce-9a2d-4e4d-8f17-58d415aecc73\" target=\"_top\" title=\"psysml:d7e0c4ce-9a2d-4e4d-8f17-58d415aecc73\" xlink:actuate=\"onRequest\" xlink:href=\"psysml:d7e0c4ce-9a2d-4e4d-8f17-58d415aecc73\" xlink:show=\"new\" xlink:title=\"psysml:d7e0c4ce-9a2d-4e4d-8f17-58d415aecc73\" xlink:type=\"simple\"><rect fill=\"#FFFFFF\" height=\"45.9375\" id=\"E7\" rx=\"10\" ry=\"10\" style=\"stroke: #383838; stroke-width: 1.5;\" width=\"87\" x=\"152.5\" y=\"148\"/><text fill=\"#000000\" font-family=\"sans-serif\" font-size=\"12\" font-style=\"italic\" lengthAdjust=\"spacingAndGlyphs\" textLength=\"53\" x=\"169.5\" y=\"164.1387\">«action»</text><text fill=\"#000000\" font-family=\"sans-serif\" font-size=\"12\" lengthAdjust=\"spacingAndGlyphs\" textLength=\"81\" x=\"155.5\" y=\"178.1074\">shoot: Shoot</text><line style=\"stroke: #383838; stroke-width: 1.5;\" x1=\"153.5\" x2=\"238.5\" y1=\"185.9375\" y2=\"185.9375\"/></a><!--MD5=[b900ca4392aad7a68aec1e9245e10ab9]\n",
       "reverse link E3 to E2--><a href=\"psysml:7285223f-23e3-4ded-a1a3-c8dbe746ff9d\" target=\"_top\" title=\"psysml:7285223f-23e3-4ded-a1a3-c8dbe746ff9d\" xlink:actuate=\"onRequest\" xlink:href=\"psysml:7285223f-23e3-4ded-a1a3-c8dbe746ff9d\" xlink:show=\"new\" xlink:title=\"psysml:7285223f-23e3-4ded-a1a3-c8dbe746ff9d\" xlink:type=\"simple\"><path d=\"M94.32,313.04 C104.29,333.84 116.74,359.82 125.43,377.95 \" fill=\"none\" id=\"E3&lt;-E2\" style=\"stroke: #383838; stroke-width: 1.0;\"/><polygon fill=\"#FFFFFF\" points=\"88.64,301.19,87.6227,308.329,93.8212,312.0138,94.8385,304.8748,88.64,301.19\" style=\"stroke: #383838; stroke-width: 1.0;\"/><text fill=\"#000000\" font-family=\"sans-serif\" font-size=\"13\" lengthAdjust=\"spacingAndGlyphs\" textLength=\"22\" x=\"111\" y=\"344.0669\">xrsl</text></a><!--MD5=[ddeed8deb2209213b62e6cfabaa108b2]\n",
       "reverse link E4 to E2--><a href=\"psysml:3f6601e8-74ad-4acc-b654-2e93fe2ad4c3\" target=\"_top\" title=\"psysml:3f6601e8-74ad-4acc-b654-2e93fe2ad4c3\" xlink:actuate=\"onRequest\" xlink:href=\"psysml:3f6601e8-74ad-4acc-b654-2e93fe2ad4c3\" xlink:show=\"new\" xlink:title=\"psysml:3f6601e8-74ad-4acc-b654-2e93fe2ad4c3\" xlink:type=\"simple\"><path d=\"M177.68,313.04 C167.71,333.84 155.26,359.82 146.57,377.95 \" fill=\"none\" id=\"E4&lt;-E2\" style=\"stroke: #383838; stroke-width: 1.0;\"/><polygon fill=\"#FFFFFF\" points=\"183.36,301.19,177.1615,304.8748,178.1788,312.0138,184.3773,308.329,183.36,301.19\" style=\"stroke: #383838; stroke-width: 1.0;\"/><text fill=\"#000000\" font-family=\"sans-serif\" font-size=\"13\" lengthAdjust=\"spacingAndGlyphs\" textLength=\"18\" x=\"169\" y=\"344.0669\">xsf</text></a><!--MD5=[85d356282659285ab4b2cfe2f634dd2b]\n",
       "reverse link E5 to E6--><a href=\"psysml:b27ee466-0f4c-4005-a5ef-b2dd2df76771\" target=\"_top\" title=\"psysml:b27ee466-0f4c-4005-a5ef-b2dd2df76771\" xlink:actuate=\"onRequest\" xlink:href=\"psysml:b27ee466-0f4c-4005-a5ef-b2dd2df76771\" xlink:show=\"new\" xlink:title=\"psysml:b27ee466-0f4c-4005-a5ef-b2dd2df76771\" xlink:type=\"simple\"><path d=\"M115.79,98.62 C106.62,114.66 95.91,133.4 87.77,147.66 \" fill=\"none\" id=\"E5&lt;-E6\" style=\"stroke: #383838; stroke-width: 1.0;\"/><polygon fill=\"#383838\" points=\"122.42,87.01,115.9684,90.2314,116.4607,97.4257,122.9122,94.2043,122.42,87.01\" style=\"stroke: #383838; stroke-width: 1.0;\"/><text fill=\"#000000\" font-family=\"sans-serif\" font-size=\"13\" lengthAdjust=\"spacingAndGlyphs\" textLength=\"8\" x=\"82.0173\" y=\"136.8492\">1</text></a><!--MD5=[a717450b82c80b9240a525fa862496af]\n",
       "link E6 to E3--><a href=\"psysml:5a2a5603-bc94-4298-a763-49fe520ca5bc\" target=\"_top\" title=\"psysml:5a2a5603-bc94-4298-a763-49fe520ca5bc\" xlink:actuate=\"onRequest\" xlink:href=\"psysml:5a2a5603-bc94-4298-a763-49fe520ca5bc\" xlink:show=\"new\" xlink:title=\"psysml:5a2a5603-bc94-4298-a763-49fe520ca5bc\" xlink:type=\"simple\"><path d=\"M75.63,194.01 C75.96,205.69 76.38,220.46 76.78,234.28 \" fill=\"none\" id=\"E6-&gt;E3\" style=\"stroke: #383838; stroke-width: 1.0;\"/><polygon fill=\"#FFFFFF\" points=\"77.36,254.66,69.8202,235.8677,83.8145,235.4678,77.36,254.66\" style=\"stroke: #383838; stroke-width: 1.0;\"/><ellipse cx=\"71.6566\" cy=\"230.1129\" fill=\"#383838\" rx=\"2\" ry=\"2\" style=\"stroke: #383838; stroke-width: 1.0;\"/><ellipse cx=\"81.6525\" cy=\"229.8273\" fill=\"#383838\" rx=\"2\" ry=\"2\" style=\"stroke: #383838; stroke-width: 1.0;\"/></a><!--MD5=[452b418e7f8a40397a49b8c0a78acc5b]\n",
       "reverse link E5 to E7--><a href=\"psysml:aaa4df86-e408-4ec8-a2fe-61e5d0511306\" target=\"_top\" title=\"psysml:aaa4df86-e408-4ec8-a2fe-61e5d0511306\" xlink:actuate=\"onRequest\" xlink:href=\"psysml:aaa4df86-e408-4ec8-a2fe-61e5d0511306\" xlink:show=\"new\" xlink:title=\"psysml:aaa4df86-e408-4ec8-a2fe-61e5d0511306\" xlink:type=\"simple\"><path d=\"M154.53,98.62 C163.85,114.66 174.74,133.4 183.02,147.66 \" fill=\"none\" id=\"E5&lt;-E7\" style=\"stroke: #383838; stroke-width: 1.0;\"/><polygon fill=\"#383838\" points=\"147.79,87.01,147.3439,94.2073,153.8159,97.3873,154.2621,90.19,147.79,87.01\" style=\"stroke: #383838; stroke-width: 1.0;\"/><text fill=\"#000000\" font-family=\"sans-serif\" font-size=\"13\" lengthAdjust=\"spacingAndGlyphs\" textLength=\"8\" x=\"170.6689\" y=\"136.8492\">1</text></a><!--MD5=[6bdd27f9905911a7e892a3dc65cf6b7c]\n",
       "link E7 to E4--><a href=\"psysml:f48d95ee-d7b3-4518-8228-9030b5bbf5ab\" target=\"_top\" title=\"psysml:f48d95ee-d7b3-4518-8228-9030b5bbf5ab\" xlink:actuate=\"onRequest\" xlink:href=\"psysml:f48d95ee-d7b3-4518-8228-9030b5bbf5ab\" xlink:show=\"new\" xlink:title=\"psysml:f48d95ee-d7b3-4518-8228-9030b5bbf5ab\" xlink:type=\"simple\"><path d=\"M195.58,194.01 C195.36,205.69 195.08,220.46 194.81,234.28 \" fill=\"none\" id=\"E7-&gt;E4\" style=\"stroke: #383838; stroke-width: 1.0;\"/><polygon fill=\"#FFFFFF\" points=\"194.43,254.66,187.784,235.5333,201.7816,235.7933,194.43,254.66\" style=\"stroke: #383838; stroke-width: 1.0;\"/><ellipse cx=\"189.8895\" cy=\"229.8714\" fill=\"#383838\" rx=\"2\" ry=\"2\" style=\"stroke: #383838; stroke-width: 1.0;\"/><ellipse cx=\"199.8878\" cy=\"230.0571\" fill=\"#383838\" rx=\"2\" ry=\"2\" style=\"stroke: #383838; stroke-width: 1.0;\"/></a><!--MD5=[b50a9af850d1f2bc510afde1bbe100c8]\n",
       "@startuml\r\n",
       " skinparam monochrome true\r\n",
       "skinparam classbackgroundcolor white\r\n",
       "skinparam shadowing false\r\n",
       "skinparam wrapWidth 300\r\n",
       "hide circle\r\n",
       "\r\n",
       "package \"PictureTaking\" as E1  [[psysml:14e6fe4c-a4d9-4c34-a316-9cbabb101fb1 ]]  {\r\n",
       "comp def \"Exposure\" as E2  <<(T,blue)part def>> [[psysml:9a8bab7b-7078-4a6b-add3-8a1328b0c2d6 ]] {\r\n",
       "}\r\n",
       "comp def \"Focus\" as E3  <<(T,blue)action def>> [[psysml:44676d48-2ba6-47f9-b761-758fcbe31dbd ]] {\r\n",
       "}\r\n",
       "comp def \"Shoot\" as E4  <<(T,blue)action def>> [[psysml:d9adf687-8d42-42d3-b1b5-8b6413ee0fad ]] {\r\n",
       "}\r\n",
       "comp usage \"takePicture\" as E5  <<(T,blue)action>> [[psysml:704c53cf-e737-43c7-aaa6-afd6aa41e73e ]] {\r\n",
       "}\r\n",
       "comp usage \"focus: Focus\" as E6  <<(T,blue)action>> [[psysml:247459c4-dc1c-41f3-9bbd-2210d0a14144 ]] {\r\n",
       "}\r\n",
       "comp usage \"shoot: Shoot\" as E7  <<(T,blue)action>> [[psysml:d7e0c4ce-9a2d-4e4d-8f17-58d415aecc73 ]] {\r\n",
       "}\r\n",
       "E3 o- - E2 [[psysml:7285223f-23e3-4ded-a1a3-c8dbe746ff9d ]] : xrsl\r\n",
       "E4 o- - E2 [[psysml:3f6601e8-74ad-4acc-b654-2e93fe2ad4c3 ]] : xsf\r\n",
       "E5 *- - \"1\"E6 [[psysml:b27ee466-0f4c-4005-a5ef-b2dd2df76771 ]] \r\n",
       "E6 - -:|> E3 [[psysml:5a2a5603-bc94-4298-a763-49fe520ca5bc ]] \r\n",
       "E5 *- - \"1\"E7 [[psysml:aaa4df86-e408-4ec8-a2fe-61e5d0511306 ]] \r\n",
       "E7 - -:|> E4 [[psysml:f48d95ee-d7b3-4518-8228-9030b5bbf5ab ]] \r\n",
       "}\r\n",
       "@enduml\r\n",
       "\n",
       "PlantUML version 1.2020.13(Sat Jun 13 12:26:38 UTC 2020)\n",
       "(EPL source distribution)\n",
       "Java Runtime: OpenJDK Runtime Environment\n",
       "JVM: OpenJDK 64-Bit Server VM\n",
       "Default Encoding: UTF-8\n",
       "Language: en\n",
       "Country: null\n",
       "--></g></svg>"
      ]
     },
     "execution_count": 7,
     "metadata": {},
     "output_type": "execute_result"
    }
   ],
   "source": [
    "%viz --style=\"COMPTREE\" --view=\"Sequence\" \"PictureTaking\""
   ]
  },
  {
   "cell_type": "code",
   "execution_count": 8,
   "id": "29f8ad82",
   "metadata": {
    "execution": {
     "iopub.execute_input": "2021-04-20T07:32:00.457009Z",
     "iopub.status.busy": "2021-04-20T07:32:00.456151Z",
     "iopub.status.idle": "2021-04-20T07:32:00.562738Z",
     "shell.execute_reply": "2021-04-20T07:32:00.563365Z"
    }
   },
   "outputs": [
    {
     "data": {
      "image/svg+xml": [
       "<?xml version=\"1.0\" encoding=\"UTF-8\" standalone=\"no\"?><svg xmlns=\"http://www.w3.org/2000/svg\" xmlns:xlink=\"http://www.w3.org/1999/xlink\" contentScriptType=\"application/ecmascript\" contentStyleType=\"text/css\" height=\"455px\" preserveAspectRatio=\"none\" style=\"width:700px;height:455px;\" version=\"1.1\" viewBox=\"0 0 700 455\" width=\"700px\" zoomAndPan=\"magnify\"><defs/><g><!--MD5=[fbc87193dbaf4d95561dea2c320d4a47]\n",
       "cluster E1--><a href=\"psysml:14e6fe4c-a4d9-4c34-a316-9cbabb101fb1\" target=\"_top\" title=\"psysml:14e6fe4c-a4d9-4c34-a316-9cbabb101fb1\" xlink:actuate=\"onRequest\" xlink:href=\"psysml:14e6fe4c-a4d9-4c34-a316-9cbabb101fb1\" xlink:show=\"new\" xlink:title=\"psysml:14e6fe4c-a4d9-4c34-a316-9cbabb101fb1\" xlink:type=\"simple\"><polygon fill=\"#FFFFFF\" points=\"16,6,130,6,137,28.2969,678,28.2969,678,443.5,16,443.5,16,6\" style=\"stroke: #000000; stroke-width: 1.5;\"/><line style=\"stroke: #000000; stroke-width: 1.5;\" x1=\"16\" x2=\"137\" y1=\"28.2969\" y2=\"28.2969\"/><text fill=\"#000000\" font-family=\"sans-serif\" font-size=\"14\" font-weight=\"bold\" lengthAdjust=\"spacingAndGlyphs\" textLength=\"108\" x=\"20\" y=\"20.9951\">PictureTaking</text></a><!--MD5=[d5e69f78d87373223dbae638b30a9c99]\n",
       "cluster E3--><a href=\"psysml:44676d48-2ba6-47f9-b761-758fcbe31dbd\" target=\"_top\" title=\"psysml:44676d48-2ba6-47f9-b761-758fcbe31dbd\" xlink:actuate=\"onRequest\" xlink:href=\"psysml:44676d48-2ba6-47f9-b761-758fcbe31dbd\" xlink:show=\"new\" xlink:title=\"psysml:44676d48-2ba6-47f9-b761-758fcbe31dbd\" xlink:type=\"simple\"><rect fill=\"#FFFFFF\" height=\"217.5\" id=\"E3\" style=\"stroke: #383838; stroke-width: 1.5;\" width=\"134\" x=\"528\" y=\"100\"/><rect fill=\"#F8F8F8\" height=\"37.9375\" style=\"stroke: #383838; stroke-width: 1.5;\" width=\"134\" x=\"528\" y=\"100\"/><text fill=\"#000000\" font-family=\"sans-serif\" font-size=\"12\" font-style=\"italic\" lengthAdjust=\"spacingAndGlyphs\" textLength=\"77\" x=\"556.5\" y=\"116.1387\">«action def»</text><text fill=\"#000000\" font-family=\"sans-serif\" font-size=\"12\" lengthAdjust=\"spacingAndGlyphs\" textLength=\"37\" x=\"576.5\" y=\"130.1074\">Focus</text></a><!--MD5=[de5ec2e2e8f62f467e546659f5068c88]\n",
       "cluster E5--><a href=\"psysml:d9adf687-8d42-42d3-b1b5-8b6413ee0fad\" target=\"_top\" title=\"psysml:d9adf687-8d42-42d3-b1b5-8b6413ee0fad\" xlink:actuate=\"onRequest\" xlink:href=\"psysml:d9adf687-8d42-42d3-b1b5-8b6413ee0fad\" xlink:show=\"new\" xlink:title=\"psysml:d9adf687-8d42-42d3-b1b5-8b6413ee0fad\" xlink:type=\"simple\"><rect fill=\"#FFFFFF\" height=\"134\" id=\"E5\" style=\"stroke: #383838; stroke-width: 1.5;\" width=\"134\" x=\"386\" y=\"133.5\"/><rect fill=\"#F8F8F8\" height=\"37.9375\" style=\"stroke: #383838; stroke-width: 1.5;\" width=\"134\" x=\"386\" y=\"133.5\"/><text fill=\"#000000\" font-family=\"sans-serif\" font-size=\"12\" font-style=\"italic\" lengthAdjust=\"spacingAndGlyphs\" textLength=\"77\" x=\"414.5\" y=\"149.6387\">«action def»</text><text fill=\"#000000\" font-family=\"sans-serif\" font-size=\"12\" lengthAdjust=\"spacingAndGlyphs\" textLength=\"37\" x=\"434.5\" y=\"163.6074\">Shoot</text></a><!--MD5=[168fadf3d0c3fd93dd5d6da1b1d7ab76]\n",
       "cluster E7--><a href=\"psysml:704c53cf-e737-43c7-aaa6-afd6aa41e73e\" target=\"_top\" title=\"psysml:704c53cf-e737-43c7-aaa6-afd6aa41e73e\" xlink:actuate=\"onRequest\" xlink:href=\"psysml:704c53cf-e737-43c7-aaa6-afd6aa41e73e\" xlink:show=\"new\" xlink:title=\"psysml:704c53cf-e737-43c7-aaa6-afd6aa41e73e\" xlink:type=\"simple\"><rect fill=\"#FFFFFF\" height=\"370.5\" id=\"E7\" rx=\"10\" ry=\"10\" style=\"stroke: #383838; stroke-width: 1.5;\" width=\"256\" x=\"114\" y=\"49\"/><rect fill=\"#F8F8F8\" height=\"37.9375\" rx=\"10\" ry=\"10\" style=\"stroke: #F8F8F8; stroke-width: 1.5;\" width=\"256\" x=\"114\" y=\"49\"/><rect fill=\"#F8F8F8\" height=\"10\" style=\"stroke: #F8F8F8; stroke-width: 1.5;\" width=\"256\" x=\"114\" y=\"76.9375\"/><rect fill=\"none\" height=\"370.5\" id=\"E7\" rx=\"10\" ry=\"10\" style=\"stroke: #383838; stroke-width: 1.5;\" width=\"256\" x=\"114\" y=\"49\"/><text fill=\"#000000\" font-family=\"sans-serif\" font-size=\"12\" font-style=\"italic\" lengthAdjust=\"spacingAndGlyphs\" textLength=\"53\" x=\"215.5\" y=\"65.1387\">«action»</text><text fill=\"#000000\" font-family=\"sans-serif\" font-size=\"12\" lengthAdjust=\"spacingAndGlyphs\" textLength=\"72\" x=\"206\" y=\"79.1074\">takePicture</text><line style=\"stroke: #383838; stroke-width: 1.0;\" x1=\"114\" x2=\"370\" y1=\"86.9375\" y2=\"86.9375\"/></a><!--MD5=[55dfccfc6c49c2d10cd1bd2211a6c90c]\n",
       "cluster E8--><a href=\"psysml:247459c4-dc1c-41f3-9bbd-2210d0a14144\" target=\"_top\" title=\"psysml:247459c4-dc1c-41f3-9bbd-2210d0a14144\" xlink:actuate=\"onRequest\" xlink:href=\"psysml:247459c4-dc1c-41f3-9bbd-2210d0a14144\" xlink:show=\"new\" xlink:title=\"psysml:247459c4-dc1c-41f3-9bbd-2210d0a14144\" xlink:type=\"simple\"><rect fill=\"#FFFFFF\" height=\"217.5\" id=\"E8\" rx=\"10\" ry=\"10\" style=\"stroke: #383838; stroke-width: 1.5;\" width=\"83\" x=\"257\" y=\"100\"/><rect fill=\"#F8F8F8\" height=\"37.9375\" rx=\"10\" ry=\"10\" style=\"stroke: #F8F8F8; stroke-width: 1.5;\" width=\"83\" x=\"257\" y=\"100\"/><rect fill=\"#F8F8F8\" height=\"10\" style=\"stroke: #F8F8F8; stroke-width: 1.5;\" width=\"83\" x=\"257\" y=\"127.9375\"/><rect fill=\"none\" height=\"217.5\" id=\"E8\" rx=\"10\" ry=\"10\" style=\"stroke: #383838; stroke-width: 1.5;\" width=\"83\" x=\"257\" y=\"100\"/><text fill=\"#000000\" font-family=\"sans-serif\" font-size=\"12\" font-style=\"italic\" lengthAdjust=\"spacingAndGlyphs\" textLength=\"53\" x=\"272\" y=\"116.1387\">«action»</text><text fill=\"#000000\" font-family=\"sans-serif\" font-size=\"12\" lengthAdjust=\"spacingAndGlyphs\" textLength=\"34\" x=\"281.5\" y=\"130.1074\">focus</text><line style=\"stroke: #383838; stroke-width: 1.0;\" x1=\"257\" x2=\"340\" y1=\"137.9375\" y2=\"137.9375\"/></a><!--MD5=[917b9dd0c7eca3ee5f47219d1a84c0ad]\n",
       "cluster E11--><a href=\"psysml:d7e0c4ce-9a2d-4e4d-8f17-58d415aecc73\" target=\"_top\" title=\"psysml:d7e0c4ce-9a2d-4e4d-8f17-58d415aecc73\" xlink:actuate=\"onRequest\" xlink:href=\"psysml:d7e0c4ce-9a2d-4e4d-8f17-58d415aecc73\" xlink:show=\"new\" xlink:title=\"psysml:d7e0c4ce-9a2d-4e4d-8f17-58d415aecc73\" xlink:type=\"simple\"><rect fill=\"#FFFFFF\" height=\"256\" id=\"E11\" rx=\"10\" ry=\"10\" style=\"stroke: #383838; stroke-width: 1.5;\" width=\"74\" x=\"164\" y=\"133.5\"/><rect fill=\"#F8F8F8\" height=\"37.9375\" rx=\"10\" ry=\"10\" style=\"stroke: #F8F8F8; stroke-width: 1.5;\" width=\"74\" x=\"164\" y=\"133.5\"/><rect fill=\"#F8F8F8\" height=\"10\" style=\"stroke: #F8F8F8; stroke-width: 1.5;\" width=\"74\" x=\"164\" y=\"161.4375\"/><rect fill=\"none\" height=\"256\" id=\"E11\" rx=\"10\" ry=\"10\" style=\"stroke: #383838; stroke-width: 1.5;\" width=\"74\" x=\"164\" y=\"133.5\"/><text fill=\"#000000\" font-family=\"sans-serif\" font-size=\"12\" font-style=\"italic\" lengthAdjust=\"spacingAndGlyphs\" textLength=\"53\" x=\"174.5\" y=\"149.6387\">«action»</text><text fill=\"#000000\" font-family=\"sans-serif\" font-size=\"12\" lengthAdjust=\"spacingAndGlyphs\" textLength=\"36\" x=\"183\" y=\"163.6074\">shoot</text><line style=\"stroke: #383838; stroke-width: 1.0;\" x1=\"164\" x2=\"238\" y1=\"171.4375\" y2=\"171.4375\"/></a><!--MD5=[b4997ac47864f28c2f74865a473b2911]\n",
       "class E2--><a href=\"psysml:9a8bab7b-7078-4a6b-add3-8a1328b0c2d6\" target=\"_top\" title=\"psysml:9a8bab7b-7078-4a6b-add3-8a1328b0c2d6\" xlink:actuate=\"onRequest\" xlink:href=\"psysml:9a8bab7b-7078-4a6b-add3-8a1328b0c2d6\" xlink:show=\"new\" xlink:title=\"psysml:9a8bab7b-7078-4a6b-add3-8a1328b0c2d6\" xlink:type=\"simple\"><rect fill=\"#FFFFFF\" height=\"45.9375\" id=\"E2\" style=\"stroke: #383838; stroke-width: 1.5;\" width=\"66\" x=\"32\" y=\"110.5\"/><text fill=\"#000000\" font-family=\"sans-serif\" font-size=\"12\" font-style=\"italic\" lengthAdjust=\"spacingAndGlyphs\" textLength=\"64\" x=\"33\" y=\"126.6387\">«part def»</text><text fill=\"#000000\" font-family=\"sans-serif\" font-size=\"12\" lengthAdjust=\"spacingAndGlyphs\" textLength=\"58\" x=\"36\" y=\"140.6074\">Exposure</text><line style=\"stroke: #383838; stroke-width: 1.5;\" x1=\"33\" x2=\"97\" y1=\"148.4375\" y2=\"148.4375\"/></a><text fill=\"#000000\" font-family=\"sans-serif\" font-size=\"14\" lengthAdjust=\"spacingAndGlyphs\" textLength=\"23\" x=\"583.5\" y=\"336.4951\">xrsl</text><rect fill=\"#383838\" height=\"12\" style=\"stroke: #F8F8F8; stroke-width: 1.5;\" width=\"12\" x=\"589\" y=\"311.5\"/><text fill=\"#000000\" font-family=\"sans-serif\" font-size=\"14\" lengthAdjust=\"spacingAndGlyphs\" textLength=\"19\" x=\"443.5\" y=\"112.1982\">xsf</text><rect fill=\"#383838\" height=\"12\" style=\"stroke: #F8F8F8; stroke-width: 1.5;\" width=\"12\" x=\"447\" y=\"127.5\"/><text fill=\"#000000\" font-family=\"sans-serif\" font-size=\"14\" lengthAdjust=\"spacingAndGlyphs\" textLength=\"48\" x=\"251\" y=\"336.4951\">$result</text><rect fill=\"#383838\" height=\"12\" style=\"stroke: #F8F8F8; stroke-width: 1.5;\" width=\"12\" x=\"269\" y=\"311.5\"/><text fill=\"#000000\" font-family=\"sans-serif\" font-size=\"14\" lengthAdjust=\"spacingAndGlyphs\" textLength=\"23\" x=\"310.5\" y=\"336.4951\">xrsl</text><rect fill=\"#383838\" height=\"12\" style=\"stroke: #F8F8F8; stroke-width: 1.5;\" width=\"12\" x=\"316\" y=\"311.5\"/><text fill=\"#000000\" font-family=\"sans-serif\" font-size=\"14\" lengthAdjust=\"spacingAndGlyphs\" textLength=\"48\" x=\"158\" y=\"408.4951\">$result</text><rect fill=\"#383838\" height=\"12\" style=\"stroke: #F8F8F8; stroke-width: 1.5;\" width=\"12\" x=\"176\" y=\"383.5\"/><text fill=\"#000000\" font-family=\"sans-serif\" font-size=\"14\" lengthAdjust=\"spacingAndGlyphs\" textLength=\"19\" x=\"174.5\" y=\"112.1982\">xsf</text><rect fill=\"#383838\" height=\"12\" style=\"stroke: #F8F8F8; stroke-width: 1.5;\" width=\"12\" x=\"178\" y=\"127.5\"/><!--MD5=[c71046f435d0f5c19e475f80b84ad398]\n",
       "@startuml\r\n",
       " skinparam monochrome true\r\n",
       "skinparam classbackgroundcolor white\r\n",
       "skinparam shadowing false\r\n",
       "skinparam wrapWidth 300\r\n",
       "hide circle\r\n",
       "\r\n",
       "package \"PictureTaking\" as E1  [[psysml:14e6fe4c-a4d9-4c34-a316-9cbabb101fb1 ]]  {\r\n",
       "comp def \"Exposure\" as E2  <<(T,blue)part def>> [[psysml:9a8bab7b-7078-4a6b-add3-8a1328b0c2d6 ]] {\r\n",
       "}\r\n",
       "rec def \"Focus\" as E3  <<(T,blue)action def>> [[psysml:44676d48-2ba6-47f9-b761-758fcbe31dbd ]] {\r\n",
       "portout \"xrsl\" as E4  [[psysml:7285223f-23e3-4ded-a1a3-c8dbe746ff9d ]] \r\n",
       "}\r\n",
       "\r\n",
       "rec def \"Shoot\" as E5  <<(T,blue)action def>> [[psysml:d9adf687-8d42-42d3-b1b5-8b6413ee0fad ]] {\r\n",
       "portin \"xsf\" as E6  [[psysml:3f6601e8-74ad-4acc-b654-2e93fe2ad4c3 ]] \r\n",
       "}\r\n",
       "\r\n",
       "rec usage \"takePicture\" as E7  <<(T,blue)action>> [[psysml:704c53cf-e737-43c7-aaa6-afd6aa41e73e ]] {\r\n",
       "rec usage \"focus\" as E8  <<(T,blue)action>> [[psysml:247459c4-dc1c-41f3-9bbd-2210d0a14144 ]] {\r\n",
       "portout \"$result\" as E9  [[psysml:d24c4944-7685-4e9e-b1e9-aa0857e67b68 ]] \r\n",
       "portout \"xrsl\" as E10  [[psysml:a9b63f0e-a7c1-4470-82ae-da9c74073d16 ]] \r\n",
       "}\r\n",
       "\r\n",
       "rec usage \"shoot\" as E11  <<(T,blue)action>> [[psysml:d7e0c4ce-9a2d-4e4d-8f17-58d415aecc73 ]] {\r\n",
       "portout \"$result\" as E12  [[psysml:edaf4370-9fef-4792-934f-b7a89f5913cc ]] \r\n",
       "portin \"xsf\" as E13  [[psysml:1ee0e316-c080-4a1b-aa8d-122e3ae24dab ]] \r\n",
       "}\r\n",
       "\r\n",
       "}\r\n",
       "\r\n",
       "}\r\n",
       "@enduml\r\n",
       "\n",
       "PlantUML version 1.2020.13(Sat Jun 13 12:26:38 UTC 2020)\n",
       "(EPL source distribution)\n",
       "Java Runtime: OpenJDK Runtime Environment\n",
       "JVM: OpenJDK 64-Bit Server VM\n",
       "Default Encoding: UTF-8\n",
       "Language: en\n",
       "Country: null\n",
       "--></g></svg>"
      ]
     },
     "execution_count": 8,
     "metadata": {},
     "output_type": "execute_result"
    }
   ],
   "source": [
    "%viz --style=\"COMPTREE\" --view=\"MIXED\" \"PictureTaking\""
   ]
  },
  {
   "cell_type": "code",
   "execution_count": 9,
   "id": "05f3b923",
   "metadata": {
    "execution": {
     "iopub.execute_input": "2021-04-20T07:32:00.613885Z",
     "iopub.status.busy": "2021-04-20T07:32:00.613210Z",
     "iopub.status.idle": "2021-04-20T07:32:00.692419Z",
     "shell.execute_reply": "2021-04-20T07:32:00.691945Z"
    }
   },
   "outputs": [
    {
     "data": {
      "image/svg+xml": [
       "<?xml version=\"1.0\" encoding=\"UTF-8\" standalone=\"no\"?><svg xmlns=\"http://www.w3.org/2000/svg\" xmlns:xlink=\"http://www.w3.org/1999/xlink\" contentScriptType=\"application/ecmascript\" contentStyleType=\"text/css\" height=\"455px\" preserveAspectRatio=\"none\" style=\"width:700px;height:455px;\" version=\"1.1\" viewBox=\"0 0 700 455\" width=\"700px\" zoomAndPan=\"magnify\"><defs/><g><!--MD5=[fbc87193dbaf4d95561dea2c320d4a47]\n",
       "cluster E1--><a href=\"psysml:14e6fe4c-a4d9-4c34-a316-9cbabb101fb1\" target=\"_top\" title=\"psysml:14e6fe4c-a4d9-4c34-a316-9cbabb101fb1\" xlink:actuate=\"onRequest\" xlink:href=\"psysml:14e6fe4c-a4d9-4c34-a316-9cbabb101fb1\" xlink:show=\"new\" xlink:title=\"psysml:14e6fe4c-a4d9-4c34-a316-9cbabb101fb1\" xlink:type=\"simple\"><polygon fill=\"#FFFFFF\" points=\"16,6,130,6,137,28.2969,678,28.2969,678,443.5,16,443.5,16,6\" style=\"stroke: #000000; stroke-width: 1.5;\"/><line style=\"stroke: #000000; stroke-width: 1.5;\" x1=\"16\" x2=\"137\" y1=\"28.2969\" y2=\"28.2969\"/><text fill=\"#000000\" font-family=\"sans-serif\" font-size=\"14\" font-weight=\"bold\" lengthAdjust=\"spacingAndGlyphs\" textLength=\"108\" x=\"20\" y=\"20.9951\">PictureTaking</text></a><!--MD5=[d5e69f78d87373223dbae638b30a9c99]\n",
       "cluster E3--><a href=\"psysml:44676d48-2ba6-47f9-b761-758fcbe31dbd\" target=\"_top\" title=\"psysml:44676d48-2ba6-47f9-b761-758fcbe31dbd\" xlink:actuate=\"onRequest\" xlink:href=\"psysml:44676d48-2ba6-47f9-b761-758fcbe31dbd\" xlink:show=\"new\" xlink:title=\"psysml:44676d48-2ba6-47f9-b761-758fcbe31dbd\" xlink:type=\"simple\"><rect fill=\"#FFFFFF\" height=\"217.5\" id=\"E3\" style=\"stroke: #383838; stroke-width: 1.5;\" width=\"134\" x=\"528\" y=\"100\"/><rect fill=\"#F8F8F8\" height=\"37.9375\" style=\"stroke: #383838; stroke-width: 1.5;\" width=\"134\" x=\"528\" y=\"100\"/><text fill=\"#000000\" font-family=\"sans-serif\" font-size=\"12\" font-style=\"italic\" lengthAdjust=\"spacingAndGlyphs\" textLength=\"77\" x=\"556.5\" y=\"116.1387\">«action def»</text><text fill=\"#000000\" font-family=\"sans-serif\" font-size=\"12\" lengthAdjust=\"spacingAndGlyphs\" textLength=\"37\" x=\"576.5\" y=\"130.1074\">Focus</text></a><!--MD5=[de5ec2e2e8f62f467e546659f5068c88]\n",
       "cluster E5--><a href=\"psysml:d9adf687-8d42-42d3-b1b5-8b6413ee0fad\" target=\"_top\" title=\"psysml:d9adf687-8d42-42d3-b1b5-8b6413ee0fad\" xlink:actuate=\"onRequest\" xlink:href=\"psysml:d9adf687-8d42-42d3-b1b5-8b6413ee0fad\" xlink:show=\"new\" xlink:title=\"psysml:d9adf687-8d42-42d3-b1b5-8b6413ee0fad\" xlink:type=\"simple\"><rect fill=\"#FFFFFF\" height=\"134\" id=\"E5\" style=\"stroke: #383838; stroke-width: 1.5;\" width=\"134\" x=\"386\" y=\"133.5\"/><rect fill=\"#F8F8F8\" height=\"37.9375\" style=\"stroke: #383838; stroke-width: 1.5;\" width=\"134\" x=\"386\" y=\"133.5\"/><text fill=\"#000000\" font-family=\"sans-serif\" font-size=\"12\" font-style=\"italic\" lengthAdjust=\"spacingAndGlyphs\" textLength=\"77\" x=\"414.5\" y=\"149.6387\">«action def»</text><text fill=\"#000000\" font-family=\"sans-serif\" font-size=\"12\" lengthAdjust=\"spacingAndGlyphs\" textLength=\"37\" x=\"434.5\" y=\"163.6074\">Shoot</text></a><!--MD5=[168fadf3d0c3fd93dd5d6da1b1d7ab76]\n",
       "cluster E7--><a href=\"psysml:704c53cf-e737-43c7-aaa6-afd6aa41e73e\" target=\"_top\" title=\"psysml:704c53cf-e737-43c7-aaa6-afd6aa41e73e\" xlink:actuate=\"onRequest\" xlink:href=\"psysml:704c53cf-e737-43c7-aaa6-afd6aa41e73e\" xlink:show=\"new\" xlink:title=\"psysml:704c53cf-e737-43c7-aaa6-afd6aa41e73e\" xlink:type=\"simple\"><rect fill=\"#FFFFFF\" height=\"370.5\" id=\"E7\" rx=\"10\" ry=\"10\" style=\"stroke: #383838; stroke-width: 1.5;\" width=\"256\" x=\"114\" y=\"49\"/><rect fill=\"#F8F8F8\" height=\"37.9375\" rx=\"10\" ry=\"10\" style=\"stroke: #F8F8F8; stroke-width: 1.5;\" width=\"256\" x=\"114\" y=\"49\"/><rect fill=\"#F8F8F8\" height=\"10\" style=\"stroke: #F8F8F8; stroke-width: 1.5;\" width=\"256\" x=\"114\" y=\"76.9375\"/><rect fill=\"none\" height=\"370.5\" id=\"E7\" rx=\"10\" ry=\"10\" style=\"stroke: #383838; stroke-width: 1.5;\" width=\"256\" x=\"114\" y=\"49\"/><text fill=\"#000000\" font-family=\"sans-serif\" font-size=\"12\" font-style=\"italic\" lengthAdjust=\"spacingAndGlyphs\" textLength=\"53\" x=\"215.5\" y=\"65.1387\">«action»</text><text fill=\"#000000\" font-family=\"sans-serif\" font-size=\"12\" lengthAdjust=\"spacingAndGlyphs\" textLength=\"72\" x=\"206\" y=\"79.1074\">takePicture</text><line style=\"stroke: #383838; stroke-width: 1.0;\" x1=\"114\" x2=\"370\" y1=\"86.9375\" y2=\"86.9375\"/></a><!--MD5=[55dfccfc6c49c2d10cd1bd2211a6c90c]\n",
       "cluster E8--><a href=\"psysml:247459c4-dc1c-41f3-9bbd-2210d0a14144\" target=\"_top\" title=\"psysml:247459c4-dc1c-41f3-9bbd-2210d0a14144\" xlink:actuate=\"onRequest\" xlink:href=\"psysml:247459c4-dc1c-41f3-9bbd-2210d0a14144\" xlink:show=\"new\" xlink:title=\"psysml:247459c4-dc1c-41f3-9bbd-2210d0a14144\" xlink:type=\"simple\"><rect fill=\"#FFFFFF\" height=\"217.5\" id=\"E8\" rx=\"10\" ry=\"10\" style=\"stroke: #383838; stroke-width: 1.5;\" width=\"83\" x=\"257\" y=\"100\"/><rect fill=\"#F8F8F8\" height=\"37.9375\" rx=\"10\" ry=\"10\" style=\"stroke: #F8F8F8; stroke-width: 1.5;\" width=\"83\" x=\"257\" y=\"100\"/><rect fill=\"#F8F8F8\" height=\"10\" style=\"stroke: #F8F8F8; stroke-width: 1.5;\" width=\"83\" x=\"257\" y=\"127.9375\"/><rect fill=\"none\" height=\"217.5\" id=\"E8\" rx=\"10\" ry=\"10\" style=\"stroke: #383838; stroke-width: 1.5;\" width=\"83\" x=\"257\" y=\"100\"/><text fill=\"#000000\" font-family=\"sans-serif\" font-size=\"12\" font-style=\"italic\" lengthAdjust=\"spacingAndGlyphs\" textLength=\"53\" x=\"272\" y=\"116.1387\">«action»</text><text fill=\"#000000\" font-family=\"sans-serif\" font-size=\"12\" lengthAdjust=\"spacingAndGlyphs\" textLength=\"34\" x=\"281.5\" y=\"130.1074\">focus</text><line style=\"stroke: #383838; stroke-width: 1.0;\" x1=\"257\" x2=\"340\" y1=\"137.9375\" y2=\"137.9375\"/></a><!--MD5=[917b9dd0c7eca3ee5f47219d1a84c0ad]\n",
       "cluster E11--><a href=\"psysml:d7e0c4ce-9a2d-4e4d-8f17-58d415aecc73\" target=\"_top\" title=\"psysml:d7e0c4ce-9a2d-4e4d-8f17-58d415aecc73\" xlink:actuate=\"onRequest\" xlink:href=\"psysml:d7e0c4ce-9a2d-4e4d-8f17-58d415aecc73\" xlink:show=\"new\" xlink:title=\"psysml:d7e0c4ce-9a2d-4e4d-8f17-58d415aecc73\" xlink:type=\"simple\"><rect fill=\"#FFFFFF\" height=\"256\" id=\"E11\" rx=\"10\" ry=\"10\" style=\"stroke: #383838; stroke-width: 1.5;\" width=\"74\" x=\"164\" y=\"133.5\"/><rect fill=\"#F8F8F8\" height=\"37.9375\" rx=\"10\" ry=\"10\" style=\"stroke: #F8F8F8; stroke-width: 1.5;\" width=\"74\" x=\"164\" y=\"133.5\"/><rect fill=\"#F8F8F8\" height=\"10\" style=\"stroke: #F8F8F8; stroke-width: 1.5;\" width=\"74\" x=\"164\" y=\"161.4375\"/><rect fill=\"none\" height=\"256\" id=\"E11\" rx=\"10\" ry=\"10\" style=\"stroke: #383838; stroke-width: 1.5;\" width=\"74\" x=\"164\" y=\"133.5\"/><text fill=\"#000000\" font-family=\"sans-serif\" font-size=\"12\" font-style=\"italic\" lengthAdjust=\"spacingAndGlyphs\" textLength=\"53\" x=\"174.5\" y=\"149.6387\">«action»</text><text fill=\"#000000\" font-family=\"sans-serif\" font-size=\"12\" lengthAdjust=\"spacingAndGlyphs\" textLength=\"36\" x=\"183\" y=\"163.6074\">shoot</text><line style=\"stroke: #383838; stroke-width: 1.0;\" x1=\"164\" x2=\"238\" y1=\"171.4375\" y2=\"171.4375\"/></a><!--MD5=[b4997ac47864f28c2f74865a473b2911]\n",
       "class E2--><a href=\"psysml:9a8bab7b-7078-4a6b-add3-8a1328b0c2d6\" target=\"_top\" title=\"psysml:9a8bab7b-7078-4a6b-add3-8a1328b0c2d6\" xlink:actuate=\"onRequest\" xlink:href=\"psysml:9a8bab7b-7078-4a6b-add3-8a1328b0c2d6\" xlink:show=\"new\" xlink:title=\"psysml:9a8bab7b-7078-4a6b-add3-8a1328b0c2d6\" xlink:type=\"simple\"><rect fill=\"#FFFFFF\" height=\"45.9375\" id=\"E2\" style=\"stroke: #383838; stroke-width: 1.5;\" width=\"66\" x=\"32\" y=\"110.5\"/><text fill=\"#000000\" font-family=\"sans-serif\" font-size=\"12\" font-style=\"italic\" lengthAdjust=\"spacingAndGlyphs\" textLength=\"64\" x=\"33\" y=\"126.6387\">«part def»</text><text fill=\"#000000\" font-family=\"sans-serif\" font-size=\"12\" lengthAdjust=\"spacingAndGlyphs\" textLength=\"58\" x=\"36\" y=\"140.6074\">Exposure</text><line style=\"stroke: #383838; stroke-width: 1.5;\" x1=\"33\" x2=\"97\" y1=\"148.4375\" y2=\"148.4375\"/></a><text fill=\"#000000\" font-family=\"sans-serif\" font-size=\"14\" lengthAdjust=\"spacingAndGlyphs\" textLength=\"23\" x=\"583.5\" y=\"336.4951\">xrsl</text><rect fill=\"#383838\" height=\"12\" style=\"stroke: #F8F8F8; stroke-width: 1.5;\" width=\"12\" x=\"589\" y=\"311.5\"/><text fill=\"#000000\" font-family=\"sans-serif\" font-size=\"14\" lengthAdjust=\"spacingAndGlyphs\" textLength=\"19\" x=\"443.5\" y=\"112.1982\">xsf</text><rect fill=\"#383838\" height=\"12\" style=\"stroke: #F8F8F8; stroke-width: 1.5;\" width=\"12\" x=\"447\" y=\"127.5\"/><text fill=\"#000000\" font-family=\"sans-serif\" font-size=\"14\" lengthAdjust=\"spacingAndGlyphs\" textLength=\"48\" x=\"251\" y=\"336.4951\">$result</text><rect fill=\"#383838\" height=\"12\" style=\"stroke: #F8F8F8; stroke-width: 1.5;\" width=\"12\" x=\"269\" y=\"311.5\"/><text fill=\"#000000\" font-family=\"sans-serif\" font-size=\"14\" lengthAdjust=\"spacingAndGlyphs\" textLength=\"23\" x=\"310.5\" y=\"336.4951\">xrsl</text><rect fill=\"#383838\" height=\"12\" style=\"stroke: #F8F8F8; stroke-width: 1.5;\" width=\"12\" x=\"316\" y=\"311.5\"/><text fill=\"#000000\" font-family=\"sans-serif\" font-size=\"14\" lengthAdjust=\"spacingAndGlyphs\" textLength=\"48\" x=\"158\" y=\"408.4951\">$result</text><rect fill=\"#383838\" height=\"12\" style=\"stroke: #F8F8F8; stroke-width: 1.5;\" width=\"12\" x=\"176\" y=\"383.5\"/><text fill=\"#000000\" font-family=\"sans-serif\" font-size=\"14\" lengthAdjust=\"spacingAndGlyphs\" textLength=\"19\" x=\"174.5\" y=\"112.1982\">xsf</text><rect fill=\"#383838\" height=\"12\" style=\"stroke: #F8F8F8; stroke-width: 1.5;\" width=\"12\" x=\"178\" y=\"127.5\"/><!--MD5=[e00ab30c8c3b7d9284740e569dd73ee6]\n",
       "@startuml\r\n",
       "skinparam linetype polyline\r\n",
       "skinparam monochrome true\r\n",
       "skinparam classbackgroundcolor white\r\n",
       "skinparam shadowing false\r\n",
       "skinparam wrapWidth 300\r\n",
       "hide circle\r\n",
       "\r\n",
       "package \"PictureTaking\" as E1  [[psysml:14e6fe4c-a4d9-4c34-a316-9cbabb101fb1 ]]  {\r\n",
       "comp def \"Exposure\" as E2  <<(T,blue)part def>> [[psysml:9a8bab7b-7078-4a6b-add3-8a1328b0c2d6 ]] {\r\n",
       "}\r\n",
       "rec def \"Focus\" as E3  <<(T,blue)action def>> [[psysml:44676d48-2ba6-47f9-b761-758fcbe31dbd ]] {\r\n",
       "portout \"xrsl\" as E4  [[psysml:7285223f-23e3-4ded-a1a3-c8dbe746ff9d ]] \r\n",
       "}\r\n",
       "\r\n",
       "rec def \"Shoot\" as E5  <<(T,blue)action def>> [[psysml:d9adf687-8d42-42d3-b1b5-8b6413ee0fad ]] {\r\n",
       "portin \"xsf\" as E6  [[psysml:3f6601e8-74ad-4acc-b654-2e93fe2ad4c3 ]] \r\n",
       "}\r\n",
       "\r\n",
       "rec usage \"takePicture\" as E7  <<(T,blue)action>> [[psysml:704c53cf-e737-43c7-aaa6-afd6aa41e73e ]] {\r\n",
       "rec usage \"focus\" as E8  <<(T,blue)action>> [[psysml:247459c4-dc1c-41f3-9bbd-2210d0a14144 ]] {\r\n",
       "portout \"$result\" as E9  [[psysml:d24c4944-7685-4e9e-b1e9-aa0857e67b68 ]] \r\n",
       "portout \"xrsl\" as E10  [[psysml:a9b63f0e-a7c1-4470-82ae-da9c74073d16 ]] \r\n",
       "}\r\n",
       "\r\n",
       "rec usage \"shoot\" as E11  <<(T,blue)action>> [[psysml:d7e0c4ce-9a2d-4e4d-8f17-58d415aecc73 ]] {\r\n",
       "portout \"$result\" as E12  [[psysml:edaf4370-9fef-4792-934f-b7a89f5913cc ]] \r\n",
       "portin \"xsf\" as E13  [[psysml:1ee0e316-c080-4a1b-aa8d-122e3ae24dab ]] \r\n",
       "}\r\n",
       "\r\n",
       "}\r\n",
       "\r\n",
       "}\r\n",
       "@enduml\r\n",
       "\n",
       "PlantUML version 1.2020.13(Sat Jun 13 12:26:38 UTC 2020)\n",
       "(EPL source distribution)\n",
       "Java Runtime: OpenJDK Runtime Environment\n",
       "JVM: OpenJDK 64-Bit Server VM\n",
       "Default Encoding: UTF-8\n",
       "Language: en\n",
       "Country: null\n",
       "--></g></svg>"
      ]
     },
     "execution_count": 9,
     "metadata": {},
     "output_type": "execute_result"
    }
   ],
   "source": [
    "%viz --style=\"POLYLINE\" --view=\"Default\" \"PictureTaking\""
   ]
  },
  {
   "cell_type": "code",
   "execution_count": 10,
   "id": "48dbdf9f",
   "metadata": {
    "execution": {
     "iopub.execute_input": "2021-04-20T07:32:00.742808Z",
     "iopub.status.busy": "2021-04-20T07:32:00.741798Z",
     "iopub.status.idle": "2021-04-20T07:32:00.798109Z",
     "shell.execute_reply": "2021-04-20T07:32:00.797739Z"
    }
   },
   "outputs": [
    {
     "data": {
      "image/svg+xml": [
       "<?xml version=\"1.0\" encoding=\"UTF-8\" standalone=\"no\"?><svg xmlns=\"http://www.w3.org/2000/svg\" xmlns:xlink=\"http://www.w3.org/1999/xlink\" contentScriptType=\"application/ecmascript\" contentStyleType=\"text/css\" height=\"452px\" preserveAspectRatio=\"none\" style=\"width:278px;height:452px;\" version=\"1.1\" viewBox=\"0 0 278 452\" width=\"278px\" zoomAndPan=\"magnify\"><defs/><g><!--MD5=[fbc87193dbaf4d95561dea2c320d4a47]\n",
       "cluster E1--><a href=\"psysml:14e6fe4c-a4d9-4c34-a316-9cbabb101fb1\" target=\"_top\" title=\"psysml:14e6fe4c-a4d9-4c34-a316-9cbabb101fb1\" xlink:actuate=\"onRequest\" xlink:href=\"psysml:14e6fe4c-a4d9-4c34-a316-9cbabb101fb1\" xlink:show=\"new\" xlink:title=\"psysml:14e6fe4c-a4d9-4c34-a316-9cbabb101fb1\" xlink:type=\"simple\"><polygon fill=\"#FFFFFF\" points=\"16,6,130,6,137,28.2969,256,28.2969,256,440,16,440,16,6\" style=\"stroke: #000000; stroke-width: 1.5;\"/><line style=\"stroke: #000000; stroke-width: 1.5;\" x1=\"16\" x2=\"137\" y1=\"28.2969\" y2=\"28.2969\"/><text fill=\"#000000\" font-family=\"sans-serif\" font-size=\"14\" font-weight=\"bold\" lengthAdjust=\"spacingAndGlyphs\" textLength=\"108\" x=\"20\" y=\"20.9951\">PictureTaking</text></a><!--MD5=[b4997ac47864f28c2f74865a473b2911]\n",
       "class E2--><a href=\"psysml:9a8bab7b-7078-4a6b-add3-8a1328b0c2d6\" target=\"_top\" title=\"psysml:9a8bab7b-7078-4a6b-add3-8a1328b0c2d6\" xlink:actuate=\"onRequest\" xlink:href=\"psysml:9a8bab7b-7078-4a6b-add3-8a1328b0c2d6\" xlink:show=\"new\" xlink:title=\"psysml:9a8bab7b-7078-4a6b-add3-8a1328b0c2d6\" xlink:type=\"simple\"><rect fill=\"#FFFFFF\" height=\"45.9375\" id=\"E2\" style=\"stroke: #383838; stroke-width: 1.5;\" width=\"66\" x=\"103\" y=\"378\"/><text fill=\"#000000\" font-family=\"sans-serif\" font-size=\"12\" font-style=\"italic\" lengthAdjust=\"spacingAndGlyphs\" textLength=\"64\" x=\"104\" y=\"394.1387\">«part def»</text><text fill=\"#000000\" font-family=\"sans-serif\" font-size=\"12\" lengthAdjust=\"spacingAndGlyphs\" textLength=\"58\" x=\"107\" y=\"408.1074\">Exposure</text><line style=\"stroke: #383838; stroke-width: 1.5;\" x1=\"104\" x2=\"168\" y1=\"415.9375\" y2=\"415.9375\"/></a><!--MD5=[09b614a08d8cba4a07c9adeb5e0fee81]\n",
       "class E3--><a href=\"psysml:44676d48-2ba6-47f9-b761-758fcbe31dbd\" target=\"_top\" title=\"psysml:44676d48-2ba6-47f9-b761-758fcbe31dbd\" xlink:actuate=\"onRequest\" xlink:href=\"psysml:44676d48-2ba6-47f9-b761-758fcbe31dbd\" xlink:show=\"new\" xlink:title=\"psysml:44676d48-2ba6-47f9-b761-758fcbe31dbd\" xlink:type=\"simple\"><rect fill=\"#FFFFFF\" height=\"45.9375\" id=\"E3\" style=\"stroke: #383838; stroke-width: 1.5;\" width=\"79\" x=\"38.5\" y=\"255\"/><text fill=\"#000000\" font-family=\"sans-serif\" font-size=\"12\" font-style=\"italic\" lengthAdjust=\"spacingAndGlyphs\" textLength=\"77\" x=\"39.5\" y=\"271.1387\">«action def»</text><text fill=\"#000000\" font-family=\"sans-serif\" font-size=\"12\" lengthAdjust=\"spacingAndGlyphs\" textLength=\"37\" x=\"59.5\" y=\"285.1074\">Focus</text><line style=\"stroke: #383838; stroke-width: 1.5;\" x1=\"39.5\" x2=\"116.5\" y1=\"292.9375\" y2=\"292.9375\"/></a><!--MD5=[ebbe1d658d1005bcc118a6aa81145e00]\n",
       "class E4--><a href=\"psysml:d9adf687-8d42-42d3-b1b5-8b6413ee0fad\" target=\"_top\" title=\"psysml:d9adf687-8d42-42d3-b1b5-8b6413ee0fad\" xlink:actuate=\"onRequest\" xlink:href=\"psysml:d9adf687-8d42-42d3-b1b5-8b6413ee0fad\" xlink:show=\"new\" xlink:title=\"psysml:d9adf687-8d42-42d3-b1b5-8b6413ee0fad\" xlink:type=\"simple\"><rect fill=\"#FFFFFF\" height=\"45.9375\" id=\"E4\" style=\"stroke: #383838; stroke-width: 1.5;\" width=\"79\" x=\"154.5\" y=\"255\"/><text fill=\"#000000\" font-family=\"sans-serif\" font-size=\"12\" font-style=\"italic\" lengthAdjust=\"spacingAndGlyphs\" textLength=\"77\" x=\"155.5\" y=\"271.1387\">«action def»</text><text fill=\"#000000\" font-family=\"sans-serif\" font-size=\"12\" lengthAdjust=\"spacingAndGlyphs\" textLength=\"37\" x=\"175.5\" y=\"285.1074\">Shoot</text><line style=\"stroke: #383838; stroke-width: 1.5;\" x1=\"155.5\" x2=\"232.5\" y1=\"292.9375\" y2=\"292.9375\"/></a><!--MD5=[270fce915f116d4de14055a7c1d9a0f3]\n",
       "class E5--><a href=\"psysml:704c53cf-e737-43c7-aaa6-afd6aa41e73e\" target=\"_top\" title=\"psysml:704c53cf-e737-43c7-aaa6-afd6aa41e73e\" xlink:actuate=\"onRequest\" xlink:href=\"psysml:704c53cf-e737-43c7-aaa6-afd6aa41e73e\" xlink:show=\"new\" xlink:title=\"psysml:704c53cf-e737-43c7-aaa6-afd6aa41e73e\" xlink:type=\"simple\"><rect fill=\"#FFFFFF\" height=\"45.9375\" id=\"E5\" rx=\"10\" ry=\"10\" style=\"stroke: #383838; stroke-width: 1.5;\" width=\"78\" x=\"96\" y=\"41\"/><text fill=\"#000000\" font-family=\"sans-serif\" font-size=\"12\" font-style=\"italic\" lengthAdjust=\"spacingAndGlyphs\" textLength=\"53\" x=\"108.5\" y=\"57.1387\">«action»</text><text fill=\"#000000\" font-family=\"sans-serif\" font-size=\"12\" lengthAdjust=\"spacingAndGlyphs\" textLength=\"72\" x=\"99\" y=\"71.1074\">takePicture</text><line style=\"stroke: #383838; stroke-width: 1.5;\" x1=\"97\" x2=\"173\" y1=\"78.9375\" y2=\"78.9375\"/></a><!--MD5=[60a26617385b1d2d0262a64233df1f8d]\n",
       "class E6--><a href=\"psysml:247459c4-dc1c-41f3-9bbd-2210d0a14144\" target=\"_top\" title=\"psysml:247459c4-dc1c-41f3-9bbd-2210d0a14144\" xlink:actuate=\"onRequest\" xlink:href=\"psysml:247459c4-dc1c-41f3-9bbd-2210d0a14144\" xlink:show=\"new\" xlink:title=\"psysml:247459c4-dc1c-41f3-9bbd-2210d0a14144\" xlink:type=\"simple\"><rect fill=\"#FFFFFF\" height=\"45.9375\" id=\"E6\" rx=\"10\" ry=\"10\" style=\"stroke: #383838; stroke-width: 1.5;\" width=\"85\" x=\"32.5\" y=\"148\"/><text fill=\"#000000\" font-family=\"sans-serif\" font-size=\"12\" font-style=\"italic\" lengthAdjust=\"spacingAndGlyphs\" textLength=\"53\" x=\"48.5\" y=\"164.1387\">«action»</text><text fill=\"#000000\" font-family=\"sans-serif\" font-size=\"12\" lengthAdjust=\"spacingAndGlyphs\" textLength=\"79\" x=\"35.5\" y=\"178.1074\">focus: Focus</text><line style=\"stroke: #383838; stroke-width: 1.5;\" x1=\"33.5\" x2=\"116.5\" y1=\"185.9375\" y2=\"185.9375\"/></a><!--MD5=[2156ba9850f5573cc1fc38a6a4b2f02b]\n",
       "class E7--><a href=\"psysml:d7e0c4ce-9a2d-4e4d-8f17-58d415aecc73\" target=\"_top\" title=\"psysml:d7e0c4ce-9a2d-4e4d-8f17-58d415aecc73\" xlink:actuate=\"onRequest\" xlink:href=\"psysml:d7e0c4ce-9a2d-4e4d-8f17-58d415aecc73\" xlink:show=\"new\" xlink:title=\"psysml:d7e0c4ce-9a2d-4e4d-8f17-58d415aecc73\" xlink:type=\"simple\"><rect fill=\"#FFFFFF\" height=\"45.9375\" id=\"E7\" rx=\"10\" ry=\"10\" style=\"stroke: #383838; stroke-width: 1.5;\" width=\"87\" x=\"152.5\" y=\"148\"/><text fill=\"#000000\" font-family=\"sans-serif\" font-size=\"12\" font-style=\"italic\" lengthAdjust=\"spacingAndGlyphs\" textLength=\"53\" x=\"169.5\" y=\"164.1387\">«action»</text><text fill=\"#000000\" font-family=\"sans-serif\" font-size=\"12\" lengthAdjust=\"spacingAndGlyphs\" textLength=\"81\" x=\"155.5\" y=\"178.1074\">shoot: Shoot</text><line style=\"stroke: #383838; stroke-width: 1.5;\" x1=\"153.5\" x2=\"238.5\" y1=\"185.9375\" y2=\"185.9375\"/></a><!--MD5=[b900ca4392aad7a68aec1e9245e10ab9]\n",
       "reverse link E3 to E2--><a href=\"psysml:7285223f-23e3-4ded-a1a3-c8dbe746ff9d\" target=\"_top\" title=\"psysml:7285223f-23e3-4ded-a1a3-c8dbe746ff9d\" xlink:actuate=\"onRequest\" xlink:href=\"psysml:7285223f-23e3-4ded-a1a3-c8dbe746ff9d\" xlink:show=\"new\" xlink:title=\"psysml:7285223f-23e3-4ded-a1a3-c8dbe746ff9d\" xlink:type=\"simple\"><path d=\"M94.32,313.04 C104.29,333.84 116.74,359.82 125.43,377.95 \" fill=\"none\" id=\"E3&lt;-E2\" style=\"stroke: #383838; stroke-width: 1.0;\"/><polygon fill=\"#FFFFFF\" points=\"88.64,301.19,87.6227,308.329,93.8212,312.0138,94.8385,304.8748,88.64,301.19\" style=\"stroke: #383838; stroke-width: 1.0;\"/><text fill=\"#000000\" font-family=\"sans-serif\" font-size=\"13\" lengthAdjust=\"spacingAndGlyphs\" textLength=\"22\" x=\"111\" y=\"344.0669\">xrsl</text></a><!--MD5=[ddeed8deb2209213b62e6cfabaa108b2]\n",
       "reverse link E4 to E2--><a href=\"psysml:3f6601e8-74ad-4acc-b654-2e93fe2ad4c3\" target=\"_top\" title=\"psysml:3f6601e8-74ad-4acc-b654-2e93fe2ad4c3\" xlink:actuate=\"onRequest\" xlink:href=\"psysml:3f6601e8-74ad-4acc-b654-2e93fe2ad4c3\" xlink:show=\"new\" xlink:title=\"psysml:3f6601e8-74ad-4acc-b654-2e93fe2ad4c3\" xlink:type=\"simple\"><path d=\"M177.68,313.04 C167.71,333.84 155.26,359.82 146.57,377.95 \" fill=\"none\" id=\"E4&lt;-E2\" style=\"stroke: #383838; stroke-width: 1.0;\"/><polygon fill=\"#FFFFFF\" points=\"183.36,301.19,177.1615,304.8748,178.1788,312.0138,184.3773,308.329,183.36,301.19\" style=\"stroke: #383838; stroke-width: 1.0;\"/><text fill=\"#000000\" font-family=\"sans-serif\" font-size=\"13\" lengthAdjust=\"spacingAndGlyphs\" textLength=\"18\" x=\"169\" y=\"344.0669\">xsf</text></a><!--MD5=[85d356282659285ab4b2cfe2f634dd2b]\n",
       "reverse link E5 to E6--><a href=\"psysml:b27ee466-0f4c-4005-a5ef-b2dd2df76771\" target=\"_top\" title=\"psysml:b27ee466-0f4c-4005-a5ef-b2dd2df76771\" xlink:actuate=\"onRequest\" xlink:href=\"psysml:b27ee466-0f4c-4005-a5ef-b2dd2df76771\" xlink:show=\"new\" xlink:title=\"psysml:b27ee466-0f4c-4005-a5ef-b2dd2df76771\" xlink:type=\"simple\"><path d=\"M115.79,98.62 C106.62,114.66 95.91,133.4 87.77,147.66 \" fill=\"none\" id=\"E5&lt;-E6\" style=\"stroke: #383838; stroke-width: 1.0;\"/><polygon fill=\"#383838\" points=\"122.42,87.01,115.9684,90.2314,116.4607,97.4257,122.9122,94.2043,122.42,87.01\" style=\"stroke: #383838; stroke-width: 1.0;\"/><text fill=\"#000000\" font-family=\"sans-serif\" font-size=\"13\" lengthAdjust=\"spacingAndGlyphs\" textLength=\"8\" x=\"82.0173\" y=\"136.8492\">1</text></a><!--MD5=[a717450b82c80b9240a525fa862496af]\n",
       "link E6 to E3--><a href=\"psysml:5a2a5603-bc94-4298-a763-49fe520ca5bc\" target=\"_top\" title=\"psysml:5a2a5603-bc94-4298-a763-49fe520ca5bc\" xlink:actuate=\"onRequest\" xlink:href=\"psysml:5a2a5603-bc94-4298-a763-49fe520ca5bc\" xlink:show=\"new\" xlink:title=\"psysml:5a2a5603-bc94-4298-a763-49fe520ca5bc\" xlink:type=\"simple\"><path d=\"M75.63,194.01 C75.96,205.69 76.38,220.46 76.78,234.28 \" fill=\"none\" id=\"E6-&gt;E3\" style=\"stroke: #383838; stroke-width: 1.0;\"/><polygon fill=\"#FFFFFF\" points=\"77.36,254.66,69.8202,235.8677,83.8145,235.4678,77.36,254.66\" style=\"stroke: #383838; stroke-width: 1.0;\"/><ellipse cx=\"71.6566\" cy=\"230.1129\" fill=\"#383838\" rx=\"2\" ry=\"2\" style=\"stroke: #383838; stroke-width: 1.0;\"/><ellipse cx=\"81.6525\" cy=\"229.8273\" fill=\"#383838\" rx=\"2\" ry=\"2\" style=\"stroke: #383838; stroke-width: 1.0;\"/></a><!--MD5=[452b418e7f8a40397a49b8c0a78acc5b]\n",
       "reverse link E5 to E7--><a href=\"psysml:aaa4df86-e408-4ec8-a2fe-61e5d0511306\" target=\"_top\" title=\"psysml:aaa4df86-e408-4ec8-a2fe-61e5d0511306\" xlink:actuate=\"onRequest\" xlink:href=\"psysml:aaa4df86-e408-4ec8-a2fe-61e5d0511306\" xlink:show=\"new\" xlink:title=\"psysml:aaa4df86-e408-4ec8-a2fe-61e5d0511306\" xlink:type=\"simple\"><path d=\"M154.53,98.62 C163.85,114.66 174.74,133.4 183.02,147.66 \" fill=\"none\" id=\"E5&lt;-E7\" style=\"stroke: #383838; stroke-width: 1.0;\"/><polygon fill=\"#383838\" points=\"147.79,87.01,147.3439,94.2073,153.8159,97.3873,154.2621,90.19,147.79,87.01\" style=\"stroke: #383838; stroke-width: 1.0;\"/><text fill=\"#000000\" font-family=\"sans-serif\" font-size=\"13\" lengthAdjust=\"spacingAndGlyphs\" textLength=\"8\" x=\"170.6689\" y=\"136.8492\">1</text></a><!--MD5=[6bdd27f9905911a7e892a3dc65cf6b7c]\n",
       "link E7 to E4--><a href=\"psysml:f48d95ee-d7b3-4518-8228-9030b5bbf5ab\" target=\"_top\" title=\"psysml:f48d95ee-d7b3-4518-8228-9030b5bbf5ab\" xlink:actuate=\"onRequest\" xlink:href=\"psysml:f48d95ee-d7b3-4518-8228-9030b5bbf5ab\" xlink:show=\"new\" xlink:title=\"psysml:f48d95ee-d7b3-4518-8228-9030b5bbf5ab\" xlink:type=\"simple\"><path d=\"M195.58,194.01 C195.36,205.69 195.08,220.46 194.81,234.28 \" fill=\"none\" id=\"E7-&gt;E4\" style=\"stroke: #383838; stroke-width: 1.0;\"/><polygon fill=\"#FFFFFF\" points=\"194.43,254.66,187.784,235.5333,201.7816,235.7933,194.43,254.66\" style=\"stroke: #383838; stroke-width: 1.0;\"/><ellipse cx=\"189.8895\" cy=\"229.8714\" fill=\"#383838\" rx=\"2\" ry=\"2\" style=\"stroke: #383838; stroke-width: 1.0;\"/><ellipse cx=\"199.8878\" cy=\"230.0571\" fill=\"#383838\" rx=\"2\" ry=\"2\" style=\"stroke: #383838; stroke-width: 1.0;\"/></a><!--MD5=[c991b02ce1ee5b71b9b3f6cb7a302fe2]\n",
       "@startuml\r\n",
       "skinparam linetype polyline\r\n",
       "skinparam monochrome true\r\n",
       "skinparam classbackgroundcolor white\r\n",
       "skinparam shadowing false\r\n",
       "skinparam wrapWidth 300\r\n",
       "hide circle\r\n",
       "\r\n",
       "package \"PictureTaking\" as E1  [[psysml:14e6fe4c-a4d9-4c34-a316-9cbabb101fb1 ]]  {\r\n",
       "comp def \"Exposure\" as E2  <<(T,blue)part def>> [[psysml:9a8bab7b-7078-4a6b-add3-8a1328b0c2d6 ]] {\r\n",
       "}\r\n",
       "comp def \"Focus\" as E3  <<(T,blue)action def>> [[psysml:44676d48-2ba6-47f9-b761-758fcbe31dbd ]] {\r\n",
       "}\r\n",
       "comp def \"Shoot\" as E4  <<(T,blue)action def>> [[psysml:d9adf687-8d42-42d3-b1b5-8b6413ee0fad ]] {\r\n",
       "}\r\n",
       "comp usage \"takePicture\" as E5  <<(T,blue)action>> [[psysml:704c53cf-e737-43c7-aaa6-afd6aa41e73e ]] {\r\n",
       "}\r\n",
       "comp usage \"focus: Focus\" as E6  <<(T,blue)action>> [[psysml:247459c4-dc1c-41f3-9bbd-2210d0a14144 ]] {\r\n",
       "}\r\n",
       "comp usage \"shoot: Shoot\" as E7  <<(T,blue)action>> [[psysml:d7e0c4ce-9a2d-4e4d-8f17-58d415aecc73 ]] {\r\n",
       "}\r\n",
       "E3 o- - E2 [[psysml:7285223f-23e3-4ded-a1a3-c8dbe746ff9d ]] : xrsl\r\n",
       "E4 o- - E2 [[psysml:3f6601e8-74ad-4acc-b654-2e93fe2ad4c3 ]] : xsf\r\n",
       "E5 *- - \"1\"E6 [[psysml:b27ee466-0f4c-4005-a5ef-b2dd2df76771 ]] \r\n",
       "E6 - -:|> E3 [[psysml:5a2a5603-bc94-4298-a763-49fe520ca5bc ]] \r\n",
       "E5 *- - \"1\"E7 [[psysml:aaa4df86-e408-4ec8-a2fe-61e5d0511306 ]] \r\n",
       "E7 - -:|> E4 [[psysml:f48d95ee-d7b3-4518-8228-9030b5bbf5ab ]] \r\n",
       "}\r\n",
       "@enduml\r\n",
       "\n",
       "PlantUML version 1.2020.13(Sat Jun 13 12:26:38 UTC 2020)\n",
       "(EPL source distribution)\n",
       "Java Runtime: OpenJDK Runtime Environment\n",
       "JVM: OpenJDK 64-Bit Server VM\n",
       "Default Encoding: UTF-8\n",
       "Language: en\n",
       "Country: null\n",
       "--></g></svg>"
      ]
     },
     "execution_count": 10,
     "metadata": {},
     "output_type": "execute_result"
    }
   ],
   "source": [
    "%viz --style=\"POLYLINE\" --view=\"Tree\" \"PictureTaking\""
   ]
  },
  {
   "cell_type": "code",
   "execution_count": 11,
   "id": "7e852f3a",
   "metadata": {
    "execution": {
     "iopub.execute_input": "2021-04-20T07:32:00.849223Z",
     "iopub.status.busy": "2021-04-20T07:32:00.848127Z",
     "iopub.status.idle": "2021-04-20T07:32:00.868722Z",
     "shell.execute_reply": "2021-04-20T07:32:00.868186Z"
    }
   },
   "outputs": [
    {
     "data": {
      "image/svg+xml": [
       "<?xml version=\"1.0\" encoding=\"UTF-8\" standalone=\"no\"?><svg xmlns=\"http://www.w3.org/2000/svg\" xmlns:xlink=\"http://www.w3.org/1999/xlink\" contentScriptType=\"application/ecmascript\" contentStyleType=\"text/css\" height=\"12px\" preserveAspectRatio=\"none\" style=\"width:12px;height:12px;\" version=\"1.1\" viewBox=\"0 0 12 12\" width=\"12px\" zoomAndPan=\"magnify\"><defs/><g><!--MD5=[896ac0e7a515d8dd7765a661cb4ee08b]\n",
       "@startuml\r\n",
       "skinparam linetype polyline\r\n",
       "skinparam monochrome true\r\n",
       "skinparam classbackgroundcolor white\r\n",
       "skinparam shadowing false\r\n",
       "skinparam wrapWidth 300\r\n",
       "hide circle\r\n",
       "\r\n",
       "@enduml\r\n",
       "\n",
       "PlantUML version 1.2020.13(Sat Jun 13 12:26:38 UTC 2020)\n",
       "(EPL source distribution)\n",
       "Java Runtime: OpenJDK Runtime Environment\n",
       "JVM: OpenJDK 64-Bit Server VM\n",
       "Default Encoding: UTF-8\n",
       "Language: en\n",
       "Country: null\n",
       "--></g></svg>"
      ]
     },
     "execution_count": 11,
     "metadata": {},
     "output_type": "execute_result"
    }
   ],
   "source": [
    "%viz --style=\"POLYLINE\" --view=\"State\" \"PictureTaking\""
   ]
  },
  {
   "cell_type": "code",
   "execution_count": 12,
   "id": "475650dd",
   "metadata": {
    "execution": {
     "iopub.execute_input": "2021-04-20T07:32:00.919420Z",
     "iopub.status.busy": "2021-04-20T07:32:00.918450Z",
     "iopub.status.idle": "2021-04-20T07:32:01.045678Z",
     "shell.execute_reply": "2021-04-20T07:32:01.043739Z"
    }
   },
   "outputs": [
    {
     "data": {
      "image/svg+xml": [
       "<?xml version=\"1.0\" encoding=\"UTF-8\" standalone=\"no\"?><svg xmlns=\"http://www.w3.org/2000/svg\" xmlns:xlink=\"http://www.w3.org/1999/xlink\" contentScriptType=\"application/ecmascript\" contentStyleType=\"text/css\" height=\"330px\" preserveAspectRatio=\"none\" style=\"width:706px;height:330px;\" version=\"1.1\" viewBox=\"0 0 706 330\" width=\"706px\" zoomAndPan=\"magnify\"><defs/><g><!--MD5=[fbc87193dbaf4d95561dea2c320d4a47]\n",
       "cluster E1--><a href=\"psysml:14e6fe4c-a4d9-4c34-a316-9cbabb101fb1\" target=\"_top\" title=\"psysml:14e6fe4c-a4d9-4c34-a316-9cbabb101fb1\" xlink:actuate=\"onRequest\" xlink:href=\"psysml:14e6fe4c-a4d9-4c34-a316-9cbabb101fb1\" xlink:show=\"new\" xlink:title=\"psysml:14e6fe4c-a4d9-4c34-a316-9cbabb101fb1\" xlink:type=\"simple\"><polygon fill=\"#FFFFFF\" points=\"16,6,130,6,137,28.2969,684,28.2969,684,318,16,318,16,6\" style=\"stroke: #000000; stroke-width: 1.5;\"/><line style=\"stroke: #000000; stroke-width: 1.5;\" x1=\"16\" x2=\"137\" y1=\"28.2969\" y2=\"28.2969\"/><text fill=\"#000000\" font-family=\"sans-serif\" font-size=\"14\" font-weight=\"bold\" lengthAdjust=\"spacingAndGlyphs\" textLength=\"108\" x=\"20\" y=\"20.9951\">PictureTaking</text></a><!--MD5=[d5e69f78d87373223dbae638b30a9c99]\n",
       "cluster E3--><a href=\"psysml:44676d48-2ba6-47f9-b761-758fcbe31dbd\" target=\"_top\" title=\"psysml:44676d48-2ba6-47f9-b761-758fcbe31dbd\" xlink:actuate=\"onRequest\" xlink:href=\"psysml:44676d48-2ba6-47f9-b761-758fcbe31dbd\" xlink:show=\"new\" xlink:title=\"psysml:44676d48-2ba6-47f9-b761-758fcbe31dbd\" xlink:type=\"simple\"><rect fill=\"#FFFFFF\" height=\"136\" id=\"E3\" style=\"stroke: #383838; stroke-width: 1.5;\" width=\"134\" x=\"534\" y=\"100\"/><rect fill=\"#F8F8F8\" height=\"37.9375\" style=\"stroke: #383838; stroke-width: 1.5;\" width=\"134\" x=\"534\" y=\"100\"/><text fill=\"#000000\" font-family=\"sans-serif\" font-size=\"12\" font-style=\"italic\" lengthAdjust=\"spacingAndGlyphs\" textLength=\"77\" x=\"562.5\" y=\"116.1387\">«action def»</text><text fill=\"#000000\" font-family=\"sans-serif\" font-size=\"12\" lengthAdjust=\"spacingAndGlyphs\" textLength=\"37\" x=\"582.5\" y=\"130.1074\">Focus</text></a><!--MD5=[de5ec2e2e8f62f467e546659f5068c88]\n",
       "cluster E5--><a href=\"psysml:d9adf687-8d42-42d3-b1b5-8b6413ee0fad\" target=\"_top\" title=\"psysml:d9adf687-8d42-42d3-b1b5-8b6413ee0fad\" xlink:actuate=\"onRequest\" xlink:href=\"psysml:d9adf687-8d42-42d3-b1b5-8b6413ee0fad\" xlink:show=\"new\" xlink:title=\"psysml:d9adf687-8d42-42d3-b1b5-8b6413ee0fad\" xlink:type=\"simple\"><rect fill=\"#FFFFFF\" height=\"88.5\" id=\"E5\" style=\"stroke: #383838; stroke-width: 1.5;\" width=\"134\" x=\"392\" y=\"133.5\"/><rect fill=\"#F8F8F8\" height=\"37.9375\" style=\"stroke: #383838; stroke-width: 1.5;\" width=\"134\" x=\"392\" y=\"133.5\"/><text fill=\"#000000\" font-family=\"sans-serif\" font-size=\"12\" font-style=\"italic\" lengthAdjust=\"spacingAndGlyphs\" textLength=\"77\" x=\"420.5\" y=\"149.6387\">«action def»</text><text fill=\"#000000\" font-family=\"sans-serif\" font-size=\"12\" lengthAdjust=\"spacingAndGlyphs\" textLength=\"37\" x=\"440.5\" y=\"163.6074\">Shoot</text></a><!--MD5=[168fadf3d0c3fd93dd5d6da1b1d7ab76]\n",
       "cluster E7--><a href=\"psysml:704c53cf-e737-43c7-aaa6-afd6aa41e73e\" target=\"_top\" title=\"psysml:704c53cf-e737-43c7-aaa6-afd6aa41e73e\" xlink:actuate=\"onRequest\" xlink:href=\"psysml:704c53cf-e737-43c7-aaa6-afd6aa41e73e\" xlink:show=\"new\" xlink:title=\"psysml:704c53cf-e737-43c7-aaa6-afd6aa41e73e\" xlink:type=\"simple\"><rect fill=\"#FFFFFF\" height=\"245\" id=\"E7\" rx=\"10\" ry=\"10\" style=\"stroke: #383838; stroke-width: 1.5;\" width=\"256\" x=\"120\" y=\"49\"/><rect fill=\"#F8F8F8\" height=\"37.9375\" rx=\"10\" ry=\"10\" style=\"stroke: #F8F8F8; stroke-width: 1.5;\" width=\"256\" x=\"120\" y=\"49\"/><rect fill=\"#F8F8F8\" height=\"10\" style=\"stroke: #F8F8F8; stroke-width: 1.5;\" width=\"256\" x=\"120\" y=\"76.9375\"/><rect fill=\"none\" height=\"245\" id=\"E7\" rx=\"10\" ry=\"10\" style=\"stroke: #383838; stroke-width: 1.5;\" width=\"256\" x=\"120\" y=\"49\"/><text fill=\"#000000\" font-family=\"sans-serif\" font-size=\"12\" font-style=\"italic\" lengthAdjust=\"spacingAndGlyphs\" textLength=\"53\" x=\"221.5\" y=\"65.1387\">«action»</text><text fill=\"#000000\" font-family=\"sans-serif\" font-size=\"12\" lengthAdjust=\"spacingAndGlyphs\" textLength=\"72\" x=\"212\" y=\"79.1074\">takePicture</text><line style=\"stroke: #383838; stroke-width: 1.0;\" x1=\"120\" x2=\"376\" y1=\"86.9375\" y2=\"86.9375\"/></a><!--MD5=[55dfccfc6c49c2d10cd1bd2211a6c90c]\n",
       "cluster E8--><a href=\"psysml:247459c4-dc1c-41f3-9bbd-2210d0a14144\" target=\"_top\" title=\"psysml:247459c4-dc1c-41f3-9bbd-2210d0a14144\" xlink:actuate=\"onRequest\" xlink:href=\"psysml:247459c4-dc1c-41f3-9bbd-2210d0a14144\" xlink:show=\"new\" xlink:title=\"psysml:247459c4-dc1c-41f3-9bbd-2210d0a14144\" xlink:type=\"simple\"><rect fill=\"#FFFFFF\" height=\"136\" id=\"E8\" rx=\"10\" ry=\"10\" style=\"stroke: #383838; stroke-width: 1.5;\" width=\"83\" x=\"263\" y=\"100\"/><rect fill=\"#F8F8F8\" height=\"37.9375\" rx=\"10\" ry=\"10\" style=\"stroke: #F8F8F8; stroke-width: 1.5;\" width=\"83\" x=\"263\" y=\"100\"/><rect fill=\"#F8F8F8\" height=\"10\" style=\"stroke: #F8F8F8; stroke-width: 1.5;\" width=\"83\" x=\"263\" y=\"127.9375\"/><rect fill=\"none\" height=\"136\" id=\"E8\" rx=\"10\" ry=\"10\" style=\"stroke: #383838; stroke-width: 1.5;\" width=\"83\" x=\"263\" y=\"100\"/><text fill=\"#000000\" font-family=\"sans-serif\" font-size=\"12\" font-style=\"italic\" lengthAdjust=\"spacingAndGlyphs\" textLength=\"53\" x=\"278\" y=\"116.1387\">«action»</text><text fill=\"#000000\" font-family=\"sans-serif\" font-size=\"12\" lengthAdjust=\"spacingAndGlyphs\" textLength=\"34\" x=\"287.5\" y=\"130.1074\">focus</text><line style=\"stroke: #383838; stroke-width: 1.0;\" x1=\"263\" x2=\"346\" y1=\"137.9375\" y2=\"137.9375\"/></a><!--MD5=[917b9dd0c7eca3ee5f47219d1a84c0ad]\n",
       "cluster E11--><a href=\"psysml:d7e0c4ce-9a2d-4e4d-8f17-58d415aecc73\" target=\"_top\" title=\"psysml:d7e0c4ce-9a2d-4e4d-8f17-58d415aecc73\" xlink:actuate=\"onRequest\" xlink:href=\"psysml:d7e0c4ce-9a2d-4e4d-8f17-58d415aecc73\" xlink:show=\"new\" xlink:title=\"psysml:d7e0c4ce-9a2d-4e4d-8f17-58d415aecc73\" xlink:type=\"simple\"><rect fill=\"#FFFFFF\" height=\"130.5\" id=\"E11\" rx=\"10\" ry=\"10\" style=\"stroke: #383838; stroke-width: 1.5;\" width=\"74\" x=\"170\" y=\"133.5\"/><rect fill=\"#F8F8F8\" height=\"37.9375\" rx=\"10\" ry=\"10\" style=\"stroke: #F8F8F8; stroke-width: 1.5;\" width=\"74\" x=\"170\" y=\"133.5\"/><rect fill=\"#F8F8F8\" height=\"10\" style=\"stroke: #F8F8F8; stroke-width: 1.5;\" width=\"74\" x=\"170\" y=\"161.4375\"/><rect fill=\"none\" height=\"130.5\" id=\"E11\" rx=\"10\" ry=\"10\" style=\"stroke: #383838; stroke-width: 1.5;\" width=\"74\" x=\"170\" y=\"133.5\"/><text fill=\"#000000\" font-family=\"sans-serif\" font-size=\"12\" font-style=\"italic\" lengthAdjust=\"spacingAndGlyphs\" textLength=\"53\" x=\"180.5\" y=\"149.6387\">«action»</text><text fill=\"#000000\" font-family=\"sans-serif\" font-size=\"12\" lengthAdjust=\"spacingAndGlyphs\" textLength=\"36\" x=\"189\" y=\"163.6074\">shoot</text><line style=\"stroke: #383838; stroke-width: 1.0;\" x1=\"170\" x2=\"244\" y1=\"171.4375\" y2=\"171.4375\"/></a><g id=\"E1.E2\"><a href=\"psysml:9a8bab7b-7078-4a6b-add3-8a1328b0c2d6\" target=\"_top\" title=\"psysml:9a8bab7b-7078-4a6b-add3-8a1328b0c2d6\" xlink:actuate=\"onRequest\" xlink:href=\"psysml:9a8bab7b-7078-4a6b-add3-8a1328b0c2d6\" xlink:show=\"new\" xlink:title=\"psysml:9a8bab7b-7078-4a6b-add3-8a1328b0c2d6\" xlink:type=\"simple\"><rect fill=\"#FFFFFF\" height=\"42.9375\" id=\"E2\" style=\"stroke: #383838; stroke-width: 1.5;\" width=\"71\" x=\"32.5\" y=\"112\"/><rect fill=\"#F8F8F8\" height=\"37.9375\" style=\"stroke: #383838; stroke-width: 1.5;\" width=\"71\" x=\"32.5\" y=\"112\"/><text fill=\"#000000\" font-family=\"sans-serif\" font-size=\"12\" font-style=\"italic\" lengthAdjust=\"spacingAndGlyphs\" textLength=\"64\" x=\"36\" y=\"128.1387\">«part def»</text><text fill=\"#000000\" font-family=\"sans-serif\" font-size=\"12\" lengthAdjust=\"spacingAndGlyphs\" textLength=\"58\" x=\"39\" y=\"142.1074\">Exposure</text></a></g><text fill=\"#000000\" font-family=\"sans-serif\" font-size=\"14\" lengthAdjust=\"spacingAndGlyphs\" textLength=\"23\" x=\"589.5\" y=\"254.9951\">xrsl</text><rect fill=\"#383838\" height=\"12\" style=\"stroke: #F8F8F8; stroke-width: 1.5;\" width=\"12\" x=\"595\" y=\"230\"/><text fill=\"#000000\" font-family=\"sans-serif\" font-size=\"14\" lengthAdjust=\"spacingAndGlyphs\" textLength=\"19\" x=\"449.5\" y=\"112.1982\">xsf</text><rect fill=\"#383838\" height=\"12\" style=\"stroke: #F8F8F8; stroke-width: 1.5;\" width=\"12\" x=\"453\" y=\"127.5\"/><text fill=\"#000000\" font-family=\"sans-serif\" font-size=\"14\" lengthAdjust=\"spacingAndGlyphs\" textLength=\"48\" x=\"257\" y=\"254.9951\">$result</text><rect fill=\"#383838\" height=\"12\" style=\"stroke: #F8F8F8; stroke-width: 1.5;\" width=\"12\" x=\"275\" y=\"230\"/><text fill=\"#000000\" font-family=\"sans-serif\" font-size=\"14\" lengthAdjust=\"spacingAndGlyphs\" textLength=\"23\" x=\"316.5\" y=\"254.9951\">xrsl</text><rect fill=\"#383838\" height=\"12\" style=\"stroke: #F8F8F8; stroke-width: 1.5;\" width=\"12\" x=\"322\" y=\"230\"/><text fill=\"#000000\" font-family=\"sans-serif\" font-size=\"14\" lengthAdjust=\"spacingAndGlyphs\" textLength=\"48\" x=\"164\" y=\"282.9951\">$result</text><rect fill=\"#383838\" height=\"12\" style=\"stroke: #F8F8F8; stroke-width: 1.5;\" width=\"12\" x=\"182\" y=\"258\"/><text fill=\"#000000\" font-family=\"sans-serif\" font-size=\"14\" lengthAdjust=\"spacingAndGlyphs\" textLength=\"19\" x=\"180.5\" y=\"112.1982\">xsf</text><rect fill=\"#383838\" height=\"12\" style=\"stroke: #F8F8F8; stroke-width: 1.5;\" width=\"12\" x=\"184\" y=\"127.5\"/><!--MD5=[55c1483a0f730ed8c053c46a33be22d2]\n",
       "@startuml\r\n",
       "skinparam ranksep 10\r\n",
       "skinparam rectangle {\r\n",
       " backgroundColor<<block>> LightGreen\r\n",
       "}\r\n",
       "skinparam linetype polyline\r\n",
       "skinparam monochrome true\r\n",
       "skinparam classbackgroundcolor white\r\n",
       "skinparam shadowing false\r\n",
       "skinparam wrapWidth 300\r\n",
       "hide circle\r\n",
       "\r\n",
       "package \"PictureTaking\" as E1  [[psysml:14e6fe4c-a4d9-4c34-a316-9cbabb101fb1 ]]  {\r\n",
       "rec def \"Exposure\" as E2  <<(T,blue)part def>> [[psysml:9a8bab7b-7078-4a6b-add3-8a1328b0c2d6 ]] {\r\n",
       "}\r\n",
       "rec def \"Focus\" as E3  <<(T,blue)action def>> [[psysml:44676d48-2ba6-47f9-b761-758fcbe31dbd ]] {\r\n",
       "portout \"xrsl\" as E4  [[psysml:7285223f-23e3-4ded-a1a3-c8dbe746ff9d ]] \r\n",
       "}\r\n",
       "\r\n",
       "rec def \"Shoot\" as E5  <<(T,blue)action def>> [[psysml:d9adf687-8d42-42d3-b1b5-8b6413ee0fad ]] {\r\n",
       "portin \"xsf\" as E6  [[psysml:3f6601e8-74ad-4acc-b654-2e93fe2ad4c3 ]] \r\n",
       "}\r\n",
       "\r\n",
       "rec usage \"takePicture\" as E7  <<(T,blue)action>> [[psysml:704c53cf-e737-43c7-aaa6-afd6aa41e73e ]] {\r\n",
       "rec usage \"focus\" as E8  <<(T,blue)action>> [[psysml:247459c4-dc1c-41f3-9bbd-2210d0a14144 ]] {\r\n",
       "portout \"$result\" as E9  [[psysml:d24c4944-7685-4e9e-b1e9-aa0857e67b68 ]] \r\n",
       "portout \"xrsl\" as E10  [[psysml:a9b63f0e-a7c1-4470-82ae-da9c74073d16 ]] \r\n",
       "}\r\n",
       "\r\n",
       "rec usage \"shoot\" as E11  <<(T,blue)action>> [[psysml:d7e0c4ce-9a2d-4e4d-8f17-58d415aecc73 ]] {\r\n",
       "portout \"$result\" as E12  [[psysml:edaf4370-9fef-4792-934f-b7a89f5913cc ]] \r\n",
       "portin \"xsf\" as E13  [[psysml:1ee0e316-c080-4a1b-aa8d-122e3ae24dab ]] \r\n",
       "}\r\n",
       "\r\n",
       "}\r\n",
       "\r\n",
       "}\r\n",
       "@enduml\r\n",
       "\n",
       "PlantUML version 1.2020.13(Sat Jun 13 12:26:38 UTC 2020)\n",
       "(EPL source distribution)\n",
       "Java Runtime: OpenJDK Runtime Environment\n",
       "JVM: OpenJDK 64-Bit Server VM\n",
       "Default Encoding: UTF-8\n",
       "Language: en\n",
       "Country: null\n",
       "--></g></svg>"
      ]
     },
     "execution_count": 12,
     "metadata": {},
     "output_type": "execute_result"
    }
   ],
   "source": [
    "%viz --style=\"POLYLINE\" --view=\"Interconnection\" \"PictureTaking\""
   ]
  },
  {
   "cell_type": "code",
   "execution_count": 13,
   "id": "95d622cc",
   "metadata": {
    "execution": {
     "iopub.execute_input": "2021-04-20T07:32:01.097236Z",
     "iopub.status.busy": "2021-04-20T07:32:01.096447Z",
     "iopub.status.idle": "2021-04-20T07:32:01.177902Z",
     "shell.execute_reply": "2021-04-20T07:32:01.175827Z"
    }
   },
   "outputs": [
    {
     "data": {
      "image/svg+xml": [
       "<?xml version=\"1.0\" encoding=\"UTF-8\" standalone=\"no\"?><svg xmlns=\"http://www.w3.org/2000/svg\" xmlns:xlink=\"http://www.w3.org/1999/xlink\" contentScriptType=\"application/ecmascript\" contentStyleType=\"text/css\" height=\"259px\" preserveAspectRatio=\"none\" style=\"width:567px;height:259px;\" version=\"1.1\" viewBox=\"0 0 567 259\" width=\"567px\" zoomAndPan=\"magnify\"><defs/><g><!--MD5=[fbc87193dbaf4d95561dea2c320d4a47]\n",
       "cluster E1--><a href=\"psysml:44676d48-2ba6-47f9-b761-758fcbe31dbd\" target=\"_top\" title=\"psysml:44676d48-2ba6-47f9-b761-758fcbe31dbd\" xlink:actuate=\"onRequest\" xlink:href=\"psysml:44676d48-2ba6-47f9-b761-758fcbe31dbd\" xlink:show=\"new\" xlink:title=\"psysml:44676d48-2ba6-47f9-b761-758fcbe31dbd\" xlink:type=\"simple\"><rect fill=\"#FFFFFF\" height=\"132\" id=\"E1\" style=\"stroke: #383838; stroke-width: 1.5;\" width=\"134\" x=\"7\" y=\"58\"/><rect fill=\"#F8F8F8\" height=\"37.9375\" style=\"stroke: #383838; stroke-width: 1.5;\" width=\"134\" x=\"7\" y=\"58\"/><text fill=\"#000000\" font-family=\"sans-serif\" font-size=\"12\" font-style=\"italic\" lengthAdjust=\"spacingAndGlyphs\" textLength=\"77\" x=\"35.5\" y=\"74.1387\">«action def»</text><text fill=\"#000000\" font-family=\"sans-serif\" font-size=\"12\" lengthAdjust=\"spacingAndGlyphs\" textLength=\"37\" x=\"55.5\" y=\"88.1074\">Focus</text></a><!--MD5=[d5e69f78d87373223dbae638b30a9c99]\n",
       "cluster E3--><a href=\"psysml:d9adf687-8d42-42d3-b1b5-8b6413ee0fad\" target=\"_top\" title=\"psysml:d9adf687-8d42-42d3-b1b5-8b6413ee0fad\" xlink:actuate=\"onRequest\" xlink:href=\"psysml:d9adf687-8d42-42d3-b1b5-8b6413ee0fad\" xlink:show=\"new\" xlink:title=\"psysml:d9adf687-8d42-42d3-b1b5-8b6413ee0fad\" xlink:type=\"simple\"><rect fill=\"#FFFFFF\" height=\"84.5\" id=\"E3\" style=\"stroke: #383838; stroke-width: 1.5;\" width=\"134\" x=\"149\" y=\"91.5\"/><rect fill=\"#F8F8F8\" height=\"37.9375\" style=\"stroke: #383838; stroke-width: 1.5;\" width=\"134\" x=\"149\" y=\"91.5\"/><text fill=\"#000000\" font-family=\"sans-serif\" font-size=\"12\" font-style=\"italic\" lengthAdjust=\"spacingAndGlyphs\" textLength=\"77\" x=\"177.5\" y=\"107.6387\">«action def»</text><text fill=\"#000000\" font-family=\"sans-serif\" font-size=\"12\" lengthAdjust=\"spacingAndGlyphs\" textLength=\"37\" x=\"197.5\" y=\"121.6074\">Shoot</text></a><!--MD5=[de5ec2e2e8f62f467e546659f5068c88]\n",
       "cluster E5--><a href=\"psysml:704c53cf-e737-43c7-aaa6-afd6aa41e73e\" target=\"_top\" title=\"psysml:704c53cf-e737-43c7-aaa6-afd6aa41e73e\" xlink:actuate=\"onRequest\" xlink:href=\"psysml:704c53cf-e737-43c7-aaa6-afd6aa41e73e\" xlink:show=\"new\" xlink:title=\"psysml:704c53cf-e737-43c7-aaa6-afd6aa41e73e\" xlink:type=\"simple\"><rect fill=\"#FFFFFF\" height=\"241\" id=\"E5\" rx=\"10\" ry=\"10\" style=\"stroke: #383838; stroke-width: 1.5;\" width=\"256\" x=\"299\" y=\"7\"/><rect fill=\"#F8F8F8\" height=\"37.9375\" rx=\"10\" ry=\"10\" style=\"stroke: #F8F8F8; stroke-width: 1.5;\" width=\"256\" x=\"299\" y=\"7\"/><rect fill=\"#F8F8F8\" height=\"10\" style=\"stroke: #F8F8F8; stroke-width: 1.5;\" width=\"256\" x=\"299\" y=\"34.9375\"/><rect fill=\"none\" height=\"241\" id=\"E5\" rx=\"10\" ry=\"10\" style=\"stroke: #383838; stroke-width: 1.5;\" width=\"256\" x=\"299\" y=\"7\"/><text fill=\"#000000\" font-family=\"sans-serif\" font-size=\"12\" font-style=\"italic\" lengthAdjust=\"spacingAndGlyphs\" textLength=\"53\" x=\"400.5\" y=\"23.1387\">«action»</text><text fill=\"#000000\" font-family=\"sans-serif\" font-size=\"12\" lengthAdjust=\"spacingAndGlyphs\" textLength=\"72\" x=\"391\" y=\"37.1074\">takePicture</text><line style=\"stroke: #383838; stroke-width: 1.0;\" x1=\"299\" x2=\"555\" y1=\"44.9375\" y2=\"44.9375\"/></a><!--MD5=[14e3b0961a2654348d326746436168a1]\n",
       "cluster E6--><a href=\"psysml:247459c4-dc1c-41f3-9bbd-2210d0a14144\" target=\"_top\" title=\"psysml:247459c4-dc1c-41f3-9bbd-2210d0a14144\" xlink:actuate=\"onRequest\" xlink:href=\"psysml:247459c4-dc1c-41f3-9bbd-2210d0a14144\" xlink:show=\"new\" xlink:title=\"psysml:247459c4-dc1c-41f3-9bbd-2210d0a14144\" xlink:type=\"simple\"><rect fill=\"#FFFFFF\" height=\"132\" id=\"E6\" rx=\"10\" ry=\"10\" style=\"stroke: #383838; stroke-width: 1.5;\" width=\"83\" x=\"442\" y=\"58\"/><rect fill=\"#F8F8F8\" height=\"37.9375\" rx=\"10\" ry=\"10\" style=\"stroke: #F8F8F8; stroke-width: 1.5;\" width=\"83\" x=\"442\" y=\"58\"/><rect fill=\"#F8F8F8\" height=\"10\" style=\"stroke: #F8F8F8; stroke-width: 1.5;\" width=\"83\" x=\"442\" y=\"85.9375\"/><rect fill=\"none\" height=\"132\" id=\"E6\" rx=\"10\" ry=\"10\" style=\"stroke: #383838; stroke-width: 1.5;\" width=\"83\" x=\"442\" y=\"58\"/><text fill=\"#000000\" font-family=\"sans-serif\" font-size=\"12\" font-style=\"italic\" lengthAdjust=\"spacingAndGlyphs\" textLength=\"53\" x=\"457\" y=\"74.1387\">«action»</text><text fill=\"#000000\" font-family=\"sans-serif\" font-size=\"12\" lengthAdjust=\"spacingAndGlyphs\" textLength=\"34\" x=\"466.5\" y=\"88.1074\">focus</text><line style=\"stroke: #383838; stroke-width: 1.0;\" x1=\"442\" x2=\"525\" y1=\"95.9375\" y2=\"95.9375\"/></a><!--MD5=[7f149f147074ac12df2cb0a7728a5fb0]\n",
       "cluster E9--><a href=\"psysml:d7e0c4ce-9a2d-4e4d-8f17-58d415aecc73\" target=\"_top\" title=\"psysml:d7e0c4ce-9a2d-4e4d-8f17-58d415aecc73\" xlink:actuate=\"onRequest\" xlink:href=\"psysml:d7e0c4ce-9a2d-4e4d-8f17-58d415aecc73\" xlink:show=\"new\" xlink:title=\"psysml:d7e0c4ce-9a2d-4e4d-8f17-58d415aecc73\" xlink:type=\"simple\"><rect fill=\"#FFFFFF\" height=\"126.5\" id=\"E9\" rx=\"10\" ry=\"10\" style=\"stroke: #383838; stroke-width: 1.5;\" width=\"74\" x=\"349\" y=\"91.5\"/><rect fill=\"#F8F8F8\" height=\"37.9375\" rx=\"10\" ry=\"10\" style=\"stroke: #F8F8F8; stroke-width: 1.5;\" width=\"74\" x=\"349\" y=\"91.5\"/><rect fill=\"#F8F8F8\" height=\"10\" style=\"stroke: #F8F8F8; stroke-width: 1.5;\" width=\"74\" x=\"349\" y=\"119.4375\"/><rect fill=\"none\" height=\"126.5\" id=\"E9\" rx=\"10\" ry=\"10\" style=\"stroke: #383838; stroke-width: 1.5;\" width=\"74\" x=\"349\" y=\"91.5\"/><text fill=\"#000000\" font-family=\"sans-serif\" font-size=\"12\" font-style=\"italic\" lengthAdjust=\"spacingAndGlyphs\" textLength=\"53\" x=\"359.5\" y=\"107.6387\">«action»</text><text fill=\"#000000\" font-family=\"sans-serif\" font-size=\"12\" lengthAdjust=\"spacingAndGlyphs\" textLength=\"36\" x=\"368\" y=\"121.6074\">shoot</text><line style=\"stroke: #383838; stroke-width: 1.0;\" x1=\"349\" x2=\"423\" y1=\"129.4375\" y2=\"129.4375\"/></a><text fill=\"#000000\" font-family=\"sans-serif\" font-size=\"14\" lengthAdjust=\"spacingAndGlyphs\" textLength=\"23\" x=\"62.5\" y=\"208.9951\">xrsl</text><rect fill=\"#383838\" height=\"12\" style=\"stroke: #F8F8F8; stroke-width: 1.5;\" width=\"12\" x=\"68\" y=\"184\"/><text fill=\"#000000\" font-family=\"sans-serif\" font-size=\"14\" lengthAdjust=\"spacingAndGlyphs\" textLength=\"19\" x=\"206.5\" y=\"70.1982\">xsf</text><rect fill=\"#383838\" height=\"12\" style=\"stroke: #F8F8F8; stroke-width: 1.5;\" width=\"12\" x=\"210\" y=\"85.5\"/><text fill=\"#000000\" font-family=\"sans-serif\" font-size=\"14\" lengthAdjust=\"spacingAndGlyphs\" textLength=\"48\" x=\"436\" y=\"208.9951\">$result</text><rect fill=\"#383838\" height=\"12\" style=\"stroke: #F8F8F8; stroke-width: 1.5;\" width=\"12\" x=\"454\" y=\"184\"/><text fill=\"#000000\" font-family=\"sans-serif\" font-size=\"14\" lengthAdjust=\"spacingAndGlyphs\" textLength=\"23\" x=\"495.5\" y=\"208.9951\">xrsl</text><rect fill=\"#383838\" height=\"12\" style=\"stroke: #F8F8F8; stroke-width: 1.5;\" width=\"12\" x=\"501\" y=\"184\"/><text fill=\"#000000\" font-family=\"sans-serif\" font-size=\"14\" lengthAdjust=\"spacingAndGlyphs\" textLength=\"48\" x=\"343\" y=\"236.9951\">$result</text><rect fill=\"#383838\" height=\"12\" style=\"stroke: #F8F8F8; stroke-width: 1.5;\" width=\"12\" x=\"361\" y=\"212\"/><text fill=\"#000000\" font-family=\"sans-serif\" font-size=\"14\" lengthAdjust=\"spacingAndGlyphs\" textLength=\"19\" x=\"359.5\" y=\"70.1982\">xsf</text><rect fill=\"#383838\" height=\"12\" style=\"stroke: #F8F8F8; stroke-width: 1.5;\" width=\"12\" x=\"363\" y=\"85.5\"/><!--MD5=[65b8b4d9be30789923594b8c4b450e2f]\n",
       "@startuml\r\n",
       "skinparam ranksep 8\r\n",
       "skinparam linetype polyline\r\n",
       "skinparam monochrome true\r\n",
       "skinparam classbackgroundcolor white\r\n",
       "skinparam shadowing false\r\n",
       "skinparam wrapWidth 300\r\n",
       "hide circle\r\n",
       "\r\n",
       "rec def \"Focus\" as E1  <<(T,blue)action def>> [[psysml:44676d48-2ba6-47f9-b761-758fcbe31dbd ]] {\r\n",
       "portout \"xrsl\" as E2  [[psysml:7285223f-23e3-4ded-a1a3-c8dbe746ff9d ]] \r\n",
       "}\r\n",
       "\r\n",
       "rec def \"Shoot\" as E3  <<(T,blue)action def>> [[psysml:d9adf687-8d42-42d3-b1b5-8b6413ee0fad ]] {\r\n",
       "portin \"xsf\" as E4  [[psysml:3f6601e8-74ad-4acc-b654-2e93fe2ad4c3 ]] \r\n",
       "}\r\n",
       "\r\n",
       "rec usage \"takePicture\" as E5  <<(T,blue)action>> [[psysml:704c53cf-e737-43c7-aaa6-afd6aa41e73e ]] {\r\n",
       "rec usage \"focus\" as E6  <<(T,blue)action>> [[psysml:247459c4-dc1c-41f3-9bbd-2210d0a14144 ]] {\r\n",
       "portout \"$result\" as E7  [[psysml:d24c4944-7685-4e9e-b1e9-aa0857e67b68 ]] \r\n",
       "portout \"xrsl\" as E8  [[psysml:a9b63f0e-a7c1-4470-82ae-da9c74073d16 ]] \r\n",
       "}\r\n",
       "\r\n",
       "rec usage \"shoot\" as E9  <<(T,blue)action>> [[psysml:d7e0c4ce-9a2d-4e4d-8f17-58d415aecc73 ]] {\r\n",
       "portout \"$result\" as E10  [[psysml:edaf4370-9fef-4792-934f-b7a89f5913cc ]] \r\n",
       "portin \"xsf\" as E11  [[psysml:1ee0e316-c080-4a1b-aa8d-122e3ae24dab ]] \r\n",
       "}\r\n",
       "\r\n",
       "}\r\n",
       "\r\n",
       "@enduml\r\n",
       "\n",
       "PlantUML version 1.2020.13(Sat Jun 13 12:26:38 UTC 2020)\n",
       "(EPL source distribution)\n",
       "Java Runtime: OpenJDK Runtime Environment\n",
       "JVM: OpenJDK 64-Bit Server VM\n",
       "Default Encoding: UTF-8\n",
       "Language: en\n",
       "Country: null\n",
       "--></g></svg>"
      ]
     },
     "execution_count": 13,
     "metadata": {},
     "output_type": "execute_result"
    }
   ],
   "source": [
    "%viz --style=\"POLYLINE\" --view=\"Action\" \"PictureTaking\""
   ]
  },
  {
   "cell_type": "code",
   "execution_count": 14,
   "id": "c4ba8bc3",
   "metadata": {
    "execution": {
     "iopub.execute_input": "2021-04-20T07:32:01.228045Z",
     "iopub.status.busy": "2021-04-20T07:32:01.227365Z",
     "iopub.status.idle": "2021-04-20T07:32:01.296947Z",
     "shell.execute_reply": "2021-04-20T07:32:01.294857Z"
    }
   },
   "outputs": [
    {
     "data": {
      "image/svg+xml": [
       "<?xml version=\"1.0\" encoding=\"UTF-8\" standalone=\"no\"?><svg xmlns=\"http://www.w3.org/2000/svg\" xmlns:xlink=\"http://www.w3.org/1999/xlink\" contentScriptType=\"application/ecmascript\" contentStyleType=\"text/css\" height=\"452px\" preserveAspectRatio=\"none\" style=\"width:278px;height:452px;\" version=\"1.1\" viewBox=\"0 0 278 452\" width=\"278px\" zoomAndPan=\"magnify\"><defs/><g><!--MD5=[fbc87193dbaf4d95561dea2c320d4a47]\n",
       "cluster E1--><a href=\"psysml:14e6fe4c-a4d9-4c34-a316-9cbabb101fb1\" target=\"_top\" title=\"psysml:14e6fe4c-a4d9-4c34-a316-9cbabb101fb1\" xlink:actuate=\"onRequest\" xlink:href=\"psysml:14e6fe4c-a4d9-4c34-a316-9cbabb101fb1\" xlink:show=\"new\" xlink:title=\"psysml:14e6fe4c-a4d9-4c34-a316-9cbabb101fb1\" xlink:type=\"simple\"><polygon fill=\"#FFFFFF\" points=\"16,6,130,6,137,28.2969,256,28.2969,256,440,16,440,16,6\" style=\"stroke: #000000; stroke-width: 1.5;\"/><line style=\"stroke: #000000; stroke-width: 1.5;\" x1=\"16\" x2=\"137\" y1=\"28.2969\" y2=\"28.2969\"/><text fill=\"#000000\" font-family=\"sans-serif\" font-size=\"14\" font-weight=\"bold\" lengthAdjust=\"spacingAndGlyphs\" textLength=\"108\" x=\"20\" y=\"20.9951\">PictureTaking</text></a><!--MD5=[b4997ac47864f28c2f74865a473b2911]\n",
       "class E2--><a href=\"psysml:9a8bab7b-7078-4a6b-add3-8a1328b0c2d6\" target=\"_top\" title=\"psysml:9a8bab7b-7078-4a6b-add3-8a1328b0c2d6\" xlink:actuate=\"onRequest\" xlink:href=\"psysml:9a8bab7b-7078-4a6b-add3-8a1328b0c2d6\" xlink:show=\"new\" xlink:title=\"psysml:9a8bab7b-7078-4a6b-add3-8a1328b0c2d6\" xlink:type=\"simple\"><rect fill=\"#FFFFFF\" height=\"45.9375\" id=\"E2\" style=\"stroke: #383838; stroke-width: 1.5;\" width=\"66\" x=\"103\" y=\"378\"/><text fill=\"#000000\" font-family=\"sans-serif\" font-size=\"12\" font-style=\"italic\" lengthAdjust=\"spacingAndGlyphs\" textLength=\"64\" x=\"104\" y=\"394.1387\">«part def»</text><text fill=\"#000000\" font-family=\"sans-serif\" font-size=\"12\" lengthAdjust=\"spacingAndGlyphs\" textLength=\"58\" x=\"107\" y=\"408.1074\">Exposure</text><line style=\"stroke: #383838; stroke-width: 1.5;\" x1=\"104\" x2=\"168\" y1=\"415.9375\" y2=\"415.9375\"/></a><!--MD5=[09b614a08d8cba4a07c9adeb5e0fee81]\n",
       "class E3--><a href=\"psysml:44676d48-2ba6-47f9-b761-758fcbe31dbd\" target=\"_top\" title=\"psysml:44676d48-2ba6-47f9-b761-758fcbe31dbd\" xlink:actuate=\"onRequest\" xlink:href=\"psysml:44676d48-2ba6-47f9-b761-758fcbe31dbd\" xlink:show=\"new\" xlink:title=\"psysml:44676d48-2ba6-47f9-b761-758fcbe31dbd\" xlink:type=\"simple\"><rect fill=\"#FFFFFF\" height=\"45.9375\" id=\"E3\" style=\"stroke: #383838; stroke-width: 1.5;\" width=\"79\" x=\"38.5\" y=\"255\"/><text fill=\"#000000\" font-family=\"sans-serif\" font-size=\"12\" font-style=\"italic\" lengthAdjust=\"spacingAndGlyphs\" textLength=\"77\" x=\"39.5\" y=\"271.1387\">«action def»</text><text fill=\"#000000\" font-family=\"sans-serif\" font-size=\"12\" lengthAdjust=\"spacingAndGlyphs\" textLength=\"37\" x=\"59.5\" y=\"285.1074\">Focus</text><line style=\"stroke: #383838; stroke-width: 1.5;\" x1=\"39.5\" x2=\"116.5\" y1=\"292.9375\" y2=\"292.9375\"/></a><!--MD5=[ebbe1d658d1005bcc118a6aa81145e00]\n",
       "class E4--><a href=\"psysml:d9adf687-8d42-42d3-b1b5-8b6413ee0fad\" target=\"_top\" title=\"psysml:d9adf687-8d42-42d3-b1b5-8b6413ee0fad\" xlink:actuate=\"onRequest\" xlink:href=\"psysml:d9adf687-8d42-42d3-b1b5-8b6413ee0fad\" xlink:show=\"new\" xlink:title=\"psysml:d9adf687-8d42-42d3-b1b5-8b6413ee0fad\" xlink:type=\"simple\"><rect fill=\"#FFFFFF\" height=\"45.9375\" id=\"E4\" style=\"stroke: #383838; stroke-width: 1.5;\" width=\"79\" x=\"154.5\" y=\"255\"/><text fill=\"#000000\" font-family=\"sans-serif\" font-size=\"12\" font-style=\"italic\" lengthAdjust=\"spacingAndGlyphs\" textLength=\"77\" x=\"155.5\" y=\"271.1387\">«action def»</text><text fill=\"#000000\" font-family=\"sans-serif\" font-size=\"12\" lengthAdjust=\"spacingAndGlyphs\" textLength=\"37\" x=\"175.5\" y=\"285.1074\">Shoot</text><line style=\"stroke: #383838; stroke-width: 1.5;\" x1=\"155.5\" x2=\"232.5\" y1=\"292.9375\" y2=\"292.9375\"/></a><!--MD5=[270fce915f116d4de14055a7c1d9a0f3]\n",
       "class E5--><a href=\"psysml:704c53cf-e737-43c7-aaa6-afd6aa41e73e\" target=\"_top\" title=\"psysml:704c53cf-e737-43c7-aaa6-afd6aa41e73e\" xlink:actuate=\"onRequest\" xlink:href=\"psysml:704c53cf-e737-43c7-aaa6-afd6aa41e73e\" xlink:show=\"new\" xlink:title=\"psysml:704c53cf-e737-43c7-aaa6-afd6aa41e73e\" xlink:type=\"simple\"><rect fill=\"#FFFFFF\" height=\"45.9375\" id=\"E5\" rx=\"10\" ry=\"10\" style=\"stroke: #383838; stroke-width: 1.5;\" width=\"78\" x=\"96\" y=\"41\"/><text fill=\"#000000\" font-family=\"sans-serif\" font-size=\"12\" font-style=\"italic\" lengthAdjust=\"spacingAndGlyphs\" textLength=\"53\" x=\"108.5\" y=\"57.1387\">«action»</text><text fill=\"#000000\" font-family=\"sans-serif\" font-size=\"12\" lengthAdjust=\"spacingAndGlyphs\" textLength=\"72\" x=\"99\" y=\"71.1074\">takePicture</text><line style=\"stroke: #383838; stroke-width: 1.5;\" x1=\"97\" x2=\"173\" y1=\"78.9375\" y2=\"78.9375\"/></a><!--MD5=[60a26617385b1d2d0262a64233df1f8d]\n",
       "class E6--><a href=\"psysml:247459c4-dc1c-41f3-9bbd-2210d0a14144\" target=\"_top\" title=\"psysml:247459c4-dc1c-41f3-9bbd-2210d0a14144\" xlink:actuate=\"onRequest\" xlink:href=\"psysml:247459c4-dc1c-41f3-9bbd-2210d0a14144\" xlink:show=\"new\" xlink:title=\"psysml:247459c4-dc1c-41f3-9bbd-2210d0a14144\" xlink:type=\"simple\"><rect fill=\"#FFFFFF\" height=\"45.9375\" id=\"E6\" rx=\"10\" ry=\"10\" style=\"stroke: #383838; stroke-width: 1.5;\" width=\"85\" x=\"32.5\" y=\"148\"/><text fill=\"#000000\" font-family=\"sans-serif\" font-size=\"12\" font-style=\"italic\" lengthAdjust=\"spacingAndGlyphs\" textLength=\"53\" x=\"48.5\" y=\"164.1387\">«action»</text><text fill=\"#000000\" font-family=\"sans-serif\" font-size=\"12\" lengthAdjust=\"spacingAndGlyphs\" textLength=\"79\" x=\"35.5\" y=\"178.1074\">focus: Focus</text><line style=\"stroke: #383838; stroke-width: 1.5;\" x1=\"33.5\" x2=\"116.5\" y1=\"185.9375\" y2=\"185.9375\"/></a><!--MD5=[2156ba9850f5573cc1fc38a6a4b2f02b]\n",
       "class E7--><a href=\"psysml:d7e0c4ce-9a2d-4e4d-8f17-58d415aecc73\" target=\"_top\" title=\"psysml:d7e0c4ce-9a2d-4e4d-8f17-58d415aecc73\" xlink:actuate=\"onRequest\" xlink:href=\"psysml:d7e0c4ce-9a2d-4e4d-8f17-58d415aecc73\" xlink:show=\"new\" xlink:title=\"psysml:d7e0c4ce-9a2d-4e4d-8f17-58d415aecc73\" xlink:type=\"simple\"><rect fill=\"#FFFFFF\" height=\"45.9375\" id=\"E7\" rx=\"10\" ry=\"10\" style=\"stroke: #383838; stroke-width: 1.5;\" width=\"87\" x=\"152.5\" y=\"148\"/><text fill=\"#000000\" font-family=\"sans-serif\" font-size=\"12\" font-style=\"italic\" lengthAdjust=\"spacingAndGlyphs\" textLength=\"53\" x=\"169.5\" y=\"164.1387\">«action»</text><text fill=\"#000000\" font-family=\"sans-serif\" font-size=\"12\" lengthAdjust=\"spacingAndGlyphs\" textLength=\"81\" x=\"155.5\" y=\"178.1074\">shoot: Shoot</text><line style=\"stroke: #383838; stroke-width: 1.5;\" x1=\"153.5\" x2=\"238.5\" y1=\"185.9375\" y2=\"185.9375\"/></a><!--MD5=[b900ca4392aad7a68aec1e9245e10ab9]\n",
       "reverse link E3 to E2--><a href=\"psysml:7285223f-23e3-4ded-a1a3-c8dbe746ff9d\" target=\"_top\" title=\"psysml:7285223f-23e3-4ded-a1a3-c8dbe746ff9d\" xlink:actuate=\"onRequest\" xlink:href=\"psysml:7285223f-23e3-4ded-a1a3-c8dbe746ff9d\" xlink:show=\"new\" xlink:title=\"psysml:7285223f-23e3-4ded-a1a3-c8dbe746ff9d\" xlink:type=\"simple\"><path d=\"M94.32,313.04 C104.29,333.84 116.74,359.82 125.43,377.95 \" fill=\"none\" id=\"E3&lt;-E2\" style=\"stroke: #383838; stroke-width: 1.0;\"/><polygon fill=\"#FFFFFF\" points=\"88.64,301.19,87.6227,308.329,93.8212,312.0138,94.8385,304.8748,88.64,301.19\" style=\"stroke: #383838; stroke-width: 1.0;\"/><text fill=\"#000000\" font-family=\"sans-serif\" font-size=\"13\" lengthAdjust=\"spacingAndGlyphs\" textLength=\"22\" x=\"111\" y=\"344.0669\">xrsl</text></a><!--MD5=[ddeed8deb2209213b62e6cfabaa108b2]\n",
       "reverse link E4 to E2--><a href=\"psysml:3f6601e8-74ad-4acc-b654-2e93fe2ad4c3\" target=\"_top\" title=\"psysml:3f6601e8-74ad-4acc-b654-2e93fe2ad4c3\" xlink:actuate=\"onRequest\" xlink:href=\"psysml:3f6601e8-74ad-4acc-b654-2e93fe2ad4c3\" xlink:show=\"new\" xlink:title=\"psysml:3f6601e8-74ad-4acc-b654-2e93fe2ad4c3\" xlink:type=\"simple\"><path d=\"M177.68,313.04 C167.71,333.84 155.26,359.82 146.57,377.95 \" fill=\"none\" id=\"E4&lt;-E2\" style=\"stroke: #383838; stroke-width: 1.0;\"/><polygon fill=\"#FFFFFF\" points=\"183.36,301.19,177.1615,304.8748,178.1788,312.0138,184.3773,308.329,183.36,301.19\" style=\"stroke: #383838; stroke-width: 1.0;\"/><text fill=\"#000000\" font-family=\"sans-serif\" font-size=\"13\" lengthAdjust=\"spacingAndGlyphs\" textLength=\"18\" x=\"169\" y=\"344.0669\">xsf</text></a><!--MD5=[85d356282659285ab4b2cfe2f634dd2b]\n",
       "reverse link E5 to E6--><a href=\"psysml:b27ee466-0f4c-4005-a5ef-b2dd2df76771\" target=\"_top\" title=\"psysml:b27ee466-0f4c-4005-a5ef-b2dd2df76771\" xlink:actuate=\"onRequest\" xlink:href=\"psysml:b27ee466-0f4c-4005-a5ef-b2dd2df76771\" xlink:show=\"new\" xlink:title=\"psysml:b27ee466-0f4c-4005-a5ef-b2dd2df76771\" xlink:type=\"simple\"><path d=\"M115.79,98.62 C106.62,114.66 95.91,133.4 87.77,147.66 \" fill=\"none\" id=\"E5&lt;-E6\" style=\"stroke: #383838; stroke-width: 1.0;\"/><polygon fill=\"#383838\" points=\"122.42,87.01,115.9684,90.2314,116.4607,97.4257,122.9122,94.2043,122.42,87.01\" style=\"stroke: #383838; stroke-width: 1.0;\"/><text fill=\"#000000\" font-family=\"sans-serif\" font-size=\"13\" lengthAdjust=\"spacingAndGlyphs\" textLength=\"8\" x=\"82.0173\" y=\"136.8492\">1</text></a><!--MD5=[a717450b82c80b9240a525fa862496af]\n",
       "link E6 to E3--><a href=\"psysml:5a2a5603-bc94-4298-a763-49fe520ca5bc\" target=\"_top\" title=\"psysml:5a2a5603-bc94-4298-a763-49fe520ca5bc\" xlink:actuate=\"onRequest\" xlink:href=\"psysml:5a2a5603-bc94-4298-a763-49fe520ca5bc\" xlink:show=\"new\" xlink:title=\"psysml:5a2a5603-bc94-4298-a763-49fe520ca5bc\" xlink:type=\"simple\"><path d=\"M75.63,194.01 C75.96,205.69 76.38,220.46 76.78,234.28 \" fill=\"none\" id=\"E6-&gt;E3\" style=\"stroke: #383838; stroke-width: 1.0;\"/><polygon fill=\"#FFFFFF\" points=\"77.36,254.66,69.8202,235.8677,83.8145,235.4678,77.36,254.66\" style=\"stroke: #383838; stroke-width: 1.0;\"/><ellipse cx=\"71.6566\" cy=\"230.1129\" fill=\"#383838\" rx=\"2\" ry=\"2\" style=\"stroke: #383838; stroke-width: 1.0;\"/><ellipse cx=\"81.6525\" cy=\"229.8273\" fill=\"#383838\" rx=\"2\" ry=\"2\" style=\"stroke: #383838; stroke-width: 1.0;\"/></a><!--MD5=[452b418e7f8a40397a49b8c0a78acc5b]\n",
       "reverse link E5 to E7--><a href=\"psysml:aaa4df86-e408-4ec8-a2fe-61e5d0511306\" target=\"_top\" title=\"psysml:aaa4df86-e408-4ec8-a2fe-61e5d0511306\" xlink:actuate=\"onRequest\" xlink:href=\"psysml:aaa4df86-e408-4ec8-a2fe-61e5d0511306\" xlink:show=\"new\" xlink:title=\"psysml:aaa4df86-e408-4ec8-a2fe-61e5d0511306\" xlink:type=\"simple\"><path d=\"M154.53,98.62 C163.85,114.66 174.74,133.4 183.02,147.66 \" fill=\"none\" id=\"E5&lt;-E7\" style=\"stroke: #383838; stroke-width: 1.0;\"/><polygon fill=\"#383838\" points=\"147.79,87.01,147.3439,94.2073,153.8159,97.3873,154.2621,90.19,147.79,87.01\" style=\"stroke: #383838; stroke-width: 1.0;\"/><text fill=\"#000000\" font-family=\"sans-serif\" font-size=\"13\" lengthAdjust=\"spacingAndGlyphs\" textLength=\"8\" x=\"170.6689\" y=\"136.8492\">1</text></a><!--MD5=[6bdd27f9905911a7e892a3dc65cf6b7c]\n",
       "link E7 to E4--><a href=\"psysml:f48d95ee-d7b3-4518-8228-9030b5bbf5ab\" target=\"_top\" title=\"psysml:f48d95ee-d7b3-4518-8228-9030b5bbf5ab\" xlink:actuate=\"onRequest\" xlink:href=\"psysml:f48d95ee-d7b3-4518-8228-9030b5bbf5ab\" xlink:show=\"new\" xlink:title=\"psysml:f48d95ee-d7b3-4518-8228-9030b5bbf5ab\" xlink:type=\"simple\"><path d=\"M195.58,194.01 C195.36,205.69 195.08,220.46 194.81,234.28 \" fill=\"none\" id=\"E7-&gt;E4\" style=\"stroke: #383838; stroke-width: 1.0;\"/><polygon fill=\"#FFFFFF\" points=\"194.43,254.66,187.784,235.5333,201.7816,235.7933,194.43,254.66\" style=\"stroke: #383838; stroke-width: 1.0;\"/><ellipse cx=\"189.8895\" cy=\"229.8714\" fill=\"#383838\" rx=\"2\" ry=\"2\" style=\"stroke: #383838; stroke-width: 1.0;\"/><ellipse cx=\"199.8878\" cy=\"230.0571\" fill=\"#383838\" rx=\"2\" ry=\"2\" style=\"stroke: #383838; stroke-width: 1.0;\"/></a><!--MD5=[c991b02ce1ee5b71b9b3f6cb7a302fe2]\n",
       "@startuml\r\n",
       "skinparam linetype polyline\r\n",
       "skinparam monochrome true\r\n",
       "skinparam classbackgroundcolor white\r\n",
       "skinparam shadowing false\r\n",
       "skinparam wrapWidth 300\r\n",
       "hide circle\r\n",
       "\r\n",
       "package \"PictureTaking\" as E1  [[psysml:14e6fe4c-a4d9-4c34-a316-9cbabb101fb1 ]]  {\r\n",
       "comp def \"Exposure\" as E2  <<(T,blue)part def>> [[psysml:9a8bab7b-7078-4a6b-add3-8a1328b0c2d6 ]] {\r\n",
       "}\r\n",
       "comp def \"Focus\" as E3  <<(T,blue)action def>> [[psysml:44676d48-2ba6-47f9-b761-758fcbe31dbd ]] {\r\n",
       "}\r\n",
       "comp def \"Shoot\" as E4  <<(T,blue)action def>> [[psysml:d9adf687-8d42-42d3-b1b5-8b6413ee0fad ]] {\r\n",
       "}\r\n",
       "comp usage \"takePicture\" as E5  <<(T,blue)action>> [[psysml:704c53cf-e737-43c7-aaa6-afd6aa41e73e ]] {\r\n",
       "}\r\n",
       "comp usage \"focus: Focus\" as E6  <<(T,blue)action>> [[psysml:247459c4-dc1c-41f3-9bbd-2210d0a14144 ]] {\r\n",
       "}\r\n",
       "comp usage \"shoot: Shoot\" as E7  <<(T,blue)action>> [[psysml:d7e0c4ce-9a2d-4e4d-8f17-58d415aecc73 ]] {\r\n",
       "}\r\n",
       "E3 o- - E2 [[psysml:7285223f-23e3-4ded-a1a3-c8dbe746ff9d ]] : xrsl\r\n",
       "E4 o- - E2 [[psysml:3f6601e8-74ad-4acc-b654-2e93fe2ad4c3 ]] : xsf\r\n",
       "E5 *- - \"1\"E6 [[psysml:b27ee466-0f4c-4005-a5ef-b2dd2df76771 ]] \r\n",
       "E6 - -:|> E3 [[psysml:5a2a5603-bc94-4298-a763-49fe520ca5bc ]] \r\n",
       "E5 *- - \"1\"E7 [[psysml:aaa4df86-e408-4ec8-a2fe-61e5d0511306 ]] \r\n",
       "E7 - -:|> E4 [[psysml:f48d95ee-d7b3-4518-8228-9030b5bbf5ab ]] \r\n",
       "}\r\n",
       "@enduml\r\n",
       "\n",
       "PlantUML version 1.2020.13(Sat Jun 13 12:26:38 UTC 2020)\n",
       "(EPL source distribution)\n",
       "Java Runtime: OpenJDK Runtime Environment\n",
       "JVM: OpenJDK 64-Bit Server VM\n",
       "Default Encoding: UTF-8\n",
       "Language: en\n",
       "Country: null\n",
       "--></g></svg>"
      ]
     },
     "execution_count": 14,
     "metadata": {},
     "output_type": "execute_result"
    }
   ],
   "source": [
    "%viz --style=\"POLYLINE\" --view=\"Sequence\" \"PictureTaking\""
   ]
  },
  {
   "cell_type": "code",
   "execution_count": 15,
   "id": "fa41bc0f",
   "metadata": {
    "execution": {
     "iopub.execute_input": "2021-04-20T07:32:01.352366Z",
     "iopub.status.busy": "2021-04-20T07:32:01.351573Z",
     "iopub.status.idle": "2021-04-20T07:32:01.468830Z",
     "shell.execute_reply": "2021-04-20T07:32:01.468170Z"
    }
   },
   "outputs": [
    {
     "data": {
      "image/svg+xml": [
       "<?xml version=\"1.0\" encoding=\"UTF-8\" standalone=\"no\"?><svg xmlns=\"http://www.w3.org/2000/svg\" xmlns:xlink=\"http://www.w3.org/1999/xlink\" contentScriptType=\"application/ecmascript\" contentStyleType=\"text/css\" height=\"455px\" preserveAspectRatio=\"none\" style=\"width:700px;height:455px;\" version=\"1.1\" viewBox=\"0 0 700 455\" width=\"700px\" zoomAndPan=\"magnify\"><defs/><g><!--MD5=[fbc87193dbaf4d95561dea2c320d4a47]\n",
       "cluster E1--><a href=\"psysml:14e6fe4c-a4d9-4c34-a316-9cbabb101fb1\" target=\"_top\" title=\"psysml:14e6fe4c-a4d9-4c34-a316-9cbabb101fb1\" xlink:actuate=\"onRequest\" xlink:href=\"psysml:14e6fe4c-a4d9-4c34-a316-9cbabb101fb1\" xlink:show=\"new\" xlink:title=\"psysml:14e6fe4c-a4d9-4c34-a316-9cbabb101fb1\" xlink:type=\"simple\"><polygon fill=\"#FFFFFF\" points=\"16,6,130,6,137,28.2969,678,28.2969,678,443.5,16,443.5,16,6\" style=\"stroke: #000000; stroke-width: 1.5;\"/><line style=\"stroke: #000000; stroke-width: 1.5;\" x1=\"16\" x2=\"137\" y1=\"28.2969\" y2=\"28.2969\"/><text fill=\"#000000\" font-family=\"sans-serif\" font-size=\"14\" font-weight=\"bold\" lengthAdjust=\"spacingAndGlyphs\" textLength=\"108\" x=\"20\" y=\"20.9951\">PictureTaking</text></a><!--MD5=[d5e69f78d87373223dbae638b30a9c99]\n",
       "cluster E3--><a href=\"psysml:44676d48-2ba6-47f9-b761-758fcbe31dbd\" target=\"_top\" title=\"psysml:44676d48-2ba6-47f9-b761-758fcbe31dbd\" xlink:actuate=\"onRequest\" xlink:href=\"psysml:44676d48-2ba6-47f9-b761-758fcbe31dbd\" xlink:show=\"new\" xlink:title=\"psysml:44676d48-2ba6-47f9-b761-758fcbe31dbd\" xlink:type=\"simple\"><rect fill=\"#FFFFFF\" height=\"217.5\" id=\"E3\" style=\"stroke: #383838; stroke-width: 1.5;\" width=\"134\" x=\"528\" y=\"100\"/><rect fill=\"#F8F8F8\" height=\"37.9375\" style=\"stroke: #383838; stroke-width: 1.5;\" width=\"134\" x=\"528\" y=\"100\"/><text fill=\"#000000\" font-family=\"sans-serif\" font-size=\"12\" font-style=\"italic\" lengthAdjust=\"spacingAndGlyphs\" textLength=\"77\" x=\"556.5\" y=\"116.1387\">«action def»</text><text fill=\"#000000\" font-family=\"sans-serif\" font-size=\"12\" lengthAdjust=\"spacingAndGlyphs\" textLength=\"37\" x=\"576.5\" y=\"130.1074\">Focus</text></a><!--MD5=[de5ec2e2e8f62f467e546659f5068c88]\n",
       "cluster E5--><a href=\"psysml:d9adf687-8d42-42d3-b1b5-8b6413ee0fad\" target=\"_top\" title=\"psysml:d9adf687-8d42-42d3-b1b5-8b6413ee0fad\" xlink:actuate=\"onRequest\" xlink:href=\"psysml:d9adf687-8d42-42d3-b1b5-8b6413ee0fad\" xlink:show=\"new\" xlink:title=\"psysml:d9adf687-8d42-42d3-b1b5-8b6413ee0fad\" xlink:type=\"simple\"><rect fill=\"#FFFFFF\" height=\"134\" id=\"E5\" style=\"stroke: #383838; stroke-width: 1.5;\" width=\"134\" x=\"386\" y=\"133.5\"/><rect fill=\"#F8F8F8\" height=\"37.9375\" style=\"stroke: #383838; stroke-width: 1.5;\" width=\"134\" x=\"386\" y=\"133.5\"/><text fill=\"#000000\" font-family=\"sans-serif\" font-size=\"12\" font-style=\"italic\" lengthAdjust=\"spacingAndGlyphs\" textLength=\"77\" x=\"414.5\" y=\"149.6387\">«action def»</text><text fill=\"#000000\" font-family=\"sans-serif\" font-size=\"12\" lengthAdjust=\"spacingAndGlyphs\" textLength=\"37\" x=\"434.5\" y=\"163.6074\">Shoot</text></a><!--MD5=[168fadf3d0c3fd93dd5d6da1b1d7ab76]\n",
       "cluster E7--><a href=\"psysml:704c53cf-e737-43c7-aaa6-afd6aa41e73e\" target=\"_top\" title=\"psysml:704c53cf-e737-43c7-aaa6-afd6aa41e73e\" xlink:actuate=\"onRequest\" xlink:href=\"psysml:704c53cf-e737-43c7-aaa6-afd6aa41e73e\" xlink:show=\"new\" xlink:title=\"psysml:704c53cf-e737-43c7-aaa6-afd6aa41e73e\" xlink:type=\"simple\"><rect fill=\"#FFFFFF\" height=\"370.5\" id=\"E7\" rx=\"10\" ry=\"10\" style=\"stroke: #383838; stroke-width: 1.5;\" width=\"256\" x=\"114\" y=\"49\"/><rect fill=\"#F8F8F8\" height=\"37.9375\" rx=\"10\" ry=\"10\" style=\"stroke: #F8F8F8; stroke-width: 1.5;\" width=\"256\" x=\"114\" y=\"49\"/><rect fill=\"#F8F8F8\" height=\"10\" style=\"stroke: #F8F8F8; stroke-width: 1.5;\" width=\"256\" x=\"114\" y=\"76.9375\"/><rect fill=\"none\" height=\"370.5\" id=\"E7\" rx=\"10\" ry=\"10\" style=\"stroke: #383838; stroke-width: 1.5;\" width=\"256\" x=\"114\" y=\"49\"/><text fill=\"#000000\" font-family=\"sans-serif\" font-size=\"12\" font-style=\"italic\" lengthAdjust=\"spacingAndGlyphs\" textLength=\"53\" x=\"215.5\" y=\"65.1387\">«action»</text><text fill=\"#000000\" font-family=\"sans-serif\" font-size=\"12\" lengthAdjust=\"spacingAndGlyphs\" textLength=\"72\" x=\"206\" y=\"79.1074\">takePicture</text><line style=\"stroke: #383838; stroke-width: 1.0;\" x1=\"114\" x2=\"370\" y1=\"86.9375\" y2=\"86.9375\"/></a><!--MD5=[55dfccfc6c49c2d10cd1bd2211a6c90c]\n",
       "cluster E8--><a href=\"psysml:247459c4-dc1c-41f3-9bbd-2210d0a14144\" target=\"_top\" title=\"psysml:247459c4-dc1c-41f3-9bbd-2210d0a14144\" xlink:actuate=\"onRequest\" xlink:href=\"psysml:247459c4-dc1c-41f3-9bbd-2210d0a14144\" xlink:show=\"new\" xlink:title=\"psysml:247459c4-dc1c-41f3-9bbd-2210d0a14144\" xlink:type=\"simple\"><rect fill=\"#FFFFFF\" height=\"217.5\" id=\"E8\" rx=\"10\" ry=\"10\" style=\"stroke: #383838; stroke-width: 1.5;\" width=\"83\" x=\"257\" y=\"100\"/><rect fill=\"#F8F8F8\" height=\"37.9375\" rx=\"10\" ry=\"10\" style=\"stroke: #F8F8F8; stroke-width: 1.5;\" width=\"83\" x=\"257\" y=\"100\"/><rect fill=\"#F8F8F8\" height=\"10\" style=\"stroke: #F8F8F8; stroke-width: 1.5;\" width=\"83\" x=\"257\" y=\"127.9375\"/><rect fill=\"none\" height=\"217.5\" id=\"E8\" rx=\"10\" ry=\"10\" style=\"stroke: #383838; stroke-width: 1.5;\" width=\"83\" x=\"257\" y=\"100\"/><text fill=\"#000000\" font-family=\"sans-serif\" font-size=\"12\" font-style=\"italic\" lengthAdjust=\"spacingAndGlyphs\" textLength=\"53\" x=\"272\" y=\"116.1387\">«action»</text><text fill=\"#000000\" font-family=\"sans-serif\" font-size=\"12\" lengthAdjust=\"spacingAndGlyphs\" textLength=\"34\" x=\"281.5\" y=\"130.1074\">focus</text><line style=\"stroke: #383838; stroke-width: 1.0;\" x1=\"257\" x2=\"340\" y1=\"137.9375\" y2=\"137.9375\"/></a><!--MD5=[917b9dd0c7eca3ee5f47219d1a84c0ad]\n",
       "cluster E11--><a href=\"psysml:d7e0c4ce-9a2d-4e4d-8f17-58d415aecc73\" target=\"_top\" title=\"psysml:d7e0c4ce-9a2d-4e4d-8f17-58d415aecc73\" xlink:actuate=\"onRequest\" xlink:href=\"psysml:d7e0c4ce-9a2d-4e4d-8f17-58d415aecc73\" xlink:show=\"new\" xlink:title=\"psysml:d7e0c4ce-9a2d-4e4d-8f17-58d415aecc73\" xlink:type=\"simple\"><rect fill=\"#FFFFFF\" height=\"256\" id=\"E11\" rx=\"10\" ry=\"10\" style=\"stroke: #383838; stroke-width: 1.5;\" width=\"74\" x=\"164\" y=\"133.5\"/><rect fill=\"#F8F8F8\" height=\"37.9375\" rx=\"10\" ry=\"10\" style=\"stroke: #F8F8F8; stroke-width: 1.5;\" width=\"74\" x=\"164\" y=\"133.5\"/><rect fill=\"#F8F8F8\" height=\"10\" style=\"stroke: #F8F8F8; stroke-width: 1.5;\" width=\"74\" x=\"164\" y=\"161.4375\"/><rect fill=\"none\" height=\"256\" id=\"E11\" rx=\"10\" ry=\"10\" style=\"stroke: #383838; stroke-width: 1.5;\" width=\"74\" x=\"164\" y=\"133.5\"/><text fill=\"#000000\" font-family=\"sans-serif\" font-size=\"12\" font-style=\"italic\" lengthAdjust=\"spacingAndGlyphs\" textLength=\"53\" x=\"174.5\" y=\"149.6387\">«action»</text><text fill=\"#000000\" font-family=\"sans-serif\" font-size=\"12\" lengthAdjust=\"spacingAndGlyphs\" textLength=\"36\" x=\"183\" y=\"163.6074\">shoot</text><line style=\"stroke: #383838; stroke-width: 1.0;\" x1=\"164\" x2=\"238\" y1=\"171.4375\" y2=\"171.4375\"/></a><!--MD5=[b4997ac47864f28c2f74865a473b2911]\n",
       "class E2--><a href=\"psysml:9a8bab7b-7078-4a6b-add3-8a1328b0c2d6\" target=\"_top\" title=\"psysml:9a8bab7b-7078-4a6b-add3-8a1328b0c2d6\" xlink:actuate=\"onRequest\" xlink:href=\"psysml:9a8bab7b-7078-4a6b-add3-8a1328b0c2d6\" xlink:show=\"new\" xlink:title=\"psysml:9a8bab7b-7078-4a6b-add3-8a1328b0c2d6\" xlink:type=\"simple\"><rect fill=\"#FFFFFF\" height=\"45.9375\" id=\"E2\" style=\"stroke: #383838; stroke-width: 1.5;\" width=\"66\" x=\"32\" y=\"110.5\"/><text fill=\"#000000\" font-family=\"sans-serif\" font-size=\"12\" font-style=\"italic\" lengthAdjust=\"spacingAndGlyphs\" textLength=\"64\" x=\"33\" y=\"126.6387\">«part def»</text><text fill=\"#000000\" font-family=\"sans-serif\" font-size=\"12\" lengthAdjust=\"spacingAndGlyphs\" textLength=\"58\" x=\"36\" y=\"140.6074\">Exposure</text><line style=\"stroke: #383838; stroke-width: 1.5;\" x1=\"33\" x2=\"97\" y1=\"148.4375\" y2=\"148.4375\"/></a><text fill=\"#000000\" font-family=\"sans-serif\" font-size=\"14\" lengthAdjust=\"spacingAndGlyphs\" textLength=\"23\" x=\"583.5\" y=\"336.4951\">xrsl</text><rect fill=\"#383838\" height=\"12\" style=\"stroke: #F8F8F8; stroke-width: 1.5;\" width=\"12\" x=\"589\" y=\"311.5\"/><text fill=\"#000000\" font-family=\"sans-serif\" font-size=\"14\" lengthAdjust=\"spacingAndGlyphs\" textLength=\"19\" x=\"443.5\" y=\"112.1982\">xsf</text><rect fill=\"#383838\" height=\"12\" style=\"stroke: #F8F8F8; stroke-width: 1.5;\" width=\"12\" x=\"447\" y=\"127.5\"/><text fill=\"#000000\" font-family=\"sans-serif\" font-size=\"14\" lengthAdjust=\"spacingAndGlyphs\" textLength=\"48\" x=\"251\" y=\"336.4951\">$result</text><rect fill=\"#383838\" height=\"12\" style=\"stroke: #F8F8F8; stroke-width: 1.5;\" width=\"12\" x=\"269\" y=\"311.5\"/><text fill=\"#000000\" font-family=\"sans-serif\" font-size=\"14\" lengthAdjust=\"spacingAndGlyphs\" textLength=\"23\" x=\"310.5\" y=\"336.4951\">xrsl</text><rect fill=\"#383838\" height=\"12\" style=\"stroke: #F8F8F8; stroke-width: 1.5;\" width=\"12\" x=\"316\" y=\"311.5\"/><text fill=\"#000000\" font-family=\"sans-serif\" font-size=\"14\" lengthAdjust=\"spacingAndGlyphs\" textLength=\"48\" x=\"158\" y=\"408.4951\">$result</text><rect fill=\"#383838\" height=\"12\" style=\"stroke: #F8F8F8; stroke-width: 1.5;\" width=\"12\" x=\"176\" y=\"383.5\"/><text fill=\"#000000\" font-family=\"sans-serif\" font-size=\"14\" lengthAdjust=\"spacingAndGlyphs\" textLength=\"19\" x=\"174.5\" y=\"112.1982\">xsf</text><rect fill=\"#383838\" height=\"12\" style=\"stroke: #F8F8F8; stroke-width: 1.5;\" width=\"12\" x=\"178\" y=\"127.5\"/><!--MD5=[e00ab30c8c3b7d9284740e569dd73ee6]\n",
       "@startuml\r\n",
       "skinparam linetype polyline\r\n",
       "skinparam monochrome true\r\n",
       "skinparam classbackgroundcolor white\r\n",
       "skinparam shadowing false\r\n",
       "skinparam wrapWidth 300\r\n",
       "hide circle\r\n",
       "\r\n",
       "package \"PictureTaking\" as E1  [[psysml:14e6fe4c-a4d9-4c34-a316-9cbabb101fb1 ]]  {\r\n",
       "comp def \"Exposure\" as E2  <<(T,blue)part def>> [[psysml:9a8bab7b-7078-4a6b-add3-8a1328b0c2d6 ]] {\r\n",
       "}\r\n",
       "rec def \"Focus\" as E3  <<(T,blue)action def>> [[psysml:44676d48-2ba6-47f9-b761-758fcbe31dbd ]] {\r\n",
       "portout \"xrsl\" as E4  [[psysml:7285223f-23e3-4ded-a1a3-c8dbe746ff9d ]] \r\n",
       "}\r\n",
       "\r\n",
       "rec def \"Shoot\" as E5  <<(T,blue)action def>> [[psysml:d9adf687-8d42-42d3-b1b5-8b6413ee0fad ]] {\r\n",
       "portin \"xsf\" as E6  [[psysml:3f6601e8-74ad-4acc-b654-2e93fe2ad4c3 ]] \r\n",
       "}\r\n",
       "\r\n",
       "rec usage \"takePicture\" as E7  <<(T,blue)action>> [[psysml:704c53cf-e737-43c7-aaa6-afd6aa41e73e ]] {\r\n",
       "rec usage \"focus\" as E8  <<(T,blue)action>> [[psysml:247459c4-dc1c-41f3-9bbd-2210d0a14144 ]] {\r\n",
       "portout \"$result\" as E9  [[psysml:d24c4944-7685-4e9e-b1e9-aa0857e67b68 ]] \r\n",
       "portout \"xrsl\" as E10  [[psysml:a9b63f0e-a7c1-4470-82ae-da9c74073d16 ]] \r\n",
       "}\r\n",
       "\r\n",
       "rec usage \"shoot\" as E11  <<(T,blue)action>> [[psysml:d7e0c4ce-9a2d-4e4d-8f17-58d415aecc73 ]] {\r\n",
       "portout \"$result\" as E12  [[psysml:edaf4370-9fef-4792-934f-b7a89f5913cc ]] \r\n",
       "portin \"xsf\" as E13  [[psysml:1ee0e316-c080-4a1b-aa8d-122e3ae24dab ]] \r\n",
       "}\r\n",
       "\r\n",
       "}\r\n",
       "\r\n",
       "}\r\n",
       "@enduml\r\n",
       "\n",
       "PlantUML version 1.2020.13(Sat Jun 13 12:26:38 UTC 2020)\n",
       "(EPL source distribution)\n",
       "Java Runtime: OpenJDK Runtime Environment\n",
       "JVM: OpenJDK 64-Bit Server VM\n",
       "Default Encoding: UTF-8\n",
       "Language: en\n",
       "Country: null\n",
       "--></g></svg>"
      ]
     },
     "execution_count": 15,
     "metadata": {},
     "output_type": "execute_result"
    }
   ],
   "source": [
    "%viz --style=\"POLYLINE\" --view=\"MIXED\" \"PictureTaking\""
   ]
  },
  {
   "cell_type": "code",
   "execution_count": 16,
   "id": "b32a569f",
   "metadata": {
    "execution": {
     "iopub.execute_input": "2021-04-20T07:32:01.520640Z",
     "iopub.status.busy": "2021-04-20T07:32:01.519598Z",
     "iopub.status.idle": "2021-04-20T07:32:01.581349Z",
     "shell.execute_reply": "2021-04-20T07:32:01.580861Z"
    }
   },
   "outputs": [
    {
     "data": {
      "image/svg+xml": [
       "<?xml version=\"1.0\" encoding=\"UTF-8\" standalone=\"no\"?><svg xmlns=\"http://www.w3.org/2000/svg\" xmlns:xlink=\"http://www.w3.org/1999/xlink\" contentScriptType=\"application/ecmascript\" contentStyleType=\"text/css\" height=\"509px\" preserveAspectRatio=\"none\" style=\"width:537px;height:509px;\" version=\"1.1\" viewBox=\"0 0 537 509\" width=\"537px\" zoomAndPan=\"magnify\"><defs/><g><!--MD5=[fbc87193dbaf4d95561dea2c320d4a47]\n",
       "cluster E1--><a href=\"psysml:14e6fe4c-a4d9-4c34-a316-9cbabb101fb1\" target=\"_top\" title=\"psysml:14e6fe4c-a4d9-4c34-a316-9cbabb101fb1\" xlink:actuate=\"onRequest\" xlink:href=\"psysml:14e6fe4c-a4d9-4c34-a316-9cbabb101fb1\" xlink:show=\"new\" xlink:title=\"psysml:14e6fe4c-a4d9-4c34-a316-9cbabb101fb1\" xlink:type=\"simple\"><polygon fill=\"#FFFFFF\" points=\"16,6,130,6,137,28.2969,515,28.2969,515,497,16,497,16,6\" style=\"stroke: #000000; stroke-width: 1.5;\"/><line style=\"stroke: #000000; stroke-width: 1.5;\" x1=\"16\" x2=\"137\" y1=\"28.2969\" y2=\"28.2969\"/><text fill=\"#000000\" font-family=\"sans-serif\" font-size=\"14\" font-weight=\"bold\" lengthAdjust=\"spacingAndGlyphs\" textLength=\"108\" x=\"20\" y=\"20.9951\">PictureTaking</text></a><!--MD5=[d5e69f78d87373223dbae638b30a9c99]\n",
       "cluster E3--><a href=\"psysml:44676d48-2ba6-47f9-b761-758fcbe31dbd\" target=\"_top\" title=\"psysml:44676d48-2ba6-47f9-b761-758fcbe31dbd\" xlink:actuate=\"onRequest\" xlink:href=\"psysml:44676d48-2ba6-47f9-b761-758fcbe31dbd\" xlink:show=\"new\" xlink:title=\"psysml:44676d48-2ba6-47f9-b761-758fcbe31dbd\" xlink:type=\"simple\"><rect fill=\"#FFFFFF\" height=\"68\" id=\"E3\" style=\"stroke: #383838; stroke-width: 1.5;\" width=\"346\" x=\"43\" y=\"41\"/><rect fill=\"#F8F8F8\" height=\"37.9375\" style=\"stroke: #383838; stroke-width: 1.5;\" width=\"346\" x=\"43\" y=\"41\"/><text fill=\"#000000\" font-family=\"sans-serif\" font-size=\"12\" font-style=\"italic\" lengthAdjust=\"spacingAndGlyphs\" textLength=\"77\" x=\"177.5\" y=\"57.1387\">«action def»</text><text fill=\"#000000\" font-family=\"sans-serif\" font-size=\"12\" lengthAdjust=\"spacingAndGlyphs\" textLength=\"37\" x=\"197.5\" y=\"71.1074\">Focus</text></a><!--MD5=[de5ec2e2e8f62f467e546659f5068c88]\n",
       "cluster E5--><a href=\"psysml:d9adf687-8d42-42d3-b1b5-8b6413ee0fad\" target=\"_top\" title=\"psysml:d9adf687-8d42-42d3-b1b5-8b6413ee0fad\" xlink:actuate=\"onRequest\" xlink:href=\"psysml:d9adf687-8d42-42d3-b1b5-8b6413ee0fad\" xlink:show=\"new\" xlink:title=\"psysml:d9adf687-8d42-42d3-b1b5-8b6413ee0fad\" xlink:type=\"simple\"><rect fill=\"#FFFFFF\" height=\"68\" id=\"E5\" style=\"stroke: #383838; stroke-width: 1.5;\" width=\"229\" x=\"110\" y=\"117\"/><rect fill=\"#F8F8F8\" height=\"37.9375\" style=\"stroke: #383838; stroke-width: 1.5;\" width=\"229\" x=\"110\" y=\"117\"/><text fill=\"#000000\" font-family=\"sans-serif\" font-size=\"12\" font-style=\"italic\" lengthAdjust=\"spacingAndGlyphs\" textLength=\"77\" x=\"186\" y=\"133.1387\">«action def»</text><text fill=\"#000000\" font-family=\"sans-serif\" font-size=\"12\" lengthAdjust=\"spacingAndGlyphs\" textLength=\"37\" x=\"206\" y=\"147.1074\">Shoot</text></a><!--MD5=[168fadf3d0c3fd93dd5d6da1b1d7ab76]\n",
       "cluster E7--><a href=\"psysml:704c53cf-e737-43c7-aaa6-afd6aa41e73e\" target=\"_top\" title=\"psysml:704c53cf-e737-43c7-aaa6-afd6aa41e73e\" xlink:actuate=\"onRequest\" xlink:href=\"psysml:704c53cf-e737-43c7-aaa6-afd6aa41e73e\" xlink:show=\"new\" xlink:title=\"psysml:704c53cf-e737-43c7-aaa6-afd6aa41e73e\" xlink:type=\"simple\"><rect fill=\"#FFFFFF\" height=\"218\" id=\"E7\" rx=\"10\" ry=\"10\" style=\"stroke: #383838; stroke-width: 1.5;\" width=\"451\" x=\"40\" y=\"201\"/><rect fill=\"#F8F8F8\" height=\"37.9375\" rx=\"10\" ry=\"10\" style=\"stroke: #F8F8F8; stroke-width: 1.5;\" width=\"451\" x=\"40\" y=\"201\"/><rect fill=\"#F8F8F8\" height=\"10\" style=\"stroke: #F8F8F8; stroke-width: 1.5;\" width=\"451\" x=\"40\" y=\"228.9375\"/><rect fill=\"none\" height=\"218\" id=\"E7\" rx=\"10\" ry=\"10\" style=\"stroke: #383838; stroke-width: 1.5;\" width=\"451\" x=\"40\" y=\"201\"/><text fill=\"#000000\" font-family=\"sans-serif\" font-size=\"12\" font-style=\"italic\" lengthAdjust=\"spacingAndGlyphs\" textLength=\"53\" x=\"239\" y=\"217.1387\">«action»</text><text fill=\"#000000\" font-family=\"sans-serif\" font-size=\"12\" lengthAdjust=\"spacingAndGlyphs\" textLength=\"72\" x=\"229.5\" y=\"231.1074\">takePicture</text><line style=\"stroke: #383838; stroke-width: 1.0;\" x1=\"40\" x2=\"491\" y1=\"238.9375\" y2=\"238.9375\"/></a><!--MD5=[55dfccfc6c49c2d10cd1bd2211a6c90c]\n",
       "cluster E8--><a href=\"psysml:247459c4-dc1c-41f3-9bbd-2210d0a14144\" target=\"_top\" title=\"psysml:247459c4-dc1c-41f3-9bbd-2210d0a14144\" xlink:actuate=\"onRequest\" xlink:href=\"psysml:247459c4-dc1c-41f3-9bbd-2210d0a14144\" xlink:show=\"new\" xlink:title=\"psysml:247459c4-dc1c-41f3-9bbd-2210d0a14144\" xlink:type=\"simple\"><rect fill=\"#FFFFFF\" height=\"47\" id=\"E8\" rx=\"10\" ry=\"10\" style=\"stroke: #383838; stroke-width: 1.5;\" width=\"351\" x=\"56\" y=\"266\"/><rect fill=\"#F8F8F8\" height=\"37.9375\" rx=\"10\" ry=\"10\" style=\"stroke: #F8F8F8; stroke-width: 1.5;\" width=\"351\" x=\"56\" y=\"266\"/><rect fill=\"#F8F8F8\" height=\"10\" style=\"stroke: #F8F8F8; stroke-width: 1.5;\" width=\"351\" x=\"56\" y=\"293.9375\"/><rect fill=\"none\" height=\"47\" id=\"E8\" rx=\"10\" ry=\"10\" style=\"stroke: #383838; stroke-width: 1.5;\" width=\"351\" x=\"56\" y=\"266\"/><text fill=\"#000000\" font-family=\"sans-serif\" font-size=\"12\" font-style=\"italic\" lengthAdjust=\"spacingAndGlyphs\" textLength=\"53\" x=\"205\" y=\"282.1387\">«action»</text><text fill=\"#000000\" font-family=\"sans-serif\" font-size=\"12\" lengthAdjust=\"spacingAndGlyphs\" textLength=\"34\" x=\"214.5\" y=\"296.1074\">focus</text><line style=\"stroke: #383838; stroke-width: 1.0;\" x1=\"56\" x2=\"407\" y1=\"303.9375\" y2=\"303.9375\"/></a><!--MD5=[917b9dd0c7eca3ee5f47219d1a84c0ad]\n",
       "cluster E11--><a href=\"psysml:d7e0c4ce-9a2d-4e4d-8f17-58d415aecc73\" target=\"_top\" title=\"psysml:d7e0c4ce-9a2d-4e4d-8f17-58d415aecc73\" xlink:actuate=\"onRequest\" xlink:href=\"psysml:d7e0c4ce-9a2d-4e4d-8f17-58d415aecc73\" xlink:show=\"new\" xlink:title=\"psysml:d7e0c4ce-9a2d-4e4d-8f17-58d415aecc73\" xlink:type=\"simple\"><rect fill=\"#FFFFFF\" height=\"36\" id=\"E11\" rx=\"10\" ry=\"10\" style=\"stroke: #383838; stroke-width: 1.5;\" width=\"369\" x=\"110\" y=\"335\"/><rect fill=\"#F8F8F8\" height=\"37.9375\" rx=\"10\" ry=\"10\" style=\"stroke: #F8F8F8; stroke-width: 1.5;\" width=\"369\" x=\"110\" y=\"335\"/><rect fill=\"#F8F8F8\" height=\"10\" style=\"stroke: #F8F8F8; stroke-width: 1.5;\" width=\"369\" x=\"110\" y=\"362.9375\"/><rect fill=\"none\" height=\"36\" id=\"E11\" rx=\"10\" ry=\"10\" style=\"stroke: #383838; stroke-width: 1.5;\" width=\"369\" x=\"110\" y=\"335\"/><text fill=\"#000000\" font-family=\"sans-serif\" font-size=\"12\" font-style=\"italic\" lengthAdjust=\"spacingAndGlyphs\" textLength=\"53\" x=\"268\" y=\"351.1387\">«action»</text><text fill=\"#000000\" font-family=\"sans-serif\" font-size=\"12\" lengthAdjust=\"spacingAndGlyphs\" textLength=\"36\" x=\"276.5\" y=\"365.1074\">shoot</text><line style=\"stroke: #383838; stroke-width: 1.0;\" x1=\"110\" x2=\"479\" y1=\"372.9375\" y2=\"372.9375\"/></a><!--MD5=[b4997ac47864f28c2f74865a473b2911]\n",
       "class E2--><a href=\"psysml:9a8bab7b-7078-4a6b-add3-8a1328b0c2d6\" target=\"_top\" title=\"psysml:9a8bab7b-7078-4a6b-add3-8a1328b0c2d6\" xlink:actuate=\"onRequest\" xlink:href=\"psysml:9a8bab7b-7078-4a6b-add3-8a1328b0c2d6\" xlink:show=\"new\" xlink:title=\"psysml:9a8bab7b-7078-4a6b-add3-8a1328b0c2d6\" xlink:type=\"simple\"><rect fill=\"#FFFFFF\" height=\"45.9375\" id=\"E2\" style=\"stroke: #383838; stroke-width: 1.5;\" width=\"66\" x=\"77\" y=\"435\"/><text fill=\"#000000\" font-family=\"sans-serif\" font-size=\"12\" font-style=\"italic\" lengthAdjust=\"spacingAndGlyphs\" textLength=\"64\" x=\"78\" y=\"451.1387\">«part def»</text><text fill=\"#000000\" font-family=\"sans-serif\" font-size=\"12\" lengthAdjust=\"spacingAndGlyphs\" textLength=\"58\" x=\"81\" y=\"465.1074\">Exposure</text><line style=\"stroke: #383838; stroke-width: 1.5;\" x1=\"78\" x2=\"142\" y1=\"472.9375\" y2=\"472.9375\"/></a><text fill=\"#000000\" font-family=\"sans-serif\" font-size=\"14\" lengthAdjust=\"spacingAndGlyphs\" textLength=\"23\" x=\"377.5\" y=\"53.6982\">xrsl</text><rect fill=\"#383838\" height=\"12\" style=\"stroke: #F8F8F8; stroke-width: 1.5;\" width=\"12\" x=\"383\" y=\"69\"/><text fill=\"#000000\" font-family=\"sans-serif\" font-size=\"14\" lengthAdjust=\"spacingAndGlyphs\" textLength=\"19\" x=\"100.5\" y=\"129.6982\">xsf</text><rect fill=\"#383838\" height=\"12\" style=\"stroke: #F8F8F8; stroke-width: 1.5;\" width=\"12\" x=\"104\" y=\"145\"/><text fill=\"#000000\" font-family=\"sans-serif\" font-size=\"14\" lengthAdjust=\"spacingAndGlyphs\" textLength=\"48\" x=\"365\" y=\"331.9951\">$result</text><rect fill=\"#383838\" height=\"12\" style=\"stroke: #F8F8F8; stroke-width: 1.5;\" width=\"12\" x=\"383\" y=\"307\"/><text fill=\"#000000\" font-family=\"sans-serif\" font-size=\"14\" lengthAdjust=\"spacingAndGlyphs\" textLength=\"23\" x=\"377.5\" y=\"244.6982\">xrsl</text><rect fill=\"#383838\" height=\"12\" style=\"stroke: #F8F8F8; stroke-width: 1.5;\" width=\"12\" x=\"383\" y=\"260\"/><text fill=\"#000000\" font-family=\"sans-serif\" font-size=\"14\" lengthAdjust=\"spacingAndGlyphs\" textLength=\"48\" x=\"437\" y=\"389.9951\">$result</text><rect fill=\"#383838\" height=\"12\" style=\"stroke: #F8F8F8; stroke-width: 1.5;\" width=\"12\" x=\"455\" y=\"365\"/><text fill=\"#000000\" font-family=\"sans-serif\" font-size=\"14\" lengthAdjust=\"spacingAndGlyphs\" textLength=\"19\" x=\"100.5\" y=\"387.9951\">xsf</text><rect fill=\"#383838\" height=\"12\" style=\"stroke: #F8F8F8; stroke-width: 1.5;\" width=\"12\" x=\"104\" y=\"363\"/><!--MD5=[a8a605d84bb98870372738df234d6ac3]\n",
       "@startuml\r\n",
       "left to right direction\r\n",
       "skinparam monochrome true\r\n",
       "skinparam classbackgroundcolor white\r\n",
       "skinparam shadowing false\r\n",
       "skinparam wrapWidth 300\r\n",
       "hide circle\r\n",
       "\r\n",
       "package \"PictureTaking\" as E1  [[psysml:14e6fe4c-a4d9-4c34-a316-9cbabb101fb1 ]]  {\r\n",
       "comp def \"Exposure\" as E2  <<(T,blue)part def>> [[psysml:9a8bab7b-7078-4a6b-add3-8a1328b0c2d6 ]] {\r\n",
       "}\r\n",
       "rec def \"Focus\" as E3  <<(T,blue)action def>> [[psysml:44676d48-2ba6-47f9-b761-758fcbe31dbd ]] {\r\n",
       "portout \"xrsl\" as E4  [[psysml:7285223f-23e3-4ded-a1a3-c8dbe746ff9d ]] \r\n",
       "}\r\n",
       "\r\n",
       "rec def \"Shoot\" as E5  <<(T,blue)action def>> [[psysml:d9adf687-8d42-42d3-b1b5-8b6413ee0fad ]] {\r\n",
       "portin \"xsf\" as E6  [[psysml:3f6601e8-74ad-4acc-b654-2e93fe2ad4c3 ]] \r\n",
       "}\r\n",
       "\r\n",
       "rec usage \"takePicture\" as E7  <<(T,blue)action>> [[psysml:704c53cf-e737-43c7-aaa6-afd6aa41e73e ]] {\r\n",
       "rec usage \"focus\" as E8  <<(T,blue)action>> [[psysml:247459c4-dc1c-41f3-9bbd-2210d0a14144 ]] {\r\n",
       "portout \"$result\" as E9  [[psysml:d24c4944-7685-4e9e-b1e9-aa0857e67b68 ]] \r\n",
       "portout \"xrsl\" as E10  [[psysml:a9b63f0e-a7c1-4470-82ae-da9c74073d16 ]] \r\n",
       "}\r\n",
       "\r\n",
       "rec usage \"shoot\" as E11  <<(T,blue)action>> [[psysml:d7e0c4ce-9a2d-4e4d-8f17-58d415aecc73 ]] {\r\n",
       "portout \"$result\" as E12  [[psysml:edaf4370-9fef-4792-934f-b7a89f5913cc ]] \r\n",
       "portin \"xsf\" as E13  [[psysml:1ee0e316-c080-4a1b-aa8d-122e3ae24dab ]] \r\n",
       "}\r\n",
       "\r\n",
       "}\r\n",
       "\r\n",
       "}\r\n",
       "@enduml\r\n",
       "\n",
       "PlantUML version 1.2020.13(Sat Jun 13 12:26:38 UTC 2020)\n",
       "(EPL source distribution)\n",
       "Java Runtime: OpenJDK Runtime Environment\n",
       "JVM: OpenJDK 64-Bit Server VM\n",
       "Default Encoding: UTF-8\n",
       "Language: en\n",
       "Country: null\n",
       "--></g></svg>"
      ]
     },
     "execution_count": 16,
     "metadata": {},
     "output_type": "execute_result"
    }
   ],
   "source": [
    "%viz --style=\"LR\" --view=\"Default\" \"PictureTaking\""
   ]
  },
  {
   "cell_type": "code",
   "execution_count": 17,
   "id": "2f501c67",
   "metadata": {
    "execution": {
     "iopub.execute_input": "2021-04-20T07:32:01.631747Z",
     "iopub.status.busy": "2021-04-20T07:32:01.631193Z",
     "iopub.status.idle": "2021-04-20T07:32:01.682771Z",
     "shell.execute_reply": "2021-04-20T07:32:01.680640Z"
    }
   },
   "outputs": [
    {
     "data": {
      "image/svg+xml": [
       "<?xml version=\"1.0\" encoding=\"UTF-8\" standalone=\"no\"?><svg xmlns=\"http://www.w3.org/2000/svg\" xmlns:xlink=\"http://www.w3.org/1999/xlink\" contentScriptType=\"application/ecmascript\" contentStyleType=\"text/css\" height=\"196px\" preserveAspectRatio=\"none\" style=\"width:586px;height:196px;\" version=\"1.1\" viewBox=\"0 0 586 196\" width=\"586px\" zoomAndPan=\"magnify\"><defs/><g><!--MD5=[fbc87193dbaf4d95561dea2c320d4a47]\n",
       "cluster E1--><a href=\"psysml:14e6fe4c-a4d9-4c34-a316-9cbabb101fb1\" target=\"_top\" title=\"psysml:14e6fe4c-a4d9-4c34-a316-9cbabb101fb1\" xlink:actuate=\"onRequest\" xlink:href=\"psysml:14e6fe4c-a4d9-4c34-a316-9cbabb101fb1\" xlink:show=\"new\" xlink:title=\"psysml:14e6fe4c-a4d9-4c34-a316-9cbabb101fb1\" xlink:type=\"simple\"><polygon fill=\"#FFFFFF\" points=\"16,6,130,6,137,28.2969,564,28.2969,564,184,16,184,16,6\" style=\"stroke: #000000; stroke-width: 1.5;\"/><line style=\"stroke: #000000; stroke-width: 1.5;\" x1=\"16\" x2=\"137\" y1=\"28.2969\" y2=\"28.2969\"/><text fill=\"#000000\" font-family=\"sans-serif\" font-size=\"14\" font-weight=\"bold\" lengthAdjust=\"spacingAndGlyphs\" textLength=\"108\" x=\"20\" y=\"20.9951\">PictureTaking</text></a><!--MD5=[b4997ac47864f28c2f74865a473b2911]\n",
       "class E2--><a href=\"psysml:9a8bab7b-7078-4a6b-add3-8a1328b0c2d6\" target=\"_top\" title=\"psysml:9a8bab7b-7078-4a6b-add3-8a1328b0c2d6\" xlink:actuate=\"onRequest\" xlink:href=\"psysml:9a8bab7b-7078-4a6b-add3-8a1328b0c2d6\" xlink:show=\"new\" xlink:title=\"psysml:9a8bab7b-7078-4a6b-add3-8a1328b0c2d6\" xlink:type=\"simple\"><rect fill=\"#FFFFFF\" height=\"45.9375\" id=\"E2\" style=\"stroke: #383838; stroke-width: 1.5;\" width=\"66\" x=\"482\" y=\"74\"/><text fill=\"#000000\" font-family=\"sans-serif\" font-size=\"12\" font-style=\"italic\" lengthAdjust=\"spacingAndGlyphs\" textLength=\"64\" x=\"483\" y=\"90.1387\">«part def»</text><text fill=\"#000000\" font-family=\"sans-serif\" font-size=\"12\" lengthAdjust=\"spacingAndGlyphs\" textLength=\"58\" x=\"486\" y=\"104.1074\">Exposure</text><line style=\"stroke: #383838; stroke-width: 1.5;\" x1=\"483\" x2=\"547\" y1=\"111.9375\" y2=\"111.9375\"/></a><!--MD5=[09b614a08d8cba4a07c9adeb5e0fee81]\n",
       "class E3--><a href=\"psysml:44676d48-2ba6-47f9-b761-758fcbe31dbd\" target=\"_top\" title=\"psysml:44676d48-2ba6-47f9-b761-758fcbe31dbd\" xlink:actuate=\"onRequest\" xlink:href=\"psysml:44676d48-2ba6-47f9-b761-758fcbe31dbd\" xlink:show=\"new\" xlink:title=\"psysml:44676d48-2ba6-47f9-b761-758fcbe31dbd\" xlink:type=\"simple\"><rect fill=\"#FFFFFF\" height=\"45.9375\" id=\"E3\" style=\"stroke: #383838; stroke-width: 1.5;\" width=\"79\" x=\"319\" y=\"122\"/><text fill=\"#000000\" font-family=\"sans-serif\" font-size=\"12\" font-style=\"italic\" lengthAdjust=\"spacingAndGlyphs\" textLength=\"77\" x=\"320\" y=\"138.1387\">«action def»</text><text fill=\"#000000\" font-family=\"sans-serif\" font-size=\"12\" lengthAdjust=\"spacingAndGlyphs\" textLength=\"37\" x=\"340\" y=\"152.1074\">Focus</text><line style=\"stroke: #383838; stroke-width: 1.5;\" x1=\"320\" x2=\"397\" y1=\"159.9375\" y2=\"159.9375\"/></a><!--MD5=[ebbe1d658d1005bcc118a6aa81145e00]\n",
       "class E4--><a href=\"psysml:d9adf687-8d42-42d3-b1b5-8b6413ee0fad\" target=\"_top\" title=\"psysml:d9adf687-8d42-42d3-b1b5-8b6413ee0fad\" xlink:actuate=\"onRequest\" xlink:href=\"psysml:d9adf687-8d42-42d3-b1b5-8b6413ee0fad\" xlink:show=\"new\" xlink:title=\"psysml:d9adf687-8d42-42d3-b1b5-8b6413ee0fad\" xlink:type=\"simple\"><rect fill=\"#FFFFFF\" height=\"45.9375\" id=\"E4\" style=\"stroke: #383838; stroke-width: 1.5;\" width=\"79\" x=\"319\" y=\"41\"/><text fill=\"#000000\" font-family=\"sans-serif\" font-size=\"12\" font-style=\"italic\" lengthAdjust=\"spacingAndGlyphs\" textLength=\"77\" x=\"320\" y=\"57.1387\">«action def»</text><text fill=\"#000000\" font-family=\"sans-serif\" font-size=\"12\" lengthAdjust=\"spacingAndGlyphs\" textLength=\"37\" x=\"340\" y=\"71.1074\">Shoot</text><line style=\"stroke: #383838; stroke-width: 1.5;\" x1=\"320\" x2=\"397\" y1=\"78.9375\" y2=\"78.9375\"/></a><!--MD5=[270fce915f116d4de14055a7c1d9a0f3]\n",
       "class E5--><a href=\"psysml:704c53cf-e737-43c7-aaa6-afd6aa41e73e\" target=\"_top\" title=\"psysml:704c53cf-e737-43c7-aaa6-afd6aa41e73e\" xlink:actuate=\"onRequest\" xlink:href=\"psysml:704c53cf-e737-43c7-aaa6-afd6aa41e73e\" xlink:show=\"new\" xlink:title=\"psysml:704c53cf-e737-43c7-aaa6-afd6aa41e73e\" xlink:type=\"simple\"><rect fill=\"#FFFFFF\" height=\"45.9375\" id=\"E5\" rx=\"10\" ry=\"10\" style=\"stroke: #383838; stroke-width: 1.5;\" width=\"78\" x=\"32\" y=\"82\"/><text fill=\"#000000\" font-family=\"sans-serif\" font-size=\"12\" font-style=\"italic\" lengthAdjust=\"spacingAndGlyphs\" textLength=\"53\" x=\"44.5\" y=\"98.1387\">«action»</text><text fill=\"#000000\" font-family=\"sans-serif\" font-size=\"12\" lengthAdjust=\"spacingAndGlyphs\" textLength=\"72\" x=\"35\" y=\"112.1074\">takePicture</text><line style=\"stroke: #383838; stroke-width: 1.5;\" x1=\"33\" x2=\"109\" y1=\"119.9375\" y2=\"119.9375\"/></a><!--MD5=[60a26617385b1d2d0262a64233df1f8d]\n",
       "class E6--><a href=\"psysml:247459c4-dc1c-41f3-9bbd-2210d0a14144\" target=\"_top\" title=\"psysml:247459c4-dc1c-41f3-9bbd-2210d0a14144\" xlink:actuate=\"onRequest\" xlink:href=\"psysml:247459c4-dc1c-41f3-9bbd-2210d0a14144\" xlink:show=\"new\" xlink:title=\"psysml:247459c4-dc1c-41f3-9bbd-2210d0a14144\" xlink:type=\"simple\"><rect fill=\"#FFFFFF\" height=\"45.9375\" id=\"E6\" rx=\"10\" ry=\"10\" style=\"stroke: #383838; stroke-width: 1.5;\" width=\"85\" x=\"172\" y=\"122\"/><text fill=\"#000000\" font-family=\"sans-serif\" font-size=\"12\" font-style=\"italic\" lengthAdjust=\"spacingAndGlyphs\" textLength=\"53\" x=\"188\" y=\"138.1387\">«action»</text><text fill=\"#000000\" font-family=\"sans-serif\" font-size=\"12\" lengthAdjust=\"spacingAndGlyphs\" textLength=\"79\" x=\"175\" y=\"152.1074\">focus: Focus</text><line style=\"stroke: #383838; stroke-width: 1.5;\" x1=\"173\" x2=\"256\" y1=\"159.9375\" y2=\"159.9375\"/></a><!--MD5=[2156ba9850f5573cc1fc38a6a4b2f02b]\n",
       "class E7--><a href=\"psysml:d7e0c4ce-9a2d-4e4d-8f17-58d415aecc73\" target=\"_top\" title=\"psysml:d7e0c4ce-9a2d-4e4d-8f17-58d415aecc73\" xlink:actuate=\"onRequest\" xlink:href=\"psysml:d7e0c4ce-9a2d-4e4d-8f17-58d415aecc73\" xlink:show=\"new\" xlink:title=\"psysml:d7e0c4ce-9a2d-4e4d-8f17-58d415aecc73\" xlink:type=\"simple\"><rect fill=\"#FFFFFF\" height=\"45.9375\" id=\"E7\" rx=\"10\" ry=\"10\" style=\"stroke: #383838; stroke-width: 1.5;\" width=\"87\" x=\"171\" y=\"41\"/><text fill=\"#000000\" font-family=\"sans-serif\" font-size=\"12\" font-style=\"italic\" lengthAdjust=\"spacingAndGlyphs\" textLength=\"53\" x=\"188\" y=\"57.1387\">«action»</text><text fill=\"#000000\" font-family=\"sans-serif\" font-size=\"12\" lengthAdjust=\"spacingAndGlyphs\" textLength=\"81\" x=\"174\" y=\"71.1074\">shoot: Shoot</text><line style=\"stroke: #383838; stroke-width: 1.5;\" x1=\"172\" x2=\"257\" y1=\"78.9375\" y2=\"78.9375\"/></a><!--MD5=[b900ca4392aad7a68aec1e9245e10ab9]\n",
       "reverse link E3 to E2--><a href=\"psysml:7285223f-23e3-4ded-a1a3-c8dbe746ff9d\" target=\"_top\" title=\"psysml:7285223f-23e3-4ded-a1a3-c8dbe746ff9d\" xlink:actuate=\"onRequest\" xlink:href=\"psysml:7285223f-23e3-4ded-a1a3-c8dbe746ff9d\" xlink:show=\"new\" xlink:title=\"psysml:7285223f-23e3-4ded-a1a3-c8dbe746ff9d\" xlink:type=\"simple\"><path d=\"M410.7,129.09 C434.19,121.79 461.33,113.36 481.89,106.98 \" fill=\"none\" id=\"E3&lt;-E2\" style=\"stroke: #383838; stroke-width: 1.0;\"/><polygon fill=\"#FFFFFF\" points=\"398.09,133.01,405.0066,135.0496,409.5496,129.4495,402.633,127.4099,398.09,133.01\" style=\"stroke: #383838; stroke-width: 1.0;\"/><text fill=\"#000000\" font-family=\"sans-serif\" font-size=\"13\" lengthAdjust=\"spacingAndGlyphs\" textLength=\"22\" x=\"429\" y=\"113.0669\">xrsl</text></a><!--MD5=[ddeed8deb2209213b62e6cfabaa108b2]\n",
       "reverse link E4 to E2--><a href=\"psysml:3f6601e8-74ad-4acc-b654-2e93fe2ad4c3\" target=\"_top\" title=\"psysml:3f6601e8-74ad-4acc-b654-2e93fe2ad4c3\" xlink:actuate=\"onRequest\" xlink:href=\"psysml:3f6601e8-74ad-4acc-b654-2e93fe2ad4c3\" xlink:show=\"new\" xlink:title=\"psysml:3f6601e8-74ad-4acc-b654-2e93fe2ad4c3\" xlink:type=\"simple\"><path d=\"M411.03,75.01 C434.44,80.01 461.42,85.77 481.89,90.14 \" fill=\"none\" id=\"E4&lt;-E2\" style=\"stroke: #383838; stroke-width: 1.0;\"/><polygon fill=\"#FFFFFF\" points=\"398.09,72.24,403.1227,77.4045,409.8256,74.7453,404.7929,69.5808,398.09,72.24\" style=\"stroke: #383838; stroke-width: 1.0;\"/><text fill=\"#000000\" font-family=\"sans-serif\" font-size=\"13\" lengthAdjust=\"spacingAndGlyphs\" textLength=\"18\" x=\"431\" y=\"76.0669\">xsf</text></a><!--MD5=[85d356282659285ab4b2cfe2f634dd2b]\n",
       "reverse link E5 to E6--><a href=\"psysml:b27ee466-0f4c-4005-a5ef-b2dd2df76771\" target=\"_top\" title=\"psysml:b27ee466-0f4c-4005-a5ef-b2dd2df76771\" xlink:actuate=\"onRequest\" xlink:href=\"psysml:b27ee466-0f4c-4005-a5ef-b2dd2df76771\" xlink:show=\"new\" xlink:title=\"psysml:b27ee466-0f4c-4005-a5ef-b2dd2df76771\" xlink:type=\"simple\"><path d=\"M122.82,119.37 C138.94,123.92 156.56,128.9 171.95,133.25 \" fill=\"none\" id=\"E5&lt;-E6\" style=\"stroke: #383838; stroke-width: 1.0;\"/><polygon fill=\"#383838\" points=\"110.29,115.82,114.9735,121.3031,121.8362,119.0888,117.1527,113.6057,110.29,115.82\" style=\"stroke: #383838; stroke-width: 1.0;\"/><text fill=\"#000000\" font-family=\"sans-serif\" font-size=\"13\" lengthAdjust=\"spacingAndGlyphs\" textLength=\"8\" x=\"155.9492\" y=\"144.6032\">1</text></a><!--MD5=[a717450b82c80b9240a525fa862496af]\n",
       "link E6 to E3--><a href=\"psysml:5a2a5603-bc94-4298-a763-49fe520ca5bc\" target=\"_top\" title=\"psysml:5a2a5603-bc94-4298-a763-49fe520ca5bc\" xlink:actuate=\"onRequest\" xlink:href=\"psysml:5a2a5603-bc94-4298-a763-49fe520ca5bc\" xlink:show=\"new\" xlink:title=\"psysml:5a2a5603-bc94-4298-a763-49fe520ca5bc\" xlink:type=\"simple\"><path d=\"M257.34,145 C270.27,145 284.76,145 298.62,145 \" fill=\"none\" id=\"E6-&gt;E3\" style=\"stroke: #383838; stroke-width: 1.0;\"/><polygon fill=\"#FFFFFF\" points=\"318.87,145,299.87,152,299.87,138,318.87,145\" style=\"stroke: #383838; stroke-width: 1.0;\"/><ellipse cx=\"294.17\" cy=\"150\" fill=\"#383838\" rx=\"2\" ry=\"2\" style=\"stroke: #383838; stroke-width: 1.0;\"/><ellipse cx=\"294.17\" cy=\"140\" fill=\"#383838\" rx=\"2\" ry=\"2\" style=\"stroke: #383838; stroke-width: 1.0;\"/></a><!--MD5=[452b418e7f8a40397a49b8c0a78acc5b]\n",
       "reverse link E5 to E7--><a href=\"psysml:aaa4df86-e408-4ec8-a2fe-61e5d0511306\" target=\"_top\" title=\"psysml:aaa4df86-e408-4ec8-a2fe-61e5d0511306\" xlink:actuate=\"onRequest\" xlink:href=\"psysml:aaa4df86-e408-4ec8-a2fe-61e5d0511306\" xlink:show=\"new\" xlink:title=\"psysml:aaa4df86-e408-4ec8-a2fe-61e5d0511306\" xlink:type=\"simple\"><path d=\"M123.07,90.2 C138.77,85.65 155.88,80.7 170.94,76.33 \" fill=\"none\" id=\"E5&lt;-E7\" style=\"stroke: #383838; stroke-width: 1.0;\"/><polygon fill=\"#383838\" points=\"110.29,93.9,117.1656,96.0739,121.8168,90.5633,114.9412,88.3894,110.29,93.9\" style=\"stroke: #383838; stroke-width: 1.0;\"/><text fill=\"#000000\" font-family=\"sans-serif\" font-size=\"13\" lengthAdjust=\"spacingAndGlyphs\" textLength=\"8\" x=\"155.0629\" y=\"91.6974\">1</text></a><!--MD5=[6bdd27f9905911a7e892a3dc65cf6b7c]\n",
       "link E7 to E4--><a href=\"psysml:f48d95ee-d7b3-4518-8228-9030b5bbf5ab\" target=\"_top\" title=\"psysml:f48d95ee-d7b3-4518-8228-9030b5bbf5ab\" xlink:actuate=\"onRequest\" xlink:href=\"psysml:f48d95ee-d7b3-4518-8228-9030b5bbf5ab\" xlink:show=\"new\" xlink:title=\"psysml:f48d95ee-d7b3-4518-8228-9030b5bbf5ab\" xlink:type=\"simple\"><path d=\"M258.1,64 C270.76,64 284.85,64 298.35,64 \" fill=\"none\" id=\"E7-&gt;E4\" style=\"stroke: #383838; stroke-width: 1.0;\"/><polygon fill=\"#FFFFFF\" points=\"318.8,64,299.8,71,299.8,57,318.8,64\" style=\"stroke: #383838; stroke-width: 1.0;\"/><ellipse cx=\"294.1\" cy=\"69\" fill=\"#383838\" rx=\"2\" ry=\"2\" style=\"stroke: #383838; stroke-width: 1.0;\"/><ellipse cx=\"294.1\" cy=\"59\" fill=\"#383838\" rx=\"2\" ry=\"2\" style=\"stroke: #383838; stroke-width: 1.0;\"/></a><!--MD5=[1cf588db095e65515b7329d3cee48d45]\n",
       "@startuml\r\n",
       "left to right direction\r\n",
       "skinparam monochrome true\r\n",
       "skinparam classbackgroundcolor white\r\n",
       "skinparam shadowing false\r\n",
       "skinparam wrapWidth 300\r\n",
       "hide circle\r\n",
       "\r\n",
       "package \"PictureTaking\" as E1  [[psysml:14e6fe4c-a4d9-4c34-a316-9cbabb101fb1 ]]  {\r\n",
       "comp def \"Exposure\" as E2  <<(T,blue)part def>> [[psysml:9a8bab7b-7078-4a6b-add3-8a1328b0c2d6 ]] {\r\n",
       "}\r\n",
       "comp def \"Focus\" as E3  <<(T,blue)action def>> [[psysml:44676d48-2ba6-47f9-b761-758fcbe31dbd ]] {\r\n",
       "}\r\n",
       "comp def \"Shoot\" as E4  <<(T,blue)action def>> [[psysml:d9adf687-8d42-42d3-b1b5-8b6413ee0fad ]] {\r\n",
       "}\r\n",
       "comp usage \"takePicture\" as E5  <<(T,blue)action>> [[psysml:704c53cf-e737-43c7-aaa6-afd6aa41e73e ]] {\r\n",
       "}\r\n",
       "comp usage \"focus: Focus\" as E6  <<(T,blue)action>> [[psysml:247459c4-dc1c-41f3-9bbd-2210d0a14144 ]] {\r\n",
       "}\r\n",
       "comp usage \"shoot: Shoot\" as E7  <<(T,blue)action>> [[psysml:d7e0c4ce-9a2d-4e4d-8f17-58d415aecc73 ]] {\r\n",
       "}\r\n",
       "E3 o- - E2 [[psysml:7285223f-23e3-4ded-a1a3-c8dbe746ff9d ]] : xrsl\r\n",
       "E4 o- - E2 [[psysml:3f6601e8-74ad-4acc-b654-2e93fe2ad4c3 ]] : xsf\r\n",
       "E5 *- - \"1\"E6 [[psysml:b27ee466-0f4c-4005-a5ef-b2dd2df76771 ]] \r\n",
       "E6 - -:|> E3 [[psysml:5a2a5603-bc94-4298-a763-49fe520ca5bc ]] \r\n",
       "E5 *- - \"1\"E7 [[psysml:aaa4df86-e408-4ec8-a2fe-61e5d0511306 ]] \r\n",
       "E7 - -:|> E4 [[psysml:f48d95ee-d7b3-4518-8228-9030b5bbf5ab ]] \r\n",
       "}\r\n",
       "@enduml\r\n",
       "\n",
       "PlantUML version 1.2020.13(Sat Jun 13 12:26:38 UTC 2020)\n",
       "(EPL source distribution)\n",
       "Java Runtime: OpenJDK Runtime Environment\n",
       "JVM: OpenJDK 64-Bit Server VM\n",
       "Default Encoding: UTF-8\n",
       "Language: en\n",
       "Country: null\n",
       "--></g></svg>"
      ]
     },
     "execution_count": 17,
     "metadata": {},
     "output_type": "execute_result"
    }
   ],
   "source": [
    "%viz --style=\"LR\" --view=\"Tree\" \"PictureTaking\""
   ]
  },
  {
   "cell_type": "code",
   "execution_count": 18,
   "id": "f504af6c",
   "metadata": {
    "execution": {
     "iopub.execute_input": "2021-04-20T07:32:01.733033Z",
     "iopub.status.busy": "2021-04-20T07:32:01.732234Z",
     "iopub.status.idle": "2021-04-20T07:32:01.738646Z",
     "shell.execute_reply": "2021-04-20T07:32:01.738011Z"
    }
   },
   "outputs": [
    {
     "data": {
      "image/svg+xml": [
       "<?xml version=\"1.0\" encoding=\"UTF-8\" standalone=\"no\"?><svg xmlns=\"http://www.w3.org/2000/svg\" xmlns:xlink=\"http://www.w3.org/1999/xlink\" contentScriptType=\"application/ecmascript\" contentStyleType=\"text/css\" height=\"12px\" preserveAspectRatio=\"none\" style=\"width:12px;height:12px;\" version=\"1.1\" viewBox=\"0 0 12 12\" width=\"12px\" zoomAndPan=\"magnify\"><defs/><g><!--MD5=[19d285c9d72a204eba4e2cd117d745e8]\n",
       "@startuml\r\n",
       "left to right direction\r\n",
       "skinparam monochrome true\r\n",
       "skinparam classbackgroundcolor white\r\n",
       "skinparam shadowing false\r\n",
       "skinparam wrapWidth 300\r\n",
       "hide circle\r\n",
       "\r\n",
       "@enduml\r\n",
       "\n",
       "PlantUML version 1.2020.13(Sat Jun 13 12:26:38 UTC 2020)\n",
       "(EPL source distribution)\n",
       "Java Runtime: OpenJDK Runtime Environment\n",
       "JVM: OpenJDK 64-Bit Server VM\n",
       "Default Encoding: UTF-8\n",
       "Language: en\n",
       "Country: null\n",
       "--></g></svg>"
      ]
     },
     "execution_count": 18,
     "metadata": {},
     "output_type": "execute_result"
    }
   ],
   "source": [
    "%viz --style=\"LR\" --view=\"State\" \"PictureTaking\""
   ]
  },
  {
   "cell_type": "code",
   "execution_count": 19,
   "id": "5524eadb",
   "metadata": {
    "execution": {
     "iopub.execute_input": "2021-04-20T07:32:01.788363Z",
     "iopub.status.busy": "2021-04-20T07:32:01.787881Z",
     "iopub.status.idle": "2021-04-20T07:32:01.844538Z",
     "shell.execute_reply": "2021-04-20T07:32:01.841644Z"
    }
   },
   "outputs": [
    {
     "data": {
      "image/svg+xml": [
       "<?xml version=\"1.0\" encoding=\"UTF-8\" standalone=\"no\"?><svg xmlns=\"http://www.w3.org/2000/svg\" xmlns:xlink=\"http://www.w3.org/1999/xlink\" contentScriptType=\"application/ecmascript\" contentStyleType=\"text/css\" height=\"507px\" preserveAspectRatio=\"none\" style=\"width:413px;height:507px;\" version=\"1.1\" viewBox=\"0 0 413 507\" width=\"413px\" zoomAndPan=\"magnify\"><defs/><g><!--MD5=[fbc87193dbaf4d95561dea2c320d4a47]\n",
       "cluster E1--><a href=\"psysml:14e6fe4c-a4d9-4c34-a316-9cbabb101fb1\" target=\"_top\" title=\"psysml:14e6fe4c-a4d9-4c34-a316-9cbabb101fb1\" xlink:actuate=\"onRequest\" xlink:href=\"psysml:14e6fe4c-a4d9-4c34-a316-9cbabb101fb1\" xlink:show=\"new\" xlink:title=\"psysml:14e6fe4c-a4d9-4c34-a316-9cbabb101fb1\" xlink:type=\"simple\"><polygon fill=\"#FFFFFF\" points=\"16,6,130,6,137,28.2969,391,28.2969,391,495,16,495,16,6\" style=\"stroke: #000000; stroke-width: 1.5;\"/><line style=\"stroke: #000000; stroke-width: 1.5;\" x1=\"16\" x2=\"137\" y1=\"28.2969\" y2=\"28.2969\"/><text fill=\"#000000\" font-family=\"sans-serif\" font-size=\"14\" font-weight=\"bold\" lengthAdjust=\"spacingAndGlyphs\" textLength=\"108\" x=\"20\" y=\"20.9951\">PictureTaking</text></a><!--MD5=[d5e69f78d87373223dbae638b30a9c99]\n",
       "cluster E3--><a href=\"psysml:44676d48-2ba6-47f9-b761-758fcbe31dbd\" target=\"_top\" title=\"psysml:44676d48-2ba6-47f9-b761-758fcbe31dbd\" xlink:actuate=\"onRequest\" xlink:href=\"psysml:44676d48-2ba6-47f9-b761-758fcbe31dbd\" xlink:show=\"new\" xlink:title=\"psysml:44676d48-2ba6-47f9-b761-758fcbe31dbd\" xlink:type=\"simple\"><rect fill=\"#FFFFFF\" height=\"68\" id=\"E3\" style=\"stroke: #383838; stroke-width: 1.5;\" width=\"266\" x=\"43\" y=\"41\"/><rect fill=\"#F8F8F8\" height=\"37.9375\" style=\"stroke: #383838; stroke-width: 1.5;\" width=\"266\" x=\"43\" y=\"41\"/><text fill=\"#000000\" font-family=\"sans-serif\" font-size=\"12\" font-style=\"italic\" lengthAdjust=\"spacingAndGlyphs\" textLength=\"77\" x=\"137.5\" y=\"57.1387\">«action def»</text><text fill=\"#000000\" font-family=\"sans-serif\" font-size=\"12\" lengthAdjust=\"spacingAndGlyphs\" textLength=\"37\" x=\"157.5\" y=\"71.1074\">Focus</text></a><!--MD5=[de5ec2e2e8f62f467e546659f5068c88]\n",
       "cluster E5--><a href=\"psysml:d9adf687-8d42-42d3-b1b5-8b6413ee0fad\" target=\"_top\" title=\"psysml:d9adf687-8d42-42d3-b1b5-8b6413ee0fad\" xlink:actuate=\"onRequest\" xlink:href=\"psysml:d9adf687-8d42-42d3-b1b5-8b6413ee0fad\" xlink:show=\"new\" xlink:title=\"psysml:d9adf687-8d42-42d3-b1b5-8b6413ee0fad\" xlink:type=\"simple\"><rect fill=\"#FFFFFF\" height=\"68\" id=\"E5\" style=\"stroke: #383838; stroke-width: 1.5;\" width=\"185\" x=\"110\" y=\"117\"/><rect fill=\"#F8F8F8\" height=\"37.9375\" style=\"stroke: #383838; stroke-width: 1.5;\" width=\"185\" x=\"110\" y=\"117\"/><text fill=\"#000000\" font-family=\"sans-serif\" font-size=\"12\" font-style=\"italic\" lengthAdjust=\"spacingAndGlyphs\" textLength=\"77\" x=\"164\" y=\"133.1387\">«action def»</text><text fill=\"#000000\" font-family=\"sans-serif\" font-size=\"12\" lengthAdjust=\"spacingAndGlyphs\" textLength=\"37\" x=\"184\" y=\"147.1074\">Shoot</text></a><!--MD5=[168fadf3d0c3fd93dd5d6da1b1d7ab76]\n",
       "cluster E7--><a href=\"psysml:704c53cf-e737-43c7-aaa6-afd6aa41e73e\" target=\"_top\" title=\"psysml:704c53cf-e737-43c7-aaa6-afd6aa41e73e\" xlink:actuate=\"onRequest\" xlink:href=\"psysml:704c53cf-e737-43c7-aaa6-afd6aa41e73e\" xlink:show=\"new\" xlink:title=\"psysml:704c53cf-e737-43c7-aaa6-afd6aa41e73e\" xlink:type=\"simple\"><rect fill=\"#FFFFFF\" height=\"218\" id=\"E7\" rx=\"10\" ry=\"10\" style=\"stroke: #383838; stroke-width: 1.5;\" width=\"327\" x=\"40\" y=\"201\"/><rect fill=\"#F8F8F8\" height=\"37.9375\" rx=\"10\" ry=\"10\" style=\"stroke: #F8F8F8; stroke-width: 1.5;\" width=\"327\" x=\"40\" y=\"201\"/><rect fill=\"#F8F8F8\" height=\"10\" style=\"stroke: #F8F8F8; stroke-width: 1.5;\" width=\"327\" x=\"40\" y=\"228.9375\"/><rect fill=\"none\" height=\"218\" id=\"E7\" rx=\"10\" ry=\"10\" style=\"stroke: #383838; stroke-width: 1.5;\" width=\"327\" x=\"40\" y=\"201\"/><text fill=\"#000000\" font-family=\"sans-serif\" font-size=\"12\" font-style=\"italic\" lengthAdjust=\"spacingAndGlyphs\" textLength=\"53\" x=\"177\" y=\"217.1387\">«action»</text><text fill=\"#000000\" font-family=\"sans-serif\" font-size=\"12\" lengthAdjust=\"spacingAndGlyphs\" textLength=\"72\" x=\"167.5\" y=\"231.1074\">takePicture</text><line style=\"stroke: #383838; stroke-width: 1.0;\" x1=\"40\" x2=\"367\" y1=\"238.9375\" y2=\"238.9375\"/></a><!--MD5=[55dfccfc6c49c2d10cd1bd2211a6c90c]\n",
       "cluster E8--><a href=\"psysml:247459c4-dc1c-41f3-9bbd-2210d0a14144\" target=\"_top\" title=\"psysml:247459c4-dc1c-41f3-9bbd-2210d0a14144\" xlink:actuate=\"onRequest\" xlink:href=\"psysml:247459c4-dc1c-41f3-9bbd-2210d0a14144\" xlink:show=\"new\" xlink:title=\"psysml:247459c4-dc1c-41f3-9bbd-2210d0a14144\" xlink:type=\"simple\"><rect fill=\"#FFFFFF\" height=\"47\" id=\"E8\" rx=\"10\" ry=\"10\" style=\"stroke: #383838; stroke-width: 1.5;\" width=\"271\" x=\"56\" y=\"266\"/><rect fill=\"#F8F8F8\" height=\"37.9375\" rx=\"10\" ry=\"10\" style=\"stroke: #F8F8F8; stroke-width: 1.5;\" width=\"271\" x=\"56\" y=\"266\"/><rect fill=\"#F8F8F8\" height=\"10\" style=\"stroke: #F8F8F8; stroke-width: 1.5;\" width=\"271\" x=\"56\" y=\"293.9375\"/><rect fill=\"none\" height=\"47\" id=\"E8\" rx=\"10\" ry=\"10\" style=\"stroke: #383838; stroke-width: 1.5;\" width=\"271\" x=\"56\" y=\"266\"/><text fill=\"#000000\" font-family=\"sans-serif\" font-size=\"12\" font-style=\"italic\" lengthAdjust=\"spacingAndGlyphs\" textLength=\"53\" x=\"165\" y=\"282.1387\">«action»</text><text fill=\"#000000\" font-family=\"sans-serif\" font-size=\"12\" lengthAdjust=\"spacingAndGlyphs\" textLength=\"34\" x=\"174.5\" y=\"296.1074\">focus</text><line style=\"stroke: #383838; stroke-width: 1.0;\" x1=\"56\" x2=\"327\" y1=\"303.9375\" y2=\"303.9375\"/></a><!--MD5=[917b9dd0c7eca3ee5f47219d1a84c0ad]\n",
       "cluster E11--><a href=\"psysml:d7e0c4ce-9a2d-4e4d-8f17-58d415aecc73\" target=\"_top\" title=\"psysml:d7e0c4ce-9a2d-4e4d-8f17-58d415aecc73\" xlink:actuate=\"onRequest\" xlink:href=\"psysml:d7e0c4ce-9a2d-4e4d-8f17-58d415aecc73\" xlink:show=\"new\" xlink:title=\"psysml:d7e0c4ce-9a2d-4e4d-8f17-58d415aecc73\" xlink:type=\"simple\"><rect fill=\"#FFFFFF\" height=\"36\" id=\"E11\" rx=\"10\" ry=\"10\" style=\"stroke: #383838; stroke-width: 1.5;\" width=\"245\" x=\"110\" y=\"335\"/><rect fill=\"#F8F8F8\" height=\"37.9375\" rx=\"10\" ry=\"10\" style=\"stroke: #F8F8F8; stroke-width: 1.5;\" width=\"245\" x=\"110\" y=\"335\"/><rect fill=\"#F8F8F8\" height=\"10\" style=\"stroke: #F8F8F8; stroke-width: 1.5;\" width=\"245\" x=\"110\" y=\"362.9375\"/><rect fill=\"none\" height=\"36\" id=\"E11\" rx=\"10\" ry=\"10\" style=\"stroke: #383838; stroke-width: 1.5;\" width=\"245\" x=\"110\" y=\"335\"/><text fill=\"#000000\" font-family=\"sans-serif\" font-size=\"12\" font-style=\"italic\" lengthAdjust=\"spacingAndGlyphs\" textLength=\"53\" x=\"206\" y=\"351.1387\">«action»</text><text fill=\"#000000\" font-family=\"sans-serif\" font-size=\"12\" lengthAdjust=\"spacingAndGlyphs\" textLength=\"36\" x=\"214.5\" y=\"365.1074\">shoot</text><line style=\"stroke: #383838; stroke-width: 1.0;\" x1=\"110\" x2=\"355\" y1=\"372.9375\" y2=\"372.9375\"/></a><g id=\"E1.E2\"><a href=\"psysml:9a8bab7b-7078-4a6b-add3-8a1328b0c2d6\" target=\"_top\" title=\"psysml:9a8bab7b-7078-4a6b-add3-8a1328b0c2d6\" xlink:actuate=\"onRequest\" xlink:href=\"psysml:9a8bab7b-7078-4a6b-add3-8a1328b0c2d6\" xlink:show=\"new\" xlink:title=\"psysml:9a8bab7b-7078-4a6b-add3-8a1328b0c2d6\" xlink:type=\"simple\"><rect fill=\"#FFFFFF\" height=\"42.9375\" id=\"E2\" style=\"stroke: #383838; stroke-width: 1.5;\" width=\"71\" x=\"74.5\" y=\"435.5\"/><rect fill=\"#F8F8F8\" height=\"37.9375\" style=\"stroke: #383838; stroke-width: 1.5;\" width=\"71\" x=\"74.5\" y=\"435.5\"/><text fill=\"#000000\" font-family=\"sans-serif\" font-size=\"12\" font-style=\"italic\" lengthAdjust=\"spacingAndGlyphs\" textLength=\"64\" x=\"78\" y=\"451.6387\">«part def»</text><text fill=\"#000000\" font-family=\"sans-serif\" font-size=\"12\" lengthAdjust=\"spacingAndGlyphs\" textLength=\"58\" x=\"81\" y=\"465.6074\">Exposure</text></a></g><text fill=\"#000000\" font-family=\"sans-serif\" font-size=\"14\" lengthAdjust=\"spacingAndGlyphs\" textLength=\"23\" x=\"297.5\" y=\"53.6982\">xrsl</text><rect fill=\"#383838\" height=\"12\" style=\"stroke: #F8F8F8; stroke-width: 1.5;\" width=\"12\" x=\"303\" y=\"69\"/><text fill=\"#000000\" font-family=\"sans-serif\" font-size=\"14\" lengthAdjust=\"spacingAndGlyphs\" textLength=\"19\" x=\"100.5\" y=\"129.6982\">xsf</text><rect fill=\"#383838\" height=\"12\" style=\"stroke: #F8F8F8; stroke-width: 1.5;\" width=\"12\" x=\"104\" y=\"145\"/><text fill=\"#000000\" font-family=\"sans-serif\" font-size=\"14\" lengthAdjust=\"spacingAndGlyphs\" textLength=\"48\" x=\"285\" y=\"331.9951\">$result</text><rect fill=\"#383838\" height=\"12\" style=\"stroke: #F8F8F8; stroke-width: 1.5;\" width=\"12\" x=\"303\" y=\"307\"/><text fill=\"#000000\" font-family=\"sans-serif\" font-size=\"14\" lengthAdjust=\"spacingAndGlyphs\" textLength=\"23\" x=\"297.5\" y=\"244.6982\">xrsl</text><rect fill=\"#383838\" height=\"12\" style=\"stroke: #F8F8F8; stroke-width: 1.5;\" width=\"12\" x=\"303\" y=\"260\"/><text fill=\"#000000\" font-family=\"sans-serif\" font-size=\"14\" lengthAdjust=\"spacingAndGlyphs\" textLength=\"48\" x=\"313\" y=\"389.9951\">$result</text><rect fill=\"#383838\" height=\"12\" style=\"stroke: #F8F8F8; stroke-width: 1.5;\" width=\"12\" x=\"331\" y=\"365\"/><text fill=\"#000000\" font-family=\"sans-serif\" font-size=\"14\" lengthAdjust=\"spacingAndGlyphs\" textLength=\"19\" x=\"100.5\" y=\"387.9951\">xsf</text><rect fill=\"#383838\" height=\"12\" style=\"stroke: #F8F8F8; stroke-width: 1.5;\" width=\"12\" x=\"104\" y=\"363\"/><!--MD5=[5a80c93628b1c6d59f302fa131347974]\n",
       "@startuml\r\n",
       "skinparam ranksep 10\r\n",
       "skinparam rectangle {\r\n",
       " backgroundColor<<block>> LightGreen\r\n",
       "}\r\n",
       "left to right direction\r\n",
       "skinparam monochrome true\r\n",
       "skinparam classbackgroundcolor white\r\n",
       "skinparam shadowing false\r\n",
       "skinparam wrapWidth 300\r\n",
       "hide circle\r\n",
       "\r\n",
       "package \"PictureTaking\" as E1  [[psysml:14e6fe4c-a4d9-4c34-a316-9cbabb101fb1 ]]  {\r\n",
       "rec def \"Exposure\" as E2  <<(T,blue)part def>> [[psysml:9a8bab7b-7078-4a6b-add3-8a1328b0c2d6 ]] {\r\n",
       "}\r\n",
       "rec def \"Focus\" as E3  <<(T,blue)action def>> [[psysml:44676d48-2ba6-47f9-b761-758fcbe31dbd ]] {\r\n",
       "portout \"xrsl\" as E4  [[psysml:7285223f-23e3-4ded-a1a3-c8dbe746ff9d ]] \r\n",
       "}\r\n",
       "\r\n",
       "rec def \"Shoot\" as E5  <<(T,blue)action def>> [[psysml:d9adf687-8d42-42d3-b1b5-8b6413ee0fad ]] {\r\n",
       "portin \"xsf\" as E6  [[psysml:3f6601e8-74ad-4acc-b654-2e93fe2ad4c3 ]] \r\n",
       "}\r\n",
       "\r\n",
       "rec usage \"takePicture\" as E7  <<(T,blue)action>> [[psysml:704c53cf-e737-43c7-aaa6-afd6aa41e73e ]] {\r\n",
       "rec usage \"focus\" as E8  <<(T,blue)action>> [[psysml:247459c4-dc1c-41f3-9bbd-2210d0a14144 ]] {\r\n",
       "portout \"$result\" as E9  [[psysml:d24c4944-7685-4e9e-b1e9-aa0857e67b68 ]] \r\n",
       "portout \"xrsl\" as E10  [[psysml:a9b63f0e-a7c1-4470-82ae-da9c74073d16 ]] \r\n",
       "}\r\n",
       "\r\n",
       "rec usage \"shoot\" as E11  <<(T,blue)action>> [[psysml:d7e0c4ce-9a2d-4e4d-8f17-58d415aecc73 ]] {\r\n",
       "portout \"$result\" as E12  [[psysml:edaf4370-9fef-4792-934f-b7a89f5913cc ]] \r\n",
       "portin \"xsf\" as E13  [[psysml:1ee0e316-c080-4a1b-aa8d-122e3ae24dab ]] \r\n",
       "}\r\n",
       "\r\n",
       "}\r\n",
       "\r\n",
       "}\r\n",
       "@enduml\r\n",
       "\n",
       "PlantUML version 1.2020.13(Sat Jun 13 12:26:38 UTC 2020)\n",
       "(EPL source distribution)\n",
       "Java Runtime: OpenJDK Runtime Environment\n",
       "JVM: OpenJDK 64-Bit Server VM\n",
       "Default Encoding: UTF-8\n",
       "Language: en\n",
       "Country: null\n",
       "--></g></svg>"
      ]
     },
     "execution_count": 19,
     "metadata": {},
     "output_type": "execute_result"
    }
   ],
   "source": [
    "%viz --style=\"LR\" --view=\"Interconnection\" \"PictureTaking\""
   ]
  },
  {
   "cell_type": "code",
   "execution_count": 20,
   "id": "c163e707",
   "metadata": {
    "execution": {
     "iopub.execute_input": "2021-04-20T07:32:01.894763Z",
     "iopub.status.busy": "2021-04-20T07:32:01.894005Z",
     "iopub.status.idle": "2021-04-20T07:32:01.965954Z",
     "shell.execute_reply": "2021-04-20T07:32:01.966618Z"
    }
   },
   "outputs": [
    {
     "data": {
      "image/svg+xml": [
       "<?xml version=\"1.0\" encoding=\"UTF-8\" standalone=\"no\"?><svg xmlns=\"http://www.w3.org/2000/svg\" xmlns:xlink=\"http://www.w3.org/1999/xlink\" contentScriptType=\"application/ecmascript\" contentStyleType=\"text/css\" height=\"396px\" preserveAspectRatio=\"none\" style=\"width:346px;height:396px;\" version=\"1.1\" viewBox=\"0 0 346 396\" width=\"346px\" zoomAndPan=\"magnify\"><defs/><g><!--MD5=[fbc87193dbaf4d95561dea2c320d4a47]\n",
       "cluster E1--><a href=\"psysml:44676d48-2ba6-47f9-b761-758fcbe31dbd\" target=\"_top\" title=\"psysml:44676d48-2ba6-47f9-b761-758fcbe31dbd\" xlink:actuate=\"onRequest\" xlink:href=\"psysml:44676d48-2ba6-47f9-b761-758fcbe31dbd\" xlink:show=\"new\" xlink:title=\"psysml:44676d48-2ba6-47f9-b761-758fcbe31dbd\" xlink:type=\"simple\"><rect fill=\"#FFFFFF\" height=\"68\" id=\"E1\" style=\"stroke: #383838; stroke-width: 1.5;\" width=\"266\" x=\"10\" y=\"317\"/><rect fill=\"#F8F8F8\" height=\"37.9375\" style=\"stroke: #383838; stroke-width: 1.5;\" width=\"266\" x=\"10\" y=\"317\"/><text fill=\"#000000\" font-family=\"sans-serif\" font-size=\"12\" font-style=\"italic\" lengthAdjust=\"spacingAndGlyphs\" textLength=\"77\" x=\"104.5\" y=\"333.1387\">«action def»</text><text fill=\"#000000\" font-family=\"sans-serif\" font-size=\"12\" lengthAdjust=\"spacingAndGlyphs\" textLength=\"37\" x=\"124.5\" y=\"347.1074\">Focus</text></a><!--MD5=[d5e69f78d87373223dbae638b30a9c99]\n",
       "cluster E3--><a href=\"psysml:d9adf687-8d42-42d3-b1b5-8b6413ee0fad\" target=\"_top\" title=\"psysml:d9adf687-8d42-42d3-b1b5-8b6413ee0fad\" xlink:actuate=\"onRequest\" xlink:href=\"psysml:d9adf687-8d42-42d3-b1b5-8b6413ee0fad\" xlink:show=\"new\" xlink:title=\"psysml:d9adf687-8d42-42d3-b1b5-8b6413ee0fad\" xlink:type=\"simple\"><rect fill=\"#FFFFFF\" height=\"68\" id=\"E3\" style=\"stroke: #383838; stroke-width: 1.5;\" width=\"185\" x=\"77\" y=\"241\"/><rect fill=\"#F8F8F8\" height=\"37.9375\" style=\"stroke: #383838; stroke-width: 1.5;\" width=\"185\" x=\"77\" y=\"241\"/><text fill=\"#000000\" font-family=\"sans-serif\" font-size=\"12\" font-style=\"italic\" lengthAdjust=\"spacingAndGlyphs\" textLength=\"77\" x=\"131\" y=\"257.1387\">«action def»</text><text fill=\"#000000\" font-family=\"sans-serif\" font-size=\"12\" lengthAdjust=\"spacingAndGlyphs\" textLength=\"37\" x=\"151\" y=\"271.1074\">Shoot</text></a><!--MD5=[de5ec2e2e8f62f467e546659f5068c88]\n",
       "cluster E5--><a href=\"psysml:704c53cf-e737-43c7-aaa6-afd6aa41e73e\" target=\"_top\" title=\"psysml:704c53cf-e737-43c7-aaa6-afd6aa41e73e\" xlink:actuate=\"onRequest\" xlink:href=\"psysml:704c53cf-e737-43c7-aaa6-afd6aa41e73e\" xlink:show=\"new\" xlink:title=\"psysml:704c53cf-e737-43c7-aaa6-afd6aa41e73e\" xlink:type=\"simple\"><rect fill=\"#FFFFFF\" height=\"218\" id=\"E5\" rx=\"10\" ry=\"10\" style=\"stroke: #383838; stroke-width: 1.5;\" width=\"327\" x=\"7\" y=\"7\"/><rect fill=\"#F8F8F8\" height=\"37.9375\" rx=\"10\" ry=\"10\" style=\"stroke: #F8F8F8; stroke-width: 1.5;\" width=\"327\" x=\"7\" y=\"7\"/><rect fill=\"#F8F8F8\" height=\"10\" style=\"stroke: #F8F8F8; stroke-width: 1.5;\" width=\"327\" x=\"7\" y=\"34.9375\"/><rect fill=\"none\" height=\"218\" id=\"E5\" rx=\"10\" ry=\"10\" style=\"stroke: #383838; stroke-width: 1.5;\" width=\"327\" x=\"7\" y=\"7\"/><text fill=\"#000000\" font-family=\"sans-serif\" font-size=\"12\" font-style=\"italic\" lengthAdjust=\"spacingAndGlyphs\" textLength=\"53\" x=\"144\" y=\"23.1387\">«action»</text><text fill=\"#000000\" font-family=\"sans-serif\" font-size=\"12\" lengthAdjust=\"spacingAndGlyphs\" textLength=\"72\" x=\"134.5\" y=\"37.1074\">takePicture</text><line style=\"stroke: #383838; stroke-width: 1.0;\" x1=\"7\" x2=\"334\" y1=\"44.9375\" y2=\"44.9375\"/></a><!--MD5=[14e3b0961a2654348d326746436168a1]\n",
       "cluster E6--><a href=\"psysml:247459c4-dc1c-41f3-9bbd-2210d0a14144\" target=\"_top\" title=\"psysml:247459c4-dc1c-41f3-9bbd-2210d0a14144\" xlink:actuate=\"onRequest\" xlink:href=\"psysml:247459c4-dc1c-41f3-9bbd-2210d0a14144\" xlink:show=\"new\" xlink:title=\"psysml:247459c4-dc1c-41f3-9bbd-2210d0a14144\" xlink:type=\"simple\"><rect fill=\"#FFFFFF\" height=\"47\" id=\"E6\" rx=\"10\" ry=\"10\" style=\"stroke: #383838; stroke-width: 1.5;\" width=\"271\" x=\"23\" y=\"72\"/><rect fill=\"#F8F8F8\" height=\"37.9375\" rx=\"10\" ry=\"10\" style=\"stroke: #F8F8F8; stroke-width: 1.5;\" width=\"271\" x=\"23\" y=\"72\"/><rect fill=\"#F8F8F8\" height=\"10\" style=\"stroke: #F8F8F8; stroke-width: 1.5;\" width=\"271\" x=\"23\" y=\"99.9375\"/><rect fill=\"none\" height=\"47\" id=\"E6\" rx=\"10\" ry=\"10\" style=\"stroke: #383838; stroke-width: 1.5;\" width=\"271\" x=\"23\" y=\"72\"/><text fill=\"#000000\" font-family=\"sans-serif\" font-size=\"12\" font-style=\"italic\" lengthAdjust=\"spacingAndGlyphs\" textLength=\"53\" x=\"132\" y=\"88.1387\">«action»</text><text fill=\"#000000\" font-family=\"sans-serif\" font-size=\"12\" lengthAdjust=\"spacingAndGlyphs\" textLength=\"34\" x=\"141.5\" y=\"102.1074\">focus</text><line style=\"stroke: #383838; stroke-width: 1.0;\" x1=\"23\" x2=\"294\" y1=\"109.9375\" y2=\"109.9375\"/></a><!--MD5=[7f149f147074ac12df2cb0a7728a5fb0]\n",
       "cluster E9--><a href=\"psysml:d7e0c4ce-9a2d-4e4d-8f17-58d415aecc73\" target=\"_top\" title=\"psysml:d7e0c4ce-9a2d-4e4d-8f17-58d415aecc73\" xlink:actuate=\"onRequest\" xlink:href=\"psysml:d7e0c4ce-9a2d-4e4d-8f17-58d415aecc73\" xlink:show=\"new\" xlink:title=\"psysml:d7e0c4ce-9a2d-4e4d-8f17-58d415aecc73\" xlink:type=\"simple\"><rect fill=\"#FFFFFF\" height=\"36\" id=\"E9\" rx=\"10\" ry=\"10\" style=\"stroke: #383838; stroke-width: 1.5;\" width=\"245\" x=\"77\" y=\"141\"/><rect fill=\"#F8F8F8\" height=\"37.9375\" rx=\"10\" ry=\"10\" style=\"stroke: #F8F8F8; stroke-width: 1.5;\" width=\"245\" x=\"77\" y=\"141\"/><rect fill=\"#F8F8F8\" height=\"10\" style=\"stroke: #F8F8F8; stroke-width: 1.5;\" width=\"245\" x=\"77\" y=\"168.9375\"/><rect fill=\"none\" height=\"36\" id=\"E9\" rx=\"10\" ry=\"10\" style=\"stroke: #383838; stroke-width: 1.5;\" width=\"245\" x=\"77\" y=\"141\"/><text fill=\"#000000\" font-family=\"sans-serif\" font-size=\"12\" font-style=\"italic\" lengthAdjust=\"spacingAndGlyphs\" textLength=\"53\" x=\"173\" y=\"157.1387\">«action»</text><text fill=\"#000000\" font-family=\"sans-serif\" font-size=\"12\" lengthAdjust=\"spacingAndGlyphs\" textLength=\"36\" x=\"181.5\" y=\"171.1074\">shoot</text><line style=\"stroke: #383838; stroke-width: 1.0;\" x1=\"77\" x2=\"322\" y1=\"178.9375\" y2=\"178.9375\"/></a><text fill=\"#000000\" font-family=\"sans-serif\" font-size=\"14\" lengthAdjust=\"spacingAndGlyphs\" textLength=\"23\" x=\"264.5\" y=\"329.6982\">xrsl</text><rect fill=\"#383838\" height=\"12\" style=\"stroke: #F8F8F8; stroke-width: 1.5;\" width=\"12\" x=\"270\" y=\"345\"/><text fill=\"#000000\" font-family=\"sans-serif\" font-size=\"14\" lengthAdjust=\"spacingAndGlyphs\" textLength=\"19\" x=\"67.5\" y=\"253.6982\">xsf</text><rect fill=\"#383838\" height=\"12\" style=\"stroke: #F8F8F8; stroke-width: 1.5;\" width=\"12\" x=\"71\" y=\"269\"/><text fill=\"#000000\" font-family=\"sans-serif\" font-size=\"14\" lengthAdjust=\"spacingAndGlyphs\" textLength=\"48\" x=\"252\" y=\"137.9951\">$result</text><rect fill=\"#383838\" height=\"12\" style=\"stroke: #F8F8F8; stroke-width: 1.5;\" width=\"12\" x=\"270\" y=\"113\"/><text fill=\"#000000\" font-family=\"sans-serif\" font-size=\"14\" lengthAdjust=\"spacingAndGlyphs\" textLength=\"23\" x=\"264.5\" y=\"50.6982\">xrsl</text><rect fill=\"#383838\" height=\"12\" style=\"stroke: #F8F8F8; stroke-width: 1.5;\" width=\"12\" x=\"270\" y=\"66\"/><text fill=\"#000000\" font-family=\"sans-serif\" font-size=\"14\" lengthAdjust=\"spacingAndGlyphs\" textLength=\"48\" x=\"280\" y=\"195.9951\">$result</text><rect fill=\"#383838\" height=\"12\" style=\"stroke: #F8F8F8; stroke-width: 1.5;\" width=\"12\" x=\"298\" y=\"171\"/><text fill=\"#000000\" font-family=\"sans-serif\" font-size=\"14\" lengthAdjust=\"spacingAndGlyphs\" textLength=\"19\" x=\"67.5\" y=\"193.9951\">xsf</text><rect fill=\"#383838\" height=\"12\" style=\"stroke: #F8F8F8; stroke-width: 1.5;\" width=\"12\" x=\"71\" y=\"169\"/><!--MD5=[7a25ca379f28e2ecac99760982c2e7d0]\n",
       "@startuml\r\n",
       "skinparam ranksep 8\r\n",
       "left to right direction\r\n",
       "skinparam monochrome true\r\n",
       "skinparam classbackgroundcolor white\r\n",
       "skinparam shadowing false\r\n",
       "skinparam wrapWidth 300\r\n",
       "hide circle\r\n",
       "\r\n",
       "rec def \"Focus\" as E1  <<(T,blue)action def>> [[psysml:44676d48-2ba6-47f9-b761-758fcbe31dbd ]] {\r\n",
       "portout \"xrsl\" as E2  [[psysml:7285223f-23e3-4ded-a1a3-c8dbe746ff9d ]] \r\n",
       "}\r\n",
       "\r\n",
       "rec def \"Shoot\" as E3  <<(T,blue)action def>> [[psysml:d9adf687-8d42-42d3-b1b5-8b6413ee0fad ]] {\r\n",
       "portin \"xsf\" as E4  [[psysml:3f6601e8-74ad-4acc-b654-2e93fe2ad4c3 ]] \r\n",
       "}\r\n",
       "\r\n",
       "rec usage \"takePicture\" as E5  <<(T,blue)action>> [[psysml:704c53cf-e737-43c7-aaa6-afd6aa41e73e ]] {\r\n",
       "rec usage \"focus\" as E6  <<(T,blue)action>> [[psysml:247459c4-dc1c-41f3-9bbd-2210d0a14144 ]] {\r\n",
       "portout \"$result\" as E7  [[psysml:d24c4944-7685-4e9e-b1e9-aa0857e67b68 ]] \r\n",
       "portout \"xrsl\" as E8  [[psysml:a9b63f0e-a7c1-4470-82ae-da9c74073d16 ]] \r\n",
       "}\r\n",
       "\r\n",
       "rec usage \"shoot\" as E9  <<(T,blue)action>> [[psysml:d7e0c4ce-9a2d-4e4d-8f17-58d415aecc73 ]] {\r\n",
       "portout \"$result\" as E10  [[psysml:edaf4370-9fef-4792-934f-b7a89f5913cc ]] \r\n",
       "portin \"xsf\" as E11  [[psysml:1ee0e316-c080-4a1b-aa8d-122e3ae24dab ]] \r\n",
       "}\r\n",
       "\r\n",
       "}\r\n",
       "\r\n",
       "@enduml\r\n",
       "\n",
       "PlantUML version 1.2020.13(Sat Jun 13 12:26:38 UTC 2020)\n",
       "(EPL source distribution)\n",
       "Java Runtime: OpenJDK Runtime Environment\n",
       "JVM: OpenJDK 64-Bit Server VM\n",
       "Default Encoding: UTF-8\n",
       "Language: en\n",
       "Country: null\n",
       "--></g></svg>"
      ]
     },
     "execution_count": 20,
     "metadata": {},
     "output_type": "execute_result"
    }
   ],
   "source": [
    "%viz --style=\"LR\" --view=\"Action\" \"PictureTaking\""
   ]
  },
  {
   "cell_type": "code",
   "execution_count": 21,
   "id": "ad2ce2e5",
   "metadata": {
    "execution": {
     "iopub.execute_input": "2021-04-20T07:32:02.016535Z",
     "iopub.status.busy": "2021-04-20T07:32:02.016063Z",
     "iopub.status.idle": "2021-04-20T07:32:02.080444Z",
     "shell.execute_reply": "2021-04-20T07:32:02.079599Z"
    }
   },
   "outputs": [
    {
     "data": {
      "image/svg+xml": [
       "<?xml version=\"1.0\" encoding=\"UTF-8\" standalone=\"no\"?><svg xmlns=\"http://www.w3.org/2000/svg\" xmlns:xlink=\"http://www.w3.org/1999/xlink\" contentScriptType=\"application/ecmascript\" contentStyleType=\"text/css\" height=\"196px\" preserveAspectRatio=\"none\" style=\"width:586px;height:196px;\" version=\"1.1\" viewBox=\"0 0 586 196\" width=\"586px\" zoomAndPan=\"magnify\"><defs/><g><!--MD5=[fbc87193dbaf4d95561dea2c320d4a47]\n",
       "cluster E1--><a href=\"psysml:14e6fe4c-a4d9-4c34-a316-9cbabb101fb1\" target=\"_top\" title=\"psysml:14e6fe4c-a4d9-4c34-a316-9cbabb101fb1\" xlink:actuate=\"onRequest\" xlink:href=\"psysml:14e6fe4c-a4d9-4c34-a316-9cbabb101fb1\" xlink:show=\"new\" xlink:title=\"psysml:14e6fe4c-a4d9-4c34-a316-9cbabb101fb1\" xlink:type=\"simple\"><polygon fill=\"#FFFFFF\" points=\"16,6,130,6,137,28.2969,564,28.2969,564,184,16,184,16,6\" style=\"stroke: #000000; stroke-width: 1.5;\"/><line style=\"stroke: #000000; stroke-width: 1.5;\" x1=\"16\" x2=\"137\" y1=\"28.2969\" y2=\"28.2969\"/><text fill=\"#000000\" font-family=\"sans-serif\" font-size=\"14\" font-weight=\"bold\" lengthAdjust=\"spacingAndGlyphs\" textLength=\"108\" x=\"20\" y=\"20.9951\">PictureTaking</text></a><!--MD5=[b4997ac47864f28c2f74865a473b2911]\n",
       "class E2--><a href=\"psysml:9a8bab7b-7078-4a6b-add3-8a1328b0c2d6\" target=\"_top\" title=\"psysml:9a8bab7b-7078-4a6b-add3-8a1328b0c2d6\" xlink:actuate=\"onRequest\" xlink:href=\"psysml:9a8bab7b-7078-4a6b-add3-8a1328b0c2d6\" xlink:show=\"new\" xlink:title=\"psysml:9a8bab7b-7078-4a6b-add3-8a1328b0c2d6\" xlink:type=\"simple\"><rect fill=\"#FFFFFF\" height=\"45.9375\" id=\"E2\" style=\"stroke: #383838; stroke-width: 1.5;\" width=\"66\" x=\"482\" y=\"74\"/><text fill=\"#000000\" font-family=\"sans-serif\" font-size=\"12\" font-style=\"italic\" lengthAdjust=\"spacingAndGlyphs\" textLength=\"64\" x=\"483\" y=\"90.1387\">«part def»</text><text fill=\"#000000\" font-family=\"sans-serif\" font-size=\"12\" lengthAdjust=\"spacingAndGlyphs\" textLength=\"58\" x=\"486\" y=\"104.1074\">Exposure</text><line style=\"stroke: #383838; stroke-width: 1.5;\" x1=\"483\" x2=\"547\" y1=\"111.9375\" y2=\"111.9375\"/></a><!--MD5=[09b614a08d8cba4a07c9adeb5e0fee81]\n",
       "class E3--><a href=\"psysml:44676d48-2ba6-47f9-b761-758fcbe31dbd\" target=\"_top\" title=\"psysml:44676d48-2ba6-47f9-b761-758fcbe31dbd\" xlink:actuate=\"onRequest\" xlink:href=\"psysml:44676d48-2ba6-47f9-b761-758fcbe31dbd\" xlink:show=\"new\" xlink:title=\"psysml:44676d48-2ba6-47f9-b761-758fcbe31dbd\" xlink:type=\"simple\"><rect fill=\"#FFFFFF\" height=\"45.9375\" id=\"E3\" style=\"stroke: #383838; stroke-width: 1.5;\" width=\"79\" x=\"319\" y=\"122\"/><text fill=\"#000000\" font-family=\"sans-serif\" font-size=\"12\" font-style=\"italic\" lengthAdjust=\"spacingAndGlyphs\" textLength=\"77\" x=\"320\" y=\"138.1387\">«action def»</text><text fill=\"#000000\" font-family=\"sans-serif\" font-size=\"12\" lengthAdjust=\"spacingAndGlyphs\" textLength=\"37\" x=\"340\" y=\"152.1074\">Focus</text><line style=\"stroke: #383838; stroke-width: 1.5;\" x1=\"320\" x2=\"397\" y1=\"159.9375\" y2=\"159.9375\"/></a><!--MD5=[ebbe1d658d1005bcc118a6aa81145e00]\n",
       "class E4--><a href=\"psysml:d9adf687-8d42-42d3-b1b5-8b6413ee0fad\" target=\"_top\" title=\"psysml:d9adf687-8d42-42d3-b1b5-8b6413ee0fad\" xlink:actuate=\"onRequest\" xlink:href=\"psysml:d9adf687-8d42-42d3-b1b5-8b6413ee0fad\" xlink:show=\"new\" xlink:title=\"psysml:d9adf687-8d42-42d3-b1b5-8b6413ee0fad\" xlink:type=\"simple\"><rect fill=\"#FFFFFF\" height=\"45.9375\" id=\"E4\" style=\"stroke: #383838; stroke-width: 1.5;\" width=\"79\" x=\"319\" y=\"41\"/><text fill=\"#000000\" font-family=\"sans-serif\" font-size=\"12\" font-style=\"italic\" lengthAdjust=\"spacingAndGlyphs\" textLength=\"77\" x=\"320\" y=\"57.1387\">«action def»</text><text fill=\"#000000\" font-family=\"sans-serif\" font-size=\"12\" lengthAdjust=\"spacingAndGlyphs\" textLength=\"37\" x=\"340\" y=\"71.1074\">Shoot</text><line style=\"stroke: #383838; stroke-width: 1.5;\" x1=\"320\" x2=\"397\" y1=\"78.9375\" y2=\"78.9375\"/></a><!--MD5=[270fce915f116d4de14055a7c1d9a0f3]\n",
       "class E5--><a href=\"psysml:704c53cf-e737-43c7-aaa6-afd6aa41e73e\" target=\"_top\" title=\"psysml:704c53cf-e737-43c7-aaa6-afd6aa41e73e\" xlink:actuate=\"onRequest\" xlink:href=\"psysml:704c53cf-e737-43c7-aaa6-afd6aa41e73e\" xlink:show=\"new\" xlink:title=\"psysml:704c53cf-e737-43c7-aaa6-afd6aa41e73e\" xlink:type=\"simple\"><rect fill=\"#FFFFFF\" height=\"45.9375\" id=\"E5\" rx=\"10\" ry=\"10\" style=\"stroke: #383838; stroke-width: 1.5;\" width=\"78\" x=\"32\" y=\"82\"/><text fill=\"#000000\" font-family=\"sans-serif\" font-size=\"12\" font-style=\"italic\" lengthAdjust=\"spacingAndGlyphs\" textLength=\"53\" x=\"44.5\" y=\"98.1387\">«action»</text><text fill=\"#000000\" font-family=\"sans-serif\" font-size=\"12\" lengthAdjust=\"spacingAndGlyphs\" textLength=\"72\" x=\"35\" y=\"112.1074\">takePicture</text><line style=\"stroke: #383838; stroke-width: 1.5;\" x1=\"33\" x2=\"109\" y1=\"119.9375\" y2=\"119.9375\"/></a><!--MD5=[60a26617385b1d2d0262a64233df1f8d]\n",
       "class E6--><a href=\"psysml:247459c4-dc1c-41f3-9bbd-2210d0a14144\" target=\"_top\" title=\"psysml:247459c4-dc1c-41f3-9bbd-2210d0a14144\" xlink:actuate=\"onRequest\" xlink:href=\"psysml:247459c4-dc1c-41f3-9bbd-2210d0a14144\" xlink:show=\"new\" xlink:title=\"psysml:247459c4-dc1c-41f3-9bbd-2210d0a14144\" xlink:type=\"simple\"><rect fill=\"#FFFFFF\" height=\"45.9375\" id=\"E6\" rx=\"10\" ry=\"10\" style=\"stroke: #383838; stroke-width: 1.5;\" width=\"85\" x=\"172\" y=\"122\"/><text fill=\"#000000\" font-family=\"sans-serif\" font-size=\"12\" font-style=\"italic\" lengthAdjust=\"spacingAndGlyphs\" textLength=\"53\" x=\"188\" y=\"138.1387\">«action»</text><text fill=\"#000000\" font-family=\"sans-serif\" font-size=\"12\" lengthAdjust=\"spacingAndGlyphs\" textLength=\"79\" x=\"175\" y=\"152.1074\">focus: Focus</text><line style=\"stroke: #383838; stroke-width: 1.5;\" x1=\"173\" x2=\"256\" y1=\"159.9375\" y2=\"159.9375\"/></a><!--MD5=[2156ba9850f5573cc1fc38a6a4b2f02b]\n",
       "class E7--><a href=\"psysml:d7e0c4ce-9a2d-4e4d-8f17-58d415aecc73\" target=\"_top\" title=\"psysml:d7e0c4ce-9a2d-4e4d-8f17-58d415aecc73\" xlink:actuate=\"onRequest\" xlink:href=\"psysml:d7e0c4ce-9a2d-4e4d-8f17-58d415aecc73\" xlink:show=\"new\" xlink:title=\"psysml:d7e0c4ce-9a2d-4e4d-8f17-58d415aecc73\" xlink:type=\"simple\"><rect fill=\"#FFFFFF\" height=\"45.9375\" id=\"E7\" rx=\"10\" ry=\"10\" style=\"stroke: #383838; stroke-width: 1.5;\" width=\"87\" x=\"171\" y=\"41\"/><text fill=\"#000000\" font-family=\"sans-serif\" font-size=\"12\" font-style=\"italic\" lengthAdjust=\"spacingAndGlyphs\" textLength=\"53\" x=\"188\" y=\"57.1387\">«action»</text><text fill=\"#000000\" font-family=\"sans-serif\" font-size=\"12\" lengthAdjust=\"spacingAndGlyphs\" textLength=\"81\" x=\"174\" y=\"71.1074\">shoot: Shoot</text><line style=\"stroke: #383838; stroke-width: 1.5;\" x1=\"172\" x2=\"257\" y1=\"78.9375\" y2=\"78.9375\"/></a><!--MD5=[b900ca4392aad7a68aec1e9245e10ab9]\n",
       "reverse link E3 to E2--><a href=\"psysml:7285223f-23e3-4ded-a1a3-c8dbe746ff9d\" target=\"_top\" title=\"psysml:7285223f-23e3-4ded-a1a3-c8dbe746ff9d\" xlink:actuate=\"onRequest\" xlink:href=\"psysml:7285223f-23e3-4ded-a1a3-c8dbe746ff9d\" xlink:show=\"new\" xlink:title=\"psysml:7285223f-23e3-4ded-a1a3-c8dbe746ff9d\" xlink:type=\"simple\"><path d=\"M410.7,129.09 C434.19,121.79 461.33,113.36 481.89,106.98 \" fill=\"none\" id=\"E3&lt;-E2\" style=\"stroke: #383838; stroke-width: 1.0;\"/><polygon fill=\"#FFFFFF\" points=\"398.09,133.01,405.0066,135.0496,409.5496,129.4495,402.633,127.4099,398.09,133.01\" style=\"stroke: #383838; stroke-width: 1.0;\"/><text fill=\"#000000\" font-family=\"sans-serif\" font-size=\"13\" lengthAdjust=\"spacingAndGlyphs\" textLength=\"22\" x=\"429\" y=\"113.0669\">xrsl</text></a><!--MD5=[ddeed8deb2209213b62e6cfabaa108b2]\n",
       "reverse link E4 to E2--><a href=\"psysml:3f6601e8-74ad-4acc-b654-2e93fe2ad4c3\" target=\"_top\" title=\"psysml:3f6601e8-74ad-4acc-b654-2e93fe2ad4c3\" xlink:actuate=\"onRequest\" xlink:href=\"psysml:3f6601e8-74ad-4acc-b654-2e93fe2ad4c3\" xlink:show=\"new\" xlink:title=\"psysml:3f6601e8-74ad-4acc-b654-2e93fe2ad4c3\" xlink:type=\"simple\"><path d=\"M411.03,75.01 C434.44,80.01 461.42,85.77 481.89,90.14 \" fill=\"none\" id=\"E4&lt;-E2\" style=\"stroke: #383838; stroke-width: 1.0;\"/><polygon fill=\"#FFFFFF\" points=\"398.09,72.24,403.1227,77.4045,409.8256,74.7453,404.7929,69.5808,398.09,72.24\" style=\"stroke: #383838; stroke-width: 1.0;\"/><text fill=\"#000000\" font-family=\"sans-serif\" font-size=\"13\" lengthAdjust=\"spacingAndGlyphs\" textLength=\"18\" x=\"431\" y=\"76.0669\">xsf</text></a><!--MD5=[85d356282659285ab4b2cfe2f634dd2b]\n",
       "reverse link E5 to E6--><a href=\"psysml:b27ee466-0f4c-4005-a5ef-b2dd2df76771\" target=\"_top\" title=\"psysml:b27ee466-0f4c-4005-a5ef-b2dd2df76771\" xlink:actuate=\"onRequest\" xlink:href=\"psysml:b27ee466-0f4c-4005-a5ef-b2dd2df76771\" xlink:show=\"new\" xlink:title=\"psysml:b27ee466-0f4c-4005-a5ef-b2dd2df76771\" xlink:type=\"simple\"><path d=\"M122.82,119.37 C138.94,123.92 156.56,128.9 171.95,133.25 \" fill=\"none\" id=\"E5&lt;-E6\" style=\"stroke: #383838; stroke-width: 1.0;\"/><polygon fill=\"#383838\" points=\"110.29,115.82,114.9735,121.3031,121.8362,119.0888,117.1527,113.6057,110.29,115.82\" style=\"stroke: #383838; stroke-width: 1.0;\"/><text fill=\"#000000\" font-family=\"sans-serif\" font-size=\"13\" lengthAdjust=\"spacingAndGlyphs\" textLength=\"8\" x=\"155.9492\" y=\"144.6032\">1</text></a><!--MD5=[a717450b82c80b9240a525fa862496af]\n",
       "link E6 to E3--><a href=\"psysml:5a2a5603-bc94-4298-a763-49fe520ca5bc\" target=\"_top\" title=\"psysml:5a2a5603-bc94-4298-a763-49fe520ca5bc\" xlink:actuate=\"onRequest\" xlink:href=\"psysml:5a2a5603-bc94-4298-a763-49fe520ca5bc\" xlink:show=\"new\" xlink:title=\"psysml:5a2a5603-bc94-4298-a763-49fe520ca5bc\" xlink:type=\"simple\"><path d=\"M257.34,145 C270.27,145 284.76,145 298.62,145 \" fill=\"none\" id=\"E6-&gt;E3\" style=\"stroke: #383838; stroke-width: 1.0;\"/><polygon fill=\"#FFFFFF\" points=\"318.87,145,299.87,152,299.87,138,318.87,145\" style=\"stroke: #383838; stroke-width: 1.0;\"/><ellipse cx=\"294.17\" cy=\"150\" fill=\"#383838\" rx=\"2\" ry=\"2\" style=\"stroke: #383838; stroke-width: 1.0;\"/><ellipse cx=\"294.17\" cy=\"140\" fill=\"#383838\" rx=\"2\" ry=\"2\" style=\"stroke: #383838; stroke-width: 1.0;\"/></a><!--MD5=[452b418e7f8a40397a49b8c0a78acc5b]\n",
       "reverse link E5 to E7--><a href=\"psysml:aaa4df86-e408-4ec8-a2fe-61e5d0511306\" target=\"_top\" title=\"psysml:aaa4df86-e408-4ec8-a2fe-61e5d0511306\" xlink:actuate=\"onRequest\" xlink:href=\"psysml:aaa4df86-e408-4ec8-a2fe-61e5d0511306\" xlink:show=\"new\" xlink:title=\"psysml:aaa4df86-e408-4ec8-a2fe-61e5d0511306\" xlink:type=\"simple\"><path d=\"M123.07,90.2 C138.77,85.65 155.88,80.7 170.94,76.33 \" fill=\"none\" id=\"E5&lt;-E7\" style=\"stroke: #383838; stroke-width: 1.0;\"/><polygon fill=\"#383838\" points=\"110.29,93.9,117.1656,96.0739,121.8168,90.5633,114.9412,88.3894,110.29,93.9\" style=\"stroke: #383838; stroke-width: 1.0;\"/><text fill=\"#000000\" font-family=\"sans-serif\" font-size=\"13\" lengthAdjust=\"spacingAndGlyphs\" textLength=\"8\" x=\"155.0629\" y=\"91.6974\">1</text></a><!--MD5=[6bdd27f9905911a7e892a3dc65cf6b7c]\n",
       "link E7 to E4--><a href=\"psysml:f48d95ee-d7b3-4518-8228-9030b5bbf5ab\" target=\"_top\" title=\"psysml:f48d95ee-d7b3-4518-8228-9030b5bbf5ab\" xlink:actuate=\"onRequest\" xlink:href=\"psysml:f48d95ee-d7b3-4518-8228-9030b5bbf5ab\" xlink:show=\"new\" xlink:title=\"psysml:f48d95ee-d7b3-4518-8228-9030b5bbf5ab\" xlink:type=\"simple\"><path d=\"M258.1,64 C270.76,64 284.85,64 298.35,64 \" fill=\"none\" id=\"E7-&gt;E4\" style=\"stroke: #383838; stroke-width: 1.0;\"/><polygon fill=\"#FFFFFF\" points=\"318.8,64,299.8,71,299.8,57,318.8,64\" style=\"stroke: #383838; stroke-width: 1.0;\"/><ellipse cx=\"294.1\" cy=\"69\" fill=\"#383838\" rx=\"2\" ry=\"2\" style=\"stroke: #383838; stroke-width: 1.0;\"/><ellipse cx=\"294.1\" cy=\"59\" fill=\"#383838\" rx=\"2\" ry=\"2\" style=\"stroke: #383838; stroke-width: 1.0;\"/></a><!--MD5=[1cf588db095e65515b7329d3cee48d45]\n",
       "@startuml\r\n",
       "left to right direction\r\n",
       "skinparam monochrome true\r\n",
       "skinparam classbackgroundcolor white\r\n",
       "skinparam shadowing false\r\n",
       "skinparam wrapWidth 300\r\n",
       "hide circle\r\n",
       "\r\n",
       "package \"PictureTaking\" as E1  [[psysml:14e6fe4c-a4d9-4c34-a316-9cbabb101fb1 ]]  {\r\n",
       "comp def \"Exposure\" as E2  <<(T,blue)part def>> [[psysml:9a8bab7b-7078-4a6b-add3-8a1328b0c2d6 ]] {\r\n",
       "}\r\n",
       "comp def \"Focus\" as E3  <<(T,blue)action def>> [[psysml:44676d48-2ba6-47f9-b761-758fcbe31dbd ]] {\r\n",
       "}\r\n",
       "comp def \"Shoot\" as E4  <<(T,blue)action def>> [[psysml:d9adf687-8d42-42d3-b1b5-8b6413ee0fad ]] {\r\n",
       "}\r\n",
       "comp usage \"takePicture\" as E5  <<(T,blue)action>> [[psysml:704c53cf-e737-43c7-aaa6-afd6aa41e73e ]] {\r\n",
       "}\r\n",
       "comp usage \"focus: Focus\" as E6  <<(T,blue)action>> [[psysml:247459c4-dc1c-41f3-9bbd-2210d0a14144 ]] {\r\n",
       "}\r\n",
       "comp usage \"shoot: Shoot\" as E7  <<(T,blue)action>> [[psysml:d7e0c4ce-9a2d-4e4d-8f17-58d415aecc73 ]] {\r\n",
       "}\r\n",
       "E3 o- - E2 [[psysml:7285223f-23e3-4ded-a1a3-c8dbe746ff9d ]] : xrsl\r\n",
       "E4 o- - E2 [[psysml:3f6601e8-74ad-4acc-b654-2e93fe2ad4c3 ]] : xsf\r\n",
       "E5 *- - \"1\"E6 [[psysml:b27ee466-0f4c-4005-a5ef-b2dd2df76771 ]] \r\n",
       "E6 - -:|> E3 [[psysml:5a2a5603-bc94-4298-a763-49fe520ca5bc ]] \r\n",
       "E5 *- - \"1\"E7 [[psysml:aaa4df86-e408-4ec8-a2fe-61e5d0511306 ]] \r\n",
       "E7 - -:|> E4 [[psysml:f48d95ee-d7b3-4518-8228-9030b5bbf5ab ]] \r\n",
       "}\r\n",
       "@enduml\r\n",
       "\n",
       "PlantUML version 1.2020.13(Sat Jun 13 12:26:38 UTC 2020)\n",
       "(EPL source distribution)\n",
       "Java Runtime: OpenJDK Runtime Environment\n",
       "JVM: OpenJDK 64-Bit Server VM\n",
       "Default Encoding: UTF-8\n",
       "Language: en\n",
       "Country: null\n",
       "--></g></svg>"
      ]
     },
     "execution_count": 21,
     "metadata": {},
     "output_type": "execute_result"
    }
   ],
   "source": [
    "%viz --style=\"LR\" --view=\"Sequence\" \"PictureTaking\""
   ]
  },
  {
   "cell_type": "code",
   "execution_count": 22,
   "id": "db346f1b",
   "metadata": {
    "execution": {
     "iopub.execute_input": "2021-04-20T07:32:02.132116Z",
     "iopub.status.busy": "2021-04-20T07:32:02.130965Z",
     "iopub.status.idle": "2021-04-20T07:32:02.227754Z",
     "shell.execute_reply": "2021-04-20T07:32:02.225755Z"
    }
   },
   "outputs": [
    {
     "data": {
      "image/svg+xml": [
       "<?xml version=\"1.0\" encoding=\"UTF-8\" standalone=\"no\"?><svg xmlns=\"http://www.w3.org/2000/svg\" xmlns:xlink=\"http://www.w3.org/1999/xlink\" contentScriptType=\"application/ecmascript\" contentStyleType=\"text/css\" height=\"509px\" preserveAspectRatio=\"none\" style=\"width:537px;height:509px;\" version=\"1.1\" viewBox=\"0 0 537 509\" width=\"537px\" zoomAndPan=\"magnify\"><defs/><g><!--MD5=[fbc87193dbaf4d95561dea2c320d4a47]\n",
       "cluster E1--><a href=\"psysml:14e6fe4c-a4d9-4c34-a316-9cbabb101fb1\" target=\"_top\" title=\"psysml:14e6fe4c-a4d9-4c34-a316-9cbabb101fb1\" xlink:actuate=\"onRequest\" xlink:href=\"psysml:14e6fe4c-a4d9-4c34-a316-9cbabb101fb1\" xlink:show=\"new\" xlink:title=\"psysml:14e6fe4c-a4d9-4c34-a316-9cbabb101fb1\" xlink:type=\"simple\"><polygon fill=\"#FFFFFF\" points=\"16,6,130,6,137,28.2969,515,28.2969,515,497,16,497,16,6\" style=\"stroke: #000000; stroke-width: 1.5;\"/><line style=\"stroke: #000000; stroke-width: 1.5;\" x1=\"16\" x2=\"137\" y1=\"28.2969\" y2=\"28.2969\"/><text fill=\"#000000\" font-family=\"sans-serif\" font-size=\"14\" font-weight=\"bold\" lengthAdjust=\"spacingAndGlyphs\" textLength=\"108\" x=\"20\" y=\"20.9951\">PictureTaking</text></a><!--MD5=[d5e69f78d87373223dbae638b30a9c99]\n",
       "cluster E3--><a href=\"psysml:44676d48-2ba6-47f9-b761-758fcbe31dbd\" target=\"_top\" title=\"psysml:44676d48-2ba6-47f9-b761-758fcbe31dbd\" xlink:actuate=\"onRequest\" xlink:href=\"psysml:44676d48-2ba6-47f9-b761-758fcbe31dbd\" xlink:show=\"new\" xlink:title=\"psysml:44676d48-2ba6-47f9-b761-758fcbe31dbd\" xlink:type=\"simple\"><rect fill=\"#FFFFFF\" height=\"68\" id=\"E3\" style=\"stroke: #383838; stroke-width: 1.5;\" width=\"346\" x=\"43\" y=\"41\"/><rect fill=\"#F8F8F8\" height=\"37.9375\" style=\"stroke: #383838; stroke-width: 1.5;\" width=\"346\" x=\"43\" y=\"41\"/><text fill=\"#000000\" font-family=\"sans-serif\" font-size=\"12\" font-style=\"italic\" lengthAdjust=\"spacingAndGlyphs\" textLength=\"77\" x=\"177.5\" y=\"57.1387\">«action def»</text><text fill=\"#000000\" font-family=\"sans-serif\" font-size=\"12\" lengthAdjust=\"spacingAndGlyphs\" textLength=\"37\" x=\"197.5\" y=\"71.1074\">Focus</text></a><!--MD5=[de5ec2e2e8f62f467e546659f5068c88]\n",
       "cluster E5--><a href=\"psysml:d9adf687-8d42-42d3-b1b5-8b6413ee0fad\" target=\"_top\" title=\"psysml:d9adf687-8d42-42d3-b1b5-8b6413ee0fad\" xlink:actuate=\"onRequest\" xlink:href=\"psysml:d9adf687-8d42-42d3-b1b5-8b6413ee0fad\" xlink:show=\"new\" xlink:title=\"psysml:d9adf687-8d42-42d3-b1b5-8b6413ee0fad\" xlink:type=\"simple\"><rect fill=\"#FFFFFF\" height=\"68\" id=\"E5\" style=\"stroke: #383838; stroke-width: 1.5;\" width=\"229\" x=\"110\" y=\"117\"/><rect fill=\"#F8F8F8\" height=\"37.9375\" style=\"stroke: #383838; stroke-width: 1.5;\" width=\"229\" x=\"110\" y=\"117\"/><text fill=\"#000000\" font-family=\"sans-serif\" font-size=\"12\" font-style=\"italic\" lengthAdjust=\"spacingAndGlyphs\" textLength=\"77\" x=\"186\" y=\"133.1387\">«action def»</text><text fill=\"#000000\" font-family=\"sans-serif\" font-size=\"12\" lengthAdjust=\"spacingAndGlyphs\" textLength=\"37\" x=\"206\" y=\"147.1074\">Shoot</text></a><!--MD5=[168fadf3d0c3fd93dd5d6da1b1d7ab76]\n",
       "cluster E7--><a href=\"psysml:704c53cf-e737-43c7-aaa6-afd6aa41e73e\" target=\"_top\" title=\"psysml:704c53cf-e737-43c7-aaa6-afd6aa41e73e\" xlink:actuate=\"onRequest\" xlink:href=\"psysml:704c53cf-e737-43c7-aaa6-afd6aa41e73e\" xlink:show=\"new\" xlink:title=\"psysml:704c53cf-e737-43c7-aaa6-afd6aa41e73e\" xlink:type=\"simple\"><rect fill=\"#FFFFFF\" height=\"218\" id=\"E7\" rx=\"10\" ry=\"10\" style=\"stroke: #383838; stroke-width: 1.5;\" width=\"451\" x=\"40\" y=\"201\"/><rect fill=\"#F8F8F8\" height=\"37.9375\" rx=\"10\" ry=\"10\" style=\"stroke: #F8F8F8; stroke-width: 1.5;\" width=\"451\" x=\"40\" y=\"201\"/><rect fill=\"#F8F8F8\" height=\"10\" style=\"stroke: #F8F8F8; stroke-width: 1.5;\" width=\"451\" x=\"40\" y=\"228.9375\"/><rect fill=\"none\" height=\"218\" id=\"E7\" rx=\"10\" ry=\"10\" style=\"stroke: #383838; stroke-width: 1.5;\" width=\"451\" x=\"40\" y=\"201\"/><text fill=\"#000000\" font-family=\"sans-serif\" font-size=\"12\" font-style=\"italic\" lengthAdjust=\"spacingAndGlyphs\" textLength=\"53\" x=\"239\" y=\"217.1387\">«action»</text><text fill=\"#000000\" font-family=\"sans-serif\" font-size=\"12\" lengthAdjust=\"spacingAndGlyphs\" textLength=\"72\" x=\"229.5\" y=\"231.1074\">takePicture</text><line style=\"stroke: #383838; stroke-width: 1.0;\" x1=\"40\" x2=\"491\" y1=\"238.9375\" y2=\"238.9375\"/></a><!--MD5=[55dfccfc6c49c2d10cd1bd2211a6c90c]\n",
       "cluster E8--><a href=\"psysml:247459c4-dc1c-41f3-9bbd-2210d0a14144\" target=\"_top\" title=\"psysml:247459c4-dc1c-41f3-9bbd-2210d0a14144\" xlink:actuate=\"onRequest\" xlink:href=\"psysml:247459c4-dc1c-41f3-9bbd-2210d0a14144\" xlink:show=\"new\" xlink:title=\"psysml:247459c4-dc1c-41f3-9bbd-2210d0a14144\" xlink:type=\"simple\"><rect fill=\"#FFFFFF\" height=\"47\" id=\"E8\" rx=\"10\" ry=\"10\" style=\"stroke: #383838; stroke-width: 1.5;\" width=\"351\" x=\"56\" y=\"266\"/><rect fill=\"#F8F8F8\" height=\"37.9375\" rx=\"10\" ry=\"10\" style=\"stroke: #F8F8F8; stroke-width: 1.5;\" width=\"351\" x=\"56\" y=\"266\"/><rect fill=\"#F8F8F8\" height=\"10\" style=\"stroke: #F8F8F8; stroke-width: 1.5;\" width=\"351\" x=\"56\" y=\"293.9375\"/><rect fill=\"none\" height=\"47\" id=\"E8\" rx=\"10\" ry=\"10\" style=\"stroke: #383838; stroke-width: 1.5;\" width=\"351\" x=\"56\" y=\"266\"/><text fill=\"#000000\" font-family=\"sans-serif\" font-size=\"12\" font-style=\"italic\" lengthAdjust=\"spacingAndGlyphs\" textLength=\"53\" x=\"205\" y=\"282.1387\">«action»</text><text fill=\"#000000\" font-family=\"sans-serif\" font-size=\"12\" lengthAdjust=\"spacingAndGlyphs\" textLength=\"34\" x=\"214.5\" y=\"296.1074\">focus</text><line style=\"stroke: #383838; stroke-width: 1.0;\" x1=\"56\" x2=\"407\" y1=\"303.9375\" y2=\"303.9375\"/></a><!--MD5=[917b9dd0c7eca3ee5f47219d1a84c0ad]\n",
       "cluster E11--><a href=\"psysml:d7e0c4ce-9a2d-4e4d-8f17-58d415aecc73\" target=\"_top\" title=\"psysml:d7e0c4ce-9a2d-4e4d-8f17-58d415aecc73\" xlink:actuate=\"onRequest\" xlink:href=\"psysml:d7e0c4ce-9a2d-4e4d-8f17-58d415aecc73\" xlink:show=\"new\" xlink:title=\"psysml:d7e0c4ce-9a2d-4e4d-8f17-58d415aecc73\" xlink:type=\"simple\"><rect fill=\"#FFFFFF\" height=\"36\" id=\"E11\" rx=\"10\" ry=\"10\" style=\"stroke: #383838; stroke-width: 1.5;\" width=\"369\" x=\"110\" y=\"335\"/><rect fill=\"#F8F8F8\" height=\"37.9375\" rx=\"10\" ry=\"10\" style=\"stroke: #F8F8F8; stroke-width: 1.5;\" width=\"369\" x=\"110\" y=\"335\"/><rect fill=\"#F8F8F8\" height=\"10\" style=\"stroke: #F8F8F8; stroke-width: 1.5;\" width=\"369\" x=\"110\" y=\"362.9375\"/><rect fill=\"none\" height=\"36\" id=\"E11\" rx=\"10\" ry=\"10\" style=\"stroke: #383838; stroke-width: 1.5;\" width=\"369\" x=\"110\" y=\"335\"/><text fill=\"#000000\" font-family=\"sans-serif\" font-size=\"12\" font-style=\"italic\" lengthAdjust=\"spacingAndGlyphs\" textLength=\"53\" x=\"268\" y=\"351.1387\">«action»</text><text fill=\"#000000\" font-family=\"sans-serif\" font-size=\"12\" lengthAdjust=\"spacingAndGlyphs\" textLength=\"36\" x=\"276.5\" y=\"365.1074\">shoot</text><line style=\"stroke: #383838; stroke-width: 1.0;\" x1=\"110\" x2=\"479\" y1=\"372.9375\" y2=\"372.9375\"/></a><!--MD5=[b4997ac47864f28c2f74865a473b2911]\n",
       "class E2--><a href=\"psysml:9a8bab7b-7078-4a6b-add3-8a1328b0c2d6\" target=\"_top\" title=\"psysml:9a8bab7b-7078-4a6b-add3-8a1328b0c2d6\" xlink:actuate=\"onRequest\" xlink:href=\"psysml:9a8bab7b-7078-4a6b-add3-8a1328b0c2d6\" xlink:show=\"new\" xlink:title=\"psysml:9a8bab7b-7078-4a6b-add3-8a1328b0c2d6\" xlink:type=\"simple\"><rect fill=\"#FFFFFF\" height=\"45.9375\" id=\"E2\" style=\"stroke: #383838; stroke-width: 1.5;\" width=\"66\" x=\"77\" y=\"435\"/><text fill=\"#000000\" font-family=\"sans-serif\" font-size=\"12\" font-style=\"italic\" lengthAdjust=\"spacingAndGlyphs\" textLength=\"64\" x=\"78\" y=\"451.1387\">«part def»</text><text fill=\"#000000\" font-family=\"sans-serif\" font-size=\"12\" lengthAdjust=\"spacingAndGlyphs\" textLength=\"58\" x=\"81\" y=\"465.1074\">Exposure</text><line style=\"stroke: #383838; stroke-width: 1.5;\" x1=\"78\" x2=\"142\" y1=\"472.9375\" y2=\"472.9375\"/></a><text fill=\"#000000\" font-family=\"sans-serif\" font-size=\"14\" lengthAdjust=\"spacingAndGlyphs\" textLength=\"23\" x=\"377.5\" y=\"53.6982\">xrsl</text><rect fill=\"#383838\" height=\"12\" style=\"stroke: #F8F8F8; stroke-width: 1.5;\" width=\"12\" x=\"383\" y=\"69\"/><text fill=\"#000000\" font-family=\"sans-serif\" font-size=\"14\" lengthAdjust=\"spacingAndGlyphs\" textLength=\"19\" x=\"100.5\" y=\"129.6982\">xsf</text><rect fill=\"#383838\" height=\"12\" style=\"stroke: #F8F8F8; stroke-width: 1.5;\" width=\"12\" x=\"104\" y=\"145\"/><text fill=\"#000000\" font-family=\"sans-serif\" font-size=\"14\" lengthAdjust=\"spacingAndGlyphs\" textLength=\"48\" x=\"365\" y=\"331.9951\">$result</text><rect fill=\"#383838\" height=\"12\" style=\"stroke: #F8F8F8; stroke-width: 1.5;\" width=\"12\" x=\"383\" y=\"307\"/><text fill=\"#000000\" font-family=\"sans-serif\" font-size=\"14\" lengthAdjust=\"spacingAndGlyphs\" textLength=\"23\" x=\"377.5\" y=\"244.6982\">xrsl</text><rect fill=\"#383838\" height=\"12\" style=\"stroke: #F8F8F8; stroke-width: 1.5;\" width=\"12\" x=\"383\" y=\"260\"/><text fill=\"#000000\" font-family=\"sans-serif\" font-size=\"14\" lengthAdjust=\"spacingAndGlyphs\" textLength=\"48\" x=\"437\" y=\"389.9951\">$result</text><rect fill=\"#383838\" height=\"12\" style=\"stroke: #F8F8F8; stroke-width: 1.5;\" width=\"12\" x=\"455\" y=\"365\"/><text fill=\"#000000\" font-family=\"sans-serif\" font-size=\"14\" lengthAdjust=\"spacingAndGlyphs\" textLength=\"19\" x=\"100.5\" y=\"387.9951\">xsf</text><rect fill=\"#383838\" height=\"12\" style=\"stroke: #F8F8F8; stroke-width: 1.5;\" width=\"12\" x=\"104\" y=\"363\"/><!--MD5=[a8a605d84bb98870372738df234d6ac3]\n",
       "@startuml\r\n",
       "left to right direction\r\n",
       "skinparam monochrome true\r\n",
       "skinparam classbackgroundcolor white\r\n",
       "skinparam shadowing false\r\n",
       "skinparam wrapWidth 300\r\n",
       "hide circle\r\n",
       "\r\n",
       "package \"PictureTaking\" as E1  [[psysml:14e6fe4c-a4d9-4c34-a316-9cbabb101fb1 ]]  {\r\n",
       "comp def \"Exposure\" as E2  <<(T,blue)part def>> [[psysml:9a8bab7b-7078-4a6b-add3-8a1328b0c2d6 ]] {\r\n",
       "}\r\n",
       "rec def \"Focus\" as E3  <<(T,blue)action def>> [[psysml:44676d48-2ba6-47f9-b761-758fcbe31dbd ]] {\r\n",
       "portout \"xrsl\" as E4  [[psysml:7285223f-23e3-4ded-a1a3-c8dbe746ff9d ]] \r\n",
       "}\r\n",
       "\r\n",
       "rec def \"Shoot\" as E5  <<(T,blue)action def>> [[psysml:d9adf687-8d42-42d3-b1b5-8b6413ee0fad ]] {\r\n",
       "portin \"xsf\" as E6  [[psysml:3f6601e8-74ad-4acc-b654-2e93fe2ad4c3 ]] \r\n",
       "}\r\n",
       "\r\n",
       "rec usage \"takePicture\" as E7  <<(T,blue)action>> [[psysml:704c53cf-e737-43c7-aaa6-afd6aa41e73e ]] {\r\n",
       "rec usage \"focus\" as E8  <<(T,blue)action>> [[psysml:247459c4-dc1c-41f3-9bbd-2210d0a14144 ]] {\r\n",
       "portout \"$result\" as E9  [[psysml:d24c4944-7685-4e9e-b1e9-aa0857e67b68 ]] \r\n",
       "portout \"xrsl\" as E10  [[psysml:a9b63f0e-a7c1-4470-82ae-da9c74073d16 ]] \r\n",
       "}\r\n",
       "\r\n",
       "rec usage \"shoot\" as E11  <<(T,blue)action>> [[psysml:d7e0c4ce-9a2d-4e4d-8f17-58d415aecc73 ]] {\r\n",
       "portout \"$result\" as E12  [[psysml:edaf4370-9fef-4792-934f-b7a89f5913cc ]] \r\n",
       "portin \"xsf\" as E13  [[psysml:1ee0e316-c080-4a1b-aa8d-122e3ae24dab ]] \r\n",
       "}\r\n",
       "\r\n",
       "}\r\n",
       "\r\n",
       "}\r\n",
       "@enduml\r\n",
       "\n",
       "PlantUML version 1.2020.13(Sat Jun 13 12:26:38 UTC 2020)\n",
       "(EPL source distribution)\n",
       "Java Runtime: OpenJDK Runtime Environment\n",
       "JVM: OpenJDK 64-Bit Server VM\n",
       "Default Encoding: UTF-8\n",
       "Language: en\n",
       "Country: null\n",
       "--></g></svg>"
      ]
     },
     "execution_count": 22,
     "metadata": {},
     "output_type": "execute_result"
    }
   ],
   "source": [
    "%viz --style=\"LR\" --view=\"MIXED\" \"PictureTaking\""
   ]
  },
  {
   "cell_type": "code",
   "execution_count": 23,
   "id": "729d5796",
   "metadata": {
    "execution": {
     "iopub.execute_input": "2021-04-20T07:32:02.277508Z",
     "iopub.status.busy": "2021-04-20T07:32:02.276250Z",
     "iopub.status.idle": "2021-04-20T07:32:02.358502Z",
     "shell.execute_reply": "2021-04-20T07:32:02.357953Z"
    }
   },
   "outputs": [
    {
     "data": {
      "image/svg+xml": [
       "<?xml version=\"1.0\" encoding=\"UTF-8\" standalone=\"no\"?><svg xmlns=\"http://www.w3.org/2000/svg\" xmlns:xlink=\"http://www.w3.org/1999/xlink\" contentScriptType=\"application/ecmascript\" contentStyleType=\"text/css\" height=\"455px\" preserveAspectRatio=\"none\" style=\"width:700px;height:455px;\" version=\"1.1\" viewBox=\"0 0 700 455\" width=\"700px\" zoomAndPan=\"magnify\"><defs><filter height=\"300%\" id=\"fcitzuubtzz8a\" width=\"300%\" x=\"-1\" y=\"-1\"><feGaussianBlur result=\"blurOut\" stdDeviation=\"2.0\"/><feColorMatrix in=\"blurOut\" result=\"blurOut2\" type=\"matrix\" values=\"0 0 0 0 0 0 0 0 0 0 0 0 0 0 0 0 0 0 .4 0\"/><feOffset dx=\"4.0\" dy=\"4.0\" in=\"blurOut2\" result=\"blurOut3\"/><feBlend in=\"SourceGraphic\" in2=\"blurOut3\" mode=\"normal\"/></filter></defs><g><!--MD5=[fbc87193dbaf4d95561dea2c320d4a47]\n",
       "cluster E1--><a href=\"psysml:14e6fe4c-a4d9-4c34-a316-9cbabb101fb1\" target=\"_top\" title=\"psysml:14e6fe4c-a4d9-4c34-a316-9cbabb101fb1\" xlink:actuate=\"onRequest\" xlink:href=\"psysml:14e6fe4c-a4d9-4c34-a316-9cbabb101fb1\" xlink:show=\"new\" xlink:title=\"psysml:14e6fe4c-a4d9-4c34-a316-9cbabb101fb1\" xlink:type=\"simple\"><polygon fill=\"#FFFFFF\" filter=\"url(#fcitzuubtzz8a)\" points=\"16,6,130,6,137,28.2969,678,28.2969,678,443.5,16,443.5,16,6\" style=\"stroke: #000000; stroke-width: 1.5;\"/><line style=\"stroke: #000000; stroke-width: 1.5;\" x1=\"16\" x2=\"137\" y1=\"28.2969\" y2=\"28.2969\"/><text fill=\"#000000\" font-family=\"sans-serif\" font-size=\"14\" font-weight=\"bold\" lengthAdjust=\"spacingAndGlyphs\" textLength=\"108\" x=\"20\" y=\"20.9951\">PictureTaking</text></a><!--MD5=[d5e69f78d87373223dbae638b30a9c99]\n",
       "cluster E3--><a href=\"psysml:44676d48-2ba6-47f9-b761-758fcbe31dbd\" target=\"_top\" title=\"psysml:44676d48-2ba6-47f9-b761-758fcbe31dbd\" xlink:actuate=\"onRequest\" xlink:href=\"psysml:44676d48-2ba6-47f9-b761-758fcbe31dbd\" xlink:show=\"new\" xlink:title=\"psysml:44676d48-2ba6-47f9-b761-758fcbe31dbd\" xlink:type=\"simple\"><rect fill=\"#FFFFFF\" filter=\"url(#fcitzuubtzz8a)\" height=\"217.5\" id=\"E3\" style=\"stroke: #A80036; stroke-width: 1.5;\" width=\"134\" x=\"528\" y=\"100\"/><rect fill=\"#FEFECE\" height=\"37.9375\" style=\"stroke: #A80036; stroke-width: 1.5;\" width=\"134\" x=\"528\" y=\"100\"/><text fill=\"#000000\" font-family=\"sans-serif\" font-size=\"12\" font-style=\"italic\" lengthAdjust=\"spacingAndGlyphs\" textLength=\"77\" x=\"556.5\" y=\"116.1387\">«action def»</text><text fill=\"#000000\" font-family=\"sans-serif\" font-size=\"12\" lengthAdjust=\"spacingAndGlyphs\" textLength=\"37\" x=\"576.5\" y=\"130.1074\">Focus</text></a><!--MD5=[de5ec2e2e8f62f467e546659f5068c88]\n",
       "cluster E5--><a href=\"psysml:d9adf687-8d42-42d3-b1b5-8b6413ee0fad\" target=\"_top\" title=\"psysml:d9adf687-8d42-42d3-b1b5-8b6413ee0fad\" xlink:actuate=\"onRequest\" xlink:href=\"psysml:d9adf687-8d42-42d3-b1b5-8b6413ee0fad\" xlink:show=\"new\" xlink:title=\"psysml:d9adf687-8d42-42d3-b1b5-8b6413ee0fad\" xlink:type=\"simple\"><rect fill=\"#FFFFFF\" filter=\"url(#fcitzuubtzz8a)\" height=\"134\" id=\"E5\" style=\"stroke: #A80036; stroke-width: 1.5;\" width=\"134\" x=\"386\" y=\"133.5\"/><rect fill=\"#FEFECE\" height=\"37.9375\" style=\"stroke: #A80036; stroke-width: 1.5;\" width=\"134\" x=\"386\" y=\"133.5\"/><text fill=\"#000000\" font-family=\"sans-serif\" font-size=\"12\" font-style=\"italic\" lengthAdjust=\"spacingAndGlyphs\" textLength=\"77\" x=\"414.5\" y=\"149.6387\">«action def»</text><text fill=\"#000000\" font-family=\"sans-serif\" font-size=\"12\" lengthAdjust=\"spacingAndGlyphs\" textLength=\"37\" x=\"434.5\" y=\"163.6074\">Shoot</text></a><!--MD5=[168fadf3d0c3fd93dd5d6da1b1d7ab76]\n",
       "cluster E7--><a href=\"psysml:704c53cf-e737-43c7-aaa6-afd6aa41e73e\" target=\"_top\" title=\"psysml:704c53cf-e737-43c7-aaa6-afd6aa41e73e\" xlink:actuate=\"onRequest\" xlink:href=\"psysml:704c53cf-e737-43c7-aaa6-afd6aa41e73e\" xlink:show=\"new\" xlink:title=\"psysml:704c53cf-e737-43c7-aaa6-afd6aa41e73e\" xlink:type=\"simple\"><rect fill=\"#FFFFFF\" filter=\"url(#fcitzuubtzz8a)\" height=\"370.5\" id=\"E7\" rx=\"10\" ry=\"10\" style=\"stroke: #A80036; stroke-width: 1.5;\" width=\"256\" x=\"114\" y=\"49\"/><rect fill=\"#FEFECE\" height=\"37.9375\" rx=\"10\" ry=\"10\" style=\"stroke: #FEFECE; stroke-width: 1.5;\" width=\"256\" x=\"114\" y=\"49\"/><rect fill=\"#FEFECE\" height=\"10\" style=\"stroke: #FEFECE; stroke-width: 1.5;\" width=\"256\" x=\"114\" y=\"76.9375\"/><rect fill=\"none\" height=\"370.5\" id=\"E7\" rx=\"10\" ry=\"10\" style=\"stroke: #A80036; stroke-width: 1.5;\" width=\"256\" x=\"114\" y=\"49\"/><text fill=\"#000000\" font-family=\"sans-serif\" font-size=\"12\" font-style=\"italic\" lengthAdjust=\"spacingAndGlyphs\" textLength=\"53\" x=\"215.5\" y=\"65.1387\">«action»</text><text fill=\"#000000\" font-family=\"sans-serif\" font-size=\"12\" lengthAdjust=\"spacingAndGlyphs\" textLength=\"72\" x=\"206\" y=\"79.1074\">takePicture</text><line style=\"stroke: #A80036; stroke-width: 1.0;\" x1=\"114\" x2=\"370\" y1=\"86.9375\" y2=\"86.9375\"/></a><!--MD5=[55dfccfc6c49c2d10cd1bd2211a6c90c]\n",
       "cluster E8--><a href=\"psysml:247459c4-dc1c-41f3-9bbd-2210d0a14144\" target=\"_top\" title=\"psysml:247459c4-dc1c-41f3-9bbd-2210d0a14144\" xlink:actuate=\"onRequest\" xlink:href=\"psysml:247459c4-dc1c-41f3-9bbd-2210d0a14144\" xlink:show=\"new\" xlink:title=\"psysml:247459c4-dc1c-41f3-9bbd-2210d0a14144\" xlink:type=\"simple\"><rect fill=\"#FFFFFF\" filter=\"url(#fcitzuubtzz8a)\" height=\"217.5\" id=\"E8\" rx=\"10\" ry=\"10\" style=\"stroke: #A80036; stroke-width: 1.5;\" width=\"83\" x=\"257\" y=\"100\"/><rect fill=\"#FEFECE\" height=\"37.9375\" rx=\"10\" ry=\"10\" style=\"stroke: #FEFECE; stroke-width: 1.5;\" width=\"83\" x=\"257\" y=\"100\"/><rect fill=\"#FEFECE\" height=\"10\" style=\"stroke: #FEFECE; stroke-width: 1.5;\" width=\"83\" x=\"257\" y=\"127.9375\"/><rect fill=\"none\" height=\"217.5\" id=\"E8\" rx=\"10\" ry=\"10\" style=\"stroke: #A80036; stroke-width: 1.5;\" width=\"83\" x=\"257\" y=\"100\"/><text fill=\"#000000\" font-family=\"sans-serif\" font-size=\"12\" font-style=\"italic\" lengthAdjust=\"spacingAndGlyphs\" textLength=\"53\" x=\"272\" y=\"116.1387\">«action»</text><text fill=\"#000000\" font-family=\"sans-serif\" font-size=\"12\" lengthAdjust=\"spacingAndGlyphs\" textLength=\"34\" x=\"281.5\" y=\"130.1074\">focus</text><line style=\"stroke: #A80036; stroke-width: 1.0;\" x1=\"257\" x2=\"340\" y1=\"137.9375\" y2=\"137.9375\"/></a><!--MD5=[917b9dd0c7eca3ee5f47219d1a84c0ad]\n",
       "cluster E11--><a href=\"psysml:d7e0c4ce-9a2d-4e4d-8f17-58d415aecc73\" target=\"_top\" title=\"psysml:d7e0c4ce-9a2d-4e4d-8f17-58d415aecc73\" xlink:actuate=\"onRequest\" xlink:href=\"psysml:d7e0c4ce-9a2d-4e4d-8f17-58d415aecc73\" xlink:show=\"new\" xlink:title=\"psysml:d7e0c4ce-9a2d-4e4d-8f17-58d415aecc73\" xlink:type=\"simple\"><rect fill=\"#FFFFFF\" filter=\"url(#fcitzuubtzz8a)\" height=\"256\" id=\"E11\" rx=\"10\" ry=\"10\" style=\"stroke: #A80036; stroke-width: 1.5;\" width=\"74\" x=\"164\" y=\"133.5\"/><rect fill=\"#FEFECE\" height=\"37.9375\" rx=\"10\" ry=\"10\" style=\"stroke: #FEFECE; stroke-width: 1.5;\" width=\"74\" x=\"164\" y=\"133.5\"/><rect fill=\"#FEFECE\" height=\"10\" style=\"stroke: #FEFECE; stroke-width: 1.5;\" width=\"74\" x=\"164\" y=\"161.4375\"/><rect fill=\"none\" height=\"256\" id=\"E11\" rx=\"10\" ry=\"10\" style=\"stroke: #A80036; stroke-width: 1.5;\" width=\"74\" x=\"164\" y=\"133.5\"/><text fill=\"#000000\" font-family=\"sans-serif\" font-size=\"12\" font-style=\"italic\" lengthAdjust=\"spacingAndGlyphs\" textLength=\"53\" x=\"174.5\" y=\"149.6387\">«action»</text><text fill=\"#000000\" font-family=\"sans-serif\" font-size=\"12\" lengthAdjust=\"spacingAndGlyphs\" textLength=\"36\" x=\"183\" y=\"163.6074\">shoot</text><line style=\"stroke: #A80036; stroke-width: 1.0;\" x1=\"164\" x2=\"238\" y1=\"171.4375\" y2=\"171.4375\"/></a><!--MD5=[b4997ac47864f28c2f74865a473b2911]\n",
       "class E2--><a href=\"psysml:9a8bab7b-7078-4a6b-add3-8a1328b0c2d6\" target=\"_top\" title=\"psysml:9a8bab7b-7078-4a6b-add3-8a1328b0c2d6\" xlink:actuate=\"onRequest\" xlink:href=\"psysml:9a8bab7b-7078-4a6b-add3-8a1328b0c2d6\" xlink:show=\"new\" xlink:title=\"psysml:9a8bab7b-7078-4a6b-add3-8a1328b0c2d6\" xlink:type=\"simple\"><rect fill=\"#FEFECE\" filter=\"url(#fcitzuubtzz8a)\" height=\"45.9375\" id=\"E2\" style=\"stroke: #A80036; stroke-width: 1.5;\" width=\"66\" x=\"32\" y=\"110.5\"/><text fill=\"#000000\" font-family=\"sans-serif\" font-size=\"12\" font-style=\"italic\" lengthAdjust=\"spacingAndGlyphs\" textLength=\"64\" x=\"33\" y=\"126.6387\">«part def»</text><text fill=\"#000000\" font-family=\"sans-serif\" font-size=\"12\" lengthAdjust=\"spacingAndGlyphs\" textLength=\"58\" x=\"36\" y=\"140.6074\">Exposure</text><line style=\"stroke: #A80036; stroke-width: 1.5;\" x1=\"33\" x2=\"97\" y1=\"148.4375\" y2=\"148.4375\"/></a><text fill=\"#000000\" font-family=\"sans-serif\" font-size=\"14\" lengthAdjust=\"spacingAndGlyphs\" textLength=\"23\" x=\"583.5\" y=\"336.4951\">xrsl</text><rect fill=\"#A80036\" height=\"12\" style=\"stroke: #FEFECE; stroke-width: 1.5;\" width=\"12\" x=\"589\" y=\"311.5\"/><text fill=\"#000000\" font-family=\"sans-serif\" font-size=\"14\" lengthAdjust=\"spacingAndGlyphs\" textLength=\"19\" x=\"443.5\" y=\"112.1982\">xsf</text><rect fill=\"#A80036\" height=\"12\" style=\"stroke: #FEFECE; stroke-width: 1.5;\" width=\"12\" x=\"447\" y=\"127.5\"/><text fill=\"#000000\" font-family=\"sans-serif\" font-size=\"14\" lengthAdjust=\"spacingAndGlyphs\" textLength=\"48\" x=\"251\" y=\"336.4951\">$result</text><rect fill=\"#A80036\" height=\"12\" style=\"stroke: #FEFECE; stroke-width: 1.5;\" width=\"12\" x=\"269\" y=\"311.5\"/><text fill=\"#000000\" font-family=\"sans-serif\" font-size=\"14\" lengthAdjust=\"spacingAndGlyphs\" textLength=\"23\" x=\"310.5\" y=\"336.4951\">xrsl</text><rect fill=\"#A80036\" height=\"12\" style=\"stroke: #FEFECE; stroke-width: 1.5;\" width=\"12\" x=\"316\" y=\"311.5\"/><text fill=\"#000000\" font-family=\"sans-serif\" font-size=\"14\" lengthAdjust=\"spacingAndGlyphs\" textLength=\"48\" x=\"158\" y=\"408.4951\">$result</text><rect fill=\"#A80036\" height=\"12\" style=\"stroke: #FEFECE; stroke-width: 1.5;\" width=\"12\" x=\"176\" y=\"383.5\"/><text fill=\"#000000\" font-family=\"sans-serif\" font-size=\"14\" lengthAdjust=\"spacingAndGlyphs\" textLength=\"19\" x=\"174.5\" y=\"112.1982\">xsf</text><rect fill=\"#A80036\" height=\"12\" style=\"stroke: #FEFECE; stroke-width: 1.5;\" width=\"12\" x=\"178\" y=\"127.5\"/><!--MD5=[01af59b236e8ca0c07f60a94bc50d129]\n",
       "@startuml\r\n",
       "skinparam wrapWidth 300\r\n",
       "hide circle\r\n",
       "\r\n",
       "package \"PictureTaking\" as E1  [[psysml:14e6fe4c-a4d9-4c34-a316-9cbabb101fb1 ]]  {\r\n",
       "comp def \"Exposure\" as E2  <<(T,blue)part def>> [[psysml:9a8bab7b-7078-4a6b-add3-8a1328b0c2d6 ]] {\r\n",
       "}\r\n",
       "rec def \"Focus\" as E3  <<(T,blue)action def>> [[psysml:44676d48-2ba6-47f9-b761-758fcbe31dbd ]] {\r\n",
       "portout \"xrsl\" as E4  [[psysml:7285223f-23e3-4ded-a1a3-c8dbe746ff9d ]] \r\n",
       "}\r\n",
       "\r\n",
       "rec def \"Shoot\" as E5  <<(T,blue)action def>> [[psysml:d9adf687-8d42-42d3-b1b5-8b6413ee0fad ]] {\r\n",
       "portin \"xsf\" as E6  [[psysml:3f6601e8-74ad-4acc-b654-2e93fe2ad4c3 ]] \r\n",
       "}\r\n",
       "\r\n",
       "rec usage \"takePicture\" as E7  <<(T,blue)action>> [[psysml:704c53cf-e737-43c7-aaa6-afd6aa41e73e ]] {\r\n",
       "rec usage \"focus\" as E8  <<(T,blue)action>> [[psysml:247459c4-dc1c-41f3-9bbd-2210d0a14144 ]] {\r\n",
       "portout \"$result\" as E9  [[psysml:d24c4944-7685-4e9e-b1e9-aa0857e67b68 ]] \r\n",
       "portout \"xrsl\" as E10  [[psysml:a9b63f0e-a7c1-4470-82ae-da9c74073d16 ]] \r\n",
       "}\r\n",
       "\r\n",
       "rec usage \"shoot\" as E11  <<(T,blue)action>> [[psysml:d7e0c4ce-9a2d-4e4d-8f17-58d415aecc73 ]] {\r\n",
       "portout \"$result\" as E12  [[psysml:edaf4370-9fef-4792-934f-b7a89f5913cc ]] \r\n",
       "portin \"xsf\" as E13  [[psysml:1ee0e316-c080-4a1b-aa8d-122e3ae24dab ]] \r\n",
       "}\r\n",
       "\r\n",
       "}\r\n",
       "\r\n",
       "}\r\n",
       "@enduml\r\n",
       "\n",
       "PlantUML version 1.2020.13(Sat Jun 13 12:26:38 UTC 2020)\n",
       "(EPL source distribution)\n",
       "Java Runtime: OpenJDK Runtime Environment\n",
       "JVM: OpenJDK 64-Bit Server VM\n",
       "Default Encoding: UTF-8\n",
       "Language: en\n",
       "Country: null\n",
       "--></g></svg>"
      ]
     },
     "execution_count": 23,
     "metadata": {},
     "output_type": "execute_result"
    }
   ],
   "source": [
    "%viz --style=\"STDCOLOR\" --view=\"Default\" \"PictureTaking\""
   ]
  },
  {
   "cell_type": "code",
   "execution_count": 24,
   "id": "b781da33",
   "metadata": {
    "execution": {
     "iopub.execute_input": "2021-04-20T07:32:02.411248Z",
     "iopub.status.busy": "2021-04-20T07:32:02.410483Z",
     "iopub.status.idle": "2021-04-20T07:32:02.474934Z",
     "shell.execute_reply": "2021-04-20T07:32:02.470911Z"
    }
   },
   "outputs": [
    {
     "data": {
      "image/svg+xml": [
       "<?xml version=\"1.0\" encoding=\"UTF-8\" standalone=\"no\"?><svg xmlns=\"http://www.w3.org/2000/svg\" xmlns:xlink=\"http://www.w3.org/1999/xlink\" contentScriptType=\"application/ecmascript\" contentStyleType=\"text/css\" height=\"452px\" preserveAspectRatio=\"none\" style=\"width:278px;height:452px;\" version=\"1.1\" viewBox=\"0 0 278 452\" width=\"278px\" zoomAndPan=\"magnify\"><defs><filter height=\"300%\" id=\"f188t0g04nrjh8\" width=\"300%\" x=\"-1\" y=\"-1\"><feGaussianBlur result=\"blurOut\" stdDeviation=\"2.0\"/><feColorMatrix in=\"blurOut\" result=\"blurOut2\" type=\"matrix\" values=\"0 0 0 0 0 0 0 0 0 0 0 0 0 0 0 0 0 0 .4 0\"/><feOffset dx=\"4.0\" dy=\"4.0\" in=\"blurOut2\" result=\"blurOut3\"/><feBlend in=\"SourceGraphic\" in2=\"blurOut3\" mode=\"normal\"/></filter></defs><g><!--MD5=[fbc87193dbaf4d95561dea2c320d4a47]\n",
       "cluster E1--><a href=\"psysml:14e6fe4c-a4d9-4c34-a316-9cbabb101fb1\" target=\"_top\" title=\"psysml:14e6fe4c-a4d9-4c34-a316-9cbabb101fb1\" xlink:actuate=\"onRequest\" xlink:href=\"psysml:14e6fe4c-a4d9-4c34-a316-9cbabb101fb1\" xlink:show=\"new\" xlink:title=\"psysml:14e6fe4c-a4d9-4c34-a316-9cbabb101fb1\" xlink:type=\"simple\"><polygon fill=\"#FFFFFF\" filter=\"url(#f188t0g04nrjh8)\" points=\"16,6,130,6,137,28.2969,256,28.2969,256,440,16,440,16,6\" style=\"stroke: #000000; stroke-width: 1.5;\"/><line style=\"stroke: #000000; stroke-width: 1.5;\" x1=\"16\" x2=\"137\" y1=\"28.2969\" y2=\"28.2969\"/><text fill=\"#000000\" font-family=\"sans-serif\" font-size=\"14\" font-weight=\"bold\" lengthAdjust=\"spacingAndGlyphs\" textLength=\"108\" x=\"20\" y=\"20.9951\">PictureTaking</text></a><!--MD5=[b4997ac47864f28c2f74865a473b2911]\n",
       "class E2--><a href=\"psysml:9a8bab7b-7078-4a6b-add3-8a1328b0c2d6\" target=\"_top\" title=\"psysml:9a8bab7b-7078-4a6b-add3-8a1328b0c2d6\" xlink:actuate=\"onRequest\" xlink:href=\"psysml:9a8bab7b-7078-4a6b-add3-8a1328b0c2d6\" xlink:show=\"new\" xlink:title=\"psysml:9a8bab7b-7078-4a6b-add3-8a1328b0c2d6\" xlink:type=\"simple\"><rect fill=\"#FEFECE\" filter=\"url(#f188t0g04nrjh8)\" height=\"45.9375\" id=\"E2\" style=\"stroke: #A80036; stroke-width: 1.5;\" width=\"66\" x=\"103\" y=\"378\"/><text fill=\"#000000\" font-family=\"sans-serif\" font-size=\"12\" font-style=\"italic\" lengthAdjust=\"spacingAndGlyphs\" textLength=\"64\" x=\"104\" y=\"394.1387\">«part def»</text><text fill=\"#000000\" font-family=\"sans-serif\" font-size=\"12\" lengthAdjust=\"spacingAndGlyphs\" textLength=\"58\" x=\"107\" y=\"408.1074\">Exposure</text><line style=\"stroke: #A80036; stroke-width: 1.5;\" x1=\"104\" x2=\"168\" y1=\"415.9375\" y2=\"415.9375\"/></a><!--MD5=[09b614a08d8cba4a07c9adeb5e0fee81]\n",
       "class E3--><a href=\"psysml:44676d48-2ba6-47f9-b761-758fcbe31dbd\" target=\"_top\" title=\"psysml:44676d48-2ba6-47f9-b761-758fcbe31dbd\" xlink:actuate=\"onRequest\" xlink:href=\"psysml:44676d48-2ba6-47f9-b761-758fcbe31dbd\" xlink:show=\"new\" xlink:title=\"psysml:44676d48-2ba6-47f9-b761-758fcbe31dbd\" xlink:type=\"simple\"><rect fill=\"#FEFECE\" filter=\"url(#f188t0g04nrjh8)\" height=\"45.9375\" id=\"E3\" style=\"stroke: #A80036; stroke-width: 1.5;\" width=\"79\" x=\"38.5\" y=\"255\"/><text fill=\"#000000\" font-family=\"sans-serif\" font-size=\"12\" font-style=\"italic\" lengthAdjust=\"spacingAndGlyphs\" textLength=\"77\" x=\"39.5\" y=\"271.1387\">«action def»</text><text fill=\"#000000\" font-family=\"sans-serif\" font-size=\"12\" lengthAdjust=\"spacingAndGlyphs\" textLength=\"37\" x=\"59.5\" y=\"285.1074\">Focus</text><line style=\"stroke: #A80036; stroke-width: 1.5;\" x1=\"39.5\" x2=\"116.5\" y1=\"292.9375\" y2=\"292.9375\"/></a><!--MD5=[ebbe1d658d1005bcc118a6aa81145e00]\n",
       "class E4--><a href=\"psysml:d9adf687-8d42-42d3-b1b5-8b6413ee0fad\" target=\"_top\" title=\"psysml:d9adf687-8d42-42d3-b1b5-8b6413ee0fad\" xlink:actuate=\"onRequest\" xlink:href=\"psysml:d9adf687-8d42-42d3-b1b5-8b6413ee0fad\" xlink:show=\"new\" xlink:title=\"psysml:d9adf687-8d42-42d3-b1b5-8b6413ee0fad\" xlink:type=\"simple\"><rect fill=\"#FEFECE\" filter=\"url(#f188t0g04nrjh8)\" height=\"45.9375\" id=\"E4\" style=\"stroke: #A80036; stroke-width: 1.5;\" width=\"79\" x=\"154.5\" y=\"255\"/><text fill=\"#000000\" font-family=\"sans-serif\" font-size=\"12\" font-style=\"italic\" lengthAdjust=\"spacingAndGlyphs\" textLength=\"77\" x=\"155.5\" y=\"271.1387\">«action def»</text><text fill=\"#000000\" font-family=\"sans-serif\" font-size=\"12\" lengthAdjust=\"spacingAndGlyphs\" textLength=\"37\" x=\"175.5\" y=\"285.1074\">Shoot</text><line style=\"stroke: #A80036; stroke-width: 1.5;\" x1=\"155.5\" x2=\"232.5\" y1=\"292.9375\" y2=\"292.9375\"/></a><!--MD5=[270fce915f116d4de14055a7c1d9a0f3]\n",
       "class E5--><a href=\"psysml:704c53cf-e737-43c7-aaa6-afd6aa41e73e\" target=\"_top\" title=\"psysml:704c53cf-e737-43c7-aaa6-afd6aa41e73e\" xlink:actuate=\"onRequest\" xlink:href=\"psysml:704c53cf-e737-43c7-aaa6-afd6aa41e73e\" xlink:show=\"new\" xlink:title=\"psysml:704c53cf-e737-43c7-aaa6-afd6aa41e73e\" xlink:type=\"simple\"><rect fill=\"#FEFECE\" filter=\"url(#f188t0g04nrjh8)\" height=\"45.9375\" id=\"E5\" rx=\"10\" ry=\"10\" style=\"stroke: #A80036; stroke-width: 1.5;\" width=\"78\" x=\"96\" y=\"41\"/><text fill=\"#000000\" font-family=\"sans-serif\" font-size=\"12\" font-style=\"italic\" lengthAdjust=\"spacingAndGlyphs\" textLength=\"53\" x=\"108.5\" y=\"57.1387\">«action»</text><text fill=\"#000000\" font-family=\"sans-serif\" font-size=\"12\" lengthAdjust=\"spacingAndGlyphs\" textLength=\"72\" x=\"99\" y=\"71.1074\">takePicture</text><line style=\"stroke: #A80036; stroke-width: 1.5;\" x1=\"97\" x2=\"173\" y1=\"78.9375\" y2=\"78.9375\"/></a><!--MD5=[60a26617385b1d2d0262a64233df1f8d]\n",
       "class E6--><a href=\"psysml:247459c4-dc1c-41f3-9bbd-2210d0a14144\" target=\"_top\" title=\"psysml:247459c4-dc1c-41f3-9bbd-2210d0a14144\" xlink:actuate=\"onRequest\" xlink:href=\"psysml:247459c4-dc1c-41f3-9bbd-2210d0a14144\" xlink:show=\"new\" xlink:title=\"psysml:247459c4-dc1c-41f3-9bbd-2210d0a14144\" xlink:type=\"simple\"><rect fill=\"#FEFECE\" filter=\"url(#f188t0g04nrjh8)\" height=\"45.9375\" id=\"E6\" rx=\"10\" ry=\"10\" style=\"stroke: #A80036; stroke-width: 1.5;\" width=\"85\" x=\"32.5\" y=\"148\"/><text fill=\"#000000\" font-family=\"sans-serif\" font-size=\"12\" font-style=\"italic\" lengthAdjust=\"spacingAndGlyphs\" textLength=\"53\" x=\"48.5\" y=\"164.1387\">«action»</text><text fill=\"#000000\" font-family=\"sans-serif\" font-size=\"12\" lengthAdjust=\"spacingAndGlyphs\" textLength=\"79\" x=\"35.5\" y=\"178.1074\">focus: Focus</text><line style=\"stroke: #A80036; stroke-width: 1.5;\" x1=\"33.5\" x2=\"116.5\" y1=\"185.9375\" y2=\"185.9375\"/></a><!--MD5=[2156ba9850f5573cc1fc38a6a4b2f02b]\n",
       "class E7--><a href=\"psysml:d7e0c4ce-9a2d-4e4d-8f17-58d415aecc73\" target=\"_top\" title=\"psysml:d7e0c4ce-9a2d-4e4d-8f17-58d415aecc73\" xlink:actuate=\"onRequest\" xlink:href=\"psysml:d7e0c4ce-9a2d-4e4d-8f17-58d415aecc73\" xlink:show=\"new\" xlink:title=\"psysml:d7e0c4ce-9a2d-4e4d-8f17-58d415aecc73\" xlink:type=\"simple\"><rect fill=\"#FEFECE\" filter=\"url(#f188t0g04nrjh8)\" height=\"45.9375\" id=\"E7\" rx=\"10\" ry=\"10\" style=\"stroke: #A80036; stroke-width: 1.5;\" width=\"87\" x=\"152.5\" y=\"148\"/><text fill=\"#000000\" font-family=\"sans-serif\" font-size=\"12\" font-style=\"italic\" lengthAdjust=\"spacingAndGlyphs\" textLength=\"53\" x=\"169.5\" y=\"164.1387\">«action»</text><text fill=\"#000000\" font-family=\"sans-serif\" font-size=\"12\" lengthAdjust=\"spacingAndGlyphs\" textLength=\"81\" x=\"155.5\" y=\"178.1074\">shoot: Shoot</text><line style=\"stroke: #A80036; stroke-width: 1.5;\" x1=\"153.5\" x2=\"238.5\" y1=\"185.9375\" y2=\"185.9375\"/></a><!--MD5=[b900ca4392aad7a68aec1e9245e10ab9]\n",
       "reverse link E3 to E2--><a href=\"psysml:7285223f-23e3-4ded-a1a3-c8dbe746ff9d\" target=\"_top\" title=\"psysml:7285223f-23e3-4ded-a1a3-c8dbe746ff9d\" xlink:actuate=\"onRequest\" xlink:href=\"psysml:7285223f-23e3-4ded-a1a3-c8dbe746ff9d\" xlink:show=\"new\" xlink:title=\"psysml:7285223f-23e3-4ded-a1a3-c8dbe746ff9d\" xlink:type=\"simple\"><path d=\"M94.32,313.04 C104.29,333.84 116.74,359.82 125.43,377.95 \" fill=\"none\" id=\"E3&lt;-E2\" style=\"stroke: #A80036; stroke-width: 1.0;\"/><polygon fill=\"#FFFFFF\" points=\"88.64,301.19,87.6227,308.329,93.8212,312.0138,94.8385,304.8748,88.64,301.19\" style=\"stroke: #A80036; stroke-width: 1.0;\"/><text fill=\"#000000\" font-family=\"sans-serif\" font-size=\"13\" lengthAdjust=\"spacingAndGlyphs\" textLength=\"22\" x=\"111\" y=\"344.0669\">xrsl</text></a><!--MD5=[ddeed8deb2209213b62e6cfabaa108b2]\n",
       "reverse link E4 to E2--><a href=\"psysml:3f6601e8-74ad-4acc-b654-2e93fe2ad4c3\" target=\"_top\" title=\"psysml:3f6601e8-74ad-4acc-b654-2e93fe2ad4c3\" xlink:actuate=\"onRequest\" xlink:href=\"psysml:3f6601e8-74ad-4acc-b654-2e93fe2ad4c3\" xlink:show=\"new\" xlink:title=\"psysml:3f6601e8-74ad-4acc-b654-2e93fe2ad4c3\" xlink:type=\"simple\"><path d=\"M177.68,313.04 C167.71,333.84 155.26,359.82 146.57,377.95 \" fill=\"none\" id=\"E4&lt;-E2\" style=\"stroke: #A80036; stroke-width: 1.0;\"/><polygon fill=\"#FFFFFF\" points=\"183.36,301.19,177.1615,304.8748,178.1788,312.0138,184.3773,308.329,183.36,301.19\" style=\"stroke: #A80036; stroke-width: 1.0;\"/><text fill=\"#000000\" font-family=\"sans-serif\" font-size=\"13\" lengthAdjust=\"spacingAndGlyphs\" textLength=\"18\" x=\"169\" y=\"344.0669\">xsf</text></a><!--MD5=[85d356282659285ab4b2cfe2f634dd2b]\n",
       "reverse link E5 to E6--><a href=\"psysml:b27ee466-0f4c-4005-a5ef-b2dd2df76771\" target=\"_top\" title=\"psysml:b27ee466-0f4c-4005-a5ef-b2dd2df76771\" xlink:actuate=\"onRequest\" xlink:href=\"psysml:b27ee466-0f4c-4005-a5ef-b2dd2df76771\" xlink:show=\"new\" xlink:title=\"psysml:b27ee466-0f4c-4005-a5ef-b2dd2df76771\" xlink:type=\"simple\"><path d=\"M115.79,98.62 C106.62,114.66 95.91,133.4 87.77,147.66 \" fill=\"none\" id=\"E5&lt;-E6\" style=\"stroke: #A80036; stroke-width: 1.0;\"/><polygon fill=\"#A80036\" points=\"122.42,87.01,115.9684,90.2314,116.4607,97.4257,122.9122,94.2043,122.42,87.01\" style=\"stroke: #A80036; stroke-width: 1.0;\"/><text fill=\"#000000\" font-family=\"sans-serif\" font-size=\"13\" lengthAdjust=\"spacingAndGlyphs\" textLength=\"8\" x=\"82.0173\" y=\"136.8492\">1</text></a><!--MD5=[a717450b82c80b9240a525fa862496af]\n",
       "link E6 to E3--><a href=\"psysml:5a2a5603-bc94-4298-a763-49fe520ca5bc\" target=\"_top\" title=\"psysml:5a2a5603-bc94-4298-a763-49fe520ca5bc\" xlink:actuate=\"onRequest\" xlink:href=\"psysml:5a2a5603-bc94-4298-a763-49fe520ca5bc\" xlink:show=\"new\" xlink:title=\"psysml:5a2a5603-bc94-4298-a763-49fe520ca5bc\" xlink:type=\"simple\"><path d=\"M75.63,194.01 C75.96,205.69 76.38,220.46 76.78,234.28 \" fill=\"none\" id=\"E6-&gt;E3\" style=\"stroke: #A80036; stroke-width: 1.0;\"/><polygon fill=\"#FFFFFF\" points=\"77.36,254.66,69.8202,235.8677,83.8145,235.4678,77.36,254.66\" style=\"stroke: #A80036; stroke-width: 1.0;\"/><ellipse cx=\"71.6566\" cy=\"230.1129\" fill=\"#A80036\" rx=\"2\" ry=\"2\" style=\"stroke: #A80036; stroke-width: 1.0;\"/><ellipse cx=\"81.6525\" cy=\"229.8273\" fill=\"#A80036\" rx=\"2\" ry=\"2\" style=\"stroke: #A80036; stroke-width: 1.0;\"/></a><!--MD5=[452b418e7f8a40397a49b8c0a78acc5b]\n",
       "reverse link E5 to E7--><a href=\"psysml:aaa4df86-e408-4ec8-a2fe-61e5d0511306\" target=\"_top\" title=\"psysml:aaa4df86-e408-4ec8-a2fe-61e5d0511306\" xlink:actuate=\"onRequest\" xlink:href=\"psysml:aaa4df86-e408-4ec8-a2fe-61e5d0511306\" xlink:show=\"new\" xlink:title=\"psysml:aaa4df86-e408-4ec8-a2fe-61e5d0511306\" xlink:type=\"simple\"><path d=\"M154.53,98.62 C163.85,114.66 174.74,133.4 183.02,147.66 \" fill=\"none\" id=\"E5&lt;-E7\" style=\"stroke: #A80036; stroke-width: 1.0;\"/><polygon fill=\"#A80036\" points=\"147.79,87.01,147.3439,94.2073,153.8159,97.3873,154.2621,90.19,147.79,87.01\" style=\"stroke: #A80036; stroke-width: 1.0;\"/><text fill=\"#000000\" font-family=\"sans-serif\" font-size=\"13\" lengthAdjust=\"spacingAndGlyphs\" textLength=\"8\" x=\"170.6689\" y=\"136.8492\">1</text></a><!--MD5=[6bdd27f9905911a7e892a3dc65cf6b7c]\n",
       "link E7 to E4--><a href=\"psysml:f48d95ee-d7b3-4518-8228-9030b5bbf5ab\" target=\"_top\" title=\"psysml:f48d95ee-d7b3-4518-8228-9030b5bbf5ab\" xlink:actuate=\"onRequest\" xlink:href=\"psysml:f48d95ee-d7b3-4518-8228-9030b5bbf5ab\" xlink:show=\"new\" xlink:title=\"psysml:f48d95ee-d7b3-4518-8228-9030b5bbf5ab\" xlink:type=\"simple\"><path d=\"M195.58,194.01 C195.36,205.69 195.08,220.46 194.81,234.28 \" fill=\"none\" id=\"E7-&gt;E4\" style=\"stroke: #A80036; stroke-width: 1.0;\"/><polygon fill=\"#FFFFFF\" points=\"194.43,254.66,187.784,235.5333,201.7816,235.7933,194.43,254.66\" style=\"stroke: #A80036; stroke-width: 1.0;\"/><ellipse cx=\"189.8895\" cy=\"229.8714\" fill=\"#A80036\" rx=\"2\" ry=\"2\" style=\"stroke: #A80036; stroke-width: 1.0;\"/><ellipse cx=\"199.8878\" cy=\"230.0571\" fill=\"#A80036\" rx=\"2\" ry=\"2\" style=\"stroke: #A80036; stroke-width: 1.0;\"/></a><!--MD5=[dd21adb9140f2cfd87db9a5117a4b664]\n",
       "@startuml\r\n",
       "skinparam wrapWidth 300\r\n",
       "hide circle\r\n",
       "\r\n",
       "package \"PictureTaking\" as E1  [[psysml:14e6fe4c-a4d9-4c34-a316-9cbabb101fb1 ]]  {\r\n",
       "comp def \"Exposure\" as E2  <<(T,blue)part def>> [[psysml:9a8bab7b-7078-4a6b-add3-8a1328b0c2d6 ]] {\r\n",
       "}\r\n",
       "comp def \"Focus\" as E3  <<(T,blue)action def>> [[psysml:44676d48-2ba6-47f9-b761-758fcbe31dbd ]] {\r\n",
       "}\r\n",
       "comp def \"Shoot\" as E4  <<(T,blue)action def>> [[psysml:d9adf687-8d42-42d3-b1b5-8b6413ee0fad ]] {\r\n",
       "}\r\n",
       "comp usage \"takePicture\" as E5  <<(T,blue)action>> [[psysml:704c53cf-e737-43c7-aaa6-afd6aa41e73e ]] {\r\n",
       "}\r\n",
       "comp usage \"focus: Focus\" as E6  <<(T,blue)action>> [[psysml:247459c4-dc1c-41f3-9bbd-2210d0a14144 ]] {\r\n",
       "}\r\n",
       "comp usage \"shoot: Shoot\" as E7  <<(T,blue)action>> [[psysml:d7e0c4ce-9a2d-4e4d-8f17-58d415aecc73 ]] {\r\n",
       "}\r\n",
       "E3 o- - E2 [[psysml:7285223f-23e3-4ded-a1a3-c8dbe746ff9d ]] : xrsl\r\n",
       "E4 o- - E2 [[psysml:3f6601e8-74ad-4acc-b654-2e93fe2ad4c3 ]] : xsf\r\n",
       "E5 *- - \"1\"E6 [[psysml:b27ee466-0f4c-4005-a5ef-b2dd2df76771 ]] \r\n",
       "E6 - -:|> E3 [[psysml:5a2a5603-bc94-4298-a763-49fe520ca5bc ]] \r\n",
       "E5 *- - \"1\"E7 [[psysml:aaa4df86-e408-4ec8-a2fe-61e5d0511306 ]] \r\n",
       "E7 - -:|> E4 [[psysml:f48d95ee-d7b3-4518-8228-9030b5bbf5ab ]] \r\n",
       "}\r\n",
       "@enduml\r\n",
       "\n",
       "PlantUML version 1.2020.13(Sat Jun 13 12:26:38 UTC 2020)\n",
       "(EPL source distribution)\n",
       "Java Runtime: OpenJDK Runtime Environment\n",
       "JVM: OpenJDK 64-Bit Server VM\n",
       "Default Encoding: UTF-8\n",
       "Language: en\n",
       "Country: null\n",
       "--></g></svg>"
      ]
     },
     "execution_count": 24,
     "metadata": {},
     "output_type": "execute_result"
    }
   ],
   "source": [
    "%viz --style=\"STDCOLOR\" --view=\"Tree\" \"PictureTaking\""
   ]
  },
  {
   "cell_type": "code",
   "execution_count": 25,
   "id": "132a8902",
   "metadata": {
    "execution": {
     "iopub.execute_input": "2021-04-20T07:32:02.525946Z",
     "iopub.status.busy": "2021-04-20T07:32:02.525213Z",
     "iopub.status.idle": "2021-04-20T07:32:02.541424Z",
     "shell.execute_reply": "2021-04-20T07:32:02.540319Z"
    }
   },
   "outputs": [
    {
     "data": {
      "image/svg+xml": [
       "<?xml version=\"1.0\" encoding=\"UTF-8\" standalone=\"no\"?><svg xmlns=\"http://www.w3.org/2000/svg\" xmlns:xlink=\"http://www.w3.org/1999/xlink\" contentScriptType=\"application/ecmascript\" contentStyleType=\"text/css\" height=\"12px\" preserveAspectRatio=\"none\" style=\"width:12px;height:12px;\" version=\"1.1\" viewBox=\"0 0 12 12\" width=\"12px\" zoomAndPan=\"magnify\"><defs/><g><!--MD5=[aeeef50f102b80d730deb6443d14f702]\n",
       "@startuml\r\n",
       "skinparam wrapWidth 300\r\n",
       "hide circle\r\n",
       "\r\n",
       "@enduml\r\n",
       "\n",
       "PlantUML version 1.2020.13(Sat Jun 13 12:26:38 UTC 2020)\n",
       "(EPL source distribution)\n",
       "Java Runtime: OpenJDK Runtime Environment\n",
       "JVM: OpenJDK 64-Bit Server VM\n",
       "Default Encoding: UTF-8\n",
       "Language: en\n",
       "Country: null\n",
       "--></g></svg>"
      ]
     },
     "execution_count": 25,
     "metadata": {},
     "output_type": "execute_result"
    }
   ],
   "source": [
    "%viz --style=\"STDCOLOR\" --view=\"State\" \"PictureTaking\""
   ]
  },
  {
   "cell_type": "code",
   "execution_count": 26,
   "id": "a314bac1",
   "metadata": {
    "execution": {
     "iopub.execute_input": "2021-04-20T07:32:02.591739Z",
     "iopub.status.busy": "2021-04-20T07:32:02.590925Z",
     "iopub.status.idle": "2021-04-20T07:32:02.662732Z",
     "shell.execute_reply": "2021-04-20T07:32:02.663170Z"
    }
   },
   "outputs": [
    {
     "data": {
      "image/svg+xml": [
       "<?xml version=\"1.0\" encoding=\"UTF-8\" standalone=\"no\"?><svg xmlns=\"http://www.w3.org/2000/svg\" xmlns:xlink=\"http://www.w3.org/1999/xlink\" contentScriptType=\"application/ecmascript\" contentStyleType=\"text/css\" height=\"330px\" preserveAspectRatio=\"none\" style=\"width:706px;height:330px;\" version=\"1.1\" viewBox=\"0 0 706 330\" width=\"706px\" zoomAndPan=\"magnify\"><defs><filter height=\"300%\" id=\"f28gx9jk5nz6q\" width=\"300%\" x=\"-1\" y=\"-1\"><feGaussianBlur result=\"blurOut\" stdDeviation=\"2.0\"/><feColorMatrix in=\"blurOut\" result=\"blurOut2\" type=\"matrix\" values=\"0 0 0 0 0 0 0 0 0 0 0 0 0 0 0 0 0 0 .4 0\"/><feOffset dx=\"4.0\" dy=\"4.0\" in=\"blurOut2\" result=\"blurOut3\"/><feBlend in=\"SourceGraphic\" in2=\"blurOut3\" mode=\"normal\"/></filter></defs><g><!--MD5=[fbc87193dbaf4d95561dea2c320d4a47]\n",
       "cluster E1--><a href=\"psysml:14e6fe4c-a4d9-4c34-a316-9cbabb101fb1\" target=\"_top\" title=\"psysml:14e6fe4c-a4d9-4c34-a316-9cbabb101fb1\" xlink:actuate=\"onRequest\" xlink:href=\"psysml:14e6fe4c-a4d9-4c34-a316-9cbabb101fb1\" xlink:show=\"new\" xlink:title=\"psysml:14e6fe4c-a4d9-4c34-a316-9cbabb101fb1\" xlink:type=\"simple\"><polygon fill=\"#FFFFFF\" filter=\"url(#f28gx9jk5nz6q)\" points=\"16,6,130,6,137,28.2969,684,28.2969,684,318,16,318,16,6\" style=\"stroke: #000000; stroke-width: 1.5;\"/><line style=\"stroke: #000000; stroke-width: 1.5;\" x1=\"16\" x2=\"137\" y1=\"28.2969\" y2=\"28.2969\"/><text fill=\"#000000\" font-family=\"sans-serif\" font-size=\"14\" font-weight=\"bold\" lengthAdjust=\"spacingAndGlyphs\" textLength=\"108\" x=\"20\" y=\"20.9951\">PictureTaking</text></a><!--MD5=[d5e69f78d87373223dbae638b30a9c99]\n",
       "cluster E3--><a href=\"psysml:44676d48-2ba6-47f9-b761-758fcbe31dbd\" target=\"_top\" title=\"psysml:44676d48-2ba6-47f9-b761-758fcbe31dbd\" xlink:actuate=\"onRequest\" xlink:href=\"psysml:44676d48-2ba6-47f9-b761-758fcbe31dbd\" xlink:show=\"new\" xlink:title=\"psysml:44676d48-2ba6-47f9-b761-758fcbe31dbd\" xlink:type=\"simple\"><rect fill=\"#FFFFFF\" filter=\"url(#f28gx9jk5nz6q)\" height=\"136\" id=\"E3\" style=\"stroke: #A80036; stroke-width: 1.5;\" width=\"134\" x=\"534\" y=\"100\"/><rect fill=\"#FEFECE\" height=\"37.9375\" style=\"stroke: #A80036; stroke-width: 1.5;\" width=\"134\" x=\"534\" y=\"100\"/><text fill=\"#000000\" font-family=\"sans-serif\" font-size=\"12\" font-style=\"italic\" lengthAdjust=\"spacingAndGlyphs\" textLength=\"77\" x=\"562.5\" y=\"116.1387\">«action def»</text><text fill=\"#000000\" font-family=\"sans-serif\" font-size=\"12\" lengthAdjust=\"spacingAndGlyphs\" textLength=\"37\" x=\"582.5\" y=\"130.1074\">Focus</text></a><!--MD5=[de5ec2e2e8f62f467e546659f5068c88]\n",
       "cluster E5--><a href=\"psysml:d9adf687-8d42-42d3-b1b5-8b6413ee0fad\" target=\"_top\" title=\"psysml:d9adf687-8d42-42d3-b1b5-8b6413ee0fad\" xlink:actuate=\"onRequest\" xlink:href=\"psysml:d9adf687-8d42-42d3-b1b5-8b6413ee0fad\" xlink:show=\"new\" xlink:title=\"psysml:d9adf687-8d42-42d3-b1b5-8b6413ee0fad\" xlink:type=\"simple\"><rect fill=\"#FFFFFF\" filter=\"url(#f28gx9jk5nz6q)\" height=\"88.5\" id=\"E5\" style=\"stroke: #A80036; stroke-width: 1.5;\" width=\"134\" x=\"392\" y=\"133.5\"/><rect fill=\"#FEFECE\" height=\"37.9375\" style=\"stroke: #A80036; stroke-width: 1.5;\" width=\"134\" x=\"392\" y=\"133.5\"/><text fill=\"#000000\" font-family=\"sans-serif\" font-size=\"12\" font-style=\"italic\" lengthAdjust=\"spacingAndGlyphs\" textLength=\"77\" x=\"420.5\" y=\"149.6387\">«action def»</text><text fill=\"#000000\" font-family=\"sans-serif\" font-size=\"12\" lengthAdjust=\"spacingAndGlyphs\" textLength=\"37\" x=\"440.5\" y=\"163.6074\">Shoot</text></a><!--MD5=[168fadf3d0c3fd93dd5d6da1b1d7ab76]\n",
       "cluster E7--><a href=\"psysml:704c53cf-e737-43c7-aaa6-afd6aa41e73e\" target=\"_top\" title=\"psysml:704c53cf-e737-43c7-aaa6-afd6aa41e73e\" xlink:actuate=\"onRequest\" xlink:href=\"psysml:704c53cf-e737-43c7-aaa6-afd6aa41e73e\" xlink:show=\"new\" xlink:title=\"psysml:704c53cf-e737-43c7-aaa6-afd6aa41e73e\" xlink:type=\"simple\"><rect fill=\"#FFFFFF\" filter=\"url(#f28gx9jk5nz6q)\" height=\"245\" id=\"E7\" rx=\"10\" ry=\"10\" style=\"stroke: #A80036; stroke-width: 1.5;\" width=\"256\" x=\"120\" y=\"49\"/><rect fill=\"#FEFECE\" height=\"37.9375\" rx=\"10\" ry=\"10\" style=\"stroke: #FEFECE; stroke-width: 1.5;\" width=\"256\" x=\"120\" y=\"49\"/><rect fill=\"#FEFECE\" height=\"10\" style=\"stroke: #FEFECE; stroke-width: 1.5;\" width=\"256\" x=\"120\" y=\"76.9375\"/><rect fill=\"none\" height=\"245\" id=\"E7\" rx=\"10\" ry=\"10\" style=\"stroke: #A80036; stroke-width: 1.5;\" width=\"256\" x=\"120\" y=\"49\"/><text fill=\"#000000\" font-family=\"sans-serif\" font-size=\"12\" font-style=\"italic\" lengthAdjust=\"spacingAndGlyphs\" textLength=\"53\" x=\"221.5\" y=\"65.1387\">«action»</text><text fill=\"#000000\" font-family=\"sans-serif\" font-size=\"12\" lengthAdjust=\"spacingAndGlyphs\" textLength=\"72\" x=\"212\" y=\"79.1074\">takePicture</text><line style=\"stroke: #A80036; stroke-width: 1.0;\" x1=\"120\" x2=\"376\" y1=\"86.9375\" y2=\"86.9375\"/></a><!--MD5=[55dfccfc6c49c2d10cd1bd2211a6c90c]\n",
       "cluster E8--><a href=\"psysml:247459c4-dc1c-41f3-9bbd-2210d0a14144\" target=\"_top\" title=\"psysml:247459c4-dc1c-41f3-9bbd-2210d0a14144\" xlink:actuate=\"onRequest\" xlink:href=\"psysml:247459c4-dc1c-41f3-9bbd-2210d0a14144\" xlink:show=\"new\" xlink:title=\"psysml:247459c4-dc1c-41f3-9bbd-2210d0a14144\" xlink:type=\"simple\"><rect fill=\"#FFFFFF\" filter=\"url(#f28gx9jk5nz6q)\" height=\"136\" id=\"E8\" rx=\"10\" ry=\"10\" style=\"stroke: #A80036; stroke-width: 1.5;\" width=\"83\" x=\"263\" y=\"100\"/><rect fill=\"#FEFECE\" height=\"37.9375\" rx=\"10\" ry=\"10\" style=\"stroke: #FEFECE; stroke-width: 1.5;\" width=\"83\" x=\"263\" y=\"100\"/><rect fill=\"#FEFECE\" height=\"10\" style=\"stroke: #FEFECE; stroke-width: 1.5;\" width=\"83\" x=\"263\" y=\"127.9375\"/><rect fill=\"none\" height=\"136\" id=\"E8\" rx=\"10\" ry=\"10\" style=\"stroke: #A80036; stroke-width: 1.5;\" width=\"83\" x=\"263\" y=\"100\"/><text fill=\"#000000\" font-family=\"sans-serif\" font-size=\"12\" font-style=\"italic\" lengthAdjust=\"spacingAndGlyphs\" textLength=\"53\" x=\"278\" y=\"116.1387\">«action»</text><text fill=\"#000000\" font-family=\"sans-serif\" font-size=\"12\" lengthAdjust=\"spacingAndGlyphs\" textLength=\"34\" x=\"287.5\" y=\"130.1074\">focus</text><line style=\"stroke: #A80036; stroke-width: 1.0;\" x1=\"263\" x2=\"346\" y1=\"137.9375\" y2=\"137.9375\"/></a><!--MD5=[917b9dd0c7eca3ee5f47219d1a84c0ad]\n",
       "cluster E11--><a href=\"psysml:d7e0c4ce-9a2d-4e4d-8f17-58d415aecc73\" target=\"_top\" title=\"psysml:d7e0c4ce-9a2d-4e4d-8f17-58d415aecc73\" xlink:actuate=\"onRequest\" xlink:href=\"psysml:d7e0c4ce-9a2d-4e4d-8f17-58d415aecc73\" xlink:show=\"new\" xlink:title=\"psysml:d7e0c4ce-9a2d-4e4d-8f17-58d415aecc73\" xlink:type=\"simple\"><rect fill=\"#FFFFFF\" filter=\"url(#f28gx9jk5nz6q)\" height=\"130.5\" id=\"E11\" rx=\"10\" ry=\"10\" style=\"stroke: #A80036; stroke-width: 1.5;\" width=\"74\" x=\"170\" y=\"133.5\"/><rect fill=\"#FEFECE\" height=\"37.9375\" rx=\"10\" ry=\"10\" style=\"stroke: #FEFECE; stroke-width: 1.5;\" width=\"74\" x=\"170\" y=\"133.5\"/><rect fill=\"#FEFECE\" height=\"10\" style=\"stroke: #FEFECE; stroke-width: 1.5;\" width=\"74\" x=\"170\" y=\"161.4375\"/><rect fill=\"none\" height=\"130.5\" id=\"E11\" rx=\"10\" ry=\"10\" style=\"stroke: #A80036; stroke-width: 1.5;\" width=\"74\" x=\"170\" y=\"133.5\"/><text fill=\"#000000\" font-family=\"sans-serif\" font-size=\"12\" font-style=\"italic\" lengthAdjust=\"spacingAndGlyphs\" textLength=\"53\" x=\"180.5\" y=\"149.6387\">«action»</text><text fill=\"#000000\" font-family=\"sans-serif\" font-size=\"12\" lengthAdjust=\"spacingAndGlyphs\" textLength=\"36\" x=\"189\" y=\"163.6074\">shoot</text><line style=\"stroke: #A80036; stroke-width: 1.0;\" x1=\"170\" x2=\"244\" y1=\"171.4375\" y2=\"171.4375\"/></a><g id=\"E1.E2\"><a href=\"psysml:9a8bab7b-7078-4a6b-add3-8a1328b0c2d6\" target=\"_top\" title=\"psysml:9a8bab7b-7078-4a6b-add3-8a1328b0c2d6\" xlink:actuate=\"onRequest\" xlink:href=\"psysml:9a8bab7b-7078-4a6b-add3-8a1328b0c2d6\" xlink:show=\"new\" xlink:title=\"psysml:9a8bab7b-7078-4a6b-add3-8a1328b0c2d6\" xlink:type=\"simple\"><rect fill=\"#FEFECE\" filter=\"url(#f28gx9jk5nz6q)\" height=\"42.9375\" id=\"E2\" style=\"stroke: #A80036; stroke-width: 1.5;\" width=\"71\" x=\"32.5\" y=\"112\"/><text fill=\"#000000\" font-family=\"sans-serif\" font-size=\"12\" font-style=\"italic\" lengthAdjust=\"spacingAndGlyphs\" textLength=\"64\" x=\"36\" y=\"128.1387\">«part def»</text><text fill=\"#000000\" font-family=\"sans-serif\" font-size=\"12\" lengthAdjust=\"spacingAndGlyphs\" textLength=\"58\" x=\"39\" y=\"142.1074\">Exposure</text></a></g><text fill=\"#000000\" font-family=\"sans-serif\" font-size=\"14\" lengthAdjust=\"spacingAndGlyphs\" textLength=\"23\" x=\"589.5\" y=\"254.9951\">xrsl</text><rect fill=\"#A80036\" height=\"12\" style=\"stroke: #FEFECE; stroke-width: 1.5;\" width=\"12\" x=\"595\" y=\"230\"/><text fill=\"#000000\" font-family=\"sans-serif\" font-size=\"14\" lengthAdjust=\"spacingAndGlyphs\" textLength=\"19\" x=\"449.5\" y=\"112.1982\">xsf</text><rect fill=\"#A80036\" height=\"12\" style=\"stroke: #FEFECE; stroke-width: 1.5;\" width=\"12\" x=\"453\" y=\"127.5\"/><text fill=\"#000000\" font-family=\"sans-serif\" font-size=\"14\" lengthAdjust=\"spacingAndGlyphs\" textLength=\"48\" x=\"257\" y=\"254.9951\">$result</text><rect fill=\"#A80036\" height=\"12\" style=\"stroke: #FEFECE; stroke-width: 1.5;\" width=\"12\" x=\"275\" y=\"230\"/><text fill=\"#000000\" font-family=\"sans-serif\" font-size=\"14\" lengthAdjust=\"spacingAndGlyphs\" textLength=\"23\" x=\"316.5\" y=\"254.9951\">xrsl</text><rect fill=\"#A80036\" height=\"12\" style=\"stroke: #FEFECE; stroke-width: 1.5;\" width=\"12\" x=\"322\" y=\"230\"/><text fill=\"#000000\" font-family=\"sans-serif\" font-size=\"14\" lengthAdjust=\"spacingAndGlyphs\" textLength=\"48\" x=\"164\" y=\"282.9951\">$result</text><rect fill=\"#A80036\" height=\"12\" style=\"stroke: #FEFECE; stroke-width: 1.5;\" width=\"12\" x=\"182\" y=\"258\"/><text fill=\"#000000\" font-family=\"sans-serif\" font-size=\"14\" lengthAdjust=\"spacingAndGlyphs\" textLength=\"19\" x=\"180.5\" y=\"112.1982\">xsf</text><rect fill=\"#A80036\" height=\"12\" style=\"stroke: #FEFECE; stroke-width: 1.5;\" width=\"12\" x=\"184\" y=\"127.5\"/><!--MD5=[28779ee6c0dda8a858bf4565511c77ee]\n",
       "@startuml\r\n",
       "skinparam ranksep 10\r\n",
       "skinparam rectangle {\r\n",
       " backgroundColor<<block>> LightGreen\r\n",
       "}\r\n",
       "skinparam wrapWidth 300\r\n",
       "hide circle\r\n",
       "\r\n",
       "package \"PictureTaking\" as E1  [[psysml:14e6fe4c-a4d9-4c34-a316-9cbabb101fb1 ]]  {\r\n",
       "rec def \"Exposure\" as E2  <<(T,blue)part def>> [[psysml:9a8bab7b-7078-4a6b-add3-8a1328b0c2d6 ]] {\r\n",
       "}\r\n",
       "rec def \"Focus\" as E3  <<(T,blue)action def>> [[psysml:44676d48-2ba6-47f9-b761-758fcbe31dbd ]] {\r\n",
       "portout \"xrsl\" as E4  [[psysml:7285223f-23e3-4ded-a1a3-c8dbe746ff9d ]] \r\n",
       "}\r\n",
       "\r\n",
       "rec def \"Shoot\" as E5  <<(T,blue)action def>> [[psysml:d9adf687-8d42-42d3-b1b5-8b6413ee0fad ]] {\r\n",
       "portin \"xsf\" as E6  [[psysml:3f6601e8-74ad-4acc-b654-2e93fe2ad4c3 ]] \r\n",
       "}\r\n",
       "\r\n",
       "rec usage \"takePicture\" as E7  <<(T,blue)action>> [[psysml:704c53cf-e737-43c7-aaa6-afd6aa41e73e ]] {\r\n",
       "rec usage \"focus\" as E8  <<(T,blue)action>> [[psysml:247459c4-dc1c-41f3-9bbd-2210d0a14144 ]] {\r\n",
       "portout \"$result\" as E9  [[psysml:d24c4944-7685-4e9e-b1e9-aa0857e67b68 ]] \r\n",
       "portout \"xrsl\" as E10  [[psysml:a9b63f0e-a7c1-4470-82ae-da9c74073d16 ]] \r\n",
       "}\r\n",
       "\r\n",
       "rec usage \"shoot\" as E11  <<(T,blue)action>> [[psysml:d7e0c4ce-9a2d-4e4d-8f17-58d415aecc73 ]] {\r\n",
       "portout \"$result\" as E12  [[psysml:edaf4370-9fef-4792-934f-b7a89f5913cc ]] \r\n",
       "portin \"xsf\" as E13  [[psysml:1ee0e316-c080-4a1b-aa8d-122e3ae24dab ]] \r\n",
       "}\r\n",
       "\r\n",
       "}\r\n",
       "\r\n",
       "}\r\n",
       "@enduml\r\n",
       "\n",
       "PlantUML version 1.2020.13(Sat Jun 13 12:26:38 UTC 2020)\n",
       "(EPL source distribution)\n",
       "Java Runtime: OpenJDK Runtime Environment\n",
       "JVM: OpenJDK 64-Bit Server VM\n",
       "Default Encoding: UTF-8\n",
       "Language: en\n",
       "Country: null\n",
       "--></g></svg>"
      ]
     },
     "execution_count": 26,
     "metadata": {},
     "output_type": "execute_result"
    }
   ],
   "source": [
    "%viz --style=\"STDCOLOR\" --view=\"Interconnection\" \"PictureTaking\""
   ]
  },
  {
   "cell_type": "code",
   "execution_count": 27,
   "id": "ff6d7fa7",
   "metadata": {
    "execution": {
     "iopub.execute_input": "2021-04-20T07:32:02.714545Z",
     "iopub.status.busy": "2021-04-20T07:32:02.712496Z",
     "iopub.status.idle": "2021-04-20T07:32:02.777309Z",
     "shell.execute_reply": "2021-04-20T07:32:02.776823Z"
    }
   },
   "outputs": [
    {
     "data": {
      "image/svg+xml": [
       "<?xml version=\"1.0\" encoding=\"UTF-8\" standalone=\"no\"?><svg xmlns=\"http://www.w3.org/2000/svg\" xmlns:xlink=\"http://www.w3.org/1999/xlink\" contentScriptType=\"application/ecmascript\" contentStyleType=\"text/css\" height=\"267px\" preserveAspectRatio=\"none\" style=\"width:574px;height:267px;\" version=\"1.1\" viewBox=\"0 0 574 267\" width=\"574px\" zoomAndPan=\"magnify\"><defs><filter height=\"300%\" id=\"f9wx9dtd8oyk6\" width=\"300%\" x=\"-1\" y=\"-1\"><feGaussianBlur result=\"blurOut\" stdDeviation=\"2.0\"/><feColorMatrix in=\"blurOut\" result=\"blurOut2\" type=\"matrix\" values=\"0 0 0 0 0 0 0 0 0 0 0 0 0 0 0 0 0 0 .4 0\"/><feOffset dx=\"4.0\" dy=\"4.0\" in=\"blurOut2\" result=\"blurOut3\"/><feBlend in=\"SourceGraphic\" in2=\"blurOut3\" mode=\"normal\"/></filter></defs><g><!--MD5=[fbc87193dbaf4d95561dea2c320d4a47]\n",
       "cluster E1--><a href=\"psysml:44676d48-2ba6-47f9-b761-758fcbe31dbd\" target=\"_top\" title=\"psysml:44676d48-2ba6-47f9-b761-758fcbe31dbd\" xlink:actuate=\"onRequest\" xlink:href=\"psysml:44676d48-2ba6-47f9-b761-758fcbe31dbd\" xlink:show=\"new\" xlink:title=\"psysml:44676d48-2ba6-47f9-b761-758fcbe31dbd\" xlink:type=\"simple\"><rect fill=\"#FFFFFF\" filter=\"url(#f9wx9dtd8oyk6)\" height=\"132\" id=\"E1\" style=\"stroke: #A80036; stroke-width: 1.5;\" width=\"134\" x=\"7\" y=\"58\"/><rect fill=\"#FEFECE\" height=\"37.9375\" style=\"stroke: #A80036; stroke-width: 1.5;\" width=\"134\" x=\"7\" y=\"58\"/><text fill=\"#000000\" font-family=\"sans-serif\" font-size=\"12\" font-style=\"italic\" lengthAdjust=\"spacingAndGlyphs\" textLength=\"77\" x=\"35.5\" y=\"74.1387\">«action def»</text><text fill=\"#000000\" font-family=\"sans-serif\" font-size=\"12\" lengthAdjust=\"spacingAndGlyphs\" textLength=\"37\" x=\"55.5\" y=\"88.1074\">Focus</text></a><!--MD5=[d5e69f78d87373223dbae638b30a9c99]\n",
       "cluster E3--><a href=\"psysml:d9adf687-8d42-42d3-b1b5-8b6413ee0fad\" target=\"_top\" title=\"psysml:d9adf687-8d42-42d3-b1b5-8b6413ee0fad\" xlink:actuate=\"onRequest\" xlink:href=\"psysml:d9adf687-8d42-42d3-b1b5-8b6413ee0fad\" xlink:show=\"new\" xlink:title=\"psysml:d9adf687-8d42-42d3-b1b5-8b6413ee0fad\" xlink:type=\"simple\"><rect fill=\"#FFFFFF\" filter=\"url(#f9wx9dtd8oyk6)\" height=\"84.5\" id=\"E3\" style=\"stroke: #A80036; stroke-width: 1.5;\" width=\"134\" x=\"149\" y=\"91.5\"/><rect fill=\"#FEFECE\" height=\"37.9375\" style=\"stroke: #A80036; stroke-width: 1.5;\" width=\"134\" x=\"149\" y=\"91.5\"/><text fill=\"#000000\" font-family=\"sans-serif\" font-size=\"12\" font-style=\"italic\" lengthAdjust=\"spacingAndGlyphs\" textLength=\"77\" x=\"177.5\" y=\"107.6387\">«action def»</text><text fill=\"#000000\" font-family=\"sans-serif\" font-size=\"12\" lengthAdjust=\"spacingAndGlyphs\" textLength=\"37\" x=\"197.5\" y=\"121.6074\">Shoot</text></a><!--MD5=[de5ec2e2e8f62f467e546659f5068c88]\n",
       "cluster E5--><a href=\"psysml:704c53cf-e737-43c7-aaa6-afd6aa41e73e\" target=\"_top\" title=\"psysml:704c53cf-e737-43c7-aaa6-afd6aa41e73e\" xlink:actuate=\"onRequest\" xlink:href=\"psysml:704c53cf-e737-43c7-aaa6-afd6aa41e73e\" xlink:show=\"new\" xlink:title=\"psysml:704c53cf-e737-43c7-aaa6-afd6aa41e73e\" xlink:type=\"simple\"><rect fill=\"#FFFFFF\" filter=\"url(#f9wx9dtd8oyk6)\" height=\"241\" id=\"E5\" rx=\"10\" ry=\"10\" style=\"stroke: #A80036; stroke-width: 1.5;\" width=\"256\" x=\"299\" y=\"7\"/><rect fill=\"#FEFECE\" height=\"37.9375\" rx=\"10\" ry=\"10\" style=\"stroke: #FEFECE; stroke-width: 1.5;\" width=\"256\" x=\"299\" y=\"7\"/><rect fill=\"#FEFECE\" height=\"10\" style=\"stroke: #FEFECE; stroke-width: 1.5;\" width=\"256\" x=\"299\" y=\"34.9375\"/><rect fill=\"none\" height=\"241\" id=\"E5\" rx=\"10\" ry=\"10\" style=\"stroke: #A80036; stroke-width: 1.5;\" width=\"256\" x=\"299\" y=\"7\"/><text fill=\"#000000\" font-family=\"sans-serif\" font-size=\"12\" font-style=\"italic\" lengthAdjust=\"spacingAndGlyphs\" textLength=\"53\" x=\"400.5\" y=\"23.1387\">«action»</text><text fill=\"#000000\" font-family=\"sans-serif\" font-size=\"12\" lengthAdjust=\"spacingAndGlyphs\" textLength=\"72\" x=\"391\" y=\"37.1074\">takePicture</text><line style=\"stroke: #A80036; stroke-width: 1.0;\" x1=\"299\" x2=\"555\" y1=\"44.9375\" y2=\"44.9375\"/></a><!--MD5=[14e3b0961a2654348d326746436168a1]\n",
       "cluster E6--><a href=\"psysml:247459c4-dc1c-41f3-9bbd-2210d0a14144\" target=\"_top\" title=\"psysml:247459c4-dc1c-41f3-9bbd-2210d0a14144\" xlink:actuate=\"onRequest\" xlink:href=\"psysml:247459c4-dc1c-41f3-9bbd-2210d0a14144\" xlink:show=\"new\" xlink:title=\"psysml:247459c4-dc1c-41f3-9bbd-2210d0a14144\" xlink:type=\"simple\"><rect fill=\"#FFFFFF\" filter=\"url(#f9wx9dtd8oyk6)\" height=\"132\" id=\"E6\" rx=\"10\" ry=\"10\" style=\"stroke: #A80036; stroke-width: 1.5;\" width=\"83\" x=\"442\" y=\"58\"/><rect fill=\"#FEFECE\" height=\"37.9375\" rx=\"10\" ry=\"10\" style=\"stroke: #FEFECE; stroke-width: 1.5;\" width=\"83\" x=\"442\" y=\"58\"/><rect fill=\"#FEFECE\" height=\"10\" style=\"stroke: #FEFECE; stroke-width: 1.5;\" width=\"83\" x=\"442\" y=\"85.9375\"/><rect fill=\"none\" height=\"132\" id=\"E6\" rx=\"10\" ry=\"10\" style=\"stroke: #A80036; stroke-width: 1.5;\" width=\"83\" x=\"442\" y=\"58\"/><text fill=\"#000000\" font-family=\"sans-serif\" font-size=\"12\" font-style=\"italic\" lengthAdjust=\"spacingAndGlyphs\" textLength=\"53\" x=\"457\" y=\"74.1387\">«action»</text><text fill=\"#000000\" font-family=\"sans-serif\" font-size=\"12\" lengthAdjust=\"spacingAndGlyphs\" textLength=\"34\" x=\"466.5\" y=\"88.1074\">focus</text><line style=\"stroke: #A80036; stroke-width: 1.0;\" x1=\"442\" x2=\"525\" y1=\"95.9375\" y2=\"95.9375\"/></a><!--MD5=[7f149f147074ac12df2cb0a7728a5fb0]\n",
       "cluster E9--><a href=\"psysml:d7e0c4ce-9a2d-4e4d-8f17-58d415aecc73\" target=\"_top\" title=\"psysml:d7e0c4ce-9a2d-4e4d-8f17-58d415aecc73\" xlink:actuate=\"onRequest\" xlink:href=\"psysml:d7e0c4ce-9a2d-4e4d-8f17-58d415aecc73\" xlink:show=\"new\" xlink:title=\"psysml:d7e0c4ce-9a2d-4e4d-8f17-58d415aecc73\" xlink:type=\"simple\"><rect fill=\"#FFFFFF\" filter=\"url(#f9wx9dtd8oyk6)\" height=\"126.5\" id=\"E9\" rx=\"10\" ry=\"10\" style=\"stroke: #A80036; stroke-width: 1.5;\" width=\"74\" x=\"349\" y=\"91.5\"/><rect fill=\"#FEFECE\" height=\"37.9375\" rx=\"10\" ry=\"10\" style=\"stroke: #FEFECE; stroke-width: 1.5;\" width=\"74\" x=\"349\" y=\"91.5\"/><rect fill=\"#FEFECE\" height=\"10\" style=\"stroke: #FEFECE; stroke-width: 1.5;\" width=\"74\" x=\"349\" y=\"119.4375\"/><rect fill=\"none\" height=\"126.5\" id=\"E9\" rx=\"10\" ry=\"10\" style=\"stroke: #A80036; stroke-width: 1.5;\" width=\"74\" x=\"349\" y=\"91.5\"/><text fill=\"#000000\" font-family=\"sans-serif\" font-size=\"12\" font-style=\"italic\" lengthAdjust=\"spacingAndGlyphs\" textLength=\"53\" x=\"359.5\" y=\"107.6387\">«action»</text><text fill=\"#000000\" font-family=\"sans-serif\" font-size=\"12\" lengthAdjust=\"spacingAndGlyphs\" textLength=\"36\" x=\"368\" y=\"121.6074\">shoot</text><line style=\"stroke: #A80036; stroke-width: 1.0;\" x1=\"349\" x2=\"423\" y1=\"129.4375\" y2=\"129.4375\"/></a><text fill=\"#000000\" font-family=\"sans-serif\" font-size=\"14\" lengthAdjust=\"spacingAndGlyphs\" textLength=\"23\" x=\"62.5\" y=\"208.9951\">xrsl</text><rect fill=\"#A80036\" height=\"12\" style=\"stroke: #FEFECE; stroke-width: 1.5;\" width=\"12\" x=\"68\" y=\"184\"/><text fill=\"#000000\" font-family=\"sans-serif\" font-size=\"14\" lengthAdjust=\"spacingAndGlyphs\" textLength=\"19\" x=\"206.5\" y=\"70.1982\">xsf</text><rect fill=\"#A80036\" height=\"12\" style=\"stroke: #FEFECE; stroke-width: 1.5;\" width=\"12\" x=\"210\" y=\"85.5\"/><text fill=\"#000000\" font-family=\"sans-serif\" font-size=\"14\" lengthAdjust=\"spacingAndGlyphs\" textLength=\"48\" x=\"436\" y=\"208.9951\">$result</text><rect fill=\"#A80036\" height=\"12\" style=\"stroke: #FEFECE; stroke-width: 1.5;\" width=\"12\" x=\"454\" y=\"184\"/><text fill=\"#000000\" font-family=\"sans-serif\" font-size=\"14\" lengthAdjust=\"spacingAndGlyphs\" textLength=\"23\" x=\"495.5\" y=\"208.9951\">xrsl</text><rect fill=\"#A80036\" height=\"12\" style=\"stroke: #FEFECE; stroke-width: 1.5;\" width=\"12\" x=\"501\" y=\"184\"/><text fill=\"#000000\" font-family=\"sans-serif\" font-size=\"14\" lengthAdjust=\"spacingAndGlyphs\" textLength=\"48\" x=\"343\" y=\"236.9951\">$result</text><rect fill=\"#A80036\" height=\"12\" style=\"stroke: #FEFECE; stroke-width: 1.5;\" width=\"12\" x=\"361\" y=\"212\"/><text fill=\"#000000\" font-family=\"sans-serif\" font-size=\"14\" lengthAdjust=\"spacingAndGlyphs\" textLength=\"19\" x=\"359.5\" y=\"70.1982\">xsf</text><rect fill=\"#A80036\" height=\"12\" style=\"stroke: #FEFECE; stroke-width: 1.5;\" width=\"12\" x=\"363\" y=\"85.5\"/><!--MD5=[a54e0e85a90b03a6e2ca5c801be39b3b]\n",
       "@startuml\r\n",
       "skinparam ranksep 8\r\n",
       "skinparam wrapWidth 300\r\n",
       "hide circle\r\n",
       "\r\n",
       "rec def \"Focus\" as E1  <<(T,blue)action def>> [[psysml:44676d48-2ba6-47f9-b761-758fcbe31dbd ]] {\r\n",
       "portout \"xrsl\" as E2  [[psysml:7285223f-23e3-4ded-a1a3-c8dbe746ff9d ]] \r\n",
       "}\r\n",
       "\r\n",
       "rec def \"Shoot\" as E3  <<(T,blue)action def>> [[psysml:d9adf687-8d42-42d3-b1b5-8b6413ee0fad ]] {\r\n",
       "portin \"xsf\" as E4  [[psysml:3f6601e8-74ad-4acc-b654-2e93fe2ad4c3 ]] \r\n",
       "}\r\n",
       "\r\n",
       "rec usage \"takePicture\" as E5  <<(T,blue)action>> [[psysml:704c53cf-e737-43c7-aaa6-afd6aa41e73e ]] {\r\n",
       "rec usage \"focus\" as E6  <<(T,blue)action>> [[psysml:247459c4-dc1c-41f3-9bbd-2210d0a14144 ]] {\r\n",
       "portout \"$result\" as E7  [[psysml:d24c4944-7685-4e9e-b1e9-aa0857e67b68 ]] \r\n",
       "portout \"xrsl\" as E8  [[psysml:a9b63f0e-a7c1-4470-82ae-da9c74073d16 ]] \r\n",
       "}\r\n",
       "\r\n",
       "rec usage \"shoot\" as E9  <<(T,blue)action>> [[psysml:d7e0c4ce-9a2d-4e4d-8f17-58d415aecc73 ]] {\r\n",
       "portout \"$result\" as E10  [[psysml:edaf4370-9fef-4792-934f-b7a89f5913cc ]] \r\n",
       "portin \"xsf\" as E11  [[psysml:1ee0e316-c080-4a1b-aa8d-122e3ae24dab ]] \r\n",
       "}\r\n",
       "\r\n",
       "}\r\n",
       "\r\n",
       "@enduml\r\n",
       "\n",
       "PlantUML version 1.2020.13(Sat Jun 13 12:26:38 UTC 2020)\n",
       "(EPL source distribution)\n",
       "Java Runtime: OpenJDK Runtime Environment\n",
       "JVM: OpenJDK 64-Bit Server VM\n",
       "Default Encoding: UTF-8\n",
       "Language: en\n",
       "Country: null\n",
       "--></g></svg>"
      ]
     },
     "execution_count": 27,
     "metadata": {},
     "output_type": "execute_result"
    }
   ],
   "source": [
    "%viz --style=\"STDCOLOR\" --view=\"Action\" \"PictureTaking\""
   ]
  },
  {
   "cell_type": "code",
   "execution_count": 28,
   "id": "f6ba9bcf",
   "metadata": {
    "execution": {
     "iopub.execute_input": "2021-04-20T07:32:02.827708Z",
     "iopub.status.busy": "2021-04-20T07:32:02.826918Z",
     "iopub.status.idle": "2021-04-20T07:32:02.883324Z",
     "shell.execute_reply": "2021-04-20T07:32:02.879770Z"
    }
   },
   "outputs": [
    {
     "data": {
      "image/svg+xml": [
       "<?xml version=\"1.0\" encoding=\"UTF-8\" standalone=\"no\"?><svg xmlns=\"http://www.w3.org/2000/svg\" xmlns:xlink=\"http://www.w3.org/1999/xlink\" contentScriptType=\"application/ecmascript\" contentStyleType=\"text/css\" height=\"452px\" preserveAspectRatio=\"none\" style=\"width:278px;height:452px;\" version=\"1.1\" viewBox=\"0 0 278 452\" width=\"278px\" zoomAndPan=\"magnify\"><defs><filter height=\"300%\" id=\"f188t0g04nrjh8\" width=\"300%\" x=\"-1\" y=\"-1\"><feGaussianBlur result=\"blurOut\" stdDeviation=\"2.0\"/><feColorMatrix in=\"blurOut\" result=\"blurOut2\" type=\"matrix\" values=\"0 0 0 0 0 0 0 0 0 0 0 0 0 0 0 0 0 0 .4 0\"/><feOffset dx=\"4.0\" dy=\"4.0\" in=\"blurOut2\" result=\"blurOut3\"/><feBlend in=\"SourceGraphic\" in2=\"blurOut3\" mode=\"normal\"/></filter></defs><g><!--MD5=[fbc87193dbaf4d95561dea2c320d4a47]\n",
       "cluster E1--><a href=\"psysml:14e6fe4c-a4d9-4c34-a316-9cbabb101fb1\" target=\"_top\" title=\"psysml:14e6fe4c-a4d9-4c34-a316-9cbabb101fb1\" xlink:actuate=\"onRequest\" xlink:href=\"psysml:14e6fe4c-a4d9-4c34-a316-9cbabb101fb1\" xlink:show=\"new\" xlink:title=\"psysml:14e6fe4c-a4d9-4c34-a316-9cbabb101fb1\" xlink:type=\"simple\"><polygon fill=\"#FFFFFF\" filter=\"url(#f188t0g04nrjh8)\" points=\"16,6,130,6,137,28.2969,256,28.2969,256,440,16,440,16,6\" style=\"stroke: #000000; stroke-width: 1.5;\"/><line style=\"stroke: #000000; stroke-width: 1.5;\" x1=\"16\" x2=\"137\" y1=\"28.2969\" y2=\"28.2969\"/><text fill=\"#000000\" font-family=\"sans-serif\" font-size=\"14\" font-weight=\"bold\" lengthAdjust=\"spacingAndGlyphs\" textLength=\"108\" x=\"20\" y=\"20.9951\">PictureTaking</text></a><!--MD5=[b4997ac47864f28c2f74865a473b2911]\n",
       "class E2--><a href=\"psysml:9a8bab7b-7078-4a6b-add3-8a1328b0c2d6\" target=\"_top\" title=\"psysml:9a8bab7b-7078-4a6b-add3-8a1328b0c2d6\" xlink:actuate=\"onRequest\" xlink:href=\"psysml:9a8bab7b-7078-4a6b-add3-8a1328b0c2d6\" xlink:show=\"new\" xlink:title=\"psysml:9a8bab7b-7078-4a6b-add3-8a1328b0c2d6\" xlink:type=\"simple\"><rect fill=\"#FEFECE\" filter=\"url(#f188t0g04nrjh8)\" height=\"45.9375\" id=\"E2\" style=\"stroke: #A80036; stroke-width: 1.5;\" width=\"66\" x=\"103\" y=\"378\"/><text fill=\"#000000\" font-family=\"sans-serif\" font-size=\"12\" font-style=\"italic\" lengthAdjust=\"spacingAndGlyphs\" textLength=\"64\" x=\"104\" y=\"394.1387\">«part def»</text><text fill=\"#000000\" font-family=\"sans-serif\" font-size=\"12\" lengthAdjust=\"spacingAndGlyphs\" textLength=\"58\" x=\"107\" y=\"408.1074\">Exposure</text><line style=\"stroke: #A80036; stroke-width: 1.5;\" x1=\"104\" x2=\"168\" y1=\"415.9375\" y2=\"415.9375\"/></a><!--MD5=[09b614a08d8cba4a07c9adeb5e0fee81]\n",
       "class E3--><a href=\"psysml:44676d48-2ba6-47f9-b761-758fcbe31dbd\" target=\"_top\" title=\"psysml:44676d48-2ba6-47f9-b761-758fcbe31dbd\" xlink:actuate=\"onRequest\" xlink:href=\"psysml:44676d48-2ba6-47f9-b761-758fcbe31dbd\" xlink:show=\"new\" xlink:title=\"psysml:44676d48-2ba6-47f9-b761-758fcbe31dbd\" xlink:type=\"simple\"><rect fill=\"#FEFECE\" filter=\"url(#f188t0g04nrjh8)\" height=\"45.9375\" id=\"E3\" style=\"stroke: #A80036; stroke-width: 1.5;\" width=\"79\" x=\"38.5\" y=\"255\"/><text fill=\"#000000\" font-family=\"sans-serif\" font-size=\"12\" font-style=\"italic\" lengthAdjust=\"spacingAndGlyphs\" textLength=\"77\" x=\"39.5\" y=\"271.1387\">«action def»</text><text fill=\"#000000\" font-family=\"sans-serif\" font-size=\"12\" lengthAdjust=\"spacingAndGlyphs\" textLength=\"37\" x=\"59.5\" y=\"285.1074\">Focus</text><line style=\"stroke: #A80036; stroke-width: 1.5;\" x1=\"39.5\" x2=\"116.5\" y1=\"292.9375\" y2=\"292.9375\"/></a><!--MD5=[ebbe1d658d1005bcc118a6aa81145e00]\n",
       "class E4--><a href=\"psysml:d9adf687-8d42-42d3-b1b5-8b6413ee0fad\" target=\"_top\" title=\"psysml:d9adf687-8d42-42d3-b1b5-8b6413ee0fad\" xlink:actuate=\"onRequest\" xlink:href=\"psysml:d9adf687-8d42-42d3-b1b5-8b6413ee0fad\" xlink:show=\"new\" xlink:title=\"psysml:d9adf687-8d42-42d3-b1b5-8b6413ee0fad\" xlink:type=\"simple\"><rect fill=\"#FEFECE\" filter=\"url(#f188t0g04nrjh8)\" height=\"45.9375\" id=\"E4\" style=\"stroke: #A80036; stroke-width: 1.5;\" width=\"79\" x=\"154.5\" y=\"255\"/><text fill=\"#000000\" font-family=\"sans-serif\" font-size=\"12\" font-style=\"italic\" lengthAdjust=\"spacingAndGlyphs\" textLength=\"77\" x=\"155.5\" y=\"271.1387\">«action def»</text><text fill=\"#000000\" font-family=\"sans-serif\" font-size=\"12\" lengthAdjust=\"spacingAndGlyphs\" textLength=\"37\" x=\"175.5\" y=\"285.1074\">Shoot</text><line style=\"stroke: #A80036; stroke-width: 1.5;\" x1=\"155.5\" x2=\"232.5\" y1=\"292.9375\" y2=\"292.9375\"/></a><!--MD5=[270fce915f116d4de14055a7c1d9a0f3]\n",
       "class E5--><a href=\"psysml:704c53cf-e737-43c7-aaa6-afd6aa41e73e\" target=\"_top\" title=\"psysml:704c53cf-e737-43c7-aaa6-afd6aa41e73e\" xlink:actuate=\"onRequest\" xlink:href=\"psysml:704c53cf-e737-43c7-aaa6-afd6aa41e73e\" xlink:show=\"new\" xlink:title=\"psysml:704c53cf-e737-43c7-aaa6-afd6aa41e73e\" xlink:type=\"simple\"><rect fill=\"#FEFECE\" filter=\"url(#f188t0g04nrjh8)\" height=\"45.9375\" id=\"E5\" rx=\"10\" ry=\"10\" style=\"stroke: #A80036; stroke-width: 1.5;\" width=\"78\" x=\"96\" y=\"41\"/><text fill=\"#000000\" font-family=\"sans-serif\" font-size=\"12\" font-style=\"italic\" lengthAdjust=\"spacingAndGlyphs\" textLength=\"53\" x=\"108.5\" y=\"57.1387\">«action»</text><text fill=\"#000000\" font-family=\"sans-serif\" font-size=\"12\" lengthAdjust=\"spacingAndGlyphs\" textLength=\"72\" x=\"99\" y=\"71.1074\">takePicture</text><line style=\"stroke: #A80036; stroke-width: 1.5;\" x1=\"97\" x2=\"173\" y1=\"78.9375\" y2=\"78.9375\"/></a><!--MD5=[60a26617385b1d2d0262a64233df1f8d]\n",
       "class E6--><a href=\"psysml:247459c4-dc1c-41f3-9bbd-2210d0a14144\" target=\"_top\" title=\"psysml:247459c4-dc1c-41f3-9bbd-2210d0a14144\" xlink:actuate=\"onRequest\" xlink:href=\"psysml:247459c4-dc1c-41f3-9bbd-2210d0a14144\" xlink:show=\"new\" xlink:title=\"psysml:247459c4-dc1c-41f3-9bbd-2210d0a14144\" xlink:type=\"simple\"><rect fill=\"#FEFECE\" filter=\"url(#f188t0g04nrjh8)\" height=\"45.9375\" id=\"E6\" rx=\"10\" ry=\"10\" style=\"stroke: #A80036; stroke-width: 1.5;\" width=\"85\" x=\"32.5\" y=\"148\"/><text fill=\"#000000\" font-family=\"sans-serif\" font-size=\"12\" font-style=\"italic\" lengthAdjust=\"spacingAndGlyphs\" textLength=\"53\" x=\"48.5\" y=\"164.1387\">«action»</text><text fill=\"#000000\" font-family=\"sans-serif\" font-size=\"12\" lengthAdjust=\"spacingAndGlyphs\" textLength=\"79\" x=\"35.5\" y=\"178.1074\">focus: Focus</text><line style=\"stroke: #A80036; stroke-width: 1.5;\" x1=\"33.5\" x2=\"116.5\" y1=\"185.9375\" y2=\"185.9375\"/></a><!--MD5=[2156ba9850f5573cc1fc38a6a4b2f02b]\n",
       "class E7--><a href=\"psysml:d7e0c4ce-9a2d-4e4d-8f17-58d415aecc73\" target=\"_top\" title=\"psysml:d7e0c4ce-9a2d-4e4d-8f17-58d415aecc73\" xlink:actuate=\"onRequest\" xlink:href=\"psysml:d7e0c4ce-9a2d-4e4d-8f17-58d415aecc73\" xlink:show=\"new\" xlink:title=\"psysml:d7e0c4ce-9a2d-4e4d-8f17-58d415aecc73\" xlink:type=\"simple\"><rect fill=\"#FEFECE\" filter=\"url(#f188t0g04nrjh8)\" height=\"45.9375\" id=\"E7\" rx=\"10\" ry=\"10\" style=\"stroke: #A80036; stroke-width: 1.5;\" width=\"87\" x=\"152.5\" y=\"148\"/><text fill=\"#000000\" font-family=\"sans-serif\" font-size=\"12\" font-style=\"italic\" lengthAdjust=\"spacingAndGlyphs\" textLength=\"53\" x=\"169.5\" y=\"164.1387\">«action»</text><text fill=\"#000000\" font-family=\"sans-serif\" font-size=\"12\" lengthAdjust=\"spacingAndGlyphs\" textLength=\"81\" x=\"155.5\" y=\"178.1074\">shoot: Shoot</text><line style=\"stroke: #A80036; stroke-width: 1.5;\" x1=\"153.5\" x2=\"238.5\" y1=\"185.9375\" y2=\"185.9375\"/></a><!--MD5=[b900ca4392aad7a68aec1e9245e10ab9]\n",
       "reverse link E3 to E2--><a href=\"psysml:7285223f-23e3-4ded-a1a3-c8dbe746ff9d\" target=\"_top\" title=\"psysml:7285223f-23e3-4ded-a1a3-c8dbe746ff9d\" xlink:actuate=\"onRequest\" xlink:href=\"psysml:7285223f-23e3-4ded-a1a3-c8dbe746ff9d\" xlink:show=\"new\" xlink:title=\"psysml:7285223f-23e3-4ded-a1a3-c8dbe746ff9d\" xlink:type=\"simple\"><path d=\"M94.32,313.04 C104.29,333.84 116.74,359.82 125.43,377.95 \" fill=\"none\" id=\"E3&lt;-E2\" style=\"stroke: #A80036; stroke-width: 1.0;\"/><polygon fill=\"#FFFFFF\" points=\"88.64,301.19,87.6227,308.329,93.8212,312.0138,94.8385,304.8748,88.64,301.19\" style=\"stroke: #A80036; stroke-width: 1.0;\"/><text fill=\"#000000\" font-family=\"sans-serif\" font-size=\"13\" lengthAdjust=\"spacingAndGlyphs\" textLength=\"22\" x=\"111\" y=\"344.0669\">xrsl</text></a><!--MD5=[ddeed8deb2209213b62e6cfabaa108b2]\n",
       "reverse link E4 to E2--><a href=\"psysml:3f6601e8-74ad-4acc-b654-2e93fe2ad4c3\" target=\"_top\" title=\"psysml:3f6601e8-74ad-4acc-b654-2e93fe2ad4c3\" xlink:actuate=\"onRequest\" xlink:href=\"psysml:3f6601e8-74ad-4acc-b654-2e93fe2ad4c3\" xlink:show=\"new\" xlink:title=\"psysml:3f6601e8-74ad-4acc-b654-2e93fe2ad4c3\" xlink:type=\"simple\"><path d=\"M177.68,313.04 C167.71,333.84 155.26,359.82 146.57,377.95 \" fill=\"none\" id=\"E4&lt;-E2\" style=\"stroke: #A80036; stroke-width: 1.0;\"/><polygon fill=\"#FFFFFF\" points=\"183.36,301.19,177.1615,304.8748,178.1788,312.0138,184.3773,308.329,183.36,301.19\" style=\"stroke: #A80036; stroke-width: 1.0;\"/><text fill=\"#000000\" font-family=\"sans-serif\" font-size=\"13\" lengthAdjust=\"spacingAndGlyphs\" textLength=\"18\" x=\"169\" y=\"344.0669\">xsf</text></a><!--MD5=[85d356282659285ab4b2cfe2f634dd2b]\n",
       "reverse link E5 to E6--><a href=\"psysml:b27ee466-0f4c-4005-a5ef-b2dd2df76771\" target=\"_top\" title=\"psysml:b27ee466-0f4c-4005-a5ef-b2dd2df76771\" xlink:actuate=\"onRequest\" xlink:href=\"psysml:b27ee466-0f4c-4005-a5ef-b2dd2df76771\" xlink:show=\"new\" xlink:title=\"psysml:b27ee466-0f4c-4005-a5ef-b2dd2df76771\" xlink:type=\"simple\"><path d=\"M115.79,98.62 C106.62,114.66 95.91,133.4 87.77,147.66 \" fill=\"none\" id=\"E5&lt;-E6\" style=\"stroke: #A80036; stroke-width: 1.0;\"/><polygon fill=\"#A80036\" points=\"122.42,87.01,115.9684,90.2314,116.4607,97.4257,122.9122,94.2043,122.42,87.01\" style=\"stroke: #A80036; stroke-width: 1.0;\"/><text fill=\"#000000\" font-family=\"sans-serif\" font-size=\"13\" lengthAdjust=\"spacingAndGlyphs\" textLength=\"8\" x=\"82.0173\" y=\"136.8492\">1</text></a><!--MD5=[a717450b82c80b9240a525fa862496af]\n",
       "link E6 to E3--><a href=\"psysml:5a2a5603-bc94-4298-a763-49fe520ca5bc\" target=\"_top\" title=\"psysml:5a2a5603-bc94-4298-a763-49fe520ca5bc\" xlink:actuate=\"onRequest\" xlink:href=\"psysml:5a2a5603-bc94-4298-a763-49fe520ca5bc\" xlink:show=\"new\" xlink:title=\"psysml:5a2a5603-bc94-4298-a763-49fe520ca5bc\" xlink:type=\"simple\"><path d=\"M75.63,194.01 C75.96,205.69 76.38,220.46 76.78,234.28 \" fill=\"none\" id=\"E6-&gt;E3\" style=\"stroke: #A80036; stroke-width: 1.0;\"/><polygon fill=\"#FFFFFF\" points=\"77.36,254.66,69.8202,235.8677,83.8145,235.4678,77.36,254.66\" style=\"stroke: #A80036; stroke-width: 1.0;\"/><ellipse cx=\"71.6566\" cy=\"230.1129\" fill=\"#A80036\" rx=\"2\" ry=\"2\" style=\"stroke: #A80036; stroke-width: 1.0;\"/><ellipse cx=\"81.6525\" cy=\"229.8273\" fill=\"#A80036\" rx=\"2\" ry=\"2\" style=\"stroke: #A80036; stroke-width: 1.0;\"/></a><!--MD5=[452b418e7f8a40397a49b8c0a78acc5b]\n",
       "reverse link E5 to E7--><a href=\"psysml:aaa4df86-e408-4ec8-a2fe-61e5d0511306\" target=\"_top\" title=\"psysml:aaa4df86-e408-4ec8-a2fe-61e5d0511306\" xlink:actuate=\"onRequest\" xlink:href=\"psysml:aaa4df86-e408-4ec8-a2fe-61e5d0511306\" xlink:show=\"new\" xlink:title=\"psysml:aaa4df86-e408-4ec8-a2fe-61e5d0511306\" xlink:type=\"simple\"><path d=\"M154.53,98.62 C163.85,114.66 174.74,133.4 183.02,147.66 \" fill=\"none\" id=\"E5&lt;-E7\" style=\"stroke: #A80036; stroke-width: 1.0;\"/><polygon fill=\"#A80036\" points=\"147.79,87.01,147.3439,94.2073,153.8159,97.3873,154.2621,90.19,147.79,87.01\" style=\"stroke: #A80036; stroke-width: 1.0;\"/><text fill=\"#000000\" font-family=\"sans-serif\" font-size=\"13\" lengthAdjust=\"spacingAndGlyphs\" textLength=\"8\" x=\"170.6689\" y=\"136.8492\">1</text></a><!--MD5=[6bdd27f9905911a7e892a3dc65cf6b7c]\n",
       "link E7 to E4--><a href=\"psysml:f48d95ee-d7b3-4518-8228-9030b5bbf5ab\" target=\"_top\" title=\"psysml:f48d95ee-d7b3-4518-8228-9030b5bbf5ab\" xlink:actuate=\"onRequest\" xlink:href=\"psysml:f48d95ee-d7b3-4518-8228-9030b5bbf5ab\" xlink:show=\"new\" xlink:title=\"psysml:f48d95ee-d7b3-4518-8228-9030b5bbf5ab\" xlink:type=\"simple\"><path d=\"M195.58,194.01 C195.36,205.69 195.08,220.46 194.81,234.28 \" fill=\"none\" id=\"E7-&gt;E4\" style=\"stroke: #A80036; stroke-width: 1.0;\"/><polygon fill=\"#FFFFFF\" points=\"194.43,254.66,187.784,235.5333,201.7816,235.7933,194.43,254.66\" style=\"stroke: #A80036; stroke-width: 1.0;\"/><ellipse cx=\"189.8895\" cy=\"229.8714\" fill=\"#A80036\" rx=\"2\" ry=\"2\" style=\"stroke: #A80036; stroke-width: 1.0;\"/><ellipse cx=\"199.8878\" cy=\"230.0571\" fill=\"#A80036\" rx=\"2\" ry=\"2\" style=\"stroke: #A80036; stroke-width: 1.0;\"/></a><!--MD5=[dd21adb9140f2cfd87db9a5117a4b664]\n",
       "@startuml\r\n",
       "skinparam wrapWidth 300\r\n",
       "hide circle\r\n",
       "\r\n",
       "package \"PictureTaking\" as E1  [[psysml:14e6fe4c-a4d9-4c34-a316-9cbabb101fb1 ]]  {\r\n",
       "comp def \"Exposure\" as E2  <<(T,blue)part def>> [[psysml:9a8bab7b-7078-4a6b-add3-8a1328b0c2d6 ]] {\r\n",
       "}\r\n",
       "comp def \"Focus\" as E3  <<(T,blue)action def>> [[psysml:44676d48-2ba6-47f9-b761-758fcbe31dbd ]] {\r\n",
       "}\r\n",
       "comp def \"Shoot\" as E4  <<(T,blue)action def>> [[psysml:d9adf687-8d42-42d3-b1b5-8b6413ee0fad ]] {\r\n",
       "}\r\n",
       "comp usage \"takePicture\" as E5  <<(T,blue)action>> [[psysml:704c53cf-e737-43c7-aaa6-afd6aa41e73e ]] {\r\n",
       "}\r\n",
       "comp usage \"focus: Focus\" as E6  <<(T,blue)action>> [[psysml:247459c4-dc1c-41f3-9bbd-2210d0a14144 ]] {\r\n",
       "}\r\n",
       "comp usage \"shoot: Shoot\" as E7  <<(T,blue)action>> [[psysml:d7e0c4ce-9a2d-4e4d-8f17-58d415aecc73 ]] {\r\n",
       "}\r\n",
       "E3 o- - E2 [[psysml:7285223f-23e3-4ded-a1a3-c8dbe746ff9d ]] : xrsl\r\n",
       "E4 o- - E2 [[psysml:3f6601e8-74ad-4acc-b654-2e93fe2ad4c3 ]] : xsf\r\n",
       "E5 *- - \"1\"E6 [[psysml:b27ee466-0f4c-4005-a5ef-b2dd2df76771 ]] \r\n",
       "E6 - -:|> E3 [[psysml:5a2a5603-bc94-4298-a763-49fe520ca5bc ]] \r\n",
       "E5 *- - \"1\"E7 [[psysml:aaa4df86-e408-4ec8-a2fe-61e5d0511306 ]] \r\n",
       "E7 - -:|> E4 [[psysml:f48d95ee-d7b3-4518-8228-9030b5bbf5ab ]] \r\n",
       "}\r\n",
       "@enduml\r\n",
       "\n",
       "PlantUML version 1.2020.13(Sat Jun 13 12:26:38 UTC 2020)\n",
       "(EPL source distribution)\n",
       "Java Runtime: OpenJDK Runtime Environment\n",
       "JVM: OpenJDK 64-Bit Server VM\n",
       "Default Encoding: UTF-8\n",
       "Language: en\n",
       "Country: null\n",
       "--></g></svg>"
      ]
     },
     "execution_count": 28,
     "metadata": {},
     "output_type": "execute_result"
    }
   ],
   "source": [
    "%viz --style=\"STDCOLOR\" --view=\"Sequence\" \"PictureTaking\""
   ]
  },
  {
   "cell_type": "code",
   "execution_count": 29,
   "id": "a175701b",
   "metadata": {
    "execution": {
     "iopub.execute_input": "2021-04-20T07:32:02.936859Z",
     "iopub.status.busy": "2021-04-20T07:32:02.935015Z",
     "iopub.status.idle": "2021-04-20T07:32:03.004086Z",
     "shell.execute_reply": "2021-04-20T07:32:03.001974Z"
    }
   },
   "outputs": [
    {
     "data": {
      "image/svg+xml": [
       "<?xml version=\"1.0\" encoding=\"UTF-8\" standalone=\"no\"?><svg xmlns=\"http://www.w3.org/2000/svg\" xmlns:xlink=\"http://www.w3.org/1999/xlink\" contentScriptType=\"application/ecmascript\" contentStyleType=\"text/css\" height=\"455px\" preserveAspectRatio=\"none\" style=\"width:700px;height:455px;\" version=\"1.1\" viewBox=\"0 0 700 455\" width=\"700px\" zoomAndPan=\"magnify\"><defs><filter height=\"300%\" id=\"fcitzuubtzz8a\" width=\"300%\" x=\"-1\" y=\"-1\"><feGaussianBlur result=\"blurOut\" stdDeviation=\"2.0\"/><feColorMatrix in=\"blurOut\" result=\"blurOut2\" type=\"matrix\" values=\"0 0 0 0 0 0 0 0 0 0 0 0 0 0 0 0 0 0 .4 0\"/><feOffset dx=\"4.0\" dy=\"4.0\" in=\"blurOut2\" result=\"blurOut3\"/><feBlend in=\"SourceGraphic\" in2=\"blurOut3\" mode=\"normal\"/></filter></defs><g><!--MD5=[fbc87193dbaf4d95561dea2c320d4a47]\n",
       "cluster E1--><a href=\"psysml:14e6fe4c-a4d9-4c34-a316-9cbabb101fb1\" target=\"_top\" title=\"psysml:14e6fe4c-a4d9-4c34-a316-9cbabb101fb1\" xlink:actuate=\"onRequest\" xlink:href=\"psysml:14e6fe4c-a4d9-4c34-a316-9cbabb101fb1\" xlink:show=\"new\" xlink:title=\"psysml:14e6fe4c-a4d9-4c34-a316-9cbabb101fb1\" xlink:type=\"simple\"><polygon fill=\"#FFFFFF\" filter=\"url(#fcitzuubtzz8a)\" points=\"16,6,130,6,137,28.2969,678,28.2969,678,443.5,16,443.5,16,6\" style=\"stroke: #000000; stroke-width: 1.5;\"/><line style=\"stroke: #000000; stroke-width: 1.5;\" x1=\"16\" x2=\"137\" y1=\"28.2969\" y2=\"28.2969\"/><text fill=\"#000000\" font-family=\"sans-serif\" font-size=\"14\" font-weight=\"bold\" lengthAdjust=\"spacingAndGlyphs\" textLength=\"108\" x=\"20\" y=\"20.9951\">PictureTaking</text></a><!--MD5=[d5e69f78d87373223dbae638b30a9c99]\n",
       "cluster E3--><a href=\"psysml:44676d48-2ba6-47f9-b761-758fcbe31dbd\" target=\"_top\" title=\"psysml:44676d48-2ba6-47f9-b761-758fcbe31dbd\" xlink:actuate=\"onRequest\" xlink:href=\"psysml:44676d48-2ba6-47f9-b761-758fcbe31dbd\" xlink:show=\"new\" xlink:title=\"psysml:44676d48-2ba6-47f9-b761-758fcbe31dbd\" xlink:type=\"simple\"><rect fill=\"#FFFFFF\" filter=\"url(#fcitzuubtzz8a)\" height=\"217.5\" id=\"E3\" style=\"stroke: #A80036; stroke-width: 1.5;\" width=\"134\" x=\"528\" y=\"100\"/><rect fill=\"#FEFECE\" height=\"37.9375\" style=\"stroke: #A80036; stroke-width: 1.5;\" width=\"134\" x=\"528\" y=\"100\"/><text fill=\"#000000\" font-family=\"sans-serif\" font-size=\"12\" font-style=\"italic\" lengthAdjust=\"spacingAndGlyphs\" textLength=\"77\" x=\"556.5\" y=\"116.1387\">«action def»</text><text fill=\"#000000\" font-family=\"sans-serif\" font-size=\"12\" lengthAdjust=\"spacingAndGlyphs\" textLength=\"37\" x=\"576.5\" y=\"130.1074\">Focus</text></a><!--MD5=[de5ec2e2e8f62f467e546659f5068c88]\n",
       "cluster E5--><a href=\"psysml:d9adf687-8d42-42d3-b1b5-8b6413ee0fad\" target=\"_top\" title=\"psysml:d9adf687-8d42-42d3-b1b5-8b6413ee0fad\" xlink:actuate=\"onRequest\" xlink:href=\"psysml:d9adf687-8d42-42d3-b1b5-8b6413ee0fad\" xlink:show=\"new\" xlink:title=\"psysml:d9adf687-8d42-42d3-b1b5-8b6413ee0fad\" xlink:type=\"simple\"><rect fill=\"#FFFFFF\" filter=\"url(#fcitzuubtzz8a)\" height=\"134\" id=\"E5\" style=\"stroke: #A80036; stroke-width: 1.5;\" width=\"134\" x=\"386\" y=\"133.5\"/><rect fill=\"#FEFECE\" height=\"37.9375\" style=\"stroke: #A80036; stroke-width: 1.5;\" width=\"134\" x=\"386\" y=\"133.5\"/><text fill=\"#000000\" font-family=\"sans-serif\" font-size=\"12\" font-style=\"italic\" lengthAdjust=\"spacingAndGlyphs\" textLength=\"77\" x=\"414.5\" y=\"149.6387\">«action def»</text><text fill=\"#000000\" font-family=\"sans-serif\" font-size=\"12\" lengthAdjust=\"spacingAndGlyphs\" textLength=\"37\" x=\"434.5\" y=\"163.6074\">Shoot</text></a><!--MD5=[168fadf3d0c3fd93dd5d6da1b1d7ab76]\n",
       "cluster E7--><a href=\"psysml:704c53cf-e737-43c7-aaa6-afd6aa41e73e\" target=\"_top\" title=\"psysml:704c53cf-e737-43c7-aaa6-afd6aa41e73e\" xlink:actuate=\"onRequest\" xlink:href=\"psysml:704c53cf-e737-43c7-aaa6-afd6aa41e73e\" xlink:show=\"new\" xlink:title=\"psysml:704c53cf-e737-43c7-aaa6-afd6aa41e73e\" xlink:type=\"simple\"><rect fill=\"#FFFFFF\" filter=\"url(#fcitzuubtzz8a)\" height=\"370.5\" id=\"E7\" rx=\"10\" ry=\"10\" style=\"stroke: #A80036; stroke-width: 1.5;\" width=\"256\" x=\"114\" y=\"49\"/><rect fill=\"#FEFECE\" height=\"37.9375\" rx=\"10\" ry=\"10\" style=\"stroke: #FEFECE; stroke-width: 1.5;\" width=\"256\" x=\"114\" y=\"49\"/><rect fill=\"#FEFECE\" height=\"10\" style=\"stroke: #FEFECE; stroke-width: 1.5;\" width=\"256\" x=\"114\" y=\"76.9375\"/><rect fill=\"none\" height=\"370.5\" id=\"E7\" rx=\"10\" ry=\"10\" style=\"stroke: #A80036; stroke-width: 1.5;\" width=\"256\" x=\"114\" y=\"49\"/><text fill=\"#000000\" font-family=\"sans-serif\" font-size=\"12\" font-style=\"italic\" lengthAdjust=\"spacingAndGlyphs\" textLength=\"53\" x=\"215.5\" y=\"65.1387\">«action»</text><text fill=\"#000000\" font-family=\"sans-serif\" font-size=\"12\" lengthAdjust=\"spacingAndGlyphs\" textLength=\"72\" x=\"206\" y=\"79.1074\">takePicture</text><line style=\"stroke: #A80036; stroke-width: 1.0;\" x1=\"114\" x2=\"370\" y1=\"86.9375\" y2=\"86.9375\"/></a><!--MD5=[55dfccfc6c49c2d10cd1bd2211a6c90c]\n",
       "cluster E8--><a href=\"psysml:247459c4-dc1c-41f3-9bbd-2210d0a14144\" target=\"_top\" title=\"psysml:247459c4-dc1c-41f3-9bbd-2210d0a14144\" xlink:actuate=\"onRequest\" xlink:href=\"psysml:247459c4-dc1c-41f3-9bbd-2210d0a14144\" xlink:show=\"new\" xlink:title=\"psysml:247459c4-dc1c-41f3-9bbd-2210d0a14144\" xlink:type=\"simple\"><rect fill=\"#FFFFFF\" filter=\"url(#fcitzuubtzz8a)\" height=\"217.5\" id=\"E8\" rx=\"10\" ry=\"10\" style=\"stroke: #A80036; stroke-width: 1.5;\" width=\"83\" x=\"257\" y=\"100\"/><rect fill=\"#FEFECE\" height=\"37.9375\" rx=\"10\" ry=\"10\" style=\"stroke: #FEFECE; stroke-width: 1.5;\" width=\"83\" x=\"257\" y=\"100\"/><rect fill=\"#FEFECE\" height=\"10\" style=\"stroke: #FEFECE; stroke-width: 1.5;\" width=\"83\" x=\"257\" y=\"127.9375\"/><rect fill=\"none\" height=\"217.5\" id=\"E8\" rx=\"10\" ry=\"10\" style=\"stroke: #A80036; stroke-width: 1.5;\" width=\"83\" x=\"257\" y=\"100\"/><text fill=\"#000000\" font-family=\"sans-serif\" font-size=\"12\" font-style=\"italic\" lengthAdjust=\"spacingAndGlyphs\" textLength=\"53\" x=\"272\" y=\"116.1387\">«action»</text><text fill=\"#000000\" font-family=\"sans-serif\" font-size=\"12\" lengthAdjust=\"spacingAndGlyphs\" textLength=\"34\" x=\"281.5\" y=\"130.1074\">focus</text><line style=\"stroke: #A80036; stroke-width: 1.0;\" x1=\"257\" x2=\"340\" y1=\"137.9375\" y2=\"137.9375\"/></a><!--MD5=[917b9dd0c7eca3ee5f47219d1a84c0ad]\n",
       "cluster E11--><a href=\"psysml:d7e0c4ce-9a2d-4e4d-8f17-58d415aecc73\" target=\"_top\" title=\"psysml:d7e0c4ce-9a2d-4e4d-8f17-58d415aecc73\" xlink:actuate=\"onRequest\" xlink:href=\"psysml:d7e0c4ce-9a2d-4e4d-8f17-58d415aecc73\" xlink:show=\"new\" xlink:title=\"psysml:d7e0c4ce-9a2d-4e4d-8f17-58d415aecc73\" xlink:type=\"simple\"><rect fill=\"#FFFFFF\" filter=\"url(#fcitzuubtzz8a)\" height=\"256\" id=\"E11\" rx=\"10\" ry=\"10\" style=\"stroke: #A80036; stroke-width: 1.5;\" width=\"74\" x=\"164\" y=\"133.5\"/><rect fill=\"#FEFECE\" height=\"37.9375\" rx=\"10\" ry=\"10\" style=\"stroke: #FEFECE; stroke-width: 1.5;\" width=\"74\" x=\"164\" y=\"133.5\"/><rect fill=\"#FEFECE\" height=\"10\" style=\"stroke: #FEFECE; stroke-width: 1.5;\" width=\"74\" x=\"164\" y=\"161.4375\"/><rect fill=\"none\" height=\"256\" id=\"E11\" rx=\"10\" ry=\"10\" style=\"stroke: #A80036; stroke-width: 1.5;\" width=\"74\" x=\"164\" y=\"133.5\"/><text fill=\"#000000\" font-family=\"sans-serif\" font-size=\"12\" font-style=\"italic\" lengthAdjust=\"spacingAndGlyphs\" textLength=\"53\" x=\"174.5\" y=\"149.6387\">«action»</text><text fill=\"#000000\" font-family=\"sans-serif\" font-size=\"12\" lengthAdjust=\"spacingAndGlyphs\" textLength=\"36\" x=\"183\" y=\"163.6074\">shoot</text><line style=\"stroke: #A80036; stroke-width: 1.0;\" x1=\"164\" x2=\"238\" y1=\"171.4375\" y2=\"171.4375\"/></a><!--MD5=[b4997ac47864f28c2f74865a473b2911]\n",
       "class E2--><a href=\"psysml:9a8bab7b-7078-4a6b-add3-8a1328b0c2d6\" target=\"_top\" title=\"psysml:9a8bab7b-7078-4a6b-add3-8a1328b0c2d6\" xlink:actuate=\"onRequest\" xlink:href=\"psysml:9a8bab7b-7078-4a6b-add3-8a1328b0c2d6\" xlink:show=\"new\" xlink:title=\"psysml:9a8bab7b-7078-4a6b-add3-8a1328b0c2d6\" xlink:type=\"simple\"><rect fill=\"#FEFECE\" filter=\"url(#fcitzuubtzz8a)\" height=\"45.9375\" id=\"E2\" style=\"stroke: #A80036; stroke-width: 1.5;\" width=\"66\" x=\"32\" y=\"110.5\"/><text fill=\"#000000\" font-family=\"sans-serif\" font-size=\"12\" font-style=\"italic\" lengthAdjust=\"spacingAndGlyphs\" textLength=\"64\" x=\"33\" y=\"126.6387\">«part def»</text><text fill=\"#000000\" font-family=\"sans-serif\" font-size=\"12\" lengthAdjust=\"spacingAndGlyphs\" textLength=\"58\" x=\"36\" y=\"140.6074\">Exposure</text><line style=\"stroke: #A80036; stroke-width: 1.5;\" x1=\"33\" x2=\"97\" y1=\"148.4375\" y2=\"148.4375\"/></a><text fill=\"#000000\" font-family=\"sans-serif\" font-size=\"14\" lengthAdjust=\"spacingAndGlyphs\" textLength=\"23\" x=\"583.5\" y=\"336.4951\">xrsl</text><rect fill=\"#A80036\" height=\"12\" style=\"stroke: #FEFECE; stroke-width: 1.5;\" width=\"12\" x=\"589\" y=\"311.5\"/><text fill=\"#000000\" font-family=\"sans-serif\" font-size=\"14\" lengthAdjust=\"spacingAndGlyphs\" textLength=\"19\" x=\"443.5\" y=\"112.1982\">xsf</text><rect fill=\"#A80036\" height=\"12\" style=\"stroke: #FEFECE; stroke-width: 1.5;\" width=\"12\" x=\"447\" y=\"127.5\"/><text fill=\"#000000\" font-family=\"sans-serif\" font-size=\"14\" lengthAdjust=\"spacingAndGlyphs\" textLength=\"48\" x=\"251\" y=\"336.4951\">$result</text><rect fill=\"#A80036\" height=\"12\" style=\"stroke: #FEFECE; stroke-width: 1.5;\" width=\"12\" x=\"269\" y=\"311.5\"/><text fill=\"#000000\" font-family=\"sans-serif\" font-size=\"14\" lengthAdjust=\"spacingAndGlyphs\" textLength=\"23\" x=\"310.5\" y=\"336.4951\">xrsl</text><rect fill=\"#A80036\" height=\"12\" style=\"stroke: #FEFECE; stroke-width: 1.5;\" width=\"12\" x=\"316\" y=\"311.5\"/><text fill=\"#000000\" font-family=\"sans-serif\" font-size=\"14\" lengthAdjust=\"spacingAndGlyphs\" textLength=\"48\" x=\"158\" y=\"408.4951\">$result</text><rect fill=\"#A80036\" height=\"12\" style=\"stroke: #FEFECE; stroke-width: 1.5;\" width=\"12\" x=\"176\" y=\"383.5\"/><text fill=\"#000000\" font-family=\"sans-serif\" font-size=\"14\" lengthAdjust=\"spacingAndGlyphs\" textLength=\"19\" x=\"174.5\" y=\"112.1982\">xsf</text><rect fill=\"#A80036\" height=\"12\" style=\"stroke: #FEFECE; stroke-width: 1.5;\" width=\"12\" x=\"178\" y=\"127.5\"/><!--MD5=[01af59b236e8ca0c07f60a94bc50d129]\n",
       "@startuml\r\n",
       "skinparam wrapWidth 300\r\n",
       "hide circle\r\n",
       "\r\n",
       "package \"PictureTaking\" as E1  [[psysml:14e6fe4c-a4d9-4c34-a316-9cbabb101fb1 ]]  {\r\n",
       "comp def \"Exposure\" as E2  <<(T,blue)part def>> [[psysml:9a8bab7b-7078-4a6b-add3-8a1328b0c2d6 ]] {\r\n",
       "}\r\n",
       "rec def \"Focus\" as E3  <<(T,blue)action def>> [[psysml:44676d48-2ba6-47f9-b761-758fcbe31dbd ]] {\r\n",
       "portout \"xrsl\" as E4  [[psysml:7285223f-23e3-4ded-a1a3-c8dbe746ff9d ]] \r\n",
       "}\r\n",
       "\r\n",
       "rec def \"Shoot\" as E5  <<(T,blue)action def>> [[psysml:d9adf687-8d42-42d3-b1b5-8b6413ee0fad ]] {\r\n",
       "portin \"xsf\" as E6  [[psysml:3f6601e8-74ad-4acc-b654-2e93fe2ad4c3 ]] \r\n",
       "}\r\n",
       "\r\n",
       "rec usage \"takePicture\" as E7  <<(T,blue)action>> [[psysml:704c53cf-e737-43c7-aaa6-afd6aa41e73e ]] {\r\n",
       "rec usage \"focus\" as E8  <<(T,blue)action>> [[psysml:247459c4-dc1c-41f3-9bbd-2210d0a14144 ]] {\r\n",
       "portout \"$result\" as E9  [[psysml:d24c4944-7685-4e9e-b1e9-aa0857e67b68 ]] \r\n",
       "portout \"xrsl\" as E10  [[psysml:a9b63f0e-a7c1-4470-82ae-da9c74073d16 ]] \r\n",
       "}\r\n",
       "\r\n",
       "rec usage \"shoot\" as E11  <<(T,blue)action>> [[psysml:d7e0c4ce-9a2d-4e4d-8f17-58d415aecc73 ]] {\r\n",
       "portout \"$result\" as E12  [[psysml:edaf4370-9fef-4792-934f-b7a89f5913cc ]] \r\n",
       "portin \"xsf\" as E13  [[psysml:1ee0e316-c080-4a1b-aa8d-122e3ae24dab ]] \r\n",
       "}\r\n",
       "\r\n",
       "}\r\n",
       "\r\n",
       "}\r\n",
       "@enduml\r\n",
       "\n",
       "PlantUML version 1.2020.13(Sat Jun 13 12:26:38 UTC 2020)\n",
       "(EPL source distribution)\n",
       "Java Runtime: OpenJDK Runtime Environment\n",
       "JVM: OpenJDK 64-Bit Server VM\n",
       "Default Encoding: UTF-8\n",
       "Language: en\n",
       "Country: null\n",
       "--></g></svg>"
      ]
     },
     "execution_count": 29,
     "metadata": {},
     "output_type": "execute_result"
    }
   ],
   "source": [
    "%viz --style=\"STDCOLOR\" --view=\"MIXED\" \"PictureTaking\""
   ]
  },
  {
   "cell_type": "code",
   "execution_count": 30,
   "id": "a0d07bfd",
   "metadata": {
    "execution": {
     "iopub.execute_input": "2021-04-20T07:32:03.055400Z",
     "iopub.status.busy": "2021-04-20T07:32:03.054657Z",
     "iopub.status.idle": "2021-04-20T07:32:03.163023Z",
     "shell.execute_reply": "2021-04-20T07:32:03.162521Z"
    }
   },
   "outputs": [
    {
     "data": {
      "image/svg+xml": [
       "<?xml version=\"1.0\" encoding=\"UTF-8\" standalone=\"no\"?><svg xmlns=\"http://www.w3.org/2000/svg\" xmlns:xlink=\"http://www.w3.org/1999/xlink\" contentScriptType=\"application/ecmascript\" contentStyleType=\"text/css\" height=\"452px\" preserveAspectRatio=\"none\" style=\"width:724px;height:452px;\" version=\"1.1\" viewBox=\"0 0 724 452\" width=\"724px\" zoomAndPan=\"magnify\"><defs><filter height=\"300%\" id=\"f334tmen74uf\" width=\"300%\" x=\"-1\" y=\"-1\"><feGaussianBlur result=\"blurOut\" stdDeviation=\"2.0\"/><feColorMatrix in=\"blurOut\" result=\"blurOut2\" type=\"matrix\" values=\"0 0 0 0 0 0 0 0 0 0 0 0 0 0 0 0 0 0 .4 0\"/><feOffset dx=\"4.0\" dy=\"4.0\" in=\"blurOut2\" result=\"blurOut3\"/><feBlend in=\"SourceGraphic\" in2=\"blurOut3\" mode=\"normal\"/></filter></defs><g><!--MD5=[fbc87193dbaf4d95561dea2c320d4a47]\n",
       "cluster E1--><a href=\"psysml:14e6fe4c-a4d9-4c34-a316-9cbabb101fb1\" target=\"_top\" title=\"psysml:14e6fe4c-a4d9-4c34-a316-9cbabb101fb1\" xlink:actuate=\"onRequest\" xlink:href=\"psysml:14e6fe4c-a4d9-4c34-a316-9cbabb101fb1\" xlink:show=\"new\" xlink:title=\"psysml:14e6fe4c-a4d9-4c34-a316-9cbabb101fb1\" xlink:type=\"simple\"><polygon fill=\"#FFFFFF\" filter=\"url(#f334tmen74uf)\" points=\"16,6,130,6,137,28.2969,702,28.2969,702,440.5,16,440.5,16,6\" style=\"stroke: #000000; stroke-width: 1.5;\"/><line style=\"stroke: #000000; stroke-width: 1.5;\" x1=\"16\" x2=\"137\" y1=\"28.2969\" y2=\"28.2969\"/><text fill=\"#000000\" font-family=\"sans-serif\" font-size=\"14\" font-weight=\"bold\" lengthAdjust=\"spacingAndGlyphs\" textLength=\"108\" x=\"20\" y=\"20.9951\">PictureTaking</text></a><!--MD5=[d5e69f78d87373223dbae638b30a9c99]\n",
       "cluster E3--><a href=\"psysml:44676d48-2ba6-47f9-b761-758fcbe31dbd\" target=\"_top\" title=\"psysml:44676d48-2ba6-47f9-b761-758fcbe31dbd\" xlink:actuate=\"onRequest\" xlink:href=\"psysml:44676d48-2ba6-47f9-b761-758fcbe31dbd\" xlink:show=\"new\" xlink:title=\"psysml:44676d48-2ba6-47f9-b761-758fcbe31dbd\" xlink:type=\"simple\"><rect fill=\"#FFFFFF\" filter=\"url(#f334tmen74uf)\" height=\"214.5\" id=\"E3\" style=\"stroke: #A80036; stroke-width: 1.5;\" width=\"134\" x=\"552\" y=\"100\"/><rect fill=\"#FEFECE\" height=\"37.9375\" style=\"stroke: #A80036; stroke-width: 1.5;\" width=\"134\" x=\"552\" y=\"100\"/><text fill=\"#000000\" font-family=\"sans-serif\" font-size=\"12\" font-style=\"italic\" lengthAdjust=\"spacingAndGlyphs\" textLength=\"77\" x=\"580.5\" y=\"116.1387\">«action def»</text><text fill=\"#000000\" font-family=\"sans-serif\" font-size=\"12\" lengthAdjust=\"spacingAndGlyphs\" textLength=\"37\" x=\"600.5\" y=\"130.1074\">Focus</text></a><!--MD5=[de5ec2e2e8f62f467e546659f5068c88]\n",
       "cluster E5--><a href=\"psysml:d9adf687-8d42-42d3-b1b5-8b6413ee0fad\" target=\"_top\" title=\"psysml:d9adf687-8d42-42d3-b1b5-8b6413ee0fad\" xlink:actuate=\"onRequest\" xlink:href=\"psysml:d9adf687-8d42-42d3-b1b5-8b6413ee0fad\" xlink:show=\"new\" xlink:title=\"psysml:d9adf687-8d42-42d3-b1b5-8b6413ee0fad\" xlink:type=\"simple\"><rect fill=\"#FFFFFF\" filter=\"url(#f334tmen74uf)\" height=\"131\" id=\"E5\" style=\"stroke: #A80036; stroke-width: 1.5;\" width=\"134\" x=\"410\" y=\"133.5\"/><rect fill=\"#FEFECE\" height=\"37.9375\" style=\"stroke: #A80036; stroke-width: 1.5;\" width=\"134\" x=\"410\" y=\"133.5\"/><text fill=\"#000000\" font-family=\"sans-serif\" font-size=\"12\" font-style=\"italic\" lengthAdjust=\"spacingAndGlyphs\" textLength=\"77\" x=\"438.5\" y=\"149.6387\">«action def»</text><text fill=\"#000000\" font-family=\"sans-serif\" font-size=\"12\" lengthAdjust=\"spacingAndGlyphs\" textLength=\"37\" x=\"458.5\" y=\"163.6074\">Shoot</text></a><!--MD5=[168fadf3d0c3fd93dd5d6da1b1d7ab76]\n",
       "cluster E7--><a href=\"psysml:704c53cf-e737-43c7-aaa6-afd6aa41e73e\" target=\"_top\" title=\"psysml:704c53cf-e737-43c7-aaa6-afd6aa41e73e\" xlink:actuate=\"onRequest\" xlink:href=\"psysml:704c53cf-e737-43c7-aaa6-afd6aa41e73e\" xlink:show=\"new\" xlink:title=\"psysml:704c53cf-e737-43c7-aaa6-afd6aa41e73e\" xlink:type=\"simple\"><rect fill=\"#FFFFFF\" filter=\"url(#f334tmen74uf)\" height=\"367.5\" id=\"E7\" rx=\"10\" ry=\"10\" style=\"stroke: #A80036; stroke-width: 1.5;\" width=\"256\" x=\"138\" y=\"49\"/><rect fill=\"#FEFECE\" height=\"37.9375\" rx=\"10\" ry=\"10\" style=\"stroke: #FEFECE; stroke-width: 1.5;\" width=\"256\" x=\"138\" y=\"49\"/><rect fill=\"#FEFECE\" height=\"10\" style=\"stroke: #FEFECE; stroke-width: 1.5;\" width=\"256\" x=\"138\" y=\"76.9375\"/><rect fill=\"none\" height=\"367.5\" id=\"E7\" rx=\"10\" ry=\"10\" style=\"stroke: #A80036; stroke-width: 1.5;\" width=\"256\" x=\"138\" y=\"49\"/><text fill=\"#000000\" font-family=\"sans-serif\" font-size=\"12\" font-style=\"italic\" lengthAdjust=\"spacingAndGlyphs\" textLength=\"53\" x=\"239.5\" y=\"65.1387\">«action»</text><text fill=\"#000000\" font-family=\"sans-serif\" font-size=\"12\" lengthAdjust=\"spacingAndGlyphs\" textLength=\"72\" x=\"230\" y=\"79.1074\">takePicture</text><line style=\"stroke: #A80036; stroke-width: 1.0;\" x1=\"138\" x2=\"394\" y1=\"86.9375\" y2=\"86.9375\"/></a><!--MD5=[55dfccfc6c49c2d10cd1bd2211a6c90c]\n",
       "cluster E8--><a href=\"psysml:247459c4-dc1c-41f3-9bbd-2210d0a14144\" target=\"_top\" title=\"psysml:247459c4-dc1c-41f3-9bbd-2210d0a14144\" xlink:actuate=\"onRequest\" xlink:href=\"psysml:247459c4-dc1c-41f3-9bbd-2210d0a14144\" xlink:show=\"new\" xlink:title=\"psysml:247459c4-dc1c-41f3-9bbd-2210d0a14144\" xlink:type=\"simple\"><rect fill=\"#FFFFFF\" filter=\"url(#f334tmen74uf)\" height=\"214.5\" id=\"E8\" rx=\"10\" ry=\"10\" style=\"stroke: #A80036; stroke-width: 1.5;\" width=\"83\" x=\"281\" y=\"100\"/><rect fill=\"#FEFECE\" height=\"37.9375\" rx=\"10\" ry=\"10\" style=\"stroke: #FEFECE; stroke-width: 1.5;\" width=\"83\" x=\"281\" y=\"100\"/><rect fill=\"#FEFECE\" height=\"10\" style=\"stroke: #FEFECE; stroke-width: 1.5;\" width=\"83\" x=\"281\" y=\"127.9375\"/><rect fill=\"none\" height=\"214.5\" id=\"E8\" rx=\"10\" ry=\"10\" style=\"stroke: #A80036; stroke-width: 1.5;\" width=\"83\" x=\"281\" y=\"100\"/><text fill=\"#000000\" font-family=\"sans-serif\" font-size=\"12\" font-style=\"italic\" lengthAdjust=\"spacingAndGlyphs\" textLength=\"53\" x=\"296\" y=\"116.1387\">«action»</text><text fill=\"#000000\" font-family=\"sans-serif\" font-size=\"12\" lengthAdjust=\"spacingAndGlyphs\" textLength=\"34\" x=\"305.5\" y=\"130.1074\">focus</text><line style=\"stroke: #A80036; stroke-width: 1.0;\" x1=\"281\" x2=\"364\" y1=\"137.9375\" y2=\"137.9375\"/></a><!--MD5=[917b9dd0c7eca3ee5f47219d1a84c0ad]\n",
       "cluster E11--><a href=\"psysml:d7e0c4ce-9a2d-4e4d-8f17-58d415aecc73\" target=\"_top\" title=\"psysml:d7e0c4ce-9a2d-4e4d-8f17-58d415aecc73\" xlink:actuate=\"onRequest\" xlink:href=\"psysml:d7e0c4ce-9a2d-4e4d-8f17-58d415aecc73\" xlink:show=\"new\" xlink:title=\"psysml:d7e0c4ce-9a2d-4e4d-8f17-58d415aecc73\" xlink:type=\"simple\"><rect fill=\"#FFFFFF\" filter=\"url(#f334tmen74uf)\" height=\"253\" id=\"E11\" rx=\"10\" ry=\"10\" style=\"stroke: #A80036; stroke-width: 1.5;\" width=\"74\" x=\"188\" y=\"133.5\"/><rect fill=\"#FEFECE\" height=\"37.9375\" rx=\"10\" ry=\"10\" style=\"stroke: #FEFECE; stroke-width: 1.5;\" width=\"74\" x=\"188\" y=\"133.5\"/><rect fill=\"#FEFECE\" height=\"10\" style=\"stroke: #FEFECE; stroke-width: 1.5;\" width=\"74\" x=\"188\" y=\"161.4375\"/><rect fill=\"none\" height=\"253\" id=\"E11\" rx=\"10\" ry=\"10\" style=\"stroke: #A80036; stroke-width: 1.5;\" width=\"74\" x=\"188\" y=\"133.5\"/><text fill=\"#000000\" font-family=\"sans-serif\" font-size=\"12\" font-style=\"italic\" lengthAdjust=\"spacingAndGlyphs\" textLength=\"53\" x=\"198.5\" y=\"149.6387\">«action»</text><text fill=\"#000000\" font-family=\"sans-serif\" font-size=\"12\" lengthAdjust=\"spacingAndGlyphs\" textLength=\"36\" x=\"207\" y=\"163.6074\">shoot</text><line style=\"stroke: #A80036; stroke-width: 1.0;\" x1=\"188\" x2=\"262\" y1=\"171.4375\" y2=\"171.4375\"/></a><!--MD5=[b4997ac47864f28c2f74865a473b2911]\n",
       "class E2--><a href=\"psysml:9a8bab7b-7078-4a6b-add3-8a1328b0c2d6\" target=\"_top\" title=\"psysml:9a8bab7b-7078-4a6b-add3-8a1328b0c2d6\" xlink:actuate=\"onRequest\" xlink:href=\"psysml:9a8bab7b-7078-4a6b-add3-8a1328b0c2d6\" xlink:show=\"new\" xlink:title=\"psysml:9a8bab7b-7078-4a6b-add3-8a1328b0c2d6\" xlink:type=\"simple\"><rect fill=\"#FEFECE\" filter=\"url(#f334tmen74uf)\" height=\"40\" id=\"E2\" style=\"stroke: #A80036; stroke-width: 1.5;\" width=\"90\" x=\"32\" y=\"113.5\"/><ellipse cx=\"47\" cy=\"129.5\" fill=\"#008000\" rx=\"11\" ry=\"11\" style=\"stroke: #A80036; stroke-width: 1.0;\"/><path d=\"M45.9063,129.875 L45.9063,133.5469 L47.5313,133.5469 Q48.7031,133.5469 49.1719,133.1563 Q49.6406,132.75 49.6406,131.75 Q49.6406,130.75 49.1406,130.3125 Q48.6563,129.875 47.5313,129.875 L45.9063,129.875 Z M45.9063,125.0469 L45.9063,127.9219 L47.5313,127.9219 Q48.4531,127.9219 48.8438,127.5938 Q49.25,127.25 49.25,126.5 Q49.25,125.7344 48.8438,125.3906 Q48.4375,125.0469 47.5313,125.0469 L45.9063,125.0469 Z M43.5313,123.0938 L47.5313,123.0938 Q49.5938,123.0938 50.6406,123.875 Q51.6875,124.6563 51.6875,126.2188 Q51.6875,127.4219 51.0625,128.0938 Q50.4531,128.7656 49.2656,128.875 Q50.6875,129.0156 51.4063,129.8281 Q52.125,130.6406 52.125,132.0938 Q52.125,133.8906 51.0469,134.7031 Q49.9688,135.5 47.5313,135.5 L43.5313,135.5 L43.5313,123.0938 Z \"/><text fill=\"#000000\" font-family=\"sans-serif\" font-size=\"12\" lengthAdjust=\"spacingAndGlyphs\" textLength=\"58\" x=\"61\" y=\"133.6543\">Exposure</text><line style=\"stroke: #A80036; stroke-width: 1.5;\" x1=\"33\" x2=\"121\" y1=\"145.5\" y2=\"145.5\"/></a><text fill=\"#000000\" font-family=\"sans-serif\" font-size=\"14\" lengthAdjust=\"spacingAndGlyphs\" textLength=\"23\" x=\"607.5\" y=\"333.4951\">xrsl</text><rect fill=\"#A80036\" height=\"12\" style=\"stroke: #FEFECE; stroke-width: 1.5;\" width=\"12\" x=\"613\" y=\"308.5\"/><text fill=\"#000000\" font-family=\"sans-serif\" font-size=\"14\" lengthAdjust=\"spacingAndGlyphs\" textLength=\"19\" x=\"467.5\" y=\"112.1982\">xsf</text><rect fill=\"#A80036\" height=\"12\" style=\"stroke: #FEFECE; stroke-width: 1.5;\" width=\"12\" x=\"471\" y=\"127.5\"/><text fill=\"#000000\" font-family=\"sans-serif\" font-size=\"14\" lengthAdjust=\"spacingAndGlyphs\" textLength=\"48\" x=\"275\" y=\"333.4951\">$result</text><rect fill=\"#A80036\" height=\"12\" style=\"stroke: #FEFECE; stroke-width: 1.5;\" width=\"12\" x=\"293\" y=\"308.5\"/><text fill=\"#000000\" font-family=\"sans-serif\" font-size=\"14\" lengthAdjust=\"spacingAndGlyphs\" textLength=\"23\" x=\"334.5\" y=\"333.4951\">xrsl</text><rect fill=\"#A80036\" height=\"12\" style=\"stroke: #FEFECE; stroke-width: 1.5;\" width=\"12\" x=\"340\" y=\"308.5\"/><text fill=\"#000000\" font-family=\"sans-serif\" font-size=\"14\" lengthAdjust=\"spacingAndGlyphs\" textLength=\"48\" x=\"182\" y=\"405.4951\">$result</text><rect fill=\"#A80036\" height=\"12\" style=\"stroke: #FEFECE; stroke-width: 1.5;\" width=\"12\" x=\"200\" y=\"380.5\"/><text fill=\"#000000\" font-family=\"sans-serif\" font-size=\"14\" lengthAdjust=\"spacingAndGlyphs\" textLength=\"19\" x=\"198.5\" y=\"112.1982\">xsf</text><rect fill=\"#A80036\" height=\"12\" style=\"stroke: #FEFECE; stroke-width: 1.5;\" width=\"12\" x=\"202\" y=\"127.5\"/><!--MD5=[1a32ec12dc53984e1d9a45a441c4ae0a]\n",
       "@startuml\r\n",
       " \r\n",
       "package \"PictureTaking\" as E1  [[psysml:14e6fe4c-a4d9-4c34-a316-9cbabb101fb1 ]]  {\r\n",
       "comp def \"Exposure\" as E2  << (B,green) >> [[psysml:9a8bab7b-7078-4a6b-add3-8a1328b0c2d6 ]] {\r\n",
       "}\r\n",
       "rec def \"Focus\" as E3  <<(D,brown)action def>> [[psysml:44676d48-2ba6-47f9-b761-758fcbe31dbd ]] {\r\n",
       "portout \"xrsl\" as E4  [[psysml:7285223f-23e3-4ded-a1a3-c8dbe746ff9d ]] \r\n",
       "}\r\n",
       "\r\n",
       "rec def \"Shoot\" as E5  <<(D,brown)action def>> [[psysml:d9adf687-8d42-42d3-b1b5-8b6413ee0fad ]] {\r\n",
       "portin \"xsf\" as E6  [[psysml:3f6601e8-74ad-4acc-b654-2e93fe2ad4c3 ]] \r\n",
       "}\r\n",
       "\r\n",
       "rec usage \"takePicture\" as E7  <<(U,orange)action>> [[psysml:704c53cf-e737-43c7-aaa6-afd6aa41e73e ]] {\r\n",
       "rec usage \"focus\" as E8  <<(U,orange)action>> [[psysml:247459c4-dc1c-41f3-9bbd-2210d0a14144 ]] {\r\n",
       "portout \"$result\" as E9  [[psysml:d24c4944-7685-4e9e-b1e9-aa0857e67b68 ]] \r\n",
       "portout \"xrsl\" as E10  [[psysml:a9b63f0e-a7c1-4470-82ae-da9c74073d16 ]] \r\n",
       "}\r\n",
       "\r\n",
       "rec usage \"shoot\" as E11  <<(U,orange)action>> [[psysml:d7e0c4ce-9a2d-4e4d-8f17-58d415aecc73 ]] {\r\n",
       "portout \"$result\" as E12  [[psysml:edaf4370-9fef-4792-934f-b7a89f5913cc ]] \r\n",
       "portin \"xsf\" as E13  [[psysml:1ee0e316-c080-4a1b-aa8d-122e3ae24dab ]] \r\n",
       "}\r\n",
       "\r\n",
       "}\r\n",
       "\r\n",
       "}\r\n",
       "@enduml\r\n",
       "\n",
       "PlantUML version 1.2020.13(Sat Jun 13 12:26:38 UTC 2020)\n",
       "(EPL source distribution)\n",
       "Java Runtime: OpenJDK Runtime Environment\n",
       "JVM: OpenJDK 64-Bit Server VM\n",
       "Default Encoding: UTF-8\n",
       "Language: en\n",
       "Country: null\n",
       "--></g></svg>"
      ]
     },
     "execution_count": 30,
     "metadata": {},
     "output_type": "execute_result"
    }
   ],
   "source": [
    "%viz --style=\"PLANTUML\" --view=\"Default\" \"PictureTaking\""
   ]
  },
  {
   "cell_type": "code",
   "execution_count": 31,
   "id": "1827a260",
   "metadata": {
    "execution": {
     "iopub.execute_input": "2021-04-20T07:32:03.218083Z",
     "iopub.status.busy": "2021-04-20T07:32:03.215690Z",
     "iopub.status.idle": "2021-04-20T07:32:03.284701Z",
     "shell.execute_reply": "2021-04-20T07:32:03.282391Z"
    }
   },
   "outputs": [
    {
     "data": {
      "image/svg+xml": [
       "<?xml version=\"1.0\" encoding=\"UTF-8\" standalone=\"no\"?><svg xmlns=\"http://www.w3.org/2000/svg\" xmlns:xlink=\"http://www.w3.org/1999/xlink\" contentScriptType=\"application/ecmascript\" contentStyleType=\"text/css\" height=\"446px\" preserveAspectRatio=\"none\" style=\"width:329px;height:446px;\" version=\"1.1\" viewBox=\"0 0 329 446\" width=\"329px\" zoomAndPan=\"magnify\"><defs><filter height=\"300%\" id=\"f1tzflyx8hoobn\" width=\"300%\" x=\"-1\" y=\"-1\"><feGaussianBlur result=\"blurOut\" stdDeviation=\"2.0\"/><feColorMatrix in=\"blurOut\" result=\"blurOut2\" type=\"matrix\" values=\"0 0 0 0 0 0 0 0 0 0 0 0 0 0 0 0 0 0 .4 0\"/><feOffset dx=\"4.0\" dy=\"4.0\" in=\"blurOut2\" result=\"blurOut3\"/><feBlend in=\"SourceGraphic\" in2=\"blurOut3\" mode=\"normal\"/></filter></defs><g><!--MD5=[fbc87193dbaf4d95561dea2c320d4a47]\n",
       "cluster E1--><a href=\"psysml:14e6fe4c-a4d9-4c34-a316-9cbabb101fb1\" target=\"_top\" title=\"psysml:14e6fe4c-a4d9-4c34-a316-9cbabb101fb1\" xlink:actuate=\"onRequest\" xlink:href=\"psysml:14e6fe4c-a4d9-4c34-a316-9cbabb101fb1\" xlink:show=\"new\" xlink:title=\"psysml:14e6fe4c-a4d9-4c34-a316-9cbabb101fb1\" xlink:type=\"simple\"><polygon fill=\"#FFFFFF\" filter=\"url(#f1tzflyx8hoobn)\" points=\"16,6,130,6,137,28.2969,307,28.2969,307,434,16,434,16,6\" style=\"stroke: #000000; stroke-width: 1.5;\"/><line style=\"stroke: #000000; stroke-width: 1.5;\" x1=\"16\" x2=\"137\" y1=\"28.2969\" y2=\"28.2969\"/><text fill=\"#000000\" font-family=\"sans-serif\" font-size=\"14\" font-weight=\"bold\" lengthAdjust=\"spacingAndGlyphs\" textLength=\"108\" x=\"20\" y=\"20.9951\">PictureTaking</text></a><!--MD5=[b4997ac47864f28c2f74865a473b2911]\n",
       "class E2--><a href=\"psysml:9a8bab7b-7078-4a6b-add3-8a1328b0c2d6\" target=\"_top\" title=\"psysml:9a8bab7b-7078-4a6b-add3-8a1328b0c2d6\" xlink:actuate=\"onRequest\" xlink:href=\"psysml:9a8bab7b-7078-4a6b-add3-8a1328b0c2d6\" xlink:show=\"new\" xlink:title=\"psysml:9a8bab7b-7078-4a6b-add3-8a1328b0c2d6\" xlink:type=\"simple\"><rect fill=\"#FEFECE\" filter=\"url(#f1tzflyx8hoobn)\" height=\"40\" id=\"E2\" style=\"stroke: #A80036; stroke-width: 1.5;\" width=\"90\" x=\"96\" y=\"378\"/><ellipse cx=\"111\" cy=\"394\" fill=\"#008000\" rx=\"11\" ry=\"11\" style=\"stroke: #A80036; stroke-width: 1.0;\"/><path d=\"M109.9063,394.375 L109.9063,398.0469 L111.5313,398.0469 Q112.7031,398.0469 113.1719,397.6563 Q113.6406,397.25 113.6406,396.25 Q113.6406,395.25 113.1406,394.8125 Q112.6563,394.375 111.5313,394.375 L109.9063,394.375 Z M109.9063,389.5469 L109.9063,392.4219 L111.5313,392.4219 Q112.4531,392.4219 112.8438,392.0938 Q113.25,391.75 113.25,391 Q113.25,390.2344 112.8438,389.8906 Q112.4375,389.5469 111.5313,389.5469 L109.9063,389.5469 Z M107.5313,387.5938 L111.5313,387.5938 Q113.5938,387.5938 114.6406,388.375 Q115.6875,389.1563 115.6875,390.7188 Q115.6875,391.9219 115.0625,392.5938 Q114.4531,393.2656 113.2656,393.375 Q114.6875,393.5156 115.4063,394.3281 Q116.125,395.1406 116.125,396.5938 Q116.125,398.3906 115.0469,399.2031 Q113.9688,400 111.5313,400 L107.5313,400 L107.5313,387.5938 Z \"/><text fill=\"#000000\" font-family=\"sans-serif\" font-size=\"12\" lengthAdjust=\"spacingAndGlyphs\" textLength=\"58\" x=\"125\" y=\"398.1543\">Exposure</text><line style=\"stroke: #A80036; stroke-width: 1.5;\" x1=\"97\" x2=\"185\" y1=\"410\" y2=\"410\"/></a><!--MD5=[09b614a08d8cba4a07c9adeb5e0fee81]\n",
       "class E3--><a href=\"psysml:44676d48-2ba6-47f9-b761-758fcbe31dbd\" target=\"_top\" title=\"psysml:44676d48-2ba6-47f9-b761-758fcbe31dbd\" xlink:actuate=\"onRequest\" xlink:href=\"psysml:44676d48-2ba6-47f9-b761-758fcbe31dbd\" xlink:show=\"new\" xlink:title=\"psysml:44676d48-2ba6-47f9-b761-758fcbe31dbd\" xlink:type=\"simple\"><rect fill=\"#FEFECE\" filter=\"url(#f1tzflyx8hoobn)\" height=\"45.9375\" id=\"E3\" style=\"stroke: #A80036; stroke-width: 1.5;\" width=\"105\" x=\"37.5\" y=\"255\"/><ellipse cx=\"52.5\" cy=\"273.9688\" fill=\"#A52A2A\" rx=\"11\" ry=\"11\" style=\"stroke: #A80036; stroke-width: 1.0;\"/><path d=\"M52.0938,269.7813 L52.0938,277.7656 L52.75,277.7656 Q54.1875,277.7656 54.7969,276.8594 Q55.4219,275.9375 55.4219,273.7656 Q55.4219,271.5938 54.7969,270.6875 Q54.1875,269.7813 52.75,269.7813 L52.0938,269.7813 Z M49.6406,267.5781 L52.2656,267.5781 Q55.2969,267.5781 56.625,269.0313 Q57.9688,270.4688 57.9688,273.7656 Q57.9688,277.0625 56.625,278.5156 Q55.2969,279.9688 52.2656,279.9688 L49.6406,279.9688 L49.6406,267.5781 Z \"/><text fill=\"#000000\" font-family=\"sans-serif\" font-size=\"12\" font-style=\"italic\" lengthAdjust=\"spacingAndGlyphs\" textLength=\"77\" x=\"64.5\" y=\"271.1387\">«action def»</text><text fill=\"#000000\" font-family=\"sans-serif\" font-size=\"12\" lengthAdjust=\"spacingAndGlyphs\" textLength=\"37\" x=\"84.5\" y=\"285.1074\">Focus</text><line style=\"stroke: #A80036; stroke-width: 1.5;\" x1=\"38.5\" x2=\"141.5\" y1=\"292.9375\" y2=\"292.9375\"/></a><!--MD5=[ebbe1d658d1005bcc118a6aa81145e00]\n",
       "class E4--><a href=\"psysml:d9adf687-8d42-42d3-b1b5-8b6413ee0fad\" target=\"_top\" title=\"psysml:d9adf687-8d42-42d3-b1b5-8b6413ee0fad\" xlink:actuate=\"onRequest\" xlink:href=\"psysml:d9adf687-8d42-42d3-b1b5-8b6413ee0fad\" xlink:show=\"new\" xlink:title=\"psysml:d9adf687-8d42-42d3-b1b5-8b6413ee0fad\" xlink:type=\"simple\"><rect fill=\"#FEFECE\" filter=\"url(#f1tzflyx8hoobn)\" height=\"45.9375\" id=\"E4\" style=\"stroke: #A80036; stroke-width: 1.5;\" width=\"105\" x=\"179.5\" y=\"255\"/><ellipse cx=\"194.5\" cy=\"273.9688\" fill=\"#A52A2A\" rx=\"11\" ry=\"11\" style=\"stroke: #A80036; stroke-width: 1.0;\"/><path d=\"M194.0938,269.7813 L194.0938,277.7656 L194.75,277.7656 Q196.1875,277.7656 196.7969,276.8594 Q197.4219,275.9375 197.4219,273.7656 Q197.4219,271.5938 196.7969,270.6875 Q196.1875,269.7813 194.75,269.7813 L194.0938,269.7813 Z M191.6406,267.5781 L194.2656,267.5781 Q197.2969,267.5781 198.625,269.0313 Q199.9688,270.4688 199.9688,273.7656 Q199.9688,277.0625 198.625,278.5156 Q197.2969,279.9688 194.2656,279.9688 L191.6406,279.9688 L191.6406,267.5781 Z \"/><text fill=\"#000000\" font-family=\"sans-serif\" font-size=\"12\" font-style=\"italic\" lengthAdjust=\"spacingAndGlyphs\" textLength=\"77\" x=\"206.5\" y=\"271.1387\">«action def»</text><text fill=\"#000000\" font-family=\"sans-serif\" font-size=\"12\" lengthAdjust=\"spacingAndGlyphs\" textLength=\"37\" x=\"226.5\" y=\"285.1074\">Shoot</text><line style=\"stroke: #A80036; stroke-width: 1.5;\" x1=\"180.5\" x2=\"283.5\" y1=\"292.9375\" y2=\"292.9375\"/></a><!--MD5=[270fce915f116d4de14055a7c1d9a0f3]\n",
       "class E5--><a href=\"psysml:704c53cf-e737-43c7-aaa6-afd6aa41e73e\" target=\"_top\" title=\"psysml:704c53cf-e737-43c7-aaa6-afd6aa41e73e\" xlink:actuate=\"onRequest\" xlink:href=\"psysml:704c53cf-e737-43c7-aaa6-afd6aa41e73e\" xlink:show=\"new\" xlink:title=\"psysml:704c53cf-e737-43c7-aaa6-afd6aa41e73e\" xlink:type=\"simple\"><rect fill=\"#FEFECE\" filter=\"url(#f1tzflyx8hoobn)\" height=\"45.9375\" id=\"E5\" rx=\"10\" ry=\"10\" style=\"stroke: #A80036; stroke-width: 1.5;\" width=\"104\" x=\"109\" y=\"41\"/><ellipse cx=\"124\" cy=\"59.9688\" fill=\"#FFA500\" rx=\"11\" ry=\"11\" style=\"stroke: #A80036; stroke-width: 1.0;\"/><path d=\"M119.875,61.8906 L119.875,54.0781 L122.3281,54.0781 L122.3281,62.5156 Q122.3281,63.4375 122.7969,63.9688 Q123.2813,64.5 124.1094,64.5 Q124.9531,64.5 125.4219,63.9688 Q125.8906,63.4375 125.8906,62.5156 L125.8906,54.0781 L128.3438,54.0781 L128.3438,61.8906 Q128.3438,64.4219 127.3438,65.5625 Q126.3438,66.7031 124.1094,66.7031 Q121.8906,66.7031 120.875,65.5625 Q119.875,64.4219 119.875,61.8906 Z \"/><text fill=\"#000000\" font-family=\"sans-serif\" font-size=\"12\" font-style=\"italic\" lengthAdjust=\"spacingAndGlyphs\" textLength=\"53\" x=\"147.5\" y=\"57.1387\">«action»</text><text fill=\"#000000\" font-family=\"sans-serif\" font-size=\"12\" lengthAdjust=\"spacingAndGlyphs\" textLength=\"72\" x=\"138\" y=\"71.1074\">takePicture</text><line style=\"stroke: #A80036; stroke-width: 1.5;\" x1=\"110\" x2=\"212\" y1=\"78.9375\" y2=\"78.9375\"/></a><!--MD5=[60a26617385b1d2d0262a64233df1f8d]\n",
       "class E6--><a href=\"psysml:247459c4-dc1c-41f3-9bbd-2210d0a14144\" target=\"_top\" title=\"psysml:247459c4-dc1c-41f3-9bbd-2210d0a14144\" xlink:actuate=\"onRequest\" xlink:href=\"psysml:247459c4-dc1c-41f3-9bbd-2210d0a14144\" xlink:show=\"new\" xlink:title=\"psysml:247459c4-dc1c-41f3-9bbd-2210d0a14144\" xlink:type=\"simple\"><rect fill=\"#FEFECE\" filter=\"url(#f1tzflyx8hoobn)\" height=\"45.9375\" id=\"E6\" rx=\"10\" ry=\"10\" style=\"stroke: #A80036; stroke-width: 1.5;\" width=\"111\" x=\"31.5\" y=\"148\"/><ellipse cx=\"46.5\" cy=\"166.9688\" fill=\"#FFA500\" rx=\"11\" ry=\"11\" style=\"stroke: #A80036; stroke-width: 1.0;\"/><path d=\"M42.375,168.8906 L42.375,161.0781 L44.8281,161.0781 L44.8281,169.5156 Q44.8281,170.4375 45.2969,170.9688 Q45.7813,171.5 46.6094,171.5 Q47.4531,171.5 47.9219,170.9688 Q48.3906,170.4375 48.3906,169.5156 L48.3906,161.0781 L50.8438,161.0781 L50.8438,168.8906 Q50.8438,171.4219 49.8438,172.5625 Q48.8438,173.7031 46.6094,173.7031 Q44.3906,173.7031 43.375,172.5625 Q42.375,171.4219 42.375,168.8906 Z \"/><text fill=\"#000000\" font-family=\"sans-serif\" font-size=\"12\" font-style=\"italic\" lengthAdjust=\"spacingAndGlyphs\" textLength=\"53\" x=\"73.5\" y=\"164.1387\">«action»</text><text fill=\"#000000\" font-family=\"sans-serif\" font-size=\"12\" lengthAdjust=\"spacingAndGlyphs\" textLength=\"79\" x=\"60.5\" y=\"178.1074\">focus: Focus</text><line style=\"stroke: #A80036; stroke-width: 1.5;\" x1=\"32.5\" x2=\"141.5\" y1=\"185.9375\" y2=\"185.9375\"/></a><!--MD5=[2156ba9850f5573cc1fc38a6a4b2f02b]\n",
       "class E7--><a href=\"psysml:d7e0c4ce-9a2d-4e4d-8f17-58d415aecc73\" target=\"_top\" title=\"psysml:d7e0c4ce-9a2d-4e4d-8f17-58d415aecc73\" xlink:actuate=\"onRequest\" xlink:href=\"psysml:d7e0c4ce-9a2d-4e4d-8f17-58d415aecc73\" xlink:show=\"new\" xlink:title=\"psysml:d7e0c4ce-9a2d-4e4d-8f17-58d415aecc73\" xlink:type=\"simple\"><rect fill=\"#FEFECE\" filter=\"url(#f1tzflyx8hoobn)\" height=\"45.9375\" id=\"E7\" rx=\"10\" ry=\"10\" style=\"stroke: #A80036; stroke-width: 1.5;\" width=\"113\" x=\"177.5\" y=\"148\"/><ellipse cx=\"192.5\" cy=\"166.9688\" fill=\"#FFA500\" rx=\"11\" ry=\"11\" style=\"stroke: #A80036; stroke-width: 1.0;\"/><path d=\"M188.375,168.8906 L188.375,161.0781 L190.8281,161.0781 L190.8281,169.5156 Q190.8281,170.4375 191.2969,170.9688 Q191.7813,171.5 192.6094,171.5 Q193.4531,171.5 193.9219,170.9688 Q194.3906,170.4375 194.3906,169.5156 L194.3906,161.0781 L196.8438,161.0781 L196.8438,168.8906 Q196.8438,171.4219 195.8438,172.5625 Q194.8438,173.7031 192.6094,173.7031 Q190.3906,173.7031 189.375,172.5625 Q188.375,171.4219 188.375,168.8906 Z \"/><text fill=\"#000000\" font-family=\"sans-serif\" font-size=\"12\" font-style=\"italic\" lengthAdjust=\"spacingAndGlyphs\" textLength=\"53\" x=\"220.5\" y=\"164.1387\">«action»</text><text fill=\"#000000\" font-family=\"sans-serif\" font-size=\"12\" lengthAdjust=\"spacingAndGlyphs\" textLength=\"81\" x=\"206.5\" y=\"178.1074\">shoot: Shoot</text><line style=\"stroke: #A80036; stroke-width: 1.5;\" x1=\"178.5\" x2=\"289.5\" y1=\"185.9375\" y2=\"185.9375\"/></a><!--MD5=[b900ca4392aad7a68aec1e9245e10ab9]\n",
       "reverse link E3 to E2--><a href=\"psysml:7285223f-23e3-4ded-a1a3-c8dbe746ff9d\" target=\"_top\" title=\"psysml:7285223f-23e3-4ded-a1a3-c8dbe746ff9d\" xlink:actuate=\"onRequest\" xlink:href=\"psysml:7285223f-23e3-4ded-a1a3-c8dbe746ff9d\" xlink:show=\"new\" xlink:title=\"psysml:7285223f-23e3-4ded-a1a3-c8dbe746ff9d\" xlink:type=\"simple\"><path d=\"M104.76,313.15 C113.82,334.11 125.09,360.18 132.63,377.64 \" fill=\"none\" id=\"E3&lt;-E2\" style=\"stroke: #A80036; stroke-width: 1.0;\"/><polygon fill=\"#FFFFFF\" points=\"99.59,301.19,98.2964,308.2841,104.3472,312.2067,105.6409,305.1126,99.59,301.19\" style=\"stroke: #A80036; stroke-width: 1.0;\"/><text fill=\"#000000\" font-family=\"sans-serif\" font-size=\"13\" lengthAdjust=\"spacingAndGlyphs\" textLength=\"22\" x=\"119\" y=\"344.0669\">xrsl</text></a><!--MD5=[ddeed8deb2209213b62e6cfabaa108b2]\n",
       "reverse link E4 to E2--><a href=\"psysml:3f6601e8-74ad-4acc-b654-2e93fe2ad4c3\" target=\"_top\" title=\"psysml:3f6601e8-74ad-4acc-b654-2e93fe2ad4c3\" xlink:actuate=\"onRequest\" xlink:href=\"psysml:3f6601e8-74ad-4acc-b654-2e93fe2ad4c3\" xlink:show=\"new\" xlink:title=\"psysml:3f6601e8-74ad-4acc-b654-2e93fe2ad4c3\" xlink:type=\"simple\"><path d=\"M206.8,311.68 C190.45,332.88 169.71,359.77 155.93,377.64 \" fill=\"none\" id=\"E4&lt;-E2\" style=\"stroke: #A80036; stroke-width: 1.0;\"/><polygon fill=\"#FFFFFF\" points=\"214.88,301.19,208.0485,303.4987,207.552,310.6927,214.3836,308.384,214.88,301.19\" style=\"stroke: #A80036; stroke-width: 1.0;\"/><text fill=\"#000000\" font-family=\"sans-serif\" font-size=\"13\" lengthAdjust=\"spacingAndGlyphs\" textLength=\"18\" x=\"190\" y=\"344.0669\">xsf</text></a><!--MD5=[85d356282659285ab4b2cfe2f634dd2b]\n",
       "reverse link E5 to E6--><a href=\"psysml:b27ee466-0f4c-4005-a5ef-b2dd2df76771\" target=\"_top\" title=\"psysml:b27ee466-0f4c-4005-a5ef-b2dd2df76771\" xlink:actuate=\"onRequest\" xlink:href=\"psysml:b27ee466-0f4c-4005-a5ef-b2dd2df76771\" xlink:show=\"new\" xlink:title=\"psysml:b27ee466-0f4c-4005-a5ef-b2dd2df76771\" xlink:type=\"simple\"><path d=\"M137.96,97.68 C126.52,113.92 112.99,133.12 102.75,147.66 \" fill=\"none\" id=\"E5&lt;-E6\" style=\"stroke: #A80036; stroke-width: 1.0;\"/><polygon fill=\"#A80036\" points=\"145.49,87.01,138.7648,89.6122,138.5802,96.8209,145.3054,94.2187,145.49,87.01\" style=\"stroke: #A80036; stroke-width: 1.0;\"/><text fill=\"#000000\" font-family=\"sans-serif\" font-size=\"13\" lengthAdjust=\"spacingAndGlyphs\" textLength=\"8\" x=\"97.7609\" y=\"136.8492\">1</text></a><!--MD5=[a717450b82c80b9240a525fa862496af]\n",
       "link E6 to E3--><a href=\"psysml:5a2a5603-bc94-4298-a763-49fe520ca5bc\" target=\"_top\" title=\"psysml:5a2a5603-bc94-4298-a763-49fe520ca5bc\" xlink:actuate=\"onRequest\" xlink:href=\"psysml:5a2a5603-bc94-4298-a763-49fe520ca5bc\" xlink:show=\"new\" xlink:title=\"psysml:5a2a5603-bc94-4298-a763-49fe520ca5bc\" xlink:type=\"simple\"><path d=\"M87.63,194.01 C87.96,205.69 88.38,220.46 88.78,234.28 \" fill=\"none\" id=\"E6-&gt;E3\" style=\"stroke: #A80036; stroke-width: 1.0;\"/><polygon fill=\"#FFFFFF\" points=\"89.36,254.66,81.8202,235.8677,95.8145,235.4678,89.36,254.66\" style=\"stroke: #A80036; stroke-width: 1.0;\"/><ellipse cx=\"83.6566\" cy=\"230.1129\" fill=\"#A80036\" rx=\"2\" ry=\"2\" style=\"stroke: #A80036; stroke-width: 1.0;\"/><ellipse cx=\"93.6525\" cy=\"229.8273\" fill=\"#A80036\" rx=\"2\" ry=\"2\" style=\"stroke: #A80036; stroke-width: 1.0;\"/></a><!--MD5=[452b418e7f8a40397a49b8c0a78acc5b]\n",
       "reverse link E5 to E7--><a href=\"psysml:aaa4df86-e408-4ec8-a2fe-61e5d0511306\" target=\"_top\" title=\"psysml:aaa4df86-e408-4ec8-a2fe-61e5d0511306\" xlink:actuate=\"onRequest\" xlink:href=\"psysml:aaa4df86-e408-4ec8-a2fe-61e5d0511306\" xlink:show=\"new\" xlink:title=\"psysml:aaa4df86-e408-4ec8-a2fe-61e5d0511306\" xlink:type=\"simple\"><path d=\"M184.05,98.15 C195.27,114.29 208.46,133.26 218.47,147.66 \" fill=\"none\" id=\"E5&lt;-E7\" style=\"stroke: #A80036; stroke-width: 1.0;\"/><polygon fill=\"#A80036\" points=\"176.3,87.01,176.4385,94.2198,183.147,96.8649,183.0085,89.6551,176.3,87.01\" style=\"stroke: #A80036; stroke-width: 1.0;\"/><text fill=\"#000000\" font-family=\"sans-serif\" font-size=\"13\" lengthAdjust=\"spacingAndGlyphs\" textLength=\"8\" x=\"205.4654\" y=\"136.8492\">1</text></a><!--MD5=[6bdd27f9905911a7e892a3dc65cf6b7c]\n",
       "link E7 to E4--><a href=\"psysml:f48d95ee-d7b3-4518-8228-9030b5bbf5ab\" target=\"_top\" title=\"psysml:f48d95ee-d7b3-4518-8228-9030b5bbf5ab\" xlink:actuate=\"onRequest\" xlink:href=\"psysml:f48d95ee-d7b3-4518-8228-9030b5bbf5ab\" xlink:show=\"new\" xlink:title=\"psysml:f48d95ee-d7b3-4518-8228-9030b5bbf5ab\" xlink:type=\"simple\"><path d=\"M233.58,194.01 C233.36,205.69 233.08,220.46 232.81,234.28 \" fill=\"none\" id=\"E7-&gt;E4\" style=\"stroke: #A80036; stroke-width: 1.0;\"/><polygon fill=\"#FFFFFF\" points=\"232.43,254.66,225.784,235.5333,239.7816,235.7933,232.43,254.66\" style=\"stroke: #A80036; stroke-width: 1.0;\"/><ellipse cx=\"227.8895\" cy=\"229.8714\" fill=\"#A80036\" rx=\"2\" ry=\"2\" style=\"stroke: #A80036; stroke-width: 1.0;\"/><ellipse cx=\"237.8878\" cy=\"230.0571\" fill=\"#A80036\" rx=\"2\" ry=\"2\" style=\"stroke: #A80036; stroke-width: 1.0;\"/></a><!--MD5=[73795d972eb9f59a802e9607f04acf87]\n",
       "@startuml\r\n",
       " \r\n",
       "package \"PictureTaking\" as E1  [[psysml:14e6fe4c-a4d9-4c34-a316-9cbabb101fb1 ]]  {\r\n",
       "comp def \"Exposure\" as E2  << (B,green) >> [[psysml:9a8bab7b-7078-4a6b-add3-8a1328b0c2d6 ]] {\r\n",
       "}\r\n",
       "comp def \"Focus\" as E3  <<(D,brown)action def>> [[psysml:44676d48-2ba6-47f9-b761-758fcbe31dbd ]] {\r\n",
       "}\r\n",
       "comp def \"Shoot\" as E4  <<(D,brown)action def>> [[psysml:d9adf687-8d42-42d3-b1b5-8b6413ee0fad ]] {\r\n",
       "}\r\n",
       "comp usage \"takePicture\" as E5  <<(U,orange)action>> [[psysml:704c53cf-e737-43c7-aaa6-afd6aa41e73e ]] {\r\n",
       "}\r\n",
       "comp usage \"focus: Focus\" as E6  <<(U,orange)action>> [[psysml:247459c4-dc1c-41f3-9bbd-2210d0a14144 ]] {\r\n",
       "}\r\n",
       "comp usage \"shoot: Shoot\" as E7  <<(U,orange)action>> [[psysml:d7e0c4ce-9a2d-4e4d-8f17-58d415aecc73 ]] {\r\n",
       "}\r\n",
       "E3 o- - E2 [[psysml:7285223f-23e3-4ded-a1a3-c8dbe746ff9d ]] : xrsl\r\n",
       "E4 o- - E2 [[psysml:3f6601e8-74ad-4acc-b654-2e93fe2ad4c3 ]] : xsf\r\n",
       "E5 *- - \"1\"E6 [[psysml:b27ee466-0f4c-4005-a5ef-b2dd2df76771 ]] \r\n",
       "E6 - -:|> E3 [[psysml:5a2a5603-bc94-4298-a763-49fe520ca5bc ]] \r\n",
       "E5 *- - \"1\"E7 [[psysml:aaa4df86-e408-4ec8-a2fe-61e5d0511306 ]] \r\n",
       "E7 - -:|> E4 [[psysml:f48d95ee-d7b3-4518-8228-9030b5bbf5ab ]] \r\n",
       "}\r\n",
       "@enduml\r\n",
       "\n",
       "PlantUML version 1.2020.13(Sat Jun 13 12:26:38 UTC 2020)\n",
       "(EPL source distribution)\n",
       "Java Runtime: OpenJDK Runtime Environment\n",
       "JVM: OpenJDK 64-Bit Server VM\n",
       "Default Encoding: UTF-8\n",
       "Language: en\n",
       "Country: null\n",
       "--></g></svg>"
      ]
     },
     "execution_count": 31,
     "metadata": {},
     "output_type": "execute_result"
    }
   ],
   "source": [
    "%viz --style=\"PLANTUML\" --view=\"Tree\" \"PictureTaking\""
   ]
  },
  {
   "cell_type": "code",
   "execution_count": 32,
   "id": "aeddc783",
   "metadata": {
    "execution": {
     "iopub.execute_input": "2021-04-20T07:32:03.336228Z",
     "iopub.status.busy": "2021-04-20T07:32:03.335101Z",
     "iopub.status.idle": "2021-04-20T07:32:03.440793Z",
     "shell.execute_reply": "2021-04-20T07:32:03.440044Z"
    }
   },
   "outputs": [
    {
     "data": {
      "image/svg+xml": [
       "<?xml version=\"1.0\" encoding=\"UTF-8\" standalone=\"no\"?><svg xmlns=\"http://www.w3.org/2000/svg\" xmlns:xlink=\"http://www.w3.org/1999/xlink\" contentScriptType=\"application/ecmascript\" contentStyleType=\"text/css\" height=\"303px\" preserveAspectRatio=\"none\" style=\"width:603px;height:303px;background:#000000;\" version=\"1.1\" viewBox=\"0 0 603 303\" width=\"603px\" zoomAndPan=\"magnify\"><defs/><g><rect fill=\"#000C0E\" height=\"1\" style=\"stroke: #000C0E; stroke-width: 1.0;\" width=\"1\" x=\"0\" y=\"0\"/><rect fill=\"#FFFFFF\" height=\"205.5625\" style=\"stroke: #FFFFFF; stroke-width: 1.0;\" width=\"602\" x=\"0\" y=\"0\"/><text fill=\"#000000\" font-family=\"sans-serif\" font-size=\"12\" font-weight=\"bold\" lengthAdjust=\"spacingAndGlyphs\" textLength=\"159\" x=\"5\" y=\"16.1387\">Welcome to PlantUML!</text><text fill=\"#000000\" font-family=\"sans-serif\" font-size=\"12\" lengthAdjust=\"spacingAndGlyphs\" textLength=\"0\" x=\"9\" y=\"30.1074\"/><text fill=\"#000000\" font-family=\"sans-serif\" font-size=\"12\" lengthAdjust=\"spacingAndGlyphs\" textLength=\"293\" x=\"5\" y=\"44.0762\">If you use this software, you accept its license.</text><text fill=\"#000000\" font-family=\"sans-serif\" font-size=\"12\" lengthAdjust=\"spacingAndGlyphs\" textLength=\"107\" x=\"5\" y=\"58.0449\">(details by typing</text><text fill=\"#000000\" font-family=\"monospace\" font-size=\"12\" lengthAdjust=\"spacingAndGlyphs\" textLength=\"49\" x=\"116\" y=\"58.0449\">license</text><text fill=\"#000000\" font-family=\"sans-serif\" font-size=\"12\" lengthAdjust=\"spacingAndGlyphs\" textLength=\"56\" x=\"169\" y=\"58.0449\">keyword)</text><text fill=\"#000000\" font-family=\"sans-serif\" font-size=\"12\" lengthAdjust=\"spacingAndGlyphs\" textLength=\"0\" x=\"9\" y=\"72.0137\"/><text fill=\"#000000\" font-family=\"sans-serif\" font-size=\"12\" lengthAdjust=\"spacingAndGlyphs\" textLength=\"283\" x=\"5\" y=\"85.9824\">You can start with a simple UML Diagram like:</text><text fill=\"#000000\" font-family=\"sans-serif\" font-size=\"12\" lengthAdjust=\"spacingAndGlyphs\" textLength=\"0\" x=\"9\" y=\"99.9512\"/><text fill=\"#000000\" font-family=\"monospace\" font-size=\"12\" lengthAdjust=\"spacingAndGlyphs\" textLength=\"119\" x=\"5\" y=\"113.9199\">Bob-&gt;Alice: Hello</text><text fill=\"#000000\" font-family=\"sans-serif\" font-size=\"12\" lengthAdjust=\"spacingAndGlyphs\" textLength=\"0\" x=\"9\" y=\"127.8887\"/><text fill=\"#000000\" font-family=\"sans-serif\" font-size=\"12\" lengthAdjust=\"spacingAndGlyphs\" textLength=\"14\" x=\"5\" y=\"141.8574\">Or</text><text fill=\"#000000\" font-family=\"sans-serif\" font-size=\"12\" lengthAdjust=\"spacingAndGlyphs\" textLength=\"0\" x=\"9\" y=\"155.8262\"/><text fill=\"#000000\" font-family=\"monospace\" font-size=\"12\" lengthAdjust=\"spacingAndGlyphs\" textLength=\"91\" x=\"5\" y=\"169.7949\">class Example</text><text fill=\"#000000\" font-family=\"sans-serif\" font-size=\"12\" lengthAdjust=\"spacingAndGlyphs\" textLength=\"0\" x=\"9\" y=\"183.7637\"/><text fill=\"#000000\" font-family=\"sans-serif\" font-size=\"12\" lengthAdjust=\"spacingAndGlyphs\" textLength=\"349\" x=\"5\" y=\"197.7324\">You will find more information about PlantUML syntax on</text><text fill=\"#000000\" font-family=\"sans-serif\" font-size=\"12\" lengthAdjust=\"spacingAndGlyphs\" text-decoration=\"underline\" textLength=\"129\" x=\"358\" y=\"197.7324\">https://plantuml.com</text><image height=\"71\" width=\"80\" x=\"516\" xlink:href=\"data:image/png;base64,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\" y=\"6\"/><rect fill=\"#000000\" height=\"96.4844\" style=\"stroke: #000000; stroke-width: 1.0;\" width=\"602\" x=\"0\" y=\"205.5625\"/><rect fill=\"#33FF02\" height=\"21.2969\" style=\"stroke: #33FF02; stroke-width: 1.0;\" width=\"170\" x=\"5\" y=\"210.5625\"/><text fill=\"#000000\" font-family=\"sans-serif\" font-size=\"14\" font-weight=\"bold\" lengthAdjust=\"spacingAndGlyphs\" textLength=\"168\" x=\"6\" y=\"225.5625\">[From string (line 2) ]</text><text fill=\"#33FF02\" font-family=\"sans-serif\" font-size=\"14\" font-weight=\"bold\" lengthAdjust=\"spacingAndGlyphs\" textLength=\"0\" x=\"10\" y=\"245.8594\"/><text fill=\"#33FF02\" font-family=\"sans-serif\" font-size=\"14\" font-weight=\"bold\" lengthAdjust=\"spacingAndGlyphs\" textLength=\"79\" x=\"5\" y=\"262.1563\">@startuml</text><text fill=\"#33FF02\" font-family=\"sans-serif\" font-size=\"14\" font-weight=\"bold\" lengthAdjust=\"spacingAndGlyphs\" textLength=\"0\" x=\"10\" y=\"278.4531\"/><text fill=\"#FF0000\" font-family=\"sans-serif\" font-size=\"14\" font-weight=\"bold\" lengthAdjust=\"spacingAndGlyphs\" textLength=\"142\" x=\"10\" y=\"294.75\">Empty description</text><!--MD5=[f59edd8218d337f74d0c332fc6737304]\n",
       "@startuml\r\n",
       " \r\n",
       "@enduml\r\n",
       "\n",
       "PlantUML version 1.2020.13(Sat Jun 13 12:26:38 UTC 2020)\n",
       "(EPL source distribution)\n",
       "Java Runtime: OpenJDK Runtime Environment\n",
       "JVM: OpenJDK 64-Bit Server VM\n",
       "Default Encoding: UTF-8\n",
       "Language: en\n",
       "Country: null\n",
       "--></g></svg>"
      ]
     },
     "execution_count": 32,
     "metadata": {},
     "output_type": "execute_result"
    }
   ],
   "source": [
    "%viz --style=\"PLANTUML\" --view=\"State\" \"PictureTaking\""
   ]
  },
  {
   "cell_type": "code",
   "execution_count": 33,
   "id": "27349d43",
   "metadata": {
    "execution": {
     "iopub.execute_input": "2021-04-20T07:32:03.491294Z",
     "iopub.status.busy": "2021-04-20T07:32:03.490588Z",
     "iopub.status.idle": "2021-04-20T07:32:03.563412Z",
     "shell.execute_reply": "2021-04-20T07:32:03.560630Z"
    }
   },
   "outputs": [
    {
     "data": {
      "image/svg+xml": [
       "<?xml version=\"1.0\" encoding=\"UTF-8\" standalone=\"no\"?><svg xmlns=\"http://www.w3.org/2000/svg\" xmlns:xlink=\"http://www.w3.org/1999/xlink\" contentScriptType=\"application/ecmascript\" contentStyleType=\"text/css\" height=\"328px\" preserveAspectRatio=\"none\" style=\"width:730px;height:328px;\" version=\"1.1\" viewBox=\"0 0 730 328\" width=\"730px\" zoomAndPan=\"magnify\"><defs><filter height=\"300%\" id=\"f1xretj6xodmop\" width=\"300%\" x=\"-1\" y=\"-1\"><feGaussianBlur result=\"blurOut\" stdDeviation=\"2.0\"/><feColorMatrix in=\"blurOut\" result=\"blurOut2\" type=\"matrix\" values=\"0 0 0 0 0 0 0 0 0 0 0 0 0 0 0 0 0 0 .4 0\"/><feOffset dx=\"4.0\" dy=\"4.0\" in=\"blurOut2\" result=\"blurOut3\"/><feBlend in=\"SourceGraphic\" in2=\"blurOut3\" mode=\"normal\"/></filter></defs><g><!--MD5=[fbc87193dbaf4d95561dea2c320d4a47]\n",
       "cluster E1--><a href=\"psysml:14e6fe4c-a4d9-4c34-a316-9cbabb101fb1\" target=\"_top\" title=\"psysml:14e6fe4c-a4d9-4c34-a316-9cbabb101fb1\" xlink:actuate=\"onRequest\" xlink:href=\"psysml:14e6fe4c-a4d9-4c34-a316-9cbabb101fb1\" xlink:show=\"new\" xlink:title=\"psysml:14e6fe4c-a4d9-4c34-a316-9cbabb101fb1\" xlink:type=\"simple\"><polygon fill=\"#FFFFFF\" filter=\"url(#f1xretj6xodmop)\" points=\"16,6,130,6,137,28.2969,708,28.2969,708,316.5,16,316.5,16,6\" style=\"stroke: #000000; stroke-width: 1.5;\"/><line style=\"stroke: #000000; stroke-width: 1.5;\" x1=\"16\" x2=\"137\" y1=\"28.2969\" y2=\"28.2969\"/><text fill=\"#000000\" font-family=\"sans-serif\" font-size=\"14\" font-weight=\"bold\" lengthAdjust=\"spacingAndGlyphs\" textLength=\"108\" x=\"20\" y=\"20.9951\">PictureTaking</text></a><!--MD5=[d5e69f78d87373223dbae638b30a9c99]\n",
       "cluster E3--><a href=\"psysml:44676d48-2ba6-47f9-b761-758fcbe31dbd\" target=\"_top\" title=\"psysml:44676d48-2ba6-47f9-b761-758fcbe31dbd\" xlink:actuate=\"onRequest\" xlink:href=\"psysml:44676d48-2ba6-47f9-b761-758fcbe31dbd\" xlink:show=\"new\" xlink:title=\"psysml:44676d48-2ba6-47f9-b761-758fcbe31dbd\" xlink:type=\"simple\"><rect fill=\"#FFFFFF\" filter=\"url(#f1xretj6xodmop)\" height=\"134.5\" id=\"E3\" style=\"stroke: #A80036; stroke-width: 1.5;\" width=\"134\" x=\"558\" y=\"100\"/><rect fill=\"#FEFECE\" height=\"37.9375\" style=\"stroke: #A80036; stroke-width: 1.5;\" width=\"134\" x=\"558\" y=\"100\"/><text fill=\"#000000\" font-family=\"sans-serif\" font-size=\"12\" font-style=\"italic\" lengthAdjust=\"spacingAndGlyphs\" textLength=\"77\" x=\"586.5\" y=\"116.1387\">«action def»</text><text fill=\"#000000\" font-family=\"sans-serif\" font-size=\"12\" lengthAdjust=\"spacingAndGlyphs\" textLength=\"37\" x=\"606.5\" y=\"130.1074\">Focus</text></a><!--MD5=[de5ec2e2e8f62f467e546659f5068c88]\n",
       "cluster E5--><a href=\"psysml:d9adf687-8d42-42d3-b1b5-8b6413ee0fad\" target=\"_top\" title=\"psysml:d9adf687-8d42-42d3-b1b5-8b6413ee0fad\" xlink:actuate=\"onRequest\" xlink:href=\"psysml:d9adf687-8d42-42d3-b1b5-8b6413ee0fad\" xlink:show=\"new\" xlink:title=\"psysml:d9adf687-8d42-42d3-b1b5-8b6413ee0fad\" xlink:type=\"simple\"><rect fill=\"#FFFFFF\" filter=\"url(#f1xretj6xodmop)\" height=\"87\" id=\"E5\" style=\"stroke: #A80036; stroke-width: 1.5;\" width=\"134\" x=\"416\" y=\"133.5\"/><rect fill=\"#FEFECE\" height=\"37.9375\" style=\"stroke: #A80036; stroke-width: 1.5;\" width=\"134\" x=\"416\" y=\"133.5\"/><text fill=\"#000000\" font-family=\"sans-serif\" font-size=\"12\" font-style=\"italic\" lengthAdjust=\"spacingAndGlyphs\" textLength=\"77\" x=\"444.5\" y=\"149.6387\">«action def»</text><text fill=\"#000000\" font-family=\"sans-serif\" font-size=\"12\" lengthAdjust=\"spacingAndGlyphs\" textLength=\"37\" x=\"464.5\" y=\"163.6074\">Shoot</text></a><!--MD5=[168fadf3d0c3fd93dd5d6da1b1d7ab76]\n",
       "cluster E7--><a href=\"psysml:704c53cf-e737-43c7-aaa6-afd6aa41e73e\" target=\"_top\" title=\"psysml:704c53cf-e737-43c7-aaa6-afd6aa41e73e\" xlink:actuate=\"onRequest\" xlink:href=\"psysml:704c53cf-e737-43c7-aaa6-afd6aa41e73e\" xlink:show=\"new\" xlink:title=\"psysml:704c53cf-e737-43c7-aaa6-afd6aa41e73e\" xlink:type=\"simple\"><rect fill=\"#FFFFFF\" filter=\"url(#f1xretj6xodmop)\" height=\"243.5\" id=\"E7\" rx=\"10\" ry=\"10\" style=\"stroke: #A80036; stroke-width: 1.5;\" width=\"256\" x=\"144\" y=\"49\"/><rect fill=\"#FEFECE\" height=\"37.9375\" rx=\"10\" ry=\"10\" style=\"stroke: #FEFECE; stroke-width: 1.5;\" width=\"256\" x=\"144\" y=\"49\"/><rect fill=\"#FEFECE\" height=\"10\" style=\"stroke: #FEFECE; stroke-width: 1.5;\" width=\"256\" x=\"144\" y=\"76.9375\"/><rect fill=\"none\" height=\"243.5\" id=\"E7\" rx=\"10\" ry=\"10\" style=\"stroke: #A80036; stroke-width: 1.5;\" width=\"256\" x=\"144\" y=\"49\"/><text fill=\"#000000\" font-family=\"sans-serif\" font-size=\"12\" font-style=\"italic\" lengthAdjust=\"spacingAndGlyphs\" textLength=\"53\" x=\"245.5\" y=\"65.1387\">«action»</text><text fill=\"#000000\" font-family=\"sans-serif\" font-size=\"12\" lengthAdjust=\"spacingAndGlyphs\" textLength=\"72\" x=\"236\" y=\"79.1074\">takePicture</text><line style=\"stroke: #A80036; stroke-width: 1.0;\" x1=\"144\" x2=\"400\" y1=\"86.9375\" y2=\"86.9375\"/></a><!--MD5=[55dfccfc6c49c2d10cd1bd2211a6c90c]\n",
       "cluster E8--><a href=\"psysml:247459c4-dc1c-41f3-9bbd-2210d0a14144\" target=\"_top\" title=\"psysml:247459c4-dc1c-41f3-9bbd-2210d0a14144\" xlink:actuate=\"onRequest\" xlink:href=\"psysml:247459c4-dc1c-41f3-9bbd-2210d0a14144\" xlink:show=\"new\" xlink:title=\"psysml:247459c4-dc1c-41f3-9bbd-2210d0a14144\" xlink:type=\"simple\"><rect fill=\"#FFFFFF\" filter=\"url(#f1xretj6xodmop)\" height=\"134.5\" id=\"E8\" rx=\"10\" ry=\"10\" style=\"stroke: #A80036; stroke-width: 1.5;\" width=\"83\" x=\"287\" y=\"100\"/><rect fill=\"#FEFECE\" height=\"37.9375\" rx=\"10\" ry=\"10\" style=\"stroke: #FEFECE; stroke-width: 1.5;\" width=\"83\" x=\"287\" y=\"100\"/><rect fill=\"#FEFECE\" height=\"10\" style=\"stroke: #FEFECE; stroke-width: 1.5;\" width=\"83\" x=\"287\" y=\"127.9375\"/><rect fill=\"none\" height=\"134.5\" id=\"E8\" rx=\"10\" ry=\"10\" style=\"stroke: #A80036; stroke-width: 1.5;\" width=\"83\" x=\"287\" y=\"100\"/><text fill=\"#000000\" font-family=\"sans-serif\" font-size=\"12\" font-style=\"italic\" lengthAdjust=\"spacingAndGlyphs\" textLength=\"53\" x=\"302\" y=\"116.1387\">«action»</text><text fill=\"#000000\" font-family=\"sans-serif\" font-size=\"12\" lengthAdjust=\"spacingAndGlyphs\" textLength=\"34\" x=\"311.5\" y=\"130.1074\">focus</text><line style=\"stroke: #A80036; stroke-width: 1.0;\" x1=\"287\" x2=\"370\" y1=\"137.9375\" y2=\"137.9375\"/></a><!--MD5=[917b9dd0c7eca3ee5f47219d1a84c0ad]\n",
       "cluster E11--><a href=\"psysml:d7e0c4ce-9a2d-4e4d-8f17-58d415aecc73\" target=\"_top\" title=\"psysml:d7e0c4ce-9a2d-4e4d-8f17-58d415aecc73\" xlink:actuate=\"onRequest\" xlink:href=\"psysml:d7e0c4ce-9a2d-4e4d-8f17-58d415aecc73\" xlink:show=\"new\" xlink:title=\"psysml:d7e0c4ce-9a2d-4e4d-8f17-58d415aecc73\" xlink:type=\"simple\"><rect fill=\"#FFFFFF\" filter=\"url(#f1xretj6xodmop)\" height=\"129\" id=\"E11\" rx=\"10\" ry=\"10\" style=\"stroke: #A80036; stroke-width: 1.5;\" width=\"74\" x=\"194\" y=\"133.5\"/><rect fill=\"#FEFECE\" height=\"37.9375\" rx=\"10\" ry=\"10\" style=\"stroke: #FEFECE; stroke-width: 1.5;\" width=\"74\" x=\"194\" y=\"133.5\"/><rect fill=\"#FEFECE\" height=\"10\" style=\"stroke: #FEFECE; stroke-width: 1.5;\" width=\"74\" x=\"194\" y=\"161.4375\"/><rect fill=\"none\" height=\"129\" id=\"E11\" rx=\"10\" ry=\"10\" style=\"stroke: #A80036; stroke-width: 1.5;\" width=\"74\" x=\"194\" y=\"133.5\"/><text fill=\"#000000\" font-family=\"sans-serif\" font-size=\"12\" font-style=\"italic\" lengthAdjust=\"spacingAndGlyphs\" textLength=\"53\" x=\"204.5\" y=\"149.6387\">«action»</text><text fill=\"#000000\" font-family=\"sans-serif\" font-size=\"12\" lengthAdjust=\"spacingAndGlyphs\" textLength=\"36\" x=\"213\" y=\"163.6074\">shoot</text><line style=\"stroke: #A80036; stroke-width: 1.0;\" x1=\"194\" x2=\"268\" y1=\"171.4375\" y2=\"171.4375\"/></a><g id=\"E1.E2\"><a href=\"psysml:9a8bab7b-7078-4a6b-add3-8a1328b0c2d6\" target=\"_top\" title=\"psysml:9a8bab7b-7078-4a6b-add3-8a1328b0c2d6\" xlink:actuate=\"onRequest\" xlink:href=\"psysml:9a8bab7b-7078-4a6b-add3-8a1328b0c2d6\" xlink:show=\"new\" xlink:title=\"psysml:9a8bab7b-7078-4a6b-add3-8a1328b0c2d6\" xlink:type=\"simple\"><rect fill=\"#FEFECE\" filter=\"url(#f1xretj6xodmop)\" height=\"40\" id=\"E2\" style=\"stroke: #A80036; stroke-width: 1.5;\" width=\"95\" x=\"32.5\" y=\"113.5\"/><ellipse cx=\"49.75\" cy=\"129.5\" fill=\"#008000\" rx=\"11\" ry=\"11\" style=\"stroke: #A80036; stroke-width: 1.0;\"/><path d=\"M48.6563,129.875 L48.6563,133.5469 L50.2813,133.5469 Q51.4531,133.5469 51.9219,133.1563 Q52.3906,132.75 52.3906,131.75 Q52.3906,130.75 51.8906,130.3125 Q51.4063,129.875 50.2813,129.875 L48.6563,129.875 Z M48.6563,125.0469 L48.6563,127.9219 L50.2813,127.9219 Q51.2031,127.9219 51.5938,127.5938 Q52,127.25 52,126.5 Q52,125.7344 51.5938,125.3906 Q51.1875,125.0469 50.2813,125.0469 L48.6563,125.0469 Z M46.2813,123.0938 L50.2813,123.0938 Q52.3438,123.0938 53.3906,123.875 Q54.4375,124.6563 54.4375,126.2188 Q54.4375,127.4219 53.8125,128.0938 Q53.2031,128.7656 52.0156,128.875 Q53.4375,129.0156 54.1563,129.8281 Q54.875,130.6406 54.875,132.0938 Q54.875,133.8906 53.7969,134.7031 Q52.7188,135.5 50.2813,135.5 L46.2813,135.5 L46.2813,123.0938 Z \"/><text fill=\"#000000\" font-family=\"sans-serif\" font-size=\"12\" lengthAdjust=\"spacingAndGlyphs\" textLength=\"58\" x=\"64.25\" y=\"133.6543\">Exposure</text></a></g><text fill=\"#000000\" font-family=\"sans-serif\" font-size=\"14\" lengthAdjust=\"spacingAndGlyphs\" textLength=\"23\" x=\"613.5\" y=\"253.4951\">xrsl</text><rect fill=\"#A80036\" height=\"12\" style=\"stroke: #FEFECE; stroke-width: 1.5;\" width=\"12\" x=\"619\" y=\"228.5\"/><text fill=\"#000000\" font-family=\"sans-serif\" font-size=\"14\" lengthAdjust=\"spacingAndGlyphs\" textLength=\"19\" x=\"473.5\" y=\"112.1982\">xsf</text><rect fill=\"#A80036\" height=\"12\" style=\"stroke: #FEFECE; stroke-width: 1.5;\" width=\"12\" x=\"477\" y=\"127.5\"/><text fill=\"#000000\" font-family=\"sans-serif\" font-size=\"14\" lengthAdjust=\"spacingAndGlyphs\" textLength=\"48\" x=\"281\" y=\"253.4951\">$result</text><rect fill=\"#A80036\" height=\"12\" style=\"stroke: #FEFECE; stroke-width: 1.5;\" width=\"12\" x=\"299\" y=\"228.5\"/><text fill=\"#000000\" font-family=\"sans-serif\" font-size=\"14\" lengthAdjust=\"spacingAndGlyphs\" textLength=\"23\" x=\"340.5\" y=\"253.4951\">xrsl</text><rect fill=\"#A80036\" height=\"12\" style=\"stroke: #FEFECE; stroke-width: 1.5;\" width=\"12\" x=\"346\" y=\"228.5\"/><text fill=\"#000000\" font-family=\"sans-serif\" font-size=\"14\" lengthAdjust=\"spacingAndGlyphs\" textLength=\"48\" x=\"188\" y=\"281.4951\">$result</text><rect fill=\"#A80036\" height=\"12\" style=\"stroke: #FEFECE; stroke-width: 1.5;\" width=\"12\" x=\"206\" y=\"256.5\"/><text fill=\"#000000\" font-family=\"sans-serif\" font-size=\"14\" lengthAdjust=\"spacingAndGlyphs\" textLength=\"19\" x=\"204.5\" y=\"112.1982\">xsf</text><rect fill=\"#A80036\" height=\"12\" style=\"stroke: #FEFECE; stroke-width: 1.5;\" width=\"12\" x=\"208\" y=\"127.5\"/><!--MD5=[d82e135880c4b4cf97efe77f939aff52]\n",
       "@startuml\r\n",
       "skinparam ranksep 10\r\n",
       "skinparam rectangle {\r\n",
       " backgroundColor<<block>> LightGreen\r\n",
       "}\r\n",
       " \r\n",
       "package \"PictureTaking\" as E1  [[psysml:14e6fe4c-a4d9-4c34-a316-9cbabb101fb1 ]]  {\r\n",
       "rec def \"Exposure\" as E2  << (B,green) >> [[psysml:9a8bab7b-7078-4a6b-add3-8a1328b0c2d6 ]] {\r\n",
       "}\r\n",
       "rec def \"Focus\" as E3  <<(D,brown)action def>> [[psysml:44676d48-2ba6-47f9-b761-758fcbe31dbd ]] {\r\n",
       "portout \"xrsl\" as E4  [[psysml:7285223f-23e3-4ded-a1a3-c8dbe746ff9d ]] \r\n",
       "}\r\n",
       "\r\n",
       "rec def \"Shoot\" as E5  <<(D,brown)action def>> [[psysml:d9adf687-8d42-42d3-b1b5-8b6413ee0fad ]] {\r\n",
       "portin \"xsf\" as E6  [[psysml:3f6601e8-74ad-4acc-b654-2e93fe2ad4c3 ]] \r\n",
       "}\r\n",
       "\r\n",
       "rec usage \"takePicture\" as E7  <<(U,orange)action>> [[psysml:704c53cf-e737-43c7-aaa6-afd6aa41e73e ]] {\r\n",
       "rec usage \"focus\" as E8  <<(U,orange)action>> [[psysml:247459c4-dc1c-41f3-9bbd-2210d0a14144 ]] {\r\n",
       "portout \"$result\" as E9  [[psysml:d24c4944-7685-4e9e-b1e9-aa0857e67b68 ]] \r\n",
       "portout \"xrsl\" as E10  [[psysml:a9b63f0e-a7c1-4470-82ae-da9c74073d16 ]] \r\n",
       "}\r\n",
       "\r\n",
       "rec usage \"shoot\" as E11  <<(U,orange)action>> [[psysml:d7e0c4ce-9a2d-4e4d-8f17-58d415aecc73 ]] {\r\n",
       "portout \"$result\" as E12  [[psysml:edaf4370-9fef-4792-934f-b7a89f5913cc ]] \r\n",
       "portin \"xsf\" as E13  [[psysml:1ee0e316-c080-4a1b-aa8d-122e3ae24dab ]] \r\n",
       "}\r\n",
       "\r\n",
       "}\r\n",
       "\r\n",
       "}\r\n",
       "@enduml\r\n",
       "\n",
       "PlantUML version 1.2020.13(Sat Jun 13 12:26:38 UTC 2020)\n",
       "(EPL source distribution)\n",
       "Java Runtime: OpenJDK Runtime Environment\n",
       "JVM: OpenJDK 64-Bit Server VM\n",
       "Default Encoding: UTF-8\n",
       "Language: en\n",
       "Country: null\n",
       "--></g></svg>"
      ]
     },
     "execution_count": 33,
     "metadata": {},
     "output_type": "execute_result"
    }
   ],
   "source": [
    "%viz --style=\"PLANTUML\" --view=\"Interconnection\" \"PictureTaking\""
   ]
  },
  {
   "cell_type": "code",
   "execution_count": 34,
   "id": "e33c0a41",
   "metadata": {
    "execution": {
     "iopub.execute_input": "2021-04-20T07:32:03.612815Z",
     "iopub.status.busy": "2021-04-20T07:32:03.612211Z",
     "iopub.status.idle": "2021-04-20T07:32:03.670159Z",
     "shell.execute_reply": "2021-04-20T07:32:03.669821Z"
    }
   },
   "outputs": [
    {
     "data": {
      "image/svg+xml": [
       "<?xml version=\"1.0\" encoding=\"UTF-8\" standalone=\"no\"?><svg xmlns=\"http://www.w3.org/2000/svg\" xmlns:xlink=\"http://www.w3.org/1999/xlink\" contentScriptType=\"application/ecmascript\" contentStyleType=\"text/css\" height=\"267px\" preserveAspectRatio=\"none\" style=\"width:574px;height:267px;\" version=\"1.1\" viewBox=\"0 0 574 267\" width=\"574px\" zoomAndPan=\"magnify\"><defs><filter height=\"300%\" id=\"f4obtlgeymp4i\" width=\"300%\" x=\"-1\" y=\"-1\"><feGaussianBlur result=\"blurOut\" stdDeviation=\"2.0\"/><feColorMatrix in=\"blurOut\" result=\"blurOut2\" type=\"matrix\" values=\"0 0 0 0 0 0 0 0 0 0 0 0 0 0 0 0 0 0 .4 0\"/><feOffset dx=\"4.0\" dy=\"4.0\" in=\"blurOut2\" result=\"blurOut3\"/><feBlend in=\"SourceGraphic\" in2=\"blurOut3\" mode=\"normal\"/></filter></defs><g><!--MD5=[fbc87193dbaf4d95561dea2c320d4a47]\n",
       "cluster E1--><a href=\"psysml:44676d48-2ba6-47f9-b761-758fcbe31dbd\" target=\"_top\" title=\"psysml:44676d48-2ba6-47f9-b761-758fcbe31dbd\" xlink:actuate=\"onRequest\" xlink:href=\"psysml:44676d48-2ba6-47f9-b761-758fcbe31dbd\" xlink:show=\"new\" xlink:title=\"psysml:44676d48-2ba6-47f9-b761-758fcbe31dbd\" xlink:type=\"simple\"><rect fill=\"#FFFFFF\" filter=\"url(#f4obtlgeymp4i)\" height=\"132\" id=\"E1\" style=\"stroke: #A80036; stroke-width: 1.5;\" width=\"134\" x=\"7\" y=\"58\"/><rect fill=\"#FEFECE\" height=\"37.9375\" style=\"stroke: #A80036; stroke-width: 1.5;\" width=\"134\" x=\"7\" y=\"58\"/><text fill=\"#000000\" font-family=\"sans-serif\" font-size=\"12\" font-style=\"italic\" lengthAdjust=\"spacingAndGlyphs\" textLength=\"77\" x=\"35.5\" y=\"74.1387\">«action def»</text><text fill=\"#000000\" font-family=\"sans-serif\" font-size=\"12\" lengthAdjust=\"spacingAndGlyphs\" textLength=\"37\" x=\"55.5\" y=\"88.1074\">Focus</text></a><!--MD5=[d5e69f78d87373223dbae638b30a9c99]\n",
       "cluster E3--><a href=\"psysml:d9adf687-8d42-42d3-b1b5-8b6413ee0fad\" target=\"_top\" title=\"psysml:d9adf687-8d42-42d3-b1b5-8b6413ee0fad\" xlink:actuate=\"onRequest\" xlink:href=\"psysml:d9adf687-8d42-42d3-b1b5-8b6413ee0fad\" xlink:show=\"new\" xlink:title=\"psysml:d9adf687-8d42-42d3-b1b5-8b6413ee0fad\" xlink:type=\"simple\"><rect fill=\"#FFFFFF\" filter=\"url(#f4obtlgeymp4i)\" height=\"84.5\" id=\"E3\" style=\"stroke: #A80036; stroke-width: 1.5;\" width=\"134\" x=\"149\" y=\"91.5\"/><rect fill=\"#FEFECE\" height=\"37.9375\" style=\"stroke: #A80036; stroke-width: 1.5;\" width=\"134\" x=\"149\" y=\"91.5\"/><text fill=\"#000000\" font-family=\"sans-serif\" font-size=\"12\" font-style=\"italic\" lengthAdjust=\"spacingAndGlyphs\" textLength=\"77\" x=\"177.5\" y=\"107.6387\">«action def»</text><text fill=\"#000000\" font-family=\"sans-serif\" font-size=\"12\" lengthAdjust=\"spacingAndGlyphs\" textLength=\"37\" x=\"197.5\" y=\"121.6074\">Shoot</text></a><!--MD5=[de5ec2e2e8f62f467e546659f5068c88]\n",
       "cluster E5--><a href=\"psysml:704c53cf-e737-43c7-aaa6-afd6aa41e73e\" target=\"_top\" title=\"psysml:704c53cf-e737-43c7-aaa6-afd6aa41e73e\" xlink:actuate=\"onRequest\" xlink:href=\"psysml:704c53cf-e737-43c7-aaa6-afd6aa41e73e\" xlink:show=\"new\" xlink:title=\"psysml:704c53cf-e737-43c7-aaa6-afd6aa41e73e\" xlink:type=\"simple\"><rect fill=\"#FFFFFF\" filter=\"url(#f4obtlgeymp4i)\" height=\"241\" id=\"E5\" rx=\"10\" ry=\"10\" style=\"stroke: #A80036; stroke-width: 1.5;\" width=\"256\" x=\"299\" y=\"7\"/><rect fill=\"#FEFECE\" height=\"37.9375\" rx=\"10\" ry=\"10\" style=\"stroke: #FEFECE; stroke-width: 1.5;\" width=\"256\" x=\"299\" y=\"7\"/><rect fill=\"#FEFECE\" height=\"10\" style=\"stroke: #FEFECE; stroke-width: 1.5;\" width=\"256\" x=\"299\" y=\"34.9375\"/><rect fill=\"none\" height=\"241\" id=\"E5\" rx=\"10\" ry=\"10\" style=\"stroke: #A80036; stroke-width: 1.5;\" width=\"256\" x=\"299\" y=\"7\"/><text fill=\"#000000\" font-family=\"sans-serif\" font-size=\"12\" font-style=\"italic\" lengthAdjust=\"spacingAndGlyphs\" textLength=\"53\" x=\"400.5\" y=\"23.1387\">«action»</text><text fill=\"#000000\" font-family=\"sans-serif\" font-size=\"12\" lengthAdjust=\"spacingAndGlyphs\" textLength=\"72\" x=\"391\" y=\"37.1074\">takePicture</text><line style=\"stroke: #A80036; stroke-width: 1.0;\" x1=\"299\" x2=\"555\" y1=\"44.9375\" y2=\"44.9375\"/></a><!--MD5=[14e3b0961a2654348d326746436168a1]\n",
       "cluster E6--><a href=\"psysml:247459c4-dc1c-41f3-9bbd-2210d0a14144\" target=\"_top\" title=\"psysml:247459c4-dc1c-41f3-9bbd-2210d0a14144\" xlink:actuate=\"onRequest\" xlink:href=\"psysml:247459c4-dc1c-41f3-9bbd-2210d0a14144\" xlink:show=\"new\" xlink:title=\"psysml:247459c4-dc1c-41f3-9bbd-2210d0a14144\" xlink:type=\"simple\"><rect fill=\"#FFFFFF\" filter=\"url(#f4obtlgeymp4i)\" height=\"132\" id=\"E6\" rx=\"10\" ry=\"10\" style=\"stroke: #A80036; stroke-width: 1.5;\" width=\"83\" x=\"442\" y=\"58\"/><rect fill=\"#FEFECE\" height=\"37.9375\" rx=\"10\" ry=\"10\" style=\"stroke: #FEFECE; stroke-width: 1.5;\" width=\"83\" x=\"442\" y=\"58\"/><rect fill=\"#FEFECE\" height=\"10\" style=\"stroke: #FEFECE; stroke-width: 1.5;\" width=\"83\" x=\"442\" y=\"85.9375\"/><rect fill=\"none\" height=\"132\" id=\"E6\" rx=\"10\" ry=\"10\" style=\"stroke: #A80036; stroke-width: 1.5;\" width=\"83\" x=\"442\" y=\"58\"/><text fill=\"#000000\" font-family=\"sans-serif\" font-size=\"12\" font-style=\"italic\" lengthAdjust=\"spacingAndGlyphs\" textLength=\"53\" x=\"457\" y=\"74.1387\">«action»</text><text fill=\"#000000\" font-family=\"sans-serif\" font-size=\"12\" lengthAdjust=\"spacingAndGlyphs\" textLength=\"34\" x=\"466.5\" y=\"88.1074\">focus</text><line style=\"stroke: #A80036; stroke-width: 1.0;\" x1=\"442\" x2=\"525\" y1=\"95.9375\" y2=\"95.9375\"/></a><!--MD5=[7f149f147074ac12df2cb0a7728a5fb0]\n",
       "cluster E9--><a href=\"psysml:d7e0c4ce-9a2d-4e4d-8f17-58d415aecc73\" target=\"_top\" title=\"psysml:d7e0c4ce-9a2d-4e4d-8f17-58d415aecc73\" xlink:actuate=\"onRequest\" xlink:href=\"psysml:d7e0c4ce-9a2d-4e4d-8f17-58d415aecc73\" xlink:show=\"new\" xlink:title=\"psysml:d7e0c4ce-9a2d-4e4d-8f17-58d415aecc73\" xlink:type=\"simple\"><rect fill=\"#FFFFFF\" filter=\"url(#f4obtlgeymp4i)\" height=\"126.5\" id=\"E9\" rx=\"10\" ry=\"10\" style=\"stroke: #A80036; stroke-width: 1.5;\" width=\"74\" x=\"349\" y=\"91.5\"/><rect fill=\"#FEFECE\" height=\"37.9375\" rx=\"10\" ry=\"10\" style=\"stroke: #FEFECE; stroke-width: 1.5;\" width=\"74\" x=\"349\" y=\"91.5\"/><rect fill=\"#FEFECE\" height=\"10\" style=\"stroke: #FEFECE; stroke-width: 1.5;\" width=\"74\" x=\"349\" y=\"119.4375\"/><rect fill=\"none\" height=\"126.5\" id=\"E9\" rx=\"10\" ry=\"10\" style=\"stroke: #A80036; stroke-width: 1.5;\" width=\"74\" x=\"349\" y=\"91.5\"/><text fill=\"#000000\" font-family=\"sans-serif\" font-size=\"12\" font-style=\"italic\" lengthAdjust=\"spacingAndGlyphs\" textLength=\"53\" x=\"359.5\" y=\"107.6387\">«action»</text><text fill=\"#000000\" font-family=\"sans-serif\" font-size=\"12\" lengthAdjust=\"spacingAndGlyphs\" textLength=\"36\" x=\"368\" y=\"121.6074\">shoot</text><line style=\"stroke: #A80036; stroke-width: 1.0;\" x1=\"349\" x2=\"423\" y1=\"129.4375\" y2=\"129.4375\"/></a><text fill=\"#000000\" font-family=\"sans-serif\" font-size=\"14\" lengthAdjust=\"spacingAndGlyphs\" textLength=\"23\" x=\"62.5\" y=\"208.9951\">xrsl</text><rect fill=\"#A80036\" height=\"12\" style=\"stroke: #FEFECE; stroke-width: 1.5;\" width=\"12\" x=\"68\" y=\"184\"/><text fill=\"#000000\" font-family=\"sans-serif\" font-size=\"14\" lengthAdjust=\"spacingAndGlyphs\" textLength=\"19\" x=\"206.5\" y=\"70.1982\">xsf</text><rect fill=\"#A80036\" height=\"12\" style=\"stroke: #FEFECE; stroke-width: 1.5;\" width=\"12\" x=\"210\" y=\"85.5\"/><text fill=\"#000000\" font-family=\"sans-serif\" font-size=\"14\" lengthAdjust=\"spacingAndGlyphs\" textLength=\"48\" x=\"436\" y=\"208.9951\">$result</text><rect fill=\"#A80036\" height=\"12\" style=\"stroke: #FEFECE; stroke-width: 1.5;\" width=\"12\" x=\"454\" y=\"184\"/><text fill=\"#000000\" font-family=\"sans-serif\" font-size=\"14\" lengthAdjust=\"spacingAndGlyphs\" textLength=\"23\" x=\"495.5\" y=\"208.9951\">xrsl</text><rect fill=\"#A80036\" height=\"12\" style=\"stroke: #FEFECE; stroke-width: 1.5;\" width=\"12\" x=\"501\" y=\"184\"/><text fill=\"#000000\" font-family=\"sans-serif\" font-size=\"14\" lengthAdjust=\"spacingAndGlyphs\" textLength=\"48\" x=\"343\" y=\"236.9951\">$result</text><rect fill=\"#A80036\" height=\"12\" style=\"stroke: #FEFECE; stroke-width: 1.5;\" width=\"12\" x=\"361\" y=\"212\"/><text fill=\"#000000\" font-family=\"sans-serif\" font-size=\"14\" lengthAdjust=\"spacingAndGlyphs\" textLength=\"19\" x=\"359.5\" y=\"70.1982\">xsf</text><rect fill=\"#A80036\" height=\"12\" style=\"stroke: #FEFECE; stroke-width: 1.5;\" width=\"12\" x=\"363\" y=\"85.5\"/><!--MD5=[7f759fb76819836b6a998ec5db6ac1e9]\n",
       "@startuml\r\n",
       "skinparam ranksep 8\r\n",
       " \r\n",
       "rec def \"Focus\" as E1  <<(D,brown)action def>> [[psysml:44676d48-2ba6-47f9-b761-758fcbe31dbd ]] {\r\n",
       "portout \"xrsl\" as E2  [[psysml:7285223f-23e3-4ded-a1a3-c8dbe746ff9d ]] \r\n",
       "}\r\n",
       "\r\n",
       "rec def \"Shoot\" as E3  <<(D,brown)action def>> [[psysml:d9adf687-8d42-42d3-b1b5-8b6413ee0fad ]] {\r\n",
       "portin \"xsf\" as E4  [[psysml:3f6601e8-74ad-4acc-b654-2e93fe2ad4c3 ]] \r\n",
       "}\r\n",
       "\r\n",
       "rec usage \"takePicture\" as E5  <<(U,orange)action>> [[psysml:704c53cf-e737-43c7-aaa6-afd6aa41e73e ]] {\r\n",
       "rec usage \"focus\" as E6  <<(U,orange)action>> [[psysml:247459c4-dc1c-41f3-9bbd-2210d0a14144 ]] {\r\n",
       "portout \"$result\" as E7  [[psysml:d24c4944-7685-4e9e-b1e9-aa0857e67b68 ]] \r\n",
       "portout \"xrsl\" as E8  [[psysml:a9b63f0e-a7c1-4470-82ae-da9c74073d16 ]] \r\n",
       "}\r\n",
       "\r\n",
       "rec usage \"shoot\" as E9  <<(U,orange)action>> [[psysml:d7e0c4ce-9a2d-4e4d-8f17-58d415aecc73 ]] {\r\n",
       "portout \"$result\" as E10  [[psysml:edaf4370-9fef-4792-934f-b7a89f5913cc ]] \r\n",
       "portin \"xsf\" as E11  [[psysml:1ee0e316-c080-4a1b-aa8d-122e3ae24dab ]] \r\n",
       "}\r\n",
       "\r\n",
       "}\r\n",
       "\r\n",
       "@enduml\r\n",
       "\n",
       "PlantUML version 1.2020.13(Sat Jun 13 12:26:38 UTC 2020)\n",
       "(EPL source distribution)\n",
       "Java Runtime: OpenJDK Runtime Environment\n",
       "JVM: OpenJDK 64-Bit Server VM\n",
       "Default Encoding: UTF-8\n",
       "Language: en\n",
       "Country: null\n",
       "--></g></svg>"
      ]
     },
     "execution_count": 34,
     "metadata": {},
     "output_type": "execute_result"
    }
   ],
   "source": [
    "%viz --style=\"PLANTUML\" --view=\"Action\" \"PictureTaking\""
   ]
  },
  {
   "cell_type": "code",
   "execution_count": 35,
   "id": "d6be1bf7",
   "metadata": {
    "execution": {
     "iopub.execute_input": "2021-04-20T07:32:03.722479Z",
     "iopub.status.busy": "2021-04-20T07:32:03.721965Z",
     "iopub.status.idle": "2021-04-20T07:32:03.772296Z",
     "shell.execute_reply": "2021-04-20T07:32:03.770604Z"
    }
   },
   "outputs": [
    {
     "data": {
      "image/svg+xml": [
       "<?xml version=\"1.0\" encoding=\"UTF-8\" standalone=\"no\"?><svg xmlns=\"http://www.w3.org/2000/svg\" xmlns:xlink=\"http://www.w3.org/1999/xlink\" contentScriptType=\"application/ecmascript\" contentStyleType=\"text/css\" height=\"446px\" preserveAspectRatio=\"none\" style=\"width:329px;height:446px;\" version=\"1.1\" viewBox=\"0 0 329 446\" width=\"329px\" zoomAndPan=\"magnify\"><defs><filter height=\"300%\" id=\"f1tzflyx8hoobn\" width=\"300%\" x=\"-1\" y=\"-1\"><feGaussianBlur result=\"blurOut\" stdDeviation=\"2.0\"/><feColorMatrix in=\"blurOut\" result=\"blurOut2\" type=\"matrix\" values=\"0 0 0 0 0 0 0 0 0 0 0 0 0 0 0 0 0 0 .4 0\"/><feOffset dx=\"4.0\" dy=\"4.0\" in=\"blurOut2\" result=\"blurOut3\"/><feBlend in=\"SourceGraphic\" in2=\"blurOut3\" mode=\"normal\"/></filter></defs><g><!--MD5=[fbc87193dbaf4d95561dea2c320d4a47]\n",
       "cluster E1--><a href=\"psysml:14e6fe4c-a4d9-4c34-a316-9cbabb101fb1\" target=\"_top\" title=\"psysml:14e6fe4c-a4d9-4c34-a316-9cbabb101fb1\" xlink:actuate=\"onRequest\" xlink:href=\"psysml:14e6fe4c-a4d9-4c34-a316-9cbabb101fb1\" xlink:show=\"new\" xlink:title=\"psysml:14e6fe4c-a4d9-4c34-a316-9cbabb101fb1\" xlink:type=\"simple\"><polygon fill=\"#FFFFFF\" filter=\"url(#f1tzflyx8hoobn)\" points=\"16,6,130,6,137,28.2969,307,28.2969,307,434,16,434,16,6\" style=\"stroke: #000000; stroke-width: 1.5;\"/><line style=\"stroke: #000000; stroke-width: 1.5;\" x1=\"16\" x2=\"137\" y1=\"28.2969\" y2=\"28.2969\"/><text fill=\"#000000\" font-family=\"sans-serif\" font-size=\"14\" font-weight=\"bold\" lengthAdjust=\"spacingAndGlyphs\" textLength=\"108\" x=\"20\" y=\"20.9951\">PictureTaking</text></a><!--MD5=[b4997ac47864f28c2f74865a473b2911]\n",
       "class E2--><a href=\"psysml:9a8bab7b-7078-4a6b-add3-8a1328b0c2d6\" target=\"_top\" title=\"psysml:9a8bab7b-7078-4a6b-add3-8a1328b0c2d6\" xlink:actuate=\"onRequest\" xlink:href=\"psysml:9a8bab7b-7078-4a6b-add3-8a1328b0c2d6\" xlink:show=\"new\" xlink:title=\"psysml:9a8bab7b-7078-4a6b-add3-8a1328b0c2d6\" xlink:type=\"simple\"><rect fill=\"#FEFECE\" filter=\"url(#f1tzflyx8hoobn)\" height=\"40\" id=\"E2\" style=\"stroke: #A80036; stroke-width: 1.5;\" width=\"90\" x=\"96\" y=\"378\"/><ellipse cx=\"111\" cy=\"394\" fill=\"#008000\" rx=\"11\" ry=\"11\" style=\"stroke: #A80036; stroke-width: 1.0;\"/><path d=\"M109.9063,394.375 L109.9063,398.0469 L111.5313,398.0469 Q112.7031,398.0469 113.1719,397.6563 Q113.6406,397.25 113.6406,396.25 Q113.6406,395.25 113.1406,394.8125 Q112.6563,394.375 111.5313,394.375 L109.9063,394.375 Z M109.9063,389.5469 L109.9063,392.4219 L111.5313,392.4219 Q112.4531,392.4219 112.8438,392.0938 Q113.25,391.75 113.25,391 Q113.25,390.2344 112.8438,389.8906 Q112.4375,389.5469 111.5313,389.5469 L109.9063,389.5469 Z M107.5313,387.5938 L111.5313,387.5938 Q113.5938,387.5938 114.6406,388.375 Q115.6875,389.1563 115.6875,390.7188 Q115.6875,391.9219 115.0625,392.5938 Q114.4531,393.2656 113.2656,393.375 Q114.6875,393.5156 115.4063,394.3281 Q116.125,395.1406 116.125,396.5938 Q116.125,398.3906 115.0469,399.2031 Q113.9688,400 111.5313,400 L107.5313,400 L107.5313,387.5938 Z \"/><text fill=\"#000000\" font-family=\"sans-serif\" font-size=\"12\" lengthAdjust=\"spacingAndGlyphs\" textLength=\"58\" x=\"125\" y=\"398.1543\">Exposure</text><line style=\"stroke: #A80036; stroke-width: 1.5;\" x1=\"97\" x2=\"185\" y1=\"410\" y2=\"410\"/></a><!--MD5=[09b614a08d8cba4a07c9adeb5e0fee81]\n",
       "class E3--><a href=\"psysml:44676d48-2ba6-47f9-b761-758fcbe31dbd\" target=\"_top\" title=\"psysml:44676d48-2ba6-47f9-b761-758fcbe31dbd\" xlink:actuate=\"onRequest\" xlink:href=\"psysml:44676d48-2ba6-47f9-b761-758fcbe31dbd\" xlink:show=\"new\" xlink:title=\"psysml:44676d48-2ba6-47f9-b761-758fcbe31dbd\" xlink:type=\"simple\"><rect fill=\"#FEFECE\" filter=\"url(#f1tzflyx8hoobn)\" height=\"45.9375\" id=\"E3\" style=\"stroke: #A80036; stroke-width: 1.5;\" width=\"105\" x=\"37.5\" y=\"255\"/><ellipse cx=\"52.5\" cy=\"273.9688\" fill=\"#A52A2A\" rx=\"11\" ry=\"11\" style=\"stroke: #A80036; stroke-width: 1.0;\"/><path d=\"M52.0938,269.7813 L52.0938,277.7656 L52.75,277.7656 Q54.1875,277.7656 54.7969,276.8594 Q55.4219,275.9375 55.4219,273.7656 Q55.4219,271.5938 54.7969,270.6875 Q54.1875,269.7813 52.75,269.7813 L52.0938,269.7813 Z M49.6406,267.5781 L52.2656,267.5781 Q55.2969,267.5781 56.625,269.0313 Q57.9688,270.4688 57.9688,273.7656 Q57.9688,277.0625 56.625,278.5156 Q55.2969,279.9688 52.2656,279.9688 L49.6406,279.9688 L49.6406,267.5781 Z \"/><text fill=\"#000000\" font-family=\"sans-serif\" font-size=\"12\" font-style=\"italic\" lengthAdjust=\"spacingAndGlyphs\" textLength=\"77\" x=\"64.5\" y=\"271.1387\">«action def»</text><text fill=\"#000000\" font-family=\"sans-serif\" font-size=\"12\" lengthAdjust=\"spacingAndGlyphs\" textLength=\"37\" x=\"84.5\" y=\"285.1074\">Focus</text><line style=\"stroke: #A80036; stroke-width: 1.5;\" x1=\"38.5\" x2=\"141.5\" y1=\"292.9375\" y2=\"292.9375\"/></a><!--MD5=[ebbe1d658d1005bcc118a6aa81145e00]\n",
       "class E4--><a href=\"psysml:d9adf687-8d42-42d3-b1b5-8b6413ee0fad\" target=\"_top\" title=\"psysml:d9adf687-8d42-42d3-b1b5-8b6413ee0fad\" xlink:actuate=\"onRequest\" xlink:href=\"psysml:d9adf687-8d42-42d3-b1b5-8b6413ee0fad\" xlink:show=\"new\" xlink:title=\"psysml:d9adf687-8d42-42d3-b1b5-8b6413ee0fad\" xlink:type=\"simple\"><rect fill=\"#FEFECE\" filter=\"url(#f1tzflyx8hoobn)\" height=\"45.9375\" id=\"E4\" style=\"stroke: #A80036; stroke-width: 1.5;\" width=\"105\" x=\"179.5\" y=\"255\"/><ellipse cx=\"194.5\" cy=\"273.9688\" fill=\"#A52A2A\" rx=\"11\" ry=\"11\" style=\"stroke: #A80036; stroke-width: 1.0;\"/><path d=\"M194.0938,269.7813 L194.0938,277.7656 L194.75,277.7656 Q196.1875,277.7656 196.7969,276.8594 Q197.4219,275.9375 197.4219,273.7656 Q197.4219,271.5938 196.7969,270.6875 Q196.1875,269.7813 194.75,269.7813 L194.0938,269.7813 Z M191.6406,267.5781 L194.2656,267.5781 Q197.2969,267.5781 198.625,269.0313 Q199.9688,270.4688 199.9688,273.7656 Q199.9688,277.0625 198.625,278.5156 Q197.2969,279.9688 194.2656,279.9688 L191.6406,279.9688 L191.6406,267.5781 Z \"/><text fill=\"#000000\" font-family=\"sans-serif\" font-size=\"12\" font-style=\"italic\" lengthAdjust=\"spacingAndGlyphs\" textLength=\"77\" x=\"206.5\" y=\"271.1387\">«action def»</text><text fill=\"#000000\" font-family=\"sans-serif\" font-size=\"12\" lengthAdjust=\"spacingAndGlyphs\" textLength=\"37\" x=\"226.5\" y=\"285.1074\">Shoot</text><line style=\"stroke: #A80036; stroke-width: 1.5;\" x1=\"180.5\" x2=\"283.5\" y1=\"292.9375\" y2=\"292.9375\"/></a><!--MD5=[270fce915f116d4de14055a7c1d9a0f3]\n",
       "class E5--><a href=\"psysml:704c53cf-e737-43c7-aaa6-afd6aa41e73e\" target=\"_top\" title=\"psysml:704c53cf-e737-43c7-aaa6-afd6aa41e73e\" xlink:actuate=\"onRequest\" xlink:href=\"psysml:704c53cf-e737-43c7-aaa6-afd6aa41e73e\" xlink:show=\"new\" xlink:title=\"psysml:704c53cf-e737-43c7-aaa6-afd6aa41e73e\" xlink:type=\"simple\"><rect fill=\"#FEFECE\" filter=\"url(#f1tzflyx8hoobn)\" height=\"45.9375\" id=\"E5\" rx=\"10\" ry=\"10\" style=\"stroke: #A80036; stroke-width: 1.5;\" width=\"104\" x=\"109\" y=\"41\"/><ellipse cx=\"124\" cy=\"59.9688\" fill=\"#FFA500\" rx=\"11\" ry=\"11\" style=\"stroke: #A80036; stroke-width: 1.0;\"/><path d=\"M119.875,61.8906 L119.875,54.0781 L122.3281,54.0781 L122.3281,62.5156 Q122.3281,63.4375 122.7969,63.9688 Q123.2813,64.5 124.1094,64.5 Q124.9531,64.5 125.4219,63.9688 Q125.8906,63.4375 125.8906,62.5156 L125.8906,54.0781 L128.3438,54.0781 L128.3438,61.8906 Q128.3438,64.4219 127.3438,65.5625 Q126.3438,66.7031 124.1094,66.7031 Q121.8906,66.7031 120.875,65.5625 Q119.875,64.4219 119.875,61.8906 Z \"/><text fill=\"#000000\" font-family=\"sans-serif\" font-size=\"12\" font-style=\"italic\" lengthAdjust=\"spacingAndGlyphs\" textLength=\"53\" x=\"147.5\" y=\"57.1387\">«action»</text><text fill=\"#000000\" font-family=\"sans-serif\" font-size=\"12\" lengthAdjust=\"spacingAndGlyphs\" textLength=\"72\" x=\"138\" y=\"71.1074\">takePicture</text><line style=\"stroke: #A80036; stroke-width: 1.5;\" x1=\"110\" x2=\"212\" y1=\"78.9375\" y2=\"78.9375\"/></a><!--MD5=[60a26617385b1d2d0262a64233df1f8d]\n",
       "class E6--><a href=\"psysml:247459c4-dc1c-41f3-9bbd-2210d0a14144\" target=\"_top\" title=\"psysml:247459c4-dc1c-41f3-9bbd-2210d0a14144\" xlink:actuate=\"onRequest\" xlink:href=\"psysml:247459c4-dc1c-41f3-9bbd-2210d0a14144\" xlink:show=\"new\" xlink:title=\"psysml:247459c4-dc1c-41f3-9bbd-2210d0a14144\" xlink:type=\"simple\"><rect fill=\"#FEFECE\" filter=\"url(#f1tzflyx8hoobn)\" height=\"45.9375\" id=\"E6\" rx=\"10\" ry=\"10\" style=\"stroke: #A80036; stroke-width: 1.5;\" width=\"111\" x=\"31.5\" y=\"148\"/><ellipse cx=\"46.5\" cy=\"166.9688\" fill=\"#FFA500\" rx=\"11\" ry=\"11\" style=\"stroke: #A80036; stroke-width: 1.0;\"/><path d=\"M42.375,168.8906 L42.375,161.0781 L44.8281,161.0781 L44.8281,169.5156 Q44.8281,170.4375 45.2969,170.9688 Q45.7813,171.5 46.6094,171.5 Q47.4531,171.5 47.9219,170.9688 Q48.3906,170.4375 48.3906,169.5156 L48.3906,161.0781 L50.8438,161.0781 L50.8438,168.8906 Q50.8438,171.4219 49.8438,172.5625 Q48.8438,173.7031 46.6094,173.7031 Q44.3906,173.7031 43.375,172.5625 Q42.375,171.4219 42.375,168.8906 Z \"/><text fill=\"#000000\" font-family=\"sans-serif\" font-size=\"12\" font-style=\"italic\" lengthAdjust=\"spacingAndGlyphs\" textLength=\"53\" x=\"73.5\" y=\"164.1387\">«action»</text><text fill=\"#000000\" font-family=\"sans-serif\" font-size=\"12\" lengthAdjust=\"spacingAndGlyphs\" textLength=\"79\" x=\"60.5\" y=\"178.1074\">focus: Focus</text><line style=\"stroke: #A80036; stroke-width: 1.5;\" x1=\"32.5\" x2=\"141.5\" y1=\"185.9375\" y2=\"185.9375\"/></a><!--MD5=[2156ba9850f5573cc1fc38a6a4b2f02b]\n",
       "class E7--><a href=\"psysml:d7e0c4ce-9a2d-4e4d-8f17-58d415aecc73\" target=\"_top\" title=\"psysml:d7e0c4ce-9a2d-4e4d-8f17-58d415aecc73\" xlink:actuate=\"onRequest\" xlink:href=\"psysml:d7e0c4ce-9a2d-4e4d-8f17-58d415aecc73\" xlink:show=\"new\" xlink:title=\"psysml:d7e0c4ce-9a2d-4e4d-8f17-58d415aecc73\" xlink:type=\"simple\"><rect fill=\"#FEFECE\" filter=\"url(#f1tzflyx8hoobn)\" height=\"45.9375\" id=\"E7\" rx=\"10\" ry=\"10\" style=\"stroke: #A80036; stroke-width: 1.5;\" width=\"113\" x=\"177.5\" y=\"148\"/><ellipse cx=\"192.5\" cy=\"166.9688\" fill=\"#FFA500\" rx=\"11\" ry=\"11\" style=\"stroke: #A80036; stroke-width: 1.0;\"/><path d=\"M188.375,168.8906 L188.375,161.0781 L190.8281,161.0781 L190.8281,169.5156 Q190.8281,170.4375 191.2969,170.9688 Q191.7813,171.5 192.6094,171.5 Q193.4531,171.5 193.9219,170.9688 Q194.3906,170.4375 194.3906,169.5156 L194.3906,161.0781 L196.8438,161.0781 L196.8438,168.8906 Q196.8438,171.4219 195.8438,172.5625 Q194.8438,173.7031 192.6094,173.7031 Q190.3906,173.7031 189.375,172.5625 Q188.375,171.4219 188.375,168.8906 Z \"/><text fill=\"#000000\" font-family=\"sans-serif\" font-size=\"12\" font-style=\"italic\" lengthAdjust=\"spacingAndGlyphs\" textLength=\"53\" x=\"220.5\" y=\"164.1387\">«action»</text><text fill=\"#000000\" font-family=\"sans-serif\" font-size=\"12\" lengthAdjust=\"spacingAndGlyphs\" textLength=\"81\" x=\"206.5\" y=\"178.1074\">shoot: Shoot</text><line style=\"stroke: #A80036; stroke-width: 1.5;\" x1=\"178.5\" x2=\"289.5\" y1=\"185.9375\" y2=\"185.9375\"/></a><!--MD5=[b900ca4392aad7a68aec1e9245e10ab9]\n",
       "reverse link E3 to E2--><a href=\"psysml:7285223f-23e3-4ded-a1a3-c8dbe746ff9d\" target=\"_top\" title=\"psysml:7285223f-23e3-4ded-a1a3-c8dbe746ff9d\" xlink:actuate=\"onRequest\" xlink:href=\"psysml:7285223f-23e3-4ded-a1a3-c8dbe746ff9d\" xlink:show=\"new\" xlink:title=\"psysml:7285223f-23e3-4ded-a1a3-c8dbe746ff9d\" xlink:type=\"simple\"><path d=\"M104.76,313.15 C113.82,334.11 125.09,360.18 132.63,377.64 \" fill=\"none\" id=\"E3&lt;-E2\" style=\"stroke: #A80036; stroke-width: 1.0;\"/><polygon fill=\"#FFFFFF\" points=\"99.59,301.19,98.2964,308.2841,104.3472,312.2067,105.6409,305.1126,99.59,301.19\" style=\"stroke: #A80036; stroke-width: 1.0;\"/><text fill=\"#000000\" font-family=\"sans-serif\" font-size=\"13\" lengthAdjust=\"spacingAndGlyphs\" textLength=\"22\" x=\"119\" y=\"344.0669\">xrsl</text></a><!--MD5=[ddeed8deb2209213b62e6cfabaa108b2]\n",
       "reverse link E4 to E2--><a href=\"psysml:3f6601e8-74ad-4acc-b654-2e93fe2ad4c3\" target=\"_top\" title=\"psysml:3f6601e8-74ad-4acc-b654-2e93fe2ad4c3\" xlink:actuate=\"onRequest\" xlink:href=\"psysml:3f6601e8-74ad-4acc-b654-2e93fe2ad4c3\" xlink:show=\"new\" xlink:title=\"psysml:3f6601e8-74ad-4acc-b654-2e93fe2ad4c3\" xlink:type=\"simple\"><path d=\"M206.8,311.68 C190.45,332.88 169.71,359.77 155.93,377.64 \" fill=\"none\" id=\"E4&lt;-E2\" style=\"stroke: #A80036; stroke-width: 1.0;\"/><polygon fill=\"#FFFFFF\" points=\"214.88,301.19,208.0485,303.4987,207.552,310.6927,214.3836,308.384,214.88,301.19\" style=\"stroke: #A80036; stroke-width: 1.0;\"/><text fill=\"#000000\" font-family=\"sans-serif\" font-size=\"13\" lengthAdjust=\"spacingAndGlyphs\" textLength=\"18\" x=\"190\" y=\"344.0669\">xsf</text></a><!--MD5=[85d356282659285ab4b2cfe2f634dd2b]\n",
       "reverse link E5 to E6--><a href=\"psysml:b27ee466-0f4c-4005-a5ef-b2dd2df76771\" target=\"_top\" title=\"psysml:b27ee466-0f4c-4005-a5ef-b2dd2df76771\" xlink:actuate=\"onRequest\" xlink:href=\"psysml:b27ee466-0f4c-4005-a5ef-b2dd2df76771\" xlink:show=\"new\" xlink:title=\"psysml:b27ee466-0f4c-4005-a5ef-b2dd2df76771\" xlink:type=\"simple\"><path d=\"M137.96,97.68 C126.52,113.92 112.99,133.12 102.75,147.66 \" fill=\"none\" id=\"E5&lt;-E6\" style=\"stroke: #A80036; stroke-width: 1.0;\"/><polygon fill=\"#A80036\" points=\"145.49,87.01,138.7648,89.6122,138.5802,96.8209,145.3054,94.2187,145.49,87.01\" style=\"stroke: #A80036; stroke-width: 1.0;\"/><text fill=\"#000000\" font-family=\"sans-serif\" font-size=\"13\" lengthAdjust=\"spacingAndGlyphs\" textLength=\"8\" x=\"97.7609\" y=\"136.8492\">1</text></a><!--MD5=[a717450b82c80b9240a525fa862496af]\n",
       "link E6 to E3--><a href=\"psysml:5a2a5603-bc94-4298-a763-49fe520ca5bc\" target=\"_top\" title=\"psysml:5a2a5603-bc94-4298-a763-49fe520ca5bc\" xlink:actuate=\"onRequest\" xlink:href=\"psysml:5a2a5603-bc94-4298-a763-49fe520ca5bc\" xlink:show=\"new\" xlink:title=\"psysml:5a2a5603-bc94-4298-a763-49fe520ca5bc\" xlink:type=\"simple\"><path d=\"M87.63,194.01 C87.96,205.69 88.38,220.46 88.78,234.28 \" fill=\"none\" id=\"E6-&gt;E3\" style=\"stroke: #A80036; stroke-width: 1.0;\"/><polygon fill=\"#FFFFFF\" points=\"89.36,254.66,81.8202,235.8677,95.8145,235.4678,89.36,254.66\" style=\"stroke: #A80036; stroke-width: 1.0;\"/><ellipse cx=\"83.6566\" cy=\"230.1129\" fill=\"#A80036\" rx=\"2\" ry=\"2\" style=\"stroke: #A80036; stroke-width: 1.0;\"/><ellipse cx=\"93.6525\" cy=\"229.8273\" fill=\"#A80036\" rx=\"2\" ry=\"2\" style=\"stroke: #A80036; stroke-width: 1.0;\"/></a><!--MD5=[452b418e7f8a40397a49b8c0a78acc5b]\n",
       "reverse link E5 to E7--><a href=\"psysml:aaa4df86-e408-4ec8-a2fe-61e5d0511306\" target=\"_top\" title=\"psysml:aaa4df86-e408-4ec8-a2fe-61e5d0511306\" xlink:actuate=\"onRequest\" xlink:href=\"psysml:aaa4df86-e408-4ec8-a2fe-61e5d0511306\" xlink:show=\"new\" xlink:title=\"psysml:aaa4df86-e408-4ec8-a2fe-61e5d0511306\" xlink:type=\"simple\"><path d=\"M184.05,98.15 C195.27,114.29 208.46,133.26 218.47,147.66 \" fill=\"none\" id=\"E5&lt;-E7\" style=\"stroke: #A80036; stroke-width: 1.0;\"/><polygon fill=\"#A80036\" points=\"176.3,87.01,176.4385,94.2198,183.147,96.8649,183.0085,89.6551,176.3,87.01\" style=\"stroke: #A80036; stroke-width: 1.0;\"/><text fill=\"#000000\" font-family=\"sans-serif\" font-size=\"13\" lengthAdjust=\"spacingAndGlyphs\" textLength=\"8\" x=\"205.4654\" y=\"136.8492\">1</text></a><!--MD5=[6bdd27f9905911a7e892a3dc65cf6b7c]\n",
       "link E7 to E4--><a href=\"psysml:f48d95ee-d7b3-4518-8228-9030b5bbf5ab\" target=\"_top\" title=\"psysml:f48d95ee-d7b3-4518-8228-9030b5bbf5ab\" xlink:actuate=\"onRequest\" xlink:href=\"psysml:f48d95ee-d7b3-4518-8228-9030b5bbf5ab\" xlink:show=\"new\" xlink:title=\"psysml:f48d95ee-d7b3-4518-8228-9030b5bbf5ab\" xlink:type=\"simple\"><path d=\"M233.58,194.01 C233.36,205.69 233.08,220.46 232.81,234.28 \" fill=\"none\" id=\"E7-&gt;E4\" style=\"stroke: #A80036; stroke-width: 1.0;\"/><polygon fill=\"#FFFFFF\" points=\"232.43,254.66,225.784,235.5333,239.7816,235.7933,232.43,254.66\" style=\"stroke: #A80036; stroke-width: 1.0;\"/><ellipse cx=\"227.8895\" cy=\"229.8714\" fill=\"#A80036\" rx=\"2\" ry=\"2\" style=\"stroke: #A80036; stroke-width: 1.0;\"/><ellipse cx=\"237.8878\" cy=\"230.0571\" fill=\"#A80036\" rx=\"2\" ry=\"2\" style=\"stroke: #A80036; stroke-width: 1.0;\"/></a><!--MD5=[73795d972eb9f59a802e9607f04acf87]\n",
       "@startuml\r\n",
       " \r\n",
       "package \"PictureTaking\" as E1  [[psysml:14e6fe4c-a4d9-4c34-a316-9cbabb101fb1 ]]  {\r\n",
       "comp def \"Exposure\" as E2  << (B,green) >> [[psysml:9a8bab7b-7078-4a6b-add3-8a1328b0c2d6 ]] {\r\n",
       "}\r\n",
       "comp def \"Focus\" as E3  <<(D,brown)action def>> [[psysml:44676d48-2ba6-47f9-b761-758fcbe31dbd ]] {\r\n",
       "}\r\n",
       "comp def \"Shoot\" as E4  <<(D,brown)action def>> [[psysml:d9adf687-8d42-42d3-b1b5-8b6413ee0fad ]] {\r\n",
       "}\r\n",
       "comp usage \"takePicture\" as E5  <<(U,orange)action>> [[psysml:704c53cf-e737-43c7-aaa6-afd6aa41e73e ]] {\r\n",
       "}\r\n",
       "comp usage \"focus: Focus\" as E6  <<(U,orange)action>> [[psysml:247459c4-dc1c-41f3-9bbd-2210d0a14144 ]] {\r\n",
       "}\r\n",
       "comp usage \"shoot: Shoot\" as E7  <<(U,orange)action>> [[psysml:d7e0c4ce-9a2d-4e4d-8f17-58d415aecc73 ]] {\r\n",
       "}\r\n",
       "E3 o- - E2 [[psysml:7285223f-23e3-4ded-a1a3-c8dbe746ff9d ]] : xrsl\r\n",
       "E4 o- - E2 [[psysml:3f6601e8-74ad-4acc-b654-2e93fe2ad4c3 ]] : xsf\r\n",
       "E5 *- - \"1\"E6 [[psysml:b27ee466-0f4c-4005-a5ef-b2dd2df76771 ]] \r\n",
       "E6 - -:|> E3 [[psysml:5a2a5603-bc94-4298-a763-49fe520ca5bc ]] \r\n",
       "E5 *- - \"1\"E7 [[psysml:aaa4df86-e408-4ec8-a2fe-61e5d0511306 ]] \r\n",
       "E7 - -:|> E4 [[psysml:f48d95ee-d7b3-4518-8228-9030b5bbf5ab ]] \r\n",
       "}\r\n",
       "@enduml\r\n",
       "\n",
       "PlantUML version 1.2020.13(Sat Jun 13 12:26:38 UTC 2020)\n",
       "(EPL source distribution)\n",
       "Java Runtime: OpenJDK Runtime Environment\n",
       "JVM: OpenJDK 64-Bit Server VM\n",
       "Default Encoding: UTF-8\n",
       "Language: en\n",
       "Country: null\n",
       "--></g></svg>"
      ]
     },
     "execution_count": 35,
     "metadata": {},
     "output_type": "execute_result"
    }
   ],
   "source": [
    "%viz --style=\"PLANTUML\" --view=\"Sequence\" \"PictureTaking\""
   ]
  },
  {
   "cell_type": "code",
   "execution_count": 36,
   "id": "070d32ef",
   "metadata": {
    "execution": {
     "iopub.execute_input": "2021-04-20T07:32:03.823768Z",
     "iopub.status.busy": "2021-04-20T07:32:03.823175Z",
     "iopub.status.idle": "2021-04-20T07:32:03.897203Z",
     "shell.execute_reply": "2021-04-20T07:32:03.896797Z"
    }
   },
   "outputs": [
    {
     "data": {
      "image/svg+xml": [
       "<?xml version=\"1.0\" encoding=\"UTF-8\" standalone=\"no\"?><svg xmlns=\"http://www.w3.org/2000/svg\" xmlns:xlink=\"http://www.w3.org/1999/xlink\" contentScriptType=\"application/ecmascript\" contentStyleType=\"text/css\" height=\"452px\" preserveAspectRatio=\"none\" style=\"width:724px;height:452px;\" version=\"1.1\" viewBox=\"0 0 724 452\" width=\"724px\" zoomAndPan=\"magnify\"><defs><filter height=\"300%\" id=\"f334tmen74uf\" width=\"300%\" x=\"-1\" y=\"-1\"><feGaussianBlur result=\"blurOut\" stdDeviation=\"2.0\"/><feColorMatrix in=\"blurOut\" result=\"blurOut2\" type=\"matrix\" values=\"0 0 0 0 0 0 0 0 0 0 0 0 0 0 0 0 0 0 .4 0\"/><feOffset dx=\"4.0\" dy=\"4.0\" in=\"blurOut2\" result=\"blurOut3\"/><feBlend in=\"SourceGraphic\" in2=\"blurOut3\" mode=\"normal\"/></filter></defs><g><!--MD5=[fbc87193dbaf4d95561dea2c320d4a47]\n",
       "cluster E1--><a href=\"psysml:14e6fe4c-a4d9-4c34-a316-9cbabb101fb1\" target=\"_top\" title=\"psysml:14e6fe4c-a4d9-4c34-a316-9cbabb101fb1\" xlink:actuate=\"onRequest\" xlink:href=\"psysml:14e6fe4c-a4d9-4c34-a316-9cbabb101fb1\" xlink:show=\"new\" xlink:title=\"psysml:14e6fe4c-a4d9-4c34-a316-9cbabb101fb1\" xlink:type=\"simple\"><polygon fill=\"#FFFFFF\" filter=\"url(#f334tmen74uf)\" points=\"16,6,130,6,137,28.2969,702,28.2969,702,440.5,16,440.5,16,6\" style=\"stroke: #000000; stroke-width: 1.5;\"/><line style=\"stroke: #000000; stroke-width: 1.5;\" x1=\"16\" x2=\"137\" y1=\"28.2969\" y2=\"28.2969\"/><text fill=\"#000000\" font-family=\"sans-serif\" font-size=\"14\" font-weight=\"bold\" lengthAdjust=\"spacingAndGlyphs\" textLength=\"108\" x=\"20\" y=\"20.9951\">PictureTaking</text></a><!--MD5=[d5e69f78d87373223dbae638b30a9c99]\n",
       "cluster E3--><a href=\"psysml:44676d48-2ba6-47f9-b761-758fcbe31dbd\" target=\"_top\" title=\"psysml:44676d48-2ba6-47f9-b761-758fcbe31dbd\" xlink:actuate=\"onRequest\" xlink:href=\"psysml:44676d48-2ba6-47f9-b761-758fcbe31dbd\" xlink:show=\"new\" xlink:title=\"psysml:44676d48-2ba6-47f9-b761-758fcbe31dbd\" xlink:type=\"simple\"><rect fill=\"#FFFFFF\" filter=\"url(#f334tmen74uf)\" height=\"214.5\" id=\"E3\" style=\"stroke: #A80036; stroke-width: 1.5;\" width=\"134\" x=\"552\" y=\"100\"/><rect fill=\"#FEFECE\" height=\"37.9375\" style=\"stroke: #A80036; stroke-width: 1.5;\" width=\"134\" x=\"552\" y=\"100\"/><text fill=\"#000000\" font-family=\"sans-serif\" font-size=\"12\" font-style=\"italic\" lengthAdjust=\"spacingAndGlyphs\" textLength=\"77\" x=\"580.5\" y=\"116.1387\">«action def»</text><text fill=\"#000000\" font-family=\"sans-serif\" font-size=\"12\" lengthAdjust=\"spacingAndGlyphs\" textLength=\"37\" x=\"600.5\" y=\"130.1074\">Focus</text></a><!--MD5=[de5ec2e2e8f62f467e546659f5068c88]\n",
       "cluster E5--><a href=\"psysml:d9adf687-8d42-42d3-b1b5-8b6413ee0fad\" target=\"_top\" title=\"psysml:d9adf687-8d42-42d3-b1b5-8b6413ee0fad\" xlink:actuate=\"onRequest\" xlink:href=\"psysml:d9adf687-8d42-42d3-b1b5-8b6413ee0fad\" xlink:show=\"new\" xlink:title=\"psysml:d9adf687-8d42-42d3-b1b5-8b6413ee0fad\" xlink:type=\"simple\"><rect fill=\"#FFFFFF\" filter=\"url(#f334tmen74uf)\" height=\"131\" id=\"E5\" style=\"stroke: #A80036; stroke-width: 1.5;\" width=\"134\" x=\"410\" y=\"133.5\"/><rect fill=\"#FEFECE\" height=\"37.9375\" style=\"stroke: #A80036; stroke-width: 1.5;\" width=\"134\" x=\"410\" y=\"133.5\"/><text fill=\"#000000\" font-family=\"sans-serif\" font-size=\"12\" font-style=\"italic\" lengthAdjust=\"spacingAndGlyphs\" textLength=\"77\" x=\"438.5\" y=\"149.6387\">«action def»</text><text fill=\"#000000\" font-family=\"sans-serif\" font-size=\"12\" lengthAdjust=\"spacingAndGlyphs\" textLength=\"37\" x=\"458.5\" y=\"163.6074\">Shoot</text></a><!--MD5=[168fadf3d0c3fd93dd5d6da1b1d7ab76]\n",
       "cluster E7--><a href=\"psysml:704c53cf-e737-43c7-aaa6-afd6aa41e73e\" target=\"_top\" title=\"psysml:704c53cf-e737-43c7-aaa6-afd6aa41e73e\" xlink:actuate=\"onRequest\" xlink:href=\"psysml:704c53cf-e737-43c7-aaa6-afd6aa41e73e\" xlink:show=\"new\" xlink:title=\"psysml:704c53cf-e737-43c7-aaa6-afd6aa41e73e\" xlink:type=\"simple\"><rect fill=\"#FFFFFF\" filter=\"url(#f334tmen74uf)\" height=\"367.5\" id=\"E7\" rx=\"10\" ry=\"10\" style=\"stroke: #A80036; stroke-width: 1.5;\" width=\"256\" x=\"138\" y=\"49\"/><rect fill=\"#FEFECE\" height=\"37.9375\" rx=\"10\" ry=\"10\" style=\"stroke: #FEFECE; stroke-width: 1.5;\" width=\"256\" x=\"138\" y=\"49\"/><rect fill=\"#FEFECE\" height=\"10\" style=\"stroke: #FEFECE; stroke-width: 1.5;\" width=\"256\" x=\"138\" y=\"76.9375\"/><rect fill=\"none\" height=\"367.5\" id=\"E7\" rx=\"10\" ry=\"10\" style=\"stroke: #A80036; stroke-width: 1.5;\" width=\"256\" x=\"138\" y=\"49\"/><text fill=\"#000000\" font-family=\"sans-serif\" font-size=\"12\" font-style=\"italic\" lengthAdjust=\"spacingAndGlyphs\" textLength=\"53\" x=\"239.5\" y=\"65.1387\">«action»</text><text fill=\"#000000\" font-family=\"sans-serif\" font-size=\"12\" lengthAdjust=\"spacingAndGlyphs\" textLength=\"72\" x=\"230\" y=\"79.1074\">takePicture</text><line style=\"stroke: #A80036; stroke-width: 1.0;\" x1=\"138\" x2=\"394\" y1=\"86.9375\" y2=\"86.9375\"/></a><!--MD5=[55dfccfc6c49c2d10cd1bd2211a6c90c]\n",
       "cluster E8--><a href=\"psysml:247459c4-dc1c-41f3-9bbd-2210d0a14144\" target=\"_top\" title=\"psysml:247459c4-dc1c-41f3-9bbd-2210d0a14144\" xlink:actuate=\"onRequest\" xlink:href=\"psysml:247459c4-dc1c-41f3-9bbd-2210d0a14144\" xlink:show=\"new\" xlink:title=\"psysml:247459c4-dc1c-41f3-9bbd-2210d0a14144\" xlink:type=\"simple\"><rect fill=\"#FFFFFF\" filter=\"url(#f334tmen74uf)\" height=\"214.5\" id=\"E8\" rx=\"10\" ry=\"10\" style=\"stroke: #A80036; stroke-width: 1.5;\" width=\"83\" x=\"281\" y=\"100\"/><rect fill=\"#FEFECE\" height=\"37.9375\" rx=\"10\" ry=\"10\" style=\"stroke: #FEFECE; stroke-width: 1.5;\" width=\"83\" x=\"281\" y=\"100\"/><rect fill=\"#FEFECE\" height=\"10\" style=\"stroke: #FEFECE; stroke-width: 1.5;\" width=\"83\" x=\"281\" y=\"127.9375\"/><rect fill=\"none\" height=\"214.5\" id=\"E8\" rx=\"10\" ry=\"10\" style=\"stroke: #A80036; stroke-width: 1.5;\" width=\"83\" x=\"281\" y=\"100\"/><text fill=\"#000000\" font-family=\"sans-serif\" font-size=\"12\" font-style=\"italic\" lengthAdjust=\"spacingAndGlyphs\" textLength=\"53\" x=\"296\" y=\"116.1387\">«action»</text><text fill=\"#000000\" font-family=\"sans-serif\" font-size=\"12\" lengthAdjust=\"spacingAndGlyphs\" textLength=\"34\" x=\"305.5\" y=\"130.1074\">focus</text><line style=\"stroke: #A80036; stroke-width: 1.0;\" x1=\"281\" x2=\"364\" y1=\"137.9375\" y2=\"137.9375\"/></a><!--MD5=[917b9dd0c7eca3ee5f47219d1a84c0ad]\n",
       "cluster E11--><a href=\"psysml:d7e0c4ce-9a2d-4e4d-8f17-58d415aecc73\" target=\"_top\" title=\"psysml:d7e0c4ce-9a2d-4e4d-8f17-58d415aecc73\" xlink:actuate=\"onRequest\" xlink:href=\"psysml:d7e0c4ce-9a2d-4e4d-8f17-58d415aecc73\" xlink:show=\"new\" xlink:title=\"psysml:d7e0c4ce-9a2d-4e4d-8f17-58d415aecc73\" xlink:type=\"simple\"><rect fill=\"#FFFFFF\" filter=\"url(#f334tmen74uf)\" height=\"253\" id=\"E11\" rx=\"10\" ry=\"10\" style=\"stroke: #A80036; stroke-width: 1.5;\" width=\"74\" x=\"188\" y=\"133.5\"/><rect fill=\"#FEFECE\" height=\"37.9375\" rx=\"10\" ry=\"10\" style=\"stroke: #FEFECE; stroke-width: 1.5;\" width=\"74\" x=\"188\" y=\"133.5\"/><rect fill=\"#FEFECE\" height=\"10\" style=\"stroke: #FEFECE; stroke-width: 1.5;\" width=\"74\" x=\"188\" y=\"161.4375\"/><rect fill=\"none\" height=\"253\" id=\"E11\" rx=\"10\" ry=\"10\" style=\"stroke: #A80036; stroke-width: 1.5;\" width=\"74\" x=\"188\" y=\"133.5\"/><text fill=\"#000000\" font-family=\"sans-serif\" font-size=\"12\" font-style=\"italic\" lengthAdjust=\"spacingAndGlyphs\" textLength=\"53\" x=\"198.5\" y=\"149.6387\">«action»</text><text fill=\"#000000\" font-family=\"sans-serif\" font-size=\"12\" lengthAdjust=\"spacingAndGlyphs\" textLength=\"36\" x=\"207\" y=\"163.6074\">shoot</text><line style=\"stroke: #A80036; stroke-width: 1.0;\" x1=\"188\" x2=\"262\" y1=\"171.4375\" y2=\"171.4375\"/></a><!--MD5=[b4997ac47864f28c2f74865a473b2911]\n",
       "class E2--><a href=\"psysml:9a8bab7b-7078-4a6b-add3-8a1328b0c2d6\" target=\"_top\" title=\"psysml:9a8bab7b-7078-4a6b-add3-8a1328b0c2d6\" xlink:actuate=\"onRequest\" xlink:href=\"psysml:9a8bab7b-7078-4a6b-add3-8a1328b0c2d6\" xlink:show=\"new\" xlink:title=\"psysml:9a8bab7b-7078-4a6b-add3-8a1328b0c2d6\" xlink:type=\"simple\"><rect fill=\"#FEFECE\" filter=\"url(#f334tmen74uf)\" height=\"40\" id=\"E2\" style=\"stroke: #A80036; stroke-width: 1.5;\" width=\"90\" x=\"32\" y=\"113.5\"/><ellipse cx=\"47\" cy=\"129.5\" fill=\"#008000\" rx=\"11\" ry=\"11\" style=\"stroke: #A80036; stroke-width: 1.0;\"/><path d=\"M45.9063,129.875 L45.9063,133.5469 L47.5313,133.5469 Q48.7031,133.5469 49.1719,133.1563 Q49.6406,132.75 49.6406,131.75 Q49.6406,130.75 49.1406,130.3125 Q48.6563,129.875 47.5313,129.875 L45.9063,129.875 Z M45.9063,125.0469 L45.9063,127.9219 L47.5313,127.9219 Q48.4531,127.9219 48.8438,127.5938 Q49.25,127.25 49.25,126.5 Q49.25,125.7344 48.8438,125.3906 Q48.4375,125.0469 47.5313,125.0469 L45.9063,125.0469 Z M43.5313,123.0938 L47.5313,123.0938 Q49.5938,123.0938 50.6406,123.875 Q51.6875,124.6563 51.6875,126.2188 Q51.6875,127.4219 51.0625,128.0938 Q50.4531,128.7656 49.2656,128.875 Q50.6875,129.0156 51.4063,129.8281 Q52.125,130.6406 52.125,132.0938 Q52.125,133.8906 51.0469,134.7031 Q49.9688,135.5 47.5313,135.5 L43.5313,135.5 L43.5313,123.0938 Z \"/><text fill=\"#000000\" font-family=\"sans-serif\" font-size=\"12\" lengthAdjust=\"spacingAndGlyphs\" textLength=\"58\" x=\"61\" y=\"133.6543\">Exposure</text><line style=\"stroke: #A80036; stroke-width: 1.5;\" x1=\"33\" x2=\"121\" y1=\"145.5\" y2=\"145.5\"/></a><text fill=\"#000000\" font-family=\"sans-serif\" font-size=\"14\" lengthAdjust=\"spacingAndGlyphs\" textLength=\"23\" x=\"607.5\" y=\"333.4951\">xrsl</text><rect fill=\"#A80036\" height=\"12\" style=\"stroke: #FEFECE; stroke-width: 1.5;\" width=\"12\" x=\"613\" y=\"308.5\"/><text fill=\"#000000\" font-family=\"sans-serif\" font-size=\"14\" lengthAdjust=\"spacingAndGlyphs\" textLength=\"19\" x=\"467.5\" y=\"112.1982\">xsf</text><rect fill=\"#A80036\" height=\"12\" style=\"stroke: #FEFECE; stroke-width: 1.5;\" width=\"12\" x=\"471\" y=\"127.5\"/><text fill=\"#000000\" font-family=\"sans-serif\" font-size=\"14\" lengthAdjust=\"spacingAndGlyphs\" textLength=\"48\" x=\"275\" y=\"333.4951\">$result</text><rect fill=\"#A80036\" height=\"12\" style=\"stroke: #FEFECE; stroke-width: 1.5;\" width=\"12\" x=\"293\" y=\"308.5\"/><text fill=\"#000000\" font-family=\"sans-serif\" font-size=\"14\" lengthAdjust=\"spacingAndGlyphs\" textLength=\"23\" x=\"334.5\" y=\"333.4951\">xrsl</text><rect fill=\"#A80036\" height=\"12\" style=\"stroke: #FEFECE; stroke-width: 1.5;\" width=\"12\" x=\"340\" y=\"308.5\"/><text fill=\"#000000\" font-family=\"sans-serif\" font-size=\"14\" lengthAdjust=\"spacingAndGlyphs\" textLength=\"48\" x=\"182\" y=\"405.4951\">$result</text><rect fill=\"#A80036\" height=\"12\" style=\"stroke: #FEFECE; stroke-width: 1.5;\" width=\"12\" x=\"200\" y=\"380.5\"/><text fill=\"#000000\" font-family=\"sans-serif\" font-size=\"14\" lengthAdjust=\"spacingAndGlyphs\" textLength=\"19\" x=\"198.5\" y=\"112.1982\">xsf</text><rect fill=\"#A80036\" height=\"12\" style=\"stroke: #FEFECE; stroke-width: 1.5;\" width=\"12\" x=\"202\" y=\"127.5\"/><!--MD5=[1a32ec12dc53984e1d9a45a441c4ae0a]\n",
       "@startuml\r\n",
       " \r\n",
       "package \"PictureTaking\" as E1  [[psysml:14e6fe4c-a4d9-4c34-a316-9cbabb101fb1 ]]  {\r\n",
       "comp def \"Exposure\" as E2  << (B,green) >> [[psysml:9a8bab7b-7078-4a6b-add3-8a1328b0c2d6 ]] {\r\n",
       "}\r\n",
       "rec def \"Focus\" as E3  <<(D,brown)action def>> [[psysml:44676d48-2ba6-47f9-b761-758fcbe31dbd ]] {\r\n",
       "portout \"xrsl\" as E4  [[psysml:7285223f-23e3-4ded-a1a3-c8dbe746ff9d ]] \r\n",
       "}\r\n",
       "\r\n",
       "rec def \"Shoot\" as E5  <<(D,brown)action def>> [[psysml:d9adf687-8d42-42d3-b1b5-8b6413ee0fad ]] {\r\n",
       "portin \"xsf\" as E6  [[psysml:3f6601e8-74ad-4acc-b654-2e93fe2ad4c3 ]] \r\n",
       "}\r\n",
       "\r\n",
       "rec usage \"takePicture\" as E7  <<(U,orange)action>> [[psysml:704c53cf-e737-43c7-aaa6-afd6aa41e73e ]] {\r\n",
       "rec usage \"focus\" as E8  <<(U,orange)action>> [[psysml:247459c4-dc1c-41f3-9bbd-2210d0a14144 ]] {\r\n",
       "portout \"$result\" as E9  [[psysml:d24c4944-7685-4e9e-b1e9-aa0857e67b68 ]] \r\n",
       "portout \"xrsl\" as E10  [[psysml:a9b63f0e-a7c1-4470-82ae-da9c74073d16 ]] \r\n",
       "}\r\n",
       "\r\n",
       "rec usage \"shoot\" as E11  <<(U,orange)action>> [[psysml:d7e0c4ce-9a2d-4e4d-8f17-58d415aecc73 ]] {\r\n",
       "portout \"$result\" as E12  [[psysml:edaf4370-9fef-4792-934f-b7a89f5913cc ]] \r\n",
       "portin \"xsf\" as E13  [[psysml:1ee0e316-c080-4a1b-aa8d-122e3ae24dab ]] \r\n",
       "}\r\n",
       "\r\n",
       "}\r\n",
       "\r\n",
       "}\r\n",
       "@enduml\r\n",
       "\n",
       "PlantUML version 1.2020.13(Sat Jun 13 12:26:38 UTC 2020)\n",
       "(EPL source distribution)\n",
       "Java Runtime: OpenJDK Runtime Environment\n",
       "JVM: OpenJDK 64-Bit Server VM\n",
       "Default Encoding: UTF-8\n",
       "Language: en\n",
       "Country: null\n",
       "--></g></svg>"
      ]
     },
     "execution_count": 36,
     "metadata": {},
     "output_type": "execute_result"
    }
   ],
   "source": [
    "%viz --style=\"PLANTUML\" --view=\"MIXED\" \"PictureTaking\""
   ]
  },
  {
   "cell_type": "code",
   "execution_count": 37,
   "id": "9e9cef30",
   "metadata": {
    "execution": {
     "iopub.execute_input": "2021-04-20T07:32:03.946833Z",
     "iopub.status.busy": "2021-04-20T07:32:03.946393Z",
     "iopub.status.idle": "2021-04-20T07:32:04.008626Z",
     "shell.execute_reply": "2021-04-20T07:32:04.008181Z"
    }
   },
   "outputs": [
    {
     "data": {
      "image/svg+xml": [
       "<?xml version=\"1.0\" encoding=\"UTF-8\" standalone=\"no\"?><svg xmlns=\"http://www.w3.org/2000/svg\" xmlns:xlink=\"http://www.w3.org/1999/xlink\" contentScriptType=\"application/ecmascript\" contentStyleType=\"text/css\" height=\"455px\" preserveAspectRatio=\"none\" style=\"width:700px;height:455px;\" version=\"1.1\" viewBox=\"0 0 700 455\" width=\"700px\" zoomAndPan=\"magnify\"><defs/><g><!--MD5=[fbc87193dbaf4d95561dea2c320d4a47]\n",
       "cluster E1--><a href=\"psysml:14e6fe4c-a4d9-4c34-a316-9cbabb101fb1\" target=\"_top\" title=\"psysml:14e6fe4c-a4d9-4c34-a316-9cbabb101fb1\" xlink:actuate=\"onRequest\" xlink:href=\"psysml:14e6fe4c-a4d9-4c34-a316-9cbabb101fb1\" xlink:show=\"new\" xlink:title=\"psysml:14e6fe4c-a4d9-4c34-a316-9cbabb101fb1\" xlink:type=\"simple\"><polygon fill=\"#FFFFFF\" points=\"16,6,130,6,137,28.2969,678,28.2969,678,443.5,16,443.5,16,6\" style=\"stroke: #000000; stroke-width: 1.5;\"/><line style=\"stroke: #000000; stroke-width: 1.5;\" x1=\"16\" x2=\"137\" y1=\"28.2969\" y2=\"28.2969\"/><text fill=\"#000000\" font-family=\"sans-serif\" font-size=\"14\" font-weight=\"bold\" lengthAdjust=\"spacingAndGlyphs\" textLength=\"108\" x=\"20\" y=\"20.9951\">PictureTaking</text></a><!--MD5=[d5e69f78d87373223dbae638b30a9c99]\n",
       "cluster E3--><a href=\"psysml:44676d48-2ba6-47f9-b761-758fcbe31dbd\" target=\"_top\" title=\"psysml:44676d48-2ba6-47f9-b761-758fcbe31dbd\" xlink:actuate=\"onRequest\" xlink:href=\"psysml:44676d48-2ba6-47f9-b761-758fcbe31dbd\" xlink:show=\"new\" xlink:title=\"psysml:44676d48-2ba6-47f9-b761-758fcbe31dbd\" xlink:type=\"simple\"><rect fill=\"#FFFFFF\" height=\"217.5\" id=\"E3\" style=\"stroke: #383838; stroke-width: 1.5;\" width=\"134\" x=\"528\" y=\"100\"/><rect fill=\"#F8F8F8\" height=\"37.9375\" style=\"stroke: #383838; stroke-width: 1.5;\" width=\"134\" x=\"528\" y=\"100\"/><text fill=\"#000000\" font-family=\"sans-serif\" font-size=\"12\" font-style=\"italic\" lengthAdjust=\"spacingAndGlyphs\" textLength=\"77\" x=\"556.5\" y=\"116.1387\">«action def»</text><text fill=\"#000000\" font-family=\"sans-serif\" font-size=\"12\" lengthAdjust=\"spacingAndGlyphs\" textLength=\"37\" x=\"576.5\" y=\"130.1074\">Focus</text></a><!--MD5=[de5ec2e2e8f62f467e546659f5068c88]\n",
       "cluster E5--><a href=\"psysml:d9adf687-8d42-42d3-b1b5-8b6413ee0fad\" target=\"_top\" title=\"psysml:d9adf687-8d42-42d3-b1b5-8b6413ee0fad\" xlink:actuate=\"onRequest\" xlink:href=\"psysml:d9adf687-8d42-42d3-b1b5-8b6413ee0fad\" xlink:show=\"new\" xlink:title=\"psysml:d9adf687-8d42-42d3-b1b5-8b6413ee0fad\" xlink:type=\"simple\"><rect fill=\"#FFFFFF\" height=\"134\" id=\"E5\" style=\"stroke: #383838; stroke-width: 1.5;\" width=\"134\" x=\"386\" y=\"133.5\"/><rect fill=\"#F8F8F8\" height=\"37.9375\" style=\"stroke: #383838; stroke-width: 1.5;\" width=\"134\" x=\"386\" y=\"133.5\"/><text fill=\"#000000\" font-family=\"sans-serif\" font-size=\"12\" font-style=\"italic\" lengthAdjust=\"spacingAndGlyphs\" textLength=\"77\" x=\"414.5\" y=\"149.6387\">«action def»</text><text fill=\"#000000\" font-family=\"sans-serif\" font-size=\"12\" lengthAdjust=\"spacingAndGlyphs\" textLength=\"37\" x=\"434.5\" y=\"163.6074\">Shoot</text></a><!--MD5=[168fadf3d0c3fd93dd5d6da1b1d7ab76]\n",
       "cluster E7--><a href=\"psysml:704c53cf-e737-43c7-aaa6-afd6aa41e73e\" target=\"_top\" title=\"psysml:704c53cf-e737-43c7-aaa6-afd6aa41e73e\" xlink:actuate=\"onRequest\" xlink:href=\"psysml:704c53cf-e737-43c7-aaa6-afd6aa41e73e\" xlink:show=\"new\" xlink:title=\"psysml:704c53cf-e737-43c7-aaa6-afd6aa41e73e\" xlink:type=\"simple\"><rect fill=\"#FFFFFF\" height=\"370.5\" id=\"E7\" rx=\"10\" ry=\"10\" style=\"stroke: #383838; stroke-width: 1.5;\" width=\"256\" x=\"114\" y=\"49\"/><rect fill=\"#F8F8F8\" height=\"37.9375\" rx=\"10\" ry=\"10\" style=\"stroke: #F8F8F8; stroke-width: 1.5;\" width=\"256\" x=\"114\" y=\"49\"/><rect fill=\"#F8F8F8\" height=\"10\" style=\"stroke: #F8F8F8; stroke-width: 1.5;\" width=\"256\" x=\"114\" y=\"76.9375\"/><rect fill=\"none\" height=\"370.5\" id=\"E7\" rx=\"10\" ry=\"10\" style=\"stroke: #383838; stroke-width: 1.5;\" width=\"256\" x=\"114\" y=\"49\"/><text fill=\"#000000\" font-family=\"sans-serif\" font-size=\"12\" font-style=\"italic\" lengthAdjust=\"spacingAndGlyphs\" textLength=\"53\" x=\"215.5\" y=\"65.1387\">«action»</text><text fill=\"#000000\" font-family=\"sans-serif\" font-size=\"12\" lengthAdjust=\"spacingAndGlyphs\" textLength=\"72\" x=\"206\" y=\"79.1074\">takePicture</text><line style=\"stroke: #383838; stroke-width: 1.0;\" x1=\"114\" x2=\"370\" y1=\"86.9375\" y2=\"86.9375\"/></a><!--MD5=[55dfccfc6c49c2d10cd1bd2211a6c90c]\n",
       "cluster E8--><a href=\"psysml:247459c4-dc1c-41f3-9bbd-2210d0a14144\" target=\"_top\" title=\"psysml:247459c4-dc1c-41f3-9bbd-2210d0a14144\" xlink:actuate=\"onRequest\" xlink:href=\"psysml:247459c4-dc1c-41f3-9bbd-2210d0a14144\" xlink:show=\"new\" xlink:title=\"psysml:247459c4-dc1c-41f3-9bbd-2210d0a14144\" xlink:type=\"simple\"><rect fill=\"#FFFFFF\" height=\"217.5\" id=\"E8\" rx=\"10\" ry=\"10\" style=\"stroke: #383838; stroke-width: 1.5;\" width=\"83\" x=\"257\" y=\"100\"/><rect fill=\"#F8F8F8\" height=\"37.9375\" rx=\"10\" ry=\"10\" style=\"stroke: #F8F8F8; stroke-width: 1.5;\" width=\"83\" x=\"257\" y=\"100\"/><rect fill=\"#F8F8F8\" height=\"10\" style=\"stroke: #F8F8F8; stroke-width: 1.5;\" width=\"83\" x=\"257\" y=\"127.9375\"/><rect fill=\"none\" height=\"217.5\" id=\"E8\" rx=\"10\" ry=\"10\" style=\"stroke: #383838; stroke-width: 1.5;\" width=\"83\" x=\"257\" y=\"100\"/><text fill=\"#000000\" font-family=\"sans-serif\" font-size=\"12\" font-style=\"italic\" lengthAdjust=\"spacingAndGlyphs\" textLength=\"53\" x=\"272\" y=\"116.1387\">«action»</text><text fill=\"#000000\" font-family=\"sans-serif\" font-size=\"12\" lengthAdjust=\"spacingAndGlyphs\" textLength=\"34\" x=\"281.5\" y=\"130.1074\">focus</text><line style=\"stroke: #383838; stroke-width: 1.0;\" x1=\"257\" x2=\"340\" y1=\"137.9375\" y2=\"137.9375\"/></a><!--MD5=[917b9dd0c7eca3ee5f47219d1a84c0ad]\n",
       "cluster E11--><a href=\"psysml:d7e0c4ce-9a2d-4e4d-8f17-58d415aecc73\" target=\"_top\" title=\"psysml:d7e0c4ce-9a2d-4e4d-8f17-58d415aecc73\" xlink:actuate=\"onRequest\" xlink:href=\"psysml:d7e0c4ce-9a2d-4e4d-8f17-58d415aecc73\" xlink:show=\"new\" xlink:title=\"psysml:d7e0c4ce-9a2d-4e4d-8f17-58d415aecc73\" xlink:type=\"simple\"><rect fill=\"#FFFFFF\" height=\"256\" id=\"E11\" rx=\"10\" ry=\"10\" style=\"stroke: #383838; stroke-width: 1.5;\" width=\"74\" x=\"164\" y=\"133.5\"/><rect fill=\"#F8F8F8\" height=\"37.9375\" rx=\"10\" ry=\"10\" style=\"stroke: #F8F8F8; stroke-width: 1.5;\" width=\"74\" x=\"164\" y=\"133.5\"/><rect fill=\"#F8F8F8\" height=\"10\" style=\"stroke: #F8F8F8; stroke-width: 1.5;\" width=\"74\" x=\"164\" y=\"161.4375\"/><rect fill=\"none\" height=\"256\" id=\"E11\" rx=\"10\" ry=\"10\" style=\"stroke: #383838; stroke-width: 1.5;\" width=\"74\" x=\"164\" y=\"133.5\"/><text fill=\"#000000\" font-family=\"sans-serif\" font-size=\"12\" font-style=\"italic\" lengthAdjust=\"spacingAndGlyphs\" textLength=\"53\" x=\"174.5\" y=\"149.6387\">«action»</text><text fill=\"#000000\" font-family=\"sans-serif\" font-size=\"12\" lengthAdjust=\"spacingAndGlyphs\" textLength=\"36\" x=\"183\" y=\"163.6074\">shoot</text><line style=\"stroke: #383838; stroke-width: 1.0;\" x1=\"164\" x2=\"238\" y1=\"171.4375\" y2=\"171.4375\"/></a><!--MD5=[b4997ac47864f28c2f74865a473b2911]\n",
       "class E2--><a href=\"psysml:9a8bab7b-7078-4a6b-add3-8a1328b0c2d6\" target=\"_top\" title=\"psysml:9a8bab7b-7078-4a6b-add3-8a1328b0c2d6\" xlink:actuate=\"onRequest\" xlink:href=\"psysml:9a8bab7b-7078-4a6b-add3-8a1328b0c2d6\" xlink:show=\"new\" xlink:title=\"psysml:9a8bab7b-7078-4a6b-add3-8a1328b0c2d6\" xlink:type=\"simple\"><rect fill=\"#FFFFFF\" height=\"45.9375\" id=\"E2\" style=\"stroke: #383838; stroke-width: 1.5;\" width=\"66\" x=\"32\" y=\"110.5\"/><text fill=\"#000000\" font-family=\"sans-serif\" font-size=\"12\" font-style=\"italic\" lengthAdjust=\"spacingAndGlyphs\" textLength=\"64\" x=\"33\" y=\"126.6387\">«part def»</text><text fill=\"#000000\" font-family=\"sans-serif\" font-size=\"12\" lengthAdjust=\"spacingAndGlyphs\" textLength=\"58\" x=\"36\" y=\"140.6074\">Exposure</text><line style=\"stroke: #383838; stroke-width: 1.5;\" x1=\"33\" x2=\"97\" y1=\"148.4375\" y2=\"148.4375\"/></a><text fill=\"#000000\" font-family=\"sans-serif\" font-size=\"14\" lengthAdjust=\"spacingAndGlyphs\" textLength=\"23\" x=\"583.5\" y=\"336.4951\">xrsl</text><rect fill=\"#383838\" height=\"12\" style=\"stroke: #F8F8F8; stroke-width: 1.5;\" width=\"12\" x=\"589\" y=\"311.5\"/><text fill=\"#000000\" font-family=\"sans-serif\" font-size=\"14\" lengthAdjust=\"spacingAndGlyphs\" textLength=\"19\" x=\"443.5\" y=\"112.1982\">xsf</text><rect fill=\"#383838\" height=\"12\" style=\"stroke: #F8F8F8; stroke-width: 1.5;\" width=\"12\" x=\"447\" y=\"127.5\"/><text fill=\"#000000\" font-family=\"sans-serif\" font-size=\"14\" lengthAdjust=\"spacingAndGlyphs\" textLength=\"48\" x=\"251\" y=\"336.4951\">$result</text><rect fill=\"#383838\" height=\"12\" style=\"stroke: #F8F8F8; stroke-width: 1.5;\" width=\"12\" x=\"269\" y=\"311.5\"/><text fill=\"#000000\" font-family=\"sans-serif\" font-size=\"14\" lengthAdjust=\"spacingAndGlyphs\" textLength=\"23\" x=\"310.5\" y=\"336.4951\">xrsl</text><rect fill=\"#383838\" height=\"12\" style=\"stroke: #F8F8F8; stroke-width: 1.5;\" width=\"12\" x=\"316\" y=\"311.5\"/><text fill=\"#000000\" font-family=\"sans-serif\" font-size=\"14\" lengthAdjust=\"spacingAndGlyphs\" textLength=\"48\" x=\"158\" y=\"408.4951\">$result</text><rect fill=\"#383838\" height=\"12\" style=\"stroke: #F8F8F8; stroke-width: 1.5;\" width=\"12\" x=\"176\" y=\"383.5\"/><text fill=\"#000000\" font-family=\"sans-serif\" font-size=\"14\" lengthAdjust=\"spacingAndGlyphs\" textLength=\"19\" x=\"174.5\" y=\"112.1982\">xsf</text><rect fill=\"#383838\" height=\"12\" style=\"stroke: #F8F8F8; stroke-width: 1.5;\" width=\"12\" x=\"178\" y=\"127.5\"/><!--MD5=[62de43f8383f1ab0c42bdd89662cb408]\n",
       "@startuml\r\n",
       "skinparam monochrome true\r\n",
       "skinparam classbackgroundcolor white\r\n",
       "skinparam shadowing false\r\n",
       "skinparam wrapWidth 300\r\n",
       "hide circle\r\n",
       "\r\n",
       "package \"PictureTaking\" as E1  [[psysml:14e6fe4c-a4d9-4c34-a316-9cbabb101fb1 ]]  {\r\n",
       "comp def \"Exposure\" as E2  <<(T,blue)part def>> [[psysml:9a8bab7b-7078-4a6b-add3-8a1328b0c2d6 ]] {\r\n",
       "}\r\n",
       "rec def \"Focus\" as E3  <<(T,blue)action def>> [[psysml:44676d48-2ba6-47f9-b761-758fcbe31dbd ]] {\r\n",
       "portout \"xrsl\" as E4  [[psysml:7285223f-23e3-4ded-a1a3-c8dbe746ff9d ]] \r\n",
       "}\r\n",
       "\r\n",
       "rec def \"Shoot\" as E5  <<(T,blue)action def>> [[psysml:d9adf687-8d42-42d3-b1b5-8b6413ee0fad ]] {\r\n",
       "portin \"xsf\" as E6  [[psysml:3f6601e8-74ad-4acc-b654-2e93fe2ad4c3 ]] \r\n",
       "}\r\n",
       "\r\n",
       "rec usage \"takePicture\" as E7  <<(T,blue)action>> [[psysml:704c53cf-e737-43c7-aaa6-afd6aa41e73e ]] {\r\n",
       "rec usage \"focus\" as E8  <<(T,blue)action>> [[psysml:247459c4-dc1c-41f3-9bbd-2210d0a14144 ]] {\r\n",
       "portout \"$result\" as E9  [[psysml:d24c4944-7685-4e9e-b1e9-aa0857e67b68 ]] \r\n",
       "portout \"xrsl\" as E10  [[psysml:a9b63f0e-a7c1-4470-82ae-da9c74073d16 ]] \r\n",
       "}\r\n",
       "\r\n",
       "rec usage \"shoot\" as E11  <<(T,blue)action>> [[psysml:d7e0c4ce-9a2d-4e4d-8f17-58d415aecc73 ]] {\r\n",
       "portout \"$result\" as E12  [[psysml:edaf4370-9fef-4792-934f-b7a89f5913cc ]] \r\n",
       "portin \"xsf\" as E13  [[psysml:1ee0e316-c080-4a1b-aa8d-122e3ae24dab ]] \r\n",
       "}\r\n",
       "\r\n",
       "}\r\n",
       "\r\n",
       "}\r\n",
       "@enduml\r\n",
       "\n",
       "PlantUML version 1.2020.13(Sat Jun 13 12:26:38 UTC 2020)\n",
       "(EPL source distribution)\n",
       "Java Runtime: OpenJDK Runtime Environment\n",
       "JVM: OpenJDK 64-Bit Server VM\n",
       "Default Encoding: UTF-8\n",
       "Language: en\n",
       "Country: null\n",
       "--></g></svg>"
      ]
     },
     "execution_count": 37,
     "metadata": {},
     "output_type": "execute_result"
    }
   ],
   "source": [
    "%viz --style=\"DEFAULT\" --view=\"Default\" \"PictureTaking\""
   ]
  },
  {
   "cell_type": "code",
   "execution_count": 38,
   "id": "b8cc4788",
   "metadata": {
    "execution": {
     "iopub.execute_input": "2021-04-20T07:32:04.060663Z",
     "iopub.status.busy": "2021-04-20T07:32:04.060064Z",
     "iopub.status.idle": "2021-04-20T07:32:04.097786Z",
     "shell.execute_reply": "2021-04-20T07:32:04.096180Z"
    }
   },
   "outputs": [
    {
     "data": {
      "image/svg+xml": [
       "<?xml version=\"1.0\" encoding=\"UTF-8\" standalone=\"no\"?><svg xmlns=\"http://www.w3.org/2000/svg\" xmlns:xlink=\"http://www.w3.org/1999/xlink\" contentScriptType=\"application/ecmascript\" contentStyleType=\"text/css\" height=\"452px\" preserveAspectRatio=\"none\" style=\"width:278px;height:452px;\" version=\"1.1\" viewBox=\"0 0 278 452\" width=\"278px\" zoomAndPan=\"magnify\"><defs/><g><!--MD5=[fbc87193dbaf4d95561dea2c320d4a47]\n",
       "cluster E1--><a href=\"psysml:14e6fe4c-a4d9-4c34-a316-9cbabb101fb1\" target=\"_top\" title=\"psysml:14e6fe4c-a4d9-4c34-a316-9cbabb101fb1\" xlink:actuate=\"onRequest\" xlink:href=\"psysml:14e6fe4c-a4d9-4c34-a316-9cbabb101fb1\" xlink:show=\"new\" xlink:title=\"psysml:14e6fe4c-a4d9-4c34-a316-9cbabb101fb1\" xlink:type=\"simple\"><polygon fill=\"#FFFFFF\" points=\"16,6,130,6,137,28.2969,256,28.2969,256,440,16,440,16,6\" style=\"stroke: #000000; stroke-width: 1.5;\"/><line style=\"stroke: #000000; stroke-width: 1.5;\" x1=\"16\" x2=\"137\" y1=\"28.2969\" y2=\"28.2969\"/><text fill=\"#000000\" font-family=\"sans-serif\" font-size=\"14\" font-weight=\"bold\" lengthAdjust=\"spacingAndGlyphs\" textLength=\"108\" x=\"20\" y=\"20.9951\">PictureTaking</text></a><!--MD5=[b4997ac47864f28c2f74865a473b2911]\n",
       "class E2--><a href=\"psysml:9a8bab7b-7078-4a6b-add3-8a1328b0c2d6\" target=\"_top\" title=\"psysml:9a8bab7b-7078-4a6b-add3-8a1328b0c2d6\" xlink:actuate=\"onRequest\" xlink:href=\"psysml:9a8bab7b-7078-4a6b-add3-8a1328b0c2d6\" xlink:show=\"new\" xlink:title=\"psysml:9a8bab7b-7078-4a6b-add3-8a1328b0c2d6\" xlink:type=\"simple\"><rect fill=\"#FFFFFF\" height=\"45.9375\" id=\"E2\" style=\"stroke: #383838; stroke-width: 1.5;\" width=\"66\" x=\"103\" y=\"378\"/><text fill=\"#000000\" font-family=\"sans-serif\" font-size=\"12\" font-style=\"italic\" lengthAdjust=\"spacingAndGlyphs\" textLength=\"64\" x=\"104\" y=\"394.1387\">«part def»</text><text fill=\"#000000\" font-family=\"sans-serif\" font-size=\"12\" lengthAdjust=\"spacingAndGlyphs\" textLength=\"58\" x=\"107\" y=\"408.1074\">Exposure</text><line style=\"stroke: #383838; stroke-width: 1.5;\" x1=\"104\" x2=\"168\" y1=\"415.9375\" y2=\"415.9375\"/></a><!--MD5=[09b614a08d8cba4a07c9adeb5e0fee81]\n",
       "class E3--><a href=\"psysml:44676d48-2ba6-47f9-b761-758fcbe31dbd\" target=\"_top\" title=\"psysml:44676d48-2ba6-47f9-b761-758fcbe31dbd\" xlink:actuate=\"onRequest\" xlink:href=\"psysml:44676d48-2ba6-47f9-b761-758fcbe31dbd\" xlink:show=\"new\" xlink:title=\"psysml:44676d48-2ba6-47f9-b761-758fcbe31dbd\" xlink:type=\"simple\"><rect fill=\"#FFFFFF\" height=\"45.9375\" id=\"E3\" style=\"stroke: #383838; stroke-width: 1.5;\" width=\"79\" x=\"38.5\" y=\"255\"/><text fill=\"#000000\" font-family=\"sans-serif\" font-size=\"12\" font-style=\"italic\" lengthAdjust=\"spacingAndGlyphs\" textLength=\"77\" x=\"39.5\" y=\"271.1387\">«action def»</text><text fill=\"#000000\" font-family=\"sans-serif\" font-size=\"12\" lengthAdjust=\"spacingAndGlyphs\" textLength=\"37\" x=\"59.5\" y=\"285.1074\">Focus</text><line style=\"stroke: #383838; stroke-width: 1.5;\" x1=\"39.5\" x2=\"116.5\" y1=\"292.9375\" y2=\"292.9375\"/></a><!--MD5=[ebbe1d658d1005bcc118a6aa81145e00]\n",
       "class E4--><a href=\"psysml:d9adf687-8d42-42d3-b1b5-8b6413ee0fad\" target=\"_top\" title=\"psysml:d9adf687-8d42-42d3-b1b5-8b6413ee0fad\" xlink:actuate=\"onRequest\" xlink:href=\"psysml:d9adf687-8d42-42d3-b1b5-8b6413ee0fad\" xlink:show=\"new\" xlink:title=\"psysml:d9adf687-8d42-42d3-b1b5-8b6413ee0fad\" xlink:type=\"simple\"><rect fill=\"#FFFFFF\" height=\"45.9375\" id=\"E4\" style=\"stroke: #383838; stroke-width: 1.5;\" width=\"79\" x=\"154.5\" y=\"255\"/><text fill=\"#000000\" font-family=\"sans-serif\" font-size=\"12\" font-style=\"italic\" lengthAdjust=\"spacingAndGlyphs\" textLength=\"77\" x=\"155.5\" y=\"271.1387\">«action def»</text><text fill=\"#000000\" font-family=\"sans-serif\" font-size=\"12\" lengthAdjust=\"spacingAndGlyphs\" textLength=\"37\" x=\"175.5\" y=\"285.1074\">Shoot</text><line style=\"stroke: #383838; stroke-width: 1.5;\" x1=\"155.5\" x2=\"232.5\" y1=\"292.9375\" y2=\"292.9375\"/></a><!--MD5=[270fce915f116d4de14055a7c1d9a0f3]\n",
       "class E5--><a href=\"psysml:704c53cf-e737-43c7-aaa6-afd6aa41e73e\" target=\"_top\" title=\"psysml:704c53cf-e737-43c7-aaa6-afd6aa41e73e\" xlink:actuate=\"onRequest\" xlink:href=\"psysml:704c53cf-e737-43c7-aaa6-afd6aa41e73e\" xlink:show=\"new\" xlink:title=\"psysml:704c53cf-e737-43c7-aaa6-afd6aa41e73e\" xlink:type=\"simple\"><rect fill=\"#FFFFFF\" height=\"45.9375\" id=\"E5\" rx=\"10\" ry=\"10\" style=\"stroke: #383838; stroke-width: 1.5;\" width=\"78\" x=\"96\" y=\"41\"/><text fill=\"#000000\" font-family=\"sans-serif\" font-size=\"12\" font-style=\"italic\" lengthAdjust=\"spacingAndGlyphs\" textLength=\"53\" x=\"108.5\" y=\"57.1387\">«action»</text><text fill=\"#000000\" font-family=\"sans-serif\" font-size=\"12\" lengthAdjust=\"spacingAndGlyphs\" textLength=\"72\" x=\"99\" y=\"71.1074\">takePicture</text><line style=\"stroke: #383838; stroke-width: 1.5;\" x1=\"97\" x2=\"173\" y1=\"78.9375\" y2=\"78.9375\"/></a><!--MD5=[60a26617385b1d2d0262a64233df1f8d]\n",
       "class E6--><a href=\"psysml:247459c4-dc1c-41f3-9bbd-2210d0a14144\" target=\"_top\" title=\"psysml:247459c4-dc1c-41f3-9bbd-2210d0a14144\" xlink:actuate=\"onRequest\" xlink:href=\"psysml:247459c4-dc1c-41f3-9bbd-2210d0a14144\" xlink:show=\"new\" xlink:title=\"psysml:247459c4-dc1c-41f3-9bbd-2210d0a14144\" xlink:type=\"simple\"><rect fill=\"#FFFFFF\" height=\"45.9375\" id=\"E6\" rx=\"10\" ry=\"10\" style=\"stroke: #383838; stroke-width: 1.5;\" width=\"85\" x=\"32.5\" y=\"148\"/><text fill=\"#000000\" font-family=\"sans-serif\" font-size=\"12\" font-style=\"italic\" lengthAdjust=\"spacingAndGlyphs\" textLength=\"53\" x=\"48.5\" y=\"164.1387\">«action»</text><text fill=\"#000000\" font-family=\"sans-serif\" font-size=\"12\" lengthAdjust=\"spacingAndGlyphs\" textLength=\"79\" x=\"35.5\" y=\"178.1074\">focus: Focus</text><line style=\"stroke: #383838; stroke-width: 1.5;\" x1=\"33.5\" x2=\"116.5\" y1=\"185.9375\" y2=\"185.9375\"/></a><!--MD5=[2156ba9850f5573cc1fc38a6a4b2f02b]\n",
       "class E7--><a href=\"psysml:d7e0c4ce-9a2d-4e4d-8f17-58d415aecc73\" target=\"_top\" title=\"psysml:d7e0c4ce-9a2d-4e4d-8f17-58d415aecc73\" xlink:actuate=\"onRequest\" xlink:href=\"psysml:d7e0c4ce-9a2d-4e4d-8f17-58d415aecc73\" xlink:show=\"new\" xlink:title=\"psysml:d7e0c4ce-9a2d-4e4d-8f17-58d415aecc73\" xlink:type=\"simple\"><rect fill=\"#FFFFFF\" height=\"45.9375\" id=\"E7\" rx=\"10\" ry=\"10\" style=\"stroke: #383838; stroke-width: 1.5;\" width=\"87\" x=\"152.5\" y=\"148\"/><text fill=\"#000000\" font-family=\"sans-serif\" font-size=\"12\" font-style=\"italic\" lengthAdjust=\"spacingAndGlyphs\" textLength=\"53\" x=\"169.5\" y=\"164.1387\">«action»</text><text fill=\"#000000\" font-family=\"sans-serif\" font-size=\"12\" lengthAdjust=\"spacingAndGlyphs\" textLength=\"81\" x=\"155.5\" y=\"178.1074\">shoot: Shoot</text><line style=\"stroke: #383838; stroke-width: 1.5;\" x1=\"153.5\" x2=\"238.5\" y1=\"185.9375\" y2=\"185.9375\"/></a><!--MD5=[b900ca4392aad7a68aec1e9245e10ab9]\n",
       "reverse link E3 to E2--><a href=\"psysml:7285223f-23e3-4ded-a1a3-c8dbe746ff9d\" target=\"_top\" title=\"psysml:7285223f-23e3-4ded-a1a3-c8dbe746ff9d\" xlink:actuate=\"onRequest\" xlink:href=\"psysml:7285223f-23e3-4ded-a1a3-c8dbe746ff9d\" xlink:show=\"new\" xlink:title=\"psysml:7285223f-23e3-4ded-a1a3-c8dbe746ff9d\" xlink:type=\"simple\"><path d=\"M94.32,313.04 C104.29,333.84 116.74,359.82 125.43,377.95 \" fill=\"none\" id=\"E3&lt;-E2\" style=\"stroke: #383838; stroke-width: 1.0;\"/><polygon fill=\"#FFFFFF\" points=\"88.64,301.19,87.6227,308.329,93.8212,312.0138,94.8385,304.8748,88.64,301.19\" style=\"stroke: #383838; stroke-width: 1.0;\"/><text fill=\"#000000\" font-family=\"sans-serif\" font-size=\"13\" lengthAdjust=\"spacingAndGlyphs\" textLength=\"22\" x=\"111\" y=\"344.0669\">xrsl</text></a><!--MD5=[ddeed8deb2209213b62e6cfabaa108b2]\n",
       "reverse link E4 to E2--><a href=\"psysml:3f6601e8-74ad-4acc-b654-2e93fe2ad4c3\" target=\"_top\" title=\"psysml:3f6601e8-74ad-4acc-b654-2e93fe2ad4c3\" xlink:actuate=\"onRequest\" xlink:href=\"psysml:3f6601e8-74ad-4acc-b654-2e93fe2ad4c3\" xlink:show=\"new\" xlink:title=\"psysml:3f6601e8-74ad-4acc-b654-2e93fe2ad4c3\" xlink:type=\"simple\"><path d=\"M177.68,313.04 C167.71,333.84 155.26,359.82 146.57,377.95 \" fill=\"none\" id=\"E4&lt;-E2\" style=\"stroke: #383838; stroke-width: 1.0;\"/><polygon fill=\"#FFFFFF\" points=\"183.36,301.19,177.1615,304.8748,178.1788,312.0138,184.3773,308.329,183.36,301.19\" style=\"stroke: #383838; stroke-width: 1.0;\"/><text fill=\"#000000\" font-family=\"sans-serif\" font-size=\"13\" lengthAdjust=\"spacingAndGlyphs\" textLength=\"18\" x=\"169\" y=\"344.0669\">xsf</text></a><!--MD5=[85d356282659285ab4b2cfe2f634dd2b]\n",
       "reverse link E5 to E6--><a href=\"psysml:b27ee466-0f4c-4005-a5ef-b2dd2df76771\" target=\"_top\" title=\"psysml:b27ee466-0f4c-4005-a5ef-b2dd2df76771\" xlink:actuate=\"onRequest\" xlink:href=\"psysml:b27ee466-0f4c-4005-a5ef-b2dd2df76771\" xlink:show=\"new\" xlink:title=\"psysml:b27ee466-0f4c-4005-a5ef-b2dd2df76771\" xlink:type=\"simple\"><path d=\"M115.79,98.62 C106.62,114.66 95.91,133.4 87.77,147.66 \" fill=\"none\" id=\"E5&lt;-E6\" style=\"stroke: #383838; stroke-width: 1.0;\"/><polygon fill=\"#383838\" points=\"122.42,87.01,115.9684,90.2314,116.4607,97.4257,122.9122,94.2043,122.42,87.01\" style=\"stroke: #383838; stroke-width: 1.0;\"/><text fill=\"#000000\" font-family=\"sans-serif\" font-size=\"13\" lengthAdjust=\"spacingAndGlyphs\" textLength=\"8\" x=\"82.0173\" y=\"136.8492\">1</text></a><!--MD5=[a717450b82c80b9240a525fa862496af]\n",
       "link E6 to E3--><a href=\"psysml:5a2a5603-bc94-4298-a763-49fe520ca5bc\" target=\"_top\" title=\"psysml:5a2a5603-bc94-4298-a763-49fe520ca5bc\" xlink:actuate=\"onRequest\" xlink:href=\"psysml:5a2a5603-bc94-4298-a763-49fe520ca5bc\" xlink:show=\"new\" xlink:title=\"psysml:5a2a5603-bc94-4298-a763-49fe520ca5bc\" xlink:type=\"simple\"><path d=\"M75.63,194.01 C75.96,205.69 76.38,220.46 76.78,234.28 \" fill=\"none\" id=\"E6-&gt;E3\" style=\"stroke: #383838; stroke-width: 1.0;\"/><polygon fill=\"#FFFFFF\" points=\"77.36,254.66,69.8202,235.8677,83.8145,235.4678,77.36,254.66\" style=\"stroke: #383838; stroke-width: 1.0;\"/><ellipse cx=\"71.6566\" cy=\"230.1129\" fill=\"#383838\" rx=\"2\" ry=\"2\" style=\"stroke: #383838; stroke-width: 1.0;\"/><ellipse cx=\"81.6525\" cy=\"229.8273\" fill=\"#383838\" rx=\"2\" ry=\"2\" style=\"stroke: #383838; stroke-width: 1.0;\"/></a><!--MD5=[452b418e7f8a40397a49b8c0a78acc5b]\n",
       "reverse link E5 to E7--><a href=\"psysml:aaa4df86-e408-4ec8-a2fe-61e5d0511306\" target=\"_top\" title=\"psysml:aaa4df86-e408-4ec8-a2fe-61e5d0511306\" xlink:actuate=\"onRequest\" xlink:href=\"psysml:aaa4df86-e408-4ec8-a2fe-61e5d0511306\" xlink:show=\"new\" xlink:title=\"psysml:aaa4df86-e408-4ec8-a2fe-61e5d0511306\" xlink:type=\"simple\"><path d=\"M154.53,98.62 C163.85,114.66 174.74,133.4 183.02,147.66 \" fill=\"none\" id=\"E5&lt;-E7\" style=\"stroke: #383838; stroke-width: 1.0;\"/><polygon fill=\"#383838\" points=\"147.79,87.01,147.3439,94.2073,153.8159,97.3873,154.2621,90.19,147.79,87.01\" style=\"stroke: #383838; stroke-width: 1.0;\"/><text fill=\"#000000\" font-family=\"sans-serif\" font-size=\"13\" lengthAdjust=\"spacingAndGlyphs\" textLength=\"8\" x=\"170.6689\" y=\"136.8492\">1</text></a><!--MD5=[6bdd27f9905911a7e892a3dc65cf6b7c]\n",
       "link E7 to E4--><a href=\"psysml:f48d95ee-d7b3-4518-8228-9030b5bbf5ab\" target=\"_top\" title=\"psysml:f48d95ee-d7b3-4518-8228-9030b5bbf5ab\" xlink:actuate=\"onRequest\" xlink:href=\"psysml:f48d95ee-d7b3-4518-8228-9030b5bbf5ab\" xlink:show=\"new\" xlink:title=\"psysml:f48d95ee-d7b3-4518-8228-9030b5bbf5ab\" xlink:type=\"simple\"><path d=\"M195.58,194.01 C195.36,205.69 195.08,220.46 194.81,234.28 \" fill=\"none\" id=\"E7-&gt;E4\" style=\"stroke: #383838; stroke-width: 1.0;\"/><polygon fill=\"#FFFFFF\" points=\"194.43,254.66,187.784,235.5333,201.7816,235.7933,194.43,254.66\" style=\"stroke: #383838; stroke-width: 1.0;\"/><ellipse cx=\"189.8895\" cy=\"229.8714\" fill=\"#383838\" rx=\"2\" ry=\"2\" style=\"stroke: #383838; stroke-width: 1.0;\"/><ellipse cx=\"199.8878\" cy=\"230.0571\" fill=\"#383838\" rx=\"2\" ry=\"2\" style=\"stroke: #383838; stroke-width: 1.0;\"/></a><!--MD5=[859eb5ce94ed4e325745ae86ac21028c]\n",
       "@startuml\r\n",
       "skinparam monochrome true\r\n",
       "skinparam classbackgroundcolor white\r\n",
       "skinparam shadowing false\r\n",
       "skinparam wrapWidth 300\r\n",
       "hide circle\r\n",
       "\r\n",
       "package \"PictureTaking\" as E1  [[psysml:14e6fe4c-a4d9-4c34-a316-9cbabb101fb1 ]]  {\r\n",
       "comp def \"Exposure\" as E2  <<(T,blue)part def>> [[psysml:9a8bab7b-7078-4a6b-add3-8a1328b0c2d6 ]] {\r\n",
       "}\r\n",
       "comp def \"Focus\" as E3  <<(T,blue)action def>> [[psysml:44676d48-2ba6-47f9-b761-758fcbe31dbd ]] {\r\n",
       "}\r\n",
       "comp def \"Shoot\" as E4  <<(T,blue)action def>> [[psysml:d9adf687-8d42-42d3-b1b5-8b6413ee0fad ]] {\r\n",
       "}\r\n",
       "comp usage \"takePicture\" as E5  <<(T,blue)action>> [[psysml:704c53cf-e737-43c7-aaa6-afd6aa41e73e ]] {\r\n",
       "}\r\n",
       "comp usage \"focus: Focus\" as E6  <<(T,blue)action>> [[psysml:247459c4-dc1c-41f3-9bbd-2210d0a14144 ]] {\r\n",
       "}\r\n",
       "comp usage \"shoot: Shoot\" as E7  <<(T,blue)action>> [[psysml:d7e0c4ce-9a2d-4e4d-8f17-58d415aecc73 ]] {\r\n",
       "}\r\n",
       "E3 o- - E2 [[psysml:7285223f-23e3-4ded-a1a3-c8dbe746ff9d ]] : xrsl\r\n",
       "E4 o- - E2 [[psysml:3f6601e8-74ad-4acc-b654-2e93fe2ad4c3 ]] : xsf\r\n",
       "E5 *- - \"1\"E6 [[psysml:b27ee466-0f4c-4005-a5ef-b2dd2df76771 ]] \r\n",
       "E6 - -:|> E3 [[psysml:5a2a5603-bc94-4298-a763-49fe520ca5bc ]] \r\n",
       "E5 *- - \"1\"E7 [[psysml:aaa4df86-e408-4ec8-a2fe-61e5d0511306 ]] \r\n",
       "E7 - -:|> E4 [[psysml:f48d95ee-d7b3-4518-8228-9030b5bbf5ab ]] \r\n",
       "}\r\n",
       "@enduml\r\n",
       "\n",
       "PlantUML version 1.2020.13(Sat Jun 13 12:26:38 UTC 2020)\n",
       "(EPL source distribution)\n",
       "Java Runtime: OpenJDK Runtime Environment\n",
       "JVM: OpenJDK 64-Bit Server VM\n",
       "Default Encoding: UTF-8\n",
       "Language: en\n",
       "Country: null\n",
       "--></g></svg>"
      ]
     },
     "execution_count": 38,
     "metadata": {},
     "output_type": "execute_result"
    }
   ],
   "source": [
    "%viz --style=\"DEFAULT\" --view=\"Tree\" \"PictureTaking\""
   ]
  },
  {
   "cell_type": "code",
   "execution_count": 39,
   "id": "99532865",
   "metadata": {
    "execution": {
     "iopub.execute_input": "2021-04-20T07:32:04.147884Z",
     "iopub.status.busy": "2021-04-20T07:32:04.147296Z",
     "iopub.status.idle": "2021-04-20T07:32:04.154672Z",
     "shell.execute_reply": "2021-04-20T07:32:04.154277Z"
    }
   },
   "outputs": [
    {
     "data": {
      "image/svg+xml": [
       "<?xml version=\"1.0\" encoding=\"UTF-8\" standalone=\"no\"?><svg xmlns=\"http://www.w3.org/2000/svg\" xmlns:xlink=\"http://www.w3.org/1999/xlink\" contentScriptType=\"application/ecmascript\" contentStyleType=\"text/css\" height=\"12px\" preserveAspectRatio=\"none\" style=\"width:12px;height:12px;\" version=\"1.1\" viewBox=\"0 0 12 12\" width=\"12px\" zoomAndPan=\"magnify\"><defs/><g><!--MD5=[c5f280e076d0d61ccf4b0f27871bda1d]\n",
       "@startuml\r\n",
       "skinparam monochrome true\r\n",
       "skinparam classbackgroundcolor white\r\n",
       "skinparam shadowing false\r\n",
       "skinparam wrapWidth 300\r\n",
       "hide circle\r\n",
       "\r\n",
       "@enduml\r\n",
       "\n",
       "PlantUML version 1.2020.13(Sat Jun 13 12:26:38 UTC 2020)\n",
       "(EPL source distribution)\n",
       "Java Runtime: OpenJDK Runtime Environment\n",
       "JVM: OpenJDK 64-Bit Server VM\n",
       "Default Encoding: UTF-8\n",
       "Language: en\n",
       "Country: null\n",
       "--></g></svg>"
      ]
     },
     "execution_count": 39,
     "metadata": {},
     "output_type": "execute_result"
    }
   ],
   "source": [
    "%viz --style=\"DEFAULT\" --view=\"State\" \"PictureTaking\""
   ]
  },
  {
   "cell_type": "code",
   "execution_count": 40,
   "id": "19aa8f16",
   "metadata": {
    "execution": {
     "iopub.execute_input": "2021-04-20T07:32:04.204636Z",
     "iopub.status.busy": "2021-04-20T07:32:04.203764Z",
     "iopub.status.idle": "2021-04-20T07:32:04.249107Z",
     "shell.execute_reply": "2021-04-20T07:32:04.247496Z"
    }
   },
   "outputs": [
    {
     "data": {
      "image/svg+xml": [
       "<?xml version=\"1.0\" encoding=\"UTF-8\" standalone=\"no\"?><svg xmlns=\"http://www.w3.org/2000/svg\" xmlns:xlink=\"http://www.w3.org/1999/xlink\" contentScriptType=\"application/ecmascript\" contentStyleType=\"text/css\" height=\"330px\" preserveAspectRatio=\"none\" style=\"width:706px;height:330px;\" version=\"1.1\" viewBox=\"0 0 706 330\" width=\"706px\" zoomAndPan=\"magnify\"><defs/><g><!--MD5=[fbc87193dbaf4d95561dea2c320d4a47]\n",
       "cluster E1--><a href=\"psysml:14e6fe4c-a4d9-4c34-a316-9cbabb101fb1\" target=\"_top\" title=\"psysml:14e6fe4c-a4d9-4c34-a316-9cbabb101fb1\" xlink:actuate=\"onRequest\" xlink:href=\"psysml:14e6fe4c-a4d9-4c34-a316-9cbabb101fb1\" xlink:show=\"new\" xlink:title=\"psysml:14e6fe4c-a4d9-4c34-a316-9cbabb101fb1\" xlink:type=\"simple\"><polygon fill=\"#FFFFFF\" points=\"16,6,130,6,137,28.2969,684,28.2969,684,318,16,318,16,6\" style=\"stroke: #000000; stroke-width: 1.5;\"/><line style=\"stroke: #000000; stroke-width: 1.5;\" x1=\"16\" x2=\"137\" y1=\"28.2969\" y2=\"28.2969\"/><text fill=\"#000000\" font-family=\"sans-serif\" font-size=\"14\" font-weight=\"bold\" lengthAdjust=\"spacingAndGlyphs\" textLength=\"108\" x=\"20\" y=\"20.9951\">PictureTaking</text></a><!--MD5=[d5e69f78d87373223dbae638b30a9c99]\n",
       "cluster E3--><a href=\"psysml:44676d48-2ba6-47f9-b761-758fcbe31dbd\" target=\"_top\" title=\"psysml:44676d48-2ba6-47f9-b761-758fcbe31dbd\" xlink:actuate=\"onRequest\" xlink:href=\"psysml:44676d48-2ba6-47f9-b761-758fcbe31dbd\" xlink:show=\"new\" xlink:title=\"psysml:44676d48-2ba6-47f9-b761-758fcbe31dbd\" xlink:type=\"simple\"><rect fill=\"#FFFFFF\" height=\"136\" id=\"E3\" style=\"stroke: #383838; stroke-width: 1.5;\" width=\"134\" x=\"534\" y=\"100\"/><rect fill=\"#F8F8F8\" height=\"37.9375\" style=\"stroke: #383838; stroke-width: 1.5;\" width=\"134\" x=\"534\" y=\"100\"/><text fill=\"#000000\" font-family=\"sans-serif\" font-size=\"12\" font-style=\"italic\" lengthAdjust=\"spacingAndGlyphs\" textLength=\"77\" x=\"562.5\" y=\"116.1387\">«action def»</text><text fill=\"#000000\" font-family=\"sans-serif\" font-size=\"12\" lengthAdjust=\"spacingAndGlyphs\" textLength=\"37\" x=\"582.5\" y=\"130.1074\">Focus</text></a><!--MD5=[de5ec2e2e8f62f467e546659f5068c88]\n",
       "cluster E5--><a href=\"psysml:d9adf687-8d42-42d3-b1b5-8b6413ee0fad\" target=\"_top\" title=\"psysml:d9adf687-8d42-42d3-b1b5-8b6413ee0fad\" xlink:actuate=\"onRequest\" xlink:href=\"psysml:d9adf687-8d42-42d3-b1b5-8b6413ee0fad\" xlink:show=\"new\" xlink:title=\"psysml:d9adf687-8d42-42d3-b1b5-8b6413ee0fad\" xlink:type=\"simple\"><rect fill=\"#FFFFFF\" height=\"88.5\" id=\"E5\" style=\"stroke: #383838; stroke-width: 1.5;\" width=\"134\" x=\"392\" y=\"133.5\"/><rect fill=\"#F8F8F8\" height=\"37.9375\" style=\"stroke: #383838; stroke-width: 1.5;\" width=\"134\" x=\"392\" y=\"133.5\"/><text fill=\"#000000\" font-family=\"sans-serif\" font-size=\"12\" font-style=\"italic\" lengthAdjust=\"spacingAndGlyphs\" textLength=\"77\" x=\"420.5\" y=\"149.6387\">«action def»</text><text fill=\"#000000\" font-family=\"sans-serif\" font-size=\"12\" lengthAdjust=\"spacingAndGlyphs\" textLength=\"37\" x=\"440.5\" y=\"163.6074\">Shoot</text></a><!--MD5=[168fadf3d0c3fd93dd5d6da1b1d7ab76]\n",
       "cluster E7--><a href=\"psysml:704c53cf-e737-43c7-aaa6-afd6aa41e73e\" target=\"_top\" title=\"psysml:704c53cf-e737-43c7-aaa6-afd6aa41e73e\" xlink:actuate=\"onRequest\" xlink:href=\"psysml:704c53cf-e737-43c7-aaa6-afd6aa41e73e\" xlink:show=\"new\" xlink:title=\"psysml:704c53cf-e737-43c7-aaa6-afd6aa41e73e\" xlink:type=\"simple\"><rect fill=\"#FFFFFF\" height=\"245\" id=\"E7\" rx=\"10\" ry=\"10\" style=\"stroke: #383838; stroke-width: 1.5;\" width=\"256\" x=\"120\" y=\"49\"/><rect fill=\"#F8F8F8\" height=\"37.9375\" rx=\"10\" ry=\"10\" style=\"stroke: #F8F8F8; stroke-width: 1.5;\" width=\"256\" x=\"120\" y=\"49\"/><rect fill=\"#F8F8F8\" height=\"10\" style=\"stroke: #F8F8F8; stroke-width: 1.5;\" width=\"256\" x=\"120\" y=\"76.9375\"/><rect fill=\"none\" height=\"245\" id=\"E7\" rx=\"10\" ry=\"10\" style=\"stroke: #383838; stroke-width: 1.5;\" width=\"256\" x=\"120\" y=\"49\"/><text fill=\"#000000\" font-family=\"sans-serif\" font-size=\"12\" font-style=\"italic\" lengthAdjust=\"spacingAndGlyphs\" textLength=\"53\" x=\"221.5\" y=\"65.1387\">«action»</text><text fill=\"#000000\" font-family=\"sans-serif\" font-size=\"12\" lengthAdjust=\"spacingAndGlyphs\" textLength=\"72\" x=\"212\" y=\"79.1074\">takePicture</text><line style=\"stroke: #383838; stroke-width: 1.0;\" x1=\"120\" x2=\"376\" y1=\"86.9375\" y2=\"86.9375\"/></a><!--MD5=[55dfccfc6c49c2d10cd1bd2211a6c90c]\n",
       "cluster E8--><a href=\"psysml:247459c4-dc1c-41f3-9bbd-2210d0a14144\" target=\"_top\" title=\"psysml:247459c4-dc1c-41f3-9bbd-2210d0a14144\" xlink:actuate=\"onRequest\" xlink:href=\"psysml:247459c4-dc1c-41f3-9bbd-2210d0a14144\" xlink:show=\"new\" xlink:title=\"psysml:247459c4-dc1c-41f3-9bbd-2210d0a14144\" xlink:type=\"simple\"><rect fill=\"#FFFFFF\" height=\"136\" id=\"E8\" rx=\"10\" ry=\"10\" style=\"stroke: #383838; stroke-width: 1.5;\" width=\"83\" x=\"263\" y=\"100\"/><rect fill=\"#F8F8F8\" height=\"37.9375\" rx=\"10\" ry=\"10\" style=\"stroke: #F8F8F8; stroke-width: 1.5;\" width=\"83\" x=\"263\" y=\"100\"/><rect fill=\"#F8F8F8\" height=\"10\" style=\"stroke: #F8F8F8; stroke-width: 1.5;\" width=\"83\" x=\"263\" y=\"127.9375\"/><rect fill=\"none\" height=\"136\" id=\"E8\" rx=\"10\" ry=\"10\" style=\"stroke: #383838; stroke-width: 1.5;\" width=\"83\" x=\"263\" y=\"100\"/><text fill=\"#000000\" font-family=\"sans-serif\" font-size=\"12\" font-style=\"italic\" lengthAdjust=\"spacingAndGlyphs\" textLength=\"53\" x=\"278\" y=\"116.1387\">«action»</text><text fill=\"#000000\" font-family=\"sans-serif\" font-size=\"12\" lengthAdjust=\"spacingAndGlyphs\" textLength=\"34\" x=\"287.5\" y=\"130.1074\">focus</text><line style=\"stroke: #383838; stroke-width: 1.0;\" x1=\"263\" x2=\"346\" y1=\"137.9375\" y2=\"137.9375\"/></a><!--MD5=[917b9dd0c7eca3ee5f47219d1a84c0ad]\n",
       "cluster E11--><a href=\"psysml:d7e0c4ce-9a2d-4e4d-8f17-58d415aecc73\" target=\"_top\" title=\"psysml:d7e0c4ce-9a2d-4e4d-8f17-58d415aecc73\" xlink:actuate=\"onRequest\" xlink:href=\"psysml:d7e0c4ce-9a2d-4e4d-8f17-58d415aecc73\" xlink:show=\"new\" xlink:title=\"psysml:d7e0c4ce-9a2d-4e4d-8f17-58d415aecc73\" xlink:type=\"simple\"><rect fill=\"#FFFFFF\" height=\"130.5\" id=\"E11\" rx=\"10\" ry=\"10\" style=\"stroke: #383838; stroke-width: 1.5;\" width=\"74\" x=\"170\" y=\"133.5\"/><rect fill=\"#F8F8F8\" height=\"37.9375\" rx=\"10\" ry=\"10\" style=\"stroke: #F8F8F8; stroke-width: 1.5;\" width=\"74\" x=\"170\" y=\"133.5\"/><rect fill=\"#F8F8F8\" height=\"10\" style=\"stroke: #F8F8F8; stroke-width: 1.5;\" width=\"74\" x=\"170\" y=\"161.4375\"/><rect fill=\"none\" height=\"130.5\" id=\"E11\" rx=\"10\" ry=\"10\" style=\"stroke: #383838; stroke-width: 1.5;\" width=\"74\" x=\"170\" y=\"133.5\"/><text fill=\"#000000\" font-family=\"sans-serif\" font-size=\"12\" font-style=\"italic\" lengthAdjust=\"spacingAndGlyphs\" textLength=\"53\" x=\"180.5\" y=\"149.6387\">«action»</text><text fill=\"#000000\" font-family=\"sans-serif\" font-size=\"12\" lengthAdjust=\"spacingAndGlyphs\" textLength=\"36\" x=\"189\" y=\"163.6074\">shoot</text><line style=\"stroke: #383838; stroke-width: 1.0;\" x1=\"170\" x2=\"244\" y1=\"171.4375\" y2=\"171.4375\"/></a><g id=\"E1.E2\"><a href=\"psysml:9a8bab7b-7078-4a6b-add3-8a1328b0c2d6\" target=\"_top\" title=\"psysml:9a8bab7b-7078-4a6b-add3-8a1328b0c2d6\" xlink:actuate=\"onRequest\" xlink:href=\"psysml:9a8bab7b-7078-4a6b-add3-8a1328b0c2d6\" xlink:show=\"new\" xlink:title=\"psysml:9a8bab7b-7078-4a6b-add3-8a1328b0c2d6\" xlink:type=\"simple\"><rect fill=\"#FFFFFF\" height=\"42.9375\" id=\"E2\" style=\"stroke: #383838; stroke-width: 1.5;\" width=\"71\" x=\"32.5\" y=\"112\"/><rect fill=\"#F8F8F8\" height=\"37.9375\" style=\"stroke: #383838; stroke-width: 1.5;\" width=\"71\" x=\"32.5\" y=\"112\"/><text fill=\"#000000\" font-family=\"sans-serif\" font-size=\"12\" font-style=\"italic\" lengthAdjust=\"spacingAndGlyphs\" textLength=\"64\" x=\"36\" y=\"128.1387\">«part def»</text><text fill=\"#000000\" font-family=\"sans-serif\" font-size=\"12\" lengthAdjust=\"spacingAndGlyphs\" textLength=\"58\" x=\"39\" y=\"142.1074\">Exposure</text></a></g><text fill=\"#000000\" font-family=\"sans-serif\" font-size=\"14\" lengthAdjust=\"spacingAndGlyphs\" textLength=\"23\" x=\"589.5\" y=\"254.9951\">xrsl</text><rect fill=\"#383838\" height=\"12\" style=\"stroke: #F8F8F8; stroke-width: 1.5;\" width=\"12\" x=\"595\" y=\"230\"/><text fill=\"#000000\" font-family=\"sans-serif\" font-size=\"14\" lengthAdjust=\"spacingAndGlyphs\" textLength=\"19\" x=\"449.5\" y=\"112.1982\">xsf</text><rect fill=\"#383838\" height=\"12\" style=\"stroke: #F8F8F8; stroke-width: 1.5;\" width=\"12\" x=\"453\" y=\"127.5\"/><text fill=\"#000000\" font-family=\"sans-serif\" font-size=\"14\" lengthAdjust=\"spacingAndGlyphs\" textLength=\"48\" x=\"257\" y=\"254.9951\">$result</text><rect fill=\"#383838\" height=\"12\" style=\"stroke: #F8F8F8; stroke-width: 1.5;\" width=\"12\" x=\"275\" y=\"230\"/><text fill=\"#000000\" font-family=\"sans-serif\" font-size=\"14\" lengthAdjust=\"spacingAndGlyphs\" textLength=\"23\" x=\"316.5\" y=\"254.9951\">xrsl</text><rect fill=\"#383838\" height=\"12\" style=\"stroke: #F8F8F8; stroke-width: 1.5;\" width=\"12\" x=\"322\" y=\"230\"/><text fill=\"#000000\" font-family=\"sans-serif\" font-size=\"14\" lengthAdjust=\"spacingAndGlyphs\" textLength=\"48\" x=\"164\" y=\"282.9951\">$result</text><rect fill=\"#383838\" height=\"12\" style=\"stroke: #F8F8F8; stroke-width: 1.5;\" width=\"12\" x=\"182\" y=\"258\"/><text fill=\"#000000\" font-family=\"sans-serif\" font-size=\"14\" lengthAdjust=\"spacingAndGlyphs\" textLength=\"19\" x=\"180.5\" y=\"112.1982\">xsf</text><rect fill=\"#383838\" height=\"12\" style=\"stroke: #F8F8F8; stroke-width: 1.5;\" width=\"12\" x=\"184\" y=\"127.5\"/><!--MD5=[ae099685089a816a817e8b714ded4be9]\n",
       "@startuml\r\n",
       "skinparam ranksep 10\r\n",
       "skinparam rectangle {\r\n",
       " backgroundColor<<block>> LightGreen\r\n",
       "}\r\n",
       "skinparam monochrome true\r\n",
       "skinparam classbackgroundcolor white\r\n",
       "skinparam shadowing false\r\n",
       "skinparam wrapWidth 300\r\n",
       "hide circle\r\n",
       "\r\n",
       "package \"PictureTaking\" as E1  [[psysml:14e6fe4c-a4d9-4c34-a316-9cbabb101fb1 ]]  {\r\n",
       "rec def \"Exposure\" as E2  <<(T,blue)part def>> [[psysml:9a8bab7b-7078-4a6b-add3-8a1328b0c2d6 ]] {\r\n",
       "}\r\n",
       "rec def \"Focus\" as E3  <<(T,blue)action def>> [[psysml:44676d48-2ba6-47f9-b761-758fcbe31dbd ]] {\r\n",
       "portout \"xrsl\" as E4  [[psysml:7285223f-23e3-4ded-a1a3-c8dbe746ff9d ]] \r\n",
       "}\r\n",
       "\r\n",
       "rec def \"Shoot\" as E5  <<(T,blue)action def>> [[psysml:d9adf687-8d42-42d3-b1b5-8b6413ee0fad ]] {\r\n",
       "portin \"xsf\" as E6  [[psysml:3f6601e8-74ad-4acc-b654-2e93fe2ad4c3 ]] \r\n",
       "}\r\n",
       "\r\n",
       "rec usage \"takePicture\" as E7  <<(T,blue)action>> [[psysml:704c53cf-e737-43c7-aaa6-afd6aa41e73e ]] {\r\n",
       "rec usage \"focus\" as E8  <<(T,blue)action>> [[psysml:247459c4-dc1c-41f3-9bbd-2210d0a14144 ]] {\r\n",
       "portout \"$result\" as E9  [[psysml:d24c4944-7685-4e9e-b1e9-aa0857e67b68 ]] \r\n",
       "portout \"xrsl\" as E10  [[psysml:a9b63f0e-a7c1-4470-82ae-da9c74073d16 ]] \r\n",
       "}\r\n",
       "\r\n",
       "rec usage \"shoot\" as E11  <<(T,blue)action>> [[psysml:d7e0c4ce-9a2d-4e4d-8f17-58d415aecc73 ]] {\r\n",
       "portout \"$result\" as E12  [[psysml:edaf4370-9fef-4792-934f-b7a89f5913cc ]] \r\n",
       "portin \"xsf\" as E13  [[psysml:1ee0e316-c080-4a1b-aa8d-122e3ae24dab ]] \r\n",
       "}\r\n",
       "\r\n",
       "}\r\n",
       "\r\n",
       "}\r\n",
       "@enduml\r\n",
       "\n",
       "PlantUML version 1.2020.13(Sat Jun 13 12:26:38 UTC 2020)\n",
       "(EPL source distribution)\n",
       "Java Runtime: OpenJDK Runtime Environment\n",
       "JVM: OpenJDK 64-Bit Server VM\n",
       "Default Encoding: UTF-8\n",
       "Language: en\n",
       "Country: null\n",
       "--></g></svg>"
      ]
     },
     "execution_count": 40,
     "metadata": {},
     "output_type": "execute_result"
    }
   ],
   "source": [
    "%viz --style=\"DEFAULT\" --view=\"Interconnection\" \"PictureTaking\""
   ]
  },
  {
   "cell_type": "code",
   "execution_count": 41,
   "id": "4a1e59f7",
   "metadata": {
    "execution": {
     "iopub.execute_input": "2021-04-20T07:32:04.299360Z",
     "iopub.status.busy": "2021-04-20T07:32:04.298764Z",
     "iopub.status.idle": "2021-04-20T07:32:04.341086Z",
     "shell.execute_reply": "2021-04-20T07:32:04.339599Z"
    }
   },
   "outputs": [
    {
     "data": {
      "image/svg+xml": [
       "<?xml version=\"1.0\" encoding=\"UTF-8\" standalone=\"no\"?><svg xmlns=\"http://www.w3.org/2000/svg\" xmlns:xlink=\"http://www.w3.org/1999/xlink\" contentScriptType=\"application/ecmascript\" contentStyleType=\"text/css\" height=\"259px\" preserveAspectRatio=\"none\" style=\"width:567px;height:259px;\" version=\"1.1\" viewBox=\"0 0 567 259\" width=\"567px\" zoomAndPan=\"magnify\"><defs/><g><!--MD5=[fbc87193dbaf4d95561dea2c320d4a47]\n",
       "cluster E1--><a href=\"psysml:44676d48-2ba6-47f9-b761-758fcbe31dbd\" target=\"_top\" title=\"psysml:44676d48-2ba6-47f9-b761-758fcbe31dbd\" xlink:actuate=\"onRequest\" xlink:href=\"psysml:44676d48-2ba6-47f9-b761-758fcbe31dbd\" xlink:show=\"new\" xlink:title=\"psysml:44676d48-2ba6-47f9-b761-758fcbe31dbd\" xlink:type=\"simple\"><rect fill=\"#FFFFFF\" height=\"132\" id=\"E1\" style=\"stroke: #383838; stroke-width: 1.5;\" width=\"134\" x=\"7\" y=\"58\"/><rect fill=\"#F8F8F8\" height=\"37.9375\" style=\"stroke: #383838; stroke-width: 1.5;\" width=\"134\" x=\"7\" y=\"58\"/><text fill=\"#000000\" font-family=\"sans-serif\" font-size=\"12\" font-style=\"italic\" lengthAdjust=\"spacingAndGlyphs\" textLength=\"77\" x=\"35.5\" y=\"74.1387\">«action def»</text><text fill=\"#000000\" font-family=\"sans-serif\" font-size=\"12\" lengthAdjust=\"spacingAndGlyphs\" textLength=\"37\" x=\"55.5\" y=\"88.1074\">Focus</text></a><!--MD5=[d5e69f78d87373223dbae638b30a9c99]\n",
       "cluster E3--><a href=\"psysml:d9adf687-8d42-42d3-b1b5-8b6413ee0fad\" target=\"_top\" title=\"psysml:d9adf687-8d42-42d3-b1b5-8b6413ee0fad\" xlink:actuate=\"onRequest\" xlink:href=\"psysml:d9adf687-8d42-42d3-b1b5-8b6413ee0fad\" xlink:show=\"new\" xlink:title=\"psysml:d9adf687-8d42-42d3-b1b5-8b6413ee0fad\" xlink:type=\"simple\"><rect fill=\"#FFFFFF\" height=\"84.5\" id=\"E3\" style=\"stroke: #383838; stroke-width: 1.5;\" width=\"134\" x=\"149\" y=\"91.5\"/><rect fill=\"#F8F8F8\" height=\"37.9375\" style=\"stroke: #383838; stroke-width: 1.5;\" width=\"134\" x=\"149\" y=\"91.5\"/><text fill=\"#000000\" font-family=\"sans-serif\" font-size=\"12\" font-style=\"italic\" lengthAdjust=\"spacingAndGlyphs\" textLength=\"77\" x=\"177.5\" y=\"107.6387\">«action def»</text><text fill=\"#000000\" font-family=\"sans-serif\" font-size=\"12\" lengthAdjust=\"spacingAndGlyphs\" textLength=\"37\" x=\"197.5\" y=\"121.6074\">Shoot</text></a><!--MD5=[de5ec2e2e8f62f467e546659f5068c88]\n",
       "cluster E5--><a href=\"psysml:704c53cf-e737-43c7-aaa6-afd6aa41e73e\" target=\"_top\" title=\"psysml:704c53cf-e737-43c7-aaa6-afd6aa41e73e\" xlink:actuate=\"onRequest\" xlink:href=\"psysml:704c53cf-e737-43c7-aaa6-afd6aa41e73e\" xlink:show=\"new\" xlink:title=\"psysml:704c53cf-e737-43c7-aaa6-afd6aa41e73e\" xlink:type=\"simple\"><rect fill=\"#FFFFFF\" height=\"241\" id=\"E5\" rx=\"10\" ry=\"10\" style=\"stroke: #383838; stroke-width: 1.5;\" width=\"256\" x=\"299\" y=\"7\"/><rect fill=\"#F8F8F8\" height=\"37.9375\" rx=\"10\" ry=\"10\" style=\"stroke: #F8F8F8; stroke-width: 1.5;\" width=\"256\" x=\"299\" y=\"7\"/><rect fill=\"#F8F8F8\" height=\"10\" style=\"stroke: #F8F8F8; stroke-width: 1.5;\" width=\"256\" x=\"299\" y=\"34.9375\"/><rect fill=\"none\" height=\"241\" id=\"E5\" rx=\"10\" ry=\"10\" style=\"stroke: #383838; stroke-width: 1.5;\" width=\"256\" x=\"299\" y=\"7\"/><text fill=\"#000000\" font-family=\"sans-serif\" font-size=\"12\" font-style=\"italic\" lengthAdjust=\"spacingAndGlyphs\" textLength=\"53\" x=\"400.5\" y=\"23.1387\">«action»</text><text fill=\"#000000\" font-family=\"sans-serif\" font-size=\"12\" lengthAdjust=\"spacingAndGlyphs\" textLength=\"72\" x=\"391\" y=\"37.1074\">takePicture</text><line style=\"stroke: #383838; stroke-width: 1.0;\" x1=\"299\" x2=\"555\" y1=\"44.9375\" y2=\"44.9375\"/></a><!--MD5=[14e3b0961a2654348d326746436168a1]\n",
       "cluster E6--><a href=\"psysml:247459c4-dc1c-41f3-9bbd-2210d0a14144\" target=\"_top\" title=\"psysml:247459c4-dc1c-41f3-9bbd-2210d0a14144\" xlink:actuate=\"onRequest\" xlink:href=\"psysml:247459c4-dc1c-41f3-9bbd-2210d0a14144\" xlink:show=\"new\" xlink:title=\"psysml:247459c4-dc1c-41f3-9bbd-2210d0a14144\" xlink:type=\"simple\"><rect fill=\"#FFFFFF\" height=\"132\" id=\"E6\" rx=\"10\" ry=\"10\" style=\"stroke: #383838; stroke-width: 1.5;\" width=\"83\" x=\"442\" y=\"58\"/><rect fill=\"#F8F8F8\" height=\"37.9375\" rx=\"10\" ry=\"10\" style=\"stroke: #F8F8F8; stroke-width: 1.5;\" width=\"83\" x=\"442\" y=\"58\"/><rect fill=\"#F8F8F8\" height=\"10\" style=\"stroke: #F8F8F8; stroke-width: 1.5;\" width=\"83\" x=\"442\" y=\"85.9375\"/><rect fill=\"none\" height=\"132\" id=\"E6\" rx=\"10\" ry=\"10\" style=\"stroke: #383838; stroke-width: 1.5;\" width=\"83\" x=\"442\" y=\"58\"/><text fill=\"#000000\" font-family=\"sans-serif\" font-size=\"12\" font-style=\"italic\" lengthAdjust=\"spacingAndGlyphs\" textLength=\"53\" x=\"457\" y=\"74.1387\">«action»</text><text fill=\"#000000\" font-family=\"sans-serif\" font-size=\"12\" lengthAdjust=\"spacingAndGlyphs\" textLength=\"34\" x=\"466.5\" y=\"88.1074\">focus</text><line style=\"stroke: #383838; stroke-width: 1.0;\" x1=\"442\" x2=\"525\" y1=\"95.9375\" y2=\"95.9375\"/></a><!--MD5=[7f149f147074ac12df2cb0a7728a5fb0]\n",
       "cluster E9--><a href=\"psysml:d7e0c4ce-9a2d-4e4d-8f17-58d415aecc73\" target=\"_top\" title=\"psysml:d7e0c4ce-9a2d-4e4d-8f17-58d415aecc73\" xlink:actuate=\"onRequest\" xlink:href=\"psysml:d7e0c4ce-9a2d-4e4d-8f17-58d415aecc73\" xlink:show=\"new\" xlink:title=\"psysml:d7e0c4ce-9a2d-4e4d-8f17-58d415aecc73\" xlink:type=\"simple\"><rect fill=\"#FFFFFF\" height=\"126.5\" id=\"E9\" rx=\"10\" ry=\"10\" style=\"stroke: #383838; stroke-width: 1.5;\" width=\"74\" x=\"349\" y=\"91.5\"/><rect fill=\"#F8F8F8\" height=\"37.9375\" rx=\"10\" ry=\"10\" style=\"stroke: #F8F8F8; stroke-width: 1.5;\" width=\"74\" x=\"349\" y=\"91.5\"/><rect fill=\"#F8F8F8\" height=\"10\" style=\"stroke: #F8F8F8; stroke-width: 1.5;\" width=\"74\" x=\"349\" y=\"119.4375\"/><rect fill=\"none\" height=\"126.5\" id=\"E9\" rx=\"10\" ry=\"10\" style=\"stroke: #383838; stroke-width: 1.5;\" width=\"74\" x=\"349\" y=\"91.5\"/><text fill=\"#000000\" font-family=\"sans-serif\" font-size=\"12\" font-style=\"italic\" lengthAdjust=\"spacingAndGlyphs\" textLength=\"53\" x=\"359.5\" y=\"107.6387\">«action»</text><text fill=\"#000000\" font-family=\"sans-serif\" font-size=\"12\" lengthAdjust=\"spacingAndGlyphs\" textLength=\"36\" x=\"368\" y=\"121.6074\">shoot</text><line style=\"stroke: #383838; stroke-width: 1.0;\" x1=\"349\" x2=\"423\" y1=\"129.4375\" y2=\"129.4375\"/></a><text fill=\"#000000\" font-family=\"sans-serif\" font-size=\"14\" lengthAdjust=\"spacingAndGlyphs\" textLength=\"23\" x=\"62.5\" y=\"208.9951\">xrsl</text><rect fill=\"#383838\" height=\"12\" style=\"stroke: #F8F8F8; stroke-width: 1.5;\" width=\"12\" x=\"68\" y=\"184\"/><text fill=\"#000000\" font-family=\"sans-serif\" font-size=\"14\" lengthAdjust=\"spacingAndGlyphs\" textLength=\"19\" x=\"206.5\" y=\"70.1982\">xsf</text><rect fill=\"#383838\" height=\"12\" style=\"stroke: #F8F8F8; stroke-width: 1.5;\" width=\"12\" x=\"210\" y=\"85.5\"/><text fill=\"#000000\" font-family=\"sans-serif\" font-size=\"14\" lengthAdjust=\"spacingAndGlyphs\" textLength=\"48\" x=\"436\" y=\"208.9951\">$result</text><rect fill=\"#383838\" height=\"12\" style=\"stroke: #F8F8F8; stroke-width: 1.5;\" width=\"12\" x=\"454\" y=\"184\"/><text fill=\"#000000\" font-family=\"sans-serif\" font-size=\"14\" lengthAdjust=\"spacingAndGlyphs\" textLength=\"23\" x=\"495.5\" y=\"208.9951\">xrsl</text><rect fill=\"#383838\" height=\"12\" style=\"stroke: #F8F8F8; stroke-width: 1.5;\" width=\"12\" x=\"501\" y=\"184\"/><text fill=\"#000000\" font-family=\"sans-serif\" font-size=\"14\" lengthAdjust=\"spacingAndGlyphs\" textLength=\"48\" x=\"343\" y=\"236.9951\">$result</text><rect fill=\"#383838\" height=\"12\" style=\"stroke: #F8F8F8; stroke-width: 1.5;\" width=\"12\" x=\"361\" y=\"212\"/><text fill=\"#000000\" font-family=\"sans-serif\" font-size=\"14\" lengthAdjust=\"spacingAndGlyphs\" textLength=\"19\" x=\"359.5\" y=\"70.1982\">xsf</text><rect fill=\"#383838\" height=\"12\" style=\"stroke: #F8F8F8; stroke-width: 1.5;\" width=\"12\" x=\"363\" y=\"85.5\"/><!--MD5=[3d1c8e501e9e62f834d640470058a4de]\n",
       "@startuml\r\n",
       "skinparam ranksep 8\r\n",
       "skinparam monochrome true\r\n",
       "skinparam classbackgroundcolor white\r\n",
       "skinparam shadowing false\r\n",
       "skinparam wrapWidth 300\r\n",
       "hide circle\r\n",
       "\r\n",
       "rec def \"Focus\" as E1  <<(T,blue)action def>> [[psysml:44676d48-2ba6-47f9-b761-758fcbe31dbd ]] {\r\n",
       "portout \"xrsl\" as E2  [[psysml:7285223f-23e3-4ded-a1a3-c8dbe746ff9d ]] \r\n",
       "}\r\n",
       "\r\n",
       "rec def \"Shoot\" as E3  <<(T,blue)action def>> [[psysml:d9adf687-8d42-42d3-b1b5-8b6413ee0fad ]] {\r\n",
       "portin \"xsf\" as E4  [[psysml:3f6601e8-74ad-4acc-b654-2e93fe2ad4c3 ]] \r\n",
       "}\r\n",
       "\r\n",
       "rec usage \"takePicture\" as E5  <<(T,blue)action>> [[psysml:704c53cf-e737-43c7-aaa6-afd6aa41e73e ]] {\r\n",
       "rec usage \"focus\" as E6  <<(T,blue)action>> [[psysml:247459c4-dc1c-41f3-9bbd-2210d0a14144 ]] {\r\n",
       "portout \"$result\" as E7  [[psysml:d24c4944-7685-4e9e-b1e9-aa0857e67b68 ]] \r\n",
       "portout \"xrsl\" as E8  [[psysml:a9b63f0e-a7c1-4470-82ae-da9c74073d16 ]] \r\n",
       "}\r\n",
       "\r\n",
       "rec usage \"shoot\" as E9  <<(T,blue)action>> [[psysml:d7e0c4ce-9a2d-4e4d-8f17-58d415aecc73 ]] {\r\n",
       "portout \"$result\" as E10  [[psysml:edaf4370-9fef-4792-934f-b7a89f5913cc ]] \r\n",
       "portin \"xsf\" as E11  [[psysml:1ee0e316-c080-4a1b-aa8d-122e3ae24dab ]] \r\n",
       "}\r\n",
       "\r\n",
       "}\r\n",
       "\r\n",
       "@enduml\r\n",
       "\n",
       "PlantUML version 1.2020.13(Sat Jun 13 12:26:38 UTC 2020)\n",
       "(EPL source distribution)\n",
       "Java Runtime: OpenJDK Runtime Environment\n",
       "JVM: OpenJDK 64-Bit Server VM\n",
       "Default Encoding: UTF-8\n",
       "Language: en\n",
       "Country: null\n",
       "--></g></svg>"
      ]
     },
     "execution_count": 41,
     "metadata": {},
     "output_type": "execute_result"
    }
   ],
   "source": [
    "%viz --style=\"DEFAULT\" --view=\"Action\" \"PictureTaking\""
   ]
  },
  {
   "cell_type": "code",
   "execution_count": 42,
   "id": "9c6516fb",
   "metadata": {
    "execution": {
     "iopub.execute_input": "2021-04-20T07:32:04.392539Z",
     "iopub.status.busy": "2021-04-20T07:32:04.392088Z",
     "iopub.status.idle": "2021-04-20T07:32:04.426390Z",
     "shell.execute_reply": "2021-04-20T07:32:04.424884Z"
    }
   },
   "outputs": [
    {
     "data": {
      "image/svg+xml": [
       "<?xml version=\"1.0\" encoding=\"UTF-8\" standalone=\"no\"?><svg xmlns=\"http://www.w3.org/2000/svg\" xmlns:xlink=\"http://www.w3.org/1999/xlink\" contentScriptType=\"application/ecmascript\" contentStyleType=\"text/css\" height=\"452px\" preserveAspectRatio=\"none\" style=\"width:278px;height:452px;\" version=\"1.1\" viewBox=\"0 0 278 452\" width=\"278px\" zoomAndPan=\"magnify\"><defs/><g><!--MD5=[fbc87193dbaf4d95561dea2c320d4a47]\n",
       "cluster E1--><a href=\"psysml:14e6fe4c-a4d9-4c34-a316-9cbabb101fb1\" target=\"_top\" title=\"psysml:14e6fe4c-a4d9-4c34-a316-9cbabb101fb1\" xlink:actuate=\"onRequest\" xlink:href=\"psysml:14e6fe4c-a4d9-4c34-a316-9cbabb101fb1\" xlink:show=\"new\" xlink:title=\"psysml:14e6fe4c-a4d9-4c34-a316-9cbabb101fb1\" xlink:type=\"simple\"><polygon fill=\"#FFFFFF\" points=\"16,6,130,6,137,28.2969,256,28.2969,256,440,16,440,16,6\" style=\"stroke: #000000; stroke-width: 1.5;\"/><line style=\"stroke: #000000; stroke-width: 1.5;\" x1=\"16\" x2=\"137\" y1=\"28.2969\" y2=\"28.2969\"/><text fill=\"#000000\" font-family=\"sans-serif\" font-size=\"14\" font-weight=\"bold\" lengthAdjust=\"spacingAndGlyphs\" textLength=\"108\" x=\"20\" y=\"20.9951\">PictureTaking</text></a><!--MD5=[b4997ac47864f28c2f74865a473b2911]\n",
       "class E2--><a href=\"psysml:9a8bab7b-7078-4a6b-add3-8a1328b0c2d6\" target=\"_top\" title=\"psysml:9a8bab7b-7078-4a6b-add3-8a1328b0c2d6\" xlink:actuate=\"onRequest\" xlink:href=\"psysml:9a8bab7b-7078-4a6b-add3-8a1328b0c2d6\" xlink:show=\"new\" xlink:title=\"psysml:9a8bab7b-7078-4a6b-add3-8a1328b0c2d6\" xlink:type=\"simple\"><rect fill=\"#FFFFFF\" height=\"45.9375\" id=\"E2\" style=\"stroke: #383838; stroke-width: 1.5;\" width=\"66\" x=\"103\" y=\"378\"/><text fill=\"#000000\" font-family=\"sans-serif\" font-size=\"12\" font-style=\"italic\" lengthAdjust=\"spacingAndGlyphs\" textLength=\"64\" x=\"104\" y=\"394.1387\">«part def»</text><text fill=\"#000000\" font-family=\"sans-serif\" font-size=\"12\" lengthAdjust=\"spacingAndGlyphs\" textLength=\"58\" x=\"107\" y=\"408.1074\">Exposure</text><line style=\"stroke: #383838; stroke-width: 1.5;\" x1=\"104\" x2=\"168\" y1=\"415.9375\" y2=\"415.9375\"/></a><!--MD5=[09b614a08d8cba4a07c9adeb5e0fee81]\n",
       "class E3--><a href=\"psysml:44676d48-2ba6-47f9-b761-758fcbe31dbd\" target=\"_top\" title=\"psysml:44676d48-2ba6-47f9-b761-758fcbe31dbd\" xlink:actuate=\"onRequest\" xlink:href=\"psysml:44676d48-2ba6-47f9-b761-758fcbe31dbd\" xlink:show=\"new\" xlink:title=\"psysml:44676d48-2ba6-47f9-b761-758fcbe31dbd\" xlink:type=\"simple\"><rect fill=\"#FFFFFF\" height=\"45.9375\" id=\"E3\" style=\"stroke: #383838; stroke-width: 1.5;\" width=\"79\" x=\"38.5\" y=\"255\"/><text fill=\"#000000\" font-family=\"sans-serif\" font-size=\"12\" font-style=\"italic\" lengthAdjust=\"spacingAndGlyphs\" textLength=\"77\" x=\"39.5\" y=\"271.1387\">«action def»</text><text fill=\"#000000\" font-family=\"sans-serif\" font-size=\"12\" lengthAdjust=\"spacingAndGlyphs\" textLength=\"37\" x=\"59.5\" y=\"285.1074\">Focus</text><line style=\"stroke: #383838; stroke-width: 1.5;\" x1=\"39.5\" x2=\"116.5\" y1=\"292.9375\" y2=\"292.9375\"/></a><!--MD5=[ebbe1d658d1005bcc118a6aa81145e00]\n",
       "class E4--><a href=\"psysml:d9adf687-8d42-42d3-b1b5-8b6413ee0fad\" target=\"_top\" title=\"psysml:d9adf687-8d42-42d3-b1b5-8b6413ee0fad\" xlink:actuate=\"onRequest\" xlink:href=\"psysml:d9adf687-8d42-42d3-b1b5-8b6413ee0fad\" xlink:show=\"new\" xlink:title=\"psysml:d9adf687-8d42-42d3-b1b5-8b6413ee0fad\" xlink:type=\"simple\"><rect fill=\"#FFFFFF\" height=\"45.9375\" id=\"E4\" style=\"stroke: #383838; stroke-width: 1.5;\" width=\"79\" x=\"154.5\" y=\"255\"/><text fill=\"#000000\" font-family=\"sans-serif\" font-size=\"12\" font-style=\"italic\" lengthAdjust=\"spacingAndGlyphs\" textLength=\"77\" x=\"155.5\" y=\"271.1387\">«action def»</text><text fill=\"#000000\" font-family=\"sans-serif\" font-size=\"12\" lengthAdjust=\"spacingAndGlyphs\" textLength=\"37\" x=\"175.5\" y=\"285.1074\">Shoot</text><line style=\"stroke: #383838; stroke-width: 1.5;\" x1=\"155.5\" x2=\"232.5\" y1=\"292.9375\" y2=\"292.9375\"/></a><!--MD5=[270fce915f116d4de14055a7c1d9a0f3]\n",
       "class E5--><a href=\"psysml:704c53cf-e737-43c7-aaa6-afd6aa41e73e\" target=\"_top\" title=\"psysml:704c53cf-e737-43c7-aaa6-afd6aa41e73e\" xlink:actuate=\"onRequest\" xlink:href=\"psysml:704c53cf-e737-43c7-aaa6-afd6aa41e73e\" xlink:show=\"new\" xlink:title=\"psysml:704c53cf-e737-43c7-aaa6-afd6aa41e73e\" xlink:type=\"simple\"><rect fill=\"#FFFFFF\" height=\"45.9375\" id=\"E5\" rx=\"10\" ry=\"10\" style=\"stroke: #383838; stroke-width: 1.5;\" width=\"78\" x=\"96\" y=\"41\"/><text fill=\"#000000\" font-family=\"sans-serif\" font-size=\"12\" font-style=\"italic\" lengthAdjust=\"spacingAndGlyphs\" textLength=\"53\" x=\"108.5\" y=\"57.1387\">«action»</text><text fill=\"#000000\" font-family=\"sans-serif\" font-size=\"12\" lengthAdjust=\"spacingAndGlyphs\" textLength=\"72\" x=\"99\" y=\"71.1074\">takePicture</text><line style=\"stroke: #383838; stroke-width: 1.5;\" x1=\"97\" x2=\"173\" y1=\"78.9375\" y2=\"78.9375\"/></a><!--MD5=[60a26617385b1d2d0262a64233df1f8d]\n",
       "class E6--><a href=\"psysml:247459c4-dc1c-41f3-9bbd-2210d0a14144\" target=\"_top\" title=\"psysml:247459c4-dc1c-41f3-9bbd-2210d0a14144\" xlink:actuate=\"onRequest\" xlink:href=\"psysml:247459c4-dc1c-41f3-9bbd-2210d0a14144\" xlink:show=\"new\" xlink:title=\"psysml:247459c4-dc1c-41f3-9bbd-2210d0a14144\" xlink:type=\"simple\"><rect fill=\"#FFFFFF\" height=\"45.9375\" id=\"E6\" rx=\"10\" ry=\"10\" style=\"stroke: #383838; stroke-width: 1.5;\" width=\"85\" x=\"32.5\" y=\"148\"/><text fill=\"#000000\" font-family=\"sans-serif\" font-size=\"12\" font-style=\"italic\" lengthAdjust=\"spacingAndGlyphs\" textLength=\"53\" x=\"48.5\" y=\"164.1387\">«action»</text><text fill=\"#000000\" font-family=\"sans-serif\" font-size=\"12\" lengthAdjust=\"spacingAndGlyphs\" textLength=\"79\" x=\"35.5\" y=\"178.1074\">focus: Focus</text><line style=\"stroke: #383838; stroke-width: 1.5;\" x1=\"33.5\" x2=\"116.5\" y1=\"185.9375\" y2=\"185.9375\"/></a><!--MD5=[2156ba9850f5573cc1fc38a6a4b2f02b]\n",
       "class E7--><a href=\"psysml:d7e0c4ce-9a2d-4e4d-8f17-58d415aecc73\" target=\"_top\" title=\"psysml:d7e0c4ce-9a2d-4e4d-8f17-58d415aecc73\" xlink:actuate=\"onRequest\" xlink:href=\"psysml:d7e0c4ce-9a2d-4e4d-8f17-58d415aecc73\" xlink:show=\"new\" xlink:title=\"psysml:d7e0c4ce-9a2d-4e4d-8f17-58d415aecc73\" xlink:type=\"simple\"><rect fill=\"#FFFFFF\" height=\"45.9375\" id=\"E7\" rx=\"10\" ry=\"10\" style=\"stroke: #383838; stroke-width: 1.5;\" width=\"87\" x=\"152.5\" y=\"148\"/><text fill=\"#000000\" font-family=\"sans-serif\" font-size=\"12\" font-style=\"italic\" lengthAdjust=\"spacingAndGlyphs\" textLength=\"53\" x=\"169.5\" y=\"164.1387\">«action»</text><text fill=\"#000000\" font-family=\"sans-serif\" font-size=\"12\" lengthAdjust=\"spacingAndGlyphs\" textLength=\"81\" x=\"155.5\" y=\"178.1074\">shoot: Shoot</text><line style=\"stroke: #383838; stroke-width: 1.5;\" x1=\"153.5\" x2=\"238.5\" y1=\"185.9375\" y2=\"185.9375\"/></a><!--MD5=[b900ca4392aad7a68aec1e9245e10ab9]\n",
       "reverse link E3 to E2--><a href=\"psysml:7285223f-23e3-4ded-a1a3-c8dbe746ff9d\" target=\"_top\" title=\"psysml:7285223f-23e3-4ded-a1a3-c8dbe746ff9d\" xlink:actuate=\"onRequest\" xlink:href=\"psysml:7285223f-23e3-4ded-a1a3-c8dbe746ff9d\" xlink:show=\"new\" xlink:title=\"psysml:7285223f-23e3-4ded-a1a3-c8dbe746ff9d\" xlink:type=\"simple\"><path d=\"M94.32,313.04 C104.29,333.84 116.74,359.82 125.43,377.95 \" fill=\"none\" id=\"E3&lt;-E2\" style=\"stroke: #383838; stroke-width: 1.0;\"/><polygon fill=\"#FFFFFF\" points=\"88.64,301.19,87.6227,308.329,93.8212,312.0138,94.8385,304.8748,88.64,301.19\" style=\"stroke: #383838; stroke-width: 1.0;\"/><text fill=\"#000000\" font-family=\"sans-serif\" font-size=\"13\" lengthAdjust=\"spacingAndGlyphs\" textLength=\"22\" x=\"111\" y=\"344.0669\">xrsl</text></a><!--MD5=[ddeed8deb2209213b62e6cfabaa108b2]\n",
       "reverse link E4 to E2--><a href=\"psysml:3f6601e8-74ad-4acc-b654-2e93fe2ad4c3\" target=\"_top\" title=\"psysml:3f6601e8-74ad-4acc-b654-2e93fe2ad4c3\" xlink:actuate=\"onRequest\" xlink:href=\"psysml:3f6601e8-74ad-4acc-b654-2e93fe2ad4c3\" xlink:show=\"new\" xlink:title=\"psysml:3f6601e8-74ad-4acc-b654-2e93fe2ad4c3\" xlink:type=\"simple\"><path d=\"M177.68,313.04 C167.71,333.84 155.26,359.82 146.57,377.95 \" fill=\"none\" id=\"E4&lt;-E2\" style=\"stroke: #383838; stroke-width: 1.0;\"/><polygon fill=\"#FFFFFF\" points=\"183.36,301.19,177.1615,304.8748,178.1788,312.0138,184.3773,308.329,183.36,301.19\" style=\"stroke: #383838; stroke-width: 1.0;\"/><text fill=\"#000000\" font-family=\"sans-serif\" font-size=\"13\" lengthAdjust=\"spacingAndGlyphs\" textLength=\"18\" x=\"169\" y=\"344.0669\">xsf</text></a><!--MD5=[85d356282659285ab4b2cfe2f634dd2b]\n",
       "reverse link E5 to E6--><a href=\"psysml:b27ee466-0f4c-4005-a5ef-b2dd2df76771\" target=\"_top\" title=\"psysml:b27ee466-0f4c-4005-a5ef-b2dd2df76771\" xlink:actuate=\"onRequest\" xlink:href=\"psysml:b27ee466-0f4c-4005-a5ef-b2dd2df76771\" xlink:show=\"new\" xlink:title=\"psysml:b27ee466-0f4c-4005-a5ef-b2dd2df76771\" xlink:type=\"simple\"><path d=\"M115.79,98.62 C106.62,114.66 95.91,133.4 87.77,147.66 \" fill=\"none\" id=\"E5&lt;-E6\" style=\"stroke: #383838; stroke-width: 1.0;\"/><polygon fill=\"#383838\" points=\"122.42,87.01,115.9684,90.2314,116.4607,97.4257,122.9122,94.2043,122.42,87.01\" style=\"stroke: #383838; stroke-width: 1.0;\"/><text fill=\"#000000\" font-family=\"sans-serif\" font-size=\"13\" lengthAdjust=\"spacingAndGlyphs\" textLength=\"8\" x=\"82.0173\" y=\"136.8492\">1</text></a><!--MD5=[a717450b82c80b9240a525fa862496af]\n",
       "link E6 to E3--><a href=\"psysml:5a2a5603-bc94-4298-a763-49fe520ca5bc\" target=\"_top\" title=\"psysml:5a2a5603-bc94-4298-a763-49fe520ca5bc\" xlink:actuate=\"onRequest\" xlink:href=\"psysml:5a2a5603-bc94-4298-a763-49fe520ca5bc\" xlink:show=\"new\" xlink:title=\"psysml:5a2a5603-bc94-4298-a763-49fe520ca5bc\" xlink:type=\"simple\"><path d=\"M75.63,194.01 C75.96,205.69 76.38,220.46 76.78,234.28 \" fill=\"none\" id=\"E6-&gt;E3\" style=\"stroke: #383838; stroke-width: 1.0;\"/><polygon fill=\"#FFFFFF\" points=\"77.36,254.66,69.8202,235.8677,83.8145,235.4678,77.36,254.66\" style=\"stroke: #383838; stroke-width: 1.0;\"/><ellipse cx=\"71.6566\" cy=\"230.1129\" fill=\"#383838\" rx=\"2\" ry=\"2\" style=\"stroke: #383838; stroke-width: 1.0;\"/><ellipse cx=\"81.6525\" cy=\"229.8273\" fill=\"#383838\" rx=\"2\" ry=\"2\" style=\"stroke: #383838; stroke-width: 1.0;\"/></a><!--MD5=[452b418e7f8a40397a49b8c0a78acc5b]\n",
       "reverse link E5 to E7--><a href=\"psysml:aaa4df86-e408-4ec8-a2fe-61e5d0511306\" target=\"_top\" title=\"psysml:aaa4df86-e408-4ec8-a2fe-61e5d0511306\" xlink:actuate=\"onRequest\" xlink:href=\"psysml:aaa4df86-e408-4ec8-a2fe-61e5d0511306\" xlink:show=\"new\" xlink:title=\"psysml:aaa4df86-e408-4ec8-a2fe-61e5d0511306\" xlink:type=\"simple\"><path d=\"M154.53,98.62 C163.85,114.66 174.74,133.4 183.02,147.66 \" fill=\"none\" id=\"E5&lt;-E7\" style=\"stroke: #383838; stroke-width: 1.0;\"/><polygon fill=\"#383838\" points=\"147.79,87.01,147.3439,94.2073,153.8159,97.3873,154.2621,90.19,147.79,87.01\" style=\"stroke: #383838; stroke-width: 1.0;\"/><text fill=\"#000000\" font-family=\"sans-serif\" font-size=\"13\" lengthAdjust=\"spacingAndGlyphs\" textLength=\"8\" x=\"170.6689\" y=\"136.8492\">1</text></a><!--MD5=[6bdd27f9905911a7e892a3dc65cf6b7c]\n",
       "link E7 to E4--><a href=\"psysml:f48d95ee-d7b3-4518-8228-9030b5bbf5ab\" target=\"_top\" title=\"psysml:f48d95ee-d7b3-4518-8228-9030b5bbf5ab\" xlink:actuate=\"onRequest\" xlink:href=\"psysml:f48d95ee-d7b3-4518-8228-9030b5bbf5ab\" xlink:show=\"new\" xlink:title=\"psysml:f48d95ee-d7b3-4518-8228-9030b5bbf5ab\" xlink:type=\"simple\"><path d=\"M195.58,194.01 C195.36,205.69 195.08,220.46 194.81,234.28 \" fill=\"none\" id=\"E7-&gt;E4\" style=\"stroke: #383838; stroke-width: 1.0;\"/><polygon fill=\"#FFFFFF\" points=\"194.43,254.66,187.784,235.5333,201.7816,235.7933,194.43,254.66\" style=\"stroke: #383838; stroke-width: 1.0;\"/><ellipse cx=\"189.8895\" cy=\"229.8714\" fill=\"#383838\" rx=\"2\" ry=\"2\" style=\"stroke: #383838; stroke-width: 1.0;\"/><ellipse cx=\"199.8878\" cy=\"230.0571\" fill=\"#383838\" rx=\"2\" ry=\"2\" style=\"stroke: #383838; stroke-width: 1.0;\"/></a><!--MD5=[859eb5ce94ed4e325745ae86ac21028c]\n",
       "@startuml\r\n",
       "skinparam monochrome true\r\n",
       "skinparam classbackgroundcolor white\r\n",
       "skinparam shadowing false\r\n",
       "skinparam wrapWidth 300\r\n",
       "hide circle\r\n",
       "\r\n",
       "package \"PictureTaking\" as E1  [[psysml:14e6fe4c-a4d9-4c34-a316-9cbabb101fb1 ]]  {\r\n",
       "comp def \"Exposure\" as E2  <<(T,blue)part def>> [[psysml:9a8bab7b-7078-4a6b-add3-8a1328b0c2d6 ]] {\r\n",
       "}\r\n",
       "comp def \"Focus\" as E3  <<(T,blue)action def>> [[psysml:44676d48-2ba6-47f9-b761-758fcbe31dbd ]] {\r\n",
       "}\r\n",
       "comp def \"Shoot\" as E4  <<(T,blue)action def>> [[psysml:d9adf687-8d42-42d3-b1b5-8b6413ee0fad ]] {\r\n",
       "}\r\n",
       "comp usage \"takePicture\" as E5  <<(T,blue)action>> [[psysml:704c53cf-e737-43c7-aaa6-afd6aa41e73e ]] {\r\n",
       "}\r\n",
       "comp usage \"focus: Focus\" as E6  <<(T,blue)action>> [[psysml:247459c4-dc1c-41f3-9bbd-2210d0a14144 ]] {\r\n",
       "}\r\n",
       "comp usage \"shoot: Shoot\" as E7  <<(T,blue)action>> [[psysml:d7e0c4ce-9a2d-4e4d-8f17-58d415aecc73 ]] {\r\n",
       "}\r\n",
       "E3 o- - E2 [[psysml:7285223f-23e3-4ded-a1a3-c8dbe746ff9d ]] : xrsl\r\n",
       "E4 o- - E2 [[psysml:3f6601e8-74ad-4acc-b654-2e93fe2ad4c3 ]] : xsf\r\n",
       "E5 *- - \"1\"E6 [[psysml:b27ee466-0f4c-4005-a5ef-b2dd2df76771 ]] \r\n",
       "E6 - -:|> E3 [[psysml:5a2a5603-bc94-4298-a763-49fe520ca5bc ]] \r\n",
       "E5 *- - \"1\"E7 [[psysml:aaa4df86-e408-4ec8-a2fe-61e5d0511306 ]] \r\n",
       "E7 - -:|> E4 [[psysml:f48d95ee-d7b3-4518-8228-9030b5bbf5ab ]] \r\n",
       "}\r\n",
       "@enduml\r\n",
       "\n",
       "PlantUML version 1.2020.13(Sat Jun 13 12:26:38 UTC 2020)\n",
       "(EPL source distribution)\n",
       "Java Runtime: OpenJDK Runtime Environment\n",
       "JVM: OpenJDK 64-Bit Server VM\n",
       "Default Encoding: UTF-8\n",
       "Language: en\n",
       "Country: null\n",
       "--></g></svg>"
      ]
     },
     "execution_count": 42,
     "metadata": {},
     "output_type": "execute_result"
    }
   ],
   "source": [
    "%viz --style=\"DEFAULT\" --view=\"Sequence\" \"PictureTaking\""
   ]
  },
  {
   "cell_type": "code",
   "execution_count": 43,
   "id": "b91054bf",
   "metadata": {
    "execution": {
     "iopub.execute_input": "2021-04-20T07:32:04.477508Z",
     "iopub.status.busy": "2021-04-20T07:32:04.476843Z",
     "iopub.status.idle": "2021-04-20T07:32:04.524886Z",
     "shell.execute_reply": "2021-04-20T07:32:04.523367Z"
    }
   },
   "outputs": [
    {
     "data": {
      "image/svg+xml": [
       "<?xml version=\"1.0\" encoding=\"UTF-8\" standalone=\"no\"?><svg xmlns=\"http://www.w3.org/2000/svg\" xmlns:xlink=\"http://www.w3.org/1999/xlink\" contentScriptType=\"application/ecmascript\" contentStyleType=\"text/css\" height=\"455px\" preserveAspectRatio=\"none\" style=\"width:700px;height:455px;\" version=\"1.1\" viewBox=\"0 0 700 455\" width=\"700px\" zoomAndPan=\"magnify\"><defs/><g><!--MD5=[fbc87193dbaf4d95561dea2c320d4a47]\n",
       "cluster E1--><a href=\"psysml:14e6fe4c-a4d9-4c34-a316-9cbabb101fb1\" target=\"_top\" title=\"psysml:14e6fe4c-a4d9-4c34-a316-9cbabb101fb1\" xlink:actuate=\"onRequest\" xlink:href=\"psysml:14e6fe4c-a4d9-4c34-a316-9cbabb101fb1\" xlink:show=\"new\" xlink:title=\"psysml:14e6fe4c-a4d9-4c34-a316-9cbabb101fb1\" xlink:type=\"simple\"><polygon fill=\"#FFFFFF\" points=\"16,6,130,6,137,28.2969,678,28.2969,678,443.5,16,443.5,16,6\" style=\"stroke: #000000; stroke-width: 1.5;\"/><line style=\"stroke: #000000; stroke-width: 1.5;\" x1=\"16\" x2=\"137\" y1=\"28.2969\" y2=\"28.2969\"/><text fill=\"#000000\" font-family=\"sans-serif\" font-size=\"14\" font-weight=\"bold\" lengthAdjust=\"spacingAndGlyphs\" textLength=\"108\" x=\"20\" y=\"20.9951\">PictureTaking</text></a><!--MD5=[d5e69f78d87373223dbae638b30a9c99]\n",
       "cluster E3--><a href=\"psysml:44676d48-2ba6-47f9-b761-758fcbe31dbd\" target=\"_top\" title=\"psysml:44676d48-2ba6-47f9-b761-758fcbe31dbd\" xlink:actuate=\"onRequest\" xlink:href=\"psysml:44676d48-2ba6-47f9-b761-758fcbe31dbd\" xlink:show=\"new\" xlink:title=\"psysml:44676d48-2ba6-47f9-b761-758fcbe31dbd\" xlink:type=\"simple\"><rect fill=\"#FFFFFF\" height=\"217.5\" id=\"E3\" style=\"stroke: #383838; stroke-width: 1.5;\" width=\"134\" x=\"528\" y=\"100\"/><rect fill=\"#F8F8F8\" height=\"37.9375\" style=\"stroke: #383838; stroke-width: 1.5;\" width=\"134\" x=\"528\" y=\"100\"/><text fill=\"#000000\" font-family=\"sans-serif\" font-size=\"12\" font-style=\"italic\" lengthAdjust=\"spacingAndGlyphs\" textLength=\"77\" x=\"556.5\" y=\"116.1387\">«action def»</text><text fill=\"#000000\" font-family=\"sans-serif\" font-size=\"12\" lengthAdjust=\"spacingAndGlyphs\" textLength=\"37\" x=\"576.5\" y=\"130.1074\">Focus</text></a><!--MD5=[de5ec2e2e8f62f467e546659f5068c88]\n",
       "cluster E5--><a href=\"psysml:d9adf687-8d42-42d3-b1b5-8b6413ee0fad\" target=\"_top\" title=\"psysml:d9adf687-8d42-42d3-b1b5-8b6413ee0fad\" xlink:actuate=\"onRequest\" xlink:href=\"psysml:d9adf687-8d42-42d3-b1b5-8b6413ee0fad\" xlink:show=\"new\" xlink:title=\"psysml:d9adf687-8d42-42d3-b1b5-8b6413ee0fad\" xlink:type=\"simple\"><rect fill=\"#FFFFFF\" height=\"134\" id=\"E5\" style=\"stroke: #383838; stroke-width: 1.5;\" width=\"134\" x=\"386\" y=\"133.5\"/><rect fill=\"#F8F8F8\" height=\"37.9375\" style=\"stroke: #383838; stroke-width: 1.5;\" width=\"134\" x=\"386\" y=\"133.5\"/><text fill=\"#000000\" font-family=\"sans-serif\" font-size=\"12\" font-style=\"italic\" lengthAdjust=\"spacingAndGlyphs\" textLength=\"77\" x=\"414.5\" y=\"149.6387\">«action def»</text><text fill=\"#000000\" font-family=\"sans-serif\" font-size=\"12\" lengthAdjust=\"spacingAndGlyphs\" textLength=\"37\" x=\"434.5\" y=\"163.6074\">Shoot</text></a><!--MD5=[168fadf3d0c3fd93dd5d6da1b1d7ab76]\n",
       "cluster E7--><a href=\"psysml:704c53cf-e737-43c7-aaa6-afd6aa41e73e\" target=\"_top\" title=\"psysml:704c53cf-e737-43c7-aaa6-afd6aa41e73e\" xlink:actuate=\"onRequest\" xlink:href=\"psysml:704c53cf-e737-43c7-aaa6-afd6aa41e73e\" xlink:show=\"new\" xlink:title=\"psysml:704c53cf-e737-43c7-aaa6-afd6aa41e73e\" xlink:type=\"simple\"><rect fill=\"#FFFFFF\" height=\"370.5\" id=\"E7\" rx=\"10\" ry=\"10\" style=\"stroke: #383838; stroke-width: 1.5;\" width=\"256\" x=\"114\" y=\"49\"/><rect fill=\"#F8F8F8\" height=\"37.9375\" rx=\"10\" ry=\"10\" style=\"stroke: #F8F8F8; stroke-width: 1.5;\" width=\"256\" x=\"114\" y=\"49\"/><rect fill=\"#F8F8F8\" height=\"10\" style=\"stroke: #F8F8F8; stroke-width: 1.5;\" width=\"256\" x=\"114\" y=\"76.9375\"/><rect fill=\"none\" height=\"370.5\" id=\"E7\" rx=\"10\" ry=\"10\" style=\"stroke: #383838; stroke-width: 1.5;\" width=\"256\" x=\"114\" y=\"49\"/><text fill=\"#000000\" font-family=\"sans-serif\" font-size=\"12\" font-style=\"italic\" lengthAdjust=\"spacingAndGlyphs\" textLength=\"53\" x=\"215.5\" y=\"65.1387\">«action»</text><text fill=\"#000000\" font-family=\"sans-serif\" font-size=\"12\" lengthAdjust=\"spacingAndGlyphs\" textLength=\"72\" x=\"206\" y=\"79.1074\">takePicture</text><line style=\"stroke: #383838; stroke-width: 1.0;\" x1=\"114\" x2=\"370\" y1=\"86.9375\" y2=\"86.9375\"/></a><!--MD5=[55dfccfc6c49c2d10cd1bd2211a6c90c]\n",
       "cluster E8--><a href=\"psysml:247459c4-dc1c-41f3-9bbd-2210d0a14144\" target=\"_top\" title=\"psysml:247459c4-dc1c-41f3-9bbd-2210d0a14144\" xlink:actuate=\"onRequest\" xlink:href=\"psysml:247459c4-dc1c-41f3-9bbd-2210d0a14144\" xlink:show=\"new\" xlink:title=\"psysml:247459c4-dc1c-41f3-9bbd-2210d0a14144\" xlink:type=\"simple\"><rect fill=\"#FFFFFF\" height=\"217.5\" id=\"E8\" rx=\"10\" ry=\"10\" style=\"stroke: #383838; stroke-width: 1.5;\" width=\"83\" x=\"257\" y=\"100\"/><rect fill=\"#F8F8F8\" height=\"37.9375\" rx=\"10\" ry=\"10\" style=\"stroke: #F8F8F8; stroke-width: 1.5;\" width=\"83\" x=\"257\" y=\"100\"/><rect fill=\"#F8F8F8\" height=\"10\" style=\"stroke: #F8F8F8; stroke-width: 1.5;\" width=\"83\" x=\"257\" y=\"127.9375\"/><rect fill=\"none\" height=\"217.5\" id=\"E8\" rx=\"10\" ry=\"10\" style=\"stroke: #383838; stroke-width: 1.5;\" width=\"83\" x=\"257\" y=\"100\"/><text fill=\"#000000\" font-family=\"sans-serif\" font-size=\"12\" font-style=\"italic\" lengthAdjust=\"spacingAndGlyphs\" textLength=\"53\" x=\"272\" y=\"116.1387\">«action»</text><text fill=\"#000000\" font-family=\"sans-serif\" font-size=\"12\" lengthAdjust=\"spacingAndGlyphs\" textLength=\"34\" x=\"281.5\" y=\"130.1074\">focus</text><line style=\"stroke: #383838; stroke-width: 1.0;\" x1=\"257\" x2=\"340\" y1=\"137.9375\" y2=\"137.9375\"/></a><!--MD5=[917b9dd0c7eca3ee5f47219d1a84c0ad]\n",
       "cluster E11--><a href=\"psysml:d7e0c4ce-9a2d-4e4d-8f17-58d415aecc73\" target=\"_top\" title=\"psysml:d7e0c4ce-9a2d-4e4d-8f17-58d415aecc73\" xlink:actuate=\"onRequest\" xlink:href=\"psysml:d7e0c4ce-9a2d-4e4d-8f17-58d415aecc73\" xlink:show=\"new\" xlink:title=\"psysml:d7e0c4ce-9a2d-4e4d-8f17-58d415aecc73\" xlink:type=\"simple\"><rect fill=\"#FFFFFF\" height=\"256\" id=\"E11\" rx=\"10\" ry=\"10\" style=\"stroke: #383838; stroke-width: 1.5;\" width=\"74\" x=\"164\" y=\"133.5\"/><rect fill=\"#F8F8F8\" height=\"37.9375\" rx=\"10\" ry=\"10\" style=\"stroke: #F8F8F8; stroke-width: 1.5;\" width=\"74\" x=\"164\" y=\"133.5\"/><rect fill=\"#F8F8F8\" height=\"10\" style=\"stroke: #F8F8F8; stroke-width: 1.5;\" width=\"74\" x=\"164\" y=\"161.4375\"/><rect fill=\"none\" height=\"256\" id=\"E11\" rx=\"10\" ry=\"10\" style=\"stroke: #383838; stroke-width: 1.5;\" width=\"74\" x=\"164\" y=\"133.5\"/><text fill=\"#000000\" font-family=\"sans-serif\" font-size=\"12\" font-style=\"italic\" lengthAdjust=\"spacingAndGlyphs\" textLength=\"53\" x=\"174.5\" y=\"149.6387\">«action»</text><text fill=\"#000000\" font-family=\"sans-serif\" font-size=\"12\" lengthAdjust=\"spacingAndGlyphs\" textLength=\"36\" x=\"183\" y=\"163.6074\">shoot</text><line style=\"stroke: #383838; stroke-width: 1.0;\" x1=\"164\" x2=\"238\" y1=\"171.4375\" y2=\"171.4375\"/></a><!--MD5=[b4997ac47864f28c2f74865a473b2911]\n",
       "class E2--><a href=\"psysml:9a8bab7b-7078-4a6b-add3-8a1328b0c2d6\" target=\"_top\" title=\"psysml:9a8bab7b-7078-4a6b-add3-8a1328b0c2d6\" xlink:actuate=\"onRequest\" xlink:href=\"psysml:9a8bab7b-7078-4a6b-add3-8a1328b0c2d6\" xlink:show=\"new\" xlink:title=\"psysml:9a8bab7b-7078-4a6b-add3-8a1328b0c2d6\" xlink:type=\"simple\"><rect fill=\"#FFFFFF\" height=\"45.9375\" id=\"E2\" style=\"stroke: #383838; stroke-width: 1.5;\" width=\"66\" x=\"32\" y=\"110.5\"/><text fill=\"#000000\" font-family=\"sans-serif\" font-size=\"12\" font-style=\"italic\" lengthAdjust=\"spacingAndGlyphs\" textLength=\"64\" x=\"33\" y=\"126.6387\">«part def»</text><text fill=\"#000000\" font-family=\"sans-serif\" font-size=\"12\" lengthAdjust=\"spacingAndGlyphs\" textLength=\"58\" x=\"36\" y=\"140.6074\">Exposure</text><line style=\"stroke: #383838; stroke-width: 1.5;\" x1=\"33\" x2=\"97\" y1=\"148.4375\" y2=\"148.4375\"/></a><text fill=\"#000000\" font-family=\"sans-serif\" font-size=\"14\" lengthAdjust=\"spacingAndGlyphs\" textLength=\"23\" x=\"583.5\" y=\"336.4951\">xrsl</text><rect fill=\"#383838\" height=\"12\" style=\"stroke: #F8F8F8; stroke-width: 1.5;\" width=\"12\" x=\"589\" y=\"311.5\"/><text fill=\"#000000\" font-family=\"sans-serif\" font-size=\"14\" lengthAdjust=\"spacingAndGlyphs\" textLength=\"19\" x=\"443.5\" y=\"112.1982\">xsf</text><rect fill=\"#383838\" height=\"12\" style=\"stroke: #F8F8F8; stroke-width: 1.5;\" width=\"12\" x=\"447\" y=\"127.5\"/><text fill=\"#000000\" font-family=\"sans-serif\" font-size=\"14\" lengthAdjust=\"spacingAndGlyphs\" textLength=\"48\" x=\"251\" y=\"336.4951\">$result</text><rect fill=\"#383838\" height=\"12\" style=\"stroke: #F8F8F8; stroke-width: 1.5;\" width=\"12\" x=\"269\" y=\"311.5\"/><text fill=\"#000000\" font-family=\"sans-serif\" font-size=\"14\" lengthAdjust=\"spacingAndGlyphs\" textLength=\"23\" x=\"310.5\" y=\"336.4951\">xrsl</text><rect fill=\"#383838\" height=\"12\" style=\"stroke: #F8F8F8; stroke-width: 1.5;\" width=\"12\" x=\"316\" y=\"311.5\"/><text fill=\"#000000\" font-family=\"sans-serif\" font-size=\"14\" lengthAdjust=\"spacingAndGlyphs\" textLength=\"48\" x=\"158\" y=\"408.4951\">$result</text><rect fill=\"#383838\" height=\"12\" style=\"stroke: #F8F8F8; stroke-width: 1.5;\" width=\"12\" x=\"176\" y=\"383.5\"/><text fill=\"#000000\" font-family=\"sans-serif\" font-size=\"14\" lengthAdjust=\"spacingAndGlyphs\" textLength=\"19\" x=\"174.5\" y=\"112.1982\">xsf</text><rect fill=\"#383838\" height=\"12\" style=\"stroke: #F8F8F8; stroke-width: 1.5;\" width=\"12\" x=\"178\" y=\"127.5\"/><!--MD5=[62de43f8383f1ab0c42bdd89662cb408]\n",
       "@startuml\r\n",
       "skinparam monochrome true\r\n",
       "skinparam classbackgroundcolor white\r\n",
       "skinparam shadowing false\r\n",
       "skinparam wrapWidth 300\r\n",
       "hide circle\r\n",
       "\r\n",
       "package \"PictureTaking\" as E1  [[psysml:14e6fe4c-a4d9-4c34-a316-9cbabb101fb1 ]]  {\r\n",
       "comp def \"Exposure\" as E2  <<(T,blue)part def>> [[psysml:9a8bab7b-7078-4a6b-add3-8a1328b0c2d6 ]] {\r\n",
       "}\r\n",
       "rec def \"Focus\" as E3  <<(T,blue)action def>> [[psysml:44676d48-2ba6-47f9-b761-758fcbe31dbd ]] {\r\n",
       "portout \"xrsl\" as E4  [[psysml:7285223f-23e3-4ded-a1a3-c8dbe746ff9d ]] \r\n",
       "}\r\n",
       "\r\n",
       "rec def \"Shoot\" as E5  <<(T,blue)action def>> [[psysml:d9adf687-8d42-42d3-b1b5-8b6413ee0fad ]] {\r\n",
       "portin \"xsf\" as E6  [[psysml:3f6601e8-74ad-4acc-b654-2e93fe2ad4c3 ]] \r\n",
       "}\r\n",
       "\r\n",
       "rec usage \"takePicture\" as E7  <<(T,blue)action>> [[psysml:704c53cf-e737-43c7-aaa6-afd6aa41e73e ]] {\r\n",
       "rec usage \"focus\" as E8  <<(T,blue)action>> [[psysml:247459c4-dc1c-41f3-9bbd-2210d0a14144 ]] {\r\n",
       "portout \"$result\" as E9  [[psysml:d24c4944-7685-4e9e-b1e9-aa0857e67b68 ]] \r\n",
       "portout \"xrsl\" as E10  [[psysml:a9b63f0e-a7c1-4470-82ae-da9c74073d16 ]] \r\n",
       "}\r\n",
       "\r\n",
       "rec usage \"shoot\" as E11  <<(T,blue)action>> [[psysml:d7e0c4ce-9a2d-4e4d-8f17-58d415aecc73 ]] {\r\n",
       "portout \"$result\" as E12  [[psysml:edaf4370-9fef-4792-934f-b7a89f5913cc ]] \r\n",
       "portin \"xsf\" as E13  [[psysml:1ee0e316-c080-4a1b-aa8d-122e3ae24dab ]] \r\n",
       "}\r\n",
       "\r\n",
       "}\r\n",
       "\r\n",
       "}\r\n",
       "@enduml\r\n",
       "\n",
       "PlantUML version 1.2020.13(Sat Jun 13 12:26:38 UTC 2020)\n",
       "(EPL source distribution)\n",
       "Java Runtime: OpenJDK Runtime Environment\n",
       "JVM: OpenJDK 64-Bit Server VM\n",
       "Default Encoding: UTF-8\n",
       "Language: en\n",
       "Country: null\n",
       "--></g></svg>"
      ]
     },
     "execution_count": 43,
     "metadata": {},
     "output_type": "execute_result"
    }
   ],
   "source": [
    "%viz --style=\"DEFAULT\" --view=\"MIXED\" \"PictureTaking\""
   ]
  },
  {
   "cell_type": "code",
   "execution_count": 44,
   "id": "626c244e",
   "metadata": {
    "execution": {
     "iopub.execute_input": "2021-04-20T07:32:04.573808Z",
     "iopub.status.busy": "2021-04-20T07:32:04.573430Z",
     "iopub.status.idle": "2021-04-20T07:32:04.618063Z",
     "shell.execute_reply": "2021-04-20T07:32:04.616288Z"
    }
   },
   "outputs": [
    {
     "data": {
      "image/svg+xml": [
       "<?xml version=\"1.0\" encoding=\"UTF-8\" standalone=\"no\"?><svg xmlns=\"http://www.w3.org/2000/svg\" xmlns:xlink=\"http://www.w3.org/1999/xlink\" contentScriptType=\"application/ecmascript\" contentStyleType=\"text/css\" height=\"455px\" preserveAspectRatio=\"none\" style=\"width:700px;height:455px;\" version=\"1.1\" viewBox=\"0 0 700 455\" width=\"700px\" zoomAndPan=\"magnify\"><defs/><g><!--MD5=[fbc87193dbaf4d95561dea2c320d4a47]\n",
       "cluster E1--><a href=\"psysml:14e6fe4c-a4d9-4c34-a316-9cbabb101fb1\" target=\"_top\" title=\"psysml:14e6fe4c-a4d9-4c34-a316-9cbabb101fb1\" xlink:actuate=\"onRequest\" xlink:href=\"psysml:14e6fe4c-a4d9-4c34-a316-9cbabb101fb1\" xlink:show=\"new\" xlink:title=\"psysml:14e6fe4c-a4d9-4c34-a316-9cbabb101fb1\" xlink:type=\"simple\"><polygon fill=\"#FFFFFF\" points=\"16,6,130,6,137,28.2969,678,28.2969,678,443.5,16,443.5,16,6\" style=\"stroke: #000000; stroke-width: 1.5;\"/><line style=\"stroke: #000000; stroke-width: 1.5;\" x1=\"16\" x2=\"137\" y1=\"28.2969\" y2=\"28.2969\"/><text fill=\"#000000\" font-family=\"sans-serif\" font-size=\"14\" font-weight=\"bold\" lengthAdjust=\"spacingAndGlyphs\" textLength=\"108\" x=\"20\" y=\"20.9951\">PictureTaking</text></a><!--MD5=[d5e69f78d87373223dbae638b30a9c99]\n",
       "cluster E3--><a href=\"psysml:44676d48-2ba6-47f9-b761-758fcbe31dbd\" target=\"_top\" title=\"psysml:44676d48-2ba6-47f9-b761-758fcbe31dbd\" xlink:actuate=\"onRequest\" xlink:href=\"psysml:44676d48-2ba6-47f9-b761-758fcbe31dbd\" xlink:show=\"new\" xlink:title=\"psysml:44676d48-2ba6-47f9-b761-758fcbe31dbd\" xlink:type=\"simple\"><rect fill=\"#FFFFFF\" height=\"217.5\" id=\"E3\" style=\"stroke: #383838; stroke-width: 1.5;\" width=\"134\" x=\"528\" y=\"100\"/><rect fill=\"#F8F8F8\" height=\"37.9375\" style=\"stroke: #383838; stroke-width: 1.5;\" width=\"134\" x=\"528\" y=\"100\"/><text fill=\"#000000\" font-family=\"sans-serif\" font-size=\"12\" font-style=\"italic\" lengthAdjust=\"spacingAndGlyphs\" textLength=\"77\" x=\"556.5\" y=\"116.1387\">«action def»</text><text fill=\"#000000\" font-family=\"sans-serif\" font-size=\"12\" lengthAdjust=\"spacingAndGlyphs\" textLength=\"37\" x=\"576.5\" y=\"130.1074\">Focus</text></a><!--MD5=[de5ec2e2e8f62f467e546659f5068c88]\n",
       "cluster E5--><a href=\"psysml:d9adf687-8d42-42d3-b1b5-8b6413ee0fad\" target=\"_top\" title=\"psysml:d9adf687-8d42-42d3-b1b5-8b6413ee0fad\" xlink:actuate=\"onRequest\" xlink:href=\"psysml:d9adf687-8d42-42d3-b1b5-8b6413ee0fad\" xlink:show=\"new\" xlink:title=\"psysml:d9adf687-8d42-42d3-b1b5-8b6413ee0fad\" xlink:type=\"simple\"><rect fill=\"#FFFFFF\" height=\"134\" id=\"E5\" style=\"stroke: #383838; stroke-width: 1.5;\" width=\"134\" x=\"386\" y=\"133.5\"/><rect fill=\"#F8F8F8\" height=\"37.9375\" style=\"stroke: #383838; stroke-width: 1.5;\" width=\"134\" x=\"386\" y=\"133.5\"/><text fill=\"#000000\" font-family=\"sans-serif\" font-size=\"12\" font-style=\"italic\" lengthAdjust=\"spacingAndGlyphs\" textLength=\"77\" x=\"414.5\" y=\"149.6387\">«action def»</text><text fill=\"#000000\" font-family=\"sans-serif\" font-size=\"12\" lengthAdjust=\"spacingAndGlyphs\" textLength=\"37\" x=\"434.5\" y=\"163.6074\">Shoot</text></a><!--MD5=[168fadf3d0c3fd93dd5d6da1b1d7ab76]\n",
       "cluster E7--><a href=\"psysml:704c53cf-e737-43c7-aaa6-afd6aa41e73e\" target=\"_top\" title=\"psysml:704c53cf-e737-43c7-aaa6-afd6aa41e73e\" xlink:actuate=\"onRequest\" xlink:href=\"psysml:704c53cf-e737-43c7-aaa6-afd6aa41e73e\" xlink:show=\"new\" xlink:title=\"psysml:704c53cf-e737-43c7-aaa6-afd6aa41e73e\" xlink:type=\"simple\"><rect fill=\"#FFFFFF\" height=\"370.5\" id=\"E7\" rx=\"10\" ry=\"10\" style=\"stroke: #383838; stroke-width: 1.5;\" width=\"256\" x=\"114\" y=\"49\"/><rect fill=\"#F8F8F8\" height=\"37.9375\" rx=\"10\" ry=\"10\" style=\"stroke: #F8F8F8; stroke-width: 1.5;\" width=\"256\" x=\"114\" y=\"49\"/><rect fill=\"#F8F8F8\" height=\"10\" style=\"stroke: #F8F8F8; stroke-width: 1.5;\" width=\"256\" x=\"114\" y=\"76.9375\"/><rect fill=\"none\" height=\"370.5\" id=\"E7\" rx=\"10\" ry=\"10\" style=\"stroke: #383838; stroke-width: 1.5;\" width=\"256\" x=\"114\" y=\"49\"/><text fill=\"#000000\" font-family=\"sans-serif\" font-size=\"12\" font-style=\"italic\" lengthAdjust=\"spacingAndGlyphs\" textLength=\"53\" x=\"215.5\" y=\"65.1387\">«action»</text><text fill=\"#000000\" font-family=\"sans-serif\" font-size=\"12\" lengthAdjust=\"spacingAndGlyphs\" textLength=\"72\" x=\"206\" y=\"79.1074\">takePicture</text><line style=\"stroke: #383838; stroke-width: 1.0;\" x1=\"114\" x2=\"370\" y1=\"86.9375\" y2=\"86.9375\"/></a><!--MD5=[55dfccfc6c49c2d10cd1bd2211a6c90c]\n",
       "cluster E8--><a href=\"psysml:247459c4-dc1c-41f3-9bbd-2210d0a14144\" target=\"_top\" title=\"psysml:247459c4-dc1c-41f3-9bbd-2210d0a14144\" xlink:actuate=\"onRequest\" xlink:href=\"psysml:247459c4-dc1c-41f3-9bbd-2210d0a14144\" xlink:show=\"new\" xlink:title=\"psysml:247459c4-dc1c-41f3-9bbd-2210d0a14144\" xlink:type=\"simple\"><rect fill=\"#FFFFFF\" height=\"217.5\" id=\"E8\" rx=\"10\" ry=\"10\" style=\"stroke: #383838; stroke-width: 1.5;\" width=\"83\" x=\"257\" y=\"100\"/><rect fill=\"#F8F8F8\" height=\"37.9375\" rx=\"10\" ry=\"10\" style=\"stroke: #F8F8F8; stroke-width: 1.5;\" width=\"83\" x=\"257\" y=\"100\"/><rect fill=\"#F8F8F8\" height=\"10\" style=\"stroke: #F8F8F8; stroke-width: 1.5;\" width=\"83\" x=\"257\" y=\"127.9375\"/><rect fill=\"none\" height=\"217.5\" id=\"E8\" rx=\"10\" ry=\"10\" style=\"stroke: #383838; stroke-width: 1.5;\" width=\"83\" x=\"257\" y=\"100\"/><text fill=\"#000000\" font-family=\"sans-serif\" font-size=\"12\" font-style=\"italic\" lengthAdjust=\"spacingAndGlyphs\" textLength=\"53\" x=\"272\" y=\"116.1387\">«action»</text><text fill=\"#000000\" font-family=\"sans-serif\" font-size=\"12\" lengthAdjust=\"spacingAndGlyphs\" textLength=\"34\" x=\"281.5\" y=\"130.1074\">focus</text><line style=\"stroke: #383838; stroke-width: 1.0;\" x1=\"257\" x2=\"340\" y1=\"137.9375\" y2=\"137.9375\"/></a><!--MD5=[917b9dd0c7eca3ee5f47219d1a84c0ad]\n",
       "cluster E11--><a href=\"psysml:d7e0c4ce-9a2d-4e4d-8f17-58d415aecc73\" target=\"_top\" title=\"psysml:d7e0c4ce-9a2d-4e4d-8f17-58d415aecc73\" xlink:actuate=\"onRequest\" xlink:href=\"psysml:d7e0c4ce-9a2d-4e4d-8f17-58d415aecc73\" xlink:show=\"new\" xlink:title=\"psysml:d7e0c4ce-9a2d-4e4d-8f17-58d415aecc73\" xlink:type=\"simple\"><rect fill=\"#FFFFFF\" height=\"256\" id=\"E11\" rx=\"10\" ry=\"10\" style=\"stroke: #383838; stroke-width: 1.5;\" width=\"74\" x=\"164\" y=\"133.5\"/><rect fill=\"#F8F8F8\" height=\"37.9375\" rx=\"10\" ry=\"10\" style=\"stroke: #F8F8F8; stroke-width: 1.5;\" width=\"74\" x=\"164\" y=\"133.5\"/><rect fill=\"#F8F8F8\" height=\"10\" style=\"stroke: #F8F8F8; stroke-width: 1.5;\" width=\"74\" x=\"164\" y=\"161.4375\"/><rect fill=\"none\" height=\"256\" id=\"E11\" rx=\"10\" ry=\"10\" style=\"stroke: #383838; stroke-width: 1.5;\" width=\"74\" x=\"164\" y=\"133.5\"/><text fill=\"#000000\" font-family=\"sans-serif\" font-size=\"12\" font-style=\"italic\" lengthAdjust=\"spacingAndGlyphs\" textLength=\"53\" x=\"174.5\" y=\"149.6387\">«action»</text><text fill=\"#000000\" font-family=\"sans-serif\" font-size=\"12\" lengthAdjust=\"spacingAndGlyphs\" textLength=\"36\" x=\"183\" y=\"163.6074\">shoot</text><line style=\"stroke: #383838; stroke-width: 1.0;\" x1=\"164\" x2=\"238\" y1=\"171.4375\" y2=\"171.4375\"/></a><!--MD5=[b4997ac47864f28c2f74865a473b2911]\n",
       "class E2--><a href=\"psysml:9a8bab7b-7078-4a6b-add3-8a1328b0c2d6\" target=\"_top\" title=\"psysml:9a8bab7b-7078-4a6b-add3-8a1328b0c2d6\" xlink:actuate=\"onRequest\" xlink:href=\"psysml:9a8bab7b-7078-4a6b-add3-8a1328b0c2d6\" xlink:show=\"new\" xlink:title=\"psysml:9a8bab7b-7078-4a6b-add3-8a1328b0c2d6\" xlink:type=\"simple\"><rect fill=\"#FFFFFF\" height=\"45.9375\" id=\"E2\" style=\"stroke: #383838; stroke-width: 1.5;\" width=\"66\" x=\"32\" y=\"110.5\"/><text fill=\"#000000\" font-family=\"sans-serif\" font-size=\"12\" font-style=\"italic\" lengthAdjust=\"spacingAndGlyphs\" textLength=\"64\" x=\"33\" y=\"126.6387\">«part def»</text><text fill=\"#000000\" font-family=\"sans-serif\" font-size=\"12\" lengthAdjust=\"spacingAndGlyphs\" textLength=\"58\" x=\"36\" y=\"140.6074\">Exposure</text><line style=\"stroke: #383838; stroke-width: 1.5;\" x1=\"33\" x2=\"97\" y1=\"148.4375\" y2=\"148.4375\"/></a><text fill=\"#000000\" font-family=\"sans-serif\" font-size=\"14\" lengthAdjust=\"spacingAndGlyphs\" textLength=\"23\" x=\"583.5\" y=\"336.4951\">xrsl</text><rect fill=\"#383838\" height=\"12\" style=\"stroke: #F8F8F8; stroke-width: 1.5;\" width=\"12\" x=\"589\" y=\"311.5\"/><text fill=\"#000000\" font-family=\"sans-serif\" font-size=\"14\" lengthAdjust=\"spacingAndGlyphs\" textLength=\"19\" x=\"443.5\" y=\"112.1982\">xsf</text><rect fill=\"#383838\" height=\"12\" style=\"stroke: #F8F8F8; stroke-width: 1.5;\" width=\"12\" x=\"447\" y=\"127.5\"/><text fill=\"#000000\" font-family=\"sans-serif\" font-size=\"14\" lengthAdjust=\"spacingAndGlyphs\" textLength=\"48\" x=\"251\" y=\"336.4951\">$result</text><rect fill=\"#383838\" height=\"12\" style=\"stroke: #F8F8F8; stroke-width: 1.5;\" width=\"12\" x=\"269\" y=\"311.5\"/><text fill=\"#000000\" font-family=\"sans-serif\" font-size=\"14\" lengthAdjust=\"spacingAndGlyphs\" textLength=\"23\" x=\"310.5\" y=\"336.4951\">xrsl</text><rect fill=\"#383838\" height=\"12\" style=\"stroke: #F8F8F8; stroke-width: 1.5;\" width=\"12\" x=\"316\" y=\"311.5\"/><text fill=\"#000000\" font-family=\"sans-serif\" font-size=\"14\" lengthAdjust=\"spacingAndGlyphs\" textLength=\"48\" x=\"158\" y=\"408.4951\">$result</text><rect fill=\"#383838\" height=\"12\" style=\"stroke: #F8F8F8; stroke-width: 1.5;\" width=\"12\" x=\"176\" y=\"383.5\"/><text fill=\"#000000\" font-family=\"sans-serif\" font-size=\"14\" lengthAdjust=\"spacingAndGlyphs\" textLength=\"19\" x=\"174.5\" y=\"112.1982\">xsf</text><rect fill=\"#383838\" height=\"12\" style=\"stroke: #F8F8F8; stroke-width: 1.5;\" width=\"12\" x=\"178\" y=\"127.5\"/><!--MD5=[48285b493940ef37ae81ff7a3461f8b5]\n",
       "@startuml\r\n",
       "top to bottom direction\r\n",
       "skinparam monochrome true\r\n",
       "skinparam classbackgroundcolor white\r\n",
       "skinparam shadowing false\r\n",
       "skinparam wrapWidth 300\r\n",
       "hide circle\r\n",
       "\r\n",
       "package \"PictureTaking\" as E1  [[psysml:14e6fe4c-a4d9-4c34-a316-9cbabb101fb1 ]]  {\r\n",
       "comp def \"Exposure\" as E2  <<(T,blue)part def>> [[psysml:9a8bab7b-7078-4a6b-add3-8a1328b0c2d6 ]] {\r\n",
       "}\r\n",
       "rec def \"Focus\" as E3  <<(T,blue)action def>> [[psysml:44676d48-2ba6-47f9-b761-758fcbe31dbd ]] {\r\n",
       "portout \"xrsl\" as E4  [[psysml:7285223f-23e3-4ded-a1a3-c8dbe746ff9d ]] \r\n",
       "}\r\n",
       "\r\n",
       "rec def \"Shoot\" as E5  <<(T,blue)action def>> [[psysml:d9adf687-8d42-42d3-b1b5-8b6413ee0fad ]] {\r\n",
       "portin \"xsf\" as E6  [[psysml:3f6601e8-74ad-4acc-b654-2e93fe2ad4c3 ]] \r\n",
       "}\r\n",
       "\r\n",
       "rec usage \"takePicture\" as E7  <<(T,blue)action>> [[psysml:704c53cf-e737-43c7-aaa6-afd6aa41e73e ]] {\r\n",
       "rec usage \"focus\" as E8  <<(T,blue)action>> [[psysml:247459c4-dc1c-41f3-9bbd-2210d0a14144 ]] {\r\n",
       "portout \"$result\" as E9  [[psysml:d24c4944-7685-4e9e-b1e9-aa0857e67b68 ]] \r\n",
       "portout \"xrsl\" as E10  [[psysml:a9b63f0e-a7c1-4470-82ae-da9c74073d16 ]] \r\n",
       "}\r\n",
       "\r\n",
       "rec usage \"shoot\" as E11  <<(T,blue)action>> [[psysml:d7e0c4ce-9a2d-4e4d-8f17-58d415aecc73 ]] {\r\n",
       "portout \"$result\" as E12  [[psysml:edaf4370-9fef-4792-934f-b7a89f5913cc ]] \r\n",
       "portin \"xsf\" as E13  [[psysml:1ee0e316-c080-4a1b-aa8d-122e3ae24dab ]] \r\n",
       "}\r\n",
       "\r\n",
       "}\r\n",
       "\r\n",
       "}\r\n",
       "@enduml\r\n",
       "\n",
       "PlantUML version 1.2020.13(Sat Jun 13 12:26:38 UTC 2020)\n",
       "(EPL source distribution)\n",
       "Java Runtime: OpenJDK Runtime Environment\n",
       "JVM: OpenJDK 64-Bit Server VM\n",
       "Default Encoding: UTF-8\n",
       "Language: en\n",
       "Country: null\n",
       "--></g></svg>"
      ]
     },
     "execution_count": 44,
     "metadata": {},
     "output_type": "execute_result"
    }
   ],
   "source": [
    "%viz --style=\"TB\" --view=\"Default\" \"PictureTaking\""
   ]
  },
  {
   "cell_type": "code",
   "execution_count": 45,
   "id": "6435f760",
   "metadata": {
    "execution": {
     "iopub.execute_input": "2021-04-20T07:32:04.668415Z",
     "iopub.status.busy": "2021-04-20T07:32:04.667877Z",
     "iopub.status.idle": "2021-04-20T07:32:04.702553Z",
     "shell.execute_reply": "2021-04-20T07:32:04.701212Z"
    }
   },
   "outputs": [
    {
     "data": {
      "image/svg+xml": [
       "<?xml version=\"1.0\" encoding=\"UTF-8\" standalone=\"no\"?><svg xmlns=\"http://www.w3.org/2000/svg\" xmlns:xlink=\"http://www.w3.org/1999/xlink\" contentScriptType=\"application/ecmascript\" contentStyleType=\"text/css\" height=\"452px\" preserveAspectRatio=\"none\" style=\"width:278px;height:452px;\" version=\"1.1\" viewBox=\"0 0 278 452\" width=\"278px\" zoomAndPan=\"magnify\"><defs/><g><!--MD5=[fbc87193dbaf4d95561dea2c320d4a47]\n",
       "cluster E1--><a href=\"psysml:14e6fe4c-a4d9-4c34-a316-9cbabb101fb1\" target=\"_top\" title=\"psysml:14e6fe4c-a4d9-4c34-a316-9cbabb101fb1\" xlink:actuate=\"onRequest\" xlink:href=\"psysml:14e6fe4c-a4d9-4c34-a316-9cbabb101fb1\" xlink:show=\"new\" xlink:title=\"psysml:14e6fe4c-a4d9-4c34-a316-9cbabb101fb1\" xlink:type=\"simple\"><polygon fill=\"#FFFFFF\" points=\"16,6,130,6,137,28.2969,256,28.2969,256,440,16,440,16,6\" style=\"stroke: #000000; stroke-width: 1.5;\"/><line style=\"stroke: #000000; stroke-width: 1.5;\" x1=\"16\" x2=\"137\" y1=\"28.2969\" y2=\"28.2969\"/><text fill=\"#000000\" font-family=\"sans-serif\" font-size=\"14\" font-weight=\"bold\" lengthAdjust=\"spacingAndGlyphs\" textLength=\"108\" x=\"20\" y=\"20.9951\">PictureTaking</text></a><!--MD5=[b4997ac47864f28c2f74865a473b2911]\n",
       "class E2--><a href=\"psysml:9a8bab7b-7078-4a6b-add3-8a1328b0c2d6\" target=\"_top\" title=\"psysml:9a8bab7b-7078-4a6b-add3-8a1328b0c2d6\" xlink:actuate=\"onRequest\" xlink:href=\"psysml:9a8bab7b-7078-4a6b-add3-8a1328b0c2d6\" xlink:show=\"new\" xlink:title=\"psysml:9a8bab7b-7078-4a6b-add3-8a1328b0c2d6\" xlink:type=\"simple\"><rect fill=\"#FFFFFF\" height=\"45.9375\" id=\"E2\" style=\"stroke: #383838; stroke-width: 1.5;\" width=\"66\" x=\"103\" y=\"378\"/><text fill=\"#000000\" font-family=\"sans-serif\" font-size=\"12\" font-style=\"italic\" lengthAdjust=\"spacingAndGlyphs\" textLength=\"64\" x=\"104\" y=\"394.1387\">«part def»</text><text fill=\"#000000\" font-family=\"sans-serif\" font-size=\"12\" lengthAdjust=\"spacingAndGlyphs\" textLength=\"58\" x=\"107\" y=\"408.1074\">Exposure</text><line style=\"stroke: #383838; stroke-width: 1.5;\" x1=\"104\" x2=\"168\" y1=\"415.9375\" y2=\"415.9375\"/></a><!--MD5=[09b614a08d8cba4a07c9adeb5e0fee81]\n",
       "class E3--><a href=\"psysml:44676d48-2ba6-47f9-b761-758fcbe31dbd\" target=\"_top\" title=\"psysml:44676d48-2ba6-47f9-b761-758fcbe31dbd\" xlink:actuate=\"onRequest\" xlink:href=\"psysml:44676d48-2ba6-47f9-b761-758fcbe31dbd\" xlink:show=\"new\" xlink:title=\"psysml:44676d48-2ba6-47f9-b761-758fcbe31dbd\" xlink:type=\"simple\"><rect fill=\"#FFFFFF\" height=\"45.9375\" id=\"E3\" style=\"stroke: #383838; stroke-width: 1.5;\" width=\"79\" x=\"38.5\" y=\"255\"/><text fill=\"#000000\" font-family=\"sans-serif\" font-size=\"12\" font-style=\"italic\" lengthAdjust=\"spacingAndGlyphs\" textLength=\"77\" x=\"39.5\" y=\"271.1387\">«action def»</text><text fill=\"#000000\" font-family=\"sans-serif\" font-size=\"12\" lengthAdjust=\"spacingAndGlyphs\" textLength=\"37\" x=\"59.5\" y=\"285.1074\">Focus</text><line style=\"stroke: #383838; stroke-width: 1.5;\" x1=\"39.5\" x2=\"116.5\" y1=\"292.9375\" y2=\"292.9375\"/></a><!--MD5=[ebbe1d658d1005bcc118a6aa81145e00]\n",
       "class E4--><a href=\"psysml:d9adf687-8d42-42d3-b1b5-8b6413ee0fad\" target=\"_top\" title=\"psysml:d9adf687-8d42-42d3-b1b5-8b6413ee0fad\" xlink:actuate=\"onRequest\" xlink:href=\"psysml:d9adf687-8d42-42d3-b1b5-8b6413ee0fad\" xlink:show=\"new\" xlink:title=\"psysml:d9adf687-8d42-42d3-b1b5-8b6413ee0fad\" xlink:type=\"simple\"><rect fill=\"#FFFFFF\" height=\"45.9375\" id=\"E4\" style=\"stroke: #383838; stroke-width: 1.5;\" width=\"79\" x=\"154.5\" y=\"255\"/><text fill=\"#000000\" font-family=\"sans-serif\" font-size=\"12\" font-style=\"italic\" lengthAdjust=\"spacingAndGlyphs\" textLength=\"77\" x=\"155.5\" y=\"271.1387\">«action def»</text><text fill=\"#000000\" font-family=\"sans-serif\" font-size=\"12\" lengthAdjust=\"spacingAndGlyphs\" textLength=\"37\" x=\"175.5\" y=\"285.1074\">Shoot</text><line style=\"stroke: #383838; stroke-width: 1.5;\" x1=\"155.5\" x2=\"232.5\" y1=\"292.9375\" y2=\"292.9375\"/></a><!--MD5=[270fce915f116d4de14055a7c1d9a0f3]\n",
       "class E5--><a href=\"psysml:704c53cf-e737-43c7-aaa6-afd6aa41e73e\" target=\"_top\" title=\"psysml:704c53cf-e737-43c7-aaa6-afd6aa41e73e\" xlink:actuate=\"onRequest\" xlink:href=\"psysml:704c53cf-e737-43c7-aaa6-afd6aa41e73e\" xlink:show=\"new\" xlink:title=\"psysml:704c53cf-e737-43c7-aaa6-afd6aa41e73e\" xlink:type=\"simple\"><rect fill=\"#FFFFFF\" height=\"45.9375\" id=\"E5\" rx=\"10\" ry=\"10\" style=\"stroke: #383838; stroke-width: 1.5;\" width=\"78\" x=\"96\" y=\"41\"/><text fill=\"#000000\" font-family=\"sans-serif\" font-size=\"12\" font-style=\"italic\" lengthAdjust=\"spacingAndGlyphs\" textLength=\"53\" x=\"108.5\" y=\"57.1387\">«action»</text><text fill=\"#000000\" font-family=\"sans-serif\" font-size=\"12\" lengthAdjust=\"spacingAndGlyphs\" textLength=\"72\" x=\"99\" y=\"71.1074\">takePicture</text><line style=\"stroke: #383838; stroke-width: 1.5;\" x1=\"97\" x2=\"173\" y1=\"78.9375\" y2=\"78.9375\"/></a><!--MD5=[60a26617385b1d2d0262a64233df1f8d]\n",
       "class E6--><a href=\"psysml:247459c4-dc1c-41f3-9bbd-2210d0a14144\" target=\"_top\" title=\"psysml:247459c4-dc1c-41f3-9bbd-2210d0a14144\" xlink:actuate=\"onRequest\" xlink:href=\"psysml:247459c4-dc1c-41f3-9bbd-2210d0a14144\" xlink:show=\"new\" xlink:title=\"psysml:247459c4-dc1c-41f3-9bbd-2210d0a14144\" xlink:type=\"simple\"><rect fill=\"#FFFFFF\" height=\"45.9375\" id=\"E6\" rx=\"10\" ry=\"10\" style=\"stroke: #383838; stroke-width: 1.5;\" width=\"85\" x=\"32.5\" y=\"148\"/><text fill=\"#000000\" font-family=\"sans-serif\" font-size=\"12\" font-style=\"italic\" lengthAdjust=\"spacingAndGlyphs\" textLength=\"53\" x=\"48.5\" y=\"164.1387\">«action»</text><text fill=\"#000000\" font-family=\"sans-serif\" font-size=\"12\" lengthAdjust=\"spacingAndGlyphs\" textLength=\"79\" x=\"35.5\" y=\"178.1074\">focus: Focus</text><line style=\"stroke: #383838; stroke-width: 1.5;\" x1=\"33.5\" x2=\"116.5\" y1=\"185.9375\" y2=\"185.9375\"/></a><!--MD5=[2156ba9850f5573cc1fc38a6a4b2f02b]\n",
       "class E7--><a href=\"psysml:d7e0c4ce-9a2d-4e4d-8f17-58d415aecc73\" target=\"_top\" title=\"psysml:d7e0c4ce-9a2d-4e4d-8f17-58d415aecc73\" xlink:actuate=\"onRequest\" xlink:href=\"psysml:d7e0c4ce-9a2d-4e4d-8f17-58d415aecc73\" xlink:show=\"new\" xlink:title=\"psysml:d7e0c4ce-9a2d-4e4d-8f17-58d415aecc73\" xlink:type=\"simple\"><rect fill=\"#FFFFFF\" height=\"45.9375\" id=\"E7\" rx=\"10\" ry=\"10\" style=\"stroke: #383838; stroke-width: 1.5;\" width=\"87\" x=\"152.5\" y=\"148\"/><text fill=\"#000000\" font-family=\"sans-serif\" font-size=\"12\" font-style=\"italic\" lengthAdjust=\"spacingAndGlyphs\" textLength=\"53\" x=\"169.5\" y=\"164.1387\">«action»</text><text fill=\"#000000\" font-family=\"sans-serif\" font-size=\"12\" lengthAdjust=\"spacingAndGlyphs\" textLength=\"81\" x=\"155.5\" y=\"178.1074\">shoot: Shoot</text><line style=\"stroke: #383838; stroke-width: 1.5;\" x1=\"153.5\" x2=\"238.5\" y1=\"185.9375\" y2=\"185.9375\"/></a><!--MD5=[b900ca4392aad7a68aec1e9245e10ab9]\n",
       "reverse link E3 to E2--><a href=\"psysml:7285223f-23e3-4ded-a1a3-c8dbe746ff9d\" target=\"_top\" title=\"psysml:7285223f-23e3-4ded-a1a3-c8dbe746ff9d\" xlink:actuate=\"onRequest\" xlink:href=\"psysml:7285223f-23e3-4ded-a1a3-c8dbe746ff9d\" xlink:show=\"new\" xlink:title=\"psysml:7285223f-23e3-4ded-a1a3-c8dbe746ff9d\" xlink:type=\"simple\"><path d=\"M94.32,313.04 C104.29,333.84 116.74,359.82 125.43,377.95 \" fill=\"none\" id=\"E3&lt;-E2\" style=\"stroke: #383838; stroke-width: 1.0;\"/><polygon fill=\"#FFFFFF\" points=\"88.64,301.19,87.6227,308.329,93.8212,312.0138,94.8385,304.8748,88.64,301.19\" style=\"stroke: #383838; stroke-width: 1.0;\"/><text fill=\"#000000\" font-family=\"sans-serif\" font-size=\"13\" lengthAdjust=\"spacingAndGlyphs\" textLength=\"22\" x=\"111\" y=\"344.0669\">xrsl</text></a><!--MD5=[ddeed8deb2209213b62e6cfabaa108b2]\n",
       "reverse link E4 to E2--><a href=\"psysml:3f6601e8-74ad-4acc-b654-2e93fe2ad4c3\" target=\"_top\" title=\"psysml:3f6601e8-74ad-4acc-b654-2e93fe2ad4c3\" xlink:actuate=\"onRequest\" xlink:href=\"psysml:3f6601e8-74ad-4acc-b654-2e93fe2ad4c3\" xlink:show=\"new\" xlink:title=\"psysml:3f6601e8-74ad-4acc-b654-2e93fe2ad4c3\" xlink:type=\"simple\"><path d=\"M177.68,313.04 C167.71,333.84 155.26,359.82 146.57,377.95 \" fill=\"none\" id=\"E4&lt;-E2\" style=\"stroke: #383838; stroke-width: 1.0;\"/><polygon fill=\"#FFFFFF\" points=\"183.36,301.19,177.1615,304.8748,178.1788,312.0138,184.3773,308.329,183.36,301.19\" style=\"stroke: #383838; stroke-width: 1.0;\"/><text fill=\"#000000\" font-family=\"sans-serif\" font-size=\"13\" lengthAdjust=\"spacingAndGlyphs\" textLength=\"18\" x=\"169\" y=\"344.0669\">xsf</text></a><!--MD5=[85d356282659285ab4b2cfe2f634dd2b]\n",
       "reverse link E5 to E6--><a href=\"psysml:b27ee466-0f4c-4005-a5ef-b2dd2df76771\" target=\"_top\" title=\"psysml:b27ee466-0f4c-4005-a5ef-b2dd2df76771\" xlink:actuate=\"onRequest\" xlink:href=\"psysml:b27ee466-0f4c-4005-a5ef-b2dd2df76771\" xlink:show=\"new\" xlink:title=\"psysml:b27ee466-0f4c-4005-a5ef-b2dd2df76771\" xlink:type=\"simple\"><path d=\"M115.79,98.62 C106.62,114.66 95.91,133.4 87.77,147.66 \" fill=\"none\" id=\"E5&lt;-E6\" style=\"stroke: #383838; stroke-width: 1.0;\"/><polygon fill=\"#383838\" points=\"122.42,87.01,115.9684,90.2314,116.4607,97.4257,122.9122,94.2043,122.42,87.01\" style=\"stroke: #383838; stroke-width: 1.0;\"/><text fill=\"#000000\" font-family=\"sans-serif\" font-size=\"13\" lengthAdjust=\"spacingAndGlyphs\" textLength=\"8\" x=\"82.0173\" y=\"136.8492\">1</text></a><!--MD5=[a717450b82c80b9240a525fa862496af]\n",
       "link E6 to E3--><a href=\"psysml:5a2a5603-bc94-4298-a763-49fe520ca5bc\" target=\"_top\" title=\"psysml:5a2a5603-bc94-4298-a763-49fe520ca5bc\" xlink:actuate=\"onRequest\" xlink:href=\"psysml:5a2a5603-bc94-4298-a763-49fe520ca5bc\" xlink:show=\"new\" xlink:title=\"psysml:5a2a5603-bc94-4298-a763-49fe520ca5bc\" xlink:type=\"simple\"><path d=\"M75.63,194.01 C75.96,205.69 76.38,220.46 76.78,234.28 \" fill=\"none\" id=\"E6-&gt;E3\" style=\"stroke: #383838; stroke-width: 1.0;\"/><polygon fill=\"#FFFFFF\" points=\"77.36,254.66,69.8202,235.8677,83.8145,235.4678,77.36,254.66\" style=\"stroke: #383838; stroke-width: 1.0;\"/><ellipse cx=\"71.6566\" cy=\"230.1129\" fill=\"#383838\" rx=\"2\" ry=\"2\" style=\"stroke: #383838; stroke-width: 1.0;\"/><ellipse cx=\"81.6525\" cy=\"229.8273\" fill=\"#383838\" rx=\"2\" ry=\"2\" style=\"stroke: #383838; stroke-width: 1.0;\"/></a><!--MD5=[452b418e7f8a40397a49b8c0a78acc5b]\n",
       "reverse link E5 to E7--><a href=\"psysml:aaa4df86-e408-4ec8-a2fe-61e5d0511306\" target=\"_top\" title=\"psysml:aaa4df86-e408-4ec8-a2fe-61e5d0511306\" xlink:actuate=\"onRequest\" xlink:href=\"psysml:aaa4df86-e408-4ec8-a2fe-61e5d0511306\" xlink:show=\"new\" xlink:title=\"psysml:aaa4df86-e408-4ec8-a2fe-61e5d0511306\" xlink:type=\"simple\"><path d=\"M154.53,98.62 C163.85,114.66 174.74,133.4 183.02,147.66 \" fill=\"none\" id=\"E5&lt;-E7\" style=\"stroke: #383838; stroke-width: 1.0;\"/><polygon fill=\"#383838\" points=\"147.79,87.01,147.3439,94.2073,153.8159,97.3873,154.2621,90.19,147.79,87.01\" style=\"stroke: #383838; stroke-width: 1.0;\"/><text fill=\"#000000\" font-family=\"sans-serif\" font-size=\"13\" lengthAdjust=\"spacingAndGlyphs\" textLength=\"8\" x=\"170.6689\" y=\"136.8492\">1</text></a><!--MD5=[6bdd27f9905911a7e892a3dc65cf6b7c]\n",
       "link E7 to E4--><a href=\"psysml:f48d95ee-d7b3-4518-8228-9030b5bbf5ab\" target=\"_top\" title=\"psysml:f48d95ee-d7b3-4518-8228-9030b5bbf5ab\" xlink:actuate=\"onRequest\" xlink:href=\"psysml:f48d95ee-d7b3-4518-8228-9030b5bbf5ab\" xlink:show=\"new\" xlink:title=\"psysml:f48d95ee-d7b3-4518-8228-9030b5bbf5ab\" xlink:type=\"simple\"><path d=\"M195.58,194.01 C195.36,205.69 195.08,220.46 194.81,234.28 \" fill=\"none\" id=\"E7-&gt;E4\" style=\"stroke: #383838; stroke-width: 1.0;\"/><polygon fill=\"#FFFFFF\" points=\"194.43,254.66,187.784,235.5333,201.7816,235.7933,194.43,254.66\" style=\"stroke: #383838; stroke-width: 1.0;\"/><ellipse cx=\"189.8895\" cy=\"229.8714\" fill=\"#383838\" rx=\"2\" ry=\"2\" style=\"stroke: #383838; stroke-width: 1.0;\"/><ellipse cx=\"199.8878\" cy=\"230.0571\" fill=\"#383838\" rx=\"2\" ry=\"2\" style=\"stroke: #383838; stroke-width: 1.0;\"/></a><!--MD5=[518dde362aa4a9645396b073363769cd]\n",
       "@startuml\r\n",
       "top to bottom direction\r\n",
       "skinparam monochrome true\r\n",
       "skinparam classbackgroundcolor white\r\n",
       "skinparam shadowing false\r\n",
       "skinparam wrapWidth 300\r\n",
       "hide circle\r\n",
       "\r\n",
       "package \"PictureTaking\" as E1  [[psysml:14e6fe4c-a4d9-4c34-a316-9cbabb101fb1 ]]  {\r\n",
       "comp def \"Exposure\" as E2  <<(T,blue)part def>> [[psysml:9a8bab7b-7078-4a6b-add3-8a1328b0c2d6 ]] {\r\n",
       "}\r\n",
       "comp def \"Focus\" as E3  <<(T,blue)action def>> [[psysml:44676d48-2ba6-47f9-b761-758fcbe31dbd ]] {\r\n",
       "}\r\n",
       "comp def \"Shoot\" as E4  <<(T,blue)action def>> [[psysml:d9adf687-8d42-42d3-b1b5-8b6413ee0fad ]] {\r\n",
       "}\r\n",
       "comp usage \"takePicture\" as E5  <<(T,blue)action>> [[psysml:704c53cf-e737-43c7-aaa6-afd6aa41e73e ]] {\r\n",
       "}\r\n",
       "comp usage \"focus: Focus\" as E6  <<(T,blue)action>> [[psysml:247459c4-dc1c-41f3-9bbd-2210d0a14144 ]] {\r\n",
       "}\r\n",
       "comp usage \"shoot: Shoot\" as E7  <<(T,blue)action>> [[psysml:d7e0c4ce-9a2d-4e4d-8f17-58d415aecc73 ]] {\r\n",
       "}\r\n",
       "E3 o- - E2 [[psysml:7285223f-23e3-4ded-a1a3-c8dbe746ff9d ]] : xrsl\r\n",
       "E4 o- - E2 [[psysml:3f6601e8-74ad-4acc-b654-2e93fe2ad4c3 ]] : xsf\r\n",
       "E5 *- - \"1\"E6 [[psysml:b27ee466-0f4c-4005-a5ef-b2dd2df76771 ]] \r\n",
       "E6 - -:|> E3 [[psysml:5a2a5603-bc94-4298-a763-49fe520ca5bc ]] \r\n",
       "E5 *- - \"1\"E7 [[psysml:aaa4df86-e408-4ec8-a2fe-61e5d0511306 ]] \r\n",
       "E7 - -:|> E4 [[psysml:f48d95ee-d7b3-4518-8228-9030b5bbf5ab ]] \r\n",
       "}\r\n",
       "@enduml\r\n",
       "\n",
       "PlantUML version 1.2020.13(Sat Jun 13 12:26:38 UTC 2020)\n",
       "(EPL source distribution)\n",
       "Java Runtime: OpenJDK Runtime Environment\n",
       "JVM: OpenJDK 64-Bit Server VM\n",
       "Default Encoding: UTF-8\n",
       "Language: en\n",
       "Country: null\n",
       "--></g></svg>"
      ]
     },
     "execution_count": 45,
     "metadata": {},
     "output_type": "execute_result"
    }
   ],
   "source": [
    "%viz --style=\"TB\" --view=\"Tree\" \"PictureTaking\""
   ]
  },
  {
   "cell_type": "code",
   "execution_count": 46,
   "id": "959be18a",
   "metadata": {
    "execution": {
     "iopub.execute_input": "2021-04-20T07:32:04.753502Z",
     "iopub.status.busy": "2021-04-20T07:32:04.752779Z",
     "iopub.status.idle": "2021-04-20T07:32:04.758778Z",
     "shell.execute_reply": "2021-04-20T07:32:04.758289Z"
    }
   },
   "outputs": [
    {
     "data": {
      "image/svg+xml": [
       "<?xml version=\"1.0\" encoding=\"UTF-8\" standalone=\"no\"?><svg xmlns=\"http://www.w3.org/2000/svg\" xmlns:xlink=\"http://www.w3.org/1999/xlink\" contentScriptType=\"application/ecmascript\" contentStyleType=\"text/css\" height=\"12px\" preserveAspectRatio=\"none\" style=\"width:12px;height:12px;\" version=\"1.1\" viewBox=\"0 0 12 12\" width=\"12px\" zoomAndPan=\"magnify\"><defs/><g><!--MD5=[f4ee21bc66e489b5061b7c3e9601fdef]\n",
       "@startuml\r\n",
       "top to bottom direction\r\n",
       "skinparam monochrome true\r\n",
       "skinparam classbackgroundcolor white\r\n",
       "skinparam shadowing false\r\n",
       "skinparam wrapWidth 300\r\n",
       "hide circle\r\n",
       "\r\n",
       "@enduml\r\n",
       "\n",
       "PlantUML version 1.2020.13(Sat Jun 13 12:26:38 UTC 2020)\n",
       "(EPL source distribution)\n",
       "Java Runtime: OpenJDK Runtime Environment\n",
       "JVM: OpenJDK 64-Bit Server VM\n",
       "Default Encoding: UTF-8\n",
       "Language: en\n",
       "Country: null\n",
       "--></g></svg>"
      ]
     },
     "execution_count": 46,
     "metadata": {},
     "output_type": "execute_result"
    }
   ],
   "source": [
    "%viz --style=\"TB\" --view=\"State\" \"PictureTaking\""
   ]
  },
  {
   "cell_type": "code",
   "execution_count": 47,
   "id": "f50c1a27",
   "metadata": {
    "execution": {
     "iopub.execute_input": "2021-04-20T07:32:04.809774Z",
     "iopub.status.busy": "2021-04-20T07:32:04.808852Z",
     "iopub.status.idle": "2021-04-20T07:32:04.848730Z",
     "shell.execute_reply": "2021-04-20T07:32:04.847417Z"
    }
   },
   "outputs": [
    {
     "data": {
      "image/svg+xml": [
       "<?xml version=\"1.0\" encoding=\"UTF-8\" standalone=\"no\"?><svg xmlns=\"http://www.w3.org/2000/svg\" xmlns:xlink=\"http://www.w3.org/1999/xlink\" contentScriptType=\"application/ecmascript\" contentStyleType=\"text/css\" height=\"330px\" preserveAspectRatio=\"none\" style=\"width:706px;height:330px;\" version=\"1.1\" viewBox=\"0 0 706 330\" width=\"706px\" zoomAndPan=\"magnify\"><defs/><g><!--MD5=[fbc87193dbaf4d95561dea2c320d4a47]\n",
       "cluster E1--><a href=\"psysml:14e6fe4c-a4d9-4c34-a316-9cbabb101fb1\" target=\"_top\" title=\"psysml:14e6fe4c-a4d9-4c34-a316-9cbabb101fb1\" xlink:actuate=\"onRequest\" xlink:href=\"psysml:14e6fe4c-a4d9-4c34-a316-9cbabb101fb1\" xlink:show=\"new\" xlink:title=\"psysml:14e6fe4c-a4d9-4c34-a316-9cbabb101fb1\" xlink:type=\"simple\"><polygon fill=\"#FFFFFF\" points=\"16,6,130,6,137,28.2969,684,28.2969,684,318,16,318,16,6\" style=\"stroke: #000000; stroke-width: 1.5;\"/><line style=\"stroke: #000000; stroke-width: 1.5;\" x1=\"16\" x2=\"137\" y1=\"28.2969\" y2=\"28.2969\"/><text fill=\"#000000\" font-family=\"sans-serif\" font-size=\"14\" font-weight=\"bold\" lengthAdjust=\"spacingAndGlyphs\" textLength=\"108\" x=\"20\" y=\"20.9951\">PictureTaking</text></a><!--MD5=[d5e69f78d87373223dbae638b30a9c99]\n",
       "cluster E3--><a href=\"psysml:44676d48-2ba6-47f9-b761-758fcbe31dbd\" target=\"_top\" title=\"psysml:44676d48-2ba6-47f9-b761-758fcbe31dbd\" xlink:actuate=\"onRequest\" xlink:href=\"psysml:44676d48-2ba6-47f9-b761-758fcbe31dbd\" xlink:show=\"new\" xlink:title=\"psysml:44676d48-2ba6-47f9-b761-758fcbe31dbd\" xlink:type=\"simple\"><rect fill=\"#FFFFFF\" height=\"136\" id=\"E3\" style=\"stroke: #383838; stroke-width: 1.5;\" width=\"134\" x=\"534\" y=\"100\"/><rect fill=\"#F8F8F8\" height=\"37.9375\" style=\"stroke: #383838; stroke-width: 1.5;\" width=\"134\" x=\"534\" y=\"100\"/><text fill=\"#000000\" font-family=\"sans-serif\" font-size=\"12\" font-style=\"italic\" lengthAdjust=\"spacingAndGlyphs\" textLength=\"77\" x=\"562.5\" y=\"116.1387\">«action def»</text><text fill=\"#000000\" font-family=\"sans-serif\" font-size=\"12\" lengthAdjust=\"spacingAndGlyphs\" textLength=\"37\" x=\"582.5\" y=\"130.1074\">Focus</text></a><!--MD5=[de5ec2e2e8f62f467e546659f5068c88]\n",
       "cluster E5--><a href=\"psysml:d9adf687-8d42-42d3-b1b5-8b6413ee0fad\" target=\"_top\" title=\"psysml:d9adf687-8d42-42d3-b1b5-8b6413ee0fad\" xlink:actuate=\"onRequest\" xlink:href=\"psysml:d9adf687-8d42-42d3-b1b5-8b6413ee0fad\" xlink:show=\"new\" xlink:title=\"psysml:d9adf687-8d42-42d3-b1b5-8b6413ee0fad\" xlink:type=\"simple\"><rect fill=\"#FFFFFF\" height=\"88.5\" id=\"E5\" style=\"stroke: #383838; stroke-width: 1.5;\" width=\"134\" x=\"392\" y=\"133.5\"/><rect fill=\"#F8F8F8\" height=\"37.9375\" style=\"stroke: #383838; stroke-width: 1.5;\" width=\"134\" x=\"392\" y=\"133.5\"/><text fill=\"#000000\" font-family=\"sans-serif\" font-size=\"12\" font-style=\"italic\" lengthAdjust=\"spacingAndGlyphs\" textLength=\"77\" x=\"420.5\" y=\"149.6387\">«action def»</text><text fill=\"#000000\" font-family=\"sans-serif\" font-size=\"12\" lengthAdjust=\"spacingAndGlyphs\" textLength=\"37\" x=\"440.5\" y=\"163.6074\">Shoot</text></a><!--MD5=[168fadf3d0c3fd93dd5d6da1b1d7ab76]\n",
       "cluster E7--><a href=\"psysml:704c53cf-e737-43c7-aaa6-afd6aa41e73e\" target=\"_top\" title=\"psysml:704c53cf-e737-43c7-aaa6-afd6aa41e73e\" xlink:actuate=\"onRequest\" xlink:href=\"psysml:704c53cf-e737-43c7-aaa6-afd6aa41e73e\" xlink:show=\"new\" xlink:title=\"psysml:704c53cf-e737-43c7-aaa6-afd6aa41e73e\" xlink:type=\"simple\"><rect fill=\"#FFFFFF\" height=\"245\" id=\"E7\" rx=\"10\" ry=\"10\" style=\"stroke: #383838; stroke-width: 1.5;\" width=\"256\" x=\"120\" y=\"49\"/><rect fill=\"#F8F8F8\" height=\"37.9375\" rx=\"10\" ry=\"10\" style=\"stroke: #F8F8F8; stroke-width: 1.5;\" width=\"256\" x=\"120\" y=\"49\"/><rect fill=\"#F8F8F8\" height=\"10\" style=\"stroke: #F8F8F8; stroke-width: 1.5;\" width=\"256\" x=\"120\" y=\"76.9375\"/><rect fill=\"none\" height=\"245\" id=\"E7\" rx=\"10\" ry=\"10\" style=\"stroke: #383838; stroke-width: 1.5;\" width=\"256\" x=\"120\" y=\"49\"/><text fill=\"#000000\" font-family=\"sans-serif\" font-size=\"12\" font-style=\"italic\" lengthAdjust=\"spacingAndGlyphs\" textLength=\"53\" x=\"221.5\" y=\"65.1387\">«action»</text><text fill=\"#000000\" font-family=\"sans-serif\" font-size=\"12\" lengthAdjust=\"spacingAndGlyphs\" textLength=\"72\" x=\"212\" y=\"79.1074\">takePicture</text><line style=\"stroke: #383838; stroke-width: 1.0;\" x1=\"120\" x2=\"376\" y1=\"86.9375\" y2=\"86.9375\"/></a><!--MD5=[55dfccfc6c49c2d10cd1bd2211a6c90c]\n",
       "cluster E8--><a href=\"psysml:247459c4-dc1c-41f3-9bbd-2210d0a14144\" target=\"_top\" title=\"psysml:247459c4-dc1c-41f3-9bbd-2210d0a14144\" xlink:actuate=\"onRequest\" xlink:href=\"psysml:247459c4-dc1c-41f3-9bbd-2210d0a14144\" xlink:show=\"new\" xlink:title=\"psysml:247459c4-dc1c-41f3-9bbd-2210d0a14144\" xlink:type=\"simple\"><rect fill=\"#FFFFFF\" height=\"136\" id=\"E8\" rx=\"10\" ry=\"10\" style=\"stroke: #383838; stroke-width: 1.5;\" width=\"83\" x=\"263\" y=\"100\"/><rect fill=\"#F8F8F8\" height=\"37.9375\" rx=\"10\" ry=\"10\" style=\"stroke: #F8F8F8; stroke-width: 1.5;\" width=\"83\" x=\"263\" y=\"100\"/><rect fill=\"#F8F8F8\" height=\"10\" style=\"stroke: #F8F8F8; stroke-width: 1.5;\" width=\"83\" x=\"263\" y=\"127.9375\"/><rect fill=\"none\" height=\"136\" id=\"E8\" rx=\"10\" ry=\"10\" style=\"stroke: #383838; stroke-width: 1.5;\" width=\"83\" x=\"263\" y=\"100\"/><text fill=\"#000000\" font-family=\"sans-serif\" font-size=\"12\" font-style=\"italic\" lengthAdjust=\"spacingAndGlyphs\" textLength=\"53\" x=\"278\" y=\"116.1387\">«action»</text><text fill=\"#000000\" font-family=\"sans-serif\" font-size=\"12\" lengthAdjust=\"spacingAndGlyphs\" textLength=\"34\" x=\"287.5\" y=\"130.1074\">focus</text><line style=\"stroke: #383838; stroke-width: 1.0;\" x1=\"263\" x2=\"346\" y1=\"137.9375\" y2=\"137.9375\"/></a><!--MD5=[917b9dd0c7eca3ee5f47219d1a84c0ad]\n",
       "cluster E11--><a href=\"psysml:d7e0c4ce-9a2d-4e4d-8f17-58d415aecc73\" target=\"_top\" title=\"psysml:d7e0c4ce-9a2d-4e4d-8f17-58d415aecc73\" xlink:actuate=\"onRequest\" xlink:href=\"psysml:d7e0c4ce-9a2d-4e4d-8f17-58d415aecc73\" xlink:show=\"new\" xlink:title=\"psysml:d7e0c4ce-9a2d-4e4d-8f17-58d415aecc73\" xlink:type=\"simple\"><rect fill=\"#FFFFFF\" height=\"130.5\" id=\"E11\" rx=\"10\" ry=\"10\" style=\"stroke: #383838; stroke-width: 1.5;\" width=\"74\" x=\"170\" y=\"133.5\"/><rect fill=\"#F8F8F8\" height=\"37.9375\" rx=\"10\" ry=\"10\" style=\"stroke: #F8F8F8; stroke-width: 1.5;\" width=\"74\" x=\"170\" y=\"133.5\"/><rect fill=\"#F8F8F8\" height=\"10\" style=\"stroke: #F8F8F8; stroke-width: 1.5;\" width=\"74\" x=\"170\" y=\"161.4375\"/><rect fill=\"none\" height=\"130.5\" id=\"E11\" rx=\"10\" ry=\"10\" style=\"stroke: #383838; stroke-width: 1.5;\" width=\"74\" x=\"170\" y=\"133.5\"/><text fill=\"#000000\" font-family=\"sans-serif\" font-size=\"12\" font-style=\"italic\" lengthAdjust=\"spacingAndGlyphs\" textLength=\"53\" x=\"180.5\" y=\"149.6387\">«action»</text><text fill=\"#000000\" font-family=\"sans-serif\" font-size=\"12\" lengthAdjust=\"spacingAndGlyphs\" textLength=\"36\" x=\"189\" y=\"163.6074\">shoot</text><line style=\"stroke: #383838; stroke-width: 1.0;\" x1=\"170\" x2=\"244\" y1=\"171.4375\" y2=\"171.4375\"/></a><g id=\"E1.E2\"><a href=\"psysml:9a8bab7b-7078-4a6b-add3-8a1328b0c2d6\" target=\"_top\" title=\"psysml:9a8bab7b-7078-4a6b-add3-8a1328b0c2d6\" xlink:actuate=\"onRequest\" xlink:href=\"psysml:9a8bab7b-7078-4a6b-add3-8a1328b0c2d6\" xlink:show=\"new\" xlink:title=\"psysml:9a8bab7b-7078-4a6b-add3-8a1328b0c2d6\" xlink:type=\"simple\"><rect fill=\"#FFFFFF\" height=\"42.9375\" id=\"E2\" style=\"stroke: #383838; stroke-width: 1.5;\" width=\"71\" x=\"32.5\" y=\"112\"/><rect fill=\"#F8F8F8\" height=\"37.9375\" style=\"stroke: #383838; stroke-width: 1.5;\" width=\"71\" x=\"32.5\" y=\"112\"/><text fill=\"#000000\" font-family=\"sans-serif\" font-size=\"12\" font-style=\"italic\" lengthAdjust=\"spacingAndGlyphs\" textLength=\"64\" x=\"36\" y=\"128.1387\">«part def»</text><text fill=\"#000000\" font-family=\"sans-serif\" font-size=\"12\" lengthAdjust=\"spacingAndGlyphs\" textLength=\"58\" x=\"39\" y=\"142.1074\">Exposure</text></a></g><text fill=\"#000000\" font-family=\"sans-serif\" font-size=\"14\" lengthAdjust=\"spacingAndGlyphs\" textLength=\"23\" x=\"589.5\" y=\"254.9951\">xrsl</text><rect fill=\"#383838\" height=\"12\" style=\"stroke: #F8F8F8; stroke-width: 1.5;\" width=\"12\" x=\"595\" y=\"230\"/><text fill=\"#000000\" font-family=\"sans-serif\" font-size=\"14\" lengthAdjust=\"spacingAndGlyphs\" textLength=\"19\" x=\"449.5\" y=\"112.1982\">xsf</text><rect fill=\"#383838\" height=\"12\" style=\"stroke: #F8F8F8; stroke-width: 1.5;\" width=\"12\" x=\"453\" y=\"127.5\"/><text fill=\"#000000\" font-family=\"sans-serif\" font-size=\"14\" lengthAdjust=\"spacingAndGlyphs\" textLength=\"48\" x=\"257\" y=\"254.9951\">$result</text><rect fill=\"#383838\" height=\"12\" style=\"stroke: #F8F8F8; stroke-width: 1.5;\" width=\"12\" x=\"275\" y=\"230\"/><text fill=\"#000000\" font-family=\"sans-serif\" font-size=\"14\" lengthAdjust=\"spacingAndGlyphs\" textLength=\"23\" x=\"316.5\" y=\"254.9951\">xrsl</text><rect fill=\"#383838\" height=\"12\" style=\"stroke: #F8F8F8; stroke-width: 1.5;\" width=\"12\" x=\"322\" y=\"230\"/><text fill=\"#000000\" font-family=\"sans-serif\" font-size=\"14\" lengthAdjust=\"spacingAndGlyphs\" textLength=\"48\" x=\"164\" y=\"282.9951\">$result</text><rect fill=\"#383838\" height=\"12\" style=\"stroke: #F8F8F8; stroke-width: 1.5;\" width=\"12\" x=\"182\" y=\"258\"/><text fill=\"#000000\" font-family=\"sans-serif\" font-size=\"14\" lengthAdjust=\"spacingAndGlyphs\" textLength=\"19\" x=\"180.5\" y=\"112.1982\">xsf</text><rect fill=\"#383838\" height=\"12\" style=\"stroke: #F8F8F8; stroke-width: 1.5;\" width=\"12\" x=\"184\" y=\"127.5\"/><!--MD5=[4359b3198bcbe8274adaa910ef82bdde]\n",
       "@startuml\r\n",
       "skinparam ranksep 10\r\n",
       "skinparam rectangle {\r\n",
       " backgroundColor<<block>> LightGreen\r\n",
       "}\r\n",
       "top to bottom direction\r\n",
       "skinparam monochrome true\r\n",
       "skinparam classbackgroundcolor white\r\n",
       "skinparam shadowing false\r\n",
       "skinparam wrapWidth 300\r\n",
       "hide circle\r\n",
       "\r\n",
       "package \"PictureTaking\" as E1  [[psysml:14e6fe4c-a4d9-4c34-a316-9cbabb101fb1 ]]  {\r\n",
       "rec def \"Exposure\" as E2  <<(T,blue)part def>> [[psysml:9a8bab7b-7078-4a6b-add3-8a1328b0c2d6 ]] {\r\n",
       "}\r\n",
       "rec def \"Focus\" as E3  <<(T,blue)action def>> [[psysml:44676d48-2ba6-47f9-b761-758fcbe31dbd ]] {\r\n",
       "portout \"xrsl\" as E4  [[psysml:7285223f-23e3-4ded-a1a3-c8dbe746ff9d ]] \r\n",
       "}\r\n",
       "\r\n",
       "rec def \"Shoot\" as E5  <<(T,blue)action def>> [[psysml:d9adf687-8d42-42d3-b1b5-8b6413ee0fad ]] {\r\n",
       "portin \"xsf\" as E6  [[psysml:3f6601e8-74ad-4acc-b654-2e93fe2ad4c3 ]] \r\n",
       "}\r\n",
       "\r\n",
       "rec usage \"takePicture\" as E7  <<(T,blue)action>> [[psysml:704c53cf-e737-43c7-aaa6-afd6aa41e73e ]] {\r\n",
       "rec usage \"focus\" as E8  <<(T,blue)action>> [[psysml:247459c4-dc1c-41f3-9bbd-2210d0a14144 ]] {\r\n",
       "portout \"$result\" as E9  [[psysml:d24c4944-7685-4e9e-b1e9-aa0857e67b68 ]] \r\n",
       "portout \"xrsl\" as E10  [[psysml:a9b63f0e-a7c1-4470-82ae-da9c74073d16 ]] \r\n",
       "}\r\n",
       "\r\n",
       "rec usage \"shoot\" as E11  <<(T,blue)action>> [[psysml:d7e0c4ce-9a2d-4e4d-8f17-58d415aecc73 ]] {\r\n",
       "portout \"$result\" as E12  [[psysml:edaf4370-9fef-4792-934f-b7a89f5913cc ]] \r\n",
       "portin \"xsf\" as E13  [[psysml:1ee0e316-c080-4a1b-aa8d-122e3ae24dab ]] \r\n",
       "}\r\n",
       "\r\n",
       "}\r\n",
       "\r\n",
       "}\r\n",
       "@enduml\r\n",
       "\n",
       "PlantUML version 1.2020.13(Sat Jun 13 12:26:38 UTC 2020)\n",
       "(EPL source distribution)\n",
       "Java Runtime: OpenJDK Runtime Environment\n",
       "JVM: OpenJDK 64-Bit Server VM\n",
       "Default Encoding: UTF-8\n",
       "Language: en\n",
       "Country: null\n",
       "--></g></svg>"
      ]
     },
     "execution_count": 47,
     "metadata": {},
     "output_type": "execute_result"
    }
   ],
   "source": [
    "%viz --style=\"TB\" --view=\"Interconnection\" \"PictureTaking\""
   ]
  },
  {
   "cell_type": "code",
   "execution_count": 48,
   "id": "759836d1",
   "metadata": {
    "execution": {
     "iopub.execute_input": "2021-04-20T07:32:04.898581Z",
     "iopub.status.busy": "2021-04-20T07:32:04.897824Z",
     "iopub.status.idle": "2021-04-20T07:32:04.935748Z",
     "shell.execute_reply": "2021-04-20T07:32:04.934379Z"
    }
   },
   "outputs": [
    {
     "data": {
      "image/svg+xml": [
       "<?xml version=\"1.0\" encoding=\"UTF-8\" standalone=\"no\"?><svg xmlns=\"http://www.w3.org/2000/svg\" xmlns:xlink=\"http://www.w3.org/1999/xlink\" contentScriptType=\"application/ecmascript\" contentStyleType=\"text/css\" height=\"259px\" preserveAspectRatio=\"none\" style=\"width:567px;height:259px;\" version=\"1.1\" viewBox=\"0 0 567 259\" width=\"567px\" zoomAndPan=\"magnify\"><defs/><g><!--MD5=[fbc87193dbaf4d95561dea2c320d4a47]\n",
       "cluster E1--><a href=\"psysml:44676d48-2ba6-47f9-b761-758fcbe31dbd\" target=\"_top\" title=\"psysml:44676d48-2ba6-47f9-b761-758fcbe31dbd\" xlink:actuate=\"onRequest\" xlink:href=\"psysml:44676d48-2ba6-47f9-b761-758fcbe31dbd\" xlink:show=\"new\" xlink:title=\"psysml:44676d48-2ba6-47f9-b761-758fcbe31dbd\" xlink:type=\"simple\"><rect fill=\"#FFFFFF\" height=\"132\" id=\"E1\" style=\"stroke: #383838; stroke-width: 1.5;\" width=\"134\" x=\"7\" y=\"58\"/><rect fill=\"#F8F8F8\" height=\"37.9375\" style=\"stroke: #383838; stroke-width: 1.5;\" width=\"134\" x=\"7\" y=\"58\"/><text fill=\"#000000\" font-family=\"sans-serif\" font-size=\"12\" font-style=\"italic\" lengthAdjust=\"spacingAndGlyphs\" textLength=\"77\" x=\"35.5\" y=\"74.1387\">«action def»</text><text fill=\"#000000\" font-family=\"sans-serif\" font-size=\"12\" lengthAdjust=\"spacingAndGlyphs\" textLength=\"37\" x=\"55.5\" y=\"88.1074\">Focus</text></a><!--MD5=[d5e69f78d87373223dbae638b30a9c99]\n",
       "cluster E3--><a href=\"psysml:d9adf687-8d42-42d3-b1b5-8b6413ee0fad\" target=\"_top\" title=\"psysml:d9adf687-8d42-42d3-b1b5-8b6413ee0fad\" xlink:actuate=\"onRequest\" xlink:href=\"psysml:d9adf687-8d42-42d3-b1b5-8b6413ee0fad\" xlink:show=\"new\" xlink:title=\"psysml:d9adf687-8d42-42d3-b1b5-8b6413ee0fad\" xlink:type=\"simple\"><rect fill=\"#FFFFFF\" height=\"84.5\" id=\"E3\" style=\"stroke: #383838; stroke-width: 1.5;\" width=\"134\" x=\"149\" y=\"91.5\"/><rect fill=\"#F8F8F8\" height=\"37.9375\" style=\"stroke: #383838; stroke-width: 1.5;\" width=\"134\" x=\"149\" y=\"91.5\"/><text fill=\"#000000\" font-family=\"sans-serif\" font-size=\"12\" font-style=\"italic\" lengthAdjust=\"spacingAndGlyphs\" textLength=\"77\" x=\"177.5\" y=\"107.6387\">«action def»</text><text fill=\"#000000\" font-family=\"sans-serif\" font-size=\"12\" lengthAdjust=\"spacingAndGlyphs\" textLength=\"37\" x=\"197.5\" y=\"121.6074\">Shoot</text></a><!--MD5=[de5ec2e2e8f62f467e546659f5068c88]\n",
       "cluster E5--><a href=\"psysml:704c53cf-e737-43c7-aaa6-afd6aa41e73e\" target=\"_top\" title=\"psysml:704c53cf-e737-43c7-aaa6-afd6aa41e73e\" xlink:actuate=\"onRequest\" xlink:href=\"psysml:704c53cf-e737-43c7-aaa6-afd6aa41e73e\" xlink:show=\"new\" xlink:title=\"psysml:704c53cf-e737-43c7-aaa6-afd6aa41e73e\" xlink:type=\"simple\"><rect fill=\"#FFFFFF\" height=\"241\" id=\"E5\" rx=\"10\" ry=\"10\" style=\"stroke: #383838; stroke-width: 1.5;\" width=\"256\" x=\"299\" y=\"7\"/><rect fill=\"#F8F8F8\" height=\"37.9375\" rx=\"10\" ry=\"10\" style=\"stroke: #F8F8F8; stroke-width: 1.5;\" width=\"256\" x=\"299\" y=\"7\"/><rect fill=\"#F8F8F8\" height=\"10\" style=\"stroke: #F8F8F8; stroke-width: 1.5;\" width=\"256\" x=\"299\" y=\"34.9375\"/><rect fill=\"none\" height=\"241\" id=\"E5\" rx=\"10\" ry=\"10\" style=\"stroke: #383838; stroke-width: 1.5;\" width=\"256\" x=\"299\" y=\"7\"/><text fill=\"#000000\" font-family=\"sans-serif\" font-size=\"12\" font-style=\"italic\" lengthAdjust=\"spacingAndGlyphs\" textLength=\"53\" x=\"400.5\" y=\"23.1387\">«action»</text><text fill=\"#000000\" font-family=\"sans-serif\" font-size=\"12\" lengthAdjust=\"spacingAndGlyphs\" textLength=\"72\" x=\"391\" y=\"37.1074\">takePicture</text><line style=\"stroke: #383838; stroke-width: 1.0;\" x1=\"299\" x2=\"555\" y1=\"44.9375\" y2=\"44.9375\"/></a><!--MD5=[14e3b0961a2654348d326746436168a1]\n",
       "cluster E6--><a href=\"psysml:247459c4-dc1c-41f3-9bbd-2210d0a14144\" target=\"_top\" title=\"psysml:247459c4-dc1c-41f3-9bbd-2210d0a14144\" xlink:actuate=\"onRequest\" xlink:href=\"psysml:247459c4-dc1c-41f3-9bbd-2210d0a14144\" xlink:show=\"new\" xlink:title=\"psysml:247459c4-dc1c-41f3-9bbd-2210d0a14144\" xlink:type=\"simple\"><rect fill=\"#FFFFFF\" height=\"132\" id=\"E6\" rx=\"10\" ry=\"10\" style=\"stroke: #383838; stroke-width: 1.5;\" width=\"83\" x=\"442\" y=\"58\"/><rect fill=\"#F8F8F8\" height=\"37.9375\" rx=\"10\" ry=\"10\" style=\"stroke: #F8F8F8; stroke-width: 1.5;\" width=\"83\" x=\"442\" y=\"58\"/><rect fill=\"#F8F8F8\" height=\"10\" style=\"stroke: #F8F8F8; stroke-width: 1.5;\" width=\"83\" x=\"442\" y=\"85.9375\"/><rect fill=\"none\" height=\"132\" id=\"E6\" rx=\"10\" ry=\"10\" style=\"stroke: #383838; stroke-width: 1.5;\" width=\"83\" x=\"442\" y=\"58\"/><text fill=\"#000000\" font-family=\"sans-serif\" font-size=\"12\" font-style=\"italic\" lengthAdjust=\"spacingAndGlyphs\" textLength=\"53\" x=\"457\" y=\"74.1387\">«action»</text><text fill=\"#000000\" font-family=\"sans-serif\" font-size=\"12\" lengthAdjust=\"spacingAndGlyphs\" textLength=\"34\" x=\"466.5\" y=\"88.1074\">focus</text><line style=\"stroke: #383838; stroke-width: 1.0;\" x1=\"442\" x2=\"525\" y1=\"95.9375\" y2=\"95.9375\"/></a><!--MD5=[7f149f147074ac12df2cb0a7728a5fb0]\n",
       "cluster E9--><a href=\"psysml:d7e0c4ce-9a2d-4e4d-8f17-58d415aecc73\" target=\"_top\" title=\"psysml:d7e0c4ce-9a2d-4e4d-8f17-58d415aecc73\" xlink:actuate=\"onRequest\" xlink:href=\"psysml:d7e0c4ce-9a2d-4e4d-8f17-58d415aecc73\" xlink:show=\"new\" xlink:title=\"psysml:d7e0c4ce-9a2d-4e4d-8f17-58d415aecc73\" xlink:type=\"simple\"><rect fill=\"#FFFFFF\" height=\"126.5\" id=\"E9\" rx=\"10\" ry=\"10\" style=\"stroke: #383838; stroke-width: 1.5;\" width=\"74\" x=\"349\" y=\"91.5\"/><rect fill=\"#F8F8F8\" height=\"37.9375\" rx=\"10\" ry=\"10\" style=\"stroke: #F8F8F8; stroke-width: 1.5;\" width=\"74\" x=\"349\" y=\"91.5\"/><rect fill=\"#F8F8F8\" height=\"10\" style=\"stroke: #F8F8F8; stroke-width: 1.5;\" width=\"74\" x=\"349\" y=\"119.4375\"/><rect fill=\"none\" height=\"126.5\" id=\"E9\" rx=\"10\" ry=\"10\" style=\"stroke: #383838; stroke-width: 1.5;\" width=\"74\" x=\"349\" y=\"91.5\"/><text fill=\"#000000\" font-family=\"sans-serif\" font-size=\"12\" font-style=\"italic\" lengthAdjust=\"spacingAndGlyphs\" textLength=\"53\" x=\"359.5\" y=\"107.6387\">«action»</text><text fill=\"#000000\" font-family=\"sans-serif\" font-size=\"12\" lengthAdjust=\"spacingAndGlyphs\" textLength=\"36\" x=\"368\" y=\"121.6074\">shoot</text><line style=\"stroke: #383838; stroke-width: 1.0;\" x1=\"349\" x2=\"423\" y1=\"129.4375\" y2=\"129.4375\"/></a><text fill=\"#000000\" font-family=\"sans-serif\" font-size=\"14\" lengthAdjust=\"spacingAndGlyphs\" textLength=\"23\" x=\"62.5\" y=\"208.9951\">xrsl</text><rect fill=\"#383838\" height=\"12\" style=\"stroke: #F8F8F8; stroke-width: 1.5;\" width=\"12\" x=\"68\" y=\"184\"/><text fill=\"#000000\" font-family=\"sans-serif\" font-size=\"14\" lengthAdjust=\"spacingAndGlyphs\" textLength=\"19\" x=\"206.5\" y=\"70.1982\">xsf</text><rect fill=\"#383838\" height=\"12\" style=\"stroke: #F8F8F8; stroke-width: 1.5;\" width=\"12\" x=\"210\" y=\"85.5\"/><text fill=\"#000000\" font-family=\"sans-serif\" font-size=\"14\" lengthAdjust=\"spacingAndGlyphs\" textLength=\"48\" x=\"436\" y=\"208.9951\">$result</text><rect fill=\"#383838\" height=\"12\" style=\"stroke: #F8F8F8; stroke-width: 1.5;\" width=\"12\" x=\"454\" y=\"184\"/><text fill=\"#000000\" font-family=\"sans-serif\" font-size=\"14\" lengthAdjust=\"spacingAndGlyphs\" textLength=\"23\" x=\"495.5\" y=\"208.9951\">xrsl</text><rect fill=\"#383838\" height=\"12\" style=\"stroke: #F8F8F8; stroke-width: 1.5;\" width=\"12\" x=\"501\" y=\"184\"/><text fill=\"#000000\" font-family=\"sans-serif\" font-size=\"14\" lengthAdjust=\"spacingAndGlyphs\" textLength=\"48\" x=\"343\" y=\"236.9951\">$result</text><rect fill=\"#383838\" height=\"12\" style=\"stroke: #F8F8F8; stroke-width: 1.5;\" width=\"12\" x=\"361\" y=\"212\"/><text fill=\"#000000\" font-family=\"sans-serif\" font-size=\"14\" lengthAdjust=\"spacingAndGlyphs\" textLength=\"19\" x=\"359.5\" y=\"70.1982\">xsf</text><rect fill=\"#383838\" height=\"12\" style=\"stroke: #F8F8F8; stroke-width: 1.5;\" width=\"12\" x=\"363\" y=\"85.5\"/><!--MD5=[b0521595bb0a935053172120b6474f0d]\n",
       "@startuml\r\n",
       "skinparam ranksep 8\r\n",
       "top to bottom direction\r\n",
       "skinparam monochrome true\r\n",
       "skinparam classbackgroundcolor white\r\n",
       "skinparam shadowing false\r\n",
       "skinparam wrapWidth 300\r\n",
       "hide circle\r\n",
       "\r\n",
       "rec def \"Focus\" as E1  <<(T,blue)action def>> [[psysml:44676d48-2ba6-47f9-b761-758fcbe31dbd ]] {\r\n",
       "portout \"xrsl\" as E2  [[psysml:7285223f-23e3-4ded-a1a3-c8dbe746ff9d ]] \r\n",
       "}\r\n",
       "\r\n",
       "rec def \"Shoot\" as E3  <<(T,blue)action def>> [[psysml:d9adf687-8d42-42d3-b1b5-8b6413ee0fad ]] {\r\n",
       "portin \"xsf\" as E4  [[psysml:3f6601e8-74ad-4acc-b654-2e93fe2ad4c3 ]] \r\n",
       "}\r\n",
       "\r\n",
       "rec usage \"takePicture\" as E5  <<(T,blue)action>> [[psysml:704c53cf-e737-43c7-aaa6-afd6aa41e73e ]] {\r\n",
       "rec usage \"focus\" as E6  <<(T,blue)action>> [[psysml:247459c4-dc1c-41f3-9bbd-2210d0a14144 ]] {\r\n",
       "portout \"$result\" as E7  [[psysml:d24c4944-7685-4e9e-b1e9-aa0857e67b68 ]] \r\n",
       "portout \"xrsl\" as E8  [[psysml:a9b63f0e-a7c1-4470-82ae-da9c74073d16 ]] \r\n",
       "}\r\n",
       "\r\n",
       "rec usage \"shoot\" as E9  <<(T,blue)action>> [[psysml:d7e0c4ce-9a2d-4e4d-8f17-58d415aecc73 ]] {\r\n",
       "portout \"$result\" as E10  [[psysml:edaf4370-9fef-4792-934f-b7a89f5913cc ]] \r\n",
       "portin \"xsf\" as E11  [[psysml:1ee0e316-c080-4a1b-aa8d-122e3ae24dab ]] \r\n",
       "}\r\n",
       "\r\n",
       "}\r\n",
       "\r\n",
       "@enduml\r\n",
       "\n",
       "PlantUML version 1.2020.13(Sat Jun 13 12:26:38 UTC 2020)\n",
       "(EPL source distribution)\n",
       "Java Runtime: OpenJDK Runtime Environment\n",
       "JVM: OpenJDK 64-Bit Server VM\n",
       "Default Encoding: UTF-8\n",
       "Language: en\n",
       "Country: null\n",
       "--></g></svg>"
      ]
     },
     "execution_count": 48,
     "metadata": {},
     "output_type": "execute_result"
    }
   ],
   "source": [
    "%viz --style=\"TB\" --view=\"Action\" \"PictureTaking\""
   ]
  },
  {
   "cell_type": "code",
   "execution_count": 49,
   "id": "072ce806",
   "metadata": {
    "execution": {
     "iopub.execute_input": "2021-04-20T07:32:04.985969Z",
     "iopub.status.busy": "2021-04-20T07:32:04.985533Z",
     "iopub.status.idle": "2021-04-20T07:32:05.016889Z",
     "shell.execute_reply": "2021-04-20T07:32:05.015584Z"
    }
   },
   "outputs": [
    {
     "data": {
      "image/svg+xml": [
       "<?xml version=\"1.0\" encoding=\"UTF-8\" standalone=\"no\"?><svg xmlns=\"http://www.w3.org/2000/svg\" xmlns:xlink=\"http://www.w3.org/1999/xlink\" contentScriptType=\"application/ecmascript\" contentStyleType=\"text/css\" height=\"452px\" preserveAspectRatio=\"none\" style=\"width:278px;height:452px;\" version=\"1.1\" viewBox=\"0 0 278 452\" width=\"278px\" zoomAndPan=\"magnify\"><defs/><g><!--MD5=[fbc87193dbaf4d95561dea2c320d4a47]\n",
       "cluster E1--><a href=\"psysml:14e6fe4c-a4d9-4c34-a316-9cbabb101fb1\" target=\"_top\" title=\"psysml:14e6fe4c-a4d9-4c34-a316-9cbabb101fb1\" xlink:actuate=\"onRequest\" xlink:href=\"psysml:14e6fe4c-a4d9-4c34-a316-9cbabb101fb1\" xlink:show=\"new\" xlink:title=\"psysml:14e6fe4c-a4d9-4c34-a316-9cbabb101fb1\" xlink:type=\"simple\"><polygon fill=\"#FFFFFF\" points=\"16,6,130,6,137,28.2969,256,28.2969,256,440,16,440,16,6\" style=\"stroke: #000000; stroke-width: 1.5;\"/><line style=\"stroke: #000000; stroke-width: 1.5;\" x1=\"16\" x2=\"137\" y1=\"28.2969\" y2=\"28.2969\"/><text fill=\"#000000\" font-family=\"sans-serif\" font-size=\"14\" font-weight=\"bold\" lengthAdjust=\"spacingAndGlyphs\" textLength=\"108\" x=\"20\" y=\"20.9951\">PictureTaking</text></a><!--MD5=[b4997ac47864f28c2f74865a473b2911]\n",
       "class E2--><a href=\"psysml:9a8bab7b-7078-4a6b-add3-8a1328b0c2d6\" target=\"_top\" title=\"psysml:9a8bab7b-7078-4a6b-add3-8a1328b0c2d6\" xlink:actuate=\"onRequest\" xlink:href=\"psysml:9a8bab7b-7078-4a6b-add3-8a1328b0c2d6\" xlink:show=\"new\" xlink:title=\"psysml:9a8bab7b-7078-4a6b-add3-8a1328b0c2d6\" xlink:type=\"simple\"><rect fill=\"#FFFFFF\" height=\"45.9375\" id=\"E2\" style=\"stroke: #383838; stroke-width: 1.5;\" width=\"66\" x=\"103\" y=\"378\"/><text fill=\"#000000\" font-family=\"sans-serif\" font-size=\"12\" font-style=\"italic\" lengthAdjust=\"spacingAndGlyphs\" textLength=\"64\" x=\"104\" y=\"394.1387\">«part def»</text><text fill=\"#000000\" font-family=\"sans-serif\" font-size=\"12\" lengthAdjust=\"spacingAndGlyphs\" textLength=\"58\" x=\"107\" y=\"408.1074\">Exposure</text><line style=\"stroke: #383838; stroke-width: 1.5;\" x1=\"104\" x2=\"168\" y1=\"415.9375\" y2=\"415.9375\"/></a><!--MD5=[09b614a08d8cba4a07c9adeb5e0fee81]\n",
       "class E3--><a href=\"psysml:44676d48-2ba6-47f9-b761-758fcbe31dbd\" target=\"_top\" title=\"psysml:44676d48-2ba6-47f9-b761-758fcbe31dbd\" xlink:actuate=\"onRequest\" xlink:href=\"psysml:44676d48-2ba6-47f9-b761-758fcbe31dbd\" xlink:show=\"new\" xlink:title=\"psysml:44676d48-2ba6-47f9-b761-758fcbe31dbd\" xlink:type=\"simple\"><rect fill=\"#FFFFFF\" height=\"45.9375\" id=\"E3\" style=\"stroke: #383838; stroke-width: 1.5;\" width=\"79\" x=\"38.5\" y=\"255\"/><text fill=\"#000000\" font-family=\"sans-serif\" font-size=\"12\" font-style=\"italic\" lengthAdjust=\"spacingAndGlyphs\" textLength=\"77\" x=\"39.5\" y=\"271.1387\">«action def»</text><text fill=\"#000000\" font-family=\"sans-serif\" font-size=\"12\" lengthAdjust=\"spacingAndGlyphs\" textLength=\"37\" x=\"59.5\" y=\"285.1074\">Focus</text><line style=\"stroke: #383838; stroke-width: 1.5;\" x1=\"39.5\" x2=\"116.5\" y1=\"292.9375\" y2=\"292.9375\"/></a><!--MD5=[ebbe1d658d1005bcc118a6aa81145e00]\n",
       "class E4--><a href=\"psysml:d9adf687-8d42-42d3-b1b5-8b6413ee0fad\" target=\"_top\" title=\"psysml:d9adf687-8d42-42d3-b1b5-8b6413ee0fad\" xlink:actuate=\"onRequest\" xlink:href=\"psysml:d9adf687-8d42-42d3-b1b5-8b6413ee0fad\" xlink:show=\"new\" xlink:title=\"psysml:d9adf687-8d42-42d3-b1b5-8b6413ee0fad\" xlink:type=\"simple\"><rect fill=\"#FFFFFF\" height=\"45.9375\" id=\"E4\" style=\"stroke: #383838; stroke-width: 1.5;\" width=\"79\" x=\"154.5\" y=\"255\"/><text fill=\"#000000\" font-family=\"sans-serif\" font-size=\"12\" font-style=\"italic\" lengthAdjust=\"spacingAndGlyphs\" textLength=\"77\" x=\"155.5\" y=\"271.1387\">«action def»</text><text fill=\"#000000\" font-family=\"sans-serif\" font-size=\"12\" lengthAdjust=\"spacingAndGlyphs\" textLength=\"37\" x=\"175.5\" y=\"285.1074\">Shoot</text><line style=\"stroke: #383838; stroke-width: 1.5;\" x1=\"155.5\" x2=\"232.5\" y1=\"292.9375\" y2=\"292.9375\"/></a><!--MD5=[270fce915f116d4de14055a7c1d9a0f3]\n",
       "class E5--><a href=\"psysml:704c53cf-e737-43c7-aaa6-afd6aa41e73e\" target=\"_top\" title=\"psysml:704c53cf-e737-43c7-aaa6-afd6aa41e73e\" xlink:actuate=\"onRequest\" xlink:href=\"psysml:704c53cf-e737-43c7-aaa6-afd6aa41e73e\" xlink:show=\"new\" xlink:title=\"psysml:704c53cf-e737-43c7-aaa6-afd6aa41e73e\" xlink:type=\"simple\"><rect fill=\"#FFFFFF\" height=\"45.9375\" id=\"E5\" rx=\"10\" ry=\"10\" style=\"stroke: #383838; stroke-width: 1.5;\" width=\"78\" x=\"96\" y=\"41\"/><text fill=\"#000000\" font-family=\"sans-serif\" font-size=\"12\" font-style=\"italic\" lengthAdjust=\"spacingAndGlyphs\" textLength=\"53\" x=\"108.5\" y=\"57.1387\">«action»</text><text fill=\"#000000\" font-family=\"sans-serif\" font-size=\"12\" lengthAdjust=\"spacingAndGlyphs\" textLength=\"72\" x=\"99\" y=\"71.1074\">takePicture</text><line style=\"stroke: #383838; stroke-width: 1.5;\" x1=\"97\" x2=\"173\" y1=\"78.9375\" y2=\"78.9375\"/></a><!--MD5=[60a26617385b1d2d0262a64233df1f8d]\n",
       "class E6--><a href=\"psysml:247459c4-dc1c-41f3-9bbd-2210d0a14144\" target=\"_top\" title=\"psysml:247459c4-dc1c-41f3-9bbd-2210d0a14144\" xlink:actuate=\"onRequest\" xlink:href=\"psysml:247459c4-dc1c-41f3-9bbd-2210d0a14144\" xlink:show=\"new\" xlink:title=\"psysml:247459c4-dc1c-41f3-9bbd-2210d0a14144\" xlink:type=\"simple\"><rect fill=\"#FFFFFF\" height=\"45.9375\" id=\"E6\" rx=\"10\" ry=\"10\" style=\"stroke: #383838; stroke-width: 1.5;\" width=\"85\" x=\"32.5\" y=\"148\"/><text fill=\"#000000\" font-family=\"sans-serif\" font-size=\"12\" font-style=\"italic\" lengthAdjust=\"spacingAndGlyphs\" textLength=\"53\" x=\"48.5\" y=\"164.1387\">«action»</text><text fill=\"#000000\" font-family=\"sans-serif\" font-size=\"12\" lengthAdjust=\"spacingAndGlyphs\" textLength=\"79\" x=\"35.5\" y=\"178.1074\">focus: Focus</text><line style=\"stroke: #383838; stroke-width: 1.5;\" x1=\"33.5\" x2=\"116.5\" y1=\"185.9375\" y2=\"185.9375\"/></a><!--MD5=[2156ba9850f5573cc1fc38a6a4b2f02b]\n",
       "class E7--><a href=\"psysml:d7e0c4ce-9a2d-4e4d-8f17-58d415aecc73\" target=\"_top\" title=\"psysml:d7e0c4ce-9a2d-4e4d-8f17-58d415aecc73\" xlink:actuate=\"onRequest\" xlink:href=\"psysml:d7e0c4ce-9a2d-4e4d-8f17-58d415aecc73\" xlink:show=\"new\" xlink:title=\"psysml:d7e0c4ce-9a2d-4e4d-8f17-58d415aecc73\" xlink:type=\"simple\"><rect fill=\"#FFFFFF\" height=\"45.9375\" id=\"E7\" rx=\"10\" ry=\"10\" style=\"stroke: #383838; stroke-width: 1.5;\" width=\"87\" x=\"152.5\" y=\"148\"/><text fill=\"#000000\" font-family=\"sans-serif\" font-size=\"12\" font-style=\"italic\" lengthAdjust=\"spacingAndGlyphs\" textLength=\"53\" x=\"169.5\" y=\"164.1387\">«action»</text><text fill=\"#000000\" font-family=\"sans-serif\" font-size=\"12\" lengthAdjust=\"spacingAndGlyphs\" textLength=\"81\" x=\"155.5\" y=\"178.1074\">shoot: Shoot</text><line style=\"stroke: #383838; stroke-width: 1.5;\" x1=\"153.5\" x2=\"238.5\" y1=\"185.9375\" y2=\"185.9375\"/></a><!--MD5=[b900ca4392aad7a68aec1e9245e10ab9]\n",
       "reverse link E3 to E2--><a href=\"psysml:7285223f-23e3-4ded-a1a3-c8dbe746ff9d\" target=\"_top\" title=\"psysml:7285223f-23e3-4ded-a1a3-c8dbe746ff9d\" xlink:actuate=\"onRequest\" xlink:href=\"psysml:7285223f-23e3-4ded-a1a3-c8dbe746ff9d\" xlink:show=\"new\" xlink:title=\"psysml:7285223f-23e3-4ded-a1a3-c8dbe746ff9d\" xlink:type=\"simple\"><path d=\"M94.32,313.04 C104.29,333.84 116.74,359.82 125.43,377.95 \" fill=\"none\" id=\"E3&lt;-E2\" style=\"stroke: #383838; stroke-width: 1.0;\"/><polygon fill=\"#FFFFFF\" points=\"88.64,301.19,87.6227,308.329,93.8212,312.0138,94.8385,304.8748,88.64,301.19\" style=\"stroke: #383838; stroke-width: 1.0;\"/><text fill=\"#000000\" font-family=\"sans-serif\" font-size=\"13\" lengthAdjust=\"spacingAndGlyphs\" textLength=\"22\" x=\"111\" y=\"344.0669\">xrsl</text></a><!--MD5=[ddeed8deb2209213b62e6cfabaa108b2]\n",
       "reverse link E4 to E2--><a href=\"psysml:3f6601e8-74ad-4acc-b654-2e93fe2ad4c3\" target=\"_top\" title=\"psysml:3f6601e8-74ad-4acc-b654-2e93fe2ad4c3\" xlink:actuate=\"onRequest\" xlink:href=\"psysml:3f6601e8-74ad-4acc-b654-2e93fe2ad4c3\" xlink:show=\"new\" xlink:title=\"psysml:3f6601e8-74ad-4acc-b654-2e93fe2ad4c3\" xlink:type=\"simple\"><path d=\"M177.68,313.04 C167.71,333.84 155.26,359.82 146.57,377.95 \" fill=\"none\" id=\"E4&lt;-E2\" style=\"stroke: #383838; stroke-width: 1.0;\"/><polygon fill=\"#FFFFFF\" points=\"183.36,301.19,177.1615,304.8748,178.1788,312.0138,184.3773,308.329,183.36,301.19\" style=\"stroke: #383838; stroke-width: 1.0;\"/><text fill=\"#000000\" font-family=\"sans-serif\" font-size=\"13\" lengthAdjust=\"spacingAndGlyphs\" textLength=\"18\" x=\"169\" y=\"344.0669\">xsf</text></a><!--MD5=[85d356282659285ab4b2cfe2f634dd2b]\n",
       "reverse link E5 to E6--><a href=\"psysml:b27ee466-0f4c-4005-a5ef-b2dd2df76771\" target=\"_top\" title=\"psysml:b27ee466-0f4c-4005-a5ef-b2dd2df76771\" xlink:actuate=\"onRequest\" xlink:href=\"psysml:b27ee466-0f4c-4005-a5ef-b2dd2df76771\" xlink:show=\"new\" xlink:title=\"psysml:b27ee466-0f4c-4005-a5ef-b2dd2df76771\" xlink:type=\"simple\"><path d=\"M115.79,98.62 C106.62,114.66 95.91,133.4 87.77,147.66 \" fill=\"none\" id=\"E5&lt;-E6\" style=\"stroke: #383838; stroke-width: 1.0;\"/><polygon fill=\"#383838\" points=\"122.42,87.01,115.9684,90.2314,116.4607,97.4257,122.9122,94.2043,122.42,87.01\" style=\"stroke: #383838; stroke-width: 1.0;\"/><text fill=\"#000000\" font-family=\"sans-serif\" font-size=\"13\" lengthAdjust=\"spacingAndGlyphs\" textLength=\"8\" x=\"82.0173\" y=\"136.8492\">1</text></a><!--MD5=[a717450b82c80b9240a525fa862496af]\n",
       "link E6 to E3--><a href=\"psysml:5a2a5603-bc94-4298-a763-49fe520ca5bc\" target=\"_top\" title=\"psysml:5a2a5603-bc94-4298-a763-49fe520ca5bc\" xlink:actuate=\"onRequest\" xlink:href=\"psysml:5a2a5603-bc94-4298-a763-49fe520ca5bc\" xlink:show=\"new\" xlink:title=\"psysml:5a2a5603-bc94-4298-a763-49fe520ca5bc\" xlink:type=\"simple\"><path d=\"M75.63,194.01 C75.96,205.69 76.38,220.46 76.78,234.28 \" fill=\"none\" id=\"E6-&gt;E3\" style=\"stroke: #383838; stroke-width: 1.0;\"/><polygon fill=\"#FFFFFF\" points=\"77.36,254.66,69.8202,235.8677,83.8145,235.4678,77.36,254.66\" style=\"stroke: #383838; stroke-width: 1.0;\"/><ellipse cx=\"71.6566\" cy=\"230.1129\" fill=\"#383838\" rx=\"2\" ry=\"2\" style=\"stroke: #383838; stroke-width: 1.0;\"/><ellipse cx=\"81.6525\" cy=\"229.8273\" fill=\"#383838\" rx=\"2\" ry=\"2\" style=\"stroke: #383838; stroke-width: 1.0;\"/></a><!--MD5=[452b418e7f8a40397a49b8c0a78acc5b]\n",
       "reverse link E5 to E7--><a href=\"psysml:aaa4df86-e408-4ec8-a2fe-61e5d0511306\" target=\"_top\" title=\"psysml:aaa4df86-e408-4ec8-a2fe-61e5d0511306\" xlink:actuate=\"onRequest\" xlink:href=\"psysml:aaa4df86-e408-4ec8-a2fe-61e5d0511306\" xlink:show=\"new\" xlink:title=\"psysml:aaa4df86-e408-4ec8-a2fe-61e5d0511306\" xlink:type=\"simple\"><path d=\"M154.53,98.62 C163.85,114.66 174.74,133.4 183.02,147.66 \" fill=\"none\" id=\"E5&lt;-E7\" style=\"stroke: #383838; stroke-width: 1.0;\"/><polygon fill=\"#383838\" points=\"147.79,87.01,147.3439,94.2073,153.8159,97.3873,154.2621,90.19,147.79,87.01\" style=\"stroke: #383838; stroke-width: 1.0;\"/><text fill=\"#000000\" font-family=\"sans-serif\" font-size=\"13\" lengthAdjust=\"spacingAndGlyphs\" textLength=\"8\" x=\"170.6689\" y=\"136.8492\">1</text></a><!--MD5=[6bdd27f9905911a7e892a3dc65cf6b7c]\n",
       "link E7 to E4--><a href=\"psysml:f48d95ee-d7b3-4518-8228-9030b5bbf5ab\" target=\"_top\" title=\"psysml:f48d95ee-d7b3-4518-8228-9030b5bbf5ab\" xlink:actuate=\"onRequest\" xlink:href=\"psysml:f48d95ee-d7b3-4518-8228-9030b5bbf5ab\" xlink:show=\"new\" xlink:title=\"psysml:f48d95ee-d7b3-4518-8228-9030b5bbf5ab\" xlink:type=\"simple\"><path d=\"M195.58,194.01 C195.36,205.69 195.08,220.46 194.81,234.28 \" fill=\"none\" id=\"E7-&gt;E4\" style=\"stroke: #383838; stroke-width: 1.0;\"/><polygon fill=\"#FFFFFF\" points=\"194.43,254.66,187.784,235.5333,201.7816,235.7933,194.43,254.66\" style=\"stroke: #383838; stroke-width: 1.0;\"/><ellipse cx=\"189.8895\" cy=\"229.8714\" fill=\"#383838\" rx=\"2\" ry=\"2\" style=\"stroke: #383838; stroke-width: 1.0;\"/><ellipse cx=\"199.8878\" cy=\"230.0571\" fill=\"#383838\" rx=\"2\" ry=\"2\" style=\"stroke: #383838; stroke-width: 1.0;\"/></a><!--MD5=[518dde362aa4a9645396b073363769cd]\n",
       "@startuml\r\n",
       "top to bottom direction\r\n",
       "skinparam monochrome true\r\n",
       "skinparam classbackgroundcolor white\r\n",
       "skinparam shadowing false\r\n",
       "skinparam wrapWidth 300\r\n",
       "hide circle\r\n",
       "\r\n",
       "package \"PictureTaking\" as E1  [[psysml:14e6fe4c-a4d9-4c34-a316-9cbabb101fb1 ]]  {\r\n",
       "comp def \"Exposure\" as E2  <<(T,blue)part def>> [[psysml:9a8bab7b-7078-4a6b-add3-8a1328b0c2d6 ]] {\r\n",
       "}\r\n",
       "comp def \"Focus\" as E3  <<(T,blue)action def>> [[psysml:44676d48-2ba6-47f9-b761-758fcbe31dbd ]] {\r\n",
       "}\r\n",
       "comp def \"Shoot\" as E4  <<(T,blue)action def>> [[psysml:d9adf687-8d42-42d3-b1b5-8b6413ee0fad ]] {\r\n",
       "}\r\n",
       "comp usage \"takePicture\" as E5  <<(T,blue)action>> [[psysml:704c53cf-e737-43c7-aaa6-afd6aa41e73e ]] {\r\n",
       "}\r\n",
       "comp usage \"focus: Focus\" as E6  <<(T,blue)action>> [[psysml:247459c4-dc1c-41f3-9bbd-2210d0a14144 ]] {\r\n",
       "}\r\n",
       "comp usage \"shoot: Shoot\" as E7  <<(T,blue)action>> [[psysml:d7e0c4ce-9a2d-4e4d-8f17-58d415aecc73 ]] {\r\n",
       "}\r\n",
       "E3 o- - E2 [[psysml:7285223f-23e3-4ded-a1a3-c8dbe746ff9d ]] : xrsl\r\n",
       "E4 o- - E2 [[psysml:3f6601e8-74ad-4acc-b654-2e93fe2ad4c3 ]] : xsf\r\n",
       "E5 *- - \"1\"E6 [[psysml:b27ee466-0f4c-4005-a5ef-b2dd2df76771 ]] \r\n",
       "E6 - -:|> E3 [[psysml:5a2a5603-bc94-4298-a763-49fe520ca5bc ]] \r\n",
       "E5 *- - \"1\"E7 [[psysml:aaa4df86-e408-4ec8-a2fe-61e5d0511306 ]] \r\n",
       "E7 - -:|> E4 [[psysml:f48d95ee-d7b3-4518-8228-9030b5bbf5ab ]] \r\n",
       "}\r\n",
       "@enduml\r\n",
       "\n",
       "PlantUML version 1.2020.13(Sat Jun 13 12:26:38 UTC 2020)\n",
       "(EPL source distribution)\n",
       "Java Runtime: OpenJDK Runtime Environment\n",
       "JVM: OpenJDK 64-Bit Server VM\n",
       "Default Encoding: UTF-8\n",
       "Language: en\n",
       "Country: null\n",
       "--></g></svg>"
      ]
     },
     "execution_count": 49,
     "metadata": {},
     "output_type": "execute_result"
    }
   ],
   "source": [
    "%viz --style=\"TB\" --view=\"Sequence\" \"PictureTaking\""
   ]
  },
  {
   "cell_type": "code",
   "execution_count": 50,
   "id": "4f7970b3",
   "metadata": {
    "execution": {
     "iopub.execute_input": "2021-04-20T07:32:05.066530Z",
     "iopub.status.busy": "2021-04-20T07:32:05.066154Z",
     "iopub.status.idle": "2021-04-20T07:32:05.105072Z",
     "shell.execute_reply": "2021-04-20T07:32:05.103790Z"
    }
   },
   "outputs": [
    {
     "data": {
      "image/svg+xml": [
       "<?xml version=\"1.0\" encoding=\"UTF-8\" standalone=\"no\"?><svg xmlns=\"http://www.w3.org/2000/svg\" xmlns:xlink=\"http://www.w3.org/1999/xlink\" contentScriptType=\"application/ecmascript\" contentStyleType=\"text/css\" height=\"455px\" preserveAspectRatio=\"none\" style=\"width:700px;height:455px;\" version=\"1.1\" viewBox=\"0 0 700 455\" width=\"700px\" zoomAndPan=\"magnify\"><defs/><g><!--MD5=[fbc87193dbaf4d95561dea2c320d4a47]\n",
       "cluster E1--><a href=\"psysml:14e6fe4c-a4d9-4c34-a316-9cbabb101fb1\" target=\"_top\" title=\"psysml:14e6fe4c-a4d9-4c34-a316-9cbabb101fb1\" xlink:actuate=\"onRequest\" xlink:href=\"psysml:14e6fe4c-a4d9-4c34-a316-9cbabb101fb1\" xlink:show=\"new\" xlink:title=\"psysml:14e6fe4c-a4d9-4c34-a316-9cbabb101fb1\" xlink:type=\"simple\"><polygon fill=\"#FFFFFF\" points=\"16,6,130,6,137,28.2969,678,28.2969,678,443.5,16,443.5,16,6\" style=\"stroke: #000000; stroke-width: 1.5;\"/><line style=\"stroke: #000000; stroke-width: 1.5;\" x1=\"16\" x2=\"137\" y1=\"28.2969\" y2=\"28.2969\"/><text fill=\"#000000\" font-family=\"sans-serif\" font-size=\"14\" font-weight=\"bold\" lengthAdjust=\"spacingAndGlyphs\" textLength=\"108\" x=\"20\" y=\"20.9951\">PictureTaking</text></a><!--MD5=[d5e69f78d87373223dbae638b30a9c99]\n",
       "cluster E3--><a href=\"psysml:44676d48-2ba6-47f9-b761-758fcbe31dbd\" target=\"_top\" title=\"psysml:44676d48-2ba6-47f9-b761-758fcbe31dbd\" xlink:actuate=\"onRequest\" xlink:href=\"psysml:44676d48-2ba6-47f9-b761-758fcbe31dbd\" xlink:show=\"new\" xlink:title=\"psysml:44676d48-2ba6-47f9-b761-758fcbe31dbd\" xlink:type=\"simple\"><rect fill=\"#FFFFFF\" height=\"217.5\" id=\"E3\" style=\"stroke: #383838; stroke-width: 1.5;\" width=\"134\" x=\"528\" y=\"100\"/><rect fill=\"#F8F8F8\" height=\"37.9375\" style=\"stroke: #383838; stroke-width: 1.5;\" width=\"134\" x=\"528\" y=\"100\"/><text fill=\"#000000\" font-family=\"sans-serif\" font-size=\"12\" font-style=\"italic\" lengthAdjust=\"spacingAndGlyphs\" textLength=\"77\" x=\"556.5\" y=\"116.1387\">«action def»</text><text fill=\"#000000\" font-family=\"sans-serif\" font-size=\"12\" lengthAdjust=\"spacingAndGlyphs\" textLength=\"37\" x=\"576.5\" y=\"130.1074\">Focus</text></a><!--MD5=[de5ec2e2e8f62f467e546659f5068c88]\n",
       "cluster E5--><a href=\"psysml:d9adf687-8d42-42d3-b1b5-8b6413ee0fad\" target=\"_top\" title=\"psysml:d9adf687-8d42-42d3-b1b5-8b6413ee0fad\" xlink:actuate=\"onRequest\" xlink:href=\"psysml:d9adf687-8d42-42d3-b1b5-8b6413ee0fad\" xlink:show=\"new\" xlink:title=\"psysml:d9adf687-8d42-42d3-b1b5-8b6413ee0fad\" xlink:type=\"simple\"><rect fill=\"#FFFFFF\" height=\"134\" id=\"E5\" style=\"stroke: #383838; stroke-width: 1.5;\" width=\"134\" x=\"386\" y=\"133.5\"/><rect fill=\"#F8F8F8\" height=\"37.9375\" style=\"stroke: #383838; stroke-width: 1.5;\" width=\"134\" x=\"386\" y=\"133.5\"/><text fill=\"#000000\" font-family=\"sans-serif\" font-size=\"12\" font-style=\"italic\" lengthAdjust=\"spacingAndGlyphs\" textLength=\"77\" x=\"414.5\" y=\"149.6387\">«action def»</text><text fill=\"#000000\" font-family=\"sans-serif\" font-size=\"12\" lengthAdjust=\"spacingAndGlyphs\" textLength=\"37\" x=\"434.5\" y=\"163.6074\">Shoot</text></a><!--MD5=[168fadf3d0c3fd93dd5d6da1b1d7ab76]\n",
       "cluster E7--><a href=\"psysml:704c53cf-e737-43c7-aaa6-afd6aa41e73e\" target=\"_top\" title=\"psysml:704c53cf-e737-43c7-aaa6-afd6aa41e73e\" xlink:actuate=\"onRequest\" xlink:href=\"psysml:704c53cf-e737-43c7-aaa6-afd6aa41e73e\" xlink:show=\"new\" xlink:title=\"psysml:704c53cf-e737-43c7-aaa6-afd6aa41e73e\" xlink:type=\"simple\"><rect fill=\"#FFFFFF\" height=\"370.5\" id=\"E7\" rx=\"10\" ry=\"10\" style=\"stroke: #383838; stroke-width: 1.5;\" width=\"256\" x=\"114\" y=\"49\"/><rect fill=\"#F8F8F8\" height=\"37.9375\" rx=\"10\" ry=\"10\" style=\"stroke: #F8F8F8; stroke-width: 1.5;\" width=\"256\" x=\"114\" y=\"49\"/><rect fill=\"#F8F8F8\" height=\"10\" style=\"stroke: #F8F8F8; stroke-width: 1.5;\" width=\"256\" x=\"114\" y=\"76.9375\"/><rect fill=\"none\" height=\"370.5\" id=\"E7\" rx=\"10\" ry=\"10\" style=\"stroke: #383838; stroke-width: 1.5;\" width=\"256\" x=\"114\" y=\"49\"/><text fill=\"#000000\" font-family=\"sans-serif\" font-size=\"12\" font-style=\"italic\" lengthAdjust=\"spacingAndGlyphs\" textLength=\"53\" x=\"215.5\" y=\"65.1387\">«action»</text><text fill=\"#000000\" font-family=\"sans-serif\" font-size=\"12\" lengthAdjust=\"spacingAndGlyphs\" textLength=\"72\" x=\"206\" y=\"79.1074\">takePicture</text><line style=\"stroke: #383838; stroke-width: 1.0;\" x1=\"114\" x2=\"370\" y1=\"86.9375\" y2=\"86.9375\"/></a><!--MD5=[55dfccfc6c49c2d10cd1bd2211a6c90c]\n",
       "cluster E8--><a href=\"psysml:247459c4-dc1c-41f3-9bbd-2210d0a14144\" target=\"_top\" title=\"psysml:247459c4-dc1c-41f3-9bbd-2210d0a14144\" xlink:actuate=\"onRequest\" xlink:href=\"psysml:247459c4-dc1c-41f3-9bbd-2210d0a14144\" xlink:show=\"new\" xlink:title=\"psysml:247459c4-dc1c-41f3-9bbd-2210d0a14144\" xlink:type=\"simple\"><rect fill=\"#FFFFFF\" height=\"217.5\" id=\"E8\" rx=\"10\" ry=\"10\" style=\"stroke: #383838; stroke-width: 1.5;\" width=\"83\" x=\"257\" y=\"100\"/><rect fill=\"#F8F8F8\" height=\"37.9375\" rx=\"10\" ry=\"10\" style=\"stroke: #F8F8F8; stroke-width: 1.5;\" width=\"83\" x=\"257\" y=\"100\"/><rect fill=\"#F8F8F8\" height=\"10\" style=\"stroke: #F8F8F8; stroke-width: 1.5;\" width=\"83\" x=\"257\" y=\"127.9375\"/><rect fill=\"none\" height=\"217.5\" id=\"E8\" rx=\"10\" ry=\"10\" style=\"stroke: #383838; stroke-width: 1.5;\" width=\"83\" x=\"257\" y=\"100\"/><text fill=\"#000000\" font-family=\"sans-serif\" font-size=\"12\" font-style=\"italic\" lengthAdjust=\"spacingAndGlyphs\" textLength=\"53\" x=\"272\" y=\"116.1387\">«action»</text><text fill=\"#000000\" font-family=\"sans-serif\" font-size=\"12\" lengthAdjust=\"spacingAndGlyphs\" textLength=\"34\" x=\"281.5\" y=\"130.1074\">focus</text><line style=\"stroke: #383838; stroke-width: 1.0;\" x1=\"257\" x2=\"340\" y1=\"137.9375\" y2=\"137.9375\"/></a><!--MD5=[917b9dd0c7eca3ee5f47219d1a84c0ad]\n",
       "cluster E11--><a href=\"psysml:d7e0c4ce-9a2d-4e4d-8f17-58d415aecc73\" target=\"_top\" title=\"psysml:d7e0c4ce-9a2d-4e4d-8f17-58d415aecc73\" xlink:actuate=\"onRequest\" xlink:href=\"psysml:d7e0c4ce-9a2d-4e4d-8f17-58d415aecc73\" xlink:show=\"new\" xlink:title=\"psysml:d7e0c4ce-9a2d-4e4d-8f17-58d415aecc73\" xlink:type=\"simple\"><rect fill=\"#FFFFFF\" height=\"256\" id=\"E11\" rx=\"10\" ry=\"10\" style=\"stroke: #383838; stroke-width: 1.5;\" width=\"74\" x=\"164\" y=\"133.5\"/><rect fill=\"#F8F8F8\" height=\"37.9375\" rx=\"10\" ry=\"10\" style=\"stroke: #F8F8F8; stroke-width: 1.5;\" width=\"74\" x=\"164\" y=\"133.5\"/><rect fill=\"#F8F8F8\" height=\"10\" style=\"stroke: #F8F8F8; stroke-width: 1.5;\" width=\"74\" x=\"164\" y=\"161.4375\"/><rect fill=\"none\" height=\"256\" id=\"E11\" rx=\"10\" ry=\"10\" style=\"stroke: #383838; stroke-width: 1.5;\" width=\"74\" x=\"164\" y=\"133.5\"/><text fill=\"#000000\" font-family=\"sans-serif\" font-size=\"12\" font-style=\"italic\" lengthAdjust=\"spacingAndGlyphs\" textLength=\"53\" x=\"174.5\" y=\"149.6387\">«action»</text><text fill=\"#000000\" font-family=\"sans-serif\" font-size=\"12\" lengthAdjust=\"spacingAndGlyphs\" textLength=\"36\" x=\"183\" y=\"163.6074\">shoot</text><line style=\"stroke: #383838; stroke-width: 1.0;\" x1=\"164\" x2=\"238\" y1=\"171.4375\" y2=\"171.4375\"/></a><!--MD5=[b4997ac47864f28c2f74865a473b2911]\n",
       "class E2--><a href=\"psysml:9a8bab7b-7078-4a6b-add3-8a1328b0c2d6\" target=\"_top\" title=\"psysml:9a8bab7b-7078-4a6b-add3-8a1328b0c2d6\" xlink:actuate=\"onRequest\" xlink:href=\"psysml:9a8bab7b-7078-4a6b-add3-8a1328b0c2d6\" xlink:show=\"new\" xlink:title=\"psysml:9a8bab7b-7078-4a6b-add3-8a1328b0c2d6\" xlink:type=\"simple\"><rect fill=\"#FFFFFF\" height=\"45.9375\" id=\"E2\" style=\"stroke: #383838; stroke-width: 1.5;\" width=\"66\" x=\"32\" y=\"110.5\"/><text fill=\"#000000\" font-family=\"sans-serif\" font-size=\"12\" font-style=\"italic\" lengthAdjust=\"spacingAndGlyphs\" textLength=\"64\" x=\"33\" y=\"126.6387\">«part def»</text><text fill=\"#000000\" font-family=\"sans-serif\" font-size=\"12\" lengthAdjust=\"spacingAndGlyphs\" textLength=\"58\" x=\"36\" y=\"140.6074\">Exposure</text><line style=\"stroke: #383838; stroke-width: 1.5;\" x1=\"33\" x2=\"97\" y1=\"148.4375\" y2=\"148.4375\"/></a><text fill=\"#000000\" font-family=\"sans-serif\" font-size=\"14\" lengthAdjust=\"spacingAndGlyphs\" textLength=\"23\" x=\"583.5\" y=\"336.4951\">xrsl</text><rect fill=\"#383838\" height=\"12\" style=\"stroke: #F8F8F8; stroke-width: 1.5;\" width=\"12\" x=\"589\" y=\"311.5\"/><text fill=\"#000000\" font-family=\"sans-serif\" font-size=\"14\" lengthAdjust=\"spacingAndGlyphs\" textLength=\"19\" x=\"443.5\" y=\"112.1982\">xsf</text><rect fill=\"#383838\" height=\"12\" style=\"stroke: #F8F8F8; stroke-width: 1.5;\" width=\"12\" x=\"447\" y=\"127.5\"/><text fill=\"#000000\" font-family=\"sans-serif\" font-size=\"14\" lengthAdjust=\"spacingAndGlyphs\" textLength=\"48\" x=\"251\" y=\"336.4951\">$result</text><rect fill=\"#383838\" height=\"12\" style=\"stroke: #F8F8F8; stroke-width: 1.5;\" width=\"12\" x=\"269\" y=\"311.5\"/><text fill=\"#000000\" font-family=\"sans-serif\" font-size=\"14\" lengthAdjust=\"spacingAndGlyphs\" textLength=\"23\" x=\"310.5\" y=\"336.4951\">xrsl</text><rect fill=\"#383838\" height=\"12\" style=\"stroke: #F8F8F8; stroke-width: 1.5;\" width=\"12\" x=\"316\" y=\"311.5\"/><text fill=\"#000000\" font-family=\"sans-serif\" font-size=\"14\" lengthAdjust=\"spacingAndGlyphs\" textLength=\"48\" x=\"158\" y=\"408.4951\">$result</text><rect fill=\"#383838\" height=\"12\" style=\"stroke: #F8F8F8; stroke-width: 1.5;\" width=\"12\" x=\"176\" y=\"383.5\"/><text fill=\"#000000\" font-family=\"sans-serif\" font-size=\"14\" lengthAdjust=\"spacingAndGlyphs\" textLength=\"19\" x=\"174.5\" y=\"112.1982\">xsf</text><rect fill=\"#383838\" height=\"12\" style=\"stroke: #F8F8F8; stroke-width: 1.5;\" width=\"12\" x=\"178\" y=\"127.5\"/><!--MD5=[48285b493940ef37ae81ff7a3461f8b5]\n",
       "@startuml\r\n",
       "top to bottom direction\r\n",
       "skinparam monochrome true\r\n",
       "skinparam classbackgroundcolor white\r\n",
       "skinparam shadowing false\r\n",
       "skinparam wrapWidth 300\r\n",
       "hide circle\r\n",
       "\r\n",
       "package \"PictureTaking\" as E1  [[psysml:14e6fe4c-a4d9-4c34-a316-9cbabb101fb1 ]]  {\r\n",
       "comp def \"Exposure\" as E2  <<(T,blue)part def>> [[psysml:9a8bab7b-7078-4a6b-add3-8a1328b0c2d6 ]] {\r\n",
       "}\r\n",
       "rec def \"Focus\" as E3  <<(T,blue)action def>> [[psysml:44676d48-2ba6-47f9-b761-758fcbe31dbd ]] {\r\n",
       "portout \"xrsl\" as E4  [[psysml:7285223f-23e3-4ded-a1a3-c8dbe746ff9d ]] \r\n",
       "}\r\n",
       "\r\n",
       "rec def \"Shoot\" as E5  <<(T,blue)action def>> [[psysml:d9adf687-8d42-42d3-b1b5-8b6413ee0fad ]] {\r\n",
       "portin \"xsf\" as E6  [[psysml:3f6601e8-74ad-4acc-b654-2e93fe2ad4c3 ]] \r\n",
       "}\r\n",
       "\r\n",
       "rec usage \"takePicture\" as E7  <<(T,blue)action>> [[psysml:704c53cf-e737-43c7-aaa6-afd6aa41e73e ]] {\r\n",
       "rec usage \"focus\" as E8  <<(T,blue)action>> [[psysml:247459c4-dc1c-41f3-9bbd-2210d0a14144 ]] {\r\n",
       "portout \"$result\" as E9  [[psysml:d24c4944-7685-4e9e-b1e9-aa0857e67b68 ]] \r\n",
       "portout \"xrsl\" as E10  [[psysml:a9b63f0e-a7c1-4470-82ae-da9c74073d16 ]] \r\n",
       "}\r\n",
       "\r\n",
       "rec usage \"shoot\" as E11  <<(T,blue)action>> [[psysml:d7e0c4ce-9a2d-4e4d-8f17-58d415aecc73 ]] {\r\n",
       "portout \"$result\" as E12  [[psysml:edaf4370-9fef-4792-934f-b7a89f5913cc ]] \r\n",
       "portin \"xsf\" as E13  [[psysml:1ee0e316-c080-4a1b-aa8d-122e3ae24dab ]] \r\n",
       "}\r\n",
       "\r\n",
       "}\r\n",
       "\r\n",
       "}\r\n",
       "@enduml\r\n",
       "\n",
       "PlantUML version 1.2020.13(Sat Jun 13 12:26:38 UTC 2020)\n",
       "(EPL source distribution)\n",
       "Java Runtime: OpenJDK Runtime Environment\n",
       "JVM: OpenJDK 64-Bit Server VM\n",
       "Default Encoding: UTF-8\n",
       "Language: en\n",
       "Country: null\n",
       "--></g></svg>"
      ]
     },
     "execution_count": 50,
     "metadata": {},
     "output_type": "execute_result"
    }
   ],
   "source": [
    "%viz --style=\"TB\" --view=\"MIXED\" \"PictureTaking\""
   ]
  },
  {
   "cell_type": "code",
   "execution_count": 51,
   "id": "3cdbf21a",
   "metadata": {
    "execution": {
     "iopub.execute_input": "2021-04-20T07:32:05.154930Z",
     "iopub.status.busy": "2021-04-20T07:32:05.154525Z",
     "iopub.status.idle": "2021-04-20T07:32:05.194276Z",
     "shell.execute_reply": "2021-04-20T07:32:05.192822Z"
    }
   },
   "outputs": [
    {
     "data": {
      "image/svg+xml": [
       "<?xml version=\"1.0\" encoding=\"UTF-8\" standalone=\"no\"?><svg xmlns=\"http://www.w3.org/2000/svg\" xmlns:xlink=\"http://www.w3.org/1999/xlink\" contentScriptType=\"application/ecmascript\" contentStyleType=\"text/css\" height=\"455px\" preserveAspectRatio=\"none\" style=\"width:700px;height:455px;\" version=\"1.1\" viewBox=\"0 0 700 455\" width=\"700px\" zoomAndPan=\"magnify\"><defs/><g><!--MD5=[fbc87193dbaf4d95561dea2c320d4a47]\n",
       "cluster E1--><a href=\"psysml:14e6fe4c-a4d9-4c34-a316-9cbabb101fb1\" target=\"_top\" title=\"psysml:14e6fe4c-a4d9-4c34-a316-9cbabb101fb1\" xlink:actuate=\"onRequest\" xlink:href=\"psysml:14e6fe4c-a4d9-4c34-a316-9cbabb101fb1\" xlink:show=\"new\" xlink:title=\"psysml:14e6fe4c-a4d9-4c34-a316-9cbabb101fb1\" xlink:type=\"simple\"><polygon fill=\"#FFFFFF\" points=\"16,6,130,6,137,28.2969,678,28.2969,678,443.5,16,443.5,16,6\" style=\"stroke: #000000; stroke-width: 1.5;\"/><line style=\"stroke: #000000; stroke-width: 1.5;\" x1=\"16\" x2=\"137\" y1=\"28.2969\" y2=\"28.2969\"/><text fill=\"#000000\" font-family=\"sans-serif\" font-size=\"14\" font-weight=\"bold\" lengthAdjust=\"spacingAndGlyphs\" textLength=\"108\" x=\"20\" y=\"20.9951\">PictureTaking</text></a><!--MD5=[d5e69f78d87373223dbae638b30a9c99]\n",
       "cluster E3--><a href=\"psysml:44676d48-2ba6-47f9-b761-758fcbe31dbd\" target=\"_top\" title=\"psysml:44676d48-2ba6-47f9-b761-758fcbe31dbd\" xlink:actuate=\"onRequest\" xlink:href=\"psysml:44676d48-2ba6-47f9-b761-758fcbe31dbd\" xlink:show=\"new\" xlink:title=\"psysml:44676d48-2ba6-47f9-b761-758fcbe31dbd\" xlink:type=\"simple\"><rect fill=\"#FFFFFF\" height=\"217.5\" id=\"E3\" style=\"stroke: #383838; stroke-width: 1.5;\" width=\"134\" x=\"528\" y=\"100\"/><rect fill=\"#F8F8F8\" height=\"37.9375\" style=\"stroke: #383838; stroke-width: 1.5;\" width=\"134\" x=\"528\" y=\"100\"/><text fill=\"#000000\" font-family=\"sans-serif\" font-size=\"12\" font-style=\"italic\" lengthAdjust=\"spacingAndGlyphs\" textLength=\"77\" x=\"556.5\" y=\"116.1387\">«action def»</text><text fill=\"#000000\" font-family=\"sans-serif\" font-size=\"12\" lengthAdjust=\"spacingAndGlyphs\" textLength=\"37\" x=\"576.5\" y=\"130.1074\">Focus</text></a><!--MD5=[de5ec2e2e8f62f467e546659f5068c88]\n",
       "cluster E5--><a href=\"psysml:d9adf687-8d42-42d3-b1b5-8b6413ee0fad\" target=\"_top\" title=\"psysml:d9adf687-8d42-42d3-b1b5-8b6413ee0fad\" xlink:actuate=\"onRequest\" xlink:href=\"psysml:d9adf687-8d42-42d3-b1b5-8b6413ee0fad\" xlink:show=\"new\" xlink:title=\"psysml:d9adf687-8d42-42d3-b1b5-8b6413ee0fad\" xlink:type=\"simple\"><rect fill=\"#FFFFFF\" height=\"134\" id=\"E5\" style=\"stroke: #383838; stroke-width: 1.5;\" width=\"134\" x=\"386\" y=\"133.5\"/><rect fill=\"#F8F8F8\" height=\"37.9375\" style=\"stroke: #383838; stroke-width: 1.5;\" width=\"134\" x=\"386\" y=\"133.5\"/><text fill=\"#000000\" font-family=\"sans-serif\" font-size=\"12\" font-style=\"italic\" lengthAdjust=\"spacingAndGlyphs\" textLength=\"77\" x=\"414.5\" y=\"149.6387\">«action def»</text><text fill=\"#000000\" font-family=\"sans-serif\" font-size=\"12\" lengthAdjust=\"spacingAndGlyphs\" textLength=\"37\" x=\"434.5\" y=\"163.6074\">Shoot</text></a><!--MD5=[168fadf3d0c3fd93dd5d6da1b1d7ab76]\n",
       "cluster E7--><a href=\"psysml:704c53cf-e737-43c7-aaa6-afd6aa41e73e\" target=\"_top\" title=\"psysml:704c53cf-e737-43c7-aaa6-afd6aa41e73e\" xlink:actuate=\"onRequest\" xlink:href=\"psysml:704c53cf-e737-43c7-aaa6-afd6aa41e73e\" xlink:show=\"new\" xlink:title=\"psysml:704c53cf-e737-43c7-aaa6-afd6aa41e73e\" xlink:type=\"simple\"><rect fill=\"#FFFFFF\" height=\"370.5\" id=\"E7\" rx=\"10\" ry=\"10\" style=\"stroke: #383838; stroke-width: 1.5;\" width=\"256\" x=\"114\" y=\"49\"/><rect fill=\"#F8F8F8\" height=\"37.9375\" rx=\"10\" ry=\"10\" style=\"stroke: #F8F8F8; stroke-width: 1.5;\" width=\"256\" x=\"114\" y=\"49\"/><rect fill=\"#F8F8F8\" height=\"10\" style=\"stroke: #F8F8F8; stroke-width: 1.5;\" width=\"256\" x=\"114\" y=\"76.9375\"/><rect fill=\"none\" height=\"370.5\" id=\"E7\" rx=\"10\" ry=\"10\" style=\"stroke: #383838; stroke-width: 1.5;\" width=\"256\" x=\"114\" y=\"49\"/><text fill=\"#000000\" font-family=\"sans-serif\" font-size=\"12\" font-style=\"italic\" lengthAdjust=\"spacingAndGlyphs\" textLength=\"53\" x=\"215.5\" y=\"65.1387\">«action»</text><text fill=\"#000000\" font-family=\"sans-serif\" font-size=\"12\" lengthAdjust=\"spacingAndGlyphs\" textLength=\"72\" x=\"206\" y=\"79.1074\">takePicture</text><line style=\"stroke: #383838; stroke-width: 1.0;\" x1=\"114\" x2=\"370\" y1=\"86.9375\" y2=\"86.9375\"/></a><!--MD5=[55dfccfc6c49c2d10cd1bd2211a6c90c]\n",
       "cluster E8--><a href=\"psysml:247459c4-dc1c-41f3-9bbd-2210d0a14144\" target=\"_top\" title=\"psysml:247459c4-dc1c-41f3-9bbd-2210d0a14144\" xlink:actuate=\"onRequest\" xlink:href=\"psysml:247459c4-dc1c-41f3-9bbd-2210d0a14144\" xlink:show=\"new\" xlink:title=\"psysml:247459c4-dc1c-41f3-9bbd-2210d0a14144\" xlink:type=\"simple\"><rect fill=\"#FFFFFF\" height=\"217.5\" id=\"E8\" rx=\"10\" ry=\"10\" style=\"stroke: #383838; stroke-width: 1.5;\" width=\"83\" x=\"257\" y=\"100\"/><rect fill=\"#F8F8F8\" height=\"37.9375\" rx=\"10\" ry=\"10\" style=\"stroke: #F8F8F8; stroke-width: 1.5;\" width=\"83\" x=\"257\" y=\"100\"/><rect fill=\"#F8F8F8\" height=\"10\" style=\"stroke: #F8F8F8; stroke-width: 1.5;\" width=\"83\" x=\"257\" y=\"127.9375\"/><rect fill=\"none\" height=\"217.5\" id=\"E8\" rx=\"10\" ry=\"10\" style=\"stroke: #383838; stroke-width: 1.5;\" width=\"83\" x=\"257\" y=\"100\"/><text fill=\"#000000\" font-family=\"sans-serif\" font-size=\"12\" font-style=\"italic\" lengthAdjust=\"spacingAndGlyphs\" textLength=\"53\" x=\"272\" y=\"116.1387\">«action»</text><text fill=\"#000000\" font-family=\"sans-serif\" font-size=\"12\" lengthAdjust=\"spacingAndGlyphs\" textLength=\"34\" x=\"281.5\" y=\"130.1074\">focus</text><line style=\"stroke: #383838; stroke-width: 1.0;\" x1=\"257\" x2=\"340\" y1=\"137.9375\" y2=\"137.9375\"/></a><!--MD5=[917b9dd0c7eca3ee5f47219d1a84c0ad]\n",
       "cluster E11--><a href=\"psysml:d7e0c4ce-9a2d-4e4d-8f17-58d415aecc73\" target=\"_top\" title=\"psysml:d7e0c4ce-9a2d-4e4d-8f17-58d415aecc73\" xlink:actuate=\"onRequest\" xlink:href=\"psysml:d7e0c4ce-9a2d-4e4d-8f17-58d415aecc73\" xlink:show=\"new\" xlink:title=\"psysml:d7e0c4ce-9a2d-4e4d-8f17-58d415aecc73\" xlink:type=\"simple\"><rect fill=\"#FFFFFF\" height=\"256\" id=\"E11\" rx=\"10\" ry=\"10\" style=\"stroke: #383838; stroke-width: 1.5;\" width=\"74\" x=\"164\" y=\"133.5\"/><rect fill=\"#F8F8F8\" height=\"37.9375\" rx=\"10\" ry=\"10\" style=\"stroke: #F8F8F8; stroke-width: 1.5;\" width=\"74\" x=\"164\" y=\"133.5\"/><rect fill=\"#F8F8F8\" height=\"10\" style=\"stroke: #F8F8F8; stroke-width: 1.5;\" width=\"74\" x=\"164\" y=\"161.4375\"/><rect fill=\"none\" height=\"256\" id=\"E11\" rx=\"10\" ry=\"10\" style=\"stroke: #383838; stroke-width: 1.5;\" width=\"74\" x=\"164\" y=\"133.5\"/><text fill=\"#000000\" font-family=\"sans-serif\" font-size=\"12\" font-style=\"italic\" lengthAdjust=\"spacingAndGlyphs\" textLength=\"53\" x=\"174.5\" y=\"149.6387\">«action»</text><text fill=\"#000000\" font-family=\"sans-serif\" font-size=\"12\" lengthAdjust=\"spacingAndGlyphs\" textLength=\"36\" x=\"183\" y=\"163.6074\">shoot</text><line style=\"stroke: #383838; stroke-width: 1.0;\" x1=\"164\" x2=\"238\" y1=\"171.4375\" y2=\"171.4375\"/></a><!--MD5=[b4997ac47864f28c2f74865a473b2911]\n",
       "class E2--><a href=\"psysml:9a8bab7b-7078-4a6b-add3-8a1328b0c2d6\" target=\"_top\" title=\"psysml:9a8bab7b-7078-4a6b-add3-8a1328b0c2d6\" xlink:actuate=\"onRequest\" xlink:href=\"psysml:9a8bab7b-7078-4a6b-add3-8a1328b0c2d6\" xlink:show=\"new\" xlink:title=\"psysml:9a8bab7b-7078-4a6b-add3-8a1328b0c2d6\" xlink:type=\"simple\"><rect fill=\"#FFFFFF\" height=\"45.9375\" id=\"E2\" style=\"stroke: #383838; stroke-width: 1.5;\" width=\"66\" x=\"32\" y=\"110.5\"/><text fill=\"#000000\" font-family=\"sans-serif\" font-size=\"12\" font-style=\"italic\" lengthAdjust=\"spacingAndGlyphs\" textLength=\"64\" x=\"33\" y=\"126.6387\">«part def»</text><text fill=\"#000000\" font-family=\"sans-serif\" font-size=\"12\" lengthAdjust=\"spacingAndGlyphs\" textLength=\"58\" x=\"36\" y=\"140.6074\">Exposure</text><line style=\"stroke: #383838; stroke-width: 1.5;\" x1=\"33\" x2=\"97\" y1=\"148.4375\" y2=\"148.4375\"/></a><text fill=\"#000000\" font-family=\"sans-serif\" font-size=\"14\" lengthAdjust=\"spacingAndGlyphs\" textLength=\"23\" x=\"583.5\" y=\"336.4951\">xrsl</text><rect fill=\"#383838\" height=\"12\" style=\"stroke: #F8F8F8; stroke-width: 1.5;\" width=\"12\" x=\"589\" y=\"311.5\"/><text fill=\"#000000\" font-family=\"sans-serif\" font-size=\"14\" lengthAdjust=\"spacingAndGlyphs\" textLength=\"19\" x=\"443.5\" y=\"112.1982\">xsf</text><rect fill=\"#383838\" height=\"12\" style=\"stroke: #F8F8F8; stroke-width: 1.5;\" width=\"12\" x=\"447\" y=\"127.5\"/><text fill=\"#000000\" font-family=\"sans-serif\" font-size=\"14\" lengthAdjust=\"spacingAndGlyphs\" textLength=\"48\" x=\"251\" y=\"336.4951\">$result</text><rect fill=\"#383838\" height=\"12\" style=\"stroke: #F8F8F8; stroke-width: 1.5;\" width=\"12\" x=\"269\" y=\"311.5\"/><text fill=\"#000000\" font-family=\"sans-serif\" font-size=\"14\" lengthAdjust=\"spacingAndGlyphs\" textLength=\"23\" x=\"310.5\" y=\"336.4951\">xrsl</text><rect fill=\"#383838\" height=\"12\" style=\"stroke: #F8F8F8; stroke-width: 1.5;\" width=\"12\" x=\"316\" y=\"311.5\"/><text fill=\"#000000\" font-family=\"sans-serif\" font-size=\"14\" lengthAdjust=\"spacingAndGlyphs\" textLength=\"48\" x=\"158\" y=\"408.4951\">$result</text><rect fill=\"#383838\" height=\"12\" style=\"stroke: #F8F8F8; stroke-width: 1.5;\" width=\"12\" x=\"176\" y=\"383.5\"/><text fill=\"#000000\" font-family=\"sans-serif\" font-size=\"14\" lengthAdjust=\"spacingAndGlyphs\" textLength=\"19\" x=\"174.5\" y=\"112.1982\">xsf</text><rect fill=\"#383838\" height=\"12\" style=\"stroke: #F8F8F8; stroke-width: 1.5;\" width=\"12\" x=\"178\" y=\"127.5\"/><!--MD5=[4b39ac80c1e1f03e6733bcd69291f537]\n",
       "@startuml\r\n",
       "skinparam linetype ortho\r\n",
       "skinparam monochrome true\r\n",
       "skinparam classbackgroundcolor white\r\n",
       "skinparam shadowing false\r\n",
       "skinparam wrapWidth 300\r\n",
       "hide circle\r\n",
       "\r\n",
       "package \"PictureTaking\" as E1  [[psysml:14e6fe4c-a4d9-4c34-a316-9cbabb101fb1 ]]  {\r\n",
       "comp def \"Exposure\" as E2  <<(T,blue)part def>> [[psysml:9a8bab7b-7078-4a6b-add3-8a1328b0c2d6 ]] {\r\n",
       "}\r\n",
       "rec def \"Focus\" as E3  <<(T,blue)action def>> [[psysml:44676d48-2ba6-47f9-b761-758fcbe31dbd ]] {\r\n",
       "portout \"xrsl\" as E4  [[psysml:7285223f-23e3-4ded-a1a3-c8dbe746ff9d ]] \r\n",
       "}\r\n",
       "\r\n",
       "rec def \"Shoot\" as E5  <<(T,blue)action def>> [[psysml:d9adf687-8d42-42d3-b1b5-8b6413ee0fad ]] {\r\n",
       "portin \"xsf\" as E6  [[psysml:3f6601e8-74ad-4acc-b654-2e93fe2ad4c3 ]] \r\n",
       "}\r\n",
       "\r\n",
       "rec usage \"takePicture\" as E7  <<(T,blue)action>> [[psysml:704c53cf-e737-43c7-aaa6-afd6aa41e73e ]] {\r\n",
       "rec usage \"focus\" as E8  <<(T,blue)action>> [[psysml:247459c4-dc1c-41f3-9bbd-2210d0a14144 ]] {\r\n",
       "portout \"$result\" as E9  [[psysml:d24c4944-7685-4e9e-b1e9-aa0857e67b68 ]] \r\n",
       "portout \"xrsl\" as E10  [[psysml:a9b63f0e-a7c1-4470-82ae-da9c74073d16 ]] \r\n",
       "}\r\n",
       "\r\n",
       "rec usage \"shoot\" as E11  <<(T,blue)action>> [[psysml:d7e0c4ce-9a2d-4e4d-8f17-58d415aecc73 ]] {\r\n",
       "portout \"$result\" as E12  [[psysml:edaf4370-9fef-4792-934f-b7a89f5913cc ]] \r\n",
       "portin \"xsf\" as E13  [[psysml:1ee0e316-c080-4a1b-aa8d-122e3ae24dab ]] \r\n",
       "}\r\n",
       "\r\n",
       "}\r\n",
       "\r\n",
       "}\r\n",
       "@enduml\r\n",
       "\n",
       "PlantUML version 1.2020.13(Sat Jun 13 12:26:38 UTC 2020)\n",
       "(EPL source distribution)\n",
       "Java Runtime: OpenJDK Runtime Environment\n",
       "JVM: OpenJDK 64-Bit Server VM\n",
       "Default Encoding: UTF-8\n",
       "Language: en\n",
       "Country: null\n",
       "--></g></svg>"
      ]
     },
     "execution_count": 51,
     "metadata": {},
     "output_type": "execute_result"
    }
   ],
   "source": [
    "%viz --style=\"ORTHOLINE\" --view=\"Default\" \"PictureTaking\""
   ]
  },
  {
   "cell_type": "code",
   "execution_count": 52,
   "id": "6a8fe086",
   "metadata": {
    "execution": {
     "iopub.execute_input": "2021-04-20T07:32:05.244158Z",
     "iopub.status.busy": "2021-04-20T07:32:05.243677Z",
     "iopub.status.idle": "2021-04-20T07:32:05.271946Z",
     "shell.execute_reply": "2021-04-20T07:32:05.270680Z"
    }
   },
   "outputs": [
    {
     "data": {
      "image/svg+xml": [
       "<?xml version=\"1.0\" encoding=\"UTF-8\" standalone=\"no\"?><svg xmlns=\"http://www.w3.org/2000/svg\" xmlns:xlink=\"http://www.w3.org/1999/xlink\" contentScriptType=\"application/ecmascript\" contentStyleType=\"text/css\" height=\"452px\" preserveAspectRatio=\"none\" style=\"width:278px;height:452px;\" version=\"1.1\" viewBox=\"0 0 278 452\" width=\"278px\" zoomAndPan=\"magnify\"><defs/><g><!--MD5=[fbc87193dbaf4d95561dea2c320d4a47]\n",
       "cluster E1--><a href=\"psysml:14e6fe4c-a4d9-4c34-a316-9cbabb101fb1\" target=\"_top\" title=\"psysml:14e6fe4c-a4d9-4c34-a316-9cbabb101fb1\" xlink:actuate=\"onRequest\" xlink:href=\"psysml:14e6fe4c-a4d9-4c34-a316-9cbabb101fb1\" xlink:show=\"new\" xlink:title=\"psysml:14e6fe4c-a4d9-4c34-a316-9cbabb101fb1\" xlink:type=\"simple\"><polygon fill=\"#FFFFFF\" points=\"16,6,130,6,137,28.2969,256,28.2969,256,440,16,440,16,6\" style=\"stroke: #000000; stroke-width: 1.5;\"/><line style=\"stroke: #000000; stroke-width: 1.5;\" x1=\"16\" x2=\"137\" y1=\"28.2969\" y2=\"28.2969\"/><text fill=\"#000000\" font-family=\"sans-serif\" font-size=\"14\" font-weight=\"bold\" lengthAdjust=\"spacingAndGlyphs\" textLength=\"108\" x=\"20\" y=\"20.9951\">PictureTaking</text></a><!--MD5=[b4997ac47864f28c2f74865a473b2911]\n",
       "class E2--><a href=\"psysml:9a8bab7b-7078-4a6b-add3-8a1328b0c2d6\" target=\"_top\" title=\"psysml:9a8bab7b-7078-4a6b-add3-8a1328b0c2d6\" xlink:actuate=\"onRequest\" xlink:href=\"psysml:9a8bab7b-7078-4a6b-add3-8a1328b0c2d6\" xlink:show=\"new\" xlink:title=\"psysml:9a8bab7b-7078-4a6b-add3-8a1328b0c2d6\" xlink:type=\"simple\"><rect fill=\"#FFFFFF\" height=\"45.9375\" id=\"E2\" style=\"stroke: #383838; stroke-width: 1.5;\" width=\"66\" x=\"103\" y=\"378\"/><text fill=\"#000000\" font-family=\"sans-serif\" font-size=\"12\" font-style=\"italic\" lengthAdjust=\"spacingAndGlyphs\" textLength=\"64\" x=\"104\" y=\"394.1387\">«part def»</text><text fill=\"#000000\" font-family=\"sans-serif\" font-size=\"12\" lengthAdjust=\"spacingAndGlyphs\" textLength=\"58\" x=\"107\" y=\"408.1074\">Exposure</text><line style=\"stroke: #383838; stroke-width: 1.5;\" x1=\"104\" x2=\"168\" y1=\"415.9375\" y2=\"415.9375\"/></a><!--MD5=[09b614a08d8cba4a07c9adeb5e0fee81]\n",
       "class E3--><a href=\"psysml:44676d48-2ba6-47f9-b761-758fcbe31dbd\" target=\"_top\" title=\"psysml:44676d48-2ba6-47f9-b761-758fcbe31dbd\" xlink:actuate=\"onRequest\" xlink:href=\"psysml:44676d48-2ba6-47f9-b761-758fcbe31dbd\" xlink:show=\"new\" xlink:title=\"psysml:44676d48-2ba6-47f9-b761-758fcbe31dbd\" xlink:type=\"simple\"><rect fill=\"#FFFFFF\" height=\"45.9375\" id=\"E3\" style=\"stroke: #383838; stroke-width: 1.5;\" width=\"79\" x=\"38.5\" y=\"255\"/><text fill=\"#000000\" font-family=\"sans-serif\" font-size=\"12\" font-style=\"italic\" lengthAdjust=\"spacingAndGlyphs\" textLength=\"77\" x=\"39.5\" y=\"271.1387\">«action def»</text><text fill=\"#000000\" font-family=\"sans-serif\" font-size=\"12\" lengthAdjust=\"spacingAndGlyphs\" textLength=\"37\" x=\"59.5\" y=\"285.1074\">Focus</text><line style=\"stroke: #383838; stroke-width: 1.5;\" x1=\"39.5\" x2=\"116.5\" y1=\"292.9375\" y2=\"292.9375\"/></a><!--MD5=[ebbe1d658d1005bcc118a6aa81145e00]\n",
       "class E4--><a href=\"psysml:d9adf687-8d42-42d3-b1b5-8b6413ee0fad\" target=\"_top\" title=\"psysml:d9adf687-8d42-42d3-b1b5-8b6413ee0fad\" xlink:actuate=\"onRequest\" xlink:href=\"psysml:d9adf687-8d42-42d3-b1b5-8b6413ee0fad\" xlink:show=\"new\" xlink:title=\"psysml:d9adf687-8d42-42d3-b1b5-8b6413ee0fad\" xlink:type=\"simple\"><rect fill=\"#FFFFFF\" height=\"45.9375\" id=\"E4\" style=\"stroke: #383838; stroke-width: 1.5;\" width=\"79\" x=\"154.5\" y=\"255\"/><text fill=\"#000000\" font-family=\"sans-serif\" font-size=\"12\" font-style=\"italic\" lengthAdjust=\"spacingAndGlyphs\" textLength=\"77\" x=\"155.5\" y=\"271.1387\">«action def»</text><text fill=\"#000000\" font-family=\"sans-serif\" font-size=\"12\" lengthAdjust=\"spacingAndGlyphs\" textLength=\"37\" x=\"175.5\" y=\"285.1074\">Shoot</text><line style=\"stroke: #383838; stroke-width: 1.5;\" x1=\"155.5\" x2=\"232.5\" y1=\"292.9375\" y2=\"292.9375\"/></a><!--MD5=[270fce915f116d4de14055a7c1d9a0f3]\n",
       "class E5--><a href=\"psysml:704c53cf-e737-43c7-aaa6-afd6aa41e73e\" target=\"_top\" title=\"psysml:704c53cf-e737-43c7-aaa6-afd6aa41e73e\" xlink:actuate=\"onRequest\" xlink:href=\"psysml:704c53cf-e737-43c7-aaa6-afd6aa41e73e\" xlink:show=\"new\" xlink:title=\"psysml:704c53cf-e737-43c7-aaa6-afd6aa41e73e\" xlink:type=\"simple\"><rect fill=\"#FFFFFF\" height=\"45.9375\" id=\"E5\" rx=\"10\" ry=\"10\" style=\"stroke: #383838; stroke-width: 1.5;\" width=\"78\" x=\"96\" y=\"41\"/><text fill=\"#000000\" font-family=\"sans-serif\" font-size=\"12\" font-style=\"italic\" lengthAdjust=\"spacingAndGlyphs\" textLength=\"53\" x=\"108.5\" y=\"57.1387\">«action»</text><text fill=\"#000000\" font-family=\"sans-serif\" font-size=\"12\" lengthAdjust=\"spacingAndGlyphs\" textLength=\"72\" x=\"99\" y=\"71.1074\">takePicture</text><line style=\"stroke: #383838; stroke-width: 1.5;\" x1=\"97\" x2=\"173\" y1=\"78.9375\" y2=\"78.9375\"/></a><!--MD5=[60a26617385b1d2d0262a64233df1f8d]\n",
       "class E6--><a href=\"psysml:247459c4-dc1c-41f3-9bbd-2210d0a14144\" target=\"_top\" title=\"psysml:247459c4-dc1c-41f3-9bbd-2210d0a14144\" xlink:actuate=\"onRequest\" xlink:href=\"psysml:247459c4-dc1c-41f3-9bbd-2210d0a14144\" xlink:show=\"new\" xlink:title=\"psysml:247459c4-dc1c-41f3-9bbd-2210d0a14144\" xlink:type=\"simple\"><rect fill=\"#FFFFFF\" height=\"45.9375\" id=\"E6\" rx=\"10\" ry=\"10\" style=\"stroke: #383838; stroke-width: 1.5;\" width=\"85\" x=\"32.5\" y=\"148\"/><text fill=\"#000000\" font-family=\"sans-serif\" font-size=\"12\" font-style=\"italic\" lengthAdjust=\"spacingAndGlyphs\" textLength=\"53\" x=\"48.5\" y=\"164.1387\">«action»</text><text fill=\"#000000\" font-family=\"sans-serif\" font-size=\"12\" lengthAdjust=\"spacingAndGlyphs\" textLength=\"79\" x=\"35.5\" y=\"178.1074\">focus: Focus</text><line style=\"stroke: #383838; stroke-width: 1.5;\" x1=\"33.5\" x2=\"116.5\" y1=\"185.9375\" y2=\"185.9375\"/></a><!--MD5=[2156ba9850f5573cc1fc38a6a4b2f02b]\n",
       "class E7--><a href=\"psysml:d7e0c4ce-9a2d-4e4d-8f17-58d415aecc73\" target=\"_top\" title=\"psysml:d7e0c4ce-9a2d-4e4d-8f17-58d415aecc73\" xlink:actuate=\"onRequest\" xlink:href=\"psysml:d7e0c4ce-9a2d-4e4d-8f17-58d415aecc73\" xlink:show=\"new\" xlink:title=\"psysml:d7e0c4ce-9a2d-4e4d-8f17-58d415aecc73\" xlink:type=\"simple\"><rect fill=\"#FFFFFF\" height=\"45.9375\" id=\"E7\" rx=\"10\" ry=\"10\" style=\"stroke: #383838; stroke-width: 1.5;\" width=\"87\" x=\"152.5\" y=\"148\"/><text fill=\"#000000\" font-family=\"sans-serif\" font-size=\"12\" font-style=\"italic\" lengthAdjust=\"spacingAndGlyphs\" textLength=\"53\" x=\"169.5\" y=\"164.1387\">«action»</text><text fill=\"#000000\" font-family=\"sans-serif\" font-size=\"12\" lengthAdjust=\"spacingAndGlyphs\" textLength=\"81\" x=\"155.5\" y=\"178.1074\">shoot: Shoot</text><line style=\"stroke: #383838; stroke-width: 1.5;\" x1=\"153.5\" x2=\"238.5\" y1=\"185.9375\" y2=\"185.9375\"/></a><!--MD5=[b900ca4392aad7a68aec1e9245e10ab9]\n",
       "reverse link E3 to E2--><a href=\"psysml:7285223f-23e3-4ded-a1a3-c8dbe746ff9d\" target=\"_top\" title=\"psysml:7285223f-23e3-4ded-a1a3-c8dbe746ff9d\" xlink:actuate=\"onRequest\" xlink:href=\"psysml:7285223f-23e3-4ded-a1a3-c8dbe746ff9d\" xlink:show=\"new\" xlink:title=\"psysml:7285223f-23e3-4ded-a1a3-c8dbe746ff9d\" xlink:type=\"simple\"><path d=\"M110.25,314.14 C110.25,314.14 110.25,377.97 110.25,377.97 \" fill=\"none\" id=\"E3&lt;-E2\" style=\"stroke: #383838; stroke-width: 1.0;\"/><polygon fill=\"#FFFFFF\" points=\"110.25,301.14,106.25,307.14,110.25,313.14,114.25,307.14,110.25,301.14\" style=\"stroke: #383838; stroke-width: 1.0;\"/><text fill=\"#000000\" font-family=\"sans-serif\" font-size=\"13\" lengthAdjust=\"spacingAndGlyphs\" textLength=\"22\" x=\"92\" y=\"344.0669\">xrsl</text></a><!--MD5=[ddeed8deb2209213b62e6cfabaa108b2]\n",
       "reverse link E4 to E2--><a href=\"psysml:3f6601e8-74ad-4acc-b654-2e93fe2ad4c3\" target=\"_top\" title=\"psysml:3f6601e8-74ad-4acc-b654-2e93fe2ad4c3\" xlink:actuate=\"onRequest\" xlink:href=\"psysml:3f6601e8-74ad-4acc-b654-2e93fe2ad4c3\" xlink:show=\"new\" xlink:title=\"psysml:3f6601e8-74ad-4acc-b654-2e93fe2ad4c3\" xlink:type=\"simple\"><path d=\"M161.75,314.14 C161.75,314.14 161.75,377.97 161.75,377.97 \" fill=\"none\" id=\"E4&lt;-E2\" style=\"stroke: #383838; stroke-width: 1.0;\"/><polygon fill=\"#FFFFFF\" points=\"161.75,301.14,157.75,307.14,161.75,313.14,165.75,307.14,161.75,301.14\" style=\"stroke: #383838; stroke-width: 1.0;\"/><text fill=\"#000000\" font-family=\"sans-serif\" font-size=\"13\" lengthAdjust=\"spacingAndGlyphs\" textLength=\"18\" x=\"182\" y=\"344.0669\">xsf</text></a><!--MD5=[85d356282659285ab4b2cfe2f634dd2b]\n",
       "reverse link E5 to E6--><a href=\"psysml:b27ee466-0f4c-4005-a5ef-b2dd2df76771\" target=\"_top\" title=\"psysml:b27ee466-0f4c-4005-a5ef-b2dd2df76771\" xlink:actuate=\"onRequest\" xlink:href=\"psysml:b27ee466-0f4c-4005-a5ef-b2dd2df76771\" xlink:show=\"new\" xlink:title=\"psysml:b27ee466-0f4c-4005-a5ef-b2dd2df76771\" xlink:type=\"simple\"><path d=\"M106.75,100.22 C106.75,100.22 106.75,147.83 106.75,147.83 \" fill=\"none\" id=\"E5&lt;-E6\" style=\"stroke: #383838; stroke-width: 1.0;\"/><polygon fill=\"#383838\" points=\"106.75,87.22,102.75,93.22,106.75,99.22,110.75,93.22,106.75,87.22\" style=\"stroke: #383838; stroke-width: 1.0;\"/><text fill=\"#000000\" font-family=\"sans-serif\" font-size=\"13\" lengthAdjust=\"spacingAndGlyphs\" textLength=\"8\" x=\"105.8609\" y=\"137.0627\">1</text></a><!--MD5=[a717450b82c80b9240a525fa862496af]\n",
       "link E6 to E3--><a href=\"psysml:5a2a5603-bc94-4298-a763-49fe520ca5bc\" target=\"_top\" title=\"psysml:5a2a5603-bc94-4298-a763-49fe520ca5bc\" xlink:actuate=\"onRequest\" xlink:href=\"psysml:5a2a5603-bc94-4298-a763-49fe520ca5bc\" xlink:show=\"new\" xlink:title=\"psysml:5a2a5603-bc94-4298-a763-49fe520ca5bc\" xlink:type=\"simple\"><path d=\"M78,194.22 C78,194.22 78,234.83 78,234.83 \" fill=\"none\" id=\"E6-&gt;E3\" style=\"stroke: #383838; stroke-width: 1.0;\"/><polygon fill=\"#FFFFFF\" points=\"78,254.83,71,235.83,85,235.83,78,254.83\" style=\"stroke: #383838; stroke-width: 1.0;\"/><ellipse cx=\"73\" cy=\"230.13\" fill=\"#383838\" rx=\"2\" ry=\"2\" style=\"stroke: #383838; stroke-width: 1.0;\"/><ellipse cx=\"83\" cy=\"230.13\" fill=\"#383838\" rx=\"2\" ry=\"2\" style=\"stroke: #383838; stroke-width: 1.0;\"/></a><!--MD5=[452b418e7f8a40397a49b8c0a78acc5b]\n",
       "reverse link E5 to E7--><a href=\"psysml:aaa4df86-e408-4ec8-a2fe-61e5d0511306\" target=\"_top\" title=\"psysml:aaa4df86-e408-4ec8-a2fe-61e5d0511306\" xlink:actuate=\"onRequest\" xlink:href=\"psysml:aaa4df86-e408-4ec8-a2fe-61e5d0511306\" xlink:show=\"new\" xlink:title=\"psysml:aaa4df86-e408-4ec8-a2fe-61e5d0511306\" xlink:type=\"simple\"><path d=\"M163.25,100.22 C163.25,100.22 163.25,147.83 163.25,147.83 \" fill=\"none\" id=\"E5&lt;-E7\" style=\"stroke: #383838; stroke-width: 1.0;\"/><polygon fill=\"#383838\" points=\"163.25,87.22,159.25,93.22,163.25,99.22,167.25,93.22,163.25,87.22\" style=\"stroke: #383838; stroke-width: 1.0;\"/><text fill=\"#000000\" font-family=\"sans-serif\" font-size=\"13\" lengthAdjust=\"spacingAndGlyphs\" textLength=\"8\" x=\"145.8328\" y=\"137.0627\">1</text></a><!--MD5=[6bdd27f9905911a7e892a3dc65cf6b7c]\n",
       "link E7 to E4--><a href=\"psysml:f48d95ee-d7b3-4518-8228-9030b5bbf5ab\" target=\"_top\" title=\"psysml:f48d95ee-d7b3-4518-8228-9030b5bbf5ab\" xlink:actuate=\"onRequest\" xlink:href=\"psysml:f48d95ee-d7b3-4518-8228-9030b5bbf5ab\" xlink:show=\"new\" xlink:title=\"psysml:f48d95ee-d7b3-4518-8228-9030b5bbf5ab\" xlink:type=\"simple\"><path d=\"M194,194.22 C194,194.22 194,234.83 194,234.83 \" fill=\"none\" id=\"E7-&gt;E4\" style=\"stroke: #383838; stroke-width: 1.0;\"/><polygon fill=\"#FFFFFF\" points=\"194,254.83,187,235.83,201,235.83,194,254.83\" style=\"stroke: #383838; stroke-width: 1.0;\"/><ellipse cx=\"189\" cy=\"230.13\" fill=\"#383838\" rx=\"2\" ry=\"2\" style=\"stroke: #383838; stroke-width: 1.0;\"/><ellipse cx=\"199\" cy=\"230.13\" fill=\"#383838\" rx=\"2\" ry=\"2\" style=\"stroke: #383838; stroke-width: 1.0;\"/></a><!--MD5=[93f306c2bdb5e80fb2beabd3fb757dc4]\n",
       "@startuml\r\n",
       "skinparam linetype ortho\r\n",
       "skinparam monochrome true\r\n",
       "skinparam classbackgroundcolor white\r\n",
       "skinparam shadowing false\r\n",
       "skinparam wrapWidth 300\r\n",
       "hide circle\r\n",
       "\r\n",
       "package \"PictureTaking\" as E1  [[psysml:14e6fe4c-a4d9-4c34-a316-9cbabb101fb1 ]]  {\r\n",
       "comp def \"Exposure\" as E2  <<(T,blue)part def>> [[psysml:9a8bab7b-7078-4a6b-add3-8a1328b0c2d6 ]] {\r\n",
       "}\r\n",
       "comp def \"Focus\" as E3  <<(T,blue)action def>> [[psysml:44676d48-2ba6-47f9-b761-758fcbe31dbd ]] {\r\n",
       "}\r\n",
       "comp def \"Shoot\" as E4  <<(T,blue)action def>> [[psysml:d9adf687-8d42-42d3-b1b5-8b6413ee0fad ]] {\r\n",
       "}\r\n",
       "comp usage \"takePicture\" as E5  <<(T,blue)action>> [[psysml:704c53cf-e737-43c7-aaa6-afd6aa41e73e ]] {\r\n",
       "}\r\n",
       "comp usage \"focus: Focus\" as E6  <<(T,blue)action>> [[psysml:247459c4-dc1c-41f3-9bbd-2210d0a14144 ]] {\r\n",
       "}\r\n",
       "comp usage \"shoot: Shoot\" as E7  <<(T,blue)action>> [[psysml:d7e0c4ce-9a2d-4e4d-8f17-58d415aecc73 ]] {\r\n",
       "}\r\n",
       "E3 o- - E2 [[psysml:7285223f-23e3-4ded-a1a3-c8dbe746ff9d ]] : xrsl\r\n",
       "E4 o- - E2 [[psysml:3f6601e8-74ad-4acc-b654-2e93fe2ad4c3 ]] : xsf\r\n",
       "E5 *- - \"1\"E6 [[psysml:b27ee466-0f4c-4005-a5ef-b2dd2df76771 ]] \r\n",
       "E6 - -:|> E3 [[psysml:5a2a5603-bc94-4298-a763-49fe520ca5bc ]] \r\n",
       "E5 *- - \"1\"E7 [[psysml:aaa4df86-e408-4ec8-a2fe-61e5d0511306 ]] \r\n",
       "E7 - -:|> E4 [[psysml:f48d95ee-d7b3-4518-8228-9030b5bbf5ab ]] \r\n",
       "}\r\n",
       "@enduml\r\n",
       "\n",
       "PlantUML version 1.2020.13(Sat Jun 13 12:26:38 UTC 2020)\n",
       "(EPL source distribution)\n",
       "Java Runtime: OpenJDK Runtime Environment\n",
       "JVM: OpenJDK 64-Bit Server VM\n",
       "Default Encoding: UTF-8\n",
       "Language: en\n",
       "Country: null\n",
       "--></g></svg>"
      ]
     },
     "execution_count": 52,
     "metadata": {},
     "output_type": "execute_result"
    }
   ],
   "source": [
    "%viz --style=\"ORTHOLINE\" --view=\"Tree\" \"PictureTaking\""
   ]
  },
  {
   "cell_type": "code",
   "execution_count": 53,
   "id": "a7614341",
   "metadata": {
    "execution": {
     "iopub.execute_input": "2021-04-20T07:32:05.322249Z",
     "iopub.status.busy": "2021-04-20T07:32:05.321797Z",
     "iopub.status.idle": "2021-04-20T07:32:05.326412Z",
     "shell.execute_reply": "2021-04-20T07:32:05.326024Z"
    }
   },
   "outputs": [
    {
     "data": {
      "image/svg+xml": [
       "<?xml version=\"1.0\" encoding=\"UTF-8\" standalone=\"no\"?><svg xmlns=\"http://www.w3.org/2000/svg\" xmlns:xlink=\"http://www.w3.org/1999/xlink\" contentScriptType=\"application/ecmascript\" contentStyleType=\"text/css\" height=\"12px\" preserveAspectRatio=\"none\" style=\"width:12px;height:12px;\" version=\"1.1\" viewBox=\"0 0 12 12\" width=\"12px\" zoomAndPan=\"magnify\"><defs/><g><!--MD5=[97d6f38768b311333d388e66b2b27985]\n",
       "@startuml\r\n",
       "skinparam linetype ortho\r\n",
       "skinparam monochrome true\r\n",
       "skinparam classbackgroundcolor white\r\n",
       "skinparam shadowing false\r\n",
       "skinparam wrapWidth 300\r\n",
       "hide circle\r\n",
       "\r\n",
       "@enduml\r\n",
       "\n",
       "PlantUML version 1.2020.13(Sat Jun 13 12:26:38 UTC 2020)\n",
       "(EPL source distribution)\n",
       "Java Runtime: OpenJDK Runtime Environment\n",
       "JVM: OpenJDK 64-Bit Server VM\n",
       "Default Encoding: UTF-8\n",
       "Language: en\n",
       "Country: null\n",
       "--></g></svg>"
      ]
     },
     "execution_count": 53,
     "metadata": {},
     "output_type": "execute_result"
    }
   ],
   "source": [
    "%viz --style=\"ORTHOLINE\" --view=\"State\" \"PictureTaking\""
   ]
  },
  {
   "cell_type": "code",
   "execution_count": 54,
   "id": "779b9a77",
   "metadata": {
    "execution": {
     "iopub.execute_input": "2021-04-20T07:32:05.376899Z",
     "iopub.status.busy": "2021-04-20T07:32:05.376432Z",
     "iopub.status.idle": "2021-04-20T07:32:05.429955Z",
     "shell.execute_reply": "2021-04-20T07:32:05.428375Z"
    }
   },
   "outputs": [
    {
     "data": {
      "image/svg+xml": [
       "<?xml version=\"1.0\" encoding=\"UTF-8\" standalone=\"no\"?><svg xmlns=\"http://www.w3.org/2000/svg\" xmlns:xlink=\"http://www.w3.org/1999/xlink\" contentScriptType=\"application/ecmascript\" contentStyleType=\"text/css\" height=\"330px\" preserveAspectRatio=\"none\" style=\"width:706px;height:330px;\" version=\"1.1\" viewBox=\"0 0 706 330\" width=\"706px\" zoomAndPan=\"magnify\"><defs/><g><!--MD5=[fbc87193dbaf4d95561dea2c320d4a47]\n",
       "cluster E1--><a href=\"psysml:14e6fe4c-a4d9-4c34-a316-9cbabb101fb1\" target=\"_top\" title=\"psysml:14e6fe4c-a4d9-4c34-a316-9cbabb101fb1\" xlink:actuate=\"onRequest\" xlink:href=\"psysml:14e6fe4c-a4d9-4c34-a316-9cbabb101fb1\" xlink:show=\"new\" xlink:title=\"psysml:14e6fe4c-a4d9-4c34-a316-9cbabb101fb1\" xlink:type=\"simple\"><polygon fill=\"#FFFFFF\" points=\"16,6,130,6,137,28.2969,684,28.2969,684,318,16,318,16,6\" style=\"stroke: #000000; stroke-width: 1.5;\"/><line style=\"stroke: #000000; stroke-width: 1.5;\" x1=\"16\" x2=\"137\" y1=\"28.2969\" y2=\"28.2969\"/><text fill=\"#000000\" font-family=\"sans-serif\" font-size=\"14\" font-weight=\"bold\" lengthAdjust=\"spacingAndGlyphs\" textLength=\"108\" x=\"20\" y=\"20.9951\">PictureTaking</text></a><!--MD5=[d5e69f78d87373223dbae638b30a9c99]\n",
       "cluster E3--><a href=\"psysml:44676d48-2ba6-47f9-b761-758fcbe31dbd\" target=\"_top\" title=\"psysml:44676d48-2ba6-47f9-b761-758fcbe31dbd\" xlink:actuate=\"onRequest\" xlink:href=\"psysml:44676d48-2ba6-47f9-b761-758fcbe31dbd\" xlink:show=\"new\" xlink:title=\"psysml:44676d48-2ba6-47f9-b761-758fcbe31dbd\" xlink:type=\"simple\"><rect fill=\"#FFFFFF\" height=\"136\" id=\"E3\" style=\"stroke: #383838; stroke-width: 1.5;\" width=\"134\" x=\"534\" y=\"100\"/><rect fill=\"#F8F8F8\" height=\"37.9375\" style=\"stroke: #383838; stroke-width: 1.5;\" width=\"134\" x=\"534\" y=\"100\"/><text fill=\"#000000\" font-family=\"sans-serif\" font-size=\"12\" font-style=\"italic\" lengthAdjust=\"spacingAndGlyphs\" textLength=\"77\" x=\"562.5\" y=\"116.1387\">«action def»</text><text fill=\"#000000\" font-family=\"sans-serif\" font-size=\"12\" lengthAdjust=\"spacingAndGlyphs\" textLength=\"37\" x=\"582.5\" y=\"130.1074\">Focus</text></a><!--MD5=[de5ec2e2e8f62f467e546659f5068c88]\n",
       "cluster E5--><a href=\"psysml:d9adf687-8d42-42d3-b1b5-8b6413ee0fad\" target=\"_top\" title=\"psysml:d9adf687-8d42-42d3-b1b5-8b6413ee0fad\" xlink:actuate=\"onRequest\" xlink:href=\"psysml:d9adf687-8d42-42d3-b1b5-8b6413ee0fad\" xlink:show=\"new\" xlink:title=\"psysml:d9adf687-8d42-42d3-b1b5-8b6413ee0fad\" xlink:type=\"simple\"><rect fill=\"#FFFFFF\" height=\"88.5\" id=\"E5\" style=\"stroke: #383838; stroke-width: 1.5;\" width=\"134\" x=\"392\" y=\"133.5\"/><rect fill=\"#F8F8F8\" height=\"37.9375\" style=\"stroke: #383838; stroke-width: 1.5;\" width=\"134\" x=\"392\" y=\"133.5\"/><text fill=\"#000000\" font-family=\"sans-serif\" font-size=\"12\" font-style=\"italic\" lengthAdjust=\"spacingAndGlyphs\" textLength=\"77\" x=\"420.5\" y=\"149.6387\">«action def»</text><text fill=\"#000000\" font-family=\"sans-serif\" font-size=\"12\" lengthAdjust=\"spacingAndGlyphs\" textLength=\"37\" x=\"440.5\" y=\"163.6074\">Shoot</text></a><!--MD5=[168fadf3d0c3fd93dd5d6da1b1d7ab76]\n",
       "cluster E7--><a href=\"psysml:704c53cf-e737-43c7-aaa6-afd6aa41e73e\" target=\"_top\" title=\"psysml:704c53cf-e737-43c7-aaa6-afd6aa41e73e\" xlink:actuate=\"onRequest\" xlink:href=\"psysml:704c53cf-e737-43c7-aaa6-afd6aa41e73e\" xlink:show=\"new\" xlink:title=\"psysml:704c53cf-e737-43c7-aaa6-afd6aa41e73e\" xlink:type=\"simple\"><rect fill=\"#FFFFFF\" height=\"245\" id=\"E7\" rx=\"10\" ry=\"10\" style=\"stroke: #383838; stroke-width: 1.5;\" width=\"256\" x=\"120\" y=\"49\"/><rect fill=\"#F8F8F8\" height=\"37.9375\" rx=\"10\" ry=\"10\" style=\"stroke: #F8F8F8; stroke-width: 1.5;\" width=\"256\" x=\"120\" y=\"49\"/><rect fill=\"#F8F8F8\" height=\"10\" style=\"stroke: #F8F8F8; stroke-width: 1.5;\" width=\"256\" x=\"120\" y=\"76.9375\"/><rect fill=\"none\" height=\"245\" id=\"E7\" rx=\"10\" ry=\"10\" style=\"stroke: #383838; stroke-width: 1.5;\" width=\"256\" x=\"120\" y=\"49\"/><text fill=\"#000000\" font-family=\"sans-serif\" font-size=\"12\" font-style=\"italic\" lengthAdjust=\"spacingAndGlyphs\" textLength=\"53\" x=\"221.5\" y=\"65.1387\">«action»</text><text fill=\"#000000\" font-family=\"sans-serif\" font-size=\"12\" lengthAdjust=\"spacingAndGlyphs\" textLength=\"72\" x=\"212\" y=\"79.1074\">takePicture</text><line style=\"stroke: #383838; stroke-width: 1.0;\" x1=\"120\" x2=\"376\" y1=\"86.9375\" y2=\"86.9375\"/></a><!--MD5=[55dfccfc6c49c2d10cd1bd2211a6c90c]\n",
       "cluster E8--><a href=\"psysml:247459c4-dc1c-41f3-9bbd-2210d0a14144\" target=\"_top\" title=\"psysml:247459c4-dc1c-41f3-9bbd-2210d0a14144\" xlink:actuate=\"onRequest\" xlink:href=\"psysml:247459c4-dc1c-41f3-9bbd-2210d0a14144\" xlink:show=\"new\" xlink:title=\"psysml:247459c4-dc1c-41f3-9bbd-2210d0a14144\" xlink:type=\"simple\"><rect fill=\"#FFFFFF\" height=\"136\" id=\"E8\" rx=\"10\" ry=\"10\" style=\"stroke: #383838; stroke-width: 1.5;\" width=\"83\" x=\"263\" y=\"100\"/><rect fill=\"#F8F8F8\" height=\"37.9375\" rx=\"10\" ry=\"10\" style=\"stroke: #F8F8F8; stroke-width: 1.5;\" width=\"83\" x=\"263\" y=\"100\"/><rect fill=\"#F8F8F8\" height=\"10\" style=\"stroke: #F8F8F8; stroke-width: 1.5;\" width=\"83\" x=\"263\" y=\"127.9375\"/><rect fill=\"none\" height=\"136\" id=\"E8\" rx=\"10\" ry=\"10\" style=\"stroke: #383838; stroke-width: 1.5;\" width=\"83\" x=\"263\" y=\"100\"/><text fill=\"#000000\" font-family=\"sans-serif\" font-size=\"12\" font-style=\"italic\" lengthAdjust=\"spacingAndGlyphs\" textLength=\"53\" x=\"278\" y=\"116.1387\">«action»</text><text fill=\"#000000\" font-family=\"sans-serif\" font-size=\"12\" lengthAdjust=\"spacingAndGlyphs\" textLength=\"34\" x=\"287.5\" y=\"130.1074\">focus</text><line style=\"stroke: #383838; stroke-width: 1.0;\" x1=\"263\" x2=\"346\" y1=\"137.9375\" y2=\"137.9375\"/></a><!--MD5=[917b9dd0c7eca3ee5f47219d1a84c0ad]\n",
       "cluster E11--><a href=\"psysml:d7e0c4ce-9a2d-4e4d-8f17-58d415aecc73\" target=\"_top\" title=\"psysml:d7e0c4ce-9a2d-4e4d-8f17-58d415aecc73\" xlink:actuate=\"onRequest\" xlink:href=\"psysml:d7e0c4ce-9a2d-4e4d-8f17-58d415aecc73\" xlink:show=\"new\" xlink:title=\"psysml:d7e0c4ce-9a2d-4e4d-8f17-58d415aecc73\" xlink:type=\"simple\"><rect fill=\"#FFFFFF\" height=\"130.5\" id=\"E11\" rx=\"10\" ry=\"10\" style=\"stroke: #383838; stroke-width: 1.5;\" width=\"74\" x=\"170\" y=\"133.5\"/><rect fill=\"#F8F8F8\" height=\"37.9375\" rx=\"10\" ry=\"10\" style=\"stroke: #F8F8F8; stroke-width: 1.5;\" width=\"74\" x=\"170\" y=\"133.5\"/><rect fill=\"#F8F8F8\" height=\"10\" style=\"stroke: #F8F8F8; stroke-width: 1.5;\" width=\"74\" x=\"170\" y=\"161.4375\"/><rect fill=\"none\" height=\"130.5\" id=\"E11\" rx=\"10\" ry=\"10\" style=\"stroke: #383838; stroke-width: 1.5;\" width=\"74\" x=\"170\" y=\"133.5\"/><text fill=\"#000000\" font-family=\"sans-serif\" font-size=\"12\" font-style=\"italic\" lengthAdjust=\"spacingAndGlyphs\" textLength=\"53\" x=\"180.5\" y=\"149.6387\">«action»</text><text fill=\"#000000\" font-family=\"sans-serif\" font-size=\"12\" lengthAdjust=\"spacingAndGlyphs\" textLength=\"36\" x=\"189\" y=\"163.6074\">shoot</text><line style=\"stroke: #383838; stroke-width: 1.0;\" x1=\"170\" x2=\"244\" y1=\"171.4375\" y2=\"171.4375\"/></a><g id=\"E1.E2\"><a href=\"psysml:9a8bab7b-7078-4a6b-add3-8a1328b0c2d6\" target=\"_top\" title=\"psysml:9a8bab7b-7078-4a6b-add3-8a1328b0c2d6\" xlink:actuate=\"onRequest\" xlink:href=\"psysml:9a8bab7b-7078-4a6b-add3-8a1328b0c2d6\" xlink:show=\"new\" xlink:title=\"psysml:9a8bab7b-7078-4a6b-add3-8a1328b0c2d6\" xlink:type=\"simple\"><rect fill=\"#FFFFFF\" height=\"42.9375\" id=\"E2\" style=\"stroke: #383838; stroke-width: 1.5;\" width=\"71\" x=\"32.5\" y=\"112\"/><rect fill=\"#F8F8F8\" height=\"37.9375\" style=\"stroke: #383838; stroke-width: 1.5;\" width=\"71\" x=\"32.5\" y=\"112\"/><text fill=\"#000000\" font-family=\"sans-serif\" font-size=\"12\" font-style=\"italic\" lengthAdjust=\"spacingAndGlyphs\" textLength=\"64\" x=\"36\" y=\"128.1387\">«part def»</text><text fill=\"#000000\" font-family=\"sans-serif\" font-size=\"12\" lengthAdjust=\"spacingAndGlyphs\" textLength=\"58\" x=\"39\" y=\"142.1074\">Exposure</text></a></g><text fill=\"#000000\" font-family=\"sans-serif\" font-size=\"14\" lengthAdjust=\"spacingAndGlyphs\" textLength=\"23\" x=\"589.5\" y=\"254.9951\">xrsl</text><rect fill=\"#383838\" height=\"12\" style=\"stroke: #F8F8F8; stroke-width: 1.5;\" width=\"12\" x=\"595\" y=\"230\"/><text fill=\"#000000\" font-family=\"sans-serif\" font-size=\"14\" lengthAdjust=\"spacingAndGlyphs\" textLength=\"19\" x=\"449.5\" y=\"112.1982\">xsf</text><rect fill=\"#383838\" height=\"12\" style=\"stroke: #F8F8F8; stroke-width: 1.5;\" width=\"12\" x=\"453\" y=\"127.5\"/><text fill=\"#000000\" font-family=\"sans-serif\" font-size=\"14\" lengthAdjust=\"spacingAndGlyphs\" textLength=\"48\" x=\"257\" y=\"254.9951\">$result</text><rect fill=\"#383838\" height=\"12\" style=\"stroke: #F8F8F8; stroke-width: 1.5;\" width=\"12\" x=\"275\" y=\"230\"/><text fill=\"#000000\" font-family=\"sans-serif\" font-size=\"14\" lengthAdjust=\"spacingAndGlyphs\" textLength=\"23\" x=\"316.5\" y=\"254.9951\">xrsl</text><rect fill=\"#383838\" height=\"12\" style=\"stroke: #F8F8F8; stroke-width: 1.5;\" width=\"12\" x=\"322\" y=\"230\"/><text fill=\"#000000\" font-family=\"sans-serif\" font-size=\"14\" lengthAdjust=\"spacingAndGlyphs\" textLength=\"48\" x=\"164\" y=\"282.9951\">$result</text><rect fill=\"#383838\" height=\"12\" style=\"stroke: #F8F8F8; stroke-width: 1.5;\" width=\"12\" x=\"182\" y=\"258\"/><text fill=\"#000000\" font-family=\"sans-serif\" font-size=\"14\" lengthAdjust=\"spacingAndGlyphs\" textLength=\"19\" x=\"180.5\" y=\"112.1982\">xsf</text><rect fill=\"#383838\" height=\"12\" style=\"stroke: #F8F8F8; stroke-width: 1.5;\" width=\"12\" x=\"184\" y=\"127.5\"/><!--MD5=[3b91958121127bd99c9bf1e05d5a1843]\n",
       "@startuml\r\n",
       "skinparam ranksep 10\r\n",
       "skinparam rectangle {\r\n",
       " backgroundColor<<block>> LightGreen\r\n",
       "}\r\n",
       "skinparam linetype ortho\r\n",
       "skinparam monochrome true\r\n",
       "skinparam classbackgroundcolor white\r\n",
       "skinparam shadowing false\r\n",
       "skinparam wrapWidth 300\r\n",
       "hide circle\r\n",
       "\r\n",
       "package \"PictureTaking\" as E1  [[psysml:14e6fe4c-a4d9-4c34-a316-9cbabb101fb1 ]]  {\r\n",
       "rec def \"Exposure\" as E2  <<(T,blue)part def>> [[psysml:9a8bab7b-7078-4a6b-add3-8a1328b0c2d6 ]] {\r\n",
       "}\r\n",
       "rec def \"Focus\" as E3  <<(T,blue)action def>> [[psysml:44676d48-2ba6-47f9-b761-758fcbe31dbd ]] {\r\n",
       "portout \"xrsl\" as E4  [[psysml:7285223f-23e3-4ded-a1a3-c8dbe746ff9d ]] \r\n",
       "}\r\n",
       "\r\n",
       "rec def \"Shoot\" as E5  <<(T,blue)action def>> [[psysml:d9adf687-8d42-42d3-b1b5-8b6413ee0fad ]] {\r\n",
       "portin \"xsf\" as E6  [[psysml:3f6601e8-74ad-4acc-b654-2e93fe2ad4c3 ]] \r\n",
       "}\r\n",
       "\r\n",
       "rec usage \"takePicture\" as E7  <<(T,blue)action>> [[psysml:704c53cf-e737-43c7-aaa6-afd6aa41e73e ]] {\r\n",
       "rec usage \"focus\" as E8  <<(T,blue)action>> [[psysml:247459c4-dc1c-41f3-9bbd-2210d0a14144 ]] {\r\n",
       "portout \"$result\" as E9  [[psysml:d24c4944-7685-4e9e-b1e9-aa0857e67b68 ]] \r\n",
       "portout \"xrsl\" as E10  [[psysml:a9b63f0e-a7c1-4470-82ae-da9c74073d16 ]] \r\n",
       "}\r\n",
       "\r\n",
       "rec usage \"shoot\" as E11  <<(T,blue)action>> [[psysml:d7e0c4ce-9a2d-4e4d-8f17-58d415aecc73 ]] {\r\n",
       "portout \"$result\" as E12  [[psysml:edaf4370-9fef-4792-934f-b7a89f5913cc ]] \r\n",
       "portin \"xsf\" as E13  [[psysml:1ee0e316-c080-4a1b-aa8d-122e3ae24dab ]] \r\n",
       "}\r\n",
       "\r\n",
       "}\r\n",
       "\r\n",
       "}\r\n",
       "@enduml\r\n",
       "\n",
       "PlantUML version 1.2020.13(Sat Jun 13 12:26:38 UTC 2020)\n",
       "(EPL source distribution)\n",
       "Java Runtime: OpenJDK Runtime Environment\n",
       "JVM: OpenJDK 64-Bit Server VM\n",
       "Default Encoding: UTF-8\n",
       "Language: en\n",
       "Country: null\n",
       "--></g></svg>"
      ]
     },
     "execution_count": 54,
     "metadata": {},
     "output_type": "execute_result"
    }
   ],
   "source": [
    "%viz --style=\"ORTHOLINE\" --view=\"Interconnection\" \"PictureTaking\""
   ]
  },
  {
   "cell_type": "code",
   "execution_count": 55,
   "id": "c21f300b",
   "metadata": {
    "execution": {
     "iopub.execute_input": "2021-04-20T07:32:05.481852Z",
     "iopub.status.busy": "2021-04-20T07:32:05.480836Z",
     "iopub.status.idle": "2021-04-20T07:32:05.528904Z",
     "shell.execute_reply": "2021-04-20T07:32:05.526587Z"
    }
   },
   "outputs": [
    {
     "data": {
      "image/svg+xml": [
       "<?xml version=\"1.0\" encoding=\"UTF-8\" standalone=\"no\"?><svg xmlns=\"http://www.w3.org/2000/svg\" xmlns:xlink=\"http://www.w3.org/1999/xlink\" contentScriptType=\"application/ecmascript\" contentStyleType=\"text/css\" height=\"259px\" preserveAspectRatio=\"none\" style=\"width:567px;height:259px;\" version=\"1.1\" viewBox=\"0 0 567 259\" width=\"567px\" zoomAndPan=\"magnify\"><defs/><g><!--MD5=[fbc87193dbaf4d95561dea2c320d4a47]\n",
       "cluster E1--><a href=\"psysml:44676d48-2ba6-47f9-b761-758fcbe31dbd\" target=\"_top\" title=\"psysml:44676d48-2ba6-47f9-b761-758fcbe31dbd\" xlink:actuate=\"onRequest\" xlink:href=\"psysml:44676d48-2ba6-47f9-b761-758fcbe31dbd\" xlink:show=\"new\" xlink:title=\"psysml:44676d48-2ba6-47f9-b761-758fcbe31dbd\" xlink:type=\"simple\"><rect fill=\"#FFFFFF\" height=\"132\" id=\"E1\" style=\"stroke: #383838; stroke-width: 1.5;\" width=\"134\" x=\"7\" y=\"58\"/><rect fill=\"#F8F8F8\" height=\"37.9375\" style=\"stroke: #383838; stroke-width: 1.5;\" width=\"134\" x=\"7\" y=\"58\"/><text fill=\"#000000\" font-family=\"sans-serif\" font-size=\"12\" font-style=\"italic\" lengthAdjust=\"spacingAndGlyphs\" textLength=\"77\" x=\"35.5\" y=\"74.1387\">«action def»</text><text fill=\"#000000\" font-family=\"sans-serif\" font-size=\"12\" lengthAdjust=\"spacingAndGlyphs\" textLength=\"37\" x=\"55.5\" y=\"88.1074\">Focus</text></a><!--MD5=[d5e69f78d87373223dbae638b30a9c99]\n",
       "cluster E3--><a href=\"psysml:d9adf687-8d42-42d3-b1b5-8b6413ee0fad\" target=\"_top\" title=\"psysml:d9adf687-8d42-42d3-b1b5-8b6413ee0fad\" xlink:actuate=\"onRequest\" xlink:href=\"psysml:d9adf687-8d42-42d3-b1b5-8b6413ee0fad\" xlink:show=\"new\" xlink:title=\"psysml:d9adf687-8d42-42d3-b1b5-8b6413ee0fad\" xlink:type=\"simple\"><rect fill=\"#FFFFFF\" height=\"84.5\" id=\"E3\" style=\"stroke: #383838; stroke-width: 1.5;\" width=\"134\" x=\"149\" y=\"91.5\"/><rect fill=\"#F8F8F8\" height=\"37.9375\" style=\"stroke: #383838; stroke-width: 1.5;\" width=\"134\" x=\"149\" y=\"91.5\"/><text fill=\"#000000\" font-family=\"sans-serif\" font-size=\"12\" font-style=\"italic\" lengthAdjust=\"spacingAndGlyphs\" textLength=\"77\" x=\"177.5\" y=\"107.6387\">«action def»</text><text fill=\"#000000\" font-family=\"sans-serif\" font-size=\"12\" lengthAdjust=\"spacingAndGlyphs\" textLength=\"37\" x=\"197.5\" y=\"121.6074\">Shoot</text></a><!--MD5=[de5ec2e2e8f62f467e546659f5068c88]\n",
       "cluster E5--><a href=\"psysml:704c53cf-e737-43c7-aaa6-afd6aa41e73e\" target=\"_top\" title=\"psysml:704c53cf-e737-43c7-aaa6-afd6aa41e73e\" xlink:actuate=\"onRequest\" xlink:href=\"psysml:704c53cf-e737-43c7-aaa6-afd6aa41e73e\" xlink:show=\"new\" xlink:title=\"psysml:704c53cf-e737-43c7-aaa6-afd6aa41e73e\" xlink:type=\"simple\"><rect fill=\"#FFFFFF\" height=\"241\" id=\"E5\" rx=\"10\" ry=\"10\" style=\"stroke: #383838; stroke-width: 1.5;\" width=\"256\" x=\"299\" y=\"7\"/><rect fill=\"#F8F8F8\" height=\"37.9375\" rx=\"10\" ry=\"10\" style=\"stroke: #F8F8F8; stroke-width: 1.5;\" width=\"256\" x=\"299\" y=\"7\"/><rect fill=\"#F8F8F8\" height=\"10\" style=\"stroke: #F8F8F8; stroke-width: 1.5;\" width=\"256\" x=\"299\" y=\"34.9375\"/><rect fill=\"none\" height=\"241\" id=\"E5\" rx=\"10\" ry=\"10\" style=\"stroke: #383838; stroke-width: 1.5;\" width=\"256\" x=\"299\" y=\"7\"/><text fill=\"#000000\" font-family=\"sans-serif\" font-size=\"12\" font-style=\"italic\" lengthAdjust=\"spacingAndGlyphs\" textLength=\"53\" x=\"400.5\" y=\"23.1387\">«action»</text><text fill=\"#000000\" font-family=\"sans-serif\" font-size=\"12\" lengthAdjust=\"spacingAndGlyphs\" textLength=\"72\" x=\"391\" y=\"37.1074\">takePicture</text><line style=\"stroke: #383838; stroke-width: 1.0;\" x1=\"299\" x2=\"555\" y1=\"44.9375\" y2=\"44.9375\"/></a><!--MD5=[14e3b0961a2654348d326746436168a1]\n",
       "cluster E6--><a href=\"psysml:247459c4-dc1c-41f3-9bbd-2210d0a14144\" target=\"_top\" title=\"psysml:247459c4-dc1c-41f3-9bbd-2210d0a14144\" xlink:actuate=\"onRequest\" xlink:href=\"psysml:247459c4-dc1c-41f3-9bbd-2210d0a14144\" xlink:show=\"new\" xlink:title=\"psysml:247459c4-dc1c-41f3-9bbd-2210d0a14144\" xlink:type=\"simple\"><rect fill=\"#FFFFFF\" height=\"132\" id=\"E6\" rx=\"10\" ry=\"10\" style=\"stroke: #383838; stroke-width: 1.5;\" width=\"83\" x=\"442\" y=\"58\"/><rect fill=\"#F8F8F8\" height=\"37.9375\" rx=\"10\" ry=\"10\" style=\"stroke: #F8F8F8; stroke-width: 1.5;\" width=\"83\" x=\"442\" y=\"58\"/><rect fill=\"#F8F8F8\" height=\"10\" style=\"stroke: #F8F8F8; stroke-width: 1.5;\" width=\"83\" x=\"442\" y=\"85.9375\"/><rect fill=\"none\" height=\"132\" id=\"E6\" rx=\"10\" ry=\"10\" style=\"stroke: #383838; stroke-width: 1.5;\" width=\"83\" x=\"442\" y=\"58\"/><text fill=\"#000000\" font-family=\"sans-serif\" font-size=\"12\" font-style=\"italic\" lengthAdjust=\"spacingAndGlyphs\" textLength=\"53\" x=\"457\" y=\"74.1387\">«action»</text><text fill=\"#000000\" font-family=\"sans-serif\" font-size=\"12\" lengthAdjust=\"spacingAndGlyphs\" textLength=\"34\" x=\"466.5\" y=\"88.1074\">focus</text><line style=\"stroke: #383838; stroke-width: 1.0;\" x1=\"442\" x2=\"525\" y1=\"95.9375\" y2=\"95.9375\"/></a><!--MD5=[7f149f147074ac12df2cb0a7728a5fb0]\n",
       "cluster E9--><a href=\"psysml:d7e0c4ce-9a2d-4e4d-8f17-58d415aecc73\" target=\"_top\" title=\"psysml:d7e0c4ce-9a2d-4e4d-8f17-58d415aecc73\" xlink:actuate=\"onRequest\" xlink:href=\"psysml:d7e0c4ce-9a2d-4e4d-8f17-58d415aecc73\" xlink:show=\"new\" xlink:title=\"psysml:d7e0c4ce-9a2d-4e4d-8f17-58d415aecc73\" xlink:type=\"simple\"><rect fill=\"#FFFFFF\" height=\"126.5\" id=\"E9\" rx=\"10\" ry=\"10\" style=\"stroke: #383838; stroke-width: 1.5;\" width=\"74\" x=\"349\" y=\"91.5\"/><rect fill=\"#F8F8F8\" height=\"37.9375\" rx=\"10\" ry=\"10\" style=\"stroke: #F8F8F8; stroke-width: 1.5;\" width=\"74\" x=\"349\" y=\"91.5\"/><rect fill=\"#F8F8F8\" height=\"10\" style=\"stroke: #F8F8F8; stroke-width: 1.5;\" width=\"74\" x=\"349\" y=\"119.4375\"/><rect fill=\"none\" height=\"126.5\" id=\"E9\" rx=\"10\" ry=\"10\" style=\"stroke: #383838; stroke-width: 1.5;\" width=\"74\" x=\"349\" y=\"91.5\"/><text fill=\"#000000\" font-family=\"sans-serif\" font-size=\"12\" font-style=\"italic\" lengthAdjust=\"spacingAndGlyphs\" textLength=\"53\" x=\"359.5\" y=\"107.6387\">«action»</text><text fill=\"#000000\" font-family=\"sans-serif\" font-size=\"12\" lengthAdjust=\"spacingAndGlyphs\" textLength=\"36\" x=\"368\" y=\"121.6074\">shoot</text><line style=\"stroke: #383838; stroke-width: 1.0;\" x1=\"349\" x2=\"423\" y1=\"129.4375\" y2=\"129.4375\"/></a><text fill=\"#000000\" font-family=\"sans-serif\" font-size=\"14\" lengthAdjust=\"spacingAndGlyphs\" textLength=\"23\" x=\"62.5\" y=\"208.9951\">xrsl</text><rect fill=\"#383838\" height=\"12\" style=\"stroke: #F8F8F8; stroke-width: 1.5;\" width=\"12\" x=\"68\" y=\"184\"/><text fill=\"#000000\" font-family=\"sans-serif\" font-size=\"14\" lengthAdjust=\"spacingAndGlyphs\" textLength=\"19\" x=\"206.5\" y=\"70.1982\">xsf</text><rect fill=\"#383838\" height=\"12\" style=\"stroke: #F8F8F8; stroke-width: 1.5;\" width=\"12\" x=\"210\" y=\"85.5\"/><text fill=\"#000000\" font-family=\"sans-serif\" font-size=\"14\" lengthAdjust=\"spacingAndGlyphs\" textLength=\"48\" x=\"436\" y=\"208.9951\">$result</text><rect fill=\"#383838\" height=\"12\" style=\"stroke: #F8F8F8; stroke-width: 1.5;\" width=\"12\" x=\"454\" y=\"184\"/><text fill=\"#000000\" font-family=\"sans-serif\" font-size=\"14\" lengthAdjust=\"spacingAndGlyphs\" textLength=\"23\" x=\"495.5\" y=\"208.9951\">xrsl</text><rect fill=\"#383838\" height=\"12\" style=\"stroke: #F8F8F8; stroke-width: 1.5;\" width=\"12\" x=\"501\" y=\"184\"/><text fill=\"#000000\" font-family=\"sans-serif\" font-size=\"14\" lengthAdjust=\"spacingAndGlyphs\" textLength=\"48\" x=\"343\" y=\"236.9951\">$result</text><rect fill=\"#383838\" height=\"12\" style=\"stroke: #F8F8F8; stroke-width: 1.5;\" width=\"12\" x=\"361\" y=\"212\"/><text fill=\"#000000\" font-family=\"sans-serif\" font-size=\"14\" lengthAdjust=\"spacingAndGlyphs\" textLength=\"19\" x=\"359.5\" y=\"70.1982\">xsf</text><rect fill=\"#383838\" height=\"12\" style=\"stroke: #F8F8F8; stroke-width: 1.5;\" width=\"12\" x=\"363\" y=\"85.5\"/><!--MD5=[bf42f6033752d4e896f33e96b691b578]\n",
       "@startuml\r\n",
       "skinparam ranksep 8\r\n",
       "skinparam linetype ortho\r\n",
       "skinparam monochrome true\r\n",
       "skinparam classbackgroundcolor white\r\n",
       "skinparam shadowing false\r\n",
       "skinparam wrapWidth 300\r\n",
       "hide circle\r\n",
       "\r\n",
       "rec def \"Focus\" as E1  <<(T,blue)action def>> [[psysml:44676d48-2ba6-47f9-b761-758fcbe31dbd ]] {\r\n",
       "portout \"xrsl\" as E2  [[psysml:7285223f-23e3-4ded-a1a3-c8dbe746ff9d ]] \r\n",
       "}\r\n",
       "\r\n",
       "rec def \"Shoot\" as E3  <<(T,blue)action def>> [[psysml:d9adf687-8d42-42d3-b1b5-8b6413ee0fad ]] {\r\n",
       "portin \"xsf\" as E4  [[psysml:3f6601e8-74ad-4acc-b654-2e93fe2ad4c3 ]] \r\n",
       "}\r\n",
       "\r\n",
       "rec usage \"takePicture\" as E5  <<(T,blue)action>> [[psysml:704c53cf-e737-43c7-aaa6-afd6aa41e73e ]] {\r\n",
       "rec usage \"focus\" as E6  <<(T,blue)action>> [[psysml:247459c4-dc1c-41f3-9bbd-2210d0a14144 ]] {\r\n",
       "portout \"$result\" as E7  [[psysml:d24c4944-7685-4e9e-b1e9-aa0857e67b68 ]] \r\n",
       "portout \"xrsl\" as E8  [[psysml:a9b63f0e-a7c1-4470-82ae-da9c74073d16 ]] \r\n",
       "}\r\n",
       "\r\n",
       "rec usage \"shoot\" as E9  <<(T,blue)action>> [[psysml:d7e0c4ce-9a2d-4e4d-8f17-58d415aecc73 ]] {\r\n",
       "portout \"$result\" as E10  [[psysml:edaf4370-9fef-4792-934f-b7a89f5913cc ]] \r\n",
       "portin \"xsf\" as E11  [[psysml:1ee0e316-c080-4a1b-aa8d-122e3ae24dab ]] \r\n",
       "}\r\n",
       "\r\n",
       "}\r\n",
       "\r\n",
       "@enduml\r\n",
       "\n",
       "PlantUML version 1.2020.13(Sat Jun 13 12:26:38 UTC 2020)\n",
       "(EPL source distribution)\n",
       "Java Runtime: OpenJDK Runtime Environment\n",
       "JVM: OpenJDK 64-Bit Server VM\n",
       "Default Encoding: UTF-8\n",
       "Language: en\n",
       "Country: null\n",
       "--></g></svg>"
      ]
     },
     "execution_count": 55,
     "metadata": {},
     "output_type": "execute_result"
    }
   ],
   "source": [
    "%viz --style=\"ORTHOLINE\" --view=\"Action\" \"PictureTaking\""
   ]
  },
  {
   "cell_type": "code",
   "execution_count": 56,
   "id": "9c7cfc66",
   "metadata": {
    "execution": {
     "iopub.execute_input": "2021-04-20T07:32:05.579444Z",
     "iopub.status.busy": "2021-04-20T07:32:05.578965Z",
     "iopub.status.idle": "2021-04-20T07:32:05.621461Z",
     "shell.execute_reply": "2021-04-20T07:32:05.618633Z"
    }
   },
   "outputs": [
    {
     "data": {
      "image/svg+xml": [
       "<?xml version=\"1.0\" encoding=\"UTF-8\" standalone=\"no\"?><svg xmlns=\"http://www.w3.org/2000/svg\" xmlns:xlink=\"http://www.w3.org/1999/xlink\" contentScriptType=\"application/ecmascript\" contentStyleType=\"text/css\" height=\"452px\" preserveAspectRatio=\"none\" style=\"width:278px;height:452px;\" version=\"1.1\" viewBox=\"0 0 278 452\" width=\"278px\" zoomAndPan=\"magnify\"><defs/><g><!--MD5=[fbc87193dbaf4d95561dea2c320d4a47]\n",
       "cluster E1--><a href=\"psysml:14e6fe4c-a4d9-4c34-a316-9cbabb101fb1\" target=\"_top\" title=\"psysml:14e6fe4c-a4d9-4c34-a316-9cbabb101fb1\" xlink:actuate=\"onRequest\" xlink:href=\"psysml:14e6fe4c-a4d9-4c34-a316-9cbabb101fb1\" xlink:show=\"new\" xlink:title=\"psysml:14e6fe4c-a4d9-4c34-a316-9cbabb101fb1\" xlink:type=\"simple\"><polygon fill=\"#FFFFFF\" points=\"16,6,130,6,137,28.2969,256,28.2969,256,440,16,440,16,6\" style=\"stroke: #000000; stroke-width: 1.5;\"/><line style=\"stroke: #000000; stroke-width: 1.5;\" x1=\"16\" x2=\"137\" y1=\"28.2969\" y2=\"28.2969\"/><text fill=\"#000000\" font-family=\"sans-serif\" font-size=\"14\" font-weight=\"bold\" lengthAdjust=\"spacingAndGlyphs\" textLength=\"108\" x=\"20\" y=\"20.9951\">PictureTaking</text></a><!--MD5=[b4997ac47864f28c2f74865a473b2911]\n",
       "class E2--><a href=\"psysml:9a8bab7b-7078-4a6b-add3-8a1328b0c2d6\" target=\"_top\" title=\"psysml:9a8bab7b-7078-4a6b-add3-8a1328b0c2d6\" xlink:actuate=\"onRequest\" xlink:href=\"psysml:9a8bab7b-7078-4a6b-add3-8a1328b0c2d6\" xlink:show=\"new\" xlink:title=\"psysml:9a8bab7b-7078-4a6b-add3-8a1328b0c2d6\" xlink:type=\"simple\"><rect fill=\"#FFFFFF\" height=\"45.9375\" id=\"E2\" style=\"stroke: #383838; stroke-width: 1.5;\" width=\"66\" x=\"103\" y=\"378\"/><text fill=\"#000000\" font-family=\"sans-serif\" font-size=\"12\" font-style=\"italic\" lengthAdjust=\"spacingAndGlyphs\" textLength=\"64\" x=\"104\" y=\"394.1387\">«part def»</text><text fill=\"#000000\" font-family=\"sans-serif\" font-size=\"12\" lengthAdjust=\"spacingAndGlyphs\" textLength=\"58\" x=\"107\" y=\"408.1074\">Exposure</text><line style=\"stroke: #383838; stroke-width: 1.5;\" x1=\"104\" x2=\"168\" y1=\"415.9375\" y2=\"415.9375\"/></a><!--MD5=[09b614a08d8cba4a07c9adeb5e0fee81]\n",
       "class E3--><a href=\"psysml:44676d48-2ba6-47f9-b761-758fcbe31dbd\" target=\"_top\" title=\"psysml:44676d48-2ba6-47f9-b761-758fcbe31dbd\" xlink:actuate=\"onRequest\" xlink:href=\"psysml:44676d48-2ba6-47f9-b761-758fcbe31dbd\" xlink:show=\"new\" xlink:title=\"psysml:44676d48-2ba6-47f9-b761-758fcbe31dbd\" xlink:type=\"simple\"><rect fill=\"#FFFFFF\" height=\"45.9375\" id=\"E3\" style=\"stroke: #383838; stroke-width: 1.5;\" width=\"79\" x=\"38.5\" y=\"255\"/><text fill=\"#000000\" font-family=\"sans-serif\" font-size=\"12\" font-style=\"italic\" lengthAdjust=\"spacingAndGlyphs\" textLength=\"77\" x=\"39.5\" y=\"271.1387\">«action def»</text><text fill=\"#000000\" font-family=\"sans-serif\" font-size=\"12\" lengthAdjust=\"spacingAndGlyphs\" textLength=\"37\" x=\"59.5\" y=\"285.1074\">Focus</text><line style=\"stroke: #383838; stroke-width: 1.5;\" x1=\"39.5\" x2=\"116.5\" y1=\"292.9375\" y2=\"292.9375\"/></a><!--MD5=[ebbe1d658d1005bcc118a6aa81145e00]\n",
       "class E4--><a href=\"psysml:d9adf687-8d42-42d3-b1b5-8b6413ee0fad\" target=\"_top\" title=\"psysml:d9adf687-8d42-42d3-b1b5-8b6413ee0fad\" xlink:actuate=\"onRequest\" xlink:href=\"psysml:d9adf687-8d42-42d3-b1b5-8b6413ee0fad\" xlink:show=\"new\" xlink:title=\"psysml:d9adf687-8d42-42d3-b1b5-8b6413ee0fad\" xlink:type=\"simple\"><rect fill=\"#FFFFFF\" height=\"45.9375\" id=\"E4\" style=\"stroke: #383838; stroke-width: 1.5;\" width=\"79\" x=\"154.5\" y=\"255\"/><text fill=\"#000000\" font-family=\"sans-serif\" font-size=\"12\" font-style=\"italic\" lengthAdjust=\"spacingAndGlyphs\" textLength=\"77\" x=\"155.5\" y=\"271.1387\">«action def»</text><text fill=\"#000000\" font-family=\"sans-serif\" font-size=\"12\" lengthAdjust=\"spacingAndGlyphs\" textLength=\"37\" x=\"175.5\" y=\"285.1074\">Shoot</text><line style=\"stroke: #383838; stroke-width: 1.5;\" x1=\"155.5\" x2=\"232.5\" y1=\"292.9375\" y2=\"292.9375\"/></a><!--MD5=[270fce915f116d4de14055a7c1d9a0f3]\n",
       "class E5--><a href=\"psysml:704c53cf-e737-43c7-aaa6-afd6aa41e73e\" target=\"_top\" title=\"psysml:704c53cf-e737-43c7-aaa6-afd6aa41e73e\" xlink:actuate=\"onRequest\" xlink:href=\"psysml:704c53cf-e737-43c7-aaa6-afd6aa41e73e\" xlink:show=\"new\" xlink:title=\"psysml:704c53cf-e737-43c7-aaa6-afd6aa41e73e\" xlink:type=\"simple\"><rect fill=\"#FFFFFF\" height=\"45.9375\" id=\"E5\" rx=\"10\" ry=\"10\" style=\"stroke: #383838; stroke-width: 1.5;\" width=\"78\" x=\"96\" y=\"41\"/><text fill=\"#000000\" font-family=\"sans-serif\" font-size=\"12\" font-style=\"italic\" lengthAdjust=\"spacingAndGlyphs\" textLength=\"53\" x=\"108.5\" y=\"57.1387\">«action»</text><text fill=\"#000000\" font-family=\"sans-serif\" font-size=\"12\" lengthAdjust=\"spacingAndGlyphs\" textLength=\"72\" x=\"99\" y=\"71.1074\">takePicture</text><line style=\"stroke: #383838; stroke-width: 1.5;\" x1=\"97\" x2=\"173\" y1=\"78.9375\" y2=\"78.9375\"/></a><!--MD5=[60a26617385b1d2d0262a64233df1f8d]\n",
       "class E6--><a href=\"psysml:247459c4-dc1c-41f3-9bbd-2210d0a14144\" target=\"_top\" title=\"psysml:247459c4-dc1c-41f3-9bbd-2210d0a14144\" xlink:actuate=\"onRequest\" xlink:href=\"psysml:247459c4-dc1c-41f3-9bbd-2210d0a14144\" xlink:show=\"new\" xlink:title=\"psysml:247459c4-dc1c-41f3-9bbd-2210d0a14144\" xlink:type=\"simple\"><rect fill=\"#FFFFFF\" height=\"45.9375\" id=\"E6\" rx=\"10\" ry=\"10\" style=\"stroke: #383838; stroke-width: 1.5;\" width=\"85\" x=\"32.5\" y=\"148\"/><text fill=\"#000000\" font-family=\"sans-serif\" font-size=\"12\" font-style=\"italic\" lengthAdjust=\"spacingAndGlyphs\" textLength=\"53\" x=\"48.5\" y=\"164.1387\">«action»</text><text fill=\"#000000\" font-family=\"sans-serif\" font-size=\"12\" lengthAdjust=\"spacingAndGlyphs\" textLength=\"79\" x=\"35.5\" y=\"178.1074\">focus: Focus</text><line style=\"stroke: #383838; stroke-width: 1.5;\" x1=\"33.5\" x2=\"116.5\" y1=\"185.9375\" y2=\"185.9375\"/></a><!--MD5=[2156ba9850f5573cc1fc38a6a4b2f02b]\n",
       "class E7--><a href=\"psysml:d7e0c4ce-9a2d-4e4d-8f17-58d415aecc73\" target=\"_top\" title=\"psysml:d7e0c4ce-9a2d-4e4d-8f17-58d415aecc73\" xlink:actuate=\"onRequest\" xlink:href=\"psysml:d7e0c4ce-9a2d-4e4d-8f17-58d415aecc73\" xlink:show=\"new\" xlink:title=\"psysml:d7e0c4ce-9a2d-4e4d-8f17-58d415aecc73\" xlink:type=\"simple\"><rect fill=\"#FFFFFF\" height=\"45.9375\" id=\"E7\" rx=\"10\" ry=\"10\" style=\"stroke: #383838; stroke-width: 1.5;\" width=\"87\" x=\"152.5\" y=\"148\"/><text fill=\"#000000\" font-family=\"sans-serif\" font-size=\"12\" font-style=\"italic\" lengthAdjust=\"spacingAndGlyphs\" textLength=\"53\" x=\"169.5\" y=\"164.1387\">«action»</text><text fill=\"#000000\" font-family=\"sans-serif\" font-size=\"12\" lengthAdjust=\"spacingAndGlyphs\" textLength=\"81\" x=\"155.5\" y=\"178.1074\">shoot: Shoot</text><line style=\"stroke: #383838; stroke-width: 1.5;\" x1=\"153.5\" x2=\"238.5\" y1=\"185.9375\" y2=\"185.9375\"/></a><!--MD5=[b900ca4392aad7a68aec1e9245e10ab9]\n",
       "reverse link E3 to E2--><a href=\"psysml:7285223f-23e3-4ded-a1a3-c8dbe746ff9d\" target=\"_top\" title=\"psysml:7285223f-23e3-4ded-a1a3-c8dbe746ff9d\" xlink:actuate=\"onRequest\" xlink:href=\"psysml:7285223f-23e3-4ded-a1a3-c8dbe746ff9d\" xlink:show=\"new\" xlink:title=\"psysml:7285223f-23e3-4ded-a1a3-c8dbe746ff9d\" xlink:type=\"simple\"><path d=\"M110.25,314.14 C110.25,314.14 110.25,377.97 110.25,377.97 \" fill=\"none\" id=\"E3&lt;-E2\" style=\"stroke: #383838; stroke-width: 1.0;\"/><polygon fill=\"#FFFFFF\" points=\"110.25,301.14,106.25,307.14,110.25,313.14,114.25,307.14,110.25,301.14\" style=\"stroke: #383838; stroke-width: 1.0;\"/><text fill=\"#000000\" font-family=\"sans-serif\" font-size=\"13\" lengthAdjust=\"spacingAndGlyphs\" textLength=\"22\" x=\"92\" y=\"344.0669\">xrsl</text></a><!--MD5=[ddeed8deb2209213b62e6cfabaa108b2]\n",
       "reverse link E4 to E2--><a href=\"psysml:3f6601e8-74ad-4acc-b654-2e93fe2ad4c3\" target=\"_top\" title=\"psysml:3f6601e8-74ad-4acc-b654-2e93fe2ad4c3\" xlink:actuate=\"onRequest\" xlink:href=\"psysml:3f6601e8-74ad-4acc-b654-2e93fe2ad4c3\" xlink:show=\"new\" xlink:title=\"psysml:3f6601e8-74ad-4acc-b654-2e93fe2ad4c3\" xlink:type=\"simple\"><path d=\"M161.75,314.14 C161.75,314.14 161.75,377.97 161.75,377.97 \" fill=\"none\" id=\"E4&lt;-E2\" style=\"stroke: #383838; stroke-width: 1.0;\"/><polygon fill=\"#FFFFFF\" points=\"161.75,301.14,157.75,307.14,161.75,313.14,165.75,307.14,161.75,301.14\" style=\"stroke: #383838; stroke-width: 1.0;\"/><text fill=\"#000000\" font-family=\"sans-serif\" font-size=\"13\" lengthAdjust=\"spacingAndGlyphs\" textLength=\"18\" x=\"182\" y=\"344.0669\">xsf</text></a><!--MD5=[85d356282659285ab4b2cfe2f634dd2b]\n",
       "reverse link E5 to E6--><a href=\"psysml:b27ee466-0f4c-4005-a5ef-b2dd2df76771\" target=\"_top\" title=\"psysml:b27ee466-0f4c-4005-a5ef-b2dd2df76771\" xlink:actuate=\"onRequest\" xlink:href=\"psysml:b27ee466-0f4c-4005-a5ef-b2dd2df76771\" xlink:show=\"new\" xlink:title=\"psysml:b27ee466-0f4c-4005-a5ef-b2dd2df76771\" xlink:type=\"simple\"><path d=\"M106.75,100.22 C106.75,100.22 106.75,147.83 106.75,147.83 \" fill=\"none\" id=\"E5&lt;-E6\" style=\"stroke: #383838; stroke-width: 1.0;\"/><polygon fill=\"#383838\" points=\"106.75,87.22,102.75,93.22,106.75,99.22,110.75,93.22,106.75,87.22\" style=\"stroke: #383838; stroke-width: 1.0;\"/><text fill=\"#000000\" font-family=\"sans-serif\" font-size=\"13\" lengthAdjust=\"spacingAndGlyphs\" textLength=\"8\" x=\"105.8609\" y=\"137.0627\">1</text></a><!--MD5=[a717450b82c80b9240a525fa862496af]\n",
       "link E6 to E3--><a href=\"psysml:5a2a5603-bc94-4298-a763-49fe520ca5bc\" target=\"_top\" title=\"psysml:5a2a5603-bc94-4298-a763-49fe520ca5bc\" xlink:actuate=\"onRequest\" xlink:href=\"psysml:5a2a5603-bc94-4298-a763-49fe520ca5bc\" xlink:show=\"new\" xlink:title=\"psysml:5a2a5603-bc94-4298-a763-49fe520ca5bc\" xlink:type=\"simple\"><path d=\"M78,194.22 C78,194.22 78,234.83 78,234.83 \" fill=\"none\" id=\"E6-&gt;E3\" style=\"stroke: #383838; stroke-width: 1.0;\"/><polygon fill=\"#FFFFFF\" points=\"78,254.83,71,235.83,85,235.83,78,254.83\" style=\"stroke: #383838; stroke-width: 1.0;\"/><ellipse cx=\"73\" cy=\"230.13\" fill=\"#383838\" rx=\"2\" ry=\"2\" style=\"stroke: #383838; stroke-width: 1.0;\"/><ellipse cx=\"83\" cy=\"230.13\" fill=\"#383838\" rx=\"2\" ry=\"2\" style=\"stroke: #383838; stroke-width: 1.0;\"/></a><!--MD5=[452b418e7f8a40397a49b8c0a78acc5b]\n",
       "reverse link E5 to E7--><a href=\"psysml:aaa4df86-e408-4ec8-a2fe-61e5d0511306\" target=\"_top\" title=\"psysml:aaa4df86-e408-4ec8-a2fe-61e5d0511306\" xlink:actuate=\"onRequest\" xlink:href=\"psysml:aaa4df86-e408-4ec8-a2fe-61e5d0511306\" xlink:show=\"new\" xlink:title=\"psysml:aaa4df86-e408-4ec8-a2fe-61e5d0511306\" xlink:type=\"simple\"><path d=\"M163.25,100.22 C163.25,100.22 163.25,147.83 163.25,147.83 \" fill=\"none\" id=\"E5&lt;-E7\" style=\"stroke: #383838; stroke-width: 1.0;\"/><polygon fill=\"#383838\" points=\"163.25,87.22,159.25,93.22,163.25,99.22,167.25,93.22,163.25,87.22\" style=\"stroke: #383838; stroke-width: 1.0;\"/><text fill=\"#000000\" font-family=\"sans-serif\" font-size=\"13\" lengthAdjust=\"spacingAndGlyphs\" textLength=\"8\" x=\"145.8328\" y=\"137.0627\">1</text></a><!--MD5=[6bdd27f9905911a7e892a3dc65cf6b7c]\n",
       "link E7 to E4--><a href=\"psysml:f48d95ee-d7b3-4518-8228-9030b5bbf5ab\" target=\"_top\" title=\"psysml:f48d95ee-d7b3-4518-8228-9030b5bbf5ab\" xlink:actuate=\"onRequest\" xlink:href=\"psysml:f48d95ee-d7b3-4518-8228-9030b5bbf5ab\" xlink:show=\"new\" xlink:title=\"psysml:f48d95ee-d7b3-4518-8228-9030b5bbf5ab\" xlink:type=\"simple\"><path d=\"M194,194.22 C194,194.22 194,234.83 194,234.83 \" fill=\"none\" id=\"E7-&gt;E4\" style=\"stroke: #383838; stroke-width: 1.0;\"/><polygon fill=\"#FFFFFF\" points=\"194,254.83,187,235.83,201,235.83,194,254.83\" style=\"stroke: #383838; stroke-width: 1.0;\"/><ellipse cx=\"189\" cy=\"230.13\" fill=\"#383838\" rx=\"2\" ry=\"2\" style=\"stroke: #383838; stroke-width: 1.0;\"/><ellipse cx=\"199\" cy=\"230.13\" fill=\"#383838\" rx=\"2\" ry=\"2\" style=\"stroke: #383838; stroke-width: 1.0;\"/></a><!--MD5=[93f306c2bdb5e80fb2beabd3fb757dc4]\n",
       "@startuml\r\n",
       "skinparam linetype ortho\r\n",
       "skinparam monochrome true\r\n",
       "skinparam classbackgroundcolor white\r\n",
       "skinparam shadowing false\r\n",
       "skinparam wrapWidth 300\r\n",
       "hide circle\r\n",
       "\r\n",
       "package \"PictureTaking\" as E1  [[psysml:14e6fe4c-a4d9-4c34-a316-9cbabb101fb1 ]]  {\r\n",
       "comp def \"Exposure\" as E2  <<(T,blue)part def>> [[psysml:9a8bab7b-7078-4a6b-add3-8a1328b0c2d6 ]] {\r\n",
       "}\r\n",
       "comp def \"Focus\" as E3  <<(T,blue)action def>> [[psysml:44676d48-2ba6-47f9-b761-758fcbe31dbd ]] {\r\n",
       "}\r\n",
       "comp def \"Shoot\" as E4  <<(T,blue)action def>> [[psysml:d9adf687-8d42-42d3-b1b5-8b6413ee0fad ]] {\r\n",
       "}\r\n",
       "comp usage \"takePicture\" as E5  <<(T,blue)action>> [[psysml:704c53cf-e737-43c7-aaa6-afd6aa41e73e ]] {\r\n",
       "}\r\n",
       "comp usage \"focus: Focus\" as E6  <<(T,blue)action>> [[psysml:247459c4-dc1c-41f3-9bbd-2210d0a14144 ]] {\r\n",
       "}\r\n",
       "comp usage \"shoot: Shoot\" as E7  <<(T,blue)action>> [[psysml:d7e0c4ce-9a2d-4e4d-8f17-58d415aecc73 ]] {\r\n",
       "}\r\n",
       "E3 o- - E2 [[psysml:7285223f-23e3-4ded-a1a3-c8dbe746ff9d ]] : xrsl\r\n",
       "E4 o- - E2 [[psysml:3f6601e8-74ad-4acc-b654-2e93fe2ad4c3 ]] : xsf\r\n",
       "E5 *- - \"1\"E6 [[psysml:b27ee466-0f4c-4005-a5ef-b2dd2df76771 ]] \r\n",
       "E6 - -:|> E3 [[psysml:5a2a5603-bc94-4298-a763-49fe520ca5bc ]] \r\n",
       "E5 *- - \"1\"E7 [[psysml:aaa4df86-e408-4ec8-a2fe-61e5d0511306 ]] \r\n",
       "E7 - -:|> E4 [[psysml:f48d95ee-d7b3-4518-8228-9030b5bbf5ab ]] \r\n",
       "}\r\n",
       "@enduml\r\n",
       "\n",
       "PlantUML version 1.2020.13(Sat Jun 13 12:26:38 UTC 2020)\n",
       "(EPL source distribution)\n",
       "Java Runtime: OpenJDK Runtime Environment\n",
       "JVM: OpenJDK 64-Bit Server VM\n",
       "Default Encoding: UTF-8\n",
       "Language: en\n",
       "Country: null\n",
       "--></g></svg>"
      ]
     },
     "execution_count": 56,
     "metadata": {},
     "output_type": "execute_result"
    }
   ],
   "source": [
    "%viz --style=\"ORTHOLINE\" --view=\"Sequence\" \"PictureTaking\""
   ]
  },
  {
   "cell_type": "code",
   "execution_count": 57,
   "id": "c0e08159",
   "metadata": {
    "execution": {
     "iopub.execute_input": "2021-04-20T07:32:05.671088Z",
     "iopub.status.busy": "2021-04-20T07:32:05.669859Z",
     "iopub.status.idle": "2021-04-20T07:32:05.726579Z",
     "shell.execute_reply": "2021-04-20T07:32:05.725060Z"
    }
   },
   "outputs": [
    {
     "data": {
      "image/svg+xml": [
       "<?xml version=\"1.0\" encoding=\"UTF-8\" standalone=\"no\"?><svg xmlns=\"http://www.w3.org/2000/svg\" xmlns:xlink=\"http://www.w3.org/1999/xlink\" contentScriptType=\"application/ecmascript\" contentStyleType=\"text/css\" height=\"455px\" preserveAspectRatio=\"none\" style=\"width:700px;height:455px;\" version=\"1.1\" viewBox=\"0 0 700 455\" width=\"700px\" zoomAndPan=\"magnify\"><defs/><g><!--MD5=[fbc87193dbaf4d95561dea2c320d4a47]\n",
       "cluster E1--><a href=\"psysml:14e6fe4c-a4d9-4c34-a316-9cbabb101fb1\" target=\"_top\" title=\"psysml:14e6fe4c-a4d9-4c34-a316-9cbabb101fb1\" xlink:actuate=\"onRequest\" xlink:href=\"psysml:14e6fe4c-a4d9-4c34-a316-9cbabb101fb1\" xlink:show=\"new\" xlink:title=\"psysml:14e6fe4c-a4d9-4c34-a316-9cbabb101fb1\" xlink:type=\"simple\"><polygon fill=\"#FFFFFF\" points=\"16,6,130,6,137,28.2969,678,28.2969,678,443.5,16,443.5,16,6\" style=\"stroke: #000000; stroke-width: 1.5;\"/><line style=\"stroke: #000000; stroke-width: 1.5;\" x1=\"16\" x2=\"137\" y1=\"28.2969\" y2=\"28.2969\"/><text fill=\"#000000\" font-family=\"sans-serif\" font-size=\"14\" font-weight=\"bold\" lengthAdjust=\"spacingAndGlyphs\" textLength=\"108\" x=\"20\" y=\"20.9951\">PictureTaking</text></a><!--MD5=[d5e69f78d87373223dbae638b30a9c99]\n",
       "cluster E3--><a href=\"psysml:44676d48-2ba6-47f9-b761-758fcbe31dbd\" target=\"_top\" title=\"psysml:44676d48-2ba6-47f9-b761-758fcbe31dbd\" xlink:actuate=\"onRequest\" xlink:href=\"psysml:44676d48-2ba6-47f9-b761-758fcbe31dbd\" xlink:show=\"new\" xlink:title=\"psysml:44676d48-2ba6-47f9-b761-758fcbe31dbd\" xlink:type=\"simple\"><rect fill=\"#FFFFFF\" height=\"217.5\" id=\"E3\" style=\"stroke: #383838; stroke-width: 1.5;\" width=\"134\" x=\"528\" y=\"100\"/><rect fill=\"#F8F8F8\" height=\"37.9375\" style=\"stroke: #383838; stroke-width: 1.5;\" width=\"134\" x=\"528\" y=\"100\"/><text fill=\"#000000\" font-family=\"sans-serif\" font-size=\"12\" font-style=\"italic\" lengthAdjust=\"spacingAndGlyphs\" textLength=\"77\" x=\"556.5\" y=\"116.1387\">«action def»</text><text fill=\"#000000\" font-family=\"sans-serif\" font-size=\"12\" lengthAdjust=\"spacingAndGlyphs\" textLength=\"37\" x=\"576.5\" y=\"130.1074\">Focus</text></a><!--MD5=[de5ec2e2e8f62f467e546659f5068c88]\n",
       "cluster E5--><a href=\"psysml:d9adf687-8d42-42d3-b1b5-8b6413ee0fad\" target=\"_top\" title=\"psysml:d9adf687-8d42-42d3-b1b5-8b6413ee0fad\" xlink:actuate=\"onRequest\" xlink:href=\"psysml:d9adf687-8d42-42d3-b1b5-8b6413ee0fad\" xlink:show=\"new\" xlink:title=\"psysml:d9adf687-8d42-42d3-b1b5-8b6413ee0fad\" xlink:type=\"simple\"><rect fill=\"#FFFFFF\" height=\"134\" id=\"E5\" style=\"stroke: #383838; stroke-width: 1.5;\" width=\"134\" x=\"386\" y=\"133.5\"/><rect fill=\"#F8F8F8\" height=\"37.9375\" style=\"stroke: #383838; stroke-width: 1.5;\" width=\"134\" x=\"386\" y=\"133.5\"/><text fill=\"#000000\" font-family=\"sans-serif\" font-size=\"12\" font-style=\"italic\" lengthAdjust=\"spacingAndGlyphs\" textLength=\"77\" x=\"414.5\" y=\"149.6387\">«action def»</text><text fill=\"#000000\" font-family=\"sans-serif\" font-size=\"12\" lengthAdjust=\"spacingAndGlyphs\" textLength=\"37\" x=\"434.5\" y=\"163.6074\">Shoot</text></a><!--MD5=[168fadf3d0c3fd93dd5d6da1b1d7ab76]\n",
       "cluster E7--><a href=\"psysml:704c53cf-e737-43c7-aaa6-afd6aa41e73e\" target=\"_top\" title=\"psysml:704c53cf-e737-43c7-aaa6-afd6aa41e73e\" xlink:actuate=\"onRequest\" xlink:href=\"psysml:704c53cf-e737-43c7-aaa6-afd6aa41e73e\" xlink:show=\"new\" xlink:title=\"psysml:704c53cf-e737-43c7-aaa6-afd6aa41e73e\" xlink:type=\"simple\"><rect fill=\"#FFFFFF\" height=\"370.5\" id=\"E7\" rx=\"10\" ry=\"10\" style=\"stroke: #383838; stroke-width: 1.5;\" width=\"256\" x=\"114\" y=\"49\"/><rect fill=\"#F8F8F8\" height=\"37.9375\" rx=\"10\" ry=\"10\" style=\"stroke: #F8F8F8; stroke-width: 1.5;\" width=\"256\" x=\"114\" y=\"49\"/><rect fill=\"#F8F8F8\" height=\"10\" style=\"stroke: #F8F8F8; stroke-width: 1.5;\" width=\"256\" x=\"114\" y=\"76.9375\"/><rect fill=\"none\" height=\"370.5\" id=\"E7\" rx=\"10\" ry=\"10\" style=\"stroke: #383838; stroke-width: 1.5;\" width=\"256\" x=\"114\" y=\"49\"/><text fill=\"#000000\" font-family=\"sans-serif\" font-size=\"12\" font-style=\"italic\" lengthAdjust=\"spacingAndGlyphs\" textLength=\"53\" x=\"215.5\" y=\"65.1387\">«action»</text><text fill=\"#000000\" font-family=\"sans-serif\" font-size=\"12\" lengthAdjust=\"spacingAndGlyphs\" textLength=\"72\" x=\"206\" y=\"79.1074\">takePicture</text><line style=\"stroke: #383838; stroke-width: 1.0;\" x1=\"114\" x2=\"370\" y1=\"86.9375\" y2=\"86.9375\"/></a><!--MD5=[55dfccfc6c49c2d10cd1bd2211a6c90c]\n",
       "cluster E8--><a href=\"psysml:247459c4-dc1c-41f3-9bbd-2210d0a14144\" target=\"_top\" title=\"psysml:247459c4-dc1c-41f3-9bbd-2210d0a14144\" xlink:actuate=\"onRequest\" xlink:href=\"psysml:247459c4-dc1c-41f3-9bbd-2210d0a14144\" xlink:show=\"new\" xlink:title=\"psysml:247459c4-dc1c-41f3-9bbd-2210d0a14144\" xlink:type=\"simple\"><rect fill=\"#FFFFFF\" height=\"217.5\" id=\"E8\" rx=\"10\" ry=\"10\" style=\"stroke: #383838; stroke-width: 1.5;\" width=\"83\" x=\"257\" y=\"100\"/><rect fill=\"#F8F8F8\" height=\"37.9375\" rx=\"10\" ry=\"10\" style=\"stroke: #F8F8F8; stroke-width: 1.5;\" width=\"83\" x=\"257\" y=\"100\"/><rect fill=\"#F8F8F8\" height=\"10\" style=\"stroke: #F8F8F8; stroke-width: 1.5;\" width=\"83\" x=\"257\" y=\"127.9375\"/><rect fill=\"none\" height=\"217.5\" id=\"E8\" rx=\"10\" ry=\"10\" style=\"stroke: #383838; stroke-width: 1.5;\" width=\"83\" x=\"257\" y=\"100\"/><text fill=\"#000000\" font-family=\"sans-serif\" font-size=\"12\" font-style=\"italic\" lengthAdjust=\"spacingAndGlyphs\" textLength=\"53\" x=\"272\" y=\"116.1387\">«action»</text><text fill=\"#000000\" font-family=\"sans-serif\" font-size=\"12\" lengthAdjust=\"spacingAndGlyphs\" textLength=\"34\" x=\"281.5\" y=\"130.1074\">focus</text><line style=\"stroke: #383838; stroke-width: 1.0;\" x1=\"257\" x2=\"340\" y1=\"137.9375\" y2=\"137.9375\"/></a><!--MD5=[917b9dd0c7eca3ee5f47219d1a84c0ad]\n",
       "cluster E11--><a href=\"psysml:d7e0c4ce-9a2d-4e4d-8f17-58d415aecc73\" target=\"_top\" title=\"psysml:d7e0c4ce-9a2d-4e4d-8f17-58d415aecc73\" xlink:actuate=\"onRequest\" xlink:href=\"psysml:d7e0c4ce-9a2d-4e4d-8f17-58d415aecc73\" xlink:show=\"new\" xlink:title=\"psysml:d7e0c4ce-9a2d-4e4d-8f17-58d415aecc73\" xlink:type=\"simple\"><rect fill=\"#FFFFFF\" height=\"256\" id=\"E11\" rx=\"10\" ry=\"10\" style=\"stroke: #383838; stroke-width: 1.5;\" width=\"74\" x=\"164\" y=\"133.5\"/><rect fill=\"#F8F8F8\" height=\"37.9375\" rx=\"10\" ry=\"10\" style=\"stroke: #F8F8F8; stroke-width: 1.5;\" width=\"74\" x=\"164\" y=\"133.5\"/><rect fill=\"#F8F8F8\" height=\"10\" style=\"stroke: #F8F8F8; stroke-width: 1.5;\" width=\"74\" x=\"164\" y=\"161.4375\"/><rect fill=\"none\" height=\"256\" id=\"E11\" rx=\"10\" ry=\"10\" style=\"stroke: #383838; stroke-width: 1.5;\" width=\"74\" x=\"164\" y=\"133.5\"/><text fill=\"#000000\" font-family=\"sans-serif\" font-size=\"12\" font-style=\"italic\" lengthAdjust=\"spacingAndGlyphs\" textLength=\"53\" x=\"174.5\" y=\"149.6387\">«action»</text><text fill=\"#000000\" font-family=\"sans-serif\" font-size=\"12\" lengthAdjust=\"spacingAndGlyphs\" textLength=\"36\" x=\"183\" y=\"163.6074\">shoot</text><line style=\"stroke: #383838; stroke-width: 1.0;\" x1=\"164\" x2=\"238\" y1=\"171.4375\" y2=\"171.4375\"/></a><!--MD5=[b4997ac47864f28c2f74865a473b2911]\n",
       "class E2--><a href=\"psysml:9a8bab7b-7078-4a6b-add3-8a1328b0c2d6\" target=\"_top\" title=\"psysml:9a8bab7b-7078-4a6b-add3-8a1328b0c2d6\" xlink:actuate=\"onRequest\" xlink:href=\"psysml:9a8bab7b-7078-4a6b-add3-8a1328b0c2d6\" xlink:show=\"new\" xlink:title=\"psysml:9a8bab7b-7078-4a6b-add3-8a1328b0c2d6\" xlink:type=\"simple\"><rect fill=\"#FFFFFF\" height=\"45.9375\" id=\"E2\" style=\"stroke: #383838; stroke-width: 1.5;\" width=\"66\" x=\"32\" y=\"110.5\"/><text fill=\"#000000\" font-family=\"sans-serif\" font-size=\"12\" font-style=\"italic\" lengthAdjust=\"spacingAndGlyphs\" textLength=\"64\" x=\"33\" y=\"126.6387\">«part def»</text><text fill=\"#000000\" font-family=\"sans-serif\" font-size=\"12\" lengthAdjust=\"spacingAndGlyphs\" textLength=\"58\" x=\"36\" y=\"140.6074\">Exposure</text><line style=\"stroke: #383838; stroke-width: 1.5;\" x1=\"33\" x2=\"97\" y1=\"148.4375\" y2=\"148.4375\"/></a><text fill=\"#000000\" font-family=\"sans-serif\" font-size=\"14\" lengthAdjust=\"spacingAndGlyphs\" textLength=\"23\" x=\"583.5\" y=\"336.4951\">xrsl</text><rect fill=\"#383838\" height=\"12\" style=\"stroke: #F8F8F8; stroke-width: 1.5;\" width=\"12\" x=\"589\" y=\"311.5\"/><text fill=\"#000000\" font-family=\"sans-serif\" font-size=\"14\" lengthAdjust=\"spacingAndGlyphs\" textLength=\"19\" x=\"443.5\" y=\"112.1982\">xsf</text><rect fill=\"#383838\" height=\"12\" style=\"stroke: #F8F8F8; stroke-width: 1.5;\" width=\"12\" x=\"447\" y=\"127.5\"/><text fill=\"#000000\" font-family=\"sans-serif\" font-size=\"14\" lengthAdjust=\"spacingAndGlyphs\" textLength=\"48\" x=\"251\" y=\"336.4951\">$result</text><rect fill=\"#383838\" height=\"12\" style=\"stroke: #F8F8F8; stroke-width: 1.5;\" width=\"12\" x=\"269\" y=\"311.5\"/><text fill=\"#000000\" font-family=\"sans-serif\" font-size=\"14\" lengthAdjust=\"spacingAndGlyphs\" textLength=\"23\" x=\"310.5\" y=\"336.4951\">xrsl</text><rect fill=\"#383838\" height=\"12\" style=\"stroke: #F8F8F8; stroke-width: 1.5;\" width=\"12\" x=\"316\" y=\"311.5\"/><text fill=\"#000000\" font-family=\"sans-serif\" font-size=\"14\" lengthAdjust=\"spacingAndGlyphs\" textLength=\"48\" x=\"158\" y=\"408.4951\">$result</text><rect fill=\"#383838\" height=\"12\" style=\"stroke: #F8F8F8; stroke-width: 1.5;\" width=\"12\" x=\"176\" y=\"383.5\"/><text fill=\"#000000\" font-family=\"sans-serif\" font-size=\"14\" lengthAdjust=\"spacingAndGlyphs\" textLength=\"19\" x=\"174.5\" y=\"112.1982\">xsf</text><rect fill=\"#383838\" height=\"12\" style=\"stroke: #F8F8F8; stroke-width: 1.5;\" width=\"12\" x=\"178\" y=\"127.5\"/><!--MD5=[4b39ac80c1e1f03e6733bcd69291f537]\n",
       "@startuml\r\n",
       "skinparam linetype ortho\r\n",
       "skinparam monochrome true\r\n",
       "skinparam classbackgroundcolor white\r\n",
       "skinparam shadowing false\r\n",
       "skinparam wrapWidth 300\r\n",
       "hide circle\r\n",
       "\r\n",
       "package \"PictureTaking\" as E1  [[psysml:14e6fe4c-a4d9-4c34-a316-9cbabb101fb1 ]]  {\r\n",
       "comp def \"Exposure\" as E2  <<(T,blue)part def>> [[psysml:9a8bab7b-7078-4a6b-add3-8a1328b0c2d6 ]] {\r\n",
       "}\r\n",
       "rec def \"Focus\" as E3  <<(T,blue)action def>> [[psysml:44676d48-2ba6-47f9-b761-758fcbe31dbd ]] {\r\n",
       "portout \"xrsl\" as E4  [[psysml:7285223f-23e3-4ded-a1a3-c8dbe746ff9d ]] \r\n",
       "}\r\n",
       "\r\n",
       "rec def \"Shoot\" as E5  <<(T,blue)action def>> [[psysml:d9adf687-8d42-42d3-b1b5-8b6413ee0fad ]] {\r\n",
       "portin \"xsf\" as E6  [[psysml:3f6601e8-74ad-4acc-b654-2e93fe2ad4c3 ]] \r\n",
       "}\r\n",
       "\r\n",
       "rec usage \"takePicture\" as E7  <<(T,blue)action>> [[psysml:704c53cf-e737-43c7-aaa6-afd6aa41e73e ]] {\r\n",
       "rec usage \"focus\" as E8  <<(T,blue)action>> [[psysml:247459c4-dc1c-41f3-9bbd-2210d0a14144 ]] {\r\n",
       "portout \"$result\" as E9  [[psysml:d24c4944-7685-4e9e-b1e9-aa0857e67b68 ]] \r\n",
       "portout \"xrsl\" as E10  [[psysml:a9b63f0e-a7c1-4470-82ae-da9c74073d16 ]] \r\n",
       "}\r\n",
       "\r\n",
       "rec usage \"shoot\" as E11  <<(T,blue)action>> [[psysml:d7e0c4ce-9a2d-4e4d-8f17-58d415aecc73 ]] {\r\n",
       "portout \"$result\" as E12  [[psysml:edaf4370-9fef-4792-934f-b7a89f5913cc ]] \r\n",
       "portin \"xsf\" as E13  [[psysml:1ee0e316-c080-4a1b-aa8d-122e3ae24dab ]] \r\n",
       "}\r\n",
       "\r\n",
       "}\r\n",
       "\r\n",
       "}\r\n",
       "@enduml\r\n",
       "\n",
       "PlantUML version 1.2020.13(Sat Jun 13 12:26:38 UTC 2020)\n",
       "(EPL source distribution)\n",
       "Java Runtime: OpenJDK Runtime Environment\n",
       "JVM: OpenJDK 64-Bit Server VM\n",
       "Default Encoding: UTF-8\n",
       "Language: en\n",
       "Country: null\n",
       "--></g></svg>"
      ]
     },
     "execution_count": 57,
     "metadata": {},
     "output_type": "execute_result"
    }
   ],
   "source": [
    "%viz --style=\"ORTHOLINE\" --view=\"MIXED\" \"PictureTaking\""
   ]
  }
 ],
 "metadata": {
  "kernelspec": {
   "display_name": "SysML",
   "language": "sysml",
   "name": "sysml"
  },
  "language_info": {
   "codemirror_mode": "sysml",
   "file_extension": ".sysml",
   "mimetype": "text/x-sysml",
   "name": "SysML",
   "pygments_lexer": "java",
   "version": "1.0.0"
  }
 },
 "nbformat": 4,
 "nbformat_minor": 5
}
