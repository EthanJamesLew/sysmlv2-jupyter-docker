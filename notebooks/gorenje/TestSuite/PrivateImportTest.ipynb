{
 "cells": [
  {
   "cell_type": "markdown",
   "id": "542b920e",
   "metadata": {},
   "source": [
    "# SysML v2 Test Suite\n",
    "\n",
    "This can notebook can be cleared using menu `Edit --> Clear All Outputs` and then all cells can be\n",
    "run using menu `Run --> Run All Cells`.\n",
    "\n",
    "**WARNING**: This file is generated, all modifications here will be ignored.\n"
   ]
  },
  {
   "cell_type": "markdown",
   "id": "ab7440b7",
   "metadata": {},
   "source": [
    "## File: ../../sysml/src/examples/Import Tests/PrivateImportTest.sysml"
   ]
  },
  {
   "cell_type": "code",
   "execution_count": 1,
   "id": "7a8de9c0",
   "metadata": {
    "execution": {
     "iopub.execute_input": "2021-08-04T06:27:53.406540Z",
     "iopub.status.busy": "2021-08-04T06:27:53.405535Z",
     "iopub.status.idle": "2021-08-04T06:27:53.508937Z",
     "shell.execute_reply": "2021-08-04T06:27:53.509181Z"
    }
   },
   "outputs": [
    {
     "data": {
      "text/plain": [
       "Package PrivateImportTest (f5600f1d-788b-489b-892c-a870bdcd3b7a)\n"
      ]
     },
     "execution_count": 1,
     "metadata": {},
     "output_type": "execute_result"
    }
   ],
   "source": [
    "package PrivateImportTest {\n",
    "\tpackage P1 {\n",
    "\t\tpart def A;\n",
    "\t}\n",
    "\tpackage P2 {\n",
    "\t\tprivate import P1::*;\n",
    "\t}\n",
    "\n",
    "\tpart x: P1::A;\n",
    "\t\n",
    "\timport P2::*;\n",
    "\t// This should fail.\n",
    "\t// A is not visible, because the import in P2 is private.\n",
    "\t// part y: A;\n",
    "\t// part y1: P2::A;\n",
    "\t\n",
    "\tpackage P3 {\n",
    "\t\tpart def B;\n",
    "\t}\n",
    "\t\n",
    "\tprivate import P3::*;\n",
    "\t\n",
    "\t// This should not fail.\n",
    "\t// Private import only restricts visibility outside the package.\n",
    "\tpart z: B;\n",
    "\t\n",
    "\tpackage P4 {\n",
    "\t\timport all P2::*;\n",
    "\t\t\n",
    "\t\t// This should not fail because \"import all\" overrides private import.\n",
    "\t\tpart z1: A;\n",
    "\t}\t\n",
    "}"
   ]
  },
  {
   "cell_type": "code",
   "execution_count": 2,
   "id": "cd39a97a",
   "metadata": {
    "execution": {
     "iopub.execute_input": "2021-08-04T06:27:53.560672Z",
     "iopub.status.busy": "2021-08-04T06:27:53.560409Z",
     "iopub.status.idle": "2021-08-04T06:27:53.934941Z",
     "shell.execute_reply": "2021-08-04T06:27:53.935197Z"
    }
   },
   "outputs": [
    {
     "data": {
      "image/svg+xml": [
       "<?xml version=\"1.0\" encoding=\"UTF-8\" standalone=\"no\"?><svg xmlns=\"http://www.w3.org/2000/svg\" xmlns:xlink=\"http://www.w3.org/1999/xlink\" contentScriptType=\"application/ecmascript\" contentStyleType=\"text/css\" height=\"303px\" preserveAspectRatio=\"none\" style=\"width:365px;height:303px;\" version=\"1.1\" viewBox=\"0 0 365 303\" width=\"365px\" zoomAndPan=\"magnify\"><defs/><g><!--MD5=[fbc87193dbaf4d95561dea2c320d4a47]\n",
       "cluster E1--><a href=\"psysml:90f2a1bf-87a7-47cf-b7dc-49b41c6fd8e7\" target=\"_top\" title=\"psysml:90f2a1bf-87a7-47cf-b7dc-49b41c6fd8e7\" xlink:actuate=\"onRequest\" xlink:href=\"psysml:90f2a1bf-87a7-47cf-b7dc-49b41c6fd8e7\" xlink:show=\"new\" xlink:title=\"psysml:90f2a1bf-87a7-47cf-b7dc-49b41c6fd8e7\" xlink:type=\"simple\"><polygon fill=\"#FFFFFF\" points=\"16,6,163,6,170,28.2969,343,28.2969,343,291,16,291,16,6\" style=\"stroke: #000000; stroke-width: 1.5;\"/><line style=\"stroke: #000000; stroke-width: 1.5;\" x1=\"16\" x2=\"170\" y1=\"28.2969\" y2=\"28.2969\"/><text fill=\"#000000\" font-family=\"sans-serif\" font-size=\"14\" font-weight=\"bold\" lengthAdjust=\"spacingAndGlyphs\" textLength=\"141\" x=\"20\" y=\"20.9951\">PrivateImportTest</text></a><!--MD5=[e4f7fae6ed58524ba242bb0b0d3be6b7]\n",
       "cluster E2--><a href=\"psysml:16275eaf-61bd-4171-b64d-9c4aa1fed5b3\" target=\"_top\" title=\"psysml:16275eaf-61bd-4171-b64d-9c4aa1fed5b3\" xlink:actuate=\"onRequest\" xlink:href=\"psysml:16275eaf-61bd-4171-b64d-9c4aa1fed5b3\" xlink:show=\"new\" xlink:title=\"psysml:16275eaf-61bd-4171-b64d-9c4aa1fed5b3\" xlink:type=\"simple\"><polygon fill=\"#FFFFFF\" points=\"211,170,237,170,244,192.2969,309,192.2969,309,267,211,267,211,170\" style=\"stroke: #000000; stroke-width: 1.5;\"/><line style=\"stroke: #000000; stroke-width: 1.5;\" x1=\"211\" x2=\"244\" y1=\"192.2969\" y2=\"192.2969\"/><text fill=\"#000000\" font-family=\"sans-serif\" font-size=\"14\" font-weight=\"bold\" lengthAdjust=\"spacingAndGlyphs\" textLength=\"20\" x=\"215\" y=\"184.9951\">P1</text></a><!--MD5=[14e3b0961a2654348d326746436168a1]\n",
       "cluster E6--><a href=\"psysml:9d4f5989-8a3e-4397-a866-52670c662db3\" target=\"_top\" title=\"psysml:9d4f5989-8a3e-4397-a866-52670c662db3\" xlink:actuate=\"onRequest\" xlink:href=\"psysml:9d4f5989-8a3e-4397-a866-52670c662db3\" xlink:show=\"new\" xlink:title=\"psysml:9d4f5989-8a3e-4397-a866-52670c662db3\" xlink:type=\"simple\"><polygon fill=\"#FFFFFF\" points=\"79,170,105,170,112,192.2969,177,192.2969,177,267,79,267,79,170\" style=\"stroke: #000000; stroke-width: 1.5;\"/><line style=\"stroke: #000000; stroke-width: 1.5;\" x1=\"79\" x2=\"112\" y1=\"192.2969\" y2=\"192.2969\"/><text fill=\"#000000\" font-family=\"sans-serif\" font-size=\"14\" font-weight=\"bold\" lengthAdjust=\"spacingAndGlyphs\" textLength=\"20\" x=\"83\" y=\"184.9951\">P3</text></a><!--MD5=[7f149f147074ac12df2cb0a7728a5fb0]\n",
       "cluster E9--><a href=\"psysml:5979dd71-75f1-4b72-84ed-7ab4ecfce4b9\" target=\"_top\" title=\"psysml:5979dd71-75f1-4b72-84ed-7ab4ecfce4b9\" xlink:actuate=\"onRequest\" xlink:href=\"psysml:5979dd71-75f1-4b72-84ed-7ab4ecfce4b9\" xlink:show=\"new\" xlink:title=\"psysml:5979dd71-75f1-4b72-84ed-7ab4ecfce4b9\" xlink:type=\"simple\"><polygon fill=\"#FFFFFF\" points=\"245,49,271,49,278,71.2969,319,71.2969,319,146,245,146,245,49\" style=\"stroke: #000000; stroke-width: 1.5;\"/><line style=\"stroke: #000000; stroke-width: 1.5;\" x1=\"245\" x2=\"278\" y1=\"71.2969\" y2=\"71.2969\"/><text fill=\"#000000\" font-family=\"sans-serif\" font-size=\"14\" font-weight=\"bold\" lengthAdjust=\"spacingAndGlyphs\" textLength=\"20\" x=\"249\" y=\"63.9951\">P4</text></a><!--MD5=[270fce915f116d4de14055a7c1d9a0f3]\n",
       "class E5--><a href=\"psysml:0c75b404-ec52-4836-8cbb-5da98c4a5930\" target=\"_top\" title=\"psysml:0c75b404-ec52-4836-8cbb-5da98c4a5930\" xlink:actuate=\"onRequest\" xlink:href=\"psysml:0c75b404-ec52-4836-8cbb-5da98c4a5930\" xlink:show=\"new\" xlink:title=\"psysml:0c75b404-ec52-4836-8cbb-5da98c4a5930\" xlink:type=\"simple\"><rect fill=\"#FFFFFF\" height=\"45.9375\" id=\"E5\" rx=\"10\" ry=\"10\" style=\"stroke: #383838; stroke-width: 1.5;\" width=\"42\" x=\"184\" y=\"84\"/><text fill=\"#000000\" font-family=\"sans-serif\" font-size=\"12\" font-style=\"italic\" lengthAdjust=\"spacingAndGlyphs\" textLength=\"40\" x=\"185\" y=\"100.1387\">«part»</text><text fill=\"#000000\" font-family=\"sans-serif\" font-size=\"12\" lengthAdjust=\"spacingAndGlyphs\" textLength=\"22\" x=\"194\" y=\"114.1074\">x: A</text><line style=\"stroke: #383838; stroke-width: 1.5;\" x1=\"185\" x2=\"225\" y1=\"121.9375\" y2=\"121.9375\"/></a><!--MD5=[b9389687b975829384b498ac4b7476b2]\n",
       "class E8--><a href=\"psysml:f43ee61a-1d92-4bcd-a6ef-463238303c09\" target=\"_top\" title=\"psysml:f43ee61a-1d92-4bcd-a6ef-463238303c09\" xlink:actuate=\"onRequest\" xlink:href=\"psysml:f43ee61a-1d92-4bcd-a6ef-463238303c09\" xlink:show=\"new\" xlink:title=\"psysml:f43ee61a-1d92-4bcd-a6ef-463238303c09\" xlink:type=\"simple\"><rect fill=\"#FFFFFF\" height=\"45.9375\" id=\"E8\" rx=\"10\" ry=\"10\" style=\"stroke: #383838; stroke-width: 1.5;\" width=\"42\" x=\"107\" y=\"84\"/><text fill=\"#000000\" font-family=\"sans-serif\" font-size=\"12\" font-style=\"italic\" lengthAdjust=\"spacingAndGlyphs\" textLength=\"40\" x=\"108\" y=\"100.1387\">«part»</text><text fill=\"#000000\" font-family=\"sans-serif\" font-size=\"12\" lengthAdjust=\"spacingAndGlyphs\" textLength=\"21\" x=\"117.5\" y=\"114.1074\">z: B</text><line style=\"stroke: #383838; stroke-width: 1.5;\" x1=\"108\" x2=\"148\" y1=\"121.9375\" y2=\"121.9375\"/></a><!--MD5=[09b614a08d8cba4a07c9adeb5e0fee81]\n",
       "class E3--><a href=\"psysml:c33e3566-7ac4-4487-b3df-3cd0148aac2a\" target=\"_top\" title=\"psysml:c33e3566-7ac4-4487-b3df-3cd0148aac2a\" xlink:actuate=\"onRequest\" xlink:href=\"psysml:c33e3566-7ac4-4487-b3df-3cd0148aac2a\" xlink:show=\"new\" xlink:title=\"psysml:c33e3566-7ac4-4487-b3df-3cd0148aac2a\" xlink:type=\"simple\"><rect fill=\"#FFFFFF\" height=\"45.9375\" id=\"E3\" style=\"stroke: #383838; stroke-width: 1.5;\" width=\"66\" x=\"227\" y=\"205\"/><text fill=\"#000000\" font-family=\"sans-serif\" font-size=\"12\" font-style=\"italic\" lengthAdjust=\"spacingAndGlyphs\" textLength=\"64\" x=\"228\" y=\"221.1387\">«part def»</text><text fill=\"#000000\" font-family=\"sans-serif\" font-size=\"12\" lengthAdjust=\"spacingAndGlyphs\" textLength=\"8\" x=\"256\" y=\"235.1074\">A</text><line style=\"stroke: #383838; stroke-width: 1.5;\" x1=\"228\" x2=\"292\" y1=\"242.9375\" y2=\"242.9375\"/></a><a href=\"psysml:b9d82d12-80d8-4b65-b32b-0d4caf256cd7\" target=\"_top\" title=\"psysml:b9d82d12-80d8-4b65-b32b-0d4caf256cd7\" xlink:actuate=\"onRequest\" xlink:href=\"psysml:b9d82d12-80d8-4b65-b32b-0d4caf256cd7\" xlink:show=\"new\" xlink:title=\"psysml:b9d82d12-80d8-4b65-b32b-0d4caf256cd7\" xlink:type=\"simple\"><polygon fill=\"#FFFFFF\" points=\"32,80.5,58,80.5,65,102.7969,72,102.7969,72,133.0938,32,133.0938,32,80.5\" style=\"stroke: #000000; stroke-width: 1.5;\"/><line style=\"stroke: #000000; stroke-width: 1.5;\" x1=\"32\" x2=\"65\" y1=\"102.7969\" y2=\"102.7969\"/><text fill=\"#000000\" font-family=\"sans-serif\" font-size=\"14\" font-weight=\"bold\" lengthAdjust=\"spacingAndGlyphs\" textLength=\"20\" x=\"36\" y=\"95.4951\">P2</text></a><!--MD5=[2156ba9850f5573cc1fc38a6a4b2f02b]\n",
       "class E7--><a href=\"psysml:70818b0d-1657-43d7-b586-0302676d35dd\" target=\"_top\" title=\"psysml:70818b0d-1657-43d7-b586-0302676d35dd\" xlink:actuate=\"onRequest\" xlink:href=\"psysml:70818b0d-1657-43d7-b586-0302676d35dd\" xlink:show=\"new\" xlink:title=\"psysml:70818b0d-1657-43d7-b586-0302676d35dd\" xlink:type=\"simple\"><rect fill=\"#FFFFFF\" height=\"45.9375\" id=\"E7\" style=\"stroke: #383838; stroke-width: 1.5;\" width=\"66\" x=\"95\" y=\"205\"/><text fill=\"#000000\" font-family=\"sans-serif\" font-size=\"12\" font-style=\"italic\" lengthAdjust=\"spacingAndGlyphs\" textLength=\"64\" x=\"96\" y=\"221.1387\">«part def»</text><text fill=\"#000000\" font-family=\"sans-serif\" font-size=\"12\" lengthAdjust=\"spacingAndGlyphs\" textLength=\"8\" x=\"124\" y=\"235.1074\">B</text><line style=\"stroke: #383838; stroke-width: 1.5;\" x1=\"96\" x2=\"160\" y1=\"242.9375\" y2=\"242.9375\"/></a><!--MD5=[96f4274e9e20536e775497830990834d]\n",
       "class E10--><a href=\"psysml:e183bef4-e50f-4a79-aea2-e72f91ae33b1\" target=\"_top\" title=\"psysml:e183bef4-e50f-4a79-aea2-e72f91ae33b1\" xlink:actuate=\"onRequest\" xlink:href=\"psysml:e183bef4-e50f-4a79-aea2-e72f91ae33b1\" xlink:show=\"new\" xlink:title=\"psysml:e183bef4-e50f-4a79-aea2-e72f91ae33b1\" xlink:type=\"simple\"><rect fill=\"#FFFFFF\" height=\"45.9375\" id=\"E10\" rx=\"10\" ry=\"10\" style=\"stroke: #383838; stroke-width: 1.5;\" width=\"42\" x=\"261\" y=\"84\"/><text fill=\"#000000\" font-family=\"sans-serif\" font-size=\"12\" font-style=\"italic\" lengthAdjust=\"spacingAndGlyphs\" textLength=\"40\" x=\"262\" y=\"100.1387\">«part»</text><text fill=\"#000000\" font-family=\"sans-serif\" font-size=\"12\" lengthAdjust=\"spacingAndGlyphs\" textLength=\"29\" x=\"267.5\" y=\"114.1074\">z1: A</text><line style=\"stroke: #383838; stroke-width: 1.5;\" x1=\"262\" x2=\"302\" y1=\"121.9375\" y2=\"121.9375\"/></a><!--MD5=[e9be52314489bd878ff4c7144b63c9e1]\n",
       "link E5 to E3--><a href=\"psysml:f8be15bd-6ead-4f94-a81d-297834d3bff2\" target=\"_top\" title=\"psysml:f8be15bd-6ead-4f94-a81d-297834d3bff2\" xlink:actuate=\"onRequest\" xlink:href=\"psysml:f8be15bd-6ead-4f94-a81d-297834d3bff2\" xlink:show=\"new\" xlink:title=\"psysml:f8be15bd-6ead-4f94-a81d-297834d3bff2\" xlink:type=\"simple\"><path d=\"M215.22,130.1 C222.5,145.87 232.51,167.52 241.22,186.36 \" fill=\"none\" id=\"E5-&gt;E3\" style=\"stroke: #383838; stroke-width: 1.0;\"/><polygon fill=\"#FFFFFF\" points=\"249.65,204.61,235.3286,190.2958,248.0386,184.4258,249.65,204.61\" style=\"stroke: #383838; stroke-width: 1.0;\"/><ellipse cx=\"234.7544\" cy=\"184.2824\" fill=\"#383838\" rx=\"2\" ry=\"2\" style=\"stroke: #383838; stroke-width: 1.0;\"/><ellipse cx=\"243.8329\" cy=\"180.0896\" fill=\"#383838\" rx=\"2\" ry=\"2\" style=\"stroke: #383838; stroke-width: 1.0;\"/></a><!--MD5=[bfa3c8b0d15052fdf50ae9310b491027]\n",
       "link E8 to E7--><a href=\"psysml:2890fdf6-d136-470e-95db-a042243a6f10\" target=\"_top\" title=\"psysml:2890fdf6-d136-470e-95db-a042243a6f10\" xlink:actuate=\"onRequest\" xlink:href=\"psysml:2890fdf6-d136-470e-95db-a042243a6f10\" xlink:show=\"new\" xlink:title=\"psysml:2890fdf6-d136-470e-95db-a042243a6f10\" xlink:type=\"simple\"><path d=\"M128,130.1 C128,145.37 128,166.16 128,184.57 \" fill=\"none\" id=\"E8-&gt;E7\" style=\"stroke: #383838; stroke-width: 1.0;\"/><polygon fill=\"#FFFFFF\" points=\"128,204.61,121,185.61,135,185.61,128,204.61\" style=\"stroke: #383838; stroke-width: 1.0;\"/><ellipse cx=\"123\" cy=\"179.91\" fill=\"#383838\" rx=\"2\" ry=\"2\" style=\"stroke: #383838; stroke-width: 1.0;\"/><ellipse cx=\"133\" cy=\"179.91\" fill=\"#383838\" rx=\"2\" ry=\"2\" style=\"stroke: #383838; stroke-width: 1.0;\"/></a><!--MD5=[feeac5eb423634930294aa81f2d25a4c]\n",
       "link E10 to E3--><a href=\"psysml:25a6672d-e3f3-453e-a929-7fba59fa68e7\" target=\"_top\" title=\"psysml:25a6672d-e3f3-453e-a929-7fba59fa68e7\" xlink:actuate=\"onRequest\" xlink:href=\"psysml:25a6672d-e3f3-453e-a929-7fba59fa68e7\" xlink:show=\"new\" xlink:title=\"psysml:25a6672d-e3f3-453e-a929-7fba59fa68e7\" xlink:type=\"simple\"><path d=\"M277.91,130.1 C275.08,145.45 271.21,166.39 267.79,184.87 \" fill=\"none\" id=\"E10-&gt;E3\" style=\"stroke: #383838; stroke-width: 1.0;\"/><polygon fill=\"#FFFFFF\" points=\"264.14,204.61,260.7167,184.653,274.4827,187.2023,264.14,204.61\" style=\"stroke: #383838; stroke-width: 1.0;\"/><ellipse cx=\"263.7212\" cy=\"179.4125\" fill=\"#383838\" rx=\"2\" ry=\"2\" style=\"stroke: #383838; stroke-width: 1.0;\"/><ellipse cx=\"273.554\" cy=\"181.2334\" fill=\"#383838\" rx=\"2\" ry=\"2\" style=\"stroke: #383838; stroke-width: 1.0;\"/></a><!--MD5=[15575214d5bc59ddaba302b93deaf22f]\n",
       "@startuml\r\n",
       " skinparam monochrome true\r\n",
       "skinparam classbackgroundcolor white\r\n",
       "skinparam shadowing false\r\n",
       "skinparam wrapWidth 300\r\n",
       "hide circle\r\n",
       "\r\n",
       "package \"PrivateImportTest\" as E1  [[psysml:90f2a1bf-87a7-47cf-b7dc-49b41c6fd8e7 ]]  {\r\n",
       "package \"P1\" as E2  [[psysml:16275eaf-61bd-4171-b64d-9c4aa1fed5b3 ]]  {\r\n",
       "comp def \"A\" as E3  <<(T,blue) part def>> [[psysml:c33e3566-7ac4-4487-b3df-3cd0148aac2a ]] {\r\n",
       "}\r\n",
       "}\r\n",
       "package \"P2\" as E4  [[psysml:b9d82d12-80d8-4b65-b32b-0d4caf256cd7 ]]  {\r\n",
       "}\r\n",
       "comp usage \"x: A\" as E5  <<(T,blue) part>> [[psysml:0c75b404-ec52-4836-8cbb-5da98c4a5930 ]] {\r\n",
       "}\r\n",
       "package \"P3\" as E6  [[psysml:9d4f5989-8a3e-4397-a866-52670c662db3 ]]  {\r\n",
       "comp def \"B\" as E7  <<(T,blue) part def>> [[psysml:70818b0d-1657-43d7-b586-0302676d35dd ]] {\r\n",
       "}\r\n",
       "E5 - -:|> E3 [[psysml:f8be15bd-6ead-4f94-a81d-297834d3bff2 ]] \r\n",
       "}\r\n",
       "comp usage \"z: B\" as E8  <<(T,blue) part>> [[psysml:f43ee61a-1d92-4bcd-a6ef-463238303c09 ]] {\r\n",
       "}\r\n",
       "package \"P4\" as E9  [[psysml:5979dd71-75f1-4b72-84ed-7ab4ecfce4b9 ]]  {\r\n",
       "comp usage \"z1: A\" as E10  <<(T,blue) part>> [[psysml:e183bef4-e50f-4a79-aea2-e72f91ae33b1 ]] {\r\n",
       "}\r\n",
       "E8 - -:|> E7 [[psysml:2890fdf6-d136-470e-95db-a042243a6f10 ]] \r\n",
       "E10 - -:|> E3 [[psysml:25a6672d-e3f3-453e-a929-7fba59fa68e7 ]] \r\n",
       "}\r\n",
       "}\r\n",
       "@enduml\r\n",
       "\n",
       "PlantUML version 1.2020.13(Sat Jun 13 12:26:38 UTC 2020)\n",
       "(EPL source distribution)\n",
       "Java Runtime: OpenJDK Runtime Environment\n",
       "JVM: OpenJDK 64-Bit Server VM\n",
       "Default Encoding: UTF-8\n",
       "Language: en\n",
       "Country: null\n",
       "--></g></svg>"
      ]
     },
     "execution_count": 2,
     "metadata": {},
     "output_type": "execute_result"
    }
   ],
   "source": [
    "%viz --style=\"COMPTREE\" --view=\"Default\" \"PrivateImportTest\""
   ]
  },
  {
   "cell_type": "code",
   "execution_count": 3,
   "id": "8afe805f",
   "metadata": {
    "execution": {
     "iopub.execute_input": "2021-08-04T06:27:53.985915Z",
     "iopub.status.busy": "2021-08-04T06:27:53.985665Z",
     "iopub.status.idle": "2021-08-04T06:27:54.044206Z",
     "shell.execute_reply": "2021-08-04T06:27:54.042678Z"
    }
   },
   "outputs": [
    {
     "data": {
      "image/svg+xml": [
       "<?xml version=\"1.0\" encoding=\"UTF-8\" standalone=\"no\"?><svg xmlns=\"http://www.w3.org/2000/svg\" xmlns:xlink=\"http://www.w3.org/1999/xlink\" contentScriptType=\"application/ecmascript\" contentStyleType=\"text/css\" height=\"303px\" preserveAspectRatio=\"none\" style=\"width:365px;height:303px;\" version=\"1.1\" viewBox=\"0 0 365 303\" width=\"365px\" zoomAndPan=\"magnify\"><defs/><g><!--MD5=[fbc87193dbaf4d95561dea2c320d4a47]\n",
       "cluster E1--><a href=\"psysml:90f2a1bf-87a7-47cf-b7dc-49b41c6fd8e7\" target=\"_top\" title=\"psysml:90f2a1bf-87a7-47cf-b7dc-49b41c6fd8e7\" xlink:actuate=\"onRequest\" xlink:href=\"psysml:90f2a1bf-87a7-47cf-b7dc-49b41c6fd8e7\" xlink:show=\"new\" xlink:title=\"psysml:90f2a1bf-87a7-47cf-b7dc-49b41c6fd8e7\" xlink:type=\"simple\"><polygon fill=\"#FFFFFF\" points=\"16,6,163,6,170,28.2969,343,28.2969,343,291,16,291,16,6\" style=\"stroke: #000000; stroke-width: 1.5;\"/><line style=\"stroke: #000000; stroke-width: 1.5;\" x1=\"16\" x2=\"170\" y1=\"28.2969\" y2=\"28.2969\"/><text fill=\"#000000\" font-family=\"sans-serif\" font-size=\"14\" font-weight=\"bold\" lengthAdjust=\"spacingAndGlyphs\" textLength=\"141\" x=\"20\" y=\"20.9951\">PrivateImportTest</text></a><!--MD5=[e4f7fae6ed58524ba242bb0b0d3be6b7]\n",
       "cluster E2--><a href=\"psysml:16275eaf-61bd-4171-b64d-9c4aa1fed5b3\" target=\"_top\" title=\"psysml:16275eaf-61bd-4171-b64d-9c4aa1fed5b3\" xlink:actuate=\"onRequest\" xlink:href=\"psysml:16275eaf-61bd-4171-b64d-9c4aa1fed5b3\" xlink:show=\"new\" xlink:title=\"psysml:16275eaf-61bd-4171-b64d-9c4aa1fed5b3\" xlink:type=\"simple\"><polygon fill=\"#FFFFFF\" points=\"211,170,237,170,244,192.2969,309,192.2969,309,267,211,267,211,170\" style=\"stroke: #000000; stroke-width: 1.5;\"/><line style=\"stroke: #000000; stroke-width: 1.5;\" x1=\"211\" x2=\"244\" y1=\"192.2969\" y2=\"192.2969\"/><text fill=\"#000000\" font-family=\"sans-serif\" font-size=\"14\" font-weight=\"bold\" lengthAdjust=\"spacingAndGlyphs\" textLength=\"20\" x=\"215\" y=\"184.9951\">P1</text></a><!--MD5=[14e3b0961a2654348d326746436168a1]\n",
       "cluster E6--><a href=\"psysml:9d4f5989-8a3e-4397-a866-52670c662db3\" target=\"_top\" title=\"psysml:9d4f5989-8a3e-4397-a866-52670c662db3\" xlink:actuate=\"onRequest\" xlink:href=\"psysml:9d4f5989-8a3e-4397-a866-52670c662db3\" xlink:show=\"new\" xlink:title=\"psysml:9d4f5989-8a3e-4397-a866-52670c662db3\" xlink:type=\"simple\"><polygon fill=\"#FFFFFF\" points=\"79,170,105,170,112,192.2969,177,192.2969,177,267,79,267,79,170\" style=\"stroke: #000000; stroke-width: 1.5;\"/><line style=\"stroke: #000000; stroke-width: 1.5;\" x1=\"79\" x2=\"112\" y1=\"192.2969\" y2=\"192.2969\"/><text fill=\"#000000\" font-family=\"sans-serif\" font-size=\"14\" font-weight=\"bold\" lengthAdjust=\"spacingAndGlyphs\" textLength=\"20\" x=\"83\" y=\"184.9951\">P3</text></a><!--MD5=[7f149f147074ac12df2cb0a7728a5fb0]\n",
       "cluster E9--><a href=\"psysml:5979dd71-75f1-4b72-84ed-7ab4ecfce4b9\" target=\"_top\" title=\"psysml:5979dd71-75f1-4b72-84ed-7ab4ecfce4b9\" xlink:actuate=\"onRequest\" xlink:href=\"psysml:5979dd71-75f1-4b72-84ed-7ab4ecfce4b9\" xlink:show=\"new\" xlink:title=\"psysml:5979dd71-75f1-4b72-84ed-7ab4ecfce4b9\" xlink:type=\"simple\"><polygon fill=\"#FFFFFF\" points=\"245,49,271,49,278,71.2969,319,71.2969,319,146,245,146,245,49\" style=\"stroke: #000000; stroke-width: 1.5;\"/><line style=\"stroke: #000000; stroke-width: 1.5;\" x1=\"245\" x2=\"278\" y1=\"71.2969\" y2=\"71.2969\"/><text fill=\"#000000\" font-family=\"sans-serif\" font-size=\"14\" font-weight=\"bold\" lengthAdjust=\"spacingAndGlyphs\" textLength=\"20\" x=\"249\" y=\"63.9951\">P4</text></a><!--MD5=[270fce915f116d4de14055a7c1d9a0f3]\n",
       "class E5--><a href=\"psysml:0c75b404-ec52-4836-8cbb-5da98c4a5930\" target=\"_top\" title=\"psysml:0c75b404-ec52-4836-8cbb-5da98c4a5930\" xlink:actuate=\"onRequest\" xlink:href=\"psysml:0c75b404-ec52-4836-8cbb-5da98c4a5930\" xlink:show=\"new\" xlink:title=\"psysml:0c75b404-ec52-4836-8cbb-5da98c4a5930\" xlink:type=\"simple\"><rect fill=\"#FFFFFF\" height=\"45.9375\" id=\"E5\" rx=\"10\" ry=\"10\" style=\"stroke: #383838; stroke-width: 1.5;\" width=\"42\" x=\"184\" y=\"84\"/><text fill=\"#000000\" font-family=\"sans-serif\" font-size=\"12\" font-style=\"italic\" lengthAdjust=\"spacingAndGlyphs\" textLength=\"40\" x=\"185\" y=\"100.1387\">«part»</text><text fill=\"#000000\" font-family=\"sans-serif\" font-size=\"12\" lengthAdjust=\"spacingAndGlyphs\" textLength=\"22\" x=\"194\" y=\"114.1074\">x: A</text><line style=\"stroke: #383838; stroke-width: 1.5;\" x1=\"185\" x2=\"225\" y1=\"121.9375\" y2=\"121.9375\"/></a><!--MD5=[b9389687b975829384b498ac4b7476b2]\n",
       "class E8--><a href=\"psysml:f43ee61a-1d92-4bcd-a6ef-463238303c09\" target=\"_top\" title=\"psysml:f43ee61a-1d92-4bcd-a6ef-463238303c09\" xlink:actuate=\"onRequest\" xlink:href=\"psysml:f43ee61a-1d92-4bcd-a6ef-463238303c09\" xlink:show=\"new\" xlink:title=\"psysml:f43ee61a-1d92-4bcd-a6ef-463238303c09\" xlink:type=\"simple\"><rect fill=\"#FFFFFF\" height=\"45.9375\" id=\"E8\" rx=\"10\" ry=\"10\" style=\"stroke: #383838; stroke-width: 1.5;\" width=\"42\" x=\"107\" y=\"84\"/><text fill=\"#000000\" font-family=\"sans-serif\" font-size=\"12\" font-style=\"italic\" lengthAdjust=\"spacingAndGlyphs\" textLength=\"40\" x=\"108\" y=\"100.1387\">«part»</text><text fill=\"#000000\" font-family=\"sans-serif\" font-size=\"12\" lengthAdjust=\"spacingAndGlyphs\" textLength=\"21\" x=\"117.5\" y=\"114.1074\">z: B</text><line style=\"stroke: #383838; stroke-width: 1.5;\" x1=\"108\" x2=\"148\" y1=\"121.9375\" y2=\"121.9375\"/></a><!--MD5=[09b614a08d8cba4a07c9adeb5e0fee81]\n",
       "class E3--><a href=\"psysml:c33e3566-7ac4-4487-b3df-3cd0148aac2a\" target=\"_top\" title=\"psysml:c33e3566-7ac4-4487-b3df-3cd0148aac2a\" xlink:actuate=\"onRequest\" xlink:href=\"psysml:c33e3566-7ac4-4487-b3df-3cd0148aac2a\" xlink:show=\"new\" xlink:title=\"psysml:c33e3566-7ac4-4487-b3df-3cd0148aac2a\" xlink:type=\"simple\"><rect fill=\"#FFFFFF\" height=\"45.9375\" id=\"E3\" style=\"stroke: #383838; stroke-width: 1.5;\" width=\"66\" x=\"227\" y=\"205\"/><text fill=\"#000000\" font-family=\"sans-serif\" font-size=\"12\" font-style=\"italic\" lengthAdjust=\"spacingAndGlyphs\" textLength=\"64\" x=\"228\" y=\"221.1387\">«part def»</text><text fill=\"#000000\" font-family=\"sans-serif\" font-size=\"12\" lengthAdjust=\"spacingAndGlyphs\" textLength=\"8\" x=\"256\" y=\"235.1074\">A</text><line style=\"stroke: #383838; stroke-width: 1.5;\" x1=\"228\" x2=\"292\" y1=\"242.9375\" y2=\"242.9375\"/></a><a href=\"psysml:b9d82d12-80d8-4b65-b32b-0d4caf256cd7\" target=\"_top\" title=\"psysml:b9d82d12-80d8-4b65-b32b-0d4caf256cd7\" xlink:actuate=\"onRequest\" xlink:href=\"psysml:b9d82d12-80d8-4b65-b32b-0d4caf256cd7\" xlink:show=\"new\" xlink:title=\"psysml:b9d82d12-80d8-4b65-b32b-0d4caf256cd7\" xlink:type=\"simple\"><polygon fill=\"#FFFFFF\" points=\"32,80.5,58,80.5,65,102.7969,72,102.7969,72,133.0938,32,133.0938,32,80.5\" style=\"stroke: #000000; stroke-width: 1.5;\"/><line style=\"stroke: #000000; stroke-width: 1.5;\" x1=\"32\" x2=\"65\" y1=\"102.7969\" y2=\"102.7969\"/><text fill=\"#000000\" font-family=\"sans-serif\" font-size=\"14\" font-weight=\"bold\" lengthAdjust=\"spacingAndGlyphs\" textLength=\"20\" x=\"36\" y=\"95.4951\">P2</text></a><!--MD5=[2156ba9850f5573cc1fc38a6a4b2f02b]\n",
       "class E7--><a href=\"psysml:70818b0d-1657-43d7-b586-0302676d35dd\" target=\"_top\" title=\"psysml:70818b0d-1657-43d7-b586-0302676d35dd\" xlink:actuate=\"onRequest\" xlink:href=\"psysml:70818b0d-1657-43d7-b586-0302676d35dd\" xlink:show=\"new\" xlink:title=\"psysml:70818b0d-1657-43d7-b586-0302676d35dd\" xlink:type=\"simple\"><rect fill=\"#FFFFFF\" height=\"45.9375\" id=\"E7\" style=\"stroke: #383838; stroke-width: 1.5;\" width=\"66\" x=\"95\" y=\"205\"/><text fill=\"#000000\" font-family=\"sans-serif\" font-size=\"12\" font-style=\"italic\" lengthAdjust=\"spacingAndGlyphs\" textLength=\"64\" x=\"96\" y=\"221.1387\">«part def»</text><text fill=\"#000000\" font-family=\"sans-serif\" font-size=\"12\" lengthAdjust=\"spacingAndGlyphs\" textLength=\"8\" x=\"124\" y=\"235.1074\">B</text><line style=\"stroke: #383838; stroke-width: 1.5;\" x1=\"96\" x2=\"160\" y1=\"242.9375\" y2=\"242.9375\"/></a><!--MD5=[96f4274e9e20536e775497830990834d]\n",
       "class E10--><a href=\"psysml:e183bef4-e50f-4a79-aea2-e72f91ae33b1\" target=\"_top\" title=\"psysml:e183bef4-e50f-4a79-aea2-e72f91ae33b1\" xlink:actuate=\"onRequest\" xlink:href=\"psysml:e183bef4-e50f-4a79-aea2-e72f91ae33b1\" xlink:show=\"new\" xlink:title=\"psysml:e183bef4-e50f-4a79-aea2-e72f91ae33b1\" xlink:type=\"simple\"><rect fill=\"#FFFFFF\" height=\"45.9375\" id=\"E10\" rx=\"10\" ry=\"10\" style=\"stroke: #383838; stroke-width: 1.5;\" width=\"42\" x=\"261\" y=\"84\"/><text fill=\"#000000\" font-family=\"sans-serif\" font-size=\"12\" font-style=\"italic\" lengthAdjust=\"spacingAndGlyphs\" textLength=\"40\" x=\"262\" y=\"100.1387\">«part»</text><text fill=\"#000000\" font-family=\"sans-serif\" font-size=\"12\" lengthAdjust=\"spacingAndGlyphs\" textLength=\"29\" x=\"267.5\" y=\"114.1074\">z1: A</text><line style=\"stroke: #383838; stroke-width: 1.5;\" x1=\"262\" x2=\"302\" y1=\"121.9375\" y2=\"121.9375\"/></a><!--MD5=[e9be52314489bd878ff4c7144b63c9e1]\n",
       "link E5 to E3--><a href=\"psysml:f8be15bd-6ead-4f94-a81d-297834d3bff2\" target=\"_top\" title=\"psysml:f8be15bd-6ead-4f94-a81d-297834d3bff2\" xlink:actuate=\"onRequest\" xlink:href=\"psysml:f8be15bd-6ead-4f94-a81d-297834d3bff2\" xlink:show=\"new\" xlink:title=\"psysml:f8be15bd-6ead-4f94-a81d-297834d3bff2\" xlink:type=\"simple\"><path d=\"M215.22,130.1 C222.5,145.87 232.51,167.52 241.22,186.36 \" fill=\"none\" id=\"E5-&gt;E3\" style=\"stroke: #383838; stroke-width: 1.0;\"/><polygon fill=\"#FFFFFF\" points=\"249.65,204.61,235.3286,190.2958,248.0386,184.4258,249.65,204.61\" style=\"stroke: #383838; stroke-width: 1.0;\"/><ellipse cx=\"234.7544\" cy=\"184.2824\" fill=\"#383838\" rx=\"2\" ry=\"2\" style=\"stroke: #383838; stroke-width: 1.0;\"/><ellipse cx=\"243.8329\" cy=\"180.0896\" fill=\"#383838\" rx=\"2\" ry=\"2\" style=\"stroke: #383838; stroke-width: 1.0;\"/></a><!--MD5=[bfa3c8b0d15052fdf50ae9310b491027]\n",
       "link E8 to E7--><a href=\"psysml:2890fdf6-d136-470e-95db-a042243a6f10\" target=\"_top\" title=\"psysml:2890fdf6-d136-470e-95db-a042243a6f10\" xlink:actuate=\"onRequest\" xlink:href=\"psysml:2890fdf6-d136-470e-95db-a042243a6f10\" xlink:show=\"new\" xlink:title=\"psysml:2890fdf6-d136-470e-95db-a042243a6f10\" xlink:type=\"simple\"><path d=\"M128,130.1 C128,145.37 128,166.16 128,184.57 \" fill=\"none\" id=\"E8-&gt;E7\" style=\"stroke: #383838; stroke-width: 1.0;\"/><polygon fill=\"#FFFFFF\" points=\"128,204.61,121,185.61,135,185.61,128,204.61\" style=\"stroke: #383838; stroke-width: 1.0;\"/><ellipse cx=\"123\" cy=\"179.91\" fill=\"#383838\" rx=\"2\" ry=\"2\" style=\"stroke: #383838; stroke-width: 1.0;\"/><ellipse cx=\"133\" cy=\"179.91\" fill=\"#383838\" rx=\"2\" ry=\"2\" style=\"stroke: #383838; stroke-width: 1.0;\"/></a><!--MD5=[feeac5eb423634930294aa81f2d25a4c]\n",
       "link E10 to E3--><a href=\"psysml:25a6672d-e3f3-453e-a929-7fba59fa68e7\" target=\"_top\" title=\"psysml:25a6672d-e3f3-453e-a929-7fba59fa68e7\" xlink:actuate=\"onRequest\" xlink:href=\"psysml:25a6672d-e3f3-453e-a929-7fba59fa68e7\" xlink:show=\"new\" xlink:title=\"psysml:25a6672d-e3f3-453e-a929-7fba59fa68e7\" xlink:type=\"simple\"><path d=\"M277.91,130.1 C275.08,145.45 271.21,166.39 267.79,184.87 \" fill=\"none\" id=\"E10-&gt;E3\" style=\"stroke: #383838; stroke-width: 1.0;\"/><polygon fill=\"#FFFFFF\" points=\"264.14,204.61,260.7167,184.653,274.4827,187.2023,264.14,204.61\" style=\"stroke: #383838; stroke-width: 1.0;\"/><ellipse cx=\"263.7212\" cy=\"179.4125\" fill=\"#383838\" rx=\"2\" ry=\"2\" style=\"stroke: #383838; stroke-width: 1.0;\"/><ellipse cx=\"273.554\" cy=\"181.2334\" fill=\"#383838\" rx=\"2\" ry=\"2\" style=\"stroke: #383838; stroke-width: 1.0;\"/></a><!--MD5=[15575214d5bc59ddaba302b93deaf22f]\n",
       "@startuml\r\n",
       " skinparam monochrome true\r\n",
       "skinparam classbackgroundcolor white\r\n",
       "skinparam shadowing false\r\n",
       "skinparam wrapWidth 300\r\n",
       "hide circle\r\n",
       "\r\n",
       "package \"PrivateImportTest\" as E1  [[psysml:90f2a1bf-87a7-47cf-b7dc-49b41c6fd8e7 ]]  {\r\n",
       "package \"P1\" as E2  [[psysml:16275eaf-61bd-4171-b64d-9c4aa1fed5b3 ]]  {\r\n",
       "comp def \"A\" as E3  <<(T,blue) part def>> [[psysml:c33e3566-7ac4-4487-b3df-3cd0148aac2a ]] {\r\n",
       "}\r\n",
       "}\r\n",
       "package \"P2\" as E4  [[psysml:b9d82d12-80d8-4b65-b32b-0d4caf256cd7 ]]  {\r\n",
       "}\r\n",
       "comp usage \"x: A\" as E5  <<(T,blue) part>> [[psysml:0c75b404-ec52-4836-8cbb-5da98c4a5930 ]] {\r\n",
       "}\r\n",
       "package \"P3\" as E6  [[psysml:9d4f5989-8a3e-4397-a866-52670c662db3 ]]  {\r\n",
       "comp def \"B\" as E7  <<(T,blue) part def>> [[psysml:70818b0d-1657-43d7-b586-0302676d35dd ]] {\r\n",
       "}\r\n",
       "E5 - -:|> E3 [[psysml:f8be15bd-6ead-4f94-a81d-297834d3bff2 ]] \r\n",
       "}\r\n",
       "comp usage \"z: B\" as E8  <<(T,blue) part>> [[psysml:f43ee61a-1d92-4bcd-a6ef-463238303c09 ]] {\r\n",
       "}\r\n",
       "package \"P4\" as E9  [[psysml:5979dd71-75f1-4b72-84ed-7ab4ecfce4b9 ]]  {\r\n",
       "comp usage \"z1: A\" as E10  <<(T,blue) part>> [[psysml:e183bef4-e50f-4a79-aea2-e72f91ae33b1 ]] {\r\n",
       "}\r\n",
       "E8 - -:|> E7 [[psysml:2890fdf6-d136-470e-95db-a042243a6f10 ]] \r\n",
       "E10 - -:|> E3 [[psysml:25a6672d-e3f3-453e-a929-7fba59fa68e7 ]] \r\n",
       "}\r\n",
       "}\r\n",
       "@enduml\r\n",
       "\n",
       "PlantUML version 1.2020.13(Sat Jun 13 12:26:38 UTC 2020)\n",
       "(EPL source distribution)\n",
       "Java Runtime: OpenJDK Runtime Environment\n",
       "JVM: OpenJDK 64-Bit Server VM\n",
       "Default Encoding: UTF-8\n",
       "Language: en\n",
       "Country: null\n",
       "--></g></svg>"
      ]
     },
     "execution_count": 3,
     "metadata": {},
     "output_type": "execute_result"
    }
   ],
   "source": [
    "%viz --style=\"COMPTREE\" --view=\"Tree\" \"PrivateImportTest\""
   ]
  },
  {
   "cell_type": "code",
   "execution_count": 4,
   "id": "1afcea85",
   "metadata": {
    "execution": {
     "iopub.execute_input": "2021-08-04T06:27:54.094026Z",
     "iopub.status.busy": "2021-08-04T06:27:54.093566Z",
     "iopub.status.idle": "2021-08-04T06:27:54.100293Z",
     "shell.execute_reply": "2021-08-04T06:27:54.100721Z"
    }
   },
   "outputs": [
    {
     "data": {
      "image/svg+xml": [
       "<?xml version=\"1.0\" encoding=\"UTF-8\" standalone=\"no\"?><svg xmlns=\"http://www.w3.org/2000/svg\" xmlns:xlink=\"http://www.w3.org/1999/xlink\" contentScriptType=\"application/ecmascript\" contentStyleType=\"text/css\" height=\"12px\" preserveAspectRatio=\"none\" style=\"width:12px;height:12px;\" version=\"1.1\" viewBox=\"0 0 12 12\" width=\"12px\" zoomAndPan=\"magnify\"><defs/><g><!--MD5=[f19188ef49e11757b5c46753f95d9edc]\n",
       "@startuml\r\n",
       " skinparam monochrome true\r\n",
       "skinparam classbackgroundcolor white\r\n",
       "skinparam shadowing false\r\n",
       "skinparam wrapWidth 300\r\n",
       "hide circle\r\n",
       "\r\n",
       "@enduml\r\n",
       "\n",
       "PlantUML version 1.2020.13(Sat Jun 13 12:26:38 UTC 2020)\n",
       "(EPL source distribution)\n",
       "Java Runtime: OpenJDK Runtime Environment\n",
       "JVM: OpenJDK 64-Bit Server VM\n",
       "Default Encoding: UTF-8\n",
       "Language: en\n",
       "Country: null\n",
       "--></g></svg>"
      ]
     },
     "execution_count": 4,
     "metadata": {},
     "output_type": "execute_result"
    }
   ],
   "source": [
    "%viz --style=\"COMPTREE\" --view=\"State\" \"PrivateImportTest\""
   ]
  },
  {
   "cell_type": "code",
   "execution_count": 5,
   "id": "e04abf2d",
   "metadata": {
    "execution": {
     "iopub.execute_input": "2021-08-04T06:27:54.151197Z",
     "iopub.status.busy": "2021-08-04T06:27:54.150730Z",
     "iopub.status.idle": "2021-08-04T06:27:54.194774Z",
     "shell.execute_reply": "2021-08-04T06:27:54.194005Z"
    }
   },
   "outputs": [
    {
     "data": {
      "image/svg+xml": [
       "<?xml version=\"1.0\" encoding=\"UTF-8\" standalone=\"no\"?><svg xmlns=\"http://www.w3.org/2000/svg\" xmlns:xlink=\"http://www.w3.org/1999/xlink\" contentScriptType=\"application/ecmascript\" contentStyleType=\"text/css\" height=\"179px\" preserveAspectRatio=\"none\" style=\"width:645px;height:179px;\" version=\"1.1\" viewBox=\"0 0 645 179\" width=\"645px\" zoomAndPan=\"magnify\"><defs/><g><!--MD5=[fbc87193dbaf4d95561dea2c320d4a47]\n",
       "cluster E1--><a href=\"psysml:90f2a1bf-87a7-47cf-b7dc-49b41c6fd8e7\" target=\"_top\" title=\"psysml:90f2a1bf-87a7-47cf-b7dc-49b41c6fd8e7\" xlink:actuate=\"onRequest\" xlink:href=\"psysml:90f2a1bf-87a7-47cf-b7dc-49b41c6fd8e7\" xlink:show=\"new\" xlink:title=\"psysml:90f2a1bf-87a7-47cf-b7dc-49b41c6fd8e7\" xlink:type=\"simple\"><polygon fill=\"#FFFFFF\" points=\"16,6,163,6,170,28.2969,623,28.2969,623,167,16,167,16,6\" style=\"stroke: #000000; stroke-width: 1.5;\"/><line style=\"stroke: #000000; stroke-width: 1.5;\" x1=\"16\" x2=\"170\" y1=\"28.2969\" y2=\"28.2969\"/><text fill=\"#000000\" font-family=\"sans-serif\" font-size=\"14\" font-weight=\"bold\" lengthAdjust=\"spacingAndGlyphs\" textLength=\"141\" x=\"20\" y=\"20.9951\">PrivateImportTest</text></a><!--MD5=[e4f7fae6ed58524ba242bb0b0d3be6b7]\n",
       "cluster E2--><a href=\"psysml:16275eaf-61bd-4171-b64d-9c4aa1fed5b3\" target=\"_top\" title=\"psysml:16275eaf-61bd-4171-b64d-9c4aa1fed5b3\" xlink:actuate=\"onRequest\" xlink:href=\"psysml:16275eaf-61bd-4171-b64d-9c4aa1fed5b3\" xlink:show=\"new\" xlink:title=\"psysml:16275eaf-61bd-4171-b64d-9c4aa1fed5b3\" xlink:type=\"simple\"><polygon fill=\"#FFFFFF\" points=\"495,49,521,49,528,71.2969,599,71.2969,599,143,495,143,495,49\" style=\"stroke: #000000; stroke-width: 1.5;\"/><line style=\"stroke: #000000; stroke-width: 1.5;\" x1=\"495\" x2=\"528\" y1=\"71.2969\" y2=\"71.2969\"/><text fill=\"#000000\" font-family=\"sans-serif\" font-size=\"14\" font-weight=\"bold\" lengthAdjust=\"spacingAndGlyphs\" textLength=\"20\" x=\"499\" y=\"63.9951\">P1</text></a><!--MD5=[14e3b0961a2654348d326746436168a1]\n",
       "cluster E6--><a href=\"psysml:9d4f5989-8a3e-4397-a866-52670c662db3\" target=\"_top\" title=\"psysml:9d4f5989-8a3e-4397-a866-52670c662db3\" xlink:actuate=\"onRequest\" xlink:href=\"psysml:9d4f5989-8a3e-4397-a866-52670c662db3\" xlink:show=\"new\" xlink:title=\"psysml:9d4f5989-8a3e-4397-a866-52670c662db3\" xlink:type=\"simple\"><polygon fill=\"#FFFFFF\" points=\"367,49,393,49,400,71.2969,471,71.2969,471,143,367,143,367,49\" style=\"stroke: #000000; stroke-width: 1.5;\"/><line style=\"stroke: #000000; stroke-width: 1.5;\" x1=\"367\" x2=\"400\" y1=\"71.2969\" y2=\"71.2969\"/><text fill=\"#000000\" font-family=\"sans-serif\" font-size=\"14\" font-weight=\"bold\" lengthAdjust=\"spacingAndGlyphs\" textLength=\"20\" x=\"371\" y=\"63.9951\">P3</text></a><!--MD5=[7f149f147074ac12df2cb0a7728a5fb0]\n",
       "cluster E9--><a href=\"psysml:5979dd71-75f1-4b72-84ed-7ab4ecfce4b9\" target=\"_top\" title=\"psysml:5979dd71-75f1-4b72-84ed-7ab4ecfce4b9\" xlink:actuate=\"onRequest\" xlink:href=\"psysml:5979dd71-75f1-4b72-84ed-7ab4ecfce4b9\" xlink:show=\"new\" xlink:title=\"psysml:5979dd71-75f1-4b72-84ed-7ab4ecfce4b9\" xlink:type=\"simple\"><polygon fill=\"#FFFFFF\" points=\"261,50.5,287,50.5,294,72.7969,343,72.7969,343,141.5,261,141.5,261,50.5\" style=\"stroke: #000000; stroke-width: 1.5;\"/><line style=\"stroke: #000000; stroke-width: 1.5;\" x1=\"261\" x2=\"294\" y1=\"72.7969\" y2=\"72.7969\"/><text fill=\"#000000\" font-family=\"sans-serif\" font-size=\"14\" font-weight=\"bold\" lengthAdjust=\"spacingAndGlyphs\" textLength=\"20\" x=\"265\" y=\"65.4951\">P4</text></a><g id=\"E1.E2.E3\"><a href=\"psysml:c33e3566-7ac4-4487-b3df-3cd0148aac2a\" target=\"_top\" title=\"psysml:c33e3566-7ac4-4487-b3df-3cd0148aac2a\" xlink:actuate=\"onRequest\" xlink:href=\"psysml:c33e3566-7ac4-4487-b3df-3cd0148aac2a\" xlink:show=\"new\" xlink:title=\"psysml:c33e3566-7ac4-4487-b3df-3cd0148aac2a\" xlink:type=\"simple\"><rect fill=\"#FFFFFF\" height=\"42.9375\" id=\"E3\" style=\"stroke: #383838; stroke-width: 1.5;\" width=\"71\" x=\"511.5\" y=\"84\"/><rect fill=\"#F8F8F8\" height=\"37.9375\" style=\"stroke: #383838; stroke-width: 1.5;\" width=\"71\" x=\"511.5\" y=\"84\"/><text fill=\"#000000\" font-family=\"sans-serif\" font-size=\"12\" font-style=\"italic\" lengthAdjust=\"spacingAndGlyphs\" textLength=\"64\" x=\"515\" y=\"100.1387\">«part def»</text><text fill=\"#000000\" font-family=\"sans-serif\" font-size=\"12\" lengthAdjust=\"spacingAndGlyphs\" textLength=\"8\" x=\"543\" y=\"114.1074\">A</text></a></g><a href=\"psysml:b9d82d12-80d8-4b65-b32b-0d4caf256cd7\" target=\"_top\" title=\"psysml:b9d82d12-80d8-4b65-b32b-0d4caf256cd7\" xlink:actuate=\"onRequest\" xlink:href=\"psysml:b9d82d12-80d8-4b65-b32b-0d4caf256cd7\" xlink:show=\"new\" xlink:title=\"psysml:b9d82d12-80d8-4b65-b32b-0d4caf256cd7\" xlink:type=\"simple\"><polygon fill=\"#FFFFFF\" points=\"202,79,228,79,235,101.2969,242,101.2969,242,131.5938,202,131.5938,202,79\" style=\"stroke: #000000; stroke-width: 1.5;\"/><line style=\"stroke: #000000; stroke-width: 1.5;\" x1=\"202\" x2=\"235\" y1=\"101.2969\" y2=\"101.2969\"/><text fill=\"#000000\" font-family=\"sans-serif\" font-size=\"14\" font-weight=\"bold\" lengthAdjust=\"spacingAndGlyphs\" textLength=\"20\" x=\"206\" y=\"93.9951\">P2</text></a><g id=\"E1.E5\"><a href=\"psysml:0c75b404-ec52-4836-8cbb-5da98c4a5930\" target=\"_top\" title=\"psysml:0c75b404-ec52-4836-8cbb-5da98c4a5930\" xlink:actuate=\"onRequest\" xlink:href=\"psysml:0c75b404-ec52-4836-8cbb-5da98c4a5930\" xlink:show=\"new\" xlink:title=\"psysml:0c75b404-ec52-4836-8cbb-5da98c4a5930\" xlink:type=\"simple\"><rect fill=\"#FFFFFF\" height=\"40\" id=\"E5\" rx=\"10\" ry=\"10\" style=\"stroke: #383838; stroke-width: 1.5;\" width=\"50\" x=\"117\" y=\"85.5\"/><rect fill=\"#F8F8F8\" height=\"23.9688\" rx=\"10\" ry=\"10\" style=\"stroke: #F8F8F8; stroke-width: 1.5;\" width=\"50\" x=\"117\" y=\"85.5\"/><rect fill=\"#F8F8F8\" height=\"10\" style=\"stroke: #F8F8F8; stroke-width: 1.5;\" width=\"50\" x=\"117\" y=\"99.4688\"/><rect fill=\"none\" height=\"40\" id=\"E5\" rx=\"10\" ry=\"10\" style=\"stroke: #383838; stroke-width: 1.5;\" width=\"50\" x=\"117\" y=\"85.5\"/><text fill=\"#000000\" font-family=\"sans-serif\" font-size=\"12\" lengthAdjust=\"spacingAndGlyphs\" textLength=\"22\" x=\"131\" y=\"101.6387\">x: A</text></a></g><g id=\"E1.E6.E7\"><a href=\"psysml:70818b0d-1657-43d7-b586-0302676d35dd\" target=\"_top\" title=\"psysml:70818b0d-1657-43d7-b586-0302676d35dd\" xlink:actuate=\"onRequest\" xlink:href=\"psysml:70818b0d-1657-43d7-b586-0302676d35dd\" xlink:show=\"new\" xlink:title=\"psysml:70818b0d-1657-43d7-b586-0302676d35dd\" xlink:type=\"simple\"><rect fill=\"#FFFFFF\" height=\"42.9375\" id=\"E7\" style=\"stroke: #383838; stroke-width: 1.5;\" width=\"71\" x=\"383.5\" y=\"84\"/><rect fill=\"#F8F8F8\" height=\"37.9375\" style=\"stroke: #383838; stroke-width: 1.5;\" width=\"71\" x=\"383.5\" y=\"84\"/><text fill=\"#000000\" font-family=\"sans-serif\" font-size=\"12\" font-style=\"italic\" lengthAdjust=\"spacingAndGlyphs\" textLength=\"64\" x=\"387\" y=\"100.1387\">«part def»</text><text fill=\"#000000\" font-family=\"sans-serif\" font-size=\"12\" lengthAdjust=\"spacingAndGlyphs\" textLength=\"8\" x=\"415\" y=\"114.1074\">B</text></a></g><g id=\"E1.E8\"><a href=\"psysml:f43ee61a-1d92-4bcd-a6ef-463238303c09\" target=\"_top\" title=\"psysml:f43ee61a-1d92-4bcd-a6ef-463238303c09\" xlink:actuate=\"onRequest\" xlink:href=\"psysml:f43ee61a-1d92-4bcd-a6ef-463238303c09\" xlink:show=\"new\" xlink:title=\"psysml:f43ee61a-1d92-4bcd-a6ef-463238303c09\" xlink:type=\"simple\"><rect fill=\"#FFFFFF\" height=\"40\" id=\"E8\" rx=\"10\" ry=\"10\" style=\"stroke: #383838; stroke-width: 1.5;\" width=\"50\" x=\"32\" y=\"85.5\"/><rect fill=\"#F8F8F8\" height=\"23.9688\" rx=\"10\" ry=\"10\" style=\"stroke: #F8F8F8; stroke-width: 1.5;\" width=\"50\" x=\"32\" y=\"85.5\"/><rect fill=\"#F8F8F8\" height=\"10\" style=\"stroke: #F8F8F8; stroke-width: 1.5;\" width=\"50\" x=\"32\" y=\"99.4688\"/><rect fill=\"none\" height=\"40\" id=\"E8\" rx=\"10\" ry=\"10\" style=\"stroke: #383838; stroke-width: 1.5;\" width=\"50\" x=\"32\" y=\"85.5\"/><text fill=\"#000000\" font-family=\"sans-serif\" font-size=\"12\" lengthAdjust=\"spacingAndGlyphs\" textLength=\"21\" x=\"46.5\" y=\"101.6387\">z: B</text></a></g><g id=\"E1.E9.E10\"><a href=\"psysml:e183bef4-e50f-4a79-aea2-e72f91ae33b1\" target=\"_top\" title=\"psysml:e183bef4-e50f-4a79-aea2-e72f91ae33b1\" xlink:actuate=\"onRequest\" xlink:href=\"psysml:e183bef4-e50f-4a79-aea2-e72f91ae33b1\" xlink:show=\"new\" xlink:title=\"psysml:e183bef4-e50f-4a79-aea2-e72f91ae33b1\" xlink:type=\"simple\"><rect fill=\"#FFFFFF\" height=\"40\" id=\"E10\" rx=\"10\" ry=\"10\" style=\"stroke: #383838; stroke-width: 1.5;\" width=\"50\" x=\"277\" y=\"85.5\"/><rect fill=\"#F8F8F8\" height=\"23.9688\" rx=\"10\" ry=\"10\" style=\"stroke: #F8F8F8; stroke-width: 1.5;\" width=\"50\" x=\"277\" y=\"85.5\"/><rect fill=\"#F8F8F8\" height=\"10\" style=\"stroke: #F8F8F8; stroke-width: 1.5;\" width=\"50\" x=\"277\" y=\"99.4688\"/><rect fill=\"none\" height=\"40\" id=\"E10\" rx=\"10\" ry=\"10\" style=\"stroke: #383838; stroke-width: 1.5;\" width=\"50\" x=\"277\" y=\"85.5\"/><text fill=\"#000000\" font-family=\"sans-serif\" font-size=\"12\" lengthAdjust=\"spacingAndGlyphs\" textLength=\"29\" x=\"287.5\" y=\"101.6387\">z1: A</text></a></g><!--MD5=[aa12ae8e73519d14b9e1a288d14cfb82]\n",
       "@startuml\r\n",
       "skinparam ranksep 10\r\n",
       "skinparam rectangle {\r\n",
       " backgroundColor<<block>> LightGreen\r\n",
       "}\r\n",
       " skinparam monochrome true\r\n",
       "skinparam classbackgroundcolor white\r\n",
       "skinparam shadowing false\r\n",
       "skinparam wrapWidth 300\r\n",
       "hide circle\r\n",
       "\r\n",
       "package \"PrivateImportTest\" as E1  [[psysml:90f2a1bf-87a7-47cf-b7dc-49b41c6fd8e7 ]]  {\r\n",
       "package \"P1\" as E2  [[psysml:16275eaf-61bd-4171-b64d-9c4aa1fed5b3 ]]  {\r\n",
       "rec def \"A\" as E3  <<(T,blue) part def>> [[psysml:c33e3566-7ac4-4487-b3df-3cd0148aac2a ]] {\r\n",
       "}\r\n",
       "}\r\n",
       "package \"P2\" as E4  [[psysml:b9d82d12-80d8-4b65-b32b-0d4caf256cd7 ]]  {\r\n",
       "}\r\n",
       "rec usage \"x: A\" as E5  [[psysml:0c75b404-ec52-4836-8cbb-5da98c4a5930 ]] {\r\n",
       "}\r\n",
       "package \"P3\" as E6  [[psysml:9d4f5989-8a3e-4397-a866-52670c662db3 ]]  {\r\n",
       "rec def \"B\" as E7  <<(T,blue) part def>> [[psysml:70818b0d-1657-43d7-b586-0302676d35dd ]] {\r\n",
       "}\r\n",
       "}\r\n",
       "rec usage \"z: B\" as E8  [[psysml:f43ee61a-1d92-4bcd-a6ef-463238303c09 ]] {\r\n",
       "}\r\n",
       "package \"P4\" as E9  [[psysml:5979dd71-75f1-4b72-84ed-7ab4ecfce4b9 ]]  {\r\n",
       "rec usage \"z1: A\" as E10  [[psysml:e183bef4-e50f-4a79-aea2-e72f91ae33b1 ]] {\r\n",
       "}\r\n",
       "}\r\n",
       "}\r\n",
       "@enduml\r\n",
       "\n",
       "PlantUML version 1.2020.13(Sat Jun 13 12:26:38 UTC 2020)\n",
       "(EPL source distribution)\n",
       "Java Runtime: OpenJDK Runtime Environment\n",
       "JVM: OpenJDK 64-Bit Server VM\n",
       "Default Encoding: UTF-8\n",
       "Language: en\n",
       "Country: null\n",
       "--></g></svg>"
      ]
     },
     "execution_count": 5,
     "metadata": {},
     "output_type": "execute_result"
    }
   ],
   "source": [
    "%viz --style=\"COMPTREE\" --view=\"Interconnection\" \"PrivateImportTest\""
   ]
  },
  {
   "cell_type": "code",
   "execution_count": 6,
   "id": "44a0b241",
   "metadata": {
    "execution": {
     "iopub.execute_input": "2021-08-04T06:27:54.244690Z",
     "iopub.status.busy": "2021-08-04T06:27:54.244465Z",
     "iopub.status.idle": "2021-08-04T06:27:54.253587Z",
     "shell.execute_reply": "2021-08-04T06:27:54.253913Z"
    }
   },
   "outputs": [
    {
     "data": {
      "image/svg+xml": [
       "<?xml version=\"1.0\" encoding=\"UTF-8\" standalone=\"no\"?><svg xmlns=\"http://www.w3.org/2000/svg\" xmlns:xlink=\"http://www.w3.org/1999/xlink\" contentScriptType=\"application/ecmascript\" contentStyleType=\"text/css\" height=\"12px\" preserveAspectRatio=\"none\" style=\"width:12px;height:12px;\" version=\"1.1\" viewBox=\"0 0 12 12\" width=\"12px\" zoomAndPan=\"magnify\"><defs/><g><!--MD5=[655b888544ca4751ea36af1068543f84]\n",
       "@startuml\r\n",
       "skinparam ranksep 8\r\n",
       " skinparam monochrome true\r\n",
       "skinparam classbackgroundcolor white\r\n",
       "skinparam shadowing false\r\n",
       "skinparam wrapWidth 300\r\n",
       "hide circle\r\n",
       "\r\n",
       "@enduml\r\n",
       "\n",
       "PlantUML version 1.2020.13(Sat Jun 13 12:26:38 UTC 2020)\n",
       "(EPL source distribution)\n",
       "Java Runtime: OpenJDK Runtime Environment\n",
       "JVM: OpenJDK 64-Bit Server VM\n",
       "Default Encoding: UTF-8\n",
       "Language: en\n",
       "Country: null\n",
       "--></g></svg>"
      ]
     },
     "execution_count": 6,
     "metadata": {},
     "output_type": "execute_result"
    }
   ],
   "source": [
    "%viz --style=\"COMPTREE\" --view=\"Action\" \"PrivateImportTest\""
   ]
  },
  {
   "cell_type": "code",
   "execution_count": 7,
   "id": "20f082ea",
   "metadata": {
    "execution": {
     "iopub.execute_input": "2021-08-04T06:27:54.304379Z",
     "iopub.status.busy": "2021-08-04T06:27:54.304144Z",
     "iopub.status.idle": "2021-08-04T06:27:54.353669Z",
     "shell.execute_reply": "2021-08-04T06:27:54.352902Z"
    }
   },
   "outputs": [
    {
     "data": {
      "image/svg+xml": [
       "<?xml version=\"1.0\" encoding=\"UTF-8\" standalone=\"no\"?><svg xmlns=\"http://www.w3.org/2000/svg\" xmlns:xlink=\"http://www.w3.org/1999/xlink\" contentScriptType=\"application/ecmascript\" contentStyleType=\"text/css\" height=\"303px\" preserveAspectRatio=\"none\" style=\"width:365px;height:303px;\" version=\"1.1\" viewBox=\"0 0 365 303\" width=\"365px\" zoomAndPan=\"magnify\"><defs/><g><!--MD5=[fbc87193dbaf4d95561dea2c320d4a47]\n",
       "cluster E1--><a href=\"psysml:90f2a1bf-87a7-47cf-b7dc-49b41c6fd8e7\" target=\"_top\" title=\"psysml:90f2a1bf-87a7-47cf-b7dc-49b41c6fd8e7\" xlink:actuate=\"onRequest\" xlink:href=\"psysml:90f2a1bf-87a7-47cf-b7dc-49b41c6fd8e7\" xlink:show=\"new\" xlink:title=\"psysml:90f2a1bf-87a7-47cf-b7dc-49b41c6fd8e7\" xlink:type=\"simple\"><polygon fill=\"#FFFFFF\" points=\"16,6,163,6,170,28.2969,343,28.2969,343,291,16,291,16,6\" style=\"stroke: #000000; stroke-width: 1.5;\"/><line style=\"stroke: #000000; stroke-width: 1.5;\" x1=\"16\" x2=\"170\" y1=\"28.2969\" y2=\"28.2969\"/><text fill=\"#000000\" font-family=\"sans-serif\" font-size=\"14\" font-weight=\"bold\" lengthAdjust=\"spacingAndGlyphs\" textLength=\"141\" x=\"20\" y=\"20.9951\">PrivateImportTest</text></a><!--MD5=[e4f7fae6ed58524ba242bb0b0d3be6b7]\n",
       "cluster E2--><a href=\"psysml:16275eaf-61bd-4171-b64d-9c4aa1fed5b3\" target=\"_top\" title=\"psysml:16275eaf-61bd-4171-b64d-9c4aa1fed5b3\" xlink:actuate=\"onRequest\" xlink:href=\"psysml:16275eaf-61bd-4171-b64d-9c4aa1fed5b3\" xlink:show=\"new\" xlink:title=\"psysml:16275eaf-61bd-4171-b64d-9c4aa1fed5b3\" xlink:type=\"simple\"><polygon fill=\"#FFFFFF\" points=\"211,170,237,170,244,192.2969,309,192.2969,309,267,211,267,211,170\" style=\"stroke: #000000; stroke-width: 1.5;\"/><line style=\"stroke: #000000; stroke-width: 1.5;\" x1=\"211\" x2=\"244\" y1=\"192.2969\" y2=\"192.2969\"/><text fill=\"#000000\" font-family=\"sans-serif\" font-size=\"14\" font-weight=\"bold\" lengthAdjust=\"spacingAndGlyphs\" textLength=\"20\" x=\"215\" y=\"184.9951\">P1</text></a><!--MD5=[14e3b0961a2654348d326746436168a1]\n",
       "cluster E6--><a href=\"psysml:9d4f5989-8a3e-4397-a866-52670c662db3\" target=\"_top\" title=\"psysml:9d4f5989-8a3e-4397-a866-52670c662db3\" xlink:actuate=\"onRequest\" xlink:href=\"psysml:9d4f5989-8a3e-4397-a866-52670c662db3\" xlink:show=\"new\" xlink:title=\"psysml:9d4f5989-8a3e-4397-a866-52670c662db3\" xlink:type=\"simple\"><polygon fill=\"#FFFFFF\" points=\"79,170,105,170,112,192.2969,177,192.2969,177,267,79,267,79,170\" style=\"stroke: #000000; stroke-width: 1.5;\"/><line style=\"stroke: #000000; stroke-width: 1.5;\" x1=\"79\" x2=\"112\" y1=\"192.2969\" y2=\"192.2969\"/><text fill=\"#000000\" font-family=\"sans-serif\" font-size=\"14\" font-weight=\"bold\" lengthAdjust=\"spacingAndGlyphs\" textLength=\"20\" x=\"83\" y=\"184.9951\">P3</text></a><!--MD5=[7f149f147074ac12df2cb0a7728a5fb0]\n",
       "cluster E9--><a href=\"psysml:5979dd71-75f1-4b72-84ed-7ab4ecfce4b9\" target=\"_top\" title=\"psysml:5979dd71-75f1-4b72-84ed-7ab4ecfce4b9\" xlink:actuate=\"onRequest\" xlink:href=\"psysml:5979dd71-75f1-4b72-84ed-7ab4ecfce4b9\" xlink:show=\"new\" xlink:title=\"psysml:5979dd71-75f1-4b72-84ed-7ab4ecfce4b9\" xlink:type=\"simple\"><polygon fill=\"#FFFFFF\" points=\"245,49,271,49,278,71.2969,319,71.2969,319,146,245,146,245,49\" style=\"stroke: #000000; stroke-width: 1.5;\"/><line style=\"stroke: #000000; stroke-width: 1.5;\" x1=\"245\" x2=\"278\" y1=\"71.2969\" y2=\"71.2969\"/><text fill=\"#000000\" font-family=\"sans-serif\" font-size=\"14\" font-weight=\"bold\" lengthAdjust=\"spacingAndGlyphs\" textLength=\"20\" x=\"249\" y=\"63.9951\">P4</text></a><!--MD5=[270fce915f116d4de14055a7c1d9a0f3]\n",
       "class E5--><a href=\"psysml:0c75b404-ec52-4836-8cbb-5da98c4a5930\" target=\"_top\" title=\"psysml:0c75b404-ec52-4836-8cbb-5da98c4a5930\" xlink:actuate=\"onRequest\" xlink:href=\"psysml:0c75b404-ec52-4836-8cbb-5da98c4a5930\" xlink:show=\"new\" xlink:title=\"psysml:0c75b404-ec52-4836-8cbb-5da98c4a5930\" xlink:type=\"simple\"><rect fill=\"#FFFFFF\" height=\"45.9375\" id=\"E5\" rx=\"10\" ry=\"10\" style=\"stroke: #383838; stroke-width: 1.5;\" width=\"42\" x=\"184\" y=\"84\"/><text fill=\"#000000\" font-family=\"sans-serif\" font-size=\"12\" font-style=\"italic\" lengthAdjust=\"spacingAndGlyphs\" textLength=\"40\" x=\"185\" y=\"100.1387\">«part»</text><text fill=\"#000000\" font-family=\"sans-serif\" font-size=\"12\" lengthAdjust=\"spacingAndGlyphs\" textLength=\"22\" x=\"194\" y=\"114.1074\">x: A</text><line style=\"stroke: #383838; stroke-width: 1.5;\" x1=\"185\" x2=\"225\" y1=\"121.9375\" y2=\"121.9375\"/></a><!--MD5=[b9389687b975829384b498ac4b7476b2]\n",
       "class E8--><a href=\"psysml:f43ee61a-1d92-4bcd-a6ef-463238303c09\" target=\"_top\" title=\"psysml:f43ee61a-1d92-4bcd-a6ef-463238303c09\" xlink:actuate=\"onRequest\" xlink:href=\"psysml:f43ee61a-1d92-4bcd-a6ef-463238303c09\" xlink:show=\"new\" xlink:title=\"psysml:f43ee61a-1d92-4bcd-a6ef-463238303c09\" xlink:type=\"simple\"><rect fill=\"#FFFFFF\" height=\"45.9375\" id=\"E8\" rx=\"10\" ry=\"10\" style=\"stroke: #383838; stroke-width: 1.5;\" width=\"42\" x=\"107\" y=\"84\"/><text fill=\"#000000\" font-family=\"sans-serif\" font-size=\"12\" font-style=\"italic\" lengthAdjust=\"spacingAndGlyphs\" textLength=\"40\" x=\"108\" y=\"100.1387\">«part»</text><text fill=\"#000000\" font-family=\"sans-serif\" font-size=\"12\" lengthAdjust=\"spacingAndGlyphs\" textLength=\"21\" x=\"117.5\" y=\"114.1074\">z: B</text><line style=\"stroke: #383838; stroke-width: 1.5;\" x1=\"108\" x2=\"148\" y1=\"121.9375\" y2=\"121.9375\"/></a><!--MD5=[09b614a08d8cba4a07c9adeb5e0fee81]\n",
       "class E3--><a href=\"psysml:c33e3566-7ac4-4487-b3df-3cd0148aac2a\" target=\"_top\" title=\"psysml:c33e3566-7ac4-4487-b3df-3cd0148aac2a\" xlink:actuate=\"onRequest\" xlink:href=\"psysml:c33e3566-7ac4-4487-b3df-3cd0148aac2a\" xlink:show=\"new\" xlink:title=\"psysml:c33e3566-7ac4-4487-b3df-3cd0148aac2a\" xlink:type=\"simple\"><rect fill=\"#FFFFFF\" height=\"45.9375\" id=\"E3\" style=\"stroke: #383838; stroke-width: 1.5;\" width=\"66\" x=\"227\" y=\"205\"/><text fill=\"#000000\" font-family=\"sans-serif\" font-size=\"12\" font-style=\"italic\" lengthAdjust=\"spacingAndGlyphs\" textLength=\"64\" x=\"228\" y=\"221.1387\">«part def»</text><text fill=\"#000000\" font-family=\"sans-serif\" font-size=\"12\" lengthAdjust=\"spacingAndGlyphs\" textLength=\"8\" x=\"256\" y=\"235.1074\">A</text><line style=\"stroke: #383838; stroke-width: 1.5;\" x1=\"228\" x2=\"292\" y1=\"242.9375\" y2=\"242.9375\"/></a><a href=\"psysml:b9d82d12-80d8-4b65-b32b-0d4caf256cd7\" target=\"_top\" title=\"psysml:b9d82d12-80d8-4b65-b32b-0d4caf256cd7\" xlink:actuate=\"onRequest\" xlink:href=\"psysml:b9d82d12-80d8-4b65-b32b-0d4caf256cd7\" xlink:show=\"new\" xlink:title=\"psysml:b9d82d12-80d8-4b65-b32b-0d4caf256cd7\" xlink:type=\"simple\"><polygon fill=\"#FFFFFF\" points=\"32,80.5,58,80.5,65,102.7969,72,102.7969,72,133.0938,32,133.0938,32,80.5\" style=\"stroke: #000000; stroke-width: 1.5;\"/><line style=\"stroke: #000000; stroke-width: 1.5;\" x1=\"32\" x2=\"65\" y1=\"102.7969\" y2=\"102.7969\"/><text fill=\"#000000\" font-family=\"sans-serif\" font-size=\"14\" font-weight=\"bold\" lengthAdjust=\"spacingAndGlyphs\" textLength=\"20\" x=\"36\" y=\"95.4951\">P2</text></a><!--MD5=[2156ba9850f5573cc1fc38a6a4b2f02b]\n",
       "class E7--><a href=\"psysml:70818b0d-1657-43d7-b586-0302676d35dd\" target=\"_top\" title=\"psysml:70818b0d-1657-43d7-b586-0302676d35dd\" xlink:actuate=\"onRequest\" xlink:href=\"psysml:70818b0d-1657-43d7-b586-0302676d35dd\" xlink:show=\"new\" xlink:title=\"psysml:70818b0d-1657-43d7-b586-0302676d35dd\" xlink:type=\"simple\"><rect fill=\"#FFFFFF\" height=\"45.9375\" id=\"E7\" style=\"stroke: #383838; stroke-width: 1.5;\" width=\"66\" x=\"95\" y=\"205\"/><text fill=\"#000000\" font-family=\"sans-serif\" font-size=\"12\" font-style=\"italic\" lengthAdjust=\"spacingAndGlyphs\" textLength=\"64\" x=\"96\" y=\"221.1387\">«part def»</text><text fill=\"#000000\" font-family=\"sans-serif\" font-size=\"12\" lengthAdjust=\"spacingAndGlyphs\" textLength=\"8\" x=\"124\" y=\"235.1074\">B</text><line style=\"stroke: #383838; stroke-width: 1.5;\" x1=\"96\" x2=\"160\" y1=\"242.9375\" y2=\"242.9375\"/></a><!--MD5=[96f4274e9e20536e775497830990834d]\n",
       "class E10--><a href=\"psysml:e183bef4-e50f-4a79-aea2-e72f91ae33b1\" target=\"_top\" title=\"psysml:e183bef4-e50f-4a79-aea2-e72f91ae33b1\" xlink:actuate=\"onRequest\" xlink:href=\"psysml:e183bef4-e50f-4a79-aea2-e72f91ae33b1\" xlink:show=\"new\" xlink:title=\"psysml:e183bef4-e50f-4a79-aea2-e72f91ae33b1\" xlink:type=\"simple\"><rect fill=\"#FFFFFF\" height=\"45.9375\" id=\"E10\" rx=\"10\" ry=\"10\" style=\"stroke: #383838; stroke-width: 1.5;\" width=\"42\" x=\"261\" y=\"84\"/><text fill=\"#000000\" font-family=\"sans-serif\" font-size=\"12\" font-style=\"italic\" lengthAdjust=\"spacingAndGlyphs\" textLength=\"40\" x=\"262\" y=\"100.1387\">«part»</text><text fill=\"#000000\" font-family=\"sans-serif\" font-size=\"12\" lengthAdjust=\"spacingAndGlyphs\" textLength=\"29\" x=\"267.5\" y=\"114.1074\">z1: A</text><line style=\"stroke: #383838; stroke-width: 1.5;\" x1=\"262\" x2=\"302\" y1=\"121.9375\" y2=\"121.9375\"/></a><!--MD5=[e9be52314489bd878ff4c7144b63c9e1]\n",
       "link E5 to E3--><a href=\"psysml:f8be15bd-6ead-4f94-a81d-297834d3bff2\" target=\"_top\" title=\"psysml:f8be15bd-6ead-4f94-a81d-297834d3bff2\" xlink:actuate=\"onRequest\" xlink:href=\"psysml:f8be15bd-6ead-4f94-a81d-297834d3bff2\" xlink:show=\"new\" xlink:title=\"psysml:f8be15bd-6ead-4f94-a81d-297834d3bff2\" xlink:type=\"simple\"><path d=\"M215.22,130.1 C222.5,145.87 232.51,167.52 241.22,186.36 \" fill=\"none\" id=\"E5-&gt;E3\" style=\"stroke: #383838; stroke-width: 1.0;\"/><polygon fill=\"#FFFFFF\" points=\"249.65,204.61,235.3286,190.2958,248.0386,184.4258,249.65,204.61\" style=\"stroke: #383838; stroke-width: 1.0;\"/><ellipse cx=\"234.7544\" cy=\"184.2824\" fill=\"#383838\" rx=\"2\" ry=\"2\" style=\"stroke: #383838; stroke-width: 1.0;\"/><ellipse cx=\"243.8329\" cy=\"180.0896\" fill=\"#383838\" rx=\"2\" ry=\"2\" style=\"stroke: #383838; stroke-width: 1.0;\"/></a><!--MD5=[bfa3c8b0d15052fdf50ae9310b491027]\n",
       "link E8 to E7--><a href=\"psysml:2890fdf6-d136-470e-95db-a042243a6f10\" target=\"_top\" title=\"psysml:2890fdf6-d136-470e-95db-a042243a6f10\" xlink:actuate=\"onRequest\" xlink:href=\"psysml:2890fdf6-d136-470e-95db-a042243a6f10\" xlink:show=\"new\" xlink:title=\"psysml:2890fdf6-d136-470e-95db-a042243a6f10\" xlink:type=\"simple\"><path d=\"M128,130.1 C128,145.37 128,166.16 128,184.57 \" fill=\"none\" id=\"E8-&gt;E7\" style=\"stroke: #383838; stroke-width: 1.0;\"/><polygon fill=\"#FFFFFF\" points=\"128,204.61,121,185.61,135,185.61,128,204.61\" style=\"stroke: #383838; stroke-width: 1.0;\"/><ellipse cx=\"123\" cy=\"179.91\" fill=\"#383838\" rx=\"2\" ry=\"2\" style=\"stroke: #383838; stroke-width: 1.0;\"/><ellipse cx=\"133\" cy=\"179.91\" fill=\"#383838\" rx=\"2\" ry=\"2\" style=\"stroke: #383838; stroke-width: 1.0;\"/></a><!--MD5=[feeac5eb423634930294aa81f2d25a4c]\n",
       "link E10 to E3--><a href=\"psysml:25a6672d-e3f3-453e-a929-7fba59fa68e7\" target=\"_top\" title=\"psysml:25a6672d-e3f3-453e-a929-7fba59fa68e7\" xlink:actuate=\"onRequest\" xlink:href=\"psysml:25a6672d-e3f3-453e-a929-7fba59fa68e7\" xlink:show=\"new\" xlink:title=\"psysml:25a6672d-e3f3-453e-a929-7fba59fa68e7\" xlink:type=\"simple\"><path d=\"M277.91,130.1 C275.08,145.45 271.21,166.39 267.79,184.87 \" fill=\"none\" id=\"E10-&gt;E3\" style=\"stroke: #383838; stroke-width: 1.0;\"/><polygon fill=\"#FFFFFF\" points=\"264.14,204.61,260.7167,184.653,274.4827,187.2023,264.14,204.61\" style=\"stroke: #383838; stroke-width: 1.0;\"/><ellipse cx=\"263.7212\" cy=\"179.4125\" fill=\"#383838\" rx=\"2\" ry=\"2\" style=\"stroke: #383838; stroke-width: 1.0;\"/><ellipse cx=\"273.554\" cy=\"181.2334\" fill=\"#383838\" rx=\"2\" ry=\"2\" style=\"stroke: #383838; stroke-width: 1.0;\"/></a><!--MD5=[15575214d5bc59ddaba302b93deaf22f]\n",
       "@startuml\r\n",
       " skinparam monochrome true\r\n",
       "skinparam classbackgroundcolor white\r\n",
       "skinparam shadowing false\r\n",
       "skinparam wrapWidth 300\r\n",
       "hide circle\r\n",
       "\r\n",
       "package \"PrivateImportTest\" as E1  [[psysml:90f2a1bf-87a7-47cf-b7dc-49b41c6fd8e7 ]]  {\r\n",
       "package \"P1\" as E2  [[psysml:16275eaf-61bd-4171-b64d-9c4aa1fed5b3 ]]  {\r\n",
       "comp def \"A\" as E3  <<(T,blue) part def>> [[psysml:c33e3566-7ac4-4487-b3df-3cd0148aac2a ]] {\r\n",
       "}\r\n",
       "}\r\n",
       "package \"P2\" as E4  [[psysml:b9d82d12-80d8-4b65-b32b-0d4caf256cd7 ]]  {\r\n",
       "}\r\n",
       "comp usage \"x: A\" as E5  <<(T,blue) part>> [[psysml:0c75b404-ec52-4836-8cbb-5da98c4a5930 ]] {\r\n",
       "}\r\n",
       "package \"P3\" as E6  [[psysml:9d4f5989-8a3e-4397-a866-52670c662db3 ]]  {\r\n",
       "comp def \"B\" as E7  <<(T,blue) part def>> [[psysml:70818b0d-1657-43d7-b586-0302676d35dd ]] {\r\n",
       "}\r\n",
       "E5 - -:|> E3 [[psysml:f8be15bd-6ead-4f94-a81d-297834d3bff2 ]] \r\n",
       "}\r\n",
       "comp usage \"z: B\" as E8  <<(T,blue) part>> [[psysml:f43ee61a-1d92-4bcd-a6ef-463238303c09 ]] {\r\n",
       "}\r\n",
       "package \"P4\" as E9  [[psysml:5979dd71-75f1-4b72-84ed-7ab4ecfce4b9 ]]  {\r\n",
       "comp usage \"z1: A\" as E10  <<(T,blue) part>> [[psysml:e183bef4-e50f-4a79-aea2-e72f91ae33b1 ]] {\r\n",
       "}\r\n",
       "E8 - -:|> E7 [[psysml:2890fdf6-d136-470e-95db-a042243a6f10 ]] \r\n",
       "E10 - -:|> E3 [[psysml:25a6672d-e3f3-453e-a929-7fba59fa68e7 ]] \r\n",
       "}\r\n",
       "}\r\n",
       "@enduml\r\n",
       "\n",
       "PlantUML version 1.2020.13(Sat Jun 13 12:26:38 UTC 2020)\n",
       "(EPL source distribution)\n",
       "Java Runtime: OpenJDK Runtime Environment\n",
       "JVM: OpenJDK 64-Bit Server VM\n",
       "Default Encoding: UTF-8\n",
       "Language: en\n",
       "Country: null\n",
       "--></g></svg>"
      ]
     },
     "execution_count": 7,
     "metadata": {},
     "output_type": "execute_result"
    }
   ],
   "source": [
    "%viz --style=\"COMPTREE\" --view=\"Sequence\" \"PrivateImportTest\""
   ]
  },
  {
   "cell_type": "code",
   "execution_count": 8,
   "id": "6cc2eb92",
   "metadata": {
    "execution": {
     "iopub.execute_input": "2021-08-04T06:27:54.404091Z",
     "iopub.status.busy": "2021-08-04T06:27:54.403781Z",
     "iopub.status.idle": "2021-08-04T06:27:54.453623Z",
     "shell.execute_reply": "2021-08-04T06:27:54.452809Z"
    }
   },
   "outputs": [
    {
     "data": {
      "image/svg+xml": [
       "<?xml version=\"1.0\" encoding=\"UTF-8\" standalone=\"no\"?><svg xmlns=\"http://www.w3.org/2000/svg\" xmlns:xlink=\"http://www.w3.org/1999/xlink\" contentScriptType=\"application/ecmascript\" contentStyleType=\"text/css\" height=\"303px\" preserveAspectRatio=\"none\" style=\"width:365px;height:303px;\" version=\"1.1\" viewBox=\"0 0 365 303\" width=\"365px\" zoomAndPan=\"magnify\"><defs/><g><!--MD5=[fbc87193dbaf4d95561dea2c320d4a47]\n",
       "cluster E1--><a href=\"psysml:90f2a1bf-87a7-47cf-b7dc-49b41c6fd8e7\" target=\"_top\" title=\"psysml:90f2a1bf-87a7-47cf-b7dc-49b41c6fd8e7\" xlink:actuate=\"onRequest\" xlink:href=\"psysml:90f2a1bf-87a7-47cf-b7dc-49b41c6fd8e7\" xlink:show=\"new\" xlink:title=\"psysml:90f2a1bf-87a7-47cf-b7dc-49b41c6fd8e7\" xlink:type=\"simple\"><polygon fill=\"#FFFFFF\" points=\"16,6,163,6,170,28.2969,343,28.2969,343,291,16,291,16,6\" style=\"stroke: #000000; stroke-width: 1.5;\"/><line style=\"stroke: #000000; stroke-width: 1.5;\" x1=\"16\" x2=\"170\" y1=\"28.2969\" y2=\"28.2969\"/><text fill=\"#000000\" font-family=\"sans-serif\" font-size=\"14\" font-weight=\"bold\" lengthAdjust=\"spacingAndGlyphs\" textLength=\"141\" x=\"20\" y=\"20.9951\">PrivateImportTest</text></a><!--MD5=[e4f7fae6ed58524ba242bb0b0d3be6b7]\n",
       "cluster E2--><a href=\"psysml:16275eaf-61bd-4171-b64d-9c4aa1fed5b3\" target=\"_top\" title=\"psysml:16275eaf-61bd-4171-b64d-9c4aa1fed5b3\" xlink:actuate=\"onRequest\" xlink:href=\"psysml:16275eaf-61bd-4171-b64d-9c4aa1fed5b3\" xlink:show=\"new\" xlink:title=\"psysml:16275eaf-61bd-4171-b64d-9c4aa1fed5b3\" xlink:type=\"simple\"><polygon fill=\"#FFFFFF\" points=\"211,170,237,170,244,192.2969,309,192.2969,309,267,211,267,211,170\" style=\"stroke: #000000; stroke-width: 1.5;\"/><line style=\"stroke: #000000; stroke-width: 1.5;\" x1=\"211\" x2=\"244\" y1=\"192.2969\" y2=\"192.2969\"/><text fill=\"#000000\" font-family=\"sans-serif\" font-size=\"14\" font-weight=\"bold\" lengthAdjust=\"spacingAndGlyphs\" textLength=\"20\" x=\"215\" y=\"184.9951\">P1</text></a><!--MD5=[14e3b0961a2654348d326746436168a1]\n",
       "cluster E6--><a href=\"psysml:9d4f5989-8a3e-4397-a866-52670c662db3\" target=\"_top\" title=\"psysml:9d4f5989-8a3e-4397-a866-52670c662db3\" xlink:actuate=\"onRequest\" xlink:href=\"psysml:9d4f5989-8a3e-4397-a866-52670c662db3\" xlink:show=\"new\" xlink:title=\"psysml:9d4f5989-8a3e-4397-a866-52670c662db3\" xlink:type=\"simple\"><polygon fill=\"#FFFFFF\" points=\"79,170,105,170,112,192.2969,177,192.2969,177,267,79,267,79,170\" style=\"stroke: #000000; stroke-width: 1.5;\"/><line style=\"stroke: #000000; stroke-width: 1.5;\" x1=\"79\" x2=\"112\" y1=\"192.2969\" y2=\"192.2969\"/><text fill=\"#000000\" font-family=\"sans-serif\" font-size=\"14\" font-weight=\"bold\" lengthAdjust=\"spacingAndGlyphs\" textLength=\"20\" x=\"83\" y=\"184.9951\">P3</text></a><!--MD5=[7f149f147074ac12df2cb0a7728a5fb0]\n",
       "cluster E9--><a href=\"psysml:5979dd71-75f1-4b72-84ed-7ab4ecfce4b9\" target=\"_top\" title=\"psysml:5979dd71-75f1-4b72-84ed-7ab4ecfce4b9\" xlink:actuate=\"onRequest\" xlink:href=\"psysml:5979dd71-75f1-4b72-84ed-7ab4ecfce4b9\" xlink:show=\"new\" xlink:title=\"psysml:5979dd71-75f1-4b72-84ed-7ab4ecfce4b9\" xlink:type=\"simple\"><polygon fill=\"#FFFFFF\" points=\"245,49,271,49,278,71.2969,319,71.2969,319,146,245,146,245,49\" style=\"stroke: #000000; stroke-width: 1.5;\"/><line style=\"stroke: #000000; stroke-width: 1.5;\" x1=\"245\" x2=\"278\" y1=\"71.2969\" y2=\"71.2969\"/><text fill=\"#000000\" font-family=\"sans-serif\" font-size=\"14\" font-weight=\"bold\" lengthAdjust=\"spacingAndGlyphs\" textLength=\"20\" x=\"249\" y=\"63.9951\">P4</text></a><!--MD5=[270fce915f116d4de14055a7c1d9a0f3]\n",
       "class E5--><a href=\"psysml:0c75b404-ec52-4836-8cbb-5da98c4a5930\" target=\"_top\" title=\"psysml:0c75b404-ec52-4836-8cbb-5da98c4a5930\" xlink:actuate=\"onRequest\" xlink:href=\"psysml:0c75b404-ec52-4836-8cbb-5da98c4a5930\" xlink:show=\"new\" xlink:title=\"psysml:0c75b404-ec52-4836-8cbb-5da98c4a5930\" xlink:type=\"simple\"><rect fill=\"#FFFFFF\" height=\"45.9375\" id=\"E5\" rx=\"10\" ry=\"10\" style=\"stroke: #383838; stroke-width: 1.5;\" width=\"42\" x=\"184\" y=\"84\"/><text fill=\"#000000\" font-family=\"sans-serif\" font-size=\"12\" font-style=\"italic\" lengthAdjust=\"spacingAndGlyphs\" textLength=\"40\" x=\"185\" y=\"100.1387\">«part»</text><text fill=\"#000000\" font-family=\"sans-serif\" font-size=\"12\" lengthAdjust=\"spacingAndGlyphs\" textLength=\"22\" x=\"194\" y=\"114.1074\">x: A</text><line style=\"stroke: #383838; stroke-width: 1.5;\" x1=\"185\" x2=\"225\" y1=\"121.9375\" y2=\"121.9375\"/></a><!--MD5=[b9389687b975829384b498ac4b7476b2]\n",
       "class E8--><a href=\"psysml:f43ee61a-1d92-4bcd-a6ef-463238303c09\" target=\"_top\" title=\"psysml:f43ee61a-1d92-4bcd-a6ef-463238303c09\" xlink:actuate=\"onRequest\" xlink:href=\"psysml:f43ee61a-1d92-4bcd-a6ef-463238303c09\" xlink:show=\"new\" xlink:title=\"psysml:f43ee61a-1d92-4bcd-a6ef-463238303c09\" xlink:type=\"simple\"><rect fill=\"#FFFFFF\" height=\"45.9375\" id=\"E8\" rx=\"10\" ry=\"10\" style=\"stroke: #383838; stroke-width: 1.5;\" width=\"42\" x=\"107\" y=\"84\"/><text fill=\"#000000\" font-family=\"sans-serif\" font-size=\"12\" font-style=\"italic\" lengthAdjust=\"spacingAndGlyphs\" textLength=\"40\" x=\"108\" y=\"100.1387\">«part»</text><text fill=\"#000000\" font-family=\"sans-serif\" font-size=\"12\" lengthAdjust=\"spacingAndGlyphs\" textLength=\"21\" x=\"117.5\" y=\"114.1074\">z: B</text><line style=\"stroke: #383838; stroke-width: 1.5;\" x1=\"108\" x2=\"148\" y1=\"121.9375\" y2=\"121.9375\"/></a><!--MD5=[09b614a08d8cba4a07c9adeb5e0fee81]\n",
       "class E3--><a href=\"psysml:c33e3566-7ac4-4487-b3df-3cd0148aac2a\" target=\"_top\" title=\"psysml:c33e3566-7ac4-4487-b3df-3cd0148aac2a\" xlink:actuate=\"onRequest\" xlink:href=\"psysml:c33e3566-7ac4-4487-b3df-3cd0148aac2a\" xlink:show=\"new\" xlink:title=\"psysml:c33e3566-7ac4-4487-b3df-3cd0148aac2a\" xlink:type=\"simple\"><rect fill=\"#FFFFFF\" height=\"45.9375\" id=\"E3\" style=\"stroke: #383838; stroke-width: 1.5;\" width=\"66\" x=\"227\" y=\"205\"/><text fill=\"#000000\" font-family=\"sans-serif\" font-size=\"12\" font-style=\"italic\" lengthAdjust=\"spacingAndGlyphs\" textLength=\"64\" x=\"228\" y=\"221.1387\">«part def»</text><text fill=\"#000000\" font-family=\"sans-serif\" font-size=\"12\" lengthAdjust=\"spacingAndGlyphs\" textLength=\"8\" x=\"256\" y=\"235.1074\">A</text><line style=\"stroke: #383838; stroke-width: 1.5;\" x1=\"228\" x2=\"292\" y1=\"242.9375\" y2=\"242.9375\"/></a><a href=\"psysml:b9d82d12-80d8-4b65-b32b-0d4caf256cd7\" target=\"_top\" title=\"psysml:b9d82d12-80d8-4b65-b32b-0d4caf256cd7\" xlink:actuate=\"onRequest\" xlink:href=\"psysml:b9d82d12-80d8-4b65-b32b-0d4caf256cd7\" xlink:show=\"new\" xlink:title=\"psysml:b9d82d12-80d8-4b65-b32b-0d4caf256cd7\" xlink:type=\"simple\"><polygon fill=\"#FFFFFF\" points=\"32,80.5,58,80.5,65,102.7969,72,102.7969,72,133.0938,32,133.0938,32,80.5\" style=\"stroke: #000000; stroke-width: 1.5;\"/><line style=\"stroke: #000000; stroke-width: 1.5;\" x1=\"32\" x2=\"65\" y1=\"102.7969\" y2=\"102.7969\"/><text fill=\"#000000\" font-family=\"sans-serif\" font-size=\"14\" font-weight=\"bold\" lengthAdjust=\"spacingAndGlyphs\" textLength=\"20\" x=\"36\" y=\"95.4951\">P2</text></a><!--MD5=[2156ba9850f5573cc1fc38a6a4b2f02b]\n",
       "class E7--><a href=\"psysml:70818b0d-1657-43d7-b586-0302676d35dd\" target=\"_top\" title=\"psysml:70818b0d-1657-43d7-b586-0302676d35dd\" xlink:actuate=\"onRequest\" xlink:href=\"psysml:70818b0d-1657-43d7-b586-0302676d35dd\" xlink:show=\"new\" xlink:title=\"psysml:70818b0d-1657-43d7-b586-0302676d35dd\" xlink:type=\"simple\"><rect fill=\"#FFFFFF\" height=\"45.9375\" id=\"E7\" style=\"stroke: #383838; stroke-width: 1.5;\" width=\"66\" x=\"95\" y=\"205\"/><text fill=\"#000000\" font-family=\"sans-serif\" font-size=\"12\" font-style=\"italic\" lengthAdjust=\"spacingAndGlyphs\" textLength=\"64\" x=\"96\" y=\"221.1387\">«part def»</text><text fill=\"#000000\" font-family=\"sans-serif\" font-size=\"12\" lengthAdjust=\"spacingAndGlyphs\" textLength=\"8\" x=\"124\" y=\"235.1074\">B</text><line style=\"stroke: #383838; stroke-width: 1.5;\" x1=\"96\" x2=\"160\" y1=\"242.9375\" y2=\"242.9375\"/></a><!--MD5=[96f4274e9e20536e775497830990834d]\n",
       "class E10--><a href=\"psysml:e183bef4-e50f-4a79-aea2-e72f91ae33b1\" target=\"_top\" title=\"psysml:e183bef4-e50f-4a79-aea2-e72f91ae33b1\" xlink:actuate=\"onRequest\" xlink:href=\"psysml:e183bef4-e50f-4a79-aea2-e72f91ae33b1\" xlink:show=\"new\" xlink:title=\"psysml:e183bef4-e50f-4a79-aea2-e72f91ae33b1\" xlink:type=\"simple\"><rect fill=\"#FFFFFF\" height=\"45.9375\" id=\"E10\" rx=\"10\" ry=\"10\" style=\"stroke: #383838; stroke-width: 1.5;\" width=\"42\" x=\"261\" y=\"84\"/><text fill=\"#000000\" font-family=\"sans-serif\" font-size=\"12\" font-style=\"italic\" lengthAdjust=\"spacingAndGlyphs\" textLength=\"40\" x=\"262\" y=\"100.1387\">«part»</text><text fill=\"#000000\" font-family=\"sans-serif\" font-size=\"12\" lengthAdjust=\"spacingAndGlyphs\" textLength=\"29\" x=\"267.5\" y=\"114.1074\">z1: A</text><line style=\"stroke: #383838; stroke-width: 1.5;\" x1=\"262\" x2=\"302\" y1=\"121.9375\" y2=\"121.9375\"/></a><!--MD5=[e9be52314489bd878ff4c7144b63c9e1]\n",
       "link E5 to E3--><a href=\"psysml:f8be15bd-6ead-4f94-a81d-297834d3bff2\" target=\"_top\" title=\"psysml:f8be15bd-6ead-4f94-a81d-297834d3bff2\" xlink:actuate=\"onRequest\" xlink:href=\"psysml:f8be15bd-6ead-4f94-a81d-297834d3bff2\" xlink:show=\"new\" xlink:title=\"psysml:f8be15bd-6ead-4f94-a81d-297834d3bff2\" xlink:type=\"simple\"><path d=\"M215.22,130.1 C222.5,145.87 232.51,167.52 241.22,186.36 \" fill=\"none\" id=\"E5-&gt;E3\" style=\"stroke: #383838; stroke-width: 1.0;\"/><polygon fill=\"#FFFFFF\" points=\"249.65,204.61,235.3286,190.2958,248.0386,184.4258,249.65,204.61\" style=\"stroke: #383838; stroke-width: 1.0;\"/><ellipse cx=\"234.7544\" cy=\"184.2824\" fill=\"#383838\" rx=\"2\" ry=\"2\" style=\"stroke: #383838; stroke-width: 1.0;\"/><ellipse cx=\"243.8329\" cy=\"180.0896\" fill=\"#383838\" rx=\"2\" ry=\"2\" style=\"stroke: #383838; stroke-width: 1.0;\"/></a><!--MD5=[bfa3c8b0d15052fdf50ae9310b491027]\n",
       "link E8 to E7--><a href=\"psysml:2890fdf6-d136-470e-95db-a042243a6f10\" target=\"_top\" title=\"psysml:2890fdf6-d136-470e-95db-a042243a6f10\" xlink:actuate=\"onRequest\" xlink:href=\"psysml:2890fdf6-d136-470e-95db-a042243a6f10\" xlink:show=\"new\" xlink:title=\"psysml:2890fdf6-d136-470e-95db-a042243a6f10\" xlink:type=\"simple\"><path d=\"M128,130.1 C128,145.37 128,166.16 128,184.57 \" fill=\"none\" id=\"E8-&gt;E7\" style=\"stroke: #383838; stroke-width: 1.0;\"/><polygon fill=\"#FFFFFF\" points=\"128,204.61,121,185.61,135,185.61,128,204.61\" style=\"stroke: #383838; stroke-width: 1.0;\"/><ellipse cx=\"123\" cy=\"179.91\" fill=\"#383838\" rx=\"2\" ry=\"2\" style=\"stroke: #383838; stroke-width: 1.0;\"/><ellipse cx=\"133\" cy=\"179.91\" fill=\"#383838\" rx=\"2\" ry=\"2\" style=\"stroke: #383838; stroke-width: 1.0;\"/></a><!--MD5=[feeac5eb423634930294aa81f2d25a4c]\n",
       "link E10 to E3--><a href=\"psysml:25a6672d-e3f3-453e-a929-7fba59fa68e7\" target=\"_top\" title=\"psysml:25a6672d-e3f3-453e-a929-7fba59fa68e7\" xlink:actuate=\"onRequest\" xlink:href=\"psysml:25a6672d-e3f3-453e-a929-7fba59fa68e7\" xlink:show=\"new\" xlink:title=\"psysml:25a6672d-e3f3-453e-a929-7fba59fa68e7\" xlink:type=\"simple\"><path d=\"M277.91,130.1 C275.08,145.45 271.21,166.39 267.79,184.87 \" fill=\"none\" id=\"E10-&gt;E3\" style=\"stroke: #383838; stroke-width: 1.0;\"/><polygon fill=\"#FFFFFF\" points=\"264.14,204.61,260.7167,184.653,274.4827,187.2023,264.14,204.61\" style=\"stroke: #383838; stroke-width: 1.0;\"/><ellipse cx=\"263.7212\" cy=\"179.4125\" fill=\"#383838\" rx=\"2\" ry=\"2\" style=\"stroke: #383838; stroke-width: 1.0;\"/><ellipse cx=\"273.554\" cy=\"181.2334\" fill=\"#383838\" rx=\"2\" ry=\"2\" style=\"stroke: #383838; stroke-width: 1.0;\"/></a><!--MD5=[15575214d5bc59ddaba302b93deaf22f]\n",
       "@startuml\r\n",
       " skinparam monochrome true\r\n",
       "skinparam classbackgroundcolor white\r\n",
       "skinparam shadowing false\r\n",
       "skinparam wrapWidth 300\r\n",
       "hide circle\r\n",
       "\r\n",
       "package \"PrivateImportTest\" as E1  [[psysml:90f2a1bf-87a7-47cf-b7dc-49b41c6fd8e7 ]]  {\r\n",
       "package \"P1\" as E2  [[psysml:16275eaf-61bd-4171-b64d-9c4aa1fed5b3 ]]  {\r\n",
       "comp def \"A\" as E3  <<(T,blue) part def>> [[psysml:c33e3566-7ac4-4487-b3df-3cd0148aac2a ]] {\r\n",
       "}\r\n",
       "}\r\n",
       "package \"P2\" as E4  [[psysml:b9d82d12-80d8-4b65-b32b-0d4caf256cd7 ]]  {\r\n",
       "}\r\n",
       "comp usage \"x: A\" as E5  <<(T,blue) part>> [[psysml:0c75b404-ec52-4836-8cbb-5da98c4a5930 ]] {\r\n",
       "}\r\n",
       "package \"P3\" as E6  [[psysml:9d4f5989-8a3e-4397-a866-52670c662db3 ]]  {\r\n",
       "comp def \"B\" as E7  <<(T,blue) part def>> [[psysml:70818b0d-1657-43d7-b586-0302676d35dd ]] {\r\n",
       "}\r\n",
       "E5 - -:|> E3 [[psysml:f8be15bd-6ead-4f94-a81d-297834d3bff2 ]] \r\n",
       "}\r\n",
       "comp usage \"z: B\" as E8  <<(T,blue) part>> [[psysml:f43ee61a-1d92-4bcd-a6ef-463238303c09 ]] {\r\n",
       "}\r\n",
       "package \"P4\" as E9  [[psysml:5979dd71-75f1-4b72-84ed-7ab4ecfce4b9 ]]  {\r\n",
       "comp usage \"z1: A\" as E10  <<(T,blue) part>> [[psysml:e183bef4-e50f-4a79-aea2-e72f91ae33b1 ]] {\r\n",
       "}\r\n",
       "E8 - -:|> E7 [[psysml:2890fdf6-d136-470e-95db-a042243a6f10 ]] \r\n",
       "E10 - -:|> E3 [[psysml:25a6672d-e3f3-453e-a929-7fba59fa68e7 ]] \r\n",
       "}\r\n",
       "}\r\n",
       "@enduml\r\n",
       "\n",
       "PlantUML version 1.2020.13(Sat Jun 13 12:26:38 UTC 2020)\n",
       "(EPL source distribution)\n",
       "Java Runtime: OpenJDK Runtime Environment\n",
       "JVM: OpenJDK 64-Bit Server VM\n",
       "Default Encoding: UTF-8\n",
       "Language: en\n",
       "Country: null\n",
       "--></g></svg>"
      ]
     },
     "execution_count": 8,
     "metadata": {},
     "output_type": "execute_result"
    }
   ],
   "source": [
    "%viz --style=\"COMPTREE\" --view=\"MIXED\" \"PrivateImportTest\""
   ]
  },
  {
   "cell_type": "code",
   "execution_count": 9,
   "id": "eae84236",
   "metadata": {
    "execution": {
     "iopub.execute_input": "2021-08-04T06:27:54.503474Z",
     "iopub.status.busy": "2021-08-04T06:27:54.503211Z",
     "iopub.status.idle": "2021-08-04T06:27:54.548039Z",
     "shell.execute_reply": "2021-08-04T06:27:54.547592Z"
    }
   },
   "outputs": [
    {
     "data": {
      "image/svg+xml": [
       "<?xml version=\"1.0\" encoding=\"UTF-8\" standalone=\"no\"?><svg xmlns=\"http://www.w3.org/2000/svg\" xmlns:xlink=\"http://www.w3.org/1999/xlink\" contentScriptType=\"application/ecmascript\" contentStyleType=\"text/css\" height=\"303px\" preserveAspectRatio=\"none\" style=\"width:365px;height:303px;\" version=\"1.1\" viewBox=\"0 0 365 303\" width=\"365px\" zoomAndPan=\"magnify\"><defs/><g><!--MD5=[fbc87193dbaf4d95561dea2c320d4a47]\n",
       "cluster E1--><a href=\"psysml:90f2a1bf-87a7-47cf-b7dc-49b41c6fd8e7\" target=\"_top\" title=\"psysml:90f2a1bf-87a7-47cf-b7dc-49b41c6fd8e7\" xlink:actuate=\"onRequest\" xlink:href=\"psysml:90f2a1bf-87a7-47cf-b7dc-49b41c6fd8e7\" xlink:show=\"new\" xlink:title=\"psysml:90f2a1bf-87a7-47cf-b7dc-49b41c6fd8e7\" xlink:type=\"simple\"><polygon fill=\"#FFFFFF\" points=\"16,6,163,6,170,28.2969,343,28.2969,343,291,16,291,16,6\" style=\"stroke: #000000; stroke-width: 1.5;\"/><line style=\"stroke: #000000; stroke-width: 1.5;\" x1=\"16\" x2=\"170\" y1=\"28.2969\" y2=\"28.2969\"/><text fill=\"#000000\" font-family=\"sans-serif\" font-size=\"14\" font-weight=\"bold\" lengthAdjust=\"spacingAndGlyphs\" textLength=\"141\" x=\"20\" y=\"20.9951\">PrivateImportTest</text></a><!--MD5=[e4f7fae6ed58524ba242bb0b0d3be6b7]\n",
       "cluster E2--><a href=\"psysml:16275eaf-61bd-4171-b64d-9c4aa1fed5b3\" target=\"_top\" title=\"psysml:16275eaf-61bd-4171-b64d-9c4aa1fed5b3\" xlink:actuate=\"onRequest\" xlink:href=\"psysml:16275eaf-61bd-4171-b64d-9c4aa1fed5b3\" xlink:show=\"new\" xlink:title=\"psysml:16275eaf-61bd-4171-b64d-9c4aa1fed5b3\" xlink:type=\"simple\"><polygon fill=\"#FFFFFF\" points=\"211,170,237,170,244,192.2969,309,192.2969,309,267,211,267,211,170\" style=\"stroke: #000000; stroke-width: 1.5;\"/><line style=\"stroke: #000000; stroke-width: 1.5;\" x1=\"211\" x2=\"244\" y1=\"192.2969\" y2=\"192.2969\"/><text fill=\"#000000\" font-family=\"sans-serif\" font-size=\"14\" font-weight=\"bold\" lengthAdjust=\"spacingAndGlyphs\" textLength=\"20\" x=\"215\" y=\"184.9951\">P1</text></a><!--MD5=[14e3b0961a2654348d326746436168a1]\n",
       "cluster E6--><a href=\"psysml:9d4f5989-8a3e-4397-a866-52670c662db3\" target=\"_top\" title=\"psysml:9d4f5989-8a3e-4397-a866-52670c662db3\" xlink:actuate=\"onRequest\" xlink:href=\"psysml:9d4f5989-8a3e-4397-a866-52670c662db3\" xlink:show=\"new\" xlink:title=\"psysml:9d4f5989-8a3e-4397-a866-52670c662db3\" xlink:type=\"simple\"><polygon fill=\"#FFFFFF\" points=\"79,170,105,170,112,192.2969,177,192.2969,177,267,79,267,79,170\" style=\"stroke: #000000; stroke-width: 1.5;\"/><line style=\"stroke: #000000; stroke-width: 1.5;\" x1=\"79\" x2=\"112\" y1=\"192.2969\" y2=\"192.2969\"/><text fill=\"#000000\" font-family=\"sans-serif\" font-size=\"14\" font-weight=\"bold\" lengthAdjust=\"spacingAndGlyphs\" textLength=\"20\" x=\"83\" y=\"184.9951\">P3</text></a><!--MD5=[7f149f147074ac12df2cb0a7728a5fb0]\n",
       "cluster E9--><a href=\"psysml:5979dd71-75f1-4b72-84ed-7ab4ecfce4b9\" target=\"_top\" title=\"psysml:5979dd71-75f1-4b72-84ed-7ab4ecfce4b9\" xlink:actuate=\"onRequest\" xlink:href=\"psysml:5979dd71-75f1-4b72-84ed-7ab4ecfce4b9\" xlink:show=\"new\" xlink:title=\"psysml:5979dd71-75f1-4b72-84ed-7ab4ecfce4b9\" xlink:type=\"simple\"><polygon fill=\"#FFFFFF\" points=\"245,49,271,49,278,71.2969,319,71.2969,319,146,245,146,245,49\" style=\"stroke: #000000; stroke-width: 1.5;\"/><line style=\"stroke: #000000; stroke-width: 1.5;\" x1=\"245\" x2=\"278\" y1=\"71.2969\" y2=\"71.2969\"/><text fill=\"#000000\" font-family=\"sans-serif\" font-size=\"14\" font-weight=\"bold\" lengthAdjust=\"spacingAndGlyphs\" textLength=\"20\" x=\"249\" y=\"63.9951\">P4</text></a><!--MD5=[270fce915f116d4de14055a7c1d9a0f3]\n",
       "class E5--><a href=\"psysml:0c75b404-ec52-4836-8cbb-5da98c4a5930\" target=\"_top\" title=\"psysml:0c75b404-ec52-4836-8cbb-5da98c4a5930\" xlink:actuate=\"onRequest\" xlink:href=\"psysml:0c75b404-ec52-4836-8cbb-5da98c4a5930\" xlink:show=\"new\" xlink:title=\"psysml:0c75b404-ec52-4836-8cbb-5da98c4a5930\" xlink:type=\"simple\"><rect fill=\"#FFFFFF\" height=\"45.9375\" id=\"E5\" rx=\"10\" ry=\"10\" style=\"stroke: #383838; stroke-width: 1.5;\" width=\"42\" x=\"184\" y=\"84\"/><text fill=\"#000000\" font-family=\"sans-serif\" font-size=\"12\" font-style=\"italic\" lengthAdjust=\"spacingAndGlyphs\" textLength=\"40\" x=\"185\" y=\"100.1387\">«part»</text><text fill=\"#000000\" font-family=\"sans-serif\" font-size=\"12\" lengthAdjust=\"spacingAndGlyphs\" textLength=\"22\" x=\"194\" y=\"114.1074\">x: A</text><line style=\"stroke: #383838; stroke-width: 1.5;\" x1=\"185\" x2=\"225\" y1=\"121.9375\" y2=\"121.9375\"/></a><!--MD5=[b9389687b975829384b498ac4b7476b2]\n",
       "class E8--><a href=\"psysml:f43ee61a-1d92-4bcd-a6ef-463238303c09\" target=\"_top\" title=\"psysml:f43ee61a-1d92-4bcd-a6ef-463238303c09\" xlink:actuate=\"onRequest\" xlink:href=\"psysml:f43ee61a-1d92-4bcd-a6ef-463238303c09\" xlink:show=\"new\" xlink:title=\"psysml:f43ee61a-1d92-4bcd-a6ef-463238303c09\" xlink:type=\"simple\"><rect fill=\"#FFFFFF\" height=\"45.9375\" id=\"E8\" rx=\"10\" ry=\"10\" style=\"stroke: #383838; stroke-width: 1.5;\" width=\"42\" x=\"107\" y=\"84\"/><text fill=\"#000000\" font-family=\"sans-serif\" font-size=\"12\" font-style=\"italic\" lengthAdjust=\"spacingAndGlyphs\" textLength=\"40\" x=\"108\" y=\"100.1387\">«part»</text><text fill=\"#000000\" font-family=\"sans-serif\" font-size=\"12\" lengthAdjust=\"spacingAndGlyphs\" textLength=\"21\" x=\"117.5\" y=\"114.1074\">z: B</text><line style=\"stroke: #383838; stroke-width: 1.5;\" x1=\"108\" x2=\"148\" y1=\"121.9375\" y2=\"121.9375\"/></a><!--MD5=[09b614a08d8cba4a07c9adeb5e0fee81]\n",
       "class E3--><a href=\"psysml:c33e3566-7ac4-4487-b3df-3cd0148aac2a\" target=\"_top\" title=\"psysml:c33e3566-7ac4-4487-b3df-3cd0148aac2a\" xlink:actuate=\"onRequest\" xlink:href=\"psysml:c33e3566-7ac4-4487-b3df-3cd0148aac2a\" xlink:show=\"new\" xlink:title=\"psysml:c33e3566-7ac4-4487-b3df-3cd0148aac2a\" xlink:type=\"simple\"><rect fill=\"#FFFFFF\" height=\"45.9375\" id=\"E3\" style=\"stroke: #383838; stroke-width: 1.5;\" width=\"66\" x=\"227\" y=\"205\"/><text fill=\"#000000\" font-family=\"sans-serif\" font-size=\"12\" font-style=\"italic\" lengthAdjust=\"spacingAndGlyphs\" textLength=\"64\" x=\"228\" y=\"221.1387\">«part def»</text><text fill=\"#000000\" font-family=\"sans-serif\" font-size=\"12\" lengthAdjust=\"spacingAndGlyphs\" textLength=\"8\" x=\"256\" y=\"235.1074\">A</text><line style=\"stroke: #383838; stroke-width: 1.5;\" x1=\"228\" x2=\"292\" y1=\"242.9375\" y2=\"242.9375\"/></a><a href=\"psysml:b9d82d12-80d8-4b65-b32b-0d4caf256cd7\" target=\"_top\" title=\"psysml:b9d82d12-80d8-4b65-b32b-0d4caf256cd7\" xlink:actuate=\"onRequest\" xlink:href=\"psysml:b9d82d12-80d8-4b65-b32b-0d4caf256cd7\" xlink:show=\"new\" xlink:title=\"psysml:b9d82d12-80d8-4b65-b32b-0d4caf256cd7\" xlink:type=\"simple\"><polygon fill=\"#FFFFFF\" points=\"32,80.5,58,80.5,65,102.7969,72,102.7969,72,133.0938,32,133.0938,32,80.5\" style=\"stroke: #000000; stroke-width: 1.5;\"/><line style=\"stroke: #000000; stroke-width: 1.5;\" x1=\"32\" x2=\"65\" y1=\"102.7969\" y2=\"102.7969\"/><text fill=\"#000000\" font-family=\"sans-serif\" font-size=\"14\" font-weight=\"bold\" lengthAdjust=\"spacingAndGlyphs\" textLength=\"20\" x=\"36\" y=\"95.4951\">P2</text></a><!--MD5=[2156ba9850f5573cc1fc38a6a4b2f02b]\n",
       "class E7--><a href=\"psysml:70818b0d-1657-43d7-b586-0302676d35dd\" target=\"_top\" title=\"psysml:70818b0d-1657-43d7-b586-0302676d35dd\" xlink:actuate=\"onRequest\" xlink:href=\"psysml:70818b0d-1657-43d7-b586-0302676d35dd\" xlink:show=\"new\" xlink:title=\"psysml:70818b0d-1657-43d7-b586-0302676d35dd\" xlink:type=\"simple\"><rect fill=\"#FFFFFF\" height=\"45.9375\" id=\"E7\" style=\"stroke: #383838; stroke-width: 1.5;\" width=\"66\" x=\"95\" y=\"205\"/><text fill=\"#000000\" font-family=\"sans-serif\" font-size=\"12\" font-style=\"italic\" lengthAdjust=\"spacingAndGlyphs\" textLength=\"64\" x=\"96\" y=\"221.1387\">«part def»</text><text fill=\"#000000\" font-family=\"sans-serif\" font-size=\"12\" lengthAdjust=\"spacingAndGlyphs\" textLength=\"8\" x=\"124\" y=\"235.1074\">B</text><line style=\"stroke: #383838; stroke-width: 1.5;\" x1=\"96\" x2=\"160\" y1=\"242.9375\" y2=\"242.9375\"/></a><!--MD5=[96f4274e9e20536e775497830990834d]\n",
       "class E10--><a href=\"psysml:e183bef4-e50f-4a79-aea2-e72f91ae33b1\" target=\"_top\" title=\"psysml:e183bef4-e50f-4a79-aea2-e72f91ae33b1\" xlink:actuate=\"onRequest\" xlink:href=\"psysml:e183bef4-e50f-4a79-aea2-e72f91ae33b1\" xlink:show=\"new\" xlink:title=\"psysml:e183bef4-e50f-4a79-aea2-e72f91ae33b1\" xlink:type=\"simple\"><rect fill=\"#FFFFFF\" height=\"45.9375\" id=\"E10\" rx=\"10\" ry=\"10\" style=\"stroke: #383838; stroke-width: 1.5;\" width=\"42\" x=\"261\" y=\"84\"/><text fill=\"#000000\" font-family=\"sans-serif\" font-size=\"12\" font-style=\"italic\" lengthAdjust=\"spacingAndGlyphs\" textLength=\"40\" x=\"262\" y=\"100.1387\">«part»</text><text fill=\"#000000\" font-family=\"sans-serif\" font-size=\"12\" lengthAdjust=\"spacingAndGlyphs\" textLength=\"29\" x=\"267.5\" y=\"114.1074\">z1: A</text><line style=\"stroke: #383838; stroke-width: 1.5;\" x1=\"262\" x2=\"302\" y1=\"121.9375\" y2=\"121.9375\"/></a><!--MD5=[e9be52314489bd878ff4c7144b63c9e1]\n",
       "link E5 to E3--><a href=\"psysml:f8be15bd-6ead-4f94-a81d-297834d3bff2\" target=\"_top\" title=\"psysml:f8be15bd-6ead-4f94-a81d-297834d3bff2\" xlink:actuate=\"onRequest\" xlink:href=\"psysml:f8be15bd-6ead-4f94-a81d-297834d3bff2\" xlink:show=\"new\" xlink:title=\"psysml:f8be15bd-6ead-4f94-a81d-297834d3bff2\" xlink:type=\"simple\"><path d=\"M215.22,130.1 C222.5,145.87 232.51,167.52 241.22,186.36 \" fill=\"none\" id=\"E5-&gt;E3\" style=\"stroke: #383838; stroke-width: 1.0;\"/><polygon fill=\"#FFFFFF\" points=\"249.65,204.61,235.3286,190.2958,248.0386,184.4258,249.65,204.61\" style=\"stroke: #383838; stroke-width: 1.0;\"/><ellipse cx=\"234.7544\" cy=\"184.2824\" fill=\"#383838\" rx=\"2\" ry=\"2\" style=\"stroke: #383838; stroke-width: 1.0;\"/><ellipse cx=\"243.8329\" cy=\"180.0896\" fill=\"#383838\" rx=\"2\" ry=\"2\" style=\"stroke: #383838; stroke-width: 1.0;\"/></a><!--MD5=[bfa3c8b0d15052fdf50ae9310b491027]\n",
       "link E8 to E7--><a href=\"psysml:2890fdf6-d136-470e-95db-a042243a6f10\" target=\"_top\" title=\"psysml:2890fdf6-d136-470e-95db-a042243a6f10\" xlink:actuate=\"onRequest\" xlink:href=\"psysml:2890fdf6-d136-470e-95db-a042243a6f10\" xlink:show=\"new\" xlink:title=\"psysml:2890fdf6-d136-470e-95db-a042243a6f10\" xlink:type=\"simple\"><path d=\"M128,130.1 C128,145.37 128,166.16 128,184.57 \" fill=\"none\" id=\"E8-&gt;E7\" style=\"stroke: #383838; stroke-width: 1.0;\"/><polygon fill=\"#FFFFFF\" points=\"128,204.61,121,185.61,135,185.61,128,204.61\" style=\"stroke: #383838; stroke-width: 1.0;\"/><ellipse cx=\"123\" cy=\"179.91\" fill=\"#383838\" rx=\"2\" ry=\"2\" style=\"stroke: #383838; stroke-width: 1.0;\"/><ellipse cx=\"133\" cy=\"179.91\" fill=\"#383838\" rx=\"2\" ry=\"2\" style=\"stroke: #383838; stroke-width: 1.0;\"/></a><!--MD5=[feeac5eb423634930294aa81f2d25a4c]\n",
       "link E10 to E3--><a href=\"psysml:25a6672d-e3f3-453e-a929-7fba59fa68e7\" target=\"_top\" title=\"psysml:25a6672d-e3f3-453e-a929-7fba59fa68e7\" xlink:actuate=\"onRequest\" xlink:href=\"psysml:25a6672d-e3f3-453e-a929-7fba59fa68e7\" xlink:show=\"new\" xlink:title=\"psysml:25a6672d-e3f3-453e-a929-7fba59fa68e7\" xlink:type=\"simple\"><path d=\"M277.91,130.1 C275.08,145.45 271.21,166.39 267.79,184.87 \" fill=\"none\" id=\"E10-&gt;E3\" style=\"stroke: #383838; stroke-width: 1.0;\"/><polygon fill=\"#FFFFFF\" points=\"264.14,204.61,260.7167,184.653,274.4827,187.2023,264.14,204.61\" style=\"stroke: #383838; stroke-width: 1.0;\"/><ellipse cx=\"263.7212\" cy=\"179.4125\" fill=\"#383838\" rx=\"2\" ry=\"2\" style=\"stroke: #383838; stroke-width: 1.0;\"/><ellipse cx=\"273.554\" cy=\"181.2334\" fill=\"#383838\" rx=\"2\" ry=\"2\" style=\"stroke: #383838; stroke-width: 1.0;\"/></a><!--MD5=[b996abe7c14b66cae28ca7d16113078f]\n",
       "@startuml\r\n",
       "skinparam linetype polyline\r\n",
       "skinparam monochrome true\r\n",
       "skinparam classbackgroundcolor white\r\n",
       "skinparam shadowing false\r\n",
       "skinparam wrapWidth 300\r\n",
       "hide circle\r\n",
       "\r\n",
       "package \"PrivateImportTest\" as E1  [[psysml:90f2a1bf-87a7-47cf-b7dc-49b41c6fd8e7 ]]  {\r\n",
       "package \"P1\" as E2  [[psysml:16275eaf-61bd-4171-b64d-9c4aa1fed5b3 ]]  {\r\n",
       "comp def \"A\" as E3  <<(T,blue) part def>> [[psysml:c33e3566-7ac4-4487-b3df-3cd0148aac2a ]] {\r\n",
       "}\r\n",
       "}\r\n",
       "package \"P2\" as E4  [[psysml:b9d82d12-80d8-4b65-b32b-0d4caf256cd7 ]]  {\r\n",
       "}\r\n",
       "comp usage \"x: A\" as E5  <<(T,blue) part>> [[psysml:0c75b404-ec52-4836-8cbb-5da98c4a5930 ]] {\r\n",
       "}\r\n",
       "package \"P3\" as E6  [[psysml:9d4f5989-8a3e-4397-a866-52670c662db3 ]]  {\r\n",
       "comp def \"B\" as E7  <<(T,blue) part def>> [[psysml:70818b0d-1657-43d7-b586-0302676d35dd ]] {\r\n",
       "}\r\n",
       "E5 - -:|> E3 [[psysml:f8be15bd-6ead-4f94-a81d-297834d3bff2 ]] \r\n",
       "}\r\n",
       "comp usage \"z: B\" as E8  <<(T,blue) part>> [[psysml:f43ee61a-1d92-4bcd-a6ef-463238303c09 ]] {\r\n",
       "}\r\n",
       "package \"P4\" as E9  [[psysml:5979dd71-75f1-4b72-84ed-7ab4ecfce4b9 ]]  {\r\n",
       "comp usage \"z1: A\" as E10  <<(T,blue) part>> [[psysml:e183bef4-e50f-4a79-aea2-e72f91ae33b1 ]] {\r\n",
       "}\r\n",
       "E8 - -:|> E7 [[psysml:2890fdf6-d136-470e-95db-a042243a6f10 ]] \r\n",
       "E10 - -:|> E3 [[psysml:25a6672d-e3f3-453e-a929-7fba59fa68e7 ]] \r\n",
       "}\r\n",
       "}\r\n",
       "@enduml\r\n",
       "\n",
       "PlantUML version 1.2020.13(Sat Jun 13 12:26:38 UTC 2020)\n",
       "(EPL source distribution)\n",
       "Java Runtime: OpenJDK Runtime Environment\n",
       "JVM: OpenJDK 64-Bit Server VM\n",
       "Default Encoding: UTF-8\n",
       "Language: en\n",
       "Country: null\n",
       "--></g></svg>"
      ]
     },
     "execution_count": 9,
     "metadata": {},
     "output_type": "execute_result"
    }
   ],
   "source": [
    "%viz --style=\"POLYLINE\" --view=\"Default\" \"PrivateImportTest\""
   ]
  },
  {
   "cell_type": "code",
   "execution_count": 10,
   "id": "9e3f7e03",
   "metadata": {
    "execution": {
     "iopub.execute_input": "2021-08-04T06:27:54.597906Z",
     "iopub.status.busy": "2021-08-04T06:27:54.597377Z",
     "iopub.status.idle": "2021-08-04T06:27:54.628250Z",
     "shell.execute_reply": "2021-08-04T06:27:54.626364Z"
    }
   },
   "outputs": [
    {
     "data": {
      "image/svg+xml": [
       "<?xml version=\"1.0\" encoding=\"UTF-8\" standalone=\"no\"?><svg xmlns=\"http://www.w3.org/2000/svg\" xmlns:xlink=\"http://www.w3.org/1999/xlink\" contentScriptType=\"application/ecmascript\" contentStyleType=\"text/css\" height=\"303px\" preserveAspectRatio=\"none\" style=\"width:365px;height:303px;\" version=\"1.1\" viewBox=\"0 0 365 303\" width=\"365px\" zoomAndPan=\"magnify\"><defs/><g><!--MD5=[fbc87193dbaf4d95561dea2c320d4a47]\n",
       "cluster E1--><a href=\"psysml:90f2a1bf-87a7-47cf-b7dc-49b41c6fd8e7\" target=\"_top\" title=\"psysml:90f2a1bf-87a7-47cf-b7dc-49b41c6fd8e7\" xlink:actuate=\"onRequest\" xlink:href=\"psysml:90f2a1bf-87a7-47cf-b7dc-49b41c6fd8e7\" xlink:show=\"new\" xlink:title=\"psysml:90f2a1bf-87a7-47cf-b7dc-49b41c6fd8e7\" xlink:type=\"simple\"><polygon fill=\"#FFFFFF\" points=\"16,6,163,6,170,28.2969,343,28.2969,343,291,16,291,16,6\" style=\"stroke: #000000; stroke-width: 1.5;\"/><line style=\"stroke: #000000; stroke-width: 1.5;\" x1=\"16\" x2=\"170\" y1=\"28.2969\" y2=\"28.2969\"/><text fill=\"#000000\" font-family=\"sans-serif\" font-size=\"14\" font-weight=\"bold\" lengthAdjust=\"spacingAndGlyphs\" textLength=\"141\" x=\"20\" y=\"20.9951\">PrivateImportTest</text></a><!--MD5=[e4f7fae6ed58524ba242bb0b0d3be6b7]\n",
       "cluster E2--><a href=\"psysml:16275eaf-61bd-4171-b64d-9c4aa1fed5b3\" target=\"_top\" title=\"psysml:16275eaf-61bd-4171-b64d-9c4aa1fed5b3\" xlink:actuate=\"onRequest\" xlink:href=\"psysml:16275eaf-61bd-4171-b64d-9c4aa1fed5b3\" xlink:show=\"new\" xlink:title=\"psysml:16275eaf-61bd-4171-b64d-9c4aa1fed5b3\" xlink:type=\"simple\"><polygon fill=\"#FFFFFF\" points=\"211,170,237,170,244,192.2969,309,192.2969,309,267,211,267,211,170\" style=\"stroke: #000000; stroke-width: 1.5;\"/><line style=\"stroke: #000000; stroke-width: 1.5;\" x1=\"211\" x2=\"244\" y1=\"192.2969\" y2=\"192.2969\"/><text fill=\"#000000\" font-family=\"sans-serif\" font-size=\"14\" font-weight=\"bold\" lengthAdjust=\"spacingAndGlyphs\" textLength=\"20\" x=\"215\" y=\"184.9951\">P1</text></a><!--MD5=[14e3b0961a2654348d326746436168a1]\n",
       "cluster E6--><a href=\"psysml:9d4f5989-8a3e-4397-a866-52670c662db3\" target=\"_top\" title=\"psysml:9d4f5989-8a3e-4397-a866-52670c662db3\" xlink:actuate=\"onRequest\" xlink:href=\"psysml:9d4f5989-8a3e-4397-a866-52670c662db3\" xlink:show=\"new\" xlink:title=\"psysml:9d4f5989-8a3e-4397-a866-52670c662db3\" xlink:type=\"simple\"><polygon fill=\"#FFFFFF\" points=\"79,170,105,170,112,192.2969,177,192.2969,177,267,79,267,79,170\" style=\"stroke: #000000; stroke-width: 1.5;\"/><line style=\"stroke: #000000; stroke-width: 1.5;\" x1=\"79\" x2=\"112\" y1=\"192.2969\" y2=\"192.2969\"/><text fill=\"#000000\" font-family=\"sans-serif\" font-size=\"14\" font-weight=\"bold\" lengthAdjust=\"spacingAndGlyphs\" textLength=\"20\" x=\"83\" y=\"184.9951\">P3</text></a><!--MD5=[7f149f147074ac12df2cb0a7728a5fb0]\n",
       "cluster E9--><a href=\"psysml:5979dd71-75f1-4b72-84ed-7ab4ecfce4b9\" target=\"_top\" title=\"psysml:5979dd71-75f1-4b72-84ed-7ab4ecfce4b9\" xlink:actuate=\"onRequest\" xlink:href=\"psysml:5979dd71-75f1-4b72-84ed-7ab4ecfce4b9\" xlink:show=\"new\" xlink:title=\"psysml:5979dd71-75f1-4b72-84ed-7ab4ecfce4b9\" xlink:type=\"simple\"><polygon fill=\"#FFFFFF\" points=\"245,49,271,49,278,71.2969,319,71.2969,319,146,245,146,245,49\" style=\"stroke: #000000; stroke-width: 1.5;\"/><line style=\"stroke: #000000; stroke-width: 1.5;\" x1=\"245\" x2=\"278\" y1=\"71.2969\" y2=\"71.2969\"/><text fill=\"#000000\" font-family=\"sans-serif\" font-size=\"14\" font-weight=\"bold\" lengthAdjust=\"spacingAndGlyphs\" textLength=\"20\" x=\"249\" y=\"63.9951\">P4</text></a><!--MD5=[270fce915f116d4de14055a7c1d9a0f3]\n",
       "class E5--><a href=\"psysml:0c75b404-ec52-4836-8cbb-5da98c4a5930\" target=\"_top\" title=\"psysml:0c75b404-ec52-4836-8cbb-5da98c4a5930\" xlink:actuate=\"onRequest\" xlink:href=\"psysml:0c75b404-ec52-4836-8cbb-5da98c4a5930\" xlink:show=\"new\" xlink:title=\"psysml:0c75b404-ec52-4836-8cbb-5da98c4a5930\" xlink:type=\"simple\"><rect fill=\"#FFFFFF\" height=\"45.9375\" id=\"E5\" rx=\"10\" ry=\"10\" style=\"stroke: #383838; stroke-width: 1.5;\" width=\"42\" x=\"184\" y=\"84\"/><text fill=\"#000000\" font-family=\"sans-serif\" font-size=\"12\" font-style=\"italic\" lengthAdjust=\"spacingAndGlyphs\" textLength=\"40\" x=\"185\" y=\"100.1387\">«part»</text><text fill=\"#000000\" font-family=\"sans-serif\" font-size=\"12\" lengthAdjust=\"spacingAndGlyphs\" textLength=\"22\" x=\"194\" y=\"114.1074\">x: A</text><line style=\"stroke: #383838; stroke-width: 1.5;\" x1=\"185\" x2=\"225\" y1=\"121.9375\" y2=\"121.9375\"/></a><!--MD5=[b9389687b975829384b498ac4b7476b2]\n",
       "class E8--><a href=\"psysml:f43ee61a-1d92-4bcd-a6ef-463238303c09\" target=\"_top\" title=\"psysml:f43ee61a-1d92-4bcd-a6ef-463238303c09\" xlink:actuate=\"onRequest\" xlink:href=\"psysml:f43ee61a-1d92-4bcd-a6ef-463238303c09\" xlink:show=\"new\" xlink:title=\"psysml:f43ee61a-1d92-4bcd-a6ef-463238303c09\" xlink:type=\"simple\"><rect fill=\"#FFFFFF\" height=\"45.9375\" id=\"E8\" rx=\"10\" ry=\"10\" style=\"stroke: #383838; stroke-width: 1.5;\" width=\"42\" x=\"107\" y=\"84\"/><text fill=\"#000000\" font-family=\"sans-serif\" font-size=\"12\" font-style=\"italic\" lengthAdjust=\"spacingAndGlyphs\" textLength=\"40\" x=\"108\" y=\"100.1387\">«part»</text><text fill=\"#000000\" font-family=\"sans-serif\" font-size=\"12\" lengthAdjust=\"spacingAndGlyphs\" textLength=\"21\" x=\"117.5\" y=\"114.1074\">z: B</text><line style=\"stroke: #383838; stroke-width: 1.5;\" x1=\"108\" x2=\"148\" y1=\"121.9375\" y2=\"121.9375\"/></a><!--MD5=[09b614a08d8cba4a07c9adeb5e0fee81]\n",
       "class E3--><a href=\"psysml:c33e3566-7ac4-4487-b3df-3cd0148aac2a\" target=\"_top\" title=\"psysml:c33e3566-7ac4-4487-b3df-3cd0148aac2a\" xlink:actuate=\"onRequest\" xlink:href=\"psysml:c33e3566-7ac4-4487-b3df-3cd0148aac2a\" xlink:show=\"new\" xlink:title=\"psysml:c33e3566-7ac4-4487-b3df-3cd0148aac2a\" xlink:type=\"simple\"><rect fill=\"#FFFFFF\" height=\"45.9375\" id=\"E3\" style=\"stroke: #383838; stroke-width: 1.5;\" width=\"66\" x=\"227\" y=\"205\"/><text fill=\"#000000\" font-family=\"sans-serif\" font-size=\"12\" font-style=\"italic\" lengthAdjust=\"spacingAndGlyphs\" textLength=\"64\" x=\"228\" y=\"221.1387\">«part def»</text><text fill=\"#000000\" font-family=\"sans-serif\" font-size=\"12\" lengthAdjust=\"spacingAndGlyphs\" textLength=\"8\" x=\"256\" y=\"235.1074\">A</text><line style=\"stroke: #383838; stroke-width: 1.5;\" x1=\"228\" x2=\"292\" y1=\"242.9375\" y2=\"242.9375\"/></a><a href=\"psysml:b9d82d12-80d8-4b65-b32b-0d4caf256cd7\" target=\"_top\" title=\"psysml:b9d82d12-80d8-4b65-b32b-0d4caf256cd7\" xlink:actuate=\"onRequest\" xlink:href=\"psysml:b9d82d12-80d8-4b65-b32b-0d4caf256cd7\" xlink:show=\"new\" xlink:title=\"psysml:b9d82d12-80d8-4b65-b32b-0d4caf256cd7\" xlink:type=\"simple\"><polygon fill=\"#FFFFFF\" points=\"32,80.5,58,80.5,65,102.7969,72,102.7969,72,133.0938,32,133.0938,32,80.5\" style=\"stroke: #000000; stroke-width: 1.5;\"/><line style=\"stroke: #000000; stroke-width: 1.5;\" x1=\"32\" x2=\"65\" y1=\"102.7969\" y2=\"102.7969\"/><text fill=\"#000000\" font-family=\"sans-serif\" font-size=\"14\" font-weight=\"bold\" lengthAdjust=\"spacingAndGlyphs\" textLength=\"20\" x=\"36\" y=\"95.4951\">P2</text></a><!--MD5=[2156ba9850f5573cc1fc38a6a4b2f02b]\n",
       "class E7--><a href=\"psysml:70818b0d-1657-43d7-b586-0302676d35dd\" target=\"_top\" title=\"psysml:70818b0d-1657-43d7-b586-0302676d35dd\" xlink:actuate=\"onRequest\" xlink:href=\"psysml:70818b0d-1657-43d7-b586-0302676d35dd\" xlink:show=\"new\" xlink:title=\"psysml:70818b0d-1657-43d7-b586-0302676d35dd\" xlink:type=\"simple\"><rect fill=\"#FFFFFF\" height=\"45.9375\" id=\"E7\" style=\"stroke: #383838; stroke-width: 1.5;\" width=\"66\" x=\"95\" y=\"205\"/><text fill=\"#000000\" font-family=\"sans-serif\" font-size=\"12\" font-style=\"italic\" lengthAdjust=\"spacingAndGlyphs\" textLength=\"64\" x=\"96\" y=\"221.1387\">«part def»</text><text fill=\"#000000\" font-family=\"sans-serif\" font-size=\"12\" lengthAdjust=\"spacingAndGlyphs\" textLength=\"8\" x=\"124\" y=\"235.1074\">B</text><line style=\"stroke: #383838; stroke-width: 1.5;\" x1=\"96\" x2=\"160\" y1=\"242.9375\" y2=\"242.9375\"/></a><!--MD5=[96f4274e9e20536e775497830990834d]\n",
       "class E10--><a href=\"psysml:e183bef4-e50f-4a79-aea2-e72f91ae33b1\" target=\"_top\" title=\"psysml:e183bef4-e50f-4a79-aea2-e72f91ae33b1\" xlink:actuate=\"onRequest\" xlink:href=\"psysml:e183bef4-e50f-4a79-aea2-e72f91ae33b1\" xlink:show=\"new\" xlink:title=\"psysml:e183bef4-e50f-4a79-aea2-e72f91ae33b1\" xlink:type=\"simple\"><rect fill=\"#FFFFFF\" height=\"45.9375\" id=\"E10\" rx=\"10\" ry=\"10\" style=\"stroke: #383838; stroke-width: 1.5;\" width=\"42\" x=\"261\" y=\"84\"/><text fill=\"#000000\" font-family=\"sans-serif\" font-size=\"12\" font-style=\"italic\" lengthAdjust=\"spacingAndGlyphs\" textLength=\"40\" x=\"262\" y=\"100.1387\">«part»</text><text fill=\"#000000\" font-family=\"sans-serif\" font-size=\"12\" lengthAdjust=\"spacingAndGlyphs\" textLength=\"29\" x=\"267.5\" y=\"114.1074\">z1: A</text><line style=\"stroke: #383838; stroke-width: 1.5;\" x1=\"262\" x2=\"302\" y1=\"121.9375\" y2=\"121.9375\"/></a><!--MD5=[e9be52314489bd878ff4c7144b63c9e1]\n",
       "link E5 to E3--><a href=\"psysml:f8be15bd-6ead-4f94-a81d-297834d3bff2\" target=\"_top\" title=\"psysml:f8be15bd-6ead-4f94-a81d-297834d3bff2\" xlink:actuate=\"onRequest\" xlink:href=\"psysml:f8be15bd-6ead-4f94-a81d-297834d3bff2\" xlink:show=\"new\" xlink:title=\"psysml:f8be15bd-6ead-4f94-a81d-297834d3bff2\" xlink:type=\"simple\"><path d=\"M215.22,130.1 C222.5,145.87 232.51,167.52 241.22,186.36 \" fill=\"none\" id=\"E5-&gt;E3\" style=\"stroke: #383838; stroke-width: 1.0;\"/><polygon fill=\"#FFFFFF\" points=\"249.65,204.61,235.3286,190.2958,248.0386,184.4258,249.65,204.61\" style=\"stroke: #383838; stroke-width: 1.0;\"/><ellipse cx=\"234.7544\" cy=\"184.2824\" fill=\"#383838\" rx=\"2\" ry=\"2\" style=\"stroke: #383838; stroke-width: 1.0;\"/><ellipse cx=\"243.8329\" cy=\"180.0896\" fill=\"#383838\" rx=\"2\" ry=\"2\" style=\"stroke: #383838; stroke-width: 1.0;\"/></a><!--MD5=[bfa3c8b0d15052fdf50ae9310b491027]\n",
       "link E8 to E7--><a href=\"psysml:2890fdf6-d136-470e-95db-a042243a6f10\" target=\"_top\" title=\"psysml:2890fdf6-d136-470e-95db-a042243a6f10\" xlink:actuate=\"onRequest\" xlink:href=\"psysml:2890fdf6-d136-470e-95db-a042243a6f10\" xlink:show=\"new\" xlink:title=\"psysml:2890fdf6-d136-470e-95db-a042243a6f10\" xlink:type=\"simple\"><path d=\"M128,130.1 C128,145.37 128,166.16 128,184.57 \" fill=\"none\" id=\"E8-&gt;E7\" style=\"stroke: #383838; stroke-width: 1.0;\"/><polygon fill=\"#FFFFFF\" points=\"128,204.61,121,185.61,135,185.61,128,204.61\" style=\"stroke: #383838; stroke-width: 1.0;\"/><ellipse cx=\"123\" cy=\"179.91\" fill=\"#383838\" rx=\"2\" ry=\"2\" style=\"stroke: #383838; stroke-width: 1.0;\"/><ellipse cx=\"133\" cy=\"179.91\" fill=\"#383838\" rx=\"2\" ry=\"2\" style=\"stroke: #383838; stroke-width: 1.0;\"/></a><!--MD5=[feeac5eb423634930294aa81f2d25a4c]\n",
       "link E10 to E3--><a href=\"psysml:25a6672d-e3f3-453e-a929-7fba59fa68e7\" target=\"_top\" title=\"psysml:25a6672d-e3f3-453e-a929-7fba59fa68e7\" xlink:actuate=\"onRequest\" xlink:href=\"psysml:25a6672d-e3f3-453e-a929-7fba59fa68e7\" xlink:show=\"new\" xlink:title=\"psysml:25a6672d-e3f3-453e-a929-7fba59fa68e7\" xlink:type=\"simple\"><path d=\"M277.91,130.1 C275.08,145.45 271.21,166.39 267.79,184.87 \" fill=\"none\" id=\"E10-&gt;E3\" style=\"stroke: #383838; stroke-width: 1.0;\"/><polygon fill=\"#FFFFFF\" points=\"264.14,204.61,260.7167,184.653,274.4827,187.2023,264.14,204.61\" style=\"stroke: #383838; stroke-width: 1.0;\"/><ellipse cx=\"263.7212\" cy=\"179.4125\" fill=\"#383838\" rx=\"2\" ry=\"2\" style=\"stroke: #383838; stroke-width: 1.0;\"/><ellipse cx=\"273.554\" cy=\"181.2334\" fill=\"#383838\" rx=\"2\" ry=\"2\" style=\"stroke: #383838; stroke-width: 1.0;\"/></a><!--MD5=[b996abe7c14b66cae28ca7d16113078f]\n",
       "@startuml\r\n",
       "skinparam linetype polyline\r\n",
       "skinparam monochrome true\r\n",
       "skinparam classbackgroundcolor white\r\n",
       "skinparam shadowing false\r\n",
       "skinparam wrapWidth 300\r\n",
       "hide circle\r\n",
       "\r\n",
       "package \"PrivateImportTest\" as E1  [[psysml:90f2a1bf-87a7-47cf-b7dc-49b41c6fd8e7 ]]  {\r\n",
       "package \"P1\" as E2  [[psysml:16275eaf-61bd-4171-b64d-9c4aa1fed5b3 ]]  {\r\n",
       "comp def \"A\" as E3  <<(T,blue) part def>> [[psysml:c33e3566-7ac4-4487-b3df-3cd0148aac2a ]] {\r\n",
       "}\r\n",
       "}\r\n",
       "package \"P2\" as E4  [[psysml:b9d82d12-80d8-4b65-b32b-0d4caf256cd7 ]]  {\r\n",
       "}\r\n",
       "comp usage \"x: A\" as E5  <<(T,blue) part>> [[psysml:0c75b404-ec52-4836-8cbb-5da98c4a5930 ]] {\r\n",
       "}\r\n",
       "package \"P3\" as E6  [[psysml:9d4f5989-8a3e-4397-a866-52670c662db3 ]]  {\r\n",
       "comp def \"B\" as E7  <<(T,blue) part def>> [[psysml:70818b0d-1657-43d7-b586-0302676d35dd ]] {\r\n",
       "}\r\n",
       "E5 - -:|> E3 [[psysml:f8be15bd-6ead-4f94-a81d-297834d3bff2 ]] \r\n",
       "}\r\n",
       "comp usage \"z: B\" as E8  <<(T,blue) part>> [[psysml:f43ee61a-1d92-4bcd-a6ef-463238303c09 ]] {\r\n",
       "}\r\n",
       "package \"P4\" as E9  [[psysml:5979dd71-75f1-4b72-84ed-7ab4ecfce4b9 ]]  {\r\n",
       "comp usage \"z1: A\" as E10  <<(T,blue) part>> [[psysml:e183bef4-e50f-4a79-aea2-e72f91ae33b1 ]] {\r\n",
       "}\r\n",
       "E8 - -:|> E7 [[psysml:2890fdf6-d136-470e-95db-a042243a6f10 ]] \r\n",
       "E10 - -:|> E3 [[psysml:25a6672d-e3f3-453e-a929-7fba59fa68e7 ]] \r\n",
       "}\r\n",
       "}\r\n",
       "@enduml\r\n",
       "\n",
       "PlantUML version 1.2020.13(Sat Jun 13 12:26:38 UTC 2020)\n",
       "(EPL source distribution)\n",
       "Java Runtime: OpenJDK Runtime Environment\n",
       "JVM: OpenJDK 64-Bit Server VM\n",
       "Default Encoding: UTF-8\n",
       "Language: en\n",
       "Country: null\n",
       "--></g></svg>"
      ]
     },
     "execution_count": 10,
     "metadata": {},
     "output_type": "execute_result"
    }
   ],
   "source": [
    "%viz --style=\"POLYLINE\" --view=\"Tree\" \"PrivateImportTest\""
   ]
  },
  {
   "cell_type": "code",
   "execution_count": 11,
   "id": "e0b8f343",
   "metadata": {
    "execution": {
     "iopub.execute_input": "2021-08-04T06:27:54.676900Z",
     "iopub.status.busy": "2021-08-04T06:27:54.676444Z",
     "iopub.status.idle": "2021-08-04T06:27:54.683253Z",
     "shell.execute_reply": "2021-08-04T06:27:54.683731Z"
    }
   },
   "outputs": [
    {
     "data": {
      "image/svg+xml": [
       "<?xml version=\"1.0\" encoding=\"UTF-8\" standalone=\"no\"?><svg xmlns=\"http://www.w3.org/2000/svg\" xmlns:xlink=\"http://www.w3.org/1999/xlink\" contentScriptType=\"application/ecmascript\" contentStyleType=\"text/css\" height=\"12px\" preserveAspectRatio=\"none\" style=\"width:12px;height:12px;\" version=\"1.1\" viewBox=\"0 0 12 12\" width=\"12px\" zoomAndPan=\"magnify\"><defs/><g><!--MD5=[896ac0e7a515d8dd7765a661cb4ee08b]\n",
       "@startuml\r\n",
       "skinparam linetype polyline\r\n",
       "skinparam monochrome true\r\n",
       "skinparam classbackgroundcolor white\r\n",
       "skinparam shadowing false\r\n",
       "skinparam wrapWidth 300\r\n",
       "hide circle\r\n",
       "\r\n",
       "@enduml\r\n",
       "\n",
       "PlantUML version 1.2020.13(Sat Jun 13 12:26:38 UTC 2020)\n",
       "(EPL source distribution)\n",
       "Java Runtime: OpenJDK Runtime Environment\n",
       "JVM: OpenJDK 64-Bit Server VM\n",
       "Default Encoding: UTF-8\n",
       "Language: en\n",
       "Country: null\n",
       "--></g></svg>"
      ]
     },
     "execution_count": 11,
     "metadata": {},
     "output_type": "execute_result"
    }
   ],
   "source": [
    "%viz --style=\"POLYLINE\" --view=\"State\" \"PrivateImportTest\""
   ]
  },
  {
   "cell_type": "code",
   "execution_count": 12,
   "id": "5ba746f4",
   "metadata": {
    "execution": {
     "iopub.execute_input": "2021-08-04T06:27:54.733939Z",
     "iopub.status.busy": "2021-08-04T06:27:54.733382Z",
     "iopub.status.idle": "2021-08-04T06:27:54.768144Z",
     "shell.execute_reply": "2021-08-04T06:27:54.767396Z"
    }
   },
   "outputs": [
    {
     "data": {
      "image/svg+xml": [
       "<?xml version=\"1.0\" encoding=\"UTF-8\" standalone=\"no\"?><svg xmlns=\"http://www.w3.org/2000/svg\" xmlns:xlink=\"http://www.w3.org/1999/xlink\" contentScriptType=\"application/ecmascript\" contentStyleType=\"text/css\" height=\"179px\" preserveAspectRatio=\"none\" style=\"width:645px;height:179px;\" version=\"1.1\" viewBox=\"0 0 645 179\" width=\"645px\" zoomAndPan=\"magnify\"><defs/><g><!--MD5=[fbc87193dbaf4d95561dea2c320d4a47]\n",
       "cluster E1--><a href=\"psysml:90f2a1bf-87a7-47cf-b7dc-49b41c6fd8e7\" target=\"_top\" title=\"psysml:90f2a1bf-87a7-47cf-b7dc-49b41c6fd8e7\" xlink:actuate=\"onRequest\" xlink:href=\"psysml:90f2a1bf-87a7-47cf-b7dc-49b41c6fd8e7\" xlink:show=\"new\" xlink:title=\"psysml:90f2a1bf-87a7-47cf-b7dc-49b41c6fd8e7\" xlink:type=\"simple\"><polygon fill=\"#FFFFFF\" points=\"16,6,163,6,170,28.2969,623,28.2969,623,167,16,167,16,6\" style=\"stroke: #000000; stroke-width: 1.5;\"/><line style=\"stroke: #000000; stroke-width: 1.5;\" x1=\"16\" x2=\"170\" y1=\"28.2969\" y2=\"28.2969\"/><text fill=\"#000000\" font-family=\"sans-serif\" font-size=\"14\" font-weight=\"bold\" lengthAdjust=\"spacingAndGlyphs\" textLength=\"141\" x=\"20\" y=\"20.9951\">PrivateImportTest</text></a><!--MD5=[e4f7fae6ed58524ba242bb0b0d3be6b7]\n",
       "cluster E2--><a href=\"psysml:16275eaf-61bd-4171-b64d-9c4aa1fed5b3\" target=\"_top\" title=\"psysml:16275eaf-61bd-4171-b64d-9c4aa1fed5b3\" xlink:actuate=\"onRequest\" xlink:href=\"psysml:16275eaf-61bd-4171-b64d-9c4aa1fed5b3\" xlink:show=\"new\" xlink:title=\"psysml:16275eaf-61bd-4171-b64d-9c4aa1fed5b3\" xlink:type=\"simple\"><polygon fill=\"#FFFFFF\" points=\"495,49,521,49,528,71.2969,599,71.2969,599,143,495,143,495,49\" style=\"stroke: #000000; stroke-width: 1.5;\"/><line style=\"stroke: #000000; stroke-width: 1.5;\" x1=\"495\" x2=\"528\" y1=\"71.2969\" y2=\"71.2969\"/><text fill=\"#000000\" font-family=\"sans-serif\" font-size=\"14\" font-weight=\"bold\" lengthAdjust=\"spacingAndGlyphs\" textLength=\"20\" x=\"499\" y=\"63.9951\">P1</text></a><!--MD5=[14e3b0961a2654348d326746436168a1]\n",
       "cluster E6--><a href=\"psysml:9d4f5989-8a3e-4397-a866-52670c662db3\" target=\"_top\" title=\"psysml:9d4f5989-8a3e-4397-a866-52670c662db3\" xlink:actuate=\"onRequest\" xlink:href=\"psysml:9d4f5989-8a3e-4397-a866-52670c662db3\" xlink:show=\"new\" xlink:title=\"psysml:9d4f5989-8a3e-4397-a866-52670c662db3\" xlink:type=\"simple\"><polygon fill=\"#FFFFFF\" points=\"367,49,393,49,400,71.2969,471,71.2969,471,143,367,143,367,49\" style=\"stroke: #000000; stroke-width: 1.5;\"/><line style=\"stroke: #000000; stroke-width: 1.5;\" x1=\"367\" x2=\"400\" y1=\"71.2969\" y2=\"71.2969\"/><text fill=\"#000000\" font-family=\"sans-serif\" font-size=\"14\" font-weight=\"bold\" lengthAdjust=\"spacingAndGlyphs\" textLength=\"20\" x=\"371\" y=\"63.9951\">P3</text></a><!--MD5=[7f149f147074ac12df2cb0a7728a5fb0]\n",
       "cluster E9--><a href=\"psysml:5979dd71-75f1-4b72-84ed-7ab4ecfce4b9\" target=\"_top\" title=\"psysml:5979dd71-75f1-4b72-84ed-7ab4ecfce4b9\" xlink:actuate=\"onRequest\" xlink:href=\"psysml:5979dd71-75f1-4b72-84ed-7ab4ecfce4b9\" xlink:show=\"new\" xlink:title=\"psysml:5979dd71-75f1-4b72-84ed-7ab4ecfce4b9\" xlink:type=\"simple\"><polygon fill=\"#FFFFFF\" points=\"261,50.5,287,50.5,294,72.7969,343,72.7969,343,141.5,261,141.5,261,50.5\" style=\"stroke: #000000; stroke-width: 1.5;\"/><line style=\"stroke: #000000; stroke-width: 1.5;\" x1=\"261\" x2=\"294\" y1=\"72.7969\" y2=\"72.7969\"/><text fill=\"#000000\" font-family=\"sans-serif\" font-size=\"14\" font-weight=\"bold\" lengthAdjust=\"spacingAndGlyphs\" textLength=\"20\" x=\"265\" y=\"65.4951\">P4</text></a><g id=\"E1.E2.E3\"><a href=\"psysml:c33e3566-7ac4-4487-b3df-3cd0148aac2a\" target=\"_top\" title=\"psysml:c33e3566-7ac4-4487-b3df-3cd0148aac2a\" xlink:actuate=\"onRequest\" xlink:href=\"psysml:c33e3566-7ac4-4487-b3df-3cd0148aac2a\" xlink:show=\"new\" xlink:title=\"psysml:c33e3566-7ac4-4487-b3df-3cd0148aac2a\" xlink:type=\"simple\"><rect fill=\"#FFFFFF\" height=\"42.9375\" id=\"E3\" style=\"stroke: #383838; stroke-width: 1.5;\" width=\"71\" x=\"511.5\" y=\"84\"/><rect fill=\"#F8F8F8\" height=\"37.9375\" style=\"stroke: #383838; stroke-width: 1.5;\" width=\"71\" x=\"511.5\" y=\"84\"/><text fill=\"#000000\" font-family=\"sans-serif\" font-size=\"12\" font-style=\"italic\" lengthAdjust=\"spacingAndGlyphs\" textLength=\"64\" x=\"515\" y=\"100.1387\">«part def»</text><text fill=\"#000000\" font-family=\"sans-serif\" font-size=\"12\" lengthAdjust=\"spacingAndGlyphs\" textLength=\"8\" x=\"543\" y=\"114.1074\">A</text></a></g><a href=\"psysml:b9d82d12-80d8-4b65-b32b-0d4caf256cd7\" target=\"_top\" title=\"psysml:b9d82d12-80d8-4b65-b32b-0d4caf256cd7\" xlink:actuate=\"onRequest\" xlink:href=\"psysml:b9d82d12-80d8-4b65-b32b-0d4caf256cd7\" xlink:show=\"new\" xlink:title=\"psysml:b9d82d12-80d8-4b65-b32b-0d4caf256cd7\" xlink:type=\"simple\"><polygon fill=\"#FFFFFF\" points=\"202,79,228,79,235,101.2969,242,101.2969,242,131.5938,202,131.5938,202,79\" style=\"stroke: #000000; stroke-width: 1.5;\"/><line style=\"stroke: #000000; stroke-width: 1.5;\" x1=\"202\" x2=\"235\" y1=\"101.2969\" y2=\"101.2969\"/><text fill=\"#000000\" font-family=\"sans-serif\" font-size=\"14\" font-weight=\"bold\" lengthAdjust=\"spacingAndGlyphs\" textLength=\"20\" x=\"206\" y=\"93.9951\">P2</text></a><g id=\"E1.E5\"><a href=\"psysml:0c75b404-ec52-4836-8cbb-5da98c4a5930\" target=\"_top\" title=\"psysml:0c75b404-ec52-4836-8cbb-5da98c4a5930\" xlink:actuate=\"onRequest\" xlink:href=\"psysml:0c75b404-ec52-4836-8cbb-5da98c4a5930\" xlink:show=\"new\" xlink:title=\"psysml:0c75b404-ec52-4836-8cbb-5da98c4a5930\" xlink:type=\"simple\"><rect fill=\"#FFFFFF\" height=\"40\" id=\"E5\" rx=\"10\" ry=\"10\" style=\"stroke: #383838; stroke-width: 1.5;\" width=\"50\" x=\"117\" y=\"85.5\"/><rect fill=\"#F8F8F8\" height=\"23.9688\" rx=\"10\" ry=\"10\" style=\"stroke: #F8F8F8; stroke-width: 1.5;\" width=\"50\" x=\"117\" y=\"85.5\"/><rect fill=\"#F8F8F8\" height=\"10\" style=\"stroke: #F8F8F8; stroke-width: 1.5;\" width=\"50\" x=\"117\" y=\"99.4688\"/><rect fill=\"none\" height=\"40\" id=\"E5\" rx=\"10\" ry=\"10\" style=\"stroke: #383838; stroke-width: 1.5;\" width=\"50\" x=\"117\" y=\"85.5\"/><text fill=\"#000000\" font-family=\"sans-serif\" font-size=\"12\" lengthAdjust=\"spacingAndGlyphs\" textLength=\"22\" x=\"131\" y=\"101.6387\">x: A</text></a></g><g id=\"E1.E6.E7\"><a href=\"psysml:70818b0d-1657-43d7-b586-0302676d35dd\" target=\"_top\" title=\"psysml:70818b0d-1657-43d7-b586-0302676d35dd\" xlink:actuate=\"onRequest\" xlink:href=\"psysml:70818b0d-1657-43d7-b586-0302676d35dd\" xlink:show=\"new\" xlink:title=\"psysml:70818b0d-1657-43d7-b586-0302676d35dd\" xlink:type=\"simple\"><rect fill=\"#FFFFFF\" height=\"42.9375\" id=\"E7\" style=\"stroke: #383838; stroke-width: 1.5;\" width=\"71\" x=\"383.5\" y=\"84\"/><rect fill=\"#F8F8F8\" height=\"37.9375\" style=\"stroke: #383838; stroke-width: 1.5;\" width=\"71\" x=\"383.5\" y=\"84\"/><text fill=\"#000000\" font-family=\"sans-serif\" font-size=\"12\" font-style=\"italic\" lengthAdjust=\"spacingAndGlyphs\" textLength=\"64\" x=\"387\" y=\"100.1387\">«part def»</text><text fill=\"#000000\" font-family=\"sans-serif\" font-size=\"12\" lengthAdjust=\"spacingAndGlyphs\" textLength=\"8\" x=\"415\" y=\"114.1074\">B</text></a></g><g id=\"E1.E8\"><a href=\"psysml:f43ee61a-1d92-4bcd-a6ef-463238303c09\" target=\"_top\" title=\"psysml:f43ee61a-1d92-4bcd-a6ef-463238303c09\" xlink:actuate=\"onRequest\" xlink:href=\"psysml:f43ee61a-1d92-4bcd-a6ef-463238303c09\" xlink:show=\"new\" xlink:title=\"psysml:f43ee61a-1d92-4bcd-a6ef-463238303c09\" xlink:type=\"simple\"><rect fill=\"#FFFFFF\" height=\"40\" id=\"E8\" rx=\"10\" ry=\"10\" style=\"stroke: #383838; stroke-width: 1.5;\" width=\"50\" x=\"32\" y=\"85.5\"/><rect fill=\"#F8F8F8\" height=\"23.9688\" rx=\"10\" ry=\"10\" style=\"stroke: #F8F8F8; stroke-width: 1.5;\" width=\"50\" x=\"32\" y=\"85.5\"/><rect fill=\"#F8F8F8\" height=\"10\" style=\"stroke: #F8F8F8; stroke-width: 1.5;\" width=\"50\" x=\"32\" y=\"99.4688\"/><rect fill=\"none\" height=\"40\" id=\"E8\" rx=\"10\" ry=\"10\" style=\"stroke: #383838; stroke-width: 1.5;\" width=\"50\" x=\"32\" y=\"85.5\"/><text fill=\"#000000\" font-family=\"sans-serif\" font-size=\"12\" lengthAdjust=\"spacingAndGlyphs\" textLength=\"21\" x=\"46.5\" y=\"101.6387\">z: B</text></a></g><g id=\"E1.E9.E10\"><a href=\"psysml:e183bef4-e50f-4a79-aea2-e72f91ae33b1\" target=\"_top\" title=\"psysml:e183bef4-e50f-4a79-aea2-e72f91ae33b1\" xlink:actuate=\"onRequest\" xlink:href=\"psysml:e183bef4-e50f-4a79-aea2-e72f91ae33b1\" xlink:show=\"new\" xlink:title=\"psysml:e183bef4-e50f-4a79-aea2-e72f91ae33b1\" xlink:type=\"simple\"><rect fill=\"#FFFFFF\" height=\"40\" id=\"E10\" rx=\"10\" ry=\"10\" style=\"stroke: #383838; stroke-width: 1.5;\" width=\"50\" x=\"277\" y=\"85.5\"/><rect fill=\"#F8F8F8\" height=\"23.9688\" rx=\"10\" ry=\"10\" style=\"stroke: #F8F8F8; stroke-width: 1.5;\" width=\"50\" x=\"277\" y=\"85.5\"/><rect fill=\"#F8F8F8\" height=\"10\" style=\"stroke: #F8F8F8; stroke-width: 1.5;\" width=\"50\" x=\"277\" y=\"99.4688\"/><rect fill=\"none\" height=\"40\" id=\"E10\" rx=\"10\" ry=\"10\" style=\"stroke: #383838; stroke-width: 1.5;\" width=\"50\" x=\"277\" y=\"85.5\"/><text fill=\"#000000\" font-family=\"sans-serif\" font-size=\"12\" lengthAdjust=\"spacingAndGlyphs\" textLength=\"29\" x=\"287.5\" y=\"101.6387\">z1: A</text></a></g><!--MD5=[3708027685e6e03c52f0ea3f9e4af15a]\n",
       "@startuml\r\n",
       "skinparam ranksep 10\r\n",
       "skinparam rectangle {\r\n",
       " backgroundColor<<block>> LightGreen\r\n",
       "}\r\n",
       "skinparam linetype polyline\r\n",
       "skinparam monochrome true\r\n",
       "skinparam classbackgroundcolor white\r\n",
       "skinparam shadowing false\r\n",
       "skinparam wrapWidth 300\r\n",
       "hide circle\r\n",
       "\r\n",
       "package \"PrivateImportTest\" as E1  [[psysml:90f2a1bf-87a7-47cf-b7dc-49b41c6fd8e7 ]]  {\r\n",
       "package \"P1\" as E2  [[psysml:16275eaf-61bd-4171-b64d-9c4aa1fed5b3 ]]  {\r\n",
       "rec def \"A\" as E3  <<(T,blue) part def>> [[psysml:c33e3566-7ac4-4487-b3df-3cd0148aac2a ]] {\r\n",
       "}\r\n",
       "}\r\n",
       "package \"P2\" as E4  [[psysml:b9d82d12-80d8-4b65-b32b-0d4caf256cd7 ]]  {\r\n",
       "}\r\n",
       "rec usage \"x: A\" as E5  [[psysml:0c75b404-ec52-4836-8cbb-5da98c4a5930 ]] {\r\n",
       "}\r\n",
       "package \"P3\" as E6  [[psysml:9d4f5989-8a3e-4397-a866-52670c662db3 ]]  {\r\n",
       "rec def \"B\" as E7  <<(T,blue) part def>> [[psysml:70818b0d-1657-43d7-b586-0302676d35dd ]] {\r\n",
       "}\r\n",
       "}\r\n",
       "rec usage \"z: B\" as E8  [[psysml:f43ee61a-1d92-4bcd-a6ef-463238303c09 ]] {\r\n",
       "}\r\n",
       "package \"P4\" as E9  [[psysml:5979dd71-75f1-4b72-84ed-7ab4ecfce4b9 ]]  {\r\n",
       "rec usage \"z1: A\" as E10  [[psysml:e183bef4-e50f-4a79-aea2-e72f91ae33b1 ]] {\r\n",
       "}\r\n",
       "}\r\n",
       "}\r\n",
       "@enduml\r\n",
       "\n",
       "PlantUML version 1.2020.13(Sat Jun 13 12:26:38 UTC 2020)\n",
       "(EPL source distribution)\n",
       "Java Runtime: OpenJDK Runtime Environment\n",
       "JVM: OpenJDK 64-Bit Server VM\n",
       "Default Encoding: UTF-8\n",
       "Language: en\n",
       "Country: null\n",
       "--></g></svg>"
      ]
     },
     "execution_count": 12,
     "metadata": {},
     "output_type": "execute_result"
    }
   ],
   "source": [
    "%viz --style=\"POLYLINE\" --view=\"Interconnection\" \"PrivateImportTest\""
   ]
  },
  {
   "cell_type": "code",
   "execution_count": 13,
   "id": "66fc00c0",
   "metadata": {
    "execution": {
     "iopub.execute_input": "2021-08-04T06:27:54.818416Z",
     "iopub.status.busy": "2021-08-04T06:27:54.818044Z",
     "iopub.status.idle": "2021-08-04T06:27:54.825238Z",
     "shell.execute_reply": "2021-08-04T06:27:54.825584Z"
    }
   },
   "outputs": [
    {
     "data": {
      "image/svg+xml": [
       "<?xml version=\"1.0\" encoding=\"UTF-8\" standalone=\"no\"?><svg xmlns=\"http://www.w3.org/2000/svg\" xmlns:xlink=\"http://www.w3.org/1999/xlink\" contentScriptType=\"application/ecmascript\" contentStyleType=\"text/css\" height=\"12px\" preserveAspectRatio=\"none\" style=\"width:12px;height:12px;\" version=\"1.1\" viewBox=\"0 0 12 12\" width=\"12px\" zoomAndPan=\"magnify\"><defs/><g><!--MD5=[97bbf32f66ccd50cbc40d92ea8f5a65e]\n",
       "@startuml\r\n",
       "skinparam ranksep 8\r\n",
       "skinparam linetype polyline\r\n",
       "skinparam monochrome true\r\n",
       "skinparam classbackgroundcolor white\r\n",
       "skinparam shadowing false\r\n",
       "skinparam wrapWidth 300\r\n",
       "hide circle\r\n",
       "\r\n",
       "@enduml\r\n",
       "\n",
       "PlantUML version 1.2020.13(Sat Jun 13 12:26:38 UTC 2020)\n",
       "(EPL source distribution)\n",
       "Java Runtime: OpenJDK Runtime Environment\n",
       "JVM: OpenJDK 64-Bit Server VM\n",
       "Default Encoding: UTF-8\n",
       "Language: en\n",
       "Country: null\n",
       "--></g></svg>"
      ]
     },
     "execution_count": 13,
     "metadata": {},
     "output_type": "execute_result"
    }
   ],
   "source": [
    "%viz --style=\"POLYLINE\" --view=\"Action\" \"PrivateImportTest\""
   ]
  },
  {
   "cell_type": "code",
   "execution_count": 14,
   "id": "2712b92c",
   "metadata": {
    "execution": {
     "iopub.execute_input": "2021-08-04T06:27:54.876078Z",
     "iopub.status.busy": "2021-08-04T06:27:54.875403Z",
     "iopub.status.idle": "2021-08-04T06:27:54.920020Z",
     "shell.execute_reply": "2021-08-04T06:27:54.919647Z"
    }
   },
   "outputs": [
    {
     "data": {
      "image/svg+xml": [
       "<?xml version=\"1.0\" encoding=\"UTF-8\" standalone=\"no\"?><svg xmlns=\"http://www.w3.org/2000/svg\" xmlns:xlink=\"http://www.w3.org/1999/xlink\" contentScriptType=\"application/ecmascript\" contentStyleType=\"text/css\" height=\"303px\" preserveAspectRatio=\"none\" style=\"width:365px;height:303px;\" version=\"1.1\" viewBox=\"0 0 365 303\" width=\"365px\" zoomAndPan=\"magnify\"><defs/><g><!--MD5=[fbc87193dbaf4d95561dea2c320d4a47]\n",
       "cluster E1--><a href=\"psysml:90f2a1bf-87a7-47cf-b7dc-49b41c6fd8e7\" target=\"_top\" title=\"psysml:90f2a1bf-87a7-47cf-b7dc-49b41c6fd8e7\" xlink:actuate=\"onRequest\" xlink:href=\"psysml:90f2a1bf-87a7-47cf-b7dc-49b41c6fd8e7\" xlink:show=\"new\" xlink:title=\"psysml:90f2a1bf-87a7-47cf-b7dc-49b41c6fd8e7\" xlink:type=\"simple\"><polygon fill=\"#FFFFFF\" points=\"16,6,163,6,170,28.2969,343,28.2969,343,291,16,291,16,6\" style=\"stroke: #000000; stroke-width: 1.5;\"/><line style=\"stroke: #000000; stroke-width: 1.5;\" x1=\"16\" x2=\"170\" y1=\"28.2969\" y2=\"28.2969\"/><text fill=\"#000000\" font-family=\"sans-serif\" font-size=\"14\" font-weight=\"bold\" lengthAdjust=\"spacingAndGlyphs\" textLength=\"141\" x=\"20\" y=\"20.9951\">PrivateImportTest</text></a><!--MD5=[e4f7fae6ed58524ba242bb0b0d3be6b7]\n",
       "cluster E2--><a href=\"psysml:16275eaf-61bd-4171-b64d-9c4aa1fed5b3\" target=\"_top\" title=\"psysml:16275eaf-61bd-4171-b64d-9c4aa1fed5b3\" xlink:actuate=\"onRequest\" xlink:href=\"psysml:16275eaf-61bd-4171-b64d-9c4aa1fed5b3\" xlink:show=\"new\" xlink:title=\"psysml:16275eaf-61bd-4171-b64d-9c4aa1fed5b3\" xlink:type=\"simple\"><polygon fill=\"#FFFFFF\" points=\"211,170,237,170,244,192.2969,309,192.2969,309,267,211,267,211,170\" style=\"stroke: #000000; stroke-width: 1.5;\"/><line style=\"stroke: #000000; stroke-width: 1.5;\" x1=\"211\" x2=\"244\" y1=\"192.2969\" y2=\"192.2969\"/><text fill=\"#000000\" font-family=\"sans-serif\" font-size=\"14\" font-weight=\"bold\" lengthAdjust=\"spacingAndGlyphs\" textLength=\"20\" x=\"215\" y=\"184.9951\">P1</text></a><!--MD5=[14e3b0961a2654348d326746436168a1]\n",
       "cluster E6--><a href=\"psysml:9d4f5989-8a3e-4397-a866-52670c662db3\" target=\"_top\" title=\"psysml:9d4f5989-8a3e-4397-a866-52670c662db3\" xlink:actuate=\"onRequest\" xlink:href=\"psysml:9d4f5989-8a3e-4397-a866-52670c662db3\" xlink:show=\"new\" xlink:title=\"psysml:9d4f5989-8a3e-4397-a866-52670c662db3\" xlink:type=\"simple\"><polygon fill=\"#FFFFFF\" points=\"79,170,105,170,112,192.2969,177,192.2969,177,267,79,267,79,170\" style=\"stroke: #000000; stroke-width: 1.5;\"/><line style=\"stroke: #000000; stroke-width: 1.5;\" x1=\"79\" x2=\"112\" y1=\"192.2969\" y2=\"192.2969\"/><text fill=\"#000000\" font-family=\"sans-serif\" font-size=\"14\" font-weight=\"bold\" lengthAdjust=\"spacingAndGlyphs\" textLength=\"20\" x=\"83\" y=\"184.9951\">P3</text></a><!--MD5=[7f149f147074ac12df2cb0a7728a5fb0]\n",
       "cluster E9--><a href=\"psysml:5979dd71-75f1-4b72-84ed-7ab4ecfce4b9\" target=\"_top\" title=\"psysml:5979dd71-75f1-4b72-84ed-7ab4ecfce4b9\" xlink:actuate=\"onRequest\" xlink:href=\"psysml:5979dd71-75f1-4b72-84ed-7ab4ecfce4b9\" xlink:show=\"new\" xlink:title=\"psysml:5979dd71-75f1-4b72-84ed-7ab4ecfce4b9\" xlink:type=\"simple\"><polygon fill=\"#FFFFFF\" points=\"245,49,271,49,278,71.2969,319,71.2969,319,146,245,146,245,49\" style=\"stroke: #000000; stroke-width: 1.5;\"/><line style=\"stroke: #000000; stroke-width: 1.5;\" x1=\"245\" x2=\"278\" y1=\"71.2969\" y2=\"71.2969\"/><text fill=\"#000000\" font-family=\"sans-serif\" font-size=\"14\" font-weight=\"bold\" lengthAdjust=\"spacingAndGlyphs\" textLength=\"20\" x=\"249\" y=\"63.9951\">P4</text></a><!--MD5=[270fce915f116d4de14055a7c1d9a0f3]\n",
       "class E5--><a href=\"psysml:0c75b404-ec52-4836-8cbb-5da98c4a5930\" target=\"_top\" title=\"psysml:0c75b404-ec52-4836-8cbb-5da98c4a5930\" xlink:actuate=\"onRequest\" xlink:href=\"psysml:0c75b404-ec52-4836-8cbb-5da98c4a5930\" xlink:show=\"new\" xlink:title=\"psysml:0c75b404-ec52-4836-8cbb-5da98c4a5930\" xlink:type=\"simple\"><rect fill=\"#FFFFFF\" height=\"45.9375\" id=\"E5\" rx=\"10\" ry=\"10\" style=\"stroke: #383838; stroke-width: 1.5;\" width=\"42\" x=\"184\" y=\"84\"/><text fill=\"#000000\" font-family=\"sans-serif\" font-size=\"12\" font-style=\"italic\" lengthAdjust=\"spacingAndGlyphs\" textLength=\"40\" x=\"185\" y=\"100.1387\">«part»</text><text fill=\"#000000\" font-family=\"sans-serif\" font-size=\"12\" lengthAdjust=\"spacingAndGlyphs\" textLength=\"22\" x=\"194\" y=\"114.1074\">x: A</text><line style=\"stroke: #383838; stroke-width: 1.5;\" x1=\"185\" x2=\"225\" y1=\"121.9375\" y2=\"121.9375\"/></a><!--MD5=[b9389687b975829384b498ac4b7476b2]\n",
       "class E8--><a href=\"psysml:f43ee61a-1d92-4bcd-a6ef-463238303c09\" target=\"_top\" title=\"psysml:f43ee61a-1d92-4bcd-a6ef-463238303c09\" xlink:actuate=\"onRequest\" xlink:href=\"psysml:f43ee61a-1d92-4bcd-a6ef-463238303c09\" xlink:show=\"new\" xlink:title=\"psysml:f43ee61a-1d92-4bcd-a6ef-463238303c09\" xlink:type=\"simple\"><rect fill=\"#FFFFFF\" height=\"45.9375\" id=\"E8\" rx=\"10\" ry=\"10\" style=\"stroke: #383838; stroke-width: 1.5;\" width=\"42\" x=\"107\" y=\"84\"/><text fill=\"#000000\" font-family=\"sans-serif\" font-size=\"12\" font-style=\"italic\" lengthAdjust=\"spacingAndGlyphs\" textLength=\"40\" x=\"108\" y=\"100.1387\">«part»</text><text fill=\"#000000\" font-family=\"sans-serif\" font-size=\"12\" lengthAdjust=\"spacingAndGlyphs\" textLength=\"21\" x=\"117.5\" y=\"114.1074\">z: B</text><line style=\"stroke: #383838; stroke-width: 1.5;\" x1=\"108\" x2=\"148\" y1=\"121.9375\" y2=\"121.9375\"/></a><!--MD5=[09b614a08d8cba4a07c9adeb5e0fee81]\n",
       "class E3--><a href=\"psysml:c33e3566-7ac4-4487-b3df-3cd0148aac2a\" target=\"_top\" title=\"psysml:c33e3566-7ac4-4487-b3df-3cd0148aac2a\" xlink:actuate=\"onRequest\" xlink:href=\"psysml:c33e3566-7ac4-4487-b3df-3cd0148aac2a\" xlink:show=\"new\" xlink:title=\"psysml:c33e3566-7ac4-4487-b3df-3cd0148aac2a\" xlink:type=\"simple\"><rect fill=\"#FFFFFF\" height=\"45.9375\" id=\"E3\" style=\"stroke: #383838; stroke-width: 1.5;\" width=\"66\" x=\"227\" y=\"205\"/><text fill=\"#000000\" font-family=\"sans-serif\" font-size=\"12\" font-style=\"italic\" lengthAdjust=\"spacingAndGlyphs\" textLength=\"64\" x=\"228\" y=\"221.1387\">«part def»</text><text fill=\"#000000\" font-family=\"sans-serif\" font-size=\"12\" lengthAdjust=\"spacingAndGlyphs\" textLength=\"8\" x=\"256\" y=\"235.1074\">A</text><line style=\"stroke: #383838; stroke-width: 1.5;\" x1=\"228\" x2=\"292\" y1=\"242.9375\" y2=\"242.9375\"/></a><a href=\"psysml:b9d82d12-80d8-4b65-b32b-0d4caf256cd7\" target=\"_top\" title=\"psysml:b9d82d12-80d8-4b65-b32b-0d4caf256cd7\" xlink:actuate=\"onRequest\" xlink:href=\"psysml:b9d82d12-80d8-4b65-b32b-0d4caf256cd7\" xlink:show=\"new\" xlink:title=\"psysml:b9d82d12-80d8-4b65-b32b-0d4caf256cd7\" xlink:type=\"simple\"><polygon fill=\"#FFFFFF\" points=\"32,80.5,58,80.5,65,102.7969,72,102.7969,72,133.0938,32,133.0938,32,80.5\" style=\"stroke: #000000; stroke-width: 1.5;\"/><line style=\"stroke: #000000; stroke-width: 1.5;\" x1=\"32\" x2=\"65\" y1=\"102.7969\" y2=\"102.7969\"/><text fill=\"#000000\" font-family=\"sans-serif\" font-size=\"14\" font-weight=\"bold\" lengthAdjust=\"spacingAndGlyphs\" textLength=\"20\" x=\"36\" y=\"95.4951\">P2</text></a><!--MD5=[2156ba9850f5573cc1fc38a6a4b2f02b]\n",
       "class E7--><a href=\"psysml:70818b0d-1657-43d7-b586-0302676d35dd\" target=\"_top\" title=\"psysml:70818b0d-1657-43d7-b586-0302676d35dd\" xlink:actuate=\"onRequest\" xlink:href=\"psysml:70818b0d-1657-43d7-b586-0302676d35dd\" xlink:show=\"new\" xlink:title=\"psysml:70818b0d-1657-43d7-b586-0302676d35dd\" xlink:type=\"simple\"><rect fill=\"#FFFFFF\" height=\"45.9375\" id=\"E7\" style=\"stroke: #383838; stroke-width: 1.5;\" width=\"66\" x=\"95\" y=\"205\"/><text fill=\"#000000\" font-family=\"sans-serif\" font-size=\"12\" font-style=\"italic\" lengthAdjust=\"spacingAndGlyphs\" textLength=\"64\" x=\"96\" y=\"221.1387\">«part def»</text><text fill=\"#000000\" font-family=\"sans-serif\" font-size=\"12\" lengthAdjust=\"spacingAndGlyphs\" textLength=\"8\" x=\"124\" y=\"235.1074\">B</text><line style=\"stroke: #383838; stroke-width: 1.5;\" x1=\"96\" x2=\"160\" y1=\"242.9375\" y2=\"242.9375\"/></a><!--MD5=[96f4274e9e20536e775497830990834d]\n",
       "class E10--><a href=\"psysml:e183bef4-e50f-4a79-aea2-e72f91ae33b1\" target=\"_top\" title=\"psysml:e183bef4-e50f-4a79-aea2-e72f91ae33b1\" xlink:actuate=\"onRequest\" xlink:href=\"psysml:e183bef4-e50f-4a79-aea2-e72f91ae33b1\" xlink:show=\"new\" xlink:title=\"psysml:e183bef4-e50f-4a79-aea2-e72f91ae33b1\" xlink:type=\"simple\"><rect fill=\"#FFFFFF\" height=\"45.9375\" id=\"E10\" rx=\"10\" ry=\"10\" style=\"stroke: #383838; stroke-width: 1.5;\" width=\"42\" x=\"261\" y=\"84\"/><text fill=\"#000000\" font-family=\"sans-serif\" font-size=\"12\" font-style=\"italic\" lengthAdjust=\"spacingAndGlyphs\" textLength=\"40\" x=\"262\" y=\"100.1387\">«part»</text><text fill=\"#000000\" font-family=\"sans-serif\" font-size=\"12\" lengthAdjust=\"spacingAndGlyphs\" textLength=\"29\" x=\"267.5\" y=\"114.1074\">z1: A</text><line style=\"stroke: #383838; stroke-width: 1.5;\" x1=\"262\" x2=\"302\" y1=\"121.9375\" y2=\"121.9375\"/></a><!--MD5=[e9be52314489bd878ff4c7144b63c9e1]\n",
       "link E5 to E3--><a href=\"psysml:f8be15bd-6ead-4f94-a81d-297834d3bff2\" target=\"_top\" title=\"psysml:f8be15bd-6ead-4f94-a81d-297834d3bff2\" xlink:actuate=\"onRequest\" xlink:href=\"psysml:f8be15bd-6ead-4f94-a81d-297834d3bff2\" xlink:show=\"new\" xlink:title=\"psysml:f8be15bd-6ead-4f94-a81d-297834d3bff2\" xlink:type=\"simple\"><path d=\"M215.22,130.1 C222.5,145.87 232.51,167.52 241.22,186.36 \" fill=\"none\" id=\"E5-&gt;E3\" style=\"stroke: #383838; stroke-width: 1.0;\"/><polygon fill=\"#FFFFFF\" points=\"249.65,204.61,235.3286,190.2958,248.0386,184.4258,249.65,204.61\" style=\"stroke: #383838; stroke-width: 1.0;\"/><ellipse cx=\"234.7544\" cy=\"184.2824\" fill=\"#383838\" rx=\"2\" ry=\"2\" style=\"stroke: #383838; stroke-width: 1.0;\"/><ellipse cx=\"243.8329\" cy=\"180.0896\" fill=\"#383838\" rx=\"2\" ry=\"2\" style=\"stroke: #383838; stroke-width: 1.0;\"/></a><!--MD5=[bfa3c8b0d15052fdf50ae9310b491027]\n",
       "link E8 to E7--><a href=\"psysml:2890fdf6-d136-470e-95db-a042243a6f10\" target=\"_top\" title=\"psysml:2890fdf6-d136-470e-95db-a042243a6f10\" xlink:actuate=\"onRequest\" xlink:href=\"psysml:2890fdf6-d136-470e-95db-a042243a6f10\" xlink:show=\"new\" xlink:title=\"psysml:2890fdf6-d136-470e-95db-a042243a6f10\" xlink:type=\"simple\"><path d=\"M128,130.1 C128,145.37 128,166.16 128,184.57 \" fill=\"none\" id=\"E8-&gt;E7\" style=\"stroke: #383838; stroke-width: 1.0;\"/><polygon fill=\"#FFFFFF\" points=\"128,204.61,121,185.61,135,185.61,128,204.61\" style=\"stroke: #383838; stroke-width: 1.0;\"/><ellipse cx=\"123\" cy=\"179.91\" fill=\"#383838\" rx=\"2\" ry=\"2\" style=\"stroke: #383838; stroke-width: 1.0;\"/><ellipse cx=\"133\" cy=\"179.91\" fill=\"#383838\" rx=\"2\" ry=\"2\" style=\"stroke: #383838; stroke-width: 1.0;\"/></a><!--MD5=[feeac5eb423634930294aa81f2d25a4c]\n",
       "link E10 to E3--><a href=\"psysml:25a6672d-e3f3-453e-a929-7fba59fa68e7\" target=\"_top\" title=\"psysml:25a6672d-e3f3-453e-a929-7fba59fa68e7\" xlink:actuate=\"onRequest\" xlink:href=\"psysml:25a6672d-e3f3-453e-a929-7fba59fa68e7\" xlink:show=\"new\" xlink:title=\"psysml:25a6672d-e3f3-453e-a929-7fba59fa68e7\" xlink:type=\"simple\"><path d=\"M277.91,130.1 C275.08,145.45 271.21,166.39 267.79,184.87 \" fill=\"none\" id=\"E10-&gt;E3\" style=\"stroke: #383838; stroke-width: 1.0;\"/><polygon fill=\"#FFFFFF\" points=\"264.14,204.61,260.7167,184.653,274.4827,187.2023,264.14,204.61\" style=\"stroke: #383838; stroke-width: 1.0;\"/><ellipse cx=\"263.7212\" cy=\"179.4125\" fill=\"#383838\" rx=\"2\" ry=\"2\" style=\"stroke: #383838; stroke-width: 1.0;\"/><ellipse cx=\"273.554\" cy=\"181.2334\" fill=\"#383838\" rx=\"2\" ry=\"2\" style=\"stroke: #383838; stroke-width: 1.0;\"/></a><!--MD5=[b996abe7c14b66cae28ca7d16113078f]\n",
       "@startuml\r\n",
       "skinparam linetype polyline\r\n",
       "skinparam monochrome true\r\n",
       "skinparam classbackgroundcolor white\r\n",
       "skinparam shadowing false\r\n",
       "skinparam wrapWidth 300\r\n",
       "hide circle\r\n",
       "\r\n",
       "package \"PrivateImportTest\" as E1  [[psysml:90f2a1bf-87a7-47cf-b7dc-49b41c6fd8e7 ]]  {\r\n",
       "package \"P1\" as E2  [[psysml:16275eaf-61bd-4171-b64d-9c4aa1fed5b3 ]]  {\r\n",
       "comp def \"A\" as E3  <<(T,blue) part def>> [[psysml:c33e3566-7ac4-4487-b3df-3cd0148aac2a ]] {\r\n",
       "}\r\n",
       "}\r\n",
       "package \"P2\" as E4  [[psysml:b9d82d12-80d8-4b65-b32b-0d4caf256cd7 ]]  {\r\n",
       "}\r\n",
       "comp usage \"x: A\" as E5  <<(T,blue) part>> [[psysml:0c75b404-ec52-4836-8cbb-5da98c4a5930 ]] {\r\n",
       "}\r\n",
       "package \"P3\" as E6  [[psysml:9d4f5989-8a3e-4397-a866-52670c662db3 ]]  {\r\n",
       "comp def \"B\" as E7  <<(T,blue) part def>> [[psysml:70818b0d-1657-43d7-b586-0302676d35dd ]] {\r\n",
       "}\r\n",
       "E5 - -:|> E3 [[psysml:f8be15bd-6ead-4f94-a81d-297834d3bff2 ]] \r\n",
       "}\r\n",
       "comp usage \"z: B\" as E8  <<(T,blue) part>> [[psysml:f43ee61a-1d92-4bcd-a6ef-463238303c09 ]] {\r\n",
       "}\r\n",
       "package \"P4\" as E9  [[psysml:5979dd71-75f1-4b72-84ed-7ab4ecfce4b9 ]]  {\r\n",
       "comp usage \"z1: A\" as E10  <<(T,blue) part>> [[psysml:e183bef4-e50f-4a79-aea2-e72f91ae33b1 ]] {\r\n",
       "}\r\n",
       "E8 - -:|> E7 [[psysml:2890fdf6-d136-470e-95db-a042243a6f10 ]] \r\n",
       "E10 - -:|> E3 [[psysml:25a6672d-e3f3-453e-a929-7fba59fa68e7 ]] \r\n",
       "}\r\n",
       "}\r\n",
       "@enduml\r\n",
       "\n",
       "PlantUML version 1.2020.13(Sat Jun 13 12:26:38 UTC 2020)\n",
       "(EPL source distribution)\n",
       "Java Runtime: OpenJDK Runtime Environment\n",
       "JVM: OpenJDK 64-Bit Server VM\n",
       "Default Encoding: UTF-8\n",
       "Language: en\n",
       "Country: null\n",
       "--></g></svg>"
      ]
     },
     "execution_count": 14,
     "metadata": {},
     "output_type": "execute_result"
    }
   ],
   "source": [
    "%viz --style=\"POLYLINE\" --view=\"Sequence\" \"PrivateImportTest\""
   ]
  },
  {
   "cell_type": "code",
   "execution_count": 15,
   "id": "4eeade78",
   "metadata": {
    "execution": {
     "iopub.execute_input": "2021-08-04T06:27:54.970144Z",
     "iopub.status.busy": "2021-08-04T06:27:54.969489Z",
     "iopub.status.idle": "2021-08-04T06:27:55.008979Z",
     "shell.execute_reply": "2021-08-04T06:27:55.008586Z"
    }
   },
   "outputs": [
    {
     "data": {
      "image/svg+xml": [
       "<?xml version=\"1.0\" encoding=\"UTF-8\" standalone=\"no\"?><svg xmlns=\"http://www.w3.org/2000/svg\" xmlns:xlink=\"http://www.w3.org/1999/xlink\" contentScriptType=\"application/ecmascript\" contentStyleType=\"text/css\" height=\"303px\" preserveAspectRatio=\"none\" style=\"width:365px;height:303px;\" version=\"1.1\" viewBox=\"0 0 365 303\" width=\"365px\" zoomAndPan=\"magnify\"><defs/><g><!--MD5=[fbc87193dbaf4d95561dea2c320d4a47]\n",
       "cluster E1--><a href=\"psysml:90f2a1bf-87a7-47cf-b7dc-49b41c6fd8e7\" target=\"_top\" title=\"psysml:90f2a1bf-87a7-47cf-b7dc-49b41c6fd8e7\" xlink:actuate=\"onRequest\" xlink:href=\"psysml:90f2a1bf-87a7-47cf-b7dc-49b41c6fd8e7\" xlink:show=\"new\" xlink:title=\"psysml:90f2a1bf-87a7-47cf-b7dc-49b41c6fd8e7\" xlink:type=\"simple\"><polygon fill=\"#FFFFFF\" points=\"16,6,163,6,170,28.2969,343,28.2969,343,291,16,291,16,6\" style=\"stroke: #000000; stroke-width: 1.5;\"/><line style=\"stroke: #000000; stroke-width: 1.5;\" x1=\"16\" x2=\"170\" y1=\"28.2969\" y2=\"28.2969\"/><text fill=\"#000000\" font-family=\"sans-serif\" font-size=\"14\" font-weight=\"bold\" lengthAdjust=\"spacingAndGlyphs\" textLength=\"141\" x=\"20\" y=\"20.9951\">PrivateImportTest</text></a><!--MD5=[e4f7fae6ed58524ba242bb0b0d3be6b7]\n",
       "cluster E2--><a href=\"psysml:16275eaf-61bd-4171-b64d-9c4aa1fed5b3\" target=\"_top\" title=\"psysml:16275eaf-61bd-4171-b64d-9c4aa1fed5b3\" xlink:actuate=\"onRequest\" xlink:href=\"psysml:16275eaf-61bd-4171-b64d-9c4aa1fed5b3\" xlink:show=\"new\" xlink:title=\"psysml:16275eaf-61bd-4171-b64d-9c4aa1fed5b3\" xlink:type=\"simple\"><polygon fill=\"#FFFFFF\" points=\"211,170,237,170,244,192.2969,309,192.2969,309,267,211,267,211,170\" style=\"stroke: #000000; stroke-width: 1.5;\"/><line style=\"stroke: #000000; stroke-width: 1.5;\" x1=\"211\" x2=\"244\" y1=\"192.2969\" y2=\"192.2969\"/><text fill=\"#000000\" font-family=\"sans-serif\" font-size=\"14\" font-weight=\"bold\" lengthAdjust=\"spacingAndGlyphs\" textLength=\"20\" x=\"215\" y=\"184.9951\">P1</text></a><!--MD5=[14e3b0961a2654348d326746436168a1]\n",
       "cluster E6--><a href=\"psysml:9d4f5989-8a3e-4397-a866-52670c662db3\" target=\"_top\" title=\"psysml:9d4f5989-8a3e-4397-a866-52670c662db3\" xlink:actuate=\"onRequest\" xlink:href=\"psysml:9d4f5989-8a3e-4397-a866-52670c662db3\" xlink:show=\"new\" xlink:title=\"psysml:9d4f5989-8a3e-4397-a866-52670c662db3\" xlink:type=\"simple\"><polygon fill=\"#FFFFFF\" points=\"79,170,105,170,112,192.2969,177,192.2969,177,267,79,267,79,170\" style=\"stroke: #000000; stroke-width: 1.5;\"/><line style=\"stroke: #000000; stroke-width: 1.5;\" x1=\"79\" x2=\"112\" y1=\"192.2969\" y2=\"192.2969\"/><text fill=\"#000000\" font-family=\"sans-serif\" font-size=\"14\" font-weight=\"bold\" lengthAdjust=\"spacingAndGlyphs\" textLength=\"20\" x=\"83\" y=\"184.9951\">P3</text></a><!--MD5=[7f149f147074ac12df2cb0a7728a5fb0]\n",
       "cluster E9--><a href=\"psysml:5979dd71-75f1-4b72-84ed-7ab4ecfce4b9\" target=\"_top\" title=\"psysml:5979dd71-75f1-4b72-84ed-7ab4ecfce4b9\" xlink:actuate=\"onRequest\" xlink:href=\"psysml:5979dd71-75f1-4b72-84ed-7ab4ecfce4b9\" xlink:show=\"new\" xlink:title=\"psysml:5979dd71-75f1-4b72-84ed-7ab4ecfce4b9\" xlink:type=\"simple\"><polygon fill=\"#FFFFFF\" points=\"245,49,271,49,278,71.2969,319,71.2969,319,146,245,146,245,49\" style=\"stroke: #000000; stroke-width: 1.5;\"/><line style=\"stroke: #000000; stroke-width: 1.5;\" x1=\"245\" x2=\"278\" y1=\"71.2969\" y2=\"71.2969\"/><text fill=\"#000000\" font-family=\"sans-serif\" font-size=\"14\" font-weight=\"bold\" lengthAdjust=\"spacingAndGlyphs\" textLength=\"20\" x=\"249\" y=\"63.9951\">P4</text></a><!--MD5=[270fce915f116d4de14055a7c1d9a0f3]\n",
       "class E5--><a href=\"psysml:0c75b404-ec52-4836-8cbb-5da98c4a5930\" target=\"_top\" title=\"psysml:0c75b404-ec52-4836-8cbb-5da98c4a5930\" xlink:actuate=\"onRequest\" xlink:href=\"psysml:0c75b404-ec52-4836-8cbb-5da98c4a5930\" xlink:show=\"new\" xlink:title=\"psysml:0c75b404-ec52-4836-8cbb-5da98c4a5930\" xlink:type=\"simple\"><rect fill=\"#FFFFFF\" height=\"45.9375\" id=\"E5\" rx=\"10\" ry=\"10\" style=\"stroke: #383838; stroke-width: 1.5;\" width=\"42\" x=\"184\" y=\"84\"/><text fill=\"#000000\" font-family=\"sans-serif\" font-size=\"12\" font-style=\"italic\" lengthAdjust=\"spacingAndGlyphs\" textLength=\"40\" x=\"185\" y=\"100.1387\">«part»</text><text fill=\"#000000\" font-family=\"sans-serif\" font-size=\"12\" lengthAdjust=\"spacingAndGlyphs\" textLength=\"22\" x=\"194\" y=\"114.1074\">x: A</text><line style=\"stroke: #383838; stroke-width: 1.5;\" x1=\"185\" x2=\"225\" y1=\"121.9375\" y2=\"121.9375\"/></a><!--MD5=[b9389687b975829384b498ac4b7476b2]\n",
       "class E8--><a href=\"psysml:f43ee61a-1d92-4bcd-a6ef-463238303c09\" target=\"_top\" title=\"psysml:f43ee61a-1d92-4bcd-a6ef-463238303c09\" xlink:actuate=\"onRequest\" xlink:href=\"psysml:f43ee61a-1d92-4bcd-a6ef-463238303c09\" xlink:show=\"new\" xlink:title=\"psysml:f43ee61a-1d92-4bcd-a6ef-463238303c09\" xlink:type=\"simple\"><rect fill=\"#FFFFFF\" height=\"45.9375\" id=\"E8\" rx=\"10\" ry=\"10\" style=\"stroke: #383838; stroke-width: 1.5;\" width=\"42\" x=\"107\" y=\"84\"/><text fill=\"#000000\" font-family=\"sans-serif\" font-size=\"12\" font-style=\"italic\" lengthAdjust=\"spacingAndGlyphs\" textLength=\"40\" x=\"108\" y=\"100.1387\">«part»</text><text fill=\"#000000\" font-family=\"sans-serif\" font-size=\"12\" lengthAdjust=\"spacingAndGlyphs\" textLength=\"21\" x=\"117.5\" y=\"114.1074\">z: B</text><line style=\"stroke: #383838; stroke-width: 1.5;\" x1=\"108\" x2=\"148\" y1=\"121.9375\" y2=\"121.9375\"/></a><!--MD5=[09b614a08d8cba4a07c9adeb5e0fee81]\n",
       "class E3--><a href=\"psysml:c33e3566-7ac4-4487-b3df-3cd0148aac2a\" target=\"_top\" title=\"psysml:c33e3566-7ac4-4487-b3df-3cd0148aac2a\" xlink:actuate=\"onRequest\" xlink:href=\"psysml:c33e3566-7ac4-4487-b3df-3cd0148aac2a\" xlink:show=\"new\" xlink:title=\"psysml:c33e3566-7ac4-4487-b3df-3cd0148aac2a\" xlink:type=\"simple\"><rect fill=\"#FFFFFF\" height=\"45.9375\" id=\"E3\" style=\"stroke: #383838; stroke-width: 1.5;\" width=\"66\" x=\"227\" y=\"205\"/><text fill=\"#000000\" font-family=\"sans-serif\" font-size=\"12\" font-style=\"italic\" lengthAdjust=\"spacingAndGlyphs\" textLength=\"64\" x=\"228\" y=\"221.1387\">«part def»</text><text fill=\"#000000\" font-family=\"sans-serif\" font-size=\"12\" lengthAdjust=\"spacingAndGlyphs\" textLength=\"8\" x=\"256\" y=\"235.1074\">A</text><line style=\"stroke: #383838; stroke-width: 1.5;\" x1=\"228\" x2=\"292\" y1=\"242.9375\" y2=\"242.9375\"/></a><a href=\"psysml:b9d82d12-80d8-4b65-b32b-0d4caf256cd7\" target=\"_top\" title=\"psysml:b9d82d12-80d8-4b65-b32b-0d4caf256cd7\" xlink:actuate=\"onRequest\" xlink:href=\"psysml:b9d82d12-80d8-4b65-b32b-0d4caf256cd7\" xlink:show=\"new\" xlink:title=\"psysml:b9d82d12-80d8-4b65-b32b-0d4caf256cd7\" xlink:type=\"simple\"><polygon fill=\"#FFFFFF\" points=\"32,80.5,58,80.5,65,102.7969,72,102.7969,72,133.0938,32,133.0938,32,80.5\" style=\"stroke: #000000; stroke-width: 1.5;\"/><line style=\"stroke: #000000; stroke-width: 1.5;\" x1=\"32\" x2=\"65\" y1=\"102.7969\" y2=\"102.7969\"/><text fill=\"#000000\" font-family=\"sans-serif\" font-size=\"14\" font-weight=\"bold\" lengthAdjust=\"spacingAndGlyphs\" textLength=\"20\" x=\"36\" y=\"95.4951\">P2</text></a><!--MD5=[2156ba9850f5573cc1fc38a6a4b2f02b]\n",
       "class E7--><a href=\"psysml:70818b0d-1657-43d7-b586-0302676d35dd\" target=\"_top\" title=\"psysml:70818b0d-1657-43d7-b586-0302676d35dd\" xlink:actuate=\"onRequest\" xlink:href=\"psysml:70818b0d-1657-43d7-b586-0302676d35dd\" xlink:show=\"new\" xlink:title=\"psysml:70818b0d-1657-43d7-b586-0302676d35dd\" xlink:type=\"simple\"><rect fill=\"#FFFFFF\" height=\"45.9375\" id=\"E7\" style=\"stroke: #383838; stroke-width: 1.5;\" width=\"66\" x=\"95\" y=\"205\"/><text fill=\"#000000\" font-family=\"sans-serif\" font-size=\"12\" font-style=\"italic\" lengthAdjust=\"spacingAndGlyphs\" textLength=\"64\" x=\"96\" y=\"221.1387\">«part def»</text><text fill=\"#000000\" font-family=\"sans-serif\" font-size=\"12\" lengthAdjust=\"spacingAndGlyphs\" textLength=\"8\" x=\"124\" y=\"235.1074\">B</text><line style=\"stroke: #383838; stroke-width: 1.5;\" x1=\"96\" x2=\"160\" y1=\"242.9375\" y2=\"242.9375\"/></a><!--MD5=[96f4274e9e20536e775497830990834d]\n",
       "class E10--><a href=\"psysml:e183bef4-e50f-4a79-aea2-e72f91ae33b1\" target=\"_top\" title=\"psysml:e183bef4-e50f-4a79-aea2-e72f91ae33b1\" xlink:actuate=\"onRequest\" xlink:href=\"psysml:e183bef4-e50f-4a79-aea2-e72f91ae33b1\" xlink:show=\"new\" xlink:title=\"psysml:e183bef4-e50f-4a79-aea2-e72f91ae33b1\" xlink:type=\"simple\"><rect fill=\"#FFFFFF\" height=\"45.9375\" id=\"E10\" rx=\"10\" ry=\"10\" style=\"stroke: #383838; stroke-width: 1.5;\" width=\"42\" x=\"261\" y=\"84\"/><text fill=\"#000000\" font-family=\"sans-serif\" font-size=\"12\" font-style=\"italic\" lengthAdjust=\"spacingAndGlyphs\" textLength=\"40\" x=\"262\" y=\"100.1387\">«part»</text><text fill=\"#000000\" font-family=\"sans-serif\" font-size=\"12\" lengthAdjust=\"spacingAndGlyphs\" textLength=\"29\" x=\"267.5\" y=\"114.1074\">z1: A</text><line style=\"stroke: #383838; stroke-width: 1.5;\" x1=\"262\" x2=\"302\" y1=\"121.9375\" y2=\"121.9375\"/></a><!--MD5=[e9be52314489bd878ff4c7144b63c9e1]\n",
       "link E5 to E3--><a href=\"psysml:f8be15bd-6ead-4f94-a81d-297834d3bff2\" target=\"_top\" title=\"psysml:f8be15bd-6ead-4f94-a81d-297834d3bff2\" xlink:actuate=\"onRequest\" xlink:href=\"psysml:f8be15bd-6ead-4f94-a81d-297834d3bff2\" xlink:show=\"new\" xlink:title=\"psysml:f8be15bd-6ead-4f94-a81d-297834d3bff2\" xlink:type=\"simple\"><path d=\"M215.22,130.1 C222.5,145.87 232.51,167.52 241.22,186.36 \" fill=\"none\" id=\"E5-&gt;E3\" style=\"stroke: #383838; stroke-width: 1.0;\"/><polygon fill=\"#FFFFFF\" points=\"249.65,204.61,235.3286,190.2958,248.0386,184.4258,249.65,204.61\" style=\"stroke: #383838; stroke-width: 1.0;\"/><ellipse cx=\"234.7544\" cy=\"184.2824\" fill=\"#383838\" rx=\"2\" ry=\"2\" style=\"stroke: #383838; stroke-width: 1.0;\"/><ellipse cx=\"243.8329\" cy=\"180.0896\" fill=\"#383838\" rx=\"2\" ry=\"2\" style=\"stroke: #383838; stroke-width: 1.0;\"/></a><!--MD5=[bfa3c8b0d15052fdf50ae9310b491027]\n",
       "link E8 to E7--><a href=\"psysml:2890fdf6-d136-470e-95db-a042243a6f10\" target=\"_top\" title=\"psysml:2890fdf6-d136-470e-95db-a042243a6f10\" xlink:actuate=\"onRequest\" xlink:href=\"psysml:2890fdf6-d136-470e-95db-a042243a6f10\" xlink:show=\"new\" xlink:title=\"psysml:2890fdf6-d136-470e-95db-a042243a6f10\" xlink:type=\"simple\"><path d=\"M128,130.1 C128,145.37 128,166.16 128,184.57 \" fill=\"none\" id=\"E8-&gt;E7\" style=\"stroke: #383838; stroke-width: 1.0;\"/><polygon fill=\"#FFFFFF\" points=\"128,204.61,121,185.61,135,185.61,128,204.61\" style=\"stroke: #383838; stroke-width: 1.0;\"/><ellipse cx=\"123\" cy=\"179.91\" fill=\"#383838\" rx=\"2\" ry=\"2\" style=\"stroke: #383838; stroke-width: 1.0;\"/><ellipse cx=\"133\" cy=\"179.91\" fill=\"#383838\" rx=\"2\" ry=\"2\" style=\"stroke: #383838; stroke-width: 1.0;\"/></a><!--MD5=[feeac5eb423634930294aa81f2d25a4c]\n",
       "link E10 to E3--><a href=\"psysml:25a6672d-e3f3-453e-a929-7fba59fa68e7\" target=\"_top\" title=\"psysml:25a6672d-e3f3-453e-a929-7fba59fa68e7\" xlink:actuate=\"onRequest\" xlink:href=\"psysml:25a6672d-e3f3-453e-a929-7fba59fa68e7\" xlink:show=\"new\" xlink:title=\"psysml:25a6672d-e3f3-453e-a929-7fba59fa68e7\" xlink:type=\"simple\"><path d=\"M277.91,130.1 C275.08,145.45 271.21,166.39 267.79,184.87 \" fill=\"none\" id=\"E10-&gt;E3\" style=\"stroke: #383838; stroke-width: 1.0;\"/><polygon fill=\"#FFFFFF\" points=\"264.14,204.61,260.7167,184.653,274.4827,187.2023,264.14,204.61\" style=\"stroke: #383838; stroke-width: 1.0;\"/><ellipse cx=\"263.7212\" cy=\"179.4125\" fill=\"#383838\" rx=\"2\" ry=\"2\" style=\"stroke: #383838; stroke-width: 1.0;\"/><ellipse cx=\"273.554\" cy=\"181.2334\" fill=\"#383838\" rx=\"2\" ry=\"2\" style=\"stroke: #383838; stroke-width: 1.0;\"/></a><!--MD5=[b996abe7c14b66cae28ca7d16113078f]\n",
       "@startuml\r\n",
       "skinparam linetype polyline\r\n",
       "skinparam monochrome true\r\n",
       "skinparam classbackgroundcolor white\r\n",
       "skinparam shadowing false\r\n",
       "skinparam wrapWidth 300\r\n",
       "hide circle\r\n",
       "\r\n",
       "package \"PrivateImportTest\" as E1  [[psysml:90f2a1bf-87a7-47cf-b7dc-49b41c6fd8e7 ]]  {\r\n",
       "package \"P1\" as E2  [[psysml:16275eaf-61bd-4171-b64d-9c4aa1fed5b3 ]]  {\r\n",
       "comp def \"A\" as E3  <<(T,blue) part def>> [[psysml:c33e3566-7ac4-4487-b3df-3cd0148aac2a ]] {\r\n",
       "}\r\n",
       "}\r\n",
       "package \"P2\" as E4  [[psysml:b9d82d12-80d8-4b65-b32b-0d4caf256cd7 ]]  {\r\n",
       "}\r\n",
       "comp usage \"x: A\" as E5  <<(T,blue) part>> [[psysml:0c75b404-ec52-4836-8cbb-5da98c4a5930 ]] {\r\n",
       "}\r\n",
       "package \"P3\" as E6  [[psysml:9d4f5989-8a3e-4397-a866-52670c662db3 ]]  {\r\n",
       "comp def \"B\" as E7  <<(T,blue) part def>> [[psysml:70818b0d-1657-43d7-b586-0302676d35dd ]] {\r\n",
       "}\r\n",
       "E5 - -:|> E3 [[psysml:f8be15bd-6ead-4f94-a81d-297834d3bff2 ]] \r\n",
       "}\r\n",
       "comp usage \"z: B\" as E8  <<(T,blue) part>> [[psysml:f43ee61a-1d92-4bcd-a6ef-463238303c09 ]] {\r\n",
       "}\r\n",
       "package \"P4\" as E9  [[psysml:5979dd71-75f1-4b72-84ed-7ab4ecfce4b9 ]]  {\r\n",
       "comp usage \"z1: A\" as E10  <<(T,blue) part>> [[psysml:e183bef4-e50f-4a79-aea2-e72f91ae33b1 ]] {\r\n",
       "}\r\n",
       "E8 - -:|> E7 [[psysml:2890fdf6-d136-470e-95db-a042243a6f10 ]] \r\n",
       "E10 - -:|> E3 [[psysml:25a6672d-e3f3-453e-a929-7fba59fa68e7 ]] \r\n",
       "}\r\n",
       "}\r\n",
       "@enduml\r\n",
       "\n",
       "PlantUML version 1.2020.13(Sat Jun 13 12:26:38 UTC 2020)\n",
       "(EPL source distribution)\n",
       "Java Runtime: OpenJDK Runtime Environment\n",
       "JVM: OpenJDK 64-Bit Server VM\n",
       "Default Encoding: UTF-8\n",
       "Language: en\n",
       "Country: null\n",
       "--></g></svg>"
      ]
     },
     "execution_count": 15,
     "metadata": {},
     "output_type": "execute_result"
    }
   ],
   "source": [
    "%viz --style=\"POLYLINE\" --view=\"MIXED\" \"PrivateImportTest\""
   ]
  },
  {
   "cell_type": "code",
   "execution_count": 16,
   "id": "49efe3d3",
   "metadata": {
    "execution": {
     "iopub.execute_input": "2021-08-04T06:27:55.059335Z",
     "iopub.status.busy": "2021-08-04T06:27:55.058713Z",
     "iopub.status.idle": "2021-08-04T06:27:55.094100Z",
     "shell.execute_reply": "2021-08-04T06:27:55.093799Z"
    }
   },
   "outputs": [
    {
     "data": {
      "image/svg+xml": [
       "<?xml version=\"1.0\" encoding=\"UTF-8\" standalone=\"no\"?><svg xmlns=\"http://www.w3.org/2000/svg\" xmlns:xlink=\"http://www.w3.org/1999/xlink\" contentScriptType=\"application/ecmascript\" contentStyleType=\"text/css\" height=\"409px\" preserveAspectRatio=\"none\" style=\"width:286px;height:409px;\" version=\"1.1\" viewBox=\"0 0 286 409\" width=\"286px\" zoomAndPan=\"magnify\"><defs/><g><!--MD5=[fbc87193dbaf4d95561dea2c320d4a47]\n",
       "cluster E1--><a href=\"psysml:90f2a1bf-87a7-47cf-b7dc-49b41c6fd8e7\" target=\"_top\" title=\"psysml:90f2a1bf-87a7-47cf-b7dc-49b41c6fd8e7\" xlink:actuate=\"onRequest\" xlink:href=\"psysml:90f2a1bf-87a7-47cf-b7dc-49b41c6fd8e7\" xlink:show=\"new\" xlink:title=\"psysml:90f2a1bf-87a7-47cf-b7dc-49b41c6fd8e7\" xlink:type=\"simple\"><polygon fill=\"#FFFFFF\" points=\"16,6,163,6,170,28.2969,264,28.2969,264,397,16,397,16,6\" style=\"stroke: #000000; stroke-width: 1.5;\"/><line style=\"stroke: #000000; stroke-width: 1.5;\" x1=\"16\" x2=\"170\" y1=\"28.2969\" y2=\"28.2969\"/><text fill=\"#000000\" font-family=\"sans-serif\" font-size=\"14\" font-weight=\"bold\" lengthAdjust=\"spacingAndGlyphs\" textLength=\"141\" x=\"20\" y=\"20.9951\">PrivateImportTest</text></a><!--MD5=[e4f7fae6ed58524ba242bb0b0d3be6b7]\n",
       "cluster E2--><a href=\"psysml:16275eaf-61bd-4171-b64d-9c4aa1fed5b3\" target=\"_top\" title=\"psysml:16275eaf-61bd-4171-b64d-9c4aa1fed5b3\" xlink:actuate=\"onRequest\" xlink:href=\"psysml:16275eaf-61bd-4171-b64d-9c4aa1fed5b3\" xlink:show=\"new\" xlink:title=\"psysml:16275eaf-61bd-4171-b64d-9c4aa1fed5b3\" xlink:type=\"simple\"><polygon fill=\"#FFFFFF\" points=\"142,70,168,70,175,92.2969,240,92.2969,240,167,142,167,142,70\" style=\"stroke: #000000; stroke-width: 1.5;\"/><line style=\"stroke: #000000; stroke-width: 1.5;\" x1=\"142\" x2=\"175\" y1=\"92.2969\" y2=\"92.2969\"/><text fill=\"#000000\" font-family=\"sans-serif\" font-size=\"14\" font-weight=\"bold\" lengthAdjust=\"spacingAndGlyphs\" textLength=\"20\" x=\"146\" y=\"84.9951\">P1</text></a><!--MD5=[14e3b0961a2654348d326746436168a1]\n",
       "cluster E6--><a href=\"psysml:9d4f5989-8a3e-4397-a866-52670c662db3\" target=\"_top\" title=\"psysml:9d4f5989-8a3e-4397-a866-52670c662db3\" xlink:actuate=\"onRequest\" xlink:href=\"psysml:9d4f5989-8a3e-4397-a866-52670c662db3\" xlink:show=\"new\" xlink:title=\"psysml:9d4f5989-8a3e-4397-a866-52670c662db3\" xlink:type=\"simple\"><polygon fill=\"#FFFFFF\" points=\"142,211,168,211,175,233.2969,240,233.2969,240,308,142,308,142,211\" style=\"stroke: #000000; stroke-width: 1.5;\"/><line style=\"stroke: #000000; stroke-width: 1.5;\" x1=\"142\" x2=\"175\" y1=\"233.2969\" y2=\"233.2969\"/><text fill=\"#000000\" font-family=\"sans-serif\" font-size=\"14\" font-weight=\"bold\" lengthAdjust=\"spacingAndGlyphs\" textLength=\"20\" x=\"146\" y=\"225.9951\">P3</text></a><!--MD5=[7f149f147074ac12df2cb0a7728a5fb0]\n",
       "cluster E9--><a href=\"psysml:5979dd71-75f1-4b72-84ed-7ab4ecfce4b9\" target=\"_top\" title=\"psysml:5979dd71-75f1-4b72-84ed-7ab4ecfce4b9\" xlink:actuate=\"onRequest\" xlink:href=\"psysml:5979dd71-75f1-4b72-84ed-7ab4ecfce4b9\" xlink:show=\"new\" xlink:title=\"psysml:5979dd71-75f1-4b72-84ed-7ab4ecfce4b9\" xlink:type=\"simple\"><polygon fill=\"#FFFFFF\" points=\"40,49,66,49,73,71.2969,114,71.2969,114,146,40,146,40,49\" style=\"stroke: #000000; stroke-width: 1.5;\"/><line style=\"stroke: #000000; stroke-width: 1.5;\" x1=\"40\" x2=\"73\" y1=\"71.2969\" y2=\"71.2969\"/><text fill=\"#000000\" font-family=\"sans-serif\" font-size=\"14\" font-weight=\"bold\" lengthAdjust=\"spacingAndGlyphs\" textLength=\"20\" x=\"44\" y=\"63.9951\">P4</text></a><!--MD5=[270fce915f116d4de14055a7c1d9a0f3]\n",
       "class E5--><a href=\"psysml:0c75b404-ec52-4836-8cbb-5da98c4a5930\" target=\"_top\" title=\"psysml:0c75b404-ec52-4836-8cbb-5da98c4a5930\" xlink:actuate=\"onRequest\" xlink:href=\"psysml:0c75b404-ec52-4836-8cbb-5da98c4a5930\" xlink:show=\"new\" xlink:title=\"psysml:0c75b404-ec52-4836-8cbb-5da98c4a5930\" xlink:type=\"simple\"><rect fill=\"#FFFFFF\" height=\"45.9375\" id=\"E5\" rx=\"10\" ry=\"10\" style=\"stroke: #383838; stroke-width: 1.5;\" width=\"42\" x=\"56\" y=\"165\"/><text fill=\"#000000\" font-family=\"sans-serif\" font-size=\"12\" font-style=\"italic\" lengthAdjust=\"spacingAndGlyphs\" textLength=\"40\" x=\"57\" y=\"181.1387\">«part»</text><text fill=\"#000000\" font-family=\"sans-serif\" font-size=\"12\" lengthAdjust=\"spacingAndGlyphs\" textLength=\"22\" x=\"66\" y=\"195.1074\">x: A</text><line style=\"stroke: #383838; stroke-width: 1.5;\" x1=\"57\" x2=\"97\" y1=\"202.9375\" y2=\"202.9375\"/></a><!--MD5=[b9389687b975829384b498ac4b7476b2]\n",
       "class E8--><a href=\"psysml:f43ee61a-1d92-4bcd-a6ef-463238303c09\" target=\"_top\" title=\"psysml:f43ee61a-1d92-4bcd-a6ef-463238303c09\" xlink:actuate=\"onRequest\" xlink:href=\"psysml:f43ee61a-1d92-4bcd-a6ef-463238303c09\" xlink:show=\"new\" xlink:title=\"psysml:f43ee61a-1d92-4bcd-a6ef-463238303c09\" xlink:type=\"simple\"><rect fill=\"#FFFFFF\" height=\"45.9375\" id=\"E8\" rx=\"10\" ry=\"10\" style=\"stroke: #383838; stroke-width: 1.5;\" width=\"42\" x=\"56\" y=\"246\"/><text fill=\"#000000\" font-family=\"sans-serif\" font-size=\"12\" font-style=\"italic\" lengthAdjust=\"spacingAndGlyphs\" textLength=\"40\" x=\"57\" y=\"262.1387\">«part»</text><text fill=\"#000000\" font-family=\"sans-serif\" font-size=\"12\" lengthAdjust=\"spacingAndGlyphs\" textLength=\"21\" x=\"66.5\" y=\"276.1074\">z: B</text><line style=\"stroke: #383838; stroke-width: 1.5;\" x1=\"57\" x2=\"97\" y1=\"283.9375\" y2=\"283.9375\"/></a><!--MD5=[09b614a08d8cba4a07c9adeb5e0fee81]\n",
       "class E3--><a href=\"psysml:c33e3566-7ac4-4487-b3df-3cd0148aac2a\" target=\"_top\" title=\"psysml:c33e3566-7ac4-4487-b3df-3cd0148aac2a\" xlink:actuate=\"onRequest\" xlink:href=\"psysml:c33e3566-7ac4-4487-b3df-3cd0148aac2a\" xlink:show=\"new\" xlink:title=\"psysml:c33e3566-7ac4-4487-b3df-3cd0148aac2a\" xlink:type=\"simple\"><rect fill=\"#FFFFFF\" height=\"45.9375\" id=\"E3\" style=\"stroke: #383838; stroke-width: 1.5;\" width=\"66\" x=\"158\" y=\"105\"/><text fill=\"#000000\" font-family=\"sans-serif\" font-size=\"12\" font-style=\"italic\" lengthAdjust=\"spacingAndGlyphs\" textLength=\"64\" x=\"159\" y=\"121.1387\">«part def»</text><text fill=\"#000000\" font-family=\"sans-serif\" font-size=\"12\" lengthAdjust=\"spacingAndGlyphs\" textLength=\"8\" x=\"187\" y=\"135.1074\">A</text><line style=\"stroke: #383838; stroke-width: 1.5;\" x1=\"159\" x2=\"223\" y1=\"142.9375\" y2=\"142.9375\"/></a><a href=\"psysml:b9d82d12-80d8-4b65-b32b-0d4caf256cd7\" target=\"_top\" title=\"psysml:b9d82d12-80d8-4b65-b32b-0d4caf256cd7\" xlink:actuate=\"onRequest\" xlink:href=\"psysml:b9d82d12-80d8-4b65-b32b-0d4caf256cd7\" xlink:show=\"new\" xlink:title=\"psysml:b9d82d12-80d8-4b65-b32b-0d4caf256cd7\" xlink:type=\"simple\"><polygon fill=\"#FFFFFF\" points=\"57,327.5,83,327.5,90,349.7969,97,349.7969,97,380.0938,57,380.0938,57,327.5\" style=\"stroke: #000000; stroke-width: 1.5;\"/><line style=\"stroke: #000000; stroke-width: 1.5;\" x1=\"57\" x2=\"90\" y1=\"349.7969\" y2=\"349.7969\"/><text fill=\"#000000\" font-family=\"sans-serif\" font-size=\"14\" font-weight=\"bold\" lengthAdjust=\"spacingAndGlyphs\" textLength=\"20\" x=\"61\" y=\"342.4951\">P2</text></a><!--MD5=[2156ba9850f5573cc1fc38a6a4b2f02b]\n",
       "class E7--><a href=\"psysml:70818b0d-1657-43d7-b586-0302676d35dd\" target=\"_top\" title=\"psysml:70818b0d-1657-43d7-b586-0302676d35dd\" xlink:actuate=\"onRequest\" xlink:href=\"psysml:70818b0d-1657-43d7-b586-0302676d35dd\" xlink:show=\"new\" xlink:title=\"psysml:70818b0d-1657-43d7-b586-0302676d35dd\" xlink:type=\"simple\"><rect fill=\"#FFFFFF\" height=\"45.9375\" id=\"E7\" style=\"stroke: #383838; stroke-width: 1.5;\" width=\"66\" x=\"158\" y=\"246\"/><text fill=\"#000000\" font-family=\"sans-serif\" font-size=\"12\" font-style=\"italic\" lengthAdjust=\"spacingAndGlyphs\" textLength=\"64\" x=\"159\" y=\"262.1387\">«part def»</text><text fill=\"#000000\" font-family=\"sans-serif\" font-size=\"12\" lengthAdjust=\"spacingAndGlyphs\" textLength=\"8\" x=\"187\" y=\"276.1074\">B</text><line style=\"stroke: #383838; stroke-width: 1.5;\" x1=\"159\" x2=\"223\" y1=\"283.9375\" y2=\"283.9375\"/></a><!--MD5=[96f4274e9e20536e775497830990834d]\n",
       "class E10--><a href=\"psysml:e183bef4-e50f-4a79-aea2-e72f91ae33b1\" target=\"_top\" title=\"psysml:e183bef4-e50f-4a79-aea2-e72f91ae33b1\" xlink:actuate=\"onRequest\" xlink:href=\"psysml:e183bef4-e50f-4a79-aea2-e72f91ae33b1\" xlink:show=\"new\" xlink:title=\"psysml:e183bef4-e50f-4a79-aea2-e72f91ae33b1\" xlink:type=\"simple\"><rect fill=\"#FFFFFF\" height=\"45.9375\" id=\"E10\" rx=\"10\" ry=\"10\" style=\"stroke: #383838; stroke-width: 1.5;\" width=\"42\" x=\"56\" y=\"84\"/><text fill=\"#000000\" font-family=\"sans-serif\" font-size=\"12\" font-style=\"italic\" lengthAdjust=\"spacingAndGlyphs\" textLength=\"40\" x=\"57\" y=\"100.1387\">«part»</text><text fill=\"#000000\" font-family=\"sans-serif\" font-size=\"12\" lengthAdjust=\"spacingAndGlyphs\" textLength=\"29\" x=\"62.5\" y=\"114.1074\">z1: A</text><line style=\"stroke: #383838; stroke-width: 1.5;\" x1=\"57\" x2=\"97\" y1=\"121.9375\" y2=\"121.9375\"/></a><!--MD5=[e9be52314489bd878ff4c7144b63c9e1]\n",
       "link E5 to E3--><a href=\"psysml:f8be15bd-6ead-4f94-a81d-297834d3bff2\" target=\"_top\" title=\"psysml:f8be15bd-6ead-4f94-a81d-297834d3bff2\" xlink:actuate=\"onRequest\" xlink:href=\"psysml:f8be15bd-6ead-4f94-a81d-297834d3bff2\" xlink:show=\"new\" xlink:title=\"psysml:f8be15bd-6ead-4f94-a81d-297834d3bff2\" xlink:type=\"simple\"><path d=\"M98.02,177.27 C109.7,171.02 125,162.82 139.76,154.91 \" fill=\"none\" id=\"E5-&gt;E3\" style=\"stroke: #383838; stroke-width: 1.0;\"/><polygon fill=\"#FFFFFF\" points=\"157.86,145.22,144.4167,160.362,137.8062,148.0209,157.86,145.22\" style=\"stroke: #383838; stroke-width: 1.0;\"/><ellipse cx=\"138.4478\" cy=\"161.2904\" fill=\"#383838\" rx=\"2\" ry=\"2\" style=\"stroke: #383838; stroke-width: 1.0;\"/><ellipse cx=\"133.726\" cy=\"152.4754\" fill=\"#383838\" rx=\"2\" ry=\"2\" style=\"stroke: #383838; stroke-width: 1.0;\"/></a><!--MD5=[bfa3c8b0d15052fdf50ae9310b491027]\n",
       "link E8 to E7--><a href=\"psysml:2890fdf6-d136-470e-95db-a042243a6f10\" target=\"_top\" title=\"psysml:2890fdf6-d136-470e-95db-a042243a6f10\" xlink:actuate=\"onRequest\" xlink:href=\"psysml:2890fdf6-d136-470e-95db-a042243a6f10\" xlink:show=\"new\" xlink:title=\"psysml:2890fdf6-d136-470e-95db-a042243a6f10\" xlink:type=\"simple\"><path d=\"M98.02,269 C109.18,269 123.65,269 137.79,269 \" fill=\"none\" id=\"E8-&gt;E7\" style=\"stroke: #383838; stroke-width: 1.0;\"/><polygon fill=\"#FFFFFF\" points=\"157.86,269,138.86,276,138.86,262,157.86,269\" style=\"stroke: #383838; stroke-width: 1.0;\"/><ellipse cx=\"133.16\" cy=\"274\" fill=\"#383838\" rx=\"2\" ry=\"2\" style=\"stroke: #383838; stroke-width: 1.0;\"/><ellipse cx=\"133.16\" cy=\"264\" fill=\"#383838\" rx=\"2\" ry=\"2\" style=\"stroke: #383838; stroke-width: 1.0;\"/></a><!--MD5=[feeac5eb423634930294aa81f2d25a4c]\n",
       "link E10 to E3--><a href=\"psysml:25a6672d-e3f3-453e-a929-7fba59fa68e7\" target=\"_top\" title=\"psysml:25a6672d-e3f3-453e-a929-7fba59fa68e7\" xlink:actuate=\"onRequest\" xlink:href=\"psysml:25a6672d-e3f3-453e-a929-7fba59fa68e7\" xlink:show=\"new\" xlink:title=\"psysml:25a6672d-e3f3-453e-a929-7fba59fa68e7\" xlink:type=\"simple\"><path d=\"M98.02,110.75 C109.18,112.85 123.65,115.56 137.79,118.21 \" fill=\"none\" id=\"E10-&gt;E3\" style=\"stroke: #383838; stroke-width: 1.0;\"/><polygon fill=\"#FFFFFF\" points=\"157.86,121.97,137.8954,125.3486,140.4754,111.5884,157.86,121.97\" style=\"stroke: #383838; stroke-width: 1.0;\"/><ellipse cx=\"132.6616\" cy=\"122.3324\" fill=\"#383838\" rx=\"2\" ry=\"2\" style=\"stroke: #383838; stroke-width: 1.0;\"/><ellipse cx=\"134.5045\" cy=\"112.5037\" fill=\"#383838\" rx=\"2\" ry=\"2\" style=\"stroke: #383838; stroke-width: 1.0;\"/></a><!--MD5=[9d969ca62f501c1f977a39c248c51ed9]\n",
       "@startuml\r\n",
       "left to right direction\r\n",
       "skinparam monochrome true\r\n",
       "skinparam classbackgroundcolor white\r\n",
       "skinparam shadowing false\r\n",
       "skinparam wrapWidth 300\r\n",
       "hide circle\r\n",
       "\r\n",
       "package \"PrivateImportTest\" as E1  [[psysml:90f2a1bf-87a7-47cf-b7dc-49b41c6fd8e7 ]]  {\r\n",
       "package \"P1\" as E2  [[psysml:16275eaf-61bd-4171-b64d-9c4aa1fed5b3 ]]  {\r\n",
       "comp def \"A\" as E3  <<(T,blue) part def>> [[psysml:c33e3566-7ac4-4487-b3df-3cd0148aac2a ]] {\r\n",
       "}\r\n",
       "}\r\n",
       "package \"P2\" as E4  [[psysml:b9d82d12-80d8-4b65-b32b-0d4caf256cd7 ]]  {\r\n",
       "}\r\n",
       "comp usage \"x: A\" as E5  <<(T,blue) part>> [[psysml:0c75b404-ec52-4836-8cbb-5da98c4a5930 ]] {\r\n",
       "}\r\n",
       "package \"P3\" as E6  [[psysml:9d4f5989-8a3e-4397-a866-52670c662db3 ]]  {\r\n",
       "comp def \"B\" as E7  <<(T,blue) part def>> [[psysml:70818b0d-1657-43d7-b586-0302676d35dd ]] {\r\n",
       "}\r\n",
       "E5 - -:|> E3 [[psysml:f8be15bd-6ead-4f94-a81d-297834d3bff2 ]] \r\n",
       "}\r\n",
       "comp usage \"z: B\" as E8  <<(T,blue) part>> [[psysml:f43ee61a-1d92-4bcd-a6ef-463238303c09 ]] {\r\n",
       "}\r\n",
       "package \"P4\" as E9  [[psysml:5979dd71-75f1-4b72-84ed-7ab4ecfce4b9 ]]  {\r\n",
       "comp usage \"z1: A\" as E10  <<(T,blue) part>> [[psysml:e183bef4-e50f-4a79-aea2-e72f91ae33b1 ]] {\r\n",
       "}\r\n",
       "E8 - -:|> E7 [[psysml:2890fdf6-d136-470e-95db-a042243a6f10 ]] \r\n",
       "E10 - -:|> E3 [[psysml:25a6672d-e3f3-453e-a929-7fba59fa68e7 ]] \r\n",
       "}\r\n",
       "}\r\n",
       "@enduml\r\n",
       "\n",
       "PlantUML version 1.2020.13(Sat Jun 13 12:26:38 UTC 2020)\n",
       "(EPL source distribution)\n",
       "Java Runtime: OpenJDK Runtime Environment\n",
       "JVM: OpenJDK 64-Bit Server VM\n",
       "Default Encoding: UTF-8\n",
       "Language: en\n",
       "Country: null\n",
       "--></g></svg>"
      ]
     },
     "execution_count": 16,
     "metadata": {},
     "output_type": "execute_result"
    }
   ],
   "source": [
    "%viz --style=\"LR\" --view=\"Default\" \"PrivateImportTest\""
   ]
  },
  {
   "cell_type": "code",
   "execution_count": 17,
   "id": "989e0a87",
   "metadata": {
    "execution": {
     "iopub.execute_input": "2021-08-04T06:27:55.144937Z",
     "iopub.status.busy": "2021-08-04T06:27:55.144337Z",
     "iopub.status.idle": "2021-08-04T06:27:55.181663Z",
     "shell.execute_reply": "2021-08-04T06:27:55.181272Z"
    }
   },
   "outputs": [
    {
     "data": {
      "image/svg+xml": [
       "<?xml version=\"1.0\" encoding=\"UTF-8\" standalone=\"no\"?><svg xmlns=\"http://www.w3.org/2000/svg\" xmlns:xlink=\"http://www.w3.org/1999/xlink\" contentScriptType=\"application/ecmascript\" contentStyleType=\"text/css\" height=\"409px\" preserveAspectRatio=\"none\" style=\"width:286px;height:409px;\" version=\"1.1\" viewBox=\"0 0 286 409\" width=\"286px\" zoomAndPan=\"magnify\"><defs/><g><!--MD5=[fbc87193dbaf4d95561dea2c320d4a47]\n",
       "cluster E1--><a href=\"psysml:90f2a1bf-87a7-47cf-b7dc-49b41c6fd8e7\" target=\"_top\" title=\"psysml:90f2a1bf-87a7-47cf-b7dc-49b41c6fd8e7\" xlink:actuate=\"onRequest\" xlink:href=\"psysml:90f2a1bf-87a7-47cf-b7dc-49b41c6fd8e7\" xlink:show=\"new\" xlink:title=\"psysml:90f2a1bf-87a7-47cf-b7dc-49b41c6fd8e7\" xlink:type=\"simple\"><polygon fill=\"#FFFFFF\" points=\"16,6,163,6,170,28.2969,264,28.2969,264,397,16,397,16,6\" style=\"stroke: #000000; stroke-width: 1.5;\"/><line style=\"stroke: #000000; stroke-width: 1.5;\" x1=\"16\" x2=\"170\" y1=\"28.2969\" y2=\"28.2969\"/><text fill=\"#000000\" font-family=\"sans-serif\" font-size=\"14\" font-weight=\"bold\" lengthAdjust=\"spacingAndGlyphs\" textLength=\"141\" x=\"20\" y=\"20.9951\">PrivateImportTest</text></a><!--MD5=[e4f7fae6ed58524ba242bb0b0d3be6b7]\n",
       "cluster E2--><a href=\"psysml:16275eaf-61bd-4171-b64d-9c4aa1fed5b3\" target=\"_top\" title=\"psysml:16275eaf-61bd-4171-b64d-9c4aa1fed5b3\" xlink:actuate=\"onRequest\" xlink:href=\"psysml:16275eaf-61bd-4171-b64d-9c4aa1fed5b3\" xlink:show=\"new\" xlink:title=\"psysml:16275eaf-61bd-4171-b64d-9c4aa1fed5b3\" xlink:type=\"simple\"><polygon fill=\"#FFFFFF\" points=\"142,70,168,70,175,92.2969,240,92.2969,240,167,142,167,142,70\" style=\"stroke: #000000; stroke-width: 1.5;\"/><line style=\"stroke: #000000; stroke-width: 1.5;\" x1=\"142\" x2=\"175\" y1=\"92.2969\" y2=\"92.2969\"/><text fill=\"#000000\" font-family=\"sans-serif\" font-size=\"14\" font-weight=\"bold\" lengthAdjust=\"spacingAndGlyphs\" textLength=\"20\" x=\"146\" y=\"84.9951\">P1</text></a><!--MD5=[14e3b0961a2654348d326746436168a1]\n",
       "cluster E6--><a href=\"psysml:9d4f5989-8a3e-4397-a866-52670c662db3\" target=\"_top\" title=\"psysml:9d4f5989-8a3e-4397-a866-52670c662db3\" xlink:actuate=\"onRequest\" xlink:href=\"psysml:9d4f5989-8a3e-4397-a866-52670c662db3\" xlink:show=\"new\" xlink:title=\"psysml:9d4f5989-8a3e-4397-a866-52670c662db3\" xlink:type=\"simple\"><polygon fill=\"#FFFFFF\" points=\"142,211,168,211,175,233.2969,240,233.2969,240,308,142,308,142,211\" style=\"stroke: #000000; stroke-width: 1.5;\"/><line style=\"stroke: #000000; stroke-width: 1.5;\" x1=\"142\" x2=\"175\" y1=\"233.2969\" y2=\"233.2969\"/><text fill=\"#000000\" font-family=\"sans-serif\" font-size=\"14\" font-weight=\"bold\" lengthAdjust=\"spacingAndGlyphs\" textLength=\"20\" x=\"146\" y=\"225.9951\">P3</text></a><!--MD5=[7f149f147074ac12df2cb0a7728a5fb0]\n",
       "cluster E9--><a href=\"psysml:5979dd71-75f1-4b72-84ed-7ab4ecfce4b9\" target=\"_top\" title=\"psysml:5979dd71-75f1-4b72-84ed-7ab4ecfce4b9\" xlink:actuate=\"onRequest\" xlink:href=\"psysml:5979dd71-75f1-4b72-84ed-7ab4ecfce4b9\" xlink:show=\"new\" xlink:title=\"psysml:5979dd71-75f1-4b72-84ed-7ab4ecfce4b9\" xlink:type=\"simple\"><polygon fill=\"#FFFFFF\" points=\"40,49,66,49,73,71.2969,114,71.2969,114,146,40,146,40,49\" style=\"stroke: #000000; stroke-width: 1.5;\"/><line style=\"stroke: #000000; stroke-width: 1.5;\" x1=\"40\" x2=\"73\" y1=\"71.2969\" y2=\"71.2969\"/><text fill=\"#000000\" font-family=\"sans-serif\" font-size=\"14\" font-weight=\"bold\" lengthAdjust=\"spacingAndGlyphs\" textLength=\"20\" x=\"44\" y=\"63.9951\">P4</text></a><!--MD5=[270fce915f116d4de14055a7c1d9a0f3]\n",
       "class E5--><a href=\"psysml:0c75b404-ec52-4836-8cbb-5da98c4a5930\" target=\"_top\" title=\"psysml:0c75b404-ec52-4836-8cbb-5da98c4a5930\" xlink:actuate=\"onRequest\" xlink:href=\"psysml:0c75b404-ec52-4836-8cbb-5da98c4a5930\" xlink:show=\"new\" xlink:title=\"psysml:0c75b404-ec52-4836-8cbb-5da98c4a5930\" xlink:type=\"simple\"><rect fill=\"#FFFFFF\" height=\"45.9375\" id=\"E5\" rx=\"10\" ry=\"10\" style=\"stroke: #383838; stroke-width: 1.5;\" width=\"42\" x=\"56\" y=\"165\"/><text fill=\"#000000\" font-family=\"sans-serif\" font-size=\"12\" font-style=\"italic\" lengthAdjust=\"spacingAndGlyphs\" textLength=\"40\" x=\"57\" y=\"181.1387\">«part»</text><text fill=\"#000000\" font-family=\"sans-serif\" font-size=\"12\" lengthAdjust=\"spacingAndGlyphs\" textLength=\"22\" x=\"66\" y=\"195.1074\">x: A</text><line style=\"stroke: #383838; stroke-width: 1.5;\" x1=\"57\" x2=\"97\" y1=\"202.9375\" y2=\"202.9375\"/></a><!--MD5=[b9389687b975829384b498ac4b7476b2]\n",
       "class E8--><a href=\"psysml:f43ee61a-1d92-4bcd-a6ef-463238303c09\" target=\"_top\" title=\"psysml:f43ee61a-1d92-4bcd-a6ef-463238303c09\" xlink:actuate=\"onRequest\" xlink:href=\"psysml:f43ee61a-1d92-4bcd-a6ef-463238303c09\" xlink:show=\"new\" xlink:title=\"psysml:f43ee61a-1d92-4bcd-a6ef-463238303c09\" xlink:type=\"simple\"><rect fill=\"#FFFFFF\" height=\"45.9375\" id=\"E8\" rx=\"10\" ry=\"10\" style=\"stroke: #383838; stroke-width: 1.5;\" width=\"42\" x=\"56\" y=\"246\"/><text fill=\"#000000\" font-family=\"sans-serif\" font-size=\"12\" font-style=\"italic\" lengthAdjust=\"spacingAndGlyphs\" textLength=\"40\" x=\"57\" y=\"262.1387\">«part»</text><text fill=\"#000000\" font-family=\"sans-serif\" font-size=\"12\" lengthAdjust=\"spacingAndGlyphs\" textLength=\"21\" x=\"66.5\" y=\"276.1074\">z: B</text><line style=\"stroke: #383838; stroke-width: 1.5;\" x1=\"57\" x2=\"97\" y1=\"283.9375\" y2=\"283.9375\"/></a><!--MD5=[09b614a08d8cba4a07c9adeb5e0fee81]\n",
       "class E3--><a href=\"psysml:c33e3566-7ac4-4487-b3df-3cd0148aac2a\" target=\"_top\" title=\"psysml:c33e3566-7ac4-4487-b3df-3cd0148aac2a\" xlink:actuate=\"onRequest\" xlink:href=\"psysml:c33e3566-7ac4-4487-b3df-3cd0148aac2a\" xlink:show=\"new\" xlink:title=\"psysml:c33e3566-7ac4-4487-b3df-3cd0148aac2a\" xlink:type=\"simple\"><rect fill=\"#FFFFFF\" height=\"45.9375\" id=\"E3\" style=\"stroke: #383838; stroke-width: 1.5;\" width=\"66\" x=\"158\" y=\"105\"/><text fill=\"#000000\" font-family=\"sans-serif\" font-size=\"12\" font-style=\"italic\" lengthAdjust=\"spacingAndGlyphs\" textLength=\"64\" x=\"159\" y=\"121.1387\">«part def»</text><text fill=\"#000000\" font-family=\"sans-serif\" font-size=\"12\" lengthAdjust=\"spacingAndGlyphs\" textLength=\"8\" x=\"187\" y=\"135.1074\">A</text><line style=\"stroke: #383838; stroke-width: 1.5;\" x1=\"159\" x2=\"223\" y1=\"142.9375\" y2=\"142.9375\"/></a><a href=\"psysml:b9d82d12-80d8-4b65-b32b-0d4caf256cd7\" target=\"_top\" title=\"psysml:b9d82d12-80d8-4b65-b32b-0d4caf256cd7\" xlink:actuate=\"onRequest\" xlink:href=\"psysml:b9d82d12-80d8-4b65-b32b-0d4caf256cd7\" xlink:show=\"new\" xlink:title=\"psysml:b9d82d12-80d8-4b65-b32b-0d4caf256cd7\" xlink:type=\"simple\"><polygon fill=\"#FFFFFF\" points=\"57,327.5,83,327.5,90,349.7969,97,349.7969,97,380.0938,57,380.0938,57,327.5\" style=\"stroke: #000000; stroke-width: 1.5;\"/><line style=\"stroke: #000000; stroke-width: 1.5;\" x1=\"57\" x2=\"90\" y1=\"349.7969\" y2=\"349.7969\"/><text fill=\"#000000\" font-family=\"sans-serif\" font-size=\"14\" font-weight=\"bold\" lengthAdjust=\"spacingAndGlyphs\" textLength=\"20\" x=\"61\" y=\"342.4951\">P2</text></a><!--MD5=[2156ba9850f5573cc1fc38a6a4b2f02b]\n",
       "class E7--><a href=\"psysml:70818b0d-1657-43d7-b586-0302676d35dd\" target=\"_top\" title=\"psysml:70818b0d-1657-43d7-b586-0302676d35dd\" xlink:actuate=\"onRequest\" xlink:href=\"psysml:70818b0d-1657-43d7-b586-0302676d35dd\" xlink:show=\"new\" xlink:title=\"psysml:70818b0d-1657-43d7-b586-0302676d35dd\" xlink:type=\"simple\"><rect fill=\"#FFFFFF\" height=\"45.9375\" id=\"E7\" style=\"stroke: #383838; stroke-width: 1.5;\" width=\"66\" x=\"158\" y=\"246\"/><text fill=\"#000000\" font-family=\"sans-serif\" font-size=\"12\" font-style=\"italic\" lengthAdjust=\"spacingAndGlyphs\" textLength=\"64\" x=\"159\" y=\"262.1387\">«part def»</text><text fill=\"#000000\" font-family=\"sans-serif\" font-size=\"12\" lengthAdjust=\"spacingAndGlyphs\" textLength=\"8\" x=\"187\" y=\"276.1074\">B</text><line style=\"stroke: #383838; stroke-width: 1.5;\" x1=\"159\" x2=\"223\" y1=\"283.9375\" y2=\"283.9375\"/></a><!--MD5=[96f4274e9e20536e775497830990834d]\n",
       "class E10--><a href=\"psysml:e183bef4-e50f-4a79-aea2-e72f91ae33b1\" target=\"_top\" title=\"psysml:e183bef4-e50f-4a79-aea2-e72f91ae33b1\" xlink:actuate=\"onRequest\" xlink:href=\"psysml:e183bef4-e50f-4a79-aea2-e72f91ae33b1\" xlink:show=\"new\" xlink:title=\"psysml:e183bef4-e50f-4a79-aea2-e72f91ae33b1\" xlink:type=\"simple\"><rect fill=\"#FFFFFF\" height=\"45.9375\" id=\"E10\" rx=\"10\" ry=\"10\" style=\"stroke: #383838; stroke-width: 1.5;\" width=\"42\" x=\"56\" y=\"84\"/><text fill=\"#000000\" font-family=\"sans-serif\" font-size=\"12\" font-style=\"italic\" lengthAdjust=\"spacingAndGlyphs\" textLength=\"40\" x=\"57\" y=\"100.1387\">«part»</text><text fill=\"#000000\" font-family=\"sans-serif\" font-size=\"12\" lengthAdjust=\"spacingAndGlyphs\" textLength=\"29\" x=\"62.5\" y=\"114.1074\">z1: A</text><line style=\"stroke: #383838; stroke-width: 1.5;\" x1=\"57\" x2=\"97\" y1=\"121.9375\" y2=\"121.9375\"/></a><!--MD5=[e9be52314489bd878ff4c7144b63c9e1]\n",
       "link E5 to E3--><a href=\"psysml:f8be15bd-6ead-4f94-a81d-297834d3bff2\" target=\"_top\" title=\"psysml:f8be15bd-6ead-4f94-a81d-297834d3bff2\" xlink:actuate=\"onRequest\" xlink:href=\"psysml:f8be15bd-6ead-4f94-a81d-297834d3bff2\" xlink:show=\"new\" xlink:title=\"psysml:f8be15bd-6ead-4f94-a81d-297834d3bff2\" xlink:type=\"simple\"><path d=\"M98.02,177.27 C109.7,171.02 125,162.82 139.76,154.91 \" fill=\"none\" id=\"E5-&gt;E3\" style=\"stroke: #383838; stroke-width: 1.0;\"/><polygon fill=\"#FFFFFF\" points=\"157.86,145.22,144.4167,160.362,137.8062,148.0209,157.86,145.22\" style=\"stroke: #383838; stroke-width: 1.0;\"/><ellipse cx=\"138.4478\" cy=\"161.2904\" fill=\"#383838\" rx=\"2\" ry=\"2\" style=\"stroke: #383838; stroke-width: 1.0;\"/><ellipse cx=\"133.726\" cy=\"152.4754\" fill=\"#383838\" rx=\"2\" ry=\"2\" style=\"stroke: #383838; stroke-width: 1.0;\"/></a><!--MD5=[bfa3c8b0d15052fdf50ae9310b491027]\n",
       "link E8 to E7--><a href=\"psysml:2890fdf6-d136-470e-95db-a042243a6f10\" target=\"_top\" title=\"psysml:2890fdf6-d136-470e-95db-a042243a6f10\" xlink:actuate=\"onRequest\" xlink:href=\"psysml:2890fdf6-d136-470e-95db-a042243a6f10\" xlink:show=\"new\" xlink:title=\"psysml:2890fdf6-d136-470e-95db-a042243a6f10\" xlink:type=\"simple\"><path d=\"M98.02,269 C109.18,269 123.65,269 137.79,269 \" fill=\"none\" id=\"E8-&gt;E7\" style=\"stroke: #383838; stroke-width: 1.0;\"/><polygon fill=\"#FFFFFF\" points=\"157.86,269,138.86,276,138.86,262,157.86,269\" style=\"stroke: #383838; stroke-width: 1.0;\"/><ellipse cx=\"133.16\" cy=\"274\" fill=\"#383838\" rx=\"2\" ry=\"2\" style=\"stroke: #383838; stroke-width: 1.0;\"/><ellipse cx=\"133.16\" cy=\"264\" fill=\"#383838\" rx=\"2\" ry=\"2\" style=\"stroke: #383838; stroke-width: 1.0;\"/></a><!--MD5=[feeac5eb423634930294aa81f2d25a4c]\n",
       "link E10 to E3--><a href=\"psysml:25a6672d-e3f3-453e-a929-7fba59fa68e7\" target=\"_top\" title=\"psysml:25a6672d-e3f3-453e-a929-7fba59fa68e7\" xlink:actuate=\"onRequest\" xlink:href=\"psysml:25a6672d-e3f3-453e-a929-7fba59fa68e7\" xlink:show=\"new\" xlink:title=\"psysml:25a6672d-e3f3-453e-a929-7fba59fa68e7\" xlink:type=\"simple\"><path d=\"M98.02,110.75 C109.18,112.85 123.65,115.56 137.79,118.21 \" fill=\"none\" id=\"E10-&gt;E3\" style=\"stroke: #383838; stroke-width: 1.0;\"/><polygon fill=\"#FFFFFF\" points=\"157.86,121.97,137.8954,125.3486,140.4754,111.5884,157.86,121.97\" style=\"stroke: #383838; stroke-width: 1.0;\"/><ellipse cx=\"132.6616\" cy=\"122.3324\" fill=\"#383838\" rx=\"2\" ry=\"2\" style=\"stroke: #383838; stroke-width: 1.0;\"/><ellipse cx=\"134.5045\" cy=\"112.5037\" fill=\"#383838\" rx=\"2\" ry=\"2\" style=\"stroke: #383838; stroke-width: 1.0;\"/></a><!--MD5=[9d969ca62f501c1f977a39c248c51ed9]\n",
       "@startuml\r\n",
       "left to right direction\r\n",
       "skinparam monochrome true\r\n",
       "skinparam classbackgroundcolor white\r\n",
       "skinparam shadowing false\r\n",
       "skinparam wrapWidth 300\r\n",
       "hide circle\r\n",
       "\r\n",
       "package \"PrivateImportTest\" as E1  [[psysml:90f2a1bf-87a7-47cf-b7dc-49b41c6fd8e7 ]]  {\r\n",
       "package \"P1\" as E2  [[psysml:16275eaf-61bd-4171-b64d-9c4aa1fed5b3 ]]  {\r\n",
       "comp def \"A\" as E3  <<(T,blue) part def>> [[psysml:c33e3566-7ac4-4487-b3df-3cd0148aac2a ]] {\r\n",
       "}\r\n",
       "}\r\n",
       "package \"P2\" as E4  [[psysml:b9d82d12-80d8-4b65-b32b-0d4caf256cd7 ]]  {\r\n",
       "}\r\n",
       "comp usage \"x: A\" as E5  <<(T,blue) part>> [[psysml:0c75b404-ec52-4836-8cbb-5da98c4a5930 ]] {\r\n",
       "}\r\n",
       "package \"P3\" as E6  [[psysml:9d4f5989-8a3e-4397-a866-52670c662db3 ]]  {\r\n",
       "comp def \"B\" as E7  <<(T,blue) part def>> [[psysml:70818b0d-1657-43d7-b586-0302676d35dd ]] {\r\n",
       "}\r\n",
       "E5 - -:|> E3 [[psysml:f8be15bd-6ead-4f94-a81d-297834d3bff2 ]] \r\n",
       "}\r\n",
       "comp usage \"z: B\" as E8  <<(T,blue) part>> [[psysml:f43ee61a-1d92-4bcd-a6ef-463238303c09 ]] {\r\n",
       "}\r\n",
       "package \"P4\" as E9  [[psysml:5979dd71-75f1-4b72-84ed-7ab4ecfce4b9 ]]  {\r\n",
       "comp usage \"z1: A\" as E10  <<(T,blue) part>> [[psysml:e183bef4-e50f-4a79-aea2-e72f91ae33b1 ]] {\r\n",
       "}\r\n",
       "E8 - -:|> E7 [[psysml:2890fdf6-d136-470e-95db-a042243a6f10 ]] \r\n",
       "E10 - -:|> E3 [[psysml:25a6672d-e3f3-453e-a929-7fba59fa68e7 ]] \r\n",
       "}\r\n",
       "}\r\n",
       "@enduml\r\n",
       "\n",
       "PlantUML version 1.2020.13(Sat Jun 13 12:26:38 UTC 2020)\n",
       "(EPL source distribution)\n",
       "Java Runtime: OpenJDK Runtime Environment\n",
       "JVM: OpenJDK 64-Bit Server VM\n",
       "Default Encoding: UTF-8\n",
       "Language: en\n",
       "Country: null\n",
       "--></g></svg>"
      ]
     },
     "execution_count": 17,
     "metadata": {},
     "output_type": "execute_result"
    }
   ],
   "source": [
    "%viz --style=\"LR\" --view=\"Tree\" \"PrivateImportTest\""
   ]
  },
  {
   "cell_type": "code",
   "execution_count": 18,
   "id": "f7b0d4c7",
   "metadata": {
    "execution": {
     "iopub.execute_input": "2021-08-04T06:27:55.230018Z",
     "iopub.status.busy": "2021-08-04T06:27:55.229565Z",
     "iopub.status.idle": "2021-08-04T06:27:55.234877Z",
     "shell.execute_reply": "2021-08-04T06:27:55.235202Z"
    }
   },
   "outputs": [
    {
     "data": {
      "image/svg+xml": [
       "<?xml version=\"1.0\" encoding=\"UTF-8\" standalone=\"no\"?><svg xmlns=\"http://www.w3.org/2000/svg\" xmlns:xlink=\"http://www.w3.org/1999/xlink\" contentScriptType=\"application/ecmascript\" contentStyleType=\"text/css\" height=\"12px\" preserveAspectRatio=\"none\" style=\"width:12px;height:12px;\" version=\"1.1\" viewBox=\"0 0 12 12\" width=\"12px\" zoomAndPan=\"magnify\"><defs/><g><!--MD5=[19d285c9d72a204eba4e2cd117d745e8]\n",
       "@startuml\r\n",
       "left to right direction\r\n",
       "skinparam monochrome true\r\n",
       "skinparam classbackgroundcolor white\r\n",
       "skinparam shadowing false\r\n",
       "skinparam wrapWidth 300\r\n",
       "hide circle\r\n",
       "\r\n",
       "@enduml\r\n",
       "\n",
       "PlantUML version 1.2020.13(Sat Jun 13 12:26:38 UTC 2020)\n",
       "(EPL source distribution)\n",
       "Java Runtime: OpenJDK Runtime Environment\n",
       "JVM: OpenJDK 64-Bit Server VM\n",
       "Default Encoding: UTF-8\n",
       "Language: en\n",
       "Country: null\n",
       "--></g></svg>"
      ]
     },
     "execution_count": 18,
     "metadata": {},
     "output_type": "execute_result"
    }
   ],
   "source": [
    "%viz --style=\"LR\" --view=\"State\" \"PrivateImportTest\""
   ]
  },
  {
   "cell_type": "code",
   "execution_count": 19,
   "id": "4937ef55",
   "metadata": {
    "execution": {
     "iopub.execute_input": "2021-08-04T06:27:55.285583Z",
     "iopub.status.busy": "2021-08-04T06:27:55.285163Z",
     "iopub.status.idle": "2021-08-04T06:27:55.327795Z",
     "shell.execute_reply": "2021-08-04T06:27:55.327441Z"
    }
   },
   "outputs": [
    {
     "data": {
      "image/svg+xml": [
       "<?xml version=\"1.0\" encoding=\"UTF-8\" standalone=\"no\"?><svg xmlns=\"http://www.w3.org/2000/svg\" xmlns:xlink=\"http://www.w3.org/1999/xlink\" contentScriptType=\"application/ecmascript\" contentStyleType=\"text/css\" height=\"629px\" preserveAspectRatio=\"none\" style=\"width:195px;height:629px;\" version=\"1.1\" viewBox=\"0 0 195 629\" width=\"195px\" zoomAndPan=\"magnify\"><defs/><g><!--MD5=[fbc87193dbaf4d95561dea2c320d4a47]\n",
       "cluster E1--><a href=\"psysml:90f2a1bf-87a7-47cf-b7dc-49b41c6fd8e7\" target=\"_top\" title=\"psysml:90f2a1bf-87a7-47cf-b7dc-49b41c6fd8e7\" xlink:actuate=\"onRequest\" xlink:href=\"psysml:90f2a1bf-87a7-47cf-b7dc-49b41c6fd8e7\" xlink:show=\"new\" xlink:title=\"psysml:90f2a1bf-87a7-47cf-b7dc-49b41c6fd8e7\" xlink:type=\"simple\"><polygon fill=\"#FFFFFF\" points=\"16,6,163,6,170,28.2969,173,28.2969,173,617,16,617,16,6\" style=\"stroke: #000000; stroke-width: 1.5;\"/><line style=\"stroke: #000000; stroke-width: 1.5;\" x1=\"16\" x2=\"170\" y1=\"28.2969\" y2=\"28.2969\"/><text fill=\"#000000\" font-family=\"sans-serif\" font-size=\"14\" font-weight=\"bold\" lengthAdjust=\"spacingAndGlyphs\" textLength=\"141\" x=\"20\" y=\"20.9951\">PrivateImportTest</text></a><!--MD5=[e4f7fae6ed58524ba242bb0b0d3be6b7]\n",
       "cluster E2--><a href=\"psysml:16275eaf-61bd-4171-b64d-9c4aa1fed5b3\" target=\"_top\" title=\"psysml:16275eaf-61bd-4171-b64d-9c4aa1fed5b3\" xlink:actuate=\"onRequest\" xlink:href=\"psysml:16275eaf-61bd-4171-b64d-9c4aa1fed5b3\" xlink:show=\"new\" xlink:title=\"psysml:16275eaf-61bd-4171-b64d-9c4aa1fed5b3\" xlink:type=\"simple\"><polygon fill=\"#FFFFFF\" points=\"43,49,69,49,76,71.2969,146,71.2969,146,144,43,144,43,49\" style=\"stroke: #000000; stroke-width: 1.5;\"/><line style=\"stroke: #000000; stroke-width: 1.5;\" x1=\"43\" x2=\"76\" y1=\"71.2969\" y2=\"71.2969\"/><text fill=\"#000000\" font-family=\"sans-serif\" font-size=\"14\" font-weight=\"bold\" lengthAdjust=\"spacingAndGlyphs\" textLength=\"20\" x=\"47\" y=\"63.9951\">P1</text></a><!--MD5=[14e3b0961a2654348d326746436168a1]\n",
       "cluster E6--><a href=\"psysml:9d4f5989-8a3e-4397-a866-52670c662db3\" target=\"_top\" title=\"psysml:9d4f5989-8a3e-4397-a866-52670c662db3\" xlink:actuate=\"onRequest\" xlink:href=\"psysml:9d4f5989-8a3e-4397-a866-52670c662db3\" xlink:show=\"new\" xlink:title=\"psysml:9d4f5989-8a3e-4397-a866-52670c662db3\" xlink:type=\"simple\"><polygon fill=\"#FFFFFF\" points=\"43,168,69,168,76,190.2969,146,190.2969,146,263,43,263,43,168\" style=\"stroke: #000000; stroke-width: 1.5;\"/><line style=\"stroke: #000000; stroke-width: 1.5;\" x1=\"43\" x2=\"76\" y1=\"190.2969\" y2=\"190.2969\"/><text fill=\"#000000\" font-family=\"sans-serif\" font-size=\"14\" font-weight=\"bold\" lengthAdjust=\"spacingAndGlyphs\" textLength=\"20\" x=\"47\" y=\"182.9951\">P3</text></a><!--MD5=[7f149f147074ac12df2cb0a7728a5fb0]\n",
       "cluster E9--><a href=\"psysml:5979dd71-75f1-4b72-84ed-7ab4ecfce4b9\" target=\"_top\" title=\"psysml:5979dd71-75f1-4b72-84ed-7ab4ecfce4b9\" xlink:actuate=\"onRequest\" xlink:href=\"psysml:5979dd71-75f1-4b72-84ed-7ab4ecfce4b9\" xlink:show=\"new\" xlink:title=\"psysml:5979dd71-75f1-4b72-84ed-7ab4ecfce4b9\" xlink:type=\"simple\"><polygon fill=\"#FFFFFF\" points=\"53.5,287,79.5,287,86.5,309.2969,135.5,309.2969,135.5,378,53.5,378,53.5,287\" style=\"stroke: #000000; stroke-width: 1.5;\"/><line style=\"stroke: #000000; stroke-width: 1.5;\" x1=\"53.5\" x2=\"86.5\" y1=\"309.2969\" y2=\"309.2969\"/><text fill=\"#000000\" font-family=\"sans-serif\" font-size=\"14\" font-weight=\"bold\" lengthAdjust=\"spacingAndGlyphs\" textLength=\"20\" x=\"57.5\" y=\"301.9951\">P4</text></a><g id=\"E1.E2.E3\"><a href=\"psysml:c33e3566-7ac4-4487-b3df-3cd0148aac2a\" target=\"_top\" title=\"psysml:c33e3566-7ac4-4487-b3df-3cd0148aac2a\" xlink:actuate=\"onRequest\" xlink:href=\"psysml:c33e3566-7ac4-4487-b3df-3cd0148aac2a\" xlink:show=\"new\" xlink:title=\"psysml:c33e3566-7ac4-4487-b3df-3cd0148aac2a\" xlink:type=\"simple\"><rect fill=\"#FFFFFF\" height=\"42.9375\" id=\"E3\" style=\"stroke: #383838; stroke-width: 1.5;\" width=\"71\" x=\"59\" y=\"84.5\"/><rect fill=\"#F8F8F8\" height=\"37.9375\" style=\"stroke: #383838; stroke-width: 1.5;\" width=\"71\" x=\"59\" y=\"84.5\"/><text fill=\"#000000\" font-family=\"sans-serif\" font-size=\"12\" font-style=\"italic\" lengthAdjust=\"spacingAndGlyphs\" textLength=\"64\" x=\"62.5\" y=\"100.6387\">«part def»</text><text fill=\"#000000\" font-family=\"sans-serif\" font-size=\"12\" lengthAdjust=\"spacingAndGlyphs\" textLength=\"8\" x=\"90.5\" y=\"114.6074\">A</text></a></g><a href=\"psysml:b9d82d12-80d8-4b65-b32b-0d4caf256cd7\" target=\"_top\" title=\"psysml:b9d82d12-80d8-4b65-b32b-0d4caf256cd7\" xlink:actuate=\"onRequest\" xlink:href=\"psysml:b9d82d12-80d8-4b65-b32b-0d4caf256cd7\" xlink:show=\"new\" xlink:title=\"psysml:b9d82d12-80d8-4b65-b32b-0d4caf256cd7\" xlink:type=\"simple\"><polygon fill=\"#FFFFFF\" points=\"74.5,397.5,100.5,397.5,107.5,419.7969,114.5,419.7969,114.5,450.0938,74.5,450.0938,74.5,397.5\" style=\"stroke: #000000; stroke-width: 1.5;\"/><line style=\"stroke: #000000; stroke-width: 1.5;\" x1=\"74.5\" x2=\"107.5\" y1=\"419.7969\" y2=\"419.7969\"/><text fill=\"#000000\" font-family=\"sans-serif\" font-size=\"14\" font-weight=\"bold\" lengthAdjust=\"spacingAndGlyphs\" textLength=\"20\" x=\"78.5\" y=\"412.4951\">P2</text></a><g id=\"E1.E5\"><a href=\"psysml:0c75b404-ec52-4836-8cbb-5da98c4a5930\" target=\"_top\" title=\"psysml:0c75b404-ec52-4836-8cbb-5da98c4a5930\" xlink:actuate=\"onRequest\" xlink:href=\"psysml:0c75b404-ec52-4836-8cbb-5da98c4a5930\" xlink:show=\"new\" xlink:title=\"psysml:0c75b404-ec52-4836-8cbb-5da98c4a5930\" xlink:type=\"simple\"><rect fill=\"#FFFFFF\" height=\"40\" id=\"E5\" rx=\"10\" ry=\"10\" style=\"stroke: #383838; stroke-width: 1.5;\" width=\"50\" x=\"69.5\" y=\"486\"/><rect fill=\"#F8F8F8\" height=\"23.9688\" rx=\"10\" ry=\"10\" style=\"stroke: #F8F8F8; stroke-width: 1.5;\" width=\"50\" x=\"69.5\" y=\"486\"/><rect fill=\"#F8F8F8\" height=\"10\" style=\"stroke: #F8F8F8; stroke-width: 1.5;\" width=\"50\" x=\"69.5\" y=\"499.9688\"/><rect fill=\"none\" height=\"40\" id=\"E5\" rx=\"10\" ry=\"10\" style=\"stroke: #383838; stroke-width: 1.5;\" width=\"50\" x=\"69.5\" y=\"486\"/><text fill=\"#000000\" font-family=\"sans-serif\" font-size=\"12\" lengthAdjust=\"spacingAndGlyphs\" textLength=\"22\" x=\"83.5\" y=\"502.1387\">x: A</text></a></g><g id=\"E1.E6.E7\"><a href=\"psysml:70818b0d-1657-43d7-b586-0302676d35dd\" target=\"_top\" title=\"psysml:70818b0d-1657-43d7-b586-0302676d35dd\" xlink:actuate=\"onRequest\" xlink:href=\"psysml:70818b0d-1657-43d7-b586-0302676d35dd\" xlink:show=\"new\" xlink:title=\"psysml:70818b0d-1657-43d7-b586-0302676d35dd\" xlink:type=\"simple\"><rect fill=\"#FFFFFF\" height=\"42.9375\" id=\"E7\" style=\"stroke: #383838; stroke-width: 1.5;\" width=\"71\" x=\"59\" y=\"203.5\"/><rect fill=\"#F8F8F8\" height=\"37.9375\" style=\"stroke: #383838; stroke-width: 1.5;\" width=\"71\" x=\"59\" y=\"203.5\"/><text fill=\"#000000\" font-family=\"sans-serif\" font-size=\"12\" font-style=\"italic\" lengthAdjust=\"spacingAndGlyphs\" textLength=\"64\" x=\"62.5\" y=\"219.6387\">«part def»</text><text fill=\"#000000\" font-family=\"sans-serif\" font-size=\"12\" lengthAdjust=\"spacingAndGlyphs\" textLength=\"8\" x=\"90.5\" y=\"233.6074\">B</text></a></g><g id=\"E1.E8\"><a href=\"psysml:f43ee61a-1d92-4bcd-a6ef-463238303c09\" target=\"_top\" title=\"psysml:f43ee61a-1d92-4bcd-a6ef-463238303c09\" xlink:actuate=\"onRequest\" xlink:href=\"psysml:f43ee61a-1d92-4bcd-a6ef-463238303c09\" xlink:show=\"new\" xlink:title=\"psysml:f43ee61a-1d92-4bcd-a6ef-463238303c09\" xlink:type=\"simple\"><rect fill=\"#FFFFFF\" height=\"40\" id=\"E8\" rx=\"10\" ry=\"10\" style=\"stroke: #383838; stroke-width: 1.5;\" width=\"50\" x=\"69.5\" y=\"561\"/><rect fill=\"#F8F8F8\" height=\"23.9688\" rx=\"10\" ry=\"10\" style=\"stroke: #F8F8F8; stroke-width: 1.5;\" width=\"50\" x=\"69.5\" y=\"561\"/><rect fill=\"#F8F8F8\" height=\"10\" style=\"stroke: #F8F8F8; stroke-width: 1.5;\" width=\"50\" x=\"69.5\" y=\"574.9688\"/><rect fill=\"none\" height=\"40\" id=\"E8\" rx=\"10\" ry=\"10\" style=\"stroke: #383838; stroke-width: 1.5;\" width=\"50\" x=\"69.5\" y=\"561\"/><text fill=\"#000000\" font-family=\"sans-serif\" font-size=\"12\" lengthAdjust=\"spacingAndGlyphs\" textLength=\"21\" x=\"84\" y=\"577.1387\">z: B</text></a></g><g id=\"E1.E9.E10\"><a href=\"psysml:e183bef4-e50f-4a79-aea2-e72f91ae33b1\" target=\"_top\" title=\"psysml:e183bef4-e50f-4a79-aea2-e72f91ae33b1\" xlink:actuate=\"onRequest\" xlink:href=\"psysml:e183bef4-e50f-4a79-aea2-e72f91ae33b1\" xlink:show=\"new\" xlink:title=\"psysml:e183bef4-e50f-4a79-aea2-e72f91ae33b1\" xlink:type=\"simple\"><rect fill=\"#FFFFFF\" height=\"40\" id=\"E10\" rx=\"10\" ry=\"10\" style=\"stroke: #383838; stroke-width: 1.5;\" width=\"50\" x=\"69.5\" y=\"322\"/><rect fill=\"#F8F8F8\" height=\"23.9688\" rx=\"10\" ry=\"10\" style=\"stroke: #F8F8F8; stroke-width: 1.5;\" width=\"50\" x=\"69.5\" y=\"322\"/><rect fill=\"#F8F8F8\" height=\"10\" style=\"stroke: #F8F8F8; stroke-width: 1.5;\" width=\"50\" x=\"69.5\" y=\"335.9688\"/><rect fill=\"none\" height=\"40\" id=\"E10\" rx=\"10\" ry=\"10\" style=\"stroke: #383838; stroke-width: 1.5;\" width=\"50\" x=\"69.5\" y=\"322\"/><text fill=\"#000000\" font-family=\"sans-serif\" font-size=\"12\" lengthAdjust=\"spacingAndGlyphs\" textLength=\"29\" x=\"80\" y=\"338.1387\">z1: A</text></a></g><!--MD5=[3a8be06d79eaf16f072831592201c288]\n",
       "@startuml\r\n",
       "skinparam ranksep 10\r\n",
       "skinparam rectangle {\r\n",
       " backgroundColor<<block>> LightGreen\r\n",
       "}\r\n",
       "left to right direction\r\n",
       "skinparam monochrome true\r\n",
       "skinparam classbackgroundcolor white\r\n",
       "skinparam shadowing false\r\n",
       "skinparam wrapWidth 300\r\n",
       "hide circle\r\n",
       "\r\n",
       "package \"PrivateImportTest\" as E1  [[psysml:90f2a1bf-87a7-47cf-b7dc-49b41c6fd8e7 ]]  {\r\n",
       "package \"P1\" as E2  [[psysml:16275eaf-61bd-4171-b64d-9c4aa1fed5b3 ]]  {\r\n",
       "rec def \"A\" as E3  <<(T,blue) part def>> [[psysml:c33e3566-7ac4-4487-b3df-3cd0148aac2a ]] {\r\n",
       "}\r\n",
       "}\r\n",
       "package \"P2\" as E4  [[psysml:b9d82d12-80d8-4b65-b32b-0d4caf256cd7 ]]  {\r\n",
       "}\r\n",
       "rec usage \"x: A\" as E5  [[psysml:0c75b404-ec52-4836-8cbb-5da98c4a5930 ]] {\r\n",
       "}\r\n",
       "package \"P3\" as E6  [[psysml:9d4f5989-8a3e-4397-a866-52670c662db3 ]]  {\r\n",
       "rec def \"B\" as E7  <<(T,blue) part def>> [[psysml:70818b0d-1657-43d7-b586-0302676d35dd ]] {\r\n",
       "}\r\n",
       "}\r\n",
       "rec usage \"z: B\" as E8  [[psysml:f43ee61a-1d92-4bcd-a6ef-463238303c09 ]] {\r\n",
       "}\r\n",
       "package \"P4\" as E9  [[psysml:5979dd71-75f1-4b72-84ed-7ab4ecfce4b9 ]]  {\r\n",
       "rec usage \"z1: A\" as E10  [[psysml:e183bef4-e50f-4a79-aea2-e72f91ae33b1 ]] {\r\n",
       "}\r\n",
       "}\r\n",
       "}\r\n",
       "@enduml\r\n",
       "\n",
       "PlantUML version 1.2020.13(Sat Jun 13 12:26:38 UTC 2020)\n",
       "(EPL source distribution)\n",
       "Java Runtime: OpenJDK Runtime Environment\n",
       "JVM: OpenJDK 64-Bit Server VM\n",
       "Default Encoding: UTF-8\n",
       "Language: en\n",
       "Country: null\n",
       "--></g></svg>"
      ]
     },
     "execution_count": 19,
     "metadata": {},
     "output_type": "execute_result"
    }
   ],
   "source": [
    "%viz --style=\"LR\" --view=\"Interconnection\" \"PrivateImportTest\""
   ]
  },
  {
   "cell_type": "code",
   "execution_count": 20,
   "id": "cc4b47f5",
   "metadata": {
    "execution": {
     "iopub.execute_input": "2021-08-04T06:27:55.378233Z",
     "iopub.status.busy": "2021-08-04T06:27:55.377638Z",
     "iopub.status.idle": "2021-08-04T06:27:55.383165Z",
     "shell.execute_reply": "2021-08-04T06:27:55.383341Z"
    }
   },
   "outputs": [
    {
     "data": {
      "image/svg+xml": [
       "<?xml version=\"1.0\" encoding=\"UTF-8\" standalone=\"no\"?><svg xmlns=\"http://www.w3.org/2000/svg\" xmlns:xlink=\"http://www.w3.org/1999/xlink\" contentScriptType=\"application/ecmascript\" contentStyleType=\"text/css\" height=\"12px\" preserveAspectRatio=\"none\" style=\"width:12px;height:12px;\" version=\"1.1\" viewBox=\"0 0 12 12\" width=\"12px\" zoomAndPan=\"magnify\"><defs/><g><!--MD5=[7aeb398939421629f6affaa4a1a7b125]\n",
       "@startuml\r\n",
       "skinparam ranksep 8\r\n",
       "left to right direction\r\n",
       "skinparam monochrome true\r\n",
       "skinparam classbackgroundcolor white\r\n",
       "skinparam shadowing false\r\n",
       "skinparam wrapWidth 300\r\n",
       "hide circle\r\n",
       "\r\n",
       "@enduml\r\n",
       "\n",
       "PlantUML version 1.2020.13(Sat Jun 13 12:26:38 UTC 2020)\n",
       "(EPL source distribution)\n",
       "Java Runtime: OpenJDK Runtime Environment\n",
       "JVM: OpenJDK 64-Bit Server VM\n",
       "Default Encoding: UTF-8\n",
       "Language: en\n",
       "Country: null\n",
       "--></g></svg>"
      ]
     },
     "execution_count": 20,
     "metadata": {},
     "output_type": "execute_result"
    }
   ],
   "source": [
    "%viz --style=\"LR\" --view=\"Action\" \"PrivateImportTest\""
   ]
  },
  {
   "cell_type": "code",
   "execution_count": 21,
   "id": "33030260",
   "metadata": {
    "execution": {
     "iopub.execute_input": "2021-08-04T06:27:55.433751Z",
     "iopub.status.busy": "2021-08-04T06:27:55.433534Z",
     "iopub.status.idle": "2021-08-04T06:27:55.467190Z",
     "shell.execute_reply": "2021-08-04T06:27:55.466993Z"
    }
   },
   "outputs": [
    {
     "data": {
      "image/svg+xml": [
       "<?xml version=\"1.0\" encoding=\"UTF-8\" standalone=\"no\"?><svg xmlns=\"http://www.w3.org/2000/svg\" xmlns:xlink=\"http://www.w3.org/1999/xlink\" contentScriptType=\"application/ecmascript\" contentStyleType=\"text/css\" height=\"409px\" preserveAspectRatio=\"none\" style=\"width:286px;height:409px;\" version=\"1.1\" viewBox=\"0 0 286 409\" width=\"286px\" zoomAndPan=\"magnify\"><defs/><g><!--MD5=[fbc87193dbaf4d95561dea2c320d4a47]\n",
       "cluster E1--><a href=\"psysml:90f2a1bf-87a7-47cf-b7dc-49b41c6fd8e7\" target=\"_top\" title=\"psysml:90f2a1bf-87a7-47cf-b7dc-49b41c6fd8e7\" xlink:actuate=\"onRequest\" xlink:href=\"psysml:90f2a1bf-87a7-47cf-b7dc-49b41c6fd8e7\" xlink:show=\"new\" xlink:title=\"psysml:90f2a1bf-87a7-47cf-b7dc-49b41c6fd8e7\" xlink:type=\"simple\"><polygon fill=\"#FFFFFF\" points=\"16,6,163,6,170,28.2969,264,28.2969,264,397,16,397,16,6\" style=\"stroke: #000000; stroke-width: 1.5;\"/><line style=\"stroke: #000000; stroke-width: 1.5;\" x1=\"16\" x2=\"170\" y1=\"28.2969\" y2=\"28.2969\"/><text fill=\"#000000\" font-family=\"sans-serif\" font-size=\"14\" font-weight=\"bold\" lengthAdjust=\"spacingAndGlyphs\" textLength=\"141\" x=\"20\" y=\"20.9951\">PrivateImportTest</text></a><!--MD5=[e4f7fae6ed58524ba242bb0b0d3be6b7]\n",
       "cluster E2--><a href=\"psysml:16275eaf-61bd-4171-b64d-9c4aa1fed5b3\" target=\"_top\" title=\"psysml:16275eaf-61bd-4171-b64d-9c4aa1fed5b3\" xlink:actuate=\"onRequest\" xlink:href=\"psysml:16275eaf-61bd-4171-b64d-9c4aa1fed5b3\" xlink:show=\"new\" xlink:title=\"psysml:16275eaf-61bd-4171-b64d-9c4aa1fed5b3\" xlink:type=\"simple\"><polygon fill=\"#FFFFFF\" points=\"142,70,168,70,175,92.2969,240,92.2969,240,167,142,167,142,70\" style=\"stroke: #000000; stroke-width: 1.5;\"/><line style=\"stroke: #000000; stroke-width: 1.5;\" x1=\"142\" x2=\"175\" y1=\"92.2969\" y2=\"92.2969\"/><text fill=\"#000000\" font-family=\"sans-serif\" font-size=\"14\" font-weight=\"bold\" lengthAdjust=\"spacingAndGlyphs\" textLength=\"20\" x=\"146\" y=\"84.9951\">P1</text></a><!--MD5=[14e3b0961a2654348d326746436168a1]\n",
       "cluster E6--><a href=\"psysml:9d4f5989-8a3e-4397-a866-52670c662db3\" target=\"_top\" title=\"psysml:9d4f5989-8a3e-4397-a866-52670c662db3\" xlink:actuate=\"onRequest\" xlink:href=\"psysml:9d4f5989-8a3e-4397-a866-52670c662db3\" xlink:show=\"new\" xlink:title=\"psysml:9d4f5989-8a3e-4397-a866-52670c662db3\" xlink:type=\"simple\"><polygon fill=\"#FFFFFF\" points=\"142,211,168,211,175,233.2969,240,233.2969,240,308,142,308,142,211\" style=\"stroke: #000000; stroke-width: 1.5;\"/><line style=\"stroke: #000000; stroke-width: 1.5;\" x1=\"142\" x2=\"175\" y1=\"233.2969\" y2=\"233.2969\"/><text fill=\"#000000\" font-family=\"sans-serif\" font-size=\"14\" font-weight=\"bold\" lengthAdjust=\"spacingAndGlyphs\" textLength=\"20\" x=\"146\" y=\"225.9951\">P3</text></a><!--MD5=[7f149f147074ac12df2cb0a7728a5fb0]\n",
       "cluster E9--><a href=\"psysml:5979dd71-75f1-4b72-84ed-7ab4ecfce4b9\" target=\"_top\" title=\"psysml:5979dd71-75f1-4b72-84ed-7ab4ecfce4b9\" xlink:actuate=\"onRequest\" xlink:href=\"psysml:5979dd71-75f1-4b72-84ed-7ab4ecfce4b9\" xlink:show=\"new\" xlink:title=\"psysml:5979dd71-75f1-4b72-84ed-7ab4ecfce4b9\" xlink:type=\"simple\"><polygon fill=\"#FFFFFF\" points=\"40,49,66,49,73,71.2969,114,71.2969,114,146,40,146,40,49\" style=\"stroke: #000000; stroke-width: 1.5;\"/><line style=\"stroke: #000000; stroke-width: 1.5;\" x1=\"40\" x2=\"73\" y1=\"71.2969\" y2=\"71.2969\"/><text fill=\"#000000\" font-family=\"sans-serif\" font-size=\"14\" font-weight=\"bold\" lengthAdjust=\"spacingAndGlyphs\" textLength=\"20\" x=\"44\" y=\"63.9951\">P4</text></a><!--MD5=[270fce915f116d4de14055a7c1d9a0f3]\n",
       "class E5--><a href=\"psysml:0c75b404-ec52-4836-8cbb-5da98c4a5930\" target=\"_top\" title=\"psysml:0c75b404-ec52-4836-8cbb-5da98c4a5930\" xlink:actuate=\"onRequest\" xlink:href=\"psysml:0c75b404-ec52-4836-8cbb-5da98c4a5930\" xlink:show=\"new\" xlink:title=\"psysml:0c75b404-ec52-4836-8cbb-5da98c4a5930\" xlink:type=\"simple\"><rect fill=\"#FFFFFF\" height=\"45.9375\" id=\"E5\" rx=\"10\" ry=\"10\" style=\"stroke: #383838; stroke-width: 1.5;\" width=\"42\" x=\"56\" y=\"165\"/><text fill=\"#000000\" font-family=\"sans-serif\" font-size=\"12\" font-style=\"italic\" lengthAdjust=\"spacingAndGlyphs\" textLength=\"40\" x=\"57\" y=\"181.1387\">«part»</text><text fill=\"#000000\" font-family=\"sans-serif\" font-size=\"12\" lengthAdjust=\"spacingAndGlyphs\" textLength=\"22\" x=\"66\" y=\"195.1074\">x: A</text><line style=\"stroke: #383838; stroke-width: 1.5;\" x1=\"57\" x2=\"97\" y1=\"202.9375\" y2=\"202.9375\"/></a><!--MD5=[b9389687b975829384b498ac4b7476b2]\n",
       "class E8--><a href=\"psysml:f43ee61a-1d92-4bcd-a6ef-463238303c09\" target=\"_top\" title=\"psysml:f43ee61a-1d92-4bcd-a6ef-463238303c09\" xlink:actuate=\"onRequest\" xlink:href=\"psysml:f43ee61a-1d92-4bcd-a6ef-463238303c09\" xlink:show=\"new\" xlink:title=\"psysml:f43ee61a-1d92-4bcd-a6ef-463238303c09\" xlink:type=\"simple\"><rect fill=\"#FFFFFF\" height=\"45.9375\" id=\"E8\" rx=\"10\" ry=\"10\" style=\"stroke: #383838; stroke-width: 1.5;\" width=\"42\" x=\"56\" y=\"246\"/><text fill=\"#000000\" font-family=\"sans-serif\" font-size=\"12\" font-style=\"italic\" lengthAdjust=\"spacingAndGlyphs\" textLength=\"40\" x=\"57\" y=\"262.1387\">«part»</text><text fill=\"#000000\" font-family=\"sans-serif\" font-size=\"12\" lengthAdjust=\"spacingAndGlyphs\" textLength=\"21\" x=\"66.5\" y=\"276.1074\">z: B</text><line style=\"stroke: #383838; stroke-width: 1.5;\" x1=\"57\" x2=\"97\" y1=\"283.9375\" y2=\"283.9375\"/></a><!--MD5=[09b614a08d8cba4a07c9adeb5e0fee81]\n",
       "class E3--><a href=\"psysml:c33e3566-7ac4-4487-b3df-3cd0148aac2a\" target=\"_top\" title=\"psysml:c33e3566-7ac4-4487-b3df-3cd0148aac2a\" xlink:actuate=\"onRequest\" xlink:href=\"psysml:c33e3566-7ac4-4487-b3df-3cd0148aac2a\" xlink:show=\"new\" xlink:title=\"psysml:c33e3566-7ac4-4487-b3df-3cd0148aac2a\" xlink:type=\"simple\"><rect fill=\"#FFFFFF\" height=\"45.9375\" id=\"E3\" style=\"stroke: #383838; stroke-width: 1.5;\" width=\"66\" x=\"158\" y=\"105\"/><text fill=\"#000000\" font-family=\"sans-serif\" font-size=\"12\" font-style=\"italic\" lengthAdjust=\"spacingAndGlyphs\" textLength=\"64\" x=\"159\" y=\"121.1387\">«part def»</text><text fill=\"#000000\" font-family=\"sans-serif\" font-size=\"12\" lengthAdjust=\"spacingAndGlyphs\" textLength=\"8\" x=\"187\" y=\"135.1074\">A</text><line style=\"stroke: #383838; stroke-width: 1.5;\" x1=\"159\" x2=\"223\" y1=\"142.9375\" y2=\"142.9375\"/></a><a href=\"psysml:b9d82d12-80d8-4b65-b32b-0d4caf256cd7\" target=\"_top\" title=\"psysml:b9d82d12-80d8-4b65-b32b-0d4caf256cd7\" xlink:actuate=\"onRequest\" xlink:href=\"psysml:b9d82d12-80d8-4b65-b32b-0d4caf256cd7\" xlink:show=\"new\" xlink:title=\"psysml:b9d82d12-80d8-4b65-b32b-0d4caf256cd7\" xlink:type=\"simple\"><polygon fill=\"#FFFFFF\" points=\"57,327.5,83,327.5,90,349.7969,97,349.7969,97,380.0938,57,380.0938,57,327.5\" style=\"stroke: #000000; stroke-width: 1.5;\"/><line style=\"stroke: #000000; stroke-width: 1.5;\" x1=\"57\" x2=\"90\" y1=\"349.7969\" y2=\"349.7969\"/><text fill=\"#000000\" font-family=\"sans-serif\" font-size=\"14\" font-weight=\"bold\" lengthAdjust=\"spacingAndGlyphs\" textLength=\"20\" x=\"61\" y=\"342.4951\">P2</text></a><!--MD5=[2156ba9850f5573cc1fc38a6a4b2f02b]\n",
       "class E7--><a href=\"psysml:70818b0d-1657-43d7-b586-0302676d35dd\" target=\"_top\" title=\"psysml:70818b0d-1657-43d7-b586-0302676d35dd\" xlink:actuate=\"onRequest\" xlink:href=\"psysml:70818b0d-1657-43d7-b586-0302676d35dd\" xlink:show=\"new\" xlink:title=\"psysml:70818b0d-1657-43d7-b586-0302676d35dd\" xlink:type=\"simple\"><rect fill=\"#FFFFFF\" height=\"45.9375\" id=\"E7\" style=\"stroke: #383838; stroke-width: 1.5;\" width=\"66\" x=\"158\" y=\"246\"/><text fill=\"#000000\" font-family=\"sans-serif\" font-size=\"12\" font-style=\"italic\" lengthAdjust=\"spacingAndGlyphs\" textLength=\"64\" x=\"159\" y=\"262.1387\">«part def»</text><text fill=\"#000000\" font-family=\"sans-serif\" font-size=\"12\" lengthAdjust=\"spacingAndGlyphs\" textLength=\"8\" x=\"187\" y=\"276.1074\">B</text><line style=\"stroke: #383838; stroke-width: 1.5;\" x1=\"159\" x2=\"223\" y1=\"283.9375\" y2=\"283.9375\"/></a><!--MD5=[96f4274e9e20536e775497830990834d]\n",
       "class E10--><a href=\"psysml:e183bef4-e50f-4a79-aea2-e72f91ae33b1\" target=\"_top\" title=\"psysml:e183bef4-e50f-4a79-aea2-e72f91ae33b1\" xlink:actuate=\"onRequest\" xlink:href=\"psysml:e183bef4-e50f-4a79-aea2-e72f91ae33b1\" xlink:show=\"new\" xlink:title=\"psysml:e183bef4-e50f-4a79-aea2-e72f91ae33b1\" xlink:type=\"simple\"><rect fill=\"#FFFFFF\" height=\"45.9375\" id=\"E10\" rx=\"10\" ry=\"10\" style=\"stroke: #383838; stroke-width: 1.5;\" width=\"42\" x=\"56\" y=\"84\"/><text fill=\"#000000\" font-family=\"sans-serif\" font-size=\"12\" font-style=\"italic\" lengthAdjust=\"spacingAndGlyphs\" textLength=\"40\" x=\"57\" y=\"100.1387\">«part»</text><text fill=\"#000000\" font-family=\"sans-serif\" font-size=\"12\" lengthAdjust=\"spacingAndGlyphs\" textLength=\"29\" x=\"62.5\" y=\"114.1074\">z1: A</text><line style=\"stroke: #383838; stroke-width: 1.5;\" x1=\"57\" x2=\"97\" y1=\"121.9375\" y2=\"121.9375\"/></a><!--MD5=[e9be52314489bd878ff4c7144b63c9e1]\n",
       "link E5 to E3--><a href=\"psysml:f8be15bd-6ead-4f94-a81d-297834d3bff2\" target=\"_top\" title=\"psysml:f8be15bd-6ead-4f94-a81d-297834d3bff2\" xlink:actuate=\"onRequest\" xlink:href=\"psysml:f8be15bd-6ead-4f94-a81d-297834d3bff2\" xlink:show=\"new\" xlink:title=\"psysml:f8be15bd-6ead-4f94-a81d-297834d3bff2\" xlink:type=\"simple\"><path d=\"M98.02,177.27 C109.7,171.02 125,162.82 139.76,154.91 \" fill=\"none\" id=\"E5-&gt;E3\" style=\"stroke: #383838; stroke-width: 1.0;\"/><polygon fill=\"#FFFFFF\" points=\"157.86,145.22,144.4167,160.362,137.8062,148.0209,157.86,145.22\" style=\"stroke: #383838; stroke-width: 1.0;\"/><ellipse cx=\"138.4478\" cy=\"161.2904\" fill=\"#383838\" rx=\"2\" ry=\"2\" style=\"stroke: #383838; stroke-width: 1.0;\"/><ellipse cx=\"133.726\" cy=\"152.4754\" fill=\"#383838\" rx=\"2\" ry=\"2\" style=\"stroke: #383838; stroke-width: 1.0;\"/></a><!--MD5=[bfa3c8b0d15052fdf50ae9310b491027]\n",
       "link E8 to E7--><a href=\"psysml:2890fdf6-d136-470e-95db-a042243a6f10\" target=\"_top\" title=\"psysml:2890fdf6-d136-470e-95db-a042243a6f10\" xlink:actuate=\"onRequest\" xlink:href=\"psysml:2890fdf6-d136-470e-95db-a042243a6f10\" xlink:show=\"new\" xlink:title=\"psysml:2890fdf6-d136-470e-95db-a042243a6f10\" xlink:type=\"simple\"><path d=\"M98.02,269 C109.18,269 123.65,269 137.79,269 \" fill=\"none\" id=\"E8-&gt;E7\" style=\"stroke: #383838; stroke-width: 1.0;\"/><polygon fill=\"#FFFFFF\" points=\"157.86,269,138.86,276,138.86,262,157.86,269\" style=\"stroke: #383838; stroke-width: 1.0;\"/><ellipse cx=\"133.16\" cy=\"274\" fill=\"#383838\" rx=\"2\" ry=\"2\" style=\"stroke: #383838; stroke-width: 1.0;\"/><ellipse cx=\"133.16\" cy=\"264\" fill=\"#383838\" rx=\"2\" ry=\"2\" style=\"stroke: #383838; stroke-width: 1.0;\"/></a><!--MD5=[feeac5eb423634930294aa81f2d25a4c]\n",
       "link E10 to E3--><a href=\"psysml:25a6672d-e3f3-453e-a929-7fba59fa68e7\" target=\"_top\" title=\"psysml:25a6672d-e3f3-453e-a929-7fba59fa68e7\" xlink:actuate=\"onRequest\" xlink:href=\"psysml:25a6672d-e3f3-453e-a929-7fba59fa68e7\" xlink:show=\"new\" xlink:title=\"psysml:25a6672d-e3f3-453e-a929-7fba59fa68e7\" xlink:type=\"simple\"><path d=\"M98.02,110.75 C109.18,112.85 123.65,115.56 137.79,118.21 \" fill=\"none\" id=\"E10-&gt;E3\" style=\"stroke: #383838; stroke-width: 1.0;\"/><polygon fill=\"#FFFFFF\" points=\"157.86,121.97,137.8954,125.3486,140.4754,111.5884,157.86,121.97\" style=\"stroke: #383838; stroke-width: 1.0;\"/><ellipse cx=\"132.6616\" cy=\"122.3324\" fill=\"#383838\" rx=\"2\" ry=\"2\" style=\"stroke: #383838; stroke-width: 1.0;\"/><ellipse cx=\"134.5045\" cy=\"112.5037\" fill=\"#383838\" rx=\"2\" ry=\"2\" style=\"stroke: #383838; stroke-width: 1.0;\"/></a><!--MD5=[9d969ca62f501c1f977a39c248c51ed9]\n",
       "@startuml\r\n",
       "left to right direction\r\n",
       "skinparam monochrome true\r\n",
       "skinparam classbackgroundcolor white\r\n",
       "skinparam shadowing false\r\n",
       "skinparam wrapWidth 300\r\n",
       "hide circle\r\n",
       "\r\n",
       "package \"PrivateImportTest\" as E1  [[psysml:90f2a1bf-87a7-47cf-b7dc-49b41c6fd8e7 ]]  {\r\n",
       "package \"P1\" as E2  [[psysml:16275eaf-61bd-4171-b64d-9c4aa1fed5b3 ]]  {\r\n",
       "comp def \"A\" as E3  <<(T,blue) part def>> [[psysml:c33e3566-7ac4-4487-b3df-3cd0148aac2a ]] {\r\n",
       "}\r\n",
       "}\r\n",
       "package \"P2\" as E4  [[psysml:b9d82d12-80d8-4b65-b32b-0d4caf256cd7 ]]  {\r\n",
       "}\r\n",
       "comp usage \"x: A\" as E5  <<(T,blue) part>> [[psysml:0c75b404-ec52-4836-8cbb-5da98c4a5930 ]] {\r\n",
       "}\r\n",
       "package \"P3\" as E6  [[psysml:9d4f5989-8a3e-4397-a866-52670c662db3 ]]  {\r\n",
       "comp def \"B\" as E7  <<(T,blue) part def>> [[psysml:70818b0d-1657-43d7-b586-0302676d35dd ]] {\r\n",
       "}\r\n",
       "E5 - -:|> E3 [[psysml:f8be15bd-6ead-4f94-a81d-297834d3bff2 ]] \r\n",
       "}\r\n",
       "comp usage \"z: B\" as E8  <<(T,blue) part>> [[psysml:f43ee61a-1d92-4bcd-a6ef-463238303c09 ]] {\r\n",
       "}\r\n",
       "package \"P4\" as E9  [[psysml:5979dd71-75f1-4b72-84ed-7ab4ecfce4b9 ]]  {\r\n",
       "comp usage \"z1: A\" as E10  <<(T,blue) part>> [[psysml:e183bef4-e50f-4a79-aea2-e72f91ae33b1 ]] {\r\n",
       "}\r\n",
       "E8 - -:|> E7 [[psysml:2890fdf6-d136-470e-95db-a042243a6f10 ]] \r\n",
       "E10 - -:|> E3 [[psysml:25a6672d-e3f3-453e-a929-7fba59fa68e7 ]] \r\n",
       "}\r\n",
       "}\r\n",
       "@enduml\r\n",
       "\n",
       "PlantUML version 1.2020.13(Sat Jun 13 12:26:38 UTC 2020)\n",
       "(EPL source distribution)\n",
       "Java Runtime: OpenJDK Runtime Environment\n",
       "JVM: OpenJDK 64-Bit Server VM\n",
       "Default Encoding: UTF-8\n",
       "Language: en\n",
       "Country: null\n",
       "--></g></svg>"
      ]
     },
     "execution_count": 21,
     "metadata": {},
     "output_type": "execute_result"
    }
   ],
   "source": [
    "%viz --style=\"LR\" --view=\"Sequence\" \"PrivateImportTest\""
   ]
  },
  {
   "cell_type": "code",
   "execution_count": 22,
   "id": "7b23bb52",
   "metadata": {
    "execution": {
     "iopub.execute_input": "2021-08-04T06:27:55.517274Z",
     "iopub.status.busy": "2021-08-04T06:27:55.517052Z",
     "iopub.status.idle": "2021-08-04T06:27:55.544209Z",
     "shell.execute_reply": "2021-08-04T06:27:55.544017Z"
    }
   },
   "outputs": [
    {
     "data": {
      "image/svg+xml": [
       "<?xml version=\"1.0\" encoding=\"UTF-8\" standalone=\"no\"?><svg xmlns=\"http://www.w3.org/2000/svg\" xmlns:xlink=\"http://www.w3.org/1999/xlink\" contentScriptType=\"application/ecmascript\" contentStyleType=\"text/css\" height=\"409px\" preserveAspectRatio=\"none\" style=\"width:286px;height:409px;\" version=\"1.1\" viewBox=\"0 0 286 409\" width=\"286px\" zoomAndPan=\"magnify\"><defs/><g><!--MD5=[fbc87193dbaf4d95561dea2c320d4a47]\n",
       "cluster E1--><a href=\"psysml:90f2a1bf-87a7-47cf-b7dc-49b41c6fd8e7\" target=\"_top\" title=\"psysml:90f2a1bf-87a7-47cf-b7dc-49b41c6fd8e7\" xlink:actuate=\"onRequest\" xlink:href=\"psysml:90f2a1bf-87a7-47cf-b7dc-49b41c6fd8e7\" xlink:show=\"new\" xlink:title=\"psysml:90f2a1bf-87a7-47cf-b7dc-49b41c6fd8e7\" xlink:type=\"simple\"><polygon fill=\"#FFFFFF\" points=\"16,6,163,6,170,28.2969,264,28.2969,264,397,16,397,16,6\" style=\"stroke: #000000; stroke-width: 1.5;\"/><line style=\"stroke: #000000; stroke-width: 1.5;\" x1=\"16\" x2=\"170\" y1=\"28.2969\" y2=\"28.2969\"/><text fill=\"#000000\" font-family=\"sans-serif\" font-size=\"14\" font-weight=\"bold\" lengthAdjust=\"spacingAndGlyphs\" textLength=\"141\" x=\"20\" y=\"20.9951\">PrivateImportTest</text></a><!--MD5=[e4f7fae6ed58524ba242bb0b0d3be6b7]\n",
       "cluster E2--><a href=\"psysml:16275eaf-61bd-4171-b64d-9c4aa1fed5b3\" target=\"_top\" title=\"psysml:16275eaf-61bd-4171-b64d-9c4aa1fed5b3\" xlink:actuate=\"onRequest\" xlink:href=\"psysml:16275eaf-61bd-4171-b64d-9c4aa1fed5b3\" xlink:show=\"new\" xlink:title=\"psysml:16275eaf-61bd-4171-b64d-9c4aa1fed5b3\" xlink:type=\"simple\"><polygon fill=\"#FFFFFF\" points=\"142,70,168,70,175,92.2969,240,92.2969,240,167,142,167,142,70\" style=\"stroke: #000000; stroke-width: 1.5;\"/><line style=\"stroke: #000000; stroke-width: 1.5;\" x1=\"142\" x2=\"175\" y1=\"92.2969\" y2=\"92.2969\"/><text fill=\"#000000\" font-family=\"sans-serif\" font-size=\"14\" font-weight=\"bold\" lengthAdjust=\"spacingAndGlyphs\" textLength=\"20\" x=\"146\" y=\"84.9951\">P1</text></a><!--MD5=[14e3b0961a2654348d326746436168a1]\n",
       "cluster E6--><a href=\"psysml:9d4f5989-8a3e-4397-a866-52670c662db3\" target=\"_top\" title=\"psysml:9d4f5989-8a3e-4397-a866-52670c662db3\" xlink:actuate=\"onRequest\" xlink:href=\"psysml:9d4f5989-8a3e-4397-a866-52670c662db3\" xlink:show=\"new\" xlink:title=\"psysml:9d4f5989-8a3e-4397-a866-52670c662db3\" xlink:type=\"simple\"><polygon fill=\"#FFFFFF\" points=\"142,211,168,211,175,233.2969,240,233.2969,240,308,142,308,142,211\" style=\"stroke: #000000; stroke-width: 1.5;\"/><line style=\"stroke: #000000; stroke-width: 1.5;\" x1=\"142\" x2=\"175\" y1=\"233.2969\" y2=\"233.2969\"/><text fill=\"#000000\" font-family=\"sans-serif\" font-size=\"14\" font-weight=\"bold\" lengthAdjust=\"spacingAndGlyphs\" textLength=\"20\" x=\"146\" y=\"225.9951\">P3</text></a><!--MD5=[7f149f147074ac12df2cb0a7728a5fb0]\n",
       "cluster E9--><a href=\"psysml:5979dd71-75f1-4b72-84ed-7ab4ecfce4b9\" target=\"_top\" title=\"psysml:5979dd71-75f1-4b72-84ed-7ab4ecfce4b9\" xlink:actuate=\"onRequest\" xlink:href=\"psysml:5979dd71-75f1-4b72-84ed-7ab4ecfce4b9\" xlink:show=\"new\" xlink:title=\"psysml:5979dd71-75f1-4b72-84ed-7ab4ecfce4b9\" xlink:type=\"simple\"><polygon fill=\"#FFFFFF\" points=\"40,49,66,49,73,71.2969,114,71.2969,114,146,40,146,40,49\" style=\"stroke: #000000; stroke-width: 1.5;\"/><line style=\"stroke: #000000; stroke-width: 1.5;\" x1=\"40\" x2=\"73\" y1=\"71.2969\" y2=\"71.2969\"/><text fill=\"#000000\" font-family=\"sans-serif\" font-size=\"14\" font-weight=\"bold\" lengthAdjust=\"spacingAndGlyphs\" textLength=\"20\" x=\"44\" y=\"63.9951\">P4</text></a><!--MD5=[270fce915f116d4de14055a7c1d9a0f3]\n",
       "class E5--><a href=\"psysml:0c75b404-ec52-4836-8cbb-5da98c4a5930\" target=\"_top\" title=\"psysml:0c75b404-ec52-4836-8cbb-5da98c4a5930\" xlink:actuate=\"onRequest\" xlink:href=\"psysml:0c75b404-ec52-4836-8cbb-5da98c4a5930\" xlink:show=\"new\" xlink:title=\"psysml:0c75b404-ec52-4836-8cbb-5da98c4a5930\" xlink:type=\"simple\"><rect fill=\"#FFFFFF\" height=\"45.9375\" id=\"E5\" rx=\"10\" ry=\"10\" style=\"stroke: #383838; stroke-width: 1.5;\" width=\"42\" x=\"56\" y=\"165\"/><text fill=\"#000000\" font-family=\"sans-serif\" font-size=\"12\" font-style=\"italic\" lengthAdjust=\"spacingAndGlyphs\" textLength=\"40\" x=\"57\" y=\"181.1387\">«part»</text><text fill=\"#000000\" font-family=\"sans-serif\" font-size=\"12\" lengthAdjust=\"spacingAndGlyphs\" textLength=\"22\" x=\"66\" y=\"195.1074\">x: A</text><line style=\"stroke: #383838; stroke-width: 1.5;\" x1=\"57\" x2=\"97\" y1=\"202.9375\" y2=\"202.9375\"/></a><!--MD5=[b9389687b975829384b498ac4b7476b2]\n",
       "class E8--><a href=\"psysml:f43ee61a-1d92-4bcd-a6ef-463238303c09\" target=\"_top\" title=\"psysml:f43ee61a-1d92-4bcd-a6ef-463238303c09\" xlink:actuate=\"onRequest\" xlink:href=\"psysml:f43ee61a-1d92-4bcd-a6ef-463238303c09\" xlink:show=\"new\" xlink:title=\"psysml:f43ee61a-1d92-4bcd-a6ef-463238303c09\" xlink:type=\"simple\"><rect fill=\"#FFFFFF\" height=\"45.9375\" id=\"E8\" rx=\"10\" ry=\"10\" style=\"stroke: #383838; stroke-width: 1.5;\" width=\"42\" x=\"56\" y=\"246\"/><text fill=\"#000000\" font-family=\"sans-serif\" font-size=\"12\" font-style=\"italic\" lengthAdjust=\"spacingAndGlyphs\" textLength=\"40\" x=\"57\" y=\"262.1387\">«part»</text><text fill=\"#000000\" font-family=\"sans-serif\" font-size=\"12\" lengthAdjust=\"spacingAndGlyphs\" textLength=\"21\" x=\"66.5\" y=\"276.1074\">z: B</text><line style=\"stroke: #383838; stroke-width: 1.5;\" x1=\"57\" x2=\"97\" y1=\"283.9375\" y2=\"283.9375\"/></a><!--MD5=[09b614a08d8cba4a07c9adeb5e0fee81]\n",
       "class E3--><a href=\"psysml:c33e3566-7ac4-4487-b3df-3cd0148aac2a\" target=\"_top\" title=\"psysml:c33e3566-7ac4-4487-b3df-3cd0148aac2a\" xlink:actuate=\"onRequest\" xlink:href=\"psysml:c33e3566-7ac4-4487-b3df-3cd0148aac2a\" xlink:show=\"new\" xlink:title=\"psysml:c33e3566-7ac4-4487-b3df-3cd0148aac2a\" xlink:type=\"simple\"><rect fill=\"#FFFFFF\" height=\"45.9375\" id=\"E3\" style=\"stroke: #383838; stroke-width: 1.5;\" width=\"66\" x=\"158\" y=\"105\"/><text fill=\"#000000\" font-family=\"sans-serif\" font-size=\"12\" font-style=\"italic\" lengthAdjust=\"spacingAndGlyphs\" textLength=\"64\" x=\"159\" y=\"121.1387\">«part def»</text><text fill=\"#000000\" font-family=\"sans-serif\" font-size=\"12\" lengthAdjust=\"spacingAndGlyphs\" textLength=\"8\" x=\"187\" y=\"135.1074\">A</text><line style=\"stroke: #383838; stroke-width: 1.5;\" x1=\"159\" x2=\"223\" y1=\"142.9375\" y2=\"142.9375\"/></a><a href=\"psysml:b9d82d12-80d8-4b65-b32b-0d4caf256cd7\" target=\"_top\" title=\"psysml:b9d82d12-80d8-4b65-b32b-0d4caf256cd7\" xlink:actuate=\"onRequest\" xlink:href=\"psysml:b9d82d12-80d8-4b65-b32b-0d4caf256cd7\" xlink:show=\"new\" xlink:title=\"psysml:b9d82d12-80d8-4b65-b32b-0d4caf256cd7\" xlink:type=\"simple\"><polygon fill=\"#FFFFFF\" points=\"57,327.5,83,327.5,90,349.7969,97,349.7969,97,380.0938,57,380.0938,57,327.5\" style=\"stroke: #000000; stroke-width: 1.5;\"/><line style=\"stroke: #000000; stroke-width: 1.5;\" x1=\"57\" x2=\"90\" y1=\"349.7969\" y2=\"349.7969\"/><text fill=\"#000000\" font-family=\"sans-serif\" font-size=\"14\" font-weight=\"bold\" lengthAdjust=\"spacingAndGlyphs\" textLength=\"20\" x=\"61\" y=\"342.4951\">P2</text></a><!--MD5=[2156ba9850f5573cc1fc38a6a4b2f02b]\n",
       "class E7--><a href=\"psysml:70818b0d-1657-43d7-b586-0302676d35dd\" target=\"_top\" title=\"psysml:70818b0d-1657-43d7-b586-0302676d35dd\" xlink:actuate=\"onRequest\" xlink:href=\"psysml:70818b0d-1657-43d7-b586-0302676d35dd\" xlink:show=\"new\" xlink:title=\"psysml:70818b0d-1657-43d7-b586-0302676d35dd\" xlink:type=\"simple\"><rect fill=\"#FFFFFF\" height=\"45.9375\" id=\"E7\" style=\"stroke: #383838; stroke-width: 1.5;\" width=\"66\" x=\"158\" y=\"246\"/><text fill=\"#000000\" font-family=\"sans-serif\" font-size=\"12\" font-style=\"italic\" lengthAdjust=\"spacingAndGlyphs\" textLength=\"64\" x=\"159\" y=\"262.1387\">«part def»</text><text fill=\"#000000\" font-family=\"sans-serif\" font-size=\"12\" lengthAdjust=\"spacingAndGlyphs\" textLength=\"8\" x=\"187\" y=\"276.1074\">B</text><line style=\"stroke: #383838; stroke-width: 1.5;\" x1=\"159\" x2=\"223\" y1=\"283.9375\" y2=\"283.9375\"/></a><!--MD5=[96f4274e9e20536e775497830990834d]\n",
       "class E10--><a href=\"psysml:e183bef4-e50f-4a79-aea2-e72f91ae33b1\" target=\"_top\" title=\"psysml:e183bef4-e50f-4a79-aea2-e72f91ae33b1\" xlink:actuate=\"onRequest\" xlink:href=\"psysml:e183bef4-e50f-4a79-aea2-e72f91ae33b1\" xlink:show=\"new\" xlink:title=\"psysml:e183bef4-e50f-4a79-aea2-e72f91ae33b1\" xlink:type=\"simple\"><rect fill=\"#FFFFFF\" height=\"45.9375\" id=\"E10\" rx=\"10\" ry=\"10\" style=\"stroke: #383838; stroke-width: 1.5;\" width=\"42\" x=\"56\" y=\"84\"/><text fill=\"#000000\" font-family=\"sans-serif\" font-size=\"12\" font-style=\"italic\" lengthAdjust=\"spacingAndGlyphs\" textLength=\"40\" x=\"57\" y=\"100.1387\">«part»</text><text fill=\"#000000\" font-family=\"sans-serif\" font-size=\"12\" lengthAdjust=\"spacingAndGlyphs\" textLength=\"29\" x=\"62.5\" y=\"114.1074\">z1: A</text><line style=\"stroke: #383838; stroke-width: 1.5;\" x1=\"57\" x2=\"97\" y1=\"121.9375\" y2=\"121.9375\"/></a><!--MD5=[e9be52314489bd878ff4c7144b63c9e1]\n",
       "link E5 to E3--><a href=\"psysml:f8be15bd-6ead-4f94-a81d-297834d3bff2\" target=\"_top\" title=\"psysml:f8be15bd-6ead-4f94-a81d-297834d3bff2\" xlink:actuate=\"onRequest\" xlink:href=\"psysml:f8be15bd-6ead-4f94-a81d-297834d3bff2\" xlink:show=\"new\" xlink:title=\"psysml:f8be15bd-6ead-4f94-a81d-297834d3bff2\" xlink:type=\"simple\"><path d=\"M98.02,177.27 C109.7,171.02 125,162.82 139.76,154.91 \" fill=\"none\" id=\"E5-&gt;E3\" style=\"stroke: #383838; stroke-width: 1.0;\"/><polygon fill=\"#FFFFFF\" points=\"157.86,145.22,144.4167,160.362,137.8062,148.0209,157.86,145.22\" style=\"stroke: #383838; stroke-width: 1.0;\"/><ellipse cx=\"138.4478\" cy=\"161.2904\" fill=\"#383838\" rx=\"2\" ry=\"2\" style=\"stroke: #383838; stroke-width: 1.0;\"/><ellipse cx=\"133.726\" cy=\"152.4754\" fill=\"#383838\" rx=\"2\" ry=\"2\" style=\"stroke: #383838; stroke-width: 1.0;\"/></a><!--MD5=[bfa3c8b0d15052fdf50ae9310b491027]\n",
       "link E8 to E7--><a href=\"psysml:2890fdf6-d136-470e-95db-a042243a6f10\" target=\"_top\" title=\"psysml:2890fdf6-d136-470e-95db-a042243a6f10\" xlink:actuate=\"onRequest\" xlink:href=\"psysml:2890fdf6-d136-470e-95db-a042243a6f10\" xlink:show=\"new\" xlink:title=\"psysml:2890fdf6-d136-470e-95db-a042243a6f10\" xlink:type=\"simple\"><path d=\"M98.02,269 C109.18,269 123.65,269 137.79,269 \" fill=\"none\" id=\"E8-&gt;E7\" style=\"stroke: #383838; stroke-width: 1.0;\"/><polygon fill=\"#FFFFFF\" points=\"157.86,269,138.86,276,138.86,262,157.86,269\" style=\"stroke: #383838; stroke-width: 1.0;\"/><ellipse cx=\"133.16\" cy=\"274\" fill=\"#383838\" rx=\"2\" ry=\"2\" style=\"stroke: #383838; stroke-width: 1.0;\"/><ellipse cx=\"133.16\" cy=\"264\" fill=\"#383838\" rx=\"2\" ry=\"2\" style=\"stroke: #383838; stroke-width: 1.0;\"/></a><!--MD5=[feeac5eb423634930294aa81f2d25a4c]\n",
       "link E10 to E3--><a href=\"psysml:25a6672d-e3f3-453e-a929-7fba59fa68e7\" target=\"_top\" title=\"psysml:25a6672d-e3f3-453e-a929-7fba59fa68e7\" xlink:actuate=\"onRequest\" xlink:href=\"psysml:25a6672d-e3f3-453e-a929-7fba59fa68e7\" xlink:show=\"new\" xlink:title=\"psysml:25a6672d-e3f3-453e-a929-7fba59fa68e7\" xlink:type=\"simple\"><path d=\"M98.02,110.75 C109.18,112.85 123.65,115.56 137.79,118.21 \" fill=\"none\" id=\"E10-&gt;E3\" style=\"stroke: #383838; stroke-width: 1.0;\"/><polygon fill=\"#FFFFFF\" points=\"157.86,121.97,137.8954,125.3486,140.4754,111.5884,157.86,121.97\" style=\"stroke: #383838; stroke-width: 1.0;\"/><ellipse cx=\"132.6616\" cy=\"122.3324\" fill=\"#383838\" rx=\"2\" ry=\"2\" style=\"stroke: #383838; stroke-width: 1.0;\"/><ellipse cx=\"134.5045\" cy=\"112.5037\" fill=\"#383838\" rx=\"2\" ry=\"2\" style=\"stroke: #383838; stroke-width: 1.0;\"/></a><!--MD5=[9d969ca62f501c1f977a39c248c51ed9]\n",
       "@startuml\r\n",
       "left to right direction\r\n",
       "skinparam monochrome true\r\n",
       "skinparam classbackgroundcolor white\r\n",
       "skinparam shadowing false\r\n",
       "skinparam wrapWidth 300\r\n",
       "hide circle\r\n",
       "\r\n",
       "package \"PrivateImportTest\" as E1  [[psysml:90f2a1bf-87a7-47cf-b7dc-49b41c6fd8e7 ]]  {\r\n",
       "package \"P1\" as E2  [[psysml:16275eaf-61bd-4171-b64d-9c4aa1fed5b3 ]]  {\r\n",
       "comp def \"A\" as E3  <<(T,blue) part def>> [[psysml:c33e3566-7ac4-4487-b3df-3cd0148aac2a ]] {\r\n",
       "}\r\n",
       "}\r\n",
       "package \"P2\" as E4  [[psysml:b9d82d12-80d8-4b65-b32b-0d4caf256cd7 ]]  {\r\n",
       "}\r\n",
       "comp usage \"x: A\" as E5  <<(T,blue) part>> [[psysml:0c75b404-ec52-4836-8cbb-5da98c4a5930 ]] {\r\n",
       "}\r\n",
       "package \"P3\" as E6  [[psysml:9d4f5989-8a3e-4397-a866-52670c662db3 ]]  {\r\n",
       "comp def \"B\" as E7  <<(T,blue) part def>> [[psysml:70818b0d-1657-43d7-b586-0302676d35dd ]] {\r\n",
       "}\r\n",
       "E5 - -:|> E3 [[psysml:f8be15bd-6ead-4f94-a81d-297834d3bff2 ]] \r\n",
       "}\r\n",
       "comp usage \"z: B\" as E8  <<(T,blue) part>> [[psysml:f43ee61a-1d92-4bcd-a6ef-463238303c09 ]] {\r\n",
       "}\r\n",
       "package \"P4\" as E9  [[psysml:5979dd71-75f1-4b72-84ed-7ab4ecfce4b9 ]]  {\r\n",
       "comp usage \"z1: A\" as E10  <<(T,blue) part>> [[psysml:e183bef4-e50f-4a79-aea2-e72f91ae33b1 ]] {\r\n",
       "}\r\n",
       "E8 - -:|> E7 [[psysml:2890fdf6-d136-470e-95db-a042243a6f10 ]] \r\n",
       "E10 - -:|> E3 [[psysml:25a6672d-e3f3-453e-a929-7fba59fa68e7 ]] \r\n",
       "}\r\n",
       "}\r\n",
       "@enduml\r\n",
       "\n",
       "PlantUML version 1.2020.13(Sat Jun 13 12:26:38 UTC 2020)\n",
       "(EPL source distribution)\n",
       "Java Runtime: OpenJDK Runtime Environment\n",
       "JVM: OpenJDK 64-Bit Server VM\n",
       "Default Encoding: UTF-8\n",
       "Language: en\n",
       "Country: null\n",
       "--></g></svg>"
      ]
     },
     "execution_count": 22,
     "metadata": {},
     "output_type": "execute_result"
    }
   ],
   "source": [
    "%viz --style=\"LR\" --view=\"MIXED\" \"PrivateImportTest\""
   ]
  },
  {
   "cell_type": "code",
   "execution_count": 23,
   "id": "2585d97b",
   "metadata": {
    "execution": {
     "iopub.execute_input": "2021-08-04T06:27:55.594303Z",
     "iopub.status.busy": "2021-08-04T06:27:55.594077Z",
     "iopub.status.idle": "2021-08-04T06:27:55.621096Z",
     "shell.execute_reply": "2021-08-04T06:27:55.620309Z"
    }
   },
   "outputs": [
    {
     "data": {
      "image/svg+xml": [
       "<?xml version=\"1.0\" encoding=\"UTF-8\" standalone=\"no\"?><svg xmlns=\"http://www.w3.org/2000/svg\" xmlns:xlink=\"http://www.w3.org/1999/xlink\" contentScriptType=\"application/ecmascript\" contentStyleType=\"text/css\" height=\"303px\" preserveAspectRatio=\"none\" style=\"width:365px;height:303px;\" version=\"1.1\" viewBox=\"0 0 365 303\" width=\"365px\" zoomAndPan=\"magnify\"><defs><filter height=\"300%\" id=\"f1l5q4pi8k3tkl\" width=\"300%\" x=\"-1\" y=\"-1\"><feGaussianBlur result=\"blurOut\" stdDeviation=\"2.0\"/><feColorMatrix in=\"blurOut\" result=\"blurOut2\" type=\"matrix\" values=\"0 0 0 0 0 0 0 0 0 0 0 0 0 0 0 0 0 0 .4 0\"/><feOffset dx=\"4.0\" dy=\"4.0\" in=\"blurOut2\" result=\"blurOut3\"/><feBlend in=\"SourceGraphic\" in2=\"blurOut3\" mode=\"normal\"/></filter></defs><g><!--MD5=[fbc87193dbaf4d95561dea2c320d4a47]\n",
       "cluster E1--><a href=\"psysml:90f2a1bf-87a7-47cf-b7dc-49b41c6fd8e7\" target=\"_top\" title=\"psysml:90f2a1bf-87a7-47cf-b7dc-49b41c6fd8e7\" xlink:actuate=\"onRequest\" xlink:href=\"psysml:90f2a1bf-87a7-47cf-b7dc-49b41c6fd8e7\" xlink:show=\"new\" xlink:title=\"psysml:90f2a1bf-87a7-47cf-b7dc-49b41c6fd8e7\" xlink:type=\"simple\"><polygon fill=\"#FFFFFF\" filter=\"url(#f1l5q4pi8k3tkl)\" points=\"16,6,163,6,170,28.2969,343,28.2969,343,291,16,291,16,6\" style=\"stroke: #000000; stroke-width: 1.5;\"/><line style=\"stroke: #000000; stroke-width: 1.5;\" x1=\"16\" x2=\"170\" y1=\"28.2969\" y2=\"28.2969\"/><text fill=\"#000000\" font-family=\"sans-serif\" font-size=\"14\" font-weight=\"bold\" lengthAdjust=\"spacingAndGlyphs\" textLength=\"141\" x=\"20\" y=\"20.9951\">PrivateImportTest</text></a><!--MD5=[e4f7fae6ed58524ba242bb0b0d3be6b7]\n",
       "cluster E2--><a href=\"psysml:16275eaf-61bd-4171-b64d-9c4aa1fed5b3\" target=\"_top\" title=\"psysml:16275eaf-61bd-4171-b64d-9c4aa1fed5b3\" xlink:actuate=\"onRequest\" xlink:href=\"psysml:16275eaf-61bd-4171-b64d-9c4aa1fed5b3\" xlink:show=\"new\" xlink:title=\"psysml:16275eaf-61bd-4171-b64d-9c4aa1fed5b3\" xlink:type=\"simple\"><polygon fill=\"#FFFFFF\" filter=\"url(#f1l5q4pi8k3tkl)\" points=\"211,170,237,170,244,192.2969,309,192.2969,309,267,211,267,211,170\" style=\"stroke: #000000; stroke-width: 1.5;\"/><line style=\"stroke: #000000; stroke-width: 1.5;\" x1=\"211\" x2=\"244\" y1=\"192.2969\" y2=\"192.2969\"/><text fill=\"#000000\" font-family=\"sans-serif\" font-size=\"14\" font-weight=\"bold\" lengthAdjust=\"spacingAndGlyphs\" textLength=\"20\" x=\"215\" y=\"184.9951\">P1</text></a><!--MD5=[14e3b0961a2654348d326746436168a1]\n",
       "cluster E6--><a href=\"psysml:9d4f5989-8a3e-4397-a866-52670c662db3\" target=\"_top\" title=\"psysml:9d4f5989-8a3e-4397-a866-52670c662db3\" xlink:actuate=\"onRequest\" xlink:href=\"psysml:9d4f5989-8a3e-4397-a866-52670c662db3\" xlink:show=\"new\" xlink:title=\"psysml:9d4f5989-8a3e-4397-a866-52670c662db3\" xlink:type=\"simple\"><polygon fill=\"#FFFFFF\" filter=\"url(#f1l5q4pi8k3tkl)\" points=\"79,170,105,170,112,192.2969,177,192.2969,177,267,79,267,79,170\" style=\"stroke: #000000; stroke-width: 1.5;\"/><line style=\"stroke: #000000; stroke-width: 1.5;\" x1=\"79\" x2=\"112\" y1=\"192.2969\" y2=\"192.2969\"/><text fill=\"#000000\" font-family=\"sans-serif\" font-size=\"14\" font-weight=\"bold\" lengthAdjust=\"spacingAndGlyphs\" textLength=\"20\" x=\"83\" y=\"184.9951\">P3</text></a><!--MD5=[7f149f147074ac12df2cb0a7728a5fb0]\n",
       "cluster E9--><a href=\"psysml:5979dd71-75f1-4b72-84ed-7ab4ecfce4b9\" target=\"_top\" title=\"psysml:5979dd71-75f1-4b72-84ed-7ab4ecfce4b9\" xlink:actuate=\"onRequest\" xlink:href=\"psysml:5979dd71-75f1-4b72-84ed-7ab4ecfce4b9\" xlink:show=\"new\" xlink:title=\"psysml:5979dd71-75f1-4b72-84ed-7ab4ecfce4b9\" xlink:type=\"simple\"><polygon fill=\"#FFFFFF\" filter=\"url(#f1l5q4pi8k3tkl)\" points=\"245,49,271,49,278,71.2969,319,71.2969,319,146,245,146,245,49\" style=\"stroke: #000000; stroke-width: 1.5;\"/><line style=\"stroke: #000000; stroke-width: 1.5;\" x1=\"245\" x2=\"278\" y1=\"71.2969\" y2=\"71.2969\"/><text fill=\"#000000\" font-family=\"sans-serif\" font-size=\"14\" font-weight=\"bold\" lengthAdjust=\"spacingAndGlyphs\" textLength=\"20\" x=\"249\" y=\"63.9951\">P4</text></a><!--MD5=[270fce915f116d4de14055a7c1d9a0f3]\n",
       "class E5--><a href=\"psysml:0c75b404-ec52-4836-8cbb-5da98c4a5930\" target=\"_top\" title=\"psysml:0c75b404-ec52-4836-8cbb-5da98c4a5930\" xlink:actuate=\"onRequest\" xlink:href=\"psysml:0c75b404-ec52-4836-8cbb-5da98c4a5930\" xlink:show=\"new\" xlink:title=\"psysml:0c75b404-ec52-4836-8cbb-5da98c4a5930\" xlink:type=\"simple\"><rect fill=\"#FEFECE\" filter=\"url(#f1l5q4pi8k3tkl)\" height=\"45.9375\" id=\"E5\" rx=\"10\" ry=\"10\" style=\"stroke: #A80036; stroke-width: 1.5;\" width=\"42\" x=\"184\" y=\"84\"/><text fill=\"#000000\" font-family=\"sans-serif\" font-size=\"12\" font-style=\"italic\" lengthAdjust=\"spacingAndGlyphs\" textLength=\"40\" x=\"185\" y=\"100.1387\">«part»</text><text fill=\"#000000\" font-family=\"sans-serif\" font-size=\"12\" lengthAdjust=\"spacingAndGlyphs\" textLength=\"22\" x=\"194\" y=\"114.1074\">x: A</text><line style=\"stroke: #A80036; stroke-width: 1.5;\" x1=\"185\" x2=\"225\" y1=\"121.9375\" y2=\"121.9375\"/></a><!--MD5=[b9389687b975829384b498ac4b7476b2]\n",
       "class E8--><a href=\"psysml:f43ee61a-1d92-4bcd-a6ef-463238303c09\" target=\"_top\" title=\"psysml:f43ee61a-1d92-4bcd-a6ef-463238303c09\" xlink:actuate=\"onRequest\" xlink:href=\"psysml:f43ee61a-1d92-4bcd-a6ef-463238303c09\" xlink:show=\"new\" xlink:title=\"psysml:f43ee61a-1d92-4bcd-a6ef-463238303c09\" xlink:type=\"simple\"><rect fill=\"#FEFECE\" filter=\"url(#f1l5q4pi8k3tkl)\" height=\"45.9375\" id=\"E8\" rx=\"10\" ry=\"10\" style=\"stroke: #A80036; stroke-width: 1.5;\" width=\"42\" x=\"107\" y=\"84\"/><text fill=\"#000000\" font-family=\"sans-serif\" font-size=\"12\" font-style=\"italic\" lengthAdjust=\"spacingAndGlyphs\" textLength=\"40\" x=\"108\" y=\"100.1387\">«part»</text><text fill=\"#000000\" font-family=\"sans-serif\" font-size=\"12\" lengthAdjust=\"spacingAndGlyphs\" textLength=\"21\" x=\"117.5\" y=\"114.1074\">z: B</text><line style=\"stroke: #A80036; stroke-width: 1.5;\" x1=\"108\" x2=\"148\" y1=\"121.9375\" y2=\"121.9375\"/></a><!--MD5=[09b614a08d8cba4a07c9adeb5e0fee81]\n",
       "class E3--><a href=\"psysml:c33e3566-7ac4-4487-b3df-3cd0148aac2a\" target=\"_top\" title=\"psysml:c33e3566-7ac4-4487-b3df-3cd0148aac2a\" xlink:actuate=\"onRequest\" xlink:href=\"psysml:c33e3566-7ac4-4487-b3df-3cd0148aac2a\" xlink:show=\"new\" xlink:title=\"psysml:c33e3566-7ac4-4487-b3df-3cd0148aac2a\" xlink:type=\"simple\"><rect fill=\"#FEFECE\" filter=\"url(#f1l5q4pi8k3tkl)\" height=\"45.9375\" id=\"E3\" style=\"stroke: #A80036; stroke-width: 1.5;\" width=\"66\" x=\"227\" y=\"205\"/><text fill=\"#000000\" font-family=\"sans-serif\" font-size=\"12\" font-style=\"italic\" lengthAdjust=\"spacingAndGlyphs\" textLength=\"64\" x=\"228\" y=\"221.1387\">«part def»</text><text fill=\"#000000\" font-family=\"sans-serif\" font-size=\"12\" lengthAdjust=\"spacingAndGlyphs\" textLength=\"8\" x=\"256\" y=\"235.1074\">A</text><line style=\"stroke: #A80036; stroke-width: 1.5;\" x1=\"228\" x2=\"292\" y1=\"242.9375\" y2=\"242.9375\"/></a><a href=\"psysml:b9d82d12-80d8-4b65-b32b-0d4caf256cd7\" target=\"_top\" title=\"psysml:b9d82d12-80d8-4b65-b32b-0d4caf256cd7\" xlink:actuate=\"onRequest\" xlink:href=\"psysml:b9d82d12-80d8-4b65-b32b-0d4caf256cd7\" xlink:show=\"new\" xlink:title=\"psysml:b9d82d12-80d8-4b65-b32b-0d4caf256cd7\" xlink:type=\"simple\"><polygon fill=\"#FFFFFF\" filter=\"url(#f1l5q4pi8k3tkl)\" points=\"32,80.5,58,80.5,65,102.7969,72,102.7969,72,133.0938,32,133.0938,32,80.5\" style=\"stroke: #000000; stroke-width: 1.5;\"/><line style=\"stroke: #000000; stroke-width: 1.5;\" x1=\"32\" x2=\"65\" y1=\"102.7969\" y2=\"102.7969\"/><text fill=\"#000000\" font-family=\"sans-serif\" font-size=\"14\" font-weight=\"bold\" lengthAdjust=\"spacingAndGlyphs\" textLength=\"20\" x=\"36\" y=\"95.4951\">P2</text></a><!--MD5=[2156ba9850f5573cc1fc38a6a4b2f02b]\n",
       "class E7--><a href=\"psysml:70818b0d-1657-43d7-b586-0302676d35dd\" target=\"_top\" title=\"psysml:70818b0d-1657-43d7-b586-0302676d35dd\" xlink:actuate=\"onRequest\" xlink:href=\"psysml:70818b0d-1657-43d7-b586-0302676d35dd\" xlink:show=\"new\" xlink:title=\"psysml:70818b0d-1657-43d7-b586-0302676d35dd\" xlink:type=\"simple\"><rect fill=\"#FEFECE\" filter=\"url(#f1l5q4pi8k3tkl)\" height=\"45.9375\" id=\"E7\" style=\"stroke: #A80036; stroke-width: 1.5;\" width=\"66\" x=\"95\" y=\"205\"/><text fill=\"#000000\" font-family=\"sans-serif\" font-size=\"12\" font-style=\"italic\" lengthAdjust=\"spacingAndGlyphs\" textLength=\"64\" x=\"96\" y=\"221.1387\">«part def»</text><text fill=\"#000000\" font-family=\"sans-serif\" font-size=\"12\" lengthAdjust=\"spacingAndGlyphs\" textLength=\"8\" x=\"124\" y=\"235.1074\">B</text><line style=\"stroke: #A80036; stroke-width: 1.5;\" x1=\"96\" x2=\"160\" y1=\"242.9375\" y2=\"242.9375\"/></a><!--MD5=[96f4274e9e20536e775497830990834d]\n",
       "class E10--><a href=\"psysml:e183bef4-e50f-4a79-aea2-e72f91ae33b1\" target=\"_top\" title=\"psysml:e183bef4-e50f-4a79-aea2-e72f91ae33b1\" xlink:actuate=\"onRequest\" xlink:href=\"psysml:e183bef4-e50f-4a79-aea2-e72f91ae33b1\" xlink:show=\"new\" xlink:title=\"psysml:e183bef4-e50f-4a79-aea2-e72f91ae33b1\" xlink:type=\"simple\"><rect fill=\"#FEFECE\" filter=\"url(#f1l5q4pi8k3tkl)\" height=\"45.9375\" id=\"E10\" rx=\"10\" ry=\"10\" style=\"stroke: #A80036; stroke-width: 1.5;\" width=\"42\" x=\"261\" y=\"84\"/><text fill=\"#000000\" font-family=\"sans-serif\" font-size=\"12\" font-style=\"italic\" lengthAdjust=\"spacingAndGlyphs\" textLength=\"40\" x=\"262\" y=\"100.1387\">«part»</text><text fill=\"#000000\" font-family=\"sans-serif\" font-size=\"12\" lengthAdjust=\"spacingAndGlyphs\" textLength=\"29\" x=\"267.5\" y=\"114.1074\">z1: A</text><line style=\"stroke: #A80036; stroke-width: 1.5;\" x1=\"262\" x2=\"302\" y1=\"121.9375\" y2=\"121.9375\"/></a><!--MD5=[e9be52314489bd878ff4c7144b63c9e1]\n",
       "link E5 to E3--><a href=\"psysml:f8be15bd-6ead-4f94-a81d-297834d3bff2\" target=\"_top\" title=\"psysml:f8be15bd-6ead-4f94-a81d-297834d3bff2\" xlink:actuate=\"onRequest\" xlink:href=\"psysml:f8be15bd-6ead-4f94-a81d-297834d3bff2\" xlink:show=\"new\" xlink:title=\"psysml:f8be15bd-6ead-4f94-a81d-297834d3bff2\" xlink:type=\"simple\"><path d=\"M215.22,130.1 C222.5,145.87 232.51,167.52 241.22,186.36 \" fill=\"none\" id=\"E5-&gt;E3\" style=\"stroke: #A80036; stroke-width: 1.0;\"/><polygon fill=\"#FFFFFF\" points=\"249.65,204.61,235.3286,190.2958,248.0386,184.4258,249.65,204.61\" style=\"stroke: #A80036; stroke-width: 1.0;\"/><ellipse cx=\"234.7544\" cy=\"184.2824\" fill=\"#A80036\" rx=\"2\" ry=\"2\" style=\"stroke: #A80036; stroke-width: 1.0;\"/><ellipse cx=\"243.8329\" cy=\"180.0896\" fill=\"#A80036\" rx=\"2\" ry=\"2\" style=\"stroke: #A80036; stroke-width: 1.0;\"/></a><!--MD5=[bfa3c8b0d15052fdf50ae9310b491027]\n",
       "link E8 to E7--><a href=\"psysml:2890fdf6-d136-470e-95db-a042243a6f10\" target=\"_top\" title=\"psysml:2890fdf6-d136-470e-95db-a042243a6f10\" xlink:actuate=\"onRequest\" xlink:href=\"psysml:2890fdf6-d136-470e-95db-a042243a6f10\" xlink:show=\"new\" xlink:title=\"psysml:2890fdf6-d136-470e-95db-a042243a6f10\" xlink:type=\"simple\"><path d=\"M128,130.1 C128,145.37 128,166.16 128,184.57 \" fill=\"none\" id=\"E8-&gt;E7\" style=\"stroke: #A80036; stroke-width: 1.0;\"/><polygon fill=\"#FFFFFF\" points=\"128,204.61,121,185.61,135,185.61,128,204.61\" style=\"stroke: #A80036; stroke-width: 1.0;\"/><ellipse cx=\"123\" cy=\"179.91\" fill=\"#A80036\" rx=\"2\" ry=\"2\" style=\"stroke: #A80036; stroke-width: 1.0;\"/><ellipse cx=\"133\" cy=\"179.91\" fill=\"#A80036\" rx=\"2\" ry=\"2\" style=\"stroke: #A80036; stroke-width: 1.0;\"/></a><!--MD5=[feeac5eb423634930294aa81f2d25a4c]\n",
       "link E10 to E3--><a href=\"psysml:25a6672d-e3f3-453e-a929-7fba59fa68e7\" target=\"_top\" title=\"psysml:25a6672d-e3f3-453e-a929-7fba59fa68e7\" xlink:actuate=\"onRequest\" xlink:href=\"psysml:25a6672d-e3f3-453e-a929-7fba59fa68e7\" xlink:show=\"new\" xlink:title=\"psysml:25a6672d-e3f3-453e-a929-7fba59fa68e7\" xlink:type=\"simple\"><path d=\"M277.91,130.1 C275.08,145.45 271.21,166.39 267.79,184.87 \" fill=\"none\" id=\"E10-&gt;E3\" style=\"stroke: #A80036; stroke-width: 1.0;\"/><polygon fill=\"#FFFFFF\" points=\"264.14,204.61,260.7167,184.653,274.4827,187.2023,264.14,204.61\" style=\"stroke: #A80036; stroke-width: 1.0;\"/><ellipse cx=\"263.7212\" cy=\"179.4125\" fill=\"#A80036\" rx=\"2\" ry=\"2\" style=\"stroke: #A80036; stroke-width: 1.0;\"/><ellipse cx=\"273.554\" cy=\"181.2334\" fill=\"#A80036\" rx=\"2\" ry=\"2\" style=\"stroke: #A80036; stroke-width: 1.0;\"/></a><!--MD5=[e6f7dbfe65766965731d4b17ae82ea29]\n",
       "@startuml\r\n",
       "skinparam wrapWidth 300\r\n",
       "hide circle\r\n",
       "\r\n",
       "package \"PrivateImportTest\" as E1  [[psysml:90f2a1bf-87a7-47cf-b7dc-49b41c6fd8e7 ]]  {\r\n",
       "package \"P1\" as E2  [[psysml:16275eaf-61bd-4171-b64d-9c4aa1fed5b3 ]]  {\r\n",
       "comp def \"A\" as E3  <<(T,blue) part def>> [[psysml:c33e3566-7ac4-4487-b3df-3cd0148aac2a ]] {\r\n",
       "}\r\n",
       "}\r\n",
       "package \"P2\" as E4  [[psysml:b9d82d12-80d8-4b65-b32b-0d4caf256cd7 ]]  {\r\n",
       "}\r\n",
       "comp usage \"x: A\" as E5  <<(T,blue) part>> [[psysml:0c75b404-ec52-4836-8cbb-5da98c4a5930 ]] {\r\n",
       "}\r\n",
       "package \"P3\" as E6  [[psysml:9d4f5989-8a3e-4397-a866-52670c662db3 ]]  {\r\n",
       "comp def \"B\" as E7  <<(T,blue) part def>> [[psysml:70818b0d-1657-43d7-b586-0302676d35dd ]] {\r\n",
       "}\r\n",
       "E5 - -:|> E3 [[psysml:f8be15bd-6ead-4f94-a81d-297834d3bff2 ]] \r\n",
       "}\r\n",
       "comp usage \"z: B\" as E8  <<(T,blue) part>> [[psysml:f43ee61a-1d92-4bcd-a6ef-463238303c09 ]] {\r\n",
       "}\r\n",
       "package \"P4\" as E9  [[psysml:5979dd71-75f1-4b72-84ed-7ab4ecfce4b9 ]]  {\r\n",
       "comp usage \"z1: A\" as E10  <<(T,blue) part>> [[psysml:e183bef4-e50f-4a79-aea2-e72f91ae33b1 ]] {\r\n",
       "}\r\n",
       "E8 - -:|> E7 [[psysml:2890fdf6-d136-470e-95db-a042243a6f10 ]] \r\n",
       "E10 - -:|> E3 [[psysml:25a6672d-e3f3-453e-a929-7fba59fa68e7 ]] \r\n",
       "}\r\n",
       "}\r\n",
       "@enduml\r\n",
       "\n",
       "PlantUML version 1.2020.13(Sat Jun 13 12:26:38 UTC 2020)\n",
       "(EPL source distribution)\n",
       "Java Runtime: OpenJDK Runtime Environment\n",
       "JVM: OpenJDK 64-Bit Server VM\n",
       "Default Encoding: UTF-8\n",
       "Language: en\n",
       "Country: null\n",
       "--></g></svg>"
      ]
     },
     "execution_count": 23,
     "metadata": {},
     "output_type": "execute_result"
    }
   ],
   "source": [
    "%viz --style=\"STDCOLOR\" --view=\"Default\" \"PrivateImportTest\""
   ]
  },
  {
   "cell_type": "code",
   "execution_count": 24,
   "id": "cbbd179a",
   "metadata": {
    "execution": {
     "iopub.execute_input": "2021-08-04T06:27:55.671250Z",
     "iopub.status.busy": "2021-08-04T06:27:55.670971Z",
     "iopub.status.idle": "2021-08-04T06:27:55.700760Z",
     "shell.execute_reply": "2021-08-04T06:27:55.700552Z"
    }
   },
   "outputs": [
    {
     "data": {
      "image/svg+xml": [
       "<?xml version=\"1.0\" encoding=\"UTF-8\" standalone=\"no\"?><svg xmlns=\"http://www.w3.org/2000/svg\" xmlns:xlink=\"http://www.w3.org/1999/xlink\" contentScriptType=\"application/ecmascript\" contentStyleType=\"text/css\" height=\"303px\" preserveAspectRatio=\"none\" style=\"width:365px;height:303px;\" version=\"1.1\" viewBox=\"0 0 365 303\" width=\"365px\" zoomAndPan=\"magnify\"><defs><filter height=\"300%\" id=\"f1l5q4pi8k3tkl\" width=\"300%\" x=\"-1\" y=\"-1\"><feGaussianBlur result=\"blurOut\" stdDeviation=\"2.0\"/><feColorMatrix in=\"blurOut\" result=\"blurOut2\" type=\"matrix\" values=\"0 0 0 0 0 0 0 0 0 0 0 0 0 0 0 0 0 0 .4 0\"/><feOffset dx=\"4.0\" dy=\"4.0\" in=\"blurOut2\" result=\"blurOut3\"/><feBlend in=\"SourceGraphic\" in2=\"blurOut3\" mode=\"normal\"/></filter></defs><g><!--MD5=[fbc87193dbaf4d95561dea2c320d4a47]\n",
       "cluster E1--><a href=\"psysml:90f2a1bf-87a7-47cf-b7dc-49b41c6fd8e7\" target=\"_top\" title=\"psysml:90f2a1bf-87a7-47cf-b7dc-49b41c6fd8e7\" xlink:actuate=\"onRequest\" xlink:href=\"psysml:90f2a1bf-87a7-47cf-b7dc-49b41c6fd8e7\" xlink:show=\"new\" xlink:title=\"psysml:90f2a1bf-87a7-47cf-b7dc-49b41c6fd8e7\" xlink:type=\"simple\"><polygon fill=\"#FFFFFF\" filter=\"url(#f1l5q4pi8k3tkl)\" points=\"16,6,163,6,170,28.2969,343,28.2969,343,291,16,291,16,6\" style=\"stroke: #000000; stroke-width: 1.5;\"/><line style=\"stroke: #000000; stroke-width: 1.5;\" x1=\"16\" x2=\"170\" y1=\"28.2969\" y2=\"28.2969\"/><text fill=\"#000000\" font-family=\"sans-serif\" font-size=\"14\" font-weight=\"bold\" lengthAdjust=\"spacingAndGlyphs\" textLength=\"141\" x=\"20\" y=\"20.9951\">PrivateImportTest</text></a><!--MD5=[e4f7fae6ed58524ba242bb0b0d3be6b7]\n",
       "cluster E2--><a href=\"psysml:16275eaf-61bd-4171-b64d-9c4aa1fed5b3\" target=\"_top\" title=\"psysml:16275eaf-61bd-4171-b64d-9c4aa1fed5b3\" xlink:actuate=\"onRequest\" xlink:href=\"psysml:16275eaf-61bd-4171-b64d-9c4aa1fed5b3\" xlink:show=\"new\" xlink:title=\"psysml:16275eaf-61bd-4171-b64d-9c4aa1fed5b3\" xlink:type=\"simple\"><polygon fill=\"#FFFFFF\" filter=\"url(#f1l5q4pi8k3tkl)\" points=\"211,170,237,170,244,192.2969,309,192.2969,309,267,211,267,211,170\" style=\"stroke: #000000; stroke-width: 1.5;\"/><line style=\"stroke: #000000; stroke-width: 1.5;\" x1=\"211\" x2=\"244\" y1=\"192.2969\" y2=\"192.2969\"/><text fill=\"#000000\" font-family=\"sans-serif\" font-size=\"14\" font-weight=\"bold\" lengthAdjust=\"spacingAndGlyphs\" textLength=\"20\" x=\"215\" y=\"184.9951\">P1</text></a><!--MD5=[14e3b0961a2654348d326746436168a1]\n",
       "cluster E6--><a href=\"psysml:9d4f5989-8a3e-4397-a866-52670c662db3\" target=\"_top\" title=\"psysml:9d4f5989-8a3e-4397-a866-52670c662db3\" xlink:actuate=\"onRequest\" xlink:href=\"psysml:9d4f5989-8a3e-4397-a866-52670c662db3\" xlink:show=\"new\" xlink:title=\"psysml:9d4f5989-8a3e-4397-a866-52670c662db3\" xlink:type=\"simple\"><polygon fill=\"#FFFFFF\" filter=\"url(#f1l5q4pi8k3tkl)\" points=\"79,170,105,170,112,192.2969,177,192.2969,177,267,79,267,79,170\" style=\"stroke: #000000; stroke-width: 1.5;\"/><line style=\"stroke: #000000; stroke-width: 1.5;\" x1=\"79\" x2=\"112\" y1=\"192.2969\" y2=\"192.2969\"/><text fill=\"#000000\" font-family=\"sans-serif\" font-size=\"14\" font-weight=\"bold\" lengthAdjust=\"spacingAndGlyphs\" textLength=\"20\" x=\"83\" y=\"184.9951\">P3</text></a><!--MD5=[7f149f147074ac12df2cb0a7728a5fb0]\n",
       "cluster E9--><a href=\"psysml:5979dd71-75f1-4b72-84ed-7ab4ecfce4b9\" target=\"_top\" title=\"psysml:5979dd71-75f1-4b72-84ed-7ab4ecfce4b9\" xlink:actuate=\"onRequest\" xlink:href=\"psysml:5979dd71-75f1-4b72-84ed-7ab4ecfce4b9\" xlink:show=\"new\" xlink:title=\"psysml:5979dd71-75f1-4b72-84ed-7ab4ecfce4b9\" xlink:type=\"simple\"><polygon fill=\"#FFFFFF\" filter=\"url(#f1l5q4pi8k3tkl)\" points=\"245,49,271,49,278,71.2969,319,71.2969,319,146,245,146,245,49\" style=\"stroke: #000000; stroke-width: 1.5;\"/><line style=\"stroke: #000000; stroke-width: 1.5;\" x1=\"245\" x2=\"278\" y1=\"71.2969\" y2=\"71.2969\"/><text fill=\"#000000\" font-family=\"sans-serif\" font-size=\"14\" font-weight=\"bold\" lengthAdjust=\"spacingAndGlyphs\" textLength=\"20\" x=\"249\" y=\"63.9951\">P4</text></a><!--MD5=[270fce915f116d4de14055a7c1d9a0f3]\n",
       "class E5--><a href=\"psysml:0c75b404-ec52-4836-8cbb-5da98c4a5930\" target=\"_top\" title=\"psysml:0c75b404-ec52-4836-8cbb-5da98c4a5930\" xlink:actuate=\"onRequest\" xlink:href=\"psysml:0c75b404-ec52-4836-8cbb-5da98c4a5930\" xlink:show=\"new\" xlink:title=\"psysml:0c75b404-ec52-4836-8cbb-5da98c4a5930\" xlink:type=\"simple\"><rect fill=\"#FEFECE\" filter=\"url(#f1l5q4pi8k3tkl)\" height=\"45.9375\" id=\"E5\" rx=\"10\" ry=\"10\" style=\"stroke: #A80036; stroke-width: 1.5;\" width=\"42\" x=\"184\" y=\"84\"/><text fill=\"#000000\" font-family=\"sans-serif\" font-size=\"12\" font-style=\"italic\" lengthAdjust=\"spacingAndGlyphs\" textLength=\"40\" x=\"185\" y=\"100.1387\">«part»</text><text fill=\"#000000\" font-family=\"sans-serif\" font-size=\"12\" lengthAdjust=\"spacingAndGlyphs\" textLength=\"22\" x=\"194\" y=\"114.1074\">x: A</text><line style=\"stroke: #A80036; stroke-width: 1.5;\" x1=\"185\" x2=\"225\" y1=\"121.9375\" y2=\"121.9375\"/></a><!--MD5=[b9389687b975829384b498ac4b7476b2]\n",
       "class E8--><a href=\"psysml:f43ee61a-1d92-4bcd-a6ef-463238303c09\" target=\"_top\" title=\"psysml:f43ee61a-1d92-4bcd-a6ef-463238303c09\" xlink:actuate=\"onRequest\" xlink:href=\"psysml:f43ee61a-1d92-4bcd-a6ef-463238303c09\" xlink:show=\"new\" xlink:title=\"psysml:f43ee61a-1d92-4bcd-a6ef-463238303c09\" xlink:type=\"simple\"><rect fill=\"#FEFECE\" filter=\"url(#f1l5q4pi8k3tkl)\" height=\"45.9375\" id=\"E8\" rx=\"10\" ry=\"10\" style=\"stroke: #A80036; stroke-width: 1.5;\" width=\"42\" x=\"107\" y=\"84\"/><text fill=\"#000000\" font-family=\"sans-serif\" font-size=\"12\" font-style=\"italic\" lengthAdjust=\"spacingAndGlyphs\" textLength=\"40\" x=\"108\" y=\"100.1387\">«part»</text><text fill=\"#000000\" font-family=\"sans-serif\" font-size=\"12\" lengthAdjust=\"spacingAndGlyphs\" textLength=\"21\" x=\"117.5\" y=\"114.1074\">z: B</text><line style=\"stroke: #A80036; stroke-width: 1.5;\" x1=\"108\" x2=\"148\" y1=\"121.9375\" y2=\"121.9375\"/></a><!--MD5=[09b614a08d8cba4a07c9adeb5e0fee81]\n",
       "class E3--><a href=\"psysml:c33e3566-7ac4-4487-b3df-3cd0148aac2a\" target=\"_top\" title=\"psysml:c33e3566-7ac4-4487-b3df-3cd0148aac2a\" xlink:actuate=\"onRequest\" xlink:href=\"psysml:c33e3566-7ac4-4487-b3df-3cd0148aac2a\" xlink:show=\"new\" xlink:title=\"psysml:c33e3566-7ac4-4487-b3df-3cd0148aac2a\" xlink:type=\"simple\"><rect fill=\"#FEFECE\" filter=\"url(#f1l5q4pi8k3tkl)\" height=\"45.9375\" id=\"E3\" style=\"stroke: #A80036; stroke-width: 1.5;\" width=\"66\" x=\"227\" y=\"205\"/><text fill=\"#000000\" font-family=\"sans-serif\" font-size=\"12\" font-style=\"italic\" lengthAdjust=\"spacingAndGlyphs\" textLength=\"64\" x=\"228\" y=\"221.1387\">«part def»</text><text fill=\"#000000\" font-family=\"sans-serif\" font-size=\"12\" lengthAdjust=\"spacingAndGlyphs\" textLength=\"8\" x=\"256\" y=\"235.1074\">A</text><line style=\"stroke: #A80036; stroke-width: 1.5;\" x1=\"228\" x2=\"292\" y1=\"242.9375\" y2=\"242.9375\"/></a><a href=\"psysml:b9d82d12-80d8-4b65-b32b-0d4caf256cd7\" target=\"_top\" title=\"psysml:b9d82d12-80d8-4b65-b32b-0d4caf256cd7\" xlink:actuate=\"onRequest\" xlink:href=\"psysml:b9d82d12-80d8-4b65-b32b-0d4caf256cd7\" xlink:show=\"new\" xlink:title=\"psysml:b9d82d12-80d8-4b65-b32b-0d4caf256cd7\" xlink:type=\"simple\"><polygon fill=\"#FFFFFF\" filter=\"url(#f1l5q4pi8k3tkl)\" points=\"32,80.5,58,80.5,65,102.7969,72,102.7969,72,133.0938,32,133.0938,32,80.5\" style=\"stroke: #000000; stroke-width: 1.5;\"/><line style=\"stroke: #000000; stroke-width: 1.5;\" x1=\"32\" x2=\"65\" y1=\"102.7969\" y2=\"102.7969\"/><text fill=\"#000000\" font-family=\"sans-serif\" font-size=\"14\" font-weight=\"bold\" lengthAdjust=\"spacingAndGlyphs\" textLength=\"20\" x=\"36\" y=\"95.4951\">P2</text></a><!--MD5=[2156ba9850f5573cc1fc38a6a4b2f02b]\n",
       "class E7--><a href=\"psysml:70818b0d-1657-43d7-b586-0302676d35dd\" target=\"_top\" title=\"psysml:70818b0d-1657-43d7-b586-0302676d35dd\" xlink:actuate=\"onRequest\" xlink:href=\"psysml:70818b0d-1657-43d7-b586-0302676d35dd\" xlink:show=\"new\" xlink:title=\"psysml:70818b0d-1657-43d7-b586-0302676d35dd\" xlink:type=\"simple\"><rect fill=\"#FEFECE\" filter=\"url(#f1l5q4pi8k3tkl)\" height=\"45.9375\" id=\"E7\" style=\"stroke: #A80036; stroke-width: 1.5;\" width=\"66\" x=\"95\" y=\"205\"/><text fill=\"#000000\" font-family=\"sans-serif\" font-size=\"12\" font-style=\"italic\" lengthAdjust=\"spacingAndGlyphs\" textLength=\"64\" x=\"96\" y=\"221.1387\">«part def»</text><text fill=\"#000000\" font-family=\"sans-serif\" font-size=\"12\" lengthAdjust=\"spacingAndGlyphs\" textLength=\"8\" x=\"124\" y=\"235.1074\">B</text><line style=\"stroke: #A80036; stroke-width: 1.5;\" x1=\"96\" x2=\"160\" y1=\"242.9375\" y2=\"242.9375\"/></a><!--MD5=[96f4274e9e20536e775497830990834d]\n",
       "class E10--><a href=\"psysml:e183bef4-e50f-4a79-aea2-e72f91ae33b1\" target=\"_top\" title=\"psysml:e183bef4-e50f-4a79-aea2-e72f91ae33b1\" xlink:actuate=\"onRequest\" xlink:href=\"psysml:e183bef4-e50f-4a79-aea2-e72f91ae33b1\" xlink:show=\"new\" xlink:title=\"psysml:e183bef4-e50f-4a79-aea2-e72f91ae33b1\" xlink:type=\"simple\"><rect fill=\"#FEFECE\" filter=\"url(#f1l5q4pi8k3tkl)\" height=\"45.9375\" id=\"E10\" rx=\"10\" ry=\"10\" style=\"stroke: #A80036; stroke-width: 1.5;\" width=\"42\" x=\"261\" y=\"84\"/><text fill=\"#000000\" font-family=\"sans-serif\" font-size=\"12\" font-style=\"italic\" lengthAdjust=\"spacingAndGlyphs\" textLength=\"40\" x=\"262\" y=\"100.1387\">«part»</text><text fill=\"#000000\" font-family=\"sans-serif\" font-size=\"12\" lengthAdjust=\"spacingAndGlyphs\" textLength=\"29\" x=\"267.5\" y=\"114.1074\">z1: A</text><line style=\"stroke: #A80036; stroke-width: 1.5;\" x1=\"262\" x2=\"302\" y1=\"121.9375\" y2=\"121.9375\"/></a><!--MD5=[e9be52314489bd878ff4c7144b63c9e1]\n",
       "link E5 to E3--><a href=\"psysml:f8be15bd-6ead-4f94-a81d-297834d3bff2\" target=\"_top\" title=\"psysml:f8be15bd-6ead-4f94-a81d-297834d3bff2\" xlink:actuate=\"onRequest\" xlink:href=\"psysml:f8be15bd-6ead-4f94-a81d-297834d3bff2\" xlink:show=\"new\" xlink:title=\"psysml:f8be15bd-6ead-4f94-a81d-297834d3bff2\" xlink:type=\"simple\"><path d=\"M215.22,130.1 C222.5,145.87 232.51,167.52 241.22,186.36 \" fill=\"none\" id=\"E5-&gt;E3\" style=\"stroke: #A80036; stroke-width: 1.0;\"/><polygon fill=\"#FFFFFF\" points=\"249.65,204.61,235.3286,190.2958,248.0386,184.4258,249.65,204.61\" style=\"stroke: #A80036; stroke-width: 1.0;\"/><ellipse cx=\"234.7544\" cy=\"184.2824\" fill=\"#A80036\" rx=\"2\" ry=\"2\" style=\"stroke: #A80036; stroke-width: 1.0;\"/><ellipse cx=\"243.8329\" cy=\"180.0896\" fill=\"#A80036\" rx=\"2\" ry=\"2\" style=\"stroke: #A80036; stroke-width: 1.0;\"/></a><!--MD5=[bfa3c8b0d15052fdf50ae9310b491027]\n",
       "link E8 to E7--><a href=\"psysml:2890fdf6-d136-470e-95db-a042243a6f10\" target=\"_top\" title=\"psysml:2890fdf6-d136-470e-95db-a042243a6f10\" xlink:actuate=\"onRequest\" xlink:href=\"psysml:2890fdf6-d136-470e-95db-a042243a6f10\" xlink:show=\"new\" xlink:title=\"psysml:2890fdf6-d136-470e-95db-a042243a6f10\" xlink:type=\"simple\"><path d=\"M128,130.1 C128,145.37 128,166.16 128,184.57 \" fill=\"none\" id=\"E8-&gt;E7\" style=\"stroke: #A80036; stroke-width: 1.0;\"/><polygon fill=\"#FFFFFF\" points=\"128,204.61,121,185.61,135,185.61,128,204.61\" style=\"stroke: #A80036; stroke-width: 1.0;\"/><ellipse cx=\"123\" cy=\"179.91\" fill=\"#A80036\" rx=\"2\" ry=\"2\" style=\"stroke: #A80036; stroke-width: 1.0;\"/><ellipse cx=\"133\" cy=\"179.91\" fill=\"#A80036\" rx=\"2\" ry=\"2\" style=\"stroke: #A80036; stroke-width: 1.0;\"/></a><!--MD5=[feeac5eb423634930294aa81f2d25a4c]\n",
       "link E10 to E3--><a href=\"psysml:25a6672d-e3f3-453e-a929-7fba59fa68e7\" target=\"_top\" title=\"psysml:25a6672d-e3f3-453e-a929-7fba59fa68e7\" xlink:actuate=\"onRequest\" xlink:href=\"psysml:25a6672d-e3f3-453e-a929-7fba59fa68e7\" xlink:show=\"new\" xlink:title=\"psysml:25a6672d-e3f3-453e-a929-7fba59fa68e7\" xlink:type=\"simple\"><path d=\"M277.91,130.1 C275.08,145.45 271.21,166.39 267.79,184.87 \" fill=\"none\" id=\"E10-&gt;E3\" style=\"stroke: #A80036; stroke-width: 1.0;\"/><polygon fill=\"#FFFFFF\" points=\"264.14,204.61,260.7167,184.653,274.4827,187.2023,264.14,204.61\" style=\"stroke: #A80036; stroke-width: 1.0;\"/><ellipse cx=\"263.7212\" cy=\"179.4125\" fill=\"#A80036\" rx=\"2\" ry=\"2\" style=\"stroke: #A80036; stroke-width: 1.0;\"/><ellipse cx=\"273.554\" cy=\"181.2334\" fill=\"#A80036\" rx=\"2\" ry=\"2\" style=\"stroke: #A80036; stroke-width: 1.0;\"/></a><!--MD5=[e6f7dbfe65766965731d4b17ae82ea29]\n",
       "@startuml\r\n",
       "skinparam wrapWidth 300\r\n",
       "hide circle\r\n",
       "\r\n",
       "package \"PrivateImportTest\" as E1  [[psysml:90f2a1bf-87a7-47cf-b7dc-49b41c6fd8e7 ]]  {\r\n",
       "package \"P1\" as E2  [[psysml:16275eaf-61bd-4171-b64d-9c4aa1fed5b3 ]]  {\r\n",
       "comp def \"A\" as E3  <<(T,blue) part def>> [[psysml:c33e3566-7ac4-4487-b3df-3cd0148aac2a ]] {\r\n",
       "}\r\n",
       "}\r\n",
       "package \"P2\" as E4  [[psysml:b9d82d12-80d8-4b65-b32b-0d4caf256cd7 ]]  {\r\n",
       "}\r\n",
       "comp usage \"x: A\" as E5  <<(T,blue) part>> [[psysml:0c75b404-ec52-4836-8cbb-5da98c4a5930 ]] {\r\n",
       "}\r\n",
       "package \"P3\" as E6  [[psysml:9d4f5989-8a3e-4397-a866-52670c662db3 ]]  {\r\n",
       "comp def \"B\" as E7  <<(T,blue) part def>> [[psysml:70818b0d-1657-43d7-b586-0302676d35dd ]] {\r\n",
       "}\r\n",
       "E5 - -:|> E3 [[psysml:f8be15bd-6ead-4f94-a81d-297834d3bff2 ]] \r\n",
       "}\r\n",
       "comp usage \"z: B\" as E8  <<(T,blue) part>> [[psysml:f43ee61a-1d92-4bcd-a6ef-463238303c09 ]] {\r\n",
       "}\r\n",
       "package \"P4\" as E9  [[psysml:5979dd71-75f1-4b72-84ed-7ab4ecfce4b9 ]]  {\r\n",
       "comp usage \"z1: A\" as E10  <<(T,blue) part>> [[psysml:e183bef4-e50f-4a79-aea2-e72f91ae33b1 ]] {\r\n",
       "}\r\n",
       "E8 - -:|> E7 [[psysml:2890fdf6-d136-470e-95db-a042243a6f10 ]] \r\n",
       "E10 - -:|> E3 [[psysml:25a6672d-e3f3-453e-a929-7fba59fa68e7 ]] \r\n",
       "}\r\n",
       "}\r\n",
       "@enduml\r\n",
       "\n",
       "PlantUML version 1.2020.13(Sat Jun 13 12:26:38 UTC 2020)\n",
       "(EPL source distribution)\n",
       "Java Runtime: OpenJDK Runtime Environment\n",
       "JVM: OpenJDK 64-Bit Server VM\n",
       "Default Encoding: UTF-8\n",
       "Language: en\n",
       "Country: null\n",
       "--></g></svg>"
      ]
     },
     "execution_count": 24,
     "metadata": {},
     "output_type": "execute_result"
    }
   ],
   "source": [
    "%viz --style=\"STDCOLOR\" --view=\"Tree\" \"PrivateImportTest\""
   ]
  },
  {
   "cell_type": "code",
   "execution_count": 25,
   "id": "45ee850a",
   "metadata": {
    "execution": {
     "iopub.execute_input": "2021-08-04T06:27:55.750708Z",
     "iopub.status.busy": "2021-08-04T06:27:55.750473Z",
     "iopub.status.idle": "2021-08-04T06:27:55.755214Z",
     "shell.execute_reply": "2021-08-04T06:27:55.755536Z"
    }
   },
   "outputs": [
    {
     "data": {
      "image/svg+xml": [
       "<?xml version=\"1.0\" encoding=\"UTF-8\" standalone=\"no\"?><svg xmlns=\"http://www.w3.org/2000/svg\" xmlns:xlink=\"http://www.w3.org/1999/xlink\" contentScriptType=\"application/ecmascript\" contentStyleType=\"text/css\" height=\"12px\" preserveAspectRatio=\"none\" style=\"width:12px;height:12px;\" version=\"1.1\" viewBox=\"0 0 12 12\" width=\"12px\" zoomAndPan=\"magnify\"><defs/><g><!--MD5=[aeeef50f102b80d730deb6443d14f702]\n",
       "@startuml\r\n",
       "skinparam wrapWidth 300\r\n",
       "hide circle\r\n",
       "\r\n",
       "@enduml\r\n",
       "\n",
       "PlantUML version 1.2020.13(Sat Jun 13 12:26:38 UTC 2020)\n",
       "(EPL source distribution)\n",
       "Java Runtime: OpenJDK Runtime Environment\n",
       "JVM: OpenJDK 64-Bit Server VM\n",
       "Default Encoding: UTF-8\n",
       "Language: en\n",
       "Country: null\n",
       "--></g></svg>"
      ]
     },
     "execution_count": 25,
     "metadata": {},
     "output_type": "execute_result"
    }
   ],
   "source": [
    "%viz --style=\"STDCOLOR\" --view=\"State\" \"PrivateImportTest\""
   ]
  },
  {
   "cell_type": "code",
   "execution_count": 26,
   "id": "a1ce43e2",
   "metadata": {
    "execution": {
     "iopub.execute_input": "2021-08-04T06:27:55.805528Z",
     "iopub.status.busy": "2021-08-04T06:27:55.805307Z",
     "iopub.status.idle": "2021-08-04T06:27:55.830921Z",
     "shell.execute_reply": "2021-08-04T06:27:55.830056Z"
    }
   },
   "outputs": [
    {
     "data": {
      "image/svg+xml": [
       "<?xml version=\"1.0\" encoding=\"UTF-8\" standalone=\"no\"?><svg xmlns=\"http://www.w3.org/2000/svg\" xmlns:xlink=\"http://www.w3.org/1999/xlink\" contentScriptType=\"application/ecmascript\" contentStyleType=\"text/css\" height=\"179px\" preserveAspectRatio=\"none\" style=\"width:645px;height:179px;\" version=\"1.1\" viewBox=\"0 0 645 179\" width=\"645px\" zoomAndPan=\"magnify\"><defs><filter height=\"300%\" id=\"f1ow14xztc21tt\" width=\"300%\" x=\"-1\" y=\"-1\"><feGaussianBlur result=\"blurOut\" stdDeviation=\"2.0\"/><feColorMatrix in=\"blurOut\" result=\"blurOut2\" type=\"matrix\" values=\"0 0 0 0 0 0 0 0 0 0 0 0 0 0 0 0 0 0 .4 0\"/><feOffset dx=\"4.0\" dy=\"4.0\" in=\"blurOut2\" result=\"blurOut3\"/><feBlend in=\"SourceGraphic\" in2=\"blurOut3\" mode=\"normal\"/></filter></defs><g><!--MD5=[fbc87193dbaf4d95561dea2c320d4a47]\n",
       "cluster E1--><a href=\"psysml:90f2a1bf-87a7-47cf-b7dc-49b41c6fd8e7\" target=\"_top\" title=\"psysml:90f2a1bf-87a7-47cf-b7dc-49b41c6fd8e7\" xlink:actuate=\"onRequest\" xlink:href=\"psysml:90f2a1bf-87a7-47cf-b7dc-49b41c6fd8e7\" xlink:show=\"new\" xlink:title=\"psysml:90f2a1bf-87a7-47cf-b7dc-49b41c6fd8e7\" xlink:type=\"simple\"><polygon fill=\"#FFFFFF\" filter=\"url(#f1ow14xztc21tt)\" points=\"16,6,163,6,170,28.2969,623,28.2969,623,167,16,167,16,6\" style=\"stroke: #000000; stroke-width: 1.5;\"/><line style=\"stroke: #000000; stroke-width: 1.5;\" x1=\"16\" x2=\"170\" y1=\"28.2969\" y2=\"28.2969\"/><text fill=\"#000000\" font-family=\"sans-serif\" font-size=\"14\" font-weight=\"bold\" lengthAdjust=\"spacingAndGlyphs\" textLength=\"141\" x=\"20\" y=\"20.9951\">PrivateImportTest</text></a><!--MD5=[e4f7fae6ed58524ba242bb0b0d3be6b7]\n",
       "cluster E2--><a href=\"psysml:16275eaf-61bd-4171-b64d-9c4aa1fed5b3\" target=\"_top\" title=\"psysml:16275eaf-61bd-4171-b64d-9c4aa1fed5b3\" xlink:actuate=\"onRequest\" xlink:href=\"psysml:16275eaf-61bd-4171-b64d-9c4aa1fed5b3\" xlink:show=\"new\" xlink:title=\"psysml:16275eaf-61bd-4171-b64d-9c4aa1fed5b3\" xlink:type=\"simple\"><polygon fill=\"#FFFFFF\" filter=\"url(#f1ow14xztc21tt)\" points=\"495,49,521,49,528,71.2969,599,71.2969,599,143,495,143,495,49\" style=\"stroke: #000000; stroke-width: 1.5;\"/><line style=\"stroke: #000000; stroke-width: 1.5;\" x1=\"495\" x2=\"528\" y1=\"71.2969\" y2=\"71.2969\"/><text fill=\"#000000\" font-family=\"sans-serif\" font-size=\"14\" font-weight=\"bold\" lengthAdjust=\"spacingAndGlyphs\" textLength=\"20\" x=\"499\" y=\"63.9951\">P1</text></a><!--MD5=[14e3b0961a2654348d326746436168a1]\n",
       "cluster E6--><a href=\"psysml:9d4f5989-8a3e-4397-a866-52670c662db3\" target=\"_top\" title=\"psysml:9d4f5989-8a3e-4397-a866-52670c662db3\" xlink:actuate=\"onRequest\" xlink:href=\"psysml:9d4f5989-8a3e-4397-a866-52670c662db3\" xlink:show=\"new\" xlink:title=\"psysml:9d4f5989-8a3e-4397-a866-52670c662db3\" xlink:type=\"simple\"><polygon fill=\"#FFFFFF\" filter=\"url(#f1ow14xztc21tt)\" points=\"367,49,393,49,400,71.2969,471,71.2969,471,143,367,143,367,49\" style=\"stroke: #000000; stroke-width: 1.5;\"/><line style=\"stroke: #000000; stroke-width: 1.5;\" x1=\"367\" x2=\"400\" y1=\"71.2969\" y2=\"71.2969\"/><text fill=\"#000000\" font-family=\"sans-serif\" font-size=\"14\" font-weight=\"bold\" lengthAdjust=\"spacingAndGlyphs\" textLength=\"20\" x=\"371\" y=\"63.9951\">P3</text></a><!--MD5=[7f149f147074ac12df2cb0a7728a5fb0]\n",
       "cluster E9--><a href=\"psysml:5979dd71-75f1-4b72-84ed-7ab4ecfce4b9\" target=\"_top\" title=\"psysml:5979dd71-75f1-4b72-84ed-7ab4ecfce4b9\" xlink:actuate=\"onRequest\" xlink:href=\"psysml:5979dd71-75f1-4b72-84ed-7ab4ecfce4b9\" xlink:show=\"new\" xlink:title=\"psysml:5979dd71-75f1-4b72-84ed-7ab4ecfce4b9\" xlink:type=\"simple\"><polygon fill=\"#FFFFFF\" filter=\"url(#f1ow14xztc21tt)\" points=\"261,50.5,287,50.5,294,72.7969,343,72.7969,343,141.5,261,141.5,261,50.5\" style=\"stroke: #000000; stroke-width: 1.5;\"/><line style=\"stroke: #000000; stroke-width: 1.5;\" x1=\"261\" x2=\"294\" y1=\"72.7969\" y2=\"72.7969\"/><text fill=\"#000000\" font-family=\"sans-serif\" font-size=\"14\" font-weight=\"bold\" lengthAdjust=\"spacingAndGlyphs\" textLength=\"20\" x=\"265\" y=\"65.4951\">P4</text></a><g id=\"E1.E2.E3\"><a href=\"psysml:c33e3566-7ac4-4487-b3df-3cd0148aac2a\" target=\"_top\" title=\"psysml:c33e3566-7ac4-4487-b3df-3cd0148aac2a\" xlink:actuate=\"onRequest\" xlink:href=\"psysml:c33e3566-7ac4-4487-b3df-3cd0148aac2a\" xlink:show=\"new\" xlink:title=\"psysml:c33e3566-7ac4-4487-b3df-3cd0148aac2a\" xlink:type=\"simple\"><rect fill=\"#FEFECE\" filter=\"url(#f1ow14xztc21tt)\" height=\"42.9375\" id=\"E3\" style=\"stroke: #A80036; stroke-width: 1.5;\" width=\"71\" x=\"511.5\" y=\"84\"/><text fill=\"#000000\" font-family=\"sans-serif\" font-size=\"12\" font-style=\"italic\" lengthAdjust=\"spacingAndGlyphs\" textLength=\"64\" x=\"515\" y=\"100.1387\">«part def»</text><text fill=\"#000000\" font-family=\"sans-serif\" font-size=\"12\" lengthAdjust=\"spacingAndGlyphs\" textLength=\"8\" x=\"543\" y=\"114.1074\">A</text></a></g><a href=\"psysml:b9d82d12-80d8-4b65-b32b-0d4caf256cd7\" target=\"_top\" title=\"psysml:b9d82d12-80d8-4b65-b32b-0d4caf256cd7\" xlink:actuate=\"onRequest\" xlink:href=\"psysml:b9d82d12-80d8-4b65-b32b-0d4caf256cd7\" xlink:show=\"new\" xlink:title=\"psysml:b9d82d12-80d8-4b65-b32b-0d4caf256cd7\" xlink:type=\"simple\"><polygon fill=\"#FFFFFF\" filter=\"url(#f1ow14xztc21tt)\" points=\"202,79,228,79,235,101.2969,242,101.2969,242,131.5938,202,131.5938,202,79\" style=\"stroke: #000000; stroke-width: 1.5;\"/><line style=\"stroke: #000000; stroke-width: 1.5;\" x1=\"202\" x2=\"235\" y1=\"101.2969\" y2=\"101.2969\"/><text fill=\"#000000\" font-family=\"sans-serif\" font-size=\"14\" font-weight=\"bold\" lengthAdjust=\"spacingAndGlyphs\" textLength=\"20\" x=\"206\" y=\"93.9951\">P2</text></a><g id=\"E1.E5\"><a href=\"psysml:0c75b404-ec52-4836-8cbb-5da98c4a5930\" target=\"_top\" title=\"psysml:0c75b404-ec52-4836-8cbb-5da98c4a5930\" xlink:actuate=\"onRequest\" xlink:href=\"psysml:0c75b404-ec52-4836-8cbb-5da98c4a5930\" xlink:show=\"new\" xlink:title=\"psysml:0c75b404-ec52-4836-8cbb-5da98c4a5930\" xlink:type=\"simple\"><rect fill=\"#FEFECE\" filter=\"url(#f1ow14xztc21tt)\" height=\"40\" id=\"E5\" rx=\"10\" ry=\"10\" style=\"stroke: #A80036; stroke-width: 1.5;\" width=\"50\" x=\"117\" y=\"85.5\"/><text fill=\"#000000\" font-family=\"sans-serif\" font-size=\"12\" lengthAdjust=\"spacingAndGlyphs\" textLength=\"22\" x=\"131\" y=\"101.6387\">x: A</text></a></g><g id=\"E1.E6.E7\"><a href=\"psysml:70818b0d-1657-43d7-b586-0302676d35dd\" target=\"_top\" title=\"psysml:70818b0d-1657-43d7-b586-0302676d35dd\" xlink:actuate=\"onRequest\" xlink:href=\"psysml:70818b0d-1657-43d7-b586-0302676d35dd\" xlink:show=\"new\" xlink:title=\"psysml:70818b0d-1657-43d7-b586-0302676d35dd\" xlink:type=\"simple\"><rect fill=\"#FEFECE\" filter=\"url(#f1ow14xztc21tt)\" height=\"42.9375\" id=\"E7\" style=\"stroke: #A80036; stroke-width: 1.5;\" width=\"71\" x=\"383.5\" y=\"84\"/><text fill=\"#000000\" font-family=\"sans-serif\" font-size=\"12\" font-style=\"italic\" lengthAdjust=\"spacingAndGlyphs\" textLength=\"64\" x=\"387\" y=\"100.1387\">«part def»</text><text fill=\"#000000\" font-family=\"sans-serif\" font-size=\"12\" lengthAdjust=\"spacingAndGlyphs\" textLength=\"8\" x=\"415\" y=\"114.1074\">B</text></a></g><g id=\"E1.E8\"><a href=\"psysml:f43ee61a-1d92-4bcd-a6ef-463238303c09\" target=\"_top\" title=\"psysml:f43ee61a-1d92-4bcd-a6ef-463238303c09\" xlink:actuate=\"onRequest\" xlink:href=\"psysml:f43ee61a-1d92-4bcd-a6ef-463238303c09\" xlink:show=\"new\" xlink:title=\"psysml:f43ee61a-1d92-4bcd-a6ef-463238303c09\" xlink:type=\"simple\"><rect fill=\"#FEFECE\" filter=\"url(#f1ow14xztc21tt)\" height=\"40\" id=\"E8\" rx=\"10\" ry=\"10\" style=\"stroke: #A80036; stroke-width: 1.5;\" width=\"50\" x=\"32\" y=\"85.5\"/><text fill=\"#000000\" font-family=\"sans-serif\" font-size=\"12\" lengthAdjust=\"spacingAndGlyphs\" textLength=\"21\" x=\"46.5\" y=\"101.6387\">z: B</text></a></g><g id=\"E1.E9.E10\"><a href=\"psysml:e183bef4-e50f-4a79-aea2-e72f91ae33b1\" target=\"_top\" title=\"psysml:e183bef4-e50f-4a79-aea2-e72f91ae33b1\" xlink:actuate=\"onRequest\" xlink:href=\"psysml:e183bef4-e50f-4a79-aea2-e72f91ae33b1\" xlink:show=\"new\" xlink:title=\"psysml:e183bef4-e50f-4a79-aea2-e72f91ae33b1\" xlink:type=\"simple\"><rect fill=\"#FEFECE\" filter=\"url(#f1ow14xztc21tt)\" height=\"40\" id=\"E10\" rx=\"10\" ry=\"10\" style=\"stroke: #A80036; stroke-width: 1.5;\" width=\"50\" x=\"277\" y=\"85.5\"/><text fill=\"#000000\" font-family=\"sans-serif\" font-size=\"12\" lengthAdjust=\"spacingAndGlyphs\" textLength=\"29\" x=\"287.5\" y=\"101.6387\">z1: A</text></a></g><!--MD5=[0c74c609cff1a534ea460db8df2ed0c8]\n",
       "@startuml\r\n",
       "skinparam ranksep 10\r\n",
       "skinparam rectangle {\r\n",
       " backgroundColor<<block>> LightGreen\r\n",
       "}\r\n",
       "skinparam wrapWidth 300\r\n",
       "hide circle\r\n",
       "\r\n",
       "package \"PrivateImportTest\" as E1  [[psysml:90f2a1bf-87a7-47cf-b7dc-49b41c6fd8e7 ]]  {\r\n",
       "package \"P1\" as E2  [[psysml:16275eaf-61bd-4171-b64d-9c4aa1fed5b3 ]]  {\r\n",
       "rec def \"A\" as E3  <<(T,blue) part def>> [[psysml:c33e3566-7ac4-4487-b3df-3cd0148aac2a ]] {\r\n",
       "}\r\n",
       "}\r\n",
       "package \"P2\" as E4  [[psysml:b9d82d12-80d8-4b65-b32b-0d4caf256cd7 ]]  {\r\n",
       "}\r\n",
       "rec usage \"x: A\" as E5  [[psysml:0c75b404-ec52-4836-8cbb-5da98c4a5930 ]] {\r\n",
       "}\r\n",
       "package \"P3\" as E6  [[psysml:9d4f5989-8a3e-4397-a866-52670c662db3 ]]  {\r\n",
       "rec def \"B\" as E7  <<(T,blue) part def>> [[psysml:70818b0d-1657-43d7-b586-0302676d35dd ]] {\r\n",
       "}\r\n",
       "}\r\n",
       "rec usage \"z: B\" as E8  [[psysml:f43ee61a-1d92-4bcd-a6ef-463238303c09 ]] {\r\n",
       "}\r\n",
       "package \"P4\" as E9  [[psysml:5979dd71-75f1-4b72-84ed-7ab4ecfce4b9 ]]  {\r\n",
       "rec usage \"z1: A\" as E10  [[psysml:e183bef4-e50f-4a79-aea2-e72f91ae33b1 ]] {\r\n",
       "}\r\n",
       "}\r\n",
       "}\r\n",
       "@enduml\r\n",
       "\n",
       "PlantUML version 1.2020.13(Sat Jun 13 12:26:38 UTC 2020)\n",
       "(EPL source distribution)\n",
       "Java Runtime: OpenJDK Runtime Environment\n",
       "JVM: OpenJDK 64-Bit Server VM\n",
       "Default Encoding: UTF-8\n",
       "Language: en\n",
       "Country: null\n",
       "--></g></svg>"
      ]
     },
     "execution_count": 26,
     "metadata": {},
     "output_type": "execute_result"
    }
   ],
   "source": [
    "%viz --style=\"STDCOLOR\" --view=\"Interconnection\" \"PrivateImportTest\""
   ]
  },
  {
   "cell_type": "code",
   "execution_count": 27,
   "id": "f1863ccd",
   "metadata": {
    "execution": {
     "iopub.execute_input": "2021-08-04T06:27:55.881148Z",
     "iopub.status.busy": "2021-08-04T06:27:55.880706Z",
     "iopub.status.idle": "2021-08-04T06:27:55.883752Z",
     "shell.execute_reply": "2021-08-04T06:27:55.883568Z"
    }
   },
   "outputs": [
    {
     "data": {
      "image/svg+xml": [
       "<?xml version=\"1.0\" encoding=\"UTF-8\" standalone=\"no\"?><svg xmlns=\"http://www.w3.org/2000/svg\" xmlns:xlink=\"http://www.w3.org/1999/xlink\" contentScriptType=\"application/ecmascript\" contentStyleType=\"text/css\" height=\"12px\" preserveAspectRatio=\"none\" style=\"width:12px;height:12px;\" version=\"1.1\" viewBox=\"0 0 12 12\" width=\"12px\" zoomAndPan=\"magnify\"><defs/><g><!--MD5=[9863325348a96a77dacc89509d8ee65e]\n",
       "@startuml\r\n",
       "skinparam ranksep 8\r\n",
       "skinparam wrapWidth 300\r\n",
       "hide circle\r\n",
       "\r\n",
       "@enduml\r\n",
       "\n",
       "PlantUML version 1.2020.13(Sat Jun 13 12:26:38 UTC 2020)\n",
       "(EPL source distribution)\n",
       "Java Runtime: OpenJDK Runtime Environment\n",
       "JVM: OpenJDK 64-Bit Server VM\n",
       "Default Encoding: UTF-8\n",
       "Language: en\n",
       "Country: null\n",
       "--></g></svg>"
      ]
     },
     "execution_count": 27,
     "metadata": {},
     "output_type": "execute_result"
    }
   ],
   "source": [
    "%viz --style=\"STDCOLOR\" --view=\"Action\" \"PrivateImportTest\""
   ]
  },
  {
   "cell_type": "code",
   "execution_count": 28,
   "id": "86cf417f",
   "metadata": {
    "execution": {
     "iopub.execute_input": "2021-08-04T06:27:55.933669Z",
     "iopub.status.busy": "2021-08-04T06:27:55.933467Z",
     "iopub.status.idle": "2021-08-04T06:27:55.965111Z",
     "shell.execute_reply": "2021-08-04T06:27:55.964724Z"
    }
   },
   "outputs": [
    {
     "data": {
      "image/svg+xml": [
       "<?xml version=\"1.0\" encoding=\"UTF-8\" standalone=\"no\"?><svg xmlns=\"http://www.w3.org/2000/svg\" xmlns:xlink=\"http://www.w3.org/1999/xlink\" contentScriptType=\"application/ecmascript\" contentStyleType=\"text/css\" height=\"303px\" preserveAspectRatio=\"none\" style=\"width:365px;height:303px;\" version=\"1.1\" viewBox=\"0 0 365 303\" width=\"365px\" zoomAndPan=\"magnify\"><defs><filter height=\"300%\" id=\"f1l5q4pi8k3tkl\" width=\"300%\" x=\"-1\" y=\"-1\"><feGaussianBlur result=\"blurOut\" stdDeviation=\"2.0\"/><feColorMatrix in=\"blurOut\" result=\"blurOut2\" type=\"matrix\" values=\"0 0 0 0 0 0 0 0 0 0 0 0 0 0 0 0 0 0 .4 0\"/><feOffset dx=\"4.0\" dy=\"4.0\" in=\"blurOut2\" result=\"blurOut3\"/><feBlend in=\"SourceGraphic\" in2=\"blurOut3\" mode=\"normal\"/></filter></defs><g><!--MD5=[fbc87193dbaf4d95561dea2c320d4a47]\n",
       "cluster E1--><a href=\"psysml:90f2a1bf-87a7-47cf-b7dc-49b41c6fd8e7\" target=\"_top\" title=\"psysml:90f2a1bf-87a7-47cf-b7dc-49b41c6fd8e7\" xlink:actuate=\"onRequest\" xlink:href=\"psysml:90f2a1bf-87a7-47cf-b7dc-49b41c6fd8e7\" xlink:show=\"new\" xlink:title=\"psysml:90f2a1bf-87a7-47cf-b7dc-49b41c6fd8e7\" xlink:type=\"simple\"><polygon fill=\"#FFFFFF\" filter=\"url(#f1l5q4pi8k3tkl)\" points=\"16,6,163,6,170,28.2969,343,28.2969,343,291,16,291,16,6\" style=\"stroke: #000000; stroke-width: 1.5;\"/><line style=\"stroke: #000000; stroke-width: 1.5;\" x1=\"16\" x2=\"170\" y1=\"28.2969\" y2=\"28.2969\"/><text fill=\"#000000\" font-family=\"sans-serif\" font-size=\"14\" font-weight=\"bold\" lengthAdjust=\"spacingAndGlyphs\" textLength=\"141\" x=\"20\" y=\"20.9951\">PrivateImportTest</text></a><!--MD5=[e4f7fae6ed58524ba242bb0b0d3be6b7]\n",
       "cluster E2--><a href=\"psysml:16275eaf-61bd-4171-b64d-9c4aa1fed5b3\" target=\"_top\" title=\"psysml:16275eaf-61bd-4171-b64d-9c4aa1fed5b3\" xlink:actuate=\"onRequest\" xlink:href=\"psysml:16275eaf-61bd-4171-b64d-9c4aa1fed5b3\" xlink:show=\"new\" xlink:title=\"psysml:16275eaf-61bd-4171-b64d-9c4aa1fed5b3\" xlink:type=\"simple\"><polygon fill=\"#FFFFFF\" filter=\"url(#f1l5q4pi8k3tkl)\" points=\"211,170,237,170,244,192.2969,309,192.2969,309,267,211,267,211,170\" style=\"stroke: #000000; stroke-width: 1.5;\"/><line style=\"stroke: #000000; stroke-width: 1.5;\" x1=\"211\" x2=\"244\" y1=\"192.2969\" y2=\"192.2969\"/><text fill=\"#000000\" font-family=\"sans-serif\" font-size=\"14\" font-weight=\"bold\" lengthAdjust=\"spacingAndGlyphs\" textLength=\"20\" x=\"215\" y=\"184.9951\">P1</text></a><!--MD5=[14e3b0961a2654348d326746436168a1]\n",
       "cluster E6--><a href=\"psysml:9d4f5989-8a3e-4397-a866-52670c662db3\" target=\"_top\" title=\"psysml:9d4f5989-8a3e-4397-a866-52670c662db3\" xlink:actuate=\"onRequest\" xlink:href=\"psysml:9d4f5989-8a3e-4397-a866-52670c662db3\" xlink:show=\"new\" xlink:title=\"psysml:9d4f5989-8a3e-4397-a866-52670c662db3\" xlink:type=\"simple\"><polygon fill=\"#FFFFFF\" filter=\"url(#f1l5q4pi8k3tkl)\" points=\"79,170,105,170,112,192.2969,177,192.2969,177,267,79,267,79,170\" style=\"stroke: #000000; stroke-width: 1.5;\"/><line style=\"stroke: #000000; stroke-width: 1.5;\" x1=\"79\" x2=\"112\" y1=\"192.2969\" y2=\"192.2969\"/><text fill=\"#000000\" font-family=\"sans-serif\" font-size=\"14\" font-weight=\"bold\" lengthAdjust=\"spacingAndGlyphs\" textLength=\"20\" x=\"83\" y=\"184.9951\">P3</text></a><!--MD5=[7f149f147074ac12df2cb0a7728a5fb0]\n",
       "cluster E9--><a href=\"psysml:5979dd71-75f1-4b72-84ed-7ab4ecfce4b9\" target=\"_top\" title=\"psysml:5979dd71-75f1-4b72-84ed-7ab4ecfce4b9\" xlink:actuate=\"onRequest\" xlink:href=\"psysml:5979dd71-75f1-4b72-84ed-7ab4ecfce4b9\" xlink:show=\"new\" xlink:title=\"psysml:5979dd71-75f1-4b72-84ed-7ab4ecfce4b9\" xlink:type=\"simple\"><polygon fill=\"#FFFFFF\" filter=\"url(#f1l5q4pi8k3tkl)\" points=\"245,49,271,49,278,71.2969,319,71.2969,319,146,245,146,245,49\" style=\"stroke: #000000; stroke-width: 1.5;\"/><line style=\"stroke: #000000; stroke-width: 1.5;\" x1=\"245\" x2=\"278\" y1=\"71.2969\" y2=\"71.2969\"/><text fill=\"#000000\" font-family=\"sans-serif\" font-size=\"14\" font-weight=\"bold\" lengthAdjust=\"spacingAndGlyphs\" textLength=\"20\" x=\"249\" y=\"63.9951\">P4</text></a><!--MD5=[270fce915f116d4de14055a7c1d9a0f3]\n",
       "class E5--><a href=\"psysml:0c75b404-ec52-4836-8cbb-5da98c4a5930\" target=\"_top\" title=\"psysml:0c75b404-ec52-4836-8cbb-5da98c4a5930\" xlink:actuate=\"onRequest\" xlink:href=\"psysml:0c75b404-ec52-4836-8cbb-5da98c4a5930\" xlink:show=\"new\" xlink:title=\"psysml:0c75b404-ec52-4836-8cbb-5da98c4a5930\" xlink:type=\"simple\"><rect fill=\"#FEFECE\" filter=\"url(#f1l5q4pi8k3tkl)\" height=\"45.9375\" id=\"E5\" rx=\"10\" ry=\"10\" style=\"stroke: #A80036; stroke-width: 1.5;\" width=\"42\" x=\"184\" y=\"84\"/><text fill=\"#000000\" font-family=\"sans-serif\" font-size=\"12\" font-style=\"italic\" lengthAdjust=\"spacingAndGlyphs\" textLength=\"40\" x=\"185\" y=\"100.1387\">«part»</text><text fill=\"#000000\" font-family=\"sans-serif\" font-size=\"12\" lengthAdjust=\"spacingAndGlyphs\" textLength=\"22\" x=\"194\" y=\"114.1074\">x: A</text><line style=\"stroke: #A80036; stroke-width: 1.5;\" x1=\"185\" x2=\"225\" y1=\"121.9375\" y2=\"121.9375\"/></a><!--MD5=[b9389687b975829384b498ac4b7476b2]\n",
       "class E8--><a href=\"psysml:f43ee61a-1d92-4bcd-a6ef-463238303c09\" target=\"_top\" title=\"psysml:f43ee61a-1d92-4bcd-a6ef-463238303c09\" xlink:actuate=\"onRequest\" xlink:href=\"psysml:f43ee61a-1d92-4bcd-a6ef-463238303c09\" xlink:show=\"new\" xlink:title=\"psysml:f43ee61a-1d92-4bcd-a6ef-463238303c09\" xlink:type=\"simple\"><rect fill=\"#FEFECE\" filter=\"url(#f1l5q4pi8k3tkl)\" height=\"45.9375\" id=\"E8\" rx=\"10\" ry=\"10\" style=\"stroke: #A80036; stroke-width: 1.5;\" width=\"42\" x=\"107\" y=\"84\"/><text fill=\"#000000\" font-family=\"sans-serif\" font-size=\"12\" font-style=\"italic\" lengthAdjust=\"spacingAndGlyphs\" textLength=\"40\" x=\"108\" y=\"100.1387\">«part»</text><text fill=\"#000000\" font-family=\"sans-serif\" font-size=\"12\" lengthAdjust=\"spacingAndGlyphs\" textLength=\"21\" x=\"117.5\" y=\"114.1074\">z: B</text><line style=\"stroke: #A80036; stroke-width: 1.5;\" x1=\"108\" x2=\"148\" y1=\"121.9375\" y2=\"121.9375\"/></a><!--MD5=[09b614a08d8cba4a07c9adeb5e0fee81]\n",
       "class E3--><a href=\"psysml:c33e3566-7ac4-4487-b3df-3cd0148aac2a\" target=\"_top\" title=\"psysml:c33e3566-7ac4-4487-b3df-3cd0148aac2a\" xlink:actuate=\"onRequest\" xlink:href=\"psysml:c33e3566-7ac4-4487-b3df-3cd0148aac2a\" xlink:show=\"new\" xlink:title=\"psysml:c33e3566-7ac4-4487-b3df-3cd0148aac2a\" xlink:type=\"simple\"><rect fill=\"#FEFECE\" filter=\"url(#f1l5q4pi8k3tkl)\" height=\"45.9375\" id=\"E3\" style=\"stroke: #A80036; stroke-width: 1.5;\" width=\"66\" x=\"227\" y=\"205\"/><text fill=\"#000000\" font-family=\"sans-serif\" font-size=\"12\" font-style=\"italic\" lengthAdjust=\"spacingAndGlyphs\" textLength=\"64\" x=\"228\" y=\"221.1387\">«part def»</text><text fill=\"#000000\" font-family=\"sans-serif\" font-size=\"12\" lengthAdjust=\"spacingAndGlyphs\" textLength=\"8\" x=\"256\" y=\"235.1074\">A</text><line style=\"stroke: #A80036; stroke-width: 1.5;\" x1=\"228\" x2=\"292\" y1=\"242.9375\" y2=\"242.9375\"/></a><a href=\"psysml:b9d82d12-80d8-4b65-b32b-0d4caf256cd7\" target=\"_top\" title=\"psysml:b9d82d12-80d8-4b65-b32b-0d4caf256cd7\" xlink:actuate=\"onRequest\" xlink:href=\"psysml:b9d82d12-80d8-4b65-b32b-0d4caf256cd7\" xlink:show=\"new\" xlink:title=\"psysml:b9d82d12-80d8-4b65-b32b-0d4caf256cd7\" xlink:type=\"simple\"><polygon fill=\"#FFFFFF\" filter=\"url(#f1l5q4pi8k3tkl)\" points=\"32,80.5,58,80.5,65,102.7969,72,102.7969,72,133.0938,32,133.0938,32,80.5\" style=\"stroke: #000000; stroke-width: 1.5;\"/><line style=\"stroke: #000000; stroke-width: 1.5;\" x1=\"32\" x2=\"65\" y1=\"102.7969\" y2=\"102.7969\"/><text fill=\"#000000\" font-family=\"sans-serif\" font-size=\"14\" font-weight=\"bold\" lengthAdjust=\"spacingAndGlyphs\" textLength=\"20\" x=\"36\" y=\"95.4951\">P2</text></a><!--MD5=[2156ba9850f5573cc1fc38a6a4b2f02b]\n",
       "class E7--><a href=\"psysml:70818b0d-1657-43d7-b586-0302676d35dd\" target=\"_top\" title=\"psysml:70818b0d-1657-43d7-b586-0302676d35dd\" xlink:actuate=\"onRequest\" xlink:href=\"psysml:70818b0d-1657-43d7-b586-0302676d35dd\" xlink:show=\"new\" xlink:title=\"psysml:70818b0d-1657-43d7-b586-0302676d35dd\" xlink:type=\"simple\"><rect fill=\"#FEFECE\" filter=\"url(#f1l5q4pi8k3tkl)\" height=\"45.9375\" id=\"E7\" style=\"stroke: #A80036; stroke-width: 1.5;\" width=\"66\" x=\"95\" y=\"205\"/><text fill=\"#000000\" font-family=\"sans-serif\" font-size=\"12\" font-style=\"italic\" lengthAdjust=\"spacingAndGlyphs\" textLength=\"64\" x=\"96\" y=\"221.1387\">«part def»</text><text fill=\"#000000\" font-family=\"sans-serif\" font-size=\"12\" lengthAdjust=\"spacingAndGlyphs\" textLength=\"8\" x=\"124\" y=\"235.1074\">B</text><line style=\"stroke: #A80036; stroke-width: 1.5;\" x1=\"96\" x2=\"160\" y1=\"242.9375\" y2=\"242.9375\"/></a><!--MD5=[96f4274e9e20536e775497830990834d]\n",
       "class E10--><a href=\"psysml:e183bef4-e50f-4a79-aea2-e72f91ae33b1\" target=\"_top\" title=\"psysml:e183bef4-e50f-4a79-aea2-e72f91ae33b1\" xlink:actuate=\"onRequest\" xlink:href=\"psysml:e183bef4-e50f-4a79-aea2-e72f91ae33b1\" xlink:show=\"new\" xlink:title=\"psysml:e183bef4-e50f-4a79-aea2-e72f91ae33b1\" xlink:type=\"simple\"><rect fill=\"#FEFECE\" filter=\"url(#f1l5q4pi8k3tkl)\" height=\"45.9375\" id=\"E10\" rx=\"10\" ry=\"10\" style=\"stroke: #A80036; stroke-width: 1.5;\" width=\"42\" x=\"261\" y=\"84\"/><text fill=\"#000000\" font-family=\"sans-serif\" font-size=\"12\" font-style=\"italic\" lengthAdjust=\"spacingAndGlyphs\" textLength=\"40\" x=\"262\" y=\"100.1387\">«part»</text><text fill=\"#000000\" font-family=\"sans-serif\" font-size=\"12\" lengthAdjust=\"spacingAndGlyphs\" textLength=\"29\" x=\"267.5\" y=\"114.1074\">z1: A</text><line style=\"stroke: #A80036; stroke-width: 1.5;\" x1=\"262\" x2=\"302\" y1=\"121.9375\" y2=\"121.9375\"/></a><!--MD5=[e9be52314489bd878ff4c7144b63c9e1]\n",
       "link E5 to E3--><a href=\"psysml:f8be15bd-6ead-4f94-a81d-297834d3bff2\" target=\"_top\" title=\"psysml:f8be15bd-6ead-4f94-a81d-297834d3bff2\" xlink:actuate=\"onRequest\" xlink:href=\"psysml:f8be15bd-6ead-4f94-a81d-297834d3bff2\" xlink:show=\"new\" xlink:title=\"psysml:f8be15bd-6ead-4f94-a81d-297834d3bff2\" xlink:type=\"simple\"><path d=\"M215.22,130.1 C222.5,145.87 232.51,167.52 241.22,186.36 \" fill=\"none\" id=\"E5-&gt;E3\" style=\"stroke: #A80036; stroke-width: 1.0;\"/><polygon fill=\"#FFFFFF\" points=\"249.65,204.61,235.3286,190.2958,248.0386,184.4258,249.65,204.61\" style=\"stroke: #A80036; stroke-width: 1.0;\"/><ellipse cx=\"234.7544\" cy=\"184.2824\" fill=\"#A80036\" rx=\"2\" ry=\"2\" style=\"stroke: #A80036; stroke-width: 1.0;\"/><ellipse cx=\"243.8329\" cy=\"180.0896\" fill=\"#A80036\" rx=\"2\" ry=\"2\" style=\"stroke: #A80036; stroke-width: 1.0;\"/></a><!--MD5=[bfa3c8b0d15052fdf50ae9310b491027]\n",
       "link E8 to E7--><a href=\"psysml:2890fdf6-d136-470e-95db-a042243a6f10\" target=\"_top\" title=\"psysml:2890fdf6-d136-470e-95db-a042243a6f10\" xlink:actuate=\"onRequest\" xlink:href=\"psysml:2890fdf6-d136-470e-95db-a042243a6f10\" xlink:show=\"new\" xlink:title=\"psysml:2890fdf6-d136-470e-95db-a042243a6f10\" xlink:type=\"simple\"><path d=\"M128,130.1 C128,145.37 128,166.16 128,184.57 \" fill=\"none\" id=\"E8-&gt;E7\" style=\"stroke: #A80036; stroke-width: 1.0;\"/><polygon fill=\"#FFFFFF\" points=\"128,204.61,121,185.61,135,185.61,128,204.61\" style=\"stroke: #A80036; stroke-width: 1.0;\"/><ellipse cx=\"123\" cy=\"179.91\" fill=\"#A80036\" rx=\"2\" ry=\"2\" style=\"stroke: #A80036; stroke-width: 1.0;\"/><ellipse cx=\"133\" cy=\"179.91\" fill=\"#A80036\" rx=\"2\" ry=\"2\" style=\"stroke: #A80036; stroke-width: 1.0;\"/></a><!--MD5=[feeac5eb423634930294aa81f2d25a4c]\n",
       "link E10 to E3--><a href=\"psysml:25a6672d-e3f3-453e-a929-7fba59fa68e7\" target=\"_top\" title=\"psysml:25a6672d-e3f3-453e-a929-7fba59fa68e7\" xlink:actuate=\"onRequest\" xlink:href=\"psysml:25a6672d-e3f3-453e-a929-7fba59fa68e7\" xlink:show=\"new\" xlink:title=\"psysml:25a6672d-e3f3-453e-a929-7fba59fa68e7\" xlink:type=\"simple\"><path d=\"M277.91,130.1 C275.08,145.45 271.21,166.39 267.79,184.87 \" fill=\"none\" id=\"E10-&gt;E3\" style=\"stroke: #A80036; stroke-width: 1.0;\"/><polygon fill=\"#FFFFFF\" points=\"264.14,204.61,260.7167,184.653,274.4827,187.2023,264.14,204.61\" style=\"stroke: #A80036; stroke-width: 1.0;\"/><ellipse cx=\"263.7212\" cy=\"179.4125\" fill=\"#A80036\" rx=\"2\" ry=\"2\" style=\"stroke: #A80036; stroke-width: 1.0;\"/><ellipse cx=\"273.554\" cy=\"181.2334\" fill=\"#A80036\" rx=\"2\" ry=\"2\" style=\"stroke: #A80036; stroke-width: 1.0;\"/></a><!--MD5=[e6f7dbfe65766965731d4b17ae82ea29]\n",
       "@startuml\r\n",
       "skinparam wrapWidth 300\r\n",
       "hide circle\r\n",
       "\r\n",
       "package \"PrivateImportTest\" as E1  [[psysml:90f2a1bf-87a7-47cf-b7dc-49b41c6fd8e7 ]]  {\r\n",
       "package \"P1\" as E2  [[psysml:16275eaf-61bd-4171-b64d-9c4aa1fed5b3 ]]  {\r\n",
       "comp def \"A\" as E3  <<(T,blue) part def>> [[psysml:c33e3566-7ac4-4487-b3df-3cd0148aac2a ]] {\r\n",
       "}\r\n",
       "}\r\n",
       "package \"P2\" as E4  [[psysml:b9d82d12-80d8-4b65-b32b-0d4caf256cd7 ]]  {\r\n",
       "}\r\n",
       "comp usage \"x: A\" as E5  <<(T,blue) part>> [[psysml:0c75b404-ec52-4836-8cbb-5da98c4a5930 ]] {\r\n",
       "}\r\n",
       "package \"P3\" as E6  [[psysml:9d4f5989-8a3e-4397-a866-52670c662db3 ]]  {\r\n",
       "comp def \"B\" as E7  <<(T,blue) part def>> [[psysml:70818b0d-1657-43d7-b586-0302676d35dd ]] {\r\n",
       "}\r\n",
       "E5 - -:|> E3 [[psysml:f8be15bd-6ead-4f94-a81d-297834d3bff2 ]] \r\n",
       "}\r\n",
       "comp usage \"z: B\" as E8  <<(T,blue) part>> [[psysml:f43ee61a-1d92-4bcd-a6ef-463238303c09 ]] {\r\n",
       "}\r\n",
       "package \"P4\" as E9  [[psysml:5979dd71-75f1-4b72-84ed-7ab4ecfce4b9 ]]  {\r\n",
       "comp usage \"z1: A\" as E10  <<(T,blue) part>> [[psysml:e183bef4-e50f-4a79-aea2-e72f91ae33b1 ]] {\r\n",
       "}\r\n",
       "E8 - -:|> E7 [[psysml:2890fdf6-d136-470e-95db-a042243a6f10 ]] \r\n",
       "E10 - -:|> E3 [[psysml:25a6672d-e3f3-453e-a929-7fba59fa68e7 ]] \r\n",
       "}\r\n",
       "}\r\n",
       "@enduml\r\n",
       "\n",
       "PlantUML version 1.2020.13(Sat Jun 13 12:26:38 UTC 2020)\n",
       "(EPL source distribution)\n",
       "Java Runtime: OpenJDK Runtime Environment\n",
       "JVM: OpenJDK 64-Bit Server VM\n",
       "Default Encoding: UTF-8\n",
       "Language: en\n",
       "Country: null\n",
       "--></g></svg>"
      ]
     },
     "execution_count": 28,
     "metadata": {},
     "output_type": "execute_result"
    }
   ],
   "source": [
    "%viz --style=\"STDCOLOR\" --view=\"Sequence\" \"PrivateImportTest\""
   ]
  },
  {
   "cell_type": "code",
   "execution_count": 29,
   "id": "ff30a0d8",
   "metadata": {
    "execution": {
     "iopub.execute_input": "2021-08-04T06:27:56.014313Z",
     "iopub.status.busy": "2021-08-04T06:27:56.014060Z",
     "iopub.status.idle": "2021-08-04T06:27:56.042148Z",
     "shell.execute_reply": "2021-08-04T06:27:56.041945Z"
    }
   },
   "outputs": [
    {
     "data": {
      "image/svg+xml": [
       "<?xml version=\"1.0\" encoding=\"UTF-8\" standalone=\"no\"?><svg xmlns=\"http://www.w3.org/2000/svg\" xmlns:xlink=\"http://www.w3.org/1999/xlink\" contentScriptType=\"application/ecmascript\" contentStyleType=\"text/css\" height=\"303px\" preserveAspectRatio=\"none\" style=\"width:365px;height:303px;\" version=\"1.1\" viewBox=\"0 0 365 303\" width=\"365px\" zoomAndPan=\"magnify\"><defs><filter height=\"300%\" id=\"f1l5q4pi8k3tkl\" width=\"300%\" x=\"-1\" y=\"-1\"><feGaussianBlur result=\"blurOut\" stdDeviation=\"2.0\"/><feColorMatrix in=\"blurOut\" result=\"blurOut2\" type=\"matrix\" values=\"0 0 0 0 0 0 0 0 0 0 0 0 0 0 0 0 0 0 .4 0\"/><feOffset dx=\"4.0\" dy=\"4.0\" in=\"blurOut2\" result=\"blurOut3\"/><feBlend in=\"SourceGraphic\" in2=\"blurOut3\" mode=\"normal\"/></filter></defs><g><!--MD5=[fbc87193dbaf4d95561dea2c320d4a47]\n",
       "cluster E1--><a href=\"psysml:90f2a1bf-87a7-47cf-b7dc-49b41c6fd8e7\" target=\"_top\" title=\"psysml:90f2a1bf-87a7-47cf-b7dc-49b41c6fd8e7\" xlink:actuate=\"onRequest\" xlink:href=\"psysml:90f2a1bf-87a7-47cf-b7dc-49b41c6fd8e7\" xlink:show=\"new\" xlink:title=\"psysml:90f2a1bf-87a7-47cf-b7dc-49b41c6fd8e7\" xlink:type=\"simple\"><polygon fill=\"#FFFFFF\" filter=\"url(#f1l5q4pi8k3tkl)\" points=\"16,6,163,6,170,28.2969,343,28.2969,343,291,16,291,16,6\" style=\"stroke: #000000; stroke-width: 1.5;\"/><line style=\"stroke: #000000; stroke-width: 1.5;\" x1=\"16\" x2=\"170\" y1=\"28.2969\" y2=\"28.2969\"/><text fill=\"#000000\" font-family=\"sans-serif\" font-size=\"14\" font-weight=\"bold\" lengthAdjust=\"spacingAndGlyphs\" textLength=\"141\" x=\"20\" y=\"20.9951\">PrivateImportTest</text></a><!--MD5=[e4f7fae6ed58524ba242bb0b0d3be6b7]\n",
       "cluster E2--><a href=\"psysml:16275eaf-61bd-4171-b64d-9c4aa1fed5b3\" target=\"_top\" title=\"psysml:16275eaf-61bd-4171-b64d-9c4aa1fed5b3\" xlink:actuate=\"onRequest\" xlink:href=\"psysml:16275eaf-61bd-4171-b64d-9c4aa1fed5b3\" xlink:show=\"new\" xlink:title=\"psysml:16275eaf-61bd-4171-b64d-9c4aa1fed5b3\" xlink:type=\"simple\"><polygon fill=\"#FFFFFF\" filter=\"url(#f1l5q4pi8k3tkl)\" points=\"211,170,237,170,244,192.2969,309,192.2969,309,267,211,267,211,170\" style=\"stroke: #000000; stroke-width: 1.5;\"/><line style=\"stroke: #000000; stroke-width: 1.5;\" x1=\"211\" x2=\"244\" y1=\"192.2969\" y2=\"192.2969\"/><text fill=\"#000000\" font-family=\"sans-serif\" font-size=\"14\" font-weight=\"bold\" lengthAdjust=\"spacingAndGlyphs\" textLength=\"20\" x=\"215\" y=\"184.9951\">P1</text></a><!--MD5=[14e3b0961a2654348d326746436168a1]\n",
       "cluster E6--><a href=\"psysml:9d4f5989-8a3e-4397-a866-52670c662db3\" target=\"_top\" title=\"psysml:9d4f5989-8a3e-4397-a866-52670c662db3\" xlink:actuate=\"onRequest\" xlink:href=\"psysml:9d4f5989-8a3e-4397-a866-52670c662db3\" xlink:show=\"new\" xlink:title=\"psysml:9d4f5989-8a3e-4397-a866-52670c662db3\" xlink:type=\"simple\"><polygon fill=\"#FFFFFF\" filter=\"url(#f1l5q4pi8k3tkl)\" points=\"79,170,105,170,112,192.2969,177,192.2969,177,267,79,267,79,170\" style=\"stroke: #000000; stroke-width: 1.5;\"/><line style=\"stroke: #000000; stroke-width: 1.5;\" x1=\"79\" x2=\"112\" y1=\"192.2969\" y2=\"192.2969\"/><text fill=\"#000000\" font-family=\"sans-serif\" font-size=\"14\" font-weight=\"bold\" lengthAdjust=\"spacingAndGlyphs\" textLength=\"20\" x=\"83\" y=\"184.9951\">P3</text></a><!--MD5=[7f149f147074ac12df2cb0a7728a5fb0]\n",
       "cluster E9--><a href=\"psysml:5979dd71-75f1-4b72-84ed-7ab4ecfce4b9\" target=\"_top\" title=\"psysml:5979dd71-75f1-4b72-84ed-7ab4ecfce4b9\" xlink:actuate=\"onRequest\" xlink:href=\"psysml:5979dd71-75f1-4b72-84ed-7ab4ecfce4b9\" xlink:show=\"new\" xlink:title=\"psysml:5979dd71-75f1-4b72-84ed-7ab4ecfce4b9\" xlink:type=\"simple\"><polygon fill=\"#FFFFFF\" filter=\"url(#f1l5q4pi8k3tkl)\" points=\"245,49,271,49,278,71.2969,319,71.2969,319,146,245,146,245,49\" style=\"stroke: #000000; stroke-width: 1.5;\"/><line style=\"stroke: #000000; stroke-width: 1.5;\" x1=\"245\" x2=\"278\" y1=\"71.2969\" y2=\"71.2969\"/><text fill=\"#000000\" font-family=\"sans-serif\" font-size=\"14\" font-weight=\"bold\" lengthAdjust=\"spacingAndGlyphs\" textLength=\"20\" x=\"249\" y=\"63.9951\">P4</text></a><!--MD5=[270fce915f116d4de14055a7c1d9a0f3]\n",
       "class E5--><a href=\"psysml:0c75b404-ec52-4836-8cbb-5da98c4a5930\" target=\"_top\" title=\"psysml:0c75b404-ec52-4836-8cbb-5da98c4a5930\" xlink:actuate=\"onRequest\" xlink:href=\"psysml:0c75b404-ec52-4836-8cbb-5da98c4a5930\" xlink:show=\"new\" xlink:title=\"psysml:0c75b404-ec52-4836-8cbb-5da98c4a5930\" xlink:type=\"simple\"><rect fill=\"#FEFECE\" filter=\"url(#f1l5q4pi8k3tkl)\" height=\"45.9375\" id=\"E5\" rx=\"10\" ry=\"10\" style=\"stroke: #A80036; stroke-width: 1.5;\" width=\"42\" x=\"184\" y=\"84\"/><text fill=\"#000000\" font-family=\"sans-serif\" font-size=\"12\" font-style=\"italic\" lengthAdjust=\"spacingAndGlyphs\" textLength=\"40\" x=\"185\" y=\"100.1387\">«part»</text><text fill=\"#000000\" font-family=\"sans-serif\" font-size=\"12\" lengthAdjust=\"spacingAndGlyphs\" textLength=\"22\" x=\"194\" y=\"114.1074\">x: A</text><line style=\"stroke: #A80036; stroke-width: 1.5;\" x1=\"185\" x2=\"225\" y1=\"121.9375\" y2=\"121.9375\"/></a><!--MD5=[b9389687b975829384b498ac4b7476b2]\n",
       "class E8--><a href=\"psysml:f43ee61a-1d92-4bcd-a6ef-463238303c09\" target=\"_top\" title=\"psysml:f43ee61a-1d92-4bcd-a6ef-463238303c09\" xlink:actuate=\"onRequest\" xlink:href=\"psysml:f43ee61a-1d92-4bcd-a6ef-463238303c09\" xlink:show=\"new\" xlink:title=\"psysml:f43ee61a-1d92-4bcd-a6ef-463238303c09\" xlink:type=\"simple\"><rect fill=\"#FEFECE\" filter=\"url(#f1l5q4pi8k3tkl)\" height=\"45.9375\" id=\"E8\" rx=\"10\" ry=\"10\" style=\"stroke: #A80036; stroke-width: 1.5;\" width=\"42\" x=\"107\" y=\"84\"/><text fill=\"#000000\" font-family=\"sans-serif\" font-size=\"12\" font-style=\"italic\" lengthAdjust=\"spacingAndGlyphs\" textLength=\"40\" x=\"108\" y=\"100.1387\">«part»</text><text fill=\"#000000\" font-family=\"sans-serif\" font-size=\"12\" lengthAdjust=\"spacingAndGlyphs\" textLength=\"21\" x=\"117.5\" y=\"114.1074\">z: B</text><line style=\"stroke: #A80036; stroke-width: 1.5;\" x1=\"108\" x2=\"148\" y1=\"121.9375\" y2=\"121.9375\"/></a><!--MD5=[09b614a08d8cba4a07c9adeb5e0fee81]\n",
       "class E3--><a href=\"psysml:c33e3566-7ac4-4487-b3df-3cd0148aac2a\" target=\"_top\" title=\"psysml:c33e3566-7ac4-4487-b3df-3cd0148aac2a\" xlink:actuate=\"onRequest\" xlink:href=\"psysml:c33e3566-7ac4-4487-b3df-3cd0148aac2a\" xlink:show=\"new\" xlink:title=\"psysml:c33e3566-7ac4-4487-b3df-3cd0148aac2a\" xlink:type=\"simple\"><rect fill=\"#FEFECE\" filter=\"url(#f1l5q4pi8k3tkl)\" height=\"45.9375\" id=\"E3\" style=\"stroke: #A80036; stroke-width: 1.5;\" width=\"66\" x=\"227\" y=\"205\"/><text fill=\"#000000\" font-family=\"sans-serif\" font-size=\"12\" font-style=\"italic\" lengthAdjust=\"spacingAndGlyphs\" textLength=\"64\" x=\"228\" y=\"221.1387\">«part def»</text><text fill=\"#000000\" font-family=\"sans-serif\" font-size=\"12\" lengthAdjust=\"spacingAndGlyphs\" textLength=\"8\" x=\"256\" y=\"235.1074\">A</text><line style=\"stroke: #A80036; stroke-width: 1.5;\" x1=\"228\" x2=\"292\" y1=\"242.9375\" y2=\"242.9375\"/></a><a href=\"psysml:b9d82d12-80d8-4b65-b32b-0d4caf256cd7\" target=\"_top\" title=\"psysml:b9d82d12-80d8-4b65-b32b-0d4caf256cd7\" xlink:actuate=\"onRequest\" xlink:href=\"psysml:b9d82d12-80d8-4b65-b32b-0d4caf256cd7\" xlink:show=\"new\" xlink:title=\"psysml:b9d82d12-80d8-4b65-b32b-0d4caf256cd7\" xlink:type=\"simple\"><polygon fill=\"#FFFFFF\" filter=\"url(#f1l5q4pi8k3tkl)\" points=\"32,80.5,58,80.5,65,102.7969,72,102.7969,72,133.0938,32,133.0938,32,80.5\" style=\"stroke: #000000; stroke-width: 1.5;\"/><line style=\"stroke: #000000; stroke-width: 1.5;\" x1=\"32\" x2=\"65\" y1=\"102.7969\" y2=\"102.7969\"/><text fill=\"#000000\" font-family=\"sans-serif\" font-size=\"14\" font-weight=\"bold\" lengthAdjust=\"spacingAndGlyphs\" textLength=\"20\" x=\"36\" y=\"95.4951\">P2</text></a><!--MD5=[2156ba9850f5573cc1fc38a6a4b2f02b]\n",
       "class E7--><a href=\"psysml:70818b0d-1657-43d7-b586-0302676d35dd\" target=\"_top\" title=\"psysml:70818b0d-1657-43d7-b586-0302676d35dd\" xlink:actuate=\"onRequest\" xlink:href=\"psysml:70818b0d-1657-43d7-b586-0302676d35dd\" xlink:show=\"new\" xlink:title=\"psysml:70818b0d-1657-43d7-b586-0302676d35dd\" xlink:type=\"simple\"><rect fill=\"#FEFECE\" filter=\"url(#f1l5q4pi8k3tkl)\" height=\"45.9375\" id=\"E7\" style=\"stroke: #A80036; stroke-width: 1.5;\" width=\"66\" x=\"95\" y=\"205\"/><text fill=\"#000000\" font-family=\"sans-serif\" font-size=\"12\" font-style=\"italic\" lengthAdjust=\"spacingAndGlyphs\" textLength=\"64\" x=\"96\" y=\"221.1387\">«part def»</text><text fill=\"#000000\" font-family=\"sans-serif\" font-size=\"12\" lengthAdjust=\"spacingAndGlyphs\" textLength=\"8\" x=\"124\" y=\"235.1074\">B</text><line style=\"stroke: #A80036; stroke-width: 1.5;\" x1=\"96\" x2=\"160\" y1=\"242.9375\" y2=\"242.9375\"/></a><!--MD5=[96f4274e9e20536e775497830990834d]\n",
       "class E10--><a href=\"psysml:e183bef4-e50f-4a79-aea2-e72f91ae33b1\" target=\"_top\" title=\"psysml:e183bef4-e50f-4a79-aea2-e72f91ae33b1\" xlink:actuate=\"onRequest\" xlink:href=\"psysml:e183bef4-e50f-4a79-aea2-e72f91ae33b1\" xlink:show=\"new\" xlink:title=\"psysml:e183bef4-e50f-4a79-aea2-e72f91ae33b1\" xlink:type=\"simple\"><rect fill=\"#FEFECE\" filter=\"url(#f1l5q4pi8k3tkl)\" height=\"45.9375\" id=\"E10\" rx=\"10\" ry=\"10\" style=\"stroke: #A80036; stroke-width: 1.5;\" width=\"42\" x=\"261\" y=\"84\"/><text fill=\"#000000\" font-family=\"sans-serif\" font-size=\"12\" font-style=\"italic\" lengthAdjust=\"spacingAndGlyphs\" textLength=\"40\" x=\"262\" y=\"100.1387\">«part»</text><text fill=\"#000000\" font-family=\"sans-serif\" font-size=\"12\" lengthAdjust=\"spacingAndGlyphs\" textLength=\"29\" x=\"267.5\" y=\"114.1074\">z1: A</text><line style=\"stroke: #A80036; stroke-width: 1.5;\" x1=\"262\" x2=\"302\" y1=\"121.9375\" y2=\"121.9375\"/></a><!--MD5=[e9be52314489bd878ff4c7144b63c9e1]\n",
       "link E5 to E3--><a href=\"psysml:f8be15bd-6ead-4f94-a81d-297834d3bff2\" target=\"_top\" title=\"psysml:f8be15bd-6ead-4f94-a81d-297834d3bff2\" xlink:actuate=\"onRequest\" xlink:href=\"psysml:f8be15bd-6ead-4f94-a81d-297834d3bff2\" xlink:show=\"new\" xlink:title=\"psysml:f8be15bd-6ead-4f94-a81d-297834d3bff2\" xlink:type=\"simple\"><path d=\"M215.22,130.1 C222.5,145.87 232.51,167.52 241.22,186.36 \" fill=\"none\" id=\"E5-&gt;E3\" style=\"stroke: #A80036; stroke-width: 1.0;\"/><polygon fill=\"#FFFFFF\" points=\"249.65,204.61,235.3286,190.2958,248.0386,184.4258,249.65,204.61\" style=\"stroke: #A80036; stroke-width: 1.0;\"/><ellipse cx=\"234.7544\" cy=\"184.2824\" fill=\"#A80036\" rx=\"2\" ry=\"2\" style=\"stroke: #A80036; stroke-width: 1.0;\"/><ellipse cx=\"243.8329\" cy=\"180.0896\" fill=\"#A80036\" rx=\"2\" ry=\"2\" style=\"stroke: #A80036; stroke-width: 1.0;\"/></a><!--MD5=[bfa3c8b0d15052fdf50ae9310b491027]\n",
       "link E8 to E7--><a href=\"psysml:2890fdf6-d136-470e-95db-a042243a6f10\" target=\"_top\" title=\"psysml:2890fdf6-d136-470e-95db-a042243a6f10\" xlink:actuate=\"onRequest\" xlink:href=\"psysml:2890fdf6-d136-470e-95db-a042243a6f10\" xlink:show=\"new\" xlink:title=\"psysml:2890fdf6-d136-470e-95db-a042243a6f10\" xlink:type=\"simple\"><path d=\"M128,130.1 C128,145.37 128,166.16 128,184.57 \" fill=\"none\" id=\"E8-&gt;E7\" style=\"stroke: #A80036; stroke-width: 1.0;\"/><polygon fill=\"#FFFFFF\" points=\"128,204.61,121,185.61,135,185.61,128,204.61\" style=\"stroke: #A80036; stroke-width: 1.0;\"/><ellipse cx=\"123\" cy=\"179.91\" fill=\"#A80036\" rx=\"2\" ry=\"2\" style=\"stroke: #A80036; stroke-width: 1.0;\"/><ellipse cx=\"133\" cy=\"179.91\" fill=\"#A80036\" rx=\"2\" ry=\"2\" style=\"stroke: #A80036; stroke-width: 1.0;\"/></a><!--MD5=[feeac5eb423634930294aa81f2d25a4c]\n",
       "link E10 to E3--><a href=\"psysml:25a6672d-e3f3-453e-a929-7fba59fa68e7\" target=\"_top\" title=\"psysml:25a6672d-e3f3-453e-a929-7fba59fa68e7\" xlink:actuate=\"onRequest\" xlink:href=\"psysml:25a6672d-e3f3-453e-a929-7fba59fa68e7\" xlink:show=\"new\" xlink:title=\"psysml:25a6672d-e3f3-453e-a929-7fba59fa68e7\" xlink:type=\"simple\"><path d=\"M277.91,130.1 C275.08,145.45 271.21,166.39 267.79,184.87 \" fill=\"none\" id=\"E10-&gt;E3\" style=\"stroke: #A80036; stroke-width: 1.0;\"/><polygon fill=\"#FFFFFF\" points=\"264.14,204.61,260.7167,184.653,274.4827,187.2023,264.14,204.61\" style=\"stroke: #A80036; stroke-width: 1.0;\"/><ellipse cx=\"263.7212\" cy=\"179.4125\" fill=\"#A80036\" rx=\"2\" ry=\"2\" style=\"stroke: #A80036; stroke-width: 1.0;\"/><ellipse cx=\"273.554\" cy=\"181.2334\" fill=\"#A80036\" rx=\"2\" ry=\"2\" style=\"stroke: #A80036; stroke-width: 1.0;\"/></a><!--MD5=[e6f7dbfe65766965731d4b17ae82ea29]\n",
       "@startuml\r\n",
       "skinparam wrapWidth 300\r\n",
       "hide circle\r\n",
       "\r\n",
       "package \"PrivateImportTest\" as E1  [[psysml:90f2a1bf-87a7-47cf-b7dc-49b41c6fd8e7 ]]  {\r\n",
       "package \"P1\" as E2  [[psysml:16275eaf-61bd-4171-b64d-9c4aa1fed5b3 ]]  {\r\n",
       "comp def \"A\" as E3  <<(T,blue) part def>> [[psysml:c33e3566-7ac4-4487-b3df-3cd0148aac2a ]] {\r\n",
       "}\r\n",
       "}\r\n",
       "package \"P2\" as E4  [[psysml:b9d82d12-80d8-4b65-b32b-0d4caf256cd7 ]]  {\r\n",
       "}\r\n",
       "comp usage \"x: A\" as E5  <<(T,blue) part>> [[psysml:0c75b404-ec52-4836-8cbb-5da98c4a5930 ]] {\r\n",
       "}\r\n",
       "package \"P3\" as E6  [[psysml:9d4f5989-8a3e-4397-a866-52670c662db3 ]]  {\r\n",
       "comp def \"B\" as E7  <<(T,blue) part def>> [[psysml:70818b0d-1657-43d7-b586-0302676d35dd ]] {\r\n",
       "}\r\n",
       "E5 - -:|> E3 [[psysml:f8be15bd-6ead-4f94-a81d-297834d3bff2 ]] \r\n",
       "}\r\n",
       "comp usage \"z: B\" as E8  <<(T,blue) part>> [[psysml:f43ee61a-1d92-4bcd-a6ef-463238303c09 ]] {\r\n",
       "}\r\n",
       "package \"P4\" as E9  [[psysml:5979dd71-75f1-4b72-84ed-7ab4ecfce4b9 ]]  {\r\n",
       "comp usage \"z1: A\" as E10  <<(T,blue) part>> [[psysml:e183bef4-e50f-4a79-aea2-e72f91ae33b1 ]] {\r\n",
       "}\r\n",
       "E8 - -:|> E7 [[psysml:2890fdf6-d136-470e-95db-a042243a6f10 ]] \r\n",
       "E10 - -:|> E3 [[psysml:25a6672d-e3f3-453e-a929-7fba59fa68e7 ]] \r\n",
       "}\r\n",
       "}\r\n",
       "@enduml\r\n",
       "\n",
       "PlantUML version 1.2020.13(Sat Jun 13 12:26:38 UTC 2020)\n",
       "(EPL source distribution)\n",
       "Java Runtime: OpenJDK Runtime Environment\n",
       "JVM: OpenJDK 64-Bit Server VM\n",
       "Default Encoding: UTF-8\n",
       "Language: en\n",
       "Country: null\n",
       "--></g></svg>"
      ]
     },
     "execution_count": 29,
     "metadata": {},
     "output_type": "execute_result"
    }
   ],
   "source": [
    "%viz --style=\"STDCOLOR\" --view=\"MIXED\" \"PrivateImportTest\""
   ]
  },
  {
   "cell_type": "code",
   "execution_count": 30,
   "id": "9328af7f",
   "metadata": {
    "execution": {
     "iopub.execute_input": "2021-08-04T06:27:56.092352Z",
     "iopub.status.busy": "2021-08-04T06:27:56.092094Z",
     "iopub.status.idle": "2021-08-04T06:27:56.147614Z",
     "shell.execute_reply": "2021-08-04T06:27:56.147175Z"
    }
   },
   "outputs": [
    {
     "data": {
      "image/svg+xml": [
       "<?xml version=\"1.0\" encoding=\"UTF-8\" standalone=\"no\"?><svg xmlns=\"http://www.w3.org/2000/svg\" xmlns:xlink=\"http://www.w3.org/1999/xlink\" contentScriptType=\"application/ecmascript\" contentStyleType=\"text/css\" height=\"297px\" preserveAspectRatio=\"none\" style=\"width:443px;height:297px;\" version=\"1.1\" viewBox=\"0 0 443 297\" width=\"443px\" zoomAndPan=\"magnify\"><defs><filter height=\"300%\" id=\"f1fgcrg3m6vyse\" width=\"300%\" x=\"-1\" y=\"-1\"><feGaussianBlur result=\"blurOut\" stdDeviation=\"2.0\"/><feColorMatrix in=\"blurOut\" result=\"blurOut2\" type=\"matrix\" values=\"0 0 0 0 0 0 0 0 0 0 0 0 0 0 0 0 0 0 .4 0\"/><feOffset dx=\"4.0\" dy=\"4.0\" in=\"blurOut2\" result=\"blurOut3\"/><feBlend in=\"SourceGraphic\" in2=\"blurOut3\" mode=\"normal\"/></filter></defs><g><!--MD5=[fbc87193dbaf4d95561dea2c320d4a47]\n",
       "cluster E1--><a href=\"psysml:90f2a1bf-87a7-47cf-b7dc-49b41c6fd8e7\" target=\"_top\" title=\"psysml:90f2a1bf-87a7-47cf-b7dc-49b41c6fd8e7\" xlink:actuate=\"onRequest\" xlink:href=\"psysml:90f2a1bf-87a7-47cf-b7dc-49b41c6fd8e7\" xlink:show=\"new\" xlink:title=\"psysml:90f2a1bf-87a7-47cf-b7dc-49b41c6fd8e7\" xlink:type=\"simple\"><polygon fill=\"#FFFFFF\" filter=\"url(#f1fgcrg3m6vyse)\" points=\"16,6,163,6,170,28.2969,421,28.2969,421,285,16,285,16,6\" style=\"stroke: #000000; stroke-width: 1.5;\"/><line style=\"stroke: #000000; stroke-width: 1.5;\" x1=\"16\" x2=\"170\" y1=\"28.2969\" y2=\"28.2969\"/><text fill=\"#000000\" font-family=\"sans-serif\" font-size=\"14\" font-weight=\"bold\" lengthAdjust=\"spacingAndGlyphs\" textLength=\"141\" x=\"20\" y=\"20.9951\">PrivateImportTest</text></a><!--MD5=[e4f7fae6ed58524ba242bb0b0d3be6b7]\n",
       "cluster E2--><a href=\"psysml:16275eaf-61bd-4171-b64d-9c4aa1fed5b3\" target=\"_top\" title=\"psysml:16275eaf-61bd-4171-b64d-9c4aa1fed5b3\" xlink:actuate=\"onRequest\" xlink:href=\"psysml:16275eaf-61bd-4171-b64d-9c4aa1fed5b3\" xlink:show=\"new\" xlink:title=\"psysml:16275eaf-61bd-4171-b64d-9c4aa1fed5b3\" xlink:type=\"simple\"><polygon fill=\"#FFFFFF\" filter=\"url(#f1fgcrg3m6vyse)\" points=\"259,170,285,170,292,192.2969,331,192.2969,331,261,259,261,259,170\" style=\"stroke: #000000; stroke-width: 1.5;\"/><line style=\"stroke: #000000; stroke-width: 1.5;\" x1=\"259\" x2=\"292\" y1=\"192.2969\" y2=\"192.2969\"/><text fill=\"#000000\" font-family=\"sans-serif\" font-size=\"14\" font-weight=\"bold\" lengthAdjust=\"spacingAndGlyphs\" textLength=\"20\" x=\"263\" y=\"184.9951\">P1</text></a><!--MD5=[14e3b0961a2654348d326746436168a1]\n",
       "cluster E6--><a href=\"psysml:9d4f5989-8a3e-4397-a866-52670c662db3\" target=\"_top\" title=\"psysml:9d4f5989-8a3e-4397-a866-52670c662db3\" xlink:actuate=\"onRequest\" xlink:href=\"psysml:9d4f5989-8a3e-4397-a866-52670c662db3\" xlink:show=\"new\" xlink:title=\"psysml:9d4f5989-8a3e-4397-a866-52670c662db3\" xlink:type=\"simple\"><polygon fill=\"#FFFFFF\" filter=\"url(#f1fgcrg3m6vyse)\" points=\"105,170,131,170,138,192.2969,177,192.2969,177,261,105,261,105,170\" style=\"stroke: #000000; stroke-width: 1.5;\"/><line style=\"stroke: #000000; stroke-width: 1.5;\" x1=\"105\" x2=\"138\" y1=\"192.2969\" y2=\"192.2969\"/><text fill=\"#000000\" font-family=\"sans-serif\" font-size=\"14\" font-weight=\"bold\" lengthAdjust=\"spacingAndGlyphs\" textLength=\"20\" x=\"109\" y=\"184.9951\">P3</text></a><!--MD5=[7f149f147074ac12df2cb0a7728a5fb0]\n",
       "cluster E9--><a href=\"psysml:5979dd71-75f1-4b72-84ed-7ab4ecfce4b9\" target=\"_top\" title=\"psysml:5979dd71-75f1-4b72-84ed-7ab4ecfce4b9\" xlink:actuate=\"onRequest\" xlink:href=\"psysml:5979dd71-75f1-4b72-84ed-7ab4ecfce4b9\" xlink:show=\"new\" xlink:title=\"psysml:5979dd71-75f1-4b72-84ed-7ab4ecfce4b9\" xlink:type=\"simple\"><polygon fill=\"#FFFFFF\" filter=\"url(#f1fgcrg3m6vyse)\" points=\"297,49,323,49,330,71.2969,397,71.2969,397,146,297,146,297,49\" style=\"stroke: #000000; stroke-width: 1.5;\"/><line style=\"stroke: #000000; stroke-width: 1.5;\" x1=\"297\" x2=\"330\" y1=\"71.2969\" y2=\"71.2969\"/><text fill=\"#000000\" font-family=\"sans-serif\" font-size=\"14\" font-weight=\"bold\" lengthAdjust=\"spacingAndGlyphs\" textLength=\"20\" x=\"301\" y=\"63.9951\">P4</text></a><!--MD5=[270fce915f116d4de14055a7c1d9a0f3]\n",
       "class E5--><a href=\"psysml:0c75b404-ec52-4836-8cbb-5da98c4a5930\" target=\"_top\" title=\"psysml:0c75b404-ec52-4836-8cbb-5da98c4a5930\" xlink:actuate=\"onRequest\" xlink:href=\"psysml:0c75b404-ec52-4836-8cbb-5da98c4a5930\" xlink:show=\"new\" xlink:title=\"psysml:0c75b404-ec52-4836-8cbb-5da98c4a5930\" xlink:type=\"simple\"><rect fill=\"#FEFECE\" filter=\"url(#f1fgcrg3m6vyse)\" height=\"45.9375\" id=\"E5\" rx=\"10\" ry=\"10\" style=\"stroke: #A80036; stroke-width: 1.5;\" width=\"68\" x=\"210\" y=\"84\"/><ellipse cx=\"225\" cy=\"102.9688\" fill=\"#32CD32\" rx=\"11\" ry=\"11\" style=\"stroke: #A80036; stroke-width: 1.0;\"/><path d=\"M224.7969,98.6406 L224.7969,102.2656 L225.7969,102.2656 Q227,102.2656 227.4844,101.8594 Q227.9688,101.4531 227.9688,100.4531 Q227.9688,99.4531 227.4844,99.0469 Q227,98.6406 225.7969,98.6406 L224.7969,98.6406 Z M222.3438,96.5781 L225.7031,96.5781 Q228.2656,96.5781 229.3906,97.5 Q230.5156,98.4063 230.5156,100.4531 Q230.5156,102.5 229.3906,103.4219 Q228.2656,104.3281 225.7031,104.3281 L224.7969,104.3281 L224.7969,108.9688 L222.3438,108.9688 L222.3438,96.5781 Z \"/><text fill=\"#000000\" font-family=\"sans-serif\" font-size=\"12\" font-style=\"italic\" lengthAdjust=\"spacingAndGlyphs\" textLength=\"40\" x=\"237\" y=\"100.1387\">«part»</text><text fill=\"#000000\" font-family=\"sans-serif\" font-size=\"12\" lengthAdjust=\"spacingAndGlyphs\" textLength=\"22\" x=\"246\" y=\"114.1074\">x: A</text><line style=\"stroke: #A80036; stroke-width: 1.5;\" x1=\"211\" x2=\"277\" y1=\"121.9375\" y2=\"121.9375\"/></a><!--MD5=[b9389687b975829384b498ac4b7476b2]\n",
       "class E8--><a href=\"psysml:f43ee61a-1d92-4bcd-a6ef-463238303c09\" target=\"_top\" title=\"psysml:f43ee61a-1d92-4bcd-a6ef-463238303c09\" xlink:actuate=\"onRequest\" xlink:href=\"psysml:f43ee61a-1d92-4bcd-a6ef-463238303c09\" xlink:show=\"new\" xlink:title=\"psysml:f43ee61a-1d92-4bcd-a6ef-463238303c09\" xlink:type=\"simple\"><rect fill=\"#FEFECE\" filter=\"url(#f1fgcrg3m6vyse)\" height=\"45.9375\" id=\"E8\" rx=\"10\" ry=\"10\" style=\"stroke: #A80036; stroke-width: 1.5;\" width=\"68\" x=\"107\" y=\"84\"/><ellipse cx=\"122\" cy=\"102.9688\" fill=\"#32CD32\" rx=\"11\" ry=\"11\" style=\"stroke: #A80036; stroke-width: 1.0;\"/><path d=\"M121.7969,98.6406 L121.7969,102.2656 L122.7969,102.2656 Q124,102.2656 124.4844,101.8594 Q124.9688,101.4531 124.9688,100.4531 Q124.9688,99.4531 124.4844,99.0469 Q124,98.6406 122.7969,98.6406 L121.7969,98.6406 Z M119.3438,96.5781 L122.7031,96.5781 Q125.2656,96.5781 126.3906,97.5 Q127.5156,98.4063 127.5156,100.4531 Q127.5156,102.5 126.3906,103.4219 Q125.2656,104.3281 122.7031,104.3281 L121.7969,104.3281 L121.7969,108.9688 L119.3438,108.9688 L119.3438,96.5781 Z \"/><text fill=\"#000000\" font-family=\"sans-serif\" font-size=\"12\" font-style=\"italic\" lengthAdjust=\"spacingAndGlyphs\" textLength=\"40\" x=\"134\" y=\"100.1387\">«part»</text><text fill=\"#000000\" font-family=\"sans-serif\" font-size=\"12\" lengthAdjust=\"spacingAndGlyphs\" textLength=\"21\" x=\"143.5\" y=\"114.1074\">z: B</text><line style=\"stroke: #A80036; stroke-width: 1.5;\" x1=\"108\" x2=\"174\" y1=\"121.9375\" y2=\"121.9375\"/></a><!--MD5=[09b614a08d8cba4a07c9adeb5e0fee81]\n",
       "class E3--><a href=\"psysml:c33e3566-7ac4-4487-b3df-3cd0148aac2a\" target=\"_top\" title=\"psysml:c33e3566-7ac4-4487-b3df-3cd0148aac2a\" xlink:actuate=\"onRequest\" xlink:href=\"psysml:c33e3566-7ac4-4487-b3df-3cd0148aac2a\" xlink:show=\"new\" xlink:title=\"psysml:c33e3566-7ac4-4487-b3df-3cd0148aac2a\" xlink:type=\"simple\"><rect fill=\"#FEFECE\" filter=\"url(#f1fgcrg3m6vyse)\" height=\"40\" id=\"E3\" style=\"stroke: #A80036; stroke-width: 1.5;\" width=\"40\" x=\"275\" y=\"205\"/><ellipse cx=\"290\" cy=\"221\" fill=\"#008000\" rx=\"11\" ry=\"11\" style=\"stroke: #A80036; stroke-width: 1.0;\"/><path d=\"M288.9063,221.375 L288.9063,225.0469 L290.5313,225.0469 Q291.7031,225.0469 292.1719,224.6563 Q292.6406,224.25 292.6406,223.25 Q292.6406,222.25 292.1406,221.8125 Q291.6563,221.375 290.5313,221.375 L288.9063,221.375 Z M288.9063,216.5469 L288.9063,219.4219 L290.5313,219.4219 Q291.4531,219.4219 291.8438,219.0938 Q292.25,218.75 292.25,218 Q292.25,217.2344 291.8438,216.8906 Q291.4375,216.5469 290.5313,216.5469 L288.9063,216.5469 Z M286.5313,214.5938 L290.5313,214.5938 Q292.5938,214.5938 293.6406,215.375 Q294.6875,216.1563 294.6875,217.7188 Q294.6875,218.9219 294.0625,219.5938 Q293.4531,220.2656 292.2656,220.375 Q293.6875,220.5156 294.4063,221.3281 Q295.125,222.1406 295.125,223.5938 Q295.125,225.3906 294.0469,226.2031 Q292.9688,227 290.5313,227 L286.5313,227 L286.5313,214.5938 Z \"/><text fill=\"#000000\" font-family=\"sans-serif\" font-size=\"12\" lengthAdjust=\"spacingAndGlyphs\" textLength=\"8\" x=\"304\" y=\"225.1543\">A</text><line style=\"stroke: #A80036; stroke-width: 1.5;\" x1=\"276\" x2=\"314\" y1=\"237\" y2=\"237\"/></a><a href=\"psysml:b9d82d12-80d8-4b65-b32b-0d4caf256cd7\" target=\"_top\" title=\"psysml:b9d82d12-80d8-4b65-b32b-0d4caf256cd7\" xlink:actuate=\"onRequest\" xlink:href=\"psysml:b9d82d12-80d8-4b65-b32b-0d4caf256cd7\" xlink:show=\"new\" xlink:title=\"psysml:b9d82d12-80d8-4b65-b32b-0d4caf256cd7\" xlink:type=\"simple\"><polygon fill=\"#FFFFFF\" filter=\"url(#f1fgcrg3m6vyse)\" points=\"32,80.5,58,80.5,65,102.7969,72,102.7969,72,133.0938,32,133.0938,32,80.5\" style=\"stroke: #000000; stroke-width: 1.5;\"/><line style=\"stroke: #000000; stroke-width: 1.5;\" x1=\"32\" x2=\"65\" y1=\"102.7969\" y2=\"102.7969\"/><text fill=\"#000000\" font-family=\"sans-serif\" font-size=\"14\" font-weight=\"bold\" lengthAdjust=\"spacingAndGlyphs\" textLength=\"20\" x=\"36\" y=\"95.4951\">P2</text></a><!--MD5=[2156ba9850f5573cc1fc38a6a4b2f02b]\n",
       "class E7--><a href=\"psysml:70818b0d-1657-43d7-b586-0302676d35dd\" target=\"_top\" title=\"psysml:70818b0d-1657-43d7-b586-0302676d35dd\" xlink:actuate=\"onRequest\" xlink:href=\"psysml:70818b0d-1657-43d7-b586-0302676d35dd\" xlink:show=\"new\" xlink:title=\"psysml:70818b0d-1657-43d7-b586-0302676d35dd\" xlink:type=\"simple\"><rect fill=\"#FEFECE\" filter=\"url(#f1fgcrg3m6vyse)\" height=\"40\" id=\"E7\" style=\"stroke: #A80036; stroke-width: 1.5;\" width=\"40\" x=\"121\" y=\"205\"/><ellipse cx=\"136\" cy=\"221\" fill=\"#008000\" rx=\"11\" ry=\"11\" style=\"stroke: #A80036; stroke-width: 1.0;\"/><path d=\"M134.9063,221.375 L134.9063,225.0469 L136.5313,225.0469 Q137.7031,225.0469 138.1719,224.6563 Q138.6406,224.25 138.6406,223.25 Q138.6406,222.25 138.1406,221.8125 Q137.6563,221.375 136.5313,221.375 L134.9063,221.375 Z M134.9063,216.5469 L134.9063,219.4219 L136.5313,219.4219 Q137.4531,219.4219 137.8438,219.0938 Q138.25,218.75 138.25,218 Q138.25,217.2344 137.8438,216.8906 Q137.4375,216.5469 136.5313,216.5469 L134.9063,216.5469 Z M132.5313,214.5938 L136.5313,214.5938 Q138.5938,214.5938 139.6406,215.375 Q140.6875,216.1563 140.6875,217.7188 Q140.6875,218.9219 140.0625,219.5938 Q139.4531,220.2656 138.2656,220.375 Q139.6875,220.5156 140.4063,221.3281 Q141.125,222.1406 141.125,223.5938 Q141.125,225.3906 140.0469,226.2031 Q138.9688,227 136.5313,227 L132.5313,227 L132.5313,214.5938 Z \"/><text fill=\"#000000\" font-family=\"sans-serif\" font-size=\"12\" lengthAdjust=\"spacingAndGlyphs\" textLength=\"8\" x=\"150\" y=\"225.1543\">B</text><line style=\"stroke: #A80036; stroke-width: 1.5;\" x1=\"122\" x2=\"160\" y1=\"237\" y2=\"237\"/></a><!--MD5=[96f4274e9e20536e775497830990834d]\n",
       "class E10--><a href=\"psysml:e183bef4-e50f-4a79-aea2-e72f91ae33b1\" target=\"_top\" title=\"psysml:e183bef4-e50f-4a79-aea2-e72f91ae33b1\" xlink:actuate=\"onRequest\" xlink:href=\"psysml:e183bef4-e50f-4a79-aea2-e72f91ae33b1\" xlink:show=\"new\" xlink:title=\"psysml:e183bef4-e50f-4a79-aea2-e72f91ae33b1\" xlink:type=\"simple\"><rect fill=\"#FEFECE\" filter=\"url(#f1fgcrg3m6vyse)\" height=\"45.9375\" id=\"E10\" rx=\"10\" ry=\"10\" style=\"stroke: #A80036; stroke-width: 1.5;\" width=\"68\" x=\"313\" y=\"84\"/><ellipse cx=\"328\" cy=\"102.9688\" fill=\"#32CD32\" rx=\"11\" ry=\"11\" style=\"stroke: #A80036; stroke-width: 1.0;\"/><path d=\"M327.7969,98.6406 L327.7969,102.2656 L328.7969,102.2656 Q330,102.2656 330.4844,101.8594 Q330.9688,101.4531 330.9688,100.4531 Q330.9688,99.4531 330.4844,99.0469 Q330,98.6406 328.7969,98.6406 L327.7969,98.6406 Z M325.3438,96.5781 L328.7031,96.5781 Q331.2656,96.5781 332.3906,97.5 Q333.5156,98.4063 333.5156,100.4531 Q333.5156,102.5 332.3906,103.4219 Q331.2656,104.3281 328.7031,104.3281 L327.7969,104.3281 L327.7969,108.9688 L325.3438,108.9688 L325.3438,96.5781 Z \"/><text fill=\"#000000\" font-family=\"sans-serif\" font-size=\"12\" font-style=\"italic\" lengthAdjust=\"spacingAndGlyphs\" textLength=\"40\" x=\"340\" y=\"100.1387\">«part»</text><text fill=\"#000000\" font-family=\"sans-serif\" font-size=\"12\" lengthAdjust=\"spacingAndGlyphs\" textLength=\"29\" x=\"345.5\" y=\"114.1074\">z1: A</text><line style=\"stroke: #A80036; stroke-width: 1.5;\" x1=\"314\" x2=\"380\" y1=\"121.9375\" y2=\"121.9375\"/></a><!--MD5=[e9be52314489bd878ff4c7144b63c9e1]\n",
       "link E5 to E3--><a href=\"psysml:f8be15bd-6ead-4f94-a81d-297834d3bff2\" target=\"_top\" title=\"psysml:f8be15bd-6ead-4f94-a81d-297834d3bff2\" xlink:actuate=\"onRequest\" xlink:href=\"psysml:f8be15bd-6ead-4f94-a81d-297834d3bff2\" xlink:show=\"new\" xlink:title=\"psysml:f8be15bd-6ead-4f94-a81d-297834d3bff2\" xlink:type=\"simple\"><path d=\"M253.71,130.09 C260.67,145.93 270.22,167.65 278.39,186.21 \" fill=\"none\" id=\"E5-&gt;E3\" style=\"stroke: #A80036; stroke-width: 1.0;\"/><polygon fill=\"#FFFFFF\" points=\"286.51,204.69,272.4611,190.1083,285.2794,184.479,286.51,204.69\" style=\"stroke: #A80036; stroke-width: 1.0;\"/><ellipse cx=\"272.0003\" cy=\"184.0852\" fill=\"#A80036\" rx=\"2\" ry=\"2\" style=\"stroke: #A80036; stroke-width: 1.0;\"/><ellipse cx=\"281.1563\" cy=\"180.0642\" fill=\"#A80036\" rx=\"2\" ry=\"2\" style=\"stroke: #A80036; stroke-width: 1.0;\"/></a><!--MD5=[bfa3c8b0d15052fdf50ae9310b491027]\n",
       "link E8 to E7--><a href=\"psysml:2890fdf6-d136-470e-95db-a042243a6f10\" target=\"_top\" title=\"psysml:2890fdf6-d136-470e-95db-a042243a6f10\" xlink:actuate=\"onRequest\" xlink:href=\"psysml:2890fdf6-d136-470e-95db-a042243a6f10\" xlink:show=\"new\" xlink:title=\"psysml:2890fdf6-d136-470e-95db-a042243a6f10\" xlink:type=\"simple\"><path d=\"M141,130.09 C141,145.42 141,166.27 141,184.42 \" fill=\"none\" id=\"E8-&gt;E7\" style=\"stroke: #A80036; stroke-width: 1.0;\"/><polygon fill=\"#FFFFFF\" points=\"141,204.69,134,185.69,148,185.69,141,204.69\" style=\"stroke: #A80036; stroke-width: 1.0;\"/><ellipse cx=\"136\" cy=\"179.99\" fill=\"#A80036\" rx=\"2\" ry=\"2\" style=\"stroke: #A80036; stroke-width: 1.0;\"/><ellipse cx=\"146\" cy=\"179.99\" fill=\"#A80036\" rx=\"2\" ry=\"2\" style=\"stroke: #A80036; stroke-width: 1.0;\"/></a><!--MD5=[feeac5eb423634930294aa81f2d25a4c]\n",
       "link E10 to E3--><a href=\"psysml:25a6672d-e3f3-453e-a929-7fba59fa68e7\" target=\"_top\" title=\"psysml:25a6672d-e3f3-453e-a929-7fba59fa68e7\" xlink:actuate=\"onRequest\" xlink:href=\"psysml:25a6672d-e3f3-453e-a929-7fba59fa68e7\" xlink:show=\"new\" xlink:title=\"psysml:25a6672d-e3f3-453e-a929-7fba59fa68e7\" xlink:type=\"simple\"><path d=\"M337.1,130.09 C330,145.93 320.26,167.65 311.94,186.21 \" fill=\"none\" id=\"E10-&gt;E3\" style=\"stroke: #A80036; stroke-width: 1.0;\"/><polygon fill=\"#FFFFFF\" points=\"303.66,204.69,305.0459,184.489,317.8206,190.2167,303.66,204.69\" style=\"stroke: #A80036; stroke-width: 1.0;\"/><ellipse cx=\"309.2028\" cy=\"180.1061\" fill=\"#A80036\" rx=\"2\" ry=\"2\" style=\"stroke: #A80036; stroke-width: 1.0;\"/><ellipse cx=\"318.3276\" cy=\"184.1973\" fill=\"#A80036\" rx=\"2\" ry=\"2\" style=\"stroke: #A80036; stroke-width: 1.0;\"/></a><!--MD5=[26e73f3001575cdfcf69ba67f5e60856]\n",
       "@startuml\r\n",
       " \r\n",
       "package \"PrivateImportTest\" as E1  [[psysml:90f2a1bf-87a7-47cf-b7dc-49b41c6fd8e7 ]]  {\r\n",
       "package \"P1\" as E2  [[psysml:16275eaf-61bd-4171-b64d-9c4aa1fed5b3 ]]  {\r\n",
       "comp def \"A\" as E3 << << (B,green) >> [[psysml:c33e3566-7ac4-4487-b3df-3cd0148aac2a ]] {\r\n",
       "}\r\n",
       "}\r\n",
       "package \"P2\" as E4  [[psysml:b9d82d12-80d8-4b65-b32b-0d4caf256cd7 ]]  {\r\n",
       "}\r\n",
       "comp usage \"x: A\" as E5 << << (P,limegreen) part>> [[psysml:0c75b404-ec52-4836-8cbb-5da98c4a5930 ]] {\r\n",
       "}\r\n",
       "package \"P3\" as E6  [[psysml:9d4f5989-8a3e-4397-a866-52670c662db3 ]]  {\r\n",
       "comp def \"B\" as E7 << << (B,green) >> [[psysml:70818b0d-1657-43d7-b586-0302676d35dd ]] {\r\n",
       "}\r\n",
       "E5 - -:|> E3 [[psysml:f8be15bd-6ead-4f94-a81d-297834d3bff2 ]] \r\n",
       "}\r\n",
       "comp usage \"z: B\" as E8 << << (P,limegreen) part>> [[psysml:f43ee61a-1d92-4bcd-a6ef-463238303c09 ]] {\r\n",
       "}\r\n",
       "package \"P4\" as E9  [[psysml:5979dd71-75f1-4b72-84ed-7ab4ecfce4b9 ]]  {\r\n",
       "comp usage \"z1: A\" as E10 << << (P,limegreen) part>> [[psysml:e183bef4-e50f-4a79-aea2-e72f91ae33b1 ]] {\r\n",
       "}\r\n",
       "E8 - -:|> E7 [[psysml:2890fdf6-d136-470e-95db-a042243a6f10 ]] \r\n",
       "E10 - -:|> E3 [[psysml:25a6672d-e3f3-453e-a929-7fba59fa68e7 ]] \r\n",
       "}\r\n",
       "}\r\n",
       "@enduml\r\n",
       "\n",
       "PlantUML version 1.2020.13(Sat Jun 13 12:26:38 UTC 2020)\n",
       "(EPL source distribution)\n",
       "Java Runtime: OpenJDK Runtime Environment\n",
       "JVM: OpenJDK 64-Bit Server VM\n",
       "Default Encoding: UTF-8\n",
       "Language: en\n",
       "Country: null\n",
       "--></g></svg>"
      ]
     },
     "execution_count": 30,
     "metadata": {},
     "output_type": "execute_result"
    }
   ],
   "source": [
    "%viz --style=\"PLANTUML\" --view=\"Default\" \"PrivateImportTest\""
   ]
  },
  {
   "cell_type": "code",
   "execution_count": 31,
   "id": "73a3c8f2",
   "metadata": {
    "execution": {
     "iopub.execute_input": "2021-08-04T06:27:56.197368Z",
     "iopub.status.busy": "2021-08-04T06:27:56.196937Z",
     "iopub.status.idle": "2021-08-04T06:27:56.229490Z",
     "shell.execute_reply": "2021-08-04T06:27:56.229121Z"
    }
   },
   "outputs": [
    {
     "data": {
      "image/svg+xml": [
       "<?xml version=\"1.0\" encoding=\"UTF-8\" standalone=\"no\"?><svg xmlns=\"http://www.w3.org/2000/svg\" xmlns:xlink=\"http://www.w3.org/1999/xlink\" contentScriptType=\"application/ecmascript\" contentStyleType=\"text/css\" height=\"297px\" preserveAspectRatio=\"none\" style=\"width:443px;height:297px;\" version=\"1.1\" viewBox=\"0 0 443 297\" width=\"443px\" zoomAndPan=\"magnify\"><defs><filter height=\"300%\" id=\"f1fgcrg3m6vyse\" width=\"300%\" x=\"-1\" y=\"-1\"><feGaussianBlur result=\"blurOut\" stdDeviation=\"2.0\"/><feColorMatrix in=\"blurOut\" result=\"blurOut2\" type=\"matrix\" values=\"0 0 0 0 0 0 0 0 0 0 0 0 0 0 0 0 0 0 .4 0\"/><feOffset dx=\"4.0\" dy=\"4.0\" in=\"blurOut2\" result=\"blurOut3\"/><feBlend in=\"SourceGraphic\" in2=\"blurOut3\" mode=\"normal\"/></filter></defs><g><!--MD5=[fbc87193dbaf4d95561dea2c320d4a47]\n",
       "cluster E1--><a href=\"psysml:90f2a1bf-87a7-47cf-b7dc-49b41c6fd8e7\" target=\"_top\" title=\"psysml:90f2a1bf-87a7-47cf-b7dc-49b41c6fd8e7\" xlink:actuate=\"onRequest\" xlink:href=\"psysml:90f2a1bf-87a7-47cf-b7dc-49b41c6fd8e7\" xlink:show=\"new\" xlink:title=\"psysml:90f2a1bf-87a7-47cf-b7dc-49b41c6fd8e7\" xlink:type=\"simple\"><polygon fill=\"#FFFFFF\" filter=\"url(#f1fgcrg3m6vyse)\" points=\"16,6,163,6,170,28.2969,421,28.2969,421,285,16,285,16,6\" style=\"stroke: #000000; stroke-width: 1.5;\"/><line style=\"stroke: #000000; stroke-width: 1.5;\" x1=\"16\" x2=\"170\" y1=\"28.2969\" y2=\"28.2969\"/><text fill=\"#000000\" font-family=\"sans-serif\" font-size=\"14\" font-weight=\"bold\" lengthAdjust=\"spacingAndGlyphs\" textLength=\"141\" x=\"20\" y=\"20.9951\">PrivateImportTest</text></a><!--MD5=[e4f7fae6ed58524ba242bb0b0d3be6b7]\n",
       "cluster E2--><a href=\"psysml:16275eaf-61bd-4171-b64d-9c4aa1fed5b3\" target=\"_top\" title=\"psysml:16275eaf-61bd-4171-b64d-9c4aa1fed5b3\" xlink:actuate=\"onRequest\" xlink:href=\"psysml:16275eaf-61bd-4171-b64d-9c4aa1fed5b3\" xlink:show=\"new\" xlink:title=\"psysml:16275eaf-61bd-4171-b64d-9c4aa1fed5b3\" xlink:type=\"simple\"><polygon fill=\"#FFFFFF\" filter=\"url(#f1fgcrg3m6vyse)\" points=\"259,170,285,170,292,192.2969,331,192.2969,331,261,259,261,259,170\" style=\"stroke: #000000; stroke-width: 1.5;\"/><line style=\"stroke: #000000; stroke-width: 1.5;\" x1=\"259\" x2=\"292\" y1=\"192.2969\" y2=\"192.2969\"/><text fill=\"#000000\" font-family=\"sans-serif\" font-size=\"14\" font-weight=\"bold\" lengthAdjust=\"spacingAndGlyphs\" textLength=\"20\" x=\"263\" y=\"184.9951\">P1</text></a><!--MD5=[14e3b0961a2654348d326746436168a1]\n",
       "cluster E6--><a href=\"psysml:9d4f5989-8a3e-4397-a866-52670c662db3\" target=\"_top\" title=\"psysml:9d4f5989-8a3e-4397-a866-52670c662db3\" xlink:actuate=\"onRequest\" xlink:href=\"psysml:9d4f5989-8a3e-4397-a866-52670c662db3\" xlink:show=\"new\" xlink:title=\"psysml:9d4f5989-8a3e-4397-a866-52670c662db3\" xlink:type=\"simple\"><polygon fill=\"#FFFFFF\" filter=\"url(#f1fgcrg3m6vyse)\" points=\"105,170,131,170,138,192.2969,177,192.2969,177,261,105,261,105,170\" style=\"stroke: #000000; stroke-width: 1.5;\"/><line style=\"stroke: #000000; stroke-width: 1.5;\" x1=\"105\" x2=\"138\" y1=\"192.2969\" y2=\"192.2969\"/><text fill=\"#000000\" font-family=\"sans-serif\" font-size=\"14\" font-weight=\"bold\" lengthAdjust=\"spacingAndGlyphs\" textLength=\"20\" x=\"109\" y=\"184.9951\">P3</text></a><!--MD5=[7f149f147074ac12df2cb0a7728a5fb0]\n",
       "cluster E9--><a href=\"psysml:5979dd71-75f1-4b72-84ed-7ab4ecfce4b9\" target=\"_top\" title=\"psysml:5979dd71-75f1-4b72-84ed-7ab4ecfce4b9\" xlink:actuate=\"onRequest\" xlink:href=\"psysml:5979dd71-75f1-4b72-84ed-7ab4ecfce4b9\" xlink:show=\"new\" xlink:title=\"psysml:5979dd71-75f1-4b72-84ed-7ab4ecfce4b9\" xlink:type=\"simple\"><polygon fill=\"#FFFFFF\" filter=\"url(#f1fgcrg3m6vyse)\" points=\"297,49,323,49,330,71.2969,397,71.2969,397,146,297,146,297,49\" style=\"stroke: #000000; stroke-width: 1.5;\"/><line style=\"stroke: #000000; stroke-width: 1.5;\" x1=\"297\" x2=\"330\" y1=\"71.2969\" y2=\"71.2969\"/><text fill=\"#000000\" font-family=\"sans-serif\" font-size=\"14\" font-weight=\"bold\" lengthAdjust=\"spacingAndGlyphs\" textLength=\"20\" x=\"301\" y=\"63.9951\">P4</text></a><!--MD5=[270fce915f116d4de14055a7c1d9a0f3]\n",
       "class E5--><a href=\"psysml:0c75b404-ec52-4836-8cbb-5da98c4a5930\" target=\"_top\" title=\"psysml:0c75b404-ec52-4836-8cbb-5da98c4a5930\" xlink:actuate=\"onRequest\" xlink:href=\"psysml:0c75b404-ec52-4836-8cbb-5da98c4a5930\" xlink:show=\"new\" xlink:title=\"psysml:0c75b404-ec52-4836-8cbb-5da98c4a5930\" xlink:type=\"simple\"><rect fill=\"#FEFECE\" filter=\"url(#f1fgcrg3m6vyse)\" height=\"45.9375\" id=\"E5\" rx=\"10\" ry=\"10\" style=\"stroke: #A80036; stroke-width: 1.5;\" width=\"68\" x=\"210\" y=\"84\"/><ellipse cx=\"225\" cy=\"102.9688\" fill=\"#32CD32\" rx=\"11\" ry=\"11\" style=\"stroke: #A80036; stroke-width: 1.0;\"/><path d=\"M224.7969,98.6406 L224.7969,102.2656 L225.7969,102.2656 Q227,102.2656 227.4844,101.8594 Q227.9688,101.4531 227.9688,100.4531 Q227.9688,99.4531 227.4844,99.0469 Q227,98.6406 225.7969,98.6406 L224.7969,98.6406 Z M222.3438,96.5781 L225.7031,96.5781 Q228.2656,96.5781 229.3906,97.5 Q230.5156,98.4063 230.5156,100.4531 Q230.5156,102.5 229.3906,103.4219 Q228.2656,104.3281 225.7031,104.3281 L224.7969,104.3281 L224.7969,108.9688 L222.3438,108.9688 L222.3438,96.5781 Z \"/><text fill=\"#000000\" font-family=\"sans-serif\" font-size=\"12\" font-style=\"italic\" lengthAdjust=\"spacingAndGlyphs\" textLength=\"40\" x=\"237\" y=\"100.1387\">«part»</text><text fill=\"#000000\" font-family=\"sans-serif\" font-size=\"12\" lengthAdjust=\"spacingAndGlyphs\" textLength=\"22\" x=\"246\" y=\"114.1074\">x: A</text><line style=\"stroke: #A80036; stroke-width: 1.5;\" x1=\"211\" x2=\"277\" y1=\"121.9375\" y2=\"121.9375\"/></a><!--MD5=[b9389687b975829384b498ac4b7476b2]\n",
       "class E8--><a href=\"psysml:f43ee61a-1d92-4bcd-a6ef-463238303c09\" target=\"_top\" title=\"psysml:f43ee61a-1d92-4bcd-a6ef-463238303c09\" xlink:actuate=\"onRequest\" xlink:href=\"psysml:f43ee61a-1d92-4bcd-a6ef-463238303c09\" xlink:show=\"new\" xlink:title=\"psysml:f43ee61a-1d92-4bcd-a6ef-463238303c09\" xlink:type=\"simple\"><rect fill=\"#FEFECE\" filter=\"url(#f1fgcrg3m6vyse)\" height=\"45.9375\" id=\"E8\" rx=\"10\" ry=\"10\" style=\"stroke: #A80036; stroke-width: 1.5;\" width=\"68\" x=\"107\" y=\"84\"/><ellipse cx=\"122\" cy=\"102.9688\" fill=\"#32CD32\" rx=\"11\" ry=\"11\" style=\"stroke: #A80036; stroke-width: 1.0;\"/><path d=\"M121.7969,98.6406 L121.7969,102.2656 L122.7969,102.2656 Q124,102.2656 124.4844,101.8594 Q124.9688,101.4531 124.9688,100.4531 Q124.9688,99.4531 124.4844,99.0469 Q124,98.6406 122.7969,98.6406 L121.7969,98.6406 Z M119.3438,96.5781 L122.7031,96.5781 Q125.2656,96.5781 126.3906,97.5 Q127.5156,98.4063 127.5156,100.4531 Q127.5156,102.5 126.3906,103.4219 Q125.2656,104.3281 122.7031,104.3281 L121.7969,104.3281 L121.7969,108.9688 L119.3438,108.9688 L119.3438,96.5781 Z \"/><text fill=\"#000000\" font-family=\"sans-serif\" font-size=\"12\" font-style=\"italic\" lengthAdjust=\"spacingAndGlyphs\" textLength=\"40\" x=\"134\" y=\"100.1387\">«part»</text><text fill=\"#000000\" font-family=\"sans-serif\" font-size=\"12\" lengthAdjust=\"spacingAndGlyphs\" textLength=\"21\" x=\"143.5\" y=\"114.1074\">z: B</text><line style=\"stroke: #A80036; stroke-width: 1.5;\" x1=\"108\" x2=\"174\" y1=\"121.9375\" y2=\"121.9375\"/></a><!--MD5=[09b614a08d8cba4a07c9adeb5e0fee81]\n",
       "class E3--><a href=\"psysml:c33e3566-7ac4-4487-b3df-3cd0148aac2a\" target=\"_top\" title=\"psysml:c33e3566-7ac4-4487-b3df-3cd0148aac2a\" xlink:actuate=\"onRequest\" xlink:href=\"psysml:c33e3566-7ac4-4487-b3df-3cd0148aac2a\" xlink:show=\"new\" xlink:title=\"psysml:c33e3566-7ac4-4487-b3df-3cd0148aac2a\" xlink:type=\"simple\"><rect fill=\"#FEFECE\" filter=\"url(#f1fgcrg3m6vyse)\" height=\"40\" id=\"E3\" style=\"stroke: #A80036; stroke-width: 1.5;\" width=\"40\" x=\"275\" y=\"205\"/><ellipse cx=\"290\" cy=\"221\" fill=\"#008000\" rx=\"11\" ry=\"11\" style=\"stroke: #A80036; stroke-width: 1.0;\"/><path d=\"M288.9063,221.375 L288.9063,225.0469 L290.5313,225.0469 Q291.7031,225.0469 292.1719,224.6563 Q292.6406,224.25 292.6406,223.25 Q292.6406,222.25 292.1406,221.8125 Q291.6563,221.375 290.5313,221.375 L288.9063,221.375 Z M288.9063,216.5469 L288.9063,219.4219 L290.5313,219.4219 Q291.4531,219.4219 291.8438,219.0938 Q292.25,218.75 292.25,218 Q292.25,217.2344 291.8438,216.8906 Q291.4375,216.5469 290.5313,216.5469 L288.9063,216.5469 Z M286.5313,214.5938 L290.5313,214.5938 Q292.5938,214.5938 293.6406,215.375 Q294.6875,216.1563 294.6875,217.7188 Q294.6875,218.9219 294.0625,219.5938 Q293.4531,220.2656 292.2656,220.375 Q293.6875,220.5156 294.4063,221.3281 Q295.125,222.1406 295.125,223.5938 Q295.125,225.3906 294.0469,226.2031 Q292.9688,227 290.5313,227 L286.5313,227 L286.5313,214.5938 Z \"/><text fill=\"#000000\" font-family=\"sans-serif\" font-size=\"12\" lengthAdjust=\"spacingAndGlyphs\" textLength=\"8\" x=\"304\" y=\"225.1543\">A</text><line style=\"stroke: #A80036; stroke-width: 1.5;\" x1=\"276\" x2=\"314\" y1=\"237\" y2=\"237\"/></a><a href=\"psysml:b9d82d12-80d8-4b65-b32b-0d4caf256cd7\" target=\"_top\" title=\"psysml:b9d82d12-80d8-4b65-b32b-0d4caf256cd7\" xlink:actuate=\"onRequest\" xlink:href=\"psysml:b9d82d12-80d8-4b65-b32b-0d4caf256cd7\" xlink:show=\"new\" xlink:title=\"psysml:b9d82d12-80d8-4b65-b32b-0d4caf256cd7\" xlink:type=\"simple\"><polygon fill=\"#FFFFFF\" filter=\"url(#f1fgcrg3m6vyse)\" points=\"32,80.5,58,80.5,65,102.7969,72,102.7969,72,133.0938,32,133.0938,32,80.5\" style=\"stroke: #000000; stroke-width: 1.5;\"/><line style=\"stroke: #000000; stroke-width: 1.5;\" x1=\"32\" x2=\"65\" y1=\"102.7969\" y2=\"102.7969\"/><text fill=\"#000000\" font-family=\"sans-serif\" font-size=\"14\" font-weight=\"bold\" lengthAdjust=\"spacingAndGlyphs\" textLength=\"20\" x=\"36\" y=\"95.4951\">P2</text></a><!--MD5=[2156ba9850f5573cc1fc38a6a4b2f02b]\n",
       "class E7--><a href=\"psysml:70818b0d-1657-43d7-b586-0302676d35dd\" target=\"_top\" title=\"psysml:70818b0d-1657-43d7-b586-0302676d35dd\" xlink:actuate=\"onRequest\" xlink:href=\"psysml:70818b0d-1657-43d7-b586-0302676d35dd\" xlink:show=\"new\" xlink:title=\"psysml:70818b0d-1657-43d7-b586-0302676d35dd\" xlink:type=\"simple\"><rect fill=\"#FEFECE\" filter=\"url(#f1fgcrg3m6vyse)\" height=\"40\" id=\"E7\" style=\"stroke: #A80036; stroke-width: 1.5;\" width=\"40\" x=\"121\" y=\"205\"/><ellipse cx=\"136\" cy=\"221\" fill=\"#008000\" rx=\"11\" ry=\"11\" style=\"stroke: #A80036; stroke-width: 1.0;\"/><path d=\"M134.9063,221.375 L134.9063,225.0469 L136.5313,225.0469 Q137.7031,225.0469 138.1719,224.6563 Q138.6406,224.25 138.6406,223.25 Q138.6406,222.25 138.1406,221.8125 Q137.6563,221.375 136.5313,221.375 L134.9063,221.375 Z M134.9063,216.5469 L134.9063,219.4219 L136.5313,219.4219 Q137.4531,219.4219 137.8438,219.0938 Q138.25,218.75 138.25,218 Q138.25,217.2344 137.8438,216.8906 Q137.4375,216.5469 136.5313,216.5469 L134.9063,216.5469 Z M132.5313,214.5938 L136.5313,214.5938 Q138.5938,214.5938 139.6406,215.375 Q140.6875,216.1563 140.6875,217.7188 Q140.6875,218.9219 140.0625,219.5938 Q139.4531,220.2656 138.2656,220.375 Q139.6875,220.5156 140.4063,221.3281 Q141.125,222.1406 141.125,223.5938 Q141.125,225.3906 140.0469,226.2031 Q138.9688,227 136.5313,227 L132.5313,227 L132.5313,214.5938 Z \"/><text fill=\"#000000\" font-family=\"sans-serif\" font-size=\"12\" lengthAdjust=\"spacingAndGlyphs\" textLength=\"8\" x=\"150\" y=\"225.1543\">B</text><line style=\"stroke: #A80036; stroke-width: 1.5;\" x1=\"122\" x2=\"160\" y1=\"237\" y2=\"237\"/></a><!--MD5=[96f4274e9e20536e775497830990834d]\n",
       "class E10--><a href=\"psysml:e183bef4-e50f-4a79-aea2-e72f91ae33b1\" target=\"_top\" title=\"psysml:e183bef4-e50f-4a79-aea2-e72f91ae33b1\" xlink:actuate=\"onRequest\" xlink:href=\"psysml:e183bef4-e50f-4a79-aea2-e72f91ae33b1\" xlink:show=\"new\" xlink:title=\"psysml:e183bef4-e50f-4a79-aea2-e72f91ae33b1\" xlink:type=\"simple\"><rect fill=\"#FEFECE\" filter=\"url(#f1fgcrg3m6vyse)\" height=\"45.9375\" id=\"E10\" rx=\"10\" ry=\"10\" style=\"stroke: #A80036; stroke-width: 1.5;\" width=\"68\" x=\"313\" y=\"84\"/><ellipse cx=\"328\" cy=\"102.9688\" fill=\"#32CD32\" rx=\"11\" ry=\"11\" style=\"stroke: #A80036; stroke-width: 1.0;\"/><path d=\"M327.7969,98.6406 L327.7969,102.2656 L328.7969,102.2656 Q330,102.2656 330.4844,101.8594 Q330.9688,101.4531 330.9688,100.4531 Q330.9688,99.4531 330.4844,99.0469 Q330,98.6406 328.7969,98.6406 L327.7969,98.6406 Z M325.3438,96.5781 L328.7031,96.5781 Q331.2656,96.5781 332.3906,97.5 Q333.5156,98.4063 333.5156,100.4531 Q333.5156,102.5 332.3906,103.4219 Q331.2656,104.3281 328.7031,104.3281 L327.7969,104.3281 L327.7969,108.9688 L325.3438,108.9688 L325.3438,96.5781 Z \"/><text fill=\"#000000\" font-family=\"sans-serif\" font-size=\"12\" font-style=\"italic\" lengthAdjust=\"spacingAndGlyphs\" textLength=\"40\" x=\"340\" y=\"100.1387\">«part»</text><text fill=\"#000000\" font-family=\"sans-serif\" font-size=\"12\" lengthAdjust=\"spacingAndGlyphs\" textLength=\"29\" x=\"345.5\" y=\"114.1074\">z1: A</text><line style=\"stroke: #A80036; stroke-width: 1.5;\" x1=\"314\" x2=\"380\" y1=\"121.9375\" y2=\"121.9375\"/></a><!--MD5=[e9be52314489bd878ff4c7144b63c9e1]\n",
       "link E5 to E3--><a href=\"psysml:f8be15bd-6ead-4f94-a81d-297834d3bff2\" target=\"_top\" title=\"psysml:f8be15bd-6ead-4f94-a81d-297834d3bff2\" xlink:actuate=\"onRequest\" xlink:href=\"psysml:f8be15bd-6ead-4f94-a81d-297834d3bff2\" xlink:show=\"new\" xlink:title=\"psysml:f8be15bd-6ead-4f94-a81d-297834d3bff2\" xlink:type=\"simple\"><path d=\"M253.71,130.09 C260.67,145.93 270.22,167.65 278.39,186.21 \" fill=\"none\" id=\"E5-&gt;E3\" style=\"stroke: #A80036; stroke-width: 1.0;\"/><polygon fill=\"#FFFFFF\" points=\"286.51,204.69,272.4611,190.1083,285.2794,184.479,286.51,204.69\" style=\"stroke: #A80036; stroke-width: 1.0;\"/><ellipse cx=\"272.0003\" cy=\"184.0852\" fill=\"#A80036\" rx=\"2\" ry=\"2\" style=\"stroke: #A80036; stroke-width: 1.0;\"/><ellipse cx=\"281.1563\" cy=\"180.0642\" fill=\"#A80036\" rx=\"2\" ry=\"2\" style=\"stroke: #A80036; stroke-width: 1.0;\"/></a><!--MD5=[bfa3c8b0d15052fdf50ae9310b491027]\n",
       "link E8 to E7--><a href=\"psysml:2890fdf6-d136-470e-95db-a042243a6f10\" target=\"_top\" title=\"psysml:2890fdf6-d136-470e-95db-a042243a6f10\" xlink:actuate=\"onRequest\" xlink:href=\"psysml:2890fdf6-d136-470e-95db-a042243a6f10\" xlink:show=\"new\" xlink:title=\"psysml:2890fdf6-d136-470e-95db-a042243a6f10\" xlink:type=\"simple\"><path d=\"M141,130.09 C141,145.42 141,166.27 141,184.42 \" fill=\"none\" id=\"E8-&gt;E7\" style=\"stroke: #A80036; stroke-width: 1.0;\"/><polygon fill=\"#FFFFFF\" points=\"141,204.69,134,185.69,148,185.69,141,204.69\" style=\"stroke: #A80036; stroke-width: 1.0;\"/><ellipse cx=\"136\" cy=\"179.99\" fill=\"#A80036\" rx=\"2\" ry=\"2\" style=\"stroke: #A80036; stroke-width: 1.0;\"/><ellipse cx=\"146\" cy=\"179.99\" fill=\"#A80036\" rx=\"2\" ry=\"2\" style=\"stroke: #A80036; stroke-width: 1.0;\"/></a><!--MD5=[feeac5eb423634930294aa81f2d25a4c]\n",
       "link E10 to E3--><a href=\"psysml:25a6672d-e3f3-453e-a929-7fba59fa68e7\" target=\"_top\" title=\"psysml:25a6672d-e3f3-453e-a929-7fba59fa68e7\" xlink:actuate=\"onRequest\" xlink:href=\"psysml:25a6672d-e3f3-453e-a929-7fba59fa68e7\" xlink:show=\"new\" xlink:title=\"psysml:25a6672d-e3f3-453e-a929-7fba59fa68e7\" xlink:type=\"simple\"><path d=\"M337.1,130.09 C330,145.93 320.26,167.65 311.94,186.21 \" fill=\"none\" id=\"E10-&gt;E3\" style=\"stroke: #A80036; stroke-width: 1.0;\"/><polygon fill=\"#FFFFFF\" points=\"303.66,204.69,305.0459,184.489,317.8206,190.2167,303.66,204.69\" style=\"stroke: #A80036; stroke-width: 1.0;\"/><ellipse cx=\"309.2028\" cy=\"180.1061\" fill=\"#A80036\" rx=\"2\" ry=\"2\" style=\"stroke: #A80036; stroke-width: 1.0;\"/><ellipse cx=\"318.3276\" cy=\"184.1973\" fill=\"#A80036\" rx=\"2\" ry=\"2\" style=\"stroke: #A80036; stroke-width: 1.0;\"/></a><!--MD5=[26e73f3001575cdfcf69ba67f5e60856]\n",
       "@startuml\r\n",
       " \r\n",
       "package \"PrivateImportTest\" as E1  [[psysml:90f2a1bf-87a7-47cf-b7dc-49b41c6fd8e7 ]]  {\r\n",
       "package \"P1\" as E2  [[psysml:16275eaf-61bd-4171-b64d-9c4aa1fed5b3 ]]  {\r\n",
       "comp def \"A\" as E3 << << (B,green) >> [[psysml:c33e3566-7ac4-4487-b3df-3cd0148aac2a ]] {\r\n",
       "}\r\n",
       "}\r\n",
       "package \"P2\" as E4  [[psysml:b9d82d12-80d8-4b65-b32b-0d4caf256cd7 ]]  {\r\n",
       "}\r\n",
       "comp usage \"x: A\" as E5 << << (P,limegreen) part>> [[psysml:0c75b404-ec52-4836-8cbb-5da98c4a5930 ]] {\r\n",
       "}\r\n",
       "package \"P3\" as E6  [[psysml:9d4f5989-8a3e-4397-a866-52670c662db3 ]]  {\r\n",
       "comp def \"B\" as E7 << << (B,green) >> [[psysml:70818b0d-1657-43d7-b586-0302676d35dd ]] {\r\n",
       "}\r\n",
       "E5 - -:|> E3 [[psysml:f8be15bd-6ead-4f94-a81d-297834d3bff2 ]] \r\n",
       "}\r\n",
       "comp usage \"z: B\" as E8 << << (P,limegreen) part>> [[psysml:f43ee61a-1d92-4bcd-a6ef-463238303c09 ]] {\r\n",
       "}\r\n",
       "package \"P4\" as E9  [[psysml:5979dd71-75f1-4b72-84ed-7ab4ecfce4b9 ]]  {\r\n",
       "comp usage \"z1: A\" as E10 << << (P,limegreen) part>> [[psysml:e183bef4-e50f-4a79-aea2-e72f91ae33b1 ]] {\r\n",
       "}\r\n",
       "E8 - -:|> E7 [[psysml:2890fdf6-d136-470e-95db-a042243a6f10 ]] \r\n",
       "E10 - -:|> E3 [[psysml:25a6672d-e3f3-453e-a929-7fba59fa68e7 ]] \r\n",
       "}\r\n",
       "}\r\n",
       "@enduml\r\n",
       "\n",
       "PlantUML version 1.2020.13(Sat Jun 13 12:26:38 UTC 2020)\n",
       "(EPL source distribution)\n",
       "Java Runtime: OpenJDK Runtime Environment\n",
       "JVM: OpenJDK 64-Bit Server VM\n",
       "Default Encoding: UTF-8\n",
       "Language: en\n",
       "Country: null\n",
       "--></g></svg>"
      ]
     },
     "execution_count": 31,
     "metadata": {},
     "output_type": "execute_result"
    }
   ],
   "source": [
    "%viz --style=\"PLANTUML\" --view=\"Tree\" \"PrivateImportTest\""
   ]
  },
  {
   "cell_type": "code",
   "execution_count": 32,
   "id": "69ac7b74",
   "metadata": {
    "execution": {
     "iopub.execute_input": "2021-08-04T06:27:56.278968Z",
     "iopub.status.busy": "2021-08-04T06:27:56.278552Z",
     "iopub.status.idle": "2021-08-04T06:27:56.368509Z",
     "shell.execute_reply": "2021-08-04T06:27:56.367262Z"
    }
   },
   "outputs": [
    {
     "data": {
      "image/svg+xml": [
       "<?xml version=\"1.0\" encoding=\"UTF-8\" standalone=\"no\"?><svg xmlns=\"http://www.w3.org/2000/svg\" xmlns:xlink=\"http://www.w3.org/1999/xlink\" contentScriptType=\"application/ecmascript\" contentStyleType=\"text/css\" height=\"303px\" preserveAspectRatio=\"none\" style=\"width:603px;height:303px;background:#000000;\" version=\"1.1\" viewBox=\"0 0 603 303\" width=\"603px\" zoomAndPan=\"magnify\"><defs/><g><rect fill=\"#18091A\" height=\"1\" style=\"stroke: #18091A; stroke-width: 1.0;\" width=\"1\" x=\"0\" y=\"0\"/><rect fill=\"#FFFFFF\" height=\"205.5625\" style=\"stroke: #FFFFFF; stroke-width: 1.0;\" width=\"602\" x=\"0\" y=\"0\"/><text fill=\"#000000\" font-family=\"sans-serif\" font-size=\"12\" font-weight=\"bold\" lengthAdjust=\"spacingAndGlyphs\" textLength=\"159\" x=\"5\" y=\"16.1387\">Welcome to PlantUML!</text><text fill=\"#000000\" font-family=\"sans-serif\" font-size=\"12\" lengthAdjust=\"spacingAndGlyphs\" textLength=\"0\" x=\"9\" y=\"30.1074\"/><text fill=\"#000000\" font-family=\"sans-serif\" font-size=\"12\" lengthAdjust=\"spacingAndGlyphs\" textLength=\"293\" x=\"5\" y=\"44.0762\">If you use this software, you accept its license.</text><text fill=\"#000000\" font-family=\"sans-serif\" font-size=\"12\" lengthAdjust=\"spacingAndGlyphs\" textLength=\"107\" x=\"5\" y=\"58.0449\">(details by typing</text><text fill=\"#000000\" font-family=\"monospace\" font-size=\"12\" lengthAdjust=\"spacingAndGlyphs\" textLength=\"49\" x=\"116\" y=\"58.0449\">license</text><text fill=\"#000000\" font-family=\"sans-serif\" font-size=\"12\" lengthAdjust=\"spacingAndGlyphs\" textLength=\"56\" x=\"169\" y=\"58.0449\">keyword)</text><text fill=\"#000000\" font-family=\"sans-serif\" font-size=\"12\" lengthAdjust=\"spacingAndGlyphs\" textLength=\"0\" x=\"9\" y=\"72.0137\"/><text fill=\"#000000\" font-family=\"sans-serif\" font-size=\"12\" lengthAdjust=\"spacingAndGlyphs\" textLength=\"283\" x=\"5\" y=\"85.9824\">You can start with a simple UML Diagram like:</text><text fill=\"#000000\" font-family=\"sans-serif\" font-size=\"12\" lengthAdjust=\"spacingAndGlyphs\" textLength=\"0\" x=\"9\" y=\"99.9512\"/><text fill=\"#000000\" font-family=\"monospace\" font-size=\"12\" lengthAdjust=\"spacingAndGlyphs\" textLength=\"119\" x=\"5\" y=\"113.9199\">Bob-&gt;Alice: Hello</text><text fill=\"#000000\" font-family=\"sans-serif\" font-size=\"12\" lengthAdjust=\"spacingAndGlyphs\" textLength=\"0\" x=\"9\" y=\"127.8887\"/><text fill=\"#000000\" font-family=\"sans-serif\" font-size=\"12\" lengthAdjust=\"spacingAndGlyphs\" textLength=\"14\" x=\"5\" y=\"141.8574\">Or</text><text fill=\"#000000\" font-family=\"sans-serif\" font-size=\"12\" lengthAdjust=\"spacingAndGlyphs\" textLength=\"0\" x=\"9\" y=\"155.8262\"/><text fill=\"#000000\" font-family=\"monospace\" font-size=\"12\" lengthAdjust=\"spacingAndGlyphs\" textLength=\"91\" x=\"5\" y=\"169.7949\">class Example</text><text fill=\"#000000\" font-family=\"sans-serif\" font-size=\"12\" lengthAdjust=\"spacingAndGlyphs\" textLength=\"0\" x=\"9\" y=\"183.7637\"/><text fill=\"#000000\" font-family=\"sans-serif\" font-size=\"12\" lengthAdjust=\"spacingAndGlyphs\" textLength=\"349\" x=\"5\" y=\"197.7324\">You will find more information about PlantUML syntax on</text><text fill=\"#000000\" font-family=\"sans-serif\" font-size=\"12\" lengthAdjust=\"spacingAndGlyphs\" text-decoration=\"underline\" textLength=\"129\" x=\"358\" y=\"197.7324\">https://plantuml.com</text><image height=\"71\" width=\"80\" x=\"516\" xlink:href=\"data:image/png;base64,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\" y=\"6\"/><rect fill=\"#000000\" height=\"96.4844\" style=\"stroke: #000000; stroke-width: 1.0;\" width=\"602\" x=\"0\" y=\"205.5625\"/><rect fill=\"#33FF02\" height=\"21.2969\" style=\"stroke: #33FF02; stroke-width: 1.0;\" width=\"170\" x=\"5\" y=\"210.5625\"/><text fill=\"#000000\" font-family=\"sans-serif\" font-size=\"14\" font-weight=\"bold\" lengthAdjust=\"spacingAndGlyphs\" textLength=\"168\" x=\"6\" y=\"225.5625\">[From string (line 2) ]</text><text fill=\"#33FF02\" font-family=\"sans-serif\" font-size=\"14\" font-weight=\"bold\" lengthAdjust=\"spacingAndGlyphs\" textLength=\"0\" x=\"10\" y=\"245.8594\"/><text fill=\"#33FF02\" font-family=\"sans-serif\" font-size=\"14\" font-weight=\"bold\" lengthAdjust=\"spacingAndGlyphs\" textLength=\"79\" x=\"5\" y=\"262.1563\">@startuml</text><text fill=\"#33FF02\" font-family=\"sans-serif\" font-size=\"14\" font-weight=\"bold\" lengthAdjust=\"spacingAndGlyphs\" textLength=\"0\" x=\"10\" y=\"278.4531\"/><text fill=\"#FF0000\" font-family=\"sans-serif\" font-size=\"14\" font-weight=\"bold\" lengthAdjust=\"spacingAndGlyphs\" textLength=\"142\" x=\"10\" y=\"294.75\">Empty description</text><!--MD5=[f59edd8218d337f74d0c332fc6737304]\n",
       "@startuml\r\n",
       " \r\n",
       "@enduml\r\n",
       "\n",
       "PlantUML version 1.2020.13(Sat Jun 13 12:26:38 UTC 2020)\n",
       "(EPL source distribution)\n",
       "Java Runtime: OpenJDK Runtime Environment\n",
       "JVM: OpenJDK 64-Bit Server VM\n",
       "Default Encoding: UTF-8\n",
       "Language: en\n",
       "Country: null\n",
       "--></g></svg>"
      ]
     },
     "execution_count": 32,
     "metadata": {},
     "output_type": "execute_result"
    }
   ],
   "source": [
    "%viz --style=\"PLANTUML\" --view=\"State\" \"PrivateImportTest\""
   ]
  },
  {
   "cell_type": "code",
   "execution_count": 33,
   "id": "611eef07",
   "metadata": {
    "execution": {
     "iopub.execute_input": "2021-08-04T06:27:56.418017Z",
     "iopub.status.busy": "2021-08-04T06:27:56.417526Z",
     "iopub.status.idle": "2021-08-04T06:27:56.439362Z",
     "shell.execute_reply": "2021-08-04T06:27:56.438990Z"
    }
   },
   "outputs": [
    {
     "data": {
      "image/svg+xml": [
       "<?xml version=\"1.0\" encoding=\"UTF-8\" standalone=\"no\"?><svg xmlns=\"http://www.w3.org/2000/svg\" xmlns:xlink=\"http://www.w3.org/1999/xlink\" contentScriptType=\"application/ecmascript\" contentStyleType=\"text/css\" height=\"176px\" preserveAspectRatio=\"none\" style=\"width:635px;height:176px;\" version=\"1.1\" viewBox=\"0 0 635 176\" width=\"635px\" zoomAndPan=\"magnify\"><defs><filter height=\"300%\" id=\"fp2k8yti3eu7c\" width=\"300%\" x=\"-1\" y=\"-1\"><feGaussianBlur result=\"blurOut\" stdDeviation=\"2.0\"/><feColorMatrix in=\"blurOut\" result=\"blurOut2\" type=\"matrix\" values=\"0 0 0 0 0 0 0 0 0 0 0 0 0 0 0 0 0 0 .4 0\"/><feOffset dx=\"4.0\" dy=\"4.0\" in=\"blurOut2\" result=\"blurOut3\"/><feBlend in=\"SourceGraphic\" in2=\"blurOut3\" mode=\"normal\"/></filter></defs><g><!--MD5=[fbc87193dbaf4d95561dea2c320d4a47]\n",
       "cluster E1--><a href=\"psysml:90f2a1bf-87a7-47cf-b7dc-49b41c6fd8e7\" target=\"_top\" title=\"psysml:90f2a1bf-87a7-47cf-b7dc-49b41c6fd8e7\" xlink:actuate=\"onRequest\" xlink:href=\"psysml:90f2a1bf-87a7-47cf-b7dc-49b41c6fd8e7\" xlink:show=\"new\" xlink:title=\"psysml:90f2a1bf-87a7-47cf-b7dc-49b41c6fd8e7\" xlink:type=\"simple\"><polygon fill=\"#FFFFFF\" filter=\"url(#fp2k8yti3eu7c)\" points=\"16,6,163,6,170,28.2969,613,28.2969,613,164,16,164,16,6\" style=\"stroke: #000000; stroke-width: 1.5;\"/><line style=\"stroke: #000000; stroke-width: 1.5;\" x1=\"16\" x2=\"170\" y1=\"28.2969\" y2=\"28.2969\"/><text fill=\"#000000\" font-family=\"sans-serif\" font-size=\"14\" font-weight=\"bold\" lengthAdjust=\"spacingAndGlyphs\" textLength=\"141\" x=\"20\" y=\"20.9951\">PrivateImportTest</text></a><!--MD5=[e4f7fae6ed58524ba242bb0b0d3be6b7]\n",
       "cluster E2--><a href=\"psysml:16275eaf-61bd-4171-b64d-9c4aa1fed5b3\" target=\"_top\" title=\"psysml:16275eaf-61bd-4171-b64d-9c4aa1fed5b3\" xlink:actuate=\"onRequest\" xlink:href=\"psysml:16275eaf-61bd-4171-b64d-9c4aa1fed5b3\" xlink:show=\"new\" xlink:title=\"psysml:16275eaf-61bd-4171-b64d-9c4aa1fed5b3\" xlink:type=\"simple\"><polygon fill=\"#FFFFFF\" filter=\"url(#fp2k8yti3eu7c)\" points=\"507,49,533,49,540,71.2969,589,71.2969,589,140,507,140,507,49\" style=\"stroke: #000000; stroke-width: 1.5;\"/><line style=\"stroke: #000000; stroke-width: 1.5;\" x1=\"507\" x2=\"540\" y1=\"71.2969\" y2=\"71.2969\"/><text fill=\"#000000\" font-family=\"sans-serif\" font-size=\"14\" font-weight=\"bold\" lengthAdjust=\"spacingAndGlyphs\" textLength=\"20\" x=\"511\" y=\"63.9951\">P1</text></a><!--MD5=[14e3b0961a2654348d326746436168a1]\n",
       "cluster E6--><a href=\"psysml:9d4f5989-8a3e-4397-a866-52670c662db3\" target=\"_top\" title=\"psysml:9d4f5989-8a3e-4397-a866-52670c662db3\" xlink:actuate=\"onRequest\" xlink:href=\"psysml:9d4f5989-8a3e-4397-a866-52670c662db3\" xlink:show=\"new\" xlink:title=\"psysml:9d4f5989-8a3e-4397-a866-52670c662db3\" xlink:type=\"simple\"><polygon fill=\"#FFFFFF\" filter=\"url(#fp2k8yti3eu7c)\" points=\"401,49,427,49,434,71.2969,483,71.2969,483,140,401,140,401,49\" style=\"stroke: #000000; stroke-width: 1.5;\"/><line style=\"stroke: #000000; stroke-width: 1.5;\" x1=\"401\" x2=\"434\" y1=\"71.2969\" y2=\"71.2969\"/><text fill=\"#000000\" font-family=\"sans-serif\" font-size=\"14\" font-weight=\"bold\" lengthAdjust=\"spacingAndGlyphs\" textLength=\"20\" x=\"405\" y=\"63.9951\">P3</text></a><!--MD5=[7f149f147074ac12df2cb0a7728a5fb0]\n",
       "cluster E9--><a href=\"psysml:5979dd71-75f1-4b72-84ed-7ab4ecfce4b9\" target=\"_top\" title=\"psysml:5979dd71-75f1-4b72-84ed-7ab4ecfce4b9\" xlink:actuate=\"onRequest\" xlink:href=\"psysml:5979dd71-75f1-4b72-84ed-7ab4ecfce4b9\" xlink:show=\"new\" xlink:title=\"psysml:5979dd71-75f1-4b72-84ed-7ab4ecfce4b9\" xlink:type=\"simple\"><polygon fill=\"#FFFFFF\" filter=\"url(#fp2k8yti3eu7c)\" points=\"279,49,305,49,312,71.2969,377,71.2969,377,140,279,140,279,49\" style=\"stroke: #000000; stroke-width: 1.5;\"/><line style=\"stroke: #000000; stroke-width: 1.5;\" x1=\"279\" x2=\"312\" y1=\"71.2969\" y2=\"71.2969\"/><text fill=\"#000000\" font-family=\"sans-serif\" font-size=\"14\" font-weight=\"bold\" lengthAdjust=\"spacingAndGlyphs\" textLength=\"20\" x=\"283\" y=\"63.9951\">P4</text></a><g id=\"E1.E2.E3\"><a href=\"psysml:c33e3566-7ac4-4487-b3df-3cd0148aac2a\" target=\"_top\" title=\"psysml:c33e3566-7ac4-4487-b3df-3cd0148aac2a\" xlink:actuate=\"onRequest\" xlink:href=\"psysml:c33e3566-7ac4-4487-b3df-3cd0148aac2a\" xlink:show=\"new\" xlink:title=\"psysml:c33e3566-7ac4-4487-b3df-3cd0148aac2a\" xlink:type=\"simple\"><rect fill=\"#FEFECE\" filter=\"url(#fp2k8yti3eu7c)\" height=\"40\" id=\"E3\" style=\"stroke: #A80036; stroke-width: 1.5;\" width=\"50\" x=\"523\" y=\"84\"/><ellipse cx=\"542.5\" cy=\"100\" fill=\"#008000\" rx=\"11\" ry=\"11\" style=\"stroke: #A80036; stroke-width: 1.0;\"/><path d=\"M541.4063,100.375 L541.4063,104.0469 L543.0313,104.0469 Q544.2031,104.0469 544.6719,103.6563 Q545.1406,103.25 545.1406,102.25 Q545.1406,101.25 544.6406,100.8125 Q544.1563,100.375 543.0313,100.375 L541.4063,100.375 Z M541.4063,95.5469 L541.4063,98.4219 L543.0313,98.4219 Q543.9531,98.4219 544.3438,98.0938 Q544.75,97.75 544.75,97 Q544.75,96.2344 544.3438,95.8906 Q543.9375,95.5469 543.0313,95.5469 L541.4063,95.5469 Z M539.0313,93.5938 L543.0313,93.5938 Q545.0938,93.5938 546.1406,94.375 Q547.1875,95.1563 547.1875,96.7188 Q547.1875,97.9219 546.5625,98.5938 Q545.9531,99.2656 544.7656,99.375 Q546.1875,99.5156 546.9063,100.3281 Q547.625,101.1406 547.625,102.5938 Q547.625,104.3906 546.5469,105.2031 Q545.4688,106 543.0313,106 L539.0313,106 L539.0313,93.5938 Z \"/><text fill=\"#000000\" font-family=\"sans-serif\" font-size=\"12\" lengthAdjust=\"spacingAndGlyphs\" textLength=\"8\" x=\"557.5\" y=\"104.1543\">A</text></a></g><a href=\"psysml:b9d82d12-80d8-4b65-b32b-0d4caf256cd7\" target=\"_top\" title=\"psysml:b9d82d12-80d8-4b65-b32b-0d4caf256cd7\" xlink:actuate=\"onRequest\" xlink:href=\"psysml:b9d82d12-80d8-4b65-b32b-0d4caf256cd7\" xlink:show=\"new\" xlink:title=\"psysml:b9d82d12-80d8-4b65-b32b-0d4caf256cd7\" xlink:type=\"simple\"><polygon fill=\"#FFFFFF\" filter=\"url(#fp2k8yti3eu7c)\" points=\"220,77.5,246,77.5,253,99.7969,260,99.7969,260,130.0938,220,130.0938,220,77.5\" style=\"stroke: #000000; stroke-width: 1.5;\"/><line style=\"stroke: #000000; stroke-width: 1.5;\" x1=\"220\" x2=\"253\" y1=\"99.7969\" y2=\"99.7969\"/><text fill=\"#000000\" font-family=\"sans-serif\" font-size=\"14\" font-weight=\"bold\" lengthAdjust=\"spacingAndGlyphs\" textLength=\"20\" x=\"224\" y=\"92.4951\">P2</text></a><g id=\"E1.E5\"><a href=\"psysml:0c75b404-ec52-4836-8cbb-5da98c4a5930\" target=\"_top\" title=\"psysml:0c75b404-ec52-4836-8cbb-5da98c4a5930\" xlink:actuate=\"onRequest\" xlink:href=\"psysml:0c75b404-ec52-4836-8cbb-5da98c4a5930\" xlink:show=\"new\" xlink:title=\"psysml:0c75b404-ec52-4836-8cbb-5da98c4a5930\" xlink:type=\"simple\"><rect fill=\"#FEFECE\" filter=\"url(#fp2k8yti3eu7c)\" height=\"40\" id=\"E5\" rx=\"10\" ry=\"10\" style=\"stroke: #A80036; stroke-width: 1.5;\" width=\"59\" x=\"125.5\" y=\"84\"/><ellipse cx=\"142.75\" cy=\"100\" fill=\"#B6DBBB\" rx=\"11\" ry=\"11\" style=\"stroke: #A80036; stroke-width: 1.0;\"/><path d=\"M138.625,101.9219 L138.625,94.1094 L141.0781,94.1094 L141.0781,102.5469 Q141.0781,103.4688 141.5469,104 Q142.0313,104.5313 142.8594,104.5313 Q143.7031,104.5313 144.1719,104 Q144.6406,103.4688 144.6406,102.5469 L144.6406,94.1094 L147.0938,94.1094 L147.0938,101.9219 Q147.0938,104.4531 146.0938,105.5938 Q145.0938,106.7344 142.8594,106.7344 Q140.6406,106.7344 139.625,105.5938 Q138.625,104.4531 138.625,101.9219 Z \"/><text fill=\"#000000\" font-family=\"sans-serif\" font-size=\"12\" lengthAdjust=\"spacingAndGlyphs\" textLength=\"22\" x=\"157.25\" y=\"104.1543\">x: A</text></a></g><g id=\"E1.E6.E7\"><a href=\"psysml:70818b0d-1657-43d7-b586-0302676d35dd\" target=\"_top\" title=\"psysml:70818b0d-1657-43d7-b586-0302676d35dd\" xlink:actuate=\"onRequest\" xlink:href=\"psysml:70818b0d-1657-43d7-b586-0302676d35dd\" xlink:show=\"new\" xlink:title=\"psysml:70818b0d-1657-43d7-b586-0302676d35dd\" xlink:type=\"simple\"><rect fill=\"#FEFECE\" filter=\"url(#fp2k8yti3eu7c)\" height=\"40\" id=\"E7\" style=\"stroke: #A80036; stroke-width: 1.5;\" width=\"50\" x=\"417\" y=\"84\"/><ellipse cx=\"436.5\" cy=\"100\" fill=\"#008000\" rx=\"11\" ry=\"11\" style=\"stroke: #A80036; stroke-width: 1.0;\"/><path d=\"M435.4063,100.375 L435.4063,104.0469 L437.0313,104.0469 Q438.2031,104.0469 438.6719,103.6563 Q439.1406,103.25 439.1406,102.25 Q439.1406,101.25 438.6406,100.8125 Q438.1563,100.375 437.0313,100.375 L435.4063,100.375 Z M435.4063,95.5469 L435.4063,98.4219 L437.0313,98.4219 Q437.9531,98.4219 438.3438,98.0938 Q438.75,97.75 438.75,97 Q438.75,96.2344 438.3438,95.8906 Q437.9375,95.5469 437.0313,95.5469 L435.4063,95.5469 Z M433.0313,93.5938 L437.0313,93.5938 Q439.0938,93.5938 440.1406,94.375 Q441.1875,95.1563 441.1875,96.7188 Q441.1875,97.9219 440.5625,98.5938 Q439.9531,99.2656 438.7656,99.375 Q440.1875,99.5156 440.9063,100.3281 Q441.625,101.1406 441.625,102.5938 Q441.625,104.3906 440.5469,105.2031 Q439.4688,106 437.0313,106 L433.0313,106 L433.0313,93.5938 Z \"/><text fill=\"#000000\" font-family=\"sans-serif\" font-size=\"12\" lengthAdjust=\"spacingAndGlyphs\" textLength=\"8\" x=\"451.5\" y=\"104.1543\">B</text></a></g><g id=\"E1.E8\"><a href=\"psysml:f43ee61a-1d92-4bcd-a6ef-463238303c09\" target=\"_top\" title=\"psysml:f43ee61a-1d92-4bcd-a6ef-463238303c09\" xlink:actuate=\"onRequest\" xlink:href=\"psysml:f43ee61a-1d92-4bcd-a6ef-463238303c09\" xlink:show=\"new\" xlink:title=\"psysml:f43ee61a-1d92-4bcd-a6ef-463238303c09\" xlink:type=\"simple\"><rect fill=\"#FEFECE\" filter=\"url(#fp2k8yti3eu7c)\" height=\"40\" id=\"E8\" rx=\"10\" ry=\"10\" style=\"stroke: #A80036; stroke-width: 1.5;\" width=\"58\" x=\"32\" y=\"84\"/><ellipse cx=\"49.25\" cy=\"100\" fill=\"#B6DBBB\" rx=\"11\" ry=\"11\" style=\"stroke: #A80036; stroke-width: 1.0;\"/><path d=\"M45.125,101.9219 L45.125,94.1094 L47.5781,94.1094 L47.5781,102.5469 Q47.5781,103.4688 48.0469,104 Q48.5313,104.5313 49.3594,104.5313 Q50.2031,104.5313 50.6719,104 Q51.1406,103.4688 51.1406,102.5469 L51.1406,94.1094 L53.5938,94.1094 L53.5938,101.9219 Q53.5938,104.4531 52.5938,105.5938 Q51.5938,106.7344 49.3594,106.7344 Q47.1406,106.7344 46.125,105.5938 Q45.125,104.4531 45.125,101.9219 Z \"/><text fill=\"#000000\" font-family=\"sans-serif\" font-size=\"12\" lengthAdjust=\"spacingAndGlyphs\" textLength=\"21\" x=\"63.75\" y=\"104.1543\">z: B</text></a></g><g id=\"E1.E9.E10\"><a href=\"psysml:e183bef4-e50f-4a79-aea2-e72f91ae33b1\" target=\"_top\" title=\"psysml:e183bef4-e50f-4a79-aea2-e72f91ae33b1\" xlink:actuate=\"onRequest\" xlink:href=\"psysml:e183bef4-e50f-4a79-aea2-e72f91ae33b1\" xlink:show=\"new\" xlink:title=\"psysml:e183bef4-e50f-4a79-aea2-e72f91ae33b1\" xlink:type=\"simple\"><rect fill=\"#FEFECE\" filter=\"url(#fp2k8yti3eu7c)\" height=\"40\" id=\"E10\" rx=\"10\" ry=\"10\" style=\"stroke: #A80036; stroke-width: 1.5;\" width=\"66\" x=\"295\" y=\"84\"/><ellipse cx=\"312.25\" cy=\"100\" fill=\"#B6DBBB\" rx=\"11\" ry=\"11\" style=\"stroke: #A80036; stroke-width: 1.0;\"/><path d=\"M308.125,101.9219 L308.125,94.1094 L310.5781,94.1094 L310.5781,102.5469 Q310.5781,103.4688 311.0469,104 Q311.5313,104.5313 312.3594,104.5313 Q313.2031,104.5313 313.6719,104 Q314.1406,103.4688 314.1406,102.5469 L314.1406,94.1094 L316.5938,94.1094 L316.5938,101.9219 Q316.5938,104.4531 315.5938,105.5938 Q314.5938,106.7344 312.3594,106.7344 Q310.1406,106.7344 309.125,105.5938 Q308.125,104.4531 308.125,101.9219 Z \"/><text fill=\"#000000\" font-family=\"sans-serif\" font-size=\"12\" lengthAdjust=\"spacingAndGlyphs\" textLength=\"29\" x=\"326.75\" y=\"104.1543\">z1: A</text></a></g><!--MD5=[04878100ff07383d76171464a6d3e038]\n",
       "@startuml\r\n",
       "skinparam ranksep 10\r\n",
       "skinparam rectangle {\r\n",
       " backgroundColor<<block>> LightGreen\r\n",
       "}\r\n",
       " \r\n",
       "package \"PrivateImportTest\" as E1  [[psysml:90f2a1bf-87a7-47cf-b7dc-49b41c6fd8e7 ]]  {\r\n",
       "package \"P1\" as E2  [[psysml:16275eaf-61bd-4171-b64d-9c4aa1fed5b3 ]]  {\r\n",
       "rec def \"A\" as E3 << << (B,green) >> [[psysml:c33e3566-7ac4-4487-b3df-3cd0148aac2a ]] {\r\n",
       "}\r\n",
       "}\r\n",
       "package \"P2\" as E4  [[psysml:b9d82d12-80d8-4b65-b32b-0d4caf256cd7 ]]  {\r\n",
       "}\r\n",
       "rec usage \"x: A\" as E5  [[psysml:0c75b404-ec52-4836-8cbb-5da98c4a5930 ]] {\r\n",
       "}\r\n",
       "package \"P3\" as E6  [[psysml:9d4f5989-8a3e-4397-a866-52670c662db3 ]]  {\r\n",
       "rec def \"B\" as E7 << << (B,green) >> [[psysml:70818b0d-1657-43d7-b586-0302676d35dd ]] {\r\n",
       "}\r\n",
       "}\r\n",
       "rec usage \"z: B\" as E8  [[psysml:f43ee61a-1d92-4bcd-a6ef-463238303c09 ]] {\r\n",
       "}\r\n",
       "package \"P4\" as E9  [[psysml:5979dd71-75f1-4b72-84ed-7ab4ecfce4b9 ]]  {\r\n",
       "rec usage \"z1: A\" as E10  [[psysml:e183bef4-e50f-4a79-aea2-e72f91ae33b1 ]] {\r\n",
       "}\r\n",
       "}\r\n",
       "}\r\n",
       "@enduml\r\n",
       "\n",
       "PlantUML version 1.2020.13(Sat Jun 13 12:26:38 UTC 2020)\n",
       "(EPL source distribution)\n",
       "Java Runtime: OpenJDK Runtime Environment\n",
       "JVM: OpenJDK 64-Bit Server VM\n",
       "Default Encoding: UTF-8\n",
       "Language: en\n",
       "Country: null\n",
       "--></g></svg>"
      ]
     },
     "execution_count": 33,
     "metadata": {},
     "output_type": "execute_result"
    }
   ],
   "source": [
    "%viz --style=\"PLANTUML\" --view=\"Interconnection\" \"PrivateImportTest\""
   ]
  },
  {
   "cell_type": "code",
   "execution_count": 34,
   "id": "82e33f9b",
   "metadata": {
    "execution": {
     "iopub.execute_input": "2021-08-04T06:27:56.488918Z",
     "iopub.status.busy": "2021-08-04T06:27:56.488487Z",
     "iopub.status.idle": "2021-08-04T06:27:56.492506Z",
     "shell.execute_reply": "2021-08-04T06:27:56.492827Z"
    }
   },
   "outputs": [
    {
     "data": {
      "image/svg+xml": [
       "<?xml version=\"1.0\" encoding=\"UTF-8\" standalone=\"no\"?><svg xmlns=\"http://www.w3.org/2000/svg\" xmlns:xlink=\"http://www.w3.org/1999/xlink\" contentScriptType=\"application/ecmascript\" contentStyleType=\"text/css\" height=\"12px\" preserveAspectRatio=\"none\" style=\"width:12px;height:12px;\" version=\"1.1\" viewBox=\"0 0 12 12\" width=\"12px\" zoomAndPan=\"magnify\"><defs/><g><!--MD5=[6a4cb978cab31700e1ce5529f947a75d]\n",
       "@startuml\r\n",
       "skinparam ranksep 8\r\n",
       " \r\n",
       "@enduml\r\n",
       "\n",
       "PlantUML version 1.2020.13(Sat Jun 13 12:26:38 UTC 2020)\n",
       "(EPL source distribution)\n",
       "Java Runtime: OpenJDK Runtime Environment\n",
       "JVM: OpenJDK 64-Bit Server VM\n",
       "Default Encoding: UTF-8\n",
       "Language: en\n",
       "Country: null\n",
       "--></g></svg>"
      ]
     },
     "execution_count": 34,
     "metadata": {},
     "output_type": "execute_result"
    }
   ],
   "source": [
    "%viz --style=\"PLANTUML\" --view=\"Action\" \"PrivateImportTest\""
   ]
  },
  {
   "cell_type": "code",
   "execution_count": 35,
   "id": "e95969f3",
   "metadata": {
    "execution": {
     "iopub.execute_input": "2021-08-04T06:27:56.542825Z",
     "iopub.status.busy": "2021-08-04T06:27:56.542409Z",
     "iopub.status.idle": "2021-08-04T06:27:56.571789Z",
     "shell.execute_reply": "2021-08-04T06:27:56.571410Z"
    }
   },
   "outputs": [
    {
     "data": {
      "image/svg+xml": [
       "<?xml version=\"1.0\" encoding=\"UTF-8\" standalone=\"no\"?><svg xmlns=\"http://www.w3.org/2000/svg\" xmlns:xlink=\"http://www.w3.org/1999/xlink\" contentScriptType=\"application/ecmascript\" contentStyleType=\"text/css\" height=\"297px\" preserveAspectRatio=\"none\" style=\"width:443px;height:297px;\" version=\"1.1\" viewBox=\"0 0 443 297\" width=\"443px\" zoomAndPan=\"magnify\"><defs><filter height=\"300%\" id=\"f1fgcrg3m6vyse\" width=\"300%\" x=\"-1\" y=\"-1\"><feGaussianBlur result=\"blurOut\" stdDeviation=\"2.0\"/><feColorMatrix in=\"blurOut\" result=\"blurOut2\" type=\"matrix\" values=\"0 0 0 0 0 0 0 0 0 0 0 0 0 0 0 0 0 0 .4 0\"/><feOffset dx=\"4.0\" dy=\"4.0\" in=\"blurOut2\" result=\"blurOut3\"/><feBlend in=\"SourceGraphic\" in2=\"blurOut3\" mode=\"normal\"/></filter></defs><g><!--MD5=[fbc87193dbaf4d95561dea2c320d4a47]\n",
       "cluster E1--><a href=\"psysml:90f2a1bf-87a7-47cf-b7dc-49b41c6fd8e7\" target=\"_top\" title=\"psysml:90f2a1bf-87a7-47cf-b7dc-49b41c6fd8e7\" xlink:actuate=\"onRequest\" xlink:href=\"psysml:90f2a1bf-87a7-47cf-b7dc-49b41c6fd8e7\" xlink:show=\"new\" xlink:title=\"psysml:90f2a1bf-87a7-47cf-b7dc-49b41c6fd8e7\" xlink:type=\"simple\"><polygon fill=\"#FFFFFF\" filter=\"url(#f1fgcrg3m6vyse)\" points=\"16,6,163,6,170,28.2969,421,28.2969,421,285,16,285,16,6\" style=\"stroke: #000000; stroke-width: 1.5;\"/><line style=\"stroke: #000000; stroke-width: 1.5;\" x1=\"16\" x2=\"170\" y1=\"28.2969\" y2=\"28.2969\"/><text fill=\"#000000\" font-family=\"sans-serif\" font-size=\"14\" font-weight=\"bold\" lengthAdjust=\"spacingAndGlyphs\" textLength=\"141\" x=\"20\" y=\"20.9951\">PrivateImportTest</text></a><!--MD5=[e4f7fae6ed58524ba242bb0b0d3be6b7]\n",
       "cluster E2--><a href=\"psysml:16275eaf-61bd-4171-b64d-9c4aa1fed5b3\" target=\"_top\" title=\"psysml:16275eaf-61bd-4171-b64d-9c4aa1fed5b3\" xlink:actuate=\"onRequest\" xlink:href=\"psysml:16275eaf-61bd-4171-b64d-9c4aa1fed5b3\" xlink:show=\"new\" xlink:title=\"psysml:16275eaf-61bd-4171-b64d-9c4aa1fed5b3\" xlink:type=\"simple\"><polygon fill=\"#FFFFFF\" filter=\"url(#f1fgcrg3m6vyse)\" points=\"259,170,285,170,292,192.2969,331,192.2969,331,261,259,261,259,170\" style=\"stroke: #000000; stroke-width: 1.5;\"/><line style=\"stroke: #000000; stroke-width: 1.5;\" x1=\"259\" x2=\"292\" y1=\"192.2969\" y2=\"192.2969\"/><text fill=\"#000000\" font-family=\"sans-serif\" font-size=\"14\" font-weight=\"bold\" lengthAdjust=\"spacingAndGlyphs\" textLength=\"20\" x=\"263\" y=\"184.9951\">P1</text></a><!--MD5=[14e3b0961a2654348d326746436168a1]\n",
       "cluster E6--><a href=\"psysml:9d4f5989-8a3e-4397-a866-52670c662db3\" target=\"_top\" title=\"psysml:9d4f5989-8a3e-4397-a866-52670c662db3\" xlink:actuate=\"onRequest\" xlink:href=\"psysml:9d4f5989-8a3e-4397-a866-52670c662db3\" xlink:show=\"new\" xlink:title=\"psysml:9d4f5989-8a3e-4397-a866-52670c662db3\" xlink:type=\"simple\"><polygon fill=\"#FFFFFF\" filter=\"url(#f1fgcrg3m6vyse)\" points=\"105,170,131,170,138,192.2969,177,192.2969,177,261,105,261,105,170\" style=\"stroke: #000000; stroke-width: 1.5;\"/><line style=\"stroke: #000000; stroke-width: 1.5;\" x1=\"105\" x2=\"138\" y1=\"192.2969\" y2=\"192.2969\"/><text fill=\"#000000\" font-family=\"sans-serif\" font-size=\"14\" font-weight=\"bold\" lengthAdjust=\"spacingAndGlyphs\" textLength=\"20\" x=\"109\" y=\"184.9951\">P3</text></a><!--MD5=[7f149f147074ac12df2cb0a7728a5fb0]\n",
       "cluster E9--><a href=\"psysml:5979dd71-75f1-4b72-84ed-7ab4ecfce4b9\" target=\"_top\" title=\"psysml:5979dd71-75f1-4b72-84ed-7ab4ecfce4b9\" xlink:actuate=\"onRequest\" xlink:href=\"psysml:5979dd71-75f1-4b72-84ed-7ab4ecfce4b9\" xlink:show=\"new\" xlink:title=\"psysml:5979dd71-75f1-4b72-84ed-7ab4ecfce4b9\" xlink:type=\"simple\"><polygon fill=\"#FFFFFF\" filter=\"url(#f1fgcrg3m6vyse)\" points=\"297,49,323,49,330,71.2969,397,71.2969,397,146,297,146,297,49\" style=\"stroke: #000000; stroke-width: 1.5;\"/><line style=\"stroke: #000000; stroke-width: 1.5;\" x1=\"297\" x2=\"330\" y1=\"71.2969\" y2=\"71.2969\"/><text fill=\"#000000\" font-family=\"sans-serif\" font-size=\"14\" font-weight=\"bold\" lengthAdjust=\"spacingAndGlyphs\" textLength=\"20\" x=\"301\" y=\"63.9951\">P4</text></a><!--MD5=[270fce915f116d4de14055a7c1d9a0f3]\n",
       "class E5--><a href=\"psysml:0c75b404-ec52-4836-8cbb-5da98c4a5930\" target=\"_top\" title=\"psysml:0c75b404-ec52-4836-8cbb-5da98c4a5930\" xlink:actuate=\"onRequest\" xlink:href=\"psysml:0c75b404-ec52-4836-8cbb-5da98c4a5930\" xlink:show=\"new\" xlink:title=\"psysml:0c75b404-ec52-4836-8cbb-5da98c4a5930\" xlink:type=\"simple\"><rect fill=\"#FEFECE\" filter=\"url(#f1fgcrg3m6vyse)\" height=\"45.9375\" id=\"E5\" rx=\"10\" ry=\"10\" style=\"stroke: #A80036; stroke-width: 1.5;\" width=\"68\" x=\"210\" y=\"84\"/><ellipse cx=\"225\" cy=\"102.9688\" fill=\"#32CD32\" rx=\"11\" ry=\"11\" style=\"stroke: #A80036; stroke-width: 1.0;\"/><path d=\"M224.7969,98.6406 L224.7969,102.2656 L225.7969,102.2656 Q227,102.2656 227.4844,101.8594 Q227.9688,101.4531 227.9688,100.4531 Q227.9688,99.4531 227.4844,99.0469 Q227,98.6406 225.7969,98.6406 L224.7969,98.6406 Z M222.3438,96.5781 L225.7031,96.5781 Q228.2656,96.5781 229.3906,97.5 Q230.5156,98.4063 230.5156,100.4531 Q230.5156,102.5 229.3906,103.4219 Q228.2656,104.3281 225.7031,104.3281 L224.7969,104.3281 L224.7969,108.9688 L222.3438,108.9688 L222.3438,96.5781 Z \"/><text fill=\"#000000\" font-family=\"sans-serif\" font-size=\"12\" font-style=\"italic\" lengthAdjust=\"spacingAndGlyphs\" textLength=\"40\" x=\"237\" y=\"100.1387\">«part»</text><text fill=\"#000000\" font-family=\"sans-serif\" font-size=\"12\" lengthAdjust=\"spacingAndGlyphs\" textLength=\"22\" x=\"246\" y=\"114.1074\">x: A</text><line style=\"stroke: #A80036; stroke-width: 1.5;\" x1=\"211\" x2=\"277\" y1=\"121.9375\" y2=\"121.9375\"/></a><!--MD5=[b9389687b975829384b498ac4b7476b2]\n",
       "class E8--><a href=\"psysml:f43ee61a-1d92-4bcd-a6ef-463238303c09\" target=\"_top\" title=\"psysml:f43ee61a-1d92-4bcd-a6ef-463238303c09\" xlink:actuate=\"onRequest\" xlink:href=\"psysml:f43ee61a-1d92-4bcd-a6ef-463238303c09\" xlink:show=\"new\" xlink:title=\"psysml:f43ee61a-1d92-4bcd-a6ef-463238303c09\" xlink:type=\"simple\"><rect fill=\"#FEFECE\" filter=\"url(#f1fgcrg3m6vyse)\" height=\"45.9375\" id=\"E8\" rx=\"10\" ry=\"10\" style=\"stroke: #A80036; stroke-width: 1.5;\" width=\"68\" x=\"107\" y=\"84\"/><ellipse cx=\"122\" cy=\"102.9688\" fill=\"#32CD32\" rx=\"11\" ry=\"11\" style=\"stroke: #A80036; stroke-width: 1.0;\"/><path d=\"M121.7969,98.6406 L121.7969,102.2656 L122.7969,102.2656 Q124,102.2656 124.4844,101.8594 Q124.9688,101.4531 124.9688,100.4531 Q124.9688,99.4531 124.4844,99.0469 Q124,98.6406 122.7969,98.6406 L121.7969,98.6406 Z M119.3438,96.5781 L122.7031,96.5781 Q125.2656,96.5781 126.3906,97.5 Q127.5156,98.4063 127.5156,100.4531 Q127.5156,102.5 126.3906,103.4219 Q125.2656,104.3281 122.7031,104.3281 L121.7969,104.3281 L121.7969,108.9688 L119.3438,108.9688 L119.3438,96.5781 Z \"/><text fill=\"#000000\" font-family=\"sans-serif\" font-size=\"12\" font-style=\"italic\" lengthAdjust=\"spacingAndGlyphs\" textLength=\"40\" x=\"134\" y=\"100.1387\">«part»</text><text fill=\"#000000\" font-family=\"sans-serif\" font-size=\"12\" lengthAdjust=\"spacingAndGlyphs\" textLength=\"21\" x=\"143.5\" y=\"114.1074\">z: B</text><line style=\"stroke: #A80036; stroke-width: 1.5;\" x1=\"108\" x2=\"174\" y1=\"121.9375\" y2=\"121.9375\"/></a><!--MD5=[09b614a08d8cba4a07c9adeb5e0fee81]\n",
       "class E3--><a href=\"psysml:c33e3566-7ac4-4487-b3df-3cd0148aac2a\" target=\"_top\" title=\"psysml:c33e3566-7ac4-4487-b3df-3cd0148aac2a\" xlink:actuate=\"onRequest\" xlink:href=\"psysml:c33e3566-7ac4-4487-b3df-3cd0148aac2a\" xlink:show=\"new\" xlink:title=\"psysml:c33e3566-7ac4-4487-b3df-3cd0148aac2a\" xlink:type=\"simple\"><rect fill=\"#FEFECE\" filter=\"url(#f1fgcrg3m6vyse)\" height=\"40\" id=\"E3\" style=\"stroke: #A80036; stroke-width: 1.5;\" width=\"40\" x=\"275\" y=\"205\"/><ellipse cx=\"290\" cy=\"221\" fill=\"#008000\" rx=\"11\" ry=\"11\" style=\"stroke: #A80036; stroke-width: 1.0;\"/><path d=\"M288.9063,221.375 L288.9063,225.0469 L290.5313,225.0469 Q291.7031,225.0469 292.1719,224.6563 Q292.6406,224.25 292.6406,223.25 Q292.6406,222.25 292.1406,221.8125 Q291.6563,221.375 290.5313,221.375 L288.9063,221.375 Z M288.9063,216.5469 L288.9063,219.4219 L290.5313,219.4219 Q291.4531,219.4219 291.8438,219.0938 Q292.25,218.75 292.25,218 Q292.25,217.2344 291.8438,216.8906 Q291.4375,216.5469 290.5313,216.5469 L288.9063,216.5469 Z M286.5313,214.5938 L290.5313,214.5938 Q292.5938,214.5938 293.6406,215.375 Q294.6875,216.1563 294.6875,217.7188 Q294.6875,218.9219 294.0625,219.5938 Q293.4531,220.2656 292.2656,220.375 Q293.6875,220.5156 294.4063,221.3281 Q295.125,222.1406 295.125,223.5938 Q295.125,225.3906 294.0469,226.2031 Q292.9688,227 290.5313,227 L286.5313,227 L286.5313,214.5938 Z \"/><text fill=\"#000000\" font-family=\"sans-serif\" font-size=\"12\" lengthAdjust=\"spacingAndGlyphs\" textLength=\"8\" x=\"304\" y=\"225.1543\">A</text><line style=\"stroke: #A80036; stroke-width: 1.5;\" x1=\"276\" x2=\"314\" y1=\"237\" y2=\"237\"/></a><a href=\"psysml:b9d82d12-80d8-4b65-b32b-0d4caf256cd7\" target=\"_top\" title=\"psysml:b9d82d12-80d8-4b65-b32b-0d4caf256cd7\" xlink:actuate=\"onRequest\" xlink:href=\"psysml:b9d82d12-80d8-4b65-b32b-0d4caf256cd7\" xlink:show=\"new\" xlink:title=\"psysml:b9d82d12-80d8-4b65-b32b-0d4caf256cd7\" xlink:type=\"simple\"><polygon fill=\"#FFFFFF\" filter=\"url(#f1fgcrg3m6vyse)\" points=\"32,80.5,58,80.5,65,102.7969,72,102.7969,72,133.0938,32,133.0938,32,80.5\" style=\"stroke: #000000; stroke-width: 1.5;\"/><line style=\"stroke: #000000; stroke-width: 1.5;\" x1=\"32\" x2=\"65\" y1=\"102.7969\" y2=\"102.7969\"/><text fill=\"#000000\" font-family=\"sans-serif\" font-size=\"14\" font-weight=\"bold\" lengthAdjust=\"spacingAndGlyphs\" textLength=\"20\" x=\"36\" y=\"95.4951\">P2</text></a><!--MD5=[2156ba9850f5573cc1fc38a6a4b2f02b]\n",
       "class E7--><a href=\"psysml:70818b0d-1657-43d7-b586-0302676d35dd\" target=\"_top\" title=\"psysml:70818b0d-1657-43d7-b586-0302676d35dd\" xlink:actuate=\"onRequest\" xlink:href=\"psysml:70818b0d-1657-43d7-b586-0302676d35dd\" xlink:show=\"new\" xlink:title=\"psysml:70818b0d-1657-43d7-b586-0302676d35dd\" xlink:type=\"simple\"><rect fill=\"#FEFECE\" filter=\"url(#f1fgcrg3m6vyse)\" height=\"40\" id=\"E7\" style=\"stroke: #A80036; stroke-width: 1.5;\" width=\"40\" x=\"121\" y=\"205\"/><ellipse cx=\"136\" cy=\"221\" fill=\"#008000\" rx=\"11\" ry=\"11\" style=\"stroke: #A80036; stroke-width: 1.0;\"/><path d=\"M134.9063,221.375 L134.9063,225.0469 L136.5313,225.0469 Q137.7031,225.0469 138.1719,224.6563 Q138.6406,224.25 138.6406,223.25 Q138.6406,222.25 138.1406,221.8125 Q137.6563,221.375 136.5313,221.375 L134.9063,221.375 Z M134.9063,216.5469 L134.9063,219.4219 L136.5313,219.4219 Q137.4531,219.4219 137.8438,219.0938 Q138.25,218.75 138.25,218 Q138.25,217.2344 137.8438,216.8906 Q137.4375,216.5469 136.5313,216.5469 L134.9063,216.5469 Z M132.5313,214.5938 L136.5313,214.5938 Q138.5938,214.5938 139.6406,215.375 Q140.6875,216.1563 140.6875,217.7188 Q140.6875,218.9219 140.0625,219.5938 Q139.4531,220.2656 138.2656,220.375 Q139.6875,220.5156 140.4063,221.3281 Q141.125,222.1406 141.125,223.5938 Q141.125,225.3906 140.0469,226.2031 Q138.9688,227 136.5313,227 L132.5313,227 L132.5313,214.5938 Z \"/><text fill=\"#000000\" font-family=\"sans-serif\" font-size=\"12\" lengthAdjust=\"spacingAndGlyphs\" textLength=\"8\" x=\"150\" y=\"225.1543\">B</text><line style=\"stroke: #A80036; stroke-width: 1.5;\" x1=\"122\" x2=\"160\" y1=\"237\" y2=\"237\"/></a><!--MD5=[96f4274e9e20536e775497830990834d]\n",
       "class E10--><a href=\"psysml:e183bef4-e50f-4a79-aea2-e72f91ae33b1\" target=\"_top\" title=\"psysml:e183bef4-e50f-4a79-aea2-e72f91ae33b1\" xlink:actuate=\"onRequest\" xlink:href=\"psysml:e183bef4-e50f-4a79-aea2-e72f91ae33b1\" xlink:show=\"new\" xlink:title=\"psysml:e183bef4-e50f-4a79-aea2-e72f91ae33b1\" xlink:type=\"simple\"><rect fill=\"#FEFECE\" filter=\"url(#f1fgcrg3m6vyse)\" height=\"45.9375\" id=\"E10\" rx=\"10\" ry=\"10\" style=\"stroke: #A80036; stroke-width: 1.5;\" width=\"68\" x=\"313\" y=\"84\"/><ellipse cx=\"328\" cy=\"102.9688\" fill=\"#32CD32\" rx=\"11\" ry=\"11\" style=\"stroke: #A80036; stroke-width: 1.0;\"/><path d=\"M327.7969,98.6406 L327.7969,102.2656 L328.7969,102.2656 Q330,102.2656 330.4844,101.8594 Q330.9688,101.4531 330.9688,100.4531 Q330.9688,99.4531 330.4844,99.0469 Q330,98.6406 328.7969,98.6406 L327.7969,98.6406 Z M325.3438,96.5781 L328.7031,96.5781 Q331.2656,96.5781 332.3906,97.5 Q333.5156,98.4063 333.5156,100.4531 Q333.5156,102.5 332.3906,103.4219 Q331.2656,104.3281 328.7031,104.3281 L327.7969,104.3281 L327.7969,108.9688 L325.3438,108.9688 L325.3438,96.5781 Z \"/><text fill=\"#000000\" font-family=\"sans-serif\" font-size=\"12\" font-style=\"italic\" lengthAdjust=\"spacingAndGlyphs\" textLength=\"40\" x=\"340\" y=\"100.1387\">«part»</text><text fill=\"#000000\" font-family=\"sans-serif\" font-size=\"12\" lengthAdjust=\"spacingAndGlyphs\" textLength=\"29\" x=\"345.5\" y=\"114.1074\">z1: A</text><line style=\"stroke: #A80036; stroke-width: 1.5;\" x1=\"314\" x2=\"380\" y1=\"121.9375\" y2=\"121.9375\"/></a><!--MD5=[e9be52314489bd878ff4c7144b63c9e1]\n",
       "link E5 to E3--><a href=\"psysml:f8be15bd-6ead-4f94-a81d-297834d3bff2\" target=\"_top\" title=\"psysml:f8be15bd-6ead-4f94-a81d-297834d3bff2\" xlink:actuate=\"onRequest\" xlink:href=\"psysml:f8be15bd-6ead-4f94-a81d-297834d3bff2\" xlink:show=\"new\" xlink:title=\"psysml:f8be15bd-6ead-4f94-a81d-297834d3bff2\" xlink:type=\"simple\"><path d=\"M253.71,130.09 C260.67,145.93 270.22,167.65 278.39,186.21 \" fill=\"none\" id=\"E5-&gt;E3\" style=\"stroke: #A80036; stroke-width: 1.0;\"/><polygon fill=\"#FFFFFF\" points=\"286.51,204.69,272.4611,190.1083,285.2794,184.479,286.51,204.69\" style=\"stroke: #A80036; stroke-width: 1.0;\"/><ellipse cx=\"272.0003\" cy=\"184.0852\" fill=\"#A80036\" rx=\"2\" ry=\"2\" style=\"stroke: #A80036; stroke-width: 1.0;\"/><ellipse cx=\"281.1563\" cy=\"180.0642\" fill=\"#A80036\" rx=\"2\" ry=\"2\" style=\"stroke: #A80036; stroke-width: 1.0;\"/></a><!--MD5=[bfa3c8b0d15052fdf50ae9310b491027]\n",
       "link E8 to E7--><a href=\"psysml:2890fdf6-d136-470e-95db-a042243a6f10\" target=\"_top\" title=\"psysml:2890fdf6-d136-470e-95db-a042243a6f10\" xlink:actuate=\"onRequest\" xlink:href=\"psysml:2890fdf6-d136-470e-95db-a042243a6f10\" xlink:show=\"new\" xlink:title=\"psysml:2890fdf6-d136-470e-95db-a042243a6f10\" xlink:type=\"simple\"><path d=\"M141,130.09 C141,145.42 141,166.27 141,184.42 \" fill=\"none\" id=\"E8-&gt;E7\" style=\"stroke: #A80036; stroke-width: 1.0;\"/><polygon fill=\"#FFFFFF\" points=\"141,204.69,134,185.69,148,185.69,141,204.69\" style=\"stroke: #A80036; stroke-width: 1.0;\"/><ellipse cx=\"136\" cy=\"179.99\" fill=\"#A80036\" rx=\"2\" ry=\"2\" style=\"stroke: #A80036; stroke-width: 1.0;\"/><ellipse cx=\"146\" cy=\"179.99\" fill=\"#A80036\" rx=\"2\" ry=\"2\" style=\"stroke: #A80036; stroke-width: 1.0;\"/></a><!--MD5=[feeac5eb423634930294aa81f2d25a4c]\n",
       "link E10 to E3--><a href=\"psysml:25a6672d-e3f3-453e-a929-7fba59fa68e7\" target=\"_top\" title=\"psysml:25a6672d-e3f3-453e-a929-7fba59fa68e7\" xlink:actuate=\"onRequest\" xlink:href=\"psysml:25a6672d-e3f3-453e-a929-7fba59fa68e7\" xlink:show=\"new\" xlink:title=\"psysml:25a6672d-e3f3-453e-a929-7fba59fa68e7\" xlink:type=\"simple\"><path d=\"M337.1,130.09 C330,145.93 320.26,167.65 311.94,186.21 \" fill=\"none\" id=\"E10-&gt;E3\" style=\"stroke: #A80036; stroke-width: 1.0;\"/><polygon fill=\"#FFFFFF\" points=\"303.66,204.69,305.0459,184.489,317.8206,190.2167,303.66,204.69\" style=\"stroke: #A80036; stroke-width: 1.0;\"/><ellipse cx=\"309.2028\" cy=\"180.1061\" fill=\"#A80036\" rx=\"2\" ry=\"2\" style=\"stroke: #A80036; stroke-width: 1.0;\"/><ellipse cx=\"318.3276\" cy=\"184.1973\" fill=\"#A80036\" rx=\"2\" ry=\"2\" style=\"stroke: #A80036; stroke-width: 1.0;\"/></a><!--MD5=[26e73f3001575cdfcf69ba67f5e60856]\n",
       "@startuml\r\n",
       " \r\n",
       "package \"PrivateImportTest\" as E1  [[psysml:90f2a1bf-87a7-47cf-b7dc-49b41c6fd8e7 ]]  {\r\n",
       "package \"P1\" as E2  [[psysml:16275eaf-61bd-4171-b64d-9c4aa1fed5b3 ]]  {\r\n",
       "comp def \"A\" as E3 << << (B,green) >> [[psysml:c33e3566-7ac4-4487-b3df-3cd0148aac2a ]] {\r\n",
       "}\r\n",
       "}\r\n",
       "package \"P2\" as E4  [[psysml:b9d82d12-80d8-4b65-b32b-0d4caf256cd7 ]]  {\r\n",
       "}\r\n",
       "comp usage \"x: A\" as E5 << << (P,limegreen) part>> [[psysml:0c75b404-ec52-4836-8cbb-5da98c4a5930 ]] {\r\n",
       "}\r\n",
       "package \"P3\" as E6  [[psysml:9d4f5989-8a3e-4397-a866-52670c662db3 ]]  {\r\n",
       "comp def \"B\" as E7 << << (B,green) >> [[psysml:70818b0d-1657-43d7-b586-0302676d35dd ]] {\r\n",
       "}\r\n",
       "E5 - -:|> E3 [[psysml:f8be15bd-6ead-4f94-a81d-297834d3bff2 ]] \r\n",
       "}\r\n",
       "comp usage \"z: B\" as E8 << << (P,limegreen) part>> [[psysml:f43ee61a-1d92-4bcd-a6ef-463238303c09 ]] {\r\n",
       "}\r\n",
       "package \"P4\" as E9  [[psysml:5979dd71-75f1-4b72-84ed-7ab4ecfce4b9 ]]  {\r\n",
       "comp usage \"z1: A\" as E10 << << (P,limegreen) part>> [[psysml:e183bef4-e50f-4a79-aea2-e72f91ae33b1 ]] {\r\n",
       "}\r\n",
       "E8 - -:|> E7 [[psysml:2890fdf6-d136-470e-95db-a042243a6f10 ]] \r\n",
       "E10 - -:|> E3 [[psysml:25a6672d-e3f3-453e-a929-7fba59fa68e7 ]] \r\n",
       "}\r\n",
       "}\r\n",
       "@enduml\r\n",
       "\n",
       "PlantUML version 1.2020.13(Sat Jun 13 12:26:38 UTC 2020)\n",
       "(EPL source distribution)\n",
       "Java Runtime: OpenJDK Runtime Environment\n",
       "JVM: OpenJDK 64-Bit Server VM\n",
       "Default Encoding: UTF-8\n",
       "Language: en\n",
       "Country: null\n",
       "--></g></svg>"
      ]
     },
     "execution_count": 35,
     "metadata": {},
     "output_type": "execute_result"
    }
   ],
   "source": [
    "%viz --style=\"PLANTUML\" --view=\"Sequence\" \"PrivateImportTest\""
   ]
  },
  {
   "cell_type": "code",
   "execution_count": 36,
   "id": "9b297fb0",
   "metadata": {
    "execution": {
     "iopub.execute_input": "2021-08-04T06:27:56.621020Z",
     "iopub.status.busy": "2021-08-04T06:27:56.620584Z",
     "iopub.status.idle": "2021-08-04T06:27:56.647857Z",
     "shell.execute_reply": "2021-08-04T06:27:56.647495Z"
    }
   },
   "outputs": [
    {
     "data": {
      "image/svg+xml": [
       "<?xml version=\"1.0\" encoding=\"UTF-8\" standalone=\"no\"?><svg xmlns=\"http://www.w3.org/2000/svg\" xmlns:xlink=\"http://www.w3.org/1999/xlink\" contentScriptType=\"application/ecmascript\" contentStyleType=\"text/css\" height=\"297px\" preserveAspectRatio=\"none\" style=\"width:443px;height:297px;\" version=\"1.1\" viewBox=\"0 0 443 297\" width=\"443px\" zoomAndPan=\"magnify\"><defs><filter height=\"300%\" id=\"f1fgcrg3m6vyse\" width=\"300%\" x=\"-1\" y=\"-1\"><feGaussianBlur result=\"blurOut\" stdDeviation=\"2.0\"/><feColorMatrix in=\"blurOut\" result=\"blurOut2\" type=\"matrix\" values=\"0 0 0 0 0 0 0 0 0 0 0 0 0 0 0 0 0 0 .4 0\"/><feOffset dx=\"4.0\" dy=\"4.0\" in=\"blurOut2\" result=\"blurOut3\"/><feBlend in=\"SourceGraphic\" in2=\"blurOut3\" mode=\"normal\"/></filter></defs><g><!--MD5=[fbc87193dbaf4d95561dea2c320d4a47]\n",
       "cluster E1--><a href=\"psysml:90f2a1bf-87a7-47cf-b7dc-49b41c6fd8e7\" target=\"_top\" title=\"psysml:90f2a1bf-87a7-47cf-b7dc-49b41c6fd8e7\" xlink:actuate=\"onRequest\" xlink:href=\"psysml:90f2a1bf-87a7-47cf-b7dc-49b41c6fd8e7\" xlink:show=\"new\" xlink:title=\"psysml:90f2a1bf-87a7-47cf-b7dc-49b41c6fd8e7\" xlink:type=\"simple\"><polygon fill=\"#FFFFFF\" filter=\"url(#f1fgcrg3m6vyse)\" points=\"16,6,163,6,170,28.2969,421,28.2969,421,285,16,285,16,6\" style=\"stroke: #000000; stroke-width: 1.5;\"/><line style=\"stroke: #000000; stroke-width: 1.5;\" x1=\"16\" x2=\"170\" y1=\"28.2969\" y2=\"28.2969\"/><text fill=\"#000000\" font-family=\"sans-serif\" font-size=\"14\" font-weight=\"bold\" lengthAdjust=\"spacingAndGlyphs\" textLength=\"141\" x=\"20\" y=\"20.9951\">PrivateImportTest</text></a><!--MD5=[e4f7fae6ed58524ba242bb0b0d3be6b7]\n",
       "cluster E2--><a href=\"psysml:16275eaf-61bd-4171-b64d-9c4aa1fed5b3\" target=\"_top\" title=\"psysml:16275eaf-61bd-4171-b64d-9c4aa1fed5b3\" xlink:actuate=\"onRequest\" xlink:href=\"psysml:16275eaf-61bd-4171-b64d-9c4aa1fed5b3\" xlink:show=\"new\" xlink:title=\"psysml:16275eaf-61bd-4171-b64d-9c4aa1fed5b3\" xlink:type=\"simple\"><polygon fill=\"#FFFFFF\" filter=\"url(#f1fgcrg3m6vyse)\" points=\"259,170,285,170,292,192.2969,331,192.2969,331,261,259,261,259,170\" style=\"stroke: #000000; stroke-width: 1.5;\"/><line style=\"stroke: #000000; stroke-width: 1.5;\" x1=\"259\" x2=\"292\" y1=\"192.2969\" y2=\"192.2969\"/><text fill=\"#000000\" font-family=\"sans-serif\" font-size=\"14\" font-weight=\"bold\" lengthAdjust=\"spacingAndGlyphs\" textLength=\"20\" x=\"263\" y=\"184.9951\">P1</text></a><!--MD5=[14e3b0961a2654348d326746436168a1]\n",
       "cluster E6--><a href=\"psysml:9d4f5989-8a3e-4397-a866-52670c662db3\" target=\"_top\" title=\"psysml:9d4f5989-8a3e-4397-a866-52670c662db3\" xlink:actuate=\"onRequest\" xlink:href=\"psysml:9d4f5989-8a3e-4397-a866-52670c662db3\" xlink:show=\"new\" xlink:title=\"psysml:9d4f5989-8a3e-4397-a866-52670c662db3\" xlink:type=\"simple\"><polygon fill=\"#FFFFFF\" filter=\"url(#f1fgcrg3m6vyse)\" points=\"105,170,131,170,138,192.2969,177,192.2969,177,261,105,261,105,170\" style=\"stroke: #000000; stroke-width: 1.5;\"/><line style=\"stroke: #000000; stroke-width: 1.5;\" x1=\"105\" x2=\"138\" y1=\"192.2969\" y2=\"192.2969\"/><text fill=\"#000000\" font-family=\"sans-serif\" font-size=\"14\" font-weight=\"bold\" lengthAdjust=\"spacingAndGlyphs\" textLength=\"20\" x=\"109\" y=\"184.9951\">P3</text></a><!--MD5=[7f149f147074ac12df2cb0a7728a5fb0]\n",
       "cluster E9--><a href=\"psysml:5979dd71-75f1-4b72-84ed-7ab4ecfce4b9\" target=\"_top\" title=\"psysml:5979dd71-75f1-4b72-84ed-7ab4ecfce4b9\" xlink:actuate=\"onRequest\" xlink:href=\"psysml:5979dd71-75f1-4b72-84ed-7ab4ecfce4b9\" xlink:show=\"new\" xlink:title=\"psysml:5979dd71-75f1-4b72-84ed-7ab4ecfce4b9\" xlink:type=\"simple\"><polygon fill=\"#FFFFFF\" filter=\"url(#f1fgcrg3m6vyse)\" points=\"297,49,323,49,330,71.2969,397,71.2969,397,146,297,146,297,49\" style=\"stroke: #000000; stroke-width: 1.5;\"/><line style=\"stroke: #000000; stroke-width: 1.5;\" x1=\"297\" x2=\"330\" y1=\"71.2969\" y2=\"71.2969\"/><text fill=\"#000000\" font-family=\"sans-serif\" font-size=\"14\" font-weight=\"bold\" lengthAdjust=\"spacingAndGlyphs\" textLength=\"20\" x=\"301\" y=\"63.9951\">P4</text></a><!--MD5=[270fce915f116d4de14055a7c1d9a0f3]\n",
       "class E5--><a href=\"psysml:0c75b404-ec52-4836-8cbb-5da98c4a5930\" target=\"_top\" title=\"psysml:0c75b404-ec52-4836-8cbb-5da98c4a5930\" xlink:actuate=\"onRequest\" xlink:href=\"psysml:0c75b404-ec52-4836-8cbb-5da98c4a5930\" xlink:show=\"new\" xlink:title=\"psysml:0c75b404-ec52-4836-8cbb-5da98c4a5930\" xlink:type=\"simple\"><rect fill=\"#FEFECE\" filter=\"url(#f1fgcrg3m6vyse)\" height=\"45.9375\" id=\"E5\" rx=\"10\" ry=\"10\" style=\"stroke: #A80036; stroke-width: 1.5;\" width=\"68\" x=\"210\" y=\"84\"/><ellipse cx=\"225\" cy=\"102.9688\" fill=\"#32CD32\" rx=\"11\" ry=\"11\" style=\"stroke: #A80036; stroke-width: 1.0;\"/><path d=\"M224.7969,98.6406 L224.7969,102.2656 L225.7969,102.2656 Q227,102.2656 227.4844,101.8594 Q227.9688,101.4531 227.9688,100.4531 Q227.9688,99.4531 227.4844,99.0469 Q227,98.6406 225.7969,98.6406 L224.7969,98.6406 Z M222.3438,96.5781 L225.7031,96.5781 Q228.2656,96.5781 229.3906,97.5 Q230.5156,98.4063 230.5156,100.4531 Q230.5156,102.5 229.3906,103.4219 Q228.2656,104.3281 225.7031,104.3281 L224.7969,104.3281 L224.7969,108.9688 L222.3438,108.9688 L222.3438,96.5781 Z \"/><text fill=\"#000000\" font-family=\"sans-serif\" font-size=\"12\" font-style=\"italic\" lengthAdjust=\"spacingAndGlyphs\" textLength=\"40\" x=\"237\" y=\"100.1387\">«part»</text><text fill=\"#000000\" font-family=\"sans-serif\" font-size=\"12\" lengthAdjust=\"spacingAndGlyphs\" textLength=\"22\" x=\"246\" y=\"114.1074\">x: A</text><line style=\"stroke: #A80036; stroke-width: 1.5;\" x1=\"211\" x2=\"277\" y1=\"121.9375\" y2=\"121.9375\"/></a><!--MD5=[b9389687b975829384b498ac4b7476b2]\n",
       "class E8--><a href=\"psysml:f43ee61a-1d92-4bcd-a6ef-463238303c09\" target=\"_top\" title=\"psysml:f43ee61a-1d92-4bcd-a6ef-463238303c09\" xlink:actuate=\"onRequest\" xlink:href=\"psysml:f43ee61a-1d92-4bcd-a6ef-463238303c09\" xlink:show=\"new\" xlink:title=\"psysml:f43ee61a-1d92-4bcd-a6ef-463238303c09\" xlink:type=\"simple\"><rect fill=\"#FEFECE\" filter=\"url(#f1fgcrg3m6vyse)\" height=\"45.9375\" id=\"E8\" rx=\"10\" ry=\"10\" style=\"stroke: #A80036; stroke-width: 1.5;\" width=\"68\" x=\"107\" y=\"84\"/><ellipse cx=\"122\" cy=\"102.9688\" fill=\"#32CD32\" rx=\"11\" ry=\"11\" style=\"stroke: #A80036; stroke-width: 1.0;\"/><path d=\"M121.7969,98.6406 L121.7969,102.2656 L122.7969,102.2656 Q124,102.2656 124.4844,101.8594 Q124.9688,101.4531 124.9688,100.4531 Q124.9688,99.4531 124.4844,99.0469 Q124,98.6406 122.7969,98.6406 L121.7969,98.6406 Z M119.3438,96.5781 L122.7031,96.5781 Q125.2656,96.5781 126.3906,97.5 Q127.5156,98.4063 127.5156,100.4531 Q127.5156,102.5 126.3906,103.4219 Q125.2656,104.3281 122.7031,104.3281 L121.7969,104.3281 L121.7969,108.9688 L119.3438,108.9688 L119.3438,96.5781 Z \"/><text fill=\"#000000\" font-family=\"sans-serif\" font-size=\"12\" font-style=\"italic\" lengthAdjust=\"spacingAndGlyphs\" textLength=\"40\" x=\"134\" y=\"100.1387\">«part»</text><text fill=\"#000000\" font-family=\"sans-serif\" font-size=\"12\" lengthAdjust=\"spacingAndGlyphs\" textLength=\"21\" x=\"143.5\" y=\"114.1074\">z: B</text><line style=\"stroke: #A80036; stroke-width: 1.5;\" x1=\"108\" x2=\"174\" y1=\"121.9375\" y2=\"121.9375\"/></a><!--MD5=[09b614a08d8cba4a07c9adeb5e0fee81]\n",
       "class E3--><a href=\"psysml:c33e3566-7ac4-4487-b3df-3cd0148aac2a\" target=\"_top\" title=\"psysml:c33e3566-7ac4-4487-b3df-3cd0148aac2a\" xlink:actuate=\"onRequest\" xlink:href=\"psysml:c33e3566-7ac4-4487-b3df-3cd0148aac2a\" xlink:show=\"new\" xlink:title=\"psysml:c33e3566-7ac4-4487-b3df-3cd0148aac2a\" xlink:type=\"simple\"><rect fill=\"#FEFECE\" filter=\"url(#f1fgcrg3m6vyse)\" height=\"40\" id=\"E3\" style=\"stroke: #A80036; stroke-width: 1.5;\" width=\"40\" x=\"275\" y=\"205\"/><ellipse cx=\"290\" cy=\"221\" fill=\"#008000\" rx=\"11\" ry=\"11\" style=\"stroke: #A80036; stroke-width: 1.0;\"/><path d=\"M288.9063,221.375 L288.9063,225.0469 L290.5313,225.0469 Q291.7031,225.0469 292.1719,224.6563 Q292.6406,224.25 292.6406,223.25 Q292.6406,222.25 292.1406,221.8125 Q291.6563,221.375 290.5313,221.375 L288.9063,221.375 Z M288.9063,216.5469 L288.9063,219.4219 L290.5313,219.4219 Q291.4531,219.4219 291.8438,219.0938 Q292.25,218.75 292.25,218 Q292.25,217.2344 291.8438,216.8906 Q291.4375,216.5469 290.5313,216.5469 L288.9063,216.5469 Z M286.5313,214.5938 L290.5313,214.5938 Q292.5938,214.5938 293.6406,215.375 Q294.6875,216.1563 294.6875,217.7188 Q294.6875,218.9219 294.0625,219.5938 Q293.4531,220.2656 292.2656,220.375 Q293.6875,220.5156 294.4063,221.3281 Q295.125,222.1406 295.125,223.5938 Q295.125,225.3906 294.0469,226.2031 Q292.9688,227 290.5313,227 L286.5313,227 L286.5313,214.5938 Z \"/><text fill=\"#000000\" font-family=\"sans-serif\" font-size=\"12\" lengthAdjust=\"spacingAndGlyphs\" textLength=\"8\" x=\"304\" y=\"225.1543\">A</text><line style=\"stroke: #A80036; stroke-width: 1.5;\" x1=\"276\" x2=\"314\" y1=\"237\" y2=\"237\"/></a><a href=\"psysml:b9d82d12-80d8-4b65-b32b-0d4caf256cd7\" target=\"_top\" title=\"psysml:b9d82d12-80d8-4b65-b32b-0d4caf256cd7\" xlink:actuate=\"onRequest\" xlink:href=\"psysml:b9d82d12-80d8-4b65-b32b-0d4caf256cd7\" xlink:show=\"new\" xlink:title=\"psysml:b9d82d12-80d8-4b65-b32b-0d4caf256cd7\" xlink:type=\"simple\"><polygon fill=\"#FFFFFF\" filter=\"url(#f1fgcrg3m6vyse)\" points=\"32,80.5,58,80.5,65,102.7969,72,102.7969,72,133.0938,32,133.0938,32,80.5\" style=\"stroke: #000000; stroke-width: 1.5;\"/><line style=\"stroke: #000000; stroke-width: 1.5;\" x1=\"32\" x2=\"65\" y1=\"102.7969\" y2=\"102.7969\"/><text fill=\"#000000\" font-family=\"sans-serif\" font-size=\"14\" font-weight=\"bold\" lengthAdjust=\"spacingAndGlyphs\" textLength=\"20\" x=\"36\" y=\"95.4951\">P2</text></a><!--MD5=[2156ba9850f5573cc1fc38a6a4b2f02b]\n",
       "class E7--><a href=\"psysml:70818b0d-1657-43d7-b586-0302676d35dd\" target=\"_top\" title=\"psysml:70818b0d-1657-43d7-b586-0302676d35dd\" xlink:actuate=\"onRequest\" xlink:href=\"psysml:70818b0d-1657-43d7-b586-0302676d35dd\" xlink:show=\"new\" xlink:title=\"psysml:70818b0d-1657-43d7-b586-0302676d35dd\" xlink:type=\"simple\"><rect fill=\"#FEFECE\" filter=\"url(#f1fgcrg3m6vyse)\" height=\"40\" id=\"E7\" style=\"stroke: #A80036; stroke-width: 1.5;\" width=\"40\" x=\"121\" y=\"205\"/><ellipse cx=\"136\" cy=\"221\" fill=\"#008000\" rx=\"11\" ry=\"11\" style=\"stroke: #A80036; stroke-width: 1.0;\"/><path d=\"M134.9063,221.375 L134.9063,225.0469 L136.5313,225.0469 Q137.7031,225.0469 138.1719,224.6563 Q138.6406,224.25 138.6406,223.25 Q138.6406,222.25 138.1406,221.8125 Q137.6563,221.375 136.5313,221.375 L134.9063,221.375 Z M134.9063,216.5469 L134.9063,219.4219 L136.5313,219.4219 Q137.4531,219.4219 137.8438,219.0938 Q138.25,218.75 138.25,218 Q138.25,217.2344 137.8438,216.8906 Q137.4375,216.5469 136.5313,216.5469 L134.9063,216.5469 Z M132.5313,214.5938 L136.5313,214.5938 Q138.5938,214.5938 139.6406,215.375 Q140.6875,216.1563 140.6875,217.7188 Q140.6875,218.9219 140.0625,219.5938 Q139.4531,220.2656 138.2656,220.375 Q139.6875,220.5156 140.4063,221.3281 Q141.125,222.1406 141.125,223.5938 Q141.125,225.3906 140.0469,226.2031 Q138.9688,227 136.5313,227 L132.5313,227 L132.5313,214.5938 Z \"/><text fill=\"#000000\" font-family=\"sans-serif\" font-size=\"12\" lengthAdjust=\"spacingAndGlyphs\" textLength=\"8\" x=\"150\" y=\"225.1543\">B</text><line style=\"stroke: #A80036; stroke-width: 1.5;\" x1=\"122\" x2=\"160\" y1=\"237\" y2=\"237\"/></a><!--MD5=[96f4274e9e20536e775497830990834d]\n",
       "class E10--><a href=\"psysml:e183bef4-e50f-4a79-aea2-e72f91ae33b1\" target=\"_top\" title=\"psysml:e183bef4-e50f-4a79-aea2-e72f91ae33b1\" xlink:actuate=\"onRequest\" xlink:href=\"psysml:e183bef4-e50f-4a79-aea2-e72f91ae33b1\" xlink:show=\"new\" xlink:title=\"psysml:e183bef4-e50f-4a79-aea2-e72f91ae33b1\" xlink:type=\"simple\"><rect fill=\"#FEFECE\" filter=\"url(#f1fgcrg3m6vyse)\" height=\"45.9375\" id=\"E10\" rx=\"10\" ry=\"10\" style=\"stroke: #A80036; stroke-width: 1.5;\" width=\"68\" x=\"313\" y=\"84\"/><ellipse cx=\"328\" cy=\"102.9688\" fill=\"#32CD32\" rx=\"11\" ry=\"11\" style=\"stroke: #A80036; stroke-width: 1.0;\"/><path d=\"M327.7969,98.6406 L327.7969,102.2656 L328.7969,102.2656 Q330,102.2656 330.4844,101.8594 Q330.9688,101.4531 330.9688,100.4531 Q330.9688,99.4531 330.4844,99.0469 Q330,98.6406 328.7969,98.6406 L327.7969,98.6406 Z M325.3438,96.5781 L328.7031,96.5781 Q331.2656,96.5781 332.3906,97.5 Q333.5156,98.4063 333.5156,100.4531 Q333.5156,102.5 332.3906,103.4219 Q331.2656,104.3281 328.7031,104.3281 L327.7969,104.3281 L327.7969,108.9688 L325.3438,108.9688 L325.3438,96.5781 Z \"/><text fill=\"#000000\" font-family=\"sans-serif\" font-size=\"12\" font-style=\"italic\" lengthAdjust=\"spacingAndGlyphs\" textLength=\"40\" x=\"340\" y=\"100.1387\">«part»</text><text fill=\"#000000\" font-family=\"sans-serif\" font-size=\"12\" lengthAdjust=\"spacingAndGlyphs\" textLength=\"29\" x=\"345.5\" y=\"114.1074\">z1: A</text><line style=\"stroke: #A80036; stroke-width: 1.5;\" x1=\"314\" x2=\"380\" y1=\"121.9375\" y2=\"121.9375\"/></a><!--MD5=[e9be52314489bd878ff4c7144b63c9e1]\n",
       "link E5 to E3--><a href=\"psysml:f8be15bd-6ead-4f94-a81d-297834d3bff2\" target=\"_top\" title=\"psysml:f8be15bd-6ead-4f94-a81d-297834d3bff2\" xlink:actuate=\"onRequest\" xlink:href=\"psysml:f8be15bd-6ead-4f94-a81d-297834d3bff2\" xlink:show=\"new\" xlink:title=\"psysml:f8be15bd-6ead-4f94-a81d-297834d3bff2\" xlink:type=\"simple\"><path d=\"M253.71,130.09 C260.67,145.93 270.22,167.65 278.39,186.21 \" fill=\"none\" id=\"E5-&gt;E3\" style=\"stroke: #A80036; stroke-width: 1.0;\"/><polygon fill=\"#FFFFFF\" points=\"286.51,204.69,272.4611,190.1083,285.2794,184.479,286.51,204.69\" style=\"stroke: #A80036; stroke-width: 1.0;\"/><ellipse cx=\"272.0003\" cy=\"184.0852\" fill=\"#A80036\" rx=\"2\" ry=\"2\" style=\"stroke: #A80036; stroke-width: 1.0;\"/><ellipse cx=\"281.1563\" cy=\"180.0642\" fill=\"#A80036\" rx=\"2\" ry=\"2\" style=\"stroke: #A80036; stroke-width: 1.0;\"/></a><!--MD5=[bfa3c8b0d15052fdf50ae9310b491027]\n",
       "link E8 to E7--><a href=\"psysml:2890fdf6-d136-470e-95db-a042243a6f10\" target=\"_top\" title=\"psysml:2890fdf6-d136-470e-95db-a042243a6f10\" xlink:actuate=\"onRequest\" xlink:href=\"psysml:2890fdf6-d136-470e-95db-a042243a6f10\" xlink:show=\"new\" xlink:title=\"psysml:2890fdf6-d136-470e-95db-a042243a6f10\" xlink:type=\"simple\"><path d=\"M141,130.09 C141,145.42 141,166.27 141,184.42 \" fill=\"none\" id=\"E8-&gt;E7\" style=\"stroke: #A80036; stroke-width: 1.0;\"/><polygon fill=\"#FFFFFF\" points=\"141,204.69,134,185.69,148,185.69,141,204.69\" style=\"stroke: #A80036; stroke-width: 1.0;\"/><ellipse cx=\"136\" cy=\"179.99\" fill=\"#A80036\" rx=\"2\" ry=\"2\" style=\"stroke: #A80036; stroke-width: 1.0;\"/><ellipse cx=\"146\" cy=\"179.99\" fill=\"#A80036\" rx=\"2\" ry=\"2\" style=\"stroke: #A80036; stroke-width: 1.0;\"/></a><!--MD5=[feeac5eb423634930294aa81f2d25a4c]\n",
       "link E10 to E3--><a href=\"psysml:25a6672d-e3f3-453e-a929-7fba59fa68e7\" target=\"_top\" title=\"psysml:25a6672d-e3f3-453e-a929-7fba59fa68e7\" xlink:actuate=\"onRequest\" xlink:href=\"psysml:25a6672d-e3f3-453e-a929-7fba59fa68e7\" xlink:show=\"new\" xlink:title=\"psysml:25a6672d-e3f3-453e-a929-7fba59fa68e7\" xlink:type=\"simple\"><path d=\"M337.1,130.09 C330,145.93 320.26,167.65 311.94,186.21 \" fill=\"none\" id=\"E10-&gt;E3\" style=\"stroke: #A80036; stroke-width: 1.0;\"/><polygon fill=\"#FFFFFF\" points=\"303.66,204.69,305.0459,184.489,317.8206,190.2167,303.66,204.69\" style=\"stroke: #A80036; stroke-width: 1.0;\"/><ellipse cx=\"309.2028\" cy=\"180.1061\" fill=\"#A80036\" rx=\"2\" ry=\"2\" style=\"stroke: #A80036; stroke-width: 1.0;\"/><ellipse cx=\"318.3276\" cy=\"184.1973\" fill=\"#A80036\" rx=\"2\" ry=\"2\" style=\"stroke: #A80036; stroke-width: 1.0;\"/></a><!--MD5=[26e73f3001575cdfcf69ba67f5e60856]\n",
       "@startuml\r\n",
       " \r\n",
       "package \"PrivateImportTest\" as E1  [[psysml:90f2a1bf-87a7-47cf-b7dc-49b41c6fd8e7 ]]  {\r\n",
       "package \"P1\" as E2  [[psysml:16275eaf-61bd-4171-b64d-9c4aa1fed5b3 ]]  {\r\n",
       "comp def \"A\" as E3 << << (B,green) >> [[psysml:c33e3566-7ac4-4487-b3df-3cd0148aac2a ]] {\r\n",
       "}\r\n",
       "}\r\n",
       "package \"P2\" as E4  [[psysml:b9d82d12-80d8-4b65-b32b-0d4caf256cd7 ]]  {\r\n",
       "}\r\n",
       "comp usage \"x: A\" as E5 << << (P,limegreen) part>> [[psysml:0c75b404-ec52-4836-8cbb-5da98c4a5930 ]] {\r\n",
       "}\r\n",
       "package \"P3\" as E6  [[psysml:9d4f5989-8a3e-4397-a866-52670c662db3 ]]  {\r\n",
       "comp def \"B\" as E7 << << (B,green) >> [[psysml:70818b0d-1657-43d7-b586-0302676d35dd ]] {\r\n",
       "}\r\n",
       "E5 - -:|> E3 [[psysml:f8be15bd-6ead-4f94-a81d-297834d3bff2 ]] \r\n",
       "}\r\n",
       "comp usage \"z: B\" as E8 << << (P,limegreen) part>> [[psysml:f43ee61a-1d92-4bcd-a6ef-463238303c09 ]] {\r\n",
       "}\r\n",
       "package \"P4\" as E9  [[psysml:5979dd71-75f1-4b72-84ed-7ab4ecfce4b9 ]]  {\r\n",
       "comp usage \"z1: A\" as E10 << << (P,limegreen) part>> [[psysml:e183bef4-e50f-4a79-aea2-e72f91ae33b1 ]] {\r\n",
       "}\r\n",
       "E8 - -:|> E7 [[psysml:2890fdf6-d136-470e-95db-a042243a6f10 ]] \r\n",
       "E10 - -:|> E3 [[psysml:25a6672d-e3f3-453e-a929-7fba59fa68e7 ]] \r\n",
       "}\r\n",
       "}\r\n",
       "@enduml\r\n",
       "\n",
       "PlantUML version 1.2020.13(Sat Jun 13 12:26:38 UTC 2020)\n",
       "(EPL source distribution)\n",
       "Java Runtime: OpenJDK Runtime Environment\n",
       "JVM: OpenJDK 64-Bit Server VM\n",
       "Default Encoding: UTF-8\n",
       "Language: en\n",
       "Country: null\n",
       "--></g></svg>"
      ]
     },
     "execution_count": 36,
     "metadata": {},
     "output_type": "execute_result"
    }
   ],
   "source": [
    "%viz --style=\"PLANTUML\" --view=\"MIXED\" \"PrivateImportTest\""
   ]
  },
  {
   "cell_type": "code",
   "execution_count": 37,
   "id": "584867b8",
   "metadata": {
    "execution": {
     "iopub.execute_input": "2021-08-04T06:27:56.697370Z",
     "iopub.status.busy": "2021-08-04T06:27:56.696937Z",
     "iopub.status.idle": "2021-08-04T06:27:56.722689Z",
     "shell.execute_reply": "2021-08-04T06:27:56.721952Z"
    }
   },
   "outputs": [
    {
     "data": {
      "image/svg+xml": [
       "<?xml version=\"1.0\" encoding=\"UTF-8\" standalone=\"no\"?><svg xmlns=\"http://www.w3.org/2000/svg\" xmlns:xlink=\"http://www.w3.org/1999/xlink\" contentScriptType=\"application/ecmascript\" contentStyleType=\"text/css\" height=\"303px\" preserveAspectRatio=\"none\" style=\"width:365px;height:303px;\" version=\"1.1\" viewBox=\"0 0 365 303\" width=\"365px\" zoomAndPan=\"magnify\"><defs/><g><!--MD5=[fbc87193dbaf4d95561dea2c320d4a47]\n",
       "cluster E1--><a href=\"psysml:90f2a1bf-87a7-47cf-b7dc-49b41c6fd8e7\" target=\"_top\" title=\"psysml:90f2a1bf-87a7-47cf-b7dc-49b41c6fd8e7\" xlink:actuate=\"onRequest\" xlink:href=\"psysml:90f2a1bf-87a7-47cf-b7dc-49b41c6fd8e7\" xlink:show=\"new\" xlink:title=\"psysml:90f2a1bf-87a7-47cf-b7dc-49b41c6fd8e7\" xlink:type=\"simple\"><polygon fill=\"#FFFFFF\" points=\"16,6,163,6,170,28.2969,343,28.2969,343,291,16,291,16,6\" style=\"stroke: #000000; stroke-width: 1.5;\"/><line style=\"stroke: #000000; stroke-width: 1.5;\" x1=\"16\" x2=\"170\" y1=\"28.2969\" y2=\"28.2969\"/><text fill=\"#000000\" font-family=\"sans-serif\" font-size=\"14\" font-weight=\"bold\" lengthAdjust=\"spacingAndGlyphs\" textLength=\"141\" x=\"20\" y=\"20.9951\">PrivateImportTest</text></a><!--MD5=[e4f7fae6ed58524ba242bb0b0d3be6b7]\n",
       "cluster E2--><a href=\"psysml:16275eaf-61bd-4171-b64d-9c4aa1fed5b3\" target=\"_top\" title=\"psysml:16275eaf-61bd-4171-b64d-9c4aa1fed5b3\" xlink:actuate=\"onRequest\" xlink:href=\"psysml:16275eaf-61bd-4171-b64d-9c4aa1fed5b3\" xlink:show=\"new\" xlink:title=\"psysml:16275eaf-61bd-4171-b64d-9c4aa1fed5b3\" xlink:type=\"simple\"><polygon fill=\"#FFFFFF\" points=\"211,170,237,170,244,192.2969,309,192.2969,309,267,211,267,211,170\" style=\"stroke: #000000; stroke-width: 1.5;\"/><line style=\"stroke: #000000; stroke-width: 1.5;\" x1=\"211\" x2=\"244\" y1=\"192.2969\" y2=\"192.2969\"/><text fill=\"#000000\" font-family=\"sans-serif\" font-size=\"14\" font-weight=\"bold\" lengthAdjust=\"spacingAndGlyphs\" textLength=\"20\" x=\"215\" y=\"184.9951\">P1</text></a><!--MD5=[14e3b0961a2654348d326746436168a1]\n",
       "cluster E6--><a href=\"psysml:9d4f5989-8a3e-4397-a866-52670c662db3\" target=\"_top\" title=\"psysml:9d4f5989-8a3e-4397-a866-52670c662db3\" xlink:actuate=\"onRequest\" xlink:href=\"psysml:9d4f5989-8a3e-4397-a866-52670c662db3\" xlink:show=\"new\" xlink:title=\"psysml:9d4f5989-8a3e-4397-a866-52670c662db3\" xlink:type=\"simple\"><polygon fill=\"#FFFFFF\" points=\"79,170,105,170,112,192.2969,177,192.2969,177,267,79,267,79,170\" style=\"stroke: #000000; stroke-width: 1.5;\"/><line style=\"stroke: #000000; stroke-width: 1.5;\" x1=\"79\" x2=\"112\" y1=\"192.2969\" y2=\"192.2969\"/><text fill=\"#000000\" font-family=\"sans-serif\" font-size=\"14\" font-weight=\"bold\" lengthAdjust=\"spacingAndGlyphs\" textLength=\"20\" x=\"83\" y=\"184.9951\">P3</text></a><!--MD5=[7f149f147074ac12df2cb0a7728a5fb0]\n",
       "cluster E9--><a href=\"psysml:5979dd71-75f1-4b72-84ed-7ab4ecfce4b9\" target=\"_top\" title=\"psysml:5979dd71-75f1-4b72-84ed-7ab4ecfce4b9\" xlink:actuate=\"onRequest\" xlink:href=\"psysml:5979dd71-75f1-4b72-84ed-7ab4ecfce4b9\" xlink:show=\"new\" xlink:title=\"psysml:5979dd71-75f1-4b72-84ed-7ab4ecfce4b9\" xlink:type=\"simple\"><polygon fill=\"#FFFFFF\" points=\"245,49,271,49,278,71.2969,319,71.2969,319,146,245,146,245,49\" style=\"stroke: #000000; stroke-width: 1.5;\"/><line style=\"stroke: #000000; stroke-width: 1.5;\" x1=\"245\" x2=\"278\" y1=\"71.2969\" y2=\"71.2969\"/><text fill=\"#000000\" font-family=\"sans-serif\" font-size=\"14\" font-weight=\"bold\" lengthAdjust=\"spacingAndGlyphs\" textLength=\"20\" x=\"249\" y=\"63.9951\">P4</text></a><!--MD5=[270fce915f116d4de14055a7c1d9a0f3]\n",
       "class E5--><a href=\"psysml:0c75b404-ec52-4836-8cbb-5da98c4a5930\" target=\"_top\" title=\"psysml:0c75b404-ec52-4836-8cbb-5da98c4a5930\" xlink:actuate=\"onRequest\" xlink:href=\"psysml:0c75b404-ec52-4836-8cbb-5da98c4a5930\" xlink:show=\"new\" xlink:title=\"psysml:0c75b404-ec52-4836-8cbb-5da98c4a5930\" xlink:type=\"simple\"><rect fill=\"#FFFFFF\" height=\"45.9375\" id=\"E5\" rx=\"10\" ry=\"10\" style=\"stroke: #383838; stroke-width: 1.5;\" width=\"42\" x=\"184\" y=\"84\"/><text fill=\"#000000\" font-family=\"sans-serif\" font-size=\"12\" font-style=\"italic\" lengthAdjust=\"spacingAndGlyphs\" textLength=\"40\" x=\"185\" y=\"100.1387\">«part»</text><text fill=\"#000000\" font-family=\"sans-serif\" font-size=\"12\" lengthAdjust=\"spacingAndGlyphs\" textLength=\"22\" x=\"194\" y=\"114.1074\">x: A</text><line style=\"stroke: #383838; stroke-width: 1.5;\" x1=\"185\" x2=\"225\" y1=\"121.9375\" y2=\"121.9375\"/></a><!--MD5=[b9389687b975829384b498ac4b7476b2]\n",
       "class E8--><a href=\"psysml:f43ee61a-1d92-4bcd-a6ef-463238303c09\" target=\"_top\" title=\"psysml:f43ee61a-1d92-4bcd-a6ef-463238303c09\" xlink:actuate=\"onRequest\" xlink:href=\"psysml:f43ee61a-1d92-4bcd-a6ef-463238303c09\" xlink:show=\"new\" xlink:title=\"psysml:f43ee61a-1d92-4bcd-a6ef-463238303c09\" xlink:type=\"simple\"><rect fill=\"#FFFFFF\" height=\"45.9375\" id=\"E8\" rx=\"10\" ry=\"10\" style=\"stroke: #383838; stroke-width: 1.5;\" width=\"42\" x=\"107\" y=\"84\"/><text fill=\"#000000\" font-family=\"sans-serif\" font-size=\"12\" font-style=\"italic\" lengthAdjust=\"spacingAndGlyphs\" textLength=\"40\" x=\"108\" y=\"100.1387\">«part»</text><text fill=\"#000000\" font-family=\"sans-serif\" font-size=\"12\" lengthAdjust=\"spacingAndGlyphs\" textLength=\"21\" x=\"117.5\" y=\"114.1074\">z: B</text><line style=\"stroke: #383838; stroke-width: 1.5;\" x1=\"108\" x2=\"148\" y1=\"121.9375\" y2=\"121.9375\"/></a><!--MD5=[09b614a08d8cba4a07c9adeb5e0fee81]\n",
       "class E3--><a href=\"psysml:c33e3566-7ac4-4487-b3df-3cd0148aac2a\" target=\"_top\" title=\"psysml:c33e3566-7ac4-4487-b3df-3cd0148aac2a\" xlink:actuate=\"onRequest\" xlink:href=\"psysml:c33e3566-7ac4-4487-b3df-3cd0148aac2a\" xlink:show=\"new\" xlink:title=\"psysml:c33e3566-7ac4-4487-b3df-3cd0148aac2a\" xlink:type=\"simple\"><rect fill=\"#FFFFFF\" height=\"45.9375\" id=\"E3\" style=\"stroke: #383838; stroke-width: 1.5;\" width=\"66\" x=\"227\" y=\"205\"/><text fill=\"#000000\" font-family=\"sans-serif\" font-size=\"12\" font-style=\"italic\" lengthAdjust=\"spacingAndGlyphs\" textLength=\"64\" x=\"228\" y=\"221.1387\">«part def»</text><text fill=\"#000000\" font-family=\"sans-serif\" font-size=\"12\" lengthAdjust=\"spacingAndGlyphs\" textLength=\"8\" x=\"256\" y=\"235.1074\">A</text><line style=\"stroke: #383838; stroke-width: 1.5;\" x1=\"228\" x2=\"292\" y1=\"242.9375\" y2=\"242.9375\"/></a><a href=\"psysml:b9d82d12-80d8-4b65-b32b-0d4caf256cd7\" target=\"_top\" title=\"psysml:b9d82d12-80d8-4b65-b32b-0d4caf256cd7\" xlink:actuate=\"onRequest\" xlink:href=\"psysml:b9d82d12-80d8-4b65-b32b-0d4caf256cd7\" xlink:show=\"new\" xlink:title=\"psysml:b9d82d12-80d8-4b65-b32b-0d4caf256cd7\" xlink:type=\"simple\"><polygon fill=\"#FFFFFF\" points=\"32,80.5,58,80.5,65,102.7969,72,102.7969,72,133.0938,32,133.0938,32,80.5\" style=\"stroke: #000000; stroke-width: 1.5;\"/><line style=\"stroke: #000000; stroke-width: 1.5;\" x1=\"32\" x2=\"65\" y1=\"102.7969\" y2=\"102.7969\"/><text fill=\"#000000\" font-family=\"sans-serif\" font-size=\"14\" font-weight=\"bold\" lengthAdjust=\"spacingAndGlyphs\" textLength=\"20\" x=\"36\" y=\"95.4951\">P2</text></a><!--MD5=[2156ba9850f5573cc1fc38a6a4b2f02b]\n",
       "class E7--><a href=\"psysml:70818b0d-1657-43d7-b586-0302676d35dd\" target=\"_top\" title=\"psysml:70818b0d-1657-43d7-b586-0302676d35dd\" xlink:actuate=\"onRequest\" xlink:href=\"psysml:70818b0d-1657-43d7-b586-0302676d35dd\" xlink:show=\"new\" xlink:title=\"psysml:70818b0d-1657-43d7-b586-0302676d35dd\" xlink:type=\"simple\"><rect fill=\"#FFFFFF\" height=\"45.9375\" id=\"E7\" style=\"stroke: #383838; stroke-width: 1.5;\" width=\"66\" x=\"95\" y=\"205\"/><text fill=\"#000000\" font-family=\"sans-serif\" font-size=\"12\" font-style=\"italic\" lengthAdjust=\"spacingAndGlyphs\" textLength=\"64\" x=\"96\" y=\"221.1387\">«part def»</text><text fill=\"#000000\" font-family=\"sans-serif\" font-size=\"12\" lengthAdjust=\"spacingAndGlyphs\" textLength=\"8\" x=\"124\" y=\"235.1074\">B</text><line style=\"stroke: #383838; stroke-width: 1.5;\" x1=\"96\" x2=\"160\" y1=\"242.9375\" y2=\"242.9375\"/></a><!--MD5=[96f4274e9e20536e775497830990834d]\n",
       "class E10--><a href=\"psysml:e183bef4-e50f-4a79-aea2-e72f91ae33b1\" target=\"_top\" title=\"psysml:e183bef4-e50f-4a79-aea2-e72f91ae33b1\" xlink:actuate=\"onRequest\" xlink:href=\"psysml:e183bef4-e50f-4a79-aea2-e72f91ae33b1\" xlink:show=\"new\" xlink:title=\"psysml:e183bef4-e50f-4a79-aea2-e72f91ae33b1\" xlink:type=\"simple\"><rect fill=\"#FFFFFF\" height=\"45.9375\" id=\"E10\" rx=\"10\" ry=\"10\" style=\"stroke: #383838; stroke-width: 1.5;\" width=\"42\" x=\"261\" y=\"84\"/><text fill=\"#000000\" font-family=\"sans-serif\" font-size=\"12\" font-style=\"italic\" lengthAdjust=\"spacingAndGlyphs\" textLength=\"40\" x=\"262\" y=\"100.1387\">«part»</text><text fill=\"#000000\" font-family=\"sans-serif\" font-size=\"12\" lengthAdjust=\"spacingAndGlyphs\" textLength=\"29\" x=\"267.5\" y=\"114.1074\">z1: A</text><line style=\"stroke: #383838; stroke-width: 1.5;\" x1=\"262\" x2=\"302\" y1=\"121.9375\" y2=\"121.9375\"/></a><!--MD5=[e9be52314489bd878ff4c7144b63c9e1]\n",
       "link E5 to E3--><a href=\"psysml:f8be15bd-6ead-4f94-a81d-297834d3bff2\" target=\"_top\" title=\"psysml:f8be15bd-6ead-4f94-a81d-297834d3bff2\" xlink:actuate=\"onRequest\" xlink:href=\"psysml:f8be15bd-6ead-4f94-a81d-297834d3bff2\" xlink:show=\"new\" xlink:title=\"psysml:f8be15bd-6ead-4f94-a81d-297834d3bff2\" xlink:type=\"simple\"><path d=\"M215.22,130.1 C222.5,145.87 232.51,167.52 241.22,186.36 \" fill=\"none\" id=\"E5-&gt;E3\" style=\"stroke: #383838; stroke-width: 1.0;\"/><polygon fill=\"#FFFFFF\" points=\"249.65,204.61,235.3286,190.2958,248.0386,184.4258,249.65,204.61\" style=\"stroke: #383838; stroke-width: 1.0;\"/><ellipse cx=\"234.7544\" cy=\"184.2824\" fill=\"#383838\" rx=\"2\" ry=\"2\" style=\"stroke: #383838; stroke-width: 1.0;\"/><ellipse cx=\"243.8329\" cy=\"180.0896\" fill=\"#383838\" rx=\"2\" ry=\"2\" style=\"stroke: #383838; stroke-width: 1.0;\"/></a><!--MD5=[bfa3c8b0d15052fdf50ae9310b491027]\n",
       "link E8 to E7--><a href=\"psysml:2890fdf6-d136-470e-95db-a042243a6f10\" target=\"_top\" title=\"psysml:2890fdf6-d136-470e-95db-a042243a6f10\" xlink:actuate=\"onRequest\" xlink:href=\"psysml:2890fdf6-d136-470e-95db-a042243a6f10\" xlink:show=\"new\" xlink:title=\"psysml:2890fdf6-d136-470e-95db-a042243a6f10\" xlink:type=\"simple\"><path d=\"M128,130.1 C128,145.37 128,166.16 128,184.57 \" fill=\"none\" id=\"E8-&gt;E7\" style=\"stroke: #383838; stroke-width: 1.0;\"/><polygon fill=\"#FFFFFF\" points=\"128,204.61,121,185.61,135,185.61,128,204.61\" style=\"stroke: #383838; stroke-width: 1.0;\"/><ellipse cx=\"123\" cy=\"179.91\" fill=\"#383838\" rx=\"2\" ry=\"2\" style=\"stroke: #383838; stroke-width: 1.0;\"/><ellipse cx=\"133\" cy=\"179.91\" fill=\"#383838\" rx=\"2\" ry=\"2\" style=\"stroke: #383838; stroke-width: 1.0;\"/></a><!--MD5=[feeac5eb423634930294aa81f2d25a4c]\n",
       "link E10 to E3--><a href=\"psysml:25a6672d-e3f3-453e-a929-7fba59fa68e7\" target=\"_top\" title=\"psysml:25a6672d-e3f3-453e-a929-7fba59fa68e7\" xlink:actuate=\"onRequest\" xlink:href=\"psysml:25a6672d-e3f3-453e-a929-7fba59fa68e7\" xlink:show=\"new\" xlink:title=\"psysml:25a6672d-e3f3-453e-a929-7fba59fa68e7\" xlink:type=\"simple\"><path d=\"M277.91,130.1 C275.08,145.45 271.21,166.39 267.79,184.87 \" fill=\"none\" id=\"E10-&gt;E3\" style=\"stroke: #383838; stroke-width: 1.0;\"/><polygon fill=\"#FFFFFF\" points=\"264.14,204.61,260.7167,184.653,274.4827,187.2023,264.14,204.61\" style=\"stroke: #383838; stroke-width: 1.0;\"/><ellipse cx=\"263.7212\" cy=\"179.4125\" fill=\"#383838\" rx=\"2\" ry=\"2\" style=\"stroke: #383838; stroke-width: 1.0;\"/><ellipse cx=\"273.554\" cy=\"181.2334\" fill=\"#383838\" rx=\"2\" ry=\"2\" style=\"stroke: #383838; stroke-width: 1.0;\"/></a><!--MD5=[f1911209aecbe71e4791eb911785299c]\n",
       "@startuml\r\n",
       "skinparam monochrome true\r\n",
       "skinparam classbackgroundcolor white\r\n",
       "skinparam shadowing false\r\n",
       "skinparam wrapWidth 300\r\n",
       "hide circle\r\n",
       "\r\n",
       "package \"PrivateImportTest\" as E1  [[psysml:90f2a1bf-87a7-47cf-b7dc-49b41c6fd8e7 ]]  {\r\n",
       "package \"P1\" as E2  [[psysml:16275eaf-61bd-4171-b64d-9c4aa1fed5b3 ]]  {\r\n",
       "comp def \"A\" as E3  <<(T,blue) part def>> [[psysml:c33e3566-7ac4-4487-b3df-3cd0148aac2a ]] {\r\n",
       "}\r\n",
       "}\r\n",
       "package \"P2\" as E4  [[psysml:b9d82d12-80d8-4b65-b32b-0d4caf256cd7 ]]  {\r\n",
       "}\r\n",
       "comp usage \"x: A\" as E5  <<(T,blue) part>> [[psysml:0c75b404-ec52-4836-8cbb-5da98c4a5930 ]] {\r\n",
       "}\r\n",
       "package \"P3\" as E6  [[psysml:9d4f5989-8a3e-4397-a866-52670c662db3 ]]  {\r\n",
       "comp def \"B\" as E7  <<(T,blue) part def>> [[psysml:70818b0d-1657-43d7-b586-0302676d35dd ]] {\r\n",
       "}\r\n",
       "E5 - -:|> E3 [[psysml:f8be15bd-6ead-4f94-a81d-297834d3bff2 ]] \r\n",
       "}\r\n",
       "comp usage \"z: B\" as E8  <<(T,blue) part>> [[psysml:f43ee61a-1d92-4bcd-a6ef-463238303c09 ]] {\r\n",
       "}\r\n",
       "package \"P4\" as E9  [[psysml:5979dd71-75f1-4b72-84ed-7ab4ecfce4b9 ]]  {\r\n",
       "comp usage \"z1: A\" as E10  <<(T,blue) part>> [[psysml:e183bef4-e50f-4a79-aea2-e72f91ae33b1 ]] {\r\n",
       "}\r\n",
       "E8 - -:|> E7 [[psysml:2890fdf6-d136-470e-95db-a042243a6f10 ]] \r\n",
       "E10 - -:|> E3 [[psysml:25a6672d-e3f3-453e-a929-7fba59fa68e7 ]] \r\n",
       "}\r\n",
       "}\r\n",
       "@enduml\r\n",
       "\n",
       "PlantUML version 1.2020.13(Sat Jun 13 12:26:38 UTC 2020)\n",
       "(EPL source distribution)\n",
       "Java Runtime: OpenJDK Runtime Environment\n",
       "JVM: OpenJDK 64-Bit Server VM\n",
       "Default Encoding: UTF-8\n",
       "Language: en\n",
       "Country: null\n",
       "--></g></svg>"
      ]
     },
     "execution_count": 37,
     "metadata": {},
     "output_type": "execute_result"
    }
   ],
   "source": [
    "%viz --style=\"DEFAULT\" --view=\"Default\" \"PrivateImportTest\""
   ]
  },
  {
   "cell_type": "code",
   "execution_count": 38,
   "id": "4e59792f",
   "metadata": {
    "execution": {
     "iopub.execute_input": "2021-08-04T06:27:56.772338Z",
     "iopub.status.busy": "2021-08-04T06:27:56.772092Z",
     "iopub.status.idle": "2021-08-04T06:27:56.798408Z",
     "shell.execute_reply": "2021-08-04T06:27:56.797653Z"
    }
   },
   "outputs": [
    {
     "data": {
      "image/svg+xml": [
       "<?xml version=\"1.0\" encoding=\"UTF-8\" standalone=\"no\"?><svg xmlns=\"http://www.w3.org/2000/svg\" xmlns:xlink=\"http://www.w3.org/1999/xlink\" contentScriptType=\"application/ecmascript\" contentStyleType=\"text/css\" height=\"303px\" preserveAspectRatio=\"none\" style=\"width:365px;height:303px;\" version=\"1.1\" viewBox=\"0 0 365 303\" width=\"365px\" zoomAndPan=\"magnify\"><defs/><g><!--MD5=[fbc87193dbaf4d95561dea2c320d4a47]\n",
       "cluster E1--><a href=\"psysml:90f2a1bf-87a7-47cf-b7dc-49b41c6fd8e7\" target=\"_top\" title=\"psysml:90f2a1bf-87a7-47cf-b7dc-49b41c6fd8e7\" xlink:actuate=\"onRequest\" xlink:href=\"psysml:90f2a1bf-87a7-47cf-b7dc-49b41c6fd8e7\" xlink:show=\"new\" xlink:title=\"psysml:90f2a1bf-87a7-47cf-b7dc-49b41c6fd8e7\" xlink:type=\"simple\"><polygon fill=\"#FFFFFF\" points=\"16,6,163,6,170,28.2969,343,28.2969,343,291,16,291,16,6\" style=\"stroke: #000000; stroke-width: 1.5;\"/><line style=\"stroke: #000000; stroke-width: 1.5;\" x1=\"16\" x2=\"170\" y1=\"28.2969\" y2=\"28.2969\"/><text fill=\"#000000\" font-family=\"sans-serif\" font-size=\"14\" font-weight=\"bold\" lengthAdjust=\"spacingAndGlyphs\" textLength=\"141\" x=\"20\" y=\"20.9951\">PrivateImportTest</text></a><!--MD5=[e4f7fae6ed58524ba242bb0b0d3be6b7]\n",
       "cluster E2--><a href=\"psysml:16275eaf-61bd-4171-b64d-9c4aa1fed5b3\" target=\"_top\" title=\"psysml:16275eaf-61bd-4171-b64d-9c4aa1fed5b3\" xlink:actuate=\"onRequest\" xlink:href=\"psysml:16275eaf-61bd-4171-b64d-9c4aa1fed5b3\" xlink:show=\"new\" xlink:title=\"psysml:16275eaf-61bd-4171-b64d-9c4aa1fed5b3\" xlink:type=\"simple\"><polygon fill=\"#FFFFFF\" points=\"211,170,237,170,244,192.2969,309,192.2969,309,267,211,267,211,170\" style=\"stroke: #000000; stroke-width: 1.5;\"/><line style=\"stroke: #000000; stroke-width: 1.5;\" x1=\"211\" x2=\"244\" y1=\"192.2969\" y2=\"192.2969\"/><text fill=\"#000000\" font-family=\"sans-serif\" font-size=\"14\" font-weight=\"bold\" lengthAdjust=\"spacingAndGlyphs\" textLength=\"20\" x=\"215\" y=\"184.9951\">P1</text></a><!--MD5=[14e3b0961a2654348d326746436168a1]\n",
       "cluster E6--><a href=\"psysml:9d4f5989-8a3e-4397-a866-52670c662db3\" target=\"_top\" title=\"psysml:9d4f5989-8a3e-4397-a866-52670c662db3\" xlink:actuate=\"onRequest\" xlink:href=\"psysml:9d4f5989-8a3e-4397-a866-52670c662db3\" xlink:show=\"new\" xlink:title=\"psysml:9d4f5989-8a3e-4397-a866-52670c662db3\" xlink:type=\"simple\"><polygon fill=\"#FFFFFF\" points=\"79,170,105,170,112,192.2969,177,192.2969,177,267,79,267,79,170\" style=\"stroke: #000000; stroke-width: 1.5;\"/><line style=\"stroke: #000000; stroke-width: 1.5;\" x1=\"79\" x2=\"112\" y1=\"192.2969\" y2=\"192.2969\"/><text fill=\"#000000\" font-family=\"sans-serif\" font-size=\"14\" font-weight=\"bold\" lengthAdjust=\"spacingAndGlyphs\" textLength=\"20\" x=\"83\" y=\"184.9951\">P3</text></a><!--MD5=[7f149f147074ac12df2cb0a7728a5fb0]\n",
       "cluster E9--><a href=\"psysml:5979dd71-75f1-4b72-84ed-7ab4ecfce4b9\" target=\"_top\" title=\"psysml:5979dd71-75f1-4b72-84ed-7ab4ecfce4b9\" xlink:actuate=\"onRequest\" xlink:href=\"psysml:5979dd71-75f1-4b72-84ed-7ab4ecfce4b9\" xlink:show=\"new\" xlink:title=\"psysml:5979dd71-75f1-4b72-84ed-7ab4ecfce4b9\" xlink:type=\"simple\"><polygon fill=\"#FFFFFF\" points=\"245,49,271,49,278,71.2969,319,71.2969,319,146,245,146,245,49\" style=\"stroke: #000000; stroke-width: 1.5;\"/><line style=\"stroke: #000000; stroke-width: 1.5;\" x1=\"245\" x2=\"278\" y1=\"71.2969\" y2=\"71.2969\"/><text fill=\"#000000\" font-family=\"sans-serif\" font-size=\"14\" font-weight=\"bold\" lengthAdjust=\"spacingAndGlyphs\" textLength=\"20\" x=\"249\" y=\"63.9951\">P4</text></a><!--MD5=[270fce915f116d4de14055a7c1d9a0f3]\n",
       "class E5--><a href=\"psysml:0c75b404-ec52-4836-8cbb-5da98c4a5930\" target=\"_top\" title=\"psysml:0c75b404-ec52-4836-8cbb-5da98c4a5930\" xlink:actuate=\"onRequest\" xlink:href=\"psysml:0c75b404-ec52-4836-8cbb-5da98c4a5930\" xlink:show=\"new\" xlink:title=\"psysml:0c75b404-ec52-4836-8cbb-5da98c4a5930\" xlink:type=\"simple\"><rect fill=\"#FFFFFF\" height=\"45.9375\" id=\"E5\" rx=\"10\" ry=\"10\" style=\"stroke: #383838; stroke-width: 1.5;\" width=\"42\" x=\"184\" y=\"84\"/><text fill=\"#000000\" font-family=\"sans-serif\" font-size=\"12\" font-style=\"italic\" lengthAdjust=\"spacingAndGlyphs\" textLength=\"40\" x=\"185\" y=\"100.1387\">«part»</text><text fill=\"#000000\" font-family=\"sans-serif\" font-size=\"12\" lengthAdjust=\"spacingAndGlyphs\" textLength=\"22\" x=\"194\" y=\"114.1074\">x: A</text><line style=\"stroke: #383838; stroke-width: 1.5;\" x1=\"185\" x2=\"225\" y1=\"121.9375\" y2=\"121.9375\"/></a><!--MD5=[b9389687b975829384b498ac4b7476b2]\n",
       "class E8--><a href=\"psysml:f43ee61a-1d92-4bcd-a6ef-463238303c09\" target=\"_top\" title=\"psysml:f43ee61a-1d92-4bcd-a6ef-463238303c09\" xlink:actuate=\"onRequest\" xlink:href=\"psysml:f43ee61a-1d92-4bcd-a6ef-463238303c09\" xlink:show=\"new\" xlink:title=\"psysml:f43ee61a-1d92-4bcd-a6ef-463238303c09\" xlink:type=\"simple\"><rect fill=\"#FFFFFF\" height=\"45.9375\" id=\"E8\" rx=\"10\" ry=\"10\" style=\"stroke: #383838; stroke-width: 1.5;\" width=\"42\" x=\"107\" y=\"84\"/><text fill=\"#000000\" font-family=\"sans-serif\" font-size=\"12\" font-style=\"italic\" lengthAdjust=\"spacingAndGlyphs\" textLength=\"40\" x=\"108\" y=\"100.1387\">«part»</text><text fill=\"#000000\" font-family=\"sans-serif\" font-size=\"12\" lengthAdjust=\"spacingAndGlyphs\" textLength=\"21\" x=\"117.5\" y=\"114.1074\">z: B</text><line style=\"stroke: #383838; stroke-width: 1.5;\" x1=\"108\" x2=\"148\" y1=\"121.9375\" y2=\"121.9375\"/></a><!--MD5=[09b614a08d8cba4a07c9adeb5e0fee81]\n",
       "class E3--><a href=\"psysml:c33e3566-7ac4-4487-b3df-3cd0148aac2a\" target=\"_top\" title=\"psysml:c33e3566-7ac4-4487-b3df-3cd0148aac2a\" xlink:actuate=\"onRequest\" xlink:href=\"psysml:c33e3566-7ac4-4487-b3df-3cd0148aac2a\" xlink:show=\"new\" xlink:title=\"psysml:c33e3566-7ac4-4487-b3df-3cd0148aac2a\" xlink:type=\"simple\"><rect fill=\"#FFFFFF\" height=\"45.9375\" id=\"E3\" style=\"stroke: #383838; stroke-width: 1.5;\" width=\"66\" x=\"227\" y=\"205\"/><text fill=\"#000000\" font-family=\"sans-serif\" font-size=\"12\" font-style=\"italic\" lengthAdjust=\"spacingAndGlyphs\" textLength=\"64\" x=\"228\" y=\"221.1387\">«part def»</text><text fill=\"#000000\" font-family=\"sans-serif\" font-size=\"12\" lengthAdjust=\"spacingAndGlyphs\" textLength=\"8\" x=\"256\" y=\"235.1074\">A</text><line style=\"stroke: #383838; stroke-width: 1.5;\" x1=\"228\" x2=\"292\" y1=\"242.9375\" y2=\"242.9375\"/></a><a href=\"psysml:b9d82d12-80d8-4b65-b32b-0d4caf256cd7\" target=\"_top\" title=\"psysml:b9d82d12-80d8-4b65-b32b-0d4caf256cd7\" xlink:actuate=\"onRequest\" xlink:href=\"psysml:b9d82d12-80d8-4b65-b32b-0d4caf256cd7\" xlink:show=\"new\" xlink:title=\"psysml:b9d82d12-80d8-4b65-b32b-0d4caf256cd7\" xlink:type=\"simple\"><polygon fill=\"#FFFFFF\" points=\"32,80.5,58,80.5,65,102.7969,72,102.7969,72,133.0938,32,133.0938,32,80.5\" style=\"stroke: #000000; stroke-width: 1.5;\"/><line style=\"stroke: #000000; stroke-width: 1.5;\" x1=\"32\" x2=\"65\" y1=\"102.7969\" y2=\"102.7969\"/><text fill=\"#000000\" font-family=\"sans-serif\" font-size=\"14\" font-weight=\"bold\" lengthAdjust=\"spacingAndGlyphs\" textLength=\"20\" x=\"36\" y=\"95.4951\">P2</text></a><!--MD5=[2156ba9850f5573cc1fc38a6a4b2f02b]\n",
       "class E7--><a href=\"psysml:70818b0d-1657-43d7-b586-0302676d35dd\" target=\"_top\" title=\"psysml:70818b0d-1657-43d7-b586-0302676d35dd\" xlink:actuate=\"onRequest\" xlink:href=\"psysml:70818b0d-1657-43d7-b586-0302676d35dd\" xlink:show=\"new\" xlink:title=\"psysml:70818b0d-1657-43d7-b586-0302676d35dd\" xlink:type=\"simple\"><rect fill=\"#FFFFFF\" height=\"45.9375\" id=\"E7\" style=\"stroke: #383838; stroke-width: 1.5;\" width=\"66\" x=\"95\" y=\"205\"/><text fill=\"#000000\" font-family=\"sans-serif\" font-size=\"12\" font-style=\"italic\" lengthAdjust=\"spacingAndGlyphs\" textLength=\"64\" x=\"96\" y=\"221.1387\">«part def»</text><text fill=\"#000000\" font-family=\"sans-serif\" font-size=\"12\" lengthAdjust=\"spacingAndGlyphs\" textLength=\"8\" x=\"124\" y=\"235.1074\">B</text><line style=\"stroke: #383838; stroke-width: 1.5;\" x1=\"96\" x2=\"160\" y1=\"242.9375\" y2=\"242.9375\"/></a><!--MD5=[96f4274e9e20536e775497830990834d]\n",
       "class E10--><a href=\"psysml:e183bef4-e50f-4a79-aea2-e72f91ae33b1\" target=\"_top\" title=\"psysml:e183bef4-e50f-4a79-aea2-e72f91ae33b1\" xlink:actuate=\"onRequest\" xlink:href=\"psysml:e183bef4-e50f-4a79-aea2-e72f91ae33b1\" xlink:show=\"new\" xlink:title=\"psysml:e183bef4-e50f-4a79-aea2-e72f91ae33b1\" xlink:type=\"simple\"><rect fill=\"#FFFFFF\" height=\"45.9375\" id=\"E10\" rx=\"10\" ry=\"10\" style=\"stroke: #383838; stroke-width: 1.5;\" width=\"42\" x=\"261\" y=\"84\"/><text fill=\"#000000\" font-family=\"sans-serif\" font-size=\"12\" font-style=\"italic\" lengthAdjust=\"spacingAndGlyphs\" textLength=\"40\" x=\"262\" y=\"100.1387\">«part»</text><text fill=\"#000000\" font-family=\"sans-serif\" font-size=\"12\" lengthAdjust=\"spacingAndGlyphs\" textLength=\"29\" x=\"267.5\" y=\"114.1074\">z1: A</text><line style=\"stroke: #383838; stroke-width: 1.5;\" x1=\"262\" x2=\"302\" y1=\"121.9375\" y2=\"121.9375\"/></a><!--MD5=[e9be52314489bd878ff4c7144b63c9e1]\n",
       "link E5 to E3--><a href=\"psysml:f8be15bd-6ead-4f94-a81d-297834d3bff2\" target=\"_top\" title=\"psysml:f8be15bd-6ead-4f94-a81d-297834d3bff2\" xlink:actuate=\"onRequest\" xlink:href=\"psysml:f8be15bd-6ead-4f94-a81d-297834d3bff2\" xlink:show=\"new\" xlink:title=\"psysml:f8be15bd-6ead-4f94-a81d-297834d3bff2\" xlink:type=\"simple\"><path d=\"M215.22,130.1 C222.5,145.87 232.51,167.52 241.22,186.36 \" fill=\"none\" id=\"E5-&gt;E3\" style=\"stroke: #383838; stroke-width: 1.0;\"/><polygon fill=\"#FFFFFF\" points=\"249.65,204.61,235.3286,190.2958,248.0386,184.4258,249.65,204.61\" style=\"stroke: #383838; stroke-width: 1.0;\"/><ellipse cx=\"234.7544\" cy=\"184.2824\" fill=\"#383838\" rx=\"2\" ry=\"2\" style=\"stroke: #383838; stroke-width: 1.0;\"/><ellipse cx=\"243.8329\" cy=\"180.0896\" fill=\"#383838\" rx=\"2\" ry=\"2\" style=\"stroke: #383838; stroke-width: 1.0;\"/></a><!--MD5=[bfa3c8b0d15052fdf50ae9310b491027]\n",
       "link E8 to E7--><a href=\"psysml:2890fdf6-d136-470e-95db-a042243a6f10\" target=\"_top\" title=\"psysml:2890fdf6-d136-470e-95db-a042243a6f10\" xlink:actuate=\"onRequest\" xlink:href=\"psysml:2890fdf6-d136-470e-95db-a042243a6f10\" xlink:show=\"new\" xlink:title=\"psysml:2890fdf6-d136-470e-95db-a042243a6f10\" xlink:type=\"simple\"><path d=\"M128,130.1 C128,145.37 128,166.16 128,184.57 \" fill=\"none\" id=\"E8-&gt;E7\" style=\"stroke: #383838; stroke-width: 1.0;\"/><polygon fill=\"#FFFFFF\" points=\"128,204.61,121,185.61,135,185.61,128,204.61\" style=\"stroke: #383838; stroke-width: 1.0;\"/><ellipse cx=\"123\" cy=\"179.91\" fill=\"#383838\" rx=\"2\" ry=\"2\" style=\"stroke: #383838; stroke-width: 1.0;\"/><ellipse cx=\"133\" cy=\"179.91\" fill=\"#383838\" rx=\"2\" ry=\"2\" style=\"stroke: #383838; stroke-width: 1.0;\"/></a><!--MD5=[feeac5eb423634930294aa81f2d25a4c]\n",
       "link E10 to E3--><a href=\"psysml:25a6672d-e3f3-453e-a929-7fba59fa68e7\" target=\"_top\" title=\"psysml:25a6672d-e3f3-453e-a929-7fba59fa68e7\" xlink:actuate=\"onRequest\" xlink:href=\"psysml:25a6672d-e3f3-453e-a929-7fba59fa68e7\" xlink:show=\"new\" xlink:title=\"psysml:25a6672d-e3f3-453e-a929-7fba59fa68e7\" xlink:type=\"simple\"><path d=\"M277.91,130.1 C275.08,145.45 271.21,166.39 267.79,184.87 \" fill=\"none\" id=\"E10-&gt;E3\" style=\"stroke: #383838; stroke-width: 1.0;\"/><polygon fill=\"#FFFFFF\" points=\"264.14,204.61,260.7167,184.653,274.4827,187.2023,264.14,204.61\" style=\"stroke: #383838; stroke-width: 1.0;\"/><ellipse cx=\"263.7212\" cy=\"179.4125\" fill=\"#383838\" rx=\"2\" ry=\"2\" style=\"stroke: #383838; stroke-width: 1.0;\"/><ellipse cx=\"273.554\" cy=\"181.2334\" fill=\"#383838\" rx=\"2\" ry=\"2\" style=\"stroke: #383838; stroke-width: 1.0;\"/></a><!--MD5=[f1911209aecbe71e4791eb911785299c]\n",
       "@startuml\r\n",
       "skinparam monochrome true\r\n",
       "skinparam classbackgroundcolor white\r\n",
       "skinparam shadowing false\r\n",
       "skinparam wrapWidth 300\r\n",
       "hide circle\r\n",
       "\r\n",
       "package \"PrivateImportTest\" as E1  [[psysml:90f2a1bf-87a7-47cf-b7dc-49b41c6fd8e7 ]]  {\r\n",
       "package \"P1\" as E2  [[psysml:16275eaf-61bd-4171-b64d-9c4aa1fed5b3 ]]  {\r\n",
       "comp def \"A\" as E3  <<(T,blue) part def>> [[psysml:c33e3566-7ac4-4487-b3df-3cd0148aac2a ]] {\r\n",
       "}\r\n",
       "}\r\n",
       "package \"P2\" as E4  [[psysml:b9d82d12-80d8-4b65-b32b-0d4caf256cd7 ]]  {\r\n",
       "}\r\n",
       "comp usage \"x: A\" as E5  <<(T,blue) part>> [[psysml:0c75b404-ec52-4836-8cbb-5da98c4a5930 ]] {\r\n",
       "}\r\n",
       "package \"P3\" as E6  [[psysml:9d4f5989-8a3e-4397-a866-52670c662db3 ]]  {\r\n",
       "comp def \"B\" as E7  <<(T,blue) part def>> [[psysml:70818b0d-1657-43d7-b586-0302676d35dd ]] {\r\n",
       "}\r\n",
       "E5 - -:|> E3 [[psysml:f8be15bd-6ead-4f94-a81d-297834d3bff2 ]] \r\n",
       "}\r\n",
       "comp usage \"z: B\" as E8  <<(T,blue) part>> [[psysml:f43ee61a-1d92-4bcd-a6ef-463238303c09 ]] {\r\n",
       "}\r\n",
       "package \"P4\" as E9  [[psysml:5979dd71-75f1-4b72-84ed-7ab4ecfce4b9 ]]  {\r\n",
       "comp usage \"z1: A\" as E10  <<(T,blue) part>> [[psysml:e183bef4-e50f-4a79-aea2-e72f91ae33b1 ]] {\r\n",
       "}\r\n",
       "E8 - -:|> E7 [[psysml:2890fdf6-d136-470e-95db-a042243a6f10 ]] \r\n",
       "E10 - -:|> E3 [[psysml:25a6672d-e3f3-453e-a929-7fba59fa68e7 ]] \r\n",
       "}\r\n",
       "}\r\n",
       "@enduml\r\n",
       "\n",
       "PlantUML version 1.2020.13(Sat Jun 13 12:26:38 UTC 2020)\n",
       "(EPL source distribution)\n",
       "Java Runtime: OpenJDK Runtime Environment\n",
       "JVM: OpenJDK 64-Bit Server VM\n",
       "Default Encoding: UTF-8\n",
       "Language: en\n",
       "Country: null\n",
       "--></g></svg>"
      ]
     },
     "execution_count": 38,
     "metadata": {},
     "output_type": "execute_result"
    }
   ],
   "source": [
    "%viz --style=\"DEFAULT\" --view=\"Tree\" \"PrivateImportTest\""
   ]
  },
  {
   "cell_type": "code",
   "execution_count": 39,
   "id": "a2fb8209",
   "metadata": {
    "execution": {
     "iopub.execute_input": "2021-08-04T06:27:56.848301Z",
     "iopub.status.busy": "2021-08-04T06:27:56.847956Z",
     "iopub.status.idle": "2021-08-04T06:27:56.850956Z",
     "shell.execute_reply": "2021-08-04T06:27:56.851173Z"
    }
   },
   "outputs": [
    {
     "data": {
      "image/svg+xml": [
       "<?xml version=\"1.0\" encoding=\"UTF-8\" standalone=\"no\"?><svg xmlns=\"http://www.w3.org/2000/svg\" xmlns:xlink=\"http://www.w3.org/1999/xlink\" contentScriptType=\"application/ecmascript\" contentStyleType=\"text/css\" height=\"12px\" preserveAspectRatio=\"none\" style=\"width:12px;height:12px;\" version=\"1.1\" viewBox=\"0 0 12 12\" width=\"12px\" zoomAndPan=\"magnify\"><defs/><g><!--MD5=[c5f280e076d0d61ccf4b0f27871bda1d]\n",
       "@startuml\r\n",
       "skinparam monochrome true\r\n",
       "skinparam classbackgroundcolor white\r\n",
       "skinparam shadowing false\r\n",
       "skinparam wrapWidth 300\r\n",
       "hide circle\r\n",
       "\r\n",
       "@enduml\r\n",
       "\n",
       "PlantUML version 1.2020.13(Sat Jun 13 12:26:38 UTC 2020)\n",
       "(EPL source distribution)\n",
       "Java Runtime: OpenJDK Runtime Environment\n",
       "JVM: OpenJDK 64-Bit Server VM\n",
       "Default Encoding: UTF-8\n",
       "Language: en\n",
       "Country: null\n",
       "--></g></svg>"
      ]
     },
     "execution_count": 39,
     "metadata": {},
     "output_type": "execute_result"
    }
   ],
   "source": [
    "%viz --style=\"DEFAULT\" --view=\"State\" \"PrivateImportTest\""
   ]
  },
  {
   "cell_type": "code",
   "execution_count": 40,
   "id": "6396ff65",
   "metadata": {
    "execution": {
     "iopub.execute_input": "2021-08-04T06:27:56.901755Z",
     "iopub.status.busy": "2021-08-04T06:27:56.901341Z",
     "iopub.status.idle": "2021-08-04T06:27:56.926491Z",
     "shell.execute_reply": "2021-08-04T06:27:56.926125Z"
    }
   },
   "outputs": [
    {
     "data": {
      "image/svg+xml": [
       "<?xml version=\"1.0\" encoding=\"UTF-8\" standalone=\"no\"?><svg xmlns=\"http://www.w3.org/2000/svg\" xmlns:xlink=\"http://www.w3.org/1999/xlink\" contentScriptType=\"application/ecmascript\" contentStyleType=\"text/css\" height=\"179px\" preserveAspectRatio=\"none\" style=\"width:645px;height:179px;\" version=\"1.1\" viewBox=\"0 0 645 179\" width=\"645px\" zoomAndPan=\"magnify\"><defs/><g><!--MD5=[fbc87193dbaf4d95561dea2c320d4a47]\n",
       "cluster E1--><a href=\"psysml:90f2a1bf-87a7-47cf-b7dc-49b41c6fd8e7\" target=\"_top\" title=\"psysml:90f2a1bf-87a7-47cf-b7dc-49b41c6fd8e7\" xlink:actuate=\"onRequest\" xlink:href=\"psysml:90f2a1bf-87a7-47cf-b7dc-49b41c6fd8e7\" xlink:show=\"new\" xlink:title=\"psysml:90f2a1bf-87a7-47cf-b7dc-49b41c6fd8e7\" xlink:type=\"simple\"><polygon fill=\"#FFFFFF\" points=\"16,6,163,6,170,28.2969,623,28.2969,623,167,16,167,16,6\" style=\"stroke: #000000; stroke-width: 1.5;\"/><line style=\"stroke: #000000; stroke-width: 1.5;\" x1=\"16\" x2=\"170\" y1=\"28.2969\" y2=\"28.2969\"/><text fill=\"#000000\" font-family=\"sans-serif\" font-size=\"14\" font-weight=\"bold\" lengthAdjust=\"spacingAndGlyphs\" textLength=\"141\" x=\"20\" y=\"20.9951\">PrivateImportTest</text></a><!--MD5=[e4f7fae6ed58524ba242bb0b0d3be6b7]\n",
       "cluster E2--><a href=\"psysml:16275eaf-61bd-4171-b64d-9c4aa1fed5b3\" target=\"_top\" title=\"psysml:16275eaf-61bd-4171-b64d-9c4aa1fed5b3\" xlink:actuate=\"onRequest\" xlink:href=\"psysml:16275eaf-61bd-4171-b64d-9c4aa1fed5b3\" xlink:show=\"new\" xlink:title=\"psysml:16275eaf-61bd-4171-b64d-9c4aa1fed5b3\" xlink:type=\"simple\"><polygon fill=\"#FFFFFF\" points=\"495,49,521,49,528,71.2969,599,71.2969,599,143,495,143,495,49\" style=\"stroke: #000000; stroke-width: 1.5;\"/><line style=\"stroke: #000000; stroke-width: 1.5;\" x1=\"495\" x2=\"528\" y1=\"71.2969\" y2=\"71.2969\"/><text fill=\"#000000\" font-family=\"sans-serif\" font-size=\"14\" font-weight=\"bold\" lengthAdjust=\"spacingAndGlyphs\" textLength=\"20\" x=\"499\" y=\"63.9951\">P1</text></a><!--MD5=[14e3b0961a2654348d326746436168a1]\n",
       "cluster E6--><a href=\"psysml:9d4f5989-8a3e-4397-a866-52670c662db3\" target=\"_top\" title=\"psysml:9d4f5989-8a3e-4397-a866-52670c662db3\" xlink:actuate=\"onRequest\" xlink:href=\"psysml:9d4f5989-8a3e-4397-a866-52670c662db3\" xlink:show=\"new\" xlink:title=\"psysml:9d4f5989-8a3e-4397-a866-52670c662db3\" xlink:type=\"simple\"><polygon fill=\"#FFFFFF\" points=\"367,49,393,49,400,71.2969,471,71.2969,471,143,367,143,367,49\" style=\"stroke: #000000; stroke-width: 1.5;\"/><line style=\"stroke: #000000; stroke-width: 1.5;\" x1=\"367\" x2=\"400\" y1=\"71.2969\" y2=\"71.2969\"/><text fill=\"#000000\" font-family=\"sans-serif\" font-size=\"14\" font-weight=\"bold\" lengthAdjust=\"spacingAndGlyphs\" textLength=\"20\" x=\"371\" y=\"63.9951\">P3</text></a><!--MD5=[7f149f147074ac12df2cb0a7728a5fb0]\n",
       "cluster E9--><a href=\"psysml:5979dd71-75f1-4b72-84ed-7ab4ecfce4b9\" target=\"_top\" title=\"psysml:5979dd71-75f1-4b72-84ed-7ab4ecfce4b9\" xlink:actuate=\"onRequest\" xlink:href=\"psysml:5979dd71-75f1-4b72-84ed-7ab4ecfce4b9\" xlink:show=\"new\" xlink:title=\"psysml:5979dd71-75f1-4b72-84ed-7ab4ecfce4b9\" xlink:type=\"simple\"><polygon fill=\"#FFFFFF\" points=\"261,50.5,287,50.5,294,72.7969,343,72.7969,343,141.5,261,141.5,261,50.5\" style=\"stroke: #000000; stroke-width: 1.5;\"/><line style=\"stroke: #000000; stroke-width: 1.5;\" x1=\"261\" x2=\"294\" y1=\"72.7969\" y2=\"72.7969\"/><text fill=\"#000000\" font-family=\"sans-serif\" font-size=\"14\" font-weight=\"bold\" lengthAdjust=\"spacingAndGlyphs\" textLength=\"20\" x=\"265\" y=\"65.4951\">P4</text></a><g id=\"E1.E2.E3\"><a href=\"psysml:c33e3566-7ac4-4487-b3df-3cd0148aac2a\" target=\"_top\" title=\"psysml:c33e3566-7ac4-4487-b3df-3cd0148aac2a\" xlink:actuate=\"onRequest\" xlink:href=\"psysml:c33e3566-7ac4-4487-b3df-3cd0148aac2a\" xlink:show=\"new\" xlink:title=\"psysml:c33e3566-7ac4-4487-b3df-3cd0148aac2a\" xlink:type=\"simple\"><rect fill=\"#FFFFFF\" height=\"42.9375\" id=\"E3\" style=\"stroke: #383838; stroke-width: 1.5;\" width=\"71\" x=\"511.5\" y=\"84\"/><rect fill=\"#F8F8F8\" height=\"37.9375\" style=\"stroke: #383838; stroke-width: 1.5;\" width=\"71\" x=\"511.5\" y=\"84\"/><text fill=\"#000000\" font-family=\"sans-serif\" font-size=\"12\" font-style=\"italic\" lengthAdjust=\"spacingAndGlyphs\" textLength=\"64\" x=\"515\" y=\"100.1387\">«part def»</text><text fill=\"#000000\" font-family=\"sans-serif\" font-size=\"12\" lengthAdjust=\"spacingAndGlyphs\" textLength=\"8\" x=\"543\" y=\"114.1074\">A</text></a></g><a href=\"psysml:b9d82d12-80d8-4b65-b32b-0d4caf256cd7\" target=\"_top\" title=\"psysml:b9d82d12-80d8-4b65-b32b-0d4caf256cd7\" xlink:actuate=\"onRequest\" xlink:href=\"psysml:b9d82d12-80d8-4b65-b32b-0d4caf256cd7\" xlink:show=\"new\" xlink:title=\"psysml:b9d82d12-80d8-4b65-b32b-0d4caf256cd7\" xlink:type=\"simple\"><polygon fill=\"#FFFFFF\" points=\"202,79,228,79,235,101.2969,242,101.2969,242,131.5938,202,131.5938,202,79\" style=\"stroke: #000000; stroke-width: 1.5;\"/><line style=\"stroke: #000000; stroke-width: 1.5;\" x1=\"202\" x2=\"235\" y1=\"101.2969\" y2=\"101.2969\"/><text fill=\"#000000\" font-family=\"sans-serif\" font-size=\"14\" font-weight=\"bold\" lengthAdjust=\"spacingAndGlyphs\" textLength=\"20\" x=\"206\" y=\"93.9951\">P2</text></a><g id=\"E1.E5\"><a href=\"psysml:0c75b404-ec52-4836-8cbb-5da98c4a5930\" target=\"_top\" title=\"psysml:0c75b404-ec52-4836-8cbb-5da98c4a5930\" xlink:actuate=\"onRequest\" xlink:href=\"psysml:0c75b404-ec52-4836-8cbb-5da98c4a5930\" xlink:show=\"new\" xlink:title=\"psysml:0c75b404-ec52-4836-8cbb-5da98c4a5930\" xlink:type=\"simple\"><rect fill=\"#FFFFFF\" height=\"40\" id=\"E5\" rx=\"10\" ry=\"10\" style=\"stroke: #383838; stroke-width: 1.5;\" width=\"50\" x=\"117\" y=\"85.5\"/><rect fill=\"#F8F8F8\" height=\"23.9688\" rx=\"10\" ry=\"10\" style=\"stroke: #F8F8F8; stroke-width: 1.5;\" width=\"50\" x=\"117\" y=\"85.5\"/><rect fill=\"#F8F8F8\" height=\"10\" style=\"stroke: #F8F8F8; stroke-width: 1.5;\" width=\"50\" x=\"117\" y=\"99.4688\"/><rect fill=\"none\" height=\"40\" id=\"E5\" rx=\"10\" ry=\"10\" style=\"stroke: #383838; stroke-width: 1.5;\" width=\"50\" x=\"117\" y=\"85.5\"/><text fill=\"#000000\" font-family=\"sans-serif\" font-size=\"12\" lengthAdjust=\"spacingAndGlyphs\" textLength=\"22\" x=\"131\" y=\"101.6387\">x: A</text></a></g><g id=\"E1.E6.E7\"><a href=\"psysml:70818b0d-1657-43d7-b586-0302676d35dd\" target=\"_top\" title=\"psysml:70818b0d-1657-43d7-b586-0302676d35dd\" xlink:actuate=\"onRequest\" xlink:href=\"psysml:70818b0d-1657-43d7-b586-0302676d35dd\" xlink:show=\"new\" xlink:title=\"psysml:70818b0d-1657-43d7-b586-0302676d35dd\" xlink:type=\"simple\"><rect fill=\"#FFFFFF\" height=\"42.9375\" id=\"E7\" style=\"stroke: #383838; stroke-width: 1.5;\" width=\"71\" x=\"383.5\" y=\"84\"/><rect fill=\"#F8F8F8\" height=\"37.9375\" style=\"stroke: #383838; stroke-width: 1.5;\" width=\"71\" x=\"383.5\" y=\"84\"/><text fill=\"#000000\" font-family=\"sans-serif\" font-size=\"12\" font-style=\"italic\" lengthAdjust=\"spacingAndGlyphs\" textLength=\"64\" x=\"387\" y=\"100.1387\">«part def»</text><text fill=\"#000000\" font-family=\"sans-serif\" font-size=\"12\" lengthAdjust=\"spacingAndGlyphs\" textLength=\"8\" x=\"415\" y=\"114.1074\">B</text></a></g><g id=\"E1.E8\"><a href=\"psysml:f43ee61a-1d92-4bcd-a6ef-463238303c09\" target=\"_top\" title=\"psysml:f43ee61a-1d92-4bcd-a6ef-463238303c09\" xlink:actuate=\"onRequest\" xlink:href=\"psysml:f43ee61a-1d92-4bcd-a6ef-463238303c09\" xlink:show=\"new\" xlink:title=\"psysml:f43ee61a-1d92-4bcd-a6ef-463238303c09\" xlink:type=\"simple\"><rect fill=\"#FFFFFF\" height=\"40\" id=\"E8\" rx=\"10\" ry=\"10\" style=\"stroke: #383838; stroke-width: 1.5;\" width=\"50\" x=\"32\" y=\"85.5\"/><rect fill=\"#F8F8F8\" height=\"23.9688\" rx=\"10\" ry=\"10\" style=\"stroke: #F8F8F8; stroke-width: 1.5;\" width=\"50\" x=\"32\" y=\"85.5\"/><rect fill=\"#F8F8F8\" height=\"10\" style=\"stroke: #F8F8F8; stroke-width: 1.5;\" width=\"50\" x=\"32\" y=\"99.4688\"/><rect fill=\"none\" height=\"40\" id=\"E8\" rx=\"10\" ry=\"10\" style=\"stroke: #383838; stroke-width: 1.5;\" width=\"50\" x=\"32\" y=\"85.5\"/><text fill=\"#000000\" font-family=\"sans-serif\" font-size=\"12\" lengthAdjust=\"spacingAndGlyphs\" textLength=\"21\" x=\"46.5\" y=\"101.6387\">z: B</text></a></g><g id=\"E1.E9.E10\"><a href=\"psysml:e183bef4-e50f-4a79-aea2-e72f91ae33b1\" target=\"_top\" title=\"psysml:e183bef4-e50f-4a79-aea2-e72f91ae33b1\" xlink:actuate=\"onRequest\" xlink:href=\"psysml:e183bef4-e50f-4a79-aea2-e72f91ae33b1\" xlink:show=\"new\" xlink:title=\"psysml:e183bef4-e50f-4a79-aea2-e72f91ae33b1\" xlink:type=\"simple\"><rect fill=\"#FFFFFF\" height=\"40\" id=\"E10\" rx=\"10\" ry=\"10\" style=\"stroke: #383838; stroke-width: 1.5;\" width=\"50\" x=\"277\" y=\"85.5\"/><rect fill=\"#F8F8F8\" height=\"23.9688\" rx=\"10\" ry=\"10\" style=\"stroke: #F8F8F8; stroke-width: 1.5;\" width=\"50\" x=\"277\" y=\"85.5\"/><rect fill=\"#F8F8F8\" height=\"10\" style=\"stroke: #F8F8F8; stroke-width: 1.5;\" width=\"50\" x=\"277\" y=\"99.4688\"/><rect fill=\"none\" height=\"40\" id=\"E10\" rx=\"10\" ry=\"10\" style=\"stroke: #383838; stroke-width: 1.5;\" width=\"50\" x=\"277\" y=\"85.5\"/><text fill=\"#000000\" font-family=\"sans-serif\" font-size=\"12\" lengthAdjust=\"spacingAndGlyphs\" textLength=\"29\" x=\"287.5\" y=\"101.6387\">z1: A</text></a></g><!--MD5=[078bf4c3a4d8d237627b56694aedfe18]\n",
       "@startuml\r\n",
       "skinparam ranksep 10\r\n",
       "skinparam rectangle {\r\n",
       " backgroundColor<<block>> LightGreen\r\n",
       "}\r\n",
       "skinparam monochrome true\r\n",
       "skinparam classbackgroundcolor white\r\n",
       "skinparam shadowing false\r\n",
       "skinparam wrapWidth 300\r\n",
       "hide circle\r\n",
       "\r\n",
       "package \"PrivateImportTest\" as E1  [[psysml:90f2a1bf-87a7-47cf-b7dc-49b41c6fd8e7 ]]  {\r\n",
       "package \"P1\" as E2  [[psysml:16275eaf-61bd-4171-b64d-9c4aa1fed5b3 ]]  {\r\n",
       "rec def \"A\" as E3  <<(T,blue) part def>> [[psysml:c33e3566-7ac4-4487-b3df-3cd0148aac2a ]] {\r\n",
       "}\r\n",
       "}\r\n",
       "package \"P2\" as E4  [[psysml:b9d82d12-80d8-4b65-b32b-0d4caf256cd7 ]]  {\r\n",
       "}\r\n",
       "rec usage \"x: A\" as E5  [[psysml:0c75b404-ec52-4836-8cbb-5da98c4a5930 ]] {\r\n",
       "}\r\n",
       "package \"P3\" as E6  [[psysml:9d4f5989-8a3e-4397-a866-52670c662db3 ]]  {\r\n",
       "rec def \"B\" as E7  <<(T,blue) part def>> [[psysml:70818b0d-1657-43d7-b586-0302676d35dd ]] {\r\n",
       "}\r\n",
       "}\r\n",
       "rec usage \"z: B\" as E8  [[psysml:f43ee61a-1d92-4bcd-a6ef-463238303c09 ]] {\r\n",
       "}\r\n",
       "package \"P4\" as E9  [[psysml:5979dd71-75f1-4b72-84ed-7ab4ecfce4b9 ]]  {\r\n",
       "rec usage \"z1: A\" as E10  [[psysml:e183bef4-e50f-4a79-aea2-e72f91ae33b1 ]] {\r\n",
       "}\r\n",
       "}\r\n",
       "}\r\n",
       "@enduml\r\n",
       "\n",
       "PlantUML version 1.2020.13(Sat Jun 13 12:26:38 UTC 2020)\n",
       "(EPL source distribution)\n",
       "Java Runtime: OpenJDK Runtime Environment\n",
       "JVM: OpenJDK 64-Bit Server VM\n",
       "Default Encoding: UTF-8\n",
       "Language: en\n",
       "Country: null\n",
       "--></g></svg>"
      ]
     },
     "execution_count": 40,
     "metadata": {},
     "output_type": "execute_result"
    }
   ],
   "source": [
    "%viz --style=\"DEFAULT\" --view=\"Interconnection\" \"PrivateImportTest\""
   ]
  },
  {
   "cell_type": "code",
   "execution_count": 41,
   "id": "ad9dd265",
   "metadata": {
    "execution": {
     "iopub.execute_input": "2021-08-04T06:27:56.976236Z",
     "iopub.status.busy": "2021-08-04T06:27:56.975783Z",
     "iopub.status.idle": "2021-08-04T06:27:56.980656Z",
     "shell.execute_reply": "2021-08-04T06:27:56.980280Z"
    }
   },
   "outputs": [
    {
     "data": {
      "image/svg+xml": [
       "<?xml version=\"1.0\" encoding=\"UTF-8\" standalone=\"no\"?><svg xmlns=\"http://www.w3.org/2000/svg\" xmlns:xlink=\"http://www.w3.org/1999/xlink\" contentScriptType=\"application/ecmascript\" contentStyleType=\"text/css\" height=\"12px\" preserveAspectRatio=\"none\" style=\"width:12px;height:12px;\" version=\"1.1\" viewBox=\"0 0 12 12\" width=\"12px\" zoomAndPan=\"magnify\"><defs/><g><!--MD5=[388f21188e31bfdd97050473b19af356]\n",
       "@startuml\r\n",
       "skinparam ranksep 8\r\n",
       "skinparam monochrome true\r\n",
       "skinparam classbackgroundcolor white\r\n",
       "skinparam shadowing false\r\n",
       "skinparam wrapWidth 300\r\n",
       "hide circle\r\n",
       "\r\n",
       "@enduml\r\n",
       "\n",
       "PlantUML version 1.2020.13(Sat Jun 13 12:26:38 UTC 2020)\n",
       "(EPL source distribution)\n",
       "Java Runtime: OpenJDK Runtime Environment\n",
       "JVM: OpenJDK 64-Bit Server VM\n",
       "Default Encoding: UTF-8\n",
       "Language: en\n",
       "Country: null\n",
       "--></g></svg>"
      ]
     },
     "execution_count": 41,
     "metadata": {},
     "output_type": "execute_result"
    }
   ],
   "source": [
    "%viz --style=\"DEFAULT\" --view=\"Action\" \"PrivateImportTest\""
   ]
  },
  {
   "cell_type": "code",
   "execution_count": 42,
   "id": "5a3a13c9",
   "metadata": {
    "execution": {
     "iopub.execute_input": "2021-08-04T06:27:57.030500Z",
     "iopub.status.busy": "2021-08-04T06:27:57.030088Z",
     "iopub.status.idle": "2021-08-04T06:27:57.057336Z",
     "shell.execute_reply": "2021-08-04T06:27:57.056936Z"
    }
   },
   "outputs": [
    {
     "data": {
      "image/svg+xml": [
       "<?xml version=\"1.0\" encoding=\"UTF-8\" standalone=\"no\"?><svg xmlns=\"http://www.w3.org/2000/svg\" xmlns:xlink=\"http://www.w3.org/1999/xlink\" contentScriptType=\"application/ecmascript\" contentStyleType=\"text/css\" height=\"303px\" preserveAspectRatio=\"none\" style=\"width:365px;height:303px;\" version=\"1.1\" viewBox=\"0 0 365 303\" width=\"365px\" zoomAndPan=\"magnify\"><defs/><g><!--MD5=[fbc87193dbaf4d95561dea2c320d4a47]\n",
       "cluster E1--><a href=\"psysml:90f2a1bf-87a7-47cf-b7dc-49b41c6fd8e7\" target=\"_top\" title=\"psysml:90f2a1bf-87a7-47cf-b7dc-49b41c6fd8e7\" xlink:actuate=\"onRequest\" xlink:href=\"psysml:90f2a1bf-87a7-47cf-b7dc-49b41c6fd8e7\" xlink:show=\"new\" xlink:title=\"psysml:90f2a1bf-87a7-47cf-b7dc-49b41c6fd8e7\" xlink:type=\"simple\"><polygon fill=\"#FFFFFF\" points=\"16,6,163,6,170,28.2969,343,28.2969,343,291,16,291,16,6\" style=\"stroke: #000000; stroke-width: 1.5;\"/><line style=\"stroke: #000000; stroke-width: 1.5;\" x1=\"16\" x2=\"170\" y1=\"28.2969\" y2=\"28.2969\"/><text fill=\"#000000\" font-family=\"sans-serif\" font-size=\"14\" font-weight=\"bold\" lengthAdjust=\"spacingAndGlyphs\" textLength=\"141\" x=\"20\" y=\"20.9951\">PrivateImportTest</text></a><!--MD5=[e4f7fae6ed58524ba242bb0b0d3be6b7]\n",
       "cluster E2--><a href=\"psysml:16275eaf-61bd-4171-b64d-9c4aa1fed5b3\" target=\"_top\" title=\"psysml:16275eaf-61bd-4171-b64d-9c4aa1fed5b3\" xlink:actuate=\"onRequest\" xlink:href=\"psysml:16275eaf-61bd-4171-b64d-9c4aa1fed5b3\" xlink:show=\"new\" xlink:title=\"psysml:16275eaf-61bd-4171-b64d-9c4aa1fed5b3\" xlink:type=\"simple\"><polygon fill=\"#FFFFFF\" points=\"211,170,237,170,244,192.2969,309,192.2969,309,267,211,267,211,170\" style=\"stroke: #000000; stroke-width: 1.5;\"/><line style=\"stroke: #000000; stroke-width: 1.5;\" x1=\"211\" x2=\"244\" y1=\"192.2969\" y2=\"192.2969\"/><text fill=\"#000000\" font-family=\"sans-serif\" font-size=\"14\" font-weight=\"bold\" lengthAdjust=\"spacingAndGlyphs\" textLength=\"20\" x=\"215\" y=\"184.9951\">P1</text></a><!--MD5=[14e3b0961a2654348d326746436168a1]\n",
       "cluster E6--><a href=\"psysml:9d4f5989-8a3e-4397-a866-52670c662db3\" target=\"_top\" title=\"psysml:9d4f5989-8a3e-4397-a866-52670c662db3\" xlink:actuate=\"onRequest\" xlink:href=\"psysml:9d4f5989-8a3e-4397-a866-52670c662db3\" xlink:show=\"new\" xlink:title=\"psysml:9d4f5989-8a3e-4397-a866-52670c662db3\" xlink:type=\"simple\"><polygon fill=\"#FFFFFF\" points=\"79,170,105,170,112,192.2969,177,192.2969,177,267,79,267,79,170\" style=\"stroke: #000000; stroke-width: 1.5;\"/><line style=\"stroke: #000000; stroke-width: 1.5;\" x1=\"79\" x2=\"112\" y1=\"192.2969\" y2=\"192.2969\"/><text fill=\"#000000\" font-family=\"sans-serif\" font-size=\"14\" font-weight=\"bold\" lengthAdjust=\"spacingAndGlyphs\" textLength=\"20\" x=\"83\" y=\"184.9951\">P3</text></a><!--MD5=[7f149f147074ac12df2cb0a7728a5fb0]\n",
       "cluster E9--><a href=\"psysml:5979dd71-75f1-4b72-84ed-7ab4ecfce4b9\" target=\"_top\" title=\"psysml:5979dd71-75f1-4b72-84ed-7ab4ecfce4b9\" xlink:actuate=\"onRequest\" xlink:href=\"psysml:5979dd71-75f1-4b72-84ed-7ab4ecfce4b9\" xlink:show=\"new\" xlink:title=\"psysml:5979dd71-75f1-4b72-84ed-7ab4ecfce4b9\" xlink:type=\"simple\"><polygon fill=\"#FFFFFF\" points=\"245,49,271,49,278,71.2969,319,71.2969,319,146,245,146,245,49\" style=\"stroke: #000000; stroke-width: 1.5;\"/><line style=\"stroke: #000000; stroke-width: 1.5;\" x1=\"245\" x2=\"278\" y1=\"71.2969\" y2=\"71.2969\"/><text fill=\"#000000\" font-family=\"sans-serif\" font-size=\"14\" font-weight=\"bold\" lengthAdjust=\"spacingAndGlyphs\" textLength=\"20\" x=\"249\" y=\"63.9951\">P4</text></a><!--MD5=[270fce915f116d4de14055a7c1d9a0f3]\n",
       "class E5--><a href=\"psysml:0c75b404-ec52-4836-8cbb-5da98c4a5930\" target=\"_top\" title=\"psysml:0c75b404-ec52-4836-8cbb-5da98c4a5930\" xlink:actuate=\"onRequest\" xlink:href=\"psysml:0c75b404-ec52-4836-8cbb-5da98c4a5930\" xlink:show=\"new\" xlink:title=\"psysml:0c75b404-ec52-4836-8cbb-5da98c4a5930\" xlink:type=\"simple\"><rect fill=\"#FFFFFF\" height=\"45.9375\" id=\"E5\" rx=\"10\" ry=\"10\" style=\"stroke: #383838; stroke-width: 1.5;\" width=\"42\" x=\"184\" y=\"84\"/><text fill=\"#000000\" font-family=\"sans-serif\" font-size=\"12\" font-style=\"italic\" lengthAdjust=\"spacingAndGlyphs\" textLength=\"40\" x=\"185\" y=\"100.1387\">«part»</text><text fill=\"#000000\" font-family=\"sans-serif\" font-size=\"12\" lengthAdjust=\"spacingAndGlyphs\" textLength=\"22\" x=\"194\" y=\"114.1074\">x: A</text><line style=\"stroke: #383838; stroke-width: 1.5;\" x1=\"185\" x2=\"225\" y1=\"121.9375\" y2=\"121.9375\"/></a><!--MD5=[b9389687b975829384b498ac4b7476b2]\n",
       "class E8--><a href=\"psysml:f43ee61a-1d92-4bcd-a6ef-463238303c09\" target=\"_top\" title=\"psysml:f43ee61a-1d92-4bcd-a6ef-463238303c09\" xlink:actuate=\"onRequest\" xlink:href=\"psysml:f43ee61a-1d92-4bcd-a6ef-463238303c09\" xlink:show=\"new\" xlink:title=\"psysml:f43ee61a-1d92-4bcd-a6ef-463238303c09\" xlink:type=\"simple\"><rect fill=\"#FFFFFF\" height=\"45.9375\" id=\"E8\" rx=\"10\" ry=\"10\" style=\"stroke: #383838; stroke-width: 1.5;\" width=\"42\" x=\"107\" y=\"84\"/><text fill=\"#000000\" font-family=\"sans-serif\" font-size=\"12\" font-style=\"italic\" lengthAdjust=\"spacingAndGlyphs\" textLength=\"40\" x=\"108\" y=\"100.1387\">«part»</text><text fill=\"#000000\" font-family=\"sans-serif\" font-size=\"12\" lengthAdjust=\"spacingAndGlyphs\" textLength=\"21\" x=\"117.5\" y=\"114.1074\">z: B</text><line style=\"stroke: #383838; stroke-width: 1.5;\" x1=\"108\" x2=\"148\" y1=\"121.9375\" y2=\"121.9375\"/></a><!--MD5=[09b614a08d8cba4a07c9adeb5e0fee81]\n",
       "class E3--><a href=\"psysml:c33e3566-7ac4-4487-b3df-3cd0148aac2a\" target=\"_top\" title=\"psysml:c33e3566-7ac4-4487-b3df-3cd0148aac2a\" xlink:actuate=\"onRequest\" xlink:href=\"psysml:c33e3566-7ac4-4487-b3df-3cd0148aac2a\" xlink:show=\"new\" xlink:title=\"psysml:c33e3566-7ac4-4487-b3df-3cd0148aac2a\" xlink:type=\"simple\"><rect fill=\"#FFFFFF\" height=\"45.9375\" id=\"E3\" style=\"stroke: #383838; stroke-width: 1.5;\" width=\"66\" x=\"227\" y=\"205\"/><text fill=\"#000000\" font-family=\"sans-serif\" font-size=\"12\" font-style=\"italic\" lengthAdjust=\"spacingAndGlyphs\" textLength=\"64\" x=\"228\" y=\"221.1387\">«part def»</text><text fill=\"#000000\" font-family=\"sans-serif\" font-size=\"12\" lengthAdjust=\"spacingAndGlyphs\" textLength=\"8\" x=\"256\" y=\"235.1074\">A</text><line style=\"stroke: #383838; stroke-width: 1.5;\" x1=\"228\" x2=\"292\" y1=\"242.9375\" y2=\"242.9375\"/></a><a href=\"psysml:b9d82d12-80d8-4b65-b32b-0d4caf256cd7\" target=\"_top\" title=\"psysml:b9d82d12-80d8-4b65-b32b-0d4caf256cd7\" xlink:actuate=\"onRequest\" xlink:href=\"psysml:b9d82d12-80d8-4b65-b32b-0d4caf256cd7\" xlink:show=\"new\" xlink:title=\"psysml:b9d82d12-80d8-4b65-b32b-0d4caf256cd7\" xlink:type=\"simple\"><polygon fill=\"#FFFFFF\" points=\"32,80.5,58,80.5,65,102.7969,72,102.7969,72,133.0938,32,133.0938,32,80.5\" style=\"stroke: #000000; stroke-width: 1.5;\"/><line style=\"stroke: #000000; stroke-width: 1.5;\" x1=\"32\" x2=\"65\" y1=\"102.7969\" y2=\"102.7969\"/><text fill=\"#000000\" font-family=\"sans-serif\" font-size=\"14\" font-weight=\"bold\" lengthAdjust=\"spacingAndGlyphs\" textLength=\"20\" x=\"36\" y=\"95.4951\">P2</text></a><!--MD5=[2156ba9850f5573cc1fc38a6a4b2f02b]\n",
       "class E7--><a href=\"psysml:70818b0d-1657-43d7-b586-0302676d35dd\" target=\"_top\" title=\"psysml:70818b0d-1657-43d7-b586-0302676d35dd\" xlink:actuate=\"onRequest\" xlink:href=\"psysml:70818b0d-1657-43d7-b586-0302676d35dd\" xlink:show=\"new\" xlink:title=\"psysml:70818b0d-1657-43d7-b586-0302676d35dd\" xlink:type=\"simple\"><rect fill=\"#FFFFFF\" height=\"45.9375\" id=\"E7\" style=\"stroke: #383838; stroke-width: 1.5;\" width=\"66\" x=\"95\" y=\"205\"/><text fill=\"#000000\" font-family=\"sans-serif\" font-size=\"12\" font-style=\"italic\" lengthAdjust=\"spacingAndGlyphs\" textLength=\"64\" x=\"96\" y=\"221.1387\">«part def»</text><text fill=\"#000000\" font-family=\"sans-serif\" font-size=\"12\" lengthAdjust=\"spacingAndGlyphs\" textLength=\"8\" x=\"124\" y=\"235.1074\">B</text><line style=\"stroke: #383838; stroke-width: 1.5;\" x1=\"96\" x2=\"160\" y1=\"242.9375\" y2=\"242.9375\"/></a><!--MD5=[96f4274e9e20536e775497830990834d]\n",
       "class E10--><a href=\"psysml:e183bef4-e50f-4a79-aea2-e72f91ae33b1\" target=\"_top\" title=\"psysml:e183bef4-e50f-4a79-aea2-e72f91ae33b1\" xlink:actuate=\"onRequest\" xlink:href=\"psysml:e183bef4-e50f-4a79-aea2-e72f91ae33b1\" xlink:show=\"new\" xlink:title=\"psysml:e183bef4-e50f-4a79-aea2-e72f91ae33b1\" xlink:type=\"simple\"><rect fill=\"#FFFFFF\" height=\"45.9375\" id=\"E10\" rx=\"10\" ry=\"10\" style=\"stroke: #383838; stroke-width: 1.5;\" width=\"42\" x=\"261\" y=\"84\"/><text fill=\"#000000\" font-family=\"sans-serif\" font-size=\"12\" font-style=\"italic\" lengthAdjust=\"spacingAndGlyphs\" textLength=\"40\" x=\"262\" y=\"100.1387\">«part»</text><text fill=\"#000000\" font-family=\"sans-serif\" font-size=\"12\" lengthAdjust=\"spacingAndGlyphs\" textLength=\"29\" x=\"267.5\" y=\"114.1074\">z1: A</text><line style=\"stroke: #383838; stroke-width: 1.5;\" x1=\"262\" x2=\"302\" y1=\"121.9375\" y2=\"121.9375\"/></a><!--MD5=[e9be52314489bd878ff4c7144b63c9e1]\n",
       "link E5 to E3--><a href=\"psysml:f8be15bd-6ead-4f94-a81d-297834d3bff2\" target=\"_top\" title=\"psysml:f8be15bd-6ead-4f94-a81d-297834d3bff2\" xlink:actuate=\"onRequest\" xlink:href=\"psysml:f8be15bd-6ead-4f94-a81d-297834d3bff2\" xlink:show=\"new\" xlink:title=\"psysml:f8be15bd-6ead-4f94-a81d-297834d3bff2\" xlink:type=\"simple\"><path d=\"M215.22,130.1 C222.5,145.87 232.51,167.52 241.22,186.36 \" fill=\"none\" id=\"E5-&gt;E3\" style=\"stroke: #383838; stroke-width: 1.0;\"/><polygon fill=\"#FFFFFF\" points=\"249.65,204.61,235.3286,190.2958,248.0386,184.4258,249.65,204.61\" style=\"stroke: #383838; stroke-width: 1.0;\"/><ellipse cx=\"234.7544\" cy=\"184.2824\" fill=\"#383838\" rx=\"2\" ry=\"2\" style=\"stroke: #383838; stroke-width: 1.0;\"/><ellipse cx=\"243.8329\" cy=\"180.0896\" fill=\"#383838\" rx=\"2\" ry=\"2\" style=\"stroke: #383838; stroke-width: 1.0;\"/></a><!--MD5=[bfa3c8b0d15052fdf50ae9310b491027]\n",
       "link E8 to E7--><a href=\"psysml:2890fdf6-d136-470e-95db-a042243a6f10\" target=\"_top\" title=\"psysml:2890fdf6-d136-470e-95db-a042243a6f10\" xlink:actuate=\"onRequest\" xlink:href=\"psysml:2890fdf6-d136-470e-95db-a042243a6f10\" xlink:show=\"new\" xlink:title=\"psysml:2890fdf6-d136-470e-95db-a042243a6f10\" xlink:type=\"simple\"><path d=\"M128,130.1 C128,145.37 128,166.16 128,184.57 \" fill=\"none\" id=\"E8-&gt;E7\" style=\"stroke: #383838; stroke-width: 1.0;\"/><polygon fill=\"#FFFFFF\" points=\"128,204.61,121,185.61,135,185.61,128,204.61\" style=\"stroke: #383838; stroke-width: 1.0;\"/><ellipse cx=\"123\" cy=\"179.91\" fill=\"#383838\" rx=\"2\" ry=\"2\" style=\"stroke: #383838; stroke-width: 1.0;\"/><ellipse cx=\"133\" cy=\"179.91\" fill=\"#383838\" rx=\"2\" ry=\"2\" style=\"stroke: #383838; stroke-width: 1.0;\"/></a><!--MD5=[feeac5eb423634930294aa81f2d25a4c]\n",
       "link E10 to E3--><a href=\"psysml:25a6672d-e3f3-453e-a929-7fba59fa68e7\" target=\"_top\" title=\"psysml:25a6672d-e3f3-453e-a929-7fba59fa68e7\" xlink:actuate=\"onRequest\" xlink:href=\"psysml:25a6672d-e3f3-453e-a929-7fba59fa68e7\" xlink:show=\"new\" xlink:title=\"psysml:25a6672d-e3f3-453e-a929-7fba59fa68e7\" xlink:type=\"simple\"><path d=\"M277.91,130.1 C275.08,145.45 271.21,166.39 267.79,184.87 \" fill=\"none\" id=\"E10-&gt;E3\" style=\"stroke: #383838; stroke-width: 1.0;\"/><polygon fill=\"#FFFFFF\" points=\"264.14,204.61,260.7167,184.653,274.4827,187.2023,264.14,204.61\" style=\"stroke: #383838; stroke-width: 1.0;\"/><ellipse cx=\"263.7212\" cy=\"179.4125\" fill=\"#383838\" rx=\"2\" ry=\"2\" style=\"stroke: #383838; stroke-width: 1.0;\"/><ellipse cx=\"273.554\" cy=\"181.2334\" fill=\"#383838\" rx=\"2\" ry=\"2\" style=\"stroke: #383838; stroke-width: 1.0;\"/></a><!--MD5=[f1911209aecbe71e4791eb911785299c]\n",
       "@startuml\r\n",
       "skinparam monochrome true\r\n",
       "skinparam classbackgroundcolor white\r\n",
       "skinparam shadowing false\r\n",
       "skinparam wrapWidth 300\r\n",
       "hide circle\r\n",
       "\r\n",
       "package \"PrivateImportTest\" as E1  [[psysml:90f2a1bf-87a7-47cf-b7dc-49b41c6fd8e7 ]]  {\r\n",
       "package \"P1\" as E2  [[psysml:16275eaf-61bd-4171-b64d-9c4aa1fed5b3 ]]  {\r\n",
       "comp def \"A\" as E3  <<(T,blue) part def>> [[psysml:c33e3566-7ac4-4487-b3df-3cd0148aac2a ]] {\r\n",
       "}\r\n",
       "}\r\n",
       "package \"P2\" as E4  [[psysml:b9d82d12-80d8-4b65-b32b-0d4caf256cd7 ]]  {\r\n",
       "}\r\n",
       "comp usage \"x: A\" as E5  <<(T,blue) part>> [[psysml:0c75b404-ec52-4836-8cbb-5da98c4a5930 ]] {\r\n",
       "}\r\n",
       "package \"P3\" as E6  [[psysml:9d4f5989-8a3e-4397-a866-52670c662db3 ]]  {\r\n",
       "comp def \"B\" as E7  <<(T,blue) part def>> [[psysml:70818b0d-1657-43d7-b586-0302676d35dd ]] {\r\n",
       "}\r\n",
       "E5 - -:|> E3 [[psysml:f8be15bd-6ead-4f94-a81d-297834d3bff2 ]] \r\n",
       "}\r\n",
       "comp usage \"z: B\" as E8  <<(T,blue) part>> [[psysml:f43ee61a-1d92-4bcd-a6ef-463238303c09 ]] {\r\n",
       "}\r\n",
       "package \"P4\" as E9  [[psysml:5979dd71-75f1-4b72-84ed-7ab4ecfce4b9 ]]  {\r\n",
       "comp usage \"z1: A\" as E10  <<(T,blue) part>> [[psysml:e183bef4-e50f-4a79-aea2-e72f91ae33b1 ]] {\r\n",
       "}\r\n",
       "E8 - -:|> E7 [[psysml:2890fdf6-d136-470e-95db-a042243a6f10 ]] \r\n",
       "E10 - -:|> E3 [[psysml:25a6672d-e3f3-453e-a929-7fba59fa68e7 ]] \r\n",
       "}\r\n",
       "}\r\n",
       "@enduml\r\n",
       "\n",
       "PlantUML version 1.2020.13(Sat Jun 13 12:26:38 UTC 2020)\n",
       "(EPL source distribution)\n",
       "Java Runtime: OpenJDK Runtime Environment\n",
       "JVM: OpenJDK 64-Bit Server VM\n",
       "Default Encoding: UTF-8\n",
       "Language: en\n",
       "Country: null\n",
       "--></g></svg>"
      ]
     },
     "execution_count": 42,
     "metadata": {},
     "output_type": "execute_result"
    }
   ],
   "source": [
    "%viz --style=\"DEFAULT\" --view=\"Sequence\" \"PrivateImportTest\""
   ]
  },
  {
   "cell_type": "code",
   "execution_count": 43,
   "id": "70d49e5f",
   "metadata": {
    "execution": {
     "iopub.execute_input": "2021-08-04T06:27:57.106891Z",
     "iopub.status.busy": "2021-08-04T06:27:57.106457Z",
     "iopub.status.idle": "2021-08-04T06:27:57.132438Z",
     "shell.execute_reply": "2021-08-04T06:27:57.131129Z"
    }
   },
   "outputs": [
    {
     "data": {
      "image/svg+xml": [
       "<?xml version=\"1.0\" encoding=\"UTF-8\" standalone=\"no\"?><svg xmlns=\"http://www.w3.org/2000/svg\" xmlns:xlink=\"http://www.w3.org/1999/xlink\" contentScriptType=\"application/ecmascript\" contentStyleType=\"text/css\" height=\"303px\" preserveAspectRatio=\"none\" style=\"width:365px;height:303px;\" version=\"1.1\" viewBox=\"0 0 365 303\" width=\"365px\" zoomAndPan=\"magnify\"><defs/><g><!--MD5=[fbc87193dbaf4d95561dea2c320d4a47]\n",
       "cluster E1--><a href=\"psysml:90f2a1bf-87a7-47cf-b7dc-49b41c6fd8e7\" target=\"_top\" title=\"psysml:90f2a1bf-87a7-47cf-b7dc-49b41c6fd8e7\" xlink:actuate=\"onRequest\" xlink:href=\"psysml:90f2a1bf-87a7-47cf-b7dc-49b41c6fd8e7\" xlink:show=\"new\" xlink:title=\"psysml:90f2a1bf-87a7-47cf-b7dc-49b41c6fd8e7\" xlink:type=\"simple\"><polygon fill=\"#FFFFFF\" points=\"16,6,163,6,170,28.2969,343,28.2969,343,291,16,291,16,6\" style=\"stroke: #000000; stroke-width: 1.5;\"/><line style=\"stroke: #000000; stroke-width: 1.5;\" x1=\"16\" x2=\"170\" y1=\"28.2969\" y2=\"28.2969\"/><text fill=\"#000000\" font-family=\"sans-serif\" font-size=\"14\" font-weight=\"bold\" lengthAdjust=\"spacingAndGlyphs\" textLength=\"141\" x=\"20\" y=\"20.9951\">PrivateImportTest</text></a><!--MD5=[e4f7fae6ed58524ba242bb0b0d3be6b7]\n",
       "cluster E2--><a href=\"psysml:16275eaf-61bd-4171-b64d-9c4aa1fed5b3\" target=\"_top\" title=\"psysml:16275eaf-61bd-4171-b64d-9c4aa1fed5b3\" xlink:actuate=\"onRequest\" xlink:href=\"psysml:16275eaf-61bd-4171-b64d-9c4aa1fed5b3\" xlink:show=\"new\" xlink:title=\"psysml:16275eaf-61bd-4171-b64d-9c4aa1fed5b3\" xlink:type=\"simple\"><polygon fill=\"#FFFFFF\" points=\"211,170,237,170,244,192.2969,309,192.2969,309,267,211,267,211,170\" style=\"stroke: #000000; stroke-width: 1.5;\"/><line style=\"stroke: #000000; stroke-width: 1.5;\" x1=\"211\" x2=\"244\" y1=\"192.2969\" y2=\"192.2969\"/><text fill=\"#000000\" font-family=\"sans-serif\" font-size=\"14\" font-weight=\"bold\" lengthAdjust=\"spacingAndGlyphs\" textLength=\"20\" x=\"215\" y=\"184.9951\">P1</text></a><!--MD5=[14e3b0961a2654348d326746436168a1]\n",
       "cluster E6--><a href=\"psysml:9d4f5989-8a3e-4397-a866-52670c662db3\" target=\"_top\" title=\"psysml:9d4f5989-8a3e-4397-a866-52670c662db3\" xlink:actuate=\"onRequest\" xlink:href=\"psysml:9d4f5989-8a3e-4397-a866-52670c662db3\" xlink:show=\"new\" xlink:title=\"psysml:9d4f5989-8a3e-4397-a866-52670c662db3\" xlink:type=\"simple\"><polygon fill=\"#FFFFFF\" points=\"79,170,105,170,112,192.2969,177,192.2969,177,267,79,267,79,170\" style=\"stroke: #000000; stroke-width: 1.5;\"/><line style=\"stroke: #000000; stroke-width: 1.5;\" x1=\"79\" x2=\"112\" y1=\"192.2969\" y2=\"192.2969\"/><text fill=\"#000000\" font-family=\"sans-serif\" font-size=\"14\" font-weight=\"bold\" lengthAdjust=\"spacingAndGlyphs\" textLength=\"20\" x=\"83\" y=\"184.9951\">P3</text></a><!--MD5=[7f149f147074ac12df2cb0a7728a5fb0]\n",
       "cluster E9--><a href=\"psysml:5979dd71-75f1-4b72-84ed-7ab4ecfce4b9\" target=\"_top\" title=\"psysml:5979dd71-75f1-4b72-84ed-7ab4ecfce4b9\" xlink:actuate=\"onRequest\" xlink:href=\"psysml:5979dd71-75f1-4b72-84ed-7ab4ecfce4b9\" xlink:show=\"new\" xlink:title=\"psysml:5979dd71-75f1-4b72-84ed-7ab4ecfce4b9\" xlink:type=\"simple\"><polygon fill=\"#FFFFFF\" points=\"245,49,271,49,278,71.2969,319,71.2969,319,146,245,146,245,49\" style=\"stroke: #000000; stroke-width: 1.5;\"/><line style=\"stroke: #000000; stroke-width: 1.5;\" x1=\"245\" x2=\"278\" y1=\"71.2969\" y2=\"71.2969\"/><text fill=\"#000000\" font-family=\"sans-serif\" font-size=\"14\" font-weight=\"bold\" lengthAdjust=\"spacingAndGlyphs\" textLength=\"20\" x=\"249\" y=\"63.9951\">P4</text></a><!--MD5=[270fce915f116d4de14055a7c1d9a0f3]\n",
       "class E5--><a href=\"psysml:0c75b404-ec52-4836-8cbb-5da98c4a5930\" target=\"_top\" title=\"psysml:0c75b404-ec52-4836-8cbb-5da98c4a5930\" xlink:actuate=\"onRequest\" xlink:href=\"psysml:0c75b404-ec52-4836-8cbb-5da98c4a5930\" xlink:show=\"new\" xlink:title=\"psysml:0c75b404-ec52-4836-8cbb-5da98c4a5930\" xlink:type=\"simple\"><rect fill=\"#FFFFFF\" height=\"45.9375\" id=\"E5\" rx=\"10\" ry=\"10\" style=\"stroke: #383838; stroke-width: 1.5;\" width=\"42\" x=\"184\" y=\"84\"/><text fill=\"#000000\" font-family=\"sans-serif\" font-size=\"12\" font-style=\"italic\" lengthAdjust=\"spacingAndGlyphs\" textLength=\"40\" x=\"185\" y=\"100.1387\">«part»</text><text fill=\"#000000\" font-family=\"sans-serif\" font-size=\"12\" lengthAdjust=\"spacingAndGlyphs\" textLength=\"22\" x=\"194\" y=\"114.1074\">x: A</text><line style=\"stroke: #383838; stroke-width: 1.5;\" x1=\"185\" x2=\"225\" y1=\"121.9375\" y2=\"121.9375\"/></a><!--MD5=[b9389687b975829384b498ac4b7476b2]\n",
       "class E8--><a href=\"psysml:f43ee61a-1d92-4bcd-a6ef-463238303c09\" target=\"_top\" title=\"psysml:f43ee61a-1d92-4bcd-a6ef-463238303c09\" xlink:actuate=\"onRequest\" xlink:href=\"psysml:f43ee61a-1d92-4bcd-a6ef-463238303c09\" xlink:show=\"new\" xlink:title=\"psysml:f43ee61a-1d92-4bcd-a6ef-463238303c09\" xlink:type=\"simple\"><rect fill=\"#FFFFFF\" height=\"45.9375\" id=\"E8\" rx=\"10\" ry=\"10\" style=\"stroke: #383838; stroke-width: 1.5;\" width=\"42\" x=\"107\" y=\"84\"/><text fill=\"#000000\" font-family=\"sans-serif\" font-size=\"12\" font-style=\"italic\" lengthAdjust=\"spacingAndGlyphs\" textLength=\"40\" x=\"108\" y=\"100.1387\">«part»</text><text fill=\"#000000\" font-family=\"sans-serif\" font-size=\"12\" lengthAdjust=\"spacingAndGlyphs\" textLength=\"21\" x=\"117.5\" y=\"114.1074\">z: B</text><line style=\"stroke: #383838; stroke-width: 1.5;\" x1=\"108\" x2=\"148\" y1=\"121.9375\" y2=\"121.9375\"/></a><!--MD5=[09b614a08d8cba4a07c9adeb5e0fee81]\n",
       "class E3--><a href=\"psysml:c33e3566-7ac4-4487-b3df-3cd0148aac2a\" target=\"_top\" title=\"psysml:c33e3566-7ac4-4487-b3df-3cd0148aac2a\" xlink:actuate=\"onRequest\" xlink:href=\"psysml:c33e3566-7ac4-4487-b3df-3cd0148aac2a\" xlink:show=\"new\" xlink:title=\"psysml:c33e3566-7ac4-4487-b3df-3cd0148aac2a\" xlink:type=\"simple\"><rect fill=\"#FFFFFF\" height=\"45.9375\" id=\"E3\" style=\"stroke: #383838; stroke-width: 1.5;\" width=\"66\" x=\"227\" y=\"205\"/><text fill=\"#000000\" font-family=\"sans-serif\" font-size=\"12\" font-style=\"italic\" lengthAdjust=\"spacingAndGlyphs\" textLength=\"64\" x=\"228\" y=\"221.1387\">«part def»</text><text fill=\"#000000\" font-family=\"sans-serif\" font-size=\"12\" lengthAdjust=\"spacingAndGlyphs\" textLength=\"8\" x=\"256\" y=\"235.1074\">A</text><line style=\"stroke: #383838; stroke-width: 1.5;\" x1=\"228\" x2=\"292\" y1=\"242.9375\" y2=\"242.9375\"/></a><a href=\"psysml:b9d82d12-80d8-4b65-b32b-0d4caf256cd7\" target=\"_top\" title=\"psysml:b9d82d12-80d8-4b65-b32b-0d4caf256cd7\" xlink:actuate=\"onRequest\" xlink:href=\"psysml:b9d82d12-80d8-4b65-b32b-0d4caf256cd7\" xlink:show=\"new\" xlink:title=\"psysml:b9d82d12-80d8-4b65-b32b-0d4caf256cd7\" xlink:type=\"simple\"><polygon fill=\"#FFFFFF\" points=\"32,80.5,58,80.5,65,102.7969,72,102.7969,72,133.0938,32,133.0938,32,80.5\" style=\"stroke: #000000; stroke-width: 1.5;\"/><line style=\"stroke: #000000; stroke-width: 1.5;\" x1=\"32\" x2=\"65\" y1=\"102.7969\" y2=\"102.7969\"/><text fill=\"#000000\" font-family=\"sans-serif\" font-size=\"14\" font-weight=\"bold\" lengthAdjust=\"spacingAndGlyphs\" textLength=\"20\" x=\"36\" y=\"95.4951\">P2</text></a><!--MD5=[2156ba9850f5573cc1fc38a6a4b2f02b]\n",
       "class E7--><a href=\"psysml:70818b0d-1657-43d7-b586-0302676d35dd\" target=\"_top\" title=\"psysml:70818b0d-1657-43d7-b586-0302676d35dd\" xlink:actuate=\"onRequest\" xlink:href=\"psysml:70818b0d-1657-43d7-b586-0302676d35dd\" xlink:show=\"new\" xlink:title=\"psysml:70818b0d-1657-43d7-b586-0302676d35dd\" xlink:type=\"simple\"><rect fill=\"#FFFFFF\" height=\"45.9375\" id=\"E7\" style=\"stroke: #383838; stroke-width: 1.5;\" width=\"66\" x=\"95\" y=\"205\"/><text fill=\"#000000\" font-family=\"sans-serif\" font-size=\"12\" font-style=\"italic\" lengthAdjust=\"spacingAndGlyphs\" textLength=\"64\" x=\"96\" y=\"221.1387\">«part def»</text><text fill=\"#000000\" font-family=\"sans-serif\" font-size=\"12\" lengthAdjust=\"spacingAndGlyphs\" textLength=\"8\" x=\"124\" y=\"235.1074\">B</text><line style=\"stroke: #383838; stroke-width: 1.5;\" x1=\"96\" x2=\"160\" y1=\"242.9375\" y2=\"242.9375\"/></a><!--MD5=[96f4274e9e20536e775497830990834d]\n",
       "class E10--><a href=\"psysml:e183bef4-e50f-4a79-aea2-e72f91ae33b1\" target=\"_top\" title=\"psysml:e183bef4-e50f-4a79-aea2-e72f91ae33b1\" xlink:actuate=\"onRequest\" xlink:href=\"psysml:e183bef4-e50f-4a79-aea2-e72f91ae33b1\" xlink:show=\"new\" xlink:title=\"psysml:e183bef4-e50f-4a79-aea2-e72f91ae33b1\" xlink:type=\"simple\"><rect fill=\"#FFFFFF\" height=\"45.9375\" id=\"E10\" rx=\"10\" ry=\"10\" style=\"stroke: #383838; stroke-width: 1.5;\" width=\"42\" x=\"261\" y=\"84\"/><text fill=\"#000000\" font-family=\"sans-serif\" font-size=\"12\" font-style=\"italic\" lengthAdjust=\"spacingAndGlyphs\" textLength=\"40\" x=\"262\" y=\"100.1387\">«part»</text><text fill=\"#000000\" font-family=\"sans-serif\" font-size=\"12\" lengthAdjust=\"spacingAndGlyphs\" textLength=\"29\" x=\"267.5\" y=\"114.1074\">z1: A</text><line style=\"stroke: #383838; stroke-width: 1.5;\" x1=\"262\" x2=\"302\" y1=\"121.9375\" y2=\"121.9375\"/></a><!--MD5=[e9be52314489bd878ff4c7144b63c9e1]\n",
       "link E5 to E3--><a href=\"psysml:f8be15bd-6ead-4f94-a81d-297834d3bff2\" target=\"_top\" title=\"psysml:f8be15bd-6ead-4f94-a81d-297834d3bff2\" xlink:actuate=\"onRequest\" xlink:href=\"psysml:f8be15bd-6ead-4f94-a81d-297834d3bff2\" xlink:show=\"new\" xlink:title=\"psysml:f8be15bd-6ead-4f94-a81d-297834d3bff2\" xlink:type=\"simple\"><path d=\"M215.22,130.1 C222.5,145.87 232.51,167.52 241.22,186.36 \" fill=\"none\" id=\"E5-&gt;E3\" style=\"stroke: #383838; stroke-width: 1.0;\"/><polygon fill=\"#FFFFFF\" points=\"249.65,204.61,235.3286,190.2958,248.0386,184.4258,249.65,204.61\" style=\"stroke: #383838; stroke-width: 1.0;\"/><ellipse cx=\"234.7544\" cy=\"184.2824\" fill=\"#383838\" rx=\"2\" ry=\"2\" style=\"stroke: #383838; stroke-width: 1.0;\"/><ellipse cx=\"243.8329\" cy=\"180.0896\" fill=\"#383838\" rx=\"2\" ry=\"2\" style=\"stroke: #383838; stroke-width: 1.0;\"/></a><!--MD5=[bfa3c8b0d15052fdf50ae9310b491027]\n",
       "link E8 to E7--><a href=\"psysml:2890fdf6-d136-470e-95db-a042243a6f10\" target=\"_top\" title=\"psysml:2890fdf6-d136-470e-95db-a042243a6f10\" xlink:actuate=\"onRequest\" xlink:href=\"psysml:2890fdf6-d136-470e-95db-a042243a6f10\" xlink:show=\"new\" xlink:title=\"psysml:2890fdf6-d136-470e-95db-a042243a6f10\" xlink:type=\"simple\"><path d=\"M128,130.1 C128,145.37 128,166.16 128,184.57 \" fill=\"none\" id=\"E8-&gt;E7\" style=\"stroke: #383838; stroke-width: 1.0;\"/><polygon fill=\"#FFFFFF\" points=\"128,204.61,121,185.61,135,185.61,128,204.61\" style=\"stroke: #383838; stroke-width: 1.0;\"/><ellipse cx=\"123\" cy=\"179.91\" fill=\"#383838\" rx=\"2\" ry=\"2\" style=\"stroke: #383838; stroke-width: 1.0;\"/><ellipse cx=\"133\" cy=\"179.91\" fill=\"#383838\" rx=\"2\" ry=\"2\" style=\"stroke: #383838; stroke-width: 1.0;\"/></a><!--MD5=[feeac5eb423634930294aa81f2d25a4c]\n",
       "link E10 to E3--><a href=\"psysml:25a6672d-e3f3-453e-a929-7fba59fa68e7\" target=\"_top\" title=\"psysml:25a6672d-e3f3-453e-a929-7fba59fa68e7\" xlink:actuate=\"onRequest\" xlink:href=\"psysml:25a6672d-e3f3-453e-a929-7fba59fa68e7\" xlink:show=\"new\" xlink:title=\"psysml:25a6672d-e3f3-453e-a929-7fba59fa68e7\" xlink:type=\"simple\"><path d=\"M277.91,130.1 C275.08,145.45 271.21,166.39 267.79,184.87 \" fill=\"none\" id=\"E10-&gt;E3\" style=\"stroke: #383838; stroke-width: 1.0;\"/><polygon fill=\"#FFFFFF\" points=\"264.14,204.61,260.7167,184.653,274.4827,187.2023,264.14,204.61\" style=\"stroke: #383838; stroke-width: 1.0;\"/><ellipse cx=\"263.7212\" cy=\"179.4125\" fill=\"#383838\" rx=\"2\" ry=\"2\" style=\"stroke: #383838; stroke-width: 1.0;\"/><ellipse cx=\"273.554\" cy=\"181.2334\" fill=\"#383838\" rx=\"2\" ry=\"2\" style=\"stroke: #383838; stroke-width: 1.0;\"/></a><!--MD5=[f1911209aecbe71e4791eb911785299c]\n",
       "@startuml\r\n",
       "skinparam monochrome true\r\n",
       "skinparam classbackgroundcolor white\r\n",
       "skinparam shadowing false\r\n",
       "skinparam wrapWidth 300\r\n",
       "hide circle\r\n",
       "\r\n",
       "package \"PrivateImportTest\" as E1  [[psysml:90f2a1bf-87a7-47cf-b7dc-49b41c6fd8e7 ]]  {\r\n",
       "package \"P1\" as E2  [[psysml:16275eaf-61bd-4171-b64d-9c4aa1fed5b3 ]]  {\r\n",
       "comp def \"A\" as E3  <<(T,blue) part def>> [[psysml:c33e3566-7ac4-4487-b3df-3cd0148aac2a ]] {\r\n",
       "}\r\n",
       "}\r\n",
       "package \"P2\" as E4  [[psysml:b9d82d12-80d8-4b65-b32b-0d4caf256cd7 ]]  {\r\n",
       "}\r\n",
       "comp usage \"x: A\" as E5  <<(T,blue) part>> [[psysml:0c75b404-ec52-4836-8cbb-5da98c4a5930 ]] {\r\n",
       "}\r\n",
       "package \"P3\" as E6  [[psysml:9d4f5989-8a3e-4397-a866-52670c662db3 ]]  {\r\n",
       "comp def \"B\" as E7  <<(T,blue) part def>> [[psysml:70818b0d-1657-43d7-b586-0302676d35dd ]] {\r\n",
       "}\r\n",
       "E5 - -:|> E3 [[psysml:f8be15bd-6ead-4f94-a81d-297834d3bff2 ]] \r\n",
       "}\r\n",
       "comp usage \"z: B\" as E8  <<(T,blue) part>> [[psysml:f43ee61a-1d92-4bcd-a6ef-463238303c09 ]] {\r\n",
       "}\r\n",
       "package \"P4\" as E9  [[psysml:5979dd71-75f1-4b72-84ed-7ab4ecfce4b9 ]]  {\r\n",
       "comp usage \"z1: A\" as E10  <<(T,blue) part>> [[psysml:e183bef4-e50f-4a79-aea2-e72f91ae33b1 ]] {\r\n",
       "}\r\n",
       "E8 - -:|> E7 [[psysml:2890fdf6-d136-470e-95db-a042243a6f10 ]] \r\n",
       "E10 - -:|> E3 [[psysml:25a6672d-e3f3-453e-a929-7fba59fa68e7 ]] \r\n",
       "}\r\n",
       "}\r\n",
       "@enduml\r\n",
       "\n",
       "PlantUML version 1.2020.13(Sat Jun 13 12:26:38 UTC 2020)\n",
       "(EPL source distribution)\n",
       "Java Runtime: OpenJDK Runtime Environment\n",
       "JVM: OpenJDK 64-Bit Server VM\n",
       "Default Encoding: UTF-8\n",
       "Language: en\n",
       "Country: null\n",
       "--></g></svg>"
      ]
     },
     "execution_count": 43,
     "metadata": {},
     "output_type": "execute_result"
    }
   ],
   "source": [
    "%viz --style=\"DEFAULT\" --view=\"MIXED\" \"PrivateImportTest\""
   ]
  },
  {
   "cell_type": "code",
   "execution_count": 44,
   "id": "99e36650",
   "metadata": {
    "execution": {
     "iopub.execute_input": "2021-08-04T06:27:57.181749Z",
     "iopub.status.busy": "2021-08-04T06:27:57.181403Z",
     "iopub.status.idle": "2021-08-04T06:27:57.206592Z",
     "shell.execute_reply": "2021-08-04T06:27:57.206391Z"
    }
   },
   "outputs": [
    {
     "data": {
      "image/svg+xml": [
       "<?xml version=\"1.0\" encoding=\"UTF-8\" standalone=\"no\"?><svg xmlns=\"http://www.w3.org/2000/svg\" xmlns:xlink=\"http://www.w3.org/1999/xlink\" contentScriptType=\"application/ecmascript\" contentStyleType=\"text/css\" height=\"303px\" preserveAspectRatio=\"none\" style=\"width:365px;height:303px;\" version=\"1.1\" viewBox=\"0 0 365 303\" width=\"365px\" zoomAndPan=\"magnify\"><defs/><g><!--MD5=[fbc87193dbaf4d95561dea2c320d4a47]\n",
       "cluster E1--><a href=\"psysml:90f2a1bf-87a7-47cf-b7dc-49b41c6fd8e7\" target=\"_top\" title=\"psysml:90f2a1bf-87a7-47cf-b7dc-49b41c6fd8e7\" xlink:actuate=\"onRequest\" xlink:href=\"psysml:90f2a1bf-87a7-47cf-b7dc-49b41c6fd8e7\" xlink:show=\"new\" xlink:title=\"psysml:90f2a1bf-87a7-47cf-b7dc-49b41c6fd8e7\" xlink:type=\"simple\"><polygon fill=\"#FFFFFF\" points=\"16,6,163,6,170,28.2969,343,28.2969,343,291,16,291,16,6\" style=\"stroke: #000000; stroke-width: 1.5;\"/><line style=\"stroke: #000000; stroke-width: 1.5;\" x1=\"16\" x2=\"170\" y1=\"28.2969\" y2=\"28.2969\"/><text fill=\"#000000\" font-family=\"sans-serif\" font-size=\"14\" font-weight=\"bold\" lengthAdjust=\"spacingAndGlyphs\" textLength=\"141\" x=\"20\" y=\"20.9951\">PrivateImportTest</text></a><!--MD5=[e4f7fae6ed58524ba242bb0b0d3be6b7]\n",
       "cluster E2--><a href=\"psysml:16275eaf-61bd-4171-b64d-9c4aa1fed5b3\" target=\"_top\" title=\"psysml:16275eaf-61bd-4171-b64d-9c4aa1fed5b3\" xlink:actuate=\"onRequest\" xlink:href=\"psysml:16275eaf-61bd-4171-b64d-9c4aa1fed5b3\" xlink:show=\"new\" xlink:title=\"psysml:16275eaf-61bd-4171-b64d-9c4aa1fed5b3\" xlink:type=\"simple\"><polygon fill=\"#FFFFFF\" points=\"211,170,237,170,244,192.2969,309,192.2969,309,267,211,267,211,170\" style=\"stroke: #000000; stroke-width: 1.5;\"/><line style=\"stroke: #000000; stroke-width: 1.5;\" x1=\"211\" x2=\"244\" y1=\"192.2969\" y2=\"192.2969\"/><text fill=\"#000000\" font-family=\"sans-serif\" font-size=\"14\" font-weight=\"bold\" lengthAdjust=\"spacingAndGlyphs\" textLength=\"20\" x=\"215\" y=\"184.9951\">P1</text></a><!--MD5=[14e3b0961a2654348d326746436168a1]\n",
       "cluster E6--><a href=\"psysml:9d4f5989-8a3e-4397-a866-52670c662db3\" target=\"_top\" title=\"psysml:9d4f5989-8a3e-4397-a866-52670c662db3\" xlink:actuate=\"onRequest\" xlink:href=\"psysml:9d4f5989-8a3e-4397-a866-52670c662db3\" xlink:show=\"new\" xlink:title=\"psysml:9d4f5989-8a3e-4397-a866-52670c662db3\" xlink:type=\"simple\"><polygon fill=\"#FFFFFF\" points=\"79,170,105,170,112,192.2969,177,192.2969,177,267,79,267,79,170\" style=\"stroke: #000000; stroke-width: 1.5;\"/><line style=\"stroke: #000000; stroke-width: 1.5;\" x1=\"79\" x2=\"112\" y1=\"192.2969\" y2=\"192.2969\"/><text fill=\"#000000\" font-family=\"sans-serif\" font-size=\"14\" font-weight=\"bold\" lengthAdjust=\"spacingAndGlyphs\" textLength=\"20\" x=\"83\" y=\"184.9951\">P3</text></a><!--MD5=[7f149f147074ac12df2cb0a7728a5fb0]\n",
       "cluster E9--><a href=\"psysml:5979dd71-75f1-4b72-84ed-7ab4ecfce4b9\" target=\"_top\" title=\"psysml:5979dd71-75f1-4b72-84ed-7ab4ecfce4b9\" xlink:actuate=\"onRequest\" xlink:href=\"psysml:5979dd71-75f1-4b72-84ed-7ab4ecfce4b9\" xlink:show=\"new\" xlink:title=\"psysml:5979dd71-75f1-4b72-84ed-7ab4ecfce4b9\" xlink:type=\"simple\"><polygon fill=\"#FFFFFF\" points=\"245,49,271,49,278,71.2969,319,71.2969,319,146,245,146,245,49\" style=\"stroke: #000000; stroke-width: 1.5;\"/><line style=\"stroke: #000000; stroke-width: 1.5;\" x1=\"245\" x2=\"278\" y1=\"71.2969\" y2=\"71.2969\"/><text fill=\"#000000\" font-family=\"sans-serif\" font-size=\"14\" font-weight=\"bold\" lengthAdjust=\"spacingAndGlyphs\" textLength=\"20\" x=\"249\" y=\"63.9951\">P4</text></a><!--MD5=[270fce915f116d4de14055a7c1d9a0f3]\n",
       "class E5--><a href=\"psysml:0c75b404-ec52-4836-8cbb-5da98c4a5930\" target=\"_top\" title=\"psysml:0c75b404-ec52-4836-8cbb-5da98c4a5930\" xlink:actuate=\"onRequest\" xlink:href=\"psysml:0c75b404-ec52-4836-8cbb-5da98c4a5930\" xlink:show=\"new\" xlink:title=\"psysml:0c75b404-ec52-4836-8cbb-5da98c4a5930\" xlink:type=\"simple\"><rect fill=\"#FFFFFF\" height=\"45.9375\" id=\"E5\" rx=\"10\" ry=\"10\" style=\"stroke: #383838; stroke-width: 1.5;\" width=\"42\" x=\"184\" y=\"84\"/><text fill=\"#000000\" font-family=\"sans-serif\" font-size=\"12\" font-style=\"italic\" lengthAdjust=\"spacingAndGlyphs\" textLength=\"40\" x=\"185\" y=\"100.1387\">«part»</text><text fill=\"#000000\" font-family=\"sans-serif\" font-size=\"12\" lengthAdjust=\"spacingAndGlyphs\" textLength=\"22\" x=\"194\" y=\"114.1074\">x: A</text><line style=\"stroke: #383838; stroke-width: 1.5;\" x1=\"185\" x2=\"225\" y1=\"121.9375\" y2=\"121.9375\"/></a><!--MD5=[b9389687b975829384b498ac4b7476b2]\n",
       "class E8--><a href=\"psysml:f43ee61a-1d92-4bcd-a6ef-463238303c09\" target=\"_top\" title=\"psysml:f43ee61a-1d92-4bcd-a6ef-463238303c09\" xlink:actuate=\"onRequest\" xlink:href=\"psysml:f43ee61a-1d92-4bcd-a6ef-463238303c09\" xlink:show=\"new\" xlink:title=\"psysml:f43ee61a-1d92-4bcd-a6ef-463238303c09\" xlink:type=\"simple\"><rect fill=\"#FFFFFF\" height=\"45.9375\" id=\"E8\" rx=\"10\" ry=\"10\" style=\"stroke: #383838; stroke-width: 1.5;\" width=\"42\" x=\"107\" y=\"84\"/><text fill=\"#000000\" font-family=\"sans-serif\" font-size=\"12\" font-style=\"italic\" lengthAdjust=\"spacingAndGlyphs\" textLength=\"40\" x=\"108\" y=\"100.1387\">«part»</text><text fill=\"#000000\" font-family=\"sans-serif\" font-size=\"12\" lengthAdjust=\"spacingAndGlyphs\" textLength=\"21\" x=\"117.5\" y=\"114.1074\">z: B</text><line style=\"stroke: #383838; stroke-width: 1.5;\" x1=\"108\" x2=\"148\" y1=\"121.9375\" y2=\"121.9375\"/></a><!--MD5=[09b614a08d8cba4a07c9adeb5e0fee81]\n",
       "class E3--><a href=\"psysml:c33e3566-7ac4-4487-b3df-3cd0148aac2a\" target=\"_top\" title=\"psysml:c33e3566-7ac4-4487-b3df-3cd0148aac2a\" xlink:actuate=\"onRequest\" xlink:href=\"psysml:c33e3566-7ac4-4487-b3df-3cd0148aac2a\" xlink:show=\"new\" xlink:title=\"psysml:c33e3566-7ac4-4487-b3df-3cd0148aac2a\" xlink:type=\"simple\"><rect fill=\"#FFFFFF\" height=\"45.9375\" id=\"E3\" style=\"stroke: #383838; stroke-width: 1.5;\" width=\"66\" x=\"227\" y=\"205\"/><text fill=\"#000000\" font-family=\"sans-serif\" font-size=\"12\" font-style=\"italic\" lengthAdjust=\"spacingAndGlyphs\" textLength=\"64\" x=\"228\" y=\"221.1387\">«part def»</text><text fill=\"#000000\" font-family=\"sans-serif\" font-size=\"12\" lengthAdjust=\"spacingAndGlyphs\" textLength=\"8\" x=\"256\" y=\"235.1074\">A</text><line style=\"stroke: #383838; stroke-width: 1.5;\" x1=\"228\" x2=\"292\" y1=\"242.9375\" y2=\"242.9375\"/></a><a href=\"psysml:b9d82d12-80d8-4b65-b32b-0d4caf256cd7\" target=\"_top\" title=\"psysml:b9d82d12-80d8-4b65-b32b-0d4caf256cd7\" xlink:actuate=\"onRequest\" xlink:href=\"psysml:b9d82d12-80d8-4b65-b32b-0d4caf256cd7\" xlink:show=\"new\" xlink:title=\"psysml:b9d82d12-80d8-4b65-b32b-0d4caf256cd7\" xlink:type=\"simple\"><polygon fill=\"#FFFFFF\" points=\"32,80.5,58,80.5,65,102.7969,72,102.7969,72,133.0938,32,133.0938,32,80.5\" style=\"stroke: #000000; stroke-width: 1.5;\"/><line style=\"stroke: #000000; stroke-width: 1.5;\" x1=\"32\" x2=\"65\" y1=\"102.7969\" y2=\"102.7969\"/><text fill=\"#000000\" font-family=\"sans-serif\" font-size=\"14\" font-weight=\"bold\" lengthAdjust=\"spacingAndGlyphs\" textLength=\"20\" x=\"36\" y=\"95.4951\">P2</text></a><!--MD5=[2156ba9850f5573cc1fc38a6a4b2f02b]\n",
       "class E7--><a href=\"psysml:70818b0d-1657-43d7-b586-0302676d35dd\" target=\"_top\" title=\"psysml:70818b0d-1657-43d7-b586-0302676d35dd\" xlink:actuate=\"onRequest\" xlink:href=\"psysml:70818b0d-1657-43d7-b586-0302676d35dd\" xlink:show=\"new\" xlink:title=\"psysml:70818b0d-1657-43d7-b586-0302676d35dd\" xlink:type=\"simple\"><rect fill=\"#FFFFFF\" height=\"45.9375\" id=\"E7\" style=\"stroke: #383838; stroke-width: 1.5;\" width=\"66\" x=\"95\" y=\"205\"/><text fill=\"#000000\" font-family=\"sans-serif\" font-size=\"12\" font-style=\"italic\" lengthAdjust=\"spacingAndGlyphs\" textLength=\"64\" x=\"96\" y=\"221.1387\">«part def»</text><text fill=\"#000000\" font-family=\"sans-serif\" font-size=\"12\" lengthAdjust=\"spacingAndGlyphs\" textLength=\"8\" x=\"124\" y=\"235.1074\">B</text><line style=\"stroke: #383838; stroke-width: 1.5;\" x1=\"96\" x2=\"160\" y1=\"242.9375\" y2=\"242.9375\"/></a><!--MD5=[96f4274e9e20536e775497830990834d]\n",
       "class E10--><a href=\"psysml:e183bef4-e50f-4a79-aea2-e72f91ae33b1\" target=\"_top\" title=\"psysml:e183bef4-e50f-4a79-aea2-e72f91ae33b1\" xlink:actuate=\"onRequest\" xlink:href=\"psysml:e183bef4-e50f-4a79-aea2-e72f91ae33b1\" xlink:show=\"new\" xlink:title=\"psysml:e183bef4-e50f-4a79-aea2-e72f91ae33b1\" xlink:type=\"simple\"><rect fill=\"#FFFFFF\" height=\"45.9375\" id=\"E10\" rx=\"10\" ry=\"10\" style=\"stroke: #383838; stroke-width: 1.5;\" width=\"42\" x=\"261\" y=\"84\"/><text fill=\"#000000\" font-family=\"sans-serif\" font-size=\"12\" font-style=\"italic\" lengthAdjust=\"spacingAndGlyphs\" textLength=\"40\" x=\"262\" y=\"100.1387\">«part»</text><text fill=\"#000000\" font-family=\"sans-serif\" font-size=\"12\" lengthAdjust=\"spacingAndGlyphs\" textLength=\"29\" x=\"267.5\" y=\"114.1074\">z1: A</text><line style=\"stroke: #383838; stroke-width: 1.5;\" x1=\"262\" x2=\"302\" y1=\"121.9375\" y2=\"121.9375\"/></a><!--MD5=[e9be52314489bd878ff4c7144b63c9e1]\n",
       "link E5 to E3--><a href=\"psysml:f8be15bd-6ead-4f94-a81d-297834d3bff2\" target=\"_top\" title=\"psysml:f8be15bd-6ead-4f94-a81d-297834d3bff2\" xlink:actuate=\"onRequest\" xlink:href=\"psysml:f8be15bd-6ead-4f94-a81d-297834d3bff2\" xlink:show=\"new\" xlink:title=\"psysml:f8be15bd-6ead-4f94-a81d-297834d3bff2\" xlink:type=\"simple\"><path d=\"M215.22,130.1 C222.5,145.87 232.51,167.52 241.22,186.36 \" fill=\"none\" id=\"E5-&gt;E3\" style=\"stroke: #383838; stroke-width: 1.0;\"/><polygon fill=\"#FFFFFF\" points=\"249.65,204.61,235.3286,190.2958,248.0386,184.4258,249.65,204.61\" style=\"stroke: #383838; stroke-width: 1.0;\"/><ellipse cx=\"234.7544\" cy=\"184.2824\" fill=\"#383838\" rx=\"2\" ry=\"2\" style=\"stroke: #383838; stroke-width: 1.0;\"/><ellipse cx=\"243.8329\" cy=\"180.0896\" fill=\"#383838\" rx=\"2\" ry=\"2\" style=\"stroke: #383838; stroke-width: 1.0;\"/></a><!--MD5=[bfa3c8b0d15052fdf50ae9310b491027]\n",
       "link E8 to E7--><a href=\"psysml:2890fdf6-d136-470e-95db-a042243a6f10\" target=\"_top\" title=\"psysml:2890fdf6-d136-470e-95db-a042243a6f10\" xlink:actuate=\"onRequest\" xlink:href=\"psysml:2890fdf6-d136-470e-95db-a042243a6f10\" xlink:show=\"new\" xlink:title=\"psysml:2890fdf6-d136-470e-95db-a042243a6f10\" xlink:type=\"simple\"><path d=\"M128,130.1 C128,145.37 128,166.16 128,184.57 \" fill=\"none\" id=\"E8-&gt;E7\" style=\"stroke: #383838; stroke-width: 1.0;\"/><polygon fill=\"#FFFFFF\" points=\"128,204.61,121,185.61,135,185.61,128,204.61\" style=\"stroke: #383838; stroke-width: 1.0;\"/><ellipse cx=\"123\" cy=\"179.91\" fill=\"#383838\" rx=\"2\" ry=\"2\" style=\"stroke: #383838; stroke-width: 1.0;\"/><ellipse cx=\"133\" cy=\"179.91\" fill=\"#383838\" rx=\"2\" ry=\"2\" style=\"stroke: #383838; stroke-width: 1.0;\"/></a><!--MD5=[feeac5eb423634930294aa81f2d25a4c]\n",
       "link E10 to E3--><a href=\"psysml:25a6672d-e3f3-453e-a929-7fba59fa68e7\" target=\"_top\" title=\"psysml:25a6672d-e3f3-453e-a929-7fba59fa68e7\" xlink:actuate=\"onRequest\" xlink:href=\"psysml:25a6672d-e3f3-453e-a929-7fba59fa68e7\" xlink:show=\"new\" xlink:title=\"psysml:25a6672d-e3f3-453e-a929-7fba59fa68e7\" xlink:type=\"simple\"><path d=\"M277.91,130.1 C275.08,145.45 271.21,166.39 267.79,184.87 \" fill=\"none\" id=\"E10-&gt;E3\" style=\"stroke: #383838; stroke-width: 1.0;\"/><polygon fill=\"#FFFFFF\" points=\"264.14,204.61,260.7167,184.653,274.4827,187.2023,264.14,204.61\" style=\"stroke: #383838; stroke-width: 1.0;\"/><ellipse cx=\"263.7212\" cy=\"179.4125\" fill=\"#383838\" rx=\"2\" ry=\"2\" style=\"stroke: #383838; stroke-width: 1.0;\"/><ellipse cx=\"273.554\" cy=\"181.2334\" fill=\"#383838\" rx=\"2\" ry=\"2\" style=\"stroke: #383838; stroke-width: 1.0;\"/></a><!--MD5=[7578bd66860126bf9cab6dfa4c456f42]\n",
       "@startuml\r\n",
       "top to bottom direction\r\n",
       "skinparam monochrome true\r\n",
       "skinparam classbackgroundcolor white\r\n",
       "skinparam shadowing false\r\n",
       "skinparam wrapWidth 300\r\n",
       "hide circle\r\n",
       "\r\n",
       "package \"PrivateImportTest\" as E1  [[psysml:90f2a1bf-87a7-47cf-b7dc-49b41c6fd8e7 ]]  {\r\n",
       "package \"P1\" as E2  [[psysml:16275eaf-61bd-4171-b64d-9c4aa1fed5b3 ]]  {\r\n",
       "comp def \"A\" as E3  <<(T,blue) part def>> [[psysml:c33e3566-7ac4-4487-b3df-3cd0148aac2a ]] {\r\n",
       "}\r\n",
       "}\r\n",
       "package \"P2\" as E4  [[psysml:b9d82d12-80d8-4b65-b32b-0d4caf256cd7 ]]  {\r\n",
       "}\r\n",
       "comp usage \"x: A\" as E5  <<(T,blue) part>> [[psysml:0c75b404-ec52-4836-8cbb-5da98c4a5930 ]] {\r\n",
       "}\r\n",
       "package \"P3\" as E6  [[psysml:9d4f5989-8a3e-4397-a866-52670c662db3 ]]  {\r\n",
       "comp def \"B\" as E7  <<(T,blue) part def>> [[psysml:70818b0d-1657-43d7-b586-0302676d35dd ]] {\r\n",
       "}\r\n",
       "E5 - -:|> E3 [[psysml:f8be15bd-6ead-4f94-a81d-297834d3bff2 ]] \r\n",
       "}\r\n",
       "comp usage \"z: B\" as E8  <<(T,blue) part>> [[psysml:f43ee61a-1d92-4bcd-a6ef-463238303c09 ]] {\r\n",
       "}\r\n",
       "package \"P4\" as E9  [[psysml:5979dd71-75f1-4b72-84ed-7ab4ecfce4b9 ]]  {\r\n",
       "comp usage \"z1: A\" as E10  <<(T,blue) part>> [[psysml:e183bef4-e50f-4a79-aea2-e72f91ae33b1 ]] {\r\n",
       "}\r\n",
       "E8 - -:|> E7 [[psysml:2890fdf6-d136-470e-95db-a042243a6f10 ]] \r\n",
       "E10 - -:|> E3 [[psysml:25a6672d-e3f3-453e-a929-7fba59fa68e7 ]] \r\n",
       "}\r\n",
       "}\r\n",
       "@enduml\r\n",
       "\n",
       "PlantUML version 1.2020.13(Sat Jun 13 12:26:38 UTC 2020)\n",
       "(EPL source distribution)\n",
       "Java Runtime: OpenJDK Runtime Environment\n",
       "JVM: OpenJDK 64-Bit Server VM\n",
       "Default Encoding: UTF-8\n",
       "Language: en\n",
       "Country: null\n",
       "--></g></svg>"
      ]
     },
     "execution_count": 44,
     "metadata": {},
     "output_type": "execute_result"
    }
   ],
   "source": [
    "%viz --style=\"TB\" --view=\"Default\" \"PrivateImportTest\""
   ]
  },
  {
   "cell_type": "code",
   "execution_count": 45,
   "id": "9cc000b1",
   "metadata": {
    "execution": {
     "iopub.execute_input": "2021-08-04T06:27:57.256607Z",
     "iopub.status.busy": "2021-08-04T06:27:57.256391Z",
     "iopub.status.idle": "2021-08-04T06:27:57.286213Z",
     "shell.execute_reply": "2021-08-04T06:27:57.286013Z"
    }
   },
   "outputs": [
    {
     "data": {
      "image/svg+xml": [
       "<?xml version=\"1.0\" encoding=\"UTF-8\" standalone=\"no\"?><svg xmlns=\"http://www.w3.org/2000/svg\" xmlns:xlink=\"http://www.w3.org/1999/xlink\" contentScriptType=\"application/ecmascript\" contentStyleType=\"text/css\" height=\"303px\" preserveAspectRatio=\"none\" style=\"width:365px;height:303px;\" version=\"1.1\" viewBox=\"0 0 365 303\" width=\"365px\" zoomAndPan=\"magnify\"><defs/><g><!--MD5=[fbc87193dbaf4d95561dea2c320d4a47]\n",
       "cluster E1--><a href=\"psysml:90f2a1bf-87a7-47cf-b7dc-49b41c6fd8e7\" target=\"_top\" title=\"psysml:90f2a1bf-87a7-47cf-b7dc-49b41c6fd8e7\" xlink:actuate=\"onRequest\" xlink:href=\"psysml:90f2a1bf-87a7-47cf-b7dc-49b41c6fd8e7\" xlink:show=\"new\" xlink:title=\"psysml:90f2a1bf-87a7-47cf-b7dc-49b41c6fd8e7\" xlink:type=\"simple\"><polygon fill=\"#FFFFFF\" points=\"16,6,163,6,170,28.2969,343,28.2969,343,291,16,291,16,6\" style=\"stroke: #000000; stroke-width: 1.5;\"/><line style=\"stroke: #000000; stroke-width: 1.5;\" x1=\"16\" x2=\"170\" y1=\"28.2969\" y2=\"28.2969\"/><text fill=\"#000000\" font-family=\"sans-serif\" font-size=\"14\" font-weight=\"bold\" lengthAdjust=\"spacingAndGlyphs\" textLength=\"141\" x=\"20\" y=\"20.9951\">PrivateImportTest</text></a><!--MD5=[e4f7fae6ed58524ba242bb0b0d3be6b7]\n",
       "cluster E2--><a href=\"psysml:16275eaf-61bd-4171-b64d-9c4aa1fed5b3\" target=\"_top\" title=\"psysml:16275eaf-61bd-4171-b64d-9c4aa1fed5b3\" xlink:actuate=\"onRequest\" xlink:href=\"psysml:16275eaf-61bd-4171-b64d-9c4aa1fed5b3\" xlink:show=\"new\" xlink:title=\"psysml:16275eaf-61bd-4171-b64d-9c4aa1fed5b3\" xlink:type=\"simple\"><polygon fill=\"#FFFFFF\" points=\"211,170,237,170,244,192.2969,309,192.2969,309,267,211,267,211,170\" style=\"stroke: #000000; stroke-width: 1.5;\"/><line style=\"stroke: #000000; stroke-width: 1.5;\" x1=\"211\" x2=\"244\" y1=\"192.2969\" y2=\"192.2969\"/><text fill=\"#000000\" font-family=\"sans-serif\" font-size=\"14\" font-weight=\"bold\" lengthAdjust=\"spacingAndGlyphs\" textLength=\"20\" x=\"215\" y=\"184.9951\">P1</text></a><!--MD5=[14e3b0961a2654348d326746436168a1]\n",
       "cluster E6--><a href=\"psysml:9d4f5989-8a3e-4397-a866-52670c662db3\" target=\"_top\" title=\"psysml:9d4f5989-8a3e-4397-a866-52670c662db3\" xlink:actuate=\"onRequest\" xlink:href=\"psysml:9d4f5989-8a3e-4397-a866-52670c662db3\" xlink:show=\"new\" xlink:title=\"psysml:9d4f5989-8a3e-4397-a866-52670c662db3\" xlink:type=\"simple\"><polygon fill=\"#FFFFFF\" points=\"79,170,105,170,112,192.2969,177,192.2969,177,267,79,267,79,170\" style=\"stroke: #000000; stroke-width: 1.5;\"/><line style=\"stroke: #000000; stroke-width: 1.5;\" x1=\"79\" x2=\"112\" y1=\"192.2969\" y2=\"192.2969\"/><text fill=\"#000000\" font-family=\"sans-serif\" font-size=\"14\" font-weight=\"bold\" lengthAdjust=\"spacingAndGlyphs\" textLength=\"20\" x=\"83\" y=\"184.9951\">P3</text></a><!--MD5=[7f149f147074ac12df2cb0a7728a5fb0]\n",
       "cluster E9--><a href=\"psysml:5979dd71-75f1-4b72-84ed-7ab4ecfce4b9\" target=\"_top\" title=\"psysml:5979dd71-75f1-4b72-84ed-7ab4ecfce4b9\" xlink:actuate=\"onRequest\" xlink:href=\"psysml:5979dd71-75f1-4b72-84ed-7ab4ecfce4b9\" xlink:show=\"new\" xlink:title=\"psysml:5979dd71-75f1-4b72-84ed-7ab4ecfce4b9\" xlink:type=\"simple\"><polygon fill=\"#FFFFFF\" points=\"245,49,271,49,278,71.2969,319,71.2969,319,146,245,146,245,49\" style=\"stroke: #000000; stroke-width: 1.5;\"/><line style=\"stroke: #000000; stroke-width: 1.5;\" x1=\"245\" x2=\"278\" y1=\"71.2969\" y2=\"71.2969\"/><text fill=\"#000000\" font-family=\"sans-serif\" font-size=\"14\" font-weight=\"bold\" lengthAdjust=\"spacingAndGlyphs\" textLength=\"20\" x=\"249\" y=\"63.9951\">P4</text></a><!--MD5=[270fce915f116d4de14055a7c1d9a0f3]\n",
       "class E5--><a href=\"psysml:0c75b404-ec52-4836-8cbb-5da98c4a5930\" target=\"_top\" title=\"psysml:0c75b404-ec52-4836-8cbb-5da98c4a5930\" xlink:actuate=\"onRequest\" xlink:href=\"psysml:0c75b404-ec52-4836-8cbb-5da98c4a5930\" xlink:show=\"new\" xlink:title=\"psysml:0c75b404-ec52-4836-8cbb-5da98c4a5930\" xlink:type=\"simple\"><rect fill=\"#FFFFFF\" height=\"45.9375\" id=\"E5\" rx=\"10\" ry=\"10\" style=\"stroke: #383838; stroke-width: 1.5;\" width=\"42\" x=\"184\" y=\"84\"/><text fill=\"#000000\" font-family=\"sans-serif\" font-size=\"12\" font-style=\"italic\" lengthAdjust=\"spacingAndGlyphs\" textLength=\"40\" x=\"185\" y=\"100.1387\">«part»</text><text fill=\"#000000\" font-family=\"sans-serif\" font-size=\"12\" lengthAdjust=\"spacingAndGlyphs\" textLength=\"22\" x=\"194\" y=\"114.1074\">x: A</text><line style=\"stroke: #383838; stroke-width: 1.5;\" x1=\"185\" x2=\"225\" y1=\"121.9375\" y2=\"121.9375\"/></a><!--MD5=[b9389687b975829384b498ac4b7476b2]\n",
       "class E8--><a href=\"psysml:f43ee61a-1d92-4bcd-a6ef-463238303c09\" target=\"_top\" title=\"psysml:f43ee61a-1d92-4bcd-a6ef-463238303c09\" xlink:actuate=\"onRequest\" xlink:href=\"psysml:f43ee61a-1d92-4bcd-a6ef-463238303c09\" xlink:show=\"new\" xlink:title=\"psysml:f43ee61a-1d92-4bcd-a6ef-463238303c09\" xlink:type=\"simple\"><rect fill=\"#FFFFFF\" height=\"45.9375\" id=\"E8\" rx=\"10\" ry=\"10\" style=\"stroke: #383838; stroke-width: 1.5;\" width=\"42\" x=\"107\" y=\"84\"/><text fill=\"#000000\" font-family=\"sans-serif\" font-size=\"12\" font-style=\"italic\" lengthAdjust=\"spacingAndGlyphs\" textLength=\"40\" x=\"108\" y=\"100.1387\">«part»</text><text fill=\"#000000\" font-family=\"sans-serif\" font-size=\"12\" lengthAdjust=\"spacingAndGlyphs\" textLength=\"21\" x=\"117.5\" y=\"114.1074\">z: B</text><line style=\"stroke: #383838; stroke-width: 1.5;\" x1=\"108\" x2=\"148\" y1=\"121.9375\" y2=\"121.9375\"/></a><!--MD5=[09b614a08d8cba4a07c9adeb5e0fee81]\n",
       "class E3--><a href=\"psysml:c33e3566-7ac4-4487-b3df-3cd0148aac2a\" target=\"_top\" title=\"psysml:c33e3566-7ac4-4487-b3df-3cd0148aac2a\" xlink:actuate=\"onRequest\" xlink:href=\"psysml:c33e3566-7ac4-4487-b3df-3cd0148aac2a\" xlink:show=\"new\" xlink:title=\"psysml:c33e3566-7ac4-4487-b3df-3cd0148aac2a\" xlink:type=\"simple\"><rect fill=\"#FFFFFF\" height=\"45.9375\" id=\"E3\" style=\"stroke: #383838; stroke-width: 1.5;\" width=\"66\" x=\"227\" y=\"205\"/><text fill=\"#000000\" font-family=\"sans-serif\" font-size=\"12\" font-style=\"italic\" lengthAdjust=\"spacingAndGlyphs\" textLength=\"64\" x=\"228\" y=\"221.1387\">«part def»</text><text fill=\"#000000\" font-family=\"sans-serif\" font-size=\"12\" lengthAdjust=\"spacingAndGlyphs\" textLength=\"8\" x=\"256\" y=\"235.1074\">A</text><line style=\"stroke: #383838; stroke-width: 1.5;\" x1=\"228\" x2=\"292\" y1=\"242.9375\" y2=\"242.9375\"/></a><a href=\"psysml:b9d82d12-80d8-4b65-b32b-0d4caf256cd7\" target=\"_top\" title=\"psysml:b9d82d12-80d8-4b65-b32b-0d4caf256cd7\" xlink:actuate=\"onRequest\" xlink:href=\"psysml:b9d82d12-80d8-4b65-b32b-0d4caf256cd7\" xlink:show=\"new\" xlink:title=\"psysml:b9d82d12-80d8-4b65-b32b-0d4caf256cd7\" xlink:type=\"simple\"><polygon fill=\"#FFFFFF\" points=\"32,80.5,58,80.5,65,102.7969,72,102.7969,72,133.0938,32,133.0938,32,80.5\" style=\"stroke: #000000; stroke-width: 1.5;\"/><line style=\"stroke: #000000; stroke-width: 1.5;\" x1=\"32\" x2=\"65\" y1=\"102.7969\" y2=\"102.7969\"/><text fill=\"#000000\" font-family=\"sans-serif\" font-size=\"14\" font-weight=\"bold\" lengthAdjust=\"spacingAndGlyphs\" textLength=\"20\" x=\"36\" y=\"95.4951\">P2</text></a><!--MD5=[2156ba9850f5573cc1fc38a6a4b2f02b]\n",
       "class E7--><a href=\"psysml:70818b0d-1657-43d7-b586-0302676d35dd\" target=\"_top\" title=\"psysml:70818b0d-1657-43d7-b586-0302676d35dd\" xlink:actuate=\"onRequest\" xlink:href=\"psysml:70818b0d-1657-43d7-b586-0302676d35dd\" xlink:show=\"new\" xlink:title=\"psysml:70818b0d-1657-43d7-b586-0302676d35dd\" xlink:type=\"simple\"><rect fill=\"#FFFFFF\" height=\"45.9375\" id=\"E7\" style=\"stroke: #383838; stroke-width: 1.5;\" width=\"66\" x=\"95\" y=\"205\"/><text fill=\"#000000\" font-family=\"sans-serif\" font-size=\"12\" font-style=\"italic\" lengthAdjust=\"spacingAndGlyphs\" textLength=\"64\" x=\"96\" y=\"221.1387\">«part def»</text><text fill=\"#000000\" font-family=\"sans-serif\" font-size=\"12\" lengthAdjust=\"spacingAndGlyphs\" textLength=\"8\" x=\"124\" y=\"235.1074\">B</text><line style=\"stroke: #383838; stroke-width: 1.5;\" x1=\"96\" x2=\"160\" y1=\"242.9375\" y2=\"242.9375\"/></a><!--MD5=[96f4274e9e20536e775497830990834d]\n",
       "class E10--><a href=\"psysml:e183bef4-e50f-4a79-aea2-e72f91ae33b1\" target=\"_top\" title=\"psysml:e183bef4-e50f-4a79-aea2-e72f91ae33b1\" xlink:actuate=\"onRequest\" xlink:href=\"psysml:e183bef4-e50f-4a79-aea2-e72f91ae33b1\" xlink:show=\"new\" xlink:title=\"psysml:e183bef4-e50f-4a79-aea2-e72f91ae33b1\" xlink:type=\"simple\"><rect fill=\"#FFFFFF\" height=\"45.9375\" id=\"E10\" rx=\"10\" ry=\"10\" style=\"stroke: #383838; stroke-width: 1.5;\" width=\"42\" x=\"261\" y=\"84\"/><text fill=\"#000000\" font-family=\"sans-serif\" font-size=\"12\" font-style=\"italic\" lengthAdjust=\"spacingAndGlyphs\" textLength=\"40\" x=\"262\" y=\"100.1387\">«part»</text><text fill=\"#000000\" font-family=\"sans-serif\" font-size=\"12\" lengthAdjust=\"spacingAndGlyphs\" textLength=\"29\" x=\"267.5\" y=\"114.1074\">z1: A</text><line style=\"stroke: #383838; stroke-width: 1.5;\" x1=\"262\" x2=\"302\" y1=\"121.9375\" y2=\"121.9375\"/></a><!--MD5=[e9be52314489bd878ff4c7144b63c9e1]\n",
       "link E5 to E3--><a href=\"psysml:f8be15bd-6ead-4f94-a81d-297834d3bff2\" target=\"_top\" title=\"psysml:f8be15bd-6ead-4f94-a81d-297834d3bff2\" xlink:actuate=\"onRequest\" xlink:href=\"psysml:f8be15bd-6ead-4f94-a81d-297834d3bff2\" xlink:show=\"new\" xlink:title=\"psysml:f8be15bd-6ead-4f94-a81d-297834d3bff2\" xlink:type=\"simple\"><path d=\"M215.22,130.1 C222.5,145.87 232.51,167.52 241.22,186.36 \" fill=\"none\" id=\"E5-&gt;E3\" style=\"stroke: #383838; stroke-width: 1.0;\"/><polygon fill=\"#FFFFFF\" points=\"249.65,204.61,235.3286,190.2958,248.0386,184.4258,249.65,204.61\" style=\"stroke: #383838; stroke-width: 1.0;\"/><ellipse cx=\"234.7544\" cy=\"184.2824\" fill=\"#383838\" rx=\"2\" ry=\"2\" style=\"stroke: #383838; stroke-width: 1.0;\"/><ellipse cx=\"243.8329\" cy=\"180.0896\" fill=\"#383838\" rx=\"2\" ry=\"2\" style=\"stroke: #383838; stroke-width: 1.0;\"/></a><!--MD5=[bfa3c8b0d15052fdf50ae9310b491027]\n",
       "link E8 to E7--><a href=\"psysml:2890fdf6-d136-470e-95db-a042243a6f10\" target=\"_top\" title=\"psysml:2890fdf6-d136-470e-95db-a042243a6f10\" xlink:actuate=\"onRequest\" xlink:href=\"psysml:2890fdf6-d136-470e-95db-a042243a6f10\" xlink:show=\"new\" xlink:title=\"psysml:2890fdf6-d136-470e-95db-a042243a6f10\" xlink:type=\"simple\"><path d=\"M128,130.1 C128,145.37 128,166.16 128,184.57 \" fill=\"none\" id=\"E8-&gt;E7\" style=\"stroke: #383838; stroke-width: 1.0;\"/><polygon fill=\"#FFFFFF\" points=\"128,204.61,121,185.61,135,185.61,128,204.61\" style=\"stroke: #383838; stroke-width: 1.0;\"/><ellipse cx=\"123\" cy=\"179.91\" fill=\"#383838\" rx=\"2\" ry=\"2\" style=\"stroke: #383838; stroke-width: 1.0;\"/><ellipse cx=\"133\" cy=\"179.91\" fill=\"#383838\" rx=\"2\" ry=\"2\" style=\"stroke: #383838; stroke-width: 1.0;\"/></a><!--MD5=[feeac5eb423634930294aa81f2d25a4c]\n",
       "link E10 to E3--><a href=\"psysml:25a6672d-e3f3-453e-a929-7fba59fa68e7\" target=\"_top\" title=\"psysml:25a6672d-e3f3-453e-a929-7fba59fa68e7\" xlink:actuate=\"onRequest\" xlink:href=\"psysml:25a6672d-e3f3-453e-a929-7fba59fa68e7\" xlink:show=\"new\" xlink:title=\"psysml:25a6672d-e3f3-453e-a929-7fba59fa68e7\" xlink:type=\"simple\"><path d=\"M277.91,130.1 C275.08,145.45 271.21,166.39 267.79,184.87 \" fill=\"none\" id=\"E10-&gt;E3\" style=\"stroke: #383838; stroke-width: 1.0;\"/><polygon fill=\"#FFFFFF\" points=\"264.14,204.61,260.7167,184.653,274.4827,187.2023,264.14,204.61\" style=\"stroke: #383838; stroke-width: 1.0;\"/><ellipse cx=\"263.7212\" cy=\"179.4125\" fill=\"#383838\" rx=\"2\" ry=\"2\" style=\"stroke: #383838; stroke-width: 1.0;\"/><ellipse cx=\"273.554\" cy=\"181.2334\" fill=\"#383838\" rx=\"2\" ry=\"2\" style=\"stroke: #383838; stroke-width: 1.0;\"/></a><!--MD5=[7578bd66860126bf9cab6dfa4c456f42]\n",
       "@startuml\r\n",
       "top to bottom direction\r\n",
       "skinparam monochrome true\r\n",
       "skinparam classbackgroundcolor white\r\n",
       "skinparam shadowing false\r\n",
       "skinparam wrapWidth 300\r\n",
       "hide circle\r\n",
       "\r\n",
       "package \"PrivateImportTest\" as E1  [[psysml:90f2a1bf-87a7-47cf-b7dc-49b41c6fd8e7 ]]  {\r\n",
       "package \"P1\" as E2  [[psysml:16275eaf-61bd-4171-b64d-9c4aa1fed5b3 ]]  {\r\n",
       "comp def \"A\" as E3  <<(T,blue) part def>> [[psysml:c33e3566-7ac4-4487-b3df-3cd0148aac2a ]] {\r\n",
       "}\r\n",
       "}\r\n",
       "package \"P2\" as E4  [[psysml:b9d82d12-80d8-4b65-b32b-0d4caf256cd7 ]]  {\r\n",
       "}\r\n",
       "comp usage \"x: A\" as E5  <<(T,blue) part>> [[psysml:0c75b404-ec52-4836-8cbb-5da98c4a5930 ]] {\r\n",
       "}\r\n",
       "package \"P3\" as E6  [[psysml:9d4f5989-8a3e-4397-a866-52670c662db3 ]]  {\r\n",
       "comp def \"B\" as E7  <<(T,blue) part def>> [[psysml:70818b0d-1657-43d7-b586-0302676d35dd ]] {\r\n",
       "}\r\n",
       "E5 - -:|> E3 [[psysml:f8be15bd-6ead-4f94-a81d-297834d3bff2 ]] \r\n",
       "}\r\n",
       "comp usage \"z: B\" as E8  <<(T,blue) part>> [[psysml:f43ee61a-1d92-4bcd-a6ef-463238303c09 ]] {\r\n",
       "}\r\n",
       "package \"P4\" as E9  [[psysml:5979dd71-75f1-4b72-84ed-7ab4ecfce4b9 ]]  {\r\n",
       "comp usage \"z1: A\" as E10  <<(T,blue) part>> [[psysml:e183bef4-e50f-4a79-aea2-e72f91ae33b1 ]] {\r\n",
       "}\r\n",
       "E8 - -:|> E7 [[psysml:2890fdf6-d136-470e-95db-a042243a6f10 ]] \r\n",
       "E10 - -:|> E3 [[psysml:25a6672d-e3f3-453e-a929-7fba59fa68e7 ]] \r\n",
       "}\r\n",
       "}\r\n",
       "@enduml\r\n",
       "\n",
       "PlantUML version 1.2020.13(Sat Jun 13 12:26:38 UTC 2020)\n",
       "(EPL source distribution)\n",
       "Java Runtime: OpenJDK Runtime Environment\n",
       "JVM: OpenJDK 64-Bit Server VM\n",
       "Default Encoding: UTF-8\n",
       "Language: en\n",
       "Country: null\n",
       "--></g></svg>"
      ]
     },
     "execution_count": 45,
     "metadata": {},
     "output_type": "execute_result"
    }
   ],
   "source": [
    "%viz --style=\"TB\" --view=\"Tree\" \"PrivateImportTest\""
   ]
  },
  {
   "cell_type": "code",
   "execution_count": 46,
   "id": "2e0024df",
   "metadata": {
    "execution": {
     "iopub.execute_input": "2021-08-04T06:27:57.336094Z",
     "iopub.status.busy": "2021-08-04T06:27:57.335839Z",
     "iopub.status.idle": "2021-08-04T06:27:57.339946Z",
     "shell.execute_reply": "2021-08-04T06:27:57.340144Z"
    }
   },
   "outputs": [
    {
     "data": {
      "image/svg+xml": [
       "<?xml version=\"1.0\" encoding=\"UTF-8\" standalone=\"no\"?><svg xmlns=\"http://www.w3.org/2000/svg\" xmlns:xlink=\"http://www.w3.org/1999/xlink\" contentScriptType=\"application/ecmascript\" contentStyleType=\"text/css\" height=\"12px\" preserveAspectRatio=\"none\" style=\"width:12px;height:12px;\" version=\"1.1\" viewBox=\"0 0 12 12\" width=\"12px\" zoomAndPan=\"magnify\"><defs/><g><!--MD5=[f4ee21bc66e489b5061b7c3e9601fdef]\n",
       "@startuml\r\n",
       "top to bottom direction\r\n",
       "skinparam monochrome true\r\n",
       "skinparam classbackgroundcolor white\r\n",
       "skinparam shadowing false\r\n",
       "skinparam wrapWidth 300\r\n",
       "hide circle\r\n",
       "\r\n",
       "@enduml\r\n",
       "\n",
       "PlantUML version 1.2020.13(Sat Jun 13 12:26:38 UTC 2020)\n",
       "(EPL source distribution)\n",
       "Java Runtime: OpenJDK Runtime Environment\n",
       "JVM: OpenJDK 64-Bit Server VM\n",
       "Default Encoding: UTF-8\n",
       "Language: en\n",
       "Country: null\n",
       "--></g></svg>"
      ]
     },
     "execution_count": 46,
     "metadata": {},
     "output_type": "execute_result"
    }
   ],
   "source": [
    "%viz --style=\"TB\" --view=\"State\" \"PrivateImportTest\""
   ]
  },
  {
   "cell_type": "code",
   "execution_count": 47,
   "id": "d15e3f8d",
   "metadata": {
    "execution": {
     "iopub.execute_input": "2021-08-04T06:27:57.390764Z",
     "iopub.status.busy": "2021-08-04T06:27:57.390535Z",
     "iopub.status.idle": "2021-08-04T06:27:57.416089Z",
     "shell.execute_reply": "2021-08-04T06:27:57.415872Z"
    }
   },
   "outputs": [
    {
     "data": {
      "image/svg+xml": [
       "<?xml version=\"1.0\" encoding=\"UTF-8\" standalone=\"no\"?><svg xmlns=\"http://www.w3.org/2000/svg\" xmlns:xlink=\"http://www.w3.org/1999/xlink\" contentScriptType=\"application/ecmascript\" contentStyleType=\"text/css\" height=\"179px\" preserveAspectRatio=\"none\" style=\"width:645px;height:179px;\" version=\"1.1\" viewBox=\"0 0 645 179\" width=\"645px\" zoomAndPan=\"magnify\"><defs/><g><!--MD5=[fbc87193dbaf4d95561dea2c320d4a47]\n",
       "cluster E1--><a href=\"psysml:90f2a1bf-87a7-47cf-b7dc-49b41c6fd8e7\" target=\"_top\" title=\"psysml:90f2a1bf-87a7-47cf-b7dc-49b41c6fd8e7\" xlink:actuate=\"onRequest\" xlink:href=\"psysml:90f2a1bf-87a7-47cf-b7dc-49b41c6fd8e7\" xlink:show=\"new\" xlink:title=\"psysml:90f2a1bf-87a7-47cf-b7dc-49b41c6fd8e7\" xlink:type=\"simple\"><polygon fill=\"#FFFFFF\" points=\"16,6,163,6,170,28.2969,623,28.2969,623,167,16,167,16,6\" style=\"stroke: #000000; stroke-width: 1.5;\"/><line style=\"stroke: #000000; stroke-width: 1.5;\" x1=\"16\" x2=\"170\" y1=\"28.2969\" y2=\"28.2969\"/><text fill=\"#000000\" font-family=\"sans-serif\" font-size=\"14\" font-weight=\"bold\" lengthAdjust=\"spacingAndGlyphs\" textLength=\"141\" x=\"20\" y=\"20.9951\">PrivateImportTest</text></a><!--MD5=[e4f7fae6ed58524ba242bb0b0d3be6b7]\n",
       "cluster E2--><a href=\"psysml:16275eaf-61bd-4171-b64d-9c4aa1fed5b3\" target=\"_top\" title=\"psysml:16275eaf-61bd-4171-b64d-9c4aa1fed5b3\" xlink:actuate=\"onRequest\" xlink:href=\"psysml:16275eaf-61bd-4171-b64d-9c4aa1fed5b3\" xlink:show=\"new\" xlink:title=\"psysml:16275eaf-61bd-4171-b64d-9c4aa1fed5b3\" xlink:type=\"simple\"><polygon fill=\"#FFFFFF\" points=\"495,49,521,49,528,71.2969,599,71.2969,599,143,495,143,495,49\" style=\"stroke: #000000; stroke-width: 1.5;\"/><line style=\"stroke: #000000; stroke-width: 1.5;\" x1=\"495\" x2=\"528\" y1=\"71.2969\" y2=\"71.2969\"/><text fill=\"#000000\" font-family=\"sans-serif\" font-size=\"14\" font-weight=\"bold\" lengthAdjust=\"spacingAndGlyphs\" textLength=\"20\" x=\"499\" y=\"63.9951\">P1</text></a><!--MD5=[14e3b0961a2654348d326746436168a1]\n",
       "cluster E6--><a href=\"psysml:9d4f5989-8a3e-4397-a866-52670c662db3\" target=\"_top\" title=\"psysml:9d4f5989-8a3e-4397-a866-52670c662db3\" xlink:actuate=\"onRequest\" xlink:href=\"psysml:9d4f5989-8a3e-4397-a866-52670c662db3\" xlink:show=\"new\" xlink:title=\"psysml:9d4f5989-8a3e-4397-a866-52670c662db3\" xlink:type=\"simple\"><polygon fill=\"#FFFFFF\" points=\"367,49,393,49,400,71.2969,471,71.2969,471,143,367,143,367,49\" style=\"stroke: #000000; stroke-width: 1.5;\"/><line style=\"stroke: #000000; stroke-width: 1.5;\" x1=\"367\" x2=\"400\" y1=\"71.2969\" y2=\"71.2969\"/><text fill=\"#000000\" font-family=\"sans-serif\" font-size=\"14\" font-weight=\"bold\" lengthAdjust=\"spacingAndGlyphs\" textLength=\"20\" x=\"371\" y=\"63.9951\">P3</text></a><!--MD5=[7f149f147074ac12df2cb0a7728a5fb0]\n",
       "cluster E9--><a href=\"psysml:5979dd71-75f1-4b72-84ed-7ab4ecfce4b9\" target=\"_top\" title=\"psysml:5979dd71-75f1-4b72-84ed-7ab4ecfce4b9\" xlink:actuate=\"onRequest\" xlink:href=\"psysml:5979dd71-75f1-4b72-84ed-7ab4ecfce4b9\" xlink:show=\"new\" xlink:title=\"psysml:5979dd71-75f1-4b72-84ed-7ab4ecfce4b9\" xlink:type=\"simple\"><polygon fill=\"#FFFFFF\" points=\"261,50.5,287,50.5,294,72.7969,343,72.7969,343,141.5,261,141.5,261,50.5\" style=\"stroke: #000000; stroke-width: 1.5;\"/><line style=\"stroke: #000000; stroke-width: 1.5;\" x1=\"261\" x2=\"294\" y1=\"72.7969\" y2=\"72.7969\"/><text fill=\"#000000\" font-family=\"sans-serif\" font-size=\"14\" font-weight=\"bold\" lengthAdjust=\"spacingAndGlyphs\" textLength=\"20\" x=\"265\" y=\"65.4951\">P4</text></a><g id=\"E1.E2.E3\"><a href=\"psysml:c33e3566-7ac4-4487-b3df-3cd0148aac2a\" target=\"_top\" title=\"psysml:c33e3566-7ac4-4487-b3df-3cd0148aac2a\" xlink:actuate=\"onRequest\" xlink:href=\"psysml:c33e3566-7ac4-4487-b3df-3cd0148aac2a\" xlink:show=\"new\" xlink:title=\"psysml:c33e3566-7ac4-4487-b3df-3cd0148aac2a\" xlink:type=\"simple\"><rect fill=\"#FFFFFF\" height=\"42.9375\" id=\"E3\" style=\"stroke: #383838; stroke-width: 1.5;\" width=\"71\" x=\"511.5\" y=\"84\"/><rect fill=\"#F8F8F8\" height=\"37.9375\" style=\"stroke: #383838; stroke-width: 1.5;\" width=\"71\" x=\"511.5\" y=\"84\"/><text fill=\"#000000\" font-family=\"sans-serif\" font-size=\"12\" font-style=\"italic\" lengthAdjust=\"spacingAndGlyphs\" textLength=\"64\" x=\"515\" y=\"100.1387\">«part def»</text><text fill=\"#000000\" font-family=\"sans-serif\" font-size=\"12\" lengthAdjust=\"spacingAndGlyphs\" textLength=\"8\" x=\"543\" y=\"114.1074\">A</text></a></g><a href=\"psysml:b9d82d12-80d8-4b65-b32b-0d4caf256cd7\" target=\"_top\" title=\"psysml:b9d82d12-80d8-4b65-b32b-0d4caf256cd7\" xlink:actuate=\"onRequest\" xlink:href=\"psysml:b9d82d12-80d8-4b65-b32b-0d4caf256cd7\" xlink:show=\"new\" xlink:title=\"psysml:b9d82d12-80d8-4b65-b32b-0d4caf256cd7\" xlink:type=\"simple\"><polygon fill=\"#FFFFFF\" points=\"202,79,228,79,235,101.2969,242,101.2969,242,131.5938,202,131.5938,202,79\" style=\"stroke: #000000; stroke-width: 1.5;\"/><line style=\"stroke: #000000; stroke-width: 1.5;\" x1=\"202\" x2=\"235\" y1=\"101.2969\" y2=\"101.2969\"/><text fill=\"#000000\" font-family=\"sans-serif\" font-size=\"14\" font-weight=\"bold\" lengthAdjust=\"spacingAndGlyphs\" textLength=\"20\" x=\"206\" y=\"93.9951\">P2</text></a><g id=\"E1.E5\"><a href=\"psysml:0c75b404-ec52-4836-8cbb-5da98c4a5930\" target=\"_top\" title=\"psysml:0c75b404-ec52-4836-8cbb-5da98c4a5930\" xlink:actuate=\"onRequest\" xlink:href=\"psysml:0c75b404-ec52-4836-8cbb-5da98c4a5930\" xlink:show=\"new\" xlink:title=\"psysml:0c75b404-ec52-4836-8cbb-5da98c4a5930\" xlink:type=\"simple\"><rect fill=\"#FFFFFF\" height=\"40\" id=\"E5\" rx=\"10\" ry=\"10\" style=\"stroke: #383838; stroke-width: 1.5;\" width=\"50\" x=\"117\" y=\"85.5\"/><rect fill=\"#F8F8F8\" height=\"23.9688\" rx=\"10\" ry=\"10\" style=\"stroke: #F8F8F8; stroke-width: 1.5;\" width=\"50\" x=\"117\" y=\"85.5\"/><rect fill=\"#F8F8F8\" height=\"10\" style=\"stroke: #F8F8F8; stroke-width: 1.5;\" width=\"50\" x=\"117\" y=\"99.4688\"/><rect fill=\"none\" height=\"40\" id=\"E5\" rx=\"10\" ry=\"10\" style=\"stroke: #383838; stroke-width: 1.5;\" width=\"50\" x=\"117\" y=\"85.5\"/><text fill=\"#000000\" font-family=\"sans-serif\" font-size=\"12\" lengthAdjust=\"spacingAndGlyphs\" textLength=\"22\" x=\"131\" y=\"101.6387\">x: A</text></a></g><g id=\"E1.E6.E7\"><a href=\"psysml:70818b0d-1657-43d7-b586-0302676d35dd\" target=\"_top\" title=\"psysml:70818b0d-1657-43d7-b586-0302676d35dd\" xlink:actuate=\"onRequest\" xlink:href=\"psysml:70818b0d-1657-43d7-b586-0302676d35dd\" xlink:show=\"new\" xlink:title=\"psysml:70818b0d-1657-43d7-b586-0302676d35dd\" xlink:type=\"simple\"><rect fill=\"#FFFFFF\" height=\"42.9375\" id=\"E7\" style=\"stroke: #383838; stroke-width: 1.5;\" width=\"71\" x=\"383.5\" y=\"84\"/><rect fill=\"#F8F8F8\" height=\"37.9375\" style=\"stroke: #383838; stroke-width: 1.5;\" width=\"71\" x=\"383.5\" y=\"84\"/><text fill=\"#000000\" font-family=\"sans-serif\" font-size=\"12\" font-style=\"italic\" lengthAdjust=\"spacingAndGlyphs\" textLength=\"64\" x=\"387\" y=\"100.1387\">«part def»</text><text fill=\"#000000\" font-family=\"sans-serif\" font-size=\"12\" lengthAdjust=\"spacingAndGlyphs\" textLength=\"8\" x=\"415\" y=\"114.1074\">B</text></a></g><g id=\"E1.E8\"><a href=\"psysml:f43ee61a-1d92-4bcd-a6ef-463238303c09\" target=\"_top\" title=\"psysml:f43ee61a-1d92-4bcd-a6ef-463238303c09\" xlink:actuate=\"onRequest\" xlink:href=\"psysml:f43ee61a-1d92-4bcd-a6ef-463238303c09\" xlink:show=\"new\" xlink:title=\"psysml:f43ee61a-1d92-4bcd-a6ef-463238303c09\" xlink:type=\"simple\"><rect fill=\"#FFFFFF\" height=\"40\" id=\"E8\" rx=\"10\" ry=\"10\" style=\"stroke: #383838; stroke-width: 1.5;\" width=\"50\" x=\"32\" y=\"85.5\"/><rect fill=\"#F8F8F8\" height=\"23.9688\" rx=\"10\" ry=\"10\" style=\"stroke: #F8F8F8; stroke-width: 1.5;\" width=\"50\" x=\"32\" y=\"85.5\"/><rect fill=\"#F8F8F8\" height=\"10\" style=\"stroke: #F8F8F8; stroke-width: 1.5;\" width=\"50\" x=\"32\" y=\"99.4688\"/><rect fill=\"none\" height=\"40\" id=\"E8\" rx=\"10\" ry=\"10\" style=\"stroke: #383838; stroke-width: 1.5;\" width=\"50\" x=\"32\" y=\"85.5\"/><text fill=\"#000000\" font-family=\"sans-serif\" font-size=\"12\" lengthAdjust=\"spacingAndGlyphs\" textLength=\"21\" x=\"46.5\" y=\"101.6387\">z: B</text></a></g><g id=\"E1.E9.E10\"><a href=\"psysml:e183bef4-e50f-4a79-aea2-e72f91ae33b1\" target=\"_top\" title=\"psysml:e183bef4-e50f-4a79-aea2-e72f91ae33b1\" xlink:actuate=\"onRequest\" xlink:href=\"psysml:e183bef4-e50f-4a79-aea2-e72f91ae33b1\" xlink:show=\"new\" xlink:title=\"psysml:e183bef4-e50f-4a79-aea2-e72f91ae33b1\" xlink:type=\"simple\"><rect fill=\"#FFFFFF\" height=\"40\" id=\"E10\" rx=\"10\" ry=\"10\" style=\"stroke: #383838; stroke-width: 1.5;\" width=\"50\" x=\"277\" y=\"85.5\"/><rect fill=\"#F8F8F8\" height=\"23.9688\" rx=\"10\" ry=\"10\" style=\"stroke: #F8F8F8; stroke-width: 1.5;\" width=\"50\" x=\"277\" y=\"85.5\"/><rect fill=\"#F8F8F8\" height=\"10\" style=\"stroke: #F8F8F8; stroke-width: 1.5;\" width=\"50\" x=\"277\" y=\"99.4688\"/><rect fill=\"none\" height=\"40\" id=\"E10\" rx=\"10\" ry=\"10\" style=\"stroke: #383838; stroke-width: 1.5;\" width=\"50\" x=\"277\" y=\"85.5\"/><text fill=\"#000000\" font-family=\"sans-serif\" font-size=\"12\" lengthAdjust=\"spacingAndGlyphs\" textLength=\"29\" x=\"287.5\" y=\"101.6387\">z1: A</text></a></g><!--MD5=[27020b7d26f8ff6c3dab39ce7e20a78c]\n",
       "@startuml\r\n",
       "skinparam ranksep 10\r\n",
       "skinparam rectangle {\r\n",
       " backgroundColor<<block>> LightGreen\r\n",
       "}\r\n",
       "top to bottom direction\r\n",
       "skinparam monochrome true\r\n",
       "skinparam classbackgroundcolor white\r\n",
       "skinparam shadowing false\r\n",
       "skinparam wrapWidth 300\r\n",
       "hide circle\r\n",
       "\r\n",
       "package \"PrivateImportTest\" as E1  [[psysml:90f2a1bf-87a7-47cf-b7dc-49b41c6fd8e7 ]]  {\r\n",
       "package \"P1\" as E2  [[psysml:16275eaf-61bd-4171-b64d-9c4aa1fed5b3 ]]  {\r\n",
       "rec def \"A\" as E3  <<(T,blue) part def>> [[psysml:c33e3566-7ac4-4487-b3df-3cd0148aac2a ]] {\r\n",
       "}\r\n",
       "}\r\n",
       "package \"P2\" as E4  [[psysml:b9d82d12-80d8-4b65-b32b-0d4caf256cd7 ]]  {\r\n",
       "}\r\n",
       "rec usage \"x: A\" as E5  [[psysml:0c75b404-ec52-4836-8cbb-5da98c4a5930 ]] {\r\n",
       "}\r\n",
       "package \"P3\" as E6  [[psysml:9d4f5989-8a3e-4397-a866-52670c662db3 ]]  {\r\n",
       "rec def \"B\" as E7  <<(T,blue) part def>> [[psysml:70818b0d-1657-43d7-b586-0302676d35dd ]] {\r\n",
       "}\r\n",
       "}\r\n",
       "rec usage \"z: B\" as E8  [[psysml:f43ee61a-1d92-4bcd-a6ef-463238303c09 ]] {\r\n",
       "}\r\n",
       "package \"P4\" as E9  [[psysml:5979dd71-75f1-4b72-84ed-7ab4ecfce4b9 ]]  {\r\n",
       "rec usage \"z1: A\" as E10  [[psysml:e183bef4-e50f-4a79-aea2-e72f91ae33b1 ]] {\r\n",
       "}\r\n",
       "}\r\n",
       "}\r\n",
       "@enduml\r\n",
       "\n",
       "PlantUML version 1.2020.13(Sat Jun 13 12:26:38 UTC 2020)\n",
       "(EPL source distribution)\n",
       "Java Runtime: OpenJDK Runtime Environment\n",
       "JVM: OpenJDK 64-Bit Server VM\n",
       "Default Encoding: UTF-8\n",
       "Language: en\n",
       "Country: null\n",
       "--></g></svg>"
      ]
     },
     "execution_count": 47,
     "metadata": {},
     "output_type": "execute_result"
    }
   ],
   "source": [
    "%viz --style=\"TB\" --view=\"Interconnection\" \"PrivateImportTest\""
   ]
  },
  {
   "cell_type": "code",
   "execution_count": 48,
   "id": "682d56b0",
   "metadata": {
    "execution": {
     "iopub.execute_input": "2021-08-04T06:27:57.465849Z",
     "iopub.status.busy": "2021-08-04T06:27:57.465574Z",
     "iopub.status.idle": "2021-08-04T06:27:57.469956Z",
     "shell.execute_reply": "2021-08-04T06:27:57.469788Z"
    }
   },
   "outputs": [
    {
     "data": {
      "image/svg+xml": [
       "<?xml version=\"1.0\" encoding=\"UTF-8\" standalone=\"no\"?><svg xmlns=\"http://www.w3.org/2000/svg\" xmlns:xlink=\"http://www.w3.org/1999/xlink\" contentScriptType=\"application/ecmascript\" contentStyleType=\"text/css\" height=\"12px\" preserveAspectRatio=\"none\" style=\"width:12px;height:12px;\" version=\"1.1\" viewBox=\"0 0 12 12\" width=\"12px\" zoomAndPan=\"magnify\"><defs/><g><!--MD5=[06afc254b03ac5e9d9fb7773b07d0800]\n",
       "@startuml\r\n",
       "skinparam ranksep 8\r\n",
       "top to bottom direction\r\n",
       "skinparam monochrome true\r\n",
       "skinparam classbackgroundcolor white\r\n",
       "skinparam shadowing false\r\n",
       "skinparam wrapWidth 300\r\n",
       "hide circle\r\n",
       "\r\n",
       "@enduml\r\n",
       "\n",
       "PlantUML version 1.2020.13(Sat Jun 13 12:26:38 UTC 2020)\n",
       "(EPL source distribution)\n",
       "Java Runtime: OpenJDK Runtime Environment\n",
       "JVM: OpenJDK 64-Bit Server VM\n",
       "Default Encoding: UTF-8\n",
       "Language: en\n",
       "Country: null\n",
       "--></g></svg>"
      ]
     },
     "execution_count": 48,
     "metadata": {},
     "output_type": "execute_result"
    }
   ],
   "source": [
    "%viz --style=\"TB\" --view=\"Action\" \"PrivateImportTest\""
   ]
  },
  {
   "cell_type": "code",
   "execution_count": 49,
   "id": "79a9eb31",
   "metadata": {
    "execution": {
     "iopub.execute_input": "2021-08-04T06:27:57.520066Z",
     "iopub.status.busy": "2021-08-04T06:27:57.519866Z",
     "iopub.status.idle": "2021-08-04T06:27:57.545099Z",
     "shell.execute_reply": "2021-08-04T06:27:57.544894Z"
    }
   },
   "outputs": [
    {
     "data": {
      "image/svg+xml": [
       "<?xml version=\"1.0\" encoding=\"UTF-8\" standalone=\"no\"?><svg xmlns=\"http://www.w3.org/2000/svg\" xmlns:xlink=\"http://www.w3.org/1999/xlink\" contentScriptType=\"application/ecmascript\" contentStyleType=\"text/css\" height=\"303px\" preserveAspectRatio=\"none\" style=\"width:365px;height:303px;\" version=\"1.1\" viewBox=\"0 0 365 303\" width=\"365px\" zoomAndPan=\"magnify\"><defs/><g><!--MD5=[fbc87193dbaf4d95561dea2c320d4a47]\n",
       "cluster E1--><a href=\"psysml:90f2a1bf-87a7-47cf-b7dc-49b41c6fd8e7\" target=\"_top\" title=\"psysml:90f2a1bf-87a7-47cf-b7dc-49b41c6fd8e7\" xlink:actuate=\"onRequest\" xlink:href=\"psysml:90f2a1bf-87a7-47cf-b7dc-49b41c6fd8e7\" xlink:show=\"new\" xlink:title=\"psysml:90f2a1bf-87a7-47cf-b7dc-49b41c6fd8e7\" xlink:type=\"simple\"><polygon fill=\"#FFFFFF\" points=\"16,6,163,6,170,28.2969,343,28.2969,343,291,16,291,16,6\" style=\"stroke: #000000; stroke-width: 1.5;\"/><line style=\"stroke: #000000; stroke-width: 1.5;\" x1=\"16\" x2=\"170\" y1=\"28.2969\" y2=\"28.2969\"/><text fill=\"#000000\" font-family=\"sans-serif\" font-size=\"14\" font-weight=\"bold\" lengthAdjust=\"spacingAndGlyphs\" textLength=\"141\" x=\"20\" y=\"20.9951\">PrivateImportTest</text></a><!--MD5=[e4f7fae6ed58524ba242bb0b0d3be6b7]\n",
       "cluster E2--><a href=\"psysml:16275eaf-61bd-4171-b64d-9c4aa1fed5b3\" target=\"_top\" title=\"psysml:16275eaf-61bd-4171-b64d-9c4aa1fed5b3\" xlink:actuate=\"onRequest\" xlink:href=\"psysml:16275eaf-61bd-4171-b64d-9c4aa1fed5b3\" xlink:show=\"new\" xlink:title=\"psysml:16275eaf-61bd-4171-b64d-9c4aa1fed5b3\" xlink:type=\"simple\"><polygon fill=\"#FFFFFF\" points=\"211,170,237,170,244,192.2969,309,192.2969,309,267,211,267,211,170\" style=\"stroke: #000000; stroke-width: 1.5;\"/><line style=\"stroke: #000000; stroke-width: 1.5;\" x1=\"211\" x2=\"244\" y1=\"192.2969\" y2=\"192.2969\"/><text fill=\"#000000\" font-family=\"sans-serif\" font-size=\"14\" font-weight=\"bold\" lengthAdjust=\"spacingAndGlyphs\" textLength=\"20\" x=\"215\" y=\"184.9951\">P1</text></a><!--MD5=[14e3b0961a2654348d326746436168a1]\n",
       "cluster E6--><a href=\"psysml:9d4f5989-8a3e-4397-a866-52670c662db3\" target=\"_top\" title=\"psysml:9d4f5989-8a3e-4397-a866-52670c662db3\" xlink:actuate=\"onRequest\" xlink:href=\"psysml:9d4f5989-8a3e-4397-a866-52670c662db3\" xlink:show=\"new\" xlink:title=\"psysml:9d4f5989-8a3e-4397-a866-52670c662db3\" xlink:type=\"simple\"><polygon fill=\"#FFFFFF\" points=\"79,170,105,170,112,192.2969,177,192.2969,177,267,79,267,79,170\" style=\"stroke: #000000; stroke-width: 1.5;\"/><line style=\"stroke: #000000; stroke-width: 1.5;\" x1=\"79\" x2=\"112\" y1=\"192.2969\" y2=\"192.2969\"/><text fill=\"#000000\" font-family=\"sans-serif\" font-size=\"14\" font-weight=\"bold\" lengthAdjust=\"spacingAndGlyphs\" textLength=\"20\" x=\"83\" y=\"184.9951\">P3</text></a><!--MD5=[7f149f147074ac12df2cb0a7728a5fb0]\n",
       "cluster E9--><a href=\"psysml:5979dd71-75f1-4b72-84ed-7ab4ecfce4b9\" target=\"_top\" title=\"psysml:5979dd71-75f1-4b72-84ed-7ab4ecfce4b9\" xlink:actuate=\"onRequest\" xlink:href=\"psysml:5979dd71-75f1-4b72-84ed-7ab4ecfce4b9\" xlink:show=\"new\" xlink:title=\"psysml:5979dd71-75f1-4b72-84ed-7ab4ecfce4b9\" xlink:type=\"simple\"><polygon fill=\"#FFFFFF\" points=\"245,49,271,49,278,71.2969,319,71.2969,319,146,245,146,245,49\" style=\"stroke: #000000; stroke-width: 1.5;\"/><line style=\"stroke: #000000; stroke-width: 1.5;\" x1=\"245\" x2=\"278\" y1=\"71.2969\" y2=\"71.2969\"/><text fill=\"#000000\" font-family=\"sans-serif\" font-size=\"14\" font-weight=\"bold\" lengthAdjust=\"spacingAndGlyphs\" textLength=\"20\" x=\"249\" y=\"63.9951\">P4</text></a><!--MD5=[270fce915f116d4de14055a7c1d9a0f3]\n",
       "class E5--><a href=\"psysml:0c75b404-ec52-4836-8cbb-5da98c4a5930\" target=\"_top\" title=\"psysml:0c75b404-ec52-4836-8cbb-5da98c4a5930\" xlink:actuate=\"onRequest\" xlink:href=\"psysml:0c75b404-ec52-4836-8cbb-5da98c4a5930\" xlink:show=\"new\" xlink:title=\"psysml:0c75b404-ec52-4836-8cbb-5da98c4a5930\" xlink:type=\"simple\"><rect fill=\"#FFFFFF\" height=\"45.9375\" id=\"E5\" rx=\"10\" ry=\"10\" style=\"stroke: #383838; stroke-width: 1.5;\" width=\"42\" x=\"184\" y=\"84\"/><text fill=\"#000000\" font-family=\"sans-serif\" font-size=\"12\" font-style=\"italic\" lengthAdjust=\"spacingAndGlyphs\" textLength=\"40\" x=\"185\" y=\"100.1387\">«part»</text><text fill=\"#000000\" font-family=\"sans-serif\" font-size=\"12\" lengthAdjust=\"spacingAndGlyphs\" textLength=\"22\" x=\"194\" y=\"114.1074\">x: A</text><line style=\"stroke: #383838; stroke-width: 1.5;\" x1=\"185\" x2=\"225\" y1=\"121.9375\" y2=\"121.9375\"/></a><!--MD5=[b9389687b975829384b498ac4b7476b2]\n",
       "class E8--><a href=\"psysml:f43ee61a-1d92-4bcd-a6ef-463238303c09\" target=\"_top\" title=\"psysml:f43ee61a-1d92-4bcd-a6ef-463238303c09\" xlink:actuate=\"onRequest\" xlink:href=\"psysml:f43ee61a-1d92-4bcd-a6ef-463238303c09\" xlink:show=\"new\" xlink:title=\"psysml:f43ee61a-1d92-4bcd-a6ef-463238303c09\" xlink:type=\"simple\"><rect fill=\"#FFFFFF\" height=\"45.9375\" id=\"E8\" rx=\"10\" ry=\"10\" style=\"stroke: #383838; stroke-width: 1.5;\" width=\"42\" x=\"107\" y=\"84\"/><text fill=\"#000000\" font-family=\"sans-serif\" font-size=\"12\" font-style=\"italic\" lengthAdjust=\"spacingAndGlyphs\" textLength=\"40\" x=\"108\" y=\"100.1387\">«part»</text><text fill=\"#000000\" font-family=\"sans-serif\" font-size=\"12\" lengthAdjust=\"spacingAndGlyphs\" textLength=\"21\" x=\"117.5\" y=\"114.1074\">z: B</text><line style=\"stroke: #383838; stroke-width: 1.5;\" x1=\"108\" x2=\"148\" y1=\"121.9375\" y2=\"121.9375\"/></a><!--MD5=[09b614a08d8cba4a07c9adeb5e0fee81]\n",
       "class E3--><a href=\"psysml:c33e3566-7ac4-4487-b3df-3cd0148aac2a\" target=\"_top\" title=\"psysml:c33e3566-7ac4-4487-b3df-3cd0148aac2a\" xlink:actuate=\"onRequest\" xlink:href=\"psysml:c33e3566-7ac4-4487-b3df-3cd0148aac2a\" xlink:show=\"new\" xlink:title=\"psysml:c33e3566-7ac4-4487-b3df-3cd0148aac2a\" xlink:type=\"simple\"><rect fill=\"#FFFFFF\" height=\"45.9375\" id=\"E3\" style=\"stroke: #383838; stroke-width: 1.5;\" width=\"66\" x=\"227\" y=\"205\"/><text fill=\"#000000\" font-family=\"sans-serif\" font-size=\"12\" font-style=\"italic\" lengthAdjust=\"spacingAndGlyphs\" textLength=\"64\" x=\"228\" y=\"221.1387\">«part def»</text><text fill=\"#000000\" font-family=\"sans-serif\" font-size=\"12\" lengthAdjust=\"spacingAndGlyphs\" textLength=\"8\" x=\"256\" y=\"235.1074\">A</text><line style=\"stroke: #383838; stroke-width: 1.5;\" x1=\"228\" x2=\"292\" y1=\"242.9375\" y2=\"242.9375\"/></a><a href=\"psysml:b9d82d12-80d8-4b65-b32b-0d4caf256cd7\" target=\"_top\" title=\"psysml:b9d82d12-80d8-4b65-b32b-0d4caf256cd7\" xlink:actuate=\"onRequest\" xlink:href=\"psysml:b9d82d12-80d8-4b65-b32b-0d4caf256cd7\" xlink:show=\"new\" xlink:title=\"psysml:b9d82d12-80d8-4b65-b32b-0d4caf256cd7\" xlink:type=\"simple\"><polygon fill=\"#FFFFFF\" points=\"32,80.5,58,80.5,65,102.7969,72,102.7969,72,133.0938,32,133.0938,32,80.5\" style=\"stroke: #000000; stroke-width: 1.5;\"/><line style=\"stroke: #000000; stroke-width: 1.5;\" x1=\"32\" x2=\"65\" y1=\"102.7969\" y2=\"102.7969\"/><text fill=\"#000000\" font-family=\"sans-serif\" font-size=\"14\" font-weight=\"bold\" lengthAdjust=\"spacingAndGlyphs\" textLength=\"20\" x=\"36\" y=\"95.4951\">P2</text></a><!--MD5=[2156ba9850f5573cc1fc38a6a4b2f02b]\n",
       "class E7--><a href=\"psysml:70818b0d-1657-43d7-b586-0302676d35dd\" target=\"_top\" title=\"psysml:70818b0d-1657-43d7-b586-0302676d35dd\" xlink:actuate=\"onRequest\" xlink:href=\"psysml:70818b0d-1657-43d7-b586-0302676d35dd\" xlink:show=\"new\" xlink:title=\"psysml:70818b0d-1657-43d7-b586-0302676d35dd\" xlink:type=\"simple\"><rect fill=\"#FFFFFF\" height=\"45.9375\" id=\"E7\" style=\"stroke: #383838; stroke-width: 1.5;\" width=\"66\" x=\"95\" y=\"205\"/><text fill=\"#000000\" font-family=\"sans-serif\" font-size=\"12\" font-style=\"italic\" lengthAdjust=\"spacingAndGlyphs\" textLength=\"64\" x=\"96\" y=\"221.1387\">«part def»</text><text fill=\"#000000\" font-family=\"sans-serif\" font-size=\"12\" lengthAdjust=\"spacingAndGlyphs\" textLength=\"8\" x=\"124\" y=\"235.1074\">B</text><line style=\"stroke: #383838; stroke-width: 1.5;\" x1=\"96\" x2=\"160\" y1=\"242.9375\" y2=\"242.9375\"/></a><!--MD5=[96f4274e9e20536e775497830990834d]\n",
       "class E10--><a href=\"psysml:e183bef4-e50f-4a79-aea2-e72f91ae33b1\" target=\"_top\" title=\"psysml:e183bef4-e50f-4a79-aea2-e72f91ae33b1\" xlink:actuate=\"onRequest\" xlink:href=\"psysml:e183bef4-e50f-4a79-aea2-e72f91ae33b1\" xlink:show=\"new\" xlink:title=\"psysml:e183bef4-e50f-4a79-aea2-e72f91ae33b1\" xlink:type=\"simple\"><rect fill=\"#FFFFFF\" height=\"45.9375\" id=\"E10\" rx=\"10\" ry=\"10\" style=\"stroke: #383838; stroke-width: 1.5;\" width=\"42\" x=\"261\" y=\"84\"/><text fill=\"#000000\" font-family=\"sans-serif\" font-size=\"12\" font-style=\"italic\" lengthAdjust=\"spacingAndGlyphs\" textLength=\"40\" x=\"262\" y=\"100.1387\">«part»</text><text fill=\"#000000\" font-family=\"sans-serif\" font-size=\"12\" lengthAdjust=\"spacingAndGlyphs\" textLength=\"29\" x=\"267.5\" y=\"114.1074\">z1: A</text><line style=\"stroke: #383838; stroke-width: 1.5;\" x1=\"262\" x2=\"302\" y1=\"121.9375\" y2=\"121.9375\"/></a><!--MD5=[e9be52314489bd878ff4c7144b63c9e1]\n",
       "link E5 to E3--><a href=\"psysml:f8be15bd-6ead-4f94-a81d-297834d3bff2\" target=\"_top\" title=\"psysml:f8be15bd-6ead-4f94-a81d-297834d3bff2\" xlink:actuate=\"onRequest\" xlink:href=\"psysml:f8be15bd-6ead-4f94-a81d-297834d3bff2\" xlink:show=\"new\" xlink:title=\"psysml:f8be15bd-6ead-4f94-a81d-297834d3bff2\" xlink:type=\"simple\"><path d=\"M215.22,130.1 C222.5,145.87 232.51,167.52 241.22,186.36 \" fill=\"none\" id=\"E5-&gt;E3\" style=\"stroke: #383838; stroke-width: 1.0;\"/><polygon fill=\"#FFFFFF\" points=\"249.65,204.61,235.3286,190.2958,248.0386,184.4258,249.65,204.61\" style=\"stroke: #383838; stroke-width: 1.0;\"/><ellipse cx=\"234.7544\" cy=\"184.2824\" fill=\"#383838\" rx=\"2\" ry=\"2\" style=\"stroke: #383838; stroke-width: 1.0;\"/><ellipse cx=\"243.8329\" cy=\"180.0896\" fill=\"#383838\" rx=\"2\" ry=\"2\" style=\"stroke: #383838; stroke-width: 1.0;\"/></a><!--MD5=[bfa3c8b0d15052fdf50ae9310b491027]\n",
       "link E8 to E7--><a href=\"psysml:2890fdf6-d136-470e-95db-a042243a6f10\" target=\"_top\" title=\"psysml:2890fdf6-d136-470e-95db-a042243a6f10\" xlink:actuate=\"onRequest\" xlink:href=\"psysml:2890fdf6-d136-470e-95db-a042243a6f10\" xlink:show=\"new\" xlink:title=\"psysml:2890fdf6-d136-470e-95db-a042243a6f10\" xlink:type=\"simple\"><path d=\"M128,130.1 C128,145.37 128,166.16 128,184.57 \" fill=\"none\" id=\"E8-&gt;E7\" style=\"stroke: #383838; stroke-width: 1.0;\"/><polygon fill=\"#FFFFFF\" points=\"128,204.61,121,185.61,135,185.61,128,204.61\" style=\"stroke: #383838; stroke-width: 1.0;\"/><ellipse cx=\"123\" cy=\"179.91\" fill=\"#383838\" rx=\"2\" ry=\"2\" style=\"stroke: #383838; stroke-width: 1.0;\"/><ellipse cx=\"133\" cy=\"179.91\" fill=\"#383838\" rx=\"2\" ry=\"2\" style=\"stroke: #383838; stroke-width: 1.0;\"/></a><!--MD5=[feeac5eb423634930294aa81f2d25a4c]\n",
       "link E10 to E3--><a href=\"psysml:25a6672d-e3f3-453e-a929-7fba59fa68e7\" target=\"_top\" title=\"psysml:25a6672d-e3f3-453e-a929-7fba59fa68e7\" xlink:actuate=\"onRequest\" xlink:href=\"psysml:25a6672d-e3f3-453e-a929-7fba59fa68e7\" xlink:show=\"new\" xlink:title=\"psysml:25a6672d-e3f3-453e-a929-7fba59fa68e7\" xlink:type=\"simple\"><path d=\"M277.91,130.1 C275.08,145.45 271.21,166.39 267.79,184.87 \" fill=\"none\" id=\"E10-&gt;E3\" style=\"stroke: #383838; stroke-width: 1.0;\"/><polygon fill=\"#FFFFFF\" points=\"264.14,204.61,260.7167,184.653,274.4827,187.2023,264.14,204.61\" style=\"stroke: #383838; stroke-width: 1.0;\"/><ellipse cx=\"263.7212\" cy=\"179.4125\" fill=\"#383838\" rx=\"2\" ry=\"2\" style=\"stroke: #383838; stroke-width: 1.0;\"/><ellipse cx=\"273.554\" cy=\"181.2334\" fill=\"#383838\" rx=\"2\" ry=\"2\" style=\"stroke: #383838; stroke-width: 1.0;\"/></a><!--MD5=[7578bd66860126bf9cab6dfa4c456f42]\n",
       "@startuml\r\n",
       "top to bottom direction\r\n",
       "skinparam monochrome true\r\n",
       "skinparam classbackgroundcolor white\r\n",
       "skinparam shadowing false\r\n",
       "skinparam wrapWidth 300\r\n",
       "hide circle\r\n",
       "\r\n",
       "package \"PrivateImportTest\" as E1  [[psysml:90f2a1bf-87a7-47cf-b7dc-49b41c6fd8e7 ]]  {\r\n",
       "package \"P1\" as E2  [[psysml:16275eaf-61bd-4171-b64d-9c4aa1fed5b3 ]]  {\r\n",
       "comp def \"A\" as E3  <<(T,blue) part def>> [[psysml:c33e3566-7ac4-4487-b3df-3cd0148aac2a ]] {\r\n",
       "}\r\n",
       "}\r\n",
       "package \"P2\" as E4  [[psysml:b9d82d12-80d8-4b65-b32b-0d4caf256cd7 ]]  {\r\n",
       "}\r\n",
       "comp usage \"x: A\" as E5  <<(T,blue) part>> [[psysml:0c75b404-ec52-4836-8cbb-5da98c4a5930 ]] {\r\n",
       "}\r\n",
       "package \"P3\" as E6  [[psysml:9d4f5989-8a3e-4397-a866-52670c662db3 ]]  {\r\n",
       "comp def \"B\" as E7  <<(T,blue) part def>> [[psysml:70818b0d-1657-43d7-b586-0302676d35dd ]] {\r\n",
       "}\r\n",
       "E5 - -:|> E3 [[psysml:f8be15bd-6ead-4f94-a81d-297834d3bff2 ]] \r\n",
       "}\r\n",
       "comp usage \"z: B\" as E8  <<(T,blue) part>> [[psysml:f43ee61a-1d92-4bcd-a6ef-463238303c09 ]] {\r\n",
       "}\r\n",
       "package \"P4\" as E9  [[psysml:5979dd71-75f1-4b72-84ed-7ab4ecfce4b9 ]]  {\r\n",
       "comp usage \"z1: A\" as E10  <<(T,blue) part>> [[psysml:e183bef4-e50f-4a79-aea2-e72f91ae33b1 ]] {\r\n",
       "}\r\n",
       "E8 - -:|> E7 [[psysml:2890fdf6-d136-470e-95db-a042243a6f10 ]] \r\n",
       "E10 - -:|> E3 [[psysml:25a6672d-e3f3-453e-a929-7fba59fa68e7 ]] \r\n",
       "}\r\n",
       "}\r\n",
       "@enduml\r\n",
       "\n",
       "PlantUML version 1.2020.13(Sat Jun 13 12:26:38 UTC 2020)\n",
       "(EPL source distribution)\n",
       "Java Runtime: OpenJDK Runtime Environment\n",
       "JVM: OpenJDK 64-Bit Server VM\n",
       "Default Encoding: UTF-8\n",
       "Language: en\n",
       "Country: null\n",
       "--></g></svg>"
      ]
     },
     "execution_count": 49,
     "metadata": {},
     "output_type": "execute_result"
    }
   ],
   "source": [
    "%viz --style=\"TB\" --view=\"Sequence\" \"PrivateImportTest\""
   ]
  },
  {
   "cell_type": "code",
   "execution_count": 50,
   "id": "77e880a5",
   "metadata": {
    "execution": {
     "iopub.execute_input": "2021-08-04T06:27:57.595083Z",
     "iopub.status.busy": "2021-08-04T06:27:57.594833Z",
     "iopub.status.idle": "2021-08-04T06:27:57.618742Z",
     "shell.execute_reply": "2021-08-04T06:27:57.618024Z"
    }
   },
   "outputs": [
    {
     "data": {
      "image/svg+xml": [
       "<?xml version=\"1.0\" encoding=\"UTF-8\" standalone=\"no\"?><svg xmlns=\"http://www.w3.org/2000/svg\" xmlns:xlink=\"http://www.w3.org/1999/xlink\" contentScriptType=\"application/ecmascript\" contentStyleType=\"text/css\" height=\"303px\" preserveAspectRatio=\"none\" style=\"width:365px;height:303px;\" version=\"1.1\" viewBox=\"0 0 365 303\" width=\"365px\" zoomAndPan=\"magnify\"><defs/><g><!--MD5=[fbc87193dbaf4d95561dea2c320d4a47]\n",
       "cluster E1--><a href=\"psysml:90f2a1bf-87a7-47cf-b7dc-49b41c6fd8e7\" target=\"_top\" title=\"psysml:90f2a1bf-87a7-47cf-b7dc-49b41c6fd8e7\" xlink:actuate=\"onRequest\" xlink:href=\"psysml:90f2a1bf-87a7-47cf-b7dc-49b41c6fd8e7\" xlink:show=\"new\" xlink:title=\"psysml:90f2a1bf-87a7-47cf-b7dc-49b41c6fd8e7\" xlink:type=\"simple\"><polygon fill=\"#FFFFFF\" points=\"16,6,163,6,170,28.2969,343,28.2969,343,291,16,291,16,6\" style=\"stroke: #000000; stroke-width: 1.5;\"/><line style=\"stroke: #000000; stroke-width: 1.5;\" x1=\"16\" x2=\"170\" y1=\"28.2969\" y2=\"28.2969\"/><text fill=\"#000000\" font-family=\"sans-serif\" font-size=\"14\" font-weight=\"bold\" lengthAdjust=\"spacingAndGlyphs\" textLength=\"141\" x=\"20\" y=\"20.9951\">PrivateImportTest</text></a><!--MD5=[e4f7fae6ed58524ba242bb0b0d3be6b7]\n",
       "cluster E2--><a href=\"psysml:16275eaf-61bd-4171-b64d-9c4aa1fed5b3\" target=\"_top\" title=\"psysml:16275eaf-61bd-4171-b64d-9c4aa1fed5b3\" xlink:actuate=\"onRequest\" xlink:href=\"psysml:16275eaf-61bd-4171-b64d-9c4aa1fed5b3\" xlink:show=\"new\" xlink:title=\"psysml:16275eaf-61bd-4171-b64d-9c4aa1fed5b3\" xlink:type=\"simple\"><polygon fill=\"#FFFFFF\" points=\"211,170,237,170,244,192.2969,309,192.2969,309,267,211,267,211,170\" style=\"stroke: #000000; stroke-width: 1.5;\"/><line style=\"stroke: #000000; stroke-width: 1.5;\" x1=\"211\" x2=\"244\" y1=\"192.2969\" y2=\"192.2969\"/><text fill=\"#000000\" font-family=\"sans-serif\" font-size=\"14\" font-weight=\"bold\" lengthAdjust=\"spacingAndGlyphs\" textLength=\"20\" x=\"215\" y=\"184.9951\">P1</text></a><!--MD5=[14e3b0961a2654348d326746436168a1]\n",
       "cluster E6--><a href=\"psysml:9d4f5989-8a3e-4397-a866-52670c662db3\" target=\"_top\" title=\"psysml:9d4f5989-8a3e-4397-a866-52670c662db3\" xlink:actuate=\"onRequest\" xlink:href=\"psysml:9d4f5989-8a3e-4397-a866-52670c662db3\" xlink:show=\"new\" xlink:title=\"psysml:9d4f5989-8a3e-4397-a866-52670c662db3\" xlink:type=\"simple\"><polygon fill=\"#FFFFFF\" points=\"79,170,105,170,112,192.2969,177,192.2969,177,267,79,267,79,170\" style=\"stroke: #000000; stroke-width: 1.5;\"/><line style=\"stroke: #000000; stroke-width: 1.5;\" x1=\"79\" x2=\"112\" y1=\"192.2969\" y2=\"192.2969\"/><text fill=\"#000000\" font-family=\"sans-serif\" font-size=\"14\" font-weight=\"bold\" lengthAdjust=\"spacingAndGlyphs\" textLength=\"20\" x=\"83\" y=\"184.9951\">P3</text></a><!--MD5=[7f149f147074ac12df2cb0a7728a5fb0]\n",
       "cluster E9--><a href=\"psysml:5979dd71-75f1-4b72-84ed-7ab4ecfce4b9\" target=\"_top\" title=\"psysml:5979dd71-75f1-4b72-84ed-7ab4ecfce4b9\" xlink:actuate=\"onRequest\" xlink:href=\"psysml:5979dd71-75f1-4b72-84ed-7ab4ecfce4b9\" xlink:show=\"new\" xlink:title=\"psysml:5979dd71-75f1-4b72-84ed-7ab4ecfce4b9\" xlink:type=\"simple\"><polygon fill=\"#FFFFFF\" points=\"245,49,271,49,278,71.2969,319,71.2969,319,146,245,146,245,49\" style=\"stroke: #000000; stroke-width: 1.5;\"/><line style=\"stroke: #000000; stroke-width: 1.5;\" x1=\"245\" x2=\"278\" y1=\"71.2969\" y2=\"71.2969\"/><text fill=\"#000000\" font-family=\"sans-serif\" font-size=\"14\" font-weight=\"bold\" lengthAdjust=\"spacingAndGlyphs\" textLength=\"20\" x=\"249\" y=\"63.9951\">P4</text></a><!--MD5=[270fce915f116d4de14055a7c1d9a0f3]\n",
       "class E5--><a href=\"psysml:0c75b404-ec52-4836-8cbb-5da98c4a5930\" target=\"_top\" title=\"psysml:0c75b404-ec52-4836-8cbb-5da98c4a5930\" xlink:actuate=\"onRequest\" xlink:href=\"psysml:0c75b404-ec52-4836-8cbb-5da98c4a5930\" xlink:show=\"new\" xlink:title=\"psysml:0c75b404-ec52-4836-8cbb-5da98c4a5930\" xlink:type=\"simple\"><rect fill=\"#FFFFFF\" height=\"45.9375\" id=\"E5\" rx=\"10\" ry=\"10\" style=\"stroke: #383838; stroke-width: 1.5;\" width=\"42\" x=\"184\" y=\"84\"/><text fill=\"#000000\" font-family=\"sans-serif\" font-size=\"12\" font-style=\"italic\" lengthAdjust=\"spacingAndGlyphs\" textLength=\"40\" x=\"185\" y=\"100.1387\">«part»</text><text fill=\"#000000\" font-family=\"sans-serif\" font-size=\"12\" lengthAdjust=\"spacingAndGlyphs\" textLength=\"22\" x=\"194\" y=\"114.1074\">x: A</text><line style=\"stroke: #383838; stroke-width: 1.5;\" x1=\"185\" x2=\"225\" y1=\"121.9375\" y2=\"121.9375\"/></a><!--MD5=[b9389687b975829384b498ac4b7476b2]\n",
       "class E8--><a href=\"psysml:f43ee61a-1d92-4bcd-a6ef-463238303c09\" target=\"_top\" title=\"psysml:f43ee61a-1d92-4bcd-a6ef-463238303c09\" xlink:actuate=\"onRequest\" xlink:href=\"psysml:f43ee61a-1d92-4bcd-a6ef-463238303c09\" xlink:show=\"new\" xlink:title=\"psysml:f43ee61a-1d92-4bcd-a6ef-463238303c09\" xlink:type=\"simple\"><rect fill=\"#FFFFFF\" height=\"45.9375\" id=\"E8\" rx=\"10\" ry=\"10\" style=\"stroke: #383838; stroke-width: 1.5;\" width=\"42\" x=\"107\" y=\"84\"/><text fill=\"#000000\" font-family=\"sans-serif\" font-size=\"12\" font-style=\"italic\" lengthAdjust=\"spacingAndGlyphs\" textLength=\"40\" x=\"108\" y=\"100.1387\">«part»</text><text fill=\"#000000\" font-family=\"sans-serif\" font-size=\"12\" lengthAdjust=\"spacingAndGlyphs\" textLength=\"21\" x=\"117.5\" y=\"114.1074\">z: B</text><line style=\"stroke: #383838; stroke-width: 1.5;\" x1=\"108\" x2=\"148\" y1=\"121.9375\" y2=\"121.9375\"/></a><!--MD5=[09b614a08d8cba4a07c9adeb5e0fee81]\n",
       "class E3--><a href=\"psysml:c33e3566-7ac4-4487-b3df-3cd0148aac2a\" target=\"_top\" title=\"psysml:c33e3566-7ac4-4487-b3df-3cd0148aac2a\" xlink:actuate=\"onRequest\" xlink:href=\"psysml:c33e3566-7ac4-4487-b3df-3cd0148aac2a\" xlink:show=\"new\" xlink:title=\"psysml:c33e3566-7ac4-4487-b3df-3cd0148aac2a\" xlink:type=\"simple\"><rect fill=\"#FFFFFF\" height=\"45.9375\" id=\"E3\" style=\"stroke: #383838; stroke-width: 1.5;\" width=\"66\" x=\"227\" y=\"205\"/><text fill=\"#000000\" font-family=\"sans-serif\" font-size=\"12\" font-style=\"italic\" lengthAdjust=\"spacingAndGlyphs\" textLength=\"64\" x=\"228\" y=\"221.1387\">«part def»</text><text fill=\"#000000\" font-family=\"sans-serif\" font-size=\"12\" lengthAdjust=\"spacingAndGlyphs\" textLength=\"8\" x=\"256\" y=\"235.1074\">A</text><line style=\"stroke: #383838; stroke-width: 1.5;\" x1=\"228\" x2=\"292\" y1=\"242.9375\" y2=\"242.9375\"/></a><a href=\"psysml:b9d82d12-80d8-4b65-b32b-0d4caf256cd7\" target=\"_top\" title=\"psysml:b9d82d12-80d8-4b65-b32b-0d4caf256cd7\" xlink:actuate=\"onRequest\" xlink:href=\"psysml:b9d82d12-80d8-4b65-b32b-0d4caf256cd7\" xlink:show=\"new\" xlink:title=\"psysml:b9d82d12-80d8-4b65-b32b-0d4caf256cd7\" xlink:type=\"simple\"><polygon fill=\"#FFFFFF\" points=\"32,80.5,58,80.5,65,102.7969,72,102.7969,72,133.0938,32,133.0938,32,80.5\" style=\"stroke: #000000; stroke-width: 1.5;\"/><line style=\"stroke: #000000; stroke-width: 1.5;\" x1=\"32\" x2=\"65\" y1=\"102.7969\" y2=\"102.7969\"/><text fill=\"#000000\" font-family=\"sans-serif\" font-size=\"14\" font-weight=\"bold\" lengthAdjust=\"spacingAndGlyphs\" textLength=\"20\" x=\"36\" y=\"95.4951\">P2</text></a><!--MD5=[2156ba9850f5573cc1fc38a6a4b2f02b]\n",
       "class E7--><a href=\"psysml:70818b0d-1657-43d7-b586-0302676d35dd\" target=\"_top\" title=\"psysml:70818b0d-1657-43d7-b586-0302676d35dd\" xlink:actuate=\"onRequest\" xlink:href=\"psysml:70818b0d-1657-43d7-b586-0302676d35dd\" xlink:show=\"new\" xlink:title=\"psysml:70818b0d-1657-43d7-b586-0302676d35dd\" xlink:type=\"simple\"><rect fill=\"#FFFFFF\" height=\"45.9375\" id=\"E7\" style=\"stroke: #383838; stroke-width: 1.5;\" width=\"66\" x=\"95\" y=\"205\"/><text fill=\"#000000\" font-family=\"sans-serif\" font-size=\"12\" font-style=\"italic\" lengthAdjust=\"spacingAndGlyphs\" textLength=\"64\" x=\"96\" y=\"221.1387\">«part def»</text><text fill=\"#000000\" font-family=\"sans-serif\" font-size=\"12\" lengthAdjust=\"spacingAndGlyphs\" textLength=\"8\" x=\"124\" y=\"235.1074\">B</text><line style=\"stroke: #383838; stroke-width: 1.5;\" x1=\"96\" x2=\"160\" y1=\"242.9375\" y2=\"242.9375\"/></a><!--MD5=[96f4274e9e20536e775497830990834d]\n",
       "class E10--><a href=\"psysml:e183bef4-e50f-4a79-aea2-e72f91ae33b1\" target=\"_top\" title=\"psysml:e183bef4-e50f-4a79-aea2-e72f91ae33b1\" xlink:actuate=\"onRequest\" xlink:href=\"psysml:e183bef4-e50f-4a79-aea2-e72f91ae33b1\" xlink:show=\"new\" xlink:title=\"psysml:e183bef4-e50f-4a79-aea2-e72f91ae33b1\" xlink:type=\"simple\"><rect fill=\"#FFFFFF\" height=\"45.9375\" id=\"E10\" rx=\"10\" ry=\"10\" style=\"stroke: #383838; stroke-width: 1.5;\" width=\"42\" x=\"261\" y=\"84\"/><text fill=\"#000000\" font-family=\"sans-serif\" font-size=\"12\" font-style=\"italic\" lengthAdjust=\"spacingAndGlyphs\" textLength=\"40\" x=\"262\" y=\"100.1387\">«part»</text><text fill=\"#000000\" font-family=\"sans-serif\" font-size=\"12\" lengthAdjust=\"spacingAndGlyphs\" textLength=\"29\" x=\"267.5\" y=\"114.1074\">z1: A</text><line style=\"stroke: #383838; stroke-width: 1.5;\" x1=\"262\" x2=\"302\" y1=\"121.9375\" y2=\"121.9375\"/></a><!--MD5=[e9be52314489bd878ff4c7144b63c9e1]\n",
       "link E5 to E3--><a href=\"psysml:f8be15bd-6ead-4f94-a81d-297834d3bff2\" target=\"_top\" title=\"psysml:f8be15bd-6ead-4f94-a81d-297834d3bff2\" xlink:actuate=\"onRequest\" xlink:href=\"psysml:f8be15bd-6ead-4f94-a81d-297834d3bff2\" xlink:show=\"new\" xlink:title=\"psysml:f8be15bd-6ead-4f94-a81d-297834d3bff2\" xlink:type=\"simple\"><path d=\"M215.22,130.1 C222.5,145.87 232.51,167.52 241.22,186.36 \" fill=\"none\" id=\"E5-&gt;E3\" style=\"stroke: #383838; stroke-width: 1.0;\"/><polygon fill=\"#FFFFFF\" points=\"249.65,204.61,235.3286,190.2958,248.0386,184.4258,249.65,204.61\" style=\"stroke: #383838; stroke-width: 1.0;\"/><ellipse cx=\"234.7544\" cy=\"184.2824\" fill=\"#383838\" rx=\"2\" ry=\"2\" style=\"stroke: #383838; stroke-width: 1.0;\"/><ellipse cx=\"243.8329\" cy=\"180.0896\" fill=\"#383838\" rx=\"2\" ry=\"2\" style=\"stroke: #383838; stroke-width: 1.0;\"/></a><!--MD5=[bfa3c8b0d15052fdf50ae9310b491027]\n",
       "link E8 to E7--><a href=\"psysml:2890fdf6-d136-470e-95db-a042243a6f10\" target=\"_top\" title=\"psysml:2890fdf6-d136-470e-95db-a042243a6f10\" xlink:actuate=\"onRequest\" xlink:href=\"psysml:2890fdf6-d136-470e-95db-a042243a6f10\" xlink:show=\"new\" xlink:title=\"psysml:2890fdf6-d136-470e-95db-a042243a6f10\" xlink:type=\"simple\"><path d=\"M128,130.1 C128,145.37 128,166.16 128,184.57 \" fill=\"none\" id=\"E8-&gt;E7\" style=\"stroke: #383838; stroke-width: 1.0;\"/><polygon fill=\"#FFFFFF\" points=\"128,204.61,121,185.61,135,185.61,128,204.61\" style=\"stroke: #383838; stroke-width: 1.0;\"/><ellipse cx=\"123\" cy=\"179.91\" fill=\"#383838\" rx=\"2\" ry=\"2\" style=\"stroke: #383838; stroke-width: 1.0;\"/><ellipse cx=\"133\" cy=\"179.91\" fill=\"#383838\" rx=\"2\" ry=\"2\" style=\"stroke: #383838; stroke-width: 1.0;\"/></a><!--MD5=[feeac5eb423634930294aa81f2d25a4c]\n",
       "link E10 to E3--><a href=\"psysml:25a6672d-e3f3-453e-a929-7fba59fa68e7\" target=\"_top\" title=\"psysml:25a6672d-e3f3-453e-a929-7fba59fa68e7\" xlink:actuate=\"onRequest\" xlink:href=\"psysml:25a6672d-e3f3-453e-a929-7fba59fa68e7\" xlink:show=\"new\" xlink:title=\"psysml:25a6672d-e3f3-453e-a929-7fba59fa68e7\" xlink:type=\"simple\"><path d=\"M277.91,130.1 C275.08,145.45 271.21,166.39 267.79,184.87 \" fill=\"none\" id=\"E10-&gt;E3\" style=\"stroke: #383838; stroke-width: 1.0;\"/><polygon fill=\"#FFFFFF\" points=\"264.14,204.61,260.7167,184.653,274.4827,187.2023,264.14,204.61\" style=\"stroke: #383838; stroke-width: 1.0;\"/><ellipse cx=\"263.7212\" cy=\"179.4125\" fill=\"#383838\" rx=\"2\" ry=\"2\" style=\"stroke: #383838; stroke-width: 1.0;\"/><ellipse cx=\"273.554\" cy=\"181.2334\" fill=\"#383838\" rx=\"2\" ry=\"2\" style=\"stroke: #383838; stroke-width: 1.0;\"/></a><!--MD5=[7578bd66860126bf9cab6dfa4c456f42]\n",
       "@startuml\r\n",
       "top to bottom direction\r\n",
       "skinparam monochrome true\r\n",
       "skinparam classbackgroundcolor white\r\n",
       "skinparam shadowing false\r\n",
       "skinparam wrapWidth 300\r\n",
       "hide circle\r\n",
       "\r\n",
       "package \"PrivateImportTest\" as E1  [[psysml:90f2a1bf-87a7-47cf-b7dc-49b41c6fd8e7 ]]  {\r\n",
       "package \"P1\" as E2  [[psysml:16275eaf-61bd-4171-b64d-9c4aa1fed5b3 ]]  {\r\n",
       "comp def \"A\" as E3  <<(T,blue) part def>> [[psysml:c33e3566-7ac4-4487-b3df-3cd0148aac2a ]] {\r\n",
       "}\r\n",
       "}\r\n",
       "package \"P2\" as E4  [[psysml:b9d82d12-80d8-4b65-b32b-0d4caf256cd7 ]]  {\r\n",
       "}\r\n",
       "comp usage \"x: A\" as E5  <<(T,blue) part>> [[psysml:0c75b404-ec52-4836-8cbb-5da98c4a5930 ]] {\r\n",
       "}\r\n",
       "package \"P3\" as E6  [[psysml:9d4f5989-8a3e-4397-a866-52670c662db3 ]]  {\r\n",
       "comp def \"B\" as E7  <<(T,blue) part def>> [[psysml:70818b0d-1657-43d7-b586-0302676d35dd ]] {\r\n",
       "}\r\n",
       "E5 - -:|> E3 [[psysml:f8be15bd-6ead-4f94-a81d-297834d3bff2 ]] \r\n",
       "}\r\n",
       "comp usage \"z: B\" as E8  <<(T,blue) part>> [[psysml:f43ee61a-1d92-4bcd-a6ef-463238303c09 ]] {\r\n",
       "}\r\n",
       "package \"P4\" as E9  [[psysml:5979dd71-75f1-4b72-84ed-7ab4ecfce4b9 ]]  {\r\n",
       "comp usage \"z1: A\" as E10  <<(T,blue) part>> [[psysml:e183bef4-e50f-4a79-aea2-e72f91ae33b1 ]] {\r\n",
       "}\r\n",
       "E8 - -:|> E7 [[psysml:2890fdf6-d136-470e-95db-a042243a6f10 ]] \r\n",
       "E10 - -:|> E3 [[psysml:25a6672d-e3f3-453e-a929-7fba59fa68e7 ]] \r\n",
       "}\r\n",
       "}\r\n",
       "@enduml\r\n",
       "\n",
       "PlantUML version 1.2020.13(Sat Jun 13 12:26:38 UTC 2020)\n",
       "(EPL source distribution)\n",
       "Java Runtime: OpenJDK Runtime Environment\n",
       "JVM: OpenJDK 64-Bit Server VM\n",
       "Default Encoding: UTF-8\n",
       "Language: en\n",
       "Country: null\n",
       "--></g></svg>"
      ]
     },
     "execution_count": 50,
     "metadata": {},
     "output_type": "execute_result"
    }
   ],
   "source": [
    "%viz --style=\"TB\" --view=\"MIXED\" \"PrivateImportTest\""
   ]
  },
  {
   "cell_type": "code",
   "execution_count": 51,
   "id": "f5b3e990",
   "metadata": {
    "execution": {
     "iopub.execute_input": "2021-08-04T06:27:57.668457Z",
     "iopub.status.busy": "2021-08-04T06:27:57.668248Z",
     "iopub.status.idle": "2021-08-04T06:27:57.694729Z",
     "shell.execute_reply": "2021-08-04T06:27:57.693997Z"
    }
   },
   "outputs": [
    {
     "data": {
      "image/svg+xml": [
       "<?xml version=\"1.0\" encoding=\"UTF-8\" standalone=\"no\"?><svg xmlns=\"http://www.w3.org/2000/svg\" xmlns:xlink=\"http://www.w3.org/1999/xlink\" contentScriptType=\"application/ecmascript\" contentStyleType=\"text/css\" height=\"303px\" preserveAspectRatio=\"none\" style=\"width:365px;height:303px;\" version=\"1.1\" viewBox=\"0 0 365 303\" width=\"365px\" zoomAndPan=\"magnify\"><defs/><g><!--MD5=[fbc87193dbaf4d95561dea2c320d4a47]\n",
       "cluster E1--><a href=\"psysml:90f2a1bf-87a7-47cf-b7dc-49b41c6fd8e7\" target=\"_top\" title=\"psysml:90f2a1bf-87a7-47cf-b7dc-49b41c6fd8e7\" xlink:actuate=\"onRequest\" xlink:href=\"psysml:90f2a1bf-87a7-47cf-b7dc-49b41c6fd8e7\" xlink:show=\"new\" xlink:title=\"psysml:90f2a1bf-87a7-47cf-b7dc-49b41c6fd8e7\" xlink:type=\"simple\"><polygon fill=\"#FFFFFF\" points=\"16,6,163,6,170,28.2969,343,28.2969,343,291,16,291,16,6\" style=\"stroke: #000000; stroke-width: 1.5;\"/><line style=\"stroke: #000000; stroke-width: 1.5;\" x1=\"16\" x2=\"170\" y1=\"28.2969\" y2=\"28.2969\"/><text fill=\"#000000\" font-family=\"sans-serif\" font-size=\"14\" font-weight=\"bold\" lengthAdjust=\"spacingAndGlyphs\" textLength=\"141\" x=\"20\" y=\"20.9951\">PrivateImportTest</text></a><!--MD5=[e4f7fae6ed58524ba242bb0b0d3be6b7]\n",
       "cluster E2--><a href=\"psysml:16275eaf-61bd-4171-b64d-9c4aa1fed5b3\" target=\"_top\" title=\"psysml:16275eaf-61bd-4171-b64d-9c4aa1fed5b3\" xlink:actuate=\"onRequest\" xlink:href=\"psysml:16275eaf-61bd-4171-b64d-9c4aa1fed5b3\" xlink:show=\"new\" xlink:title=\"psysml:16275eaf-61bd-4171-b64d-9c4aa1fed5b3\" xlink:type=\"simple\"><polygon fill=\"#FFFFFF\" points=\"211,170,237,170,244,192.2969,309,192.2969,309,267,211,267,211,170\" style=\"stroke: #000000; stroke-width: 1.5;\"/><line style=\"stroke: #000000; stroke-width: 1.5;\" x1=\"211\" x2=\"244\" y1=\"192.2969\" y2=\"192.2969\"/><text fill=\"#000000\" font-family=\"sans-serif\" font-size=\"14\" font-weight=\"bold\" lengthAdjust=\"spacingAndGlyphs\" textLength=\"20\" x=\"215\" y=\"184.9951\">P1</text></a><!--MD5=[14e3b0961a2654348d326746436168a1]\n",
       "cluster E6--><a href=\"psysml:9d4f5989-8a3e-4397-a866-52670c662db3\" target=\"_top\" title=\"psysml:9d4f5989-8a3e-4397-a866-52670c662db3\" xlink:actuate=\"onRequest\" xlink:href=\"psysml:9d4f5989-8a3e-4397-a866-52670c662db3\" xlink:show=\"new\" xlink:title=\"psysml:9d4f5989-8a3e-4397-a866-52670c662db3\" xlink:type=\"simple\"><polygon fill=\"#FFFFFF\" points=\"79,170,105,170,112,192.2969,177,192.2969,177,267,79,267,79,170\" style=\"stroke: #000000; stroke-width: 1.5;\"/><line style=\"stroke: #000000; stroke-width: 1.5;\" x1=\"79\" x2=\"112\" y1=\"192.2969\" y2=\"192.2969\"/><text fill=\"#000000\" font-family=\"sans-serif\" font-size=\"14\" font-weight=\"bold\" lengthAdjust=\"spacingAndGlyphs\" textLength=\"20\" x=\"83\" y=\"184.9951\">P3</text></a><!--MD5=[7f149f147074ac12df2cb0a7728a5fb0]\n",
       "cluster E9--><a href=\"psysml:5979dd71-75f1-4b72-84ed-7ab4ecfce4b9\" target=\"_top\" title=\"psysml:5979dd71-75f1-4b72-84ed-7ab4ecfce4b9\" xlink:actuate=\"onRequest\" xlink:href=\"psysml:5979dd71-75f1-4b72-84ed-7ab4ecfce4b9\" xlink:show=\"new\" xlink:title=\"psysml:5979dd71-75f1-4b72-84ed-7ab4ecfce4b9\" xlink:type=\"simple\"><polygon fill=\"#FFFFFF\" points=\"245,49,271,49,278,71.2969,319,71.2969,319,146,245,146,245,49\" style=\"stroke: #000000; stroke-width: 1.5;\"/><line style=\"stroke: #000000; stroke-width: 1.5;\" x1=\"245\" x2=\"278\" y1=\"71.2969\" y2=\"71.2969\"/><text fill=\"#000000\" font-family=\"sans-serif\" font-size=\"14\" font-weight=\"bold\" lengthAdjust=\"spacingAndGlyphs\" textLength=\"20\" x=\"249\" y=\"63.9951\">P4</text></a><!--MD5=[270fce915f116d4de14055a7c1d9a0f3]\n",
       "class E5--><a href=\"psysml:0c75b404-ec52-4836-8cbb-5da98c4a5930\" target=\"_top\" title=\"psysml:0c75b404-ec52-4836-8cbb-5da98c4a5930\" xlink:actuate=\"onRequest\" xlink:href=\"psysml:0c75b404-ec52-4836-8cbb-5da98c4a5930\" xlink:show=\"new\" xlink:title=\"psysml:0c75b404-ec52-4836-8cbb-5da98c4a5930\" xlink:type=\"simple\"><rect fill=\"#FFFFFF\" height=\"45.9375\" id=\"E5\" rx=\"10\" ry=\"10\" style=\"stroke: #383838; stroke-width: 1.5;\" width=\"42\" x=\"184\" y=\"84\"/><text fill=\"#000000\" font-family=\"sans-serif\" font-size=\"12\" font-style=\"italic\" lengthAdjust=\"spacingAndGlyphs\" textLength=\"40\" x=\"185\" y=\"100.1387\">«part»</text><text fill=\"#000000\" font-family=\"sans-serif\" font-size=\"12\" lengthAdjust=\"spacingAndGlyphs\" textLength=\"22\" x=\"194\" y=\"114.1074\">x: A</text><line style=\"stroke: #383838; stroke-width: 1.5;\" x1=\"185\" x2=\"225\" y1=\"121.9375\" y2=\"121.9375\"/></a><!--MD5=[b9389687b975829384b498ac4b7476b2]\n",
       "class E8--><a href=\"psysml:f43ee61a-1d92-4bcd-a6ef-463238303c09\" target=\"_top\" title=\"psysml:f43ee61a-1d92-4bcd-a6ef-463238303c09\" xlink:actuate=\"onRequest\" xlink:href=\"psysml:f43ee61a-1d92-4bcd-a6ef-463238303c09\" xlink:show=\"new\" xlink:title=\"psysml:f43ee61a-1d92-4bcd-a6ef-463238303c09\" xlink:type=\"simple\"><rect fill=\"#FFFFFF\" height=\"45.9375\" id=\"E8\" rx=\"10\" ry=\"10\" style=\"stroke: #383838; stroke-width: 1.5;\" width=\"42\" x=\"107\" y=\"84\"/><text fill=\"#000000\" font-family=\"sans-serif\" font-size=\"12\" font-style=\"italic\" lengthAdjust=\"spacingAndGlyphs\" textLength=\"40\" x=\"108\" y=\"100.1387\">«part»</text><text fill=\"#000000\" font-family=\"sans-serif\" font-size=\"12\" lengthAdjust=\"spacingAndGlyphs\" textLength=\"21\" x=\"117.5\" y=\"114.1074\">z: B</text><line style=\"stroke: #383838; stroke-width: 1.5;\" x1=\"108\" x2=\"148\" y1=\"121.9375\" y2=\"121.9375\"/></a><!--MD5=[09b614a08d8cba4a07c9adeb5e0fee81]\n",
       "class E3--><a href=\"psysml:c33e3566-7ac4-4487-b3df-3cd0148aac2a\" target=\"_top\" title=\"psysml:c33e3566-7ac4-4487-b3df-3cd0148aac2a\" xlink:actuate=\"onRequest\" xlink:href=\"psysml:c33e3566-7ac4-4487-b3df-3cd0148aac2a\" xlink:show=\"new\" xlink:title=\"psysml:c33e3566-7ac4-4487-b3df-3cd0148aac2a\" xlink:type=\"simple\"><rect fill=\"#FFFFFF\" height=\"45.9375\" id=\"E3\" style=\"stroke: #383838; stroke-width: 1.5;\" width=\"66\" x=\"227\" y=\"205\"/><text fill=\"#000000\" font-family=\"sans-serif\" font-size=\"12\" font-style=\"italic\" lengthAdjust=\"spacingAndGlyphs\" textLength=\"64\" x=\"228\" y=\"221.1387\">«part def»</text><text fill=\"#000000\" font-family=\"sans-serif\" font-size=\"12\" lengthAdjust=\"spacingAndGlyphs\" textLength=\"8\" x=\"256\" y=\"235.1074\">A</text><line style=\"stroke: #383838; stroke-width: 1.5;\" x1=\"228\" x2=\"292\" y1=\"242.9375\" y2=\"242.9375\"/></a><a href=\"psysml:b9d82d12-80d8-4b65-b32b-0d4caf256cd7\" target=\"_top\" title=\"psysml:b9d82d12-80d8-4b65-b32b-0d4caf256cd7\" xlink:actuate=\"onRequest\" xlink:href=\"psysml:b9d82d12-80d8-4b65-b32b-0d4caf256cd7\" xlink:show=\"new\" xlink:title=\"psysml:b9d82d12-80d8-4b65-b32b-0d4caf256cd7\" xlink:type=\"simple\"><polygon fill=\"#FFFFFF\" points=\"32,80.5,58,80.5,65,102.7969,72,102.7969,72,133.0938,32,133.0938,32,80.5\" style=\"stroke: #000000; stroke-width: 1.5;\"/><line style=\"stroke: #000000; stroke-width: 1.5;\" x1=\"32\" x2=\"65\" y1=\"102.7969\" y2=\"102.7969\"/><text fill=\"#000000\" font-family=\"sans-serif\" font-size=\"14\" font-weight=\"bold\" lengthAdjust=\"spacingAndGlyphs\" textLength=\"20\" x=\"36\" y=\"95.4951\">P2</text></a><!--MD5=[2156ba9850f5573cc1fc38a6a4b2f02b]\n",
       "class E7--><a href=\"psysml:70818b0d-1657-43d7-b586-0302676d35dd\" target=\"_top\" title=\"psysml:70818b0d-1657-43d7-b586-0302676d35dd\" xlink:actuate=\"onRequest\" xlink:href=\"psysml:70818b0d-1657-43d7-b586-0302676d35dd\" xlink:show=\"new\" xlink:title=\"psysml:70818b0d-1657-43d7-b586-0302676d35dd\" xlink:type=\"simple\"><rect fill=\"#FFFFFF\" height=\"45.9375\" id=\"E7\" style=\"stroke: #383838; stroke-width: 1.5;\" width=\"66\" x=\"95\" y=\"205\"/><text fill=\"#000000\" font-family=\"sans-serif\" font-size=\"12\" font-style=\"italic\" lengthAdjust=\"spacingAndGlyphs\" textLength=\"64\" x=\"96\" y=\"221.1387\">«part def»</text><text fill=\"#000000\" font-family=\"sans-serif\" font-size=\"12\" lengthAdjust=\"spacingAndGlyphs\" textLength=\"8\" x=\"124\" y=\"235.1074\">B</text><line style=\"stroke: #383838; stroke-width: 1.5;\" x1=\"96\" x2=\"160\" y1=\"242.9375\" y2=\"242.9375\"/></a><!--MD5=[96f4274e9e20536e775497830990834d]\n",
       "class E10--><a href=\"psysml:e183bef4-e50f-4a79-aea2-e72f91ae33b1\" target=\"_top\" title=\"psysml:e183bef4-e50f-4a79-aea2-e72f91ae33b1\" xlink:actuate=\"onRequest\" xlink:href=\"psysml:e183bef4-e50f-4a79-aea2-e72f91ae33b1\" xlink:show=\"new\" xlink:title=\"psysml:e183bef4-e50f-4a79-aea2-e72f91ae33b1\" xlink:type=\"simple\"><rect fill=\"#FFFFFF\" height=\"45.9375\" id=\"E10\" rx=\"10\" ry=\"10\" style=\"stroke: #383838; stroke-width: 1.5;\" width=\"42\" x=\"261\" y=\"84\"/><text fill=\"#000000\" font-family=\"sans-serif\" font-size=\"12\" font-style=\"italic\" lengthAdjust=\"spacingAndGlyphs\" textLength=\"40\" x=\"262\" y=\"100.1387\">«part»</text><text fill=\"#000000\" font-family=\"sans-serif\" font-size=\"12\" lengthAdjust=\"spacingAndGlyphs\" textLength=\"29\" x=\"267.5\" y=\"114.1074\">z1: A</text><line style=\"stroke: #383838; stroke-width: 1.5;\" x1=\"262\" x2=\"302\" y1=\"121.9375\" y2=\"121.9375\"/></a><!--MD5=[e9be52314489bd878ff4c7144b63c9e1]\n",
       "link E5 to E3--><a href=\"psysml:f8be15bd-6ead-4f94-a81d-297834d3bff2\" target=\"_top\" title=\"psysml:f8be15bd-6ead-4f94-a81d-297834d3bff2\" xlink:actuate=\"onRequest\" xlink:href=\"psysml:f8be15bd-6ead-4f94-a81d-297834d3bff2\" xlink:show=\"new\" xlink:title=\"psysml:f8be15bd-6ead-4f94-a81d-297834d3bff2\" xlink:type=\"simple\"><path d=\"M226.33,107 C235.43,107 244,107 244,107 C244,107 244,184.96 244,184.96 \" fill=\"none\" id=\"E5-&gt;E3\" style=\"stroke: #383838; stroke-width: 1.0;\"/><polygon fill=\"#FFFFFF\" points=\"244,204.96,237,185.96,251,185.96,244,204.96\" style=\"stroke: #383838; stroke-width: 1.0;\"/><ellipse cx=\"239\" cy=\"180.26\" fill=\"#383838\" rx=\"2\" ry=\"2\" style=\"stroke: #383838; stroke-width: 1.0;\"/><ellipse cx=\"249\" cy=\"180.26\" fill=\"#383838\" rx=\"2\" ry=\"2\" style=\"stroke: #383838; stroke-width: 1.0;\"/></a><!--MD5=[bfa3c8b0d15052fdf50ae9310b491027]\n",
       "link E8 to E7--><a href=\"psysml:2890fdf6-d136-470e-95db-a042243a6f10\" target=\"_top\" title=\"psysml:2890fdf6-d136-470e-95db-a042243a6f10\" xlink:actuate=\"onRequest\" xlink:href=\"psysml:2890fdf6-d136-470e-95db-a042243a6f10\" xlink:show=\"new\" xlink:title=\"psysml:2890fdf6-d136-470e-95db-a042243a6f10\" xlink:type=\"simple\"><path d=\"M128,130.04 C128,130.04 128,184.63 128,184.63 \" fill=\"none\" id=\"E8-&gt;E7\" style=\"stroke: #383838; stroke-width: 1.0;\"/><polygon fill=\"#FFFFFF\" points=\"128,204.63,121,185.63,135,185.63,128,204.63\" style=\"stroke: #383838; stroke-width: 1.0;\"/><ellipse cx=\"123\" cy=\"179.93\" fill=\"#383838\" rx=\"2\" ry=\"2\" style=\"stroke: #383838; stroke-width: 1.0;\"/><ellipse cx=\"133\" cy=\"179.93\" fill=\"#383838\" rx=\"2\" ry=\"2\" style=\"stroke: #383838; stroke-width: 1.0;\"/></a><!--MD5=[feeac5eb423634930294aa81f2d25a4c]\n",
       "link E10 to E3--><a href=\"psysml:25a6672d-e3f3-453e-a929-7fba59fa68e7\" target=\"_top\" title=\"psysml:25a6672d-e3f3-453e-a929-7fba59fa68e7\" xlink:actuate=\"onRequest\" xlink:href=\"psysml:25a6672d-e3f3-453e-a929-7fba59fa68e7\" xlink:show=\"new\" xlink:title=\"psysml:25a6672d-e3f3-453e-a929-7fba59fa68e7\" xlink:type=\"simple\"><path d=\"M277,130.04 C277,130.04 277,184.63 277,184.63 \" fill=\"none\" id=\"E10-&gt;E3\" style=\"stroke: #383838; stroke-width: 1.0;\"/><polygon fill=\"#FFFFFF\" points=\"277,204.63,270,185.63,284,185.63,277,204.63\" style=\"stroke: #383838; stroke-width: 1.0;\"/><ellipse cx=\"272\" cy=\"179.93\" fill=\"#383838\" rx=\"2\" ry=\"2\" style=\"stroke: #383838; stroke-width: 1.0;\"/><ellipse cx=\"282\" cy=\"179.93\" fill=\"#383838\" rx=\"2\" ry=\"2\" style=\"stroke: #383838; stroke-width: 1.0;\"/></a><!--MD5=[9856b81fff9490a92acfa24c608c9ae1]\n",
       "@startuml\r\n",
       "skinparam linetype ortho\r\n",
       "skinparam monochrome true\r\n",
       "skinparam classbackgroundcolor white\r\n",
       "skinparam shadowing false\r\n",
       "skinparam wrapWidth 300\r\n",
       "hide circle\r\n",
       "\r\n",
       "package \"PrivateImportTest\" as E1  [[psysml:90f2a1bf-87a7-47cf-b7dc-49b41c6fd8e7 ]]  {\r\n",
       "package \"P1\" as E2  [[psysml:16275eaf-61bd-4171-b64d-9c4aa1fed5b3 ]]  {\r\n",
       "comp def \"A\" as E3  <<(T,blue) part def>> [[psysml:c33e3566-7ac4-4487-b3df-3cd0148aac2a ]] {\r\n",
       "}\r\n",
       "}\r\n",
       "package \"P2\" as E4  [[psysml:b9d82d12-80d8-4b65-b32b-0d4caf256cd7 ]]  {\r\n",
       "}\r\n",
       "comp usage \"x: A\" as E5  <<(T,blue) part>> [[psysml:0c75b404-ec52-4836-8cbb-5da98c4a5930 ]] {\r\n",
       "}\r\n",
       "package \"P3\" as E6  [[psysml:9d4f5989-8a3e-4397-a866-52670c662db3 ]]  {\r\n",
       "comp def \"B\" as E7  <<(T,blue) part def>> [[psysml:70818b0d-1657-43d7-b586-0302676d35dd ]] {\r\n",
       "}\r\n",
       "E5 - -:|> E3 [[psysml:f8be15bd-6ead-4f94-a81d-297834d3bff2 ]] \r\n",
       "}\r\n",
       "comp usage \"z: B\" as E8  <<(T,blue) part>> [[psysml:f43ee61a-1d92-4bcd-a6ef-463238303c09 ]] {\r\n",
       "}\r\n",
       "package \"P4\" as E9  [[psysml:5979dd71-75f1-4b72-84ed-7ab4ecfce4b9 ]]  {\r\n",
       "comp usage \"z1: A\" as E10  <<(T,blue) part>> [[psysml:e183bef4-e50f-4a79-aea2-e72f91ae33b1 ]] {\r\n",
       "}\r\n",
       "E8 - -:|> E7 [[psysml:2890fdf6-d136-470e-95db-a042243a6f10 ]] \r\n",
       "E10 - -:|> E3 [[psysml:25a6672d-e3f3-453e-a929-7fba59fa68e7 ]] \r\n",
       "}\r\n",
       "}\r\n",
       "@enduml\r\n",
       "\n",
       "PlantUML version 1.2020.13(Sat Jun 13 12:26:38 UTC 2020)\n",
       "(EPL source distribution)\n",
       "Java Runtime: OpenJDK Runtime Environment\n",
       "JVM: OpenJDK 64-Bit Server VM\n",
       "Default Encoding: UTF-8\n",
       "Language: en\n",
       "Country: null\n",
       "--></g></svg>"
      ]
     },
     "execution_count": 51,
     "metadata": {},
     "output_type": "execute_result"
    }
   ],
   "source": [
    "%viz --style=\"ORTHOLINE\" --view=\"Default\" \"PrivateImportTest\""
   ]
  },
  {
   "cell_type": "code",
   "execution_count": 52,
   "id": "aa103276",
   "metadata": {
    "execution": {
     "iopub.execute_input": "2021-08-04T06:27:57.744542Z",
     "iopub.status.busy": "2021-08-04T06:27:57.744294Z",
     "iopub.status.idle": "2021-08-04T06:27:57.769171Z",
     "shell.execute_reply": "2021-08-04T06:27:57.768437Z"
    }
   },
   "outputs": [
    {
     "data": {
      "image/svg+xml": [
       "<?xml version=\"1.0\" encoding=\"UTF-8\" standalone=\"no\"?><svg xmlns=\"http://www.w3.org/2000/svg\" xmlns:xlink=\"http://www.w3.org/1999/xlink\" contentScriptType=\"application/ecmascript\" contentStyleType=\"text/css\" height=\"303px\" preserveAspectRatio=\"none\" style=\"width:365px;height:303px;\" version=\"1.1\" viewBox=\"0 0 365 303\" width=\"365px\" zoomAndPan=\"magnify\"><defs/><g><!--MD5=[fbc87193dbaf4d95561dea2c320d4a47]\n",
       "cluster E1--><a href=\"psysml:90f2a1bf-87a7-47cf-b7dc-49b41c6fd8e7\" target=\"_top\" title=\"psysml:90f2a1bf-87a7-47cf-b7dc-49b41c6fd8e7\" xlink:actuate=\"onRequest\" xlink:href=\"psysml:90f2a1bf-87a7-47cf-b7dc-49b41c6fd8e7\" xlink:show=\"new\" xlink:title=\"psysml:90f2a1bf-87a7-47cf-b7dc-49b41c6fd8e7\" xlink:type=\"simple\"><polygon fill=\"#FFFFFF\" points=\"16,6,163,6,170,28.2969,343,28.2969,343,291,16,291,16,6\" style=\"stroke: #000000; stroke-width: 1.5;\"/><line style=\"stroke: #000000; stroke-width: 1.5;\" x1=\"16\" x2=\"170\" y1=\"28.2969\" y2=\"28.2969\"/><text fill=\"#000000\" font-family=\"sans-serif\" font-size=\"14\" font-weight=\"bold\" lengthAdjust=\"spacingAndGlyphs\" textLength=\"141\" x=\"20\" y=\"20.9951\">PrivateImportTest</text></a><!--MD5=[e4f7fae6ed58524ba242bb0b0d3be6b7]\n",
       "cluster E2--><a href=\"psysml:16275eaf-61bd-4171-b64d-9c4aa1fed5b3\" target=\"_top\" title=\"psysml:16275eaf-61bd-4171-b64d-9c4aa1fed5b3\" xlink:actuate=\"onRequest\" xlink:href=\"psysml:16275eaf-61bd-4171-b64d-9c4aa1fed5b3\" xlink:show=\"new\" xlink:title=\"psysml:16275eaf-61bd-4171-b64d-9c4aa1fed5b3\" xlink:type=\"simple\"><polygon fill=\"#FFFFFF\" points=\"211,170,237,170,244,192.2969,309,192.2969,309,267,211,267,211,170\" style=\"stroke: #000000; stroke-width: 1.5;\"/><line style=\"stroke: #000000; stroke-width: 1.5;\" x1=\"211\" x2=\"244\" y1=\"192.2969\" y2=\"192.2969\"/><text fill=\"#000000\" font-family=\"sans-serif\" font-size=\"14\" font-weight=\"bold\" lengthAdjust=\"spacingAndGlyphs\" textLength=\"20\" x=\"215\" y=\"184.9951\">P1</text></a><!--MD5=[14e3b0961a2654348d326746436168a1]\n",
       "cluster E6--><a href=\"psysml:9d4f5989-8a3e-4397-a866-52670c662db3\" target=\"_top\" title=\"psysml:9d4f5989-8a3e-4397-a866-52670c662db3\" xlink:actuate=\"onRequest\" xlink:href=\"psysml:9d4f5989-8a3e-4397-a866-52670c662db3\" xlink:show=\"new\" xlink:title=\"psysml:9d4f5989-8a3e-4397-a866-52670c662db3\" xlink:type=\"simple\"><polygon fill=\"#FFFFFF\" points=\"79,170,105,170,112,192.2969,177,192.2969,177,267,79,267,79,170\" style=\"stroke: #000000; stroke-width: 1.5;\"/><line style=\"stroke: #000000; stroke-width: 1.5;\" x1=\"79\" x2=\"112\" y1=\"192.2969\" y2=\"192.2969\"/><text fill=\"#000000\" font-family=\"sans-serif\" font-size=\"14\" font-weight=\"bold\" lengthAdjust=\"spacingAndGlyphs\" textLength=\"20\" x=\"83\" y=\"184.9951\">P3</text></a><!--MD5=[7f149f147074ac12df2cb0a7728a5fb0]\n",
       "cluster E9--><a href=\"psysml:5979dd71-75f1-4b72-84ed-7ab4ecfce4b9\" target=\"_top\" title=\"psysml:5979dd71-75f1-4b72-84ed-7ab4ecfce4b9\" xlink:actuate=\"onRequest\" xlink:href=\"psysml:5979dd71-75f1-4b72-84ed-7ab4ecfce4b9\" xlink:show=\"new\" xlink:title=\"psysml:5979dd71-75f1-4b72-84ed-7ab4ecfce4b9\" xlink:type=\"simple\"><polygon fill=\"#FFFFFF\" points=\"245,49,271,49,278,71.2969,319,71.2969,319,146,245,146,245,49\" style=\"stroke: #000000; stroke-width: 1.5;\"/><line style=\"stroke: #000000; stroke-width: 1.5;\" x1=\"245\" x2=\"278\" y1=\"71.2969\" y2=\"71.2969\"/><text fill=\"#000000\" font-family=\"sans-serif\" font-size=\"14\" font-weight=\"bold\" lengthAdjust=\"spacingAndGlyphs\" textLength=\"20\" x=\"249\" y=\"63.9951\">P4</text></a><!--MD5=[270fce915f116d4de14055a7c1d9a0f3]\n",
       "class E5--><a href=\"psysml:0c75b404-ec52-4836-8cbb-5da98c4a5930\" target=\"_top\" title=\"psysml:0c75b404-ec52-4836-8cbb-5da98c4a5930\" xlink:actuate=\"onRequest\" xlink:href=\"psysml:0c75b404-ec52-4836-8cbb-5da98c4a5930\" xlink:show=\"new\" xlink:title=\"psysml:0c75b404-ec52-4836-8cbb-5da98c4a5930\" xlink:type=\"simple\"><rect fill=\"#FFFFFF\" height=\"45.9375\" id=\"E5\" rx=\"10\" ry=\"10\" style=\"stroke: #383838; stroke-width: 1.5;\" width=\"42\" x=\"184\" y=\"84\"/><text fill=\"#000000\" font-family=\"sans-serif\" font-size=\"12\" font-style=\"italic\" lengthAdjust=\"spacingAndGlyphs\" textLength=\"40\" x=\"185\" y=\"100.1387\">«part»</text><text fill=\"#000000\" font-family=\"sans-serif\" font-size=\"12\" lengthAdjust=\"spacingAndGlyphs\" textLength=\"22\" x=\"194\" y=\"114.1074\">x: A</text><line style=\"stroke: #383838; stroke-width: 1.5;\" x1=\"185\" x2=\"225\" y1=\"121.9375\" y2=\"121.9375\"/></a><!--MD5=[b9389687b975829384b498ac4b7476b2]\n",
       "class E8--><a href=\"psysml:f43ee61a-1d92-4bcd-a6ef-463238303c09\" target=\"_top\" title=\"psysml:f43ee61a-1d92-4bcd-a6ef-463238303c09\" xlink:actuate=\"onRequest\" xlink:href=\"psysml:f43ee61a-1d92-4bcd-a6ef-463238303c09\" xlink:show=\"new\" xlink:title=\"psysml:f43ee61a-1d92-4bcd-a6ef-463238303c09\" xlink:type=\"simple\"><rect fill=\"#FFFFFF\" height=\"45.9375\" id=\"E8\" rx=\"10\" ry=\"10\" style=\"stroke: #383838; stroke-width: 1.5;\" width=\"42\" x=\"107\" y=\"84\"/><text fill=\"#000000\" font-family=\"sans-serif\" font-size=\"12\" font-style=\"italic\" lengthAdjust=\"spacingAndGlyphs\" textLength=\"40\" x=\"108\" y=\"100.1387\">«part»</text><text fill=\"#000000\" font-family=\"sans-serif\" font-size=\"12\" lengthAdjust=\"spacingAndGlyphs\" textLength=\"21\" x=\"117.5\" y=\"114.1074\">z: B</text><line style=\"stroke: #383838; stroke-width: 1.5;\" x1=\"108\" x2=\"148\" y1=\"121.9375\" y2=\"121.9375\"/></a><!--MD5=[09b614a08d8cba4a07c9adeb5e0fee81]\n",
       "class E3--><a href=\"psysml:c33e3566-7ac4-4487-b3df-3cd0148aac2a\" target=\"_top\" title=\"psysml:c33e3566-7ac4-4487-b3df-3cd0148aac2a\" xlink:actuate=\"onRequest\" xlink:href=\"psysml:c33e3566-7ac4-4487-b3df-3cd0148aac2a\" xlink:show=\"new\" xlink:title=\"psysml:c33e3566-7ac4-4487-b3df-3cd0148aac2a\" xlink:type=\"simple\"><rect fill=\"#FFFFFF\" height=\"45.9375\" id=\"E3\" style=\"stroke: #383838; stroke-width: 1.5;\" width=\"66\" x=\"227\" y=\"205\"/><text fill=\"#000000\" font-family=\"sans-serif\" font-size=\"12\" font-style=\"italic\" lengthAdjust=\"spacingAndGlyphs\" textLength=\"64\" x=\"228\" y=\"221.1387\">«part def»</text><text fill=\"#000000\" font-family=\"sans-serif\" font-size=\"12\" lengthAdjust=\"spacingAndGlyphs\" textLength=\"8\" x=\"256\" y=\"235.1074\">A</text><line style=\"stroke: #383838; stroke-width: 1.5;\" x1=\"228\" x2=\"292\" y1=\"242.9375\" y2=\"242.9375\"/></a><a href=\"psysml:b9d82d12-80d8-4b65-b32b-0d4caf256cd7\" target=\"_top\" title=\"psysml:b9d82d12-80d8-4b65-b32b-0d4caf256cd7\" xlink:actuate=\"onRequest\" xlink:href=\"psysml:b9d82d12-80d8-4b65-b32b-0d4caf256cd7\" xlink:show=\"new\" xlink:title=\"psysml:b9d82d12-80d8-4b65-b32b-0d4caf256cd7\" xlink:type=\"simple\"><polygon fill=\"#FFFFFF\" points=\"32,80.5,58,80.5,65,102.7969,72,102.7969,72,133.0938,32,133.0938,32,80.5\" style=\"stroke: #000000; stroke-width: 1.5;\"/><line style=\"stroke: #000000; stroke-width: 1.5;\" x1=\"32\" x2=\"65\" y1=\"102.7969\" y2=\"102.7969\"/><text fill=\"#000000\" font-family=\"sans-serif\" font-size=\"14\" font-weight=\"bold\" lengthAdjust=\"spacingAndGlyphs\" textLength=\"20\" x=\"36\" y=\"95.4951\">P2</text></a><!--MD5=[2156ba9850f5573cc1fc38a6a4b2f02b]\n",
       "class E7--><a href=\"psysml:70818b0d-1657-43d7-b586-0302676d35dd\" target=\"_top\" title=\"psysml:70818b0d-1657-43d7-b586-0302676d35dd\" xlink:actuate=\"onRequest\" xlink:href=\"psysml:70818b0d-1657-43d7-b586-0302676d35dd\" xlink:show=\"new\" xlink:title=\"psysml:70818b0d-1657-43d7-b586-0302676d35dd\" xlink:type=\"simple\"><rect fill=\"#FFFFFF\" height=\"45.9375\" id=\"E7\" style=\"stroke: #383838; stroke-width: 1.5;\" width=\"66\" x=\"95\" y=\"205\"/><text fill=\"#000000\" font-family=\"sans-serif\" font-size=\"12\" font-style=\"italic\" lengthAdjust=\"spacingAndGlyphs\" textLength=\"64\" x=\"96\" y=\"221.1387\">«part def»</text><text fill=\"#000000\" font-family=\"sans-serif\" font-size=\"12\" lengthAdjust=\"spacingAndGlyphs\" textLength=\"8\" x=\"124\" y=\"235.1074\">B</text><line style=\"stroke: #383838; stroke-width: 1.5;\" x1=\"96\" x2=\"160\" y1=\"242.9375\" y2=\"242.9375\"/></a><!--MD5=[96f4274e9e20536e775497830990834d]\n",
       "class E10--><a href=\"psysml:e183bef4-e50f-4a79-aea2-e72f91ae33b1\" target=\"_top\" title=\"psysml:e183bef4-e50f-4a79-aea2-e72f91ae33b1\" xlink:actuate=\"onRequest\" xlink:href=\"psysml:e183bef4-e50f-4a79-aea2-e72f91ae33b1\" xlink:show=\"new\" xlink:title=\"psysml:e183bef4-e50f-4a79-aea2-e72f91ae33b1\" xlink:type=\"simple\"><rect fill=\"#FFFFFF\" height=\"45.9375\" id=\"E10\" rx=\"10\" ry=\"10\" style=\"stroke: #383838; stroke-width: 1.5;\" width=\"42\" x=\"261\" y=\"84\"/><text fill=\"#000000\" font-family=\"sans-serif\" font-size=\"12\" font-style=\"italic\" lengthAdjust=\"spacingAndGlyphs\" textLength=\"40\" x=\"262\" y=\"100.1387\">«part»</text><text fill=\"#000000\" font-family=\"sans-serif\" font-size=\"12\" lengthAdjust=\"spacingAndGlyphs\" textLength=\"29\" x=\"267.5\" y=\"114.1074\">z1: A</text><line style=\"stroke: #383838; stroke-width: 1.5;\" x1=\"262\" x2=\"302\" y1=\"121.9375\" y2=\"121.9375\"/></a><!--MD5=[e9be52314489bd878ff4c7144b63c9e1]\n",
       "link E5 to E3--><a href=\"psysml:f8be15bd-6ead-4f94-a81d-297834d3bff2\" target=\"_top\" title=\"psysml:f8be15bd-6ead-4f94-a81d-297834d3bff2\" xlink:actuate=\"onRequest\" xlink:href=\"psysml:f8be15bd-6ead-4f94-a81d-297834d3bff2\" xlink:show=\"new\" xlink:title=\"psysml:f8be15bd-6ead-4f94-a81d-297834d3bff2\" xlink:type=\"simple\"><path d=\"M226.33,107 C235.43,107 244,107 244,107 C244,107 244,184.96 244,184.96 \" fill=\"none\" id=\"E5-&gt;E3\" style=\"stroke: #383838; stroke-width: 1.0;\"/><polygon fill=\"#FFFFFF\" points=\"244,204.96,237,185.96,251,185.96,244,204.96\" style=\"stroke: #383838; stroke-width: 1.0;\"/><ellipse cx=\"239\" cy=\"180.26\" fill=\"#383838\" rx=\"2\" ry=\"2\" style=\"stroke: #383838; stroke-width: 1.0;\"/><ellipse cx=\"249\" cy=\"180.26\" fill=\"#383838\" rx=\"2\" ry=\"2\" style=\"stroke: #383838; stroke-width: 1.0;\"/></a><!--MD5=[bfa3c8b0d15052fdf50ae9310b491027]\n",
       "link E8 to E7--><a href=\"psysml:2890fdf6-d136-470e-95db-a042243a6f10\" target=\"_top\" title=\"psysml:2890fdf6-d136-470e-95db-a042243a6f10\" xlink:actuate=\"onRequest\" xlink:href=\"psysml:2890fdf6-d136-470e-95db-a042243a6f10\" xlink:show=\"new\" xlink:title=\"psysml:2890fdf6-d136-470e-95db-a042243a6f10\" xlink:type=\"simple\"><path d=\"M128,130.04 C128,130.04 128,184.63 128,184.63 \" fill=\"none\" id=\"E8-&gt;E7\" style=\"stroke: #383838; stroke-width: 1.0;\"/><polygon fill=\"#FFFFFF\" points=\"128,204.63,121,185.63,135,185.63,128,204.63\" style=\"stroke: #383838; stroke-width: 1.0;\"/><ellipse cx=\"123\" cy=\"179.93\" fill=\"#383838\" rx=\"2\" ry=\"2\" style=\"stroke: #383838; stroke-width: 1.0;\"/><ellipse cx=\"133\" cy=\"179.93\" fill=\"#383838\" rx=\"2\" ry=\"2\" style=\"stroke: #383838; stroke-width: 1.0;\"/></a><!--MD5=[feeac5eb423634930294aa81f2d25a4c]\n",
       "link E10 to E3--><a href=\"psysml:25a6672d-e3f3-453e-a929-7fba59fa68e7\" target=\"_top\" title=\"psysml:25a6672d-e3f3-453e-a929-7fba59fa68e7\" xlink:actuate=\"onRequest\" xlink:href=\"psysml:25a6672d-e3f3-453e-a929-7fba59fa68e7\" xlink:show=\"new\" xlink:title=\"psysml:25a6672d-e3f3-453e-a929-7fba59fa68e7\" xlink:type=\"simple\"><path d=\"M277,130.04 C277,130.04 277,184.63 277,184.63 \" fill=\"none\" id=\"E10-&gt;E3\" style=\"stroke: #383838; stroke-width: 1.0;\"/><polygon fill=\"#FFFFFF\" points=\"277,204.63,270,185.63,284,185.63,277,204.63\" style=\"stroke: #383838; stroke-width: 1.0;\"/><ellipse cx=\"272\" cy=\"179.93\" fill=\"#383838\" rx=\"2\" ry=\"2\" style=\"stroke: #383838; stroke-width: 1.0;\"/><ellipse cx=\"282\" cy=\"179.93\" fill=\"#383838\" rx=\"2\" ry=\"2\" style=\"stroke: #383838; stroke-width: 1.0;\"/></a><!--MD5=[9856b81fff9490a92acfa24c608c9ae1]\n",
       "@startuml\r\n",
       "skinparam linetype ortho\r\n",
       "skinparam monochrome true\r\n",
       "skinparam classbackgroundcolor white\r\n",
       "skinparam shadowing false\r\n",
       "skinparam wrapWidth 300\r\n",
       "hide circle\r\n",
       "\r\n",
       "package \"PrivateImportTest\" as E1  [[psysml:90f2a1bf-87a7-47cf-b7dc-49b41c6fd8e7 ]]  {\r\n",
       "package \"P1\" as E2  [[psysml:16275eaf-61bd-4171-b64d-9c4aa1fed5b3 ]]  {\r\n",
       "comp def \"A\" as E3  <<(T,blue) part def>> [[psysml:c33e3566-7ac4-4487-b3df-3cd0148aac2a ]] {\r\n",
       "}\r\n",
       "}\r\n",
       "package \"P2\" as E4  [[psysml:b9d82d12-80d8-4b65-b32b-0d4caf256cd7 ]]  {\r\n",
       "}\r\n",
       "comp usage \"x: A\" as E5  <<(T,blue) part>> [[psysml:0c75b404-ec52-4836-8cbb-5da98c4a5930 ]] {\r\n",
       "}\r\n",
       "package \"P3\" as E6  [[psysml:9d4f5989-8a3e-4397-a866-52670c662db3 ]]  {\r\n",
       "comp def \"B\" as E7  <<(T,blue) part def>> [[psysml:70818b0d-1657-43d7-b586-0302676d35dd ]] {\r\n",
       "}\r\n",
       "E5 - -:|> E3 [[psysml:f8be15bd-6ead-4f94-a81d-297834d3bff2 ]] \r\n",
       "}\r\n",
       "comp usage \"z: B\" as E8  <<(T,blue) part>> [[psysml:f43ee61a-1d92-4bcd-a6ef-463238303c09 ]] {\r\n",
       "}\r\n",
       "package \"P4\" as E9  [[psysml:5979dd71-75f1-4b72-84ed-7ab4ecfce4b9 ]]  {\r\n",
       "comp usage \"z1: A\" as E10  <<(T,blue) part>> [[psysml:e183bef4-e50f-4a79-aea2-e72f91ae33b1 ]] {\r\n",
       "}\r\n",
       "E8 - -:|> E7 [[psysml:2890fdf6-d136-470e-95db-a042243a6f10 ]] \r\n",
       "E10 - -:|> E3 [[psysml:25a6672d-e3f3-453e-a929-7fba59fa68e7 ]] \r\n",
       "}\r\n",
       "}\r\n",
       "@enduml\r\n",
       "\n",
       "PlantUML version 1.2020.13(Sat Jun 13 12:26:38 UTC 2020)\n",
       "(EPL source distribution)\n",
       "Java Runtime: OpenJDK Runtime Environment\n",
       "JVM: OpenJDK 64-Bit Server VM\n",
       "Default Encoding: UTF-8\n",
       "Language: en\n",
       "Country: null\n",
       "--></g></svg>"
      ]
     },
     "execution_count": 52,
     "metadata": {},
     "output_type": "execute_result"
    }
   ],
   "source": [
    "%viz --style=\"ORTHOLINE\" --view=\"Tree\" \"PrivateImportTest\""
   ]
  },
  {
   "cell_type": "code",
   "execution_count": 53,
   "id": "29b9d0d1",
   "metadata": {
    "execution": {
     "iopub.execute_input": "2021-08-04T06:27:57.818735Z",
     "iopub.status.busy": "2021-08-04T06:27:57.818488Z",
     "iopub.status.idle": "2021-08-04T06:27:57.821892Z",
     "shell.execute_reply": "2021-08-04T06:27:57.821491Z"
    }
   },
   "outputs": [
    {
     "data": {
      "image/svg+xml": [
       "<?xml version=\"1.0\" encoding=\"UTF-8\" standalone=\"no\"?><svg xmlns=\"http://www.w3.org/2000/svg\" xmlns:xlink=\"http://www.w3.org/1999/xlink\" contentScriptType=\"application/ecmascript\" contentStyleType=\"text/css\" height=\"12px\" preserveAspectRatio=\"none\" style=\"width:12px;height:12px;\" version=\"1.1\" viewBox=\"0 0 12 12\" width=\"12px\" zoomAndPan=\"magnify\"><defs/><g><!--MD5=[97d6f38768b311333d388e66b2b27985]\n",
       "@startuml\r\n",
       "skinparam linetype ortho\r\n",
       "skinparam monochrome true\r\n",
       "skinparam classbackgroundcolor white\r\n",
       "skinparam shadowing false\r\n",
       "skinparam wrapWidth 300\r\n",
       "hide circle\r\n",
       "\r\n",
       "@enduml\r\n",
       "\n",
       "PlantUML version 1.2020.13(Sat Jun 13 12:26:38 UTC 2020)\n",
       "(EPL source distribution)\n",
       "Java Runtime: OpenJDK Runtime Environment\n",
       "JVM: OpenJDK 64-Bit Server VM\n",
       "Default Encoding: UTF-8\n",
       "Language: en\n",
       "Country: null\n",
       "--></g></svg>"
      ]
     },
     "execution_count": 53,
     "metadata": {},
     "output_type": "execute_result"
    }
   ],
   "source": [
    "%viz --style=\"ORTHOLINE\" --view=\"State\" \"PrivateImportTest\""
   ]
  },
  {
   "cell_type": "code",
   "execution_count": 54,
   "id": "aba06a4f",
   "metadata": {
    "execution": {
     "iopub.execute_input": "2021-08-04T06:27:57.871258Z",
     "iopub.status.busy": "2021-08-04T06:27:57.871054Z",
     "iopub.status.idle": "2021-08-04T06:27:57.891589Z",
     "shell.execute_reply": "2021-08-04T06:27:57.891182Z"
    }
   },
   "outputs": [
    {
     "data": {
      "image/svg+xml": [
       "<?xml version=\"1.0\" encoding=\"UTF-8\" standalone=\"no\"?><svg xmlns=\"http://www.w3.org/2000/svg\" xmlns:xlink=\"http://www.w3.org/1999/xlink\" contentScriptType=\"application/ecmascript\" contentStyleType=\"text/css\" height=\"179px\" preserveAspectRatio=\"none\" style=\"width:645px;height:179px;\" version=\"1.1\" viewBox=\"0 0 645 179\" width=\"645px\" zoomAndPan=\"magnify\"><defs/><g><!--MD5=[fbc87193dbaf4d95561dea2c320d4a47]\n",
       "cluster E1--><a href=\"psysml:90f2a1bf-87a7-47cf-b7dc-49b41c6fd8e7\" target=\"_top\" title=\"psysml:90f2a1bf-87a7-47cf-b7dc-49b41c6fd8e7\" xlink:actuate=\"onRequest\" xlink:href=\"psysml:90f2a1bf-87a7-47cf-b7dc-49b41c6fd8e7\" xlink:show=\"new\" xlink:title=\"psysml:90f2a1bf-87a7-47cf-b7dc-49b41c6fd8e7\" xlink:type=\"simple\"><polygon fill=\"#FFFFFF\" points=\"16,6,163,6,170,28.2969,623,28.2969,623,167,16,167,16,6\" style=\"stroke: #000000; stroke-width: 1.5;\"/><line style=\"stroke: #000000; stroke-width: 1.5;\" x1=\"16\" x2=\"170\" y1=\"28.2969\" y2=\"28.2969\"/><text fill=\"#000000\" font-family=\"sans-serif\" font-size=\"14\" font-weight=\"bold\" lengthAdjust=\"spacingAndGlyphs\" textLength=\"141\" x=\"20\" y=\"20.9951\">PrivateImportTest</text></a><!--MD5=[e4f7fae6ed58524ba242bb0b0d3be6b7]\n",
       "cluster E2--><a href=\"psysml:16275eaf-61bd-4171-b64d-9c4aa1fed5b3\" target=\"_top\" title=\"psysml:16275eaf-61bd-4171-b64d-9c4aa1fed5b3\" xlink:actuate=\"onRequest\" xlink:href=\"psysml:16275eaf-61bd-4171-b64d-9c4aa1fed5b3\" xlink:show=\"new\" xlink:title=\"psysml:16275eaf-61bd-4171-b64d-9c4aa1fed5b3\" xlink:type=\"simple\"><polygon fill=\"#FFFFFF\" points=\"495,49,521,49,528,71.2969,599,71.2969,599,143,495,143,495,49\" style=\"stroke: #000000; stroke-width: 1.5;\"/><line style=\"stroke: #000000; stroke-width: 1.5;\" x1=\"495\" x2=\"528\" y1=\"71.2969\" y2=\"71.2969\"/><text fill=\"#000000\" font-family=\"sans-serif\" font-size=\"14\" font-weight=\"bold\" lengthAdjust=\"spacingAndGlyphs\" textLength=\"20\" x=\"499\" y=\"63.9951\">P1</text></a><!--MD5=[14e3b0961a2654348d326746436168a1]\n",
       "cluster E6--><a href=\"psysml:9d4f5989-8a3e-4397-a866-52670c662db3\" target=\"_top\" title=\"psysml:9d4f5989-8a3e-4397-a866-52670c662db3\" xlink:actuate=\"onRequest\" xlink:href=\"psysml:9d4f5989-8a3e-4397-a866-52670c662db3\" xlink:show=\"new\" xlink:title=\"psysml:9d4f5989-8a3e-4397-a866-52670c662db3\" xlink:type=\"simple\"><polygon fill=\"#FFFFFF\" points=\"367,49,393,49,400,71.2969,471,71.2969,471,143,367,143,367,49\" style=\"stroke: #000000; stroke-width: 1.5;\"/><line style=\"stroke: #000000; stroke-width: 1.5;\" x1=\"367\" x2=\"400\" y1=\"71.2969\" y2=\"71.2969\"/><text fill=\"#000000\" font-family=\"sans-serif\" font-size=\"14\" font-weight=\"bold\" lengthAdjust=\"spacingAndGlyphs\" textLength=\"20\" x=\"371\" y=\"63.9951\">P3</text></a><!--MD5=[7f149f147074ac12df2cb0a7728a5fb0]\n",
       "cluster E9--><a href=\"psysml:5979dd71-75f1-4b72-84ed-7ab4ecfce4b9\" target=\"_top\" title=\"psysml:5979dd71-75f1-4b72-84ed-7ab4ecfce4b9\" xlink:actuate=\"onRequest\" xlink:href=\"psysml:5979dd71-75f1-4b72-84ed-7ab4ecfce4b9\" xlink:show=\"new\" xlink:title=\"psysml:5979dd71-75f1-4b72-84ed-7ab4ecfce4b9\" xlink:type=\"simple\"><polygon fill=\"#FFFFFF\" points=\"261,50.5,287,50.5,294,72.7969,343,72.7969,343,141.5,261,141.5,261,50.5\" style=\"stroke: #000000; stroke-width: 1.5;\"/><line style=\"stroke: #000000; stroke-width: 1.5;\" x1=\"261\" x2=\"294\" y1=\"72.7969\" y2=\"72.7969\"/><text fill=\"#000000\" font-family=\"sans-serif\" font-size=\"14\" font-weight=\"bold\" lengthAdjust=\"spacingAndGlyphs\" textLength=\"20\" x=\"265\" y=\"65.4951\">P4</text></a><g id=\"E1.E2.E3\"><a href=\"psysml:c33e3566-7ac4-4487-b3df-3cd0148aac2a\" target=\"_top\" title=\"psysml:c33e3566-7ac4-4487-b3df-3cd0148aac2a\" xlink:actuate=\"onRequest\" xlink:href=\"psysml:c33e3566-7ac4-4487-b3df-3cd0148aac2a\" xlink:show=\"new\" xlink:title=\"psysml:c33e3566-7ac4-4487-b3df-3cd0148aac2a\" xlink:type=\"simple\"><rect fill=\"#FFFFFF\" height=\"42.9375\" id=\"E3\" style=\"stroke: #383838; stroke-width: 1.5;\" width=\"71\" x=\"511.5\" y=\"84\"/><rect fill=\"#F8F8F8\" height=\"37.9375\" style=\"stroke: #383838; stroke-width: 1.5;\" width=\"71\" x=\"511.5\" y=\"84\"/><text fill=\"#000000\" font-family=\"sans-serif\" font-size=\"12\" font-style=\"italic\" lengthAdjust=\"spacingAndGlyphs\" textLength=\"64\" x=\"515\" y=\"100.1387\">«part def»</text><text fill=\"#000000\" font-family=\"sans-serif\" font-size=\"12\" lengthAdjust=\"spacingAndGlyphs\" textLength=\"8\" x=\"543\" y=\"114.1074\">A</text></a></g><a href=\"psysml:b9d82d12-80d8-4b65-b32b-0d4caf256cd7\" target=\"_top\" title=\"psysml:b9d82d12-80d8-4b65-b32b-0d4caf256cd7\" xlink:actuate=\"onRequest\" xlink:href=\"psysml:b9d82d12-80d8-4b65-b32b-0d4caf256cd7\" xlink:show=\"new\" xlink:title=\"psysml:b9d82d12-80d8-4b65-b32b-0d4caf256cd7\" xlink:type=\"simple\"><polygon fill=\"#FFFFFF\" points=\"202,79,228,79,235,101.2969,242,101.2969,242,131.5938,202,131.5938,202,79\" style=\"stroke: #000000; stroke-width: 1.5;\"/><line style=\"stroke: #000000; stroke-width: 1.5;\" x1=\"202\" x2=\"235\" y1=\"101.2969\" y2=\"101.2969\"/><text fill=\"#000000\" font-family=\"sans-serif\" font-size=\"14\" font-weight=\"bold\" lengthAdjust=\"spacingAndGlyphs\" textLength=\"20\" x=\"206\" y=\"93.9951\">P2</text></a><g id=\"E1.E5\"><a href=\"psysml:0c75b404-ec52-4836-8cbb-5da98c4a5930\" target=\"_top\" title=\"psysml:0c75b404-ec52-4836-8cbb-5da98c4a5930\" xlink:actuate=\"onRequest\" xlink:href=\"psysml:0c75b404-ec52-4836-8cbb-5da98c4a5930\" xlink:show=\"new\" xlink:title=\"psysml:0c75b404-ec52-4836-8cbb-5da98c4a5930\" xlink:type=\"simple\"><rect fill=\"#FFFFFF\" height=\"40\" id=\"E5\" rx=\"10\" ry=\"10\" style=\"stroke: #383838; stroke-width: 1.5;\" width=\"50\" x=\"117\" y=\"85.5\"/><rect fill=\"#F8F8F8\" height=\"23.9688\" rx=\"10\" ry=\"10\" style=\"stroke: #F8F8F8; stroke-width: 1.5;\" width=\"50\" x=\"117\" y=\"85.5\"/><rect fill=\"#F8F8F8\" height=\"10\" style=\"stroke: #F8F8F8; stroke-width: 1.5;\" width=\"50\" x=\"117\" y=\"99.4688\"/><rect fill=\"none\" height=\"40\" id=\"E5\" rx=\"10\" ry=\"10\" style=\"stroke: #383838; stroke-width: 1.5;\" width=\"50\" x=\"117\" y=\"85.5\"/><text fill=\"#000000\" font-family=\"sans-serif\" font-size=\"12\" lengthAdjust=\"spacingAndGlyphs\" textLength=\"22\" x=\"131\" y=\"101.6387\">x: A</text></a></g><g id=\"E1.E6.E7\"><a href=\"psysml:70818b0d-1657-43d7-b586-0302676d35dd\" target=\"_top\" title=\"psysml:70818b0d-1657-43d7-b586-0302676d35dd\" xlink:actuate=\"onRequest\" xlink:href=\"psysml:70818b0d-1657-43d7-b586-0302676d35dd\" xlink:show=\"new\" xlink:title=\"psysml:70818b0d-1657-43d7-b586-0302676d35dd\" xlink:type=\"simple\"><rect fill=\"#FFFFFF\" height=\"42.9375\" id=\"E7\" style=\"stroke: #383838; stroke-width: 1.5;\" width=\"71\" x=\"383.5\" y=\"84\"/><rect fill=\"#F8F8F8\" height=\"37.9375\" style=\"stroke: #383838; stroke-width: 1.5;\" width=\"71\" x=\"383.5\" y=\"84\"/><text fill=\"#000000\" font-family=\"sans-serif\" font-size=\"12\" font-style=\"italic\" lengthAdjust=\"spacingAndGlyphs\" textLength=\"64\" x=\"387\" y=\"100.1387\">«part def»</text><text fill=\"#000000\" font-family=\"sans-serif\" font-size=\"12\" lengthAdjust=\"spacingAndGlyphs\" textLength=\"8\" x=\"415\" y=\"114.1074\">B</text></a></g><g id=\"E1.E8\"><a href=\"psysml:f43ee61a-1d92-4bcd-a6ef-463238303c09\" target=\"_top\" title=\"psysml:f43ee61a-1d92-4bcd-a6ef-463238303c09\" xlink:actuate=\"onRequest\" xlink:href=\"psysml:f43ee61a-1d92-4bcd-a6ef-463238303c09\" xlink:show=\"new\" xlink:title=\"psysml:f43ee61a-1d92-4bcd-a6ef-463238303c09\" xlink:type=\"simple\"><rect fill=\"#FFFFFF\" height=\"40\" id=\"E8\" rx=\"10\" ry=\"10\" style=\"stroke: #383838; stroke-width: 1.5;\" width=\"50\" x=\"32\" y=\"85.5\"/><rect fill=\"#F8F8F8\" height=\"23.9688\" rx=\"10\" ry=\"10\" style=\"stroke: #F8F8F8; stroke-width: 1.5;\" width=\"50\" x=\"32\" y=\"85.5\"/><rect fill=\"#F8F8F8\" height=\"10\" style=\"stroke: #F8F8F8; stroke-width: 1.5;\" width=\"50\" x=\"32\" y=\"99.4688\"/><rect fill=\"none\" height=\"40\" id=\"E8\" rx=\"10\" ry=\"10\" style=\"stroke: #383838; stroke-width: 1.5;\" width=\"50\" x=\"32\" y=\"85.5\"/><text fill=\"#000000\" font-family=\"sans-serif\" font-size=\"12\" lengthAdjust=\"spacingAndGlyphs\" textLength=\"21\" x=\"46.5\" y=\"101.6387\">z: B</text></a></g><g id=\"E1.E9.E10\"><a href=\"psysml:e183bef4-e50f-4a79-aea2-e72f91ae33b1\" target=\"_top\" title=\"psysml:e183bef4-e50f-4a79-aea2-e72f91ae33b1\" xlink:actuate=\"onRequest\" xlink:href=\"psysml:e183bef4-e50f-4a79-aea2-e72f91ae33b1\" xlink:show=\"new\" xlink:title=\"psysml:e183bef4-e50f-4a79-aea2-e72f91ae33b1\" xlink:type=\"simple\"><rect fill=\"#FFFFFF\" height=\"40\" id=\"E10\" rx=\"10\" ry=\"10\" style=\"stroke: #383838; stroke-width: 1.5;\" width=\"50\" x=\"277\" y=\"85.5\"/><rect fill=\"#F8F8F8\" height=\"23.9688\" rx=\"10\" ry=\"10\" style=\"stroke: #F8F8F8; stroke-width: 1.5;\" width=\"50\" x=\"277\" y=\"85.5\"/><rect fill=\"#F8F8F8\" height=\"10\" style=\"stroke: #F8F8F8; stroke-width: 1.5;\" width=\"50\" x=\"277\" y=\"99.4688\"/><rect fill=\"none\" height=\"40\" id=\"E10\" rx=\"10\" ry=\"10\" style=\"stroke: #383838; stroke-width: 1.5;\" width=\"50\" x=\"277\" y=\"85.5\"/><text fill=\"#000000\" font-family=\"sans-serif\" font-size=\"12\" lengthAdjust=\"spacingAndGlyphs\" textLength=\"29\" x=\"287.5\" y=\"101.6387\">z1: A</text></a></g><!--MD5=[93a587953bd669e697d35589a8915778]\n",
       "@startuml\r\n",
       "skinparam ranksep 10\r\n",
       "skinparam rectangle {\r\n",
       " backgroundColor<<block>> LightGreen\r\n",
       "}\r\n",
       "skinparam linetype ortho\r\n",
       "skinparam monochrome true\r\n",
       "skinparam classbackgroundcolor white\r\n",
       "skinparam shadowing false\r\n",
       "skinparam wrapWidth 300\r\n",
       "hide circle\r\n",
       "\r\n",
       "package \"PrivateImportTest\" as E1  [[psysml:90f2a1bf-87a7-47cf-b7dc-49b41c6fd8e7 ]]  {\r\n",
       "package \"P1\" as E2  [[psysml:16275eaf-61bd-4171-b64d-9c4aa1fed5b3 ]]  {\r\n",
       "rec def \"A\" as E3  <<(T,blue) part def>> [[psysml:c33e3566-7ac4-4487-b3df-3cd0148aac2a ]] {\r\n",
       "}\r\n",
       "}\r\n",
       "package \"P2\" as E4  [[psysml:b9d82d12-80d8-4b65-b32b-0d4caf256cd7 ]]  {\r\n",
       "}\r\n",
       "rec usage \"x: A\" as E5  [[psysml:0c75b404-ec52-4836-8cbb-5da98c4a5930 ]] {\r\n",
       "}\r\n",
       "package \"P3\" as E6  [[psysml:9d4f5989-8a3e-4397-a866-52670c662db3 ]]  {\r\n",
       "rec def \"B\" as E7  <<(T,blue) part def>> [[psysml:70818b0d-1657-43d7-b586-0302676d35dd ]] {\r\n",
       "}\r\n",
       "}\r\n",
       "rec usage \"z: B\" as E8  [[psysml:f43ee61a-1d92-4bcd-a6ef-463238303c09 ]] {\r\n",
       "}\r\n",
       "package \"P4\" as E9  [[psysml:5979dd71-75f1-4b72-84ed-7ab4ecfce4b9 ]]  {\r\n",
       "rec usage \"z1: A\" as E10  [[psysml:e183bef4-e50f-4a79-aea2-e72f91ae33b1 ]] {\r\n",
       "}\r\n",
       "}\r\n",
       "}\r\n",
       "@enduml\r\n",
       "\n",
       "PlantUML version 1.2020.13(Sat Jun 13 12:26:38 UTC 2020)\n",
       "(EPL source distribution)\n",
       "Java Runtime: OpenJDK Runtime Environment\n",
       "JVM: OpenJDK 64-Bit Server VM\n",
       "Default Encoding: UTF-8\n",
       "Language: en\n",
       "Country: null\n",
       "--></g></svg>"
      ]
     },
     "execution_count": 54,
     "metadata": {},
     "output_type": "execute_result"
    }
   ],
   "source": [
    "%viz --style=\"ORTHOLINE\" --view=\"Interconnection\" \"PrivateImportTest\""
   ]
  },
  {
   "cell_type": "code",
   "execution_count": 55,
   "id": "ea8496e3",
   "metadata": {
    "execution": {
     "iopub.execute_input": "2021-08-04T06:27:57.940839Z",
     "iopub.status.busy": "2021-08-04T06:27:57.940583Z",
     "iopub.status.idle": "2021-08-04T06:27:57.943994Z",
     "shell.execute_reply": "2021-08-04T06:27:57.944156Z"
    }
   },
   "outputs": [
    {
     "data": {
      "image/svg+xml": [
       "<?xml version=\"1.0\" encoding=\"UTF-8\" standalone=\"no\"?><svg xmlns=\"http://www.w3.org/2000/svg\" xmlns:xlink=\"http://www.w3.org/1999/xlink\" contentScriptType=\"application/ecmascript\" contentStyleType=\"text/css\" height=\"12px\" preserveAspectRatio=\"none\" style=\"width:12px;height:12px;\" version=\"1.1\" viewBox=\"0 0 12 12\" width=\"12px\" zoomAndPan=\"magnify\"><defs/><g><!--MD5=[72934c63077099a26744516a776b4749]\n",
       "@startuml\r\n",
       "skinparam ranksep 8\r\n",
       "skinparam linetype ortho\r\n",
       "skinparam monochrome true\r\n",
       "skinparam classbackgroundcolor white\r\n",
       "skinparam shadowing false\r\n",
       "skinparam wrapWidth 300\r\n",
       "hide circle\r\n",
       "\r\n",
       "@enduml\r\n",
       "\n",
       "PlantUML version 1.2020.13(Sat Jun 13 12:26:38 UTC 2020)\n",
       "(EPL source distribution)\n",
       "Java Runtime: OpenJDK Runtime Environment\n",
       "JVM: OpenJDK 64-Bit Server VM\n",
       "Default Encoding: UTF-8\n",
       "Language: en\n",
       "Country: null\n",
       "--></g></svg>"
      ]
     },
     "execution_count": 55,
     "metadata": {},
     "output_type": "execute_result"
    }
   ],
   "source": [
    "%viz --style=\"ORTHOLINE\" --view=\"Action\" \"PrivateImportTest\""
   ]
  },
  {
   "cell_type": "code",
   "execution_count": 56,
   "id": "0dc5649d",
   "metadata": {
    "execution": {
     "iopub.execute_input": "2021-08-04T06:27:57.994247Z",
     "iopub.status.busy": "2021-08-04T06:27:57.994043Z",
     "iopub.status.idle": "2021-08-04T06:27:58.016263Z",
     "shell.execute_reply": "2021-08-04T06:27:58.016037Z"
    }
   },
   "outputs": [
    {
     "data": {
      "image/svg+xml": [
       "<?xml version=\"1.0\" encoding=\"UTF-8\" standalone=\"no\"?><svg xmlns=\"http://www.w3.org/2000/svg\" xmlns:xlink=\"http://www.w3.org/1999/xlink\" contentScriptType=\"application/ecmascript\" contentStyleType=\"text/css\" height=\"303px\" preserveAspectRatio=\"none\" style=\"width:365px;height:303px;\" version=\"1.1\" viewBox=\"0 0 365 303\" width=\"365px\" zoomAndPan=\"magnify\"><defs/><g><!--MD5=[fbc87193dbaf4d95561dea2c320d4a47]\n",
       "cluster E1--><a href=\"psysml:90f2a1bf-87a7-47cf-b7dc-49b41c6fd8e7\" target=\"_top\" title=\"psysml:90f2a1bf-87a7-47cf-b7dc-49b41c6fd8e7\" xlink:actuate=\"onRequest\" xlink:href=\"psysml:90f2a1bf-87a7-47cf-b7dc-49b41c6fd8e7\" xlink:show=\"new\" xlink:title=\"psysml:90f2a1bf-87a7-47cf-b7dc-49b41c6fd8e7\" xlink:type=\"simple\"><polygon fill=\"#FFFFFF\" points=\"16,6,163,6,170,28.2969,343,28.2969,343,291,16,291,16,6\" style=\"stroke: #000000; stroke-width: 1.5;\"/><line style=\"stroke: #000000; stroke-width: 1.5;\" x1=\"16\" x2=\"170\" y1=\"28.2969\" y2=\"28.2969\"/><text fill=\"#000000\" font-family=\"sans-serif\" font-size=\"14\" font-weight=\"bold\" lengthAdjust=\"spacingAndGlyphs\" textLength=\"141\" x=\"20\" y=\"20.9951\">PrivateImportTest</text></a><!--MD5=[e4f7fae6ed58524ba242bb0b0d3be6b7]\n",
       "cluster E2--><a href=\"psysml:16275eaf-61bd-4171-b64d-9c4aa1fed5b3\" target=\"_top\" title=\"psysml:16275eaf-61bd-4171-b64d-9c4aa1fed5b3\" xlink:actuate=\"onRequest\" xlink:href=\"psysml:16275eaf-61bd-4171-b64d-9c4aa1fed5b3\" xlink:show=\"new\" xlink:title=\"psysml:16275eaf-61bd-4171-b64d-9c4aa1fed5b3\" xlink:type=\"simple\"><polygon fill=\"#FFFFFF\" points=\"211,170,237,170,244,192.2969,309,192.2969,309,267,211,267,211,170\" style=\"stroke: #000000; stroke-width: 1.5;\"/><line style=\"stroke: #000000; stroke-width: 1.5;\" x1=\"211\" x2=\"244\" y1=\"192.2969\" y2=\"192.2969\"/><text fill=\"#000000\" font-family=\"sans-serif\" font-size=\"14\" font-weight=\"bold\" lengthAdjust=\"spacingAndGlyphs\" textLength=\"20\" x=\"215\" y=\"184.9951\">P1</text></a><!--MD5=[14e3b0961a2654348d326746436168a1]\n",
       "cluster E6--><a href=\"psysml:9d4f5989-8a3e-4397-a866-52670c662db3\" target=\"_top\" title=\"psysml:9d4f5989-8a3e-4397-a866-52670c662db3\" xlink:actuate=\"onRequest\" xlink:href=\"psysml:9d4f5989-8a3e-4397-a866-52670c662db3\" xlink:show=\"new\" xlink:title=\"psysml:9d4f5989-8a3e-4397-a866-52670c662db3\" xlink:type=\"simple\"><polygon fill=\"#FFFFFF\" points=\"79,170,105,170,112,192.2969,177,192.2969,177,267,79,267,79,170\" style=\"stroke: #000000; stroke-width: 1.5;\"/><line style=\"stroke: #000000; stroke-width: 1.5;\" x1=\"79\" x2=\"112\" y1=\"192.2969\" y2=\"192.2969\"/><text fill=\"#000000\" font-family=\"sans-serif\" font-size=\"14\" font-weight=\"bold\" lengthAdjust=\"spacingAndGlyphs\" textLength=\"20\" x=\"83\" y=\"184.9951\">P3</text></a><!--MD5=[7f149f147074ac12df2cb0a7728a5fb0]\n",
       "cluster E9--><a href=\"psysml:5979dd71-75f1-4b72-84ed-7ab4ecfce4b9\" target=\"_top\" title=\"psysml:5979dd71-75f1-4b72-84ed-7ab4ecfce4b9\" xlink:actuate=\"onRequest\" xlink:href=\"psysml:5979dd71-75f1-4b72-84ed-7ab4ecfce4b9\" xlink:show=\"new\" xlink:title=\"psysml:5979dd71-75f1-4b72-84ed-7ab4ecfce4b9\" xlink:type=\"simple\"><polygon fill=\"#FFFFFF\" points=\"245,49,271,49,278,71.2969,319,71.2969,319,146,245,146,245,49\" style=\"stroke: #000000; stroke-width: 1.5;\"/><line style=\"stroke: #000000; stroke-width: 1.5;\" x1=\"245\" x2=\"278\" y1=\"71.2969\" y2=\"71.2969\"/><text fill=\"#000000\" font-family=\"sans-serif\" font-size=\"14\" font-weight=\"bold\" lengthAdjust=\"spacingAndGlyphs\" textLength=\"20\" x=\"249\" y=\"63.9951\">P4</text></a><!--MD5=[270fce915f116d4de14055a7c1d9a0f3]\n",
       "class E5--><a href=\"psysml:0c75b404-ec52-4836-8cbb-5da98c4a5930\" target=\"_top\" title=\"psysml:0c75b404-ec52-4836-8cbb-5da98c4a5930\" xlink:actuate=\"onRequest\" xlink:href=\"psysml:0c75b404-ec52-4836-8cbb-5da98c4a5930\" xlink:show=\"new\" xlink:title=\"psysml:0c75b404-ec52-4836-8cbb-5da98c4a5930\" xlink:type=\"simple\"><rect fill=\"#FFFFFF\" height=\"45.9375\" id=\"E5\" rx=\"10\" ry=\"10\" style=\"stroke: #383838; stroke-width: 1.5;\" width=\"42\" x=\"184\" y=\"84\"/><text fill=\"#000000\" font-family=\"sans-serif\" font-size=\"12\" font-style=\"italic\" lengthAdjust=\"spacingAndGlyphs\" textLength=\"40\" x=\"185\" y=\"100.1387\">«part»</text><text fill=\"#000000\" font-family=\"sans-serif\" font-size=\"12\" lengthAdjust=\"spacingAndGlyphs\" textLength=\"22\" x=\"194\" y=\"114.1074\">x: A</text><line style=\"stroke: #383838; stroke-width: 1.5;\" x1=\"185\" x2=\"225\" y1=\"121.9375\" y2=\"121.9375\"/></a><!--MD5=[b9389687b975829384b498ac4b7476b2]\n",
       "class E8--><a href=\"psysml:f43ee61a-1d92-4bcd-a6ef-463238303c09\" target=\"_top\" title=\"psysml:f43ee61a-1d92-4bcd-a6ef-463238303c09\" xlink:actuate=\"onRequest\" xlink:href=\"psysml:f43ee61a-1d92-4bcd-a6ef-463238303c09\" xlink:show=\"new\" xlink:title=\"psysml:f43ee61a-1d92-4bcd-a6ef-463238303c09\" xlink:type=\"simple\"><rect fill=\"#FFFFFF\" height=\"45.9375\" id=\"E8\" rx=\"10\" ry=\"10\" style=\"stroke: #383838; stroke-width: 1.5;\" width=\"42\" x=\"107\" y=\"84\"/><text fill=\"#000000\" font-family=\"sans-serif\" font-size=\"12\" font-style=\"italic\" lengthAdjust=\"spacingAndGlyphs\" textLength=\"40\" x=\"108\" y=\"100.1387\">«part»</text><text fill=\"#000000\" font-family=\"sans-serif\" font-size=\"12\" lengthAdjust=\"spacingAndGlyphs\" textLength=\"21\" x=\"117.5\" y=\"114.1074\">z: B</text><line style=\"stroke: #383838; stroke-width: 1.5;\" x1=\"108\" x2=\"148\" y1=\"121.9375\" y2=\"121.9375\"/></a><!--MD5=[09b614a08d8cba4a07c9adeb5e0fee81]\n",
       "class E3--><a href=\"psysml:c33e3566-7ac4-4487-b3df-3cd0148aac2a\" target=\"_top\" title=\"psysml:c33e3566-7ac4-4487-b3df-3cd0148aac2a\" xlink:actuate=\"onRequest\" xlink:href=\"psysml:c33e3566-7ac4-4487-b3df-3cd0148aac2a\" xlink:show=\"new\" xlink:title=\"psysml:c33e3566-7ac4-4487-b3df-3cd0148aac2a\" xlink:type=\"simple\"><rect fill=\"#FFFFFF\" height=\"45.9375\" id=\"E3\" style=\"stroke: #383838; stroke-width: 1.5;\" width=\"66\" x=\"227\" y=\"205\"/><text fill=\"#000000\" font-family=\"sans-serif\" font-size=\"12\" font-style=\"italic\" lengthAdjust=\"spacingAndGlyphs\" textLength=\"64\" x=\"228\" y=\"221.1387\">«part def»</text><text fill=\"#000000\" font-family=\"sans-serif\" font-size=\"12\" lengthAdjust=\"spacingAndGlyphs\" textLength=\"8\" x=\"256\" y=\"235.1074\">A</text><line style=\"stroke: #383838; stroke-width: 1.5;\" x1=\"228\" x2=\"292\" y1=\"242.9375\" y2=\"242.9375\"/></a><a href=\"psysml:b9d82d12-80d8-4b65-b32b-0d4caf256cd7\" target=\"_top\" title=\"psysml:b9d82d12-80d8-4b65-b32b-0d4caf256cd7\" xlink:actuate=\"onRequest\" xlink:href=\"psysml:b9d82d12-80d8-4b65-b32b-0d4caf256cd7\" xlink:show=\"new\" xlink:title=\"psysml:b9d82d12-80d8-4b65-b32b-0d4caf256cd7\" xlink:type=\"simple\"><polygon fill=\"#FFFFFF\" points=\"32,80.5,58,80.5,65,102.7969,72,102.7969,72,133.0938,32,133.0938,32,80.5\" style=\"stroke: #000000; stroke-width: 1.5;\"/><line style=\"stroke: #000000; stroke-width: 1.5;\" x1=\"32\" x2=\"65\" y1=\"102.7969\" y2=\"102.7969\"/><text fill=\"#000000\" font-family=\"sans-serif\" font-size=\"14\" font-weight=\"bold\" lengthAdjust=\"spacingAndGlyphs\" textLength=\"20\" x=\"36\" y=\"95.4951\">P2</text></a><!--MD5=[2156ba9850f5573cc1fc38a6a4b2f02b]\n",
       "class E7--><a href=\"psysml:70818b0d-1657-43d7-b586-0302676d35dd\" target=\"_top\" title=\"psysml:70818b0d-1657-43d7-b586-0302676d35dd\" xlink:actuate=\"onRequest\" xlink:href=\"psysml:70818b0d-1657-43d7-b586-0302676d35dd\" xlink:show=\"new\" xlink:title=\"psysml:70818b0d-1657-43d7-b586-0302676d35dd\" xlink:type=\"simple\"><rect fill=\"#FFFFFF\" height=\"45.9375\" id=\"E7\" style=\"stroke: #383838; stroke-width: 1.5;\" width=\"66\" x=\"95\" y=\"205\"/><text fill=\"#000000\" font-family=\"sans-serif\" font-size=\"12\" font-style=\"italic\" lengthAdjust=\"spacingAndGlyphs\" textLength=\"64\" x=\"96\" y=\"221.1387\">«part def»</text><text fill=\"#000000\" font-family=\"sans-serif\" font-size=\"12\" lengthAdjust=\"spacingAndGlyphs\" textLength=\"8\" x=\"124\" y=\"235.1074\">B</text><line style=\"stroke: #383838; stroke-width: 1.5;\" x1=\"96\" x2=\"160\" y1=\"242.9375\" y2=\"242.9375\"/></a><!--MD5=[96f4274e9e20536e775497830990834d]\n",
       "class E10--><a href=\"psysml:e183bef4-e50f-4a79-aea2-e72f91ae33b1\" target=\"_top\" title=\"psysml:e183bef4-e50f-4a79-aea2-e72f91ae33b1\" xlink:actuate=\"onRequest\" xlink:href=\"psysml:e183bef4-e50f-4a79-aea2-e72f91ae33b1\" xlink:show=\"new\" xlink:title=\"psysml:e183bef4-e50f-4a79-aea2-e72f91ae33b1\" xlink:type=\"simple\"><rect fill=\"#FFFFFF\" height=\"45.9375\" id=\"E10\" rx=\"10\" ry=\"10\" style=\"stroke: #383838; stroke-width: 1.5;\" width=\"42\" x=\"261\" y=\"84\"/><text fill=\"#000000\" font-family=\"sans-serif\" font-size=\"12\" font-style=\"italic\" lengthAdjust=\"spacingAndGlyphs\" textLength=\"40\" x=\"262\" y=\"100.1387\">«part»</text><text fill=\"#000000\" font-family=\"sans-serif\" font-size=\"12\" lengthAdjust=\"spacingAndGlyphs\" textLength=\"29\" x=\"267.5\" y=\"114.1074\">z1: A</text><line style=\"stroke: #383838; stroke-width: 1.5;\" x1=\"262\" x2=\"302\" y1=\"121.9375\" y2=\"121.9375\"/></a><!--MD5=[e9be52314489bd878ff4c7144b63c9e1]\n",
       "link E5 to E3--><a href=\"psysml:f8be15bd-6ead-4f94-a81d-297834d3bff2\" target=\"_top\" title=\"psysml:f8be15bd-6ead-4f94-a81d-297834d3bff2\" xlink:actuate=\"onRequest\" xlink:href=\"psysml:f8be15bd-6ead-4f94-a81d-297834d3bff2\" xlink:show=\"new\" xlink:title=\"psysml:f8be15bd-6ead-4f94-a81d-297834d3bff2\" xlink:type=\"simple\"><path d=\"M226.33,107 C235.43,107 244,107 244,107 C244,107 244,184.96 244,184.96 \" fill=\"none\" id=\"E5-&gt;E3\" style=\"stroke: #383838; stroke-width: 1.0;\"/><polygon fill=\"#FFFFFF\" points=\"244,204.96,237,185.96,251,185.96,244,204.96\" style=\"stroke: #383838; stroke-width: 1.0;\"/><ellipse cx=\"239\" cy=\"180.26\" fill=\"#383838\" rx=\"2\" ry=\"2\" style=\"stroke: #383838; stroke-width: 1.0;\"/><ellipse cx=\"249\" cy=\"180.26\" fill=\"#383838\" rx=\"2\" ry=\"2\" style=\"stroke: #383838; stroke-width: 1.0;\"/></a><!--MD5=[bfa3c8b0d15052fdf50ae9310b491027]\n",
       "link E8 to E7--><a href=\"psysml:2890fdf6-d136-470e-95db-a042243a6f10\" target=\"_top\" title=\"psysml:2890fdf6-d136-470e-95db-a042243a6f10\" xlink:actuate=\"onRequest\" xlink:href=\"psysml:2890fdf6-d136-470e-95db-a042243a6f10\" xlink:show=\"new\" xlink:title=\"psysml:2890fdf6-d136-470e-95db-a042243a6f10\" xlink:type=\"simple\"><path d=\"M128,130.04 C128,130.04 128,184.63 128,184.63 \" fill=\"none\" id=\"E8-&gt;E7\" style=\"stroke: #383838; stroke-width: 1.0;\"/><polygon fill=\"#FFFFFF\" points=\"128,204.63,121,185.63,135,185.63,128,204.63\" style=\"stroke: #383838; stroke-width: 1.0;\"/><ellipse cx=\"123\" cy=\"179.93\" fill=\"#383838\" rx=\"2\" ry=\"2\" style=\"stroke: #383838; stroke-width: 1.0;\"/><ellipse cx=\"133\" cy=\"179.93\" fill=\"#383838\" rx=\"2\" ry=\"2\" style=\"stroke: #383838; stroke-width: 1.0;\"/></a><!--MD5=[feeac5eb423634930294aa81f2d25a4c]\n",
       "link E10 to E3--><a href=\"psysml:25a6672d-e3f3-453e-a929-7fba59fa68e7\" target=\"_top\" title=\"psysml:25a6672d-e3f3-453e-a929-7fba59fa68e7\" xlink:actuate=\"onRequest\" xlink:href=\"psysml:25a6672d-e3f3-453e-a929-7fba59fa68e7\" xlink:show=\"new\" xlink:title=\"psysml:25a6672d-e3f3-453e-a929-7fba59fa68e7\" xlink:type=\"simple\"><path d=\"M277,130.04 C277,130.04 277,184.63 277,184.63 \" fill=\"none\" id=\"E10-&gt;E3\" style=\"stroke: #383838; stroke-width: 1.0;\"/><polygon fill=\"#FFFFFF\" points=\"277,204.63,270,185.63,284,185.63,277,204.63\" style=\"stroke: #383838; stroke-width: 1.0;\"/><ellipse cx=\"272\" cy=\"179.93\" fill=\"#383838\" rx=\"2\" ry=\"2\" style=\"stroke: #383838; stroke-width: 1.0;\"/><ellipse cx=\"282\" cy=\"179.93\" fill=\"#383838\" rx=\"2\" ry=\"2\" style=\"stroke: #383838; stroke-width: 1.0;\"/></a><!--MD5=[9856b81fff9490a92acfa24c608c9ae1]\n",
       "@startuml\r\n",
       "skinparam linetype ortho\r\n",
       "skinparam monochrome true\r\n",
       "skinparam classbackgroundcolor white\r\n",
       "skinparam shadowing false\r\n",
       "skinparam wrapWidth 300\r\n",
       "hide circle\r\n",
       "\r\n",
       "package \"PrivateImportTest\" as E1  [[psysml:90f2a1bf-87a7-47cf-b7dc-49b41c6fd8e7 ]]  {\r\n",
       "package \"P1\" as E2  [[psysml:16275eaf-61bd-4171-b64d-9c4aa1fed5b3 ]]  {\r\n",
       "comp def \"A\" as E3  <<(T,blue) part def>> [[psysml:c33e3566-7ac4-4487-b3df-3cd0148aac2a ]] {\r\n",
       "}\r\n",
       "}\r\n",
       "package \"P2\" as E4  [[psysml:b9d82d12-80d8-4b65-b32b-0d4caf256cd7 ]]  {\r\n",
       "}\r\n",
       "comp usage \"x: A\" as E5  <<(T,blue) part>> [[psysml:0c75b404-ec52-4836-8cbb-5da98c4a5930 ]] {\r\n",
       "}\r\n",
       "package \"P3\" as E6  [[psysml:9d4f5989-8a3e-4397-a866-52670c662db3 ]]  {\r\n",
       "comp def \"B\" as E7  <<(T,blue) part def>> [[psysml:70818b0d-1657-43d7-b586-0302676d35dd ]] {\r\n",
       "}\r\n",
       "E5 - -:|> E3 [[psysml:f8be15bd-6ead-4f94-a81d-297834d3bff2 ]] \r\n",
       "}\r\n",
       "comp usage \"z: B\" as E8  <<(T,blue) part>> [[psysml:f43ee61a-1d92-4bcd-a6ef-463238303c09 ]] {\r\n",
       "}\r\n",
       "package \"P4\" as E9  [[psysml:5979dd71-75f1-4b72-84ed-7ab4ecfce4b9 ]]  {\r\n",
       "comp usage \"z1: A\" as E10  <<(T,blue) part>> [[psysml:e183bef4-e50f-4a79-aea2-e72f91ae33b1 ]] {\r\n",
       "}\r\n",
       "E8 - -:|> E7 [[psysml:2890fdf6-d136-470e-95db-a042243a6f10 ]] \r\n",
       "E10 - -:|> E3 [[psysml:25a6672d-e3f3-453e-a929-7fba59fa68e7 ]] \r\n",
       "}\r\n",
       "}\r\n",
       "@enduml\r\n",
       "\n",
       "PlantUML version 1.2020.13(Sat Jun 13 12:26:38 UTC 2020)\n",
       "(EPL source distribution)\n",
       "Java Runtime: OpenJDK Runtime Environment\n",
       "JVM: OpenJDK 64-Bit Server VM\n",
       "Default Encoding: UTF-8\n",
       "Language: en\n",
       "Country: null\n",
       "--></g></svg>"
      ]
     },
     "execution_count": 56,
     "metadata": {},
     "output_type": "execute_result"
    }
   ],
   "source": [
    "%viz --style=\"ORTHOLINE\" --view=\"Sequence\" \"PrivateImportTest\""
   ]
  },
  {
   "cell_type": "code",
   "execution_count": 57,
   "id": "61206bed",
   "metadata": {
    "execution": {
     "iopub.execute_input": "2021-08-04T06:27:58.066036Z",
     "iopub.status.busy": "2021-08-04T06:27:58.065758Z",
     "iopub.status.idle": "2021-08-04T06:27:58.088018Z",
     "shell.execute_reply": "2021-08-04T06:27:58.087281Z"
    }
   },
   "outputs": [
    {
     "data": {
      "image/svg+xml": [
       "<?xml version=\"1.0\" encoding=\"UTF-8\" standalone=\"no\"?><svg xmlns=\"http://www.w3.org/2000/svg\" xmlns:xlink=\"http://www.w3.org/1999/xlink\" contentScriptType=\"application/ecmascript\" contentStyleType=\"text/css\" height=\"303px\" preserveAspectRatio=\"none\" style=\"width:365px;height:303px;\" version=\"1.1\" viewBox=\"0 0 365 303\" width=\"365px\" zoomAndPan=\"magnify\"><defs/><g><!--MD5=[fbc87193dbaf4d95561dea2c320d4a47]\n",
       "cluster E1--><a href=\"psysml:90f2a1bf-87a7-47cf-b7dc-49b41c6fd8e7\" target=\"_top\" title=\"psysml:90f2a1bf-87a7-47cf-b7dc-49b41c6fd8e7\" xlink:actuate=\"onRequest\" xlink:href=\"psysml:90f2a1bf-87a7-47cf-b7dc-49b41c6fd8e7\" xlink:show=\"new\" xlink:title=\"psysml:90f2a1bf-87a7-47cf-b7dc-49b41c6fd8e7\" xlink:type=\"simple\"><polygon fill=\"#FFFFFF\" points=\"16,6,163,6,170,28.2969,343,28.2969,343,291,16,291,16,6\" style=\"stroke: #000000; stroke-width: 1.5;\"/><line style=\"stroke: #000000; stroke-width: 1.5;\" x1=\"16\" x2=\"170\" y1=\"28.2969\" y2=\"28.2969\"/><text fill=\"#000000\" font-family=\"sans-serif\" font-size=\"14\" font-weight=\"bold\" lengthAdjust=\"spacingAndGlyphs\" textLength=\"141\" x=\"20\" y=\"20.9951\">PrivateImportTest</text></a><!--MD5=[e4f7fae6ed58524ba242bb0b0d3be6b7]\n",
       "cluster E2--><a href=\"psysml:16275eaf-61bd-4171-b64d-9c4aa1fed5b3\" target=\"_top\" title=\"psysml:16275eaf-61bd-4171-b64d-9c4aa1fed5b3\" xlink:actuate=\"onRequest\" xlink:href=\"psysml:16275eaf-61bd-4171-b64d-9c4aa1fed5b3\" xlink:show=\"new\" xlink:title=\"psysml:16275eaf-61bd-4171-b64d-9c4aa1fed5b3\" xlink:type=\"simple\"><polygon fill=\"#FFFFFF\" points=\"211,170,237,170,244,192.2969,309,192.2969,309,267,211,267,211,170\" style=\"stroke: #000000; stroke-width: 1.5;\"/><line style=\"stroke: #000000; stroke-width: 1.5;\" x1=\"211\" x2=\"244\" y1=\"192.2969\" y2=\"192.2969\"/><text fill=\"#000000\" font-family=\"sans-serif\" font-size=\"14\" font-weight=\"bold\" lengthAdjust=\"spacingAndGlyphs\" textLength=\"20\" x=\"215\" y=\"184.9951\">P1</text></a><!--MD5=[14e3b0961a2654348d326746436168a1]\n",
       "cluster E6--><a href=\"psysml:9d4f5989-8a3e-4397-a866-52670c662db3\" target=\"_top\" title=\"psysml:9d4f5989-8a3e-4397-a866-52670c662db3\" xlink:actuate=\"onRequest\" xlink:href=\"psysml:9d4f5989-8a3e-4397-a866-52670c662db3\" xlink:show=\"new\" xlink:title=\"psysml:9d4f5989-8a3e-4397-a866-52670c662db3\" xlink:type=\"simple\"><polygon fill=\"#FFFFFF\" points=\"79,170,105,170,112,192.2969,177,192.2969,177,267,79,267,79,170\" style=\"stroke: #000000; stroke-width: 1.5;\"/><line style=\"stroke: #000000; stroke-width: 1.5;\" x1=\"79\" x2=\"112\" y1=\"192.2969\" y2=\"192.2969\"/><text fill=\"#000000\" font-family=\"sans-serif\" font-size=\"14\" font-weight=\"bold\" lengthAdjust=\"spacingAndGlyphs\" textLength=\"20\" x=\"83\" y=\"184.9951\">P3</text></a><!--MD5=[7f149f147074ac12df2cb0a7728a5fb0]\n",
       "cluster E9--><a href=\"psysml:5979dd71-75f1-4b72-84ed-7ab4ecfce4b9\" target=\"_top\" title=\"psysml:5979dd71-75f1-4b72-84ed-7ab4ecfce4b9\" xlink:actuate=\"onRequest\" xlink:href=\"psysml:5979dd71-75f1-4b72-84ed-7ab4ecfce4b9\" xlink:show=\"new\" xlink:title=\"psysml:5979dd71-75f1-4b72-84ed-7ab4ecfce4b9\" xlink:type=\"simple\"><polygon fill=\"#FFFFFF\" points=\"245,49,271,49,278,71.2969,319,71.2969,319,146,245,146,245,49\" style=\"stroke: #000000; stroke-width: 1.5;\"/><line style=\"stroke: #000000; stroke-width: 1.5;\" x1=\"245\" x2=\"278\" y1=\"71.2969\" y2=\"71.2969\"/><text fill=\"#000000\" font-family=\"sans-serif\" font-size=\"14\" font-weight=\"bold\" lengthAdjust=\"spacingAndGlyphs\" textLength=\"20\" x=\"249\" y=\"63.9951\">P4</text></a><!--MD5=[270fce915f116d4de14055a7c1d9a0f3]\n",
       "class E5--><a href=\"psysml:0c75b404-ec52-4836-8cbb-5da98c4a5930\" target=\"_top\" title=\"psysml:0c75b404-ec52-4836-8cbb-5da98c4a5930\" xlink:actuate=\"onRequest\" xlink:href=\"psysml:0c75b404-ec52-4836-8cbb-5da98c4a5930\" xlink:show=\"new\" xlink:title=\"psysml:0c75b404-ec52-4836-8cbb-5da98c4a5930\" xlink:type=\"simple\"><rect fill=\"#FFFFFF\" height=\"45.9375\" id=\"E5\" rx=\"10\" ry=\"10\" style=\"stroke: #383838; stroke-width: 1.5;\" width=\"42\" x=\"184\" y=\"84\"/><text fill=\"#000000\" font-family=\"sans-serif\" font-size=\"12\" font-style=\"italic\" lengthAdjust=\"spacingAndGlyphs\" textLength=\"40\" x=\"185\" y=\"100.1387\">«part»</text><text fill=\"#000000\" font-family=\"sans-serif\" font-size=\"12\" lengthAdjust=\"spacingAndGlyphs\" textLength=\"22\" x=\"194\" y=\"114.1074\">x: A</text><line style=\"stroke: #383838; stroke-width: 1.5;\" x1=\"185\" x2=\"225\" y1=\"121.9375\" y2=\"121.9375\"/></a><!--MD5=[b9389687b975829384b498ac4b7476b2]\n",
       "class E8--><a href=\"psysml:f43ee61a-1d92-4bcd-a6ef-463238303c09\" target=\"_top\" title=\"psysml:f43ee61a-1d92-4bcd-a6ef-463238303c09\" xlink:actuate=\"onRequest\" xlink:href=\"psysml:f43ee61a-1d92-4bcd-a6ef-463238303c09\" xlink:show=\"new\" xlink:title=\"psysml:f43ee61a-1d92-4bcd-a6ef-463238303c09\" xlink:type=\"simple\"><rect fill=\"#FFFFFF\" height=\"45.9375\" id=\"E8\" rx=\"10\" ry=\"10\" style=\"stroke: #383838; stroke-width: 1.5;\" width=\"42\" x=\"107\" y=\"84\"/><text fill=\"#000000\" font-family=\"sans-serif\" font-size=\"12\" font-style=\"italic\" lengthAdjust=\"spacingAndGlyphs\" textLength=\"40\" x=\"108\" y=\"100.1387\">«part»</text><text fill=\"#000000\" font-family=\"sans-serif\" font-size=\"12\" lengthAdjust=\"spacingAndGlyphs\" textLength=\"21\" x=\"117.5\" y=\"114.1074\">z: B</text><line style=\"stroke: #383838; stroke-width: 1.5;\" x1=\"108\" x2=\"148\" y1=\"121.9375\" y2=\"121.9375\"/></a><!--MD5=[09b614a08d8cba4a07c9adeb5e0fee81]\n",
       "class E3--><a href=\"psysml:c33e3566-7ac4-4487-b3df-3cd0148aac2a\" target=\"_top\" title=\"psysml:c33e3566-7ac4-4487-b3df-3cd0148aac2a\" xlink:actuate=\"onRequest\" xlink:href=\"psysml:c33e3566-7ac4-4487-b3df-3cd0148aac2a\" xlink:show=\"new\" xlink:title=\"psysml:c33e3566-7ac4-4487-b3df-3cd0148aac2a\" xlink:type=\"simple\"><rect fill=\"#FFFFFF\" height=\"45.9375\" id=\"E3\" style=\"stroke: #383838; stroke-width: 1.5;\" width=\"66\" x=\"227\" y=\"205\"/><text fill=\"#000000\" font-family=\"sans-serif\" font-size=\"12\" font-style=\"italic\" lengthAdjust=\"spacingAndGlyphs\" textLength=\"64\" x=\"228\" y=\"221.1387\">«part def»</text><text fill=\"#000000\" font-family=\"sans-serif\" font-size=\"12\" lengthAdjust=\"spacingAndGlyphs\" textLength=\"8\" x=\"256\" y=\"235.1074\">A</text><line style=\"stroke: #383838; stroke-width: 1.5;\" x1=\"228\" x2=\"292\" y1=\"242.9375\" y2=\"242.9375\"/></a><a href=\"psysml:b9d82d12-80d8-4b65-b32b-0d4caf256cd7\" target=\"_top\" title=\"psysml:b9d82d12-80d8-4b65-b32b-0d4caf256cd7\" xlink:actuate=\"onRequest\" xlink:href=\"psysml:b9d82d12-80d8-4b65-b32b-0d4caf256cd7\" xlink:show=\"new\" xlink:title=\"psysml:b9d82d12-80d8-4b65-b32b-0d4caf256cd7\" xlink:type=\"simple\"><polygon fill=\"#FFFFFF\" points=\"32,80.5,58,80.5,65,102.7969,72,102.7969,72,133.0938,32,133.0938,32,80.5\" style=\"stroke: #000000; stroke-width: 1.5;\"/><line style=\"stroke: #000000; stroke-width: 1.5;\" x1=\"32\" x2=\"65\" y1=\"102.7969\" y2=\"102.7969\"/><text fill=\"#000000\" font-family=\"sans-serif\" font-size=\"14\" font-weight=\"bold\" lengthAdjust=\"spacingAndGlyphs\" textLength=\"20\" x=\"36\" y=\"95.4951\">P2</text></a><!--MD5=[2156ba9850f5573cc1fc38a6a4b2f02b]\n",
       "class E7--><a href=\"psysml:70818b0d-1657-43d7-b586-0302676d35dd\" target=\"_top\" title=\"psysml:70818b0d-1657-43d7-b586-0302676d35dd\" xlink:actuate=\"onRequest\" xlink:href=\"psysml:70818b0d-1657-43d7-b586-0302676d35dd\" xlink:show=\"new\" xlink:title=\"psysml:70818b0d-1657-43d7-b586-0302676d35dd\" xlink:type=\"simple\"><rect fill=\"#FFFFFF\" height=\"45.9375\" id=\"E7\" style=\"stroke: #383838; stroke-width: 1.5;\" width=\"66\" x=\"95\" y=\"205\"/><text fill=\"#000000\" font-family=\"sans-serif\" font-size=\"12\" font-style=\"italic\" lengthAdjust=\"spacingAndGlyphs\" textLength=\"64\" x=\"96\" y=\"221.1387\">«part def»</text><text fill=\"#000000\" font-family=\"sans-serif\" font-size=\"12\" lengthAdjust=\"spacingAndGlyphs\" textLength=\"8\" x=\"124\" y=\"235.1074\">B</text><line style=\"stroke: #383838; stroke-width: 1.5;\" x1=\"96\" x2=\"160\" y1=\"242.9375\" y2=\"242.9375\"/></a><!--MD5=[96f4274e9e20536e775497830990834d]\n",
       "class E10--><a href=\"psysml:e183bef4-e50f-4a79-aea2-e72f91ae33b1\" target=\"_top\" title=\"psysml:e183bef4-e50f-4a79-aea2-e72f91ae33b1\" xlink:actuate=\"onRequest\" xlink:href=\"psysml:e183bef4-e50f-4a79-aea2-e72f91ae33b1\" xlink:show=\"new\" xlink:title=\"psysml:e183bef4-e50f-4a79-aea2-e72f91ae33b1\" xlink:type=\"simple\"><rect fill=\"#FFFFFF\" height=\"45.9375\" id=\"E10\" rx=\"10\" ry=\"10\" style=\"stroke: #383838; stroke-width: 1.5;\" width=\"42\" x=\"261\" y=\"84\"/><text fill=\"#000000\" font-family=\"sans-serif\" font-size=\"12\" font-style=\"italic\" lengthAdjust=\"spacingAndGlyphs\" textLength=\"40\" x=\"262\" y=\"100.1387\">«part»</text><text fill=\"#000000\" font-family=\"sans-serif\" font-size=\"12\" lengthAdjust=\"spacingAndGlyphs\" textLength=\"29\" x=\"267.5\" y=\"114.1074\">z1: A</text><line style=\"stroke: #383838; stroke-width: 1.5;\" x1=\"262\" x2=\"302\" y1=\"121.9375\" y2=\"121.9375\"/></a><!--MD5=[e9be52314489bd878ff4c7144b63c9e1]\n",
       "link E5 to E3--><a href=\"psysml:f8be15bd-6ead-4f94-a81d-297834d3bff2\" target=\"_top\" title=\"psysml:f8be15bd-6ead-4f94-a81d-297834d3bff2\" xlink:actuate=\"onRequest\" xlink:href=\"psysml:f8be15bd-6ead-4f94-a81d-297834d3bff2\" xlink:show=\"new\" xlink:title=\"psysml:f8be15bd-6ead-4f94-a81d-297834d3bff2\" xlink:type=\"simple\"><path d=\"M226.33,107 C235.43,107 244,107 244,107 C244,107 244,184.96 244,184.96 \" fill=\"none\" id=\"E5-&gt;E3\" style=\"stroke: #383838; stroke-width: 1.0;\"/><polygon fill=\"#FFFFFF\" points=\"244,204.96,237,185.96,251,185.96,244,204.96\" style=\"stroke: #383838; stroke-width: 1.0;\"/><ellipse cx=\"239\" cy=\"180.26\" fill=\"#383838\" rx=\"2\" ry=\"2\" style=\"stroke: #383838; stroke-width: 1.0;\"/><ellipse cx=\"249\" cy=\"180.26\" fill=\"#383838\" rx=\"2\" ry=\"2\" style=\"stroke: #383838; stroke-width: 1.0;\"/></a><!--MD5=[bfa3c8b0d15052fdf50ae9310b491027]\n",
       "link E8 to E7--><a href=\"psysml:2890fdf6-d136-470e-95db-a042243a6f10\" target=\"_top\" title=\"psysml:2890fdf6-d136-470e-95db-a042243a6f10\" xlink:actuate=\"onRequest\" xlink:href=\"psysml:2890fdf6-d136-470e-95db-a042243a6f10\" xlink:show=\"new\" xlink:title=\"psysml:2890fdf6-d136-470e-95db-a042243a6f10\" xlink:type=\"simple\"><path d=\"M128,130.04 C128,130.04 128,184.63 128,184.63 \" fill=\"none\" id=\"E8-&gt;E7\" style=\"stroke: #383838; stroke-width: 1.0;\"/><polygon fill=\"#FFFFFF\" points=\"128,204.63,121,185.63,135,185.63,128,204.63\" style=\"stroke: #383838; stroke-width: 1.0;\"/><ellipse cx=\"123\" cy=\"179.93\" fill=\"#383838\" rx=\"2\" ry=\"2\" style=\"stroke: #383838; stroke-width: 1.0;\"/><ellipse cx=\"133\" cy=\"179.93\" fill=\"#383838\" rx=\"2\" ry=\"2\" style=\"stroke: #383838; stroke-width: 1.0;\"/></a><!--MD5=[feeac5eb423634930294aa81f2d25a4c]\n",
       "link E10 to E3--><a href=\"psysml:25a6672d-e3f3-453e-a929-7fba59fa68e7\" target=\"_top\" title=\"psysml:25a6672d-e3f3-453e-a929-7fba59fa68e7\" xlink:actuate=\"onRequest\" xlink:href=\"psysml:25a6672d-e3f3-453e-a929-7fba59fa68e7\" xlink:show=\"new\" xlink:title=\"psysml:25a6672d-e3f3-453e-a929-7fba59fa68e7\" xlink:type=\"simple\"><path d=\"M277,130.04 C277,130.04 277,184.63 277,184.63 \" fill=\"none\" id=\"E10-&gt;E3\" style=\"stroke: #383838; stroke-width: 1.0;\"/><polygon fill=\"#FFFFFF\" points=\"277,204.63,270,185.63,284,185.63,277,204.63\" style=\"stroke: #383838; stroke-width: 1.0;\"/><ellipse cx=\"272\" cy=\"179.93\" fill=\"#383838\" rx=\"2\" ry=\"2\" style=\"stroke: #383838; stroke-width: 1.0;\"/><ellipse cx=\"282\" cy=\"179.93\" fill=\"#383838\" rx=\"2\" ry=\"2\" style=\"stroke: #383838; stroke-width: 1.0;\"/></a><!--MD5=[9856b81fff9490a92acfa24c608c9ae1]\n",
       "@startuml\r\n",
       "skinparam linetype ortho\r\n",
       "skinparam monochrome true\r\n",
       "skinparam classbackgroundcolor white\r\n",
       "skinparam shadowing false\r\n",
       "skinparam wrapWidth 300\r\n",
       "hide circle\r\n",
       "\r\n",
       "package \"PrivateImportTest\" as E1  [[psysml:90f2a1bf-87a7-47cf-b7dc-49b41c6fd8e7 ]]  {\r\n",
       "package \"P1\" as E2  [[psysml:16275eaf-61bd-4171-b64d-9c4aa1fed5b3 ]]  {\r\n",
       "comp def \"A\" as E3  <<(T,blue) part def>> [[psysml:c33e3566-7ac4-4487-b3df-3cd0148aac2a ]] {\r\n",
       "}\r\n",
       "}\r\n",
       "package \"P2\" as E4  [[psysml:b9d82d12-80d8-4b65-b32b-0d4caf256cd7 ]]  {\r\n",
       "}\r\n",
       "comp usage \"x: A\" as E5  <<(T,blue) part>> [[psysml:0c75b404-ec52-4836-8cbb-5da98c4a5930 ]] {\r\n",
       "}\r\n",
       "package \"P3\" as E6  [[psysml:9d4f5989-8a3e-4397-a866-52670c662db3 ]]  {\r\n",
       "comp def \"B\" as E7  <<(T,blue) part def>> [[psysml:70818b0d-1657-43d7-b586-0302676d35dd ]] {\r\n",
       "}\r\n",
       "E5 - -:|> E3 [[psysml:f8be15bd-6ead-4f94-a81d-297834d3bff2 ]] \r\n",
       "}\r\n",
       "comp usage \"z: B\" as E8  <<(T,blue) part>> [[psysml:f43ee61a-1d92-4bcd-a6ef-463238303c09 ]] {\r\n",
       "}\r\n",
       "package \"P4\" as E9  [[psysml:5979dd71-75f1-4b72-84ed-7ab4ecfce4b9 ]]  {\r\n",
       "comp usage \"z1: A\" as E10  <<(T,blue) part>> [[psysml:e183bef4-e50f-4a79-aea2-e72f91ae33b1 ]] {\r\n",
       "}\r\n",
       "E8 - -:|> E7 [[psysml:2890fdf6-d136-470e-95db-a042243a6f10 ]] \r\n",
       "E10 - -:|> E3 [[psysml:25a6672d-e3f3-453e-a929-7fba59fa68e7 ]] \r\n",
       "}\r\n",
       "}\r\n",
       "@enduml\r\n",
       "\n",
       "PlantUML version 1.2020.13(Sat Jun 13 12:26:38 UTC 2020)\n",
       "(EPL source distribution)\n",
       "Java Runtime: OpenJDK Runtime Environment\n",
       "JVM: OpenJDK 64-Bit Server VM\n",
       "Default Encoding: UTF-8\n",
       "Language: en\n",
       "Country: null\n",
       "--></g></svg>"
      ]
     },
     "execution_count": 57,
     "metadata": {},
     "output_type": "execute_result"
    }
   ],
   "source": [
    "%viz --style=\"ORTHOLINE\" --view=\"MIXED\" \"PrivateImportTest\""
   ]
  }
 ],
 "metadata": {
  "kernelspec": {
   "display_name": "SysML",
   "language": "sysml",
   "name": "sysml"
  },
  "language_info": {
   "codemirror_mode": "sysml",
   "file_extension": ".sysml",
   "mimetype": "text/x-sysml",
   "name": "SysML",
   "pygments_lexer": "java",
   "version": "1.0.0"
  }
 },
 "nbformat": 4,
 "nbformat_minor": 5
}
