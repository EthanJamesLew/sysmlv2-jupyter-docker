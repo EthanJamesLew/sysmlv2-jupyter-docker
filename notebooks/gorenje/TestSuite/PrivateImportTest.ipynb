{
 "cells": [
  {
   "cell_type": "markdown",
   "id": "a92be0bf",
   "metadata": {},
   "source": [
    "# SysML v2 Test Suite\n",
    "\n",
    "This can notebook can be cleared using menu `Edit --> Clear All Outputs` and then all cells can be\n",
    "run using menu `Run --> Run All Cells`.\n",
    "\n",
    "**WARNING**: This file is generated, all modifications here will be ignored.\n"
   ]
  },
  {
   "cell_type": "markdown",
   "id": "1ccbe517",
   "metadata": {},
   "source": [
    "## File: ../../sysml/src/examples/Import Tests/PrivateImportTest.sysml"
   ]
  },
  {
   "cell_type": "code",
   "execution_count": 1,
   "id": "16d71ce1",
   "metadata": {
    "execution": {
     "iopub.execute_input": "2021-10-25T08:22:19.222309Z",
     "iopub.status.busy": "2021-10-25T08:22:19.221111Z",
     "iopub.status.idle": "2021-10-25T08:22:19.353602Z",
     "shell.execute_reply": "2021-10-25T08:22:19.353218Z"
    }
   },
   "outputs": [
    {
     "data": {
      "text/plain": [
       "Package PrivateImportTest (1543d4a4-434c-4359-883b-a6cde6f6c959)\n"
      ]
     },
     "execution_count": 1,
     "metadata": {},
     "output_type": "execute_result"
    }
   ],
   "source": [
    "package PrivateImportTest {\n",
    "\tpackage P1 {\n",
    "\t\tpart def A;\n",
    "\t}\n",
    "\tpackage P2 {\n",
    "\t\tprivate import P1::*;\n",
    "\t}\n",
    "\n",
    "\tpart x: P1::A;\n",
    "\t\n",
    "\timport P2::*;\n",
    "\t// This should fail.\n",
    "\t// A is not visible, because the import in P2 is private.\n",
    "\t// part y: A;\n",
    "\t// part y1: P2::A;\n",
    "\t\n",
    "\tpackage P3 {\n",
    "\t\tpart def B;\n",
    "\t}\n",
    "\t\n",
    "\tprivate import P3::*;\n",
    "\t\n",
    "\t// This should not fail.\n",
    "\t// Private import only restricts visibility outside the package.\n",
    "\tpart z: B;\n",
    "\t\n",
    "\tpackage P4 {\n",
    "\t\timport all P2::*;\n",
    "\t\t\n",
    "\t\t// This should not fail because \"import all\" overrides private import.\n",
    "\t\tpart z1: A;\n",
    "\t}\t\n",
    "}"
   ]
  },
  {
   "cell_type": "code",
   "execution_count": 2,
   "id": "e900d123",
   "metadata": {
    "execution": {
     "iopub.execute_input": "2021-10-25T08:22:19.404886Z",
     "iopub.status.busy": "2021-10-25T08:22:19.404489Z",
     "iopub.status.idle": "2021-10-25T08:22:19.922348Z",
     "shell.execute_reply": "2021-10-25T08:22:19.920227Z"
    }
   },
   "outputs": [
    {
     "data": {
      "image/svg+xml": [
       "<?xml version=\"1.0\" encoding=\"UTF-8\" standalone=\"no\"?><svg xmlns=\"http://www.w3.org/2000/svg\" xmlns:xlink=\"http://www.w3.org/1999/xlink\" contentScriptType=\"application/ecmascript\" contentStyleType=\"text/css\" height=\"303px\" preserveAspectRatio=\"none\" style=\"width:363px;height:303px;\" version=\"1.1\" viewBox=\"0 0 363 303\" width=\"363px\" zoomAndPan=\"magnify\"><defs/><g><!--MD5=[fbc87193dbaf4d95561dea2c320d4a47]\n",
       "cluster E1--><a href=\"psysml:2415ca44-1de1-4a98-b3f0-a39d5285a5bd\" target=\"_top\" title=\"psysml:2415ca44-1de1-4a98-b3f0-a39d5285a5bd\" xlink:actuate=\"onRequest\" xlink:href=\"psysml:2415ca44-1de1-4a98-b3f0-a39d5285a5bd\" xlink:show=\"new\" xlink:title=\"psysml:2415ca44-1de1-4a98-b3f0-a39d5285a5bd\" xlink:type=\"simple\"><polygon fill=\"#FFFFFF\" points=\"16,6,143,6,150,28.2969,341,28.2969,341,291,16,291,16,6\" style=\"stroke: #000000; stroke-width: 1.5;\"/><line style=\"stroke: #000000; stroke-width: 1.5;\" x1=\"16\" x2=\"150\" y1=\"28.2969\" y2=\"28.2969\"/><text fill=\"#000000\" font-family=\"sans-serif\" font-size=\"14\" font-weight=\"bold\" lengthAdjust=\"spacingAndGlyphs\" textLength=\"121\" x=\"20\" y=\"20.9951\">PrivateImportTest</text></a><!--MD5=[e4f7fae6ed58524ba242bb0b0d3be6b7]\n",
       "cluster E2--><a href=\"psysml:426e250f-8977-4e89-b166-3835fc91b530\" target=\"_top\" title=\"psysml:426e250f-8977-4e89-b166-3835fc91b530\" xlink:actuate=\"onRequest\" xlink:href=\"psysml:426e250f-8977-4e89-b166-3835fc91b530\" xlink:show=\"new\" xlink:title=\"psysml:426e250f-8977-4e89-b166-3835fc91b530\" xlink:type=\"simple\"><polygon fill=\"#FFFFFF\" points=\"208,170,232,170,239,192.2969,310,192.2969,310,267,208,267,208,170\" style=\"stroke: #000000; stroke-width: 1.5;\"/><line style=\"stroke: #000000; stroke-width: 1.5;\" x1=\"208\" x2=\"239\" y1=\"192.2969\" y2=\"192.2969\"/><text fill=\"#000000\" font-family=\"sans-serif\" font-size=\"14\" font-weight=\"bold\" lengthAdjust=\"spacingAndGlyphs\" textLength=\"18\" x=\"212\" y=\"184.9951\">P1</text></a><!--MD5=[14e3b0961a2654348d326746436168a1]\n",
       "cluster E6--><a href=\"psysml:fe85458f-8707-492f-a6ea-e7b6b29e5b91\" target=\"_top\" title=\"psysml:fe85458f-8707-492f-a6ea-e7b6b29e5b91\" xlink:actuate=\"onRequest\" xlink:href=\"psysml:fe85458f-8707-492f-a6ea-e7b6b29e5b91\" xlink:show=\"new\" xlink:title=\"psysml:fe85458f-8707-492f-a6ea-e7b6b29e5b91\" xlink:type=\"simple\"><polygon fill=\"#FFFFFF\" points=\"75,170,99,170,106,192.2969,177,192.2969,177,267,75,267,75,170\" style=\"stroke: #000000; stroke-width: 1.5;\"/><line style=\"stroke: #000000; stroke-width: 1.5;\" x1=\"75\" x2=\"106\" y1=\"192.2969\" y2=\"192.2969\"/><text fill=\"#000000\" font-family=\"sans-serif\" font-size=\"14\" font-weight=\"bold\" lengthAdjust=\"spacingAndGlyphs\" textLength=\"18\" x=\"79\" y=\"184.9951\">P3</text></a><!--MD5=[7f149f147074ac12df2cb0a7728a5fb0]\n",
       "cluster E9--><a href=\"psysml:77a03853-3516-49bc-9a88-c5db4c10002c\" target=\"_top\" title=\"psysml:77a03853-3516-49bc-9a88-c5db4c10002c\" xlink:actuate=\"onRequest\" xlink:href=\"psysml:77a03853-3516-49bc-9a88-c5db4c10002c\" xlink:show=\"new\" xlink:title=\"psysml:77a03853-3516-49bc-9a88-c5db4c10002c\" xlink:type=\"simple\"><polygon fill=\"#FFFFFF\" points=\"243,49,267,49,274,71.2969,317,71.2969,317,146,243,146,243,49\" style=\"stroke: #000000; stroke-width: 1.5;\"/><line style=\"stroke: #000000; stroke-width: 1.5;\" x1=\"243\" x2=\"274\" y1=\"71.2969\" y2=\"71.2969\"/><text fill=\"#000000\" font-family=\"sans-serif\" font-size=\"14\" font-weight=\"bold\" lengthAdjust=\"spacingAndGlyphs\" textLength=\"18\" x=\"247\" y=\"63.9951\">P4</text></a><!--MD5=[270fce915f116d4de14055a7c1d9a0f3]\n",
       "class E5--><a href=\"psysml:99b80f3a-0072-46fe-b843-b9a836066a51\" target=\"_top\" title=\"psysml:99b80f3a-0072-46fe-b843-b9a836066a51\" xlink:actuate=\"onRequest\" xlink:href=\"psysml:99b80f3a-0072-46fe-b843-b9a836066a51\" xlink:show=\"new\" xlink:title=\"psysml:99b80f3a-0072-46fe-b843-b9a836066a51\" xlink:type=\"simple\"><rect fill=\"#FFFFFF\" height=\"45.9375\" id=\"E5\" rx=\"10\" ry=\"10\" style=\"stroke: #383838; stroke-width: 1.5;\" width=\"42\" x=\"182\" y=\"84\"/><text fill=\"#000000\" font-family=\"sans-serif\" font-size=\"12\" font-style=\"italic\" lengthAdjust=\"spacingAndGlyphs\" textLength=\"40\" x=\"183\" y=\"100.1387\">«part»</text><text fill=\"#000000\" font-family=\"sans-serif\" font-size=\"12\" lengthAdjust=\"spacingAndGlyphs\" textLength=\"22\" x=\"190\" y=\"114.1074\">x: A</text><line style=\"stroke: #383838; stroke-width: 1.5;\" x1=\"183\" x2=\"223\" y1=\"121.9375\" y2=\"121.9375\"/></a><!--MD5=[b9389687b975829384b498ac4b7476b2]\n",
       "class E8--><a href=\"psysml:a38466df-faf8-4af5-a290-fb7428072c5f\" target=\"_top\" title=\"psysml:a38466df-faf8-4af5-a290-fb7428072c5f\" xlink:actuate=\"onRequest\" xlink:href=\"psysml:a38466df-faf8-4af5-a290-fb7428072c5f\" xlink:show=\"new\" xlink:title=\"psysml:a38466df-faf8-4af5-a290-fb7428072c5f\" xlink:type=\"simple\"><rect fill=\"#FFFFFF\" height=\"45.9375\" id=\"E8\" rx=\"10\" ry=\"10\" style=\"stroke: #383838; stroke-width: 1.5;\" width=\"42\" x=\"105\" y=\"84\"/><text fill=\"#000000\" font-family=\"sans-serif\" font-size=\"12\" font-style=\"italic\" lengthAdjust=\"spacingAndGlyphs\" textLength=\"40\" x=\"106\" y=\"100.1387\">«part»</text><text fill=\"#000000\" font-family=\"sans-serif\" font-size=\"12\" lengthAdjust=\"spacingAndGlyphs\" textLength=\"21\" x=\"113.5\" y=\"114.1074\">z: B</text><line style=\"stroke: #383838; stroke-width: 1.5;\" x1=\"106\" x2=\"146\" y1=\"121.9375\" y2=\"121.9375\"/></a><!--MD5=[09b614a08d8cba4a07c9adeb5e0fee81]\n",
       "class E3--><a href=\"psysml:0a0c0374-c89d-44f1-8ff3-be2f7c1a5b8f\" target=\"_top\" title=\"psysml:0a0c0374-c89d-44f1-8ff3-be2f7c1a5b8f\" xlink:actuate=\"onRequest\" xlink:href=\"psysml:0a0c0374-c89d-44f1-8ff3-be2f7c1a5b8f\" xlink:show=\"new\" xlink:title=\"psysml:0a0c0374-c89d-44f1-8ff3-be2f7c1a5b8f\" xlink:type=\"simple\"><rect fill=\"#FFFFFF\" height=\"45.9375\" id=\"E3\" style=\"stroke: #383838; stroke-width: 1.5;\" width=\"70\" x=\"224\" y=\"205\"/><text fill=\"#000000\" font-family=\"sans-serif\" font-size=\"12\" font-style=\"italic\" lengthAdjust=\"spacingAndGlyphs\" textLength=\"68\" x=\"225\" y=\"221.1387\">«part  def»</text><text fill=\"#000000\" font-family=\"sans-serif\" font-size=\"12\" lengthAdjust=\"spacingAndGlyphs\" textLength=\"8\" x=\"255\" y=\"235.1074\">A</text><line style=\"stroke: #383838; stroke-width: 1.5;\" x1=\"225\" x2=\"293\" y1=\"242.9375\" y2=\"242.9375\"/></a><a href=\"psysml:9b62d657-9794-4032-9fa2-9f176e634d4a\" target=\"_top\" title=\"psysml:9b62d657-9794-4032-9fa2-9f176e634d4a\" xlink:actuate=\"onRequest\" xlink:href=\"psysml:9b62d657-9794-4032-9fa2-9f176e634d4a\" xlink:show=\"new\" xlink:title=\"psysml:9b62d657-9794-4032-9fa2-9f176e634d4a\" xlink:type=\"simple\"><polygon fill=\"#FFFFFF\" points=\"32,80.5,56,80.5,63,102.7969,70,102.7969,70,133.0938,32,133.0938,32,80.5\" style=\"stroke: #000000; stroke-width: 1.5;\"/><line style=\"stroke: #000000; stroke-width: 1.5;\" x1=\"32\" x2=\"63\" y1=\"102.7969\" y2=\"102.7969\"/><text fill=\"#000000\" font-family=\"sans-serif\" font-size=\"14\" font-weight=\"bold\" lengthAdjust=\"spacingAndGlyphs\" textLength=\"18\" x=\"36\" y=\"95.4951\">P2</text></a><!--MD5=[2156ba9850f5573cc1fc38a6a4b2f02b]\n",
       "class E7--><a href=\"psysml:af99adbc-0034-4f7c-9fbe-52493ca28392\" target=\"_top\" title=\"psysml:af99adbc-0034-4f7c-9fbe-52493ca28392\" xlink:actuate=\"onRequest\" xlink:href=\"psysml:af99adbc-0034-4f7c-9fbe-52493ca28392\" xlink:show=\"new\" xlink:title=\"psysml:af99adbc-0034-4f7c-9fbe-52493ca28392\" xlink:type=\"simple\"><rect fill=\"#FFFFFF\" height=\"45.9375\" id=\"E7\" style=\"stroke: #383838; stroke-width: 1.5;\" width=\"70\" x=\"91\" y=\"205\"/><text fill=\"#000000\" font-family=\"sans-serif\" font-size=\"12\" font-style=\"italic\" lengthAdjust=\"spacingAndGlyphs\" textLength=\"68\" x=\"92\" y=\"221.1387\">«part  def»</text><text fill=\"#000000\" font-family=\"sans-serif\" font-size=\"12\" lengthAdjust=\"spacingAndGlyphs\" textLength=\"8\" x=\"122\" y=\"235.1074\">B</text><line style=\"stroke: #383838; stroke-width: 1.5;\" x1=\"92\" x2=\"160\" y1=\"242.9375\" y2=\"242.9375\"/></a><!--MD5=[96f4274e9e20536e775497830990834d]\n",
       "class E10--><a href=\"psysml:d7dc5bce-b37d-4e4e-a49c-d44e6595ca7b\" target=\"_top\" title=\"psysml:d7dc5bce-b37d-4e4e-a49c-d44e6595ca7b\" xlink:actuate=\"onRequest\" xlink:href=\"psysml:d7dc5bce-b37d-4e4e-a49c-d44e6595ca7b\" xlink:show=\"new\" xlink:title=\"psysml:d7dc5bce-b37d-4e4e-a49c-d44e6595ca7b\" xlink:type=\"simple\"><rect fill=\"#FFFFFF\" height=\"45.9375\" id=\"E10\" rx=\"10\" ry=\"10\" style=\"stroke: #383838; stroke-width: 1.5;\" width=\"42\" x=\"259\" y=\"84\"/><text fill=\"#000000\" font-family=\"sans-serif\" font-size=\"12\" font-style=\"italic\" lengthAdjust=\"spacingAndGlyphs\" textLength=\"40\" x=\"260\" y=\"100.1387\">«part»</text><text fill=\"#000000\" font-family=\"sans-serif\" font-size=\"12\" lengthAdjust=\"spacingAndGlyphs\" textLength=\"29\" x=\"263.5\" y=\"114.1074\">z1: A</text><line style=\"stroke: #383838; stroke-width: 1.5;\" x1=\"260\" x2=\"300\" y1=\"121.9375\" y2=\"121.9375\"/></a><!--MD5=[e9be52314489bd878ff4c7144b63c9e1]\n",
       "link E5 to E3--><a href=\"psysml:2e6435ee-ec1e-47e4-8fad-fb77072556f4\" target=\"_top\" title=\"psysml:2e6435ee-ec1e-47e4-8fad-fb77072556f4\" xlink:actuate=\"onRequest\" xlink:href=\"psysml:2e6435ee-ec1e-47e4-8fad-fb77072556f4\" xlink:show=\"new\" xlink:title=\"psysml:2e6435ee-ec1e-47e4-8fad-fb77072556f4\" xlink:type=\"simple\"><path d=\"M213.4,130.1 C220.82,145.87 231.01,167.52 239.88,186.36 \" fill=\"none\" id=\"E5-&gt;E3\" style=\"stroke: #383838; stroke-width: 1.0;\"/><polygon fill=\"#FFFFFF\" points=\"248.46,204.61,234.0383,190.3968,246.7067,184.4376,248.46,204.61\" style=\"stroke: #383838; stroke-width: 1.0;\"/><ellipse cx=\"233.4218\" cy=\"184.3877\" fill=\"#383838\" rx=\"2\" ry=\"2\" style=\"stroke: #383838; stroke-width: 1.0;\"/><ellipse cx=\"242.4706\" cy=\"180.1311\" fill=\"#383838\" rx=\"2\" ry=\"2\" style=\"stroke: #383838; stroke-width: 1.0;\"/></a><!--MD5=[bfa3c8b0d15052fdf50ae9310b491027]\n",
       "link E8 to E7--><a href=\"psysml:f11bc7c0-c938-426a-87a4-76c9b47cac7e\" target=\"_top\" title=\"psysml:f11bc7c0-c938-426a-87a4-76c9b47cac7e\" xlink:actuate=\"onRequest\" xlink:href=\"psysml:f11bc7c0-c938-426a-87a4-76c9b47cac7e\" xlink:show=\"new\" xlink:title=\"psysml:f11bc7c0-c938-426a-87a4-76c9b47cac7e\" xlink:type=\"simple\"><path d=\"M126,130.1 C126,145.37 126,166.16 126,184.57 \" fill=\"none\" id=\"E8-&gt;E7\" style=\"stroke: #383838; stroke-width: 1.0;\"/><polygon fill=\"#FFFFFF\" points=\"126,204.61,119,185.61,133,185.61,126,204.61\" style=\"stroke: #383838; stroke-width: 1.0;\"/><ellipse cx=\"121\" cy=\"179.91\" fill=\"#383838\" rx=\"2\" ry=\"2\" style=\"stroke: #383838; stroke-width: 1.0;\"/><ellipse cx=\"131\" cy=\"179.91\" fill=\"#383838\" rx=\"2\" ry=\"2\" style=\"stroke: #383838; stroke-width: 1.0;\"/></a><!--MD5=[feeac5eb423634930294aa81f2d25a4c]\n",
       "link E10 to E3--><a href=\"psysml:21a673ac-f9f6-428c-a165-60ea4300f397\" target=\"_top\" title=\"psysml:21a673ac-f9f6-428c-a165-60ea4300f397\" xlink:actuate=\"onRequest\" xlink:href=\"psysml:21a673ac-f9f6-428c-a165-60ea4300f397\" xlink:show=\"new\" xlink:title=\"psysml:21a673ac-f9f6-428c-a165-60ea4300f397\" xlink:type=\"simple\"><path d=\"M276.1,130.1 C273.39,145.45 269.7,166.39 266.44,184.87 \" fill=\"none\" id=\"E10-&gt;E3\" style=\"stroke: #383838; stroke-width: 1.0;\"/><polygon fill=\"#FFFFFF\" points=\"262.95,204.61,259.3535,184.6835,273.1411,187.1131,262.95,204.61\" style=\"stroke: #383838; stroke-width: 1.0;\"/><ellipse cx=\"262.3123\" cy=\"179.4171\" fill=\"#383838\" rx=\"2\" ry=\"2\" style=\"stroke: #383838; stroke-width: 1.0;\"/><ellipse cx=\"272.1606\" cy=\"181.1525\" fill=\"#383838\" rx=\"2\" ry=\"2\" style=\"stroke: #383838; stroke-width: 1.0;\"/></a><!--MD5=[618e74905bc401a20d87733b07cb2850]\n",
       "@startuml\r\n",
       " skinparam monochrome true\r\n",
       "skinparam classbackgroundcolor white\r\n",
       "skinparam shadowing false\r\n",
       "skinparam wrapWidth 300\r\n",
       "hide circle\r\n",
       "\r\n",
       "package \"PrivateImportTest\" as E1  [[psysml:2415ca44-1de1-4a98-b3f0-a39d5285a5bd ]]  {\r\n",
       "package \"P1\" as E2  [[psysml:426e250f-8977-4e89-b166-3835fc91b530 ]]  {\r\n",
       "comp def \"A\" as E3  <<(T,blue) part  def>> [[psysml:0a0c0374-c89d-44f1-8ff3-be2f7c1a5b8f ]] {\r\n",
       "}\r\n",
       "}\r\n",
       "package \"P2\" as E4  [[psysml:9b62d657-9794-4032-9fa2-9f176e634d4a ]]  {\r\n",
       "}\r\n",
       "comp usage \"x: A \" as E5  <<(T,blue) part>> [[psysml:99b80f3a-0072-46fe-b843-b9a836066a51 ]] {\r\n",
       "}\r\n",
       "package \"P3\" as E6  [[psysml:fe85458f-8707-492f-a6ea-e7b6b29e5b91 ]]  {\r\n",
       "comp def \"B\" as E7  <<(T,blue) part  def>> [[psysml:af99adbc-0034-4f7c-9fbe-52493ca28392 ]] {\r\n",
       "}\r\n",
       "}\r\n",
       "comp usage \"z: B \" as E8  <<(T,blue) part>> [[psysml:a38466df-faf8-4af5-a290-fb7428072c5f ]] {\r\n",
       "}\r\n",
       "package \"P4\" as E9  [[psysml:77a03853-3516-49bc-9a88-c5db4c10002c ]]  {\r\n",
       "comp usage \"z1: A \" as E10  <<(T,blue) part>> [[psysml:d7dc5bce-b37d-4e4e-a49c-d44e6595ca7b ]] {\r\n",
       "}\r\n",
       "}\r\n",
       "}\r\n",
       "E5 - -:|> E3 [[psysml:2e6435ee-ec1e-47e4-8fad-fb77072556f4 ]] \r\n",
       "E8 - -:|> E7 [[psysml:f11bc7c0-c938-426a-87a4-76c9b47cac7e ]] \r\n",
       "E10 - -:|> E3 [[psysml:21a673ac-f9f6-428c-a165-60ea4300f397 ]] \r\n",
       "@enduml\r\n",
       "\n",
       "PlantUML version 1.2020.13(Sat Jun 13 12:26:38 UTC 2020)\n",
       "(EPL source distribution)\n",
       "Java Runtime: OpenJDK Runtime Environment\n",
       "JVM: OpenJDK 64-Bit Server VM\n",
       "Default Encoding: UTF-8\n",
       "Language: en\n",
       "Country: null\n",
       "--></g></svg>"
      ]
     },
     "execution_count": 2,
     "metadata": {},
     "output_type": "execute_result"
    }
   ],
   "source": [
    "%viz --style=\"COMPTREE\" --view=\"Default\" \"PrivateImportTest\""
   ]
  },
  {
   "cell_type": "code",
   "execution_count": 3,
   "id": "eb9565e1",
   "metadata": {
    "execution": {
     "iopub.execute_input": "2021-10-25T08:22:19.971453Z",
     "iopub.status.busy": "2021-10-25T08:22:19.971203Z",
     "iopub.status.idle": "2021-10-25T08:22:20.029494Z",
     "shell.execute_reply": "2021-10-25T08:22:20.029109Z"
    }
   },
   "outputs": [
    {
     "data": {
      "image/svg+xml": [
       "<?xml version=\"1.0\" encoding=\"UTF-8\" standalone=\"no\"?><svg xmlns=\"http://www.w3.org/2000/svg\" xmlns:xlink=\"http://www.w3.org/1999/xlink\" contentScriptType=\"application/ecmascript\" contentStyleType=\"text/css\" height=\"303px\" preserveAspectRatio=\"none\" style=\"width:363px;height:303px;\" version=\"1.1\" viewBox=\"0 0 363 303\" width=\"363px\" zoomAndPan=\"magnify\"><defs/><g><!--MD5=[fbc87193dbaf4d95561dea2c320d4a47]\n",
       "cluster E1--><a href=\"psysml:2415ca44-1de1-4a98-b3f0-a39d5285a5bd\" target=\"_top\" title=\"psysml:2415ca44-1de1-4a98-b3f0-a39d5285a5bd\" xlink:actuate=\"onRequest\" xlink:href=\"psysml:2415ca44-1de1-4a98-b3f0-a39d5285a5bd\" xlink:show=\"new\" xlink:title=\"psysml:2415ca44-1de1-4a98-b3f0-a39d5285a5bd\" xlink:type=\"simple\"><polygon fill=\"#FFFFFF\" points=\"16,6,143,6,150,28.2969,341,28.2969,341,291,16,291,16,6\" style=\"stroke: #000000; stroke-width: 1.5;\"/><line style=\"stroke: #000000; stroke-width: 1.5;\" x1=\"16\" x2=\"150\" y1=\"28.2969\" y2=\"28.2969\"/><text fill=\"#000000\" font-family=\"sans-serif\" font-size=\"14\" font-weight=\"bold\" lengthAdjust=\"spacingAndGlyphs\" textLength=\"121\" x=\"20\" y=\"20.9951\">PrivateImportTest</text></a><!--MD5=[e4f7fae6ed58524ba242bb0b0d3be6b7]\n",
       "cluster E2--><a href=\"psysml:426e250f-8977-4e89-b166-3835fc91b530\" target=\"_top\" title=\"psysml:426e250f-8977-4e89-b166-3835fc91b530\" xlink:actuate=\"onRequest\" xlink:href=\"psysml:426e250f-8977-4e89-b166-3835fc91b530\" xlink:show=\"new\" xlink:title=\"psysml:426e250f-8977-4e89-b166-3835fc91b530\" xlink:type=\"simple\"><polygon fill=\"#FFFFFF\" points=\"208,170,232,170,239,192.2969,310,192.2969,310,267,208,267,208,170\" style=\"stroke: #000000; stroke-width: 1.5;\"/><line style=\"stroke: #000000; stroke-width: 1.5;\" x1=\"208\" x2=\"239\" y1=\"192.2969\" y2=\"192.2969\"/><text fill=\"#000000\" font-family=\"sans-serif\" font-size=\"14\" font-weight=\"bold\" lengthAdjust=\"spacingAndGlyphs\" textLength=\"18\" x=\"212\" y=\"184.9951\">P1</text></a><!--MD5=[14e3b0961a2654348d326746436168a1]\n",
       "cluster E6--><a href=\"psysml:fe85458f-8707-492f-a6ea-e7b6b29e5b91\" target=\"_top\" title=\"psysml:fe85458f-8707-492f-a6ea-e7b6b29e5b91\" xlink:actuate=\"onRequest\" xlink:href=\"psysml:fe85458f-8707-492f-a6ea-e7b6b29e5b91\" xlink:show=\"new\" xlink:title=\"psysml:fe85458f-8707-492f-a6ea-e7b6b29e5b91\" xlink:type=\"simple\"><polygon fill=\"#FFFFFF\" points=\"75,170,99,170,106,192.2969,177,192.2969,177,267,75,267,75,170\" style=\"stroke: #000000; stroke-width: 1.5;\"/><line style=\"stroke: #000000; stroke-width: 1.5;\" x1=\"75\" x2=\"106\" y1=\"192.2969\" y2=\"192.2969\"/><text fill=\"#000000\" font-family=\"sans-serif\" font-size=\"14\" font-weight=\"bold\" lengthAdjust=\"spacingAndGlyphs\" textLength=\"18\" x=\"79\" y=\"184.9951\">P3</text></a><!--MD5=[7f149f147074ac12df2cb0a7728a5fb0]\n",
       "cluster E9--><a href=\"psysml:77a03853-3516-49bc-9a88-c5db4c10002c\" target=\"_top\" title=\"psysml:77a03853-3516-49bc-9a88-c5db4c10002c\" xlink:actuate=\"onRequest\" xlink:href=\"psysml:77a03853-3516-49bc-9a88-c5db4c10002c\" xlink:show=\"new\" xlink:title=\"psysml:77a03853-3516-49bc-9a88-c5db4c10002c\" xlink:type=\"simple\"><polygon fill=\"#FFFFFF\" points=\"243,49,267,49,274,71.2969,317,71.2969,317,146,243,146,243,49\" style=\"stroke: #000000; stroke-width: 1.5;\"/><line style=\"stroke: #000000; stroke-width: 1.5;\" x1=\"243\" x2=\"274\" y1=\"71.2969\" y2=\"71.2969\"/><text fill=\"#000000\" font-family=\"sans-serif\" font-size=\"14\" font-weight=\"bold\" lengthAdjust=\"spacingAndGlyphs\" textLength=\"18\" x=\"247\" y=\"63.9951\">P4</text></a><!--MD5=[270fce915f116d4de14055a7c1d9a0f3]\n",
       "class E5--><a href=\"psysml:99b80f3a-0072-46fe-b843-b9a836066a51\" target=\"_top\" title=\"psysml:99b80f3a-0072-46fe-b843-b9a836066a51\" xlink:actuate=\"onRequest\" xlink:href=\"psysml:99b80f3a-0072-46fe-b843-b9a836066a51\" xlink:show=\"new\" xlink:title=\"psysml:99b80f3a-0072-46fe-b843-b9a836066a51\" xlink:type=\"simple\"><rect fill=\"#FFFFFF\" height=\"45.9375\" id=\"E5\" rx=\"10\" ry=\"10\" style=\"stroke: #383838; stroke-width: 1.5;\" width=\"42\" x=\"182\" y=\"84\"/><text fill=\"#000000\" font-family=\"sans-serif\" font-size=\"12\" font-style=\"italic\" lengthAdjust=\"spacingAndGlyphs\" textLength=\"40\" x=\"183\" y=\"100.1387\">«part»</text><text fill=\"#000000\" font-family=\"sans-serif\" font-size=\"12\" lengthAdjust=\"spacingAndGlyphs\" textLength=\"22\" x=\"190\" y=\"114.1074\">x: A</text><line style=\"stroke: #383838; stroke-width: 1.5;\" x1=\"183\" x2=\"223\" y1=\"121.9375\" y2=\"121.9375\"/></a><!--MD5=[b9389687b975829384b498ac4b7476b2]\n",
       "class E8--><a href=\"psysml:a38466df-faf8-4af5-a290-fb7428072c5f\" target=\"_top\" title=\"psysml:a38466df-faf8-4af5-a290-fb7428072c5f\" xlink:actuate=\"onRequest\" xlink:href=\"psysml:a38466df-faf8-4af5-a290-fb7428072c5f\" xlink:show=\"new\" xlink:title=\"psysml:a38466df-faf8-4af5-a290-fb7428072c5f\" xlink:type=\"simple\"><rect fill=\"#FFFFFF\" height=\"45.9375\" id=\"E8\" rx=\"10\" ry=\"10\" style=\"stroke: #383838; stroke-width: 1.5;\" width=\"42\" x=\"105\" y=\"84\"/><text fill=\"#000000\" font-family=\"sans-serif\" font-size=\"12\" font-style=\"italic\" lengthAdjust=\"spacingAndGlyphs\" textLength=\"40\" x=\"106\" y=\"100.1387\">«part»</text><text fill=\"#000000\" font-family=\"sans-serif\" font-size=\"12\" lengthAdjust=\"spacingAndGlyphs\" textLength=\"21\" x=\"113.5\" y=\"114.1074\">z: B</text><line style=\"stroke: #383838; stroke-width: 1.5;\" x1=\"106\" x2=\"146\" y1=\"121.9375\" y2=\"121.9375\"/></a><!--MD5=[09b614a08d8cba4a07c9adeb5e0fee81]\n",
       "class E3--><a href=\"psysml:0a0c0374-c89d-44f1-8ff3-be2f7c1a5b8f\" target=\"_top\" title=\"psysml:0a0c0374-c89d-44f1-8ff3-be2f7c1a5b8f\" xlink:actuate=\"onRequest\" xlink:href=\"psysml:0a0c0374-c89d-44f1-8ff3-be2f7c1a5b8f\" xlink:show=\"new\" xlink:title=\"psysml:0a0c0374-c89d-44f1-8ff3-be2f7c1a5b8f\" xlink:type=\"simple\"><rect fill=\"#FFFFFF\" height=\"45.9375\" id=\"E3\" style=\"stroke: #383838; stroke-width: 1.5;\" width=\"70\" x=\"224\" y=\"205\"/><text fill=\"#000000\" font-family=\"sans-serif\" font-size=\"12\" font-style=\"italic\" lengthAdjust=\"spacingAndGlyphs\" textLength=\"68\" x=\"225\" y=\"221.1387\">«part  def»</text><text fill=\"#000000\" font-family=\"sans-serif\" font-size=\"12\" lengthAdjust=\"spacingAndGlyphs\" textLength=\"8\" x=\"255\" y=\"235.1074\">A</text><line style=\"stroke: #383838; stroke-width: 1.5;\" x1=\"225\" x2=\"293\" y1=\"242.9375\" y2=\"242.9375\"/></a><a href=\"psysml:9b62d657-9794-4032-9fa2-9f176e634d4a\" target=\"_top\" title=\"psysml:9b62d657-9794-4032-9fa2-9f176e634d4a\" xlink:actuate=\"onRequest\" xlink:href=\"psysml:9b62d657-9794-4032-9fa2-9f176e634d4a\" xlink:show=\"new\" xlink:title=\"psysml:9b62d657-9794-4032-9fa2-9f176e634d4a\" xlink:type=\"simple\"><polygon fill=\"#FFFFFF\" points=\"32,80.5,56,80.5,63,102.7969,70,102.7969,70,133.0938,32,133.0938,32,80.5\" style=\"stroke: #000000; stroke-width: 1.5;\"/><line style=\"stroke: #000000; stroke-width: 1.5;\" x1=\"32\" x2=\"63\" y1=\"102.7969\" y2=\"102.7969\"/><text fill=\"#000000\" font-family=\"sans-serif\" font-size=\"14\" font-weight=\"bold\" lengthAdjust=\"spacingAndGlyphs\" textLength=\"18\" x=\"36\" y=\"95.4951\">P2</text></a><!--MD5=[2156ba9850f5573cc1fc38a6a4b2f02b]\n",
       "class E7--><a href=\"psysml:af99adbc-0034-4f7c-9fbe-52493ca28392\" target=\"_top\" title=\"psysml:af99adbc-0034-4f7c-9fbe-52493ca28392\" xlink:actuate=\"onRequest\" xlink:href=\"psysml:af99adbc-0034-4f7c-9fbe-52493ca28392\" xlink:show=\"new\" xlink:title=\"psysml:af99adbc-0034-4f7c-9fbe-52493ca28392\" xlink:type=\"simple\"><rect fill=\"#FFFFFF\" height=\"45.9375\" id=\"E7\" style=\"stroke: #383838; stroke-width: 1.5;\" width=\"70\" x=\"91\" y=\"205\"/><text fill=\"#000000\" font-family=\"sans-serif\" font-size=\"12\" font-style=\"italic\" lengthAdjust=\"spacingAndGlyphs\" textLength=\"68\" x=\"92\" y=\"221.1387\">«part  def»</text><text fill=\"#000000\" font-family=\"sans-serif\" font-size=\"12\" lengthAdjust=\"spacingAndGlyphs\" textLength=\"8\" x=\"122\" y=\"235.1074\">B</text><line style=\"stroke: #383838; stroke-width: 1.5;\" x1=\"92\" x2=\"160\" y1=\"242.9375\" y2=\"242.9375\"/></a><!--MD5=[96f4274e9e20536e775497830990834d]\n",
       "class E10--><a href=\"psysml:d7dc5bce-b37d-4e4e-a49c-d44e6595ca7b\" target=\"_top\" title=\"psysml:d7dc5bce-b37d-4e4e-a49c-d44e6595ca7b\" xlink:actuate=\"onRequest\" xlink:href=\"psysml:d7dc5bce-b37d-4e4e-a49c-d44e6595ca7b\" xlink:show=\"new\" xlink:title=\"psysml:d7dc5bce-b37d-4e4e-a49c-d44e6595ca7b\" xlink:type=\"simple\"><rect fill=\"#FFFFFF\" height=\"45.9375\" id=\"E10\" rx=\"10\" ry=\"10\" style=\"stroke: #383838; stroke-width: 1.5;\" width=\"42\" x=\"259\" y=\"84\"/><text fill=\"#000000\" font-family=\"sans-serif\" font-size=\"12\" font-style=\"italic\" lengthAdjust=\"spacingAndGlyphs\" textLength=\"40\" x=\"260\" y=\"100.1387\">«part»</text><text fill=\"#000000\" font-family=\"sans-serif\" font-size=\"12\" lengthAdjust=\"spacingAndGlyphs\" textLength=\"29\" x=\"263.5\" y=\"114.1074\">z1: A</text><line style=\"stroke: #383838; stroke-width: 1.5;\" x1=\"260\" x2=\"300\" y1=\"121.9375\" y2=\"121.9375\"/></a><!--MD5=[e9be52314489bd878ff4c7144b63c9e1]\n",
       "link E5 to E3--><a href=\"psysml:2e6435ee-ec1e-47e4-8fad-fb77072556f4\" target=\"_top\" title=\"psysml:2e6435ee-ec1e-47e4-8fad-fb77072556f4\" xlink:actuate=\"onRequest\" xlink:href=\"psysml:2e6435ee-ec1e-47e4-8fad-fb77072556f4\" xlink:show=\"new\" xlink:title=\"psysml:2e6435ee-ec1e-47e4-8fad-fb77072556f4\" xlink:type=\"simple\"><path d=\"M213.4,130.1 C220.82,145.87 231.01,167.52 239.88,186.36 \" fill=\"none\" id=\"E5-&gt;E3\" style=\"stroke: #383838; stroke-width: 1.0;\"/><polygon fill=\"#FFFFFF\" points=\"248.46,204.61,234.0383,190.3968,246.7067,184.4376,248.46,204.61\" style=\"stroke: #383838; stroke-width: 1.0;\"/><ellipse cx=\"233.4218\" cy=\"184.3877\" fill=\"#383838\" rx=\"2\" ry=\"2\" style=\"stroke: #383838; stroke-width: 1.0;\"/><ellipse cx=\"242.4706\" cy=\"180.1311\" fill=\"#383838\" rx=\"2\" ry=\"2\" style=\"stroke: #383838; stroke-width: 1.0;\"/></a><!--MD5=[bfa3c8b0d15052fdf50ae9310b491027]\n",
       "link E8 to E7--><a href=\"psysml:f11bc7c0-c938-426a-87a4-76c9b47cac7e\" target=\"_top\" title=\"psysml:f11bc7c0-c938-426a-87a4-76c9b47cac7e\" xlink:actuate=\"onRequest\" xlink:href=\"psysml:f11bc7c0-c938-426a-87a4-76c9b47cac7e\" xlink:show=\"new\" xlink:title=\"psysml:f11bc7c0-c938-426a-87a4-76c9b47cac7e\" xlink:type=\"simple\"><path d=\"M126,130.1 C126,145.37 126,166.16 126,184.57 \" fill=\"none\" id=\"E8-&gt;E7\" style=\"stroke: #383838; stroke-width: 1.0;\"/><polygon fill=\"#FFFFFF\" points=\"126,204.61,119,185.61,133,185.61,126,204.61\" style=\"stroke: #383838; stroke-width: 1.0;\"/><ellipse cx=\"121\" cy=\"179.91\" fill=\"#383838\" rx=\"2\" ry=\"2\" style=\"stroke: #383838; stroke-width: 1.0;\"/><ellipse cx=\"131\" cy=\"179.91\" fill=\"#383838\" rx=\"2\" ry=\"2\" style=\"stroke: #383838; stroke-width: 1.0;\"/></a><!--MD5=[feeac5eb423634930294aa81f2d25a4c]\n",
       "link E10 to E3--><a href=\"psysml:21a673ac-f9f6-428c-a165-60ea4300f397\" target=\"_top\" title=\"psysml:21a673ac-f9f6-428c-a165-60ea4300f397\" xlink:actuate=\"onRequest\" xlink:href=\"psysml:21a673ac-f9f6-428c-a165-60ea4300f397\" xlink:show=\"new\" xlink:title=\"psysml:21a673ac-f9f6-428c-a165-60ea4300f397\" xlink:type=\"simple\"><path d=\"M276.1,130.1 C273.39,145.45 269.7,166.39 266.44,184.87 \" fill=\"none\" id=\"E10-&gt;E3\" style=\"stroke: #383838; stroke-width: 1.0;\"/><polygon fill=\"#FFFFFF\" points=\"262.95,204.61,259.3535,184.6835,273.1411,187.1131,262.95,204.61\" style=\"stroke: #383838; stroke-width: 1.0;\"/><ellipse cx=\"262.3123\" cy=\"179.4171\" fill=\"#383838\" rx=\"2\" ry=\"2\" style=\"stroke: #383838; stroke-width: 1.0;\"/><ellipse cx=\"272.1606\" cy=\"181.1525\" fill=\"#383838\" rx=\"2\" ry=\"2\" style=\"stroke: #383838; stroke-width: 1.0;\"/></a><!--MD5=[618e74905bc401a20d87733b07cb2850]\n",
       "@startuml\r\n",
       " skinparam monochrome true\r\n",
       "skinparam classbackgroundcolor white\r\n",
       "skinparam shadowing false\r\n",
       "skinparam wrapWidth 300\r\n",
       "hide circle\r\n",
       "\r\n",
       "package \"PrivateImportTest\" as E1  [[psysml:2415ca44-1de1-4a98-b3f0-a39d5285a5bd ]]  {\r\n",
       "package \"P1\" as E2  [[psysml:426e250f-8977-4e89-b166-3835fc91b530 ]]  {\r\n",
       "comp def \"A\" as E3  <<(T,blue) part  def>> [[psysml:0a0c0374-c89d-44f1-8ff3-be2f7c1a5b8f ]] {\r\n",
       "}\r\n",
       "}\r\n",
       "package \"P2\" as E4  [[psysml:9b62d657-9794-4032-9fa2-9f176e634d4a ]]  {\r\n",
       "}\r\n",
       "comp usage \"x: A \" as E5  <<(T,blue) part>> [[psysml:99b80f3a-0072-46fe-b843-b9a836066a51 ]] {\r\n",
       "}\r\n",
       "package \"P3\" as E6  [[psysml:fe85458f-8707-492f-a6ea-e7b6b29e5b91 ]]  {\r\n",
       "comp def \"B\" as E7  <<(T,blue) part  def>> [[psysml:af99adbc-0034-4f7c-9fbe-52493ca28392 ]] {\r\n",
       "}\r\n",
       "}\r\n",
       "comp usage \"z: B \" as E8  <<(T,blue) part>> [[psysml:a38466df-faf8-4af5-a290-fb7428072c5f ]] {\r\n",
       "}\r\n",
       "package \"P4\" as E9  [[psysml:77a03853-3516-49bc-9a88-c5db4c10002c ]]  {\r\n",
       "comp usage \"z1: A \" as E10  <<(T,blue) part>> [[psysml:d7dc5bce-b37d-4e4e-a49c-d44e6595ca7b ]] {\r\n",
       "}\r\n",
       "}\r\n",
       "}\r\n",
       "E5 - -:|> E3 [[psysml:2e6435ee-ec1e-47e4-8fad-fb77072556f4 ]] \r\n",
       "E8 - -:|> E7 [[psysml:f11bc7c0-c938-426a-87a4-76c9b47cac7e ]] \r\n",
       "E10 - -:|> E3 [[psysml:21a673ac-f9f6-428c-a165-60ea4300f397 ]] \r\n",
       "@enduml\r\n",
       "\n",
       "PlantUML version 1.2020.13(Sat Jun 13 12:26:38 UTC 2020)\n",
       "(EPL source distribution)\n",
       "Java Runtime: OpenJDK Runtime Environment\n",
       "JVM: OpenJDK 64-Bit Server VM\n",
       "Default Encoding: UTF-8\n",
       "Language: en\n",
       "Country: null\n",
       "--></g></svg>"
      ]
     },
     "execution_count": 3,
     "metadata": {},
     "output_type": "execute_result"
    }
   ],
   "source": [
    "%viz --style=\"COMPTREE\" --view=\"Tree\" \"PrivateImportTest\""
   ]
  },
  {
   "cell_type": "code",
   "execution_count": 4,
   "id": "0792a37e",
   "metadata": {
    "execution": {
     "iopub.execute_input": "2021-10-25T08:22:20.079317Z",
     "iopub.status.busy": "2021-10-25T08:22:20.078896Z",
     "iopub.status.idle": "2021-10-25T08:22:20.088054Z",
     "shell.execute_reply": "2021-10-25T08:22:20.088384Z"
    }
   },
   "outputs": [
    {
     "data": {
      "image/svg+xml": [
       "<?xml version=\"1.0\" encoding=\"UTF-8\" standalone=\"no\"?><svg xmlns=\"http://www.w3.org/2000/svg\" xmlns:xlink=\"http://www.w3.org/1999/xlink\" contentScriptType=\"application/ecmascript\" contentStyleType=\"text/css\" height=\"12px\" preserveAspectRatio=\"none\" style=\"width:12px;height:12px;\" version=\"1.1\" viewBox=\"0 0 12 12\" width=\"12px\" zoomAndPan=\"magnify\"><defs/><g><!--MD5=[f19188ef49e11757b5c46753f95d9edc]\n",
       "@startuml\r\n",
       " skinparam monochrome true\r\n",
       "skinparam classbackgroundcolor white\r\n",
       "skinparam shadowing false\r\n",
       "skinparam wrapWidth 300\r\n",
       "hide circle\r\n",
       "\r\n",
       "@enduml\r\n",
       "\n",
       "PlantUML version 1.2020.13(Sat Jun 13 12:26:38 UTC 2020)\n",
       "(EPL source distribution)\n",
       "Java Runtime: OpenJDK Runtime Environment\n",
       "JVM: OpenJDK 64-Bit Server VM\n",
       "Default Encoding: UTF-8\n",
       "Language: en\n",
       "Country: null\n",
       "--></g></svg>"
      ]
     },
     "execution_count": 4,
     "metadata": {},
     "output_type": "execute_result"
    }
   ],
   "source": [
    "%viz --style=\"COMPTREE\" --view=\"State\" \"PrivateImportTest\""
   ]
  },
  {
   "cell_type": "code",
   "execution_count": 5,
   "id": "32412439",
   "metadata": {
    "execution": {
     "iopub.execute_input": "2021-10-25T08:22:20.138847Z",
     "iopub.status.busy": "2021-10-25T08:22:20.138421Z",
     "iopub.status.idle": "2021-10-25T08:22:20.194888Z",
     "shell.execute_reply": "2021-10-25T08:22:20.195215Z"
    }
   },
   "outputs": [
    {
     "data": {
      "image/svg+xml": [
       "<?xml version=\"1.0\" encoding=\"UTF-8\" standalone=\"no\"?><svg xmlns=\"http://www.w3.org/2000/svg\" xmlns:xlink=\"http://www.w3.org/1999/xlink\" contentScriptType=\"application/ecmascript\" contentStyleType=\"text/css\" height=\"179px\" preserveAspectRatio=\"none\" style=\"width:647px;height:179px;\" version=\"1.1\" viewBox=\"0 0 647 179\" width=\"647px\" zoomAndPan=\"magnify\"><defs/><g><!--MD5=[fbc87193dbaf4d95561dea2c320d4a47]\n",
       "cluster E1--><a href=\"psysml:2415ca44-1de1-4a98-b3f0-a39d5285a5bd\" target=\"_top\" title=\"psysml:2415ca44-1de1-4a98-b3f0-a39d5285a5bd\" xlink:actuate=\"onRequest\" xlink:href=\"psysml:2415ca44-1de1-4a98-b3f0-a39d5285a5bd\" xlink:show=\"new\" xlink:title=\"psysml:2415ca44-1de1-4a98-b3f0-a39d5285a5bd\" xlink:type=\"simple\"><polygon fill=\"#FFFFFF\" points=\"16,6,143,6,150,28.2969,625,28.2969,625,167,16,167,16,6\" style=\"stroke: #000000; stroke-width: 1.5;\"/><line style=\"stroke: #000000; stroke-width: 1.5;\" x1=\"16\" x2=\"150\" y1=\"28.2969\" y2=\"28.2969\"/><text fill=\"#000000\" font-family=\"sans-serif\" font-size=\"14\" font-weight=\"bold\" lengthAdjust=\"spacingAndGlyphs\" textLength=\"121\" x=\"20\" y=\"20.9951\">PrivateImportTest</text></a><!--MD5=[e4f7fae6ed58524ba242bb0b0d3be6b7]\n",
       "cluster E2--><a href=\"psysml:426e250f-8977-4e89-b166-3835fc91b530\" target=\"_top\" title=\"psysml:426e250f-8977-4e89-b166-3835fc91b530\" xlink:actuate=\"onRequest\" xlink:href=\"psysml:426e250f-8977-4e89-b166-3835fc91b530\" xlink:show=\"new\" xlink:title=\"psysml:426e250f-8977-4e89-b166-3835fc91b530\" xlink:type=\"simple\"><polygon fill=\"#FFFFFF\" points=\"495,49,519,49,526,71.2969,601,71.2969,601,143,495,143,495,49\" style=\"stroke: #000000; stroke-width: 1.5;\"/><line style=\"stroke: #000000; stroke-width: 1.5;\" x1=\"495\" x2=\"526\" y1=\"71.2969\" y2=\"71.2969\"/><text fill=\"#000000\" font-family=\"sans-serif\" font-size=\"14\" font-weight=\"bold\" lengthAdjust=\"spacingAndGlyphs\" textLength=\"18\" x=\"499\" y=\"63.9951\">P1</text></a><!--MD5=[14e3b0961a2654348d326746436168a1]\n",
       "cluster E6--><a href=\"psysml:fe85458f-8707-492f-a6ea-e7b6b29e5b91\" target=\"_top\" title=\"psysml:fe85458f-8707-492f-a6ea-e7b6b29e5b91\" xlink:actuate=\"onRequest\" xlink:href=\"psysml:fe85458f-8707-492f-a6ea-e7b6b29e5b91\" xlink:show=\"new\" xlink:title=\"psysml:fe85458f-8707-492f-a6ea-e7b6b29e5b91\" xlink:type=\"simple\"><polygon fill=\"#FFFFFF\" points=\"365,49,389,49,396,71.2969,471,71.2969,471,143,365,143,365,49\" style=\"stroke: #000000; stroke-width: 1.5;\"/><line style=\"stroke: #000000; stroke-width: 1.5;\" x1=\"365\" x2=\"396\" y1=\"71.2969\" y2=\"71.2969\"/><text fill=\"#000000\" font-family=\"sans-serif\" font-size=\"14\" font-weight=\"bold\" lengthAdjust=\"spacingAndGlyphs\" textLength=\"18\" x=\"369\" y=\"63.9951\">P3</text></a><!--MD5=[7f149f147074ac12df2cb0a7728a5fb0]\n",
       "cluster E9--><a href=\"psysml:77a03853-3516-49bc-9a88-c5db4c10002c\" target=\"_top\" title=\"psysml:77a03853-3516-49bc-9a88-c5db4c10002c\" xlink:actuate=\"onRequest\" xlink:href=\"psysml:77a03853-3516-49bc-9a88-c5db4c10002c\" xlink:show=\"new\" xlink:title=\"psysml:77a03853-3516-49bc-9a88-c5db4c10002c\" xlink:type=\"simple\"><polygon fill=\"#FFFFFF\" points=\"259,50.5,283,50.5,290,72.7969,341,72.7969,341,141.5,259,141.5,259,50.5\" style=\"stroke: #000000; stroke-width: 1.5;\"/><line style=\"stroke: #000000; stroke-width: 1.5;\" x1=\"259\" x2=\"290\" y1=\"72.7969\" y2=\"72.7969\"/><text fill=\"#000000\" font-family=\"sans-serif\" font-size=\"14\" font-weight=\"bold\" lengthAdjust=\"spacingAndGlyphs\" textLength=\"18\" x=\"263\" y=\"65.4951\">P4</text></a><g id=\"E1.E2.E3\"><a href=\"psysml:0a0c0374-c89d-44f1-8ff3-be2f7c1a5b8f\" target=\"_top\" title=\"psysml:0a0c0374-c89d-44f1-8ff3-be2f7c1a5b8f\" xlink:actuate=\"onRequest\" xlink:href=\"psysml:0a0c0374-c89d-44f1-8ff3-be2f7c1a5b8f\" xlink:show=\"new\" xlink:title=\"psysml:0a0c0374-c89d-44f1-8ff3-be2f7c1a5b8f\" xlink:type=\"simple\"><rect fill=\"#FFFFFF\" height=\"42.9375\" id=\"E3\" style=\"stroke: #383838; stroke-width: 1.5;\" width=\"75\" x=\"510.5\" y=\"84\"/><rect fill=\"#F8F8F8\" height=\"37.9375\" style=\"stroke: #383838; stroke-width: 1.5;\" width=\"75\" x=\"510.5\" y=\"84\"/><text fill=\"#000000\" font-family=\"sans-serif\" font-size=\"12\" font-style=\"italic\" lengthAdjust=\"spacingAndGlyphs\" textLength=\"68\" x=\"514\" y=\"100.1387\">«part  def»</text><text fill=\"#000000\" font-family=\"sans-serif\" font-size=\"12\" lengthAdjust=\"spacingAndGlyphs\" textLength=\"8\" x=\"544\" y=\"114.1074\">A</text></a></g><a href=\"psysml:9b62d657-9794-4032-9fa2-9f176e634d4a\" target=\"_top\" title=\"psysml:9b62d657-9794-4032-9fa2-9f176e634d4a\" xlink:actuate=\"onRequest\" xlink:href=\"psysml:9b62d657-9794-4032-9fa2-9f176e634d4a\" xlink:show=\"new\" xlink:title=\"psysml:9b62d657-9794-4032-9fa2-9f176e634d4a\" xlink:type=\"simple\"><polygon fill=\"#FFFFFF\" points=\"202,79,226,79,233,101.2969,240,101.2969,240,131.5938,202,131.5938,202,79\" style=\"stroke: #000000; stroke-width: 1.5;\"/><line style=\"stroke: #000000; stroke-width: 1.5;\" x1=\"202\" x2=\"233\" y1=\"101.2969\" y2=\"101.2969\"/><text fill=\"#000000\" font-family=\"sans-serif\" font-size=\"14\" font-weight=\"bold\" lengthAdjust=\"spacingAndGlyphs\" textLength=\"18\" x=\"206\" y=\"93.9951\">P2</text></a><g id=\"E1.E5\"><a href=\"psysml:99b80f3a-0072-46fe-b843-b9a836066a51\" target=\"_top\" title=\"psysml:99b80f3a-0072-46fe-b843-b9a836066a51\" xlink:actuate=\"onRequest\" xlink:href=\"psysml:99b80f3a-0072-46fe-b843-b9a836066a51\" xlink:show=\"new\" xlink:title=\"psysml:99b80f3a-0072-46fe-b843-b9a836066a51\" xlink:type=\"simple\"><rect fill=\"#FFFFFF\" height=\"40\" id=\"E5\" rx=\"10\" ry=\"10\" style=\"stroke: #383838; stroke-width: 1.5;\" width=\"50\" x=\"117\" y=\"85.5\"/><rect fill=\"#F8F8F8\" height=\"23.9688\" rx=\"10\" ry=\"10\" style=\"stroke: #F8F8F8; stroke-width: 1.5;\" width=\"50\" x=\"117\" y=\"85.5\"/><rect fill=\"#F8F8F8\" height=\"10\" style=\"stroke: #F8F8F8; stroke-width: 1.5;\" width=\"50\" x=\"117\" y=\"99.4688\"/><rect fill=\"none\" height=\"40\" id=\"E5\" rx=\"10\" ry=\"10\" style=\"stroke: #383838; stroke-width: 1.5;\" width=\"50\" x=\"117\" y=\"85.5\"/><text fill=\"#000000\" font-family=\"sans-serif\" font-size=\"12\" lengthAdjust=\"spacingAndGlyphs\" textLength=\"22\" x=\"131\" y=\"101.6387\">x: A</text></a></g><g id=\"E1.E6.E7\"><a href=\"psysml:af99adbc-0034-4f7c-9fbe-52493ca28392\" target=\"_top\" title=\"psysml:af99adbc-0034-4f7c-9fbe-52493ca28392\" xlink:actuate=\"onRequest\" xlink:href=\"psysml:af99adbc-0034-4f7c-9fbe-52493ca28392\" xlink:show=\"new\" xlink:title=\"psysml:af99adbc-0034-4f7c-9fbe-52493ca28392\" xlink:type=\"simple\"><rect fill=\"#FFFFFF\" height=\"42.9375\" id=\"E7\" style=\"stroke: #383838; stroke-width: 1.5;\" width=\"75\" x=\"380.5\" y=\"84\"/><rect fill=\"#F8F8F8\" height=\"37.9375\" style=\"stroke: #383838; stroke-width: 1.5;\" width=\"75\" x=\"380.5\" y=\"84\"/><text fill=\"#000000\" font-family=\"sans-serif\" font-size=\"12\" font-style=\"italic\" lengthAdjust=\"spacingAndGlyphs\" textLength=\"68\" x=\"384\" y=\"100.1387\">«part  def»</text><text fill=\"#000000\" font-family=\"sans-serif\" font-size=\"12\" lengthAdjust=\"spacingAndGlyphs\" textLength=\"8\" x=\"414\" y=\"114.1074\">B</text></a></g><g id=\"E1.E8\"><a href=\"psysml:a38466df-faf8-4af5-a290-fb7428072c5f\" target=\"_top\" title=\"psysml:a38466df-faf8-4af5-a290-fb7428072c5f\" xlink:actuate=\"onRequest\" xlink:href=\"psysml:a38466df-faf8-4af5-a290-fb7428072c5f\" xlink:show=\"new\" xlink:title=\"psysml:a38466df-faf8-4af5-a290-fb7428072c5f\" xlink:type=\"simple\"><rect fill=\"#FFFFFF\" height=\"40\" id=\"E8\" rx=\"10\" ry=\"10\" style=\"stroke: #383838; stroke-width: 1.5;\" width=\"50\" x=\"32\" y=\"85.5\"/><rect fill=\"#F8F8F8\" height=\"23.9688\" rx=\"10\" ry=\"10\" style=\"stroke: #F8F8F8; stroke-width: 1.5;\" width=\"50\" x=\"32\" y=\"85.5\"/><rect fill=\"#F8F8F8\" height=\"10\" style=\"stroke: #F8F8F8; stroke-width: 1.5;\" width=\"50\" x=\"32\" y=\"99.4688\"/><rect fill=\"none\" height=\"40\" id=\"E8\" rx=\"10\" ry=\"10\" style=\"stroke: #383838; stroke-width: 1.5;\" width=\"50\" x=\"32\" y=\"85.5\"/><text fill=\"#000000\" font-family=\"sans-serif\" font-size=\"12\" lengthAdjust=\"spacingAndGlyphs\" textLength=\"21\" x=\"46.5\" y=\"101.6387\">z: B</text></a></g><g id=\"E1.E9.E10\"><a href=\"psysml:d7dc5bce-b37d-4e4e-a49c-d44e6595ca7b\" target=\"_top\" title=\"psysml:d7dc5bce-b37d-4e4e-a49c-d44e6595ca7b\" xlink:actuate=\"onRequest\" xlink:href=\"psysml:d7dc5bce-b37d-4e4e-a49c-d44e6595ca7b\" xlink:show=\"new\" xlink:title=\"psysml:d7dc5bce-b37d-4e4e-a49c-d44e6595ca7b\" xlink:type=\"simple\"><rect fill=\"#FFFFFF\" height=\"40\" id=\"E10\" rx=\"10\" ry=\"10\" style=\"stroke: #383838; stroke-width: 1.5;\" width=\"50\" x=\"275\" y=\"85.5\"/><rect fill=\"#F8F8F8\" height=\"23.9688\" rx=\"10\" ry=\"10\" style=\"stroke: #F8F8F8; stroke-width: 1.5;\" width=\"50\" x=\"275\" y=\"85.5\"/><rect fill=\"#F8F8F8\" height=\"10\" style=\"stroke: #F8F8F8; stroke-width: 1.5;\" width=\"50\" x=\"275\" y=\"99.4688\"/><rect fill=\"none\" height=\"40\" id=\"E10\" rx=\"10\" ry=\"10\" style=\"stroke: #383838; stroke-width: 1.5;\" width=\"50\" x=\"275\" y=\"85.5\"/><text fill=\"#000000\" font-family=\"sans-serif\" font-size=\"12\" lengthAdjust=\"spacingAndGlyphs\" textLength=\"29\" x=\"285.5\" y=\"101.6387\">z1: A</text></a></g><!--MD5=[f21725a6bea627b2f95dfc5a9933bfaa]\n",
       "@startuml\r\n",
       "skinparam ranksep 10\r\n",
       "skinparam rectangle {\r\n",
       " backgroundColor<<block>> LightGreen\r\n",
       "}\r\n",
       " skinparam monochrome true\r\n",
       "skinparam classbackgroundcolor white\r\n",
       "skinparam shadowing false\r\n",
       "skinparam wrapWidth 300\r\n",
       "hide circle\r\n",
       "\r\n",
       "package \"PrivateImportTest\" as E1  [[psysml:2415ca44-1de1-4a98-b3f0-a39d5285a5bd ]]  {\r\n",
       "package \"P1\" as E2  [[psysml:426e250f-8977-4e89-b166-3835fc91b530 ]]  {\r\n",
       "rec def \"A\" as E3  <<(T,blue) part  def>> [[psysml:0a0c0374-c89d-44f1-8ff3-be2f7c1a5b8f ]] {\r\n",
       "}\r\n",
       "}\r\n",
       "package \"P2\" as E4  [[psysml:9b62d657-9794-4032-9fa2-9f176e634d4a ]]  {\r\n",
       "}\r\n",
       "rec usage \"x: A\" as E5  [[psysml:99b80f3a-0072-46fe-b843-b9a836066a51 ]] {\r\n",
       "}\r\n",
       "package \"P3\" as E6  [[psysml:fe85458f-8707-492f-a6ea-e7b6b29e5b91 ]]  {\r\n",
       "rec def \"B\" as E7  <<(T,blue) part  def>> [[psysml:af99adbc-0034-4f7c-9fbe-52493ca28392 ]] {\r\n",
       "}\r\n",
       "}\r\n",
       "rec usage \"z: B\" as E8  [[psysml:a38466df-faf8-4af5-a290-fb7428072c5f ]] {\r\n",
       "}\r\n",
       "package \"P4\" as E9  [[psysml:77a03853-3516-49bc-9a88-c5db4c10002c ]]  {\r\n",
       "rec usage \"z1: A\" as E10  [[psysml:d7dc5bce-b37d-4e4e-a49c-d44e6595ca7b ]] {\r\n",
       "}\r\n",
       "}\r\n",
       "}\r\n",
       "@enduml\r\n",
       "\n",
       "PlantUML version 1.2020.13(Sat Jun 13 12:26:38 UTC 2020)\n",
       "(EPL source distribution)\n",
       "Java Runtime: OpenJDK Runtime Environment\n",
       "JVM: OpenJDK 64-Bit Server VM\n",
       "Default Encoding: UTF-8\n",
       "Language: en\n",
       "Country: null\n",
       "--></g></svg>"
      ]
     },
     "execution_count": 5,
     "metadata": {},
     "output_type": "execute_result"
    }
   ],
   "source": [
    "%viz --style=\"COMPTREE\" --view=\"Interconnection\" \"PrivateImportTest\""
   ]
  },
  {
   "cell_type": "code",
   "execution_count": 6,
   "id": "f6771149",
   "metadata": {
    "execution": {
     "iopub.execute_input": "2021-10-25T08:22:20.245103Z",
     "iopub.status.busy": "2021-10-25T08:22:20.244699Z",
     "iopub.status.idle": "2021-10-25T08:22:20.253864Z",
     "shell.execute_reply": "2021-10-25T08:22:20.254177Z"
    }
   },
   "outputs": [
    {
     "data": {
      "image/svg+xml": [
       "<?xml version=\"1.0\" encoding=\"UTF-8\" standalone=\"no\"?><svg xmlns=\"http://www.w3.org/2000/svg\" xmlns:xlink=\"http://www.w3.org/1999/xlink\" contentScriptType=\"application/ecmascript\" contentStyleType=\"text/css\" height=\"12px\" preserveAspectRatio=\"none\" style=\"width:12px;height:12px;\" version=\"1.1\" viewBox=\"0 0 12 12\" width=\"12px\" zoomAndPan=\"magnify\"><defs/><g><!--MD5=[655b888544ca4751ea36af1068543f84]\n",
       "@startuml\r\n",
       "skinparam ranksep 8\r\n",
       " skinparam monochrome true\r\n",
       "skinparam classbackgroundcolor white\r\n",
       "skinparam shadowing false\r\n",
       "skinparam wrapWidth 300\r\n",
       "hide circle\r\n",
       "\r\n",
       "@enduml\r\n",
       "\n",
       "PlantUML version 1.2020.13(Sat Jun 13 12:26:38 UTC 2020)\n",
       "(EPL source distribution)\n",
       "Java Runtime: OpenJDK Runtime Environment\n",
       "JVM: OpenJDK 64-Bit Server VM\n",
       "Default Encoding: UTF-8\n",
       "Language: en\n",
       "Country: null\n",
       "--></g></svg>"
      ]
     },
     "execution_count": 6,
     "metadata": {},
     "output_type": "execute_result"
    }
   ],
   "source": [
    "%viz --style=\"COMPTREE\" --view=\"Action\" \"PrivateImportTest\""
   ]
  },
  {
   "cell_type": "code",
   "execution_count": 7,
   "id": "cbe29855",
   "metadata": {
    "execution": {
     "iopub.execute_input": "2021-10-25T08:22:20.304485Z",
     "iopub.status.busy": "2021-10-25T08:22:20.304012Z",
     "iopub.status.idle": "2021-10-25T08:22:20.319710Z",
     "shell.execute_reply": "2021-10-25T08:22:20.319240Z"
    }
   },
   "outputs": [
    {
     "data": {
      "image/svg+xml": [
       "<?xml version=\"1.0\" encoding=\"UTF-8\" standalone=\"no\"?><svg xmlns=\"http://www.w3.org/2000/svg\" xmlns:xlink=\"http://www.w3.org/1999/xlink\" contentScriptType=\"application/ecmascript\" contentStyleType=\"text/css\" height=\"12px\" preserveAspectRatio=\"none\" style=\"width:12px;height:12px;\" version=\"1.1\" viewBox=\"0 0 12 12\" width=\"12px\" zoomAndPan=\"magnify\"><defs/><g><!--MD5=[803fc46c337be7a5c8a9831e35356779]\n",
       "@startuml\r\n",
       "skinparam roundcorner 20\r\n",
       "skinparam BoxPadding 20\r\n",
       "skinparam SequenceBoxBackgroundColor #white\r\n",
       "skinparam style strictuml\r\n",
       "skinparam maxMessageSize 100\r\n",
       " skinparam monochrome true\r\n",
       "skinparam classbackgroundcolor white\r\n",
       "skinparam shadowing false\r\n",
       "skinparam wrapWidth 300\r\n",
       "hide circle\r\n",
       "\r\n",
       "@enduml\r\n",
       "\n",
       "PlantUML version 1.2020.13(Sat Jun 13 12:26:38 UTC 2020)\n",
       "(EPL source distribution)\n",
       "Java Runtime: OpenJDK Runtime Environment\n",
       "JVM: OpenJDK 64-Bit Server VM\n",
       "Default Encoding: UTF-8\n",
       "Language: en\n",
       "Country: null\n",
       "--></g></svg>"
      ]
     },
     "execution_count": 7,
     "metadata": {},
     "output_type": "execute_result"
    }
   ],
   "source": [
    "%viz --style=\"COMPTREE\" --view=\"Sequence\" \"PrivateImportTest\""
   ]
  },
  {
   "cell_type": "code",
   "execution_count": 8,
   "id": "c7e77bad",
   "metadata": {
    "execution": {
     "iopub.execute_input": "2021-10-25T08:22:20.369586Z",
     "iopub.status.busy": "2021-10-25T08:22:20.369033Z",
     "iopub.status.idle": "2021-10-25T08:22:20.428639Z",
     "shell.execute_reply": "2021-10-25T08:22:20.428242Z"
    }
   },
   "outputs": [
    {
     "data": {
      "image/svg+xml": [
       "<?xml version=\"1.0\" encoding=\"UTF-8\" standalone=\"no\"?><svg xmlns=\"http://www.w3.org/2000/svg\" xmlns:xlink=\"http://www.w3.org/1999/xlink\" contentScriptType=\"application/ecmascript\" contentStyleType=\"text/css\" height=\"303px\" preserveAspectRatio=\"none\" style=\"width:363px;height:303px;\" version=\"1.1\" viewBox=\"0 0 363 303\" width=\"363px\" zoomAndPan=\"magnify\"><defs/><g><!--MD5=[fbc87193dbaf4d95561dea2c320d4a47]\n",
       "cluster E1--><a href=\"psysml:2415ca44-1de1-4a98-b3f0-a39d5285a5bd\" target=\"_top\" title=\"psysml:2415ca44-1de1-4a98-b3f0-a39d5285a5bd\" xlink:actuate=\"onRequest\" xlink:href=\"psysml:2415ca44-1de1-4a98-b3f0-a39d5285a5bd\" xlink:show=\"new\" xlink:title=\"psysml:2415ca44-1de1-4a98-b3f0-a39d5285a5bd\" xlink:type=\"simple\"><polygon fill=\"#FFFFFF\" points=\"16,6,143,6,150,28.2969,341,28.2969,341,291,16,291,16,6\" style=\"stroke: #000000; stroke-width: 1.5;\"/><line style=\"stroke: #000000; stroke-width: 1.5;\" x1=\"16\" x2=\"150\" y1=\"28.2969\" y2=\"28.2969\"/><text fill=\"#000000\" font-family=\"sans-serif\" font-size=\"14\" font-weight=\"bold\" lengthAdjust=\"spacingAndGlyphs\" textLength=\"121\" x=\"20\" y=\"20.9951\">PrivateImportTest</text></a><!--MD5=[e4f7fae6ed58524ba242bb0b0d3be6b7]\n",
       "cluster E2--><a href=\"psysml:426e250f-8977-4e89-b166-3835fc91b530\" target=\"_top\" title=\"psysml:426e250f-8977-4e89-b166-3835fc91b530\" xlink:actuate=\"onRequest\" xlink:href=\"psysml:426e250f-8977-4e89-b166-3835fc91b530\" xlink:show=\"new\" xlink:title=\"psysml:426e250f-8977-4e89-b166-3835fc91b530\" xlink:type=\"simple\"><polygon fill=\"#FFFFFF\" points=\"208,170,232,170,239,192.2969,310,192.2969,310,267,208,267,208,170\" style=\"stroke: #000000; stroke-width: 1.5;\"/><line style=\"stroke: #000000; stroke-width: 1.5;\" x1=\"208\" x2=\"239\" y1=\"192.2969\" y2=\"192.2969\"/><text fill=\"#000000\" font-family=\"sans-serif\" font-size=\"14\" font-weight=\"bold\" lengthAdjust=\"spacingAndGlyphs\" textLength=\"18\" x=\"212\" y=\"184.9951\">P1</text></a><!--MD5=[14e3b0961a2654348d326746436168a1]\n",
       "cluster E6--><a href=\"psysml:fe85458f-8707-492f-a6ea-e7b6b29e5b91\" target=\"_top\" title=\"psysml:fe85458f-8707-492f-a6ea-e7b6b29e5b91\" xlink:actuate=\"onRequest\" xlink:href=\"psysml:fe85458f-8707-492f-a6ea-e7b6b29e5b91\" xlink:show=\"new\" xlink:title=\"psysml:fe85458f-8707-492f-a6ea-e7b6b29e5b91\" xlink:type=\"simple\"><polygon fill=\"#FFFFFF\" points=\"75,170,99,170,106,192.2969,177,192.2969,177,267,75,267,75,170\" style=\"stroke: #000000; stroke-width: 1.5;\"/><line style=\"stroke: #000000; stroke-width: 1.5;\" x1=\"75\" x2=\"106\" y1=\"192.2969\" y2=\"192.2969\"/><text fill=\"#000000\" font-family=\"sans-serif\" font-size=\"14\" font-weight=\"bold\" lengthAdjust=\"spacingAndGlyphs\" textLength=\"18\" x=\"79\" y=\"184.9951\">P3</text></a><!--MD5=[7f149f147074ac12df2cb0a7728a5fb0]\n",
       "cluster E9--><a href=\"psysml:77a03853-3516-49bc-9a88-c5db4c10002c\" target=\"_top\" title=\"psysml:77a03853-3516-49bc-9a88-c5db4c10002c\" xlink:actuate=\"onRequest\" xlink:href=\"psysml:77a03853-3516-49bc-9a88-c5db4c10002c\" xlink:show=\"new\" xlink:title=\"psysml:77a03853-3516-49bc-9a88-c5db4c10002c\" xlink:type=\"simple\"><polygon fill=\"#FFFFFF\" points=\"243,49,267,49,274,71.2969,317,71.2969,317,146,243,146,243,49\" style=\"stroke: #000000; stroke-width: 1.5;\"/><line style=\"stroke: #000000; stroke-width: 1.5;\" x1=\"243\" x2=\"274\" y1=\"71.2969\" y2=\"71.2969\"/><text fill=\"#000000\" font-family=\"sans-serif\" font-size=\"14\" font-weight=\"bold\" lengthAdjust=\"spacingAndGlyphs\" textLength=\"18\" x=\"247\" y=\"63.9951\">P4</text></a><!--MD5=[270fce915f116d4de14055a7c1d9a0f3]\n",
       "class E5--><a href=\"psysml:99b80f3a-0072-46fe-b843-b9a836066a51\" target=\"_top\" title=\"psysml:99b80f3a-0072-46fe-b843-b9a836066a51\" xlink:actuate=\"onRequest\" xlink:href=\"psysml:99b80f3a-0072-46fe-b843-b9a836066a51\" xlink:show=\"new\" xlink:title=\"psysml:99b80f3a-0072-46fe-b843-b9a836066a51\" xlink:type=\"simple\"><rect fill=\"#FFFFFF\" height=\"45.9375\" id=\"E5\" rx=\"10\" ry=\"10\" style=\"stroke: #383838; stroke-width: 1.5;\" width=\"42\" x=\"182\" y=\"84\"/><text fill=\"#000000\" font-family=\"sans-serif\" font-size=\"12\" font-style=\"italic\" lengthAdjust=\"spacingAndGlyphs\" textLength=\"40\" x=\"183\" y=\"100.1387\">«part»</text><text fill=\"#000000\" font-family=\"sans-serif\" font-size=\"12\" lengthAdjust=\"spacingAndGlyphs\" textLength=\"22\" x=\"190\" y=\"114.1074\">x: A</text><line style=\"stroke: #383838; stroke-width: 1.5;\" x1=\"183\" x2=\"223\" y1=\"121.9375\" y2=\"121.9375\"/></a><!--MD5=[b9389687b975829384b498ac4b7476b2]\n",
       "class E8--><a href=\"psysml:a38466df-faf8-4af5-a290-fb7428072c5f\" target=\"_top\" title=\"psysml:a38466df-faf8-4af5-a290-fb7428072c5f\" xlink:actuate=\"onRequest\" xlink:href=\"psysml:a38466df-faf8-4af5-a290-fb7428072c5f\" xlink:show=\"new\" xlink:title=\"psysml:a38466df-faf8-4af5-a290-fb7428072c5f\" xlink:type=\"simple\"><rect fill=\"#FFFFFF\" height=\"45.9375\" id=\"E8\" rx=\"10\" ry=\"10\" style=\"stroke: #383838; stroke-width: 1.5;\" width=\"42\" x=\"105\" y=\"84\"/><text fill=\"#000000\" font-family=\"sans-serif\" font-size=\"12\" font-style=\"italic\" lengthAdjust=\"spacingAndGlyphs\" textLength=\"40\" x=\"106\" y=\"100.1387\">«part»</text><text fill=\"#000000\" font-family=\"sans-serif\" font-size=\"12\" lengthAdjust=\"spacingAndGlyphs\" textLength=\"21\" x=\"113.5\" y=\"114.1074\">z: B</text><line style=\"stroke: #383838; stroke-width: 1.5;\" x1=\"106\" x2=\"146\" y1=\"121.9375\" y2=\"121.9375\"/></a><!--MD5=[09b614a08d8cba4a07c9adeb5e0fee81]\n",
       "class E3--><a href=\"psysml:0a0c0374-c89d-44f1-8ff3-be2f7c1a5b8f\" target=\"_top\" title=\"psysml:0a0c0374-c89d-44f1-8ff3-be2f7c1a5b8f\" xlink:actuate=\"onRequest\" xlink:href=\"psysml:0a0c0374-c89d-44f1-8ff3-be2f7c1a5b8f\" xlink:show=\"new\" xlink:title=\"psysml:0a0c0374-c89d-44f1-8ff3-be2f7c1a5b8f\" xlink:type=\"simple\"><rect fill=\"#FFFFFF\" height=\"45.9375\" id=\"E3\" style=\"stroke: #383838; stroke-width: 1.5;\" width=\"70\" x=\"224\" y=\"205\"/><text fill=\"#000000\" font-family=\"sans-serif\" font-size=\"12\" font-style=\"italic\" lengthAdjust=\"spacingAndGlyphs\" textLength=\"68\" x=\"225\" y=\"221.1387\">«part  def»</text><text fill=\"#000000\" font-family=\"sans-serif\" font-size=\"12\" lengthAdjust=\"spacingAndGlyphs\" textLength=\"8\" x=\"255\" y=\"235.1074\">A</text><line style=\"stroke: #383838; stroke-width: 1.5;\" x1=\"225\" x2=\"293\" y1=\"242.9375\" y2=\"242.9375\"/></a><a href=\"psysml:9b62d657-9794-4032-9fa2-9f176e634d4a\" target=\"_top\" title=\"psysml:9b62d657-9794-4032-9fa2-9f176e634d4a\" xlink:actuate=\"onRequest\" xlink:href=\"psysml:9b62d657-9794-4032-9fa2-9f176e634d4a\" xlink:show=\"new\" xlink:title=\"psysml:9b62d657-9794-4032-9fa2-9f176e634d4a\" xlink:type=\"simple\"><polygon fill=\"#FFFFFF\" points=\"32,80.5,56,80.5,63,102.7969,70,102.7969,70,133.0938,32,133.0938,32,80.5\" style=\"stroke: #000000; stroke-width: 1.5;\"/><line style=\"stroke: #000000; stroke-width: 1.5;\" x1=\"32\" x2=\"63\" y1=\"102.7969\" y2=\"102.7969\"/><text fill=\"#000000\" font-family=\"sans-serif\" font-size=\"14\" font-weight=\"bold\" lengthAdjust=\"spacingAndGlyphs\" textLength=\"18\" x=\"36\" y=\"95.4951\">P2</text></a><!--MD5=[2156ba9850f5573cc1fc38a6a4b2f02b]\n",
       "class E7--><a href=\"psysml:af99adbc-0034-4f7c-9fbe-52493ca28392\" target=\"_top\" title=\"psysml:af99adbc-0034-4f7c-9fbe-52493ca28392\" xlink:actuate=\"onRequest\" xlink:href=\"psysml:af99adbc-0034-4f7c-9fbe-52493ca28392\" xlink:show=\"new\" xlink:title=\"psysml:af99adbc-0034-4f7c-9fbe-52493ca28392\" xlink:type=\"simple\"><rect fill=\"#FFFFFF\" height=\"45.9375\" id=\"E7\" style=\"stroke: #383838; stroke-width: 1.5;\" width=\"70\" x=\"91\" y=\"205\"/><text fill=\"#000000\" font-family=\"sans-serif\" font-size=\"12\" font-style=\"italic\" lengthAdjust=\"spacingAndGlyphs\" textLength=\"68\" x=\"92\" y=\"221.1387\">«part  def»</text><text fill=\"#000000\" font-family=\"sans-serif\" font-size=\"12\" lengthAdjust=\"spacingAndGlyphs\" textLength=\"8\" x=\"122\" y=\"235.1074\">B</text><line style=\"stroke: #383838; stroke-width: 1.5;\" x1=\"92\" x2=\"160\" y1=\"242.9375\" y2=\"242.9375\"/></a><!--MD5=[96f4274e9e20536e775497830990834d]\n",
       "class E10--><a href=\"psysml:d7dc5bce-b37d-4e4e-a49c-d44e6595ca7b\" target=\"_top\" title=\"psysml:d7dc5bce-b37d-4e4e-a49c-d44e6595ca7b\" xlink:actuate=\"onRequest\" xlink:href=\"psysml:d7dc5bce-b37d-4e4e-a49c-d44e6595ca7b\" xlink:show=\"new\" xlink:title=\"psysml:d7dc5bce-b37d-4e4e-a49c-d44e6595ca7b\" xlink:type=\"simple\"><rect fill=\"#FFFFFF\" height=\"45.9375\" id=\"E10\" rx=\"10\" ry=\"10\" style=\"stroke: #383838; stroke-width: 1.5;\" width=\"42\" x=\"259\" y=\"84\"/><text fill=\"#000000\" font-family=\"sans-serif\" font-size=\"12\" font-style=\"italic\" lengthAdjust=\"spacingAndGlyphs\" textLength=\"40\" x=\"260\" y=\"100.1387\">«part»</text><text fill=\"#000000\" font-family=\"sans-serif\" font-size=\"12\" lengthAdjust=\"spacingAndGlyphs\" textLength=\"29\" x=\"263.5\" y=\"114.1074\">z1: A</text><line style=\"stroke: #383838; stroke-width: 1.5;\" x1=\"260\" x2=\"300\" y1=\"121.9375\" y2=\"121.9375\"/></a><!--MD5=[e9be52314489bd878ff4c7144b63c9e1]\n",
       "link E5 to E3--><a href=\"psysml:2e6435ee-ec1e-47e4-8fad-fb77072556f4\" target=\"_top\" title=\"psysml:2e6435ee-ec1e-47e4-8fad-fb77072556f4\" xlink:actuate=\"onRequest\" xlink:href=\"psysml:2e6435ee-ec1e-47e4-8fad-fb77072556f4\" xlink:show=\"new\" xlink:title=\"psysml:2e6435ee-ec1e-47e4-8fad-fb77072556f4\" xlink:type=\"simple\"><path d=\"M213.4,130.1 C220.82,145.87 231.01,167.52 239.88,186.36 \" fill=\"none\" id=\"E5-&gt;E3\" style=\"stroke: #383838; stroke-width: 1.0;\"/><polygon fill=\"#FFFFFF\" points=\"248.46,204.61,234.0383,190.3968,246.7067,184.4376,248.46,204.61\" style=\"stroke: #383838; stroke-width: 1.0;\"/><ellipse cx=\"233.4218\" cy=\"184.3877\" fill=\"#383838\" rx=\"2\" ry=\"2\" style=\"stroke: #383838; stroke-width: 1.0;\"/><ellipse cx=\"242.4706\" cy=\"180.1311\" fill=\"#383838\" rx=\"2\" ry=\"2\" style=\"stroke: #383838; stroke-width: 1.0;\"/></a><!--MD5=[bfa3c8b0d15052fdf50ae9310b491027]\n",
       "link E8 to E7--><a href=\"psysml:f11bc7c0-c938-426a-87a4-76c9b47cac7e\" target=\"_top\" title=\"psysml:f11bc7c0-c938-426a-87a4-76c9b47cac7e\" xlink:actuate=\"onRequest\" xlink:href=\"psysml:f11bc7c0-c938-426a-87a4-76c9b47cac7e\" xlink:show=\"new\" xlink:title=\"psysml:f11bc7c0-c938-426a-87a4-76c9b47cac7e\" xlink:type=\"simple\"><path d=\"M126,130.1 C126,145.37 126,166.16 126,184.57 \" fill=\"none\" id=\"E8-&gt;E7\" style=\"stroke: #383838; stroke-width: 1.0;\"/><polygon fill=\"#FFFFFF\" points=\"126,204.61,119,185.61,133,185.61,126,204.61\" style=\"stroke: #383838; stroke-width: 1.0;\"/><ellipse cx=\"121\" cy=\"179.91\" fill=\"#383838\" rx=\"2\" ry=\"2\" style=\"stroke: #383838; stroke-width: 1.0;\"/><ellipse cx=\"131\" cy=\"179.91\" fill=\"#383838\" rx=\"2\" ry=\"2\" style=\"stroke: #383838; stroke-width: 1.0;\"/></a><!--MD5=[feeac5eb423634930294aa81f2d25a4c]\n",
       "link E10 to E3--><a href=\"psysml:21a673ac-f9f6-428c-a165-60ea4300f397\" target=\"_top\" title=\"psysml:21a673ac-f9f6-428c-a165-60ea4300f397\" xlink:actuate=\"onRequest\" xlink:href=\"psysml:21a673ac-f9f6-428c-a165-60ea4300f397\" xlink:show=\"new\" xlink:title=\"psysml:21a673ac-f9f6-428c-a165-60ea4300f397\" xlink:type=\"simple\"><path d=\"M276.1,130.1 C273.39,145.45 269.7,166.39 266.44,184.87 \" fill=\"none\" id=\"E10-&gt;E3\" style=\"stroke: #383838; stroke-width: 1.0;\"/><polygon fill=\"#FFFFFF\" points=\"262.95,204.61,259.3535,184.6835,273.1411,187.1131,262.95,204.61\" style=\"stroke: #383838; stroke-width: 1.0;\"/><ellipse cx=\"262.3123\" cy=\"179.4171\" fill=\"#383838\" rx=\"2\" ry=\"2\" style=\"stroke: #383838; stroke-width: 1.0;\"/><ellipse cx=\"272.1606\" cy=\"181.1525\" fill=\"#383838\" rx=\"2\" ry=\"2\" style=\"stroke: #383838; stroke-width: 1.0;\"/></a><!--MD5=[618e74905bc401a20d87733b07cb2850]\n",
       "@startuml\r\n",
       " skinparam monochrome true\r\n",
       "skinparam classbackgroundcolor white\r\n",
       "skinparam shadowing false\r\n",
       "skinparam wrapWidth 300\r\n",
       "hide circle\r\n",
       "\r\n",
       "package \"PrivateImportTest\" as E1  [[psysml:2415ca44-1de1-4a98-b3f0-a39d5285a5bd ]]  {\r\n",
       "package \"P1\" as E2  [[psysml:426e250f-8977-4e89-b166-3835fc91b530 ]]  {\r\n",
       "comp def \"A\" as E3  <<(T,blue) part  def>> [[psysml:0a0c0374-c89d-44f1-8ff3-be2f7c1a5b8f ]] {\r\n",
       "}\r\n",
       "}\r\n",
       "package \"P2\" as E4  [[psysml:9b62d657-9794-4032-9fa2-9f176e634d4a ]]  {\r\n",
       "}\r\n",
       "comp usage \"x: A \" as E5  <<(T,blue) part>> [[psysml:99b80f3a-0072-46fe-b843-b9a836066a51 ]] {\r\n",
       "}\r\n",
       "package \"P3\" as E6  [[psysml:fe85458f-8707-492f-a6ea-e7b6b29e5b91 ]]  {\r\n",
       "comp def \"B\" as E7  <<(T,blue) part  def>> [[psysml:af99adbc-0034-4f7c-9fbe-52493ca28392 ]] {\r\n",
       "}\r\n",
       "}\r\n",
       "comp usage \"z: B \" as E8  <<(T,blue) part>> [[psysml:a38466df-faf8-4af5-a290-fb7428072c5f ]] {\r\n",
       "}\r\n",
       "package \"P4\" as E9  [[psysml:77a03853-3516-49bc-9a88-c5db4c10002c ]]  {\r\n",
       "comp usage \"z1: A \" as E10  <<(T,blue) part>> [[psysml:d7dc5bce-b37d-4e4e-a49c-d44e6595ca7b ]] {\r\n",
       "}\r\n",
       "}\r\n",
       "}\r\n",
       "E5 - -:|> E3 [[psysml:2e6435ee-ec1e-47e4-8fad-fb77072556f4 ]] \r\n",
       "E8 - -:|> E7 [[psysml:f11bc7c0-c938-426a-87a4-76c9b47cac7e ]] \r\n",
       "E10 - -:|> E3 [[psysml:21a673ac-f9f6-428c-a165-60ea4300f397 ]] \r\n",
       "@enduml\r\n",
       "\n",
       "PlantUML version 1.2020.13(Sat Jun 13 12:26:38 UTC 2020)\n",
       "(EPL source distribution)\n",
       "Java Runtime: OpenJDK Runtime Environment\n",
       "JVM: OpenJDK 64-Bit Server VM\n",
       "Default Encoding: UTF-8\n",
       "Language: en\n",
       "Country: null\n",
       "--></g></svg>"
      ]
     },
     "execution_count": 8,
     "metadata": {},
     "output_type": "execute_result"
    }
   ],
   "source": [
    "%viz --style=\"COMPTREE\" --view=\"MIXED\" \"PrivateImportTest\""
   ]
  },
  {
   "cell_type": "code",
   "execution_count": 9,
   "id": "9a707ff6",
   "metadata": {
    "execution": {
     "iopub.execute_input": "2021-10-25T08:22:20.478775Z",
     "iopub.status.busy": "2021-10-25T08:22:20.478318Z",
     "iopub.status.idle": "2021-10-25T08:22:20.538964Z",
     "shell.execute_reply": "2021-10-25T08:22:20.537424Z"
    }
   },
   "outputs": [
    {
     "data": {
      "image/svg+xml": [
       "<?xml version=\"1.0\" encoding=\"UTF-8\" standalone=\"no\"?><svg xmlns=\"http://www.w3.org/2000/svg\" xmlns:xlink=\"http://www.w3.org/1999/xlink\" contentScriptType=\"application/ecmascript\" contentStyleType=\"text/css\" height=\"303px\" preserveAspectRatio=\"none\" style=\"width:363px;height:303px;\" version=\"1.1\" viewBox=\"0 0 363 303\" width=\"363px\" zoomAndPan=\"magnify\"><defs/><g><!--MD5=[fbc87193dbaf4d95561dea2c320d4a47]\n",
       "cluster E1--><a href=\"psysml:2415ca44-1de1-4a98-b3f0-a39d5285a5bd\" target=\"_top\" title=\"psysml:2415ca44-1de1-4a98-b3f0-a39d5285a5bd\" xlink:actuate=\"onRequest\" xlink:href=\"psysml:2415ca44-1de1-4a98-b3f0-a39d5285a5bd\" xlink:show=\"new\" xlink:title=\"psysml:2415ca44-1de1-4a98-b3f0-a39d5285a5bd\" xlink:type=\"simple\"><polygon fill=\"#FFFFFF\" points=\"16,6,143,6,150,28.2969,341,28.2969,341,291,16,291,16,6\" style=\"stroke: #000000; stroke-width: 1.5;\"/><line style=\"stroke: #000000; stroke-width: 1.5;\" x1=\"16\" x2=\"150\" y1=\"28.2969\" y2=\"28.2969\"/><text fill=\"#000000\" font-family=\"sans-serif\" font-size=\"14\" font-weight=\"bold\" lengthAdjust=\"spacingAndGlyphs\" textLength=\"121\" x=\"20\" y=\"20.9951\">PrivateImportTest</text></a><!--MD5=[e4f7fae6ed58524ba242bb0b0d3be6b7]\n",
       "cluster E2--><a href=\"psysml:426e250f-8977-4e89-b166-3835fc91b530\" target=\"_top\" title=\"psysml:426e250f-8977-4e89-b166-3835fc91b530\" xlink:actuate=\"onRequest\" xlink:href=\"psysml:426e250f-8977-4e89-b166-3835fc91b530\" xlink:show=\"new\" xlink:title=\"psysml:426e250f-8977-4e89-b166-3835fc91b530\" xlink:type=\"simple\"><polygon fill=\"#FFFFFF\" points=\"208,170,232,170,239,192.2969,310,192.2969,310,267,208,267,208,170\" style=\"stroke: #000000; stroke-width: 1.5;\"/><line style=\"stroke: #000000; stroke-width: 1.5;\" x1=\"208\" x2=\"239\" y1=\"192.2969\" y2=\"192.2969\"/><text fill=\"#000000\" font-family=\"sans-serif\" font-size=\"14\" font-weight=\"bold\" lengthAdjust=\"spacingAndGlyphs\" textLength=\"18\" x=\"212\" y=\"184.9951\">P1</text></a><!--MD5=[14e3b0961a2654348d326746436168a1]\n",
       "cluster E6--><a href=\"psysml:fe85458f-8707-492f-a6ea-e7b6b29e5b91\" target=\"_top\" title=\"psysml:fe85458f-8707-492f-a6ea-e7b6b29e5b91\" xlink:actuate=\"onRequest\" xlink:href=\"psysml:fe85458f-8707-492f-a6ea-e7b6b29e5b91\" xlink:show=\"new\" xlink:title=\"psysml:fe85458f-8707-492f-a6ea-e7b6b29e5b91\" xlink:type=\"simple\"><polygon fill=\"#FFFFFF\" points=\"75,170,99,170,106,192.2969,177,192.2969,177,267,75,267,75,170\" style=\"stroke: #000000; stroke-width: 1.5;\"/><line style=\"stroke: #000000; stroke-width: 1.5;\" x1=\"75\" x2=\"106\" y1=\"192.2969\" y2=\"192.2969\"/><text fill=\"#000000\" font-family=\"sans-serif\" font-size=\"14\" font-weight=\"bold\" lengthAdjust=\"spacingAndGlyphs\" textLength=\"18\" x=\"79\" y=\"184.9951\">P3</text></a><!--MD5=[7f149f147074ac12df2cb0a7728a5fb0]\n",
       "cluster E9--><a href=\"psysml:77a03853-3516-49bc-9a88-c5db4c10002c\" target=\"_top\" title=\"psysml:77a03853-3516-49bc-9a88-c5db4c10002c\" xlink:actuate=\"onRequest\" xlink:href=\"psysml:77a03853-3516-49bc-9a88-c5db4c10002c\" xlink:show=\"new\" xlink:title=\"psysml:77a03853-3516-49bc-9a88-c5db4c10002c\" xlink:type=\"simple\"><polygon fill=\"#FFFFFF\" points=\"243,49,267,49,274,71.2969,317,71.2969,317,146,243,146,243,49\" style=\"stroke: #000000; stroke-width: 1.5;\"/><line style=\"stroke: #000000; stroke-width: 1.5;\" x1=\"243\" x2=\"274\" y1=\"71.2969\" y2=\"71.2969\"/><text fill=\"#000000\" font-family=\"sans-serif\" font-size=\"14\" font-weight=\"bold\" lengthAdjust=\"spacingAndGlyphs\" textLength=\"18\" x=\"247\" y=\"63.9951\">P4</text></a><!--MD5=[270fce915f116d4de14055a7c1d9a0f3]\n",
       "class E5--><a href=\"psysml:99b80f3a-0072-46fe-b843-b9a836066a51\" target=\"_top\" title=\"psysml:99b80f3a-0072-46fe-b843-b9a836066a51\" xlink:actuate=\"onRequest\" xlink:href=\"psysml:99b80f3a-0072-46fe-b843-b9a836066a51\" xlink:show=\"new\" xlink:title=\"psysml:99b80f3a-0072-46fe-b843-b9a836066a51\" xlink:type=\"simple\"><rect fill=\"#FFFFFF\" height=\"45.9375\" id=\"E5\" rx=\"10\" ry=\"10\" style=\"stroke: #383838; stroke-width: 1.5;\" width=\"42\" x=\"182\" y=\"84\"/><text fill=\"#000000\" font-family=\"sans-serif\" font-size=\"12\" font-style=\"italic\" lengthAdjust=\"spacingAndGlyphs\" textLength=\"40\" x=\"183\" y=\"100.1387\">«part»</text><text fill=\"#000000\" font-family=\"sans-serif\" font-size=\"12\" lengthAdjust=\"spacingAndGlyphs\" textLength=\"22\" x=\"190\" y=\"114.1074\">x: A</text><line style=\"stroke: #383838; stroke-width: 1.5;\" x1=\"183\" x2=\"223\" y1=\"121.9375\" y2=\"121.9375\"/></a><!--MD5=[b9389687b975829384b498ac4b7476b2]\n",
       "class E8--><a href=\"psysml:a38466df-faf8-4af5-a290-fb7428072c5f\" target=\"_top\" title=\"psysml:a38466df-faf8-4af5-a290-fb7428072c5f\" xlink:actuate=\"onRequest\" xlink:href=\"psysml:a38466df-faf8-4af5-a290-fb7428072c5f\" xlink:show=\"new\" xlink:title=\"psysml:a38466df-faf8-4af5-a290-fb7428072c5f\" xlink:type=\"simple\"><rect fill=\"#FFFFFF\" height=\"45.9375\" id=\"E8\" rx=\"10\" ry=\"10\" style=\"stroke: #383838; stroke-width: 1.5;\" width=\"42\" x=\"105\" y=\"84\"/><text fill=\"#000000\" font-family=\"sans-serif\" font-size=\"12\" font-style=\"italic\" lengthAdjust=\"spacingAndGlyphs\" textLength=\"40\" x=\"106\" y=\"100.1387\">«part»</text><text fill=\"#000000\" font-family=\"sans-serif\" font-size=\"12\" lengthAdjust=\"spacingAndGlyphs\" textLength=\"21\" x=\"113.5\" y=\"114.1074\">z: B</text><line style=\"stroke: #383838; stroke-width: 1.5;\" x1=\"106\" x2=\"146\" y1=\"121.9375\" y2=\"121.9375\"/></a><!--MD5=[09b614a08d8cba4a07c9adeb5e0fee81]\n",
       "class E3--><a href=\"psysml:0a0c0374-c89d-44f1-8ff3-be2f7c1a5b8f\" target=\"_top\" title=\"psysml:0a0c0374-c89d-44f1-8ff3-be2f7c1a5b8f\" xlink:actuate=\"onRequest\" xlink:href=\"psysml:0a0c0374-c89d-44f1-8ff3-be2f7c1a5b8f\" xlink:show=\"new\" xlink:title=\"psysml:0a0c0374-c89d-44f1-8ff3-be2f7c1a5b8f\" xlink:type=\"simple\"><rect fill=\"#FFFFFF\" height=\"45.9375\" id=\"E3\" style=\"stroke: #383838; stroke-width: 1.5;\" width=\"70\" x=\"224\" y=\"205\"/><text fill=\"#000000\" font-family=\"sans-serif\" font-size=\"12\" font-style=\"italic\" lengthAdjust=\"spacingAndGlyphs\" textLength=\"68\" x=\"225\" y=\"221.1387\">«part  def»</text><text fill=\"#000000\" font-family=\"sans-serif\" font-size=\"12\" lengthAdjust=\"spacingAndGlyphs\" textLength=\"8\" x=\"255\" y=\"235.1074\">A</text><line style=\"stroke: #383838; stroke-width: 1.5;\" x1=\"225\" x2=\"293\" y1=\"242.9375\" y2=\"242.9375\"/></a><a href=\"psysml:9b62d657-9794-4032-9fa2-9f176e634d4a\" target=\"_top\" title=\"psysml:9b62d657-9794-4032-9fa2-9f176e634d4a\" xlink:actuate=\"onRequest\" xlink:href=\"psysml:9b62d657-9794-4032-9fa2-9f176e634d4a\" xlink:show=\"new\" xlink:title=\"psysml:9b62d657-9794-4032-9fa2-9f176e634d4a\" xlink:type=\"simple\"><polygon fill=\"#FFFFFF\" points=\"32,80.5,56,80.5,63,102.7969,70,102.7969,70,133.0938,32,133.0938,32,80.5\" style=\"stroke: #000000; stroke-width: 1.5;\"/><line style=\"stroke: #000000; stroke-width: 1.5;\" x1=\"32\" x2=\"63\" y1=\"102.7969\" y2=\"102.7969\"/><text fill=\"#000000\" font-family=\"sans-serif\" font-size=\"14\" font-weight=\"bold\" lengthAdjust=\"spacingAndGlyphs\" textLength=\"18\" x=\"36\" y=\"95.4951\">P2</text></a><!--MD5=[2156ba9850f5573cc1fc38a6a4b2f02b]\n",
       "class E7--><a href=\"psysml:af99adbc-0034-4f7c-9fbe-52493ca28392\" target=\"_top\" title=\"psysml:af99adbc-0034-4f7c-9fbe-52493ca28392\" xlink:actuate=\"onRequest\" xlink:href=\"psysml:af99adbc-0034-4f7c-9fbe-52493ca28392\" xlink:show=\"new\" xlink:title=\"psysml:af99adbc-0034-4f7c-9fbe-52493ca28392\" xlink:type=\"simple\"><rect fill=\"#FFFFFF\" height=\"45.9375\" id=\"E7\" style=\"stroke: #383838; stroke-width: 1.5;\" width=\"70\" x=\"91\" y=\"205\"/><text fill=\"#000000\" font-family=\"sans-serif\" font-size=\"12\" font-style=\"italic\" lengthAdjust=\"spacingAndGlyphs\" textLength=\"68\" x=\"92\" y=\"221.1387\">«part  def»</text><text fill=\"#000000\" font-family=\"sans-serif\" font-size=\"12\" lengthAdjust=\"spacingAndGlyphs\" textLength=\"8\" x=\"122\" y=\"235.1074\">B</text><line style=\"stroke: #383838; stroke-width: 1.5;\" x1=\"92\" x2=\"160\" y1=\"242.9375\" y2=\"242.9375\"/></a><!--MD5=[96f4274e9e20536e775497830990834d]\n",
       "class E10--><a href=\"psysml:d7dc5bce-b37d-4e4e-a49c-d44e6595ca7b\" target=\"_top\" title=\"psysml:d7dc5bce-b37d-4e4e-a49c-d44e6595ca7b\" xlink:actuate=\"onRequest\" xlink:href=\"psysml:d7dc5bce-b37d-4e4e-a49c-d44e6595ca7b\" xlink:show=\"new\" xlink:title=\"psysml:d7dc5bce-b37d-4e4e-a49c-d44e6595ca7b\" xlink:type=\"simple\"><rect fill=\"#FFFFFF\" height=\"45.9375\" id=\"E10\" rx=\"10\" ry=\"10\" style=\"stroke: #383838; stroke-width: 1.5;\" width=\"42\" x=\"259\" y=\"84\"/><text fill=\"#000000\" font-family=\"sans-serif\" font-size=\"12\" font-style=\"italic\" lengthAdjust=\"spacingAndGlyphs\" textLength=\"40\" x=\"260\" y=\"100.1387\">«part»</text><text fill=\"#000000\" font-family=\"sans-serif\" font-size=\"12\" lengthAdjust=\"spacingAndGlyphs\" textLength=\"29\" x=\"263.5\" y=\"114.1074\">z1: A</text><line style=\"stroke: #383838; stroke-width: 1.5;\" x1=\"260\" x2=\"300\" y1=\"121.9375\" y2=\"121.9375\"/></a><!--MD5=[e9be52314489bd878ff4c7144b63c9e1]\n",
       "link E5 to E3--><a href=\"psysml:2e6435ee-ec1e-47e4-8fad-fb77072556f4\" target=\"_top\" title=\"psysml:2e6435ee-ec1e-47e4-8fad-fb77072556f4\" xlink:actuate=\"onRequest\" xlink:href=\"psysml:2e6435ee-ec1e-47e4-8fad-fb77072556f4\" xlink:show=\"new\" xlink:title=\"psysml:2e6435ee-ec1e-47e4-8fad-fb77072556f4\" xlink:type=\"simple\"><path d=\"M213.4,130.1 C220.82,145.87 231.01,167.52 239.88,186.36 \" fill=\"none\" id=\"E5-&gt;E3\" style=\"stroke: #383838; stroke-width: 1.0;\"/><polygon fill=\"#FFFFFF\" points=\"248.46,204.61,234.0383,190.3968,246.7067,184.4376,248.46,204.61\" style=\"stroke: #383838; stroke-width: 1.0;\"/><ellipse cx=\"233.4218\" cy=\"184.3877\" fill=\"#383838\" rx=\"2\" ry=\"2\" style=\"stroke: #383838; stroke-width: 1.0;\"/><ellipse cx=\"242.4706\" cy=\"180.1311\" fill=\"#383838\" rx=\"2\" ry=\"2\" style=\"stroke: #383838; stroke-width: 1.0;\"/></a><!--MD5=[bfa3c8b0d15052fdf50ae9310b491027]\n",
       "link E8 to E7--><a href=\"psysml:f11bc7c0-c938-426a-87a4-76c9b47cac7e\" target=\"_top\" title=\"psysml:f11bc7c0-c938-426a-87a4-76c9b47cac7e\" xlink:actuate=\"onRequest\" xlink:href=\"psysml:f11bc7c0-c938-426a-87a4-76c9b47cac7e\" xlink:show=\"new\" xlink:title=\"psysml:f11bc7c0-c938-426a-87a4-76c9b47cac7e\" xlink:type=\"simple\"><path d=\"M126,130.1 C126,145.37 126,166.16 126,184.57 \" fill=\"none\" id=\"E8-&gt;E7\" style=\"stroke: #383838; stroke-width: 1.0;\"/><polygon fill=\"#FFFFFF\" points=\"126,204.61,119,185.61,133,185.61,126,204.61\" style=\"stroke: #383838; stroke-width: 1.0;\"/><ellipse cx=\"121\" cy=\"179.91\" fill=\"#383838\" rx=\"2\" ry=\"2\" style=\"stroke: #383838; stroke-width: 1.0;\"/><ellipse cx=\"131\" cy=\"179.91\" fill=\"#383838\" rx=\"2\" ry=\"2\" style=\"stroke: #383838; stroke-width: 1.0;\"/></a><!--MD5=[feeac5eb423634930294aa81f2d25a4c]\n",
       "link E10 to E3--><a href=\"psysml:21a673ac-f9f6-428c-a165-60ea4300f397\" target=\"_top\" title=\"psysml:21a673ac-f9f6-428c-a165-60ea4300f397\" xlink:actuate=\"onRequest\" xlink:href=\"psysml:21a673ac-f9f6-428c-a165-60ea4300f397\" xlink:show=\"new\" xlink:title=\"psysml:21a673ac-f9f6-428c-a165-60ea4300f397\" xlink:type=\"simple\"><path d=\"M276.1,130.1 C273.39,145.45 269.7,166.39 266.44,184.87 \" fill=\"none\" id=\"E10-&gt;E3\" style=\"stroke: #383838; stroke-width: 1.0;\"/><polygon fill=\"#FFFFFF\" points=\"262.95,204.61,259.3535,184.6835,273.1411,187.1131,262.95,204.61\" style=\"stroke: #383838; stroke-width: 1.0;\"/><ellipse cx=\"262.3123\" cy=\"179.4171\" fill=\"#383838\" rx=\"2\" ry=\"2\" style=\"stroke: #383838; stroke-width: 1.0;\"/><ellipse cx=\"272.1606\" cy=\"181.1525\" fill=\"#383838\" rx=\"2\" ry=\"2\" style=\"stroke: #383838; stroke-width: 1.0;\"/></a><!--MD5=[ae72928886cc98434e4981fd85699e34]\n",
       "@startuml\r\n",
       "skinparam linetype polyline\r\n",
       "skinparam monochrome true\r\n",
       "skinparam classbackgroundcolor white\r\n",
       "skinparam shadowing false\r\n",
       "skinparam wrapWidth 300\r\n",
       "hide circle\r\n",
       "\r\n",
       "package \"PrivateImportTest\" as E1  [[psysml:2415ca44-1de1-4a98-b3f0-a39d5285a5bd ]]  {\r\n",
       "package \"P1\" as E2  [[psysml:426e250f-8977-4e89-b166-3835fc91b530 ]]  {\r\n",
       "comp def \"A\" as E3  <<(T,blue) part  def>> [[psysml:0a0c0374-c89d-44f1-8ff3-be2f7c1a5b8f ]] {\r\n",
       "}\r\n",
       "}\r\n",
       "package \"P2\" as E4  [[psysml:9b62d657-9794-4032-9fa2-9f176e634d4a ]]  {\r\n",
       "}\r\n",
       "comp usage \"x: A \" as E5  <<(T,blue) part>> [[psysml:99b80f3a-0072-46fe-b843-b9a836066a51 ]] {\r\n",
       "}\r\n",
       "package \"P3\" as E6  [[psysml:fe85458f-8707-492f-a6ea-e7b6b29e5b91 ]]  {\r\n",
       "comp def \"B\" as E7  <<(T,blue) part  def>> [[psysml:af99adbc-0034-4f7c-9fbe-52493ca28392 ]] {\r\n",
       "}\r\n",
       "}\r\n",
       "comp usage \"z: B \" as E8  <<(T,blue) part>> [[psysml:a38466df-faf8-4af5-a290-fb7428072c5f ]] {\r\n",
       "}\r\n",
       "package \"P4\" as E9  [[psysml:77a03853-3516-49bc-9a88-c5db4c10002c ]]  {\r\n",
       "comp usage \"z1: A \" as E10  <<(T,blue) part>> [[psysml:d7dc5bce-b37d-4e4e-a49c-d44e6595ca7b ]] {\r\n",
       "}\r\n",
       "}\r\n",
       "}\r\n",
       "E5 - -:|> E3 [[psysml:2e6435ee-ec1e-47e4-8fad-fb77072556f4 ]] \r\n",
       "E8 - -:|> E7 [[psysml:f11bc7c0-c938-426a-87a4-76c9b47cac7e ]] \r\n",
       "E10 - -:|> E3 [[psysml:21a673ac-f9f6-428c-a165-60ea4300f397 ]] \r\n",
       "@enduml\r\n",
       "\n",
       "PlantUML version 1.2020.13(Sat Jun 13 12:26:38 UTC 2020)\n",
       "(EPL source distribution)\n",
       "Java Runtime: OpenJDK Runtime Environment\n",
       "JVM: OpenJDK 64-Bit Server VM\n",
       "Default Encoding: UTF-8\n",
       "Language: en\n",
       "Country: null\n",
       "--></g></svg>"
      ]
     },
     "execution_count": 9,
     "metadata": {},
     "output_type": "execute_result"
    }
   ],
   "source": [
    "%viz --style=\"POLYLINE\" --view=\"Default\" \"PrivateImportTest\""
   ]
  },
  {
   "cell_type": "code",
   "execution_count": 10,
   "id": "2af14f75",
   "metadata": {
    "execution": {
     "iopub.execute_input": "2021-10-25T08:22:20.589675Z",
     "iopub.status.busy": "2021-10-25T08:22:20.589371Z",
     "iopub.status.idle": "2021-10-25T08:22:20.625555Z",
     "shell.execute_reply": "2021-10-25T08:22:20.625340Z"
    }
   },
   "outputs": [
    {
     "data": {
      "image/svg+xml": [
       "<?xml version=\"1.0\" encoding=\"UTF-8\" standalone=\"no\"?><svg xmlns=\"http://www.w3.org/2000/svg\" xmlns:xlink=\"http://www.w3.org/1999/xlink\" contentScriptType=\"application/ecmascript\" contentStyleType=\"text/css\" height=\"303px\" preserveAspectRatio=\"none\" style=\"width:363px;height:303px;\" version=\"1.1\" viewBox=\"0 0 363 303\" width=\"363px\" zoomAndPan=\"magnify\"><defs/><g><!--MD5=[fbc87193dbaf4d95561dea2c320d4a47]\n",
       "cluster E1--><a href=\"psysml:2415ca44-1de1-4a98-b3f0-a39d5285a5bd\" target=\"_top\" title=\"psysml:2415ca44-1de1-4a98-b3f0-a39d5285a5bd\" xlink:actuate=\"onRequest\" xlink:href=\"psysml:2415ca44-1de1-4a98-b3f0-a39d5285a5bd\" xlink:show=\"new\" xlink:title=\"psysml:2415ca44-1de1-4a98-b3f0-a39d5285a5bd\" xlink:type=\"simple\"><polygon fill=\"#FFFFFF\" points=\"16,6,143,6,150,28.2969,341,28.2969,341,291,16,291,16,6\" style=\"stroke: #000000; stroke-width: 1.5;\"/><line style=\"stroke: #000000; stroke-width: 1.5;\" x1=\"16\" x2=\"150\" y1=\"28.2969\" y2=\"28.2969\"/><text fill=\"#000000\" font-family=\"sans-serif\" font-size=\"14\" font-weight=\"bold\" lengthAdjust=\"spacingAndGlyphs\" textLength=\"121\" x=\"20\" y=\"20.9951\">PrivateImportTest</text></a><!--MD5=[e4f7fae6ed58524ba242bb0b0d3be6b7]\n",
       "cluster E2--><a href=\"psysml:426e250f-8977-4e89-b166-3835fc91b530\" target=\"_top\" title=\"psysml:426e250f-8977-4e89-b166-3835fc91b530\" xlink:actuate=\"onRequest\" xlink:href=\"psysml:426e250f-8977-4e89-b166-3835fc91b530\" xlink:show=\"new\" xlink:title=\"psysml:426e250f-8977-4e89-b166-3835fc91b530\" xlink:type=\"simple\"><polygon fill=\"#FFFFFF\" points=\"208,170,232,170,239,192.2969,310,192.2969,310,267,208,267,208,170\" style=\"stroke: #000000; stroke-width: 1.5;\"/><line style=\"stroke: #000000; stroke-width: 1.5;\" x1=\"208\" x2=\"239\" y1=\"192.2969\" y2=\"192.2969\"/><text fill=\"#000000\" font-family=\"sans-serif\" font-size=\"14\" font-weight=\"bold\" lengthAdjust=\"spacingAndGlyphs\" textLength=\"18\" x=\"212\" y=\"184.9951\">P1</text></a><!--MD5=[14e3b0961a2654348d326746436168a1]\n",
       "cluster E6--><a href=\"psysml:fe85458f-8707-492f-a6ea-e7b6b29e5b91\" target=\"_top\" title=\"psysml:fe85458f-8707-492f-a6ea-e7b6b29e5b91\" xlink:actuate=\"onRequest\" xlink:href=\"psysml:fe85458f-8707-492f-a6ea-e7b6b29e5b91\" xlink:show=\"new\" xlink:title=\"psysml:fe85458f-8707-492f-a6ea-e7b6b29e5b91\" xlink:type=\"simple\"><polygon fill=\"#FFFFFF\" points=\"75,170,99,170,106,192.2969,177,192.2969,177,267,75,267,75,170\" style=\"stroke: #000000; stroke-width: 1.5;\"/><line style=\"stroke: #000000; stroke-width: 1.5;\" x1=\"75\" x2=\"106\" y1=\"192.2969\" y2=\"192.2969\"/><text fill=\"#000000\" font-family=\"sans-serif\" font-size=\"14\" font-weight=\"bold\" lengthAdjust=\"spacingAndGlyphs\" textLength=\"18\" x=\"79\" y=\"184.9951\">P3</text></a><!--MD5=[7f149f147074ac12df2cb0a7728a5fb0]\n",
       "cluster E9--><a href=\"psysml:77a03853-3516-49bc-9a88-c5db4c10002c\" target=\"_top\" title=\"psysml:77a03853-3516-49bc-9a88-c5db4c10002c\" xlink:actuate=\"onRequest\" xlink:href=\"psysml:77a03853-3516-49bc-9a88-c5db4c10002c\" xlink:show=\"new\" xlink:title=\"psysml:77a03853-3516-49bc-9a88-c5db4c10002c\" xlink:type=\"simple\"><polygon fill=\"#FFFFFF\" points=\"243,49,267,49,274,71.2969,317,71.2969,317,146,243,146,243,49\" style=\"stroke: #000000; stroke-width: 1.5;\"/><line style=\"stroke: #000000; stroke-width: 1.5;\" x1=\"243\" x2=\"274\" y1=\"71.2969\" y2=\"71.2969\"/><text fill=\"#000000\" font-family=\"sans-serif\" font-size=\"14\" font-weight=\"bold\" lengthAdjust=\"spacingAndGlyphs\" textLength=\"18\" x=\"247\" y=\"63.9951\">P4</text></a><!--MD5=[270fce915f116d4de14055a7c1d9a0f3]\n",
       "class E5--><a href=\"psysml:99b80f3a-0072-46fe-b843-b9a836066a51\" target=\"_top\" title=\"psysml:99b80f3a-0072-46fe-b843-b9a836066a51\" xlink:actuate=\"onRequest\" xlink:href=\"psysml:99b80f3a-0072-46fe-b843-b9a836066a51\" xlink:show=\"new\" xlink:title=\"psysml:99b80f3a-0072-46fe-b843-b9a836066a51\" xlink:type=\"simple\"><rect fill=\"#FFFFFF\" height=\"45.9375\" id=\"E5\" rx=\"10\" ry=\"10\" style=\"stroke: #383838; stroke-width: 1.5;\" width=\"42\" x=\"182\" y=\"84\"/><text fill=\"#000000\" font-family=\"sans-serif\" font-size=\"12\" font-style=\"italic\" lengthAdjust=\"spacingAndGlyphs\" textLength=\"40\" x=\"183\" y=\"100.1387\">«part»</text><text fill=\"#000000\" font-family=\"sans-serif\" font-size=\"12\" lengthAdjust=\"spacingAndGlyphs\" textLength=\"22\" x=\"190\" y=\"114.1074\">x: A</text><line style=\"stroke: #383838; stroke-width: 1.5;\" x1=\"183\" x2=\"223\" y1=\"121.9375\" y2=\"121.9375\"/></a><!--MD5=[b9389687b975829384b498ac4b7476b2]\n",
       "class E8--><a href=\"psysml:a38466df-faf8-4af5-a290-fb7428072c5f\" target=\"_top\" title=\"psysml:a38466df-faf8-4af5-a290-fb7428072c5f\" xlink:actuate=\"onRequest\" xlink:href=\"psysml:a38466df-faf8-4af5-a290-fb7428072c5f\" xlink:show=\"new\" xlink:title=\"psysml:a38466df-faf8-4af5-a290-fb7428072c5f\" xlink:type=\"simple\"><rect fill=\"#FFFFFF\" height=\"45.9375\" id=\"E8\" rx=\"10\" ry=\"10\" style=\"stroke: #383838; stroke-width: 1.5;\" width=\"42\" x=\"105\" y=\"84\"/><text fill=\"#000000\" font-family=\"sans-serif\" font-size=\"12\" font-style=\"italic\" lengthAdjust=\"spacingAndGlyphs\" textLength=\"40\" x=\"106\" y=\"100.1387\">«part»</text><text fill=\"#000000\" font-family=\"sans-serif\" font-size=\"12\" lengthAdjust=\"spacingAndGlyphs\" textLength=\"21\" x=\"113.5\" y=\"114.1074\">z: B</text><line style=\"stroke: #383838; stroke-width: 1.5;\" x1=\"106\" x2=\"146\" y1=\"121.9375\" y2=\"121.9375\"/></a><!--MD5=[09b614a08d8cba4a07c9adeb5e0fee81]\n",
       "class E3--><a href=\"psysml:0a0c0374-c89d-44f1-8ff3-be2f7c1a5b8f\" target=\"_top\" title=\"psysml:0a0c0374-c89d-44f1-8ff3-be2f7c1a5b8f\" xlink:actuate=\"onRequest\" xlink:href=\"psysml:0a0c0374-c89d-44f1-8ff3-be2f7c1a5b8f\" xlink:show=\"new\" xlink:title=\"psysml:0a0c0374-c89d-44f1-8ff3-be2f7c1a5b8f\" xlink:type=\"simple\"><rect fill=\"#FFFFFF\" height=\"45.9375\" id=\"E3\" style=\"stroke: #383838; stroke-width: 1.5;\" width=\"70\" x=\"224\" y=\"205\"/><text fill=\"#000000\" font-family=\"sans-serif\" font-size=\"12\" font-style=\"italic\" lengthAdjust=\"spacingAndGlyphs\" textLength=\"68\" x=\"225\" y=\"221.1387\">«part  def»</text><text fill=\"#000000\" font-family=\"sans-serif\" font-size=\"12\" lengthAdjust=\"spacingAndGlyphs\" textLength=\"8\" x=\"255\" y=\"235.1074\">A</text><line style=\"stroke: #383838; stroke-width: 1.5;\" x1=\"225\" x2=\"293\" y1=\"242.9375\" y2=\"242.9375\"/></a><a href=\"psysml:9b62d657-9794-4032-9fa2-9f176e634d4a\" target=\"_top\" title=\"psysml:9b62d657-9794-4032-9fa2-9f176e634d4a\" xlink:actuate=\"onRequest\" xlink:href=\"psysml:9b62d657-9794-4032-9fa2-9f176e634d4a\" xlink:show=\"new\" xlink:title=\"psysml:9b62d657-9794-4032-9fa2-9f176e634d4a\" xlink:type=\"simple\"><polygon fill=\"#FFFFFF\" points=\"32,80.5,56,80.5,63,102.7969,70,102.7969,70,133.0938,32,133.0938,32,80.5\" style=\"stroke: #000000; stroke-width: 1.5;\"/><line style=\"stroke: #000000; stroke-width: 1.5;\" x1=\"32\" x2=\"63\" y1=\"102.7969\" y2=\"102.7969\"/><text fill=\"#000000\" font-family=\"sans-serif\" font-size=\"14\" font-weight=\"bold\" lengthAdjust=\"spacingAndGlyphs\" textLength=\"18\" x=\"36\" y=\"95.4951\">P2</text></a><!--MD5=[2156ba9850f5573cc1fc38a6a4b2f02b]\n",
       "class E7--><a href=\"psysml:af99adbc-0034-4f7c-9fbe-52493ca28392\" target=\"_top\" title=\"psysml:af99adbc-0034-4f7c-9fbe-52493ca28392\" xlink:actuate=\"onRequest\" xlink:href=\"psysml:af99adbc-0034-4f7c-9fbe-52493ca28392\" xlink:show=\"new\" xlink:title=\"psysml:af99adbc-0034-4f7c-9fbe-52493ca28392\" xlink:type=\"simple\"><rect fill=\"#FFFFFF\" height=\"45.9375\" id=\"E7\" style=\"stroke: #383838; stroke-width: 1.5;\" width=\"70\" x=\"91\" y=\"205\"/><text fill=\"#000000\" font-family=\"sans-serif\" font-size=\"12\" font-style=\"italic\" lengthAdjust=\"spacingAndGlyphs\" textLength=\"68\" x=\"92\" y=\"221.1387\">«part  def»</text><text fill=\"#000000\" font-family=\"sans-serif\" font-size=\"12\" lengthAdjust=\"spacingAndGlyphs\" textLength=\"8\" x=\"122\" y=\"235.1074\">B</text><line style=\"stroke: #383838; stroke-width: 1.5;\" x1=\"92\" x2=\"160\" y1=\"242.9375\" y2=\"242.9375\"/></a><!--MD5=[96f4274e9e20536e775497830990834d]\n",
       "class E10--><a href=\"psysml:d7dc5bce-b37d-4e4e-a49c-d44e6595ca7b\" target=\"_top\" title=\"psysml:d7dc5bce-b37d-4e4e-a49c-d44e6595ca7b\" xlink:actuate=\"onRequest\" xlink:href=\"psysml:d7dc5bce-b37d-4e4e-a49c-d44e6595ca7b\" xlink:show=\"new\" xlink:title=\"psysml:d7dc5bce-b37d-4e4e-a49c-d44e6595ca7b\" xlink:type=\"simple\"><rect fill=\"#FFFFFF\" height=\"45.9375\" id=\"E10\" rx=\"10\" ry=\"10\" style=\"stroke: #383838; stroke-width: 1.5;\" width=\"42\" x=\"259\" y=\"84\"/><text fill=\"#000000\" font-family=\"sans-serif\" font-size=\"12\" font-style=\"italic\" lengthAdjust=\"spacingAndGlyphs\" textLength=\"40\" x=\"260\" y=\"100.1387\">«part»</text><text fill=\"#000000\" font-family=\"sans-serif\" font-size=\"12\" lengthAdjust=\"spacingAndGlyphs\" textLength=\"29\" x=\"263.5\" y=\"114.1074\">z1: A</text><line style=\"stroke: #383838; stroke-width: 1.5;\" x1=\"260\" x2=\"300\" y1=\"121.9375\" y2=\"121.9375\"/></a><!--MD5=[e9be52314489bd878ff4c7144b63c9e1]\n",
       "link E5 to E3--><a href=\"psysml:2e6435ee-ec1e-47e4-8fad-fb77072556f4\" target=\"_top\" title=\"psysml:2e6435ee-ec1e-47e4-8fad-fb77072556f4\" xlink:actuate=\"onRequest\" xlink:href=\"psysml:2e6435ee-ec1e-47e4-8fad-fb77072556f4\" xlink:show=\"new\" xlink:title=\"psysml:2e6435ee-ec1e-47e4-8fad-fb77072556f4\" xlink:type=\"simple\"><path d=\"M213.4,130.1 C220.82,145.87 231.01,167.52 239.88,186.36 \" fill=\"none\" id=\"E5-&gt;E3\" style=\"stroke: #383838; stroke-width: 1.0;\"/><polygon fill=\"#FFFFFF\" points=\"248.46,204.61,234.0383,190.3968,246.7067,184.4376,248.46,204.61\" style=\"stroke: #383838; stroke-width: 1.0;\"/><ellipse cx=\"233.4218\" cy=\"184.3877\" fill=\"#383838\" rx=\"2\" ry=\"2\" style=\"stroke: #383838; stroke-width: 1.0;\"/><ellipse cx=\"242.4706\" cy=\"180.1311\" fill=\"#383838\" rx=\"2\" ry=\"2\" style=\"stroke: #383838; stroke-width: 1.0;\"/></a><!--MD5=[bfa3c8b0d15052fdf50ae9310b491027]\n",
       "link E8 to E7--><a href=\"psysml:f11bc7c0-c938-426a-87a4-76c9b47cac7e\" target=\"_top\" title=\"psysml:f11bc7c0-c938-426a-87a4-76c9b47cac7e\" xlink:actuate=\"onRequest\" xlink:href=\"psysml:f11bc7c0-c938-426a-87a4-76c9b47cac7e\" xlink:show=\"new\" xlink:title=\"psysml:f11bc7c0-c938-426a-87a4-76c9b47cac7e\" xlink:type=\"simple\"><path d=\"M126,130.1 C126,145.37 126,166.16 126,184.57 \" fill=\"none\" id=\"E8-&gt;E7\" style=\"stroke: #383838; stroke-width: 1.0;\"/><polygon fill=\"#FFFFFF\" points=\"126,204.61,119,185.61,133,185.61,126,204.61\" style=\"stroke: #383838; stroke-width: 1.0;\"/><ellipse cx=\"121\" cy=\"179.91\" fill=\"#383838\" rx=\"2\" ry=\"2\" style=\"stroke: #383838; stroke-width: 1.0;\"/><ellipse cx=\"131\" cy=\"179.91\" fill=\"#383838\" rx=\"2\" ry=\"2\" style=\"stroke: #383838; stroke-width: 1.0;\"/></a><!--MD5=[feeac5eb423634930294aa81f2d25a4c]\n",
       "link E10 to E3--><a href=\"psysml:21a673ac-f9f6-428c-a165-60ea4300f397\" target=\"_top\" title=\"psysml:21a673ac-f9f6-428c-a165-60ea4300f397\" xlink:actuate=\"onRequest\" xlink:href=\"psysml:21a673ac-f9f6-428c-a165-60ea4300f397\" xlink:show=\"new\" xlink:title=\"psysml:21a673ac-f9f6-428c-a165-60ea4300f397\" xlink:type=\"simple\"><path d=\"M276.1,130.1 C273.39,145.45 269.7,166.39 266.44,184.87 \" fill=\"none\" id=\"E10-&gt;E3\" style=\"stroke: #383838; stroke-width: 1.0;\"/><polygon fill=\"#FFFFFF\" points=\"262.95,204.61,259.3535,184.6835,273.1411,187.1131,262.95,204.61\" style=\"stroke: #383838; stroke-width: 1.0;\"/><ellipse cx=\"262.3123\" cy=\"179.4171\" fill=\"#383838\" rx=\"2\" ry=\"2\" style=\"stroke: #383838; stroke-width: 1.0;\"/><ellipse cx=\"272.1606\" cy=\"181.1525\" fill=\"#383838\" rx=\"2\" ry=\"2\" style=\"stroke: #383838; stroke-width: 1.0;\"/></a><!--MD5=[ae72928886cc98434e4981fd85699e34]\n",
       "@startuml\r\n",
       "skinparam linetype polyline\r\n",
       "skinparam monochrome true\r\n",
       "skinparam classbackgroundcolor white\r\n",
       "skinparam shadowing false\r\n",
       "skinparam wrapWidth 300\r\n",
       "hide circle\r\n",
       "\r\n",
       "package \"PrivateImportTest\" as E1  [[psysml:2415ca44-1de1-4a98-b3f0-a39d5285a5bd ]]  {\r\n",
       "package \"P1\" as E2  [[psysml:426e250f-8977-4e89-b166-3835fc91b530 ]]  {\r\n",
       "comp def \"A\" as E3  <<(T,blue) part  def>> [[psysml:0a0c0374-c89d-44f1-8ff3-be2f7c1a5b8f ]] {\r\n",
       "}\r\n",
       "}\r\n",
       "package \"P2\" as E4  [[psysml:9b62d657-9794-4032-9fa2-9f176e634d4a ]]  {\r\n",
       "}\r\n",
       "comp usage \"x: A \" as E5  <<(T,blue) part>> [[psysml:99b80f3a-0072-46fe-b843-b9a836066a51 ]] {\r\n",
       "}\r\n",
       "package \"P3\" as E6  [[psysml:fe85458f-8707-492f-a6ea-e7b6b29e5b91 ]]  {\r\n",
       "comp def \"B\" as E7  <<(T,blue) part  def>> [[psysml:af99adbc-0034-4f7c-9fbe-52493ca28392 ]] {\r\n",
       "}\r\n",
       "}\r\n",
       "comp usage \"z: B \" as E8  <<(T,blue) part>> [[psysml:a38466df-faf8-4af5-a290-fb7428072c5f ]] {\r\n",
       "}\r\n",
       "package \"P4\" as E9  [[psysml:77a03853-3516-49bc-9a88-c5db4c10002c ]]  {\r\n",
       "comp usage \"z1: A \" as E10  <<(T,blue) part>> [[psysml:d7dc5bce-b37d-4e4e-a49c-d44e6595ca7b ]] {\r\n",
       "}\r\n",
       "}\r\n",
       "}\r\n",
       "E5 - -:|> E3 [[psysml:2e6435ee-ec1e-47e4-8fad-fb77072556f4 ]] \r\n",
       "E8 - -:|> E7 [[psysml:f11bc7c0-c938-426a-87a4-76c9b47cac7e ]] \r\n",
       "E10 - -:|> E3 [[psysml:21a673ac-f9f6-428c-a165-60ea4300f397 ]] \r\n",
       "@enduml\r\n",
       "\n",
       "PlantUML version 1.2020.13(Sat Jun 13 12:26:38 UTC 2020)\n",
       "(EPL source distribution)\n",
       "Java Runtime: OpenJDK Runtime Environment\n",
       "JVM: OpenJDK 64-Bit Server VM\n",
       "Default Encoding: UTF-8\n",
       "Language: en\n",
       "Country: null\n",
       "--></g></svg>"
      ]
     },
     "execution_count": 10,
     "metadata": {},
     "output_type": "execute_result"
    }
   ],
   "source": [
    "%viz --style=\"POLYLINE\" --view=\"Tree\" \"PrivateImportTest\""
   ]
  },
  {
   "cell_type": "code",
   "execution_count": 11,
   "id": "6130ff7c",
   "metadata": {
    "execution": {
     "iopub.execute_input": "2021-10-25T08:22:20.675328Z",
     "iopub.status.busy": "2021-10-25T08:22:20.675072Z",
     "iopub.status.idle": "2021-10-25T08:22:20.680093Z",
     "shell.execute_reply": "2021-10-25T08:22:20.680268Z"
    }
   },
   "outputs": [
    {
     "data": {
      "image/svg+xml": [
       "<?xml version=\"1.0\" encoding=\"UTF-8\" standalone=\"no\"?><svg xmlns=\"http://www.w3.org/2000/svg\" xmlns:xlink=\"http://www.w3.org/1999/xlink\" contentScriptType=\"application/ecmascript\" contentStyleType=\"text/css\" height=\"12px\" preserveAspectRatio=\"none\" style=\"width:12px;height:12px;\" version=\"1.1\" viewBox=\"0 0 12 12\" width=\"12px\" zoomAndPan=\"magnify\"><defs/><g><!--MD5=[896ac0e7a515d8dd7765a661cb4ee08b]\n",
       "@startuml\r\n",
       "skinparam linetype polyline\r\n",
       "skinparam monochrome true\r\n",
       "skinparam classbackgroundcolor white\r\n",
       "skinparam shadowing false\r\n",
       "skinparam wrapWidth 300\r\n",
       "hide circle\r\n",
       "\r\n",
       "@enduml\r\n",
       "\n",
       "PlantUML version 1.2020.13(Sat Jun 13 12:26:38 UTC 2020)\n",
       "(EPL source distribution)\n",
       "Java Runtime: OpenJDK Runtime Environment\n",
       "JVM: OpenJDK 64-Bit Server VM\n",
       "Default Encoding: UTF-8\n",
       "Language: en\n",
       "Country: null\n",
       "--></g></svg>"
      ]
     },
     "execution_count": 11,
     "metadata": {},
     "output_type": "execute_result"
    }
   ],
   "source": [
    "%viz --style=\"POLYLINE\" --view=\"State\" \"PrivateImportTest\""
   ]
  },
  {
   "cell_type": "code",
   "execution_count": 12,
   "id": "f12e1f27",
   "metadata": {
    "execution": {
     "iopub.execute_input": "2021-10-25T08:22:20.730987Z",
     "iopub.status.busy": "2021-10-25T08:22:20.730737Z",
     "iopub.status.idle": "2021-10-25T08:22:20.774044Z",
     "shell.execute_reply": "2021-10-25T08:22:20.771885Z"
    }
   },
   "outputs": [
    {
     "data": {
      "image/svg+xml": [
       "<?xml version=\"1.0\" encoding=\"UTF-8\" standalone=\"no\"?><svg xmlns=\"http://www.w3.org/2000/svg\" xmlns:xlink=\"http://www.w3.org/1999/xlink\" contentScriptType=\"application/ecmascript\" contentStyleType=\"text/css\" height=\"179px\" preserveAspectRatio=\"none\" style=\"width:647px;height:179px;\" version=\"1.1\" viewBox=\"0 0 647 179\" width=\"647px\" zoomAndPan=\"magnify\"><defs/><g><!--MD5=[fbc87193dbaf4d95561dea2c320d4a47]\n",
       "cluster E1--><a href=\"psysml:2415ca44-1de1-4a98-b3f0-a39d5285a5bd\" target=\"_top\" title=\"psysml:2415ca44-1de1-4a98-b3f0-a39d5285a5bd\" xlink:actuate=\"onRequest\" xlink:href=\"psysml:2415ca44-1de1-4a98-b3f0-a39d5285a5bd\" xlink:show=\"new\" xlink:title=\"psysml:2415ca44-1de1-4a98-b3f0-a39d5285a5bd\" xlink:type=\"simple\"><polygon fill=\"#FFFFFF\" points=\"16,6,143,6,150,28.2969,625,28.2969,625,167,16,167,16,6\" style=\"stroke: #000000; stroke-width: 1.5;\"/><line style=\"stroke: #000000; stroke-width: 1.5;\" x1=\"16\" x2=\"150\" y1=\"28.2969\" y2=\"28.2969\"/><text fill=\"#000000\" font-family=\"sans-serif\" font-size=\"14\" font-weight=\"bold\" lengthAdjust=\"spacingAndGlyphs\" textLength=\"121\" x=\"20\" y=\"20.9951\">PrivateImportTest</text></a><!--MD5=[e4f7fae6ed58524ba242bb0b0d3be6b7]\n",
       "cluster E2--><a href=\"psysml:426e250f-8977-4e89-b166-3835fc91b530\" target=\"_top\" title=\"psysml:426e250f-8977-4e89-b166-3835fc91b530\" xlink:actuate=\"onRequest\" xlink:href=\"psysml:426e250f-8977-4e89-b166-3835fc91b530\" xlink:show=\"new\" xlink:title=\"psysml:426e250f-8977-4e89-b166-3835fc91b530\" xlink:type=\"simple\"><polygon fill=\"#FFFFFF\" points=\"495,49,519,49,526,71.2969,601,71.2969,601,143,495,143,495,49\" style=\"stroke: #000000; stroke-width: 1.5;\"/><line style=\"stroke: #000000; stroke-width: 1.5;\" x1=\"495\" x2=\"526\" y1=\"71.2969\" y2=\"71.2969\"/><text fill=\"#000000\" font-family=\"sans-serif\" font-size=\"14\" font-weight=\"bold\" lengthAdjust=\"spacingAndGlyphs\" textLength=\"18\" x=\"499\" y=\"63.9951\">P1</text></a><!--MD5=[14e3b0961a2654348d326746436168a1]\n",
       "cluster E6--><a href=\"psysml:fe85458f-8707-492f-a6ea-e7b6b29e5b91\" target=\"_top\" title=\"psysml:fe85458f-8707-492f-a6ea-e7b6b29e5b91\" xlink:actuate=\"onRequest\" xlink:href=\"psysml:fe85458f-8707-492f-a6ea-e7b6b29e5b91\" xlink:show=\"new\" xlink:title=\"psysml:fe85458f-8707-492f-a6ea-e7b6b29e5b91\" xlink:type=\"simple\"><polygon fill=\"#FFFFFF\" points=\"365,49,389,49,396,71.2969,471,71.2969,471,143,365,143,365,49\" style=\"stroke: #000000; stroke-width: 1.5;\"/><line style=\"stroke: #000000; stroke-width: 1.5;\" x1=\"365\" x2=\"396\" y1=\"71.2969\" y2=\"71.2969\"/><text fill=\"#000000\" font-family=\"sans-serif\" font-size=\"14\" font-weight=\"bold\" lengthAdjust=\"spacingAndGlyphs\" textLength=\"18\" x=\"369\" y=\"63.9951\">P3</text></a><!--MD5=[7f149f147074ac12df2cb0a7728a5fb0]\n",
       "cluster E9--><a href=\"psysml:77a03853-3516-49bc-9a88-c5db4c10002c\" target=\"_top\" title=\"psysml:77a03853-3516-49bc-9a88-c5db4c10002c\" xlink:actuate=\"onRequest\" xlink:href=\"psysml:77a03853-3516-49bc-9a88-c5db4c10002c\" xlink:show=\"new\" xlink:title=\"psysml:77a03853-3516-49bc-9a88-c5db4c10002c\" xlink:type=\"simple\"><polygon fill=\"#FFFFFF\" points=\"259,50.5,283,50.5,290,72.7969,341,72.7969,341,141.5,259,141.5,259,50.5\" style=\"stroke: #000000; stroke-width: 1.5;\"/><line style=\"stroke: #000000; stroke-width: 1.5;\" x1=\"259\" x2=\"290\" y1=\"72.7969\" y2=\"72.7969\"/><text fill=\"#000000\" font-family=\"sans-serif\" font-size=\"14\" font-weight=\"bold\" lengthAdjust=\"spacingAndGlyphs\" textLength=\"18\" x=\"263\" y=\"65.4951\">P4</text></a><g id=\"E1.E2.E3\"><a href=\"psysml:0a0c0374-c89d-44f1-8ff3-be2f7c1a5b8f\" target=\"_top\" title=\"psysml:0a0c0374-c89d-44f1-8ff3-be2f7c1a5b8f\" xlink:actuate=\"onRequest\" xlink:href=\"psysml:0a0c0374-c89d-44f1-8ff3-be2f7c1a5b8f\" xlink:show=\"new\" xlink:title=\"psysml:0a0c0374-c89d-44f1-8ff3-be2f7c1a5b8f\" xlink:type=\"simple\"><rect fill=\"#FFFFFF\" height=\"42.9375\" id=\"E3\" style=\"stroke: #383838; stroke-width: 1.5;\" width=\"75\" x=\"510.5\" y=\"84\"/><rect fill=\"#F8F8F8\" height=\"37.9375\" style=\"stroke: #383838; stroke-width: 1.5;\" width=\"75\" x=\"510.5\" y=\"84\"/><text fill=\"#000000\" font-family=\"sans-serif\" font-size=\"12\" font-style=\"italic\" lengthAdjust=\"spacingAndGlyphs\" textLength=\"68\" x=\"514\" y=\"100.1387\">«part  def»</text><text fill=\"#000000\" font-family=\"sans-serif\" font-size=\"12\" lengthAdjust=\"spacingAndGlyphs\" textLength=\"8\" x=\"544\" y=\"114.1074\">A</text></a></g><a href=\"psysml:9b62d657-9794-4032-9fa2-9f176e634d4a\" target=\"_top\" title=\"psysml:9b62d657-9794-4032-9fa2-9f176e634d4a\" xlink:actuate=\"onRequest\" xlink:href=\"psysml:9b62d657-9794-4032-9fa2-9f176e634d4a\" xlink:show=\"new\" xlink:title=\"psysml:9b62d657-9794-4032-9fa2-9f176e634d4a\" xlink:type=\"simple\"><polygon fill=\"#FFFFFF\" points=\"202,79,226,79,233,101.2969,240,101.2969,240,131.5938,202,131.5938,202,79\" style=\"stroke: #000000; stroke-width: 1.5;\"/><line style=\"stroke: #000000; stroke-width: 1.5;\" x1=\"202\" x2=\"233\" y1=\"101.2969\" y2=\"101.2969\"/><text fill=\"#000000\" font-family=\"sans-serif\" font-size=\"14\" font-weight=\"bold\" lengthAdjust=\"spacingAndGlyphs\" textLength=\"18\" x=\"206\" y=\"93.9951\">P2</text></a><g id=\"E1.E5\"><a href=\"psysml:99b80f3a-0072-46fe-b843-b9a836066a51\" target=\"_top\" title=\"psysml:99b80f3a-0072-46fe-b843-b9a836066a51\" xlink:actuate=\"onRequest\" xlink:href=\"psysml:99b80f3a-0072-46fe-b843-b9a836066a51\" xlink:show=\"new\" xlink:title=\"psysml:99b80f3a-0072-46fe-b843-b9a836066a51\" xlink:type=\"simple\"><rect fill=\"#FFFFFF\" height=\"40\" id=\"E5\" rx=\"10\" ry=\"10\" style=\"stroke: #383838; stroke-width: 1.5;\" width=\"50\" x=\"117\" y=\"85.5\"/><rect fill=\"#F8F8F8\" height=\"23.9688\" rx=\"10\" ry=\"10\" style=\"stroke: #F8F8F8; stroke-width: 1.5;\" width=\"50\" x=\"117\" y=\"85.5\"/><rect fill=\"#F8F8F8\" height=\"10\" style=\"stroke: #F8F8F8; stroke-width: 1.5;\" width=\"50\" x=\"117\" y=\"99.4688\"/><rect fill=\"none\" height=\"40\" id=\"E5\" rx=\"10\" ry=\"10\" style=\"stroke: #383838; stroke-width: 1.5;\" width=\"50\" x=\"117\" y=\"85.5\"/><text fill=\"#000000\" font-family=\"sans-serif\" font-size=\"12\" lengthAdjust=\"spacingAndGlyphs\" textLength=\"22\" x=\"131\" y=\"101.6387\">x: A</text></a></g><g id=\"E1.E6.E7\"><a href=\"psysml:af99adbc-0034-4f7c-9fbe-52493ca28392\" target=\"_top\" title=\"psysml:af99adbc-0034-4f7c-9fbe-52493ca28392\" xlink:actuate=\"onRequest\" xlink:href=\"psysml:af99adbc-0034-4f7c-9fbe-52493ca28392\" xlink:show=\"new\" xlink:title=\"psysml:af99adbc-0034-4f7c-9fbe-52493ca28392\" xlink:type=\"simple\"><rect fill=\"#FFFFFF\" height=\"42.9375\" id=\"E7\" style=\"stroke: #383838; stroke-width: 1.5;\" width=\"75\" x=\"380.5\" y=\"84\"/><rect fill=\"#F8F8F8\" height=\"37.9375\" style=\"stroke: #383838; stroke-width: 1.5;\" width=\"75\" x=\"380.5\" y=\"84\"/><text fill=\"#000000\" font-family=\"sans-serif\" font-size=\"12\" font-style=\"italic\" lengthAdjust=\"spacingAndGlyphs\" textLength=\"68\" x=\"384\" y=\"100.1387\">«part  def»</text><text fill=\"#000000\" font-family=\"sans-serif\" font-size=\"12\" lengthAdjust=\"spacingAndGlyphs\" textLength=\"8\" x=\"414\" y=\"114.1074\">B</text></a></g><g id=\"E1.E8\"><a href=\"psysml:a38466df-faf8-4af5-a290-fb7428072c5f\" target=\"_top\" title=\"psysml:a38466df-faf8-4af5-a290-fb7428072c5f\" xlink:actuate=\"onRequest\" xlink:href=\"psysml:a38466df-faf8-4af5-a290-fb7428072c5f\" xlink:show=\"new\" xlink:title=\"psysml:a38466df-faf8-4af5-a290-fb7428072c5f\" xlink:type=\"simple\"><rect fill=\"#FFFFFF\" height=\"40\" id=\"E8\" rx=\"10\" ry=\"10\" style=\"stroke: #383838; stroke-width: 1.5;\" width=\"50\" x=\"32\" y=\"85.5\"/><rect fill=\"#F8F8F8\" height=\"23.9688\" rx=\"10\" ry=\"10\" style=\"stroke: #F8F8F8; stroke-width: 1.5;\" width=\"50\" x=\"32\" y=\"85.5\"/><rect fill=\"#F8F8F8\" height=\"10\" style=\"stroke: #F8F8F8; stroke-width: 1.5;\" width=\"50\" x=\"32\" y=\"99.4688\"/><rect fill=\"none\" height=\"40\" id=\"E8\" rx=\"10\" ry=\"10\" style=\"stroke: #383838; stroke-width: 1.5;\" width=\"50\" x=\"32\" y=\"85.5\"/><text fill=\"#000000\" font-family=\"sans-serif\" font-size=\"12\" lengthAdjust=\"spacingAndGlyphs\" textLength=\"21\" x=\"46.5\" y=\"101.6387\">z: B</text></a></g><g id=\"E1.E9.E10\"><a href=\"psysml:d7dc5bce-b37d-4e4e-a49c-d44e6595ca7b\" target=\"_top\" title=\"psysml:d7dc5bce-b37d-4e4e-a49c-d44e6595ca7b\" xlink:actuate=\"onRequest\" xlink:href=\"psysml:d7dc5bce-b37d-4e4e-a49c-d44e6595ca7b\" xlink:show=\"new\" xlink:title=\"psysml:d7dc5bce-b37d-4e4e-a49c-d44e6595ca7b\" xlink:type=\"simple\"><rect fill=\"#FFFFFF\" height=\"40\" id=\"E10\" rx=\"10\" ry=\"10\" style=\"stroke: #383838; stroke-width: 1.5;\" width=\"50\" x=\"275\" y=\"85.5\"/><rect fill=\"#F8F8F8\" height=\"23.9688\" rx=\"10\" ry=\"10\" style=\"stroke: #F8F8F8; stroke-width: 1.5;\" width=\"50\" x=\"275\" y=\"85.5\"/><rect fill=\"#F8F8F8\" height=\"10\" style=\"stroke: #F8F8F8; stroke-width: 1.5;\" width=\"50\" x=\"275\" y=\"99.4688\"/><rect fill=\"none\" height=\"40\" id=\"E10\" rx=\"10\" ry=\"10\" style=\"stroke: #383838; stroke-width: 1.5;\" width=\"50\" x=\"275\" y=\"85.5\"/><text fill=\"#000000\" font-family=\"sans-serif\" font-size=\"12\" lengthAdjust=\"spacingAndGlyphs\" textLength=\"29\" x=\"285.5\" y=\"101.6387\">z1: A</text></a></g><!--MD5=[9d15ea11d9015653568b36b9478e4749]\n",
       "@startuml\r\n",
       "skinparam ranksep 10\r\n",
       "skinparam rectangle {\r\n",
       " backgroundColor<<block>> LightGreen\r\n",
       "}\r\n",
       "skinparam linetype polyline\r\n",
       "skinparam monochrome true\r\n",
       "skinparam classbackgroundcolor white\r\n",
       "skinparam shadowing false\r\n",
       "skinparam wrapWidth 300\r\n",
       "hide circle\r\n",
       "\r\n",
       "package \"PrivateImportTest\" as E1  [[psysml:2415ca44-1de1-4a98-b3f0-a39d5285a5bd ]]  {\r\n",
       "package \"P1\" as E2  [[psysml:426e250f-8977-4e89-b166-3835fc91b530 ]]  {\r\n",
       "rec def \"A\" as E3  <<(T,blue) part  def>> [[psysml:0a0c0374-c89d-44f1-8ff3-be2f7c1a5b8f ]] {\r\n",
       "}\r\n",
       "}\r\n",
       "package \"P2\" as E4  [[psysml:9b62d657-9794-4032-9fa2-9f176e634d4a ]]  {\r\n",
       "}\r\n",
       "rec usage \"x: A\" as E5  [[psysml:99b80f3a-0072-46fe-b843-b9a836066a51 ]] {\r\n",
       "}\r\n",
       "package \"P3\" as E6  [[psysml:fe85458f-8707-492f-a6ea-e7b6b29e5b91 ]]  {\r\n",
       "rec def \"B\" as E7  <<(T,blue) part  def>> [[psysml:af99adbc-0034-4f7c-9fbe-52493ca28392 ]] {\r\n",
       "}\r\n",
       "}\r\n",
       "rec usage \"z: B\" as E8  [[psysml:a38466df-faf8-4af5-a290-fb7428072c5f ]] {\r\n",
       "}\r\n",
       "package \"P4\" as E9  [[psysml:77a03853-3516-49bc-9a88-c5db4c10002c ]]  {\r\n",
       "rec usage \"z1: A\" as E10  [[psysml:d7dc5bce-b37d-4e4e-a49c-d44e6595ca7b ]] {\r\n",
       "}\r\n",
       "}\r\n",
       "}\r\n",
       "@enduml\r\n",
       "\n",
       "PlantUML version 1.2020.13(Sat Jun 13 12:26:38 UTC 2020)\n",
       "(EPL source distribution)\n",
       "Java Runtime: OpenJDK Runtime Environment\n",
       "JVM: OpenJDK 64-Bit Server VM\n",
       "Default Encoding: UTF-8\n",
       "Language: en\n",
       "Country: null\n",
       "--></g></svg>"
      ]
     },
     "execution_count": 12,
     "metadata": {},
     "output_type": "execute_result"
    }
   ],
   "source": [
    "%viz --style=\"POLYLINE\" --view=\"Interconnection\" \"PrivateImportTest\""
   ]
  },
  {
   "cell_type": "code",
   "execution_count": 13,
   "id": "ed1ca58c",
   "metadata": {
    "execution": {
     "iopub.execute_input": "2021-10-25T08:22:20.823134Z",
     "iopub.status.busy": "2021-10-25T08:22:20.822646Z",
     "iopub.status.idle": "2021-10-25T08:22:20.830820Z",
     "shell.execute_reply": "2021-10-25T08:22:20.830451Z"
    }
   },
   "outputs": [
    {
     "data": {
      "image/svg+xml": [
       "<?xml version=\"1.0\" encoding=\"UTF-8\" standalone=\"no\"?><svg xmlns=\"http://www.w3.org/2000/svg\" xmlns:xlink=\"http://www.w3.org/1999/xlink\" contentScriptType=\"application/ecmascript\" contentStyleType=\"text/css\" height=\"12px\" preserveAspectRatio=\"none\" style=\"width:12px;height:12px;\" version=\"1.1\" viewBox=\"0 0 12 12\" width=\"12px\" zoomAndPan=\"magnify\"><defs/><g><!--MD5=[97bbf32f66ccd50cbc40d92ea8f5a65e]\n",
       "@startuml\r\n",
       "skinparam ranksep 8\r\n",
       "skinparam linetype polyline\r\n",
       "skinparam monochrome true\r\n",
       "skinparam classbackgroundcolor white\r\n",
       "skinparam shadowing false\r\n",
       "skinparam wrapWidth 300\r\n",
       "hide circle\r\n",
       "\r\n",
       "@enduml\r\n",
       "\n",
       "PlantUML version 1.2020.13(Sat Jun 13 12:26:38 UTC 2020)\n",
       "(EPL source distribution)\n",
       "Java Runtime: OpenJDK Runtime Environment\n",
       "JVM: OpenJDK 64-Bit Server VM\n",
       "Default Encoding: UTF-8\n",
       "Language: en\n",
       "Country: null\n",
       "--></g></svg>"
      ]
     },
     "execution_count": 13,
     "metadata": {},
     "output_type": "execute_result"
    }
   ],
   "source": [
    "%viz --style=\"POLYLINE\" --view=\"Action\" \"PrivateImportTest\""
   ]
  },
  {
   "cell_type": "code",
   "execution_count": 14,
   "id": "2e5bd5e2",
   "metadata": {
    "execution": {
     "iopub.execute_input": "2021-10-25T08:22:20.881301Z",
     "iopub.status.busy": "2021-10-25T08:22:20.880686Z",
     "iopub.status.idle": "2021-10-25T08:22:20.887375Z",
     "shell.execute_reply": "2021-10-25T08:22:20.887708Z"
    }
   },
   "outputs": [
    {
     "data": {
      "image/svg+xml": [
       "<?xml version=\"1.0\" encoding=\"UTF-8\" standalone=\"no\"?><svg xmlns=\"http://www.w3.org/2000/svg\" xmlns:xlink=\"http://www.w3.org/1999/xlink\" contentScriptType=\"application/ecmascript\" contentStyleType=\"text/css\" height=\"12px\" preserveAspectRatio=\"none\" style=\"width:12px;height:12px;\" version=\"1.1\" viewBox=\"0 0 12 12\" width=\"12px\" zoomAndPan=\"magnify\"><defs/><g><!--MD5=[dc938048236c351797870c36b62f92ad]\n",
       "@startuml\r\n",
       "skinparam roundcorner 20\r\n",
       "skinparam BoxPadding 20\r\n",
       "skinparam SequenceBoxBackgroundColor #white\r\n",
       "skinparam style strictuml\r\n",
       "skinparam maxMessageSize 100\r\n",
       "skinparam linetype polyline\r\n",
       "skinparam monochrome true\r\n",
       "skinparam classbackgroundcolor white\r\n",
       "skinparam shadowing false\r\n",
       "skinparam wrapWidth 300\r\n",
       "hide circle\r\n",
       "\r\n",
       "@enduml\r\n",
       "\n",
       "PlantUML version 1.2020.13(Sat Jun 13 12:26:38 UTC 2020)\n",
       "(EPL source distribution)\n",
       "Java Runtime: OpenJDK Runtime Environment\n",
       "JVM: OpenJDK 64-Bit Server VM\n",
       "Default Encoding: UTF-8\n",
       "Language: en\n",
       "Country: null\n",
       "--></g></svg>"
      ]
     },
     "execution_count": 14,
     "metadata": {},
     "output_type": "execute_result"
    }
   ],
   "source": [
    "%viz --style=\"POLYLINE\" --view=\"Sequence\" \"PrivateImportTest\""
   ]
  },
  {
   "cell_type": "code",
   "execution_count": 15,
   "id": "f40ed33f",
   "metadata": {
    "execution": {
     "iopub.execute_input": "2021-10-25T08:22:20.937380Z",
     "iopub.status.busy": "2021-10-25T08:22:20.936931Z",
     "iopub.status.idle": "2021-10-25T08:22:20.987085Z",
     "shell.execute_reply": "2021-10-25T08:22:20.986712Z"
    }
   },
   "outputs": [
    {
     "data": {
      "image/svg+xml": [
       "<?xml version=\"1.0\" encoding=\"UTF-8\" standalone=\"no\"?><svg xmlns=\"http://www.w3.org/2000/svg\" xmlns:xlink=\"http://www.w3.org/1999/xlink\" contentScriptType=\"application/ecmascript\" contentStyleType=\"text/css\" height=\"303px\" preserveAspectRatio=\"none\" style=\"width:363px;height:303px;\" version=\"1.1\" viewBox=\"0 0 363 303\" width=\"363px\" zoomAndPan=\"magnify\"><defs/><g><!--MD5=[fbc87193dbaf4d95561dea2c320d4a47]\n",
       "cluster E1--><a href=\"psysml:2415ca44-1de1-4a98-b3f0-a39d5285a5bd\" target=\"_top\" title=\"psysml:2415ca44-1de1-4a98-b3f0-a39d5285a5bd\" xlink:actuate=\"onRequest\" xlink:href=\"psysml:2415ca44-1de1-4a98-b3f0-a39d5285a5bd\" xlink:show=\"new\" xlink:title=\"psysml:2415ca44-1de1-4a98-b3f0-a39d5285a5bd\" xlink:type=\"simple\"><polygon fill=\"#FFFFFF\" points=\"16,6,143,6,150,28.2969,341,28.2969,341,291,16,291,16,6\" style=\"stroke: #000000; stroke-width: 1.5;\"/><line style=\"stroke: #000000; stroke-width: 1.5;\" x1=\"16\" x2=\"150\" y1=\"28.2969\" y2=\"28.2969\"/><text fill=\"#000000\" font-family=\"sans-serif\" font-size=\"14\" font-weight=\"bold\" lengthAdjust=\"spacingAndGlyphs\" textLength=\"121\" x=\"20\" y=\"20.9951\">PrivateImportTest</text></a><!--MD5=[e4f7fae6ed58524ba242bb0b0d3be6b7]\n",
       "cluster E2--><a href=\"psysml:426e250f-8977-4e89-b166-3835fc91b530\" target=\"_top\" title=\"psysml:426e250f-8977-4e89-b166-3835fc91b530\" xlink:actuate=\"onRequest\" xlink:href=\"psysml:426e250f-8977-4e89-b166-3835fc91b530\" xlink:show=\"new\" xlink:title=\"psysml:426e250f-8977-4e89-b166-3835fc91b530\" xlink:type=\"simple\"><polygon fill=\"#FFFFFF\" points=\"208,170,232,170,239,192.2969,310,192.2969,310,267,208,267,208,170\" style=\"stroke: #000000; stroke-width: 1.5;\"/><line style=\"stroke: #000000; stroke-width: 1.5;\" x1=\"208\" x2=\"239\" y1=\"192.2969\" y2=\"192.2969\"/><text fill=\"#000000\" font-family=\"sans-serif\" font-size=\"14\" font-weight=\"bold\" lengthAdjust=\"spacingAndGlyphs\" textLength=\"18\" x=\"212\" y=\"184.9951\">P1</text></a><!--MD5=[14e3b0961a2654348d326746436168a1]\n",
       "cluster E6--><a href=\"psysml:fe85458f-8707-492f-a6ea-e7b6b29e5b91\" target=\"_top\" title=\"psysml:fe85458f-8707-492f-a6ea-e7b6b29e5b91\" xlink:actuate=\"onRequest\" xlink:href=\"psysml:fe85458f-8707-492f-a6ea-e7b6b29e5b91\" xlink:show=\"new\" xlink:title=\"psysml:fe85458f-8707-492f-a6ea-e7b6b29e5b91\" xlink:type=\"simple\"><polygon fill=\"#FFFFFF\" points=\"75,170,99,170,106,192.2969,177,192.2969,177,267,75,267,75,170\" style=\"stroke: #000000; stroke-width: 1.5;\"/><line style=\"stroke: #000000; stroke-width: 1.5;\" x1=\"75\" x2=\"106\" y1=\"192.2969\" y2=\"192.2969\"/><text fill=\"#000000\" font-family=\"sans-serif\" font-size=\"14\" font-weight=\"bold\" lengthAdjust=\"spacingAndGlyphs\" textLength=\"18\" x=\"79\" y=\"184.9951\">P3</text></a><!--MD5=[7f149f147074ac12df2cb0a7728a5fb0]\n",
       "cluster E9--><a href=\"psysml:77a03853-3516-49bc-9a88-c5db4c10002c\" target=\"_top\" title=\"psysml:77a03853-3516-49bc-9a88-c5db4c10002c\" xlink:actuate=\"onRequest\" xlink:href=\"psysml:77a03853-3516-49bc-9a88-c5db4c10002c\" xlink:show=\"new\" xlink:title=\"psysml:77a03853-3516-49bc-9a88-c5db4c10002c\" xlink:type=\"simple\"><polygon fill=\"#FFFFFF\" points=\"243,49,267,49,274,71.2969,317,71.2969,317,146,243,146,243,49\" style=\"stroke: #000000; stroke-width: 1.5;\"/><line style=\"stroke: #000000; stroke-width: 1.5;\" x1=\"243\" x2=\"274\" y1=\"71.2969\" y2=\"71.2969\"/><text fill=\"#000000\" font-family=\"sans-serif\" font-size=\"14\" font-weight=\"bold\" lengthAdjust=\"spacingAndGlyphs\" textLength=\"18\" x=\"247\" y=\"63.9951\">P4</text></a><!--MD5=[270fce915f116d4de14055a7c1d9a0f3]\n",
       "class E5--><a href=\"psysml:99b80f3a-0072-46fe-b843-b9a836066a51\" target=\"_top\" title=\"psysml:99b80f3a-0072-46fe-b843-b9a836066a51\" xlink:actuate=\"onRequest\" xlink:href=\"psysml:99b80f3a-0072-46fe-b843-b9a836066a51\" xlink:show=\"new\" xlink:title=\"psysml:99b80f3a-0072-46fe-b843-b9a836066a51\" xlink:type=\"simple\"><rect fill=\"#FFFFFF\" height=\"45.9375\" id=\"E5\" rx=\"10\" ry=\"10\" style=\"stroke: #383838; stroke-width: 1.5;\" width=\"42\" x=\"182\" y=\"84\"/><text fill=\"#000000\" font-family=\"sans-serif\" font-size=\"12\" font-style=\"italic\" lengthAdjust=\"spacingAndGlyphs\" textLength=\"40\" x=\"183\" y=\"100.1387\">«part»</text><text fill=\"#000000\" font-family=\"sans-serif\" font-size=\"12\" lengthAdjust=\"spacingAndGlyphs\" textLength=\"22\" x=\"190\" y=\"114.1074\">x: A</text><line style=\"stroke: #383838; stroke-width: 1.5;\" x1=\"183\" x2=\"223\" y1=\"121.9375\" y2=\"121.9375\"/></a><!--MD5=[b9389687b975829384b498ac4b7476b2]\n",
       "class E8--><a href=\"psysml:a38466df-faf8-4af5-a290-fb7428072c5f\" target=\"_top\" title=\"psysml:a38466df-faf8-4af5-a290-fb7428072c5f\" xlink:actuate=\"onRequest\" xlink:href=\"psysml:a38466df-faf8-4af5-a290-fb7428072c5f\" xlink:show=\"new\" xlink:title=\"psysml:a38466df-faf8-4af5-a290-fb7428072c5f\" xlink:type=\"simple\"><rect fill=\"#FFFFFF\" height=\"45.9375\" id=\"E8\" rx=\"10\" ry=\"10\" style=\"stroke: #383838; stroke-width: 1.5;\" width=\"42\" x=\"105\" y=\"84\"/><text fill=\"#000000\" font-family=\"sans-serif\" font-size=\"12\" font-style=\"italic\" lengthAdjust=\"spacingAndGlyphs\" textLength=\"40\" x=\"106\" y=\"100.1387\">«part»</text><text fill=\"#000000\" font-family=\"sans-serif\" font-size=\"12\" lengthAdjust=\"spacingAndGlyphs\" textLength=\"21\" x=\"113.5\" y=\"114.1074\">z: B</text><line style=\"stroke: #383838; stroke-width: 1.5;\" x1=\"106\" x2=\"146\" y1=\"121.9375\" y2=\"121.9375\"/></a><!--MD5=[09b614a08d8cba4a07c9adeb5e0fee81]\n",
       "class E3--><a href=\"psysml:0a0c0374-c89d-44f1-8ff3-be2f7c1a5b8f\" target=\"_top\" title=\"psysml:0a0c0374-c89d-44f1-8ff3-be2f7c1a5b8f\" xlink:actuate=\"onRequest\" xlink:href=\"psysml:0a0c0374-c89d-44f1-8ff3-be2f7c1a5b8f\" xlink:show=\"new\" xlink:title=\"psysml:0a0c0374-c89d-44f1-8ff3-be2f7c1a5b8f\" xlink:type=\"simple\"><rect fill=\"#FFFFFF\" height=\"45.9375\" id=\"E3\" style=\"stroke: #383838; stroke-width: 1.5;\" width=\"70\" x=\"224\" y=\"205\"/><text fill=\"#000000\" font-family=\"sans-serif\" font-size=\"12\" font-style=\"italic\" lengthAdjust=\"spacingAndGlyphs\" textLength=\"68\" x=\"225\" y=\"221.1387\">«part  def»</text><text fill=\"#000000\" font-family=\"sans-serif\" font-size=\"12\" lengthAdjust=\"spacingAndGlyphs\" textLength=\"8\" x=\"255\" y=\"235.1074\">A</text><line style=\"stroke: #383838; stroke-width: 1.5;\" x1=\"225\" x2=\"293\" y1=\"242.9375\" y2=\"242.9375\"/></a><a href=\"psysml:9b62d657-9794-4032-9fa2-9f176e634d4a\" target=\"_top\" title=\"psysml:9b62d657-9794-4032-9fa2-9f176e634d4a\" xlink:actuate=\"onRequest\" xlink:href=\"psysml:9b62d657-9794-4032-9fa2-9f176e634d4a\" xlink:show=\"new\" xlink:title=\"psysml:9b62d657-9794-4032-9fa2-9f176e634d4a\" xlink:type=\"simple\"><polygon fill=\"#FFFFFF\" points=\"32,80.5,56,80.5,63,102.7969,70,102.7969,70,133.0938,32,133.0938,32,80.5\" style=\"stroke: #000000; stroke-width: 1.5;\"/><line style=\"stroke: #000000; stroke-width: 1.5;\" x1=\"32\" x2=\"63\" y1=\"102.7969\" y2=\"102.7969\"/><text fill=\"#000000\" font-family=\"sans-serif\" font-size=\"14\" font-weight=\"bold\" lengthAdjust=\"spacingAndGlyphs\" textLength=\"18\" x=\"36\" y=\"95.4951\">P2</text></a><!--MD5=[2156ba9850f5573cc1fc38a6a4b2f02b]\n",
       "class E7--><a href=\"psysml:af99adbc-0034-4f7c-9fbe-52493ca28392\" target=\"_top\" title=\"psysml:af99adbc-0034-4f7c-9fbe-52493ca28392\" xlink:actuate=\"onRequest\" xlink:href=\"psysml:af99adbc-0034-4f7c-9fbe-52493ca28392\" xlink:show=\"new\" xlink:title=\"psysml:af99adbc-0034-4f7c-9fbe-52493ca28392\" xlink:type=\"simple\"><rect fill=\"#FFFFFF\" height=\"45.9375\" id=\"E7\" style=\"stroke: #383838; stroke-width: 1.5;\" width=\"70\" x=\"91\" y=\"205\"/><text fill=\"#000000\" font-family=\"sans-serif\" font-size=\"12\" font-style=\"italic\" lengthAdjust=\"spacingAndGlyphs\" textLength=\"68\" x=\"92\" y=\"221.1387\">«part  def»</text><text fill=\"#000000\" font-family=\"sans-serif\" font-size=\"12\" lengthAdjust=\"spacingAndGlyphs\" textLength=\"8\" x=\"122\" y=\"235.1074\">B</text><line style=\"stroke: #383838; stroke-width: 1.5;\" x1=\"92\" x2=\"160\" y1=\"242.9375\" y2=\"242.9375\"/></a><!--MD5=[96f4274e9e20536e775497830990834d]\n",
       "class E10--><a href=\"psysml:d7dc5bce-b37d-4e4e-a49c-d44e6595ca7b\" target=\"_top\" title=\"psysml:d7dc5bce-b37d-4e4e-a49c-d44e6595ca7b\" xlink:actuate=\"onRequest\" xlink:href=\"psysml:d7dc5bce-b37d-4e4e-a49c-d44e6595ca7b\" xlink:show=\"new\" xlink:title=\"psysml:d7dc5bce-b37d-4e4e-a49c-d44e6595ca7b\" xlink:type=\"simple\"><rect fill=\"#FFFFFF\" height=\"45.9375\" id=\"E10\" rx=\"10\" ry=\"10\" style=\"stroke: #383838; stroke-width: 1.5;\" width=\"42\" x=\"259\" y=\"84\"/><text fill=\"#000000\" font-family=\"sans-serif\" font-size=\"12\" font-style=\"italic\" lengthAdjust=\"spacingAndGlyphs\" textLength=\"40\" x=\"260\" y=\"100.1387\">«part»</text><text fill=\"#000000\" font-family=\"sans-serif\" font-size=\"12\" lengthAdjust=\"spacingAndGlyphs\" textLength=\"29\" x=\"263.5\" y=\"114.1074\">z1: A</text><line style=\"stroke: #383838; stroke-width: 1.5;\" x1=\"260\" x2=\"300\" y1=\"121.9375\" y2=\"121.9375\"/></a><!--MD5=[e9be52314489bd878ff4c7144b63c9e1]\n",
       "link E5 to E3--><a href=\"psysml:2e6435ee-ec1e-47e4-8fad-fb77072556f4\" target=\"_top\" title=\"psysml:2e6435ee-ec1e-47e4-8fad-fb77072556f4\" xlink:actuate=\"onRequest\" xlink:href=\"psysml:2e6435ee-ec1e-47e4-8fad-fb77072556f4\" xlink:show=\"new\" xlink:title=\"psysml:2e6435ee-ec1e-47e4-8fad-fb77072556f4\" xlink:type=\"simple\"><path d=\"M213.4,130.1 C220.82,145.87 231.01,167.52 239.88,186.36 \" fill=\"none\" id=\"E5-&gt;E3\" style=\"stroke: #383838; stroke-width: 1.0;\"/><polygon fill=\"#FFFFFF\" points=\"248.46,204.61,234.0383,190.3968,246.7067,184.4376,248.46,204.61\" style=\"stroke: #383838; stroke-width: 1.0;\"/><ellipse cx=\"233.4218\" cy=\"184.3877\" fill=\"#383838\" rx=\"2\" ry=\"2\" style=\"stroke: #383838; stroke-width: 1.0;\"/><ellipse cx=\"242.4706\" cy=\"180.1311\" fill=\"#383838\" rx=\"2\" ry=\"2\" style=\"stroke: #383838; stroke-width: 1.0;\"/></a><!--MD5=[bfa3c8b0d15052fdf50ae9310b491027]\n",
       "link E8 to E7--><a href=\"psysml:f11bc7c0-c938-426a-87a4-76c9b47cac7e\" target=\"_top\" title=\"psysml:f11bc7c0-c938-426a-87a4-76c9b47cac7e\" xlink:actuate=\"onRequest\" xlink:href=\"psysml:f11bc7c0-c938-426a-87a4-76c9b47cac7e\" xlink:show=\"new\" xlink:title=\"psysml:f11bc7c0-c938-426a-87a4-76c9b47cac7e\" xlink:type=\"simple\"><path d=\"M126,130.1 C126,145.37 126,166.16 126,184.57 \" fill=\"none\" id=\"E8-&gt;E7\" style=\"stroke: #383838; stroke-width: 1.0;\"/><polygon fill=\"#FFFFFF\" points=\"126,204.61,119,185.61,133,185.61,126,204.61\" style=\"stroke: #383838; stroke-width: 1.0;\"/><ellipse cx=\"121\" cy=\"179.91\" fill=\"#383838\" rx=\"2\" ry=\"2\" style=\"stroke: #383838; stroke-width: 1.0;\"/><ellipse cx=\"131\" cy=\"179.91\" fill=\"#383838\" rx=\"2\" ry=\"2\" style=\"stroke: #383838; stroke-width: 1.0;\"/></a><!--MD5=[feeac5eb423634930294aa81f2d25a4c]\n",
       "link E10 to E3--><a href=\"psysml:21a673ac-f9f6-428c-a165-60ea4300f397\" target=\"_top\" title=\"psysml:21a673ac-f9f6-428c-a165-60ea4300f397\" xlink:actuate=\"onRequest\" xlink:href=\"psysml:21a673ac-f9f6-428c-a165-60ea4300f397\" xlink:show=\"new\" xlink:title=\"psysml:21a673ac-f9f6-428c-a165-60ea4300f397\" xlink:type=\"simple\"><path d=\"M276.1,130.1 C273.39,145.45 269.7,166.39 266.44,184.87 \" fill=\"none\" id=\"E10-&gt;E3\" style=\"stroke: #383838; stroke-width: 1.0;\"/><polygon fill=\"#FFFFFF\" points=\"262.95,204.61,259.3535,184.6835,273.1411,187.1131,262.95,204.61\" style=\"stroke: #383838; stroke-width: 1.0;\"/><ellipse cx=\"262.3123\" cy=\"179.4171\" fill=\"#383838\" rx=\"2\" ry=\"2\" style=\"stroke: #383838; stroke-width: 1.0;\"/><ellipse cx=\"272.1606\" cy=\"181.1525\" fill=\"#383838\" rx=\"2\" ry=\"2\" style=\"stroke: #383838; stroke-width: 1.0;\"/></a><!--MD5=[ae72928886cc98434e4981fd85699e34]\n",
       "@startuml\r\n",
       "skinparam linetype polyline\r\n",
       "skinparam monochrome true\r\n",
       "skinparam classbackgroundcolor white\r\n",
       "skinparam shadowing false\r\n",
       "skinparam wrapWidth 300\r\n",
       "hide circle\r\n",
       "\r\n",
       "package \"PrivateImportTest\" as E1  [[psysml:2415ca44-1de1-4a98-b3f0-a39d5285a5bd ]]  {\r\n",
       "package \"P1\" as E2  [[psysml:426e250f-8977-4e89-b166-3835fc91b530 ]]  {\r\n",
       "comp def \"A\" as E3  <<(T,blue) part  def>> [[psysml:0a0c0374-c89d-44f1-8ff3-be2f7c1a5b8f ]] {\r\n",
       "}\r\n",
       "}\r\n",
       "package \"P2\" as E4  [[psysml:9b62d657-9794-4032-9fa2-9f176e634d4a ]]  {\r\n",
       "}\r\n",
       "comp usage \"x: A \" as E5  <<(T,blue) part>> [[psysml:99b80f3a-0072-46fe-b843-b9a836066a51 ]] {\r\n",
       "}\r\n",
       "package \"P3\" as E6  [[psysml:fe85458f-8707-492f-a6ea-e7b6b29e5b91 ]]  {\r\n",
       "comp def \"B\" as E7  <<(T,blue) part  def>> [[psysml:af99adbc-0034-4f7c-9fbe-52493ca28392 ]] {\r\n",
       "}\r\n",
       "}\r\n",
       "comp usage \"z: B \" as E8  <<(T,blue) part>> [[psysml:a38466df-faf8-4af5-a290-fb7428072c5f ]] {\r\n",
       "}\r\n",
       "package \"P4\" as E9  [[psysml:77a03853-3516-49bc-9a88-c5db4c10002c ]]  {\r\n",
       "comp usage \"z1: A \" as E10  <<(T,blue) part>> [[psysml:d7dc5bce-b37d-4e4e-a49c-d44e6595ca7b ]] {\r\n",
       "}\r\n",
       "}\r\n",
       "}\r\n",
       "E5 - -:|> E3 [[psysml:2e6435ee-ec1e-47e4-8fad-fb77072556f4 ]] \r\n",
       "E8 - -:|> E7 [[psysml:f11bc7c0-c938-426a-87a4-76c9b47cac7e ]] \r\n",
       "E10 - -:|> E3 [[psysml:21a673ac-f9f6-428c-a165-60ea4300f397 ]] \r\n",
       "@enduml\r\n",
       "\n",
       "PlantUML version 1.2020.13(Sat Jun 13 12:26:38 UTC 2020)\n",
       "(EPL source distribution)\n",
       "Java Runtime: OpenJDK Runtime Environment\n",
       "JVM: OpenJDK 64-Bit Server VM\n",
       "Default Encoding: UTF-8\n",
       "Language: en\n",
       "Country: null\n",
       "--></g></svg>"
      ]
     },
     "execution_count": 15,
     "metadata": {},
     "output_type": "execute_result"
    }
   ],
   "source": [
    "%viz --style=\"POLYLINE\" --view=\"MIXED\" \"PrivateImportTest\""
   ]
  },
  {
   "cell_type": "code",
   "execution_count": 16,
   "id": "d3a16e3f",
   "metadata": {
    "execution": {
     "iopub.execute_input": "2021-10-25T08:22:21.037288Z",
     "iopub.status.busy": "2021-10-25T08:22:21.036629Z",
     "iopub.status.idle": "2021-10-25T08:22:21.083266Z",
     "shell.execute_reply": "2021-10-25T08:22:21.082891Z"
    }
   },
   "outputs": [
    {
     "data": {
      "image/svg+xml": [
       "<?xml version=\"1.0\" encoding=\"UTF-8\" standalone=\"no\"?><svg xmlns=\"http://www.w3.org/2000/svg\" xmlns:xlink=\"http://www.w3.org/1999/xlink\" contentScriptType=\"application/ecmascript\" contentStyleType=\"text/css\" height=\"409px\" preserveAspectRatio=\"none\" style=\"width:290px;height:409px;\" version=\"1.1\" viewBox=\"0 0 290 409\" width=\"290px\" zoomAndPan=\"magnify\"><defs/><g><!--MD5=[fbc87193dbaf4d95561dea2c320d4a47]\n",
       "cluster E1--><a href=\"psysml:2415ca44-1de1-4a98-b3f0-a39d5285a5bd\" target=\"_top\" title=\"psysml:2415ca44-1de1-4a98-b3f0-a39d5285a5bd\" xlink:actuate=\"onRequest\" xlink:href=\"psysml:2415ca44-1de1-4a98-b3f0-a39d5285a5bd\" xlink:show=\"new\" xlink:title=\"psysml:2415ca44-1de1-4a98-b3f0-a39d5285a5bd\" xlink:type=\"simple\"><polygon fill=\"#FFFFFF\" points=\"16,6,143,6,150,28.2969,268,28.2969,268,397,16,397,16,6\" style=\"stroke: #000000; stroke-width: 1.5;\"/><line style=\"stroke: #000000; stroke-width: 1.5;\" x1=\"16\" x2=\"150\" y1=\"28.2969\" y2=\"28.2969\"/><text fill=\"#000000\" font-family=\"sans-serif\" font-size=\"14\" font-weight=\"bold\" lengthAdjust=\"spacingAndGlyphs\" textLength=\"121\" x=\"20\" y=\"20.9951\">PrivateImportTest</text></a><!--MD5=[e4f7fae6ed58524ba242bb0b0d3be6b7]\n",
       "cluster E2--><a href=\"psysml:426e250f-8977-4e89-b166-3835fc91b530\" target=\"_top\" title=\"psysml:426e250f-8977-4e89-b166-3835fc91b530\" xlink:actuate=\"onRequest\" xlink:href=\"psysml:426e250f-8977-4e89-b166-3835fc91b530\" xlink:show=\"new\" xlink:title=\"psysml:426e250f-8977-4e89-b166-3835fc91b530\" xlink:type=\"simple\"><polygon fill=\"#FFFFFF\" points=\"142,70,166,70,173,92.2969,244,92.2969,244,167,142,167,142,70\" style=\"stroke: #000000; stroke-width: 1.5;\"/><line style=\"stroke: #000000; stroke-width: 1.5;\" x1=\"142\" x2=\"173\" y1=\"92.2969\" y2=\"92.2969\"/><text fill=\"#000000\" font-family=\"sans-serif\" font-size=\"14\" font-weight=\"bold\" lengthAdjust=\"spacingAndGlyphs\" textLength=\"18\" x=\"146\" y=\"84.9951\">P1</text></a><!--MD5=[14e3b0961a2654348d326746436168a1]\n",
       "cluster E6--><a href=\"psysml:fe85458f-8707-492f-a6ea-e7b6b29e5b91\" target=\"_top\" title=\"psysml:fe85458f-8707-492f-a6ea-e7b6b29e5b91\" xlink:actuate=\"onRequest\" xlink:href=\"psysml:fe85458f-8707-492f-a6ea-e7b6b29e5b91\" xlink:show=\"new\" xlink:title=\"psysml:fe85458f-8707-492f-a6ea-e7b6b29e5b91\" xlink:type=\"simple\"><polygon fill=\"#FFFFFF\" points=\"142,211,166,211,173,233.2969,244,233.2969,244,308,142,308,142,211\" style=\"stroke: #000000; stroke-width: 1.5;\"/><line style=\"stroke: #000000; stroke-width: 1.5;\" x1=\"142\" x2=\"173\" y1=\"233.2969\" y2=\"233.2969\"/><text fill=\"#000000\" font-family=\"sans-serif\" font-size=\"14\" font-weight=\"bold\" lengthAdjust=\"spacingAndGlyphs\" textLength=\"18\" x=\"146\" y=\"225.9951\">P3</text></a><!--MD5=[7f149f147074ac12df2cb0a7728a5fb0]\n",
       "cluster E9--><a href=\"psysml:77a03853-3516-49bc-9a88-c5db4c10002c\" target=\"_top\" title=\"psysml:77a03853-3516-49bc-9a88-c5db4c10002c\" xlink:actuate=\"onRequest\" xlink:href=\"psysml:77a03853-3516-49bc-9a88-c5db4c10002c\" xlink:show=\"new\" xlink:title=\"psysml:77a03853-3516-49bc-9a88-c5db4c10002c\" xlink:type=\"simple\"><polygon fill=\"#FFFFFF\" points=\"40,49,64,49,71,71.2969,114,71.2969,114,146,40,146,40,49\" style=\"stroke: #000000; stroke-width: 1.5;\"/><line style=\"stroke: #000000; stroke-width: 1.5;\" x1=\"40\" x2=\"71\" y1=\"71.2969\" y2=\"71.2969\"/><text fill=\"#000000\" font-family=\"sans-serif\" font-size=\"14\" font-weight=\"bold\" lengthAdjust=\"spacingAndGlyphs\" textLength=\"18\" x=\"44\" y=\"63.9951\">P4</text></a><!--MD5=[270fce915f116d4de14055a7c1d9a0f3]\n",
       "class E5--><a href=\"psysml:99b80f3a-0072-46fe-b843-b9a836066a51\" target=\"_top\" title=\"psysml:99b80f3a-0072-46fe-b843-b9a836066a51\" xlink:actuate=\"onRequest\" xlink:href=\"psysml:99b80f3a-0072-46fe-b843-b9a836066a51\" xlink:show=\"new\" xlink:title=\"psysml:99b80f3a-0072-46fe-b843-b9a836066a51\" xlink:type=\"simple\"><rect fill=\"#FFFFFF\" height=\"45.9375\" id=\"E5\" rx=\"10\" ry=\"10\" style=\"stroke: #383838; stroke-width: 1.5;\" width=\"42\" x=\"56\" y=\"165\"/><text fill=\"#000000\" font-family=\"sans-serif\" font-size=\"12\" font-style=\"italic\" lengthAdjust=\"spacingAndGlyphs\" textLength=\"40\" x=\"57\" y=\"181.1387\">«part»</text><text fill=\"#000000\" font-family=\"sans-serif\" font-size=\"12\" lengthAdjust=\"spacingAndGlyphs\" textLength=\"22\" x=\"64\" y=\"195.1074\">x: A</text><line style=\"stroke: #383838; stroke-width: 1.5;\" x1=\"57\" x2=\"97\" y1=\"202.9375\" y2=\"202.9375\"/></a><!--MD5=[b9389687b975829384b498ac4b7476b2]\n",
       "class E8--><a href=\"psysml:a38466df-faf8-4af5-a290-fb7428072c5f\" target=\"_top\" title=\"psysml:a38466df-faf8-4af5-a290-fb7428072c5f\" xlink:actuate=\"onRequest\" xlink:href=\"psysml:a38466df-faf8-4af5-a290-fb7428072c5f\" xlink:show=\"new\" xlink:title=\"psysml:a38466df-faf8-4af5-a290-fb7428072c5f\" xlink:type=\"simple\"><rect fill=\"#FFFFFF\" height=\"45.9375\" id=\"E8\" rx=\"10\" ry=\"10\" style=\"stroke: #383838; stroke-width: 1.5;\" width=\"42\" x=\"56\" y=\"246\"/><text fill=\"#000000\" font-family=\"sans-serif\" font-size=\"12\" font-style=\"italic\" lengthAdjust=\"spacingAndGlyphs\" textLength=\"40\" x=\"57\" y=\"262.1387\">«part»</text><text fill=\"#000000\" font-family=\"sans-serif\" font-size=\"12\" lengthAdjust=\"spacingAndGlyphs\" textLength=\"21\" x=\"64.5\" y=\"276.1074\">z: B</text><line style=\"stroke: #383838; stroke-width: 1.5;\" x1=\"57\" x2=\"97\" y1=\"283.9375\" y2=\"283.9375\"/></a><!--MD5=[09b614a08d8cba4a07c9adeb5e0fee81]\n",
       "class E3--><a href=\"psysml:0a0c0374-c89d-44f1-8ff3-be2f7c1a5b8f\" target=\"_top\" title=\"psysml:0a0c0374-c89d-44f1-8ff3-be2f7c1a5b8f\" xlink:actuate=\"onRequest\" xlink:href=\"psysml:0a0c0374-c89d-44f1-8ff3-be2f7c1a5b8f\" xlink:show=\"new\" xlink:title=\"psysml:0a0c0374-c89d-44f1-8ff3-be2f7c1a5b8f\" xlink:type=\"simple\"><rect fill=\"#FFFFFF\" height=\"45.9375\" id=\"E3\" style=\"stroke: #383838; stroke-width: 1.5;\" width=\"70\" x=\"158\" y=\"105\"/><text fill=\"#000000\" font-family=\"sans-serif\" font-size=\"12\" font-style=\"italic\" lengthAdjust=\"spacingAndGlyphs\" textLength=\"68\" x=\"159\" y=\"121.1387\">«part  def»</text><text fill=\"#000000\" font-family=\"sans-serif\" font-size=\"12\" lengthAdjust=\"spacingAndGlyphs\" textLength=\"8\" x=\"189\" y=\"135.1074\">A</text><line style=\"stroke: #383838; stroke-width: 1.5;\" x1=\"159\" x2=\"227\" y1=\"142.9375\" y2=\"142.9375\"/></a><a href=\"psysml:9b62d657-9794-4032-9fa2-9f176e634d4a\" target=\"_top\" title=\"psysml:9b62d657-9794-4032-9fa2-9f176e634d4a\" xlink:actuate=\"onRequest\" xlink:href=\"psysml:9b62d657-9794-4032-9fa2-9f176e634d4a\" xlink:show=\"new\" xlink:title=\"psysml:9b62d657-9794-4032-9fa2-9f176e634d4a\" xlink:type=\"simple\"><polygon fill=\"#FFFFFF\" points=\"58,327.5,82,327.5,89,349.7969,96,349.7969,96,380.0938,58,380.0938,58,327.5\" style=\"stroke: #000000; stroke-width: 1.5;\"/><line style=\"stroke: #000000; stroke-width: 1.5;\" x1=\"58\" x2=\"89\" y1=\"349.7969\" y2=\"349.7969\"/><text fill=\"#000000\" font-family=\"sans-serif\" font-size=\"14\" font-weight=\"bold\" lengthAdjust=\"spacingAndGlyphs\" textLength=\"18\" x=\"62\" y=\"342.4951\">P2</text></a><!--MD5=[2156ba9850f5573cc1fc38a6a4b2f02b]\n",
       "class E7--><a href=\"psysml:af99adbc-0034-4f7c-9fbe-52493ca28392\" target=\"_top\" title=\"psysml:af99adbc-0034-4f7c-9fbe-52493ca28392\" xlink:actuate=\"onRequest\" xlink:href=\"psysml:af99adbc-0034-4f7c-9fbe-52493ca28392\" xlink:show=\"new\" xlink:title=\"psysml:af99adbc-0034-4f7c-9fbe-52493ca28392\" xlink:type=\"simple\"><rect fill=\"#FFFFFF\" height=\"45.9375\" id=\"E7\" style=\"stroke: #383838; stroke-width: 1.5;\" width=\"70\" x=\"158\" y=\"246\"/><text fill=\"#000000\" font-family=\"sans-serif\" font-size=\"12\" font-style=\"italic\" lengthAdjust=\"spacingAndGlyphs\" textLength=\"68\" x=\"159\" y=\"262.1387\">«part  def»</text><text fill=\"#000000\" font-family=\"sans-serif\" font-size=\"12\" lengthAdjust=\"spacingAndGlyphs\" textLength=\"8\" x=\"189\" y=\"276.1074\">B</text><line style=\"stroke: #383838; stroke-width: 1.5;\" x1=\"159\" x2=\"227\" y1=\"283.9375\" y2=\"283.9375\"/></a><!--MD5=[96f4274e9e20536e775497830990834d]\n",
       "class E10--><a href=\"psysml:d7dc5bce-b37d-4e4e-a49c-d44e6595ca7b\" target=\"_top\" title=\"psysml:d7dc5bce-b37d-4e4e-a49c-d44e6595ca7b\" xlink:actuate=\"onRequest\" xlink:href=\"psysml:d7dc5bce-b37d-4e4e-a49c-d44e6595ca7b\" xlink:show=\"new\" xlink:title=\"psysml:d7dc5bce-b37d-4e4e-a49c-d44e6595ca7b\" xlink:type=\"simple\"><rect fill=\"#FFFFFF\" height=\"45.9375\" id=\"E10\" rx=\"10\" ry=\"10\" style=\"stroke: #383838; stroke-width: 1.5;\" width=\"42\" x=\"56\" y=\"84\"/><text fill=\"#000000\" font-family=\"sans-serif\" font-size=\"12\" font-style=\"italic\" lengthAdjust=\"spacingAndGlyphs\" textLength=\"40\" x=\"57\" y=\"100.1387\">«part»</text><text fill=\"#000000\" font-family=\"sans-serif\" font-size=\"12\" lengthAdjust=\"spacingAndGlyphs\" textLength=\"29\" x=\"60.5\" y=\"114.1074\">z1: A</text><line style=\"stroke: #383838; stroke-width: 1.5;\" x1=\"57\" x2=\"97\" y1=\"121.9375\" y2=\"121.9375\"/></a><!--MD5=[e9be52314489bd878ff4c7144b63c9e1]\n",
       "link E5 to E3--><a href=\"psysml:2e6435ee-ec1e-47e4-8fad-fb77072556f4\" target=\"_top\" title=\"psysml:2e6435ee-ec1e-47e4-8fad-fb77072556f4\" xlink:actuate=\"onRequest\" xlink:href=\"psysml:2e6435ee-ec1e-47e4-8fad-fb77072556f4\" xlink:show=\"new\" xlink:title=\"psysml:2e6435ee-ec1e-47e4-8fad-fb77072556f4\" xlink:type=\"simple\"><path d=\"M98.12,177.41 C109.71,171.31 124.88,163.33 139.63,155.57 \" fill=\"none\" id=\"E5-&gt;E3\" style=\"stroke: #383838; stroke-width: 1.0;\"/><polygon fill=\"#FFFFFF\" points=\"157.79,146.01,144.2358,161.0527,137.7162,148.6634,157.79,146.01\" style=\"stroke: #383838; stroke-width: 1.0;\"/><ellipse cx=\"138.2602\" cy=\"161.9372\" fill=\"#383838\" rx=\"2\" ry=\"2\" style=\"stroke: #383838; stroke-width: 1.0;\"/><ellipse cx=\"133.6033\" cy=\"153.0877\" fill=\"#383838\" rx=\"2\" ry=\"2\" style=\"stroke: #383838; stroke-width: 1.0;\"/></a><!--MD5=[bfa3c8b0d15052fdf50ae9310b491027]\n",
       "link E8 to E7--><a href=\"psysml:f11bc7c0-c938-426a-87a4-76c9b47cac7e\" target=\"_top\" title=\"psysml:f11bc7c0-c938-426a-87a4-76c9b47cac7e\" xlink:actuate=\"onRequest\" xlink:href=\"psysml:f11bc7c0-c938-426a-87a4-76c9b47cac7e\" xlink:show=\"new\" xlink:title=\"psysml:f11bc7c0-c938-426a-87a4-76c9b47cac7e\" xlink:type=\"simple\"><path d=\"M98.12,269 C109.2,269 123.54,269 137.66,269 \" fill=\"none\" id=\"E8-&gt;E7\" style=\"stroke: #383838; stroke-width: 1.0;\"/><polygon fill=\"#FFFFFF\" points=\"157.79,269,138.79,276,138.79,262,157.79,269\" style=\"stroke: #383838; stroke-width: 1.0;\"/><ellipse cx=\"133.09\" cy=\"274\" fill=\"#383838\" rx=\"2\" ry=\"2\" style=\"stroke: #383838; stroke-width: 1.0;\"/><ellipse cx=\"133.09\" cy=\"264\" fill=\"#383838\" rx=\"2\" ry=\"2\" style=\"stroke: #383838; stroke-width: 1.0;\"/></a><!--MD5=[feeac5eb423634930294aa81f2d25a4c]\n",
       "link E10 to E3--><a href=\"psysml:21a673ac-f9f6-428c-a165-60ea4300f397\" target=\"_top\" title=\"psysml:21a673ac-f9f6-428c-a165-60ea4300f397\" xlink:actuate=\"onRequest\" xlink:href=\"psysml:21a673ac-f9f6-428c-a165-60ea4300f397\" xlink:show=\"new\" xlink:title=\"psysml:21a673ac-f9f6-428c-a165-60ea4300f397\" xlink:type=\"simple\"><path d=\"M98.12,110.71 C109.2,112.75 123.54,115.39 137.66,117.99 \" fill=\"none\" id=\"E10-&gt;E3\" style=\"stroke: #383838; stroke-width: 1.0;\"/><polygon fill=\"#FFFFFF\" points=\"157.79,121.7,137.8378,125.1513,140.3678,111.3818,157.79,121.7\" style=\"stroke: #383838; stroke-width: 1.0;\"/><ellipse cx=\"132.5931\" cy=\"122.1542\" fill=\"#383838\" rx=\"2\" ry=\"2\" style=\"stroke: #383838; stroke-width: 1.0;\"/><ellipse cx=\"134.4002\" cy=\"112.3188\" fill=\"#383838\" rx=\"2\" ry=\"2\" style=\"stroke: #383838; stroke-width: 1.0;\"/></a><!--MD5=[188c21bdab7bb711c7b2d8963b09987b]\n",
       "@startuml\r\n",
       "left to right direction\r\n",
       "skinparam monochrome true\r\n",
       "skinparam classbackgroundcolor white\r\n",
       "skinparam shadowing false\r\n",
       "skinparam wrapWidth 300\r\n",
       "hide circle\r\n",
       "\r\n",
       "package \"PrivateImportTest\" as E1  [[psysml:2415ca44-1de1-4a98-b3f0-a39d5285a5bd ]]  {\r\n",
       "package \"P1\" as E2  [[psysml:426e250f-8977-4e89-b166-3835fc91b530 ]]  {\r\n",
       "comp def \"A\" as E3  <<(T,blue) part  def>> [[psysml:0a0c0374-c89d-44f1-8ff3-be2f7c1a5b8f ]] {\r\n",
       "}\r\n",
       "}\r\n",
       "package \"P2\" as E4  [[psysml:9b62d657-9794-4032-9fa2-9f176e634d4a ]]  {\r\n",
       "}\r\n",
       "comp usage \"x: A \" as E5  <<(T,blue) part>> [[psysml:99b80f3a-0072-46fe-b843-b9a836066a51 ]] {\r\n",
       "}\r\n",
       "package \"P3\" as E6  [[psysml:fe85458f-8707-492f-a6ea-e7b6b29e5b91 ]]  {\r\n",
       "comp def \"B\" as E7  <<(T,blue) part  def>> [[psysml:af99adbc-0034-4f7c-9fbe-52493ca28392 ]] {\r\n",
       "}\r\n",
       "}\r\n",
       "comp usage \"z: B \" as E8  <<(T,blue) part>> [[psysml:a38466df-faf8-4af5-a290-fb7428072c5f ]] {\r\n",
       "}\r\n",
       "package \"P4\" as E9  [[psysml:77a03853-3516-49bc-9a88-c5db4c10002c ]]  {\r\n",
       "comp usage \"z1: A \" as E10  <<(T,blue) part>> [[psysml:d7dc5bce-b37d-4e4e-a49c-d44e6595ca7b ]] {\r\n",
       "}\r\n",
       "}\r\n",
       "}\r\n",
       "E5 - -:|> E3 [[psysml:2e6435ee-ec1e-47e4-8fad-fb77072556f4 ]] \r\n",
       "E8 - -:|> E7 [[psysml:f11bc7c0-c938-426a-87a4-76c9b47cac7e ]] \r\n",
       "E10 - -:|> E3 [[psysml:21a673ac-f9f6-428c-a165-60ea4300f397 ]] \r\n",
       "@enduml\r\n",
       "\n",
       "PlantUML version 1.2020.13(Sat Jun 13 12:26:38 UTC 2020)\n",
       "(EPL source distribution)\n",
       "Java Runtime: OpenJDK Runtime Environment\n",
       "JVM: OpenJDK 64-Bit Server VM\n",
       "Default Encoding: UTF-8\n",
       "Language: en\n",
       "Country: null\n",
       "--></g></svg>"
      ]
     },
     "execution_count": 16,
     "metadata": {},
     "output_type": "execute_result"
    }
   ],
   "source": [
    "%viz --style=\"LR\" --view=\"Default\" \"PrivateImportTest\""
   ]
  },
  {
   "cell_type": "code",
   "execution_count": 17,
   "id": "85d13c9e",
   "metadata": {
    "execution": {
     "iopub.execute_input": "2021-10-25T08:22:21.133074Z",
     "iopub.status.busy": "2021-10-25T08:22:21.132544Z",
     "iopub.status.idle": "2021-10-25T08:22:21.176175Z",
     "shell.execute_reply": "2021-10-25T08:22:21.175804Z"
    }
   },
   "outputs": [
    {
     "data": {
      "image/svg+xml": [
       "<?xml version=\"1.0\" encoding=\"UTF-8\" standalone=\"no\"?><svg xmlns=\"http://www.w3.org/2000/svg\" xmlns:xlink=\"http://www.w3.org/1999/xlink\" contentScriptType=\"application/ecmascript\" contentStyleType=\"text/css\" height=\"409px\" preserveAspectRatio=\"none\" style=\"width:290px;height:409px;\" version=\"1.1\" viewBox=\"0 0 290 409\" width=\"290px\" zoomAndPan=\"magnify\"><defs/><g><!--MD5=[fbc87193dbaf4d95561dea2c320d4a47]\n",
       "cluster E1--><a href=\"psysml:2415ca44-1de1-4a98-b3f0-a39d5285a5bd\" target=\"_top\" title=\"psysml:2415ca44-1de1-4a98-b3f0-a39d5285a5bd\" xlink:actuate=\"onRequest\" xlink:href=\"psysml:2415ca44-1de1-4a98-b3f0-a39d5285a5bd\" xlink:show=\"new\" xlink:title=\"psysml:2415ca44-1de1-4a98-b3f0-a39d5285a5bd\" xlink:type=\"simple\"><polygon fill=\"#FFFFFF\" points=\"16,6,143,6,150,28.2969,268,28.2969,268,397,16,397,16,6\" style=\"stroke: #000000; stroke-width: 1.5;\"/><line style=\"stroke: #000000; stroke-width: 1.5;\" x1=\"16\" x2=\"150\" y1=\"28.2969\" y2=\"28.2969\"/><text fill=\"#000000\" font-family=\"sans-serif\" font-size=\"14\" font-weight=\"bold\" lengthAdjust=\"spacingAndGlyphs\" textLength=\"121\" x=\"20\" y=\"20.9951\">PrivateImportTest</text></a><!--MD5=[e4f7fae6ed58524ba242bb0b0d3be6b7]\n",
       "cluster E2--><a href=\"psysml:426e250f-8977-4e89-b166-3835fc91b530\" target=\"_top\" title=\"psysml:426e250f-8977-4e89-b166-3835fc91b530\" xlink:actuate=\"onRequest\" xlink:href=\"psysml:426e250f-8977-4e89-b166-3835fc91b530\" xlink:show=\"new\" xlink:title=\"psysml:426e250f-8977-4e89-b166-3835fc91b530\" xlink:type=\"simple\"><polygon fill=\"#FFFFFF\" points=\"142,70,166,70,173,92.2969,244,92.2969,244,167,142,167,142,70\" style=\"stroke: #000000; stroke-width: 1.5;\"/><line style=\"stroke: #000000; stroke-width: 1.5;\" x1=\"142\" x2=\"173\" y1=\"92.2969\" y2=\"92.2969\"/><text fill=\"#000000\" font-family=\"sans-serif\" font-size=\"14\" font-weight=\"bold\" lengthAdjust=\"spacingAndGlyphs\" textLength=\"18\" x=\"146\" y=\"84.9951\">P1</text></a><!--MD5=[14e3b0961a2654348d326746436168a1]\n",
       "cluster E6--><a href=\"psysml:fe85458f-8707-492f-a6ea-e7b6b29e5b91\" target=\"_top\" title=\"psysml:fe85458f-8707-492f-a6ea-e7b6b29e5b91\" xlink:actuate=\"onRequest\" xlink:href=\"psysml:fe85458f-8707-492f-a6ea-e7b6b29e5b91\" xlink:show=\"new\" xlink:title=\"psysml:fe85458f-8707-492f-a6ea-e7b6b29e5b91\" xlink:type=\"simple\"><polygon fill=\"#FFFFFF\" points=\"142,211,166,211,173,233.2969,244,233.2969,244,308,142,308,142,211\" style=\"stroke: #000000; stroke-width: 1.5;\"/><line style=\"stroke: #000000; stroke-width: 1.5;\" x1=\"142\" x2=\"173\" y1=\"233.2969\" y2=\"233.2969\"/><text fill=\"#000000\" font-family=\"sans-serif\" font-size=\"14\" font-weight=\"bold\" lengthAdjust=\"spacingAndGlyphs\" textLength=\"18\" x=\"146\" y=\"225.9951\">P3</text></a><!--MD5=[7f149f147074ac12df2cb0a7728a5fb0]\n",
       "cluster E9--><a href=\"psysml:77a03853-3516-49bc-9a88-c5db4c10002c\" target=\"_top\" title=\"psysml:77a03853-3516-49bc-9a88-c5db4c10002c\" xlink:actuate=\"onRequest\" xlink:href=\"psysml:77a03853-3516-49bc-9a88-c5db4c10002c\" xlink:show=\"new\" xlink:title=\"psysml:77a03853-3516-49bc-9a88-c5db4c10002c\" xlink:type=\"simple\"><polygon fill=\"#FFFFFF\" points=\"40,49,64,49,71,71.2969,114,71.2969,114,146,40,146,40,49\" style=\"stroke: #000000; stroke-width: 1.5;\"/><line style=\"stroke: #000000; stroke-width: 1.5;\" x1=\"40\" x2=\"71\" y1=\"71.2969\" y2=\"71.2969\"/><text fill=\"#000000\" font-family=\"sans-serif\" font-size=\"14\" font-weight=\"bold\" lengthAdjust=\"spacingAndGlyphs\" textLength=\"18\" x=\"44\" y=\"63.9951\">P4</text></a><!--MD5=[270fce915f116d4de14055a7c1d9a0f3]\n",
       "class E5--><a href=\"psysml:99b80f3a-0072-46fe-b843-b9a836066a51\" target=\"_top\" title=\"psysml:99b80f3a-0072-46fe-b843-b9a836066a51\" xlink:actuate=\"onRequest\" xlink:href=\"psysml:99b80f3a-0072-46fe-b843-b9a836066a51\" xlink:show=\"new\" xlink:title=\"psysml:99b80f3a-0072-46fe-b843-b9a836066a51\" xlink:type=\"simple\"><rect fill=\"#FFFFFF\" height=\"45.9375\" id=\"E5\" rx=\"10\" ry=\"10\" style=\"stroke: #383838; stroke-width: 1.5;\" width=\"42\" x=\"56\" y=\"165\"/><text fill=\"#000000\" font-family=\"sans-serif\" font-size=\"12\" font-style=\"italic\" lengthAdjust=\"spacingAndGlyphs\" textLength=\"40\" x=\"57\" y=\"181.1387\">«part»</text><text fill=\"#000000\" font-family=\"sans-serif\" font-size=\"12\" lengthAdjust=\"spacingAndGlyphs\" textLength=\"22\" x=\"64\" y=\"195.1074\">x: A</text><line style=\"stroke: #383838; stroke-width: 1.5;\" x1=\"57\" x2=\"97\" y1=\"202.9375\" y2=\"202.9375\"/></a><!--MD5=[b9389687b975829384b498ac4b7476b2]\n",
       "class E8--><a href=\"psysml:a38466df-faf8-4af5-a290-fb7428072c5f\" target=\"_top\" title=\"psysml:a38466df-faf8-4af5-a290-fb7428072c5f\" xlink:actuate=\"onRequest\" xlink:href=\"psysml:a38466df-faf8-4af5-a290-fb7428072c5f\" xlink:show=\"new\" xlink:title=\"psysml:a38466df-faf8-4af5-a290-fb7428072c5f\" xlink:type=\"simple\"><rect fill=\"#FFFFFF\" height=\"45.9375\" id=\"E8\" rx=\"10\" ry=\"10\" style=\"stroke: #383838; stroke-width: 1.5;\" width=\"42\" x=\"56\" y=\"246\"/><text fill=\"#000000\" font-family=\"sans-serif\" font-size=\"12\" font-style=\"italic\" lengthAdjust=\"spacingAndGlyphs\" textLength=\"40\" x=\"57\" y=\"262.1387\">«part»</text><text fill=\"#000000\" font-family=\"sans-serif\" font-size=\"12\" lengthAdjust=\"spacingAndGlyphs\" textLength=\"21\" x=\"64.5\" y=\"276.1074\">z: B</text><line style=\"stroke: #383838; stroke-width: 1.5;\" x1=\"57\" x2=\"97\" y1=\"283.9375\" y2=\"283.9375\"/></a><!--MD5=[09b614a08d8cba4a07c9adeb5e0fee81]\n",
       "class E3--><a href=\"psysml:0a0c0374-c89d-44f1-8ff3-be2f7c1a5b8f\" target=\"_top\" title=\"psysml:0a0c0374-c89d-44f1-8ff3-be2f7c1a5b8f\" xlink:actuate=\"onRequest\" xlink:href=\"psysml:0a0c0374-c89d-44f1-8ff3-be2f7c1a5b8f\" xlink:show=\"new\" xlink:title=\"psysml:0a0c0374-c89d-44f1-8ff3-be2f7c1a5b8f\" xlink:type=\"simple\"><rect fill=\"#FFFFFF\" height=\"45.9375\" id=\"E3\" style=\"stroke: #383838; stroke-width: 1.5;\" width=\"70\" x=\"158\" y=\"105\"/><text fill=\"#000000\" font-family=\"sans-serif\" font-size=\"12\" font-style=\"italic\" lengthAdjust=\"spacingAndGlyphs\" textLength=\"68\" x=\"159\" y=\"121.1387\">«part  def»</text><text fill=\"#000000\" font-family=\"sans-serif\" font-size=\"12\" lengthAdjust=\"spacingAndGlyphs\" textLength=\"8\" x=\"189\" y=\"135.1074\">A</text><line style=\"stroke: #383838; stroke-width: 1.5;\" x1=\"159\" x2=\"227\" y1=\"142.9375\" y2=\"142.9375\"/></a><a href=\"psysml:9b62d657-9794-4032-9fa2-9f176e634d4a\" target=\"_top\" title=\"psysml:9b62d657-9794-4032-9fa2-9f176e634d4a\" xlink:actuate=\"onRequest\" xlink:href=\"psysml:9b62d657-9794-4032-9fa2-9f176e634d4a\" xlink:show=\"new\" xlink:title=\"psysml:9b62d657-9794-4032-9fa2-9f176e634d4a\" xlink:type=\"simple\"><polygon fill=\"#FFFFFF\" points=\"58,327.5,82,327.5,89,349.7969,96,349.7969,96,380.0938,58,380.0938,58,327.5\" style=\"stroke: #000000; stroke-width: 1.5;\"/><line style=\"stroke: #000000; stroke-width: 1.5;\" x1=\"58\" x2=\"89\" y1=\"349.7969\" y2=\"349.7969\"/><text fill=\"#000000\" font-family=\"sans-serif\" font-size=\"14\" font-weight=\"bold\" lengthAdjust=\"spacingAndGlyphs\" textLength=\"18\" x=\"62\" y=\"342.4951\">P2</text></a><!--MD5=[2156ba9850f5573cc1fc38a6a4b2f02b]\n",
       "class E7--><a href=\"psysml:af99adbc-0034-4f7c-9fbe-52493ca28392\" target=\"_top\" title=\"psysml:af99adbc-0034-4f7c-9fbe-52493ca28392\" xlink:actuate=\"onRequest\" xlink:href=\"psysml:af99adbc-0034-4f7c-9fbe-52493ca28392\" xlink:show=\"new\" xlink:title=\"psysml:af99adbc-0034-4f7c-9fbe-52493ca28392\" xlink:type=\"simple\"><rect fill=\"#FFFFFF\" height=\"45.9375\" id=\"E7\" style=\"stroke: #383838; stroke-width: 1.5;\" width=\"70\" x=\"158\" y=\"246\"/><text fill=\"#000000\" font-family=\"sans-serif\" font-size=\"12\" font-style=\"italic\" lengthAdjust=\"spacingAndGlyphs\" textLength=\"68\" x=\"159\" y=\"262.1387\">«part  def»</text><text fill=\"#000000\" font-family=\"sans-serif\" font-size=\"12\" lengthAdjust=\"spacingAndGlyphs\" textLength=\"8\" x=\"189\" y=\"276.1074\">B</text><line style=\"stroke: #383838; stroke-width: 1.5;\" x1=\"159\" x2=\"227\" y1=\"283.9375\" y2=\"283.9375\"/></a><!--MD5=[96f4274e9e20536e775497830990834d]\n",
       "class E10--><a href=\"psysml:d7dc5bce-b37d-4e4e-a49c-d44e6595ca7b\" target=\"_top\" title=\"psysml:d7dc5bce-b37d-4e4e-a49c-d44e6595ca7b\" xlink:actuate=\"onRequest\" xlink:href=\"psysml:d7dc5bce-b37d-4e4e-a49c-d44e6595ca7b\" xlink:show=\"new\" xlink:title=\"psysml:d7dc5bce-b37d-4e4e-a49c-d44e6595ca7b\" xlink:type=\"simple\"><rect fill=\"#FFFFFF\" height=\"45.9375\" id=\"E10\" rx=\"10\" ry=\"10\" style=\"stroke: #383838; stroke-width: 1.5;\" width=\"42\" x=\"56\" y=\"84\"/><text fill=\"#000000\" font-family=\"sans-serif\" font-size=\"12\" font-style=\"italic\" lengthAdjust=\"spacingAndGlyphs\" textLength=\"40\" x=\"57\" y=\"100.1387\">«part»</text><text fill=\"#000000\" font-family=\"sans-serif\" font-size=\"12\" lengthAdjust=\"spacingAndGlyphs\" textLength=\"29\" x=\"60.5\" y=\"114.1074\">z1: A</text><line style=\"stroke: #383838; stroke-width: 1.5;\" x1=\"57\" x2=\"97\" y1=\"121.9375\" y2=\"121.9375\"/></a><!--MD5=[e9be52314489bd878ff4c7144b63c9e1]\n",
       "link E5 to E3--><a href=\"psysml:2e6435ee-ec1e-47e4-8fad-fb77072556f4\" target=\"_top\" title=\"psysml:2e6435ee-ec1e-47e4-8fad-fb77072556f4\" xlink:actuate=\"onRequest\" xlink:href=\"psysml:2e6435ee-ec1e-47e4-8fad-fb77072556f4\" xlink:show=\"new\" xlink:title=\"psysml:2e6435ee-ec1e-47e4-8fad-fb77072556f4\" xlink:type=\"simple\"><path d=\"M98.12,177.41 C109.71,171.31 124.88,163.33 139.63,155.57 \" fill=\"none\" id=\"E5-&gt;E3\" style=\"stroke: #383838; stroke-width: 1.0;\"/><polygon fill=\"#FFFFFF\" points=\"157.79,146.01,144.2358,161.0527,137.7162,148.6634,157.79,146.01\" style=\"stroke: #383838; stroke-width: 1.0;\"/><ellipse cx=\"138.2602\" cy=\"161.9372\" fill=\"#383838\" rx=\"2\" ry=\"2\" style=\"stroke: #383838; stroke-width: 1.0;\"/><ellipse cx=\"133.6033\" cy=\"153.0877\" fill=\"#383838\" rx=\"2\" ry=\"2\" style=\"stroke: #383838; stroke-width: 1.0;\"/></a><!--MD5=[bfa3c8b0d15052fdf50ae9310b491027]\n",
       "link E8 to E7--><a href=\"psysml:f11bc7c0-c938-426a-87a4-76c9b47cac7e\" target=\"_top\" title=\"psysml:f11bc7c0-c938-426a-87a4-76c9b47cac7e\" xlink:actuate=\"onRequest\" xlink:href=\"psysml:f11bc7c0-c938-426a-87a4-76c9b47cac7e\" xlink:show=\"new\" xlink:title=\"psysml:f11bc7c0-c938-426a-87a4-76c9b47cac7e\" xlink:type=\"simple\"><path d=\"M98.12,269 C109.2,269 123.54,269 137.66,269 \" fill=\"none\" id=\"E8-&gt;E7\" style=\"stroke: #383838; stroke-width: 1.0;\"/><polygon fill=\"#FFFFFF\" points=\"157.79,269,138.79,276,138.79,262,157.79,269\" style=\"stroke: #383838; stroke-width: 1.0;\"/><ellipse cx=\"133.09\" cy=\"274\" fill=\"#383838\" rx=\"2\" ry=\"2\" style=\"stroke: #383838; stroke-width: 1.0;\"/><ellipse cx=\"133.09\" cy=\"264\" fill=\"#383838\" rx=\"2\" ry=\"2\" style=\"stroke: #383838; stroke-width: 1.0;\"/></a><!--MD5=[feeac5eb423634930294aa81f2d25a4c]\n",
       "link E10 to E3--><a href=\"psysml:21a673ac-f9f6-428c-a165-60ea4300f397\" target=\"_top\" title=\"psysml:21a673ac-f9f6-428c-a165-60ea4300f397\" xlink:actuate=\"onRequest\" xlink:href=\"psysml:21a673ac-f9f6-428c-a165-60ea4300f397\" xlink:show=\"new\" xlink:title=\"psysml:21a673ac-f9f6-428c-a165-60ea4300f397\" xlink:type=\"simple\"><path d=\"M98.12,110.71 C109.2,112.75 123.54,115.39 137.66,117.99 \" fill=\"none\" id=\"E10-&gt;E3\" style=\"stroke: #383838; stroke-width: 1.0;\"/><polygon fill=\"#FFFFFF\" points=\"157.79,121.7,137.8378,125.1513,140.3678,111.3818,157.79,121.7\" style=\"stroke: #383838; stroke-width: 1.0;\"/><ellipse cx=\"132.5931\" cy=\"122.1542\" fill=\"#383838\" rx=\"2\" ry=\"2\" style=\"stroke: #383838; stroke-width: 1.0;\"/><ellipse cx=\"134.4002\" cy=\"112.3188\" fill=\"#383838\" rx=\"2\" ry=\"2\" style=\"stroke: #383838; stroke-width: 1.0;\"/></a><!--MD5=[188c21bdab7bb711c7b2d8963b09987b]\n",
       "@startuml\r\n",
       "left to right direction\r\n",
       "skinparam monochrome true\r\n",
       "skinparam classbackgroundcolor white\r\n",
       "skinparam shadowing false\r\n",
       "skinparam wrapWidth 300\r\n",
       "hide circle\r\n",
       "\r\n",
       "package \"PrivateImportTest\" as E1  [[psysml:2415ca44-1de1-4a98-b3f0-a39d5285a5bd ]]  {\r\n",
       "package \"P1\" as E2  [[psysml:426e250f-8977-4e89-b166-3835fc91b530 ]]  {\r\n",
       "comp def \"A\" as E3  <<(T,blue) part  def>> [[psysml:0a0c0374-c89d-44f1-8ff3-be2f7c1a5b8f ]] {\r\n",
       "}\r\n",
       "}\r\n",
       "package \"P2\" as E4  [[psysml:9b62d657-9794-4032-9fa2-9f176e634d4a ]]  {\r\n",
       "}\r\n",
       "comp usage \"x: A \" as E5  <<(T,blue) part>> [[psysml:99b80f3a-0072-46fe-b843-b9a836066a51 ]] {\r\n",
       "}\r\n",
       "package \"P3\" as E6  [[psysml:fe85458f-8707-492f-a6ea-e7b6b29e5b91 ]]  {\r\n",
       "comp def \"B\" as E7  <<(T,blue) part  def>> [[psysml:af99adbc-0034-4f7c-9fbe-52493ca28392 ]] {\r\n",
       "}\r\n",
       "}\r\n",
       "comp usage \"z: B \" as E8  <<(T,blue) part>> [[psysml:a38466df-faf8-4af5-a290-fb7428072c5f ]] {\r\n",
       "}\r\n",
       "package \"P4\" as E9  [[psysml:77a03853-3516-49bc-9a88-c5db4c10002c ]]  {\r\n",
       "comp usage \"z1: A \" as E10  <<(T,blue) part>> [[psysml:d7dc5bce-b37d-4e4e-a49c-d44e6595ca7b ]] {\r\n",
       "}\r\n",
       "}\r\n",
       "}\r\n",
       "E5 - -:|> E3 [[psysml:2e6435ee-ec1e-47e4-8fad-fb77072556f4 ]] \r\n",
       "E8 - -:|> E7 [[psysml:f11bc7c0-c938-426a-87a4-76c9b47cac7e ]] \r\n",
       "E10 - -:|> E3 [[psysml:21a673ac-f9f6-428c-a165-60ea4300f397 ]] \r\n",
       "@enduml\r\n",
       "\n",
       "PlantUML version 1.2020.13(Sat Jun 13 12:26:38 UTC 2020)\n",
       "(EPL source distribution)\n",
       "Java Runtime: OpenJDK Runtime Environment\n",
       "JVM: OpenJDK 64-Bit Server VM\n",
       "Default Encoding: UTF-8\n",
       "Language: en\n",
       "Country: null\n",
       "--></g></svg>"
      ]
     },
     "execution_count": 17,
     "metadata": {},
     "output_type": "execute_result"
    }
   ],
   "source": [
    "%viz --style=\"LR\" --view=\"Tree\" \"PrivateImportTest\""
   ]
  },
  {
   "cell_type": "code",
   "execution_count": 18,
   "id": "3ddd8fde",
   "metadata": {
    "execution": {
     "iopub.execute_input": "2021-10-25T08:22:21.225662Z",
     "iopub.status.busy": "2021-10-25T08:22:21.225213Z",
     "iopub.status.idle": "2021-10-25T08:22:21.231808Z",
     "shell.execute_reply": "2021-10-25T08:22:21.232204Z"
    }
   },
   "outputs": [
    {
     "data": {
      "image/svg+xml": [
       "<?xml version=\"1.0\" encoding=\"UTF-8\" standalone=\"no\"?><svg xmlns=\"http://www.w3.org/2000/svg\" xmlns:xlink=\"http://www.w3.org/1999/xlink\" contentScriptType=\"application/ecmascript\" contentStyleType=\"text/css\" height=\"12px\" preserveAspectRatio=\"none\" style=\"width:12px;height:12px;\" version=\"1.1\" viewBox=\"0 0 12 12\" width=\"12px\" zoomAndPan=\"magnify\"><defs/><g><!--MD5=[19d285c9d72a204eba4e2cd117d745e8]\n",
       "@startuml\r\n",
       "left to right direction\r\n",
       "skinparam monochrome true\r\n",
       "skinparam classbackgroundcolor white\r\n",
       "skinparam shadowing false\r\n",
       "skinparam wrapWidth 300\r\n",
       "hide circle\r\n",
       "\r\n",
       "@enduml\r\n",
       "\n",
       "PlantUML version 1.2020.13(Sat Jun 13 12:26:38 UTC 2020)\n",
       "(EPL source distribution)\n",
       "Java Runtime: OpenJDK Runtime Environment\n",
       "JVM: OpenJDK 64-Bit Server VM\n",
       "Default Encoding: UTF-8\n",
       "Language: en\n",
       "Country: null\n",
       "--></g></svg>"
      ]
     },
     "execution_count": 18,
     "metadata": {},
     "output_type": "execute_result"
    }
   ],
   "source": [
    "%viz --style=\"LR\" --view=\"State\" \"PrivateImportTest\""
   ]
  },
  {
   "cell_type": "code",
   "execution_count": 19,
   "id": "14c49689",
   "metadata": {
    "execution": {
     "iopub.execute_input": "2021-10-25T08:22:21.281929Z",
     "iopub.status.busy": "2021-10-25T08:22:21.281516Z",
     "iopub.status.idle": "2021-10-25T08:22:21.318811Z",
     "shell.execute_reply": "2021-10-25T08:22:21.318301Z"
    }
   },
   "outputs": [
    {
     "data": {
      "image/svg+xml": [
       "<?xml version=\"1.0\" encoding=\"UTF-8\" standalone=\"no\"?><svg xmlns=\"http://www.w3.org/2000/svg\" xmlns:xlink=\"http://www.w3.org/1999/xlink\" contentScriptType=\"application/ecmascript\" contentStyleType=\"text/css\" height=\"629px\" preserveAspectRatio=\"none\" style=\"width:193px;height:629px;\" version=\"1.1\" viewBox=\"0 0 193 629\" width=\"193px\" zoomAndPan=\"magnify\"><defs/><g><!--MD5=[fbc87193dbaf4d95561dea2c320d4a47]\n",
       "cluster E1--><a href=\"psysml:2415ca44-1de1-4a98-b3f0-a39d5285a5bd\" target=\"_top\" title=\"psysml:2415ca44-1de1-4a98-b3f0-a39d5285a5bd\" xlink:actuate=\"onRequest\" xlink:href=\"psysml:2415ca44-1de1-4a98-b3f0-a39d5285a5bd\" xlink:show=\"new\" xlink:title=\"psysml:2415ca44-1de1-4a98-b3f0-a39d5285a5bd\" xlink:type=\"simple\"><polygon fill=\"#FFFFFF\" points=\"16,6,143,6,150,28.2969,171,28.2969,171,617,16,617,16,6\" style=\"stroke: #000000; stroke-width: 1.5;\"/><line style=\"stroke: #000000; stroke-width: 1.5;\" x1=\"16\" x2=\"150\" y1=\"28.2969\" y2=\"28.2969\"/><text fill=\"#000000\" font-family=\"sans-serif\" font-size=\"14\" font-weight=\"bold\" lengthAdjust=\"spacingAndGlyphs\" textLength=\"121\" x=\"20\" y=\"20.9951\">PrivateImportTest</text></a><!--MD5=[e4f7fae6ed58524ba242bb0b0d3be6b7]\n",
       "cluster E2--><a href=\"psysml:426e250f-8977-4e89-b166-3835fc91b530\" target=\"_top\" title=\"psysml:426e250f-8977-4e89-b166-3835fc91b530\" xlink:actuate=\"onRequest\" xlink:href=\"psysml:426e250f-8977-4e89-b166-3835fc91b530\" xlink:show=\"new\" xlink:title=\"psysml:426e250f-8977-4e89-b166-3835fc91b530\" xlink:type=\"simple\"><polygon fill=\"#FFFFFF\" points=\"40,49,64,49,71,71.2969,147,71.2969,147,144,40,144,40,49\" style=\"stroke: #000000; stroke-width: 1.5;\"/><line style=\"stroke: #000000; stroke-width: 1.5;\" x1=\"40\" x2=\"71\" y1=\"71.2969\" y2=\"71.2969\"/><text fill=\"#000000\" font-family=\"sans-serif\" font-size=\"14\" font-weight=\"bold\" lengthAdjust=\"spacingAndGlyphs\" textLength=\"18\" x=\"44\" y=\"63.9951\">P1</text></a><!--MD5=[14e3b0961a2654348d326746436168a1]\n",
       "cluster E6--><a href=\"psysml:fe85458f-8707-492f-a6ea-e7b6b29e5b91\" target=\"_top\" title=\"psysml:fe85458f-8707-492f-a6ea-e7b6b29e5b91\" xlink:actuate=\"onRequest\" xlink:href=\"psysml:fe85458f-8707-492f-a6ea-e7b6b29e5b91\" xlink:show=\"new\" xlink:title=\"psysml:fe85458f-8707-492f-a6ea-e7b6b29e5b91\" xlink:type=\"simple\"><polygon fill=\"#FFFFFF\" points=\"40,168,64,168,71,190.2969,147,190.2969,147,263,40,263,40,168\" style=\"stroke: #000000; stroke-width: 1.5;\"/><line style=\"stroke: #000000; stroke-width: 1.5;\" x1=\"40\" x2=\"71\" y1=\"190.2969\" y2=\"190.2969\"/><text fill=\"#000000\" font-family=\"sans-serif\" font-size=\"14\" font-weight=\"bold\" lengthAdjust=\"spacingAndGlyphs\" textLength=\"18\" x=\"44\" y=\"182.9951\">P3</text></a><!--MD5=[7f149f147074ac12df2cb0a7728a5fb0]\n",
       "cluster E9--><a href=\"psysml:77a03853-3516-49bc-9a88-c5db4c10002c\" target=\"_top\" title=\"psysml:77a03853-3516-49bc-9a88-c5db4c10002c\" xlink:actuate=\"onRequest\" xlink:href=\"psysml:77a03853-3516-49bc-9a88-c5db4c10002c\" xlink:show=\"new\" xlink:title=\"psysml:77a03853-3516-49bc-9a88-c5db4c10002c\" xlink:type=\"simple\"><polygon fill=\"#FFFFFF\" points=\"52.5,287,76.5,287,83.5,309.2969,134.5,309.2969,134.5,378,52.5,378,52.5,287\" style=\"stroke: #000000; stroke-width: 1.5;\"/><line style=\"stroke: #000000; stroke-width: 1.5;\" x1=\"52.5\" x2=\"83.5\" y1=\"309.2969\" y2=\"309.2969\"/><text fill=\"#000000\" font-family=\"sans-serif\" font-size=\"14\" font-weight=\"bold\" lengthAdjust=\"spacingAndGlyphs\" textLength=\"18\" x=\"56.5\" y=\"301.9951\">P4</text></a><g id=\"E1.E2.E3\"><a href=\"psysml:0a0c0374-c89d-44f1-8ff3-be2f7c1a5b8f\" target=\"_top\" title=\"psysml:0a0c0374-c89d-44f1-8ff3-be2f7c1a5b8f\" xlink:actuate=\"onRequest\" xlink:href=\"psysml:0a0c0374-c89d-44f1-8ff3-be2f7c1a5b8f\" xlink:show=\"new\" xlink:title=\"psysml:0a0c0374-c89d-44f1-8ff3-be2f7c1a5b8f\" xlink:type=\"simple\"><rect fill=\"#FFFFFF\" height=\"42.9375\" id=\"E3\" style=\"stroke: #383838; stroke-width: 1.5;\" width=\"75\" x=\"56\" y=\"84.5\"/><rect fill=\"#F8F8F8\" height=\"37.9375\" style=\"stroke: #383838; stroke-width: 1.5;\" width=\"75\" x=\"56\" y=\"84.5\"/><text fill=\"#000000\" font-family=\"sans-serif\" font-size=\"12\" font-style=\"italic\" lengthAdjust=\"spacingAndGlyphs\" textLength=\"68\" x=\"59.5\" y=\"100.6387\">«part  def»</text><text fill=\"#000000\" font-family=\"sans-serif\" font-size=\"12\" lengthAdjust=\"spacingAndGlyphs\" textLength=\"8\" x=\"89.5\" y=\"114.6074\">A</text></a></g><a href=\"psysml:9b62d657-9794-4032-9fa2-9f176e634d4a\" target=\"_top\" title=\"psysml:9b62d657-9794-4032-9fa2-9f176e634d4a\" xlink:actuate=\"onRequest\" xlink:href=\"psysml:9b62d657-9794-4032-9fa2-9f176e634d4a\" xlink:show=\"new\" xlink:title=\"psysml:9b62d657-9794-4032-9fa2-9f176e634d4a\" xlink:type=\"simple\"><polygon fill=\"#FFFFFF\" points=\"74.5,397.5,98.5,397.5,105.5,419.7969,112.5,419.7969,112.5,450.0938,74.5,450.0938,74.5,397.5\" style=\"stroke: #000000; stroke-width: 1.5;\"/><line style=\"stroke: #000000; stroke-width: 1.5;\" x1=\"74.5\" x2=\"105.5\" y1=\"419.7969\" y2=\"419.7969\"/><text fill=\"#000000\" font-family=\"sans-serif\" font-size=\"14\" font-weight=\"bold\" lengthAdjust=\"spacingAndGlyphs\" textLength=\"18\" x=\"78.5\" y=\"412.4951\">P2</text></a><g id=\"E1.E5\"><a href=\"psysml:99b80f3a-0072-46fe-b843-b9a836066a51\" target=\"_top\" title=\"psysml:99b80f3a-0072-46fe-b843-b9a836066a51\" xlink:actuate=\"onRequest\" xlink:href=\"psysml:99b80f3a-0072-46fe-b843-b9a836066a51\" xlink:show=\"new\" xlink:title=\"psysml:99b80f3a-0072-46fe-b843-b9a836066a51\" xlink:type=\"simple\"><rect fill=\"#FFFFFF\" height=\"40\" id=\"E5\" rx=\"10\" ry=\"10\" style=\"stroke: #383838; stroke-width: 1.5;\" width=\"50\" x=\"68.5\" y=\"486\"/><rect fill=\"#F8F8F8\" height=\"23.9688\" rx=\"10\" ry=\"10\" style=\"stroke: #F8F8F8; stroke-width: 1.5;\" width=\"50\" x=\"68.5\" y=\"486\"/><rect fill=\"#F8F8F8\" height=\"10\" style=\"stroke: #F8F8F8; stroke-width: 1.5;\" width=\"50\" x=\"68.5\" y=\"499.9688\"/><rect fill=\"none\" height=\"40\" id=\"E5\" rx=\"10\" ry=\"10\" style=\"stroke: #383838; stroke-width: 1.5;\" width=\"50\" x=\"68.5\" y=\"486\"/><text fill=\"#000000\" font-family=\"sans-serif\" font-size=\"12\" lengthAdjust=\"spacingAndGlyphs\" textLength=\"22\" x=\"82.5\" y=\"502.1387\">x: A</text></a></g><g id=\"E1.E6.E7\"><a href=\"psysml:af99adbc-0034-4f7c-9fbe-52493ca28392\" target=\"_top\" title=\"psysml:af99adbc-0034-4f7c-9fbe-52493ca28392\" xlink:actuate=\"onRequest\" xlink:href=\"psysml:af99adbc-0034-4f7c-9fbe-52493ca28392\" xlink:show=\"new\" xlink:title=\"psysml:af99adbc-0034-4f7c-9fbe-52493ca28392\" xlink:type=\"simple\"><rect fill=\"#FFFFFF\" height=\"42.9375\" id=\"E7\" style=\"stroke: #383838; stroke-width: 1.5;\" width=\"75\" x=\"56\" y=\"203.5\"/><rect fill=\"#F8F8F8\" height=\"37.9375\" style=\"stroke: #383838; stroke-width: 1.5;\" width=\"75\" x=\"56\" y=\"203.5\"/><text fill=\"#000000\" font-family=\"sans-serif\" font-size=\"12\" font-style=\"italic\" lengthAdjust=\"spacingAndGlyphs\" textLength=\"68\" x=\"59.5\" y=\"219.6387\">«part  def»</text><text fill=\"#000000\" font-family=\"sans-serif\" font-size=\"12\" lengthAdjust=\"spacingAndGlyphs\" textLength=\"8\" x=\"89.5\" y=\"233.6074\">B</text></a></g><g id=\"E1.E8\"><a href=\"psysml:a38466df-faf8-4af5-a290-fb7428072c5f\" target=\"_top\" title=\"psysml:a38466df-faf8-4af5-a290-fb7428072c5f\" xlink:actuate=\"onRequest\" xlink:href=\"psysml:a38466df-faf8-4af5-a290-fb7428072c5f\" xlink:show=\"new\" xlink:title=\"psysml:a38466df-faf8-4af5-a290-fb7428072c5f\" xlink:type=\"simple\"><rect fill=\"#FFFFFF\" height=\"40\" id=\"E8\" rx=\"10\" ry=\"10\" style=\"stroke: #383838; stroke-width: 1.5;\" width=\"50\" x=\"68.5\" y=\"561\"/><rect fill=\"#F8F8F8\" height=\"23.9688\" rx=\"10\" ry=\"10\" style=\"stroke: #F8F8F8; stroke-width: 1.5;\" width=\"50\" x=\"68.5\" y=\"561\"/><rect fill=\"#F8F8F8\" height=\"10\" style=\"stroke: #F8F8F8; stroke-width: 1.5;\" width=\"50\" x=\"68.5\" y=\"574.9688\"/><rect fill=\"none\" height=\"40\" id=\"E8\" rx=\"10\" ry=\"10\" style=\"stroke: #383838; stroke-width: 1.5;\" width=\"50\" x=\"68.5\" y=\"561\"/><text fill=\"#000000\" font-family=\"sans-serif\" font-size=\"12\" lengthAdjust=\"spacingAndGlyphs\" textLength=\"21\" x=\"83\" y=\"577.1387\">z: B</text></a></g><g id=\"E1.E9.E10\"><a href=\"psysml:d7dc5bce-b37d-4e4e-a49c-d44e6595ca7b\" target=\"_top\" title=\"psysml:d7dc5bce-b37d-4e4e-a49c-d44e6595ca7b\" xlink:actuate=\"onRequest\" xlink:href=\"psysml:d7dc5bce-b37d-4e4e-a49c-d44e6595ca7b\" xlink:show=\"new\" xlink:title=\"psysml:d7dc5bce-b37d-4e4e-a49c-d44e6595ca7b\" xlink:type=\"simple\"><rect fill=\"#FFFFFF\" height=\"40\" id=\"E10\" rx=\"10\" ry=\"10\" style=\"stroke: #383838; stroke-width: 1.5;\" width=\"50\" x=\"68.5\" y=\"322\"/><rect fill=\"#F8F8F8\" height=\"23.9688\" rx=\"10\" ry=\"10\" style=\"stroke: #F8F8F8; stroke-width: 1.5;\" width=\"50\" x=\"68.5\" y=\"322\"/><rect fill=\"#F8F8F8\" height=\"10\" style=\"stroke: #F8F8F8; stroke-width: 1.5;\" width=\"50\" x=\"68.5\" y=\"335.9688\"/><rect fill=\"none\" height=\"40\" id=\"E10\" rx=\"10\" ry=\"10\" style=\"stroke: #383838; stroke-width: 1.5;\" width=\"50\" x=\"68.5\" y=\"322\"/><text fill=\"#000000\" font-family=\"sans-serif\" font-size=\"12\" lengthAdjust=\"spacingAndGlyphs\" textLength=\"29\" x=\"79\" y=\"338.1387\">z1: A</text></a></g><!--MD5=[30bd3a70350fbb7485bc2855123082fa]\n",
       "@startuml\r\n",
       "skinparam ranksep 10\r\n",
       "skinparam rectangle {\r\n",
       " backgroundColor<<block>> LightGreen\r\n",
       "}\r\n",
       "left to right direction\r\n",
       "skinparam monochrome true\r\n",
       "skinparam classbackgroundcolor white\r\n",
       "skinparam shadowing false\r\n",
       "skinparam wrapWidth 300\r\n",
       "hide circle\r\n",
       "\r\n",
       "package \"PrivateImportTest\" as E1  [[psysml:2415ca44-1de1-4a98-b3f0-a39d5285a5bd ]]  {\r\n",
       "package \"P1\" as E2  [[psysml:426e250f-8977-4e89-b166-3835fc91b530 ]]  {\r\n",
       "rec def \"A\" as E3  <<(T,blue) part  def>> [[psysml:0a0c0374-c89d-44f1-8ff3-be2f7c1a5b8f ]] {\r\n",
       "}\r\n",
       "}\r\n",
       "package \"P2\" as E4  [[psysml:9b62d657-9794-4032-9fa2-9f176e634d4a ]]  {\r\n",
       "}\r\n",
       "rec usage \"x: A\" as E5  [[psysml:99b80f3a-0072-46fe-b843-b9a836066a51 ]] {\r\n",
       "}\r\n",
       "package \"P3\" as E6  [[psysml:fe85458f-8707-492f-a6ea-e7b6b29e5b91 ]]  {\r\n",
       "rec def \"B\" as E7  <<(T,blue) part  def>> [[psysml:af99adbc-0034-4f7c-9fbe-52493ca28392 ]] {\r\n",
       "}\r\n",
       "}\r\n",
       "rec usage \"z: B\" as E8  [[psysml:a38466df-faf8-4af5-a290-fb7428072c5f ]] {\r\n",
       "}\r\n",
       "package \"P4\" as E9  [[psysml:77a03853-3516-49bc-9a88-c5db4c10002c ]]  {\r\n",
       "rec usage \"z1: A\" as E10  [[psysml:d7dc5bce-b37d-4e4e-a49c-d44e6595ca7b ]] {\r\n",
       "}\r\n",
       "}\r\n",
       "}\r\n",
       "@enduml\r\n",
       "\n",
       "PlantUML version 1.2020.13(Sat Jun 13 12:26:38 UTC 2020)\n",
       "(EPL source distribution)\n",
       "Java Runtime: OpenJDK Runtime Environment\n",
       "JVM: OpenJDK 64-Bit Server VM\n",
       "Default Encoding: UTF-8\n",
       "Language: en\n",
       "Country: null\n",
       "--></g></svg>"
      ]
     },
     "execution_count": 19,
     "metadata": {},
     "output_type": "execute_result"
    }
   ],
   "source": [
    "%viz --style=\"LR\" --view=\"Interconnection\" \"PrivateImportTest\""
   ]
  },
  {
   "cell_type": "code",
   "execution_count": 20,
   "id": "f48623bf",
   "metadata": {
    "execution": {
     "iopub.execute_input": "2021-10-25T08:22:21.367361Z",
     "iopub.status.busy": "2021-10-25T08:22:21.366902Z",
     "iopub.status.idle": "2021-10-25T08:22:21.372733Z",
     "shell.execute_reply": "2021-10-25T08:22:21.373058Z"
    }
   },
   "outputs": [
    {
     "data": {
      "image/svg+xml": [
       "<?xml version=\"1.0\" encoding=\"UTF-8\" standalone=\"no\"?><svg xmlns=\"http://www.w3.org/2000/svg\" xmlns:xlink=\"http://www.w3.org/1999/xlink\" contentScriptType=\"application/ecmascript\" contentStyleType=\"text/css\" height=\"12px\" preserveAspectRatio=\"none\" style=\"width:12px;height:12px;\" version=\"1.1\" viewBox=\"0 0 12 12\" width=\"12px\" zoomAndPan=\"magnify\"><defs/><g><!--MD5=[7aeb398939421629f6affaa4a1a7b125]\n",
       "@startuml\r\n",
       "skinparam ranksep 8\r\n",
       "left to right direction\r\n",
       "skinparam monochrome true\r\n",
       "skinparam classbackgroundcolor white\r\n",
       "skinparam shadowing false\r\n",
       "skinparam wrapWidth 300\r\n",
       "hide circle\r\n",
       "\r\n",
       "@enduml\r\n",
       "\n",
       "PlantUML version 1.2020.13(Sat Jun 13 12:26:38 UTC 2020)\n",
       "(EPL source distribution)\n",
       "Java Runtime: OpenJDK Runtime Environment\n",
       "JVM: OpenJDK 64-Bit Server VM\n",
       "Default Encoding: UTF-8\n",
       "Language: en\n",
       "Country: null\n",
       "--></g></svg>"
      ]
     },
     "execution_count": 20,
     "metadata": {},
     "output_type": "execute_result"
    }
   ],
   "source": [
    "%viz --style=\"LR\" --view=\"Action\" \"PrivateImportTest\""
   ]
  },
  {
   "cell_type": "code",
   "execution_count": 21,
   "id": "44b3efac",
   "metadata": {
    "execution": {
     "iopub.execute_input": "2021-10-25T08:22:21.422817Z",
     "iopub.status.busy": "2021-10-25T08:22:21.422387Z",
     "iopub.status.idle": "2021-10-25T08:22:21.429624Z",
     "shell.execute_reply": "2021-10-25T08:22:21.429152Z"
    }
   },
   "outputs": [
    {
     "data": {
      "image/svg+xml": [
       "<?xml version=\"1.0\" encoding=\"UTF-8\" standalone=\"no\"?><svg xmlns=\"http://www.w3.org/2000/svg\" xmlns:xlink=\"http://www.w3.org/1999/xlink\" contentScriptType=\"application/ecmascript\" contentStyleType=\"text/css\" height=\"12px\" preserveAspectRatio=\"none\" style=\"width:12px;height:12px;\" version=\"1.1\" viewBox=\"0 0 12 12\" width=\"12px\" zoomAndPan=\"magnify\"><defs/><g><!--MD5=[238c11ea2002f03115ad6b49a457d50e]\n",
       "@startuml\r\n",
       "skinparam roundcorner 20\r\n",
       "skinparam BoxPadding 20\r\n",
       "skinparam SequenceBoxBackgroundColor #white\r\n",
       "skinparam style strictuml\r\n",
       "skinparam maxMessageSize 100\r\n",
       "left to right direction\r\n",
       "skinparam monochrome true\r\n",
       "skinparam classbackgroundcolor white\r\n",
       "skinparam shadowing false\r\n",
       "skinparam wrapWidth 300\r\n",
       "hide circle\r\n",
       "\r\n",
       "@enduml\r\n",
       "\n",
       "PlantUML version 1.2020.13(Sat Jun 13 12:26:38 UTC 2020)\n",
       "(EPL source distribution)\n",
       "Java Runtime: OpenJDK Runtime Environment\n",
       "JVM: OpenJDK 64-Bit Server VM\n",
       "Default Encoding: UTF-8\n",
       "Language: en\n",
       "Country: null\n",
       "--></g></svg>"
      ]
     },
     "execution_count": 21,
     "metadata": {},
     "output_type": "execute_result"
    }
   ],
   "source": [
    "%viz --style=\"LR\" --view=\"Sequence\" \"PrivateImportTest\""
   ]
  },
  {
   "cell_type": "code",
   "execution_count": 22,
   "id": "fe2a5e57",
   "metadata": {
    "execution": {
     "iopub.execute_input": "2021-10-25T08:22:21.478574Z",
     "iopub.status.busy": "2021-10-25T08:22:21.478149Z",
     "iopub.status.idle": "2021-10-25T08:22:21.520974Z",
     "shell.execute_reply": "2021-10-25T08:22:21.520765Z"
    }
   },
   "outputs": [
    {
     "data": {
      "image/svg+xml": [
       "<?xml version=\"1.0\" encoding=\"UTF-8\" standalone=\"no\"?><svg xmlns=\"http://www.w3.org/2000/svg\" xmlns:xlink=\"http://www.w3.org/1999/xlink\" contentScriptType=\"application/ecmascript\" contentStyleType=\"text/css\" height=\"409px\" preserveAspectRatio=\"none\" style=\"width:290px;height:409px;\" version=\"1.1\" viewBox=\"0 0 290 409\" width=\"290px\" zoomAndPan=\"magnify\"><defs/><g><!--MD5=[fbc87193dbaf4d95561dea2c320d4a47]\n",
       "cluster E1--><a href=\"psysml:2415ca44-1de1-4a98-b3f0-a39d5285a5bd\" target=\"_top\" title=\"psysml:2415ca44-1de1-4a98-b3f0-a39d5285a5bd\" xlink:actuate=\"onRequest\" xlink:href=\"psysml:2415ca44-1de1-4a98-b3f0-a39d5285a5bd\" xlink:show=\"new\" xlink:title=\"psysml:2415ca44-1de1-4a98-b3f0-a39d5285a5bd\" xlink:type=\"simple\"><polygon fill=\"#FFFFFF\" points=\"16,6,143,6,150,28.2969,268,28.2969,268,397,16,397,16,6\" style=\"stroke: #000000; stroke-width: 1.5;\"/><line style=\"stroke: #000000; stroke-width: 1.5;\" x1=\"16\" x2=\"150\" y1=\"28.2969\" y2=\"28.2969\"/><text fill=\"#000000\" font-family=\"sans-serif\" font-size=\"14\" font-weight=\"bold\" lengthAdjust=\"spacingAndGlyphs\" textLength=\"121\" x=\"20\" y=\"20.9951\">PrivateImportTest</text></a><!--MD5=[e4f7fae6ed58524ba242bb0b0d3be6b7]\n",
       "cluster E2--><a href=\"psysml:426e250f-8977-4e89-b166-3835fc91b530\" target=\"_top\" title=\"psysml:426e250f-8977-4e89-b166-3835fc91b530\" xlink:actuate=\"onRequest\" xlink:href=\"psysml:426e250f-8977-4e89-b166-3835fc91b530\" xlink:show=\"new\" xlink:title=\"psysml:426e250f-8977-4e89-b166-3835fc91b530\" xlink:type=\"simple\"><polygon fill=\"#FFFFFF\" points=\"142,70,166,70,173,92.2969,244,92.2969,244,167,142,167,142,70\" style=\"stroke: #000000; stroke-width: 1.5;\"/><line style=\"stroke: #000000; stroke-width: 1.5;\" x1=\"142\" x2=\"173\" y1=\"92.2969\" y2=\"92.2969\"/><text fill=\"#000000\" font-family=\"sans-serif\" font-size=\"14\" font-weight=\"bold\" lengthAdjust=\"spacingAndGlyphs\" textLength=\"18\" x=\"146\" y=\"84.9951\">P1</text></a><!--MD5=[14e3b0961a2654348d326746436168a1]\n",
       "cluster E6--><a href=\"psysml:fe85458f-8707-492f-a6ea-e7b6b29e5b91\" target=\"_top\" title=\"psysml:fe85458f-8707-492f-a6ea-e7b6b29e5b91\" xlink:actuate=\"onRequest\" xlink:href=\"psysml:fe85458f-8707-492f-a6ea-e7b6b29e5b91\" xlink:show=\"new\" xlink:title=\"psysml:fe85458f-8707-492f-a6ea-e7b6b29e5b91\" xlink:type=\"simple\"><polygon fill=\"#FFFFFF\" points=\"142,211,166,211,173,233.2969,244,233.2969,244,308,142,308,142,211\" style=\"stroke: #000000; stroke-width: 1.5;\"/><line style=\"stroke: #000000; stroke-width: 1.5;\" x1=\"142\" x2=\"173\" y1=\"233.2969\" y2=\"233.2969\"/><text fill=\"#000000\" font-family=\"sans-serif\" font-size=\"14\" font-weight=\"bold\" lengthAdjust=\"spacingAndGlyphs\" textLength=\"18\" x=\"146\" y=\"225.9951\">P3</text></a><!--MD5=[7f149f147074ac12df2cb0a7728a5fb0]\n",
       "cluster E9--><a href=\"psysml:77a03853-3516-49bc-9a88-c5db4c10002c\" target=\"_top\" title=\"psysml:77a03853-3516-49bc-9a88-c5db4c10002c\" xlink:actuate=\"onRequest\" xlink:href=\"psysml:77a03853-3516-49bc-9a88-c5db4c10002c\" xlink:show=\"new\" xlink:title=\"psysml:77a03853-3516-49bc-9a88-c5db4c10002c\" xlink:type=\"simple\"><polygon fill=\"#FFFFFF\" points=\"40,49,64,49,71,71.2969,114,71.2969,114,146,40,146,40,49\" style=\"stroke: #000000; stroke-width: 1.5;\"/><line style=\"stroke: #000000; stroke-width: 1.5;\" x1=\"40\" x2=\"71\" y1=\"71.2969\" y2=\"71.2969\"/><text fill=\"#000000\" font-family=\"sans-serif\" font-size=\"14\" font-weight=\"bold\" lengthAdjust=\"spacingAndGlyphs\" textLength=\"18\" x=\"44\" y=\"63.9951\">P4</text></a><!--MD5=[270fce915f116d4de14055a7c1d9a0f3]\n",
       "class E5--><a href=\"psysml:99b80f3a-0072-46fe-b843-b9a836066a51\" target=\"_top\" title=\"psysml:99b80f3a-0072-46fe-b843-b9a836066a51\" xlink:actuate=\"onRequest\" xlink:href=\"psysml:99b80f3a-0072-46fe-b843-b9a836066a51\" xlink:show=\"new\" xlink:title=\"psysml:99b80f3a-0072-46fe-b843-b9a836066a51\" xlink:type=\"simple\"><rect fill=\"#FFFFFF\" height=\"45.9375\" id=\"E5\" rx=\"10\" ry=\"10\" style=\"stroke: #383838; stroke-width: 1.5;\" width=\"42\" x=\"56\" y=\"165\"/><text fill=\"#000000\" font-family=\"sans-serif\" font-size=\"12\" font-style=\"italic\" lengthAdjust=\"spacingAndGlyphs\" textLength=\"40\" x=\"57\" y=\"181.1387\">«part»</text><text fill=\"#000000\" font-family=\"sans-serif\" font-size=\"12\" lengthAdjust=\"spacingAndGlyphs\" textLength=\"22\" x=\"64\" y=\"195.1074\">x: A</text><line style=\"stroke: #383838; stroke-width: 1.5;\" x1=\"57\" x2=\"97\" y1=\"202.9375\" y2=\"202.9375\"/></a><!--MD5=[b9389687b975829384b498ac4b7476b2]\n",
       "class E8--><a href=\"psysml:a38466df-faf8-4af5-a290-fb7428072c5f\" target=\"_top\" title=\"psysml:a38466df-faf8-4af5-a290-fb7428072c5f\" xlink:actuate=\"onRequest\" xlink:href=\"psysml:a38466df-faf8-4af5-a290-fb7428072c5f\" xlink:show=\"new\" xlink:title=\"psysml:a38466df-faf8-4af5-a290-fb7428072c5f\" xlink:type=\"simple\"><rect fill=\"#FFFFFF\" height=\"45.9375\" id=\"E8\" rx=\"10\" ry=\"10\" style=\"stroke: #383838; stroke-width: 1.5;\" width=\"42\" x=\"56\" y=\"246\"/><text fill=\"#000000\" font-family=\"sans-serif\" font-size=\"12\" font-style=\"italic\" lengthAdjust=\"spacingAndGlyphs\" textLength=\"40\" x=\"57\" y=\"262.1387\">«part»</text><text fill=\"#000000\" font-family=\"sans-serif\" font-size=\"12\" lengthAdjust=\"spacingAndGlyphs\" textLength=\"21\" x=\"64.5\" y=\"276.1074\">z: B</text><line style=\"stroke: #383838; stroke-width: 1.5;\" x1=\"57\" x2=\"97\" y1=\"283.9375\" y2=\"283.9375\"/></a><!--MD5=[09b614a08d8cba4a07c9adeb5e0fee81]\n",
       "class E3--><a href=\"psysml:0a0c0374-c89d-44f1-8ff3-be2f7c1a5b8f\" target=\"_top\" title=\"psysml:0a0c0374-c89d-44f1-8ff3-be2f7c1a5b8f\" xlink:actuate=\"onRequest\" xlink:href=\"psysml:0a0c0374-c89d-44f1-8ff3-be2f7c1a5b8f\" xlink:show=\"new\" xlink:title=\"psysml:0a0c0374-c89d-44f1-8ff3-be2f7c1a5b8f\" xlink:type=\"simple\"><rect fill=\"#FFFFFF\" height=\"45.9375\" id=\"E3\" style=\"stroke: #383838; stroke-width: 1.5;\" width=\"70\" x=\"158\" y=\"105\"/><text fill=\"#000000\" font-family=\"sans-serif\" font-size=\"12\" font-style=\"italic\" lengthAdjust=\"spacingAndGlyphs\" textLength=\"68\" x=\"159\" y=\"121.1387\">«part  def»</text><text fill=\"#000000\" font-family=\"sans-serif\" font-size=\"12\" lengthAdjust=\"spacingAndGlyphs\" textLength=\"8\" x=\"189\" y=\"135.1074\">A</text><line style=\"stroke: #383838; stroke-width: 1.5;\" x1=\"159\" x2=\"227\" y1=\"142.9375\" y2=\"142.9375\"/></a><a href=\"psysml:9b62d657-9794-4032-9fa2-9f176e634d4a\" target=\"_top\" title=\"psysml:9b62d657-9794-4032-9fa2-9f176e634d4a\" xlink:actuate=\"onRequest\" xlink:href=\"psysml:9b62d657-9794-4032-9fa2-9f176e634d4a\" xlink:show=\"new\" xlink:title=\"psysml:9b62d657-9794-4032-9fa2-9f176e634d4a\" xlink:type=\"simple\"><polygon fill=\"#FFFFFF\" points=\"58,327.5,82,327.5,89,349.7969,96,349.7969,96,380.0938,58,380.0938,58,327.5\" style=\"stroke: #000000; stroke-width: 1.5;\"/><line style=\"stroke: #000000; stroke-width: 1.5;\" x1=\"58\" x2=\"89\" y1=\"349.7969\" y2=\"349.7969\"/><text fill=\"#000000\" font-family=\"sans-serif\" font-size=\"14\" font-weight=\"bold\" lengthAdjust=\"spacingAndGlyphs\" textLength=\"18\" x=\"62\" y=\"342.4951\">P2</text></a><!--MD5=[2156ba9850f5573cc1fc38a6a4b2f02b]\n",
       "class E7--><a href=\"psysml:af99adbc-0034-4f7c-9fbe-52493ca28392\" target=\"_top\" title=\"psysml:af99adbc-0034-4f7c-9fbe-52493ca28392\" xlink:actuate=\"onRequest\" xlink:href=\"psysml:af99adbc-0034-4f7c-9fbe-52493ca28392\" xlink:show=\"new\" xlink:title=\"psysml:af99adbc-0034-4f7c-9fbe-52493ca28392\" xlink:type=\"simple\"><rect fill=\"#FFFFFF\" height=\"45.9375\" id=\"E7\" style=\"stroke: #383838; stroke-width: 1.5;\" width=\"70\" x=\"158\" y=\"246\"/><text fill=\"#000000\" font-family=\"sans-serif\" font-size=\"12\" font-style=\"italic\" lengthAdjust=\"spacingAndGlyphs\" textLength=\"68\" x=\"159\" y=\"262.1387\">«part  def»</text><text fill=\"#000000\" font-family=\"sans-serif\" font-size=\"12\" lengthAdjust=\"spacingAndGlyphs\" textLength=\"8\" x=\"189\" y=\"276.1074\">B</text><line style=\"stroke: #383838; stroke-width: 1.5;\" x1=\"159\" x2=\"227\" y1=\"283.9375\" y2=\"283.9375\"/></a><!--MD5=[96f4274e9e20536e775497830990834d]\n",
       "class E10--><a href=\"psysml:d7dc5bce-b37d-4e4e-a49c-d44e6595ca7b\" target=\"_top\" title=\"psysml:d7dc5bce-b37d-4e4e-a49c-d44e6595ca7b\" xlink:actuate=\"onRequest\" xlink:href=\"psysml:d7dc5bce-b37d-4e4e-a49c-d44e6595ca7b\" xlink:show=\"new\" xlink:title=\"psysml:d7dc5bce-b37d-4e4e-a49c-d44e6595ca7b\" xlink:type=\"simple\"><rect fill=\"#FFFFFF\" height=\"45.9375\" id=\"E10\" rx=\"10\" ry=\"10\" style=\"stroke: #383838; stroke-width: 1.5;\" width=\"42\" x=\"56\" y=\"84\"/><text fill=\"#000000\" font-family=\"sans-serif\" font-size=\"12\" font-style=\"italic\" lengthAdjust=\"spacingAndGlyphs\" textLength=\"40\" x=\"57\" y=\"100.1387\">«part»</text><text fill=\"#000000\" font-family=\"sans-serif\" font-size=\"12\" lengthAdjust=\"spacingAndGlyphs\" textLength=\"29\" x=\"60.5\" y=\"114.1074\">z1: A</text><line style=\"stroke: #383838; stroke-width: 1.5;\" x1=\"57\" x2=\"97\" y1=\"121.9375\" y2=\"121.9375\"/></a><!--MD5=[e9be52314489bd878ff4c7144b63c9e1]\n",
       "link E5 to E3--><a href=\"psysml:2e6435ee-ec1e-47e4-8fad-fb77072556f4\" target=\"_top\" title=\"psysml:2e6435ee-ec1e-47e4-8fad-fb77072556f4\" xlink:actuate=\"onRequest\" xlink:href=\"psysml:2e6435ee-ec1e-47e4-8fad-fb77072556f4\" xlink:show=\"new\" xlink:title=\"psysml:2e6435ee-ec1e-47e4-8fad-fb77072556f4\" xlink:type=\"simple\"><path d=\"M98.12,177.41 C109.71,171.31 124.88,163.33 139.63,155.57 \" fill=\"none\" id=\"E5-&gt;E3\" style=\"stroke: #383838; stroke-width: 1.0;\"/><polygon fill=\"#FFFFFF\" points=\"157.79,146.01,144.2358,161.0527,137.7162,148.6634,157.79,146.01\" style=\"stroke: #383838; stroke-width: 1.0;\"/><ellipse cx=\"138.2602\" cy=\"161.9372\" fill=\"#383838\" rx=\"2\" ry=\"2\" style=\"stroke: #383838; stroke-width: 1.0;\"/><ellipse cx=\"133.6033\" cy=\"153.0877\" fill=\"#383838\" rx=\"2\" ry=\"2\" style=\"stroke: #383838; stroke-width: 1.0;\"/></a><!--MD5=[bfa3c8b0d15052fdf50ae9310b491027]\n",
       "link E8 to E7--><a href=\"psysml:f11bc7c0-c938-426a-87a4-76c9b47cac7e\" target=\"_top\" title=\"psysml:f11bc7c0-c938-426a-87a4-76c9b47cac7e\" xlink:actuate=\"onRequest\" xlink:href=\"psysml:f11bc7c0-c938-426a-87a4-76c9b47cac7e\" xlink:show=\"new\" xlink:title=\"psysml:f11bc7c0-c938-426a-87a4-76c9b47cac7e\" xlink:type=\"simple\"><path d=\"M98.12,269 C109.2,269 123.54,269 137.66,269 \" fill=\"none\" id=\"E8-&gt;E7\" style=\"stroke: #383838; stroke-width: 1.0;\"/><polygon fill=\"#FFFFFF\" points=\"157.79,269,138.79,276,138.79,262,157.79,269\" style=\"stroke: #383838; stroke-width: 1.0;\"/><ellipse cx=\"133.09\" cy=\"274\" fill=\"#383838\" rx=\"2\" ry=\"2\" style=\"stroke: #383838; stroke-width: 1.0;\"/><ellipse cx=\"133.09\" cy=\"264\" fill=\"#383838\" rx=\"2\" ry=\"2\" style=\"stroke: #383838; stroke-width: 1.0;\"/></a><!--MD5=[feeac5eb423634930294aa81f2d25a4c]\n",
       "link E10 to E3--><a href=\"psysml:21a673ac-f9f6-428c-a165-60ea4300f397\" target=\"_top\" title=\"psysml:21a673ac-f9f6-428c-a165-60ea4300f397\" xlink:actuate=\"onRequest\" xlink:href=\"psysml:21a673ac-f9f6-428c-a165-60ea4300f397\" xlink:show=\"new\" xlink:title=\"psysml:21a673ac-f9f6-428c-a165-60ea4300f397\" xlink:type=\"simple\"><path d=\"M98.12,110.71 C109.2,112.75 123.54,115.39 137.66,117.99 \" fill=\"none\" id=\"E10-&gt;E3\" style=\"stroke: #383838; stroke-width: 1.0;\"/><polygon fill=\"#FFFFFF\" points=\"157.79,121.7,137.8378,125.1513,140.3678,111.3818,157.79,121.7\" style=\"stroke: #383838; stroke-width: 1.0;\"/><ellipse cx=\"132.5931\" cy=\"122.1542\" fill=\"#383838\" rx=\"2\" ry=\"2\" style=\"stroke: #383838; stroke-width: 1.0;\"/><ellipse cx=\"134.4002\" cy=\"112.3188\" fill=\"#383838\" rx=\"2\" ry=\"2\" style=\"stroke: #383838; stroke-width: 1.0;\"/></a><!--MD5=[188c21bdab7bb711c7b2d8963b09987b]\n",
       "@startuml\r\n",
       "left to right direction\r\n",
       "skinparam monochrome true\r\n",
       "skinparam classbackgroundcolor white\r\n",
       "skinparam shadowing false\r\n",
       "skinparam wrapWidth 300\r\n",
       "hide circle\r\n",
       "\r\n",
       "package \"PrivateImportTest\" as E1  [[psysml:2415ca44-1de1-4a98-b3f0-a39d5285a5bd ]]  {\r\n",
       "package \"P1\" as E2  [[psysml:426e250f-8977-4e89-b166-3835fc91b530 ]]  {\r\n",
       "comp def \"A\" as E3  <<(T,blue) part  def>> [[psysml:0a0c0374-c89d-44f1-8ff3-be2f7c1a5b8f ]] {\r\n",
       "}\r\n",
       "}\r\n",
       "package \"P2\" as E4  [[psysml:9b62d657-9794-4032-9fa2-9f176e634d4a ]]  {\r\n",
       "}\r\n",
       "comp usage \"x: A \" as E5  <<(T,blue) part>> [[psysml:99b80f3a-0072-46fe-b843-b9a836066a51 ]] {\r\n",
       "}\r\n",
       "package \"P3\" as E6  [[psysml:fe85458f-8707-492f-a6ea-e7b6b29e5b91 ]]  {\r\n",
       "comp def \"B\" as E7  <<(T,blue) part  def>> [[psysml:af99adbc-0034-4f7c-9fbe-52493ca28392 ]] {\r\n",
       "}\r\n",
       "}\r\n",
       "comp usage \"z: B \" as E8  <<(T,blue) part>> [[psysml:a38466df-faf8-4af5-a290-fb7428072c5f ]] {\r\n",
       "}\r\n",
       "package \"P4\" as E9  [[psysml:77a03853-3516-49bc-9a88-c5db4c10002c ]]  {\r\n",
       "comp usage \"z1: A \" as E10  <<(T,blue) part>> [[psysml:d7dc5bce-b37d-4e4e-a49c-d44e6595ca7b ]] {\r\n",
       "}\r\n",
       "}\r\n",
       "}\r\n",
       "E5 - -:|> E3 [[psysml:2e6435ee-ec1e-47e4-8fad-fb77072556f4 ]] \r\n",
       "E8 - -:|> E7 [[psysml:f11bc7c0-c938-426a-87a4-76c9b47cac7e ]] \r\n",
       "E10 - -:|> E3 [[psysml:21a673ac-f9f6-428c-a165-60ea4300f397 ]] \r\n",
       "@enduml\r\n",
       "\n",
       "PlantUML version 1.2020.13(Sat Jun 13 12:26:38 UTC 2020)\n",
       "(EPL source distribution)\n",
       "Java Runtime: OpenJDK Runtime Environment\n",
       "JVM: OpenJDK 64-Bit Server VM\n",
       "Default Encoding: UTF-8\n",
       "Language: en\n",
       "Country: null\n",
       "--></g></svg>"
      ]
     },
     "execution_count": 22,
     "metadata": {},
     "output_type": "execute_result"
    }
   ],
   "source": [
    "%viz --style=\"LR\" --view=\"MIXED\" \"PrivateImportTest\""
   ]
  },
  {
   "cell_type": "code",
   "execution_count": 23,
   "id": "50a45bd4",
   "metadata": {
    "execution": {
     "iopub.execute_input": "2021-10-25T08:22:21.571089Z",
     "iopub.status.busy": "2021-10-25T08:22:21.570824Z",
     "iopub.status.idle": "2021-10-25T08:22:21.614901Z",
     "shell.execute_reply": "2021-10-25T08:22:21.612244Z"
    }
   },
   "outputs": [
    {
     "data": {
      "image/svg+xml": [
       "<?xml version=\"1.0\" encoding=\"UTF-8\" standalone=\"no\"?><svg xmlns=\"http://www.w3.org/2000/svg\" xmlns:xlink=\"http://www.w3.org/1999/xlink\" contentScriptType=\"application/ecmascript\" contentStyleType=\"text/css\" height=\"303px\" preserveAspectRatio=\"none\" style=\"width:363px;height:303px;\" version=\"1.1\" viewBox=\"0 0 363 303\" width=\"363px\" zoomAndPan=\"magnify\"><defs><filter height=\"300%\" id=\"frcnr3yojhsrk\" width=\"300%\" x=\"-1\" y=\"-1\"><feGaussianBlur result=\"blurOut\" stdDeviation=\"2.0\"/><feColorMatrix in=\"blurOut\" result=\"blurOut2\" type=\"matrix\" values=\"0 0 0 0 0 0 0 0 0 0 0 0 0 0 0 0 0 0 .4 0\"/><feOffset dx=\"4.0\" dy=\"4.0\" in=\"blurOut2\" result=\"blurOut3\"/><feBlend in=\"SourceGraphic\" in2=\"blurOut3\" mode=\"normal\"/></filter></defs><g><!--MD5=[fbc87193dbaf4d95561dea2c320d4a47]\n",
       "cluster E1--><a href=\"psysml:2415ca44-1de1-4a98-b3f0-a39d5285a5bd\" target=\"_top\" title=\"psysml:2415ca44-1de1-4a98-b3f0-a39d5285a5bd\" xlink:actuate=\"onRequest\" xlink:href=\"psysml:2415ca44-1de1-4a98-b3f0-a39d5285a5bd\" xlink:show=\"new\" xlink:title=\"psysml:2415ca44-1de1-4a98-b3f0-a39d5285a5bd\" xlink:type=\"simple\"><polygon fill=\"#FFFFFF\" filter=\"url(#frcnr3yojhsrk)\" points=\"16,6,143,6,150,28.2969,341,28.2969,341,291,16,291,16,6\" style=\"stroke: #000000; stroke-width: 1.5;\"/><line style=\"stroke: #000000; stroke-width: 1.5;\" x1=\"16\" x2=\"150\" y1=\"28.2969\" y2=\"28.2969\"/><text fill=\"#000000\" font-family=\"sans-serif\" font-size=\"14\" font-weight=\"bold\" lengthAdjust=\"spacingAndGlyphs\" textLength=\"121\" x=\"20\" y=\"20.9951\">PrivateImportTest</text></a><!--MD5=[e4f7fae6ed58524ba242bb0b0d3be6b7]\n",
       "cluster E2--><a href=\"psysml:426e250f-8977-4e89-b166-3835fc91b530\" target=\"_top\" title=\"psysml:426e250f-8977-4e89-b166-3835fc91b530\" xlink:actuate=\"onRequest\" xlink:href=\"psysml:426e250f-8977-4e89-b166-3835fc91b530\" xlink:show=\"new\" xlink:title=\"psysml:426e250f-8977-4e89-b166-3835fc91b530\" xlink:type=\"simple\"><polygon fill=\"#FFFFFF\" filter=\"url(#frcnr3yojhsrk)\" points=\"208,170,232,170,239,192.2969,310,192.2969,310,267,208,267,208,170\" style=\"stroke: #000000; stroke-width: 1.5;\"/><line style=\"stroke: #000000; stroke-width: 1.5;\" x1=\"208\" x2=\"239\" y1=\"192.2969\" y2=\"192.2969\"/><text fill=\"#000000\" font-family=\"sans-serif\" font-size=\"14\" font-weight=\"bold\" lengthAdjust=\"spacingAndGlyphs\" textLength=\"18\" x=\"212\" y=\"184.9951\">P1</text></a><!--MD5=[14e3b0961a2654348d326746436168a1]\n",
       "cluster E6--><a href=\"psysml:fe85458f-8707-492f-a6ea-e7b6b29e5b91\" target=\"_top\" title=\"psysml:fe85458f-8707-492f-a6ea-e7b6b29e5b91\" xlink:actuate=\"onRequest\" xlink:href=\"psysml:fe85458f-8707-492f-a6ea-e7b6b29e5b91\" xlink:show=\"new\" xlink:title=\"psysml:fe85458f-8707-492f-a6ea-e7b6b29e5b91\" xlink:type=\"simple\"><polygon fill=\"#FFFFFF\" filter=\"url(#frcnr3yojhsrk)\" points=\"75,170,99,170,106,192.2969,177,192.2969,177,267,75,267,75,170\" style=\"stroke: #000000; stroke-width: 1.5;\"/><line style=\"stroke: #000000; stroke-width: 1.5;\" x1=\"75\" x2=\"106\" y1=\"192.2969\" y2=\"192.2969\"/><text fill=\"#000000\" font-family=\"sans-serif\" font-size=\"14\" font-weight=\"bold\" lengthAdjust=\"spacingAndGlyphs\" textLength=\"18\" x=\"79\" y=\"184.9951\">P3</text></a><!--MD5=[7f149f147074ac12df2cb0a7728a5fb0]\n",
       "cluster E9--><a href=\"psysml:77a03853-3516-49bc-9a88-c5db4c10002c\" target=\"_top\" title=\"psysml:77a03853-3516-49bc-9a88-c5db4c10002c\" xlink:actuate=\"onRequest\" xlink:href=\"psysml:77a03853-3516-49bc-9a88-c5db4c10002c\" xlink:show=\"new\" xlink:title=\"psysml:77a03853-3516-49bc-9a88-c5db4c10002c\" xlink:type=\"simple\"><polygon fill=\"#FFFFFF\" filter=\"url(#frcnr3yojhsrk)\" points=\"243,49,267,49,274,71.2969,317,71.2969,317,146,243,146,243,49\" style=\"stroke: #000000; stroke-width: 1.5;\"/><line style=\"stroke: #000000; stroke-width: 1.5;\" x1=\"243\" x2=\"274\" y1=\"71.2969\" y2=\"71.2969\"/><text fill=\"#000000\" font-family=\"sans-serif\" font-size=\"14\" font-weight=\"bold\" lengthAdjust=\"spacingAndGlyphs\" textLength=\"18\" x=\"247\" y=\"63.9951\">P4</text></a><!--MD5=[270fce915f116d4de14055a7c1d9a0f3]\n",
       "class E5--><a href=\"psysml:99b80f3a-0072-46fe-b843-b9a836066a51\" target=\"_top\" title=\"psysml:99b80f3a-0072-46fe-b843-b9a836066a51\" xlink:actuate=\"onRequest\" xlink:href=\"psysml:99b80f3a-0072-46fe-b843-b9a836066a51\" xlink:show=\"new\" xlink:title=\"psysml:99b80f3a-0072-46fe-b843-b9a836066a51\" xlink:type=\"simple\"><rect fill=\"#FEFECE\" filter=\"url(#frcnr3yojhsrk)\" height=\"45.9375\" id=\"E5\" rx=\"10\" ry=\"10\" style=\"stroke: #A80036; stroke-width: 1.5;\" width=\"42\" x=\"182\" y=\"84\"/><text fill=\"#000000\" font-family=\"sans-serif\" font-size=\"12\" font-style=\"italic\" lengthAdjust=\"spacingAndGlyphs\" textLength=\"40\" x=\"183\" y=\"100.1387\">«part»</text><text fill=\"#000000\" font-family=\"sans-serif\" font-size=\"12\" lengthAdjust=\"spacingAndGlyphs\" textLength=\"22\" x=\"190\" y=\"114.1074\">x: A</text><line style=\"stroke: #A80036; stroke-width: 1.5;\" x1=\"183\" x2=\"223\" y1=\"121.9375\" y2=\"121.9375\"/></a><!--MD5=[b9389687b975829384b498ac4b7476b2]\n",
       "class E8--><a href=\"psysml:a38466df-faf8-4af5-a290-fb7428072c5f\" target=\"_top\" title=\"psysml:a38466df-faf8-4af5-a290-fb7428072c5f\" xlink:actuate=\"onRequest\" xlink:href=\"psysml:a38466df-faf8-4af5-a290-fb7428072c5f\" xlink:show=\"new\" xlink:title=\"psysml:a38466df-faf8-4af5-a290-fb7428072c5f\" xlink:type=\"simple\"><rect fill=\"#FEFECE\" filter=\"url(#frcnr3yojhsrk)\" height=\"45.9375\" id=\"E8\" rx=\"10\" ry=\"10\" style=\"stroke: #A80036; stroke-width: 1.5;\" width=\"42\" x=\"105\" y=\"84\"/><text fill=\"#000000\" font-family=\"sans-serif\" font-size=\"12\" font-style=\"italic\" lengthAdjust=\"spacingAndGlyphs\" textLength=\"40\" x=\"106\" y=\"100.1387\">«part»</text><text fill=\"#000000\" font-family=\"sans-serif\" font-size=\"12\" lengthAdjust=\"spacingAndGlyphs\" textLength=\"21\" x=\"113.5\" y=\"114.1074\">z: B</text><line style=\"stroke: #A80036; stroke-width: 1.5;\" x1=\"106\" x2=\"146\" y1=\"121.9375\" y2=\"121.9375\"/></a><!--MD5=[09b614a08d8cba4a07c9adeb5e0fee81]\n",
       "class E3--><a href=\"psysml:0a0c0374-c89d-44f1-8ff3-be2f7c1a5b8f\" target=\"_top\" title=\"psysml:0a0c0374-c89d-44f1-8ff3-be2f7c1a5b8f\" xlink:actuate=\"onRequest\" xlink:href=\"psysml:0a0c0374-c89d-44f1-8ff3-be2f7c1a5b8f\" xlink:show=\"new\" xlink:title=\"psysml:0a0c0374-c89d-44f1-8ff3-be2f7c1a5b8f\" xlink:type=\"simple\"><rect fill=\"#FEFECE\" filter=\"url(#frcnr3yojhsrk)\" height=\"45.9375\" id=\"E3\" style=\"stroke: #A80036; stroke-width: 1.5;\" width=\"70\" x=\"224\" y=\"205\"/><text fill=\"#000000\" font-family=\"sans-serif\" font-size=\"12\" font-style=\"italic\" lengthAdjust=\"spacingAndGlyphs\" textLength=\"68\" x=\"225\" y=\"221.1387\">«part  def»</text><text fill=\"#000000\" font-family=\"sans-serif\" font-size=\"12\" lengthAdjust=\"spacingAndGlyphs\" textLength=\"8\" x=\"255\" y=\"235.1074\">A</text><line style=\"stroke: #A80036; stroke-width: 1.5;\" x1=\"225\" x2=\"293\" y1=\"242.9375\" y2=\"242.9375\"/></a><a href=\"psysml:9b62d657-9794-4032-9fa2-9f176e634d4a\" target=\"_top\" title=\"psysml:9b62d657-9794-4032-9fa2-9f176e634d4a\" xlink:actuate=\"onRequest\" xlink:href=\"psysml:9b62d657-9794-4032-9fa2-9f176e634d4a\" xlink:show=\"new\" xlink:title=\"psysml:9b62d657-9794-4032-9fa2-9f176e634d4a\" xlink:type=\"simple\"><polygon fill=\"#FFFFFF\" filter=\"url(#frcnr3yojhsrk)\" points=\"32,80.5,56,80.5,63,102.7969,70,102.7969,70,133.0938,32,133.0938,32,80.5\" style=\"stroke: #000000; stroke-width: 1.5;\"/><line style=\"stroke: #000000; stroke-width: 1.5;\" x1=\"32\" x2=\"63\" y1=\"102.7969\" y2=\"102.7969\"/><text fill=\"#000000\" font-family=\"sans-serif\" font-size=\"14\" font-weight=\"bold\" lengthAdjust=\"spacingAndGlyphs\" textLength=\"18\" x=\"36\" y=\"95.4951\">P2</text></a><!--MD5=[2156ba9850f5573cc1fc38a6a4b2f02b]\n",
       "class E7--><a href=\"psysml:af99adbc-0034-4f7c-9fbe-52493ca28392\" target=\"_top\" title=\"psysml:af99adbc-0034-4f7c-9fbe-52493ca28392\" xlink:actuate=\"onRequest\" xlink:href=\"psysml:af99adbc-0034-4f7c-9fbe-52493ca28392\" xlink:show=\"new\" xlink:title=\"psysml:af99adbc-0034-4f7c-9fbe-52493ca28392\" xlink:type=\"simple\"><rect fill=\"#FEFECE\" filter=\"url(#frcnr3yojhsrk)\" height=\"45.9375\" id=\"E7\" style=\"stroke: #A80036; stroke-width: 1.5;\" width=\"70\" x=\"91\" y=\"205\"/><text fill=\"#000000\" font-family=\"sans-serif\" font-size=\"12\" font-style=\"italic\" lengthAdjust=\"spacingAndGlyphs\" textLength=\"68\" x=\"92\" y=\"221.1387\">«part  def»</text><text fill=\"#000000\" font-family=\"sans-serif\" font-size=\"12\" lengthAdjust=\"spacingAndGlyphs\" textLength=\"8\" x=\"122\" y=\"235.1074\">B</text><line style=\"stroke: #A80036; stroke-width: 1.5;\" x1=\"92\" x2=\"160\" y1=\"242.9375\" y2=\"242.9375\"/></a><!--MD5=[96f4274e9e20536e775497830990834d]\n",
       "class E10--><a href=\"psysml:d7dc5bce-b37d-4e4e-a49c-d44e6595ca7b\" target=\"_top\" title=\"psysml:d7dc5bce-b37d-4e4e-a49c-d44e6595ca7b\" xlink:actuate=\"onRequest\" xlink:href=\"psysml:d7dc5bce-b37d-4e4e-a49c-d44e6595ca7b\" xlink:show=\"new\" xlink:title=\"psysml:d7dc5bce-b37d-4e4e-a49c-d44e6595ca7b\" xlink:type=\"simple\"><rect fill=\"#FEFECE\" filter=\"url(#frcnr3yojhsrk)\" height=\"45.9375\" id=\"E10\" rx=\"10\" ry=\"10\" style=\"stroke: #A80036; stroke-width: 1.5;\" width=\"42\" x=\"259\" y=\"84\"/><text fill=\"#000000\" font-family=\"sans-serif\" font-size=\"12\" font-style=\"italic\" lengthAdjust=\"spacingAndGlyphs\" textLength=\"40\" x=\"260\" y=\"100.1387\">«part»</text><text fill=\"#000000\" font-family=\"sans-serif\" font-size=\"12\" lengthAdjust=\"spacingAndGlyphs\" textLength=\"29\" x=\"263.5\" y=\"114.1074\">z1: A</text><line style=\"stroke: #A80036; stroke-width: 1.5;\" x1=\"260\" x2=\"300\" y1=\"121.9375\" y2=\"121.9375\"/></a><!--MD5=[e9be52314489bd878ff4c7144b63c9e1]\n",
       "link E5 to E3--><a href=\"psysml:2e6435ee-ec1e-47e4-8fad-fb77072556f4\" target=\"_top\" title=\"psysml:2e6435ee-ec1e-47e4-8fad-fb77072556f4\" xlink:actuate=\"onRequest\" xlink:href=\"psysml:2e6435ee-ec1e-47e4-8fad-fb77072556f4\" xlink:show=\"new\" xlink:title=\"psysml:2e6435ee-ec1e-47e4-8fad-fb77072556f4\" xlink:type=\"simple\"><path d=\"M213.4,130.1 C220.82,145.87 231.01,167.52 239.88,186.36 \" fill=\"none\" id=\"E5-&gt;E3\" style=\"stroke: #A80036; stroke-width: 1.0;\"/><polygon fill=\"#FFFFFF\" points=\"248.46,204.61,234.0383,190.3968,246.7067,184.4376,248.46,204.61\" style=\"stroke: #A80036; stroke-width: 1.0;\"/><ellipse cx=\"233.4218\" cy=\"184.3877\" fill=\"#A80036\" rx=\"2\" ry=\"2\" style=\"stroke: #A80036; stroke-width: 1.0;\"/><ellipse cx=\"242.4706\" cy=\"180.1311\" fill=\"#A80036\" rx=\"2\" ry=\"2\" style=\"stroke: #A80036; stroke-width: 1.0;\"/></a><!--MD5=[bfa3c8b0d15052fdf50ae9310b491027]\n",
       "link E8 to E7--><a href=\"psysml:f11bc7c0-c938-426a-87a4-76c9b47cac7e\" target=\"_top\" title=\"psysml:f11bc7c0-c938-426a-87a4-76c9b47cac7e\" xlink:actuate=\"onRequest\" xlink:href=\"psysml:f11bc7c0-c938-426a-87a4-76c9b47cac7e\" xlink:show=\"new\" xlink:title=\"psysml:f11bc7c0-c938-426a-87a4-76c9b47cac7e\" xlink:type=\"simple\"><path d=\"M126,130.1 C126,145.37 126,166.16 126,184.57 \" fill=\"none\" id=\"E8-&gt;E7\" style=\"stroke: #A80036; stroke-width: 1.0;\"/><polygon fill=\"#FFFFFF\" points=\"126,204.61,119,185.61,133,185.61,126,204.61\" style=\"stroke: #A80036; stroke-width: 1.0;\"/><ellipse cx=\"121\" cy=\"179.91\" fill=\"#A80036\" rx=\"2\" ry=\"2\" style=\"stroke: #A80036; stroke-width: 1.0;\"/><ellipse cx=\"131\" cy=\"179.91\" fill=\"#A80036\" rx=\"2\" ry=\"2\" style=\"stroke: #A80036; stroke-width: 1.0;\"/></a><!--MD5=[feeac5eb423634930294aa81f2d25a4c]\n",
       "link E10 to E3--><a href=\"psysml:21a673ac-f9f6-428c-a165-60ea4300f397\" target=\"_top\" title=\"psysml:21a673ac-f9f6-428c-a165-60ea4300f397\" xlink:actuate=\"onRequest\" xlink:href=\"psysml:21a673ac-f9f6-428c-a165-60ea4300f397\" xlink:show=\"new\" xlink:title=\"psysml:21a673ac-f9f6-428c-a165-60ea4300f397\" xlink:type=\"simple\"><path d=\"M276.1,130.1 C273.39,145.45 269.7,166.39 266.44,184.87 \" fill=\"none\" id=\"E10-&gt;E3\" style=\"stroke: #A80036; stroke-width: 1.0;\"/><polygon fill=\"#FFFFFF\" points=\"262.95,204.61,259.3535,184.6835,273.1411,187.1131,262.95,204.61\" style=\"stroke: #A80036; stroke-width: 1.0;\"/><ellipse cx=\"262.3123\" cy=\"179.4171\" fill=\"#A80036\" rx=\"2\" ry=\"2\" style=\"stroke: #A80036; stroke-width: 1.0;\"/><ellipse cx=\"272.1606\" cy=\"181.1525\" fill=\"#A80036\" rx=\"2\" ry=\"2\" style=\"stroke: #A80036; stroke-width: 1.0;\"/></a><!--MD5=[f0b43f3a88364a648db3f43e47047cf8]\n",
       "@startuml\r\n",
       "skinparam wrapWidth 300\r\n",
       "hide circle\r\n",
       "\r\n",
       "package \"PrivateImportTest\" as E1  [[psysml:2415ca44-1de1-4a98-b3f0-a39d5285a5bd ]]  {\r\n",
       "package \"P1\" as E2  [[psysml:426e250f-8977-4e89-b166-3835fc91b530 ]]  {\r\n",
       "comp def \"A\" as E3  <<(T,blue) part  def>> [[psysml:0a0c0374-c89d-44f1-8ff3-be2f7c1a5b8f ]] {\r\n",
       "}\r\n",
       "}\r\n",
       "package \"P2\" as E4  [[psysml:9b62d657-9794-4032-9fa2-9f176e634d4a ]]  {\r\n",
       "}\r\n",
       "comp usage \"x: A \" as E5  <<(T,blue) part>> [[psysml:99b80f3a-0072-46fe-b843-b9a836066a51 ]] {\r\n",
       "}\r\n",
       "package \"P3\" as E6  [[psysml:fe85458f-8707-492f-a6ea-e7b6b29e5b91 ]]  {\r\n",
       "comp def \"B\" as E7  <<(T,blue) part  def>> [[psysml:af99adbc-0034-4f7c-9fbe-52493ca28392 ]] {\r\n",
       "}\r\n",
       "}\r\n",
       "comp usage \"z: B \" as E8  <<(T,blue) part>> [[psysml:a38466df-faf8-4af5-a290-fb7428072c5f ]] {\r\n",
       "}\r\n",
       "package \"P4\" as E9  [[psysml:77a03853-3516-49bc-9a88-c5db4c10002c ]]  {\r\n",
       "comp usage \"z1: A \" as E10  <<(T,blue) part>> [[psysml:d7dc5bce-b37d-4e4e-a49c-d44e6595ca7b ]] {\r\n",
       "}\r\n",
       "}\r\n",
       "}\r\n",
       "E5 - -:|> E3 [[psysml:2e6435ee-ec1e-47e4-8fad-fb77072556f4 ]] \r\n",
       "E8 - -:|> E7 [[psysml:f11bc7c0-c938-426a-87a4-76c9b47cac7e ]] \r\n",
       "E10 - -:|> E3 [[psysml:21a673ac-f9f6-428c-a165-60ea4300f397 ]] \r\n",
       "@enduml\r\n",
       "\n",
       "PlantUML version 1.2020.13(Sat Jun 13 12:26:38 UTC 2020)\n",
       "(EPL source distribution)\n",
       "Java Runtime: OpenJDK Runtime Environment\n",
       "JVM: OpenJDK 64-Bit Server VM\n",
       "Default Encoding: UTF-8\n",
       "Language: en\n",
       "Country: null\n",
       "--></g></svg>"
      ]
     },
     "execution_count": 23,
     "metadata": {},
     "output_type": "execute_result"
    }
   ],
   "source": [
    "%viz --style=\"STDCOLOR\" --view=\"Default\" \"PrivateImportTest\""
   ]
  },
  {
   "cell_type": "code",
   "execution_count": 24,
   "id": "c42cd332",
   "metadata": {
    "execution": {
     "iopub.execute_input": "2021-10-25T08:22:21.663066Z",
     "iopub.status.busy": "2021-10-25T08:22:21.662583Z",
     "iopub.status.idle": "2021-10-25T08:22:21.697793Z",
     "shell.execute_reply": "2021-10-25T08:22:21.694845Z"
    }
   },
   "outputs": [
    {
     "data": {
      "image/svg+xml": [
       "<?xml version=\"1.0\" encoding=\"UTF-8\" standalone=\"no\"?><svg xmlns=\"http://www.w3.org/2000/svg\" xmlns:xlink=\"http://www.w3.org/1999/xlink\" contentScriptType=\"application/ecmascript\" contentStyleType=\"text/css\" height=\"303px\" preserveAspectRatio=\"none\" style=\"width:363px;height:303px;\" version=\"1.1\" viewBox=\"0 0 363 303\" width=\"363px\" zoomAndPan=\"magnify\"><defs><filter height=\"300%\" id=\"frcnr3yojhsrk\" width=\"300%\" x=\"-1\" y=\"-1\"><feGaussianBlur result=\"blurOut\" stdDeviation=\"2.0\"/><feColorMatrix in=\"blurOut\" result=\"blurOut2\" type=\"matrix\" values=\"0 0 0 0 0 0 0 0 0 0 0 0 0 0 0 0 0 0 .4 0\"/><feOffset dx=\"4.0\" dy=\"4.0\" in=\"blurOut2\" result=\"blurOut3\"/><feBlend in=\"SourceGraphic\" in2=\"blurOut3\" mode=\"normal\"/></filter></defs><g><!--MD5=[fbc87193dbaf4d95561dea2c320d4a47]\n",
       "cluster E1--><a href=\"psysml:2415ca44-1de1-4a98-b3f0-a39d5285a5bd\" target=\"_top\" title=\"psysml:2415ca44-1de1-4a98-b3f0-a39d5285a5bd\" xlink:actuate=\"onRequest\" xlink:href=\"psysml:2415ca44-1de1-4a98-b3f0-a39d5285a5bd\" xlink:show=\"new\" xlink:title=\"psysml:2415ca44-1de1-4a98-b3f0-a39d5285a5bd\" xlink:type=\"simple\"><polygon fill=\"#FFFFFF\" filter=\"url(#frcnr3yojhsrk)\" points=\"16,6,143,6,150,28.2969,341,28.2969,341,291,16,291,16,6\" style=\"stroke: #000000; stroke-width: 1.5;\"/><line style=\"stroke: #000000; stroke-width: 1.5;\" x1=\"16\" x2=\"150\" y1=\"28.2969\" y2=\"28.2969\"/><text fill=\"#000000\" font-family=\"sans-serif\" font-size=\"14\" font-weight=\"bold\" lengthAdjust=\"spacingAndGlyphs\" textLength=\"121\" x=\"20\" y=\"20.9951\">PrivateImportTest</text></a><!--MD5=[e4f7fae6ed58524ba242bb0b0d3be6b7]\n",
       "cluster E2--><a href=\"psysml:426e250f-8977-4e89-b166-3835fc91b530\" target=\"_top\" title=\"psysml:426e250f-8977-4e89-b166-3835fc91b530\" xlink:actuate=\"onRequest\" xlink:href=\"psysml:426e250f-8977-4e89-b166-3835fc91b530\" xlink:show=\"new\" xlink:title=\"psysml:426e250f-8977-4e89-b166-3835fc91b530\" xlink:type=\"simple\"><polygon fill=\"#FFFFFF\" filter=\"url(#frcnr3yojhsrk)\" points=\"208,170,232,170,239,192.2969,310,192.2969,310,267,208,267,208,170\" style=\"stroke: #000000; stroke-width: 1.5;\"/><line style=\"stroke: #000000; stroke-width: 1.5;\" x1=\"208\" x2=\"239\" y1=\"192.2969\" y2=\"192.2969\"/><text fill=\"#000000\" font-family=\"sans-serif\" font-size=\"14\" font-weight=\"bold\" lengthAdjust=\"spacingAndGlyphs\" textLength=\"18\" x=\"212\" y=\"184.9951\">P1</text></a><!--MD5=[14e3b0961a2654348d326746436168a1]\n",
       "cluster E6--><a href=\"psysml:fe85458f-8707-492f-a6ea-e7b6b29e5b91\" target=\"_top\" title=\"psysml:fe85458f-8707-492f-a6ea-e7b6b29e5b91\" xlink:actuate=\"onRequest\" xlink:href=\"psysml:fe85458f-8707-492f-a6ea-e7b6b29e5b91\" xlink:show=\"new\" xlink:title=\"psysml:fe85458f-8707-492f-a6ea-e7b6b29e5b91\" xlink:type=\"simple\"><polygon fill=\"#FFFFFF\" filter=\"url(#frcnr3yojhsrk)\" points=\"75,170,99,170,106,192.2969,177,192.2969,177,267,75,267,75,170\" style=\"stroke: #000000; stroke-width: 1.5;\"/><line style=\"stroke: #000000; stroke-width: 1.5;\" x1=\"75\" x2=\"106\" y1=\"192.2969\" y2=\"192.2969\"/><text fill=\"#000000\" font-family=\"sans-serif\" font-size=\"14\" font-weight=\"bold\" lengthAdjust=\"spacingAndGlyphs\" textLength=\"18\" x=\"79\" y=\"184.9951\">P3</text></a><!--MD5=[7f149f147074ac12df2cb0a7728a5fb0]\n",
       "cluster E9--><a href=\"psysml:77a03853-3516-49bc-9a88-c5db4c10002c\" target=\"_top\" title=\"psysml:77a03853-3516-49bc-9a88-c5db4c10002c\" xlink:actuate=\"onRequest\" xlink:href=\"psysml:77a03853-3516-49bc-9a88-c5db4c10002c\" xlink:show=\"new\" xlink:title=\"psysml:77a03853-3516-49bc-9a88-c5db4c10002c\" xlink:type=\"simple\"><polygon fill=\"#FFFFFF\" filter=\"url(#frcnr3yojhsrk)\" points=\"243,49,267,49,274,71.2969,317,71.2969,317,146,243,146,243,49\" style=\"stroke: #000000; stroke-width: 1.5;\"/><line style=\"stroke: #000000; stroke-width: 1.5;\" x1=\"243\" x2=\"274\" y1=\"71.2969\" y2=\"71.2969\"/><text fill=\"#000000\" font-family=\"sans-serif\" font-size=\"14\" font-weight=\"bold\" lengthAdjust=\"spacingAndGlyphs\" textLength=\"18\" x=\"247\" y=\"63.9951\">P4</text></a><!--MD5=[270fce915f116d4de14055a7c1d9a0f3]\n",
       "class E5--><a href=\"psysml:99b80f3a-0072-46fe-b843-b9a836066a51\" target=\"_top\" title=\"psysml:99b80f3a-0072-46fe-b843-b9a836066a51\" xlink:actuate=\"onRequest\" xlink:href=\"psysml:99b80f3a-0072-46fe-b843-b9a836066a51\" xlink:show=\"new\" xlink:title=\"psysml:99b80f3a-0072-46fe-b843-b9a836066a51\" xlink:type=\"simple\"><rect fill=\"#FEFECE\" filter=\"url(#frcnr3yojhsrk)\" height=\"45.9375\" id=\"E5\" rx=\"10\" ry=\"10\" style=\"stroke: #A80036; stroke-width: 1.5;\" width=\"42\" x=\"182\" y=\"84\"/><text fill=\"#000000\" font-family=\"sans-serif\" font-size=\"12\" font-style=\"italic\" lengthAdjust=\"spacingAndGlyphs\" textLength=\"40\" x=\"183\" y=\"100.1387\">«part»</text><text fill=\"#000000\" font-family=\"sans-serif\" font-size=\"12\" lengthAdjust=\"spacingAndGlyphs\" textLength=\"22\" x=\"190\" y=\"114.1074\">x: A</text><line style=\"stroke: #A80036; stroke-width: 1.5;\" x1=\"183\" x2=\"223\" y1=\"121.9375\" y2=\"121.9375\"/></a><!--MD5=[b9389687b975829384b498ac4b7476b2]\n",
       "class E8--><a href=\"psysml:a38466df-faf8-4af5-a290-fb7428072c5f\" target=\"_top\" title=\"psysml:a38466df-faf8-4af5-a290-fb7428072c5f\" xlink:actuate=\"onRequest\" xlink:href=\"psysml:a38466df-faf8-4af5-a290-fb7428072c5f\" xlink:show=\"new\" xlink:title=\"psysml:a38466df-faf8-4af5-a290-fb7428072c5f\" xlink:type=\"simple\"><rect fill=\"#FEFECE\" filter=\"url(#frcnr3yojhsrk)\" height=\"45.9375\" id=\"E8\" rx=\"10\" ry=\"10\" style=\"stroke: #A80036; stroke-width: 1.5;\" width=\"42\" x=\"105\" y=\"84\"/><text fill=\"#000000\" font-family=\"sans-serif\" font-size=\"12\" font-style=\"italic\" lengthAdjust=\"spacingAndGlyphs\" textLength=\"40\" x=\"106\" y=\"100.1387\">«part»</text><text fill=\"#000000\" font-family=\"sans-serif\" font-size=\"12\" lengthAdjust=\"spacingAndGlyphs\" textLength=\"21\" x=\"113.5\" y=\"114.1074\">z: B</text><line style=\"stroke: #A80036; stroke-width: 1.5;\" x1=\"106\" x2=\"146\" y1=\"121.9375\" y2=\"121.9375\"/></a><!--MD5=[09b614a08d8cba4a07c9adeb5e0fee81]\n",
       "class E3--><a href=\"psysml:0a0c0374-c89d-44f1-8ff3-be2f7c1a5b8f\" target=\"_top\" title=\"psysml:0a0c0374-c89d-44f1-8ff3-be2f7c1a5b8f\" xlink:actuate=\"onRequest\" xlink:href=\"psysml:0a0c0374-c89d-44f1-8ff3-be2f7c1a5b8f\" xlink:show=\"new\" xlink:title=\"psysml:0a0c0374-c89d-44f1-8ff3-be2f7c1a5b8f\" xlink:type=\"simple\"><rect fill=\"#FEFECE\" filter=\"url(#frcnr3yojhsrk)\" height=\"45.9375\" id=\"E3\" style=\"stroke: #A80036; stroke-width: 1.5;\" width=\"70\" x=\"224\" y=\"205\"/><text fill=\"#000000\" font-family=\"sans-serif\" font-size=\"12\" font-style=\"italic\" lengthAdjust=\"spacingAndGlyphs\" textLength=\"68\" x=\"225\" y=\"221.1387\">«part  def»</text><text fill=\"#000000\" font-family=\"sans-serif\" font-size=\"12\" lengthAdjust=\"spacingAndGlyphs\" textLength=\"8\" x=\"255\" y=\"235.1074\">A</text><line style=\"stroke: #A80036; stroke-width: 1.5;\" x1=\"225\" x2=\"293\" y1=\"242.9375\" y2=\"242.9375\"/></a><a href=\"psysml:9b62d657-9794-4032-9fa2-9f176e634d4a\" target=\"_top\" title=\"psysml:9b62d657-9794-4032-9fa2-9f176e634d4a\" xlink:actuate=\"onRequest\" xlink:href=\"psysml:9b62d657-9794-4032-9fa2-9f176e634d4a\" xlink:show=\"new\" xlink:title=\"psysml:9b62d657-9794-4032-9fa2-9f176e634d4a\" xlink:type=\"simple\"><polygon fill=\"#FFFFFF\" filter=\"url(#frcnr3yojhsrk)\" points=\"32,80.5,56,80.5,63,102.7969,70,102.7969,70,133.0938,32,133.0938,32,80.5\" style=\"stroke: #000000; stroke-width: 1.5;\"/><line style=\"stroke: #000000; stroke-width: 1.5;\" x1=\"32\" x2=\"63\" y1=\"102.7969\" y2=\"102.7969\"/><text fill=\"#000000\" font-family=\"sans-serif\" font-size=\"14\" font-weight=\"bold\" lengthAdjust=\"spacingAndGlyphs\" textLength=\"18\" x=\"36\" y=\"95.4951\">P2</text></a><!--MD5=[2156ba9850f5573cc1fc38a6a4b2f02b]\n",
       "class E7--><a href=\"psysml:af99adbc-0034-4f7c-9fbe-52493ca28392\" target=\"_top\" title=\"psysml:af99adbc-0034-4f7c-9fbe-52493ca28392\" xlink:actuate=\"onRequest\" xlink:href=\"psysml:af99adbc-0034-4f7c-9fbe-52493ca28392\" xlink:show=\"new\" xlink:title=\"psysml:af99adbc-0034-4f7c-9fbe-52493ca28392\" xlink:type=\"simple\"><rect fill=\"#FEFECE\" filter=\"url(#frcnr3yojhsrk)\" height=\"45.9375\" id=\"E7\" style=\"stroke: #A80036; stroke-width: 1.5;\" width=\"70\" x=\"91\" y=\"205\"/><text fill=\"#000000\" font-family=\"sans-serif\" font-size=\"12\" font-style=\"italic\" lengthAdjust=\"spacingAndGlyphs\" textLength=\"68\" x=\"92\" y=\"221.1387\">«part  def»</text><text fill=\"#000000\" font-family=\"sans-serif\" font-size=\"12\" lengthAdjust=\"spacingAndGlyphs\" textLength=\"8\" x=\"122\" y=\"235.1074\">B</text><line style=\"stroke: #A80036; stroke-width: 1.5;\" x1=\"92\" x2=\"160\" y1=\"242.9375\" y2=\"242.9375\"/></a><!--MD5=[96f4274e9e20536e775497830990834d]\n",
       "class E10--><a href=\"psysml:d7dc5bce-b37d-4e4e-a49c-d44e6595ca7b\" target=\"_top\" title=\"psysml:d7dc5bce-b37d-4e4e-a49c-d44e6595ca7b\" xlink:actuate=\"onRequest\" xlink:href=\"psysml:d7dc5bce-b37d-4e4e-a49c-d44e6595ca7b\" xlink:show=\"new\" xlink:title=\"psysml:d7dc5bce-b37d-4e4e-a49c-d44e6595ca7b\" xlink:type=\"simple\"><rect fill=\"#FEFECE\" filter=\"url(#frcnr3yojhsrk)\" height=\"45.9375\" id=\"E10\" rx=\"10\" ry=\"10\" style=\"stroke: #A80036; stroke-width: 1.5;\" width=\"42\" x=\"259\" y=\"84\"/><text fill=\"#000000\" font-family=\"sans-serif\" font-size=\"12\" font-style=\"italic\" lengthAdjust=\"spacingAndGlyphs\" textLength=\"40\" x=\"260\" y=\"100.1387\">«part»</text><text fill=\"#000000\" font-family=\"sans-serif\" font-size=\"12\" lengthAdjust=\"spacingAndGlyphs\" textLength=\"29\" x=\"263.5\" y=\"114.1074\">z1: A</text><line style=\"stroke: #A80036; stroke-width: 1.5;\" x1=\"260\" x2=\"300\" y1=\"121.9375\" y2=\"121.9375\"/></a><!--MD5=[e9be52314489bd878ff4c7144b63c9e1]\n",
       "link E5 to E3--><a href=\"psysml:2e6435ee-ec1e-47e4-8fad-fb77072556f4\" target=\"_top\" title=\"psysml:2e6435ee-ec1e-47e4-8fad-fb77072556f4\" xlink:actuate=\"onRequest\" xlink:href=\"psysml:2e6435ee-ec1e-47e4-8fad-fb77072556f4\" xlink:show=\"new\" xlink:title=\"psysml:2e6435ee-ec1e-47e4-8fad-fb77072556f4\" xlink:type=\"simple\"><path d=\"M213.4,130.1 C220.82,145.87 231.01,167.52 239.88,186.36 \" fill=\"none\" id=\"E5-&gt;E3\" style=\"stroke: #A80036; stroke-width: 1.0;\"/><polygon fill=\"#FFFFFF\" points=\"248.46,204.61,234.0383,190.3968,246.7067,184.4376,248.46,204.61\" style=\"stroke: #A80036; stroke-width: 1.0;\"/><ellipse cx=\"233.4218\" cy=\"184.3877\" fill=\"#A80036\" rx=\"2\" ry=\"2\" style=\"stroke: #A80036; stroke-width: 1.0;\"/><ellipse cx=\"242.4706\" cy=\"180.1311\" fill=\"#A80036\" rx=\"2\" ry=\"2\" style=\"stroke: #A80036; stroke-width: 1.0;\"/></a><!--MD5=[bfa3c8b0d15052fdf50ae9310b491027]\n",
       "link E8 to E7--><a href=\"psysml:f11bc7c0-c938-426a-87a4-76c9b47cac7e\" target=\"_top\" title=\"psysml:f11bc7c0-c938-426a-87a4-76c9b47cac7e\" xlink:actuate=\"onRequest\" xlink:href=\"psysml:f11bc7c0-c938-426a-87a4-76c9b47cac7e\" xlink:show=\"new\" xlink:title=\"psysml:f11bc7c0-c938-426a-87a4-76c9b47cac7e\" xlink:type=\"simple\"><path d=\"M126,130.1 C126,145.37 126,166.16 126,184.57 \" fill=\"none\" id=\"E8-&gt;E7\" style=\"stroke: #A80036; stroke-width: 1.0;\"/><polygon fill=\"#FFFFFF\" points=\"126,204.61,119,185.61,133,185.61,126,204.61\" style=\"stroke: #A80036; stroke-width: 1.0;\"/><ellipse cx=\"121\" cy=\"179.91\" fill=\"#A80036\" rx=\"2\" ry=\"2\" style=\"stroke: #A80036; stroke-width: 1.0;\"/><ellipse cx=\"131\" cy=\"179.91\" fill=\"#A80036\" rx=\"2\" ry=\"2\" style=\"stroke: #A80036; stroke-width: 1.0;\"/></a><!--MD5=[feeac5eb423634930294aa81f2d25a4c]\n",
       "link E10 to E3--><a href=\"psysml:21a673ac-f9f6-428c-a165-60ea4300f397\" target=\"_top\" title=\"psysml:21a673ac-f9f6-428c-a165-60ea4300f397\" xlink:actuate=\"onRequest\" xlink:href=\"psysml:21a673ac-f9f6-428c-a165-60ea4300f397\" xlink:show=\"new\" xlink:title=\"psysml:21a673ac-f9f6-428c-a165-60ea4300f397\" xlink:type=\"simple\"><path d=\"M276.1,130.1 C273.39,145.45 269.7,166.39 266.44,184.87 \" fill=\"none\" id=\"E10-&gt;E3\" style=\"stroke: #A80036; stroke-width: 1.0;\"/><polygon fill=\"#FFFFFF\" points=\"262.95,204.61,259.3535,184.6835,273.1411,187.1131,262.95,204.61\" style=\"stroke: #A80036; stroke-width: 1.0;\"/><ellipse cx=\"262.3123\" cy=\"179.4171\" fill=\"#A80036\" rx=\"2\" ry=\"2\" style=\"stroke: #A80036; stroke-width: 1.0;\"/><ellipse cx=\"272.1606\" cy=\"181.1525\" fill=\"#A80036\" rx=\"2\" ry=\"2\" style=\"stroke: #A80036; stroke-width: 1.0;\"/></a><!--MD5=[f0b43f3a88364a648db3f43e47047cf8]\n",
       "@startuml\r\n",
       "skinparam wrapWidth 300\r\n",
       "hide circle\r\n",
       "\r\n",
       "package \"PrivateImportTest\" as E1  [[psysml:2415ca44-1de1-4a98-b3f0-a39d5285a5bd ]]  {\r\n",
       "package \"P1\" as E2  [[psysml:426e250f-8977-4e89-b166-3835fc91b530 ]]  {\r\n",
       "comp def \"A\" as E3  <<(T,blue) part  def>> [[psysml:0a0c0374-c89d-44f1-8ff3-be2f7c1a5b8f ]] {\r\n",
       "}\r\n",
       "}\r\n",
       "package \"P2\" as E4  [[psysml:9b62d657-9794-4032-9fa2-9f176e634d4a ]]  {\r\n",
       "}\r\n",
       "comp usage \"x: A \" as E5  <<(T,blue) part>> [[psysml:99b80f3a-0072-46fe-b843-b9a836066a51 ]] {\r\n",
       "}\r\n",
       "package \"P3\" as E6  [[psysml:fe85458f-8707-492f-a6ea-e7b6b29e5b91 ]]  {\r\n",
       "comp def \"B\" as E7  <<(T,blue) part  def>> [[psysml:af99adbc-0034-4f7c-9fbe-52493ca28392 ]] {\r\n",
       "}\r\n",
       "}\r\n",
       "comp usage \"z: B \" as E8  <<(T,blue) part>> [[psysml:a38466df-faf8-4af5-a290-fb7428072c5f ]] {\r\n",
       "}\r\n",
       "package \"P4\" as E9  [[psysml:77a03853-3516-49bc-9a88-c5db4c10002c ]]  {\r\n",
       "comp usage \"z1: A \" as E10  <<(T,blue) part>> [[psysml:d7dc5bce-b37d-4e4e-a49c-d44e6595ca7b ]] {\r\n",
       "}\r\n",
       "}\r\n",
       "}\r\n",
       "E5 - -:|> E3 [[psysml:2e6435ee-ec1e-47e4-8fad-fb77072556f4 ]] \r\n",
       "E8 - -:|> E7 [[psysml:f11bc7c0-c938-426a-87a4-76c9b47cac7e ]] \r\n",
       "E10 - -:|> E3 [[psysml:21a673ac-f9f6-428c-a165-60ea4300f397 ]] \r\n",
       "@enduml\r\n",
       "\n",
       "PlantUML version 1.2020.13(Sat Jun 13 12:26:38 UTC 2020)\n",
       "(EPL source distribution)\n",
       "Java Runtime: OpenJDK Runtime Environment\n",
       "JVM: OpenJDK 64-Bit Server VM\n",
       "Default Encoding: UTF-8\n",
       "Language: en\n",
       "Country: null\n",
       "--></g></svg>"
      ]
     },
     "execution_count": 24,
     "metadata": {},
     "output_type": "execute_result"
    }
   ],
   "source": [
    "%viz --style=\"STDCOLOR\" --view=\"Tree\" \"PrivateImportTest\""
   ]
  },
  {
   "cell_type": "code",
   "execution_count": 25,
   "id": "1f20b1bf",
   "metadata": {
    "execution": {
     "iopub.execute_input": "2021-10-25T08:22:21.745896Z",
     "iopub.status.busy": "2021-10-25T08:22:21.745440Z",
     "iopub.status.idle": "2021-10-25T08:22:21.751655Z",
     "shell.execute_reply": "2021-10-25T08:22:21.751268Z"
    }
   },
   "outputs": [
    {
     "data": {
      "image/svg+xml": [
       "<?xml version=\"1.0\" encoding=\"UTF-8\" standalone=\"no\"?><svg xmlns=\"http://www.w3.org/2000/svg\" xmlns:xlink=\"http://www.w3.org/1999/xlink\" contentScriptType=\"application/ecmascript\" contentStyleType=\"text/css\" height=\"12px\" preserveAspectRatio=\"none\" style=\"width:12px;height:12px;\" version=\"1.1\" viewBox=\"0 0 12 12\" width=\"12px\" zoomAndPan=\"magnify\"><defs/><g><!--MD5=[aeeef50f102b80d730deb6443d14f702]\n",
       "@startuml\r\n",
       "skinparam wrapWidth 300\r\n",
       "hide circle\r\n",
       "\r\n",
       "@enduml\r\n",
       "\n",
       "PlantUML version 1.2020.13(Sat Jun 13 12:26:38 UTC 2020)\n",
       "(EPL source distribution)\n",
       "Java Runtime: OpenJDK Runtime Environment\n",
       "JVM: OpenJDK 64-Bit Server VM\n",
       "Default Encoding: UTF-8\n",
       "Language: en\n",
       "Country: null\n",
       "--></g></svg>"
      ]
     },
     "execution_count": 25,
     "metadata": {},
     "output_type": "execute_result"
    }
   ],
   "source": [
    "%viz --style=\"STDCOLOR\" --view=\"State\" \"PrivateImportTest\""
   ]
  },
  {
   "cell_type": "code",
   "execution_count": 26,
   "id": "dcf023cc",
   "metadata": {
    "execution": {
     "iopub.execute_input": "2021-10-25T08:22:21.801096Z",
     "iopub.status.busy": "2021-10-25T08:22:21.800628Z",
     "iopub.status.idle": "2021-10-25T08:22:21.828028Z",
     "shell.execute_reply": "2021-10-25T08:22:21.827599Z"
    }
   },
   "outputs": [
    {
     "data": {
      "image/svg+xml": [
       "<?xml version=\"1.0\" encoding=\"UTF-8\" standalone=\"no\"?><svg xmlns=\"http://www.w3.org/2000/svg\" xmlns:xlink=\"http://www.w3.org/1999/xlink\" contentScriptType=\"application/ecmascript\" contentStyleType=\"text/css\" height=\"179px\" preserveAspectRatio=\"none\" style=\"width:647px;height:179px;\" version=\"1.1\" viewBox=\"0 0 647 179\" width=\"647px\" zoomAndPan=\"magnify\"><defs><filter height=\"300%\" id=\"f16fhgdveiqmwq\" width=\"300%\" x=\"-1\" y=\"-1\"><feGaussianBlur result=\"blurOut\" stdDeviation=\"2.0\"/><feColorMatrix in=\"blurOut\" result=\"blurOut2\" type=\"matrix\" values=\"0 0 0 0 0 0 0 0 0 0 0 0 0 0 0 0 0 0 .4 0\"/><feOffset dx=\"4.0\" dy=\"4.0\" in=\"blurOut2\" result=\"blurOut3\"/><feBlend in=\"SourceGraphic\" in2=\"blurOut3\" mode=\"normal\"/></filter></defs><g><!--MD5=[fbc87193dbaf4d95561dea2c320d4a47]\n",
       "cluster E1--><a href=\"psysml:2415ca44-1de1-4a98-b3f0-a39d5285a5bd\" target=\"_top\" title=\"psysml:2415ca44-1de1-4a98-b3f0-a39d5285a5bd\" xlink:actuate=\"onRequest\" xlink:href=\"psysml:2415ca44-1de1-4a98-b3f0-a39d5285a5bd\" xlink:show=\"new\" xlink:title=\"psysml:2415ca44-1de1-4a98-b3f0-a39d5285a5bd\" xlink:type=\"simple\"><polygon fill=\"#FFFFFF\" filter=\"url(#f16fhgdveiqmwq)\" points=\"16,6,143,6,150,28.2969,625,28.2969,625,167,16,167,16,6\" style=\"stroke: #000000; stroke-width: 1.5;\"/><line style=\"stroke: #000000; stroke-width: 1.5;\" x1=\"16\" x2=\"150\" y1=\"28.2969\" y2=\"28.2969\"/><text fill=\"#000000\" font-family=\"sans-serif\" font-size=\"14\" font-weight=\"bold\" lengthAdjust=\"spacingAndGlyphs\" textLength=\"121\" x=\"20\" y=\"20.9951\">PrivateImportTest</text></a><!--MD5=[e4f7fae6ed58524ba242bb0b0d3be6b7]\n",
       "cluster E2--><a href=\"psysml:426e250f-8977-4e89-b166-3835fc91b530\" target=\"_top\" title=\"psysml:426e250f-8977-4e89-b166-3835fc91b530\" xlink:actuate=\"onRequest\" xlink:href=\"psysml:426e250f-8977-4e89-b166-3835fc91b530\" xlink:show=\"new\" xlink:title=\"psysml:426e250f-8977-4e89-b166-3835fc91b530\" xlink:type=\"simple\"><polygon fill=\"#FFFFFF\" filter=\"url(#f16fhgdveiqmwq)\" points=\"495,49,519,49,526,71.2969,601,71.2969,601,143,495,143,495,49\" style=\"stroke: #000000; stroke-width: 1.5;\"/><line style=\"stroke: #000000; stroke-width: 1.5;\" x1=\"495\" x2=\"526\" y1=\"71.2969\" y2=\"71.2969\"/><text fill=\"#000000\" font-family=\"sans-serif\" font-size=\"14\" font-weight=\"bold\" lengthAdjust=\"spacingAndGlyphs\" textLength=\"18\" x=\"499\" y=\"63.9951\">P1</text></a><!--MD5=[14e3b0961a2654348d326746436168a1]\n",
       "cluster E6--><a href=\"psysml:fe85458f-8707-492f-a6ea-e7b6b29e5b91\" target=\"_top\" title=\"psysml:fe85458f-8707-492f-a6ea-e7b6b29e5b91\" xlink:actuate=\"onRequest\" xlink:href=\"psysml:fe85458f-8707-492f-a6ea-e7b6b29e5b91\" xlink:show=\"new\" xlink:title=\"psysml:fe85458f-8707-492f-a6ea-e7b6b29e5b91\" xlink:type=\"simple\"><polygon fill=\"#FFFFFF\" filter=\"url(#f16fhgdveiqmwq)\" points=\"365,49,389,49,396,71.2969,471,71.2969,471,143,365,143,365,49\" style=\"stroke: #000000; stroke-width: 1.5;\"/><line style=\"stroke: #000000; stroke-width: 1.5;\" x1=\"365\" x2=\"396\" y1=\"71.2969\" y2=\"71.2969\"/><text fill=\"#000000\" font-family=\"sans-serif\" font-size=\"14\" font-weight=\"bold\" lengthAdjust=\"spacingAndGlyphs\" textLength=\"18\" x=\"369\" y=\"63.9951\">P3</text></a><!--MD5=[7f149f147074ac12df2cb0a7728a5fb0]\n",
       "cluster E9--><a href=\"psysml:77a03853-3516-49bc-9a88-c5db4c10002c\" target=\"_top\" title=\"psysml:77a03853-3516-49bc-9a88-c5db4c10002c\" xlink:actuate=\"onRequest\" xlink:href=\"psysml:77a03853-3516-49bc-9a88-c5db4c10002c\" xlink:show=\"new\" xlink:title=\"psysml:77a03853-3516-49bc-9a88-c5db4c10002c\" xlink:type=\"simple\"><polygon fill=\"#FFFFFF\" filter=\"url(#f16fhgdveiqmwq)\" points=\"259,50.5,283,50.5,290,72.7969,341,72.7969,341,141.5,259,141.5,259,50.5\" style=\"stroke: #000000; stroke-width: 1.5;\"/><line style=\"stroke: #000000; stroke-width: 1.5;\" x1=\"259\" x2=\"290\" y1=\"72.7969\" y2=\"72.7969\"/><text fill=\"#000000\" font-family=\"sans-serif\" font-size=\"14\" font-weight=\"bold\" lengthAdjust=\"spacingAndGlyphs\" textLength=\"18\" x=\"263\" y=\"65.4951\">P4</text></a><g id=\"E1.E2.E3\"><a href=\"psysml:0a0c0374-c89d-44f1-8ff3-be2f7c1a5b8f\" target=\"_top\" title=\"psysml:0a0c0374-c89d-44f1-8ff3-be2f7c1a5b8f\" xlink:actuate=\"onRequest\" xlink:href=\"psysml:0a0c0374-c89d-44f1-8ff3-be2f7c1a5b8f\" xlink:show=\"new\" xlink:title=\"psysml:0a0c0374-c89d-44f1-8ff3-be2f7c1a5b8f\" xlink:type=\"simple\"><rect fill=\"#FEFECE\" filter=\"url(#f16fhgdveiqmwq)\" height=\"42.9375\" id=\"E3\" style=\"stroke: #A80036; stroke-width: 1.5;\" width=\"75\" x=\"510.5\" y=\"84\"/><text fill=\"#000000\" font-family=\"sans-serif\" font-size=\"12\" font-style=\"italic\" lengthAdjust=\"spacingAndGlyphs\" textLength=\"68\" x=\"514\" y=\"100.1387\">«part  def»</text><text fill=\"#000000\" font-family=\"sans-serif\" font-size=\"12\" lengthAdjust=\"spacingAndGlyphs\" textLength=\"8\" x=\"544\" y=\"114.1074\">A</text></a></g><a href=\"psysml:9b62d657-9794-4032-9fa2-9f176e634d4a\" target=\"_top\" title=\"psysml:9b62d657-9794-4032-9fa2-9f176e634d4a\" xlink:actuate=\"onRequest\" xlink:href=\"psysml:9b62d657-9794-4032-9fa2-9f176e634d4a\" xlink:show=\"new\" xlink:title=\"psysml:9b62d657-9794-4032-9fa2-9f176e634d4a\" xlink:type=\"simple\"><polygon fill=\"#FFFFFF\" filter=\"url(#f16fhgdveiqmwq)\" points=\"202,79,226,79,233,101.2969,240,101.2969,240,131.5938,202,131.5938,202,79\" style=\"stroke: #000000; stroke-width: 1.5;\"/><line style=\"stroke: #000000; stroke-width: 1.5;\" x1=\"202\" x2=\"233\" y1=\"101.2969\" y2=\"101.2969\"/><text fill=\"#000000\" font-family=\"sans-serif\" font-size=\"14\" font-weight=\"bold\" lengthAdjust=\"spacingAndGlyphs\" textLength=\"18\" x=\"206\" y=\"93.9951\">P2</text></a><g id=\"E1.E5\"><a href=\"psysml:99b80f3a-0072-46fe-b843-b9a836066a51\" target=\"_top\" title=\"psysml:99b80f3a-0072-46fe-b843-b9a836066a51\" xlink:actuate=\"onRequest\" xlink:href=\"psysml:99b80f3a-0072-46fe-b843-b9a836066a51\" xlink:show=\"new\" xlink:title=\"psysml:99b80f3a-0072-46fe-b843-b9a836066a51\" xlink:type=\"simple\"><rect fill=\"#FEFECE\" filter=\"url(#f16fhgdveiqmwq)\" height=\"40\" id=\"E5\" rx=\"10\" ry=\"10\" style=\"stroke: #A80036; stroke-width: 1.5;\" width=\"50\" x=\"117\" y=\"85.5\"/><text fill=\"#000000\" font-family=\"sans-serif\" font-size=\"12\" lengthAdjust=\"spacingAndGlyphs\" textLength=\"22\" x=\"131\" y=\"101.6387\">x: A</text></a></g><g id=\"E1.E6.E7\"><a href=\"psysml:af99adbc-0034-4f7c-9fbe-52493ca28392\" target=\"_top\" title=\"psysml:af99adbc-0034-4f7c-9fbe-52493ca28392\" xlink:actuate=\"onRequest\" xlink:href=\"psysml:af99adbc-0034-4f7c-9fbe-52493ca28392\" xlink:show=\"new\" xlink:title=\"psysml:af99adbc-0034-4f7c-9fbe-52493ca28392\" xlink:type=\"simple\"><rect fill=\"#FEFECE\" filter=\"url(#f16fhgdveiqmwq)\" height=\"42.9375\" id=\"E7\" style=\"stroke: #A80036; stroke-width: 1.5;\" width=\"75\" x=\"380.5\" y=\"84\"/><text fill=\"#000000\" font-family=\"sans-serif\" font-size=\"12\" font-style=\"italic\" lengthAdjust=\"spacingAndGlyphs\" textLength=\"68\" x=\"384\" y=\"100.1387\">«part  def»</text><text fill=\"#000000\" font-family=\"sans-serif\" font-size=\"12\" lengthAdjust=\"spacingAndGlyphs\" textLength=\"8\" x=\"414\" y=\"114.1074\">B</text></a></g><g id=\"E1.E8\"><a href=\"psysml:a38466df-faf8-4af5-a290-fb7428072c5f\" target=\"_top\" title=\"psysml:a38466df-faf8-4af5-a290-fb7428072c5f\" xlink:actuate=\"onRequest\" xlink:href=\"psysml:a38466df-faf8-4af5-a290-fb7428072c5f\" xlink:show=\"new\" xlink:title=\"psysml:a38466df-faf8-4af5-a290-fb7428072c5f\" xlink:type=\"simple\"><rect fill=\"#FEFECE\" filter=\"url(#f16fhgdveiqmwq)\" height=\"40\" id=\"E8\" rx=\"10\" ry=\"10\" style=\"stroke: #A80036; stroke-width: 1.5;\" width=\"50\" x=\"32\" y=\"85.5\"/><text fill=\"#000000\" font-family=\"sans-serif\" font-size=\"12\" lengthAdjust=\"spacingAndGlyphs\" textLength=\"21\" x=\"46.5\" y=\"101.6387\">z: B</text></a></g><g id=\"E1.E9.E10\"><a href=\"psysml:d7dc5bce-b37d-4e4e-a49c-d44e6595ca7b\" target=\"_top\" title=\"psysml:d7dc5bce-b37d-4e4e-a49c-d44e6595ca7b\" xlink:actuate=\"onRequest\" xlink:href=\"psysml:d7dc5bce-b37d-4e4e-a49c-d44e6595ca7b\" xlink:show=\"new\" xlink:title=\"psysml:d7dc5bce-b37d-4e4e-a49c-d44e6595ca7b\" xlink:type=\"simple\"><rect fill=\"#FEFECE\" filter=\"url(#f16fhgdveiqmwq)\" height=\"40\" id=\"E10\" rx=\"10\" ry=\"10\" style=\"stroke: #A80036; stroke-width: 1.5;\" width=\"50\" x=\"275\" y=\"85.5\"/><text fill=\"#000000\" font-family=\"sans-serif\" font-size=\"12\" lengthAdjust=\"spacingAndGlyphs\" textLength=\"29\" x=\"285.5\" y=\"101.6387\">z1: A</text></a></g><!--MD5=[fa0aba552c0096194bae6adc24fcb4c1]\n",
       "@startuml\r\n",
       "skinparam ranksep 10\r\n",
       "skinparam rectangle {\r\n",
       " backgroundColor<<block>> LightGreen\r\n",
       "}\r\n",
       "skinparam wrapWidth 300\r\n",
       "hide circle\r\n",
       "\r\n",
       "package \"PrivateImportTest\" as E1  [[psysml:2415ca44-1de1-4a98-b3f0-a39d5285a5bd ]]  {\r\n",
       "package \"P1\" as E2  [[psysml:426e250f-8977-4e89-b166-3835fc91b530 ]]  {\r\n",
       "rec def \"A\" as E3  <<(T,blue) part  def>> [[psysml:0a0c0374-c89d-44f1-8ff3-be2f7c1a5b8f ]] {\r\n",
       "}\r\n",
       "}\r\n",
       "package \"P2\" as E4  [[psysml:9b62d657-9794-4032-9fa2-9f176e634d4a ]]  {\r\n",
       "}\r\n",
       "rec usage \"x: A\" as E5  [[psysml:99b80f3a-0072-46fe-b843-b9a836066a51 ]] {\r\n",
       "}\r\n",
       "package \"P3\" as E6  [[psysml:fe85458f-8707-492f-a6ea-e7b6b29e5b91 ]]  {\r\n",
       "rec def \"B\" as E7  <<(T,blue) part  def>> [[psysml:af99adbc-0034-4f7c-9fbe-52493ca28392 ]] {\r\n",
       "}\r\n",
       "}\r\n",
       "rec usage \"z: B\" as E8  [[psysml:a38466df-faf8-4af5-a290-fb7428072c5f ]] {\r\n",
       "}\r\n",
       "package \"P4\" as E9  [[psysml:77a03853-3516-49bc-9a88-c5db4c10002c ]]  {\r\n",
       "rec usage \"z1: A\" as E10  [[psysml:d7dc5bce-b37d-4e4e-a49c-d44e6595ca7b ]] {\r\n",
       "}\r\n",
       "}\r\n",
       "}\r\n",
       "@enduml\r\n",
       "\n",
       "PlantUML version 1.2020.13(Sat Jun 13 12:26:38 UTC 2020)\n",
       "(EPL source distribution)\n",
       "Java Runtime: OpenJDK Runtime Environment\n",
       "JVM: OpenJDK 64-Bit Server VM\n",
       "Default Encoding: UTF-8\n",
       "Language: en\n",
       "Country: null\n",
       "--></g></svg>"
      ]
     },
     "execution_count": 26,
     "metadata": {},
     "output_type": "execute_result"
    }
   ],
   "source": [
    "%viz --style=\"STDCOLOR\" --view=\"Interconnection\" \"PrivateImportTest\""
   ]
  },
  {
   "cell_type": "code",
   "execution_count": 27,
   "id": "af90a75a",
   "metadata": {
    "execution": {
     "iopub.execute_input": "2021-10-25T08:22:21.877359Z",
     "iopub.status.busy": "2021-10-25T08:22:21.876804Z",
     "iopub.status.idle": "2021-10-25T08:22:21.882160Z",
     "shell.execute_reply": "2021-10-25T08:22:21.881760Z"
    }
   },
   "outputs": [
    {
     "data": {
      "image/svg+xml": [
       "<?xml version=\"1.0\" encoding=\"UTF-8\" standalone=\"no\"?><svg xmlns=\"http://www.w3.org/2000/svg\" xmlns:xlink=\"http://www.w3.org/1999/xlink\" contentScriptType=\"application/ecmascript\" contentStyleType=\"text/css\" height=\"12px\" preserveAspectRatio=\"none\" style=\"width:12px;height:12px;\" version=\"1.1\" viewBox=\"0 0 12 12\" width=\"12px\" zoomAndPan=\"magnify\"><defs/><g><!--MD5=[9863325348a96a77dacc89509d8ee65e]\n",
       "@startuml\r\n",
       "skinparam ranksep 8\r\n",
       "skinparam wrapWidth 300\r\n",
       "hide circle\r\n",
       "\r\n",
       "@enduml\r\n",
       "\n",
       "PlantUML version 1.2020.13(Sat Jun 13 12:26:38 UTC 2020)\n",
       "(EPL source distribution)\n",
       "Java Runtime: OpenJDK Runtime Environment\n",
       "JVM: OpenJDK 64-Bit Server VM\n",
       "Default Encoding: UTF-8\n",
       "Language: en\n",
       "Country: null\n",
       "--></g></svg>"
      ]
     },
     "execution_count": 27,
     "metadata": {},
     "output_type": "execute_result"
    }
   ],
   "source": [
    "%viz --style=\"STDCOLOR\" --view=\"Action\" \"PrivateImportTest\""
   ]
  },
  {
   "cell_type": "code",
   "execution_count": 28,
   "id": "e5a0ca34",
   "metadata": {
    "execution": {
     "iopub.execute_input": "2021-10-25T08:22:21.931644Z",
     "iopub.status.busy": "2021-10-25T08:22:21.931387Z",
     "iopub.status.idle": "2021-10-25T08:22:21.936219Z",
     "shell.execute_reply": "2021-10-25T08:22:21.935962Z"
    }
   },
   "outputs": [
    {
     "data": {
      "image/svg+xml": [
       "<?xml version=\"1.0\" encoding=\"UTF-8\" standalone=\"no\"?><svg xmlns=\"http://www.w3.org/2000/svg\" xmlns:xlink=\"http://www.w3.org/1999/xlink\" contentScriptType=\"application/ecmascript\" contentStyleType=\"text/css\" height=\"12px\" preserveAspectRatio=\"none\" style=\"width:12px;height:12px;\" version=\"1.1\" viewBox=\"0 0 12 12\" width=\"12px\" zoomAndPan=\"magnify\"><defs/><g><!--MD5=[6c4bca67b4d71758159a5a7f1f1e1fc2]\n",
       "@startuml\r\n",
       "skinparam roundcorner 20\r\n",
       "skinparam BoxPadding 20\r\n",
       "skinparam SequenceBoxBackgroundColor #white\r\n",
       "skinparam style strictuml\r\n",
       "skinparam maxMessageSize 100\r\n",
       "skinparam wrapWidth 300\r\n",
       "hide circle\r\n",
       "\r\n",
       "@enduml\r\n",
       "\n",
       "PlantUML version 1.2020.13(Sat Jun 13 12:26:38 UTC 2020)\n",
       "(EPL source distribution)\n",
       "Java Runtime: OpenJDK Runtime Environment\n",
       "JVM: OpenJDK 64-Bit Server VM\n",
       "Default Encoding: UTF-8\n",
       "Language: en\n",
       "Country: null\n",
       "--></g></svg>"
      ]
     },
     "execution_count": 28,
     "metadata": {},
     "output_type": "execute_result"
    }
   ],
   "source": [
    "%viz --style=\"STDCOLOR\" --view=\"Sequence\" \"PrivateImportTest\""
   ]
  },
  {
   "cell_type": "code",
   "execution_count": 29,
   "id": "1fa0ed32",
   "metadata": {
    "execution": {
     "iopub.execute_input": "2021-10-25T08:22:21.986110Z",
     "iopub.status.busy": "2021-10-25T08:22:21.985875Z",
     "iopub.status.idle": "2021-10-25T08:22:22.019462Z",
     "shell.execute_reply": "2021-10-25T08:22:22.019275Z"
    }
   },
   "outputs": [
    {
     "data": {
      "image/svg+xml": [
       "<?xml version=\"1.0\" encoding=\"UTF-8\" standalone=\"no\"?><svg xmlns=\"http://www.w3.org/2000/svg\" xmlns:xlink=\"http://www.w3.org/1999/xlink\" contentScriptType=\"application/ecmascript\" contentStyleType=\"text/css\" height=\"303px\" preserveAspectRatio=\"none\" style=\"width:363px;height:303px;\" version=\"1.1\" viewBox=\"0 0 363 303\" width=\"363px\" zoomAndPan=\"magnify\"><defs><filter height=\"300%\" id=\"frcnr3yojhsrk\" width=\"300%\" x=\"-1\" y=\"-1\"><feGaussianBlur result=\"blurOut\" stdDeviation=\"2.0\"/><feColorMatrix in=\"blurOut\" result=\"blurOut2\" type=\"matrix\" values=\"0 0 0 0 0 0 0 0 0 0 0 0 0 0 0 0 0 0 .4 0\"/><feOffset dx=\"4.0\" dy=\"4.0\" in=\"blurOut2\" result=\"blurOut3\"/><feBlend in=\"SourceGraphic\" in2=\"blurOut3\" mode=\"normal\"/></filter></defs><g><!--MD5=[fbc87193dbaf4d95561dea2c320d4a47]\n",
       "cluster E1--><a href=\"psysml:2415ca44-1de1-4a98-b3f0-a39d5285a5bd\" target=\"_top\" title=\"psysml:2415ca44-1de1-4a98-b3f0-a39d5285a5bd\" xlink:actuate=\"onRequest\" xlink:href=\"psysml:2415ca44-1de1-4a98-b3f0-a39d5285a5bd\" xlink:show=\"new\" xlink:title=\"psysml:2415ca44-1de1-4a98-b3f0-a39d5285a5bd\" xlink:type=\"simple\"><polygon fill=\"#FFFFFF\" filter=\"url(#frcnr3yojhsrk)\" points=\"16,6,143,6,150,28.2969,341,28.2969,341,291,16,291,16,6\" style=\"stroke: #000000; stroke-width: 1.5;\"/><line style=\"stroke: #000000; stroke-width: 1.5;\" x1=\"16\" x2=\"150\" y1=\"28.2969\" y2=\"28.2969\"/><text fill=\"#000000\" font-family=\"sans-serif\" font-size=\"14\" font-weight=\"bold\" lengthAdjust=\"spacingAndGlyphs\" textLength=\"121\" x=\"20\" y=\"20.9951\">PrivateImportTest</text></a><!--MD5=[e4f7fae6ed58524ba242bb0b0d3be6b7]\n",
       "cluster E2--><a href=\"psysml:426e250f-8977-4e89-b166-3835fc91b530\" target=\"_top\" title=\"psysml:426e250f-8977-4e89-b166-3835fc91b530\" xlink:actuate=\"onRequest\" xlink:href=\"psysml:426e250f-8977-4e89-b166-3835fc91b530\" xlink:show=\"new\" xlink:title=\"psysml:426e250f-8977-4e89-b166-3835fc91b530\" xlink:type=\"simple\"><polygon fill=\"#FFFFFF\" filter=\"url(#frcnr3yojhsrk)\" points=\"208,170,232,170,239,192.2969,310,192.2969,310,267,208,267,208,170\" style=\"stroke: #000000; stroke-width: 1.5;\"/><line style=\"stroke: #000000; stroke-width: 1.5;\" x1=\"208\" x2=\"239\" y1=\"192.2969\" y2=\"192.2969\"/><text fill=\"#000000\" font-family=\"sans-serif\" font-size=\"14\" font-weight=\"bold\" lengthAdjust=\"spacingAndGlyphs\" textLength=\"18\" x=\"212\" y=\"184.9951\">P1</text></a><!--MD5=[14e3b0961a2654348d326746436168a1]\n",
       "cluster E6--><a href=\"psysml:fe85458f-8707-492f-a6ea-e7b6b29e5b91\" target=\"_top\" title=\"psysml:fe85458f-8707-492f-a6ea-e7b6b29e5b91\" xlink:actuate=\"onRequest\" xlink:href=\"psysml:fe85458f-8707-492f-a6ea-e7b6b29e5b91\" xlink:show=\"new\" xlink:title=\"psysml:fe85458f-8707-492f-a6ea-e7b6b29e5b91\" xlink:type=\"simple\"><polygon fill=\"#FFFFFF\" filter=\"url(#frcnr3yojhsrk)\" points=\"75,170,99,170,106,192.2969,177,192.2969,177,267,75,267,75,170\" style=\"stroke: #000000; stroke-width: 1.5;\"/><line style=\"stroke: #000000; stroke-width: 1.5;\" x1=\"75\" x2=\"106\" y1=\"192.2969\" y2=\"192.2969\"/><text fill=\"#000000\" font-family=\"sans-serif\" font-size=\"14\" font-weight=\"bold\" lengthAdjust=\"spacingAndGlyphs\" textLength=\"18\" x=\"79\" y=\"184.9951\">P3</text></a><!--MD5=[7f149f147074ac12df2cb0a7728a5fb0]\n",
       "cluster E9--><a href=\"psysml:77a03853-3516-49bc-9a88-c5db4c10002c\" target=\"_top\" title=\"psysml:77a03853-3516-49bc-9a88-c5db4c10002c\" xlink:actuate=\"onRequest\" xlink:href=\"psysml:77a03853-3516-49bc-9a88-c5db4c10002c\" xlink:show=\"new\" xlink:title=\"psysml:77a03853-3516-49bc-9a88-c5db4c10002c\" xlink:type=\"simple\"><polygon fill=\"#FFFFFF\" filter=\"url(#frcnr3yojhsrk)\" points=\"243,49,267,49,274,71.2969,317,71.2969,317,146,243,146,243,49\" style=\"stroke: #000000; stroke-width: 1.5;\"/><line style=\"stroke: #000000; stroke-width: 1.5;\" x1=\"243\" x2=\"274\" y1=\"71.2969\" y2=\"71.2969\"/><text fill=\"#000000\" font-family=\"sans-serif\" font-size=\"14\" font-weight=\"bold\" lengthAdjust=\"spacingAndGlyphs\" textLength=\"18\" x=\"247\" y=\"63.9951\">P4</text></a><!--MD5=[270fce915f116d4de14055a7c1d9a0f3]\n",
       "class E5--><a href=\"psysml:99b80f3a-0072-46fe-b843-b9a836066a51\" target=\"_top\" title=\"psysml:99b80f3a-0072-46fe-b843-b9a836066a51\" xlink:actuate=\"onRequest\" xlink:href=\"psysml:99b80f3a-0072-46fe-b843-b9a836066a51\" xlink:show=\"new\" xlink:title=\"psysml:99b80f3a-0072-46fe-b843-b9a836066a51\" xlink:type=\"simple\"><rect fill=\"#FEFECE\" filter=\"url(#frcnr3yojhsrk)\" height=\"45.9375\" id=\"E5\" rx=\"10\" ry=\"10\" style=\"stroke: #A80036; stroke-width: 1.5;\" width=\"42\" x=\"182\" y=\"84\"/><text fill=\"#000000\" font-family=\"sans-serif\" font-size=\"12\" font-style=\"italic\" lengthAdjust=\"spacingAndGlyphs\" textLength=\"40\" x=\"183\" y=\"100.1387\">«part»</text><text fill=\"#000000\" font-family=\"sans-serif\" font-size=\"12\" lengthAdjust=\"spacingAndGlyphs\" textLength=\"22\" x=\"190\" y=\"114.1074\">x: A</text><line style=\"stroke: #A80036; stroke-width: 1.5;\" x1=\"183\" x2=\"223\" y1=\"121.9375\" y2=\"121.9375\"/></a><!--MD5=[b9389687b975829384b498ac4b7476b2]\n",
       "class E8--><a href=\"psysml:a38466df-faf8-4af5-a290-fb7428072c5f\" target=\"_top\" title=\"psysml:a38466df-faf8-4af5-a290-fb7428072c5f\" xlink:actuate=\"onRequest\" xlink:href=\"psysml:a38466df-faf8-4af5-a290-fb7428072c5f\" xlink:show=\"new\" xlink:title=\"psysml:a38466df-faf8-4af5-a290-fb7428072c5f\" xlink:type=\"simple\"><rect fill=\"#FEFECE\" filter=\"url(#frcnr3yojhsrk)\" height=\"45.9375\" id=\"E8\" rx=\"10\" ry=\"10\" style=\"stroke: #A80036; stroke-width: 1.5;\" width=\"42\" x=\"105\" y=\"84\"/><text fill=\"#000000\" font-family=\"sans-serif\" font-size=\"12\" font-style=\"italic\" lengthAdjust=\"spacingAndGlyphs\" textLength=\"40\" x=\"106\" y=\"100.1387\">«part»</text><text fill=\"#000000\" font-family=\"sans-serif\" font-size=\"12\" lengthAdjust=\"spacingAndGlyphs\" textLength=\"21\" x=\"113.5\" y=\"114.1074\">z: B</text><line style=\"stroke: #A80036; stroke-width: 1.5;\" x1=\"106\" x2=\"146\" y1=\"121.9375\" y2=\"121.9375\"/></a><!--MD5=[09b614a08d8cba4a07c9adeb5e0fee81]\n",
       "class E3--><a href=\"psysml:0a0c0374-c89d-44f1-8ff3-be2f7c1a5b8f\" target=\"_top\" title=\"psysml:0a0c0374-c89d-44f1-8ff3-be2f7c1a5b8f\" xlink:actuate=\"onRequest\" xlink:href=\"psysml:0a0c0374-c89d-44f1-8ff3-be2f7c1a5b8f\" xlink:show=\"new\" xlink:title=\"psysml:0a0c0374-c89d-44f1-8ff3-be2f7c1a5b8f\" xlink:type=\"simple\"><rect fill=\"#FEFECE\" filter=\"url(#frcnr3yojhsrk)\" height=\"45.9375\" id=\"E3\" style=\"stroke: #A80036; stroke-width: 1.5;\" width=\"70\" x=\"224\" y=\"205\"/><text fill=\"#000000\" font-family=\"sans-serif\" font-size=\"12\" font-style=\"italic\" lengthAdjust=\"spacingAndGlyphs\" textLength=\"68\" x=\"225\" y=\"221.1387\">«part  def»</text><text fill=\"#000000\" font-family=\"sans-serif\" font-size=\"12\" lengthAdjust=\"spacingAndGlyphs\" textLength=\"8\" x=\"255\" y=\"235.1074\">A</text><line style=\"stroke: #A80036; stroke-width: 1.5;\" x1=\"225\" x2=\"293\" y1=\"242.9375\" y2=\"242.9375\"/></a><a href=\"psysml:9b62d657-9794-4032-9fa2-9f176e634d4a\" target=\"_top\" title=\"psysml:9b62d657-9794-4032-9fa2-9f176e634d4a\" xlink:actuate=\"onRequest\" xlink:href=\"psysml:9b62d657-9794-4032-9fa2-9f176e634d4a\" xlink:show=\"new\" xlink:title=\"psysml:9b62d657-9794-4032-9fa2-9f176e634d4a\" xlink:type=\"simple\"><polygon fill=\"#FFFFFF\" filter=\"url(#frcnr3yojhsrk)\" points=\"32,80.5,56,80.5,63,102.7969,70,102.7969,70,133.0938,32,133.0938,32,80.5\" style=\"stroke: #000000; stroke-width: 1.5;\"/><line style=\"stroke: #000000; stroke-width: 1.5;\" x1=\"32\" x2=\"63\" y1=\"102.7969\" y2=\"102.7969\"/><text fill=\"#000000\" font-family=\"sans-serif\" font-size=\"14\" font-weight=\"bold\" lengthAdjust=\"spacingAndGlyphs\" textLength=\"18\" x=\"36\" y=\"95.4951\">P2</text></a><!--MD5=[2156ba9850f5573cc1fc38a6a4b2f02b]\n",
       "class E7--><a href=\"psysml:af99adbc-0034-4f7c-9fbe-52493ca28392\" target=\"_top\" title=\"psysml:af99adbc-0034-4f7c-9fbe-52493ca28392\" xlink:actuate=\"onRequest\" xlink:href=\"psysml:af99adbc-0034-4f7c-9fbe-52493ca28392\" xlink:show=\"new\" xlink:title=\"psysml:af99adbc-0034-4f7c-9fbe-52493ca28392\" xlink:type=\"simple\"><rect fill=\"#FEFECE\" filter=\"url(#frcnr3yojhsrk)\" height=\"45.9375\" id=\"E7\" style=\"stroke: #A80036; stroke-width: 1.5;\" width=\"70\" x=\"91\" y=\"205\"/><text fill=\"#000000\" font-family=\"sans-serif\" font-size=\"12\" font-style=\"italic\" lengthAdjust=\"spacingAndGlyphs\" textLength=\"68\" x=\"92\" y=\"221.1387\">«part  def»</text><text fill=\"#000000\" font-family=\"sans-serif\" font-size=\"12\" lengthAdjust=\"spacingAndGlyphs\" textLength=\"8\" x=\"122\" y=\"235.1074\">B</text><line style=\"stroke: #A80036; stroke-width: 1.5;\" x1=\"92\" x2=\"160\" y1=\"242.9375\" y2=\"242.9375\"/></a><!--MD5=[96f4274e9e20536e775497830990834d]\n",
       "class E10--><a href=\"psysml:d7dc5bce-b37d-4e4e-a49c-d44e6595ca7b\" target=\"_top\" title=\"psysml:d7dc5bce-b37d-4e4e-a49c-d44e6595ca7b\" xlink:actuate=\"onRequest\" xlink:href=\"psysml:d7dc5bce-b37d-4e4e-a49c-d44e6595ca7b\" xlink:show=\"new\" xlink:title=\"psysml:d7dc5bce-b37d-4e4e-a49c-d44e6595ca7b\" xlink:type=\"simple\"><rect fill=\"#FEFECE\" filter=\"url(#frcnr3yojhsrk)\" height=\"45.9375\" id=\"E10\" rx=\"10\" ry=\"10\" style=\"stroke: #A80036; stroke-width: 1.5;\" width=\"42\" x=\"259\" y=\"84\"/><text fill=\"#000000\" font-family=\"sans-serif\" font-size=\"12\" font-style=\"italic\" lengthAdjust=\"spacingAndGlyphs\" textLength=\"40\" x=\"260\" y=\"100.1387\">«part»</text><text fill=\"#000000\" font-family=\"sans-serif\" font-size=\"12\" lengthAdjust=\"spacingAndGlyphs\" textLength=\"29\" x=\"263.5\" y=\"114.1074\">z1: A</text><line style=\"stroke: #A80036; stroke-width: 1.5;\" x1=\"260\" x2=\"300\" y1=\"121.9375\" y2=\"121.9375\"/></a><!--MD5=[e9be52314489bd878ff4c7144b63c9e1]\n",
       "link E5 to E3--><a href=\"psysml:2e6435ee-ec1e-47e4-8fad-fb77072556f4\" target=\"_top\" title=\"psysml:2e6435ee-ec1e-47e4-8fad-fb77072556f4\" xlink:actuate=\"onRequest\" xlink:href=\"psysml:2e6435ee-ec1e-47e4-8fad-fb77072556f4\" xlink:show=\"new\" xlink:title=\"psysml:2e6435ee-ec1e-47e4-8fad-fb77072556f4\" xlink:type=\"simple\"><path d=\"M213.4,130.1 C220.82,145.87 231.01,167.52 239.88,186.36 \" fill=\"none\" id=\"E5-&gt;E3\" style=\"stroke: #A80036; stroke-width: 1.0;\"/><polygon fill=\"#FFFFFF\" points=\"248.46,204.61,234.0383,190.3968,246.7067,184.4376,248.46,204.61\" style=\"stroke: #A80036; stroke-width: 1.0;\"/><ellipse cx=\"233.4218\" cy=\"184.3877\" fill=\"#A80036\" rx=\"2\" ry=\"2\" style=\"stroke: #A80036; stroke-width: 1.0;\"/><ellipse cx=\"242.4706\" cy=\"180.1311\" fill=\"#A80036\" rx=\"2\" ry=\"2\" style=\"stroke: #A80036; stroke-width: 1.0;\"/></a><!--MD5=[bfa3c8b0d15052fdf50ae9310b491027]\n",
       "link E8 to E7--><a href=\"psysml:f11bc7c0-c938-426a-87a4-76c9b47cac7e\" target=\"_top\" title=\"psysml:f11bc7c0-c938-426a-87a4-76c9b47cac7e\" xlink:actuate=\"onRequest\" xlink:href=\"psysml:f11bc7c0-c938-426a-87a4-76c9b47cac7e\" xlink:show=\"new\" xlink:title=\"psysml:f11bc7c0-c938-426a-87a4-76c9b47cac7e\" xlink:type=\"simple\"><path d=\"M126,130.1 C126,145.37 126,166.16 126,184.57 \" fill=\"none\" id=\"E8-&gt;E7\" style=\"stroke: #A80036; stroke-width: 1.0;\"/><polygon fill=\"#FFFFFF\" points=\"126,204.61,119,185.61,133,185.61,126,204.61\" style=\"stroke: #A80036; stroke-width: 1.0;\"/><ellipse cx=\"121\" cy=\"179.91\" fill=\"#A80036\" rx=\"2\" ry=\"2\" style=\"stroke: #A80036; stroke-width: 1.0;\"/><ellipse cx=\"131\" cy=\"179.91\" fill=\"#A80036\" rx=\"2\" ry=\"2\" style=\"stroke: #A80036; stroke-width: 1.0;\"/></a><!--MD5=[feeac5eb423634930294aa81f2d25a4c]\n",
       "link E10 to E3--><a href=\"psysml:21a673ac-f9f6-428c-a165-60ea4300f397\" target=\"_top\" title=\"psysml:21a673ac-f9f6-428c-a165-60ea4300f397\" xlink:actuate=\"onRequest\" xlink:href=\"psysml:21a673ac-f9f6-428c-a165-60ea4300f397\" xlink:show=\"new\" xlink:title=\"psysml:21a673ac-f9f6-428c-a165-60ea4300f397\" xlink:type=\"simple\"><path d=\"M276.1,130.1 C273.39,145.45 269.7,166.39 266.44,184.87 \" fill=\"none\" id=\"E10-&gt;E3\" style=\"stroke: #A80036; stroke-width: 1.0;\"/><polygon fill=\"#FFFFFF\" points=\"262.95,204.61,259.3535,184.6835,273.1411,187.1131,262.95,204.61\" style=\"stroke: #A80036; stroke-width: 1.0;\"/><ellipse cx=\"262.3123\" cy=\"179.4171\" fill=\"#A80036\" rx=\"2\" ry=\"2\" style=\"stroke: #A80036; stroke-width: 1.0;\"/><ellipse cx=\"272.1606\" cy=\"181.1525\" fill=\"#A80036\" rx=\"2\" ry=\"2\" style=\"stroke: #A80036; stroke-width: 1.0;\"/></a><!--MD5=[f0b43f3a88364a648db3f43e47047cf8]\n",
       "@startuml\r\n",
       "skinparam wrapWidth 300\r\n",
       "hide circle\r\n",
       "\r\n",
       "package \"PrivateImportTest\" as E1  [[psysml:2415ca44-1de1-4a98-b3f0-a39d5285a5bd ]]  {\r\n",
       "package \"P1\" as E2  [[psysml:426e250f-8977-4e89-b166-3835fc91b530 ]]  {\r\n",
       "comp def \"A\" as E3  <<(T,blue) part  def>> [[psysml:0a0c0374-c89d-44f1-8ff3-be2f7c1a5b8f ]] {\r\n",
       "}\r\n",
       "}\r\n",
       "package \"P2\" as E4  [[psysml:9b62d657-9794-4032-9fa2-9f176e634d4a ]]  {\r\n",
       "}\r\n",
       "comp usage \"x: A \" as E5  <<(T,blue) part>> [[psysml:99b80f3a-0072-46fe-b843-b9a836066a51 ]] {\r\n",
       "}\r\n",
       "package \"P3\" as E6  [[psysml:fe85458f-8707-492f-a6ea-e7b6b29e5b91 ]]  {\r\n",
       "comp def \"B\" as E7  <<(T,blue) part  def>> [[psysml:af99adbc-0034-4f7c-9fbe-52493ca28392 ]] {\r\n",
       "}\r\n",
       "}\r\n",
       "comp usage \"z: B \" as E8  <<(T,blue) part>> [[psysml:a38466df-faf8-4af5-a290-fb7428072c5f ]] {\r\n",
       "}\r\n",
       "package \"P4\" as E9  [[psysml:77a03853-3516-49bc-9a88-c5db4c10002c ]]  {\r\n",
       "comp usage \"z1: A \" as E10  <<(T,blue) part>> [[psysml:d7dc5bce-b37d-4e4e-a49c-d44e6595ca7b ]] {\r\n",
       "}\r\n",
       "}\r\n",
       "}\r\n",
       "E5 - -:|> E3 [[psysml:2e6435ee-ec1e-47e4-8fad-fb77072556f4 ]] \r\n",
       "E8 - -:|> E7 [[psysml:f11bc7c0-c938-426a-87a4-76c9b47cac7e ]] \r\n",
       "E10 - -:|> E3 [[psysml:21a673ac-f9f6-428c-a165-60ea4300f397 ]] \r\n",
       "@enduml\r\n",
       "\n",
       "PlantUML version 1.2020.13(Sat Jun 13 12:26:38 UTC 2020)\n",
       "(EPL source distribution)\n",
       "Java Runtime: OpenJDK Runtime Environment\n",
       "JVM: OpenJDK 64-Bit Server VM\n",
       "Default Encoding: UTF-8\n",
       "Language: en\n",
       "Country: null\n",
       "--></g></svg>"
      ]
     },
     "execution_count": 29,
     "metadata": {},
     "output_type": "execute_result"
    }
   ],
   "source": [
    "%viz --style=\"STDCOLOR\" --view=\"MIXED\" \"PrivateImportTest\""
   ]
  },
  {
   "cell_type": "code",
   "execution_count": 30,
   "id": "79bc7723",
   "metadata": {
    "execution": {
     "iopub.execute_input": "2021-10-25T08:22:22.070290Z",
     "iopub.status.busy": "2021-10-25T08:22:22.069776Z",
     "iopub.status.idle": "2021-10-25T08:22:22.134291Z",
     "shell.execute_reply": "2021-10-25T08:22:22.133917Z"
    }
   },
   "outputs": [
    {
     "data": {
      "image/svg+xml": [
       "<?xml version=\"1.0\" encoding=\"UTF-8\" standalone=\"no\"?><svg xmlns=\"http://www.w3.org/2000/svg\" xmlns:xlink=\"http://www.w3.org/1999/xlink\" contentScriptType=\"application/ecmascript\" contentStyleType=\"text/css\" height=\"297px\" preserveAspectRatio=\"none\" style=\"width:441px;height:297px;\" version=\"1.1\" viewBox=\"0 0 441 297\" width=\"441px\" zoomAndPan=\"magnify\"><defs><filter height=\"300%\" id=\"f17u58k9isoi3b\" width=\"300%\" x=\"-1\" y=\"-1\"><feGaussianBlur result=\"blurOut\" stdDeviation=\"2.0\"/><feColorMatrix in=\"blurOut\" result=\"blurOut2\" type=\"matrix\" values=\"0 0 0 0 0 0 0 0 0 0 0 0 0 0 0 0 0 0 .4 0\"/><feOffset dx=\"4.0\" dy=\"4.0\" in=\"blurOut2\" result=\"blurOut3\"/><feBlend in=\"SourceGraphic\" in2=\"blurOut3\" mode=\"normal\"/></filter></defs><g><!--MD5=[fbc87193dbaf4d95561dea2c320d4a47]\n",
       "cluster E1--><a href=\"psysml:2415ca44-1de1-4a98-b3f0-a39d5285a5bd\" target=\"_top\" title=\"psysml:2415ca44-1de1-4a98-b3f0-a39d5285a5bd\" xlink:actuate=\"onRequest\" xlink:href=\"psysml:2415ca44-1de1-4a98-b3f0-a39d5285a5bd\" xlink:show=\"new\" xlink:title=\"psysml:2415ca44-1de1-4a98-b3f0-a39d5285a5bd\" xlink:type=\"simple\"><polygon fill=\"#FFFFFF\" filter=\"url(#f17u58k9isoi3b)\" points=\"16,6,143,6,150,28.2969,419,28.2969,419,285,16,285,16,6\" style=\"stroke: #000000; stroke-width: 1.5;\"/><line style=\"stroke: #000000; stroke-width: 1.5;\" x1=\"16\" x2=\"150\" y1=\"28.2969\" y2=\"28.2969\"/><text fill=\"#000000\" font-family=\"sans-serif\" font-size=\"14\" font-weight=\"bold\" lengthAdjust=\"spacingAndGlyphs\" textLength=\"121\" x=\"20\" y=\"20.9951\">PrivateImportTest</text></a><!--MD5=[e4f7fae6ed58524ba242bb0b0d3be6b7]\n",
       "cluster E2--><a href=\"psysml:426e250f-8977-4e89-b166-3835fc91b530\" target=\"_top\" title=\"psysml:426e250f-8977-4e89-b166-3835fc91b530\" xlink:actuate=\"onRequest\" xlink:href=\"psysml:426e250f-8977-4e89-b166-3835fc91b530\" xlink:show=\"new\" xlink:title=\"psysml:426e250f-8977-4e89-b166-3835fc91b530\" xlink:type=\"simple\"><polygon fill=\"#FFFFFF\" filter=\"url(#f17u58k9isoi3b)\" points=\"257,170,281,170,288,192.2969,329,192.2969,329,261,257,261,257,170\" style=\"stroke: #000000; stroke-width: 1.5;\"/><line style=\"stroke: #000000; stroke-width: 1.5;\" x1=\"257\" x2=\"288\" y1=\"192.2969\" y2=\"192.2969\"/><text fill=\"#000000\" font-family=\"sans-serif\" font-size=\"14\" font-weight=\"bold\" lengthAdjust=\"spacingAndGlyphs\" textLength=\"18\" x=\"261\" y=\"184.9951\">P1</text></a><!--MD5=[14e3b0961a2654348d326746436168a1]\n",
       "cluster E6--><a href=\"psysml:fe85458f-8707-492f-a6ea-e7b6b29e5b91\" target=\"_top\" title=\"psysml:fe85458f-8707-492f-a6ea-e7b6b29e5b91\" xlink:actuate=\"onRequest\" xlink:href=\"psysml:fe85458f-8707-492f-a6ea-e7b6b29e5b91\" xlink:show=\"new\" xlink:title=\"psysml:fe85458f-8707-492f-a6ea-e7b6b29e5b91\" xlink:type=\"simple\"><polygon fill=\"#FFFFFF\" filter=\"url(#f17u58k9isoi3b)\" points=\"103,170,127,170,134,192.2969,175,192.2969,175,261,103,261,103,170\" style=\"stroke: #000000; stroke-width: 1.5;\"/><line style=\"stroke: #000000; stroke-width: 1.5;\" x1=\"103\" x2=\"134\" y1=\"192.2969\" y2=\"192.2969\"/><text fill=\"#000000\" font-family=\"sans-serif\" font-size=\"14\" font-weight=\"bold\" lengthAdjust=\"spacingAndGlyphs\" textLength=\"18\" x=\"107\" y=\"184.9951\">P3</text></a><!--MD5=[7f149f147074ac12df2cb0a7728a5fb0]\n",
       "cluster E9--><a href=\"psysml:77a03853-3516-49bc-9a88-c5db4c10002c\" target=\"_top\" title=\"psysml:77a03853-3516-49bc-9a88-c5db4c10002c\" xlink:actuate=\"onRequest\" xlink:href=\"psysml:77a03853-3516-49bc-9a88-c5db4c10002c\" xlink:show=\"new\" xlink:title=\"psysml:77a03853-3516-49bc-9a88-c5db4c10002c\" xlink:type=\"simple\"><polygon fill=\"#FFFFFF\" filter=\"url(#f17u58k9isoi3b)\" points=\"295,49,319,49,326,71.2969,395,71.2969,395,146,295,146,295,49\" style=\"stroke: #000000; stroke-width: 1.5;\"/><line style=\"stroke: #000000; stroke-width: 1.5;\" x1=\"295\" x2=\"326\" y1=\"71.2969\" y2=\"71.2969\"/><text fill=\"#000000\" font-family=\"sans-serif\" font-size=\"14\" font-weight=\"bold\" lengthAdjust=\"spacingAndGlyphs\" textLength=\"18\" x=\"299\" y=\"63.9951\">P4</text></a><!--MD5=[270fce915f116d4de14055a7c1d9a0f3]\n",
       "class E5--><a href=\"psysml:99b80f3a-0072-46fe-b843-b9a836066a51\" target=\"_top\" title=\"psysml:99b80f3a-0072-46fe-b843-b9a836066a51\" xlink:actuate=\"onRequest\" xlink:href=\"psysml:99b80f3a-0072-46fe-b843-b9a836066a51\" xlink:show=\"new\" xlink:title=\"psysml:99b80f3a-0072-46fe-b843-b9a836066a51\" xlink:type=\"simple\"><rect fill=\"#FEFECE\" filter=\"url(#f17u58k9isoi3b)\" height=\"45.9375\" id=\"E5\" rx=\"10\" ry=\"10\" style=\"stroke: #A80036; stroke-width: 1.5;\" width=\"68\" x=\"208\" y=\"84\"/><ellipse cx=\"223\" cy=\"102.9688\" fill=\"#32CD32\" rx=\"11\" ry=\"11\" style=\"stroke: #A80036; stroke-width: 1.0;\"/><path d=\"M219.8125,107.9688 L219.8125,97.375 L223.4219,97.375 Q224.6406,97.375 225.4375,97.8125 Q226.2344,98.2344 226.6094,98.9375 Q227,99.6406 227,100.4844 Q227,101.3281 226.625,102.0156 Q226.2656,102.7031 225.4688,103.125 Q224.6875,103.5313 223.5,103.5313 L221.7656,103.5313 L221.7656,107.9688 L219.8125,107.9688 Z M221.7656,101.9375 L223.375,101.9375 Q224.1875,101.9375 224.6094,101.5313 Q225.0313,101.125 225.0313,100.4844 Q225.0313,99.8594 224.6094,99.4531 Q224.1875,99.0469 223.3906,99.0469 L221.7656,99.0469 L221.7656,101.9375 Z \"/><text fill=\"#000000\" font-family=\"sans-serif\" font-size=\"12\" font-style=\"italic\" lengthAdjust=\"spacingAndGlyphs\" textLength=\"40\" x=\"235\" y=\"100.1387\">«part»</text><text fill=\"#000000\" font-family=\"sans-serif\" font-size=\"12\" lengthAdjust=\"spacingAndGlyphs\" textLength=\"22\" x=\"242\" y=\"114.1074\">x: A</text><line style=\"stroke: #A80036; stroke-width: 1.5;\" x1=\"209\" x2=\"275\" y1=\"121.9375\" y2=\"121.9375\"/></a><!--MD5=[b9389687b975829384b498ac4b7476b2]\n",
       "class E8--><a href=\"psysml:a38466df-faf8-4af5-a290-fb7428072c5f\" target=\"_top\" title=\"psysml:a38466df-faf8-4af5-a290-fb7428072c5f\" xlink:actuate=\"onRequest\" xlink:href=\"psysml:a38466df-faf8-4af5-a290-fb7428072c5f\" xlink:show=\"new\" xlink:title=\"psysml:a38466df-faf8-4af5-a290-fb7428072c5f\" xlink:type=\"simple\"><rect fill=\"#FEFECE\" filter=\"url(#f17u58k9isoi3b)\" height=\"45.9375\" id=\"E8\" rx=\"10\" ry=\"10\" style=\"stroke: #A80036; stroke-width: 1.5;\" width=\"68\" x=\"105\" y=\"84\"/><ellipse cx=\"120\" cy=\"102.9688\" fill=\"#32CD32\" rx=\"11\" ry=\"11\" style=\"stroke: #A80036; stroke-width: 1.0;\"/><path d=\"M116.8125,107.9688 L116.8125,97.375 L120.4219,97.375 Q121.6406,97.375 122.4375,97.8125 Q123.2344,98.2344 123.6094,98.9375 Q124,99.6406 124,100.4844 Q124,101.3281 123.625,102.0156 Q123.2656,102.7031 122.4688,103.125 Q121.6875,103.5313 120.5,103.5313 L118.7656,103.5313 L118.7656,107.9688 L116.8125,107.9688 Z M118.7656,101.9375 L120.375,101.9375 Q121.1875,101.9375 121.6094,101.5313 Q122.0313,101.125 122.0313,100.4844 Q122.0313,99.8594 121.6094,99.4531 Q121.1875,99.0469 120.3906,99.0469 L118.7656,99.0469 L118.7656,101.9375 Z \"/><text fill=\"#000000\" font-family=\"sans-serif\" font-size=\"12\" font-style=\"italic\" lengthAdjust=\"spacingAndGlyphs\" textLength=\"40\" x=\"132\" y=\"100.1387\">«part»</text><text fill=\"#000000\" font-family=\"sans-serif\" font-size=\"12\" lengthAdjust=\"spacingAndGlyphs\" textLength=\"21\" x=\"139.5\" y=\"114.1074\">z: B</text><line style=\"stroke: #A80036; stroke-width: 1.5;\" x1=\"106\" x2=\"172\" y1=\"121.9375\" y2=\"121.9375\"/></a><!--MD5=[09b614a08d8cba4a07c9adeb5e0fee81]\n",
       "class E3--><a href=\"psysml:0a0c0374-c89d-44f1-8ff3-be2f7c1a5b8f\" target=\"_top\" title=\"psysml:0a0c0374-c89d-44f1-8ff3-be2f7c1a5b8f\" xlink:actuate=\"onRequest\" xlink:href=\"psysml:0a0c0374-c89d-44f1-8ff3-be2f7c1a5b8f\" xlink:show=\"new\" xlink:title=\"psysml:0a0c0374-c89d-44f1-8ff3-be2f7c1a5b8f\" xlink:type=\"simple\"><rect fill=\"#FEFECE\" filter=\"url(#f17u58k9isoi3b)\" height=\"40\" id=\"E3\" style=\"stroke: #A80036; stroke-width: 1.5;\" width=\"40\" x=\"273\" y=\"205\"/><ellipse cx=\"288\" cy=\"221\" fill=\"#008000\" rx=\"11\" ry=\"11\" style=\"stroke: #A80036; stroke-width: 1.0;\"/><path d=\"M284.875,226 L284.875,215.4063 L288.1094,215.4063 Q290.0156,215.4063 290.9219,216.1563 Q291.8438,216.9063 291.8438,218.0781 Q291.8438,218.7656 291.4531,219.4219 Q291.0781,220.0781 290.3594,220.375 Q291.2188,220.75 291.7344,221.4375 Q292.25,222.125 292.25,222.9375 Q292.25,224.3125 291.2188,225.1563 Q290.2031,226 288.0938,226 L284.875,226 Z M286.7969,219.6406 L287.9531,219.6406 Q289.0781,219.6406 289.4844,219.2656 Q289.9063,218.875 289.9063,218.25 Q289.9063,217.6719 289.4844,217.3125 Q289.0625,216.9531 288.125,216.9531 L286.7969,216.9531 L286.7969,219.6406 Z M286.7969,224.4219 L288.2969,224.4219 Q289.2031,224.4219 289.7344,224.0313 Q290.2656,223.6406 290.2656,222.8906 Q290.2656,222.125 289.7656,221.6563 Q289.2656,221.1719 288,221.1719 L286.7969,221.1719 L286.7969,224.4219 Z \"/><text fill=\"#000000\" font-family=\"sans-serif\" font-size=\"12\" lengthAdjust=\"spacingAndGlyphs\" textLength=\"8\" x=\"302\" y=\"225.1543\">A</text><line style=\"stroke: #A80036; stroke-width: 1.5;\" x1=\"274\" x2=\"312\" y1=\"237\" y2=\"237\"/></a><a href=\"psysml:9b62d657-9794-4032-9fa2-9f176e634d4a\" target=\"_top\" title=\"psysml:9b62d657-9794-4032-9fa2-9f176e634d4a\" xlink:actuate=\"onRequest\" xlink:href=\"psysml:9b62d657-9794-4032-9fa2-9f176e634d4a\" xlink:show=\"new\" xlink:title=\"psysml:9b62d657-9794-4032-9fa2-9f176e634d4a\" xlink:type=\"simple\"><polygon fill=\"#FFFFFF\" filter=\"url(#f17u58k9isoi3b)\" points=\"32,80.5,56,80.5,63,102.7969,70,102.7969,70,133.0938,32,133.0938,32,80.5\" style=\"stroke: #000000; stroke-width: 1.5;\"/><line style=\"stroke: #000000; stroke-width: 1.5;\" x1=\"32\" x2=\"63\" y1=\"102.7969\" y2=\"102.7969\"/><text fill=\"#000000\" font-family=\"sans-serif\" font-size=\"14\" font-weight=\"bold\" lengthAdjust=\"spacingAndGlyphs\" textLength=\"18\" x=\"36\" y=\"95.4951\">P2</text></a><!--MD5=[2156ba9850f5573cc1fc38a6a4b2f02b]\n",
       "class E7--><a href=\"psysml:af99adbc-0034-4f7c-9fbe-52493ca28392\" target=\"_top\" title=\"psysml:af99adbc-0034-4f7c-9fbe-52493ca28392\" xlink:actuate=\"onRequest\" xlink:href=\"psysml:af99adbc-0034-4f7c-9fbe-52493ca28392\" xlink:show=\"new\" xlink:title=\"psysml:af99adbc-0034-4f7c-9fbe-52493ca28392\" xlink:type=\"simple\"><rect fill=\"#FEFECE\" filter=\"url(#f17u58k9isoi3b)\" height=\"40\" id=\"E7\" style=\"stroke: #A80036; stroke-width: 1.5;\" width=\"40\" x=\"119\" y=\"205\"/><ellipse cx=\"134\" cy=\"221\" fill=\"#008000\" rx=\"11\" ry=\"11\" style=\"stroke: #A80036; stroke-width: 1.0;\"/><path d=\"M130.875,226 L130.875,215.4063 L134.1094,215.4063 Q136.0156,215.4063 136.9219,216.1563 Q137.8438,216.9063 137.8438,218.0781 Q137.8438,218.7656 137.4531,219.4219 Q137.0781,220.0781 136.3594,220.375 Q137.2188,220.75 137.7344,221.4375 Q138.25,222.125 138.25,222.9375 Q138.25,224.3125 137.2188,225.1563 Q136.2031,226 134.0938,226 L130.875,226 Z M132.7969,219.6406 L133.9531,219.6406 Q135.0781,219.6406 135.4844,219.2656 Q135.9063,218.875 135.9063,218.25 Q135.9063,217.6719 135.4844,217.3125 Q135.0625,216.9531 134.125,216.9531 L132.7969,216.9531 L132.7969,219.6406 Z M132.7969,224.4219 L134.2969,224.4219 Q135.2031,224.4219 135.7344,224.0313 Q136.2656,223.6406 136.2656,222.8906 Q136.2656,222.125 135.7656,221.6563 Q135.2656,221.1719 134,221.1719 L132.7969,221.1719 L132.7969,224.4219 Z \"/><text fill=\"#000000\" font-family=\"sans-serif\" font-size=\"12\" lengthAdjust=\"spacingAndGlyphs\" textLength=\"8\" x=\"148\" y=\"225.1543\">B</text><line style=\"stroke: #A80036; stroke-width: 1.5;\" x1=\"120\" x2=\"158\" y1=\"237\" y2=\"237\"/></a><!--MD5=[96f4274e9e20536e775497830990834d]\n",
       "class E10--><a href=\"psysml:d7dc5bce-b37d-4e4e-a49c-d44e6595ca7b\" target=\"_top\" title=\"psysml:d7dc5bce-b37d-4e4e-a49c-d44e6595ca7b\" xlink:actuate=\"onRequest\" xlink:href=\"psysml:d7dc5bce-b37d-4e4e-a49c-d44e6595ca7b\" xlink:show=\"new\" xlink:title=\"psysml:d7dc5bce-b37d-4e4e-a49c-d44e6595ca7b\" xlink:type=\"simple\"><rect fill=\"#FEFECE\" filter=\"url(#f17u58k9isoi3b)\" height=\"45.9375\" id=\"E10\" rx=\"10\" ry=\"10\" style=\"stroke: #A80036; stroke-width: 1.5;\" width=\"68\" x=\"311\" y=\"84\"/><ellipse cx=\"326\" cy=\"102.9688\" fill=\"#32CD32\" rx=\"11\" ry=\"11\" style=\"stroke: #A80036; stroke-width: 1.0;\"/><path d=\"M322.8125,107.9688 L322.8125,97.375 L326.4219,97.375 Q327.6406,97.375 328.4375,97.8125 Q329.2344,98.2344 329.6094,98.9375 Q330,99.6406 330,100.4844 Q330,101.3281 329.625,102.0156 Q329.2656,102.7031 328.4688,103.125 Q327.6875,103.5313 326.5,103.5313 L324.7656,103.5313 L324.7656,107.9688 L322.8125,107.9688 Z M324.7656,101.9375 L326.375,101.9375 Q327.1875,101.9375 327.6094,101.5313 Q328.0313,101.125 328.0313,100.4844 Q328.0313,99.8594 327.6094,99.4531 Q327.1875,99.0469 326.3906,99.0469 L324.7656,99.0469 L324.7656,101.9375 Z \"/><text fill=\"#000000\" font-family=\"sans-serif\" font-size=\"12\" font-style=\"italic\" lengthAdjust=\"spacingAndGlyphs\" textLength=\"40\" x=\"338\" y=\"100.1387\">«part»</text><text fill=\"#000000\" font-family=\"sans-serif\" font-size=\"12\" lengthAdjust=\"spacingAndGlyphs\" textLength=\"29\" x=\"341.5\" y=\"114.1074\">z1: A</text><line style=\"stroke: #A80036; stroke-width: 1.5;\" x1=\"312\" x2=\"378\" y1=\"121.9375\" y2=\"121.9375\"/></a><!--MD5=[e9be52314489bd878ff4c7144b63c9e1]\n",
       "link E5 to E3--><a href=\"psysml:2e6435ee-ec1e-47e4-8fad-fb77072556f4\" target=\"_top\" title=\"psysml:2e6435ee-ec1e-47e4-8fad-fb77072556f4\" xlink:actuate=\"onRequest\" xlink:href=\"psysml:2e6435ee-ec1e-47e4-8fad-fb77072556f4\" xlink:show=\"new\" xlink:title=\"psysml:2e6435ee-ec1e-47e4-8fad-fb77072556f4\" xlink:type=\"simple\"><path d=\"M251.71,130.09 C258.67,145.93 268.22,167.65 276.39,186.21 \" fill=\"none\" id=\"E5-&gt;E3\" style=\"stroke: #A80036; stroke-width: 1.0;\"/><polygon fill=\"#FFFFFF\" points=\"284.51,204.69,270.4611,190.1083,283.2794,184.479,284.51,204.69\" style=\"stroke: #A80036; stroke-width: 1.0;\"/><ellipse cx=\"270.0003\" cy=\"184.0852\" fill=\"#A80036\" rx=\"2\" ry=\"2\" style=\"stroke: #A80036; stroke-width: 1.0;\"/><ellipse cx=\"279.1563\" cy=\"180.0642\" fill=\"#A80036\" rx=\"2\" ry=\"2\" style=\"stroke: #A80036; stroke-width: 1.0;\"/></a><!--MD5=[bfa3c8b0d15052fdf50ae9310b491027]\n",
       "link E8 to E7--><a href=\"psysml:f11bc7c0-c938-426a-87a4-76c9b47cac7e\" target=\"_top\" title=\"psysml:f11bc7c0-c938-426a-87a4-76c9b47cac7e\" xlink:actuate=\"onRequest\" xlink:href=\"psysml:f11bc7c0-c938-426a-87a4-76c9b47cac7e\" xlink:show=\"new\" xlink:title=\"psysml:f11bc7c0-c938-426a-87a4-76c9b47cac7e\" xlink:type=\"simple\"><path d=\"M139,130.09 C139,145.42 139,166.27 139,184.42 \" fill=\"none\" id=\"E8-&gt;E7\" style=\"stroke: #A80036; stroke-width: 1.0;\"/><polygon fill=\"#FFFFFF\" points=\"139,204.69,132,185.69,146,185.69,139,204.69\" style=\"stroke: #A80036; stroke-width: 1.0;\"/><ellipse cx=\"134\" cy=\"179.99\" fill=\"#A80036\" rx=\"2\" ry=\"2\" style=\"stroke: #A80036; stroke-width: 1.0;\"/><ellipse cx=\"144\" cy=\"179.99\" fill=\"#A80036\" rx=\"2\" ry=\"2\" style=\"stroke: #A80036; stroke-width: 1.0;\"/></a><!--MD5=[feeac5eb423634930294aa81f2d25a4c]\n",
       "link E10 to E3--><a href=\"psysml:21a673ac-f9f6-428c-a165-60ea4300f397\" target=\"_top\" title=\"psysml:21a673ac-f9f6-428c-a165-60ea4300f397\" xlink:actuate=\"onRequest\" xlink:href=\"psysml:21a673ac-f9f6-428c-a165-60ea4300f397\" xlink:show=\"new\" xlink:title=\"psysml:21a673ac-f9f6-428c-a165-60ea4300f397\" xlink:type=\"simple\"><path d=\"M335.1,130.09 C328,145.93 318.26,167.65 309.94,186.21 \" fill=\"none\" id=\"E10-&gt;E3\" style=\"stroke: #A80036; stroke-width: 1.0;\"/><polygon fill=\"#FFFFFF\" points=\"301.66,204.69,303.0459,184.489,315.8206,190.2167,301.66,204.69\" style=\"stroke: #A80036; stroke-width: 1.0;\"/><ellipse cx=\"307.2028\" cy=\"180.1061\" fill=\"#A80036\" rx=\"2\" ry=\"2\" style=\"stroke: #A80036; stroke-width: 1.0;\"/><ellipse cx=\"316.3276\" cy=\"184.1973\" fill=\"#A80036\" rx=\"2\" ry=\"2\" style=\"stroke: #A80036; stroke-width: 1.0;\"/></a><!--MD5=[6f8d80c21557eb33d08716f3e0b55ade]\n",
       "@startuml\r\n",
       " \r\n",
       "package \"PrivateImportTest\" as E1  [[psysml:2415ca44-1de1-4a98-b3f0-a39d5285a5bd ]]  {\r\n",
       "package \"P1\" as E2  [[psysml:426e250f-8977-4e89-b166-3835fc91b530 ]]  {\r\n",
       "comp def \"A\" as E3 << << (B,green) >> [[psysml:0a0c0374-c89d-44f1-8ff3-be2f7c1a5b8f ]] {\r\n",
       "}\r\n",
       "}\r\n",
       "package \"P2\" as E4  [[psysml:9b62d657-9794-4032-9fa2-9f176e634d4a ]]  {\r\n",
       "}\r\n",
       "comp usage \"x: A \" as E5 << << (P,limegreen) part>> [[psysml:99b80f3a-0072-46fe-b843-b9a836066a51 ]] {\r\n",
       "}\r\n",
       "package \"P3\" as E6  [[psysml:fe85458f-8707-492f-a6ea-e7b6b29e5b91 ]]  {\r\n",
       "comp def \"B\" as E7 << << (B,green) >> [[psysml:af99adbc-0034-4f7c-9fbe-52493ca28392 ]] {\r\n",
       "}\r\n",
       "}\r\n",
       "comp usage \"z: B \" as E8 << << (P,limegreen) part>> [[psysml:a38466df-faf8-4af5-a290-fb7428072c5f ]] {\r\n",
       "}\r\n",
       "package \"P4\" as E9  [[psysml:77a03853-3516-49bc-9a88-c5db4c10002c ]]  {\r\n",
       "comp usage \"z1: A \" as E10 << << (P,limegreen) part>> [[psysml:d7dc5bce-b37d-4e4e-a49c-d44e6595ca7b ]] {\r\n",
       "}\r\n",
       "}\r\n",
       "}\r\n",
       "E5 - -:|> E3 [[psysml:2e6435ee-ec1e-47e4-8fad-fb77072556f4 ]] \r\n",
       "E8 - -:|> E7 [[psysml:f11bc7c0-c938-426a-87a4-76c9b47cac7e ]] \r\n",
       "E10 - -:|> E3 [[psysml:21a673ac-f9f6-428c-a165-60ea4300f397 ]] \r\n",
       "@enduml\r\n",
       "\n",
       "PlantUML version 1.2020.13(Sat Jun 13 12:26:38 UTC 2020)\n",
       "(EPL source distribution)\n",
       "Java Runtime: OpenJDK Runtime Environment\n",
       "JVM: OpenJDK 64-Bit Server VM\n",
       "Default Encoding: UTF-8\n",
       "Language: en\n",
       "Country: null\n",
       "--></g></svg>"
      ]
     },
     "execution_count": 30,
     "metadata": {},
     "output_type": "execute_result"
    }
   ],
   "source": [
    "%viz --style=\"PLANTUML\" --view=\"Default\" \"PrivateImportTest\""
   ]
  },
  {
   "cell_type": "code",
   "execution_count": 31,
   "id": "91d96058",
   "metadata": {
    "execution": {
     "iopub.execute_input": "2021-10-25T08:22:22.183602Z",
     "iopub.status.busy": "2021-10-25T08:22:22.183157Z",
     "iopub.status.idle": "2021-10-25T08:22:22.211115Z",
     "shell.execute_reply": "2021-10-25T08:22:22.209178Z"
    }
   },
   "outputs": [
    {
     "data": {
      "image/svg+xml": [
       "<?xml version=\"1.0\" encoding=\"UTF-8\" standalone=\"no\"?><svg xmlns=\"http://www.w3.org/2000/svg\" xmlns:xlink=\"http://www.w3.org/1999/xlink\" contentScriptType=\"application/ecmascript\" contentStyleType=\"text/css\" height=\"297px\" preserveAspectRatio=\"none\" style=\"width:441px;height:297px;\" version=\"1.1\" viewBox=\"0 0 441 297\" width=\"441px\" zoomAndPan=\"magnify\"><defs><filter height=\"300%\" id=\"f17u58k9isoi3b\" width=\"300%\" x=\"-1\" y=\"-1\"><feGaussianBlur result=\"blurOut\" stdDeviation=\"2.0\"/><feColorMatrix in=\"blurOut\" result=\"blurOut2\" type=\"matrix\" values=\"0 0 0 0 0 0 0 0 0 0 0 0 0 0 0 0 0 0 .4 0\"/><feOffset dx=\"4.0\" dy=\"4.0\" in=\"blurOut2\" result=\"blurOut3\"/><feBlend in=\"SourceGraphic\" in2=\"blurOut3\" mode=\"normal\"/></filter></defs><g><!--MD5=[fbc87193dbaf4d95561dea2c320d4a47]\n",
       "cluster E1--><a href=\"psysml:2415ca44-1de1-4a98-b3f0-a39d5285a5bd\" target=\"_top\" title=\"psysml:2415ca44-1de1-4a98-b3f0-a39d5285a5bd\" xlink:actuate=\"onRequest\" xlink:href=\"psysml:2415ca44-1de1-4a98-b3f0-a39d5285a5bd\" xlink:show=\"new\" xlink:title=\"psysml:2415ca44-1de1-4a98-b3f0-a39d5285a5bd\" xlink:type=\"simple\"><polygon fill=\"#FFFFFF\" filter=\"url(#f17u58k9isoi3b)\" points=\"16,6,143,6,150,28.2969,419,28.2969,419,285,16,285,16,6\" style=\"stroke: #000000; stroke-width: 1.5;\"/><line style=\"stroke: #000000; stroke-width: 1.5;\" x1=\"16\" x2=\"150\" y1=\"28.2969\" y2=\"28.2969\"/><text fill=\"#000000\" font-family=\"sans-serif\" font-size=\"14\" font-weight=\"bold\" lengthAdjust=\"spacingAndGlyphs\" textLength=\"121\" x=\"20\" y=\"20.9951\">PrivateImportTest</text></a><!--MD5=[e4f7fae6ed58524ba242bb0b0d3be6b7]\n",
       "cluster E2--><a href=\"psysml:426e250f-8977-4e89-b166-3835fc91b530\" target=\"_top\" title=\"psysml:426e250f-8977-4e89-b166-3835fc91b530\" xlink:actuate=\"onRequest\" xlink:href=\"psysml:426e250f-8977-4e89-b166-3835fc91b530\" xlink:show=\"new\" xlink:title=\"psysml:426e250f-8977-4e89-b166-3835fc91b530\" xlink:type=\"simple\"><polygon fill=\"#FFFFFF\" filter=\"url(#f17u58k9isoi3b)\" points=\"257,170,281,170,288,192.2969,329,192.2969,329,261,257,261,257,170\" style=\"stroke: #000000; stroke-width: 1.5;\"/><line style=\"stroke: #000000; stroke-width: 1.5;\" x1=\"257\" x2=\"288\" y1=\"192.2969\" y2=\"192.2969\"/><text fill=\"#000000\" font-family=\"sans-serif\" font-size=\"14\" font-weight=\"bold\" lengthAdjust=\"spacingAndGlyphs\" textLength=\"18\" x=\"261\" y=\"184.9951\">P1</text></a><!--MD5=[14e3b0961a2654348d326746436168a1]\n",
       "cluster E6--><a href=\"psysml:fe85458f-8707-492f-a6ea-e7b6b29e5b91\" target=\"_top\" title=\"psysml:fe85458f-8707-492f-a6ea-e7b6b29e5b91\" xlink:actuate=\"onRequest\" xlink:href=\"psysml:fe85458f-8707-492f-a6ea-e7b6b29e5b91\" xlink:show=\"new\" xlink:title=\"psysml:fe85458f-8707-492f-a6ea-e7b6b29e5b91\" xlink:type=\"simple\"><polygon fill=\"#FFFFFF\" filter=\"url(#f17u58k9isoi3b)\" points=\"103,170,127,170,134,192.2969,175,192.2969,175,261,103,261,103,170\" style=\"stroke: #000000; stroke-width: 1.5;\"/><line style=\"stroke: #000000; stroke-width: 1.5;\" x1=\"103\" x2=\"134\" y1=\"192.2969\" y2=\"192.2969\"/><text fill=\"#000000\" font-family=\"sans-serif\" font-size=\"14\" font-weight=\"bold\" lengthAdjust=\"spacingAndGlyphs\" textLength=\"18\" x=\"107\" y=\"184.9951\">P3</text></a><!--MD5=[7f149f147074ac12df2cb0a7728a5fb0]\n",
       "cluster E9--><a href=\"psysml:77a03853-3516-49bc-9a88-c5db4c10002c\" target=\"_top\" title=\"psysml:77a03853-3516-49bc-9a88-c5db4c10002c\" xlink:actuate=\"onRequest\" xlink:href=\"psysml:77a03853-3516-49bc-9a88-c5db4c10002c\" xlink:show=\"new\" xlink:title=\"psysml:77a03853-3516-49bc-9a88-c5db4c10002c\" xlink:type=\"simple\"><polygon fill=\"#FFFFFF\" filter=\"url(#f17u58k9isoi3b)\" points=\"295,49,319,49,326,71.2969,395,71.2969,395,146,295,146,295,49\" style=\"stroke: #000000; stroke-width: 1.5;\"/><line style=\"stroke: #000000; stroke-width: 1.5;\" x1=\"295\" x2=\"326\" y1=\"71.2969\" y2=\"71.2969\"/><text fill=\"#000000\" font-family=\"sans-serif\" font-size=\"14\" font-weight=\"bold\" lengthAdjust=\"spacingAndGlyphs\" textLength=\"18\" x=\"299\" y=\"63.9951\">P4</text></a><!--MD5=[270fce915f116d4de14055a7c1d9a0f3]\n",
       "class E5--><a href=\"psysml:99b80f3a-0072-46fe-b843-b9a836066a51\" target=\"_top\" title=\"psysml:99b80f3a-0072-46fe-b843-b9a836066a51\" xlink:actuate=\"onRequest\" xlink:href=\"psysml:99b80f3a-0072-46fe-b843-b9a836066a51\" xlink:show=\"new\" xlink:title=\"psysml:99b80f3a-0072-46fe-b843-b9a836066a51\" xlink:type=\"simple\"><rect fill=\"#FEFECE\" filter=\"url(#f17u58k9isoi3b)\" height=\"45.9375\" id=\"E5\" rx=\"10\" ry=\"10\" style=\"stroke: #A80036; stroke-width: 1.5;\" width=\"68\" x=\"208\" y=\"84\"/><ellipse cx=\"223\" cy=\"102.9688\" fill=\"#32CD32\" rx=\"11\" ry=\"11\" style=\"stroke: #A80036; stroke-width: 1.0;\"/><path d=\"M219.8125,107.9688 L219.8125,97.375 L223.4219,97.375 Q224.6406,97.375 225.4375,97.8125 Q226.2344,98.2344 226.6094,98.9375 Q227,99.6406 227,100.4844 Q227,101.3281 226.625,102.0156 Q226.2656,102.7031 225.4688,103.125 Q224.6875,103.5313 223.5,103.5313 L221.7656,103.5313 L221.7656,107.9688 L219.8125,107.9688 Z M221.7656,101.9375 L223.375,101.9375 Q224.1875,101.9375 224.6094,101.5313 Q225.0313,101.125 225.0313,100.4844 Q225.0313,99.8594 224.6094,99.4531 Q224.1875,99.0469 223.3906,99.0469 L221.7656,99.0469 L221.7656,101.9375 Z \"/><text fill=\"#000000\" font-family=\"sans-serif\" font-size=\"12\" font-style=\"italic\" lengthAdjust=\"spacingAndGlyphs\" textLength=\"40\" x=\"235\" y=\"100.1387\">«part»</text><text fill=\"#000000\" font-family=\"sans-serif\" font-size=\"12\" lengthAdjust=\"spacingAndGlyphs\" textLength=\"22\" x=\"242\" y=\"114.1074\">x: A</text><line style=\"stroke: #A80036; stroke-width: 1.5;\" x1=\"209\" x2=\"275\" y1=\"121.9375\" y2=\"121.9375\"/></a><!--MD5=[b9389687b975829384b498ac4b7476b2]\n",
       "class E8--><a href=\"psysml:a38466df-faf8-4af5-a290-fb7428072c5f\" target=\"_top\" title=\"psysml:a38466df-faf8-4af5-a290-fb7428072c5f\" xlink:actuate=\"onRequest\" xlink:href=\"psysml:a38466df-faf8-4af5-a290-fb7428072c5f\" xlink:show=\"new\" xlink:title=\"psysml:a38466df-faf8-4af5-a290-fb7428072c5f\" xlink:type=\"simple\"><rect fill=\"#FEFECE\" filter=\"url(#f17u58k9isoi3b)\" height=\"45.9375\" id=\"E8\" rx=\"10\" ry=\"10\" style=\"stroke: #A80036; stroke-width: 1.5;\" width=\"68\" x=\"105\" y=\"84\"/><ellipse cx=\"120\" cy=\"102.9688\" fill=\"#32CD32\" rx=\"11\" ry=\"11\" style=\"stroke: #A80036; stroke-width: 1.0;\"/><path d=\"M116.8125,107.9688 L116.8125,97.375 L120.4219,97.375 Q121.6406,97.375 122.4375,97.8125 Q123.2344,98.2344 123.6094,98.9375 Q124,99.6406 124,100.4844 Q124,101.3281 123.625,102.0156 Q123.2656,102.7031 122.4688,103.125 Q121.6875,103.5313 120.5,103.5313 L118.7656,103.5313 L118.7656,107.9688 L116.8125,107.9688 Z M118.7656,101.9375 L120.375,101.9375 Q121.1875,101.9375 121.6094,101.5313 Q122.0313,101.125 122.0313,100.4844 Q122.0313,99.8594 121.6094,99.4531 Q121.1875,99.0469 120.3906,99.0469 L118.7656,99.0469 L118.7656,101.9375 Z \"/><text fill=\"#000000\" font-family=\"sans-serif\" font-size=\"12\" font-style=\"italic\" lengthAdjust=\"spacingAndGlyphs\" textLength=\"40\" x=\"132\" y=\"100.1387\">«part»</text><text fill=\"#000000\" font-family=\"sans-serif\" font-size=\"12\" lengthAdjust=\"spacingAndGlyphs\" textLength=\"21\" x=\"139.5\" y=\"114.1074\">z: B</text><line style=\"stroke: #A80036; stroke-width: 1.5;\" x1=\"106\" x2=\"172\" y1=\"121.9375\" y2=\"121.9375\"/></a><!--MD5=[09b614a08d8cba4a07c9adeb5e0fee81]\n",
       "class E3--><a href=\"psysml:0a0c0374-c89d-44f1-8ff3-be2f7c1a5b8f\" target=\"_top\" title=\"psysml:0a0c0374-c89d-44f1-8ff3-be2f7c1a5b8f\" xlink:actuate=\"onRequest\" xlink:href=\"psysml:0a0c0374-c89d-44f1-8ff3-be2f7c1a5b8f\" xlink:show=\"new\" xlink:title=\"psysml:0a0c0374-c89d-44f1-8ff3-be2f7c1a5b8f\" xlink:type=\"simple\"><rect fill=\"#FEFECE\" filter=\"url(#f17u58k9isoi3b)\" height=\"40\" id=\"E3\" style=\"stroke: #A80036; stroke-width: 1.5;\" width=\"40\" x=\"273\" y=\"205\"/><ellipse cx=\"288\" cy=\"221\" fill=\"#008000\" rx=\"11\" ry=\"11\" style=\"stroke: #A80036; stroke-width: 1.0;\"/><path d=\"M284.875,226 L284.875,215.4063 L288.1094,215.4063 Q290.0156,215.4063 290.9219,216.1563 Q291.8438,216.9063 291.8438,218.0781 Q291.8438,218.7656 291.4531,219.4219 Q291.0781,220.0781 290.3594,220.375 Q291.2188,220.75 291.7344,221.4375 Q292.25,222.125 292.25,222.9375 Q292.25,224.3125 291.2188,225.1563 Q290.2031,226 288.0938,226 L284.875,226 Z M286.7969,219.6406 L287.9531,219.6406 Q289.0781,219.6406 289.4844,219.2656 Q289.9063,218.875 289.9063,218.25 Q289.9063,217.6719 289.4844,217.3125 Q289.0625,216.9531 288.125,216.9531 L286.7969,216.9531 L286.7969,219.6406 Z M286.7969,224.4219 L288.2969,224.4219 Q289.2031,224.4219 289.7344,224.0313 Q290.2656,223.6406 290.2656,222.8906 Q290.2656,222.125 289.7656,221.6563 Q289.2656,221.1719 288,221.1719 L286.7969,221.1719 L286.7969,224.4219 Z \"/><text fill=\"#000000\" font-family=\"sans-serif\" font-size=\"12\" lengthAdjust=\"spacingAndGlyphs\" textLength=\"8\" x=\"302\" y=\"225.1543\">A</text><line style=\"stroke: #A80036; stroke-width: 1.5;\" x1=\"274\" x2=\"312\" y1=\"237\" y2=\"237\"/></a><a href=\"psysml:9b62d657-9794-4032-9fa2-9f176e634d4a\" target=\"_top\" title=\"psysml:9b62d657-9794-4032-9fa2-9f176e634d4a\" xlink:actuate=\"onRequest\" xlink:href=\"psysml:9b62d657-9794-4032-9fa2-9f176e634d4a\" xlink:show=\"new\" xlink:title=\"psysml:9b62d657-9794-4032-9fa2-9f176e634d4a\" xlink:type=\"simple\"><polygon fill=\"#FFFFFF\" filter=\"url(#f17u58k9isoi3b)\" points=\"32,80.5,56,80.5,63,102.7969,70,102.7969,70,133.0938,32,133.0938,32,80.5\" style=\"stroke: #000000; stroke-width: 1.5;\"/><line style=\"stroke: #000000; stroke-width: 1.5;\" x1=\"32\" x2=\"63\" y1=\"102.7969\" y2=\"102.7969\"/><text fill=\"#000000\" font-family=\"sans-serif\" font-size=\"14\" font-weight=\"bold\" lengthAdjust=\"spacingAndGlyphs\" textLength=\"18\" x=\"36\" y=\"95.4951\">P2</text></a><!--MD5=[2156ba9850f5573cc1fc38a6a4b2f02b]\n",
       "class E7--><a href=\"psysml:af99adbc-0034-4f7c-9fbe-52493ca28392\" target=\"_top\" title=\"psysml:af99adbc-0034-4f7c-9fbe-52493ca28392\" xlink:actuate=\"onRequest\" xlink:href=\"psysml:af99adbc-0034-4f7c-9fbe-52493ca28392\" xlink:show=\"new\" xlink:title=\"psysml:af99adbc-0034-4f7c-9fbe-52493ca28392\" xlink:type=\"simple\"><rect fill=\"#FEFECE\" filter=\"url(#f17u58k9isoi3b)\" height=\"40\" id=\"E7\" style=\"stroke: #A80036; stroke-width: 1.5;\" width=\"40\" x=\"119\" y=\"205\"/><ellipse cx=\"134\" cy=\"221\" fill=\"#008000\" rx=\"11\" ry=\"11\" style=\"stroke: #A80036; stroke-width: 1.0;\"/><path d=\"M130.875,226 L130.875,215.4063 L134.1094,215.4063 Q136.0156,215.4063 136.9219,216.1563 Q137.8438,216.9063 137.8438,218.0781 Q137.8438,218.7656 137.4531,219.4219 Q137.0781,220.0781 136.3594,220.375 Q137.2188,220.75 137.7344,221.4375 Q138.25,222.125 138.25,222.9375 Q138.25,224.3125 137.2188,225.1563 Q136.2031,226 134.0938,226 L130.875,226 Z M132.7969,219.6406 L133.9531,219.6406 Q135.0781,219.6406 135.4844,219.2656 Q135.9063,218.875 135.9063,218.25 Q135.9063,217.6719 135.4844,217.3125 Q135.0625,216.9531 134.125,216.9531 L132.7969,216.9531 L132.7969,219.6406 Z M132.7969,224.4219 L134.2969,224.4219 Q135.2031,224.4219 135.7344,224.0313 Q136.2656,223.6406 136.2656,222.8906 Q136.2656,222.125 135.7656,221.6563 Q135.2656,221.1719 134,221.1719 L132.7969,221.1719 L132.7969,224.4219 Z \"/><text fill=\"#000000\" font-family=\"sans-serif\" font-size=\"12\" lengthAdjust=\"spacingAndGlyphs\" textLength=\"8\" x=\"148\" y=\"225.1543\">B</text><line style=\"stroke: #A80036; stroke-width: 1.5;\" x1=\"120\" x2=\"158\" y1=\"237\" y2=\"237\"/></a><!--MD5=[96f4274e9e20536e775497830990834d]\n",
       "class E10--><a href=\"psysml:d7dc5bce-b37d-4e4e-a49c-d44e6595ca7b\" target=\"_top\" title=\"psysml:d7dc5bce-b37d-4e4e-a49c-d44e6595ca7b\" xlink:actuate=\"onRequest\" xlink:href=\"psysml:d7dc5bce-b37d-4e4e-a49c-d44e6595ca7b\" xlink:show=\"new\" xlink:title=\"psysml:d7dc5bce-b37d-4e4e-a49c-d44e6595ca7b\" xlink:type=\"simple\"><rect fill=\"#FEFECE\" filter=\"url(#f17u58k9isoi3b)\" height=\"45.9375\" id=\"E10\" rx=\"10\" ry=\"10\" style=\"stroke: #A80036; stroke-width: 1.5;\" width=\"68\" x=\"311\" y=\"84\"/><ellipse cx=\"326\" cy=\"102.9688\" fill=\"#32CD32\" rx=\"11\" ry=\"11\" style=\"stroke: #A80036; stroke-width: 1.0;\"/><path d=\"M322.8125,107.9688 L322.8125,97.375 L326.4219,97.375 Q327.6406,97.375 328.4375,97.8125 Q329.2344,98.2344 329.6094,98.9375 Q330,99.6406 330,100.4844 Q330,101.3281 329.625,102.0156 Q329.2656,102.7031 328.4688,103.125 Q327.6875,103.5313 326.5,103.5313 L324.7656,103.5313 L324.7656,107.9688 L322.8125,107.9688 Z M324.7656,101.9375 L326.375,101.9375 Q327.1875,101.9375 327.6094,101.5313 Q328.0313,101.125 328.0313,100.4844 Q328.0313,99.8594 327.6094,99.4531 Q327.1875,99.0469 326.3906,99.0469 L324.7656,99.0469 L324.7656,101.9375 Z \"/><text fill=\"#000000\" font-family=\"sans-serif\" font-size=\"12\" font-style=\"italic\" lengthAdjust=\"spacingAndGlyphs\" textLength=\"40\" x=\"338\" y=\"100.1387\">«part»</text><text fill=\"#000000\" font-family=\"sans-serif\" font-size=\"12\" lengthAdjust=\"spacingAndGlyphs\" textLength=\"29\" x=\"341.5\" y=\"114.1074\">z1: A</text><line style=\"stroke: #A80036; stroke-width: 1.5;\" x1=\"312\" x2=\"378\" y1=\"121.9375\" y2=\"121.9375\"/></a><!--MD5=[e9be52314489bd878ff4c7144b63c9e1]\n",
       "link E5 to E3--><a href=\"psysml:2e6435ee-ec1e-47e4-8fad-fb77072556f4\" target=\"_top\" title=\"psysml:2e6435ee-ec1e-47e4-8fad-fb77072556f4\" xlink:actuate=\"onRequest\" xlink:href=\"psysml:2e6435ee-ec1e-47e4-8fad-fb77072556f4\" xlink:show=\"new\" xlink:title=\"psysml:2e6435ee-ec1e-47e4-8fad-fb77072556f4\" xlink:type=\"simple\"><path d=\"M251.71,130.09 C258.67,145.93 268.22,167.65 276.39,186.21 \" fill=\"none\" id=\"E5-&gt;E3\" style=\"stroke: #A80036; stroke-width: 1.0;\"/><polygon fill=\"#FFFFFF\" points=\"284.51,204.69,270.4611,190.1083,283.2794,184.479,284.51,204.69\" style=\"stroke: #A80036; stroke-width: 1.0;\"/><ellipse cx=\"270.0003\" cy=\"184.0852\" fill=\"#A80036\" rx=\"2\" ry=\"2\" style=\"stroke: #A80036; stroke-width: 1.0;\"/><ellipse cx=\"279.1563\" cy=\"180.0642\" fill=\"#A80036\" rx=\"2\" ry=\"2\" style=\"stroke: #A80036; stroke-width: 1.0;\"/></a><!--MD5=[bfa3c8b0d15052fdf50ae9310b491027]\n",
       "link E8 to E7--><a href=\"psysml:f11bc7c0-c938-426a-87a4-76c9b47cac7e\" target=\"_top\" title=\"psysml:f11bc7c0-c938-426a-87a4-76c9b47cac7e\" xlink:actuate=\"onRequest\" xlink:href=\"psysml:f11bc7c0-c938-426a-87a4-76c9b47cac7e\" xlink:show=\"new\" xlink:title=\"psysml:f11bc7c0-c938-426a-87a4-76c9b47cac7e\" xlink:type=\"simple\"><path d=\"M139,130.09 C139,145.42 139,166.27 139,184.42 \" fill=\"none\" id=\"E8-&gt;E7\" style=\"stroke: #A80036; stroke-width: 1.0;\"/><polygon fill=\"#FFFFFF\" points=\"139,204.69,132,185.69,146,185.69,139,204.69\" style=\"stroke: #A80036; stroke-width: 1.0;\"/><ellipse cx=\"134\" cy=\"179.99\" fill=\"#A80036\" rx=\"2\" ry=\"2\" style=\"stroke: #A80036; stroke-width: 1.0;\"/><ellipse cx=\"144\" cy=\"179.99\" fill=\"#A80036\" rx=\"2\" ry=\"2\" style=\"stroke: #A80036; stroke-width: 1.0;\"/></a><!--MD5=[feeac5eb423634930294aa81f2d25a4c]\n",
       "link E10 to E3--><a href=\"psysml:21a673ac-f9f6-428c-a165-60ea4300f397\" target=\"_top\" title=\"psysml:21a673ac-f9f6-428c-a165-60ea4300f397\" xlink:actuate=\"onRequest\" xlink:href=\"psysml:21a673ac-f9f6-428c-a165-60ea4300f397\" xlink:show=\"new\" xlink:title=\"psysml:21a673ac-f9f6-428c-a165-60ea4300f397\" xlink:type=\"simple\"><path d=\"M335.1,130.09 C328,145.93 318.26,167.65 309.94,186.21 \" fill=\"none\" id=\"E10-&gt;E3\" style=\"stroke: #A80036; stroke-width: 1.0;\"/><polygon fill=\"#FFFFFF\" points=\"301.66,204.69,303.0459,184.489,315.8206,190.2167,301.66,204.69\" style=\"stroke: #A80036; stroke-width: 1.0;\"/><ellipse cx=\"307.2028\" cy=\"180.1061\" fill=\"#A80036\" rx=\"2\" ry=\"2\" style=\"stroke: #A80036; stroke-width: 1.0;\"/><ellipse cx=\"316.3276\" cy=\"184.1973\" fill=\"#A80036\" rx=\"2\" ry=\"2\" style=\"stroke: #A80036; stroke-width: 1.0;\"/></a><!--MD5=[6f8d80c21557eb33d08716f3e0b55ade]\n",
       "@startuml\r\n",
       " \r\n",
       "package \"PrivateImportTest\" as E1  [[psysml:2415ca44-1de1-4a98-b3f0-a39d5285a5bd ]]  {\r\n",
       "package \"P1\" as E2  [[psysml:426e250f-8977-4e89-b166-3835fc91b530 ]]  {\r\n",
       "comp def \"A\" as E3 << << (B,green) >> [[psysml:0a0c0374-c89d-44f1-8ff3-be2f7c1a5b8f ]] {\r\n",
       "}\r\n",
       "}\r\n",
       "package \"P2\" as E4  [[psysml:9b62d657-9794-4032-9fa2-9f176e634d4a ]]  {\r\n",
       "}\r\n",
       "comp usage \"x: A \" as E5 << << (P,limegreen) part>> [[psysml:99b80f3a-0072-46fe-b843-b9a836066a51 ]] {\r\n",
       "}\r\n",
       "package \"P3\" as E6  [[psysml:fe85458f-8707-492f-a6ea-e7b6b29e5b91 ]]  {\r\n",
       "comp def \"B\" as E7 << << (B,green) >> [[psysml:af99adbc-0034-4f7c-9fbe-52493ca28392 ]] {\r\n",
       "}\r\n",
       "}\r\n",
       "comp usage \"z: B \" as E8 << << (P,limegreen) part>> [[psysml:a38466df-faf8-4af5-a290-fb7428072c5f ]] {\r\n",
       "}\r\n",
       "package \"P4\" as E9  [[psysml:77a03853-3516-49bc-9a88-c5db4c10002c ]]  {\r\n",
       "comp usage \"z1: A \" as E10 << << (P,limegreen) part>> [[psysml:d7dc5bce-b37d-4e4e-a49c-d44e6595ca7b ]] {\r\n",
       "}\r\n",
       "}\r\n",
       "}\r\n",
       "E5 - -:|> E3 [[psysml:2e6435ee-ec1e-47e4-8fad-fb77072556f4 ]] \r\n",
       "E8 - -:|> E7 [[psysml:f11bc7c0-c938-426a-87a4-76c9b47cac7e ]] \r\n",
       "E10 - -:|> E3 [[psysml:21a673ac-f9f6-428c-a165-60ea4300f397 ]] \r\n",
       "@enduml\r\n",
       "\n",
       "PlantUML version 1.2020.13(Sat Jun 13 12:26:38 UTC 2020)\n",
       "(EPL source distribution)\n",
       "Java Runtime: OpenJDK Runtime Environment\n",
       "JVM: OpenJDK 64-Bit Server VM\n",
       "Default Encoding: UTF-8\n",
       "Language: en\n",
       "Country: null\n",
       "--></g></svg>"
      ]
     },
     "execution_count": 31,
     "metadata": {},
     "output_type": "execute_result"
    }
   ],
   "source": [
    "%viz --style=\"PLANTUML\" --view=\"Tree\" \"PrivateImportTest\""
   ]
  },
  {
   "cell_type": "code",
   "execution_count": 32,
   "id": "f19824a7",
   "metadata": {
    "execution": {
     "iopub.execute_input": "2021-10-25T08:22:22.260212Z",
     "iopub.status.busy": "2021-10-25T08:22:22.259782Z",
     "iopub.status.idle": "2021-10-25T08:22:22.351145Z",
     "shell.execute_reply": "2021-10-25T08:22:22.349346Z"
    }
   },
   "outputs": [
    {
     "data": {
      "image/svg+xml": [
       "<?xml version=\"1.0\" encoding=\"UTF-8\" standalone=\"no\"?><svg xmlns=\"http://www.w3.org/2000/svg\" xmlns:xlink=\"http://www.w3.org/1999/xlink\" contentScriptType=\"application/ecmascript\" contentStyleType=\"text/css\" height=\"300px\" preserveAspectRatio=\"none\" style=\"width:603px;height:300px;background:#000000;\" version=\"1.1\" viewBox=\"0 0 603 300\" width=\"603px\" zoomAndPan=\"magnify\"><defs/><g><rect fill=\"#22101A\" height=\"1\" style=\"stroke: #22101A; stroke-width: 1.0;\" width=\"1\" x=\"0\" y=\"0\"/><rect fill=\"#FFFFFF\" height=\"202.8012\" style=\"stroke: #FFFFFF; stroke-width: 1.0;\" width=\"602\" x=\"0\" y=\"0\"/><text fill=\"#000000\" font-family=\"sans-serif\" font-size=\"12\" font-weight=\"bold\" lengthAdjust=\"spacingAndGlyphs\" textLength=\"139\" x=\"5\" y=\"16.1387\">Welcome to PlantUML!</text><text fill=\"#000000\" font-family=\"sans-serif\" font-size=\"12\" lengthAdjust=\"spacingAndGlyphs\" textLength=\"0\" x=\"9\" y=\"30.1074\"/><text fill=\"#000000\" font-family=\"sans-serif\" font-size=\"12\" lengthAdjust=\"spacingAndGlyphs\" textLength=\"293\" x=\"5\" y=\"44.0762\">If you use this software, you accept its license.</text><text fill=\"#000000\" font-family=\"sans-serif\" font-size=\"12\" lengthAdjust=\"spacingAndGlyphs\" textLength=\"107\" x=\"5\" y=\"58.0449\">(details by typing</text><text fill=\"#000000\" font-family=\"monospace\" font-size=\"12\" lengthAdjust=\"spacingAndGlyphs\" textLength=\"42\" x=\"116\" y=\"58.595\">license</text><text fill=\"#000000\" font-family=\"sans-serif\" font-size=\"12\" lengthAdjust=\"spacingAndGlyphs\" textLength=\"56\" x=\"162\" y=\"58.0449\">keyword)</text><text fill=\"#000000\" font-family=\"sans-serif\" font-size=\"12\" lengthAdjust=\"spacingAndGlyphs\" textLength=\"0\" x=\"9\" y=\"72.0137\"/><text fill=\"#000000\" font-family=\"sans-serif\" font-size=\"12\" lengthAdjust=\"spacingAndGlyphs\" textLength=\"283\" x=\"5\" y=\"85.9824\">You can start with a simple UML Diagram like:</text><text fill=\"#000000\" font-family=\"sans-serif\" font-size=\"12\" lengthAdjust=\"spacingAndGlyphs\" textLength=\"0\" x=\"9\" y=\"99.9512\"/><text fill=\"#000000\" font-family=\"monospace\" font-size=\"12\" lengthAdjust=\"spacingAndGlyphs\" textLength=\"102\" x=\"5\" y=\"113.0893\">Bob-&gt;Alice: Hello</text><text fill=\"#000000\" font-family=\"sans-serif\" font-size=\"12\" lengthAdjust=\"spacingAndGlyphs\" textLength=\"0\" x=\"9\" y=\"126.508\"/><text fill=\"#000000\" font-family=\"sans-serif\" font-size=\"12\" lengthAdjust=\"spacingAndGlyphs\" textLength=\"14\" x=\"5\" y=\"140.4768\">Or</text><text fill=\"#000000\" font-family=\"sans-serif\" font-size=\"12\" lengthAdjust=\"spacingAndGlyphs\" textLength=\"0\" x=\"9\" y=\"154.4455\"/><text fill=\"#000000\" font-family=\"monospace\" font-size=\"12\" lengthAdjust=\"spacingAndGlyphs\" textLength=\"78\" x=\"5\" y=\"167.5837\">class Example</text><text fill=\"#000000\" font-family=\"sans-serif\" font-size=\"12\" lengthAdjust=\"spacingAndGlyphs\" textLength=\"0\" x=\"9\" y=\"181.0023\"/><text fill=\"#000000\" font-family=\"sans-serif\" font-size=\"12\" lengthAdjust=\"spacingAndGlyphs\" textLength=\"349\" x=\"5\" y=\"194.9711\">You will find more information about PlantUML syntax on</text><text fill=\"#000000\" font-family=\"sans-serif\" font-size=\"12\" lengthAdjust=\"spacingAndGlyphs\" text-decoration=\"underline\" textLength=\"129\" x=\"358\" y=\"194.9711\">https://plantuml.com</text><image height=\"71\" width=\"80\" x=\"516\" xlink:href=\"data:image/png;base64,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\" y=\"6\"/><rect fill=\"#000000\" height=\"96.4844\" style=\"stroke: #000000; stroke-width: 1.0;\" width=\"602\" x=\"0\" y=\"202.8012\"/><rect fill=\"#33FF02\" height=\"21.2969\" style=\"stroke: #33FF02; stroke-width: 1.0;\" width=\"145\" x=\"5\" y=\"207.8012\"/><text fill=\"#000000\" font-family=\"sans-serif\" font-size=\"14\" font-weight=\"bold\" lengthAdjust=\"spacingAndGlyphs\" textLength=\"143\" x=\"6\" y=\"222.8012\">[From string (line 2) ]</text><text fill=\"#33FF02\" font-family=\"sans-serif\" font-size=\"14\" font-weight=\"bold\" lengthAdjust=\"spacingAndGlyphs\" textLength=\"0\" x=\"9\" y=\"243.0981\"/><text fill=\"#33FF02\" font-family=\"sans-serif\" font-size=\"14\" font-weight=\"bold\" lengthAdjust=\"spacingAndGlyphs\" textLength=\"70\" x=\"5\" y=\"259.3949\">@startuml</text><text fill=\"#33FF02\" font-family=\"sans-serif\" font-size=\"14\" font-weight=\"bold\" lengthAdjust=\"spacingAndGlyphs\" textLength=\"0\" x=\"9\" y=\"275.6918\"/><text fill=\"#FF0000\" font-family=\"sans-serif\" font-size=\"14\" font-weight=\"bold\" lengthAdjust=\"spacingAndGlyphs\" textLength=\"124\" x=\"9\" y=\"291.9887\">Empty description</text><!--MD5=[f59edd8218d337f74d0c332fc6737304]\n",
       "@startuml\r\n",
       " \r\n",
       "@enduml\r\n",
       "\n",
       "PlantUML version 1.2020.13(Sat Jun 13 12:26:38 UTC 2020)\n",
       "(EPL source distribution)\n",
       "Java Runtime: OpenJDK Runtime Environment\n",
       "JVM: OpenJDK 64-Bit Server VM\n",
       "Default Encoding: UTF-8\n",
       "Language: en\n",
       "Country: null\n",
       "--></g></svg>"
      ]
     },
     "execution_count": 32,
     "metadata": {},
     "output_type": "execute_result"
    }
   ],
   "source": [
    "%viz --style=\"PLANTUML\" --view=\"State\" \"PrivateImportTest\""
   ]
  },
  {
   "cell_type": "code",
   "execution_count": 33,
   "id": "c343f7dd",
   "metadata": {
    "execution": {
     "iopub.execute_input": "2021-10-25T08:22:22.399648Z",
     "iopub.status.busy": "2021-10-25T08:22:22.399426Z",
     "iopub.status.idle": "2021-10-25T08:22:22.419945Z",
     "shell.execute_reply": "2021-10-25T08:22:22.417819Z"
    }
   },
   "outputs": [
    {
     "data": {
      "image/svg+xml": [
       "<?xml version=\"1.0\" encoding=\"UTF-8\" standalone=\"no\"?><svg xmlns=\"http://www.w3.org/2000/svg\" xmlns:xlink=\"http://www.w3.org/1999/xlink\" contentScriptType=\"application/ecmascript\" contentStyleType=\"text/css\" height=\"176px\" preserveAspectRatio=\"none\" style=\"width:633px;height:176px;\" version=\"1.1\" viewBox=\"0 0 633 176\" width=\"633px\" zoomAndPan=\"magnify\"><defs><filter height=\"300%\" id=\"f1u3v1oq90kv6z\" width=\"300%\" x=\"-1\" y=\"-1\"><feGaussianBlur result=\"blurOut\" stdDeviation=\"2.0\"/><feColorMatrix in=\"blurOut\" result=\"blurOut2\" type=\"matrix\" values=\"0 0 0 0 0 0 0 0 0 0 0 0 0 0 0 0 0 0 .4 0\"/><feOffset dx=\"4.0\" dy=\"4.0\" in=\"blurOut2\" result=\"blurOut3\"/><feBlend in=\"SourceGraphic\" in2=\"blurOut3\" mode=\"normal\"/></filter></defs><g><!--MD5=[fbc87193dbaf4d95561dea2c320d4a47]\n",
       "cluster E1--><a href=\"psysml:2415ca44-1de1-4a98-b3f0-a39d5285a5bd\" target=\"_top\" title=\"psysml:2415ca44-1de1-4a98-b3f0-a39d5285a5bd\" xlink:actuate=\"onRequest\" xlink:href=\"psysml:2415ca44-1de1-4a98-b3f0-a39d5285a5bd\" xlink:show=\"new\" xlink:title=\"psysml:2415ca44-1de1-4a98-b3f0-a39d5285a5bd\" xlink:type=\"simple\"><polygon fill=\"#FFFFFF\" filter=\"url(#f1u3v1oq90kv6z)\" points=\"16,6,143,6,150,28.2969,611,28.2969,611,164,16,164,16,6\" style=\"stroke: #000000; stroke-width: 1.5;\"/><line style=\"stroke: #000000; stroke-width: 1.5;\" x1=\"16\" x2=\"150\" y1=\"28.2969\" y2=\"28.2969\"/><text fill=\"#000000\" font-family=\"sans-serif\" font-size=\"14\" font-weight=\"bold\" lengthAdjust=\"spacingAndGlyphs\" textLength=\"121\" x=\"20\" y=\"20.9951\">PrivateImportTest</text></a><!--MD5=[e4f7fae6ed58524ba242bb0b0d3be6b7]\n",
       "cluster E2--><a href=\"psysml:426e250f-8977-4e89-b166-3835fc91b530\" target=\"_top\" title=\"psysml:426e250f-8977-4e89-b166-3835fc91b530\" xlink:actuate=\"onRequest\" xlink:href=\"psysml:426e250f-8977-4e89-b166-3835fc91b530\" xlink:show=\"new\" xlink:title=\"psysml:426e250f-8977-4e89-b166-3835fc91b530\" xlink:type=\"simple\"><polygon fill=\"#FFFFFF\" filter=\"url(#f1u3v1oq90kv6z)\" points=\"505,49,529,49,536,71.2969,587,71.2969,587,140,505,140,505,49\" style=\"stroke: #000000; stroke-width: 1.5;\"/><line style=\"stroke: #000000; stroke-width: 1.5;\" x1=\"505\" x2=\"536\" y1=\"71.2969\" y2=\"71.2969\"/><text fill=\"#000000\" font-family=\"sans-serif\" font-size=\"14\" font-weight=\"bold\" lengthAdjust=\"spacingAndGlyphs\" textLength=\"18\" x=\"509\" y=\"63.9951\">P1</text></a><!--MD5=[14e3b0961a2654348d326746436168a1]\n",
       "cluster E6--><a href=\"psysml:fe85458f-8707-492f-a6ea-e7b6b29e5b91\" target=\"_top\" title=\"psysml:fe85458f-8707-492f-a6ea-e7b6b29e5b91\" xlink:actuate=\"onRequest\" xlink:href=\"psysml:fe85458f-8707-492f-a6ea-e7b6b29e5b91\" xlink:show=\"new\" xlink:title=\"psysml:fe85458f-8707-492f-a6ea-e7b6b29e5b91\" xlink:type=\"simple\"><polygon fill=\"#FFFFFF\" filter=\"url(#f1u3v1oq90kv6z)\" points=\"399,49,423,49,430,71.2969,481,71.2969,481,140,399,140,399,49\" style=\"stroke: #000000; stroke-width: 1.5;\"/><line style=\"stroke: #000000; stroke-width: 1.5;\" x1=\"399\" x2=\"430\" y1=\"71.2969\" y2=\"71.2969\"/><text fill=\"#000000\" font-family=\"sans-serif\" font-size=\"14\" font-weight=\"bold\" lengthAdjust=\"spacingAndGlyphs\" textLength=\"18\" x=\"403\" y=\"63.9951\">P3</text></a><!--MD5=[7f149f147074ac12df2cb0a7728a5fb0]\n",
       "cluster E9--><a href=\"psysml:77a03853-3516-49bc-9a88-c5db4c10002c\" target=\"_top\" title=\"psysml:77a03853-3516-49bc-9a88-c5db4c10002c\" xlink:actuate=\"onRequest\" xlink:href=\"psysml:77a03853-3516-49bc-9a88-c5db4c10002c\" xlink:show=\"new\" xlink:title=\"psysml:77a03853-3516-49bc-9a88-c5db4c10002c\" xlink:type=\"simple\"><polygon fill=\"#FFFFFF\" filter=\"url(#f1u3v1oq90kv6z)\" points=\"277,49,301,49,308,71.2969,375,71.2969,375,140,277,140,277,49\" style=\"stroke: #000000; stroke-width: 1.5;\"/><line style=\"stroke: #000000; stroke-width: 1.5;\" x1=\"277\" x2=\"308\" y1=\"71.2969\" y2=\"71.2969\"/><text fill=\"#000000\" font-family=\"sans-serif\" font-size=\"14\" font-weight=\"bold\" lengthAdjust=\"spacingAndGlyphs\" textLength=\"18\" x=\"281\" y=\"63.9951\">P4</text></a><g id=\"E1.E2.E3\"><a href=\"psysml:0a0c0374-c89d-44f1-8ff3-be2f7c1a5b8f\" target=\"_top\" title=\"psysml:0a0c0374-c89d-44f1-8ff3-be2f7c1a5b8f\" xlink:actuate=\"onRequest\" xlink:href=\"psysml:0a0c0374-c89d-44f1-8ff3-be2f7c1a5b8f\" xlink:show=\"new\" xlink:title=\"psysml:0a0c0374-c89d-44f1-8ff3-be2f7c1a5b8f\" xlink:type=\"simple\"><rect fill=\"#FEFECE\" filter=\"url(#f1u3v1oq90kv6z)\" height=\"40\" id=\"E3\" style=\"stroke: #A80036; stroke-width: 1.5;\" width=\"50\" x=\"521\" y=\"84\"/><ellipse cx=\"540.5\" cy=\"100\" fill=\"#008000\" rx=\"11\" ry=\"11\" style=\"stroke: #A80036; stroke-width: 1.0;\"/><path d=\"M537.375,105 L537.375,94.4063 L540.6094,94.4063 Q542.5156,94.4063 543.4219,95.1563 Q544.3438,95.9063 544.3438,97.0781 Q544.3438,97.7656 543.9531,98.4219 Q543.5781,99.0781 542.8594,99.375 Q543.7188,99.75 544.2344,100.4375 Q544.75,101.125 544.75,101.9375 Q544.75,103.3125 543.7188,104.1563 Q542.7031,105 540.5938,105 L537.375,105 Z M539.2969,98.6406 L540.4531,98.6406 Q541.5781,98.6406 541.9844,98.2656 Q542.4063,97.875 542.4063,97.25 Q542.4063,96.6719 541.9844,96.3125 Q541.5625,95.9531 540.625,95.9531 L539.2969,95.9531 L539.2969,98.6406 Z M539.2969,103.4219 L540.7969,103.4219 Q541.7031,103.4219 542.2344,103.0313 Q542.7656,102.6406 542.7656,101.8906 Q542.7656,101.125 542.2656,100.6563 Q541.7656,100.1719 540.5,100.1719 L539.2969,100.1719 L539.2969,103.4219 Z \"/><text fill=\"#000000\" font-family=\"sans-serif\" font-size=\"12\" lengthAdjust=\"spacingAndGlyphs\" textLength=\"8\" x=\"555.5\" y=\"104.1543\">A</text></a></g><a href=\"psysml:9b62d657-9794-4032-9fa2-9f176e634d4a\" target=\"_top\" title=\"psysml:9b62d657-9794-4032-9fa2-9f176e634d4a\" xlink:actuate=\"onRequest\" xlink:href=\"psysml:9b62d657-9794-4032-9fa2-9f176e634d4a\" xlink:show=\"new\" xlink:title=\"psysml:9b62d657-9794-4032-9fa2-9f176e634d4a\" xlink:type=\"simple\"><polygon fill=\"#FFFFFF\" filter=\"url(#f1u3v1oq90kv6z)\" points=\"220,77.5,244,77.5,251,99.7969,258,99.7969,258,130.0938,220,130.0938,220,77.5\" style=\"stroke: #000000; stroke-width: 1.5;\"/><line style=\"stroke: #000000; stroke-width: 1.5;\" x1=\"220\" x2=\"251\" y1=\"99.7969\" y2=\"99.7969\"/><text fill=\"#000000\" font-family=\"sans-serif\" font-size=\"14\" font-weight=\"bold\" lengthAdjust=\"spacingAndGlyphs\" textLength=\"18\" x=\"224\" y=\"92.4951\">P2</text></a><g id=\"E1.E5\"><a href=\"psysml:99b80f3a-0072-46fe-b843-b9a836066a51\" target=\"_top\" title=\"psysml:99b80f3a-0072-46fe-b843-b9a836066a51\" xlink:actuate=\"onRequest\" xlink:href=\"psysml:99b80f3a-0072-46fe-b843-b9a836066a51\" xlink:show=\"new\" xlink:title=\"psysml:99b80f3a-0072-46fe-b843-b9a836066a51\" xlink:type=\"simple\"><rect fill=\"#FEFECE\" filter=\"url(#f1u3v1oq90kv6z)\" height=\"40\" id=\"E5\" rx=\"10\" ry=\"10\" style=\"stroke: #A80036; stroke-width: 1.5;\" width=\"59\" x=\"125.5\" y=\"84\"/><ellipse cx=\"142.75\" cy=\"100\" fill=\"#B6DBBB\" rx=\"11\" ry=\"11\" style=\"stroke: #A80036; stroke-width: 1.0;\"/><path d=\"M142.5,105.4688 Q140.75,105.4688 139.7969,104.4375 Q138.8594,103.3906 138.8594,101.5469 L138.8594,94.6563 L140.9219,94.6563 L140.9219,94.8125 Q140.8281,94.9063 140.7969,95.0469 Q140.7813,95.1719 140.7813,95.4375 L140.7813,101.5625 Q140.7813,102.6563 141.1563,103.2813 Q141.5313,103.9063 142.5156,103.9063 Q143.5,103.9063 143.8906,103.2813 Q144.2813,102.6563 144.2813,101.5156 L144.2813,94.6563 L146.1563,94.6563 L146.1563,101.5 Q146.1563,103.5313 145.125,104.5 Q144.1094,105.4688 142.5,105.4688 Z \"/><text fill=\"#000000\" font-family=\"sans-serif\" font-size=\"12\" lengthAdjust=\"spacingAndGlyphs\" textLength=\"22\" x=\"157.25\" y=\"104.1543\">x: A</text></a></g><g id=\"E1.E6.E7\"><a href=\"psysml:af99adbc-0034-4f7c-9fbe-52493ca28392\" target=\"_top\" title=\"psysml:af99adbc-0034-4f7c-9fbe-52493ca28392\" xlink:actuate=\"onRequest\" xlink:href=\"psysml:af99adbc-0034-4f7c-9fbe-52493ca28392\" xlink:show=\"new\" xlink:title=\"psysml:af99adbc-0034-4f7c-9fbe-52493ca28392\" xlink:type=\"simple\"><rect fill=\"#FEFECE\" filter=\"url(#f1u3v1oq90kv6z)\" height=\"40\" id=\"E7\" style=\"stroke: #A80036; stroke-width: 1.5;\" width=\"50\" x=\"415\" y=\"84\"/><ellipse cx=\"434.5\" cy=\"100\" fill=\"#008000\" rx=\"11\" ry=\"11\" style=\"stroke: #A80036; stroke-width: 1.0;\"/><path d=\"M431.375,105 L431.375,94.4063 L434.6094,94.4063 Q436.5156,94.4063 437.4219,95.1563 Q438.3438,95.9063 438.3438,97.0781 Q438.3438,97.7656 437.9531,98.4219 Q437.5781,99.0781 436.8594,99.375 Q437.7188,99.75 438.2344,100.4375 Q438.75,101.125 438.75,101.9375 Q438.75,103.3125 437.7188,104.1563 Q436.7031,105 434.5938,105 L431.375,105 Z M433.2969,98.6406 L434.4531,98.6406 Q435.5781,98.6406 435.9844,98.2656 Q436.4063,97.875 436.4063,97.25 Q436.4063,96.6719 435.9844,96.3125 Q435.5625,95.9531 434.625,95.9531 L433.2969,95.9531 L433.2969,98.6406 Z M433.2969,103.4219 L434.7969,103.4219 Q435.7031,103.4219 436.2344,103.0313 Q436.7656,102.6406 436.7656,101.8906 Q436.7656,101.125 436.2656,100.6563 Q435.7656,100.1719 434.5,100.1719 L433.2969,100.1719 L433.2969,103.4219 Z \"/><text fill=\"#000000\" font-family=\"sans-serif\" font-size=\"12\" lengthAdjust=\"spacingAndGlyphs\" textLength=\"8\" x=\"449.5\" y=\"104.1543\">B</text></a></g><g id=\"E1.E8\"><a href=\"psysml:a38466df-faf8-4af5-a290-fb7428072c5f\" target=\"_top\" title=\"psysml:a38466df-faf8-4af5-a290-fb7428072c5f\" xlink:actuate=\"onRequest\" xlink:href=\"psysml:a38466df-faf8-4af5-a290-fb7428072c5f\" xlink:show=\"new\" xlink:title=\"psysml:a38466df-faf8-4af5-a290-fb7428072c5f\" xlink:type=\"simple\"><rect fill=\"#FEFECE\" filter=\"url(#f1u3v1oq90kv6z)\" height=\"40\" id=\"E8\" rx=\"10\" ry=\"10\" style=\"stroke: #A80036; stroke-width: 1.5;\" width=\"58\" x=\"32\" y=\"84\"/><ellipse cx=\"49.25\" cy=\"100\" fill=\"#B6DBBB\" rx=\"11\" ry=\"11\" style=\"stroke: #A80036; stroke-width: 1.0;\"/><path d=\"M49,105.4688 Q47.25,105.4688 46.2969,104.4375 Q45.3594,103.3906 45.3594,101.5469 L45.3594,94.6563 L47.4219,94.6563 L47.4219,94.8125 Q47.3281,94.9063 47.2969,95.0469 Q47.2813,95.1719 47.2813,95.4375 L47.2813,101.5625 Q47.2813,102.6563 47.6563,103.2813 Q48.0313,103.9063 49.0156,103.9063 Q50,103.9063 50.3906,103.2813 Q50.7813,102.6563 50.7813,101.5156 L50.7813,94.6563 L52.6563,94.6563 L52.6563,101.5 Q52.6563,103.5313 51.625,104.5 Q50.6094,105.4688 49,105.4688 Z \"/><text fill=\"#000000\" font-family=\"sans-serif\" font-size=\"12\" lengthAdjust=\"spacingAndGlyphs\" textLength=\"21\" x=\"63.75\" y=\"104.1543\">z: B</text></a></g><g id=\"E1.E9.E10\"><a href=\"psysml:d7dc5bce-b37d-4e4e-a49c-d44e6595ca7b\" target=\"_top\" title=\"psysml:d7dc5bce-b37d-4e4e-a49c-d44e6595ca7b\" xlink:actuate=\"onRequest\" xlink:href=\"psysml:d7dc5bce-b37d-4e4e-a49c-d44e6595ca7b\" xlink:show=\"new\" xlink:title=\"psysml:d7dc5bce-b37d-4e4e-a49c-d44e6595ca7b\" xlink:type=\"simple\"><rect fill=\"#FEFECE\" filter=\"url(#f1u3v1oq90kv6z)\" height=\"40\" id=\"E10\" rx=\"10\" ry=\"10\" style=\"stroke: #A80036; stroke-width: 1.5;\" width=\"66\" x=\"293\" y=\"84\"/><ellipse cx=\"310.25\" cy=\"100\" fill=\"#B6DBBB\" rx=\"11\" ry=\"11\" style=\"stroke: #A80036; stroke-width: 1.0;\"/><path d=\"M310,105.4688 Q308.25,105.4688 307.2969,104.4375 Q306.3594,103.3906 306.3594,101.5469 L306.3594,94.6563 L308.4219,94.6563 L308.4219,94.8125 Q308.3281,94.9063 308.2969,95.0469 Q308.2813,95.1719 308.2813,95.4375 L308.2813,101.5625 Q308.2813,102.6563 308.6563,103.2813 Q309.0313,103.9063 310.0156,103.9063 Q311,103.9063 311.3906,103.2813 Q311.7813,102.6563 311.7813,101.5156 L311.7813,94.6563 L313.6563,94.6563 L313.6563,101.5 Q313.6563,103.5313 312.625,104.5 Q311.6094,105.4688 310,105.4688 Z \"/><text fill=\"#000000\" font-family=\"sans-serif\" font-size=\"12\" lengthAdjust=\"spacingAndGlyphs\" textLength=\"29\" x=\"324.75\" y=\"104.1543\">z1: A</text></a></g><!--MD5=[e6fc3f5d8e0dc7d9498b303826f1a024]\n",
       "@startuml\r\n",
       "skinparam ranksep 10\r\n",
       "skinparam rectangle {\r\n",
       " backgroundColor<<block>> LightGreen\r\n",
       "}\r\n",
       " \r\n",
       "package \"PrivateImportTest\" as E1  [[psysml:2415ca44-1de1-4a98-b3f0-a39d5285a5bd ]]  {\r\n",
       "package \"P1\" as E2  [[psysml:426e250f-8977-4e89-b166-3835fc91b530 ]]  {\r\n",
       "rec def \"A\" as E3 << << (B,green) >> [[psysml:0a0c0374-c89d-44f1-8ff3-be2f7c1a5b8f ]] {\r\n",
       "}\r\n",
       "}\r\n",
       "package \"P2\" as E4  [[psysml:9b62d657-9794-4032-9fa2-9f176e634d4a ]]  {\r\n",
       "}\r\n",
       "rec usage \"x: A\" as E5  [[psysml:99b80f3a-0072-46fe-b843-b9a836066a51 ]] {\r\n",
       "}\r\n",
       "package \"P3\" as E6  [[psysml:fe85458f-8707-492f-a6ea-e7b6b29e5b91 ]]  {\r\n",
       "rec def \"B\" as E7 << << (B,green) >> [[psysml:af99adbc-0034-4f7c-9fbe-52493ca28392 ]] {\r\n",
       "}\r\n",
       "}\r\n",
       "rec usage \"z: B\" as E8  [[psysml:a38466df-faf8-4af5-a290-fb7428072c5f ]] {\r\n",
       "}\r\n",
       "package \"P4\" as E9  [[psysml:77a03853-3516-49bc-9a88-c5db4c10002c ]]  {\r\n",
       "rec usage \"z1: A\" as E10  [[psysml:d7dc5bce-b37d-4e4e-a49c-d44e6595ca7b ]] {\r\n",
       "}\r\n",
       "}\r\n",
       "}\r\n",
       "@enduml\r\n",
       "\n",
       "PlantUML version 1.2020.13(Sat Jun 13 12:26:38 UTC 2020)\n",
       "(EPL source distribution)\n",
       "Java Runtime: OpenJDK Runtime Environment\n",
       "JVM: OpenJDK 64-Bit Server VM\n",
       "Default Encoding: UTF-8\n",
       "Language: en\n",
       "Country: null\n",
       "--></g></svg>"
      ]
     },
     "execution_count": 33,
     "metadata": {},
     "output_type": "execute_result"
    }
   ],
   "source": [
    "%viz --style=\"PLANTUML\" --view=\"Interconnection\" \"PrivateImportTest\""
   ]
  },
  {
   "cell_type": "code",
   "execution_count": 34,
   "id": "898ed14a",
   "metadata": {
    "execution": {
     "iopub.execute_input": "2021-10-25T08:22:22.468960Z",
     "iopub.status.busy": "2021-10-25T08:22:22.468506Z",
     "iopub.status.idle": "2021-10-25T08:22:22.473489Z",
     "shell.execute_reply": "2021-10-25T08:22:22.474021Z"
    }
   },
   "outputs": [
    {
     "data": {
      "image/svg+xml": [
       "<?xml version=\"1.0\" encoding=\"UTF-8\" standalone=\"no\"?><svg xmlns=\"http://www.w3.org/2000/svg\" xmlns:xlink=\"http://www.w3.org/1999/xlink\" contentScriptType=\"application/ecmascript\" contentStyleType=\"text/css\" height=\"12px\" preserveAspectRatio=\"none\" style=\"width:12px;height:12px;\" version=\"1.1\" viewBox=\"0 0 12 12\" width=\"12px\" zoomAndPan=\"magnify\"><defs/><g><!--MD5=[6a4cb978cab31700e1ce5529f947a75d]\n",
       "@startuml\r\n",
       "skinparam ranksep 8\r\n",
       " \r\n",
       "@enduml\r\n",
       "\n",
       "PlantUML version 1.2020.13(Sat Jun 13 12:26:38 UTC 2020)\n",
       "(EPL source distribution)\n",
       "Java Runtime: OpenJDK Runtime Environment\n",
       "JVM: OpenJDK 64-Bit Server VM\n",
       "Default Encoding: UTF-8\n",
       "Language: en\n",
       "Country: null\n",
       "--></g></svg>"
      ]
     },
     "execution_count": 34,
     "metadata": {},
     "output_type": "execute_result"
    }
   ],
   "source": [
    "%viz --style=\"PLANTUML\" --view=\"Action\" \"PrivateImportTest\""
   ]
  },
  {
   "cell_type": "code",
   "execution_count": 35,
   "id": "da8a9a9a",
   "metadata": {
    "execution": {
     "iopub.execute_input": "2021-10-25T08:22:22.523833Z",
     "iopub.status.busy": "2021-10-25T08:22:22.523260Z",
     "iopub.status.idle": "2021-10-25T08:22:22.529422Z",
     "shell.execute_reply": "2021-10-25T08:22:22.529169Z"
    }
   },
   "outputs": [
    {
     "data": {
      "image/svg+xml": [
       "<?xml version=\"1.0\" encoding=\"UTF-8\" standalone=\"no\"?><svg xmlns=\"http://www.w3.org/2000/svg\" xmlns:xlink=\"http://www.w3.org/1999/xlink\" contentScriptType=\"application/ecmascript\" contentStyleType=\"text/css\" height=\"12px\" preserveAspectRatio=\"none\" style=\"width:12px;height:12px;\" version=\"1.1\" viewBox=\"0 0 12 12\" width=\"12px\" zoomAndPan=\"magnify\"><defs/><g><!--MD5=[ca4faa0b02def275ea33c14ea7a1a98d]\n",
       "@startuml\r\n",
       "skinparam roundcorner 20\r\n",
       "skinparam BoxPadding 20\r\n",
       "skinparam SequenceBoxBackgroundColor #white\r\n",
       "skinparam style strictuml\r\n",
       "skinparam maxMessageSize 100\r\n",
       " \r\n",
       "@enduml\r\n",
       "\n",
       "PlantUML version 1.2020.13(Sat Jun 13 12:26:38 UTC 2020)\n",
       "(EPL source distribution)\n",
       "Java Runtime: OpenJDK Runtime Environment\n",
       "JVM: OpenJDK 64-Bit Server VM\n",
       "Default Encoding: UTF-8\n",
       "Language: en\n",
       "Country: null\n",
       "--></g></svg>"
      ]
     },
     "execution_count": 35,
     "metadata": {},
     "output_type": "execute_result"
    }
   ],
   "source": [
    "%viz --style=\"PLANTUML\" --view=\"Sequence\" \"PrivateImportTest\""
   ]
  },
  {
   "cell_type": "code",
   "execution_count": 36,
   "id": "31848770",
   "metadata": {
    "execution": {
     "iopub.execute_input": "2021-10-25T08:22:22.579058Z",
     "iopub.status.busy": "2021-10-25T08:22:22.578716Z",
     "iopub.status.idle": "2021-10-25T08:22:22.615557Z",
     "shell.execute_reply": "2021-10-25T08:22:22.613769Z"
    }
   },
   "outputs": [
    {
     "data": {
      "image/svg+xml": [
       "<?xml version=\"1.0\" encoding=\"UTF-8\" standalone=\"no\"?><svg xmlns=\"http://www.w3.org/2000/svg\" xmlns:xlink=\"http://www.w3.org/1999/xlink\" contentScriptType=\"application/ecmascript\" contentStyleType=\"text/css\" height=\"297px\" preserveAspectRatio=\"none\" style=\"width:441px;height:297px;\" version=\"1.1\" viewBox=\"0 0 441 297\" width=\"441px\" zoomAndPan=\"magnify\"><defs><filter height=\"300%\" id=\"f17u58k9isoi3b\" width=\"300%\" x=\"-1\" y=\"-1\"><feGaussianBlur result=\"blurOut\" stdDeviation=\"2.0\"/><feColorMatrix in=\"blurOut\" result=\"blurOut2\" type=\"matrix\" values=\"0 0 0 0 0 0 0 0 0 0 0 0 0 0 0 0 0 0 .4 0\"/><feOffset dx=\"4.0\" dy=\"4.0\" in=\"blurOut2\" result=\"blurOut3\"/><feBlend in=\"SourceGraphic\" in2=\"blurOut3\" mode=\"normal\"/></filter></defs><g><!--MD5=[fbc87193dbaf4d95561dea2c320d4a47]\n",
       "cluster E1--><a href=\"psysml:2415ca44-1de1-4a98-b3f0-a39d5285a5bd\" target=\"_top\" title=\"psysml:2415ca44-1de1-4a98-b3f0-a39d5285a5bd\" xlink:actuate=\"onRequest\" xlink:href=\"psysml:2415ca44-1de1-4a98-b3f0-a39d5285a5bd\" xlink:show=\"new\" xlink:title=\"psysml:2415ca44-1de1-4a98-b3f0-a39d5285a5bd\" xlink:type=\"simple\"><polygon fill=\"#FFFFFF\" filter=\"url(#f17u58k9isoi3b)\" points=\"16,6,143,6,150,28.2969,419,28.2969,419,285,16,285,16,6\" style=\"stroke: #000000; stroke-width: 1.5;\"/><line style=\"stroke: #000000; stroke-width: 1.5;\" x1=\"16\" x2=\"150\" y1=\"28.2969\" y2=\"28.2969\"/><text fill=\"#000000\" font-family=\"sans-serif\" font-size=\"14\" font-weight=\"bold\" lengthAdjust=\"spacingAndGlyphs\" textLength=\"121\" x=\"20\" y=\"20.9951\">PrivateImportTest</text></a><!--MD5=[e4f7fae6ed58524ba242bb0b0d3be6b7]\n",
       "cluster E2--><a href=\"psysml:426e250f-8977-4e89-b166-3835fc91b530\" target=\"_top\" title=\"psysml:426e250f-8977-4e89-b166-3835fc91b530\" xlink:actuate=\"onRequest\" xlink:href=\"psysml:426e250f-8977-4e89-b166-3835fc91b530\" xlink:show=\"new\" xlink:title=\"psysml:426e250f-8977-4e89-b166-3835fc91b530\" xlink:type=\"simple\"><polygon fill=\"#FFFFFF\" filter=\"url(#f17u58k9isoi3b)\" points=\"257,170,281,170,288,192.2969,329,192.2969,329,261,257,261,257,170\" style=\"stroke: #000000; stroke-width: 1.5;\"/><line style=\"stroke: #000000; stroke-width: 1.5;\" x1=\"257\" x2=\"288\" y1=\"192.2969\" y2=\"192.2969\"/><text fill=\"#000000\" font-family=\"sans-serif\" font-size=\"14\" font-weight=\"bold\" lengthAdjust=\"spacingAndGlyphs\" textLength=\"18\" x=\"261\" y=\"184.9951\">P1</text></a><!--MD5=[14e3b0961a2654348d326746436168a1]\n",
       "cluster E6--><a href=\"psysml:fe85458f-8707-492f-a6ea-e7b6b29e5b91\" target=\"_top\" title=\"psysml:fe85458f-8707-492f-a6ea-e7b6b29e5b91\" xlink:actuate=\"onRequest\" xlink:href=\"psysml:fe85458f-8707-492f-a6ea-e7b6b29e5b91\" xlink:show=\"new\" xlink:title=\"psysml:fe85458f-8707-492f-a6ea-e7b6b29e5b91\" xlink:type=\"simple\"><polygon fill=\"#FFFFFF\" filter=\"url(#f17u58k9isoi3b)\" points=\"103,170,127,170,134,192.2969,175,192.2969,175,261,103,261,103,170\" style=\"stroke: #000000; stroke-width: 1.5;\"/><line style=\"stroke: #000000; stroke-width: 1.5;\" x1=\"103\" x2=\"134\" y1=\"192.2969\" y2=\"192.2969\"/><text fill=\"#000000\" font-family=\"sans-serif\" font-size=\"14\" font-weight=\"bold\" lengthAdjust=\"spacingAndGlyphs\" textLength=\"18\" x=\"107\" y=\"184.9951\">P3</text></a><!--MD5=[7f149f147074ac12df2cb0a7728a5fb0]\n",
       "cluster E9--><a href=\"psysml:77a03853-3516-49bc-9a88-c5db4c10002c\" target=\"_top\" title=\"psysml:77a03853-3516-49bc-9a88-c5db4c10002c\" xlink:actuate=\"onRequest\" xlink:href=\"psysml:77a03853-3516-49bc-9a88-c5db4c10002c\" xlink:show=\"new\" xlink:title=\"psysml:77a03853-3516-49bc-9a88-c5db4c10002c\" xlink:type=\"simple\"><polygon fill=\"#FFFFFF\" filter=\"url(#f17u58k9isoi3b)\" points=\"295,49,319,49,326,71.2969,395,71.2969,395,146,295,146,295,49\" style=\"stroke: #000000; stroke-width: 1.5;\"/><line style=\"stroke: #000000; stroke-width: 1.5;\" x1=\"295\" x2=\"326\" y1=\"71.2969\" y2=\"71.2969\"/><text fill=\"#000000\" font-family=\"sans-serif\" font-size=\"14\" font-weight=\"bold\" lengthAdjust=\"spacingAndGlyphs\" textLength=\"18\" x=\"299\" y=\"63.9951\">P4</text></a><!--MD5=[270fce915f116d4de14055a7c1d9a0f3]\n",
       "class E5--><a href=\"psysml:99b80f3a-0072-46fe-b843-b9a836066a51\" target=\"_top\" title=\"psysml:99b80f3a-0072-46fe-b843-b9a836066a51\" xlink:actuate=\"onRequest\" xlink:href=\"psysml:99b80f3a-0072-46fe-b843-b9a836066a51\" xlink:show=\"new\" xlink:title=\"psysml:99b80f3a-0072-46fe-b843-b9a836066a51\" xlink:type=\"simple\"><rect fill=\"#FEFECE\" filter=\"url(#f17u58k9isoi3b)\" height=\"45.9375\" id=\"E5\" rx=\"10\" ry=\"10\" style=\"stroke: #A80036; stroke-width: 1.5;\" width=\"68\" x=\"208\" y=\"84\"/><ellipse cx=\"223\" cy=\"102.9688\" fill=\"#32CD32\" rx=\"11\" ry=\"11\" style=\"stroke: #A80036; stroke-width: 1.0;\"/><path d=\"M219.8125,107.9688 L219.8125,97.375 L223.4219,97.375 Q224.6406,97.375 225.4375,97.8125 Q226.2344,98.2344 226.6094,98.9375 Q227,99.6406 227,100.4844 Q227,101.3281 226.625,102.0156 Q226.2656,102.7031 225.4688,103.125 Q224.6875,103.5313 223.5,103.5313 L221.7656,103.5313 L221.7656,107.9688 L219.8125,107.9688 Z M221.7656,101.9375 L223.375,101.9375 Q224.1875,101.9375 224.6094,101.5313 Q225.0313,101.125 225.0313,100.4844 Q225.0313,99.8594 224.6094,99.4531 Q224.1875,99.0469 223.3906,99.0469 L221.7656,99.0469 L221.7656,101.9375 Z \"/><text fill=\"#000000\" font-family=\"sans-serif\" font-size=\"12\" font-style=\"italic\" lengthAdjust=\"spacingAndGlyphs\" textLength=\"40\" x=\"235\" y=\"100.1387\">«part»</text><text fill=\"#000000\" font-family=\"sans-serif\" font-size=\"12\" lengthAdjust=\"spacingAndGlyphs\" textLength=\"22\" x=\"242\" y=\"114.1074\">x: A</text><line style=\"stroke: #A80036; stroke-width: 1.5;\" x1=\"209\" x2=\"275\" y1=\"121.9375\" y2=\"121.9375\"/></a><!--MD5=[b9389687b975829384b498ac4b7476b2]\n",
       "class E8--><a href=\"psysml:a38466df-faf8-4af5-a290-fb7428072c5f\" target=\"_top\" title=\"psysml:a38466df-faf8-4af5-a290-fb7428072c5f\" xlink:actuate=\"onRequest\" xlink:href=\"psysml:a38466df-faf8-4af5-a290-fb7428072c5f\" xlink:show=\"new\" xlink:title=\"psysml:a38466df-faf8-4af5-a290-fb7428072c5f\" xlink:type=\"simple\"><rect fill=\"#FEFECE\" filter=\"url(#f17u58k9isoi3b)\" height=\"45.9375\" id=\"E8\" rx=\"10\" ry=\"10\" style=\"stroke: #A80036; stroke-width: 1.5;\" width=\"68\" x=\"105\" y=\"84\"/><ellipse cx=\"120\" cy=\"102.9688\" fill=\"#32CD32\" rx=\"11\" ry=\"11\" style=\"stroke: #A80036; stroke-width: 1.0;\"/><path d=\"M116.8125,107.9688 L116.8125,97.375 L120.4219,97.375 Q121.6406,97.375 122.4375,97.8125 Q123.2344,98.2344 123.6094,98.9375 Q124,99.6406 124,100.4844 Q124,101.3281 123.625,102.0156 Q123.2656,102.7031 122.4688,103.125 Q121.6875,103.5313 120.5,103.5313 L118.7656,103.5313 L118.7656,107.9688 L116.8125,107.9688 Z M118.7656,101.9375 L120.375,101.9375 Q121.1875,101.9375 121.6094,101.5313 Q122.0313,101.125 122.0313,100.4844 Q122.0313,99.8594 121.6094,99.4531 Q121.1875,99.0469 120.3906,99.0469 L118.7656,99.0469 L118.7656,101.9375 Z \"/><text fill=\"#000000\" font-family=\"sans-serif\" font-size=\"12\" font-style=\"italic\" lengthAdjust=\"spacingAndGlyphs\" textLength=\"40\" x=\"132\" y=\"100.1387\">«part»</text><text fill=\"#000000\" font-family=\"sans-serif\" font-size=\"12\" lengthAdjust=\"spacingAndGlyphs\" textLength=\"21\" x=\"139.5\" y=\"114.1074\">z: B</text><line style=\"stroke: #A80036; stroke-width: 1.5;\" x1=\"106\" x2=\"172\" y1=\"121.9375\" y2=\"121.9375\"/></a><!--MD5=[09b614a08d8cba4a07c9adeb5e0fee81]\n",
       "class E3--><a href=\"psysml:0a0c0374-c89d-44f1-8ff3-be2f7c1a5b8f\" target=\"_top\" title=\"psysml:0a0c0374-c89d-44f1-8ff3-be2f7c1a5b8f\" xlink:actuate=\"onRequest\" xlink:href=\"psysml:0a0c0374-c89d-44f1-8ff3-be2f7c1a5b8f\" xlink:show=\"new\" xlink:title=\"psysml:0a0c0374-c89d-44f1-8ff3-be2f7c1a5b8f\" xlink:type=\"simple\"><rect fill=\"#FEFECE\" filter=\"url(#f17u58k9isoi3b)\" height=\"40\" id=\"E3\" style=\"stroke: #A80036; stroke-width: 1.5;\" width=\"40\" x=\"273\" y=\"205\"/><ellipse cx=\"288\" cy=\"221\" fill=\"#008000\" rx=\"11\" ry=\"11\" style=\"stroke: #A80036; stroke-width: 1.0;\"/><path d=\"M284.875,226 L284.875,215.4063 L288.1094,215.4063 Q290.0156,215.4063 290.9219,216.1563 Q291.8438,216.9063 291.8438,218.0781 Q291.8438,218.7656 291.4531,219.4219 Q291.0781,220.0781 290.3594,220.375 Q291.2188,220.75 291.7344,221.4375 Q292.25,222.125 292.25,222.9375 Q292.25,224.3125 291.2188,225.1563 Q290.2031,226 288.0938,226 L284.875,226 Z M286.7969,219.6406 L287.9531,219.6406 Q289.0781,219.6406 289.4844,219.2656 Q289.9063,218.875 289.9063,218.25 Q289.9063,217.6719 289.4844,217.3125 Q289.0625,216.9531 288.125,216.9531 L286.7969,216.9531 L286.7969,219.6406 Z M286.7969,224.4219 L288.2969,224.4219 Q289.2031,224.4219 289.7344,224.0313 Q290.2656,223.6406 290.2656,222.8906 Q290.2656,222.125 289.7656,221.6563 Q289.2656,221.1719 288,221.1719 L286.7969,221.1719 L286.7969,224.4219 Z \"/><text fill=\"#000000\" font-family=\"sans-serif\" font-size=\"12\" lengthAdjust=\"spacingAndGlyphs\" textLength=\"8\" x=\"302\" y=\"225.1543\">A</text><line style=\"stroke: #A80036; stroke-width: 1.5;\" x1=\"274\" x2=\"312\" y1=\"237\" y2=\"237\"/></a><a href=\"psysml:9b62d657-9794-4032-9fa2-9f176e634d4a\" target=\"_top\" title=\"psysml:9b62d657-9794-4032-9fa2-9f176e634d4a\" xlink:actuate=\"onRequest\" xlink:href=\"psysml:9b62d657-9794-4032-9fa2-9f176e634d4a\" xlink:show=\"new\" xlink:title=\"psysml:9b62d657-9794-4032-9fa2-9f176e634d4a\" xlink:type=\"simple\"><polygon fill=\"#FFFFFF\" filter=\"url(#f17u58k9isoi3b)\" points=\"32,80.5,56,80.5,63,102.7969,70,102.7969,70,133.0938,32,133.0938,32,80.5\" style=\"stroke: #000000; stroke-width: 1.5;\"/><line style=\"stroke: #000000; stroke-width: 1.5;\" x1=\"32\" x2=\"63\" y1=\"102.7969\" y2=\"102.7969\"/><text fill=\"#000000\" font-family=\"sans-serif\" font-size=\"14\" font-weight=\"bold\" lengthAdjust=\"spacingAndGlyphs\" textLength=\"18\" x=\"36\" y=\"95.4951\">P2</text></a><!--MD5=[2156ba9850f5573cc1fc38a6a4b2f02b]\n",
       "class E7--><a href=\"psysml:af99adbc-0034-4f7c-9fbe-52493ca28392\" target=\"_top\" title=\"psysml:af99adbc-0034-4f7c-9fbe-52493ca28392\" xlink:actuate=\"onRequest\" xlink:href=\"psysml:af99adbc-0034-4f7c-9fbe-52493ca28392\" xlink:show=\"new\" xlink:title=\"psysml:af99adbc-0034-4f7c-9fbe-52493ca28392\" xlink:type=\"simple\"><rect fill=\"#FEFECE\" filter=\"url(#f17u58k9isoi3b)\" height=\"40\" id=\"E7\" style=\"stroke: #A80036; stroke-width: 1.5;\" width=\"40\" x=\"119\" y=\"205\"/><ellipse cx=\"134\" cy=\"221\" fill=\"#008000\" rx=\"11\" ry=\"11\" style=\"stroke: #A80036; stroke-width: 1.0;\"/><path d=\"M130.875,226 L130.875,215.4063 L134.1094,215.4063 Q136.0156,215.4063 136.9219,216.1563 Q137.8438,216.9063 137.8438,218.0781 Q137.8438,218.7656 137.4531,219.4219 Q137.0781,220.0781 136.3594,220.375 Q137.2188,220.75 137.7344,221.4375 Q138.25,222.125 138.25,222.9375 Q138.25,224.3125 137.2188,225.1563 Q136.2031,226 134.0938,226 L130.875,226 Z M132.7969,219.6406 L133.9531,219.6406 Q135.0781,219.6406 135.4844,219.2656 Q135.9063,218.875 135.9063,218.25 Q135.9063,217.6719 135.4844,217.3125 Q135.0625,216.9531 134.125,216.9531 L132.7969,216.9531 L132.7969,219.6406 Z M132.7969,224.4219 L134.2969,224.4219 Q135.2031,224.4219 135.7344,224.0313 Q136.2656,223.6406 136.2656,222.8906 Q136.2656,222.125 135.7656,221.6563 Q135.2656,221.1719 134,221.1719 L132.7969,221.1719 L132.7969,224.4219 Z \"/><text fill=\"#000000\" font-family=\"sans-serif\" font-size=\"12\" lengthAdjust=\"spacingAndGlyphs\" textLength=\"8\" x=\"148\" y=\"225.1543\">B</text><line style=\"stroke: #A80036; stroke-width: 1.5;\" x1=\"120\" x2=\"158\" y1=\"237\" y2=\"237\"/></a><!--MD5=[96f4274e9e20536e775497830990834d]\n",
       "class E10--><a href=\"psysml:d7dc5bce-b37d-4e4e-a49c-d44e6595ca7b\" target=\"_top\" title=\"psysml:d7dc5bce-b37d-4e4e-a49c-d44e6595ca7b\" xlink:actuate=\"onRequest\" xlink:href=\"psysml:d7dc5bce-b37d-4e4e-a49c-d44e6595ca7b\" xlink:show=\"new\" xlink:title=\"psysml:d7dc5bce-b37d-4e4e-a49c-d44e6595ca7b\" xlink:type=\"simple\"><rect fill=\"#FEFECE\" filter=\"url(#f17u58k9isoi3b)\" height=\"45.9375\" id=\"E10\" rx=\"10\" ry=\"10\" style=\"stroke: #A80036; stroke-width: 1.5;\" width=\"68\" x=\"311\" y=\"84\"/><ellipse cx=\"326\" cy=\"102.9688\" fill=\"#32CD32\" rx=\"11\" ry=\"11\" style=\"stroke: #A80036; stroke-width: 1.0;\"/><path d=\"M322.8125,107.9688 L322.8125,97.375 L326.4219,97.375 Q327.6406,97.375 328.4375,97.8125 Q329.2344,98.2344 329.6094,98.9375 Q330,99.6406 330,100.4844 Q330,101.3281 329.625,102.0156 Q329.2656,102.7031 328.4688,103.125 Q327.6875,103.5313 326.5,103.5313 L324.7656,103.5313 L324.7656,107.9688 L322.8125,107.9688 Z M324.7656,101.9375 L326.375,101.9375 Q327.1875,101.9375 327.6094,101.5313 Q328.0313,101.125 328.0313,100.4844 Q328.0313,99.8594 327.6094,99.4531 Q327.1875,99.0469 326.3906,99.0469 L324.7656,99.0469 L324.7656,101.9375 Z \"/><text fill=\"#000000\" font-family=\"sans-serif\" font-size=\"12\" font-style=\"italic\" lengthAdjust=\"spacingAndGlyphs\" textLength=\"40\" x=\"338\" y=\"100.1387\">«part»</text><text fill=\"#000000\" font-family=\"sans-serif\" font-size=\"12\" lengthAdjust=\"spacingAndGlyphs\" textLength=\"29\" x=\"341.5\" y=\"114.1074\">z1: A</text><line style=\"stroke: #A80036; stroke-width: 1.5;\" x1=\"312\" x2=\"378\" y1=\"121.9375\" y2=\"121.9375\"/></a><!--MD5=[e9be52314489bd878ff4c7144b63c9e1]\n",
       "link E5 to E3--><a href=\"psysml:2e6435ee-ec1e-47e4-8fad-fb77072556f4\" target=\"_top\" title=\"psysml:2e6435ee-ec1e-47e4-8fad-fb77072556f4\" xlink:actuate=\"onRequest\" xlink:href=\"psysml:2e6435ee-ec1e-47e4-8fad-fb77072556f4\" xlink:show=\"new\" xlink:title=\"psysml:2e6435ee-ec1e-47e4-8fad-fb77072556f4\" xlink:type=\"simple\"><path d=\"M251.71,130.09 C258.67,145.93 268.22,167.65 276.39,186.21 \" fill=\"none\" id=\"E5-&gt;E3\" style=\"stroke: #A80036; stroke-width: 1.0;\"/><polygon fill=\"#FFFFFF\" points=\"284.51,204.69,270.4611,190.1083,283.2794,184.479,284.51,204.69\" style=\"stroke: #A80036; stroke-width: 1.0;\"/><ellipse cx=\"270.0003\" cy=\"184.0852\" fill=\"#A80036\" rx=\"2\" ry=\"2\" style=\"stroke: #A80036; stroke-width: 1.0;\"/><ellipse cx=\"279.1563\" cy=\"180.0642\" fill=\"#A80036\" rx=\"2\" ry=\"2\" style=\"stroke: #A80036; stroke-width: 1.0;\"/></a><!--MD5=[bfa3c8b0d15052fdf50ae9310b491027]\n",
       "link E8 to E7--><a href=\"psysml:f11bc7c0-c938-426a-87a4-76c9b47cac7e\" target=\"_top\" title=\"psysml:f11bc7c0-c938-426a-87a4-76c9b47cac7e\" xlink:actuate=\"onRequest\" xlink:href=\"psysml:f11bc7c0-c938-426a-87a4-76c9b47cac7e\" xlink:show=\"new\" xlink:title=\"psysml:f11bc7c0-c938-426a-87a4-76c9b47cac7e\" xlink:type=\"simple\"><path d=\"M139,130.09 C139,145.42 139,166.27 139,184.42 \" fill=\"none\" id=\"E8-&gt;E7\" style=\"stroke: #A80036; stroke-width: 1.0;\"/><polygon fill=\"#FFFFFF\" points=\"139,204.69,132,185.69,146,185.69,139,204.69\" style=\"stroke: #A80036; stroke-width: 1.0;\"/><ellipse cx=\"134\" cy=\"179.99\" fill=\"#A80036\" rx=\"2\" ry=\"2\" style=\"stroke: #A80036; stroke-width: 1.0;\"/><ellipse cx=\"144\" cy=\"179.99\" fill=\"#A80036\" rx=\"2\" ry=\"2\" style=\"stroke: #A80036; stroke-width: 1.0;\"/></a><!--MD5=[feeac5eb423634930294aa81f2d25a4c]\n",
       "link E10 to E3--><a href=\"psysml:21a673ac-f9f6-428c-a165-60ea4300f397\" target=\"_top\" title=\"psysml:21a673ac-f9f6-428c-a165-60ea4300f397\" xlink:actuate=\"onRequest\" xlink:href=\"psysml:21a673ac-f9f6-428c-a165-60ea4300f397\" xlink:show=\"new\" xlink:title=\"psysml:21a673ac-f9f6-428c-a165-60ea4300f397\" xlink:type=\"simple\"><path d=\"M335.1,130.09 C328,145.93 318.26,167.65 309.94,186.21 \" fill=\"none\" id=\"E10-&gt;E3\" style=\"stroke: #A80036; stroke-width: 1.0;\"/><polygon fill=\"#FFFFFF\" points=\"301.66,204.69,303.0459,184.489,315.8206,190.2167,301.66,204.69\" style=\"stroke: #A80036; stroke-width: 1.0;\"/><ellipse cx=\"307.2028\" cy=\"180.1061\" fill=\"#A80036\" rx=\"2\" ry=\"2\" style=\"stroke: #A80036; stroke-width: 1.0;\"/><ellipse cx=\"316.3276\" cy=\"184.1973\" fill=\"#A80036\" rx=\"2\" ry=\"2\" style=\"stroke: #A80036; stroke-width: 1.0;\"/></a><!--MD5=[6f8d80c21557eb33d08716f3e0b55ade]\n",
       "@startuml\r\n",
       " \r\n",
       "package \"PrivateImportTest\" as E1  [[psysml:2415ca44-1de1-4a98-b3f0-a39d5285a5bd ]]  {\r\n",
       "package \"P1\" as E2  [[psysml:426e250f-8977-4e89-b166-3835fc91b530 ]]  {\r\n",
       "comp def \"A\" as E3 << << (B,green) >> [[psysml:0a0c0374-c89d-44f1-8ff3-be2f7c1a5b8f ]] {\r\n",
       "}\r\n",
       "}\r\n",
       "package \"P2\" as E4  [[psysml:9b62d657-9794-4032-9fa2-9f176e634d4a ]]  {\r\n",
       "}\r\n",
       "comp usage \"x: A \" as E5 << << (P,limegreen) part>> [[psysml:99b80f3a-0072-46fe-b843-b9a836066a51 ]] {\r\n",
       "}\r\n",
       "package \"P3\" as E6  [[psysml:fe85458f-8707-492f-a6ea-e7b6b29e5b91 ]]  {\r\n",
       "comp def \"B\" as E7 << << (B,green) >> [[psysml:af99adbc-0034-4f7c-9fbe-52493ca28392 ]] {\r\n",
       "}\r\n",
       "}\r\n",
       "comp usage \"z: B \" as E8 << << (P,limegreen) part>> [[psysml:a38466df-faf8-4af5-a290-fb7428072c5f ]] {\r\n",
       "}\r\n",
       "package \"P4\" as E9  [[psysml:77a03853-3516-49bc-9a88-c5db4c10002c ]]  {\r\n",
       "comp usage \"z1: A \" as E10 << << (P,limegreen) part>> [[psysml:d7dc5bce-b37d-4e4e-a49c-d44e6595ca7b ]] {\r\n",
       "}\r\n",
       "}\r\n",
       "}\r\n",
       "E5 - -:|> E3 [[psysml:2e6435ee-ec1e-47e4-8fad-fb77072556f4 ]] \r\n",
       "E8 - -:|> E7 [[psysml:f11bc7c0-c938-426a-87a4-76c9b47cac7e ]] \r\n",
       "E10 - -:|> E3 [[psysml:21a673ac-f9f6-428c-a165-60ea4300f397 ]] \r\n",
       "@enduml\r\n",
       "\n",
       "PlantUML version 1.2020.13(Sat Jun 13 12:26:38 UTC 2020)\n",
       "(EPL source distribution)\n",
       "Java Runtime: OpenJDK Runtime Environment\n",
       "JVM: OpenJDK 64-Bit Server VM\n",
       "Default Encoding: UTF-8\n",
       "Language: en\n",
       "Country: null\n",
       "--></g></svg>"
      ]
     },
     "execution_count": 36,
     "metadata": {},
     "output_type": "execute_result"
    }
   ],
   "source": [
    "%viz --style=\"PLANTUML\" --view=\"MIXED\" \"PrivateImportTest\""
   ]
  },
  {
   "cell_type": "code",
   "execution_count": 37,
   "id": "01a8acd7",
   "metadata": {
    "execution": {
     "iopub.execute_input": "2021-10-25T08:22:22.665045Z",
     "iopub.status.busy": "2021-10-25T08:22:22.664720Z",
     "iopub.status.idle": "2021-10-25T08:22:22.694302Z",
     "shell.execute_reply": "2021-10-25T08:22:22.692797Z"
    }
   },
   "outputs": [
    {
     "data": {
      "image/svg+xml": [
       "<?xml version=\"1.0\" encoding=\"UTF-8\" standalone=\"no\"?><svg xmlns=\"http://www.w3.org/2000/svg\" xmlns:xlink=\"http://www.w3.org/1999/xlink\" contentScriptType=\"application/ecmascript\" contentStyleType=\"text/css\" height=\"303px\" preserveAspectRatio=\"none\" style=\"width:363px;height:303px;\" version=\"1.1\" viewBox=\"0 0 363 303\" width=\"363px\" zoomAndPan=\"magnify\"><defs/><g><!--MD5=[fbc87193dbaf4d95561dea2c320d4a47]\n",
       "cluster E1--><a href=\"psysml:2415ca44-1de1-4a98-b3f0-a39d5285a5bd\" target=\"_top\" title=\"psysml:2415ca44-1de1-4a98-b3f0-a39d5285a5bd\" xlink:actuate=\"onRequest\" xlink:href=\"psysml:2415ca44-1de1-4a98-b3f0-a39d5285a5bd\" xlink:show=\"new\" xlink:title=\"psysml:2415ca44-1de1-4a98-b3f0-a39d5285a5bd\" xlink:type=\"simple\"><polygon fill=\"#FFFFFF\" points=\"16,6,143,6,150,28.2969,341,28.2969,341,291,16,291,16,6\" style=\"stroke: #000000; stroke-width: 1.5;\"/><line style=\"stroke: #000000; stroke-width: 1.5;\" x1=\"16\" x2=\"150\" y1=\"28.2969\" y2=\"28.2969\"/><text fill=\"#000000\" font-family=\"sans-serif\" font-size=\"14\" font-weight=\"bold\" lengthAdjust=\"spacingAndGlyphs\" textLength=\"121\" x=\"20\" y=\"20.9951\">PrivateImportTest</text></a><!--MD5=[e4f7fae6ed58524ba242bb0b0d3be6b7]\n",
       "cluster E2--><a href=\"psysml:426e250f-8977-4e89-b166-3835fc91b530\" target=\"_top\" title=\"psysml:426e250f-8977-4e89-b166-3835fc91b530\" xlink:actuate=\"onRequest\" xlink:href=\"psysml:426e250f-8977-4e89-b166-3835fc91b530\" xlink:show=\"new\" xlink:title=\"psysml:426e250f-8977-4e89-b166-3835fc91b530\" xlink:type=\"simple\"><polygon fill=\"#FFFFFF\" points=\"208,170,232,170,239,192.2969,310,192.2969,310,267,208,267,208,170\" style=\"stroke: #000000; stroke-width: 1.5;\"/><line style=\"stroke: #000000; stroke-width: 1.5;\" x1=\"208\" x2=\"239\" y1=\"192.2969\" y2=\"192.2969\"/><text fill=\"#000000\" font-family=\"sans-serif\" font-size=\"14\" font-weight=\"bold\" lengthAdjust=\"spacingAndGlyphs\" textLength=\"18\" x=\"212\" y=\"184.9951\">P1</text></a><!--MD5=[14e3b0961a2654348d326746436168a1]\n",
       "cluster E6--><a href=\"psysml:fe85458f-8707-492f-a6ea-e7b6b29e5b91\" target=\"_top\" title=\"psysml:fe85458f-8707-492f-a6ea-e7b6b29e5b91\" xlink:actuate=\"onRequest\" xlink:href=\"psysml:fe85458f-8707-492f-a6ea-e7b6b29e5b91\" xlink:show=\"new\" xlink:title=\"psysml:fe85458f-8707-492f-a6ea-e7b6b29e5b91\" xlink:type=\"simple\"><polygon fill=\"#FFFFFF\" points=\"75,170,99,170,106,192.2969,177,192.2969,177,267,75,267,75,170\" style=\"stroke: #000000; stroke-width: 1.5;\"/><line style=\"stroke: #000000; stroke-width: 1.5;\" x1=\"75\" x2=\"106\" y1=\"192.2969\" y2=\"192.2969\"/><text fill=\"#000000\" font-family=\"sans-serif\" font-size=\"14\" font-weight=\"bold\" lengthAdjust=\"spacingAndGlyphs\" textLength=\"18\" x=\"79\" y=\"184.9951\">P3</text></a><!--MD5=[7f149f147074ac12df2cb0a7728a5fb0]\n",
       "cluster E9--><a href=\"psysml:77a03853-3516-49bc-9a88-c5db4c10002c\" target=\"_top\" title=\"psysml:77a03853-3516-49bc-9a88-c5db4c10002c\" xlink:actuate=\"onRequest\" xlink:href=\"psysml:77a03853-3516-49bc-9a88-c5db4c10002c\" xlink:show=\"new\" xlink:title=\"psysml:77a03853-3516-49bc-9a88-c5db4c10002c\" xlink:type=\"simple\"><polygon fill=\"#FFFFFF\" points=\"243,49,267,49,274,71.2969,317,71.2969,317,146,243,146,243,49\" style=\"stroke: #000000; stroke-width: 1.5;\"/><line style=\"stroke: #000000; stroke-width: 1.5;\" x1=\"243\" x2=\"274\" y1=\"71.2969\" y2=\"71.2969\"/><text fill=\"#000000\" font-family=\"sans-serif\" font-size=\"14\" font-weight=\"bold\" lengthAdjust=\"spacingAndGlyphs\" textLength=\"18\" x=\"247\" y=\"63.9951\">P4</text></a><!--MD5=[270fce915f116d4de14055a7c1d9a0f3]\n",
       "class E5--><a href=\"psysml:99b80f3a-0072-46fe-b843-b9a836066a51\" target=\"_top\" title=\"psysml:99b80f3a-0072-46fe-b843-b9a836066a51\" xlink:actuate=\"onRequest\" xlink:href=\"psysml:99b80f3a-0072-46fe-b843-b9a836066a51\" xlink:show=\"new\" xlink:title=\"psysml:99b80f3a-0072-46fe-b843-b9a836066a51\" xlink:type=\"simple\"><rect fill=\"#FFFFFF\" height=\"45.9375\" id=\"E5\" rx=\"10\" ry=\"10\" style=\"stroke: #383838; stroke-width: 1.5;\" width=\"42\" x=\"182\" y=\"84\"/><text fill=\"#000000\" font-family=\"sans-serif\" font-size=\"12\" font-style=\"italic\" lengthAdjust=\"spacingAndGlyphs\" textLength=\"40\" x=\"183\" y=\"100.1387\">«part»</text><text fill=\"#000000\" font-family=\"sans-serif\" font-size=\"12\" lengthAdjust=\"spacingAndGlyphs\" textLength=\"22\" x=\"190\" y=\"114.1074\">x: A</text><line style=\"stroke: #383838; stroke-width: 1.5;\" x1=\"183\" x2=\"223\" y1=\"121.9375\" y2=\"121.9375\"/></a><!--MD5=[b9389687b975829384b498ac4b7476b2]\n",
       "class E8--><a href=\"psysml:a38466df-faf8-4af5-a290-fb7428072c5f\" target=\"_top\" title=\"psysml:a38466df-faf8-4af5-a290-fb7428072c5f\" xlink:actuate=\"onRequest\" xlink:href=\"psysml:a38466df-faf8-4af5-a290-fb7428072c5f\" xlink:show=\"new\" xlink:title=\"psysml:a38466df-faf8-4af5-a290-fb7428072c5f\" xlink:type=\"simple\"><rect fill=\"#FFFFFF\" height=\"45.9375\" id=\"E8\" rx=\"10\" ry=\"10\" style=\"stroke: #383838; stroke-width: 1.5;\" width=\"42\" x=\"105\" y=\"84\"/><text fill=\"#000000\" font-family=\"sans-serif\" font-size=\"12\" font-style=\"italic\" lengthAdjust=\"spacingAndGlyphs\" textLength=\"40\" x=\"106\" y=\"100.1387\">«part»</text><text fill=\"#000000\" font-family=\"sans-serif\" font-size=\"12\" lengthAdjust=\"spacingAndGlyphs\" textLength=\"21\" x=\"113.5\" y=\"114.1074\">z: B</text><line style=\"stroke: #383838; stroke-width: 1.5;\" x1=\"106\" x2=\"146\" y1=\"121.9375\" y2=\"121.9375\"/></a><!--MD5=[09b614a08d8cba4a07c9adeb5e0fee81]\n",
       "class E3--><a href=\"psysml:0a0c0374-c89d-44f1-8ff3-be2f7c1a5b8f\" target=\"_top\" title=\"psysml:0a0c0374-c89d-44f1-8ff3-be2f7c1a5b8f\" xlink:actuate=\"onRequest\" xlink:href=\"psysml:0a0c0374-c89d-44f1-8ff3-be2f7c1a5b8f\" xlink:show=\"new\" xlink:title=\"psysml:0a0c0374-c89d-44f1-8ff3-be2f7c1a5b8f\" xlink:type=\"simple\"><rect fill=\"#FFFFFF\" height=\"45.9375\" id=\"E3\" style=\"stroke: #383838; stroke-width: 1.5;\" width=\"70\" x=\"224\" y=\"205\"/><text fill=\"#000000\" font-family=\"sans-serif\" font-size=\"12\" font-style=\"italic\" lengthAdjust=\"spacingAndGlyphs\" textLength=\"68\" x=\"225\" y=\"221.1387\">«part  def»</text><text fill=\"#000000\" font-family=\"sans-serif\" font-size=\"12\" lengthAdjust=\"spacingAndGlyphs\" textLength=\"8\" x=\"255\" y=\"235.1074\">A</text><line style=\"stroke: #383838; stroke-width: 1.5;\" x1=\"225\" x2=\"293\" y1=\"242.9375\" y2=\"242.9375\"/></a><a href=\"psysml:9b62d657-9794-4032-9fa2-9f176e634d4a\" target=\"_top\" title=\"psysml:9b62d657-9794-4032-9fa2-9f176e634d4a\" xlink:actuate=\"onRequest\" xlink:href=\"psysml:9b62d657-9794-4032-9fa2-9f176e634d4a\" xlink:show=\"new\" xlink:title=\"psysml:9b62d657-9794-4032-9fa2-9f176e634d4a\" xlink:type=\"simple\"><polygon fill=\"#FFFFFF\" points=\"32,80.5,56,80.5,63,102.7969,70,102.7969,70,133.0938,32,133.0938,32,80.5\" style=\"stroke: #000000; stroke-width: 1.5;\"/><line style=\"stroke: #000000; stroke-width: 1.5;\" x1=\"32\" x2=\"63\" y1=\"102.7969\" y2=\"102.7969\"/><text fill=\"#000000\" font-family=\"sans-serif\" font-size=\"14\" font-weight=\"bold\" lengthAdjust=\"spacingAndGlyphs\" textLength=\"18\" x=\"36\" y=\"95.4951\">P2</text></a><!--MD5=[2156ba9850f5573cc1fc38a6a4b2f02b]\n",
       "class E7--><a href=\"psysml:af99adbc-0034-4f7c-9fbe-52493ca28392\" target=\"_top\" title=\"psysml:af99adbc-0034-4f7c-9fbe-52493ca28392\" xlink:actuate=\"onRequest\" xlink:href=\"psysml:af99adbc-0034-4f7c-9fbe-52493ca28392\" xlink:show=\"new\" xlink:title=\"psysml:af99adbc-0034-4f7c-9fbe-52493ca28392\" xlink:type=\"simple\"><rect fill=\"#FFFFFF\" height=\"45.9375\" id=\"E7\" style=\"stroke: #383838; stroke-width: 1.5;\" width=\"70\" x=\"91\" y=\"205\"/><text fill=\"#000000\" font-family=\"sans-serif\" font-size=\"12\" font-style=\"italic\" lengthAdjust=\"spacingAndGlyphs\" textLength=\"68\" x=\"92\" y=\"221.1387\">«part  def»</text><text fill=\"#000000\" font-family=\"sans-serif\" font-size=\"12\" lengthAdjust=\"spacingAndGlyphs\" textLength=\"8\" x=\"122\" y=\"235.1074\">B</text><line style=\"stroke: #383838; stroke-width: 1.5;\" x1=\"92\" x2=\"160\" y1=\"242.9375\" y2=\"242.9375\"/></a><!--MD5=[96f4274e9e20536e775497830990834d]\n",
       "class E10--><a href=\"psysml:d7dc5bce-b37d-4e4e-a49c-d44e6595ca7b\" target=\"_top\" title=\"psysml:d7dc5bce-b37d-4e4e-a49c-d44e6595ca7b\" xlink:actuate=\"onRequest\" xlink:href=\"psysml:d7dc5bce-b37d-4e4e-a49c-d44e6595ca7b\" xlink:show=\"new\" xlink:title=\"psysml:d7dc5bce-b37d-4e4e-a49c-d44e6595ca7b\" xlink:type=\"simple\"><rect fill=\"#FFFFFF\" height=\"45.9375\" id=\"E10\" rx=\"10\" ry=\"10\" style=\"stroke: #383838; stroke-width: 1.5;\" width=\"42\" x=\"259\" y=\"84\"/><text fill=\"#000000\" font-family=\"sans-serif\" font-size=\"12\" font-style=\"italic\" lengthAdjust=\"spacingAndGlyphs\" textLength=\"40\" x=\"260\" y=\"100.1387\">«part»</text><text fill=\"#000000\" font-family=\"sans-serif\" font-size=\"12\" lengthAdjust=\"spacingAndGlyphs\" textLength=\"29\" x=\"263.5\" y=\"114.1074\">z1: A</text><line style=\"stroke: #383838; stroke-width: 1.5;\" x1=\"260\" x2=\"300\" y1=\"121.9375\" y2=\"121.9375\"/></a><!--MD5=[e9be52314489bd878ff4c7144b63c9e1]\n",
       "link E5 to E3--><a href=\"psysml:2e6435ee-ec1e-47e4-8fad-fb77072556f4\" target=\"_top\" title=\"psysml:2e6435ee-ec1e-47e4-8fad-fb77072556f4\" xlink:actuate=\"onRequest\" xlink:href=\"psysml:2e6435ee-ec1e-47e4-8fad-fb77072556f4\" xlink:show=\"new\" xlink:title=\"psysml:2e6435ee-ec1e-47e4-8fad-fb77072556f4\" xlink:type=\"simple\"><path d=\"M213.4,130.1 C220.82,145.87 231.01,167.52 239.88,186.36 \" fill=\"none\" id=\"E5-&gt;E3\" style=\"stroke: #383838; stroke-width: 1.0;\"/><polygon fill=\"#FFFFFF\" points=\"248.46,204.61,234.0383,190.3968,246.7067,184.4376,248.46,204.61\" style=\"stroke: #383838; stroke-width: 1.0;\"/><ellipse cx=\"233.4218\" cy=\"184.3877\" fill=\"#383838\" rx=\"2\" ry=\"2\" style=\"stroke: #383838; stroke-width: 1.0;\"/><ellipse cx=\"242.4706\" cy=\"180.1311\" fill=\"#383838\" rx=\"2\" ry=\"2\" style=\"stroke: #383838; stroke-width: 1.0;\"/></a><!--MD5=[bfa3c8b0d15052fdf50ae9310b491027]\n",
       "link E8 to E7--><a href=\"psysml:f11bc7c0-c938-426a-87a4-76c9b47cac7e\" target=\"_top\" title=\"psysml:f11bc7c0-c938-426a-87a4-76c9b47cac7e\" xlink:actuate=\"onRequest\" xlink:href=\"psysml:f11bc7c0-c938-426a-87a4-76c9b47cac7e\" xlink:show=\"new\" xlink:title=\"psysml:f11bc7c0-c938-426a-87a4-76c9b47cac7e\" xlink:type=\"simple\"><path d=\"M126,130.1 C126,145.37 126,166.16 126,184.57 \" fill=\"none\" id=\"E8-&gt;E7\" style=\"stroke: #383838; stroke-width: 1.0;\"/><polygon fill=\"#FFFFFF\" points=\"126,204.61,119,185.61,133,185.61,126,204.61\" style=\"stroke: #383838; stroke-width: 1.0;\"/><ellipse cx=\"121\" cy=\"179.91\" fill=\"#383838\" rx=\"2\" ry=\"2\" style=\"stroke: #383838; stroke-width: 1.0;\"/><ellipse cx=\"131\" cy=\"179.91\" fill=\"#383838\" rx=\"2\" ry=\"2\" style=\"stroke: #383838; stroke-width: 1.0;\"/></a><!--MD5=[feeac5eb423634930294aa81f2d25a4c]\n",
       "link E10 to E3--><a href=\"psysml:21a673ac-f9f6-428c-a165-60ea4300f397\" target=\"_top\" title=\"psysml:21a673ac-f9f6-428c-a165-60ea4300f397\" xlink:actuate=\"onRequest\" xlink:href=\"psysml:21a673ac-f9f6-428c-a165-60ea4300f397\" xlink:show=\"new\" xlink:title=\"psysml:21a673ac-f9f6-428c-a165-60ea4300f397\" xlink:type=\"simple\"><path d=\"M276.1,130.1 C273.39,145.45 269.7,166.39 266.44,184.87 \" fill=\"none\" id=\"E10-&gt;E3\" style=\"stroke: #383838; stroke-width: 1.0;\"/><polygon fill=\"#FFFFFF\" points=\"262.95,204.61,259.3535,184.6835,273.1411,187.1131,262.95,204.61\" style=\"stroke: #383838; stroke-width: 1.0;\"/><ellipse cx=\"262.3123\" cy=\"179.4171\" fill=\"#383838\" rx=\"2\" ry=\"2\" style=\"stroke: #383838; stroke-width: 1.0;\"/><ellipse cx=\"272.1606\" cy=\"181.1525\" fill=\"#383838\" rx=\"2\" ry=\"2\" style=\"stroke: #383838; stroke-width: 1.0;\"/></a><!--MD5=[4ca08d76c77ae029c9c913ce0552af27]\n",
       "@startuml\r\n",
       "skinparam monochrome true\r\n",
       "skinparam classbackgroundcolor white\r\n",
       "skinparam shadowing false\r\n",
       "skinparam wrapWidth 300\r\n",
       "hide circle\r\n",
       "\r\n",
       "package \"PrivateImportTest\" as E1  [[psysml:2415ca44-1de1-4a98-b3f0-a39d5285a5bd ]]  {\r\n",
       "package \"P1\" as E2  [[psysml:426e250f-8977-4e89-b166-3835fc91b530 ]]  {\r\n",
       "comp def \"A\" as E3  <<(T,blue) part  def>> [[psysml:0a0c0374-c89d-44f1-8ff3-be2f7c1a5b8f ]] {\r\n",
       "}\r\n",
       "}\r\n",
       "package \"P2\" as E4  [[psysml:9b62d657-9794-4032-9fa2-9f176e634d4a ]]  {\r\n",
       "}\r\n",
       "comp usage \"x: A \" as E5  <<(T,blue) part>> [[psysml:99b80f3a-0072-46fe-b843-b9a836066a51 ]] {\r\n",
       "}\r\n",
       "package \"P3\" as E6  [[psysml:fe85458f-8707-492f-a6ea-e7b6b29e5b91 ]]  {\r\n",
       "comp def \"B\" as E7  <<(T,blue) part  def>> [[psysml:af99adbc-0034-4f7c-9fbe-52493ca28392 ]] {\r\n",
       "}\r\n",
       "}\r\n",
       "comp usage \"z: B \" as E8  <<(T,blue) part>> [[psysml:a38466df-faf8-4af5-a290-fb7428072c5f ]] {\r\n",
       "}\r\n",
       "package \"P4\" as E9  [[psysml:77a03853-3516-49bc-9a88-c5db4c10002c ]]  {\r\n",
       "comp usage \"z1: A \" as E10  <<(T,blue) part>> [[psysml:d7dc5bce-b37d-4e4e-a49c-d44e6595ca7b ]] {\r\n",
       "}\r\n",
       "}\r\n",
       "}\r\n",
       "E5 - -:|> E3 [[psysml:2e6435ee-ec1e-47e4-8fad-fb77072556f4 ]] \r\n",
       "E8 - -:|> E7 [[psysml:f11bc7c0-c938-426a-87a4-76c9b47cac7e ]] \r\n",
       "E10 - -:|> E3 [[psysml:21a673ac-f9f6-428c-a165-60ea4300f397 ]] \r\n",
       "@enduml\r\n",
       "\n",
       "PlantUML version 1.2020.13(Sat Jun 13 12:26:38 UTC 2020)\n",
       "(EPL source distribution)\n",
       "Java Runtime: OpenJDK Runtime Environment\n",
       "JVM: OpenJDK 64-Bit Server VM\n",
       "Default Encoding: UTF-8\n",
       "Language: en\n",
       "Country: null\n",
       "--></g></svg>"
      ]
     },
     "execution_count": 37,
     "metadata": {},
     "output_type": "execute_result"
    }
   ],
   "source": [
    "%viz --style=\"DEFAULT\" --view=\"Default\" \"PrivateImportTest\""
   ]
  },
  {
   "cell_type": "code",
   "execution_count": 38,
   "id": "218d8931",
   "metadata": {
    "execution": {
     "iopub.execute_input": "2021-10-25T08:22:22.744050Z",
     "iopub.status.busy": "2021-10-25T08:22:22.743706Z",
     "iopub.status.idle": "2021-10-25T08:22:22.778914Z",
     "shell.execute_reply": "2021-10-25T08:22:22.777266Z"
    }
   },
   "outputs": [
    {
     "data": {
      "image/svg+xml": [
       "<?xml version=\"1.0\" encoding=\"UTF-8\" standalone=\"no\"?><svg xmlns=\"http://www.w3.org/2000/svg\" xmlns:xlink=\"http://www.w3.org/1999/xlink\" contentScriptType=\"application/ecmascript\" contentStyleType=\"text/css\" height=\"303px\" preserveAspectRatio=\"none\" style=\"width:363px;height:303px;\" version=\"1.1\" viewBox=\"0 0 363 303\" width=\"363px\" zoomAndPan=\"magnify\"><defs/><g><!--MD5=[fbc87193dbaf4d95561dea2c320d4a47]\n",
       "cluster E1--><a href=\"psysml:2415ca44-1de1-4a98-b3f0-a39d5285a5bd\" target=\"_top\" title=\"psysml:2415ca44-1de1-4a98-b3f0-a39d5285a5bd\" xlink:actuate=\"onRequest\" xlink:href=\"psysml:2415ca44-1de1-4a98-b3f0-a39d5285a5bd\" xlink:show=\"new\" xlink:title=\"psysml:2415ca44-1de1-4a98-b3f0-a39d5285a5bd\" xlink:type=\"simple\"><polygon fill=\"#FFFFFF\" points=\"16,6,143,6,150,28.2969,341,28.2969,341,291,16,291,16,6\" style=\"stroke: #000000; stroke-width: 1.5;\"/><line style=\"stroke: #000000; stroke-width: 1.5;\" x1=\"16\" x2=\"150\" y1=\"28.2969\" y2=\"28.2969\"/><text fill=\"#000000\" font-family=\"sans-serif\" font-size=\"14\" font-weight=\"bold\" lengthAdjust=\"spacingAndGlyphs\" textLength=\"121\" x=\"20\" y=\"20.9951\">PrivateImportTest</text></a><!--MD5=[e4f7fae6ed58524ba242bb0b0d3be6b7]\n",
       "cluster E2--><a href=\"psysml:426e250f-8977-4e89-b166-3835fc91b530\" target=\"_top\" title=\"psysml:426e250f-8977-4e89-b166-3835fc91b530\" xlink:actuate=\"onRequest\" xlink:href=\"psysml:426e250f-8977-4e89-b166-3835fc91b530\" xlink:show=\"new\" xlink:title=\"psysml:426e250f-8977-4e89-b166-3835fc91b530\" xlink:type=\"simple\"><polygon fill=\"#FFFFFF\" points=\"208,170,232,170,239,192.2969,310,192.2969,310,267,208,267,208,170\" style=\"stroke: #000000; stroke-width: 1.5;\"/><line style=\"stroke: #000000; stroke-width: 1.5;\" x1=\"208\" x2=\"239\" y1=\"192.2969\" y2=\"192.2969\"/><text fill=\"#000000\" font-family=\"sans-serif\" font-size=\"14\" font-weight=\"bold\" lengthAdjust=\"spacingAndGlyphs\" textLength=\"18\" x=\"212\" y=\"184.9951\">P1</text></a><!--MD5=[14e3b0961a2654348d326746436168a1]\n",
       "cluster E6--><a href=\"psysml:fe85458f-8707-492f-a6ea-e7b6b29e5b91\" target=\"_top\" title=\"psysml:fe85458f-8707-492f-a6ea-e7b6b29e5b91\" xlink:actuate=\"onRequest\" xlink:href=\"psysml:fe85458f-8707-492f-a6ea-e7b6b29e5b91\" xlink:show=\"new\" xlink:title=\"psysml:fe85458f-8707-492f-a6ea-e7b6b29e5b91\" xlink:type=\"simple\"><polygon fill=\"#FFFFFF\" points=\"75,170,99,170,106,192.2969,177,192.2969,177,267,75,267,75,170\" style=\"stroke: #000000; stroke-width: 1.5;\"/><line style=\"stroke: #000000; stroke-width: 1.5;\" x1=\"75\" x2=\"106\" y1=\"192.2969\" y2=\"192.2969\"/><text fill=\"#000000\" font-family=\"sans-serif\" font-size=\"14\" font-weight=\"bold\" lengthAdjust=\"spacingAndGlyphs\" textLength=\"18\" x=\"79\" y=\"184.9951\">P3</text></a><!--MD5=[7f149f147074ac12df2cb0a7728a5fb0]\n",
       "cluster E9--><a href=\"psysml:77a03853-3516-49bc-9a88-c5db4c10002c\" target=\"_top\" title=\"psysml:77a03853-3516-49bc-9a88-c5db4c10002c\" xlink:actuate=\"onRequest\" xlink:href=\"psysml:77a03853-3516-49bc-9a88-c5db4c10002c\" xlink:show=\"new\" xlink:title=\"psysml:77a03853-3516-49bc-9a88-c5db4c10002c\" xlink:type=\"simple\"><polygon fill=\"#FFFFFF\" points=\"243,49,267,49,274,71.2969,317,71.2969,317,146,243,146,243,49\" style=\"stroke: #000000; stroke-width: 1.5;\"/><line style=\"stroke: #000000; stroke-width: 1.5;\" x1=\"243\" x2=\"274\" y1=\"71.2969\" y2=\"71.2969\"/><text fill=\"#000000\" font-family=\"sans-serif\" font-size=\"14\" font-weight=\"bold\" lengthAdjust=\"spacingAndGlyphs\" textLength=\"18\" x=\"247\" y=\"63.9951\">P4</text></a><!--MD5=[270fce915f116d4de14055a7c1d9a0f3]\n",
       "class E5--><a href=\"psysml:99b80f3a-0072-46fe-b843-b9a836066a51\" target=\"_top\" title=\"psysml:99b80f3a-0072-46fe-b843-b9a836066a51\" xlink:actuate=\"onRequest\" xlink:href=\"psysml:99b80f3a-0072-46fe-b843-b9a836066a51\" xlink:show=\"new\" xlink:title=\"psysml:99b80f3a-0072-46fe-b843-b9a836066a51\" xlink:type=\"simple\"><rect fill=\"#FFFFFF\" height=\"45.9375\" id=\"E5\" rx=\"10\" ry=\"10\" style=\"stroke: #383838; stroke-width: 1.5;\" width=\"42\" x=\"182\" y=\"84\"/><text fill=\"#000000\" font-family=\"sans-serif\" font-size=\"12\" font-style=\"italic\" lengthAdjust=\"spacingAndGlyphs\" textLength=\"40\" x=\"183\" y=\"100.1387\">«part»</text><text fill=\"#000000\" font-family=\"sans-serif\" font-size=\"12\" lengthAdjust=\"spacingAndGlyphs\" textLength=\"22\" x=\"190\" y=\"114.1074\">x: A</text><line style=\"stroke: #383838; stroke-width: 1.5;\" x1=\"183\" x2=\"223\" y1=\"121.9375\" y2=\"121.9375\"/></a><!--MD5=[b9389687b975829384b498ac4b7476b2]\n",
       "class E8--><a href=\"psysml:a38466df-faf8-4af5-a290-fb7428072c5f\" target=\"_top\" title=\"psysml:a38466df-faf8-4af5-a290-fb7428072c5f\" xlink:actuate=\"onRequest\" xlink:href=\"psysml:a38466df-faf8-4af5-a290-fb7428072c5f\" xlink:show=\"new\" xlink:title=\"psysml:a38466df-faf8-4af5-a290-fb7428072c5f\" xlink:type=\"simple\"><rect fill=\"#FFFFFF\" height=\"45.9375\" id=\"E8\" rx=\"10\" ry=\"10\" style=\"stroke: #383838; stroke-width: 1.5;\" width=\"42\" x=\"105\" y=\"84\"/><text fill=\"#000000\" font-family=\"sans-serif\" font-size=\"12\" font-style=\"italic\" lengthAdjust=\"spacingAndGlyphs\" textLength=\"40\" x=\"106\" y=\"100.1387\">«part»</text><text fill=\"#000000\" font-family=\"sans-serif\" font-size=\"12\" lengthAdjust=\"spacingAndGlyphs\" textLength=\"21\" x=\"113.5\" y=\"114.1074\">z: B</text><line style=\"stroke: #383838; stroke-width: 1.5;\" x1=\"106\" x2=\"146\" y1=\"121.9375\" y2=\"121.9375\"/></a><!--MD5=[09b614a08d8cba4a07c9adeb5e0fee81]\n",
       "class E3--><a href=\"psysml:0a0c0374-c89d-44f1-8ff3-be2f7c1a5b8f\" target=\"_top\" title=\"psysml:0a0c0374-c89d-44f1-8ff3-be2f7c1a5b8f\" xlink:actuate=\"onRequest\" xlink:href=\"psysml:0a0c0374-c89d-44f1-8ff3-be2f7c1a5b8f\" xlink:show=\"new\" xlink:title=\"psysml:0a0c0374-c89d-44f1-8ff3-be2f7c1a5b8f\" xlink:type=\"simple\"><rect fill=\"#FFFFFF\" height=\"45.9375\" id=\"E3\" style=\"stroke: #383838; stroke-width: 1.5;\" width=\"70\" x=\"224\" y=\"205\"/><text fill=\"#000000\" font-family=\"sans-serif\" font-size=\"12\" font-style=\"italic\" lengthAdjust=\"spacingAndGlyphs\" textLength=\"68\" x=\"225\" y=\"221.1387\">«part  def»</text><text fill=\"#000000\" font-family=\"sans-serif\" font-size=\"12\" lengthAdjust=\"spacingAndGlyphs\" textLength=\"8\" x=\"255\" y=\"235.1074\">A</text><line style=\"stroke: #383838; stroke-width: 1.5;\" x1=\"225\" x2=\"293\" y1=\"242.9375\" y2=\"242.9375\"/></a><a href=\"psysml:9b62d657-9794-4032-9fa2-9f176e634d4a\" target=\"_top\" title=\"psysml:9b62d657-9794-4032-9fa2-9f176e634d4a\" xlink:actuate=\"onRequest\" xlink:href=\"psysml:9b62d657-9794-4032-9fa2-9f176e634d4a\" xlink:show=\"new\" xlink:title=\"psysml:9b62d657-9794-4032-9fa2-9f176e634d4a\" xlink:type=\"simple\"><polygon fill=\"#FFFFFF\" points=\"32,80.5,56,80.5,63,102.7969,70,102.7969,70,133.0938,32,133.0938,32,80.5\" style=\"stroke: #000000; stroke-width: 1.5;\"/><line style=\"stroke: #000000; stroke-width: 1.5;\" x1=\"32\" x2=\"63\" y1=\"102.7969\" y2=\"102.7969\"/><text fill=\"#000000\" font-family=\"sans-serif\" font-size=\"14\" font-weight=\"bold\" lengthAdjust=\"spacingAndGlyphs\" textLength=\"18\" x=\"36\" y=\"95.4951\">P2</text></a><!--MD5=[2156ba9850f5573cc1fc38a6a4b2f02b]\n",
       "class E7--><a href=\"psysml:af99adbc-0034-4f7c-9fbe-52493ca28392\" target=\"_top\" title=\"psysml:af99adbc-0034-4f7c-9fbe-52493ca28392\" xlink:actuate=\"onRequest\" xlink:href=\"psysml:af99adbc-0034-4f7c-9fbe-52493ca28392\" xlink:show=\"new\" xlink:title=\"psysml:af99adbc-0034-4f7c-9fbe-52493ca28392\" xlink:type=\"simple\"><rect fill=\"#FFFFFF\" height=\"45.9375\" id=\"E7\" style=\"stroke: #383838; stroke-width: 1.5;\" width=\"70\" x=\"91\" y=\"205\"/><text fill=\"#000000\" font-family=\"sans-serif\" font-size=\"12\" font-style=\"italic\" lengthAdjust=\"spacingAndGlyphs\" textLength=\"68\" x=\"92\" y=\"221.1387\">«part  def»</text><text fill=\"#000000\" font-family=\"sans-serif\" font-size=\"12\" lengthAdjust=\"spacingAndGlyphs\" textLength=\"8\" x=\"122\" y=\"235.1074\">B</text><line style=\"stroke: #383838; stroke-width: 1.5;\" x1=\"92\" x2=\"160\" y1=\"242.9375\" y2=\"242.9375\"/></a><!--MD5=[96f4274e9e20536e775497830990834d]\n",
       "class E10--><a href=\"psysml:d7dc5bce-b37d-4e4e-a49c-d44e6595ca7b\" target=\"_top\" title=\"psysml:d7dc5bce-b37d-4e4e-a49c-d44e6595ca7b\" xlink:actuate=\"onRequest\" xlink:href=\"psysml:d7dc5bce-b37d-4e4e-a49c-d44e6595ca7b\" xlink:show=\"new\" xlink:title=\"psysml:d7dc5bce-b37d-4e4e-a49c-d44e6595ca7b\" xlink:type=\"simple\"><rect fill=\"#FFFFFF\" height=\"45.9375\" id=\"E10\" rx=\"10\" ry=\"10\" style=\"stroke: #383838; stroke-width: 1.5;\" width=\"42\" x=\"259\" y=\"84\"/><text fill=\"#000000\" font-family=\"sans-serif\" font-size=\"12\" font-style=\"italic\" lengthAdjust=\"spacingAndGlyphs\" textLength=\"40\" x=\"260\" y=\"100.1387\">«part»</text><text fill=\"#000000\" font-family=\"sans-serif\" font-size=\"12\" lengthAdjust=\"spacingAndGlyphs\" textLength=\"29\" x=\"263.5\" y=\"114.1074\">z1: A</text><line style=\"stroke: #383838; stroke-width: 1.5;\" x1=\"260\" x2=\"300\" y1=\"121.9375\" y2=\"121.9375\"/></a><!--MD5=[e9be52314489bd878ff4c7144b63c9e1]\n",
       "link E5 to E3--><a href=\"psysml:2e6435ee-ec1e-47e4-8fad-fb77072556f4\" target=\"_top\" title=\"psysml:2e6435ee-ec1e-47e4-8fad-fb77072556f4\" xlink:actuate=\"onRequest\" xlink:href=\"psysml:2e6435ee-ec1e-47e4-8fad-fb77072556f4\" xlink:show=\"new\" xlink:title=\"psysml:2e6435ee-ec1e-47e4-8fad-fb77072556f4\" xlink:type=\"simple\"><path d=\"M213.4,130.1 C220.82,145.87 231.01,167.52 239.88,186.36 \" fill=\"none\" id=\"E5-&gt;E3\" style=\"stroke: #383838; stroke-width: 1.0;\"/><polygon fill=\"#FFFFFF\" points=\"248.46,204.61,234.0383,190.3968,246.7067,184.4376,248.46,204.61\" style=\"stroke: #383838; stroke-width: 1.0;\"/><ellipse cx=\"233.4218\" cy=\"184.3877\" fill=\"#383838\" rx=\"2\" ry=\"2\" style=\"stroke: #383838; stroke-width: 1.0;\"/><ellipse cx=\"242.4706\" cy=\"180.1311\" fill=\"#383838\" rx=\"2\" ry=\"2\" style=\"stroke: #383838; stroke-width: 1.0;\"/></a><!--MD5=[bfa3c8b0d15052fdf50ae9310b491027]\n",
       "link E8 to E7--><a href=\"psysml:f11bc7c0-c938-426a-87a4-76c9b47cac7e\" target=\"_top\" title=\"psysml:f11bc7c0-c938-426a-87a4-76c9b47cac7e\" xlink:actuate=\"onRequest\" xlink:href=\"psysml:f11bc7c0-c938-426a-87a4-76c9b47cac7e\" xlink:show=\"new\" xlink:title=\"psysml:f11bc7c0-c938-426a-87a4-76c9b47cac7e\" xlink:type=\"simple\"><path d=\"M126,130.1 C126,145.37 126,166.16 126,184.57 \" fill=\"none\" id=\"E8-&gt;E7\" style=\"stroke: #383838; stroke-width: 1.0;\"/><polygon fill=\"#FFFFFF\" points=\"126,204.61,119,185.61,133,185.61,126,204.61\" style=\"stroke: #383838; stroke-width: 1.0;\"/><ellipse cx=\"121\" cy=\"179.91\" fill=\"#383838\" rx=\"2\" ry=\"2\" style=\"stroke: #383838; stroke-width: 1.0;\"/><ellipse cx=\"131\" cy=\"179.91\" fill=\"#383838\" rx=\"2\" ry=\"2\" style=\"stroke: #383838; stroke-width: 1.0;\"/></a><!--MD5=[feeac5eb423634930294aa81f2d25a4c]\n",
       "link E10 to E3--><a href=\"psysml:21a673ac-f9f6-428c-a165-60ea4300f397\" target=\"_top\" title=\"psysml:21a673ac-f9f6-428c-a165-60ea4300f397\" xlink:actuate=\"onRequest\" xlink:href=\"psysml:21a673ac-f9f6-428c-a165-60ea4300f397\" xlink:show=\"new\" xlink:title=\"psysml:21a673ac-f9f6-428c-a165-60ea4300f397\" xlink:type=\"simple\"><path d=\"M276.1,130.1 C273.39,145.45 269.7,166.39 266.44,184.87 \" fill=\"none\" id=\"E10-&gt;E3\" style=\"stroke: #383838; stroke-width: 1.0;\"/><polygon fill=\"#FFFFFF\" points=\"262.95,204.61,259.3535,184.6835,273.1411,187.1131,262.95,204.61\" style=\"stroke: #383838; stroke-width: 1.0;\"/><ellipse cx=\"262.3123\" cy=\"179.4171\" fill=\"#383838\" rx=\"2\" ry=\"2\" style=\"stroke: #383838; stroke-width: 1.0;\"/><ellipse cx=\"272.1606\" cy=\"181.1525\" fill=\"#383838\" rx=\"2\" ry=\"2\" style=\"stroke: #383838; stroke-width: 1.0;\"/></a><!--MD5=[4ca08d76c77ae029c9c913ce0552af27]\n",
       "@startuml\r\n",
       "skinparam monochrome true\r\n",
       "skinparam classbackgroundcolor white\r\n",
       "skinparam shadowing false\r\n",
       "skinparam wrapWidth 300\r\n",
       "hide circle\r\n",
       "\r\n",
       "package \"PrivateImportTest\" as E1  [[psysml:2415ca44-1de1-4a98-b3f0-a39d5285a5bd ]]  {\r\n",
       "package \"P1\" as E2  [[psysml:426e250f-8977-4e89-b166-3835fc91b530 ]]  {\r\n",
       "comp def \"A\" as E3  <<(T,blue) part  def>> [[psysml:0a0c0374-c89d-44f1-8ff3-be2f7c1a5b8f ]] {\r\n",
       "}\r\n",
       "}\r\n",
       "package \"P2\" as E4  [[psysml:9b62d657-9794-4032-9fa2-9f176e634d4a ]]  {\r\n",
       "}\r\n",
       "comp usage \"x: A \" as E5  <<(T,blue) part>> [[psysml:99b80f3a-0072-46fe-b843-b9a836066a51 ]] {\r\n",
       "}\r\n",
       "package \"P3\" as E6  [[psysml:fe85458f-8707-492f-a6ea-e7b6b29e5b91 ]]  {\r\n",
       "comp def \"B\" as E7  <<(T,blue) part  def>> [[psysml:af99adbc-0034-4f7c-9fbe-52493ca28392 ]] {\r\n",
       "}\r\n",
       "}\r\n",
       "comp usage \"z: B \" as E8  <<(T,blue) part>> [[psysml:a38466df-faf8-4af5-a290-fb7428072c5f ]] {\r\n",
       "}\r\n",
       "package \"P4\" as E9  [[psysml:77a03853-3516-49bc-9a88-c5db4c10002c ]]  {\r\n",
       "comp usage \"z1: A \" as E10  <<(T,blue) part>> [[psysml:d7dc5bce-b37d-4e4e-a49c-d44e6595ca7b ]] {\r\n",
       "}\r\n",
       "}\r\n",
       "}\r\n",
       "E5 - -:|> E3 [[psysml:2e6435ee-ec1e-47e4-8fad-fb77072556f4 ]] \r\n",
       "E8 - -:|> E7 [[psysml:f11bc7c0-c938-426a-87a4-76c9b47cac7e ]] \r\n",
       "E10 - -:|> E3 [[psysml:21a673ac-f9f6-428c-a165-60ea4300f397 ]] \r\n",
       "@enduml\r\n",
       "\n",
       "PlantUML version 1.2020.13(Sat Jun 13 12:26:38 UTC 2020)\n",
       "(EPL source distribution)\n",
       "Java Runtime: OpenJDK Runtime Environment\n",
       "JVM: OpenJDK 64-Bit Server VM\n",
       "Default Encoding: UTF-8\n",
       "Language: en\n",
       "Country: null\n",
       "--></g></svg>"
      ]
     },
     "execution_count": 38,
     "metadata": {},
     "output_type": "execute_result"
    }
   ],
   "source": [
    "%viz --style=\"DEFAULT\" --view=\"Tree\" \"PrivateImportTest\""
   ]
  },
  {
   "cell_type": "code",
   "execution_count": 39,
   "id": "b3c8c7a3",
   "metadata": {
    "execution": {
     "iopub.execute_input": "2021-10-25T08:22:22.827007Z",
     "iopub.status.busy": "2021-10-25T08:22:22.826642Z",
     "iopub.status.idle": "2021-10-25T08:22:22.831704Z",
     "shell.execute_reply": "2021-10-25T08:22:22.831463Z"
    }
   },
   "outputs": [
    {
     "data": {
      "image/svg+xml": [
       "<?xml version=\"1.0\" encoding=\"UTF-8\" standalone=\"no\"?><svg xmlns=\"http://www.w3.org/2000/svg\" xmlns:xlink=\"http://www.w3.org/1999/xlink\" contentScriptType=\"application/ecmascript\" contentStyleType=\"text/css\" height=\"12px\" preserveAspectRatio=\"none\" style=\"width:12px;height:12px;\" version=\"1.1\" viewBox=\"0 0 12 12\" width=\"12px\" zoomAndPan=\"magnify\"><defs/><g><!--MD5=[c5f280e076d0d61ccf4b0f27871bda1d]\n",
       "@startuml\r\n",
       "skinparam monochrome true\r\n",
       "skinparam classbackgroundcolor white\r\n",
       "skinparam shadowing false\r\n",
       "skinparam wrapWidth 300\r\n",
       "hide circle\r\n",
       "\r\n",
       "@enduml\r\n",
       "\n",
       "PlantUML version 1.2020.13(Sat Jun 13 12:26:38 UTC 2020)\n",
       "(EPL source distribution)\n",
       "Java Runtime: OpenJDK Runtime Environment\n",
       "JVM: OpenJDK 64-Bit Server VM\n",
       "Default Encoding: UTF-8\n",
       "Language: en\n",
       "Country: null\n",
       "--></g></svg>"
      ]
     },
     "execution_count": 39,
     "metadata": {},
     "output_type": "execute_result"
    }
   ],
   "source": [
    "%viz --style=\"DEFAULT\" --view=\"State\" \"PrivateImportTest\""
   ]
  },
  {
   "cell_type": "code",
   "execution_count": 40,
   "id": "852c1acc",
   "metadata": {
    "execution": {
     "iopub.execute_input": "2021-10-25T08:22:22.881780Z",
     "iopub.status.busy": "2021-10-25T08:22:22.881291Z",
     "iopub.status.idle": "2021-10-25T08:22:22.899186Z",
     "shell.execute_reply": "2021-10-25T08:22:22.898967Z"
    }
   },
   "outputs": [
    {
     "data": {
      "image/svg+xml": [
       "<?xml version=\"1.0\" encoding=\"UTF-8\" standalone=\"no\"?><svg xmlns=\"http://www.w3.org/2000/svg\" xmlns:xlink=\"http://www.w3.org/1999/xlink\" contentScriptType=\"application/ecmascript\" contentStyleType=\"text/css\" height=\"179px\" preserveAspectRatio=\"none\" style=\"width:647px;height:179px;\" version=\"1.1\" viewBox=\"0 0 647 179\" width=\"647px\" zoomAndPan=\"magnify\"><defs/><g><!--MD5=[fbc87193dbaf4d95561dea2c320d4a47]\n",
       "cluster E1--><a href=\"psysml:2415ca44-1de1-4a98-b3f0-a39d5285a5bd\" target=\"_top\" title=\"psysml:2415ca44-1de1-4a98-b3f0-a39d5285a5bd\" xlink:actuate=\"onRequest\" xlink:href=\"psysml:2415ca44-1de1-4a98-b3f0-a39d5285a5bd\" xlink:show=\"new\" xlink:title=\"psysml:2415ca44-1de1-4a98-b3f0-a39d5285a5bd\" xlink:type=\"simple\"><polygon fill=\"#FFFFFF\" points=\"16,6,143,6,150,28.2969,625,28.2969,625,167,16,167,16,6\" style=\"stroke: #000000; stroke-width: 1.5;\"/><line style=\"stroke: #000000; stroke-width: 1.5;\" x1=\"16\" x2=\"150\" y1=\"28.2969\" y2=\"28.2969\"/><text fill=\"#000000\" font-family=\"sans-serif\" font-size=\"14\" font-weight=\"bold\" lengthAdjust=\"spacingAndGlyphs\" textLength=\"121\" x=\"20\" y=\"20.9951\">PrivateImportTest</text></a><!--MD5=[e4f7fae6ed58524ba242bb0b0d3be6b7]\n",
       "cluster E2--><a href=\"psysml:426e250f-8977-4e89-b166-3835fc91b530\" target=\"_top\" title=\"psysml:426e250f-8977-4e89-b166-3835fc91b530\" xlink:actuate=\"onRequest\" xlink:href=\"psysml:426e250f-8977-4e89-b166-3835fc91b530\" xlink:show=\"new\" xlink:title=\"psysml:426e250f-8977-4e89-b166-3835fc91b530\" xlink:type=\"simple\"><polygon fill=\"#FFFFFF\" points=\"495,49,519,49,526,71.2969,601,71.2969,601,143,495,143,495,49\" style=\"stroke: #000000; stroke-width: 1.5;\"/><line style=\"stroke: #000000; stroke-width: 1.5;\" x1=\"495\" x2=\"526\" y1=\"71.2969\" y2=\"71.2969\"/><text fill=\"#000000\" font-family=\"sans-serif\" font-size=\"14\" font-weight=\"bold\" lengthAdjust=\"spacingAndGlyphs\" textLength=\"18\" x=\"499\" y=\"63.9951\">P1</text></a><!--MD5=[14e3b0961a2654348d326746436168a1]\n",
       "cluster E6--><a href=\"psysml:fe85458f-8707-492f-a6ea-e7b6b29e5b91\" target=\"_top\" title=\"psysml:fe85458f-8707-492f-a6ea-e7b6b29e5b91\" xlink:actuate=\"onRequest\" xlink:href=\"psysml:fe85458f-8707-492f-a6ea-e7b6b29e5b91\" xlink:show=\"new\" xlink:title=\"psysml:fe85458f-8707-492f-a6ea-e7b6b29e5b91\" xlink:type=\"simple\"><polygon fill=\"#FFFFFF\" points=\"365,49,389,49,396,71.2969,471,71.2969,471,143,365,143,365,49\" style=\"stroke: #000000; stroke-width: 1.5;\"/><line style=\"stroke: #000000; stroke-width: 1.5;\" x1=\"365\" x2=\"396\" y1=\"71.2969\" y2=\"71.2969\"/><text fill=\"#000000\" font-family=\"sans-serif\" font-size=\"14\" font-weight=\"bold\" lengthAdjust=\"spacingAndGlyphs\" textLength=\"18\" x=\"369\" y=\"63.9951\">P3</text></a><!--MD5=[7f149f147074ac12df2cb0a7728a5fb0]\n",
       "cluster E9--><a href=\"psysml:77a03853-3516-49bc-9a88-c5db4c10002c\" target=\"_top\" title=\"psysml:77a03853-3516-49bc-9a88-c5db4c10002c\" xlink:actuate=\"onRequest\" xlink:href=\"psysml:77a03853-3516-49bc-9a88-c5db4c10002c\" xlink:show=\"new\" xlink:title=\"psysml:77a03853-3516-49bc-9a88-c5db4c10002c\" xlink:type=\"simple\"><polygon fill=\"#FFFFFF\" points=\"259,50.5,283,50.5,290,72.7969,341,72.7969,341,141.5,259,141.5,259,50.5\" style=\"stroke: #000000; stroke-width: 1.5;\"/><line style=\"stroke: #000000; stroke-width: 1.5;\" x1=\"259\" x2=\"290\" y1=\"72.7969\" y2=\"72.7969\"/><text fill=\"#000000\" font-family=\"sans-serif\" font-size=\"14\" font-weight=\"bold\" lengthAdjust=\"spacingAndGlyphs\" textLength=\"18\" x=\"263\" y=\"65.4951\">P4</text></a><g id=\"E1.E2.E3\"><a href=\"psysml:0a0c0374-c89d-44f1-8ff3-be2f7c1a5b8f\" target=\"_top\" title=\"psysml:0a0c0374-c89d-44f1-8ff3-be2f7c1a5b8f\" xlink:actuate=\"onRequest\" xlink:href=\"psysml:0a0c0374-c89d-44f1-8ff3-be2f7c1a5b8f\" xlink:show=\"new\" xlink:title=\"psysml:0a0c0374-c89d-44f1-8ff3-be2f7c1a5b8f\" xlink:type=\"simple\"><rect fill=\"#FFFFFF\" height=\"42.9375\" id=\"E3\" style=\"stroke: #383838; stroke-width: 1.5;\" width=\"75\" x=\"510.5\" y=\"84\"/><rect fill=\"#F8F8F8\" height=\"37.9375\" style=\"stroke: #383838; stroke-width: 1.5;\" width=\"75\" x=\"510.5\" y=\"84\"/><text fill=\"#000000\" font-family=\"sans-serif\" font-size=\"12\" font-style=\"italic\" lengthAdjust=\"spacingAndGlyphs\" textLength=\"68\" x=\"514\" y=\"100.1387\">«part  def»</text><text fill=\"#000000\" font-family=\"sans-serif\" font-size=\"12\" lengthAdjust=\"spacingAndGlyphs\" textLength=\"8\" x=\"544\" y=\"114.1074\">A</text></a></g><a href=\"psysml:9b62d657-9794-4032-9fa2-9f176e634d4a\" target=\"_top\" title=\"psysml:9b62d657-9794-4032-9fa2-9f176e634d4a\" xlink:actuate=\"onRequest\" xlink:href=\"psysml:9b62d657-9794-4032-9fa2-9f176e634d4a\" xlink:show=\"new\" xlink:title=\"psysml:9b62d657-9794-4032-9fa2-9f176e634d4a\" xlink:type=\"simple\"><polygon fill=\"#FFFFFF\" points=\"202,79,226,79,233,101.2969,240,101.2969,240,131.5938,202,131.5938,202,79\" style=\"stroke: #000000; stroke-width: 1.5;\"/><line style=\"stroke: #000000; stroke-width: 1.5;\" x1=\"202\" x2=\"233\" y1=\"101.2969\" y2=\"101.2969\"/><text fill=\"#000000\" font-family=\"sans-serif\" font-size=\"14\" font-weight=\"bold\" lengthAdjust=\"spacingAndGlyphs\" textLength=\"18\" x=\"206\" y=\"93.9951\">P2</text></a><g id=\"E1.E5\"><a href=\"psysml:99b80f3a-0072-46fe-b843-b9a836066a51\" target=\"_top\" title=\"psysml:99b80f3a-0072-46fe-b843-b9a836066a51\" xlink:actuate=\"onRequest\" xlink:href=\"psysml:99b80f3a-0072-46fe-b843-b9a836066a51\" xlink:show=\"new\" xlink:title=\"psysml:99b80f3a-0072-46fe-b843-b9a836066a51\" xlink:type=\"simple\"><rect fill=\"#FFFFFF\" height=\"40\" id=\"E5\" rx=\"10\" ry=\"10\" style=\"stroke: #383838; stroke-width: 1.5;\" width=\"50\" x=\"117\" y=\"85.5\"/><rect fill=\"#F8F8F8\" height=\"23.9688\" rx=\"10\" ry=\"10\" style=\"stroke: #F8F8F8; stroke-width: 1.5;\" width=\"50\" x=\"117\" y=\"85.5\"/><rect fill=\"#F8F8F8\" height=\"10\" style=\"stroke: #F8F8F8; stroke-width: 1.5;\" width=\"50\" x=\"117\" y=\"99.4688\"/><rect fill=\"none\" height=\"40\" id=\"E5\" rx=\"10\" ry=\"10\" style=\"stroke: #383838; stroke-width: 1.5;\" width=\"50\" x=\"117\" y=\"85.5\"/><text fill=\"#000000\" font-family=\"sans-serif\" font-size=\"12\" lengthAdjust=\"spacingAndGlyphs\" textLength=\"22\" x=\"131\" y=\"101.6387\">x: A</text></a></g><g id=\"E1.E6.E7\"><a href=\"psysml:af99adbc-0034-4f7c-9fbe-52493ca28392\" target=\"_top\" title=\"psysml:af99adbc-0034-4f7c-9fbe-52493ca28392\" xlink:actuate=\"onRequest\" xlink:href=\"psysml:af99adbc-0034-4f7c-9fbe-52493ca28392\" xlink:show=\"new\" xlink:title=\"psysml:af99adbc-0034-4f7c-9fbe-52493ca28392\" xlink:type=\"simple\"><rect fill=\"#FFFFFF\" height=\"42.9375\" id=\"E7\" style=\"stroke: #383838; stroke-width: 1.5;\" width=\"75\" x=\"380.5\" y=\"84\"/><rect fill=\"#F8F8F8\" height=\"37.9375\" style=\"stroke: #383838; stroke-width: 1.5;\" width=\"75\" x=\"380.5\" y=\"84\"/><text fill=\"#000000\" font-family=\"sans-serif\" font-size=\"12\" font-style=\"italic\" lengthAdjust=\"spacingAndGlyphs\" textLength=\"68\" x=\"384\" y=\"100.1387\">«part  def»</text><text fill=\"#000000\" font-family=\"sans-serif\" font-size=\"12\" lengthAdjust=\"spacingAndGlyphs\" textLength=\"8\" x=\"414\" y=\"114.1074\">B</text></a></g><g id=\"E1.E8\"><a href=\"psysml:a38466df-faf8-4af5-a290-fb7428072c5f\" target=\"_top\" title=\"psysml:a38466df-faf8-4af5-a290-fb7428072c5f\" xlink:actuate=\"onRequest\" xlink:href=\"psysml:a38466df-faf8-4af5-a290-fb7428072c5f\" xlink:show=\"new\" xlink:title=\"psysml:a38466df-faf8-4af5-a290-fb7428072c5f\" xlink:type=\"simple\"><rect fill=\"#FFFFFF\" height=\"40\" id=\"E8\" rx=\"10\" ry=\"10\" style=\"stroke: #383838; stroke-width: 1.5;\" width=\"50\" x=\"32\" y=\"85.5\"/><rect fill=\"#F8F8F8\" height=\"23.9688\" rx=\"10\" ry=\"10\" style=\"stroke: #F8F8F8; stroke-width: 1.5;\" width=\"50\" x=\"32\" y=\"85.5\"/><rect fill=\"#F8F8F8\" height=\"10\" style=\"stroke: #F8F8F8; stroke-width: 1.5;\" width=\"50\" x=\"32\" y=\"99.4688\"/><rect fill=\"none\" height=\"40\" id=\"E8\" rx=\"10\" ry=\"10\" style=\"stroke: #383838; stroke-width: 1.5;\" width=\"50\" x=\"32\" y=\"85.5\"/><text fill=\"#000000\" font-family=\"sans-serif\" font-size=\"12\" lengthAdjust=\"spacingAndGlyphs\" textLength=\"21\" x=\"46.5\" y=\"101.6387\">z: B</text></a></g><g id=\"E1.E9.E10\"><a href=\"psysml:d7dc5bce-b37d-4e4e-a49c-d44e6595ca7b\" target=\"_top\" title=\"psysml:d7dc5bce-b37d-4e4e-a49c-d44e6595ca7b\" xlink:actuate=\"onRequest\" xlink:href=\"psysml:d7dc5bce-b37d-4e4e-a49c-d44e6595ca7b\" xlink:show=\"new\" xlink:title=\"psysml:d7dc5bce-b37d-4e4e-a49c-d44e6595ca7b\" xlink:type=\"simple\"><rect fill=\"#FFFFFF\" height=\"40\" id=\"E10\" rx=\"10\" ry=\"10\" style=\"stroke: #383838; stroke-width: 1.5;\" width=\"50\" x=\"275\" y=\"85.5\"/><rect fill=\"#F8F8F8\" height=\"23.9688\" rx=\"10\" ry=\"10\" style=\"stroke: #F8F8F8; stroke-width: 1.5;\" width=\"50\" x=\"275\" y=\"85.5\"/><rect fill=\"#F8F8F8\" height=\"10\" style=\"stroke: #F8F8F8; stroke-width: 1.5;\" width=\"50\" x=\"275\" y=\"99.4688\"/><rect fill=\"none\" height=\"40\" id=\"E10\" rx=\"10\" ry=\"10\" style=\"stroke: #383838; stroke-width: 1.5;\" width=\"50\" x=\"275\" y=\"85.5\"/><text fill=\"#000000\" font-family=\"sans-serif\" font-size=\"12\" lengthAdjust=\"spacingAndGlyphs\" textLength=\"29\" x=\"285.5\" y=\"101.6387\">z1: A</text></a></g><!--MD5=[4387c09f6430fd3d3180c4b8a405ef78]\n",
       "@startuml\r\n",
       "skinparam ranksep 10\r\n",
       "skinparam rectangle {\r\n",
       " backgroundColor<<block>> LightGreen\r\n",
       "}\r\n",
       "skinparam monochrome true\r\n",
       "skinparam classbackgroundcolor white\r\n",
       "skinparam shadowing false\r\n",
       "skinparam wrapWidth 300\r\n",
       "hide circle\r\n",
       "\r\n",
       "package \"PrivateImportTest\" as E1  [[psysml:2415ca44-1de1-4a98-b3f0-a39d5285a5bd ]]  {\r\n",
       "package \"P1\" as E2  [[psysml:426e250f-8977-4e89-b166-3835fc91b530 ]]  {\r\n",
       "rec def \"A\" as E3  <<(T,blue) part  def>> [[psysml:0a0c0374-c89d-44f1-8ff3-be2f7c1a5b8f ]] {\r\n",
       "}\r\n",
       "}\r\n",
       "package \"P2\" as E4  [[psysml:9b62d657-9794-4032-9fa2-9f176e634d4a ]]  {\r\n",
       "}\r\n",
       "rec usage \"x: A\" as E5  [[psysml:99b80f3a-0072-46fe-b843-b9a836066a51 ]] {\r\n",
       "}\r\n",
       "package \"P3\" as E6  [[psysml:fe85458f-8707-492f-a6ea-e7b6b29e5b91 ]]  {\r\n",
       "rec def \"B\" as E7  <<(T,blue) part  def>> [[psysml:af99adbc-0034-4f7c-9fbe-52493ca28392 ]] {\r\n",
       "}\r\n",
       "}\r\n",
       "rec usage \"z: B\" as E8  [[psysml:a38466df-faf8-4af5-a290-fb7428072c5f ]] {\r\n",
       "}\r\n",
       "package \"P4\" as E9  [[psysml:77a03853-3516-49bc-9a88-c5db4c10002c ]]  {\r\n",
       "rec usage \"z1: A\" as E10  [[psysml:d7dc5bce-b37d-4e4e-a49c-d44e6595ca7b ]] {\r\n",
       "}\r\n",
       "}\r\n",
       "}\r\n",
       "@enduml\r\n",
       "\n",
       "PlantUML version 1.2020.13(Sat Jun 13 12:26:38 UTC 2020)\n",
       "(EPL source distribution)\n",
       "Java Runtime: OpenJDK Runtime Environment\n",
       "JVM: OpenJDK 64-Bit Server VM\n",
       "Default Encoding: UTF-8\n",
       "Language: en\n",
       "Country: null\n",
       "--></g></svg>"
      ]
     },
     "execution_count": 40,
     "metadata": {},
     "output_type": "execute_result"
    }
   ],
   "source": [
    "%viz --style=\"DEFAULT\" --view=\"Interconnection\" \"PrivateImportTest\""
   ]
  },
  {
   "cell_type": "code",
   "execution_count": 41,
   "id": "5778696f",
   "metadata": {
    "execution": {
     "iopub.execute_input": "2021-10-25T08:22:22.949401Z",
     "iopub.status.busy": "2021-10-25T08:22:22.948945Z",
     "iopub.status.idle": "2021-10-25T08:22:22.952869Z",
     "shell.execute_reply": "2021-10-25T08:22:22.952493Z"
    }
   },
   "outputs": [
    {
     "data": {
      "image/svg+xml": [
       "<?xml version=\"1.0\" encoding=\"UTF-8\" standalone=\"no\"?><svg xmlns=\"http://www.w3.org/2000/svg\" xmlns:xlink=\"http://www.w3.org/1999/xlink\" contentScriptType=\"application/ecmascript\" contentStyleType=\"text/css\" height=\"12px\" preserveAspectRatio=\"none\" style=\"width:12px;height:12px;\" version=\"1.1\" viewBox=\"0 0 12 12\" width=\"12px\" zoomAndPan=\"magnify\"><defs/><g><!--MD5=[388f21188e31bfdd97050473b19af356]\n",
       "@startuml\r\n",
       "skinparam ranksep 8\r\n",
       "skinparam monochrome true\r\n",
       "skinparam classbackgroundcolor white\r\n",
       "skinparam shadowing false\r\n",
       "skinparam wrapWidth 300\r\n",
       "hide circle\r\n",
       "\r\n",
       "@enduml\r\n",
       "\n",
       "PlantUML version 1.2020.13(Sat Jun 13 12:26:38 UTC 2020)\n",
       "(EPL source distribution)\n",
       "Java Runtime: OpenJDK Runtime Environment\n",
       "JVM: OpenJDK 64-Bit Server VM\n",
       "Default Encoding: UTF-8\n",
       "Language: en\n",
       "Country: null\n",
       "--></g></svg>"
      ]
     },
     "execution_count": 41,
     "metadata": {},
     "output_type": "execute_result"
    }
   ],
   "source": [
    "%viz --style=\"DEFAULT\" --view=\"Action\" \"PrivateImportTest\""
   ]
  },
  {
   "cell_type": "code",
   "execution_count": 42,
   "id": "b66ce1e0",
   "metadata": {
    "execution": {
     "iopub.execute_input": "2021-10-25T08:22:23.002405Z",
     "iopub.status.busy": "2021-10-25T08:22:23.001975Z",
     "iopub.status.idle": "2021-10-25T08:22:23.007639Z",
     "shell.execute_reply": "2021-10-25T08:22:23.007268Z"
    }
   },
   "outputs": [
    {
     "data": {
      "image/svg+xml": [
       "<?xml version=\"1.0\" encoding=\"UTF-8\" standalone=\"no\"?><svg xmlns=\"http://www.w3.org/2000/svg\" xmlns:xlink=\"http://www.w3.org/1999/xlink\" contentScriptType=\"application/ecmascript\" contentStyleType=\"text/css\" height=\"12px\" preserveAspectRatio=\"none\" style=\"width:12px;height:12px;\" version=\"1.1\" viewBox=\"0 0 12 12\" width=\"12px\" zoomAndPan=\"magnify\"><defs/><g><!--MD5=[0b72472770326784bf6c2b53246e1e64]\n",
       "@startuml\r\n",
       "skinparam roundcorner 20\r\n",
       "skinparam BoxPadding 20\r\n",
       "skinparam SequenceBoxBackgroundColor #white\r\n",
       "skinparam style strictuml\r\n",
       "skinparam maxMessageSize 100\r\n",
       "skinparam monochrome true\r\n",
       "skinparam classbackgroundcolor white\r\n",
       "skinparam shadowing false\r\n",
       "skinparam wrapWidth 300\r\n",
       "hide circle\r\n",
       "\r\n",
       "@enduml\r\n",
       "\n",
       "PlantUML version 1.2020.13(Sat Jun 13 12:26:38 UTC 2020)\n",
       "(EPL source distribution)\n",
       "Java Runtime: OpenJDK Runtime Environment\n",
       "JVM: OpenJDK 64-Bit Server VM\n",
       "Default Encoding: UTF-8\n",
       "Language: en\n",
       "Country: null\n",
       "--></g></svg>"
      ]
     },
     "execution_count": 42,
     "metadata": {},
     "output_type": "execute_result"
    }
   ],
   "source": [
    "%viz --style=\"DEFAULT\" --view=\"Sequence\" \"PrivateImportTest\""
   ]
  },
  {
   "cell_type": "code",
   "execution_count": 43,
   "id": "ddc6c845",
   "metadata": {
    "execution": {
     "iopub.execute_input": "2021-10-25T08:22:23.057323Z",
     "iopub.status.busy": "2021-10-25T08:22:23.056894Z",
     "iopub.status.idle": "2021-10-25T08:22:23.090643Z",
     "shell.execute_reply": "2021-10-25T08:22:23.090346Z"
    }
   },
   "outputs": [
    {
     "data": {
      "image/svg+xml": [
       "<?xml version=\"1.0\" encoding=\"UTF-8\" standalone=\"no\"?><svg xmlns=\"http://www.w3.org/2000/svg\" xmlns:xlink=\"http://www.w3.org/1999/xlink\" contentScriptType=\"application/ecmascript\" contentStyleType=\"text/css\" height=\"303px\" preserveAspectRatio=\"none\" style=\"width:363px;height:303px;\" version=\"1.1\" viewBox=\"0 0 363 303\" width=\"363px\" zoomAndPan=\"magnify\"><defs/><g><!--MD5=[fbc87193dbaf4d95561dea2c320d4a47]\n",
       "cluster E1--><a href=\"psysml:2415ca44-1de1-4a98-b3f0-a39d5285a5bd\" target=\"_top\" title=\"psysml:2415ca44-1de1-4a98-b3f0-a39d5285a5bd\" xlink:actuate=\"onRequest\" xlink:href=\"psysml:2415ca44-1de1-4a98-b3f0-a39d5285a5bd\" xlink:show=\"new\" xlink:title=\"psysml:2415ca44-1de1-4a98-b3f0-a39d5285a5bd\" xlink:type=\"simple\"><polygon fill=\"#FFFFFF\" points=\"16,6,143,6,150,28.2969,341,28.2969,341,291,16,291,16,6\" style=\"stroke: #000000; stroke-width: 1.5;\"/><line style=\"stroke: #000000; stroke-width: 1.5;\" x1=\"16\" x2=\"150\" y1=\"28.2969\" y2=\"28.2969\"/><text fill=\"#000000\" font-family=\"sans-serif\" font-size=\"14\" font-weight=\"bold\" lengthAdjust=\"spacingAndGlyphs\" textLength=\"121\" x=\"20\" y=\"20.9951\">PrivateImportTest</text></a><!--MD5=[e4f7fae6ed58524ba242bb0b0d3be6b7]\n",
       "cluster E2--><a href=\"psysml:426e250f-8977-4e89-b166-3835fc91b530\" target=\"_top\" title=\"psysml:426e250f-8977-4e89-b166-3835fc91b530\" xlink:actuate=\"onRequest\" xlink:href=\"psysml:426e250f-8977-4e89-b166-3835fc91b530\" xlink:show=\"new\" xlink:title=\"psysml:426e250f-8977-4e89-b166-3835fc91b530\" xlink:type=\"simple\"><polygon fill=\"#FFFFFF\" points=\"208,170,232,170,239,192.2969,310,192.2969,310,267,208,267,208,170\" style=\"stroke: #000000; stroke-width: 1.5;\"/><line style=\"stroke: #000000; stroke-width: 1.5;\" x1=\"208\" x2=\"239\" y1=\"192.2969\" y2=\"192.2969\"/><text fill=\"#000000\" font-family=\"sans-serif\" font-size=\"14\" font-weight=\"bold\" lengthAdjust=\"spacingAndGlyphs\" textLength=\"18\" x=\"212\" y=\"184.9951\">P1</text></a><!--MD5=[14e3b0961a2654348d326746436168a1]\n",
       "cluster E6--><a href=\"psysml:fe85458f-8707-492f-a6ea-e7b6b29e5b91\" target=\"_top\" title=\"psysml:fe85458f-8707-492f-a6ea-e7b6b29e5b91\" xlink:actuate=\"onRequest\" xlink:href=\"psysml:fe85458f-8707-492f-a6ea-e7b6b29e5b91\" xlink:show=\"new\" xlink:title=\"psysml:fe85458f-8707-492f-a6ea-e7b6b29e5b91\" xlink:type=\"simple\"><polygon fill=\"#FFFFFF\" points=\"75,170,99,170,106,192.2969,177,192.2969,177,267,75,267,75,170\" style=\"stroke: #000000; stroke-width: 1.5;\"/><line style=\"stroke: #000000; stroke-width: 1.5;\" x1=\"75\" x2=\"106\" y1=\"192.2969\" y2=\"192.2969\"/><text fill=\"#000000\" font-family=\"sans-serif\" font-size=\"14\" font-weight=\"bold\" lengthAdjust=\"spacingAndGlyphs\" textLength=\"18\" x=\"79\" y=\"184.9951\">P3</text></a><!--MD5=[7f149f147074ac12df2cb0a7728a5fb0]\n",
       "cluster E9--><a href=\"psysml:77a03853-3516-49bc-9a88-c5db4c10002c\" target=\"_top\" title=\"psysml:77a03853-3516-49bc-9a88-c5db4c10002c\" xlink:actuate=\"onRequest\" xlink:href=\"psysml:77a03853-3516-49bc-9a88-c5db4c10002c\" xlink:show=\"new\" xlink:title=\"psysml:77a03853-3516-49bc-9a88-c5db4c10002c\" xlink:type=\"simple\"><polygon fill=\"#FFFFFF\" points=\"243,49,267,49,274,71.2969,317,71.2969,317,146,243,146,243,49\" style=\"stroke: #000000; stroke-width: 1.5;\"/><line style=\"stroke: #000000; stroke-width: 1.5;\" x1=\"243\" x2=\"274\" y1=\"71.2969\" y2=\"71.2969\"/><text fill=\"#000000\" font-family=\"sans-serif\" font-size=\"14\" font-weight=\"bold\" lengthAdjust=\"spacingAndGlyphs\" textLength=\"18\" x=\"247\" y=\"63.9951\">P4</text></a><!--MD5=[270fce915f116d4de14055a7c1d9a0f3]\n",
       "class E5--><a href=\"psysml:99b80f3a-0072-46fe-b843-b9a836066a51\" target=\"_top\" title=\"psysml:99b80f3a-0072-46fe-b843-b9a836066a51\" xlink:actuate=\"onRequest\" xlink:href=\"psysml:99b80f3a-0072-46fe-b843-b9a836066a51\" xlink:show=\"new\" xlink:title=\"psysml:99b80f3a-0072-46fe-b843-b9a836066a51\" xlink:type=\"simple\"><rect fill=\"#FFFFFF\" height=\"45.9375\" id=\"E5\" rx=\"10\" ry=\"10\" style=\"stroke: #383838; stroke-width: 1.5;\" width=\"42\" x=\"182\" y=\"84\"/><text fill=\"#000000\" font-family=\"sans-serif\" font-size=\"12\" font-style=\"italic\" lengthAdjust=\"spacingAndGlyphs\" textLength=\"40\" x=\"183\" y=\"100.1387\">«part»</text><text fill=\"#000000\" font-family=\"sans-serif\" font-size=\"12\" lengthAdjust=\"spacingAndGlyphs\" textLength=\"22\" x=\"190\" y=\"114.1074\">x: A</text><line style=\"stroke: #383838; stroke-width: 1.5;\" x1=\"183\" x2=\"223\" y1=\"121.9375\" y2=\"121.9375\"/></a><!--MD5=[b9389687b975829384b498ac4b7476b2]\n",
       "class E8--><a href=\"psysml:a38466df-faf8-4af5-a290-fb7428072c5f\" target=\"_top\" title=\"psysml:a38466df-faf8-4af5-a290-fb7428072c5f\" xlink:actuate=\"onRequest\" xlink:href=\"psysml:a38466df-faf8-4af5-a290-fb7428072c5f\" xlink:show=\"new\" xlink:title=\"psysml:a38466df-faf8-4af5-a290-fb7428072c5f\" xlink:type=\"simple\"><rect fill=\"#FFFFFF\" height=\"45.9375\" id=\"E8\" rx=\"10\" ry=\"10\" style=\"stroke: #383838; stroke-width: 1.5;\" width=\"42\" x=\"105\" y=\"84\"/><text fill=\"#000000\" font-family=\"sans-serif\" font-size=\"12\" font-style=\"italic\" lengthAdjust=\"spacingAndGlyphs\" textLength=\"40\" x=\"106\" y=\"100.1387\">«part»</text><text fill=\"#000000\" font-family=\"sans-serif\" font-size=\"12\" lengthAdjust=\"spacingAndGlyphs\" textLength=\"21\" x=\"113.5\" y=\"114.1074\">z: B</text><line style=\"stroke: #383838; stroke-width: 1.5;\" x1=\"106\" x2=\"146\" y1=\"121.9375\" y2=\"121.9375\"/></a><!--MD5=[09b614a08d8cba4a07c9adeb5e0fee81]\n",
       "class E3--><a href=\"psysml:0a0c0374-c89d-44f1-8ff3-be2f7c1a5b8f\" target=\"_top\" title=\"psysml:0a0c0374-c89d-44f1-8ff3-be2f7c1a5b8f\" xlink:actuate=\"onRequest\" xlink:href=\"psysml:0a0c0374-c89d-44f1-8ff3-be2f7c1a5b8f\" xlink:show=\"new\" xlink:title=\"psysml:0a0c0374-c89d-44f1-8ff3-be2f7c1a5b8f\" xlink:type=\"simple\"><rect fill=\"#FFFFFF\" height=\"45.9375\" id=\"E3\" style=\"stroke: #383838; stroke-width: 1.5;\" width=\"70\" x=\"224\" y=\"205\"/><text fill=\"#000000\" font-family=\"sans-serif\" font-size=\"12\" font-style=\"italic\" lengthAdjust=\"spacingAndGlyphs\" textLength=\"68\" x=\"225\" y=\"221.1387\">«part  def»</text><text fill=\"#000000\" font-family=\"sans-serif\" font-size=\"12\" lengthAdjust=\"spacingAndGlyphs\" textLength=\"8\" x=\"255\" y=\"235.1074\">A</text><line style=\"stroke: #383838; stroke-width: 1.5;\" x1=\"225\" x2=\"293\" y1=\"242.9375\" y2=\"242.9375\"/></a><a href=\"psysml:9b62d657-9794-4032-9fa2-9f176e634d4a\" target=\"_top\" title=\"psysml:9b62d657-9794-4032-9fa2-9f176e634d4a\" xlink:actuate=\"onRequest\" xlink:href=\"psysml:9b62d657-9794-4032-9fa2-9f176e634d4a\" xlink:show=\"new\" xlink:title=\"psysml:9b62d657-9794-4032-9fa2-9f176e634d4a\" xlink:type=\"simple\"><polygon fill=\"#FFFFFF\" points=\"32,80.5,56,80.5,63,102.7969,70,102.7969,70,133.0938,32,133.0938,32,80.5\" style=\"stroke: #000000; stroke-width: 1.5;\"/><line style=\"stroke: #000000; stroke-width: 1.5;\" x1=\"32\" x2=\"63\" y1=\"102.7969\" y2=\"102.7969\"/><text fill=\"#000000\" font-family=\"sans-serif\" font-size=\"14\" font-weight=\"bold\" lengthAdjust=\"spacingAndGlyphs\" textLength=\"18\" x=\"36\" y=\"95.4951\">P2</text></a><!--MD5=[2156ba9850f5573cc1fc38a6a4b2f02b]\n",
       "class E7--><a href=\"psysml:af99adbc-0034-4f7c-9fbe-52493ca28392\" target=\"_top\" title=\"psysml:af99adbc-0034-4f7c-9fbe-52493ca28392\" xlink:actuate=\"onRequest\" xlink:href=\"psysml:af99adbc-0034-4f7c-9fbe-52493ca28392\" xlink:show=\"new\" xlink:title=\"psysml:af99adbc-0034-4f7c-9fbe-52493ca28392\" xlink:type=\"simple\"><rect fill=\"#FFFFFF\" height=\"45.9375\" id=\"E7\" style=\"stroke: #383838; stroke-width: 1.5;\" width=\"70\" x=\"91\" y=\"205\"/><text fill=\"#000000\" font-family=\"sans-serif\" font-size=\"12\" font-style=\"italic\" lengthAdjust=\"spacingAndGlyphs\" textLength=\"68\" x=\"92\" y=\"221.1387\">«part  def»</text><text fill=\"#000000\" font-family=\"sans-serif\" font-size=\"12\" lengthAdjust=\"spacingAndGlyphs\" textLength=\"8\" x=\"122\" y=\"235.1074\">B</text><line style=\"stroke: #383838; stroke-width: 1.5;\" x1=\"92\" x2=\"160\" y1=\"242.9375\" y2=\"242.9375\"/></a><!--MD5=[96f4274e9e20536e775497830990834d]\n",
       "class E10--><a href=\"psysml:d7dc5bce-b37d-4e4e-a49c-d44e6595ca7b\" target=\"_top\" title=\"psysml:d7dc5bce-b37d-4e4e-a49c-d44e6595ca7b\" xlink:actuate=\"onRequest\" xlink:href=\"psysml:d7dc5bce-b37d-4e4e-a49c-d44e6595ca7b\" xlink:show=\"new\" xlink:title=\"psysml:d7dc5bce-b37d-4e4e-a49c-d44e6595ca7b\" xlink:type=\"simple\"><rect fill=\"#FFFFFF\" height=\"45.9375\" id=\"E10\" rx=\"10\" ry=\"10\" style=\"stroke: #383838; stroke-width: 1.5;\" width=\"42\" x=\"259\" y=\"84\"/><text fill=\"#000000\" font-family=\"sans-serif\" font-size=\"12\" font-style=\"italic\" lengthAdjust=\"spacingAndGlyphs\" textLength=\"40\" x=\"260\" y=\"100.1387\">«part»</text><text fill=\"#000000\" font-family=\"sans-serif\" font-size=\"12\" lengthAdjust=\"spacingAndGlyphs\" textLength=\"29\" x=\"263.5\" y=\"114.1074\">z1: A</text><line style=\"stroke: #383838; stroke-width: 1.5;\" x1=\"260\" x2=\"300\" y1=\"121.9375\" y2=\"121.9375\"/></a><!--MD5=[e9be52314489bd878ff4c7144b63c9e1]\n",
       "link E5 to E3--><a href=\"psysml:2e6435ee-ec1e-47e4-8fad-fb77072556f4\" target=\"_top\" title=\"psysml:2e6435ee-ec1e-47e4-8fad-fb77072556f4\" xlink:actuate=\"onRequest\" xlink:href=\"psysml:2e6435ee-ec1e-47e4-8fad-fb77072556f4\" xlink:show=\"new\" xlink:title=\"psysml:2e6435ee-ec1e-47e4-8fad-fb77072556f4\" xlink:type=\"simple\"><path d=\"M213.4,130.1 C220.82,145.87 231.01,167.52 239.88,186.36 \" fill=\"none\" id=\"E5-&gt;E3\" style=\"stroke: #383838; stroke-width: 1.0;\"/><polygon fill=\"#FFFFFF\" points=\"248.46,204.61,234.0383,190.3968,246.7067,184.4376,248.46,204.61\" style=\"stroke: #383838; stroke-width: 1.0;\"/><ellipse cx=\"233.4218\" cy=\"184.3877\" fill=\"#383838\" rx=\"2\" ry=\"2\" style=\"stroke: #383838; stroke-width: 1.0;\"/><ellipse cx=\"242.4706\" cy=\"180.1311\" fill=\"#383838\" rx=\"2\" ry=\"2\" style=\"stroke: #383838; stroke-width: 1.0;\"/></a><!--MD5=[bfa3c8b0d15052fdf50ae9310b491027]\n",
       "link E8 to E7--><a href=\"psysml:f11bc7c0-c938-426a-87a4-76c9b47cac7e\" target=\"_top\" title=\"psysml:f11bc7c0-c938-426a-87a4-76c9b47cac7e\" xlink:actuate=\"onRequest\" xlink:href=\"psysml:f11bc7c0-c938-426a-87a4-76c9b47cac7e\" xlink:show=\"new\" xlink:title=\"psysml:f11bc7c0-c938-426a-87a4-76c9b47cac7e\" xlink:type=\"simple\"><path d=\"M126,130.1 C126,145.37 126,166.16 126,184.57 \" fill=\"none\" id=\"E8-&gt;E7\" style=\"stroke: #383838; stroke-width: 1.0;\"/><polygon fill=\"#FFFFFF\" points=\"126,204.61,119,185.61,133,185.61,126,204.61\" style=\"stroke: #383838; stroke-width: 1.0;\"/><ellipse cx=\"121\" cy=\"179.91\" fill=\"#383838\" rx=\"2\" ry=\"2\" style=\"stroke: #383838; stroke-width: 1.0;\"/><ellipse cx=\"131\" cy=\"179.91\" fill=\"#383838\" rx=\"2\" ry=\"2\" style=\"stroke: #383838; stroke-width: 1.0;\"/></a><!--MD5=[feeac5eb423634930294aa81f2d25a4c]\n",
       "link E10 to E3--><a href=\"psysml:21a673ac-f9f6-428c-a165-60ea4300f397\" target=\"_top\" title=\"psysml:21a673ac-f9f6-428c-a165-60ea4300f397\" xlink:actuate=\"onRequest\" xlink:href=\"psysml:21a673ac-f9f6-428c-a165-60ea4300f397\" xlink:show=\"new\" xlink:title=\"psysml:21a673ac-f9f6-428c-a165-60ea4300f397\" xlink:type=\"simple\"><path d=\"M276.1,130.1 C273.39,145.45 269.7,166.39 266.44,184.87 \" fill=\"none\" id=\"E10-&gt;E3\" style=\"stroke: #383838; stroke-width: 1.0;\"/><polygon fill=\"#FFFFFF\" points=\"262.95,204.61,259.3535,184.6835,273.1411,187.1131,262.95,204.61\" style=\"stroke: #383838; stroke-width: 1.0;\"/><ellipse cx=\"262.3123\" cy=\"179.4171\" fill=\"#383838\" rx=\"2\" ry=\"2\" style=\"stroke: #383838; stroke-width: 1.0;\"/><ellipse cx=\"272.1606\" cy=\"181.1525\" fill=\"#383838\" rx=\"2\" ry=\"2\" style=\"stroke: #383838; stroke-width: 1.0;\"/></a><!--MD5=[4ca08d76c77ae029c9c913ce0552af27]\n",
       "@startuml\r\n",
       "skinparam monochrome true\r\n",
       "skinparam classbackgroundcolor white\r\n",
       "skinparam shadowing false\r\n",
       "skinparam wrapWidth 300\r\n",
       "hide circle\r\n",
       "\r\n",
       "package \"PrivateImportTest\" as E1  [[psysml:2415ca44-1de1-4a98-b3f0-a39d5285a5bd ]]  {\r\n",
       "package \"P1\" as E2  [[psysml:426e250f-8977-4e89-b166-3835fc91b530 ]]  {\r\n",
       "comp def \"A\" as E3  <<(T,blue) part  def>> [[psysml:0a0c0374-c89d-44f1-8ff3-be2f7c1a5b8f ]] {\r\n",
       "}\r\n",
       "}\r\n",
       "package \"P2\" as E4  [[psysml:9b62d657-9794-4032-9fa2-9f176e634d4a ]]  {\r\n",
       "}\r\n",
       "comp usage \"x: A \" as E5  <<(T,blue) part>> [[psysml:99b80f3a-0072-46fe-b843-b9a836066a51 ]] {\r\n",
       "}\r\n",
       "package \"P3\" as E6  [[psysml:fe85458f-8707-492f-a6ea-e7b6b29e5b91 ]]  {\r\n",
       "comp def \"B\" as E7  <<(T,blue) part  def>> [[psysml:af99adbc-0034-4f7c-9fbe-52493ca28392 ]] {\r\n",
       "}\r\n",
       "}\r\n",
       "comp usage \"z: B \" as E8  <<(T,blue) part>> [[psysml:a38466df-faf8-4af5-a290-fb7428072c5f ]] {\r\n",
       "}\r\n",
       "package \"P4\" as E9  [[psysml:77a03853-3516-49bc-9a88-c5db4c10002c ]]  {\r\n",
       "comp usage \"z1: A \" as E10  <<(T,blue) part>> [[psysml:d7dc5bce-b37d-4e4e-a49c-d44e6595ca7b ]] {\r\n",
       "}\r\n",
       "}\r\n",
       "}\r\n",
       "E5 - -:|> E3 [[psysml:2e6435ee-ec1e-47e4-8fad-fb77072556f4 ]] \r\n",
       "E8 - -:|> E7 [[psysml:f11bc7c0-c938-426a-87a4-76c9b47cac7e ]] \r\n",
       "E10 - -:|> E3 [[psysml:21a673ac-f9f6-428c-a165-60ea4300f397 ]] \r\n",
       "@enduml\r\n",
       "\n",
       "PlantUML version 1.2020.13(Sat Jun 13 12:26:38 UTC 2020)\n",
       "(EPL source distribution)\n",
       "Java Runtime: OpenJDK Runtime Environment\n",
       "JVM: OpenJDK 64-Bit Server VM\n",
       "Default Encoding: UTF-8\n",
       "Language: en\n",
       "Country: null\n",
       "--></g></svg>"
      ]
     },
     "execution_count": 43,
     "metadata": {},
     "output_type": "execute_result"
    }
   ],
   "source": [
    "%viz --style=\"DEFAULT\" --view=\"MIXED\" \"PrivateImportTest\""
   ]
  },
  {
   "cell_type": "code",
   "execution_count": 44,
   "id": "38632e53",
   "metadata": {
    "execution": {
     "iopub.execute_input": "2021-10-25T08:22:23.140218Z",
     "iopub.status.busy": "2021-10-25T08:22:23.139794Z",
     "iopub.status.idle": "2021-10-25T08:22:23.176486Z",
     "shell.execute_reply": "2021-10-25T08:22:23.173882Z"
    }
   },
   "outputs": [
    {
     "data": {
      "image/svg+xml": [
       "<?xml version=\"1.0\" encoding=\"UTF-8\" standalone=\"no\"?><svg xmlns=\"http://www.w3.org/2000/svg\" xmlns:xlink=\"http://www.w3.org/1999/xlink\" contentScriptType=\"application/ecmascript\" contentStyleType=\"text/css\" height=\"303px\" preserveAspectRatio=\"none\" style=\"width:363px;height:303px;\" version=\"1.1\" viewBox=\"0 0 363 303\" width=\"363px\" zoomAndPan=\"magnify\"><defs/><g><!--MD5=[fbc87193dbaf4d95561dea2c320d4a47]\n",
       "cluster E1--><a href=\"psysml:2415ca44-1de1-4a98-b3f0-a39d5285a5bd\" target=\"_top\" title=\"psysml:2415ca44-1de1-4a98-b3f0-a39d5285a5bd\" xlink:actuate=\"onRequest\" xlink:href=\"psysml:2415ca44-1de1-4a98-b3f0-a39d5285a5bd\" xlink:show=\"new\" xlink:title=\"psysml:2415ca44-1de1-4a98-b3f0-a39d5285a5bd\" xlink:type=\"simple\"><polygon fill=\"#FFFFFF\" points=\"16,6,143,6,150,28.2969,341,28.2969,341,291,16,291,16,6\" style=\"stroke: #000000; stroke-width: 1.5;\"/><line style=\"stroke: #000000; stroke-width: 1.5;\" x1=\"16\" x2=\"150\" y1=\"28.2969\" y2=\"28.2969\"/><text fill=\"#000000\" font-family=\"sans-serif\" font-size=\"14\" font-weight=\"bold\" lengthAdjust=\"spacingAndGlyphs\" textLength=\"121\" x=\"20\" y=\"20.9951\">PrivateImportTest</text></a><!--MD5=[e4f7fae6ed58524ba242bb0b0d3be6b7]\n",
       "cluster E2--><a href=\"psysml:426e250f-8977-4e89-b166-3835fc91b530\" target=\"_top\" title=\"psysml:426e250f-8977-4e89-b166-3835fc91b530\" xlink:actuate=\"onRequest\" xlink:href=\"psysml:426e250f-8977-4e89-b166-3835fc91b530\" xlink:show=\"new\" xlink:title=\"psysml:426e250f-8977-4e89-b166-3835fc91b530\" xlink:type=\"simple\"><polygon fill=\"#FFFFFF\" points=\"208,170,232,170,239,192.2969,310,192.2969,310,267,208,267,208,170\" style=\"stroke: #000000; stroke-width: 1.5;\"/><line style=\"stroke: #000000; stroke-width: 1.5;\" x1=\"208\" x2=\"239\" y1=\"192.2969\" y2=\"192.2969\"/><text fill=\"#000000\" font-family=\"sans-serif\" font-size=\"14\" font-weight=\"bold\" lengthAdjust=\"spacingAndGlyphs\" textLength=\"18\" x=\"212\" y=\"184.9951\">P1</text></a><!--MD5=[14e3b0961a2654348d326746436168a1]\n",
       "cluster E6--><a href=\"psysml:fe85458f-8707-492f-a6ea-e7b6b29e5b91\" target=\"_top\" title=\"psysml:fe85458f-8707-492f-a6ea-e7b6b29e5b91\" xlink:actuate=\"onRequest\" xlink:href=\"psysml:fe85458f-8707-492f-a6ea-e7b6b29e5b91\" xlink:show=\"new\" xlink:title=\"psysml:fe85458f-8707-492f-a6ea-e7b6b29e5b91\" xlink:type=\"simple\"><polygon fill=\"#FFFFFF\" points=\"75,170,99,170,106,192.2969,177,192.2969,177,267,75,267,75,170\" style=\"stroke: #000000; stroke-width: 1.5;\"/><line style=\"stroke: #000000; stroke-width: 1.5;\" x1=\"75\" x2=\"106\" y1=\"192.2969\" y2=\"192.2969\"/><text fill=\"#000000\" font-family=\"sans-serif\" font-size=\"14\" font-weight=\"bold\" lengthAdjust=\"spacingAndGlyphs\" textLength=\"18\" x=\"79\" y=\"184.9951\">P3</text></a><!--MD5=[7f149f147074ac12df2cb0a7728a5fb0]\n",
       "cluster E9--><a href=\"psysml:77a03853-3516-49bc-9a88-c5db4c10002c\" target=\"_top\" title=\"psysml:77a03853-3516-49bc-9a88-c5db4c10002c\" xlink:actuate=\"onRequest\" xlink:href=\"psysml:77a03853-3516-49bc-9a88-c5db4c10002c\" xlink:show=\"new\" xlink:title=\"psysml:77a03853-3516-49bc-9a88-c5db4c10002c\" xlink:type=\"simple\"><polygon fill=\"#FFFFFF\" points=\"243,49,267,49,274,71.2969,317,71.2969,317,146,243,146,243,49\" style=\"stroke: #000000; stroke-width: 1.5;\"/><line style=\"stroke: #000000; stroke-width: 1.5;\" x1=\"243\" x2=\"274\" y1=\"71.2969\" y2=\"71.2969\"/><text fill=\"#000000\" font-family=\"sans-serif\" font-size=\"14\" font-weight=\"bold\" lengthAdjust=\"spacingAndGlyphs\" textLength=\"18\" x=\"247\" y=\"63.9951\">P4</text></a><!--MD5=[270fce915f116d4de14055a7c1d9a0f3]\n",
       "class E5--><a href=\"psysml:99b80f3a-0072-46fe-b843-b9a836066a51\" target=\"_top\" title=\"psysml:99b80f3a-0072-46fe-b843-b9a836066a51\" xlink:actuate=\"onRequest\" xlink:href=\"psysml:99b80f3a-0072-46fe-b843-b9a836066a51\" xlink:show=\"new\" xlink:title=\"psysml:99b80f3a-0072-46fe-b843-b9a836066a51\" xlink:type=\"simple\"><rect fill=\"#FFFFFF\" height=\"45.9375\" id=\"E5\" rx=\"10\" ry=\"10\" style=\"stroke: #383838; stroke-width: 1.5;\" width=\"42\" x=\"182\" y=\"84\"/><text fill=\"#000000\" font-family=\"sans-serif\" font-size=\"12\" font-style=\"italic\" lengthAdjust=\"spacingAndGlyphs\" textLength=\"40\" x=\"183\" y=\"100.1387\">«part»</text><text fill=\"#000000\" font-family=\"sans-serif\" font-size=\"12\" lengthAdjust=\"spacingAndGlyphs\" textLength=\"22\" x=\"190\" y=\"114.1074\">x: A</text><line style=\"stroke: #383838; stroke-width: 1.5;\" x1=\"183\" x2=\"223\" y1=\"121.9375\" y2=\"121.9375\"/></a><!--MD5=[b9389687b975829384b498ac4b7476b2]\n",
       "class E8--><a href=\"psysml:a38466df-faf8-4af5-a290-fb7428072c5f\" target=\"_top\" title=\"psysml:a38466df-faf8-4af5-a290-fb7428072c5f\" xlink:actuate=\"onRequest\" xlink:href=\"psysml:a38466df-faf8-4af5-a290-fb7428072c5f\" xlink:show=\"new\" xlink:title=\"psysml:a38466df-faf8-4af5-a290-fb7428072c5f\" xlink:type=\"simple\"><rect fill=\"#FFFFFF\" height=\"45.9375\" id=\"E8\" rx=\"10\" ry=\"10\" style=\"stroke: #383838; stroke-width: 1.5;\" width=\"42\" x=\"105\" y=\"84\"/><text fill=\"#000000\" font-family=\"sans-serif\" font-size=\"12\" font-style=\"italic\" lengthAdjust=\"spacingAndGlyphs\" textLength=\"40\" x=\"106\" y=\"100.1387\">«part»</text><text fill=\"#000000\" font-family=\"sans-serif\" font-size=\"12\" lengthAdjust=\"spacingAndGlyphs\" textLength=\"21\" x=\"113.5\" y=\"114.1074\">z: B</text><line style=\"stroke: #383838; stroke-width: 1.5;\" x1=\"106\" x2=\"146\" y1=\"121.9375\" y2=\"121.9375\"/></a><!--MD5=[09b614a08d8cba4a07c9adeb5e0fee81]\n",
       "class E3--><a href=\"psysml:0a0c0374-c89d-44f1-8ff3-be2f7c1a5b8f\" target=\"_top\" title=\"psysml:0a0c0374-c89d-44f1-8ff3-be2f7c1a5b8f\" xlink:actuate=\"onRequest\" xlink:href=\"psysml:0a0c0374-c89d-44f1-8ff3-be2f7c1a5b8f\" xlink:show=\"new\" xlink:title=\"psysml:0a0c0374-c89d-44f1-8ff3-be2f7c1a5b8f\" xlink:type=\"simple\"><rect fill=\"#FFFFFF\" height=\"45.9375\" id=\"E3\" style=\"stroke: #383838; stroke-width: 1.5;\" width=\"70\" x=\"224\" y=\"205\"/><text fill=\"#000000\" font-family=\"sans-serif\" font-size=\"12\" font-style=\"italic\" lengthAdjust=\"spacingAndGlyphs\" textLength=\"68\" x=\"225\" y=\"221.1387\">«part  def»</text><text fill=\"#000000\" font-family=\"sans-serif\" font-size=\"12\" lengthAdjust=\"spacingAndGlyphs\" textLength=\"8\" x=\"255\" y=\"235.1074\">A</text><line style=\"stroke: #383838; stroke-width: 1.5;\" x1=\"225\" x2=\"293\" y1=\"242.9375\" y2=\"242.9375\"/></a><a href=\"psysml:9b62d657-9794-4032-9fa2-9f176e634d4a\" target=\"_top\" title=\"psysml:9b62d657-9794-4032-9fa2-9f176e634d4a\" xlink:actuate=\"onRequest\" xlink:href=\"psysml:9b62d657-9794-4032-9fa2-9f176e634d4a\" xlink:show=\"new\" xlink:title=\"psysml:9b62d657-9794-4032-9fa2-9f176e634d4a\" xlink:type=\"simple\"><polygon fill=\"#FFFFFF\" points=\"32,80.5,56,80.5,63,102.7969,70,102.7969,70,133.0938,32,133.0938,32,80.5\" style=\"stroke: #000000; stroke-width: 1.5;\"/><line style=\"stroke: #000000; stroke-width: 1.5;\" x1=\"32\" x2=\"63\" y1=\"102.7969\" y2=\"102.7969\"/><text fill=\"#000000\" font-family=\"sans-serif\" font-size=\"14\" font-weight=\"bold\" lengthAdjust=\"spacingAndGlyphs\" textLength=\"18\" x=\"36\" y=\"95.4951\">P2</text></a><!--MD5=[2156ba9850f5573cc1fc38a6a4b2f02b]\n",
       "class E7--><a href=\"psysml:af99adbc-0034-4f7c-9fbe-52493ca28392\" target=\"_top\" title=\"psysml:af99adbc-0034-4f7c-9fbe-52493ca28392\" xlink:actuate=\"onRequest\" xlink:href=\"psysml:af99adbc-0034-4f7c-9fbe-52493ca28392\" xlink:show=\"new\" xlink:title=\"psysml:af99adbc-0034-4f7c-9fbe-52493ca28392\" xlink:type=\"simple\"><rect fill=\"#FFFFFF\" height=\"45.9375\" id=\"E7\" style=\"stroke: #383838; stroke-width: 1.5;\" width=\"70\" x=\"91\" y=\"205\"/><text fill=\"#000000\" font-family=\"sans-serif\" font-size=\"12\" font-style=\"italic\" lengthAdjust=\"spacingAndGlyphs\" textLength=\"68\" x=\"92\" y=\"221.1387\">«part  def»</text><text fill=\"#000000\" font-family=\"sans-serif\" font-size=\"12\" lengthAdjust=\"spacingAndGlyphs\" textLength=\"8\" x=\"122\" y=\"235.1074\">B</text><line style=\"stroke: #383838; stroke-width: 1.5;\" x1=\"92\" x2=\"160\" y1=\"242.9375\" y2=\"242.9375\"/></a><!--MD5=[96f4274e9e20536e775497830990834d]\n",
       "class E10--><a href=\"psysml:d7dc5bce-b37d-4e4e-a49c-d44e6595ca7b\" target=\"_top\" title=\"psysml:d7dc5bce-b37d-4e4e-a49c-d44e6595ca7b\" xlink:actuate=\"onRequest\" xlink:href=\"psysml:d7dc5bce-b37d-4e4e-a49c-d44e6595ca7b\" xlink:show=\"new\" xlink:title=\"psysml:d7dc5bce-b37d-4e4e-a49c-d44e6595ca7b\" xlink:type=\"simple\"><rect fill=\"#FFFFFF\" height=\"45.9375\" id=\"E10\" rx=\"10\" ry=\"10\" style=\"stroke: #383838; stroke-width: 1.5;\" width=\"42\" x=\"259\" y=\"84\"/><text fill=\"#000000\" font-family=\"sans-serif\" font-size=\"12\" font-style=\"italic\" lengthAdjust=\"spacingAndGlyphs\" textLength=\"40\" x=\"260\" y=\"100.1387\">«part»</text><text fill=\"#000000\" font-family=\"sans-serif\" font-size=\"12\" lengthAdjust=\"spacingAndGlyphs\" textLength=\"29\" x=\"263.5\" y=\"114.1074\">z1: A</text><line style=\"stroke: #383838; stroke-width: 1.5;\" x1=\"260\" x2=\"300\" y1=\"121.9375\" y2=\"121.9375\"/></a><!--MD5=[e9be52314489bd878ff4c7144b63c9e1]\n",
       "link E5 to E3--><a href=\"psysml:2e6435ee-ec1e-47e4-8fad-fb77072556f4\" target=\"_top\" title=\"psysml:2e6435ee-ec1e-47e4-8fad-fb77072556f4\" xlink:actuate=\"onRequest\" xlink:href=\"psysml:2e6435ee-ec1e-47e4-8fad-fb77072556f4\" xlink:show=\"new\" xlink:title=\"psysml:2e6435ee-ec1e-47e4-8fad-fb77072556f4\" xlink:type=\"simple\"><path d=\"M213.4,130.1 C220.82,145.87 231.01,167.52 239.88,186.36 \" fill=\"none\" id=\"E5-&gt;E3\" style=\"stroke: #383838; stroke-width: 1.0;\"/><polygon fill=\"#FFFFFF\" points=\"248.46,204.61,234.0383,190.3968,246.7067,184.4376,248.46,204.61\" style=\"stroke: #383838; stroke-width: 1.0;\"/><ellipse cx=\"233.4218\" cy=\"184.3877\" fill=\"#383838\" rx=\"2\" ry=\"2\" style=\"stroke: #383838; stroke-width: 1.0;\"/><ellipse cx=\"242.4706\" cy=\"180.1311\" fill=\"#383838\" rx=\"2\" ry=\"2\" style=\"stroke: #383838; stroke-width: 1.0;\"/></a><!--MD5=[bfa3c8b0d15052fdf50ae9310b491027]\n",
       "link E8 to E7--><a href=\"psysml:f11bc7c0-c938-426a-87a4-76c9b47cac7e\" target=\"_top\" title=\"psysml:f11bc7c0-c938-426a-87a4-76c9b47cac7e\" xlink:actuate=\"onRequest\" xlink:href=\"psysml:f11bc7c0-c938-426a-87a4-76c9b47cac7e\" xlink:show=\"new\" xlink:title=\"psysml:f11bc7c0-c938-426a-87a4-76c9b47cac7e\" xlink:type=\"simple\"><path d=\"M126,130.1 C126,145.37 126,166.16 126,184.57 \" fill=\"none\" id=\"E8-&gt;E7\" style=\"stroke: #383838; stroke-width: 1.0;\"/><polygon fill=\"#FFFFFF\" points=\"126,204.61,119,185.61,133,185.61,126,204.61\" style=\"stroke: #383838; stroke-width: 1.0;\"/><ellipse cx=\"121\" cy=\"179.91\" fill=\"#383838\" rx=\"2\" ry=\"2\" style=\"stroke: #383838; stroke-width: 1.0;\"/><ellipse cx=\"131\" cy=\"179.91\" fill=\"#383838\" rx=\"2\" ry=\"2\" style=\"stroke: #383838; stroke-width: 1.0;\"/></a><!--MD5=[feeac5eb423634930294aa81f2d25a4c]\n",
       "link E10 to E3--><a href=\"psysml:21a673ac-f9f6-428c-a165-60ea4300f397\" target=\"_top\" title=\"psysml:21a673ac-f9f6-428c-a165-60ea4300f397\" xlink:actuate=\"onRequest\" xlink:href=\"psysml:21a673ac-f9f6-428c-a165-60ea4300f397\" xlink:show=\"new\" xlink:title=\"psysml:21a673ac-f9f6-428c-a165-60ea4300f397\" xlink:type=\"simple\"><path d=\"M276.1,130.1 C273.39,145.45 269.7,166.39 266.44,184.87 \" fill=\"none\" id=\"E10-&gt;E3\" style=\"stroke: #383838; stroke-width: 1.0;\"/><polygon fill=\"#FFFFFF\" points=\"262.95,204.61,259.3535,184.6835,273.1411,187.1131,262.95,204.61\" style=\"stroke: #383838; stroke-width: 1.0;\"/><ellipse cx=\"262.3123\" cy=\"179.4171\" fill=\"#383838\" rx=\"2\" ry=\"2\" style=\"stroke: #383838; stroke-width: 1.0;\"/><ellipse cx=\"272.1606\" cy=\"181.1525\" fill=\"#383838\" rx=\"2\" ry=\"2\" style=\"stroke: #383838; stroke-width: 1.0;\"/></a><!--MD5=[19fa32203dc4bc4da88802bad7aa385f]\n",
       "@startuml\r\n",
       "top to bottom direction\r\n",
       "skinparam monochrome true\r\n",
       "skinparam classbackgroundcolor white\r\n",
       "skinparam shadowing false\r\n",
       "skinparam wrapWidth 300\r\n",
       "hide circle\r\n",
       "\r\n",
       "package \"PrivateImportTest\" as E1  [[psysml:2415ca44-1de1-4a98-b3f0-a39d5285a5bd ]]  {\r\n",
       "package \"P1\" as E2  [[psysml:426e250f-8977-4e89-b166-3835fc91b530 ]]  {\r\n",
       "comp def \"A\" as E3  <<(T,blue) part  def>> [[psysml:0a0c0374-c89d-44f1-8ff3-be2f7c1a5b8f ]] {\r\n",
       "}\r\n",
       "}\r\n",
       "package \"P2\" as E4  [[psysml:9b62d657-9794-4032-9fa2-9f176e634d4a ]]  {\r\n",
       "}\r\n",
       "comp usage \"x: A \" as E5  <<(T,blue) part>> [[psysml:99b80f3a-0072-46fe-b843-b9a836066a51 ]] {\r\n",
       "}\r\n",
       "package \"P3\" as E6  [[psysml:fe85458f-8707-492f-a6ea-e7b6b29e5b91 ]]  {\r\n",
       "comp def \"B\" as E7  <<(T,blue) part  def>> [[psysml:af99adbc-0034-4f7c-9fbe-52493ca28392 ]] {\r\n",
       "}\r\n",
       "}\r\n",
       "comp usage \"z: B \" as E8  <<(T,blue) part>> [[psysml:a38466df-faf8-4af5-a290-fb7428072c5f ]] {\r\n",
       "}\r\n",
       "package \"P4\" as E9  [[psysml:77a03853-3516-49bc-9a88-c5db4c10002c ]]  {\r\n",
       "comp usage \"z1: A \" as E10  <<(T,blue) part>> [[psysml:d7dc5bce-b37d-4e4e-a49c-d44e6595ca7b ]] {\r\n",
       "}\r\n",
       "}\r\n",
       "}\r\n",
       "E5 - -:|> E3 [[psysml:2e6435ee-ec1e-47e4-8fad-fb77072556f4 ]] \r\n",
       "E8 - -:|> E7 [[psysml:f11bc7c0-c938-426a-87a4-76c9b47cac7e ]] \r\n",
       "E10 - -:|> E3 [[psysml:21a673ac-f9f6-428c-a165-60ea4300f397 ]] \r\n",
       "@enduml\r\n",
       "\n",
       "PlantUML version 1.2020.13(Sat Jun 13 12:26:38 UTC 2020)\n",
       "(EPL source distribution)\n",
       "Java Runtime: OpenJDK Runtime Environment\n",
       "JVM: OpenJDK 64-Bit Server VM\n",
       "Default Encoding: UTF-8\n",
       "Language: en\n",
       "Country: null\n",
       "--></g></svg>"
      ]
     },
     "execution_count": 44,
     "metadata": {},
     "output_type": "execute_result"
    }
   ],
   "source": [
    "%viz --style=\"TB\" --view=\"Default\" \"PrivateImportTest\""
   ]
  },
  {
   "cell_type": "code",
   "execution_count": 45,
   "id": "26486d7e",
   "metadata": {
    "execution": {
     "iopub.execute_input": "2021-10-25T08:22:23.224983Z",
     "iopub.status.busy": "2021-10-25T08:22:23.224360Z",
     "iopub.status.idle": "2021-10-25T08:22:23.258915Z",
     "shell.execute_reply": "2021-10-25T08:22:23.257027Z"
    }
   },
   "outputs": [
    {
     "data": {
      "image/svg+xml": [
       "<?xml version=\"1.0\" encoding=\"UTF-8\" standalone=\"no\"?><svg xmlns=\"http://www.w3.org/2000/svg\" xmlns:xlink=\"http://www.w3.org/1999/xlink\" contentScriptType=\"application/ecmascript\" contentStyleType=\"text/css\" height=\"303px\" preserveAspectRatio=\"none\" style=\"width:363px;height:303px;\" version=\"1.1\" viewBox=\"0 0 363 303\" width=\"363px\" zoomAndPan=\"magnify\"><defs/><g><!--MD5=[fbc87193dbaf4d95561dea2c320d4a47]\n",
       "cluster E1--><a href=\"psysml:2415ca44-1de1-4a98-b3f0-a39d5285a5bd\" target=\"_top\" title=\"psysml:2415ca44-1de1-4a98-b3f0-a39d5285a5bd\" xlink:actuate=\"onRequest\" xlink:href=\"psysml:2415ca44-1de1-4a98-b3f0-a39d5285a5bd\" xlink:show=\"new\" xlink:title=\"psysml:2415ca44-1de1-4a98-b3f0-a39d5285a5bd\" xlink:type=\"simple\"><polygon fill=\"#FFFFFF\" points=\"16,6,143,6,150,28.2969,341,28.2969,341,291,16,291,16,6\" style=\"stroke: #000000; stroke-width: 1.5;\"/><line style=\"stroke: #000000; stroke-width: 1.5;\" x1=\"16\" x2=\"150\" y1=\"28.2969\" y2=\"28.2969\"/><text fill=\"#000000\" font-family=\"sans-serif\" font-size=\"14\" font-weight=\"bold\" lengthAdjust=\"spacingAndGlyphs\" textLength=\"121\" x=\"20\" y=\"20.9951\">PrivateImportTest</text></a><!--MD5=[e4f7fae6ed58524ba242bb0b0d3be6b7]\n",
       "cluster E2--><a href=\"psysml:426e250f-8977-4e89-b166-3835fc91b530\" target=\"_top\" title=\"psysml:426e250f-8977-4e89-b166-3835fc91b530\" xlink:actuate=\"onRequest\" xlink:href=\"psysml:426e250f-8977-4e89-b166-3835fc91b530\" xlink:show=\"new\" xlink:title=\"psysml:426e250f-8977-4e89-b166-3835fc91b530\" xlink:type=\"simple\"><polygon fill=\"#FFFFFF\" points=\"208,170,232,170,239,192.2969,310,192.2969,310,267,208,267,208,170\" style=\"stroke: #000000; stroke-width: 1.5;\"/><line style=\"stroke: #000000; stroke-width: 1.5;\" x1=\"208\" x2=\"239\" y1=\"192.2969\" y2=\"192.2969\"/><text fill=\"#000000\" font-family=\"sans-serif\" font-size=\"14\" font-weight=\"bold\" lengthAdjust=\"spacingAndGlyphs\" textLength=\"18\" x=\"212\" y=\"184.9951\">P1</text></a><!--MD5=[14e3b0961a2654348d326746436168a1]\n",
       "cluster E6--><a href=\"psysml:fe85458f-8707-492f-a6ea-e7b6b29e5b91\" target=\"_top\" title=\"psysml:fe85458f-8707-492f-a6ea-e7b6b29e5b91\" xlink:actuate=\"onRequest\" xlink:href=\"psysml:fe85458f-8707-492f-a6ea-e7b6b29e5b91\" xlink:show=\"new\" xlink:title=\"psysml:fe85458f-8707-492f-a6ea-e7b6b29e5b91\" xlink:type=\"simple\"><polygon fill=\"#FFFFFF\" points=\"75,170,99,170,106,192.2969,177,192.2969,177,267,75,267,75,170\" style=\"stroke: #000000; stroke-width: 1.5;\"/><line style=\"stroke: #000000; stroke-width: 1.5;\" x1=\"75\" x2=\"106\" y1=\"192.2969\" y2=\"192.2969\"/><text fill=\"#000000\" font-family=\"sans-serif\" font-size=\"14\" font-weight=\"bold\" lengthAdjust=\"spacingAndGlyphs\" textLength=\"18\" x=\"79\" y=\"184.9951\">P3</text></a><!--MD5=[7f149f147074ac12df2cb0a7728a5fb0]\n",
       "cluster E9--><a href=\"psysml:77a03853-3516-49bc-9a88-c5db4c10002c\" target=\"_top\" title=\"psysml:77a03853-3516-49bc-9a88-c5db4c10002c\" xlink:actuate=\"onRequest\" xlink:href=\"psysml:77a03853-3516-49bc-9a88-c5db4c10002c\" xlink:show=\"new\" xlink:title=\"psysml:77a03853-3516-49bc-9a88-c5db4c10002c\" xlink:type=\"simple\"><polygon fill=\"#FFFFFF\" points=\"243,49,267,49,274,71.2969,317,71.2969,317,146,243,146,243,49\" style=\"stroke: #000000; stroke-width: 1.5;\"/><line style=\"stroke: #000000; stroke-width: 1.5;\" x1=\"243\" x2=\"274\" y1=\"71.2969\" y2=\"71.2969\"/><text fill=\"#000000\" font-family=\"sans-serif\" font-size=\"14\" font-weight=\"bold\" lengthAdjust=\"spacingAndGlyphs\" textLength=\"18\" x=\"247\" y=\"63.9951\">P4</text></a><!--MD5=[270fce915f116d4de14055a7c1d9a0f3]\n",
       "class E5--><a href=\"psysml:99b80f3a-0072-46fe-b843-b9a836066a51\" target=\"_top\" title=\"psysml:99b80f3a-0072-46fe-b843-b9a836066a51\" xlink:actuate=\"onRequest\" xlink:href=\"psysml:99b80f3a-0072-46fe-b843-b9a836066a51\" xlink:show=\"new\" xlink:title=\"psysml:99b80f3a-0072-46fe-b843-b9a836066a51\" xlink:type=\"simple\"><rect fill=\"#FFFFFF\" height=\"45.9375\" id=\"E5\" rx=\"10\" ry=\"10\" style=\"stroke: #383838; stroke-width: 1.5;\" width=\"42\" x=\"182\" y=\"84\"/><text fill=\"#000000\" font-family=\"sans-serif\" font-size=\"12\" font-style=\"italic\" lengthAdjust=\"spacingAndGlyphs\" textLength=\"40\" x=\"183\" y=\"100.1387\">«part»</text><text fill=\"#000000\" font-family=\"sans-serif\" font-size=\"12\" lengthAdjust=\"spacingAndGlyphs\" textLength=\"22\" x=\"190\" y=\"114.1074\">x: A</text><line style=\"stroke: #383838; stroke-width: 1.5;\" x1=\"183\" x2=\"223\" y1=\"121.9375\" y2=\"121.9375\"/></a><!--MD5=[b9389687b975829384b498ac4b7476b2]\n",
       "class E8--><a href=\"psysml:a38466df-faf8-4af5-a290-fb7428072c5f\" target=\"_top\" title=\"psysml:a38466df-faf8-4af5-a290-fb7428072c5f\" xlink:actuate=\"onRequest\" xlink:href=\"psysml:a38466df-faf8-4af5-a290-fb7428072c5f\" xlink:show=\"new\" xlink:title=\"psysml:a38466df-faf8-4af5-a290-fb7428072c5f\" xlink:type=\"simple\"><rect fill=\"#FFFFFF\" height=\"45.9375\" id=\"E8\" rx=\"10\" ry=\"10\" style=\"stroke: #383838; stroke-width: 1.5;\" width=\"42\" x=\"105\" y=\"84\"/><text fill=\"#000000\" font-family=\"sans-serif\" font-size=\"12\" font-style=\"italic\" lengthAdjust=\"spacingAndGlyphs\" textLength=\"40\" x=\"106\" y=\"100.1387\">«part»</text><text fill=\"#000000\" font-family=\"sans-serif\" font-size=\"12\" lengthAdjust=\"spacingAndGlyphs\" textLength=\"21\" x=\"113.5\" y=\"114.1074\">z: B</text><line style=\"stroke: #383838; stroke-width: 1.5;\" x1=\"106\" x2=\"146\" y1=\"121.9375\" y2=\"121.9375\"/></a><!--MD5=[09b614a08d8cba4a07c9adeb5e0fee81]\n",
       "class E3--><a href=\"psysml:0a0c0374-c89d-44f1-8ff3-be2f7c1a5b8f\" target=\"_top\" title=\"psysml:0a0c0374-c89d-44f1-8ff3-be2f7c1a5b8f\" xlink:actuate=\"onRequest\" xlink:href=\"psysml:0a0c0374-c89d-44f1-8ff3-be2f7c1a5b8f\" xlink:show=\"new\" xlink:title=\"psysml:0a0c0374-c89d-44f1-8ff3-be2f7c1a5b8f\" xlink:type=\"simple\"><rect fill=\"#FFFFFF\" height=\"45.9375\" id=\"E3\" style=\"stroke: #383838; stroke-width: 1.5;\" width=\"70\" x=\"224\" y=\"205\"/><text fill=\"#000000\" font-family=\"sans-serif\" font-size=\"12\" font-style=\"italic\" lengthAdjust=\"spacingAndGlyphs\" textLength=\"68\" x=\"225\" y=\"221.1387\">«part  def»</text><text fill=\"#000000\" font-family=\"sans-serif\" font-size=\"12\" lengthAdjust=\"spacingAndGlyphs\" textLength=\"8\" x=\"255\" y=\"235.1074\">A</text><line style=\"stroke: #383838; stroke-width: 1.5;\" x1=\"225\" x2=\"293\" y1=\"242.9375\" y2=\"242.9375\"/></a><a href=\"psysml:9b62d657-9794-4032-9fa2-9f176e634d4a\" target=\"_top\" title=\"psysml:9b62d657-9794-4032-9fa2-9f176e634d4a\" xlink:actuate=\"onRequest\" xlink:href=\"psysml:9b62d657-9794-4032-9fa2-9f176e634d4a\" xlink:show=\"new\" xlink:title=\"psysml:9b62d657-9794-4032-9fa2-9f176e634d4a\" xlink:type=\"simple\"><polygon fill=\"#FFFFFF\" points=\"32,80.5,56,80.5,63,102.7969,70,102.7969,70,133.0938,32,133.0938,32,80.5\" style=\"stroke: #000000; stroke-width: 1.5;\"/><line style=\"stroke: #000000; stroke-width: 1.5;\" x1=\"32\" x2=\"63\" y1=\"102.7969\" y2=\"102.7969\"/><text fill=\"#000000\" font-family=\"sans-serif\" font-size=\"14\" font-weight=\"bold\" lengthAdjust=\"spacingAndGlyphs\" textLength=\"18\" x=\"36\" y=\"95.4951\">P2</text></a><!--MD5=[2156ba9850f5573cc1fc38a6a4b2f02b]\n",
       "class E7--><a href=\"psysml:af99adbc-0034-4f7c-9fbe-52493ca28392\" target=\"_top\" title=\"psysml:af99adbc-0034-4f7c-9fbe-52493ca28392\" xlink:actuate=\"onRequest\" xlink:href=\"psysml:af99adbc-0034-4f7c-9fbe-52493ca28392\" xlink:show=\"new\" xlink:title=\"psysml:af99adbc-0034-4f7c-9fbe-52493ca28392\" xlink:type=\"simple\"><rect fill=\"#FFFFFF\" height=\"45.9375\" id=\"E7\" style=\"stroke: #383838; stroke-width: 1.5;\" width=\"70\" x=\"91\" y=\"205\"/><text fill=\"#000000\" font-family=\"sans-serif\" font-size=\"12\" font-style=\"italic\" lengthAdjust=\"spacingAndGlyphs\" textLength=\"68\" x=\"92\" y=\"221.1387\">«part  def»</text><text fill=\"#000000\" font-family=\"sans-serif\" font-size=\"12\" lengthAdjust=\"spacingAndGlyphs\" textLength=\"8\" x=\"122\" y=\"235.1074\">B</text><line style=\"stroke: #383838; stroke-width: 1.5;\" x1=\"92\" x2=\"160\" y1=\"242.9375\" y2=\"242.9375\"/></a><!--MD5=[96f4274e9e20536e775497830990834d]\n",
       "class E10--><a href=\"psysml:d7dc5bce-b37d-4e4e-a49c-d44e6595ca7b\" target=\"_top\" title=\"psysml:d7dc5bce-b37d-4e4e-a49c-d44e6595ca7b\" xlink:actuate=\"onRequest\" xlink:href=\"psysml:d7dc5bce-b37d-4e4e-a49c-d44e6595ca7b\" xlink:show=\"new\" xlink:title=\"psysml:d7dc5bce-b37d-4e4e-a49c-d44e6595ca7b\" xlink:type=\"simple\"><rect fill=\"#FFFFFF\" height=\"45.9375\" id=\"E10\" rx=\"10\" ry=\"10\" style=\"stroke: #383838; stroke-width: 1.5;\" width=\"42\" x=\"259\" y=\"84\"/><text fill=\"#000000\" font-family=\"sans-serif\" font-size=\"12\" font-style=\"italic\" lengthAdjust=\"spacingAndGlyphs\" textLength=\"40\" x=\"260\" y=\"100.1387\">«part»</text><text fill=\"#000000\" font-family=\"sans-serif\" font-size=\"12\" lengthAdjust=\"spacingAndGlyphs\" textLength=\"29\" x=\"263.5\" y=\"114.1074\">z1: A</text><line style=\"stroke: #383838; stroke-width: 1.5;\" x1=\"260\" x2=\"300\" y1=\"121.9375\" y2=\"121.9375\"/></a><!--MD5=[e9be52314489bd878ff4c7144b63c9e1]\n",
       "link E5 to E3--><a href=\"psysml:2e6435ee-ec1e-47e4-8fad-fb77072556f4\" target=\"_top\" title=\"psysml:2e6435ee-ec1e-47e4-8fad-fb77072556f4\" xlink:actuate=\"onRequest\" xlink:href=\"psysml:2e6435ee-ec1e-47e4-8fad-fb77072556f4\" xlink:show=\"new\" xlink:title=\"psysml:2e6435ee-ec1e-47e4-8fad-fb77072556f4\" xlink:type=\"simple\"><path d=\"M213.4,130.1 C220.82,145.87 231.01,167.52 239.88,186.36 \" fill=\"none\" id=\"E5-&gt;E3\" style=\"stroke: #383838; stroke-width: 1.0;\"/><polygon fill=\"#FFFFFF\" points=\"248.46,204.61,234.0383,190.3968,246.7067,184.4376,248.46,204.61\" style=\"stroke: #383838; stroke-width: 1.0;\"/><ellipse cx=\"233.4218\" cy=\"184.3877\" fill=\"#383838\" rx=\"2\" ry=\"2\" style=\"stroke: #383838; stroke-width: 1.0;\"/><ellipse cx=\"242.4706\" cy=\"180.1311\" fill=\"#383838\" rx=\"2\" ry=\"2\" style=\"stroke: #383838; stroke-width: 1.0;\"/></a><!--MD5=[bfa3c8b0d15052fdf50ae9310b491027]\n",
       "link E8 to E7--><a href=\"psysml:f11bc7c0-c938-426a-87a4-76c9b47cac7e\" target=\"_top\" title=\"psysml:f11bc7c0-c938-426a-87a4-76c9b47cac7e\" xlink:actuate=\"onRequest\" xlink:href=\"psysml:f11bc7c0-c938-426a-87a4-76c9b47cac7e\" xlink:show=\"new\" xlink:title=\"psysml:f11bc7c0-c938-426a-87a4-76c9b47cac7e\" xlink:type=\"simple\"><path d=\"M126,130.1 C126,145.37 126,166.16 126,184.57 \" fill=\"none\" id=\"E8-&gt;E7\" style=\"stroke: #383838; stroke-width: 1.0;\"/><polygon fill=\"#FFFFFF\" points=\"126,204.61,119,185.61,133,185.61,126,204.61\" style=\"stroke: #383838; stroke-width: 1.0;\"/><ellipse cx=\"121\" cy=\"179.91\" fill=\"#383838\" rx=\"2\" ry=\"2\" style=\"stroke: #383838; stroke-width: 1.0;\"/><ellipse cx=\"131\" cy=\"179.91\" fill=\"#383838\" rx=\"2\" ry=\"2\" style=\"stroke: #383838; stroke-width: 1.0;\"/></a><!--MD5=[feeac5eb423634930294aa81f2d25a4c]\n",
       "link E10 to E3--><a href=\"psysml:21a673ac-f9f6-428c-a165-60ea4300f397\" target=\"_top\" title=\"psysml:21a673ac-f9f6-428c-a165-60ea4300f397\" xlink:actuate=\"onRequest\" xlink:href=\"psysml:21a673ac-f9f6-428c-a165-60ea4300f397\" xlink:show=\"new\" xlink:title=\"psysml:21a673ac-f9f6-428c-a165-60ea4300f397\" xlink:type=\"simple\"><path d=\"M276.1,130.1 C273.39,145.45 269.7,166.39 266.44,184.87 \" fill=\"none\" id=\"E10-&gt;E3\" style=\"stroke: #383838; stroke-width: 1.0;\"/><polygon fill=\"#FFFFFF\" points=\"262.95,204.61,259.3535,184.6835,273.1411,187.1131,262.95,204.61\" style=\"stroke: #383838; stroke-width: 1.0;\"/><ellipse cx=\"262.3123\" cy=\"179.4171\" fill=\"#383838\" rx=\"2\" ry=\"2\" style=\"stroke: #383838; stroke-width: 1.0;\"/><ellipse cx=\"272.1606\" cy=\"181.1525\" fill=\"#383838\" rx=\"2\" ry=\"2\" style=\"stroke: #383838; stroke-width: 1.0;\"/></a><!--MD5=[19fa32203dc4bc4da88802bad7aa385f]\n",
       "@startuml\r\n",
       "top to bottom direction\r\n",
       "skinparam monochrome true\r\n",
       "skinparam classbackgroundcolor white\r\n",
       "skinparam shadowing false\r\n",
       "skinparam wrapWidth 300\r\n",
       "hide circle\r\n",
       "\r\n",
       "package \"PrivateImportTest\" as E1  [[psysml:2415ca44-1de1-4a98-b3f0-a39d5285a5bd ]]  {\r\n",
       "package \"P1\" as E2  [[psysml:426e250f-8977-4e89-b166-3835fc91b530 ]]  {\r\n",
       "comp def \"A\" as E3  <<(T,blue) part  def>> [[psysml:0a0c0374-c89d-44f1-8ff3-be2f7c1a5b8f ]] {\r\n",
       "}\r\n",
       "}\r\n",
       "package \"P2\" as E4  [[psysml:9b62d657-9794-4032-9fa2-9f176e634d4a ]]  {\r\n",
       "}\r\n",
       "comp usage \"x: A \" as E5  <<(T,blue) part>> [[psysml:99b80f3a-0072-46fe-b843-b9a836066a51 ]] {\r\n",
       "}\r\n",
       "package \"P3\" as E6  [[psysml:fe85458f-8707-492f-a6ea-e7b6b29e5b91 ]]  {\r\n",
       "comp def \"B\" as E7  <<(T,blue) part  def>> [[psysml:af99adbc-0034-4f7c-9fbe-52493ca28392 ]] {\r\n",
       "}\r\n",
       "}\r\n",
       "comp usage \"z: B \" as E8  <<(T,blue) part>> [[psysml:a38466df-faf8-4af5-a290-fb7428072c5f ]] {\r\n",
       "}\r\n",
       "package \"P4\" as E9  [[psysml:77a03853-3516-49bc-9a88-c5db4c10002c ]]  {\r\n",
       "comp usage \"z1: A \" as E10  <<(T,blue) part>> [[psysml:d7dc5bce-b37d-4e4e-a49c-d44e6595ca7b ]] {\r\n",
       "}\r\n",
       "}\r\n",
       "}\r\n",
       "E5 - -:|> E3 [[psysml:2e6435ee-ec1e-47e4-8fad-fb77072556f4 ]] \r\n",
       "E8 - -:|> E7 [[psysml:f11bc7c0-c938-426a-87a4-76c9b47cac7e ]] \r\n",
       "E10 - -:|> E3 [[psysml:21a673ac-f9f6-428c-a165-60ea4300f397 ]] \r\n",
       "@enduml\r\n",
       "\n",
       "PlantUML version 1.2020.13(Sat Jun 13 12:26:38 UTC 2020)\n",
       "(EPL source distribution)\n",
       "Java Runtime: OpenJDK Runtime Environment\n",
       "JVM: OpenJDK 64-Bit Server VM\n",
       "Default Encoding: UTF-8\n",
       "Language: en\n",
       "Country: null\n",
       "--></g></svg>"
      ]
     },
     "execution_count": 45,
     "metadata": {},
     "output_type": "execute_result"
    }
   ],
   "source": [
    "%viz --style=\"TB\" --view=\"Tree\" \"PrivateImportTest\""
   ]
  },
  {
   "cell_type": "code",
   "execution_count": 46,
   "id": "6adcc213",
   "metadata": {
    "execution": {
     "iopub.execute_input": "2021-10-25T08:22:23.308246Z",
     "iopub.status.busy": "2021-10-25T08:22:23.307750Z",
     "iopub.status.idle": "2021-10-25T08:22:23.313140Z",
     "shell.execute_reply": "2021-10-25T08:22:23.312747Z"
    }
   },
   "outputs": [
    {
     "data": {
      "image/svg+xml": [
       "<?xml version=\"1.0\" encoding=\"UTF-8\" standalone=\"no\"?><svg xmlns=\"http://www.w3.org/2000/svg\" xmlns:xlink=\"http://www.w3.org/1999/xlink\" contentScriptType=\"application/ecmascript\" contentStyleType=\"text/css\" height=\"12px\" preserveAspectRatio=\"none\" style=\"width:12px;height:12px;\" version=\"1.1\" viewBox=\"0 0 12 12\" width=\"12px\" zoomAndPan=\"magnify\"><defs/><g><!--MD5=[f4ee21bc66e489b5061b7c3e9601fdef]\n",
       "@startuml\r\n",
       "top to bottom direction\r\n",
       "skinparam monochrome true\r\n",
       "skinparam classbackgroundcolor white\r\n",
       "skinparam shadowing false\r\n",
       "skinparam wrapWidth 300\r\n",
       "hide circle\r\n",
       "\r\n",
       "@enduml\r\n",
       "\n",
       "PlantUML version 1.2020.13(Sat Jun 13 12:26:38 UTC 2020)\n",
       "(EPL source distribution)\n",
       "Java Runtime: OpenJDK Runtime Environment\n",
       "JVM: OpenJDK 64-Bit Server VM\n",
       "Default Encoding: UTF-8\n",
       "Language: en\n",
       "Country: null\n",
       "--></g></svg>"
      ]
     },
     "execution_count": 46,
     "metadata": {},
     "output_type": "execute_result"
    }
   ],
   "source": [
    "%viz --style=\"TB\" --view=\"State\" \"PrivateImportTest\""
   ]
  },
  {
   "cell_type": "code",
   "execution_count": 47,
   "id": "89dece6d",
   "metadata": {
    "execution": {
     "iopub.execute_input": "2021-10-25T08:22:23.362987Z",
     "iopub.status.busy": "2021-10-25T08:22:23.362315Z",
     "iopub.status.idle": "2021-10-25T08:22:23.395394Z",
     "shell.execute_reply": "2021-10-25T08:22:23.393542Z"
    }
   },
   "outputs": [
    {
     "data": {
      "image/svg+xml": [
       "<?xml version=\"1.0\" encoding=\"UTF-8\" standalone=\"no\"?><svg xmlns=\"http://www.w3.org/2000/svg\" xmlns:xlink=\"http://www.w3.org/1999/xlink\" contentScriptType=\"application/ecmascript\" contentStyleType=\"text/css\" height=\"179px\" preserveAspectRatio=\"none\" style=\"width:647px;height:179px;\" version=\"1.1\" viewBox=\"0 0 647 179\" width=\"647px\" zoomAndPan=\"magnify\"><defs/><g><!--MD5=[fbc87193dbaf4d95561dea2c320d4a47]\n",
       "cluster E1--><a href=\"psysml:2415ca44-1de1-4a98-b3f0-a39d5285a5bd\" target=\"_top\" title=\"psysml:2415ca44-1de1-4a98-b3f0-a39d5285a5bd\" xlink:actuate=\"onRequest\" xlink:href=\"psysml:2415ca44-1de1-4a98-b3f0-a39d5285a5bd\" xlink:show=\"new\" xlink:title=\"psysml:2415ca44-1de1-4a98-b3f0-a39d5285a5bd\" xlink:type=\"simple\"><polygon fill=\"#FFFFFF\" points=\"16,6,143,6,150,28.2969,625,28.2969,625,167,16,167,16,6\" style=\"stroke: #000000; stroke-width: 1.5;\"/><line style=\"stroke: #000000; stroke-width: 1.5;\" x1=\"16\" x2=\"150\" y1=\"28.2969\" y2=\"28.2969\"/><text fill=\"#000000\" font-family=\"sans-serif\" font-size=\"14\" font-weight=\"bold\" lengthAdjust=\"spacingAndGlyphs\" textLength=\"121\" x=\"20\" y=\"20.9951\">PrivateImportTest</text></a><!--MD5=[e4f7fae6ed58524ba242bb0b0d3be6b7]\n",
       "cluster E2--><a href=\"psysml:426e250f-8977-4e89-b166-3835fc91b530\" target=\"_top\" title=\"psysml:426e250f-8977-4e89-b166-3835fc91b530\" xlink:actuate=\"onRequest\" xlink:href=\"psysml:426e250f-8977-4e89-b166-3835fc91b530\" xlink:show=\"new\" xlink:title=\"psysml:426e250f-8977-4e89-b166-3835fc91b530\" xlink:type=\"simple\"><polygon fill=\"#FFFFFF\" points=\"495,49,519,49,526,71.2969,601,71.2969,601,143,495,143,495,49\" style=\"stroke: #000000; stroke-width: 1.5;\"/><line style=\"stroke: #000000; stroke-width: 1.5;\" x1=\"495\" x2=\"526\" y1=\"71.2969\" y2=\"71.2969\"/><text fill=\"#000000\" font-family=\"sans-serif\" font-size=\"14\" font-weight=\"bold\" lengthAdjust=\"spacingAndGlyphs\" textLength=\"18\" x=\"499\" y=\"63.9951\">P1</text></a><!--MD5=[14e3b0961a2654348d326746436168a1]\n",
       "cluster E6--><a href=\"psysml:fe85458f-8707-492f-a6ea-e7b6b29e5b91\" target=\"_top\" title=\"psysml:fe85458f-8707-492f-a6ea-e7b6b29e5b91\" xlink:actuate=\"onRequest\" xlink:href=\"psysml:fe85458f-8707-492f-a6ea-e7b6b29e5b91\" xlink:show=\"new\" xlink:title=\"psysml:fe85458f-8707-492f-a6ea-e7b6b29e5b91\" xlink:type=\"simple\"><polygon fill=\"#FFFFFF\" points=\"365,49,389,49,396,71.2969,471,71.2969,471,143,365,143,365,49\" style=\"stroke: #000000; stroke-width: 1.5;\"/><line style=\"stroke: #000000; stroke-width: 1.5;\" x1=\"365\" x2=\"396\" y1=\"71.2969\" y2=\"71.2969\"/><text fill=\"#000000\" font-family=\"sans-serif\" font-size=\"14\" font-weight=\"bold\" lengthAdjust=\"spacingAndGlyphs\" textLength=\"18\" x=\"369\" y=\"63.9951\">P3</text></a><!--MD5=[7f149f147074ac12df2cb0a7728a5fb0]\n",
       "cluster E9--><a href=\"psysml:77a03853-3516-49bc-9a88-c5db4c10002c\" target=\"_top\" title=\"psysml:77a03853-3516-49bc-9a88-c5db4c10002c\" xlink:actuate=\"onRequest\" xlink:href=\"psysml:77a03853-3516-49bc-9a88-c5db4c10002c\" xlink:show=\"new\" xlink:title=\"psysml:77a03853-3516-49bc-9a88-c5db4c10002c\" xlink:type=\"simple\"><polygon fill=\"#FFFFFF\" points=\"259,50.5,283,50.5,290,72.7969,341,72.7969,341,141.5,259,141.5,259,50.5\" style=\"stroke: #000000; stroke-width: 1.5;\"/><line style=\"stroke: #000000; stroke-width: 1.5;\" x1=\"259\" x2=\"290\" y1=\"72.7969\" y2=\"72.7969\"/><text fill=\"#000000\" font-family=\"sans-serif\" font-size=\"14\" font-weight=\"bold\" lengthAdjust=\"spacingAndGlyphs\" textLength=\"18\" x=\"263\" y=\"65.4951\">P4</text></a><g id=\"E1.E2.E3\"><a href=\"psysml:0a0c0374-c89d-44f1-8ff3-be2f7c1a5b8f\" target=\"_top\" title=\"psysml:0a0c0374-c89d-44f1-8ff3-be2f7c1a5b8f\" xlink:actuate=\"onRequest\" xlink:href=\"psysml:0a0c0374-c89d-44f1-8ff3-be2f7c1a5b8f\" xlink:show=\"new\" xlink:title=\"psysml:0a0c0374-c89d-44f1-8ff3-be2f7c1a5b8f\" xlink:type=\"simple\"><rect fill=\"#FFFFFF\" height=\"42.9375\" id=\"E3\" style=\"stroke: #383838; stroke-width: 1.5;\" width=\"75\" x=\"510.5\" y=\"84\"/><rect fill=\"#F8F8F8\" height=\"37.9375\" style=\"stroke: #383838; stroke-width: 1.5;\" width=\"75\" x=\"510.5\" y=\"84\"/><text fill=\"#000000\" font-family=\"sans-serif\" font-size=\"12\" font-style=\"italic\" lengthAdjust=\"spacingAndGlyphs\" textLength=\"68\" x=\"514\" y=\"100.1387\">«part  def»</text><text fill=\"#000000\" font-family=\"sans-serif\" font-size=\"12\" lengthAdjust=\"spacingAndGlyphs\" textLength=\"8\" x=\"544\" y=\"114.1074\">A</text></a></g><a href=\"psysml:9b62d657-9794-4032-9fa2-9f176e634d4a\" target=\"_top\" title=\"psysml:9b62d657-9794-4032-9fa2-9f176e634d4a\" xlink:actuate=\"onRequest\" xlink:href=\"psysml:9b62d657-9794-4032-9fa2-9f176e634d4a\" xlink:show=\"new\" xlink:title=\"psysml:9b62d657-9794-4032-9fa2-9f176e634d4a\" xlink:type=\"simple\"><polygon fill=\"#FFFFFF\" points=\"202,79,226,79,233,101.2969,240,101.2969,240,131.5938,202,131.5938,202,79\" style=\"stroke: #000000; stroke-width: 1.5;\"/><line style=\"stroke: #000000; stroke-width: 1.5;\" x1=\"202\" x2=\"233\" y1=\"101.2969\" y2=\"101.2969\"/><text fill=\"#000000\" font-family=\"sans-serif\" font-size=\"14\" font-weight=\"bold\" lengthAdjust=\"spacingAndGlyphs\" textLength=\"18\" x=\"206\" y=\"93.9951\">P2</text></a><g id=\"E1.E5\"><a href=\"psysml:99b80f3a-0072-46fe-b843-b9a836066a51\" target=\"_top\" title=\"psysml:99b80f3a-0072-46fe-b843-b9a836066a51\" xlink:actuate=\"onRequest\" xlink:href=\"psysml:99b80f3a-0072-46fe-b843-b9a836066a51\" xlink:show=\"new\" xlink:title=\"psysml:99b80f3a-0072-46fe-b843-b9a836066a51\" xlink:type=\"simple\"><rect fill=\"#FFFFFF\" height=\"40\" id=\"E5\" rx=\"10\" ry=\"10\" style=\"stroke: #383838; stroke-width: 1.5;\" width=\"50\" x=\"117\" y=\"85.5\"/><rect fill=\"#F8F8F8\" height=\"23.9688\" rx=\"10\" ry=\"10\" style=\"stroke: #F8F8F8; stroke-width: 1.5;\" width=\"50\" x=\"117\" y=\"85.5\"/><rect fill=\"#F8F8F8\" height=\"10\" style=\"stroke: #F8F8F8; stroke-width: 1.5;\" width=\"50\" x=\"117\" y=\"99.4688\"/><rect fill=\"none\" height=\"40\" id=\"E5\" rx=\"10\" ry=\"10\" style=\"stroke: #383838; stroke-width: 1.5;\" width=\"50\" x=\"117\" y=\"85.5\"/><text fill=\"#000000\" font-family=\"sans-serif\" font-size=\"12\" lengthAdjust=\"spacingAndGlyphs\" textLength=\"22\" x=\"131\" y=\"101.6387\">x: A</text></a></g><g id=\"E1.E6.E7\"><a href=\"psysml:af99adbc-0034-4f7c-9fbe-52493ca28392\" target=\"_top\" title=\"psysml:af99adbc-0034-4f7c-9fbe-52493ca28392\" xlink:actuate=\"onRequest\" xlink:href=\"psysml:af99adbc-0034-4f7c-9fbe-52493ca28392\" xlink:show=\"new\" xlink:title=\"psysml:af99adbc-0034-4f7c-9fbe-52493ca28392\" xlink:type=\"simple\"><rect fill=\"#FFFFFF\" height=\"42.9375\" id=\"E7\" style=\"stroke: #383838; stroke-width: 1.5;\" width=\"75\" x=\"380.5\" y=\"84\"/><rect fill=\"#F8F8F8\" height=\"37.9375\" style=\"stroke: #383838; stroke-width: 1.5;\" width=\"75\" x=\"380.5\" y=\"84\"/><text fill=\"#000000\" font-family=\"sans-serif\" font-size=\"12\" font-style=\"italic\" lengthAdjust=\"spacingAndGlyphs\" textLength=\"68\" x=\"384\" y=\"100.1387\">«part  def»</text><text fill=\"#000000\" font-family=\"sans-serif\" font-size=\"12\" lengthAdjust=\"spacingAndGlyphs\" textLength=\"8\" x=\"414\" y=\"114.1074\">B</text></a></g><g id=\"E1.E8\"><a href=\"psysml:a38466df-faf8-4af5-a290-fb7428072c5f\" target=\"_top\" title=\"psysml:a38466df-faf8-4af5-a290-fb7428072c5f\" xlink:actuate=\"onRequest\" xlink:href=\"psysml:a38466df-faf8-4af5-a290-fb7428072c5f\" xlink:show=\"new\" xlink:title=\"psysml:a38466df-faf8-4af5-a290-fb7428072c5f\" xlink:type=\"simple\"><rect fill=\"#FFFFFF\" height=\"40\" id=\"E8\" rx=\"10\" ry=\"10\" style=\"stroke: #383838; stroke-width: 1.5;\" width=\"50\" x=\"32\" y=\"85.5\"/><rect fill=\"#F8F8F8\" height=\"23.9688\" rx=\"10\" ry=\"10\" style=\"stroke: #F8F8F8; stroke-width: 1.5;\" width=\"50\" x=\"32\" y=\"85.5\"/><rect fill=\"#F8F8F8\" height=\"10\" style=\"stroke: #F8F8F8; stroke-width: 1.5;\" width=\"50\" x=\"32\" y=\"99.4688\"/><rect fill=\"none\" height=\"40\" id=\"E8\" rx=\"10\" ry=\"10\" style=\"stroke: #383838; stroke-width: 1.5;\" width=\"50\" x=\"32\" y=\"85.5\"/><text fill=\"#000000\" font-family=\"sans-serif\" font-size=\"12\" lengthAdjust=\"spacingAndGlyphs\" textLength=\"21\" x=\"46.5\" y=\"101.6387\">z: B</text></a></g><g id=\"E1.E9.E10\"><a href=\"psysml:d7dc5bce-b37d-4e4e-a49c-d44e6595ca7b\" target=\"_top\" title=\"psysml:d7dc5bce-b37d-4e4e-a49c-d44e6595ca7b\" xlink:actuate=\"onRequest\" xlink:href=\"psysml:d7dc5bce-b37d-4e4e-a49c-d44e6595ca7b\" xlink:show=\"new\" xlink:title=\"psysml:d7dc5bce-b37d-4e4e-a49c-d44e6595ca7b\" xlink:type=\"simple\"><rect fill=\"#FFFFFF\" height=\"40\" id=\"E10\" rx=\"10\" ry=\"10\" style=\"stroke: #383838; stroke-width: 1.5;\" width=\"50\" x=\"275\" y=\"85.5\"/><rect fill=\"#F8F8F8\" height=\"23.9688\" rx=\"10\" ry=\"10\" style=\"stroke: #F8F8F8; stroke-width: 1.5;\" width=\"50\" x=\"275\" y=\"85.5\"/><rect fill=\"#F8F8F8\" height=\"10\" style=\"stroke: #F8F8F8; stroke-width: 1.5;\" width=\"50\" x=\"275\" y=\"99.4688\"/><rect fill=\"none\" height=\"40\" id=\"E10\" rx=\"10\" ry=\"10\" style=\"stroke: #383838; stroke-width: 1.5;\" width=\"50\" x=\"275\" y=\"85.5\"/><text fill=\"#000000\" font-family=\"sans-serif\" font-size=\"12\" lengthAdjust=\"spacingAndGlyphs\" textLength=\"29\" x=\"285.5\" y=\"101.6387\">z1: A</text></a></g><!--MD5=[b2d81ca556b300c21538b81a0da3bf45]\n",
       "@startuml\r\n",
       "skinparam ranksep 10\r\n",
       "skinparam rectangle {\r\n",
       " backgroundColor<<block>> LightGreen\r\n",
       "}\r\n",
       "top to bottom direction\r\n",
       "skinparam monochrome true\r\n",
       "skinparam classbackgroundcolor white\r\n",
       "skinparam shadowing false\r\n",
       "skinparam wrapWidth 300\r\n",
       "hide circle\r\n",
       "\r\n",
       "package \"PrivateImportTest\" as E1  [[psysml:2415ca44-1de1-4a98-b3f0-a39d5285a5bd ]]  {\r\n",
       "package \"P1\" as E2  [[psysml:426e250f-8977-4e89-b166-3835fc91b530 ]]  {\r\n",
       "rec def \"A\" as E3  <<(T,blue) part  def>> [[psysml:0a0c0374-c89d-44f1-8ff3-be2f7c1a5b8f ]] {\r\n",
       "}\r\n",
       "}\r\n",
       "package \"P2\" as E4  [[psysml:9b62d657-9794-4032-9fa2-9f176e634d4a ]]  {\r\n",
       "}\r\n",
       "rec usage \"x: A\" as E5  [[psysml:99b80f3a-0072-46fe-b843-b9a836066a51 ]] {\r\n",
       "}\r\n",
       "package \"P3\" as E6  [[psysml:fe85458f-8707-492f-a6ea-e7b6b29e5b91 ]]  {\r\n",
       "rec def \"B\" as E7  <<(T,blue) part  def>> [[psysml:af99adbc-0034-4f7c-9fbe-52493ca28392 ]] {\r\n",
       "}\r\n",
       "}\r\n",
       "rec usage \"z: B\" as E8  [[psysml:a38466df-faf8-4af5-a290-fb7428072c5f ]] {\r\n",
       "}\r\n",
       "package \"P4\" as E9  [[psysml:77a03853-3516-49bc-9a88-c5db4c10002c ]]  {\r\n",
       "rec usage \"z1: A\" as E10  [[psysml:d7dc5bce-b37d-4e4e-a49c-d44e6595ca7b ]] {\r\n",
       "}\r\n",
       "}\r\n",
       "}\r\n",
       "@enduml\r\n",
       "\n",
       "PlantUML version 1.2020.13(Sat Jun 13 12:26:38 UTC 2020)\n",
       "(EPL source distribution)\n",
       "Java Runtime: OpenJDK Runtime Environment\n",
       "JVM: OpenJDK 64-Bit Server VM\n",
       "Default Encoding: UTF-8\n",
       "Language: en\n",
       "Country: null\n",
       "--></g></svg>"
      ]
     },
     "execution_count": 47,
     "metadata": {},
     "output_type": "execute_result"
    }
   ],
   "source": [
    "%viz --style=\"TB\" --view=\"Interconnection\" \"PrivateImportTest\""
   ]
  },
  {
   "cell_type": "code",
   "execution_count": 48,
   "id": "74759f55",
   "metadata": {
    "execution": {
     "iopub.execute_input": "2021-10-25T08:22:23.444601Z",
     "iopub.status.busy": "2021-10-25T08:22:23.444155Z",
     "iopub.status.idle": "2021-10-25T08:22:23.449850Z",
     "shell.execute_reply": "2021-10-25T08:22:23.449477Z"
    }
   },
   "outputs": [
    {
     "data": {
      "image/svg+xml": [
       "<?xml version=\"1.0\" encoding=\"UTF-8\" standalone=\"no\"?><svg xmlns=\"http://www.w3.org/2000/svg\" xmlns:xlink=\"http://www.w3.org/1999/xlink\" contentScriptType=\"application/ecmascript\" contentStyleType=\"text/css\" height=\"12px\" preserveAspectRatio=\"none\" style=\"width:12px;height:12px;\" version=\"1.1\" viewBox=\"0 0 12 12\" width=\"12px\" zoomAndPan=\"magnify\"><defs/><g><!--MD5=[06afc254b03ac5e9d9fb7773b07d0800]\n",
       "@startuml\r\n",
       "skinparam ranksep 8\r\n",
       "top to bottom direction\r\n",
       "skinparam monochrome true\r\n",
       "skinparam classbackgroundcolor white\r\n",
       "skinparam shadowing false\r\n",
       "skinparam wrapWidth 300\r\n",
       "hide circle\r\n",
       "\r\n",
       "@enduml\r\n",
       "\n",
       "PlantUML version 1.2020.13(Sat Jun 13 12:26:38 UTC 2020)\n",
       "(EPL source distribution)\n",
       "Java Runtime: OpenJDK Runtime Environment\n",
       "JVM: OpenJDK 64-Bit Server VM\n",
       "Default Encoding: UTF-8\n",
       "Language: en\n",
       "Country: null\n",
       "--></g></svg>"
      ]
     },
     "execution_count": 48,
     "metadata": {},
     "output_type": "execute_result"
    }
   ],
   "source": [
    "%viz --style=\"TB\" --view=\"Action\" \"PrivateImportTest\""
   ]
  },
  {
   "cell_type": "code",
   "execution_count": 49,
   "id": "8f1cc1fd",
   "metadata": {
    "execution": {
     "iopub.execute_input": "2021-10-25T08:22:23.499417Z",
     "iopub.status.busy": "2021-10-25T08:22:23.498977Z",
     "iopub.status.idle": "2021-10-25T08:22:23.505766Z",
     "shell.execute_reply": "2021-10-25T08:22:23.505374Z"
    }
   },
   "outputs": [
    {
     "data": {
      "image/svg+xml": [
       "<?xml version=\"1.0\" encoding=\"UTF-8\" standalone=\"no\"?><svg xmlns=\"http://www.w3.org/2000/svg\" xmlns:xlink=\"http://www.w3.org/1999/xlink\" contentScriptType=\"application/ecmascript\" contentStyleType=\"text/css\" height=\"12px\" preserveAspectRatio=\"none\" style=\"width:12px;height:12px;\" version=\"1.1\" viewBox=\"0 0 12 12\" width=\"12px\" zoomAndPan=\"magnify\"><defs/><g><!--MD5=[e1ab0c84c44d2fef8bf5f140f2689906]\n",
       "@startuml\r\n",
       "skinparam roundcorner 20\r\n",
       "skinparam BoxPadding 20\r\n",
       "skinparam SequenceBoxBackgroundColor #white\r\n",
       "skinparam style strictuml\r\n",
       "skinparam maxMessageSize 100\r\n",
       "top to bottom direction\r\n",
       "skinparam monochrome true\r\n",
       "skinparam classbackgroundcolor white\r\n",
       "skinparam shadowing false\r\n",
       "skinparam wrapWidth 300\r\n",
       "hide circle\r\n",
       "\r\n",
       "@enduml\r\n",
       "\n",
       "PlantUML version 1.2020.13(Sat Jun 13 12:26:38 UTC 2020)\n",
       "(EPL source distribution)\n",
       "Java Runtime: OpenJDK Runtime Environment\n",
       "JVM: OpenJDK 64-Bit Server VM\n",
       "Default Encoding: UTF-8\n",
       "Language: en\n",
       "Country: null\n",
       "--></g></svg>"
      ]
     },
     "execution_count": 49,
     "metadata": {},
     "output_type": "execute_result"
    }
   ],
   "source": [
    "%viz --style=\"TB\" --view=\"Sequence\" \"PrivateImportTest\""
   ]
  },
  {
   "cell_type": "code",
   "execution_count": 50,
   "id": "0777c1ba",
   "metadata": {
    "execution": {
     "iopub.execute_input": "2021-10-25T08:22:23.554832Z",
     "iopub.status.busy": "2021-10-25T08:22:23.554401Z",
     "iopub.status.idle": "2021-10-25T08:22:23.585571Z",
     "shell.execute_reply": "2021-10-25T08:22:23.583682Z"
    }
   },
   "outputs": [
    {
     "data": {
      "image/svg+xml": [
       "<?xml version=\"1.0\" encoding=\"UTF-8\" standalone=\"no\"?><svg xmlns=\"http://www.w3.org/2000/svg\" xmlns:xlink=\"http://www.w3.org/1999/xlink\" contentScriptType=\"application/ecmascript\" contentStyleType=\"text/css\" height=\"303px\" preserveAspectRatio=\"none\" style=\"width:363px;height:303px;\" version=\"1.1\" viewBox=\"0 0 363 303\" width=\"363px\" zoomAndPan=\"magnify\"><defs/><g><!--MD5=[fbc87193dbaf4d95561dea2c320d4a47]\n",
       "cluster E1--><a href=\"psysml:2415ca44-1de1-4a98-b3f0-a39d5285a5bd\" target=\"_top\" title=\"psysml:2415ca44-1de1-4a98-b3f0-a39d5285a5bd\" xlink:actuate=\"onRequest\" xlink:href=\"psysml:2415ca44-1de1-4a98-b3f0-a39d5285a5bd\" xlink:show=\"new\" xlink:title=\"psysml:2415ca44-1de1-4a98-b3f0-a39d5285a5bd\" xlink:type=\"simple\"><polygon fill=\"#FFFFFF\" points=\"16,6,143,6,150,28.2969,341,28.2969,341,291,16,291,16,6\" style=\"stroke: #000000; stroke-width: 1.5;\"/><line style=\"stroke: #000000; stroke-width: 1.5;\" x1=\"16\" x2=\"150\" y1=\"28.2969\" y2=\"28.2969\"/><text fill=\"#000000\" font-family=\"sans-serif\" font-size=\"14\" font-weight=\"bold\" lengthAdjust=\"spacingAndGlyphs\" textLength=\"121\" x=\"20\" y=\"20.9951\">PrivateImportTest</text></a><!--MD5=[e4f7fae6ed58524ba242bb0b0d3be6b7]\n",
       "cluster E2--><a href=\"psysml:426e250f-8977-4e89-b166-3835fc91b530\" target=\"_top\" title=\"psysml:426e250f-8977-4e89-b166-3835fc91b530\" xlink:actuate=\"onRequest\" xlink:href=\"psysml:426e250f-8977-4e89-b166-3835fc91b530\" xlink:show=\"new\" xlink:title=\"psysml:426e250f-8977-4e89-b166-3835fc91b530\" xlink:type=\"simple\"><polygon fill=\"#FFFFFF\" points=\"208,170,232,170,239,192.2969,310,192.2969,310,267,208,267,208,170\" style=\"stroke: #000000; stroke-width: 1.5;\"/><line style=\"stroke: #000000; stroke-width: 1.5;\" x1=\"208\" x2=\"239\" y1=\"192.2969\" y2=\"192.2969\"/><text fill=\"#000000\" font-family=\"sans-serif\" font-size=\"14\" font-weight=\"bold\" lengthAdjust=\"spacingAndGlyphs\" textLength=\"18\" x=\"212\" y=\"184.9951\">P1</text></a><!--MD5=[14e3b0961a2654348d326746436168a1]\n",
       "cluster E6--><a href=\"psysml:fe85458f-8707-492f-a6ea-e7b6b29e5b91\" target=\"_top\" title=\"psysml:fe85458f-8707-492f-a6ea-e7b6b29e5b91\" xlink:actuate=\"onRequest\" xlink:href=\"psysml:fe85458f-8707-492f-a6ea-e7b6b29e5b91\" xlink:show=\"new\" xlink:title=\"psysml:fe85458f-8707-492f-a6ea-e7b6b29e5b91\" xlink:type=\"simple\"><polygon fill=\"#FFFFFF\" points=\"75,170,99,170,106,192.2969,177,192.2969,177,267,75,267,75,170\" style=\"stroke: #000000; stroke-width: 1.5;\"/><line style=\"stroke: #000000; stroke-width: 1.5;\" x1=\"75\" x2=\"106\" y1=\"192.2969\" y2=\"192.2969\"/><text fill=\"#000000\" font-family=\"sans-serif\" font-size=\"14\" font-weight=\"bold\" lengthAdjust=\"spacingAndGlyphs\" textLength=\"18\" x=\"79\" y=\"184.9951\">P3</text></a><!--MD5=[7f149f147074ac12df2cb0a7728a5fb0]\n",
       "cluster E9--><a href=\"psysml:77a03853-3516-49bc-9a88-c5db4c10002c\" target=\"_top\" title=\"psysml:77a03853-3516-49bc-9a88-c5db4c10002c\" xlink:actuate=\"onRequest\" xlink:href=\"psysml:77a03853-3516-49bc-9a88-c5db4c10002c\" xlink:show=\"new\" xlink:title=\"psysml:77a03853-3516-49bc-9a88-c5db4c10002c\" xlink:type=\"simple\"><polygon fill=\"#FFFFFF\" points=\"243,49,267,49,274,71.2969,317,71.2969,317,146,243,146,243,49\" style=\"stroke: #000000; stroke-width: 1.5;\"/><line style=\"stroke: #000000; stroke-width: 1.5;\" x1=\"243\" x2=\"274\" y1=\"71.2969\" y2=\"71.2969\"/><text fill=\"#000000\" font-family=\"sans-serif\" font-size=\"14\" font-weight=\"bold\" lengthAdjust=\"spacingAndGlyphs\" textLength=\"18\" x=\"247\" y=\"63.9951\">P4</text></a><!--MD5=[270fce915f116d4de14055a7c1d9a0f3]\n",
       "class E5--><a href=\"psysml:99b80f3a-0072-46fe-b843-b9a836066a51\" target=\"_top\" title=\"psysml:99b80f3a-0072-46fe-b843-b9a836066a51\" xlink:actuate=\"onRequest\" xlink:href=\"psysml:99b80f3a-0072-46fe-b843-b9a836066a51\" xlink:show=\"new\" xlink:title=\"psysml:99b80f3a-0072-46fe-b843-b9a836066a51\" xlink:type=\"simple\"><rect fill=\"#FFFFFF\" height=\"45.9375\" id=\"E5\" rx=\"10\" ry=\"10\" style=\"stroke: #383838; stroke-width: 1.5;\" width=\"42\" x=\"182\" y=\"84\"/><text fill=\"#000000\" font-family=\"sans-serif\" font-size=\"12\" font-style=\"italic\" lengthAdjust=\"spacingAndGlyphs\" textLength=\"40\" x=\"183\" y=\"100.1387\">«part»</text><text fill=\"#000000\" font-family=\"sans-serif\" font-size=\"12\" lengthAdjust=\"spacingAndGlyphs\" textLength=\"22\" x=\"190\" y=\"114.1074\">x: A</text><line style=\"stroke: #383838; stroke-width: 1.5;\" x1=\"183\" x2=\"223\" y1=\"121.9375\" y2=\"121.9375\"/></a><!--MD5=[b9389687b975829384b498ac4b7476b2]\n",
       "class E8--><a href=\"psysml:a38466df-faf8-4af5-a290-fb7428072c5f\" target=\"_top\" title=\"psysml:a38466df-faf8-4af5-a290-fb7428072c5f\" xlink:actuate=\"onRequest\" xlink:href=\"psysml:a38466df-faf8-4af5-a290-fb7428072c5f\" xlink:show=\"new\" xlink:title=\"psysml:a38466df-faf8-4af5-a290-fb7428072c5f\" xlink:type=\"simple\"><rect fill=\"#FFFFFF\" height=\"45.9375\" id=\"E8\" rx=\"10\" ry=\"10\" style=\"stroke: #383838; stroke-width: 1.5;\" width=\"42\" x=\"105\" y=\"84\"/><text fill=\"#000000\" font-family=\"sans-serif\" font-size=\"12\" font-style=\"italic\" lengthAdjust=\"spacingAndGlyphs\" textLength=\"40\" x=\"106\" y=\"100.1387\">«part»</text><text fill=\"#000000\" font-family=\"sans-serif\" font-size=\"12\" lengthAdjust=\"spacingAndGlyphs\" textLength=\"21\" x=\"113.5\" y=\"114.1074\">z: B</text><line style=\"stroke: #383838; stroke-width: 1.5;\" x1=\"106\" x2=\"146\" y1=\"121.9375\" y2=\"121.9375\"/></a><!--MD5=[09b614a08d8cba4a07c9adeb5e0fee81]\n",
       "class E3--><a href=\"psysml:0a0c0374-c89d-44f1-8ff3-be2f7c1a5b8f\" target=\"_top\" title=\"psysml:0a0c0374-c89d-44f1-8ff3-be2f7c1a5b8f\" xlink:actuate=\"onRequest\" xlink:href=\"psysml:0a0c0374-c89d-44f1-8ff3-be2f7c1a5b8f\" xlink:show=\"new\" xlink:title=\"psysml:0a0c0374-c89d-44f1-8ff3-be2f7c1a5b8f\" xlink:type=\"simple\"><rect fill=\"#FFFFFF\" height=\"45.9375\" id=\"E3\" style=\"stroke: #383838; stroke-width: 1.5;\" width=\"70\" x=\"224\" y=\"205\"/><text fill=\"#000000\" font-family=\"sans-serif\" font-size=\"12\" font-style=\"italic\" lengthAdjust=\"spacingAndGlyphs\" textLength=\"68\" x=\"225\" y=\"221.1387\">«part  def»</text><text fill=\"#000000\" font-family=\"sans-serif\" font-size=\"12\" lengthAdjust=\"spacingAndGlyphs\" textLength=\"8\" x=\"255\" y=\"235.1074\">A</text><line style=\"stroke: #383838; stroke-width: 1.5;\" x1=\"225\" x2=\"293\" y1=\"242.9375\" y2=\"242.9375\"/></a><a href=\"psysml:9b62d657-9794-4032-9fa2-9f176e634d4a\" target=\"_top\" title=\"psysml:9b62d657-9794-4032-9fa2-9f176e634d4a\" xlink:actuate=\"onRequest\" xlink:href=\"psysml:9b62d657-9794-4032-9fa2-9f176e634d4a\" xlink:show=\"new\" xlink:title=\"psysml:9b62d657-9794-4032-9fa2-9f176e634d4a\" xlink:type=\"simple\"><polygon fill=\"#FFFFFF\" points=\"32,80.5,56,80.5,63,102.7969,70,102.7969,70,133.0938,32,133.0938,32,80.5\" style=\"stroke: #000000; stroke-width: 1.5;\"/><line style=\"stroke: #000000; stroke-width: 1.5;\" x1=\"32\" x2=\"63\" y1=\"102.7969\" y2=\"102.7969\"/><text fill=\"#000000\" font-family=\"sans-serif\" font-size=\"14\" font-weight=\"bold\" lengthAdjust=\"spacingAndGlyphs\" textLength=\"18\" x=\"36\" y=\"95.4951\">P2</text></a><!--MD5=[2156ba9850f5573cc1fc38a6a4b2f02b]\n",
       "class E7--><a href=\"psysml:af99adbc-0034-4f7c-9fbe-52493ca28392\" target=\"_top\" title=\"psysml:af99adbc-0034-4f7c-9fbe-52493ca28392\" xlink:actuate=\"onRequest\" xlink:href=\"psysml:af99adbc-0034-4f7c-9fbe-52493ca28392\" xlink:show=\"new\" xlink:title=\"psysml:af99adbc-0034-4f7c-9fbe-52493ca28392\" xlink:type=\"simple\"><rect fill=\"#FFFFFF\" height=\"45.9375\" id=\"E7\" style=\"stroke: #383838; stroke-width: 1.5;\" width=\"70\" x=\"91\" y=\"205\"/><text fill=\"#000000\" font-family=\"sans-serif\" font-size=\"12\" font-style=\"italic\" lengthAdjust=\"spacingAndGlyphs\" textLength=\"68\" x=\"92\" y=\"221.1387\">«part  def»</text><text fill=\"#000000\" font-family=\"sans-serif\" font-size=\"12\" lengthAdjust=\"spacingAndGlyphs\" textLength=\"8\" x=\"122\" y=\"235.1074\">B</text><line style=\"stroke: #383838; stroke-width: 1.5;\" x1=\"92\" x2=\"160\" y1=\"242.9375\" y2=\"242.9375\"/></a><!--MD5=[96f4274e9e20536e775497830990834d]\n",
       "class E10--><a href=\"psysml:d7dc5bce-b37d-4e4e-a49c-d44e6595ca7b\" target=\"_top\" title=\"psysml:d7dc5bce-b37d-4e4e-a49c-d44e6595ca7b\" xlink:actuate=\"onRequest\" xlink:href=\"psysml:d7dc5bce-b37d-4e4e-a49c-d44e6595ca7b\" xlink:show=\"new\" xlink:title=\"psysml:d7dc5bce-b37d-4e4e-a49c-d44e6595ca7b\" xlink:type=\"simple\"><rect fill=\"#FFFFFF\" height=\"45.9375\" id=\"E10\" rx=\"10\" ry=\"10\" style=\"stroke: #383838; stroke-width: 1.5;\" width=\"42\" x=\"259\" y=\"84\"/><text fill=\"#000000\" font-family=\"sans-serif\" font-size=\"12\" font-style=\"italic\" lengthAdjust=\"spacingAndGlyphs\" textLength=\"40\" x=\"260\" y=\"100.1387\">«part»</text><text fill=\"#000000\" font-family=\"sans-serif\" font-size=\"12\" lengthAdjust=\"spacingAndGlyphs\" textLength=\"29\" x=\"263.5\" y=\"114.1074\">z1: A</text><line style=\"stroke: #383838; stroke-width: 1.5;\" x1=\"260\" x2=\"300\" y1=\"121.9375\" y2=\"121.9375\"/></a><!--MD5=[e9be52314489bd878ff4c7144b63c9e1]\n",
       "link E5 to E3--><a href=\"psysml:2e6435ee-ec1e-47e4-8fad-fb77072556f4\" target=\"_top\" title=\"psysml:2e6435ee-ec1e-47e4-8fad-fb77072556f4\" xlink:actuate=\"onRequest\" xlink:href=\"psysml:2e6435ee-ec1e-47e4-8fad-fb77072556f4\" xlink:show=\"new\" xlink:title=\"psysml:2e6435ee-ec1e-47e4-8fad-fb77072556f4\" xlink:type=\"simple\"><path d=\"M213.4,130.1 C220.82,145.87 231.01,167.52 239.88,186.36 \" fill=\"none\" id=\"E5-&gt;E3\" style=\"stroke: #383838; stroke-width: 1.0;\"/><polygon fill=\"#FFFFFF\" points=\"248.46,204.61,234.0383,190.3968,246.7067,184.4376,248.46,204.61\" style=\"stroke: #383838; stroke-width: 1.0;\"/><ellipse cx=\"233.4218\" cy=\"184.3877\" fill=\"#383838\" rx=\"2\" ry=\"2\" style=\"stroke: #383838; stroke-width: 1.0;\"/><ellipse cx=\"242.4706\" cy=\"180.1311\" fill=\"#383838\" rx=\"2\" ry=\"2\" style=\"stroke: #383838; stroke-width: 1.0;\"/></a><!--MD5=[bfa3c8b0d15052fdf50ae9310b491027]\n",
       "link E8 to E7--><a href=\"psysml:f11bc7c0-c938-426a-87a4-76c9b47cac7e\" target=\"_top\" title=\"psysml:f11bc7c0-c938-426a-87a4-76c9b47cac7e\" xlink:actuate=\"onRequest\" xlink:href=\"psysml:f11bc7c0-c938-426a-87a4-76c9b47cac7e\" xlink:show=\"new\" xlink:title=\"psysml:f11bc7c0-c938-426a-87a4-76c9b47cac7e\" xlink:type=\"simple\"><path d=\"M126,130.1 C126,145.37 126,166.16 126,184.57 \" fill=\"none\" id=\"E8-&gt;E7\" style=\"stroke: #383838; stroke-width: 1.0;\"/><polygon fill=\"#FFFFFF\" points=\"126,204.61,119,185.61,133,185.61,126,204.61\" style=\"stroke: #383838; stroke-width: 1.0;\"/><ellipse cx=\"121\" cy=\"179.91\" fill=\"#383838\" rx=\"2\" ry=\"2\" style=\"stroke: #383838; stroke-width: 1.0;\"/><ellipse cx=\"131\" cy=\"179.91\" fill=\"#383838\" rx=\"2\" ry=\"2\" style=\"stroke: #383838; stroke-width: 1.0;\"/></a><!--MD5=[feeac5eb423634930294aa81f2d25a4c]\n",
       "link E10 to E3--><a href=\"psysml:21a673ac-f9f6-428c-a165-60ea4300f397\" target=\"_top\" title=\"psysml:21a673ac-f9f6-428c-a165-60ea4300f397\" xlink:actuate=\"onRequest\" xlink:href=\"psysml:21a673ac-f9f6-428c-a165-60ea4300f397\" xlink:show=\"new\" xlink:title=\"psysml:21a673ac-f9f6-428c-a165-60ea4300f397\" xlink:type=\"simple\"><path d=\"M276.1,130.1 C273.39,145.45 269.7,166.39 266.44,184.87 \" fill=\"none\" id=\"E10-&gt;E3\" style=\"stroke: #383838; stroke-width: 1.0;\"/><polygon fill=\"#FFFFFF\" points=\"262.95,204.61,259.3535,184.6835,273.1411,187.1131,262.95,204.61\" style=\"stroke: #383838; stroke-width: 1.0;\"/><ellipse cx=\"262.3123\" cy=\"179.4171\" fill=\"#383838\" rx=\"2\" ry=\"2\" style=\"stroke: #383838; stroke-width: 1.0;\"/><ellipse cx=\"272.1606\" cy=\"181.1525\" fill=\"#383838\" rx=\"2\" ry=\"2\" style=\"stroke: #383838; stroke-width: 1.0;\"/></a><!--MD5=[19fa32203dc4bc4da88802bad7aa385f]\n",
       "@startuml\r\n",
       "top to bottom direction\r\n",
       "skinparam monochrome true\r\n",
       "skinparam classbackgroundcolor white\r\n",
       "skinparam shadowing false\r\n",
       "skinparam wrapWidth 300\r\n",
       "hide circle\r\n",
       "\r\n",
       "package \"PrivateImportTest\" as E1  [[psysml:2415ca44-1de1-4a98-b3f0-a39d5285a5bd ]]  {\r\n",
       "package \"P1\" as E2  [[psysml:426e250f-8977-4e89-b166-3835fc91b530 ]]  {\r\n",
       "comp def \"A\" as E3  <<(T,blue) part  def>> [[psysml:0a0c0374-c89d-44f1-8ff3-be2f7c1a5b8f ]] {\r\n",
       "}\r\n",
       "}\r\n",
       "package \"P2\" as E4  [[psysml:9b62d657-9794-4032-9fa2-9f176e634d4a ]]  {\r\n",
       "}\r\n",
       "comp usage \"x: A \" as E5  <<(T,blue) part>> [[psysml:99b80f3a-0072-46fe-b843-b9a836066a51 ]] {\r\n",
       "}\r\n",
       "package \"P3\" as E6  [[psysml:fe85458f-8707-492f-a6ea-e7b6b29e5b91 ]]  {\r\n",
       "comp def \"B\" as E7  <<(T,blue) part  def>> [[psysml:af99adbc-0034-4f7c-9fbe-52493ca28392 ]] {\r\n",
       "}\r\n",
       "}\r\n",
       "comp usage \"z: B \" as E8  <<(T,blue) part>> [[psysml:a38466df-faf8-4af5-a290-fb7428072c5f ]] {\r\n",
       "}\r\n",
       "package \"P4\" as E9  [[psysml:77a03853-3516-49bc-9a88-c5db4c10002c ]]  {\r\n",
       "comp usage \"z1: A \" as E10  <<(T,blue) part>> [[psysml:d7dc5bce-b37d-4e4e-a49c-d44e6595ca7b ]] {\r\n",
       "}\r\n",
       "}\r\n",
       "}\r\n",
       "E5 - -:|> E3 [[psysml:2e6435ee-ec1e-47e4-8fad-fb77072556f4 ]] \r\n",
       "E8 - -:|> E7 [[psysml:f11bc7c0-c938-426a-87a4-76c9b47cac7e ]] \r\n",
       "E10 - -:|> E3 [[psysml:21a673ac-f9f6-428c-a165-60ea4300f397 ]] \r\n",
       "@enduml\r\n",
       "\n",
       "PlantUML version 1.2020.13(Sat Jun 13 12:26:38 UTC 2020)\n",
       "(EPL source distribution)\n",
       "Java Runtime: OpenJDK Runtime Environment\n",
       "JVM: OpenJDK 64-Bit Server VM\n",
       "Default Encoding: UTF-8\n",
       "Language: en\n",
       "Country: null\n",
       "--></g></svg>"
      ]
     },
     "execution_count": 50,
     "metadata": {},
     "output_type": "execute_result"
    }
   ],
   "source": [
    "%viz --style=\"TB\" --view=\"MIXED\" \"PrivateImportTest\""
   ]
  },
  {
   "cell_type": "code",
   "execution_count": 51,
   "id": "53d3c974",
   "metadata": {
    "execution": {
     "iopub.execute_input": "2021-10-25T08:22:23.634759Z",
     "iopub.status.busy": "2021-10-25T08:22:23.634259Z",
     "iopub.status.idle": "2021-10-25T08:22:23.666559Z",
     "shell.execute_reply": "2021-10-25T08:22:23.664682Z"
    }
   },
   "outputs": [
    {
     "data": {
      "image/svg+xml": [
       "<?xml version=\"1.0\" encoding=\"UTF-8\" standalone=\"no\"?><svg xmlns=\"http://www.w3.org/2000/svg\" xmlns:xlink=\"http://www.w3.org/1999/xlink\" contentScriptType=\"application/ecmascript\" contentStyleType=\"text/css\" height=\"303px\" preserveAspectRatio=\"none\" style=\"width:363px;height:303px;\" version=\"1.1\" viewBox=\"0 0 363 303\" width=\"363px\" zoomAndPan=\"magnify\"><defs/><g><!--MD5=[fbc87193dbaf4d95561dea2c320d4a47]\n",
       "cluster E1--><a href=\"psysml:2415ca44-1de1-4a98-b3f0-a39d5285a5bd\" target=\"_top\" title=\"psysml:2415ca44-1de1-4a98-b3f0-a39d5285a5bd\" xlink:actuate=\"onRequest\" xlink:href=\"psysml:2415ca44-1de1-4a98-b3f0-a39d5285a5bd\" xlink:show=\"new\" xlink:title=\"psysml:2415ca44-1de1-4a98-b3f0-a39d5285a5bd\" xlink:type=\"simple\"><polygon fill=\"#FFFFFF\" points=\"16,6,143,6,150,28.2969,341,28.2969,341,291,16,291,16,6\" style=\"stroke: #000000; stroke-width: 1.5;\"/><line style=\"stroke: #000000; stroke-width: 1.5;\" x1=\"16\" x2=\"150\" y1=\"28.2969\" y2=\"28.2969\"/><text fill=\"#000000\" font-family=\"sans-serif\" font-size=\"14\" font-weight=\"bold\" lengthAdjust=\"spacingAndGlyphs\" textLength=\"121\" x=\"20\" y=\"20.9951\">PrivateImportTest</text></a><!--MD5=[e4f7fae6ed58524ba242bb0b0d3be6b7]\n",
       "cluster E2--><a href=\"psysml:426e250f-8977-4e89-b166-3835fc91b530\" target=\"_top\" title=\"psysml:426e250f-8977-4e89-b166-3835fc91b530\" xlink:actuate=\"onRequest\" xlink:href=\"psysml:426e250f-8977-4e89-b166-3835fc91b530\" xlink:show=\"new\" xlink:title=\"psysml:426e250f-8977-4e89-b166-3835fc91b530\" xlink:type=\"simple\"><polygon fill=\"#FFFFFF\" points=\"208,170,232,170,239,192.2969,310,192.2969,310,267,208,267,208,170\" style=\"stroke: #000000; stroke-width: 1.5;\"/><line style=\"stroke: #000000; stroke-width: 1.5;\" x1=\"208\" x2=\"239\" y1=\"192.2969\" y2=\"192.2969\"/><text fill=\"#000000\" font-family=\"sans-serif\" font-size=\"14\" font-weight=\"bold\" lengthAdjust=\"spacingAndGlyphs\" textLength=\"18\" x=\"212\" y=\"184.9951\">P1</text></a><!--MD5=[14e3b0961a2654348d326746436168a1]\n",
       "cluster E6--><a href=\"psysml:fe85458f-8707-492f-a6ea-e7b6b29e5b91\" target=\"_top\" title=\"psysml:fe85458f-8707-492f-a6ea-e7b6b29e5b91\" xlink:actuate=\"onRequest\" xlink:href=\"psysml:fe85458f-8707-492f-a6ea-e7b6b29e5b91\" xlink:show=\"new\" xlink:title=\"psysml:fe85458f-8707-492f-a6ea-e7b6b29e5b91\" xlink:type=\"simple\"><polygon fill=\"#FFFFFF\" points=\"75,170,99,170,106,192.2969,177,192.2969,177,267,75,267,75,170\" style=\"stroke: #000000; stroke-width: 1.5;\"/><line style=\"stroke: #000000; stroke-width: 1.5;\" x1=\"75\" x2=\"106\" y1=\"192.2969\" y2=\"192.2969\"/><text fill=\"#000000\" font-family=\"sans-serif\" font-size=\"14\" font-weight=\"bold\" lengthAdjust=\"spacingAndGlyphs\" textLength=\"18\" x=\"79\" y=\"184.9951\">P3</text></a><!--MD5=[7f149f147074ac12df2cb0a7728a5fb0]\n",
       "cluster E9--><a href=\"psysml:77a03853-3516-49bc-9a88-c5db4c10002c\" target=\"_top\" title=\"psysml:77a03853-3516-49bc-9a88-c5db4c10002c\" xlink:actuate=\"onRequest\" xlink:href=\"psysml:77a03853-3516-49bc-9a88-c5db4c10002c\" xlink:show=\"new\" xlink:title=\"psysml:77a03853-3516-49bc-9a88-c5db4c10002c\" xlink:type=\"simple\"><polygon fill=\"#FFFFFF\" points=\"243,49,267,49,274,71.2969,317,71.2969,317,146,243,146,243,49\" style=\"stroke: #000000; stroke-width: 1.5;\"/><line style=\"stroke: #000000; stroke-width: 1.5;\" x1=\"243\" x2=\"274\" y1=\"71.2969\" y2=\"71.2969\"/><text fill=\"#000000\" font-family=\"sans-serif\" font-size=\"14\" font-weight=\"bold\" lengthAdjust=\"spacingAndGlyphs\" textLength=\"18\" x=\"247\" y=\"63.9951\">P4</text></a><!--MD5=[270fce915f116d4de14055a7c1d9a0f3]\n",
       "class E5--><a href=\"psysml:99b80f3a-0072-46fe-b843-b9a836066a51\" target=\"_top\" title=\"psysml:99b80f3a-0072-46fe-b843-b9a836066a51\" xlink:actuate=\"onRequest\" xlink:href=\"psysml:99b80f3a-0072-46fe-b843-b9a836066a51\" xlink:show=\"new\" xlink:title=\"psysml:99b80f3a-0072-46fe-b843-b9a836066a51\" xlink:type=\"simple\"><rect fill=\"#FFFFFF\" height=\"45.9375\" id=\"E5\" rx=\"10\" ry=\"10\" style=\"stroke: #383838; stroke-width: 1.5;\" width=\"42\" x=\"182\" y=\"84\"/><text fill=\"#000000\" font-family=\"sans-serif\" font-size=\"12\" font-style=\"italic\" lengthAdjust=\"spacingAndGlyphs\" textLength=\"40\" x=\"183\" y=\"100.1387\">«part»</text><text fill=\"#000000\" font-family=\"sans-serif\" font-size=\"12\" lengthAdjust=\"spacingAndGlyphs\" textLength=\"22\" x=\"190\" y=\"114.1074\">x: A</text><line style=\"stroke: #383838; stroke-width: 1.5;\" x1=\"183\" x2=\"223\" y1=\"121.9375\" y2=\"121.9375\"/></a><!--MD5=[b9389687b975829384b498ac4b7476b2]\n",
       "class E8--><a href=\"psysml:a38466df-faf8-4af5-a290-fb7428072c5f\" target=\"_top\" title=\"psysml:a38466df-faf8-4af5-a290-fb7428072c5f\" xlink:actuate=\"onRequest\" xlink:href=\"psysml:a38466df-faf8-4af5-a290-fb7428072c5f\" xlink:show=\"new\" xlink:title=\"psysml:a38466df-faf8-4af5-a290-fb7428072c5f\" xlink:type=\"simple\"><rect fill=\"#FFFFFF\" height=\"45.9375\" id=\"E8\" rx=\"10\" ry=\"10\" style=\"stroke: #383838; stroke-width: 1.5;\" width=\"42\" x=\"105\" y=\"84\"/><text fill=\"#000000\" font-family=\"sans-serif\" font-size=\"12\" font-style=\"italic\" lengthAdjust=\"spacingAndGlyphs\" textLength=\"40\" x=\"106\" y=\"100.1387\">«part»</text><text fill=\"#000000\" font-family=\"sans-serif\" font-size=\"12\" lengthAdjust=\"spacingAndGlyphs\" textLength=\"21\" x=\"113.5\" y=\"114.1074\">z: B</text><line style=\"stroke: #383838; stroke-width: 1.5;\" x1=\"106\" x2=\"146\" y1=\"121.9375\" y2=\"121.9375\"/></a><!--MD5=[09b614a08d8cba4a07c9adeb5e0fee81]\n",
       "class E3--><a href=\"psysml:0a0c0374-c89d-44f1-8ff3-be2f7c1a5b8f\" target=\"_top\" title=\"psysml:0a0c0374-c89d-44f1-8ff3-be2f7c1a5b8f\" xlink:actuate=\"onRequest\" xlink:href=\"psysml:0a0c0374-c89d-44f1-8ff3-be2f7c1a5b8f\" xlink:show=\"new\" xlink:title=\"psysml:0a0c0374-c89d-44f1-8ff3-be2f7c1a5b8f\" xlink:type=\"simple\"><rect fill=\"#FFFFFF\" height=\"45.9375\" id=\"E3\" style=\"stroke: #383838; stroke-width: 1.5;\" width=\"70\" x=\"224\" y=\"205\"/><text fill=\"#000000\" font-family=\"sans-serif\" font-size=\"12\" font-style=\"italic\" lengthAdjust=\"spacingAndGlyphs\" textLength=\"68\" x=\"225\" y=\"221.1387\">«part  def»</text><text fill=\"#000000\" font-family=\"sans-serif\" font-size=\"12\" lengthAdjust=\"spacingAndGlyphs\" textLength=\"8\" x=\"255\" y=\"235.1074\">A</text><line style=\"stroke: #383838; stroke-width: 1.5;\" x1=\"225\" x2=\"293\" y1=\"242.9375\" y2=\"242.9375\"/></a><a href=\"psysml:9b62d657-9794-4032-9fa2-9f176e634d4a\" target=\"_top\" title=\"psysml:9b62d657-9794-4032-9fa2-9f176e634d4a\" xlink:actuate=\"onRequest\" xlink:href=\"psysml:9b62d657-9794-4032-9fa2-9f176e634d4a\" xlink:show=\"new\" xlink:title=\"psysml:9b62d657-9794-4032-9fa2-9f176e634d4a\" xlink:type=\"simple\"><polygon fill=\"#FFFFFF\" points=\"32,80.5,56,80.5,63,102.7969,70,102.7969,70,133.0938,32,133.0938,32,80.5\" style=\"stroke: #000000; stroke-width: 1.5;\"/><line style=\"stroke: #000000; stroke-width: 1.5;\" x1=\"32\" x2=\"63\" y1=\"102.7969\" y2=\"102.7969\"/><text fill=\"#000000\" font-family=\"sans-serif\" font-size=\"14\" font-weight=\"bold\" lengthAdjust=\"spacingAndGlyphs\" textLength=\"18\" x=\"36\" y=\"95.4951\">P2</text></a><!--MD5=[2156ba9850f5573cc1fc38a6a4b2f02b]\n",
       "class E7--><a href=\"psysml:af99adbc-0034-4f7c-9fbe-52493ca28392\" target=\"_top\" title=\"psysml:af99adbc-0034-4f7c-9fbe-52493ca28392\" xlink:actuate=\"onRequest\" xlink:href=\"psysml:af99adbc-0034-4f7c-9fbe-52493ca28392\" xlink:show=\"new\" xlink:title=\"psysml:af99adbc-0034-4f7c-9fbe-52493ca28392\" xlink:type=\"simple\"><rect fill=\"#FFFFFF\" height=\"45.9375\" id=\"E7\" style=\"stroke: #383838; stroke-width: 1.5;\" width=\"70\" x=\"91\" y=\"205\"/><text fill=\"#000000\" font-family=\"sans-serif\" font-size=\"12\" font-style=\"italic\" lengthAdjust=\"spacingAndGlyphs\" textLength=\"68\" x=\"92\" y=\"221.1387\">«part  def»</text><text fill=\"#000000\" font-family=\"sans-serif\" font-size=\"12\" lengthAdjust=\"spacingAndGlyphs\" textLength=\"8\" x=\"122\" y=\"235.1074\">B</text><line style=\"stroke: #383838; stroke-width: 1.5;\" x1=\"92\" x2=\"160\" y1=\"242.9375\" y2=\"242.9375\"/></a><!--MD5=[96f4274e9e20536e775497830990834d]\n",
       "class E10--><a href=\"psysml:d7dc5bce-b37d-4e4e-a49c-d44e6595ca7b\" target=\"_top\" title=\"psysml:d7dc5bce-b37d-4e4e-a49c-d44e6595ca7b\" xlink:actuate=\"onRequest\" xlink:href=\"psysml:d7dc5bce-b37d-4e4e-a49c-d44e6595ca7b\" xlink:show=\"new\" xlink:title=\"psysml:d7dc5bce-b37d-4e4e-a49c-d44e6595ca7b\" xlink:type=\"simple\"><rect fill=\"#FFFFFF\" height=\"45.9375\" id=\"E10\" rx=\"10\" ry=\"10\" style=\"stroke: #383838; stroke-width: 1.5;\" width=\"42\" x=\"259\" y=\"84\"/><text fill=\"#000000\" font-family=\"sans-serif\" font-size=\"12\" font-style=\"italic\" lengthAdjust=\"spacingAndGlyphs\" textLength=\"40\" x=\"260\" y=\"100.1387\">«part»</text><text fill=\"#000000\" font-family=\"sans-serif\" font-size=\"12\" lengthAdjust=\"spacingAndGlyphs\" textLength=\"29\" x=\"263.5\" y=\"114.1074\">z1: A</text><line style=\"stroke: #383838; stroke-width: 1.5;\" x1=\"260\" x2=\"300\" y1=\"121.9375\" y2=\"121.9375\"/></a><!--MD5=[e9be52314489bd878ff4c7144b63c9e1]\n",
       "link E5 to E3--><a href=\"psysml:2e6435ee-ec1e-47e4-8fad-fb77072556f4\" target=\"_top\" title=\"psysml:2e6435ee-ec1e-47e4-8fad-fb77072556f4\" xlink:actuate=\"onRequest\" xlink:href=\"psysml:2e6435ee-ec1e-47e4-8fad-fb77072556f4\" xlink:show=\"new\" xlink:title=\"psysml:2e6435ee-ec1e-47e4-8fad-fb77072556f4\" xlink:type=\"simple\"><path d=\"M224.05,107 C233.04,107 241.5,107 241.5,107 C241.5,107 241.5,184.96 241.5,184.96 \" fill=\"none\" id=\"E5-&gt;E3\" style=\"stroke: #383838; stroke-width: 1.0;\"/><polygon fill=\"#FFFFFF\" points=\"241.5,204.96,234.5,185.96,248.5,185.96,241.5,204.96\" style=\"stroke: #383838; stroke-width: 1.0;\"/><ellipse cx=\"236.5\" cy=\"180.26\" fill=\"#383838\" rx=\"2\" ry=\"2\" style=\"stroke: #383838; stroke-width: 1.0;\"/><ellipse cx=\"246.5\" cy=\"180.26\" fill=\"#383838\" rx=\"2\" ry=\"2\" style=\"stroke: #383838; stroke-width: 1.0;\"/></a><!--MD5=[bfa3c8b0d15052fdf50ae9310b491027]\n",
       "link E8 to E7--><a href=\"psysml:f11bc7c0-c938-426a-87a4-76c9b47cac7e\" target=\"_top\" title=\"psysml:f11bc7c0-c938-426a-87a4-76c9b47cac7e\" xlink:actuate=\"onRequest\" xlink:href=\"psysml:f11bc7c0-c938-426a-87a4-76c9b47cac7e\" xlink:show=\"new\" xlink:title=\"psysml:f11bc7c0-c938-426a-87a4-76c9b47cac7e\" xlink:type=\"simple\"><path d=\"M126,130.04 C126,130.04 126,184.63 126,184.63 \" fill=\"none\" id=\"E8-&gt;E7\" style=\"stroke: #383838; stroke-width: 1.0;\"/><polygon fill=\"#FFFFFF\" points=\"126,204.63,119,185.63,133,185.63,126,204.63\" style=\"stroke: #383838; stroke-width: 1.0;\"/><ellipse cx=\"121\" cy=\"179.93\" fill=\"#383838\" rx=\"2\" ry=\"2\" style=\"stroke: #383838; stroke-width: 1.0;\"/><ellipse cx=\"131\" cy=\"179.93\" fill=\"#383838\" rx=\"2\" ry=\"2\" style=\"stroke: #383838; stroke-width: 1.0;\"/></a><!--MD5=[feeac5eb423634930294aa81f2d25a4c]\n",
       "link E10 to E3--><a href=\"psysml:21a673ac-f9f6-428c-a165-60ea4300f397\" target=\"_top\" title=\"psysml:21a673ac-f9f6-428c-a165-60ea4300f397\" xlink:actuate=\"onRequest\" xlink:href=\"psysml:21a673ac-f9f6-428c-a165-60ea4300f397\" xlink:show=\"new\" xlink:title=\"psysml:21a673ac-f9f6-428c-a165-60ea4300f397\" xlink:type=\"simple\"><path d=\"M276.5,130.04 C276.5,130.04 276.5,184.63 276.5,184.63 \" fill=\"none\" id=\"E10-&gt;E3\" style=\"stroke: #383838; stroke-width: 1.0;\"/><polygon fill=\"#FFFFFF\" points=\"276.5,204.63,269.5,185.63,283.5,185.63,276.5,204.63\" style=\"stroke: #383838; stroke-width: 1.0;\"/><ellipse cx=\"271.5\" cy=\"179.93\" fill=\"#383838\" rx=\"2\" ry=\"2\" style=\"stroke: #383838; stroke-width: 1.0;\"/><ellipse cx=\"281.5\" cy=\"179.93\" fill=\"#383838\" rx=\"2\" ry=\"2\" style=\"stroke: #383838; stroke-width: 1.0;\"/></a><!--MD5=[1aea3e5b7a82e13bedd86a5aac4d1943]\n",
       "@startuml\r\n",
       "skinparam linetype ortho\r\n",
       "skinparam monochrome true\r\n",
       "skinparam classbackgroundcolor white\r\n",
       "skinparam shadowing false\r\n",
       "skinparam wrapWidth 300\r\n",
       "hide circle\r\n",
       "\r\n",
       "package \"PrivateImportTest\" as E1  [[psysml:2415ca44-1de1-4a98-b3f0-a39d5285a5bd ]]  {\r\n",
       "package \"P1\" as E2  [[psysml:426e250f-8977-4e89-b166-3835fc91b530 ]]  {\r\n",
       "comp def \"A\" as E3  <<(T,blue) part  def>> [[psysml:0a0c0374-c89d-44f1-8ff3-be2f7c1a5b8f ]] {\r\n",
       "}\r\n",
       "}\r\n",
       "package \"P2\" as E4  [[psysml:9b62d657-9794-4032-9fa2-9f176e634d4a ]]  {\r\n",
       "}\r\n",
       "comp usage \"x: A \" as E5  <<(T,blue) part>> [[psysml:99b80f3a-0072-46fe-b843-b9a836066a51 ]] {\r\n",
       "}\r\n",
       "package \"P3\" as E6  [[psysml:fe85458f-8707-492f-a6ea-e7b6b29e5b91 ]]  {\r\n",
       "comp def \"B\" as E7  <<(T,blue) part  def>> [[psysml:af99adbc-0034-4f7c-9fbe-52493ca28392 ]] {\r\n",
       "}\r\n",
       "}\r\n",
       "comp usage \"z: B \" as E8  <<(T,blue) part>> [[psysml:a38466df-faf8-4af5-a290-fb7428072c5f ]] {\r\n",
       "}\r\n",
       "package \"P4\" as E9  [[psysml:77a03853-3516-49bc-9a88-c5db4c10002c ]]  {\r\n",
       "comp usage \"z1: A \" as E10  <<(T,blue) part>> [[psysml:d7dc5bce-b37d-4e4e-a49c-d44e6595ca7b ]] {\r\n",
       "}\r\n",
       "}\r\n",
       "}\r\n",
       "E5 - -:|> E3 [[psysml:2e6435ee-ec1e-47e4-8fad-fb77072556f4 ]] \r\n",
       "E8 - -:|> E7 [[psysml:f11bc7c0-c938-426a-87a4-76c9b47cac7e ]] \r\n",
       "E10 - -:|> E3 [[psysml:21a673ac-f9f6-428c-a165-60ea4300f397 ]] \r\n",
       "@enduml\r\n",
       "\n",
       "PlantUML version 1.2020.13(Sat Jun 13 12:26:38 UTC 2020)\n",
       "(EPL source distribution)\n",
       "Java Runtime: OpenJDK Runtime Environment\n",
       "JVM: OpenJDK 64-Bit Server VM\n",
       "Default Encoding: UTF-8\n",
       "Language: en\n",
       "Country: null\n",
       "--></g></svg>"
      ]
     },
     "execution_count": 51,
     "metadata": {},
     "output_type": "execute_result"
    }
   ],
   "source": [
    "%viz --style=\"ORTHOLINE\" --view=\"Default\" \"PrivateImportTest\""
   ]
  },
  {
   "cell_type": "code",
   "execution_count": 52,
   "id": "ba1a98a0",
   "metadata": {
    "execution": {
     "iopub.execute_input": "2021-10-25T08:22:23.715828Z",
     "iopub.status.busy": "2021-10-25T08:22:23.715234Z",
     "iopub.status.idle": "2021-10-25T08:22:23.756294Z",
     "shell.execute_reply": "2021-10-25T08:22:23.754429Z"
    }
   },
   "outputs": [
    {
     "data": {
      "image/svg+xml": [
       "<?xml version=\"1.0\" encoding=\"UTF-8\" standalone=\"no\"?><svg xmlns=\"http://www.w3.org/2000/svg\" xmlns:xlink=\"http://www.w3.org/1999/xlink\" contentScriptType=\"application/ecmascript\" contentStyleType=\"text/css\" height=\"303px\" preserveAspectRatio=\"none\" style=\"width:363px;height:303px;\" version=\"1.1\" viewBox=\"0 0 363 303\" width=\"363px\" zoomAndPan=\"magnify\"><defs/><g><!--MD5=[fbc87193dbaf4d95561dea2c320d4a47]\n",
       "cluster E1--><a href=\"psysml:2415ca44-1de1-4a98-b3f0-a39d5285a5bd\" target=\"_top\" title=\"psysml:2415ca44-1de1-4a98-b3f0-a39d5285a5bd\" xlink:actuate=\"onRequest\" xlink:href=\"psysml:2415ca44-1de1-4a98-b3f0-a39d5285a5bd\" xlink:show=\"new\" xlink:title=\"psysml:2415ca44-1de1-4a98-b3f0-a39d5285a5bd\" xlink:type=\"simple\"><polygon fill=\"#FFFFFF\" points=\"16,6,143,6,150,28.2969,341,28.2969,341,291,16,291,16,6\" style=\"stroke: #000000; stroke-width: 1.5;\"/><line style=\"stroke: #000000; stroke-width: 1.5;\" x1=\"16\" x2=\"150\" y1=\"28.2969\" y2=\"28.2969\"/><text fill=\"#000000\" font-family=\"sans-serif\" font-size=\"14\" font-weight=\"bold\" lengthAdjust=\"spacingAndGlyphs\" textLength=\"121\" x=\"20\" y=\"20.9951\">PrivateImportTest</text></a><!--MD5=[e4f7fae6ed58524ba242bb0b0d3be6b7]\n",
       "cluster E2--><a href=\"psysml:426e250f-8977-4e89-b166-3835fc91b530\" target=\"_top\" title=\"psysml:426e250f-8977-4e89-b166-3835fc91b530\" xlink:actuate=\"onRequest\" xlink:href=\"psysml:426e250f-8977-4e89-b166-3835fc91b530\" xlink:show=\"new\" xlink:title=\"psysml:426e250f-8977-4e89-b166-3835fc91b530\" xlink:type=\"simple\"><polygon fill=\"#FFFFFF\" points=\"208,170,232,170,239,192.2969,310,192.2969,310,267,208,267,208,170\" style=\"stroke: #000000; stroke-width: 1.5;\"/><line style=\"stroke: #000000; stroke-width: 1.5;\" x1=\"208\" x2=\"239\" y1=\"192.2969\" y2=\"192.2969\"/><text fill=\"#000000\" font-family=\"sans-serif\" font-size=\"14\" font-weight=\"bold\" lengthAdjust=\"spacingAndGlyphs\" textLength=\"18\" x=\"212\" y=\"184.9951\">P1</text></a><!--MD5=[14e3b0961a2654348d326746436168a1]\n",
       "cluster E6--><a href=\"psysml:fe85458f-8707-492f-a6ea-e7b6b29e5b91\" target=\"_top\" title=\"psysml:fe85458f-8707-492f-a6ea-e7b6b29e5b91\" xlink:actuate=\"onRequest\" xlink:href=\"psysml:fe85458f-8707-492f-a6ea-e7b6b29e5b91\" xlink:show=\"new\" xlink:title=\"psysml:fe85458f-8707-492f-a6ea-e7b6b29e5b91\" xlink:type=\"simple\"><polygon fill=\"#FFFFFF\" points=\"75,170,99,170,106,192.2969,177,192.2969,177,267,75,267,75,170\" style=\"stroke: #000000; stroke-width: 1.5;\"/><line style=\"stroke: #000000; stroke-width: 1.5;\" x1=\"75\" x2=\"106\" y1=\"192.2969\" y2=\"192.2969\"/><text fill=\"#000000\" font-family=\"sans-serif\" font-size=\"14\" font-weight=\"bold\" lengthAdjust=\"spacingAndGlyphs\" textLength=\"18\" x=\"79\" y=\"184.9951\">P3</text></a><!--MD5=[7f149f147074ac12df2cb0a7728a5fb0]\n",
       "cluster E9--><a href=\"psysml:77a03853-3516-49bc-9a88-c5db4c10002c\" target=\"_top\" title=\"psysml:77a03853-3516-49bc-9a88-c5db4c10002c\" xlink:actuate=\"onRequest\" xlink:href=\"psysml:77a03853-3516-49bc-9a88-c5db4c10002c\" xlink:show=\"new\" xlink:title=\"psysml:77a03853-3516-49bc-9a88-c5db4c10002c\" xlink:type=\"simple\"><polygon fill=\"#FFFFFF\" points=\"243,49,267,49,274,71.2969,317,71.2969,317,146,243,146,243,49\" style=\"stroke: #000000; stroke-width: 1.5;\"/><line style=\"stroke: #000000; stroke-width: 1.5;\" x1=\"243\" x2=\"274\" y1=\"71.2969\" y2=\"71.2969\"/><text fill=\"#000000\" font-family=\"sans-serif\" font-size=\"14\" font-weight=\"bold\" lengthAdjust=\"spacingAndGlyphs\" textLength=\"18\" x=\"247\" y=\"63.9951\">P4</text></a><!--MD5=[270fce915f116d4de14055a7c1d9a0f3]\n",
       "class E5--><a href=\"psysml:99b80f3a-0072-46fe-b843-b9a836066a51\" target=\"_top\" title=\"psysml:99b80f3a-0072-46fe-b843-b9a836066a51\" xlink:actuate=\"onRequest\" xlink:href=\"psysml:99b80f3a-0072-46fe-b843-b9a836066a51\" xlink:show=\"new\" xlink:title=\"psysml:99b80f3a-0072-46fe-b843-b9a836066a51\" xlink:type=\"simple\"><rect fill=\"#FFFFFF\" height=\"45.9375\" id=\"E5\" rx=\"10\" ry=\"10\" style=\"stroke: #383838; stroke-width: 1.5;\" width=\"42\" x=\"182\" y=\"84\"/><text fill=\"#000000\" font-family=\"sans-serif\" font-size=\"12\" font-style=\"italic\" lengthAdjust=\"spacingAndGlyphs\" textLength=\"40\" x=\"183\" y=\"100.1387\">«part»</text><text fill=\"#000000\" font-family=\"sans-serif\" font-size=\"12\" lengthAdjust=\"spacingAndGlyphs\" textLength=\"22\" x=\"190\" y=\"114.1074\">x: A</text><line style=\"stroke: #383838; stroke-width: 1.5;\" x1=\"183\" x2=\"223\" y1=\"121.9375\" y2=\"121.9375\"/></a><!--MD5=[b9389687b975829384b498ac4b7476b2]\n",
       "class E8--><a href=\"psysml:a38466df-faf8-4af5-a290-fb7428072c5f\" target=\"_top\" title=\"psysml:a38466df-faf8-4af5-a290-fb7428072c5f\" xlink:actuate=\"onRequest\" xlink:href=\"psysml:a38466df-faf8-4af5-a290-fb7428072c5f\" xlink:show=\"new\" xlink:title=\"psysml:a38466df-faf8-4af5-a290-fb7428072c5f\" xlink:type=\"simple\"><rect fill=\"#FFFFFF\" height=\"45.9375\" id=\"E8\" rx=\"10\" ry=\"10\" style=\"stroke: #383838; stroke-width: 1.5;\" width=\"42\" x=\"105\" y=\"84\"/><text fill=\"#000000\" font-family=\"sans-serif\" font-size=\"12\" font-style=\"italic\" lengthAdjust=\"spacingAndGlyphs\" textLength=\"40\" x=\"106\" y=\"100.1387\">«part»</text><text fill=\"#000000\" font-family=\"sans-serif\" font-size=\"12\" lengthAdjust=\"spacingAndGlyphs\" textLength=\"21\" x=\"113.5\" y=\"114.1074\">z: B</text><line style=\"stroke: #383838; stroke-width: 1.5;\" x1=\"106\" x2=\"146\" y1=\"121.9375\" y2=\"121.9375\"/></a><!--MD5=[09b614a08d8cba4a07c9adeb5e0fee81]\n",
       "class E3--><a href=\"psysml:0a0c0374-c89d-44f1-8ff3-be2f7c1a5b8f\" target=\"_top\" title=\"psysml:0a0c0374-c89d-44f1-8ff3-be2f7c1a5b8f\" xlink:actuate=\"onRequest\" xlink:href=\"psysml:0a0c0374-c89d-44f1-8ff3-be2f7c1a5b8f\" xlink:show=\"new\" xlink:title=\"psysml:0a0c0374-c89d-44f1-8ff3-be2f7c1a5b8f\" xlink:type=\"simple\"><rect fill=\"#FFFFFF\" height=\"45.9375\" id=\"E3\" style=\"stroke: #383838; stroke-width: 1.5;\" width=\"70\" x=\"224\" y=\"205\"/><text fill=\"#000000\" font-family=\"sans-serif\" font-size=\"12\" font-style=\"italic\" lengthAdjust=\"spacingAndGlyphs\" textLength=\"68\" x=\"225\" y=\"221.1387\">«part  def»</text><text fill=\"#000000\" font-family=\"sans-serif\" font-size=\"12\" lengthAdjust=\"spacingAndGlyphs\" textLength=\"8\" x=\"255\" y=\"235.1074\">A</text><line style=\"stroke: #383838; stroke-width: 1.5;\" x1=\"225\" x2=\"293\" y1=\"242.9375\" y2=\"242.9375\"/></a><a href=\"psysml:9b62d657-9794-4032-9fa2-9f176e634d4a\" target=\"_top\" title=\"psysml:9b62d657-9794-4032-9fa2-9f176e634d4a\" xlink:actuate=\"onRequest\" xlink:href=\"psysml:9b62d657-9794-4032-9fa2-9f176e634d4a\" xlink:show=\"new\" xlink:title=\"psysml:9b62d657-9794-4032-9fa2-9f176e634d4a\" xlink:type=\"simple\"><polygon fill=\"#FFFFFF\" points=\"32,80.5,56,80.5,63,102.7969,70,102.7969,70,133.0938,32,133.0938,32,80.5\" style=\"stroke: #000000; stroke-width: 1.5;\"/><line style=\"stroke: #000000; stroke-width: 1.5;\" x1=\"32\" x2=\"63\" y1=\"102.7969\" y2=\"102.7969\"/><text fill=\"#000000\" font-family=\"sans-serif\" font-size=\"14\" font-weight=\"bold\" lengthAdjust=\"spacingAndGlyphs\" textLength=\"18\" x=\"36\" y=\"95.4951\">P2</text></a><!--MD5=[2156ba9850f5573cc1fc38a6a4b2f02b]\n",
       "class E7--><a href=\"psysml:af99adbc-0034-4f7c-9fbe-52493ca28392\" target=\"_top\" title=\"psysml:af99adbc-0034-4f7c-9fbe-52493ca28392\" xlink:actuate=\"onRequest\" xlink:href=\"psysml:af99adbc-0034-4f7c-9fbe-52493ca28392\" xlink:show=\"new\" xlink:title=\"psysml:af99adbc-0034-4f7c-9fbe-52493ca28392\" xlink:type=\"simple\"><rect fill=\"#FFFFFF\" height=\"45.9375\" id=\"E7\" style=\"stroke: #383838; stroke-width: 1.5;\" width=\"70\" x=\"91\" y=\"205\"/><text fill=\"#000000\" font-family=\"sans-serif\" font-size=\"12\" font-style=\"italic\" lengthAdjust=\"spacingAndGlyphs\" textLength=\"68\" x=\"92\" y=\"221.1387\">«part  def»</text><text fill=\"#000000\" font-family=\"sans-serif\" font-size=\"12\" lengthAdjust=\"spacingAndGlyphs\" textLength=\"8\" x=\"122\" y=\"235.1074\">B</text><line style=\"stroke: #383838; stroke-width: 1.5;\" x1=\"92\" x2=\"160\" y1=\"242.9375\" y2=\"242.9375\"/></a><!--MD5=[96f4274e9e20536e775497830990834d]\n",
       "class E10--><a href=\"psysml:d7dc5bce-b37d-4e4e-a49c-d44e6595ca7b\" target=\"_top\" title=\"psysml:d7dc5bce-b37d-4e4e-a49c-d44e6595ca7b\" xlink:actuate=\"onRequest\" xlink:href=\"psysml:d7dc5bce-b37d-4e4e-a49c-d44e6595ca7b\" xlink:show=\"new\" xlink:title=\"psysml:d7dc5bce-b37d-4e4e-a49c-d44e6595ca7b\" xlink:type=\"simple\"><rect fill=\"#FFFFFF\" height=\"45.9375\" id=\"E10\" rx=\"10\" ry=\"10\" style=\"stroke: #383838; stroke-width: 1.5;\" width=\"42\" x=\"259\" y=\"84\"/><text fill=\"#000000\" font-family=\"sans-serif\" font-size=\"12\" font-style=\"italic\" lengthAdjust=\"spacingAndGlyphs\" textLength=\"40\" x=\"260\" y=\"100.1387\">«part»</text><text fill=\"#000000\" font-family=\"sans-serif\" font-size=\"12\" lengthAdjust=\"spacingAndGlyphs\" textLength=\"29\" x=\"263.5\" y=\"114.1074\">z1: A</text><line style=\"stroke: #383838; stroke-width: 1.5;\" x1=\"260\" x2=\"300\" y1=\"121.9375\" y2=\"121.9375\"/></a><!--MD5=[e9be52314489bd878ff4c7144b63c9e1]\n",
       "link E5 to E3--><a href=\"psysml:2e6435ee-ec1e-47e4-8fad-fb77072556f4\" target=\"_top\" title=\"psysml:2e6435ee-ec1e-47e4-8fad-fb77072556f4\" xlink:actuate=\"onRequest\" xlink:href=\"psysml:2e6435ee-ec1e-47e4-8fad-fb77072556f4\" xlink:show=\"new\" xlink:title=\"psysml:2e6435ee-ec1e-47e4-8fad-fb77072556f4\" xlink:type=\"simple\"><path d=\"M224.05,107 C233.04,107 241.5,107 241.5,107 C241.5,107 241.5,184.96 241.5,184.96 \" fill=\"none\" id=\"E5-&gt;E3\" style=\"stroke: #383838; stroke-width: 1.0;\"/><polygon fill=\"#FFFFFF\" points=\"241.5,204.96,234.5,185.96,248.5,185.96,241.5,204.96\" style=\"stroke: #383838; stroke-width: 1.0;\"/><ellipse cx=\"236.5\" cy=\"180.26\" fill=\"#383838\" rx=\"2\" ry=\"2\" style=\"stroke: #383838; stroke-width: 1.0;\"/><ellipse cx=\"246.5\" cy=\"180.26\" fill=\"#383838\" rx=\"2\" ry=\"2\" style=\"stroke: #383838; stroke-width: 1.0;\"/></a><!--MD5=[bfa3c8b0d15052fdf50ae9310b491027]\n",
       "link E8 to E7--><a href=\"psysml:f11bc7c0-c938-426a-87a4-76c9b47cac7e\" target=\"_top\" title=\"psysml:f11bc7c0-c938-426a-87a4-76c9b47cac7e\" xlink:actuate=\"onRequest\" xlink:href=\"psysml:f11bc7c0-c938-426a-87a4-76c9b47cac7e\" xlink:show=\"new\" xlink:title=\"psysml:f11bc7c0-c938-426a-87a4-76c9b47cac7e\" xlink:type=\"simple\"><path d=\"M126,130.04 C126,130.04 126,184.63 126,184.63 \" fill=\"none\" id=\"E8-&gt;E7\" style=\"stroke: #383838; stroke-width: 1.0;\"/><polygon fill=\"#FFFFFF\" points=\"126,204.63,119,185.63,133,185.63,126,204.63\" style=\"stroke: #383838; stroke-width: 1.0;\"/><ellipse cx=\"121\" cy=\"179.93\" fill=\"#383838\" rx=\"2\" ry=\"2\" style=\"stroke: #383838; stroke-width: 1.0;\"/><ellipse cx=\"131\" cy=\"179.93\" fill=\"#383838\" rx=\"2\" ry=\"2\" style=\"stroke: #383838; stroke-width: 1.0;\"/></a><!--MD5=[feeac5eb423634930294aa81f2d25a4c]\n",
       "link E10 to E3--><a href=\"psysml:21a673ac-f9f6-428c-a165-60ea4300f397\" target=\"_top\" title=\"psysml:21a673ac-f9f6-428c-a165-60ea4300f397\" xlink:actuate=\"onRequest\" xlink:href=\"psysml:21a673ac-f9f6-428c-a165-60ea4300f397\" xlink:show=\"new\" xlink:title=\"psysml:21a673ac-f9f6-428c-a165-60ea4300f397\" xlink:type=\"simple\"><path d=\"M276.5,130.04 C276.5,130.04 276.5,184.63 276.5,184.63 \" fill=\"none\" id=\"E10-&gt;E3\" style=\"stroke: #383838; stroke-width: 1.0;\"/><polygon fill=\"#FFFFFF\" points=\"276.5,204.63,269.5,185.63,283.5,185.63,276.5,204.63\" style=\"stroke: #383838; stroke-width: 1.0;\"/><ellipse cx=\"271.5\" cy=\"179.93\" fill=\"#383838\" rx=\"2\" ry=\"2\" style=\"stroke: #383838; stroke-width: 1.0;\"/><ellipse cx=\"281.5\" cy=\"179.93\" fill=\"#383838\" rx=\"2\" ry=\"2\" style=\"stroke: #383838; stroke-width: 1.0;\"/></a><!--MD5=[1aea3e5b7a82e13bedd86a5aac4d1943]\n",
       "@startuml\r\n",
       "skinparam linetype ortho\r\n",
       "skinparam monochrome true\r\n",
       "skinparam classbackgroundcolor white\r\n",
       "skinparam shadowing false\r\n",
       "skinparam wrapWidth 300\r\n",
       "hide circle\r\n",
       "\r\n",
       "package \"PrivateImportTest\" as E1  [[psysml:2415ca44-1de1-4a98-b3f0-a39d5285a5bd ]]  {\r\n",
       "package \"P1\" as E2  [[psysml:426e250f-8977-4e89-b166-3835fc91b530 ]]  {\r\n",
       "comp def \"A\" as E3  <<(T,blue) part  def>> [[psysml:0a0c0374-c89d-44f1-8ff3-be2f7c1a5b8f ]] {\r\n",
       "}\r\n",
       "}\r\n",
       "package \"P2\" as E4  [[psysml:9b62d657-9794-4032-9fa2-9f176e634d4a ]]  {\r\n",
       "}\r\n",
       "comp usage \"x: A \" as E5  <<(T,blue) part>> [[psysml:99b80f3a-0072-46fe-b843-b9a836066a51 ]] {\r\n",
       "}\r\n",
       "package \"P3\" as E6  [[psysml:fe85458f-8707-492f-a6ea-e7b6b29e5b91 ]]  {\r\n",
       "comp def \"B\" as E7  <<(T,blue) part  def>> [[psysml:af99adbc-0034-4f7c-9fbe-52493ca28392 ]] {\r\n",
       "}\r\n",
       "}\r\n",
       "comp usage \"z: B \" as E8  <<(T,blue) part>> [[psysml:a38466df-faf8-4af5-a290-fb7428072c5f ]] {\r\n",
       "}\r\n",
       "package \"P4\" as E9  [[psysml:77a03853-3516-49bc-9a88-c5db4c10002c ]]  {\r\n",
       "comp usage \"z1: A \" as E10  <<(T,blue) part>> [[psysml:d7dc5bce-b37d-4e4e-a49c-d44e6595ca7b ]] {\r\n",
       "}\r\n",
       "}\r\n",
       "}\r\n",
       "E5 - -:|> E3 [[psysml:2e6435ee-ec1e-47e4-8fad-fb77072556f4 ]] \r\n",
       "E8 - -:|> E7 [[psysml:f11bc7c0-c938-426a-87a4-76c9b47cac7e ]] \r\n",
       "E10 - -:|> E3 [[psysml:21a673ac-f9f6-428c-a165-60ea4300f397 ]] \r\n",
       "@enduml\r\n",
       "\n",
       "PlantUML version 1.2020.13(Sat Jun 13 12:26:38 UTC 2020)\n",
       "(EPL source distribution)\n",
       "Java Runtime: OpenJDK Runtime Environment\n",
       "JVM: OpenJDK 64-Bit Server VM\n",
       "Default Encoding: UTF-8\n",
       "Language: en\n",
       "Country: null\n",
       "--></g></svg>"
      ]
     },
     "execution_count": 52,
     "metadata": {},
     "output_type": "execute_result"
    }
   ],
   "source": [
    "%viz --style=\"ORTHOLINE\" --view=\"Tree\" \"PrivateImportTest\""
   ]
  },
  {
   "cell_type": "code",
   "execution_count": 53,
   "id": "c37f2724",
   "metadata": {
    "execution": {
     "iopub.execute_input": "2021-10-25T08:22:23.805302Z",
     "iopub.status.busy": "2021-10-25T08:22:23.804871Z",
     "iopub.status.idle": "2021-10-25T08:22:23.809779Z",
     "shell.execute_reply": "2021-10-25T08:22:23.809415Z"
    }
   },
   "outputs": [
    {
     "data": {
      "image/svg+xml": [
       "<?xml version=\"1.0\" encoding=\"UTF-8\" standalone=\"no\"?><svg xmlns=\"http://www.w3.org/2000/svg\" xmlns:xlink=\"http://www.w3.org/1999/xlink\" contentScriptType=\"application/ecmascript\" contentStyleType=\"text/css\" height=\"12px\" preserveAspectRatio=\"none\" style=\"width:12px;height:12px;\" version=\"1.1\" viewBox=\"0 0 12 12\" width=\"12px\" zoomAndPan=\"magnify\"><defs/><g><!--MD5=[97d6f38768b311333d388e66b2b27985]\n",
       "@startuml\r\n",
       "skinparam linetype ortho\r\n",
       "skinparam monochrome true\r\n",
       "skinparam classbackgroundcolor white\r\n",
       "skinparam shadowing false\r\n",
       "skinparam wrapWidth 300\r\n",
       "hide circle\r\n",
       "\r\n",
       "@enduml\r\n",
       "\n",
       "PlantUML version 1.2020.13(Sat Jun 13 12:26:38 UTC 2020)\n",
       "(EPL source distribution)\n",
       "Java Runtime: OpenJDK Runtime Environment\n",
       "JVM: OpenJDK 64-Bit Server VM\n",
       "Default Encoding: UTF-8\n",
       "Language: en\n",
       "Country: null\n",
       "--></g></svg>"
      ]
     },
     "execution_count": 53,
     "metadata": {},
     "output_type": "execute_result"
    }
   ],
   "source": [
    "%viz --style=\"ORTHOLINE\" --view=\"State\" \"PrivateImportTest\""
   ]
  },
  {
   "cell_type": "code",
   "execution_count": 54,
   "id": "7c296f35",
   "metadata": {
    "execution": {
     "iopub.execute_input": "2021-10-25T08:22:23.859320Z",
     "iopub.status.busy": "2021-10-25T08:22:23.858894Z",
     "iopub.status.idle": "2021-10-25T08:22:23.887749Z",
     "shell.execute_reply": "2021-10-25T08:22:23.885579Z"
    }
   },
   "outputs": [
    {
     "data": {
      "image/svg+xml": [
       "<?xml version=\"1.0\" encoding=\"UTF-8\" standalone=\"no\"?><svg xmlns=\"http://www.w3.org/2000/svg\" xmlns:xlink=\"http://www.w3.org/1999/xlink\" contentScriptType=\"application/ecmascript\" contentStyleType=\"text/css\" height=\"179px\" preserveAspectRatio=\"none\" style=\"width:647px;height:179px;\" version=\"1.1\" viewBox=\"0 0 647 179\" width=\"647px\" zoomAndPan=\"magnify\"><defs/><g><!--MD5=[fbc87193dbaf4d95561dea2c320d4a47]\n",
       "cluster E1--><a href=\"psysml:2415ca44-1de1-4a98-b3f0-a39d5285a5bd\" target=\"_top\" title=\"psysml:2415ca44-1de1-4a98-b3f0-a39d5285a5bd\" xlink:actuate=\"onRequest\" xlink:href=\"psysml:2415ca44-1de1-4a98-b3f0-a39d5285a5bd\" xlink:show=\"new\" xlink:title=\"psysml:2415ca44-1de1-4a98-b3f0-a39d5285a5bd\" xlink:type=\"simple\"><polygon fill=\"#FFFFFF\" points=\"16,6,143,6,150,28.2969,625,28.2969,625,167,16,167,16,6\" style=\"stroke: #000000; stroke-width: 1.5;\"/><line style=\"stroke: #000000; stroke-width: 1.5;\" x1=\"16\" x2=\"150\" y1=\"28.2969\" y2=\"28.2969\"/><text fill=\"#000000\" font-family=\"sans-serif\" font-size=\"14\" font-weight=\"bold\" lengthAdjust=\"spacingAndGlyphs\" textLength=\"121\" x=\"20\" y=\"20.9951\">PrivateImportTest</text></a><!--MD5=[e4f7fae6ed58524ba242bb0b0d3be6b7]\n",
       "cluster E2--><a href=\"psysml:426e250f-8977-4e89-b166-3835fc91b530\" target=\"_top\" title=\"psysml:426e250f-8977-4e89-b166-3835fc91b530\" xlink:actuate=\"onRequest\" xlink:href=\"psysml:426e250f-8977-4e89-b166-3835fc91b530\" xlink:show=\"new\" xlink:title=\"psysml:426e250f-8977-4e89-b166-3835fc91b530\" xlink:type=\"simple\"><polygon fill=\"#FFFFFF\" points=\"495,49,519,49,526,71.2969,601,71.2969,601,143,495,143,495,49\" style=\"stroke: #000000; stroke-width: 1.5;\"/><line style=\"stroke: #000000; stroke-width: 1.5;\" x1=\"495\" x2=\"526\" y1=\"71.2969\" y2=\"71.2969\"/><text fill=\"#000000\" font-family=\"sans-serif\" font-size=\"14\" font-weight=\"bold\" lengthAdjust=\"spacingAndGlyphs\" textLength=\"18\" x=\"499\" y=\"63.9951\">P1</text></a><!--MD5=[14e3b0961a2654348d326746436168a1]\n",
       "cluster E6--><a href=\"psysml:fe85458f-8707-492f-a6ea-e7b6b29e5b91\" target=\"_top\" title=\"psysml:fe85458f-8707-492f-a6ea-e7b6b29e5b91\" xlink:actuate=\"onRequest\" xlink:href=\"psysml:fe85458f-8707-492f-a6ea-e7b6b29e5b91\" xlink:show=\"new\" xlink:title=\"psysml:fe85458f-8707-492f-a6ea-e7b6b29e5b91\" xlink:type=\"simple\"><polygon fill=\"#FFFFFF\" points=\"365,49,389,49,396,71.2969,471,71.2969,471,143,365,143,365,49\" style=\"stroke: #000000; stroke-width: 1.5;\"/><line style=\"stroke: #000000; stroke-width: 1.5;\" x1=\"365\" x2=\"396\" y1=\"71.2969\" y2=\"71.2969\"/><text fill=\"#000000\" font-family=\"sans-serif\" font-size=\"14\" font-weight=\"bold\" lengthAdjust=\"spacingAndGlyphs\" textLength=\"18\" x=\"369\" y=\"63.9951\">P3</text></a><!--MD5=[7f149f147074ac12df2cb0a7728a5fb0]\n",
       "cluster E9--><a href=\"psysml:77a03853-3516-49bc-9a88-c5db4c10002c\" target=\"_top\" title=\"psysml:77a03853-3516-49bc-9a88-c5db4c10002c\" xlink:actuate=\"onRequest\" xlink:href=\"psysml:77a03853-3516-49bc-9a88-c5db4c10002c\" xlink:show=\"new\" xlink:title=\"psysml:77a03853-3516-49bc-9a88-c5db4c10002c\" xlink:type=\"simple\"><polygon fill=\"#FFFFFF\" points=\"259,50.5,283,50.5,290,72.7969,341,72.7969,341,141.5,259,141.5,259,50.5\" style=\"stroke: #000000; stroke-width: 1.5;\"/><line style=\"stroke: #000000; stroke-width: 1.5;\" x1=\"259\" x2=\"290\" y1=\"72.7969\" y2=\"72.7969\"/><text fill=\"#000000\" font-family=\"sans-serif\" font-size=\"14\" font-weight=\"bold\" lengthAdjust=\"spacingAndGlyphs\" textLength=\"18\" x=\"263\" y=\"65.4951\">P4</text></a><g id=\"E1.E2.E3\"><a href=\"psysml:0a0c0374-c89d-44f1-8ff3-be2f7c1a5b8f\" target=\"_top\" title=\"psysml:0a0c0374-c89d-44f1-8ff3-be2f7c1a5b8f\" xlink:actuate=\"onRequest\" xlink:href=\"psysml:0a0c0374-c89d-44f1-8ff3-be2f7c1a5b8f\" xlink:show=\"new\" xlink:title=\"psysml:0a0c0374-c89d-44f1-8ff3-be2f7c1a5b8f\" xlink:type=\"simple\"><rect fill=\"#FFFFFF\" height=\"42.9375\" id=\"E3\" style=\"stroke: #383838; stroke-width: 1.5;\" width=\"75\" x=\"510.5\" y=\"84\"/><rect fill=\"#F8F8F8\" height=\"37.9375\" style=\"stroke: #383838; stroke-width: 1.5;\" width=\"75\" x=\"510.5\" y=\"84\"/><text fill=\"#000000\" font-family=\"sans-serif\" font-size=\"12\" font-style=\"italic\" lengthAdjust=\"spacingAndGlyphs\" textLength=\"68\" x=\"514\" y=\"100.1387\">«part  def»</text><text fill=\"#000000\" font-family=\"sans-serif\" font-size=\"12\" lengthAdjust=\"spacingAndGlyphs\" textLength=\"8\" x=\"544\" y=\"114.1074\">A</text></a></g><a href=\"psysml:9b62d657-9794-4032-9fa2-9f176e634d4a\" target=\"_top\" title=\"psysml:9b62d657-9794-4032-9fa2-9f176e634d4a\" xlink:actuate=\"onRequest\" xlink:href=\"psysml:9b62d657-9794-4032-9fa2-9f176e634d4a\" xlink:show=\"new\" xlink:title=\"psysml:9b62d657-9794-4032-9fa2-9f176e634d4a\" xlink:type=\"simple\"><polygon fill=\"#FFFFFF\" points=\"202,79,226,79,233,101.2969,240,101.2969,240,131.5938,202,131.5938,202,79\" style=\"stroke: #000000; stroke-width: 1.5;\"/><line style=\"stroke: #000000; stroke-width: 1.5;\" x1=\"202\" x2=\"233\" y1=\"101.2969\" y2=\"101.2969\"/><text fill=\"#000000\" font-family=\"sans-serif\" font-size=\"14\" font-weight=\"bold\" lengthAdjust=\"spacingAndGlyphs\" textLength=\"18\" x=\"206\" y=\"93.9951\">P2</text></a><g id=\"E1.E5\"><a href=\"psysml:99b80f3a-0072-46fe-b843-b9a836066a51\" target=\"_top\" title=\"psysml:99b80f3a-0072-46fe-b843-b9a836066a51\" xlink:actuate=\"onRequest\" xlink:href=\"psysml:99b80f3a-0072-46fe-b843-b9a836066a51\" xlink:show=\"new\" xlink:title=\"psysml:99b80f3a-0072-46fe-b843-b9a836066a51\" xlink:type=\"simple\"><rect fill=\"#FFFFFF\" height=\"40\" id=\"E5\" rx=\"10\" ry=\"10\" style=\"stroke: #383838; stroke-width: 1.5;\" width=\"50\" x=\"117\" y=\"85.5\"/><rect fill=\"#F8F8F8\" height=\"23.9688\" rx=\"10\" ry=\"10\" style=\"stroke: #F8F8F8; stroke-width: 1.5;\" width=\"50\" x=\"117\" y=\"85.5\"/><rect fill=\"#F8F8F8\" height=\"10\" style=\"stroke: #F8F8F8; stroke-width: 1.5;\" width=\"50\" x=\"117\" y=\"99.4688\"/><rect fill=\"none\" height=\"40\" id=\"E5\" rx=\"10\" ry=\"10\" style=\"stroke: #383838; stroke-width: 1.5;\" width=\"50\" x=\"117\" y=\"85.5\"/><text fill=\"#000000\" font-family=\"sans-serif\" font-size=\"12\" lengthAdjust=\"spacingAndGlyphs\" textLength=\"22\" x=\"131\" y=\"101.6387\">x: A</text></a></g><g id=\"E1.E6.E7\"><a href=\"psysml:af99adbc-0034-4f7c-9fbe-52493ca28392\" target=\"_top\" title=\"psysml:af99adbc-0034-4f7c-9fbe-52493ca28392\" xlink:actuate=\"onRequest\" xlink:href=\"psysml:af99adbc-0034-4f7c-9fbe-52493ca28392\" xlink:show=\"new\" xlink:title=\"psysml:af99adbc-0034-4f7c-9fbe-52493ca28392\" xlink:type=\"simple\"><rect fill=\"#FFFFFF\" height=\"42.9375\" id=\"E7\" style=\"stroke: #383838; stroke-width: 1.5;\" width=\"75\" x=\"380.5\" y=\"84\"/><rect fill=\"#F8F8F8\" height=\"37.9375\" style=\"stroke: #383838; stroke-width: 1.5;\" width=\"75\" x=\"380.5\" y=\"84\"/><text fill=\"#000000\" font-family=\"sans-serif\" font-size=\"12\" font-style=\"italic\" lengthAdjust=\"spacingAndGlyphs\" textLength=\"68\" x=\"384\" y=\"100.1387\">«part  def»</text><text fill=\"#000000\" font-family=\"sans-serif\" font-size=\"12\" lengthAdjust=\"spacingAndGlyphs\" textLength=\"8\" x=\"414\" y=\"114.1074\">B</text></a></g><g id=\"E1.E8\"><a href=\"psysml:a38466df-faf8-4af5-a290-fb7428072c5f\" target=\"_top\" title=\"psysml:a38466df-faf8-4af5-a290-fb7428072c5f\" xlink:actuate=\"onRequest\" xlink:href=\"psysml:a38466df-faf8-4af5-a290-fb7428072c5f\" xlink:show=\"new\" xlink:title=\"psysml:a38466df-faf8-4af5-a290-fb7428072c5f\" xlink:type=\"simple\"><rect fill=\"#FFFFFF\" height=\"40\" id=\"E8\" rx=\"10\" ry=\"10\" style=\"stroke: #383838; stroke-width: 1.5;\" width=\"50\" x=\"32\" y=\"85.5\"/><rect fill=\"#F8F8F8\" height=\"23.9688\" rx=\"10\" ry=\"10\" style=\"stroke: #F8F8F8; stroke-width: 1.5;\" width=\"50\" x=\"32\" y=\"85.5\"/><rect fill=\"#F8F8F8\" height=\"10\" style=\"stroke: #F8F8F8; stroke-width: 1.5;\" width=\"50\" x=\"32\" y=\"99.4688\"/><rect fill=\"none\" height=\"40\" id=\"E8\" rx=\"10\" ry=\"10\" style=\"stroke: #383838; stroke-width: 1.5;\" width=\"50\" x=\"32\" y=\"85.5\"/><text fill=\"#000000\" font-family=\"sans-serif\" font-size=\"12\" lengthAdjust=\"spacingAndGlyphs\" textLength=\"21\" x=\"46.5\" y=\"101.6387\">z: B</text></a></g><g id=\"E1.E9.E10\"><a href=\"psysml:d7dc5bce-b37d-4e4e-a49c-d44e6595ca7b\" target=\"_top\" title=\"psysml:d7dc5bce-b37d-4e4e-a49c-d44e6595ca7b\" xlink:actuate=\"onRequest\" xlink:href=\"psysml:d7dc5bce-b37d-4e4e-a49c-d44e6595ca7b\" xlink:show=\"new\" xlink:title=\"psysml:d7dc5bce-b37d-4e4e-a49c-d44e6595ca7b\" xlink:type=\"simple\"><rect fill=\"#FFFFFF\" height=\"40\" id=\"E10\" rx=\"10\" ry=\"10\" style=\"stroke: #383838; stroke-width: 1.5;\" width=\"50\" x=\"275\" y=\"85.5\"/><rect fill=\"#F8F8F8\" height=\"23.9688\" rx=\"10\" ry=\"10\" style=\"stroke: #F8F8F8; stroke-width: 1.5;\" width=\"50\" x=\"275\" y=\"85.5\"/><rect fill=\"#F8F8F8\" height=\"10\" style=\"stroke: #F8F8F8; stroke-width: 1.5;\" width=\"50\" x=\"275\" y=\"99.4688\"/><rect fill=\"none\" height=\"40\" id=\"E10\" rx=\"10\" ry=\"10\" style=\"stroke: #383838; stroke-width: 1.5;\" width=\"50\" x=\"275\" y=\"85.5\"/><text fill=\"#000000\" font-family=\"sans-serif\" font-size=\"12\" lengthAdjust=\"spacingAndGlyphs\" textLength=\"29\" x=\"285.5\" y=\"101.6387\">z1: A</text></a></g><!--MD5=[8f81c2c5dba3c36af0b1dae2f6212110]\n",
       "@startuml\r\n",
       "skinparam ranksep 10\r\n",
       "skinparam rectangle {\r\n",
       " backgroundColor<<block>> LightGreen\r\n",
       "}\r\n",
       "skinparam linetype ortho\r\n",
       "skinparam monochrome true\r\n",
       "skinparam classbackgroundcolor white\r\n",
       "skinparam shadowing false\r\n",
       "skinparam wrapWidth 300\r\n",
       "hide circle\r\n",
       "\r\n",
       "package \"PrivateImportTest\" as E1  [[psysml:2415ca44-1de1-4a98-b3f0-a39d5285a5bd ]]  {\r\n",
       "package \"P1\" as E2  [[psysml:426e250f-8977-4e89-b166-3835fc91b530 ]]  {\r\n",
       "rec def \"A\" as E3  <<(T,blue) part  def>> [[psysml:0a0c0374-c89d-44f1-8ff3-be2f7c1a5b8f ]] {\r\n",
       "}\r\n",
       "}\r\n",
       "package \"P2\" as E4  [[psysml:9b62d657-9794-4032-9fa2-9f176e634d4a ]]  {\r\n",
       "}\r\n",
       "rec usage \"x: A\" as E5  [[psysml:99b80f3a-0072-46fe-b843-b9a836066a51 ]] {\r\n",
       "}\r\n",
       "package \"P3\" as E6  [[psysml:fe85458f-8707-492f-a6ea-e7b6b29e5b91 ]]  {\r\n",
       "rec def \"B\" as E7  <<(T,blue) part  def>> [[psysml:af99adbc-0034-4f7c-9fbe-52493ca28392 ]] {\r\n",
       "}\r\n",
       "}\r\n",
       "rec usage \"z: B\" as E8  [[psysml:a38466df-faf8-4af5-a290-fb7428072c5f ]] {\r\n",
       "}\r\n",
       "package \"P4\" as E9  [[psysml:77a03853-3516-49bc-9a88-c5db4c10002c ]]  {\r\n",
       "rec usage \"z1: A\" as E10  [[psysml:d7dc5bce-b37d-4e4e-a49c-d44e6595ca7b ]] {\r\n",
       "}\r\n",
       "}\r\n",
       "}\r\n",
       "@enduml\r\n",
       "\n",
       "PlantUML version 1.2020.13(Sat Jun 13 12:26:38 UTC 2020)\n",
       "(EPL source distribution)\n",
       "Java Runtime: OpenJDK Runtime Environment\n",
       "JVM: OpenJDK 64-Bit Server VM\n",
       "Default Encoding: UTF-8\n",
       "Language: en\n",
       "Country: null\n",
       "--></g></svg>"
      ]
     },
     "execution_count": 54,
     "metadata": {},
     "output_type": "execute_result"
    }
   ],
   "source": [
    "%viz --style=\"ORTHOLINE\" --view=\"Interconnection\" \"PrivateImportTest\""
   ]
  },
  {
   "cell_type": "code",
   "execution_count": 55,
   "id": "8e9437b2",
   "metadata": {
    "execution": {
     "iopub.execute_input": "2021-10-25T08:22:23.936823Z",
     "iopub.status.busy": "2021-10-25T08:22:23.936313Z",
     "iopub.status.idle": "2021-10-25T08:22:23.941872Z",
     "shell.execute_reply": "2021-10-25T08:22:23.941494Z"
    }
   },
   "outputs": [
    {
     "data": {
      "image/svg+xml": [
       "<?xml version=\"1.0\" encoding=\"UTF-8\" standalone=\"no\"?><svg xmlns=\"http://www.w3.org/2000/svg\" xmlns:xlink=\"http://www.w3.org/1999/xlink\" contentScriptType=\"application/ecmascript\" contentStyleType=\"text/css\" height=\"12px\" preserveAspectRatio=\"none\" style=\"width:12px;height:12px;\" version=\"1.1\" viewBox=\"0 0 12 12\" width=\"12px\" zoomAndPan=\"magnify\"><defs/><g><!--MD5=[72934c63077099a26744516a776b4749]\n",
       "@startuml\r\n",
       "skinparam ranksep 8\r\n",
       "skinparam linetype ortho\r\n",
       "skinparam monochrome true\r\n",
       "skinparam classbackgroundcolor white\r\n",
       "skinparam shadowing false\r\n",
       "skinparam wrapWidth 300\r\n",
       "hide circle\r\n",
       "\r\n",
       "@enduml\r\n",
       "\n",
       "PlantUML version 1.2020.13(Sat Jun 13 12:26:38 UTC 2020)\n",
       "(EPL source distribution)\n",
       "Java Runtime: OpenJDK Runtime Environment\n",
       "JVM: OpenJDK 64-Bit Server VM\n",
       "Default Encoding: UTF-8\n",
       "Language: en\n",
       "Country: null\n",
       "--></g></svg>"
      ]
     },
     "execution_count": 55,
     "metadata": {},
     "output_type": "execute_result"
    }
   ],
   "source": [
    "%viz --style=\"ORTHOLINE\" --view=\"Action\" \"PrivateImportTest\""
   ]
  },
  {
   "cell_type": "code",
   "execution_count": 56,
   "id": "8510e9e5",
   "metadata": {
    "execution": {
     "iopub.execute_input": "2021-10-25T08:22:23.991353Z",
     "iopub.status.busy": "2021-10-25T08:22:23.990917Z",
     "iopub.status.idle": "2021-10-25T08:22:23.996266Z",
     "shell.execute_reply": "2021-10-25T08:22:23.995842Z"
    }
   },
   "outputs": [
    {
     "data": {
      "image/svg+xml": [
       "<?xml version=\"1.0\" encoding=\"UTF-8\" standalone=\"no\"?><svg xmlns=\"http://www.w3.org/2000/svg\" xmlns:xlink=\"http://www.w3.org/1999/xlink\" contentScriptType=\"application/ecmascript\" contentStyleType=\"text/css\" height=\"12px\" preserveAspectRatio=\"none\" style=\"width:12px;height:12px;\" version=\"1.1\" viewBox=\"0 0 12 12\" width=\"12px\" zoomAndPan=\"magnify\"><defs/><g><!--MD5=[30fc1de5121c5abddedd55b44417fde8]\n",
       "@startuml\r\n",
       "skinparam roundcorner 20\r\n",
       "skinparam BoxPadding 20\r\n",
       "skinparam SequenceBoxBackgroundColor #white\r\n",
       "skinparam style strictuml\r\n",
       "skinparam maxMessageSize 100\r\n",
       "skinparam linetype ortho\r\n",
       "skinparam monochrome true\r\n",
       "skinparam classbackgroundcolor white\r\n",
       "skinparam shadowing false\r\n",
       "skinparam wrapWidth 300\r\n",
       "hide circle\r\n",
       "\r\n",
       "@enduml\r\n",
       "\n",
       "PlantUML version 1.2020.13(Sat Jun 13 12:26:38 UTC 2020)\n",
       "(EPL source distribution)\n",
       "Java Runtime: OpenJDK Runtime Environment\n",
       "JVM: OpenJDK 64-Bit Server VM\n",
       "Default Encoding: UTF-8\n",
       "Language: en\n",
       "Country: null\n",
       "--></g></svg>"
      ]
     },
     "execution_count": 56,
     "metadata": {},
     "output_type": "execute_result"
    }
   ],
   "source": [
    "%viz --style=\"ORTHOLINE\" --view=\"Sequence\" \"PrivateImportTest\""
   ]
  },
  {
   "cell_type": "code",
   "execution_count": 57,
   "id": "97279b1c",
   "metadata": {
    "execution": {
     "iopub.execute_input": "2021-10-25T08:22:24.045709Z",
     "iopub.status.busy": "2021-10-25T08:22:24.045275Z",
     "iopub.status.idle": "2021-10-25T08:22:24.077449Z",
     "shell.execute_reply": "2021-10-25T08:22:24.075543Z"
    }
   },
   "outputs": [
    {
     "data": {
      "image/svg+xml": [
       "<?xml version=\"1.0\" encoding=\"UTF-8\" standalone=\"no\"?><svg xmlns=\"http://www.w3.org/2000/svg\" xmlns:xlink=\"http://www.w3.org/1999/xlink\" contentScriptType=\"application/ecmascript\" contentStyleType=\"text/css\" height=\"303px\" preserveAspectRatio=\"none\" style=\"width:363px;height:303px;\" version=\"1.1\" viewBox=\"0 0 363 303\" width=\"363px\" zoomAndPan=\"magnify\"><defs/><g><!--MD5=[fbc87193dbaf4d95561dea2c320d4a47]\n",
       "cluster E1--><a href=\"psysml:2415ca44-1de1-4a98-b3f0-a39d5285a5bd\" target=\"_top\" title=\"psysml:2415ca44-1de1-4a98-b3f0-a39d5285a5bd\" xlink:actuate=\"onRequest\" xlink:href=\"psysml:2415ca44-1de1-4a98-b3f0-a39d5285a5bd\" xlink:show=\"new\" xlink:title=\"psysml:2415ca44-1de1-4a98-b3f0-a39d5285a5bd\" xlink:type=\"simple\"><polygon fill=\"#FFFFFF\" points=\"16,6,143,6,150,28.2969,341,28.2969,341,291,16,291,16,6\" style=\"stroke: #000000; stroke-width: 1.5;\"/><line style=\"stroke: #000000; stroke-width: 1.5;\" x1=\"16\" x2=\"150\" y1=\"28.2969\" y2=\"28.2969\"/><text fill=\"#000000\" font-family=\"sans-serif\" font-size=\"14\" font-weight=\"bold\" lengthAdjust=\"spacingAndGlyphs\" textLength=\"121\" x=\"20\" y=\"20.9951\">PrivateImportTest</text></a><!--MD5=[e4f7fae6ed58524ba242bb0b0d3be6b7]\n",
       "cluster E2--><a href=\"psysml:426e250f-8977-4e89-b166-3835fc91b530\" target=\"_top\" title=\"psysml:426e250f-8977-4e89-b166-3835fc91b530\" xlink:actuate=\"onRequest\" xlink:href=\"psysml:426e250f-8977-4e89-b166-3835fc91b530\" xlink:show=\"new\" xlink:title=\"psysml:426e250f-8977-4e89-b166-3835fc91b530\" xlink:type=\"simple\"><polygon fill=\"#FFFFFF\" points=\"208,170,232,170,239,192.2969,310,192.2969,310,267,208,267,208,170\" style=\"stroke: #000000; stroke-width: 1.5;\"/><line style=\"stroke: #000000; stroke-width: 1.5;\" x1=\"208\" x2=\"239\" y1=\"192.2969\" y2=\"192.2969\"/><text fill=\"#000000\" font-family=\"sans-serif\" font-size=\"14\" font-weight=\"bold\" lengthAdjust=\"spacingAndGlyphs\" textLength=\"18\" x=\"212\" y=\"184.9951\">P1</text></a><!--MD5=[14e3b0961a2654348d326746436168a1]\n",
       "cluster E6--><a href=\"psysml:fe85458f-8707-492f-a6ea-e7b6b29e5b91\" target=\"_top\" title=\"psysml:fe85458f-8707-492f-a6ea-e7b6b29e5b91\" xlink:actuate=\"onRequest\" xlink:href=\"psysml:fe85458f-8707-492f-a6ea-e7b6b29e5b91\" xlink:show=\"new\" xlink:title=\"psysml:fe85458f-8707-492f-a6ea-e7b6b29e5b91\" xlink:type=\"simple\"><polygon fill=\"#FFFFFF\" points=\"75,170,99,170,106,192.2969,177,192.2969,177,267,75,267,75,170\" style=\"stroke: #000000; stroke-width: 1.5;\"/><line style=\"stroke: #000000; stroke-width: 1.5;\" x1=\"75\" x2=\"106\" y1=\"192.2969\" y2=\"192.2969\"/><text fill=\"#000000\" font-family=\"sans-serif\" font-size=\"14\" font-weight=\"bold\" lengthAdjust=\"spacingAndGlyphs\" textLength=\"18\" x=\"79\" y=\"184.9951\">P3</text></a><!--MD5=[7f149f147074ac12df2cb0a7728a5fb0]\n",
       "cluster E9--><a href=\"psysml:77a03853-3516-49bc-9a88-c5db4c10002c\" target=\"_top\" title=\"psysml:77a03853-3516-49bc-9a88-c5db4c10002c\" xlink:actuate=\"onRequest\" xlink:href=\"psysml:77a03853-3516-49bc-9a88-c5db4c10002c\" xlink:show=\"new\" xlink:title=\"psysml:77a03853-3516-49bc-9a88-c5db4c10002c\" xlink:type=\"simple\"><polygon fill=\"#FFFFFF\" points=\"243,49,267,49,274,71.2969,317,71.2969,317,146,243,146,243,49\" style=\"stroke: #000000; stroke-width: 1.5;\"/><line style=\"stroke: #000000; stroke-width: 1.5;\" x1=\"243\" x2=\"274\" y1=\"71.2969\" y2=\"71.2969\"/><text fill=\"#000000\" font-family=\"sans-serif\" font-size=\"14\" font-weight=\"bold\" lengthAdjust=\"spacingAndGlyphs\" textLength=\"18\" x=\"247\" y=\"63.9951\">P4</text></a><!--MD5=[270fce915f116d4de14055a7c1d9a0f3]\n",
       "class E5--><a href=\"psysml:99b80f3a-0072-46fe-b843-b9a836066a51\" target=\"_top\" title=\"psysml:99b80f3a-0072-46fe-b843-b9a836066a51\" xlink:actuate=\"onRequest\" xlink:href=\"psysml:99b80f3a-0072-46fe-b843-b9a836066a51\" xlink:show=\"new\" xlink:title=\"psysml:99b80f3a-0072-46fe-b843-b9a836066a51\" xlink:type=\"simple\"><rect fill=\"#FFFFFF\" height=\"45.9375\" id=\"E5\" rx=\"10\" ry=\"10\" style=\"stroke: #383838; stroke-width: 1.5;\" width=\"42\" x=\"182\" y=\"84\"/><text fill=\"#000000\" font-family=\"sans-serif\" font-size=\"12\" font-style=\"italic\" lengthAdjust=\"spacingAndGlyphs\" textLength=\"40\" x=\"183\" y=\"100.1387\">«part»</text><text fill=\"#000000\" font-family=\"sans-serif\" font-size=\"12\" lengthAdjust=\"spacingAndGlyphs\" textLength=\"22\" x=\"190\" y=\"114.1074\">x: A</text><line style=\"stroke: #383838; stroke-width: 1.5;\" x1=\"183\" x2=\"223\" y1=\"121.9375\" y2=\"121.9375\"/></a><!--MD5=[b9389687b975829384b498ac4b7476b2]\n",
       "class E8--><a href=\"psysml:a38466df-faf8-4af5-a290-fb7428072c5f\" target=\"_top\" title=\"psysml:a38466df-faf8-4af5-a290-fb7428072c5f\" xlink:actuate=\"onRequest\" xlink:href=\"psysml:a38466df-faf8-4af5-a290-fb7428072c5f\" xlink:show=\"new\" xlink:title=\"psysml:a38466df-faf8-4af5-a290-fb7428072c5f\" xlink:type=\"simple\"><rect fill=\"#FFFFFF\" height=\"45.9375\" id=\"E8\" rx=\"10\" ry=\"10\" style=\"stroke: #383838; stroke-width: 1.5;\" width=\"42\" x=\"105\" y=\"84\"/><text fill=\"#000000\" font-family=\"sans-serif\" font-size=\"12\" font-style=\"italic\" lengthAdjust=\"spacingAndGlyphs\" textLength=\"40\" x=\"106\" y=\"100.1387\">«part»</text><text fill=\"#000000\" font-family=\"sans-serif\" font-size=\"12\" lengthAdjust=\"spacingAndGlyphs\" textLength=\"21\" x=\"113.5\" y=\"114.1074\">z: B</text><line style=\"stroke: #383838; stroke-width: 1.5;\" x1=\"106\" x2=\"146\" y1=\"121.9375\" y2=\"121.9375\"/></a><!--MD5=[09b614a08d8cba4a07c9adeb5e0fee81]\n",
       "class E3--><a href=\"psysml:0a0c0374-c89d-44f1-8ff3-be2f7c1a5b8f\" target=\"_top\" title=\"psysml:0a0c0374-c89d-44f1-8ff3-be2f7c1a5b8f\" xlink:actuate=\"onRequest\" xlink:href=\"psysml:0a0c0374-c89d-44f1-8ff3-be2f7c1a5b8f\" xlink:show=\"new\" xlink:title=\"psysml:0a0c0374-c89d-44f1-8ff3-be2f7c1a5b8f\" xlink:type=\"simple\"><rect fill=\"#FFFFFF\" height=\"45.9375\" id=\"E3\" style=\"stroke: #383838; stroke-width: 1.5;\" width=\"70\" x=\"224\" y=\"205\"/><text fill=\"#000000\" font-family=\"sans-serif\" font-size=\"12\" font-style=\"italic\" lengthAdjust=\"spacingAndGlyphs\" textLength=\"68\" x=\"225\" y=\"221.1387\">«part  def»</text><text fill=\"#000000\" font-family=\"sans-serif\" font-size=\"12\" lengthAdjust=\"spacingAndGlyphs\" textLength=\"8\" x=\"255\" y=\"235.1074\">A</text><line style=\"stroke: #383838; stroke-width: 1.5;\" x1=\"225\" x2=\"293\" y1=\"242.9375\" y2=\"242.9375\"/></a><a href=\"psysml:9b62d657-9794-4032-9fa2-9f176e634d4a\" target=\"_top\" title=\"psysml:9b62d657-9794-4032-9fa2-9f176e634d4a\" xlink:actuate=\"onRequest\" xlink:href=\"psysml:9b62d657-9794-4032-9fa2-9f176e634d4a\" xlink:show=\"new\" xlink:title=\"psysml:9b62d657-9794-4032-9fa2-9f176e634d4a\" xlink:type=\"simple\"><polygon fill=\"#FFFFFF\" points=\"32,80.5,56,80.5,63,102.7969,70,102.7969,70,133.0938,32,133.0938,32,80.5\" style=\"stroke: #000000; stroke-width: 1.5;\"/><line style=\"stroke: #000000; stroke-width: 1.5;\" x1=\"32\" x2=\"63\" y1=\"102.7969\" y2=\"102.7969\"/><text fill=\"#000000\" font-family=\"sans-serif\" font-size=\"14\" font-weight=\"bold\" lengthAdjust=\"spacingAndGlyphs\" textLength=\"18\" x=\"36\" y=\"95.4951\">P2</text></a><!--MD5=[2156ba9850f5573cc1fc38a6a4b2f02b]\n",
       "class E7--><a href=\"psysml:af99adbc-0034-4f7c-9fbe-52493ca28392\" target=\"_top\" title=\"psysml:af99adbc-0034-4f7c-9fbe-52493ca28392\" xlink:actuate=\"onRequest\" xlink:href=\"psysml:af99adbc-0034-4f7c-9fbe-52493ca28392\" xlink:show=\"new\" xlink:title=\"psysml:af99adbc-0034-4f7c-9fbe-52493ca28392\" xlink:type=\"simple\"><rect fill=\"#FFFFFF\" height=\"45.9375\" id=\"E7\" style=\"stroke: #383838; stroke-width: 1.5;\" width=\"70\" x=\"91\" y=\"205\"/><text fill=\"#000000\" font-family=\"sans-serif\" font-size=\"12\" font-style=\"italic\" lengthAdjust=\"spacingAndGlyphs\" textLength=\"68\" x=\"92\" y=\"221.1387\">«part  def»</text><text fill=\"#000000\" font-family=\"sans-serif\" font-size=\"12\" lengthAdjust=\"spacingAndGlyphs\" textLength=\"8\" x=\"122\" y=\"235.1074\">B</text><line style=\"stroke: #383838; stroke-width: 1.5;\" x1=\"92\" x2=\"160\" y1=\"242.9375\" y2=\"242.9375\"/></a><!--MD5=[96f4274e9e20536e775497830990834d]\n",
       "class E10--><a href=\"psysml:d7dc5bce-b37d-4e4e-a49c-d44e6595ca7b\" target=\"_top\" title=\"psysml:d7dc5bce-b37d-4e4e-a49c-d44e6595ca7b\" xlink:actuate=\"onRequest\" xlink:href=\"psysml:d7dc5bce-b37d-4e4e-a49c-d44e6595ca7b\" xlink:show=\"new\" xlink:title=\"psysml:d7dc5bce-b37d-4e4e-a49c-d44e6595ca7b\" xlink:type=\"simple\"><rect fill=\"#FFFFFF\" height=\"45.9375\" id=\"E10\" rx=\"10\" ry=\"10\" style=\"stroke: #383838; stroke-width: 1.5;\" width=\"42\" x=\"259\" y=\"84\"/><text fill=\"#000000\" font-family=\"sans-serif\" font-size=\"12\" font-style=\"italic\" lengthAdjust=\"spacingAndGlyphs\" textLength=\"40\" x=\"260\" y=\"100.1387\">«part»</text><text fill=\"#000000\" font-family=\"sans-serif\" font-size=\"12\" lengthAdjust=\"spacingAndGlyphs\" textLength=\"29\" x=\"263.5\" y=\"114.1074\">z1: A</text><line style=\"stroke: #383838; stroke-width: 1.5;\" x1=\"260\" x2=\"300\" y1=\"121.9375\" y2=\"121.9375\"/></a><!--MD5=[e9be52314489bd878ff4c7144b63c9e1]\n",
       "link E5 to E3--><a href=\"psysml:2e6435ee-ec1e-47e4-8fad-fb77072556f4\" target=\"_top\" title=\"psysml:2e6435ee-ec1e-47e4-8fad-fb77072556f4\" xlink:actuate=\"onRequest\" xlink:href=\"psysml:2e6435ee-ec1e-47e4-8fad-fb77072556f4\" xlink:show=\"new\" xlink:title=\"psysml:2e6435ee-ec1e-47e4-8fad-fb77072556f4\" xlink:type=\"simple\"><path d=\"M224.05,107 C233.04,107 241.5,107 241.5,107 C241.5,107 241.5,184.96 241.5,184.96 \" fill=\"none\" id=\"E5-&gt;E3\" style=\"stroke: #383838; stroke-width: 1.0;\"/><polygon fill=\"#FFFFFF\" points=\"241.5,204.96,234.5,185.96,248.5,185.96,241.5,204.96\" style=\"stroke: #383838; stroke-width: 1.0;\"/><ellipse cx=\"236.5\" cy=\"180.26\" fill=\"#383838\" rx=\"2\" ry=\"2\" style=\"stroke: #383838; stroke-width: 1.0;\"/><ellipse cx=\"246.5\" cy=\"180.26\" fill=\"#383838\" rx=\"2\" ry=\"2\" style=\"stroke: #383838; stroke-width: 1.0;\"/></a><!--MD5=[bfa3c8b0d15052fdf50ae9310b491027]\n",
       "link E8 to E7--><a href=\"psysml:f11bc7c0-c938-426a-87a4-76c9b47cac7e\" target=\"_top\" title=\"psysml:f11bc7c0-c938-426a-87a4-76c9b47cac7e\" xlink:actuate=\"onRequest\" xlink:href=\"psysml:f11bc7c0-c938-426a-87a4-76c9b47cac7e\" xlink:show=\"new\" xlink:title=\"psysml:f11bc7c0-c938-426a-87a4-76c9b47cac7e\" xlink:type=\"simple\"><path d=\"M126,130.04 C126,130.04 126,184.63 126,184.63 \" fill=\"none\" id=\"E8-&gt;E7\" style=\"stroke: #383838; stroke-width: 1.0;\"/><polygon fill=\"#FFFFFF\" points=\"126,204.63,119,185.63,133,185.63,126,204.63\" style=\"stroke: #383838; stroke-width: 1.0;\"/><ellipse cx=\"121\" cy=\"179.93\" fill=\"#383838\" rx=\"2\" ry=\"2\" style=\"stroke: #383838; stroke-width: 1.0;\"/><ellipse cx=\"131\" cy=\"179.93\" fill=\"#383838\" rx=\"2\" ry=\"2\" style=\"stroke: #383838; stroke-width: 1.0;\"/></a><!--MD5=[feeac5eb423634930294aa81f2d25a4c]\n",
       "link E10 to E3--><a href=\"psysml:21a673ac-f9f6-428c-a165-60ea4300f397\" target=\"_top\" title=\"psysml:21a673ac-f9f6-428c-a165-60ea4300f397\" xlink:actuate=\"onRequest\" xlink:href=\"psysml:21a673ac-f9f6-428c-a165-60ea4300f397\" xlink:show=\"new\" xlink:title=\"psysml:21a673ac-f9f6-428c-a165-60ea4300f397\" xlink:type=\"simple\"><path d=\"M276.5,130.04 C276.5,130.04 276.5,184.63 276.5,184.63 \" fill=\"none\" id=\"E10-&gt;E3\" style=\"stroke: #383838; stroke-width: 1.0;\"/><polygon fill=\"#FFFFFF\" points=\"276.5,204.63,269.5,185.63,283.5,185.63,276.5,204.63\" style=\"stroke: #383838; stroke-width: 1.0;\"/><ellipse cx=\"271.5\" cy=\"179.93\" fill=\"#383838\" rx=\"2\" ry=\"2\" style=\"stroke: #383838; stroke-width: 1.0;\"/><ellipse cx=\"281.5\" cy=\"179.93\" fill=\"#383838\" rx=\"2\" ry=\"2\" style=\"stroke: #383838; stroke-width: 1.0;\"/></a><!--MD5=[1aea3e5b7a82e13bedd86a5aac4d1943]\n",
       "@startuml\r\n",
       "skinparam linetype ortho\r\n",
       "skinparam monochrome true\r\n",
       "skinparam classbackgroundcolor white\r\n",
       "skinparam shadowing false\r\n",
       "skinparam wrapWidth 300\r\n",
       "hide circle\r\n",
       "\r\n",
       "package \"PrivateImportTest\" as E1  [[psysml:2415ca44-1de1-4a98-b3f0-a39d5285a5bd ]]  {\r\n",
       "package \"P1\" as E2  [[psysml:426e250f-8977-4e89-b166-3835fc91b530 ]]  {\r\n",
       "comp def \"A\" as E3  <<(T,blue) part  def>> [[psysml:0a0c0374-c89d-44f1-8ff3-be2f7c1a5b8f ]] {\r\n",
       "}\r\n",
       "}\r\n",
       "package \"P2\" as E4  [[psysml:9b62d657-9794-4032-9fa2-9f176e634d4a ]]  {\r\n",
       "}\r\n",
       "comp usage \"x: A \" as E5  <<(T,blue) part>> [[psysml:99b80f3a-0072-46fe-b843-b9a836066a51 ]] {\r\n",
       "}\r\n",
       "package \"P3\" as E6  [[psysml:fe85458f-8707-492f-a6ea-e7b6b29e5b91 ]]  {\r\n",
       "comp def \"B\" as E7  <<(T,blue) part  def>> [[psysml:af99adbc-0034-4f7c-9fbe-52493ca28392 ]] {\r\n",
       "}\r\n",
       "}\r\n",
       "comp usage \"z: B \" as E8  <<(T,blue) part>> [[psysml:a38466df-faf8-4af5-a290-fb7428072c5f ]] {\r\n",
       "}\r\n",
       "package \"P4\" as E9  [[psysml:77a03853-3516-49bc-9a88-c5db4c10002c ]]  {\r\n",
       "comp usage \"z1: A \" as E10  <<(T,blue) part>> [[psysml:d7dc5bce-b37d-4e4e-a49c-d44e6595ca7b ]] {\r\n",
       "}\r\n",
       "}\r\n",
       "}\r\n",
       "E5 - -:|> E3 [[psysml:2e6435ee-ec1e-47e4-8fad-fb77072556f4 ]] \r\n",
       "E8 - -:|> E7 [[psysml:f11bc7c0-c938-426a-87a4-76c9b47cac7e ]] \r\n",
       "E10 - -:|> E3 [[psysml:21a673ac-f9f6-428c-a165-60ea4300f397 ]] \r\n",
       "@enduml\r\n",
       "\n",
       "PlantUML version 1.2020.13(Sat Jun 13 12:26:38 UTC 2020)\n",
       "(EPL source distribution)\n",
       "Java Runtime: OpenJDK Runtime Environment\n",
       "JVM: OpenJDK 64-Bit Server VM\n",
       "Default Encoding: UTF-8\n",
       "Language: en\n",
       "Country: null\n",
       "--></g></svg>"
      ]
     },
     "execution_count": 57,
     "metadata": {},
     "output_type": "execute_result"
    }
   ],
   "source": [
    "%viz --style=\"ORTHOLINE\" --view=\"MIXED\" \"PrivateImportTest\""
   ]
  }
 ],
 "metadata": {
  "kernelspec": {
   "display_name": "SysML",
   "language": "sysml",
   "name": "sysml"
  },
  "language_info": {
   "codemirror_mode": "sysml",
   "file_extension": ".sysml",
   "mimetype": "text/x-sysml",
   "name": "SysML",
   "pygments_lexer": "java",
   "version": "1.0.0"
  }
 },
 "nbformat": 4,
 "nbformat_minor": 5
}
