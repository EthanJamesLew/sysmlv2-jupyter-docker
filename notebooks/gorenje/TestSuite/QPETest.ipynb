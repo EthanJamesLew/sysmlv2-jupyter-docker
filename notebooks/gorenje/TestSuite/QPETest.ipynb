{
 "cells": [
  {
   "cell_type": "markdown",
   "id": "9db2217d",
   "metadata": {},
   "source": [
    "# SysML v2 Test Suite\n",
    "\n",
    "This can notebook can be cleared using menu `Edit --> Clear All Outputs` and then all cells can be\n",
    "run using menu `Run --> Run All Cells`.\n",
    "\n",
    "**WARNING**: This file is generated, all modifications here will be ignored.\n"
   ]
  },
  {
   "cell_type": "markdown",
   "id": "cfef9dba",
   "metadata": {},
   "source": [
    "## File: ../../sysml/src/examples/Simple Tests/QPETest.sysml"
   ]
  },
  {
   "cell_type": "code",
   "execution_count": 1,
   "id": "d85de39a",
   "metadata": {
    "execution": {
     "iopub.execute_input": "2021-05-27T06:07:23.550139Z",
     "iopub.status.busy": "2021-05-27T06:07:23.547884Z",
     "iopub.status.idle": "2021-05-27T06:07:23.807488Z",
     "shell.execute_reply": "2021-05-27T06:07:23.807046Z"
    }
   },
   "outputs": [
    {
     "name": "stderr",
     "output_type": "stream",
     "text": [
      "ERROR:For input string: \".\" (1.sysml line : 6 column : 14)\n"
     ]
    },
    {
     "data": {
      "text/plain": []
     },
     "execution_count": 1,
     "metadata": {},
     "output_type": "execute_result"
    }
   ],
   "source": [
    "package Q {\n",
    "  part f {\n",
    "  \tpart a;\n",
    "  }\n",
    "  part def C {\n",
    "    part g = ./f/a; \n",
    "  }\n",
    "}\n"
   ]
  },
  {
   "cell_type": "code",
   "execution_count": 2,
   "id": "afc768d1",
   "metadata": {
    "execution": {
     "iopub.execute_input": "2021-05-27T06:07:23.858848Z",
     "iopub.status.busy": "2021-05-27T06:07:23.858412Z",
     "iopub.status.idle": "2021-05-27T06:07:23.864731Z",
     "shell.execute_reply": "2021-05-27T06:07:23.865007Z"
    }
   },
   "outputs": [
    {
     "data": {
      "text/plain": [
       "ERROR:Couldn't resolve reference to Element 'Q'\n"
      ]
     },
     "execution_count": 2,
     "metadata": {},
     "output_type": "execute_result"
    }
   ],
   "source": [
    "%viz --style=\"COMPTREE\" --view=\"Default\" \"Q\""
   ]
  },
  {
   "cell_type": "code",
   "execution_count": 3,
   "id": "9cfbe0b7",
   "metadata": {
    "execution": {
     "iopub.execute_input": "2021-05-27T06:07:23.916294Z",
     "iopub.status.busy": "2021-05-27T06:07:23.915893Z",
     "iopub.status.idle": "2021-05-27T06:07:23.917314Z",
     "shell.execute_reply": "2021-05-27T06:07:23.917576Z"
    }
   },
   "outputs": [
    {
     "data": {
      "text/plain": [
       "ERROR:Couldn't resolve reference to Element 'Q'\n"
      ]
     },
     "execution_count": 3,
     "metadata": {},
     "output_type": "execute_result"
    }
   ],
   "source": [
    "%viz --style=\"COMPTREE\" --view=\"Tree\" \"Q\""
   ]
  },
  {
   "cell_type": "code",
   "execution_count": 4,
   "id": "dacc948c",
   "metadata": {
    "execution": {
     "iopub.execute_input": "2021-05-27T06:07:23.968406Z",
     "iopub.status.busy": "2021-05-27T06:07:23.968064Z",
     "iopub.status.idle": "2021-05-27T06:07:23.969379Z",
     "shell.execute_reply": "2021-05-27T06:07:23.969678Z"
    }
   },
   "outputs": [
    {
     "data": {
      "text/plain": [
       "ERROR:Couldn't resolve reference to Element 'Q'\n"
      ]
     },
     "execution_count": 4,
     "metadata": {},
     "output_type": "execute_result"
    }
   ],
   "source": [
    "%viz --style=\"COMPTREE\" --view=\"State\" \"Q\""
   ]
  },
  {
   "cell_type": "code",
   "execution_count": 5,
   "id": "ddae6f2e",
   "metadata": {
    "execution": {
     "iopub.execute_input": "2021-05-27T06:07:24.020845Z",
     "iopub.status.busy": "2021-05-27T06:07:24.020423Z",
     "iopub.status.idle": "2021-05-27T06:07:24.022077Z",
     "shell.execute_reply": "2021-05-27T06:07:24.021788Z"
    }
   },
   "outputs": [
    {
     "data": {
      "text/plain": [
       "ERROR:Couldn't resolve reference to Element 'Q'\n"
      ]
     },
     "execution_count": 5,
     "metadata": {},
     "output_type": "execute_result"
    }
   ],
   "source": [
    "%viz --style=\"COMPTREE\" --view=\"Interconnection\" \"Q\""
   ]
  },
  {
   "cell_type": "code",
   "execution_count": 6,
   "id": "09410034",
   "metadata": {
    "execution": {
     "iopub.execute_input": "2021-05-27T06:07:24.072931Z",
     "iopub.status.busy": "2021-05-27T06:07:24.072547Z",
     "iopub.status.idle": "2021-05-27T06:07:24.074155Z",
     "shell.execute_reply": "2021-05-27T06:07:24.073844Z"
    }
   },
   "outputs": [
    {
     "data": {
      "text/plain": [
       "ERROR:Couldn't resolve reference to Element 'Q'\n"
      ]
     },
     "execution_count": 6,
     "metadata": {},
     "output_type": "execute_result"
    }
   ],
   "source": [
    "%viz --style=\"COMPTREE\" --view=\"Action\" \"Q\""
   ]
  },
  {
   "cell_type": "code",
   "execution_count": 7,
   "id": "d06350a4",
   "metadata": {
    "execution": {
     "iopub.execute_input": "2021-05-27T06:07:24.124857Z",
     "iopub.status.busy": "2021-05-27T06:07:24.124430Z",
     "iopub.status.idle": "2021-05-27T06:07:24.125923Z",
     "shell.execute_reply": "2021-05-27T06:07:24.126187Z"
    }
   },
   "outputs": [
    {
     "data": {
      "text/plain": [
       "ERROR:Couldn't resolve reference to Element 'Q'\n"
      ]
     },
     "execution_count": 7,
     "metadata": {},
     "output_type": "execute_result"
    }
   ],
   "source": [
    "%viz --style=\"COMPTREE\" --view=\"Sequence\" \"Q\""
   ]
  },
  {
   "cell_type": "code",
   "execution_count": 8,
   "id": "827e7da4",
   "metadata": {
    "execution": {
     "iopub.execute_input": "2021-05-27T06:07:24.177038Z",
     "iopub.status.busy": "2021-05-27T06:07:24.176674Z",
     "iopub.status.idle": "2021-05-27T06:07:24.178544Z",
     "shell.execute_reply": "2021-05-27T06:07:24.178260Z"
    }
   },
   "outputs": [
    {
     "data": {
      "text/plain": [
       "ERROR:Couldn't resolve reference to Element 'Q'\n"
      ]
     },
     "execution_count": 8,
     "metadata": {},
     "output_type": "execute_result"
    }
   ],
   "source": [
    "%viz --style=\"COMPTREE\" --view=\"MIXED\" \"Q\""
   ]
  },
  {
   "cell_type": "code",
   "execution_count": 9,
   "id": "2cf0d5a0",
   "metadata": {
    "execution": {
     "iopub.execute_input": "2021-05-27T06:07:24.229006Z",
     "iopub.status.busy": "2021-05-27T06:07:24.228628Z",
     "iopub.status.idle": "2021-05-27T06:07:24.230211Z",
     "shell.execute_reply": "2021-05-27T06:07:24.229944Z"
    }
   },
   "outputs": [
    {
     "data": {
      "text/plain": [
       "ERROR:Couldn't resolve reference to Element 'Q'\n"
      ]
     },
     "execution_count": 9,
     "metadata": {},
     "output_type": "execute_result"
    }
   ],
   "source": [
    "%viz --style=\"POLYLINE\" --view=\"Default\" \"Q\""
   ]
  },
  {
   "cell_type": "code",
   "execution_count": 10,
   "id": "782c8b31",
   "metadata": {
    "execution": {
     "iopub.execute_input": "2021-05-27T06:07:24.281616Z",
     "iopub.status.busy": "2021-05-27T06:07:24.281197Z",
     "iopub.status.idle": "2021-05-27T06:07:24.282840Z",
     "shell.execute_reply": "2021-05-27T06:07:24.282511Z"
    }
   },
   "outputs": [
    {
     "data": {
      "text/plain": [
       "ERROR:Couldn't resolve reference to Element 'Q'\n"
      ]
     },
     "execution_count": 10,
     "metadata": {},
     "output_type": "execute_result"
    }
   ],
   "source": [
    "%viz --style=\"POLYLINE\" --view=\"Tree\" \"Q\""
   ]
  },
  {
   "cell_type": "code",
   "execution_count": 11,
   "id": "797cc84b",
   "metadata": {
    "execution": {
     "iopub.execute_input": "2021-05-27T06:07:24.334084Z",
     "iopub.status.busy": "2021-05-27T06:07:24.333611Z",
     "iopub.status.idle": "2021-05-27T06:07:24.335338Z",
     "shell.execute_reply": "2021-05-27T06:07:24.335054Z"
    }
   },
   "outputs": [
    {
     "data": {
      "text/plain": [
       "ERROR:Couldn't resolve reference to Element 'Q'\n"
      ]
     },
     "execution_count": 11,
     "metadata": {},
     "output_type": "execute_result"
    }
   ],
   "source": [
    "%viz --style=\"POLYLINE\" --view=\"State\" \"Q\""
   ]
  },
  {
   "cell_type": "code",
   "execution_count": 12,
   "id": "4e590c5f",
   "metadata": {
    "execution": {
     "iopub.execute_input": "2021-05-27T06:07:24.386026Z",
     "iopub.status.busy": "2021-05-27T06:07:24.385667Z",
     "iopub.status.idle": "2021-05-27T06:07:24.387188Z",
     "shell.execute_reply": "2021-05-27T06:07:24.386912Z"
    }
   },
   "outputs": [
    {
     "data": {
      "text/plain": [
       "ERROR:Couldn't resolve reference to Element 'Q'\n"
      ]
     },
     "execution_count": 12,
     "metadata": {},
     "output_type": "execute_result"
    }
   ],
   "source": [
    "%viz --style=\"POLYLINE\" --view=\"Interconnection\" \"Q\""
   ]
  },
  {
   "cell_type": "code",
   "execution_count": 13,
   "id": "66f566bd",
   "metadata": {
    "execution": {
     "iopub.execute_input": "2021-05-27T06:07:24.441213Z",
     "iopub.status.busy": "2021-05-27T06:07:24.440344Z",
     "iopub.status.idle": "2021-05-27T06:07:24.442866Z",
     "shell.execute_reply": "2021-05-27T06:07:24.441637Z"
    }
   },
   "outputs": [
    {
     "data": {
      "text/plain": [
       "ERROR:Couldn't resolve reference to Element 'Q'\n"
      ]
     },
     "execution_count": 13,
     "metadata": {},
     "output_type": "execute_result"
    }
   ],
   "source": [
    "%viz --style=\"POLYLINE\" --view=\"Action\" \"Q\""
   ]
  },
  {
   "cell_type": "code",
   "execution_count": 14,
   "id": "95a57458",
   "metadata": {
    "execution": {
     "iopub.execute_input": "2021-05-27T06:07:24.494541Z",
     "iopub.status.busy": "2021-05-27T06:07:24.494043Z",
     "iopub.status.idle": "2021-05-27T06:07:24.496211Z",
     "shell.execute_reply": "2021-05-27T06:07:24.495824Z"
    }
   },
   "outputs": [
    {
     "data": {
      "text/plain": [
       "ERROR:Couldn't resolve reference to Element 'Q'\n"
      ]
     },
     "execution_count": 14,
     "metadata": {},
     "output_type": "execute_result"
    }
   ],
   "source": [
    "%viz --style=\"POLYLINE\" --view=\"Sequence\" \"Q\""
   ]
  },
  {
   "cell_type": "code",
   "execution_count": 15,
   "id": "5e893ee8",
   "metadata": {
    "execution": {
     "iopub.execute_input": "2021-05-27T06:07:24.548924Z",
     "iopub.status.busy": "2021-05-27T06:07:24.548216Z",
     "iopub.status.idle": "2021-05-27T06:07:24.550555Z",
     "shell.execute_reply": "2021-05-27T06:07:24.550182Z"
    }
   },
   "outputs": [
    {
     "data": {
      "text/plain": [
       "ERROR:Couldn't resolve reference to Element 'Q'\n"
      ]
     },
     "execution_count": 15,
     "metadata": {},
     "output_type": "execute_result"
    }
   ],
   "source": [
    "%viz --style=\"POLYLINE\" --view=\"MIXED\" \"Q\""
   ]
  },
  {
   "cell_type": "code",
   "execution_count": 16,
   "id": "016b0c1f",
   "metadata": {
    "execution": {
     "iopub.execute_input": "2021-05-27T06:07:24.603811Z",
     "iopub.status.busy": "2021-05-27T06:07:24.603012Z",
     "iopub.status.idle": "2021-05-27T06:07:24.605426Z",
     "shell.execute_reply": "2021-05-27T06:07:24.605061Z"
    }
   },
   "outputs": [
    {
     "data": {
      "text/plain": [
       "ERROR:Couldn't resolve reference to Element 'Q'\n"
      ]
     },
     "execution_count": 16,
     "metadata": {},
     "output_type": "execute_result"
    }
   ],
   "source": [
    "%viz --style=\"LR\" --view=\"Default\" \"Q\""
   ]
  },
  {
   "cell_type": "code",
   "execution_count": 17,
   "id": "5b0c764b",
   "metadata": {
    "execution": {
     "iopub.execute_input": "2021-05-27T06:07:24.658668Z",
     "iopub.status.busy": "2021-05-27T06:07:24.657973Z",
     "iopub.status.idle": "2021-05-27T06:07:24.660193Z",
     "shell.execute_reply": "2021-05-27T06:07:24.660527Z"
    }
   },
   "outputs": [
    {
     "data": {
      "text/plain": [
       "ERROR:Couldn't resolve reference to Element 'Q'\n"
      ]
     },
     "execution_count": 17,
     "metadata": {},
     "output_type": "execute_result"
    }
   ],
   "source": [
    "%viz --style=\"LR\" --view=\"Tree\" \"Q\""
   ]
  },
  {
   "cell_type": "code",
   "execution_count": 18,
   "id": "f37ae18d",
   "metadata": {
    "execution": {
     "iopub.execute_input": "2021-05-27T06:07:24.712850Z",
     "iopub.status.busy": "2021-05-27T06:07:24.712228Z",
     "iopub.status.idle": "2021-05-27T06:07:24.714537Z",
     "shell.execute_reply": "2021-05-27T06:07:24.713378Z"
    }
   },
   "outputs": [
    {
     "data": {
      "text/plain": [
       "ERROR:Couldn't resolve reference to Element 'Q'\n"
      ]
     },
     "execution_count": 18,
     "metadata": {},
     "output_type": "execute_result"
    }
   ],
   "source": [
    "%viz --style=\"LR\" --view=\"State\" \"Q\""
   ]
  },
  {
   "cell_type": "code",
   "execution_count": 19,
   "id": "a4c3cca0",
   "metadata": {
    "execution": {
     "iopub.execute_input": "2021-05-27T06:07:24.766275Z",
     "iopub.status.busy": "2021-05-27T06:07:24.765646Z",
     "iopub.status.idle": "2021-05-27T06:07:24.767911Z",
     "shell.execute_reply": "2021-05-27T06:07:24.766754Z"
    }
   },
   "outputs": [
    {
     "data": {
      "text/plain": [
       "ERROR:Couldn't resolve reference to Element 'Q'\n"
      ]
     },
     "execution_count": 19,
     "metadata": {},
     "output_type": "execute_result"
    }
   ],
   "source": [
    "%viz --style=\"LR\" --view=\"Interconnection\" \"Q\""
   ]
  },
  {
   "cell_type": "code",
   "execution_count": 20,
   "id": "7f5c7627",
   "metadata": {
    "execution": {
     "iopub.execute_input": "2021-05-27T06:07:24.820080Z",
     "iopub.status.busy": "2021-05-27T06:07:24.819233Z",
     "iopub.status.idle": "2021-05-27T06:07:24.821734Z",
     "shell.execute_reply": "2021-05-27T06:07:24.821316Z"
    }
   },
   "outputs": [
    {
     "data": {
      "text/plain": [
       "ERROR:Couldn't resolve reference to Element 'Q'\n"
      ]
     },
     "execution_count": 20,
     "metadata": {},
     "output_type": "execute_result"
    }
   ],
   "source": [
    "%viz --style=\"LR\" --view=\"Action\" \"Q\""
   ]
  },
  {
   "cell_type": "code",
   "execution_count": 21,
   "id": "02fc05d1",
   "metadata": {
    "execution": {
     "iopub.execute_input": "2021-05-27T06:07:24.874160Z",
     "iopub.status.busy": "2021-05-27T06:07:24.873234Z",
     "iopub.status.idle": "2021-05-27T06:07:24.876016Z",
     "shell.execute_reply": "2021-05-27T06:07:24.875589Z"
    }
   },
   "outputs": [
    {
     "data": {
      "text/plain": [
       "ERROR:Couldn't resolve reference to Element 'Q'\n"
      ]
     },
     "execution_count": 21,
     "metadata": {},
     "output_type": "execute_result"
    }
   ],
   "source": [
    "%viz --style=\"LR\" --view=\"Sequence\" \"Q\""
   ]
  },
  {
   "cell_type": "code",
   "execution_count": 22,
   "id": "0a591800",
   "metadata": {
    "execution": {
     "iopub.execute_input": "2021-05-27T06:07:24.928157Z",
     "iopub.status.busy": "2021-05-27T06:07:24.927464Z",
     "iopub.status.idle": "2021-05-27T06:07:24.929967Z",
     "shell.execute_reply": "2021-05-27T06:07:24.928622Z"
    }
   },
   "outputs": [
    {
     "data": {
      "text/plain": [
       "ERROR:Couldn't resolve reference to Element 'Q'\n"
      ]
     },
     "execution_count": 22,
     "metadata": {},
     "output_type": "execute_result"
    }
   ],
   "source": [
    "%viz --style=\"LR\" --view=\"MIXED\" \"Q\""
   ]
  },
  {
   "cell_type": "code",
   "execution_count": 23,
   "id": "594fba42",
   "metadata": {
    "execution": {
     "iopub.execute_input": "2021-05-27T06:07:24.982618Z",
     "iopub.status.busy": "2021-05-27T06:07:24.981701Z",
     "iopub.status.idle": "2021-05-27T06:07:24.984157Z",
     "shell.execute_reply": "2021-05-27T06:07:24.983058Z"
    }
   },
   "outputs": [
    {
     "data": {
      "text/plain": [
       "ERROR:Couldn't resolve reference to Element 'Q'\n"
      ]
     },
     "execution_count": 23,
     "metadata": {},
     "output_type": "execute_result"
    }
   ],
   "source": [
    "%viz --style=\"STDCOLOR\" --view=\"Default\" \"Q\""
   ]
  },
  {
   "cell_type": "code",
   "execution_count": 24,
   "id": "7376c4bb",
   "metadata": {
    "execution": {
     "iopub.execute_input": "2021-05-27T06:07:25.036030Z",
     "iopub.status.busy": "2021-05-27T06:07:25.035122Z",
     "iopub.status.idle": "2021-05-27T06:07:25.037571Z",
     "shell.execute_reply": "2021-05-27T06:07:25.036411Z"
    }
   },
   "outputs": [
    {
     "data": {
      "text/plain": [
       "ERROR:Couldn't resolve reference to Element 'Q'\n"
      ]
     },
     "execution_count": 24,
     "metadata": {},
     "output_type": "execute_result"
    }
   ],
   "source": [
    "%viz --style=\"STDCOLOR\" --view=\"Tree\" \"Q\""
   ]
  },
  {
   "cell_type": "code",
   "execution_count": 25,
   "id": "c52cdc3d",
   "metadata": {
    "execution": {
     "iopub.execute_input": "2021-05-27T06:07:25.089894Z",
     "iopub.status.busy": "2021-05-27T06:07:25.088819Z",
     "iopub.status.idle": "2021-05-27T06:07:25.091981Z",
     "shell.execute_reply": "2021-05-27T06:07:25.090316Z"
    }
   },
   "outputs": [
    {
     "data": {
      "text/plain": [
       "ERROR:Couldn't resolve reference to Element 'Q'\n"
      ]
     },
     "execution_count": 25,
     "metadata": {},
     "output_type": "execute_result"
    }
   ],
   "source": [
    "%viz --style=\"STDCOLOR\" --view=\"State\" \"Q\""
   ]
  },
  {
   "cell_type": "code",
   "execution_count": 26,
   "id": "7621fd49",
   "metadata": {
    "execution": {
     "iopub.execute_input": "2021-05-27T06:07:25.143754Z",
     "iopub.status.busy": "2021-05-27T06:07:25.143055Z",
     "iopub.status.idle": "2021-05-27T06:07:25.145826Z",
     "shell.execute_reply": "2021-05-27T06:07:25.145397Z"
    }
   },
   "outputs": [
    {
     "data": {
      "text/plain": [
       "ERROR:Couldn't resolve reference to Element 'Q'\n"
      ]
     },
     "execution_count": 26,
     "metadata": {},
     "output_type": "execute_result"
    }
   ],
   "source": [
    "%viz --style=\"STDCOLOR\" --view=\"Interconnection\" \"Q\""
   ]
  },
  {
   "cell_type": "code",
   "execution_count": 27,
   "id": "42b80f95",
   "metadata": {
    "execution": {
     "iopub.execute_input": "2021-05-27T06:07:25.196430Z",
     "iopub.status.busy": "2021-05-27T06:07:25.195851Z",
     "iopub.status.idle": "2021-05-27T06:07:25.198013Z",
     "shell.execute_reply": "2021-05-27T06:07:25.196901Z"
    }
   },
   "outputs": [
    {
     "data": {
      "text/plain": [
       "ERROR:Couldn't resolve reference to Element 'Q'\n"
      ]
     },
     "execution_count": 27,
     "metadata": {},
     "output_type": "execute_result"
    }
   ],
   "source": [
    "%viz --style=\"STDCOLOR\" --view=\"Action\" \"Q\""
   ]
  },
  {
   "cell_type": "code",
   "execution_count": 28,
   "id": "42fe536f",
   "metadata": {
    "execution": {
     "iopub.execute_input": "2021-05-27T06:07:25.250257Z",
     "iopub.status.busy": "2021-05-27T06:07:25.249706Z",
     "iopub.status.idle": "2021-05-27T06:07:25.251795Z",
     "shell.execute_reply": "2021-05-27T06:07:25.250697Z"
    }
   },
   "outputs": [
    {
     "data": {
      "text/plain": [
       "ERROR:Couldn't resolve reference to Element 'Q'\n"
      ]
     },
     "execution_count": 28,
     "metadata": {},
     "output_type": "execute_result"
    }
   ],
   "source": [
    "%viz --style=\"STDCOLOR\" --view=\"Sequence\" \"Q\""
   ]
  },
  {
   "cell_type": "code",
   "execution_count": 29,
   "id": "0aec2222",
   "metadata": {
    "execution": {
     "iopub.execute_input": "2021-05-27T06:07:25.304209Z",
     "iopub.status.busy": "2021-05-27T06:07:25.303558Z",
     "iopub.status.idle": "2021-05-27T06:07:25.305979Z",
     "shell.execute_reply": "2021-05-27T06:07:25.304630Z"
    }
   },
   "outputs": [
    {
     "data": {
      "text/plain": [
       "ERROR:Couldn't resolve reference to Element 'Q'\n"
      ]
     },
     "execution_count": 29,
     "metadata": {},
     "output_type": "execute_result"
    }
   ],
   "source": [
    "%viz --style=\"STDCOLOR\" --view=\"MIXED\" \"Q\""
   ]
  },
  {
   "cell_type": "code",
   "execution_count": 30,
   "id": "c259166a",
   "metadata": {
    "execution": {
     "iopub.execute_input": "2021-05-27T06:07:25.357523Z",
     "iopub.status.busy": "2021-05-27T06:07:25.356919Z",
     "iopub.status.idle": "2021-05-27T06:07:25.359155Z",
     "shell.execute_reply": "2021-05-27T06:07:25.357998Z"
    }
   },
   "outputs": [
    {
     "data": {
      "text/plain": [
       "ERROR:Couldn't resolve reference to Element 'Q'\n"
      ]
     },
     "execution_count": 30,
     "metadata": {},
     "output_type": "execute_result"
    }
   ],
   "source": [
    "%viz --style=\"PLANTUML\" --view=\"Default\" \"Q\""
   ]
  },
  {
   "cell_type": "code",
   "execution_count": 31,
   "id": "e58f830b",
   "metadata": {
    "execution": {
     "iopub.execute_input": "2021-05-27T06:07:25.412085Z",
     "iopub.status.busy": "2021-05-27T06:07:25.411512Z",
     "iopub.status.idle": "2021-05-27T06:07:25.413550Z",
     "shell.execute_reply": "2021-05-27T06:07:25.412458Z"
    }
   },
   "outputs": [
    {
     "data": {
      "text/plain": [
       "ERROR:Couldn't resolve reference to Element 'Q'\n"
      ]
     },
     "execution_count": 31,
     "metadata": {},
     "output_type": "execute_result"
    }
   ],
   "source": [
    "%viz --style=\"PLANTUML\" --view=\"Tree\" \"Q\""
   ]
  },
  {
   "cell_type": "code",
   "execution_count": 32,
   "id": "f8ab799b",
   "metadata": {
    "execution": {
     "iopub.execute_input": "2021-05-27T06:07:25.465378Z",
     "iopub.status.busy": "2021-05-27T06:07:25.464750Z",
     "iopub.status.idle": "2021-05-27T06:07:25.467001Z",
     "shell.execute_reply": "2021-05-27T06:07:25.465849Z"
    }
   },
   "outputs": [
    {
     "data": {
      "text/plain": [
       "ERROR:Couldn't resolve reference to Element 'Q'\n"
      ]
     },
     "execution_count": 32,
     "metadata": {},
     "output_type": "execute_result"
    }
   ],
   "source": [
    "%viz --style=\"PLANTUML\" --view=\"State\" \"Q\""
   ]
  },
  {
   "cell_type": "code",
   "execution_count": 33,
   "id": "d51bf153",
   "metadata": {
    "execution": {
     "iopub.execute_input": "2021-05-27T06:07:25.519573Z",
     "iopub.status.busy": "2021-05-27T06:07:25.519001Z",
     "iopub.status.idle": "2021-05-27T06:07:25.521198Z",
     "shell.execute_reply": "2021-05-27T06:07:25.520068Z"
    }
   },
   "outputs": [
    {
     "data": {
      "text/plain": [
       "ERROR:Couldn't resolve reference to Element 'Q'\n"
      ]
     },
     "execution_count": 33,
     "metadata": {},
     "output_type": "execute_result"
    }
   ],
   "source": [
    "%viz --style=\"PLANTUML\" --view=\"Interconnection\" \"Q\""
   ]
  },
  {
   "cell_type": "code",
   "execution_count": 34,
   "id": "6bfe9868",
   "metadata": {
    "execution": {
     "iopub.execute_input": "2021-05-27T06:07:25.573238Z",
     "iopub.status.busy": "2021-05-27T06:07:25.572443Z",
     "iopub.status.idle": "2021-05-27T06:07:25.574936Z",
     "shell.execute_reply": "2021-05-27T06:07:25.573732Z"
    }
   },
   "outputs": [
    {
     "data": {
      "text/plain": [
       "ERROR:Couldn't resolve reference to Element 'Q'\n"
      ]
     },
     "execution_count": 34,
     "metadata": {},
     "output_type": "execute_result"
    }
   ],
   "source": [
    "%viz --style=\"PLANTUML\" --view=\"Action\" \"Q\""
   ]
  },
  {
   "cell_type": "code",
   "execution_count": 35,
   "id": "7f8d9364",
   "metadata": {
    "execution": {
     "iopub.execute_input": "2021-05-27T06:07:25.626387Z",
     "iopub.status.busy": "2021-05-27T06:07:25.625647Z",
     "iopub.status.idle": "2021-05-27T06:07:25.628017Z",
     "shell.execute_reply": "2021-05-27T06:07:25.626851Z"
    }
   },
   "outputs": [
    {
     "data": {
      "text/plain": [
       "ERROR:Couldn't resolve reference to Element 'Q'\n"
      ]
     },
     "execution_count": 35,
     "metadata": {},
     "output_type": "execute_result"
    }
   ],
   "source": [
    "%viz --style=\"PLANTUML\" --view=\"Sequence\" \"Q\""
   ]
  },
  {
   "cell_type": "code",
   "execution_count": 36,
   "id": "4e0cfa8f",
   "metadata": {
    "execution": {
     "iopub.execute_input": "2021-05-27T06:07:25.679663Z",
     "iopub.status.busy": "2021-05-27T06:07:25.678838Z",
     "iopub.status.idle": "2021-05-27T06:07:25.681187Z",
     "shell.execute_reply": "2021-05-27T06:07:25.680069Z"
    }
   },
   "outputs": [
    {
     "data": {
      "text/plain": [
       "ERROR:Couldn't resolve reference to Element 'Q'\n"
      ]
     },
     "execution_count": 36,
     "metadata": {},
     "output_type": "execute_result"
    }
   ],
   "source": [
    "%viz --style=\"PLANTUML\" --view=\"MIXED\" \"Q\""
   ]
  },
  {
   "cell_type": "code",
   "execution_count": 37,
   "id": "cbad05f2",
   "metadata": {
    "execution": {
     "iopub.execute_input": "2021-05-27T06:07:25.734209Z",
     "iopub.status.busy": "2021-05-27T06:07:25.733249Z",
     "iopub.status.idle": "2021-05-27T06:07:25.735776Z",
     "shell.execute_reply": "2021-05-27T06:07:25.734623Z"
    }
   },
   "outputs": [
    {
     "data": {
      "text/plain": [
       "ERROR:Couldn't resolve reference to Element 'Q'\n"
      ]
     },
     "execution_count": 37,
     "metadata": {},
     "output_type": "execute_result"
    }
   ],
   "source": [
    "%viz --style=\"DEFAULT\" --view=\"Default\" \"Q\""
   ]
  },
  {
   "cell_type": "code",
   "execution_count": 38,
   "id": "1bac4cd0",
   "metadata": {
    "execution": {
     "iopub.execute_input": "2021-05-27T06:07:25.786299Z",
     "iopub.status.busy": "2021-05-27T06:07:25.785740Z",
     "iopub.status.idle": "2021-05-27T06:07:25.787810Z",
     "shell.execute_reply": "2021-05-27T06:07:25.786713Z"
    }
   },
   "outputs": [
    {
     "data": {
      "text/plain": [
       "ERROR:Couldn't resolve reference to Element 'Q'\n"
      ]
     },
     "execution_count": 38,
     "metadata": {},
     "output_type": "execute_result"
    }
   ],
   "source": [
    "%viz --style=\"DEFAULT\" --view=\"Tree\" \"Q\""
   ]
  },
  {
   "cell_type": "code",
   "execution_count": 39,
   "id": "8a1da3d4",
   "metadata": {
    "execution": {
     "iopub.execute_input": "2021-05-27T06:07:25.839589Z",
     "iopub.status.busy": "2021-05-27T06:07:25.838689Z",
     "iopub.status.idle": "2021-05-27T06:07:25.841128Z",
     "shell.execute_reply": "2021-05-27T06:07:25.840001Z"
    }
   },
   "outputs": [
    {
     "data": {
      "text/plain": [
       "ERROR:Couldn't resolve reference to Element 'Q'\n"
      ]
     },
     "execution_count": 39,
     "metadata": {},
     "output_type": "execute_result"
    }
   ],
   "source": [
    "%viz --style=\"DEFAULT\" --view=\"State\" \"Q\""
   ]
  },
  {
   "cell_type": "code",
   "execution_count": 40,
   "id": "772f7cd5",
   "metadata": {
    "execution": {
     "iopub.execute_input": "2021-05-27T06:07:25.893946Z",
     "iopub.status.busy": "2021-05-27T06:07:25.892749Z",
     "iopub.status.idle": "2021-05-27T06:07:25.895551Z",
     "shell.execute_reply": "2021-05-27T06:07:25.894445Z"
    }
   },
   "outputs": [
    {
     "data": {
      "text/plain": [
       "ERROR:Couldn't resolve reference to Element 'Q'\n"
      ]
     },
     "execution_count": 40,
     "metadata": {},
     "output_type": "execute_result"
    }
   ],
   "source": [
    "%viz --style=\"DEFAULT\" --view=\"Interconnection\" \"Q\""
   ]
  },
  {
   "cell_type": "code",
   "execution_count": 41,
   "id": "2b5df59f",
   "metadata": {
    "execution": {
     "iopub.execute_input": "2021-05-27T06:07:25.947020Z",
     "iopub.status.busy": "2021-05-27T06:07:25.945997Z",
     "iopub.status.idle": "2021-05-27T06:07:25.948683Z",
     "shell.execute_reply": "2021-05-27T06:07:25.947412Z"
    }
   },
   "outputs": [
    {
     "data": {
      "text/plain": [
       "ERROR:Couldn't resolve reference to Element 'Q'\n"
      ]
     },
     "execution_count": 41,
     "metadata": {},
     "output_type": "execute_result"
    }
   ],
   "source": [
    "%viz --style=\"DEFAULT\" --view=\"Action\" \"Q\""
   ]
  },
  {
   "cell_type": "code",
   "execution_count": 42,
   "id": "d4d0160e",
   "metadata": {
    "execution": {
     "iopub.execute_input": "2021-05-27T06:07:25.998611Z",
     "iopub.status.busy": "2021-05-27T06:07:25.998008Z",
     "iopub.status.idle": "2021-05-27T06:07:26.000438Z",
     "shell.execute_reply": "2021-05-27T06:07:25.998923Z"
    }
   },
   "outputs": [
    {
     "data": {
      "text/plain": [
       "ERROR:Couldn't resolve reference to Element 'Q'\n"
      ]
     },
     "execution_count": 42,
     "metadata": {},
     "output_type": "execute_result"
    }
   ],
   "source": [
    "%viz --style=\"DEFAULT\" --view=\"Sequence\" \"Q\""
   ]
  },
  {
   "cell_type": "code",
   "execution_count": 43,
   "id": "42ee3087",
   "metadata": {
    "execution": {
     "iopub.execute_input": "2021-05-27T06:07:26.053409Z",
     "iopub.status.busy": "2021-05-27T06:07:26.052479Z",
     "iopub.status.idle": "2021-05-27T06:07:26.055191Z",
     "shell.execute_reply": "2021-05-27T06:07:26.053954Z"
    }
   },
   "outputs": [
    {
     "data": {
      "text/plain": [
       "ERROR:Couldn't resolve reference to Element 'Q'\n"
      ]
     },
     "execution_count": 43,
     "metadata": {},
     "output_type": "execute_result"
    }
   ],
   "source": [
    "%viz --style=\"DEFAULT\" --view=\"MIXED\" \"Q\""
   ]
  },
  {
   "cell_type": "code",
   "execution_count": 44,
   "id": "fb3f4dae",
   "metadata": {
    "execution": {
     "iopub.execute_input": "2021-05-27T06:07:26.106434Z",
     "iopub.status.busy": "2021-05-27T06:07:26.105643Z",
     "iopub.status.idle": "2021-05-27T06:07:26.108229Z",
     "shell.execute_reply": "2021-05-27T06:07:26.106955Z"
    }
   },
   "outputs": [
    {
     "data": {
      "text/plain": [
       "ERROR:Couldn't resolve reference to Element 'Q'\n"
      ]
     },
     "execution_count": 44,
     "metadata": {},
     "output_type": "execute_result"
    }
   ],
   "source": [
    "%viz --style=\"TB\" --view=\"Default\" \"Q\""
   ]
  },
  {
   "cell_type": "code",
   "execution_count": 45,
   "id": "41f06bfd",
   "metadata": {
    "execution": {
     "iopub.execute_input": "2021-05-27T06:07:26.159304Z",
     "iopub.status.busy": "2021-05-27T06:07:26.158607Z",
     "iopub.status.idle": "2021-05-27T06:07:26.161281Z",
     "shell.execute_reply": "2021-05-27T06:07:26.159853Z"
    }
   },
   "outputs": [
    {
     "data": {
      "text/plain": [
       "ERROR:Couldn't resolve reference to Element 'Q'\n"
      ]
     },
     "execution_count": 45,
     "metadata": {},
     "output_type": "execute_result"
    }
   ],
   "source": [
    "%viz --style=\"TB\" --view=\"Tree\" \"Q\""
   ]
  },
  {
   "cell_type": "code",
   "execution_count": 46,
   "id": "753769f0",
   "metadata": {
    "execution": {
     "iopub.execute_input": "2021-05-27T06:07:26.213995Z",
     "iopub.status.busy": "2021-05-27T06:07:26.212900Z",
     "iopub.status.idle": "2021-05-27T06:07:26.215764Z",
     "shell.execute_reply": "2021-05-27T06:07:26.214415Z"
    }
   },
   "outputs": [
    {
     "data": {
      "text/plain": [
       "ERROR:Couldn't resolve reference to Element 'Q'\n"
      ]
     },
     "execution_count": 46,
     "metadata": {},
     "output_type": "execute_result"
    }
   ],
   "source": [
    "%viz --style=\"TB\" --view=\"State\" \"Q\""
   ]
  },
  {
   "cell_type": "code",
   "execution_count": 47,
   "id": "0bdb9ce0",
   "metadata": {
    "execution": {
     "iopub.execute_input": "2021-05-27T06:07:26.267115Z",
     "iopub.status.busy": "2021-05-27T06:07:26.266244Z",
     "iopub.status.idle": "2021-05-27T06:07:26.268777Z",
     "shell.execute_reply": "2021-05-27T06:07:26.267542Z"
    }
   },
   "outputs": [
    {
     "data": {
      "text/plain": [
       "ERROR:Couldn't resolve reference to Element 'Q'\n"
      ]
     },
     "execution_count": 47,
     "metadata": {},
     "output_type": "execute_result"
    }
   ],
   "source": [
    "%viz --style=\"TB\" --view=\"Interconnection\" \"Q\""
   ]
  },
  {
   "cell_type": "code",
   "execution_count": 48,
   "id": "90aa109d",
   "metadata": {
    "execution": {
     "iopub.execute_input": "2021-05-27T06:07:26.320898Z",
     "iopub.status.busy": "2021-05-27T06:07:26.319974Z",
     "iopub.status.idle": "2021-05-27T06:07:26.322515Z",
     "shell.execute_reply": "2021-05-27T06:07:26.321369Z"
    }
   },
   "outputs": [
    {
     "data": {
      "text/plain": [
       "ERROR:Couldn't resolve reference to Element 'Q'\n"
      ]
     },
     "execution_count": 48,
     "metadata": {},
     "output_type": "execute_result"
    }
   ],
   "source": [
    "%viz --style=\"TB\" --view=\"Action\" \"Q\""
   ]
  },
  {
   "cell_type": "code",
   "execution_count": 49,
   "id": "862b3154",
   "metadata": {
    "execution": {
     "iopub.execute_input": "2021-05-27T06:07:26.374254Z",
     "iopub.status.busy": "2021-05-27T06:07:26.373292Z",
     "iopub.status.idle": "2021-05-27T06:07:26.376070Z",
     "shell.execute_reply": "2021-05-27T06:07:26.374853Z"
    }
   },
   "outputs": [
    {
     "data": {
      "text/plain": [
       "ERROR:Couldn't resolve reference to Element 'Q'\n"
      ]
     },
     "execution_count": 49,
     "metadata": {},
     "output_type": "execute_result"
    }
   ],
   "source": [
    "%viz --style=\"TB\" --view=\"Sequence\" \"Q\""
   ]
  },
  {
   "cell_type": "code",
   "execution_count": 50,
   "id": "793e97e0",
   "metadata": {
    "execution": {
     "iopub.execute_input": "2021-05-27T06:07:26.427612Z",
     "iopub.status.busy": "2021-05-27T06:07:26.426402Z",
     "iopub.status.idle": "2021-05-27T06:07:26.429294Z",
     "shell.execute_reply": "2021-05-27T06:07:26.428161Z"
    }
   },
   "outputs": [
    {
     "data": {
      "text/plain": [
       "ERROR:Couldn't resolve reference to Element 'Q'\n"
      ]
     },
     "execution_count": 50,
     "metadata": {},
     "output_type": "execute_result"
    }
   ],
   "source": [
    "%viz --style=\"TB\" --view=\"MIXED\" \"Q\""
   ]
  },
  {
   "cell_type": "code",
   "execution_count": 51,
   "id": "78611524",
   "metadata": {
    "execution": {
     "iopub.execute_input": "2021-05-27T06:07:26.480173Z",
     "iopub.status.busy": "2021-05-27T06:07:26.479464Z",
     "iopub.status.idle": "2021-05-27T06:07:26.481932Z",
     "shell.execute_reply": "2021-05-27T06:07:26.481548Z"
    }
   },
   "outputs": [
    {
     "data": {
      "text/plain": [
       "ERROR:Couldn't resolve reference to Element 'Q'\n"
      ]
     },
     "execution_count": 51,
     "metadata": {},
     "output_type": "execute_result"
    }
   ],
   "source": [
    "%viz --style=\"ORTHOLINE\" --view=\"Default\" \"Q\""
   ]
  },
  {
   "cell_type": "code",
   "execution_count": 52,
   "id": "592a8f79",
   "metadata": {
    "execution": {
     "iopub.execute_input": "2021-05-27T06:07:26.534976Z",
     "iopub.status.busy": "2021-05-27T06:07:26.534080Z",
     "iopub.status.idle": "2021-05-27T06:07:26.537051Z",
     "shell.execute_reply": "2021-05-27T06:07:26.535611Z"
    }
   },
   "outputs": [
    {
     "data": {
      "text/plain": [
       "ERROR:Couldn't resolve reference to Element 'Q'\n"
      ]
     },
     "execution_count": 52,
     "metadata": {},
     "output_type": "execute_result"
    }
   ],
   "source": [
    "%viz --style=\"ORTHOLINE\" --view=\"Tree\" \"Q\""
   ]
  },
  {
   "cell_type": "code",
   "execution_count": 53,
   "id": "8637d955",
   "metadata": {
    "execution": {
     "iopub.execute_input": "2021-05-27T06:07:26.587940Z",
     "iopub.status.busy": "2021-05-27T06:07:26.586929Z",
     "iopub.status.idle": "2021-05-27T06:07:26.589698Z",
     "shell.execute_reply": "2021-05-27T06:07:26.588398Z"
    }
   },
   "outputs": [
    {
     "data": {
      "text/plain": [
       "ERROR:Couldn't resolve reference to Element 'Q'\n"
      ]
     },
     "execution_count": 53,
     "metadata": {},
     "output_type": "execute_result"
    }
   ],
   "source": [
    "%viz --style=\"ORTHOLINE\" --view=\"State\" \"Q\""
   ]
  },
  {
   "cell_type": "code",
   "execution_count": 54,
   "id": "75dbce7c",
   "metadata": {
    "execution": {
     "iopub.execute_input": "2021-05-27T06:07:26.642438Z",
     "iopub.status.busy": "2021-05-27T06:07:26.641334Z",
     "iopub.status.idle": "2021-05-27T06:07:26.644472Z",
     "shell.execute_reply": "2021-05-27T06:07:26.642996Z"
    }
   },
   "outputs": [
    {
     "data": {
      "text/plain": [
       "ERROR:Couldn't resolve reference to Element 'Q'\n"
      ]
     },
     "execution_count": 54,
     "metadata": {},
     "output_type": "execute_result"
    }
   ],
   "source": [
    "%viz --style=\"ORTHOLINE\" --view=\"Interconnection\" \"Q\""
   ]
  },
  {
   "cell_type": "code",
   "execution_count": 55,
   "id": "0b41650e",
   "metadata": {
    "execution": {
     "iopub.execute_input": "2021-05-27T06:07:26.695217Z",
     "iopub.status.busy": "2021-05-27T06:07:26.694168Z",
     "iopub.status.idle": "2021-05-27T06:07:26.696938Z",
     "shell.execute_reply": "2021-05-27T06:07:26.695780Z"
    }
   },
   "outputs": [
    {
     "data": {
      "text/plain": [
       "ERROR:Couldn't resolve reference to Element 'Q'\n"
      ]
     },
     "execution_count": 55,
     "metadata": {},
     "output_type": "execute_result"
    }
   ],
   "source": [
    "%viz --style=\"ORTHOLINE\" --view=\"Action\" \"Q\""
   ]
  },
  {
   "cell_type": "code",
   "execution_count": 56,
   "id": "bbdf3e46",
   "metadata": {
    "execution": {
     "iopub.execute_input": "2021-05-27T06:07:26.748285Z",
     "iopub.status.busy": "2021-05-27T06:07:26.747643Z",
     "iopub.status.idle": "2021-05-27T06:07:26.749992Z",
     "shell.execute_reply": "2021-05-27T06:07:26.748780Z"
    }
   },
   "outputs": [
    {
     "data": {
      "text/plain": [
       "ERROR:Couldn't resolve reference to Element 'Q'\n"
      ]
     },
     "execution_count": 56,
     "metadata": {},
     "output_type": "execute_result"
    }
   ],
   "source": [
    "%viz --style=\"ORTHOLINE\" --view=\"Sequence\" \"Q\""
   ]
  },
  {
   "cell_type": "code",
   "execution_count": 57,
   "id": "fce066e0",
   "metadata": {
    "execution": {
     "iopub.execute_input": "2021-05-27T06:07:26.801077Z",
     "iopub.status.busy": "2021-05-27T06:07:26.800366Z",
     "iopub.status.idle": "2021-05-27T06:07:26.802608Z",
     "shell.execute_reply": "2021-05-27T06:07:26.802219Z"
    }
   },
   "outputs": [
    {
     "data": {
      "text/plain": [
       "ERROR:Couldn't resolve reference to Element 'Q'\n"
      ]
     },
     "execution_count": 57,
     "metadata": {},
     "output_type": "execute_result"
    }
   ],
   "source": [
    "%viz --style=\"ORTHOLINE\" --view=\"MIXED\" \"Q\""
   ]
  }
 ],
 "metadata": {
  "kernelspec": {
   "display_name": "SysML",
   "language": "sysml",
   "name": "sysml"
  },
  "language_info": {
   "codemirror_mode": "sysml",
   "file_extension": ".sysml",
   "mimetype": "text/x-sysml",
   "name": "SysML",
   "pygments_lexer": "java",
   "version": "1.0.0"
  }
 },
 "nbformat": 4,
 "nbformat_minor": 5
}
